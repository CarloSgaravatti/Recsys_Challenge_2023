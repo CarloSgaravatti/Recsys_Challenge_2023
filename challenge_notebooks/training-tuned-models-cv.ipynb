{
 "cells": [
  {
   "cell_type": "code",
   "execution_count": 1,
   "id": "94ae4534",
   "metadata": {
    "execution": {
     "iopub.execute_input": "2023-12-10T16:33:53.262455Z",
     "iopub.status.busy": "2023-12-10T16:33:53.261893Z",
     "iopub.status.idle": "2023-12-10T16:34:17.486184Z",
     "shell.execute_reply": "2023-12-10T16:34:17.484622Z"
    },
    "papermill": {
     "duration": 24.238776,
     "end_time": "2023-12-10T16:34:17.489214",
     "exception": false,
     "start_time": "2023-12-10T16:33:53.250438",
     "status": "completed"
    },
    "tags": []
   },
   "outputs": [
    {
     "name": "stdout",
     "output_type": "stream",
     "text": [
      "Cloning into 'Recsys_Challenge_2023'...\r\n",
      "remote: Enumerating objects: 3065, done.\u001b[K\r\n",
      "remote: Counting objects: 100% (11/11), done.\u001b[K\r\n",
      "remote: Compressing objects: 100% (7/7), done.\u001b[K\r\n",
      "remote: Total 3065 (delta 9), reused 4 (delta 4), pack-reused 3054\u001b[K\r\n",
      "Receiving objects: 100% (3065/3065), 411.06 MiB | 22.79 MiB/s, done.\r\n",
      "Resolving deltas: 100% (2491/2491), done.\r\n"
     ]
    }
   ],
   "source": [
    "from kaggle_secrets import UserSecretsClient\n",
    "secret_label = \"Token\"\n",
    "token = UserSecretsClient().get_secret(secret_label)\n",
    "\n",
    "! git clone https://{token}@github.com/CarloSgaravatti/Recsys_Challenge_2023.git"
   ]
  },
  {
   "cell_type": "code",
   "execution_count": 2,
   "id": "ed5db118",
   "metadata": {
    "execution": {
     "iopub.execute_input": "2023-12-10T16:34:17.524655Z",
     "iopub.status.busy": "2023-12-10T16:34:17.523197Z",
     "iopub.status.idle": "2023-12-10T16:34:35.417025Z",
     "shell.execute_reply": "2023-12-10T16:34:35.415052Z"
    },
    "papermill": {
     "duration": 17.915609,
     "end_time": "2023-12-10T16:34:35.420729",
     "exception": false,
     "start_time": "2023-12-10T16:34:17.505120",
     "status": "completed"
    },
    "tags": []
   },
   "outputs": [
    {
     "name": "stdout",
     "output_type": "stream",
     "text": [
      "Collecting PyGithub\r\n",
      "  Obtaining dependency information for PyGithub from https://files.pythonhosted.org/packages/be/04/810d131be173cba445d3658a45512b2b2b3d0960d52c4a300d6ec5e00f52/PyGithub-2.1.1-py3-none-any.whl.metadata\r\n",
      "  Downloading PyGithub-2.1.1-py3-none-any.whl.metadata (2.2 kB)\r\n",
      "Requirement already satisfied: requests in /opt/conda/lib/python3.10/site-packages (2.31.0)\r\n",
      "Collecting pynacl>=1.4.0 (from PyGithub)\r\n",
      "  Downloading PyNaCl-1.5.0-cp36-abi3-manylinux_2_17_x86_64.manylinux2014_x86_64.manylinux_2_24_x86_64.whl (856 kB)\r\n",
      "\u001b[2K     \u001b[90m━━━━━━━━━━━━━━━━━━━━━━━━━━━━━━━━━━━━━━\u001b[0m \u001b[32m856.7/856.7 kB\u001b[0m \u001b[31m11.0 MB/s\u001b[0m eta \u001b[36m0:00:00\u001b[0m\r\n",
      "\u001b[?25hRequirement already satisfied: python-dateutil in /opt/conda/lib/python3.10/site-packages (from PyGithub) (2.8.2)\r\n",
      "Requirement already satisfied: pyjwt[crypto]>=2.4.0 in /opt/conda/lib/python3.10/site-packages (from PyGithub) (2.8.0)\r\n",
      "Requirement already satisfied: typing-extensions>=4.0.0 in /opt/conda/lib/python3.10/site-packages (from PyGithub) (4.5.0)\r\n",
      "Requirement already satisfied: urllib3>=1.26.0 in /opt/conda/lib/python3.10/site-packages (from PyGithub) (1.26.15)\r\n",
      "Requirement already satisfied: Deprecated in /opt/conda/lib/python3.10/site-packages (from PyGithub) (1.2.14)\r\n",
      "Requirement already satisfied: charset-normalizer<4,>=2 in /opt/conda/lib/python3.10/site-packages (from requests) (3.2.0)\r\n",
      "Requirement already satisfied: idna<4,>=2.5 in /opt/conda/lib/python3.10/site-packages (from requests) (3.4)\r\n",
      "Requirement already satisfied: certifi>=2017.4.17 in /opt/conda/lib/python3.10/site-packages (from requests) (2023.7.22)\r\n",
      "Requirement already satisfied: cryptography>=3.4.0 in /opt/conda/lib/python3.10/site-packages (from pyjwt[crypto]>=2.4.0->PyGithub) (40.0.2)\r\n",
      "Requirement already satisfied: cffi>=1.4.1 in /opt/conda/lib/python3.10/site-packages (from pynacl>=1.4.0->PyGithub) (1.15.1)\r\n",
      "Requirement already satisfied: wrapt<2,>=1.10 in /opt/conda/lib/python3.10/site-packages (from Deprecated->PyGithub) (1.15.0)\r\n",
      "Requirement already satisfied: six>=1.5 in /opt/conda/lib/python3.10/site-packages (from python-dateutil->PyGithub) (1.16.0)\r\n",
      "Requirement already satisfied: pycparser in /opt/conda/lib/python3.10/site-packages (from cffi>=1.4.1->pynacl>=1.4.0->PyGithub) (2.21)\r\n",
      "Downloading PyGithub-2.1.1-py3-none-any.whl (302 kB)\r\n",
      "\u001b[2K   \u001b[90m━━━━━━━━━━━━━━━━━━━━━━━━━━━━━━━━━━━━━━━━\u001b[0m \u001b[32m302.9/302.9 kB\u001b[0m \u001b[31m19.4 MB/s\u001b[0m eta \u001b[36m0:00:00\u001b[0m\r\n",
      "\u001b[?25hInstalling collected packages: pynacl, PyGithub\r\n",
      "Successfully installed PyGithub-2.1.1 pynacl-1.5.0\r\n"
     ]
    }
   ],
   "source": [
    "! pip install PyGithub requests"
   ]
  },
  {
   "cell_type": "code",
   "execution_count": 3,
   "id": "9c561042",
   "metadata": {
    "_kg_hide-output": true,
    "execution": {
     "iopub.execute_input": "2023-12-10T16:34:35.463239Z",
     "iopub.status.busy": "2023-12-10T16:34:35.462712Z",
     "iopub.status.idle": "2023-12-10T16:37:21.505979Z",
     "shell.execute_reply": "2023-12-10T16:37:21.504576Z"
    },
    "papermill": {
     "duration": 166.068345,
     "end_time": "2023-12-10T16:37:21.509084",
     "exception": false,
     "start_time": "2023-12-10T16:34:35.440739",
     "status": "completed"
    },
    "scrolled": true,
    "tags": []
   },
   "outputs": [
    {
     "name": "stdout",
     "output_type": "stream",
     "text": [
      "run_compile_all_cython: Found 10 Cython files in 4 folders...\r\n",
      "run_compile_all_cython: All files will be compiled using your current python environment: '/opt/conda/bin/python'\r\n",
      "Compiling [1/10]: MatrixFactorization_Cython_Epoch.pyx... \r\n",
      "In file included from \u001b[01m\u001b[K/opt/conda/lib/python3.10/site-packages/numpy/core/include/numpy/ndarraytypes.h:1940\u001b[m\u001b[K,\r\n",
      "                 from \u001b[01m\u001b[K/opt/conda/lib/python3.10/site-packages/numpy/core/include/numpy/ndarrayobject.h:12\u001b[m\u001b[K,\r\n",
      "                 from \u001b[01m\u001b[K/opt/conda/lib/python3.10/site-packages/numpy/core/include/numpy/arrayobject.h:5\u001b[m\u001b[K,\r\n",
      "                 from \u001b[01m\u001b[KMatrixFactorization_Cython_Epoch.c:1109\u001b[m\u001b[K:\r\n",
      "\u001b[01m\u001b[K/opt/conda/lib/python3.10/site-packages/numpy/core/include/numpy/npy_1_7_deprecated_api.h:17:2:\u001b[m\u001b[K \u001b[01;35m\u001b[Kwarning: \u001b[m\u001b[K#warning \"Using deprecated NumPy API, disable it with \" \"#define NPY_NO_DEPRECATED_API NPY_1_7_API_VERSION\" [\u001b[01;35m\u001b[K-Wcpp\u001b[m\u001b[K]\r\n",
      "   17 | #\u001b[01;35m\u001b[Kwarning\u001b[m\u001b[K \"Using deprecated NumPy API, disable it with \" \\\r\n",
      "      |  \u001b[01;35m\u001b[K^~~~~~~\u001b[m\u001b[K\r\n",
      "\u001b[01m\u001b[KMatrixFactorization_Cython_Epoch.c:\u001b[m\u001b[K In function ‘\u001b[01m\u001b[K__pyx_pf_32MatrixFactorization_Cython_Epoch_32MatrixFactorization_Cython_Epoch_10epochIteration_Cython_ASY_SVD_SGD\u001b[m\u001b[K’:\r\n",
      "\u001b[01m\u001b[KMatrixFactorization_Cython_Epoch.c:25614:9:\u001b[m\u001b[K \u001b[01;35m\u001b[Kwarning: \u001b[m\u001b[K‘\u001b[01m\u001b[K__pyx_v_end_pos_seen_items\u001b[m\u001b[K’ may be used uninitialized in this function [\u001b[01;35m\u001b[K-Wmaybe-uninitialized\u001b[m\u001b[K]\r\n",
      "25614 |         \u001b[01;35m\u001b[Kfor\u001b[m\u001b[K (__pyx_t_21 = __pyx_v_start_pos_seen_items; __pyx_t_21 < __pyx_t_20; __pyx_t_21+=1) {\r\n",
      "      |         \u001b[01;35m\u001b[K^~~\u001b[m\u001b[K\r\n",
      "\u001b[01m\u001b[KMatrixFactorization_Cython_Epoch.c:25614:9:\u001b[m\u001b[K \u001b[01;35m\u001b[Kwarning: \u001b[m\u001b[K‘\u001b[01m\u001b[K__pyx_v_start_pos_seen_items\u001b[m\u001b[K’ may be used uninitialized in this function [\u001b[01;35m\u001b[K-Wmaybe-uninitialized\u001b[m\u001b[K]\r\n",
      "/opt/conda/lib/python3.10/site-packages/Cython/Compiler/Main.py:381: FutureWarning: Cython directive 'language_level' not set, using '3str' for now (Py3). This has changed from earlier releases! File: /kaggle/working/Recsys_Challenge_2023/Recommenders/MatrixFactorization/Cython/MatrixFactorization_Cython_Epoch.pyx\r\n",
      "  tree = Parsing.p_module(s, pxd, full_module_name)\r\n",
      "Compiling [1/10]: MatrixFactorization_Cython_Epoch.pyx... PASS\r\n",
      "\r\n",
      "Compiling [2/10]: MatrixFactorizationImpressions_Cython_Epoch.pyx... \r\n",
      "In file included from \u001b[01m\u001b[K/opt/conda/lib/python3.10/site-packages/numpy/core/include/numpy/ndarraytypes.h:1940\u001b[m\u001b[K,\r\n",
      "                 from \u001b[01m\u001b[K/opt/conda/lib/python3.10/site-packages/numpy/core/include/numpy/ndarrayobject.h:12\u001b[m\u001b[K,\r\n",
      "                 from \u001b[01m\u001b[K/opt/conda/lib/python3.10/site-packages/numpy/core/include/numpy/arrayobject.h:5\u001b[m\u001b[K,\r\n",
      "                 from \u001b[01m\u001b[KMatrixFactorizationImpressions_Cython_Epoch.c:1109\u001b[m\u001b[K:\r\n",
      "\u001b[01m\u001b[K/opt/conda/lib/python3.10/site-packages/numpy/core/include/numpy/npy_1_7_deprecated_api.h:17:2:\u001b[m\u001b[K \u001b[01;35m\u001b[Kwarning: \u001b[m\u001b[K#warning \"Using deprecated NumPy API, disable it with \" \"#define NPY_NO_DEPRECATED_API NPY_1_7_API_VERSION\" [\u001b[01;35m\u001b[K-Wcpp\u001b[m\u001b[K]\r\n",
      "   17 | #\u001b[01;35m\u001b[Kwarning\u001b[m\u001b[K \"Using deprecated NumPy API, disable it with \" \\\r\n",
      "      |  \u001b[01;35m\u001b[K^~~~~~~\u001b[m\u001b[K\r\n",
      "\u001b[01m\u001b[KMatrixFactorizationImpressions_Cython_Epoch.c:\u001b[m\u001b[K In function ‘\u001b[01m\u001b[K__pyx_f_43MatrixFactorizationImpressions_Cython_Epoch_32MatrixFactorization_Cython_Epoch_sampleBPR_Cython\u001b[m\u001b[K’:\r\n",
      "\u001b[01m\u001b[KMatrixFactorizationImpressions_Cython_Epoch.c:29664:17:\u001b[m\u001b[K \u001b[01;35m\u001b[Kwarning: \u001b[m\u001b[K‘\u001b[01m\u001b[K__pyx_v_start_pos_impression_items\u001b[m\u001b[K’ may be used uninitialized in this function [\u001b[01;35m\u001b[K-Wmaybe-uninitialized\u001b[m\u001b[K]\r\n",
      "29664 |       \u001b[01;35m\u001b[K__pyx_t_4 = (__pyx_v_start_pos_impression_items + __pyx_v_index)\u001b[m\u001b[K;\r\n",
      "      |       \u001b[01;35m\u001b[K~~~~~~~~~~^~~~~~~~~~~~~~~~~~~~~~~~~~~~~~~~~~~~~~~~~~~~~~~~~~~~~~\u001b[m\u001b[K\r\n",
      "\u001b[01m\u001b[KMatrixFactorizationImpressions_Cython_Epoch.c:\u001b[m\u001b[K In function ‘\u001b[01m\u001b[K__pyx_pf_43MatrixFactorizationImpressions_Cython_Epoch_32MatrixFactorization_Cython_Epoch_10epochIteration_Cython_ASY_SVD_SGD\u001b[m\u001b[K’:\r\n",
      "\u001b[01m\u001b[KMatrixFactorizationImpressions_Cython_Epoch.c:25474:7:\u001b[m\u001b[K \u001b[01;35m\u001b[Kwarning: \u001b[m\u001b[K‘\u001b[01m\u001b[K__pyx_v_end_pos_seen_items\u001b[m\u001b[K’ may be used uninitialized in this function [\u001b[01;35m\u001b[K-Wmaybe-uninitialized\u001b[m\u001b[K]\r\n",
      "25474 |       \u001b[01;35m\u001b[Kfor\u001b[m\u001b[K (__pyx_t_21 = __pyx_v_start_pos_seen_items; __pyx_t_21 < __pyx_t_20; __pyx_t_21+=1) {\r\n",
      "      |       \u001b[01;35m\u001b[K^~~\u001b[m\u001b[K\r\n",
      "\u001b[01m\u001b[KMatrixFactorizationImpressions_Cython_Epoch.c:25474:7:\u001b[m\u001b[K \u001b[01;35m\u001b[Kwarning: \u001b[m\u001b[K‘\u001b[01m\u001b[K__pyx_v_start_pos_seen_items\u001b[m\u001b[K’ may be used uninitialized in this function [\u001b[01;35m\u001b[K-Wmaybe-uninitialized\u001b[m\u001b[K]\r\n",
      "/opt/conda/lib/python3.10/site-packages/Cython/Compiler/Main.py:381: FutureWarning: Cython directive 'language_level' not set, using '3str' for now (Py3). This has changed from earlier releases! File: /kaggle/working/Recsys_Challenge_2023/Recommenders/MatrixFactorization/Cython/MatrixFactorizationImpressions_Cython_Epoch.pyx\r\n",
      "  tree = Parsing.p_module(s, pxd, full_module_name)\r\n",
      "Compiling [2/10]: MatrixFactorizationImpressions_Cython_Epoch.pyx... PASS\r\n",
      "\r\n",
      "Compiling [3/10]: Compute_Similarity_Cython.pyx... \r\n",
      "warning: Compute_Similarity_Cython.pyx:21:0: The 'IF' statement is deprecated and will be removed in a future Cython version. Consider using runtime conditions or C macros instead. See https://github.com/cython/cython/issues/4310\r\n",
      "warning: Compute_Similarity_Cython.pyx:22:4: The 'DEF' statement is deprecated and will be removed in a future Cython version. Consider using global variables, constants, and in-place literals instead. See https://github.com/cython/cython/issues/4310\r\n",
      "warning: Compute_Similarity_Cython.pyx:24:4: The 'DEF' statement is deprecated and will be removed in a future Cython version. Consider using global variables, constants, and in-place literals instead. See https://github.com/cython/cython/issues/4310\r\n",
      "warning: Compute_Similarity_Cython.pyx:26:4: The 'DEF' statement is deprecated and will be removed in a future Cython version. Consider using global variables, constants, and in-place literals instead. See https://github.com/cython/cython/issues/4310\r\n",
      "In file included from \u001b[01m\u001b[K/opt/conda/lib/python3.10/site-packages/numpy/core/include/numpy/ndarraytypes.h:1940\u001b[m\u001b[K,\r\n",
      "                 from \u001b[01m\u001b[K/opt/conda/lib/python3.10/site-packages/numpy/core/include/numpy/ndarrayobject.h:12\u001b[m\u001b[K,\r\n",
      "                 from \u001b[01m\u001b[K/opt/conda/lib/python3.10/site-packages/numpy/core/include/numpy/arrayobject.h:5\u001b[m\u001b[K,\r\n",
      "                 from \u001b[01m\u001b[KCompute_Similarity_Cython.c:1109\u001b[m\u001b[K:\r\n",
      "\u001b[01m\u001b[K/opt/conda/lib/python3.10/site-packages/numpy/core/include/numpy/npy_1_7_deprecated_api.h:17:2:\u001b[m\u001b[K \u001b[01;35m\u001b[Kwarning: \u001b[m\u001b[K#warning \"Using deprecated NumPy API, disable it with \" \"#define NPY_NO_DEPRECATED_API NPY_1_7_API_VERSION\" [\u001b[01;35m\u001b[K-Wcpp\u001b[m\u001b[K]\r\n",
      "   17 | #\u001b[01;35m\u001b[Kwarning\u001b[m\u001b[K \"Using deprecated NumPy API, disable it with \" \\\r\n",
      "      |  \u001b[01;35m\u001b[K^~~~~~~\u001b[m\u001b[K\r\n",
      "/opt/conda/lib/python3.10/site-packages/Cython/Compiler/Main.py:381: FutureWarning: Cython directive 'language_level' not set, using '3str' for now (Py3). This has changed from earlier releases! File: /kaggle/working/Recsys_Challenge_2023/Recommenders/Similarity/Cython/Compute_Similarity_Cython.pyx\r\n",
      "  tree = Parsing.p_module(s, pxd, full_module_name)\r\n",
      "warning: Compute_Similarity_Cython.pyx:21:0: The 'IF' statement is deprecated and will be removed in a future Cython version. Consider using runtime conditions or C macros instead. See https://github.com/cython/cython/issues/4310\r\n",
      "warning: Compute_Similarity_Cython.pyx:22:4: The 'DEF' statement is deprecated and will be removed in a future Cython version. Consider using global variables, constants, and in-place literals instead. See https://github.com/cython/cython/issues/4310\r\n",
      "warning: Compute_Similarity_Cython.pyx:24:4: The 'DEF' statement is deprecated and will be removed in a future Cython version. Consider using global variables, constants, and in-place literals instead. See https://github.com/cython/cython/issues/4310\r\n",
      "warning: Compute_Similarity_Cython.pyx:26:4: The 'DEF' statement is deprecated and will be removed in a future Cython version. Consider using global variables, constants, and in-place literals instead. See https://github.com/cython/cython/issues/4310\r\n",
      "Compiling [3/10]: Compute_Similarity_Cython.pyx... PASS\r\n",
      "\r\n",
      "Compiling [4/10]: SLIM_BPR_Cython_Epoch.pyx... \r\n",
      "warning: SLIM_BPR_Cython_Epoch.pyx:24:0: The 'IF' statement is deprecated and will be removed in a future Cython version. Consider using runtime conditions or C macros instead. See https://github.com/cython/cython/issues/4310\r\n",
      "warning: SLIM_BPR_Cython_Epoch.pyx:25:4: The 'DEF' statement is deprecated and will be removed in a future Cython version. Consider using global variables, constants, and in-place literals instead. See https://github.com/cython/cython/issues/4310\r\n",
      "warning: SLIM_BPR_Cython_Epoch.pyx:27:4: The 'DEF' statement is deprecated and will be removed in a future Cython version. Consider using global variables, constants, and in-place literals instead. See https://github.com/cython/cython/issues/4310\r\n",
      "warning: SLIM_BPR_Cython_Epoch.pyx:29:4: The 'DEF' statement is deprecated and will be removed in a future Cython version. Consider using global variables, constants, and in-place literals instead. See https://github.com/cython/cython/issues/4310\r\n",
      "warning: SLIM_BPR_Cython_Epoch.pyx:632:34: Non-trivial type declarators in shared declaration (e.g. mix of pointers and values). Each pointer declaration should be on its own line.\r\n",
      "warning: SLIM_BPR_Cython_Epoch.pyx:632:66: Non-trivial type declarators in shared declaration (e.g. mix of pointers and values). Each pointer declaration should be on its own line.\r\n",
      "warning: SLIM_BPR_Cython_Epoch.pyx:817:35: Non-trivial type declarators in shared declaration (e.g. mix of pointers and values). Each pointer declaration should be on its own line.\r\n",
      "warning: SLIM_BPR_Cython_Epoch.pyx:817:52: Non-trivial type declarators in shared declaration (e.g. mix of pointers and values). Each pointer declaration should be on its own line.\r\n",
      "warning: SLIM_BPR_Cython_Epoch.pyx:916:35: Non-trivial type declarators in shared declaration (e.g. mix of pointers and values). Each pointer declaration should be on its own line.\r\n",
      "warning: SLIM_BPR_Cython_Epoch.pyx:916:53: Non-trivial type declarators in shared declaration (e.g. mix of pointers and values). Each pointer declaration should be on its own line.\r\n",
      "warning: SLIM_BPR_Cython_Epoch.pyx:916:69: Non-trivial type declarators in shared declaration (e.g. mix of pointers and values). Each pointer declaration should be on its own line.\r\n",
      "warning: SLIM_BPR_Cython_Epoch.pyx:1051:35: Non-trivial type declarators in shared declaration (e.g. mix of pointers and values). Each pointer declaration should be on its own line.\r\n",
      "warning: SLIM_BPR_Cython_Epoch.pyx:1051:42: Non-trivial type declarators in shared declaration (e.g. mix of pointers and values). Each pointer declaration should be on its own line.\r\n",
      "warning: SLIM_BPR_Cython_Epoch.pyx:1052:35: Non-trivial type declarators in shared declaration (e.g. mix of pointers and values). Each pointer declaration should be on its own line.\r\n",
      "warning: SLIM_BPR_Cython_Epoch.pyx:1052:53: Non-trivial type declarators in shared declaration (e.g. mix of pointers and values). Each pointer declaration should be on its own line.\r\n",
      "\r\n",
      "Error compiling Cython file:\r\n",
      "------------------------------------------------------------\r\n",
      "...\r\n",
      "            vector_pointer_to_list_elements[index].head = current_element\r\n",
      "            current_element = current_element.higher\r\n",
      "\r\n",
      "\r\n",
      "        # Sort array elements on their data field\r\n",
      "        qsort(vector_pointer_to_list_elements, list_length, sizeof(head_pointer_tree_s), compare_struct_on_data)\r\n",
      "                                                                                         ^\r\n",
      "------------------------------------------------------------\r\n",
      "\r\n",
      "SLIM_BPR_Cython_Epoch.pyx:990:89: Cannot assign type 'int (const void *, const void *) except? -1' to 'int (*)(const_void *, const_void *) noexcept'\r\n",
      "\r\n",
      "Error compiling Cython file:\r\n",
      "------------------------------------------------------------\r\n",
      "...\r\n",
      "        # Sort array elements on their data field\r\n",
      "        qsort(vector_pointer_to_list_elements, list_length, sizeof(head_pointer_tree_s), compare_struct_on_data)\r\n",
      "\r\n",
      "        # Sort only the TopK according to their column field\r\n",
      "        # Sort is from lower to higher, therefore the elements to be considered are from len-topK to len\r\n",
      "        qsort(&vector_pointer_to_list_elements[list_length-TopK], TopK, sizeof(head_pointer_tree_s), compare_struct_on_column)\r\n",
      "                                                                                                     ^\r\n",
      "------------------------------------------------------------\r\n",
      "\r\n",
      "SLIM_BPR_Cython_Epoch.pyx:994:101: Cannot assign type 'int (const void *, const void *) except? -1' to 'int (*)(const_void *, const_void *) noexcept'\r\n",
      "Traceback (most recent call last):\r\n",
      "  File \"/kaggle/working/Recsys_Challenge_2023/CythonCompiler/compile_script.py\", line 48, in <module>\r\n",
      "    setup(\r\n",
      "  File \"/opt/conda/lib/python3.10/site-packages/setuptools/__init__.py\", line 107, in setup\r\n",
      "    return distutils.core.setup(**attrs)\r\n",
      "  File \"/opt/conda/lib/python3.10/site-packages/setuptools/_distutils/core.py\", line 185, in setup\r\n",
      "    return run_commands(dist)\r\n",
      "  File \"/opt/conda/lib/python3.10/site-packages/setuptools/_distutils/core.py\", line 201, in run_commands\r\n",
      "    dist.run_commands()\r\n",
      "  File \"/opt/conda/lib/python3.10/site-packages/setuptools/_distutils/dist.py\", line 969, in run_commands\r\n",
      "    self.run_command(cmd)\r\n",
      "  File \"/opt/conda/lib/python3.10/site-packages/setuptools/dist.py\", line 1233, in run_command\r\n",
      "    super().run_command(command)\r\n",
      "  File \"/opt/conda/lib/python3.10/site-packages/setuptools/_distutils/dist.py\", line 988, in run_command\r\n",
      "    cmd_obj.run()\r\n",
      "  File \"/opt/conda/lib/python3.10/site-packages/setuptools/_distutils/command/build_ext.py\", line 345, in run\r\n",
      "    self.build_extensions()\r\n",
      "  File \"/opt/conda/lib/python3.10/site-packages/setuptools/_distutils/command/build_ext.py\", line 467, in build_extensions\r\n",
      "    self._build_extensions_serial()\r\n",
      "  File \"/opt/conda/lib/python3.10/site-packages/setuptools/_distutils/command/build_ext.py\", line 493, in _build_extensions_serial\r\n",
      "    self.build_extension(ext)\r\n",
      "  File \"/opt/conda/lib/python3.10/site-packages/Cython/Distutils/build_ext.py\", line 122, in build_extension\r\n",
      "    new_ext = cythonize(\r\n",
      "  File \"/opt/conda/lib/python3.10/site-packages/Cython/Build/Dependencies.py\", line 1134, in cythonize\r\n",
      "    cythonize_one(*args)\r\n",
      "  File \"/opt/conda/lib/python3.10/site-packages/Cython/Build/Dependencies.py\", line 1301, in cythonize_one\r\n",
      "    raise CompileError(None, pyx_file)\r\n",
      "Cython.Compiler.Errors.CompileError: SLIM_BPR_Cython_Epoch.pyx\r\n",
      "Traceback (most recent call last):\r\n",
      "  File \"/kaggle/working/Recsys_Challenge_2023/run_compile_all_cython.py\", line 59, in <module>\r\n",
      "    run_compile_subprocess(file_path, [file_name])\r\n",
      "  File \"/kaggle/working/Recsys_Challenge_2023/CythonCompiler/run_compile_subprocess.py\", line 51, in run_compile_subprocess\r\n",
      "    raise exc\r\n",
      "  File \"/kaggle/working/Recsys_Challenge_2023/CythonCompiler/run_compile_subprocess.py\", line 32, in run_compile_subprocess\r\n",
      "    output = subprocess.check_output(' '.join(command),\r\n",
      "  File \"/opt/conda/lib/python3.10/subprocess.py\", line 421, in check_output\r\n",
      "    return run(*popenargs, stdout=PIPE, timeout=timeout, check=True,\r\n",
      "  File \"/opt/conda/lib/python3.10/subprocess.py\", line 526, in run\r\n",
      "    raise CalledProcessError(retcode, process.args,\r\n",
      "subprocess.CalledProcessError: Command '/opt/conda/bin/python /kaggle/working/Recsys_Challenge_2023/CythonCompiler/compile_script.py SLIM_BPR_Cython_Epoch.pyx build_ext --inplace' returned non-zero exit status 1.\r\n",
      "Compiling [4/10]: SLIM_BPR_Cython_Epoch.pyx... FAIL: Command '/opt/conda/bin/python /kaggle/working/Recsys_Challenge_2023/CythonCompiler/compile_script.py SLIM_BPR_Cython_Epoch.pyx build_ext --inplace' returned non-zero exit status 1.\r\n",
      "\r\n",
      "Compiling [5/10]: Sparse_Matrix_Tree_CSR.pyx... \r\n",
      "warning: Sparse_Matrix_Tree_CSR.pyx:132:34: Non-trivial type declarators in shared declaration (e.g. mix of pointers and values). Each pointer declaration should be on its own line.\r\n",
      "warning: Sparse_Matrix_Tree_CSR.pyx:132:66: Non-trivial type declarators in shared declaration (e.g. mix of pointers and values). Each pointer declaration should be on its own line.\r\n",
      "warning: Sparse_Matrix_Tree_CSR.pyx:343:35: Non-trivial type declarators in shared declaration (e.g. mix of pointers and values). Each pointer declaration should be on its own line.\r\n",
      "warning: Sparse_Matrix_Tree_CSR.pyx:343:52: Non-trivial type declarators in shared declaration (e.g. mix of pointers and values). Each pointer declaration should be on its own line.\r\n",
      "warning: Sparse_Matrix_Tree_CSR.pyx:442:35: Non-trivial type declarators in shared declaration (e.g. mix of pointers and values). Each pointer declaration should be on its own line.\r\n",
      "warning: Sparse_Matrix_Tree_CSR.pyx:442:53: Non-trivial type declarators in shared declaration (e.g. mix of pointers and values). Each pointer declaration should be on its own line.\r\n",
      "warning: Sparse_Matrix_Tree_CSR.pyx:442:69: Non-trivial type declarators in shared declaration (e.g. mix of pointers and values). Each pointer declaration should be on its own line.\r\n",
      "warning: Sparse_Matrix_Tree_CSR.pyx:577:35: Non-trivial type declarators in shared declaration (e.g. mix of pointers and values). Each pointer declaration should be on its own line.\r\n",
      "warning: Sparse_Matrix_Tree_CSR.pyx:577:42: Non-trivial type declarators in shared declaration (e.g. mix of pointers and values). Each pointer declaration should be on its own line.\r\n",
      "warning: Sparse_Matrix_Tree_CSR.pyx:578:35: Non-trivial type declarators in shared declaration (e.g. mix of pointers and values). Each pointer declaration should be on its own line.\r\n",
      "warning: Sparse_Matrix_Tree_CSR.pyx:578:53: Non-trivial type declarators in shared declaration (e.g. mix of pointers and values). Each pointer declaration should be on its own line.\r\n",
      "\r\n",
      "Error compiling Cython file:\r\n",
      "------------------------------------------------------------\r\n",
      "...\r\n",
      "            vector_pointer_to_list_elements[index].head = current_element\r\n",
      "            current_element = current_element.higher\r\n",
      "\r\n",
      "\r\n",
      "        # Sort array elements on their data field\r\n",
      "        qsort(vector_pointer_to_list_elements, list_length, sizeof(head_pointer_tree_s), compare_struct_on_data)\r\n",
      "                                                                                         ^\r\n",
      "------------------------------------------------------------\r\n",
      "\r\n",
      "Sparse_Matrix_Tree_CSR.pyx:516:89: Cannot assign type 'int (const void *, const void *) except? -1' to 'int (*)(const_void *, const_void *) noexcept'\r\n",
      "\r\n",
      "Error compiling Cython file:\r\n",
      "------------------------------------------------------------\r\n",
      "...\r\n",
      "        # Sort array elements on their data field\r\n",
      "        qsort(vector_pointer_to_list_elements, list_length, sizeof(head_pointer_tree_s), compare_struct_on_data)\r\n",
      "\r\n",
      "        # Sort only the TopK according to their column field\r\n",
      "        # Sort is from lower to higher, therefore the elements to be considered are from len-topK to len\r\n",
      "        qsort(&vector_pointer_to_list_elements[list_length-TopK], TopK, sizeof(head_pointer_tree_s), compare_struct_on_column)\r\n",
      "                                                                                                     ^\r\n",
      "------------------------------------------------------------\r\n",
      "\r\n",
      "Sparse_Matrix_Tree_CSR.pyx:520:101: Cannot assign type 'int (const void *, const void *) except? -1' to 'int (*)(const_void *, const_void *) noexcept'\r\n",
      "Traceback (most recent call last):\r\n",
      "  File \"/kaggle/working/Recsys_Challenge_2023/CythonCompiler/compile_script.py\", line 48, in <module>\r\n",
      "    setup(\r\n",
      "  File \"/opt/conda/lib/python3.10/site-packages/setuptools/__init__.py\", line 107, in setup\r\n",
      "    return distutils.core.setup(**attrs)\r\n",
      "  File \"/opt/conda/lib/python3.10/site-packages/setuptools/_distutils/core.py\", line 185, in setup\r\n",
      "    return run_commands(dist)\r\n",
      "  File \"/opt/conda/lib/python3.10/site-packages/setuptools/_distutils/core.py\", line 201, in run_commands\r\n",
      "    dist.run_commands()\r\n",
      "  File \"/opt/conda/lib/python3.10/site-packages/setuptools/_distutils/dist.py\", line 969, in run_commands\r\n",
      "    self.run_command(cmd)\r\n",
      "  File \"/opt/conda/lib/python3.10/site-packages/setuptools/dist.py\", line 1233, in run_command\r\n",
      "    super().run_command(command)\r\n",
      "  File \"/opt/conda/lib/python3.10/site-packages/setuptools/_distutils/dist.py\", line 988, in run_command\r\n",
      "    cmd_obj.run()\r\n",
      "  File \"/opt/conda/lib/python3.10/site-packages/setuptools/_distutils/command/build_ext.py\", line 345, in run\r\n",
      "    self.build_extensions()\r\n",
      "  File \"/opt/conda/lib/python3.10/site-packages/setuptools/_distutils/command/build_ext.py\", line 467, in build_extensions\r\n",
      "    self._build_extensions_serial()\r\n",
      "  File \"/opt/conda/lib/python3.10/site-packages/setuptools/_distutils/command/build_ext.py\", line 493, in _build_extensions_serial\r\n",
      "    self.build_extension(ext)\r\n",
      "  File \"/opt/conda/lib/python3.10/site-packages/Cython/Distutils/build_ext.py\", line 122, in build_extension\r\n",
      "    new_ext = cythonize(\r\n",
      "  File \"/opt/conda/lib/python3.10/site-packages/Cython/Build/Dependencies.py\", line 1134, in cythonize\r\n",
      "    cythonize_one(*args)\r\n",
      "  File \"/opt/conda/lib/python3.10/site-packages/Cython/Build/Dependencies.py\", line 1301, in cythonize_one\r\n",
      "    raise CompileError(None, pyx_file)\r\n",
      "Cython.Compiler.Errors.CompileError: Sparse_Matrix_Tree_CSR.pyx\r\n",
      "Traceback (most recent call last):\r\n",
      "  File \"/kaggle/working/Recsys_Challenge_2023/run_compile_all_cython.py\", line 59, in <module>\r\n",
      "    run_compile_subprocess(file_path, [file_name])\r\n",
      "  File \"/kaggle/working/Recsys_Challenge_2023/CythonCompiler/run_compile_subprocess.py\", line 51, in run_compile_subprocess\r\n",
      "    raise exc\r\n",
      "  File \"/kaggle/working/Recsys_Challenge_2023/CythonCompiler/run_compile_subprocess.py\", line 32, in run_compile_subprocess\r\n",
      "    output = subprocess.check_output(' '.join(command),\r\n",
      "  File \"/opt/conda/lib/python3.10/subprocess.py\", line 421, in check_output\r\n",
      "    return run(*popenargs, stdout=PIPE, timeout=timeout, check=True,\r\n",
      "  File \"/opt/conda/lib/python3.10/subprocess.py\", line 526, in run\r\n",
      "    raise CalledProcessError(retcode, process.args,\r\n",
      "subprocess.CalledProcessError: Command '/opt/conda/bin/python /kaggle/working/Recsys_Challenge_2023/CythonCompiler/compile_script.py Sparse_Matrix_Tree_CSR.pyx build_ext --inplace' returned non-zero exit status 1.\r\n",
      "Compiling [5/10]: Sparse_Matrix_Tree_CSR.pyx... FAIL: Command '/opt/conda/bin/python /kaggle/working/Recsys_Challenge_2023/CythonCompiler/compile_script.py Sparse_Matrix_Tree_CSR.pyx build_ext --inplace' returned non-zero exit status 1.\r\n",
      "\r\n",
      "Compiling [6/10]: Triangular_Matrix.pyx... \r\n",
      "warning: Triangular_Matrix.pyx:22:0: The 'IF' statement is deprecated and will be removed in a future Cython version. Consider using runtime conditions or C macros instead. See https://github.com/cython/cython/issues/4310\r\n",
      "warning: Triangular_Matrix.pyx:23:4: The 'DEF' statement is deprecated and will be removed in a future Cython version. Consider using global variables, constants, and in-place literals instead. See https://github.com/cython/cython/issues/4310\r\n",
      "warning: Triangular_Matrix.pyx:25:4: The 'DEF' statement is deprecated and will be removed in a future Cython version. Consider using global variables, constants, and in-place literals instead. See https://github.com/cython/cython/issues/4310\r\n",
      "warning: Triangular_Matrix.pyx:27:4: The 'DEF' statement is deprecated and will be removed in a future Cython version. Consider using global variables, constants, and in-place literals instead. See https://github.com/cython/cython/issues/4310\r\n",
      "In file included from \u001b[01m\u001b[K/opt/conda/lib/python3.10/site-packages/numpy/core/include/numpy/ndarraytypes.h:1940\u001b[m\u001b[K,\r\n",
      "                 from \u001b[01m\u001b[K/opt/conda/lib/python3.10/site-packages/numpy/core/include/numpy/ndarrayobject.h:12\u001b[m\u001b[K,\r\n",
      "                 from \u001b[01m\u001b[K/opt/conda/lib/python3.10/site-packages/numpy/core/include/numpy/arrayobject.h:5\u001b[m\u001b[K,\r\n",
      "                 from \u001b[01m\u001b[KTriangular_Matrix.c:1109\u001b[m\u001b[K:\r\n",
      "\u001b[01m\u001b[K/opt/conda/lib/python3.10/site-packages/numpy/core/include/numpy/npy_1_7_deprecated_api.h:17:2:\u001b[m\u001b[K \u001b[01;35m\u001b[Kwarning: \u001b[m\u001b[K#warning \"Using deprecated NumPy API, disable it with \" \"#define NPY_NO_DEPRECATED_API NPY_1_7_API_VERSION\" [\u001b[01;35m\u001b[K-Wcpp\u001b[m\u001b[K]\r\n",
      "   17 | #\u001b[01;35m\u001b[Kwarning\u001b[m\u001b[K \"Using deprecated NumPy API, disable it with \" \\\r\n",
      "      |  \u001b[01;35m\u001b[K^~~~~~~\u001b[m\u001b[K\r\n",
      "/opt/conda/lib/python3.10/site-packages/Cython/Compiler/Main.py:381: FutureWarning: Cython directive 'language_level' not set, using '3str' for now (Py3). This has changed from earlier releases! File: /kaggle/working/Recsys_Challenge_2023/Recommenders/SLIM/Cython/Triangular_Matrix.pyx\r\n",
      "  tree = Parsing.p_module(s, pxd, full_module_name)\r\n",
      "warning: Triangular_Matrix.pyx:22:0: The 'IF' statement is deprecated and will be removed in a future Cython version. Consider using runtime conditions or C macros instead. See https://github.com/cython/cython/issues/4310\r\n",
      "warning: Triangular_Matrix.pyx:23:4: The 'DEF' statement is deprecated and will be removed in a future Cython version. Consider using global variables, constants, and in-place literals instead. See https://github.com/cython/cython/issues/4310\r\n",
      "warning: Triangular_Matrix.pyx:25:4: The 'DEF' statement is deprecated and will be removed in a future Cython version. Consider using global variables, constants, and in-place literals instead. See https://github.com/cython/cython/issues/4310\r\n",
      "warning: Triangular_Matrix.pyx:27:4: The 'DEF' statement is deprecated and will be removed in a future Cython version. Consider using global variables, constants, and in-place literals instead. See https://github.com/cython/cython/issues/4310\r\n",
      "Compiling [6/10]: Triangular_Matrix.pyx... PASS\r\n",
      "\r\n",
      "Compiling [7/10]: FBSM_Rating_Cython_SGD.pyx... \r\n",
      "In file included from \u001b[01m\u001b[K/opt/conda/lib/python3.10/site-packages/numpy/core/include/numpy/ndarraytypes.h:1940\u001b[m\u001b[K,\r\n",
      "                 from \u001b[01m\u001b[K/opt/conda/lib/python3.10/site-packages/numpy/core/include/numpy/ndarrayobject.h:12\u001b[m\u001b[K,\r\n",
      "                 from \u001b[01m\u001b[K/opt/conda/lib/python3.10/site-packages/numpy/core/include/numpy/arrayobject.h:5\u001b[m\u001b[K,\r\n",
      "                 from \u001b[01m\u001b[KFBSM_Rating_Cython_SGD.c:1109\u001b[m\u001b[K:\r\n",
      "\u001b[01m\u001b[K/opt/conda/lib/python3.10/site-packages/numpy/core/include/numpy/npy_1_7_deprecated_api.h:17:2:\u001b[m\u001b[K \u001b[01;35m\u001b[Kwarning: \u001b[m\u001b[K#warning \"Using deprecated NumPy API, disable it with \" \"#define NPY_NO_DEPRECATED_API NPY_1_7_API_VERSION\" [\u001b[01;35m\u001b[K-Wcpp\u001b[m\u001b[K]\r\n",
      "   17 | #\u001b[01;35m\u001b[Kwarning\u001b[m\u001b[K \"Using deprecated NumPy API, disable it with \" \\\r\n",
      "      |  \u001b[01;35m\u001b[K^~~~~~~\u001b[m\u001b[K\r\n",
      "\u001b[01m\u001b[KFBSM_Rating_Cython_SGD.c:\u001b[m\u001b[K In function ‘\u001b[01m\u001b[K__pyx_pf_22FBSM_Rating_Cython_SGD_22FBSM_Rating_Cython_SGD_2fit\u001b[m\u001b[K’:\r\n",
      "\u001b[01m\u001b[KFBSM_Rating_Cython_SGD.c:26038:55:\u001b[m\u001b[K \u001b[01;35m\u001b[Kwarning: \u001b[m\u001b[K‘\u001b[01m\u001b[K__pyx_v_num_sample\u001b[m\u001b[K’ may be used uninitialized in this function [\u001b[01;35m\u001b[K-Wmaybe-uninitialized\u001b[m\u001b[K]\r\n",
      "26038 |   __pyx_t_5 = PyFloat_FromDouble((__pyx_v_cum_loss / \u001b[01;35m\u001b[K((double)__pyx_v_num_sample)\u001b[m\u001b[K)); if (unlikely(!__pyx_t_5)) __PYX_ERR(0, 551, __pyx_L1_error)\r\n",
      "      |                                                      \u001b[01;35m\u001b[K~^~~~~~~~~~~~~~~~~~~~~~~~~~~\u001b[m\u001b[K\r\n",
      "/opt/conda/lib/python3.10/site-packages/Cython/Compiler/Main.py:381: FutureWarning: Cython directive 'language_level' not set, using '3str' for now (Py3). This has changed from earlier releases! File: /kaggle/working/Recsys_Challenge_2023/Recommenders/FeatureWeighting/Cython/FBSM_Rating_Cython_SGD.pyx\r\n",
      "  tree = Parsing.p_module(s, pxd, full_module_name)\r\n",
      "Compiling [7/10]: FBSM_Rating_Cython_SGD.pyx... PASS\r\n",
      "\r\n",
      "Compiling [8/10]: CFW_DVV_Similarity_Cython_SGD.pyx... \r\n",
      "In file included from \u001b[01m\u001b[K/opt/conda/lib/python3.10/site-packages/numpy/core/include/numpy/ndarraytypes.h:1940\u001b[m\u001b[K,\r\n",
      "                 from \u001b[01m\u001b[K/opt/conda/lib/python3.10/site-packages/numpy/core/include/numpy/ndarrayobject.h:12\u001b[m\u001b[K,\r\n",
      "                 from \u001b[01m\u001b[K/opt/conda/lib/python3.10/site-packages/numpy/core/include/numpy/arrayobject.h:5\u001b[m\u001b[K,\r\n",
      "                 from \u001b[01m\u001b[KCFW_DVV_Similarity_Cython_SGD.c:1109\u001b[m\u001b[K:\r\n",
      "\u001b[01m\u001b[K/opt/conda/lib/python3.10/site-packages/numpy/core/include/numpy/npy_1_7_deprecated_api.h:17:2:\u001b[m\u001b[K \u001b[01;35m\u001b[Kwarning: \u001b[m\u001b[K#warning \"Using deprecated NumPy API, disable it with \" \"#define NPY_NO_DEPRECATED_API NPY_1_7_API_VERSION\" [\u001b[01;35m\u001b[K-Wcpp\u001b[m\u001b[K]\r\n",
      "   17 | #\u001b[01;35m\u001b[Kwarning\u001b[m\u001b[K \"Using deprecated NumPy API, disable it with \" \\\r\n",
      "      |  \u001b[01;35m\u001b[K^~~~~~~\u001b[m\u001b[K\r\n",
      "/opt/conda/lib/python3.10/site-packages/Cython/Compiler/Main.py:381: FutureWarning: Cython directive 'language_level' not set, using '3str' for now (Py3). This has changed from earlier releases! File: /kaggle/working/Recsys_Challenge_2023/Recommenders/FeatureWeighting/Cython/CFW_DVV_Similarity_Cython_SGD.pyx\r\n",
      "  tree = Parsing.p_module(s, pxd, full_module_name)\r\n",
      "Compiling [8/10]: CFW_DVV_Similarity_Cython_SGD.pyx... PASS\r\n",
      "\r\n",
      "Compiling [9/10]: CFW_D_Similarity_Cython_SGD.pyx... \r\n",
      "In file included from \u001b[01m\u001b[K/opt/conda/lib/python3.10/site-packages/numpy/core/include/numpy/ndarraytypes.h:1940\u001b[m\u001b[K,\r\n",
      "                 from \u001b[01m\u001b[K/opt/conda/lib/python3.10/site-packages/numpy/core/include/numpy/ndarrayobject.h:12\u001b[m\u001b[K,\r\n",
      "                 from \u001b[01m\u001b[K/opt/conda/lib/python3.10/site-packages/numpy/core/include/numpy/arrayobject.h:5\u001b[m\u001b[K,\r\n",
      "                 from \u001b[01m\u001b[KCFW_D_Similarity_Cython_SGD.c:1109\u001b[m\u001b[K:\r\n",
      "\u001b[01m\u001b[K/opt/conda/lib/python3.10/site-packages/numpy/core/include/numpy/npy_1_7_deprecated_api.h:17:2:\u001b[m\u001b[K \u001b[01;35m\u001b[Kwarning: \u001b[m\u001b[K#warning \"Using deprecated NumPy API, disable it with \" \"#define NPY_NO_DEPRECATED_API NPY_1_7_API_VERSION\" [\u001b[01;35m\u001b[K-Wcpp\u001b[m\u001b[K]\r\n",
      "   17 | #\u001b[01;35m\u001b[Kwarning\u001b[m\u001b[K \"Using deprecated NumPy API, disable it with \" \\\r\n",
      "      |  \u001b[01;35m\u001b[K^~~~~~~\u001b[m\u001b[K\r\n",
      "\u001b[01m\u001b[KCFW_D_Similarity_Cython_SGD.c:\u001b[m\u001b[K In function ‘\u001b[01m\u001b[K__pyx_pf_27CFW_D_Similarity_Cython_SGD_27CFW_D_Similarity_Cython_SGD_6fit\u001b[m\u001b[K’:\r\n",
      "\u001b[01m\u001b[KCFW_D_Similarity_Cython_SGD.c:22766:55:\u001b[m\u001b[K \u001b[01;35m\u001b[Kwarning: \u001b[m\u001b[K‘\u001b[01m\u001b[K__pyx_v_sample_num\u001b[m\u001b[K’ may be used uninitialized in this function [\u001b[01;35m\u001b[K-Wmaybe-uninitialized\u001b[m\u001b[K]\r\n",
      "22766 |   __pyx_t_3 = PyFloat_FromDouble((__pyx_v_cum_loss / \u001b[01;35m\u001b[K((double)__pyx_v_sample_num)\u001b[m\u001b[K)); if (unlikely(!__pyx_t_3)) __PYX_ERR(0, 290, __pyx_L1_error)\r\n",
      "      |                                                      \u001b[01;35m\u001b[K~^~~~~~~~~~~~~~~~~~~~~~~~~~~\u001b[m\u001b[K\r\n",
      "/opt/conda/lib/python3.10/site-packages/Cython/Compiler/Main.py:381: FutureWarning: Cython directive 'language_level' not set, using '3str' for now (Py3). This has changed from earlier releases! File: /kaggle/working/Recsys_Challenge_2023/Recommenders/FeatureWeighting/Cython/CFW_D_Similarity_Cython_SGD.pyx\r\n",
      "  tree = Parsing.p_module(s, pxd, full_module_name)\r\n",
      "Compiling [9/10]: CFW_D_Similarity_Cython_SGD.pyx... PASS\r\n",
      "\r\n",
      "Compiling [10/10]: HP3_Similarity_Cython_SGD.pyx... \r\n",
      "warning: HP3_Similarity_Cython_SGD.pyx:113:40: Index should be typed for more efficient access\r\n",
      "In file included from \u001b[01m\u001b[K/opt/conda/lib/python3.10/site-packages/numpy/core/include/numpy/ndarraytypes.h:1940\u001b[m\u001b[K,\r\n",
      "                 from \u001b[01m\u001b[K/opt/conda/lib/python3.10/site-packages/numpy/core/include/numpy/ndarrayobject.h:12\u001b[m\u001b[K,\r\n",
      "                 from \u001b[01m\u001b[K/opt/conda/lib/python3.10/site-packages/numpy/core/include/numpy/arrayobject.h:5\u001b[m\u001b[K,\r\n",
      "                 from \u001b[01m\u001b[KHP3_Similarity_Cython_SGD.c:1109\u001b[m\u001b[K:\r\n",
      "\u001b[01m\u001b[K/opt/conda/lib/python3.10/site-packages/numpy/core/include/numpy/npy_1_7_deprecated_api.h:17:2:\u001b[m\u001b[K \u001b[01;35m\u001b[Kwarning: \u001b[m\u001b[K#warning \"Using deprecated NumPy API, disable it with \" \"#define NPY_NO_DEPRECATED_API NPY_1_7_API_VERSION\" [\u001b[01;35m\u001b[K-Wcpp\u001b[m\u001b[K]\r\n",
      "   17 | #\u001b[01;35m\u001b[Kwarning\u001b[m\u001b[K \"Using deprecated NumPy API, disable it with \" \\\r\n",
      "      |  \u001b[01;35m\u001b[K^~~~~~~\u001b[m\u001b[K\r\n",
      "\u001b[01m\u001b[KHP3_Similarity_Cython_SGD.c:\u001b[m\u001b[K In function ‘\u001b[01m\u001b[K__pyx_pf_25HP3_Similarity_Cython_SGD_25HP3_Similarity_Cython_SGD_4fit\u001b[m\u001b[K’:\r\n",
      "\u001b[01m\u001b[KHP3_Similarity_Cython_SGD.c:23035:55:\u001b[m\u001b[K \u001b[01;35m\u001b[Kwarning: \u001b[m\u001b[K‘\u001b[01m\u001b[K__pyx_v_sample_num\u001b[m\u001b[K’ may be used uninitialized in this function [\u001b[01;35m\u001b[K-Wmaybe-uninitialized\u001b[m\u001b[K]\r\n",
      "23035 |   __pyx_t_1 = PyFloat_FromDouble((__pyx_v_cum_loss / \u001b[01;35m\u001b[K((double)__pyx_v_sample_num)\u001b[m\u001b[K)); if (unlikely(!__pyx_t_1)) __PYX_ERR(0, 291, __pyx_L1_error)\r\n",
      "      |                                                      \u001b[01;35m\u001b[K~^~~~~~~~~~~~~~~~~~~~~~~~~~~\u001b[m\u001b[K\r\n",
      "/opt/conda/lib/python3.10/site-packages/Cython/Compiler/Main.py:381: FutureWarning: Cython directive 'language_level' not set, using '3str' for now (Py3). This has changed from earlier releases! File: /kaggle/working/Recsys_Challenge_2023/Recommenders/FeatureWeighting/Cython/HP3_Similarity_Cython_SGD.pyx\r\n",
      "  tree = Parsing.p_module(s, pxd, full_module_name)\r\n",
      "warning: HP3_Similarity_Cython_SGD.pyx:113:40: Index should be typed for more efficient access\r\n",
      "Compiling [10/10]: HP3_Similarity_Cython_SGD.pyx... PASS\r\n",
      "\r\n",
      "run_compile_all_cython: Compilation finished. FAILS 2/10.\r\n",
      "Compilation log can be found here: './result_experiments/run_compile_all_cython.txt'\r\n"
     ]
    }
   ],
   "source": [
    "! cd /kaggle/working/Recsys_Challenge_2023 && python run_compile_all_cython.py"
   ]
  },
  {
   "cell_type": "code",
   "execution_count": 4,
   "id": "f66d850f",
   "metadata": {
    "_cell_guid": "b1076dfc-b9ad-4769-8c92-a6c4dae69d19",
    "_kg_hide-output": true,
    "_uuid": "8f2839f25d086af736a60e9eeb907d3b93b6e0e5",
    "execution": {
     "iopub.execute_input": "2023-12-10T16:37:21.557301Z",
     "iopub.status.busy": "2023-12-10T16:37:21.556886Z",
     "iopub.status.idle": "2023-12-10T16:37:25.286867Z",
     "shell.execute_reply": "2023-12-10T16:37:25.285401Z"
    },
    "papermill": {
     "duration": 3.757516,
     "end_time": "2023-12-10T16:37:25.289530",
     "exception": false,
     "start_time": "2023-12-10T16:37:21.532014",
     "status": "completed"
    },
    "scrolled": true,
    "tags": []
   },
   "outputs": [
    {
     "name": "stdout",
     "output_type": "stream",
     "text": [
      "/kaggle/input/recommender-system-2023-challenge-polimi/data_train.csv\n",
      "/kaggle/input/recommender-system-2023-challenge-polimi/data_target_users_test.csv\n"
     ]
    }
   ],
   "source": [
    "import numpy as np\n",
    "import pandas as pd\n",
    "import matplotlib.pyplot as plt\n",
    "import seaborn as sns\n",
    "import joblib\n",
    "import json\n",
    "import random\n",
    "import tqdm\n",
    "import gc\n",
    "import time\n",
    "import os\n",
    "import shutil\n",
    "import optuna\n",
    "from optuna.distributions import FloatDistribution, IntDistribution, CategoricalDistribution\n",
    "import scipy.sparse as sps\n",
    "\n",
    "for dirname, _, filenames in os.walk('/kaggle/input'):\n",
    "    for filename in filenames:\n",
    "        print(os.path.join(dirname, filename))"
   ]
  },
  {
   "cell_type": "markdown",
   "id": "9599b458",
   "metadata": {
    "papermill": {
     "duration": 0.021862,
     "end_time": "2023-12-10T16:37:25.334065",
     "exception": false,
     "start_time": "2023-12-10T16:37:25.312203",
     "status": "completed"
    },
    "tags": []
   },
   "source": [
    "# Configurations"
   ]
  },
  {
   "cell_type": "code",
   "execution_count": 5,
   "id": "e8c5ad09",
   "metadata": {
    "execution": {
     "iopub.execute_input": "2023-12-10T16:37:25.380138Z",
     "iopub.status.busy": "2023-12-10T16:37:25.379529Z",
     "iopub.status.idle": "2023-12-10T16:37:26.399554Z",
     "shell.execute_reply": "2023-12-10T16:37:26.398018Z"
    },
    "papermill": {
     "duration": 1.046043,
     "end_time": "2023-12-10T16:37:26.402153",
     "exception": false,
     "start_time": "2023-12-10T16:37:25.356110",
     "status": "completed"
    },
    "tags": []
   },
   "outputs": [
    {
     "name": "stdout",
     "output_type": "stream",
     "text": [
      "Repository found\n"
     ]
    }
   ],
   "source": [
    "from github import Github\n",
    "from github import Auth\n",
    "\n",
    "auth = Auth.Token(token)\n",
    "g = Github(auth=auth)\n",
    "\n",
    "repo = None\n",
    "for r in g.get_user().get_repos():\n",
    "    if r.name == 'Recsys_Challenge_2023':\n",
    "        repo = r\n",
    "        print('Repository found')"
   ]
  },
  {
   "cell_type": "code",
   "execution_count": 6,
   "id": "c7ee0b0b",
   "metadata": {
    "execution": {
     "iopub.execute_input": "2023-12-10T16:37:26.448106Z",
     "iopub.status.busy": "2023-12-10T16:37:26.447489Z",
     "iopub.status.idle": "2023-12-10T16:37:26.454543Z",
     "shell.execute_reply": "2023-12-10T16:37:26.453442Z"
    },
    "papermill": {
     "duration": 0.0328,
     "end_time": "2023-12-10T16:37:26.457057",
     "exception": false,
     "start_time": "2023-12-10T16:37:26.424257",
     "status": "completed"
    },
    "tags": []
   },
   "outputs": [],
   "source": [
    "def upload_file(filepath_kaggle, filepath_github, commit_message):\n",
    "    try:\n",
    "        contents = repo.get_contents(filepath_github)\n",
    "        with open(filepath_kaggle, \"rb\") as file:\n",
    "            repo.update_file(contents.path, commit_message, file.read(), contents.sha)\n",
    "    except Exception:\n",
    "        with open(filepath_kaggle, \"rb\") as file:\n",
    "            repo.create_file(filepath_github, commit_message, file.read())"
   ]
  },
  {
   "cell_type": "code",
   "execution_count": 7,
   "id": "2a6ca721",
   "metadata": {
    "execution": {
     "iopub.execute_input": "2023-12-10T16:37:26.502984Z",
     "iopub.status.busy": "2023-12-10T16:37:26.502584Z",
     "iopub.status.idle": "2023-12-10T16:37:26.512002Z",
     "shell.execute_reply": "2023-12-10T16:37:26.510709Z"
    },
    "papermill": {
     "duration": 0.035481,
     "end_time": "2023-12-10T16:37:26.514564",
     "exception": false,
     "start_time": "2023-12-10T16:37:26.479083",
     "status": "completed"
    },
    "tags": []
   },
   "outputs": [
    {
     "name": "stdout",
     "output_type": "stream",
     "text": [
      "\u001b[1m\u001b[31m\n",
      "RAM memory GB usage = 0.2156\u001b[0m\n"
     ]
    }
   ],
   "source": [
    "from os import system, getpid, walk\n",
    "from psutil import Process\n",
    "from colorama import Fore, Style, init\n",
    "from IPython.display import display, HTML\n",
    "\n",
    "def PrintColor(text:str, color = Fore.BLUE, style = Style.BRIGHT):\n",
    "    print(style + color + text + Style.RESET_ALL)\n",
    "    \n",
    "def GetMemUsage():   \n",
    "    pid = getpid()\n",
    "    py = Process(pid)\n",
    "    memory_use = py.memory_info()[0] / 2. ** 30\n",
    "    return f\"RAM memory GB usage = {memory_use :.4}\"\n",
    "\n",
    "PrintColor(f\"\\n\" + GetMemUsage(), color = Fore.RED)"
   ]
  },
  {
   "cell_type": "code",
   "execution_count": 8,
   "id": "a8c6d631",
   "metadata": {
    "execution": {
     "iopub.execute_input": "2023-12-10T16:37:26.560698Z",
     "iopub.status.busy": "2023-12-10T16:37:26.560279Z",
     "iopub.status.idle": "2023-12-10T16:37:26.566916Z",
     "shell.execute_reply": "2023-12-10T16:37:26.565766Z"
    },
    "papermill": {
     "duration": 0.03281,
     "end_time": "2023-12-10T16:37:26.569389",
     "exception": false,
     "start_time": "2023-12-10T16:37:26.536579",
     "status": "completed"
    },
    "tags": []
   },
   "outputs": [],
   "source": [
    "config = {\n",
    "    'n_folds': 5,\n",
    "    'build_folds': False,\n",
    "    'train_ials': False,\n",
    "    'train_ease_r': False,\n",
    "    'train_nmf': False,\n",
    "    'train_slim_bpr': False,\n",
    "    'train_slim_elastic': False,\n",
    "    'train_item_knn': True,\n",
    "    'train_user_knn': True,\n",
    "    'train_rp3': True,\n",
    "    'train_p3a': True,\n",
    "    'train_pure_svd': True,\n",
    "    'train_pure_svd_scaled': True,\n",
    "    'train_item_pure_svd': True,\n",
    "    'save_github': True,\n",
    "    'copy_ials_models': False\n",
    "}"
   ]
  },
  {
   "cell_type": "markdown",
   "id": "3cf5e79c",
   "metadata": {
    "papermill": {
     "duration": 0.02178,
     "end_time": "2023-12-10T16:37:26.613032",
     "exception": false,
     "start_time": "2023-12-10T16:37:26.591252",
     "status": "completed"
    },
    "tags": []
   },
   "source": [
    "# Data Import"
   ]
  },
  {
   "cell_type": "code",
   "execution_count": 9,
   "id": "cc18fb30",
   "metadata": {
    "execution": {
     "iopub.execute_input": "2023-12-10T16:37:26.757080Z",
     "iopub.status.busy": "2023-12-10T16:37:26.756617Z",
     "iopub.status.idle": "2023-12-10T16:37:27.037753Z",
     "shell.execute_reply": "2023-12-10T16:37:27.036679Z"
    },
    "papermill": {
     "duration": 0.307895,
     "end_time": "2023-12-10T16:37:27.040651",
     "exception": false,
     "start_time": "2023-12-10T16:37:26.732756",
     "status": "completed"
    },
    "tags": []
   },
   "outputs": [],
   "source": [
    "train_data = pd.read_csv('/kaggle/input/recommender-system-2023-challenge-polimi/data_train.csv')\n",
    "user_ids_test = pd.read_csv('/kaggle/input/recommender-system-2023-challenge-polimi/data_target_users_test.csv')"
   ]
  },
  {
   "cell_type": "code",
   "execution_count": 10,
   "id": "5ffaa483",
   "metadata": {
    "execution": {
     "iopub.execute_input": "2023-12-10T16:37:27.089277Z",
     "iopub.status.busy": "2023-12-10T16:37:27.087890Z",
     "iopub.status.idle": "2023-12-10T16:37:27.131937Z",
     "shell.execute_reply": "2023-12-10T16:37:27.130737Z"
    },
    "papermill": {
     "duration": 0.07182,
     "end_time": "2023-12-10T16:37:27.135129",
     "exception": false,
     "start_time": "2023-12-10T16:37:27.063309",
     "status": "completed"
    },
    "tags": []
   },
   "outputs": [
    {
     "data": {
      "text/plain": [
       "<13024x22347 sparse matrix of type '<class 'numpy.float64'>'\n",
       "\twith 478730 stored elements in Compressed Sparse Row format>"
      ]
     },
     "execution_count": 10,
     "metadata": {},
     "output_type": "execute_result"
    }
   ],
   "source": [
    "URM_all = sps.csr_matrix((train_data.data.values,\n",
    "                          ((train_data.row - 1).values, (train_data.col - 1).values)),\n",
    "                        shape=(train_data.row.max(), train_data.col.max()))\n",
    "URM_all"
   ]
  },
  {
   "cell_type": "code",
   "execution_count": 11,
   "id": "a6c760c3",
   "metadata": {
    "execution": {
     "iopub.execute_input": "2023-12-10T16:37:27.183710Z",
     "iopub.status.busy": "2023-12-10T16:37:27.182964Z",
     "iopub.status.idle": "2023-12-10T16:37:27.190680Z",
     "shell.execute_reply": "2023-12-10T16:37:27.189408Z"
    },
    "papermill": {
     "duration": 0.034957,
     "end_time": "2023-12-10T16:37:27.193501",
     "exception": false,
     "start_time": "2023-12-10T16:37:27.158544",
     "status": "completed"
    },
    "tags": []
   },
   "outputs": [
    {
     "name": "stdout",
     "output_type": "stream",
     "text": [
      "/kaggle/working/Recsys_Challenge_2023\n"
     ]
    }
   ],
   "source": [
    "%cd /kaggle/working/Recsys_Challenge_2023"
   ]
  },
  {
   "cell_type": "code",
   "execution_count": 12,
   "id": "ec1b826a",
   "metadata": {
    "execution": {
     "iopub.execute_input": "2023-12-10T16:37:27.241478Z",
     "iopub.status.busy": "2023-12-10T16:37:27.240648Z",
     "iopub.status.idle": "2023-12-10T16:37:40.645640Z",
     "shell.execute_reply": "2023-12-10T16:37:40.644383Z"
    },
    "papermill": {
     "duration": 13.432153,
     "end_time": "2023-12-10T16:37:40.648613",
     "exception": false,
     "start_time": "2023-12-10T16:37:27.216460",
     "status": "completed"
    },
    "tags": []
   },
   "outputs": [],
   "source": [
    "from Recommenders.KNN.UserKNNCFRecommender import UserKNNCFRecommender\n",
    "from Data_manager.split_functions.split_train_validation_random_holdout import split_train_in_two_percentage_global_sample\n",
    "from Recommenders.SLIM.SLIMElasticNetRecommender import MultiThreadSLIM_SLIMElasticNetRecommender, SLIMElasticNetRecommender\n",
    "from Evaluation.Evaluator import EvaluatorHoldout\n",
    "from Recommenders.MatrixFactorization.IALSRecommender import IALSRecommender\n",
    "from Recommenders.MatrixFactorization.PureSVDRecommender import PureSVDRecommender, PureSVDItemRecommender, ScaledPureSVDRecommender\n",
    "from Recommenders.KNN.ItemKNNCFRecommender import ItemKNNCFRecommender\n",
    "from Recommenders.KNN.UserKNNCFRecommender import UserKNNCFRecommender\n",
    "from Recommenders.EASE_R.EASE_R_Recommender import EASE_R_Recommender\n",
    "from Recommenders.Neural.MultVAERecommender import MultVAERecommender\n",
    "from Recommenders.GraphBased.RP3betaRecommender import RP3betaRecommender\n",
    "from Recommenders.GraphBased.P3alphaRecommender import P3alphaRecommender\n",
    "from Recommenders.SLIM.SLIM_BPR_Python import SLIM_BPR_Python\n",
    "from Recommenders.MatrixFactorization.NMFRecommender import NMFRecommender\n",
    "\n",
    "from Data_manager.CrossValidationSplitter import CrossValidationSplitter\n",
    "\n",
    "np.int = int\n",
    "np.random.seed(42)\n",
    "np.bool = bool\n",
    "np.float = float"
   ]
  },
  {
   "cell_type": "code",
   "execution_count": 13,
   "id": "b031c453",
   "metadata": {
    "execution": {
     "iopub.execute_input": "2023-12-10T16:37:40.697078Z",
     "iopub.status.busy": "2023-12-10T16:37:40.695549Z",
     "iopub.status.idle": "2023-12-10T16:37:40.702800Z",
     "shell.execute_reply": "2023-12-10T16:37:40.701294Z"
    },
    "papermill": {
     "duration": 0.033559,
     "end_time": "2023-12-10T16:37:40.705140",
     "exception": false,
     "start_time": "2023-12-10T16:37:40.671581",
     "status": "completed"
    },
    "tags": []
   },
   "outputs": [],
   "source": [
    "for i in range(config['n_folds']):\n",
    "    try:\n",
    "        os.mkdir(f'/kaggle/working/fold_{i}')\n",
    "    except FileExistsError:\n",
    "        pass"
   ]
  },
  {
   "cell_type": "code",
   "execution_count": 14,
   "id": "dcc8e5a0",
   "metadata": {
    "execution": {
     "iopub.execute_input": "2023-12-10T16:37:40.752814Z",
     "iopub.status.busy": "2023-12-10T16:37:40.751459Z",
     "iopub.status.idle": "2023-12-10T16:37:40.910673Z",
     "shell.execute_reply": "2023-12-10T16:37:40.909307Z"
    },
    "papermill": {
     "duration": 0.185963,
     "end_time": "2023-12-10T16:37:40.913612",
     "exception": false,
     "start_time": "2023-12-10T16:37:40.727649",
     "status": "completed"
    },
    "tags": []
   },
   "outputs": [],
   "source": [
    "# folds must be saved together with the models, otherwise the split might be wrong when tuning\n",
    "\n",
    "folds = []\n",
    "\n",
    "if config['build_folds']:\n",
    "    splitter = CrossValidationSplitter(config['n_folds'])\n",
    "    \n",
    "    i = 0\n",
    "    for URM_train, URM_valid in splitter.split(URM_all):\n",
    "        folds.append((URM_train, URM_valid))\n",
    "        sps.save_npz(f'/kaggle/working/fold_{i}/URM_train.npz', URM_train)\n",
    "        sps.save_npz(f'/kaggle/working/fold_{i}/URM_valid.npz', URM_valid)\n",
    "        \n",
    "        if config['save_github']:\n",
    "            upload_file(\n",
    "                f'/kaggle/working/fold_{i}/URM_train.npz',\n",
    "                f'models/{config[\"n_folds\"]}Folds/fold_{i}/URM_train.npz', \n",
    "                f'CV {config[\"n_folds\"]} folds: URM_train for fold {i}'\n",
    "            )\n",
    "            upload_file(\n",
    "                f'/kaggle/working/fold_{i}/URM_valid.npz',\n",
    "                f'models/{config[\"n_folds\"]}Folds/fold_{i}/URM_valid.npz', \n",
    "                f'CV {config[\"n_folds\"]} folds: URM_valid for fold {i}'\n",
    "            )\n",
    "        i += 1\n",
    "        \n",
    "else:\n",
    "    for i in range(config['n_folds']):\n",
    "        URM_train = sps.load_npz(f'/kaggle/working/Recsys_Challenge_2023/models/{config[\"n_folds\"]}Folds/fold_{i}/URM_train.npz')\n",
    "        URM_valid = sps.load_npz(f'/kaggle/working/Recsys_Challenge_2023/models/{config[\"n_folds\"]}Folds/fold_{i}/URM_valid.npz')\n",
    "        folds.append((URM_train, URM_valid))"
   ]
  },
  {
   "cell_type": "markdown",
   "id": "c5637041",
   "metadata": {
    "papermill": {
     "duration": 0.022201,
     "end_time": "2023-12-10T16:37:40.958475",
     "exception": false,
     "start_time": "2023-12-10T16:37:40.936274",
     "status": "completed"
    },
    "tags": []
   },
   "source": [
    "# Training models with best params"
   ]
  },
  {
   "cell_type": "code",
   "execution_count": 15,
   "id": "908534b0",
   "metadata": {
    "execution": {
     "iopub.execute_input": "2023-12-10T16:37:41.005369Z",
     "iopub.status.busy": "2023-12-10T16:37:41.004843Z",
     "iopub.status.idle": "2023-12-10T16:37:41.013161Z",
     "shell.execute_reply": "2023-12-10T16:37:41.011810Z"
    },
    "papermill": {
     "duration": 0.034719,
     "end_time": "2023-12-10T16:37:41.015529",
     "exception": false,
     "start_time": "2023-12-10T16:37:40.980810",
     "status": "completed"
    },
    "tags": []
   },
   "outputs": [],
   "source": [
    "if config['train_ials']:\n",
    "    with open('/kaggle/working/Recsys_Challenge_2023/tuning_results/best_params_ials_v2.json', 'r') as params_file:\n",
    "        params = json.load(params_file)\n",
    "        \n",
    "    print('Training IALS models')\n",
    "        \n",
    "    for i, (URM_train, URM_valid) in enumerate(folds):\n",
    "        recommender = IALSRecommender(URM_train)\n",
    "        recommender.fit(**params)\n",
    "\n",
    "        recommender.save_model(\n",
    "            folder_path=f'/kaggle/working/fold_{i}', \n",
    "            file_name='ials'\n",
    "        )\n",
    "    \n",
    "    # too big to be saved to github (need to be loaded from this notebook)\n",
    "\n",
    "elif config['copy_ials_models']:\n",
    "    \n",
    "    for i in range(folds):\n",
    "        shutil.copyfile(\n",
    "            f'/kaggle/input/training-tuned-models-cv/fold_{i}/ials.zip', \n",
    "            f'/kaggle/working/fold_{i}/ials.zip', \n",
    "        )"
   ]
  },
  {
   "cell_type": "code",
   "execution_count": 16,
   "id": "48e0c4ed",
   "metadata": {
    "execution": {
     "iopub.execute_input": "2023-12-10T16:37:41.064949Z",
     "iopub.status.busy": "2023-12-10T16:37:41.064465Z",
     "iopub.status.idle": "2023-12-10T16:37:41.073405Z",
     "shell.execute_reply": "2023-12-10T16:37:41.071798Z"
    },
    "papermill": {
     "duration": 0.03617,
     "end_time": "2023-12-10T16:37:41.076084",
     "exception": false,
     "start_time": "2023-12-10T16:37:41.039914",
     "status": "completed"
    },
    "tags": []
   },
   "outputs": [],
   "source": [
    "if config['train_ease_r']:\n",
    "    with open('/kaggle/working/Recsys_Challenge_2023/tuning_results/best_params_EASE_R.json', 'r') as params_file:\n",
    "        params_EASE_R = json.load(params_file)\n",
    "        \n",
    "    print('Training EASE_R models')\n",
    "        \n",
    "    for i, (URM_train, URM_valid) in enumerate(folds):\n",
    "        recommender = EASE_R_Recommender(URM_train)\n",
    "        recommender.fit(**params_EASE_R)\n",
    "\n",
    "        recommender.save_model(\n",
    "            folder_path=f'/kaggle/working/fold_{i}', \n",
    "            file_name='ease_r'\n",
    "        )\n",
    "        \n",
    "        if config['save_github']: \n",
    "            upload_file(\n",
    "                f'/kaggle/working/fold_{i}/ease_r.zip',\n",
    "                f'models/{config[\"n_folds\"]}Folds/fold_{i}/ease_r.zip', \n",
    "                f'CV {config[\"n_folds\"]} folds: ease r for fold {i}'\n",
    "            )"
   ]
  },
  {
   "cell_type": "code",
   "execution_count": 17,
   "id": "995adbd2",
   "metadata": {
    "execution": {
     "iopub.execute_input": "2023-12-10T16:37:41.124542Z",
     "iopub.status.busy": "2023-12-10T16:37:41.124118Z",
     "iopub.status.idle": "2023-12-10T16:37:41.133199Z",
     "shell.execute_reply": "2023-12-10T16:37:41.131858Z"
    },
    "papermill": {
     "duration": 0.035549,
     "end_time": "2023-12-10T16:37:41.135644",
     "exception": false,
     "start_time": "2023-12-10T16:37:41.100095",
     "status": "completed"
    },
    "tags": []
   },
   "outputs": [],
   "source": [
    "if config['train_nmf']:\n",
    "    with open('/kaggle/working/Recsys_Challenge_2023/tuning_results/best_params_NMF.json', 'r') as params_file:\n",
    "        params_NMF = json.load(params_file)\n",
    "        \n",
    "    print('Training NMF models')\n",
    "    \n",
    "    for i, (URM_train, URM_valid) in enumerate(folds):\n",
    "        recommender = NMFRecommender(URM_train)\n",
    "        recommender.fit(\n",
    "            init_type=\"nndsvda\", l1_ratio=params_NMF['l1_ratio'], beta_loss=\"frobenius\",\n",
    "            num_factors=params_NMF[\"num_factors\"], solver=params_NMF[\"solver\"]\n",
    "        )\n",
    "\n",
    "        recommender.save_model(\n",
    "            folder_path=f'/kaggle/working/fold_{i}', \n",
    "            file_name='nmf'\n",
    "        )\n",
    "        \n",
    "        if config['save_github']: \n",
    "            upload_file(\n",
    "                f'/kaggle/working/fold_{i}/nmf.zip',\n",
    "                f'models/{config[\"n_folds\"]}Folds/fold_{i}/nmf.zip', \n",
    "                f'CV {config[\"n_folds\"]} folds: nmf for fold {i}'\n",
    "            )"
   ]
  },
  {
   "cell_type": "code",
   "execution_count": 18,
   "id": "d0c9dda2",
   "metadata": {
    "execution": {
     "iopub.execute_input": "2023-12-10T16:37:41.182638Z",
     "iopub.status.busy": "2023-12-10T16:37:41.182069Z",
     "iopub.status.idle": "2023-12-10T16:37:41.190836Z",
     "shell.execute_reply": "2023-12-10T16:37:41.189398Z"
    },
    "papermill": {
     "duration": 0.035375,
     "end_time": "2023-12-10T16:37:41.193480",
     "exception": false,
     "start_time": "2023-12-10T16:37:41.158105",
     "status": "completed"
    },
    "tags": []
   },
   "outputs": [],
   "source": [
    "if config['train_slim_elastic']:\n",
    "    with open('/kaggle/working/Recsys_Challenge_2023/tuning_results/best_params_slim.json', 'r') as params_file:\n",
    "        params_slim_elastic = json.load(params_file)\n",
    "        \n",
    "    print('Training SlimElastic models')\n",
    "    \n",
    "    for i, (URM_train, URM_valid) in enumerate(folds):\n",
    "        recommender = SLIMElasticNetRecommender(URM_train)\n",
    "        recommender.fit(**params_slim_elastic)\n",
    "\n",
    "        recommender.save_model(\n",
    "            folder_path=f'/kaggle/working/fold_{i}', \n",
    "            file_name='slim_elastic'\n",
    "        )\n",
    "        \n",
    "        if config['save_github']: \n",
    "            upload_file(\n",
    "                f'/kaggle/working/fold_{i}/slim_elastic.zip',\n",
    "                f'models/{config[\"n_folds\"]}Folds/fold_{i}/slim_elastic.zip', \n",
    "                f'CV {config[\"n_folds\"]} folds: slim elastic for fold {i}'\n",
    "            )"
   ]
  },
  {
   "cell_type": "code",
   "execution_count": 19,
   "id": "1821b722",
   "metadata": {
    "execution": {
     "iopub.execute_input": "2023-12-10T16:37:41.239872Z",
     "iopub.status.busy": "2023-12-10T16:37:41.239491Z",
     "iopub.status.idle": "2023-12-10T16:37:41.247732Z",
     "shell.execute_reply": "2023-12-10T16:37:41.246374Z"
    },
    "papermill": {
     "duration": 0.034357,
     "end_time": "2023-12-10T16:37:41.250110",
     "exception": false,
     "start_time": "2023-12-10T16:37:41.215753",
     "status": "completed"
    },
    "tags": []
   },
   "outputs": [],
   "source": [
    "if config['train_slim_bpr']:\n",
    "    with open('/kaggle/working/Recsys_Challenge_2023/tuning_results/best_params_Slim_BPR.json', 'r') as params_file:\n",
    "        params_Slim_BPR = json.load(params_file)\n",
    "        \n",
    "    print('Training SlimBPR models')\n",
    "    \n",
    "    for i, (URM_train, URM_valid) in enumerate(folds):\n",
    "        recommender = SLIM_BPR_Python(URM_train)\n",
    "        recommender.fit(**params_Slim_BPR)\n",
    "\n",
    "        recommender.save_model(\n",
    "            folder_path=f'/kaggle/working/fold_{i}', \n",
    "            file_name='slim_bpr'\n",
    "        )\n",
    "        \n",
    "        if config['save_github']: \n",
    "            upload_file(\n",
    "                f'/kaggle/working/fold_{i}/slim_bpr.zip',\n",
    "                f'models/{config[\"n_folds\"]}Folds/fold_{i}/slim_bpr.zip', \n",
    "                f'CV {config[\"n_folds\"]} folds: slim bpr for fold {i}'\n",
    "            )"
   ]
  },
  {
   "cell_type": "code",
   "execution_count": 20,
   "id": "73dd330b",
   "metadata": {
    "execution": {
     "iopub.execute_input": "2023-12-10T16:37:41.296521Z",
     "iopub.status.busy": "2023-12-10T16:37:41.296105Z",
     "iopub.status.idle": "2023-12-10T16:38:15.465146Z",
     "shell.execute_reply": "2023-12-10T16:38:15.463648Z"
    },
    "papermill": {
     "duration": 34.195805,
     "end_time": "2023-12-10T16:38:15.468288",
     "exception": false,
     "start_time": "2023-12-10T16:37:41.272483",
     "status": "completed"
    },
    "tags": []
   },
   "outputs": [
    {
     "name": "stdout",
     "output_type": "stream",
     "text": [
      "Training ItemKNN models\n",
      "ItemKNNCFRecommender: URM Detected 609 ( 4.7%) users with no interactions.\n",
      "ItemKNNCFRecommender: URM Detected 241 ( 1.1%) items with no interactions.\n",
      "Similarity column 22347 (100.0%), 4493.41 column/sec. Elapsed time 4.97 sec\n",
      "ItemKNNCFRecommender: Saving model in file '/kaggle/working/fold_0item_knn'\n",
      "ItemKNNCFRecommender: Saving complete\n",
      "ItemKNNCFRecommender: URM Detected 594 ( 4.6%) users with no interactions.\n",
      "ItemKNNCFRecommender: URM Detected 237 ( 1.1%) items with no interactions.\n",
      "Similarity column 22347 (100.0%), 4629.30 column/sec. Elapsed time 4.83 sec\n",
      "ItemKNNCFRecommender: Saving model in file '/kaggle/working/fold_1item_knn'\n",
      "ItemKNNCFRecommender: Saving complete\n",
      "ItemKNNCFRecommender: URM Detected 929 ( 7.1%) users with no interactions.\n",
      "ItemKNNCFRecommender: URM Detected 540 ( 2.4%) items with no interactions.\n",
      "Similarity column 22347 (100.0%), 4973.53 column/sec. Elapsed time 4.49 sec\n",
      "ItemKNNCFRecommender: Saving model in file '/kaggle/working/fold_2item_knn'\n",
      "ItemKNNCFRecommender: Saving complete\n",
      "ItemKNNCFRecommender: URM Detected 1415 (10.9%) users with no interactions.\n",
      "ItemKNNCFRecommender: URM Detected 1483 ( 6.6%) items with no interactions.\n",
      "Similarity column 22347 (100.0%), 5391.04 column/sec. Elapsed time 4.15 sec\n",
      "ItemKNNCFRecommender: Saving model in file '/kaggle/working/fold_3item_knn'\n",
      "ItemKNNCFRecommender: Saving complete\n",
      "ItemKNNCFRecommender: URM Detected 613 ( 4.7%) users with no interactions.\n",
      "ItemKNNCFRecommender: URM Detected 232 ( 1.0%) items with no interactions.\n",
      "Similarity column 22347 (100.0%), 4631.77 column/sec. Elapsed time 4.82 sec\n",
      "ItemKNNCFRecommender: Saving model in file '/kaggle/working/fold_4item_knn'\n",
      "ItemKNNCFRecommender: Saving complete\n"
     ]
    }
   ],
   "source": [
    "if config['train_item_knn']:\n",
    "    with open('/kaggle/working/Recsys_Challenge_2023/tuning_results/best_params_knn_item.json', 'r') as params_file:\n",
    "        params_item_knn = json.load(params_file)\n",
    "    \n",
    "    print('Training ItemKNN models')\n",
    "    \n",
    "    for i, (URM_train, URM_valid) in enumerate(folds):\n",
    "        recommender = ItemKNNCFRecommender(URM_train)\n",
    "        recommender.fit(**params_item_knn)\n",
    "\n",
    "        recommender.save_model(\n",
    "            folder_path=f'/kaggle/working/fold_{i}', \n",
    "            file_name='item_knn'\n",
    "        )\n",
    "        \n",
    "        if config['save_github']: \n",
    "            upload_file(\n",
    "                f'/kaggle/working/fold_{i}/item_knn.zip',\n",
    "                f'models/{config[\"n_folds\"]}Folds/fold_{i}/item_knn.zip', \n",
    "                f'CV {config[\"n_folds\"]} folds: item_knn for fold {i}'\n",
    "            )"
   ]
  },
  {
   "cell_type": "code",
   "execution_count": 21,
   "id": "f22420f7",
   "metadata": {
    "execution": {
     "iopub.execute_input": "2023-12-10T16:38:15.522341Z",
     "iopub.status.busy": "2023-12-10T16:38:15.521069Z",
     "iopub.status.idle": "2023-12-10T16:39:22.822268Z",
     "shell.execute_reply": "2023-12-10T16:39:22.821029Z"
    },
    "papermill": {
     "duration": 67.331374,
     "end_time": "2023-12-10T16:39:22.825087",
     "exception": false,
     "start_time": "2023-12-10T16:38:15.493713",
     "status": "completed"
    },
    "tags": []
   },
   "outputs": [
    {
     "name": "stdout",
     "output_type": "stream",
     "text": [
      "Training UserKNN models\n",
      "UserKNNCFRecommender: URM Detected 609 ( 4.7%) users with no interactions.\n",
      "UserKNNCFRecommender: URM Detected 241 ( 1.1%) items with no interactions.\n",
      "Similarity column 13024 (100.0%), 4403.44 column/sec. Elapsed time 2.96 sec\n",
      "UserKNNCFRecommender: Saving model in file '/kaggle/working/fold_0user_knn'\n",
      "UserKNNCFRecommender: Saving complete\n",
      "UserKNNCFRecommender: URM Detected 594 ( 4.6%) users with no interactions.\n",
      "UserKNNCFRecommender: URM Detected 237 ( 1.1%) items with no interactions.\n",
      "Similarity column 13024 (100.0%), 4770.45 column/sec. Elapsed time 2.73 sec\n",
      "UserKNNCFRecommender: Saving model in file '/kaggle/working/fold_1user_knn'\n",
      "UserKNNCFRecommender: Saving complete\n",
      "UserKNNCFRecommender: URM Detected 929 ( 7.1%) users with no interactions.\n",
      "UserKNNCFRecommender: URM Detected 540 ( 2.4%) items with no interactions.\n",
      "Similarity column 13024 (100.0%), 5558.92 column/sec. Elapsed time 2.34 sec\n",
      "UserKNNCFRecommender: Saving model in file '/kaggle/working/fold_2user_knn'\n",
      "UserKNNCFRecommender: Saving complete\n",
      "UserKNNCFRecommender: URM Detected 1415 (10.9%) users with no interactions.\n",
      "UserKNNCFRecommender: URM Detected 1483 ( 6.6%) items with no interactions.\n",
      "Similarity column 13024 (100.0%), 7143.99 column/sec. Elapsed time 1.82 sec\n",
      "UserKNNCFRecommender: Saving model in file '/kaggle/working/fold_3user_knn'\n",
      "UserKNNCFRecommender: Saving complete\n",
      "UserKNNCFRecommender: URM Detected 613 ( 4.7%) users with no interactions.\n",
      "UserKNNCFRecommender: URM Detected 232 ( 1.0%) items with no interactions.\n",
      "Similarity column 13024 (100.0%), 4805.76 column/sec. Elapsed time 2.71 sec\n",
      "UserKNNCFRecommender: Saving model in file '/kaggle/working/fold_4user_knn'\n",
      "UserKNNCFRecommender: Saving complete\n"
     ]
    }
   ],
   "source": [
    "if config['train_user_knn']:\n",
    "    with open('/kaggle/working/Recsys_Challenge_2023/tuning_results/best_params_knn_user.json', 'r') as params_file:\n",
    "        params_user_knn = json.load(params_file)\n",
    "    \n",
    "    print('Training UserKNN models')\n",
    "    \n",
    "    for i, (URM_train, URM_valid) in enumerate(folds):\n",
    "        recommender = UserKNNCFRecommender(URM_train)\n",
    "        recommender.fit(**params_user_knn)\n",
    "\n",
    "        recommender.save_model(\n",
    "            folder_path=f'/kaggle/working/fold_{i}', \n",
    "            file_name='user_knn'\n",
    "        )\n",
    "        \n",
    "        if config['save_github']: \n",
    "            upload_file(\n",
    "                f'/kaggle/working/fold_{i}/user_knn.zip',\n",
    "                f'models/{config[\"n_folds\"]}Folds/fold_{i}/user_knn.zip', \n",
    "                f'CV {config[\"n_folds\"]} folds: user_knn for fold {i}'\n",
    "            )"
   ]
  },
  {
   "cell_type": "code",
   "execution_count": 22,
   "id": "6b870c82",
   "metadata": {
    "execution": {
     "iopub.execute_input": "2023-12-10T16:39:22.880252Z",
     "iopub.status.busy": "2023-12-10T16:39:22.879783Z",
     "iopub.status.idle": "2023-12-10T16:40:24.482879Z",
     "shell.execute_reply": "2023-12-10T16:40:24.481916Z"
    },
    "papermill": {
     "duration": 61.63492,
     "end_time": "2023-12-10T16:40:24.485896",
     "exception": false,
     "start_time": "2023-12-10T16:39:22.850976",
     "status": "completed"
    },
    "tags": []
   },
   "outputs": [
    {
     "name": "stdout",
     "output_type": "stream",
     "text": [
      "Training RP3 models\n",
      "RP3betaRecommender: URM Detected 609 ( 4.7%) users with no interactions.\n",
      "RP3betaRecommender: URM Detected 241 ( 1.1%) items with no interactions.\n",
      "RP3betaRecommender: Similarity column 22347 (100.0%), 2816.57 column/sec. Elapsed time 7.93 sec\n",
      "RP3betaRecommender: Saving model in file '/kaggle/working/fold_0rp3'\n",
      "RP3betaRecommender: Saving complete\n",
      "RP3betaRecommender: URM Detected 594 ( 4.6%) users with no interactions.\n",
      "RP3betaRecommender: URM Detected 237 ( 1.1%) items with no interactions.\n",
      "RP3betaRecommender: Similarity column 22347 (100.0%), 2566.15 column/sec. Elapsed time 8.71 sec\n",
      "RP3betaRecommender: Saving model in file '/kaggle/working/fold_1rp3'\n",
      "RP3betaRecommender: Saving complete\n",
      "RP3betaRecommender: URM Detected 929 ( 7.1%) users with no interactions.\n",
      "RP3betaRecommender: URM Detected 540 ( 2.4%) items with no interactions.\n",
      "RP3betaRecommender: Similarity column 22347 (100.0%), 2632.84 column/sec. Elapsed time 8.49 sec\n",
      "RP3betaRecommender: Saving model in file '/kaggle/working/fold_2rp3'\n",
      "RP3betaRecommender: Saving complete\n",
      "RP3betaRecommender: URM Detected 1415 (10.9%) users with no interactions.\n",
      "RP3betaRecommender: URM Detected 1483 ( 6.6%) items with no interactions.\n",
      "RP3betaRecommender: Similarity column 22347 (100.0%), 3376.10 column/sec. Elapsed time 6.62 sec\n",
      "RP3betaRecommender: Saving model in file '/kaggle/working/fold_3rp3'\n",
      "RP3betaRecommender: Saving complete\n",
      "RP3betaRecommender: URM Detected 613 ( 4.7%) users with no interactions.\n",
      "RP3betaRecommender: URM Detected 232 ( 1.0%) items with no interactions.\n",
      "RP3betaRecommender: Similarity column 22347 (100.0%), 2816.68 column/sec. Elapsed time 7.93 sec\n",
      "RP3betaRecommender: Saving model in file '/kaggle/working/fold_4rp3'\n",
      "RP3betaRecommender: Saving complete\n"
     ]
    }
   ],
   "source": [
    "if config['train_rp3']:\n",
    "    with open('/kaggle/working/Recsys_Challenge_2023/tuning_results/best_params_RP3.json', 'r') as params_file:\n",
    "        params_rp3 = json.load(params_file)\n",
    "        \n",
    "    print('Training RP3 models')\n",
    "    \n",
    "    for i, (URM_train, URM_valid) in enumerate(folds):\n",
    "        recommender = RP3betaRecommender(URM_train)\n",
    "        recommender.fit(**params_rp3)\n",
    "\n",
    "        recommender.save_model(\n",
    "            folder_path=f'/kaggle/working/fold_{i}', \n",
    "            file_name='rp3'\n",
    "        )\n",
    "        \n",
    "        if config['save_github']: \n",
    "            upload_file(\n",
    "                f'/kaggle/working/fold_{i}/rp3.zip',\n",
    "                f'models/{config[\"n_folds\"]}Folds/fold_{i}/rp3.zip', \n",
    "                f'CV {config[\"n_folds\"]} folds: rp3 for fold {i}'\n",
    "            )"
   ]
  },
  {
   "cell_type": "code",
   "execution_count": 23,
   "id": "0deed2c5",
   "metadata": {
    "execution": {
     "iopub.execute_input": "2023-12-10T16:40:24.553795Z",
     "iopub.status.busy": "2023-12-10T16:40:24.552144Z",
     "iopub.status.idle": "2023-12-10T16:41:18.866983Z",
     "shell.execute_reply": "2023-12-10T16:41:18.865927Z"
    },
    "papermill": {
     "duration": 54.352329,
     "end_time": "2023-12-10T16:41:18.870011",
     "exception": false,
     "start_time": "2023-12-10T16:40:24.517682",
     "status": "completed"
    },
    "tags": []
   },
   "outputs": [
    {
     "name": "stdout",
     "output_type": "stream",
     "text": [
      "Training P3alpha models\n",
      "P3alphaRecommender: URM Detected 609 ( 4.7%) users with no interactions.\n",
      "P3alphaRecommender: URM Detected 241 ( 1.1%) items with no interactions.\n",
      "P3alphaRecommender: Similarity column 22347 (100.0%), 2989.09 column/sec. Elapsed time 7.48 sec\n",
      "P3alphaRecommender: Saving model in file '/kaggle/working/fold_0p3a'\n",
      "P3alphaRecommender: Saving complete\n",
      "P3alphaRecommender: URM Detected 594 ( 4.6%) users with no interactions.\n",
      "P3alphaRecommender: URM Detected 237 ( 1.1%) items with no interactions.\n",
      "P3alphaRecommender: Similarity column 22347 (100.0%), 2988.55 column/sec. Elapsed time 7.48 sec\n",
      "P3alphaRecommender: Saving model in file '/kaggle/working/fold_1p3a'\n",
      "P3alphaRecommender: Saving complete\n",
      "P3alphaRecommender: URM Detected 929 ( 7.1%) users with no interactions.\n",
      "P3alphaRecommender: URM Detected 540 ( 2.4%) items with no interactions.\n",
      "P3alphaRecommender: Similarity column 22347 (100.0%), 3334.02 column/sec. Elapsed time 6.70 sec\n",
      "P3alphaRecommender: Saving model in file '/kaggle/working/fold_2p3a'\n",
      "P3alphaRecommender: Saving complete\n",
      "P3alphaRecommender: URM Detected 1415 (10.9%) users with no interactions.\n",
      "P3alphaRecommender: URM Detected 1483 ( 6.6%) items with no interactions.\n",
      "P3alphaRecommender: Similarity column 22347 (100.0%), 3772.72 column/sec. Elapsed time 5.92 sec\n",
      "P3alphaRecommender: Saving model in file '/kaggle/working/fold_3p3a'\n",
      "P3alphaRecommender: Saving complete\n",
      "P3alphaRecommender: URM Detected 613 ( 4.7%) users with no interactions.\n",
      "P3alphaRecommender: URM Detected 232 ( 1.0%) items with no interactions.\n",
      "P3alphaRecommender: Similarity column 22347 (100.0%), 2981.49 column/sec. Elapsed time 7.50 sec\n",
      "P3alphaRecommender: Saving model in file '/kaggle/working/fold_4p3a'\n",
      "P3alphaRecommender: Saving complete\n"
     ]
    }
   ],
   "source": [
    "if config['train_p3a']:\n",
    "    with open('/kaggle/working/Recsys_Challenge_2023/tuning_results/best_params_alpha.json', 'r') as params_file:\n",
    "        params_p3alpha = json.load(params_file)\n",
    "        \n",
    "    print('Training P3alpha models')\n",
    "    \n",
    "    for i, (URM_train, URM_valid) in enumerate(folds):\n",
    "        recommender = P3alphaRecommender(URM_train)\n",
    "        recommender.fit(**params_p3alpha)\n",
    "\n",
    "        recommender.save_model(\n",
    "            folder_path=f'/kaggle/working/fold_{i}', \n",
    "            file_name='p3a'\n",
    "        )\n",
    "        \n",
    "        if config['save_github']: \n",
    "            upload_file(\n",
    "                f'/kaggle/working/fold_{i}/p3a.zip',\n",
    "                f'models/{config[\"n_folds\"]}Folds/fold_{i}/p3a.zip', \n",
    "                f'CV {config[\"n_folds\"]} folds: p3a for fold {i}'\n",
    "            )"
   ]
  },
  {
   "cell_type": "code",
   "execution_count": 24,
   "id": "ce76009e",
   "metadata": {
    "execution": {
     "iopub.execute_input": "2023-12-10T16:41:18.944777Z",
     "iopub.status.busy": "2023-12-10T16:41:18.944201Z",
     "iopub.status.idle": "2023-12-10T16:41:35.011971Z",
     "shell.execute_reply": "2023-12-10T16:41:35.010551Z"
    },
    "papermill": {
     "duration": 16.111381,
     "end_time": "2023-12-10T16:41:35.015076",
     "exception": false,
     "start_time": "2023-12-10T16:41:18.903695",
     "status": "completed"
    },
    "tags": []
   },
   "outputs": [
    {
     "name": "stdout",
     "output_type": "stream",
     "text": [
      "Training PureSVD models\n",
      "PureSVDRecommender: URM Detected 609 ( 4.7%) users with no interactions.\n",
      "PureSVDRecommender: URM Detected 241 ( 1.1%) items with no interactions.\n",
      "PureSVDRecommender: Computing SVD decomposition...\n",
      "PureSVDRecommender: Computing SVD decomposition... done in 0.68 sec\n",
      "PureSVDRecommender: Saving model in file '/kaggle/working/fold_0pure_svd'\n",
      "PureSVDRecommender: Saving complete\n",
      "PureSVDRecommender: URM Detected 594 ( 4.6%) users with no interactions.\n",
      "PureSVDRecommender: URM Detected 237 ( 1.1%) items with no interactions.\n",
      "PureSVDRecommender: Computing SVD decomposition...\n",
      "PureSVDRecommender: Computing SVD decomposition... done in 0.60 sec\n",
      "PureSVDRecommender: Saving model in file '/kaggle/working/fold_1pure_svd'\n",
      "PureSVDRecommender: Saving complete\n",
      "PureSVDRecommender: URM Detected 929 ( 7.1%) users with no interactions.\n",
      "PureSVDRecommender: URM Detected 540 ( 2.4%) items with no interactions.\n",
      "PureSVDRecommender: Computing SVD decomposition...\n",
      "PureSVDRecommender: Computing SVD decomposition... done in 0.55 sec\n",
      "PureSVDRecommender: Saving model in file '/kaggle/working/fold_2pure_svd'\n",
      "PureSVDRecommender: Saving complete\n",
      "PureSVDRecommender: URM Detected 1415 (10.9%) users with no interactions.\n",
      "PureSVDRecommender: URM Detected 1483 ( 6.6%) items with no interactions.\n",
      "PureSVDRecommender: Computing SVD decomposition...\n",
      "PureSVDRecommender: Computing SVD decomposition... done in 0.48 sec\n",
      "PureSVDRecommender: Saving model in file '/kaggle/working/fold_3pure_svd'\n",
      "PureSVDRecommender: Saving complete\n",
      "PureSVDRecommender: URM Detected 613 ( 4.7%) users with no interactions.\n",
      "PureSVDRecommender: URM Detected 232 ( 1.0%) items with no interactions.\n",
      "PureSVDRecommender: Computing SVD decomposition...\n",
      "PureSVDRecommender: Computing SVD decomposition... done in 0.59 sec\n",
      "PureSVDRecommender: Saving model in file '/kaggle/working/fold_4pure_svd'\n",
      "PureSVDRecommender: Saving complete\n"
     ]
    }
   ],
   "source": [
    "if config['train_pure_svd']:\n",
    "    with open('/kaggle/working/Recsys_Challenge_2023/tuning_results/pure_svd_params.json', 'r') as params_file:\n",
    "        params_pure_svd = json.load(params_file)\n",
    "        \n",
    "    print('Training PureSVD models')\n",
    "    \n",
    "    for i, (URM_train, URM_valid) in enumerate(folds):\n",
    "        recommender = PureSVDRecommender(URM_train)\n",
    "        recommender.fit(num_factors=params_pure_svd['factors'])\n",
    "\n",
    "        recommender.save_model(\n",
    "            folder_path=f'/kaggle/working/fold_{i}', \n",
    "            file_name='pure_svd'\n",
    "        )\n",
    "        \n",
    "        if config['save_github']: \n",
    "            upload_file(\n",
    "                f'/kaggle/working/fold_{i}/pure_svd.zip',\n",
    "                f'models/{config[\"n_folds\"]}Folds/fold_{i}/pure_svd.zip', \n",
    "                f'CV {config[\"n_folds\"]} folds: pure_svd for fold {i}'\n",
    "            )"
   ]
  },
  {
   "cell_type": "code",
   "execution_count": 25,
   "id": "b845000d",
   "metadata": {
    "execution": {
     "iopub.execute_input": "2023-12-10T16:41:35.082098Z",
     "iopub.status.busy": "2023-12-10T16:41:35.081647Z",
     "iopub.status.idle": "2023-12-10T16:44:22.407603Z",
     "shell.execute_reply": "2023-12-10T16:44:22.406168Z"
    },
    "papermill": {
     "duration": 167.363507,
     "end_time": "2023-12-10T16:44:22.410658",
     "exception": false,
     "start_time": "2023-12-10T16:41:35.047151",
     "status": "completed"
    },
    "tags": []
   },
   "outputs": [
    {
     "name": "stdout",
     "output_type": "stream",
     "text": [
      "Training PureSVDItem models\n",
      "PureSVDItemRecommender: URM Detected 609 ( 4.7%) users with no interactions.\n",
      "PureSVDItemRecommender: URM Detected 241 ( 1.1%) items with no interactions.\n",
      "PureSVDItemRecommender: Computing SVD decomposition...\n",
      "PureSVDItemRecommender: Computing SVD decomposition... Done!\n",
      "PureSVDItemRecommender: Saving model in file '/kaggle/working/fold_0item_pure_svd'\n",
      "PureSVDItemRecommender: Saving complete\n",
      "PureSVDItemRecommender: URM Detected 594 ( 4.6%) users with no interactions.\n",
      "PureSVDItemRecommender: URM Detected 237 ( 1.1%) items with no interactions.\n",
      "PureSVDItemRecommender: Computing SVD decomposition...\n",
      "PureSVDItemRecommender: Computing SVD decomposition... Done!\n",
      "PureSVDItemRecommender: Saving model in file '/kaggle/working/fold_1item_pure_svd'\n",
      "PureSVDItemRecommender: Saving complete\n",
      "PureSVDItemRecommender: URM Detected 929 ( 7.1%) users with no interactions.\n",
      "PureSVDItemRecommender: URM Detected 540 ( 2.4%) items with no interactions.\n",
      "PureSVDItemRecommender: Computing SVD decomposition...\n",
      "PureSVDItemRecommender: Computing SVD decomposition... Done!\n",
      "PureSVDItemRecommender: Saving model in file '/kaggle/working/fold_2item_pure_svd'\n",
      "PureSVDItemRecommender: Saving complete\n",
      "PureSVDItemRecommender: URM Detected 1415 (10.9%) users with no interactions.\n",
      "PureSVDItemRecommender: URM Detected 1483 ( 6.6%) items with no interactions.\n",
      "PureSVDItemRecommender: Computing SVD decomposition...\n",
      "PureSVDItemRecommender: Computing SVD decomposition... Done!\n",
      "PureSVDItemRecommender: Saving model in file '/kaggle/working/fold_3item_pure_svd'\n",
      "PureSVDItemRecommender: Saving complete\n",
      "PureSVDItemRecommender: URM Detected 613 ( 4.7%) users with no interactions.\n",
      "PureSVDItemRecommender: URM Detected 232 ( 1.0%) items with no interactions.\n",
      "PureSVDItemRecommender: Computing SVD decomposition...\n",
      "PureSVDItemRecommender: Computing SVD decomposition... Done!\n",
      "PureSVDItemRecommender: Saving model in file '/kaggle/working/fold_4item_pure_svd'\n",
      "PureSVDItemRecommender: Saving complete\n"
     ]
    }
   ],
   "source": [
    "if config['train_item_pure_svd']:\n",
    "    # with open('/kaggle/working/Recsys_Challenge_2023/tuning_results/best_params_puresvd_item.json', 'r') as params_file:\n",
    "    #     params_pure_svd_item = json.load(params_file)\n",
    "    params_pure_svd_item = {\"topK\": 43, \"num_factors\": 171}\n",
    "    \n",
    "    print('Training PureSVDItem models')\n",
    "    \n",
    "    for i, (URM_train, URM_valid) in enumerate(folds):\n",
    "        recommender = PureSVDItemRecommender(URM_train)\n",
    "        recommender.fit(**params_pure_svd_item)\n",
    "\n",
    "        recommender.save_model(\n",
    "            folder_path=f'/kaggle/working/fold_{i}', \n",
    "            file_name='item_pure_svd'\n",
    "        )\n",
    "        \n",
    "        if config['save_github']: \n",
    "            upload_file(\n",
    "                f'/kaggle/working/fold_{i}/item_pure_svd.zip',\n",
    "                f'models/{config[\"n_folds\"]}Folds/fold_{i}/item_pure_svd.zip', \n",
    "                f'CV {config[\"n_folds\"]} folds: item_pure_svd for fold {i}'\n",
    "            )"
   ]
  },
  {
   "cell_type": "code",
   "execution_count": 26,
   "id": "957110a4",
   "metadata": {
    "execution": {
     "iopub.execute_input": "2023-12-10T16:44:22.480268Z",
     "iopub.status.busy": "2023-12-10T16:44:22.479755Z",
     "iopub.status.idle": "2023-12-10T16:46:06.335930Z",
     "shell.execute_reply": "2023-12-10T16:46:06.334777Z"
    },
    "papermill": {
     "duration": 103.894924,
     "end_time": "2023-12-10T16:46:06.339709",
     "exception": false,
     "start_time": "2023-12-10T16:44:22.444785",
     "status": "completed"
    },
    "tags": []
   },
   "outputs": [
    {
     "name": "stdout",
     "output_type": "stream",
     "text": [
      "Training ScaledPureSVD models\n",
      "ScaledPureSVDRecommender: URM Detected 609 ( 4.7%) users with no interactions.\n",
      "ScaledPureSVDRecommender: URM Detected 241 ( 1.1%) items with no interactions.\n",
      "ScaledPureSVDRecommender: Computing SVD decomposition...\n",
      "ScaledPureSVDRecommender: Computing SVD decomposition... done in 6.12 sec\n",
      "ScaledPureSVDRecommender: Saving model in file '/kaggle/working/fold_0pure_svd_scaled'\n",
      "ScaledPureSVDRecommender: Saving complete\n",
      "ScaledPureSVDRecommender: URM Detected 594 ( 4.6%) users with no interactions.\n",
      "ScaledPureSVDRecommender: URM Detected 237 ( 1.1%) items with no interactions.\n",
      "ScaledPureSVDRecommender: Computing SVD decomposition...\n",
      "ScaledPureSVDRecommender: Computing SVD decomposition... done in 6.17 sec\n",
      "ScaledPureSVDRecommender: Saving model in file '/kaggle/working/fold_1pure_svd_scaled'\n",
      "ScaledPureSVDRecommender: Saving complete\n",
      "ScaledPureSVDRecommender: URM Detected 929 ( 7.1%) users with no interactions.\n",
      "ScaledPureSVDRecommender: URM Detected 540 ( 2.4%) items with no interactions.\n",
      "ScaledPureSVDRecommender: Computing SVD decomposition...\n",
      "ScaledPureSVDRecommender: Computing SVD decomposition... done in 5.95 sec\n",
      "ScaledPureSVDRecommender: Saving model in file '/kaggle/working/fold_2pure_svd_scaled'\n",
      "ScaledPureSVDRecommender: Saving complete\n",
      "ScaledPureSVDRecommender: URM Detected 1415 (10.9%) users with no interactions.\n",
      "ScaledPureSVDRecommender: URM Detected 1483 ( 6.6%) items with no interactions.\n",
      "ScaledPureSVDRecommender: Computing SVD decomposition...\n",
      "ScaledPureSVDRecommender: Computing SVD decomposition... done in 5.82 sec\n",
      "ScaledPureSVDRecommender: Saving model in file '/kaggle/working/fold_3pure_svd_scaled'\n",
      "ScaledPureSVDRecommender: Saving complete\n",
      "ScaledPureSVDRecommender: URM Detected 613 ( 4.7%) users with no interactions.\n",
      "ScaledPureSVDRecommender: URM Detected 232 ( 1.0%) items with no interactions.\n",
      "ScaledPureSVDRecommender: Computing SVD decomposition...\n",
      "ScaledPureSVDRecommender: Computing SVD decomposition... done in 6.24 sec\n",
      "ScaledPureSVDRecommender: Saving model in file '/kaggle/working/fold_4pure_svd_scaled'\n",
      "ScaledPureSVDRecommender: Saving complete\n"
     ]
    }
   ],
   "source": [
    "if config['train_pure_svd_scaled']:\n",
    "    with open('/kaggle/working/Recsys_Challenge_2023/tuning_results/best_params_puresvd_scaled.json', 'r') as params_file:\n",
    "        params_scaled = json.load(params_file)\n",
    "        \n",
    "    print('Training ScaledPureSVD models')\n",
    "    \n",
    "    for i, (URM_train, URM_valid) in enumerate(folds):\n",
    "        recommender = ScaledPureSVDRecommender(URM_train)\n",
    "        recommender.fit(**params_scaled)\n",
    "\n",
    "        recommender.save_model(\n",
    "            folder_path=f'/kaggle/working/fold_{i}', \n",
    "            file_name='pure_svd_scaled'\n",
    "        )\n",
    "        \n",
    "        if config['save_github']: \n",
    "            upload_file(\n",
    "                f'/kaggle/working/fold_{i}/pure_svd_scaled.zip',\n",
    "                f'models/{config[\"n_folds\"]}Folds/fold_{i}/pure_svd_scaled.zip', \n",
    "                f'CV {config[\"n_folds\"]} folds: pure_svd_scaled for fold {i}'\n",
    "            )"
   ]
  }
 ],
 "metadata": {
  "kaggle": {
   "accelerator": "none",
   "dataSources": [
    {
     "databundleVersionId": 6919098,
     "sourceId": 62803,
     "sourceType": "competition"
    }
   ],
   "dockerImageVersionId": 30579,
   "isGpuEnabled": false,
   "isInternetEnabled": true,
   "language": "python",
   "sourceType": "notebook"
  },
  "kernelspec": {
   "display_name": "Python 3",
   "language": "python",
   "name": "python3"
  },
  "language_info": {
   "codemirror_mode": {
    "name": "ipython",
    "version": 3
   },
   "file_extension": ".py",
   "mimetype": "text/x-python",
   "name": "python",
   "nbconvert_exporter": "python",
   "pygments_lexer": "ipython3",
   "version": "3.10.12"
  },
  "papermill": {
   "default_parameters": {},
   "duration": 739.949004,
   "end_time": "2023-12-10T16:46:09.402945",
   "environment_variables": {},
   "exception": null,
   "input_path": "__notebook__.ipynb",
   "output_path": "__notebook__.ipynb",
   "parameters": {},
   "start_time": "2023-12-10T16:33:49.453941",
   "version": "2.4.0"
  }
 },
 "nbformat": 4,
 "nbformat_minor": 5
}
