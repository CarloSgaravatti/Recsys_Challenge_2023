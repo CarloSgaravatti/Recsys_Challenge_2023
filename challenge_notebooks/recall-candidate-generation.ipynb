{
 "cells": [
  {
   "cell_type": "code",
   "execution_count": 1,
   "id": "77ae347c",
   "metadata": {
    "_cell_guid": "b1076dfc-b9ad-4769-8c92-a6c4dae69d19",
    "_uuid": "8f2839f25d086af736a60e9eeb907d3b93b6e0e5",
    "execution": {
     "iopub.execute_input": "2023-12-24T17:29:33.428751Z",
     "iopub.status.busy": "2023-12-24T17:29:33.428181Z",
     "iopub.status.idle": "2023-12-24T17:30:41.499075Z",
     "shell.execute_reply": "2023-12-24T17:30:41.496619Z"
    },
    "papermill": {
     "duration": 68.082019,
     "end_time": "2023-12-24T17:30:41.501723",
     "exception": false,
     "start_time": "2023-12-24T17:29:33.419704",
     "status": "completed"
    },
    "tags": []
   },
   "outputs": [
    {
     "name": "stdout",
     "output_type": "stream",
     "text": [
      "Cloning into 'Recsys_Challenge_2023'...\r\n",
      "remote: Enumerating objects: 5865, done.\u001b[K\r\n",
      "remote: Counting objects: 100% (1054/1054), done.\u001b[K\r\n",
      "remote: Compressing objects: 100% (169/169), done.\u001b[K\r\n",
      "remote: Total 5865 (delta 896), reused 1035 (delta 879), pack-reused 4811\u001b[K\r\n",
      "Receiving objects: 100% (5865/5865), 2.94 GiB | 59.91 MiB/s, done.\r\n",
      "Resolving deltas: 100% (4722/4722), done.\r\n",
      "Updating files: 100% (496/496), done.\r\n"
     ]
    }
   ],
   "source": [
    "from kaggle_secrets import UserSecretsClient\n",
    "secret_label = \"Token\"\n",
    "token = UserSecretsClient().get_secret(secret_label)\n",
    "\n",
    "! git clone https://{token}@github.com/CarloSgaravatti/Recsys_Challenge_2023.git"
   ]
  },
  {
   "cell_type": "code",
   "execution_count": 2,
   "id": "3be6e564",
   "metadata": {
    "execution": {
     "iopub.execute_input": "2023-12-24T17:30:41.537232Z",
     "iopub.status.busy": "2023-12-24T17:30:41.536787Z",
     "iopub.status.idle": "2023-12-24T17:30:58.773817Z",
     "shell.execute_reply": "2023-12-24T17:30:58.772429Z"
    },
    "papermill": {
     "duration": 17.259706,
     "end_time": "2023-12-24T17:30:58.777970",
     "exception": false,
     "start_time": "2023-12-24T17:30:41.518264",
     "status": "completed"
    },
    "tags": []
   },
   "outputs": [
    {
     "name": "stdout",
     "output_type": "stream",
     "text": [
      "Collecting PyGithub\r\n",
      "  Obtaining dependency information for PyGithub from https://files.pythonhosted.org/packages/be/04/810d131be173cba445d3658a45512b2b2b3d0960d52c4a300d6ec5e00f52/PyGithub-2.1.1-py3-none-any.whl.metadata\r\n",
      "  Downloading PyGithub-2.1.1-py3-none-any.whl.metadata (2.2 kB)\r\n",
      "Requirement already satisfied: requests in /opt/conda/lib/python3.10/site-packages (2.31.0)\r\n",
      "Collecting pynacl>=1.4.0 (from PyGithub)\r\n",
      "  Downloading PyNaCl-1.5.0-cp36-abi3-manylinux_2_17_x86_64.manylinux2014_x86_64.manylinux_2_24_x86_64.whl (856 kB)\r\n",
      "\u001b[2K     \u001b[90m━━━━━━━━━━━━━━━━━━━━━━━━━━━━━━━━━━━━━━\u001b[0m \u001b[32m856.7/856.7 kB\u001b[0m \u001b[31m11.5 MB/s\u001b[0m eta \u001b[36m0:00:00\u001b[0m\r\n",
      "\u001b[?25hRequirement already satisfied: python-dateutil in /opt/conda/lib/python3.10/site-packages (from PyGithub) (2.8.2)\r\n",
      "Requirement already satisfied: pyjwt[crypto]>=2.4.0 in /opt/conda/lib/python3.10/site-packages (from PyGithub) (2.8.0)\r\n",
      "Requirement already satisfied: typing-extensions>=4.0.0 in /opt/conda/lib/python3.10/site-packages (from PyGithub) (4.5.0)\r\n",
      "Requirement already satisfied: urllib3>=1.26.0 in /opt/conda/lib/python3.10/site-packages (from PyGithub) (1.26.15)\r\n",
      "Requirement already satisfied: Deprecated in /opt/conda/lib/python3.10/site-packages (from PyGithub) (1.2.14)\r\n",
      "Requirement already satisfied: charset-normalizer<4,>=2 in /opt/conda/lib/python3.10/site-packages (from requests) (3.2.0)\r\n",
      "Requirement already satisfied: idna<4,>=2.5 in /opt/conda/lib/python3.10/site-packages (from requests) (3.4)\r\n",
      "Requirement already satisfied: certifi>=2017.4.17 in /opt/conda/lib/python3.10/site-packages (from requests) (2023.7.22)\r\n",
      "Requirement already satisfied: cryptography>=3.4.0 in /opt/conda/lib/python3.10/site-packages (from pyjwt[crypto]>=2.4.0->PyGithub) (41.0.3)\r\n",
      "Requirement already satisfied: cffi>=1.4.1 in /opt/conda/lib/python3.10/site-packages (from pynacl>=1.4.0->PyGithub) (1.15.1)\r\n",
      "Requirement already satisfied: wrapt<2,>=1.10 in /opt/conda/lib/python3.10/site-packages (from Deprecated->PyGithub) (1.15.0)\r\n",
      "Requirement already satisfied: six>=1.5 in /opt/conda/lib/python3.10/site-packages (from python-dateutil->PyGithub) (1.16.0)\r\n",
      "Requirement already satisfied: pycparser in /opt/conda/lib/python3.10/site-packages (from cffi>=1.4.1->pynacl>=1.4.0->PyGithub) (2.21)\r\n",
      "Downloading PyGithub-2.1.1-py3-none-any.whl (302 kB)\r\n",
      "\u001b[2K   \u001b[90m━━━━━━━━━━━━━━━━━━━━━━━━━━━━━━━━━━━━━━━━\u001b[0m \u001b[32m302.9/302.9 kB\u001b[0m \u001b[31m13.6 MB/s\u001b[0m eta \u001b[36m0:00:00\u001b[0m\r\n",
      "\u001b[?25hInstalling collected packages: pynacl, PyGithub\r\n",
      "Successfully installed PyGithub-2.1.1 pynacl-1.5.0\r\n"
     ]
    }
   ],
   "source": [
    "! pip install PyGithub requests"
   ]
  },
  {
   "cell_type": "code",
   "execution_count": 3,
   "id": "8c050895",
   "metadata": {
    "_kg_hide-output": true,
    "execution": {
     "iopub.execute_input": "2023-12-24T17:30:58.836373Z",
     "iopub.status.busy": "2023-12-24T17:30:58.834957Z",
     "iopub.status.idle": "2023-12-24T17:32:57.658679Z",
     "shell.execute_reply": "2023-12-24T17:32:57.656847Z"
    },
    "papermill": {
     "duration": 118.856604,
     "end_time": "2023-12-24T17:32:57.661755",
     "exception": false,
     "start_time": "2023-12-24T17:30:58.805151",
     "status": "completed"
    },
    "scrolled": true,
    "tags": []
   },
   "outputs": [
    {
     "name": "stdout",
     "output_type": "stream",
     "text": [
      "run_compile_all_cython: Found 10 Cython files in 4 folders...\r\n",
      "run_compile_all_cython: All files will be compiled using your current python environment: '/opt/conda/bin/python'\r\n",
      "Compiling [1/10]: MatrixFactorizationImpressions_Cython_Epoch.pyx... \r\n",
      "In file included from \u001b[01m\u001b[K/opt/conda/lib/python3.10/site-packages/numpy/core/include/numpy/ndarraytypes.h:1940\u001b[m\u001b[K,\r\n",
      "                 from \u001b[01m\u001b[K/opt/conda/lib/python3.10/site-packages/numpy/core/include/numpy/ndarrayobject.h:12\u001b[m\u001b[K,\r\n",
      "                 from \u001b[01m\u001b[K/opt/conda/lib/python3.10/site-packages/numpy/core/include/numpy/arrayobject.h:5\u001b[m\u001b[K,\r\n",
      "                 from \u001b[01m\u001b[KMatrixFactorizationImpressions_Cython_Epoch.c:1109\u001b[m\u001b[K:\r\n",
      "\u001b[01m\u001b[K/opt/conda/lib/python3.10/site-packages/numpy/core/include/numpy/npy_1_7_deprecated_api.h:17:2:\u001b[m\u001b[K \u001b[01;35m\u001b[Kwarning: \u001b[m\u001b[K#warning \"Using deprecated NumPy API, disable it with \" \"#define NPY_NO_DEPRECATED_API NPY_1_7_API_VERSION\" [\u001b[01;35m\u001b[K-Wcpp\u001b[m\u001b[K]\r\n",
      "   17 | #\u001b[01;35m\u001b[Kwarning\u001b[m\u001b[K \"Using deprecated NumPy API, disable it with \" \\\r\n",
      "      |  \u001b[01;35m\u001b[K^~~~~~~\u001b[m\u001b[K\r\n",
      "\u001b[01m\u001b[KMatrixFactorizationImpressions_Cython_Epoch.c:\u001b[m\u001b[K In function ‘\u001b[01m\u001b[K__pyx_f_43MatrixFactorizationImpressions_Cython_Epoch_32MatrixFactorization_Cython_Epoch_sampleBPR_Cython\u001b[m\u001b[K’:\r\n",
      "\u001b[01m\u001b[KMatrixFactorizationImpressions_Cython_Epoch.c:29664:17:\u001b[m\u001b[K \u001b[01;35m\u001b[Kwarning: \u001b[m\u001b[K‘\u001b[01m\u001b[K__pyx_v_start_pos_impression_items\u001b[m\u001b[K’ may be used uninitialized in this function [\u001b[01;35m\u001b[K-Wmaybe-uninitialized\u001b[m\u001b[K]\r\n",
      "29664 |       \u001b[01;35m\u001b[K__pyx_t_4 = (__pyx_v_start_pos_impression_items + __pyx_v_index)\u001b[m\u001b[K;\r\n",
      "      |       \u001b[01;35m\u001b[K~~~~~~~~~~^~~~~~~~~~~~~~~~~~~~~~~~~~~~~~~~~~~~~~~~~~~~~~~~~~~~~~\u001b[m\u001b[K\r\n",
      "\u001b[01m\u001b[KMatrixFactorizationImpressions_Cython_Epoch.c:\u001b[m\u001b[K In function ‘\u001b[01m\u001b[K__pyx_pf_43MatrixFactorizationImpressions_Cython_Epoch_32MatrixFactorization_Cython_Epoch_10epochIteration_Cython_ASY_SVD_SGD\u001b[m\u001b[K’:\r\n",
      "\u001b[01m\u001b[KMatrixFactorizationImpressions_Cython_Epoch.c:25474:7:\u001b[m\u001b[K \u001b[01;35m\u001b[Kwarning: \u001b[m\u001b[K‘\u001b[01m\u001b[K__pyx_v_end_pos_seen_items\u001b[m\u001b[K’ may be used uninitialized in this function [\u001b[01;35m\u001b[K-Wmaybe-uninitialized\u001b[m\u001b[K]\r\n",
      "25474 |       \u001b[01;35m\u001b[Kfor\u001b[m\u001b[K (__pyx_t_21 = __pyx_v_start_pos_seen_items; __pyx_t_21 < __pyx_t_20; __pyx_t_21+=1) {\r\n",
      "      |       \u001b[01;35m\u001b[K^~~\u001b[m\u001b[K\r\n",
      "\u001b[01m\u001b[KMatrixFactorizationImpressions_Cython_Epoch.c:25474:7:\u001b[m\u001b[K \u001b[01;35m\u001b[Kwarning: \u001b[m\u001b[K‘\u001b[01m\u001b[K__pyx_v_start_pos_seen_items\u001b[m\u001b[K’ may be used uninitialized in this function [\u001b[01;35m\u001b[K-Wmaybe-uninitialized\u001b[m\u001b[K]\r\n",
      "/opt/conda/lib/python3.10/site-packages/Cython/Compiler/Main.py:381: FutureWarning: Cython directive 'language_level' not set, using '3str' for now (Py3). This has changed from earlier releases! File: /kaggle/working/Recsys_Challenge_2023/Recommenders/MatrixFactorization/Cython/MatrixFactorizationImpressions_Cython_Epoch.pyx\r\n",
      "  tree = Parsing.p_module(s, pxd, full_module_name)\r\n",
      "Compiling [1/10]: MatrixFactorizationImpressions_Cython_Epoch.pyx... PASS\r\n",
      "\r\n",
      "Compiling [2/10]: MatrixFactorization_Cython_Epoch.pyx... \r\n",
      "In file included from \u001b[01m\u001b[K/opt/conda/lib/python3.10/site-packages/numpy/core/include/numpy/ndarraytypes.h:1940\u001b[m\u001b[K,\r\n",
      "                 from \u001b[01m\u001b[K/opt/conda/lib/python3.10/site-packages/numpy/core/include/numpy/ndarrayobject.h:12\u001b[m\u001b[K,\r\n",
      "                 from \u001b[01m\u001b[K/opt/conda/lib/python3.10/site-packages/numpy/core/include/numpy/arrayobject.h:5\u001b[m\u001b[K,\r\n",
      "                 from \u001b[01m\u001b[KMatrixFactorization_Cython_Epoch.c:1109\u001b[m\u001b[K:\r\n",
      "\u001b[01m\u001b[K/opt/conda/lib/python3.10/site-packages/numpy/core/include/numpy/npy_1_7_deprecated_api.h:17:2:\u001b[m\u001b[K \u001b[01;35m\u001b[Kwarning: \u001b[m\u001b[K#warning \"Using deprecated NumPy API, disable it with \" \"#define NPY_NO_DEPRECATED_API NPY_1_7_API_VERSION\" [\u001b[01;35m\u001b[K-Wcpp\u001b[m\u001b[K]\r\n",
      "   17 | #\u001b[01;35m\u001b[Kwarning\u001b[m\u001b[K \"Using deprecated NumPy API, disable it with \" \\\r\n",
      "      |  \u001b[01;35m\u001b[K^~~~~~~\u001b[m\u001b[K\r\n",
      "\u001b[01m\u001b[KMatrixFactorization_Cython_Epoch.c:\u001b[m\u001b[K In function ‘\u001b[01m\u001b[K__pyx_pf_32MatrixFactorization_Cython_Epoch_32MatrixFactorization_Cython_Epoch_10epochIteration_Cython_ASY_SVD_SGD\u001b[m\u001b[K’:\r\n",
      "\u001b[01m\u001b[KMatrixFactorization_Cython_Epoch.c:25614:9:\u001b[m\u001b[K \u001b[01;35m\u001b[Kwarning: \u001b[m\u001b[K‘\u001b[01m\u001b[K__pyx_v_end_pos_seen_items\u001b[m\u001b[K’ may be used uninitialized in this function [\u001b[01;35m\u001b[K-Wmaybe-uninitialized\u001b[m\u001b[K]\r\n",
      "25614 |         \u001b[01;35m\u001b[Kfor\u001b[m\u001b[K (__pyx_t_21 = __pyx_v_start_pos_seen_items; __pyx_t_21 < __pyx_t_20; __pyx_t_21+=1) {\r\n",
      "      |         \u001b[01;35m\u001b[K^~~\u001b[m\u001b[K\r\n",
      "\u001b[01m\u001b[KMatrixFactorization_Cython_Epoch.c:25614:9:\u001b[m\u001b[K \u001b[01;35m\u001b[Kwarning: \u001b[m\u001b[K‘\u001b[01m\u001b[K__pyx_v_start_pos_seen_items\u001b[m\u001b[K’ may be used uninitialized in this function [\u001b[01;35m\u001b[K-Wmaybe-uninitialized\u001b[m\u001b[K]\r\n",
      "/opt/conda/lib/python3.10/site-packages/Cython/Compiler/Main.py:381: FutureWarning: Cython directive 'language_level' not set, using '3str' for now (Py3). This has changed from earlier releases! File: /kaggle/working/Recsys_Challenge_2023/Recommenders/MatrixFactorization/Cython/MatrixFactorization_Cython_Epoch.pyx\r\n",
      "  tree = Parsing.p_module(s, pxd, full_module_name)\r\n",
      "Compiling [2/10]: MatrixFactorization_Cython_Epoch.pyx... PASS\r\n",
      "\r\n",
      "Compiling [3/10]: Compute_Similarity_Cython.pyx... \r\n",
      "warning: Compute_Similarity_Cython.pyx:21:0: The 'IF' statement is deprecated and will be removed in a future Cython version. Consider using runtime conditions or C macros instead. See https://github.com/cython/cython/issues/4310\r\n",
      "warning: Compute_Similarity_Cython.pyx:22:4: The 'DEF' statement is deprecated and will be removed in a future Cython version. Consider using global variables, constants, and in-place literals instead. See https://github.com/cython/cython/issues/4310\r\n",
      "warning: Compute_Similarity_Cython.pyx:24:4: The 'DEF' statement is deprecated and will be removed in a future Cython version. Consider using global variables, constants, and in-place literals instead. See https://github.com/cython/cython/issues/4310\r\n",
      "warning: Compute_Similarity_Cython.pyx:26:4: The 'DEF' statement is deprecated and will be removed in a future Cython version. Consider using global variables, constants, and in-place literals instead. See https://github.com/cython/cython/issues/4310\r\n",
      "In file included from \u001b[01m\u001b[K/opt/conda/lib/python3.10/site-packages/numpy/core/include/numpy/ndarraytypes.h:1940\u001b[m\u001b[K,\r\n",
      "                 from \u001b[01m\u001b[K/opt/conda/lib/python3.10/site-packages/numpy/core/include/numpy/ndarrayobject.h:12\u001b[m\u001b[K,\r\n",
      "                 from \u001b[01m\u001b[K/opt/conda/lib/python3.10/site-packages/numpy/core/include/numpy/arrayobject.h:5\u001b[m\u001b[K,\r\n",
      "                 from \u001b[01m\u001b[KCompute_Similarity_Cython.c:1109\u001b[m\u001b[K:\r\n",
      "\u001b[01m\u001b[K/opt/conda/lib/python3.10/site-packages/numpy/core/include/numpy/npy_1_7_deprecated_api.h:17:2:\u001b[m\u001b[K \u001b[01;35m\u001b[Kwarning: \u001b[m\u001b[K#warning \"Using deprecated NumPy API, disable it with \" \"#define NPY_NO_DEPRECATED_API NPY_1_7_API_VERSION\" [\u001b[01;35m\u001b[K-Wcpp\u001b[m\u001b[K]\r\n",
      "   17 | #\u001b[01;35m\u001b[Kwarning\u001b[m\u001b[K \"Using deprecated NumPy API, disable it with \" \\\r\n",
      "      |  \u001b[01;35m\u001b[K^~~~~~~\u001b[m\u001b[K\r\n",
      "/opt/conda/lib/python3.10/site-packages/Cython/Compiler/Main.py:381: FutureWarning: Cython directive 'language_level' not set, using '3str' for now (Py3). This has changed from earlier releases! File: /kaggle/working/Recsys_Challenge_2023/Recommenders/Similarity/Cython/Compute_Similarity_Cython.pyx\r\n",
      "  tree = Parsing.p_module(s, pxd, full_module_name)\r\n",
      "warning: Compute_Similarity_Cython.pyx:21:0: The 'IF' statement is deprecated and will be removed in a future Cython version. Consider using runtime conditions or C macros instead. See https://github.com/cython/cython/issues/4310\r\n",
      "warning: Compute_Similarity_Cython.pyx:22:4: The 'DEF' statement is deprecated and will be removed in a future Cython version. Consider using global variables, constants, and in-place literals instead. See https://github.com/cython/cython/issues/4310\r\n",
      "warning: Compute_Similarity_Cython.pyx:24:4: The 'DEF' statement is deprecated and will be removed in a future Cython version. Consider using global variables, constants, and in-place literals instead. See https://github.com/cython/cython/issues/4310\r\n",
      "warning: Compute_Similarity_Cython.pyx:26:4: The 'DEF' statement is deprecated and will be removed in a future Cython version. Consider using global variables, constants, and in-place literals instead. See https://github.com/cython/cython/issues/4310\r\n",
      "Compiling [3/10]: Compute_Similarity_Cython.pyx... PASS\r\n",
      "\r\n",
      "Compiling [4/10]: Triangular_Matrix.pyx... \r\n",
      "warning: Triangular_Matrix.pyx:22:0: The 'IF' statement is deprecated and will be removed in a future Cython version. Consider using runtime conditions or C macros instead. See https://github.com/cython/cython/issues/4310\r\n",
      "warning: Triangular_Matrix.pyx:23:4: The 'DEF' statement is deprecated and will be removed in a future Cython version. Consider using global variables, constants, and in-place literals instead. See https://github.com/cython/cython/issues/4310\r\n",
      "warning: Triangular_Matrix.pyx:25:4: The 'DEF' statement is deprecated and will be removed in a future Cython version. Consider using global variables, constants, and in-place literals instead. See https://github.com/cython/cython/issues/4310\r\n",
      "warning: Triangular_Matrix.pyx:27:4: The 'DEF' statement is deprecated and will be removed in a future Cython version. Consider using global variables, constants, and in-place literals instead. See https://github.com/cython/cython/issues/4310\r\n",
      "In file included from \u001b[01m\u001b[K/opt/conda/lib/python3.10/site-packages/numpy/core/include/numpy/ndarraytypes.h:1940\u001b[m\u001b[K,\r\n",
      "                 from \u001b[01m\u001b[K/opt/conda/lib/python3.10/site-packages/numpy/core/include/numpy/ndarrayobject.h:12\u001b[m\u001b[K,\r\n",
      "                 from \u001b[01m\u001b[K/opt/conda/lib/python3.10/site-packages/numpy/core/include/numpy/arrayobject.h:5\u001b[m\u001b[K,\r\n",
      "                 from \u001b[01m\u001b[KTriangular_Matrix.c:1109\u001b[m\u001b[K:\r\n",
      "\u001b[01m\u001b[K/opt/conda/lib/python3.10/site-packages/numpy/core/include/numpy/npy_1_7_deprecated_api.h:17:2:\u001b[m\u001b[K \u001b[01;35m\u001b[Kwarning: \u001b[m\u001b[K#warning \"Using deprecated NumPy API, disable it with \" \"#define NPY_NO_DEPRECATED_API NPY_1_7_API_VERSION\" [\u001b[01;35m\u001b[K-Wcpp\u001b[m\u001b[K]\r\n",
      "   17 | #\u001b[01;35m\u001b[Kwarning\u001b[m\u001b[K \"Using deprecated NumPy API, disable it with \" \\\r\n",
      "      |  \u001b[01;35m\u001b[K^~~~~~~\u001b[m\u001b[K\r\n",
      "/opt/conda/lib/python3.10/site-packages/Cython/Compiler/Main.py:381: FutureWarning: Cython directive 'language_level' not set, using '3str' for now (Py3). This has changed from earlier releases! File: /kaggle/working/Recsys_Challenge_2023/Recommenders/SLIM/Cython/Triangular_Matrix.pyx\r\n",
      "  tree = Parsing.p_module(s, pxd, full_module_name)\r\n",
      "warning: Triangular_Matrix.pyx:22:0: The 'IF' statement is deprecated and will be removed in a future Cython version. Consider using runtime conditions or C macros instead. See https://github.com/cython/cython/issues/4310\r\n",
      "warning: Triangular_Matrix.pyx:23:4: The 'DEF' statement is deprecated and will be removed in a future Cython version. Consider using global variables, constants, and in-place literals instead. See https://github.com/cython/cython/issues/4310\r\n",
      "warning: Triangular_Matrix.pyx:25:4: The 'DEF' statement is deprecated and will be removed in a future Cython version. Consider using global variables, constants, and in-place literals instead. See https://github.com/cython/cython/issues/4310\r\n",
      "warning: Triangular_Matrix.pyx:27:4: The 'DEF' statement is deprecated and will be removed in a future Cython version. Consider using global variables, constants, and in-place literals instead. See https://github.com/cython/cython/issues/4310\r\n",
      "Compiling [4/10]: Triangular_Matrix.pyx... PASS\r\n",
      "\r\n",
      "Compiling [5/10]: Sparse_Matrix_Tree_CSR.pyx... \r\n",
      "warning: Sparse_Matrix_Tree_CSR.pyx:132:34: Non-trivial type declarators in shared declaration (e.g. mix of pointers and values). Each pointer declaration should be on its own line.\r\n",
      "warning: Sparse_Matrix_Tree_CSR.pyx:132:66: Non-trivial type declarators in shared declaration (e.g. mix of pointers and values). Each pointer declaration should be on its own line.\r\n",
      "warning: Sparse_Matrix_Tree_CSR.pyx:343:35: Non-trivial type declarators in shared declaration (e.g. mix of pointers and values). Each pointer declaration should be on its own line.\r\n",
      "warning: Sparse_Matrix_Tree_CSR.pyx:343:52: Non-trivial type declarators in shared declaration (e.g. mix of pointers and values). Each pointer declaration should be on its own line.\r\n",
      "warning: Sparse_Matrix_Tree_CSR.pyx:442:35: Non-trivial type declarators in shared declaration (e.g. mix of pointers and values). Each pointer declaration should be on its own line.\r\n",
      "warning: Sparse_Matrix_Tree_CSR.pyx:442:53: Non-trivial type declarators in shared declaration (e.g. mix of pointers and values). Each pointer declaration should be on its own line.\r\n",
      "warning: Sparse_Matrix_Tree_CSR.pyx:442:69: Non-trivial type declarators in shared declaration (e.g. mix of pointers and values). Each pointer declaration should be on its own line.\r\n",
      "warning: Sparse_Matrix_Tree_CSR.pyx:577:35: Non-trivial type declarators in shared declaration (e.g. mix of pointers and values). Each pointer declaration should be on its own line.\r\n",
      "warning: Sparse_Matrix_Tree_CSR.pyx:577:42: Non-trivial type declarators in shared declaration (e.g. mix of pointers and values). Each pointer declaration should be on its own line.\r\n",
      "warning: Sparse_Matrix_Tree_CSR.pyx:578:35: Non-trivial type declarators in shared declaration (e.g. mix of pointers and values). Each pointer declaration should be on its own line.\r\n",
      "warning: Sparse_Matrix_Tree_CSR.pyx:578:53: Non-trivial type declarators in shared declaration (e.g. mix of pointers and values). Each pointer declaration should be on its own line.\r\n",
      "\r\n",
      "Error compiling Cython file:\r\n",
      "------------------------------------------------------------\r\n",
      "...\r\n",
      "            vector_pointer_to_list_elements[index].head = current_element\r\n",
      "            current_element = current_element.higher\r\n",
      "\r\n",
      "\r\n",
      "        # Sort array elements on their data field\r\n",
      "        qsort(vector_pointer_to_list_elements, list_length, sizeof(head_pointer_tree_s), compare_struct_on_data)\r\n",
      "                                                                                         ^\r\n",
      "------------------------------------------------------------\r\n",
      "\r\n",
      "Sparse_Matrix_Tree_CSR.pyx:516:89: Cannot assign type 'int (const void *, const void *) except? -1' to 'int (*)(const_void *, const_void *) noexcept'\r\n",
      "\r\n",
      "Error compiling Cython file:\r\n",
      "------------------------------------------------------------\r\n",
      "...\r\n",
      "        # Sort array elements on their data field\r\n",
      "        qsort(vector_pointer_to_list_elements, list_length, sizeof(head_pointer_tree_s), compare_struct_on_data)\r\n",
      "\r\n",
      "        # Sort only the TopK according to their column field\r\n",
      "        # Sort is from lower to higher, therefore the elements to be considered are from len-topK to len\r\n",
      "        qsort(&vector_pointer_to_list_elements[list_length-TopK], TopK, sizeof(head_pointer_tree_s), compare_struct_on_column)\r\n",
      "                                                                                                     ^\r\n",
      "------------------------------------------------------------\r\n",
      "\r\n",
      "Sparse_Matrix_Tree_CSR.pyx:520:101: Cannot assign type 'int (const void *, const void *) except? -1' to 'int (*)(const_void *, const_void *) noexcept'\r\n",
      "Traceback (most recent call last):\r\n",
      "  File \"/kaggle/working/Recsys_Challenge_2023/CythonCompiler/compile_script.py\", line 48, in <module>\r\n",
      "    setup(\r\n",
      "  File \"/opt/conda/lib/python3.10/site-packages/setuptools/__init__.py\", line 107, in setup\r\n",
      "    return distutils.core.setup(**attrs)\r\n",
      "  File \"/opt/conda/lib/python3.10/site-packages/setuptools/_distutils/core.py\", line 185, in setup\r\n",
      "    return run_commands(dist)\r\n",
      "  File \"/opt/conda/lib/python3.10/site-packages/setuptools/_distutils/core.py\", line 201, in run_commands\r\n",
      "    dist.run_commands()\r\n",
      "  File \"/opt/conda/lib/python3.10/site-packages/setuptools/_distutils/dist.py\", line 969, in run_commands\r\n",
      "    self.run_command(cmd)\r\n",
      "  File \"/opt/conda/lib/python3.10/site-packages/setuptools/dist.py\", line 1233, in run_command\r\n",
      "    super().run_command(command)\r\n",
      "  File \"/opt/conda/lib/python3.10/site-packages/setuptools/_distutils/dist.py\", line 988, in run_command\r\n",
      "    cmd_obj.run()\r\n",
      "  File \"/opt/conda/lib/python3.10/site-packages/setuptools/_distutils/command/build_ext.py\", line 345, in run\r\n",
      "    self.build_extensions()\r\n",
      "  File \"/opt/conda/lib/python3.10/site-packages/setuptools/_distutils/command/build_ext.py\", line 467, in build_extensions\r\n",
      "    self._build_extensions_serial()\r\n",
      "  File \"/opt/conda/lib/python3.10/site-packages/setuptools/_distutils/command/build_ext.py\", line 493, in _build_extensions_serial\r\n",
      "    self.build_extension(ext)\r\n",
      "  File \"/opt/conda/lib/python3.10/site-packages/Cython/Distutils/build_ext.py\", line 122, in build_extension\r\n",
      "    new_ext = cythonize(\r\n",
      "  File \"/opt/conda/lib/python3.10/site-packages/Cython/Build/Dependencies.py\", line 1134, in cythonize\r\n",
      "    cythonize_one(*args)\r\n",
      "  File \"/opt/conda/lib/python3.10/site-packages/Cython/Build/Dependencies.py\", line 1301, in cythonize_one\r\n",
      "    raise CompileError(None, pyx_file)\r\n",
      "Cython.Compiler.Errors.CompileError: Sparse_Matrix_Tree_CSR.pyx\r\n",
      "Traceback (most recent call last):\r\n",
      "  File \"/kaggle/working/Recsys_Challenge_2023/run_compile_all_cython.py\", line 59, in <module>\r\n",
      "    run_compile_subprocess(file_path, [file_name])\r\n",
      "  File \"/kaggle/working/Recsys_Challenge_2023/CythonCompiler/run_compile_subprocess.py\", line 51, in run_compile_subprocess\r\n",
      "    raise exc\r\n",
      "  File \"/kaggle/working/Recsys_Challenge_2023/CythonCompiler/run_compile_subprocess.py\", line 32, in run_compile_subprocess\r\n",
      "    output = subprocess.check_output(' '.join(command),\r\n",
      "  File \"/opt/conda/lib/python3.10/subprocess.py\", line 421, in check_output\r\n",
      "    return run(*popenargs, stdout=PIPE, timeout=timeout, check=True,\r\n",
      "  File \"/opt/conda/lib/python3.10/subprocess.py\", line 526, in run\r\n",
      "    raise CalledProcessError(retcode, process.args,\r\n",
      "subprocess.CalledProcessError: Command '/opt/conda/bin/python /kaggle/working/Recsys_Challenge_2023/CythonCompiler/compile_script.py Sparse_Matrix_Tree_CSR.pyx build_ext --inplace' returned non-zero exit status 1.\r\n",
      "Compiling [5/10]: Sparse_Matrix_Tree_CSR.pyx... FAIL: Command '/opt/conda/bin/python /kaggle/working/Recsys_Challenge_2023/CythonCompiler/compile_script.py Sparse_Matrix_Tree_CSR.pyx build_ext --inplace' returned non-zero exit status 1.\r\n",
      "\r\n",
      "Compiling [6/10]: SLIM_BPR_Cython_Epoch.pyx... \r\n",
      "warning: SLIM_BPR_Cython_Epoch.pyx:24:0: The 'IF' statement is deprecated and will be removed in a future Cython version. Consider using runtime conditions or C macros instead. See https://github.com/cython/cython/issues/4310\r\n",
      "warning: SLIM_BPR_Cython_Epoch.pyx:25:4: The 'DEF' statement is deprecated and will be removed in a future Cython version. Consider using global variables, constants, and in-place literals instead. See https://github.com/cython/cython/issues/4310\r\n",
      "warning: SLIM_BPR_Cython_Epoch.pyx:27:4: The 'DEF' statement is deprecated and will be removed in a future Cython version. Consider using global variables, constants, and in-place literals instead. See https://github.com/cython/cython/issues/4310\r\n",
      "warning: SLIM_BPR_Cython_Epoch.pyx:29:4: The 'DEF' statement is deprecated and will be removed in a future Cython version. Consider using global variables, constants, and in-place literals instead. See https://github.com/cython/cython/issues/4310\r\n",
      "warning: SLIM_BPR_Cython_Epoch.pyx:632:34: Non-trivial type declarators in shared declaration (e.g. mix of pointers and values). Each pointer declaration should be on its own line.\r\n",
      "warning: SLIM_BPR_Cython_Epoch.pyx:632:66: Non-trivial type declarators in shared declaration (e.g. mix of pointers and values). Each pointer declaration should be on its own line.\r\n",
      "warning: SLIM_BPR_Cython_Epoch.pyx:817:35: Non-trivial type declarators in shared declaration (e.g. mix of pointers and values). Each pointer declaration should be on its own line.\r\n",
      "warning: SLIM_BPR_Cython_Epoch.pyx:817:52: Non-trivial type declarators in shared declaration (e.g. mix of pointers and values). Each pointer declaration should be on its own line.\r\n",
      "warning: SLIM_BPR_Cython_Epoch.pyx:916:35: Non-trivial type declarators in shared declaration (e.g. mix of pointers and values). Each pointer declaration should be on its own line.\r\n",
      "warning: SLIM_BPR_Cython_Epoch.pyx:916:53: Non-trivial type declarators in shared declaration (e.g. mix of pointers and values). Each pointer declaration should be on its own line.\r\n",
      "warning: SLIM_BPR_Cython_Epoch.pyx:916:69: Non-trivial type declarators in shared declaration (e.g. mix of pointers and values). Each pointer declaration should be on its own line.\r\n",
      "warning: SLIM_BPR_Cython_Epoch.pyx:1051:35: Non-trivial type declarators in shared declaration (e.g. mix of pointers and values). Each pointer declaration should be on its own line.\r\n",
      "warning: SLIM_BPR_Cython_Epoch.pyx:1051:42: Non-trivial type declarators in shared declaration (e.g. mix of pointers and values). Each pointer declaration should be on its own line.\r\n",
      "warning: SLIM_BPR_Cython_Epoch.pyx:1052:35: Non-trivial type declarators in shared declaration (e.g. mix of pointers and values). Each pointer declaration should be on its own line.\r\n",
      "warning: SLIM_BPR_Cython_Epoch.pyx:1052:53: Non-trivial type declarators in shared declaration (e.g. mix of pointers and values). Each pointer declaration should be on its own line.\r\n",
      "\r\n",
      "Error compiling Cython file:\r\n",
      "------------------------------------------------------------\r\n",
      "...\r\n",
      "            vector_pointer_to_list_elements[index].head = current_element\r\n",
      "            current_element = current_element.higher\r\n",
      "\r\n",
      "\r\n",
      "        # Sort array elements on their data field\r\n",
      "        qsort(vector_pointer_to_list_elements, list_length, sizeof(head_pointer_tree_s), compare_struct_on_data)\r\n",
      "                                                                                         ^\r\n",
      "------------------------------------------------------------\r\n",
      "\r\n",
      "SLIM_BPR_Cython_Epoch.pyx:990:89: Cannot assign type 'int (const void *, const void *) except? -1' to 'int (*)(const_void *, const_void *) noexcept'\r\n",
      "\r\n",
      "Error compiling Cython file:\r\n",
      "------------------------------------------------------------\r\n",
      "...\r\n",
      "        # Sort array elements on their data field\r\n",
      "        qsort(vector_pointer_to_list_elements, list_length, sizeof(head_pointer_tree_s), compare_struct_on_data)\r\n",
      "\r\n",
      "        # Sort only the TopK according to their column field\r\n",
      "        # Sort is from lower to higher, therefore the elements to be considered are from len-topK to len\r\n",
      "        qsort(&vector_pointer_to_list_elements[list_length-TopK], TopK, sizeof(head_pointer_tree_s), compare_struct_on_column)\r\n",
      "                                                                                                     ^\r\n",
      "------------------------------------------------------------\r\n",
      "\r\n",
      "SLIM_BPR_Cython_Epoch.pyx:994:101: Cannot assign type 'int (const void *, const void *) except? -1' to 'int (*)(const_void *, const_void *) noexcept'\r\n",
      "Traceback (most recent call last):\r\n",
      "  File \"/kaggle/working/Recsys_Challenge_2023/CythonCompiler/compile_script.py\", line 48, in <module>\r\n",
      "    setup(\r\n",
      "  File \"/opt/conda/lib/python3.10/site-packages/setuptools/__init__.py\", line 107, in setup\r\n",
      "    return distutils.core.setup(**attrs)\r\n",
      "  File \"/opt/conda/lib/python3.10/site-packages/setuptools/_distutils/core.py\", line 185, in setup\r\n",
      "    return run_commands(dist)\r\n",
      "  File \"/opt/conda/lib/python3.10/site-packages/setuptools/_distutils/core.py\", line 201, in run_commands\r\n",
      "    dist.run_commands()\r\n",
      "  File \"/opt/conda/lib/python3.10/site-packages/setuptools/_distutils/dist.py\", line 969, in run_commands\r\n",
      "    self.run_command(cmd)\r\n",
      "  File \"/opt/conda/lib/python3.10/site-packages/setuptools/dist.py\", line 1233, in run_command\r\n",
      "    super().run_command(command)\r\n",
      "  File \"/opt/conda/lib/python3.10/site-packages/setuptools/_distutils/dist.py\", line 988, in run_command\r\n",
      "    cmd_obj.run()\r\n",
      "  File \"/opt/conda/lib/python3.10/site-packages/setuptools/_distutils/command/build_ext.py\", line 345, in run\r\n",
      "    self.build_extensions()\r\n",
      "  File \"/opt/conda/lib/python3.10/site-packages/setuptools/_distutils/command/build_ext.py\", line 467, in build_extensions\r\n",
      "    self._build_extensions_serial()\r\n",
      "  File \"/opt/conda/lib/python3.10/site-packages/setuptools/_distutils/command/build_ext.py\", line 493, in _build_extensions_serial\r\n",
      "    self.build_extension(ext)\r\n",
      "  File \"/opt/conda/lib/python3.10/site-packages/Cython/Distutils/build_ext.py\", line 122, in build_extension\r\n",
      "    new_ext = cythonize(\r\n",
      "  File \"/opt/conda/lib/python3.10/site-packages/Cython/Build/Dependencies.py\", line 1134, in cythonize\r\n",
      "    cythonize_one(*args)\r\n",
      "  File \"/opt/conda/lib/python3.10/site-packages/Cython/Build/Dependencies.py\", line 1301, in cythonize_one\r\n",
      "    raise CompileError(None, pyx_file)\r\n",
      "Cython.Compiler.Errors.CompileError: SLIM_BPR_Cython_Epoch.pyx\r\n",
      "Traceback (most recent call last):\r\n",
      "  File \"/kaggle/working/Recsys_Challenge_2023/run_compile_all_cython.py\", line 59, in <module>\r\n",
      "    run_compile_subprocess(file_path, [file_name])\r\n",
      "  File \"/kaggle/working/Recsys_Challenge_2023/CythonCompiler/run_compile_subprocess.py\", line 51, in run_compile_subprocess\r\n",
      "    raise exc\r\n",
      "  File \"/kaggle/working/Recsys_Challenge_2023/CythonCompiler/run_compile_subprocess.py\", line 32, in run_compile_subprocess\r\n",
      "    output = subprocess.check_output(' '.join(command),\r\n",
      "  File \"/opt/conda/lib/python3.10/subprocess.py\", line 421, in check_output\r\n",
      "    return run(*popenargs, stdout=PIPE, timeout=timeout, check=True,\r\n",
      "  File \"/opt/conda/lib/python3.10/subprocess.py\", line 526, in run\r\n",
      "    raise CalledProcessError(retcode, process.args,\r\n",
      "subprocess.CalledProcessError: Command '/opt/conda/bin/python /kaggle/working/Recsys_Challenge_2023/CythonCompiler/compile_script.py SLIM_BPR_Cython_Epoch.pyx build_ext --inplace' returned non-zero exit status 1.\r\n",
      "Compiling [6/10]: SLIM_BPR_Cython_Epoch.pyx... FAIL: Command '/opt/conda/bin/python /kaggle/working/Recsys_Challenge_2023/CythonCompiler/compile_script.py SLIM_BPR_Cython_Epoch.pyx build_ext --inplace' returned non-zero exit status 1.\r\n",
      "\r\n",
      "Compiling [7/10]: CFW_D_Similarity_Cython_SGD.pyx... \r\n",
      "In file included from \u001b[01m\u001b[K/opt/conda/lib/python3.10/site-packages/numpy/core/include/numpy/ndarraytypes.h:1940\u001b[m\u001b[K,\r\n",
      "                 from \u001b[01m\u001b[K/opt/conda/lib/python3.10/site-packages/numpy/core/include/numpy/ndarrayobject.h:12\u001b[m\u001b[K,\r\n",
      "                 from \u001b[01m\u001b[K/opt/conda/lib/python3.10/site-packages/numpy/core/include/numpy/arrayobject.h:5\u001b[m\u001b[K,\r\n",
      "                 from \u001b[01m\u001b[KCFW_D_Similarity_Cython_SGD.c:1109\u001b[m\u001b[K:\r\n",
      "\u001b[01m\u001b[K/opt/conda/lib/python3.10/site-packages/numpy/core/include/numpy/npy_1_7_deprecated_api.h:17:2:\u001b[m\u001b[K \u001b[01;35m\u001b[Kwarning: \u001b[m\u001b[K#warning \"Using deprecated NumPy API, disable it with \" \"#define NPY_NO_DEPRECATED_API NPY_1_7_API_VERSION\" [\u001b[01;35m\u001b[K-Wcpp\u001b[m\u001b[K]\r\n",
      "   17 | #\u001b[01;35m\u001b[Kwarning\u001b[m\u001b[K \"Using deprecated NumPy API, disable it with \" \\\r\n",
      "      |  \u001b[01;35m\u001b[K^~~~~~~\u001b[m\u001b[K\r\n",
      "\u001b[01m\u001b[KCFW_D_Similarity_Cython_SGD.c:\u001b[m\u001b[K In function ‘\u001b[01m\u001b[K__pyx_pf_27CFW_D_Similarity_Cython_SGD_27CFW_D_Similarity_Cython_SGD_6fit\u001b[m\u001b[K’:\r\n",
      "\u001b[01m\u001b[KCFW_D_Similarity_Cython_SGD.c:22766:55:\u001b[m\u001b[K \u001b[01;35m\u001b[Kwarning: \u001b[m\u001b[K‘\u001b[01m\u001b[K__pyx_v_sample_num\u001b[m\u001b[K’ may be used uninitialized in this function [\u001b[01;35m\u001b[K-Wmaybe-uninitialized\u001b[m\u001b[K]\r\n",
      "22766 |   __pyx_t_3 = PyFloat_FromDouble((__pyx_v_cum_loss / \u001b[01;35m\u001b[K((double)__pyx_v_sample_num)\u001b[m\u001b[K)); if (unlikely(!__pyx_t_3)) __PYX_ERR(0, 290, __pyx_L1_error)\r\n",
      "      |                                                      \u001b[01;35m\u001b[K~^~~~~~~~~~~~~~~~~~~~~~~~~~~\u001b[m\u001b[K\r\n",
      "/opt/conda/lib/python3.10/site-packages/Cython/Compiler/Main.py:381: FutureWarning: Cython directive 'language_level' not set, using '3str' for now (Py3). This has changed from earlier releases! File: /kaggle/working/Recsys_Challenge_2023/Recommenders/FeatureWeighting/Cython/CFW_D_Similarity_Cython_SGD.pyx\r\n",
      "  tree = Parsing.p_module(s, pxd, full_module_name)\r\n",
      "Compiling [7/10]: CFW_D_Similarity_Cython_SGD.pyx... PASS\r\n",
      "\r\n",
      "Compiling [8/10]: HP3_Similarity_Cython_SGD.pyx... \r\n",
      "warning: HP3_Similarity_Cython_SGD.pyx:113:40: Index should be typed for more efficient access\r\n",
      "In file included from \u001b[01m\u001b[K/opt/conda/lib/python3.10/site-packages/numpy/core/include/numpy/ndarraytypes.h:1940\u001b[m\u001b[K,\r\n",
      "                 from \u001b[01m\u001b[K/opt/conda/lib/python3.10/site-packages/numpy/core/include/numpy/ndarrayobject.h:12\u001b[m\u001b[K,\r\n",
      "                 from \u001b[01m\u001b[K/opt/conda/lib/python3.10/site-packages/numpy/core/include/numpy/arrayobject.h:5\u001b[m\u001b[K,\r\n",
      "                 from \u001b[01m\u001b[KHP3_Similarity_Cython_SGD.c:1109\u001b[m\u001b[K:\r\n",
      "\u001b[01m\u001b[K/opt/conda/lib/python3.10/site-packages/numpy/core/include/numpy/npy_1_7_deprecated_api.h:17:2:\u001b[m\u001b[K \u001b[01;35m\u001b[Kwarning: \u001b[m\u001b[K#warning \"Using deprecated NumPy API, disable it with \" \"#define NPY_NO_DEPRECATED_API NPY_1_7_API_VERSION\" [\u001b[01;35m\u001b[K-Wcpp\u001b[m\u001b[K]\r\n",
      "   17 | #\u001b[01;35m\u001b[Kwarning\u001b[m\u001b[K \"Using deprecated NumPy API, disable it with \" \\\r\n",
      "      |  \u001b[01;35m\u001b[K^~~~~~~\u001b[m\u001b[K\r\n",
      "\u001b[01m\u001b[KHP3_Similarity_Cython_SGD.c:\u001b[m\u001b[K In function ‘\u001b[01m\u001b[K__pyx_pf_25HP3_Similarity_Cython_SGD_25HP3_Similarity_Cython_SGD_4fit\u001b[m\u001b[K’:\r\n",
      "\u001b[01m\u001b[KHP3_Similarity_Cython_SGD.c:23035:55:\u001b[m\u001b[K \u001b[01;35m\u001b[Kwarning: \u001b[m\u001b[K‘\u001b[01m\u001b[K__pyx_v_sample_num\u001b[m\u001b[K’ may be used uninitialized in this function [\u001b[01;35m\u001b[K-Wmaybe-uninitialized\u001b[m\u001b[K]\r\n",
      "23035 |   __pyx_t_1 = PyFloat_FromDouble((__pyx_v_cum_loss / \u001b[01;35m\u001b[K((double)__pyx_v_sample_num)\u001b[m\u001b[K)); if (unlikely(!__pyx_t_1)) __PYX_ERR(0, 291, __pyx_L1_error)\r\n",
      "      |                                                      \u001b[01;35m\u001b[K~^~~~~~~~~~~~~~~~~~~~~~~~~~~\u001b[m\u001b[K\r\n",
      "/opt/conda/lib/python3.10/site-packages/Cython/Compiler/Main.py:381: FutureWarning: Cython directive 'language_level' not set, using '3str' for now (Py3). This has changed from earlier releases! File: /kaggle/working/Recsys_Challenge_2023/Recommenders/FeatureWeighting/Cython/HP3_Similarity_Cython_SGD.pyx\r\n",
      "  tree = Parsing.p_module(s, pxd, full_module_name)\r\n",
      "warning: HP3_Similarity_Cython_SGD.pyx:113:40: Index should be typed for more efficient access\r\n",
      "Compiling [8/10]: HP3_Similarity_Cython_SGD.pyx... PASS\r\n",
      "\r\n",
      "Compiling [9/10]: FBSM_Rating_Cython_SGD.pyx... \r\n",
      "In file included from \u001b[01m\u001b[K/opt/conda/lib/python3.10/site-packages/numpy/core/include/numpy/ndarraytypes.h:1940\u001b[m\u001b[K,\r\n",
      "                 from \u001b[01m\u001b[K/opt/conda/lib/python3.10/site-packages/numpy/core/include/numpy/ndarrayobject.h:12\u001b[m\u001b[K,\r\n",
      "                 from \u001b[01m\u001b[K/opt/conda/lib/python3.10/site-packages/numpy/core/include/numpy/arrayobject.h:5\u001b[m\u001b[K,\r\n",
      "                 from \u001b[01m\u001b[KFBSM_Rating_Cython_SGD.c:1109\u001b[m\u001b[K:\r\n",
      "\u001b[01m\u001b[K/opt/conda/lib/python3.10/site-packages/numpy/core/include/numpy/npy_1_7_deprecated_api.h:17:2:\u001b[m\u001b[K \u001b[01;35m\u001b[Kwarning: \u001b[m\u001b[K#warning \"Using deprecated NumPy API, disable it with \" \"#define NPY_NO_DEPRECATED_API NPY_1_7_API_VERSION\" [\u001b[01;35m\u001b[K-Wcpp\u001b[m\u001b[K]\r\n",
      "   17 | #\u001b[01;35m\u001b[Kwarning\u001b[m\u001b[K \"Using deprecated NumPy API, disable it with \" \\\r\n",
      "      |  \u001b[01;35m\u001b[K^~~~~~~\u001b[m\u001b[K\r\n",
      "\u001b[01m\u001b[KFBSM_Rating_Cython_SGD.c:\u001b[m\u001b[K In function ‘\u001b[01m\u001b[K__pyx_pf_22FBSM_Rating_Cython_SGD_22FBSM_Rating_Cython_SGD_2fit\u001b[m\u001b[K’:\r\n",
      "\u001b[01m\u001b[KFBSM_Rating_Cython_SGD.c:26038:55:\u001b[m\u001b[K \u001b[01;35m\u001b[Kwarning: \u001b[m\u001b[K‘\u001b[01m\u001b[K__pyx_v_num_sample\u001b[m\u001b[K’ may be used uninitialized in this function [\u001b[01;35m\u001b[K-Wmaybe-uninitialized\u001b[m\u001b[K]\r\n",
      "26038 |   __pyx_t_5 = PyFloat_FromDouble((__pyx_v_cum_loss / \u001b[01;35m\u001b[K((double)__pyx_v_num_sample)\u001b[m\u001b[K)); if (unlikely(!__pyx_t_5)) __PYX_ERR(0, 551, __pyx_L1_error)\r\n",
      "      |                                                      \u001b[01;35m\u001b[K~^~~~~~~~~~~~~~~~~~~~~~~~~~~\u001b[m\u001b[K\r\n",
      "/opt/conda/lib/python3.10/site-packages/Cython/Compiler/Main.py:381: FutureWarning: Cython directive 'language_level' not set, using '3str' for now (Py3). This has changed from earlier releases! File: /kaggle/working/Recsys_Challenge_2023/Recommenders/FeatureWeighting/Cython/FBSM_Rating_Cython_SGD.pyx\r\n",
      "  tree = Parsing.p_module(s, pxd, full_module_name)\r\n",
      "Compiling [9/10]: FBSM_Rating_Cython_SGD.pyx... PASS\r\n",
      "\r\n",
      "Compiling [10/10]: CFW_DVV_Similarity_Cython_SGD.pyx... \r\n",
      "In file included from \u001b[01m\u001b[K/opt/conda/lib/python3.10/site-packages/numpy/core/include/numpy/ndarraytypes.h:1940\u001b[m\u001b[K,\r\n",
      "                 from \u001b[01m\u001b[K/opt/conda/lib/python3.10/site-packages/numpy/core/include/numpy/ndarrayobject.h:12\u001b[m\u001b[K,\r\n",
      "                 from \u001b[01m\u001b[K/opt/conda/lib/python3.10/site-packages/numpy/core/include/numpy/arrayobject.h:5\u001b[m\u001b[K,\r\n",
      "                 from \u001b[01m\u001b[KCFW_DVV_Similarity_Cython_SGD.c:1109\u001b[m\u001b[K:\r\n",
      "\u001b[01m\u001b[K/opt/conda/lib/python3.10/site-packages/numpy/core/include/numpy/npy_1_7_deprecated_api.h:17:2:\u001b[m\u001b[K \u001b[01;35m\u001b[Kwarning: \u001b[m\u001b[K#warning \"Using deprecated NumPy API, disable it with \" \"#define NPY_NO_DEPRECATED_API NPY_1_7_API_VERSION\" [\u001b[01;35m\u001b[K-Wcpp\u001b[m\u001b[K]\r\n",
      "   17 | #\u001b[01;35m\u001b[Kwarning\u001b[m\u001b[K \"Using deprecated NumPy API, disable it with \" \\\r\n",
      "      |  \u001b[01;35m\u001b[K^~~~~~~\u001b[m\u001b[K\r\n",
      "/opt/conda/lib/python3.10/site-packages/Cython/Compiler/Main.py:381: FutureWarning: Cython directive 'language_level' not set, using '3str' for now (Py3). This has changed from earlier releases! File: /kaggle/working/Recsys_Challenge_2023/Recommenders/FeatureWeighting/Cython/CFW_DVV_Similarity_Cython_SGD.pyx\r\n",
      "  tree = Parsing.p_module(s, pxd, full_module_name)\r\n",
      "Compiling [10/10]: CFW_DVV_Similarity_Cython_SGD.pyx... PASS\r\n",
      "\r\n",
      "run_compile_all_cython: Compilation finished. FAILS 2/10.\r\n",
      "Compilation log can be found here: './result_experiments/run_compile_all_cython.txt'\r\n"
     ]
    }
   ],
   "source": [
    "! cd /kaggle/working/Recsys_Challenge_2023 && python run_compile_all_cython.py"
   ]
  },
  {
   "cell_type": "code",
   "execution_count": 4,
   "id": "6b0c7c75",
   "metadata": {
    "_kg_hide-output": true,
    "execution": {
     "iopub.execute_input": "2023-12-24T17:32:57.712136Z",
     "iopub.status.busy": "2023-12-24T17:32:57.711256Z",
     "iopub.status.idle": "2023-12-24T17:33:02.498115Z",
     "shell.execute_reply": "2023-12-24T17:33:02.496127Z"
    },
    "papermill": {
     "duration": 4.819698,
     "end_time": "2023-12-24T17:33:02.501857",
     "exception": false,
     "start_time": "2023-12-24T17:32:57.682159",
     "status": "completed"
    },
    "tags": []
   },
   "outputs": [
    {
     "name": "stdout",
     "output_type": "stream",
     "text": [
      "/kaggle/input/training-tuned-models/als_all.npz\n",
      "/kaggle/input/training-tuned-models/__results__.html\n",
      "/kaggle/input/training-tuned-models/ease_r_all.zip\n",
      "/kaggle/input/training-tuned-models/mult_vae_2_train_validation.zip\n",
      "/kaggle/input/training-tuned-models/als_xgboost_train_validation.npz\n",
      "/kaggle/input/training-tuned-models/als_train_validation.npz\n",
      "/kaggle/input/training-tuned-models/mult_vae_2_xgboost_train_validation.zip\n",
      "/kaggle/input/training-tuned-models/slim_recall_train_validation.zip\n",
      "/kaggle/input/training-tuned-models/ease_r_train_validation.zip\n",
      "/kaggle/input/training-tuned-models/__notebook__.ipynb\n",
      "/kaggle/input/training-tuned-models/ials_xgboost_train_validation.zip\n",
      "/kaggle/input/training-tuned-models/ials_train_validation.zip\n",
      "/kaggle/input/training-tuned-models/mult_vae_2_all.zip\n",
      "/kaggle/input/training-tuned-models/ease_r_xgboost_train_validation.zip\n",
      "/kaggle/input/training-tuned-models/__output__.json\n",
      "/kaggle/input/training-tuned-models/ials_all.zip\n",
      "/kaggle/input/training-tuned-models/slim_recall_xgboost_train_validation.zip\n",
      "/kaggle/input/training-tuned-models/slim_recall_all.zip\n",
      "/kaggle/input/training-tuned-models/custom.css\n",
      "/kaggle/input/training-tuned-models/Recsys_Challenge_2023/run_all_algorithms.py\n",
      "/kaggle/input/training-tuned-models/Recsys_Challenge_2023/cython_example_FunkSVD.py\n",
      "/kaggle/input/training-tuned-models/Recsys_Challenge_2023/LICENSE\n",
      "/kaggle/input/training-tuned-models/Recsys_Challenge_2023/.gitignore\n",
      "/kaggle/input/training-tuned-models/Recsys_Challenge_2023/README.md\n",
      "/kaggle/input/training-tuned-models/Recsys_Challenge_2023/run_hyperparameter_search.py\n",
      "/kaggle/input/training-tuned-models/Recsys_Challenge_2023/cython_example_SLIM_MSE.py\n",
      "/kaggle/input/training-tuned-models/Recsys_Challenge_2023/requirements.txt\n",
      "/kaggle/input/training-tuned-models/Recsys_Challenge_2023/run_test_recommenders.py\n",
      "/kaggle/input/training-tuned-models/Recsys_Challenge_2023/run_compile_all_cython.py\n",
      "/kaggle/input/training-tuned-models/Recsys_Challenge_2023/Data_manager/DataSplitter_Holdout.py\n",
      "/kaggle/input/training-tuned-models/Recsys_Challenge_2023/Data_manager/DataSplitter.py\n",
      "/kaggle/input/training-tuned-models/Recsys_Challenge_2023/Data_manager/DatasetMapperManager.py\n",
      "/kaggle/input/training-tuned-models/Recsys_Challenge_2023/Data_manager/data_consistency_check.py\n",
      "/kaggle/input/training-tuned-models/Recsys_Challenge_2023/Data_manager/README.md\n",
      "/kaggle/input/training-tuned-models/Recsys_Challenge_2023/Data_manager/TagPreprocessing.py\n",
      "/kaggle/input/training-tuned-models/Recsys_Challenge_2023/Data_manager/DataReader.py\n",
      "/kaggle/input/training-tuned-models/Recsys_Challenge_2023/Data_manager/DataReader_utils.py\n",
      "/kaggle/input/training-tuned-models/Recsys_Challenge_2023/Data_manager/IncrementalSparseMatrix.py\n",
      "/kaggle/input/training-tuned-models/Recsys_Challenge_2023/Data_manager/run_clean_split_data_files.py\n",
      "/kaggle/input/training-tuned-models/Recsys_Challenge_2023/Data_manager/Dataset.py\n",
      "/kaggle/input/training-tuned-models/Recsys_Challenge_2023/Data_manager/DataSplitter_leave_k_out.py\n",
      "/kaggle/input/training-tuned-models/Recsys_Challenge_2023/Data_manager/CrossValidationSplitter.py\n",
      "/kaggle/input/training-tuned-models/Recsys_Challenge_2023/Data_manager/__init__.py\n",
      "/kaggle/input/training-tuned-models/Recsys_Challenge_2023/Data_manager/__pycache__/data_consistency_check.cpython-310.pyc\n",
      "/kaggle/input/training-tuned-models/Recsys_Challenge_2023/Data_manager/__pycache__/DatasetMapperManager.cpython-310.pyc\n",
      "/kaggle/input/training-tuned-models/Recsys_Challenge_2023/Data_manager/__pycache__/IncrementalSparseMatrix.cpython-310.pyc\n",
      "/kaggle/input/training-tuned-models/Recsys_Challenge_2023/Data_manager/__pycache__/DataReader.cpython-310.pyc\n",
      "/kaggle/input/training-tuned-models/Recsys_Challenge_2023/Data_manager/__pycache__/DataReader_utils.cpython-310.pyc\n",
      "/kaggle/input/training-tuned-models/Recsys_Challenge_2023/Data_manager/__pycache__/__init__.cpython-310.pyc\n",
      "/kaggle/input/training-tuned-models/Recsys_Challenge_2023/Data_manager/__pycache__/Dataset.cpython-310.pyc\n",
      "/kaggle/input/training-tuned-models/Recsys_Challenge_2023/Data_manager/split_functions/split_train_validation_leave_k_out.py\n",
      "/kaggle/input/training-tuned-models/Recsys_Challenge_2023/Data_manager/split_functions/split_train_validation_cold_items.py\n",
      "/kaggle/input/training-tuned-models/Recsys_Challenge_2023/Data_manager/split_functions/split_train_validation_random_holdout.py\n",
      "/kaggle/input/training-tuned-models/Recsys_Challenge_2023/Data_manager/split_functions/__pycache__/split_train_validation_random_holdout.cpython-310.pyc\n",
      "/kaggle/input/training-tuned-models/Recsys_Challenge_2023/Data_manager/Movielens/Movielens10MReader.py\n",
      "/kaggle/input/training-tuned-models/Recsys_Challenge_2023/Data_manager/Movielens/Movielens1MReader.py\n",
      "/kaggle/input/training-tuned-models/Recsys_Challenge_2023/Data_manager/Movielens/Movielens100KReader.py\n",
      "/kaggle/input/training-tuned-models/Recsys_Challenge_2023/Data_manager/Movielens/MovielensHetrec2011Reader.py\n",
      "/kaggle/input/training-tuned-models/Recsys_Challenge_2023/Data_manager/Movielens/_utils_movielens_parser.py\n",
      "/kaggle/input/training-tuned-models/Recsys_Challenge_2023/Data_manager/Movielens/Movielens20MReader.py\n",
      "/kaggle/input/training-tuned-models/Recsys_Challenge_2023/Data_manager/Movielens/__pycache__/Movielens10MReader.cpython-310.pyc\n",
      "/kaggle/input/training-tuned-models/Recsys_Challenge_2023/Data_manager/Movielens/__pycache__/Movielens1MReader.cpython-310.pyc\n",
      "/kaggle/input/training-tuned-models/Recsys_Challenge_2023/Data_manager/Movielens/__pycache__/_utils_movielens_parser.cpython-310.pyc\n",
      "/kaggle/input/training-tuned-models/Recsys_Challenge_2023/Data_manager/Movielens/__pycache__/Movielens20MReader.cpython-310.pyc\n",
      "/kaggle/input/training-tuned-models/Recsys_Challenge_2023/Data_manager/Movielens/__pycache__/Movielens100KReader.cpython-310.pyc\n",
      "/kaggle/input/training-tuned-models/Recsys_Challenge_2023/Data_manager/Movielens/__pycache__/MovielensHetrec2011Reader.cpython-310.pyc\n",
      "/kaggle/input/training-tuned-models/Recsys_Challenge_2023/Utils/seconds_to_biggest_unit.py\n",
      "/kaggle/input/training-tuned-models/Recsys_Challenge_2023/Utils/PyTorch/utils.py\n",
      "/kaggle/input/training-tuned-models/Recsys_Challenge_2023/Utils/PyTorch/DataSampler.py\n",
      "/kaggle/input/training-tuned-models/Recsys_Challenge_2023/Utils/PyTorch/DataIterator.py\n",
      "/kaggle/input/training-tuned-models/Recsys_Challenge_2023/Utils/PyTorch/Cython/DataIterator.pyx\n",
      "/kaggle/input/training-tuned-models/Recsys_Challenge_2023/Utils/__pycache__/seconds_to_biggest_unit.cpython-310.pyc\n",
      "/kaggle/input/training-tuned-models/Recsys_Challenge_2023/Notebooks_utils/Cosine_Similarity_Cython_SLOW.cpython-36m-x86_64-linux-gnu.so\n",
      "/kaggle/input/training-tuned-models/Recsys_Challenge_2023/Notebooks_utils/Cosine_Similarity_Cython_SLOW.c\n",
      "/kaggle/input/training-tuned-models/Recsys_Challenge_2023/Notebooks_utils/compileCython.py\n",
      "/kaggle/input/training-tuned-models/Recsys_Challenge_2023/Notebooks_utils/Cosine_Similarity_Cython.pyx\n",
      "/kaggle/input/training-tuned-models/Recsys_Challenge_2023/Notebooks_utils/Cosine_Similarity_Cython.html\n",
      "/kaggle/input/training-tuned-models/Recsys_Challenge_2023/Notebooks_utils/Compute_Similarity_Python.py\n",
      "/kaggle/input/training-tuned-models/Recsys_Challenge_2023/Notebooks_utils/Cosine_Similarity_Cython.c\n",
      "/kaggle/input/training-tuned-models/Recsys_Challenge_2023/Notebooks_utils/Cosine_Similarity_Cython.cpython-36m-x86_64-linux-gnu.so\n",
      "/kaggle/input/training-tuned-models/Recsys_Challenge_2023/Notebooks_utils/Cosine_Similarity_Cython_SLOW.pyx\n",
      "/kaggle/input/training-tuned-models/Recsys_Challenge_2023/Notebooks_utils/Cosine_Similarity_Cython_SLOW.html\n",
      "/kaggle/input/training-tuned-models/Recsys_Challenge_2023/CythonCompiler/compile_script.py\n",
      "/kaggle/input/training-tuned-models/Recsys_Challenge_2023/CythonCompiler/run_compile_subprocess.py\n",
      "/kaggle/input/training-tuned-models/Recsys_Challenge_2023/CythonCompiler/__pycache__/run_compile_subprocess.cpython-310.pyc\n",
      "/kaggle/input/training-tuned-models/Recsys_Challenge_2023/Recommenders/IR_feature_weighting.py\n",
      "/kaggle/input/training-tuned-models/Recsys_Challenge_2023/Recommenders/Incremental_Training_Early_Stopping.py\n",
      "/kaggle/input/training-tuned-models/Recsys_Challenge_2023/Recommenders/BaseMatrixFactorizationRecommender.py\n",
      "/kaggle/input/training-tuned-models/Recsys_Challenge_2023/Recommenders/BaseRecommender.py\n",
      "/kaggle/input/training-tuned-models/Recsys_Challenge_2023/Recommenders/BaseCBFRecommender.py\n",
      "/kaggle/input/training-tuned-models/Recsys_Challenge_2023/Recommenders/Recommender_import_list.py\n",
      "/kaggle/input/training-tuned-models/Recsys_Challenge_2023/Recommenders/BaseTempFolder.py\n",
      "/kaggle/input/training-tuned-models/Recsys_Challenge_2023/Recommenders/Recommender_utils.py\n",
      "/kaggle/input/training-tuned-models/Recsys_Challenge_2023/Recommenders/NonPersonalizedRecommender.py\n",
      "/kaggle/input/training-tuned-models/Recsys_Challenge_2023/Recommenders/BaseSimilarityMatrixRecommender.py\n",
      "/kaggle/input/training-tuned-models/Recsys_Challenge_2023/Recommenders/DataIO.py\n",
      "/kaggle/input/training-tuned-models/Recsys_Challenge_2023/Recommenders/PredefinedListRecommender.py\n",
      "/kaggle/input/training-tuned-models/Recsys_Challenge_2023/Recommenders/Similarity/Compute_similarity_euclidean_test.py\n",
      "/kaggle/input/training-tuned-models/Recsys_Challenge_2023/Recommenders/Similarity/Compute_Similarity_Euclidean.py\n",
      "/kaggle/input/training-tuned-models/Recsys_Challenge_2023/Recommenders/Similarity/Compute_Similarity_Python.py\n",
      "/kaggle/input/training-tuned-models/Recsys_Challenge_2023/Recommenders/Similarity/Compute_Similarity.py\n",
      "/kaggle/input/training-tuned-models/Recsys_Challenge_2023/Recommenders/Similarity/Compute_similarity_test.py\n",
      "/kaggle/input/training-tuned-models/Recsys_Challenge_2023/Recommenders/Similarity/__pycache__/Compute_Similarity_Python.cpython-310.pyc\n",
      "/kaggle/input/training-tuned-models/Recsys_Challenge_2023/Recommenders/Similarity/__pycache__/Compute_Similarity.cpython-310.pyc\n",
      "/kaggle/input/training-tuned-models/Recsys_Challenge_2023/Recommenders/Similarity/__pycache__/Compute_Similarity_Euclidean.cpython-310.pyc\n",
      "/kaggle/input/training-tuned-models/Recsys_Challenge_2023/Recommenders/Similarity/Cython/Compute_Similarity_Cython.cpython-310-x86_64-linux-gnu.so\n",
      "/kaggle/input/training-tuned-models/Recsys_Challenge_2023/Recommenders/Similarity/Cython/Compute_Similarity_Cython.pyx\n",
      "/kaggle/input/training-tuned-models/Recsys_Challenge_2023/Recommenders/Similarity/Cython/Compute_Similarity_Cython.html\n",
      "/kaggle/input/training-tuned-models/Recsys_Challenge_2023/Recommenders/Similarity/Cython/Compute_Similarity_Cython.c\n",
      "/kaggle/input/training-tuned-models/Recsys_Challenge_2023/Recommenders/EASE_R/EASE_R_Recommender.py\n",
      "/kaggle/input/training-tuned-models/Recsys_Challenge_2023/Recommenders/EASE_R/__pycache__/EASE_R_Recommender.cpython-310.pyc\n",
      "/kaggle/input/training-tuned-models/Recsys_Challenge_2023/Recommenders/SLIM/SLIMElasticNetRecommender.py\n",
      "/kaggle/input/training-tuned-models/Recsys_Challenge_2023/Recommenders/SLIM/SLIM_BPR_Python.py\n",
      "/kaggle/input/training-tuned-models/Recsys_Challenge_2023/Recommenders/SLIM/__pycache__/SLIMElasticNetRecommender.cpython-310.pyc\n",
      "/kaggle/input/training-tuned-models/Recsys_Challenge_2023/Recommenders/SLIM/__pycache__/SLIM_BPR_Python.cpython-310.pyc\n",
      "/kaggle/input/training-tuned-models/Recsys_Challenge_2023/Recommenders/SLIM/Cython/Triangular_Matrix.cpython-310-x86_64-linux-gnu.so\n",
      "/kaggle/input/training-tuned-models/Recsys_Challenge_2023/Recommenders/SLIM/Cython/Triangular_Matrix.c\n",
      "/kaggle/input/training-tuned-models/Recsys_Challenge_2023/Recommenders/SLIM/Cython/SLIM_BPR_Cython.py\n",
      "/kaggle/input/training-tuned-models/Recsys_Challenge_2023/Recommenders/SLIM/Cython/Sparse_Matrix_Tree_CSR.pyx\n",
      "/kaggle/input/training-tuned-models/Recsys_Challenge_2023/Recommenders/SLIM/Cython/Triangular_Matrix.pyx\n",
      "/kaggle/input/training-tuned-models/Recsys_Challenge_2023/Recommenders/SLIM/Cython/SLIM_BPR_Cython_Epoch.pyx\n",
      "/kaggle/input/training-tuned-models/Recsys_Challenge_2023/Recommenders/SLIM/Cython/Triangular_Matrix.html\n",
      "/kaggle/input/training-tuned-models/Recsys_Challenge_2023/Recommenders/GraphConvolutions/LightGCNRecommender.py\n",
      "/kaggle/input/training-tuned-models/Recsys_Challenge_2023/Recommenders/GraphConvolutions/PyTorch/LightGCNRecommender_PyTorch.py\n",
      "/kaggle/input/training-tuned-models/Recsys_Challenge_2023/Recommenders/GraphConvolutions/PyTorch/LightGCN_Model.py\n",
      "/kaggle/input/training-tuned-models/Recsys_Challenge_2023/Recommenders/GraphBased/RP3betaRecommender.py\n",
      "/kaggle/input/training-tuned-models/Recsys_Challenge_2023/Recommenders/GraphBased/P3alphaRecommender.py\n",
      "/kaggle/input/training-tuned-models/Recsys_Challenge_2023/Recommenders/GraphBased/__pycache__/RP3betaRecommender.cpython-310.pyc\n",
      "/kaggle/input/training-tuned-models/Recsys_Challenge_2023/Recommenders/GraphBased/__pycache__/P3alphaRecommender.cpython-310.pyc\n",
      "/kaggle/input/training-tuned-models/Recsys_Challenge_2023/Recommenders/FactorizationMachines/LightFMRecommender.py\n",
      "/kaggle/input/training-tuned-models/Recsys_Challenge_2023/Recommenders/FactorizationMachines/__pycache__/LightFMRecommender.cpython-310.pyc\n",
      "/kaggle/input/training-tuned-models/Recsys_Challenge_2023/Recommenders/__pycache__/BaseRecommender.cpython-310.pyc\n",
      "/kaggle/input/training-tuned-models/Recsys_Challenge_2023/Recommenders/__pycache__/BaseSimilarityMatrixRecommender.cpython-310.pyc\n",
      "/kaggle/input/training-tuned-models/Recsys_Challenge_2023/Recommenders/__pycache__/BaseMatrixFactorizationRecommender.cpython-310.pyc\n",
      "/kaggle/input/training-tuned-models/Recsys_Challenge_2023/Recommenders/__pycache__/Incremental_Training_Early_Stopping.cpython-310.pyc\n",
      "/kaggle/input/training-tuned-models/Recsys_Challenge_2023/Recommenders/__pycache__/IR_feature_weighting.cpython-310.pyc\n",
      "/kaggle/input/training-tuned-models/Recsys_Challenge_2023/Recommenders/__pycache__/DataIO.cpython-310.pyc\n",
      "/kaggle/input/training-tuned-models/Recsys_Challenge_2023/Recommenders/__pycache__/BaseCBFRecommender.cpython-310.pyc\n",
      "/kaggle/input/training-tuned-models/Recsys_Challenge_2023/Recommenders/__pycache__/BaseTempFolder.cpython-310.pyc\n",
      "/kaggle/input/training-tuned-models/Recsys_Challenge_2023/Recommenders/__pycache__/Recommender_utils.cpython-310.pyc\n",
      "/kaggle/input/training-tuned-models/Recsys_Challenge_2023/Recommenders/KNN/ItemKNNCustomSimilarityRecommender.py\n",
      "/kaggle/input/training-tuned-models/Recsys_Challenge_2023/Recommenders/KNN/ItemKNNCBFRecommender.py\n",
      "/kaggle/input/training-tuned-models/Recsys_Challenge_2023/Recommenders/KNN/ItemKNNSimilarityHybridRecommender.py\n",
      "/kaggle/input/training-tuned-models/Recsys_Challenge_2023/Recommenders/KNN/UserKNNCBFRecommender.py\n",
      "/kaggle/input/training-tuned-models/Recsys_Challenge_2023/Recommenders/KNN/ItemKNNCFRecommender.py\n",
      "/kaggle/input/training-tuned-models/Recsys_Challenge_2023/Recommenders/KNN/UserKNN_CFCBF_Hybrid_Recommender.py\n",
      "/kaggle/input/training-tuned-models/Recsys_Challenge_2023/Recommenders/KNN/ItemKNN_CFCBF_Hybrid_Recommender.py\n",
      "/kaggle/input/training-tuned-models/Recsys_Challenge_2023/Recommenders/KNN/UserKNNCFRecommender.py\n",
      "/kaggle/input/training-tuned-models/Recsys_Challenge_2023/Recommenders/KNN/__pycache__/UserKNNCFRecommender.cpython-310.pyc\n",
      "/kaggle/input/training-tuned-models/Recsys_Challenge_2023/Recommenders/KNN/__pycache__/ItemKNNCFRecommender.cpython-310.pyc\n",
      "/kaggle/input/training-tuned-models/Recsys_Challenge_2023/Recommenders/Neural/architecture_utils.py\n",
      "/kaggle/input/training-tuned-models/Recsys_Challenge_2023/Recommenders/Neural/MultVAERecommender.py\n",
      "/kaggle/input/training-tuned-models/Recsys_Challenge_2023/Recommenders/Neural/MultVAE_PyTorch_Recommender.py\n",
      "/kaggle/input/training-tuned-models/Recsys_Challenge_2023/Recommenders/Neural/__pycache__/MultVAERecommender.cpython-310.pyc\n",
      "/kaggle/input/training-tuned-models/Recsys_Challenge_2023/Recommenders/Neural/__pycache__/architecture_utils.cpython-310.pyc\n",
      "/kaggle/input/training-tuned-models/Recsys_Challenge_2023/Recommenders/Hybrid/LinearCombinationRecommender.py\n",
      "/kaggle/input/training-tuned-models/Recsys_Challenge_2023/Recommenders/Hybrid/RoundRobinListCombinationRecommender.py\n",
      "/kaggle/input/training-tuned-models/Recsys_Challenge_2023/Recommenders/Hybrid/PipelineRecommender.py\n",
      "/kaggle/input/training-tuned-models/Recsys_Challenge_2023/Recommenders/Hybrid/NormalizedScoresLinearCombinatorRecommender.py\n",
      "/kaggle/input/training-tuned-models/Recsys_Challenge_2023/Recommenders/FeatureWeighting/CFW_D_Similarity_Linalg.py\n",
      "/kaggle/input/training-tuned-models/Recsys_Challenge_2023/Recommenders/FeatureWeighting/Cython/CFW_D_Similarity_Cython_SGD.cpython-310-x86_64-linux-gnu.so\n",
      "/kaggle/input/training-tuned-models/Recsys_Challenge_2023/Recommenders/FeatureWeighting/Cython/HP3_Similarity_Cython_SGD.c\n",
      "/kaggle/input/training-tuned-models/Recsys_Challenge_2023/Recommenders/FeatureWeighting/Cython/FBSM_Rating_Cython_SGD.c\n",
      "/kaggle/input/training-tuned-models/Recsys_Challenge_2023/Recommenders/FeatureWeighting/Cython/CFW_DVV_Similarity_Cython_SGD.pyx\n",
      "/kaggle/input/training-tuned-models/Recsys_Challenge_2023/Recommenders/FeatureWeighting/Cython/FBSM_Rating_Cython_SGD.cpython-310-x86_64-linux-gnu.so\n",
      "/kaggle/input/training-tuned-models/Recsys_Challenge_2023/Recommenders/FeatureWeighting/Cython/CFW_D_Similarity_Cython_SGD.html\n",
      "/kaggle/input/training-tuned-models/Recsys_Challenge_2023/Recommenders/FeatureWeighting/Cython/FBSM_Rating_Cython.py\n",
      "/kaggle/input/training-tuned-models/Recsys_Challenge_2023/Recommenders/FeatureWeighting/Cython/CFW_DVV_Similarity_Cython_SGD.html\n",
      "/kaggle/input/training-tuned-models/Recsys_Challenge_2023/Recommenders/FeatureWeighting/Cython/CFW_DVV_Similarity_Cython_SGD.cpython-310-x86_64-linux-gnu.so\n",
      "/kaggle/input/training-tuned-models/Recsys_Challenge_2023/Recommenders/FeatureWeighting/Cython/HP3_Similarity_Cython.py\n",
      "/kaggle/input/training-tuned-models/Recsys_Challenge_2023/Recommenders/FeatureWeighting/Cython/CFW_D_Similarity_Cython_SGD.c\n",
      "/kaggle/input/training-tuned-models/Recsys_Challenge_2023/Recommenders/FeatureWeighting/Cython/CFW_D_Similarity_Cython_SGD.pyx\n",
      "/kaggle/input/training-tuned-models/Recsys_Challenge_2023/Recommenders/FeatureWeighting/Cython/CFW_D_Similarity_Cython.py\n",
      "/kaggle/input/training-tuned-models/Recsys_Challenge_2023/Recommenders/FeatureWeighting/Cython/FBSM_Rating_Cython_SGD.pyx\n",
      "/kaggle/input/training-tuned-models/Recsys_Challenge_2023/Recommenders/FeatureWeighting/Cython/CFW_DVV_Similarity_Cython_SGD.c\n",
      "/kaggle/input/training-tuned-models/Recsys_Challenge_2023/Recommenders/FeatureWeighting/Cython/HP3_Similarity_Cython_SGD.cpython-310-x86_64-linux-gnu.so\n",
      "/kaggle/input/training-tuned-models/Recsys_Challenge_2023/Recommenders/FeatureWeighting/Cython/HP3_Similarity_Cython_SGD.pyx\n",
      "/kaggle/input/training-tuned-models/Recsys_Challenge_2023/Recommenders/FeatureWeighting/Cython/CFW_DVV_Similarity_Cython.py\n",
      "/kaggle/input/training-tuned-models/Recsys_Challenge_2023/Recommenders/FeatureWeighting/Cython/FBSM_Rating_Cython_SGD.html\n",
      "/kaggle/input/training-tuned-models/Recsys_Challenge_2023/Recommenders/FeatureWeighting/Cython/HP3_Similarity_Cython_SGD.html\n",
      "/kaggle/input/training-tuned-models/Recsys_Challenge_2023/Recommenders/MatrixFactorization/ALSImplicitRecommender.py\n",
      "/kaggle/input/training-tuned-models/Recsys_Challenge_2023/Recommenders/MatrixFactorization/IALSRecommender.py\n",
      "/kaggle/input/training-tuned-models/Recsys_Challenge_2023/Recommenders/MatrixFactorization/NMFRecommender.py\n",
      "/kaggle/input/training-tuned-models/Recsys_Challenge_2023/Recommenders/MatrixFactorization/PureSVDRecommender.py\n",
      "/kaggle/input/training-tuned-models/Recsys_Challenge_2023/Recommenders/MatrixFactorization/SVDFeatureRecommender.py\n",
      "/kaggle/input/training-tuned-models/Recsys_Challenge_2023/Recommenders/MatrixFactorization/PyTorch/MF_MSE_PyTorch.py\n",
      "/kaggle/input/training-tuned-models/Recsys_Challenge_2023/Recommenders/MatrixFactorization/PyTorch/MF_MSE_PyTorch_model.py\n",
      "/kaggle/input/training-tuned-models/Recsys_Challenge_2023/Recommenders/MatrixFactorization/__pycache__/NMFRecommender.cpython-310.pyc\n",
      "/kaggle/input/training-tuned-models/Recsys_Challenge_2023/Recommenders/MatrixFactorization/__pycache__/ALSImplicitRecommender.cpython-310.pyc\n",
      "/kaggle/input/training-tuned-models/Recsys_Challenge_2023/Recommenders/MatrixFactorization/__pycache__/PureSVDRecommender.cpython-310.pyc\n",
      "/kaggle/input/training-tuned-models/Recsys_Challenge_2023/Recommenders/MatrixFactorization/__pycache__/IALSRecommender.cpython-310.pyc\n",
      "/kaggle/input/training-tuned-models/Recsys_Challenge_2023/Recommenders/MatrixFactorization/Cython/MatrixFactorization_Cython.py\n",
      "/kaggle/input/training-tuned-models/Recsys_Challenge_2023/Recommenders/MatrixFactorization/Cython/MatrixFactorization_Cython_Epoch.cpython-310-x86_64-linux-gnu.so\n",
      "/kaggle/input/training-tuned-models/Recsys_Challenge_2023/Recommenders/MatrixFactorization/Cython/MatrixFactorizationImpressions_Cython_Epoch.cpython-310-x86_64-linux-gnu.so\n",
      "/kaggle/input/training-tuned-models/Recsys_Challenge_2023/Recommenders/MatrixFactorization/Cython/MatrixFactorizationImpressions_Cython.py\n",
      "/kaggle/input/training-tuned-models/Recsys_Challenge_2023/Recommenders/MatrixFactorization/Cython/MatrixFactorization_Cython_Epoch.c\n",
      "/kaggle/input/training-tuned-models/Recsys_Challenge_2023/Recommenders/MatrixFactorization/Cython/MatrixFactorization_Cython_Epoch.html\n",
      "/kaggle/input/training-tuned-models/Recsys_Challenge_2023/Recommenders/MatrixFactorization/Cython/MatrixFactorizationImpressions_Cython_Epoch.pyx\n",
      "/kaggle/input/training-tuned-models/Recsys_Challenge_2023/Recommenders/MatrixFactorization/Cython/MatrixFactorization_Cython_Epoch.pyx\n",
      "/kaggle/input/training-tuned-models/Recsys_Challenge_2023/Recommenders/MatrixFactorization/Cython/MatrixFactorizationImpressions_Cython_Epoch.c\n",
      "/kaggle/input/training-tuned-models/Recsys_Challenge_2023/Recommenders/MatrixFactorization/Cython/MatrixFactorizationImpressions_Cython_Epoch.html\n",
      "/kaggle/input/training-tuned-models/Recsys_Challenge_2023/tuning_results/tuning_MultVaer_2.db\n",
      "/kaggle/input/training-tuned-models/Recsys_Challenge_2023/tuning_results/best_params_pipeline_variable_length.json\n",
      "/kaggle/input/training-tuned-models/Recsys_Challenge_2023/tuning_results/best_params_WF1Rank.json\n",
      "/kaggle/input/training-tuned-models/Recsys_Challenge_2023/tuning_results/tuning_hybrid_merging.db\n",
      "/kaggle/input/training-tuned-models/Recsys_Challenge_2023/tuning_results/best_params_hybrid_xgboost_categorical_ids.json\n",
      "/kaggle/input/training-tuned-models/Recsys_Challenge_2023/tuning_results/tuning_lightgcn_pytorch.db\n",
      "/kaggle/input/training-tuned-models/Recsys_Challenge_2023/tuning_results/tuning_PyMultVaer.db\n",
      "/kaggle/input/training-tuned-models/Recsys_Challenge_2023/tuning_results/tuning_hybrid.db\n",
      "/kaggle/input/training-tuned-models/Recsys_Challenge_2023/tuning_results/best_params_hybrid_xgboost_no_ids.json\n",
      "/kaggle/input/training-tuned-models/Recsys_Challenge_2023/tuning_results/tuning_mf.db\n",
      "/kaggle/input/training-tuned-models/Recsys_Challenge_2023/tuning_results/tuning_hybrid_precision.db\n",
      "/kaggle/input/training-tuned-models/Recsys_Challenge_2023/tuning_results/best_params_slim_recall@50.json\n",
      "/kaggle/input/training-tuned-models/Recsys_Challenge_2023/tuning_results/best_params_ials_v2.json\n",
      "/kaggle/input/training-tuned-models/Recsys_Challenge_2023/tuning_results/best_params_NMF.json\n",
      "/kaggle/input/training-tuned-models/Recsys_Challenge_2023/tuning_results/best_params_als.json\n",
      "/kaggle/input/training-tuned-models/Recsys_Challenge_2023/tuning_results/best_params_allLinearHyb.json\n",
      "/kaggle/input/training-tuned-models/Recsys_Challenge_2023/tuning_results/best_params_hybrid_merging.json\n",
      "/kaggle/input/training-tuned-models/Recsys_Challenge_2023/tuning_results/tuning_slim_elastic_recall.db\n",
      "/kaggle/input/training-tuned-models/Recsys_Challenge_2023/tuning_results/best_params_knn_item.json\n",
      "/kaggle/input/training-tuned-models/Recsys_Challenge_2023/tuning_results/better_tuning_EASE_R.db\n",
      "/kaggle/input/training-tuned-models/Recsys_Challenge_2023/tuning_results/best_params_mult_vae.json\n",
      "/kaggle/input/training-tuned-models/Recsys_Challenge_2023/tuning_results/tuning_RP3+ItemKNN_Hybrid.db\n",
      "/kaggle/input/training-tuned-models/Recsys_Challenge_2023/tuning_results/tuning_MultVaer.db\n",
      "/kaggle/input/training-tuned-models/Recsys_Challenge_2023/tuning_results/best_params_hybrid_lr_comb_8models.json\n",
      "/kaggle/input/training-tuned-models/Recsys_Challenge_2023/tuning_results/best_params_F1WRnk_10CV.json\n",
      "/kaggle/input/training-tuned-models/Recsys_Challenge_2023/tuning_results/tuning_hybrid_xgboost_classifier.db\n",
      "/kaggle/input/training-tuned-models/Recsys_Challenge_2023/tuning_results/tuning_langevin.db\n",
      "/kaggle/input/training-tuned-models/Recsys_Challenge_2023/tuning_results/best_params_hybrid_lr_comb_worse_7models.json\n",
      "/kaggle/input/training-tuned-models/Recsys_Challenge_2023/tuning_results/best_params_hybrid_lr_comb_9models.json\n",
      "/kaggle/input/training-tuned-models/Recsys_Challenge_2023/tuning_results/best_params_light.json\n",
      "/kaggle/input/training-tuned-models/Recsys_Challenge_2023/tuning_results/tuning_BPR.db\n",
      "/kaggle/input/training-tuned-models/Recsys_Challenge_2023/tuning_results/tuning_WF1Rank.db\n",
      "/kaggle/input/training-tuned-models/Recsys_Challenge_2023/tuning_results/best_params_als_gpu.json\n",
      "/kaggle/input/training-tuned-models/Recsys_Challenge_2023/tuning_results/best_params_lightgcn_pytorch.json\n",
      "/kaggle/input/training-tuned-models/Recsys_Challenge_2023/tuning_results/best_params_hybrid_xgboost_classifier.json\n",
      "/kaggle/input/training-tuned-models/Recsys_Challenge_2023/tuning_results/best_params_lightgcn.json\n",
      "/kaggle/input/training-tuned-models/Recsys_Challenge_2023/tuning_results/tuning_lightgcn.db\n",
      "/kaggle/input/training-tuned-models/Recsys_Challenge_2023/tuning_results/best_params_knn_user_cv5.json\n",
      "/kaggle/input/training-tuned-models/Recsys_Challenge_2023/tuning_results/tuning_puresvd_scaled.db\n",
      "/kaggle/input/training-tuned-models/Recsys_Challenge_2023/tuning_results/best_params_EASE_R.json\n",
      "/kaggle/input/training-tuned-models/Recsys_Challenge_2023/tuning_results/best_params_hybrid_norm_lr_no_slim.json\n",
      "/kaggle/input/training-tuned-models/Recsys_Challenge_2023/tuning_results/best_params_hybrid_catboost.json\n",
      "/kaggle/input/training-tuned-models/Recsys_Challenge_2023/tuning_results/best_params_Vaer.json\n",
      "/kaggle/input/training-tuned-models/Recsys_Challenge_2023/tuning_results/tuning_als_implicit_Save.db\n",
      "/kaggle/input/training-tuned-models/Recsys_Challenge_2023/tuning_results/best_params_alpha.json\n",
      "/kaggle/input/training-tuned-models/Recsys_Challenge_2023/tuning_results/tuning_hybrid_xgboost_no_ids.db\n",
      "/kaggle/input/training-tuned-models/Recsys_Challenge_2023/tuning_results/best_params_hybrid_xgboost.json\n",
      "/kaggle/input/training-tuned-models/Recsys_Challenge_2023/tuning_results/pure_svd_params.json\n",
      "/kaggle/input/training-tuned-models/Recsys_Challenge_2023/tuning_results/best_params_als_gpu_Save.json\n",
      "/kaggle/input/training-tuned-models/Recsys_Challenge_2023/tuning_results/pure_svd_trials.csv\n",
      "/kaggle/input/training-tuned-models/Recsys_Challenge_2023/tuning_results/best_params_hybrid_lightgbm.json\n",
      "/kaggle/input/training-tuned-models/Recsys_Challenge_2023/tuning_results/tuning_puresvd.db\n",
      "/kaggle/input/training-tuned-models/Recsys_Challenge_2023/tuning_results/best_params_knn_item_cv5.json\n",
      "/kaggle/input/training-tuned-models/Recsys_Challenge_2023/tuning_results/tuning_als_implicit.db\n",
      "/kaggle/input/training-tuned-models/Recsys_Challenge_2023/tuning_results/tuning_normalized_lr.db\n",
      "/kaggle/input/training-tuned-models/Recsys_Challenge_2023/tuning_results/tuning.db\n",
      "/kaggle/input/training-tuned-models/Recsys_Challenge_2023/tuning_results/best_params_slim.json\n",
      "/kaggle/input/training-tuned-models/Recsys_Challenge_2023/tuning_results/best_params_knn_user_no_cv.json\n",
      "/kaggle/input/training-tuned-models/Recsys_Challenge_2023/tuning_results/better_tuning.db\n",
      "/kaggle/input/training-tuned-models/Recsys_Challenge_2023/tuning_results/best_params_hybrid_merging_v2.json\n",
      "/kaggle/input/training-tuned-models/Recsys_Challenge_2023/tuning_results/best_params_Vaer2.json\n",
      "/kaggle/input/training-tuned-models/Recsys_Challenge_2023/tuning_results/tuning_slim_elastic.db\n",
      "/kaggle/input/training-tuned-models/Recsys_Challenge_2023/tuning_results/tuning_hybrid_lightgbm.db\n",
      "/kaggle/input/training-tuned-models/Recsys_Challenge_2023/tuning_results/tuning_tmp.db\n",
      "/kaggle/input/training-tuned-models/Recsys_Challenge_2023/tuning_results/tuning_normalized_no_slim.db\n",
      "/kaggle/input/training-tuned-models/Recsys_Challenge_2023/tuning_results/tuning_hybrid_UserKNN_RP3Hybrid.db\n",
      "/kaggle/input/training-tuned-models/Recsys_Challenge_2023/tuning_results/best_params_puresvd_scaled.json\n",
      "/kaggle/input/training-tuned-models/Recsys_Challenge_2023/tuning_results/better_tuning_alpha.db\n",
      "/kaggle/input/training-tuned-models/Recsys_Challenge_2023/tuning_results/best_params_langevin.json\n",
      "/kaggle/input/training-tuned-models/Recsys_Challenge_2023/tuning_results/tuning_hybrid_xgboost_categorical_ids.db\n",
      "/kaggle/input/training-tuned-models/Recsys_Challenge_2023/tuning_results/best_params_hybrid_lr_comb_6_best_models.json\n",
      "/kaggle/input/training-tuned-models/Recsys_Challenge_2023/tuning_results/best_params_hybrid_UserKNN_RP3Hybrid.json\n",
      "/kaggle/input/training-tuned-models/Recsys_Challenge_2023/tuning_results/best_params_2stage_pipeline.json\n",
      "/kaggle/input/training-tuned-models/Recsys_Challenge_2023/tuning_results/best_params_RP3+ItemKNN_Hybrid.json\n",
      "/kaggle/input/training-tuned-models/Recsys_Challenge_2023/tuning_results/best_params_hybrid_lr_comb_10models.json\n",
      "/kaggle/input/training-tuned-models/Recsys_Challenge_2023/tuning_results/best_params_Slim_BPR.json\n",
      "/kaggle/input/training-tuned-models/Recsys_Challenge_2023/tuning_results/best_params_hybrid_lr_comb.json\n",
      "/kaggle/input/training-tuned-models/Recsys_Challenge_2023/tuning_results/tuning_hybrid_merging_models.db\n",
      "/kaggle/input/training-tuned-models/Recsys_Challenge_2023/tuning_results/best_params_WF1Rank_6models.json\n",
      "/kaggle/input/training-tuned-models/Recsys_Challenge_2023/tuning_results/light.db\n",
      "/kaggle/input/training-tuned-models/Recsys_Challenge_2023/tuning_results/best_params_pipeline_all_then_slim.json\n",
      "/kaggle/input/training-tuned-models/Recsys_Challenge_2023/tuning_results/best_params_hybrid.json\n",
      "/kaggle/input/training-tuned-models/Recsys_Challenge_2023/tuning_results/best_params_hybrid_norm_lr_comb_11models.json\n",
      "/kaggle/input/training-tuned-models/Recsys_Challenge_2023/tuning_results/best_params_hybrid_lr_comb_11_best_models.json\n",
      "/kaggle/input/training-tuned-models/Recsys_Challenge_2023/tuning_results/best_params_item_knn_precision.json\n",
      "/kaggle/input/training-tuned-models/Recsys_Challenge_2023/tuning_results/tuning_rp3.db\n",
      "/kaggle/input/training-tuned-models/Recsys_Challenge_2023/tuning_results/best_params_hybrid_norm_lr_comb_6models.json\n",
      "/kaggle/input/training-tuned-models/Recsys_Challenge_2023/tuning_results/tuning_hybrid_xgboost.db\n",
      "/kaggle/input/training-tuned-models/Recsys_Challenge_2023/tuning_results/tuning_hybrid_2.db\n",
      "/kaggle/input/training-tuned-models/Recsys_Challenge_2023/tuning_results/best_params_hybrid_lr_comb_11models.json\n",
      "/kaggle/input/training-tuned-models/Recsys_Challenge_2023/tuning_results/best_params_ials.json\n",
      "/kaggle/input/training-tuned-models/Recsys_Challenge_2023/tuning_results/best_params_knn_item_no_cv.json\n",
      "/kaggle/input/training-tuned-models/Recsys_Challenge_2023/tuning_results/tuning_mf_funk.db\n",
      "/kaggle/input/training-tuned-models/Recsys_Challenge_2023/tuning_results/tuning_hybrid2.0.db\n",
      "/kaggle/input/training-tuned-models/Recsys_Challenge_2023/tuning_results/best_params_knn_user.json\n",
      "/kaggle/input/training-tuned-models/Recsys_Challenge_2023/tuning_results/Mask.db\n",
      "/kaggle/input/training-tuned-models/Recsys_Challenge_2023/tuning_results/best_params_funk_svd.json\n",
      "/kaggle/input/training-tuned-models/Recsys_Challenge_2023/tuning_results/best_params_puresvd_item.json\n",
      "/kaggle/input/training-tuned-models/Recsys_Challenge_2023/tuning_results/best_params_hybrid_lr_comb_rp3_p3a_item.json\n",
      "/kaggle/input/training-tuned-models/Recsys_Challenge_2023/tuning_results/best_params_WRnk_10CV_tunedracescores.json\n",
      "/kaggle/input/training-tuned-models/Recsys_Challenge_2023/tuning_results/tuning_WRank.db\n",
      "/kaggle/input/training-tuned-models/Recsys_Challenge_2023/tuning_results/best_params_3stage_pipeline2.0.json\n",
      "/kaggle/input/training-tuned-models/Recsys_Challenge_2023/tuning_results/best_params_PyVaer.json\n",
      "/kaggle/input/training-tuned-models/Recsys_Challenge_2023/tuning_results/tuning_hybrid_catboost.db\n",
      "/kaggle/input/training-tuned-models/Recsys_Challenge_2023/tuning_results/best_params_RP3.json\n",
      "/kaggle/input/training-tuned-models/Recsys_Challenge_2023/tuning_results/tuning_WF1Rank_6models.db\n",
      "/kaggle/input/training-tuned-models/Recsys_Challenge_2023/tuning_results/best_params_Mask.json\n",
      "/kaggle/input/training-tuned-models/Recsys_Challenge_2023/tuning_results/tuning_hybrid_linear_comb_worse_rec.db\n",
      "/kaggle/input/training-tuned-models/Recsys_Challenge_2023/tuning_results/parameters_NMF.db\n",
      "/kaggle/input/training-tuned-models/Recsys_Challenge_2023/tuning_results/tuning_F1WRnk_10CV.db\n",
      "/kaggle/input/training-tuned-models/Recsys_Challenge_2023/tuning_results/tuning_WRnk_10CV_tunedracescores.db\n",
      "/kaggle/input/training-tuned-models/Recsys_Challenge_2023/tuning_results/better_tuning_knn.db\n",
      "/kaggle/input/training-tuned-models/Recsys_Challenge_2023/tuning_results/best_params_3stage_pipeline.json\n",
      "/kaggle/input/training-tuned-models/Recsys_Challenge_2023/tuning_results/tuning_best_params_allLinearHyb.db\n",
      "/kaggle/input/training-tuned-models/Recsys_Challenge_2023/tuning_results/best_params_WRank.json\n",
      "/kaggle/input/training-tuned-models/Recsys_Challenge_2023/models/slim_bpr_xgboost_train_validation.zip\n",
      "/kaggle/input/training-tuned-models/Recsys_Challenge_2023/models/ease_r_all.zip\n",
      "/kaggle/input/training-tuned-models/Recsys_Challenge_2023/models/slim_bpr_all.zip\n",
      "/kaggle/input/training-tuned-models/Recsys_Challenge_2023/models/slim_elastic_train_validation.zip\n",
      "/kaggle/input/training-tuned-models/Recsys_Challenge_2023/models/mult_vae_2_xgboost_train_validation.zip\n",
      "/kaggle/input/training-tuned-models/Recsys_Challenge_2023/models/nmf_all.zip\n",
      "/kaggle/input/training-tuned-models/Recsys_Challenge_2023/models/slim_recall_train_validation.zip\n",
      "/kaggle/input/training-tuned-models/Recsys_Challenge_2023/models/ease_r_train_validation.zip\n",
      "/kaggle/input/training-tuned-models/Recsys_Challenge_2023/models/nmf_train_validation.zip\n",
      "/kaggle/input/training-tuned-models/Recsys_Challenge_2023/models/nmf_xgboost_train_validation.zip\n",
      "/kaggle/input/training-tuned-models/Recsys_Challenge_2023/models/slim_elastic_xgboost_train_validation.zip\n",
      "/kaggle/input/training-tuned-models/Recsys_Challenge_2023/models/ease_r_xgboost_train_validation.zip\n",
      "/kaggle/input/training-tuned-models/Recsys_Challenge_2023/models/slim_bpr_train_validation.zip\n",
      "/kaggle/input/training-tuned-models/Recsys_Challenge_2023/models/slim_recall_xgboost_train_validation.zip\n",
      "/kaggle/input/training-tuned-models/Recsys_Challenge_2023/models/slim_elastic_all.zip\n",
      "/kaggle/input/training-tuned-models/Recsys_Challenge_2023/models/5Folds/fold_0/pure_svd_scaled.zip\n",
      "/kaggle/input/training-tuned-models/Recsys_Challenge_2023/models/5Folds/fold_0/slim_bpr.zip\n",
      "/kaggle/input/training-tuned-models/Recsys_Challenge_2023/models/5Folds/fold_0/user_knn.zip\n",
      "/kaggle/input/training-tuned-models/Recsys_Challenge_2023/models/5Folds/fold_0/nmf.zip\n",
      "/kaggle/input/training-tuned-models/Recsys_Challenge_2023/models/5Folds/fold_0/URM_train.npz\n",
      "/kaggle/input/training-tuned-models/Recsys_Challenge_2023/models/5Folds/fold_0/ease_r.zip\n",
      "/kaggle/input/training-tuned-models/Recsys_Challenge_2023/models/5Folds/fold_0/pure_svd.zip\n",
      "/kaggle/input/training-tuned-models/Recsys_Challenge_2023/models/5Folds/fold_0/URM_valid.npz\n",
      "/kaggle/input/training-tuned-models/Recsys_Challenge_2023/models/5Folds/fold_0/item_pure_svd.zip\n",
      "/kaggle/input/training-tuned-models/Recsys_Challenge_2023/models/5Folds/fold_0/slim_elastic.zip\n",
      "/kaggle/input/training-tuned-models/Recsys_Challenge_2023/models/5Folds/fold_0/rp3.zip\n",
      "/kaggle/input/training-tuned-models/Recsys_Challenge_2023/models/5Folds/fold_0/p3a.zip\n",
      "/kaggle/input/training-tuned-models/Recsys_Challenge_2023/models/5Folds/fold_0/item_knn.zip\n",
      "/kaggle/input/training-tuned-models/Recsys_Challenge_2023/models/5Folds/fold_4/pure_svd_scaled.zip\n",
      "/kaggle/input/training-tuned-models/Recsys_Challenge_2023/models/5Folds/fold_4/slim_bpr.zip\n",
      "/kaggle/input/training-tuned-models/Recsys_Challenge_2023/models/5Folds/fold_4/user_knn.zip\n",
      "/kaggle/input/training-tuned-models/Recsys_Challenge_2023/models/5Folds/fold_4/nmf.zip\n",
      "/kaggle/input/training-tuned-models/Recsys_Challenge_2023/models/5Folds/fold_4/URM_train.npz\n",
      "/kaggle/input/training-tuned-models/Recsys_Challenge_2023/models/5Folds/fold_4/ease_r.zip\n",
      "/kaggle/input/training-tuned-models/Recsys_Challenge_2023/models/5Folds/fold_4/pure_svd.zip\n",
      "/kaggle/input/training-tuned-models/Recsys_Challenge_2023/models/5Folds/fold_4/URM_valid.npz\n",
      "/kaggle/input/training-tuned-models/Recsys_Challenge_2023/models/5Folds/fold_4/item_pure_svd.zip\n",
      "/kaggle/input/training-tuned-models/Recsys_Challenge_2023/models/5Folds/fold_4/slim_elastic.zip\n",
      "/kaggle/input/training-tuned-models/Recsys_Challenge_2023/models/5Folds/fold_4/rp3.zip\n",
      "/kaggle/input/training-tuned-models/Recsys_Challenge_2023/models/5Folds/fold_4/p3a.zip\n",
      "/kaggle/input/training-tuned-models/Recsys_Challenge_2023/models/5Folds/fold_4/item_knn.zip\n",
      "/kaggle/input/training-tuned-models/Recsys_Challenge_2023/models/5Folds/fold_1/pure_svd_scaled.zip\n",
      "/kaggle/input/training-tuned-models/Recsys_Challenge_2023/models/5Folds/fold_1/slim_bpr.zip\n",
      "/kaggle/input/training-tuned-models/Recsys_Challenge_2023/models/5Folds/fold_1/user_knn.zip\n",
      "/kaggle/input/training-tuned-models/Recsys_Challenge_2023/models/5Folds/fold_1/nmf.zip\n",
      "/kaggle/input/training-tuned-models/Recsys_Challenge_2023/models/5Folds/fold_1/URM_train.npz\n",
      "/kaggle/input/training-tuned-models/Recsys_Challenge_2023/models/5Folds/fold_1/ease_r.zip\n",
      "/kaggle/input/training-tuned-models/Recsys_Challenge_2023/models/5Folds/fold_1/pure_svd.zip\n",
      "/kaggle/input/training-tuned-models/Recsys_Challenge_2023/models/5Folds/fold_1/URM_valid.npz\n",
      "/kaggle/input/training-tuned-models/Recsys_Challenge_2023/models/5Folds/fold_1/item_pure_svd.zip\n",
      "/kaggle/input/training-tuned-models/Recsys_Challenge_2023/models/5Folds/fold_1/slim_elastic.zip\n",
      "/kaggle/input/training-tuned-models/Recsys_Challenge_2023/models/5Folds/fold_1/rp3.zip\n",
      "/kaggle/input/training-tuned-models/Recsys_Challenge_2023/models/5Folds/fold_1/p3a.zip\n",
      "/kaggle/input/training-tuned-models/Recsys_Challenge_2023/models/5Folds/fold_1/item_knn.zip\n",
      "/kaggle/input/training-tuned-models/Recsys_Challenge_2023/models/5Folds/fold_3/pure_svd_scaled.zip\n",
      "/kaggle/input/training-tuned-models/Recsys_Challenge_2023/models/5Folds/fold_3/slim_bpr.zip\n",
      "/kaggle/input/training-tuned-models/Recsys_Challenge_2023/models/5Folds/fold_3/user_knn.zip\n",
      "/kaggle/input/training-tuned-models/Recsys_Challenge_2023/models/5Folds/fold_3/nmf.zip\n",
      "/kaggle/input/training-tuned-models/Recsys_Challenge_2023/models/5Folds/fold_3/URM_train.npz\n",
      "/kaggle/input/training-tuned-models/Recsys_Challenge_2023/models/5Folds/fold_3/ease_r.zip\n",
      "/kaggle/input/training-tuned-models/Recsys_Challenge_2023/models/5Folds/fold_3/pure_svd.zip\n",
      "/kaggle/input/training-tuned-models/Recsys_Challenge_2023/models/5Folds/fold_3/URM_valid.npz\n",
      "/kaggle/input/training-tuned-models/Recsys_Challenge_2023/models/5Folds/fold_3/item_pure_svd.zip\n",
      "/kaggle/input/training-tuned-models/Recsys_Challenge_2023/models/5Folds/fold_3/slim_elastic.zip\n",
      "/kaggle/input/training-tuned-models/Recsys_Challenge_2023/models/5Folds/fold_3/rp3.zip\n",
      "/kaggle/input/training-tuned-models/Recsys_Challenge_2023/models/5Folds/fold_3/p3a.zip\n",
      "/kaggle/input/training-tuned-models/Recsys_Challenge_2023/models/5Folds/fold_3/item_knn.zip\n",
      "/kaggle/input/training-tuned-models/Recsys_Challenge_2023/models/5Folds/fold_2/pure_svd_scaled.zip\n",
      "/kaggle/input/training-tuned-models/Recsys_Challenge_2023/models/5Folds/fold_2/slim_bpr.zip\n",
      "/kaggle/input/training-tuned-models/Recsys_Challenge_2023/models/5Folds/fold_2/user_knn.zip\n",
      "/kaggle/input/training-tuned-models/Recsys_Challenge_2023/models/5Folds/fold_2/nmf.zip\n",
      "/kaggle/input/training-tuned-models/Recsys_Challenge_2023/models/5Folds/fold_2/URM_train.npz\n",
      "/kaggle/input/training-tuned-models/Recsys_Challenge_2023/models/5Folds/fold_2/ease_r.zip\n",
      "/kaggle/input/training-tuned-models/Recsys_Challenge_2023/models/5Folds/fold_2/pure_svd.zip\n",
      "/kaggle/input/training-tuned-models/Recsys_Challenge_2023/models/5Folds/fold_2/URM_valid.npz\n",
      "/kaggle/input/training-tuned-models/Recsys_Challenge_2023/models/5Folds/fold_2/item_pure_svd.zip\n",
      "/kaggle/input/training-tuned-models/Recsys_Challenge_2023/models/5Folds/fold_2/slim_elastic.zip\n",
      "/kaggle/input/training-tuned-models/Recsys_Challenge_2023/models/5Folds/fold_2/rp3.zip\n",
      "/kaggle/input/training-tuned-models/Recsys_Challenge_2023/models/5Folds/fold_2/p3a.zip\n",
      "/kaggle/input/training-tuned-models/Recsys_Challenge_2023/models/5Folds/fold_2/item_knn.zip\n",
      "/kaggle/input/training-tuned-models/Recsys_Challenge_2023/models/10Folds/fold_0/pure_svd_scaled.zip\n",
      "/kaggle/input/training-tuned-models/Recsys_Challenge_2023/models/10Folds/fold_0/slim_bpr.zip\n",
      "/kaggle/input/training-tuned-models/Recsys_Challenge_2023/models/10Folds/fold_0/user_knn.zip\n",
      "/kaggle/input/training-tuned-models/Recsys_Challenge_2023/models/10Folds/fold_0/nmf.zip\n",
      "/kaggle/input/training-tuned-models/Recsys_Challenge_2023/models/10Folds/fold_0/URM_train.npz\n",
      "/kaggle/input/training-tuned-models/Recsys_Challenge_2023/models/10Folds/fold_0/ease_r.zip\n",
      "/kaggle/input/training-tuned-models/Recsys_Challenge_2023/models/10Folds/fold_0/pure_svd.zip\n",
      "/kaggle/input/training-tuned-models/Recsys_Challenge_2023/models/10Folds/fold_0/URM_valid.npz\n",
      "/kaggle/input/training-tuned-models/Recsys_Challenge_2023/models/10Folds/fold_0/item_pure_svd.zip\n",
      "/kaggle/input/training-tuned-models/Recsys_Challenge_2023/models/10Folds/fold_0/slim_elastic.zip\n",
      "/kaggle/input/training-tuned-models/Recsys_Challenge_2023/models/10Folds/fold_0/rp3.zip\n",
      "/kaggle/input/training-tuned-models/Recsys_Challenge_2023/models/10Folds/fold_0/p3a.zip\n",
      "/kaggle/input/training-tuned-models/Recsys_Challenge_2023/models/10Folds/fold_0/item_knn.zip\n",
      "/kaggle/input/training-tuned-models/Recsys_Challenge_2023/models/10Folds/fold_4/pure_svd_scaled.zip\n",
      "/kaggle/input/training-tuned-models/Recsys_Challenge_2023/models/10Folds/fold_4/slim_bpr.zip\n",
      "/kaggle/input/training-tuned-models/Recsys_Challenge_2023/models/10Folds/fold_4/user_knn.zip\n",
      "/kaggle/input/training-tuned-models/Recsys_Challenge_2023/models/10Folds/fold_4/nmf.zip\n",
      "/kaggle/input/training-tuned-models/Recsys_Challenge_2023/models/10Folds/fold_4/URM_train.npz\n",
      "/kaggle/input/training-tuned-models/Recsys_Challenge_2023/models/10Folds/fold_4/ease_r.zip\n",
      "/kaggle/input/training-tuned-models/Recsys_Challenge_2023/models/10Folds/fold_4/pure_svd.zip\n",
      "/kaggle/input/training-tuned-models/Recsys_Challenge_2023/models/10Folds/fold_4/URM_valid.npz\n",
      "/kaggle/input/training-tuned-models/Recsys_Challenge_2023/models/10Folds/fold_4/item_pure_svd.zip\n",
      "/kaggle/input/training-tuned-models/Recsys_Challenge_2023/models/10Folds/fold_4/slim_elastic.zip\n",
      "/kaggle/input/training-tuned-models/Recsys_Challenge_2023/models/10Folds/fold_4/rp3.zip\n",
      "/kaggle/input/training-tuned-models/Recsys_Challenge_2023/models/10Folds/fold_4/p3a.zip\n",
      "/kaggle/input/training-tuned-models/Recsys_Challenge_2023/models/10Folds/fold_4/item_knn.zip\n",
      "/kaggle/input/training-tuned-models/Recsys_Challenge_2023/models/10Folds/fold_1/pure_svd_scaled.zip\n",
      "/kaggle/input/training-tuned-models/Recsys_Challenge_2023/models/10Folds/fold_1/slim_bpr.zip\n",
      "/kaggle/input/training-tuned-models/Recsys_Challenge_2023/models/10Folds/fold_1/user_knn.zip\n",
      "/kaggle/input/training-tuned-models/Recsys_Challenge_2023/models/10Folds/fold_1/nmf.zip\n",
      "/kaggle/input/training-tuned-models/Recsys_Challenge_2023/models/10Folds/fold_1/URM_train.npz\n",
      "/kaggle/input/training-tuned-models/Recsys_Challenge_2023/models/10Folds/fold_1/ease_r.zip\n",
      "/kaggle/input/training-tuned-models/Recsys_Challenge_2023/models/10Folds/fold_1/pure_svd.zip\n",
      "/kaggle/input/training-tuned-models/Recsys_Challenge_2023/models/10Folds/fold_1/URM_valid.npz\n",
      "/kaggle/input/training-tuned-models/Recsys_Challenge_2023/models/10Folds/fold_1/item_pure_svd.zip\n",
      "/kaggle/input/training-tuned-models/Recsys_Challenge_2023/models/10Folds/fold_1/slim_elastic.zip\n",
      "/kaggle/input/training-tuned-models/Recsys_Challenge_2023/models/10Folds/fold_1/rp3.zip\n",
      "/kaggle/input/training-tuned-models/Recsys_Challenge_2023/models/10Folds/fold_1/p3a.zip\n",
      "/kaggle/input/training-tuned-models/Recsys_Challenge_2023/models/10Folds/fold_1/item_knn.zip\n",
      "/kaggle/input/training-tuned-models/Recsys_Challenge_2023/models/10Folds/fold_6/pure_svd_scaled.zip\n",
      "/kaggle/input/training-tuned-models/Recsys_Challenge_2023/models/10Folds/fold_6/slim_bpr.zip\n",
      "/kaggle/input/training-tuned-models/Recsys_Challenge_2023/models/10Folds/fold_6/user_knn.zip\n",
      "/kaggle/input/training-tuned-models/Recsys_Challenge_2023/models/10Folds/fold_6/nmf.zip\n",
      "/kaggle/input/training-tuned-models/Recsys_Challenge_2023/models/10Folds/fold_6/URM_train.npz\n",
      "/kaggle/input/training-tuned-models/Recsys_Challenge_2023/models/10Folds/fold_6/ease_r.zip\n",
      "/kaggle/input/training-tuned-models/Recsys_Challenge_2023/models/10Folds/fold_6/pure_svd.zip\n",
      "/kaggle/input/training-tuned-models/Recsys_Challenge_2023/models/10Folds/fold_6/URM_valid.npz\n",
      "/kaggle/input/training-tuned-models/Recsys_Challenge_2023/models/10Folds/fold_6/item_pure_svd.zip\n",
      "/kaggle/input/training-tuned-models/Recsys_Challenge_2023/models/10Folds/fold_6/slim_elastic.zip\n",
      "/kaggle/input/training-tuned-models/Recsys_Challenge_2023/models/10Folds/fold_6/rp3.zip\n",
      "/kaggle/input/training-tuned-models/Recsys_Challenge_2023/models/10Folds/fold_6/p3a.zip\n",
      "/kaggle/input/training-tuned-models/Recsys_Challenge_2023/models/10Folds/fold_6/item_knn.zip\n",
      "/kaggle/input/training-tuned-models/Recsys_Challenge_2023/models/10Folds/fold_3/pure_svd_scaled.zip\n",
      "/kaggle/input/training-tuned-models/Recsys_Challenge_2023/models/10Folds/fold_3/slim_bpr.zip\n",
      "/kaggle/input/training-tuned-models/Recsys_Challenge_2023/models/10Folds/fold_3/user_knn.zip\n",
      "/kaggle/input/training-tuned-models/Recsys_Challenge_2023/models/10Folds/fold_3/nmf.zip\n",
      "/kaggle/input/training-tuned-models/Recsys_Challenge_2023/models/10Folds/fold_3/URM_train.npz\n",
      "/kaggle/input/training-tuned-models/Recsys_Challenge_2023/models/10Folds/fold_3/ease_r.zip\n",
      "/kaggle/input/training-tuned-models/Recsys_Challenge_2023/models/10Folds/fold_3/pure_svd.zip\n",
      "/kaggle/input/training-tuned-models/Recsys_Challenge_2023/models/10Folds/fold_3/URM_valid.npz\n",
      "/kaggle/input/training-tuned-models/Recsys_Challenge_2023/models/10Folds/fold_3/item_pure_svd.zip\n",
      "/kaggle/input/training-tuned-models/Recsys_Challenge_2023/models/10Folds/fold_3/slim_elastic.zip\n",
      "/kaggle/input/training-tuned-models/Recsys_Challenge_2023/models/10Folds/fold_3/rp3.zip\n",
      "/kaggle/input/training-tuned-models/Recsys_Challenge_2023/models/10Folds/fold_3/p3a.zip\n",
      "/kaggle/input/training-tuned-models/Recsys_Challenge_2023/models/10Folds/fold_3/item_knn.zip\n",
      "/kaggle/input/training-tuned-models/Recsys_Challenge_2023/models/10Folds/fold_9/pure_svd_scaled.zip\n",
      "/kaggle/input/training-tuned-models/Recsys_Challenge_2023/models/10Folds/fold_9/slim_bpr.zip\n",
      "/kaggle/input/training-tuned-models/Recsys_Challenge_2023/models/10Folds/fold_9/user_knn.zip\n",
      "/kaggle/input/training-tuned-models/Recsys_Challenge_2023/models/10Folds/fold_9/nmf.zip\n",
      "/kaggle/input/training-tuned-models/Recsys_Challenge_2023/models/10Folds/fold_9/URM_train.npz\n",
      "/kaggle/input/training-tuned-models/Recsys_Challenge_2023/models/10Folds/fold_9/ease_r.zip\n",
      "/kaggle/input/training-tuned-models/Recsys_Challenge_2023/models/10Folds/fold_9/pure_svd.zip\n",
      "/kaggle/input/training-tuned-models/Recsys_Challenge_2023/models/10Folds/fold_9/URM_valid.npz\n",
      "/kaggle/input/training-tuned-models/Recsys_Challenge_2023/models/10Folds/fold_9/item_pure_svd.zip\n",
      "/kaggle/input/training-tuned-models/Recsys_Challenge_2023/models/10Folds/fold_9/slim_elastic.zip\n",
      "/kaggle/input/training-tuned-models/Recsys_Challenge_2023/models/10Folds/fold_9/rp3.zip\n",
      "/kaggle/input/training-tuned-models/Recsys_Challenge_2023/models/10Folds/fold_9/p3a.zip\n",
      "/kaggle/input/training-tuned-models/Recsys_Challenge_2023/models/10Folds/fold_9/item_knn.zip\n",
      "/kaggle/input/training-tuned-models/Recsys_Challenge_2023/models/10Folds/fold_7/pure_svd_scaled.zip\n",
      "/kaggle/input/training-tuned-models/Recsys_Challenge_2023/models/10Folds/fold_7/slim_bpr.zip\n",
      "/kaggle/input/training-tuned-models/Recsys_Challenge_2023/models/10Folds/fold_7/user_knn.zip\n",
      "/kaggle/input/training-tuned-models/Recsys_Challenge_2023/models/10Folds/fold_7/nmf.zip\n",
      "/kaggle/input/training-tuned-models/Recsys_Challenge_2023/models/10Folds/fold_7/URM_train.npz\n",
      "/kaggle/input/training-tuned-models/Recsys_Challenge_2023/models/10Folds/fold_7/ease_r.zip\n",
      "/kaggle/input/training-tuned-models/Recsys_Challenge_2023/models/10Folds/fold_7/pure_svd.zip\n",
      "/kaggle/input/training-tuned-models/Recsys_Challenge_2023/models/10Folds/fold_7/URM_valid.npz\n",
      "/kaggle/input/training-tuned-models/Recsys_Challenge_2023/models/10Folds/fold_7/item_pure_svd.zip\n",
      "/kaggle/input/training-tuned-models/Recsys_Challenge_2023/models/10Folds/fold_7/slim_elastic.zip\n",
      "/kaggle/input/training-tuned-models/Recsys_Challenge_2023/models/10Folds/fold_7/rp3.zip\n",
      "/kaggle/input/training-tuned-models/Recsys_Challenge_2023/models/10Folds/fold_7/p3a.zip\n",
      "/kaggle/input/training-tuned-models/Recsys_Challenge_2023/models/10Folds/fold_7/item_knn.zip\n",
      "/kaggle/input/training-tuned-models/Recsys_Challenge_2023/models/10Folds/fold_2/pure_svd_scaled.zip\n",
      "/kaggle/input/training-tuned-models/Recsys_Challenge_2023/models/10Folds/fold_2/slim_bpr.zip\n",
      "/kaggle/input/training-tuned-models/Recsys_Challenge_2023/models/10Folds/fold_2/user_knn.zip\n",
      "/kaggle/input/training-tuned-models/Recsys_Challenge_2023/models/10Folds/fold_2/nmf.zip\n",
      "/kaggle/input/training-tuned-models/Recsys_Challenge_2023/models/10Folds/fold_2/URM_train.npz\n",
      "/kaggle/input/training-tuned-models/Recsys_Challenge_2023/models/10Folds/fold_2/ease_r.zip\n",
      "/kaggle/input/training-tuned-models/Recsys_Challenge_2023/models/10Folds/fold_2/pure_svd.zip\n",
      "/kaggle/input/training-tuned-models/Recsys_Challenge_2023/models/10Folds/fold_2/URM_valid.npz\n",
      "/kaggle/input/training-tuned-models/Recsys_Challenge_2023/models/10Folds/fold_2/item_pure_svd.zip\n",
      "/kaggle/input/training-tuned-models/Recsys_Challenge_2023/models/10Folds/fold_2/slim_elastic.zip\n",
      "/kaggle/input/training-tuned-models/Recsys_Challenge_2023/models/10Folds/fold_2/rp3.zip\n",
      "/kaggle/input/training-tuned-models/Recsys_Challenge_2023/models/10Folds/fold_2/p3a.zip\n",
      "/kaggle/input/training-tuned-models/Recsys_Challenge_2023/models/10Folds/fold_2/item_knn.zip\n",
      "/kaggle/input/training-tuned-models/Recsys_Challenge_2023/models/10Folds/fold_5/pure_svd_scaled.zip\n",
      "/kaggle/input/training-tuned-models/Recsys_Challenge_2023/models/10Folds/fold_5/slim_bpr.zip\n",
      "/kaggle/input/training-tuned-models/Recsys_Challenge_2023/models/10Folds/fold_5/user_knn.zip\n",
      "/kaggle/input/training-tuned-models/Recsys_Challenge_2023/models/10Folds/fold_5/nmf.zip\n",
      "/kaggle/input/training-tuned-models/Recsys_Challenge_2023/models/10Folds/fold_5/URM_train.npz\n",
      "/kaggle/input/training-tuned-models/Recsys_Challenge_2023/models/10Folds/fold_5/ease_r.zip\n",
      "/kaggle/input/training-tuned-models/Recsys_Challenge_2023/models/10Folds/fold_5/pure_svd.zip\n",
      "/kaggle/input/training-tuned-models/Recsys_Challenge_2023/models/10Folds/fold_5/URM_valid.npz\n",
      "/kaggle/input/training-tuned-models/Recsys_Challenge_2023/models/10Folds/fold_5/item_pure_svd.zip\n",
      "/kaggle/input/training-tuned-models/Recsys_Challenge_2023/models/10Folds/fold_5/slim_elastic.zip\n",
      "/kaggle/input/training-tuned-models/Recsys_Challenge_2023/models/10Folds/fold_5/rp3.zip\n",
      "/kaggle/input/training-tuned-models/Recsys_Challenge_2023/models/10Folds/fold_5/p3a.zip\n",
      "/kaggle/input/training-tuned-models/Recsys_Challenge_2023/models/10Folds/fold_5/item_knn.zip\n",
      "/kaggle/input/training-tuned-models/Recsys_Challenge_2023/models/10Folds/fold_8/pure_svd_scaled.zip\n",
      "/kaggle/input/training-tuned-models/Recsys_Challenge_2023/models/10Folds/fold_8/slim_bpr.zip\n",
      "/kaggle/input/training-tuned-models/Recsys_Challenge_2023/models/10Folds/fold_8/user_knn.zip\n",
      "/kaggle/input/training-tuned-models/Recsys_Challenge_2023/models/10Folds/fold_8/nmf.zip\n",
      "/kaggle/input/training-tuned-models/Recsys_Challenge_2023/models/10Folds/fold_8/URM_train.npz\n",
      "/kaggle/input/training-tuned-models/Recsys_Challenge_2023/models/10Folds/fold_8/ease_r.zip\n",
      "/kaggle/input/training-tuned-models/Recsys_Challenge_2023/models/10Folds/fold_8/pure_svd.zip\n",
      "/kaggle/input/training-tuned-models/Recsys_Challenge_2023/models/10Folds/fold_8/URM_valid.npz\n",
      "/kaggle/input/training-tuned-models/Recsys_Challenge_2023/models/10Folds/fold_8/item_pure_svd.zip\n",
      "/kaggle/input/training-tuned-models/Recsys_Challenge_2023/models/10Folds/fold_8/slim_elastic.zip\n",
      "/kaggle/input/training-tuned-models/Recsys_Challenge_2023/models/10Folds/fold_8/rp3.zip\n",
      "/kaggle/input/training-tuned-models/Recsys_Challenge_2023/models/10Folds/fold_8/p3a.zip\n",
      "/kaggle/input/training-tuned-models/Recsys_Challenge_2023/models/10Folds/fold_8/item_knn.zip\n",
      "/kaggle/input/training-tuned-models/Recsys_Challenge_2023/images/random_random_everywhere_meme.jpg\n",
      "/kaggle/input/training-tuned-models/Recsys_Challenge_2023/images/ive_already_seen_it_meme.png\n",
      "/kaggle/input/training-tuned-models/Recsys_Challenge_2023/images/bob_example.jpeg\n",
      "/kaggle/input/training-tuned-models/Recsys_Challenge_2023/images/hstack_example.png\n",
      "/kaggle/input/training-tuned-models/Recsys_Challenge_2023/images/FactorizationMachine.png\n",
      "/kaggle/input/training-tuned-models/Recsys_Challenge_2023/images/ive_evaluated_your_performance_meme.jpg\n",
      "/kaggle/input/training-tuned-models/Recsys_Challenge_2023/images/amongus_meme.png\n",
      "/kaggle/input/training-tuned-models/Recsys_Challenge_2023/images/toy_story_poster.png\n",
      "/kaggle/input/training-tuned-models/Recsys_Challenge_2023/images/better_than_average_on_the_first_try_meme.jpg\n",
      "/kaggle/input/training-tuned-models/Recsys_Challenge_2023/HyperparameterTuning/SearchSingleCase.py\n",
      "/kaggle/input/training-tuned-models/Recsys_Challenge_2023/HyperparameterTuning/SearchAbstractClass.py\n",
      "/kaggle/input/training-tuned-models/Recsys_Challenge_2023/HyperparameterTuning/run_hyperparameter_search.py\n",
      "/kaggle/input/training-tuned-models/Recsys_Challenge_2023/HyperparameterTuning/SearchBayesianSkopt.py\n",
      "/kaggle/input/training-tuned-models/Recsys_Challenge_2023/Cython_examples/isPrime_slow.pyx\n",
      "/kaggle/input/training-tuned-models/Recsys_Challenge_2023/Cython_examples/SLIM_MSE_fastest.pyx\n",
      "/kaggle/input/training-tuned-models/Recsys_Challenge_2023/Cython_examples/isPrime_nochecks.pyx\n",
      "/kaggle/input/training-tuned-models/Recsys_Challenge_2023/Cython_examples/isPrime.pyx\n",
      "/kaggle/input/training-tuned-models/Recsys_Challenge_2023/Cython_examples/FunkSVD_fastest.pyx\n",
      "/kaggle/input/training-tuned-models/Recsys_Challenge_2023/Cython_examples/FunkSVD_slow.pyx\n",
      "/kaggle/input/training-tuned-models/Recsys_Challenge_2023/Cython_examples/SLIM_MSE_slow.pyx\n",
      "/kaggle/input/training-tuned-models/Recsys_Challenge_2023/result_experiments/run_compile_all_cython.txt\n",
      "/kaggle/input/training-tuned-models/Recsys_Challenge_2023/.git/config\n",
      "/kaggle/input/training-tuned-models/Recsys_Challenge_2023/.git/packed-refs\n",
      "/kaggle/input/training-tuned-models/Recsys_Challenge_2023/.git/HEAD\n",
      "/kaggle/input/training-tuned-models/Recsys_Challenge_2023/.git/index\n",
      "/kaggle/input/training-tuned-models/Recsys_Challenge_2023/.git/description\n",
      "/kaggle/input/training-tuned-models/Recsys_Challenge_2023/.git/info/exclude\n",
      "/kaggle/input/training-tuned-models/Recsys_Challenge_2023/.git/refs/heads/master\n",
      "/kaggle/input/training-tuned-models/Recsys_Challenge_2023/.git/refs/remotes/origin/HEAD\n",
      "/kaggle/input/training-tuned-models/Recsys_Challenge_2023/.git/hooks/pre-merge-commit.sample\n",
      "/kaggle/input/training-tuned-models/Recsys_Challenge_2023/.git/hooks/prepare-commit-msg.sample\n",
      "/kaggle/input/training-tuned-models/Recsys_Challenge_2023/.git/hooks/update.sample\n",
      "/kaggle/input/training-tuned-models/Recsys_Challenge_2023/.git/hooks/pre-push.sample\n",
      "/kaggle/input/training-tuned-models/Recsys_Challenge_2023/.git/hooks/pre-rebase.sample\n",
      "/kaggle/input/training-tuned-models/Recsys_Challenge_2023/.git/hooks/pre-applypatch.sample\n",
      "/kaggle/input/training-tuned-models/Recsys_Challenge_2023/.git/hooks/pre-commit.sample\n",
      "/kaggle/input/training-tuned-models/Recsys_Challenge_2023/.git/hooks/commit-msg.sample\n",
      "/kaggle/input/training-tuned-models/Recsys_Challenge_2023/.git/hooks/post-update.sample\n",
      "/kaggle/input/training-tuned-models/Recsys_Challenge_2023/.git/hooks/pre-receive.sample\n",
      "/kaggle/input/training-tuned-models/Recsys_Challenge_2023/.git/hooks/fsmonitor-watchman.sample\n",
      "/kaggle/input/training-tuned-models/Recsys_Challenge_2023/.git/hooks/applypatch-msg.sample\n",
      "/kaggle/input/training-tuned-models/Recsys_Challenge_2023/.git/logs/HEAD\n",
      "/kaggle/input/training-tuned-models/Recsys_Challenge_2023/.git/logs/refs/heads/master\n",
      "/kaggle/input/training-tuned-models/Recsys_Challenge_2023/.git/logs/refs/remotes/origin/HEAD\n",
      "/kaggle/input/training-tuned-models/Recsys_Challenge_2023/.git/objects/pack/pack-baf6bf9684ef96587556c623fae77c62f6ff1fa5.pack\n",
      "/kaggle/input/training-tuned-models/Recsys_Challenge_2023/.git/objects/pack/pack-baf6bf9684ef96587556c623fae77c62f6ff1fa5.idx\n",
      "/kaggle/input/training-tuned-models/Recsys_Challenge_2023/challenge_notebooks/training-tuned-models.ipynb\n",
      "/kaggle/input/training-tuned-models/Recsys_Challenge_2023/challenge_notebooks/list-combination.ipynb\n",
      "/kaggle/input/training-tuned-models/Recsys_Challenge_2023/challenge_notebooks/models-evaluation.ipynb\n",
      "/kaggle/input/training-tuned-models/Recsys_Challenge_2023/challenge_notebooks/hyperparameters-tuning.ipynb\n",
      "/kaggle/input/training-tuned-models/Recsys_Challenge_2023/challenge_notebooks/matrix-factorization-scaled-puresvd.ipynb\n",
      "/kaggle/input/training-tuned-models/Recsys_Challenge_2023/challenge_notebooks/rp3-tuning.ipynb\n",
      "/kaggle/input/training-tuned-models/Recsys_Challenge_2023/challenge_notebooks/xgboost-classifier.ipynb\n",
      "/kaggle/input/training-tuned-models/Recsys_Challenge_2023/challenge_notebooks/lightgbm.ipynb\n",
      "/kaggle/input/training-tuned-models/Recsys_Challenge_2023/challenge_notebooks/hybrid-precision.ipynb\n",
      "/kaggle/input/training-tuned-models/Recsys_Challenge_2023/challenge_notebooks/linear-combination.ipynb\n",
      "/kaggle/input/training-tuned-models/Recsys_Challenge_2023/challenge_notebooks/rp3-itemknn-hybrid.ipynb\n",
      "/kaggle/input/training-tuned-models/Recsys_Challenge_2023/challenge_notebooks/merging-models.ipynb\n",
      "/kaggle/input/training-tuned-models/Recsys_Challenge_2023/challenge_notebooks/training-tuned-models-cv.ipynb\n",
      "/kaggle/input/training-tuned-models/Recsys_Challenge_2023/challenge_notebooks/matrix-factorization-item-puresvd.ipynb\n",
      "/kaggle/input/training-tuned-models/Recsys_Challenge_2023/challenge_notebooks/xgboost-without-userid-and-itemid.ipynb\n",
      "/kaggle/input/training-tuned-models/Recsys_Challenge_2023/challenge_notebooks/xgboost-with-categorical-ids.ipynb\n",
      "/kaggle/input/training-tuned-models/Recsys_Challenge_2023/challenge_notebooks/hyperparameters-tuning-better.ipynb\n",
      "/kaggle/input/training-tuned-models/Recsys_Challenge_2023/challenge_notebooks/hyperparameters-tuning-knn.ipynb\n",
      "/kaggle/input/training-tuned-models/Recsys_Challenge_2023/challenge_notebooks/slim-tuning.ipynb\n",
      "/kaggle/input/training-tuned-models/Recsys_Challenge_2023/challenge_notebooks/alternating-least-squares-with-implicit.ipynb\n",
      "/kaggle/input/training-tuned-models/Recsys_Challenge_2023/challenge_notebooks/matrix-factorization.ipynb\n",
      "/kaggle/input/training-tuned-models/Recsys_Challenge_2023/challenge_notebooks/xgboost.ipynb\n",
      "/kaggle/input/training-tuned-models/Recsys_Challenge_2023/challenge_notebooks/srecsys-challenge.ipynb\n",
      "/kaggle/input/training-tuned-models/Recsys_Challenge_2023/challenge_notebooks/hybrid.ipynb\n",
      "/kaggle/input/training-tuned-models/Recsys_Challenge_2023/Evaluation/metrics.py\n",
      "/kaggle/input/training-tuned-models/Recsys_Challenge_2023/Evaluation/Evaluator.py\n",
      "/kaggle/input/training-tuned-models/Recsys_Challenge_2023/Evaluation/__pycache__/metrics.cpython-310.pyc\n",
      "/kaggle/input/training-tuned-models/Recsys_Challenge_2023/Evaluation/__pycache__/Evaluator.cpython-310.pyc\n",
      "/kaggle/input/recommender-system-2023-challenge-polimi/data_train.csv\n",
      "/kaggle/input/recommender-system-2023-challenge-polimi/data_target_users_test.csv\n"
     ]
    }
   ],
   "source": [
    "import numpy as np\n",
    "import pandas as pd\n",
    "import matplotlib.pyplot as plt\n",
    "import seaborn as sns\n",
    "import joblib\n",
    "import json\n",
    "import random\n",
    "import tqdm\n",
    "import gc\n",
    "import time\n",
    "import os\n",
    "import shutil\n",
    "import optuna\n",
    "import scipy.sparse as sps\n",
    "\n",
    "for dirname, _, filenames in os.walk('/kaggle/input'):\n",
    "    for filename in filenames:\n",
    "        print(os.path.join(dirname, filename))"
   ]
  },
  {
   "cell_type": "code",
   "execution_count": 5,
   "id": "5cbf4cf5",
   "metadata": {
    "execution": {
     "iopub.execute_input": "2023-12-24T17:33:02.550537Z",
     "iopub.status.busy": "2023-12-24T17:33:02.549867Z",
     "iopub.status.idle": "2023-12-24T17:33:02.560388Z",
     "shell.execute_reply": "2023-12-24T17:33:02.558710Z"
    },
    "papermill": {
     "duration": 0.039694,
     "end_time": "2023-12-24T17:33:02.563469",
     "exception": false,
     "start_time": "2023-12-24T17:33:02.523775",
     "status": "completed"
    },
    "tags": []
   },
   "outputs": [
    {
     "name": "stdout",
     "output_type": "stream",
     "text": [
      "/kaggle/working/Recsys_Challenge_2023\n"
     ]
    }
   ],
   "source": [
    "%cd /kaggle/working/Recsys_Challenge_2023"
   ]
  },
  {
   "cell_type": "code",
   "execution_count": 6,
   "id": "29c8aa82",
   "metadata": {
    "execution": {
     "iopub.execute_input": "2023-12-24T17:33:02.613994Z",
     "iopub.status.busy": "2023-12-24T17:33:02.613148Z",
     "iopub.status.idle": "2023-12-24T17:33:07.173810Z",
     "shell.execute_reply": "2023-12-24T17:33:07.171914Z"
    },
    "papermill": {
     "duration": 4.588089,
     "end_time": "2023-12-24T17:33:07.176609",
     "exception": false,
     "start_time": "2023-12-24T17:33:02.588520",
     "status": "completed"
    },
    "tags": []
   },
   "outputs": [],
   "source": [
    "from Recommenders.KNN.UserKNNCFRecommender import UserKNNCFRecommender\n",
    "from Data_manager.split_functions.split_train_validation_random_holdout import split_train_in_two_percentage_global_sample\n",
    "from Recommenders.SLIM.SLIMElasticNetRecommender import MultiThreadSLIM_SLIMElasticNetRecommender, SLIMElasticNetRecommender\n",
    "from Recommenders.SLIM.Cython.SLIM_BPR_Cython import SLIM_BPR_Cython\n",
    "from Recommenders.SLIM.SLIM_BPR_Python import SLIM_BPR_Python\n",
    "from Evaluation.Evaluator import EvaluatorHoldout\n",
    "from Recommenders.MatrixFactorization.IALSRecommender import IALSRecommender\n",
    "from Recommenders.MatrixFactorization.PureSVDRecommender import PureSVDRecommender\n",
    "from Recommenders.KNN.ItemKNNCFRecommender import ItemKNNCFRecommender\n",
    "from Recommenders.KNN.UserKNNCFRecommender import UserKNNCFRecommender\n",
    "from Recommenders.MatrixFactorization.Cython.MatrixFactorization_Cython import MatrixFactorization_BPR_Cython, MatrixFactorization_SVDpp_Cython, MatrixFactorization_AsySVD_Cython, MatrixFactorization_WARP_Cython\n",
    "from Recommenders.MatrixFactorization.PyTorch.MF_MSE_PyTorch import MF_MSE_PyTorch\n",
    "from Recommenders.GraphBased.RP3betaRecommender import RP3betaRecommender\n",
    "\n",
    "from Recommenders.Hybrid.RoundRobinListCombinationRecommender import RoundRobinListCombinationRecommender\n",
    "\n",
    "np.int = int\n",
    "np.random.seed(42)\n",
    "np.bool = bool\n",
    "np.float = float"
   ]
  },
  {
   "cell_type": "code",
   "execution_count": 7,
   "id": "4fd967e7",
   "metadata": {
    "execution": {
     "iopub.execute_input": "2023-12-24T17:33:07.222081Z",
     "iopub.status.busy": "2023-12-24T17:33:07.221406Z",
     "iopub.status.idle": "2023-12-24T17:33:08.022654Z",
     "shell.execute_reply": "2023-12-24T17:33:08.021084Z"
    },
    "papermill": {
     "duration": 0.827153,
     "end_time": "2023-12-24T17:33:08.025256",
     "exception": false,
     "start_time": "2023-12-24T17:33:07.198103",
     "status": "completed"
    },
    "tags": []
   },
   "outputs": [
    {
     "name": "stdout",
     "output_type": "stream",
     "text": [
      "Repository found\n"
     ]
    }
   ],
   "source": [
    "from github import Github\n",
    "from github import Auth\n",
    "\n",
    "auth = Auth.Token(token)\n",
    "g = Github(auth=auth)\n",
    "\n",
    "repo = None\n",
    "for r in g.get_user().get_repos():\n",
    "    if r.name == 'Recsys_Challenge_2023':\n",
    "        repo = r\n",
    "        print('Repository found')"
   ]
  },
  {
   "cell_type": "code",
   "execution_count": 8,
   "id": "c15e31ed",
   "metadata": {
    "execution": {
     "iopub.execute_input": "2023-12-24T17:33:08.072699Z",
     "iopub.status.busy": "2023-12-24T17:33:08.071975Z",
     "iopub.status.idle": "2023-12-24T17:33:08.078949Z",
     "shell.execute_reply": "2023-12-24T17:33:08.077345Z"
    },
    "papermill": {
     "duration": 0.034172,
     "end_time": "2023-12-24T17:33:08.082172",
     "exception": false,
     "start_time": "2023-12-24T17:33:08.048000",
     "status": "completed"
    },
    "tags": []
   },
   "outputs": [],
   "source": [
    "def upload_file(filepath_kaggle, filepath_github, commit_message):\n",
    "    try:\n",
    "        contents = repo.get_contents(filepath_github)\n",
    "        with open(filepath_kaggle, \"rb\") as file:\n",
    "            repo.update_file(contents.path, commit_message, file.read(), contents.sha)\n",
    "    except Exception:\n",
    "        with open(filepath_kaggle, \"rb\") as file:\n",
    "            repo.create_file(filepath_github, commit_message, file.read())"
   ]
  },
  {
   "cell_type": "code",
   "execution_count": 9,
   "id": "29148ddd",
   "metadata": {
    "execution": {
     "iopub.execute_input": "2023-12-24T17:33:08.129935Z",
     "iopub.status.busy": "2023-12-24T17:33:08.129523Z",
     "iopub.status.idle": "2023-12-24T17:33:08.135572Z",
     "shell.execute_reply": "2023-12-24T17:33:08.133366Z"
    },
    "papermill": {
     "duration": 0.034086,
     "end_time": "2023-12-24T17:33:08.139582",
     "exception": false,
     "start_time": "2023-12-24T17:33:08.105496",
     "status": "completed"
    },
    "tags": []
   },
   "outputs": [],
   "source": [
    "config = {\n",
    "    'tune_parameters_rp3': True,\n",
    "    'tune_parameters_knn': True,\n",
    "    'database_path': '/kaggle/working/tuning.db',\n",
    "    'copy_prev_best_params': True,\n",
    "    'save_github': True\n",
    "}"
   ]
  },
  {
   "cell_type": "code",
   "execution_count": 10,
   "id": "7f3479db",
   "metadata": {
    "execution": {
     "iopub.execute_input": "2023-12-24T17:33:08.335052Z",
     "iopub.status.busy": "2023-12-24T17:33:08.334509Z",
     "iopub.status.idle": "2023-12-24T17:33:09.752956Z",
     "shell.execute_reply": "2023-12-24T17:33:09.751805Z"
    },
    "papermill": {
     "duration": 1.445641,
     "end_time": "2023-12-24T17:33:09.755695",
     "exception": false,
     "start_time": "2023-12-24T17:33:08.310054",
     "status": "completed"
    },
    "tags": []
   },
   "outputs": [
    {
     "data": {
      "text/plain": [
       "'/kaggle/working/slim_recall_train_validation.zip'"
      ]
     },
     "execution_count": 10,
     "metadata": {},
     "output_type": "execute_result"
    }
   ],
   "source": [
    "shutil.copyfile(\n",
    "    '/kaggle/input/training-tuned-models/slim_recall_train_validation.zip', \n",
    "    '/kaggle/working/slim_recall_train_validation.zip', \n",
    ")"
   ]
  },
  {
   "cell_type": "code",
   "execution_count": 11,
   "id": "0f7a042b",
   "metadata": {
    "execution": {
     "iopub.execute_input": "2023-12-24T17:33:09.802389Z",
     "iopub.status.busy": "2023-12-24T17:33:09.801731Z",
     "iopub.status.idle": "2023-12-24T17:33:09.807703Z",
     "shell.execute_reply": "2023-12-24T17:33:09.806181Z"
    },
    "papermill": {
     "duration": 0.033402,
     "end_time": "2023-12-24T17:33:09.810878",
     "exception": false,
     "start_time": "2023-12-24T17:33:09.777476",
     "status": "completed"
    },
    "tags": []
   },
   "outputs": [],
   "source": [
    "try:\n",
    "    shutil.copyfile(\n",
    "        '/kaggle/working/Recsys_Challenge_2023/tuning_results/tuning_recall.db', \n",
    "        config['database_path']\n",
    "    )\n",
    "except FileNotFoundError:\n",
    "    pass # if not present optuna will create it"
   ]
  },
  {
   "cell_type": "code",
   "execution_count": 12,
   "id": "5c850fd9",
   "metadata": {
    "execution": {
     "iopub.execute_input": "2023-12-24T17:33:09.858477Z",
     "iopub.status.busy": "2023-12-24T17:33:09.858007Z",
     "iopub.status.idle": "2023-12-24T17:33:10.092366Z",
     "shell.execute_reply": "2023-12-24T17:33:10.091025Z"
    },
    "papermill": {
     "duration": 0.262994,
     "end_time": "2023-12-24T17:33:10.095382",
     "exception": false,
     "start_time": "2023-12-24T17:33:09.832388",
     "status": "completed"
    },
    "tags": []
   },
   "outputs": [],
   "source": [
    "train_data = pd.read_csv('/kaggle/input/recommender-system-2023-challenge-polimi/data_train.csv')\n",
    "user_ids_test = pd.read_csv('/kaggle/input/recommender-system-2023-challenge-polimi/data_target_users_test.csv')"
   ]
  },
  {
   "cell_type": "code",
   "execution_count": 13,
   "id": "71826e32",
   "metadata": {
    "execution": {
     "iopub.execute_input": "2023-12-24T17:33:10.161461Z",
     "iopub.status.busy": "2023-12-24T17:33:10.160921Z",
     "iopub.status.idle": "2023-12-24T17:33:10.205165Z",
     "shell.execute_reply": "2023-12-24T17:33:10.203766Z"
    },
    "papermill": {
     "duration": 0.08331,
     "end_time": "2023-12-24T17:33:10.207845",
     "exception": false,
     "start_time": "2023-12-24T17:33:10.124535",
     "status": "completed"
    },
    "tags": []
   },
   "outputs": [
    {
     "data": {
      "text/plain": [
       "<13024x22347 sparse matrix of type '<class 'numpy.float64'>'\n",
       "\twith 478730 stored elements in Compressed Sparse Row format>"
      ]
     },
     "execution_count": 13,
     "metadata": {},
     "output_type": "execute_result"
    }
   ],
   "source": [
    "URM_all = sps.csr_matrix((train_data.data.values,\n",
    "                          ((train_data.row - 1).values, (train_data.col - 1).values)),\n",
    "                        shape=(train_data.row.max(), train_data.col.max()))\n",
    "URM_all"
   ]
  },
  {
   "cell_type": "code",
   "execution_count": 14,
   "id": "855fcf43",
   "metadata": {
    "execution": {
     "iopub.execute_input": "2023-12-24T17:33:10.259631Z",
     "iopub.status.busy": "2023-12-24T17:33:10.259176Z",
     "iopub.status.idle": "2023-12-24T17:33:11.165125Z",
     "shell.execute_reply": "2023-12-24T17:33:11.163537Z"
    },
    "papermill": {
     "duration": 0.932919,
     "end_time": "2023-12-24T17:33:11.167470",
     "exception": false,
     "start_time": "2023-12-24T17:33:10.234551",
     "status": "completed"
    },
    "tags": []
   },
   "outputs": [
    {
     "name": "stdout",
     "output_type": "stream",
     "text": [
      "Warning: 627 (4.81 %) of 13024 users have no train items\n",
      "Warning: 2568 (19.72 %) of 13024 users have no sampled items\n",
      "Warning: 2953 (22.67 %) of 13024 users have no train items\n",
      "Warning: 6367 (48.89 %) of 13024 users have no sampled items\n"
     ]
    }
   ],
   "source": [
    "URM_train, URM_test_complete = split_train_in_two_percentage_global_sample(URM_all, train_percentage = 0.8)\n",
    "URM_validation, URM_test = split_train_in_two_percentage_global_sample(URM_test_complete, train_percentage = 0.8)"
   ]
  },
  {
   "cell_type": "code",
   "execution_count": 15,
   "id": "b3449cfb",
   "metadata": {
    "execution": {
     "iopub.execute_input": "2023-12-24T17:33:11.211470Z",
     "iopub.status.busy": "2023-12-24T17:33:11.211010Z",
     "iopub.status.idle": "2023-12-24T17:33:11.232796Z",
     "shell.execute_reply": "2023-12-24T17:33:11.231628Z"
    },
    "papermill": {
     "duration": 0.047093,
     "end_time": "2023-12-24T17:33:11.235519",
     "exception": false,
     "start_time": "2023-12-24T17:33:11.188426",
     "status": "completed"
    },
    "tags": []
   },
   "outputs": [
    {
     "name": "stdout",
     "output_type": "stream",
     "text": [
      "EvaluatorHoldout: Ignoring 2568 (19.7%) Users that have less than 1 test interactions\n"
     ]
    }
   ],
   "source": [
    "evaluator = EvaluatorHoldout(URM_test_complete, cutoff_list=[50])\n",
    "\n",
    "def objective_function_rp3_recall(trial):           \n",
    "    params = {\n",
    "        'alpha': trial.suggest_float('alpha', 1e-5, 10, log=True),\n",
    "        'beta': trial.suggest_float('beta', 1e-5, 10, log=True),\n",
    "        'topK': trial.suggest_int('topK', 5, 2000, log=True),\n",
    "        'implicit': True,\n",
    "        'normalize_similarity': True\n",
    "    }\n",
    "        \n",
    "    recommender_instance = RP3betaRecommender(URM_train)\n",
    "    recommender_instance.fit(**params)\n",
    "        \n",
    "    result_df, _ = evaluator.evaluateRecommender(recommender_instance)\n",
    "    return result_df.loc[50, \"RECALL\"]"
   ]
  },
  {
   "cell_type": "code",
   "execution_count": 16,
   "id": "b402356b",
   "metadata": {
    "execution": {
     "iopub.execute_input": "2023-12-24T17:33:11.282399Z",
     "iopub.status.busy": "2023-12-24T17:33:11.281409Z",
     "iopub.status.idle": "2023-12-24T18:42:36.446245Z",
     "shell.execute_reply": "2023-12-24T18:42:36.445120Z"
    },
    "papermill": {
     "duration": 4165.205767,
     "end_time": "2023-12-24T18:42:36.463645",
     "exception": false,
     "start_time": "2023-12-24T17:33:11.257878",
     "status": "completed"
    },
    "tags": []
   },
   "outputs": [
    {
     "name": "stderr",
     "output_type": "stream",
     "text": [
      "[I 2023-12-24 17:33:11,729] Using an existing study with name 'tuning_recall_rp3' instead of creating a new one.\n"
     ]
    },
    {
     "name": "stdout",
     "output_type": "stream",
     "text": [
      "RP3betaRecommender: URM Detected 627 ( 4.8%) users with no interactions.\n",
      "RP3betaRecommender: URM Detected 247 ( 1.1%) items with no interactions.\n",
      "RP3betaRecommender: Similarity column 22347 (100.0%), 2597.20 column/sec. Elapsed time 8.60 sec\n",
      "EvaluatorHoldout: Processed 10456 (100.0%) in 7.16 sec. Users per second: 1461\n"
     ]
    },
    {
     "name": "stderr",
     "output_type": "stream",
     "text": [
      "[I 2023-12-24 17:33:30,776] Trial 200 finished with value: 0.27085447520659683 and parameters: {'alpha': 0.45212947578517376, 'beta': 0.15246559831421005, 'topK': 164}. Best is trial 158 with value: 0.27484076465819407.\n"
     ]
    },
    {
     "name": "stdout",
     "output_type": "stream",
     "text": [
      "RP3betaRecommender: URM Detected 627 ( 4.8%) users with no interactions.\n",
      "RP3betaRecommender: URM Detected 247 ( 1.1%) items with no interactions.\n",
      "RP3betaRecommender: Similarity column 22347 (100.0%), 2782.42 column/sec. Elapsed time 8.03 sec\n",
      "EvaluatorHoldout: Processed 10456 (100.0%) in 7.11 sec. Users per second: 1470\n"
     ]
    },
    {
     "name": "stderr",
     "output_type": "stream",
     "text": [
      "[I 2023-12-24 17:33:49,124] Trial 201 finished with value: 0.27305945703786 and parameters: {'alpha': 0.17501739096021174, 'beta': 0.19170695558429482, 'topK': 150}. Best is trial 158 with value: 0.27484076465819407.\n"
     ]
    },
    {
     "name": "stdout",
     "output_type": "stream",
     "text": [
      "RP3betaRecommender: URM Detected 627 ( 4.8%) users with no interactions.\n",
      "RP3betaRecommender: URM Detected 247 ( 1.1%) items with no interactions.\n",
      "RP3betaRecommender: Similarity column 22347 (100.0%), 2735.79 column/sec. Elapsed time 8.17 sec\n",
      "EvaluatorHoldout: Processed 10456 (100.0%) in 7.05 sec. Users per second: 1484\n"
     ]
    },
    {
     "name": "stderr",
     "output_type": "stream",
     "text": [
      "[I 2023-12-24 17:34:07,549] Trial 202 finished with value: 0.2752977069192318 and parameters: {'alpha': 0.2139985499567939, 'beta': 0.2194371742883361, 'topK': 154}. Best is trial 202 with value: 0.2752977069192318.\n"
     ]
    },
    {
     "name": "stdout",
     "output_type": "stream",
     "text": [
      "RP3betaRecommender: URM Detected 627 ( 4.8%) users with no interactions.\n",
      "RP3betaRecommender: URM Detected 247 ( 1.1%) items with no interactions.\n",
      "RP3betaRecommender: Similarity column 22347 (100.0%), 2916.82 column/sec. Elapsed time 7.66 sec\n",
      "EvaluatorHoldout: Processed 10456 (100.0%) in 7.08 sec. Users per second: 1477\n"
     ]
    },
    {
     "name": "stderr",
     "output_type": "stream",
     "text": [
      "[I 2023-12-24 17:34:25,331] Trial 203 finished with value: 0.2744158613646267 and parameters: {'alpha': 0.23745271824759517, 'beta': 0.23631456426280859, 'topK': 134}. Best is trial 202 with value: 0.2752977069192318.\n"
     ]
    },
    {
     "name": "stdout",
     "output_type": "stream",
     "text": [
      "RP3betaRecommender: URM Detected 627 ( 4.8%) users with no interactions.\n",
      "RP3betaRecommender: URM Detected 247 ( 1.1%) items with no interactions.\n",
      "RP3betaRecommender: Similarity column 22347 (100.0%), 2906.19 column/sec. Elapsed time 7.69 sec\n",
      "EvaluatorHoldout: Processed 10456 (100.0%) in 7.37 sec. Users per second: 1419\n"
     ]
    },
    {
     "name": "stderr",
     "output_type": "stream",
     "text": [
      "[I 2023-12-24 17:34:43,430] Trial 204 finished with value: 0.26192457670455555 and parameters: {'alpha': 0.239473120420686, 'beta': 0.4111521790442717, 'topK': 131}. Best is trial 202 with value: 0.2752977069192318.\n"
     ]
    },
    {
     "name": "stdout",
     "output_type": "stream",
     "text": [
      "RP3betaRecommender: URM Detected 627 ( 4.8%) users with no interactions.\n",
      "RP3betaRecommender: URM Detected 247 ( 1.1%) items with no interactions.\n",
      "RP3betaRecommender: Similarity column 22347 (100.0%), 3121.17 column/sec. Elapsed time 7.16 sec\n",
      "EvaluatorHoldout: Processed 10456 (100.0%) in 6.87 sec. Users per second: 1521\n"
     ]
    },
    {
     "name": "stderr",
     "output_type": "stream",
     "text": [
      "[I 2023-12-24 17:34:59,819] Trial 205 finished with value: 0.27015955562151417 and parameters: {'alpha': 0.010776651616002449, 'beta': 0.2489657071688781, 'topK': 108}. Best is trial 202 with value: 0.2752977069192318.\n"
     ]
    },
    {
     "name": "stdout",
     "output_type": "stream",
     "text": [
      "RP3betaRecommender: URM Detected 627 ( 4.8%) users with no interactions.\n",
      "RP3betaRecommender: URM Detected 247 ( 1.1%) items with no interactions.\n",
      "RP3betaRecommender: Similarity column 22347 (100.0%), 2976.48 column/sec. Elapsed time 7.51 sec\n",
      "EvaluatorHoldout: Processed 10456 (100.0%) in 7.24 sec. Users per second: 1443\n"
     ]
    },
    {
     "name": "stderr",
     "output_type": "stream",
     "text": [
      "[I 2023-12-24 17:35:17,587] Trial 206 finished with value: 0.2701230624094874 and parameters: {'alpha': 0.13933023429123115, 'beta': 0.313076860011819, 'topK': 132}. Best is trial 202 with value: 0.2752977069192318.\n"
     ]
    },
    {
     "name": "stdout",
     "output_type": "stream",
     "text": [
      "RP3betaRecommender: URM Detected 627 ( 4.8%) users with no interactions.\n",
      "RP3betaRecommender: URM Detected 247 ( 1.1%) items with no interactions.\n",
      "RP3betaRecommender: Similarity column 22347 (100.0%), 2797.63 column/sec. Elapsed time 7.99 sec\n",
      "EvaluatorHoldout: Processed 10456 (100.0%) in 7.02 sec. Users per second: 1490\n"
     ]
    },
    {
     "name": "stderr",
     "output_type": "stream",
     "text": [
      "[I 2023-12-24 17:35:35,813] Trial 207 finished with value: 0.2748912090354348 and parameters: {'alpha': 0.2890875176587205, 'beta': 0.21926450514437068, 'topK': 152}. Best is trial 202 with value: 0.2752977069192318.\n"
     ]
    },
    {
     "name": "stdout",
     "output_type": "stream",
     "text": [
      "RP3betaRecommender: URM Detected 627 ( 4.8%) users with no interactions.\n",
      "RP3betaRecommender: URM Detected 247 ( 1.1%) items with no interactions.\n",
      "RP3betaRecommender: Similarity column 22347 (100.0%), 2921.47 column/sec. Elapsed time 7.65 sec\n",
      "EvaluatorHoldout: Processed 10456 (100.0%) in 7.53 sec. Users per second: 1389\n"
     ]
    },
    {
     "name": "stderr",
     "output_type": "stream",
     "text": [
      "[I 2023-12-24 17:35:54,099] Trial 208 finished with value: 0.141917026034386 and parameters: {'alpha': 0.2848990699836575, 'beta': 0.7044600114571044, 'topK': 138}. Best is trial 202 with value: 0.2752977069192318.\n"
     ]
    },
    {
     "name": "stdout",
     "output_type": "stream",
     "text": [
      "RP3betaRecommender: URM Detected 627 ( 4.8%) users with no interactions.\n",
      "RP3betaRecommender: URM Detected 247 ( 1.1%) items with no interactions.\n",
      "RP3betaRecommender: Similarity column 22347 (100.0%), 2648.19 column/sec. Elapsed time 8.44 sec\n",
      "EvaluatorHoldout: Processed 10456 (100.0%) in 7.48 sec. Users per second: 1399\n"
     ]
    },
    {
     "name": "stderr",
     "output_type": "stream",
     "text": [
      "[I 2023-12-24 17:36:13,460] Trial 209 finished with value: 0.2309255073449818 and parameters: {'alpha': 0.11031301916517602, 'beta': 0.5337895380635945, 'topK': 156}. Best is trial 202 with value: 0.2752977069192318.\n"
     ]
    },
    {
     "name": "stdout",
     "output_type": "stream",
     "text": [
      "RP3betaRecommender: URM Detected 627 ( 4.8%) users with no interactions.\n",
      "RP3betaRecommender: URM Detected 247 ( 1.1%) items with no interactions.\n",
      "RP3betaRecommender: Similarity column 22347 (100.0%), 3009.12 column/sec. Elapsed time 7.43 sec\n",
      "EvaluatorHoldout: Processed 10456 (100.0%) in 7.20 sec. Users per second: 1452\n"
     ]
    },
    {
     "name": "stderr",
     "output_type": "stream",
     "text": [
      "[I 2023-12-24 17:36:30,950] Trial 210 finished with value: 0.26709133357126996 and parameters: {'alpha': 0.3014037375589728, 'beta': 0.3701117537922545, 'topK': 119}. Best is trial 202 with value: 0.2752977069192318.\n"
     ]
    },
    {
     "name": "stdout",
     "output_type": "stream",
     "text": [
      "RP3betaRecommender: URM Detected 627 ( 4.8%) users with no interactions.\n",
      "RP3betaRecommender: URM Detected 247 ( 1.1%) items with no interactions.\n",
      "RP3betaRecommender: Similarity column 22347 (100.0%), 2594.99 column/sec. Elapsed time 8.61 sec\n",
      "EvaluatorHoldout: Processed 10456 (100.0%) in 7.52 sec. Users per second: 1390\n"
     ]
    },
    {
     "name": "stderr",
     "output_type": "stream",
     "text": [
      "[I 2023-12-24 17:36:50,567] Trial 211 finished with value: 0.2744367803194743 and parameters: {'alpha': 0.21853322342694437, 'beta': 0.2170803662301357, 'topK': 175}. Best is trial 202 with value: 0.2752977069192318.\n"
     ]
    },
    {
     "name": "stdout",
     "output_type": "stream",
     "text": [
      "RP3betaRecommender: URM Detected 627 ( 4.8%) users with no interactions.\n",
      "RP3betaRecommender: URM Detected 247 ( 1.1%) items with no interactions.\n",
      "RP3betaRecommender: Similarity column 22347 (100.0%), 2635.31 column/sec. Elapsed time 8.48 sec\n",
      "EvaluatorHoldout: Processed 10456 (100.0%) in 7.18 sec. Users per second: 1457\n"
     ]
    },
    {
     "name": "stderr",
     "output_type": "stream",
     "text": [
      "[I 2023-12-24 17:37:09,683] Trial 212 finished with value: 0.27086850650448674 and parameters: {'alpha': 0.016019763552825868, 'beta': 0.2278397440099941, 'topK': 167}. Best is trial 202 with value: 0.2752977069192318.\n"
     ]
    },
    {
     "name": "stdout",
     "output_type": "stream",
     "text": [
      "RP3betaRecommender: URM Detected 627 ( 4.8%) users with no interactions.\n",
      "RP3betaRecommender: URM Detected 247 ( 1.1%) items with no interactions.\n",
      "RP3betaRecommender: Similarity column 22347 (100.0%), 2529.73 column/sec. Elapsed time 8.83 sec\n",
      "EvaluatorHoldout: Processed 10456 (100.0%) in 7.43 sec. Users per second: 1406\n"
     ]
    },
    {
     "name": "stderr",
     "output_type": "stream",
     "text": [
      "[I 2023-12-24 17:37:29,891] Trial 213 finished with value: 0.27056059522403436 and parameters: {'alpha': 0.21911557573199383, 'beta': 0.27861887380571154, 'topK': 188}. Best is trial 202 with value: 0.2752977069192318.\n"
     ]
    },
    {
     "name": "stdout",
     "output_type": "stream",
     "text": [
      "RP3betaRecommender: URM Detected 627 ( 4.8%) users with no interactions.\n",
      "RP3betaRecommender: URM Detected 247 ( 1.1%) items with no interactions.\n",
      "RP3betaRecommender: Similarity column 22347 (100.0%), 2795.81 column/sec. Elapsed time 7.99 sec\n",
      "EvaluatorHoldout: Processed 10456 (100.0%) in 7.11 sec. Users per second: 1472\n"
     ]
    },
    {
     "name": "stderr",
     "output_type": "stream",
     "text": [
      "[I 2023-12-24 17:37:48,086] Trial 214 finished with value: 0.273260422112147 and parameters: {'alpha': 0.3917912147107139, 'beta': 0.20612933497236433, 'topK': 149}. Best is trial 202 with value: 0.2752977069192318.\n"
     ]
    },
    {
     "name": "stdout",
     "output_type": "stream",
     "text": [
      "RP3betaRecommender: URM Detected 627 ( 4.8%) users with no interactions.\n",
      "RP3betaRecommender: URM Detected 247 ( 1.1%) items with no interactions.\n",
      "RP3betaRecommender: Similarity column 22347 (100.0%), 2479.35 column/sec. Elapsed time 9.01 sec\n",
      "EvaluatorHoldout: Processed 10456 (100.0%) in 7.10 sec. Users per second: 1472\n"
     ]
    },
    {
     "name": "stderr",
     "output_type": "stream",
     "text": [
      "[I 2023-12-24 17:38:07,548] Trial 215 finished with value: 0.27005362092717805 and parameters: {'alpha': 0.16215874542895684, 'beta': 0.12532120429157162, 'topK': 181}. Best is trial 202 with value: 0.2752977069192318.\n"
     ]
    },
    {
     "name": "stdout",
     "output_type": "stream",
     "text": [
      "RP3betaRecommender: URM Detected 627 ( 4.8%) users with no interactions.\n",
      "RP3betaRecommender: URM Detected 247 ( 1.1%) items with no interactions.\n",
      "RP3betaRecommender: Similarity column 22347 (100.0%), 2854.40 column/sec. Elapsed time 7.83 sec\n",
      "EvaluatorHoldout: Processed 10456 (100.0%) in 6.44 sec. Users per second: 1624\n"
     ]
    },
    {
     "name": "stderr",
     "output_type": "stream",
     "text": [
      "[I 2023-12-24 17:38:23,865] Trial 216 finished with value: 0.2533348339634068 and parameters: {'alpha': 0.25350708020254836, 'beta': 0.014889840328882971, 'topK': 123}. Best is trial 202 with value: 0.2752977069192318.\n"
     ]
    },
    {
     "name": "stdout",
     "output_type": "stream",
     "text": [
      "RP3betaRecommender: URM Detected 627 ( 4.8%) users with no interactions.\n",
      "RP3betaRecommender: URM Detected 247 ( 1.1%) items with no interactions.\n",
      "RP3betaRecommender: Similarity column 22347 (100.0%), 2743.24 column/sec. Elapsed time 8.15 sec\n",
      "EvaluatorHoldout: Processed 10456 (100.0%) in 6.96 sec. Users per second: 1502\n"
     ]
    },
    {
     "name": "stderr",
     "output_type": "stream",
     "text": [
      "[I 2023-12-24 17:38:41,869] Trial 217 finished with value: 0.26927080699519684 and parameters: {'alpha': 0.003090775456691915, 'beta': 0.1797232566070273, 'topK': 146}. Best is trial 202 with value: 0.2752977069192318.\n"
     ]
    },
    {
     "name": "stdout",
     "output_type": "stream",
     "text": [
      "RP3betaRecommender: URM Detected 627 ( 4.8%) users with no interactions.\n",
      "RP3betaRecommender: URM Detected 247 ( 1.1%) items with no interactions.\n",
      "RP3betaRecommender: Similarity column 22347 (100.0%), 2486.93 column/sec. Elapsed time 8.99 sec\n",
      "EvaluatorHoldout: Processed 10456 (100.0%) in 7.49 sec. Users per second: 1395\n"
     ]
    },
    {
     "name": "stderr",
     "output_type": "stream",
     "text": [
      "[I 2023-12-24 17:39:02,089] Trial 218 finished with value: 0.271633020429196 and parameters: {'alpha': 0.48507147762327774, 'beta': 0.25728921401976595, 'topK': 177}. Best is trial 202 with value: 0.2752977069192318.\n"
     ]
    },
    {
     "name": "stdout",
     "output_type": "stream",
     "text": [
      "RP3betaRecommender: URM Detected 627 ( 4.8%) users with no interactions.\n",
      "RP3betaRecommender: URM Detected 247 ( 1.1%) items with no interactions.\n",
      "RP3betaRecommender: Similarity column 22347 (100.0%), 2304.35 column/sec. Elapsed time 9.70 sec\n",
      "EvaluatorHoldout: Processed 10456 (100.0%) in 8.44 sec. Users per second: 1238\n"
     ]
    },
    {
     "name": "stderr",
     "output_type": "stream",
     "text": [
      "[I 2023-12-24 17:39:24,810] Trial 219 finished with value: 0.24592691860396837 and parameters: {'alpha': 0.00026379948021830994, 'beta': 0.42568538671042244, 'topK': 223}. Best is trial 202 with value: 0.2752977069192318.\n"
     ]
    },
    {
     "name": "stdout",
     "output_type": "stream",
     "text": [
      "RP3betaRecommender: URM Detected 627 ( 4.8%) users with no interactions.\n",
      "RP3betaRecommender: URM Detected 247 ( 1.1%) items with no interactions.\n",
      "RP3betaRecommender: Similarity column 22347 (100.0%), 4482.30 column/sec. Elapsed time 4.99 sec\n",
      "EvaluatorHoldout: Processed 10456 (100.0%) in 6.36 sec. Users per second: 1645\n"
     ]
    },
    {
     "name": "stderr",
     "output_type": "stream",
     "text": [
      "[I 2023-12-24 17:39:36,886] Trial 220 finished with value: 0.21129057161106346 and parameters: {'alpha': 0.31944776995713475, 'beta': 0.15392967191809792, 'topK': 17}. Best is trial 202 with value: 0.2752977069192318.\n"
     ]
    },
    {
     "name": "stdout",
     "output_type": "stream",
     "text": [
      "RP3betaRecommender: URM Detected 627 ( 4.8%) users with no interactions.\n",
      "RP3betaRecommender: URM Detected 247 ( 1.1%) items with no interactions.\n",
      "RP3betaRecommender: Similarity column 22347 (100.0%), 2399.83 column/sec. Elapsed time 9.31 sec\n",
      "EvaluatorHoldout: Processed 10456 (100.0%) in 7.54 sec. Users per second: 1386\n"
     ]
    },
    {
     "name": "stderr",
     "output_type": "stream",
     "text": [
      "[I 2023-12-24 17:39:57,701] Trial 221 finished with value: 0.27302442316836845 and parameters: {'alpha': 0.1969684849080636, 'beta': 0.20193513473057506, 'topK': 202}. Best is trial 202 with value: 0.2752977069192318.\n"
     ]
    },
    {
     "name": "stdout",
     "output_type": "stream",
     "text": [
      "RP3betaRecommender: URM Detected 627 ( 4.8%) users with no interactions.\n",
      "RP3betaRecommender: URM Detected 247 ( 1.1%) items with no interactions.\n",
      "RP3betaRecommender: Similarity column 22347 (100.0%), 2137.99 column/sec. Elapsed time 10.45 sec\n",
      "EvaluatorHoldout: Processed 10456 (100.0%) in 7.53 sec. Users per second: 1388\n"
     ]
    },
    {
     "name": "stderr",
     "output_type": "stream",
     "text": [
      "[I 2023-12-24 17:40:20,030] Trial 222 finished with value: 0.27327013420646873 and parameters: {'alpha': 0.20729608326730906, 'beta': 0.16282116646429842, 'topK': 239}. Best is trial 202 with value: 0.2752977069192318.\n"
     ]
    },
    {
     "name": "stdout",
     "output_type": "stream",
     "text": [
      "RP3betaRecommender: URM Detected 627 ( 4.8%) users with no interactions.\n",
      "RP3betaRecommender: URM Detected 247 ( 1.1%) items with no interactions.\n",
      "RP3betaRecommender: Similarity column 22347 (100.0%), 2633.52 column/sec. Elapsed time 8.49 sec\n",
      "EvaluatorHoldout: Processed 10456 (100.0%) in 7.29 sec. Users per second: 1434\n"
     ]
    },
    {
     "name": "stderr",
     "output_type": "stream",
     "text": [
      "[I 2023-12-24 17:40:39,189] Trial 223 finished with value: 0.274025460292303 and parameters: {'alpha': 0.266447623618947, 'beta': 0.2388433092097062, 'topK': 164}. Best is trial 202 with value: 0.2752977069192318.\n"
     ]
    },
    {
     "name": "stdout",
     "output_type": "stream",
     "text": [
      "RP3betaRecommender: URM Detected 627 ( 4.8%) users with no interactions.\n",
      "RP3betaRecommender: URM Detected 247 ( 1.1%) items with no interactions.\n",
      "RP3betaRecommender: Similarity column 22347 (100.0%), 2669.32 column/sec. Elapsed time 8.37 sec\n",
      "EvaluatorHoldout: Processed 10456 (100.0%) in 7.57 sec. Users per second: 1382\n"
     ]
    },
    {
     "name": "stderr",
     "output_type": "stream",
     "text": [
      "[I 2023-12-24 17:40:58,734] Trial 224 finished with value: 0.27060138541013956 and parameters: {'alpha': 0.2847232948685046, 'beta': 0.3149427197794461, 'topK': 160}. Best is trial 202 with value: 0.2752977069192318.\n"
     ]
    },
    {
     "name": "stdout",
     "output_type": "stream",
     "text": [
      "RP3betaRecommender: URM Detected 627 ( 4.8%) users with no interactions.\n",
      "RP3betaRecommender: URM Detected 247 ( 1.1%) items with no interactions.\n",
      "RP3betaRecommender: Similarity column 22347 (100.0%), 2155.55 column/sec. Elapsed time 10.37 sec\n",
      "EvaluatorHoldout: Processed 10456 (100.0%) in 11.86 sec. Users per second: 881\n"
     ]
    },
    {
     "name": "stderr",
     "output_type": "stream",
     "text": [
      "[I 2023-12-24 17:41:25,301] Trial 225 finished with value: 0.15033629772099216 and parameters: {'alpha': 1.8466691121525385, 'beta': 0.23928502795060475, 'topK': 184}. Best is trial 202 with value: 0.2752977069192318.\n"
     ]
    },
    {
     "name": "stdout",
     "output_type": "stream",
     "text": [
      "RP3betaRecommender: URM Detected 627 ( 4.8%) users with no interactions.\n",
      "RP3betaRecommender: URM Detected 247 ( 1.1%) items with no interactions.\n",
      "RP3betaRecommender: Similarity column 22347 (100.0%), 2819.08 column/sec. Elapsed time 7.93 sec\n",
      "EvaluatorHoldout: Processed 10456 (100.0%) in 6.59 sec. Users per second: 1586\n"
     ]
    },
    {
     "name": "stderr",
     "output_type": "stream",
     "text": [
      "[I 2023-12-24 17:41:41,903] Trial 226 finished with value: 0.25028988026299975 and parameters: {'alpha': 0.14603210341713627, 'beta': 2.3559711177668922e-05, 'topK': 137}. Best is trial 202 with value: 0.2752977069192318.\n"
     ]
    },
    {
     "name": "stdout",
     "output_type": "stream",
     "text": [
      "RP3betaRecommender: URM Detected 627 ( 4.8%) users with no interactions.\n",
      "RP3betaRecommender: URM Detected 247 ( 1.1%) items with no interactions.\n",
      "RP3betaRecommender: Similarity column 22347 (100.0%), 3181.69 column/sec. Elapsed time 7.02 sec\n",
      "EvaluatorHoldout: Processed 10456 (100.0%) in 6.63 sec. Users per second: 1577\n"
     ]
    },
    {
     "name": "stderr",
     "output_type": "stream",
     "text": [
      "[I 2023-12-24 17:41:57,550] Trial 227 finished with value: 0.2653027844743267 and parameters: {'alpha': 0.3905554642961515, 'beta': 0.12136353598297743, 'topK': 103}. Best is trial 202 with value: 0.2752977069192318.\n"
     ]
    },
    {
     "name": "stdout",
     "output_type": "stream",
     "text": [
      "RP3betaRecommender: URM Detected 627 ( 4.8%) users with no interactions.\n",
      "RP3betaRecommender: URM Detected 247 ( 1.1%) items with no interactions.\n",
      "RP3betaRecommender: Similarity column 22347 (100.0%), 2660.84 column/sec. Elapsed time 8.40 sec\n",
      "EvaluatorHoldout: Processed 10456 (100.0%) in 7.54 sec. Users per second: 1386\n"
     ]
    },
    {
     "name": "stderr",
     "output_type": "stream",
     "text": [
      "[I 2023-12-24 17:42:17,143] Trial 228 finished with value: 0.27123988191626125 and parameters: {'alpha': 0.27166801065082347, 'beta': 0.30123026317270957, 'topK': 162}. Best is trial 202 with value: 0.2752977069192318.\n"
     ]
    },
    {
     "name": "stdout",
     "output_type": "stream",
     "text": [
      "RP3betaRecommender: URM Detected 627 ( 4.8%) users with no interactions.\n",
      "RP3betaRecommender: URM Detected 247 ( 1.1%) items with no interactions.\n",
      "RP3betaRecommender: Similarity column 22347 (100.0%), 2468.94 column/sec. Elapsed time 9.05 sec\n",
      "EvaluatorHoldout: Processed 10456 (100.0%) in 7.32 sec. Users per second: 1429\n"
     ]
    },
    {
     "name": "stderr",
     "output_type": "stream",
     "text": [
      "[I 2023-12-24 17:42:36,834] Trial 229 finished with value: 0.08081393049865798 and parameters: {'alpha': 6.865923283419023, 'beta': 0.226803393141447, 'topK': 196}. Best is trial 202 with value: 0.2752977069192318.\n"
     ]
    },
    {
     "name": "stdout",
     "output_type": "stream",
     "text": [
      "RP3betaRecommender: URM Detected 627 ( 4.8%) users with no interactions.\n",
      "RP3betaRecommender: URM Detected 247 ( 1.1%) items with no interactions.\n",
      "RP3betaRecommender: Similarity column 22347 (100.0%), 941.56 column/sec. Elapsed time 23.73 sec\n",
      "EvaluatorHoldout: Processed 10456 (100.0%) in 12.44 sec. Users per second: 840\n"
     ]
    },
    {
     "name": "stderr",
     "output_type": "stream",
     "text": [
      "[I 2023-12-24 17:43:28,356] Trial 230 finished with value: 0.2295609426176603 and parameters: {'alpha': 0.08715397519511114, 'beta': 0.3704282722072519, 'topK': 1329}. Best is trial 202 with value: 0.2752977069192318.\n"
     ]
    },
    {
     "name": "stdout",
     "output_type": "stream",
     "text": [
      "RP3betaRecommender: URM Detected 627 ( 4.8%) users with no interactions.\n",
      "RP3betaRecommender: URM Detected 247 ( 1.1%) items with no interactions.\n",
      "RP3betaRecommender: Similarity column 22347 (100.0%), 2267.02 column/sec. Elapsed time 9.86 sec\n",
      "EvaluatorHoldout: Processed 10456 (100.0%) in 7.68 sec. Users per second: 1362\n"
     ]
    },
    {
     "name": "stderr",
     "output_type": "stream",
     "text": [
      "[I 2023-12-24 17:43:49,799] Trial 231 finished with value: 0.27388090264700704 and parameters: {'alpha': 0.21576001209300413, 'beta': 0.1714346687049416, 'topK': 213}. Best is trial 202 with value: 0.2752977069192318.\n"
     ]
    },
    {
     "name": "stdout",
     "output_type": "stream",
     "text": [
      "RP3betaRecommender: URM Detected 627 ( 4.8%) users with no interactions.\n",
      "RP3betaRecommender: URM Detected 247 ( 1.1%) items with no interactions.\n",
      "RP3betaRecommender: Similarity column 22347 (100.0%), 2231.00 column/sec. Elapsed time 10.02 sec\n",
      "EvaluatorHoldout: Processed 10456 (100.0%) in 8.06 sec. Users per second: 1297\n"
     ]
    },
    {
     "name": "stderr",
     "output_type": "stream",
     "text": [
      "[I 2023-12-24 17:44:12,243] Trial 232 finished with value: 0.27437213421352574 and parameters: {'alpha': 0.3424075776201633, 'beta': 0.20050994558139218, 'topK': 228}. Best is trial 202 with value: 0.2752977069192318.\n"
     ]
    },
    {
     "name": "stdout",
     "output_type": "stream",
     "text": [
      "RP3betaRecommender: URM Detected 627 ( 4.8%) users with no interactions.\n",
      "RP3betaRecommender: URM Detected 247 ( 1.1%) items with no interactions.\n",
      "RP3betaRecommender: Similarity column 22347 (100.0%), 2157.61 column/sec. Elapsed time 10.36 sec\n",
      "EvaluatorHoldout: Processed 10456 (100.0%) in 7.56 sec. Users per second: 1383\n"
     ]
    },
    {
     "name": "stderr",
     "output_type": "stream",
     "text": [
      "[I 2023-12-24 17:44:34,356] Trial 233 finished with value: 0.27389889356568803 and parameters: {'alpha': 0.23237159816339806, 'beta': 0.14529336102302493, 'topK': 236}. Best is trial 202 with value: 0.2752977069192318.\n"
     ]
    },
    {
     "name": "stdout",
     "output_type": "stream",
     "text": [
      "RP3betaRecommender: URM Detected 627 ( 4.8%) users with no interactions.\n",
      "RP3betaRecommender: URM Detected 247 ( 1.1%) items with no interactions.\n",
      "RP3betaRecommender: Similarity column 22347 (100.0%), 2173.88 column/sec. Elapsed time 10.28 sec\n",
      "EvaluatorHoldout: Processed 10456 (100.0%) in 7.54 sec. Users per second: 1386\n"
     ]
    },
    {
     "name": "stderr",
     "output_type": "stream",
     "text": [
      "[I 2023-12-24 17:44:56,481] Trial 234 finished with value: 0.2736991463690157 and parameters: {'alpha': 0.23334425348217785, 'beta': 0.13635977545185918, 'topK': 250}. Best is trial 202 with value: 0.2752977069192318.\n"
     ]
    },
    {
     "name": "stdout",
     "output_type": "stream",
     "text": [
      "RP3betaRecommender: URM Detected 627 ( 4.8%) users with no interactions.\n",
      "RP3betaRecommender: URM Detected 247 ( 1.1%) items with no interactions.\n",
      "RP3betaRecommender: Similarity column 22347 (100.0%), 2239.34 column/sec. Elapsed time 9.98 sec\n",
      "EvaluatorHoldout: Processed 10456 (100.0%) in 6.85 sec. Users per second: 1527\n"
     ]
    },
    {
     "name": "stderr",
     "output_type": "stream",
     "text": [
      "[I 2023-12-24 17:45:17,194] Trial 235 finished with value: 0.2715686031277601 and parameters: {'alpha': 0.29721644510189116, 'beta': 0.10307529135309713, 'topK': 237}. Best is trial 202 with value: 0.2752977069192318.\n"
     ]
    },
    {
     "name": "stdout",
     "output_type": "stream",
     "text": [
      "RP3betaRecommender: URM Detected 627 ( 4.8%) users with no interactions.\n",
      "RP3betaRecommender: URM Detected 247 ( 1.1%) items with no interactions.\n",
      "RP3betaRecommender: Similarity column 22347 (100.0%), 2362.73 column/sec. Elapsed time 9.46 sec\n",
      "EvaluatorHoldout: Processed 10456 (100.0%) in 7.45 sec. Users per second: 1404\n"
     ]
    },
    {
     "name": "stderr",
     "output_type": "stream",
     "text": [
      "[I 2023-12-24 17:45:38,109] Trial 236 finished with value: 0.2733776525736841 and parameters: {'alpha': 0.1873171746423186, 'beta': 0.16973744938479365, 'topK': 218}. Best is trial 202 with value: 0.2752977069192318.\n"
     ]
    },
    {
     "name": "stdout",
     "output_type": "stream",
     "text": [
      "RP3betaRecommender: URM Detected 627 ( 4.8%) users with no interactions.\n",
      "RP3betaRecommender: URM Detected 247 ( 1.1%) items with no interactions.\n",
      "RP3betaRecommender: Similarity column 22347 (100.0%), 2110.57 column/sec. Elapsed time 10.59 sec\n",
      "EvaluatorHoldout: Processed 10456 (100.0%) in 7.01 sec. Users per second: 1492\n"
     ]
    },
    {
     "name": "stderr",
     "output_type": "stream",
     "text": [
      "[I 2023-12-24 17:45:59,659] Trial 237 finished with value: 0.26670654926418236 and parameters: {'alpha': 0.4791619802483467, 'beta': 0.023819363700246947, 'topK': 268}. Best is trial 202 with value: 0.2752977069192318.\n"
     ]
    },
    {
     "name": "stdout",
     "output_type": "stream",
     "text": [
      "RP3betaRecommender: URM Detected 627 ( 4.8%) users with no interactions.\n",
      "RP3betaRecommender: URM Detected 247 ( 1.1%) items with no interactions.\n",
      "RP3betaRecommender: Similarity column 22347 (100.0%), 2380.83 column/sec. Elapsed time 9.39 sec\n",
      "EvaluatorHoldout: Processed 10456 (100.0%) in 7.50 sec. Users per second: 1394\n"
     ]
    },
    {
     "name": "stderr",
     "output_type": "stream",
     "text": [
      "[I 2023-12-24 17:46:20,415] Trial 238 finished with value: 0.27452972747216864 and parameters: {'alpha': 0.33954899791256604, 'beta': 0.2181970722128068, 'topK': 203}. Best is trial 202 with value: 0.2752977069192318.\n"
     ]
    },
    {
     "name": "stdout",
     "output_type": "stream",
     "text": [
      "RP3betaRecommender: URM Detected 627 ( 4.8%) users with no interactions.\n",
      "RP3betaRecommender: URM Detected 247 ( 1.1%) items with no interactions.\n",
      "RP3betaRecommender: Similarity column 22347 (100.0%), 2402.81 column/sec. Elapsed time 9.30 sec\n",
      "EvaluatorHoldout: Processed 10456 (100.0%) in 8.12 sec. Users per second: 1287\n"
     ]
    },
    {
     "name": "stderr",
     "output_type": "stream",
     "text": [
      "[I 2023-12-24 17:46:42,002] Trial 239 finished with value: 0.27295422707013567 and parameters: {'alpha': 0.35627163752561597, 'beta': 0.2565113975001816, 'topK': 208}. Best is trial 202 with value: 0.2752977069192318.\n"
     ]
    },
    {
     "name": "stdout",
     "output_type": "stream",
     "text": [
      "RP3betaRecommender: URM Detected 627 ( 4.8%) users with no interactions.\n",
      "RP3betaRecommender: URM Detected 247 ( 1.1%) items with no interactions.\n",
      "RP3betaRecommender: Similarity column 22347 (100.0%), 2085.96 column/sec. Elapsed time 10.71 sec\n",
      "EvaluatorHoldout: Processed 10456 (100.0%) in 7.41 sec. Users per second: 1411\n"
     ]
    },
    {
     "name": "stderr",
     "output_type": "stream",
     "text": [
      "[I 2023-12-24 17:47:04,575] Trial 240 finished with value: 0.2697490372934664 and parameters: {'alpha': 0.5914864103238688, 'beta': 0.12765091624722133, 'topK': 272}. Best is trial 202 with value: 0.2752977069192318.\n"
     ]
    },
    {
     "name": "stdout",
     "output_type": "stream",
     "text": [
      "RP3betaRecommender: URM Detected 627 ( 4.8%) users with no interactions.\n",
      "RP3betaRecommender: URM Detected 247 ( 1.1%) items with no interactions.\n",
      "RP3betaRecommender: Similarity column 22347 (100.0%), 2274.32 column/sec. Elapsed time 9.83 sec\n",
      "EvaluatorHoldout: Processed 10456 (100.0%) in 7.53 sec. Users per second: 1388\n"
     ]
    },
    {
     "name": "stderr",
     "output_type": "stream",
     "text": [
      "[I 2023-12-24 17:47:26,265] Trial 241 finished with value: 0.2737247380311442 and parameters: {'alpha': 0.27045532231874186, 'beta': 0.20000376030738776, 'topK': 230}. Best is trial 202 with value: 0.2752977069192318.\n"
     ]
    },
    {
     "name": "stdout",
     "output_type": "stream",
     "text": [
      "RP3betaRecommender: URM Detected 627 ( 4.8%) users with no interactions.\n",
      "RP3betaRecommender: URM Detected 247 ( 1.1%) items with no interactions.\n",
      "RP3betaRecommender: Similarity column 22347 (100.0%), 2238.03 column/sec. Elapsed time 9.99 sec\n",
      "EvaluatorHoldout: Processed 10456 (100.0%) in 7.55 sec. Users per second: 1386\n"
     ]
    },
    {
     "name": "stderr",
     "output_type": "stream",
     "text": [
      "[I 2023-12-24 17:47:48,276] Trial 242 finished with value: 0.27281774247860185 and parameters: {'alpha': 0.26182212495536217, 'beta': 0.22022019087926345, 'topK': 232}. Best is trial 202 with value: 0.2752977069192318.\n"
     ]
    },
    {
     "name": "stdout",
     "output_type": "stream",
     "text": [
      "RP3betaRecommender: URM Detected 627 ( 4.8%) users with no interactions.\n",
      "RP3betaRecommender: URM Detected 247 ( 1.1%) items with no interactions.\n",
      "RP3betaRecommender: Similarity column 22347 (100.0%), 1979.14 column/sec. Elapsed time 11.29 sec\n",
      "EvaluatorHoldout: Processed 10456 (100.0%) in 8.04 sec. Users per second: 1301\n"
     ]
    },
    {
     "name": "stderr",
     "output_type": "stream",
     "text": [
      "[I 2023-12-24 17:48:12,641] Trial 243 finished with value: 0.2733090037709351 and parameters: {'alpha': 0.3326385510487125, 'beta': 0.16049201161969184, 'topK': 299}. Best is trial 202 with value: 0.2752977069192318.\n"
     ]
    },
    {
     "name": "stdout",
     "output_type": "stream",
     "text": [
      "RP3betaRecommender: URM Detected 627 ( 4.8%) users with no interactions.\n",
      "RP3betaRecommender: URM Detected 247 ( 1.1%) items with no interactions.\n",
      "RP3betaRecommender: Similarity column 22347 (100.0%), 2346.71 column/sec. Elapsed time 9.52 sec\n",
      "EvaluatorHoldout: Processed 10456 (100.0%) in 7.81 sec. Users per second: 1339\n"
     ]
    },
    {
     "name": "stderr",
     "output_type": "stream",
     "text": [
      "[I 2023-12-24 17:48:34,355] Trial 244 finished with value: 0.27000260397790615 and parameters: {'alpha': 0.23330357042850688, 'beta': 0.28555696567471645, 'topK': 202}. Best is trial 202 with value: 0.2752977069192318.\n"
     ]
    },
    {
     "name": "stdout",
     "output_type": "stream",
     "text": [
      "RP3betaRecommender: URM Detected 627 ( 4.8%) users with no interactions.\n",
      "RP3betaRecommender: URM Detected 247 ( 1.1%) items with no interactions.\n",
      "RP3betaRecommender: Similarity column 22347 (100.0%), 2190.59 column/sec. Elapsed time 10.20 sec\n",
      "EvaluatorHoldout: Processed 10456 (100.0%) in 7.85 sec. Users per second: 1331\n"
     ]
    },
    {
     "name": "stderr",
     "output_type": "stream",
     "text": [
      "[I 2023-12-24 17:48:56,903] Trial 245 finished with value: 0.273973115469953 and parameters: {'alpha': 0.3914188527699413, 'beta': 0.19530247467352788, 'topK': 249}. Best is trial 202 with value: 0.2752977069192318.\n"
     ]
    },
    {
     "name": "stdout",
     "output_type": "stream",
     "text": [
      "RP3betaRecommender: URM Detected 627 ( 4.8%) users with no interactions.\n",
      "RP3betaRecommender: URM Detected 247 ( 1.1%) items with no interactions.\n",
      "RP3betaRecommender: Similarity column 22347 (100.0%), 2140.62 column/sec. Elapsed time 10.44 sec\n",
      "EvaluatorHoldout: Processed 10456 (100.0%) in 7.53 sec. Users per second: 1389\n"
     ]
    },
    {
     "name": "stderr",
     "output_type": "stream",
     "text": [
      "[I 2023-12-24 17:49:19,173] Trial 246 finished with value: 0.27429095316364815 and parameters: {'alpha': 0.37089716395881966, 'beta': 0.1538369500983921, 'topK': 245}. Best is trial 202 with value: 0.2752977069192318.\n"
     ]
    },
    {
     "name": "stdout",
     "output_type": "stream",
     "text": [
      "RP3betaRecommender: URM Detected 627 ( 4.8%) users with no interactions.\n",
      "RP3betaRecommender: URM Detected 247 ( 1.1%) items with no interactions.\n",
      "RP3betaRecommender: Similarity column 22347 (100.0%), 2489.91 column/sec. Elapsed time 8.98 sec\n",
      "EvaluatorHoldout: Processed 10456 (100.0%) in 7.39 sec. Users per second: 1416\n"
     ]
    },
    {
     "name": "stderr",
     "output_type": "stream",
     "text": [
      "[I 2023-12-24 17:49:38,535] Trial 247 finished with value: 0.12407582220792608 and parameters: {'alpha': 2.7548469707166507, 'beta': 0.001846634489476417, 'topK': 191}. Best is trial 202 with value: 0.2752977069192318.\n"
     ]
    },
    {
     "name": "stdout",
     "output_type": "stream",
     "text": [
      "RP3betaRecommender: URM Detected 627 ( 4.8%) users with no interactions.\n",
      "RP3betaRecommender: URM Detected 247 ( 1.1%) items with no interactions.\n",
      "RP3betaRecommender: Similarity column 22347 (100.0%), 2139.00 column/sec. Elapsed time 10.45 sec\n",
      "EvaluatorHoldout: Processed 10456 (100.0%) in 6.96 sec. Users per second: 1502\n"
     ]
    },
    {
     "name": "stderr",
     "output_type": "stream",
     "text": [
      "[I 2023-12-24 17:49:59,612] Trial 248 finished with value: 0.26514517287497885 and parameters: {'alpha': 0.49110498469868774, 'beta': 0.005090917928367001, 'topK': 259}. Best is trial 202 with value: 0.2752977069192318.\n"
     ]
    },
    {
     "name": "stdout",
     "output_type": "stream",
     "text": [
      "RP3betaRecommender: URM Detected 627 ( 4.8%) users with no interactions.\n",
      "RP3betaRecommender: URM Detected 247 ( 1.1%) items with no interactions.\n",
      "RP3betaRecommender: Similarity column 22347 (100.0%), 2313.42 column/sec. Elapsed time 9.66 sec\n",
      "EvaluatorHoldout: Processed 10456 (100.0%) in 6.48 sec. Users per second: 1613\n"
     ]
    },
    {
     "name": "stderr",
     "output_type": "stream",
     "text": [
      "[I 2023-12-24 17:50:18,859] Trial 249 finished with value: 0.26282335867386625 and parameters: {'alpha': 0.4115823960379203, 'beta': 0.0007364471848445967, 'topK': 217}. Best is trial 202 with value: 0.2752977069192318.\n"
     ]
    },
    {
     "name": "stdout",
     "output_type": "stream",
     "text": [
      "RP3betaRecommender: URM Detected 627 ( 4.8%) users with no interactions.\n",
      "RP3betaRecommender: URM Detected 247 ( 1.1%) items with no interactions.\n",
      "RP3betaRecommender: Similarity column 22347 (100.0%), 1997.37 column/sec. Elapsed time 11.19 sec\n",
      "EvaluatorHoldout: Processed 10456 (100.0%) in 7.23 sec. Users per second: 1447\n"
     ]
    },
    {
     "name": "stderr",
     "output_type": "stream",
     "text": [
      "[I 2023-12-24 17:50:41,673] Trial 250 finished with value: 0.26662006508602404 and parameters: {'alpha': 0.6169805435193527, 'beta': 0.08862498575587896, 'topK': 294}. Best is trial 202 with value: 0.2752977069192318.\n"
     ]
    },
    {
     "name": "stdout",
     "output_type": "stream",
     "text": [
      "RP3betaRecommender: URM Detected 627 ( 4.8%) users with no interactions.\n",
      "RP3betaRecommender: URM Detected 247 ( 1.1%) items with no interactions.\n",
      "RP3betaRecommender: Similarity column 22347 (100.0%), 2497.22 column/sec. Elapsed time 8.95 sec\n",
      "EvaluatorHoldout: Processed 10456 (100.0%) in 7.21 sec. Users per second: 1450\n"
     ]
    },
    {
     "name": "stderr",
     "output_type": "stream",
     "text": [
      "[I 2023-12-24 17:51:01,238] Trial 251 finished with value: 0.2528115441112556 and parameters: {'alpha': 2.368937847536807e-05, 'beta': 0.006941749567758455, 'topK': 184}. Best is trial 202 with value: 0.2752977069192318.\n"
     ]
    },
    {
     "name": "stdout",
     "output_type": "stream",
     "text": [
      "RP3betaRecommender: URM Detected 627 ( 4.8%) users with no interactions.\n",
      "RP3betaRecommender: URM Detected 247 ( 1.1%) items with no interactions.\n",
      "RP3betaRecommender: Similarity column 22347 (100.0%), 2137.13 column/sec. Elapsed time 10.46 sec\n",
      "EvaluatorHoldout: Processed 10456 (100.0%) in 6.81 sec. Users per second: 1536\n"
     ]
    },
    {
     "name": "stderr",
     "output_type": "stream",
     "text": [
      "[I 2023-12-24 17:51:22,008] Trial 252 finished with value: 0.2662273119800891 and parameters: {'alpha': 0.37676643841991964, 'beta': 0.009612815167753827, 'topK': 247}. Best is trial 202 with value: 0.2752977069192318.\n"
     ]
    },
    {
     "name": "stdout",
     "output_type": "stream",
     "text": [
      "RP3betaRecommender: URM Detected 627 ( 4.8%) users with no interactions.\n",
      "RP3betaRecommender: URM Detected 247 ( 1.1%) items with no interactions.\n",
      "RP3betaRecommender: Similarity column 22347 (100.0%), 1858.40 column/sec. Elapsed time 12.02 sec\n",
      "EvaluatorHoldout: Processed 10456 (100.0%) in 7.78 sec. Users per second: 1345\n"
     ]
    },
    {
     "name": "stderr",
     "output_type": "stream",
     "text": [
      "[I 2023-12-24 17:51:47,098] Trial 253 finished with value: 0.27187855813737344 and parameters: {'alpha': 0.4791400333154395, 'beta': 0.1423004240103486, 'topK': 327}. Best is trial 202 with value: 0.2752977069192318.\n"
     ]
    },
    {
     "name": "stdout",
     "output_type": "stream",
     "text": [
      "RP3betaRecommender: URM Detected 627 ( 4.8%) users with no interactions.\n",
      "RP3betaRecommender: URM Detected 247 ( 1.1%) items with no interactions.\n",
      "RP3betaRecommender: Similarity column 22347 (100.0%), 4634.24 column/sec. Elapsed time 4.82 sec\n",
      "EvaluatorHoldout: Processed 10456 (100.0%) in 6.30 sec. Users per second: 1661\n"
     ]
    },
    {
     "name": "stderr",
     "output_type": "stream",
     "text": [
      "[I 2023-12-24 17:51:58,855] Trial 254 finished with value: 0.20463431392293788 and parameters: {'alpha': 0.3183509863563936, 'beta': 0.3032186680963781, 'topK': 8}. Best is trial 202 with value: 0.2752977069192318.\n"
     ]
    },
    {
     "name": "stdout",
     "output_type": "stream",
     "text": [
      "RP3betaRecommender: URM Detected 627 ( 4.8%) users with no interactions.\n",
      "RP3betaRecommender: URM Detected 247 ( 1.1%) items with no interactions.\n",
      "RP3betaRecommender: Similarity column 22347 (100.0%), 2385.14 column/sec. Elapsed time 9.37 sec\n",
      "EvaluatorHoldout: Processed 10456 (100.0%) in 6.62 sec. Users per second: 1578\n"
     ]
    },
    {
     "name": "stderr",
     "output_type": "stream",
     "text": [
      "[I 2023-12-24 17:52:17,947] Trial 255 finished with value: 0.26250767021057575 and parameters: {'alpha': 0.4023344012500581, 'beta': 0.00016610653441694897, 'topK': 207}. Best is trial 202 with value: 0.2752977069192318.\n"
     ]
    },
    {
     "name": "stdout",
     "output_type": "stream",
     "text": [
      "RP3betaRecommender: URM Detected 627 ( 4.8%) users with no interactions.\n",
      "RP3betaRecommender: URM Detected 247 ( 1.1%) items with no interactions.\n",
      "RP3betaRecommender: Similarity column 22347 (100.0%), 2496.55 column/sec. Elapsed time 8.95 sec\n",
      "EvaluatorHoldout: Processed 10456 (100.0%) in 6.57 sec. Users per second: 1592\n"
     ]
    },
    {
     "name": "stderr",
     "output_type": "stream",
     "text": [
      "[I 2023-12-24 17:52:36,288] Trial 256 finished with value: 0.2511690887948512 and parameters: {'alpha': 0.6603843378122272, 'beta': 1.4026049610948658e-05, 'topK': 179}. Best is trial 202 with value: 0.2752977069192318.\n"
     ]
    },
    {
     "name": "stdout",
     "output_type": "stream",
     "text": [
      "RP3betaRecommender: URM Detected 627 ( 4.8%) users with no interactions.\n",
      "RP3betaRecommender: URM Detected 247 ( 1.1%) items with no interactions.\n",
      "RP3betaRecommender: Similarity column 22347 (100.0%), 2343.56 column/sec. Elapsed time 9.54 sec\n",
      "EvaluatorHoldout: Processed 10456 (100.0%) in 7.88 sec. Users per second: 1327\n"
     ]
    },
    {
     "name": "stderr",
     "output_type": "stream",
     "text": [
      "[I 2023-12-24 17:52:58,179] Trial 257 finished with value: 0.27223630954493905 and parameters: {'alpha': 0.21868147178454325, 'beta': 0.22325381427604804, 'topK': 216}. Best is trial 202 with value: 0.2752977069192318.\n"
     ]
    },
    {
     "name": "stdout",
     "output_type": "stream",
     "text": [
      "RP3betaRecommender: URM Detected 627 ( 4.8%) users with no interactions.\n",
      "RP3betaRecommender: URM Detected 247 ( 1.1%) items with no interactions.\n",
      "RP3betaRecommender: Similarity column 22347 (100.0%), 2077.02 column/sec. Elapsed time 10.76 sec\n",
      "EvaluatorHoldout: Processed 10456 (100.0%) in 8.55 sec. Users per second: 1222\n"
     ]
    },
    {
     "name": "stderr",
     "output_type": "stream",
     "text": [
      "[I 2023-12-24 17:53:22,960] Trial 258 finished with value: 0.26048674474086797 and parameters: {'alpha': 0.3247892163452887, 'beta': 0.3762225176132515, 'topK': 272}. Best is trial 202 with value: 0.2752977069192318.\n"
     ]
    },
    {
     "name": "stdout",
     "output_type": "stream",
     "text": [
      "RP3betaRecommender: URM Detected 627 ( 4.8%) users with no interactions.\n",
      "RP3betaRecommender: URM Detected 247 ( 1.1%) items with no interactions.\n",
      "RP3betaRecommender: Similarity column 22347 (100.0%), 2256.67 column/sec. Elapsed time 9.90 sec\n",
      "EvaluatorHoldout: Processed 10456 (100.0%) in 7.37 sec. Users per second: 1419\n"
     ]
    },
    {
     "name": "stderr",
     "output_type": "stream",
     "text": [
      "[I 2023-12-24 17:53:44,464] Trial 259 finished with value: 0.2728594563122362 and parameters: {'alpha': 0.14604616670961384, 'beta': 0.1670164360543725, 'topK': 233}. Best is trial 202 with value: 0.2752977069192318.\n"
     ]
    },
    {
     "name": "stdout",
     "output_type": "stream",
     "text": [
      "RP3betaRecommender: URM Detected 627 ( 4.8%) users with no interactions.\n",
      "RP3betaRecommender: URM Detected 247 ( 1.1%) items with no interactions.\n",
      "RP3betaRecommender: Similarity column 22347 (100.0%), 2494.12 column/sec. Elapsed time 8.96 sec\n",
      "EvaluatorHoldout: Processed 10456 (100.0%) in 6.77 sec. Users per second: 1546\n"
     ]
    },
    {
     "name": "stderr",
     "output_type": "stream",
     "text": [
      "[I 2023-12-24 17:54:03,500] Trial 260 finished with value: 0.27133723667859283 and parameters: {'alpha': 0.2735103310301952, 'beta': 0.12162131688104123, 'topK': 188}. Best is trial 202 with value: 0.2752977069192318.\n"
     ]
    },
    {
     "name": "stdout",
     "output_type": "stream",
     "text": [
      "RP3betaRecommender: URM Detected 627 ( 4.8%) users with no interactions.\n",
      "RP3betaRecommender: URM Detected 247 ( 1.1%) items with no interactions.\n",
      "RP3betaRecommender: Similarity column 22347 (100.0%), 2425.75 column/sec. Elapsed time 9.21 sec\n",
      "EvaluatorHoldout: Processed 10456 (100.0%) in 7.69 sec. Users per second: 1359\n"
     ]
    },
    {
     "name": "stderr",
     "output_type": "stream",
     "text": [
      "[I 2023-12-24 17:54:24,106] Trial 261 finished with value: 0.24497407968638726 and parameters: {'alpha': 0.9884945191256381, 'beta': 0.24152805918424447, 'topK': 205}. Best is trial 202 with value: 0.2752977069192318.\n"
     ]
    },
    {
     "name": "stdout",
     "output_type": "stream",
     "text": [
      "RP3betaRecommender: URM Detected 627 ( 4.8%) users with no interactions.\n",
      "RP3betaRecommender: URM Detected 247 ( 1.1%) items with no interactions.\n",
      "RP3betaRecommender: Similarity column 22347 (100.0%), 2602.60 column/sec. Elapsed time 8.59 sec\n",
      "EvaluatorHoldout: Processed 10456 (100.0%) in 7.22 sec. Users per second: 1448\n"
     ]
    },
    {
     "name": "stderr",
     "output_type": "stream",
     "text": [
      "[I 2023-12-24 17:54:43,110] Trial 262 finished with value: 0.27199408693603355 and parameters: {'alpha': 0.5078703258443157, 'beta': 0.18695711601041026, 'topK': 172}. Best is trial 202 with value: 0.2752977069192318.\n"
     ]
    },
    {
     "name": "stdout",
     "output_type": "stream",
     "text": [
      "RP3betaRecommender: URM Detected 627 ( 4.8%) users with no interactions.\n",
      "RP3betaRecommender: URM Detected 247 ( 1.1%) items with no interactions.\n",
      "RP3betaRecommender: Similarity column 22347 (100.0%), 3709.98 column/sec. Elapsed time 6.02 sec\n",
      "EvaluatorHoldout: Processed 10456 (100.0%) in 6.86 sec. Users per second: 1523\n"
     ]
    },
    {
     "name": "stderr",
     "output_type": "stream",
     "text": [
      "[I 2023-12-24 17:54:57,610] Trial 263 finished with value: 0.2421836521357375 and parameters: {'alpha': 0.19242379496582357, 'beta': 0.515906885779191, 'topK': 63}. Best is trial 202 with value: 0.2752977069192318.\n"
     ]
    },
    {
     "name": "stdout",
     "output_type": "stream",
     "text": [
      "RP3betaRecommender: URM Detected 627 ( 4.8%) users with no interactions.\n",
      "RP3betaRecommender: URM Detected 247 ( 1.1%) items with no interactions.\n",
      "RP3betaRecommender: Similarity column 22347 (100.0%), 1757.82 column/sec. Elapsed time 12.71 sec\n",
      "EvaluatorHoldout: Processed 10456 (100.0%) in 8.60 sec. Users per second: 1215\n"
     ]
    },
    {
     "name": "stderr",
     "output_type": "stream",
     "text": [
      "[I 2023-12-24 17:55:25,348] Trial 264 finished with value: 0.26429252104288087 and parameters: {'alpha': 0.3659973553014709, 'beta': 0.2792482462877683, 'topK': 363}. Best is trial 202 with value: 0.2752977069192318.\n"
     ]
    },
    {
     "name": "stdout",
     "output_type": "stream",
     "text": [
      "RP3betaRecommender: URM Detected 627 ( 4.8%) users with no interactions.\n",
      "RP3betaRecommender: URM Detected 247 ( 1.1%) items with no interactions.\n",
      "RP3betaRecommender: Similarity column 22347 (100.0%), 2221.22 column/sec. Elapsed time 10.06 sec\n",
      "EvaluatorHoldout: Processed 10456 (100.0%) in 6.71 sec. Users per second: 1559\n"
     ]
    },
    {
     "name": "stderr",
     "output_type": "stream",
     "text": [
      "[I 2023-12-24 17:55:45,946] Trial 265 finished with value: 0.26889249125385317 and parameters: {'alpha': 0.2349306961693378, 'beta': 0.06258202651124325, 'topK': 248}. Best is trial 202 with value: 0.2752977069192318.\n"
     ]
    },
    {
     "name": "stdout",
     "output_type": "stream",
     "text": [
      "RP3betaRecommender: URM Detected 627 ( 4.8%) users with no interactions.\n",
      "RP3betaRecommender: URM Detected 247 ( 1.1%) items with no interactions.\n",
      "RP3betaRecommender: Similarity column 22347 (100.0%), 2797.86 column/sec. Elapsed time 7.99 sec\n",
      "EvaluatorHoldout: Processed 10456 (100.0%) in 6.77 sec. Users per second: 1544\n"
     ]
    },
    {
     "name": "stderr",
     "output_type": "stream",
     "text": [
      "[I 2023-12-24 17:56:03,468] Trial 266 finished with value: 0.26652878508409267 and parameters: {'alpha': 0.1316326140078345, 'beta': 0.09900030771717976, 'topK': 144}. Best is trial 202 with value: 0.2752977069192318.\n"
     ]
    },
    {
     "name": "stdout",
     "output_type": "stream",
     "text": [
      "RP3betaRecommender: URM Detected 627 ( 4.8%) users with no interactions.\n",
      "RP3betaRecommender: URM Detected 247 ( 1.1%) items with no interactions.\n",
      "RP3betaRecommender: Similarity column 22347 (100.0%), 2024.36 column/sec. Elapsed time 11.04 sec\n",
      "EvaluatorHoldout: Processed 10456 (100.0%) in 7.54 sec. Users per second: 1386\n"
     ]
    },
    {
     "name": "stderr",
     "output_type": "stream",
     "text": [
      "[I 2023-12-24 17:56:26,891] Trial 267 finished with value: 0.2690070669422126 and parameters: {'alpha': 0.025474701523410234, 'beta': 0.1402190300224811, 'topK': 285}. Best is trial 202 with value: 0.2752977069192318.\n"
     ]
    },
    {
     "name": "stdout",
     "output_type": "stream",
     "text": [
      "RP3betaRecommender: URM Detected 627 ( 4.8%) users with no interactions.\n",
      "RP3betaRecommender: URM Detected 247 ( 1.1%) items with no interactions.\n",
      "RP3betaRecommender: Similarity column 22347 (100.0%), 2553.21 column/sec. Elapsed time 8.75 sec\n",
      "EvaluatorHoldout: Processed 10456 (100.0%) in 7.73 sec. Users per second: 1353\n"
     ]
    },
    {
     "name": "stderr",
     "output_type": "stream",
     "text": [
      "[I 2023-12-24 17:56:47,076] Trial 268 finished with value: 0.26070331863290824 and parameters: {'alpha': 0.6973786795352156, 'beta': 0.34290415854926176, 'topK': 174}. Best is trial 202 with value: 0.2752977069192318.\n"
     ]
    },
    {
     "name": "stdout",
     "output_type": "stream",
     "text": [
      "RP3betaRecommender: URM Detected 627 ( 4.8%) users with no interactions.\n",
      "RP3betaRecommender: URM Detected 247 ( 1.1%) items with no interactions.\n",
      "RP3betaRecommender: Similarity column 22347 (100.0%), 4236.52 column/sec. Elapsed time 5.27 sec\n",
      "EvaluatorHoldout: Processed 10456 (100.0%) in 6.49 sec. Users per second: 1610\n"
     ]
    },
    {
     "name": "stderr",
     "output_type": "stream",
     "text": [
      "[I 2023-12-24 17:56:59,857] Trial 269 finished with value: 0.24942897229575292 and parameters: {'alpha': 0.33391871160733544, 'beta': 0.20943612264545838, 'topK': 31}. Best is trial 202 with value: 0.2752977069192318.\n"
     ]
    },
    {
     "name": "stdout",
     "output_type": "stream",
     "text": [
      "RP3betaRecommender: URM Detected 627 ( 4.8%) users with no interactions.\n",
      "RP3betaRecommender: URM Detected 247 ( 1.1%) items with no interactions.\n",
      "RP3betaRecommender: Similarity column 22347 (100.0%), 2854.05 column/sec. Elapsed time 7.83 sec\n",
      "EvaluatorHoldout: Processed 10456 (100.0%) in 7.02 sec. Users per second: 1490\n"
     ]
    },
    {
     "name": "stderr",
     "output_type": "stream",
     "text": [
      "[I 2023-12-24 17:57:17,211] Trial 270 finished with value: 0.2681906523893896 and parameters: {'alpha': 0.061397477246881216, 'beta': 0.1711998935655649, 'topK': 122}. Best is trial 202 with value: 0.2752977069192318.\n"
     ]
    },
    {
     "name": "stdout",
     "output_type": "stream",
     "text": [
      "RP3betaRecommender: URM Detected 627 ( 4.8%) users with no interactions.\n",
      "RP3betaRecommender: URM Detected 247 ( 1.1%) items with no interactions.\n",
      "RP3betaRecommender: Similarity column 22347 (100.0%), 2352.95 column/sec. Elapsed time 9.50 sec\n",
      "EvaluatorHoldout: Processed 10456 (100.0%) in 7.64 sec. Users per second: 1369\n"
     ]
    },
    {
     "name": "stderr",
     "output_type": "stream",
     "text": [
      "[I 2023-12-24 17:57:38,289] Trial 271 finished with value: 0.2725706330747689 and parameters: {'alpha': 0.47945094947452316, 'beta': 0.23630539771889078, 'topK': 200}. Best is trial 202 with value: 0.2752977069192318.\n"
     ]
    },
    {
     "name": "stdout",
     "output_type": "stream",
     "text": [
      "RP3betaRecommender: URM Detected 627 ( 4.8%) users with no interactions.\n",
      "RP3betaRecommender: URM Detected 247 ( 1.1%) items with no interactions.\n",
      "RP3betaRecommender: Similarity column 22347 (100.0%), 2297.67 column/sec. Elapsed time 9.73 sec\n",
      "EvaluatorHoldout: Processed 10456 (100.0%) in 7.80 sec. Users per second: 1341\n"
     ]
    },
    {
     "name": "stderr",
     "output_type": "stream",
     "text": [
      "[I 2023-12-24 17:58:00,301] Trial 272 finished with value: 0.002580010422418547 and parameters: {'alpha': 0.15852550880961724, 'beta': 4.024745434886476, 'topK': 227}. Best is trial 202 with value: 0.2752977069192318.\n"
     ]
    },
    {
     "name": "stdout",
     "output_type": "stream",
     "text": [
      "RP3betaRecommender: URM Detected 627 ( 4.8%) users with no interactions.\n",
      "RP3betaRecommender: URM Detected 247 ( 1.1%) items with no interactions.\n",
      "RP3betaRecommender: Similarity column 22347 (100.0%), 2566.75 column/sec. Elapsed time 8.71 sec\n",
      "EvaluatorHoldout: Processed 10456 (100.0%) in 7.81 sec. Users per second: 1339\n"
     ]
    },
    {
     "name": "stderr",
     "output_type": "stream",
     "text": [
      "[I 2023-12-24 17:58:20,687] Trial 273 finished with value: 0.2598636924474841 and parameters: {'alpha': 0.2749332107841571, 'beta': 0.41543373660301897, 'topK': 164}. Best is trial 202 with value: 0.2752977069192318.\n"
     ]
    },
    {
     "name": "stdout",
     "output_type": "stream",
     "text": [
      "RP3betaRecommender: URM Detected 627 ( 4.8%) users with no interactions.\n",
      "RP3betaRecommender: URM Detected 247 ( 1.1%) items with no interactions.\n",
      "RP3betaRecommender: Similarity column 22347 (100.0%), 3089.83 column/sec. Elapsed time 7.23 sec\n",
      "EvaluatorHoldout: Processed 10456 (100.0%) in 6.58 sec. Users per second: 1588\n"
     ]
    },
    {
     "name": "stderr",
     "output_type": "stream",
     "text": [
      "[I 2023-12-24 17:58:36,690] Trial 274 finished with value: 0.262271545118731 and parameters: {'alpha': 0.005698260683340479, 'beta': 0.12101949729572863, 'topK': 109}. Best is trial 202 with value: 0.2752977069192318.\n"
     ]
    },
    {
     "name": "stdout",
     "output_type": "stream",
     "text": [
      "RP3betaRecommender: URM Detected 627 ( 4.8%) users with no interactions.\n",
      "RP3betaRecommender: URM Detected 247 ( 1.1%) items with no interactions.\n",
      "RP3betaRecommender: Similarity column 22347 (100.0%), 2258.85 column/sec. Elapsed time 9.89 sec\n",
      "EvaluatorHoldout: Processed 10456 (100.0%) in 8.20 sec. Users per second: 1275\n"
     ]
    },
    {
     "name": "stderr",
     "output_type": "stream",
     "text": [
      "[I 2023-12-24 17:58:59,570] Trial 275 finished with value: 0.266746393663297 and parameters: {'alpha': 0.19096989391551533, 'beta': 0.3028274320733188, 'topK': 237}. Best is trial 202 with value: 0.2752977069192318.\n"
     ]
    },
    {
     "name": "stdout",
     "output_type": "stream",
     "text": [
      "RP3betaRecommender: URM Detected 627 ( 4.8%) users with no interactions.\n",
      "RP3betaRecommender: URM Detected 247 ( 1.1%) items with no interactions.\n",
      "RP3betaRecommender: Similarity column 22347 (100.0%), 3334.01 column/sec. Elapsed time 6.70 sec\n",
      "EvaluatorHoldout: Processed 10456 (100.0%) in 6.74 sec. Users per second: 1551\n"
     ]
    },
    {
     "name": "stderr",
     "output_type": "stream",
     "text": [
      "[I 2023-12-24 17:59:14,885] Trial 276 finished with value: 0.2661422331609903 and parameters: {'alpha': 0.4189878272102652, 'beta': 0.1576331863683505, 'topK': 86}. Best is trial 202 with value: 0.2752977069192318.\n"
     ]
    },
    {
     "name": "stdout",
     "output_type": "stream",
     "text": [
      "RP3betaRecommender: URM Detected 627 ( 4.8%) users with no interactions.\n",
      "RP3betaRecommender: URM Detected 247 ( 1.1%) items with no interactions.\n",
      "RP3betaRecommender: Similarity column 22347 (100.0%), 2383.73 column/sec. Elapsed time 9.37 sec\n",
      "EvaluatorHoldout: Processed 10456 (100.0%) in 7.26 sec. Users per second: 1439\n"
     ]
    },
    {
     "name": "stderr",
     "output_type": "stream",
     "text": [
      "[I 2023-12-24 17:59:35,043] Trial 277 finished with value: 0.267756017030104 and parameters: {'alpha': 0.10540392890233627, 'beta': 0.0812616457582685, 'topK': 199}. Best is trial 202 with value: 0.2752977069192318.\n"
     ]
    },
    {
     "name": "stdout",
     "output_type": "stream",
     "text": [
      "RP3betaRecommender: URM Detected 627 ( 4.8%) users with no interactions.\n",
      "RP3betaRecommender: URM Detected 247 ( 1.1%) items with no interactions.\n",
      "RP3betaRecommender: Similarity column 22347 (100.0%), 2852.48 column/sec. Elapsed time 7.83 sec\n",
      "EvaluatorHoldout: Processed 10456 (100.0%) in 7.01 sec. Users per second: 1492\n"
     ]
    },
    {
     "name": "stderr",
     "output_type": "stream",
     "text": [
      "[I 2023-12-24 17:59:52,708] Trial 278 finished with value: 0.27327302686411575 and parameters: {'alpha': 0.24361610467313827, 'beta': 0.21307271886124046, 'topK': 134}. Best is trial 202 with value: 0.2752977069192318.\n"
     ]
    },
    {
     "name": "stdout",
     "output_type": "stream",
     "text": [
      "RP3betaRecommender: URM Detected 627 ( 4.8%) users with no interactions.\n",
      "RP3betaRecommender: URM Detected 247 ( 1.1%) items with no interactions.\n",
      "RP3betaRecommender: Similarity column 22347 (100.0%), 2095.66 column/sec. Elapsed time 10.66 sec\n",
      "EvaluatorHoldout: Processed 10456 (100.0%) in 7.89 sec. Users per second: 1325\n"
     ]
    },
    {
     "name": "stderr",
     "output_type": "stream",
     "text": [
      "[I 2023-12-24 18:00:16,414] Trial 279 finished with value: 0.26863026377242855 and parameters: {'alpha': 0.3240786512020144, 'beta': 0.280105216186112, 'topK': 260}. Best is trial 202 with value: 0.2752977069192318.\n"
     ]
    },
    {
     "name": "stdout",
     "output_type": "stream",
     "text": [
      "RP3betaRecommender: URM Detected 627 ( 4.8%) users with no interactions.\n",
      "RP3betaRecommender: URM Detected 247 ( 1.1%) items with no interactions.\n",
      "RP3betaRecommender: Similarity column 22347 (100.0%), 1896.77 column/sec. Elapsed time 11.78 sec\n",
      "EvaluatorHoldout: Processed 10456 (100.0%) in 7.17 sec. Users per second: 1458\n"
     ]
    },
    {
     "name": "stderr",
     "output_type": "stream",
     "text": [
      "[I 2023-12-24 18:00:39,803] Trial 280 finished with value: 0.26327700908328033 and parameters: {'alpha': 0.5596122409315532, 'beta': 0.0032150450801844213, 'topK': 317}. Best is trial 202 with value: 0.2752977069192318.\n"
     ]
    },
    {
     "name": "stdout",
     "output_type": "stream",
     "text": [
      "RP3betaRecommender: URM Detected 627 ( 4.8%) users with no interactions.\n",
      "RP3betaRecommender: URM Detected 247 ( 1.1%) items with no interactions.\n",
      "RP3betaRecommender: Similarity column 22347 (100.0%), 2696.75 column/sec. Elapsed time 8.29 sec\n",
      "EvaluatorHoldout: Processed 10456 (100.0%) in 7.22 sec. Users per second: 1448\n"
     ]
    },
    {
     "name": "stderr",
     "output_type": "stream",
     "text": [
      "[I 2023-12-24 18:00:58,008] Trial 281 finished with value: 0.08568441034094484 and parameters: {'alpha': 5.1992815318276175, 'beta': 0.1800815927585604, 'topK': 153}. Best is trial 202 with value: 0.2752977069192318.\n"
     ]
    },
    {
     "name": "stdout",
     "output_type": "stream",
     "text": [
      "RP3betaRecommender: URM Detected 627 ( 4.8%) users with no interactions.\n",
      "RP3betaRecommender: URM Detected 247 ( 1.1%) items with no interactions.\n",
      "RP3betaRecommender: Similarity column 22347 (100.0%), 2427.89 column/sec. Elapsed time 9.20 sec\n",
      "EvaluatorHoldout: Processed 10456 (100.0%) in 6.88 sec. Users per second: 1520\n"
     ]
    },
    {
     "name": "stderr",
     "output_type": "stream",
     "text": [
      "[I 2023-12-24 18:01:17,459] Trial 282 finished with value: 0.26983109384755316 and parameters: {'alpha': 0.18844130991340133, 'beta': 0.10870176565331134, 'topK': 189}. Best is trial 202 with value: 0.2752977069192318.\n"
     ]
    },
    {
     "name": "stdout",
     "output_type": "stream",
     "text": [
      "RP3betaRecommender: URM Detected 627 ( 4.8%) users with no interactions.\n",
      "RP3betaRecommender: URM Detected 247 ( 1.1%) items with no interactions.\n",
      "RP3betaRecommender: Similarity column 22347 (100.0%), 2325.35 column/sec. Elapsed time 9.61 sec\n",
      "EvaluatorHoldout: Processed 10456 (100.0%) in 8.70 sec. Users per second: 1202\n"
     ]
    },
    {
     "name": "stderr",
     "output_type": "stream",
     "text": [
      "[I 2023-12-24 18:01:40,053] Trial 283 finished with value: 0.1380701124144497 and parameters: {'alpha': 1.4631397649472193, 'beta': 0.5317033098384192, 'topK': 211}. Best is trial 202 with value: 0.2752977069192318.\n"
     ]
    },
    {
     "name": "stdout",
     "output_type": "stream",
     "text": [
      "RP3betaRecommender: URM Detected 627 ( 4.8%) users with no interactions.\n",
      "RP3betaRecommender: URM Detected 247 ( 1.1%) items with no interactions.\n",
      "RP3betaRecommender: Similarity column 22347 (100.0%), 2577.18 column/sec. Elapsed time 8.67 sec\n",
      "EvaluatorHoldout: Processed 10456 (100.0%) in 6.93 sec. Users per second: 1510\n"
     ]
    },
    {
     "name": "stderr",
     "output_type": "stream",
     "text": [
      "[I 2023-12-24 18:01:58,230] Trial 284 finished with value: 0.24347192134023624 and parameters: {'alpha': 0.7885637991016684, 'beta': 0.0012609581468649713, 'topK': 169}. Best is trial 202 with value: 0.2752977069192318.\n"
     ]
    },
    {
     "name": "stdout",
     "output_type": "stream",
     "text": [
      "RP3betaRecommender: URM Detected 627 ( 4.8%) users with no interactions.\n",
      "RP3betaRecommender: URM Detected 247 ( 1.1%) items with no interactions.\n",
      "RP3betaRecommender: Similarity column 22347 (100.0%), 3287.38 column/sec. Elapsed time 6.80 sec\n",
      "EvaluatorHoldout: Processed 10456 (100.0%) in 7.17 sec. Users per second: 1459\n"
     ]
    },
    {
     "name": "stderr",
     "output_type": "stream",
     "text": [
      "[I 2023-12-24 18:02:14,498] Trial 285 finished with value: 0.2650215027117963 and parameters: {'alpha': 0.0012172485442765765, 'beta': 0.3504922837342751, 'topK': 97}. Best is trial 202 with value: 0.2752977069192318.\n"
     ]
    },
    {
     "name": "stdout",
     "output_type": "stream",
     "text": [
      "RP3betaRecommender: URM Detected 627 ( 4.8%) users with no interactions.\n",
      "RP3betaRecommender: URM Detected 247 ( 1.1%) items with no interactions.\n",
      "RP3betaRecommender: Similarity column 22347 (100.0%), 2654.02 column/sec. Elapsed time 8.42 sec\n",
      "EvaluatorHoldout: Processed 10456 (100.0%) in 6.97 sec. Users per second: 1499\n"
     ]
    },
    {
     "name": "stderr",
     "output_type": "stream",
     "text": [
      "[I 2023-12-24 18:02:32,749] Trial 286 finished with value: 0.2734432358123599 and parameters: {'alpha': 0.29947985924566195, 'beta': 0.14678507771216584, 'topK': 149}. Best is trial 202 with value: 0.2752977069192318.\n"
     ]
    },
    {
     "name": "stdout",
     "output_type": "stream",
     "text": [
      "RP3betaRecommender: URM Detected 627 ( 4.8%) users with no interactions.\n",
      "RP3betaRecommender: URM Detected 247 ( 1.1%) items with no interactions.\n",
      "RP3betaRecommender: Similarity column 22347 (100.0%), 2224.03 column/sec. Elapsed time 10.05 sec\n",
      "EvaluatorHoldout: Processed 10456 (100.0%) in 7.85 sec. Users per second: 1332\n"
     ]
    },
    {
     "name": "stderr",
     "output_type": "stream",
     "text": [
      "[I 2023-12-24 18:02:54,896] Trial 287 finished with value: 0.27314968268182727 and parameters: {'alpha': 0.41389915005504785, 'beta': 0.23376618317480477, 'topK': 225}. Best is trial 202 with value: 0.2752977069192318.\n"
     ]
    },
    {
     "name": "stdout",
     "output_type": "stream",
     "text": [
      "RP3betaRecommender: URM Detected 627 ( 4.8%) users with no interactions.\n",
      "RP3betaRecommender: URM Detected 247 ( 1.1%) items with no interactions.\n",
      "RP3betaRecommender: Similarity column 22347 (100.0%), 2474.24 column/sec. Elapsed time 9.03 sec\n",
      "EvaluatorHoldout: Processed 10456 (100.0%) in 6.97 sec. Users per second: 1499\n"
     ]
    },
    {
     "name": "stderr",
     "output_type": "stream",
     "text": [
      "[I 2023-12-24 18:03:13,881] Trial 288 finished with value: 0.2662371209336721 and parameters: {'alpha': 0.2322786241917296, 'beta': 0.04484691855402275, 'topK': 187}. Best is trial 202 with value: 0.2752977069192318.\n"
     ]
    },
    {
     "name": "stdout",
     "output_type": "stream",
     "text": [
      "RP3betaRecommender: URM Detected 627 ( 4.8%) users with no interactions.\n",
      "RP3betaRecommender: URM Detected 247 ( 1.1%) items with no interactions.\n",
      "RP3betaRecommender: Similarity column 22347 (100.0%), 2089.63 column/sec. Elapsed time 10.69 sec\n",
      "EvaluatorHoldout: Processed 10456 (100.0%) in 7.38 sec. Users per second: 1417\n"
     ]
    },
    {
     "name": "stderr",
     "output_type": "stream",
     "text": [
      "[I 2023-12-24 18:03:36,871] Trial 289 finished with value: 0.26088443326251526 and parameters: {'alpha': 0.01358149314754539, 'beta': 0.016222485126896315, 'topK': 268}. Best is trial 202 with value: 0.2752977069192318.\n"
     ]
    },
    {
     "name": "stdout",
     "output_type": "stream",
     "text": [
      "RP3betaRecommender: URM Detected 627 ( 4.8%) users with no interactions.\n",
      "RP3betaRecommender: URM Detected 247 ( 1.1%) items with no interactions.\n",
      "RP3betaRecommender: Similarity column 22347 (100.0%), 2213.94 column/sec. Elapsed time 10.09 sec\n",
      "EvaluatorHoldout: Processed 10456 (100.0%) in 7.78 sec. Users per second: 1344\n"
     ]
    },
    {
     "name": "stderr",
     "output_type": "stream",
     "text": [
      "[I 2023-12-24 18:03:59,214] Trial 290 finished with value: 0.2726978574662709 and parameters: {'alpha': 0.1631181254713285, 'beta': 0.19394400731187114, 'topK': 242}. Best is trial 202 with value: 0.2752977069192318.\n"
     ]
    },
    {
     "name": "stdout",
     "output_type": "stream",
     "text": [
      "RP3betaRecommender: URM Detected 627 ( 4.8%) users with no interactions.\n",
      "RP3betaRecommender: URM Detected 247 ( 1.1%) items with no interactions.\n",
      "RP3betaRecommender: Similarity column 22347 (100.0%), 2960.60 column/sec. Elapsed time 7.55 sec\n",
      "EvaluatorHoldout: Processed 10456 (100.0%) in 6.73 sec. Users per second: 1553\n"
     ]
    },
    {
     "name": "stderr",
     "output_type": "stream",
     "text": [
      "[I 2023-12-24 18:04:15,890] Trial 291 finished with value: 0.26974037271710966 and parameters: {'alpha': 0.3271580158570945, 'beta': 0.13205048528264837, 'topK': 124}. Best is trial 202 with value: 0.2752977069192318.\n"
     ]
    },
    {
     "name": "stdout",
     "output_type": "stream",
     "text": [
      "RP3betaRecommender: URM Detected 627 ( 4.8%) users with no interactions.\n",
      "RP3betaRecommender: URM Detected 247 ( 1.1%) items with no interactions.\n",
      "RP3betaRecommender: Similarity column 22347 (100.0%), 2550.95 column/sec. Elapsed time 8.76 sec\n",
      "EvaluatorHoldout: Processed 10456 (100.0%) in 7.51 sec. Users per second: 1392\n"
     ]
    },
    {
     "name": "stderr",
     "output_type": "stream",
     "text": [
      "[I 2023-12-24 18:04:35,277] Trial 292 finished with value: 0.10554609130721293 and parameters: {'alpha': 2.7119368003866207, 'beta': 0.2684795440676256, 'topK': 174}. Best is trial 202 with value: 0.2752977069192318.\n"
     ]
    },
    {
     "name": "stdout",
     "output_type": "stream",
     "text": [
      "RP3betaRecommender: URM Detected 627 ( 4.8%) users with no interactions.\n",
      "RP3betaRecommender: URM Detected 247 ( 1.1%) items with no interactions.\n",
      "RP3betaRecommender: Similarity column 22347 (100.0%), 2321.55 column/sec. Elapsed time 9.63 sec\n",
      "EvaluatorHoldout: Processed 10456 (100.0%) in 8.68 sec. Users per second: 1204\n"
     ]
    },
    {
     "name": "stderr",
     "output_type": "stream",
     "text": [
      "[I 2023-12-24 18:04:58,327] Trial 293 finished with value: 0.2574768981653052 and parameters: {'alpha': 0.5572898137703691, 'beta': 0.4270445711417905, 'topK': 213}. Best is trial 202 with value: 0.2752977069192318.\n"
     ]
    },
    {
     "name": "stdout",
     "output_type": "stream",
     "text": [
      "RP3betaRecommender: URM Detected 627 ( 4.8%) users with no interactions.\n",
      "RP3betaRecommender: URM Detected 247 ( 1.1%) items with no interactions.\n",
      "RP3betaRecommender: Similarity column 22347 (100.0%), 2796.62 column/sec. Elapsed time 7.99 sec\n",
      "EvaluatorHoldout: Processed 10456 (100.0%) in 7.45 sec. Users per second: 1403\n"
     ]
    },
    {
     "name": "stderr",
     "output_type": "stream",
     "text": [
      "[I 2023-12-24 18:05:16,950] Trial 294 finished with value: 0.1659681323983753 and parameters: {'alpha': 0.22601504979832196, 'beta': 0.6725490768447578, 'topK': 144}. Best is trial 202 with value: 0.2752977069192318.\n"
     ]
    },
    {
     "name": "stdout",
     "output_type": "stream",
     "text": [
      "RP3betaRecommender: URM Detected 627 ( 4.8%) users with no interactions.\n",
      "RP3betaRecommender: URM Detected 247 ( 1.1%) items with no interactions.\n",
      "RP3betaRecommender: Similarity column 22347 (100.0%), 1961.19 column/sec. Elapsed time 11.39 sec\n",
      "EvaluatorHoldout: Processed 10456 (100.0%) in 8.36 sec. Users per second: 1251\n"
     ]
    },
    {
     "name": "stderr",
     "output_type": "stream",
     "text": [
      "[I 2023-12-24 18:05:42,474] Trial 295 finished with value: 0.012314796822803183 and parameters: {'alpha': 0.11237262895542846, 'beta': 1.1963267724047348, 'topK': 295}. Best is trial 202 with value: 0.2752977069192318.\n"
     ]
    },
    {
     "name": "stdout",
     "output_type": "stream",
     "text": [
      "RP3betaRecommender: URM Detected 627 ( 4.8%) users with no interactions.\n",
      "RP3betaRecommender: URM Detected 247 ( 1.1%) items with no interactions.\n",
      "RP3betaRecommender: Similarity column 22347 (100.0%), 2360.86 column/sec. Elapsed time 9.47 sec\n",
      "EvaluatorHoldout: Processed 10456 (100.0%) in 6.57 sec. Users per second: 1592\n"
     ]
    },
    {
     "name": "stderr",
     "output_type": "stream",
     "text": [
      "[I 2023-12-24 18:06:01,483] Trial 296 finished with value: 0.2639181485478641 and parameters: {'alpha': 0.4019848869995509, 'beta': 0.022599363879232334, 'topK': 195}. Best is trial 202 with value: 0.2752977069192318.\n"
     ]
    },
    {
     "name": "stdout",
     "output_type": "stream",
     "text": [
      "RP3betaRecommender: URM Detected 627 ( 4.8%) users with no interactions.\n",
      "RP3betaRecommender: URM Detected 247 ( 1.1%) items with no interactions.\n",
      "RP3betaRecommender: Similarity column 22347 (100.0%), 3999.79 column/sec. Elapsed time 5.59 sec\n",
      "EvaluatorHoldout: Processed 10456 (100.0%) in 5.96 sec. Users per second: 1754\n"
     ]
    },
    {
     "name": "stderr",
     "output_type": "stream",
     "text": [
      "[I 2023-12-24 18:06:14,060] Trial 297 finished with value: 0.21776377020984058 and parameters: {'alpha': 0.2816157689203976, 'beta': 0.000475608586641522, 'topK': 48}. Best is trial 202 with value: 0.2752977069192318.\n"
     ]
    },
    {
     "name": "stdout",
     "output_type": "stream",
     "text": [
      "RP3betaRecommender: URM Detected 627 ( 4.8%) users with no interactions.\n",
      "RP3betaRecommender: URM Detected 247 ( 1.1%) items with no interactions.\n",
      "RP3betaRecommender: Similarity column 22347 (100.0%), 2721.75 column/sec. Elapsed time 8.21 sec\n",
      "EvaluatorHoldout: Processed 10456 (100.0%) in 6.33 sec. Users per second: 1653\n"
     ]
    },
    {
     "name": "stderr",
     "output_type": "stream",
     "text": [
      "[I 2023-12-24 18:06:30,989] Trial 298 finished with value: 0.2544574183098197 and parameters: {'alpha': 0.16532723511051636, 'beta': 0.002393442715371147, 'topK': 158}. Best is trial 202 with value: 0.2752977069192318.\n"
     ]
    },
    {
     "name": "stdout",
     "output_type": "stream",
     "text": [
      "RP3betaRecommender: URM Detected 627 ( 4.8%) users with no interactions.\n",
      "RP3betaRecommender: URM Detected 247 ( 1.1%) items with no interactions.\n",
      "RP3betaRecommender: Similarity column 22347 (100.0%), 2215.79 column/sec. Elapsed time 10.09 sec\n",
      "EvaluatorHoldout: Processed 10456 (100.0%) in 7.12 sec. Users per second: 1468\n"
     ]
    },
    {
     "name": "stderr",
     "output_type": "stream",
     "text": [
      "[I 2023-12-24 18:06:52,109] Trial 299 finished with value: 0.23683613574904697 and parameters: {'alpha': 1.0737802544247252, 'beta': 0.09843640557735689, 'topK': 250}. Best is trial 202 with value: 0.2752977069192318.\n"
     ]
    },
    {
     "name": "stdout",
     "output_type": "stream",
     "text": [
      "RP3betaRecommender: URM Detected 627 ( 4.8%) users with no interactions.\n",
      "RP3betaRecommender: URM Detected 247 ( 1.1%) items with no interactions.\n",
      "RP3betaRecommender: Similarity column 22347 (100.0%), 3023.13 column/sec. Elapsed time 7.39 sec\n",
      "EvaluatorHoldout: Processed 10456 (100.0%) in 6.83 sec. Users per second: 1532\n"
     ]
    },
    {
     "name": "stderr",
     "output_type": "stream",
     "text": [
      "[I 2023-12-24 18:07:08,509] Trial 300 finished with value: 0.07704357778253416 and parameters: {'alpha': 8.462295690263055, 'beta': 0.17933472666968003, 'topK': 116}. Best is trial 202 with value: 0.2752977069192318.\n"
     ]
    },
    {
     "name": "stdout",
     "output_type": "stream",
     "text": [
      "RP3betaRecommender: URM Detected 627 ( 4.8%) users with no interactions.\n",
      "RP3betaRecommender: URM Detected 247 ( 1.1%) items with no interactions.\n",
      "RP3betaRecommender: Similarity column 22347 (100.0%), 2309.89 column/sec. Elapsed time 9.67 sec\n",
      "EvaluatorHoldout: Processed 10456 (100.0%) in 6.66 sec. Users per second: 1569\n"
     ]
    },
    {
     "name": "stderr",
     "output_type": "stream",
     "text": [
      "[I 2023-12-24 18:07:28,245] Trial 301 finished with value: 0.26877778197491464 and parameters: {'alpha': 0.43174589210829273, 'beta': 0.06679078210804376, 'topK': 217}. Best is trial 202 with value: 0.2752977069192318.\n"
     ]
    },
    {
     "name": "stdout",
     "output_type": "stream",
     "text": [
      "RP3betaRecommender: URM Detected 627 ( 4.8%) users with no interactions.\n",
      "RP3betaRecommender: URM Detected 247 ( 1.1%) items with no interactions.\n",
      "RP3betaRecommender: Similarity column 22347 (100.0%), 2552.11 column/sec. Elapsed time 8.76 sec\n",
      "EvaluatorHoldout: Processed 10456 (100.0%) in 7.58 sec. Users per second: 1379\n"
     ]
    },
    {
     "name": "stderr",
     "output_type": "stream",
     "text": [
      "[I 2023-12-24 18:07:48,494] Trial 302 finished with value: 0.2697896684337965 and parameters: {'alpha': 0.23887820141131383, 'beta': 0.3085042505285043, 'topK': 176}. Best is trial 202 with value: 0.2752977069192318.\n"
     ]
    },
    {
     "name": "stdout",
     "output_type": "stream",
     "text": [
      "RP3betaRecommender: URM Detected 627 ( 4.8%) users with no interactions.\n",
      "RP3betaRecommender: URM Detected 247 ( 1.1%) items with no interactions.\n",
      "RP3betaRecommender: Similarity column 22347 (100.0%), 2522.45 column/sec. Elapsed time 8.86 sec\n",
      "EvaluatorHoldout: Processed 10456 (100.0%) in 7.39 sec. Users per second: 1416\n"
     ]
    },
    {
     "name": "stderr",
     "output_type": "stream",
     "text": [
      "[I 2023-12-24 18:08:08,426] Trial 303 finished with value: 0.2698109301665251 and parameters: {'alpha': 0.008012802391454816, 'beta': 0.2226026037660408, 'topK': 191}. Best is trial 202 with value: 0.2752977069192318.\n"
     ]
    },
    {
     "name": "stdout",
     "output_type": "stream",
     "text": [
      "RP3betaRecommender: URM Detected 627 ( 4.8%) users with no interactions.\n",
      "RP3betaRecommender: URM Detected 247 ( 1.1%) items with no interactions.\n",
      "RP3betaRecommender: Similarity column 22347 (100.0%), 2937.64 column/sec. Elapsed time 7.61 sec\n",
      "EvaluatorHoldout: Processed 10456 (100.0%) in 6.83 sec. Users per second: 1531\n"
     ]
    },
    {
     "name": "stderr",
     "output_type": "stream",
     "text": [
      "[I 2023-12-24 18:08:25,419] Trial 304 finished with value: 0.2585022186573553 and parameters: {'alpha': 0.688799090345573, 'beta': 0.1443855306391844, 'topK': 131}. Best is trial 202 with value: 0.2752977069192318.\n"
     ]
    },
    {
     "name": "stdout",
     "output_type": "stream",
     "text": [
      "RP3betaRecommender: URM Detected 627 ( 4.8%) users with no interactions.\n",
      "RP3betaRecommender: URM Detected 247 ( 1.1%) items with no interactions.\n",
      "RP3betaRecommender: Similarity column 22347 (100.0%), 1873.72 column/sec. Elapsed time 11.93 sec\n",
      "EvaluatorHoldout: Processed 10456 (100.0%) in 7.08 sec. Users per second: 1478\n"
     ]
    },
    {
     "name": "stderr",
     "output_type": "stream",
     "text": [
      "[I 2023-12-24 18:08:49,164] Trial 305 finished with value: 0.26785765928193556 and parameters: {'alpha': 0.3367169044320397, 'beta': 0.03202233721966446, 'topK': 336}. Best is trial 202 with value: 0.2752977069192318.\n"
     ]
    },
    {
     "name": "stdout",
     "output_type": "stream",
     "text": [
      "RP3betaRecommender: URM Detected 627 ( 4.8%) users with no interactions.\n",
      "RP3betaRecommender: URM Detected 247 ( 1.1%) items with no interactions.\n",
      "RP3betaRecommender: Similarity column 22347 (100.0%), 2003.58 column/sec. Elapsed time 11.15 sec\n",
      "EvaluatorHoldout: Processed 10456 (100.0%) in 7.89 sec. Users per second: 1325\n"
     ]
    },
    {
     "name": "stderr",
     "output_type": "stream",
     "text": [
      "[I 2023-12-24 18:09:13,355] Trial 306 finished with value: 0.26952940880656706 and parameters: {'alpha': 0.5125569523380483, 'beta': 0.23964297758153244, 'topK': 285}. Best is trial 202 with value: 0.2752977069192318.\n"
     ]
    },
    {
     "name": "stdout",
     "output_type": "stream",
     "text": [
      "RP3betaRecommender: URM Detected 627 ( 4.8%) users with no interactions.\n",
      "RP3betaRecommender: URM Detected 247 ( 1.1%) items with no interactions.\n",
      "RP3betaRecommender: Similarity column 22347 (100.0%), 2313.61 column/sec. Elapsed time 9.66 sec\n",
      "EvaluatorHoldout: Processed 10456 (100.0%) in 8.13 sec. Users per second: 1286\n"
     ]
    },
    {
     "name": "stderr",
     "output_type": "stream",
     "text": [
      "[I 2023-12-24 18:09:35,831] Trial 307 finished with value: 0.2541429367797692 and parameters: {'alpha': 0.07768678611561315, 'beta': 0.39101436819988455, 'topK': 227}. Best is trial 202 with value: 0.2752977069192318.\n"
     ]
    },
    {
     "name": "stdout",
     "output_type": "stream",
     "text": [
      "RP3betaRecommender: URM Detected 627 ( 4.8%) users with no interactions.\n",
      "RP3betaRecommender: URM Detected 247 ( 1.1%) items with no interactions.\n",
      "RP3betaRecommender: Similarity column 22347 (100.0%), 1502.73 column/sec. Elapsed time 14.87 sec\n",
      "EvaluatorHoldout: Processed 10456 (100.0%) in 8.88 sec. Users per second: 1178\n"
     ]
    },
    {
     "name": "stderr",
     "output_type": "stream",
     "text": [
      "[I 2023-12-24 18:10:07,416] Trial 308 finished with value: 0.26228937103654804 and parameters: {'alpha': 0.1301974506912135, 'beta': 0.16621268900075084, 'topK': 496}. Best is trial 202 with value: 0.2752977069192318.\n"
     ]
    },
    {
     "name": "stdout",
     "output_type": "stream",
     "text": [
      "RP3betaRecommender: URM Detected 627 ( 4.8%) users with no interactions.\n",
      "RP3betaRecommender: URM Detected 247 ( 1.1%) items with no interactions.\n",
      "RP3betaRecommender: Similarity column 22347 (100.0%), 2691.30 column/sec. Elapsed time 8.30 sec\n",
      "EvaluatorHoldout: Processed 10456 (100.0%) in 6.51 sec. Users per second: 1607\n"
     ]
    },
    {
     "name": "stderr",
     "output_type": "stream",
     "text": [
      "[I 2023-12-24 18:10:24,832] Trial 309 finished with value: 0.2526139242518769 and parameters: {'alpha': 0.046749442447286724, 'beta': 0.012607035842903428, 'topK': 156}. Best is trial 202 with value: 0.2752977069192318.\n"
     ]
    },
    {
     "name": "stdout",
     "output_type": "stream",
     "text": [
      "RP3betaRecommender: URM Detected 627 ( 4.8%) users with no interactions.\n",
      "RP3betaRecommender: URM Detected 247 ( 1.1%) items with no interactions.\n",
      "RP3betaRecommender: Similarity column 22347 (100.0%), 2150.70 column/sec. Elapsed time 10.39 sec\n",
      "EvaluatorHoldout: Processed 10456 (100.0%) in 7.28 sec. Users per second: 1436\n"
     ]
    },
    {
     "name": "stderr",
     "output_type": "stream",
     "text": [
      "[I 2023-12-24 18:10:46,724] Trial 310 finished with value: 0.2717115000271508 and parameters: {'alpha': 0.1972547754156583, 'beta': 0.11287847006828834, 'topK': 252}. Best is trial 202 with value: 0.2752977069192318.\n"
     ]
    },
    {
     "name": "stdout",
     "output_type": "stream",
     "text": [
      "RP3betaRecommender: URM Detected 627 ( 4.8%) users with no interactions.\n",
      "RP3betaRecommender: URM Detected 247 ( 1.1%) items with no interactions.\n",
      "RP3betaRecommender: Similarity column 22347 (100.0%), 2559.88 column/sec. Elapsed time 8.73 sec\n",
      "EvaluatorHoldout: Processed 10456 (100.0%) in 7.54 sec. Users per second: 1387\n"
     ]
    },
    {
     "name": "stderr",
     "output_type": "stream",
     "text": [
      "[I 2023-12-24 18:11:06,908] Trial 311 finished with value: 0.2707074936128336 and parameters: {'alpha': 0.2847233292287479, 'beta': 0.29880543840438034, 'topK': 177}. Best is trial 202 with value: 0.2752977069192318.\n"
     ]
    },
    {
     "name": "stdout",
     "output_type": "stream",
     "text": [
      "RP3betaRecommender: URM Detected 627 ( 4.8%) users with no interactions.\n",
      "RP3betaRecommender: URM Detected 247 ( 1.1%) items with no interactions.\n",
      "RP3betaRecommender: Similarity column 22347 (100.0%), 2294.66 column/sec. Elapsed time 9.74 sec\n",
      "EvaluatorHoldout: Processed 10456 (100.0%) in 7.50 sec. Users per second: 1393\n"
     ]
    },
    {
     "name": "stderr",
     "output_type": "stream",
     "text": [
      "[I 2023-12-24 18:11:28,253] Trial 312 finished with value: 0.2747390455979445 and parameters: {'alpha': 0.38204831734398903, 'beta': 0.20613537210205388, 'topK': 207}. Best is trial 202 with value: 0.2752977069192318.\n"
     ]
    },
    {
     "name": "stdout",
     "output_type": "stream",
     "text": [
      "RP3betaRecommender: URM Detected 627 ( 4.8%) users with no interactions.\n",
      "RP3betaRecommender: URM Detected 247 ( 1.1%) items with no interactions.\n",
      "RP3betaRecommender: Similarity column 22347 (100.0%), 3136.84 column/sec. Elapsed time 7.12 sec\n",
      "EvaluatorHoldout: Processed 10456 (100.0%) in 6.96 sec. Users per second: 1503\n"
     ]
    },
    {
     "name": "stderr",
     "output_type": "stream",
     "text": [
      "[I 2023-12-24 18:11:44,762] Trial 313 finished with value: 0.27198039129461327 and parameters: {'alpha': 0.39781753391239444, 'beta': 0.2221794054213862, 'topK': 109}. Best is trial 202 with value: 0.2752977069192318.\n"
     ]
    },
    {
     "name": "stdout",
     "output_type": "stream",
     "text": [
      "RP3betaRecommender: URM Detected 627 ( 4.8%) users with no interactions.\n",
      "RP3betaRecommender: URM Detected 247 ( 1.1%) items with no interactions.\n",
      "RP3betaRecommender: Similarity column 22347 (100.0%), 2833.04 column/sec. Elapsed time 7.89 sec\n",
      "EvaluatorHoldout: Processed 10456 (100.0%) in 7.74 sec. Users per second: 1351\n"
     ]
    },
    {
     "name": "stderr",
     "output_type": "stream",
     "text": [
      "[I 2023-12-24 18:12:03,714] Trial 314 finished with value: 0.249300584286431 and parameters: {'alpha': 0.548203127179021, 'beta': 0.47788838252113913, 'topK': 137}. Best is trial 202 with value: 0.2752977069192318.\n"
     ]
    },
    {
     "name": "stdout",
     "output_type": "stream",
     "text": [
      "RP3betaRecommender: URM Detected 627 ( 4.8%) users with no interactions.\n",
      "RP3betaRecommender: URM Detected 247 ( 1.1%) items with no interactions.\n",
      "RP3betaRecommender: Similarity column 22347 (100.0%), 1733.53 column/sec. Elapsed time 12.89 sec\n",
      "EvaluatorHoldout: Processed 10456 (100.0%) in 8.66 sec. Users per second: 1207\n"
     ]
    },
    {
     "name": "stderr",
     "output_type": "stream",
     "text": [
      "[I 2023-12-24 18:12:32,094] Trial 315 finished with value: 0.2621013964353869 and parameters: {'alpha': 0.33564089050673757, 'beta': 0.2937680109832011, 'topK': 397}. Best is trial 202 with value: 0.2752977069192318.\n"
     ]
    },
    {
     "name": "stdout",
     "output_type": "stream",
     "text": [
      "RP3betaRecommender: URM Detected 627 ( 4.8%) users with no interactions.\n",
      "RP3betaRecommender: URM Detected 247 ( 1.1%) items with no interactions.\n",
      "RP3betaRecommender: Similarity column 22347 (100.0%), 1282.42 column/sec. Elapsed time 17.43 sec\n",
      "EvaluatorHoldout: Processed 10456 (100.0%) in 11.22 sec. Users per second: 932\n"
     ]
    },
    {
     "name": "stderr",
     "output_type": "stream",
     "text": [
      "[I 2023-12-24 18:13:11,932] Trial 316 finished with value: 0.009268359287163764 and parameters: {'alpha': 0.9362111599577747, 'beta': 1.8987773967854205, 'topK': 677}. Best is trial 202 with value: 0.2752977069192318.\n"
     ]
    },
    {
     "name": "stdout",
     "output_type": "stream",
     "text": [
      "RP3betaRecommender: URM Detected 627 ( 4.8%) users with no interactions.\n",
      "RP3betaRecommender: URM Detected 247 ( 1.1%) items with no interactions.\n",
      "RP3betaRecommender: Similarity column 22347 (100.0%), 2404.55 column/sec. Elapsed time 9.29 sec\n",
      "EvaluatorHoldout: Processed 10456 (100.0%) in 7.60 sec. Users per second: 1376\n"
     ]
    },
    {
     "name": "stderr",
     "output_type": "stream",
     "text": [
      "[I 2023-12-24 18:13:32,204] Trial 317 finished with value: 0.16226029582731563 and parameters: {'alpha': 1.763741758154256, 'beta': 0.19124371506940352, 'topK': 198}. Best is trial 202 with value: 0.2752977069192318.\n"
     ]
    },
    {
     "name": "stdout",
     "output_type": "stream",
     "text": [
      "RP3betaRecommender: URM Detected 627 ( 4.8%) users with no interactions.\n",
      "RP3betaRecommender: URM Detected 247 ( 1.1%) items with no interactions.\n",
      "RP3betaRecommender: Similarity column 22347 (100.0%), 4691.87 column/sec. Elapsed time 4.76 sec\n",
      "EvaluatorHoldout: Processed 10456 (100.0%) in 5.89 sec. Users per second: 1775\n"
     ]
    },
    {
     "name": "stderr",
     "output_type": "stream",
     "text": [
      "[I 2023-12-24 18:13:43,499] Trial 318 finished with value: 0.18557165247589755 and parameters: {'alpha': 0.4461527506966128, 'beta': 0.13952585109859253, 'topK': 12}. Best is trial 202 with value: 0.2752977069192318.\n"
     ]
    },
    {
     "name": "stdout",
     "output_type": "stream",
     "text": [
      "RP3betaRecommender: URM Detected 627 ( 4.8%) users with no interactions.\n",
      "RP3betaRecommender: URM Detected 247 ( 1.1%) items with no interactions.\n",
      "RP3betaRecommender: Similarity column 22347 (100.0%), 2701.45 column/sec. Elapsed time 8.27 sec\n",
      "EvaluatorHoldout: Processed 10456 (100.0%) in 7.65 sec. Users per second: 1366\n"
     ]
    },
    {
     "name": "stderr",
     "output_type": "stream",
     "text": [
      "[I 2023-12-24 18:14:03,064] Trial 319 finished with value: 0.2676694877888043 and parameters: {'alpha': 0.26705875789512595, 'beta': 0.3522734648258837, 'topK': 163}. Best is trial 202 with value: 0.2752977069192318.\n"
     ]
    },
    {
     "name": "stdout",
     "output_type": "stream",
     "text": [
      "RP3betaRecommender: URM Detected 627 ( 4.8%) users with no interactions.\n",
      "RP3betaRecommender: URM Detected 247 ( 1.1%) items with no interactions.\n",
      "RP3betaRecommender: Similarity column 22347 (100.0%), 3453.74 column/sec. Elapsed time 6.47 sec\n",
      "EvaluatorHoldout: Processed 10456 (100.0%) in 6.41 sec. Users per second: 1630\n"
     ]
    },
    {
     "name": "stderr",
     "output_type": "stream",
     "text": [
      "[I 2023-12-24 18:14:17,495] Trial 320 finished with value: 0.2549899168847916 and parameters: {'alpha': 0.3528389659683499, 'beta': 0.08798891218732412, 'topK': 79}. Best is trial 202 with value: 0.2752977069192318.\n"
     ]
    },
    {
     "name": "stdout",
     "output_type": "stream",
     "text": [
      "RP3betaRecommender: URM Detected 627 ( 4.8%) users with no interactions.\n",
      "RP3betaRecommender: URM Detected 247 ( 1.1%) items with no interactions.\n",
      "RP3betaRecommender: Similarity column 22347 (100.0%), 2262.03 column/sec. Elapsed time 9.88 sec\n",
      "EvaluatorHoldout: Processed 10456 (100.0%) in 6.62 sec. Users per second: 1578\n"
     ]
    },
    {
     "name": "stderr",
     "output_type": "stream",
     "text": [
      "[I 2023-12-24 18:14:37,358] Trial 321 finished with value: 0.2593329382529482 and parameters: {'alpha': 0.6039485207241878, 'beta': 0.004446985057622548, 'topK': 235}. Best is trial 202 with value: 0.2752977069192318.\n"
     ]
    },
    {
     "name": "stdout",
     "output_type": "stream",
     "text": [
      "RP3betaRecommender: URM Detected 627 ( 4.8%) users with no interactions.\n",
      "RP3betaRecommender: URM Detected 247 ( 1.1%) items with no interactions.\n",
      "RP3betaRecommender: Similarity column 22347 (100.0%), 3230.39 column/sec. Elapsed time 6.92 sec\n",
      "EvaluatorHoldout: Processed 10456 (100.0%) in 6.87 sec. Users per second: 1521\n"
     ]
    },
    {
     "name": "stderr",
     "output_type": "stream",
     "text": [
      "[I 2023-12-24 18:14:53,162] Trial 322 finished with value: 0.08316593473250192 and parameters: {'alpha': 4.1351832628783365, 'beta': 0.23292445607760703, 'topK': 100}. Best is trial 202 with value: 0.2752977069192318.\n"
     ]
    },
    {
     "name": "stdout",
     "output_type": "stream",
     "text": [
      "RP3betaRecommender: URM Detected 627 ( 4.8%) users with no interactions.\n",
      "RP3betaRecommender: URM Detected 247 ( 1.1%) items with no interactions.\n",
      "RP3betaRecommender: Similarity column 22347 (100.0%), 2809.98 column/sec. Elapsed time 7.95 sec\n",
      "EvaluatorHoldout: Processed 10456 (100.0%) in 7.13 sec. Users per second: 1466\n"
     ]
    },
    {
     "name": "stderr",
     "output_type": "stream",
     "text": [
      "[I 2023-12-24 18:15:11,005] Trial 323 finished with value: 0.26955698128349587 and parameters: {'alpha': 0.17034401666649762, 'beta': 0.12224432032517868, 'topK': 147}. Best is trial 202 with value: 0.2752977069192318.\n"
     ]
    },
    {
     "name": "stdout",
     "output_type": "stream",
     "text": [
      "RP3betaRecommender: URM Detected 627 ( 4.8%) users with no interactions.\n",
      "RP3betaRecommender: URM Detected 247 ( 1.1%) items with no interactions.\n",
      "RP3betaRecommender: Similarity column 22347 (100.0%), 1314.50 column/sec. Elapsed time 17.00 sec\n",
      "EvaluatorHoldout: Processed 10456 (100.0%) in 10.07 sec. Users per second: 1038\n"
     ]
    },
    {
     "name": "stderr",
     "output_type": "stream",
     "text": [
      "[I 2023-12-24 18:15:47,024] Trial 324 finished with value: 0.25568703195904025 and parameters: {'alpha': 0.7813115871098743, 'beta': 0.26976988996472107, 'topK': 605}. Best is trial 202 with value: 0.2752977069192318.\n"
     ]
    },
    {
     "name": "stdout",
     "output_type": "stream",
     "text": [
      "RP3betaRecommender: URM Detected 627 ( 4.8%) users with no interactions.\n",
      "RP3betaRecommender: URM Detected 247 ( 1.1%) items with no interactions.\n",
      "RP3betaRecommender: Similarity column 22347 (100.0%), 905.17 column/sec. Elapsed time 24.69 sec\n",
      "EvaluatorHoldout: Processed 10456 (100.0%) in 11.87 sec. Users per second: 881\n"
     ]
    },
    {
     "name": "stderr",
     "output_type": "stream",
     "text": [
      "[I 2023-12-24 18:16:38,647] Trial 325 finished with value: 0.24715242982729968 and parameters: {'alpha': 0.2746500140259036, 'beta': 0.17615355676950542, 'topK': 1420}. Best is trial 202 with value: 0.2752977069192318.\n"
     ]
    },
    {
     "name": "stdout",
     "output_type": "stream",
     "text": [
      "RP3betaRecommender: URM Detected 627 ( 4.8%) users with no interactions.\n",
      "RP3betaRecommender: URM Detected 247 ( 1.1%) items with no interactions.\n",
      "RP3betaRecommender: Similarity column 22347 (100.0%), 2522.37 column/sec. Elapsed time 8.86 sec\n",
      "EvaluatorHoldout: Processed 10456 (100.0%) in 6.98 sec. Users per second: 1498\n"
     ]
    },
    {
     "name": "stderr",
     "output_type": "stream",
     "text": [
      "[I 2023-12-24 18:16:57,819] Trial 326 finished with value: 0.26123982677864854 and parameters: {'alpha': 8.03742307717141e-05, 'beta': 0.05518145644418026, 'topK': 185}. Best is trial 202 with value: 0.2752977069192318.\n"
     ]
    },
    {
     "name": "stdout",
     "output_type": "stream",
     "text": [
      "RP3betaRecommender: URM Detected 627 ( 4.8%) users with no interactions.\n",
      "RP3betaRecommender: URM Detected 247 ( 1.1%) items with no interactions.\n",
      "RP3betaRecommender: Similarity column 22347 (100.0%), 2119.96 column/sec. Elapsed time 10.54 sec\n",
      "EvaluatorHoldout: Processed 10456 (100.0%) in 8.36 sec. Users per second: 1251\n"
     ]
    },
    {
     "name": "stderr",
     "output_type": "stream",
     "text": [
      "[I 2023-12-24 18:17:21,983] Trial 327 finished with value: 0.26269344931243244 and parameters: {'alpha': 0.4353803068269445, 'beta': 0.34894201308018796, 'topK': 263}. Best is trial 202 with value: 0.2752977069192318.\n"
     ]
    },
    {
     "name": "stdout",
     "output_type": "stream",
     "text": [
      "RP3betaRecommender: URM Detected 627 ( 4.8%) users with no interactions.\n",
      "RP3betaRecommender: URM Detected 247 ( 1.1%) items with no interactions.\n",
      "RP3betaRecommender: Similarity column 22347 (100.0%), 2378.63 column/sec. Elapsed time 9.39 sec\n",
      "EvaluatorHoldout: Processed 10456 (100.0%) in 7.57 sec. Users per second: 1382\n"
     ]
    },
    {
     "name": "stderr",
     "output_type": "stream",
     "text": [
      "[I 2023-12-24 18:17:42,988] Trial 328 finished with value: 0.273393761491819 and parameters: {'alpha': 0.22526197844811227, 'beta': 0.21030683556393828, 'topK': 211}. Best is trial 202 with value: 0.2752977069192318.\n"
     ]
    },
    {
     "name": "stdout",
     "output_type": "stream",
     "text": [
      "RP3betaRecommender: URM Detected 627 ( 4.8%) users with no interactions.\n",
      "RP3betaRecommender: URM Detected 247 ( 1.1%) items with no interactions.\n",
      "RP3betaRecommender: Similarity column 22347 (100.0%), 2962.17 column/sec. Elapsed time 7.54 sec\n",
      "EvaluatorHoldout: Processed 10456 (100.0%) in 6.89 sec. Users per second: 1517\n"
     ]
    },
    {
     "name": "stderr",
     "output_type": "stream",
     "text": [
      "[I 2023-12-24 18:17:59,772] Trial 329 finished with value: 0.27000289454723564 and parameters: {'alpha': 0.3579465350362086, 'beta': 0.1359585956146841, 'topK': 124}. Best is trial 202 with value: 0.2752977069192318.\n"
     ]
    },
    {
     "name": "stdout",
     "output_type": "stream",
     "text": [
      "RP3betaRecommender: URM Detected 627 ( 4.8%) users with no interactions.\n",
      "RP3betaRecommender: URM Detected 247 ( 1.1%) items with no interactions.\n",
      "RP3betaRecommender: Similarity column 22347 (100.0%), 2486.81 column/sec. Elapsed time 8.99 sec\n",
      "EvaluatorHoldout: Processed 10456 (100.0%) in 6.84 sec. Users per second: 1529\n"
     ]
    },
    {
     "name": "stderr",
     "output_type": "stream",
     "text": [
      "[I 2023-12-24 18:18:18,569] Trial 330 finished with value: 0.2526033057881731 and parameters: {'alpha': 0.019629597090270783, 'beta': 0.006858936160660647, 'topK': 172}. Best is trial 202 with value: 0.2752977069192318.\n"
     ]
    },
    {
     "name": "stdout",
     "output_type": "stream",
     "text": [
      "RP3betaRecommender: URM Detected 627 ( 4.8%) users with no interactions.\n",
      "RP3betaRecommender: URM Detected 247 ( 1.1%) items with no interactions.\n",
      "RP3betaRecommender: Similarity column 22347 (100.0%), 2375.14 column/sec. Elapsed time 9.41 sec\n",
      "EvaluatorHoldout: Processed 10456 (100.0%) in 8.27 sec. Users per second: 1264\n"
     ]
    },
    {
     "name": "stderr",
     "output_type": "stream",
     "text": [
      "[I 2023-12-24 18:18:40,595] Trial 331 finished with value: 0.23288003946996744 and parameters: {'alpha': 0.13488106667770133, 'beta': 0.5268623857042577, 'topK': 207}. Best is trial 202 with value: 0.2752977069192318.\n"
     ]
    },
    {
     "name": "stdout",
     "output_type": "stream",
     "text": [
      "RP3betaRecommender: URM Detected 627 ( 4.8%) users with no interactions.\n",
      "RP3betaRecommender: URM Detected 247 ( 1.1%) items with no interactions.\n",
      "RP3betaRecommender: Similarity column 22347 (100.0%), 1939.86 column/sec. Elapsed time 11.52 sec\n",
      "EvaluatorHoldout: Processed 10456 (100.0%) in 7.62 sec. Users per second: 1372\n"
     ]
    },
    {
     "name": "stderr",
     "output_type": "stream",
     "text": [
      "[I 2023-12-24 18:19:04,961] Trial 332 finished with value: 0.26565524586505396 and parameters: {'alpha': 0.003996079169959738, 'beta': 0.08161294309686201, 'topK': 311}. Best is trial 202 with value: 0.2752977069192318.\n"
     ]
    },
    {
     "name": "stdout",
     "output_type": "stream",
     "text": [
      "RP3betaRecommender: URM Detected 627 ( 4.8%) users with no interactions.\n",
      "RP3betaRecommender: URM Detected 247 ( 1.1%) items with no interactions.\n",
      "RP3betaRecommender: Similarity column 22347 (100.0%), 2709.41 column/sec. Elapsed time 8.25 sec\n",
      "EvaluatorHoldout: Processed 10456 (100.0%) in 7.42 sec. Users per second: 1410\n"
     ]
    },
    {
     "name": "stderr",
     "output_type": "stream",
     "text": [
      "[I 2023-12-24 18:19:23,931] Trial 333 finished with value: 0.2713298488875983 and parameters: {'alpha': 0.5106057349010311, 'beta': 0.270249000181065, 'topK': 153}. Best is trial 202 with value: 0.2752977069192318.\n"
     ]
    },
    {
     "name": "stdout",
     "output_type": "stream",
     "text": [
      "RP3betaRecommender: URM Detected 627 ( 4.8%) users with no interactions.\n",
      "RP3betaRecommender: URM Detected 247 ( 1.1%) items with no interactions.\n",
      "RP3betaRecommender: Similarity column 22347 (100.0%), 1227.29 column/sec. Elapsed time 18.21 sec\n",
      "EvaluatorHoldout: Processed 10456 (100.0%) in 9.61 sec. Users per second: 1088\n"
     ]
    },
    {
     "name": "stderr",
     "output_type": "stream",
     "text": [
      "[I 2023-12-24 18:20:02,154] Trial 334 finished with value: 0.25770934472665874 and parameters: {'alpha': 0.2869846052735754, 'beta': 0.1663248965993941, 'topK': 761}. Best is trial 202 with value: 0.2752977069192318.\n"
     ]
    },
    {
     "name": "stdout",
     "output_type": "stream",
     "text": [
      "RP3betaRecommender: URM Detected 627 ( 4.8%) users with no interactions.\n",
      "RP3betaRecommender: URM Detected 247 ( 1.1%) items with no interactions.\n",
      "RP3betaRecommender: Similarity column 22347 (100.0%), 2197.58 column/sec. Elapsed time 10.17 sec\n",
      "EvaluatorHoldout: Processed 10456 (100.0%) in 7.92 sec. Users per second: 1321\n"
     ]
    },
    {
     "name": "stderr",
     "output_type": "stream",
     "text": [
      "[I 2023-12-24 18:20:24,861] Trial 335 finished with value: 0.05883130118769483 and parameters: {'alpha': 0.03611967364071271, 'beta': 0.7942596812324393, 'topK': 229}. Best is trial 202 with value: 0.2752977069192318.\n"
     ]
    },
    {
     "name": "stdout",
     "output_type": "stream",
     "text": [
      "RP3betaRecommender: URM Detected 627 ( 4.8%) users with no interactions.\n",
      "RP3betaRecommender: URM Detected 247 ( 1.1%) items with no interactions.\n",
      "RP3betaRecommender: Similarity column 22347 (100.0%), 4882.36 column/sec. Elapsed time 4.58 sec\n",
      "EvaluatorHoldout: Processed 10456 (100.0%) in 5.73 sec. Users per second: 1824\n"
     ]
    },
    {
     "name": "stderr",
     "output_type": "stream",
     "text": [
      "[I 2023-12-24 18:20:35,731] Trial 336 finished with value: 0.14539380517785488 and parameters: {'alpha': 0.002404672169557136, 'beta': 0.20740117081480497, 'topK': 5}. Best is trial 202 with value: 0.2752977069192318.\n"
     ]
    },
    {
     "name": "stdout",
     "output_type": "stream",
     "text": [
      "RP3betaRecommender: URM Detected 627 ( 4.8%) users with no interactions.\n",
      "RP3betaRecommender: URM Detected 247 ( 1.1%) items with no interactions.\n",
      "RP3betaRecommender: Similarity column 22347 (100.0%), 2131.81 column/sec. Elapsed time 10.48 sec\n",
      "EvaluatorHoldout: Processed 10456 (100.0%) in 6.94 sec. Users per second: 1507\n"
     ]
    },
    {
     "name": "stderr",
     "output_type": "stream",
     "text": [
      "[I 2023-12-24 18:20:57,517] Trial 337 finished with value: 0.2713162547598075 and parameters: {'alpha': 0.19799207516422404, 'beta': 0.10660589040089595, 'topK': 267}. Best is trial 202 with value: 0.2752977069192318.\n"
     ]
    },
    {
     "name": "stdout",
     "output_type": "stream",
     "text": [
      "RP3betaRecommender: URM Detected 627 ( 4.8%) users with no interactions.\n",
      "RP3betaRecommender: URM Detected 247 ( 1.1%) items with no interactions.\n",
      "RP3betaRecommender: Similarity column 22347 (100.0%), 2570.60 column/sec. Elapsed time 8.69 sec\n",
      "EvaluatorHoldout: Processed 10456 (100.0%) in 8.02 sec. Users per second: 1304\n"
     ]
    },
    {
     "name": "stderr",
     "output_type": "stream",
     "text": [
      "[I 2023-12-24 18:21:18,004] Trial 338 finished with value: 0.19472156670488783 and parameters: {'alpha': 1.262097876299208, 'beta': 0.4079023012937946, 'topK': 182}. Best is trial 202 with value: 0.2752977069192318.\n"
     ]
    },
    {
     "name": "stdout",
     "output_type": "stream",
     "text": [
      "RP3betaRecommender: URM Detected 627 ( 4.8%) users with no interactions.\n",
      "RP3betaRecommender: URM Detected 247 ( 1.1%) items with no interactions.\n",
      "RP3betaRecommender: Similarity column 22347 (100.0%), 2876.92 column/sec. Elapsed time 7.77 sec\n",
      "EvaluatorHoldout: Processed 10456 (100.0%) in 7.32 sec. Users per second: 1428\n"
     ]
    },
    {
     "name": "stderr",
     "output_type": "stream",
     "text": [
      "[I 2023-12-24 18:21:36,227] Trial 339 finished with value: 0.27150158035709687 and parameters: {'alpha': 0.3658225049340971, 'beta': 0.3148264641457417, 'topK': 135}. Best is trial 202 with value: 0.2752977069192318.\n"
     ]
    },
    {
     "name": "stdout",
     "output_type": "stream",
     "text": [
      "RP3betaRecommender: URM Detected 627 ( 4.8%) users with no interactions.\n",
      "RP3betaRecommender: URM Detected 247 ( 1.1%) items with no interactions.\n",
      "RP3betaRecommender: Similarity column 22347 (100.0%), 2409.36 column/sec. Elapsed time 9.28 sec\n",
      "EvaluatorHoldout: Processed 10456 (100.0%) in 6.66 sec. Users per second: 1570\n"
     ]
    },
    {
     "name": "stderr",
     "output_type": "stream",
     "text": [
      "[I 2023-12-24 18:21:55,675] Trial 340 finished with value: 0.26354567833425147 and parameters: {'alpha': 0.09932513222040623, 'beta': 0.04132320426821962, 'topK': 204}. Best is trial 202 with value: 0.2752977069192318.\n"
     ]
    },
    {
     "name": "stdout",
     "output_type": "stream",
     "text": [
      "RP3betaRecommender: URM Detected 627 ( 4.8%) users with no interactions.\n",
      "RP3betaRecommender: URM Detected 247 ( 1.1%) items with no interactions.\n",
      "RP3betaRecommender: Similarity column 22347 (100.0%), 2646.40 column/sec. Elapsed time 8.44 sec\n",
      "EvaluatorHoldout: Processed 10456 (100.0%) in 7.41 sec. Users per second: 1411\n"
     ]
    },
    {
     "name": "stderr",
     "output_type": "stream",
     "text": [
      "[I 2023-12-24 18:22:14,413] Trial 341 finished with value: 0.13134879386331771 and parameters: {'alpha': 2.236691255099248, 'beta': 0.15319932057038238, 'topK': 167}. Best is trial 202 with value: 0.2752977069192318.\n"
     ]
    },
    {
     "name": "stdout",
     "output_type": "stream",
     "text": [
      "RP3betaRecommender: URM Detected 627 ( 4.8%) users with no interactions.\n",
      "RP3betaRecommender: URM Detected 247 ( 1.1%) items with no interactions.\n",
      "RP3betaRecommender: Similarity column 22347 (100.0%), 2156.63 column/sec. Elapsed time 10.36 sec\n",
      "EvaluatorHoldout: Processed 10456 (100.0%) in 7.62 sec. Users per second: 1372\n"
     ]
    },
    {
     "name": "stderr",
     "output_type": "stream",
     "text": [
      "[I 2023-12-24 18:22:36,754] Trial 342 finished with value: 0.2664337966513404 and parameters: {'alpha': 0.7026094821600509, 'beta': 0.23698111460422722, 'topK': 240}. Best is trial 202 with value: 0.2752977069192318.\n"
     ]
    },
    {
     "name": "stdout",
     "output_type": "stream",
     "text": [
      "RP3betaRecommender: URM Detected 627 ( 4.8%) users with no interactions.\n",
      "RP3betaRecommender: URM Detected 247 ( 1.1%) items with no interactions.\n",
      "RP3betaRecommender: Similarity column 22347 (100.0%), 3125.15 column/sec. Elapsed time 7.15 sec\n",
      "EvaluatorHoldout: Processed 10456 (100.0%) in 6.79 sec. Users per second: 1539\n"
     ]
    },
    {
     "name": "stderr",
     "output_type": "stream",
     "text": [
      "[I 2023-12-24 18:22:52,823] Trial 343 finished with value: 0.09224682072114304 and parameters: {'alpha': 3.531257833621113, 'beta': 0.19642644236977777, 'topK': 115}. Best is trial 202 with value: 0.2752977069192318.\n"
     ]
    },
    {
     "name": "stdout",
     "output_type": "stream",
     "text": [
      "RP3betaRecommender: URM Detected 627 ( 4.8%) users with no interactions.\n",
      "RP3betaRecommender: URM Detected 247 ( 1.1%) items with no interactions.\n",
      "RP3betaRecommender: Similarity column 22347 (100.0%), 2485.11 column/sec. Elapsed time 8.99 sec\n",
      "EvaluatorHoldout: Processed 10456 (100.0%) in 7.08 sec. Users per second: 1476\n"
     ]
    },
    {
     "name": "stderr",
     "output_type": "stream",
     "text": [
      "[I 2023-12-24 18:23:12,310] Trial 344 finished with value: 0.2681762372940973 and parameters: {'alpha': 0.06329261402066465, 'beta': 0.12332273372125066, 'topK': 191}. Best is trial 202 with value: 0.2752977069192318.\n"
     ]
    },
    {
     "name": "stdout",
     "output_type": "stream",
     "text": [
      "RP3betaRecommender: URM Detected 627 ( 4.8%) users with no interactions.\n",
      "RP3betaRecommender: URM Detected 247 ( 1.1%) items with no interactions.\n",
      "RP3betaRecommender: Similarity column 22347 (100.0%), 2730.23 column/sec. Elapsed time 8.19 sec\n",
      "EvaluatorHoldout: Processed 10456 (100.0%) in 7.40 sec. Users per second: 1413\n"
     ]
    },
    {
     "name": "stderr",
     "output_type": "stream",
     "text": [
      "[I 2023-12-24 18:23:31,230] Trial 345 finished with value: 0.2733229226726169 and parameters: {'alpha': 0.239719796453244, 'beta': 0.2688801775433305, 'topK': 148}. Best is trial 202 with value: 0.2752977069192318.\n"
     ]
    },
    {
     "name": "stdout",
     "output_type": "stream",
     "text": [
      "RP3betaRecommender: URM Detected 627 ( 4.8%) users with no interactions.\n",
      "RP3betaRecommender: URM Detected 247 ( 1.1%) items with no interactions.\n",
      "RP3betaRecommender: Similarity column 22347 (100.0%), 3228.11 column/sec. Elapsed time 6.92 sec\n",
      "EvaluatorHoldout: Processed 10456 (100.0%) in 6.29 sec. Users per second: 1663\n"
     ]
    },
    {
     "name": "stderr",
     "output_type": "stream",
     "text": [
      "[I 2023-12-24 18:23:46,010] Trial 346 finished with value: 0.24272414210962026 and parameters: {'alpha': 0.1777358038933706, 'beta': 0.01872114730268069, 'topK': 91}. Best is trial 202 with value: 0.2752977069192318.\n"
     ]
    },
    {
     "name": "stdout",
     "output_type": "stream",
     "text": [
      "RP3betaRecommender: URM Detected 627 ( 4.8%) users with no interactions.\n",
      "RP3betaRecommender: URM Detected 247 ( 1.1%) items with no interactions.\n",
      "RP3betaRecommender: Similarity column 22347 (100.0%), 1608.72 column/sec. Elapsed time 13.89 sec\n",
      "EvaluatorHoldout: Processed 10456 (100.0%) in 9.88 sec. Users per second: 1058\n"
     ]
    },
    {
     "name": "stderr",
     "output_type": "stream",
     "text": [
      "[I 2023-12-24 18:24:17,950] Trial 347 finished with value: 0.21376968383951672 and parameters: {'alpha': 0.4343555668557403, 'beta': 0.5976341554394863, 'topK': 439}. Best is trial 202 with value: 0.2752977069192318.\n"
     ]
    },
    {
     "name": "stdout",
     "output_type": "stream",
     "text": [
      "RP3betaRecommender: URM Detected 627 ( 4.8%) users with no interactions.\n",
      "RP3betaRecommender: URM Detected 247 ( 1.1%) items with no interactions.\n",
      "RP3betaRecommender: Similarity column 22347 (100.0%), 2216.17 column/sec. Elapsed time 10.08 sec\n",
      "EvaluatorHoldout: Processed 10456 (100.0%) in 8.35 sec. Users per second: 1253\n"
     ]
    },
    {
     "name": "stderr",
     "output_type": "stream",
     "text": [
      "[I 2023-12-24 18:24:41,321] Trial 348 finished with value: 0.2627920164799333 and parameters: {'alpha': 0.29554056237817217, 'beta': 0.3701099885222102, 'topK': 235}. Best is trial 202 with value: 0.2752977069192318.\n"
     ]
    },
    {
     "name": "stdout",
     "output_type": "stream",
     "text": [
      "RP3betaRecommender: URM Detected 627 ( 4.8%) users with no interactions.\n",
      "RP3betaRecommender: URM Detected 247 ( 1.1%) items with no interactions.\n",
      "RP3betaRecommender: Similarity column 22347 (100.0%), 1983.80 column/sec. Elapsed time 11.26 sec\n",
      "EvaluatorHoldout: Processed 10456 (100.0%) in 7.78 sec. Users per second: 1344\n"
     ]
    },
    {
     "name": "stderr",
     "output_type": "stream",
     "text": [
      "[I 2023-12-24 18:25:05,300] Trial 349 finished with value: 0.2679737614482066 and parameters: {'alpha': 0.0006748494839190837, 'beta': 0.15316877552150648, 'topK': 286}. Best is trial 202 with value: 0.2752977069192318.\n"
     ]
    },
    {
     "name": "stdout",
     "output_type": "stream",
     "text": [
      "RP3betaRecommender: URM Detected 627 ( 4.8%) users with no interactions.\n",
      "RP3betaRecommender: URM Detected 247 ( 1.1%) items with no interactions.\n",
      "RP3betaRecommender: Similarity column 22347 (100.0%), 2442.12 column/sec. Elapsed time 9.15 sec\n",
      "EvaluatorHoldout: Processed 10456 (100.0%) in 6.96 sec. Users per second: 1503\n"
     ]
    },
    {
     "name": "stderr",
     "output_type": "stream",
     "text": [
      "[I 2023-12-24 18:25:24,963] Trial 350 finished with value: 0.2585718493241796 and parameters: {'alpha': 1.220915085562298e-05, 'beta': 0.024446630896337074, 'topK': 198}. Best is trial 202 with value: 0.2752977069192318.\n"
     ]
    },
    {
     "name": "stdout",
     "output_type": "stream",
     "text": [
      "RP3betaRecommender: URM Detected 627 ( 4.8%) users with no interactions.\n",
      "RP3betaRecommender: URM Detected 247 ( 1.1%) items with no interactions.\n",
      "RP3betaRecommender: Similarity column 22347 (100.0%), 2658.49 column/sec. Elapsed time 8.41 sec\n",
      "EvaluatorHoldout: Processed 10456 (100.0%) in 7.15 sec. Users per second: 1462\n"
     ]
    },
    {
     "name": "stderr",
     "output_type": "stream",
     "text": [
      "[I 2023-12-24 18:25:43,716] Trial 351 finished with value: 0.2710760495500411 and parameters: {'alpha': 0.5471339013999597, 'beta': 0.2054623450331895, 'topK': 165}. Best is trial 202 with value: 0.2752977069192318.\n"
     ]
    },
    {
     "name": "stdout",
     "output_type": "stream",
     "text": [
      "RP3betaRecommender: URM Detected 627 ( 4.8%) users with no interactions.\n",
      "RP3betaRecommender: URM Detected 247 ( 1.1%) items with no interactions.\n",
      "RP3betaRecommender: Similarity column 22347 (100.0%), 2916.51 column/sec. Elapsed time 7.66 sec\n",
      "EvaluatorHoldout: Processed 10456 (100.0%) in 6.43 sec. Users per second: 1627\n"
     ]
    },
    {
     "name": "stderr",
     "output_type": "stream",
     "text": [
      "[I 2023-12-24 18:26:00,191] Trial 352 finished with value: 0.26313728238783457 and parameters: {'alpha': 0.14247577497669475, 'beta': 0.0703849077386921, 'topK': 133}. Best is trial 202 with value: 0.2752977069192318.\n"
     ]
    },
    {
     "name": "stdout",
     "output_type": "stream",
     "text": [
      "RP3betaRecommender: URM Detected 627 ( 4.8%) users with no interactions.\n",
      "RP3betaRecommender: URM Detected 247 ( 1.1%) items with no interactions.\n",
      "RP3betaRecommender: Similarity column 22347 (100.0%), 1835.52 column/sec. Elapsed time 12.17 sec\n",
      "EvaluatorHoldout: Processed 10456 (100.0%) in 7.28 sec. Users per second: 1436\n"
     ]
    },
    {
     "name": "stderr",
     "output_type": "stream",
     "text": [
      "[I 2023-12-24 18:26:25,042] Trial 353 finished with value: 0.27067534511610136 and parameters: {'alpha': 0.23373533998686152, 'beta': 0.10997640113373122, 'topK': 355}. Best is trial 202 with value: 0.2752977069192318.\n"
     ]
    },
    {
     "name": "stdout",
     "output_type": "stream",
     "text": [
      "RP3betaRecommender: URM Detected 627 ( 4.8%) users with no interactions.\n",
      "RP3betaRecommender: URM Detected 247 ( 1.1%) items with no interactions.\n",
      "RP3betaRecommender: Similarity column 22347 (100.0%), 2348.46 column/sec. Elapsed time 9.52 sec\n",
      "EvaluatorHoldout: Processed 10456 (100.0%) in 7.40 sec. Users per second: 1412\n"
     ]
    },
    {
     "name": "stderr",
     "output_type": "stream",
     "text": [
      "[I 2023-12-24 18:26:46,236] Trial 354 finished with value: 0.002135324982396735 and parameters: {'alpha': 0.3281975376973905, 'beta': 6.64472487326804, 'topK': 218}. Best is trial 202 with value: 0.2752977069192318.\n"
     ]
    },
    {
     "name": "stdout",
     "output_type": "stream",
     "text": [
      "RP3betaRecommender: URM Detected 627 ( 4.8%) users with no interactions.\n",
      "RP3betaRecommender: URM Detected 247 ( 1.1%) items with no interactions.\n",
      "RP3betaRecommender: Similarity column 22347 (100.0%), 849.46 column/sec. Elapsed time 26.31 sec\n",
      "EvaluatorHoldout: Processed 10456 (100.0%) in 13.20 sec. Users per second: 792\n"
     ]
    },
    {
     "name": "stderr",
     "output_type": "stream",
     "text": [
      "[I 2023-12-24 18:27:43,762] Trial 355 finished with value: 0.24384900644985313 and parameters: {'alpha': 0.4581867227523635, 'beta': 0.2693160416595847, 'topK': 1966}. Best is trial 202 with value: 0.2752977069192318.\n"
     ]
    },
    {
     "name": "stdout",
     "output_type": "stream",
     "text": [
      "RP3betaRecommender: URM Detected 627 ( 4.8%) users with no interactions.\n",
      "RP3betaRecommender: URM Detected 247 ( 1.1%) items with no interactions.\n",
      "RP3betaRecommender: Similarity column 22347 (100.0%), 2178.08 column/sec. Elapsed time 10.26 sec\n",
      "EvaluatorHoldout: Processed 10456 (100.0%) in 6.57 sec. Users per second: 1590\n"
     ]
    },
    {
     "name": "stderr",
     "output_type": "stream",
     "text": [
      "[I 2023-12-24 18:28:04,280] Trial 356 finished with value: 0.26425782697070493 and parameters: {'alpha': 0.19837708164082787, 'beta': 0.00011027325292149263, 'topK': 262}. Best is trial 202 with value: 0.2752977069192318.\n"
     ]
    },
    {
     "name": "stdout",
     "output_type": "stream",
     "text": [
      "RP3betaRecommender: URM Detected 627 ( 4.8%) users with no interactions.\n",
      "RP3betaRecommender: URM Detected 247 ( 1.1%) items with no interactions.\n",
      "RP3betaRecommender: Similarity column 22347 (100.0%), 3540.93 column/sec. Elapsed time 6.31 sec\n",
      "EvaluatorHoldout: Processed 10456 (100.0%) in 6.45 sec. Users per second: 1621\n"
     ]
    },
    {
     "name": "stderr",
     "output_type": "stream",
     "text": [
      "[I 2023-12-24 18:28:18,701] Trial 357 finished with value: 0.020312207553982362 and parameters: {'alpha': 0.2911733180527713, 'beta': 1.065994743084871, 'topK': 76}. Best is trial 202 with value: 0.2752977069192318.\n"
     ]
    },
    {
     "name": "stdout",
     "output_type": "stream",
     "text": [
      "RP3betaRecommender: URM Detected 627 ( 4.8%) users with no interactions.\n",
      "RP3betaRecommender: URM Detected 247 ( 1.1%) items with no interactions.\n",
      "RP3betaRecommender: Similarity column 22347 (100.0%), 2597.63 column/sec. Elapsed time 8.60 sec\n",
      "EvaluatorHoldout: Processed 10456 (100.0%) in 7.23 sec. Users per second: 1447\n"
     ]
    },
    {
     "name": "stderr",
     "output_type": "stream",
     "text": [
      "[I 2023-12-24 18:28:37,785] Trial 358 finished with value: 0.2710529928113827 and parameters: {'alpha': 0.02767003814433507, 'beta': 0.17612181201024657, 'topK': 171}. Best is trial 202 with value: 0.2752977069192318.\n"
     ]
    },
    {
     "name": "stdout",
     "output_type": "stream",
     "text": [
      "RP3betaRecommender: URM Detected 627 ( 4.8%) users with no interactions.\n",
      "RP3betaRecommender: URM Detected 247 ( 1.1%) items with no interactions.\n",
      "RP3betaRecommender: Similarity column 22347 (100.0%), 2491.53 column/sec. Elapsed time 8.97 sec\n",
      "EvaluatorHoldout: Processed 10456 (100.0%) in 8.29 sec. Users per second: 1261\n"
     ]
    },
    {
     "name": "stderr",
     "output_type": "stream",
     "text": [
      "[I 2023-12-24 18:28:59,390] Trial 359 finished with value: 0.25286081579232755 and parameters: {'alpha': 0.6308874847232626, 'beta': 0.4410909125309791, 'topK': 191}. Best is trial 202 with value: 0.2752977069192318.\n"
     ]
    },
    {
     "name": "stdout",
     "output_type": "stream",
     "text": [
      "RP3betaRecommender: URM Detected 627 ( 4.8%) users with no interactions.\n",
      "RP3betaRecommender: URM Detected 247 ( 1.1%) items with no interactions.\n",
      "RP3betaRecommender: Similarity column 22347 (100.0%), 3068.98 column/sec. Elapsed time 7.28 sec\n",
      "EvaluatorHoldout: Processed 10456 (100.0%) in 7.13 sec. Users per second: 1467\n"
     ]
    },
    {
     "name": "stderr",
     "output_type": "stream",
     "text": [
      "[I 2023-12-24 18:29:16,287] Trial 360 finished with value: 0.26890038883504713 and parameters: {'alpha': 0.012025534171739984, 'beta': 0.3047494376036083, 'topK': 106}. Best is trial 202 with value: 0.2752977069192318.\n"
     ]
    },
    {
     "name": "stdout",
     "output_type": "stream",
     "text": [
      "RP3betaRecommender: URM Detected 627 ( 4.8%) users with no interactions.\n",
      "RP3betaRecommender: URM Detected 247 ( 1.1%) items with no interactions.\n",
      "RP3betaRecommender: Similarity column 22347 (100.0%), 2821.61 column/sec. Elapsed time 7.92 sec\n",
      "EvaluatorHoldout: Processed 10456 (100.0%) in 7.22 sec. Users per second: 1447\n"
     ]
    },
    {
     "name": "stderr",
     "output_type": "stream",
     "text": [
      "[I 2023-12-24 18:29:34,369] Trial 361 finished with value: 0.009684077649752758 and parameters: {'alpha': 0.015236312136891039, 'beta': 1.4133858562147905, 'topK': 147}. Best is trial 202 with value: 0.2752977069192318.\n"
     ]
    },
    {
     "name": "stdout",
     "output_type": "stream",
     "text": [
      "RP3betaRecommender: URM Detected 627 ( 4.8%) users with no interactions.\n",
      "RP3betaRecommender: URM Detected 247 ( 1.1%) items with no interactions.\n",
      "RP3betaRecommender: Similarity column 22347 (100.0%), 2305.65 column/sec. Elapsed time 9.69 sec\n",
      "EvaluatorHoldout: Processed 10456 (100.0%) in 6.87 sec. Users per second: 1521\n"
     ]
    },
    {
     "name": "stderr",
     "output_type": "stream",
     "text": [
      "[I 2023-12-24 18:29:54,723] Trial 362 finished with value: 0.2739039951323002 and parameters: {'alpha': 0.3921998187138643, 'beta': 0.14164273834148092, 'topK': 223}. Best is trial 202 with value: 0.2752977069192318.\n"
     ]
    },
    {
     "name": "stdout",
     "output_type": "stream",
     "text": [
      "RP3betaRecommender: URM Detected 627 ( 4.8%) users with no interactions.\n",
      "RP3betaRecommender: URM Detected 247 ( 1.1%) items with no interactions.\n",
      "RP3betaRecommender: Similarity column 22347 (100.0%), 4453.76 column/sec. Elapsed time 5.02 sec\n",
      "EvaluatorHoldout: Processed 10456 (100.0%) in 6.56 sec. Users per second: 1593\n"
     ]
    },
    {
     "name": "stderr",
     "output_type": "stream",
     "text": [
      "[I 2023-12-24 18:30:07,216] Trial 363 finished with value: 0.24419341699849317 and parameters: {'alpha': 0.3912176649054837, 'beta': 0.24088963770187483, 'topK': 23}. Best is trial 202 with value: 0.2752977069192318.\n"
     ]
    },
    {
     "name": "stdout",
     "output_type": "stream",
     "text": [
      "RP3betaRecommender: URM Detected 627 ( 4.8%) users with no interactions.\n",
      "RP3betaRecommender: URM Detected 247 ( 1.1%) items with no interactions.\n",
      "RP3betaRecommender: Similarity column 22347 (100.0%), 2329.38 column/sec. Elapsed time 9.59 sec\n",
      "EvaluatorHoldout: Processed 10456 (100.0%) in 6.68 sec. Users per second: 1565\n"
     ]
    },
    {
     "name": "stderr",
     "output_type": "stream",
     "text": [
      "[I 2023-12-24 18:30:26,782] Trial 364 finished with value: 0.24875654552467732 and parameters: {'alpha': 0.7965808597442724, 'beta': 0.008199398590297542, 'topK': 216}. Best is trial 202 with value: 0.2752977069192318.\n"
     ]
    },
    {
     "name": "stdout",
     "output_type": "stream",
     "text": [
      "RP3betaRecommender: URM Detected 627 ( 4.8%) users with no interactions.\n",
      "RP3betaRecommender: URM Detected 247 ( 1.1%) items with no interactions.\n",
      "RP3betaRecommender: Similarity column 22347 (100.0%), 2968.79 column/sec. Elapsed time 7.53 sec\n",
      "EvaluatorHoldout: Processed 10456 (100.0%) in 6.35 sec. Users per second: 1646\n"
     ]
    },
    {
     "name": "stderr",
     "output_type": "stream",
     "text": [
      "[I 2023-12-24 18:30:42,693] Trial 365 finished with value: 0.2543082469642233 and parameters: {'alpha': 0.5076007432022669, 'beta': 0.03441812129430911, 'topK': 122}. Best is trial 202 with value: 0.2752977069192318.\n"
     ]
    },
    {
     "name": "stdout",
     "output_type": "stream",
     "text": [
      "RP3betaRecommender: URM Detected 627 ( 4.8%) users with no interactions.\n",
      "RP3betaRecommender: URM Detected 247 ( 1.1%) items with no interactions.\n",
      "RP3betaRecommender: Similarity column 22347 (100.0%), 2613.31 column/sec. Elapsed time 8.55 sec\n",
      "EvaluatorHoldout: Processed 10456 (100.0%) in 6.77 sec. Users per second: 1545\n"
     ]
    },
    {
     "name": "stderr",
     "output_type": "stream",
     "text": [
      "[I 2023-12-24 18:31:01,091] Trial 366 finished with value: 0.2703392682343967 and parameters: {'alpha': 0.3553860386543522, 'beta': 0.09997080091247537, 'topK': 179}. Best is trial 202 with value: 0.2752977069192318.\n"
     ]
    },
    {
     "name": "stdout",
     "output_type": "stream",
     "text": [
      "RP3betaRecommender: URM Detected 627 ( 4.8%) users with no interactions.\n",
      "RP3betaRecommender: URM Detected 247 ( 1.1%) items with no interactions.\n",
      "RP3betaRecommender: Similarity column 22347 (100.0%), 1943.28 column/sec. Elapsed time 11.50 sec\n",
      "EvaluatorHoldout: Processed 10456 (100.0%) in 7.72 sec. Users per second: 1355\n"
     ]
    },
    {
     "name": "stderr",
     "output_type": "stream",
     "text": [
      "[I 2023-12-24 18:31:25,730] Trial 367 finished with value: 0.26894789701857036 and parameters: {'alpha': 0.0894286504653701, 'beta': 0.18949794290270827, 'topK': 307}. Best is trial 202 with value: 0.2752977069192318.\n"
     ]
    },
    {
     "name": "stdout",
     "output_type": "stream",
     "text": [
      "RP3betaRecommender: URM Detected 627 ( 4.8%) users with no interactions.\n",
      "RP3betaRecommender: URM Detected 247 ( 1.1%) items with no interactions.\n",
      "RP3betaRecommender: Similarity column 22347 (100.0%), 2701.73 column/sec. Elapsed time 8.27 sec\n",
      "EvaluatorHoldout: Processed 10456 (100.0%) in 7.17 sec. Users per second: 1459\n"
     ]
    },
    {
     "name": "stderr",
     "output_type": "stream",
     "text": [
      "[I 2023-12-24 18:31:44,049] Trial 368 finished with value: 0.27266761027549125 and parameters: {'alpha': 0.2937743642444887, 'beta': 0.13836393471893677, 'topK': 161}. Best is trial 202 with value: 0.2752977069192318.\n"
     ]
    },
    {
     "name": "stdout",
     "output_type": "stream",
     "text": [
      "RP3betaRecommender: URM Detected 627 ( 4.8%) users with no interactions.\n",
      "RP3betaRecommender: URM Detected 247 ( 1.1%) items with no interactions.\n",
      "RP3betaRecommender: Similarity column 22347 (100.0%), 2424.11 column/sec. Elapsed time 9.22 sec\n",
      "EvaluatorHoldout: Processed 10456 (100.0%) in 7.86 sec. Users per second: 1331\n"
     ]
    },
    {
     "name": "stderr",
     "output_type": "stream",
     "text": [
      "[I 2023-12-24 18:32:05,239] Trial 369 finished with value: 0.2647170908291362 and parameters: {'alpha': 0.59837154042863, 'beta': 0.33612403491140724, 'topK': 200}. Best is trial 202 with value: 0.2752977069192318.\n"
     ]
    },
    {
     "name": "stdout",
     "output_type": "stream",
     "text": [
      "RP3betaRecommender: URM Detected 627 ( 4.8%) users with no interactions.\n",
      "RP3betaRecommender: URM Detected 247 ( 1.1%) items with no interactions.\n",
      "RP3betaRecommender: Similarity column 22347 (100.0%), 2176.35 column/sec. Elapsed time 10.27 sec\n",
      "EvaluatorHoldout: Processed 10456 (100.0%) in 7.79 sec. Users per second: 1342\n"
     ]
    },
    {
     "name": "stderr",
     "output_type": "stream",
     "text": [
      "[I 2023-12-24 18:32:27,964] Trial 370 finished with value: 0.2723666846405416 and parameters: {'alpha': 0.4140411582538256, 'beta': 0.2245798156266462, 'topK': 256}. Best is trial 202 with value: 0.2752977069192318.\n"
     ]
    },
    {
     "name": "stdout",
     "output_type": "stream",
     "text": [
      "RP3betaRecommender: URM Detected 627 ( 4.8%) users with no interactions.\n",
      "RP3betaRecommender: URM Detected 247 ( 1.1%) items with no interactions.\n",
      "RP3betaRecommender: Similarity column 22347 (100.0%), 2299.44 column/sec. Elapsed time 9.72 sec\n",
      "EvaluatorHoldout: Processed 10456 (100.0%) in 6.58 sec. Users per second: 1590\n"
     ]
    },
    {
     "name": "stderr",
     "output_type": "stream",
     "text": [
      "[I 2023-12-24 18:32:47,486] Trial 371 finished with value: 0.2617325171312993 and parameters: {'alpha': 0.15484349284832313, 'beta': 0.004358757477900888, 'topK': 224}. Best is trial 202 with value: 0.2752977069192318.\n"
     ]
    },
    {
     "name": "stdout",
     "output_type": "stream",
     "text": [
      "RP3betaRecommender: URM Detected 627 ( 4.8%) users with no interactions.\n",
      "RP3betaRecommender: URM Detected 247 ( 1.1%) items with no interactions.\n",
      "RP3betaRecommender: Similarity column 22347 (100.0%), 2823.28 column/sec. Elapsed time 7.92 sec\n",
      "EvaluatorHoldout: Processed 10456 (100.0%) in 7.43 sec. Users per second: 1407\n"
     ]
    },
    {
     "name": "stderr",
     "output_type": "stream",
     "text": [
      "[I 2023-12-24 18:33:05,975] Trial 372 finished with value: 0.18461585366504976 and parameters: {'alpha': 0.25049995479373666, 'beta': 0.6494840835912933, 'topK': 143}. Best is trial 202 with value: 0.2752977069192318.\n"
     ]
    },
    {
     "name": "stdout",
     "output_type": "stream",
     "text": [
      "RP3betaRecommender: URM Detected 627 ( 4.8%) users with no interactions.\n",
      "RP3betaRecommender: URM Detected 247 ( 1.1%) items with no interactions.\n",
      "RP3betaRecommender: Similarity column 22347 (100.0%), 4711.64 column/sec. Elapsed time 4.74 sec\n",
      "EvaluatorHoldout: Processed 10456 (100.0%) in 5.83 sec. Users per second: 1794\n"
     ]
    },
    {
     "name": "stderr",
     "output_type": "stream",
     "text": [
      "[I 2023-12-24 18:33:17,142] Trial 373 finished with value: 0.141117546879003 and parameters: {'alpha': 0.9679057970589087, 'beta': 0.15480819864346052, 'topK': 8}. Best is trial 202 with value: 0.2752977069192318.\n"
     ]
    },
    {
     "name": "stdout",
     "output_type": "stream",
     "text": [
      "RP3betaRecommender: URM Detected 627 ( 4.8%) users with no interactions.\n",
      "RP3betaRecommender: URM Detected 247 ( 1.1%) items with no interactions.\n",
      "RP3betaRecommender: Similarity column 22347 (100.0%), 2602.70 column/sec. Elapsed time 8.59 sec\n",
      "EvaluatorHoldout: Processed 10456 (100.0%) in 7.79 sec. Users per second: 1343\n"
     ]
    },
    {
     "name": "stderr",
     "output_type": "stream",
     "text": [
      "[I 2023-12-24 18:33:37,337] Trial 374 finished with value: 0.24490803504722947 and parameters: {'alpha': 0.004547696464683995, 'beta': 0.4401967439743846, 'topK': 181}. Best is trial 202 with value: 0.2752977069192318.\n"
     ]
    },
    {
     "name": "stdout",
     "output_type": "stream",
     "text": [
      "RP3betaRecommender: URM Detected 627 ( 4.8%) users with no interactions.\n",
      "RP3betaRecommender: URM Detected 247 ( 1.1%) items with no interactions.\n",
      "RP3betaRecommender: Similarity column 22347 (100.0%), 3935.21 column/sec. Elapsed time 5.68 sec\n",
      "EvaluatorHoldout: Processed 10456 (100.0%) in 6.27 sec. Users per second: 1668\n"
     ]
    },
    {
     "name": "stderr",
     "output_type": "stream",
     "text": [
      "[I 2023-12-24 18:33:50,295] Trial 375 finished with value: 0.22764199463972407 and parameters: {'alpha': 0.3471833289359254, 'beta': 0.0573304709683937, 'topK': 43}. Best is trial 202 with value: 0.2752977069192318.\n"
     ]
    },
    {
     "name": "stdout",
     "output_type": "stream",
     "text": [
      "RP3betaRecommender: URM Detected 627 ( 4.8%) users with no interactions.\n",
      "RP3betaRecommender: URM Detected 247 ( 1.1%) items with no interactions.\n",
      "RP3betaRecommender: Similarity column 22347 (100.0%), 1435.90 column/sec. Elapsed time 15.56 sec\n",
      "EvaluatorHoldout: Processed 10456 (100.0%) in 9.33 sec. Users per second: 1120\n"
     ]
    },
    {
     "name": "stderr",
     "output_type": "stream",
     "text": [
      "[I 2023-12-24 18:34:23,824] Trial 376 finished with value: 0.2557010374722341 and parameters: {'alpha': 0.19182597840094684, 'beta': 0.26265384772609895, 'topK': 541}. Best is trial 202 with value: 0.2752977069192318.\n"
     ]
    },
    {
     "name": "stdout",
     "output_type": "stream",
     "text": [
      "RP3betaRecommender: URM Detected 627 ( 4.8%) users with no interactions.\n",
      "RP3betaRecommender: URM Detected 247 ( 1.1%) items with no interactions.\n",
      "RP3betaRecommender: Similarity column 22347 (100.0%), 2088.49 column/sec. Elapsed time 10.70 sec\n",
      "EvaluatorHoldout: Processed 10456 (100.0%) in 7.64 sec. Users per second: 1369\n"
     ]
    },
    {
     "name": "stderr",
     "output_type": "stream",
     "text": [
      "[I 2023-12-24 18:34:47,292] Trial 377 finished with value: 0.2691833299666705 and parameters: {'alpha': 0.041580237733575956, 'beta': 0.18084881087514598, 'topK': 280}. Best is trial 202 with value: 0.2752977069192318.\n"
     ]
    },
    {
     "name": "stdout",
     "output_type": "stream",
     "text": [
      "RP3betaRecommender: URM Detected 627 ( 4.8%) users with no interactions.\n",
      "RP3betaRecommender: URM Detected 247 ( 1.1%) items with no interactions.\n",
      "RP3betaRecommender: Similarity column 22347 (100.0%), 3647.15 column/sec. Elapsed time 6.13 sec\n",
      "EvaluatorHoldout: Processed 10456 (100.0%) in 6.32 sec. Users per second: 1654\n"
     ]
    },
    {
     "name": "stderr",
     "output_type": "stream",
     "text": [
      "[I 2023-12-24 18:35:01,117] Trial 378 finished with value: 0.24801346693920742 and parameters: {'alpha': 0.4782326178928786, 'beta': 0.09052971881122379, 'topK': 66}. Best is trial 202 with value: 0.2752977069192318.\n"
     ]
    },
    {
     "name": "stdout",
     "output_type": "stream",
     "text": [
      "RP3betaRecommender: URM Detected 627 ( 4.8%) users with no interactions.\n",
      "RP3betaRecommender: URM Detected 247 ( 1.1%) items with no interactions.\n",
      "RP3betaRecommender: Similarity column 22347 (100.0%), 2996.50 column/sec. Elapsed time 7.46 sec\n",
      "EvaluatorHoldout: Processed 10456 (100.0%) in 7.42 sec. Users per second: 1409\n"
     ]
    },
    {
     "name": "stderr",
     "output_type": "stream",
     "text": [
      "[I 2023-12-24 18:35:18,936] Trial 379 finished with value: 0.2684729134668959 and parameters: {'alpha': 0.1199905590739841, 'beta': 0.3325017122845492, 'topK': 127}. Best is trial 202 with value: 0.2752977069192318.\n"
     ]
    },
    {
     "name": "stdout",
     "output_type": "stream",
     "text": [
      "RP3betaRecommender: URM Detected 627 ( 4.8%) users with no interactions.\n",
      "RP3betaRecommender: URM Detected 247 ( 1.1%) items with no interactions.\n",
      "RP3betaRecommender: Similarity column 22347 (100.0%), 2692.26 column/sec. Elapsed time 8.30 sec\n",
      "EvaluatorHoldout: Processed 10456 (100.0%) in 6.69 sec. Users per second: 1563\n"
     ]
    },
    {
     "name": "stderr",
     "output_type": "stream",
     "text": [
      "[I 2023-12-24 18:35:36,778] Trial 380 finished with value: 0.2717793816749724 and parameters: {'alpha': 0.2918413338988811, 'beta': 0.1309565425244968, 'topK': 159}. Best is trial 202 with value: 0.2752977069192318.\n"
     ]
    },
    {
     "name": "stdout",
     "output_type": "stream",
     "text": [
      "RP3betaRecommender: URM Detected 627 ( 4.8%) users with no interactions.\n",
      "RP3betaRecommender: URM Detected 247 ( 1.1%) items with no interactions.\n",
      "RP3betaRecommender: Similarity column 22347 (100.0%), 2419.68 column/sec. Elapsed time 9.24 sec\n",
      "EvaluatorHoldout: Processed 10456 (100.0%) in 7.68 sec. Users per second: 1361\n"
     ]
    },
    {
     "name": "stderr",
     "output_type": "stream",
     "text": [
      "[I 2023-12-24 18:35:57,659] Trial 381 finished with value: 0.2695868540985702 and parameters: {'alpha': 0.007984840284096306, 'beta': 0.21181843627588515, 'topK': 206}. Best is trial 202 with value: 0.2752977069192318.\n"
     ]
    },
    {
     "name": "stdout",
     "output_type": "stream",
     "text": [
      "RP3betaRecommender: URM Detected 627 ( 4.8%) users with no interactions.\n",
      "RP3betaRecommender: URM Detected 247 ( 1.1%) items with no interactions.\n",
      "RP3betaRecommender: Similarity column 22347 (100.0%), 3168.12 column/sec. Elapsed time 7.05 sec\n",
      "EvaluatorHoldout: Processed 10456 (100.0%) in 6.80 sec. Users per second: 1537\n"
     ]
    },
    {
     "name": "stderr",
     "output_type": "stream",
     "text": [
      "[I 2023-12-24 18:36:13,761] Trial 382 finished with value: 0.2693899285333193 and parameters: {'alpha': 0.018680891465948157, 'beta': 0.25602664459444596, 'topK': 97}. Best is trial 202 with value: 0.2752977069192318.\n"
     ]
    },
    {
     "name": "stdout",
     "output_type": "stream",
     "text": [
      "RP3betaRecommender: URM Detected 627 ( 4.8%) users with no interactions.\n",
      "RP3betaRecommender: URM Detected 247 ( 1.1%) items with no interactions.\n",
      "RP3betaRecommender: Similarity column 22347 (100.0%), 2193.54 column/sec. Elapsed time 10.19 sec\n",
      "EvaluatorHoldout: Processed 10456 (100.0%) in 7.52 sec. Users per second: 1391\n"
     ]
    },
    {
     "name": "stderr",
     "output_type": "stream",
     "text": [
      "[I 2023-12-24 18:36:35,897] Trial 383 finished with value: 0.27351108992577755 and parameters: {'alpha': 0.21444908064762938, 'beta': 0.1701909814185483, 'topK': 243}. Best is trial 202 with value: 0.2752977069192318.\n"
     ]
    },
    {
     "name": "stdout",
     "output_type": "stream",
     "text": [
      "RP3betaRecommender: URM Detected 627 ( 4.8%) users with no interactions.\n",
      "RP3betaRecommender: URM Detected 247 ( 1.1%) items with no interactions.\n",
      "RP3betaRecommender: Similarity column 22347 (100.0%), 2504.01 column/sec. Elapsed time 8.92 sec\n",
      "EvaluatorHoldout: Processed 10456 (100.0%) in 6.86 sec. Users per second: 1523\n"
     ]
    },
    {
     "name": "stderr",
     "output_type": "stream",
     "text": [
      "[I 2023-12-24 18:36:54,829] Trial 384 finished with value: 0.2707168357388513 and parameters: {'alpha': 0.40756090086621555, 'beta': 0.11044259778366003, 'topK': 188}. Best is trial 202 with value: 0.2752977069192318.\n"
     ]
    },
    {
     "name": "stdout",
     "output_type": "stream",
     "text": [
      "RP3betaRecommender: URM Detected 627 ( 4.8%) users with no interactions.\n",
      "RP3betaRecommender: URM Detected 247 ( 1.1%) items with no interactions.\n",
      "RP3betaRecommender: Similarity column 22347 (100.0%), 2342.15 column/sec. Elapsed time 9.54 sec\n",
      "EvaluatorHoldout: Processed 10456 (100.0%) in 8.03 sec. Users per second: 1302\n"
     ]
    },
    {
     "name": "stderr",
     "output_type": "stream",
     "text": [
      "[I 2023-12-24 18:37:17,054] Trial 385 finished with value: 0.006307834928570313 and parameters: {'alpha': 1.3547496640741137, 'beta': 2.522911744739087, 'topK': 222}. Best is trial 202 with value: 0.2752977069192318.\n"
     ]
    },
    {
     "name": "stdout",
     "output_type": "stream",
     "text": [
      "RP3betaRecommender: URM Detected 627 ( 4.8%) users with no interactions.\n",
      "RP3betaRecommender: URM Detected 247 ( 1.1%) items with no interactions.\n",
      "RP3betaRecommender: Similarity column 22347 (100.0%), 2781.24 column/sec. Elapsed time 8.03 sec\n",
      "EvaluatorHoldout: Processed 10456 (100.0%) in 7.58 sec. Users per second: 1380\n"
     ]
    },
    {
     "name": "stderr",
     "output_type": "stream",
     "text": [
      "[I 2023-12-24 18:37:36,068] Trial 386 finished with value: 0.004202571460622831 and parameters: {'alpha': 7.311755991175543, 'beta': 9.953405964470013, 'topK': 152}. Best is trial 202 with value: 0.2752977069192318.\n"
     ]
    },
    {
     "name": "stdout",
     "output_type": "stream",
     "text": [
      "RP3betaRecommender: URM Detected 627 ( 4.8%) users with no interactions.\n",
      "RP3betaRecommender: URM Detected 247 ( 1.1%) items with no interactions.\n",
      "RP3betaRecommender: Similarity column 22347 (100.0%), 1898.21 column/sec. Elapsed time 11.77 sec\n",
      "EvaluatorHoldout: Processed 10456 (100.0%) in 8.99 sec. Users per second: 1163\n"
     ]
    },
    {
     "name": "stderr",
     "output_type": "stream",
     "text": [
      "[I 2023-12-24 18:38:03,042] Trial 387 finished with value: 0.2459741616465134 and parameters: {'alpha': 0.6993742238721331, 'beta': 0.4603659997543262, 'topK': 325}. Best is trial 202 with value: 0.2752977069192318.\n"
     ]
    },
    {
     "name": "stdout",
     "output_type": "stream",
     "text": [
      "RP3betaRecommender: URM Detected 627 ( 4.8%) users with no interactions.\n",
      "RP3betaRecommender: URM Detected 247 ( 1.1%) items with no interactions.\n",
      "RP3betaRecommender: Similarity column 22347 (100.0%), 3144.88 column/sec. Elapsed time 7.11 sec\n",
      "EvaluatorHoldout: Processed 10456 (100.0%) in 7.25 sec. Users per second: 1442\n"
     ]
    },
    {
     "name": "stderr",
     "output_type": "stream",
     "text": [
      "[I 2023-12-24 18:38:20,098] Trial 388 finished with value: 0.2713456346874113 and parameters: {'alpha': 0.267369658984293, 'beta': 0.32565348696822044, 'topK': 112}. Best is trial 202 with value: 0.2752977069192318.\n"
     ]
    },
    {
     "name": "stdout",
     "output_type": "stream",
     "text": [
      "RP3betaRecommender: URM Detected 627 ( 4.8%) users with no interactions.\n",
      "RP3betaRecommender: URM Detected 247 ( 1.1%) items with no interactions.\n",
      "RP3betaRecommender: Similarity column 22347 (100.0%), 2610.35 column/sec. Elapsed time 8.56 sec\n",
      "EvaluatorHoldout: Processed 10456 (100.0%) in 6.55 sec. Users per second: 1596\n"
     ]
    },
    {
     "name": "stderr",
     "output_type": "stream",
     "text": [
      "[I 2023-12-24 18:38:37,916] Trial 389 finished with value: 0.25448282189911764 and parameters: {'alpha': 0.05881747456530095, 'beta': 0.013041401697169108, 'topK': 172}. Best is trial 202 with value: 0.2752977069192318.\n"
     ]
    },
    {
     "name": "stdout",
     "output_type": "stream",
     "text": [
      "RP3betaRecommender: URM Detected 627 ( 4.8%) users with no interactions.\n",
      "RP3betaRecommender: URM Detected 247 ( 1.1%) items with no interactions.\n",
      "RP3betaRecommender: Similarity column 22347 (100.0%), 1106.20 column/sec. Elapsed time 20.20 sec\n",
      "EvaluatorHoldout: Processed 10456 (100.0%) in 12.09 sec. Users per second: 865\n"
     ]
    },
    {
     "name": "stderr",
     "output_type": "stream",
     "text": [
      "[I 2023-12-24 18:39:23,625] Trial 390 finished with value: 0.035389251867626884 and parameters: {'alpha': 0.16045631154484458, 'beta': 0.8671718286196333, 'topK': 925}. Best is trial 202 with value: 0.2752977069192318.\n"
     ]
    },
    {
     "name": "stdout",
     "output_type": "stream",
     "text": [
      "RP3betaRecommender: URM Detected 627 ( 4.8%) users with no interactions.\n",
      "RP3betaRecommender: URM Detected 247 ( 1.1%) items with no interactions.\n",
      "RP3betaRecommender: Similarity column 22347 (100.0%), 2159.94 column/sec. Elapsed time 10.35 sec\n",
      "EvaluatorHoldout: Processed 10456 (100.0%) in 7.75 sec. Users per second: 1349\n"
     ]
    },
    {
     "name": "stderr",
     "output_type": "stream",
     "text": [
      "[I 2023-12-24 18:39:46,313] Trial 391 finished with value: 0.27396299753420833 and parameters: {'alpha': 0.35226907803412716, 'beta': 0.21036771991654318, 'topK': 252}. Best is trial 202 with value: 0.2752977069192318.\n"
     ]
    },
    {
     "name": "stdout",
     "output_type": "stream",
     "text": [
      "RP3betaRecommender: URM Detected 627 ( 4.8%) users with no interactions.\n",
      "RP3betaRecommender: URM Detected 247 ( 1.1%) items with no interactions.\n",
      "RP3betaRecommender: Similarity column 22347 (100.0%), 2058.13 column/sec. Elapsed time 10.86 sec\n",
      "EvaluatorHoldout: Processed 10456 (100.0%) in 8.14 sec. Users per second: 1285\n"
     ]
    },
    {
     "name": "stderr",
     "output_type": "stream",
     "text": [
      "[I 2023-12-24 18:40:10,654] Trial 392 finished with value: 0.2687873233710712 and parameters: {'alpha': 0.22794717838161724, 'beta': 0.24377424711625795, 'topK': 281}. Best is trial 202 with value: 0.2752977069192318.\n"
     ]
    },
    {
     "name": "stdout",
     "output_type": "stream",
     "text": [
      "RP3betaRecommender: URM Detected 627 ( 4.8%) users with no interactions.\n",
      "RP3betaRecommender: URM Detected 247 ( 1.1%) items with no interactions.\n",
      "RP3betaRecommender: Similarity column 22347 (100.0%), 1703.58 column/sec. Elapsed time 13.12 sec\n",
      "EvaluatorHoldout: Processed 10456 (100.0%) in 8.65 sec. Users per second: 1208\n"
     ]
    },
    {
     "name": "stderr",
     "output_type": "stream",
     "text": [
      "[I 2023-12-24 18:40:38,686] Trial 393 finished with value: 0.2675360462968878 and parameters: {'alpha': 0.5341375029884107, 'beta': 0.20219411695380698, 'topK': 389}. Best is trial 202 with value: 0.2752977069192318.\n"
     ]
    },
    {
     "name": "stdout",
     "output_type": "stream",
     "text": [
      "RP3betaRecommender: URM Detected 627 ( 4.8%) users with no interactions.\n",
      "RP3betaRecommender: URM Detected 247 ( 1.1%) items with no interactions.\n",
      "RP3betaRecommender: Similarity column 22347 (100.0%), 2934.46 column/sec. Elapsed time 7.62 sec\n",
      "EvaluatorHoldout: Processed 10456 (100.0%) in 7.43 sec. Users per second: 1406\n"
     ]
    },
    {
     "name": "stderr",
     "output_type": "stream",
     "text": [
      "[I 2023-12-24 18:40:56,748] Trial 394 finished with value: 0.2602948427757915 and parameters: {'alpha': 0.0003401564706934078, 'beta': 0.37161449872751334, 'topK': 136}. Best is trial 202 with value: 0.2752977069192318.\n"
     ]
    },
    {
     "name": "stdout",
     "output_type": "stream",
     "text": [
      "RP3betaRecommender: URM Detected 627 ( 4.8%) users with no interactions.\n",
      "RP3betaRecommender: URM Detected 247 ( 1.1%) items with no interactions.\n",
      "RP3betaRecommender: Similarity column 22347 (100.0%), 2184.25 column/sec. Elapsed time 10.23 sec\n",
      "EvaluatorHoldout: Processed 10456 (100.0%) in 6.61 sec. Users per second: 1583\n"
     ]
    },
    {
     "name": "stderr",
     "output_type": "stream",
     "text": [
      "[I 2023-12-24 18:41:17,427] Trial 395 finished with value: 0.2585203833805989 and parameters: {'alpha': 0.006813033074633931, 'beta': 0.0015532855226892271, 'topK': 250}. Best is trial 202 with value: 0.2752977069192318.\n"
     ]
    },
    {
     "name": "stdout",
     "output_type": "stream",
     "text": [
      "RP3betaRecommender: URM Detected 627 ( 4.8%) users with no interactions.\n",
      "RP3betaRecommender: URM Detected 247 ( 1.1%) items with no interactions.\n",
      "RP3betaRecommender: Similarity column 22347 (100.0%), 2366.69 column/sec. Elapsed time 9.44 sec\n",
      "EvaluatorHoldout: Processed 10456 (100.0%) in 6.79 sec. Users per second: 1539\n"
     ]
    },
    {
     "name": "stderr",
     "output_type": "stream",
     "text": [
      "[I 2023-12-24 18:41:36,748] Trial 396 finished with value: 0.26232657585905245 and parameters: {'alpha': 0.3364388683198318, 'beta': 0.0022301378311209877, 'topK': 200}. Best is trial 202 with value: 0.2752977069192318.\n"
     ]
    },
    {
     "name": "stdout",
     "output_type": "stream",
     "text": [
      "RP3betaRecommender: URM Detected 627 ( 4.8%) users with no interactions.\n",
      "RP3betaRecommender: URM Detected 247 ( 1.1%) items with no interactions.\n",
      "RP3betaRecommender: Similarity column 22347 (100.0%), 2608.22 column/sec. Elapsed time 8.57 sec\n",
      "EvaluatorHoldout: Processed 10456 (100.0%) in 7.81 sec. Users per second: 1339\n"
     ]
    },
    {
     "name": "stderr",
     "output_type": "stream",
     "text": [
      "[I 2023-12-24 18:41:56,997] Trial 397 finished with value: 0.22860380907302352 and parameters: {'alpha': 0.18558152391000024, 'beta': 0.5546256542880139, 'topK': 178}. Best is trial 202 with value: 0.2752977069192318.\n"
     ]
    },
    {
     "name": "stdout",
     "output_type": "stream",
     "text": [
      "RP3betaRecommender: URM Detected 627 ( 4.8%) users with no interactions.\n",
      "RP3betaRecommender: URM Detected 247 ( 1.1%) items with no interactions.\n",
      "RP3betaRecommender: Similarity column 22347 (100.0%), 3412.75 column/sec. Elapsed time 6.55 sec\n",
      "EvaluatorHoldout: Processed 10456 (100.0%) in 6.99 sec. Users per second: 1495\n"
     ]
    },
    {
     "name": "stderr",
     "output_type": "stream",
     "text": [
      "[I 2023-12-24 18:42:12,618] Trial 398 finished with value: 0.2706947953867397 and parameters: {'alpha': 0.11972500608595396, 'beta': 0.28900720123865364, 'topK': 86}. Best is trial 202 with value: 0.2752977069192318.\n"
     ]
    },
    {
     "name": "stdout",
     "output_type": "stream",
     "text": [
      "RP3betaRecommender: URM Detected 627 ( 4.8%) users with no interactions.\n",
      "RP3betaRecommender: URM Detected 247 ( 1.1%) items with no interactions.\n",
      "RP3betaRecommender: Similarity column 22347 (100.0%), 2060.39 column/sec. Elapsed time 10.85 sec\n",
      "EvaluatorHoldout: Processed 10456 (100.0%) in 7.82 sec. Users per second: 1337\n"
     ]
    },
    {
     "name": "stderr",
     "output_type": "stream",
     "text": [
      "[I 2023-12-24 18:42:36,441] Trial 399 finished with value: 0.2677091689661575 and parameters: {'alpha': 8.608574256176213e-05, 'beta': 0.18705530295377992, 'topK': 288}. Best is trial 202 with value: 0.2752977069192318.\n"
     ]
    }
   ],
   "source": [
    "if config['tune_parameters_rp3']:\n",
    "    study = optuna.create_study(direction='maximize', study_name='tuning_recall_rp3',\n",
    "                                storage=f'sqlite:///{config[\"database_path\"]}', load_if_exists=True)\n",
    "    study.optimize(objective_function_rp3_recall, n_trials=200)"
   ]
  },
  {
   "cell_type": "code",
   "execution_count": 17,
   "id": "19dfb3ca",
   "metadata": {
    "execution": {
     "iopub.execute_input": "2023-12-24T18:42:36.608823Z",
     "iopub.status.busy": "2023-12-24T18:42:36.607720Z",
     "iopub.status.idle": "2023-12-24T18:42:37.771912Z",
     "shell.execute_reply": "2023-12-24T18:42:37.770538Z"
    },
    "papermill": {
     "duration": 1.240678,
     "end_time": "2023-12-24T18:42:37.775197",
     "exception": false,
     "start_time": "2023-12-24T18:42:36.534519",
     "status": "completed"
    },
    "tags": []
   },
   "outputs": [
    {
     "data": {
      "text/html": [
       "        <script type=\"text/javascript\">\n",
       "        window.PlotlyConfig = {MathJaxConfig: 'local'};\n",
       "        if (window.MathJax && window.MathJax.Hub && window.MathJax.Hub.Config) {window.MathJax.Hub.Config({SVG: {font: \"STIX-Web\"}});}\n",
       "        if (typeof require !== 'undefined') {\n",
       "        require.undef(\"plotly\");\n",
       "        requirejs.config({\n",
       "            paths: {\n",
       "                'plotly': ['https://cdn.plot.ly/plotly-2.25.2.min']\n",
       "            }\n",
       "        });\n",
       "        require(['plotly'], function(Plotly) {\n",
       "            window._Plotly = Plotly;\n",
       "        });\n",
       "        }\n",
       "        </script>\n",
       "        "
      ]
     },
     "metadata": {},
     "output_type": "display_data"
    },
    {
     "data": {
      "text/html": [
       "<div>                            <div id=\"4caf4018-51b3-491a-a19b-fae92b021acc\" class=\"plotly-graph-div\" style=\"height:525px; width:100%;\"></div>            <script type=\"text/javascript\">                require([\"plotly\"], function(Plotly) {                    window.PLOTLYENV=window.PLOTLYENV || {};                                    if (document.getElementById(\"4caf4018-51b3-491a-a19b-fae92b021acc\")) {                    Plotly.newPlot(                        \"4caf4018-51b3-491a-a19b-fae92b021acc\",                        [{\"mode\":\"markers\",\"name\":\"Objective Value\",\"x\":[0,1,2,3,4,5,6,7,8,9,10,11,12,13,14,15,16,17,18,19,20,21,22,23,24,25,26,27,28,29,30,31,32,33,34,35,36,37,38,39,40,41,42,43,44,45,46,47,48,49,50,51,52,53,54,55,56,57,58,59,60,61,62,63,64,65,66,67,68,69,70,71,72,73,74,75,76,77,78,79,80,81,82,83,84,85,86,87,88,89,90,91,92,93,94,95,96,97,98,99,100,101,102,103,104,105,106,107,108,109,110,111,112,113,114,115,116,117,118,119,120,121,122,123,124,125,126,127,128,129,130,131,132,133,134,135,136,137,138,139,140,141,142,143,144,145,146,147,148,149,150,151,152,153,154,155,156,157,158,159,160,161,162,163,164,165,166,167,168,169,170,171,172,173,174,175,176,177,178,179,180,181,182,183,184,185,186,187,188,189,190,191,192,193,194,195,196,197,198,199,200,201,202,203,204,205,206,207,208,209,210,211,212,213,214,215,216,217,218,219,220,221,222,223,224,225,226,227,228,229,230,231,232,233,234,235,236,237,238,239,240,241,242,243,244,245,246,247,248,249,250,251,252,253,254,255,256,257,258,259,260,261,262,263,264,265,266,267,268,269,270,271,272,273,274,275,276,277,278,279,280,281,282,283,284,285,286,287,288,289,290,291,292,293,294,295,296,297,298,299,300,301,302,303,304,305,306,307,308,309,310,311,312,313,314,315,316,317,318,319,320,321,322,323,324,325,326,327,328,329,330,331,332,333,334,335,336,337,338,339,340,341,342,343,344,345,346,347,348,349,350,351,352,353,354,355,356,357,358,359,360,361,362,363,364,365,366,367,368,369,370,371,372,373,374,375,376,377,378,379,380,381,382,383,384,385,386,387,388,389,390,391,392,393,394,395,396,397,398,399],\"y\":[0.14993816086161263,0.21586966064377078,0.19130844781602252,0.22874368682805554,0.16049109495960945,0.251374451087893,0.00199714835464249,0.001968179109393975,0.26022289343570026,0.008691430316592912,0.09604895073278984,0.25473372455227045,0.26064901160511655,0.2507518703784583,0.1253283193866025,0.24255838838626934,0.26108966666508304,0.23138837983867627,0.25744522130563313,0.2572721904258156,0.2576339304321951,0.2632444099498752,0.26248611185987986,0.26000591818959773,0.24430228838668736,0.2675562909292415,0.25590670226587914,0.24445927585140523,0.26226435231195894,0.16076427744900773,0.25688372133255066,0.2638156886958326,0.26653985231188015,0.2654733051589257,0.14621278910325708,0.2620478898368217,0.07382605782264842,0.26230521108470645,0.20280395530803666,0.27005581474910867,0.2719191593872371,0.26912510661533023,0.26357032650985424,0.14763233061063197,0.10886588073479975,0.23491681455371566,0.25751936750635046,0.24443123098855776,0.11100740668820719,0.018094324128781696,0.26749341201250565,0.27061647059810773,0.2669625145835277,0.2653968957395802,0.14176421505288042,0.23344553668439874,0.25031018589948656,0.2688730852742265,0.2675035194373167,0.2375652323001209,0.22099360293606204,0.2635733089886969,0.2705722766572916,0.268635500115518,0.2708736042381792,0.2523230681306911,0.2667582287874768,0.13611450173302603,0.26942100788910023,0.2696450807881814,0.2670899828675898,0.2689062466300575,0.2683732330513098,0.26807181679263586,0.26058698692462257,0.23456157580163192,0.26911390539566576,0.25812777811520277,0.2720770519758243,0.26781179395327565,0.2545935089632595,0.26840854765795646,0.27373157805915355,0.27325931952024557,0.2740069387736196,0.2638034311861509,0.27149482939949293,0.270495244490168,0.2036981920414287,0.2542771357446741,0.2517879486328337,0.2699219435039389,0.2605458851957016,0.272640616595104,0.25479619871715287,0.2678227097355728,0.26959377805043416,0.07783025383408519,0.2735744470379985,0.2742062516628943,0.24608314091546044,0.2682416062182804,0.21832396628491346,0.26886518014398614,0.26631197858689937,0.27369774918417134,0.27167263269976033,0.26975830774099946,0.27250271290313927,0.21179467153899445,0.27135884527073945,0.25880013395829365,0.2743274232476193,0.27307610804262583,0.2729411472477977,0.2703571518212503,0.02990658748996668,0.24780510503778103,0.26887613283264056,0.2577658734219474,0.2639204460981587,0.26973219769121576,0.27346119147095993,0.271001201979992,0.2745106285360145,0.2724842023283783,0.2142973707787686,0.26533763367047575,0.274060023303594,0.247916074322331,0.2654624367127568,0.26860311284463434,0.2739346561235229,0.2600346147387686,0.27113487707515294,0.2736042611658584,0.27418575127814315,0.034350410848349305,0.2706804691918141,0.24796337062969123,0.26616777744940706,0.27308993890838634,0.2740488484314991,0.25639479375235863,0.2712064835669419,0.2708123329685882,0.264990885404509,0.26652600489547684,0.19860477345971544,0.271083467936313,0.2631524457376454,0.27336919887959876,0.2743416551918499,0.2741424592353459,0.27253376260340945,0.26895647749350293,0.25372076483009703,0.26552505577594354,0.27484076465819407,0.24919349756547113,0.26320519601948433,0.27469897944361804,0.27396167048362535,0.2732899056920223,0.2694684010015787,0.26296688205303065,0.2670072930975058,0.2708481575571113,0.26932587984463285,0.2715472667431201,0.21193452636992233,0.2739746502269952,0.27352423712850776,0.26768558135329695,0.26292999164562436,0.0027233492786732758,0.2735462848474455,0.26921653707657395,0.27169570882787014,0.22887097695433517,0.26872682376076257,0.27309602286210927,0.27370005597727876,0.2703653390025789,0.27100631932791647,0.2718092407246275,0.2710544365125005,0.2736712768545009,0.26785308265547286,0.2668811624083233,0.26445561195923656,0.27318210344658894,0.2719353069762021,0.2728052615919458,0.2712895622726483,0.2670555198169002,0.27304456084982326,0.2329639783611049,0.26529534869566984,0.26847204269829433,0.27085447520659683,0.27305945703786,0.2752977069192318,0.2744158613646267,0.26192457670455555,0.27015955562151417,0.2701230624094874,0.2748912090354348,0.141917026034386,0.2309255073449818,0.26709133357126996,0.2744367803194743,0.27086850650448674,0.27056059522403436,0.273260422112147,0.27005362092717805,0.2533348339634068,0.26927080699519684,0.271633020429196,0.24592691860396837,0.21129057161106346,0.27302442316836845,0.27327013420646873,0.274025460292303,0.27060138541013956,0.15033629772099216,0.25028988026299975,0.2653027844743267,0.27123988191626125,0.08081393049865798,0.2295609426176603,0.27388090264700704,0.27437213421352574,0.27389889356568803,0.2736991463690157,0.2715686031277601,0.2733776525736841,0.26670654926418236,0.27452972747216864,0.27295422707013567,0.2697490372934664,0.2737247380311442,0.27281774247860185,0.2733090037709351,0.27000260397790615,0.273973115469953,0.27429095316364815,0.12407582220792608,0.26514517287497885,0.26282335867386625,0.26662006508602404,0.2528115441112556,0.2662273119800891,0.27187855813737344,0.20463431392293788,0.26250767021057575,0.2511690887948512,0.27223630954493905,0.26048674474086797,0.2728594563122362,0.27133723667859283,0.24497407968638726,0.27199408693603355,0.2421836521357375,0.26429252104288087,0.26889249125385317,0.26652878508409267,0.2690070669422126,0.26070331863290824,0.24942897229575292,0.2681906523893896,0.2725706330747689,0.002580010422418547,0.2598636924474841,0.262271545118731,0.266746393663297,0.2661422331609903,0.267756017030104,0.27327302686411575,0.26863026377242855,0.26327700908328033,0.08568441034094484,0.26983109384755316,0.1380701124144497,0.24347192134023624,0.2650215027117963,0.2734432358123599,0.27314968268182727,0.2662371209336721,0.26088443326251526,0.2726978574662709,0.26974037271710966,0.10554609130721293,0.2574768981653052,0.1659681323983753,0.012314796822803183,0.2639181485478641,0.21776377020984058,0.2544574183098197,0.23683613574904697,0.07704357778253416,0.26877778197491464,0.2697896684337965,0.2698109301665251,0.2585022186573553,0.26785765928193556,0.26952940880656706,0.2541429367797692,0.26228937103654804,0.2526139242518769,0.2717115000271508,0.2707074936128336,0.2747390455979445,0.27198039129461327,0.249300584286431,0.2621013964353869,0.009268359287163764,0.16226029582731563,0.18557165247589755,0.2676694877888043,0.2549899168847916,0.2593329382529482,0.08316593473250192,0.26955698128349587,0.25568703195904025,0.24715242982729968,0.26123982677864854,0.26269344931243244,0.273393761491819,0.27000289454723564,0.2526033057881731,0.23288003946996744,0.26565524586505396,0.2713298488875983,0.25770934472665874,0.05883130118769483,0.14539380517785488,0.2713162547598075,0.19472156670488783,0.27150158035709687,0.26354567833425147,0.13134879386331771,0.2664337966513404,0.09224682072114304,0.2681762372940973,0.2733229226726169,0.24272414210962026,0.21376968383951672,0.2627920164799333,0.2679737614482066,0.2585718493241796,0.2710760495500411,0.26313728238783457,0.27067534511610136,0.002135324982396735,0.24384900644985313,0.26425782697070493,0.020312207553982362,0.2710529928113827,0.25286081579232755,0.26890038883504713,0.009684077649752758,0.2739039951323002,0.24419341699849317,0.24875654552467732,0.2543082469642233,0.2703392682343967,0.26894789701857036,0.27266761027549125,0.2647170908291362,0.2723666846405416,0.2617325171312993,0.18461585366504976,0.141117546879003,0.24490803504722947,0.22764199463972407,0.2557010374722341,0.2691833299666705,0.24801346693920742,0.2684729134668959,0.2717793816749724,0.2695868540985702,0.2693899285333193,0.27351108992577755,0.2707168357388513,0.006307834928570313,0.004202571460622831,0.2459741616465134,0.2713456346874113,0.25448282189911764,0.035389251867626884,0.27396299753420833,0.2687873233710712,0.2675360462968878,0.2602948427757915,0.2585203833805989,0.26232657585905245,0.22860380907302352,0.2706947953867397,0.2677091689661575],\"type\":\"scatter\"},{\"mode\":\"lines\",\"name\":\"Best Value\",\"x\":[0,1,2,3,4,5,6,7,8,9,10,11,12,13,14,15,16,17,18,19,20,21,22,23,24,25,26,27,28,29,30,31,32,33,34,35,36,37,38,39,40,41,42,43,44,45,46,47,48,49,50,51,52,53,54,55,56,57,58,59,60,61,62,63,64,65,66,67,68,69,70,71,72,73,74,75,76,77,78,79,80,81,82,83,84,85,86,87,88,89,90,91,92,93,94,95,96,97,98,99,100,101,102,103,104,105,106,107,108,109,110,111,112,113,114,115,116,117,118,119,120,121,122,123,124,125,126,127,128,129,130,131,132,133,134,135,136,137,138,139,140,141,142,143,144,145,146,147,148,149,150,151,152,153,154,155,156,157,158,159,160,161,162,163,164,165,166,167,168,169,170,171,172,173,174,175,176,177,178,179,180,181,182,183,184,185,186,187,188,189,190,191,192,193,194,195,196,197,198,199,200,201,202,203,204,205,206,207,208,209,210,211,212,213,214,215,216,217,218,219,220,221,222,223,224,225,226,227,228,229,230,231,232,233,234,235,236,237,238,239,240,241,242,243,244,245,246,247,248,249,250,251,252,253,254,255,256,257,258,259,260,261,262,263,264,265,266,267,268,269,270,271,272,273,274,275,276,277,278,279,280,281,282,283,284,285,286,287,288,289,290,291,292,293,294,295,296,297,298,299,300,301,302,303,304,305,306,307,308,309,310,311,312,313,314,315,316,317,318,319,320,321,322,323,324,325,326,327,328,329,330,331,332,333,334,335,336,337,338,339,340,341,342,343,344,345,346,347,348,349,350,351,352,353,354,355,356,357,358,359,360,361,362,363,364,365,366,367,368,369,370,371,372,373,374,375,376,377,378,379,380,381,382,383,384,385,386,387,388,389,390,391,392,393,394,395,396,397,398,399],\"y\":[0.14993816086161263,0.21586966064377078,0.21586966064377078,0.22874368682805554,0.22874368682805554,0.251374451087893,0.251374451087893,0.251374451087893,0.26022289343570026,0.26022289343570026,0.26022289343570026,0.26022289343570026,0.26064901160511655,0.26064901160511655,0.26064901160511655,0.26064901160511655,0.26108966666508304,0.26108966666508304,0.26108966666508304,0.26108966666508304,0.26108966666508304,0.2632444099498752,0.2632444099498752,0.2632444099498752,0.2632444099498752,0.2675562909292415,0.2675562909292415,0.2675562909292415,0.2675562909292415,0.2675562909292415,0.2675562909292415,0.2675562909292415,0.2675562909292415,0.2675562909292415,0.2675562909292415,0.2675562909292415,0.2675562909292415,0.2675562909292415,0.2675562909292415,0.27005581474910867,0.2719191593872371,0.2719191593872371,0.2719191593872371,0.2719191593872371,0.2719191593872371,0.2719191593872371,0.2719191593872371,0.2719191593872371,0.2719191593872371,0.2719191593872371,0.2719191593872371,0.2719191593872371,0.2719191593872371,0.2719191593872371,0.2719191593872371,0.2719191593872371,0.2719191593872371,0.2719191593872371,0.2719191593872371,0.2719191593872371,0.2719191593872371,0.2719191593872371,0.2719191593872371,0.2719191593872371,0.2719191593872371,0.2719191593872371,0.2719191593872371,0.2719191593872371,0.2719191593872371,0.2719191593872371,0.2719191593872371,0.2719191593872371,0.2719191593872371,0.2719191593872371,0.2719191593872371,0.2719191593872371,0.2719191593872371,0.2719191593872371,0.2720770519758243,0.2720770519758243,0.2720770519758243,0.2720770519758243,0.27373157805915355,0.27373157805915355,0.2740069387736196,0.2740069387736196,0.2740069387736196,0.2740069387736196,0.2740069387736196,0.2740069387736196,0.2740069387736196,0.2740069387736196,0.2740069387736196,0.2740069387736196,0.2740069387736196,0.2740069387736196,0.2740069387736196,0.2740069387736196,0.2740069387736196,0.2742062516628943,0.2742062516628943,0.2742062516628943,0.2742062516628943,0.2742062516628943,0.2742062516628943,0.2742062516628943,0.2742062516628943,0.2742062516628943,0.2742062516628943,0.2742062516628943,0.2742062516628943,0.2742062516628943,0.2743274232476193,0.2743274232476193,0.2743274232476193,0.2743274232476193,0.2743274232476193,0.2743274232476193,0.2743274232476193,0.2743274232476193,0.2743274232476193,0.2743274232476193,0.2743274232476193,0.2743274232476193,0.2745106285360145,0.2745106285360145,0.2745106285360145,0.2745106285360145,0.2745106285360145,0.2745106285360145,0.2745106285360145,0.2745106285360145,0.2745106285360145,0.2745106285360145,0.2745106285360145,0.2745106285360145,0.2745106285360145,0.2745106285360145,0.2745106285360145,0.2745106285360145,0.2745106285360145,0.2745106285360145,0.2745106285360145,0.2745106285360145,0.2745106285360145,0.2745106285360145,0.2745106285360145,0.2745106285360145,0.2745106285360145,0.2745106285360145,0.2745106285360145,0.2745106285360145,0.2745106285360145,0.2745106285360145,0.2745106285360145,0.2745106285360145,0.2745106285360145,0.2745106285360145,0.27484076465819407,0.27484076465819407,0.27484076465819407,0.27484076465819407,0.27484076465819407,0.27484076465819407,0.27484076465819407,0.27484076465819407,0.27484076465819407,0.27484076465819407,0.27484076465819407,0.27484076465819407,0.27484076465819407,0.27484076465819407,0.27484076465819407,0.27484076465819407,0.27484076465819407,0.27484076465819407,0.27484076465819407,0.27484076465819407,0.27484076465819407,0.27484076465819407,0.27484076465819407,0.27484076465819407,0.27484076465819407,0.27484076465819407,0.27484076465819407,0.27484076465819407,0.27484076465819407,0.27484076465819407,0.27484076465819407,0.27484076465819407,0.27484076465819407,0.27484076465819407,0.27484076465819407,0.27484076465819407,0.27484076465819407,0.27484076465819407,0.27484076465819407,0.27484076465819407,0.27484076465819407,0.27484076465819407,0.27484076465819407,0.27484076465819407,0.2752977069192318,0.2752977069192318,0.2752977069192318,0.2752977069192318,0.2752977069192318,0.2752977069192318,0.2752977069192318,0.2752977069192318,0.2752977069192318,0.2752977069192318,0.2752977069192318,0.2752977069192318,0.2752977069192318,0.2752977069192318,0.2752977069192318,0.2752977069192318,0.2752977069192318,0.2752977069192318,0.2752977069192318,0.2752977069192318,0.2752977069192318,0.2752977069192318,0.2752977069192318,0.2752977069192318,0.2752977069192318,0.2752977069192318,0.2752977069192318,0.2752977069192318,0.2752977069192318,0.2752977069192318,0.2752977069192318,0.2752977069192318,0.2752977069192318,0.2752977069192318,0.2752977069192318,0.2752977069192318,0.2752977069192318,0.2752977069192318,0.2752977069192318,0.2752977069192318,0.2752977069192318,0.2752977069192318,0.2752977069192318,0.2752977069192318,0.2752977069192318,0.2752977069192318,0.2752977069192318,0.2752977069192318,0.2752977069192318,0.2752977069192318,0.2752977069192318,0.2752977069192318,0.2752977069192318,0.2752977069192318,0.2752977069192318,0.2752977069192318,0.2752977069192318,0.2752977069192318,0.2752977069192318,0.2752977069192318,0.2752977069192318,0.2752977069192318,0.2752977069192318,0.2752977069192318,0.2752977069192318,0.2752977069192318,0.2752977069192318,0.2752977069192318,0.2752977069192318,0.2752977069192318,0.2752977069192318,0.2752977069192318,0.2752977069192318,0.2752977069192318,0.2752977069192318,0.2752977069192318,0.2752977069192318,0.2752977069192318,0.2752977069192318,0.2752977069192318,0.2752977069192318,0.2752977069192318,0.2752977069192318,0.2752977069192318,0.2752977069192318,0.2752977069192318,0.2752977069192318,0.2752977069192318,0.2752977069192318,0.2752977069192318,0.2752977069192318,0.2752977069192318,0.2752977069192318,0.2752977069192318,0.2752977069192318,0.2752977069192318,0.2752977069192318,0.2752977069192318,0.2752977069192318,0.2752977069192318,0.2752977069192318,0.2752977069192318,0.2752977069192318,0.2752977069192318,0.2752977069192318,0.2752977069192318,0.2752977069192318,0.2752977069192318,0.2752977069192318,0.2752977069192318,0.2752977069192318,0.2752977069192318,0.2752977069192318,0.2752977069192318,0.2752977069192318,0.2752977069192318,0.2752977069192318,0.2752977069192318,0.2752977069192318,0.2752977069192318,0.2752977069192318,0.2752977069192318,0.2752977069192318,0.2752977069192318,0.2752977069192318,0.2752977069192318,0.2752977069192318,0.2752977069192318,0.2752977069192318,0.2752977069192318,0.2752977069192318,0.2752977069192318,0.2752977069192318,0.2752977069192318,0.2752977069192318,0.2752977069192318,0.2752977069192318,0.2752977069192318,0.2752977069192318,0.2752977069192318,0.2752977069192318,0.2752977069192318,0.2752977069192318,0.2752977069192318,0.2752977069192318,0.2752977069192318,0.2752977069192318,0.2752977069192318,0.2752977069192318,0.2752977069192318,0.2752977069192318,0.2752977069192318,0.2752977069192318,0.2752977069192318,0.2752977069192318,0.2752977069192318,0.2752977069192318,0.2752977069192318,0.2752977069192318,0.2752977069192318,0.2752977069192318,0.2752977069192318,0.2752977069192318,0.2752977069192318,0.2752977069192318,0.2752977069192318,0.2752977069192318,0.2752977069192318,0.2752977069192318,0.2752977069192318,0.2752977069192318,0.2752977069192318,0.2752977069192318,0.2752977069192318,0.2752977069192318,0.2752977069192318,0.2752977069192318,0.2752977069192318,0.2752977069192318,0.2752977069192318,0.2752977069192318,0.2752977069192318,0.2752977069192318,0.2752977069192318,0.2752977069192318,0.2752977069192318,0.2752977069192318,0.2752977069192318,0.2752977069192318,0.2752977069192318,0.2752977069192318,0.2752977069192318,0.2752977069192318,0.2752977069192318,0.2752977069192318,0.2752977069192318,0.2752977069192318,0.2752977069192318],\"type\":\"scatter\"},{\"marker\":{\"color\":\"#cccccc\"},\"mode\":\"markers\",\"name\":\"Infeasible Trial\",\"showlegend\":false,\"x\":[],\"y\":[],\"type\":\"scatter\"}],                        {\"title\":{\"text\":\"Optimization History Plot\"},\"xaxis\":{\"title\":{\"text\":\"Trial\"}},\"yaxis\":{\"title\":{\"text\":\"Objective Value\"}},\"template\":{\"data\":{\"histogram2dcontour\":[{\"type\":\"histogram2dcontour\",\"colorbar\":{\"outlinewidth\":0,\"ticks\":\"\"},\"colorscale\":[[0.0,\"#0d0887\"],[0.1111111111111111,\"#46039f\"],[0.2222222222222222,\"#7201a8\"],[0.3333333333333333,\"#9c179e\"],[0.4444444444444444,\"#bd3786\"],[0.5555555555555556,\"#d8576b\"],[0.6666666666666666,\"#ed7953\"],[0.7777777777777778,\"#fb9f3a\"],[0.8888888888888888,\"#fdca26\"],[1.0,\"#f0f921\"]]}],\"choropleth\":[{\"type\":\"choropleth\",\"colorbar\":{\"outlinewidth\":0,\"ticks\":\"\"}}],\"histogram2d\":[{\"type\":\"histogram2d\",\"colorbar\":{\"outlinewidth\":0,\"ticks\":\"\"},\"colorscale\":[[0.0,\"#0d0887\"],[0.1111111111111111,\"#46039f\"],[0.2222222222222222,\"#7201a8\"],[0.3333333333333333,\"#9c179e\"],[0.4444444444444444,\"#bd3786\"],[0.5555555555555556,\"#d8576b\"],[0.6666666666666666,\"#ed7953\"],[0.7777777777777778,\"#fb9f3a\"],[0.8888888888888888,\"#fdca26\"],[1.0,\"#f0f921\"]]}],\"heatmap\":[{\"type\":\"heatmap\",\"colorbar\":{\"outlinewidth\":0,\"ticks\":\"\"},\"colorscale\":[[0.0,\"#0d0887\"],[0.1111111111111111,\"#46039f\"],[0.2222222222222222,\"#7201a8\"],[0.3333333333333333,\"#9c179e\"],[0.4444444444444444,\"#bd3786\"],[0.5555555555555556,\"#d8576b\"],[0.6666666666666666,\"#ed7953\"],[0.7777777777777778,\"#fb9f3a\"],[0.8888888888888888,\"#fdca26\"],[1.0,\"#f0f921\"]]}],\"heatmapgl\":[{\"type\":\"heatmapgl\",\"colorbar\":{\"outlinewidth\":0,\"ticks\":\"\"},\"colorscale\":[[0.0,\"#0d0887\"],[0.1111111111111111,\"#46039f\"],[0.2222222222222222,\"#7201a8\"],[0.3333333333333333,\"#9c179e\"],[0.4444444444444444,\"#bd3786\"],[0.5555555555555556,\"#d8576b\"],[0.6666666666666666,\"#ed7953\"],[0.7777777777777778,\"#fb9f3a\"],[0.8888888888888888,\"#fdca26\"],[1.0,\"#f0f921\"]]}],\"contourcarpet\":[{\"type\":\"contourcarpet\",\"colorbar\":{\"outlinewidth\":0,\"ticks\":\"\"}}],\"contour\":[{\"type\":\"contour\",\"colorbar\":{\"outlinewidth\":0,\"ticks\":\"\"},\"colorscale\":[[0.0,\"#0d0887\"],[0.1111111111111111,\"#46039f\"],[0.2222222222222222,\"#7201a8\"],[0.3333333333333333,\"#9c179e\"],[0.4444444444444444,\"#bd3786\"],[0.5555555555555556,\"#d8576b\"],[0.6666666666666666,\"#ed7953\"],[0.7777777777777778,\"#fb9f3a\"],[0.8888888888888888,\"#fdca26\"],[1.0,\"#f0f921\"]]}],\"surface\":[{\"type\":\"surface\",\"colorbar\":{\"outlinewidth\":0,\"ticks\":\"\"},\"colorscale\":[[0.0,\"#0d0887\"],[0.1111111111111111,\"#46039f\"],[0.2222222222222222,\"#7201a8\"],[0.3333333333333333,\"#9c179e\"],[0.4444444444444444,\"#bd3786\"],[0.5555555555555556,\"#d8576b\"],[0.6666666666666666,\"#ed7953\"],[0.7777777777777778,\"#fb9f3a\"],[0.8888888888888888,\"#fdca26\"],[1.0,\"#f0f921\"]]}],\"mesh3d\":[{\"type\":\"mesh3d\",\"colorbar\":{\"outlinewidth\":0,\"ticks\":\"\"}}],\"scatter\":[{\"fillpattern\":{\"fillmode\":\"overlay\",\"size\":10,\"solidity\":0.2},\"type\":\"scatter\"}],\"parcoords\":[{\"type\":\"parcoords\",\"line\":{\"colorbar\":{\"outlinewidth\":0,\"ticks\":\"\"}}}],\"scatterpolargl\":[{\"type\":\"scatterpolargl\",\"marker\":{\"colorbar\":{\"outlinewidth\":0,\"ticks\":\"\"}}}],\"bar\":[{\"error_x\":{\"color\":\"#2a3f5f\"},\"error_y\":{\"color\":\"#2a3f5f\"},\"marker\":{\"line\":{\"color\":\"#E5ECF6\",\"width\":0.5},\"pattern\":{\"fillmode\":\"overlay\",\"size\":10,\"solidity\":0.2}},\"type\":\"bar\"}],\"scattergeo\":[{\"type\":\"scattergeo\",\"marker\":{\"colorbar\":{\"outlinewidth\":0,\"ticks\":\"\"}}}],\"scatterpolar\":[{\"type\":\"scatterpolar\",\"marker\":{\"colorbar\":{\"outlinewidth\":0,\"ticks\":\"\"}}}],\"histogram\":[{\"marker\":{\"pattern\":{\"fillmode\":\"overlay\",\"size\":10,\"solidity\":0.2}},\"type\":\"histogram\"}],\"scattergl\":[{\"type\":\"scattergl\",\"marker\":{\"colorbar\":{\"outlinewidth\":0,\"ticks\":\"\"}}}],\"scatter3d\":[{\"type\":\"scatter3d\",\"line\":{\"colorbar\":{\"outlinewidth\":0,\"ticks\":\"\"}},\"marker\":{\"colorbar\":{\"outlinewidth\":0,\"ticks\":\"\"}}}],\"scattermapbox\":[{\"type\":\"scattermapbox\",\"marker\":{\"colorbar\":{\"outlinewidth\":0,\"ticks\":\"\"}}}],\"scatterternary\":[{\"type\":\"scatterternary\",\"marker\":{\"colorbar\":{\"outlinewidth\":0,\"ticks\":\"\"}}}],\"scattercarpet\":[{\"type\":\"scattercarpet\",\"marker\":{\"colorbar\":{\"outlinewidth\":0,\"ticks\":\"\"}}}],\"carpet\":[{\"aaxis\":{\"endlinecolor\":\"#2a3f5f\",\"gridcolor\":\"white\",\"linecolor\":\"white\",\"minorgridcolor\":\"white\",\"startlinecolor\":\"#2a3f5f\"},\"baxis\":{\"endlinecolor\":\"#2a3f5f\",\"gridcolor\":\"white\",\"linecolor\":\"white\",\"minorgridcolor\":\"white\",\"startlinecolor\":\"#2a3f5f\"},\"type\":\"carpet\"}],\"table\":[{\"cells\":{\"fill\":{\"color\":\"#EBF0F8\"},\"line\":{\"color\":\"white\"}},\"header\":{\"fill\":{\"color\":\"#C8D4E3\"},\"line\":{\"color\":\"white\"}},\"type\":\"table\"}],\"barpolar\":[{\"marker\":{\"line\":{\"color\":\"#E5ECF6\",\"width\":0.5},\"pattern\":{\"fillmode\":\"overlay\",\"size\":10,\"solidity\":0.2}},\"type\":\"barpolar\"}],\"pie\":[{\"automargin\":true,\"type\":\"pie\"}]},\"layout\":{\"autotypenumbers\":\"strict\",\"colorway\":[\"#636efa\",\"#EF553B\",\"#00cc96\",\"#ab63fa\",\"#FFA15A\",\"#19d3f3\",\"#FF6692\",\"#B6E880\",\"#FF97FF\",\"#FECB52\"],\"font\":{\"color\":\"#2a3f5f\"},\"hovermode\":\"closest\",\"hoverlabel\":{\"align\":\"left\"},\"paper_bgcolor\":\"white\",\"plot_bgcolor\":\"#E5ECF6\",\"polar\":{\"bgcolor\":\"#E5ECF6\",\"angularaxis\":{\"gridcolor\":\"white\",\"linecolor\":\"white\",\"ticks\":\"\"},\"radialaxis\":{\"gridcolor\":\"white\",\"linecolor\":\"white\",\"ticks\":\"\"}},\"ternary\":{\"bgcolor\":\"#E5ECF6\",\"aaxis\":{\"gridcolor\":\"white\",\"linecolor\":\"white\",\"ticks\":\"\"},\"baxis\":{\"gridcolor\":\"white\",\"linecolor\":\"white\",\"ticks\":\"\"},\"caxis\":{\"gridcolor\":\"white\",\"linecolor\":\"white\",\"ticks\":\"\"}},\"coloraxis\":{\"colorbar\":{\"outlinewidth\":0,\"ticks\":\"\"}},\"colorscale\":{\"sequential\":[[0.0,\"#0d0887\"],[0.1111111111111111,\"#46039f\"],[0.2222222222222222,\"#7201a8\"],[0.3333333333333333,\"#9c179e\"],[0.4444444444444444,\"#bd3786\"],[0.5555555555555556,\"#d8576b\"],[0.6666666666666666,\"#ed7953\"],[0.7777777777777778,\"#fb9f3a\"],[0.8888888888888888,\"#fdca26\"],[1.0,\"#f0f921\"]],\"sequentialminus\":[[0.0,\"#0d0887\"],[0.1111111111111111,\"#46039f\"],[0.2222222222222222,\"#7201a8\"],[0.3333333333333333,\"#9c179e\"],[0.4444444444444444,\"#bd3786\"],[0.5555555555555556,\"#d8576b\"],[0.6666666666666666,\"#ed7953\"],[0.7777777777777778,\"#fb9f3a\"],[0.8888888888888888,\"#fdca26\"],[1.0,\"#f0f921\"]],\"diverging\":[[0,\"#8e0152\"],[0.1,\"#c51b7d\"],[0.2,\"#de77ae\"],[0.3,\"#f1b6da\"],[0.4,\"#fde0ef\"],[0.5,\"#f7f7f7\"],[0.6,\"#e6f5d0\"],[0.7,\"#b8e186\"],[0.8,\"#7fbc41\"],[0.9,\"#4d9221\"],[1,\"#276419\"]]},\"xaxis\":{\"gridcolor\":\"white\",\"linecolor\":\"white\",\"ticks\":\"\",\"title\":{\"standoff\":15},\"zerolinecolor\":\"white\",\"automargin\":true,\"zerolinewidth\":2},\"yaxis\":{\"gridcolor\":\"white\",\"linecolor\":\"white\",\"ticks\":\"\",\"title\":{\"standoff\":15},\"zerolinecolor\":\"white\",\"automargin\":true,\"zerolinewidth\":2},\"scene\":{\"xaxis\":{\"backgroundcolor\":\"#E5ECF6\",\"gridcolor\":\"white\",\"linecolor\":\"white\",\"showbackground\":true,\"ticks\":\"\",\"zerolinecolor\":\"white\",\"gridwidth\":2},\"yaxis\":{\"backgroundcolor\":\"#E5ECF6\",\"gridcolor\":\"white\",\"linecolor\":\"white\",\"showbackground\":true,\"ticks\":\"\",\"zerolinecolor\":\"white\",\"gridwidth\":2},\"zaxis\":{\"backgroundcolor\":\"#E5ECF6\",\"gridcolor\":\"white\",\"linecolor\":\"white\",\"showbackground\":true,\"ticks\":\"\",\"zerolinecolor\":\"white\",\"gridwidth\":2}},\"shapedefaults\":{\"line\":{\"color\":\"#2a3f5f\"}},\"annotationdefaults\":{\"arrowcolor\":\"#2a3f5f\",\"arrowhead\":0,\"arrowwidth\":1},\"geo\":{\"bgcolor\":\"white\",\"landcolor\":\"#E5ECF6\",\"subunitcolor\":\"white\",\"showland\":true,\"showlakes\":true,\"lakecolor\":\"white\"},\"title\":{\"x\":0.05},\"mapbox\":{\"style\":\"light\"}}}},                        {\"responsive\": true}                    ).then(function(){\n",
       "                            \n",
       "var gd = document.getElementById('4caf4018-51b3-491a-a19b-fae92b021acc');\n",
       "var x = new MutationObserver(function (mutations, observer) {{\n",
       "        var display = window.getComputedStyle(gd).display;\n",
       "        if (!display || display === 'none') {{\n",
       "            console.log([gd, 'removed!']);\n",
       "            Plotly.purge(gd);\n",
       "            observer.disconnect();\n",
       "        }}\n",
       "}});\n",
       "\n",
       "// Listen for the removal of the full notebook cells\n",
       "var notebookContainer = gd.closest('#notebook-container');\n",
       "if (notebookContainer) {{\n",
       "    x.observe(notebookContainer, {childList: true});\n",
       "}}\n",
       "\n",
       "// Listen for the clearing of the current output cell\n",
       "var outputEl = gd.closest('.output');\n",
       "if (outputEl) {{\n",
       "    x.observe(outputEl, {childList: true});\n",
       "}}\n",
       "\n",
       "                        })                };                });            </script>        </div>"
      ]
     },
     "metadata": {},
     "output_type": "display_data"
    }
   ],
   "source": [
    "if config['tune_parameters_rp3']:\n",
    "    fig = optuna.visualization.plot_optimization_history(study)\n",
    "    fig.show()"
   ]
  },
  {
   "cell_type": "code",
   "execution_count": 18,
   "id": "f88dcfee",
   "metadata": {
    "execution": {
     "iopub.execute_input": "2023-12-24T18:42:37.926280Z",
     "iopub.status.busy": "2023-12-24T18:42:37.925834Z",
     "iopub.status.idle": "2023-12-24T18:42:46.205000Z",
     "shell.execute_reply": "2023-12-24T18:42:46.203649Z"
    },
    "papermill": {
     "duration": 8.35462,
     "end_time": "2023-12-24T18:42:46.207352",
     "exception": false,
     "start_time": "2023-12-24T18:42:37.852732",
     "status": "completed"
    },
    "tags": []
   },
   "outputs": [
    {
     "data": {
      "text/html": [
       "<div>                            <div id=\"e8341c88-2eb2-493c-9fb1-b66d135efdb3\" class=\"plotly-graph-div\" style=\"height:525px; width:100%;\"></div>            <script type=\"text/javascript\">                require([\"plotly\"], function(Plotly) {                    window.PLOTLYENV=window.PLOTLYENV || {};                                    if (document.getElementById(\"e8341c88-2eb2-493c-9fb1-b66d135efdb3\")) {                    Plotly.newPlot(                        \"e8341c88-2eb2-493c-9fb1-b66d135efdb3\",                        [{\"cliponaxis\":false,\"hovertemplate\":[\"topK (IntDistribution): 0.006490811852820294\\u003cextra\\u003e\\u003c\\u002fextra\\u003e\",\"alpha (FloatDistribution): 0.00989192441997809\\u003cextra\\u003e\\u003c\\u002fextra\\u003e\",\"beta (FloatDistribution): 0.9836172637272016\\u003cextra\\u003e\\u003c\\u002fextra\\u003e\"],\"name\":\"Objective Value\",\"orientation\":\"h\",\"text\":[\"\\u003c0.01\",\"\\u003c0.01\",\"0.98\"],\"textposition\":\"outside\",\"x\":[0.006490811852820294,0.00989192441997809,0.9836172637272016],\"y\":[\"topK\",\"alpha\",\"beta\"],\"type\":\"bar\"}],                        {\"title\":{\"text\":\"Hyperparameter Importances\"},\"xaxis\":{\"title\":{\"text\":\"Hyperparameter Importance\"}},\"yaxis\":{\"title\":{\"text\":\"Hyperparameter\"}},\"template\":{\"data\":{\"histogram2dcontour\":[{\"type\":\"histogram2dcontour\",\"colorbar\":{\"outlinewidth\":0,\"ticks\":\"\"},\"colorscale\":[[0.0,\"#0d0887\"],[0.1111111111111111,\"#46039f\"],[0.2222222222222222,\"#7201a8\"],[0.3333333333333333,\"#9c179e\"],[0.4444444444444444,\"#bd3786\"],[0.5555555555555556,\"#d8576b\"],[0.6666666666666666,\"#ed7953\"],[0.7777777777777778,\"#fb9f3a\"],[0.8888888888888888,\"#fdca26\"],[1.0,\"#f0f921\"]]}],\"choropleth\":[{\"type\":\"choropleth\",\"colorbar\":{\"outlinewidth\":0,\"ticks\":\"\"}}],\"histogram2d\":[{\"type\":\"histogram2d\",\"colorbar\":{\"outlinewidth\":0,\"ticks\":\"\"},\"colorscale\":[[0.0,\"#0d0887\"],[0.1111111111111111,\"#46039f\"],[0.2222222222222222,\"#7201a8\"],[0.3333333333333333,\"#9c179e\"],[0.4444444444444444,\"#bd3786\"],[0.5555555555555556,\"#d8576b\"],[0.6666666666666666,\"#ed7953\"],[0.7777777777777778,\"#fb9f3a\"],[0.8888888888888888,\"#fdca26\"],[1.0,\"#f0f921\"]]}],\"heatmap\":[{\"type\":\"heatmap\",\"colorbar\":{\"outlinewidth\":0,\"ticks\":\"\"},\"colorscale\":[[0.0,\"#0d0887\"],[0.1111111111111111,\"#46039f\"],[0.2222222222222222,\"#7201a8\"],[0.3333333333333333,\"#9c179e\"],[0.4444444444444444,\"#bd3786\"],[0.5555555555555556,\"#d8576b\"],[0.6666666666666666,\"#ed7953\"],[0.7777777777777778,\"#fb9f3a\"],[0.8888888888888888,\"#fdca26\"],[1.0,\"#f0f921\"]]}],\"heatmapgl\":[{\"type\":\"heatmapgl\",\"colorbar\":{\"outlinewidth\":0,\"ticks\":\"\"},\"colorscale\":[[0.0,\"#0d0887\"],[0.1111111111111111,\"#46039f\"],[0.2222222222222222,\"#7201a8\"],[0.3333333333333333,\"#9c179e\"],[0.4444444444444444,\"#bd3786\"],[0.5555555555555556,\"#d8576b\"],[0.6666666666666666,\"#ed7953\"],[0.7777777777777778,\"#fb9f3a\"],[0.8888888888888888,\"#fdca26\"],[1.0,\"#f0f921\"]]}],\"contourcarpet\":[{\"type\":\"contourcarpet\",\"colorbar\":{\"outlinewidth\":0,\"ticks\":\"\"}}],\"contour\":[{\"type\":\"contour\",\"colorbar\":{\"outlinewidth\":0,\"ticks\":\"\"},\"colorscale\":[[0.0,\"#0d0887\"],[0.1111111111111111,\"#46039f\"],[0.2222222222222222,\"#7201a8\"],[0.3333333333333333,\"#9c179e\"],[0.4444444444444444,\"#bd3786\"],[0.5555555555555556,\"#d8576b\"],[0.6666666666666666,\"#ed7953\"],[0.7777777777777778,\"#fb9f3a\"],[0.8888888888888888,\"#fdca26\"],[1.0,\"#f0f921\"]]}],\"surface\":[{\"type\":\"surface\",\"colorbar\":{\"outlinewidth\":0,\"ticks\":\"\"},\"colorscale\":[[0.0,\"#0d0887\"],[0.1111111111111111,\"#46039f\"],[0.2222222222222222,\"#7201a8\"],[0.3333333333333333,\"#9c179e\"],[0.4444444444444444,\"#bd3786\"],[0.5555555555555556,\"#d8576b\"],[0.6666666666666666,\"#ed7953\"],[0.7777777777777778,\"#fb9f3a\"],[0.8888888888888888,\"#fdca26\"],[1.0,\"#f0f921\"]]}],\"mesh3d\":[{\"type\":\"mesh3d\",\"colorbar\":{\"outlinewidth\":0,\"ticks\":\"\"}}],\"scatter\":[{\"fillpattern\":{\"fillmode\":\"overlay\",\"size\":10,\"solidity\":0.2},\"type\":\"scatter\"}],\"parcoords\":[{\"type\":\"parcoords\",\"line\":{\"colorbar\":{\"outlinewidth\":0,\"ticks\":\"\"}}}],\"scatterpolargl\":[{\"type\":\"scatterpolargl\",\"marker\":{\"colorbar\":{\"outlinewidth\":0,\"ticks\":\"\"}}}],\"bar\":[{\"error_x\":{\"color\":\"#2a3f5f\"},\"error_y\":{\"color\":\"#2a3f5f\"},\"marker\":{\"line\":{\"color\":\"#E5ECF6\",\"width\":0.5},\"pattern\":{\"fillmode\":\"overlay\",\"size\":10,\"solidity\":0.2}},\"type\":\"bar\"}],\"scattergeo\":[{\"type\":\"scattergeo\",\"marker\":{\"colorbar\":{\"outlinewidth\":0,\"ticks\":\"\"}}}],\"scatterpolar\":[{\"type\":\"scatterpolar\",\"marker\":{\"colorbar\":{\"outlinewidth\":0,\"ticks\":\"\"}}}],\"histogram\":[{\"marker\":{\"pattern\":{\"fillmode\":\"overlay\",\"size\":10,\"solidity\":0.2}},\"type\":\"histogram\"}],\"scattergl\":[{\"type\":\"scattergl\",\"marker\":{\"colorbar\":{\"outlinewidth\":0,\"ticks\":\"\"}}}],\"scatter3d\":[{\"type\":\"scatter3d\",\"line\":{\"colorbar\":{\"outlinewidth\":0,\"ticks\":\"\"}},\"marker\":{\"colorbar\":{\"outlinewidth\":0,\"ticks\":\"\"}}}],\"scattermapbox\":[{\"type\":\"scattermapbox\",\"marker\":{\"colorbar\":{\"outlinewidth\":0,\"ticks\":\"\"}}}],\"scatterternary\":[{\"type\":\"scatterternary\",\"marker\":{\"colorbar\":{\"outlinewidth\":0,\"ticks\":\"\"}}}],\"scattercarpet\":[{\"type\":\"scattercarpet\",\"marker\":{\"colorbar\":{\"outlinewidth\":0,\"ticks\":\"\"}}}],\"carpet\":[{\"aaxis\":{\"endlinecolor\":\"#2a3f5f\",\"gridcolor\":\"white\",\"linecolor\":\"white\",\"minorgridcolor\":\"white\",\"startlinecolor\":\"#2a3f5f\"},\"baxis\":{\"endlinecolor\":\"#2a3f5f\",\"gridcolor\":\"white\",\"linecolor\":\"white\",\"minorgridcolor\":\"white\",\"startlinecolor\":\"#2a3f5f\"},\"type\":\"carpet\"}],\"table\":[{\"cells\":{\"fill\":{\"color\":\"#EBF0F8\"},\"line\":{\"color\":\"white\"}},\"header\":{\"fill\":{\"color\":\"#C8D4E3\"},\"line\":{\"color\":\"white\"}},\"type\":\"table\"}],\"barpolar\":[{\"marker\":{\"line\":{\"color\":\"#E5ECF6\",\"width\":0.5},\"pattern\":{\"fillmode\":\"overlay\",\"size\":10,\"solidity\":0.2}},\"type\":\"barpolar\"}],\"pie\":[{\"automargin\":true,\"type\":\"pie\"}]},\"layout\":{\"autotypenumbers\":\"strict\",\"colorway\":[\"#636efa\",\"#EF553B\",\"#00cc96\",\"#ab63fa\",\"#FFA15A\",\"#19d3f3\",\"#FF6692\",\"#B6E880\",\"#FF97FF\",\"#FECB52\"],\"font\":{\"color\":\"#2a3f5f\"},\"hovermode\":\"closest\",\"hoverlabel\":{\"align\":\"left\"},\"paper_bgcolor\":\"white\",\"plot_bgcolor\":\"#E5ECF6\",\"polar\":{\"bgcolor\":\"#E5ECF6\",\"angularaxis\":{\"gridcolor\":\"white\",\"linecolor\":\"white\",\"ticks\":\"\"},\"radialaxis\":{\"gridcolor\":\"white\",\"linecolor\":\"white\",\"ticks\":\"\"}},\"ternary\":{\"bgcolor\":\"#E5ECF6\",\"aaxis\":{\"gridcolor\":\"white\",\"linecolor\":\"white\",\"ticks\":\"\"},\"baxis\":{\"gridcolor\":\"white\",\"linecolor\":\"white\",\"ticks\":\"\"},\"caxis\":{\"gridcolor\":\"white\",\"linecolor\":\"white\",\"ticks\":\"\"}},\"coloraxis\":{\"colorbar\":{\"outlinewidth\":0,\"ticks\":\"\"}},\"colorscale\":{\"sequential\":[[0.0,\"#0d0887\"],[0.1111111111111111,\"#46039f\"],[0.2222222222222222,\"#7201a8\"],[0.3333333333333333,\"#9c179e\"],[0.4444444444444444,\"#bd3786\"],[0.5555555555555556,\"#d8576b\"],[0.6666666666666666,\"#ed7953\"],[0.7777777777777778,\"#fb9f3a\"],[0.8888888888888888,\"#fdca26\"],[1.0,\"#f0f921\"]],\"sequentialminus\":[[0.0,\"#0d0887\"],[0.1111111111111111,\"#46039f\"],[0.2222222222222222,\"#7201a8\"],[0.3333333333333333,\"#9c179e\"],[0.4444444444444444,\"#bd3786\"],[0.5555555555555556,\"#d8576b\"],[0.6666666666666666,\"#ed7953\"],[0.7777777777777778,\"#fb9f3a\"],[0.8888888888888888,\"#fdca26\"],[1.0,\"#f0f921\"]],\"diverging\":[[0,\"#8e0152\"],[0.1,\"#c51b7d\"],[0.2,\"#de77ae\"],[0.3,\"#f1b6da\"],[0.4,\"#fde0ef\"],[0.5,\"#f7f7f7\"],[0.6,\"#e6f5d0\"],[0.7,\"#b8e186\"],[0.8,\"#7fbc41\"],[0.9,\"#4d9221\"],[1,\"#276419\"]]},\"xaxis\":{\"gridcolor\":\"white\",\"linecolor\":\"white\",\"ticks\":\"\",\"title\":{\"standoff\":15},\"zerolinecolor\":\"white\",\"automargin\":true,\"zerolinewidth\":2},\"yaxis\":{\"gridcolor\":\"white\",\"linecolor\":\"white\",\"ticks\":\"\",\"title\":{\"standoff\":15},\"zerolinecolor\":\"white\",\"automargin\":true,\"zerolinewidth\":2},\"scene\":{\"xaxis\":{\"backgroundcolor\":\"#E5ECF6\",\"gridcolor\":\"white\",\"linecolor\":\"white\",\"showbackground\":true,\"ticks\":\"\",\"zerolinecolor\":\"white\",\"gridwidth\":2},\"yaxis\":{\"backgroundcolor\":\"#E5ECF6\",\"gridcolor\":\"white\",\"linecolor\":\"white\",\"showbackground\":true,\"ticks\":\"\",\"zerolinecolor\":\"white\",\"gridwidth\":2},\"zaxis\":{\"backgroundcolor\":\"#E5ECF6\",\"gridcolor\":\"white\",\"linecolor\":\"white\",\"showbackground\":true,\"ticks\":\"\",\"zerolinecolor\":\"white\",\"gridwidth\":2}},\"shapedefaults\":{\"line\":{\"color\":\"#2a3f5f\"}},\"annotationdefaults\":{\"arrowcolor\":\"#2a3f5f\",\"arrowhead\":0,\"arrowwidth\":1},\"geo\":{\"bgcolor\":\"white\",\"landcolor\":\"#E5ECF6\",\"subunitcolor\":\"white\",\"showland\":true,\"showlakes\":true,\"lakecolor\":\"white\"},\"title\":{\"x\":0.05},\"mapbox\":{\"style\":\"light\"}}}},                        {\"responsive\": true}                    ).then(function(){\n",
       "                            \n",
       "var gd = document.getElementById('e8341c88-2eb2-493c-9fb1-b66d135efdb3');\n",
       "var x = new MutationObserver(function (mutations, observer) {{\n",
       "        var display = window.getComputedStyle(gd).display;\n",
       "        if (!display || display === 'none') {{\n",
       "            console.log([gd, 'removed!']);\n",
       "            Plotly.purge(gd);\n",
       "            observer.disconnect();\n",
       "        }}\n",
       "}});\n",
       "\n",
       "// Listen for the removal of the full notebook cells\n",
       "var notebookContainer = gd.closest('#notebook-container');\n",
       "if (notebookContainer) {{\n",
       "    x.observe(notebookContainer, {childList: true});\n",
       "}}\n",
       "\n",
       "// Listen for the clearing of the current output cell\n",
       "var outputEl = gd.closest('.output');\n",
       "if (outputEl) {{\n",
       "    x.observe(outputEl, {childList: true});\n",
       "}}\n",
       "\n",
       "                        })                };                });            </script>        </div>"
      ]
     },
     "metadata": {},
     "output_type": "display_data"
    }
   ],
   "source": [
    "if config['tune_parameters_rp3']:\n",
    "    fig = optuna.visualization.plot_param_importances(study)\n",
    "    fig.show()"
   ]
  },
  {
   "cell_type": "code",
   "execution_count": 19,
   "id": "9017f2cf",
   "metadata": {
    "execution": {
     "iopub.execute_input": "2023-12-24T18:42:46.348512Z",
     "iopub.status.busy": "2023-12-24T18:42:46.347799Z",
     "iopub.status.idle": "2023-12-24T18:42:46.734720Z",
     "shell.execute_reply": "2023-12-24T18:42:46.733475Z"
    },
    "papermill": {
     "duration": 0.458483,
     "end_time": "2023-12-24T18:42:46.736647",
     "exception": false,
     "start_time": "2023-12-24T18:42:46.278164",
     "status": "completed"
    },
    "tags": []
   },
   "outputs": [
    {
     "data": {
      "text/html": [
       "<div>                            <div id=\"53e562ff-3f12-437d-8427-ab979c431920\" class=\"plotly-graph-div\" style=\"height:525px; width:100%;\"></div>            <script type=\"text/javascript\">                require([\"plotly\"], function(Plotly) {                    window.PLOTLYENV=window.PLOTLYENV || {};                                    if (document.getElementById(\"53e562ff-3f12-437d-8427-ab979c431920\")) {                    Plotly.newPlot(                        \"53e562ff-3f12-437d-8427-ab979c431920\",                        [{\"marker\":{\"color\":[0,1,2,3,4,5,6,7,8,9,10,11,12,13,14,15,16,17,18,19,20,21,22,23,24,25,26,27,28,29,30,31,32,33,34,35,36,37,38,39,40,41,42,43,44,45,46,47,48,49,50,51,52,53,54,55,56,57,58,59,60,61,62,63,64,65,66,67,68,69,70,71,72,73,74,75,76,77,78,79,80,81,82,83,84,85,86,87,88,89,90,91,92,93,94,95,96,97,98,99,100,101,102,103,104,105,106,107,108,109,110,111,112,113,114,115,116,117,118,119,120,121,122,123,124,125,126,127,128,129,130,131,132,133,134,135,136,137,138,139,140,141,142,143,144,145,146,147,148,149,150,151,152,153,154,155,156,157,158,159,160,161,162,163,164,165,166,167,168,169,170,171,172,173,174,175,176,177,178,179,180,181,182,183,184,185,186,187,188,189,190,191,192,193,194,195,196,197,198,199,200,201,202,203,204,205,206,207,208,209,210,211,212,213,214,215,216,217,218,219,220,221,222,223,224,225,226,227,228,229,230,231,232,233,234,235,236,237,238,239,240,241,242,243,244,245,246,247,248,249,250,251,252,253,254,255,256,257,258,259,260,261,262,263,264,265,266,267,268,269,270,271,272,273,274,275,276,277,278,279,280,281,282,283,284,285,286,287,288,289,290,291,292,293,294,295,296,297,298,299,300,301,302,303,304,305,306,307,308,309,310,311,312,313,314,315,316,317,318,319,320,321,322,323,324,325,326,327,328,329,330,331,332,333,334,335,336,337,338,339,340,341,342,343,344,345,346,347,348,349,350,351,352,353,354,355,356,357,358,359,360,361,362,363,364,365,366,367,368,369,370,371,372,373,374,375,376,377,378,379,380,381,382,383,384,385,386,387,388,389,390,391,392,393,394,395,396,397,398,399],\"colorbar\":{\"title\":{\"text\":\"Trial\"},\"x\":1.0,\"xpad\":40},\"colorscale\":[[0.0,\"rgb(247,251,255)\"],[0.125,\"rgb(222,235,247)\"],[0.25,\"rgb(198,219,239)\"],[0.375,\"rgb(158,202,225)\"],[0.5,\"rgb(107,174,214)\"],[0.625,\"rgb(66,146,198)\"],[0.75,\"rgb(33,113,181)\"],[0.875,\"rgb(8,81,156)\"],[1.0,\"rgb(8,48,107)\"]],\"line\":{\"color\":\"Grey\",\"width\":0.5},\"showscale\":true},\"mode\":\"markers\",\"name\":\"Feasible Trial\",\"showlegend\":false,\"x\":[0.00005474012892827952,0.00023527169723812285,0.0001424564371530238,0.6991452062913069,0.04739969740501702,0.000841773594153192,0.00022158446228144716,0.000018296375841798824,0.09565922007853814,0.0017123941009902297,5.3063140311507135,0.024465726185726296,0.025346831881015146,0.10076256060418279,0.006103015885391085,0.18625939641810424,0.007528338570896114,0.013714630949279227,0.00396099515575792,0.010397942707292992,0.0011738098078162647,0.04494669505545704,0.023718003249515077,0.004249684004444958,0.04460622854900407,0.40457647475743574,0.3799668837376031,0.9058169669161658,0.22976972414514035,1.5908881605757712,0.0904896373067557,0.22293391295921489,0.32723339874992363,0.36955973301029066,2.7885820051991863,0.656307623917491,9.102635528079084,0.35313625523995507,1.5393187629773475,0.5326526235483825,0.4447677203213049,0.612770150142233,0.7736000136447638,2.035846066175297,3.4883162437508317,1.1163836121137067,0.6068068142569958,0.128269151224703,4.392995483211203,1.436902221811216,0.4576812773689743,0.4865654083694756,0.5598198326255375,0.12757735329859543,2.1697988208159953,1.0355144103618965,0.45850889667161937,0.18414069978700254,0.07920019268267761,1.0758592795480606,0.17156820310286774,0.07170765172998002,0.2548341821981031,0.19101646309456735,0.2642332214619616,0.27584883442352387,0.17318960099916045,0.6838074437637138,0.1286846366104745,0.29179639596363044,0.060349883168907284,0.31828727595295325,0.11561146385736322,0.264293769650016,0.5324253026163255,0.8428982215362197,0.29613981828605856,0.13191535755071268,0.4601702059513719,0.035953276820637925,0.42266896392579445,0.675644136203528,0.24757388120086743,0.2067441988472945,0.2592947166808688,0.23099671787943526,0.4762939892863348,0.08884306477533975,1.3077378581561772,0.8745651797842066,0.3520878434445298,0.22324687683347724,0.09533489707275006,0.4067887410496011,0.8411493773865996,0.44242394803278945,0.15484218074465655,0.23077439707135122,0.37670907475021886,0.4160913125766846,0.37329882187223923,0.5496691098848109,1.2440663195281423,0.4692117605136448,0.6887452439763228,0.15232140093693472,0.14856737022140235,0.19645262712817377,0.14526153344717196,0.15619670309189793,0.07382536824141146,0.10232824074577059,0.324757249405408,0.36163741728015747,0.3545251412865365,0.33355852273239844,0.19407269331928756,0.3054050180268626,0.11650197886963368,0.06127917405066322,0.7444840789890778,0.3797452437581412,0.22858554725360244,0.21010399787366985,0.2768168890153231,0.2657631807823803,0.158375465702303,0.11430227059934069,0.33555458333519417,0.9470507845785416,0.3178716925436654,0.5994701584072761,0.2601318129163489,0.23341820978031483,0.34008387095684917,0.19795013524582997,0.18575322023696622,0.19394159766649335,0.09220168215271635,0.2559959408949821,0.17564040159721478,0.240094434574008,0.27766644708534344,0.11994360923212012,0.23074780427705585,0.5793903418174712,0.16196839974282498,0.2673822988961205,0.14272028708927556,0.5278668939575923,0.21546863276875336,0.3187080990901343,0.2886155181137004,0.31808081471968225,0.4342461751532447,0.2906064730797874,0.8054179674359443,0.6126330612227098,0.38054940038500285,0.45459126975547004,0.08144824391424851,0.33481011185141457,0.4103625550327292,0.4166958057202233,0.3230248489147973,0.6695668563714996,0.17379345516816705,0.5502922918229974,0.39723172718096444,0.2879023628594797,1.2043792866726848,0.19339391350272217,0.17284823495547913,0.12904275380964655,0.2747170583519613,0.3574646479699772,0.19003566598785607,0.42973899255688847,0.10891220298720897,0.9090581472845853,0.266469148122626,0.1975316293166404,0.19030522457154597,0.13533658822217817,0.5072853120720724,0.3200168667653958,0.24801921468657626,0.382630156318792,0.03311734064835274,0.16368637792916507,0.20407294138479182,0.3633548113104621,0.5101260271773637,0.2859121932597501,0.38978991601721835,0.6150335153096058,0.22979604744159654,0.7500789238060122,0.3401351918981124,0.04954957378992342,0.45212947578517376,0.17501739096021174,0.2139985499567939,0.23745271824759517,0.239473120420686,0.010776651616002449,0.13933023429123115,0.2890875176587205,0.2848990699836575,0.11031301916517602,0.3014037375589728,0.21853322342694437,0.016019763552825868,0.21911557573199383,0.3917912147107139,0.16215874542895684,0.25350708020254836,0.003090775456691915,0.48507147762327774,0.00026379948021830994,0.31944776995713475,0.1969684849080636,0.20729608326730906,0.266447623618947,0.2847232948685046,1.8466691121525385,0.14603210341713627,0.3905554642961515,0.27166801065082347,6.865923283419023,0.08715397519511114,0.21576001209300413,0.3424075776201633,0.23237159816339806,0.23334425348217785,0.29721644510189116,0.1873171746423186,0.4791619802483467,0.33954899791256604,0.35627163752561597,0.5914864103238688,0.27045532231874186,0.26182212495536217,0.3326385510487125,0.23330357042850688,0.3914188527699413,0.37089716395881966,2.7548469707166507,0.49110498469868774,0.4115823960379203,0.6169805435193527,0.00002368937847536807,0.37676643841991964,0.4791400333154395,0.3183509863563936,0.4023344012500581,0.6603843378122272,0.21868147178454325,0.3247892163452887,0.14604616670961384,0.2735103310301952,0.9884945191256381,0.5078703258443157,0.19242379496582357,0.3659973553014709,0.2349306961693378,0.1316326140078345,0.025474701523410234,0.6973786795352156,0.33391871160733544,0.061397477246881216,0.47945094947452316,0.15852550880961724,0.2749332107841571,0.005698260683340479,0.19096989391551533,0.4189878272102652,0.10540392890233627,0.24361610467313827,0.3240786512020144,0.5596122409315532,5.1992815318276175,0.18844130991340133,1.4631397649472193,0.7885637991016684,0.0012172485442765765,0.29947985924566195,0.41389915005504785,0.2322786241917296,0.01358149314754539,0.1631181254713285,0.3271580158570945,2.7119368003866207,0.5572898137703691,0.22601504979832196,0.11237262895542846,0.4019848869995509,0.2816157689203976,0.16532723511051636,1.0737802544247252,8.462295690263055,0.43174589210829273,0.23887820141131383,0.008012802391454816,0.688799090345573,0.3367169044320397,0.5125569523380483,0.07768678611561315,0.1301974506912135,0.046749442447286724,0.1972547754156583,0.2847233292287479,0.38204831734398903,0.39781753391239444,0.548203127179021,0.33564089050673757,0.9362111599577747,1.763741758154256,0.4461527506966128,0.26705875789512595,0.3528389659683499,0.6039485207241878,4.1351832628783365,0.17034401666649762,0.7813115871098743,0.2746500140259036,0.0000803742307717141,0.4353803068269445,0.22526197844811227,0.3579465350362086,0.019629597090270783,0.13488106667770133,0.003996079169959738,0.5106057349010311,0.2869846052735754,0.03611967364071271,0.002404672169557136,0.19799207516422404,1.262097876299208,0.3658225049340971,0.09932513222040623,2.236691255099248,0.7026094821600509,3.531257833621113,0.06329261402066465,0.239719796453244,0.1777358038933706,0.4343555668557403,0.29554056237817217,0.0006748494839190837,0.00001220915085562298,0.5471339013999597,0.14247577497669475,0.23373533998686152,0.3281975376973905,0.4581867227523635,0.19837708164082787,0.2911733180527713,0.02767003814433507,0.6308874847232626,0.012025534171739984,0.015236312136891039,0.3921998187138643,0.3912176649054837,0.7965808597442724,0.5076007432022669,0.3553860386543522,0.0894286504653701,0.2937743642444887,0.59837154042863,0.4140411582538256,0.15484349284832313,0.25049995479373666,0.9679057970589087,0.004547696464683995,0.3471833289359254,0.19182597840094684,0.041580237733575956,0.4782326178928786,0.1199905590739841,0.2918413338988811,0.007984840284096306,0.018680891465948157,0.21444908064762938,0.40756090086621555,1.3547496640741137,7.311755991175543,0.6993742238721331,0.267369658984293,0.05881747456530095,0.16045631154484458,0.35226907803412716,0.22794717838161724,0.5341375029884107,0.0003401564706934078,0.006813033074633931,0.3364388683198318,0.18558152391000024,0.11972500608595396,0.00008608574256176213],\"y\":[0.14993816086161263,0.21586966064377078,0.19130844781602252,0.22874368682805554,0.16049109495960945,0.251374451087893,0.00199714835464249,0.001968179109393975,0.26022289343570026,0.008691430316592912,0.09604895073278984,0.25473372455227045,0.26064901160511655,0.2507518703784583,0.1253283193866025,0.24255838838626934,0.26108966666508304,0.23138837983867627,0.25744522130563313,0.2572721904258156,0.2576339304321951,0.2632444099498752,0.26248611185987986,0.26000591818959773,0.24430228838668736,0.2675562909292415,0.25590670226587914,0.24445927585140523,0.26226435231195894,0.16076427744900773,0.25688372133255066,0.2638156886958326,0.26653985231188015,0.2654733051589257,0.14621278910325708,0.2620478898368217,0.07382605782264842,0.26230521108470645,0.20280395530803666,0.27005581474910867,0.2719191593872371,0.26912510661533023,0.26357032650985424,0.14763233061063197,0.10886588073479975,0.23491681455371566,0.25751936750635046,0.24443123098855776,0.11100740668820719,0.018094324128781696,0.26749341201250565,0.27061647059810773,0.2669625145835277,0.2653968957395802,0.14176421505288042,0.23344553668439874,0.25031018589948656,0.2688730852742265,0.2675035194373167,0.2375652323001209,0.22099360293606204,0.2635733089886969,0.2705722766572916,0.268635500115518,0.2708736042381792,0.2523230681306911,0.2667582287874768,0.13611450173302603,0.26942100788910023,0.2696450807881814,0.2670899828675898,0.2689062466300575,0.2683732330513098,0.26807181679263586,0.26058698692462257,0.23456157580163192,0.26911390539566576,0.25812777811520277,0.2720770519758243,0.26781179395327565,0.2545935089632595,0.26840854765795646,0.27373157805915355,0.27325931952024557,0.2740069387736196,0.2638034311861509,0.27149482939949293,0.270495244490168,0.2036981920414287,0.2542771357446741,0.2517879486328337,0.2699219435039389,0.2605458851957016,0.272640616595104,0.25479619871715287,0.2678227097355728,0.26959377805043416,0.07783025383408519,0.2735744470379985,0.2742062516628943,0.24608314091546044,0.2682416062182804,0.21832396628491346,0.26886518014398614,0.26631197858689937,0.27369774918417134,0.27167263269976033,0.26975830774099946,0.27250271290313927,0.21179467153899445,0.27135884527073945,0.25880013395829365,0.2743274232476193,0.27307610804262583,0.2729411472477977,0.2703571518212503,0.02990658748996668,0.24780510503778103,0.26887613283264056,0.2577658734219474,0.2639204460981587,0.26973219769121576,0.27346119147095993,0.271001201979992,0.2745106285360145,0.2724842023283783,0.2142973707787686,0.26533763367047575,0.274060023303594,0.247916074322331,0.2654624367127568,0.26860311284463434,0.2739346561235229,0.2600346147387686,0.27113487707515294,0.2736042611658584,0.27418575127814315,0.034350410848349305,0.2706804691918141,0.24796337062969123,0.26616777744940706,0.27308993890838634,0.2740488484314991,0.25639479375235863,0.2712064835669419,0.2708123329685882,0.264990885404509,0.26652600489547684,0.19860477345971544,0.271083467936313,0.2631524457376454,0.27336919887959876,0.2743416551918499,0.2741424592353459,0.27253376260340945,0.26895647749350293,0.25372076483009703,0.26552505577594354,0.27484076465819407,0.24919349756547113,0.26320519601948433,0.27469897944361804,0.27396167048362535,0.2732899056920223,0.2694684010015787,0.26296688205303065,0.2670072930975058,0.2708481575571113,0.26932587984463285,0.2715472667431201,0.21193452636992233,0.2739746502269952,0.27352423712850776,0.26768558135329695,0.26292999164562436,0.0027233492786732758,0.2735462848474455,0.26921653707657395,0.27169570882787014,0.22887097695433517,0.26872682376076257,0.27309602286210927,0.27370005597727876,0.2703653390025789,0.27100631932791647,0.2718092407246275,0.2710544365125005,0.2736712768545009,0.26785308265547286,0.2668811624083233,0.26445561195923656,0.27318210344658894,0.2719353069762021,0.2728052615919458,0.2712895622726483,0.2670555198169002,0.27304456084982326,0.2329639783611049,0.26529534869566984,0.26847204269829433,0.27085447520659683,0.27305945703786,0.2752977069192318,0.2744158613646267,0.26192457670455555,0.27015955562151417,0.2701230624094874,0.2748912090354348,0.141917026034386,0.2309255073449818,0.26709133357126996,0.2744367803194743,0.27086850650448674,0.27056059522403436,0.273260422112147,0.27005362092717805,0.2533348339634068,0.26927080699519684,0.271633020429196,0.24592691860396837,0.21129057161106346,0.27302442316836845,0.27327013420646873,0.274025460292303,0.27060138541013956,0.15033629772099216,0.25028988026299975,0.2653027844743267,0.27123988191626125,0.08081393049865798,0.2295609426176603,0.27388090264700704,0.27437213421352574,0.27389889356568803,0.2736991463690157,0.2715686031277601,0.2733776525736841,0.26670654926418236,0.27452972747216864,0.27295422707013567,0.2697490372934664,0.2737247380311442,0.27281774247860185,0.2733090037709351,0.27000260397790615,0.273973115469953,0.27429095316364815,0.12407582220792608,0.26514517287497885,0.26282335867386625,0.26662006508602404,0.2528115441112556,0.2662273119800891,0.27187855813737344,0.20463431392293788,0.26250767021057575,0.2511690887948512,0.27223630954493905,0.26048674474086797,0.2728594563122362,0.27133723667859283,0.24497407968638726,0.27199408693603355,0.2421836521357375,0.26429252104288087,0.26889249125385317,0.26652878508409267,0.2690070669422126,0.26070331863290824,0.24942897229575292,0.2681906523893896,0.2725706330747689,0.002580010422418547,0.2598636924474841,0.262271545118731,0.266746393663297,0.2661422331609903,0.267756017030104,0.27327302686411575,0.26863026377242855,0.26327700908328033,0.08568441034094484,0.26983109384755316,0.1380701124144497,0.24347192134023624,0.2650215027117963,0.2734432358123599,0.27314968268182727,0.2662371209336721,0.26088443326251526,0.2726978574662709,0.26974037271710966,0.10554609130721293,0.2574768981653052,0.1659681323983753,0.012314796822803183,0.2639181485478641,0.21776377020984058,0.2544574183098197,0.23683613574904697,0.07704357778253416,0.26877778197491464,0.2697896684337965,0.2698109301665251,0.2585022186573553,0.26785765928193556,0.26952940880656706,0.2541429367797692,0.26228937103654804,0.2526139242518769,0.2717115000271508,0.2707074936128336,0.2747390455979445,0.27198039129461327,0.249300584286431,0.2621013964353869,0.009268359287163764,0.16226029582731563,0.18557165247589755,0.2676694877888043,0.2549899168847916,0.2593329382529482,0.08316593473250192,0.26955698128349587,0.25568703195904025,0.24715242982729968,0.26123982677864854,0.26269344931243244,0.273393761491819,0.27000289454723564,0.2526033057881731,0.23288003946996744,0.26565524586505396,0.2713298488875983,0.25770934472665874,0.05883130118769483,0.14539380517785488,0.2713162547598075,0.19472156670488783,0.27150158035709687,0.26354567833425147,0.13134879386331771,0.2664337966513404,0.09224682072114304,0.2681762372940973,0.2733229226726169,0.24272414210962026,0.21376968383951672,0.2627920164799333,0.2679737614482066,0.2585718493241796,0.2710760495500411,0.26313728238783457,0.27067534511610136,0.002135324982396735,0.24384900644985313,0.26425782697070493,0.020312207553982362,0.2710529928113827,0.25286081579232755,0.26890038883504713,0.009684077649752758,0.2739039951323002,0.24419341699849317,0.24875654552467732,0.2543082469642233,0.2703392682343967,0.26894789701857036,0.27266761027549125,0.2647170908291362,0.2723666846405416,0.2617325171312993,0.18461585366504976,0.141117546879003,0.24490803504722947,0.22764199463972407,0.2557010374722341,0.2691833299666705,0.24801346693920742,0.2684729134668959,0.2717793816749724,0.2695868540985702,0.2693899285333193,0.27351108992577755,0.2707168357388513,0.006307834928570313,0.004202571460622831,0.2459741616465134,0.2713456346874113,0.25448282189911764,0.035389251867626884,0.27396299753420833,0.2687873233710712,0.2675360462968878,0.2602948427757915,0.2585203833805989,0.26232657585905245,0.22860380907302352,0.2706947953867397,0.2677091689661575],\"type\":\"scatter\",\"xaxis\":\"x\",\"yaxis\":\"y\"},{\"marker\":{\"color\":[0,1,2,3,4,5,6,7,8,9,10,11,12,13,14,15,16,17,18,19,20,21,22,23,24,25,26,27,28,29,30,31,32,33,34,35,36,37,38,39,40,41,42,43,44,45,46,47,48,49,50,51,52,53,54,55,56,57,58,59,60,61,62,63,64,65,66,67,68,69,70,71,72,73,74,75,76,77,78,79,80,81,82,83,84,85,86,87,88,89,90,91,92,93,94,95,96,97,98,99,100,101,102,103,104,105,106,107,108,109,110,111,112,113,114,115,116,117,118,119,120,121,122,123,124,125,126,127,128,129,130,131,132,133,134,135,136,137,138,139,140,141,142,143,144,145,146,147,148,149,150,151,152,153,154,155,156,157,158,159,160,161,162,163,164,165,166,167,168,169,170,171,172,173,174,175,176,177,178,179,180,181,182,183,184,185,186,187,188,189,190,191,192,193,194,195,196,197,198,199,200,201,202,203,204,205,206,207,208,209,210,211,212,213,214,215,216,217,218,219,220,221,222,223,224,225,226,227,228,229,230,231,232,233,234,235,236,237,238,239,240,241,242,243,244,245,246,247,248,249,250,251,252,253,254,255,256,257,258,259,260,261,262,263,264,265,266,267,268,269,270,271,272,273,274,275,276,277,278,279,280,281,282,283,284,285,286,287,288,289,290,291,292,293,294,295,296,297,298,299,300,301,302,303,304,305,306,307,308,309,310,311,312,313,314,315,316,317,318,319,320,321,322,323,324,325,326,327,328,329,330,331,332,333,334,335,336,337,338,339,340,341,342,343,344,345,346,347,348,349,350,351,352,353,354,355,356,357,358,359,360,361,362,363,364,365,366,367,368,369,370,371,372,373,374,375,376,377,378,379,380,381,382,383,384,385,386,387,388,389,390,391,392,393,394,395,396,397,398,399],\"colorbar\":{\"title\":{\"text\":\"Trial\"},\"x\":1.0,\"xpad\":40},\"colorscale\":[[0.0,\"rgb(247,251,255)\"],[0.125,\"rgb(222,235,247)\"],[0.25,\"rgb(198,219,239)\"],[0.375,\"rgb(158,202,225)\"],[0.5,\"rgb(107,174,214)\"],[0.625,\"rgb(66,146,198)\"],[0.75,\"rgb(33,113,181)\"],[0.875,\"rgb(8,81,156)\"],[1.0,\"rgb(8,48,107)\"]],\"line\":{\"color\":\"Grey\",\"width\":0.5},\"showscale\":false},\"mode\":\"markers\",\"name\":\"Feasible Trial\",\"showlegend\":false,\"x\":[0.08377246892794164,0.010309225723488146,0.0009345464568949887,0.2552652089255711,0.00002636781127518866,0.005394284833500818,8.002021566182401,9.08733613529322,0.29914426226271545,1.344110310494522,0.2550880046588796,0.00894345824625662,0.020039466595779397,0.05274784847359202,0.673922800307029,0.05490197154161212,0.0011316433673077921,0.0005706469490933903,0.00027919518493915095,0.0024280478300083602,0.0001502760326935938,0.020965521457464355,0.020809023005320868,0.0016527363280788234,0.0029246543045456192,0.02086977915085653,0.02045043938043303,0.01889356000945601,0.0036663510213101893,0.0671167924913613,0.0329505019127768,0.00497507739010069,0.008865466622616926,0.0065586054988599225,0.007137208527392213,0.007428274584705236,0.003400133250735274,0.009949757178326067,0.00461157460444542,0.1190855613521173,0.10761839146589515,0.13756702474389854,0.1251946752255668,0.13333415651488184,0.11179564748936971,0.24552853861748722,0.04604298822703296,0.47105762590070926,0.11306514476948201,1.3018161976619052,0.03630997446530134,0.08524998015006385,0.0750039875388219,0.03786146119881069,0.18185818509832696,0.07923954903031313,0.39224537694602407,0.19310296612793956,0.17159715021015387,0.2630970052262138,0.5811816877664759,0.18718804769770625,0.08341218841111744,0.07904380310871845,0.08845263609190232,0.3379777706497368,0.051357865621004896,0.7109526177645737,0.10084079050858523,0.09335944089938718,0.09092996625013151,0.05788202763921377,0.11332529279214323,0.0364266732187639,0.014010444405376021,0.03011767823731928,0.06183418394456711,0.2741017911816348,0.13444165372648348,0.09506879503454725,0.048511334876517764,0.13532739162701835,0.16860559191756688,0.2152603043904857,0.21795666312616946,0.3692879913159403,0.2194846546149169,0.20289987616245486,0.24027706334750834,0.16437969690946852,0.4575344191827943,0.2146864332928053,0.33615010184234667,0.1516055654975046,0.06077460052421135,0.15216271673697518,0.2930875090236635,0.777089910492444,0.14381382090838668,0.16569828684665888,0.4930790603787213,0.1369460072756145,0.21236470079866307,0.06723699585450799,0.15316641141260742,0.24231110428258504,0.2905116467112133,0.3229810697937055,0.25616054851808956,0.6028569524314896,0.2790597446227572,0.40570462730114565,0.21253758442973059,0.17010560342944375,0.16984731696438152,0.17311292503128758,0.9306160816586007,0.49504242851083025,0.12609659185097846,0.3840867842149487,0.23659022429093216,0.11214102045672092,0.1553866151426173,0.16227093969503928,0.18965893381109666,0.20806367118380112,0.584795732075362,0.35120303731188657,0.26320327396106036,0.17959880437878378,0.07152484285291855,0.28756692751235086,0.263123618584355,0.4302412767013536,0.10113354318338144,0.1692841932472865,0.2049424371563374,0.898728962657765,0.23176056686420357,0.4838322626790497,0.11227312046483517,0.16893573190572245,0.19922368059469453,0.3820838243133595,0.30771347516310515,0.21122756346534283,0.13142775521761568,0.08424568372160499,0.6136483417353045,0.24904313590448107,0.3464558976599024,0.17763688676811262,0.18732573396787733,0.21359455952384354,0.12120649621989557,0.27309733887530074,0.09270657220660648,0.1474132196315341,0.19745498870389092,0.47558451149400627,0.32285059459331633,0.19621256817493407,0.21272765363500823,0.21106446191431766,0.2440035241555795,0.11524493296941549,0.3503740706886254,0.21870684265118223,0.07307483974922273,0.28902851874553265,0.13372726475921906,0.18162616262239295,0.18492635489332435,0.267319889980983,0.3883092983723565,3.77720784035101,0.1932824808520653,0.1046265639799297,0.14269319242068826,0.47369965615994963,0.23560057853671257,0.18919979959012287,0.18915712559986614,0.1448461485432746,0.27042484476488593,0.1116633148323804,0.3231059190302474,0.1950404371007534,0.2034097460464169,0.08404372025286101,0.37463929461287415,0.15177810386935472,0.23429325896500647,0.1731523522903147,0.127659007706045,0.3004159142913799,0.1946343184767842,0.046237604773822424,0.09986710056897569,0.2659084346334938,0.15246559831421005,0.19170695558429482,0.2194371742883361,0.23631456426280859,0.4111521790442717,0.2489657071688781,0.313076860011819,0.21926450514437068,0.7044600114571044,0.5337895380635945,0.3701117537922545,0.2170803662301357,0.2278397440099941,0.27861887380571154,0.20612933497236433,0.12532120429157162,0.014889840328882971,0.1797232566070273,0.25728921401976595,0.42568538671042244,0.15392967191809792,0.20193513473057506,0.16282116646429842,0.2388433092097062,0.3149427197794461,0.23928502795060475,0.000023559711177668922,0.12136353598297743,0.30123026317270957,0.226803393141447,0.3704282722072519,0.1714346687049416,0.20050994558139218,0.14529336102302493,0.13635977545185918,0.10307529135309713,0.16973744938479365,0.023819363700246947,0.2181970722128068,0.2565113975001816,0.12765091624722133,0.20000376030738776,0.22022019087926345,0.16049201161969184,0.28555696567471645,0.19530247467352788,0.1538369500983921,0.001846634489476417,0.005090917928367001,0.0007364471848445967,0.08862498575587896,0.006941749567758455,0.009612815167753827,0.1423004240103486,0.3032186680963781,0.00016610653441694897,0.000014026049610948658,0.22325381427604804,0.3762225176132515,0.1670164360543725,0.12162131688104123,0.24152805918424447,0.18695711601041026,0.515906885779191,0.2792482462877683,0.06258202651124325,0.09900030771717976,0.1402190300224811,0.34290415854926176,0.20943612264545838,0.1711998935655649,0.23630539771889078,4.024745434886476,0.41543373660301897,0.12101949729572863,0.3028274320733188,0.1576331863683505,0.0812616457582685,0.21307271886124046,0.280105216186112,0.0032150450801844213,0.1800815927585604,0.10870176565331134,0.5317033098384192,0.0012609581468649713,0.3504922837342751,0.14678507771216584,0.23376618317480477,0.04484691855402275,0.016222485126896315,0.19394400731187114,0.13205048528264837,0.2684795440676256,0.4270445711417905,0.6725490768447578,1.1963267724047348,0.022599363879232334,0.000475608586641522,0.002393442715371147,0.09843640557735689,0.17933472666968003,0.06679078210804376,0.3085042505285043,0.2226026037660408,0.1443855306391844,0.03202233721966446,0.23964297758153244,0.39101436819988455,0.16621268900075084,0.012607035842903428,0.11287847006828834,0.29880543840438034,0.20613537210205388,0.2221794054213862,0.47788838252113913,0.2937680109832011,1.8987773967854205,0.19124371506940352,0.13952585109859253,0.3522734648258837,0.08798891218732412,0.004446985057622548,0.23292445607760703,0.12224432032517868,0.26976988996472107,0.17615355676950542,0.05518145644418026,0.34894201308018796,0.21030683556393828,0.1359585956146841,0.006858936160660647,0.5268623857042577,0.08161294309686201,0.270249000181065,0.1663248965993941,0.7942596812324393,0.20740117081480497,0.10660589040089595,0.4079023012937946,0.3148264641457417,0.04132320426821962,0.15319932057038238,0.23698111460422722,0.19642644236977777,0.12332273372125066,0.2688801775433305,0.01872114730268069,0.5976341554394863,0.3701099885222102,0.15316877552150648,0.024446630896337074,0.2054623450331895,0.0703849077386921,0.10997640113373122,6.64472487326804,0.2693160416595847,0.00011027325292149263,1.065994743084871,0.17612181201024657,0.4410909125309791,0.3047494376036083,1.4133858562147905,0.14164273834148092,0.24088963770187483,0.008199398590297542,0.03441812129430911,0.09997080091247537,0.18949794290270827,0.13836393471893677,0.33612403491140724,0.2245798156266462,0.004358757477900888,0.6494840835912933,0.15480819864346052,0.4401967439743846,0.0573304709683937,0.26265384772609895,0.18084881087514598,0.09052971881122379,0.3325017122845492,0.1309565425244968,0.21181843627588515,0.25602664459444596,0.1701909814185483,0.11044259778366003,2.522911744739087,9.953405964470013,0.4603659997543262,0.32565348696822044,0.013041401697169108,0.8671718286196333,0.21036771991654318,0.24377424711625795,0.20219411695380698,0.37161449872751334,0.0015532855226892271,0.0022301378311209877,0.5546256542880139,0.28900720123865364,0.18705530295377992],\"y\":[0.14993816086161263,0.21586966064377078,0.19130844781602252,0.22874368682805554,0.16049109495960945,0.251374451087893,0.00199714835464249,0.001968179109393975,0.26022289343570026,0.008691430316592912,0.09604895073278984,0.25473372455227045,0.26064901160511655,0.2507518703784583,0.1253283193866025,0.24255838838626934,0.26108966666508304,0.23138837983867627,0.25744522130563313,0.2572721904258156,0.2576339304321951,0.2632444099498752,0.26248611185987986,0.26000591818959773,0.24430228838668736,0.2675562909292415,0.25590670226587914,0.24445927585140523,0.26226435231195894,0.16076427744900773,0.25688372133255066,0.2638156886958326,0.26653985231188015,0.2654733051589257,0.14621278910325708,0.2620478898368217,0.07382605782264842,0.26230521108470645,0.20280395530803666,0.27005581474910867,0.2719191593872371,0.26912510661533023,0.26357032650985424,0.14763233061063197,0.10886588073479975,0.23491681455371566,0.25751936750635046,0.24443123098855776,0.11100740668820719,0.018094324128781696,0.26749341201250565,0.27061647059810773,0.2669625145835277,0.2653968957395802,0.14176421505288042,0.23344553668439874,0.25031018589948656,0.2688730852742265,0.2675035194373167,0.2375652323001209,0.22099360293606204,0.2635733089886969,0.2705722766572916,0.268635500115518,0.2708736042381792,0.2523230681306911,0.2667582287874768,0.13611450173302603,0.26942100788910023,0.2696450807881814,0.2670899828675898,0.2689062466300575,0.2683732330513098,0.26807181679263586,0.26058698692462257,0.23456157580163192,0.26911390539566576,0.25812777811520277,0.2720770519758243,0.26781179395327565,0.2545935089632595,0.26840854765795646,0.27373157805915355,0.27325931952024557,0.2740069387736196,0.2638034311861509,0.27149482939949293,0.270495244490168,0.2036981920414287,0.2542771357446741,0.2517879486328337,0.2699219435039389,0.2605458851957016,0.272640616595104,0.25479619871715287,0.2678227097355728,0.26959377805043416,0.07783025383408519,0.2735744470379985,0.2742062516628943,0.24608314091546044,0.2682416062182804,0.21832396628491346,0.26886518014398614,0.26631197858689937,0.27369774918417134,0.27167263269976033,0.26975830774099946,0.27250271290313927,0.21179467153899445,0.27135884527073945,0.25880013395829365,0.2743274232476193,0.27307610804262583,0.2729411472477977,0.2703571518212503,0.02990658748996668,0.24780510503778103,0.26887613283264056,0.2577658734219474,0.2639204460981587,0.26973219769121576,0.27346119147095993,0.271001201979992,0.2745106285360145,0.2724842023283783,0.2142973707787686,0.26533763367047575,0.274060023303594,0.247916074322331,0.2654624367127568,0.26860311284463434,0.2739346561235229,0.2600346147387686,0.27113487707515294,0.2736042611658584,0.27418575127814315,0.034350410848349305,0.2706804691918141,0.24796337062969123,0.26616777744940706,0.27308993890838634,0.2740488484314991,0.25639479375235863,0.2712064835669419,0.2708123329685882,0.264990885404509,0.26652600489547684,0.19860477345971544,0.271083467936313,0.2631524457376454,0.27336919887959876,0.2743416551918499,0.2741424592353459,0.27253376260340945,0.26895647749350293,0.25372076483009703,0.26552505577594354,0.27484076465819407,0.24919349756547113,0.26320519601948433,0.27469897944361804,0.27396167048362535,0.2732899056920223,0.2694684010015787,0.26296688205303065,0.2670072930975058,0.2708481575571113,0.26932587984463285,0.2715472667431201,0.21193452636992233,0.2739746502269952,0.27352423712850776,0.26768558135329695,0.26292999164562436,0.0027233492786732758,0.2735462848474455,0.26921653707657395,0.27169570882787014,0.22887097695433517,0.26872682376076257,0.27309602286210927,0.27370005597727876,0.2703653390025789,0.27100631932791647,0.2718092407246275,0.2710544365125005,0.2736712768545009,0.26785308265547286,0.2668811624083233,0.26445561195923656,0.27318210344658894,0.2719353069762021,0.2728052615919458,0.2712895622726483,0.2670555198169002,0.27304456084982326,0.2329639783611049,0.26529534869566984,0.26847204269829433,0.27085447520659683,0.27305945703786,0.2752977069192318,0.2744158613646267,0.26192457670455555,0.27015955562151417,0.2701230624094874,0.2748912090354348,0.141917026034386,0.2309255073449818,0.26709133357126996,0.2744367803194743,0.27086850650448674,0.27056059522403436,0.273260422112147,0.27005362092717805,0.2533348339634068,0.26927080699519684,0.271633020429196,0.24592691860396837,0.21129057161106346,0.27302442316836845,0.27327013420646873,0.274025460292303,0.27060138541013956,0.15033629772099216,0.25028988026299975,0.2653027844743267,0.27123988191626125,0.08081393049865798,0.2295609426176603,0.27388090264700704,0.27437213421352574,0.27389889356568803,0.2736991463690157,0.2715686031277601,0.2733776525736841,0.26670654926418236,0.27452972747216864,0.27295422707013567,0.2697490372934664,0.2737247380311442,0.27281774247860185,0.2733090037709351,0.27000260397790615,0.273973115469953,0.27429095316364815,0.12407582220792608,0.26514517287497885,0.26282335867386625,0.26662006508602404,0.2528115441112556,0.2662273119800891,0.27187855813737344,0.20463431392293788,0.26250767021057575,0.2511690887948512,0.27223630954493905,0.26048674474086797,0.2728594563122362,0.27133723667859283,0.24497407968638726,0.27199408693603355,0.2421836521357375,0.26429252104288087,0.26889249125385317,0.26652878508409267,0.2690070669422126,0.26070331863290824,0.24942897229575292,0.2681906523893896,0.2725706330747689,0.002580010422418547,0.2598636924474841,0.262271545118731,0.266746393663297,0.2661422331609903,0.267756017030104,0.27327302686411575,0.26863026377242855,0.26327700908328033,0.08568441034094484,0.26983109384755316,0.1380701124144497,0.24347192134023624,0.2650215027117963,0.2734432358123599,0.27314968268182727,0.2662371209336721,0.26088443326251526,0.2726978574662709,0.26974037271710966,0.10554609130721293,0.2574768981653052,0.1659681323983753,0.012314796822803183,0.2639181485478641,0.21776377020984058,0.2544574183098197,0.23683613574904697,0.07704357778253416,0.26877778197491464,0.2697896684337965,0.2698109301665251,0.2585022186573553,0.26785765928193556,0.26952940880656706,0.2541429367797692,0.26228937103654804,0.2526139242518769,0.2717115000271508,0.2707074936128336,0.2747390455979445,0.27198039129461327,0.249300584286431,0.2621013964353869,0.009268359287163764,0.16226029582731563,0.18557165247589755,0.2676694877888043,0.2549899168847916,0.2593329382529482,0.08316593473250192,0.26955698128349587,0.25568703195904025,0.24715242982729968,0.26123982677864854,0.26269344931243244,0.273393761491819,0.27000289454723564,0.2526033057881731,0.23288003946996744,0.26565524586505396,0.2713298488875983,0.25770934472665874,0.05883130118769483,0.14539380517785488,0.2713162547598075,0.19472156670488783,0.27150158035709687,0.26354567833425147,0.13134879386331771,0.2664337966513404,0.09224682072114304,0.2681762372940973,0.2733229226726169,0.24272414210962026,0.21376968383951672,0.2627920164799333,0.2679737614482066,0.2585718493241796,0.2710760495500411,0.26313728238783457,0.27067534511610136,0.002135324982396735,0.24384900644985313,0.26425782697070493,0.020312207553982362,0.2710529928113827,0.25286081579232755,0.26890038883504713,0.009684077649752758,0.2739039951323002,0.24419341699849317,0.24875654552467732,0.2543082469642233,0.2703392682343967,0.26894789701857036,0.27266761027549125,0.2647170908291362,0.2723666846405416,0.2617325171312993,0.18461585366504976,0.141117546879003,0.24490803504722947,0.22764199463972407,0.2557010374722341,0.2691833299666705,0.24801346693920742,0.2684729134668959,0.2717793816749724,0.2695868540985702,0.2693899285333193,0.27351108992577755,0.2707168357388513,0.006307834928570313,0.004202571460622831,0.2459741616465134,0.2713456346874113,0.25448282189911764,0.035389251867626884,0.27396299753420833,0.2687873233710712,0.2675360462968878,0.2602948427757915,0.2585203833805989,0.26232657585905245,0.22860380907302352,0.2706947953867397,0.2677091689661575],\"type\":\"scatter\",\"xaxis\":\"x2\",\"yaxis\":\"y2\"},{\"marker\":{\"color\":[0,1,2,3,4,5,6,7,8,9,10,11,12,13,14,15,16,17,18,19,20,21,22,23,24,25,26,27,28,29,30,31,32,33,34,35,36,37,38,39,40,41,42,43,44,45,46,47,48,49,50,51,52,53,54,55,56,57,58,59,60,61,62,63,64,65,66,67,68,69,70,71,72,73,74,75,76,77,78,79,80,81,82,83,84,85,86,87,88,89,90,91,92,93,94,95,96,97,98,99,100,101,102,103,104,105,106,107,108,109,110,111,112,113,114,115,116,117,118,119,120,121,122,123,124,125,126,127,128,129,130,131,132,133,134,135,136,137,138,139,140,141,142,143,144,145,146,147,148,149,150,151,152,153,154,155,156,157,158,159,160,161,162,163,164,165,166,167,168,169,170,171,172,173,174,175,176,177,178,179,180,181,182,183,184,185,186,187,188,189,190,191,192,193,194,195,196,197,198,199,200,201,202,203,204,205,206,207,208,209,210,211,212,213,214,215,216,217,218,219,220,221,222,223,224,225,226,227,228,229,230,231,232,233,234,235,236,237,238,239,240,241,242,243,244,245,246,247,248,249,250,251,252,253,254,255,256,257,258,259,260,261,262,263,264,265,266,267,268,269,270,271,272,273,274,275,276,277,278,279,280,281,282,283,284,285,286,287,288,289,290,291,292,293,294,295,296,297,298,299,300,301,302,303,304,305,306,307,308,309,310,311,312,313,314,315,316,317,318,319,320,321,322,323,324,325,326,327,328,329,330,331,332,333,334,335,336,337,338,339,340,341,342,343,344,345,346,347,348,349,350,351,352,353,354,355,356,357,358,359,360,361,362,363,364,365,366,367,368,369,370,371,372,373,374,375,376,377,378,379,380,381,382,383,384,385,386,387,388,389,390,391,392,393,394,395,396,397,398,399],\"colorbar\":{\"title\":{\"text\":\"Trial\"},\"x\":1.0,\"xpad\":40},\"colorscale\":[[0.0,\"rgb(247,251,255)\"],[0.125,\"rgb(222,235,247)\"],[0.25,\"rgb(198,219,239)\"],[0.375,\"rgb(158,202,225)\"],[0.5,\"rgb(107,174,214)\"],[0.625,\"rgb(66,146,198)\"],[0.75,\"rgb(33,113,181)\"],[0.875,\"rgb(8,81,156)\"],[1.0,\"rgb(8,48,107)\"]],\"line\":{\"color\":\"Grey\",\"width\":0.5},\"showscale\":false},\"mode\":\"markers\",\"name\":\"Feasible Trial\",\"showlegend\":false,\"x\":[10,56,35,22,20,175,451,6,310,11,1119,187,228,98,470,1967,352,89,729,231,654,292,305,380,129,288,131,265,653,71,152,576,287,484,927,477,50,189,506,395,336,376,370,220,265,368,157,202,890,394,261,289,243,443,320,183,568,335,338,760,123,402,339,213,233,551,426,316,229,168,171,232,154,271,196,123,232,413,286,297,102,359,247,206,177,191,280,270,145,205,257,295,249,318,332,458,185,300,215,225,222,171,209,266,246,144,133,152,113,86,132,143,171,175,169,109,173,112,156,180,196,163,208,138,211,113,211,163,121,186,145,129,119,92,195,213,160,228,209,148,124,166,179,231,152,199,101,140,185,123,244,173,216,216,218,252,186,158,218,259,239,215,223,217,290,193,140,262,219,163,127,203,198,233,184,270,155,172,215,240,304,147,160,184,117,205,134,165,99,158,174,198,234,140,172,211,263,85,117,190,164,150,154,134,131,108,132,152,138,156,119,175,167,188,149,181,123,146,177,223,17,202,239,164,160,184,137,103,162,196,1329,213,228,236,250,237,218,268,203,208,272,230,232,299,202,249,245,191,259,217,294,184,247,327,8,207,179,216,272,233,188,205,172,63,363,248,144,285,174,31,122,200,227,164,109,237,86,199,134,260,317,153,189,211,169,97,149,225,187,268,242,124,174,213,144,295,195,48,158,250,116,217,176,191,131,336,285,227,496,156,252,177,207,109,137,397,677,198,12,163,79,235,100,147,605,1420,185,263,211,124,172,207,311,153,761,229,5,267,182,135,204,167,240,115,191,148,91,439,235,286,198,165,133,355,218,1966,262,76,171,191,106,147,223,23,216,122,179,307,161,200,256,224,143,8,181,43,541,280,66,127,159,206,97,243,188,222,152,325,112,172,925,252,281,389,136,250,200,178,86,288],\"y\":[0.14993816086161263,0.21586966064377078,0.19130844781602252,0.22874368682805554,0.16049109495960945,0.251374451087893,0.00199714835464249,0.001968179109393975,0.26022289343570026,0.008691430316592912,0.09604895073278984,0.25473372455227045,0.26064901160511655,0.2507518703784583,0.1253283193866025,0.24255838838626934,0.26108966666508304,0.23138837983867627,0.25744522130563313,0.2572721904258156,0.2576339304321951,0.2632444099498752,0.26248611185987986,0.26000591818959773,0.24430228838668736,0.2675562909292415,0.25590670226587914,0.24445927585140523,0.26226435231195894,0.16076427744900773,0.25688372133255066,0.2638156886958326,0.26653985231188015,0.2654733051589257,0.14621278910325708,0.2620478898368217,0.07382605782264842,0.26230521108470645,0.20280395530803666,0.27005581474910867,0.2719191593872371,0.26912510661533023,0.26357032650985424,0.14763233061063197,0.10886588073479975,0.23491681455371566,0.25751936750635046,0.24443123098855776,0.11100740668820719,0.018094324128781696,0.26749341201250565,0.27061647059810773,0.2669625145835277,0.2653968957395802,0.14176421505288042,0.23344553668439874,0.25031018589948656,0.2688730852742265,0.2675035194373167,0.2375652323001209,0.22099360293606204,0.2635733089886969,0.2705722766572916,0.268635500115518,0.2708736042381792,0.2523230681306911,0.2667582287874768,0.13611450173302603,0.26942100788910023,0.2696450807881814,0.2670899828675898,0.2689062466300575,0.2683732330513098,0.26807181679263586,0.26058698692462257,0.23456157580163192,0.26911390539566576,0.25812777811520277,0.2720770519758243,0.26781179395327565,0.2545935089632595,0.26840854765795646,0.27373157805915355,0.27325931952024557,0.2740069387736196,0.2638034311861509,0.27149482939949293,0.270495244490168,0.2036981920414287,0.2542771357446741,0.2517879486328337,0.2699219435039389,0.2605458851957016,0.272640616595104,0.25479619871715287,0.2678227097355728,0.26959377805043416,0.07783025383408519,0.2735744470379985,0.2742062516628943,0.24608314091546044,0.2682416062182804,0.21832396628491346,0.26886518014398614,0.26631197858689937,0.27369774918417134,0.27167263269976033,0.26975830774099946,0.27250271290313927,0.21179467153899445,0.27135884527073945,0.25880013395829365,0.2743274232476193,0.27307610804262583,0.2729411472477977,0.2703571518212503,0.02990658748996668,0.24780510503778103,0.26887613283264056,0.2577658734219474,0.2639204460981587,0.26973219769121576,0.27346119147095993,0.271001201979992,0.2745106285360145,0.2724842023283783,0.2142973707787686,0.26533763367047575,0.274060023303594,0.247916074322331,0.2654624367127568,0.26860311284463434,0.2739346561235229,0.2600346147387686,0.27113487707515294,0.2736042611658584,0.27418575127814315,0.034350410848349305,0.2706804691918141,0.24796337062969123,0.26616777744940706,0.27308993890838634,0.2740488484314991,0.25639479375235863,0.2712064835669419,0.2708123329685882,0.264990885404509,0.26652600489547684,0.19860477345971544,0.271083467936313,0.2631524457376454,0.27336919887959876,0.2743416551918499,0.2741424592353459,0.27253376260340945,0.26895647749350293,0.25372076483009703,0.26552505577594354,0.27484076465819407,0.24919349756547113,0.26320519601948433,0.27469897944361804,0.27396167048362535,0.2732899056920223,0.2694684010015787,0.26296688205303065,0.2670072930975058,0.2708481575571113,0.26932587984463285,0.2715472667431201,0.21193452636992233,0.2739746502269952,0.27352423712850776,0.26768558135329695,0.26292999164562436,0.0027233492786732758,0.2735462848474455,0.26921653707657395,0.27169570882787014,0.22887097695433517,0.26872682376076257,0.27309602286210927,0.27370005597727876,0.2703653390025789,0.27100631932791647,0.2718092407246275,0.2710544365125005,0.2736712768545009,0.26785308265547286,0.2668811624083233,0.26445561195923656,0.27318210344658894,0.2719353069762021,0.2728052615919458,0.2712895622726483,0.2670555198169002,0.27304456084982326,0.2329639783611049,0.26529534869566984,0.26847204269829433,0.27085447520659683,0.27305945703786,0.2752977069192318,0.2744158613646267,0.26192457670455555,0.27015955562151417,0.2701230624094874,0.2748912090354348,0.141917026034386,0.2309255073449818,0.26709133357126996,0.2744367803194743,0.27086850650448674,0.27056059522403436,0.273260422112147,0.27005362092717805,0.2533348339634068,0.26927080699519684,0.271633020429196,0.24592691860396837,0.21129057161106346,0.27302442316836845,0.27327013420646873,0.274025460292303,0.27060138541013956,0.15033629772099216,0.25028988026299975,0.2653027844743267,0.27123988191626125,0.08081393049865798,0.2295609426176603,0.27388090264700704,0.27437213421352574,0.27389889356568803,0.2736991463690157,0.2715686031277601,0.2733776525736841,0.26670654926418236,0.27452972747216864,0.27295422707013567,0.2697490372934664,0.2737247380311442,0.27281774247860185,0.2733090037709351,0.27000260397790615,0.273973115469953,0.27429095316364815,0.12407582220792608,0.26514517287497885,0.26282335867386625,0.26662006508602404,0.2528115441112556,0.2662273119800891,0.27187855813737344,0.20463431392293788,0.26250767021057575,0.2511690887948512,0.27223630954493905,0.26048674474086797,0.2728594563122362,0.27133723667859283,0.24497407968638726,0.27199408693603355,0.2421836521357375,0.26429252104288087,0.26889249125385317,0.26652878508409267,0.2690070669422126,0.26070331863290824,0.24942897229575292,0.2681906523893896,0.2725706330747689,0.002580010422418547,0.2598636924474841,0.262271545118731,0.266746393663297,0.2661422331609903,0.267756017030104,0.27327302686411575,0.26863026377242855,0.26327700908328033,0.08568441034094484,0.26983109384755316,0.1380701124144497,0.24347192134023624,0.2650215027117963,0.2734432358123599,0.27314968268182727,0.2662371209336721,0.26088443326251526,0.2726978574662709,0.26974037271710966,0.10554609130721293,0.2574768981653052,0.1659681323983753,0.012314796822803183,0.2639181485478641,0.21776377020984058,0.2544574183098197,0.23683613574904697,0.07704357778253416,0.26877778197491464,0.2697896684337965,0.2698109301665251,0.2585022186573553,0.26785765928193556,0.26952940880656706,0.2541429367797692,0.26228937103654804,0.2526139242518769,0.2717115000271508,0.2707074936128336,0.2747390455979445,0.27198039129461327,0.249300584286431,0.2621013964353869,0.009268359287163764,0.16226029582731563,0.18557165247589755,0.2676694877888043,0.2549899168847916,0.2593329382529482,0.08316593473250192,0.26955698128349587,0.25568703195904025,0.24715242982729968,0.26123982677864854,0.26269344931243244,0.273393761491819,0.27000289454723564,0.2526033057881731,0.23288003946996744,0.26565524586505396,0.2713298488875983,0.25770934472665874,0.05883130118769483,0.14539380517785488,0.2713162547598075,0.19472156670488783,0.27150158035709687,0.26354567833425147,0.13134879386331771,0.2664337966513404,0.09224682072114304,0.2681762372940973,0.2733229226726169,0.24272414210962026,0.21376968383951672,0.2627920164799333,0.2679737614482066,0.2585718493241796,0.2710760495500411,0.26313728238783457,0.27067534511610136,0.002135324982396735,0.24384900644985313,0.26425782697070493,0.020312207553982362,0.2710529928113827,0.25286081579232755,0.26890038883504713,0.009684077649752758,0.2739039951323002,0.24419341699849317,0.24875654552467732,0.2543082469642233,0.2703392682343967,0.26894789701857036,0.27266761027549125,0.2647170908291362,0.2723666846405416,0.2617325171312993,0.18461585366504976,0.141117546879003,0.24490803504722947,0.22764199463972407,0.2557010374722341,0.2691833299666705,0.24801346693920742,0.2684729134668959,0.2717793816749724,0.2695868540985702,0.2693899285333193,0.27351108992577755,0.2707168357388513,0.006307834928570313,0.004202571460622831,0.2459741616465134,0.2713456346874113,0.25448282189911764,0.035389251867626884,0.27396299753420833,0.2687873233710712,0.2675360462968878,0.2602948427757915,0.2585203833805989,0.26232657585905245,0.22860380907302352,0.2706947953867397,0.2677091689661575],\"type\":\"scatter\",\"xaxis\":\"x3\",\"yaxis\":\"y3\"}],                        {\"template\":{\"data\":{\"histogram2dcontour\":[{\"type\":\"histogram2dcontour\",\"colorbar\":{\"outlinewidth\":0,\"ticks\":\"\"},\"colorscale\":[[0.0,\"#0d0887\"],[0.1111111111111111,\"#46039f\"],[0.2222222222222222,\"#7201a8\"],[0.3333333333333333,\"#9c179e\"],[0.4444444444444444,\"#bd3786\"],[0.5555555555555556,\"#d8576b\"],[0.6666666666666666,\"#ed7953\"],[0.7777777777777778,\"#fb9f3a\"],[0.8888888888888888,\"#fdca26\"],[1.0,\"#f0f921\"]]}],\"choropleth\":[{\"type\":\"choropleth\",\"colorbar\":{\"outlinewidth\":0,\"ticks\":\"\"}}],\"histogram2d\":[{\"type\":\"histogram2d\",\"colorbar\":{\"outlinewidth\":0,\"ticks\":\"\"},\"colorscale\":[[0.0,\"#0d0887\"],[0.1111111111111111,\"#46039f\"],[0.2222222222222222,\"#7201a8\"],[0.3333333333333333,\"#9c179e\"],[0.4444444444444444,\"#bd3786\"],[0.5555555555555556,\"#d8576b\"],[0.6666666666666666,\"#ed7953\"],[0.7777777777777778,\"#fb9f3a\"],[0.8888888888888888,\"#fdca26\"],[1.0,\"#f0f921\"]]}],\"heatmap\":[{\"type\":\"heatmap\",\"colorbar\":{\"outlinewidth\":0,\"ticks\":\"\"},\"colorscale\":[[0.0,\"#0d0887\"],[0.1111111111111111,\"#46039f\"],[0.2222222222222222,\"#7201a8\"],[0.3333333333333333,\"#9c179e\"],[0.4444444444444444,\"#bd3786\"],[0.5555555555555556,\"#d8576b\"],[0.6666666666666666,\"#ed7953\"],[0.7777777777777778,\"#fb9f3a\"],[0.8888888888888888,\"#fdca26\"],[1.0,\"#f0f921\"]]}],\"heatmapgl\":[{\"type\":\"heatmapgl\",\"colorbar\":{\"outlinewidth\":0,\"ticks\":\"\"},\"colorscale\":[[0.0,\"#0d0887\"],[0.1111111111111111,\"#46039f\"],[0.2222222222222222,\"#7201a8\"],[0.3333333333333333,\"#9c179e\"],[0.4444444444444444,\"#bd3786\"],[0.5555555555555556,\"#d8576b\"],[0.6666666666666666,\"#ed7953\"],[0.7777777777777778,\"#fb9f3a\"],[0.8888888888888888,\"#fdca26\"],[1.0,\"#f0f921\"]]}],\"contourcarpet\":[{\"type\":\"contourcarpet\",\"colorbar\":{\"outlinewidth\":0,\"ticks\":\"\"}}],\"contour\":[{\"type\":\"contour\",\"colorbar\":{\"outlinewidth\":0,\"ticks\":\"\"},\"colorscale\":[[0.0,\"#0d0887\"],[0.1111111111111111,\"#46039f\"],[0.2222222222222222,\"#7201a8\"],[0.3333333333333333,\"#9c179e\"],[0.4444444444444444,\"#bd3786\"],[0.5555555555555556,\"#d8576b\"],[0.6666666666666666,\"#ed7953\"],[0.7777777777777778,\"#fb9f3a\"],[0.8888888888888888,\"#fdca26\"],[1.0,\"#f0f921\"]]}],\"surface\":[{\"type\":\"surface\",\"colorbar\":{\"outlinewidth\":0,\"ticks\":\"\"},\"colorscale\":[[0.0,\"#0d0887\"],[0.1111111111111111,\"#46039f\"],[0.2222222222222222,\"#7201a8\"],[0.3333333333333333,\"#9c179e\"],[0.4444444444444444,\"#bd3786\"],[0.5555555555555556,\"#d8576b\"],[0.6666666666666666,\"#ed7953\"],[0.7777777777777778,\"#fb9f3a\"],[0.8888888888888888,\"#fdca26\"],[1.0,\"#f0f921\"]]}],\"mesh3d\":[{\"type\":\"mesh3d\",\"colorbar\":{\"outlinewidth\":0,\"ticks\":\"\"}}],\"scatter\":[{\"fillpattern\":{\"fillmode\":\"overlay\",\"size\":10,\"solidity\":0.2},\"type\":\"scatter\"}],\"parcoords\":[{\"type\":\"parcoords\",\"line\":{\"colorbar\":{\"outlinewidth\":0,\"ticks\":\"\"}}}],\"scatterpolargl\":[{\"type\":\"scatterpolargl\",\"marker\":{\"colorbar\":{\"outlinewidth\":0,\"ticks\":\"\"}}}],\"bar\":[{\"error_x\":{\"color\":\"#2a3f5f\"},\"error_y\":{\"color\":\"#2a3f5f\"},\"marker\":{\"line\":{\"color\":\"#E5ECF6\",\"width\":0.5},\"pattern\":{\"fillmode\":\"overlay\",\"size\":10,\"solidity\":0.2}},\"type\":\"bar\"}],\"scattergeo\":[{\"type\":\"scattergeo\",\"marker\":{\"colorbar\":{\"outlinewidth\":0,\"ticks\":\"\"}}}],\"scatterpolar\":[{\"type\":\"scatterpolar\",\"marker\":{\"colorbar\":{\"outlinewidth\":0,\"ticks\":\"\"}}}],\"histogram\":[{\"marker\":{\"pattern\":{\"fillmode\":\"overlay\",\"size\":10,\"solidity\":0.2}},\"type\":\"histogram\"}],\"scattergl\":[{\"type\":\"scattergl\",\"marker\":{\"colorbar\":{\"outlinewidth\":0,\"ticks\":\"\"}}}],\"scatter3d\":[{\"type\":\"scatter3d\",\"line\":{\"colorbar\":{\"outlinewidth\":0,\"ticks\":\"\"}},\"marker\":{\"colorbar\":{\"outlinewidth\":0,\"ticks\":\"\"}}}],\"scattermapbox\":[{\"type\":\"scattermapbox\",\"marker\":{\"colorbar\":{\"outlinewidth\":0,\"ticks\":\"\"}}}],\"scatterternary\":[{\"type\":\"scatterternary\",\"marker\":{\"colorbar\":{\"outlinewidth\":0,\"ticks\":\"\"}}}],\"scattercarpet\":[{\"type\":\"scattercarpet\",\"marker\":{\"colorbar\":{\"outlinewidth\":0,\"ticks\":\"\"}}}],\"carpet\":[{\"aaxis\":{\"endlinecolor\":\"#2a3f5f\",\"gridcolor\":\"white\",\"linecolor\":\"white\",\"minorgridcolor\":\"white\",\"startlinecolor\":\"#2a3f5f\"},\"baxis\":{\"endlinecolor\":\"#2a3f5f\",\"gridcolor\":\"white\",\"linecolor\":\"white\",\"minorgridcolor\":\"white\",\"startlinecolor\":\"#2a3f5f\"},\"type\":\"carpet\"}],\"table\":[{\"cells\":{\"fill\":{\"color\":\"#EBF0F8\"},\"line\":{\"color\":\"white\"}},\"header\":{\"fill\":{\"color\":\"#C8D4E3\"},\"line\":{\"color\":\"white\"}},\"type\":\"table\"}],\"barpolar\":[{\"marker\":{\"line\":{\"color\":\"#E5ECF6\",\"width\":0.5},\"pattern\":{\"fillmode\":\"overlay\",\"size\":10,\"solidity\":0.2}},\"type\":\"barpolar\"}],\"pie\":[{\"automargin\":true,\"type\":\"pie\"}]},\"layout\":{\"autotypenumbers\":\"strict\",\"colorway\":[\"#636efa\",\"#EF553B\",\"#00cc96\",\"#ab63fa\",\"#FFA15A\",\"#19d3f3\",\"#FF6692\",\"#B6E880\",\"#FF97FF\",\"#FECB52\"],\"font\":{\"color\":\"#2a3f5f\"},\"hovermode\":\"closest\",\"hoverlabel\":{\"align\":\"left\"},\"paper_bgcolor\":\"white\",\"plot_bgcolor\":\"#E5ECF6\",\"polar\":{\"bgcolor\":\"#E5ECF6\",\"angularaxis\":{\"gridcolor\":\"white\",\"linecolor\":\"white\",\"ticks\":\"\"},\"radialaxis\":{\"gridcolor\":\"white\",\"linecolor\":\"white\",\"ticks\":\"\"}},\"ternary\":{\"bgcolor\":\"#E5ECF6\",\"aaxis\":{\"gridcolor\":\"white\",\"linecolor\":\"white\",\"ticks\":\"\"},\"baxis\":{\"gridcolor\":\"white\",\"linecolor\":\"white\",\"ticks\":\"\"},\"caxis\":{\"gridcolor\":\"white\",\"linecolor\":\"white\",\"ticks\":\"\"}},\"coloraxis\":{\"colorbar\":{\"outlinewidth\":0,\"ticks\":\"\"}},\"colorscale\":{\"sequential\":[[0.0,\"#0d0887\"],[0.1111111111111111,\"#46039f\"],[0.2222222222222222,\"#7201a8\"],[0.3333333333333333,\"#9c179e\"],[0.4444444444444444,\"#bd3786\"],[0.5555555555555556,\"#d8576b\"],[0.6666666666666666,\"#ed7953\"],[0.7777777777777778,\"#fb9f3a\"],[0.8888888888888888,\"#fdca26\"],[1.0,\"#f0f921\"]],\"sequentialminus\":[[0.0,\"#0d0887\"],[0.1111111111111111,\"#46039f\"],[0.2222222222222222,\"#7201a8\"],[0.3333333333333333,\"#9c179e\"],[0.4444444444444444,\"#bd3786\"],[0.5555555555555556,\"#d8576b\"],[0.6666666666666666,\"#ed7953\"],[0.7777777777777778,\"#fb9f3a\"],[0.8888888888888888,\"#fdca26\"],[1.0,\"#f0f921\"]],\"diverging\":[[0,\"#8e0152\"],[0.1,\"#c51b7d\"],[0.2,\"#de77ae\"],[0.3,\"#f1b6da\"],[0.4,\"#fde0ef\"],[0.5,\"#f7f7f7\"],[0.6,\"#e6f5d0\"],[0.7,\"#b8e186\"],[0.8,\"#7fbc41\"],[0.9,\"#4d9221\"],[1,\"#276419\"]]},\"xaxis\":{\"gridcolor\":\"white\",\"linecolor\":\"white\",\"ticks\":\"\",\"title\":{\"standoff\":15},\"zerolinecolor\":\"white\",\"automargin\":true,\"zerolinewidth\":2},\"yaxis\":{\"gridcolor\":\"white\",\"linecolor\":\"white\",\"ticks\":\"\",\"title\":{\"standoff\":15},\"zerolinecolor\":\"white\",\"automargin\":true,\"zerolinewidth\":2},\"scene\":{\"xaxis\":{\"backgroundcolor\":\"#E5ECF6\",\"gridcolor\":\"white\",\"linecolor\":\"white\",\"showbackground\":true,\"ticks\":\"\",\"zerolinecolor\":\"white\",\"gridwidth\":2},\"yaxis\":{\"backgroundcolor\":\"#E5ECF6\",\"gridcolor\":\"white\",\"linecolor\":\"white\",\"showbackground\":true,\"ticks\":\"\",\"zerolinecolor\":\"white\",\"gridwidth\":2},\"zaxis\":{\"backgroundcolor\":\"#E5ECF6\",\"gridcolor\":\"white\",\"linecolor\":\"white\",\"showbackground\":true,\"ticks\":\"\",\"zerolinecolor\":\"white\",\"gridwidth\":2}},\"shapedefaults\":{\"line\":{\"color\":\"#2a3f5f\"}},\"annotationdefaults\":{\"arrowcolor\":\"#2a3f5f\",\"arrowhead\":0,\"arrowwidth\":1},\"geo\":{\"bgcolor\":\"white\",\"landcolor\":\"#E5ECF6\",\"subunitcolor\":\"white\",\"showland\":true,\"showlakes\":true,\"lakecolor\":\"white\"},\"title\":{\"x\":0.05},\"mapbox\":{\"style\":\"light\"}}},\"xaxis\":{\"anchor\":\"y\",\"domain\":[0.0,0.2888888888888889],\"title\":{\"text\":\"alpha\"},\"type\":\"log\"},\"yaxis\":{\"anchor\":\"x\",\"domain\":[0.0,1.0],\"title\":{\"text\":\"Objective Value\"}},\"xaxis2\":{\"anchor\":\"y2\",\"domain\":[0.35555555555555557,0.6444444444444445],\"title\":{\"text\":\"beta\"},\"type\":\"log\"},\"yaxis2\":{\"anchor\":\"x2\",\"domain\":[0.0,1.0],\"matches\":\"y\",\"showticklabels\":false},\"xaxis3\":{\"anchor\":\"y3\",\"domain\":[0.7111111111111111,1.0],\"title\":{\"text\":\"topK\"},\"type\":\"log\"},\"yaxis3\":{\"anchor\":\"x3\",\"domain\":[0.0,1.0],\"matches\":\"y\",\"showticklabels\":false},\"title\":{\"text\":\"Slice Plot\"}},                        {\"responsive\": true}                    ).then(function(){\n",
       "                            \n",
       "var gd = document.getElementById('53e562ff-3f12-437d-8427-ab979c431920');\n",
       "var x = new MutationObserver(function (mutations, observer) {{\n",
       "        var display = window.getComputedStyle(gd).display;\n",
       "        if (!display || display === 'none') {{\n",
       "            console.log([gd, 'removed!']);\n",
       "            Plotly.purge(gd);\n",
       "            observer.disconnect();\n",
       "        }}\n",
       "}});\n",
       "\n",
       "// Listen for the removal of the full notebook cells\n",
       "var notebookContainer = gd.closest('#notebook-container');\n",
       "if (notebookContainer) {{\n",
       "    x.observe(notebookContainer, {childList: true});\n",
       "}}\n",
       "\n",
       "// Listen for the clearing of the current output cell\n",
       "var outputEl = gd.closest('.output');\n",
       "if (outputEl) {{\n",
       "    x.observe(outputEl, {childList: true});\n",
       "}}\n",
       "\n",
       "                        })                };                });            </script>        </div>"
      ]
     },
     "metadata": {},
     "output_type": "display_data"
    }
   ],
   "source": [
    "if config['tune_parameters_rp3']:\n",
    "    fig = optuna.visualization.plot_slice(study)\n",
    "    fig.show()"
   ]
  },
  {
   "cell_type": "code",
   "execution_count": 20,
   "id": "18b8804e",
   "metadata": {
    "execution": {
     "iopub.execute_input": "2023-12-24T18:42:46.888188Z",
     "iopub.status.busy": "2023-12-24T18:42:46.887511Z",
     "iopub.status.idle": "2023-12-24T18:42:47.603292Z",
     "shell.execute_reply": "2023-12-24T18:42:47.601540Z"
    },
    "papermill": {
     "duration": 0.795874,
     "end_time": "2023-12-24T18:42:47.606314",
     "exception": false,
     "start_time": "2023-12-24T18:42:46.810440",
     "status": "completed"
    },
    "tags": []
   },
   "outputs": [],
   "source": [
    "if config['tune_parameters_rp3']:\n",
    "    with open('/kaggle/working/best_params_rp3_recall@50.json', 'w') as params_file:\n",
    "        json.dump(study.best_params, params_file)\n",
    "        \n",
    "    if config['save_github']:\n",
    "        upload_file(\n",
    "            '/kaggle/working/best_params_rp3_recall@50.json', \n",
    "            'tuning_results/best_params_rp3_recall@50.json', \n",
    "            'RP3 tuning results with recall@50(from kaggle notebook)'\n",
    "        )\n",
    "elif config['copy_prev_best_params']:\n",
    "    shutil.copyfile(\n",
    "        '/kaggle/working/Recsys_Challenge_2023/tuning_results/best_params_rp3_recall@50.json', \n",
    "        '/kaggle/working/best_params_rp3_recall@50.json'\n",
    "    )"
   ]
  },
  {
   "cell_type": "code",
   "execution_count": 21,
   "id": "44426435",
   "metadata": {
    "execution": {
     "iopub.execute_input": "2023-12-24T18:42:47.767405Z",
     "iopub.status.busy": "2023-12-24T18:42:47.766961Z",
     "iopub.status.idle": "2023-12-24T18:42:47.778903Z",
     "shell.execute_reply": "2023-12-24T18:42:47.777520Z"
    },
    "papermill": {
     "duration": 0.103037,
     "end_time": "2023-12-24T18:42:47.781600",
     "exception": false,
     "start_time": "2023-12-24T18:42:47.678563",
     "status": "completed"
    },
    "tags": []
   },
   "outputs": [],
   "source": [
    "def objective_function_knn_recall(trial):           \n",
    "    params = {\n",
    "        'topK': trial.suggest_int('topK', 10, 2000),\n",
    "        'shrink': trial.suggest_int('shrink', 0, 500),\n",
    "        'similarity': trial.suggest_categorical('similarity', [\"cosine\", \"asymmetric\", \"dice\", \"jaccard\", \"tanimoto\", \"tversky\", \"euclidean\"]),\n",
    "        'feature_weighting': trial.suggest_categorical('feature_weighting', [\"BM25\", \"TF-IDF\", \"none\"])\n",
    "    }\n",
    "    \n",
    "    if params['similarity'] == \"asymmetric\":\n",
    "        params[\"asymmetric_alpha\"] = trial.suggest_float(\"asymmetric_alpha\", 0, 2, log=False)\n",
    "        params[\"normalize\"] = True     \n",
    "\n",
    "    elif params['similarity'] == \"tversky\":\n",
    "        params[\"tversky_alpha\"] = trial.suggest_float(\"tversky_alpha\", 0, 2, log=False)\n",
    "        params[\"tversky_beta\"] = trial.suggest_float(\"tversky_beta\", 0, 5, log=False)\n",
    "        params[\"normalize\"] = True \n",
    "\n",
    "    elif params['similarity'] == \"euclidean\":\n",
    "        params[\"normalize_avg_row\"] = trial.suggest_categorical(\"normalize_avg_row\", [True, False])\n",
    "        params[\"similarity_from_distance_mode\"] = trial.suggest_categorical(\"similarity_from_distance_mode\", [\"lin\", \"log\", \"exp\"])\n",
    "        params[\"normalize\"] = trial.suggest_categorical(\"normalize\", [True, False])\n",
    "    \n",
    "    recommender = ItemKNNCFRecommender(URM_train)\n",
    "    recommender.fit(**params)\n",
    "        \n",
    "    result_df, _ = evaluator.evaluateRecommender(recommender)\n",
    "    return result_df.loc[50, \"RECALL\"]"
   ]
  },
  {
   "cell_type": "code",
   "execution_count": 22,
   "id": "c1782943",
   "metadata": {
    "execution": {
     "iopub.execute_input": "2023-12-24T18:42:47.925819Z",
     "iopub.status.busy": "2023-12-24T18:42:47.925327Z",
     "iopub.status.idle": "2023-12-24T19:36:45.829102Z",
     "shell.execute_reply": "2023-12-24T19:36:45.827469Z"
    },
    "papermill": {
     "duration": 3237.979544,
     "end_time": "2023-12-24T19:36:45.831985",
     "exception": false,
     "start_time": "2023-12-24T18:42:47.852441",
     "status": "completed"
    },
    "tags": []
   },
   "outputs": [
    {
     "name": "stderr",
     "output_type": "stream",
     "text": [
      "[I 2023-12-24 18:42:47,972] Using an existing study with name 'tuning_recall_knn' instead of creating a new one.\n"
     ]
    },
    {
     "name": "stdout",
     "output_type": "stream",
     "text": [
      "ItemKNNCFRecommender: URM Detected 627 ( 4.8%) users with no interactions.\n",
      "ItemKNNCFRecommender: URM Detected 247 ( 1.1%) items with no interactions.\n",
      "Similarity column 22347 (100.0%), 6735.33 column/sec. Elapsed time 3.32 sec\n",
      "EvaluatorHoldout: Processed 10456 (100.0%) in 12.50 sec. Users per second: 837\n"
     ]
    },
    {
     "name": "stderr",
     "output_type": "stream",
     "text": [
      "[I 2023-12-24 18:43:04,317] Trial 200 finished with value: 0.2555008730857432 and parameters: {'topK': 207, 'shrink': 469, 'similarity': 'tanimoto', 'feature_weighting': 'BM25'}. Best is trial 171 with value: 0.25669798926621284.\n"
     ]
    },
    {
     "name": "stdout",
     "output_type": "stream",
     "text": [
      "ItemKNNCFRecommender: URM Detected 627 ( 4.8%) users with no interactions.\n",
      "ItemKNNCFRecommender: URM Detected 247 ( 1.1%) items with no interactions.\n",
      "Similarity column 22347 (100.0%), 6399.24 column/sec. Elapsed time 3.49 sec\n",
      "EvaluatorHoldout: Processed 10456 (100.0%) in 11.61 sec. Users per second: 901\n"
     ]
    },
    {
     "name": "stderr",
     "output_type": "stream",
     "text": [
      "[I 2023-12-24 18:43:19,850] Trial 201 finished with value: 0.2566165916215631 and parameters: {'topK': 178, 'shrink': 461, 'similarity': 'tanimoto', 'feature_weighting': 'BM25'}. Best is trial 171 with value: 0.25669798926621284.\n"
     ]
    },
    {
     "name": "stdout",
     "output_type": "stream",
     "text": [
      "ItemKNNCFRecommender: URM Detected 627 ( 4.8%) users with no interactions.\n",
      "ItemKNNCFRecommender: URM Detected 247 ( 1.1%) items with no interactions.\n",
      "Similarity column 22347 (100.0%), 6730.47 column/sec. Elapsed time 3.32 sec\n",
      "EvaluatorHoldout: Processed 10456 (100.0%) in 11.14 sec. Users per second: 939\n"
     ]
    },
    {
     "name": "stderr",
     "output_type": "stream",
     "text": [
      "[I 2023-12-24 18:43:34,669] Trial 202 finished with value: 0.2544255772022942 and parameters: {'topK': 126, 'shrink': 492, 'similarity': 'tanimoto', 'feature_weighting': 'BM25'}. Best is trial 171 with value: 0.25669798926621284.\n"
     ]
    },
    {
     "name": "stdout",
     "output_type": "stream",
     "text": [
      "ItemKNNCFRecommender: URM Detected 627 ( 4.8%) users with no interactions.\n",
      "ItemKNNCFRecommender: URM Detected 247 ( 1.1%) items with no interactions.\n",
      "Similarity column 22347 (100.0%), 6705.45 column/sec. Elapsed time 3.33 sec\n",
      "EvaluatorHoldout: Processed 10456 (100.0%) in 11.52 sec. Users per second: 907\n"
     ]
    },
    {
     "name": "stderr",
     "output_type": "stream",
     "text": [
      "[I 2023-12-24 18:43:49,898] Trial 203 finished with value: 0.25677035105328766 and parameters: {'topK': 175, 'shrink': 481, 'similarity': 'tanimoto', 'feature_weighting': 'BM25'}. Best is trial 203 with value: 0.25677035105328766.\n"
     ]
    },
    {
     "name": "stdout",
     "output_type": "stream",
     "text": [
      "ItemKNNCFRecommender: URM Detected 627 ( 4.8%) users with no interactions.\n",
      "ItemKNNCFRecommender: URM Detected 247 ( 1.1%) items with no interactions.\n",
      "Similarity column 22347 (100.0%), 6871.58 column/sec. Elapsed time 3.25 sec\n",
      "EvaluatorHoldout: Processed 10456 (100.0%) in 11.40 sec. Users per second: 917\n"
     ]
    },
    {
     "name": "stderr",
     "output_type": "stream",
     "text": [
      "[I 2023-12-24 18:44:04,926] Trial 204 finished with value: 0.2555442364235446 and parameters: {'topK': 158, 'shrink': 457, 'similarity': 'tanimoto', 'feature_weighting': 'BM25'}. Best is trial 203 with value: 0.25677035105328766.\n"
     ]
    },
    {
     "name": "stdout",
     "output_type": "stream",
     "text": [
      "ItemKNNCFRecommender: URM Detected 627 ( 4.8%) users with no interactions.\n",
      "ItemKNNCFRecommender: URM Detected 247 ( 1.1%) items with no interactions.\n",
      "Similarity column 22347 (100.0%), 6674.11 column/sec. Elapsed time 3.35 sec\n",
      "EvaluatorHoldout: Processed 10456 (100.0%) in 12.34 sec. Users per second: 848\n"
     ]
    },
    {
     "name": "stderr",
     "output_type": "stream",
     "text": [
      "[I 2023-12-24 18:44:21,020] Trial 205 finished with value: 0.255069141811446 and parameters: {'topK': 227, 'shrink': 475, 'similarity': 'tanimoto', 'feature_weighting': 'BM25'}. Best is trial 203 with value: 0.25677035105328766.\n"
     ]
    },
    {
     "name": "stdout",
     "output_type": "stream",
     "text": [
      "ItemKNNCFRecommender: URM Detected 627 ( 4.8%) users with no interactions.\n",
      "ItemKNNCFRecommender: URM Detected 247 ( 1.1%) items with no interactions.\n",
      "Similarity column 22347 (100.0%), 5644.89 column/sec. Elapsed time 3.96 sec\n",
      "EvaluatorHoldout: Processed 10456 (100.0%) in 18.04 sec. Users per second: 580\n"
     ]
    },
    {
     "name": "stderr",
     "output_type": "stream",
     "text": [
      "[I 2023-12-24 18:44:43,401] Trial 206 finished with value: 0.25404339678432647 and parameters: {'topK': 110, 'shrink': 484, 'similarity': 'tanimoto', 'feature_weighting': 'BM25'}. Best is trial 203 with value: 0.25677035105328766.\n"
     ]
    },
    {
     "name": "stdout",
     "output_type": "stream",
     "text": [
      "ItemKNNCFRecommender: URM Detected 627 ( 4.8%) users with no interactions.\n",
      "ItemKNNCFRecommender: URM Detected 247 ( 1.1%) items with no interactions.\n",
      "Similarity column 22347 (100.0%), 5943.28 column/sec. Elapsed time 3.76 sec\n",
      "EvaluatorHoldout: Processed 10456 (100.0%) in 12.20 sec. Users per second: 857\n"
     ]
    },
    {
     "name": "stderr",
     "output_type": "stream",
     "text": [
      "[I 2023-12-24 18:44:59,983] Trial 207 finished with value: 0.2564810363295957 and parameters: {'topK': 183, 'shrink': 462, 'similarity': 'tanimoto', 'feature_weighting': 'BM25'}. Best is trial 203 with value: 0.25677035105328766.\n"
     ]
    },
    {
     "name": "stdout",
     "output_type": "stream",
     "text": [
      "ItemKNNCFRecommender: URM Detected 627 ( 4.8%) users with no interactions.\n",
      "ItemKNNCFRecommender: URM Detected 247 ( 1.1%) items with no interactions.\n",
      "Similarity column 22347 (100.0%), 1334.41 column/sec. Elapsed time 16.75 sec\n",
      "EvaluatorHoldout: Processed 10456 (100.0%) in 6.17 sec. Users per second: 1695\n"
     ]
    },
    {
     "name": "stderr",
     "output_type": "stream",
     "text": [
      "[I 2023-12-24 18:45:23,334] Trial 208 finished with value: 0.09535473245125423 and parameters: {'topK': 273, 'shrink': 460, 'similarity': 'euclidean', 'feature_weighting': 'BM25', 'normalize_avg_row': False, 'similarity_from_distance_mode': 'exp', 'normalize': False}. Best is trial 203 with value: 0.25677035105328766.\n"
     ]
    },
    {
     "name": "stdout",
     "output_type": "stream",
     "text": [
      "ItemKNNCFRecommender: URM Detected 627 ( 4.8%) users with no interactions.\n",
      "ItemKNNCFRecommender: URM Detected 247 ( 1.1%) items with no interactions.\n",
      "Similarity column 22347 (100.0%), 6762.33 column/sec. Elapsed time 3.30 sec\n",
      "EvaluatorHoldout: Processed 10456 (100.0%) in 12.13 sec. Users per second: 862\n"
     ]
    },
    {
     "name": "stderr",
     "output_type": "stream",
     "text": [
      "[I 2023-12-24 18:45:39,194] Trial 209 finished with value: 0.25602466368854376 and parameters: {'topK': 198, 'shrink': 468, 'similarity': 'tanimoto', 'feature_weighting': 'BM25'}. Best is trial 203 with value: 0.25677035105328766.\n"
     ]
    },
    {
     "name": "stdout",
     "output_type": "stream",
     "text": [
      "ItemKNNCFRecommender: URM Detected 627 ( 4.8%) users with no interactions.\n",
      "ItemKNNCFRecommender: URM Detected 247 ( 1.1%) items with no interactions.\n",
      "Similarity column 22347 (100.0%), 6845.78 column/sec. Elapsed time 3.26 sec\n",
      "EvaluatorHoldout: Processed 10456 (100.0%) in 11.08 sec. Users per second: 943\n"
     ]
    },
    {
     "name": "stderr",
     "output_type": "stream",
     "text": [
      "[I 2023-12-24 18:45:53,885] Trial 210 finished with value: 0.2552599414687786 and parameters: {'topK': 137, 'shrink': 474, 'similarity': 'jaccard', 'feature_weighting': 'BM25'}. Best is trial 203 with value: 0.25677035105328766.\n"
     ]
    },
    {
     "name": "stdout",
     "output_type": "stream",
     "text": [
      "ItemKNNCFRecommender: URM Detected 627 ( 4.8%) users with no interactions.\n",
      "ItemKNNCFRecommender: URM Detected 247 ( 1.1%) items with no interactions.\n",
      "Similarity column 22347 (100.0%), 6527.77 column/sec. Elapsed time 3.42 sec\n",
      "EvaluatorHoldout: Processed 10456 (100.0%) in 11.75 sec. Users per second: 890\n"
     ]
    },
    {
     "name": "stderr",
     "output_type": "stream",
     "text": [
      "[I 2023-12-24 18:46:09,479] Trial 211 finished with value: 0.25665200217621387 and parameters: {'topK': 182, 'shrink': 483, 'similarity': 'tanimoto', 'feature_weighting': 'BM25'}. Best is trial 203 with value: 0.25677035105328766.\n"
     ]
    },
    {
     "name": "stdout",
     "output_type": "stream",
     "text": [
      "ItemKNNCFRecommender: URM Detected 627 ( 4.8%) users with no interactions.\n",
      "ItemKNNCFRecommender: URM Detected 247 ( 1.1%) items with no interactions.\n",
      "Similarity column 22347 (100.0%), 6753.42 column/sec. Elapsed time 3.31 sec\n",
      "EvaluatorHoldout: Processed 10456 (100.0%) in 12.34 sec. Users per second: 847\n"
     ]
    },
    {
     "name": "stderr",
     "output_type": "stream",
     "text": [
      "[I 2023-12-24 18:46:25,547] Trial 212 finished with value: 0.2549423159281884 and parameters: {'topK': 232, 'shrink': 490, 'similarity': 'tanimoto', 'feature_weighting': 'BM25'}. Best is trial 203 with value: 0.25677035105328766.\n"
     ]
    },
    {
     "name": "stdout",
     "output_type": "stream",
     "text": [
      "ItemKNNCFRecommender: URM Detected 627 ( 4.8%) users with no interactions.\n",
      "ItemKNNCFRecommender: URM Detected 247 ( 1.1%) items with no interactions.\n",
      "Similarity column 22347 (100.0%), 6731.55 column/sec. Elapsed time 3.32 sec\n",
      "EvaluatorHoldout: Processed 10456 (100.0%) in 11.60 sec. Users per second: 901\n"
     ]
    },
    {
     "name": "stderr",
     "output_type": "stream",
     "text": [
      "[I 2023-12-24 18:46:40,831] Trial 213 finished with value: 0.2563809422277134 and parameters: {'topK': 180, 'shrink': 481, 'similarity': 'tanimoto', 'feature_weighting': 'BM25'}. Best is trial 203 with value: 0.25677035105328766.\n"
     ]
    },
    {
     "name": "stdout",
     "output_type": "stream",
     "text": [
      "ItemKNNCFRecommender: URM Detected 627 ( 4.8%) users with no interactions.\n",
      "ItemKNNCFRecommender: URM Detected 247 ( 1.1%) items with no interactions.\n",
      "Similarity column 22347 (100.0%), 6703.92 column/sec. Elapsed time 3.33 sec\n",
      "EvaluatorHoldout: Processed 10456 (100.0%) in 12.25 sec. Users per second: 854\n"
     ]
    },
    {
     "name": "stderr",
     "output_type": "stream",
     "text": [
      "[I 2023-12-24 18:46:56,811] Trial 214 finished with value: 0.25618481695650636 and parameters: {'topK': 197, 'shrink': 469, 'similarity': 'tanimoto', 'feature_weighting': 'BM25'}. Best is trial 203 with value: 0.25677035105328766.\n"
     ]
    },
    {
     "name": "stdout",
     "output_type": "stream",
     "text": [
      "ItemKNNCFRecommender: URM Detected 627 ( 4.8%) users with no interactions.\n",
      "ItemKNNCFRecommender: URM Detected 247 ( 1.1%) items with no interactions.\n",
      "Similarity column 22347 (100.0%), 6529.15 column/sec. Elapsed time 3.42 sec\n",
      "EvaluatorHoldout: Processed 10456 (100.0%) in 11.04 sec. Users per second: 947\n"
     ]
    },
    {
     "name": "stderr",
     "output_type": "stream",
     "text": [
      "[I 2023-12-24 18:47:11,610] Trial 215 finished with value: 0.25407973469676354 and parameters: {'topK': 101, 'shrink': 455, 'similarity': 'tanimoto', 'feature_weighting': 'BM25'}. Best is trial 203 with value: 0.25677035105328766.\n"
     ]
    },
    {
     "name": "stdout",
     "output_type": "stream",
     "text": [
      "ItemKNNCFRecommender: URM Detected 627 ( 4.8%) users with no interactions.\n",
      "ItemKNNCFRecommender: URM Detected 247 ( 1.1%) items with no interactions.\n",
      "Similarity column 22347 (100.0%), 6737.38 column/sec. Elapsed time 3.32 sec\n",
      "EvaluatorHoldout: Processed 10456 (100.0%) in 12.98 sec. Users per second: 805\n"
     ]
    },
    {
     "name": "stderr",
     "output_type": "stream",
     "text": [
      "[I 2023-12-24 18:47:28,332] Trial 216 finished with value: 0.254473565916363 and parameters: {'topK': 252, 'shrink': 491, 'similarity': 'tanimoto', 'feature_weighting': 'BM25'}. Best is trial 203 with value: 0.25677035105328766.\n"
     ]
    },
    {
     "name": "stdout",
     "output_type": "stream",
     "text": [
      "ItemKNNCFRecommender: URM Detected 627 ( 4.8%) users with no interactions.\n",
      "ItemKNNCFRecommender: URM Detected 247 ( 1.1%) items with no interactions.\n",
      "Similarity column 22347 (100.0%), 6786.93 column/sec. Elapsed time 3.29 sec\n",
      "EvaluatorHoldout: Processed 10456 (100.0%) in 11.57 sec. Users per second: 903\n"
     ]
    },
    {
     "name": "stderr",
     "output_type": "stream",
     "text": [
      "[I 2023-12-24 18:47:43,590] Trial 217 finished with value: 0.21590200496640866 and parameters: {'topK': 154, 'shrink': 480, 'similarity': 'tanimoto', 'feature_weighting': 'TF-IDF'}. Best is trial 203 with value: 0.25677035105328766.\n"
     ]
    },
    {
     "name": "stdout",
     "output_type": "stream",
     "text": [
      "ItemKNNCFRecommender: URM Detected 627 ( 4.8%) users with no interactions.\n",
      "ItemKNNCFRecommender: URM Detected 247 ( 1.1%) items with no interactions.\n",
      "Similarity column 22347 (100.0%), 6629.53 column/sec. Elapsed time 3.37 sec\n",
      "EvaluatorHoldout: Processed 10456 (100.0%) in 14.02 sec. Users per second: 746\n"
     ]
    },
    {
     "name": "stderr",
     "output_type": "stream",
     "text": [
      "[I 2023-12-24 18:48:01,453] Trial 218 finished with value: 0.25445023401761574 and parameters: {'topK': 325, 'shrink': 491, 'similarity': 'tanimoto', 'feature_weighting': 'BM25'}. Best is trial 203 with value: 0.25677035105328766.\n"
     ]
    },
    {
     "name": "stdout",
     "output_type": "stream",
     "text": [
      "ItemKNNCFRecommender: URM Detected 627 ( 4.8%) users with no interactions.\n",
      "ItemKNNCFRecommender: URM Detected 247 ( 1.1%) items with no interactions.\n",
      "Similarity column 22347 (100.0%), 6601.64 column/sec. Elapsed time 3.39 sec\n",
      "EvaluatorHoldout: Processed 10456 (100.0%) in 12.33 sec. Users per second: 848\n"
     ]
    },
    {
     "name": "stderr",
     "output_type": "stream",
     "text": [
      "[I 2023-12-24 18:48:17,538] Trial 219 finished with value: 0.21508709621336697 and parameters: {'topK': 205, 'shrink': 464, 'similarity': 'tanimoto', 'feature_weighting': 'none'}. Best is trial 203 with value: 0.25677035105328766.\n"
     ]
    },
    {
     "name": "stdout",
     "output_type": "stream",
     "text": [
      "ItemKNNCFRecommender: URM Detected 627 ( 4.8%) users with no interactions.\n",
      "ItemKNNCFRecommender: URM Detected 247 ( 1.1%) items with no interactions.\n",
      "Similarity column 22347 (100.0%), 6625.85 column/sec. Elapsed time 3.37 sec\n",
      "EvaluatorHoldout: Processed 10456 (100.0%) in 10.28 sec. Users per second: 1017\n"
     ]
    },
    {
     "name": "stderr",
     "output_type": "stream",
     "text": [
      "[I 2023-12-24 18:48:31,545] Trial 220 finished with value: 0.25429986728352627 and parameters: {'topK': 73, 'shrink': 479, 'similarity': 'tanimoto', 'feature_weighting': 'BM25'}. Best is trial 203 with value: 0.25677035105328766.\n"
     ]
    },
    {
     "name": "stdout",
     "output_type": "stream",
     "text": [
      "ItemKNNCFRecommender: URM Detected 627 ( 4.8%) users with no interactions.\n",
      "ItemKNNCFRecommender: URM Detected 247 ( 1.1%) items with no interactions.\n",
      "Similarity column 22347 (100.0%), 6582.34 column/sec. Elapsed time 3.40 sec\n",
      "EvaluatorHoldout: Processed 10456 (100.0%) in 12.23 sec. Users per second: 855\n"
     ]
    },
    {
     "name": "stderr",
     "output_type": "stream",
     "text": [
      "[I 2023-12-24 18:48:47,534] Trial 221 finished with value: 0.25633443394923044 and parameters: {'topK': 171, 'shrink': 484, 'similarity': 'tanimoto', 'feature_weighting': 'BM25'}. Best is trial 203 with value: 0.25677035105328766.\n"
     ]
    },
    {
     "name": "stdout",
     "output_type": "stream",
     "text": [
      "ItemKNNCFRecommender: URM Detected 627 ( 4.8%) users with no interactions.\n",
      "ItemKNNCFRecommender: URM Detected 247 ( 1.1%) items with no interactions.\n",
      "Similarity column 22347 (100.0%), 6634.85 column/sec. Elapsed time 3.37 sec\n",
      "EvaluatorHoldout: Processed 10456 (100.0%) in 11.53 sec. Users per second: 907\n"
     ]
    },
    {
     "name": "stderr",
     "output_type": "stream",
     "text": [
      "[I 2023-12-24 18:49:02,816] Trial 222 finished with value: 0.25567797530930136 and parameters: {'topK': 151, 'shrink': 492, 'similarity': 'tanimoto', 'feature_weighting': 'BM25'}. Best is trial 203 with value: 0.25677035105328766.\n"
     ]
    },
    {
     "name": "stdout",
     "output_type": "stream",
     "text": [
      "ItemKNNCFRecommender: URM Detected 627 ( 4.8%) users with no interactions.\n",
      "ItemKNNCFRecommender: URM Detected 247 ( 1.1%) items with no interactions.\n",
      "Similarity column 22347 (100.0%), 6674.47 column/sec. Elapsed time 3.35 sec\n",
      "EvaluatorHoldout: Processed 10456 (100.0%) in 12.17 sec. Users per second: 859\n"
     ]
    },
    {
     "name": "stderr",
     "output_type": "stream",
     "text": [
      "[I 2023-12-24 18:49:18,719] Trial 223 finished with value: 0.256368641064949 and parameters: {'topK': 192, 'shrink': 474, 'similarity': 'tanimoto', 'feature_weighting': 'BM25'}. Best is trial 203 with value: 0.25677035105328766.\n"
     ]
    },
    {
     "name": "stdout",
     "output_type": "stream",
     "text": [
      "ItemKNNCFRecommender: URM Detected 627 ( 4.8%) users with no interactions.\n",
      "ItemKNNCFRecommender: URM Detected 247 ( 1.1%) items with no interactions.\n",
      "Similarity column 22347 (100.0%), 6751.58 column/sec. Elapsed time 3.31 sec\n",
      "EvaluatorHoldout: Processed 10456 (100.0%) in 12.25 sec. Users per second: 853\n"
     ]
    },
    {
     "name": "stderr",
     "output_type": "stream",
     "text": [
      "[I 2023-12-24 18:49:34,679] Trial 224 finished with value: 0.2554347736907773 and parameters: {'topK': 212, 'shrink': 472, 'similarity': 'tanimoto', 'feature_weighting': 'BM25'}. Best is trial 203 with value: 0.25677035105328766.\n"
     ]
    },
    {
     "name": "stdout",
     "output_type": "stream",
     "text": [
      "ItemKNNCFRecommender: URM Detected 627 ( 4.8%) users with no interactions.\n",
      "ItemKNNCFRecommender: URM Detected 247 ( 1.1%) items with no interactions.\n",
      "Similarity column 22347 (100.0%), 6642.52 column/sec. Elapsed time 3.36 sec\n",
      "EvaluatorHoldout: Processed 10456 (100.0%) in 11.10 sec. Users per second: 942\n"
     ]
    },
    {
     "name": "stderr",
     "output_type": "stream",
     "text": [
      "[I 2023-12-24 18:49:49,497] Trial 225 finished with value: 0.25409124357243396 and parameters: {'topK': 129, 'shrink': 500, 'similarity': 'tanimoto', 'feature_weighting': 'BM25'}. Best is trial 203 with value: 0.25677035105328766.\n"
     ]
    },
    {
     "name": "stdout",
     "output_type": "stream",
     "text": [
      "ItemKNNCFRecommender: URM Detected 627 ( 4.8%) users with no interactions.\n",
      "ItemKNNCFRecommender: URM Detected 247 ( 1.1%) items with no interactions.\n",
      "Similarity column 22347 (100.0%), 6697.27 column/sec. Elapsed time 3.34 sec\n",
      "EvaluatorHoldout: Processed 10456 (100.0%) in 12.15 sec. Users per second: 860\n"
     ]
    },
    {
     "name": "stderr",
     "output_type": "stream",
     "text": [
      "[I 2023-12-24 18:50:05,414] Trial 226 finished with value: 0.24801985141549465 and parameters: {'topK': 249, 'shrink': 187, 'similarity': 'tanimoto', 'feature_weighting': 'BM25'}. Best is trial 203 with value: 0.25677035105328766.\n"
     ]
    },
    {
     "name": "stdout",
     "output_type": "stream",
     "text": [
      "ItemKNNCFRecommender: URM Detected 627 ( 4.8%) users with no interactions.\n",
      "ItemKNNCFRecommender: URM Detected 247 ( 1.1%) items with no interactions.\n",
      "Similarity column 22347 (100.0%), 6067.93 column/sec. Elapsed time 3.68 sec\n",
      "EvaluatorHoldout: Processed 10456 (100.0%) in 8.88 sec. Users per second: 1177\n"
     ]
    },
    {
     "name": "stderr",
     "output_type": "stream",
     "text": [
      "[I 2023-12-24 18:50:18,393] Trial 227 finished with value: 0.11359565350881361 and parameters: {'topK': 181, 'shrink': 446, 'similarity': 'asymmetric', 'feature_weighting': 'BM25', 'asymmetric_alpha': 0.48718808082067255}. Best is trial 203 with value: 0.25677035105328766.\n"
     ]
    },
    {
     "name": "stdout",
     "output_type": "stream",
     "text": [
      "ItemKNNCFRecommender: URM Detected 627 ( 4.8%) users with no interactions.\n",
      "ItemKNNCFRecommender: URM Detected 247 ( 1.1%) items with no interactions.\n",
      "Similarity column 22347 (100.0%), 6731.90 column/sec. Elapsed time 3.32 sec\n",
      "EvaluatorHoldout: Processed 10456 (100.0%) in 12.32 sec. Users per second: 849\n"
     ]
    },
    {
     "name": "stderr",
     "output_type": "stream",
     "text": [
      "[I 2023-12-24 18:50:34,443] Trial 228 finished with value: 0.25486354965316776 and parameters: {'topK': 226, 'shrink': 472, 'similarity': 'tanimoto', 'feature_weighting': 'BM25'}. Best is trial 203 with value: 0.25677035105328766.\n"
     ]
    },
    {
     "name": "stdout",
     "output_type": "stream",
     "text": [
      "ItemKNNCFRecommender: URM Detected 627 ( 4.8%) users with no interactions.\n",
      "ItemKNNCFRecommender: URM Detected 247 ( 1.1%) items with no interactions.\n",
      "Similarity column 22347 (100.0%), 6611.87 column/sec. Elapsed time 3.38 sec\n",
      "EvaluatorHoldout: Processed 10456 (100.0%) in 13.21 sec. Users per second: 792\n"
     ]
    },
    {
     "name": "stderr",
     "output_type": "stream",
     "text": [
      "[I 2023-12-24 18:50:51,482] Trial 229 finished with value: 0.2546075521645399 and parameters: {'topK': 281, 'shrink': 462, 'similarity': 'tanimoto', 'feature_weighting': 'BM25'}. Best is trial 203 with value: 0.25677035105328766.\n"
     ]
    },
    {
     "name": "stdout",
     "output_type": "stream",
     "text": [
      "ItemKNNCFRecommender: URM Detected 627 ( 4.8%) users with no interactions.\n",
      "ItemKNNCFRecommender: URM Detected 247 ( 1.1%) items with no interactions.\n",
      "Similarity column 22347 (100.0%), 6921.86 column/sec. Elapsed time 3.23 sec\n",
      "EvaluatorHoldout: Processed 10456 (100.0%) in 11.12 sec. Users per second: 940\n"
     ]
    },
    {
     "name": "stderr",
     "output_type": "stream",
     "text": [
      "[I 2023-12-24 18:51:06,184] Trial 230 finished with value: 0.2534555149386933 and parameters: {'topK': 129, 'shrink': 483, 'similarity': 'dice', 'feature_weighting': 'BM25'}. Best is trial 203 with value: 0.25677035105328766.\n"
     ]
    },
    {
     "name": "stdout",
     "output_type": "stream",
     "text": [
      "ItemKNNCFRecommender: URM Detected 627 ( 4.8%) users with no interactions.\n",
      "ItemKNNCFRecommender: URM Detected 247 ( 1.1%) items with no interactions.\n",
      "Similarity column 22347 (100.0%), 6346.98 column/sec. Elapsed time 3.52 sec\n",
      "EvaluatorHoldout: Processed 10456 (100.0%) in 11.83 sec. Users per second: 884\n"
     ]
    },
    {
     "name": "stderr",
     "output_type": "stream",
     "text": [
      "[I 2023-12-24 18:51:21,917] Trial 231 finished with value: 0.2567273746708115 and parameters: {'topK': 175, 'shrink': 482, 'similarity': 'tanimoto', 'feature_weighting': 'BM25'}. Best is trial 203 with value: 0.25677035105328766.\n"
     ]
    },
    {
     "name": "stdout",
     "output_type": "stream",
     "text": [
      "ItemKNNCFRecommender: URM Detected 627 ( 4.8%) users with no interactions.\n",
      "ItemKNNCFRecommender: URM Detected 247 ( 1.1%) items with no interactions.\n",
      "Similarity column 22347 (100.0%), 6655.97 column/sec. Elapsed time 3.36 sec\n",
      "EvaluatorHoldout: Processed 10456 (100.0%) in 11.98 sec. Users per second: 873\n"
     ]
    },
    {
     "name": "stderr",
     "output_type": "stream",
     "text": [
      "[I 2023-12-24 18:51:37,661] Trial 232 finished with value: 0.2564899836697047 and parameters: {'topK': 192, 'shrink': 491, 'similarity': 'tanimoto', 'feature_weighting': 'BM25'}. Best is trial 203 with value: 0.25677035105328766.\n"
     ]
    },
    {
     "name": "stdout",
     "output_type": "stream",
     "text": [
      "ItemKNNCFRecommender: URM Detected 627 ( 4.8%) users with no interactions.\n",
      "ItemKNNCFRecommender: URM Detected 247 ( 1.1%) items with no interactions.\n",
      "Similarity column 22347 (100.0%), 6625.32 column/sec. Elapsed time 3.37 sec\n",
      "EvaluatorHoldout: Processed 10456 (100.0%) in 11.61 sec. Users per second: 900\n"
     ]
    },
    {
     "name": "stderr",
     "output_type": "stream",
     "text": [
      "[I 2023-12-24 18:51:53,060] Trial 233 finished with value: 0.2561894447603147 and parameters: {'topK': 162, 'shrink': 492, 'similarity': 'tanimoto', 'feature_weighting': 'BM25'}. Best is trial 203 with value: 0.25677035105328766.\n"
     ]
    },
    {
     "name": "stdout",
     "output_type": "stream",
     "text": [
      "ItemKNNCFRecommender: URM Detected 627 ( 4.8%) users with no interactions.\n",
      "ItemKNNCFRecommender: URM Detected 247 ( 1.1%) items with no interactions.\n",
      "Similarity column 22347 (100.0%), 6401.33 column/sec. Elapsed time 3.49 sec\n",
      "EvaluatorHoldout: Processed 10456 (100.0%) in 15.96 sec. Users per second: 655\n"
     ]
    },
    {
     "name": "stderr",
     "output_type": "stream",
     "text": [
      "[I 2023-12-24 18:52:13,124] Trial 234 finished with value: 0.24785391432598078 and parameters: {'topK': 685, 'shrink': 492, 'similarity': 'tanimoto', 'feature_weighting': 'BM25'}. Best is trial 203 with value: 0.25677035105328766.\n"
     ]
    },
    {
     "name": "stdout",
     "output_type": "stream",
     "text": [
      "ItemKNNCFRecommender: URM Detected 627 ( 4.8%) users with no interactions.\n",
      "ItemKNNCFRecommender: URM Detected 247 ( 1.1%) items with no interactions.\n",
      "Similarity column 22347 (100.0%), 6713.06 column/sec. Elapsed time 3.33 sec\n",
      "EvaluatorHoldout: Processed 10456 (100.0%) in 10.65 sec. Users per second: 982\n"
     ]
    },
    {
     "name": "stderr",
     "output_type": "stream",
     "text": [
      "[I 2023-12-24 18:52:27,421] Trial 235 finished with value: 0.2549599151833282 and parameters: {'topK': 102, 'shrink': 500, 'similarity': 'tanimoto', 'feature_weighting': 'BM25'}. Best is trial 203 with value: 0.25677035105328766.\n"
     ]
    },
    {
     "name": "stdout",
     "output_type": "stream",
     "text": [
      "ItemKNNCFRecommender: URM Detected 627 ( 4.8%) users with no interactions.\n",
      "ItemKNNCFRecommender: URM Detected 247 ( 1.1%) items with no interactions.\n",
      "Similarity column 22347 (100.0%), 6589.37 column/sec. Elapsed time 3.39 sec\n",
      "EvaluatorHoldout: Processed 10456 (100.0%) in 11.91 sec. Users per second: 878\n"
     ]
    },
    {
     "name": "stderr",
     "output_type": "stream",
     "text": [
      "[I 2023-12-24 18:52:43,161] Trial 236 finished with value: 0.2546980104909946 and parameters: {'topK': 229, 'shrink': 483, 'similarity': 'tversky', 'feature_weighting': 'BM25', 'tversky_alpha': 1.2927047573882173, 'tversky_beta': 1.9622849545757548}. Best is trial 203 with value: 0.25677035105328766.\n"
     ]
    },
    {
     "name": "stdout",
     "output_type": "stream",
     "text": [
      "ItemKNNCFRecommender: URM Detected 627 ( 4.8%) users with no interactions.\n",
      "ItemKNNCFRecommender: URM Detected 247 ( 1.1%) items with no interactions.\n",
      "Similarity column 22347 (100.0%), 6675.87 column/sec. Elapsed time 3.35 sec\n",
      "EvaluatorHoldout: Processed 10456 (100.0%) in 11.79 sec. Users per second: 887\n"
     ]
    },
    {
     "name": "stderr",
     "output_type": "stream",
     "text": [
      "[I 2023-12-24 18:52:58,676] Trial 237 finished with value: 0.2565942068078665 and parameters: {'topK': 182, 'shrink': 484, 'similarity': 'tanimoto', 'feature_weighting': 'BM25'}. Best is trial 203 with value: 0.25677035105328766.\n"
     ]
    },
    {
     "name": "stdout",
     "output_type": "stream",
     "text": [
      "ItemKNNCFRecommender: URM Detected 627 ( 4.8%) users with no interactions.\n",
      "ItemKNNCFRecommender: URM Detected 247 ( 1.1%) items with no interactions.\n",
      "Similarity column 22347 (100.0%), 6796.50 column/sec. Elapsed time 3.29 sec\n",
      "EvaluatorHoldout: Processed 10456 (100.0%) in 11.54 sec. Users per second: 906\n"
     ]
    },
    {
     "name": "stderr",
     "output_type": "stream",
     "text": [
      "[I 2023-12-24 18:53:13,876] Trial 238 finished with value: 0.2553565378202989 and parameters: {'topK': 140, 'shrink': 492, 'similarity': 'tanimoto', 'feature_weighting': 'BM25'}. Best is trial 203 with value: 0.25677035105328766.\n"
     ]
    },
    {
     "name": "stdout",
     "output_type": "stream",
     "text": [
      "ItemKNNCFRecommender: URM Detected 627 ( 4.8%) users with no interactions.\n",
      "ItemKNNCFRecommender: URM Detected 247 ( 1.1%) items with no interactions.\n",
      "Similarity column 22347 (100.0%), 6652.94 column/sec. Elapsed time 3.36 sec\n",
      "EvaluatorHoldout: Processed 10456 (100.0%) in 12.21 sec. Users per second: 856\n"
     ]
    },
    {
     "name": "stderr",
     "output_type": "stream",
     "text": [
      "[I 2023-12-24 18:53:29,846] Trial 239 finished with value: 0.25607218570005263 and parameters: {'topK': 202, 'shrink': 485, 'similarity': 'tanimoto', 'feature_weighting': 'BM25'}. Best is trial 203 with value: 0.25677035105328766.\n"
     ]
    },
    {
     "name": "stdout",
     "output_type": "stream",
     "text": [
      "ItemKNNCFRecommender: URM Detected 627 ( 4.8%) users with no interactions.\n",
      "ItemKNNCFRecommender: URM Detected 247 ( 1.1%) items with no interactions.\n",
      "Similarity column 22347 (100.0%), 6678.94 column/sec. Elapsed time 3.35 sec\n",
      "EvaluatorHoldout: Processed 10456 (100.0%) in 12.81 sec. Users per second: 816\n"
     ]
    },
    {
     "name": "stderr",
     "output_type": "stream",
     "text": [
      "[I 2023-12-24 18:53:46,410] Trial 240 finished with value: 0.2547601687041968 and parameters: {'topK': 252, 'shrink': 500, 'similarity': 'tanimoto', 'feature_weighting': 'BM25'}. Best is trial 203 with value: 0.25677035105328766.\n"
     ]
    },
    {
     "name": "stdout",
     "output_type": "stream",
     "text": [
      "ItemKNNCFRecommender: URM Detected 627 ( 4.8%) users with no interactions.\n",
      "ItemKNNCFRecommender: URM Detected 247 ( 1.1%) items with no interactions.\n",
      "Similarity column 22347 (100.0%), 6734.55 column/sec. Elapsed time 3.32 sec\n",
      "EvaluatorHoldout: Processed 10456 (100.0%) in 11.84 sec. Users per second: 883\n"
     ]
    },
    {
     "name": "stderr",
     "output_type": "stream",
     "text": [
      "[I 2023-12-24 18:54:01,965] Trial 241 finished with value: 0.2565059992617193 and parameters: {'topK': 186, 'shrink': 478, 'similarity': 'tanimoto', 'feature_weighting': 'BM25'}. Best is trial 203 with value: 0.25677035105328766.\n"
     ]
    },
    {
     "name": "stdout",
     "output_type": "stream",
     "text": [
      "ItemKNNCFRecommender: URM Detected 627 ( 4.8%) users with no interactions.\n",
      "ItemKNNCFRecommender: URM Detected 247 ( 1.1%) items with no interactions.\n",
      "Similarity column 22347 (100.0%), 6627.75 column/sec. Elapsed time 3.37 sec\n",
      "EvaluatorHoldout: Processed 10456 (100.0%) in 11.60 sec. Users per second: 901\n"
     ]
    },
    {
     "name": "stderr",
     "output_type": "stream",
     "text": [
      "[I 2023-12-24 18:54:17,328] Trial 242 finished with value: 0.2562359421285735 and parameters: {'topK': 171, 'shrink': 475, 'similarity': 'tanimoto', 'feature_weighting': 'BM25'}. Best is trial 203 with value: 0.25677035105328766.\n"
     ]
    },
    {
     "name": "stdout",
     "output_type": "stream",
     "text": [
      "ItemKNNCFRecommender: URM Detected 627 ( 4.8%) users with no interactions.\n",
      "ItemKNNCFRecommender: URM Detected 247 ( 1.1%) items with no interactions.\n",
      "Similarity column 22347 (100.0%), 6728.06 column/sec. Elapsed time 3.32 sec\n",
      "EvaluatorHoldout: Processed 10456 (100.0%) in 11.08 sec. Users per second: 944\n"
     ]
    },
    {
     "name": "stderr",
     "output_type": "stream",
     "text": [
      "[I 2023-12-24 18:54:32,103] Trial 243 finished with value: 0.254462778848397 and parameters: {'topK': 129, 'shrink': 488, 'similarity': 'tanimoto', 'feature_weighting': 'BM25'}. Best is trial 203 with value: 0.25677035105328766.\n"
     ]
    },
    {
     "name": "stdout",
     "output_type": "stream",
     "text": [
      "ItemKNNCFRecommender: URM Detected 627 ( 4.8%) users with no interactions.\n",
      "ItemKNNCFRecommender: URM Detected 247 ( 1.1%) items with no interactions.\n",
      "Similarity column 22347 (100.0%), 6655.14 column/sec. Elapsed time 3.36 sec\n",
      "EvaluatorHoldout: Processed 10456 (100.0%) in 11.59 sec. Users per second: 902\n"
     ]
    },
    {
     "name": "stderr",
     "output_type": "stream",
     "text": [
      "[I 2023-12-24 18:54:47,477] Trial 244 finished with value: 0.25214498848724665 and parameters: {'topK': 215, 'shrink': 291, 'similarity': 'tanimoto', 'feature_weighting': 'BM25'}. Best is trial 203 with value: 0.25677035105328766.\n"
     ]
    },
    {
     "name": "stdout",
     "output_type": "stream",
     "text": [
      "ItemKNNCFRecommender: URM Detected 627 ( 4.8%) users with no interactions.\n",
      "ItemKNNCFRecommender: URM Detected 247 ( 1.1%) items with no interactions.\n",
      "Similarity column 22347 (100.0%), 6772.15 column/sec. Elapsed time 3.30 sec\n",
      "EvaluatorHoldout: Processed 10456 (100.0%) in 11.90 sec. Users per second: 879\n"
     ]
    },
    {
     "name": "stderr",
     "output_type": "stream",
     "text": [
      "[I 2023-12-24 18:55:03,044] Trial 245 finished with value: 0.2563242055825412 and parameters: {'topK': 174, 'shrink': 468, 'similarity': 'tanimoto', 'feature_weighting': 'BM25'}. Best is trial 203 with value: 0.25677035105328766.\n"
     ]
    },
    {
     "name": "stdout",
     "output_type": "stream",
     "text": [
      "ItemKNNCFRecommender: URM Detected 627 ( 4.8%) users with no interactions.\n",
      "ItemKNNCFRecommender: URM Detected 247 ( 1.1%) items with no interactions.\n",
      "Similarity column 22347 (100.0%), 6505.47 column/sec. Elapsed time 3.44 sec\n",
      "EvaluatorHoldout: Processed 10456 (100.0%) in 10.61 sec. Users per second: 986\n"
     ]
    },
    {
     "name": "stderr",
     "output_type": "stream",
     "text": [
      "[I 2023-12-24 18:55:17,463] Trial 246 finished with value: 0.2546141245515184 and parameters: {'topK': 95, 'shrink': 479, 'similarity': 'tanimoto', 'feature_weighting': 'BM25'}. Best is trial 203 with value: 0.25677035105328766.\n"
     ]
    },
    {
     "name": "stdout",
     "output_type": "stream",
     "text": [
      "ItemKNNCFRecommender: URM Detected 627 ( 4.8%) users with no interactions.\n",
      "ItemKNNCFRecommender: URM Detected 247 ( 1.1%) items with no interactions.\n",
      "Similarity column 22347 (100.0%), 6667.16 column/sec. Elapsed time 3.35 sec\n",
      "EvaluatorHoldout: Processed 10456 (100.0%) in 11.39 sec. Users per second: 918\n"
     ]
    },
    {
     "name": "stderr",
     "output_type": "stream",
     "text": [
      "[I 2023-12-24 18:55:32,579] Trial 247 finished with value: 0.25557203129779427 and parameters: {'topK': 145, 'shrink': 491, 'similarity': 'tanimoto', 'feature_weighting': 'BM25'}. Best is trial 203 with value: 0.25677035105328766.\n"
     ]
    },
    {
     "name": "stdout",
     "output_type": "stream",
     "text": [
      "ItemKNNCFRecommender: URM Detected 627 ( 4.8%) users with no interactions.\n",
      "ItemKNNCFRecommender: URM Detected 247 ( 1.1%) items with no interactions.\n",
      "Similarity column 22347 (100.0%), 6695.54 column/sec. Elapsed time 3.34 sec\n",
      "EvaluatorHoldout: Processed 10456 (100.0%) in 12.15 sec. Users per second: 861\n"
     ]
    },
    {
     "name": "stderr",
     "output_type": "stream",
     "text": [
      "[I 2023-12-24 18:55:48,461] Trial 248 finished with value: 0.2558874370754855 and parameters: {'topK': 195, 'shrink': 464, 'similarity': 'tanimoto', 'feature_weighting': 'BM25'}. Best is trial 203 with value: 0.25677035105328766.\n"
     ]
    },
    {
     "name": "stdout",
     "output_type": "stream",
     "text": [
      "ItemKNNCFRecommender: URM Detected 627 ( 4.8%) users with no interactions.\n",
      "ItemKNNCFRecommender: URM Detected 247 ( 1.1%) items with no interactions.\n",
      "Similarity column 22347 (100.0%), 6550.08 column/sec. Elapsed time 3.41 sec\n",
      "EvaluatorHoldout: Processed 10456 (100.0%) in 9.03 sec. Users per second: 1158\n"
     ]
    },
    {
     "name": "stderr",
     "output_type": "stream",
     "text": [
      "[I 2023-12-24 18:56:01,251] Trial 249 finished with value: 0.11297156451456708 and parameters: {'topK': 230, 'shrink': 479, 'similarity': 'cosine', 'feature_weighting': 'BM25'}. Best is trial 203 with value: 0.25677035105328766.\n"
     ]
    },
    {
     "name": "stdout",
     "output_type": "stream",
     "text": [
      "ItemKNNCFRecommender: URM Detected 627 ( 4.8%) users with no interactions.\n",
      "ItemKNNCFRecommender: URM Detected 247 ( 1.1%) items with no interactions.\n",
      "Similarity column 22347 (100.0%), 6750.51 column/sec. Elapsed time 3.31 sec\n",
      "EvaluatorHoldout: Processed 10456 (100.0%) in 11.25 sec. Users per second: 929\n"
     ]
    },
    {
     "name": "stderr",
     "output_type": "stream",
     "text": [
      "[I 2023-12-24 18:56:16,172] Trial 250 finished with value: 0.2554452128891312 and parameters: {'topK': 141, 'shrink': 491, 'similarity': 'tanimoto', 'feature_weighting': 'BM25'}. Best is trial 203 with value: 0.25677035105328766.\n"
     ]
    },
    {
     "name": "stdout",
     "output_type": "stream",
     "text": [
      "ItemKNNCFRecommender: URM Detected 627 ( 4.8%) users with no interactions.\n",
      "ItemKNNCFRecommender: URM Detected 247 ( 1.1%) items with no interactions.\n",
      "Similarity column 22347 (100.0%), 6247.56 column/sec. Elapsed time 3.58 sec\n",
      "EvaluatorHoldout: Processed 10456 (100.0%) in 17.40 sec. Users per second: 601\n"
     ]
    },
    {
     "name": "stderr",
     "output_type": "stream",
     "text": [
      "[I 2023-12-24 18:56:37,874] Trial 251 finished with value: 0.24238517248549143 and parameters: {'topK': 1071, 'shrink': 500, 'similarity': 'tanimoto', 'feature_weighting': 'BM25'}. Best is trial 203 with value: 0.25677035105328766.\n"
     ]
    },
    {
     "name": "stdout",
     "output_type": "stream",
     "text": [
      "ItemKNNCFRecommender: URM Detected 627 ( 4.8%) users with no interactions.\n",
      "ItemKNNCFRecommender: URM Detected 247 ( 1.1%) items with no interactions.\n",
      "Similarity column 22347 (100.0%), 6488.89 column/sec. Elapsed time 3.44 sec\n",
      "EvaluatorHoldout: Processed 10456 (100.0%) in 12.81 sec. Users per second: 816\n"
     ]
    },
    {
     "name": "stderr",
     "output_type": "stream",
     "text": [
      "[I 2023-12-24 18:56:54,548] Trial 252 finished with value: 0.256359607505551 and parameters: {'topK': 177, 'shrink': 476, 'similarity': 'tanimoto', 'feature_weighting': 'BM25'}. Best is trial 203 with value: 0.25677035105328766.\n"
     ]
    },
    {
     "name": "stdout",
     "output_type": "stream",
     "text": [
      "ItemKNNCFRecommender: URM Detected 627 ( 4.8%) users with no interactions.\n",
      "ItemKNNCFRecommender: URM Detected 247 ( 1.1%) items with no interactions.\n",
      "Similarity column 22347 (100.0%), 982.95 column/sec. Elapsed time 22.73 sec\n",
      "EvaluatorHoldout: Processed 10456 (100.0%) in 9.86 sec. Users per second: 1061\n"
     ]
    },
    {
     "name": "stderr",
     "output_type": "stream",
     "text": [
      "[I 2023-12-24 18:57:27,603] Trial 253 finished with value: 0.07913479362338534 and parameters: {'topK': 272, 'shrink': 353, 'similarity': 'euclidean', 'feature_weighting': 'BM25', 'normalize_avg_row': True, 'similarity_from_distance_mode': 'lin', 'normalize': True}. Best is trial 203 with value: 0.25677035105328766.\n"
     ]
    },
    {
     "name": "stdout",
     "output_type": "stream",
     "text": [
      "ItemKNNCFRecommender: URM Detected 627 ( 4.8%) users with no interactions.\n",
      "ItemKNNCFRecommender: URM Detected 247 ( 1.1%) items with no interactions.\n",
      "Similarity column 22347 (100.0%), 6678.16 column/sec. Elapsed time 3.35 sec\n",
      "EvaluatorHoldout: Processed 10456 (100.0%) in 12.46 sec. Users per second: 839\n"
     ]
    },
    {
     "name": "stderr",
     "output_type": "stream",
     "text": [
      "[I 2023-12-24 18:57:43,810] Trial 254 finished with value: 0.21502057521245285 and parameters: {'topK': 217, 'shrink': 454, 'similarity': 'tanimoto', 'feature_weighting': 'TF-IDF'}. Best is trial 203 with value: 0.25677035105328766.\n"
     ]
    },
    {
     "name": "stdout",
     "output_type": "stream",
     "text": [
      "ItemKNNCFRecommender: URM Detected 627 ( 4.8%) users with no interactions.\n",
      "ItemKNNCFRecommender: URM Detected 247 ( 1.1%) items with no interactions.\n",
      "Similarity column 22347 (100.0%), 6948.22 column/sec. Elapsed time 3.22 sec\n",
      "EvaluatorHoldout: Processed 10456 (100.0%) in 10.26 sec. Users per second: 1019\n"
     ]
    },
    {
     "name": "stderr",
     "output_type": "stream",
     "text": [
      "[I 2023-12-24 18:57:57,605] Trial 255 finished with value: 0.25436900891973785 and parameters: {'topK': 90, 'shrink': 488, 'similarity': 'tanimoto', 'feature_weighting': 'BM25'}. Best is trial 203 with value: 0.25677035105328766.\n"
     ]
    },
    {
     "name": "stdout",
     "output_type": "stream",
     "text": [
      "ItemKNNCFRecommender: URM Detected 627 ( 4.8%) users with no interactions.\n",
      "ItemKNNCFRecommender: URM Detected 247 ( 1.1%) items with no interactions.\n",
      "Similarity column 22347 (100.0%), 6718.83 column/sec. Elapsed time 3.33 sec\n",
      "EvaluatorHoldout: Processed 10456 (100.0%) in 11.16 sec. Users per second: 937\n"
     ]
    },
    {
     "name": "stderr",
     "output_type": "stream",
     "text": [
      "[I 2023-12-24 18:58:12,441] Trial 256 finished with value: 0.21700936026334722 and parameters: {'topK': 129, 'shrink': 469, 'similarity': 'jaccard', 'feature_weighting': 'none'}. Best is trial 203 with value: 0.25677035105328766.\n"
     ]
    },
    {
     "name": "stdout",
     "output_type": "stream",
     "text": [
      "ItemKNNCFRecommender: URM Detected 627 ( 4.8%) users with no interactions.\n",
      "ItemKNNCFRecommender: URM Detected 247 ( 1.1%) items with no interactions.\n",
      "Similarity column 22347 (100.0%), 6632.61 column/sec. Elapsed time 3.37 sec\n",
      "EvaluatorHoldout: Processed 10456 (100.0%) in 12.56 sec. Users per second: 832\n"
     ]
    },
    {
     "name": "stderr",
     "output_type": "stream",
     "text": [
      "[I 2023-12-24 18:58:28,778] Trial 257 finished with value: 0.2567372051195205 and parameters: {'topK': 193, 'shrink': 483, 'similarity': 'tanimoto', 'feature_weighting': 'BM25'}. Best is trial 203 with value: 0.25677035105328766.\n"
     ]
    },
    {
     "name": "stdout",
     "output_type": "stream",
     "text": [
      "ItemKNNCFRecommender: URM Detected 627 ( 4.8%) users with no interactions.\n",
      "ItemKNNCFRecommender: URM Detected 247 ( 1.1%) items with no interactions.\n",
      "Similarity column 22347 (100.0%), 6581.97 column/sec. Elapsed time 3.40 sec\n",
      "EvaluatorHoldout: Processed 10456 (100.0%) in 12.72 sec. Users per second: 822\n"
     ]
    },
    {
     "name": "stderr",
     "output_type": "stream",
     "text": [
      "[I 2023-12-24 18:58:45,316] Trial 258 finished with value: 0.2543716866088722 and parameters: {'topK': 247, 'shrink': 483, 'similarity': 'tanimoto', 'feature_weighting': 'BM25'}. Best is trial 203 with value: 0.25677035105328766.\n"
     ]
    },
    {
     "name": "stdout",
     "output_type": "stream",
     "text": [
      "ItemKNNCFRecommender: URM Detected 627 ( 4.8%) users with no interactions.\n",
      "ItemKNNCFRecommender: URM Detected 247 ( 1.1%) items with no interactions.\n",
      "Similarity column 22347 (100.0%), 6774.59 column/sec. Elapsed time 3.30 sec\n",
      "EvaluatorHoldout: Processed 10456 (100.0%) in 12.10 sec. Users per second: 864\n"
     ]
    },
    {
     "name": "stderr",
     "output_type": "stream",
     "text": [
      "[I 2023-12-24 18:59:01,105] Trial 259 finished with value: 0.2562987495225135 and parameters: {'topK': 193, 'shrink': 466, 'similarity': 'tanimoto', 'feature_weighting': 'BM25'}. Best is trial 203 with value: 0.25677035105328766.\n"
     ]
    },
    {
     "name": "stdout",
     "output_type": "stream",
     "text": [
      "ItemKNNCFRecommender: URM Detected 627 ( 4.8%) users with no interactions.\n",
      "ItemKNNCFRecommender: URM Detected 247 ( 1.1%) items with no interactions.\n",
      "Similarity column 22347 (100.0%), 6543.54 column/sec. Elapsed time 3.42 sec\n",
      "EvaluatorHoldout: Processed 10456 (100.0%) in 13.44 sec. Users per second: 778\n"
     ]
    },
    {
     "name": "stderr",
     "output_type": "stream",
     "text": [
      "[I 2023-12-24 18:59:18,422] Trial 260 finished with value: 0.2549863412192411 and parameters: {'topK': 304, 'shrink': 475, 'similarity': 'tanimoto', 'feature_weighting': 'BM25'}. Best is trial 203 with value: 0.25677035105328766.\n"
     ]
    },
    {
     "name": "stdout",
     "output_type": "stream",
     "text": [
      "ItemKNNCFRecommender: URM Detected 627 ( 4.8%) users with no interactions.\n",
      "ItemKNNCFRecommender: URM Detected 247 ( 1.1%) items with no interactions.\n",
      "Similarity column 22347 (100.0%), 6680.65 column/sec. Elapsed time 3.35 sec\n",
      "EvaluatorHoldout: Processed 10456 (100.0%) in 10.78 sec. Users per second: 970\n"
     ]
    },
    {
     "name": "stderr",
     "output_type": "stream",
     "text": [
      "[I 2023-12-24 18:59:32,929] Trial 261 finished with value: 0.249861144796412 and parameters: {'topK': 155, 'shrink': 250, 'similarity': 'tanimoto', 'feature_weighting': 'BM25'}. Best is trial 203 with value: 0.25677035105328766.\n"
     ]
    },
    {
     "name": "stdout",
     "output_type": "stream",
     "text": [
      "ItemKNNCFRecommender: URM Detected 627 ( 4.8%) users with no interactions.\n",
      "ItemKNNCFRecommender: URM Detected 247 ( 1.1%) items with no interactions.\n",
      "Similarity column 22347 (100.0%), 6001.11 column/sec. Elapsed time 3.72 sec\n",
      "EvaluatorHoldout: Processed 10456 (100.0%) in 10.31 sec. Users per second: 1014\n"
     ]
    },
    {
     "name": "stderr",
     "output_type": "stream",
     "text": [
      "[I 2023-12-24 18:59:47,405] Trial 262 finished with value: 0.21895213162664737 and parameters: {'topK': 228, 'shrink': 58, 'similarity': 'tanimoto', 'feature_weighting': 'BM25'}. Best is trial 203 with value: 0.25677035105328766.\n"
     ]
    },
    {
     "name": "stdout",
     "output_type": "stream",
     "text": [
      "ItemKNNCFRecommender: URM Detected 627 ( 4.8%) users with no interactions.\n",
      "ItemKNNCFRecommender: URM Detected 247 ( 1.1%) items with no interactions.\n",
      "Similarity column 22347 (100.0%), 6478.13 column/sec. Elapsed time 3.45 sec\n",
      "EvaluatorHoldout: Processed 10456 (100.0%) in 7.88 sec. Users per second: 1327\n"
     ]
    },
    {
     "name": "stderr",
     "output_type": "stream",
     "text": [
      "[I 2023-12-24 18:59:59,063] Trial 263 finished with value: 0.10383332213461885 and parameters: {'topK': 111, 'shrink': 457, 'similarity': 'asymmetric', 'feature_weighting': 'BM25', 'asymmetric_alpha': 1.6288679275528006}. Best is trial 203 with value: 0.25677035105328766.\n"
     ]
    },
    {
     "name": "stdout",
     "output_type": "stream",
     "text": [
      "ItemKNNCFRecommender: URM Detected 627 ( 4.8%) users with no interactions.\n",
      "ItemKNNCFRecommender: URM Detected 247 ( 1.1%) items with no interactions.\n",
      "Similarity column 22347 (100.0%), 6422.50 column/sec. Elapsed time 3.48 sec\n",
      "EvaluatorHoldout: Processed 10456 (100.0%) in 9.88 sec. Users per second: 1058\n"
     ]
    },
    {
     "name": "stderr",
     "output_type": "stream",
     "text": [
      "[I 2023-12-24 19:00:12,757] Trial 264 finished with value: 0.2552263340646957 and parameters: {'topK': 60, 'shrink': 485, 'similarity': 'tanimoto', 'feature_weighting': 'BM25'}. Best is trial 203 with value: 0.25677035105328766.\n"
     ]
    },
    {
     "name": "stdout",
     "output_type": "stream",
     "text": [
      "ItemKNNCFRecommender: URM Detected 627 ( 4.8%) users with no interactions.\n",
      "ItemKNNCFRecommender: URM Detected 247 ( 1.1%) items with no interactions.\n",
      "Similarity column 22347 (100.0%), 6495.70 column/sec. Elapsed time 3.44 sec\n",
      "EvaluatorHoldout: Processed 10456 (100.0%) in 15.76 sec. Users per second: 664\n"
     ]
    },
    {
     "name": "stderr",
     "output_type": "stream",
     "text": [
      "[I 2023-12-24 19:00:32,517] Trial 265 finished with value: 0.24954725398710492 and parameters: {'topK': 562, 'shrink': 477, 'similarity': 'dice', 'feature_weighting': 'BM25'}. Best is trial 203 with value: 0.25677035105328766.\n"
     ]
    },
    {
     "name": "stdout",
     "output_type": "stream",
     "text": [
      "ItemKNNCFRecommender: URM Detected 627 ( 4.8%) users with no interactions.\n",
      "ItemKNNCFRecommender: URM Detected 247 ( 1.1%) items with no interactions.\n",
      "Similarity column 22347 (100.0%), 6394.09 column/sec. Elapsed time 3.49 sec\n",
      "EvaluatorHoldout: Processed 10456 (100.0%) in 12.41 sec. Users per second: 842\n"
     ]
    },
    {
     "name": "stderr",
     "output_type": "stream",
     "text": [
      "[I 2023-12-24 19:00:48,831] Trial 266 finished with value: 0.25651421561587684 and parameters: {'topK': 194, 'shrink': 489, 'similarity': 'tanimoto', 'feature_weighting': 'BM25'}. Best is trial 203 with value: 0.25677035105328766.\n"
     ]
    },
    {
     "name": "stdout",
     "output_type": "stream",
     "text": [
      "ItemKNNCFRecommender: URM Detected 627 ( 4.8%) users with no interactions.\n",
      "ItemKNNCFRecommender: URM Detected 247 ( 1.1%) items with no interactions.\n",
      "Similarity column 22347 (100.0%), 6404.81 column/sec. Elapsed time 3.49 sec\n",
      "EvaluatorHoldout: Processed 10456 (100.0%) in 13.39 sec. Users per second: 781\n"
     ]
    },
    {
     "name": "stderr",
     "output_type": "stream",
     "text": [
      "[I 2023-12-24 19:01:06,178] Trial 267 finished with value: 0.254852520934397 and parameters: {'topK': 262, 'shrink': 491, 'similarity': 'tanimoto', 'feature_weighting': 'BM25'}. Best is trial 203 with value: 0.25677035105328766.\n"
     ]
    },
    {
     "name": "stdout",
     "output_type": "stream",
     "text": [
      "ItemKNNCFRecommender: URM Detected 627 ( 4.8%) users with no interactions.\n",
      "ItemKNNCFRecommender: URM Detected 247 ( 1.1%) items with no interactions.\n",
      "Similarity column 22347 (100.0%), 6262.24 column/sec. Elapsed time 3.57 sec\n",
      "EvaluatorHoldout: Processed 10456 (100.0%) in 12.32 sec. Users per second: 849\n"
     ]
    },
    {
     "name": "stderr",
     "output_type": "stream",
     "text": [
      "[I 2023-12-24 19:01:22,472] Trial 268 finished with value: 0.2556193749811918 and parameters: {'topK': 206, 'shrink': 464, 'similarity': 'tanimoto', 'feature_weighting': 'BM25'}. Best is trial 203 with value: 0.25677035105328766.\n"
     ]
    },
    {
     "name": "stdout",
     "output_type": "stream",
     "text": [
      "ItemKNNCFRecommender: URM Detected 627 ( 4.8%) users with no interactions.\n",
      "ItemKNNCFRecommender: URM Detected 247 ( 1.1%) items with no interactions.\n",
      "Similarity column 22347 (100.0%), 6620.95 column/sec. Elapsed time 3.38 sec\n",
      "EvaluatorHoldout: Processed 10456 (100.0%) in 11.88 sec. Users per second: 880\n"
     ]
    },
    {
     "name": "stderr",
     "output_type": "stream",
     "text": [
      "[I 2023-12-24 19:01:38,111] Trial 269 finished with value: 0.2558902671925891 and parameters: {'topK': 153, 'shrink': 492, 'similarity': 'tanimoto', 'feature_weighting': 'BM25'}. Best is trial 203 with value: 0.25677035105328766.\n"
     ]
    },
    {
     "name": "stdout",
     "output_type": "stream",
     "text": [
      "ItemKNNCFRecommender: URM Detected 627 ( 4.8%) users with no interactions.\n",
      "ItemKNNCFRecommender: URM Detected 247 ( 1.1%) items with no interactions.\n",
      "Similarity column 22347 (100.0%), 6287.01 column/sec. Elapsed time 3.55 sec\n",
      "EvaluatorHoldout: Processed 10456 (100.0%) in 12.35 sec. Users per second: 847\n"
     ]
    },
    {
     "name": "stderr",
     "output_type": "stream",
     "text": [
      "[I 2023-12-24 19:01:54,522] Trial 270 finished with value: 0.2544673572488202 and parameters: {'topK': 212, 'shrink': 474, 'similarity': 'tversky', 'feature_weighting': 'BM25', 'tversky_alpha': 0.38971038629109134, 'tversky_beta': 1.15142549269323}. Best is trial 203 with value: 0.25677035105328766.\n"
     ]
    },
    {
     "name": "stdout",
     "output_type": "stream",
     "text": [
      "ItemKNNCFRecommender: URM Detected 627 ( 4.8%) users with no interactions.\n",
      "ItemKNNCFRecommender: URM Detected 247 ( 1.1%) items with no interactions.\n",
      "Similarity column 22347 (100.0%), 6465.68 column/sec. Elapsed time 3.46 sec\n",
      "EvaluatorHoldout: Processed 10456 (100.0%) in 11.35 sec. Users per second: 921\n"
     ]
    },
    {
     "name": "stderr",
     "output_type": "stream",
     "text": [
      "[I 2023-12-24 19:02:09,743] Trial 271 finished with value: 0.2554297433164293 and parameters: {'topK': 140, 'shrink': 500, 'similarity': 'tanimoto', 'feature_weighting': 'BM25'}. Best is trial 203 with value: 0.25677035105328766.\n"
     ]
    },
    {
     "name": "stdout",
     "output_type": "stream",
     "text": [
      "ItemKNNCFRecommender: URM Detected 627 ( 4.8%) users with no interactions.\n",
      "ItemKNNCFRecommender: URM Detected 247 ( 1.1%) items with no interactions.\n",
      "Similarity column 22347 (100.0%), 6573.15 column/sec. Elapsed time 3.40 sec\n",
      "EvaluatorHoldout: Processed 10456 (100.0%) in 12.83 sec. Users per second: 815\n"
     ]
    },
    {
     "name": "stderr",
     "output_type": "stream",
     "text": [
      "[I 2023-12-24 19:02:26,385] Trial 272 finished with value: 0.254552842354835 and parameters: {'topK': 253, 'shrink': 484, 'similarity': 'tanimoto', 'feature_weighting': 'BM25'}. Best is trial 203 with value: 0.25677035105328766.\n"
     ]
    },
    {
     "name": "stdout",
     "output_type": "stream",
     "text": [
      "ItemKNNCFRecommender: URM Detected 627 ( 4.8%) users with no interactions.\n",
      "ItemKNNCFRecommender: URM Detected 247 ( 1.1%) items with no interactions.\n",
      "Similarity column 22347 (100.0%), 6725.95 column/sec. Elapsed time 3.32 sec\n",
      "EvaluatorHoldout: Processed 10456 (100.0%) in 11.87 sec. Users per second: 881\n"
     ]
    },
    {
     "name": "stderr",
     "output_type": "stream",
     "text": [
      "[I 2023-12-24 19:02:41,964] Trial 273 finished with value: 0.2566208437959673 and parameters: {'topK': 180, 'shrink': 468, 'similarity': 'tanimoto', 'feature_weighting': 'BM25'}. Best is trial 203 with value: 0.25677035105328766.\n"
     ]
    },
    {
     "name": "stdout",
     "output_type": "stream",
     "text": [
      "ItemKNNCFRecommender: URM Detected 627 ( 4.8%) users with no interactions.\n",
      "ItemKNNCFRecommender: URM Detected 247 ( 1.1%) items with no interactions.\n",
      "Similarity column 22347 (100.0%), 6599.85 column/sec. Elapsed time 3.39 sec\n",
      "EvaluatorHoldout: Processed 10456 (100.0%) in 10.80 sec. Users per second: 968\n"
     ]
    },
    {
     "name": "stderr",
     "output_type": "stream",
     "text": [
      "[I 2023-12-24 19:02:56,533] Trial 274 finished with value: 0.2543869220344441 and parameters: {'topK': 107, 'shrink': 456, 'similarity': 'tanimoto', 'feature_weighting': 'BM25'}. Best is trial 203 with value: 0.25677035105328766.\n"
     ]
    },
    {
     "name": "stdout",
     "output_type": "stream",
     "text": [
      "ItemKNNCFRecommender: URM Detected 627 ( 4.8%) users with no interactions.\n",
      "ItemKNNCFRecommender: URM Detected 247 ( 1.1%) items with no interactions.\n",
      "Similarity column 22347 (100.0%), 6231.34 column/sec. Elapsed time 3.59 sec\n",
      "EvaluatorHoldout: Processed 10456 (100.0%) in 17.71 sec. Users per second: 590\n"
     ]
    },
    {
     "name": "stderr",
     "output_type": "stream",
     "text": [
      "[I 2023-12-24 19:03:18,568] Trial 275 finished with value: 0.24211529950267988 and parameters: {'topK': 1339, 'shrink': 451, 'similarity': 'tanimoto', 'feature_weighting': 'BM25'}. Best is trial 203 with value: 0.25677035105328766.\n"
     ]
    },
    {
     "name": "stdout",
     "output_type": "stream",
     "text": [
      "ItemKNNCFRecommender: URM Detected 627 ( 4.8%) users with no interactions.\n",
      "ItemKNNCFRecommender: URM Detected 247 ( 1.1%) items with no interactions.\n",
      "Similarity column 22347 (100.0%), 6440.73 column/sec. Elapsed time 3.47 sec\n",
      "EvaluatorHoldout: Processed 10456 (100.0%) in 17.50 sec. Users per second: 597\n"
     ]
    },
    {
     "name": "stderr",
     "output_type": "stream",
     "text": [
      "[I 2023-12-24 19:03:40,277] Trial 276 finished with value: 0.20463676737923803 and parameters: {'topK': 1237, 'shrink': 466, 'similarity': 'tanimoto', 'feature_weighting': 'TF-IDF'}. Best is trial 203 with value: 0.25677035105328766.\n"
     ]
    },
    {
     "name": "stdout",
     "output_type": "stream",
     "text": [
      "ItemKNNCFRecommender: URM Detected 627 ( 4.8%) users with no interactions.\n",
      "ItemKNNCFRecommender: URM Detected 247 ( 1.1%) items with no interactions.\n",
      "Similarity column 22347 (100.0%), 6684.38 column/sec. Elapsed time 3.34 sec\n",
      "EvaluatorHoldout: Processed 10456 (100.0%) in 12.04 sec. Users per second: 868\n"
     ]
    },
    {
     "name": "stderr",
     "output_type": "stream",
     "text": [
      "[I 2023-12-24 19:03:56,072] Trial 277 finished with value: 0.25596878069071705 and parameters: {'topK': 189, 'shrink': 476, 'similarity': 'tanimoto', 'feature_weighting': 'BM25'}. Best is trial 203 with value: 0.25677035105328766.\n"
     ]
    },
    {
     "name": "stdout",
     "output_type": "stream",
     "text": [
      "ItemKNNCFRecommender: URM Detected 627 ( 4.8%) users with no interactions.\n",
      "ItemKNNCFRecommender: URM Detected 247 ( 1.1%) items with no interactions.\n",
      "Similarity column 22347 (100.0%), 6548.28 column/sec. Elapsed time 3.41 sec\n",
      "EvaluatorHoldout: Processed 10456 (100.0%) in 13.26 sec. Users per second: 789\n"
     ]
    },
    {
     "name": "stderr",
     "output_type": "stream",
     "text": [
      "[I 2023-12-24 19:04:13,197] Trial 278 finished with value: 0.25477842653043603 and parameters: {'topK': 293, 'shrink': 467, 'similarity': 'tanimoto', 'feature_weighting': 'BM25'}. Best is trial 203 with value: 0.25677035105328766.\n"
     ]
    },
    {
     "name": "stdout",
     "output_type": "stream",
     "text": [
      "ItemKNNCFRecommender: URM Detected 627 ( 4.8%) users with no interactions.\n",
      "ItemKNNCFRecommender: URM Detected 247 ( 1.1%) items with no interactions.\n",
      "Similarity column 22347 (100.0%), 6463.07 column/sec. Elapsed time 3.46 sec\n",
      "EvaluatorHoldout: Processed 10456 (100.0%) in 9.07 sec. Users per second: 1152\n"
     ]
    },
    {
     "name": "stderr",
     "output_type": "stream",
     "text": [
      "[I 2023-12-24 19:04:26,124] Trial 279 finished with value: 0.11297741642584724 and parameters: {'topK': 230, 'shrink': 483, 'similarity': 'cosine', 'feature_weighting': 'BM25'}. Best is trial 203 with value: 0.25677035105328766.\n"
     ]
    },
    {
     "name": "stdout",
     "output_type": "stream",
     "text": [
      "ItemKNNCFRecommender: URM Detected 627 ( 4.8%) users with no interactions.\n",
      "ItemKNNCFRecommender: URM Detected 247 ( 1.1%) items with no interactions.\n",
      "Similarity column 22347 (100.0%), 6827.11 column/sec. Elapsed time 3.27 sec\n",
      "EvaluatorHoldout: Processed 10456 (100.0%) in 9.76 sec. Users per second: 1072\n"
     ]
    },
    {
     "name": "stderr",
     "output_type": "stream",
     "text": [
      "[I 2023-12-24 19:04:39,472] Trial 280 finished with value: 0.22104116734721865 and parameters: {'topK': 72, 'shrink': 434, 'similarity': 'tanimoto', 'feature_weighting': 'none'}. Best is trial 203 with value: 0.25677035105328766.\n"
     ]
    },
    {
     "name": "stdout",
     "output_type": "stream",
     "text": [
      "ItemKNNCFRecommender: URM Detected 627 ( 4.8%) users with no interactions.\n",
      "ItemKNNCFRecommender: URM Detected 247 ( 1.1%) items with no interactions.\n",
      "Similarity column 22347 (100.0%), 6596.36 column/sec. Elapsed time 3.39 sec\n",
      "EvaluatorHoldout: Processed 10456 (100.0%) in 11.65 sec. Users per second: 897\n"
     ]
    },
    {
     "name": "stderr",
     "output_type": "stream",
     "text": [
      "[I 2023-12-24 19:04:54,918] Trial 281 finished with value: 0.2561279461773885 and parameters: {'topK': 163, 'shrink': 472, 'similarity': 'tanimoto', 'feature_weighting': 'BM25'}. Best is trial 203 with value: 0.25677035105328766.\n"
     ]
    },
    {
     "name": "stdout",
     "output_type": "stream",
     "text": [
      "ItemKNNCFRecommender: URM Detected 627 ( 4.8%) users with no interactions.\n",
      "ItemKNNCFRecommender: URM Detected 247 ( 1.1%) items with no interactions.\n",
      "Similarity column 22347 (100.0%), 6419.54 column/sec. Elapsed time 3.48 sec\n",
      "EvaluatorHoldout: Processed 10456 (100.0%) in 16.75 sec. Users per second: 624\n"
     ]
    },
    {
     "name": "stderr",
     "output_type": "stream",
     "text": [
      "[I 2023-12-24 19:05:15,821] Trial 282 finished with value: 0.2436669042461888 and parameters: {'topK': 971, 'shrink': 491, 'similarity': 'tanimoto', 'feature_weighting': 'BM25'}. Best is trial 203 with value: 0.25677035105328766.\n"
     ]
    },
    {
     "name": "stdout",
     "output_type": "stream",
     "text": [
      "ItemKNNCFRecommender: URM Detected 627 ( 4.8%) users with no interactions.\n",
      "ItemKNNCFRecommender: URM Detected 247 ( 1.1%) items with no interactions.\n",
      "Similarity column 22347 (100.0%), 340.95 column/sec. Elapsed time 1.09 min\n",
      "EvaluatorHoldout: Processed 10456 (100.0%) in 17.78 sec. Users per second: 588\n"
     ]
    },
    {
     "name": "stderr",
     "output_type": "stream",
     "text": [
      "[I 2023-12-24 19:06:40,531] Trial 283 finished with value: 0.051117601265282295 and parameters: {'topK': 1983, 'shrink': 444, 'similarity': 'euclidean', 'feature_weighting': 'BM25', 'normalize_avg_row': False, 'similarity_from_distance_mode': 'exp', 'normalize': True}. Best is trial 203 with value: 0.25677035105328766.\n"
     ]
    },
    {
     "name": "stdout",
     "output_type": "stream",
     "text": [
      "ItemKNNCFRecommender: URM Detected 627 ( 4.8%) users with no interactions.\n",
      "ItemKNNCFRecommender: URM Detected 247 ( 1.1%) items with no interactions.\n",
      "Similarity column 22347 (100.0%), 6903.58 column/sec. Elapsed time 3.24 sec\n",
      "EvaluatorHoldout: Processed 10456 (100.0%) in 11.14 sec. Users per second: 939\n"
     ]
    },
    {
     "name": "stderr",
     "output_type": "stream",
     "text": [
      "[I 2023-12-24 19:06:55,292] Trial 284 finished with value: 0.2544027331901109 and parameters: {'topK': 128, 'shrink': 481, 'similarity': 'tanimoto', 'feature_weighting': 'BM25'}. Best is trial 203 with value: 0.25677035105328766.\n"
     ]
    },
    {
     "name": "stdout",
     "output_type": "stream",
     "text": [
      "ItemKNNCFRecommender: URM Detected 627 ( 4.8%) users with no interactions.\n",
      "ItemKNNCFRecommender: URM Detected 247 ( 1.1%) items with no interactions.\n",
      "Similarity column 22347 (100.0%), 6571.92 column/sec. Elapsed time 3.40 sec\n",
      "EvaluatorHoldout: Processed 10456 (100.0%) in 10.53 sec. Users per second: 993\n"
     ]
    },
    {
     "name": "stderr",
     "output_type": "stream",
     "text": [
      "[I 2023-12-24 19:07:09,620] Trial 285 finished with value: 0.2422374113516271 and parameters: {'topK': 199, 'shrink': 145, 'similarity': 'jaccard', 'feature_weighting': 'BM25'}. Best is trial 203 with value: 0.25677035105328766.\n"
     ]
    },
    {
     "name": "stdout",
     "output_type": "stream",
     "text": [
      "ItemKNNCFRecommender: URM Detected 627 ( 4.8%) users with no interactions.\n",
      "ItemKNNCFRecommender: URM Detected 247 ( 1.1%) items with no interactions.\n",
      "Similarity column 22347 (100.0%), 6751.44 column/sec. Elapsed time 3.31 sec\n",
      "EvaluatorHoldout: Processed 10456 (100.0%) in 12.46 sec. Users per second: 839\n"
     ]
    },
    {
     "name": "stderr",
     "output_type": "stream",
     "text": [
      "[I 2023-12-24 19:07:25,794] Trial 286 finished with value: 0.2543741383176366 and parameters: {'topK': 245, 'shrink': 393, 'similarity': 'tanimoto', 'feature_weighting': 'BM25'}. Best is trial 203 with value: 0.25677035105328766.\n"
     ]
    },
    {
     "name": "stdout",
     "output_type": "stream",
     "text": [
      "ItemKNNCFRecommender: URM Detected 627 ( 4.8%) users with no interactions.\n",
      "ItemKNNCFRecommender: URM Detected 247 ( 1.1%) items with no interactions.\n",
      "Similarity column 22347 (100.0%), 6674.64 column/sec. Elapsed time 3.35 sec\n",
      "EvaluatorHoldout: Processed 10456 (100.0%) in 11.50 sec. Users per second: 909\n"
     ]
    },
    {
     "name": "stderr",
     "output_type": "stream",
     "text": [
      "[I 2023-12-24 19:07:41,014] Trial 287 finished with value: 0.25660727552869694 and parameters: {'topK': 178, 'shrink': 458, 'similarity': 'tanimoto', 'feature_weighting': 'BM25'}. Best is trial 203 with value: 0.25677035105328766.\n"
     ]
    },
    {
     "name": "stdout",
     "output_type": "stream",
     "text": [
      "ItemKNNCFRecommender: URM Detected 627 ( 4.8%) users with no interactions.\n",
      "ItemKNNCFRecommender: URM Detected 247 ( 1.1%) items with no interactions.\n",
      "Similarity column 22347 (100.0%), 6815.49 column/sec. Elapsed time 3.28 sec\n",
      "EvaluatorHoldout: Processed 10456 (100.0%) in 10.69 sec. Users per second: 978\n"
     ]
    },
    {
     "name": "stderr",
     "output_type": "stream",
     "text": [
      "[I 2023-12-24 19:07:55,350] Trial 288 finished with value: 0.25487430473294853 and parameters: {'topK': 111, 'shrink': 458, 'similarity': 'tanimoto', 'feature_weighting': 'BM25'}. Best is trial 203 with value: 0.25677035105328766.\n"
     ]
    },
    {
     "name": "stdout",
     "output_type": "stream",
     "text": [
      "ItemKNNCFRecommender: URM Detected 627 ( 4.8%) users with no interactions.\n",
      "ItemKNNCFRecommender: URM Detected 247 ( 1.1%) items with no interactions.\n",
      "Similarity column 22347 (100.0%), 6703.92 column/sec. Elapsed time 3.33 sec\n",
      "EvaluatorHoldout: Processed 10456 (100.0%) in 11.44 sec. Users per second: 914\n"
     ]
    },
    {
     "name": "stderr",
     "output_type": "stream",
     "text": [
      "[I 2023-12-24 19:08:10,503] Trial 289 finished with value: 0.25515123953444874 and parameters: {'topK': 162, 'shrink': 447, 'similarity': 'tanimoto', 'feature_weighting': 'BM25'}. Best is trial 203 with value: 0.25677035105328766.\n"
     ]
    },
    {
     "name": "stdout",
     "output_type": "stream",
     "text": [
      "ItemKNNCFRecommender: URM Detected 627 ( 4.8%) users with no interactions.\n",
      "ItemKNNCFRecommender: URM Detected 247 ( 1.1%) items with no interactions.\n",
      "Similarity column 22347 (100.0%), 6606.66 column/sec. Elapsed time 3.38 sec\n",
      "EvaluatorHoldout: Processed 10456 (100.0%) in 13.18 sec. Users per second: 793\n"
     ]
    },
    {
     "name": "stderr",
     "output_type": "stream",
     "text": [
      "[I 2023-12-24 19:08:27,520] Trial 290 finished with value: 0.25459375260734407 and parameters: {'topK': 287, 'shrink': 462, 'similarity': 'tanimoto', 'feature_weighting': 'BM25'}. Best is trial 203 with value: 0.25677035105328766.\n"
     ]
    },
    {
     "name": "stdout",
     "output_type": "stream",
     "text": [
      "ItemKNNCFRecommender: URM Detected 627 ( 4.8%) users with no interactions.\n",
      "ItemKNNCFRecommender: URM Detected 247 ( 1.1%) items with no interactions.\n",
      "Similarity column 22347 (100.0%), 6727.73 column/sec. Elapsed time 3.32 sec\n",
      "EvaluatorHoldout: Processed 10456 (100.0%) in 12.24 sec. Users per second: 854\n"
     ]
    },
    {
     "name": "stderr",
     "output_type": "stream",
     "text": [
      "[I 2023-12-24 19:08:43,520] Trial 291 finished with value: 0.2549557371030931 and parameters: {'topK': 220, 'shrink': 472, 'similarity': 'tanimoto', 'feature_weighting': 'BM25'}. Best is trial 203 with value: 0.25677035105328766.\n"
     ]
    },
    {
     "name": "stdout",
     "output_type": "stream",
     "text": [
      "ItemKNNCFRecommender: URM Detected 627 ( 4.8%) users with no interactions.\n",
      "ItemKNNCFRecommender: URM Detected 247 ( 1.1%) items with no interactions.\n",
      "Similarity column 22347 (100.0%), 6793.90 column/sec. Elapsed time 3.29 sec\n",
      "EvaluatorHoldout: Processed 10456 (100.0%) in 11.47 sec. Users per second: 911\n"
     ]
    },
    {
     "name": "stderr",
     "output_type": "stream",
     "text": [
      "[I 2023-12-24 19:08:58,664] Trial 292 finished with value: 0.25577641188957406 and parameters: {'topK': 160, 'shrink': 461, 'similarity': 'tanimoto', 'feature_weighting': 'BM25'}. Best is trial 203 with value: 0.25677035105328766.\n"
     ]
    },
    {
     "name": "stdout",
     "output_type": "stream",
     "text": [
      "ItemKNNCFRecommender: URM Detected 627 ( 4.8%) users with no interactions.\n",
      "ItemKNNCFRecommender: URM Detected 247 ( 1.1%) items with no interactions.\n",
      "Similarity column 22347 (100.0%), 6929.62 column/sec. Elapsed time 3.22 sec\n",
      "EvaluatorHoldout: Processed 10456 (100.0%) in 10.36 sec. Users per second: 1009\n"
     ]
    },
    {
     "name": "stderr",
     "output_type": "stream",
     "text": [
      "[I 2023-12-24 19:09:12,576] Trial 293 finished with value: 0.2539681411507315 and parameters: {'topK': 84, 'shrink': 476, 'similarity': 'tanimoto', 'feature_weighting': 'BM25'}. Best is trial 203 with value: 0.25677035105328766.\n"
     ]
    },
    {
     "name": "stdout",
     "output_type": "stream",
     "text": [
      "ItemKNNCFRecommender: URM Detected 627 ( 4.8%) users with no interactions.\n",
      "ItemKNNCFRecommender: URM Detected 247 ( 1.1%) items with no interactions.\n",
      "Similarity column 22347 (100.0%), 6595.93 column/sec. Elapsed time 3.39 sec\n",
      "EvaluatorHoldout: Processed 10456 (100.0%) in 7.91 sec. Users per second: 1321\n"
     ]
    },
    {
     "name": "stderr",
     "output_type": "stream",
     "text": [
      "[I 2023-12-24 19:09:24,236] Trial 294 finished with value: 0.10918439456112572 and parameters: {'topK': 131, 'shrink': 483, 'similarity': 'asymmetric', 'feature_weighting': 'BM25', 'asymmetric_alpha': 1.102052083340173}. Best is trial 203 with value: 0.25677035105328766.\n"
     ]
    },
    {
     "name": "stdout",
     "output_type": "stream",
     "text": [
      "ItemKNNCFRecommender: URM Detected 627 ( 4.8%) users with no interactions.\n",
      "ItemKNNCFRecommender: URM Detected 247 ( 1.1%) items with no interactions.\n",
      "Similarity column 22347 (100.0%), 6628.28 column/sec. Elapsed time 3.37 sec\n",
      "EvaluatorHoldout: Processed 10456 (100.0%) in 11.72 sec. Users per second: 892\n"
     ]
    },
    {
     "name": "stderr",
     "output_type": "stream",
     "text": [
      "[I 2023-12-24 19:09:39,715] Trial 295 finished with value: 0.25636051297770035 and parameters: {'topK': 187, 'shrink': 452, 'similarity': 'tanimoto', 'feature_weighting': 'BM25'}. Best is trial 203 with value: 0.25677035105328766.\n"
     ]
    },
    {
     "name": "stdout",
     "output_type": "stream",
     "text": [
      "ItemKNNCFRecommender: URM Detected 627 ( 4.8%) users with no interactions.\n",
      "ItemKNNCFRecommender: URM Detected 247 ( 1.1%) items with no interactions.\n",
      "Similarity column 22347 (100.0%), 7061.95 column/sec. Elapsed time 3.16 sec\n",
      "EvaluatorHoldout: Processed 10456 (100.0%) in 8.66 sec. Users per second: 1208\n"
     ]
    },
    {
     "name": "stderr",
     "output_type": "stream",
     "text": [
      "[I 2023-12-24 19:09:51,843] Trial 296 finished with value: 0.2504360667706869 and parameters: {'topK': 34, 'shrink': 467, 'similarity': 'dice', 'feature_weighting': 'BM25'}. Best is trial 203 with value: 0.25677035105328766.\n"
     ]
    },
    {
     "name": "stdout",
     "output_type": "stream",
     "text": [
      "ItemKNNCFRecommender: URM Detected 627 ( 4.8%) users with no interactions.\n",
      "ItemKNNCFRecommender: URM Detected 247 ( 1.1%) items with no interactions.\n",
      "Similarity column 22347 (100.0%), 6684.37 column/sec. Elapsed time 3.34 sec\n",
      "EvaluatorHoldout: Processed 10456 (100.0%) in 12.80 sec. Users per second: 817\n"
     ]
    },
    {
     "name": "stderr",
     "output_type": "stream",
     "text": [
      "[I 2023-12-24 19:10:08,411] Trial 297 finished with value: 0.254544724422095 and parameters: {'topK': 248, 'shrink': 488, 'similarity': 'tanimoto', 'feature_weighting': 'BM25'}. Best is trial 203 with value: 0.25677035105328766.\n"
     ]
    },
    {
     "name": "stdout",
     "output_type": "stream",
     "text": [
      "ItemKNNCFRecommender: URM Detected 627 ( 4.8%) users with no interactions.\n",
      "ItemKNNCFRecommender: URM Detected 247 ( 1.1%) items with no interactions.\n",
      "Similarity column 22347 (100.0%), 6653.65 column/sec. Elapsed time 3.36 sec\n",
      "EvaluatorHoldout: Processed 10456 (100.0%) in 13.45 sec. Users per second: 778\n"
     ]
    },
    {
     "name": "stderr",
     "output_type": "stream",
     "text": [
      "[I 2023-12-24 19:10:25,672] Trial 298 finished with value: 0.2122206024016797 and parameters: {'topK': 325, 'shrink': 475, 'similarity': 'tanimoto', 'feature_weighting': 'TF-IDF'}. Best is trial 203 with value: 0.25677035105328766.\n"
     ]
    },
    {
     "name": "stdout",
     "output_type": "stream",
     "text": [
      "ItemKNNCFRecommender: URM Detected 627 ( 4.8%) users with no interactions.\n",
      "ItemKNNCFRecommender: URM Detected 247 ( 1.1%) items with no interactions.\n",
      "Similarity column 22347 (100.0%), 6661.50 column/sec. Elapsed time 3.35 sec\n",
      "EvaluatorHoldout: Processed 10456 (100.0%) in 11.69 sec. Users per second: 894\n"
     ]
    },
    {
     "name": "stderr",
     "output_type": "stream",
     "text": [
      "[I 2023-12-24 19:10:41,121] Trial 299 finished with value: 0.2564918549887361 and parameters: {'topK': 183, 'shrink': 491, 'similarity': 'tanimoto', 'feature_weighting': 'BM25'}. Best is trial 203 with value: 0.25677035105328766.\n"
     ]
    },
    {
     "name": "stdout",
     "output_type": "stream",
     "text": [
      "ItemKNNCFRecommender: URM Detected 627 ( 4.8%) users with no interactions.\n",
      "ItemKNNCFRecommender: URM Detected 247 ( 1.1%) items with no interactions.\n",
      "Similarity column 22347 (100.0%), 6634.11 column/sec. Elapsed time 3.37 sec\n",
      "EvaluatorHoldout: Processed 10456 (100.0%) in 12.20 sec. Users per second: 857\n"
     ]
    },
    {
     "name": "stderr",
     "output_type": "stream",
     "text": [
      "[I 2023-12-24 19:10:57,119] Trial 300 finished with value: 0.25491480486342144 and parameters: {'topK': 219, 'shrink': 468, 'similarity': 'tanimoto', 'feature_weighting': 'BM25'}. Best is trial 203 with value: 0.25677035105328766.\n"
     ]
    },
    {
     "name": "stdout",
     "output_type": "stream",
     "text": [
      "ItemKNNCFRecommender: URM Detected 627 ( 4.8%) users with no interactions.\n",
      "ItemKNNCFRecommender: URM Detected 247 ( 1.1%) items with no interactions.\n",
      "Similarity column 22347 (100.0%), 6518.00 column/sec. Elapsed time 3.43 sec\n",
      "EvaluatorHoldout: Processed 10456 (100.0%) in 12.06 sec. Users per second: 867\n"
     ]
    },
    {
     "name": "stderr",
     "output_type": "stream",
     "text": [
      "[I 2023-12-24 19:11:13,016] Trial 301 finished with value: 0.2521535370893196 and parameters: {'topK': 142, 'shrink': 483, 'similarity': 'tversky', 'feature_weighting': 'BM25', 'tversky_alpha': 0.8385892344630312, 'tversky_beta': 0.006961652171402655}. Best is trial 203 with value: 0.25677035105328766.\n"
     ]
    },
    {
     "name": "stdout",
     "output_type": "stream",
     "text": [
      "ItemKNNCFRecommender: URM Detected 627 ( 4.8%) users with no interactions.\n",
      "ItemKNNCFRecommender: URM Detected 247 ( 1.1%) items with no interactions.\n",
      "Similarity column 22347 (100.0%), 6740.26 column/sec. Elapsed time 3.32 sec\n",
      "EvaluatorHoldout: Processed 10456 (100.0%) in 12.03 sec. Users per second: 869\n"
     ]
    },
    {
     "name": "stderr",
     "output_type": "stream",
     "text": [
      "[I 2023-12-24 19:11:28,771] Trial 302 finished with value: 0.2560429727173319 and parameters: {'topK': 190, 'shrink': 477, 'similarity': 'tanimoto', 'feature_weighting': 'BM25'}. Best is trial 203 with value: 0.25677035105328766.\n"
     ]
    },
    {
     "name": "stdout",
     "output_type": "stream",
     "text": [
      "ItemKNNCFRecommender: URM Detected 627 ( 4.8%) users with no interactions.\n",
      "ItemKNNCFRecommender: URM Detected 247 ( 1.1%) items with no interactions.\n",
      "Similarity column 22347 (100.0%), 6629.63 column/sec. Elapsed time 3.37 sec\n",
      "EvaluatorHoldout: Processed 10456 (100.0%) in 12.88 sec. Users per second: 812\n"
     ]
    },
    {
     "name": "stderr",
     "output_type": "stream",
     "text": [
      "[I 2023-12-24 19:11:45,483] Trial 303 finished with value: 0.25468362274536543 and parameters: {'topK': 268, 'shrink': 457, 'similarity': 'tanimoto', 'feature_weighting': 'BM25'}. Best is trial 203 with value: 0.25677035105328766.\n"
     ]
    },
    {
     "name": "stdout",
     "output_type": "stream",
     "text": [
      "ItemKNNCFRecommender: URM Detected 627 ( 4.8%) users with no interactions.\n",
      "ItemKNNCFRecommender: URM Detected 247 ( 1.1%) items with no interactions.\n",
      "Similarity column 22347 (100.0%), 6850.80 column/sec. Elapsed time 3.26 sec\n",
      "EvaluatorHoldout: Processed 10456 (100.0%) in 10.58 sec. Users per second: 989\n"
     ]
    },
    {
     "name": "stderr",
     "output_type": "stream",
     "text": [
      "[I 2023-12-24 19:11:59,638] Trial 304 finished with value: 0.21829756852634455 and parameters: {'topK': 102, 'shrink': 489, 'similarity': 'tanimoto', 'feature_weighting': 'none'}. Best is trial 203 with value: 0.25677035105328766.\n"
     ]
    },
    {
     "name": "stdout",
     "output_type": "stream",
     "text": [
      "ItemKNNCFRecommender: URM Detected 627 ( 4.8%) users with no interactions.\n",
      "ItemKNNCFRecommender: URM Detected 247 ( 1.1%) items with no interactions.\n",
      "Similarity column 22347 (100.0%), 6601.87 column/sec. Elapsed time 3.38 sec\n",
      "EvaluatorHoldout: Processed 10456 (100.0%) in 11.70 sec. Users per second: 893\n"
     ]
    },
    {
     "name": "stderr",
     "output_type": "stream",
     "text": [
      "[I 2023-12-24 19:12:15,109] Trial 305 finished with value: 0.2562112075067461 and parameters: {'topK': 186, 'shrink': 467, 'similarity': 'tanimoto', 'feature_weighting': 'BM25'}. Best is trial 203 with value: 0.25677035105328766.\n"
     ]
    },
    {
     "name": "stdout",
     "output_type": "stream",
     "text": [
      "ItemKNNCFRecommender: URM Detected 627 ( 4.8%) users with no interactions.\n",
      "ItemKNNCFRecommender: URM Detected 247 ( 1.1%) items with no interactions.\n",
      "Similarity column 22347 (100.0%), 6691.99 column/sec. Elapsed time 3.34 sec\n",
      "EvaluatorHoldout: Processed 10456 (100.0%) in 12.22 sec. Users per second: 856\n"
     ]
    },
    {
     "name": "stderr",
     "output_type": "stream",
     "text": [
      "[I 2023-12-24 19:12:31,072] Trial 306 finished with value: 0.25500255089500184 and parameters: {'topK': 217, 'shrink': 490, 'similarity': 'tanimoto', 'feature_weighting': 'BM25'}. Best is trial 203 with value: 0.25677035105328766.\n"
     ]
    },
    {
     "name": "stdout",
     "output_type": "stream",
     "text": [
      "ItemKNNCFRecommender: URM Detected 627 ( 4.8%) users with no interactions.\n",
      "ItemKNNCFRecommender: URM Detected 247 ( 1.1%) items with no interactions.\n",
      "Similarity column 22347 (100.0%), 6790.05 column/sec. Elapsed time 3.29 sec\n",
      "EvaluatorHoldout: Processed 10456 (100.0%) in 11.10 sec. Users per second: 942\n"
     ]
    },
    {
     "name": "stderr",
     "output_type": "stream",
     "text": [
      "[I 2023-12-24 19:12:45,840] Trial 307 finished with value: 0.2550567403682273 and parameters: {'topK': 149, 'shrink': 441, 'similarity': 'tanimoto', 'feature_weighting': 'BM25'}. Best is trial 203 with value: 0.25677035105328766.\n"
     ]
    },
    {
     "name": "stdout",
     "output_type": "stream",
     "text": [
      "ItemKNNCFRecommender: URM Detected 627 ( 4.8%) users with no interactions.\n",
      "ItemKNNCFRecommender: URM Detected 247 ( 1.1%) items with no interactions.\n",
      "Similarity column 22347 (100.0%), 6573.73 column/sec. Elapsed time 3.40 sec\n",
      "EvaluatorHoldout: Processed 10456 (100.0%) in 7.74 sec. Users per second: 1351\n"
     ]
    },
    {
     "name": "stderr",
     "output_type": "stream",
     "text": [
      "[I 2023-12-24 19:12:57,311] Trial 308 finished with value: 0.11476522448243744 and parameters: {'topK': 128, 'shrink': 479, 'similarity': 'cosine', 'feature_weighting': 'BM25'}. Best is trial 203 with value: 0.25677035105328766.\n"
     ]
    },
    {
     "name": "stdout",
     "output_type": "stream",
     "text": [
      "ItemKNNCFRecommender: URM Detected 627 ( 4.8%) users with no interactions.\n",
      "ItemKNNCFRecommender: URM Detected 247 ( 1.1%) items with no interactions.\n",
      "Similarity column 22347 (100.0%), 6683.23 column/sec. Elapsed time 3.34 sec\n",
      "EvaluatorHoldout: Processed 10456 (100.0%) in 12.87 sec. Users per second: 812\n"
     ]
    },
    {
     "name": "stderr",
     "output_type": "stream",
     "text": [
      "[I 2023-12-24 19:13:13,948] Trial 309 finished with value: 0.25442940393107827 and parameters: {'topK': 244, 'shrink': 472, 'similarity': 'tanimoto', 'feature_weighting': 'BM25'}. Best is trial 203 with value: 0.25677035105328766.\n"
     ]
    },
    {
     "name": "stdout",
     "output_type": "stream",
     "text": [
      "ItemKNNCFRecommender: URM Detected 627 ( 4.8%) users with no interactions.\n",
      "ItemKNNCFRecommender: URM Detected 247 ( 1.1%) items with no interactions.\n",
      "Similarity column 22347 (100.0%), 6929.12 column/sec. Elapsed time 3.23 sec\n",
      "EvaluatorHoldout: Processed 10456 (100.0%) in 9.92 sec. Users per second: 1054\n"
     ]
    },
    {
     "name": "stderr",
     "output_type": "stream",
     "text": [
      "[I 2023-12-24 19:13:27,433] Trial 310 finished with value: 0.2542851604957435 and parameters: {'topK': 75, 'shrink': 492, 'similarity': 'tanimoto', 'feature_weighting': 'BM25'}. Best is trial 203 with value: 0.25677035105328766.\n"
     ]
    },
    {
     "name": "stdout",
     "output_type": "stream",
     "text": [
      "ItemKNNCFRecommender: URM Detected 627 ( 4.8%) users with no interactions.\n",
      "ItemKNNCFRecommender: URM Detected 247 ( 1.1%) items with no interactions.\n",
      "Similarity column 22347 (100.0%), 6722.25 column/sec. Elapsed time 3.32 sec\n",
      "EvaluatorHoldout: Processed 10456 (100.0%) in 11.69 sec. Users per second: 894\n"
     ]
    },
    {
     "name": "stderr",
     "output_type": "stream",
     "text": [
      "[I 2023-12-24 19:13:42,833] Trial 311 finished with value: 0.2563858086854242 and parameters: {'topK': 186, 'shrink': 460, 'similarity': 'tanimoto', 'feature_weighting': 'BM25'}. Best is trial 203 with value: 0.25677035105328766.\n"
     ]
    },
    {
     "name": "stdout",
     "output_type": "stream",
     "text": [
      "ItemKNNCFRecommender: URM Detected 627 ( 4.8%) users with no interactions.\n",
      "ItemKNNCFRecommender: URM Detected 247 ( 1.1%) items with no interactions.\n",
      "Similarity column 22347 (100.0%), 6722.53 column/sec. Elapsed time 3.32 sec\n",
      "EvaluatorHoldout: Processed 10456 (100.0%) in 13.17 sec. Users per second: 794\n"
     ]
    },
    {
     "name": "stderr",
     "output_type": "stream",
     "text": [
      "[I 2023-12-24 19:13:59,747] Trial 312 finished with value: 0.25444790743991824 and parameters: {'topK': 276, 'shrink': 480, 'similarity': 'tanimoto', 'feature_weighting': 'BM25'}. Best is trial 203 with value: 0.25677035105328766.\n"
     ]
    },
    {
     "name": "stdout",
     "output_type": "stream",
     "text": [
      "ItemKNNCFRecommender: URM Detected 627 ( 4.8%) users with no interactions.\n",
      "ItemKNNCFRecommender: URM Detected 247 ( 1.1%) items with no interactions.\n",
      "Similarity column 22347 (100.0%), 1540.47 column/sec. Elapsed time 14.51 sec\n",
      "EvaluatorHoldout: Processed 10456 (100.0%) in 5.43 sec. Users per second: 1927\n"
     ]
    },
    {
     "name": "stderr",
     "output_type": "stream",
     "text": [
      "[I 2023-12-24 19:14:20,039] Trial 313 finished with value: 0.027937030397700725 and parameters: {'topK': 160, 'shrink': 492, 'similarity': 'euclidean', 'feature_weighting': 'BM25', 'normalize_avg_row': True, 'similarity_from_distance_mode': 'log', 'normalize': False}. Best is trial 203 with value: 0.25677035105328766.\n"
     ]
    },
    {
     "name": "stdout",
     "output_type": "stream",
     "text": [
      "ItemKNNCFRecommender: URM Detected 627 ( 4.8%) users with no interactions.\n",
      "ItemKNNCFRecommender: URM Detected 247 ( 1.1%) items with no interactions.\n",
      "Similarity column 22347 (100.0%), 6611.88 column/sec. Elapsed time 3.38 sec\n",
      "EvaluatorHoldout: Processed 10456 (100.0%) in 12.29 sec. Users per second: 851\n"
     ]
    },
    {
     "name": "stderr",
     "output_type": "stream",
     "text": [
      "[I 2023-12-24 19:14:36,124] Trial 314 finished with value: 0.25505906503827913 and parameters: {'topK': 218, 'shrink': 451, 'similarity': 'tanimoto', 'feature_weighting': 'BM25'}. Best is trial 203 with value: 0.25677035105328766.\n"
     ]
    },
    {
     "name": "stdout",
     "output_type": "stream",
     "text": [
      "ItemKNNCFRecommender: URM Detected 627 ( 4.8%) users with no interactions.\n",
      "ItemKNNCFRecommender: URM Detected 247 ( 1.1%) items with no interactions.\n",
      "Similarity column 22347 (100.0%), 6730.30 column/sec. Elapsed time 3.32 sec\n",
      "EvaluatorHoldout: Processed 10456 (100.0%) in 10.71 sec. Users per second: 976\n"
     ]
    },
    {
     "name": "stderr",
     "output_type": "stream",
     "text": [
      "[I 2023-12-24 19:14:50,509] Trial 315 finished with value: 0.25492221083731637 and parameters: {'topK': 113, 'shrink': 483, 'similarity': 'jaccard', 'feature_weighting': 'BM25'}. Best is trial 203 with value: 0.25677035105328766.\n"
     ]
    },
    {
     "name": "stdout",
     "output_type": "stream",
     "text": [
      "ItemKNNCFRecommender: URM Detected 627 ( 4.8%) users with no interactions.\n",
      "ItemKNNCFRecommender: URM Detected 247 ( 1.1%) items with no interactions.\n",
      "Similarity column 22347 (100.0%), 6747.87 column/sec. Elapsed time 3.31 sec\n",
      "EvaluatorHoldout: Processed 10456 (100.0%) in 11.59 sec. Users per second: 902\n"
     ]
    },
    {
     "name": "stderr",
     "output_type": "stream",
     "text": [
      "[I 2023-12-24 19:15:05,814] Trial 316 finished with value: 0.2560038043375778 and parameters: {'topK': 166, 'shrink': 475, 'similarity': 'tanimoto', 'feature_weighting': 'BM25'}. Best is trial 203 with value: 0.25677035105328766.\n"
     ]
    },
    {
     "name": "stdout",
     "output_type": "stream",
     "text": [
      "ItemKNNCFRecommender: URM Detected 627 ( 4.8%) users with no interactions.\n",
      "ItemKNNCFRecommender: URM Detected 247 ( 1.1%) items with no interactions.\n",
      "Similarity column 22347 (100.0%), 6434.69 column/sec. Elapsed time 3.47 sec\n",
      "EvaluatorHoldout: Processed 10456 (100.0%) in 12.46 sec. Users per second: 839\n"
     ]
    },
    {
     "name": "stderr",
     "output_type": "stream",
     "text": [
      "[I 2023-12-24 19:15:22,176] Trial 317 finished with value: 0.2545425662669445 and parameters: {'topK': 224, 'shrink': 500, 'similarity': 'tanimoto', 'feature_weighting': 'BM25'}. Best is trial 203 with value: 0.25677035105328766.\n"
     ]
    },
    {
     "name": "stdout",
     "output_type": "stream",
     "text": [
      "ItemKNNCFRecommender: URM Detected 627 ( 4.8%) users with no interactions.\n",
      "ItemKNNCFRecommender: URM Detected 247 ( 1.1%) items with no interactions.\n",
      "Similarity column 22347 (100.0%), 6663.27 column/sec. Elapsed time 3.35 sec\n",
      "EvaluatorHoldout: Processed 10456 (100.0%) in 11.78 sec. Users per second: 888\n"
     ]
    },
    {
     "name": "stderr",
     "output_type": "stream",
     "text": [
      "[I 2023-12-24 19:15:37,706] Trial 318 finished with value: 0.25554230480409956 and parameters: {'topK': 189, 'shrink': 464, 'similarity': 'tanimoto', 'feature_weighting': 'BM25'}. Best is trial 203 with value: 0.25677035105328766.\n"
     ]
    },
    {
     "name": "stdout",
     "output_type": "stream",
     "text": [
      "ItemKNNCFRecommender: URM Detected 627 ( 4.8%) users with no interactions.\n",
      "ItemKNNCFRecommender: URM Detected 247 ( 1.1%) items with no interactions.\n",
      "Similarity column 22347 (100.0%), 6869.40 column/sec. Elapsed time 3.25 sec\n",
      "EvaluatorHoldout: Processed 10456 (100.0%) in 10.79 sec. Users per second: 969\n"
     ]
    },
    {
     "name": "stderr",
     "output_type": "stream",
     "text": [
      "[I 2023-12-24 19:15:52,127] Trial 319 finished with value: 0.2546104892737965 and parameters: {'topK': 119, 'shrink': 485, 'similarity': 'tanimoto', 'feature_weighting': 'BM25'}. Best is trial 203 with value: 0.25677035105328766.\n"
     ]
    },
    {
     "name": "stdout",
     "output_type": "stream",
     "text": [
      "ItemKNNCFRecommender: URM Detected 627 ( 4.8%) users with no interactions.\n",
      "ItemKNNCFRecommender: URM Detected 247 ( 1.1%) items with no interactions.\n",
      "Similarity column 22347 (100.0%), 6885.87 column/sec. Elapsed time 3.25 sec\n",
      "EvaluatorHoldout: Processed 10456 (100.0%) in 9.42 sec. Users per second: 1110\n"
     ]
    },
    {
     "name": "stderr",
     "output_type": "stream",
     "text": [
      "[I 2023-12-24 19:16:05,107] Trial 320 finished with value: 0.2534576186417102 and parameters: {'topK': 53, 'shrink': 472, 'similarity': 'tanimoto', 'feature_weighting': 'BM25'}. Best is trial 203 with value: 0.25677035105328766.\n"
     ]
    },
    {
     "name": "stdout",
     "output_type": "stream",
     "text": [
      "ItemKNNCFRecommender: URM Detected 627 ( 4.8%) users with no interactions.\n",
      "ItemKNNCFRecommender: URM Detected 247 ( 1.1%) items with no interactions.\n",
      "Similarity column 22347 (100.0%), 6435.99 column/sec. Elapsed time 3.47 sec\n",
      "EvaluatorHoldout: Processed 10456 (100.0%) in 13.80 sec. Users per second: 757\n"
     ]
    },
    {
     "name": "stderr",
     "output_type": "stream",
     "text": [
      "[I 2023-12-24 19:16:22,859] Trial 321 finished with value: 0.21145117960288556 and parameters: {'topK': 354, 'shrink': 500, 'similarity': 'tanimoto', 'feature_weighting': 'TF-IDF'}. Best is trial 203 with value: 0.25677035105328766.\n"
     ]
    },
    {
     "name": "stdout",
     "output_type": "stream",
     "text": [
      "ItemKNNCFRecommender: URM Detected 627 ( 4.8%) users with no interactions.\n",
      "ItemKNNCFRecommender: URM Detected 247 ( 1.1%) items with no interactions.\n",
      "Similarity column 22347 (100.0%), 6560.94 column/sec. Elapsed time 3.41 sec\n",
      "EvaluatorHoldout: Processed 10456 (100.0%) in 13.01 sec. Users per second: 804\n"
     ]
    },
    {
     "name": "stderr",
     "output_type": "stream",
     "text": [
      "[I 2023-12-24 19:16:39,715] Trial 322 finished with value: 0.25455093611479473 and parameters: {'topK': 278, 'shrink': 485, 'similarity': 'tanimoto', 'feature_weighting': 'BM25'}. Best is trial 203 with value: 0.25677035105328766.\n"
     ]
    },
    {
     "name": "stdout",
     "output_type": "stream",
     "text": [
      "ItemKNNCFRecommender: URM Detected 627 ( 4.8%) users with no interactions.\n",
      "ItemKNNCFRecommender: URM Detected 247 ( 1.1%) items with no interactions.\n",
      "Similarity column 22347 (100.0%), 6727.61 column/sec. Elapsed time 3.32 sec\n",
      "EvaluatorHoldout: Processed 10456 (100.0%) in 11.41 sec. Users per second: 916\n"
     ]
    },
    {
     "name": "stderr",
     "output_type": "stream",
     "text": [
      "[I 2023-12-24 19:16:54,857] Trial 323 finished with value: 0.25519041739653875 and parameters: {'topK': 151, 'shrink': 464, 'similarity': 'tanimoto', 'feature_weighting': 'BM25'}. Best is trial 203 with value: 0.25677035105328766.\n"
     ]
    },
    {
     "name": "stdout",
     "output_type": "stream",
     "text": [
      "ItemKNNCFRecommender: URM Detected 627 ( 4.8%) users with no interactions.\n",
      "ItemKNNCFRecommender: URM Detected 247 ( 1.1%) items with no interactions.\n",
      "Similarity column 22347 (100.0%), 6363.81 column/sec. Elapsed time 3.51 sec\n",
      "EvaluatorHoldout: Processed 10456 (100.0%) in 18.39 sec. Users per second: 569\n"
     ]
    },
    {
     "name": "stderr",
     "output_type": "stream",
     "text": [
      "[I 2023-12-24 19:17:17,323] Trial 324 finished with value: 0.18704025161603766 and parameters: {'topK': 784, 'shrink': 490, 'similarity': 'asymmetric', 'feature_weighting': 'none', 'asymmetric_alpha': 1.5996009434760206}. Best is trial 203 with value: 0.25677035105328766.\n"
     ]
    },
    {
     "name": "stdout",
     "output_type": "stream",
     "text": [
      "ItemKNNCFRecommender: URM Detected 627 ( 4.8%) users with no interactions.\n",
      "ItemKNNCFRecommender: URM Detected 247 ( 1.1%) items with no interactions.\n",
      "Similarity column 22347 (100.0%), 6603.61 column/sec. Elapsed time 3.38 sec\n",
      "EvaluatorHoldout: Processed 10456 (100.0%) in 13.27 sec. Users per second: 788\n"
     ]
    },
    {
     "name": "stderr",
     "output_type": "stream",
     "text": [
      "[I 2023-12-24 19:17:34,408] Trial 325 finished with value: 0.25488110496677935 and parameters: {'topK': 239, 'shrink': 474, 'similarity': 'tanimoto', 'feature_weighting': 'BM25'}. Best is trial 203 with value: 0.25677035105328766.\n"
     ]
    },
    {
     "name": "stdout",
     "output_type": "stream",
     "text": [
      "ItemKNNCFRecommender: URM Detected 627 ( 4.8%) users with no interactions.\n",
      "ItemKNNCFRecommender: URM Detected 247 ( 1.1%) items with no interactions.\n",
      "Similarity column 22347 (100.0%), 6859.11 column/sec. Elapsed time 3.26 sec\n",
      "EvaluatorHoldout: Processed 10456 (100.0%) in 12.13 sec. Users per second: 862\n"
     ]
    },
    {
     "name": "stderr",
     "output_type": "stream",
     "text": [
      "[I 2023-12-24 19:17:50,192] Trial 326 finished with value: 0.25397208310405617 and parameters: {'topK': 196, 'shrink': 431, 'similarity': 'dice', 'feature_weighting': 'BM25'}. Best is trial 203 with value: 0.25677035105328766.\n"
     ]
    },
    {
     "name": "stdout",
     "output_type": "stream",
     "text": [
      "ItemKNNCFRecommender: URM Detected 627 ( 4.8%) users with no interactions.\n",
      "ItemKNNCFRecommender: URM Detected 247 ( 1.1%) items with no interactions.\n",
      "Similarity column 22347 (100.0%), 6638.12 column/sec. Elapsed time 3.37 sec\n",
      "EvaluatorHoldout: Processed 10456 (100.0%) in 10.44 sec. Users per second: 1001\n"
     ]
    },
    {
     "name": "stderr",
     "output_type": "stream",
     "text": [
      "[I 2023-12-24 19:18:04,342] Trial 327 finished with value: 0.2546009235091923 and parameters: {'topK': 95, 'shrink': 454, 'similarity': 'tanimoto', 'feature_weighting': 'BM25'}. Best is trial 203 with value: 0.25677035105328766.\n"
     ]
    },
    {
     "name": "stdout",
     "output_type": "stream",
     "text": [
      "ItemKNNCFRecommender: URM Detected 627 ( 4.8%) users with no interactions.\n",
      "ItemKNNCFRecommender: URM Detected 247 ( 1.1%) items with no interactions.\n",
      "Similarity column 22347 (100.0%), 6508.33 column/sec. Elapsed time 3.43 sec\n",
      "EvaluatorHoldout: Processed 10456 (100.0%) in 13.61 sec. Users per second: 768\n"
     ]
    },
    {
     "name": "stderr",
     "output_type": "stream",
     "text": [
      "[I 2023-12-24 19:18:21,864] Trial 328 finished with value: 0.25450048881298687 and parameters: {'topK': 315, 'shrink': 490, 'similarity': 'tanimoto', 'feature_weighting': 'BM25'}. Best is trial 203 with value: 0.25677035105328766.\n"
     ]
    },
    {
     "name": "stdout",
     "output_type": "stream",
     "text": [
      "ItemKNNCFRecommender: URM Detected 627 ( 4.8%) users with no interactions.\n",
      "ItemKNNCFRecommender: URM Detected 247 ( 1.1%) items with no interactions.\n",
      "Similarity column 22347 (100.0%), 6722.24 column/sec. Elapsed time 3.32 sec\n",
      "EvaluatorHoldout: Processed 10456 (100.0%) in 11.31 sec. Users per second: 925\n"
     ]
    },
    {
     "name": "stderr",
     "output_type": "stream",
     "text": [
      "[I 2023-12-24 19:18:36,863] Trial 329 finished with value: 0.25611455576750813 and parameters: {'topK': 147, 'shrink': 478, 'similarity': 'tanimoto', 'feature_weighting': 'BM25'}. Best is trial 203 with value: 0.25677035105328766.\n"
     ]
    },
    {
     "name": "stdout",
     "output_type": "stream",
     "text": [
      "ItemKNNCFRecommender: URM Detected 627 ( 4.8%) users with no interactions.\n",
      "ItemKNNCFRecommender: URM Detected 247 ( 1.1%) items with no interactions.\n",
      "Similarity column 22347 (100.0%), 6640.59 column/sec. Elapsed time 3.37 sec\n",
      "EvaluatorHoldout: Processed 10456 (100.0%) in 11.02 sec. Users per second: 949\n"
     ]
    },
    {
     "name": "stderr",
     "output_type": "stream",
     "text": [
      "[I 2023-12-24 19:18:51,703] Trial 330 finished with value: 0.2521106272600551 and parameters: {'topK': 208, 'shrink': 466, 'similarity': 'tversky', 'feature_weighting': 'BM25', 'tversky_alpha': 1.5878260551758319, 'tversky_beta': 2.6154199238200366}. Best is trial 203 with value: 0.25677035105328766.\n"
     ]
    },
    {
     "name": "stdout",
     "output_type": "stream",
     "text": [
      "ItemKNNCFRecommender: URM Detected 627 ( 4.8%) users with no interactions.\n",
      "ItemKNNCFRecommender: URM Detected 247 ( 1.1%) items with no interactions.\n",
      "Similarity column 22347 (100.0%), 6685.91 column/sec. Elapsed time 3.34 sec\n",
      "EvaluatorHoldout: Processed 10456 (100.0%) in 11.62 sec. Users per second: 900\n"
     ]
    },
    {
     "name": "stderr",
     "output_type": "stream",
     "text": [
      "[I 2023-12-24 19:19:07,048] Trial 331 finished with value: 0.2567152706869441 and parameters: {'topK': 172, 'shrink': 481, 'similarity': 'tanimoto', 'feature_weighting': 'BM25'}. Best is trial 203 with value: 0.25677035105328766.\n"
     ]
    },
    {
     "name": "stdout",
     "output_type": "stream",
     "text": [
      "ItemKNNCFRecommender: URM Detected 627 ( 4.8%) users with no interactions.\n",
      "ItemKNNCFRecommender: URM Detected 247 ( 1.1%) items with no interactions.\n",
      "Similarity column 22347 (100.0%), 6460.50 column/sec. Elapsed time 3.46 sec\n",
      "EvaluatorHoldout: Processed 10456 (100.0%) in 10.93 sec. Users per second: 957\n"
     ]
    },
    {
     "name": "stderr",
     "output_type": "stream",
     "text": [
      "[I 2023-12-24 19:19:21,811] Trial 332 finished with value: 0.25447207586319504 and parameters: {'topK': 127, 'shrink': 445, 'similarity': 'tanimoto', 'feature_weighting': 'BM25'}. Best is trial 203 with value: 0.25677035105328766.\n"
     ]
    },
    {
     "name": "stdout",
     "output_type": "stream",
     "text": [
      "ItemKNNCFRecommender: URM Detected 627 ( 4.8%) users with no interactions.\n",
      "ItemKNNCFRecommender: URM Detected 247 ( 1.1%) items with no interactions.\n",
      "Similarity column 22347 (100.0%), 6418.40 column/sec. Elapsed time 3.48 sec\n",
      "EvaluatorHoldout: Processed 10456 (100.0%) in 11.61 sec. Users per second: 900\n"
     ]
    },
    {
     "name": "stderr",
     "output_type": "stream",
     "text": [
      "[I 2023-12-24 19:19:37,297] Trial 333 finished with value: 0.25635948497991623 and parameters: {'topK': 169, 'shrink': 481, 'similarity': 'tanimoto', 'feature_weighting': 'BM25'}. Best is trial 203 with value: 0.25677035105328766.\n"
     ]
    },
    {
     "name": "stdout",
     "output_type": "stream",
     "text": [
      "ItemKNNCFRecommender: URM Detected 627 ( 4.8%) users with no interactions.\n",
      "ItemKNNCFRecommender: URM Detected 247 ( 1.1%) items with no interactions.\n",
      "Similarity column 22347 (100.0%), 6655.17 column/sec. Elapsed time 3.36 sec\n",
      "EvaluatorHoldout: Processed 10456 (100.0%) in 12.58 sec. Users per second: 831\n"
     ]
    },
    {
     "name": "stderr",
     "output_type": "stream",
     "text": [
      "[I 2023-12-24 19:19:53,661] Trial 334 finished with value: 0.25477401045695786 and parameters: {'topK': 236, 'shrink': 470, 'similarity': 'tanimoto', 'feature_weighting': 'BM25'}. Best is trial 203 with value: 0.25677035105328766.\n"
     ]
    },
    {
     "name": "stdout",
     "output_type": "stream",
     "text": [
      "ItemKNNCFRecommender: URM Detected 627 ( 4.8%) users with no interactions.\n",
      "ItemKNNCFRecommender: URM Detected 247 ( 1.1%) items with no interactions.\n",
      "Similarity column 22347 (100.0%), 6272.99 column/sec. Elapsed time 3.56 sec\n",
      "EvaluatorHoldout: Processed 10456 (100.0%) in 18.52 sec. Users per second: 565\n"
     ]
    },
    {
     "name": "stderr",
     "output_type": "stream",
     "text": [
      "[I 2023-12-24 19:20:16,554] Trial 335 finished with value: 0.24128154764429 and parameters: {'topK': 1567, 'shrink': 459, 'similarity': 'tanimoto', 'feature_weighting': 'BM25'}. Best is trial 203 with value: 0.25677035105328766.\n"
     ]
    },
    {
     "name": "stdout",
     "output_type": "stream",
     "text": [
      "ItemKNNCFRecommender: URM Detected 627 ( 4.8%) users with no interactions.\n",
      "ItemKNNCFRecommender: URM Detected 247 ( 1.1%) items with no interactions.\n",
      "Similarity column 22347 (100.0%), 6713.60 column/sec. Elapsed time 3.33 sec\n",
      "EvaluatorHoldout: Processed 10456 (100.0%) in 10.51 sec. Users per second: 994\n"
     ]
    },
    {
     "name": "stderr",
     "output_type": "stream",
     "text": [
      "[I 2023-12-24 19:20:30,772] Trial 336 finished with value: 0.2550961357955973 and parameters: {'topK': 100, 'shrink': 493, 'similarity': 'tanimoto', 'feature_weighting': 'BM25'}. Best is trial 203 with value: 0.25677035105328766.\n"
     ]
    },
    {
     "name": "stdout",
     "output_type": "stream",
     "text": [
      "ItemKNNCFRecommender: URM Detected 627 ( 4.8%) users with no interactions.\n",
      "ItemKNNCFRecommender: URM Detected 247 ( 1.1%) items with no interactions.\n",
      "Similarity column 22347 (100.0%), 6729.34 column/sec. Elapsed time 3.32 sec\n",
      "EvaluatorHoldout: Processed 10456 (100.0%) in 13.01 sec. Users per second: 803\n"
     ]
    },
    {
     "name": "stderr",
     "output_type": "stream",
     "text": [
      "[I 2023-12-24 19:20:47,543] Trial 337 finished with value: 0.25480304922528835 and parameters: {'topK': 267, 'shrink': 479, 'similarity': 'tanimoto', 'feature_weighting': 'BM25'}. Best is trial 203 with value: 0.25677035105328766.\n"
     ]
    },
    {
     "name": "stdout",
     "output_type": "stream",
     "text": [
      "ItemKNNCFRecommender: URM Detected 627 ( 4.8%) users with no interactions.\n",
      "ItemKNNCFRecommender: URM Detected 247 ( 1.1%) items with no interactions.\n",
      "Similarity column 22347 (100.0%), 6325.75 column/sec. Elapsed time 3.53 sec\n",
      "EvaluatorHoldout: Processed 10456 (100.0%) in 8.52 sec. Users per second: 1227\n"
     ]
    },
    {
     "name": "stderr",
     "output_type": "stream",
     "text": [
      "[I 2023-12-24 19:20:59,975] Trial 338 finished with value: 0.1140277056860623 and parameters: {'topK': 181, 'shrink': 500, 'similarity': 'cosine', 'feature_weighting': 'BM25'}. Best is trial 203 with value: 0.25677035105328766.\n"
     ]
    },
    {
     "name": "stdout",
     "output_type": "stream",
     "text": [
      "ItemKNNCFRecommender: URM Detected 627 ( 4.8%) users with no interactions.\n",
      "ItemKNNCFRecommender: URM Detected 247 ( 1.1%) items with no interactions.\n",
      "Similarity column 22347 (100.0%), 6651.37 column/sec. Elapsed time 3.36 sec\n",
      "EvaluatorHoldout: Processed 10456 (100.0%) in 12.41 sec. Users per second: 842\n"
     ]
    },
    {
     "name": "stderr",
     "output_type": "stream",
     "text": [
      "[I 2023-12-24 19:21:16,166] Trial 339 finished with value: 0.25512210501511395 and parameters: {'topK': 214, 'shrink': 472, 'similarity': 'tanimoto', 'feature_weighting': 'BM25'}. Best is trial 203 with value: 0.25677035105328766.\n"
     ]
    },
    {
     "name": "stdout",
     "output_type": "stream",
     "text": [
      "ItemKNNCFRecommender: URM Detected 627 ( 4.8%) users with no interactions.\n",
      "ItemKNNCFRecommender: URM Detected 247 ( 1.1%) items with no interactions.\n",
      "Similarity column 22347 (100.0%), 6633.35 column/sec. Elapsed time 3.37 sec\n",
      "EvaluatorHoldout: Processed 10456 (100.0%) in 9.71 sec. Users per second: 1076\n"
     ]
    },
    {
     "name": "stderr",
     "output_type": "stream",
     "text": [
      "[I 2023-12-24 19:21:29,585] Trial 340 finished with value: 0.25498960719993297 and parameters: {'topK': 59, 'shrink': 484, 'similarity': 'tanimoto', 'feature_weighting': 'BM25'}. Best is trial 203 with value: 0.25677035105328766.\n"
     ]
    },
    {
     "name": "stdout",
     "output_type": "stream",
     "text": [
      "ItemKNNCFRecommender: URM Detected 627 ( 4.8%) users with no interactions.\n",
      "ItemKNNCFRecommender: URM Detected 247 ( 1.1%) items with no interactions.\n",
      "Similarity column 22347 (100.0%), 6594.85 column/sec. Elapsed time 3.39 sec\n",
      "EvaluatorHoldout: Processed 10456 (100.0%) in 11.51 sec. Users per second: 908\n"
     ]
    },
    {
     "name": "stderr",
     "output_type": "stream",
     "text": [
      "[I 2023-12-24 19:21:44,900] Trial 341 finished with value: 0.255293841154024 and parameters: {'topK': 141, 'shrink': 459, 'similarity': 'tanimoto', 'feature_weighting': 'BM25'}. Best is trial 203 with value: 0.25677035105328766.\n"
     ]
    },
    {
     "name": "stdout",
     "output_type": "stream",
     "text": [
      "ItemKNNCFRecommender: URM Detected 627 ( 4.8%) users with no interactions.\n",
      "ItemKNNCFRecommender: URM Detected 247 ( 1.1%) items with no interactions.\n",
      "Similarity column 22347 (100.0%), 6604.54 column/sec. Elapsed time 3.38 sec\n",
      "EvaluatorHoldout: Processed 10456 (100.0%) in 8.86 sec. Users per second: 1180\n"
     ]
    },
    {
     "name": "stderr",
     "output_type": "stream",
     "text": [
      "[I 2023-12-24 19:21:57,601] Trial 342 finished with value: 0.1954081621924403 and parameters: {'topK': 177, 'shrink': 30, 'similarity': 'tanimoto', 'feature_weighting': 'BM25'}. Best is trial 203 with value: 0.25677035105328766.\n"
     ]
    },
    {
     "name": "stdout",
     "output_type": "stream",
     "text": [
      "ItemKNNCFRecommender: URM Detected 627 ( 4.8%) users with no interactions.\n",
      "ItemKNNCFRecommender: URM Detected 247 ( 1.1%) items with no interactions.\n",
      "Similarity column 22347 (100.0%), 987.14 column/sec. Elapsed time 22.64 sec\n",
      "EvaluatorHoldout: Processed 10456 (100.0%) in 9.55 sec. Users per second: 1095\n"
     ]
    },
    {
     "name": "stderr",
     "output_type": "stream",
     "text": [
      "[I 2023-12-24 19:22:30,250] Trial 343 finished with value: 0.08031751524284368 and parameters: {'topK': 249, 'shrink': 491, 'similarity': 'euclidean', 'feature_weighting': 'BM25', 'normalize_avg_row': True, 'similarity_from_distance_mode': 'exp', 'normalize': True}. Best is trial 203 with value: 0.25677035105328766.\n"
     ]
    },
    {
     "name": "stdout",
     "output_type": "stream",
     "text": [
      "ItemKNNCFRecommender: URM Detected 627 ( 4.8%) users with no interactions.\n",
      "ItemKNNCFRecommender: URM Detected 247 ( 1.1%) items with no interactions.\n",
      "Similarity column 22347 (100.0%), 7073.75 column/sec. Elapsed time 3.16 sec\n",
      "EvaluatorHoldout: Processed 10456 (100.0%) in 7.25 sec. Users per second: 1443\n"
     ]
    },
    {
     "name": "stderr",
     "output_type": "stream",
     "text": [
      "[I 2023-12-24 19:22:40,944] Trial 344 finished with value: 0.2199307929250833 and parameters: {'topK': 12, 'shrink': 471, 'similarity': 'tanimoto', 'feature_weighting': 'TF-IDF'}. Best is trial 203 with value: 0.25677035105328766.\n"
     ]
    },
    {
     "name": "stdout",
     "output_type": "stream",
     "text": [
      "ItemKNNCFRecommender: URM Detected 627 ( 4.8%) users with no interactions.\n",
      "ItemKNNCFRecommender: URM Detected 247 ( 1.1%) items with no interactions.\n",
      "Similarity column 22347 (100.0%), 6915.69 column/sec. Elapsed time 3.23 sec\n",
      "EvaluatorHoldout: Processed 10456 (100.0%) in 9.90 sec. Users per second: 1056\n"
     ]
    },
    {
     "name": "stderr",
     "output_type": "stream",
     "text": [
      "[I 2023-12-24 19:22:54,431] Trial 345 finished with value: 0.24853308395240908 and parameters: {'topK': 126, 'shrink': 219, 'similarity': 'jaccard', 'feature_weighting': 'BM25'}. Best is trial 203 with value: 0.25677035105328766.\n"
     ]
    },
    {
     "name": "stdout",
     "output_type": "stream",
     "text": [
      "ItemKNNCFRecommender: URM Detected 627 ( 4.8%) users with no interactions.\n",
      "ItemKNNCFRecommender: URM Detected 247 ( 1.1%) items with no interactions.\n",
      "Similarity column 22347 (100.0%), 6527.36 column/sec. Elapsed time 3.42 sec\n",
      "EvaluatorHoldout: Processed 10456 (100.0%) in 11.59 sec. Users per second: 902\n"
     ]
    },
    {
     "name": "stderr",
     "output_type": "stream",
     "text": [
      "[I 2023-12-24 19:23:09,847] Trial 346 finished with value: 0.2537253142856203 and parameters: {'topK': 204, 'shrink': 337, 'similarity': 'tanimoto', 'feature_weighting': 'BM25'}. Best is trial 203 with value: 0.25677035105328766.\n"
     ]
    },
    {
     "name": "stdout",
     "output_type": "stream",
     "text": [
      "ItemKNNCFRecommender: URM Detected 627 ( 4.8%) users with no interactions.\n",
      "ItemKNNCFRecommender: URM Detected 247 ( 1.1%) items with no interactions.\n",
      "Similarity column 22347 (100.0%), 6910.67 column/sec. Elapsed time 3.23 sec\n",
      "EvaluatorHoldout: Processed 10456 (100.0%) in 9.98 sec. Users per second: 1047\n"
     ]
    },
    {
     "name": "stderr",
     "output_type": "stream",
     "text": [
      "[I 2023-12-24 19:23:23,374] Trial 347 finished with value: 0.22023370765885972 and parameters: {'topK': 87, 'shrink': 422, 'similarity': 'tanimoto', 'feature_weighting': 'none'}. Best is trial 203 with value: 0.25677035105328766.\n"
     ]
    },
    {
     "name": "stdout",
     "output_type": "stream",
     "text": [
      "ItemKNNCFRecommender: URM Detected 627 ( 4.8%) users with no interactions.\n",
      "ItemKNNCFRecommender: URM Detected 247 ( 1.1%) items with no interactions.\n",
      "Similarity column 22347 (100.0%), 6785.83 column/sec. Elapsed time 3.29 sec\n",
      "EvaluatorHoldout: Processed 10456 (100.0%) in 11.49 sec. Users per second: 910\n"
     ]
    },
    {
     "name": "stderr",
     "output_type": "stream",
     "text": [
      "[I 2023-12-24 19:23:38,536] Trial 348 finished with value: 0.25548808730481026 and parameters: {'topK': 158, 'shrink': 482, 'similarity': 'tanimoto', 'feature_weighting': 'BM25'}. Best is trial 203 with value: 0.25677035105328766.\n"
     ]
    },
    {
     "name": "stdout",
     "output_type": "stream",
     "text": [
      "ItemKNNCFRecommender: URM Detected 627 ( 4.8%) users with no interactions.\n",
      "ItemKNNCFRecommender: URM Detected 247 ( 1.1%) items with no interactions.\n",
      "Similarity column 22347 (100.0%), 6739.63 column/sec. Elapsed time 3.32 sec\n",
      "EvaluatorHoldout: Processed 10456 (100.0%) in 13.16 sec. Users per second: 794\n"
     ]
    },
    {
     "name": "stderr",
     "output_type": "stream",
     "text": [
      "[I 2023-12-24 19:23:55,464] Trial 349 finished with value: 0.254480660386288 and parameters: {'topK': 289, 'shrink': 493, 'similarity': 'tanimoto', 'feature_weighting': 'BM25'}. Best is trial 203 with value: 0.25677035105328766.\n"
     ]
    },
    {
     "name": "stdout",
     "output_type": "stream",
     "text": [
      "ItemKNNCFRecommender: URM Detected 627 ( 4.8%) users with no interactions.\n",
      "ItemKNNCFRecommender: URM Detected 247 ( 1.1%) items with no interactions.\n",
      "Similarity column 22347 (100.0%), 6332.96 column/sec. Elapsed time 3.53 sec\n",
      "EvaluatorHoldout: Processed 10456 (100.0%) in 12.24 sec. Users per second: 854\n"
     ]
    },
    {
     "name": "stderr",
     "output_type": "stream",
     "text": [
      "[I 2023-12-24 19:24:11,657] Trial 350 finished with value: 0.25530776069609074 and parameters: {'topK': 214, 'shrink': 464, 'similarity': 'tanimoto', 'feature_weighting': 'BM25'}. Best is trial 203 with value: 0.25677035105328766.\n"
     ]
    },
    {
     "name": "stdout",
     "output_type": "stream",
     "text": [
      "ItemKNNCFRecommender: URM Detected 627 ( 4.8%) users with no interactions.\n",
      "ItemKNNCFRecommender: URM Detected 247 ( 1.1%) items with no interactions.\n",
      "Similarity column 22347 (100.0%), 6866.89 column/sec. Elapsed time 3.25 sec\n",
      "EvaluatorHoldout: Processed 10456 (100.0%) in 11.37 sec. Users per second: 920\n"
     ]
    },
    {
     "name": "stderr",
     "output_type": "stream",
     "text": [
      "[I 2023-12-24 19:24:26,678] Trial 351 finished with value: 0.2555788833203808 and parameters: {'topK': 158, 'shrink': 451, 'similarity': 'tanimoto', 'feature_weighting': 'BM25'}. Best is trial 203 with value: 0.25677035105328766.\n"
     ]
    },
    {
     "name": "stdout",
     "output_type": "stream",
     "text": [
      "ItemKNNCFRecommender: URM Detected 627 ( 4.8%) users with no interactions.\n",
      "ItemKNNCFRecommender: URM Detected 247 ( 1.1%) items with no interactions.\n",
      "Similarity column 22347 (100.0%), 6529.32 column/sec. Elapsed time 3.42 sec\n",
      "EvaluatorHoldout: Processed 10456 (100.0%) in 10.67 sec. Users per second: 980\n"
     ]
    },
    {
     "name": "stderr",
     "output_type": "stream",
     "text": [
      "[I 2023-12-24 19:24:41,192] Trial 352 finished with value: 0.24034739882514874 and parameters: {'topK': 239, 'shrink': 116, 'similarity': 'tanimoto', 'feature_weighting': 'BM25'}. Best is trial 203 with value: 0.25677035105328766.\n"
     ]
    },
    {
     "name": "stdout",
     "output_type": "stream",
     "text": [
      "ItemKNNCFRecommender: URM Detected 627 ( 4.8%) users with no interactions.\n",
      "ItemKNNCFRecommender: URM Detected 247 ( 1.1%) items with no interactions.\n",
      "Similarity column 22347 (100.0%), 6815.82 column/sec. Elapsed time 3.28 sec\n",
      "EvaluatorHoldout: Processed 10456 (100.0%) in 7.67 sec. Users per second: 1363\n"
     ]
    },
    {
     "name": "stderr",
     "output_type": "stream",
     "text": [
      "[I 2023-12-24 19:24:52,490] Trial 353 finished with value: 0.10706185645848745 and parameters: {'topK': 118, 'shrink': 500, 'similarity': 'asymmetric', 'feature_weighting': 'BM25', 'asymmetric_alpha': 1.3349366349930902}. Best is trial 203 with value: 0.25677035105328766.\n"
     ]
    },
    {
     "name": "stdout",
     "output_type": "stream",
     "text": [
      "ItemKNNCFRecommender: URM Detected 627 ( 4.8%) users with no interactions.\n",
      "ItemKNNCFRecommender: URM Detected 247 ( 1.1%) items with no interactions.\n",
      "Similarity column 22347 (100.0%), 6622.96 column/sec. Elapsed time 3.37 sec\n",
      "EvaluatorHoldout: Processed 10456 (100.0%) in 11.74 sec. Users per second: 890\n"
     ]
    },
    {
     "name": "stderr",
     "output_type": "stream",
     "text": [
      "[I 2023-12-24 19:25:08,050] Trial 354 finished with value: 0.25625890128925655 and parameters: {'topK': 187, 'shrink': 480, 'similarity': 'tanimoto', 'feature_weighting': 'BM25'}. Best is trial 203 with value: 0.25677035105328766.\n"
     ]
    },
    {
     "name": "stdout",
     "output_type": "stream",
     "text": [
      "ItemKNNCFRecommender: URM Detected 627 ( 4.8%) users with no interactions.\n",
      "ItemKNNCFRecommender: URM Detected 247 ( 1.1%) items with no interactions.\n",
      "Similarity column 22347 (100.0%), 6784.07 column/sec. Elapsed time 3.29 sec\n",
      "EvaluatorHoldout: Processed 10456 (100.0%) in 11.25 sec. Users per second: 929\n"
     ]
    },
    {
     "name": "stderr",
     "output_type": "stream",
     "text": [
      "[I 2023-12-24 19:25:22,982] Trial 355 finished with value: 0.25570857166469263 and parameters: {'topK': 146, 'shrink': 471, 'similarity': 'tanimoto', 'feature_weighting': 'BM25'}. Best is trial 203 with value: 0.25677035105328766.\n"
     ]
    },
    {
     "name": "stdout",
     "output_type": "stream",
     "text": [
      "ItemKNNCFRecommender: URM Detected 627 ( 4.8%) users with no interactions.\n",
      "ItemKNNCFRecommender: URM Detected 247 ( 1.1%) items with no interactions.\n",
      "Similarity column 22347 (100.0%), 6749.17 column/sec. Elapsed time 3.31 sec\n",
      "EvaluatorHoldout: Processed 10456 (100.0%) in 12.72 sec. Users per second: 822\n"
     ]
    },
    {
     "name": "stderr",
     "output_type": "stream",
     "text": [
      "[I 2023-12-24 19:25:39,454] Trial 356 finished with value: 0.25381860206431567 and parameters: {'topK': 263, 'shrink': 485, 'similarity': 'dice', 'feature_weighting': 'BM25'}. Best is trial 203 with value: 0.25677035105328766.\n"
     ]
    },
    {
     "name": "stdout",
     "output_type": "stream",
     "text": [
      "ItemKNNCFRecommender: URM Detected 627 ( 4.8%) users with no interactions.\n",
      "ItemKNNCFRecommender: URM Detected 247 ( 1.1%) items with no interactions.\n",
      "Similarity column 22347 (100.0%), 6717.44 column/sec. Elapsed time 3.33 sec\n",
      "EvaluatorHoldout: Processed 10456 (100.0%) in 12.16 sec. Users per second: 860\n"
     ]
    },
    {
     "name": "stderr",
     "output_type": "stream",
     "text": [
      "[I 2023-12-24 19:25:55,334] Trial 357 finished with value: 0.256170367254031 and parameters: {'topK': 198, 'shrink': 475, 'similarity': 'tanimoto', 'feature_weighting': 'BM25'}. Best is trial 203 with value: 0.25677035105328766.\n"
     ]
    },
    {
     "name": "stdout",
     "output_type": "stream",
     "text": [
      "ItemKNNCFRecommender: URM Detected 627 ( 4.8%) users with no interactions.\n",
      "ItemKNNCFRecommender: URM Detected 247 ( 1.1%) items with no interactions.\n",
      "Similarity column 22347 (100.0%), 6413.70 column/sec. Elapsed time 3.48 sec\n",
      "EvaluatorHoldout: Processed 10456 (100.0%) in 10.49 sec. Users per second: 996\n"
     ]
    },
    {
     "name": "stderr",
     "output_type": "stream",
     "text": [
      "[I 2023-12-24 19:26:09,669] Trial 358 finished with value: 0.2546838216324943 and parameters: {'topK': 98, 'shrink': 489, 'similarity': 'tanimoto', 'feature_weighting': 'BM25'}. Best is trial 203 with value: 0.25677035105328766.\n"
     ]
    },
    {
     "name": "stdout",
     "output_type": "stream",
     "text": [
      "ItemKNNCFRecommender: URM Detected 627 ( 4.8%) users with no interactions.\n",
      "ItemKNNCFRecommender: URM Detected 247 ( 1.1%) items with no interactions.\n",
      "Similarity column 22347 (100.0%), 6580.64 column/sec. Elapsed time 3.40 sec\n",
      "EvaluatorHoldout: Processed 10456 (100.0%) in 10.45 sec. Users per second: 1000\n"
     ]
    },
    {
     "name": "stderr",
     "output_type": "stream",
     "text": [
      "[I 2023-12-24 19:26:23,967] Trial 359 finished with value: 0.2543073820461267 and parameters: {'topK': 225, 'shrink': 465, 'similarity': 'tversky', 'feature_weighting': 'BM25', 'tversky_alpha': 1.0494741955366134, 'tversky_beta': 3.8024890735283208}. Best is trial 203 with value: 0.25677035105328766.\n"
     ]
    },
    {
     "name": "stdout",
     "output_type": "stream",
     "text": [
      "ItemKNNCFRecommender: URM Detected 627 ( 4.8%) users with no interactions.\n",
      "ItemKNNCFRecommender: URM Detected 247 ( 1.1%) items with no interactions.\n",
      "Similarity column 22347 (100.0%), 6490.92 column/sec. Elapsed time 3.44 sec\n",
      "EvaluatorHoldout: Processed 10456 (100.0%) in 16.41 sec. Users per second: 637\n"
     ]
    },
    {
     "name": "stderr",
     "output_type": "stream",
     "text": [
      "[I 2023-12-24 19:26:44,492] Trial 360 finished with value: 0.24556250991257655 and parameters: {'topK': 865, 'shrink': 482, 'similarity': 'tanimoto', 'feature_weighting': 'BM25'}. Best is trial 203 with value: 0.25677035105328766.\n"
     ]
    },
    {
     "name": "stdout",
     "output_type": "stream",
     "text": [
      "ItemKNNCFRecommender: URM Detected 627 ( 4.8%) users with no interactions.\n",
      "ItemKNNCFRecommender: URM Detected 247 ( 1.1%) items with no interactions.\n",
      "Similarity column 22347 (100.0%), 6831.24 column/sec. Elapsed time 3.27 sec\n",
      "EvaluatorHoldout: Processed 10456 (100.0%) in 11.53 sec. Users per second: 907\n"
     ]
    },
    {
     "name": "stderr",
     "output_type": "stream",
     "text": [
      "[I 2023-12-24 19:26:59,668] Trial 361 finished with value: 0.2555224507246909 and parameters: {'topK': 167, 'shrink': 454, 'similarity': 'tanimoto', 'feature_weighting': 'BM25'}. Best is trial 203 with value: 0.25677035105328766.\n"
     ]
    },
    {
     "name": "stdout",
     "output_type": "stream",
     "text": [
      "ItemKNNCFRecommender: URM Detected 627 ( 4.8%) users with no interactions.\n",
      "ItemKNNCFRecommender: URM Detected 247 ( 1.1%) items with no interactions.\n",
      "Similarity column 22347 (100.0%), 6466.69 column/sec. Elapsed time 3.46 sec\n",
      "EvaluatorHoldout: Processed 10456 (100.0%) in 14.52 sec. Users per second: 720\n"
     ]
    },
    {
     "name": "stderr",
     "output_type": "stream",
     "text": [
      "[I 2023-12-24 19:27:18,189] Trial 362 finished with value: 0.2514803258386324 and parameters: {'topK': 507, 'shrink': 378, 'similarity': 'tanimoto', 'feature_weighting': 'BM25'}. Best is trial 203 with value: 0.25677035105328766.\n"
     ]
    },
    {
     "name": "stdout",
     "output_type": "stream",
     "text": [
      "ItemKNNCFRecommender: URM Detected 627 ( 4.8%) users with no interactions.\n",
      "ItemKNNCFRecommender: URM Detected 247 ( 1.1%) items with no interactions.\n",
      "Similarity column 22347 (100.0%), 6726.54 column/sec. Elapsed time 3.32 sec\n",
      "EvaluatorHoldout: Processed 10456 (100.0%) in 13.47 sec. Users per second: 777\n"
     ]
    },
    {
     "name": "stderr",
     "output_type": "stream",
     "text": [
      "[I 2023-12-24 19:27:35,430] Trial 363 finished with value: 0.25413300089391794 and parameters: {'topK': 325, 'shrink': 493, 'similarity': 'tanimoto', 'feature_weighting': 'BM25'}. Best is trial 203 with value: 0.25677035105328766.\n"
     ]
    },
    {
     "name": "stdout",
     "output_type": "stream",
     "text": [
      "ItemKNNCFRecommender: URM Detected 627 ( 4.8%) users with no interactions.\n",
      "ItemKNNCFRecommender: URM Detected 247 ( 1.1%) items with no interactions.\n",
      "Similarity column 22347 (100.0%), 6733.72 column/sec. Elapsed time 3.32 sec\n",
      "EvaluatorHoldout: Processed 10456 (100.0%) in 9.53 sec. Users per second: 1097\n"
     ]
    },
    {
     "name": "stderr",
     "output_type": "stream",
     "text": [
      "[I 2023-12-24 19:27:48,593] Trial 364 finished with value: 0.2534338872272784 and parameters: {'topK': 62, 'shrink': 440, 'similarity': 'tanimoto', 'feature_weighting': 'BM25'}. Best is trial 203 with value: 0.25677035105328766.\n"
     ]
    },
    {
     "name": "stdout",
     "output_type": "stream",
     "text": [
      "ItemKNNCFRecommender: URM Detected 627 ( 4.8%) users with no interactions.\n",
      "ItemKNNCFRecommender: URM Detected 247 ( 1.1%) items with no interactions.\n",
      "Similarity column 22347 (100.0%), 6443.08 column/sec. Elapsed time 3.47 sec\n",
      "EvaluatorHoldout: Processed 10456 (100.0%) in 15.37 sec. Users per second: 680\n"
     ]
    },
    {
     "name": "stderr",
     "output_type": "stream",
     "text": [
      "[I 2023-12-24 19:28:07,993] Trial 365 finished with value: 0.24901959794412196 and parameters: {'topK': 610, 'shrink': 500, 'similarity': 'tanimoto', 'feature_weighting': 'BM25'}. Best is trial 203 with value: 0.25677035105328766.\n"
     ]
    },
    {
     "name": "stdout",
     "output_type": "stream",
     "text": [
      "ItemKNNCFRecommender: URM Detected 627 ( 4.8%) users with no interactions.\n",
      "ItemKNNCFRecommender: URM Detected 247 ( 1.1%) items with no interactions.\n",
      "Similarity column 22347 (100.0%), 6770.48 column/sec. Elapsed time 3.30 sec\n",
      "EvaluatorHoldout: Processed 10456 (100.0%) in 11.01 sec. Users per second: 949\n"
     ]
    },
    {
     "name": "stderr",
     "output_type": "stream",
     "text": [
      "[I 2023-12-24 19:28:22,668] Trial 366 finished with value: 0.21662845674442566 and parameters: {'topK': 133, 'shrink': 474, 'similarity': 'tanimoto', 'feature_weighting': 'TF-IDF'}. Best is trial 203 with value: 0.25677035105328766.\n"
     ]
    },
    {
     "name": "stdout",
     "output_type": "stream",
     "text": [
      "ItemKNNCFRecommender: URM Detected 627 ( 4.8%) users with no interactions.\n",
      "ItemKNNCFRecommender: URM Detected 247 ( 1.1%) items with no interactions.\n",
      "Similarity column 22347 (100.0%), 6384.77 column/sec. Elapsed time 3.50 sec\n",
      "EvaluatorHoldout: Processed 10456 (100.0%) in 11.17 sec. Users per second: 936\n"
     ]
    },
    {
     "name": "stderr",
     "output_type": "stream",
     "text": [
      "[I 2023-12-24 19:28:37,823] Trial 367 finished with value: 0.11187131061494734 and parameters: {'topK': 407, 'shrink': 486, 'similarity': 'cosine', 'feature_weighting': 'BM25'}. Best is trial 203 with value: 0.25677035105328766.\n"
     ]
    },
    {
     "name": "stdout",
     "output_type": "stream",
     "text": [
      "ItemKNNCFRecommender: URM Detected 627 ( 4.8%) users with no interactions.\n",
      "ItemKNNCFRecommender: URM Detected 247 ( 1.1%) items with no interactions.\n",
      "Similarity column 22347 (100.0%), 6790.10 column/sec. Elapsed time 3.29 sec\n",
      "EvaluatorHoldout: Processed 10456 (100.0%) in 11.79 sec. Users per second: 887\n"
     ]
    },
    {
     "name": "stderr",
     "output_type": "stream",
     "text": [
      "[I 2023-12-24 19:28:53,303] Trial 368 finished with value: 0.2560201289929274 and parameters: {'topK': 188, 'shrink': 463, 'similarity': 'tanimoto', 'feature_weighting': 'BM25'}. Best is trial 203 with value: 0.25677035105328766.\n"
     ]
    },
    {
     "name": "stdout",
     "output_type": "stream",
     "text": [
      "ItemKNNCFRecommender: URM Detected 627 ( 4.8%) users with no interactions.\n",
      "ItemKNNCFRecommender: URM Detected 247 ( 1.1%) items with no interactions.\n",
      "Similarity column 22347 (100.0%), 6503.51 column/sec. Elapsed time 3.44 sec\n",
      "EvaluatorHoldout: Processed 10456 (100.0%) in 13.03 sec. Users per second: 803\n"
     ]
    },
    {
     "name": "stderr",
     "output_type": "stream",
     "text": [
      "[I 2023-12-24 19:29:10,216] Trial 369 finished with value: 0.21365684487180436 and parameters: {'topK': 254, 'shrink': 476, 'similarity': 'tanimoto', 'feature_weighting': 'none'}. Best is trial 203 with value: 0.25677035105328766.\n"
     ]
    },
    {
     "name": "stdout",
     "output_type": "stream",
     "text": [
      "ItemKNNCFRecommender: URM Detected 627 ( 4.8%) users with no interactions.\n",
      "ItemKNNCFRecommender: URM Detected 247 ( 1.1%) items with no interactions.\n",
      "Similarity column 22347 (100.0%), 6229.23 column/sec. Elapsed time 3.59 sec\n",
      "EvaluatorHoldout: Processed 10456 (100.0%) in 12.45 sec. Users per second: 840\n"
     ]
    },
    {
     "name": "stderr",
     "output_type": "stream",
     "text": [
      "[I 2023-12-24 19:29:26,738] Trial 370 finished with value: 0.25500255089500184 and parameters: {'topK': 217, 'shrink': 490, 'similarity': 'tanimoto', 'feature_weighting': 'BM25'}. Best is trial 203 with value: 0.25677035105328766.\n"
     ]
    },
    {
     "name": "stdout",
     "output_type": "stream",
     "text": [
      "ItemKNNCFRecommender: URM Detected 627 ( 4.8%) users with no interactions.\n",
      "ItemKNNCFRecommender: URM Detected 247 ( 1.1%) items with no interactions.\n",
      "Similarity column 22347 (100.0%), 6761.24 column/sec. Elapsed time 3.31 sec\n",
      "EvaluatorHoldout: Processed 10456 (100.0%) in 11.45 sec. Users per second: 914\n"
     ]
    },
    {
     "name": "stderr",
     "output_type": "stream",
     "text": [
      "[I 2023-12-24 19:29:41,866] Trial 371 finished with value: 0.2552022432828284 and parameters: {'topK': 156, 'shrink': 467, 'similarity': 'tanimoto', 'feature_weighting': 'BM25'}. Best is trial 203 with value: 0.25677035105328766.\n"
     ]
    },
    {
     "name": "stdout",
     "output_type": "stream",
     "text": [
      "ItemKNNCFRecommender: URM Detected 627 ( 4.8%) users with no interactions.\n",
      "ItemKNNCFRecommender: URM Detected 247 ( 1.1%) items with no interactions.\n",
      "Similarity column 22347 (100.0%), 1853.49 column/sec. Elapsed time 12.06 sec\n",
      "EvaluatorHoldout: Processed 10456 (100.0%) in 5.42 sec. Users per second: 1930\n"
     ]
    },
    {
     "name": "stderr",
     "output_type": "stream",
     "text": [
      "[I 2023-12-24 19:29:59,683] Trial 372 finished with value: 0.027979684977858753 and parameters: {'topK': 103, 'shrink': 480, 'similarity': 'euclidean', 'feature_weighting': 'BM25', 'normalize_avg_row': False, 'similarity_from_distance_mode': 'lin', 'normalize': False}. Best is trial 203 with value: 0.25677035105328766.\n"
     ]
    },
    {
     "name": "stdout",
     "output_type": "stream",
     "text": [
      "ItemKNNCFRecommender: URM Detected 627 ( 4.8%) users with no interactions.\n",
      "ItemKNNCFRecommender: URM Detected 247 ( 1.1%) items with no interactions.\n",
      "Similarity column 22347 (100.0%), 6595.64 column/sec. Elapsed time 3.39 sec\n",
      "EvaluatorHoldout: Processed 10456 (100.0%) in 11.84 sec. Users per second: 883\n"
     ]
    },
    {
     "name": "stderr",
     "output_type": "stream",
     "text": [
      "[I 2023-12-24 19:30:15,310] Trial 373 finished with value: 0.25631034781006556 and parameters: {'topK': 183, 'shrink': 448, 'similarity': 'tanimoto', 'feature_weighting': 'BM25'}. Best is trial 203 with value: 0.25677035105328766.\n"
     ]
    },
    {
     "name": "stdout",
     "output_type": "stream",
     "text": [
      "ItemKNNCFRecommender: URM Detected 627 ( 4.8%) users with no interactions.\n",
      "ItemKNNCFRecommender: URM Detected 247 ( 1.1%) items with no interactions.\n",
      "Similarity column 22347 (100.0%), 6529.22 column/sec. Elapsed time 3.42 sec\n",
      "EvaluatorHoldout: Processed 10456 (100.0%) in 12.54 sec. Users per second: 834\n"
     ]
    },
    {
     "name": "stderr",
     "output_type": "stream",
     "text": [
      "[I 2023-12-24 19:30:31,694] Trial 374 finished with value: 0.2553374117324153 and parameters: {'topK': 239, 'shrink': 500, 'similarity': 'tanimoto', 'feature_weighting': 'BM25'}. Best is trial 203 with value: 0.25677035105328766.\n"
     ]
    },
    {
     "name": "stdout",
     "output_type": "stream",
     "text": [
      "ItemKNNCFRecommender: URM Detected 627 ( 4.8%) users with no interactions.\n",
      "ItemKNNCFRecommender: URM Detected 247 ( 1.1%) items with no interactions.\n",
      "Similarity column 22347 (100.0%), 6552.97 column/sec. Elapsed time 3.41 sec\n",
      "EvaluatorHoldout: Processed 10456 (100.0%) in 13.53 sec. Users per second: 773\n"
     ]
    },
    {
     "name": "stderr",
     "output_type": "stream",
     "text": [
      "[I 2023-12-24 19:30:49,123] Trial 375 finished with value: 0.2548919074728211 and parameters: {'topK': 295, 'shrink': 485, 'similarity': 'jaccard', 'feature_weighting': 'BM25'}. Best is trial 203 with value: 0.25677035105328766.\n"
     ]
    },
    {
     "name": "stdout",
     "output_type": "stream",
     "text": [
      "ItemKNNCFRecommender: URM Detected 627 ( 4.8%) users with no interactions.\n",
      "ItemKNNCFRecommender: URM Detected 247 ( 1.1%) items with no interactions.\n",
      "Similarity column 22347 (100.0%), 6702.34 column/sec. Elapsed time 3.33 sec\n",
      "EvaluatorHoldout: Processed 10456 (100.0%) in 11.08 sec. Users per second: 944\n"
     ]
    },
    {
     "name": "stderr",
     "output_type": "stream",
     "text": [
      "[I 2023-12-24 19:31:03,962] Trial 376 finished with value: 0.2545653515614148 and parameters: {'topK': 130, 'shrink': 460, 'similarity': 'tanimoto', 'feature_weighting': 'BM25'}. Best is trial 203 with value: 0.25677035105328766.\n"
     ]
    },
    {
     "name": "stdout",
     "output_type": "stream",
     "text": [
      "ItemKNNCFRecommender: URM Detected 627 ( 4.8%) users with no interactions.\n",
      "ItemKNNCFRecommender: URM Detected 247 ( 1.1%) items with no interactions.\n",
      "Similarity column 22347 (100.0%), 6644.49 column/sec. Elapsed time 3.36 sec\n",
      "EvaluatorHoldout: Processed 10456 (100.0%) in 12.08 sec. Users per second: 866\n"
     ]
    },
    {
     "name": "stderr",
     "output_type": "stream",
     "text": [
      "[I 2023-12-24 19:31:19,821] Trial 377 finished with value: 0.2557540682425791 and parameters: {'topK': 202, 'shrink': 475, 'similarity': 'tanimoto', 'feature_weighting': 'BM25'}. Best is trial 203 with value: 0.25677035105328766.\n"
     ]
    },
    {
     "name": "stdout",
     "output_type": "stream",
     "text": [
      "ItemKNNCFRecommender: URM Detected 627 ( 4.8%) users with no interactions.\n",
      "ItemKNNCFRecommender: URM Detected 247 ( 1.1%) items with no interactions.\n",
      "Similarity column 22347 (100.0%), 6959.95 column/sec. Elapsed time 3.21 sec\n",
      "EvaluatorHoldout: Processed 10456 (100.0%) in 10.01 sec. Users per second: 1044\n"
     ]
    },
    {
     "name": "stderr",
     "output_type": "stream",
     "text": [
      "[I 2023-12-24 19:31:33,374] Trial 378 finished with value: 0.2543537141438922 and parameters: {'topK': 79, 'shrink': 490, 'similarity': 'tanimoto', 'feature_weighting': 'BM25'}. Best is trial 203 with value: 0.25677035105328766.\n"
     ]
    },
    {
     "name": "stdout",
     "output_type": "stream",
     "text": [
      "ItemKNNCFRecommender: URM Detected 627 ( 4.8%) users with no interactions.\n",
      "ItemKNNCFRecommender: URM Detected 247 ( 1.1%) items with no interactions.\n",
      "Similarity column 22347 (100.0%), 6721.51 column/sec. Elapsed time 3.32 sec\n",
      "EvaluatorHoldout: Processed 10456 (100.0%) in 11.32 sec. Users per second: 924\n"
     ]
    },
    {
     "name": "stderr",
     "output_type": "stream",
     "text": [
      "[I 2023-12-24 19:31:48,413] Trial 379 finished with value: 0.25519516693572064 and parameters: {'topK': 153, 'shrink': 469, 'similarity': 'tanimoto', 'feature_weighting': 'BM25'}. Best is trial 203 with value: 0.25677035105328766.\n"
     ]
    },
    {
     "name": "stdout",
     "output_type": "stream",
     "text": [
      "ItemKNNCFRecommender: URM Detected 627 ( 4.8%) users with no interactions.\n",
      "ItemKNNCFRecommender: URM Detected 247 ( 1.1%) items with no interactions.\n",
      "Similarity column 22347 (100.0%), 6735.79 column/sec. Elapsed time 3.32 sec\n",
      "EvaluatorHoldout: Processed 10456 (100.0%) in 13.27 sec. Users per second: 788\n"
     ]
    },
    {
     "name": "stderr",
     "output_type": "stream",
     "text": [
      "[I 2023-12-24 19:32:05,441] Trial 380 finished with value: 0.2547337483779982 and parameters: {'topK': 271, 'shrink': 482, 'similarity': 'tanimoto', 'feature_weighting': 'BM25'}. Best is trial 203 with value: 0.25677035105328766.\n"
     ]
    },
    {
     "name": "stdout",
     "output_type": "stream",
     "text": [
      "ItemKNNCFRecommender: URM Detected 627 ( 4.8%) users with no interactions.\n",
      "ItemKNNCFRecommender: URM Detected 247 ( 1.1%) items with no interactions.\n",
      "Similarity column 22347 (100.0%), 6597.05 column/sec. Elapsed time 3.39 sec\n",
      "EvaluatorHoldout: Processed 10456 (100.0%) in 11.85 sec. Users per second: 883\n"
     ]
    },
    {
     "name": "stderr",
     "output_type": "stream",
     "text": [
      "[I 2023-12-24 19:32:21,095] Trial 381 finished with value: 0.2561217459770861 and parameters: {'topK': 179, 'shrink': 493, 'similarity': 'tanimoto', 'feature_weighting': 'BM25'}. Best is trial 203 with value: 0.25677035105328766.\n"
     ]
    },
    {
     "name": "stdout",
     "output_type": "stream",
     "text": [
      "ItemKNNCFRecommender: URM Detected 627 ( 4.8%) users with no interactions.\n",
      "ItemKNNCFRecommender: URM Detected 247 ( 1.1%) items with no interactions.\n",
      "Similarity column 22347 (100.0%), 6678.13 column/sec. Elapsed time 3.35 sec\n",
      "EvaluatorHoldout: Processed 10456 (100.0%) in 12.33 sec. Users per second: 848\n"
     ]
    },
    {
     "name": "stderr",
     "output_type": "stream",
     "text": [
      "[I 2023-12-24 19:32:37,200] Trial 382 finished with value: 0.2549310949458265 and parameters: {'topK': 223, 'shrink': 457, 'similarity': 'tanimoto', 'feature_weighting': 'BM25'}. Best is trial 203 with value: 0.25677035105328766.\n"
     ]
    },
    {
     "name": "stdout",
     "output_type": "stream",
     "text": [
      "ItemKNNCFRecommender: URM Detected 627 ( 4.8%) users with no interactions.\n",
      "ItemKNNCFRecommender: URM Detected 247 ( 1.1%) items with no interactions.\n",
      "Similarity column 22347 (100.0%), 6414.65 column/sec. Elapsed time 3.48 sec\n",
      "EvaluatorHoldout: Processed 10456 (100.0%) in 18.36 sec. Users per second: 570\n"
     ]
    },
    {
     "name": "stderr",
     "output_type": "stream",
     "text": [
      "[I 2023-12-24 19:32:59,854] Trial 383 finished with value: 0.23977669595284 and parameters: {'topK': 1732, 'shrink': 473, 'similarity': 'tanimoto', 'feature_weighting': 'BM25'}. Best is trial 203 with value: 0.25677035105328766.\n"
     ]
    },
    {
     "name": "stdout",
     "output_type": "stream",
     "text": [
      "ItemKNNCFRecommender: URM Detected 627 ( 4.8%) users with no interactions.\n",
      "ItemKNNCFRecommender: URM Detected 247 ( 1.1%) items with no interactions.\n",
      "Similarity column 22347 (100.0%), 6668.17 column/sec. Elapsed time 3.35 sec\n",
      "EvaluatorHoldout: Processed 10456 (100.0%) in 7.70 sec. Users per second: 1358\n"
     ]
    },
    {
     "name": "stderr",
     "output_type": "stream",
     "text": [
      "[I 2023-12-24 19:33:11,263] Trial 384 finished with value: 0.11192179525108241 and parameters: {'topK': 124, 'shrink': 500, 'similarity': 'asymmetric', 'feature_weighting': 'BM25', 'asymmetric_alpha': 0.8623789765890751}. Best is trial 203 with value: 0.25677035105328766.\n"
     ]
    },
    {
     "name": "stdout",
     "output_type": "stream",
     "text": [
      "ItemKNNCFRecommender: URM Detected 627 ( 4.8%) users with no interactions.\n",
      "ItemKNNCFRecommender: URM Detected 247 ( 1.1%) items with no interactions.\n",
      "Similarity column 22347 (100.0%), 6738.52 column/sec. Elapsed time 3.32 sec\n",
      "EvaluatorHoldout: Processed 10456 (100.0%) in 11.53 sec. Users per second: 907\n"
     ]
    },
    {
     "name": "stderr",
     "output_type": "stream",
     "text": [
      "[I 2023-12-24 19:33:26,510] Trial 385 finished with value: 0.255226236357556 and parameters: {'topK': 167, 'shrink': 483, 'similarity': 'dice', 'feature_weighting': 'BM25'}. Best is trial 203 with value: 0.25677035105328766.\n"
     ]
    },
    {
     "name": "stdout",
     "output_type": "stream",
     "text": [
      "ItemKNNCFRecommender: URM Detected 627 ( 4.8%) users with no interactions.\n",
      "ItemKNNCFRecommender: URM Detected 247 ( 1.1%) items with no interactions.\n",
      "Similarity column 22347 (100.0%), 6503.50 column/sec. Elapsed time 3.44 sec\n",
      "EvaluatorHoldout: Processed 10456 (100.0%) in 15.99 sec. Users per second: 654\n"
     ]
    },
    {
     "name": "stderr",
     "output_type": "stream",
     "text": [
      "[I 2023-12-24 19:33:46,561] Trial 386 finished with value: 0.24695355514532766 and parameters: {'topK': 746, 'shrink': 466, 'similarity': 'tanimoto', 'feature_weighting': 'BM25'}. Best is trial 203 with value: 0.25677035105328766.\n"
     ]
    },
    {
     "name": "stdout",
     "output_type": "stream",
     "text": [
      "ItemKNNCFRecommender: URM Detected 627 ( 4.8%) users with no interactions.\n",
      "ItemKNNCFRecommender: URM Detected 247 ( 1.1%) items with no interactions.\n",
      "Similarity column 22347 (100.0%), 6631.26 column/sec. Elapsed time 3.37 sec\n",
      "EvaluatorHoldout: Processed 10456 (100.0%) in 11.42 sec. Users per second: 915\n"
     ]
    },
    {
     "name": "stderr",
     "output_type": "stream",
     "text": [
      "[I 2023-12-24 19:34:01,764] Trial 387 finished with value: 0.2516689189395611 and parameters: {'topK': 217, 'shrink': 275, 'similarity': 'tanimoto', 'feature_weighting': 'BM25'}. Best is trial 203 with value: 0.25677035105328766.\n"
     ]
    },
    {
     "name": "stdout",
     "output_type": "stream",
     "text": [
      "ItemKNNCFRecommender: URM Detected 627 ( 4.8%) users with no interactions.\n",
      "ItemKNNCFRecommender: URM Detected 247 ( 1.1%) items with no interactions.\n",
      "Similarity column 22347 (100.0%), 6419.11 column/sec. Elapsed time 3.48 sec\n",
      "EvaluatorHoldout: Processed 10456 (100.0%) in 17.72 sec. Users per second: 590\n"
     ]
    },
    {
     "name": "stderr",
     "output_type": "stream",
     "text": [
      "[I 2023-12-24 19:34:23,742] Trial 388 finished with value: 0.20299764202632045 and parameters: {'topK': 1449, 'shrink': 492, 'similarity': 'tanimoto', 'feature_weighting': 'TF-IDF'}. Best is trial 203 with value: 0.25677035105328766.\n"
     ]
    },
    {
     "name": "stdout",
     "output_type": "stream",
     "text": [
      "ItemKNNCFRecommender: URM Detected 627 ( 4.8%) users with no interactions.\n",
      "ItemKNNCFRecommender: URM Detected 247 ( 1.1%) items with no interactions.\n",
      "Similarity column 22347 (100.0%), 6718.37 column/sec. Elapsed time 3.33 sec\n",
      "EvaluatorHoldout: Processed 10456 (100.0%) in 9.52 sec. Users per second: 1098\n"
     ]
    },
    {
     "name": "stderr",
     "output_type": "stream",
     "text": [
      "[I 2023-12-24 19:34:36,998] Trial 389 finished with value: 0.26011709750288536 and parameters: {'topK': 94, 'shrink': 479, 'similarity': 'tversky', 'feature_weighting': 'BM25', 'tversky_alpha': 0.010077514527591758, 'tversky_beta': 1.6400961840323336}. Best is trial 389 with value: 0.26011709750288536.\n"
     ]
    },
    {
     "name": "stdout",
     "output_type": "stream",
     "text": [
      "ItemKNNCFRecommender: URM Detected 627 ( 4.8%) users with no interactions.\n",
      "ItemKNNCFRecommender: URM Detected 247 ( 1.1%) items with no interactions.\n",
      "Similarity column 22347 (100.0%), 6966.98 column/sec. Elapsed time 3.21 sec\n",
      "EvaluatorHoldout: Processed 10456 (100.0%) in 8.46 sec. Users per second: 1235\n"
     ]
    },
    {
     "name": "stderr",
     "output_type": "stream",
     "text": [
      "[I 2023-12-24 19:34:48,993] Trial 390 finished with value: 0.2505803921845236 and parameters: {'topK': 28, 'shrink': 482, 'similarity': 'tanimoto', 'feature_weighting': 'BM25'}. Best is trial 389 with value: 0.26011709750288536.\n"
     ]
    },
    {
     "name": "stdout",
     "output_type": "stream",
     "text": [
      "ItemKNNCFRecommender: URM Detected 627 ( 4.8%) users with no interactions.\n",
      "ItemKNNCFRecommender: URM Detected 247 ( 1.1%) items with no interactions.\n",
      "Similarity column 22347 (100.0%), 6975.70 column/sec. Elapsed time 3.20 sec\n",
      "EvaluatorHoldout: Processed 10456 (100.0%) in 9.44 sec. Users per second: 1108\n"
     ]
    },
    {
     "name": "stderr",
     "output_type": "stream",
     "text": [
      "[I 2023-12-24 19:35:01,962] Trial 391 finished with value: 0.2540070177419662 and parameters: {'topK': 52, 'shrink': 491, 'similarity': 'tanimoto', 'feature_weighting': 'BM25'}. Best is trial 389 with value: 0.26011709750288536.\n"
     ]
    },
    {
     "name": "stdout",
     "output_type": "stream",
     "text": [
      "ItemKNNCFRecommender: URM Detected 627 ( 4.8%) users with no interactions.\n",
      "ItemKNNCFRecommender: URM Detected 247 ( 1.1%) items with no interactions.\n",
      "Similarity column 22347 (100.0%), 6710.01 column/sec. Elapsed time 3.33 sec\n",
      "EvaluatorHoldout: Processed 10456 (100.0%) in 9.60 sec. Users per second: 1089\n"
     ]
    },
    {
     "name": "stderr",
     "output_type": "stream",
     "text": [
      "[I 2023-12-24 19:35:15,254] Trial 392 finished with value: 0.22185032712053007 and parameters: {'topK': 95, 'shrink': 476, 'similarity': 'tversky', 'feature_weighting': 'none', 'tversky_alpha': 0.04631170438968232, 'tversky_beta': 1.700889684959312}. Best is trial 389 with value: 0.26011709750288536.\n"
     ]
    },
    {
     "name": "stdout",
     "output_type": "stream",
     "text": [
      "ItemKNNCFRecommender: URM Detected 627 ( 4.8%) users with no interactions.\n",
      "ItemKNNCFRecommender: URM Detected 247 ( 1.1%) items with no interactions.\n",
      "Similarity column 22347 (100.0%), 6431.23 column/sec. Elapsed time 3.47 sec\n",
      "EvaluatorHoldout: Processed 10456 (100.0%) in 10.48 sec. Users per second: 997\n"
     ]
    },
    {
     "name": "stderr",
     "output_type": "stream",
     "text": [
      "[I 2023-12-24 19:35:29,607] Trial 393 finished with value: 0.25858348149656696 and parameters: {'topK': 82, 'shrink': 500, 'similarity': 'tversky', 'feature_weighting': 'BM25', 'tversky_alpha': 0.30647648903398306, 'tversky_beta': 0.8482658698557943}. Best is trial 389 with value: 0.26011709750288536.\n"
     ]
    },
    {
     "name": "stdout",
     "output_type": "stream",
     "text": [
      "ItemKNNCFRecommender: URM Detected 627 ( 4.8%) users with no interactions.\n",
      "ItemKNNCFRecommender: URM Detected 247 ( 1.1%) items with no interactions.\n",
      "Similarity column 22347 (100.0%), 6854.05 column/sec. Elapsed time 3.26 sec\n",
      "EvaluatorHoldout: Processed 10456 (100.0%) in 9.46 sec. Users per second: 1106\n"
     ]
    },
    {
     "name": "stderr",
     "output_type": "stream",
     "text": [
      "[I 2023-12-24 19:35:42,635] Trial 394 finished with value: 0.2543453581362134 and parameters: {'topK': 49, 'shrink': 494, 'similarity': 'jaccard', 'feature_weighting': 'BM25'}. Best is trial 389 with value: 0.26011709750288536.\n"
     ]
    },
    {
     "name": "stdout",
     "output_type": "stream",
     "text": [
      "ItemKNNCFRecommender: URM Detected 627 ( 4.8%) users with no interactions.\n",
      "ItemKNNCFRecommender: URM Detected 247 ( 1.1%) items with no interactions.\n",
      "Similarity column 22347 (100.0%), 6711.64 column/sec. Elapsed time 3.33 sec\n",
      "EvaluatorHoldout: Processed 10456 (100.0%) in 6.93 sec. Users per second: 1509\n"
     ]
    },
    {
     "name": "stderr",
     "output_type": "stream",
     "text": [
      "[I 2023-12-24 19:35:53,186] Trial 395 finished with value: 0.12104566313852758 and parameters: {'topK': 65, 'shrink': 499, 'similarity': 'cosine', 'feature_weighting': 'BM25'}. Best is trial 389 with value: 0.26011709750288536.\n"
     ]
    },
    {
     "name": "stdout",
     "output_type": "stream",
     "text": [
      "ItemKNNCFRecommender: URM Detected 627 ( 4.8%) users with no interactions.\n",
      "ItemKNNCFRecommender: URM Detected 247 ( 1.1%) items with no interactions.\n",
      "Similarity column 22347 (100.0%), 6471.11 column/sec. Elapsed time 3.45 sec\n",
      "EvaluatorHoldout: Processed 10456 (100.0%) in 10.56 sec. Users per second: 990\n"
     ]
    },
    {
     "name": "stderr",
     "output_type": "stream",
     "text": [
      "[I 2023-12-24 19:36:07,593] Trial 396 finished with value: 0.2587147858572456 and parameters: {'topK': 94, 'shrink': 500, 'similarity': 'tversky', 'feature_weighting': 'BM25', 'tversky_alpha': 0.2834493967673113, 'tversky_beta': 1.1188604334084222}. Best is trial 389 with value: 0.26011709750288536.\n"
     ]
    },
    {
     "name": "stdout",
     "output_type": "stream",
     "text": [
      "ItemKNNCFRecommender: URM Detected 627 ( 4.8%) users with no interactions.\n",
      "ItemKNNCFRecommender: URM Detected 247 ( 1.1%) items with no interactions.\n",
      "Similarity column 22347 (100.0%), 6603.20 column/sec. Elapsed time 3.38 sec\n",
      "EvaluatorHoldout: Processed 10456 (100.0%) in 9.05 sec. Users per second: 1155\n"
     ]
    },
    {
     "name": "stderr",
     "output_type": "stream",
     "text": [
      "[I 2023-12-24 19:36:20,426] Trial 397 finished with value: 0.25949906521438154 and parameters: {'topK': 40, 'shrink': 486, 'similarity': 'tversky', 'feature_weighting': 'BM25', 'tversky_alpha': 0.289864672166714, 'tversky_beta': 1.038442725483388}. Best is trial 389 with value: 0.26011709750288536.\n"
     ]
    },
    {
     "name": "stdout",
     "output_type": "stream",
     "text": [
      "ItemKNNCFRecommender: URM Detected 627 ( 4.8%) users with no interactions.\n",
      "ItemKNNCFRecommender: URM Detected 247 ( 1.1%) items with no interactions.\n",
      "Similarity column 22347 (100.0%), 6615.47 column/sec. Elapsed time 3.38 sec\n",
      "EvaluatorHoldout: Processed 10456 (100.0%) in 8.35 sec. Users per second: 1252\n"
     ]
    },
    {
     "name": "stderr",
     "output_type": "stream",
     "text": [
      "[I 2023-12-24 19:36:32,509] Trial 398 finished with value: 0.2556183269757614 and parameters: {'topK': 24, 'shrink': 500, 'similarity': 'tversky', 'feature_weighting': 'BM25', 'tversky_alpha': 0.2772424985055316, 'tversky_beta': 0.9514947093573511}. Best is trial 389 with value: 0.26011709750288536.\n"
     ]
    },
    {
     "name": "stdout",
     "output_type": "stream",
     "text": [
      "ItemKNNCFRecommender: URM Detected 627 ( 4.8%) users with no interactions.\n",
      "ItemKNNCFRecommender: URM Detected 247 ( 1.1%) items with no interactions.\n",
      "Similarity column 22347 (100.0%), 6680.09 column/sec. Elapsed time 3.35 sec\n",
      "EvaluatorHoldout: Processed 10456 (100.0%) in 9.63 sec. Users per second: 1086\n"
     ]
    },
    {
     "name": "stderr",
     "output_type": "stream",
     "text": [
      "[I 2023-12-24 19:36:45,824] Trial 399 finished with value: 0.2584001299129623 and parameters: {'topK': 46, 'shrink': 484, 'similarity': 'tversky', 'feature_weighting': 'BM25', 'tversky_alpha': 0.31662666683024193, 'tversky_beta': 0.8126779951794433}. Best is trial 389 with value: 0.26011709750288536.\n"
     ]
    }
   ],
   "source": [
    "if config['tune_parameters_knn']:\n",
    "    study = optuna.create_study(direction='maximize', study_name='tuning_recall_knn',\n",
    "                                storage=f'sqlite:///{config[\"database_path\"]}', load_if_exists=True)\n",
    "    study.optimize(objective_function_knn_recall, n_trials=200)"
   ]
  },
  {
   "cell_type": "code",
   "execution_count": 23,
   "id": "16064f3b",
   "metadata": {
    "execution": {
     "iopub.execute_input": "2023-12-24T19:36:46.088660Z",
     "iopub.status.busy": "2023-12-24T19:36:46.087831Z",
     "iopub.status.idle": "2023-12-24T19:36:46.166866Z",
     "shell.execute_reply": "2023-12-24T19:36:46.165054Z"
    },
    "papermill": {
     "duration": 0.210179,
     "end_time": "2023-12-24T19:36:46.170131",
     "exception": false,
     "start_time": "2023-12-24T19:36:45.959952",
     "status": "completed"
    },
    "tags": []
   },
   "outputs": [
    {
     "data": {
      "text/html": [
       "<div>                            <div id=\"ef0fb990-5b60-49ee-b2b3-d7893f02625d\" class=\"plotly-graph-div\" style=\"height:525px; width:100%;\"></div>            <script type=\"text/javascript\">                require([\"plotly\"], function(Plotly) {                    window.PLOTLYENV=window.PLOTLYENV || {};                                    if (document.getElementById(\"ef0fb990-5b60-49ee-b2b3-d7893f02625d\")) {                    Plotly.newPlot(                        \"ef0fb990-5b60-49ee-b2b3-d7893f02625d\",                        [{\"mode\":\"markers\",\"name\":\"Objective Value\",\"x\":[0,1,2,3,4,5,6,7,8,9,10,11,12,13,14,15,16,17,18,19,20,21,22,23,24,25,26,27,28,29,30,31,32,33,34,35,36,37,38,39,40,41,42,43,44,45,46,47,48,49,50,51,52,53,54,55,56,57,58,59,60,61,62,63,64,65,66,67,68,69,70,71,72,73,74,75,76,77,78,79,80,81,82,83,84,85,86,87,88,89,90,91,92,93,94,95,96,97,98,99,100,101,102,103,104,105,106,107,108,109,110,111,112,113,114,115,116,117,118,119,120,121,122,123,124,125,126,127,128,129,130,131,132,133,134,135,136,137,138,139,140,141,142,143,144,145,146,147,148,149,150,151,152,153,154,155,156,157,158,159,160,161,162,163,164,165,166,167,168,169,170,171,172,173,174,175,176,177,178,179,180,181,182,183,184,185,186,187,188,189,190,191,192,193,194,195,196,197,198,199,200,201,202,203,204,205,206,207,208,209,210,211,212,213,214,215,216,217,218,219,220,221,222,223,224,225,226,227,228,229,230,231,232,233,234,235,236,237,238,239,240,241,242,243,244,245,246,247,248,249,250,251,252,253,254,255,256,257,258,259,260,261,262,263,264,265,266,267,268,269,270,271,272,273,274,275,276,277,278,279,280,281,282,283,284,285,286,287,288,289,290,291,292,293,294,295,296,297,298,299,300,301,302,303,304,305,306,307,308,309,310,311,312,313,314,315,316,317,318,319,320,321,322,323,324,325,326,327,328,329,330,331,332,333,334,335,336,337,338,339,340,341,342,343,344,345,346,347,348,349,350,351,352,353,354,355,356,357,358,359,360,361,362,363,364,365,366,367,368,369,370,371,372,373,374,375,376,377,378,379,380,381,382,383,384,385,386,387,388,389,390,391,392,393,394,395,396,397,398,399],\"y\":[0.24210313250899043,0.21439889925742628,0.2153931627376626,0.25219625464549644,0.10877291450955481,0.24016648914988262,0.24214892221158313,0.2462902672252141,0.21249163827289327,0.11326241066945449,0.25412337384301625,0.23704201992950288,0.25133987015690956,0.1009141255289719,0.2519266625256694,0.2098905209581845,0.2549177714744977,0.25224883608269877,0.21731482434155303,0.14970716425679742,0.2422316710417148,0.2535729140313231,0.24829542960405507,0.2539758828494,0.2544394346353343,0.2545039680330574,0.24745514253513837,0.25166614892846073,0.21815420807880087,0.21613205414777809,0.21576966935408545,0.2550205556140218,0.2549065222953144,0.25449406320762824,0.04915473252420418,0.2537032089961727,0.17641719333223987,0.24975846071878868,0.11560438296239021,0.21879214186046816,0.11333216582819518,0.25483159965229085,0.2549538466499489,0.25118685107146155,0.25442969194175113,0.2196313408609733,0.2549325872459559,0.2535280554921848,0.2116545816079394,0.21070789506111687,0.25400631985579225,0.25464870997288674,0.2531392350750803,0.2545553666710593,0.25390454697737064,0.08182531617157662,0.2513771412094966,0.10431836442259323,0.25651650863928127,0.2443200270367243,0.2062843455597966,0.25506975954781225,0.2551585160921683,0.25537419185016696,0.25593872613855323,0.255529857236875,0.255529857236875,0.25320578181184444,0.22025782691122187,0.11408947926430509,0.2545729236808261,0.2550620730102184,0.25464049775856673,0.2410713924404099,0.2561017698917566,0.02798424620580291,0.25227781521252535,0.2332947205463715,0.21447427692925447,0.255378989400365,0.22052512401547608,0.25428522450935304,0.2547364695908802,0.2554717722208029,0.25387848935278895,0.2560222492046997,0.10976179981681991,0.25479713964530754,0.2503960303712255,0.25314088013158653,0.25651169666918033,0.2560810322491041,0.25482238897778425,0.2559880469840295,0.24218335166112398,0.2548064818707082,0.1138310640266644,0.13494840369257036,0.1601185114146372,0.25421938128629856,0.2152029799907557,0.25386889665275003,0.2547965946226404,0.25651650863928127,0.25458767512361524,0.24942021629413105,0.25465322815404445,0.25629560659772893,0.10308327652243987,0.25402246200003287,0.24611894071690876,0.2564802293682277,0.24491029876907278,0.25192094849621327,0.25429567673239245,0.25154036437251054,0.2566559568397812,0.25628008941926483,0.25648621791618637,0.25459214062542157,0.21583670811244973,0.25470836632078514,0.2543235599032846,0.2566276053749877,0.2566104108459115,0.2129881386521494,0.11380060413608314,0.2550073992621175,0.25450017866473706,0.25473498136311357,0.027984711307363037,0.25633058811620996,0.2564525607768418,0.25518945467918447,0.2539421879444373,0.25640963146479306,0.24130845967063316,0.25579495085698517,0.25480637201309164,0.10789579109424015,0.2434208410801053,0.2564027421472705,0.2563310606109027,0.25471800610074535,0.25655158085938623,0.253984799036433,0.254529146868128,0.21473822105844792,0.2524935424192653,0.25349324097729964,0.21567200948417356,0.25669221242055673,0.2563247722792171,0.2539669047914716,0.25538080628758264,0.2550256518507873,0.2546790603552266,0.2546093638321591,0.2530207080737343,0.1139805176747847,0.23293878012086328,0.25632566093901316,0.25511471057363744,0.2563367012520633,0.2562517055309301,0.25461401181840676,0.0958698864807288,0.25489057613649246,0.2549741274964855,0.25498503410869494,0.25329770712713134,0.25669798926621284,0.25598660463490686,0.25471960534400434,0.2561590793040647,0.23922802332560417,0.25484929038421267,0.2543091904889344,0.21541505649005213,0.11591858315544921,0.2528306837007574,0.2554890025254965,0.24610469076697955,0.256383127072678,0.2544792962607106,0.2564197550180259,0.21360463760516996,0.2547803985415401,0.25578959391594563,0.25616758071895246,0.25491869101538883,0.25601685680513464,0.25657736355871774,0.254499996066317,0.2560779239957997,0.2544974757360935,0.2546894885156262,0.25589982080117074,0.2413341490448406,0.1292617229742211,0.2555008730857432,0.2566165916215631,0.2544255772022942,0.25677035105328766,0.2555442364235446,0.255069141811446,0.25404339678432647,0.2564810363295957,0.09535473245125423,0.25602466368854376,0.2552599414687786,0.25665200217621387,0.2549423159281884,0.2563809422277134,0.25618481695650636,0.25407973469676354,0.254473565916363,0.21590200496640866,0.25445023401761574,0.21508709621336697,0.25429986728352627,0.25633443394923044,0.25567797530930136,0.256368641064949,0.2554347736907773,0.25409124357243396,0.24801985141549465,0.11359565350881361,0.25486354965316776,0.2546075521645399,0.2534555149386933,0.2567273746708115,0.2564899836697047,0.2561894447603147,0.24785391432598078,0.2549599151833282,0.2546980104909946,0.2565942068078665,0.2553565378202989,0.25607218570005263,0.2547601687041968,0.2565059992617193,0.2562359421285735,0.254462778848397,0.25214498848724665,0.2563242055825412,0.2546141245515184,0.25557203129779427,0.2558874370754855,0.11297156451456708,0.2554452128891312,0.24238517248549143,0.256359607505551,0.07913479362338534,0.21502057521245285,0.25436900891973785,0.21700936026334722,0.2567372051195205,0.2543716866088722,0.2562987495225135,0.2549863412192411,0.249861144796412,0.21895213162664737,0.10383332213461885,0.2552263340646957,0.24954725398710492,0.25651421561587684,0.254852520934397,0.2556193749811918,0.2558902671925891,0.2544673572488202,0.2554297433164293,0.254552842354835,0.2566208437959673,0.2543869220344441,0.24211529950267988,0.20463676737923803,0.25596878069071705,0.25477842653043603,0.11297741642584724,0.22104116734721865,0.2561279461773885,0.2436669042461888,0.051117601265282295,0.2544027331901109,0.2422374113516271,0.2543741383176366,0.25660727552869694,0.25487430473294853,0.25515123953444874,0.25459375260734407,0.2549557371030931,0.25577641188957406,0.2539681411507315,0.10918439456112572,0.25636051297770035,0.2504360667706869,0.254544724422095,0.2122206024016797,0.2564918549887361,0.25491480486342144,0.2521535370893196,0.2560429727173319,0.25468362274536543,0.21829756852634455,0.2562112075067461,0.25500255089500184,0.2550567403682273,0.11476522448243744,0.25442940393107827,0.2542851604957435,0.2563858086854242,0.25444790743991824,0.027937030397700725,0.25505906503827913,0.25492221083731637,0.2560038043375778,0.2545425662669445,0.25554230480409956,0.2546104892737965,0.2534576186417102,0.21145117960288556,0.25455093611479473,0.25519041739653875,0.18704025161603766,0.25488110496677935,0.25397208310405617,0.2546009235091923,0.25450048881298687,0.25611455576750813,0.2521106272600551,0.2567152706869441,0.25447207586319504,0.25635948497991623,0.25477401045695786,0.24128154764429,0.2550961357955973,0.25480304922528835,0.1140277056860623,0.25512210501511395,0.25498960719993297,0.255293841154024,0.1954081621924403,0.08031751524284368,0.2199307929250833,0.24853308395240908,0.2537253142856203,0.22023370765885972,0.25548808730481026,0.254480660386288,0.25530776069609074,0.2555788833203808,0.24034739882514874,0.10706185645848745,0.25625890128925655,0.25570857166469263,0.25381860206431567,0.256170367254031,0.2546838216324943,0.2543073820461267,0.24556250991257655,0.2555224507246909,0.2514803258386324,0.25413300089391794,0.2534338872272784,0.24901959794412196,0.21662845674442566,0.11187131061494734,0.2560201289929274,0.21365684487180436,0.25500255089500184,0.2552022432828284,0.027979684977858753,0.25631034781006556,0.2553374117324153,0.2548919074728211,0.2545653515614148,0.2557540682425791,0.2543537141438922,0.25519516693572064,0.2547337483779982,0.2561217459770861,0.2549310949458265,0.23977669595284,0.11192179525108241,0.255226236357556,0.24695355514532766,0.2516689189395611,0.20299764202632045,0.26011709750288536,0.2505803921845236,0.2540070177419662,0.22185032712053007,0.25858348149656696,0.2543453581362134,0.12104566313852758,0.2587147858572456,0.25949906521438154,0.2556183269757614,0.2584001299129623],\"type\":\"scatter\"},{\"mode\":\"lines\",\"name\":\"Best Value\",\"x\":[0,1,2,3,4,5,6,7,8,9,10,11,12,13,14,15,16,17,18,19,20,21,22,23,24,25,26,27,28,29,30,31,32,33,34,35,36,37,38,39,40,41,42,43,44,45,46,47,48,49,50,51,52,53,54,55,56,57,58,59,60,61,62,63,64,65,66,67,68,69,70,71,72,73,74,75,76,77,78,79,80,81,82,83,84,85,86,87,88,89,90,91,92,93,94,95,96,97,98,99,100,101,102,103,104,105,106,107,108,109,110,111,112,113,114,115,116,117,118,119,120,121,122,123,124,125,126,127,128,129,130,131,132,133,134,135,136,137,138,139,140,141,142,143,144,145,146,147,148,149,150,151,152,153,154,155,156,157,158,159,160,161,162,163,164,165,166,167,168,169,170,171,172,173,174,175,176,177,178,179,180,181,182,183,184,185,186,187,188,189,190,191,192,193,194,195,196,197,198,199,200,201,202,203,204,205,206,207,208,209,210,211,212,213,214,215,216,217,218,219,220,221,222,223,224,225,226,227,228,229,230,231,232,233,234,235,236,237,238,239,240,241,242,243,244,245,246,247,248,249,250,251,252,253,254,255,256,257,258,259,260,261,262,263,264,265,266,267,268,269,270,271,272,273,274,275,276,277,278,279,280,281,282,283,284,285,286,287,288,289,290,291,292,293,294,295,296,297,298,299,300,301,302,303,304,305,306,307,308,309,310,311,312,313,314,315,316,317,318,319,320,321,322,323,324,325,326,327,328,329,330,331,332,333,334,335,336,337,338,339,340,341,342,343,344,345,346,347,348,349,350,351,352,353,354,355,356,357,358,359,360,361,362,363,364,365,366,367,368,369,370,371,372,373,374,375,376,377,378,379,380,381,382,383,384,385,386,387,388,389,390,391,392,393,394,395,396,397,398,399],\"y\":[0.24210313250899043,0.24210313250899043,0.24210313250899043,0.25219625464549644,0.25219625464549644,0.25219625464549644,0.25219625464549644,0.25219625464549644,0.25219625464549644,0.25219625464549644,0.25412337384301625,0.25412337384301625,0.25412337384301625,0.25412337384301625,0.25412337384301625,0.25412337384301625,0.2549177714744977,0.2549177714744977,0.2549177714744977,0.2549177714744977,0.2549177714744977,0.2549177714744977,0.2549177714744977,0.2549177714744977,0.2549177714744977,0.2549177714744977,0.2549177714744977,0.2549177714744977,0.2549177714744977,0.2549177714744977,0.2549177714744977,0.2550205556140218,0.2550205556140218,0.2550205556140218,0.2550205556140218,0.2550205556140218,0.2550205556140218,0.2550205556140218,0.2550205556140218,0.2550205556140218,0.2550205556140218,0.2550205556140218,0.2550205556140218,0.2550205556140218,0.2550205556140218,0.2550205556140218,0.2550205556140218,0.2550205556140218,0.2550205556140218,0.2550205556140218,0.2550205556140218,0.2550205556140218,0.2550205556140218,0.2550205556140218,0.2550205556140218,0.2550205556140218,0.2550205556140218,0.2550205556140218,0.25651650863928127,0.25651650863928127,0.25651650863928127,0.25651650863928127,0.25651650863928127,0.25651650863928127,0.25651650863928127,0.25651650863928127,0.25651650863928127,0.25651650863928127,0.25651650863928127,0.25651650863928127,0.25651650863928127,0.25651650863928127,0.25651650863928127,0.25651650863928127,0.25651650863928127,0.25651650863928127,0.25651650863928127,0.25651650863928127,0.25651650863928127,0.25651650863928127,0.25651650863928127,0.25651650863928127,0.25651650863928127,0.25651650863928127,0.25651650863928127,0.25651650863928127,0.25651650863928127,0.25651650863928127,0.25651650863928127,0.25651650863928127,0.25651650863928127,0.25651650863928127,0.25651650863928127,0.25651650863928127,0.25651650863928127,0.25651650863928127,0.25651650863928127,0.25651650863928127,0.25651650863928127,0.25651650863928127,0.25651650863928127,0.25651650863928127,0.25651650863928127,0.25651650863928127,0.25651650863928127,0.25651650863928127,0.25651650863928127,0.25651650863928127,0.25651650863928127,0.25651650863928127,0.25651650863928127,0.25651650863928127,0.25651650863928127,0.25651650863928127,0.25651650863928127,0.25651650863928127,0.2566559568397812,0.2566559568397812,0.2566559568397812,0.2566559568397812,0.2566559568397812,0.2566559568397812,0.2566559568397812,0.2566559568397812,0.2566559568397812,0.2566559568397812,0.2566559568397812,0.2566559568397812,0.2566559568397812,0.2566559568397812,0.2566559568397812,0.2566559568397812,0.2566559568397812,0.2566559568397812,0.2566559568397812,0.2566559568397812,0.2566559568397812,0.2566559568397812,0.2566559568397812,0.2566559568397812,0.2566559568397812,0.2566559568397812,0.2566559568397812,0.2566559568397812,0.2566559568397812,0.2566559568397812,0.2566559568397812,0.2566559568397812,0.2566559568397812,0.2566559568397812,0.2566559568397812,0.25669221242055673,0.25669221242055673,0.25669221242055673,0.25669221242055673,0.25669221242055673,0.25669221242055673,0.25669221242055673,0.25669221242055673,0.25669221242055673,0.25669221242055673,0.25669221242055673,0.25669221242055673,0.25669221242055673,0.25669221242055673,0.25669221242055673,0.25669221242055673,0.25669221242055673,0.25669221242055673,0.25669221242055673,0.25669221242055673,0.25669798926621284,0.25669798926621284,0.25669798926621284,0.25669798926621284,0.25669798926621284,0.25669798926621284,0.25669798926621284,0.25669798926621284,0.25669798926621284,0.25669798926621284,0.25669798926621284,0.25669798926621284,0.25669798926621284,0.25669798926621284,0.25669798926621284,0.25669798926621284,0.25669798926621284,0.25669798926621284,0.25669798926621284,0.25669798926621284,0.25669798926621284,0.25669798926621284,0.25669798926621284,0.25669798926621284,0.25669798926621284,0.25669798926621284,0.25669798926621284,0.25669798926621284,0.25669798926621284,0.25669798926621284,0.25669798926621284,0.25669798926621284,0.25677035105328766,0.25677035105328766,0.25677035105328766,0.25677035105328766,0.25677035105328766,0.25677035105328766,0.25677035105328766,0.25677035105328766,0.25677035105328766,0.25677035105328766,0.25677035105328766,0.25677035105328766,0.25677035105328766,0.25677035105328766,0.25677035105328766,0.25677035105328766,0.25677035105328766,0.25677035105328766,0.25677035105328766,0.25677035105328766,0.25677035105328766,0.25677035105328766,0.25677035105328766,0.25677035105328766,0.25677035105328766,0.25677035105328766,0.25677035105328766,0.25677035105328766,0.25677035105328766,0.25677035105328766,0.25677035105328766,0.25677035105328766,0.25677035105328766,0.25677035105328766,0.25677035105328766,0.25677035105328766,0.25677035105328766,0.25677035105328766,0.25677035105328766,0.25677035105328766,0.25677035105328766,0.25677035105328766,0.25677035105328766,0.25677035105328766,0.25677035105328766,0.25677035105328766,0.25677035105328766,0.25677035105328766,0.25677035105328766,0.25677035105328766,0.25677035105328766,0.25677035105328766,0.25677035105328766,0.25677035105328766,0.25677035105328766,0.25677035105328766,0.25677035105328766,0.25677035105328766,0.25677035105328766,0.25677035105328766,0.25677035105328766,0.25677035105328766,0.25677035105328766,0.25677035105328766,0.25677035105328766,0.25677035105328766,0.25677035105328766,0.25677035105328766,0.25677035105328766,0.25677035105328766,0.25677035105328766,0.25677035105328766,0.25677035105328766,0.25677035105328766,0.25677035105328766,0.25677035105328766,0.25677035105328766,0.25677035105328766,0.25677035105328766,0.25677035105328766,0.25677035105328766,0.25677035105328766,0.25677035105328766,0.25677035105328766,0.25677035105328766,0.25677035105328766,0.25677035105328766,0.25677035105328766,0.25677035105328766,0.25677035105328766,0.25677035105328766,0.25677035105328766,0.25677035105328766,0.25677035105328766,0.25677035105328766,0.25677035105328766,0.25677035105328766,0.25677035105328766,0.25677035105328766,0.25677035105328766,0.25677035105328766,0.25677035105328766,0.25677035105328766,0.25677035105328766,0.25677035105328766,0.25677035105328766,0.25677035105328766,0.25677035105328766,0.25677035105328766,0.25677035105328766,0.25677035105328766,0.25677035105328766,0.25677035105328766,0.25677035105328766,0.25677035105328766,0.25677035105328766,0.25677035105328766,0.25677035105328766,0.25677035105328766,0.25677035105328766,0.25677035105328766,0.25677035105328766,0.25677035105328766,0.25677035105328766,0.25677035105328766,0.25677035105328766,0.25677035105328766,0.25677035105328766,0.25677035105328766,0.25677035105328766,0.25677035105328766,0.25677035105328766,0.25677035105328766,0.25677035105328766,0.25677035105328766,0.25677035105328766,0.25677035105328766,0.25677035105328766,0.25677035105328766,0.25677035105328766,0.25677035105328766,0.25677035105328766,0.25677035105328766,0.25677035105328766,0.25677035105328766,0.25677035105328766,0.25677035105328766,0.25677035105328766,0.25677035105328766,0.25677035105328766,0.25677035105328766,0.25677035105328766,0.25677035105328766,0.25677035105328766,0.25677035105328766,0.25677035105328766,0.25677035105328766,0.25677035105328766,0.25677035105328766,0.25677035105328766,0.25677035105328766,0.25677035105328766,0.25677035105328766,0.25677035105328766,0.25677035105328766,0.25677035105328766,0.25677035105328766,0.25677035105328766,0.25677035105328766,0.25677035105328766,0.25677035105328766,0.25677035105328766,0.25677035105328766,0.25677035105328766,0.25677035105328766,0.25677035105328766,0.25677035105328766,0.25677035105328766,0.25677035105328766,0.25677035105328766,0.25677035105328766,0.25677035105328766,0.25677035105328766,0.25677035105328766,0.25677035105328766,0.25677035105328766,0.26011709750288536,0.26011709750288536,0.26011709750288536,0.26011709750288536,0.26011709750288536,0.26011709750288536,0.26011709750288536,0.26011709750288536,0.26011709750288536,0.26011709750288536,0.26011709750288536],\"type\":\"scatter\"},{\"marker\":{\"color\":\"#cccccc\"},\"mode\":\"markers\",\"name\":\"Infeasible Trial\",\"showlegend\":false,\"x\":[],\"y\":[],\"type\":\"scatter\"}],                        {\"title\":{\"text\":\"Optimization History Plot\"},\"xaxis\":{\"title\":{\"text\":\"Trial\"}},\"yaxis\":{\"title\":{\"text\":\"Objective Value\"}},\"template\":{\"data\":{\"histogram2dcontour\":[{\"type\":\"histogram2dcontour\",\"colorbar\":{\"outlinewidth\":0,\"ticks\":\"\"},\"colorscale\":[[0.0,\"#0d0887\"],[0.1111111111111111,\"#46039f\"],[0.2222222222222222,\"#7201a8\"],[0.3333333333333333,\"#9c179e\"],[0.4444444444444444,\"#bd3786\"],[0.5555555555555556,\"#d8576b\"],[0.6666666666666666,\"#ed7953\"],[0.7777777777777778,\"#fb9f3a\"],[0.8888888888888888,\"#fdca26\"],[1.0,\"#f0f921\"]]}],\"choropleth\":[{\"type\":\"choropleth\",\"colorbar\":{\"outlinewidth\":0,\"ticks\":\"\"}}],\"histogram2d\":[{\"type\":\"histogram2d\",\"colorbar\":{\"outlinewidth\":0,\"ticks\":\"\"},\"colorscale\":[[0.0,\"#0d0887\"],[0.1111111111111111,\"#46039f\"],[0.2222222222222222,\"#7201a8\"],[0.3333333333333333,\"#9c179e\"],[0.4444444444444444,\"#bd3786\"],[0.5555555555555556,\"#d8576b\"],[0.6666666666666666,\"#ed7953\"],[0.7777777777777778,\"#fb9f3a\"],[0.8888888888888888,\"#fdca26\"],[1.0,\"#f0f921\"]]}],\"heatmap\":[{\"type\":\"heatmap\",\"colorbar\":{\"outlinewidth\":0,\"ticks\":\"\"},\"colorscale\":[[0.0,\"#0d0887\"],[0.1111111111111111,\"#46039f\"],[0.2222222222222222,\"#7201a8\"],[0.3333333333333333,\"#9c179e\"],[0.4444444444444444,\"#bd3786\"],[0.5555555555555556,\"#d8576b\"],[0.6666666666666666,\"#ed7953\"],[0.7777777777777778,\"#fb9f3a\"],[0.8888888888888888,\"#fdca26\"],[1.0,\"#f0f921\"]]}],\"heatmapgl\":[{\"type\":\"heatmapgl\",\"colorbar\":{\"outlinewidth\":0,\"ticks\":\"\"},\"colorscale\":[[0.0,\"#0d0887\"],[0.1111111111111111,\"#46039f\"],[0.2222222222222222,\"#7201a8\"],[0.3333333333333333,\"#9c179e\"],[0.4444444444444444,\"#bd3786\"],[0.5555555555555556,\"#d8576b\"],[0.6666666666666666,\"#ed7953\"],[0.7777777777777778,\"#fb9f3a\"],[0.8888888888888888,\"#fdca26\"],[1.0,\"#f0f921\"]]}],\"contourcarpet\":[{\"type\":\"contourcarpet\",\"colorbar\":{\"outlinewidth\":0,\"ticks\":\"\"}}],\"contour\":[{\"type\":\"contour\",\"colorbar\":{\"outlinewidth\":0,\"ticks\":\"\"},\"colorscale\":[[0.0,\"#0d0887\"],[0.1111111111111111,\"#46039f\"],[0.2222222222222222,\"#7201a8\"],[0.3333333333333333,\"#9c179e\"],[0.4444444444444444,\"#bd3786\"],[0.5555555555555556,\"#d8576b\"],[0.6666666666666666,\"#ed7953\"],[0.7777777777777778,\"#fb9f3a\"],[0.8888888888888888,\"#fdca26\"],[1.0,\"#f0f921\"]]}],\"surface\":[{\"type\":\"surface\",\"colorbar\":{\"outlinewidth\":0,\"ticks\":\"\"},\"colorscale\":[[0.0,\"#0d0887\"],[0.1111111111111111,\"#46039f\"],[0.2222222222222222,\"#7201a8\"],[0.3333333333333333,\"#9c179e\"],[0.4444444444444444,\"#bd3786\"],[0.5555555555555556,\"#d8576b\"],[0.6666666666666666,\"#ed7953\"],[0.7777777777777778,\"#fb9f3a\"],[0.8888888888888888,\"#fdca26\"],[1.0,\"#f0f921\"]]}],\"mesh3d\":[{\"type\":\"mesh3d\",\"colorbar\":{\"outlinewidth\":0,\"ticks\":\"\"}}],\"scatter\":[{\"fillpattern\":{\"fillmode\":\"overlay\",\"size\":10,\"solidity\":0.2},\"type\":\"scatter\"}],\"parcoords\":[{\"type\":\"parcoords\",\"line\":{\"colorbar\":{\"outlinewidth\":0,\"ticks\":\"\"}}}],\"scatterpolargl\":[{\"type\":\"scatterpolargl\",\"marker\":{\"colorbar\":{\"outlinewidth\":0,\"ticks\":\"\"}}}],\"bar\":[{\"error_x\":{\"color\":\"#2a3f5f\"},\"error_y\":{\"color\":\"#2a3f5f\"},\"marker\":{\"line\":{\"color\":\"#E5ECF6\",\"width\":0.5},\"pattern\":{\"fillmode\":\"overlay\",\"size\":10,\"solidity\":0.2}},\"type\":\"bar\"}],\"scattergeo\":[{\"type\":\"scattergeo\",\"marker\":{\"colorbar\":{\"outlinewidth\":0,\"ticks\":\"\"}}}],\"scatterpolar\":[{\"type\":\"scatterpolar\",\"marker\":{\"colorbar\":{\"outlinewidth\":0,\"ticks\":\"\"}}}],\"histogram\":[{\"marker\":{\"pattern\":{\"fillmode\":\"overlay\",\"size\":10,\"solidity\":0.2}},\"type\":\"histogram\"}],\"scattergl\":[{\"type\":\"scattergl\",\"marker\":{\"colorbar\":{\"outlinewidth\":0,\"ticks\":\"\"}}}],\"scatter3d\":[{\"type\":\"scatter3d\",\"line\":{\"colorbar\":{\"outlinewidth\":0,\"ticks\":\"\"}},\"marker\":{\"colorbar\":{\"outlinewidth\":0,\"ticks\":\"\"}}}],\"scattermapbox\":[{\"type\":\"scattermapbox\",\"marker\":{\"colorbar\":{\"outlinewidth\":0,\"ticks\":\"\"}}}],\"scatterternary\":[{\"type\":\"scatterternary\",\"marker\":{\"colorbar\":{\"outlinewidth\":0,\"ticks\":\"\"}}}],\"scattercarpet\":[{\"type\":\"scattercarpet\",\"marker\":{\"colorbar\":{\"outlinewidth\":0,\"ticks\":\"\"}}}],\"carpet\":[{\"aaxis\":{\"endlinecolor\":\"#2a3f5f\",\"gridcolor\":\"white\",\"linecolor\":\"white\",\"minorgridcolor\":\"white\",\"startlinecolor\":\"#2a3f5f\"},\"baxis\":{\"endlinecolor\":\"#2a3f5f\",\"gridcolor\":\"white\",\"linecolor\":\"white\",\"minorgridcolor\":\"white\",\"startlinecolor\":\"#2a3f5f\"},\"type\":\"carpet\"}],\"table\":[{\"cells\":{\"fill\":{\"color\":\"#EBF0F8\"},\"line\":{\"color\":\"white\"}},\"header\":{\"fill\":{\"color\":\"#C8D4E3\"},\"line\":{\"color\":\"white\"}},\"type\":\"table\"}],\"barpolar\":[{\"marker\":{\"line\":{\"color\":\"#E5ECF6\",\"width\":0.5},\"pattern\":{\"fillmode\":\"overlay\",\"size\":10,\"solidity\":0.2}},\"type\":\"barpolar\"}],\"pie\":[{\"automargin\":true,\"type\":\"pie\"}]},\"layout\":{\"autotypenumbers\":\"strict\",\"colorway\":[\"#636efa\",\"#EF553B\",\"#00cc96\",\"#ab63fa\",\"#FFA15A\",\"#19d3f3\",\"#FF6692\",\"#B6E880\",\"#FF97FF\",\"#FECB52\"],\"font\":{\"color\":\"#2a3f5f\"},\"hovermode\":\"closest\",\"hoverlabel\":{\"align\":\"left\"},\"paper_bgcolor\":\"white\",\"plot_bgcolor\":\"#E5ECF6\",\"polar\":{\"bgcolor\":\"#E5ECF6\",\"angularaxis\":{\"gridcolor\":\"white\",\"linecolor\":\"white\",\"ticks\":\"\"},\"radialaxis\":{\"gridcolor\":\"white\",\"linecolor\":\"white\",\"ticks\":\"\"}},\"ternary\":{\"bgcolor\":\"#E5ECF6\",\"aaxis\":{\"gridcolor\":\"white\",\"linecolor\":\"white\",\"ticks\":\"\"},\"baxis\":{\"gridcolor\":\"white\",\"linecolor\":\"white\",\"ticks\":\"\"},\"caxis\":{\"gridcolor\":\"white\",\"linecolor\":\"white\",\"ticks\":\"\"}},\"coloraxis\":{\"colorbar\":{\"outlinewidth\":0,\"ticks\":\"\"}},\"colorscale\":{\"sequential\":[[0.0,\"#0d0887\"],[0.1111111111111111,\"#46039f\"],[0.2222222222222222,\"#7201a8\"],[0.3333333333333333,\"#9c179e\"],[0.4444444444444444,\"#bd3786\"],[0.5555555555555556,\"#d8576b\"],[0.6666666666666666,\"#ed7953\"],[0.7777777777777778,\"#fb9f3a\"],[0.8888888888888888,\"#fdca26\"],[1.0,\"#f0f921\"]],\"sequentialminus\":[[0.0,\"#0d0887\"],[0.1111111111111111,\"#46039f\"],[0.2222222222222222,\"#7201a8\"],[0.3333333333333333,\"#9c179e\"],[0.4444444444444444,\"#bd3786\"],[0.5555555555555556,\"#d8576b\"],[0.6666666666666666,\"#ed7953\"],[0.7777777777777778,\"#fb9f3a\"],[0.8888888888888888,\"#fdca26\"],[1.0,\"#f0f921\"]],\"diverging\":[[0,\"#8e0152\"],[0.1,\"#c51b7d\"],[0.2,\"#de77ae\"],[0.3,\"#f1b6da\"],[0.4,\"#fde0ef\"],[0.5,\"#f7f7f7\"],[0.6,\"#e6f5d0\"],[0.7,\"#b8e186\"],[0.8,\"#7fbc41\"],[0.9,\"#4d9221\"],[1,\"#276419\"]]},\"xaxis\":{\"gridcolor\":\"white\",\"linecolor\":\"white\",\"ticks\":\"\",\"title\":{\"standoff\":15},\"zerolinecolor\":\"white\",\"automargin\":true,\"zerolinewidth\":2},\"yaxis\":{\"gridcolor\":\"white\",\"linecolor\":\"white\",\"ticks\":\"\",\"title\":{\"standoff\":15},\"zerolinecolor\":\"white\",\"automargin\":true,\"zerolinewidth\":2},\"scene\":{\"xaxis\":{\"backgroundcolor\":\"#E5ECF6\",\"gridcolor\":\"white\",\"linecolor\":\"white\",\"showbackground\":true,\"ticks\":\"\",\"zerolinecolor\":\"white\",\"gridwidth\":2},\"yaxis\":{\"backgroundcolor\":\"#E5ECF6\",\"gridcolor\":\"white\",\"linecolor\":\"white\",\"showbackground\":true,\"ticks\":\"\",\"zerolinecolor\":\"white\",\"gridwidth\":2},\"zaxis\":{\"backgroundcolor\":\"#E5ECF6\",\"gridcolor\":\"white\",\"linecolor\":\"white\",\"showbackground\":true,\"ticks\":\"\",\"zerolinecolor\":\"white\",\"gridwidth\":2}},\"shapedefaults\":{\"line\":{\"color\":\"#2a3f5f\"}},\"annotationdefaults\":{\"arrowcolor\":\"#2a3f5f\",\"arrowhead\":0,\"arrowwidth\":1},\"geo\":{\"bgcolor\":\"white\",\"landcolor\":\"#E5ECF6\",\"subunitcolor\":\"white\",\"showland\":true,\"showlakes\":true,\"lakecolor\":\"white\"},\"title\":{\"x\":0.05},\"mapbox\":{\"style\":\"light\"}}}},                        {\"responsive\": true}                    ).then(function(){\n",
       "                            \n",
       "var gd = document.getElementById('ef0fb990-5b60-49ee-b2b3-d7893f02625d');\n",
       "var x = new MutationObserver(function (mutations, observer) {{\n",
       "        var display = window.getComputedStyle(gd).display;\n",
       "        if (!display || display === 'none') {{\n",
       "            console.log([gd, 'removed!']);\n",
       "            Plotly.purge(gd);\n",
       "            observer.disconnect();\n",
       "        }}\n",
       "}});\n",
       "\n",
       "// Listen for the removal of the full notebook cells\n",
       "var notebookContainer = gd.closest('#notebook-container');\n",
       "if (notebookContainer) {{\n",
       "    x.observe(notebookContainer, {childList: true});\n",
       "}}\n",
       "\n",
       "// Listen for the clearing of the current output cell\n",
       "var outputEl = gd.closest('.output');\n",
       "if (outputEl) {{\n",
       "    x.observe(outputEl, {childList: true});\n",
       "}}\n",
       "\n",
       "                        })                };                });            </script>        </div>"
      ]
     },
     "metadata": {},
     "output_type": "display_data"
    }
   ],
   "source": [
    "if config['tune_parameters_knn']:\n",
    "    fig = optuna.visualization.plot_optimization_history(study)\n",
    "    fig.show()"
   ]
  },
  {
   "cell_type": "code",
   "execution_count": 24,
   "id": "ef75ade8",
   "metadata": {
    "execution": {
     "iopub.execute_input": "2023-12-24T19:36:46.419363Z",
     "iopub.status.busy": "2023-12-24T19:36:46.418863Z",
     "iopub.status.idle": "2023-12-24T19:36:54.723452Z",
     "shell.execute_reply": "2023-12-24T19:36:54.722075Z"
    },
    "papermill": {
     "duration": 8.432772,
     "end_time": "2023-12-24T19:36:54.726302",
     "exception": false,
     "start_time": "2023-12-24T19:36:46.293530",
     "status": "completed"
    },
    "tags": []
   },
   "outputs": [
    {
     "data": {
      "text/html": [
       "<div>                            <div id=\"f29a28d2-facd-41c5-a564-43aa17e04a4b\" class=\"plotly-graph-div\" style=\"height:525px; width:100%;\"></div>            <script type=\"text/javascript\">                require([\"plotly\"], function(Plotly) {                    window.PLOTLYENV=window.PLOTLYENV || {};                                    if (document.getElementById(\"f29a28d2-facd-41c5-a564-43aa17e04a4b\")) {                    Plotly.newPlot(                        \"f29a28d2-facd-41c5-a564-43aa17e04a4b\",                        [{\"cliponaxis\":false,\"hovertemplate\":[\"shrink (IntDistribution): 0.009460596758727041\\u003cextra\\u003e\\u003c\\u002fextra\\u003e\",\"topK (IntDistribution): 0.010221503845662361\\u003cextra\\u003e\\u003c\\u002fextra\\u003e\",\"feature_weighting (CategoricalDistribution): 0.23984120829016342\\u003cextra\\u003e\\u003c\\u002fextra\\u003e\",\"similarity (CategoricalDistribution): 0.7404766911054472\\u003cextra\\u003e\\u003c\\u002fextra\\u003e\"],\"name\":\"Objective Value\",\"orientation\":\"h\",\"text\":[\"\\u003c0.01\",\"0.01\",\"0.24\",\"0.74\"],\"textposition\":\"outside\",\"x\":[0.009460596758727041,0.010221503845662361,0.23984120829016342,0.7404766911054472],\"y\":[\"shrink\",\"topK\",\"feature_weighting\",\"similarity\"],\"type\":\"bar\"}],                        {\"title\":{\"text\":\"Hyperparameter Importances\"},\"xaxis\":{\"title\":{\"text\":\"Hyperparameter Importance\"}},\"yaxis\":{\"title\":{\"text\":\"Hyperparameter\"}},\"template\":{\"data\":{\"histogram2dcontour\":[{\"type\":\"histogram2dcontour\",\"colorbar\":{\"outlinewidth\":0,\"ticks\":\"\"},\"colorscale\":[[0.0,\"#0d0887\"],[0.1111111111111111,\"#46039f\"],[0.2222222222222222,\"#7201a8\"],[0.3333333333333333,\"#9c179e\"],[0.4444444444444444,\"#bd3786\"],[0.5555555555555556,\"#d8576b\"],[0.6666666666666666,\"#ed7953\"],[0.7777777777777778,\"#fb9f3a\"],[0.8888888888888888,\"#fdca26\"],[1.0,\"#f0f921\"]]}],\"choropleth\":[{\"type\":\"choropleth\",\"colorbar\":{\"outlinewidth\":0,\"ticks\":\"\"}}],\"histogram2d\":[{\"type\":\"histogram2d\",\"colorbar\":{\"outlinewidth\":0,\"ticks\":\"\"},\"colorscale\":[[0.0,\"#0d0887\"],[0.1111111111111111,\"#46039f\"],[0.2222222222222222,\"#7201a8\"],[0.3333333333333333,\"#9c179e\"],[0.4444444444444444,\"#bd3786\"],[0.5555555555555556,\"#d8576b\"],[0.6666666666666666,\"#ed7953\"],[0.7777777777777778,\"#fb9f3a\"],[0.8888888888888888,\"#fdca26\"],[1.0,\"#f0f921\"]]}],\"heatmap\":[{\"type\":\"heatmap\",\"colorbar\":{\"outlinewidth\":0,\"ticks\":\"\"},\"colorscale\":[[0.0,\"#0d0887\"],[0.1111111111111111,\"#46039f\"],[0.2222222222222222,\"#7201a8\"],[0.3333333333333333,\"#9c179e\"],[0.4444444444444444,\"#bd3786\"],[0.5555555555555556,\"#d8576b\"],[0.6666666666666666,\"#ed7953\"],[0.7777777777777778,\"#fb9f3a\"],[0.8888888888888888,\"#fdca26\"],[1.0,\"#f0f921\"]]}],\"heatmapgl\":[{\"type\":\"heatmapgl\",\"colorbar\":{\"outlinewidth\":0,\"ticks\":\"\"},\"colorscale\":[[0.0,\"#0d0887\"],[0.1111111111111111,\"#46039f\"],[0.2222222222222222,\"#7201a8\"],[0.3333333333333333,\"#9c179e\"],[0.4444444444444444,\"#bd3786\"],[0.5555555555555556,\"#d8576b\"],[0.6666666666666666,\"#ed7953\"],[0.7777777777777778,\"#fb9f3a\"],[0.8888888888888888,\"#fdca26\"],[1.0,\"#f0f921\"]]}],\"contourcarpet\":[{\"type\":\"contourcarpet\",\"colorbar\":{\"outlinewidth\":0,\"ticks\":\"\"}}],\"contour\":[{\"type\":\"contour\",\"colorbar\":{\"outlinewidth\":0,\"ticks\":\"\"},\"colorscale\":[[0.0,\"#0d0887\"],[0.1111111111111111,\"#46039f\"],[0.2222222222222222,\"#7201a8\"],[0.3333333333333333,\"#9c179e\"],[0.4444444444444444,\"#bd3786\"],[0.5555555555555556,\"#d8576b\"],[0.6666666666666666,\"#ed7953\"],[0.7777777777777778,\"#fb9f3a\"],[0.8888888888888888,\"#fdca26\"],[1.0,\"#f0f921\"]]}],\"surface\":[{\"type\":\"surface\",\"colorbar\":{\"outlinewidth\":0,\"ticks\":\"\"},\"colorscale\":[[0.0,\"#0d0887\"],[0.1111111111111111,\"#46039f\"],[0.2222222222222222,\"#7201a8\"],[0.3333333333333333,\"#9c179e\"],[0.4444444444444444,\"#bd3786\"],[0.5555555555555556,\"#d8576b\"],[0.6666666666666666,\"#ed7953\"],[0.7777777777777778,\"#fb9f3a\"],[0.8888888888888888,\"#fdca26\"],[1.0,\"#f0f921\"]]}],\"mesh3d\":[{\"type\":\"mesh3d\",\"colorbar\":{\"outlinewidth\":0,\"ticks\":\"\"}}],\"scatter\":[{\"fillpattern\":{\"fillmode\":\"overlay\",\"size\":10,\"solidity\":0.2},\"type\":\"scatter\"}],\"parcoords\":[{\"type\":\"parcoords\",\"line\":{\"colorbar\":{\"outlinewidth\":0,\"ticks\":\"\"}}}],\"scatterpolargl\":[{\"type\":\"scatterpolargl\",\"marker\":{\"colorbar\":{\"outlinewidth\":0,\"ticks\":\"\"}}}],\"bar\":[{\"error_x\":{\"color\":\"#2a3f5f\"},\"error_y\":{\"color\":\"#2a3f5f\"},\"marker\":{\"line\":{\"color\":\"#E5ECF6\",\"width\":0.5},\"pattern\":{\"fillmode\":\"overlay\",\"size\":10,\"solidity\":0.2}},\"type\":\"bar\"}],\"scattergeo\":[{\"type\":\"scattergeo\",\"marker\":{\"colorbar\":{\"outlinewidth\":0,\"ticks\":\"\"}}}],\"scatterpolar\":[{\"type\":\"scatterpolar\",\"marker\":{\"colorbar\":{\"outlinewidth\":0,\"ticks\":\"\"}}}],\"histogram\":[{\"marker\":{\"pattern\":{\"fillmode\":\"overlay\",\"size\":10,\"solidity\":0.2}},\"type\":\"histogram\"}],\"scattergl\":[{\"type\":\"scattergl\",\"marker\":{\"colorbar\":{\"outlinewidth\":0,\"ticks\":\"\"}}}],\"scatter3d\":[{\"type\":\"scatter3d\",\"line\":{\"colorbar\":{\"outlinewidth\":0,\"ticks\":\"\"}},\"marker\":{\"colorbar\":{\"outlinewidth\":0,\"ticks\":\"\"}}}],\"scattermapbox\":[{\"type\":\"scattermapbox\",\"marker\":{\"colorbar\":{\"outlinewidth\":0,\"ticks\":\"\"}}}],\"scatterternary\":[{\"type\":\"scatterternary\",\"marker\":{\"colorbar\":{\"outlinewidth\":0,\"ticks\":\"\"}}}],\"scattercarpet\":[{\"type\":\"scattercarpet\",\"marker\":{\"colorbar\":{\"outlinewidth\":0,\"ticks\":\"\"}}}],\"carpet\":[{\"aaxis\":{\"endlinecolor\":\"#2a3f5f\",\"gridcolor\":\"white\",\"linecolor\":\"white\",\"minorgridcolor\":\"white\",\"startlinecolor\":\"#2a3f5f\"},\"baxis\":{\"endlinecolor\":\"#2a3f5f\",\"gridcolor\":\"white\",\"linecolor\":\"white\",\"minorgridcolor\":\"white\",\"startlinecolor\":\"#2a3f5f\"},\"type\":\"carpet\"}],\"table\":[{\"cells\":{\"fill\":{\"color\":\"#EBF0F8\"},\"line\":{\"color\":\"white\"}},\"header\":{\"fill\":{\"color\":\"#C8D4E3\"},\"line\":{\"color\":\"white\"}},\"type\":\"table\"}],\"barpolar\":[{\"marker\":{\"line\":{\"color\":\"#E5ECF6\",\"width\":0.5},\"pattern\":{\"fillmode\":\"overlay\",\"size\":10,\"solidity\":0.2}},\"type\":\"barpolar\"}],\"pie\":[{\"automargin\":true,\"type\":\"pie\"}]},\"layout\":{\"autotypenumbers\":\"strict\",\"colorway\":[\"#636efa\",\"#EF553B\",\"#00cc96\",\"#ab63fa\",\"#FFA15A\",\"#19d3f3\",\"#FF6692\",\"#B6E880\",\"#FF97FF\",\"#FECB52\"],\"font\":{\"color\":\"#2a3f5f\"},\"hovermode\":\"closest\",\"hoverlabel\":{\"align\":\"left\"},\"paper_bgcolor\":\"white\",\"plot_bgcolor\":\"#E5ECF6\",\"polar\":{\"bgcolor\":\"#E5ECF6\",\"angularaxis\":{\"gridcolor\":\"white\",\"linecolor\":\"white\",\"ticks\":\"\"},\"radialaxis\":{\"gridcolor\":\"white\",\"linecolor\":\"white\",\"ticks\":\"\"}},\"ternary\":{\"bgcolor\":\"#E5ECF6\",\"aaxis\":{\"gridcolor\":\"white\",\"linecolor\":\"white\",\"ticks\":\"\"},\"baxis\":{\"gridcolor\":\"white\",\"linecolor\":\"white\",\"ticks\":\"\"},\"caxis\":{\"gridcolor\":\"white\",\"linecolor\":\"white\",\"ticks\":\"\"}},\"coloraxis\":{\"colorbar\":{\"outlinewidth\":0,\"ticks\":\"\"}},\"colorscale\":{\"sequential\":[[0.0,\"#0d0887\"],[0.1111111111111111,\"#46039f\"],[0.2222222222222222,\"#7201a8\"],[0.3333333333333333,\"#9c179e\"],[0.4444444444444444,\"#bd3786\"],[0.5555555555555556,\"#d8576b\"],[0.6666666666666666,\"#ed7953\"],[0.7777777777777778,\"#fb9f3a\"],[0.8888888888888888,\"#fdca26\"],[1.0,\"#f0f921\"]],\"sequentialminus\":[[0.0,\"#0d0887\"],[0.1111111111111111,\"#46039f\"],[0.2222222222222222,\"#7201a8\"],[0.3333333333333333,\"#9c179e\"],[0.4444444444444444,\"#bd3786\"],[0.5555555555555556,\"#d8576b\"],[0.6666666666666666,\"#ed7953\"],[0.7777777777777778,\"#fb9f3a\"],[0.8888888888888888,\"#fdca26\"],[1.0,\"#f0f921\"]],\"diverging\":[[0,\"#8e0152\"],[0.1,\"#c51b7d\"],[0.2,\"#de77ae\"],[0.3,\"#f1b6da\"],[0.4,\"#fde0ef\"],[0.5,\"#f7f7f7\"],[0.6,\"#e6f5d0\"],[0.7,\"#b8e186\"],[0.8,\"#7fbc41\"],[0.9,\"#4d9221\"],[1,\"#276419\"]]},\"xaxis\":{\"gridcolor\":\"white\",\"linecolor\":\"white\",\"ticks\":\"\",\"title\":{\"standoff\":15},\"zerolinecolor\":\"white\",\"automargin\":true,\"zerolinewidth\":2},\"yaxis\":{\"gridcolor\":\"white\",\"linecolor\":\"white\",\"ticks\":\"\",\"title\":{\"standoff\":15},\"zerolinecolor\":\"white\",\"automargin\":true,\"zerolinewidth\":2},\"scene\":{\"xaxis\":{\"backgroundcolor\":\"#E5ECF6\",\"gridcolor\":\"white\",\"linecolor\":\"white\",\"showbackground\":true,\"ticks\":\"\",\"zerolinecolor\":\"white\",\"gridwidth\":2},\"yaxis\":{\"backgroundcolor\":\"#E5ECF6\",\"gridcolor\":\"white\",\"linecolor\":\"white\",\"showbackground\":true,\"ticks\":\"\",\"zerolinecolor\":\"white\",\"gridwidth\":2},\"zaxis\":{\"backgroundcolor\":\"#E5ECF6\",\"gridcolor\":\"white\",\"linecolor\":\"white\",\"showbackground\":true,\"ticks\":\"\",\"zerolinecolor\":\"white\",\"gridwidth\":2}},\"shapedefaults\":{\"line\":{\"color\":\"#2a3f5f\"}},\"annotationdefaults\":{\"arrowcolor\":\"#2a3f5f\",\"arrowhead\":0,\"arrowwidth\":1},\"geo\":{\"bgcolor\":\"white\",\"landcolor\":\"#E5ECF6\",\"subunitcolor\":\"white\",\"showland\":true,\"showlakes\":true,\"lakecolor\":\"white\"},\"title\":{\"x\":0.05},\"mapbox\":{\"style\":\"light\"}}}},                        {\"responsive\": true}                    ).then(function(){\n",
       "                            \n",
       "var gd = document.getElementById('f29a28d2-facd-41c5-a564-43aa17e04a4b');\n",
       "var x = new MutationObserver(function (mutations, observer) {{\n",
       "        var display = window.getComputedStyle(gd).display;\n",
       "        if (!display || display === 'none') {{\n",
       "            console.log([gd, 'removed!']);\n",
       "            Plotly.purge(gd);\n",
       "            observer.disconnect();\n",
       "        }}\n",
       "}});\n",
       "\n",
       "// Listen for the removal of the full notebook cells\n",
       "var notebookContainer = gd.closest('#notebook-container');\n",
       "if (notebookContainer) {{\n",
       "    x.observe(notebookContainer, {childList: true});\n",
       "}}\n",
       "\n",
       "// Listen for the clearing of the current output cell\n",
       "var outputEl = gd.closest('.output');\n",
       "if (outputEl) {{\n",
       "    x.observe(outputEl, {childList: true});\n",
       "}}\n",
       "\n",
       "                        })                };                });            </script>        </div>"
      ]
     },
     "metadata": {},
     "output_type": "display_data"
    }
   ],
   "source": [
    "if config['tune_parameters_knn']:\n",
    "    fig = optuna.visualization.plot_param_importances(study)\n",
    "    fig.show()"
   ]
  },
  {
   "cell_type": "code",
   "execution_count": 25,
   "id": "fcdf4bb6",
   "metadata": {
    "execution": {
     "iopub.execute_input": "2023-12-24T19:36:54.972435Z",
     "iopub.status.busy": "2023-12-24T19:36:54.971970Z",
     "iopub.status.idle": "2023-12-24T19:36:55.151951Z",
     "shell.execute_reply": "2023-12-24T19:36:55.151124Z"
    },
    "papermill": {
     "duration": 0.305893,
     "end_time": "2023-12-24T19:36:55.154045",
     "exception": false,
     "start_time": "2023-12-24T19:36:54.848152",
     "status": "completed"
    },
    "tags": []
   },
   "outputs": [
    {
     "data": {
      "text/html": [
       "<div>                            <div id=\"9c9e0b2f-a954-4cf0-a814-a58805c64e69\" class=\"plotly-graph-div\" style=\"height:525px; width:3000px;\"></div>            <script type=\"text/javascript\">                require([\"plotly\"], function(Plotly) {                    window.PLOTLYENV=window.PLOTLYENV || {};                                    if (document.getElementById(\"9c9e0b2f-a954-4cf0-a814-a58805c64e69\")) {                    Plotly.newPlot(                        \"9c9e0b2f-a954-4cf0-a814-a58805c64e69\",                        [{\"marker\":{\"color\":[1,4,5,36,40,57,86,108,139,179,227,263,294,324,353,384],\"colorbar\":{\"title\":{\"text\":\"Trial\"},\"x\":1.0,\"xpad\":40},\"colorscale\":[[0.0,\"rgb(247,251,255)\"],[0.125,\"rgb(222,235,247)\"],[0.25,\"rgb(198,219,239)\"],[0.375,\"rgb(158,202,225)\"],[0.5,\"rgb(107,174,214)\"],[0.625,\"rgb(66,146,198)\"],[0.75,\"rgb(33,113,181)\"],[0.875,\"rgb(8,81,156)\"],[1.0,\"rgb(8,48,107)\"]],\"line\":{\"color\":\"Grey\",\"width\":0.5},\"showscale\":true},\"mode\":\"markers\",\"name\":\"Feasible Trial\",\"showlegend\":false,\"x\":[0.8209254507156352,0.8095551160296623,0.4788375876643238,1.917122401884919,0.06612195128940379,1.5972455691392948,1.321335297381569,1.9783748511065977,1.2101134933228435,0.00457588689850108,0.48718808082067255,1.6288679275528006,1.102052083340173,1.5996009434760206,1.3349366349930902,0.8623789765890751],\"y\":[0.21439889925742628,0.10877291450955481,0.24016648914988262,0.17641719333223987,0.11333216582819518,0.10431836442259323,0.10976179981681991,0.10308327652243987,0.10789579109424015,0.11591858315544921,0.11359565350881361,0.10383332213461885,0.10918439456112572,0.18704025161603766,0.10706185645848745,0.11192179525108241],\"type\":\"scatter\",\"xaxis\":\"x\",\"yaxis\":\"y\"},{\"marker\":{\"color\":[0,1,2,3,4,5,6,7,8,9,10,11,12,13,14,15,16,17,18,19,20,21,22,23,24,25,26,27,28,29,30,31,32,33,34,35,36,37,38,39,40,41,42,43,44,45,46,47,48,49,50,51,52,53,54,55,56,57,58,59,60,61,62,63,64,65,66,67,68,69,70,71,72,73,74,75,76,77,78,79,80,81,82,83,84,85,86,87,88,89,90,91,92,93,94,95,96,97,98,99,100,101,102,103,104,105,106,107,108,109,110,111,112,113,114,115,116,117,118,119,120,121,122,123,124,125,126,127,128,129,130,131,132,133,134,135,136,137,138,139,140,141,142,143,144,145,146,147,148,149,150,151,152,153,154,155,156,157,158,159,160,161,162,163,164,165,166,167,168,169,170,171,172,173,174,175,176,177,178,179,180,181,182,183,184,185,186,187,188,189,190,191,192,193,194,195,196,197,198,199,200,201,202,203,204,205,206,207,208,209,210,211,212,213,214,215,216,217,218,219,220,221,222,223,224,225,226,227,228,229,230,231,232,233,234,235,236,237,238,239,240,241,242,243,244,245,246,247,248,249,250,251,252,253,254,255,256,257,258,259,260,261,262,263,264,265,266,267,268,269,270,271,272,273,274,275,276,277,278,279,280,281,282,283,284,285,286,287,288,289,290,291,292,293,294,295,296,297,298,299,300,301,302,303,304,305,306,307,308,309,310,311,312,313,314,315,316,317,318,319,320,321,322,323,324,325,326,327,328,329,330,331,332,333,334,335,336,337,338,339,340,341,342,343,344,345,346,347,348,349,350,351,352,353,354,355,356,357,358,359,360,361,362,363,364,365,366,367,368,369,370,371,372,373,374,375,376,377,378,379,380,381,382,383,384,385,386,387,388,389,390,391,392,393,394,395,396,397,398,399],\"colorbar\":{\"title\":{\"text\":\"Trial\"},\"x\":1.0,\"xpad\":40},\"colorscale\":[[0.0,\"rgb(247,251,255)\"],[0.125,\"rgb(222,235,247)\"],[0.25,\"rgb(198,219,239)\"],[0.375,\"rgb(158,202,225)\"],[0.5,\"rgb(107,174,214)\"],[0.625,\"rgb(66,146,198)\"],[0.75,\"rgb(33,113,181)\"],[0.875,\"rgb(8,81,156)\"],[1.0,\"rgb(8,48,107)\"]],\"line\":{\"color\":\"Grey\",\"width\":0.5},\"showscale\":false},\"mode\":\"markers\",\"name\":\"Feasible Trial\",\"showlegend\":false,\"x\":[\"none\",\"none\",\"TF-IDF\",\"BM25\",\"BM25\",\"none\",\"BM25\",\"BM25\",\"TF-IDF\",\"BM25\",\"BM25\",\"BM25\",\"BM25\",\"BM25\",\"BM25\",\"TF-IDF\",\"BM25\",\"BM25\",\"none\",\"TF-IDF\",\"BM25\",\"BM25\",\"BM25\",\"BM25\",\"BM25\",\"BM25\",\"BM25\",\"BM25\",\"none\",\"none\",\"TF-IDF\",\"BM25\",\"BM25\",\"BM25\",\"BM25\",\"BM25\",\"none\",\"BM25\",\"BM25\",\"TF-IDF\",\"BM25\",\"BM25\",\"BM25\",\"BM25\",\"BM25\",\"BM25\",\"BM25\",\"BM25\",\"none\",\"BM25\",\"TF-IDF\",\"BM25\",\"BM25\",\"BM25\",\"BM25\",\"BM25\",\"BM25\",\"BM25\",\"BM25\",\"BM25\",\"TF-IDF\",\"BM25\",\"BM25\",\"BM25\",\"BM25\",\"BM25\",\"BM25\",\"BM25\",\"none\",\"BM25\",\"BM25\",\"BM25\",\"BM25\",\"BM25\",\"BM25\",\"BM25\",\"BM25\",\"BM25\",\"TF-IDF\",\"BM25\",\"none\",\"BM25\",\"BM25\",\"BM25\",\"BM25\",\"BM25\",\"BM25\",\"BM25\",\"BM25\",\"BM25\",\"BM25\",\"BM25\",\"BM25\",\"BM25\",\"BM25\",\"BM25\",\"BM25\",\"BM25\",\"TF-IDF\",\"BM25\",\"none\",\"BM25\",\"BM25\",\"BM25\",\"BM25\",\"BM25\",\"BM25\",\"BM25\",\"BM25\",\"BM25\",\"BM25\",\"BM25\",\"BM25\",\"BM25\",\"BM25\",\"BM25\",\"BM25\",\"BM25\",\"BM25\",\"BM25\",\"none\",\"BM25\",\"BM25\",\"BM25\",\"BM25\",\"TF-IDF\",\"BM25\",\"BM25\",\"BM25\",\"BM25\",\"BM25\",\"BM25\",\"BM25\",\"BM25\",\"BM25\",\"BM25\",\"BM25\",\"BM25\",\"BM25\",\"BM25\",\"BM25\",\"BM25\",\"BM25\",\"BM25\",\"BM25\",\"BM25\",\"BM25\",\"TF-IDF\",\"BM25\",\"BM25\",\"none\",\"BM25\",\"BM25\",\"BM25\",\"BM25\",\"BM25\",\"BM25\",\"BM25\",\"BM25\",\"BM25\",\"BM25\",\"BM25\",\"BM25\",\"BM25\",\"BM25\",\"BM25\",\"BM25\",\"BM25\",\"BM25\",\"BM25\",\"BM25\",\"BM25\",\"BM25\",\"BM25\",\"BM25\",\"BM25\",\"BM25\",\"BM25\",\"TF-IDF\",\"BM25\",\"BM25\",\"BM25\",\"BM25\",\"BM25\",\"BM25\",\"BM25\",\"none\",\"BM25\",\"BM25\",\"BM25\",\"BM25\",\"BM25\",\"BM25\",\"BM25\",\"BM25\",\"BM25\",\"BM25\",\"BM25\",\"BM25\",\"BM25\",\"BM25\",\"BM25\",\"BM25\",\"BM25\",\"BM25\",\"BM25\",\"BM25\",\"BM25\",\"BM25\",\"BM25\",\"BM25\",\"BM25\",\"BM25\",\"BM25\",\"BM25\",\"BM25\",\"BM25\",\"TF-IDF\",\"BM25\",\"none\",\"BM25\",\"BM25\",\"BM25\",\"BM25\",\"BM25\",\"BM25\",\"BM25\",\"BM25\",\"BM25\",\"BM25\",\"BM25\",\"BM25\",\"BM25\",\"BM25\",\"BM25\",\"BM25\",\"BM25\",\"BM25\",\"BM25\",\"BM25\",\"BM25\",\"BM25\",\"BM25\",\"BM25\",\"BM25\",\"BM25\",\"BM25\",\"BM25\",\"BM25\",\"BM25\",\"BM25\",\"BM25\",\"BM25\",\"BM25\",\"TF-IDF\",\"BM25\",\"none\",\"BM25\",\"BM25\",\"BM25\",\"BM25\",\"BM25\",\"BM25\",\"BM25\",\"BM25\",\"BM25\",\"BM25\",\"BM25\",\"BM25\",\"BM25\",\"BM25\",\"BM25\",\"BM25\",\"BM25\",\"BM25\",\"BM25\",\"TF-IDF\",\"BM25\",\"BM25\",\"BM25\",\"none\",\"BM25\",\"BM25\",\"BM25\",\"BM25\",\"BM25\",\"BM25\",\"BM25\",\"BM25\",\"BM25\",\"BM25\",\"BM25\",\"BM25\",\"BM25\",\"BM25\",\"BM25\",\"BM25\",\"BM25\",\"TF-IDF\",\"BM25\",\"BM25\",\"BM25\",\"BM25\",\"BM25\",\"none\",\"BM25\",\"BM25\",\"BM25\",\"BM25\",\"BM25\",\"BM25\",\"BM25\",\"BM25\",\"BM25\",\"BM25\",\"BM25\",\"BM25\",\"BM25\",\"BM25\",\"BM25\",\"BM25\",\"TF-IDF\",\"BM25\",\"BM25\",\"none\",\"BM25\",\"BM25\",\"BM25\",\"BM25\",\"BM25\",\"BM25\",\"BM25\",\"BM25\",\"BM25\",\"BM25\",\"BM25\",\"BM25\",\"BM25\",\"BM25\",\"BM25\",\"BM25\",\"BM25\",\"BM25\",\"BM25\",\"TF-IDF\",\"BM25\",\"BM25\",\"none\",\"BM25\",\"BM25\",\"BM25\",\"BM25\",\"BM25\",\"BM25\",\"BM25\",\"BM25\",\"BM25\",\"BM25\",\"BM25\",\"BM25\",\"BM25\",\"BM25\",\"BM25\",\"BM25\",\"BM25\",\"BM25\",\"TF-IDF\",\"BM25\",\"BM25\",\"none\",\"BM25\",\"BM25\",\"BM25\",\"BM25\",\"BM25\",\"BM25\",\"BM25\",\"BM25\",\"BM25\",\"BM25\",\"BM25\",\"BM25\",\"BM25\",\"BM25\",\"BM25\",\"BM25\",\"BM25\",\"BM25\",\"TF-IDF\",\"BM25\",\"BM25\",\"BM25\",\"none\",\"BM25\",\"BM25\",\"BM25\",\"BM25\",\"BM25\",\"BM25\",\"BM25\"],\"y\":[0.24210313250899043,0.21439889925742628,0.2153931627376626,0.25219625464549644,0.10877291450955481,0.24016648914988262,0.24214892221158313,0.2462902672252141,0.21249163827289327,0.11326241066945449,0.25412337384301625,0.23704201992950288,0.25133987015690956,0.1009141255289719,0.2519266625256694,0.2098905209581845,0.2549177714744977,0.25224883608269877,0.21731482434155303,0.14970716425679742,0.2422316710417148,0.2535729140313231,0.24829542960405507,0.2539758828494,0.2544394346353343,0.2545039680330574,0.24745514253513837,0.25166614892846073,0.21815420807880087,0.21613205414777809,0.21576966935408545,0.2550205556140218,0.2549065222953144,0.25449406320762824,0.04915473252420418,0.2537032089961727,0.17641719333223987,0.24975846071878868,0.11560438296239021,0.21879214186046816,0.11333216582819518,0.25483159965229085,0.2549538466499489,0.25118685107146155,0.25442969194175113,0.2196313408609733,0.2549325872459559,0.2535280554921848,0.2116545816079394,0.21070789506111687,0.25400631985579225,0.25464870997288674,0.2531392350750803,0.2545553666710593,0.25390454697737064,0.08182531617157662,0.2513771412094966,0.10431836442259323,0.25651650863928127,0.2443200270367243,0.2062843455597966,0.25506975954781225,0.2551585160921683,0.25537419185016696,0.25593872613855323,0.255529857236875,0.255529857236875,0.25320578181184444,0.22025782691122187,0.11408947926430509,0.2545729236808261,0.2550620730102184,0.25464049775856673,0.2410713924404099,0.2561017698917566,0.02798424620580291,0.25227781521252535,0.2332947205463715,0.21447427692925447,0.255378989400365,0.22052512401547608,0.25428522450935304,0.2547364695908802,0.2554717722208029,0.25387848935278895,0.2560222492046997,0.10976179981681991,0.25479713964530754,0.2503960303712255,0.25314088013158653,0.25651169666918033,0.2560810322491041,0.25482238897778425,0.2559880469840295,0.24218335166112398,0.2548064818707082,0.1138310640266644,0.13494840369257036,0.1601185114146372,0.25421938128629856,0.2152029799907557,0.25386889665275003,0.2547965946226404,0.25651650863928127,0.25458767512361524,0.24942021629413105,0.25465322815404445,0.25629560659772893,0.10308327652243987,0.25402246200003287,0.24611894071690876,0.2564802293682277,0.24491029876907278,0.25192094849621327,0.25429567673239245,0.25154036437251054,0.2566559568397812,0.25628008941926483,0.25648621791618637,0.25459214062542157,0.21583670811244973,0.25470836632078514,0.2543235599032846,0.2566276053749877,0.2566104108459115,0.2129881386521494,0.11380060413608314,0.2550073992621175,0.25450017866473706,0.25473498136311357,0.027984711307363037,0.25633058811620996,0.2564525607768418,0.25518945467918447,0.2539421879444373,0.25640963146479306,0.24130845967063316,0.25579495085698517,0.25480637201309164,0.10789579109424015,0.2434208410801053,0.2564027421472705,0.2563310606109027,0.25471800610074535,0.25655158085938623,0.253984799036433,0.254529146868128,0.21473822105844792,0.2524935424192653,0.25349324097729964,0.21567200948417356,0.25669221242055673,0.2563247722792171,0.2539669047914716,0.25538080628758264,0.2550256518507873,0.2546790603552266,0.2546093638321591,0.2530207080737343,0.1139805176747847,0.23293878012086328,0.25632566093901316,0.25511471057363744,0.2563367012520633,0.2562517055309301,0.25461401181840676,0.0958698864807288,0.25489057613649246,0.2549741274964855,0.25498503410869494,0.25329770712713134,0.25669798926621284,0.25598660463490686,0.25471960534400434,0.2561590793040647,0.23922802332560417,0.25484929038421267,0.2543091904889344,0.21541505649005213,0.11591858315544921,0.2528306837007574,0.2554890025254965,0.24610469076697955,0.256383127072678,0.2544792962607106,0.2564197550180259,0.21360463760516996,0.2547803985415401,0.25578959391594563,0.25616758071895246,0.25491869101538883,0.25601685680513464,0.25657736355871774,0.254499996066317,0.2560779239957997,0.2544974757360935,0.2546894885156262,0.25589982080117074,0.2413341490448406,0.1292617229742211,0.2555008730857432,0.2566165916215631,0.2544255772022942,0.25677035105328766,0.2555442364235446,0.255069141811446,0.25404339678432647,0.2564810363295957,0.09535473245125423,0.25602466368854376,0.2552599414687786,0.25665200217621387,0.2549423159281884,0.2563809422277134,0.25618481695650636,0.25407973469676354,0.254473565916363,0.21590200496640866,0.25445023401761574,0.21508709621336697,0.25429986728352627,0.25633443394923044,0.25567797530930136,0.256368641064949,0.2554347736907773,0.25409124357243396,0.24801985141549465,0.11359565350881361,0.25486354965316776,0.2546075521645399,0.2534555149386933,0.2567273746708115,0.2564899836697047,0.2561894447603147,0.24785391432598078,0.2549599151833282,0.2546980104909946,0.2565942068078665,0.2553565378202989,0.25607218570005263,0.2547601687041968,0.2565059992617193,0.2562359421285735,0.254462778848397,0.25214498848724665,0.2563242055825412,0.2546141245515184,0.25557203129779427,0.2558874370754855,0.11297156451456708,0.2554452128891312,0.24238517248549143,0.256359607505551,0.07913479362338534,0.21502057521245285,0.25436900891973785,0.21700936026334722,0.2567372051195205,0.2543716866088722,0.2562987495225135,0.2549863412192411,0.249861144796412,0.21895213162664737,0.10383332213461885,0.2552263340646957,0.24954725398710492,0.25651421561587684,0.254852520934397,0.2556193749811918,0.2558902671925891,0.2544673572488202,0.2554297433164293,0.254552842354835,0.2566208437959673,0.2543869220344441,0.24211529950267988,0.20463676737923803,0.25596878069071705,0.25477842653043603,0.11297741642584724,0.22104116734721865,0.2561279461773885,0.2436669042461888,0.051117601265282295,0.2544027331901109,0.2422374113516271,0.2543741383176366,0.25660727552869694,0.25487430473294853,0.25515123953444874,0.25459375260734407,0.2549557371030931,0.25577641188957406,0.2539681411507315,0.10918439456112572,0.25636051297770035,0.2504360667706869,0.254544724422095,0.2122206024016797,0.2564918549887361,0.25491480486342144,0.2521535370893196,0.2560429727173319,0.25468362274536543,0.21829756852634455,0.2562112075067461,0.25500255089500184,0.2550567403682273,0.11476522448243744,0.25442940393107827,0.2542851604957435,0.2563858086854242,0.25444790743991824,0.027937030397700725,0.25505906503827913,0.25492221083731637,0.2560038043375778,0.2545425662669445,0.25554230480409956,0.2546104892737965,0.2534576186417102,0.21145117960288556,0.25455093611479473,0.25519041739653875,0.18704025161603766,0.25488110496677935,0.25397208310405617,0.2546009235091923,0.25450048881298687,0.25611455576750813,0.2521106272600551,0.2567152706869441,0.25447207586319504,0.25635948497991623,0.25477401045695786,0.24128154764429,0.2550961357955973,0.25480304922528835,0.1140277056860623,0.25512210501511395,0.25498960719993297,0.255293841154024,0.1954081621924403,0.08031751524284368,0.2199307929250833,0.24853308395240908,0.2537253142856203,0.22023370765885972,0.25548808730481026,0.254480660386288,0.25530776069609074,0.2555788833203808,0.24034739882514874,0.10706185645848745,0.25625890128925655,0.25570857166469263,0.25381860206431567,0.256170367254031,0.2546838216324943,0.2543073820461267,0.24556250991257655,0.2555224507246909,0.2514803258386324,0.25413300089391794,0.2534338872272784,0.24901959794412196,0.21662845674442566,0.11187131061494734,0.2560201289929274,0.21365684487180436,0.25500255089500184,0.2552022432828284,0.027979684977858753,0.25631034781006556,0.2553374117324153,0.2548919074728211,0.2545653515614148,0.2557540682425791,0.2543537141438922,0.25519516693572064,0.2547337483779982,0.2561217459770861,0.2549310949458265,0.23977669595284,0.11192179525108241,0.255226236357556,0.24695355514532766,0.2516689189395611,0.20299764202632045,0.26011709750288536,0.2505803921845236,0.2540070177419662,0.22185032712053007,0.25858348149656696,0.2543453581362134,0.12104566313852758,0.2587147858572456,0.25949906521438154,0.2556183269757614,0.2584001299129623],\"type\":\"scatter\",\"xaxis\":\"x2\",\"yaxis\":\"y2\"},{\"marker\":{\"color\":[13,19,34,55,75,98,130,166,208,253,283,313,343,372],\"colorbar\":{\"title\":{\"text\":\"Trial\"},\"x\":1.0,\"xpad\":40},\"colorscale\":[[0.0,\"rgb(247,251,255)\"],[0.125,\"rgb(222,235,247)\"],[0.25,\"rgb(198,219,239)\"],[0.375,\"rgb(158,202,225)\"],[0.5,\"rgb(107,174,214)\"],[0.625,\"rgb(66,146,198)\"],[0.75,\"rgb(33,113,181)\"],[0.875,\"rgb(8,81,156)\"],[1.0,\"rgb(8,48,107)\"]],\"line\":{\"color\":\"Grey\",\"width\":0.5},\"showscale\":false},\"mode\":\"markers\",\"name\":\"Feasible Trial\",\"showlegend\":false,\"x\":[false,true,false,true,false,true,false,true,false,true,true,false,true,false],\"y\":[0.1009141255289719,0.14970716425679742,0.04915473252420418,0.08182531617157662,0.02798424620580291,0.1601185114146372,0.027984711307363037,0.0958698864807288,0.09535473245125423,0.07913479362338534,0.051117601265282295,0.027937030397700725,0.08031751524284368,0.027979684977858753],\"type\":\"scatter\",\"xaxis\":\"x3\",\"yaxis\":\"y3\"},{\"marker\":{\"color\":[13,19,34,55,75,98,130,166,208,253,283,313,343,372],\"colorbar\":{\"title\":{\"text\":\"Trial\"},\"x\":1.0,\"xpad\":40},\"colorscale\":[[0.0,\"rgb(247,251,255)\"],[0.125,\"rgb(222,235,247)\"],[0.25,\"rgb(198,219,239)\"],[0.375,\"rgb(158,202,225)\"],[0.5,\"rgb(107,174,214)\"],[0.625,\"rgb(66,146,198)\"],[0.75,\"rgb(33,113,181)\"],[0.875,\"rgb(8,81,156)\"],[1.0,\"rgb(8,48,107)\"]],\"line\":{\"color\":\"Grey\",\"width\":0.5},\"showscale\":false},\"mode\":\"markers\",\"name\":\"Feasible Trial\",\"showlegend\":false,\"x\":[false,true,false,true,true,false,false,true,false,true,false,true,true,false],\"y\":[0.1009141255289719,0.14970716425679742,0.04915473252420418,0.08182531617157662,0.02798424620580291,0.1601185114146372,0.027984711307363037,0.0958698864807288,0.09535473245125423,0.07913479362338534,0.051117601265282295,0.027937030397700725,0.08031751524284368,0.027979684977858753],\"type\":\"scatter\",\"xaxis\":\"x4\",\"yaxis\":\"y4\"},{\"marker\":{\"color\":[0,1,2,3,4,5,6,7,8,9,10,11,12,13,14,15,16,17,18,19,20,21,22,23,24,25,26,27,28,29,30,31,32,33,34,35,36,37,38,39,40,41,42,43,44,45,46,47,48,49,50,51,52,53,54,55,56,57,58,59,60,61,62,63,64,65,66,67,68,69,70,71,72,73,74,75,76,77,78,79,80,81,82,83,84,85,86,87,88,89,90,91,92,93,94,95,96,97,98,99,100,101,102,103,104,105,106,107,108,109,110,111,112,113,114,115,116,117,118,119,120,121,122,123,124,125,126,127,128,129,130,131,132,133,134,135,136,137,138,139,140,141,142,143,144,145,146,147,148,149,150,151,152,153,154,155,156,157,158,159,160,161,162,163,164,165,166,167,168,169,170,171,172,173,174,175,176,177,178,179,180,181,182,183,184,185,186,187,188,189,190,191,192,193,194,195,196,197,198,199,200,201,202,203,204,205,206,207,208,209,210,211,212,213,214,215,216,217,218,219,220,221,222,223,224,225,226,227,228,229,230,231,232,233,234,235,236,237,238,239,240,241,242,243,244,245,246,247,248,249,250,251,252,253,254,255,256,257,258,259,260,261,262,263,264,265,266,267,268,269,270,271,272,273,274,275,276,277,278,279,280,281,282,283,284,285,286,287,288,289,290,291,292,293,294,295,296,297,298,299,300,301,302,303,304,305,306,307,308,309,310,311,312,313,314,315,316,317,318,319,320,321,322,323,324,325,326,327,328,329,330,331,332,333,334,335,336,337,338,339,340,341,342,343,344,345,346,347,348,349,350,351,352,353,354,355,356,357,358,359,360,361,362,363,364,365,366,367,368,369,370,371,372,373,374,375,376,377,378,379,380,381,382,383,384,385,386,387,388,389,390,391,392,393,394,395,396,397,398,399],\"colorbar\":{\"title\":{\"text\":\"Trial\"},\"x\":1.0,\"xpad\":40},\"colorscale\":[[0.0,\"rgb(247,251,255)\"],[0.125,\"rgb(222,235,247)\"],[0.25,\"rgb(198,219,239)\"],[0.375,\"rgb(158,202,225)\"],[0.5,\"rgb(107,174,214)\"],[0.625,\"rgb(66,146,198)\"],[0.75,\"rgb(33,113,181)\"],[0.875,\"rgb(8,81,156)\"],[1.0,\"rgb(8,48,107)\"]],\"line\":{\"color\":\"Grey\",\"width\":0.5},\"showscale\":false},\"mode\":\"markers\",\"name\":\"Feasible Trial\",\"showlegend\":false,\"x\":[20,315,315,371,61,15,72,199,222,339,484,481,496,412,416,386,436,450,150,270,430,459,476,500,380,367,362,294,396,348,261,431,441,445,327,432,398,459,307,364,149,439,410,427,463,403,435,415,468,38,483,440,419,445,381,347,497,405,477,211,476,452,459,460,483,487,487,488,461,477,499,456,458,486,468,471,487,105,472,500,496,451,470,485,490,479,500,480,428,469,484,481,483,488,447,423,477,3,488,468,444,498,488,477,478,235,452,466,465,436,474,489,173,278,462,450,490,492,467,465,439,477,489,500,493,500,457,469,475,453,492,500,499,498,469,493,492,494,500,462,477,484,482,483,490,480,499,470,459,487,500,490,479,481,490,478,487,472,448,489,103,464,500,482,459,471,490,481,470,491,455,478,500,481,464,476,486,492,444,319,465,479,475,500,491,499,499,500,486,488,500,474,484,484,490,482,492,500,474,482,469,461,492,481,457,475,484,462,460,468,474,483,490,481,469,455,491,480,491,464,479,484,492,474,472,500,187,446,472,462,483,482,491,492,492,500,483,484,492,485,500,478,475,488,291,468,479,491,464,479,491,500,476,353,454,488,469,483,483,466,475,250,58,457,485,477,489,491,464,492,474,500,484,468,456,451,466,476,467,483,434,472,491,444,481,145,393,458,458,447,462,472,461,476,483,452,467,488,475,491,468,483,477,457,489,467,490,441,479,472,492,460,480,492,451,483,475,500,464,485,472,500,485,464,490,474,431,454,490,478,466,481,445,481,470,459,493,479,500,472,484,459,30,491,471,219,337,422,482,493,464,451,116,500,480,471,485,475,489,465,482,454,378,493,440,500,474,486,463,476,490,467,480,448,500,485,460,475,490,469,482,493,457,473,500,483,466,275,492,479,482,491,476,500,494,499,500,486,500,484],\"y\":[0.24210313250899043,0.21439889925742628,0.2153931627376626,0.25219625464549644,0.10877291450955481,0.24016648914988262,0.24214892221158313,0.2462902672252141,0.21249163827289327,0.11326241066945449,0.25412337384301625,0.23704201992950288,0.25133987015690956,0.1009141255289719,0.2519266625256694,0.2098905209581845,0.2549177714744977,0.25224883608269877,0.21731482434155303,0.14970716425679742,0.2422316710417148,0.2535729140313231,0.24829542960405507,0.2539758828494,0.2544394346353343,0.2545039680330574,0.24745514253513837,0.25166614892846073,0.21815420807880087,0.21613205414777809,0.21576966935408545,0.2550205556140218,0.2549065222953144,0.25449406320762824,0.04915473252420418,0.2537032089961727,0.17641719333223987,0.24975846071878868,0.11560438296239021,0.21879214186046816,0.11333216582819518,0.25483159965229085,0.2549538466499489,0.25118685107146155,0.25442969194175113,0.2196313408609733,0.2549325872459559,0.2535280554921848,0.2116545816079394,0.21070789506111687,0.25400631985579225,0.25464870997288674,0.2531392350750803,0.2545553666710593,0.25390454697737064,0.08182531617157662,0.2513771412094966,0.10431836442259323,0.25651650863928127,0.2443200270367243,0.2062843455597966,0.25506975954781225,0.2551585160921683,0.25537419185016696,0.25593872613855323,0.255529857236875,0.255529857236875,0.25320578181184444,0.22025782691122187,0.11408947926430509,0.2545729236808261,0.2550620730102184,0.25464049775856673,0.2410713924404099,0.2561017698917566,0.02798424620580291,0.25227781521252535,0.2332947205463715,0.21447427692925447,0.255378989400365,0.22052512401547608,0.25428522450935304,0.2547364695908802,0.2554717722208029,0.25387848935278895,0.2560222492046997,0.10976179981681991,0.25479713964530754,0.2503960303712255,0.25314088013158653,0.25651169666918033,0.2560810322491041,0.25482238897778425,0.2559880469840295,0.24218335166112398,0.2548064818707082,0.1138310640266644,0.13494840369257036,0.1601185114146372,0.25421938128629856,0.2152029799907557,0.25386889665275003,0.2547965946226404,0.25651650863928127,0.25458767512361524,0.24942021629413105,0.25465322815404445,0.25629560659772893,0.10308327652243987,0.25402246200003287,0.24611894071690876,0.2564802293682277,0.24491029876907278,0.25192094849621327,0.25429567673239245,0.25154036437251054,0.2566559568397812,0.25628008941926483,0.25648621791618637,0.25459214062542157,0.21583670811244973,0.25470836632078514,0.2543235599032846,0.2566276053749877,0.2566104108459115,0.2129881386521494,0.11380060413608314,0.2550073992621175,0.25450017866473706,0.25473498136311357,0.027984711307363037,0.25633058811620996,0.2564525607768418,0.25518945467918447,0.2539421879444373,0.25640963146479306,0.24130845967063316,0.25579495085698517,0.25480637201309164,0.10789579109424015,0.2434208410801053,0.2564027421472705,0.2563310606109027,0.25471800610074535,0.25655158085938623,0.253984799036433,0.254529146868128,0.21473822105844792,0.2524935424192653,0.25349324097729964,0.21567200948417356,0.25669221242055673,0.2563247722792171,0.2539669047914716,0.25538080628758264,0.2550256518507873,0.2546790603552266,0.2546093638321591,0.2530207080737343,0.1139805176747847,0.23293878012086328,0.25632566093901316,0.25511471057363744,0.2563367012520633,0.2562517055309301,0.25461401181840676,0.0958698864807288,0.25489057613649246,0.2549741274964855,0.25498503410869494,0.25329770712713134,0.25669798926621284,0.25598660463490686,0.25471960534400434,0.2561590793040647,0.23922802332560417,0.25484929038421267,0.2543091904889344,0.21541505649005213,0.11591858315544921,0.2528306837007574,0.2554890025254965,0.24610469076697955,0.256383127072678,0.2544792962607106,0.2564197550180259,0.21360463760516996,0.2547803985415401,0.25578959391594563,0.25616758071895246,0.25491869101538883,0.25601685680513464,0.25657736355871774,0.254499996066317,0.2560779239957997,0.2544974757360935,0.2546894885156262,0.25589982080117074,0.2413341490448406,0.1292617229742211,0.2555008730857432,0.2566165916215631,0.2544255772022942,0.25677035105328766,0.2555442364235446,0.255069141811446,0.25404339678432647,0.2564810363295957,0.09535473245125423,0.25602466368854376,0.2552599414687786,0.25665200217621387,0.2549423159281884,0.2563809422277134,0.25618481695650636,0.25407973469676354,0.254473565916363,0.21590200496640866,0.25445023401761574,0.21508709621336697,0.25429986728352627,0.25633443394923044,0.25567797530930136,0.256368641064949,0.2554347736907773,0.25409124357243396,0.24801985141549465,0.11359565350881361,0.25486354965316776,0.2546075521645399,0.2534555149386933,0.2567273746708115,0.2564899836697047,0.2561894447603147,0.24785391432598078,0.2549599151833282,0.2546980104909946,0.2565942068078665,0.2553565378202989,0.25607218570005263,0.2547601687041968,0.2565059992617193,0.2562359421285735,0.254462778848397,0.25214498848724665,0.2563242055825412,0.2546141245515184,0.25557203129779427,0.2558874370754855,0.11297156451456708,0.2554452128891312,0.24238517248549143,0.256359607505551,0.07913479362338534,0.21502057521245285,0.25436900891973785,0.21700936026334722,0.2567372051195205,0.2543716866088722,0.2562987495225135,0.2549863412192411,0.249861144796412,0.21895213162664737,0.10383332213461885,0.2552263340646957,0.24954725398710492,0.25651421561587684,0.254852520934397,0.2556193749811918,0.2558902671925891,0.2544673572488202,0.2554297433164293,0.254552842354835,0.2566208437959673,0.2543869220344441,0.24211529950267988,0.20463676737923803,0.25596878069071705,0.25477842653043603,0.11297741642584724,0.22104116734721865,0.2561279461773885,0.2436669042461888,0.051117601265282295,0.2544027331901109,0.2422374113516271,0.2543741383176366,0.25660727552869694,0.25487430473294853,0.25515123953444874,0.25459375260734407,0.2549557371030931,0.25577641188957406,0.2539681411507315,0.10918439456112572,0.25636051297770035,0.2504360667706869,0.254544724422095,0.2122206024016797,0.2564918549887361,0.25491480486342144,0.2521535370893196,0.2560429727173319,0.25468362274536543,0.21829756852634455,0.2562112075067461,0.25500255089500184,0.2550567403682273,0.11476522448243744,0.25442940393107827,0.2542851604957435,0.2563858086854242,0.25444790743991824,0.027937030397700725,0.25505906503827913,0.25492221083731637,0.2560038043375778,0.2545425662669445,0.25554230480409956,0.2546104892737965,0.2534576186417102,0.21145117960288556,0.25455093611479473,0.25519041739653875,0.18704025161603766,0.25488110496677935,0.25397208310405617,0.2546009235091923,0.25450048881298687,0.25611455576750813,0.2521106272600551,0.2567152706869441,0.25447207586319504,0.25635948497991623,0.25477401045695786,0.24128154764429,0.2550961357955973,0.25480304922528835,0.1140277056860623,0.25512210501511395,0.25498960719993297,0.255293841154024,0.1954081621924403,0.08031751524284368,0.2199307929250833,0.24853308395240908,0.2537253142856203,0.22023370765885972,0.25548808730481026,0.254480660386288,0.25530776069609074,0.2555788833203808,0.24034739882514874,0.10706185645848745,0.25625890128925655,0.25570857166469263,0.25381860206431567,0.256170367254031,0.2546838216324943,0.2543073820461267,0.24556250991257655,0.2555224507246909,0.2514803258386324,0.25413300089391794,0.2534338872272784,0.24901959794412196,0.21662845674442566,0.11187131061494734,0.2560201289929274,0.21365684487180436,0.25500255089500184,0.2552022432828284,0.027979684977858753,0.25631034781006556,0.2553374117324153,0.2548919074728211,0.2545653515614148,0.2557540682425791,0.2543537141438922,0.25519516693572064,0.2547337483779982,0.2561217459770861,0.2549310949458265,0.23977669595284,0.11192179525108241,0.255226236357556,0.24695355514532766,0.2516689189395611,0.20299764202632045,0.26011709750288536,0.2505803921845236,0.2540070177419662,0.22185032712053007,0.25858348149656696,0.2543453581362134,0.12104566313852758,0.2587147858572456,0.25949906521438154,0.2556183269757614,0.2584001299129623],\"type\":\"scatter\",\"xaxis\":\"x5\",\"yaxis\":\"y5\"},{\"marker\":{\"color\":[0,1,2,3,4,5,6,7,8,9,10,11,12,13,14,15,16,17,18,19,20,21,22,23,24,25,26,27,28,29,30,31,32,33,34,35,36,37,38,39,40,41,42,43,44,45,46,47,48,49,50,51,52,53,54,55,56,57,58,59,60,61,62,63,64,65,66,67,68,69,70,71,72,73,74,75,76,77,78,79,80,81,82,83,84,85,86,87,88,89,90,91,92,93,94,95,96,97,98,99,100,101,102,103,104,105,106,107,108,109,110,111,112,113,114,115,116,117,118,119,120,121,122,123,124,125,126,127,128,129,130,131,132,133,134,135,136,137,138,139,140,141,142,143,144,145,146,147,148,149,150,151,152,153,154,155,156,157,158,159,160,161,162,163,164,165,166,167,168,169,170,171,172,173,174,175,176,177,178,179,180,181,182,183,184,185,186,187,188,189,190,191,192,193,194,195,196,197,198,199,200,201,202,203,204,205,206,207,208,209,210,211,212,213,214,215,216,217,218,219,220,221,222,223,224,225,226,227,228,229,230,231,232,233,234,235,236,237,238,239,240,241,242,243,244,245,246,247,248,249,250,251,252,253,254,255,256,257,258,259,260,261,262,263,264,265,266,267,268,269,270,271,272,273,274,275,276,277,278,279,280,281,282,283,284,285,286,287,288,289,290,291,292,293,294,295,296,297,298,299,300,301,302,303,304,305,306,307,308,309,310,311,312,313,314,315,316,317,318,319,320,321,322,323,324,325,326,327,328,329,330,331,332,333,334,335,336,337,338,339,340,341,342,343,344,345,346,347,348,349,350,351,352,353,354,355,356,357,358,359,360,361,362,363,364,365,366,367,368,369,370,371,372,373,374,375,376,377,378,379,380,381,382,383,384,385,386,387,388,389,390,391,392,393,394,395,396,397,398,399],\"colorbar\":{\"title\":{\"text\":\"Trial\"},\"x\":1.0,\"xpad\":40},\"colorscale\":[[0.0,\"rgb(247,251,255)\"],[0.125,\"rgb(222,235,247)\"],[0.25,\"rgb(198,219,239)\"],[0.375,\"rgb(158,202,225)\"],[0.5,\"rgb(107,174,214)\"],[0.625,\"rgb(66,146,198)\"],[0.75,\"rgb(33,113,181)\"],[0.875,\"rgb(8,81,156)\"],[1.0,\"rgb(8,48,107)\"]],\"line\":{\"color\":\"Grey\",\"width\":0.5},\"showscale\":false},\"mode\":\"markers\",\"name\":\"Feasible Trial\",\"showlegend\":false,\"x\":[\"jaccard\",\"asymmetric\",\"dice\",\"tanimoto\",\"asymmetric\",\"asymmetric\",\"tversky\",\"jaccard\",\"tversky\",\"cosine\",\"tanimoto\",\"tanimoto\",\"tanimoto\",\"euclidean\",\"tanimoto\",\"tanimoto\",\"tanimoto\",\"dice\",\"cosine\",\"euclidean\",\"tanimoto\",\"dice\",\"dice\",\"dice\",\"tanimoto\",\"tanimoto\",\"tanimoto\",\"tanimoto\",\"tanimoto\",\"jaccard\",\"tanimoto\",\"tanimoto\",\"tanimoto\",\"tanimoto\",\"euclidean\",\"tanimoto\",\"asymmetric\",\"tversky\",\"cosine\",\"jaccard\",\"asymmetric\",\"tanimoto\",\"tanimoto\",\"tanimoto\",\"tanimoto\",\"tversky\",\"tanimoto\",\"tanimoto\",\"tanimoto\",\"jaccard\",\"cosine\",\"tanimoto\",\"tanimoto\",\"tanimoto\",\"tanimoto\",\"euclidean\",\"tanimoto\",\"asymmetric\",\"tanimoto\",\"tversky\",\"tanimoto\",\"tanimoto\",\"tanimoto\",\"tanimoto\",\"tanimoto\",\"tanimoto\",\"tanimoto\",\"dice\",\"tanimoto\",\"cosine\",\"tanimoto\",\"tanimoto\",\"tanimoto\",\"tanimoto\",\"tanimoto\",\"euclidean\",\"tanimoto\",\"jaccard\",\"tanimoto\",\"tanimoto\",\"dice\",\"tanimoto\",\"tanimoto\",\"tanimoto\",\"tanimoto\",\"tanimoto\",\"asymmetric\",\"tanimoto\",\"tversky\",\"tanimoto\",\"tanimoto\",\"tanimoto\",\"tanimoto\",\"tanimoto\",\"tanimoto\",\"tanimoto\",\"cosine\",\"tanimoto\",\"euclidean\",\"jaccard\",\"tanimoto\",\"tanimoto\",\"tanimoto\",\"tanimoto\",\"tanimoto\",\"tanimoto\",\"tanimoto\",\"tanimoto\",\"asymmetric\",\"dice\",\"tanimoto\",\"tanimoto\",\"tanimoto\",\"tanimoto\",\"tanimoto\",\"tversky\",\"tanimoto\",\"tanimoto\",\"tanimoto\",\"tanimoto\",\"tanimoto\",\"tanimoto\",\"tanimoto\",\"tanimoto\",\"tanimoto\",\"tanimoto\",\"cosine\",\"tanimoto\",\"tanimoto\",\"jaccard\",\"euclidean\",\"tanimoto\",\"tanimoto\",\"tanimoto\",\"tanimoto\",\"tanimoto\",\"tanimoto\",\"tanimoto\",\"tanimoto\",\"asymmetric\",\"tanimoto\",\"tanimoto\",\"tanimoto\",\"tanimoto\",\"tanimoto\",\"dice\",\"tanimoto\",\"tanimoto\",\"tversky\",\"tanimoto\",\"tanimoto\",\"tanimoto\",\"tanimoto\",\"tanimoto\",\"tanimoto\",\"tanimoto\",\"tanimoto\",\"tanimoto\",\"tanimoto\",\"cosine\",\"tanimoto\",\"tanimoto\",\"tanimoto\",\"tanimoto\",\"tanimoto\",\"tanimoto\",\"euclidean\",\"tanimoto\",\"jaccard\",\"tanimoto\",\"tanimoto\",\"tanimoto\",\"tanimoto\",\"tanimoto\",\"tanimoto\",\"tanimoto\",\"tanimoto\",\"tanimoto\",\"tanimoto\",\"asymmetric\",\"dice\",\"tanimoto\",\"tanimoto\",\"tanimoto\",\"tanimoto\",\"tanimoto\",\"tanimoto\",\"tanimoto\",\"tversky\",\"tanimoto\",\"tanimoto\",\"tanimoto\",\"tanimoto\",\"tanimoto\",\"tanimoto\",\"tanimoto\",\"tanimoto\",\"tanimoto\",\"tanimoto\",\"cosine\",\"tanimoto\",\"tanimoto\",\"tanimoto\",\"tanimoto\",\"tanimoto\",\"tanimoto\",\"tanimoto\",\"tanimoto\",\"euclidean\",\"tanimoto\",\"jaccard\",\"tanimoto\",\"tanimoto\",\"tanimoto\",\"tanimoto\",\"tanimoto\",\"tanimoto\",\"tanimoto\",\"tanimoto\",\"tanimoto\",\"tanimoto\",\"tanimoto\",\"tanimoto\",\"tanimoto\",\"tanimoto\",\"tanimoto\",\"tanimoto\",\"asymmetric\",\"tanimoto\",\"tanimoto\",\"dice\",\"tanimoto\",\"tanimoto\",\"tanimoto\",\"tanimoto\",\"tanimoto\",\"tversky\",\"tanimoto\",\"tanimoto\",\"tanimoto\",\"tanimoto\",\"tanimoto\",\"tanimoto\",\"tanimoto\",\"tanimoto\",\"tanimoto\",\"tanimoto\",\"tanimoto\",\"tanimoto\",\"cosine\",\"tanimoto\",\"tanimoto\",\"tanimoto\",\"euclidean\",\"tanimoto\",\"tanimoto\",\"jaccard\",\"tanimoto\",\"tanimoto\",\"tanimoto\",\"tanimoto\",\"tanimoto\",\"tanimoto\",\"asymmetric\",\"tanimoto\",\"dice\",\"tanimoto\",\"tanimoto\",\"tanimoto\",\"tanimoto\",\"tversky\",\"tanimoto\",\"tanimoto\",\"tanimoto\",\"tanimoto\",\"tanimoto\",\"tanimoto\",\"tanimoto\",\"tanimoto\",\"cosine\",\"tanimoto\",\"tanimoto\",\"tanimoto\",\"euclidean\",\"tanimoto\",\"jaccard\",\"tanimoto\",\"tanimoto\",\"tanimoto\",\"tanimoto\",\"tanimoto\",\"tanimoto\",\"tanimoto\",\"tanimoto\",\"asymmetric\",\"tanimoto\",\"dice\",\"tanimoto\",\"tanimoto\",\"tanimoto\",\"tanimoto\",\"tversky\",\"tanimoto\",\"tanimoto\",\"tanimoto\",\"tanimoto\",\"tanimoto\",\"tanimoto\",\"cosine\",\"tanimoto\",\"tanimoto\",\"tanimoto\",\"tanimoto\",\"euclidean\",\"tanimoto\",\"jaccard\",\"tanimoto\",\"tanimoto\",\"tanimoto\",\"tanimoto\",\"tanimoto\",\"tanimoto\",\"tanimoto\",\"tanimoto\",\"asymmetric\",\"tanimoto\",\"dice\",\"tanimoto\",\"tanimoto\",\"tanimoto\",\"tversky\",\"tanimoto\",\"tanimoto\",\"tanimoto\",\"tanimoto\",\"tanimoto\",\"tanimoto\",\"tanimoto\",\"cosine\",\"tanimoto\",\"tanimoto\",\"tanimoto\",\"tanimoto\",\"euclidean\",\"tanimoto\",\"jaccard\",\"tanimoto\",\"tanimoto\",\"tanimoto\",\"tanimoto\",\"tanimoto\",\"tanimoto\",\"tanimoto\",\"asymmetric\",\"tanimoto\",\"tanimoto\",\"dice\",\"tanimoto\",\"tanimoto\",\"tversky\",\"tanimoto\",\"tanimoto\",\"tanimoto\",\"tanimoto\",\"tanimoto\",\"tanimoto\",\"tanimoto\",\"cosine\",\"tanimoto\",\"tanimoto\",\"tanimoto\",\"tanimoto\",\"euclidean\",\"tanimoto\",\"tanimoto\",\"jaccard\",\"tanimoto\",\"tanimoto\",\"tanimoto\",\"tanimoto\",\"tanimoto\",\"tanimoto\",\"tanimoto\",\"tanimoto\",\"asymmetric\",\"dice\",\"tanimoto\",\"tanimoto\",\"tanimoto\",\"tversky\",\"tanimoto\",\"tanimoto\",\"tversky\",\"tversky\",\"jaccard\",\"cosine\",\"tversky\",\"tversky\",\"tversky\",\"tversky\"],\"y\":[0.24210313250899043,0.21439889925742628,0.2153931627376626,0.25219625464549644,0.10877291450955481,0.24016648914988262,0.24214892221158313,0.2462902672252141,0.21249163827289327,0.11326241066945449,0.25412337384301625,0.23704201992950288,0.25133987015690956,0.1009141255289719,0.2519266625256694,0.2098905209581845,0.2549177714744977,0.25224883608269877,0.21731482434155303,0.14970716425679742,0.2422316710417148,0.2535729140313231,0.24829542960405507,0.2539758828494,0.2544394346353343,0.2545039680330574,0.24745514253513837,0.25166614892846073,0.21815420807880087,0.21613205414777809,0.21576966935408545,0.2550205556140218,0.2549065222953144,0.25449406320762824,0.04915473252420418,0.2537032089961727,0.17641719333223987,0.24975846071878868,0.11560438296239021,0.21879214186046816,0.11333216582819518,0.25483159965229085,0.2549538466499489,0.25118685107146155,0.25442969194175113,0.2196313408609733,0.2549325872459559,0.2535280554921848,0.2116545816079394,0.21070789506111687,0.25400631985579225,0.25464870997288674,0.2531392350750803,0.2545553666710593,0.25390454697737064,0.08182531617157662,0.2513771412094966,0.10431836442259323,0.25651650863928127,0.2443200270367243,0.2062843455597966,0.25506975954781225,0.2551585160921683,0.25537419185016696,0.25593872613855323,0.255529857236875,0.255529857236875,0.25320578181184444,0.22025782691122187,0.11408947926430509,0.2545729236808261,0.2550620730102184,0.25464049775856673,0.2410713924404099,0.2561017698917566,0.02798424620580291,0.25227781521252535,0.2332947205463715,0.21447427692925447,0.255378989400365,0.22052512401547608,0.25428522450935304,0.2547364695908802,0.2554717722208029,0.25387848935278895,0.2560222492046997,0.10976179981681991,0.25479713964530754,0.2503960303712255,0.25314088013158653,0.25651169666918033,0.2560810322491041,0.25482238897778425,0.2559880469840295,0.24218335166112398,0.2548064818707082,0.1138310640266644,0.13494840369257036,0.1601185114146372,0.25421938128629856,0.2152029799907557,0.25386889665275003,0.2547965946226404,0.25651650863928127,0.25458767512361524,0.24942021629413105,0.25465322815404445,0.25629560659772893,0.10308327652243987,0.25402246200003287,0.24611894071690876,0.2564802293682277,0.24491029876907278,0.25192094849621327,0.25429567673239245,0.25154036437251054,0.2566559568397812,0.25628008941926483,0.25648621791618637,0.25459214062542157,0.21583670811244973,0.25470836632078514,0.2543235599032846,0.2566276053749877,0.2566104108459115,0.2129881386521494,0.11380060413608314,0.2550073992621175,0.25450017866473706,0.25473498136311357,0.027984711307363037,0.25633058811620996,0.2564525607768418,0.25518945467918447,0.2539421879444373,0.25640963146479306,0.24130845967063316,0.25579495085698517,0.25480637201309164,0.10789579109424015,0.2434208410801053,0.2564027421472705,0.2563310606109027,0.25471800610074535,0.25655158085938623,0.253984799036433,0.254529146868128,0.21473822105844792,0.2524935424192653,0.25349324097729964,0.21567200948417356,0.25669221242055673,0.2563247722792171,0.2539669047914716,0.25538080628758264,0.2550256518507873,0.2546790603552266,0.2546093638321591,0.2530207080737343,0.1139805176747847,0.23293878012086328,0.25632566093901316,0.25511471057363744,0.2563367012520633,0.2562517055309301,0.25461401181840676,0.0958698864807288,0.25489057613649246,0.2549741274964855,0.25498503410869494,0.25329770712713134,0.25669798926621284,0.25598660463490686,0.25471960534400434,0.2561590793040647,0.23922802332560417,0.25484929038421267,0.2543091904889344,0.21541505649005213,0.11591858315544921,0.2528306837007574,0.2554890025254965,0.24610469076697955,0.256383127072678,0.2544792962607106,0.2564197550180259,0.21360463760516996,0.2547803985415401,0.25578959391594563,0.25616758071895246,0.25491869101538883,0.25601685680513464,0.25657736355871774,0.254499996066317,0.2560779239957997,0.2544974757360935,0.2546894885156262,0.25589982080117074,0.2413341490448406,0.1292617229742211,0.2555008730857432,0.2566165916215631,0.2544255772022942,0.25677035105328766,0.2555442364235446,0.255069141811446,0.25404339678432647,0.2564810363295957,0.09535473245125423,0.25602466368854376,0.2552599414687786,0.25665200217621387,0.2549423159281884,0.2563809422277134,0.25618481695650636,0.25407973469676354,0.254473565916363,0.21590200496640866,0.25445023401761574,0.21508709621336697,0.25429986728352627,0.25633443394923044,0.25567797530930136,0.256368641064949,0.2554347736907773,0.25409124357243396,0.24801985141549465,0.11359565350881361,0.25486354965316776,0.2546075521645399,0.2534555149386933,0.2567273746708115,0.2564899836697047,0.2561894447603147,0.24785391432598078,0.2549599151833282,0.2546980104909946,0.2565942068078665,0.2553565378202989,0.25607218570005263,0.2547601687041968,0.2565059992617193,0.2562359421285735,0.254462778848397,0.25214498848724665,0.2563242055825412,0.2546141245515184,0.25557203129779427,0.2558874370754855,0.11297156451456708,0.2554452128891312,0.24238517248549143,0.256359607505551,0.07913479362338534,0.21502057521245285,0.25436900891973785,0.21700936026334722,0.2567372051195205,0.2543716866088722,0.2562987495225135,0.2549863412192411,0.249861144796412,0.21895213162664737,0.10383332213461885,0.2552263340646957,0.24954725398710492,0.25651421561587684,0.254852520934397,0.2556193749811918,0.2558902671925891,0.2544673572488202,0.2554297433164293,0.254552842354835,0.2566208437959673,0.2543869220344441,0.24211529950267988,0.20463676737923803,0.25596878069071705,0.25477842653043603,0.11297741642584724,0.22104116734721865,0.2561279461773885,0.2436669042461888,0.051117601265282295,0.2544027331901109,0.2422374113516271,0.2543741383176366,0.25660727552869694,0.25487430473294853,0.25515123953444874,0.25459375260734407,0.2549557371030931,0.25577641188957406,0.2539681411507315,0.10918439456112572,0.25636051297770035,0.2504360667706869,0.254544724422095,0.2122206024016797,0.2564918549887361,0.25491480486342144,0.2521535370893196,0.2560429727173319,0.25468362274536543,0.21829756852634455,0.2562112075067461,0.25500255089500184,0.2550567403682273,0.11476522448243744,0.25442940393107827,0.2542851604957435,0.2563858086854242,0.25444790743991824,0.027937030397700725,0.25505906503827913,0.25492221083731637,0.2560038043375778,0.2545425662669445,0.25554230480409956,0.2546104892737965,0.2534576186417102,0.21145117960288556,0.25455093611479473,0.25519041739653875,0.18704025161603766,0.25488110496677935,0.25397208310405617,0.2546009235091923,0.25450048881298687,0.25611455576750813,0.2521106272600551,0.2567152706869441,0.25447207586319504,0.25635948497991623,0.25477401045695786,0.24128154764429,0.2550961357955973,0.25480304922528835,0.1140277056860623,0.25512210501511395,0.25498960719993297,0.255293841154024,0.1954081621924403,0.08031751524284368,0.2199307929250833,0.24853308395240908,0.2537253142856203,0.22023370765885972,0.25548808730481026,0.254480660386288,0.25530776069609074,0.2555788833203808,0.24034739882514874,0.10706185645848745,0.25625890128925655,0.25570857166469263,0.25381860206431567,0.256170367254031,0.2546838216324943,0.2543073820461267,0.24556250991257655,0.2555224507246909,0.2514803258386324,0.25413300089391794,0.2534338872272784,0.24901959794412196,0.21662845674442566,0.11187131061494734,0.2560201289929274,0.21365684487180436,0.25500255089500184,0.2552022432828284,0.027979684977858753,0.25631034781006556,0.2553374117324153,0.2548919074728211,0.2545653515614148,0.2557540682425791,0.2543537141438922,0.25519516693572064,0.2547337483779982,0.2561217459770861,0.2549310949458265,0.23977669595284,0.11192179525108241,0.255226236357556,0.24695355514532766,0.2516689189395611,0.20299764202632045,0.26011709750288536,0.2505803921845236,0.2540070177419662,0.22185032712053007,0.25858348149656696,0.2543453581362134,0.12104566313852758,0.2587147858572456,0.25949906521438154,0.2556183269757614,0.2584001299129623],\"type\":\"scatter\",\"xaxis\":\"x6\",\"yaxis\":\"y6\"},{\"marker\":{\"color\":[13,19,34,55,75,98,130,166,208,253,283,313,343,372],\"colorbar\":{\"title\":{\"text\":\"Trial\"},\"x\":1.0,\"xpad\":40},\"colorscale\":[[0.0,\"rgb(247,251,255)\"],[0.125,\"rgb(222,235,247)\"],[0.25,\"rgb(198,219,239)\"],[0.375,\"rgb(158,202,225)\"],[0.5,\"rgb(107,174,214)\"],[0.625,\"rgb(66,146,198)\"],[0.75,\"rgb(33,113,181)\"],[0.875,\"rgb(8,81,156)\"],[1.0,\"rgb(8,48,107)\"]],\"line\":{\"color\":\"Grey\",\"width\":0.5},\"showscale\":false},\"mode\":\"markers\",\"name\":\"Feasible Trial\",\"showlegend\":false,\"x\":[\"log\",\"lin\",\"exp\",\"exp\",\"lin\",\"log\",\"lin\",\"log\",\"exp\",\"lin\",\"exp\",\"log\",\"exp\",\"lin\"],\"y\":[0.1009141255289719,0.14970716425679742,0.04915473252420418,0.08182531617157662,0.02798424620580291,0.1601185114146372,0.027984711307363037,0.0958698864807288,0.09535473245125423,0.07913479362338534,0.051117601265282295,0.027937030397700725,0.08031751524284368,0.027979684977858753],\"type\":\"scatter\",\"xaxis\":\"x7\",\"yaxis\":\"y7\"},{\"marker\":{\"color\":[0,1,2,3,4,5,6,7,8,9,10,11,12,13,14,15,16,17,18,19,20,21,22,23,24,25,26,27,28,29,30,31,32,33,34,35,36,37,38,39,40,41,42,43,44,45,46,47,48,49,50,51,52,53,54,55,56,57,58,59,60,61,62,63,64,65,66,67,68,69,70,71,72,73,74,75,76,77,78,79,80,81,82,83,84,85,86,87,88,89,90,91,92,93,94,95,96,97,98,99,100,101,102,103,104,105,106,107,108,109,110,111,112,113,114,115,116,117,118,119,120,121,122,123,124,125,126,127,128,129,130,131,132,133,134,135,136,137,138,139,140,141,142,143,144,145,146,147,148,149,150,151,152,153,154,155,156,157,158,159,160,161,162,163,164,165,166,167,168,169,170,171,172,173,174,175,176,177,178,179,180,181,182,183,184,185,186,187,188,189,190,191,192,193,194,195,196,197,198,199,200,201,202,203,204,205,206,207,208,209,210,211,212,213,214,215,216,217,218,219,220,221,222,223,224,225,226,227,228,229,230,231,232,233,234,235,236,237,238,239,240,241,242,243,244,245,246,247,248,249,250,251,252,253,254,255,256,257,258,259,260,261,262,263,264,265,266,267,268,269,270,271,272,273,274,275,276,277,278,279,280,281,282,283,284,285,286,287,288,289,290,291,292,293,294,295,296,297,298,299,300,301,302,303,304,305,306,307,308,309,310,311,312,313,314,315,316,317,318,319,320,321,322,323,324,325,326,327,328,329,330,331,332,333,334,335,336,337,338,339,340,341,342,343,344,345,346,347,348,349,350,351,352,353,354,355,356,357,358,359,360,361,362,363,364,365,366,367,368,369,370,371,372,373,374,375,376,377,378,379,380,381,382,383,384,385,386,387,388,389,390,391,392,393,394,395,396,397,398,399],\"colorbar\":{\"title\":{\"text\":\"Trial\"},\"x\":1.0,\"xpad\":40},\"colorscale\":[[0.0,\"rgb(247,251,255)\"],[0.125,\"rgb(222,235,247)\"],[0.25,\"rgb(198,219,239)\"],[0.375,\"rgb(158,202,225)\"],[0.5,\"rgb(107,174,214)\"],[0.625,\"rgb(66,146,198)\"],[0.75,\"rgb(33,113,181)\"],[0.875,\"rgb(8,81,156)\"],[1.0,\"rgb(8,48,107)\"]],\"line\":{\"color\":\"Grey\",\"width\":0.5},\"showscale\":false},\"mode\":\"markers\",\"name\":\"Feasible Trial\",\"showlegend\":false,\"x\":[1151,201,516,72,1102,1823,1179,1584,802,1049,82,10,423,502,48,782,288,354,711,271,1354,323,630,228,197,168,932,545,157,404,897,214,217,285,553,122,429,652,1993,189,1308,261,294,474,334,16,241,114,380,606,484,258,72,280,335,228,422,82,176,1704,743,150,149,144,160,138,138,129,21,163,79,155,133,12,168,81,373,162,203,60,60,114,318,212,47,198,1220,221,450,354,192,201,262,202,1491,297,203,395,202,105,243,43,95,176,317,194,261,181,1023,305,897,183,172,249,116,354,175,178,179,285,186,231,84,173,176,262,174,113,314,234,39,184,170,134,80,171,13,160,270,137,1126,179,169,102,177,239,63,227,295,349,134,172,168,106,214,155,265,97,51,192,136,178,229,170,193,264,106,230,152,294,70,172,180,131,187,1832,234,120,213,159,83,153,829,178,251,194,217,296,117,199,266,163,177,127,202,89,244,160,1490,44,207,178,126,175,158,227,110,183,273,198,137,182,232,180,197,101,252,154,325,205,73,171,151,192,212,129,249,181,226,281,129,175,192,162,685,102,229,182,140,202,252,186,171,129,215,174,95,145,195,230,141,1071,177,272,217,90,129,193,247,193,304,155,228,111,60,562,194,262,206,153,212,140,253,180,107,1339,1237,189,293,230,72,163,971,1983,128,199,245,178,111,162,287,220,160,84,131,187,34,248,325,183,219,142,190,268,102,186,217,149,128,244,75,186,276,160,218,113,166,224,189,119,53,354,278,151,784,239,196,95,315,147,208,172,127,169,236,1567,100,267,181,214,59,141,177,249,12,126,204,87,158,289,214,158,239,118,187,146,263,198,98,225,865,167,507,325,62,610,133,407,188,254,217,156,103,183,239,295,130,202,79,153,271,179,223,1732,124,167,746,217,1449,94,28,52,95,82,49,65,94,40,24,46],\"y\":[0.24210313250899043,0.21439889925742628,0.2153931627376626,0.25219625464549644,0.10877291450955481,0.24016648914988262,0.24214892221158313,0.2462902672252141,0.21249163827289327,0.11326241066945449,0.25412337384301625,0.23704201992950288,0.25133987015690956,0.1009141255289719,0.2519266625256694,0.2098905209581845,0.2549177714744977,0.25224883608269877,0.21731482434155303,0.14970716425679742,0.2422316710417148,0.2535729140313231,0.24829542960405507,0.2539758828494,0.2544394346353343,0.2545039680330574,0.24745514253513837,0.25166614892846073,0.21815420807880087,0.21613205414777809,0.21576966935408545,0.2550205556140218,0.2549065222953144,0.25449406320762824,0.04915473252420418,0.2537032089961727,0.17641719333223987,0.24975846071878868,0.11560438296239021,0.21879214186046816,0.11333216582819518,0.25483159965229085,0.2549538466499489,0.25118685107146155,0.25442969194175113,0.2196313408609733,0.2549325872459559,0.2535280554921848,0.2116545816079394,0.21070789506111687,0.25400631985579225,0.25464870997288674,0.2531392350750803,0.2545553666710593,0.25390454697737064,0.08182531617157662,0.2513771412094966,0.10431836442259323,0.25651650863928127,0.2443200270367243,0.2062843455597966,0.25506975954781225,0.2551585160921683,0.25537419185016696,0.25593872613855323,0.255529857236875,0.255529857236875,0.25320578181184444,0.22025782691122187,0.11408947926430509,0.2545729236808261,0.2550620730102184,0.25464049775856673,0.2410713924404099,0.2561017698917566,0.02798424620580291,0.25227781521252535,0.2332947205463715,0.21447427692925447,0.255378989400365,0.22052512401547608,0.25428522450935304,0.2547364695908802,0.2554717722208029,0.25387848935278895,0.2560222492046997,0.10976179981681991,0.25479713964530754,0.2503960303712255,0.25314088013158653,0.25651169666918033,0.2560810322491041,0.25482238897778425,0.2559880469840295,0.24218335166112398,0.2548064818707082,0.1138310640266644,0.13494840369257036,0.1601185114146372,0.25421938128629856,0.2152029799907557,0.25386889665275003,0.2547965946226404,0.25651650863928127,0.25458767512361524,0.24942021629413105,0.25465322815404445,0.25629560659772893,0.10308327652243987,0.25402246200003287,0.24611894071690876,0.2564802293682277,0.24491029876907278,0.25192094849621327,0.25429567673239245,0.25154036437251054,0.2566559568397812,0.25628008941926483,0.25648621791618637,0.25459214062542157,0.21583670811244973,0.25470836632078514,0.2543235599032846,0.2566276053749877,0.2566104108459115,0.2129881386521494,0.11380060413608314,0.2550073992621175,0.25450017866473706,0.25473498136311357,0.027984711307363037,0.25633058811620996,0.2564525607768418,0.25518945467918447,0.2539421879444373,0.25640963146479306,0.24130845967063316,0.25579495085698517,0.25480637201309164,0.10789579109424015,0.2434208410801053,0.2564027421472705,0.2563310606109027,0.25471800610074535,0.25655158085938623,0.253984799036433,0.254529146868128,0.21473822105844792,0.2524935424192653,0.25349324097729964,0.21567200948417356,0.25669221242055673,0.2563247722792171,0.2539669047914716,0.25538080628758264,0.2550256518507873,0.2546790603552266,0.2546093638321591,0.2530207080737343,0.1139805176747847,0.23293878012086328,0.25632566093901316,0.25511471057363744,0.2563367012520633,0.2562517055309301,0.25461401181840676,0.0958698864807288,0.25489057613649246,0.2549741274964855,0.25498503410869494,0.25329770712713134,0.25669798926621284,0.25598660463490686,0.25471960534400434,0.2561590793040647,0.23922802332560417,0.25484929038421267,0.2543091904889344,0.21541505649005213,0.11591858315544921,0.2528306837007574,0.2554890025254965,0.24610469076697955,0.256383127072678,0.2544792962607106,0.2564197550180259,0.21360463760516996,0.2547803985415401,0.25578959391594563,0.25616758071895246,0.25491869101538883,0.25601685680513464,0.25657736355871774,0.254499996066317,0.2560779239957997,0.2544974757360935,0.2546894885156262,0.25589982080117074,0.2413341490448406,0.1292617229742211,0.2555008730857432,0.2566165916215631,0.2544255772022942,0.25677035105328766,0.2555442364235446,0.255069141811446,0.25404339678432647,0.2564810363295957,0.09535473245125423,0.25602466368854376,0.2552599414687786,0.25665200217621387,0.2549423159281884,0.2563809422277134,0.25618481695650636,0.25407973469676354,0.254473565916363,0.21590200496640866,0.25445023401761574,0.21508709621336697,0.25429986728352627,0.25633443394923044,0.25567797530930136,0.256368641064949,0.2554347736907773,0.25409124357243396,0.24801985141549465,0.11359565350881361,0.25486354965316776,0.2546075521645399,0.2534555149386933,0.2567273746708115,0.2564899836697047,0.2561894447603147,0.24785391432598078,0.2549599151833282,0.2546980104909946,0.2565942068078665,0.2553565378202989,0.25607218570005263,0.2547601687041968,0.2565059992617193,0.2562359421285735,0.254462778848397,0.25214498848724665,0.2563242055825412,0.2546141245515184,0.25557203129779427,0.2558874370754855,0.11297156451456708,0.2554452128891312,0.24238517248549143,0.256359607505551,0.07913479362338534,0.21502057521245285,0.25436900891973785,0.21700936026334722,0.2567372051195205,0.2543716866088722,0.2562987495225135,0.2549863412192411,0.249861144796412,0.21895213162664737,0.10383332213461885,0.2552263340646957,0.24954725398710492,0.25651421561587684,0.254852520934397,0.2556193749811918,0.2558902671925891,0.2544673572488202,0.2554297433164293,0.254552842354835,0.2566208437959673,0.2543869220344441,0.24211529950267988,0.20463676737923803,0.25596878069071705,0.25477842653043603,0.11297741642584724,0.22104116734721865,0.2561279461773885,0.2436669042461888,0.051117601265282295,0.2544027331901109,0.2422374113516271,0.2543741383176366,0.25660727552869694,0.25487430473294853,0.25515123953444874,0.25459375260734407,0.2549557371030931,0.25577641188957406,0.2539681411507315,0.10918439456112572,0.25636051297770035,0.2504360667706869,0.254544724422095,0.2122206024016797,0.2564918549887361,0.25491480486342144,0.2521535370893196,0.2560429727173319,0.25468362274536543,0.21829756852634455,0.2562112075067461,0.25500255089500184,0.2550567403682273,0.11476522448243744,0.25442940393107827,0.2542851604957435,0.2563858086854242,0.25444790743991824,0.027937030397700725,0.25505906503827913,0.25492221083731637,0.2560038043375778,0.2545425662669445,0.25554230480409956,0.2546104892737965,0.2534576186417102,0.21145117960288556,0.25455093611479473,0.25519041739653875,0.18704025161603766,0.25488110496677935,0.25397208310405617,0.2546009235091923,0.25450048881298687,0.25611455576750813,0.2521106272600551,0.2567152706869441,0.25447207586319504,0.25635948497991623,0.25477401045695786,0.24128154764429,0.2550961357955973,0.25480304922528835,0.1140277056860623,0.25512210501511395,0.25498960719993297,0.255293841154024,0.1954081621924403,0.08031751524284368,0.2199307929250833,0.24853308395240908,0.2537253142856203,0.22023370765885972,0.25548808730481026,0.254480660386288,0.25530776069609074,0.2555788833203808,0.24034739882514874,0.10706185645848745,0.25625890128925655,0.25570857166469263,0.25381860206431567,0.256170367254031,0.2546838216324943,0.2543073820461267,0.24556250991257655,0.2555224507246909,0.2514803258386324,0.25413300089391794,0.2534338872272784,0.24901959794412196,0.21662845674442566,0.11187131061494734,0.2560201289929274,0.21365684487180436,0.25500255089500184,0.2552022432828284,0.027979684977858753,0.25631034781006556,0.2553374117324153,0.2548919074728211,0.2545653515614148,0.2557540682425791,0.2543537141438922,0.25519516693572064,0.2547337483779982,0.2561217459770861,0.2549310949458265,0.23977669595284,0.11192179525108241,0.255226236357556,0.24695355514532766,0.2516689189395611,0.20299764202632045,0.26011709750288536,0.2505803921845236,0.2540070177419662,0.22185032712053007,0.25858348149656696,0.2543453581362134,0.12104566313852758,0.2587147858572456,0.25949906521438154,0.2556183269757614,0.2584001299129623],\"type\":\"scatter\",\"xaxis\":\"x8\",\"yaxis\":\"y8\"},{\"marker\":{\"color\":[6,8,37,45,59,88,115,148,188,236,270,301,330,359,389,392,393,396,397,398,399],\"colorbar\":{\"title\":{\"text\":\"Trial\"},\"x\":1.0,\"xpad\":40},\"colorscale\":[[0.0,\"rgb(247,251,255)\"],[0.125,\"rgb(222,235,247)\"],[0.25,\"rgb(198,219,239)\"],[0.375,\"rgb(158,202,225)\"],[0.5,\"rgb(107,174,214)\"],[0.625,\"rgb(66,146,198)\"],[0.75,\"rgb(33,113,181)\"],[0.875,\"rgb(8,81,156)\"],[1.0,\"rgb(8,48,107)\"]],\"line\":{\"color\":\"Grey\",\"width\":0.5},\"showscale\":false},\"mode\":\"markers\",\"name\":\"Feasible Trial\",\"showlegend\":false,\"x\":[0.4897566409859815,0.16378247392380207,1.4832582786494466,1.9648763870589345,0.8649055236537295,1.0907932721589473,0.054659779213916515,1.9858323364543846,0.6689132519454695,1.2927047573882173,0.38971038629109134,0.8385892344630312,1.5878260551758319,1.0494741955366134,0.010077514527591758,0.04631170438968232,0.30647648903398306,0.2834493967673113,0.289864672166714,0.2772424985055316,0.31662666683024193],\"y\":[0.24214892221158313,0.21249163827289327,0.24975846071878868,0.2196313408609733,0.2443200270367243,0.2503960303712255,0.25154036437251054,0.2524935424192653,0.25578959391594563,0.2546980104909946,0.2544673572488202,0.2521535370893196,0.2521106272600551,0.2543073820461267,0.26011709750288536,0.22185032712053007,0.25858348149656696,0.2587147858572456,0.25949906521438154,0.2556183269757614,0.2584001299129623],\"type\":\"scatter\",\"xaxis\":\"x9\",\"yaxis\":\"y9\"},{\"marker\":{\"color\":[6,8,37,45,59,88,115,148,188,236,270,301,330,359,389,392,393,396,397,398,399],\"colorbar\":{\"title\":{\"text\":\"Trial\"},\"x\":1.0,\"xpad\":40},\"colorscale\":[[0.0,\"rgb(247,251,255)\"],[0.125,\"rgb(222,235,247)\"],[0.25,\"rgb(198,219,239)\"],[0.375,\"rgb(158,202,225)\"],[0.5,\"rgb(107,174,214)\"],[0.625,\"rgb(66,146,198)\"],[0.75,\"rgb(33,113,181)\"],[0.875,\"rgb(8,81,156)\"],[1.0,\"rgb(8,48,107)\"]],\"line\":{\"color\":\"Grey\",\"width\":0.5},\"showscale\":false},\"mode\":\"markers\",\"name\":\"Feasible Trial\",\"showlegend\":false,\"x\":[0.7311863515004013,2.9920458053168595,4.8760716273277005,0.03327399426334665,2.120955104868221,4.843845092886163,3.188564151557507,1.4751659900476277,3.768206420484977,1.9622849545757548,1.15142549269323,0.006961652171402655,2.6154199238200366,3.8024890735283208,1.6400961840323336,1.700889684959312,0.8482658698557943,1.1188604334084222,1.038442725483388,0.9514947093573511,0.8126779951794433],\"y\":[0.24214892221158313,0.21249163827289327,0.24975846071878868,0.2196313408609733,0.2443200270367243,0.2503960303712255,0.25154036437251054,0.2524935424192653,0.25578959391594563,0.2546980104909946,0.2544673572488202,0.2521535370893196,0.2521106272600551,0.2543073820461267,0.26011709750288536,0.22185032712053007,0.25858348149656696,0.2587147858572456,0.25949906521438154,0.2556183269757614,0.2584001299129623],\"type\":\"scatter\",\"xaxis\":\"x10\",\"yaxis\":\"y10\"}],                        {\"template\":{\"data\":{\"histogram2dcontour\":[{\"type\":\"histogram2dcontour\",\"colorbar\":{\"outlinewidth\":0,\"ticks\":\"\"},\"colorscale\":[[0.0,\"#0d0887\"],[0.1111111111111111,\"#46039f\"],[0.2222222222222222,\"#7201a8\"],[0.3333333333333333,\"#9c179e\"],[0.4444444444444444,\"#bd3786\"],[0.5555555555555556,\"#d8576b\"],[0.6666666666666666,\"#ed7953\"],[0.7777777777777778,\"#fb9f3a\"],[0.8888888888888888,\"#fdca26\"],[1.0,\"#f0f921\"]]}],\"choropleth\":[{\"type\":\"choropleth\",\"colorbar\":{\"outlinewidth\":0,\"ticks\":\"\"}}],\"histogram2d\":[{\"type\":\"histogram2d\",\"colorbar\":{\"outlinewidth\":0,\"ticks\":\"\"},\"colorscale\":[[0.0,\"#0d0887\"],[0.1111111111111111,\"#46039f\"],[0.2222222222222222,\"#7201a8\"],[0.3333333333333333,\"#9c179e\"],[0.4444444444444444,\"#bd3786\"],[0.5555555555555556,\"#d8576b\"],[0.6666666666666666,\"#ed7953\"],[0.7777777777777778,\"#fb9f3a\"],[0.8888888888888888,\"#fdca26\"],[1.0,\"#f0f921\"]]}],\"heatmap\":[{\"type\":\"heatmap\",\"colorbar\":{\"outlinewidth\":0,\"ticks\":\"\"},\"colorscale\":[[0.0,\"#0d0887\"],[0.1111111111111111,\"#46039f\"],[0.2222222222222222,\"#7201a8\"],[0.3333333333333333,\"#9c179e\"],[0.4444444444444444,\"#bd3786\"],[0.5555555555555556,\"#d8576b\"],[0.6666666666666666,\"#ed7953\"],[0.7777777777777778,\"#fb9f3a\"],[0.8888888888888888,\"#fdca26\"],[1.0,\"#f0f921\"]]}],\"heatmapgl\":[{\"type\":\"heatmapgl\",\"colorbar\":{\"outlinewidth\":0,\"ticks\":\"\"},\"colorscale\":[[0.0,\"#0d0887\"],[0.1111111111111111,\"#46039f\"],[0.2222222222222222,\"#7201a8\"],[0.3333333333333333,\"#9c179e\"],[0.4444444444444444,\"#bd3786\"],[0.5555555555555556,\"#d8576b\"],[0.6666666666666666,\"#ed7953\"],[0.7777777777777778,\"#fb9f3a\"],[0.8888888888888888,\"#fdca26\"],[1.0,\"#f0f921\"]]}],\"contourcarpet\":[{\"type\":\"contourcarpet\",\"colorbar\":{\"outlinewidth\":0,\"ticks\":\"\"}}],\"contour\":[{\"type\":\"contour\",\"colorbar\":{\"outlinewidth\":0,\"ticks\":\"\"},\"colorscale\":[[0.0,\"#0d0887\"],[0.1111111111111111,\"#46039f\"],[0.2222222222222222,\"#7201a8\"],[0.3333333333333333,\"#9c179e\"],[0.4444444444444444,\"#bd3786\"],[0.5555555555555556,\"#d8576b\"],[0.6666666666666666,\"#ed7953\"],[0.7777777777777778,\"#fb9f3a\"],[0.8888888888888888,\"#fdca26\"],[1.0,\"#f0f921\"]]}],\"surface\":[{\"type\":\"surface\",\"colorbar\":{\"outlinewidth\":0,\"ticks\":\"\"},\"colorscale\":[[0.0,\"#0d0887\"],[0.1111111111111111,\"#46039f\"],[0.2222222222222222,\"#7201a8\"],[0.3333333333333333,\"#9c179e\"],[0.4444444444444444,\"#bd3786\"],[0.5555555555555556,\"#d8576b\"],[0.6666666666666666,\"#ed7953\"],[0.7777777777777778,\"#fb9f3a\"],[0.8888888888888888,\"#fdca26\"],[1.0,\"#f0f921\"]]}],\"mesh3d\":[{\"type\":\"mesh3d\",\"colorbar\":{\"outlinewidth\":0,\"ticks\":\"\"}}],\"scatter\":[{\"fillpattern\":{\"fillmode\":\"overlay\",\"size\":10,\"solidity\":0.2},\"type\":\"scatter\"}],\"parcoords\":[{\"type\":\"parcoords\",\"line\":{\"colorbar\":{\"outlinewidth\":0,\"ticks\":\"\"}}}],\"scatterpolargl\":[{\"type\":\"scatterpolargl\",\"marker\":{\"colorbar\":{\"outlinewidth\":0,\"ticks\":\"\"}}}],\"bar\":[{\"error_x\":{\"color\":\"#2a3f5f\"},\"error_y\":{\"color\":\"#2a3f5f\"},\"marker\":{\"line\":{\"color\":\"#E5ECF6\",\"width\":0.5},\"pattern\":{\"fillmode\":\"overlay\",\"size\":10,\"solidity\":0.2}},\"type\":\"bar\"}],\"scattergeo\":[{\"type\":\"scattergeo\",\"marker\":{\"colorbar\":{\"outlinewidth\":0,\"ticks\":\"\"}}}],\"scatterpolar\":[{\"type\":\"scatterpolar\",\"marker\":{\"colorbar\":{\"outlinewidth\":0,\"ticks\":\"\"}}}],\"histogram\":[{\"marker\":{\"pattern\":{\"fillmode\":\"overlay\",\"size\":10,\"solidity\":0.2}},\"type\":\"histogram\"}],\"scattergl\":[{\"type\":\"scattergl\",\"marker\":{\"colorbar\":{\"outlinewidth\":0,\"ticks\":\"\"}}}],\"scatter3d\":[{\"type\":\"scatter3d\",\"line\":{\"colorbar\":{\"outlinewidth\":0,\"ticks\":\"\"}},\"marker\":{\"colorbar\":{\"outlinewidth\":0,\"ticks\":\"\"}}}],\"scattermapbox\":[{\"type\":\"scattermapbox\",\"marker\":{\"colorbar\":{\"outlinewidth\":0,\"ticks\":\"\"}}}],\"scatterternary\":[{\"type\":\"scatterternary\",\"marker\":{\"colorbar\":{\"outlinewidth\":0,\"ticks\":\"\"}}}],\"scattercarpet\":[{\"type\":\"scattercarpet\",\"marker\":{\"colorbar\":{\"outlinewidth\":0,\"ticks\":\"\"}}}],\"carpet\":[{\"aaxis\":{\"endlinecolor\":\"#2a3f5f\",\"gridcolor\":\"white\",\"linecolor\":\"white\",\"minorgridcolor\":\"white\",\"startlinecolor\":\"#2a3f5f\"},\"baxis\":{\"endlinecolor\":\"#2a3f5f\",\"gridcolor\":\"white\",\"linecolor\":\"white\",\"minorgridcolor\":\"white\",\"startlinecolor\":\"#2a3f5f\"},\"type\":\"carpet\"}],\"table\":[{\"cells\":{\"fill\":{\"color\":\"#EBF0F8\"},\"line\":{\"color\":\"white\"}},\"header\":{\"fill\":{\"color\":\"#C8D4E3\"},\"line\":{\"color\":\"white\"}},\"type\":\"table\"}],\"barpolar\":[{\"marker\":{\"line\":{\"color\":\"#E5ECF6\",\"width\":0.5},\"pattern\":{\"fillmode\":\"overlay\",\"size\":10,\"solidity\":0.2}},\"type\":\"barpolar\"}],\"pie\":[{\"automargin\":true,\"type\":\"pie\"}]},\"layout\":{\"autotypenumbers\":\"strict\",\"colorway\":[\"#636efa\",\"#EF553B\",\"#00cc96\",\"#ab63fa\",\"#FFA15A\",\"#19d3f3\",\"#FF6692\",\"#B6E880\",\"#FF97FF\",\"#FECB52\"],\"font\":{\"color\":\"#2a3f5f\"},\"hovermode\":\"closest\",\"hoverlabel\":{\"align\":\"left\"},\"paper_bgcolor\":\"white\",\"plot_bgcolor\":\"#E5ECF6\",\"polar\":{\"bgcolor\":\"#E5ECF6\",\"angularaxis\":{\"gridcolor\":\"white\",\"linecolor\":\"white\",\"ticks\":\"\"},\"radialaxis\":{\"gridcolor\":\"white\",\"linecolor\":\"white\",\"ticks\":\"\"}},\"ternary\":{\"bgcolor\":\"#E5ECF6\",\"aaxis\":{\"gridcolor\":\"white\",\"linecolor\":\"white\",\"ticks\":\"\"},\"baxis\":{\"gridcolor\":\"white\",\"linecolor\":\"white\",\"ticks\":\"\"},\"caxis\":{\"gridcolor\":\"white\",\"linecolor\":\"white\",\"ticks\":\"\"}},\"coloraxis\":{\"colorbar\":{\"outlinewidth\":0,\"ticks\":\"\"}},\"colorscale\":{\"sequential\":[[0.0,\"#0d0887\"],[0.1111111111111111,\"#46039f\"],[0.2222222222222222,\"#7201a8\"],[0.3333333333333333,\"#9c179e\"],[0.4444444444444444,\"#bd3786\"],[0.5555555555555556,\"#d8576b\"],[0.6666666666666666,\"#ed7953\"],[0.7777777777777778,\"#fb9f3a\"],[0.8888888888888888,\"#fdca26\"],[1.0,\"#f0f921\"]],\"sequentialminus\":[[0.0,\"#0d0887\"],[0.1111111111111111,\"#46039f\"],[0.2222222222222222,\"#7201a8\"],[0.3333333333333333,\"#9c179e\"],[0.4444444444444444,\"#bd3786\"],[0.5555555555555556,\"#d8576b\"],[0.6666666666666666,\"#ed7953\"],[0.7777777777777778,\"#fb9f3a\"],[0.8888888888888888,\"#fdca26\"],[1.0,\"#f0f921\"]],\"diverging\":[[0,\"#8e0152\"],[0.1,\"#c51b7d\"],[0.2,\"#de77ae\"],[0.3,\"#f1b6da\"],[0.4,\"#fde0ef\"],[0.5,\"#f7f7f7\"],[0.6,\"#e6f5d0\"],[0.7,\"#b8e186\"],[0.8,\"#7fbc41\"],[0.9,\"#4d9221\"],[1,\"#276419\"]]},\"xaxis\":{\"gridcolor\":\"white\",\"linecolor\":\"white\",\"ticks\":\"\",\"title\":{\"standoff\":15},\"zerolinecolor\":\"white\",\"automargin\":true,\"zerolinewidth\":2},\"yaxis\":{\"gridcolor\":\"white\",\"linecolor\":\"white\",\"ticks\":\"\",\"title\":{\"standoff\":15},\"zerolinecolor\":\"white\",\"automargin\":true,\"zerolinewidth\":2},\"scene\":{\"xaxis\":{\"backgroundcolor\":\"#E5ECF6\",\"gridcolor\":\"white\",\"linecolor\":\"white\",\"showbackground\":true,\"ticks\":\"\",\"zerolinecolor\":\"white\",\"gridwidth\":2},\"yaxis\":{\"backgroundcolor\":\"#E5ECF6\",\"gridcolor\":\"white\",\"linecolor\":\"white\",\"showbackground\":true,\"ticks\":\"\",\"zerolinecolor\":\"white\",\"gridwidth\":2},\"zaxis\":{\"backgroundcolor\":\"#E5ECF6\",\"gridcolor\":\"white\",\"linecolor\":\"white\",\"showbackground\":true,\"ticks\":\"\",\"zerolinecolor\":\"white\",\"gridwidth\":2}},\"shapedefaults\":{\"line\":{\"color\":\"#2a3f5f\"}},\"annotationdefaults\":{\"arrowcolor\":\"#2a3f5f\",\"arrowhead\":0,\"arrowwidth\":1},\"geo\":{\"bgcolor\":\"white\",\"landcolor\":\"#E5ECF6\",\"subunitcolor\":\"white\",\"showland\":true,\"showlakes\":true,\"lakecolor\":\"white\"},\"title\":{\"x\":0.05},\"mapbox\":{\"style\":\"light\"}}},\"xaxis\":{\"anchor\":\"y\",\"domain\":[0.0,0.082],\"title\":{\"text\":\"asymmetric_alpha\"}},\"yaxis\":{\"anchor\":\"x\",\"domain\":[0.0,1.0],\"title\":{\"text\":\"Objective Value\"}},\"xaxis2\":{\"anchor\":\"y2\",\"domain\":[0.10200000000000001,0.184],\"title\":{\"text\":\"feature_weighting\"},\"type\":\"category\",\"categoryorder\":\"array\",\"categoryarray\":[\"BM25\",\"TF-IDF\",\"none\"]},\"yaxis2\":{\"anchor\":\"x2\",\"domain\":[0.0,1.0],\"matches\":\"y\",\"showticklabels\":false},\"xaxis3\":{\"anchor\":\"y3\",\"domain\":[0.20400000000000001,0.28600000000000003],\"title\":{\"text\":\"normalize\"},\"type\":\"category\",\"categoryorder\":\"array\",\"categoryarray\":[true,false]},\"yaxis3\":{\"anchor\":\"x3\",\"domain\":[0.0,1.0],\"matches\":\"y\",\"showticklabels\":false},\"xaxis4\":{\"anchor\":\"y4\",\"domain\":[0.306,0.388],\"title\":{\"text\":\"normalize_avg_row\"},\"type\":\"category\",\"categoryorder\":\"array\",\"categoryarray\":[true,false]},\"yaxis4\":{\"anchor\":\"x4\",\"domain\":[0.0,1.0],\"matches\":\"y\",\"showticklabels\":false},\"xaxis5\":{\"anchor\":\"y5\",\"domain\":[0.40800000000000003,0.49000000000000005],\"title\":{\"text\":\"shrink\"}},\"yaxis5\":{\"anchor\":\"x5\",\"domain\":[0.0,1.0],\"matches\":\"y\",\"showticklabels\":false},\"xaxis6\":{\"anchor\":\"y6\",\"domain\":[0.51,0.592],\"title\":{\"text\":\"similarity\"},\"type\":\"category\",\"categoryorder\":\"array\",\"categoryarray\":[\"cosine\",\"asymmetric\",\"dice\",\"jaccard\",\"tanimoto\",\"tversky\",\"euclidean\"]},\"yaxis6\":{\"anchor\":\"x6\",\"domain\":[0.0,1.0],\"matches\":\"y\",\"showticklabels\":false},\"xaxis7\":{\"anchor\":\"y7\",\"domain\":[0.6120000000000001,0.6940000000000001],\"title\":{\"text\":\"similarity_from_distance_mode\"},\"type\":\"category\",\"categoryorder\":\"array\",\"categoryarray\":[\"lin\",\"log\",\"exp\"]},\"yaxis7\":{\"anchor\":\"x7\",\"domain\":[0.0,1.0],\"matches\":\"y\",\"showticklabels\":false},\"xaxis8\":{\"anchor\":\"y8\",\"domain\":[0.7140000000000001,0.796],\"title\":{\"text\":\"topK\"}},\"yaxis8\":{\"anchor\":\"x8\",\"domain\":[0.0,1.0],\"matches\":\"y\",\"showticklabels\":false},\"xaxis9\":{\"anchor\":\"y9\",\"domain\":[0.8160000000000001,0.898],\"title\":{\"text\":\"tversky_alpha\"}},\"yaxis9\":{\"anchor\":\"x9\",\"domain\":[0.0,1.0],\"matches\":\"y\",\"showticklabels\":false},\"xaxis10\":{\"anchor\":\"y10\",\"domain\":[0.9179999999999999,0.9999999999999999],\"title\":{\"text\":\"tversky_beta\"}},\"yaxis10\":{\"anchor\":\"x10\",\"domain\":[0.0,1.0],\"matches\":\"y\",\"showticklabels\":false},\"title\":{\"text\":\"Slice Plot\"},\"width\":3000},                        {\"responsive\": true}                    ).then(function(){\n",
       "                            \n",
       "var gd = document.getElementById('9c9e0b2f-a954-4cf0-a814-a58805c64e69');\n",
       "var x = new MutationObserver(function (mutations, observer) {{\n",
       "        var display = window.getComputedStyle(gd).display;\n",
       "        if (!display || display === 'none') {{\n",
       "            console.log([gd, 'removed!']);\n",
       "            Plotly.purge(gd);\n",
       "            observer.disconnect();\n",
       "        }}\n",
       "}});\n",
       "\n",
       "// Listen for the removal of the full notebook cells\n",
       "var notebookContainer = gd.closest('#notebook-container');\n",
       "if (notebookContainer) {{\n",
       "    x.observe(notebookContainer, {childList: true});\n",
       "}}\n",
       "\n",
       "// Listen for the clearing of the current output cell\n",
       "var outputEl = gd.closest('.output');\n",
       "if (outputEl) {{\n",
       "    x.observe(outputEl, {childList: true});\n",
       "}}\n",
       "\n",
       "                        })                };                });            </script>        </div>"
      ]
     },
     "metadata": {},
     "output_type": "display_data"
    }
   ],
   "source": [
    "if config['tune_parameters_knn']:\n",
    "    fig = optuna.visualization.plot_slice(study)\n",
    "    fig.show()"
   ]
  },
  {
   "cell_type": "code",
   "execution_count": 26,
   "id": "e692c081",
   "metadata": {
    "execution": {
     "iopub.execute_input": "2023-12-24T19:36:55.402496Z",
     "iopub.status.busy": "2023-12-24T19:36:55.402033Z",
     "iopub.status.idle": "2023-12-24T19:36:56.145640Z",
     "shell.execute_reply": "2023-12-24T19:36:56.144151Z"
    },
    "papermill": {
     "duration": 0.870739,
     "end_time": "2023-12-24T19:36:56.148788",
     "exception": false,
     "start_time": "2023-12-24T19:36:55.278049",
     "status": "completed"
    },
    "tags": []
   },
   "outputs": [],
   "source": [
    "if config['tune_parameters_knn']:\n",
    "    with open('/kaggle/working/best_params_item_knn_recall@50.json', 'w') as params_file:\n",
    "        json.dump(study.best_params, params_file)\n",
    "        \n",
    "    if config['save_github']:\n",
    "        upload_file(\n",
    "            '/kaggle/working/best_params_item_knn_recall@50.json', \n",
    "            'tuning_results/best_params_item_knn_recall@50.json', \n",
    "            'Item KNN tuning results with recall@50(from kaggle notebook)'\n",
    "        )\n",
    "elif config['copy_prev_best_params']:\n",
    "    shutil.copyfile(\n",
    "        '/kaggle/working/Recsys_Challenge_2023/tuning_results/best_params_item_knn_recall@50.json', \n",
    "        '/kaggle/working/best_params_item_knn_recall@50.json'\n",
    "    )"
   ]
  },
  {
   "cell_type": "code",
   "execution_count": 27,
   "id": "a9319b29",
   "metadata": {
    "execution": {
     "iopub.execute_input": "2023-12-24T19:36:56.412637Z",
     "iopub.status.busy": "2023-12-24T19:36:56.411950Z",
     "iopub.status.idle": "2023-12-24T19:36:57.559503Z",
     "shell.execute_reply": "2023-12-24T19:36:57.557676Z"
    },
    "papermill": {
     "duration": 1.286822,
     "end_time": "2023-12-24T19:36:57.562574",
     "exception": false,
     "start_time": "2023-12-24T19:36:56.275752",
     "status": "completed"
    },
    "tags": []
   },
   "outputs": [],
   "source": [
    "if config['save_github']:\n",
    "    upload_file(\n",
    "        config['database_path'], \n",
    "        'tuning_results/tuning_recall.db',\n",
    "        'Tuning db updated results (from kaggle notebook)'\n",
    "    )"
   ]
  },
  {
   "cell_type": "code",
   "execution_count": 28,
   "id": "994d1f74",
   "metadata": {
    "execution": {
     "iopub.execute_input": "2023-12-24T19:36:57.878898Z",
     "iopub.status.busy": "2023-12-24T19:36:57.878428Z",
     "iopub.status.idle": "2023-12-24T19:36:57.886555Z",
     "shell.execute_reply": "2023-12-24T19:36:57.885462Z"
    },
    "papermill": {
     "duration": 0.177042,
     "end_time": "2023-12-24T19:36:57.888568",
     "exception": false,
     "start_time": "2023-12-24T19:36:57.711526",
     "status": "completed"
    },
    "tags": []
   },
   "outputs": [
    {
     "data": {
      "text/plain": [
       "{'alpha': 0.2139985499567939,\n",
       " 'beta': 0.2194371742883361,\n",
       " 'topK': 154,\n",
       " 'implicit': True,\n",
       " 'normalize_similarity': True}"
      ]
     },
     "execution_count": 28,
     "metadata": {},
     "output_type": "execute_result"
    }
   ],
   "source": [
    "with open('/kaggle/working/best_params_rp3_recall@50.json', 'r') as params_file:\n",
    "    params_rp3 = json.load(params_file)\n",
    "params_rp3['implicit'] = True\n",
    "params_rp3['normalize_similarity'] = True\n",
    "params_rp3"
   ]
  },
  {
   "cell_type": "code",
   "execution_count": 29,
   "id": "ddeb95bc",
   "metadata": {
    "execution": {
     "iopub.execute_input": "2023-12-24T19:36:58.239095Z",
     "iopub.status.busy": "2023-12-24T19:36:58.238708Z",
     "iopub.status.idle": "2023-12-24T19:36:58.246236Z",
     "shell.execute_reply": "2023-12-24T19:36:58.244395Z"
    },
    "papermill": {
     "duration": 0.136169,
     "end_time": "2023-12-24T19:36:58.248626",
     "exception": false,
     "start_time": "2023-12-24T19:36:58.112457",
     "status": "completed"
    },
    "tags": []
   },
   "outputs": [
    {
     "data": {
      "text/plain": [
       "{'topK': 94,\n",
       " 'shrink': 479,\n",
       " 'similarity': 'tversky',\n",
       " 'feature_weighting': 'BM25',\n",
       " 'tversky_alpha': 0.010077514527591758,\n",
       " 'tversky_beta': 1.6400961840323336}"
      ]
     },
     "execution_count": 29,
     "metadata": {},
     "output_type": "execute_result"
    }
   ],
   "source": [
    "with open('/kaggle/working/best_params_item_knn_recall@50.json', 'r') as params_file:\n",
    "    params_knn = json.load(params_file)\n",
    "params_knn"
   ]
  },
  {
   "cell_type": "code",
   "execution_count": 30,
   "id": "58ee9d35",
   "metadata": {
    "execution": {
     "iopub.execute_input": "2023-12-24T19:36:58.504135Z",
     "iopub.status.busy": "2023-12-24T19:36:58.503667Z",
     "iopub.status.idle": "2023-12-24T19:37:14.622597Z",
     "shell.execute_reply": "2023-12-24T19:37:14.619645Z"
    },
    "papermill": {
     "duration": 16.252463,
     "end_time": "2023-12-24T19:37:14.625852",
     "exception": false,
     "start_time": "2023-12-24T19:36:58.373389",
     "status": "completed"
    },
    "tags": []
   },
   "outputs": [
    {
     "name": "stdout",
     "output_type": "stream",
     "text": [
      "SLIMElasticNetRecommender: URM Detected 627 ( 4.8%) users with no interactions.\n",
      "SLIMElasticNetRecommender: URM Detected 247 ( 1.1%) items with no interactions.\n",
      "SLIMElasticNetRecommender: Loading model from file '/kaggle/working/slim_recall_train_validation.zip'\n",
      "SLIMElasticNetRecommender: Loading complete\n",
      "RP3betaRecommender: URM Detected 627 ( 4.8%) users with no interactions.\n",
      "RP3betaRecommender: URM Detected 247 ( 1.1%) items with no interactions.\n",
      "RP3betaRecommender: Similarity column 22347 (100.0%), 2677.97 column/sec. Elapsed time 8.34 sec\n",
      "ItemKNNCFRecommender: URM Detected 627 ( 4.8%) users with no interactions.\n",
      "ItemKNNCFRecommender: URM Detected 247 ( 1.1%) items with no interactions.\n",
      "Similarity column 22347 (100.0%), 6565.51 column/sec. Elapsed time 3.40 sec\n"
     ]
    }
   ],
   "source": [
    "slim = SLIMElasticNetRecommender(URM_train)\n",
    "slim.load_model('/kaggle/working/', 'slim_recall_train_validation.zip')\n",
    "\n",
    "rp3 = RP3betaRecommender(URM_train)\n",
    "rp3.fit(**params_rp3)\n",
    "\n",
    "knn = ItemKNNCFRecommender(URM_train)\n",
    "knn.fit(**params_knn)"
   ]
  },
  {
   "cell_type": "code",
   "execution_count": 31,
   "id": "c3289f35",
   "metadata": {
    "execution": {
     "iopub.execute_input": "2023-12-24T19:37:14.895230Z",
     "iopub.status.busy": "2023-12-24T19:37:14.894771Z",
     "iopub.status.idle": "2023-12-24T19:38:10.337635Z",
     "shell.execute_reply": "2023-12-24T19:38:10.336262Z"
    },
    "papermill": {
     "duration": 55.571596,
     "end_time": "2023-12-24T19:38:10.340233",
     "exception": false,
     "start_time": "2023-12-24T19:37:14.768637",
     "status": "completed"
    },
    "tags": []
   },
   "outputs": [
    {
     "name": "stdout",
     "output_type": "stream",
     "text": [
      "EvaluatorHoldout: Ignoring 2568 (19.7%) Users that have less than 1 test interactions\n",
      "EvaluatorHoldout: Processed 10456 (100.0%) in 20.55 sec. Users per second: 509\n"
     ]
    },
    {
     "data": {
      "text/html": [
       "<div>\n",
       "<style scoped>\n",
       "    .dataframe tbody tr th:only-of-type {\n",
       "        vertical-align: middle;\n",
       "    }\n",
       "\n",
       "    .dataframe tbody tr th {\n",
       "        vertical-align: top;\n",
       "    }\n",
       "\n",
       "    .dataframe thead th {\n",
       "        text-align: right;\n",
       "    }\n",
       "</style>\n",
       "<table border=\"1\" class=\"dataframe\">\n",
       "  <thead>\n",
       "    <tr style=\"text-align: right;\">\n",
       "      <th></th>\n",
       "      <th>PRECISION</th>\n",
       "      <th>PRECISION_RECALL_MIN_DEN</th>\n",
       "      <th>RECALL</th>\n",
       "      <th>MAP</th>\n",
       "      <th>MAP_MIN_DEN</th>\n",
       "      <th>MRR</th>\n",
       "      <th>NDCG</th>\n",
       "      <th>F1</th>\n",
       "      <th>HIT_RATE</th>\n",
       "      <th>ARHR_ALL_HITS</th>\n",
       "      <th>...</th>\n",
       "      <th>COVERAGE_USER</th>\n",
       "      <th>COVERAGE_USER_HIT</th>\n",
       "      <th>USERS_IN_GT</th>\n",
       "      <th>DIVERSITY_GINI</th>\n",
       "      <th>SHANNON_ENTROPY</th>\n",
       "      <th>RATIO_DIVERSITY_HERFINDAHL</th>\n",
       "      <th>RATIO_DIVERSITY_GINI</th>\n",
       "      <th>RATIO_SHANNON_ENTROPY</th>\n",
       "      <th>RATIO_AVERAGE_POPULARITY</th>\n",
       "      <th>RATIO_NOVELTY</th>\n",
       "    </tr>\n",
       "    <tr>\n",
       "      <th>cutoff</th>\n",
       "      <th></th>\n",
       "      <th></th>\n",
       "      <th></th>\n",
       "      <th></th>\n",
       "      <th></th>\n",
       "      <th></th>\n",
       "      <th></th>\n",
       "      <th></th>\n",
       "      <th></th>\n",
       "      <th></th>\n",
       "      <th></th>\n",
       "      <th></th>\n",
       "      <th></th>\n",
       "      <th></th>\n",
       "      <th></th>\n",
       "      <th></th>\n",
       "      <th></th>\n",
       "      <th></th>\n",
       "      <th></th>\n",
       "      <th></th>\n",
       "      <th></th>\n",
       "    </tr>\n",
       "  </thead>\n",
       "  <tbody>\n",
       "    <tr>\n",
       "      <th>10</th>\n",
       "      <td>0.090838</td>\n",
       "      <td>0.159452</td>\n",
       "      <td>0.135748</td>\n",
       "      <td>0.046138</td>\n",
       "      <td>0.08011</td>\n",
       "      <td>0.266824</td>\n",
       "      <td>0.145528</td>\n",
       "      <td>0.108842</td>\n",
       "      <td>0.513676</td>\n",
       "      <td>0.347613</td>\n",
       "      <td>...</td>\n",
       "      <td>0.802826</td>\n",
       "      <td>0.412393</td>\n",
       "      <td>0.802826</td>\n",
       "      <td>0.025451</td>\n",
       "      <td>9.136736</td>\n",
       "      <td>0.99532</td>\n",
       "      <td>0.073435</td>\n",
       "      <td>0.703859</td>\n",
       "      <td>2.491186</td>\n",
       "      <td>0.277515</td>\n",
       "    </tr>\n",
       "    <tr>\n",
       "      <th>50</th>\n",
       "      <td>0.04328</td>\n",
       "      <td>0.276664</td>\n",
       "      <td>0.275857</td>\n",
       "      <td>0.013338</td>\n",
       "      <td>0.083426</td>\n",
       "      <td>0.276563</td>\n",
       "      <td>0.18455</td>\n",
       "      <td>0.074822</td>\n",
       "      <td>0.703615</td>\n",
       "      <td>0.403729</td>\n",
       "      <td>...</td>\n",
       "      <td>0.802826</td>\n",
       "      <td>0.56488</td>\n",
       "      <td>0.802826</td>\n",
       "      <td>0.056744</td>\n",
       "      <td>10.29789</td>\n",
       "      <td>0.998208</td>\n",
       "      <td>0.163729</td>\n",
       "      <td>0.793309</td>\n",
       "      <td>1.831304</td>\n",
       "      <td>1.460054</td>\n",
       "    </tr>\n",
       "    <tr>\n",
       "      <th>100</th>\n",
       "      <td>0.029097</td>\n",
       "      <td>0.346429</td>\n",
       "      <td>0.346349</td>\n",
       "      <td>0.007379</td>\n",
       "      <td>0.08698</td>\n",
       "      <td>0.277285</td>\n",
       "      <td>0.206773</td>\n",
       "      <td>0.053684</td>\n",
       "      <td>0.75306</td>\n",
       "      <td>0.414268</td>\n",
       "      <td>...</td>\n",
       "      <td>0.802826</td>\n",
       "      <td>0.604576</td>\n",
       "      <td>0.802826</td>\n",
       "      <td>0.086735</td>\n",
       "      <td>10.927168</td>\n",
       "      <td>0.99905</td>\n",
       "      <td>0.250266</td>\n",
       "      <td>0.841786</td>\n",
       "      <td>1.478013</td>\n",
       "      <td>3.01804</td>\n",
       "    </tr>\n",
       "  </tbody>\n",
       "</table>\n",
       "<p>3 rows × 27 columns</p>\n",
       "</div>"
      ],
      "text/plain": [
       "       PRECISION PRECISION_RECALL_MIN_DEN    RECALL       MAP MAP_MIN_DEN  \\\n",
       "cutoff                                                                      \n",
       "10      0.090838                 0.159452  0.135748  0.046138     0.08011   \n",
       "50       0.04328                 0.276664  0.275857  0.013338    0.083426   \n",
       "100     0.029097                 0.346429  0.346349  0.007379     0.08698   \n",
       "\n",
       "             MRR      NDCG        F1  HIT_RATE ARHR_ALL_HITS  ...  \\\n",
       "cutoff                                                        ...   \n",
       "10      0.266824  0.145528  0.108842  0.513676      0.347613  ...   \n",
       "50      0.276563   0.18455  0.074822  0.703615      0.403729  ...   \n",
       "100     0.277285  0.206773  0.053684   0.75306      0.414268  ...   \n",
       "\n",
       "       COVERAGE_USER COVERAGE_USER_HIT USERS_IN_GT DIVERSITY_GINI  \\\n",
       "cutoff                                                              \n",
       "10          0.802826          0.412393    0.802826       0.025451   \n",
       "50          0.802826           0.56488    0.802826       0.056744   \n",
       "100         0.802826          0.604576    0.802826       0.086735   \n",
       "\n",
       "       SHANNON_ENTROPY RATIO_DIVERSITY_HERFINDAHL RATIO_DIVERSITY_GINI  \\\n",
       "cutoff                                                                   \n",
       "10            9.136736                    0.99532             0.073435   \n",
       "50            10.29789                   0.998208             0.163729   \n",
       "100          10.927168                    0.99905             0.250266   \n",
       "\n",
       "       RATIO_SHANNON_ENTROPY RATIO_AVERAGE_POPULARITY RATIO_NOVELTY  \n",
       "cutoff                                                               \n",
       "10                  0.703859                 2.491186      0.277515  \n",
       "50                  0.793309                 1.831304      1.460054  \n",
       "100                 0.841786                 1.478013       3.01804  \n",
       "\n",
       "[3 rows x 27 columns]"
      ]
     },
     "metadata": {},
     "output_type": "display_data"
    },
    {
     "name": "stdout",
     "output_type": "stream",
     "text": [
      "EvaluatorHoldout: Processed 10456 (100.0%) in 14.85 sec. Users per second: 704\n"
     ]
    },
    {
     "data": {
      "text/html": [
       "<div>\n",
       "<style scoped>\n",
       "    .dataframe tbody tr th:only-of-type {\n",
       "        vertical-align: middle;\n",
       "    }\n",
       "\n",
       "    .dataframe tbody tr th {\n",
       "        vertical-align: top;\n",
       "    }\n",
       "\n",
       "    .dataframe thead th {\n",
       "        text-align: right;\n",
       "    }\n",
       "</style>\n",
       "<table border=\"1\" class=\"dataframe\">\n",
       "  <thead>\n",
       "    <tr style=\"text-align: right;\">\n",
       "      <th></th>\n",
       "      <th>PRECISION</th>\n",
       "      <th>PRECISION_RECALL_MIN_DEN</th>\n",
       "      <th>RECALL</th>\n",
       "      <th>MAP</th>\n",
       "      <th>MAP_MIN_DEN</th>\n",
       "      <th>MRR</th>\n",
       "      <th>NDCG</th>\n",
       "      <th>F1</th>\n",
       "      <th>HIT_RATE</th>\n",
       "      <th>ARHR_ALL_HITS</th>\n",
       "      <th>...</th>\n",
       "      <th>COVERAGE_USER</th>\n",
       "      <th>COVERAGE_USER_HIT</th>\n",
       "      <th>USERS_IN_GT</th>\n",
       "      <th>DIVERSITY_GINI</th>\n",
       "      <th>SHANNON_ENTROPY</th>\n",
       "      <th>RATIO_DIVERSITY_HERFINDAHL</th>\n",
       "      <th>RATIO_DIVERSITY_GINI</th>\n",
       "      <th>RATIO_SHANNON_ENTROPY</th>\n",
       "      <th>RATIO_AVERAGE_POPULARITY</th>\n",
       "      <th>RATIO_NOVELTY</th>\n",
       "    </tr>\n",
       "    <tr>\n",
       "      <th>cutoff</th>\n",
       "      <th></th>\n",
       "      <th></th>\n",
       "      <th></th>\n",
       "      <th></th>\n",
       "      <th></th>\n",
       "      <th></th>\n",
       "      <th></th>\n",
       "      <th></th>\n",
       "      <th></th>\n",
       "      <th></th>\n",
       "      <th></th>\n",
       "      <th></th>\n",
       "      <th></th>\n",
       "      <th></th>\n",
       "      <th></th>\n",
       "      <th></th>\n",
       "      <th></th>\n",
       "      <th></th>\n",
       "      <th></th>\n",
       "      <th></th>\n",
       "      <th></th>\n",
       "    </tr>\n",
       "  </thead>\n",
       "  <tbody>\n",
       "    <tr>\n",
       "      <th>10</th>\n",
       "      <td>0.088227</td>\n",
       "      <td>0.156875</td>\n",
       "      <td>0.133564</td>\n",
       "      <td>0.042917</td>\n",
       "      <td>0.075914</td>\n",
       "      <td>0.249399</td>\n",
       "      <td>0.139358</td>\n",
       "      <td>0.106262</td>\n",
       "      <td>0.508225</td>\n",
       "      <td>0.323788</td>\n",
       "      <td>...</td>\n",
       "      <td>0.802826</td>\n",
       "      <td>0.408016</td>\n",
       "      <td>0.802826</td>\n",
       "      <td>0.054732</td>\n",
       "      <td>9.60608</td>\n",
       "      <td>0.994165</td>\n",
       "      <td>0.157924</td>\n",
       "      <td>0.740015</td>\n",
       "      <td>2.499054</td>\n",
       "      <td>0.288198</td>\n",
       "    </tr>\n",
       "    <tr>\n",
       "      <th>50</th>\n",
       "      <td>0.043747</td>\n",
       "      <td>0.276135</td>\n",
       "      <td>0.27527</td>\n",
       "      <td>0.012928</td>\n",
       "      <td>0.080218</td>\n",
       "      <td>0.259436</td>\n",
       "      <td>0.180421</td>\n",
       "      <td>0.075496</td>\n",
       "      <td>0.703041</td>\n",
       "      <td>0.382018</td>\n",
       "      <td>...</td>\n",
       "      <td>0.802826</td>\n",
       "      <td>0.56442</td>\n",
       "      <td>0.802826</td>\n",
       "      <td>0.151269</td>\n",
       "      <td>11.323067</td>\n",
       "      <td>0.998756</td>\n",
       "      <td>0.436471</td>\n",
       "      <td>0.872285</td>\n",
       "      <td>1.529838</td>\n",
       "      <td>1.566582</td>\n",
       "    </tr>\n",
       "    <tr>\n",
       "      <th>100</th>\n",
       "      <td>0.029328</td>\n",
       "      <td>0.339721</td>\n",
       "      <td>0.339623</td>\n",
       "      <td>0.007227</td>\n",
       "      <td>0.083738</td>\n",
       "      <td>0.260032</td>\n",
       "      <td>0.201471</td>\n",
       "      <td>0.053993</td>\n",
       "      <td>0.744357</td>\n",
       "      <td>0.392603</td>\n",
       "      <td>...</td>\n",
       "      <td>0.802826</td>\n",
       "      <td>0.597589</td>\n",
       "      <td>0.802826</td>\n",
       "      <td>0.231205</td>\n",
       "      <td>12.10715</td>\n",
       "      <td>0.999538</td>\n",
       "      <td>0.667118</td>\n",
       "      <td>0.932688</td>\n",
       "      <td>1.145201</td>\n",
       "      <td>3.290909</td>\n",
       "    </tr>\n",
       "  </tbody>\n",
       "</table>\n",
       "<p>3 rows × 27 columns</p>\n",
       "</div>"
      ],
      "text/plain": [
       "       PRECISION PRECISION_RECALL_MIN_DEN    RECALL       MAP MAP_MIN_DEN  \\\n",
       "cutoff                                                                      \n",
       "10      0.088227                 0.156875  0.133564  0.042917    0.075914   \n",
       "50      0.043747                 0.276135   0.27527  0.012928    0.080218   \n",
       "100     0.029328                 0.339721  0.339623  0.007227    0.083738   \n",
       "\n",
       "             MRR      NDCG        F1  HIT_RATE ARHR_ALL_HITS  ...  \\\n",
       "cutoff                                                        ...   \n",
       "10      0.249399  0.139358  0.106262  0.508225      0.323788  ...   \n",
       "50      0.259436  0.180421  0.075496  0.703041      0.382018  ...   \n",
       "100     0.260032  0.201471  0.053993  0.744357      0.392603  ...   \n",
       "\n",
       "       COVERAGE_USER COVERAGE_USER_HIT USERS_IN_GT DIVERSITY_GINI  \\\n",
       "cutoff                                                              \n",
       "10          0.802826          0.408016    0.802826       0.054732   \n",
       "50          0.802826           0.56442    0.802826       0.151269   \n",
       "100         0.802826          0.597589    0.802826       0.231205   \n",
       "\n",
       "       SHANNON_ENTROPY RATIO_DIVERSITY_HERFINDAHL RATIO_DIVERSITY_GINI  \\\n",
       "cutoff                                                                   \n",
       "10             9.60608                   0.994165             0.157924   \n",
       "50           11.323067                   0.998756             0.436471   \n",
       "100           12.10715                   0.999538             0.667118   \n",
       "\n",
       "       RATIO_SHANNON_ENTROPY RATIO_AVERAGE_POPULARITY RATIO_NOVELTY  \n",
       "cutoff                                                               \n",
       "10                  0.740015                 2.499054      0.288198  \n",
       "50                  0.872285                 1.529838      1.566582  \n",
       "100                 0.932688                 1.145201      3.290909  \n",
       "\n",
       "[3 rows x 27 columns]"
      ]
     },
     "metadata": {},
     "output_type": "display_data"
    },
    {
     "name": "stdout",
     "output_type": "stream",
     "text": [
      "EvaluatorHoldout: Processed 10456 (100.0%) in 19.90 sec. Users per second: 525\n"
     ]
    },
    {
     "data": {
      "text/html": [
       "<div>\n",
       "<style scoped>\n",
       "    .dataframe tbody tr th:only-of-type {\n",
       "        vertical-align: middle;\n",
       "    }\n",
       "\n",
       "    .dataframe tbody tr th {\n",
       "        vertical-align: top;\n",
       "    }\n",
       "\n",
       "    .dataframe thead th {\n",
       "        text-align: right;\n",
       "    }\n",
       "</style>\n",
       "<table border=\"1\" class=\"dataframe\">\n",
       "  <thead>\n",
       "    <tr style=\"text-align: right;\">\n",
       "      <th></th>\n",
       "      <th>PRECISION</th>\n",
       "      <th>PRECISION_RECALL_MIN_DEN</th>\n",
       "      <th>RECALL</th>\n",
       "      <th>MAP</th>\n",
       "      <th>MAP_MIN_DEN</th>\n",
       "      <th>MRR</th>\n",
       "      <th>NDCG</th>\n",
       "      <th>F1</th>\n",
       "      <th>HIT_RATE</th>\n",
       "      <th>ARHR_ALL_HITS</th>\n",
       "      <th>...</th>\n",
       "      <th>COVERAGE_USER</th>\n",
       "      <th>COVERAGE_USER_HIT</th>\n",
       "      <th>USERS_IN_GT</th>\n",
       "      <th>DIVERSITY_GINI</th>\n",
       "      <th>SHANNON_ENTROPY</th>\n",
       "      <th>RATIO_DIVERSITY_HERFINDAHL</th>\n",
       "      <th>RATIO_DIVERSITY_GINI</th>\n",
       "      <th>RATIO_SHANNON_ENTROPY</th>\n",
       "      <th>RATIO_AVERAGE_POPULARITY</th>\n",
       "      <th>RATIO_NOVELTY</th>\n",
       "    </tr>\n",
       "    <tr>\n",
       "      <th>cutoff</th>\n",
       "      <th></th>\n",
       "      <th></th>\n",
       "      <th></th>\n",
       "      <th></th>\n",
       "      <th></th>\n",
       "      <th></th>\n",
       "      <th></th>\n",
       "      <th></th>\n",
       "      <th></th>\n",
       "      <th></th>\n",
       "      <th></th>\n",
       "      <th></th>\n",
       "      <th></th>\n",
       "      <th></th>\n",
       "      <th></th>\n",
       "      <th></th>\n",
       "      <th></th>\n",
       "      <th></th>\n",
       "      <th></th>\n",
       "      <th></th>\n",
       "      <th></th>\n",
       "    </tr>\n",
       "  </thead>\n",
       "  <tbody>\n",
       "    <tr>\n",
       "      <th>10</th>\n",
       "      <td>0.085023</td>\n",
       "      <td>0.149918</td>\n",
       "      <td>0.127434</td>\n",
       "      <td>0.041901</td>\n",
       "      <td>0.07372</td>\n",
       "      <td>0.245796</td>\n",
       "      <td>0.135182</td>\n",
       "      <td>0.101995</td>\n",
       "      <td>0.495409</td>\n",
       "      <td>0.317617</td>\n",
       "      <td>...</td>\n",
       "      <td>0.802826</td>\n",
       "      <td>0.397727</td>\n",
       "      <td>0.802826</td>\n",
       "      <td>0.044316</td>\n",
       "      <td>9.649551</td>\n",
       "      <td>0.995756</td>\n",
       "      <td>0.127868</td>\n",
       "      <td>0.743364</td>\n",
       "      <td>2.301399</td>\n",
       "      <td>0.287872</td>\n",
       "    </tr>\n",
       "    <tr>\n",
       "      <th>50</th>\n",
       "      <td>0.041249</td>\n",
       "      <td>0.260959</td>\n",
       "      <td>0.260117</td>\n",
       "      <td>0.012294</td>\n",
       "      <td>0.077034</td>\n",
       "      <td>0.255962</td>\n",
       "      <td>0.172997</td>\n",
       "      <td>0.071206</td>\n",
       "      <td>0.687835</td>\n",
       "      <td>0.372015</td>\n",
       "      <td>...</td>\n",
       "      <td>0.802826</td>\n",
       "      <td>0.552211</td>\n",
       "      <td>0.802826</td>\n",
       "      <td>0.094525</td>\n",
       "      <td>10.793667</td>\n",
       "      <td>0.998558</td>\n",
       "      <td>0.272743</td>\n",
       "      <td>0.831502</td>\n",
       "      <td>1.670169</td>\n",
       "      <td>1.509895</td>\n",
       "    </tr>\n",
       "    <tr>\n",
       "      <th>100</th>\n",
       "      <td>0.028028</td>\n",
       "      <td>0.331003</td>\n",
       "      <td>0.330913</td>\n",
       "      <td>0.00684</td>\n",
       "      <td>0.080486</td>\n",
       "      <td>0.256762</td>\n",
       "      <td>0.195234</td>\n",
       "      <td>0.051679</td>\n",
       "      <td>0.741775</td>\n",
       "      <td>0.382531</td>\n",
       "      <td>...</td>\n",
       "      <td>0.802826</td>\n",
       "      <td>0.595516</td>\n",
       "      <td>0.802826</td>\n",
       "      <td>0.129593</td>\n",
       "      <td>11.326145</td>\n",
       "      <td>0.999208</td>\n",
       "      <td>0.373928</td>\n",
       "      <td>0.872522</td>\n",
       "      <td>1.380521</td>\n",
       "      <td>3.105441</td>\n",
       "    </tr>\n",
       "  </tbody>\n",
       "</table>\n",
       "<p>3 rows × 27 columns</p>\n",
       "</div>"
      ],
      "text/plain": [
       "       PRECISION PRECISION_RECALL_MIN_DEN    RECALL       MAP MAP_MIN_DEN  \\\n",
       "cutoff                                                                      \n",
       "10      0.085023                 0.149918  0.127434  0.041901     0.07372   \n",
       "50      0.041249                 0.260959  0.260117  0.012294    0.077034   \n",
       "100     0.028028                 0.331003  0.330913   0.00684    0.080486   \n",
       "\n",
       "             MRR      NDCG        F1  HIT_RATE ARHR_ALL_HITS  ...  \\\n",
       "cutoff                                                        ...   \n",
       "10      0.245796  0.135182  0.101995  0.495409      0.317617  ...   \n",
       "50      0.255962  0.172997  0.071206  0.687835      0.372015  ...   \n",
       "100     0.256762  0.195234  0.051679  0.741775      0.382531  ...   \n",
       "\n",
       "       COVERAGE_USER COVERAGE_USER_HIT USERS_IN_GT DIVERSITY_GINI  \\\n",
       "cutoff                                                              \n",
       "10          0.802826          0.397727    0.802826       0.044316   \n",
       "50          0.802826          0.552211    0.802826       0.094525   \n",
       "100         0.802826          0.595516    0.802826       0.129593   \n",
       "\n",
       "       SHANNON_ENTROPY RATIO_DIVERSITY_HERFINDAHL RATIO_DIVERSITY_GINI  \\\n",
       "cutoff                                                                   \n",
       "10            9.649551                   0.995756             0.127868   \n",
       "50           10.793667                   0.998558             0.272743   \n",
       "100          11.326145                   0.999208             0.373928   \n",
       "\n",
       "       RATIO_SHANNON_ENTROPY RATIO_AVERAGE_POPULARITY RATIO_NOVELTY  \n",
       "cutoff                                                               \n",
       "10                  0.743364                 2.301399      0.287872  \n",
       "50                  0.831502                 1.670169      1.509895  \n",
       "100                 0.872522                 1.380521      3.105441  \n",
       "\n",
       "[3 rows x 27 columns]"
      ]
     },
     "metadata": {},
     "output_type": "display_data"
    }
   ],
   "source": [
    "evaluator = EvaluatorHoldout(URM_test_complete, cutoff_list=[10, 50, 100])\n",
    "\n",
    "result_df, _ = evaluator.evaluateRecommender(slim)\n",
    "display(result_df)\n",
    "result_df, _ = evaluator.evaluateRecommender(rp3)\n",
    "display(result_df)\n",
    "result_df, _ = evaluator.evaluateRecommender(knn)\n",
    "display(result_df)"
   ]
  },
  {
   "cell_type": "code",
   "execution_count": 32,
   "id": "05202da0",
   "metadata": {
    "execution": {
     "iopub.execute_input": "2023-12-24T19:38:10.594231Z",
     "iopub.status.busy": "2023-12-24T19:38:10.592845Z",
     "iopub.status.idle": "2023-12-24T19:40:11.098093Z",
     "shell.execute_reply": "2023-12-24T19:40:11.096493Z"
    },
    "papermill": {
     "duration": 120.733067,
     "end_time": "2023-12-24T19:40:11.198253",
     "exception": false,
     "start_time": "2023-12-24T19:38:10.465186",
     "status": "completed"
    },
    "tags": []
   },
   "outputs": [
    {
     "name": "stdout",
     "output_type": "stream",
     "text": [
      "EvaluatorHoldout: Processed 10456 (100.0%) in 27.98 sec. Users per second: 374\n"
     ]
    },
    {
     "data": {
      "text/html": [
       "<div>\n",
       "<style scoped>\n",
       "    .dataframe tbody tr th:only-of-type {\n",
       "        vertical-align: middle;\n",
       "    }\n",
       "\n",
       "    .dataframe tbody tr th {\n",
       "        vertical-align: top;\n",
       "    }\n",
       "\n",
       "    .dataframe thead th {\n",
       "        text-align: right;\n",
       "    }\n",
       "</style>\n",
       "<table border=\"1\" class=\"dataframe\">\n",
       "  <thead>\n",
       "    <tr style=\"text-align: right;\">\n",
       "      <th></th>\n",
       "      <th>PRECISION</th>\n",
       "      <th>PRECISION_RECALL_MIN_DEN</th>\n",
       "      <th>RECALL</th>\n",
       "      <th>MAP</th>\n",
       "      <th>MAP_MIN_DEN</th>\n",
       "      <th>MRR</th>\n",
       "      <th>NDCG</th>\n",
       "      <th>F1</th>\n",
       "      <th>HIT_RATE</th>\n",
       "      <th>ARHR_ALL_HITS</th>\n",
       "      <th>...</th>\n",
       "      <th>COVERAGE_USER</th>\n",
       "      <th>COVERAGE_USER_HIT</th>\n",
       "      <th>USERS_IN_GT</th>\n",
       "      <th>DIVERSITY_GINI</th>\n",
       "      <th>SHANNON_ENTROPY</th>\n",
       "      <th>RATIO_DIVERSITY_HERFINDAHL</th>\n",
       "      <th>RATIO_DIVERSITY_GINI</th>\n",
       "      <th>RATIO_SHANNON_ENTROPY</th>\n",
       "      <th>RATIO_AVERAGE_POPULARITY</th>\n",
       "      <th>RATIO_NOVELTY</th>\n",
       "    </tr>\n",
       "    <tr>\n",
       "      <th>cutoff</th>\n",
       "      <th></th>\n",
       "      <th></th>\n",
       "      <th></th>\n",
       "      <th></th>\n",
       "      <th></th>\n",
       "      <th></th>\n",
       "      <th></th>\n",
       "      <th></th>\n",
       "      <th></th>\n",
       "      <th></th>\n",
       "      <th></th>\n",
       "      <th></th>\n",
       "      <th></th>\n",
       "      <th></th>\n",
       "      <th></th>\n",
       "      <th></th>\n",
       "      <th></th>\n",
       "      <th></th>\n",
       "      <th></th>\n",
       "      <th></th>\n",
       "      <th></th>\n",
       "    </tr>\n",
       "  </thead>\n",
       "  <tbody>\n",
       "    <tr>\n",
       "      <th>10</th>\n",
       "      <td>0.091421</td>\n",
       "      <td>0.16092</td>\n",
       "      <td>0.136818</td>\n",
       "      <td>0.04597</td>\n",
       "      <td>0.079996</td>\n",
       "      <td>0.266776</td>\n",
       "      <td>0.145872</td>\n",
       "      <td>0.109605</td>\n",
       "      <td>0.517693</td>\n",
       "      <td>0.346541</td>\n",
       "      <td>...</td>\n",
       "      <td>0.802826</td>\n",
       "      <td>0.415617</td>\n",
       "      <td>0.802826</td>\n",
       "      <td>0.036731</td>\n",
       "      <td>9.273591</td>\n",
       "      <td>0.994268</td>\n",
       "      <td>0.105983</td>\n",
       "      <td>0.714401</td>\n",
       "      <td>2.585797</td>\n",
       "      <td>0.280993</td>\n",
       "    </tr>\n",
       "    <tr>\n",
       "      <th>50</th>\n",
       "      <td>0.044422</td>\n",
       "      <td>0.280708</td>\n",
       "      <td>0.279841</td>\n",
       "      <td>0.013616</td>\n",
       "      <td>0.084032</td>\n",
       "      <td>0.276584</td>\n",
       "      <td>0.186522</td>\n",
       "      <td>0.076673</td>\n",
       "      <td>0.706197</td>\n",
       "      <td>0.405215</td>\n",
       "      <td>...</td>\n",
       "      <td>0.802826</td>\n",
       "      <td>0.566953</td>\n",
       "      <td>0.802826</td>\n",
       "      <td>0.099827</td>\n",
       "      <td>10.752855</td>\n",
       "      <td>0.998331</td>\n",
       "      <td>0.28804</td>\n",
       "      <td>0.828358</td>\n",
       "      <td>1.754775</td>\n",
       "      <td>1.504015</td>\n",
       "    </tr>\n",
       "    <tr>\n",
       "      <th>100</th>\n",
       "      <td>0.029869</td>\n",
       "      <td>0.351864</td>\n",
       "      <td>0.351774</td>\n",
       "      <td>0.007575</td>\n",
       "      <td>0.087764</td>\n",
       "      <td>0.277324</td>\n",
       "      <td>0.209223</td>\n",
       "      <td>0.055063</td>\n",
       "      <td>0.756312</td>\n",
       "      <td>0.416108</td>\n",
       "      <td>...</td>\n",
       "      <td>0.802826</td>\n",
       "      <td>0.607187</td>\n",
       "      <td>0.802826</td>\n",
       "      <td>0.154052</td>\n",
       "      <td>11.46666</td>\n",
       "      <td>0.999201</td>\n",
       "      <td>0.444503</td>\n",
       "      <td>0.883347</td>\n",
       "      <td>1.386098</td>\n",
       "      <td>3.130864</td>\n",
       "    </tr>\n",
       "  </tbody>\n",
       "</table>\n",
       "<p>3 rows × 27 columns</p>\n",
       "</div>"
      ],
      "text/plain": [
       "       PRECISION PRECISION_RECALL_MIN_DEN    RECALL       MAP MAP_MIN_DEN  \\\n",
       "cutoff                                                                      \n",
       "10      0.091421                  0.16092  0.136818   0.04597    0.079996   \n",
       "50      0.044422                 0.280708  0.279841  0.013616    0.084032   \n",
       "100     0.029869                 0.351864  0.351774  0.007575    0.087764   \n",
       "\n",
       "             MRR      NDCG        F1  HIT_RATE ARHR_ALL_HITS  ...  \\\n",
       "cutoff                                                        ...   \n",
       "10      0.266776  0.145872  0.109605  0.517693      0.346541  ...   \n",
       "50      0.276584  0.186522  0.076673  0.706197      0.405215  ...   \n",
       "100     0.277324  0.209223  0.055063  0.756312      0.416108  ...   \n",
       "\n",
       "       COVERAGE_USER COVERAGE_USER_HIT USERS_IN_GT DIVERSITY_GINI  \\\n",
       "cutoff                                                              \n",
       "10          0.802826          0.415617    0.802826       0.036731   \n",
       "50          0.802826          0.566953    0.802826       0.099827   \n",
       "100         0.802826          0.607187    0.802826       0.154052   \n",
       "\n",
       "       SHANNON_ENTROPY RATIO_DIVERSITY_HERFINDAHL RATIO_DIVERSITY_GINI  \\\n",
       "cutoff                                                                   \n",
       "10            9.273591                   0.994268             0.105983   \n",
       "50           10.752855                   0.998331              0.28804   \n",
       "100           11.46666                   0.999201             0.444503   \n",
       "\n",
       "       RATIO_SHANNON_ENTROPY RATIO_AVERAGE_POPULARITY RATIO_NOVELTY  \n",
       "cutoff                                                               \n",
       "10                  0.714401                 2.585797      0.280993  \n",
       "50                  0.828358                 1.754775      1.504015  \n",
       "100                 0.883347                 1.386098      3.130864  \n",
       "\n",
       "[3 rows x 27 columns]"
      ]
     },
     "metadata": {},
     "output_type": "display_data"
    },
    {
     "name": "stdout",
     "output_type": "stream",
     "text": [
      "EvaluatorHoldout: Processed 10456 (100.0%) in 30.81 sec. Users per second: 339\n"
     ]
    },
    {
     "data": {
      "text/html": [
       "<div>\n",
       "<style scoped>\n",
       "    .dataframe tbody tr th:only-of-type {\n",
       "        vertical-align: middle;\n",
       "    }\n",
       "\n",
       "    .dataframe tbody tr th {\n",
       "        vertical-align: top;\n",
       "    }\n",
       "\n",
       "    .dataframe thead th {\n",
       "        text-align: right;\n",
       "    }\n",
       "</style>\n",
       "<table border=\"1\" class=\"dataframe\">\n",
       "  <thead>\n",
       "    <tr style=\"text-align: right;\">\n",
       "      <th></th>\n",
       "      <th>PRECISION</th>\n",
       "      <th>PRECISION_RECALL_MIN_DEN</th>\n",
       "      <th>RECALL</th>\n",
       "      <th>MAP</th>\n",
       "      <th>MAP_MIN_DEN</th>\n",
       "      <th>MRR</th>\n",
       "      <th>NDCG</th>\n",
       "      <th>F1</th>\n",
       "      <th>HIT_RATE</th>\n",
       "      <th>ARHR_ALL_HITS</th>\n",
       "      <th>...</th>\n",
       "      <th>COVERAGE_USER</th>\n",
       "      <th>COVERAGE_USER_HIT</th>\n",
       "      <th>USERS_IN_GT</th>\n",
       "      <th>DIVERSITY_GINI</th>\n",
       "      <th>SHANNON_ENTROPY</th>\n",
       "      <th>RATIO_DIVERSITY_HERFINDAHL</th>\n",
       "      <th>RATIO_DIVERSITY_GINI</th>\n",
       "      <th>RATIO_SHANNON_ENTROPY</th>\n",
       "      <th>RATIO_AVERAGE_POPULARITY</th>\n",
       "      <th>RATIO_NOVELTY</th>\n",
       "    </tr>\n",
       "    <tr>\n",
       "      <th>cutoff</th>\n",
       "      <th></th>\n",
       "      <th></th>\n",
       "      <th></th>\n",
       "      <th></th>\n",
       "      <th></th>\n",
       "      <th></th>\n",
       "      <th></th>\n",
       "      <th></th>\n",
       "      <th></th>\n",
       "      <th></th>\n",
       "      <th></th>\n",
       "      <th></th>\n",
       "      <th></th>\n",
       "      <th></th>\n",
       "      <th></th>\n",
       "      <th></th>\n",
       "      <th></th>\n",
       "      <th></th>\n",
       "      <th></th>\n",
       "      <th></th>\n",
       "      <th></th>\n",
       "    </tr>\n",
       "  </thead>\n",
       "  <tbody>\n",
       "    <tr>\n",
       "      <th>10</th>\n",
       "      <td>0.090895</td>\n",
       "      <td>0.159764</td>\n",
       "      <td>0.135784</td>\n",
       "      <td>0.045881</td>\n",
       "      <td>0.079782</td>\n",
       "      <td>0.267164</td>\n",
       "      <td>0.145442</td>\n",
       "      <td>0.108895</td>\n",
       "      <td>0.516832</td>\n",
       "      <td>0.346453</td>\n",
       "      <td>...</td>\n",
       "      <td>0.802826</td>\n",
       "      <td>0.414926</td>\n",
       "      <td>0.802826</td>\n",
       "      <td>0.03104</td>\n",
       "      <td>9.250595</td>\n",
       "      <td>0.995011</td>\n",
       "      <td>0.089564</td>\n",
       "      <td>0.71263</td>\n",
       "      <td>2.500783</td>\n",
       "      <td>0.280146</td>\n",
       "    </tr>\n",
       "    <tr>\n",
       "      <th>50</th>\n",
       "      <td>0.043305</td>\n",
       "      <td>0.277525</td>\n",
       "      <td>0.276681</td>\n",
       "      <td>0.013366</td>\n",
       "      <td>0.083257</td>\n",
       "      <td>0.276921</td>\n",
       "      <td>0.184674</td>\n",
       "      <td>0.074889</td>\n",
       "      <td>0.706676</td>\n",
       "      <td>0.402987</td>\n",
       "      <td>...</td>\n",
       "      <td>0.802826</td>\n",
       "      <td>0.567337</td>\n",
       "      <td>0.802826</td>\n",
       "      <td>0.066412</td>\n",
       "      <td>10.364305</td>\n",
       "      <td>0.9981</td>\n",
       "      <td>0.191625</td>\n",
       "      <td>0.798426</td>\n",
       "      <td>1.865726</td>\n",
       "      <td>1.467912</td>\n",
       "    </tr>\n",
       "    <tr>\n",
       "      <th>100</th>\n",
       "      <td>0.029141</td>\n",
       "      <td>0.349888</td>\n",
       "      <td>0.349799</td>\n",
       "      <td>0.0074</td>\n",
       "      <td>0.086821</td>\n",
       "      <td>0.277684</td>\n",
       "      <td>0.207347</td>\n",
       "      <td>0.0538</td>\n",
       "      <td>0.759181</td>\n",
       "      <td>0.413606</td>\n",
       "      <td>...</td>\n",
       "      <td>0.802826</td>\n",
       "      <td>0.60949</td>\n",
       "      <td>0.802826</td>\n",
       "      <td>0.095589</td>\n",
       "      <td>10.925708</td>\n",
       "      <td>0.998931</td>\n",
       "      <td>0.275812</td>\n",
       "      <td>0.841674</td>\n",
       "      <td>1.540084</td>\n",
       "      <td>3.020869</td>\n",
       "    </tr>\n",
       "  </tbody>\n",
       "</table>\n",
       "<p>3 rows × 27 columns</p>\n",
       "</div>"
      ],
      "text/plain": [
       "       PRECISION PRECISION_RECALL_MIN_DEN    RECALL       MAP MAP_MIN_DEN  \\\n",
       "cutoff                                                                      \n",
       "10      0.090895                 0.159764  0.135784  0.045881    0.079782   \n",
       "50      0.043305                 0.277525  0.276681  0.013366    0.083257   \n",
       "100     0.029141                 0.349888  0.349799    0.0074    0.086821   \n",
       "\n",
       "             MRR      NDCG        F1  HIT_RATE ARHR_ALL_HITS  ...  \\\n",
       "cutoff                                                        ...   \n",
       "10      0.267164  0.145442  0.108895  0.516832      0.346453  ...   \n",
       "50      0.276921  0.184674  0.074889  0.706676      0.402987  ...   \n",
       "100     0.277684  0.207347    0.0538  0.759181      0.413606  ...   \n",
       "\n",
       "       COVERAGE_USER COVERAGE_USER_HIT USERS_IN_GT DIVERSITY_GINI  \\\n",
       "cutoff                                                              \n",
       "10          0.802826          0.414926    0.802826        0.03104   \n",
       "50          0.802826          0.567337    0.802826       0.066412   \n",
       "100         0.802826           0.60949    0.802826       0.095589   \n",
       "\n",
       "       SHANNON_ENTROPY RATIO_DIVERSITY_HERFINDAHL RATIO_DIVERSITY_GINI  \\\n",
       "cutoff                                                                   \n",
       "10            9.250595                   0.995011             0.089564   \n",
       "50           10.364305                     0.9981             0.191625   \n",
       "100          10.925708                   0.998931             0.275812   \n",
       "\n",
       "       RATIO_SHANNON_ENTROPY RATIO_AVERAGE_POPULARITY RATIO_NOVELTY  \n",
       "cutoff                                                               \n",
       "10                   0.71263                 2.500783      0.280146  \n",
       "50                  0.798426                 1.865726      1.467912  \n",
       "100                 0.841674                 1.540084      3.020869  \n",
       "\n",
       "[3 rows x 27 columns]"
      ]
     },
     "metadata": {},
     "output_type": "display_data"
    },
    {
     "name": "stdout",
     "output_type": "stream",
     "text": [
      "EvaluatorHoldout: Processed 10456 (100.0%) in 25.15 sec. Users per second: 416\n"
     ]
    },
    {
     "data": {
      "text/html": [
       "<div>\n",
       "<style scoped>\n",
       "    .dataframe tbody tr th:only-of-type {\n",
       "        vertical-align: middle;\n",
       "    }\n",
       "\n",
       "    .dataframe tbody tr th {\n",
       "        vertical-align: top;\n",
       "    }\n",
       "\n",
       "    .dataframe thead th {\n",
       "        text-align: right;\n",
       "    }\n",
       "</style>\n",
       "<table border=\"1\" class=\"dataframe\">\n",
       "  <thead>\n",
       "    <tr style=\"text-align: right;\">\n",
       "      <th></th>\n",
       "      <th>PRECISION</th>\n",
       "      <th>PRECISION_RECALL_MIN_DEN</th>\n",
       "      <th>RECALL</th>\n",
       "      <th>MAP</th>\n",
       "      <th>MAP_MIN_DEN</th>\n",
       "      <th>MRR</th>\n",
       "      <th>NDCG</th>\n",
       "      <th>F1</th>\n",
       "      <th>HIT_RATE</th>\n",
       "      <th>ARHR_ALL_HITS</th>\n",
       "      <th>...</th>\n",
       "      <th>COVERAGE_USER</th>\n",
       "      <th>COVERAGE_USER_HIT</th>\n",
       "      <th>USERS_IN_GT</th>\n",
       "      <th>DIVERSITY_GINI</th>\n",
       "      <th>SHANNON_ENTROPY</th>\n",
       "      <th>RATIO_DIVERSITY_HERFINDAHL</th>\n",
       "      <th>RATIO_DIVERSITY_GINI</th>\n",
       "      <th>RATIO_SHANNON_ENTROPY</th>\n",
       "      <th>RATIO_AVERAGE_POPULARITY</th>\n",
       "      <th>RATIO_NOVELTY</th>\n",
       "    </tr>\n",
       "    <tr>\n",
       "      <th>cutoff</th>\n",
       "      <th></th>\n",
       "      <th></th>\n",
       "      <th></th>\n",
       "      <th></th>\n",
       "      <th></th>\n",
       "      <th></th>\n",
       "      <th></th>\n",
       "      <th></th>\n",
       "      <th></th>\n",
       "      <th></th>\n",
       "      <th></th>\n",
       "      <th></th>\n",
       "      <th></th>\n",
       "      <th></th>\n",
       "      <th></th>\n",
       "      <th></th>\n",
       "      <th></th>\n",
       "      <th></th>\n",
       "      <th></th>\n",
       "      <th></th>\n",
       "      <th></th>\n",
       "    </tr>\n",
       "  </thead>\n",
       "  <tbody>\n",
       "    <tr>\n",
       "      <th>10</th>\n",
       "      <td>0.08795</td>\n",
       "      <td>0.157331</td>\n",
       "      <td>0.134243</td>\n",
       "      <td>0.042825</td>\n",
       "      <td>0.075681</td>\n",
       "      <td>0.250079</td>\n",
       "      <td>0.139374</td>\n",
       "      <td>0.106274</td>\n",
       "      <td>0.510042</td>\n",
       "      <td>0.323852</td>\n",
       "      <td>...</td>\n",
       "      <td>0.802826</td>\n",
       "      <td>0.409475</td>\n",
       "      <td>0.802826</td>\n",
       "      <td>0.045317</td>\n",
       "      <td>9.4612</td>\n",
       "      <td>0.994123</td>\n",
       "      <td>0.130758</td>\n",
       "      <td>0.728854</td>\n",
       "      <td>2.539847</td>\n",
       "      <td>0.285164</td>\n",
       "    </tr>\n",
       "    <tr>\n",
       "      <th>50</th>\n",
       "      <td>0.043248</td>\n",
       "      <td>0.274491</td>\n",
       "      <td>0.27362</td>\n",
       "      <td>0.012793</td>\n",
       "      <td>0.079827</td>\n",
       "      <td>0.260109</td>\n",
       "      <td>0.179741</td>\n",
       "      <td>0.07469</td>\n",
       "      <td>0.702181</td>\n",
       "      <td>0.381198</td>\n",
       "      <td>...</td>\n",
       "      <td>0.802826</td>\n",
       "      <td>0.563729</td>\n",
       "      <td>0.802826</td>\n",
       "      <td>0.112388</td>\n",
       "      <td>10.885833</td>\n",
       "      <td>0.998392</td>\n",
       "      <td>0.324286</td>\n",
       "      <td>0.838602</td>\n",
       "      <td>1.712867</td>\n",
       "      <td>1.520038</td>\n",
       "    </tr>\n",
       "    <tr>\n",
       "      <th>100</th>\n",
       "      <td>0.029274</td>\n",
       "      <td>0.347108</td>\n",
       "      <td>0.347015</td>\n",
       "      <td>0.007135</td>\n",
       "      <td>0.083508</td>\n",
       "      <td>0.260848</td>\n",
       "      <td>0.202713</td>\n",
       "      <td>0.053993</td>\n",
       "      <td>0.752678</td>\n",
       "      <td>0.392039</td>\n",
       "      <td>...</td>\n",
       "      <td>0.802826</td>\n",
       "      <td>0.604269</td>\n",
       "      <td>0.802826</td>\n",
       "      <td>0.165771</td>\n",
       "      <td>11.553596</td>\n",
       "      <td>0.99922</td>\n",
       "      <td>0.478316</td>\n",
       "      <td>0.890044</td>\n",
       "      <td>1.36437</td>\n",
       "      <td>3.155733</td>\n",
       "    </tr>\n",
       "  </tbody>\n",
       "</table>\n",
       "<p>3 rows × 27 columns</p>\n",
       "</div>"
      ],
      "text/plain": [
       "       PRECISION PRECISION_RECALL_MIN_DEN    RECALL       MAP MAP_MIN_DEN  \\\n",
       "cutoff                                                                      \n",
       "10       0.08795                 0.157331  0.134243  0.042825    0.075681   \n",
       "50      0.043248                 0.274491   0.27362  0.012793    0.079827   \n",
       "100     0.029274                 0.347108  0.347015  0.007135    0.083508   \n",
       "\n",
       "             MRR      NDCG        F1  HIT_RATE ARHR_ALL_HITS  ...  \\\n",
       "cutoff                                                        ...   \n",
       "10      0.250079  0.139374  0.106274  0.510042      0.323852  ...   \n",
       "50      0.260109  0.179741   0.07469  0.702181      0.381198  ...   \n",
       "100     0.260848  0.202713  0.053993  0.752678      0.392039  ...   \n",
       "\n",
       "       COVERAGE_USER COVERAGE_USER_HIT USERS_IN_GT DIVERSITY_GINI  \\\n",
       "cutoff                                                              \n",
       "10          0.802826          0.409475    0.802826       0.045317   \n",
       "50          0.802826          0.563729    0.802826       0.112388   \n",
       "100         0.802826          0.604269    0.802826       0.165771   \n",
       "\n",
       "       SHANNON_ENTROPY RATIO_DIVERSITY_HERFINDAHL RATIO_DIVERSITY_GINI  \\\n",
       "cutoff                                                                   \n",
       "10              9.4612                   0.994123             0.130758   \n",
       "50           10.885833                   0.998392             0.324286   \n",
       "100          11.553596                    0.99922             0.478316   \n",
       "\n",
       "       RATIO_SHANNON_ENTROPY RATIO_AVERAGE_POPULARITY RATIO_NOVELTY  \n",
       "cutoff                                                               \n",
       "10                  0.728854                 2.539847      0.285164  \n",
       "50                  0.838602                 1.712867      1.520038  \n",
       "100                 0.890044                  1.36437      3.155733  \n",
       "\n",
       "[3 rows x 27 columns]"
      ]
     },
     "metadata": {},
     "output_type": "display_data"
    },
    {
     "name": "stdout",
     "output_type": "stream",
     "text": [
      "EvaluatorHoldout: Processed 10456 (100.0%) in 36.41 sec. Users per second: 287\n"
     ]
    },
    {
     "data": {
      "text/html": [
       "<div>\n",
       "<style scoped>\n",
       "    .dataframe tbody tr th:only-of-type {\n",
       "        vertical-align: middle;\n",
       "    }\n",
       "\n",
       "    .dataframe tbody tr th {\n",
       "        vertical-align: top;\n",
       "    }\n",
       "\n",
       "    .dataframe thead th {\n",
       "        text-align: right;\n",
       "    }\n",
       "</style>\n",
       "<table border=\"1\" class=\"dataframe\">\n",
       "  <thead>\n",
       "    <tr style=\"text-align: right;\">\n",
       "      <th></th>\n",
       "      <th>PRECISION</th>\n",
       "      <th>PRECISION_RECALL_MIN_DEN</th>\n",
       "      <th>RECALL</th>\n",
       "      <th>MAP</th>\n",
       "      <th>MAP_MIN_DEN</th>\n",
       "      <th>MRR</th>\n",
       "      <th>NDCG</th>\n",
       "      <th>F1</th>\n",
       "      <th>HIT_RATE</th>\n",
       "      <th>ARHR_ALL_HITS</th>\n",
       "      <th>...</th>\n",
       "      <th>COVERAGE_USER</th>\n",
       "      <th>COVERAGE_USER_HIT</th>\n",
       "      <th>USERS_IN_GT</th>\n",
       "      <th>DIVERSITY_GINI</th>\n",
       "      <th>SHANNON_ENTROPY</th>\n",
       "      <th>RATIO_DIVERSITY_HERFINDAHL</th>\n",
       "      <th>RATIO_DIVERSITY_GINI</th>\n",
       "      <th>RATIO_SHANNON_ENTROPY</th>\n",
       "      <th>RATIO_AVERAGE_POPULARITY</th>\n",
       "      <th>RATIO_NOVELTY</th>\n",
       "    </tr>\n",
       "    <tr>\n",
       "      <th>cutoff</th>\n",
       "      <th></th>\n",
       "      <th></th>\n",
       "      <th></th>\n",
       "      <th></th>\n",
       "      <th></th>\n",
       "      <th></th>\n",
       "      <th></th>\n",
       "      <th></th>\n",
       "      <th></th>\n",
       "      <th></th>\n",
       "      <th></th>\n",
       "      <th></th>\n",
       "      <th></th>\n",
       "      <th></th>\n",
       "      <th></th>\n",
       "      <th></th>\n",
       "      <th></th>\n",
       "      <th></th>\n",
       "      <th></th>\n",
       "      <th></th>\n",
       "      <th></th>\n",
       "    </tr>\n",
       "  </thead>\n",
       "  <tbody>\n",
       "    <tr>\n",
       "      <th>10</th>\n",
       "      <td>0.090953</td>\n",
       "      <td>0.160955</td>\n",
       "      <td>0.137169</td>\n",
       "      <td>0.045622</td>\n",
       "      <td>0.079604</td>\n",
       "      <td>0.266665</td>\n",
       "      <td>0.145532</td>\n",
       "      <td>0.109379</td>\n",
       "      <td>0.519223</td>\n",
       "      <td>0.345234</td>\n",
       "      <td>...</td>\n",
       "      <td>0.802826</td>\n",
       "      <td>0.416846</td>\n",
       "      <td>0.802826</td>\n",
       "      <td>0.035778</td>\n",
       "      <td>9.250109</td>\n",
       "      <td>0.994158</td>\n",
       "      <td>0.103234</td>\n",
       "      <td>0.712592</td>\n",
       "      <td>2.600796</td>\n",
       "      <td>0.280658</td>\n",
       "    </tr>\n",
       "    <tr>\n",
       "      <th>50</th>\n",
       "      <td>0.043984</td>\n",
       "      <td>0.280038</td>\n",
       "      <td>0.279173</td>\n",
       "      <td>0.013463</td>\n",
       "      <td>0.083513</td>\n",
       "      <td>0.276453</td>\n",
       "      <td>0.185788</td>\n",
       "      <td>0.075995</td>\n",
       "      <td>0.708684</td>\n",
       "      <td>0.403253</td>\n",
       "      <td>...</td>\n",
       "      <td>0.802826</td>\n",
       "      <td>0.56895</td>\n",
       "      <td>0.802826</td>\n",
       "      <td>0.088902</td>\n",
       "      <td>10.590018</td>\n",
       "      <td>0.998145</td>\n",
       "      <td>0.256517</td>\n",
       "      <td>0.815814</td>\n",
       "      <td>1.828649</td>\n",
       "      <td>1.48942</td>\n",
       "    </tr>\n",
       "    <tr>\n",
       "      <th>100</th>\n",
       "      <td>0.029699</td>\n",
       "      <td>0.352665</td>\n",
       "      <td>0.352576</td>\n",
       "      <td>0.007488</td>\n",
       "      <td>0.087245</td>\n",
       "      <td>0.277177</td>\n",
       "      <td>0.208837</td>\n",
       "      <td>0.054783</td>\n",
       "      <td>0.758512</td>\n",
       "      <td>0.414192</td>\n",
       "      <td>...</td>\n",
       "      <td>0.802826</td>\n",
       "      <td>0.608953</td>\n",
       "      <td>0.802826</td>\n",
       "      <td>0.133536</td>\n",
       "      <td>11.241654</td>\n",
       "      <td>0.999036</td>\n",
       "      <td>0.385305</td>\n",
       "      <td>0.866013</td>\n",
       "      <td>1.476777</td>\n",
       "      <td>3.085695</td>\n",
       "    </tr>\n",
       "  </tbody>\n",
       "</table>\n",
       "<p>3 rows × 27 columns</p>\n",
       "</div>"
      ],
      "text/plain": [
       "       PRECISION PRECISION_RECALL_MIN_DEN    RECALL       MAP MAP_MIN_DEN  \\\n",
       "cutoff                                                                      \n",
       "10      0.090953                 0.160955  0.137169  0.045622    0.079604   \n",
       "50      0.043984                 0.280038  0.279173  0.013463    0.083513   \n",
       "100     0.029699                 0.352665  0.352576  0.007488    0.087245   \n",
       "\n",
       "             MRR      NDCG        F1  HIT_RATE ARHR_ALL_HITS  ...  \\\n",
       "cutoff                                                        ...   \n",
       "10      0.266665  0.145532  0.109379  0.519223      0.345234  ...   \n",
       "50      0.276453  0.185788  0.075995  0.708684      0.403253  ...   \n",
       "100     0.277177  0.208837  0.054783  0.758512      0.414192  ...   \n",
       "\n",
       "       COVERAGE_USER COVERAGE_USER_HIT USERS_IN_GT DIVERSITY_GINI  \\\n",
       "cutoff                                                              \n",
       "10          0.802826          0.416846    0.802826       0.035778   \n",
       "50          0.802826           0.56895    0.802826       0.088902   \n",
       "100         0.802826          0.608953    0.802826       0.133536   \n",
       "\n",
       "       SHANNON_ENTROPY RATIO_DIVERSITY_HERFINDAHL RATIO_DIVERSITY_GINI  \\\n",
       "cutoff                                                                   \n",
       "10            9.250109                   0.994158             0.103234   \n",
       "50           10.590018                   0.998145             0.256517   \n",
       "100          11.241654                   0.999036             0.385305   \n",
       "\n",
       "       RATIO_SHANNON_ENTROPY RATIO_AVERAGE_POPULARITY RATIO_NOVELTY  \n",
       "cutoff                                                               \n",
       "10                  0.712592                 2.600796      0.280658  \n",
       "50                  0.815814                 1.828649       1.48942  \n",
       "100                 0.866013                 1.476777      3.085695  \n",
       "\n",
       "[3 rows x 27 columns]"
      ]
     },
     "metadata": {},
     "output_type": "display_data"
    }
   ],
   "source": [
    "slim_rp3 = RoundRobinListCombinationRecommender(URM_train, [slim, rp3])\n",
    "slim_knn = RoundRobinListCombinationRecommender(URM_train, [slim, knn])\n",
    "rp3_knn = RoundRobinListCombinationRecommender(URM_train, [knn, rp3])\n",
    "all_ = RoundRobinListCombinationRecommender(URM_train, [slim, rp3, knn])\n",
    "\n",
    "result_df, _ = evaluator.evaluateRecommender(slim_rp3)\n",
    "display(result_df)\n",
    "result_df, _ = evaluator.evaluateRecommender(slim_knn)\n",
    "display(result_df)\n",
    "result_df, _ = evaluator.evaluateRecommender(rp3_knn)\n",
    "display(result_df)\n",
    "result_df, _ = evaluator.evaluateRecommender(all_)\n",
    "display(result_df)"
   ]
  }
 ],
 "metadata": {
  "kaggle": {
   "accelerator": "none",
   "dataSources": [
    {
     "databundleVersionId": 6919098,
     "sourceId": 62803,
     "sourceType": "competition"
    },
    {
     "sourceId": 155928175,
     "sourceType": "kernelVersion"
    }
   ],
   "dockerImageVersionId": 30587,
   "isGpuEnabled": false,
   "isInternetEnabled": true,
   "language": "python",
   "sourceType": "notebook"
  },
  "kernelspec": {
   "display_name": "Python 3",
   "language": "python",
   "name": "python3"
  },
  "language_info": {
   "codemirror_mode": {
    "name": "ipython",
    "version": 3
   },
   "file_extension": ".py",
   "mimetype": "text/x-python",
   "name": "python",
   "nbconvert_exporter": "python",
   "pygments_lexer": "ipython3",
   "version": "3.10.12"
  },
  "papermill": {
   "default_parameters": {},
   "duration": 7844.758998,
   "end_time": "2023-12-24T19:40:14.931601",
   "environment_variables": {},
   "exception": null,
   "input_path": "__notebook__.ipynb",
   "output_path": "__notebook__.ipynb",
   "parameters": {},
   "start_time": "2023-12-24T17:29:30.172603",
   "version": "2.4.0"
  }
 },
 "nbformat": 4,
 "nbformat_minor": 5
}
