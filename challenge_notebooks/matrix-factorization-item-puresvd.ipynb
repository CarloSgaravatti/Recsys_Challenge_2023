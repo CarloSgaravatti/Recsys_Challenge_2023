{
 "cells": [
  {
   "cell_type": "code",
   "execution_count": 1,
   "id": "6c21378d",
   "metadata": {
    "_cell_guid": "b1076dfc-b9ad-4769-8c92-a6c4dae69d19",
    "_uuid": "8f2839f25d086af736a60e9eeb907d3b93b6e0e5",
    "execution": {
     "iopub.execute_input": "2023-12-01T14:01:39.123171Z",
     "iopub.status.busy": "2023-12-01T14:01:39.122183Z",
     "iopub.status.idle": "2023-12-01T14:01:42.313117Z",
     "shell.execute_reply": "2023-12-01T14:01:42.312144Z"
    },
    "papermill": {
     "duration": 3.201977,
     "end_time": "2023-12-01T14:01:42.315829",
     "exception": false,
     "start_time": "2023-12-01T14:01:39.113852",
     "status": "completed"
    },
    "tags": []
   },
   "outputs": [
    {
     "name": "stdout",
     "output_type": "stream",
     "text": [
      "Cloning into 'Recsys_Challenge_2023'...\r\n",
      "remote: Enumerating objects: 1265, done.\u001b[K\r\n",
      "remote: Counting objects: 100% (114/114), done.\u001b[K\r\n",
      "remote: Compressing objects: 100% (111/111), done.\u001b[K\r\n",
      "remote: Total 1265 (delta 85), reused 0 (delta 0), pack-reused 1151\u001b[K\r\n",
      "Receiving objects: 100% (1265/1265), 15.45 MiB | 23.58 MiB/s, done.\r\n",
      "Resolving deltas: 100% (915/915), done.\r\n"
     ]
    }
   ],
   "source": [
    "from kaggle_secrets import UserSecretsClient\n",
    "secret_label = \"Token\"\n",
    "token = UserSecretsClient().get_secret(secret_label)\n",
    "\n",
    "! git clone https://{token}@github.com/CarloSgaravatti/Recsys_Challenge_2023.git"
   ]
  },
  {
   "cell_type": "code",
   "execution_count": 2,
   "id": "928997c9",
   "metadata": {
    "execution": {
     "iopub.execute_input": "2023-12-01T14:01:42.334055Z",
     "iopub.status.busy": "2023-12-01T14:01:42.333724Z",
     "iopub.status.idle": "2023-12-01T14:01:56.491513Z",
     "shell.execute_reply": "2023-12-01T14:01:56.490257Z"
    },
    "papermill": {
     "duration": 14.169723,
     "end_time": "2023-12-01T14:01:56.493745",
     "exception": false,
     "start_time": "2023-12-01T14:01:42.324022",
     "status": "completed"
    },
    "tags": []
   },
   "outputs": [
    {
     "name": "stdout",
     "output_type": "stream",
     "text": [
      "Collecting PyGithub\r\n",
      "  Obtaining dependency information for PyGithub from https://files.pythonhosted.org/packages/be/04/810d131be173cba445d3658a45512b2b2b3d0960d52c4a300d6ec5e00f52/PyGithub-2.1.1-py3-none-any.whl.metadata\r\n",
      "  Downloading PyGithub-2.1.1-py3-none-any.whl.metadata (2.2 kB)\r\n",
      "Requirement already satisfied: requests in /opt/conda/lib/python3.10/site-packages (2.31.0)\r\n",
      "Collecting pynacl>=1.4.0 (from PyGithub)\r\n",
      "  Downloading PyNaCl-1.5.0-cp36-abi3-manylinux_2_17_x86_64.manylinux2014_x86_64.manylinux_2_24_x86_64.whl (856 kB)\r\n",
      "\u001b[2K     \u001b[90m━━━━━━━━━━━━━━━━━━━━━━━━━━━━━━━━━━━━━━\u001b[0m \u001b[32m856.7/856.7 kB\u001b[0m \u001b[31m16.3 MB/s\u001b[0m eta \u001b[36m0:00:00\u001b[0m\r\n",
      "\u001b[?25hRequirement already satisfied: python-dateutil in /opt/conda/lib/python3.10/site-packages (from PyGithub) (2.8.2)\r\n",
      "Requirement already satisfied: pyjwt[crypto]>=2.4.0 in /opt/conda/lib/python3.10/site-packages (from PyGithub) (2.8.0)\r\n",
      "Requirement already satisfied: typing-extensions>=4.0.0 in /opt/conda/lib/python3.10/site-packages (from PyGithub) (4.5.0)\r\n",
      "Requirement already satisfied: urllib3>=1.26.0 in /opt/conda/lib/python3.10/site-packages (from PyGithub) (1.26.15)\r\n",
      "Requirement already satisfied: Deprecated in /opt/conda/lib/python3.10/site-packages (from PyGithub) (1.2.14)\r\n",
      "Requirement already satisfied: charset-normalizer<4,>=2 in /opt/conda/lib/python3.10/site-packages (from requests) (3.2.0)\r\n",
      "Requirement already satisfied: idna<4,>=2.5 in /opt/conda/lib/python3.10/site-packages (from requests) (3.4)\r\n",
      "Requirement already satisfied: certifi>=2017.4.17 in /opt/conda/lib/python3.10/site-packages (from requests) (2023.7.22)\r\n",
      "Requirement already satisfied: cryptography>=3.4.0 in /opt/conda/lib/python3.10/site-packages (from pyjwt[crypto]>=2.4.0->PyGithub) (41.0.3)\r\n",
      "Requirement already satisfied: cffi>=1.4.1 in /opt/conda/lib/python3.10/site-packages (from pynacl>=1.4.0->PyGithub) (1.15.1)\r\n",
      "Requirement already satisfied: wrapt<2,>=1.10 in /opt/conda/lib/python3.10/site-packages (from Deprecated->PyGithub) (1.15.0)\r\n",
      "Requirement already satisfied: six>=1.5 in /opt/conda/lib/python3.10/site-packages (from python-dateutil->PyGithub) (1.16.0)\r\n",
      "Requirement already satisfied: pycparser in /opt/conda/lib/python3.10/site-packages (from cffi>=1.4.1->pynacl>=1.4.0->PyGithub) (2.21)\r\n",
      "Downloading PyGithub-2.1.1-py3-none-any.whl (302 kB)\r\n",
      "\u001b[2K   \u001b[90m━━━━━━━━━━━━━━━━━━━━━━━━━━━━━━━━━━━━━━━━\u001b[0m \u001b[32m302.9/302.9 kB\u001b[0m \u001b[31m23.2 MB/s\u001b[0m eta \u001b[36m0:00:00\u001b[0m\r\n",
      "\u001b[?25hInstalling collected packages: pynacl, PyGithub\r\n",
      "Successfully installed PyGithub-2.1.1 pynacl-1.5.0\r\n"
     ]
    }
   ],
   "source": [
    "! pip install PyGithub requests"
   ]
  },
  {
   "cell_type": "code",
   "execution_count": 3,
   "id": "fb572017",
   "metadata": {
    "_kg_hide-output": true,
    "execution": {
     "iopub.execute_input": "2023-12-01T14:01:56.513867Z",
     "iopub.status.busy": "2023-12-01T14:01:56.513497Z",
     "iopub.status.idle": "2023-12-01T14:04:17.904999Z",
     "shell.execute_reply": "2023-12-01T14:04:17.903916Z"
    },
    "papermill": {
     "duration": 141.404613,
     "end_time": "2023-12-01T14:04:17.907645",
     "exception": false,
     "start_time": "2023-12-01T14:01:56.503032",
     "status": "completed"
    },
    "scrolled": true,
    "tags": []
   },
   "outputs": [
    {
     "name": "stdout",
     "output_type": "stream",
     "text": [
      "run_compile_all_cython: Found 10 Cython files in 4 folders...\r\n",
      "run_compile_all_cython: All files will be compiled using your current python environment: '/opt/conda/bin/python'\r\n",
      "Compiling [1/10]: MatrixFactorization_Cython_Epoch.pyx... \r\n",
      "In file included from \u001b[01m\u001b[K/opt/conda/lib/python3.10/site-packages/numpy/core/include/numpy/ndarraytypes.h:1940\u001b[m\u001b[K,\r\n",
      "                 from \u001b[01m\u001b[K/opt/conda/lib/python3.10/site-packages/numpy/core/include/numpy/ndarrayobject.h:12\u001b[m\u001b[K,\r\n",
      "                 from \u001b[01m\u001b[K/opt/conda/lib/python3.10/site-packages/numpy/core/include/numpy/arrayobject.h:5\u001b[m\u001b[K,\r\n",
      "                 from \u001b[01m\u001b[KMatrixFactorization_Cython_Epoch.c:1109\u001b[m\u001b[K:\r\n",
      "\u001b[01m\u001b[K/opt/conda/lib/python3.10/site-packages/numpy/core/include/numpy/npy_1_7_deprecated_api.h:17:2:\u001b[m\u001b[K \u001b[01;35m\u001b[Kwarning: \u001b[m\u001b[K#warning \"Using deprecated NumPy API, disable it with \" \"#define NPY_NO_DEPRECATED_API NPY_1_7_API_VERSION\" [\u001b[01;35m\u001b[K-Wcpp\u001b[m\u001b[K]\r\n",
      "   17 | #\u001b[01;35m\u001b[Kwarning\u001b[m\u001b[K \"Using deprecated NumPy API, disable it with \" \\\r\n",
      "      |  \u001b[01;35m\u001b[K^~~~~~~\u001b[m\u001b[K\r\n",
      "\u001b[01m\u001b[KMatrixFactorization_Cython_Epoch.c:\u001b[m\u001b[K In function ‘\u001b[01m\u001b[K__pyx_pf_32MatrixFactorization_Cython_Epoch_32MatrixFactorization_Cython_Epoch_10epochIteration_Cython_ASY_SVD_SGD\u001b[m\u001b[K’:\r\n",
      "\u001b[01m\u001b[KMatrixFactorization_Cython_Epoch.c:25614:9:\u001b[m\u001b[K \u001b[01;35m\u001b[Kwarning: \u001b[m\u001b[K‘\u001b[01m\u001b[K__pyx_v_end_pos_seen_items\u001b[m\u001b[K’ may be used uninitialized in this function [\u001b[01;35m\u001b[K-Wmaybe-uninitialized\u001b[m\u001b[K]\r\n",
      "25614 |         \u001b[01;35m\u001b[Kfor\u001b[m\u001b[K (__pyx_t_21 = __pyx_v_start_pos_seen_items; __pyx_t_21 < __pyx_t_20; __pyx_t_21+=1) {\r\n",
      "      |         \u001b[01;35m\u001b[K^~~\u001b[m\u001b[K\r\n",
      "\u001b[01m\u001b[KMatrixFactorization_Cython_Epoch.c:25614:9:\u001b[m\u001b[K \u001b[01;35m\u001b[Kwarning: \u001b[m\u001b[K‘\u001b[01m\u001b[K__pyx_v_start_pos_seen_items\u001b[m\u001b[K’ may be used uninitialized in this function [\u001b[01;35m\u001b[K-Wmaybe-uninitialized\u001b[m\u001b[K]\r\n",
      "/opt/conda/lib/python3.10/site-packages/Cython/Compiler/Main.py:381: FutureWarning: Cython directive 'language_level' not set, using '3str' for now (Py3). This has changed from earlier releases! File: /kaggle/working/Recsys_Challenge_2023/Recommenders/MatrixFactorization/Cython/MatrixFactorization_Cython_Epoch.pyx\r\n",
      "  tree = Parsing.p_module(s, pxd, full_module_name)\r\n",
      "Compiling [1/10]: MatrixFactorization_Cython_Epoch.pyx... PASS\r\n",
      "\r\n",
      "Compiling [2/10]: MatrixFactorizationImpressions_Cython_Epoch.pyx... \r\n",
      "In file included from \u001b[01m\u001b[K/opt/conda/lib/python3.10/site-packages/numpy/core/include/numpy/ndarraytypes.h:1940\u001b[m\u001b[K,\r\n",
      "                 from \u001b[01m\u001b[K/opt/conda/lib/python3.10/site-packages/numpy/core/include/numpy/ndarrayobject.h:12\u001b[m\u001b[K,\r\n",
      "                 from \u001b[01m\u001b[K/opt/conda/lib/python3.10/site-packages/numpy/core/include/numpy/arrayobject.h:5\u001b[m\u001b[K,\r\n",
      "                 from \u001b[01m\u001b[KMatrixFactorizationImpressions_Cython_Epoch.c:1109\u001b[m\u001b[K:\r\n",
      "\u001b[01m\u001b[K/opt/conda/lib/python3.10/site-packages/numpy/core/include/numpy/npy_1_7_deprecated_api.h:17:2:\u001b[m\u001b[K \u001b[01;35m\u001b[Kwarning: \u001b[m\u001b[K#warning \"Using deprecated NumPy API, disable it with \" \"#define NPY_NO_DEPRECATED_API NPY_1_7_API_VERSION\" [\u001b[01;35m\u001b[K-Wcpp\u001b[m\u001b[K]\r\n",
      "   17 | #\u001b[01;35m\u001b[Kwarning\u001b[m\u001b[K \"Using deprecated NumPy API, disable it with \" \\\r\n",
      "      |  \u001b[01;35m\u001b[K^~~~~~~\u001b[m\u001b[K\r\n",
      "\u001b[01m\u001b[KMatrixFactorizationImpressions_Cython_Epoch.c:\u001b[m\u001b[K In function ‘\u001b[01m\u001b[K__pyx_f_43MatrixFactorizationImpressions_Cython_Epoch_32MatrixFactorization_Cython_Epoch_sampleBPR_Cython\u001b[m\u001b[K’:\r\n",
      "\u001b[01m\u001b[KMatrixFactorizationImpressions_Cython_Epoch.c:29664:17:\u001b[m\u001b[K \u001b[01;35m\u001b[Kwarning: \u001b[m\u001b[K‘\u001b[01m\u001b[K__pyx_v_start_pos_impression_items\u001b[m\u001b[K’ may be used uninitialized in this function [\u001b[01;35m\u001b[K-Wmaybe-uninitialized\u001b[m\u001b[K]\r\n",
      "29664 |       \u001b[01;35m\u001b[K__pyx_t_4 = (__pyx_v_start_pos_impression_items + __pyx_v_index)\u001b[m\u001b[K;\r\n",
      "      |       \u001b[01;35m\u001b[K~~~~~~~~~~^~~~~~~~~~~~~~~~~~~~~~~~~~~~~~~~~~~~~~~~~~~~~~~~~~~~~~\u001b[m\u001b[K\r\n",
      "\u001b[01m\u001b[KMatrixFactorizationImpressions_Cython_Epoch.c:\u001b[m\u001b[K In function ‘\u001b[01m\u001b[K__pyx_pf_43MatrixFactorizationImpressions_Cython_Epoch_32MatrixFactorization_Cython_Epoch_10epochIteration_Cython_ASY_SVD_SGD\u001b[m\u001b[K’:\r\n",
      "\u001b[01m\u001b[KMatrixFactorizationImpressions_Cython_Epoch.c:25474:7:\u001b[m\u001b[K \u001b[01;35m\u001b[Kwarning: \u001b[m\u001b[K‘\u001b[01m\u001b[K__pyx_v_end_pos_seen_items\u001b[m\u001b[K’ may be used uninitialized in this function [\u001b[01;35m\u001b[K-Wmaybe-uninitialized\u001b[m\u001b[K]\r\n",
      "25474 |       \u001b[01;35m\u001b[Kfor\u001b[m\u001b[K (__pyx_t_21 = __pyx_v_start_pos_seen_items; __pyx_t_21 < __pyx_t_20; __pyx_t_21+=1) {\r\n",
      "      |       \u001b[01;35m\u001b[K^~~\u001b[m\u001b[K\r\n",
      "\u001b[01m\u001b[KMatrixFactorizationImpressions_Cython_Epoch.c:25474:7:\u001b[m\u001b[K \u001b[01;35m\u001b[Kwarning: \u001b[m\u001b[K‘\u001b[01m\u001b[K__pyx_v_start_pos_seen_items\u001b[m\u001b[K’ may be used uninitialized in this function [\u001b[01;35m\u001b[K-Wmaybe-uninitialized\u001b[m\u001b[K]\r\n",
      "/opt/conda/lib/python3.10/site-packages/Cython/Compiler/Main.py:381: FutureWarning: Cython directive 'language_level' not set, using '3str' for now (Py3). This has changed from earlier releases! File: /kaggle/working/Recsys_Challenge_2023/Recommenders/MatrixFactorization/Cython/MatrixFactorizationImpressions_Cython_Epoch.pyx\r\n",
      "  tree = Parsing.p_module(s, pxd, full_module_name)\r\n",
      "Compiling [2/10]: MatrixFactorizationImpressions_Cython_Epoch.pyx... PASS\r\n",
      "\r\n",
      "Compiling [3/10]: Compute_Similarity_Cython.pyx... \r\n",
      "warning: Compute_Similarity_Cython.pyx:21:0: The 'IF' statement is deprecated and will be removed in a future Cython version. Consider using runtime conditions or C macros instead. See https://github.com/cython/cython/issues/4310\r\n",
      "warning: Compute_Similarity_Cython.pyx:22:4: The 'DEF' statement is deprecated and will be removed in a future Cython version. Consider using global variables, constants, and in-place literals instead. See https://github.com/cython/cython/issues/4310\r\n",
      "warning: Compute_Similarity_Cython.pyx:24:4: The 'DEF' statement is deprecated and will be removed in a future Cython version. Consider using global variables, constants, and in-place literals instead. See https://github.com/cython/cython/issues/4310\r\n",
      "warning: Compute_Similarity_Cython.pyx:26:4: The 'DEF' statement is deprecated and will be removed in a future Cython version. Consider using global variables, constants, and in-place literals instead. See https://github.com/cython/cython/issues/4310\r\n",
      "In file included from \u001b[01m\u001b[K/opt/conda/lib/python3.10/site-packages/numpy/core/include/numpy/ndarraytypes.h:1940\u001b[m\u001b[K,\r\n",
      "                 from \u001b[01m\u001b[K/opt/conda/lib/python3.10/site-packages/numpy/core/include/numpy/ndarrayobject.h:12\u001b[m\u001b[K,\r\n",
      "                 from \u001b[01m\u001b[K/opt/conda/lib/python3.10/site-packages/numpy/core/include/numpy/arrayobject.h:5\u001b[m\u001b[K,\r\n",
      "                 from \u001b[01m\u001b[KCompute_Similarity_Cython.c:1109\u001b[m\u001b[K:\r\n",
      "\u001b[01m\u001b[K/opt/conda/lib/python3.10/site-packages/numpy/core/include/numpy/npy_1_7_deprecated_api.h:17:2:\u001b[m\u001b[K \u001b[01;35m\u001b[Kwarning: \u001b[m\u001b[K#warning \"Using deprecated NumPy API, disable it with \" \"#define NPY_NO_DEPRECATED_API NPY_1_7_API_VERSION\" [\u001b[01;35m\u001b[K-Wcpp\u001b[m\u001b[K]\r\n",
      "   17 | #\u001b[01;35m\u001b[Kwarning\u001b[m\u001b[K \"Using deprecated NumPy API, disable it with \" \\\r\n",
      "      |  \u001b[01;35m\u001b[K^~~~~~~\u001b[m\u001b[K\r\n",
      "/opt/conda/lib/python3.10/site-packages/Cython/Compiler/Main.py:381: FutureWarning: Cython directive 'language_level' not set, using '3str' for now (Py3). This has changed from earlier releases! File: /kaggle/working/Recsys_Challenge_2023/Recommenders/Similarity/Cython/Compute_Similarity_Cython.pyx\r\n",
      "  tree = Parsing.p_module(s, pxd, full_module_name)\r\n",
      "warning: Compute_Similarity_Cython.pyx:21:0: The 'IF' statement is deprecated and will be removed in a future Cython version. Consider using runtime conditions or C macros instead. See https://github.com/cython/cython/issues/4310\r\n",
      "warning: Compute_Similarity_Cython.pyx:22:4: The 'DEF' statement is deprecated and will be removed in a future Cython version. Consider using global variables, constants, and in-place literals instead. See https://github.com/cython/cython/issues/4310\r\n",
      "warning: Compute_Similarity_Cython.pyx:24:4: The 'DEF' statement is deprecated and will be removed in a future Cython version. Consider using global variables, constants, and in-place literals instead. See https://github.com/cython/cython/issues/4310\r\n",
      "warning: Compute_Similarity_Cython.pyx:26:4: The 'DEF' statement is deprecated and will be removed in a future Cython version. Consider using global variables, constants, and in-place literals instead. See https://github.com/cython/cython/issues/4310\r\n",
      "Compiling [3/10]: Compute_Similarity_Cython.pyx... PASS\r\n",
      "\r\n",
      "Compiling [4/10]: Triangular_Matrix.pyx... \r\n",
      "warning: Triangular_Matrix.pyx:22:0: The 'IF' statement is deprecated and will be removed in a future Cython version. Consider using runtime conditions or C macros instead. See https://github.com/cython/cython/issues/4310\r\n",
      "warning: Triangular_Matrix.pyx:23:4: The 'DEF' statement is deprecated and will be removed in a future Cython version. Consider using global variables, constants, and in-place literals instead. See https://github.com/cython/cython/issues/4310\r\n",
      "warning: Triangular_Matrix.pyx:25:4: The 'DEF' statement is deprecated and will be removed in a future Cython version. Consider using global variables, constants, and in-place literals instead. See https://github.com/cython/cython/issues/4310\r\n",
      "warning: Triangular_Matrix.pyx:27:4: The 'DEF' statement is deprecated and will be removed in a future Cython version. Consider using global variables, constants, and in-place literals instead. See https://github.com/cython/cython/issues/4310\r\n",
      "In file included from \u001b[01m\u001b[K/opt/conda/lib/python3.10/site-packages/numpy/core/include/numpy/ndarraytypes.h:1940\u001b[m\u001b[K,\r\n",
      "                 from \u001b[01m\u001b[K/opt/conda/lib/python3.10/site-packages/numpy/core/include/numpy/ndarrayobject.h:12\u001b[m\u001b[K,\r\n",
      "                 from \u001b[01m\u001b[K/opt/conda/lib/python3.10/site-packages/numpy/core/include/numpy/arrayobject.h:5\u001b[m\u001b[K,\r\n",
      "                 from \u001b[01m\u001b[KTriangular_Matrix.c:1109\u001b[m\u001b[K:\r\n",
      "\u001b[01m\u001b[K/opt/conda/lib/python3.10/site-packages/numpy/core/include/numpy/npy_1_7_deprecated_api.h:17:2:\u001b[m\u001b[K \u001b[01;35m\u001b[Kwarning: \u001b[m\u001b[K#warning \"Using deprecated NumPy API, disable it with \" \"#define NPY_NO_DEPRECATED_API NPY_1_7_API_VERSION\" [\u001b[01;35m\u001b[K-Wcpp\u001b[m\u001b[K]\r\n",
      "   17 | #\u001b[01;35m\u001b[Kwarning\u001b[m\u001b[K \"Using deprecated NumPy API, disable it with \" \\\r\n",
      "      |  \u001b[01;35m\u001b[K^~~~~~~\u001b[m\u001b[K\r\n",
      "/opt/conda/lib/python3.10/site-packages/Cython/Compiler/Main.py:381: FutureWarning: Cython directive 'language_level' not set, using '3str' for now (Py3). This has changed from earlier releases! File: /kaggle/working/Recsys_Challenge_2023/Recommenders/SLIM/Cython/Triangular_Matrix.pyx\r\n",
      "  tree = Parsing.p_module(s, pxd, full_module_name)\r\n",
      "warning: Triangular_Matrix.pyx:22:0: The 'IF' statement is deprecated and will be removed in a future Cython version. Consider using runtime conditions or C macros instead. See https://github.com/cython/cython/issues/4310\r\n",
      "warning: Triangular_Matrix.pyx:23:4: The 'DEF' statement is deprecated and will be removed in a future Cython version. Consider using global variables, constants, and in-place literals instead. See https://github.com/cython/cython/issues/4310\r\n",
      "warning: Triangular_Matrix.pyx:25:4: The 'DEF' statement is deprecated and will be removed in a future Cython version. Consider using global variables, constants, and in-place literals instead. See https://github.com/cython/cython/issues/4310\r\n",
      "warning: Triangular_Matrix.pyx:27:4: The 'DEF' statement is deprecated and will be removed in a future Cython version. Consider using global variables, constants, and in-place literals instead. See https://github.com/cython/cython/issues/4310\r\n",
      "Compiling [4/10]: Triangular_Matrix.pyx... PASS\r\n",
      "\r\n",
      "Compiling [5/10]: SLIM_BPR_Cython_Epoch.pyx... \r\n",
      "warning: SLIM_BPR_Cython_Epoch.pyx:24:0: The 'IF' statement is deprecated and will be removed in a future Cython version. Consider using runtime conditions or C macros instead. See https://github.com/cython/cython/issues/4310\r\n",
      "warning: SLIM_BPR_Cython_Epoch.pyx:25:4: The 'DEF' statement is deprecated and will be removed in a future Cython version. Consider using global variables, constants, and in-place literals instead. See https://github.com/cython/cython/issues/4310\r\n",
      "warning: SLIM_BPR_Cython_Epoch.pyx:27:4: The 'DEF' statement is deprecated and will be removed in a future Cython version. Consider using global variables, constants, and in-place literals instead. See https://github.com/cython/cython/issues/4310\r\n",
      "warning: SLIM_BPR_Cython_Epoch.pyx:29:4: The 'DEF' statement is deprecated and will be removed in a future Cython version. Consider using global variables, constants, and in-place literals instead. See https://github.com/cython/cython/issues/4310\r\n",
      "warning: SLIM_BPR_Cython_Epoch.pyx:632:34: Non-trivial type declarators in shared declaration (e.g. mix of pointers and values). Each pointer declaration should be on its own line.\r\n",
      "warning: SLIM_BPR_Cython_Epoch.pyx:632:66: Non-trivial type declarators in shared declaration (e.g. mix of pointers and values). Each pointer declaration should be on its own line.\r\n",
      "warning: SLIM_BPR_Cython_Epoch.pyx:817:35: Non-trivial type declarators in shared declaration (e.g. mix of pointers and values). Each pointer declaration should be on its own line.\r\n",
      "warning: SLIM_BPR_Cython_Epoch.pyx:817:52: Non-trivial type declarators in shared declaration (e.g. mix of pointers and values). Each pointer declaration should be on its own line.\r\n",
      "warning: SLIM_BPR_Cython_Epoch.pyx:916:35: Non-trivial type declarators in shared declaration (e.g. mix of pointers and values). Each pointer declaration should be on its own line.\r\n",
      "warning: SLIM_BPR_Cython_Epoch.pyx:916:53: Non-trivial type declarators in shared declaration (e.g. mix of pointers and values). Each pointer declaration should be on its own line.\r\n",
      "warning: SLIM_BPR_Cython_Epoch.pyx:916:69: Non-trivial type declarators in shared declaration (e.g. mix of pointers and values). Each pointer declaration should be on its own line.\r\n",
      "warning: SLIM_BPR_Cython_Epoch.pyx:1051:35: Non-trivial type declarators in shared declaration (e.g. mix of pointers and values). Each pointer declaration should be on its own line.\r\n",
      "warning: SLIM_BPR_Cython_Epoch.pyx:1051:42: Non-trivial type declarators in shared declaration (e.g. mix of pointers and values). Each pointer declaration should be on its own line.\r\n",
      "warning: SLIM_BPR_Cython_Epoch.pyx:1052:35: Non-trivial type declarators in shared declaration (e.g. mix of pointers and values). Each pointer declaration should be on its own line.\r\n",
      "warning: SLIM_BPR_Cython_Epoch.pyx:1052:53: Non-trivial type declarators in shared declaration (e.g. mix of pointers and values). Each pointer declaration should be on its own line.\r\n",
      "\r\n",
      "Error compiling Cython file:\r\n",
      "------------------------------------------------------------\r\n",
      "...\r\n",
      "            vector_pointer_to_list_elements[index].head = current_element\r\n",
      "            current_element = current_element.higher\r\n",
      "\r\n",
      "\r\n",
      "        # Sort array elements on their data field\r\n",
      "        qsort(vector_pointer_to_list_elements, list_length, sizeof(head_pointer_tree_s), compare_struct_on_data)\r\n",
      "                                                                                         ^\r\n",
      "------------------------------------------------------------\r\n",
      "\r\n",
      "SLIM_BPR_Cython_Epoch.pyx:990:89: Cannot assign type 'int (const void *, const void *) except? -1' to 'int (*)(const_void *, const_void *) noexcept'\r\n",
      "\r\n",
      "Error compiling Cython file:\r\n",
      "------------------------------------------------------------\r\n",
      "...\r\n",
      "        # Sort array elements on their data field\r\n",
      "        qsort(vector_pointer_to_list_elements, list_length, sizeof(head_pointer_tree_s), compare_struct_on_data)\r\n",
      "\r\n",
      "        # Sort only the TopK according to their column field\r\n",
      "        # Sort is from lower to higher, therefore the elements to be considered are from len-topK to len\r\n",
      "        qsort(&vector_pointer_to_list_elements[list_length-TopK], TopK, sizeof(head_pointer_tree_s), compare_struct_on_column)\r\n",
      "                                                                                                     ^\r\n",
      "------------------------------------------------------------\r\n",
      "\r\n",
      "SLIM_BPR_Cython_Epoch.pyx:994:101: Cannot assign type 'int (const void *, const void *) except? -1' to 'int (*)(const_void *, const_void *) noexcept'\r\n",
      "Traceback (most recent call last):\r\n",
      "  File \"/kaggle/working/Recsys_Challenge_2023/CythonCompiler/compile_script.py\", line 48, in <module>\r\n",
      "    setup(\r\n",
      "  File \"/opt/conda/lib/python3.10/site-packages/setuptools/__init__.py\", line 107, in setup\r\n",
      "    return distutils.core.setup(**attrs)\r\n",
      "  File \"/opt/conda/lib/python3.10/site-packages/setuptools/_distutils/core.py\", line 185, in setup\r\n",
      "    return run_commands(dist)\r\n",
      "  File \"/opt/conda/lib/python3.10/site-packages/setuptools/_distutils/core.py\", line 201, in run_commands\r\n",
      "    dist.run_commands()\r\n",
      "  File \"/opt/conda/lib/python3.10/site-packages/setuptools/_distutils/dist.py\", line 969, in run_commands\r\n",
      "    self.run_command(cmd)\r\n",
      "  File \"/opt/conda/lib/python3.10/site-packages/setuptools/dist.py\", line 1233, in run_command\r\n",
      "    super().run_command(command)\r\n",
      "  File \"/opt/conda/lib/python3.10/site-packages/setuptools/_distutils/dist.py\", line 988, in run_command\r\n",
      "    cmd_obj.run()\r\n",
      "  File \"/opt/conda/lib/python3.10/site-packages/setuptools/_distutils/command/build_ext.py\", line 345, in run\r\n",
      "    self.build_extensions()\r\n",
      "  File \"/opt/conda/lib/python3.10/site-packages/setuptools/_distutils/command/build_ext.py\", line 467, in build_extensions\r\n",
      "    self._build_extensions_serial()\r\n",
      "  File \"/opt/conda/lib/python3.10/site-packages/setuptools/_distutils/command/build_ext.py\", line 493, in _build_extensions_serial\r\n",
      "    self.build_extension(ext)\r\n",
      "  File \"/opt/conda/lib/python3.10/site-packages/Cython/Distutils/build_ext.py\", line 122, in build_extension\r\n",
      "    new_ext = cythonize(\r\n",
      "  File \"/opt/conda/lib/python3.10/site-packages/Cython/Build/Dependencies.py\", line 1134, in cythonize\r\n",
      "    cythonize_one(*args)\r\n",
      "  File \"/opt/conda/lib/python3.10/site-packages/Cython/Build/Dependencies.py\", line 1301, in cythonize_one\r\n",
      "    raise CompileError(None, pyx_file)\r\n",
      "Cython.Compiler.Errors.CompileError: SLIM_BPR_Cython_Epoch.pyx\r\n",
      "Traceback (most recent call last):\r\n",
      "  File \"/kaggle/working/Recsys_Challenge_2023/run_compile_all_cython.py\", line 59, in <module>\r\n",
      "    run_compile_subprocess(file_path, [file_name])\r\n",
      "  File \"/kaggle/working/Recsys_Challenge_2023/CythonCompiler/run_compile_subprocess.py\", line 51, in run_compile_subprocess\r\n",
      "    raise exc\r\n",
      "  File \"/kaggle/working/Recsys_Challenge_2023/CythonCompiler/run_compile_subprocess.py\", line 32, in run_compile_subprocess\r\n",
      "    output = subprocess.check_output(' '.join(command),\r\n",
      "  File \"/opt/conda/lib/python3.10/subprocess.py\", line 421, in check_output\r\n",
      "    return run(*popenargs, stdout=PIPE, timeout=timeout, check=True,\r\n",
      "  File \"/opt/conda/lib/python3.10/subprocess.py\", line 526, in run\r\n",
      "    raise CalledProcessError(retcode, process.args,\r\n",
      "subprocess.CalledProcessError: Command '/opt/conda/bin/python /kaggle/working/Recsys_Challenge_2023/CythonCompiler/compile_script.py SLIM_BPR_Cython_Epoch.pyx build_ext --inplace' returned non-zero exit status 1.\r\n",
      "Compiling [5/10]: SLIM_BPR_Cython_Epoch.pyx... FAIL: Command '/opt/conda/bin/python /kaggle/working/Recsys_Challenge_2023/CythonCompiler/compile_script.py SLIM_BPR_Cython_Epoch.pyx build_ext --inplace' returned non-zero exit status 1.\r\n",
      "\r\n",
      "Compiling [6/10]: Sparse_Matrix_Tree_CSR.pyx... \r\n",
      "warning: Sparse_Matrix_Tree_CSR.pyx:132:34: Non-trivial type declarators in shared declaration (e.g. mix of pointers and values). Each pointer declaration should be on its own line.\r\n",
      "warning: Sparse_Matrix_Tree_CSR.pyx:132:66: Non-trivial type declarators in shared declaration (e.g. mix of pointers and values). Each pointer declaration should be on its own line.\r\n",
      "warning: Sparse_Matrix_Tree_CSR.pyx:343:35: Non-trivial type declarators in shared declaration (e.g. mix of pointers and values). Each pointer declaration should be on its own line.\r\n",
      "warning: Sparse_Matrix_Tree_CSR.pyx:343:52: Non-trivial type declarators in shared declaration (e.g. mix of pointers and values). Each pointer declaration should be on its own line.\r\n",
      "warning: Sparse_Matrix_Tree_CSR.pyx:442:35: Non-trivial type declarators in shared declaration (e.g. mix of pointers and values). Each pointer declaration should be on its own line.\r\n",
      "warning: Sparse_Matrix_Tree_CSR.pyx:442:53: Non-trivial type declarators in shared declaration (e.g. mix of pointers and values). Each pointer declaration should be on its own line.\r\n",
      "warning: Sparse_Matrix_Tree_CSR.pyx:442:69: Non-trivial type declarators in shared declaration (e.g. mix of pointers and values). Each pointer declaration should be on its own line.\r\n",
      "warning: Sparse_Matrix_Tree_CSR.pyx:577:35: Non-trivial type declarators in shared declaration (e.g. mix of pointers and values). Each pointer declaration should be on its own line.\r\n",
      "warning: Sparse_Matrix_Tree_CSR.pyx:577:42: Non-trivial type declarators in shared declaration (e.g. mix of pointers and values). Each pointer declaration should be on its own line.\r\n",
      "warning: Sparse_Matrix_Tree_CSR.pyx:578:35: Non-trivial type declarators in shared declaration (e.g. mix of pointers and values). Each pointer declaration should be on its own line.\r\n",
      "warning: Sparse_Matrix_Tree_CSR.pyx:578:53: Non-trivial type declarators in shared declaration (e.g. mix of pointers and values). Each pointer declaration should be on its own line.\r\n",
      "\r\n",
      "Error compiling Cython file:\r\n",
      "------------------------------------------------------------\r\n",
      "...\r\n",
      "            vector_pointer_to_list_elements[index].head = current_element\r\n",
      "            current_element = current_element.higher\r\n",
      "\r\n",
      "\r\n",
      "        # Sort array elements on their data field\r\n",
      "        qsort(vector_pointer_to_list_elements, list_length, sizeof(head_pointer_tree_s), compare_struct_on_data)\r\n",
      "                                                                                         ^\r\n",
      "------------------------------------------------------------\r\n",
      "\r\n",
      "Sparse_Matrix_Tree_CSR.pyx:516:89: Cannot assign type 'int (const void *, const void *) except? -1' to 'int (*)(const_void *, const_void *) noexcept'\r\n",
      "\r\n",
      "Error compiling Cython file:\r\n",
      "------------------------------------------------------------\r\n",
      "...\r\n",
      "        # Sort array elements on their data field\r\n",
      "        qsort(vector_pointer_to_list_elements, list_length, sizeof(head_pointer_tree_s), compare_struct_on_data)\r\n",
      "\r\n",
      "        # Sort only the TopK according to their column field\r\n",
      "        # Sort is from lower to higher, therefore the elements to be considered are from len-topK to len\r\n",
      "        qsort(&vector_pointer_to_list_elements[list_length-TopK], TopK, sizeof(head_pointer_tree_s), compare_struct_on_column)\r\n",
      "                                                                                                     ^\r\n",
      "------------------------------------------------------------\r\n",
      "\r\n",
      "Sparse_Matrix_Tree_CSR.pyx:520:101: Cannot assign type 'int (const void *, const void *) except? -1' to 'int (*)(const_void *, const_void *) noexcept'\r\n",
      "Traceback (most recent call last):\r\n",
      "  File \"/kaggle/working/Recsys_Challenge_2023/CythonCompiler/compile_script.py\", line 48, in <module>\r\n",
      "    setup(\r\n",
      "  File \"/opt/conda/lib/python3.10/site-packages/setuptools/__init__.py\", line 107, in setup\r\n",
      "    return distutils.core.setup(**attrs)\r\n",
      "  File \"/opt/conda/lib/python3.10/site-packages/setuptools/_distutils/core.py\", line 185, in setup\r\n",
      "    return run_commands(dist)\r\n",
      "  File \"/opt/conda/lib/python3.10/site-packages/setuptools/_distutils/core.py\", line 201, in run_commands\r\n",
      "    dist.run_commands()\r\n",
      "  File \"/opt/conda/lib/python3.10/site-packages/setuptools/_distutils/dist.py\", line 969, in run_commands\r\n",
      "    self.run_command(cmd)\r\n",
      "  File \"/opt/conda/lib/python3.10/site-packages/setuptools/dist.py\", line 1233, in run_command\r\n",
      "    super().run_command(command)\r\n",
      "  File \"/opt/conda/lib/python3.10/site-packages/setuptools/_distutils/dist.py\", line 988, in run_command\r\n",
      "    cmd_obj.run()\r\n",
      "  File \"/opt/conda/lib/python3.10/site-packages/setuptools/_distutils/command/build_ext.py\", line 345, in run\r\n",
      "    self.build_extensions()\r\n",
      "  File \"/opt/conda/lib/python3.10/site-packages/setuptools/_distutils/command/build_ext.py\", line 467, in build_extensions\r\n",
      "    self._build_extensions_serial()\r\n",
      "  File \"/opt/conda/lib/python3.10/site-packages/setuptools/_distutils/command/build_ext.py\", line 493, in _build_extensions_serial\r\n",
      "    self.build_extension(ext)\r\n",
      "  File \"/opt/conda/lib/python3.10/site-packages/Cython/Distutils/build_ext.py\", line 122, in build_extension\r\n",
      "    new_ext = cythonize(\r\n",
      "  File \"/opt/conda/lib/python3.10/site-packages/Cython/Build/Dependencies.py\", line 1134, in cythonize\r\n",
      "    cythonize_one(*args)\r\n",
      "  File \"/opt/conda/lib/python3.10/site-packages/Cython/Build/Dependencies.py\", line 1301, in cythonize_one\r\n",
      "    raise CompileError(None, pyx_file)\r\n",
      "Cython.Compiler.Errors.CompileError: Sparse_Matrix_Tree_CSR.pyx\r\n",
      "Traceback (most recent call last):\r\n",
      "  File \"/kaggle/working/Recsys_Challenge_2023/run_compile_all_cython.py\", line 59, in <module>\r\n",
      "    run_compile_subprocess(file_path, [file_name])\r\n",
      "  File \"/kaggle/working/Recsys_Challenge_2023/CythonCompiler/run_compile_subprocess.py\", line 51, in run_compile_subprocess\r\n",
      "    raise exc\r\n",
      "  File \"/kaggle/working/Recsys_Challenge_2023/CythonCompiler/run_compile_subprocess.py\", line 32, in run_compile_subprocess\r\n",
      "    output = subprocess.check_output(' '.join(command),\r\n",
      "  File \"/opt/conda/lib/python3.10/subprocess.py\", line 421, in check_output\r\n",
      "    return run(*popenargs, stdout=PIPE, timeout=timeout, check=True,\r\n",
      "  File \"/opt/conda/lib/python3.10/subprocess.py\", line 526, in run\r\n",
      "    raise CalledProcessError(retcode, process.args,\r\n",
      "subprocess.CalledProcessError: Command '/opt/conda/bin/python /kaggle/working/Recsys_Challenge_2023/CythonCompiler/compile_script.py Sparse_Matrix_Tree_CSR.pyx build_ext --inplace' returned non-zero exit status 1.\r\n",
      "Compiling [6/10]: Sparse_Matrix_Tree_CSR.pyx... FAIL: Command '/opt/conda/bin/python /kaggle/working/Recsys_Challenge_2023/CythonCompiler/compile_script.py Sparse_Matrix_Tree_CSR.pyx build_ext --inplace' returned non-zero exit status 1.\r\n",
      "\r\n",
      "Compiling [7/10]: CFW_DVV_Similarity_Cython_SGD.pyx... \r\n",
      "In file included from \u001b[01m\u001b[K/opt/conda/lib/python3.10/site-packages/numpy/core/include/numpy/ndarraytypes.h:1940\u001b[m\u001b[K,\r\n",
      "                 from \u001b[01m\u001b[K/opt/conda/lib/python3.10/site-packages/numpy/core/include/numpy/ndarrayobject.h:12\u001b[m\u001b[K,\r\n",
      "                 from \u001b[01m\u001b[K/opt/conda/lib/python3.10/site-packages/numpy/core/include/numpy/arrayobject.h:5\u001b[m\u001b[K,\r\n",
      "                 from \u001b[01m\u001b[KCFW_DVV_Similarity_Cython_SGD.c:1109\u001b[m\u001b[K:\r\n",
      "\u001b[01m\u001b[K/opt/conda/lib/python3.10/site-packages/numpy/core/include/numpy/npy_1_7_deprecated_api.h:17:2:\u001b[m\u001b[K \u001b[01;35m\u001b[Kwarning: \u001b[m\u001b[K#warning \"Using deprecated NumPy API, disable it with \" \"#define NPY_NO_DEPRECATED_API NPY_1_7_API_VERSION\" [\u001b[01;35m\u001b[K-Wcpp\u001b[m\u001b[K]\r\n",
      "   17 | #\u001b[01;35m\u001b[Kwarning\u001b[m\u001b[K \"Using deprecated NumPy API, disable it with \" \\\r\n",
      "      |  \u001b[01;35m\u001b[K^~~~~~~\u001b[m\u001b[K\r\n",
      "/opt/conda/lib/python3.10/site-packages/Cython/Compiler/Main.py:381: FutureWarning: Cython directive 'language_level' not set, using '3str' for now (Py3). This has changed from earlier releases! File: /kaggle/working/Recsys_Challenge_2023/Recommenders/FeatureWeighting/Cython/CFW_DVV_Similarity_Cython_SGD.pyx\r\n",
      "  tree = Parsing.p_module(s, pxd, full_module_name)\r\n",
      "Compiling [7/10]: CFW_DVV_Similarity_Cython_SGD.pyx... PASS\r\n",
      "\r\n",
      "Compiling [8/10]: HP3_Similarity_Cython_SGD.pyx... \r\n",
      "warning: HP3_Similarity_Cython_SGD.pyx:113:40: Index should be typed for more efficient access\r\n",
      "In file included from \u001b[01m\u001b[K/opt/conda/lib/python3.10/site-packages/numpy/core/include/numpy/ndarraytypes.h:1940\u001b[m\u001b[K,\r\n",
      "                 from \u001b[01m\u001b[K/opt/conda/lib/python3.10/site-packages/numpy/core/include/numpy/ndarrayobject.h:12\u001b[m\u001b[K,\r\n",
      "                 from \u001b[01m\u001b[K/opt/conda/lib/python3.10/site-packages/numpy/core/include/numpy/arrayobject.h:5\u001b[m\u001b[K,\r\n",
      "                 from \u001b[01m\u001b[KHP3_Similarity_Cython_SGD.c:1109\u001b[m\u001b[K:\r\n",
      "\u001b[01m\u001b[K/opt/conda/lib/python3.10/site-packages/numpy/core/include/numpy/npy_1_7_deprecated_api.h:17:2:\u001b[m\u001b[K \u001b[01;35m\u001b[Kwarning: \u001b[m\u001b[K#warning \"Using deprecated NumPy API, disable it with \" \"#define NPY_NO_DEPRECATED_API NPY_1_7_API_VERSION\" [\u001b[01;35m\u001b[K-Wcpp\u001b[m\u001b[K]\r\n",
      "   17 | #\u001b[01;35m\u001b[Kwarning\u001b[m\u001b[K \"Using deprecated NumPy API, disable it with \" \\\r\n",
      "      |  \u001b[01;35m\u001b[K^~~~~~~\u001b[m\u001b[K\r\n",
      "\u001b[01m\u001b[KHP3_Similarity_Cython_SGD.c:\u001b[m\u001b[K In function ‘\u001b[01m\u001b[K__pyx_pf_25HP3_Similarity_Cython_SGD_25HP3_Similarity_Cython_SGD_4fit\u001b[m\u001b[K’:\r\n",
      "\u001b[01m\u001b[KHP3_Similarity_Cython_SGD.c:23035:55:\u001b[m\u001b[K \u001b[01;35m\u001b[Kwarning: \u001b[m\u001b[K‘\u001b[01m\u001b[K__pyx_v_sample_num\u001b[m\u001b[K’ may be used uninitialized in this function [\u001b[01;35m\u001b[K-Wmaybe-uninitialized\u001b[m\u001b[K]\r\n",
      "23035 |   __pyx_t_1 = PyFloat_FromDouble((__pyx_v_cum_loss / \u001b[01;35m\u001b[K((double)__pyx_v_sample_num)\u001b[m\u001b[K)); if (unlikely(!__pyx_t_1)) __PYX_ERR(0, 291, __pyx_L1_error)\r\n",
      "      |                                                      \u001b[01;35m\u001b[K~^~~~~~~~~~~~~~~~~~~~~~~~~~~\u001b[m\u001b[K\r\n",
      "/opt/conda/lib/python3.10/site-packages/Cython/Compiler/Main.py:381: FutureWarning: Cython directive 'language_level' not set, using '3str' for now (Py3). This has changed from earlier releases! File: /kaggle/working/Recsys_Challenge_2023/Recommenders/FeatureWeighting/Cython/HP3_Similarity_Cython_SGD.pyx\r\n",
      "  tree = Parsing.p_module(s, pxd, full_module_name)\r\n",
      "warning: HP3_Similarity_Cython_SGD.pyx:113:40: Index should be typed for more efficient access\r\n",
      "Compiling [8/10]: HP3_Similarity_Cython_SGD.pyx... PASS\r\n",
      "\r\n",
      "Compiling [9/10]: CFW_D_Similarity_Cython_SGD.pyx... \r\n",
      "In file included from \u001b[01m\u001b[K/opt/conda/lib/python3.10/site-packages/numpy/core/include/numpy/ndarraytypes.h:1940\u001b[m\u001b[K,\r\n",
      "                 from \u001b[01m\u001b[K/opt/conda/lib/python3.10/site-packages/numpy/core/include/numpy/ndarrayobject.h:12\u001b[m\u001b[K,\r\n",
      "                 from \u001b[01m\u001b[K/opt/conda/lib/python3.10/site-packages/numpy/core/include/numpy/arrayobject.h:5\u001b[m\u001b[K,\r\n",
      "                 from \u001b[01m\u001b[KCFW_D_Similarity_Cython_SGD.c:1109\u001b[m\u001b[K:\r\n",
      "\u001b[01m\u001b[K/opt/conda/lib/python3.10/site-packages/numpy/core/include/numpy/npy_1_7_deprecated_api.h:17:2:\u001b[m\u001b[K \u001b[01;35m\u001b[Kwarning: \u001b[m\u001b[K#warning \"Using deprecated NumPy API, disable it with \" \"#define NPY_NO_DEPRECATED_API NPY_1_7_API_VERSION\" [\u001b[01;35m\u001b[K-Wcpp\u001b[m\u001b[K]\r\n",
      "   17 | #\u001b[01;35m\u001b[Kwarning\u001b[m\u001b[K \"Using deprecated NumPy API, disable it with \" \\\r\n",
      "      |  \u001b[01;35m\u001b[K^~~~~~~\u001b[m\u001b[K\r\n",
      "\u001b[01m\u001b[KCFW_D_Similarity_Cython_SGD.c:\u001b[m\u001b[K In function ‘\u001b[01m\u001b[K__pyx_pf_27CFW_D_Similarity_Cython_SGD_27CFW_D_Similarity_Cython_SGD_6fit\u001b[m\u001b[K’:\r\n",
      "\u001b[01m\u001b[KCFW_D_Similarity_Cython_SGD.c:22766:55:\u001b[m\u001b[K \u001b[01;35m\u001b[Kwarning: \u001b[m\u001b[K‘\u001b[01m\u001b[K__pyx_v_sample_num\u001b[m\u001b[K’ may be used uninitialized in this function [\u001b[01;35m\u001b[K-Wmaybe-uninitialized\u001b[m\u001b[K]\r\n",
      "22766 |   __pyx_t_3 = PyFloat_FromDouble((__pyx_v_cum_loss / \u001b[01;35m\u001b[K((double)__pyx_v_sample_num)\u001b[m\u001b[K)); if (unlikely(!__pyx_t_3)) __PYX_ERR(0, 290, __pyx_L1_error)\r\n",
      "      |                                                      \u001b[01;35m\u001b[K~^~~~~~~~~~~~~~~~~~~~~~~~~~~\u001b[m\u001b[K\r\n",
      "/opt/conda/lib/python3.10/site-packages/Cython/Compiler/Main.py:381: FutureWarning: Cython directive 'language_level' not set, using '3str' for now (Py3). This has changed from earlier releases! File: /kaggle/working/Recsys_Challenge_2023/Recommenders/FeatureWeighting/Cython/CFW_D_Similarity_Cython_SGD.pyx\r\n",
      "  tree = Parsing.p_module(s, pxd, full_module_name)\r\n",
      "Compiling [9/10]: CFW_D_Similarity_Cython_SGD.pyx... PASS\r\n",
      "\r\n",
      "Compiling [10/10]: FBSM_Rating_Cython_SGD.pyx... \r\n",
      "In file included from \u001b[01m\u001b[K/opt/conda/lib/python3.10/site-packages/numpy/core/include/numpy/ndarraytypes.h:1940\u001b[m\u001b[K,\r\n",
      "                 from \u001b[01m\u001b[K/opt/conda/lib/python3.10/site-packages/numpy/core/include/numpy/ndarrayobject.h:12\u001b[m\u001b[K,\r\n",
      "                 from \u001b[01m\u001b[K/opt/conda/lib/python3.10/site-packages/numpy/core/include/numpy/arrayobject.h:5\u001b[m\u001b[K,\r\n",
      "                 from \u001b[01m\u001b[KFBSM_Rating_Cython_SGD.c:1109\u001b[m\u001b[K:\r\n",
      "\u001b[01m\u001b[K/opt/conda/lib/python3.10/site-packages/numpy/core/include/numpy/npy_1_7_deprecated_api.h:17:2:\u001b[m\u001b[K \u001b[01;35m\u001b[Kwarning: \u001b[m\u001b[K#warning \"Using deprecated NumPy API, disable it with \" \"#define NPY_NO_DEPRECATED_API NPY_1_7_API_VERSION\" [\u001b[01;35m\u001b[K-Wcpp\u001b[m\u001b[K]\r\n",
      "   17 | #\u001b[01;35m\u001b[Kwarning\u001b[m\u001b[K \"Using deprecated NumPy API, disable it with \" \\\r\n",
      "      |  \u001b[01;35m\u001b[K^~~~~~~\u001b[m\u001b[K\r\n",
      "\u001b[01m\u001b[KFBSM_Rating_Cython_SGD.c:\u001b[m\u001b[K In function ‘\u001b[01m\u001b[K__pyx_pf_22FBSM_Rating_Cython_SGD_22FBSM_Rating_Cython_SGD_2fit\u001b[m\u001b[K’:\r\n",
      "\u001b[01m\u001b[KFBSM_Rating_Cython_SGD.c:26038:55:\u001b[m\u001b[K \u001b[01;35m\u001b[Kwarning: \u001b[m\u001b[K‘\u001b[01m\u001b[K__pyx_v_num_sample\u001b[m\u001b[K’ may be used uninitialized in this function [\u001b[01;35m\u001b[K-Wmaybe-uninitialized\u001b[m\u001b[K]\r\n",
      "26038 |   __pyx_t_5 = PyFloat_FromDouble((__pyx_v_cum_loss / \u001b[01;35m\u001b[K((double)__pyx_v_num_sample)\u001b[m\u001b[K)); if (unlikely(!__pyx_t_5)) __PYX_ERR(0, 551, __pyx_L1_error)\r\n",
      "      |                                                      \u001b[01;35m\u001b[K~^~~~~~~~~~~~~~~~~~~~~~~~~~~\u001b[m\u001b[K\r\n",
      "/opt/conda/lib/python3.10/site-packages/Cython/Compiler/Main.py:381: FutureWarning: Cython directive 'language_level' not set, using '3str' for now (Py3). This has changed from earlier releases! File: /kaggle/working/Recsys_Challenge_2023/Recommenders/FeatureWeighting/Cython/FBSM_Rating_Cython_SGD.pyx\r\n",
      "  tree = Parsing.p_module(s, pxd, full_module_name)\r\n",
      "Compiling [10/10]: FBSM_Rating_Cython_SGD.pyx... PASS\r\n",
      "\r\n",
      "run_compile_all_cython: Compilation finished. FAILS 2/10.\r\n",
      "Compilation log can be found here: './result_experiments/run_compile_all_cython.txt'\r\n"
     ]
    }
   ],
   "source": [
    "! cd /kaggle/working/Recsys_Challenge_2023 && python run_compile_all_cython.py"
   ]
  },
  {
   "cell_type": "code",
   "execution_count": 4,
   "id": "08e5f9fb",
   "metadata": {
    "execution": {
     "iopub.execute_input": "2023-12-01T14:04:17.937900Z",
     "iopub.status.busy": "2023-12-01T14:04:17.937514Z",
     "iopub.status.idle": "2023-12-01T14:04:20.758562Z",
     "shell.execute_reply": "2023-12-01T14:04:20.757402Z"
    },
    "papermill": {
     "duration": 2.839557,
     "end_time": "2023-12-01T14:04:20.761332",
     "exception": false,
     "start_time": "2023-12-01T14:04:17.921775",
     "status": "completed"
    },
    "tags": []
   },
   "outputs": [
    {
     "name": "stdout",
     "output_type": "stream",
     "text": [
      "/kaggle/input/recommender-system-2023-challenge-polimi/data_train.csv\n",
      "/kaggle/input/recommender-system-2023-challenge-polimi/data_target_users_test.csv\n"
     ]
    }
   ],
   "source": [
    "import numpy as np\n",
    "import pandas as pd\n",
    "import matplotlib.pyplot as plt\n",
    "import seaborn as sns\n",
    "import joblib\n",
    "import json\n",
    "import random\n",
    "import tqdm\n",
    "import gc\n",
    "import time\n",
    "import os\n",
    "import shutil\n",
    "import optuna\n",
    "import scipy.sparse as sps\n",
    "\n",
    "for dirname, _, filenames in os.walk('/kaggle/input'):\n",
    "    for filename in filenames:\n",
    "        print(os.path.join(dirname, filename))"
   ]
  },
  {
   "cell_type": "code",
   "execution_count": 5,
   "id": "28f1e53b",
   "metadata": {
    "execution": {
     "iopub.execute_input": "2023-12-01T14:04:20.790597Z",
     "iopub.status.busy": "2023-12-01T14:04:20.789632Z",
     "iopub.status.idle": "2023-12-01T14:04:20.795630Z",
     "shell.execute_reply": "2023-12-01T14:04:20.794766Z"
    },
    "papermill": {
     "duration": 0.023206,
     "end_time": "2023-12-01T14:04:20.797973",
     "exception": false,
     "start_time": "2023-12-01T14:04:20.774767",
     "status": "completed"
    },
    "tags": []
   },
   "outputs": [
    {
     "name": "stdout",
     "output_type": "stream",
     "text": [
      "/kaggle/working/Recsys_Challenge_2023\n"
     ]
    }
   ],
   "source": [
    "%cd /kaggle/working/Recsys_Challenge_2023"
   ]
  },
  {
   "cell_type": "code",
   "execution_count": 6,
   "id": "aa408ee5",
   "metadata": {
    "execution": {
     "iopub.execute_input": "2023-12-01T14:04:20.827513Z",
     "iopub.status.busy": "2023-12-01T14:04:20.827173Z",
     "iopub.status.idle": "2023-12-01T14:04:24.325004Z",
     "shell.execute_reply": "2023-12-01T14:04:24.324094Z"
    },
    "papermill": {
     "duration": 3.515751,
     "end_time": "2023-12-01T14:04:24.327708",
     "exception": false,
     "start_time": "2023-12-01T14:04:20.811957",
     "status": "completed"
    },
    "tags": []
   },
   "outputs": [],
   "source": [
    "from Recommenders.KNN.UserKNNCFRecommender import UserKNNCFRecommender\n",
    "from Data_manager.split_functions.split_train_validation_random_holdout import split_train_in_two_percentage_global_sample\n",
    "from Recommenders.SLIM.SLIMElasticNetRecommender import MultiThreadSLIM_SLIMElasticNetRecommender\n",
    "from Evaluation.Evaluator import EvaluatorHoldout\n",
    "from Recommenders.MatrixFactorization.IALSRecommender import IALSRecommender\n",
    "from Recommenders.MatrixFactorization.PureSVDRecommender import PureSVDRecommender, PureSVDItemRecommender\n",
    "from Recommenders.KNN.ItemKNNCFRecommender import ItemKNNCFRecommender\n",
    "from Recommenders.KNN.UserKNNCFRecommender import UserKNNCFRecommender\n",
    "from Recommenders.MatrixFactorization.Cython.MatrixFactorization_Cython import MatrixFactorization_BPR_Cython, MatrixFactorization_SVDpp_Cython, MatrixFactorization_AsySVD_Cython, MatrixFactorization_WARP_Cython\n",
    "from Recommenders.MatrixFactorization.PyTorch.MF_MSE_PyTorch import MF_MSE_PyTorch\n",
    "\n",
    "np.int = int\n",
    "np.random.seed(42)\n",
    "np.bool = bool\n",
    "np.float = float"
   ]
  },
  {
   "cell_type": "code",
   "execution_count": 7,
   "id": "aa80f1b0",
   "metadata": {
    "execution": {
     "iopub.execute_input": "2023-12-01T14:04:24.358298Z",
     "iopub.status.busy": "2023-12-01T14:04:24.357185Z",
     "iopub.status.idle": "2023-12-01T14:04:25.129879Z",
     "shell.execute_reply": "2023-12-01T14:04:25.128682Z"
    },
    "papermill": {
     "duration": 0.790161,
     "end_time": "2023-12-01T14:04:25.132088",
     "exception": false,
     "start_time": "2023-12-01T14:04:24.341927",
     "status": "completed"
    },
    "tags": []
   },
   "outputs": [
    {
     "name": "stdout",
     "output_type": "stream",
     "text": [
      "Repository found\n"
     ]
    }
   ],
   "source": [
    "from github import Github\n",
    "from github import Auth\n",
    "\n",
    "auth = Auth.Token(token)\n",
    "g = Github(auth=auth)\n",
    "\n",
    "repo = None\n",
    "for r in g.get_user().get_repos():\n",
    "    if r.name == 'Recsys_Challenge_2023':\n",
    "        repo = r\n",
    "        print('Repository found')"
   ]
  },
  {
   "cell_type": "code",
   "execution_count": 8,
   "id": "3857f143",
   "metadata": {
    "execution": {
     "iopub.execute_input": "2023-12-01T14:04:25.161221Z",
     "iopub.status.busy": "2023-12-01T14:04:25.160286Z",
     "iopub.status.idle": "2023-12-01T14:04:25.166857Z",
     "shell.execute_reply": "2023-12-01T14:04:25.166135Z"
    },
    "papermill": {
     "duration": 0.023118,
     "end_time": "2023-12-01T14:04:25.168892",
     "exception": false,
     "start_time": "2023-12-01T14:04:25.145774",
     "status": "completed"
    },
    "tags": []
   },
   "outputs": [],
   "source": [
    "def upload_file(filepath_kaggle, filepath_github, commit_message):\n",
    "    try:\n",
    "        contents = repo.get_contents(filepath_github)\n",
    "        with open(filepath_kaggle, \"rb\") as file:\n",
    "            repo.update_file(contents.path, commit_message, file.read(), contents.sha)\n",
    "    except Exception:\n",
    "        with open(filepath_kaggle, \"rb\") as file:\n",
    "            repo.create_file(filepath_github, commit_message, file.read())"
   ]
  },
  {
   "cell_type": "code",
   "execution_count": 9,
   "id": "57f9a905",
   "metadata": {
    "execution": {
     "iopub.execute_input": "2023-12-01T14:04:25.197310Z",
     "iopub.status.busy": "2023-12-01T14:04:25.196780Z",
     "iopub.status.idle": "2023-12-01T14:04:25.201246Z",
     "shell.execute_reply": "2023-12-01T14:04:25.200580Z"
    },
    "papermill": {
     "duration": 0.020765,
     "end_time": "2023-12-01T14:04:25.203159",
     "exception": false,
     "start_time": "2023-12-01T14:04:25.182394",
     "status": "completed"
    },
    "tags": []
   },
   "outputs": [],
   "source": [
    "config = {\n",
    "    'tune_parameters': True,\n",
    "    'database_path': '/kaggle/working/tuning_puresvd.db',\n",
    "    'copy_prev_best_params': True,\n",
    "    'save_github': True\n",
    "}"
   ]
  },
  {
   "cell_type": "code",
   "execution_count": 10,
   "id": "5076c584",
   "metadata": {
    "execution": {
     "iopub.execute_input": "2023-12-01T14:04:25.231743Z",
     "iopub.status.busy": "2023-12-01T14:04:25.231181Z",
     "iopub.status.idle": "2023-12-01T14:04:25.236231Z",
     "shell.execute_reply": "2023-12-01T14:04:25.235560Z"
    },
    "papermill": {
     "duration": 0.021543,
     "end_time": "2023-12-01T14:04:25.238180",
     "exception": false,
     "start_time": "2023-12-01T14:04:25.216637",
     "status": "completed"
    },
    "tags": []
   },
   "outputs": [],
   "source": [
    "try:\n",
    "    shutil.copyfile(\n",
    "        '/kaggle/working/Recsys_Challenge_2023/tuning_results/tuning_puresvd.db', \n",
    "        config['database_path']\n",
    "    )\n",
    "except FileNotFoundError:\n",
    "    pass # if not present optuna will create it"
   ]
  },
  {
   "cell_type": "code",
   "execution_count": 11,
   "id": "80c6b5d3",
   "metadata": {
    "execution": {
     "iopub.execute_input": "2023-12-01T14:04:25.266193Z",
     "iopub.status.busy": "2023-12-01T14:04:25.265717Z",
     "iopub.status.idle": "2023-12-01T14:04:25.571475Z",
     "shell.execute_reply": "2023-12-01T14:04:25.570699Z"
    },
    "papermill": {
     "duration": 0.322538,
     "end_time": "2023-12-01T14:04:25.573933",
     "exception": false,
     "start_time": "2023-12-01T14:04:25.251395",
     "status": "completed"
    },
    "tags": []
   },
   "outputs": [],
   "source": [
    "train_data = pd.read_csv('/kaggle/input/recommender-system-2023-challenge-polimi/data_train.csv')\n",
    "user_ids_test = pd.read_csv('/kaggle/input/recommender-system-2023-challenge-polimi/data_target_users_test.csv')"
   ]
  },
  {
   "cell_type": "code",
   "execution_count": 12,
   "id": "9a4c02ae",
   "metadata": {
    "execution": {
     "iopub.execute_input": "2023-12-01T14:04:25.603589Z",
     "iopub.status.busy": "2023-12-01T14:04:25.603190Z",
     "iopub.status.idle": "2023-12-01T14:04:25.642572Z",
     "shell.execute_reply": "2023-12-01T14:04:25.641638Z"
    },
    "papermill": {
     "duration": 0.057171,
     "end_time": "2023-12-01T14:04:25.645255",
     "exception": false,
     "start_time": "2023-12-01T14:04:25.588084",
     "status": "completed"
    },
    "tags": []
   },
   "outputs": [
    {
     "data": {
      "text/plain": [
       "<13024x22347 sparse matrix of type '<class 'numpy.float64'>'\n",
       "\twith 478730 stored elements in Compressed Sparse Row format>"
      ]
     },
     "execution_count": 12,
     "metadata": {},
     "output_type": "execute_result"
    }
   ],
   "source": [
    "URM_all = sps.csr_matrix((train_data.data.values,\n",
    "                          ((train_data.row - 1).values, (train_data.col - 1).values)),\n",
    "                        shape=(train_data.row.max(), train_data.col.max()))\n",
    "URM_all"
   ]
  },
  {
   "cell_type": "code",
   "execution_count": 13,
   "id": "93110d33",
   "metadata": {
    "execution": {
     "iopub.execute_input": "2023-12-01T14:04:25.673790Z",
     "iopub.status.busy": "2023-12-01T14:04:25.673405Z",
     "iopub.status.idle": "2023-12-01T14:04:27.213181Z",
     "shell.execute_reply": "2023-12-01T14:04:27.211982Z"
    },
    "papermill": {
     "duration": 1.556651,
     "end_time": "2023-12-01T14:04:27.215522",
     "exception": false,
     "start_time": "2023-12-01T14:04:25.658871",
     "status": "completed"
    },
    "tags": []
   },
   "outputs": [
    {
     "name": "stdout",
     "output_type": "stream",
     "text": [
      "Warning: 627 (4.81 %) of 13024 users have no train items\n",
      "Warning: 2568 (19.72 %) of 13024 users have no sampled items\n",
      "Warning: 2953 (22.67 %) of 13024 users have no train items\n",
      "Warning: 6367 (48.89 %) of 13024 users have no sampled items\n"
     ]
    }
   ],
   "source": [
    "URM_train, URM_test_complete = split_train_in_two_percentage_global_sample(URM_all, train_percentage = 0.8)\n",
    "URM_validation, URM_test = split_train_in_two_percentage_global_sample(URM_test_complete, train_percentage = 0.8)"
   ]
  },
  {
   "cell_type": "code",
   "execution_count": 14,
   "id": "069558b5",
   "metadata": {
    "execution": {
     "iopub.execute_input": "2023-12-01T14:04:27.247171Z",
     "iopub.status.busy": "2023-12-01T14:04:27.246775Z",
     "iopub.status.idle": "2023-12-01T14:04:27.260901Z",
     "shell.execute_reply": "2023-12-01T14:04:27.259869Z"
    },
    "papermill": {
     "duration": 0.03289,
     "end_time": "2023-12-01T14:04:27.262999",
     "exception": false,
     "start_time": "2023-12-01T14:04:27.230109",
     "status": "completed"
    },
    "tags": []
   },
   "outputs": [
    {
     "name": "stdout",
     "output_type": "stream",
     "text": [
      "EvaluatorHoldout: Ignoring 2568 (19.7%) Users that have less than 1 test interactions\n"
     ]
    }
   ],
   "source": [
    "evaluator = EvaluatorHoldout(URM_test_complete, cutoff_list=[10])\n",
    "\n",
    "def objective_function_pure_svd_item(trial):\n",
    "    params = {\n",
    "        'topK': trial.suggest_int('topK', 1, 1000, log=True),\n",
    "        'num_factors': trial.suggest_int('num_factors', 1, 1000, log=True)\n",
    "    }\n",
    "                          \n",
    "    recommender_instance = PureSVDItemRecommender(URM_train)\n",
    "    recommender_instance.fit(**params)       \n",
    "    result_df, _ = evaluator.evaluateRecommender(recommender_instance)\n",
    "    return result_df.loc[10, \"MAP\"]"
   ]
  },
  {
   "cell_type": "code",
   "execution_count": 15,
   "id": "d81c3f0a",
   "metadata": {
    "_kg_hide-output": true,
    "execution": {
     "iopub.execute_input": "2023-12-01T14:04:27.293124Z",
     "iopub.status.busy": "2023-12-01T14:04:27.292784Z",
     "iopub.status.idle": "2023-12-01T16:19:28.966836Z",
     "shell.execute_reply": "2023-12-01T16:19:28.965658Z"
    },
    "papermill": {
     "duration": 8101.691514,
     "end_time": "2023-12-01T16:19:28.968812",
     "exception": false,
     "start_time": "2023-12-01T14:04:27.277298",
     "status": "completed"
    },
    "scrolled": true,
    "tags": []
   },
   "outputs": [
    {
     "name": "stderr",
     "output_type": "stream",
     "text": [
      "[I 2023-12-01 14:04:27,661] Using an existing study with name 'hyperparameters_tuning_puresvd_item' instead of creating a new one.\n"
     ]
    },
    {
     "name": "stdout",
     "output_type": "stream",
     "text": [
      "PureSVDItemRecommender: URM Detected 627 ( 4.8%) users with no interactions.\n",
      "PureSVDItemRecommender: URM Detected 247 ( 1.1%) items with no interactions.\n",
      "PureSVDItemRecommender: Computing SVD decomposition...\n",
      "PureSVDItemRecommender: Computing SVD decomposition... Done!\n",
      "EvaluatorHoldout: Processed 10456 (100.0%) in 14.17 sec. Users per second: 738\n"
     ]
    },
    {
     "name": "stderr",
     "output_type": "stream",
     "text": [
      "[I 2023-12-01 14:05:10,755] Trial 300 finished with value: 0.03331249013249808 and parameters: {'topK': 56, 'num_factors': 183}. Best is trial 293 with value: 0.0337220939446938.\n"
     ]
    },
    {
     "name": "stdout",
     "output_type": "stream",
     "text": [
      "PureSVDItemRecommender: URM Detected 627 ( 4.8%) users with no interactions.\n",
      "PureSVDItemRecommender: URM Detected 247 ( 1.1%) items with no interactions.\n",
      "PureSVDItemRecommender: Computing SVD decomposition...\n",
      "PureSVDItemRecommender: Computing SVD decomposition... Done!\n",
      "EvaluatorHoldout: Processed 10456 (100.0%) in 12.39 sec. Users per second: 844\n"
     ]
    },
    {
     "name": "stderr",
     "output_type": "stream",
     "text": [
      "[I 2023-12-01 14:05:52,216] Trial 301 finished with value: 0.032951563467774524 and parameters: {'topK': 30, 'num_factors': 250}. Best is trial 293 with value: 0.0337220939446938.\n"
     ]
    },
    {
     "name": "stdout",
     "output_type": "stream",
     "text": [
      "PureSVDItemRecommender: URM Detected 627 ( 4.8%) users with no interactions.\n",
      "PureSVDItemRecommender: URM Detected 247 ( 1.1%) items with no interactions.\n",
      "PureSVDItemRecommender: Computing SVD decomposition...\n",
      "PureSVDItemRecommender: Computing SVD decomposition... Done!\n",
      "EvaluatorHoldout: Processed 10456 (100.0%) in 10.87 sec. Users per second: 962\n"
     ]
    },
    {
     "name": "stderr",
     "output_type": "stream",
     "text": [
      "[I 2023-12-01 14:07:05,225] Trial 302 finished with value: 0.032641704922213945 and parameters: {'topK': 37, 'num_factors': 878}. Best is trial 293 with value: 0.0337220939446938.\n"
     ]
    },
    {
     "name": "stdout",
     "output_type": "stream",
     "text": [
      "PureSVDItemRecommender: URM Detected 627 ( 4.8%) users with no interactions.\n",
      "PureSVDItemRecommender: URM Detected 247 ( 1.1%) items with no interactions.\n",
      "PureSVDItemRecommender: Computing SVD decomposition...\n",
      "PureSVDItemRecommender: Computing SVD decomposition... Done!\n",
      "EvaluatorHoldout: Processed 10456 (100.0%) in 13.84 sec. Users per second: 755\n"
     ]
    },
    {
     "name": "stderr",
     "output_type": "stream",
     "text": [
      "[I 2023-12-01 14:07:37,752] Trial 303 finished with value: 0.02697485153204373 and parameters: {'topK': 46, 'num_factors': 19}. Best is trial 293 with value: 0.0337220939446938.\n"
     ]
    },
    {
     "name": "stdout",
     "output_type": "stream",
     "text": [
      "PureSVDItemRecommender: URM Detected 627 ( 4.8%) users with no interactions.\n",
      "PureSVDItemRecommender: URM Detected 247 ( 1.1%) items with no interactions.\n",
      "PureSVDItemRecommender: Computing SVD decomposition...\n",
      "PureSVDItemRecommender: Computing SVD decomposition... Done!\n",
      "EvaluatorHoldout: Processed 10456 (100.0%) in 11.92 sec. Users per second: 877\n"
     ]
    },
    {
     "name": "stderr",
     "output_type": "stream",
     "text": [
      "[I 2023-12-01 14:08:42,833] Trial 304 finished with value: 0.032600804125527016 and parameters: {'topK': 56, 'num_factors': 690}. Best is trial 293 with value: 0.0337220939446938.\n"
     ]
    },
    {
     "name": "stdout",
     "output_type": "stream",
     "text": [
      "PureSVDItemRecommender: URM Detected 627 ( 4.8%) users with no interactions.\n",
      "PureSVDItemRecommender: URM Detected 247 ( 1.1%) items with no interactions.\n",
      "PureSVDItemRecommender: Computing SVD decomposition...\n",
      "PureSVDItemRecommender: Computing SVD decomposition... Done!\n",
      "EvaluatorHoldout: Processed 10456 (100.0%) in 12.99 sec. Users per second: 805\n"
     ]
    },
    {
     "name": "stderr",
     "output_type": "stream",
     "text": [
      "[I 2023-12-01 14:09:10,955] Trial 305 finished with value: 0.01059721918606767 and parameters: {'topK': 31, 'num_factors': 1}. Best is trial 293 with value: 0.0337220939446938.\n"
     ]
    },
    {
     "name": "stdout",
     "output_type": "stream",
     "text": [
      "PureSVDItemRecommender: URM Detected 627 ( 4.8%) users with no interactions.\n",
      "PureSVDItemRecommender: URM Detected 247 ( 1.1%) items with no interactions.\n",
      "PureSVDItemRecommender: Computing SVD decomposition...\n",
      "PureSVDItemRecommender: Computing SVD decomposition... Done!\n",
      "EvaluatorHoldout: Processed 10456 (100.0%) in 11.86 sec. Users per second: 881\n"
     ]
    },
    {
     "name": "stderr",
     "output_type": "stream",
     "text": [
      "[I 2023-12-01 14:09:44,833] Trial 306 finished with value: 0.033359971794124775 and parameters: {'topK': 21, 'num_factors': 154}. Best is trial 293 with value: 0.0337220939446938.\n"
     ]
    },
    {
     "name": "stdout",
     "output_type": "stream",
     "text": [
      "PureSVDItemRecommender: URM Detected 627 ( 4.8%) users with no interactions.\n",
      "PureSVDItemRecommender: URM Detected 247 ( 1.1%) items with no interactions.\n",
      "PureSVDItemRecommender: Computing SVD decomposition...\n",
      "PureSVDItemRecommender: Computing SVD decomposition... Done!\n",
      "EvaluatorHoldout: Processed 10456 (100.0%) in 12.51 sec. Users per second: 836\n"
     ]
    },
    {
     "name": "stderr",
     "output_type": "stream",
     "text": [
      "[I 2023-12-01 14:10:30,639] Trial 307 finished with value: 0.033072576996879106 and parameters: {'topK': 40, 'num_factors': 312}. Best is trial 293 with value: 0.0337220939446938.\n"
     ]
    },
    {
     "name": "stdout",
     "output_type": "stream",
     "text": [
      "PureSVDItemRecommender: URM Detected 627 ( 4.8%) users with no interactions.\n",
      "PureSVDItemRecommender: URM Detected 247 ( 1.1%) items with no interactions.\n",
      "PureSVDItemRecommender: Computing SVD decomposition...\n",
      "PureSVDItemRecommender: Computing SVD decomposition... Done!\n",
      "EvaluatorHoldout: Processed 10456 (100.0%) in 16.85 sec. Users per second: 621\n"
     ]
    },
    {
     "name": "stderr",
     "output_type": "stream",
     "text": [
      "[I 2023-12-01 14:11:32,629] Trial 308 finished with value: 0.032323910627755574 and parameters: {'topK': 340, 'num_factors': 219}. Best is trial 293 with value: 0.0337220939446938.\n"
     ]
    },
    {
     "name": "stdout",
     "output_type": "stream",
     "text": [
      "PureSVDItemRecommender: URM Detected 627 ( 4.8%) users with no interactions.\n",
      "PureSVDItemRecommender: URM Detected 247 ( 1.1%) items with no interactions.\n",
      "PureSVDItemRecommender: Computing SVD decomposition...\n",
      "PureSVDItemRecommender: Computing SVD decomposition... Done!\n",
      "EvaluatorHoldout: Processed 10456 (100.0%) in 13.79 sec. Users per second: 758\n"
     ]
    },
    {
     "name": "stderr",
     "output_type": "stream",
     "text": [
      "[I 2023-12-01 14:12:12,991] Trial 309 finished with value: 0.03318078933945453 and parameters: {'topK': 50, 'num_factors': 176}. Best is trial 293 with value: 0.0337220939446938.\n"
     ]
    },
    {
     "name": "stdout",
     "output_type": "stream",
     "text": [
      "PureSVDItemRecommender: URM Detected 627 ( 4.8%) users with no interactions.\n",
      "PureSVDItemRecommender: URM Detected 247 ( 1.1%) items with no interactions.\n",
      "PureSVDItemRecommender: Computing SVD decomposition...\n",
      "PureSVDItemRecommender: Computing SVD decomposition... Done!\n",
      "EvaluatorHoldout: Processed 10456 (100.0%) in 14.37 sec. Users per second: 728\n"
     ]
    },
    {
     "name": "stderr",
     "output_type": "stream",
     "text": [
      "[I 2023-12-01 14:12:52,046] Trial 310 finished with value: 0.033050265056290544 and parameters: {'topK': 62, 'num_factors': 116}. Best is trial 293 with value: 0.0337220939446938.\n"
     ]
    },
    {
     "name": "stdout",
     "output_type": "stream",
     "text": [
      "PureSVDItemRecommender: URM Detected 627 ( 4.8%) users with no interactions.\n",
      "PureSVDItemRecommender: URM Detected 247 ( 1.1%) items with no interactions.\n",
      "PureSVDItemRecommender: Computing SVD decomposition...\n",
      "PureSVDItemRecommender: Computing SVD decomposition... Done!\n",
      "EvaluatorHoldout: Processed 10456 (100.0%) in 11.90 sec. Users per second: 879\n"
     ]
    },
    {
     "name": "stderr",
     "output_type": "stream",
     "text": [
      "[I 2023-12-01 14:13:29,307] Trial 311 finished with value: 0.0330738483865877 and parameters: {'topK': 25, 'num_factors': 199}. Best is trial 293 with value: 0.0337220939446938.\n"
     ]
    },
    {
     "name": "stdout",
     "output_type": "stream",
     "text": [
      "PureSVDItemRecommender: URM Detected 627 ( 4.8%) users with no interactions.\n",
      "PureSVDItemRecommender: URM Detected 247 ( 1.1%) items with no interactions.\n",
      "PureSVDItemRecommender: Computing SVD decomposition...\n",
      "PureSVDItemRecommender: Computing SVD decomposition... Done!\n",
      "EvaluatorHoldout: Processed 10456 (100.0%) in 12.99 sec. Users per second: 805\n"
     ]
    },
    {
     "name": "stderr",
     "output_type": "stream",
     "text": [
      "[I 2023-12-01 14:14:05,625] Trial 312 finished with value: 0.03307124488407991 and parameters: {'topK': 34, 'num_factors': 157}. Best is trial 293 with value: 0.0337220939446938.\n"
     ]
    },
    {
     "name": "stdout",
     "output_type": "stream",
     "text": [
      "PureSVDItemRecommender: URM Detected 627 ( 4.8%) users with no interactions.\n",
      "PureSVDItemRecommender: URM Detected 247 ( 1.1%) items with no interactions.\n",
      "PureSVDItemRecommender: Computing SVD decomposition...\n",
      "PureSVDItemRecommender: Computing SVD decomposition... Done!\n",
      "EvaluatorHoldout: Processed 10456 (100.0%) in 9.25 sec. Users per second: 1130\n"
     ]
    },
    {
     "name": "stderr",
     "output_type": "stream",
     "text": [
      "[I 2023-12-01 14:14:24,443] Trial 313 finished with value: 0.022216950698922686 and parameters: {'topK': 2, 'num_factors': 43}. Best is trial 293 with value: 0.0337220939446938.\n"
     ]
    },
    {
     "name": "stdout",
     "output_type": "stream",
     "text": [
      "PureSVDItemRecommender: URM Detected 627 ( 4.8%) users with no interactions.\n",
      "PureSVDItemRecommender: URM Detected 247 ( 1.1%) items with no interactions.\n",
      "PureSVDItemRecommender: Computing SVD decomposition...\n",
      "PureSVDItemRecommender: Computing SVD decomposition... Done!\n",
      "EvaluatorHoldout: Processed 10456 (100.0%) in 13.58 sec. Users per second: 770\n"
     ]
    },
    {
     "name": "stderr",
     "output_type": "stream",
     "text": [
      "[I 2023-12-01 14:14:59,697] Trial 314 finished with value: 0.033049118907956296 and parameters: {'topK': 43, 'num_factors': 104}. Best is trial 293 with value: 0.0337220939446938.\n"
     ]
    },
    {
     "name": "stdout",
     "output_type": "stream",
     "text": [
      "PureSVDItemRecommender: URM Detected 627 ( 4.8%) users with no interactions.\n",
      "PureSVDItemRecommender: URM Detected 247 ( 1.1%) items with no interactions.\n",
      "PureSVDItemRecommender: Computing SVD decomposition...\n",
      "PureSVDItemRecommender: Computing SVD decomposition... Done!\n",
      "EvaluatorHoldout: Processed 10456 (100.0%) in 13.33 sec. Users per second: 784\n"
     ]
    },
    {
     "name": "stderr",
     "output_type": "stream",
     "text": [
      "[I 2023-12-01 14:15:44,013] Trial 315 finished with value: 0.03317799228209537 and parameters: {'topK': 53, 'num_factors': 246}. Best is trial 293 with value: 0.0337220939446938.\n"
     ]
    },
    {
     "name": "stdout",
     "output_type": "stream",
     "text": [
      "PureSVDItemRecommender: URM Detected 627 ( 4.8%) users with no interactions.\n",
      "PureSVDItemRecommender: URM Detected 247 ( 1.1%) items with no interactions.\n",
      "PureSVDItemRecommender: Computing SVD decomposition...\n",
      "PureSVDItemRecommender: Computing SVD decomposition... Done!\n",
      "EvaluatorHoldout: Processed 10456 (100.0%) in 11.20 sec. Users per second: 934\n"
     ]
    },
    {
     "name": "stderr",
     "output_type": "stream",
     "text": [
      "[I 2023-12-01 14:16:42,065] Trial 316 finished with value: 0.03270826881504984 and parameters: {'topK': 36, 'num_factors': 545}. Best is trial 293 with value: 0.0337220939446938.\n"
     ]
    },
    {
     "name": "stdout",
     "output_type": "stream",
     "text": [
      "PureSVDItemRecommender: URM Detected 627 ( 4.8%) users with no interactions.\n",
      "PureSVDItemRecommender: URM Detected 247 ( 1.1%) items with no interactions.\n",
      "PureSVDItemRecommender: Computing SVD decomposition...\n",
      "PureSVDItemRecommender: Computing SVD decomposition... Done!\n",
      "EvaluatorHoldout: Processed 10456 (100.0%) in 13.64 sec. Users per second: 766\n"
     ]
    },
    {
     "name": "stderr",
     "output_type": "stream",
     "text": [
      "[I 2023-12-01 14:17:19,841] Trial 317 finished with value: 0.03339639426288281 and parameters: {'topK': 46, 'num_factors': 130}. Best is trial 293 with value: 0.0337220939446938.\n"
     ]
    },
    {
     "name": "stdout",
     "output_type": "stream",
     "text": [
      "PureSVDItemRecommender: URM Detected 627 ( 4.8%) users with no interactions.\n",
      "PureSVDItemRecommender: URM Detected 247 ( 1.1%) items with no interactions.\n",
      "PureSVDItemRecommender: Computing SVD decomposition...\n",
      "PureSVDItemRecommender: Computing SVD decomposition... Done!\n",
      "EvaluatorHoldout: Processed 10456 (100.0%) in 13.95 sec. Users per second: 750\n"
     ]
    },
    {
     "name": "stderr",
     "output_type": "stream",
     "text": [
      "[I 2023-12-01 14:18:00,490] Trial 318 finished with value: 0.033193328657655674 and parameters: {'topK': 60, 'num_factors': 168}. Best is trial 293 with value: 0.0337220939446938.\n"
     ]
    },
    {
     "name": "stdout",
     "output_type": "stream",
     "text": [
      "PureSVDItemRecommender: URM Detected 627 ( 4.8%) users with no interactions.\n",
      "PureSVDItemRecommender: URM Detected 247 ( 1.1%) items with no interactions.\n",
      "PureSVDItemRecommender: Computing SVD decomposition...\n",
      "PureSVDItemRecommender: Computing SVD decomposition... Done!\n",
      "EvaluatorHoldout: Processed 10456 (100.0%) in 15.37 sec. Users per second: 680\n"
     ]
    },
    {
     "name": "stderr",
     "output_type": "stream",
     "text": [
      "[I 2023-12-01 14:18:50,823] Trial 319 finished with value: 0.033054481515891534 and parameters: {'topK': 144, 'num_factors': 196}. Best is trial 293 with value: 0.0337220939446938.\n"
     ]
    },
    {
     "name": "stdout",
     "output_type": "stream",
     "text": [
      "PureSVDItemRecommender: URM Detected 627 ( 4.8%) users with no interactions.\n",
      "PureSVDItemRecommender: URM Detected 247 ( 1.1%) items with no interactions.\n",
      "PureSVDItemRecommender: Computing SVD decomposition...\n",
      "PureSVDItemRecommender: Computing SVD decomposition... Done!\n",
      "EvaluatorHoldout: Processed 10456 (100.0%) in 12.77 sec. Users per second: 819\n"
     ]
    },
    {
     "name": "stderr",
     "output_type": "stream",
     "text": [
      "[I 2023-12-01 14:19:25,744] Trial 320 finished with value: 0.03359724727049739 and parameters: {'topK': 28, 'num_factors': 144}. Best is trial 293 with value: 0.0337220939446938.\n"
     ]
    },
    {
     "name": "stdout",
     "output_type": "stream",
     "text": [
      "PureSVDItemRecommender: URM Detected 627 ( 4.8%) users with no interactions.\n",
      "PureSVDItemRecommender: URM Detected 247 ( 1.1%) items with no interactions.\n",
      "PureSVDItemRecommender: Computing SVD decomposition...\n",
      "PureSVDItemRecommender: Computing SVD decomposition... Done!\n",
      "EvaluatorHoldout: Processed 10456 (100.0%) in 12.70 sec. Users per second: 823\n"
     ]
    },
    {
     "name": "stderr",
     "output_type": "stream",
     "text": [
      "[I 2023-12-01 14:19:57,178] Trial 321 finished with value: 0.03196590626176549 and parameters: {'topK': 25, 'num_factors': 80}. Best is trial 293 with value: 0.0337220939446938.\n"
     ]
    },
    {
     "name": "stdout",
     "output_type": "stream",
     "text": [
      "PureSVDItemRecommender: URM Detected 627 ( 4.8%) users with no interactions.\n",
      "PureSVDItemRecommender: URM Detected 247 ( 1.1%) items with no interactions.\n",
      "PureSVDItemRecommender: Computing SVD decomposition...\n",
      "PureSVDItemRecommender: Computing SVD decomposition... Done!\n",
      "EvaluatorHoldout: Processed 10456 (100.0%) in 12.76 sec. Users per second: 819\n"
     ]
    },
    {
     "name": "stderr",
     "output_type": "stream",
     "text": [
      "[I 2023-12-01 14:20:32,158] Trial 322 finished with value: 0.03328224244301168 and parameters: {'topK': 29, 'num_factors': 144}. Best is trial 293 with value: 0.0337220939446938.\n"
     ]
    },
    {
     "name": "stdout",
     "output_type": "stream",
     "text": [
      "PureSVDItemRecommender: URM Detected 627 ( 4.8%) users with no interactions.\n",
      "PureSVDItemRecommender: URM Detected 247 ( 1.1%) items with no interactions.\n",
      "PureSVDItemRecommender: Computing SVD decomposition...\n",
      "PureSVDItemRecommender: Computing SVD decomposition... Done!\n",
      "EvaluatorHoldout: Processed 10456 (100.0%) in 16.13 sec. Users per second: 648\n"
     ]
    },
    {
     "name": "stderr",
     "output_type": "stream",
     "text": [
      "[I 2023-12-01 14:21:18,459] Trial 323 finished with value: 0.02994411957591013 and parameters: {'topK': 166, 'num_factors': 32}. Best is trial 293 with value: 0.0337220939446938.\n"
     ]
    },
    {
     "name": "stdout",
     "output_type": "stream",
     "text": [
      "PureSVDItemRecommender: URM Detected 627 ( 4.8%) users with no interactions.\n",
      "PureSVDItemRecommender: URM Detected 247 ( 1.1%) items with no interactions.\n",
      "PureSVDItemRecommender: Computing SVD decomposition...\n",
      "PureSVDItemRecommender: Computing SVD decomposition... Done!\n",
      "EvaluatorHoldout: Processed 10456 (100.0%) in 12.94 sec. Users per second: 808\n"
     ]
    },
    {
     "name": "stderr",
     "output_type": "stream",
     "text": [
      "[I 2023-12-01 14:21:52,761] Trial 324 finished with value: 0.03318119162992947 and parameters: {'topK': 30, 'num_factors': 112}. Best is trial 293 with value: 0.0337220939446938.\n"
     ]
    },
    {
     "name": "stdout",
     "output_type": "stream",
     "text": [
      "PureSVDItemRecommender: URM Detected 627 ( 4.8%) users with no interactions.\n",
      "PureSVDItemRecommender: URM Detected 247 ( 1.1%) items with no interactions.\n",
      "PureSVDItemRecommender: Computing SVD decomposition...\n",
      "PureSVDItemRecommender: Computing SVD decomposition... Done!\n",
      "EvaluatorHoldout: Processed 10456 (100.0%) in 13.27 sec. Users per second: 788\n"
     ]
    },
    {
     "name": "stderr",
     "output_type": "stream",
     "text": [
      "[I 2023-12-01 14:22:28,952] Trial 325 finished with value: 0.03349143348999928 and parameters: {'topK': 37, 'num_factors': 132}. Best is trial 293 with value: 0.0337220939446938.\n"
     ]
    },
    {
     "name": "stdout",
     "output_type": "stream",
     "text": [
      "PureSVDItemRecommender: URM Detected 627 ( 4.8%) users with no interactions.\n",
      "PureSVDItemRecommender: URM Detected 247 ( 1.1%) items with no interactions.\n",
      "PureSVDItemRecommender: Computing SVD decomposition...\n",
      "PureSVDItemRecommender: Computing SVD decomposition... Done!\n",
      "EvaluatorHoldout: Processed 10456 (100.0%) in 13.43 sec. Users per second: 778\n"
     ]
    },
    {
     "name": "stderr",
     "output_type": "stream",
     "text": [
      "[I 2023-12-01 14:23:02,936] Trial 326 finished with value: 0.032638209549313464 and parameters: {'topK': 39, 'num_factors': 98}. Best is trial 293 with value: 0.0337220939446938.\n"
     ]
    },
    {
     "name": "stdout",
     "output_type": "stream",
     "text": [
      "PureSVDItemRecommender: URM Detected 627 ( 4.8%) users with no interactions.\n",
      "PureSVDItemRecommender: URM Detected 247 ( 1.1%) items with no interactions.\n",
      "PureSVDItemRecommender: Computing SVD decomposition...\n",
      "PureSVDItemRecommender: Computing SVD decomposition... Done!\n",
      "EvaluatorHoldout: Processed 10456 (100.0%) in 19.85 sec. Users per second: 527\n"
     ]
    },
    {
     "name": "stderr",
     "output_type": "stream",
     "text": [
      "[I 2023-12-01 14:24:22,168] Trial 327 finished with value: 0.03213849646591642 and parameters: {'topK': 739, 'num_factors': 130}. Best is trial 293 with value: 0.0337220939446938.\n"
     ]
    },
    {
     "name": "stdout",
     "output_type": "stream",
     "text": [
      "PureSVDItemRecommender: URM Detected 627 ( 4.8%) users with no interactions.\n",
      "PureSVDItemRecommender: URM Detected 247 ( 1.1%) items with no interactions.\n",
      "PureSVDItemRecommender: Computing SVD decomposition...\n",
      "PureSVDItemRecommender: Computing SVD decomposition... Done!\n",
      "EvaluatorHoldout: Processed 10456 (100.0%) in 12.98 sec. Users per second: 806\n"
     ]
    },
    {
     "name": "stderr",
     "output_type": "stream",
     "text": [
      "[I 2023-12-01 14:24:58,343] Trial 328 finished with value: 0.0332310414920881 and parameters: {'topK': 34, 'num_factors': 143}. Best is trial 293 with value: 0.0337220939446938.\n"
     ]
    },
    {
     "name": "stdout",
     "output_type": "stream",
     "text": [
      "PureSVDItemRecommender: URM Detected 627 ( 4.8%) users with no interactions.\n",
      "PureSVDItemRecommender: URM Detected 247 ( 1.1%) items with no interactions.\n",
      "PureSVDItemRecommender: Computing SVD decomposition...\n",
      "PureSVDItemRecommender: Computing SVD decomposition... Done!\n",
      "EvaluatorHoldout: Processed 10456 (100.0%) in 13.57 sec. Users per second: 770\n"
     ]
    },
    {
     "name": "stderr",
     "output_type": "stream",
     "text": [
      "[I 2023-12-01 14:25:34,590] Trial 329 finished with value: 0.033170709306421166 and parameters: {'topK': 42, 'num_factors': 117}. Best is trial 293 with value: 0.0337220939446938.\n"
     ]
    },
    {
     "name": "stdout",
     "output_type": "stream",
     "text": [
      "PureSVDItemRecommender: URM Detected 627 ( 4.8%) users with no interactions.\n",
      "PureSVDItemRecommender: URM Detected 247 ( 1.1%) items with no interactions.\n",
      "PureSVDItemRecommender: Computing SVD decomposition...\n",
      "PureSVDItemRecommender: Computing SVD decomposition... Done!\n",
      "EvaluatorHoldout: Processed 10456 (100.0%) in 9.98 sec. Users per second: 1048\n"
     ]
    },
    {
     "name": "stderr",
     "output_type": "stream",
     "text": [
      "[I 2023-12-01 14:26:05,765] Trial 330 finished with value: 0.03185567867162204 and parameters: {'topK': 7, 'num_factors': 156}. Best is trial 293 with value: 0.0337220939446938.\n"
     ]
    },
    {
     "name": "stdout",
     "output_type": "stream",
     "text": [
      "PureSVDItemRecommender: URM Detected 627 ( 4.8%) users with no interactions.\n",
      "PureSVDItemRecommender: URM Detected 247 ( 1.1%) items with no interactions.\n",
      "PureSVDItemRecommender: Computing SVD decomposition...\n",
      "PureSVDItemRecommender: Computing SVD decomposition... Done!\n",
      "EvaluatorHoldout: Processed 10456 (100.0%) in 9.56 sec. Users per second: 1093\n"
     ]
    },
    {
     "name": "stderr",
     "output_type": "stream",
     "text": [
      "[I 2023-12-01 14:27:11,084] Trial 331 finished with value: 0.0326804310732201 and parameters: {'topK': 18, 'num_factors': 803}. Best is trial 293 with value: 0.0337220939446938.\n"
     ]
    },
    {
     "name": "stdout",
     "output_type": "stream",
     "text": [
      "PureSVDItemRecommender: URM Detected 627 ( 4.8%) users with no interactions.\n",
      "PureSVDItemRecommender: URM Detected 247 ( 1.1%) items with no interactions.\n",
      "PureSVDItemRecommender: Computing SVD decomposition...\n",
      "PureSVDItemRecommender: Computing SVD decomposition... Done!\n",
      "EvaluatorHoldout: Processed 10456 (100.0%) in 12.34 sec. Users per second: 847\n"
     ]
    },
    {
     "name": "stderr",
     "output_type": "stream",
     "text": [
      "[I 2023-12-01 14:27:44,270] Trial 332 finished with value: 0.03316621959291271 and parameters: {'topK': 23, 'num_factors': 126}. Best is trial 293 with value: 0.0337220939446938.\n"
     ]
    },
    {
     "name": "stdout",
     "output_type": "stream",
     "text": [
      "PureSVDItemRecommender: URM Detected 627 ( 4.8%) users with no interactions.\n",
      "PureSVDItemRecommender: URM Detected 247 ( 1.1%) items with no interactions.\n",
      "PureSVDItemRecommender: Computing SVD decomposition...\n",
      "PureSVDItemRecommender: Computing SVD decomposition... Done!\n",
      "EvaluatorHoldout: Processed 10456 (100.0%) in 13.06 sec. Users per second: 801\n"
     ]
    },
    {
     "name": "stderr",
     "output_type": "stream",
     "text": [
      "[I 2023-12-01 14:28:17,357] Trial 333 finished with value: 0.032517723552058155 and parameters: {'topK': 29, 'num_factors': 98}. Best is trial 293 with value: 0.0337220939446938.\n"
     ]
    },
    {
     "name": "stdout",
     "output_type": "stream",
     "text": [
      "PureSVDItemRecommender: URM Detected 627 ( 4.8%) users with no interactions.\n",
      "PureSVDItemRecommender: URM Detected 247 ( 1.1%) items with no interactions.\n",
      "PureSVDItemRecommender: Computing SVD decomposition...\n",
      "PureSVDItemRecommender: Computing SVD decomposition... Done!\n",
      "EvaluatorHoldout: Processed 10456 (100.0%) in 14.24 sec. Users per second: 734\n"
     ]
    },
    {
     "name": "stderr",
     "output_type": "stream",
     "text": [
      "[I 2023-12-01 14:28:58,017] Trial 334 finished with value: 0.03310308655469369 and parameters: {'topK': 66, 'num_factors': 148}. Best is trial 293 with value: 0.0337220939446938.\n"
     ]
    },
    {
     "name": "stdout",
     "output_type": "stream",
     "text": [
      "PureSVDItemRecommender: URM Detected 627 ( 4.8%) users with no interactions.\n",
      "PureSVDItemRecommender: URM Detected 247 ( 1.1%) items with no interactions.\n",
      "PureSVDItemRecommender: Computing SVD decomposition...\n",
      "PureSVDItemRecommender: Computing SVD decomposition... Done!\n",
      "EvaluatorHoldout: Processed 10456 (100.0%) in 12.99 sec. Users per second: 805\n"
     ]
    },
    {
     "name": "stderr",
     "output_type": "stream",
     "text": [
      "[I 2023-12-01 14:29:35,988] Trial 335 finished with value: 0.03317988987867555 and parameters: {'topK': 37, 'num_factors': 177}. Best is trial 293 with value: 0.0337220939446938.\n"
     ]
    },
    {
     "name": "stdout",
     "output_type": "stream",
     "text": [
      "PureSVDItemRecommender: URM Detected 627 ( 4.8%) users with no interactions.\n",
      "PureSVDItemRecommender: URM Detected 247 ( 1.1%) items with no interactions.\n",
      "PureSVDItemRecommender: Computing SVD decomposition...\n",
      "PureSVDItemRecommender: Computing SVD decomposition... Done!\n",
      "EvaluatorHoldout: Processed 10456 (100.0%) in 14.10 sec. Users per second: 742\n"
     ]
    },
    {
     "name": "stderr",
     "output_type": "stream",
     "text": [
      "[I 2023-12-01 14:30:13,773] Trial 336 finished with value: 0.03323533385555223 and parameters: {'topK': 55, 'num_factors': 120}. Best is trial 293 with value: 0.0337220939446938.\n"
     ]
    },
    {
     "name": "stdout",
     "output_type": "stream",
     "text": [
      "PureSVDItemRecommender: URM Detected 627 ( 4.8%) users with no interactions.\n",
      "PureSVDItemRecommender: URM Detected 247 ( 1.1%) items with no interactions.\n",
      "PureSVDItemRecommender: Computing SVD decomposition...\n",
      "PureSVDItemRecommender: Computing SVD decomposition... Done!\n",
      "EvaluatorHoldout: Processed 10456 (100.0%) in 13.61 sec. Users per second: 768\n"
     ]
    },
    {
     "name": "stderr",
     "output_type": "stream",
     "text": [
      "[I 2023-12-01 14:30:52,868] Trial 337 finished with value: 0.033486784378378084 and parameters: {'topK': 47, 'num_factors': 157}. Best is trial 293 with value: 0.0337220939446938.\n"
     ]
    },
    {
     "name": "stdout",
     "output_type": "stream",
     "text": [
      "PureSVDItemRecommender: URM Detected 627 ( 4.8%) users with no interactions.\n",
      "PureSVDItemRecommender: URM Detected 247 ( 1.1%) items with no interactions.\n",
      "PureSVDItemRecommender: Computing SVD decomposition...\n",
      "PureSVDItemRecommender: Computing SVD decomposition... Done!\n",
      "EvaluatorHoldout: Processed 10456 (100.0%) in 10.63 sec. Users per second: 983\n"
     ]
    },
    {
     "name": "stderr",
     "output_type": "stream",
     "text": [
      "[I 2023-12-01 14:31:27,613] Trial 338 finished with value: 0.03281837875420526 and parameters: {'topK': 12, 'num_factors': 199}. Best is trial 293 with value: 0.0337220939446938.\n"
     ]
    },
    {
     "name": "stdout",
     "output_type": "stream",
     "text": [
      "PureSVDItemRecommender: URM Detected 627 ( 4.8%) users with no interactions.\n",
      "PureSVDItemRecommender: URM Detected 247 ( 1.1%) items with no interactions.\n",
      "PureSVDItemRecommender: Computing SVD decomposition...\n",
      "PureSVDItemRecommender: Computing SVD decomposition... Done!\n",
      "EvaluatorHoldout: Processed 10456 (100.0%) in 13.54 sec. Users per second: 772\n"
     ]
    },
    {
     "name": "stderr",
     "output_type": "stream",
     "text": [
      "[I 2023-12-01 14:31:58,745] Trial 339 finished with value: 0.023000035674815733 and parameters: {'topK': 42, 'num_factors': 10}. Best is trial 293 with value: 0.0337220939446938.\n"
     ]
    },
    {
     "name": "stdout",
     "output_type": "stream",
     "text": [
      "PureSVDItemRecommender: URM Detected 627 ( 4.8%) users with no interactions.\n",
      "PureSVDItemRecommender: URM Detected 247 ( 1.1%) items with no interactions.\n",
      "PureSVDItemRecommender: Computing SVD decomposition...\n",
      "PureSVDItemRecommender: Computing SVD decomposition... Done!\n",
      "EvaluatorHoldout: Processed 10456 (100.0%) in 14.13 sec. Users per second: 740\n"
     ]
    },
    {
     "name": "stderr",
     "output_type": "stream",
     "text": [
      "[I 2023-12-01 14:32:31,782] Trial 340 finished with value: 0.018363808734409386 and parameters: {'topK': 48, 'num_factors': 4}. Best is trial 293 with value: 0.0337220939446938.\n"
     ]
    },
    {
     "name": "stdout",
     "output_type": "stream",
     "text": [
      "PureSVDItemRecommender: URM Detected 627 ( 4.8%) users with no interactions.\n",
      "PureSVDItemRecommender: URM Detected 247 ( 1.1%) items with no interactions.\n",
      "PureSVDItemRecommender: Computing SVD decomposition...\n",
      "PureSVDItemRecommender: Computing SVD decomposition... Done!\n",
      "EvaluatorHoldout: Processed 10456 (100.0%) in 12.79 sec. Users per second: 817\n"
     ]
    },
    {
     "name": "stderr",
     "output_type": "stream",
     "text": [
      "[I 2023-12-01 14:33:08,860] Trial 341 finished with value: 0.033338270879634924 and parameters: {'topK': 33, 'num_factors': 170}. Best is trial 293 with value: 0.0337220939446938.\n"
     ]
    },
    {
     "name": "stdout",
     "output_type": "stream",
     "text": [
      "PureSVDItemRecommender: URM Detected 627 ( 4.8%) users with no interactions.\n",
      "PureSVDItemRecommender: URM Detected 247 ( 1.1%) items with no interactions.\n",
      "PureSVDItemRecommender: Computing SVD decomposition...\n",
      "PureSVDItemRecommender: Computing SVD decomposition... Done!\n",
      "EvaluatorHoldout: Processed 10456 (100.0%) in 12.12 sec. Users per second: 863\n"
     ]
    },
    {
     "name": "stderr",
     "output_type": "stream",
     "text": [
      "[I 2023-12-01 14:33:57,133] Trial 342 finished with value: 0.03290871953218947 and parameters: {'topK': 40, 'num_factors': 367}. Best is trial 293 with value: 0.0337220939446938.\n"
     ]
    },
    {
     "name": "stdout",
     "output_type": "stream",
     "text": [
      "PureSVDItemRecommender: URM Detected 627 ( 4.8%) users with no interactions.\n",
      "PureSVDItemRecommender: URM Detected 247 ( 1.1%) items with no interactions.\n",
      "PureSVDItemRecommender: Computing SVD decomposition...\n",
      "PureSVDItemRecommender: Computing SVD decomposition... Done!\n",
      "EvaluatorHoldout: Processed 10456 (100.0%) in 13.67 sec. Users per second: 765\n"
     ]
    },
    {
     "name": "stderr",
     "output_type": "stream",
     "text": [
      "[I 2023-12-01 14:34:35,734] Trial 343 finished with value: 0.033244544789351904 and parameters: {'topK': 48, 'num_factors': 156}. Best is trial 293 with value: 0.0337220939446938.\n"
     ]
    },
    {
     "name": "stdout",
     "output_type": "stream",
     "text": [
      "PureSVDItemRecommender: URM Detected 627 ( 4.8%) users with no interactions.\n",
      "PureSVDItemRecommender: URM Detected 247 ( 1.1%) items with no interactions.\n",
      "PureSVDItemRecommender: Computing SVD decomposition...\n",
      "PureSVDItemRecommender: Computing SVD decomposition... Done!\n",
      "EvaluatorHoldout: Processed 10456 (100.0%) in 13.28 sec. Users per second: 787\n"
     ]
    },
    {
     "name": "stderr",
     "output_type": "stream",
     "text": [
      "[I 2023-12-01 14:35:07,751] Trial 344 finished with value: 0.03132833658201895 and parameters: {'topK': 34, 'num_factors': 63}. Best is trial 293 with value: 0.0337220939446938.\n"
     ]
    },
    {
     "name": "stdout",
     "output_type": "stream",
     "text": [
      "PureSVDItemRecommender: URM Detected 627 ( 4.8%) users with no interactions.\n",
      "PureSVDItemRecommender: URM Detected 247 ( 1.1%) items with no interactions.\n",
      "PureSVDItemRecommender: Computing SVD decomposition...\n",
      "PureSVDItemRecommender: Computing SVD decomposition... Done!\n",
      "EvaluatorHoldout: Processed 10456 (100.0%) in 13.95 sec. Users per second: 750\n"
     ]
    },
    {
     "name": "stderr",
     "output_type": "stream",
     "text": [
      "[I 2023-12-01 14:35:50,446] Trial 345 finished with value: 0.03316520627633891 and parameters: {'topK': 57, 'num_factors': 205}. Best is trial 293 with value: 0.0337220939446938.\n"
     ]
    },
    {
     "name": "stdout",
     "output_type": "stream",
     "text": [
      "PureSVDItemRecommender: URM Detected 627 ( 4.8%) users with no interactions.\n",
      "PureSVDItemRecommender: URM Detected 247 ( 1.1%) items with no interactions.\n",
      "PureSVDItemRecommender: Computing SVD decomposition...\n",
      "PureSVDItemRecommender: Computing SVD decomposition... Done!\n",
      "EvaluatorHoldout: Processed 10456 (100.0%) in 12.96 sec. Users per second: 807\n"
     ]
    },
    {
     "name": "stderr",
     "output_type": "stream",
     "text": [
      "[I 2023-12-01 14:36:22,879] Trial 346 finished with value: 0.031796773478583215 and parameters: {'topK': 26, 'num_factors': 80}. Best is trial 293 with value: 0.0337220939446938.\n"
     ]
    },
    {
     "name": "stdout",
     "output_type": "stream",
     "text": [
      "PureSVDItemRecommender: URM Detected 627 ( 4.8%) users with no interactions.\n",
      "PureSVDItemRecommender: URM Detected 247 ( 1.1%) items with no interactions.\n",
      "PureSVDItemRecommender: Computing SVD decomposition...\n",
      "PureSVDItemRecommender: Computing SVD decomposition... Done!\n",
      "EvaluatorHoldout: Processed 10456 (100.0%) in 13.73 sec. Users per second: 761\n"
     ]
    },
    {
     "name": "stderr",
     "output_type": "stream",
     "text": [
      "[I 2023-12-01 14:36:59,968] Trial 347 finished with value: 0.0333295305497872 and parameters: {'topK': 43, 'num_factors': 138}. Best is trial 293 with value: 0.0337220939446938.\n"
     ]
    },
    {
     "name": "stdout",
     "output_type": "stream",
     "text": [
      "PureSVDItemRecommender: URM Detected 627 ( 4.8%) users with no interactions.\n",
      "PureSVDItemRecommender: URM Detected 247 ( 1.1%) items with no interactions.\n",
      "PureSVDItemRecommender: Computing SVD decomposition...\n",
      "PureSVDItemRecommender: Computing SVD decomposition... Done!\n",
      "EvaluatorHoldout: Processed 10456 (100.0%) in 13.74 sec. Users per second: 761\n"
     ]
    },
    {
     "name": "stderr",
     "output_type": "stream",
     "text": [
      "[I 2023-12-01 14:37:33,093] Trial 348 finished with value: 0.030813609714480158 and parameters: {'topK': 37, 'num_factors': 54}. Best is trial 293 with value: 0.0337220939446938.\n"
     ]
    },
    {
     "name": "stdout",
     "output_type": "stream",
     "text": [
      "PureSVDItemRecommender: URM Detected 627 ( 4.8%) users with no interactions.\n",
      "PureSVDItemRecommender: URM Detected 247 ( 1.1%) items with no interactions.\n",
      "PureSVDItemRecommender: Computing SVD decomposition...\n",
      "PureSVDItemRecommender: Computing SVD decomposition... Done!\n",
      "EvaluatorHoldout: Processed 10456 (100.0%) in 13.58 sec. Users per second: 770\n"
     ]
    },
    {
     "name": "stderr",
     "output_type": "stream",
     "text": [
      "[I 2023-12-01 14:38:16,656] Trial 349 finished with value: 0.03314328903583906 and parameters: {'topK': 51, 'num_factors': 233}. Best is trial 293 with value: 0.0337220939446938.\n"
     ]
    },
    {
     "name": "stdout",
     "output_type": "stream",
     "text": [
      "PureSVDItemRecommender: URM Detected 627 ( 4.8%) users with no interactions.\n",
      "PureSVDItemRecommender: URM Detected 247 ( 1.1%) items with no interactions.\n",
      "PureSVDItemRecommender: Computing SVD decomposition...\n",
      "PureSVDItemRecommender: Computing SVD decomposition... Done!\n",
      "EvaluatorHoldout: Processed 10456 (100.0%) in 9.92 sec. Users per second: 1054\n"
     ]
    },
    {
     "name": "stderr",
     "output_type": "stream",
     "text": [
      "[I 2023-12-01 14:39:08,149] Trial 350 finished with value: 0.03217463049999418 and parameters: {'topK': 12, 'num_factors': 423}. Best is trial 293 with value: 0.0337220939446938.\n"
     ]
    },
    {
     "name": "stdout",
     "output_type": "stream",
     "text": [
      "PureSVDItemRecommender: URM Detected 627 ( 4.8%) users with no interactions.\n",
      "PureSVDItemRecommender: URM Detected 247 ( 1.1%) items with no interactions.\n",
      "PureSVDItemRecommender: Computing SVD decomposition...\n",
      "PureSVDItemRecommender: Computing SVD decomposition... Done!\n",
      "EvaluatorHoldout: Processed 10456 (100.0%) in 11.98 sec. Users per second: 873\n"
     ]
    },
    {
     "name": "stderr",
     "output_type": "stream",
     "text": [
      "[I 2023-12-01 14:39:50,158] Trial 351 finished with value: 0.03296482766786923 and parameters: {'topK': 30, 'num_factors': 280}. Best is trial 293 with value: 0.0337220939446938.\n"
     ]
    },
    {
     "name": "stdout",
     "output_type": "stream",
     "text": [
      "PureSVDItemRecommender: URM Detected 627 ( 4.8%) users with no interactions.\n",
      "PureSVDItemRecommender: URM Detected 247 ( 1.1%) items with no interactions.\n",
      "PureSVDItemRecommender: Computing SVD decomposition...\n",
      "PureSVDItemRecommender: Computing SVD decomposition... Done!\n",
      "EvaluatorHoldout: Processed 10456 (100.0%) in 18.43 sec. Users per second: 567\n"
     ]
    },
    {
     "name": "stderr",
     "output_type": "stream",
     "text": [
      "[I 2023-12-01 14:40:55,256] Trial 352 finished with value: 0.03231414180056138 and parameters: {'topK': 478, 'num_factors': 106}. Best is trial 293 with value: 0.0337220939446938.\n"
     ]
    },
    {
     "name": "stdout",
     "output_type": "stream",
     "text": [
      "PureSVDItemRecommender: URM Detected 627 ( 4.8%) users with no interactions.\n",
      "PureSVDItemRecommender: URM Detected 247 ( 1.1%) items with no interactions.\n",
      "PureSVDItemRecommender: Computing SVD decomposition...\n",
      "PureSVDItemRecommender: Computing SVD decomposition... Done!\n",
      "EvaluatorHoldout: Processed 10456 (100.0%) in 13.37 sec. Users per second: 782\n"
     ]
    },
    {
     "name": "stderr",
     "output_type": "stream",
     "text": [
      "[I 2023-12-01 14:41:33,748] Trial 353 finished with value: 0.03352365467992884 and parameters: {'topK': 44, 'num_factors': 156}. Best is trial 293 with value: 0.0337220939446938.\n"
     ]
    },
    {
     "name": "stdout",
     "output_type": "stream",
     "text": [
      "PureSVDItemRecommender: URM Detected 627 ( 4.8%) users with no interactions.\n",
      "PureSVDItemRecommender: URM Detected 247 ( 1.1%) items with no interactions.\n",
      "PureSVDItemRecommender: Computing SVD decomposition...\n",
      "PureSVDItemRecommender: Computing SVD decomposition... Done!\n",
      "EvaluatorHoldout: Processed 10456 (100.0%) in 13.28 sec. Users per second: 788\n"
     ]
    },
    {
     "name": "stderr",
     "output_type": "stream",
     "text": [
      "[I 2023-12-01 14:42:12,665] Trial 354 finished with value: 0.0334201825336105 and parameters: {'topK': 43, 'num_factors': 186}. Best is trial 293 with value: 0.0337220939446938.\n"
     ]
    },
    {
     "name": "stdout",
     "output_type": "stream",
     "text": [
      "PureSVDItemRecommender: URM Detected 627 ( 4.8%) users with no interactions.\n",
      "PureSVDItemRecommender: URM Detected 247 ( 1.1%) items with no interactions.\n",
      "PureSVDItemRecommender: Computing SVD decomposition...\n",
      "PureSVDItemRecommender: Computing SVD decomposition... Done!\n",
      "EvaluatorHoldout: Processed 10456 (100.0%) in 11.88 sec. Users per second: 880\n"
     ]
    },
    {
     "name": "stderr",
     "output_type": "stream",
     "text": [
      "[I 2023-12-01 14:42:46,830] Trial 355 finished with value: 0.0336148190148289 and parameters: {'topK': 21, 'num_factors': 159}. Best is trial 293 with value: 0.0337220939446938.\n"
     ]
    },
    {
     "name": "stdout",
     "output_type": "stream",
     "text": [
      "PureSVDItemRecommender: URM Detected 627 ( 4.8%) users with no interactions.\n",
      "PureSVDItemRecommender: URM Detected 247 ( 1.1%) items with no interactions.\n",
      "PureSVDItemRecommender: Computing SVD decomposition...\n",
      "PureSVDItemRecommender: Computing SVD decomposition... Done!\n",
      "EvaluatorHoldout: Processed 10456 (100.0%) in 12.06 sec. Users per second: 867\n"
     ]
    },
    {
     "name": "stderr",
     "output_type": "stream",
     "text": [
      "[I 2023-12-01 14:43:21,010] Trial 356 finished with value: 0.033259771104310436 and parameters: {'topK': 21, 'num_factors': 156}. Best is trial 293 with value: 0.0337220939446938.\n"
     ]
    },
    {
     "name": "stdout",
     "output_type": "stream",
     "text": [
      "PureSVDItemRecommender: URM Detected 627 ( 4.8%) users with no interactions.\n",
      "PureSVDItemRecommender: URM Detected 247 ( 1.1%) items with no interactions.\n",
      "PureSVDItemRecommender: Computing SVD decomposition...\n",
      "PureSVDItemRecommender: Computing SVD decomposition... Done!\n",
      "EvaluatorHoldout: Processed 10456 (100.0%) in 12.24 sec. Users per second: 854\n"
     ]
    },
    {
     "name": "stderr",
     "output_type": "stream",
     "text": [
      "[I 2023-12-01 14:43:56,258] Trial 357 finished with value: 0.03303257186577792 and parameters: {'topK': 26, 'num_factors': 174}. Best is trial 293 with value: 0.0337220939446938.\n"
     ]
    },
    {
     "name": "stdout",
     "output_type": "stream",
     "text": [
      "PureSVDItemRecommender: URM Detected 627 ( 4.8%) users with no interactions.\n",
      "PureSVDItemRecommender: URM Detected 247 ( 1.1%) items with no interactions.\n",
      "PureSVDItemRecommender: Computing SVD decomposition...\n",
      "PureSVDItemRecommender: Computing SVD decomposition... Done!\n",
      "EvaluatorHoldout: Processed 10456 (100.0%) in 15.56 sec. Users per second: 672\n"
     ]
    },
    {
     "name": "stderr",
     "output_type": "stream",
     "text": [
      "[I 2023-12-01 14:44:42,602] Trial 358 finished with value: 0.033144476931298086 and parameters: {'topK': 132, 'num_factors': 122}. Best is trial 293 with value: 0.0337220939446938.\n"
     ]
    },
    {
     "name": "stdout",
     "output_type": "stream",
     "text": [
      "PureSVDItemRecommender: URM Detected 627 ( 4.8%) users with no interactions.\n",
      "PureSVDItemRecommender: URM Detected 247 ( 1.1%) items with no interactions.\n",
      "PureSVDItemRecommender: Computing SVD decomposition...\n",
      "PureSVDItemRecommender: Computing SVD decomposition... Done!\n",
      "EvaluatorHoldout: Processed 10456 (100.0%) in 14.17 sec. Users per second: 738\n"
     ]
    },
    {
     "name": "stderr",
     "output_type": "stream",
     "text": [
      "[I 2023-12-01 14:45:15,149] Trial 359 finished with value: 0.028348347117475033 and parameters: {'topK': 49, 'num_factors': 24}. Best is trial 293 with value: 0.0337220939446938.\n"
     ]
    },
    {
     "name": "stdout",
     "output_type": "stream",
     "text": [
      "PureSVDItemRecommender: URM Detected 627 ( 4.8%) users with no interactions.\n",
      "PureSVDItemRecommender: URM Detected 247 ( 1.1%) items with no interactions.\n",
      "PureSVDItemRecommender: Computing SVD decomposition...\n",
      "PureSVDItemRecommender: Computing SVD decomposition... Done!\n",
      "EvaluatorHoldout: Processed 10456 (100.0%) in 11.59 sec. Users per second: 902\n"
     ]
    },
    {
     "name": "stderr",
     "output_type": "stream",
     "text": [
      "[I 2023-12-01 14:45:53,960] Trial 360 finished with value: 0.03315675438117127 and parameters: {'topK': 22, 'num_factors': 220}. Best is trial 293 with value: 0.0337220939446938.\n"
     ]
    },
    {
     "name": "stdout",
     "output_type": "stream",
     "text": [
      "PureSVDItemRecommender: URM Detected 627 ( 4.8%) users with no interactions.\n",
      "PureSVDItemRecommender: URM Detected 247 ( 1.1%) items with no interactions.\n",
      "PureSVDItemRecommender: Computing SVD decomposition...\n",
      "PureSVDItemRecommender: Computing SVD decomposition... Done!\n",
      "EvaluatorHoldout: Processed 10456 (100.0%) in 13.25 sec. Users per second: 789\n"
     ]
    },
    {
     "name": "stderr",
     "output_type": "stream",
     "text": [
      "[I 2023-12-01 14:46:29,738] Trial 361 finished with value: 0.03349651525364067 and parameters: {'topK': 37, 'num_factors': 140}. Best is trial 293 with value: 0.0337220939446938.\n"
     ]
    },
    {
     "name": "stdout",
     "output_type": "stream",
     "text": [
      "PureSVDItemRecommender: URM Detected 627 ( 4.8%) users with no interactions.\n",
      "PureSVDItemRecommender: URM Detected 247 ( 1.1%) items with no interactions.\n",
      "PureSVDItemRecommender: Computing SVD decomposition...\n",
      "PureSVDItemRecommender: Computing SVD decomposition... Done!\n",
      "EvaluatorHoldout: Processed 10456 (100.0%) in 11.49 sec. Users per second: 910\n"
     ]
    },
    {
     "name": "stderr",
     "output_type": "stream",
     "text": [
      "[I 2023-12-01 14:47:01,630] Trial 362 finished with value: 0.033193453899029945 and parameters: {'topK': 17, 'num_factors': 137}. Best is trial 293 with value: 0.0337220939446938.\n"
     ]
    },
    {
     "name": "stdout",
     "output_type": "stream",
     "text": [
      "PureSVDItemRecommender: URM Detected 627 ( 4.8%) users with no interactions.\n",
      "PureSVDItemRecommender: URM Detected 247 ( 1.1%) items with no interactions.\n",
      "PureSVDItemRecommender: Computing SVD decomposition...\n",
      "PureSVDItemRecommender: Computing SVD decomposition... Done!\n",
      "EvaluatorHoldout: Processed 10456 (100.0%) in 13.22 sec. Users per second: 791\n"
     ]
    },
    {
     "name": "stderr",
     "output_type": "stream",
     "text": [
      "[I 2023-12-01 14:47:34,903] Trial 363 finished with value: 0.032546092620930236 and parameters: {'topK': 32, 'num_factors': 93}. Best is trial 293 with value: 0.0337220939446938.\n"
     ]
    },
    {
     "name": "stdout",
     "output_type": "stream",
     "text": [
      "PureSVDItemRecommender: URM Detected 627 ( 4.8%) users with no interactions.\n",
      "PureSVDItemRecommender: URM Detected 247 ( 1.1%) items with no interactions.\n",
      "PureSVDItemRecommender: Computing SVD decomposition...\n",
      "PureSVDItemRecommender: Computing SVD decomposition... Done!\n",
      "EvaluatorHoldout: Processed 10456 (100.0%) in 12.14 sec. Users per second: 861\n"
     ]
    },
    {
     "name": "stderr",
     "output_type": "stream",
     "text": [
      "[I 2023-12-01 14:48:06,450] Trial 364 finished with value: 0.033056124834529764 and parameters: {'topK': 20, 'num_factors': 109}. Best is trial 293 with value: 0.0337220939446938.\n"
     ]
    },
    {
     "name": "stdout",
     "output_type": "stream",
     "text": [
      "PureSVDItemRecommender: URM Detected 627 ( 4.8%) users with no interactions.\n",
      "PureSVDItemRecommender: URM Detected 247 ( 1.1%) items with no interactions.\n",
      "PureSVDItemRecommender: Computing SVD decomposition...\n",
      "PureSVDItemRecommender: Computing SVD decomposition... Done!\n",
      "EvaluatorHoldout: Processed 10456 (100.0%) in 11.23 sec. Users per second: 931\n"
     ]
    },
    {
     "name": "stderr",
     "output_type": "stream",
     "text": [
      "[I 2023-12-01 14:49:13,177] Trial 365 finished with value: 0.032916780522461705 and parameters: {'topK': 37, 'num_factors': 573}. Best is trial 293 with value: 0.0337220939446938.\n"
     ]
    },
    {
     "name": "stdout",
     "output_type": "stream",
     "text": [
      "PureSVDItemRecommender: URM Detected 627 ( 4.8%) users with no interactions.\n",
      "PureSVDItemRecommender: URM Detected 247 ( 1.1%) items with no interactions.\n",
      "PureSVDItemRecommender: Computing SVD decomposition...\n",
      "PureSVDItemRecommender: Computing SVD decomposition... Done!\n",
      "EvaluatorHoldout: Processed 10456 (100.0%) in 9.38 sec. Users per second: 1115\n"
     ]
    },
    {
     "name": "stderr",
     "output_type": "stream",
     "text": [
      "[I 2023-12-01 14:49:42,468] Trial 366 finished with value: 0.02958989142711427 and parameters: {'topK': 4, 'num_factors': 131}. Best is trial 293 with value: 0.0337220939446938.\n"
     ]
    },
    {
     "name": "stdout",
     "output_type": "stream",
     "text": [
      "PureSVDItemRecommender: URM Detected 627 ( 4.8%) users with no interactions.\n",
      "PureSVDItemRecommender: URM Detected 247 ( 1.1%) items with no interactions.\n",
      "PureSVDItemRecommender: Computing SVD decomposition...\n",
      "PureSVDItemRecommender: Computing SVD decomposition... Done!\n",
      "EvaluatorHoldout: Processed 10456 (100.0%) in 13.19 sec. Users per second: 793\n"
     ]
    },
    {
     "name": "stderr",
     "output_type": "stream",
     "text": [
      "[I 2023-12-01 14:50:20,052] Trial 367 finished with value: 0.03345071486258402 and parameters: {'topK': 40, 'num_factors': 159}. Best is trial 293 with value: 0.0337220939446938.\n"
     ]
    },
    {
     "name": "stdout",
     "output_type": "stream",
     "text": [
      "PureSVDItemRecommender: URM Detected 627 ( 4.8%) users with no interactions.\n",
      "PureSVDItemRecommender: URM Detected 247 ( 1.1%) items with no interactions.\n",
      "PureSVDItemRecommender: Computing SVD decomposition...\n",
      "PureSVDItemRecommender: Computing SVD decomposition... Done!\n",
      "EvaluatorHoldout: Processed 10456 (100.0%) in 12.50 sec. Users per second: 836\n"
     ]
    },
    {
     "name": "stderr",
     "output_type": "stream",
     "text": [
      "[I 2023-12-01 14:50:55,364] Trial 368 finished with value: 0.03346289363743492 and parameters: {'topK': 28, 'num_factors': 150}. Best is trial 293 with value: 0.0337220939446938.\n"
     ]
    },
    {
     "name": "stdout",
     "output_type": "stream",
     "text": [
      "PureSVDItemRecommender: URM Detected 627 ( 4.8%) users with no interactions.\n",
      "PureSVDItemRecommender: URM Detected 247 ( 1.1%) items with no interactions.\n",
      "PureSVDItemRecommender: Computing SVD decomposition...\n",
      "PureSVDItemRecommender: Computing SVD decomposition... Done!\n",
      "EvaluatorHoldout: Processed 10456 (100.0%) in 10.49 sec. Users per second: 997\n"
     ]
    },
    {
     "name": "stderr",
     "output_type": "stream",
     "text": [
      "[I 2023-12-01 14:52:11,379] Trial 369 finished with value: 0.032660532875481436 and parameters: {'topK': 36, 'num_factors': 957}. Best is trial 293 with value: 0.0337220939446938.\n"
     ]
    },
    {
     "name": "stdout",
     "output_type": "stream",
     "text": [
      "PureSVDItemRecommender: URM Detected 627 ( 4.8%) users with no interactions.\n",
      "PureSVDItemRecommender: URM Detected 247 ( 1.1%) items with no interactions.\n",
      "PureSVDItemRecommender: Computing SVD decomposition...\n",
      "PureSVDItemRecommender: Computing SVD decomposition... Done!\n",
      "EvaluatorHoldout: Processed 10456 (100.0%) in 13.60 sec. Users per second: 769\n"
     ]
    },
    {
     "name": "stderr",
     "output_type": "stream",
     "text": [
      "[I 2023-12-01 14:52:41,413] Trial 370 finished with value: 0.01254781563862467 and parameters: {'topK': 42, 'num_factors': 2}. Best is trial 293 with value: 0.0337220939446938.\n"
     ]
    },
    {
     "name": "stdout",
     "output_type": "stream",
     "text": [
      "PureSVDItemRecommender: URM Detected 627 ( 4.8%) users with no interactions.\n",
      "PureSVDItemRecommender: URM Detected 247 ( 1.1%) items with no interactions.\n",
      "PureSVDItemRecommender: Computing SVD decomposition...\n",
      "PureSVDItemRecommender: Computing SVD decomposition... Done!\n",
      "EvaluatorHoldout: Processed 10456 (100.0%) in 10.66 sec. Users per second: 981\n"
     ]
    },
    {
     "name": "stderr",
     "output_type": "stream",
     "text": [
      "[I 2023-12-01 14:53:49,804] Trial 371 finished with value: 0.03299904512940125 and parameters: {'topK': 31, 'num_factors': 626}. Best is trial 293 with value: 0.0337220939446938.\n"
     ]
    },
    {
     "name": "stdout",
     "output_type": "stream",
     "text": [
      "PureSVDItemRecommender: URM Detected 627 ( 4.8%) users with no interactions.\n",
      "PureSVDItemRecommender: URM Detected 247 ( 1.1%) items with no interactions.\n",
      "PureSVDItemRecommender: Computing SVD decomposition...\n",
      "PureSVDItemRecommender: Computing SVD decomposition... Done!\n",
      "EvaluatorHoldout: Processed 10456 (100.0%) in 13.76 sec. Users per second: 760\n"
     ]
    },
    {
     "name": "stderr",
     "output_type": "stream",
     "text": [
      "[I 2023-12-01 14:54:22,683] Trial 372 finished with value: 0.03076590793165033 and parameters: {'topK': 45, 'num_factors': 43}. Best is trial 293 with value: 0.0337220939446938.\n"
     ]
    },
    {
     "name": "stdout",
     "output_type": "stream",
     "text": [
      "PureSVDItemRecommender: URM Detected 627 ( 4.8%) users with no interactions.\n",
      "PureSVDItemRecommender: URM Detected 247 ( 1.1%) items with no interactions.\n",
      "PureSVDItemRecommender: Computing SVD decomposition...\n",
      "PureSVDItemRecommender: Computing SVD decomposition... Done!\n",
      "EvaluatorHoldout: Processed 10456 (100.0%) in 12.47 sec. Users per second: 838\n"
     ]
    },
    {
     "name": "stderr",
     "output_type": "stream",
     "text": [
      "[I 2023-12-01 14:54:55,296] Trial 373 finished with value: 0.03314213529711835 and parameters: {'topK': 24, 'num_factors': 116}. Best is trial 293 with value: 0.0337220939446938.\n"
     ]
    },
    {
     "name": "stdout",
     "output_type": "stream",
     "text": [
      "PureSVDItemRecommender: URM Detected 627 ( 4.8%) users with no interactions.\n",
      "PureSVDItemRecommender: URM Detected 247 ( 1.1%) items with no interactions.\n",
      "PureSVDItemRecommender: Computing SVD decomposition...\n",
      "PureSVDItemRecommender: Computing SVD decomposition... Done!\n",
      "EvaluatorHoldout: Processed 10456 (100.0%) in 10.08 sec. Users per second: 1038\n"
     ]
    },
    {
     "name": "stderr",
     "output_type": "stream",
     "text": [
      "[I 2023-12-01 14:55:27,228] Trial 374 finished with value: 0.03210541756233252 and parameters: {'topK': 8, 'num_factors': 184}. Best is trial 293 with value: 0.0337220939446938.\n"
     ]
    },
    {
     "name": "stdout",
     "output_type": "stream",
     "text": [
      "PureSVDItemRecommender: URM Detected 627 ( 4.8%) users with no interactions.\n",
      "PureSVDItemRecommender: URM Detected 247 ( 1.1%) items with no interactions.\n",
      "PureSVDItemRecommender: Computing SVD decomposition...\n",
      "PureSVDItemRecommender: Computing SVD decomposition... Done!\n",
      "EvaluatorHoldout: Processed 10456 (100.0%) in 15.15 sec. Users per second: 690\n"
     ]
    },
    {
     "name": "stderr",
     "output_type": "stream",
     "text": [
      "[I 2023-12-01 14:56:10,944] Trial 375 finished with value: 0.03319922259263334 and parameters: {'topK': 103, 'num_factors': 130}. Best is trial 293 with value: 0.0337220939446938.\n"
     ]
    },
    {
     "name": "stdout",
     "output_type": "stream",
     "text": [
      "PureSVDItemRecommender: URM Detected 627 ( 4.8%) users with no interactions.\n",
      "PureSVDItemRecommender: URM Detected 247 ( 1.1%) items with no interactions.\n",
      "PureSVDItemRecommender: Computing SVD decomposition...\n",
      "PureSVDItemRecommender: Computing SVD decomposition... Done!\n",
      "EvaluatorHoldout: Processed 10456 (100.0%) in 15.79 sec. Users per second: 662\n"
     ]
    },
    {
     "name": "stderr",
     "output_type": "stream",
     "text": [
      "[I 2023-12-01 14:57:02,623] Trial 376 finished with value: 0.03305955568914657 and parameters: {'topK': 173, 'num_factors': 172}. Best is trial 293 with value: 0.0337220939446938.\n"
     ]
    },
    {
     "name": "stdout",
     "output_type": "stream",
     "text": [
      "PureSVDItemRecommender: URM Detected 627 ( 4.8%) users with no interactions.\n",
      "PureSVDItemRecommender: URM Detected 247 ( 1.1%) items with no interactions.\n",
      "PureSVDItemRecommender: Computing SVD decomposition...\n",
      "PureSVDItemRecommender: Computing SVD decomposition... Done!\n",
      "EvaluatorHoldout: Processed 10456 (100.0%) in 14.23 sec. Users per second: 735\n"
     ]
    },
    {
     "name": "stderr",
     "output_type": "stream",
     "text": [
      "[I 2023-12-01 14:57:38,802] Trial 377 finished with value: 0.03251820933678267 and parameters: {'topK': 54, 'num_factors': 93}. Best is trial 293 with value: 0.0337220939446938.\n"
     ]
    },
    {
     "name": "stdout",
     "output_type": "stream",
     "text": [
      "PureSVDItemRecommender: URM Detected 627 ( 4.8%) users with no interactions.\n",
      "PureSVDItemRecommender: URM Detected 247 ( 1.1%) items with no interactions.\n",
      "PureSVDItemRecommender: Computing SVD decomposition...\n",
      "PureSVDItemRecommender: Computing SVD decomposition... Done!\n",
      "EvaluatorHoldout: Processed 10456 (100.0%) in 8.38 sec. Users per second: 1248\n"
     ]
    },
    {
     "name": "stderr",
     "output_type": "stream",
     "text": [
      "[I 2023-12-01 14:57:59,720] Trial 378 finished with value: 0.010369351993538998 and parameters: {'topK': 1, 'num_factors': 148}. Best is trial 293 with value: 0.0337220939446938.\n"
     ]
    },
    {
     "name": "stdout",
     "output_type": "stream",
     "text": [
      "PureSVDItemRecommender: URM Detected 627 ( 4.8%) users with no interactions.\n",
      "PureSVDItemRecommender: URM Detected 247 ( 1.1%) items with no interactions.\n",
      "PureSVDItemRecommender: Computing SVD decomposition...\n",
      "PureSVDItemRecommender: Computing SVD decomposition... Done!\n",
      "EvaluatorHoldout: Processed 10456 (100.0%) in 12.75 sec. Users per second: 820\n"
     ]
    },
    {
     "name": "stderr",
     "output_type": "stream",
     "text": [
      "[I 2023-12-01 14:58:37,788] Trial 379 finished with value: 0.03347324692437578 and parameters: {'topK': 35, 'num_factors': 195}. Best is trial 293 with value: 0.0337220939446938.\n"
     ]
    },
    {
     "name": "stdout",
     "output_type": "stream",
     "text": [
      "PureSVDItemRecommender: URM Detected 627 ( 4.8%) users with no interactions.\n",
      "PureSVDItemRecommender: URM Detected 247 ( 1.1%) items with no interactions.\n",
      "PureSVDItemRecommender: Computing SVD decomposition...\n",
      "PureSVDItemRecommender: Computing SVD decomposition... Done!\n",
      "EvaluatorHoldout: Processed 10456 (100.0%) in 13.71 sec. Users per second: 763\n"
     ]
    },
    {
     "name": "stderr",
     "output_type": "stream",
     "text": [
      "[I 2023-12-01 14:59:14,767] Trial 380 finished with value: 0.033253577349073096 and parameters: {'topK': 47, 'num_factors': 116}. Best is trial 293 with value: 0.0337220939446938.\n"
     ]
    },
    {
     "name": "stdout",
     "output_type": "stream",
     "text": [
      "PureSVDItemRecommender: URM Detected 627 ( 4.8%) users with no interactions.\n",
      "PureSVDItemRecommender: URM Detected 247 ( 1.1%) items with no interactions.\n",
      "PureSVDItemRecommender: Computing SVD decomposition...\n",
      "PureSVDItemRecommender: Computing SVD decomposition... Done!\n",
      "EvaluatorHoldout: Processed 10456 (100.0%) in 14.08 sec. Users per second: 742\n"
     ]
    },
    {
     "name": "stderr",
     "output_type": "stream",
     "text": [
      "[I 2023-12-01 14:59:55,067] Trial 381 finished with value: 0.03342171958684047 and parameters: {'topK': 64, 'num_factors': 157}. Best is trial 293 with value: 0.0337220939446938.\n"
     ]
    },
    {
     "name": "stdout",
     "output_type": "stream",
     "text": [
      "PureSVDItemRecommender: URM Detected 627 ( 4.8%) users with no interactions.\n",
      "PureSVDItemRecommender: URM Detected 247 ( 1.1%) items with no interactions.\n",
      "PureSVDItemRecommender: Computing SVD decomposition...\n",
      "PureSVDItemRecommender: Computing SVD decomposition... Done!\n",
      "EvaluatorHoldout: Processed 10456 (100.0%) in 12.61 sec. Users per second: 829\n"
     ]
    },
    {
     "name": "stderr",
     "output_type": "stream",
     "text": [
      "[I 2023-12-01 15:00:29,023] Trial 382 finished with value: 0.03298627050922404 and parameters: {'topK': 28, 'num_factors': 135}. Best is trial 293 with value: 0.0337220939446938.\n"
     ]
    },
    {
     "name": "stdout",
     "output_type": "stream",
     "text": [
      "PureSVDItemRecommender: URM Detected 627 ( 4.8%) users with no interactions.\n",
      "PureSVDItemRecommender: URM Detected 247 ( 1.1%) items with no interactions.\n",
      "PureSVDItemRecommender: Computing SVD decomposition...\n",
      "PureSVDItemRecommender: Computing SVD decomposition... Done!\n",
      "EvaluatorHoldout: Processed 10456 (100.0%) in 13.02 sec. Users per second: 803\n"
     ]
    },
    {
     "name": "stderr",
     "output_type": "stream",
     "text": [
      "[I 2023-12-01 15:01:08,762] Trial 383 finished with value: 0.03308217504038117 and parameters: {'topK': 40, 'num_factors': 218}. Best is trial 293 with value: 0.0337220939446938.\n"
     ]
    },
    {
     "name": "stdout",
     "output_type": "stream",
     "text": [
      "PureSVDItemRecommender: URM Detected 627 ( 4.8%) users with no interactions.\n",
      "PureSVDItemRecommender: URM Detected 247 ( 1.1%) items with no interactions.\n",
      "PureSVDItemRecommender: Computing SVD decomposition...\n",
      "PureSVDItemRecommender: Computing SVD decomposition... Done!\n",
      "EvaluatorHoldout: Processed 10456 (100.0%) in 13.82 sec. Users per second: 757\n"
     ]
    },
    {
     "name": "stderr",
     "output_type": "stream",
     "text": [
      "[I 2023-12-01 15:01:48,525] Trial 384 finished with value: 0.0333376522631499 and parameters: {'topK': 56, 'num_factors': 174}. Best is trial 293 with value: 0.0337220939446938.\n"
     ]
    },
    {
     "name": "stdout",
     "output_type": "stream",
     "text": [
      "PureSVDItemRecommender: URM Detected 627 ( 4.8%) users with no interactions.\n",
      "PureSVDItemRecommender: URM Detected 247 ( 1.1%) items with no interactions.\n",
      "PureSVDItemRecommender: Computing SVD decomposition...\n",
      "PureSVDItemRecommender: Computing SVD decomposition... Done!\n",
      "EvaluatorHoldout: Processed 10456 (100.0%) in 13.14 sec. Users per second: 796\n"
     ]
    },
    {
     "name": "stderr",
     "output_type": "stream",
     "text": [
      "[I 2023-12-01 15:02:18,398] Trial 385 finished with value: 0.02430097096221816 and parameters: {'topK': 34, 'num_factors': 14}. Best is trial 293 with value: 0.0337220939446938.\n"
     ]
    },
    {
     "name": "stdout",
     "output_type": "stream",
     "text": [
      "PureSVDItemRecommender: URM Detected 627 ( 4.8%) users with no interactions.\n",
      "PureSVDItemRecommender: URM Detected 247 ( 1.1%) items with no interactions.\n",
      "PureSVDItemRecommender: Computing SVD decomposition...\n",
      "PureSVDItemRecommender: Computing SVD decomposition... Done!\n",
      "EvaluatorHoldout: Processed 10456 (100.0%) in 13.77 sec. Users per second: 759\n"
     ]
    },
    {
     "name": "stderr",
     "output_type": "stream",
     "text": [
      "[I 2023-12-01 15:02:53,000] Trial 386 finished with value: 0.03176460162616468 and parameters: {'topK': 44, 'num_factors': 77}. Best is trial 293 with value: 0.0337220939446938.\n"
     ]
    },
    {
     "name": "stdout",
     "output_type": "stream",
     "text": [
      "PureSVDItemRecommender: URM Detected 627 ( 4.8%) users with no interactions.\n",
      "PureSVDItemRecommender: URM Detected 247 ( 1.1%) items with no interactions.\n",
      "PureSVDItemRecommender: Computing SVD decomposition...\n",
      "PureSVDItemRecommender: Computing SVD decomposition... Done!\n",
      "EvaluatorHoldout: Processed 10456 (100.0%) in 13.61 sec. Users per second: 768\n"
     ]
    },
    {
     "name": "stderr",
     "output_type": "stream",
     "text": [
      "[I 2023-12-01 15:03:43,201] Trial 387 finished with value: 0.03285576520202596 and parameters: {'topK': 71, 'num_factors': 331}. Best is trial 293 with value: 0.0337220939446938.\n"
     ]
    },
    {
     "name": "stdout",
     "output_type": "stream",
     "text": [
      "PureSVDItemRecommender: URM Detected 627 ( 4.8%) users with no interactions.\n",
      "PureSVDItemRecommender: URM Detected 247 ( 1.1%) items with no interactions.\n",
      "PureSVDItemRecommender: Computing SVD decomposition...\n",
      "PureSVDItemRecommender: Computing SVD decomposition... Done!\n",
      "EvaluatorHoldout: Processed 10456 (100.0%) in 13.83 sec. Users per second: 756\n"
     ]
    },
    {
     "name": "stderr",
     "output_type": "stream",
     "text": [
      "[I 2023-12-01 15:04:20,125] Trial 388 finished with value: 0.03317330521854272 and parameters: {'topK': 48, 'num_factors': 105}. Best is trial 293 with value: 0.0337220939446938.\n"
     ]
    },
    {
     "name": "stdout",
     "output_type": "stream",
     "text": [
      "PureSVDItemRecommender: URM Detected 627 ( 4.8%) users with no interactions.\n",
      "PureSVDItemRecommender: URM Detected 247 ( 1.1%) items with no interactions.\n",
      "PureSVDItemRecommender: Computing SVD decomposition...\n",
      "PureSVDItemRecommender: Computing SVD decomposition... Done!\n",
      "EvaluatorHoldout: Processed 10456 (100.0%) in 11.78 sec. Users per second: 888\n"
     ]
    },
    {
     "name": "stderr",
     "output_type": "stream",
     "text": [
      "[I 2023-12-01 15:04:49,724] Trial 389 finished with value: 0.030763076717552764 and parameters: {'topK': 16, 'num_factors': 69}. Best is trial 293 with value: 0.0337220939446938.\n"
     ]
    },
    {
     "name": "stdout",
     "output_type": "stream",
     "text": [
      "PureSVDItemRecommender: URM Detected 627 ( 4.8%) users with no interactions.\n",
      "PureSVDItemRecommender: URM Detected 247 ( 1.1%) items with no interactions.\n",
      "PureSVDItemRecommender: Computing SVD decomposition...\n",
      "PureSVDItemRecommender: Computing SVD decomposition... Done!\n",
      "EvaluatorHoldout: Processed 10456 (100.0%) in 12.71 sec. Users per second: 823\n"
     ]
    },
    {
     "name": "stderr",
     "output_type": "stream",
     "text": [
      "[I 2023-12-01 15:05:31,563] Trial 390 finished with value: 0.0331091095262387 and parameters: {'topK': 39, 'num_factors': 249}. Best is trial 293 with value: 0.0337220939446938.\n"
     ]
    },
    {
     "name": "stdout",
     "output_type": "stream",
     "text": [
      "PureSVDItemRecommender: URM Detected 627 ( 4.8%) users with no interactions.\n",
      "PureSVDItemRecommender: URM Detected 247 ( 1.1%) items with no interactions.\n",
      "PureSVDItemRecommender: Computing SVD decomposition...\n",
      "PureSVDItemRecommender: Computing SVD decomposition... Done!\n",
      "EvaluatorHoldout: Processed 10456 (100.0%) in 12.24 sec. Users per second: 855\n"
     ]
    },
    {
     "name": "stderr",
     "output_type": "stream",
     "text": [
      "[I 2023-12-01 15:06:00,392] Trial 391 finished with value: 0.02985470482505693 and parameters: {'topK': 20, 'num_factors': 39}. Best is trial 293 with value: 0.0337220939446938.\n"
     ]
    },
    {
     "name": "stdout",
     "output_type": "stream",
     "text": [
      "PureSVDItemRecommender: URM Detected 627 ( 4.8%) users with no interactions.\n",
      "PureSVDItemRecommender: URM Detected 247 ( 1.1%) items with no interactions.\n",
      "PureSVDItemRecommender: Computing SVD decomposition...\n",
      "PureSVDItemRecommender: Computing SVD decomposition... Done!\n",
      "EvaluatorHoldout: Processed 10456 (100.0%) in 12.85 sec. Users per second: 814\n"
     ]
    },
    {
     "name": "stderr",
     "output_type": "stream",
     "text": [
      "[I 2023-12-01 15:06:35,387] Trial 392 finished with value: 0.03313098501961375 and parameters: {'topK': 31, 'num_factors': 142}. Best is trial 293 with value: 0.0337220939446938.\n"
     ]
    },
    {
     "name": "stdout",
     "output_type": "stream",
     "text": [
      "PureSVDItemRecommender: URM Detected 627 ( 4.8%) users with no interactions.\n",
      "PureSVDItemRecommender: URM Detected 247 ( 1.1%) items with no interactions.\n",
      "PureSVDItemRecommender: Computing SVD decomposition...\n",
      "PureSVDItemRecommender: Computing SVD decomposition... Done!\n",
      "EvaluatorHoldout: Processed 10456 (100.0%) in 14.79 sec. Users per second: 707\n"
     ]
    },
    {
     "name": "stderr",
     "output_type": "stream",
     "text": [
      "[I 2023-12-01 15:07:21,240] Trial 393 finished with value: 0.033366757599495075 and parameters: {'topK': 91, 'num_factors': 191}. Best is trial 293 with value: 0.0337220939446938.\n"
     ]
    },
    {
     "name": "stdout",
     "output_type": "stream",
     "text": [
      "PureSVDItemRecommender: URM Detected 627 ( 4.8%) users with no interactions.\n",
      "PureSVDItemRecommender: URM Detected 247 ( 1.1%) items with no interactions.\n",
      "PureSVDItemRecommender: Computing SVD decomposition...\n",
      "PureSVDItemRecommender: Computing SVD decomposition... Done!\n",
      "EvaluatorHoldout: Processed 10456 (100.0%) in 17.05 sec. Users per second: 613\n"
     ]
    },
    {
     "name": "stderr",
     "output_type": "stream",
     "text": [
      "[I 2023-12-01 15:08:19,680] Trial 394 finished with value: 0.0323652782332012 and parameters: {'topK': 336, 'num_factors': 124}. Best is trial 293 with value: 0.0337220939446938.\n"
     ]
    },
    {
     "name": "stdout",
     "output_type": "stream",
     "text": [
      "PureSVDItemRecommender: URM Detected 627 ( 4.8%) users with no interactions.\n",
      "PureSVDItemRecommender: URM Detected 247 ( 1.1%) items with no interactions.\n",
      "PureSVDItemRecommender: Computing SVD decomposition...\n",
      "PureSVDItemRecommender: Computing SVD decomposition... Done!\n",
      "EvaluatorHoldout: Processed 10456 (100.0%) in 15.21 sec. Users per second: 688\n"
     ]
    },
    {
     "name": "stderr",
     "output_type": "stream",
     "text": [
      "[I 2023-12-01 15:09:07,036] Trial 395 finished with value: 0.03300258224942661 and parameters: {'topK': 119, 'num_factors': 164}. Best is trial 293 with value: 0.0337220939446938.\n"
     ]
    },
    {
     "name": "stdout",
     "output_type": "stream",
     "text": [
      "PureSVDItemRecommender: URM Detected 627 ( 4.8%) users with no interactions.\n",
      "PureSVDItemRecommender: URM Detected 247 ( 1.1%) items with no interactions.\n",
      "PureSVDItemRecommender: Computing SVD decomposition...\n",
      "PureSVDItemRecommender: Computing SVD decomposition... Done!\n",
      "EvaluatorHoldout: Processed 10456 (100.0%) in 12.35 sec. Users per second: 847\n"
     ]
    },
    {
     "name": "stderr",
     "output_type": "stream",
     "text": [
      "[I 2023-12-01 15:09:41,521] Trial 396 finished with value: 0.033465182138910435 and parameters: {'topK': 25, 'num_factors': 145}. Best is trial 293 with value: 0.0337220939446938.\n"
     ]
    },
    {
     "name": "stdout",
     "output_type": "stream",
     "text": [
      "PureSVDItemRecommender: URM Detected 627 ( 4.8%) users with no interactions.\n",
      "PureSVDItemRecommender: URM Detected 247 ( 1.1%) items with no interactions.\n",
      "PureSVDItemRecommender: Computing SVD decomposition...\n",
      "PureSVDItemRecommender: Computing SVD decomposition... Done!\n",
      "EvaluatorHoldout: Processed 10456 (100.0%) in 14.15 sec. Users per second: 739\n"
     ]
    },
    {
     "name": "stderr",
     "output_type": "stream",
     "text": [
      "[I 2023-12-01 15:10:18,479] Trial 397 finished with value: 0.03286419053084154 and parameters: {'topK': 58, 'num_factors': 104}. Best is trial 293 with value: 0.0337220939446938.\n"
     ]
    },
    {
     "name": "stdout",
     "output_type": "stream",
     "text": [
      "PureSVDItemRecommender: URM Detected 627 ( 4.8%) users with no interactions.\n",
      "PureSVDItemRecommender: URM Detected 247 ( 1.1%) items with no interactions.\n",
      "PureSVDItemRecommender: Computing SVD decomposition...\n",
      "PureSVDItemRecommender: Computing SVD decomposition... Done!\n",
      "EvaluatorHoldout: Processed 10456 (100.0%) in 9.18 sec. Users per second: 1139\n"
     ]
    },
    {
     "name": "stderr",
     "output_type": "stream",
     "text": [
      "[I 2023-12-01 15:10:55,688] Trial 398 finished with value: 0.030325399861551642 and parameters: {'topK': 5, 'num_factors': 289}. Best is trial 293 with value: 0.0337220939446938.\n"
     ]
    },
    {
     "name": "stdout",
     "output_type": "stream",
     "text": [
      "PureSVDItemRecommender: URM Detected 627 ( 4.8%) users with no interactions.\n",
      "PureSVDItemRecommender: URM Detected 247 ( 1.1%) items with no interactions.\n",
      "PureSVDItemRecommender: Computing SVD decomposition...\n",
      "PureSVDItemRecommender: Computing SVD decomposition... Done!\n",
      "EvaluatorHoldout: Processed 10456 (100.0%) in 13.87 sec. Users per second: 754\n"
     ]
    },
    {
     "name": "stderr",
     "output_type": "stream",
     "text": [
      "[I 2023-12-01 15:11:29,665] Trial 399 finished with value: 0.031147431109654043 and parameters: {'topK': 51, 'num_factors': 52}. Best is trial 293 with value: 0.0337220939446938.\n"
     ]
    },
    {
     "name": "stdout",
     "output_type": "stream",
     "text": [
      "PureSVDItemRecommender: URM Detected 627 ( 4.8%) users with no interactions.\n",
      "PureSVDItemRecommender: URM Detected 247 ( 1.1%) items with no interactions.\n",
      "PureSVDItemRecommender: Computing SVD decomposition...\n",
      "PureSVDItemRecommender: Computing SVD decomposition... Done!\n",
      "EvaluatorHoldout: Processed 10456 (100.0%) in 10.06 sec. Users per second: 1040\n"
     ]
    },
    {
     "name": "stderr",
     "output_type": "stream",
     "text": [
      "[I 2023-12-01 15:12:23,989] Trial 400 finished with value: 0.03251485059083588 and parameters: {'topK': 14, 'num_factors': 459}. Best is trial 293 with value: 0.0337220939446938.\n"
     ]
    },
    {
     "name": "stdout",
     "output_type": "stream",
     "text": [
      "PureSVDItemRecommender: URM Detected 627 ( 4.8%) users with no interactions.\n",
      "PureSVDItemRecommender: URM Detected 247 ( 1.1%) items with no interactions.\n",
      "PureSVDItemRecommender: Computing SVD decomposition...\n",
      "PureSVDItemRecommender: Computing SVD decomposition... Done!\n",
      "EvaluatorHoldout: Processed 10456 (100.0%) in 12.72 sec. Users per second: 822\n"
     ]
    },
    {
     "name": "stderr",
     "output_type": "stream",
     "text": [
      "[I 2023-12-01 15:13:03,481] Trial 401 finished with value: 0.0335033693724879 and parameters: {'topK': 37, 'num_factors': 219}. Best is trial 293 with value: 0.0337220939446938.\n"
     ]
    },
    {
     "name": "stdout",
     "output_type": "stream",
     "text": [
      "PureSVDItemRecommender: URM Detected 627 ( 4.8%) users with no interactions.\n",
      "PureSVDItemRecommender: URM Detected 247 ( 1.1%) items with no interactions.\n",
      "PureSVDItemRecommender: Computing SVD decomposition...\n",
      "PureSVDItemRecommender: Computing SVD decomposition... Done!\n",
      "EvaluatorHoldout: Processed 10456 (100.0%) in 12.39 sec. Users per second: 844\n"
     ]
    },
    {
     "name": "stderr",
     "output_type": "stream",
     "text": [
      "[I 2023-12-01 15:13:44,759] Trial 402 finished with value: 0.03312221432822077 and parameters: {'topK': 35, 'num_factors': 251}. Best is trial 293 with value: 0.0337220939446938.\n"
     ]
    },
    {
     "name": "stdout",
     "output_type": "stream",
     "text": [
      "PureSVDItemRecommender: URM Detected 627 ( 4.8%) users with no interactions.\n",
      "PureSVDItemRecommender: URM Detected 247 ( 1.1%) items with no interactions.\n",
      "PureSVDItemRecommender: Computing SVD decomposition...\n",
      "PureSVDItemRecommender: Computing SVD decomposition... Done!\n",
      "EvaluatorHoldout: Processed 10456 (100.0%) in 12.12 sec. Users per second: 863\n"
     ]
    },
    {
     "name": "stderr",
     "output_type": "stream",
     "text": [
      "[I 2023-12-01 15:14:23,140] Trial 403 finished with value: 0.03303949809329526 and parameters: {'topK': 28, 'num_factors': 213}. Best is trial 293 with value: 0.0337220939446938.\n"
     ]
    },
    {
     "name": "stdout",
     "output_type": "stream",
     "text": [
      "PureSVDItemRecommender: URM Detected 627 ( 4.8%) users with no interactions.\n",
      "PureSVDItemRecommender: URM Detected 247 ( 1.1%) items with no interactions.\n",
      "PureSVDItemRecommender: Computing SVD decomposition...\n",
      "PureSVDItemRecommender: Computing SVD decomposition... Done!\n",
      "EvaluatorHoldout: Processed 10456 (100.0%) in 10.85 sec. Users per second: 964\n"
     ]
    },
    {
     "name": "stderr",
     "output_type": "stream",
     "text": [
      "[I 2023-12-01 15:15:26,959] Trial 404 finished with value: 0.032565672022443495 and parameters: {'topK': 38, 'num_factors': 746}. Best is trial 293 with value: 0.0337220939446938.\n"
     ]
    },
    {
     "name": "stdout",
     "output_type": "stream",
     "text": [
      "PureSVDItemRecommender: URM Detected 627 ( 4.8%) users with no interactions.\n",
      "PureSVDItemRecommender: URM Detected 247 ( 1.1%) items with no interactions.\n",
      "PureSVDItemRecommender: Computing SVD decomposition...\n",
      "PureSVDItemRecommender: Computing SVD decomposition... Done!\n",
      "EvaluatorHoldout: Processed 10456 (100.0%) in 8.53 sec. Users per second: 1226\n"
     ]
    },
    {
     "name": "stderr",
     "output_type": "stream",
     "text": [
      "[I 2023-12-01 15:15:51,849] Trial 405 finished with value: 0.022484701576371474 and parameters: {'topK': 2, 'num_factors': 198}. Best is trial 293 with value: 0.0337220939446938.\n"
     ]
    },
    {
     "name": "stdout",
     "output_type": "stream",
     "text": [
      "PureSVDItemRecommender: URM Detected 627 ( 4.8%) users with no interactions.\n",
      "PureSVDItemRecommender: URM Detected 247 ( 1.1%) items with no interactions.\n",
      "PureSVDItemRecommender: Computing SVD decomposition...\n",
      "PureSVDItemRecommender: Computing SVD decomposition... Done!\n",
      "EvaluatorHoldout: Processed 10456 (100.0%) in 11.61 sec. Users per second: 900\n"
     ]
    },
    {
     "name": "stderr",
     "output_type": "stream",
     "text": [
      "[I 2023-12-01 15:16:31,085] Trial 406 finished with value: 0.03309237651959559 and parameters: {'topK': 24, 'num_factors': 233}. Best is trial 293 with value: 0.0337220939446938.\n"
     ]
    },
    {
     "name": "stdout",
     "output_type": "stream",
     "text": [
      "PureSVDItemRecommender: URM Detected 627 ( 4.8%) users with no interactions.\n",
      "PureSVDItemRecommender: URM Detected 247 ( 1.1%) items with no interactions.\n",
      "PureSVDItemRecommender: Computing SVD decomposition...\n",
      "PureSVDItemRecommender: Computing SVD decomposition... Done!\n",
      "EvaluatorHoldout: Processed 10456 (100.0%) in 12.87 sec. Users per second: 812\n"
     ]
    },
    {
     "name": "stderr",
     "output_type": "stream",
     "text": [
      "[I 2023-12-01 15:16:59,819] Trial 407 finished with value: 0.021986749462600635 and parameters: {'topK': 32, 'num_factors': 8}. Best is trial 293 with value: 0.0337220939446938.\n"
     ]
    },
    {
     "name": "stdout",
     "output_type": "stream",
     "text": [
      "PureSVDItemRecommender: URM Detected 627 ( 4.8%) users with no interactions.\n",
      "PureSVDItemRecommender: URM Detected 247 ( 1.1%) items with no interactions.\n",
      "PureSVDItemRecommender: Computing SVD decomposition...\n",
      "PureSVDItemRecommender: Computing SVD decomposition... Done!\n",
      "EvaluatorHoldout: Processed 10456 (100.0%) in 18.87 sec. Users per second: 554\n"
     ]
    },
    {
     "name": "stderr",
     "output_type": "stream",
     "text": [
      "[I 2023-12-01 15:18:09,508] Trial 408 finished with value: 0.03126609161899923 and parameters: {'topK': 583, 'num_factors': 86}. Best is trial 293 with value: 0.0337220939446938.\n"
     ]
    },
    {
     "name": "stdout",
     "output_type": "stream",
     "text": [
      "PureSVDItemRecommender: URM Detected 627 ( 4.8%) users with no interactions.\n",
      "PureSVDItemRecommender: URM Detected 247 ( 1.1%) items with no interactions.\n",
      "PureSVDItemRecommender: Computing SVD decomposition...\n",
      "PureSVDItemRecommender: Computing SVD decomposition... Done!\n",
      "EvaluatorHoldout: Processed 10456 (100.0%) in 13.06 sec. Users per second: 801\n"
     ]
    },
    {
     "name": "stderr",
     "output_type": "stream",
     "text": [
      "[I 2023-12-01 15:18:47,858] Trial 409 finished with value: 0.03353528315177162 and parameters: {'topK': 41, 'num_factors': 180}. Best is trial 293 with value: 0.0337220939446938.\n"
     ]
    },
    {
     "name": "stdout",
     "output_type": "stream",
     "text": [
      "PureSVDItemRecommender: URM Detected 627 ( 4.8%) users with no interactions.\n",
      "PureSVDItemRecommender: URM Detected 247 ( 1.1%) items with no interactions.\n",
      "PureSVDItemRecommender: Computing SVD decomposition...\n",
      "PureSVDItemRecommender: Computing SVD decomposition... Done!\n",
      "EvaluatorHoldout: Processed 10456 (100.0%) in 16.89 sec. Users per second: 619\n"
     ]
    },
    {
     "name": "stderr",
     "output_type": "stream",
     "text": [
      "[I 2023-12-01 15:19:37,338] Trial 410 finished with value: 0.027938105712828523 and parameters: {'topK': 232, 'num_factors': 21}. Best is trial 293 with value: 0.0337220939446938.\n"
     ]
    },
    {
     "name": "stdout",
     "output_type": "stream",
     "text": [
      "PureSVDItemRecommender: URM Detected 627 ( 4.8%) users with no interactions.\n",
      "PureSVDItemRecommender: URM Detected 247 ( 1.1%) items with no interactions.\n",
      "PureSVDItemRecommender: Computing SVD decomposition...\n",
      "PureSVDItemRecommender: Computing SVD decomposition... Done!\n",
      "EvaluatorHoldout: Processed 10456 (100.0%) in 20.61 sec. Users per second: 507\n"
     ]
    },
    {
     "name": "stderr",
     "output_type": "stream",
     "text": [
      "[I 2023-12-01 15:21:05,864] Trial 411 finished with value: 0.031717192073208146 and parameters: {'topK': 990, 'num_factors': 122}. Best is trial 293 with value: 0.0337220939446938.\n"
     ]
    },
    {
     "name": "stdout",
     "output_type": "stream",
     "text": [
      "PureSVDItemRecommender: URM Detected 627 ( 4.8%) users with no interactions.\n",
      "PureSVDItemRecommender: URM Detected 247 ( 1.1%) items with no interactions.\n",
      "PureSVDItemRecommender: Computing SVD decomposition...\n",
      "PureSVDItemRecommender: Computing SVD decomposition... Done!\n",
      "EvaluatorHoldout: Processed 10456 (100.0%) in 12.54 sec. Users per second: 834\n"
     ]
    },
    {
     "name": "stderr",
     "output_type": "stream",
     "text": [
      "[I 2023-12-01 15:21:49,444] Trial 412 finished with value: 0.03297304046586777 and parameters: {'topK': 40, 'num_factors': 279}. Best is trial 293 with value: 0.0337220939446938.\n"
     ]
    },
    {
     "name": "stdout",
     "output_type": "stream",
     "text": [
      "PureSVDItemRecommender: URM Detected 627 ( 4.8%) users with no interactions.\n",
      "PureSVDItemRecommender: URM Detected 247 ( 1.1%) items with no interactions.\n",
      "PureSVDItemRecommender: Computing SVD decomposition...\n",
      "PureSVDItemRecommender: Computing SVD decomposition... Done!\n",
      "EvaluatorHoldout: Processed 10456 (100.0%) in 12.71 sec. Users per second: 823\n"
     ]
    },
    {
     "name": "stderr",
     "output_type": "stream",
     "text": [
      "[I 2023-12-01 15:22:26,661] Trial 413 finished with value: 0.033392485213927715 and parameters: {'topK': 34, 'num_factors': 177}. Best is trial 293 with value: 0.0337220939446938.\n"
     ]
    },
    {
     "name": "stdout",
     "output_type": "stream",
     "text": [
      "PureSVDItemRecommender: URM Detected 627 ( 4.8%) users with no interactions.\n",
      "PureSVDItemRecommender: URM Detected 247 ( 1.1%) items with no interactions.\n",
      "PureSVDItemRecommender: Computing SVD decomposition...\n",
      "PureSVDItemRecommender: Computing SVD decomposition... Done!\n",
      "EvaluatorHoldout: Processed 10456 (100.0%) in 12.82 sec. Users per second: 816\n"
     ]
    },
    {
     "name": "stderr",
     "output_type": "stream",
     "text": [
      "[I 2023-12-01 15:23:06,501] Trial 414 finished with value: 0.0332584238107386 and parameters: {'topK': 41, 'num_factors': 212}. Best is trial 293 with value: 0.0337220939446938.\n"
     ]
    },
    {
     "name": "stdout",
     "output_type": "stream",
     "text": [
      "PureSVDItemRecommender: URM Detected 627 ( 4.8%) users with no interactions.\n",
      "PureSVDItemRecommender: URM Detected 247 ( 1.1%) items with no interactions.\n",
      "PureSVDItemRecommender: Computing SVD decomposition...\n",
      "PureSVDItemRecommender: Computing SVD decomposition... Done!\n",
      "EvaluatorHoldout: Processed 10456 (100.0%) in 12.48 sec. Users per second: 838\n"
     ]
    },
    {
     "name": "stderr",
     "output_type": "stream",
     "text": [
      "[I 2023-12-01 15:23:41,050] Trial 415 finished with value: 0.03340414784250894 and parameters: {'topK': 30, 'num_factors': 140}. Best is trial 293 with value: 0.0337220939446938.\n"
     ]
    },
    {
     "name": "stdout",
     "output_type": "stream",
     "text": [
      "PureSVDItemRecommender: URM Detected 627 ( 4.8%) users with no interactions.\n",
      "PureSVDItemRecommender: URM Detected 247 ( 1.1%) items with no interactions.\n",
      "PureSVDItemRecommender: Computing SVD decomposition...\n",
      "PureSVDItemRecommender: Computing SVD decomposition... Done!\n",
      "EvaluatorHoldout: Processed 10456 (100.0%) in 13.62 sec. Users per second: 768\n"
     ]
    },
    {
     "name": "stderr",
     "output_type": "stream",
     "text": [
      "[I 2023-12-01 15:24:14,461] Trial 416 finished with value: 0.031137142340996824 and parameters: {'topK': 43, 'num_factors': 58}. Best is trial 293 with value: 0.0337220939446938.\n"
     ]
    },
    {
     "name": "stdout",
     "output_type": "stream",
     "text": [
      "PureSVDItemRecommender: URM Detected 627 ( 4.8%) users with no interactions.\n",
      "PureSVDItemRecommender: URM Detected 247 ( 1.1%) items with no interactions.\n",
      "PureSVDItemRecommender: Computing SVD decomposition...\n",
      "PureSVDItemRecommender: Computing SVD decomposition... Done!\n",
      "EvaluatorHoldout: Processed 10456 (100.0%) in 13.28 sec. Users per second: 788\n"
     ]
    },
    {
     "name": "stderr",
     "output_type": "stream",
     "text": [
      "[I 2023-12-01 15:24:46,419] Trial 417 finished with value: 0.030273656198006135 and parameters: {'topK': 37, 'num_factors': 38}. Best is trial 293 with value: 0.0337220939446938.\n"
     ]
    },
    {
     "name": "stdout",
     "output_type": "stream",
     "text": [
      "PureSVDItemRecommender: URM Detected 627 ( 4.8%) users with no interactions.\n",
      "PureSVDItemRecommender: URM Detected 247 ( 1.1%) items with no interactions.\n",
      "PureSVDItemRecommender: Computing SVD decomposition...\n",
      "PureSVDItemRecommender: Computing SVD decomposition... Done!\n",
      "EvaluatorHoldout: Processed 10456 (100.0%) in 13.34 sec. Users per second: 784\n"
     ]
    },
    {
     "name": "stderr",
     "output_type": "stream",
     "text": [
      "[I 2023-12-01 15:25:24,652] Trial 418 finished with value: 0.03344147356723901 and parameters: {'topK': 47, 'num_factors': 170}. Best is trial 293 with value: 0.0337220939446938.\n"
     ]
    },
    {
     "name": "stdout",
     "output_type": "stream",
     "text": [
      "PureSVDItemRecommender: URM Detected 627 ( 4.8%) users with no interactions.\n",
      "PureSVDItemRecommender: URM Detected 247 ( 1.1%) items with no interactions.\n",
      "PureSVDItemRecommender: Computing SVD decomposition...\n",
      "PureSVDItemRecommender: Computing SVD decomposition... Done!\n",
      "EvaluatorHoldout: Processed 10456 (100.0%) in 12.63 sec. Users per second: 828\n"
     ]
    },
    {
     "name": "stderr",
     "output_type": "stream",
     "text": [
      "[I 2023-12-01 15:25:58,145] Trial 419 finished with value: 0.03310002762900648 and parameters: {'topK': 27, 'num_factors': 119}. Best is trial 293 with value: 0.0337220939446938.\n"
     ]
    },
    {
     "name": "stdout",
     "output_type": "stream",
     "text": [
      "PureSVDItemRecommender: URM Detected 627 ( 4.8%) users with no interactions.\n",
      "PureSVDItemRecommender: URM Detected 247 ( 1.1%) items with no interactions.\n",
      "PureSVDItemRecommender: Computing SVD decomposition...\n",
      "PureSVDItemRecommender: Computing SVD decomposition... Done!\n",
      "EvaluatorHoldout: Processed 10456 (100.0%) in 13.65 sec. Users per second: 766\n"
     ]
    },
    {
     "name": "stderr",
     "output_type": "stream",
     "text": [
      "[I 2023-12-01 15:26:37,822] Trial 420 finished with value: 0.03345715151018361 and parameters: {'topK': 54, 'num_factors': 186}. Best is trial 293 with value: 0.0337220939446938.\n"
     ]
    },
    {
     "name": "stdout",
     "output_type": "stream",
     "text": [
      "PureSVDItemRecommender: URM Detected 627 ( 4.8%) users with no interactions.\n",
      "PureSVDItemRecommender: URM Detected 247 ( 1.1%) items with no interactions.\n",
      "PureSVDItemRecommender: Computing SVD decomposition...\n",
      "PureSVDItemRecommender: Computing SVD decomposition... Done!\n",
      "EvaluatorHoldout: Processed 10456 (100.0%) in 12.79 sec. Users per second: 817\n"
     ]
    },
    {
     "name": "stderr",
     "output_type": "stream",
     "text": [
      "[I 2023-12-01 15:27:13,956] Trial 421 finished with value: 0.03319287323447647 and parameters: {'topK': 33, 'num_factors': 156}. Best is trial 293 with value: 0.0337220939446938.\n"
     ]
    },
    {
     "name": "stdout",
     "output_type": "stream",
     "text": [
      "PureSVDItemRecommender: URM Detected 627 ( 4.8%) users with no interactions.\n",
      "PureSVDItemRecommender: URM Detected 247 ( 1.1%) items with no interactions.\n",
      "PureSVDItemRecommender: Computing SVD decomposition...\n",
      "PureSVDItemRecommender: Computing SVD decomposition... Done!\n",
      "EvaluatorHoldout: Processed 10456 (100.0%) in 11.13 sec. Users per second: 939\n"
     ]
    },
    {
     "name": "stderr",
     "output_type": "stream",
     "text": [
      "[I 2023-12-01 15:27:56,133] Trial 422 finished with value: 0.03261785972358874 and parameters: {'topK': 22, 'num_factors': 320}. Best is trial 293 with value: 0.0337220939446938.\n"
     ]
    },
    {
     "name": "stdout",
     "output_type": "stream",
     "text": [
      "PureSVDItemRecommender: URM Detected 627 ( 4.8%) users with no interactions.\n",
      "PureSVDItemRecommender: URM Detected 247 ( 1.1%) items with no interactions.\n",
      "PureSVDItemRecommender: Computing SVD decomposition...\n",
      "PureSVDItemRecommender: Computing SVD decomposition... Done!\n",
      "EvaluatorHoldout: Processed 10456 (100.0%) in 10.35 sec. Users per second: 1010\n"
     ]
    },
    {
     "name": "stderr",
     "output_type": "stream",
     "text": [
      "[I 2023-12-01 15:28:42,204] Trial 423 finished with value: 0.032444605360634676 and parameters: {'topK': 14, 'num_factors': 365}. Best is trial 293 with value: 0.0337220939446938.\n"
     ]
    },
    {
     "name": "stdout",
     "output_type": "stream",
     "text": [
      "PureSVDItemRecommender: URM Detected 627 ( 4.8%) users with no interactions.\n",
      "PureSVDItemRecommender: URM Detected 247 ( 1.1%) items with no interactions.\n",
      "PureSVDItemRecommender: Computing SVD decomposition...\n",
      "PureSVDItemRecommender: Computing SVD decomposition... Done!\n",
      "EvaluatorHoldout: Processed 10456 (100.0%) in 13.83 sec. Users per second: 756\n"
     ]
    },
    {
     "name": "stderr",
     "output_type": "stream",
     "text": [
      "[I 2023-12-01 15:29:13,571] Trial 424 finished with value: 0.024151296134368117 and parameters: {'topK': 42, 'num_factors': 14}. Best is trial 293 with value: 0.0337220939446938.\n"
     ]
    },
    {
     "name": "stdout",
     "output_type": "stream",
     "text": [
      "PureSVDItemRecommender: URM Detected 627 ( 4.8%) users with no interactions.\n",
      "PureSVDItemRecommender: URM Detected 247 ( 1.1%) items with no interactions.\n",
      "PureSVDItemRecommender: Computing SVD decomposition...\n",
      "PureSVDItemRecommender: Computing SVD decomposition... Done!\n",
      "EvaluatorHoldout: Processed 10456 (100.0%) in 13.78 sec. Users per second: 759\n"
     ]
    },
    {
     "name": "stderr",
     "output_type": "stream",
     "text": [
      "[I 2023-12-01 15:29:50,031] Trial 425 finished with value: 0.032952519856450826 and parameters: {'topK': 47, 'num_factors': 103}. Best is trial 293 with value: 0.0337220939446938.\n"
     ]
    },
    {
     "name": "stdout",
     "output_type": "stream",
     "text": [
      "PureSVDItemRecommender: URM Detected 627 ( 4.8%) users with no interactions.\n",
      "PureSVDItemRecommender: URM Detected 247 ( 1.1%) items with no interactions.\n",
      "PureSVDItemRecommender: Computing SVD decomposition...\n",
      "PureSVDItemRecommender: Computing SVD decomposition... Done!\n",
      "EvaluatorHoldout: Processed 10456 (100.0%) in 13.03 sec. Users per second: 802\n"
     ]
    },
    {
     "name": "stderr",
     "output_type": "stream",
     "text": [
      "[I 2023-12-01 15:30:26,693] Trial 426 finished with value: 0.03361369563765351 and parameters: {'topK': 38, 'num_factors': 145}. Best is trial 293 with value: 0.0337220939446938.\n"
     ]
    },
    {
     "name": "stdout",
     "output_type": "stream",
     "text": [
      "PureSVDItemRecommender: URM Detected 627 ( 4.8%) users with no interactions.\n",
      "PureSVDItemRecommender: URM Detected 247 ( 1.1%) items with no interactions.\n",
      "PureSVDItemRecommender: Computing SVD decomposition...\n",
      "PureSVDItemRecommender: Computing SVD decomposition... Done!\n",
      "EvaluatorHoldout: Processed 10456 (100.0%) in 13.56 sec. Users per second: 771\n"
     ]
    },
    {
     "name": "stderr",
     "output_type": "stream",
     "text": [
      "[I 2023-12-01 15:31:08,988] Trial 427 finished with value: 0.03305044722556227 and parameters: {'topK': 60, 'num_factors': 222}. Best is trial 293 with value: 0.0337220939446938.\n"
     ]
    },
    {
     "name": "stdout",
     "output_type": "stream",
     "text": [
      "PureSVDItemRecommender: URM Detected 627 ( 4.8%) users with no interactions.\n",
      "PureSVDItemRecommender: URM Detected 247 ( 1.1%) items with no interactions.\n",
      "PureSVDItemRecommender: Computing SVD decomposition...\n",
      "PureSVDItemRecommender: Computing SVD decomposition... Done!\n",
      "EvaluatorHoldout: Processed 10456 (100.0%) in 12.40 sec. Users per second: 843\n"
     ]
    },
    {
     "name": "stderr",
     "output_type": "stream",
     "text": [
      "[I 2023-12-01 15:31:46,434] Trial 428 finished with value: 0.03317708523093026 and parameters: {'topK': 30, 'num_factors': 193}. Best is trial 293 with value: 0.0337220939446938.\n"
     ]
    },
    {
     "name": "stdout",
     "output_type": "stream",
     "text": [
      "PureSVDItemRecommender: URM Detected 627 ( 4.8%) users with no interactions.\n",
      "PureSVDItemRecommender: URM Detected 247 ( 1.1%) items with no interactions.\n",
      "PureSVDItemRecommender: Computing SVD decomposition...\n",
      "PureSVDItemRecommender: Computing SVD decomposition... Done!\n",
      "EvaluatorHoldout: Processed 10456 (100.0%) in 11.38 sec. Users per second: 919\n"
     ]
    },
    {
     "name": "stderr",
     "output_type": "stream",
     "text": [
      "[I 2023-12-01 15:32:56,130] Trial 429 finished with value: 0.032421621670856694 and parameters: {'topK': 51, 'num_factors': 758}. Best is trial 293 with value: 0.0337220939446938.\n"
     ]
    },
    {
     "name": "stdout",
     "output_type": "stream",
     "text": [
      "PureSVDItemRecommender: URM Detected 627 ( 4.8%) users with no interactions.\n",
      "PureSVDItemRecommender: URM Detected 247 ( 1.1%) items with no interactions.\n",
      "PureSVDItemRecommender: Computing SVD decomposition...\n",
      "PureSVDItemRecommender: Computing SVD decomposition... Done!\n",
      "EvaluatorHoldout: Processed 10456 (100.0%) in 11.46 sec. Users per second: 913\n"
     ]
    },
    {
     "name": "stderr",
     "output_type": "stream",
     "text": [
      "[I 2023-12-01 15:33:28,848] Trial 430 finished with value: 0.033288667705031846 and parameters: {'topK': 18, 'num_factors': 149}. Best is trial 293 with value: 0.0337220939446938.\n"
     ]
    },
    {
     "name": "stdout",
     "output_type": "stream",
     "text": [
      "PureSVDItemRecommender: URM Detected 627 ( 4.8%) users with no interactions.\n",
      "PureSVDItemRecommender: URM Detected 247 ( 1.1%) items with no interactions.\n",
      "PureSVDItemRecommender: Computing SVD decomposition...\n",
      "PureSVDItemRecommender: Computing SVD decomposition... Done!\n",
      "EvaluatorHoldout: Processed 10456 (100.0%) in 12.63 sec. Users per second: 828\n"
     ]
    },
    {
     "name": "stderr",
     "output_type": "stream",
     "text": [
      "[I 2023-12-01 15:34:11,351] Trial 431 finished with value: 0.03317067135448956 and parameters: {'topK': 40, 'num_factors': 259}. Best is trial 293 with value: 0.0337220939446938.\n"
     ]
    },
    {
     "name": "stdout",
     "output_type": "stream",
     "text": [
      "PureSVDItemRecommender: URM Detected 627 ( 4.8%) users with no interactions.\n",
      "PureSVDItemRecommender: URM Detected 247 ( 1.1%) items with no interactions.\n",
      "PureSVDItemRecommender: Computing SVD decomposition...\n",
      "PureSVDItemRecommender: Computing SVD decomposition... Done!\n",
      "EvaluatorHoldout: Processed 10456 (100.0%) in 13.15 sec. Users per second: 795\n"
     ]
    },
    {
     "name": "stderr",
     "output_type": "stream",
     "text": [
      "[I 2023-12-01 15:34:41,630] Trial 432 finished with value: 0.018221500376483124 and parameters: {'topK': 34, 'num_factors': 4}. Best is trial 293 with value: 0.0337220939446938.\n"
     ]
    },
    {
     "name": "stdout",
     "output_type": "stream",
     "text": [
      "PureSVDItemRecommender: URM Detected 627 ( 4.8%) users with no interactions.\n",
      "PureSVDItemRecommender: URM Detected 247 ( 1.1%) items with no interactions.\n",
      "PureSVDItemRecommender: Computing SVD decomposition...\n",
      "PureSVDItemRecommender: Computing SVD decomposition... Done!\n",
      "EvaluatorHoldout: Processed 10456 (100.0%) in 11.65 sec. Users per second: 898\n"
     ]
    },
    {
     "name": "stderr",
     "output_type": "stream",
     "text": [
      "[I 2023-12-01 15:35:36,758] Trial 433 finished with value: 0.03263405001760989 and parameters: {'topK': 44, 'num_factors': 465}. Best is trial 293 with value: 0.0337220939446938.\n"
     ]
    },
    {
     "name": "stdout",
     "output_type": "stream",
     "text": [
      "PureSVDItemRecommender: URM Detected 627 ( 4.8%) users with no interactions.\n",
      "PureSVDItemRecommender: URM Detected 247 ( 1.1%) items with no interactions.\n",
      "PureSVDItemRecommender: Computing SVD decomposition...\n",
      "PureSVDItemRecommender: Computing SVD decomposition... Done!\n",
      "EvaluatorHoldout: Processed 10456 (100.0%) in 13.83 sec. Users per second: 756\n"
     ]
    },
    {
     "name": "stderr",
     "output_type": "stream",
     "text": [
      "[I 2023-12-01 15:36:17,204] Trial 434 finished with value: 0.03335187664711412 and parameters: {'topK': 63, 'num_factors': 167}. Best is trial 293 with value: 0.0337220939446938.\n"
     ]
    },
    {
     "name": "stdout",
     "output_type": "stream",
     "text": [
      "PureSVDItemRecommender: URM Detected 627 ( 4.8%) users with no interactions.\n",
      "PureSVDItemRecommender: URM Detected 247 ( 1.1%) items with no interactions.\n",
      "PureSVDItemRecommender: Computing SVD decomposition...\n",
      "PureSVDItemRecommender: Computing SVD decomposition... Done!\n",
      "EvaluatorHoldout: Processed 10456 (100.0%) in 12.29 sec. Users per second: 851\n"
     ]
    },
    {
     "name": "stderr",
     "output_type": "stream",
     "text": [
      "[I 2023-12-01 15:36:50,774] Trial 435 finished with value: 0.0332915103047088 and parameters: {'topK': 26, 'num_factors': 133}. Best is trial 293 with value: 0.0337220939446938.\n"
     ]
    },
    {
     "name": "stdout",
     "output_type": "stream",
     "text": [
      "PureSVDItemRecommender: URM Detected 627 ( 4.8%) users with no interactions.\n",
      "PureSVDItemRecommender: URM Detected 247 ( 1.1%) items with no interactions.\n",
      "PureSVDItemRecommender: Computing SVD decomposition...\n",
      "PureSVDItemRecommender: Computing SVD decomposition... Done!\n",
      "EvaluatorHoldout: Processed 10456 (100.0%) in 13.67 sec. Users per second: 765\n"
     ]
    },
    {
     "name": "stderr",
     "output_type": "stream",
     "text": [
      "[I 2023-12-01 15:37:22,916] Trial 436 finished with value: 0.023528129212664457 and parameters: {'topK': 52, 'num_factors': 11}. Best is trial 293 with value: 0.0337220939446938.\n"
     ]
    },
    {
     "name": "stdout",
     "output_type": "stream",
     "text": [
      "PureSVDItemRecommender: URM Detected 627 ( 4.8%) users with no interactions.\n",
      "PureSVDItemRecommender: URM Detected 247 ( 1.1%) items with no interactions.\n",
      "PureSVDItemRecommender: Computing SVD decomposition...\n",
      "PureSVDItemRecommender: Computing SVD decomposition... Done!\n",
      "EvaluatorHoldout: Processed 10456 (100.0%) in 10.91 sec. Users per second: 959\n"
     ]
    },
    {
     "name": "stderr",
     "output_type": "stream",
     "text": [
      "[I 2023-12-01 15:38:28,607] Trial 437 finished with value: 0.03282567691065233 and parameters: {'topK': 36, 'num_factors': 608}. Best is trial 293 with value: 0.0337220939446938.\n"
     ]
    },
    {
     "name": "stdout",
     "output_type": "stream",
     "text": [
      "PureSVDItemRecommender: URM Detected 627 ( 4.8%) users with no interactions.\n",
      "PureSVDItemRecommender: URM Detected 247 ( 1.1%) items with no interactions.\n",
      "PureSVDItemRecommender: Computing SVD decomposition...\n",
      "PureSVDItemRecommender: Computing SVD decomposition... Done!\n",
      "EvaluatorHoldout: Processed 10456 (100.0%) in 14.97 sec. Users per second: 698\n"
     ]
    },
    {
     "name": "stderr",
     "output_type": "stream",
     "text": [
      "[I 2023-12-01 15:39:17,565] Trial 438 finished with value: 0.03284134346801751 and parameters: {'topK': 136, 'num_factors': 202}. Best is trial 293 with value: 0.0337220939446938.\n"
     ]
    },
    {
     "name": "stdout",
     "output_type": "stream",
     "text": [
      "PureSVDItemRecommender: URM Detected 627 ( 4.8%) users with no interactions.\n",
      "PureSVDItemRecommender: URM Detected 247 ( 1.1%) items with no interactions.\n",
      "PureSVDItemRecommender: Computing SVD decomposition...\n",
      "PureSVDItemRecommender: Computing SVD decomposition... Done!\n",
      "EvaluatorHoldout: Processed 10456 (100.0%) in 13.46 sec. Users per second: 777\n"
     ]
    },
    {
     "name": "stderr",
     "output_type": "stream",
     "text": [
      "[I 2023-12-01 15:39:53,260] Trial 439 finished with value: 0.03317609089032225 and parameters: {'topK': 45, 'num_factors': 117}. Best is trial 293 with value: 0.0337220939446938.\n"
     ]
    },
    {
     "name": "stdout",
     "output_type": "stream",
     "text": [
      "PureSVDItemRecommender: URM Detected 627 ( 4.8%) users with no interactions.\n",
      "PureSVDItemRecommender: URM Detected 247 ( 1.1%) items with no interactions.\n",
      "PureSVDItemRecommender: Computing SVD decomposition...\n",
      "PureSVDItemRecommender: Computing SVD decomposition... Done!\n",
      "EvaluatorHoldout: Processed 10456 (100.0%) in 14.45 sec. Users per second: 724\n"
     ]
    },
    {
     "name": "stderr",
     "output_type": "stream",
     "text": [
      "[I 2023-12-01 15:40:32,018] Trial 440 finished with value: 0.032370963432555036 and parameters: {'topK': 79, 'num_factors': 93}. Best is trial 293 with value: 0.0337220939446938.\n"
     ]
    },
    {
     "name": "stdout",
     "output_type": "stream",
     "text": [
      "PureSVDItemRecommender: URM Detected 627 ( 4.8%) users with no interactions.\n",
      "PureSVDItemRecommender: URM Detected 247 ( 1.1%) items with no interactions.\n",
      "PureSVDItemRecommender: Computing SVD decomposition...\n",
      "PureSVDItemRecommender: Computing SVD decomposition... Done!\n",
      "EvaluatorHoldout: Processed 10456 (100.0%) in 12.80 sec. Users per second: 817\n"
     ]
    },
    {
     "name": "stderr",
     "output_type": "stream",
     "text": [
      "[I 2023-12-01 15:41:03,091] Trial 441 finished with value: 0.031304582468029536 and parameters: {'topK': 30, 'num_factors': 67}. Best is trial 293 with value: 0.0337220939446938.\n"
     ]
    },
    {
     "name": "stdout",
     "output_type": "stream",
     "text": [
      "PureSVDItemRecommender: URM Detected 627 ( 4.8%) users with no interactions.\n",
      "PureSVDItemRecommender: URM Detected 247 ( 1.1%) items with no interactions.\n",
      "PureSVDItemRecommender: Computing SVD decomposition...\n",
      "PureSVDItemRecommender: Computing SVD decomposition... Done!\n",
      "EvaluatorHoldout: Processed 10456 (100.0%) in 12.72 sec. Users per second: 822\n"
     ]
    },
    {
     "name": "stderr",
     "output_type": "stream",
     "text": [
      "[I 2023-12-01 15:41:38,505] Trial 442 finished with value: 0.03306478926051443 and parameters: {'topK': 38, 'num_factors': 166}. Best is trial 293 with value: 0.0337220939446938.\n"
     ]
    },
    {
     "name": "stdout",
     "output_type": "stream",
     "text": [
      "PureSVDItemRecommender: URM Detected 627 ( 4.8%) users with no interactions.\n",
      "PureSVDItemRecommender: URM Detected 247 ( 1.1%) items with no interactions.\n",
      "PureSVDItemRecommender: Computing SVD decomposition...\n",
      "PureSVDItemRecommender: Computing SVD decomposition... Done!\n",
      "EvaluatorHoldout: Processed 10456 (100.0%) in 13.85 sec. Users per second: 755\n"
     ]
    },
    {
     "name": "stderr",
     "output_type": "stream",
     "text": [
      "[I 2023-12-01 15:42:12,038] Trial 443 finished with value: 0.027383571064233034 and parameters: {'topK': 58, 'num_factors': 19}. Best is trial 293 with value: 0.0337220939446938.\n"
     ]
    },
    {
     "name": "stdout",
     "output_type": "stream",
     "text": [
      "PureSVDItemRecommender: URM Detected 627 ( 4.8%) users with no interactions.\n",
      "PureSVDItemRecommender: URM Detected 247 ( 1.1%) items with no interactions.\n",
      "PureSVDItemRecommender: Computing SVD decomposition...\n",
      "PureSVDItemRecommender: Computing SVD decomposition... Done!\n",
      "EvaluatorHoldout: Processed 10456 (100.0%) in 14.92 sec. Users per second: 701\n"
     ]
    },
    {
     "name": "stderr",
     "output_type": "stream",
     "text": [
      "[I 2023-12-01 15:42:56,403] Trial 444 finished with value: 0.033319222805164146 and parameters: {'topK': 113, 'num_factors': 142}. Best is trial 293 with value: 0.0337220939446938.\n"
     ]
    },
    {
     "name": "stdout",
     "output_type": "stream",
     "text": [
      "PureSVDItemRecommender: URM Detected 627 ( 4.8%) users with no interactions.\n",
      "PureSVDItemRecommender: URM Detected 247 ( 1.1%) items with no interactions.\n",
      "PureSVDItemRecommender: Computing SVD decomposition...\n",
      "PureSVDItemRecommender: Computing SVD decomposition... Done!\n",
      "EvaluatorHoldout: Processed 10456 (100.0%) in 13.61 sec. Users per second: 768\n"
     ]
    },
    {
     "name": "stderr",
     "output_type": "stream",
     "text": [
      "[I 2023-12-01 15:43:25,856] Trial 445 finished with value: 0.010919924460475317 and parameters: {'topK': 49, 'num_factors': 1}. Best is trial 293 with value: 0.0337220939446938.\n"
     ]
    },
    {
     "name": "stdout",
     "output_type": "stream",
     "text": [
      "PureSVDItemRecommender: URM Detected 627 ( 4.8%) users with no interactions.\n",
      "PureSVDItemRecommender: URM Detected 247 ( 1.1%) items with no interactions.\n",
      "PureSVDItemRecommender: Computing SVD decomposition...\n",
      "PureSVDItemRecommender: Computing SVD decomposition... Done!\n",
      "EvaluatorHoldout: Processed 10456 (100.0%) in 13.27 sec. Users per second: 788\n"
     ]
    },
    {
     "name": "stderr",
     "output_type": "stream",
     "text": [
      "[I 2023-12-01 15:43:57,011] Trial 446 finished with value: 0.02981740187148581 and parameters: {'topK': 42, 'num_factors': 33}. Best is trial 293 with value: 0.0337220939446938.\n"
     ]
    },
    {
     "name": "stdout",
     "output_type": "stream",
     "text": [
      "PureSVDItemRecommender: URM Detected 627 ( 4.8%) users with no interactions.\n",
      "PureSVDItemRecommender: URM Detected 247 ( 1.1%) items with no interactions.\n",
      "PureSVDItemRecommender: Computing SVD decomposition...\n",
      "PureSVDItemRecommender: Computing SVD decomposition... Done!\n",
      "EvaluatorHoldout: Processed 10456 (100.0%) in 9.91 sec. Users per second: 1056\n"
     ]
    },
    {
     "name": "stderr",
     "output_type": "stream",
     "text": [
      "[I 2023-12-01 15:44:54,870] Trial 447 finished with value: 0.032868274158681786 and parameters: {'topK': 19, 'num_factors': 530}. Best is trial 293 with value: 0.0337220939446938.\n"
     ]
    },
    {
     "name": "stdout",
     "output_type": "stream",
     "text": [
      "PureSVDItemRecommender: URM Detected 627 ( 4.8%) users with no interactions.\n",
      "PureSVDItemRecommender: URM Detected 247 ( 1.1%) items with no interactions.\n",
      "PureSVDItemRecommender: Computing SVD decomposition...\n",
      "PureSVDItemRecommender: Computing SVD decomposition... Done!\n",
      "EvaluatorHoldout: Processed 10456 (100.0%) in 12.15 sec. Users per second: 861\n"
     ]
    },
    {
     "name": "stderr",
     "output_type": "stream",
     "text": [
      "[I 2023-12-01 15:45:34,791] Trial 448 finished with value: 0.033351903213466316 and parameters: {'topK': 33, 'num_factors': 241}. Best is trial 293 with value: 0.0337220939446938.\n"
     ]
    },
    {
     "name": "stdout",
     "output_type": "stream",
     "text": [
      "PureSVDItemRecommender: URM Detected 627 ( 4.8%) users with no interactions.\n",
      "PureSVDItemRecommender: URM Detected 247 ( 1.1%) items with no interactions.\n",
      "PureSVDItemRecommender: Computing SVD decomposition...\n",
      "PureSVDItemRecommender: Computing SVD decomposition... Done!\n",
      "EvaluatorHoldout: Processed 10456 (100.0%) in 11.74 sec. Users per second: 891\n"
     ]
    },
    {
     "name": "stderr",
     "output_type": "stream",
     "text": [
      "[I 2023-12-01 15:46:09,274] Trial 449 finished with value: 0.0331026539026733 and parameters: {'topK': 25, 'num_factors': 186}. Best is trial 293 with value: 0.0337220939446938.\n"
     ]
    },
    {
     "name": "stdout",
     "output_type": "stream",
     "text": [
      "PureSVDItemRecommender: URM Detected 627 ( 4.8%) users with no interactions.\n",
      "PureSVDItemRecommender: URM Detected 247 ( 1.1%) items with no interactions.\n",
      "PureSVDItemRecommender: Computing SVD decomposition...\n",
      "PureSVDItemRecommender: Computing SVD decomposition... Done!\n",
      "EvaluatorHoldout: Processed 10456 (100.0%) in 16.53 sec. Users per second: 633\n"
     ]
    },
    {
     "name": "stderr",
     "output_type": "stream",
     "text": [
      "[I 2023-12-01 15:47:05,752] Trial 450 finished with value: 0.03253437685964496 and parameters: {'topK': 322, 'num_factors': 127}. Best is trial 293 with value: 0.0337220939446938.\n"
     ]
    },
    {
     "name": "stdout",
     "output_type": "stream",
     "text": [
      "PureSVDItemRecommender: URM Detected 627 ( 4.8%) users with no interactions.\n",
      "PureSVDItemRecommender: URM Detected 247 ( 1.1%) items with no interactions.\n",
      "PureSVDItemRecommender: Computing SVD decomposition...\n",
      "PureSVDItemRecommender: Computing SVD decomposition... Done!\n",
      "EvaluatorHoldout: Processed 10456 (100.0%) in 13.92 sec. Users per second: 751\n"
     ]
    },
    {
     "name": "stderr",
     "output_type": "stream",
     "text": [
      "[I 2023-12-01 15:47:45,756] Trial 451 finished with value: 0.03320389447541359 and parameters: {'topK': 67, 'num_factors': 155}. Best is trial 293 with value: 0.0337220939446938.\n"
     ]
    },
    {
     "name": "stdout",
     "output_type": "stream",
     "text": [
      "PureSVDItemRecommender: URM Detected 627 ( 4.8%) users with no interactions.\n",
      "PureSVDItemRecommender: URM Detected 247 ( 1.1%) items with no interactions.\n",
      "PureSVDItemRecommender: Computing SVD decomposition...\n",
      "PureSVDItemRecommender: Computing SVD decomposition... Done!\n",
      "EvaluatorHoldout: Processed 10456 (100.0%) in 13.08 sec. Users per second: 799\n"
     ]
    },
    {
     "name": "stderr",
     "output_type": "stream",
     "text": [
      "[I 2023-12-01 15:48:19,656] Trial 452 finished with value: 0.033181950668561555 and parameters: {'topK': 38, 'num_factors': 105}. Best is trial 293 with value: 0.0337220939446938.\n"
     ]
    },
    {
     "name": "stdout",
     "output_type": "stream",
     "text": [
      "PureSVDItemRecommender: URM Detected 627 ( 4.8%) users with no interactions.\n",
      "PureSVDItemRecommender: URM Detected 247 ( 1.1%) items with no interactions.\n",
      "PureSVDItemRecommender: Computing SVD decomposition...\n",
      "PureSVDItemRecommender: Computing SVD decomposition... Done!\n",
      "EvaluatorHoldout: Processed 10456 (100.0%) in 17.57 sec. Users per second: 595\n"
     ]
    },
    {
     "name": "stderr",
     "output_type": "stream",
     "text": [
      "[I 2023-12-01 15:49:25,869] Trial 453 finished with value: 0.03224178264776999 and parameters: {'topK': 443, 'num_factors': 212}. Best is trial 293 with value: 0.0337220939446938.\n"
     ]
    },
    {
     "name": "stdout",
     "output_type": "stream",
     "text": [
      "PureSVDItemRecommender: URM Detected 627 ( 4.8%) users with no interactions.\n",
      "PureSVDItemRecommender: URM Detected 247 ( 1.1%) items with no interactions.\n",
      "PureSVDItemRecommender: Computing SVD decomposition...\n",
      "PureSVDItemRecommender: Computing SVD decomposition... Done!\n",
      "EvaluatorHoldout: Processed 10456 (100.0%) in 12.36 sec. Users per second: 846\n"
     ]
    },
    {
     "name": "stderr",
     "output_type": "stream",
     "text": [
      "[I 2023-12-01 15:50:19,610] Trial 454 finished with value: 0.03262226594284773 and parameters: {'topK': 54, 'num_factors': 402}. Best is trial 293 with value: 0.0337220939446938.\n"
     ]
    },
    {
     "name": "stdout",
     "output_type": "stream",
     "text": [
      "PureSVDItemRecommender: URM Detected 627 ( 4.8%) users with no interactions.\n",
      "PureSVDItemRecommender: URM Detected 247 ( 1.1%) items with no interactions.\n",
      "PureSVDItemRecommender: Computing SVD decomposition...\n",
      "PureSVDItemRecommender: Computing SVD decomposition... Done!\n",
      "EvaluatorHoldout: Processed 10456 (100.0%) in 14.41 sec. Users per second: 725\n"
     ]
    },
    {
     "name": "stderr",
     "output_type": "stream",
     "text": [
      "[I 2023-12-01 15:50:51,404] Trial 455 finished with value: 0.012600762378401936 and parameters: {'topK': 49, 'num_factors': 2}. Best is trial 293 with value: 0.0337220939446938.\n"
     ]
    },
    {
     "name": "stdout",
     "output_type": "stream",
     "text": [
      "PureSVDItemRecommender: URM Detected 627 ( 4.8%) users with no interactions.\n",
      "PureSVDItemRecommender: URM Detected 247 ( 1.1%) items with no interactions.\n",
      "PureSVDItemRecommender: Computing SVD decomposition...\n",
      "PureSVDItemRecommender: Computing SVD decomposition... Done!\n",
      "EvaluatorHoldout: Processed 10456 (100.0%) in 12.58 sec. Users per second: 831\n"
     ]
    },
    {
     "name": "stderr",
     "output_type": "stream",
     "text": [
      "[I 2023-12-01 15:51:28,665] Trial 456 finished with value: 0.03317921053909992 and parameters: {'topK': 31, 'num_factors': 173}. Best is trial 293 with value: 0.0337220939446938.\n"
     ]
    },
    {
     "name": "stdout",
     "output_type": "stream",
     "text": [
      "PureSVDItemRecommender: URM Detected 627 ( 4.8%) users with no interactions.\n",
      "PureSVDItemRecommender: URM Detected 247 ( 1.1%) items with no interactions.\n",
      "PureSVDItemRecommender: Computing SVD decomposition...\n",
      "PureSVDItemRecommender: Computing SVD decomposition... Done!\n",
      "EvaluatorHoldout: Processed 10456 (100.0%) in 10.51 sec. Users per second: 995\n"
     ]
    },
    {
     "name": "stderr",
     "output_type": "stream",
     "text": [
      "[I 2023-12-01 15:51:59,819] Trial 457 finished with value: 0.03268812772494901 and parameters: {'topK': 10, 'num_factors': 141}. Best is trial 293 with value: 0.0337220939446938.\n"
     ]
    },
    {
     "name": "stdout",
     "output_type": "stream",
     "text": [
      "PureSVDItemRecommender: URM Detected 627 ( 4.8%) users with no interactions.\n",
      "PureSVDItemRecommender: URM Detected 247 ( 1.1%) items with no interactions.\n",
      "PureSVDItemRecommender: Computing SVD decomposition...\n",
      "PureSVDItemRecommender: Computing SVD decomposition... Done!\n",
      "EvaluatorHoldout: Processed 10456 (100.0%) in 15.82 sec. Users per second: 661\n"
     ]
    },
    {
     "name": "stderr",
     "output_type": "stream",
     "text": [
      "[I 2023-12-01 15:52:46,527] Trial 458 finished with value: 0.03181327118325034 and parameters: {'topK': 150, 'num_factors': 82}. Best is trial 293 with value: 0.0337220939446938.\n"
     ]
    },
    {
     "name": "stdout",
     "output_type": "stream",
     "text": [
      "PureSVDItemRecommender: URM Detected 627 ( 4.8%) users with no interactions.\n",
      "PureSVDItemRecommender: URM Detected 247 ( 1.1%) items with no interactions.\n",
      "PureSVDItemRecommender: Computing SVD decomposition...\n",
      "PureSVDItemRecommender: Computing SVD decomposition... Done!\n",
      "EvaluatorHoldout: Processed 10456 (100.0%) in 8.46 sec. Users per second: 1235\n"
     ]
    },
    {
     "name": "stderr",
     "output_type": "stream",
     "text": [
      "[I 2023-12-01 15:53:18,135] Trial 459 finished with value: 0.022067256895106975 and parameters: {'topK': 2, 'num_factors': 287}. Best is trial 293 with value: 0.0337220939446938.\n"
     ]
    },
    {
     "name": "stdout",
     "output_type": "stream",
     "text": [
      "PureSVDItemRecommender: URM Detected 627 ( 4.8%) users with no interactions.\n",
      "PureSVDItemRecommender: URM Detected 247 ( 1.1%) items with no interactions.\n",
      "PureSVDItemRecommender: Computing SVD decomposition...\n",
      "PureSVDItemRecommender: Computing SVD decomposition... Done!\n",
      "EvaluatorHoldout: Processed 10456 (100.0%) in 12.29 sec. Users per second: 851\n"
     ]
    },
    {
     "name": "stderr",
     "output_type": "stream",
     "text": [
      "[I 2023-12-01 15:53:50,693] Trial 460 finished with value: 0.03313873100885376 and parameters: {'topK': 21, 'num_factors': 116}. Best is trial 293 with value: 0.0337220939446938.\n"
     ]
    },
    {
     "name": "stdout",
     "output_type": "stream",
     "text": [
      "PureSVDItemRecommender: URM Detected 627 ( 4.8%) users with no interactions.\n",
      "PureSVDItemRecommender: URM Detected 247 ( 1.1%) items with no interactions.\n",
      "PureSVDItemRecommender: Computing SVD decomposition...\n",
      "PureSVDItemRecommender: Computing SVD decomposition... Done!\n",
      "EvaluatorHoldout: Processed 10456 (100.0%) in 15.30 sec. Users per second: 684\n"
     ]
    },
    {
     "name": "stderr",
     "output_type": "stream",
     "text": [
      "[I 2023-12-01 15:54:38,129] Trial 461 finished with value: 0.03312713669374955 and parameters: {'topK': 101, 'num_factors': 187}. Best is trial 293 with value: 0.0337220939446938.\n"
     ]
    },
    {
     "name": "stdout",
     "output_type": "stream",
     "text": [
      "PureSVDItemRecommender: URM Detected 627 ( 4.8%) users with no interactions.\n",
      "PureSVDItemRecommender: URM Detected 247 ( 1.1%) items with no interactions.\n",
      "PureSVDItemRecommender: Computing SVD decomposition...\n",
      "PureSVDItemRecommender: Computing SVD decomposition... Done!\n",
      "EvaluatorHoldout: Processed 10456 (100.0%) in 14.29 sec. Users per second: 732\n"
     ]
    },
    {
     "name": "stderr",
     "output_type": "stream",
     "text": [
      "[I 2023-12-01 15:55:10,926] Trial 462 finished with value: 0.02510052707642612 and parameters: {'topK': 42, 'num_factors': 16}. Best is trial 293 with value: 0.0337220939446938.\n"
     ]
    },
    {
     "name": "stdout",
     "output_type": "stream",
     "text": [
      "PureSVDItemRecommender: URM Detected 627 ( 4.8%) users with no interactions.\n",
      "PureSVDItemRecommender: URM Detected 247 ( 1.1%) items with no interactions.\n",
      "PureSVDItemRecommender: Computing SVD decomposition...\n",
      "PureSVDItemRecommender: Computing SVD decomposition... Done!\n",
      "EvaluatorHoldout: Processed 10456 (100.0%) in 15.33 sec. Users per second: 682\n"
     ]
    },
    {
     "name": "stderr",
     "output_type": "stream",
     "text": [
      "[I 2023-12-01 15:55:50,416] Trial 463 finished with value: 0.031154099264036304 and parameters: {'topK': 76, 'num_factors': 50}. Best is trial 293 with value: 0.0337220939446938.\n"
     ]
    },
    {
     "name": "stdout",
     "output_type": "stream",
     "text": [
      "PureSVDItemRecommender: URM Detected 627 ( 4.8%) users with no interactions.\n",
      "PureSVDItemRecommender: URM Detected 247 ( 1.1%) items with no interactions.\n",
      "PureSVDItemRecommender: Computing SVD decomposition...\n",
      "PureSVDItemRecommender: Computing SVD decomposition... Done!\n",
      "EvaluatorHoldout: Processed 10456 (100.0%) in 13.30 sec. Users per second: 786\n"
     ]
    },
    {
     "name": "stderr",
     "output_type": "stream",
     "text": [
      "[I 2023-12-01 15:56:28,884] Trial 464 finished with value: 0.03322985739182208 and parameters: {'topK': 35, 'num_factors': 156}. Best is trial 293 with value: 0.0337220939446938.\n"
     ]
    },
    {
     "name": "stdout",
     "output_type": "stream",
     "text": [
      "PureSVDItemRecommender: URM Detected 627 ( 4.8%) users with no interactions.\n",
      "PureSVDItemRecommender: URM Detected 247 ( 1.1%) items with no interactions.\n",
      "PureSVDItemRecommender: Computing SVD decomposition...\n",
      "PureSVDItemRecommender: Computing SVD decomposition... Done!\n",
      "EvaluatorHoldout: Processed 10456 (100.0%) in 10.38 sec. Users per second: 1007\n"
     ]
    },
    {
     "name": "stderr",
     "output_type": "stream",
     "text": [
      "[I 2023-12-01 15:56:54,862] Trial 465 finished with value: 0.02661560993308327 and parameters: {'topK': 5, 'num_factors': 32}. Best is trial 293 with value: 0.0337220939446938.\n"
     ]
    },
    {
     "name": "stdout",
     "output_type": "stream",
     "text": [
      "PureSVDItemRecommender: URM Detected 627 ( 4.8%) users with no interactions.\n",
      "PureSVDItemRecommender: URM Detected 247 ( 1.1%) items with no interactions.\n",
      "PureSVDItemRecommender: Computing SVD decomposition...\n",
      "PureSVDItemRecommender: Computing SVD decomposition... Done!\n",
      "EvaluatorHoldout: Processed 10456 (100.0%) in 14.10 sec. Users per second: 742\n"
     ]
    },
    {
     "name": "stderr",
     "output_type": "stream",
     "text": [
      "[I 2023-12-01 15:57:39,700] Trial 466 finished with value: 0.03310016425596028 and parameters: {'topK': 58, 'num_factors': 220}. Best is trial 293 with value: 0.0337220939446938.\n"
     ]
    },
    {
     "name": "stdout",
     "output_type": "stream",
     "text": [
      "PureSVDItemRecommender: URM Detected 627 ( 4.8%) users with no interactions.\n",
      "PureSVDItemRecommender: URM Detected 247 ( 1.1%) items with no interactions.\n",
      "PureSVDItemRecommender: Computing SVD decomposition...\n",
      "PureSVDItemRecommender: Computing SVD decomposition... Done!\n",
      "EvaluatorHoldout: Processed 10456 (100.0%) in 13.13 sec. Users per second: 796\n"
     ]
    },
    {
     "name": "stderr",
     "output_type": "stream",
     "text": [
      "[I 2023-12-01 15:58:14,838] Trial 467 finished with value: 0.03345178890224837 and parameters: {'topK': 28, 'num_factors': 134}. Best is trial 293 with value: 0.0337220939446938.\n"
     ]
    },
    {
     "name": "stdout",
     "output_type": "stream",
     "text": [
      "PureSVDItemRecommender: URM Detected 627 ( 4.8%) users with no interactions.\n",
      "PureSVDItemRecommender: URM Detected 247 ( 1.1%) items with no interactions.\n",
      "PureSVDItemRecommender: Computing SVD decomposition...\n",
      "PureSVDItemRecommender: Computing SVD decomposition... Done!\n",
      "EvaluatorHoldout: Processed 10456 (100.0%) in 13.90 sec. Users per second: 752\n"
     ]
    },
    {
     "name": "stderr",
     "output_type": "stream",
     "text": [
      "[I 2023-12-01 15:58:55,059] Trial 468 finished with value: 0.03348706522267186 and parameters: {'topK': 45, 'num_factors': 171}. Best is trial 293 with value: 0.0337220939446938.\n"
     ]
    },
    {
     "name": "stdout",
     "output_type": "stream",
     "text": [
      "PureSVDItemRecommender: URM Detected 627 ( 4.8%) users with no interactions.\n",
      "PureSVDItemRecommender: URM Detected 247 ( 1.1%) items with no interactions.\n",
      "PureSVDItemRecommender: Computing SVD decomposition...\n",
      "PureSVDItemRecommender: Computing SVD decomposition... Done!\n",
      "EvaluatorHoldout: Processed 10456 (100.0%) in 15.68 sec. Users per second: 667\n"
     ]
    },
    {
     "name": "stderr",
     "output_type": "stream",
     "text": [
      "[I 2023-12-01 15:59:51,217] Trial 469 finished with value: 0.03276883630269263 and parameters: {'topK': 177, 'num_factors': 252}. Best is trial 293 with value: 0.0337220939446938.\n"
     ]
    },
    {
     "name": "stdout",
     "output_type": "stream",
     "text": [
      "PureSVDItemRecommender: URM Detected 627 ( 4.8%) users with no interactions.\n",
      "PureSVDItemRecommender: URM Detected 247 ( 1.1%) items with no interactions.\n",
      "PureSVDItemRecommender: Computing SVD decomposition...\n",
      "PureSVDItemRecommender: Computing SVD decomposition... Done!\n",
      "EvaluatorHoldout: Processed 10456 (100.0%) in 10.68 sec. Users per second: 979\n"
     ]
    },
    {
     "name": "stderr",
     "output_type": "stream",
     "text": [
      "[I 2023-12-01 16:01:01,015] Trial 470 finished with value: 0.03267507605567114 and parameters: {'topK': 38, 'num_factors': 835}. Best is trial 293 with value: 0.0337220939446938.\n"
     ]
    },
    {
     "name": "stdout",
     "output_type": "stream",
     "text": [
      "PureSVDItemRecommender: URM Detected 627 ( 4.8%) users with no interactions.\n",
      "PureSVDItemRecommender: URM Detected 247 ( 1.1%) items with no interactions.\n",
      "PureSVDItemRecommender: Computing SVD decomposition...\n",
      "PureSVDItemRecommender: Computing SVD decomposition... Done!\n",
      "EvaluatorHoldout: Processed 10456 (100.0%) in 14.40 sec. Users per second: 726\n"
     ]
    },
    {
     "name": "stderr",
     "output_type": "stream",
     "text": [
      "[I 2023-12-01 16:01:39,618] Trial 471 finished with value: 0.03319385998469813 and parameters: {'topK': 67, 'num_factors': 114}. Best is trial 293 with value: 0.0337220939446938.\n"
     ]
    },
    {
     "name": "stdout",
     "output_type": "stream",
     "text": [
      "PureSVDItemRecommender: URM Detected 627 ( 4.8%) users with no interactions.\n",
      "PureSVDItemRecommender: URM Detected 247 ( 1.1%) items with no interactions.\n",
      "PureSVDItemRecommender: Computing SVD decomposition...\n",
      "PureSVDItemRecommender: Computing SVD decomposition... Done!\n",
      "EvaluatorHoldout: Processed 10456 (100.0%) in 17.06 sec. Users per second: 613\n"
     ]
    },
    {
     "name": "stderr",
     "output_type": "stream",
     "text": [
      "[I 2023-12-01 16:02:31,411] Trial 472 finished with value: 0.028555181349510187 and parameters: {'topK': 272, 'num_factors': 26}. Best is trial 293 with value: 0.0337220939446938.\n"
     ]
    },
    {
     "name": "stdout",
     "output_type": "stream",
     "text": [
      "PureSVDItemRecommender: URM Detected 627 ( 4.8%) users with no interactions.\n",
      "PureSVDItemRecommender: URM Detected 247 ( 1.1%) items with no interactions.\n",
      "PureSVDItemRecommender: Computing SVD decomposition...\n",
      "PureSVDItemRecommender: Computing SVD decomposition... Done!\n",
      "EvaluatorHoldout: Processed 10456 (100.0%) in 13.65 sec. Users per second: 766\n"
     ]
    },
    {
     "name": "stderr",
     "output_type": "stream",
     "text": [
      "[I 2023-12-01 16:03:09,488] Trial 473 finished with value: 0.033262196232739794 and parameters: {'topK': 51, 'num_factors': 147}. Best is trial 293 with value: 0.0337220939446938.\n"
     ]
    },
    {
     "name": "stdout",
     "output_type": "stream",
     "text": [
      "PureSVDItemRecommender: URM Detected 627 ( 4.8%) users with no interactions.\n",
      "PureSVDItemRecommender: URM Detected 247 ( 1.1%) items with no interactions.\n",
      "PureSVDItemRecommender: Computing SVD decomposition...\n",
      "PureSVDItemRecommender: Computing SVD decomposition... Done!\n",
      "EvaluatorHoldout: Processed 10456 (100.0%) in 15.99 sec. Users per second: 654\n"
     ]
    },
    {
     "name": "stderr",
     "output_type": "stream",
     "text": [
      "[I 2023-12-01 16:03:48,175] Trial 474 finished with value: 0.029169194265311567 and parameters: {'topK': 90, 'num_factors': 26}. Best is trial 293 with value: 0.0337220939446938.\n"
     ]
    },
    {
     "name": "stdout",
     "output_type": "stream",
     "text": [
      "PureSVDItemRecommender: URM Detected 627 ( 4.8%) users with no interactions.\n",
      "PureSVDItemRecommender: URM Detected 247 ( 1.1%) items with no interactions.\n",
      "PureSVDItemRecommender: Computing SVD decomposition...\n",
      "PureSVDItemRecommender: Computing SVD decomposition... Done!\n",
      "EvaluatorHoldout: Processed 10456 (100.0%) in 12.10 sec. Users per second: 864\n"
     ]
    },
    {
     "name": "stderr",
     "output_type": "stream",
     "text": [
      "[I 2023-12-01 16:04:26,455] Trial 475 finished with value: 0.03309611478485844 and parameters: {'topK': 23, 'num_factors': 193}. Best is trial 293 with value: 0.0337220939446938.\n"
     ]
    },
    {
     "name": "stdout",
     "output_type": "stream",
     "text": [
      "PureSVDItemRecommender: URM Detected 627 ( 4.8%) users with no interactions.\n",
      "PureSVDItemRecommender: URM Detected 247 ( 1.1%) items with no interactions.\n",
      "PureSVDItemRecommender: Computing SVD decomposition...\n",
      "PureSVDItemRecommender: Computing SVD decomposition... Done!\n",
      "EvaluatorHoldout: Processed 10456 (100.0%) in 13.75 sec. Users per second: 760\n"
     ]
    },
    {
     "name": "stderr",
     "output_type": "stream",
     "text": [
      "[I 2023-12-01 16:05:03,571] Trial 476 finished with value: 0.03341063762281274 and parameters: {'topK': 43, 'num_factors': 127}. Best is trial 293 with value: 0.0337220939446938.\n"
     ]
    },
    {
     "name": "stdout",
     "output_type": "stream",
     "text": [
      "PureSVDItemRecommender: URM Detected 627 ( 4.8%) users with no interactions.\n",
      "PureSVDItemRecommender: URM Detected 247 ( 1.1%) items with no interactions.\n",
      "PureSVDItemRecommender: Computing SVD decomposition...\n",
      "PureSVDItemRecommender: Computing SVD decomposition... Done!\n",
      "EvaluatorHoldout: Processed 10456 (100.0%) in 8.65 sec. Users per second: 1208\n"
     ]
    },
    {
     "name": "stderr",
     "output_type": "stream",
     "text": [
      "[I 2023-12-01 16:05:21,788] Trial 477 finished with value: 0.01122920613667546 and parameters: {'topK': 1, 'num_factors': 94}. Best is trial 293 with value: 0.0337220939446938.\n"
     ]
    },
    {
     "name": "stdout",
     "output_type": "stream",
     "text": [
      "PureSVDItemRecommender: URM Detected 627 ( 4.8%) users with no interactions.\n",
      "PureSVDItemRecommender: URM Detected 247 ( 1.1%) items with no interactions.\n",
      "PureSVDItemRecommender: Computing SVD decomposition...\n",
      "PureSVDItemRecommender: Computing SVD decomposition... Done!\n",
      "EvaluatorHoldout: Processed 10456 (100.0%) in 12.84 sec. Users per second: 815\n"
     ]
    },
    {
     "name": "stderr",
     "output_type": "stream",
     "text": [
      "[I 2023-12-01 16:05:59,027] Trial 478 finished with value: 0.03319983741392538 and parameters: {'topK': 32, 'num_factors': 161}. Best is trial 293 with value: 0.0337220939446938.\n"
     ]
    },
    {
     "name": "stdout",
     "output_type": "stream",
     "text": [
      "PureSVDItemRecommender: URM Detected 627 ( 4.8%) users with no interactions.\n",
      "PureSVDItemRecommender: URM Detected 247 ( 1.1%) items with no interactions.\n",
      "PureSVDItemRecommender: Computing SVD decomposition...\n",
      "PureSVDItemRecommender: Computing SVD decomposition... Done!\n",
      "EvaluatorHoldout: Processed 10456 (100.0%) in 13.81 sec. Users per second: 757\n"
     ]
    },
    {
     "name": "stderr",
     "output_type": "stream",
     "text": [
      "[I 2023-12-01 16:06:41,800] Trial 479 finished with value: 0.03317448552361546 and parameters: {'topK': 59, 'num_factors': 209}. Best is trial 293 with value: 0.0337220939446938.\n"
     ]
    },
    {
     "name": "stdout",
     "output_type": "stream",
     "text": [
      "PureSVDItemRecommender: URM Detected 627 ( 4.8%) users with no interactions.\n",
      "PureSVDItemRecommender: URM Detected 247 ( 1.1%) items with no interactions.\n",
      "PureSVDItemRecommender: Computing SVD decomposition...\n",
      "PureSVDItemRecommender: Computing SVD decomposition... Done!\n",
      "EvaluatorHoldout: Processed 10456 (100.0%) in 13.24 sec. Users per second: 790\n"
     ]
    },
    {
     "name": "stderr",
     "output_type": "stream",
     "text": [
      "[I 2023-12-01 16:07:17,619] Trial 480 finished with value: 0.03316702796905585 and parameters: {'topK': 38, 'num_factors': 142}. Best is trial 293 with value: 0.0337220939446938.\n"
     ]
    },
    {
     "name": "stdout",
     "output_type": "stream",
     "text": [
      "PureSVDItemRecommender: URM Detected 627 ( 4.8%) users with no interactions.\n",
      "PureSVDItemRecommender: URM Detected 247 ( 1.1%) items with no interactions.\n",
      "PureSVDItemRecommender: Computing SVD decomposition...\n",
      "PureSVDItemRecommender: Computing SVD decomposition... Done!\n",
      "EvaluatorHoldout: Processed 10456 (100.0%) in 13.34 sec. Users per second: 784\n"
     ]
    },
    {
     "name": "stderr",
     "output_type": "stream",
     "text": [
      "[I 2023-12-01 16:07:56,089] Trial 481 finished with value: 0.03322180778712946 and parameters: {'topK': 47, 'num_factors': 178}. Best is trial 293 with value: 0.0337220939446938.\n"
     ]
    },
    {
     "name": "stdout",
     "output_type": "stream",
     "text": [
      "PureSVDItemRecommender: URM Detected 627 ( 4.8%) users with no interactions.\n",
      "PureSVDItemRecommender: URM Detected 247 ( 1.1%) items with no interactions.\n",
      "PureSVDItemRecommender: Computing SVD decomposition...\n",
      "PureSVDItemRecommender: Computing SVD decomposition... Done!\n",
      "EvaluatorHoldout: Processed 10456 (100.0%) in 11.72 sec. Users per second: 892\n"
     ]
    },
    {
     "name": "stderr",
     "output_type": "stream",
     "text": [
      "[I 2023-12-01 16:08:38,768] Trial 482 finished with value: 0.032993504147387324 and parameters: {'topK': 29, 'num_factors': 300}. Best is trial 293 with value: 0.0337220939446938.\n"
     ]
    },
    {
     "name": "stdout",
     "output_type": "stream",
     "text": [
      "PureSVDItemRecommender: URM Detected 627 ( 4.8%) users with no interactions.\n",
      "PureSVDItemRecommender: URM Detected 247 ( 1.1%) items with no interactions.\n",
      "PureSVDItemRecommender: Computing SVD decomposition...\n",
      "PureSVDItemRecommender: Computing SVD decomposition... Done!\n",
      "EvaluatorHoldout: Processed 10456 (100.0%) in 10.89 sec. Users per second: 960\n"
     ]
    },
    {
     "name": "stderr",
     "output_type": "stream",
     "text": [
      "[I 2023-12-01 16:09:15,698] Trial 483 finished with value: 0.03265179254563377 and parameters: {'topK': 16, 'num_factors': 242}. Best is trial 293 with value: 0.0337220939446938.\n"
     ]
    },
    {
     "name": "stdout",
     "output_type": "stream",
     "text": [
      "PureSVDItemRecommender: URM Detected 627 ( 4.8%) users with no interactions.\n",
      "PureSVDItemRecommender: URM Detected 247 ( 1.1%) items with no interactions.\n",
      "PureSVDItemRecommender: Computing SVD decomposition...\n",
      "PureSVDItemRecommender: Computing SVD decomposition... Done!\n",
      "EvaluatorHoldout: Processed 10456 (100.0%) in 13.11 sec. Users per second: 798\n"
     ]
    },
    {
     "name": "stderr",
     "output_type": "stream",
     "text": [
      "[I 2023-12-01 16:09:51,663] Trial 484 finished with value: 0.033262158280808224 and parameters: {'topK': 35, 'num_factors': 125}. Best is trial 293 with value: 0.0337220939446938.\n"
     ]
    },
    {
     "name": "stdout",
     "output_type": "stream",
     "text": [
      "PureSVDItemRecommender: URM Detected 627 ( 4.8%) users with no interactions.\n",
      "PureSVDItemRecommender: URM Detected 247 ( 1.1%) items with no interactions.\n",
      "PureSVDItemRecommender: Computing SVD decomposition...\n",
      "PureSVDItemRecommender: Computing SVD decomposition... Done!\n",
      "EvaluatorHoldout: Processed 10456 (100.0%) in 10.32 sec. Users per second: 1013\n"
     ]
    },
    {
     "name": "stderr",
     "output_type": "stream",
     "text": [
      "[I 2023-12-01 16:10:20,016] Trial 485 finished with value: 0.03180805279265518 and parameters: {'topK': 8, 'num_factors': 108}. Best is trial 293 with value: 0.0337220939446938.\n"
     ]
    },
    {
     "name": "stdout",
     "output_type": "stream",
     "text": [
      "PureSVDItemRecommender: URM Detected 627 ( 4.8%) users with no interactions.\n",
      "PureSVDItemRecommender: URM Detected 247 ( 1.1%) items with no interactions.\n",
      "PureSVDItemRecommender: Computing SVD decomposition...\n",
      "PureSVDItemRecommender: Computing SVD decomposition... Done!\n",
      "EvaluatorHoldout: Processed 10456 (100.0%) in 13.71 sec. Users per second: 763\n"
     ]
    },
    {
     "name": "stderr",
     "output_type": "stream",
     "text": [
      "[I 2023-12-01 16:11:46,523] Trial 486 finished with value: 0.03167603320338623 and parameters: {'topK': 196, 'num_factors': 939}. Best is trial 293 with value: 0.0337220939446938.\n"
     ]
    },
    {
     "name": "stdout",
     "output_type": "stream",
     "text": [
      "PureSVDItemRecommender: URM Detected 627 ( 4.8%) users with no interactions.\n",
      "PureSVDItemRecommender: URM Detected 247 ( 1.1%) items with no interactions.\n",
      "PureSVDItemRecommender: Computing SVD decomposition...\n",
      "PureSVDItemRecommender: Computing SVD decomposition... Done!\n",
      "EvaluatorHoldout: Processed 10456 (100.0%) in 13.72 sec. Users per second: 762\n"
     ]
    },
    {
     "name": "stderr",
     "output_type": "stream",
     "text": [
      "[I 2023-12-01 16:12:18,870] Trial 487 finished with value: 0.02773966265287053 and parameters: {'topK': 52, 'num_factors': 21}. Best is trial 293 with value: 0.0337220939446938.\n"
     ]
    },
    {
     "name": "stdout",
     "output_type": "stream",
     "text": [
      "PureSVDItemRecommender: URM Detected 627 ( 4.8%) users with no interactions.\n",
      "PureSVDItemRecommender: URM Detected 247 ( 1.1%) items with no interactions.\n",
      "PureSVDItemRecommender: Computing SVD decomposition...\n",
      "PureSVDItemRecommender: Computing SVD decomposition... Done!\n",
      "EvaluatorHoldout: Processed 10456 (100.0%) in 13.51 sec. Users per second: 774\n"
     ]
    },
    {
     "name": "stderr",
     "output_type": "stream",
     "text": [
      "[I 2023-12-01 16:12:51,724] Trial 488 finished with value: 0.03063113303214702 and parameters: {'topK': 42, 'num_factors': 44}. Best is trial 293 with value: 0.0337220939446938.\n"
     ]
    },
    {
     "name": "stdout",
     "output_type": "stream",
     "text": [
      "PureSVDItemRecommender: URM Detected 627 ( 4.8%) users with no interactions.\n",
      "PureSVDItemRecommender: URM Detected 247 ( 1.1%) items with no interactions.\n",
      "PureSVDItemRecommender: Computing SVD decomposition...\n",
      "PureSVDItemRecommender: Computing SVD decomposition... Done!\n",
      "EvaluatorHoldout: Processed 10456 (100.0%) in 14.35 sec. Users per second: 729\n"
     ]
    },
    {
     "name": "stderr",
     "output_type": "stream",
     "text": [
      "[I 2023-12-01 16:13:33,035] Trial 489 finished with value: 0.03328992011877472 and parameters: {'topK': 75, 'num_factors': 156}. Best is trial 293 with value: 0.0337220939446938.\n"
     ]
    },
    {
     "name": "stdout",
     "output_type": "stream",
     "text": [
      "PureSVDItemRecommender: URM Detected 627 ( 4.8%) users with no interactions.\n",
      "PureSVDItemRecommender: URM Detected 247 ( 1.1%) items with no interactions.\n",
      "PureSVDItemRecommender: Computing SVD decomposition...\n",
      "PureSVDItemRecommender: Computing SVD decomposition... Done!\n",
      "EvaluatorHoldout: Processed 10456 (100.0%) in 12.07 sec. Users per second: 866\n"
     ]
    },
    {
     "name": "stderr",
     "output_type": "stream",
     "text": [
      "[I 2023-12-01 16:14:09,189] Trial 490 finished with value: 0.03346974775628205 and parameters: {'topK': 26, 'num_factors': 188}. Best is trial 293 with value: 0.0337220939446938.\n"
     ]
    },
    {
     "name": "stdout",
     "output_type": "stream",
     "text": [
      "PureSVDItemRecommender: URM Detected 627 ( 4.8%) users with no interactions.\n",
      "PureSVDItemRecommender: URM Detected 247 ( 1.1%) items with no interactions.\n",
      "PureSVDItemRecommender: Computing SVD decomposition...\n",
      "PureSVDItemRecommender: Computing SVD decomposition... Done!\n",
      "EvaluatorHoldout: Processed 10456 (100.0%) in 14.36 sec. Users per second: 728\n"
     ]
    },
    {
     "name": "stderr",
     "output_type": "stream",
     "text": [
      "[I 2023-12-01 16:14:45,230] Trial 491 finished with value: 0.03125368133736558 and parameters: {'topK': 62, 'num_factors': 66}. Best is trial 293 with value: 0.0337220939446938.\n"
     ]
    },
    {
     "name": "stdout",
     "output_type": "stream",
     "text": [
      "PureSVDItemRecommender: URM Detected 627 ( 4.8%) users with no interactions.\n",
      "PureSVDItemRecommender: URM Detected 247 ( 1.1%) items with no interactions.\n",
      "PureSVDItemRecommender: Computing SVD decomposition...\n",
      "PureSVDItemRecommender: Computing SVD decomposition... Done!\n",
      "EvaluatorHoldout: Processed 10456 (100.0%) in 13.55 sec. Users per second: 772\n"
     ]
    },
    {
     "name": "stderr",
     "output_type": "stream",
     "text": [
      "[I 2023-12-01 16:15:21,863] Trial 492 finished with value: 0.03324749365443735 and parameters: {'topK': 47, 'num_factors': 136}. Best is trial 293 with value: 0.0337220939446938.\n"
     ]
    },
    {
     "name": "stdout",
     "output_type": "stream",
     "text": [
      "PureSVDItemRecommender: URM Detected 627 ( 4.8%) users with no interactions.\n",
      "PureSVDItemRecommender: URM Detected 247 ( 1.1%) items with no interactions.\n",
      "PureSVDItemRecommender: Computing SVD decomposition...\n",
      "PureSVDItemRecommender: Computing SVD decomposition... Done!\n",
      "EvaluatorHoldout: Processed 10456 (100.0%) in 12.60 sec. Users per second: 830\n"
     ]
    },
    {
     "name": "stderr",
     "output_type": "stream",
     "text": [
      "[I 2023-12-01 16:16:01,946] Trial 493 finished with value: 0.03282738474757432 and parameters: {'topK': 38, 'num_factors': 231}. Best is trial 293 with value: 0.0337220939446938.\n"
     ]
    },
    {
     "name": "stdout",
     "output_type": "stream",
     "text": [
      "PureSVDItemRecommender: URM Detected 627 ( 4.8%) users with no interactions.\n",
      "PureSVDItemRecommender: URM Detected 247 ( 1.1%) items with no interactions.\n",
      "PureSVDItemRecommender: Computing SVD decomposition...\n",
      "PureSVDItemRecommender: Computing SVD decomposition... Done!\n",
      "EvaluatorHoldout: Processed 10456 (100.0%) in 14.00 sec. Users per second: 747\n"
     ]
    },
    {
     "name": "stderr",
     "output_type": "stream",
     "text": [
      "[I 2023-12-01 16:16:34,039] Trial 494 finished with value: 0.023549435427065515 and parameters: {'topK': 56, 'num_factors': 12}. Best is trial 293 with value: 0.0337220939446938.\n"
     ]
    },
    {
     "name": "stdout",
     "output_type": "stream",
     "text": [
      "PureSVDItemRecommender: URM Detected 627 ( 4.8%) users with no interactions.\n",
      "PureSVDItemRecommender: URM Detected 247 ( 1.1%) items with no interactions.\n",
      "PureSVDItemRecommender: Computing SVD decomposition...\n",
      "PureSVDItemRecommender: Computing SVD decomposition... Done!\n",
      "EvaluatorHoldout: Processed 10456 (100.0%) in 10.42 sec. Users per second: 1004\n"
     ]
    },
    {
     "name": "stderr",
     "output_type": "stream",
     "text": [
      "[I 2023-12-01 16:16:58,703] Trial 495 finished with value: 0.01844800129947408 and parameters: {'topK': 9, 'num_factors': 5}. Best is trial 293 with value: 0.0337220939446938.\n"
     ]
    },
    {
     "name": "stdout",
     "output_type": "stream",
     "text": [
      "PureSVDItemRecommender: URM Detected 627 ( 4.8%) users with no interactions.\n",
      "PureSVDItemRecommender: URM Detected 247 ( 1.1%) items with no interactions.\n",
      "PureSVDItemRecommender: Computing SVD decomposition...\n",
      "PureSVDItemRecommender: Computing SVD decomposition... Done!\n",
      "EvaluatorHoldout: Processed 10456 (100.0%) in 12.80 sec. Users per second: 817\n"
     ]
    },
    {
     "name": "stderr",
     "output_type": "stream",
     "text": [
      "[I 2023-12-01 16:17:31,871] Trial 496 finished with value: 0.03273624697902654 and parameters: {'topK': 32, 'num_factors': 98}. Best is trial 293 with value: 0.0337220939446938.\n"
     ]
    },
    {
     "name": "stdout",
     "output_type": "stream",
     "text": [
      "PureSVDItemRecommender: URM Detected 627 ( 4.8%) users with no interactions.\n",
      "PureSVDItemRecommender: URM Detected 247 ( 1.1%) items with no interactions.\n",
      "PureSVDItemRecommender: Computing SVD decomposition...\n",
      "PureSVDItemRecommender: Computing SVD decomposition... Done!\n",
      "EvaluatorHoldout: Processed 10456 (100.0%) in 13.55 sec. Users per second: 772\n"
     ]
    },
    {
     "name": "stderr",
     "output_type": "stream",
     "text": [
      "[I 2023-12-01 16:18:22,267] Trial 497 finished with value: 0.032762866463851806 and parameters: {'topK': 89, 'num_factors': 346}. Best is trial 293 with value: 0.0337220939446938.\n"
     ]
    },
    {
     "name": "stdout",
     "output_type": "stream",
     "text": [
      "PureSVDItemRecommender: URM Detected 627 ( 4.8%) users with no interactions.\n",
      "PureSVDItemRecommender: URM Detected 247 ( 1.1%) items with no interactions.\n",
      "PureSVDItemRecommender: Computing SVD decomposition...\n",
      "PureSVDItemRecommender: Computing SVD decomposition... Done!\n",
      "EvaluatorHoldout: Processed 10456 (100.0%) in 13.46 sec. Users per second: 777\n"
     ]
    },
    {
     "name": "stderr",
     "output_type": "stream",
     "text": [
      "[I 2023-12-01 16:18:55,892] Trial 498 finished with value: 0.03172739355242251 and parameters: {'topK': 43, 'num_factors': 75}. Best is trial 293 with value: 0.0337220939446938.\n"
     ]
    },
    {
     "name": "stdout",
     "output_type": "stream",
     "text": [
      "PureSVDItemRecommender: URM Detected 627 ( 4.8%) users with no interactions.\n",
      "PureSVDItemRecommender: URM Detected 247 ( 1.1%) items with no interactions.\n",
      "PureSVDItemRecommender: Computing SVD decomposition...\n",
      "PureSVDItemRecommender: Computing SVD decomposition... Done!\n",
      "EvaluatorHoldout: Processed 10456 (100.0%) in 11.44 sec. Users per second: 914\n"
     ]
    },
    {
     "name": "stderr",
     "output_type": "stream",
     "text": [
      "[I 2023-12-01 16:19:28,963] Trial 499 finished with value: 0.03346396767709925 and parameters: {'topK': 19, 'num_factors': 164}. Best is trial 293 with value: 0.0337220939446938.\n"
     ]
    }
   ],
   "source": [
    "if config['tune_parameters']:\n",
    "    study = optuna.create_study(direction='maximize', study_name='hyperparameters_tuning_puresvd_item',\n",
    "                                storage=f'sqlite:///{config[\"database_path\"]}', load_if_exists=True)\n",
    "    study.optimize(objective_function_pure_svd_item, n_trials=200)"
   ]
  },
  {
   "cell_type": "code",
   "execution_count": 16,
   "id": "5edb2032",
   "metadata": {
    "execution": {
     "iopub.execute_input": "2023-12-01T16:19:29.139922Z",
     "iopub.status.busy": "2023-12-01T16:19:29.138958Z",
     "iopub.status.idle": "2023-12-01T16:19:30.077739Z",
     "shell.execute_reply": "2023-12-01T16:19:30.076732Z"
    },
    "papermill": {
     "duration": 1.021985,
     "end_time": "2023-12-01T16:19:30.079835",
     "exception": false,
     "start_time": "2023-12-01T16:19:29.057850",
     "status": "completed"
    },
    "tags": []
   },
   "outputs": [
    {
     "data": {
      "text/html": [
       "        <script type=\"text/javascript\">\n",
       "        window.PlotlyConfig = {MathJaxConfig: 'local'};\n",
       "        if (window.MathJax && window.MathJax.Hub && window.MathJax.Hub.Config) {window.MathJax.Hub.Config({SVG: {font: \"STIX-Web\"}});}\n",
       "        if (typeof require !== 'undefined') {\n",
       "        require.undef(\"plotly\");\n",
       "        requirejs.config({\n",
       "            paths: {\n",
       "                'plotly': ['https://cdn.plot.ly/plotly-2.25.2.min']\n",
       "            }\n",
       "        });\n",
       "        require(['plotly'], function(Plotly) {\n",
       "            window._Plotly = Plotly;\n",
       "        });\n",
       "        }\n",
       "        </script>\n",
       "        "
      ]
     },
     "metadata": {},
     "output_type": "display_data"
    },
    {
     "data": {
      "text/html": [
       "<div>                            <div id=\"b926fa39-7c16-4c9d-9012-ceed1c655275\" class=\"plotly-graph-div\" style=\"height:525px; width:100%;\"></div>            <script type=\"text/javascript\">                require([\"plotly\"], function(Plotly) {                    window.PLOTLYENV=window.PLOTLYENV || {};                                    if (document.getElementById(\"b926fa39-7c16-4c9d-9012-ceed1c655275\")) {                    Plotly.newPlot(                        \"b926fa39-7c16-4c9d-9012-ceed1c655275\",                        [{\"mode\":\"markers\",\"name\":\"Objective Value\",\"x\":[0,1,2,3,4,5,6,7,8,9,10,11,12,13,14,15,16,17,18,19,20,21,22,23,24,25,26,27,28,29,30,31,32,33,34,35,36,37,38,39,40,41,42,43,44,45,46,47,48,49,50,51,52,53,54,55,56,57,58,59,60,61,62,63,64,65,66,67,68,69,70,71,72,73,74,75,76,77,78,79,80,81,82,83,84,85,86,87,88,89,90,91,92,93,94,95,96,97,98,99,100,101,102,103,104,105,106,107,108,109,110,111,112,113,114,115,116,117,118,119,120,121,122,123,124,125,126,127,128,129,130,131,132,133,134,135,136,137,138,139,140,141,142,143,144,145,146,147,148,149,150,151,152,153,154,155,156,157,158,159,160,161,162,163,164,165,166,167,168,169,170,171,172,173,174,175,176,177,178,179,180,181,182,183,184,185,186,187,188,189,190,191,192,193,194,195,196,197,198,199,200,201,202,203,204,205,206,207,208,209,210,211,212,213,214,215,216,217,218,219,220,221,222,223,224,225,226,227,228,229,230,231,232,233,234,235,236,237,238,239,240,241,242,243,244,245,246,247,248,249,250,251,252,253,254,255,256,257,258,259,260,261,262,263,264,265,266,267,268,269,270,271,272,273,274,275,276,277,278,279,280,281,282,283,284,285,286,287,288,289,290,291,292,293,294,295,296,297,298,299,300,301,302,303,304,305,306,307,308,309,310,311,312,313,314,315,316,317,318,319,320,321,322,323,324,325,326,327,328,329,330,331,332,333,334,335,336,337,338,339,340,341,342,343,344,345,346,347,348,349,350,351,352,353,354,355,356,357,358,359,360,361,362,363,364,365,366,367,368,369,370,371,372,373,374,375,376,377,378,379,380,381,382,383,384,385,386,387,388,389,390,391,392,393,394,395,396,397,398,399,400,401,402,403,404,405,406,407,408,409,410,411,412,413,414,415,416,417,418,419,420,421,422,423,424,425,426,427,428,429,430,431,432,433,434,435,436,437,438,439,440,441,442,443,444,445,446,447,448,449,450,451,452,453,454,455,456,457,458,459,460,461,462,463,464,465,466,467,468,469,470,471,472,473,474,475,476,477,478,479,480,481,482,483,484,485,486,487,488,489,490,491,492,493,494,495,496,497,498,499],\"y\":[0.032855450200993695,0.03217469881347108,0.02443845942483089,0.003056629595219885,0.003056629595219885,0.021065690239370424,0.016462143707266116,0.009889798976208671,0.018580920349522103,0.008368309833497243,0.031610300457852306,0.03167575235909235,0.03181086882598008,0.0315571335968719,0.03337186592948863,0.03044037903353152,0.03143206300627897,0.0296017248393877,0.03279836290547862,0.028398075533452413,0.02755496957773181,0.03297642577816665,0.033463595748169574,0.031892435117378,0.033364146506600946,0.03336624524841854,0.030869622970330905,0.033114642917866255,0.03240168931637974,0.030739113867939677,0.03310675650647944,0.03328582131016179,0.03201061743238502,0.03322006579346897,0.031605727250094376,0.03225867884771894,0.03322798636159411,0.032235941845496385,0.03300422177287147,0.030513322646069596,0.030340903225610786,0.03289900004250654,0.03333655924751971,0.03287655527015729,0.03276111308461186,0.03308379558786065,0.033026226302814224,0.0318275259287599,0.033060569005720325,0.03297782999963595,0.031496311831287205,0.033215393910688756,0.0333457891572852,0.03305369211571419,0.032633875438724605,0.03314250343085487,0.032892829058427976,0.031063640835064115,0.03260840210223359,0.03327718724572237,0.031022656544127714,0.033301032444347636,0.03325856043769235,0.03282337322840413,0.03251881656768819,0.03300934907883092,0.033174614560183,0.031941195759099594,0.03330215582152306,0.033182333983070876,0.03336579362043238,0.03346579696020239,0.03175132224529736,0.0330305224614715,0.03316175644575641,0.03275192871716427,0.03236606004299213,0.0332291173291558,0.03163328035243709,0.032052322810022,0.03321013756816196,0.03300342098711486,0.033322725768451036,0.0331293834481003,0.033035664948203466,0.03296981075648856,0.032779550132983865,0.033517608937224885,0.03308708222513715,0.03210975167292137,0.03321967868376658,0.03333493490484712,0.03352021243973271,0.03349611675835879,0.03331010295600042,0.03319699101905519,0.03344648322221034,0.033075992670723205,0.03161615644089844,0.032639663108293894,0.03347181234136118,0.03322246056035294,0.03335201706926106,0.03309732924666955,0.03319786770867532,0.03303305385530925,0.033226240572740505,0.03273918066333926,0.033067415534181334,0.03309590604923461,0.03321849458350065,0.03331977310817239,0.033129345496168604,0.03372004833558052,0.032984851106982106,0.032912939786983626,0.0323862656513769,0.032941513796286466,0.03321633132339934,0.03320420568125267,0.033256617298794325,0.03332319637240286,0.033393452988183636,0.03342058861927879,0.03329778375900266,0.033084577397651534,0.03327434464604538,0.033243588400675456,0.03301120492828633,0.03304259497091395,0.03238726758237114,0.03329419350627299,0.03326823058986448,0.03320477496022678,0.03286610710338736,0.03343129485918347,0.032236264436915074,0.03343464601474404,0.03174890850244735,0.03348980914732667,0.033379186857094505,0.033076763094934805,0.03341834186492791,0.03317671330200048,0.0332014541662115,0.03292714139978888,0.03324477629613468,0.0324863562805895,0.03334418758577174,0.033098816962388394,0.03298406929719139,0.033418990842958206,0.03295702854592529,0.03330208371285294,0.033492640361424214,0.03320198549325406,0.03293252677888317,0.03276176585783536,0.032784738162033776,0.03337776365965955,0.03226865641053689,0.03321242606963753,0.033433351853876275,0.03323740603101763,0.03332920416317542,0.0331478394724381,0.03304942631860221,0.03277966778397177,0.03340255765657469,0.03308000418989352,0.0330574038146248,0.033517973275768206,0.03314307270982896,0.033201875432652274,0.03315364611797314,0.03317264105973966,0.03314552819980359,0.023292303500078985,0.03266225968836932,0.032624243238484174,0.031232822955757338,0.03316346428267839,0.033536675987661455,0.03286663843042992,0.03344591773842955,0.03368262014063505,0.03320063819968217,0.03323203962788921,0.033000802303834384,0.03352630751994792,0.03303871248831116,0.03344217188278047,0.033245971781980084,0.029112277753488673,0.033545412522316166,0.03334835850305467,0.03332487764297283,0.03287297260781406,0.03341030364581453,0.03314813549750468,0.032714075460584975,0.03320614502495757,0.033336714850439327,0.033319537806196495,0.03328476245126997,0.03291397587471642,0.03324390719690101,0.03280537642243864,0.03328581751496853,0.03342507833278719,0.033283673230833186,0.03311404327734703,0.030300101103946007,0.03327848899697627,0.03352046292248115,0.03306831499496022,0.03332948121227607,0.03290851079656568,0.033391008883788334,0.033319321480186286,0.031908720291228175,0.03346339839812527,0.033414668117948805,0.009997058725300814,0.03335536063443516,0.012877227019346326,0.03323453686498859,0.03341696041461759,0.0333495198321617,0.03253314342186784,0.027096927715233077,0.032997576389648196,0.0331115118835091,0.033099606362565766,0.03327696332932587,0.03268358867392944,0.03319593595535673,0.033094228573857846,0.03325038559162535,0.032868976269416476,0.03313076489841049,0.0335458337887568,0.033413525764807626,0.03325667422669177,0.03339859167972247,0.03288799018714883,0.033016590307380654,0.0331566860676944,0.024959509084174446,0.03326147135084626,0.03318484260574955,0.03306124075490968,0.033323090106994274,0.033374480817575894,0.03330025442974981,0.03341570420568158,0.03320046741598982,0.03231948163733767,0.033391354246366106,0.03354065335009318,0.031206966304757278,0.03330793590070597,0.033319454311946904,0.032959427108002426,0.03318838352096803,0.032981219107127965,0.03294930153265103,0.030423915485602762,0.032895967683171504,0.03359183532505098,0.032801702675459635,0.03317580625083525,0.03328059532918017,0.03250379898835358,0.03328193882755895,0.03332829711201016,0.033086645777923814,0.032491274850925046,0.03325949785040295,0.03335813871582829,0.03105911316962408,0.03302249942313092,0.033613615938597116,0.020780659847463606,0.033311939829489885,0.03362485350554433,0.033397995834396295,0.03154324318990573,0.03280426063564952,0.03310866928383213,0.032693319549192,0.0332744850681924,0.03338834086299694,0.0337220939446938,0.03308530607473829,0.03327476591248621,0.028525434625520842,0.03361972999477811,0.03335404370240846,0.033418709998664406,0.03331249013249808,0.032951563467774524,0.032641704922213945,0.02697485153204373,0.032600804125527016,0.01059721918606767,0.033359971794124775,0.033072576996879106,0.032323910627755574,0.03318078933945453,0.033050265056290544,0.0330738483865877,0.03307124488407991,0.022216950698922686,0.033049118907956296,0.03317799228209537,0.03270826881504984,0.03339639426288281,0.033193328657655674,0.033054481515891534,0.03359724727049739,0.03196590626176549,0.03328224244301168,0.02994411957591013,0.03318119162992947,0.03349143348999928,0.032638209549313464,0.03213849646591642,0.0332310414920881,0.033170709306421166,0.03185567867162204,0.0326804310732201,0.03316621959291271,0.032517723552058155,0.03310308655469369,0.03317988987867555,0.03323533385555223,0.033486784378378084,0.03281837875420526,0.023000035674815733,0.018363808734409386,0.033338270879634924,0.03290871953218947,0.033244544789351904,0.03132833658201895,0.03316520627633891,0.031796773478583215,0.0333295305497872,0.030813609714480158,0.03314328903583906,0.03217463049999418,0.03296482766786923,0.03231414180056138,0.03352365467992884,0.0334201825336105,0.0336148190148289,0.033259771104310436,0.03303257186577792,0.033144476931298086,0.028348347117475033,0.03315675438117127,0.03349651525364067,0.033193453899029945,0.032546092620930236,0.033056124834529764,0.032916780522461705,0.02958989142711427,0.03345071486258402,0.03346289363743492,0.032660532875481436,0.01254781563862467,0.03299904512940125,0.03076590793165033,0.03314213529711835,0.03210541756233252,0.03319922259263334,0.03305955568914657,0.03251820933678267,0.010369351993538998,0.03347324692437578,0.033253577349073096,0.03342171958684047,0.03298627050922404,0.03308217504038117,0.0333376522631499,0.02430097096221816,0.03176460162616468,0.03285576520202596,0.03317330521854272,0.030763076717552764,0.0331091095262387,0.02985470482505693,0.03313098501961375,0.033366757599495075,0.0323652782332012,0.03300258224942661,0.033465182138910435,0.03286419053084154,0.030325399861551642,0.031147431109654043,0.03251485059083588,0.0335033693724879,0.03312221432822077,0.03303949809329526,0.032565672022443495,0.022484701576371474,0.03309237651959559,0.021986749462600635,0.03126609161899923,0.03353528315177162,0.027938105712828523,0.031717192073208146,0.03297304046586777,0.033392485213927715,0.0332584238107386,0.03340414784250894,0.031137142340996824,0.030273656198006135,0.03344147356723901,0.03310002762900648,0.03345715151018361,0.03319287323447647,0.03261785972358874,0.032444605360634676,0.024151296134368117,0.032952519856450826,0.03361369563765351,0.03305044722556227,0.03317708523093026,0.032421621670856694,0.033288667705031846,0.03317067135448956,0.018221500376483124,0.03263405001760989,0.03335187664711412,0.0332915103047088,0.023528129212664457,0.03282567691065233,0.03284134346801751,0.03317609089032225,0.032370963432555036,0.031304582468029536,0.03306478926051443,0.027383571064233034,0.033319222805164146,0.010919924460475317,0.02981740187148581,0.032868274158681786,0.033351903213466316,0.0331026539026733,0.03253437685964496,0.03320389447541359,0.033181950668561555,0.03224178264776999,0.03262226594284773,0.012600762378401936,0.03317921053909992,0.03268812772494901,0.03181327118325034,0.022067256895106975,0.03313873100885376,0.03312713669374955,0.02510052707642612,0.031154099264036304,0.03322985739182208,0.02661560993308327,0.03310016425596028,0.03345178890224837,0.03348706522267186,0.03276883630269263,0.03267507605567114,0.03319385998469813,0.028555181349510187,0.033262196232739794,0.029169194265311567,0.03309611478485844,0.03341063762281274,0.01122920613667546,0.03319983741392538,0.03317448552361546,0.03316702796905585,0.03322180778712946,0.032993504147387324,0.03265179254563377,0.033262158280808224,0.03180805279265518,0.03167603320338623,0.02773966265287053,0.03063113303214702,0.03328992011877472,0.03346974775628205,0.03125368133736558,0.03324749365443735,0.03282738474757432,0.023549435427065515,0.01844800129947408,0.03273624697902654,0.032762866463851806,0.03172739355242251,0.03346396767709925],\"type\":\"scatter\"},{\"mode\":\"lines\",\"name\":\"Best Value\",\"x\":[0,1,2,3,4,5,6,7,8,9,10,11,12,13,14,15,16,17,18,19,20,21,22,23,24,25,26,27,28,29,30,31,32,33,34,35,36,37,38,39,40,41,42,43,44,45,46,47,48,49,50,51,52,53,54,55,56,57,58,59,60,61,62,63,64,65,66,67,68,69,70,71,72,73,74,75,76,77,78,79,80,81,82,83,84,85,86,87,88,89,90,91,92,93,94,95,96,97,98,99,100,101,102,103,104,105,106,107,108,109,110,111,112,113,114,115,116,117,118,119,120,121,122,123,124,125,126,127,128,129,130,131,132,133,134,135,136,137,138,139,140,141,142,143,144,145,146,147,148,149,150,151,152,153,154,155,156,157,158,159,160,161,162,163,164,165,166,167,168,169,170,171,172,173,174,175,176,177,178,179,180,181,182,183,184,185,186,187,188,189,190,191,192,193,194,195,196,197,198,199,200,201,202,203,204,205,206,207,208,209,210,211,212,213,214,215,216,217,218,219,220,221,222,223,224,225,226,227,228,229,230,231,232,233,234,235,236,237,238,239,240,241,242,243,244,245,246,247,248,249,250,251,252,253,254,255,256,257,258,259,260,261,262,263,264,265,266,267,268,269,270,271,272,273,274,275,276,277,278,279,280,281,282,283,284,285,286,287,288,289,290,291,292,293,294,295,296,297,298,299,300,301,302,303,304,305,306,307,308,309,310,311,312,313,314,315,316,317,318,319,320,321,322,323,324,325,326,327,328,329,330,331,332,333,334,335,336,337,338,339,340,341,342,343,344,345,346,347,348,349,350,351,352,353,354,355,356,357,358,359,360,361,362,363,364,365,366,367,368,369,370,371,372,373,374,375,376,377,378,379,380,381,382,383,384,385,386,387,388,389,390,391,392,393,394,395,396,397,398,399,400,401,402,403,404,405,406,407,408,409,410,411,412,413,414,415,416,417,418,419,420,421,422,423,424,425,426,427,428,429,430,431,432,433,434,435,436,437,438,439,440,441,442,443,444,445,446,447,448,449,450,451,452,453,454,455,456,457,458,459,460,461,462,463,464,465,466,467,468,469,470,471,472,473,474,475,476,477,478,479,480,481,482,483,484,485,486,487,488,489,490,491,492,493,494,495,496,497,498,499],\"y\":[0.032855450200993695,0.032855450200993695,0.032855450200993695,0.032855450200993695,0.032855450200993695,0.032855450200993695,0.032855450200993695,0.032855450200993695,0.032855450200993695,0.032855450200993695,0.032855450200993695,0.032855450200993695,0.032855450200993695,0.032855450200993695,0.03337186592948863,0.03337186592948863,0.03337186592948863,0.03337186592948863,0.03337186592948863,0.03337186592948863,0.03337186592948863,0.03337186592948863,0.033463595748169574,0.033463595748169574,0.033463595748169574,0.033463595748169574,0.033463595748169574,0.033463595748169574,0.033463595748169574,0.033463595748169574,0.033463595748169574,0.033463595748169574,0.033463595748169574,0.033463595748169574,0.033463595748169574,0.033463595748169574,0.033463595748169574,0.033463595748169574,0.033463595748169574,0.033463595748169574,0.033463595748169574,0.033463595748169574,0.033463595748169574,0.033463595748169574,0.033463595748169574,0.033463595748169574,0.033463595748169574,0.033463595748169574,0.033463595748169574,0.033463595748169574,0.033463595748169574,0.033463595748169574,0.033463595748169574,0.033463595748169574,0.033463595748169574,0.033463595748169574,0.033463595748169574,0.033463595748169574,0.033463595748169574,0.033463595748169574,0.033463595748169574,0.033463595748169574,0.033463595748169574,0.033463595748169574,0.033463595748169574,0.033463595748169574,0.033463595748169574,0.033463595748169574,0.033463595748169574,0.033463595748169574,0.033463595748169574,0.03346579696020239,0.03346579696020239,0.03346579696020239,0.03346579696020239,0.03346579696020239,0.03346579696020239,0.03346579696020239,0.03346579696020239,0.03346579696020239,0.03346579696020239,0.03346579696020239,0.03346579696020239,0.03346579696020239,0.03346579696020239,0.03346579696020239,0.03346579696020239,0.033517608937224885,0.033517608937224885,0.033517608937224885,0.033517608937224885,0.033517608937224885,0.03352021243973271,0.03352021243973271,0.03352021243973271,0.03352021243973271,0.03352021243973271,0.03352021243973271,0.03352021243973271,0.03352021243973271,0.03352021243973271,0.03352021243973271,0.03352021243973271,0.03352021243973271,0.03352021243973271,0.03352021243973271,0.03352021243973271,0.03352021243973271,0.03352021243973271,0.03352021243973271,0.03352021243973271,0.03352021243973271,0.03352021243973271,0.03372004833558052,0.03372004833558052,0.03372004833558052,0.03372004833558052,0.03372004833558052,0.03372004833558052,0.03372004833558052,0.03372004833558052,0.03372004833558052,0.03372004833558052,0.03372004833558052,0.03372004833558052,0.03372004833558052,0.03372004833558052,0.03372004833558052,0.03372004833558052,0.03372004833558052,0.03372004833558052,0.03372004833558052,0.03372004833558052,0.03372004833558052,0.03372004833558052,0.03372004833558052,0.03372004833558052,0.03372004833558052,0.03372004833558052,0.03372004833558052,0.03372004833558052,0.03372004833558052,0.03372004833558052,0.03372004833558052,0.03372004833558052,0.03372004833558052,0.03372004833558052,0.03372004833558052,0.03372004833558052,0.03372004833558052,0.03372004833558052,0.03372004833558052,0.03372004833558052,0.03372004833558052,0.03372004833558052,0.03372004833558052,0.03372004833558052,0.03372004833558052,0.03372004833558052,0.03372004833558052,0.03372004833558052,0.03372004833558052,0.03372004833558052,0.03372004833558052,0.03372004833558052,0.03372004833558052,0.03372004833558052,0.03372004833558052,0.03372004833558052,0.03372004833558052,0.03372004833558052,0.03372004833558052,0.03372004833558052,0.03372004833558052,0.03372004833558052,0.03372004833558052,0.03372004833558052,0.03372004833558052,0.03372004833558052,0.03372004833558052,0.03372004833558052,0.03372004833558052,0.03372004833558052,0.03372004833558052,0.03372004833558052,0.03372004833558052,0.03372004833558052,0.03372004833558052,0.03372004833558052,0.03372004833558052,0.03372004833558052,0.03372004833558052,0.03372004833558052,0.03372004833558052,0.03372004833558052,0.03372004833558052,0.03372004833558052,0.03372004833558052,0.03372004833558052,0.03372004833558052,0.03372004833558052,0.03372004833558052,0.03372004833558052,0.03372004833558052,0.03372004833558052,0.03372004833558052,0.03372004833558052,0.03372004833558052,0.03372004833558052,0.03372004833558052,0.03372004833558052,0.03372004833558052,0.03372004833558052,0.03372004833558052,0.03372004833558052,0.03372004833558052,0.03372004833558052,0.03372004833558052,0.03372004833558052,0.03372004833558052,0.03372004833558052,0.03372004833558052,0.03372004833558052,0.03372004833558052,0.03372004833558052,0.03372004833558052,0.03372004833558052,0.03372004833558052,0.03372004833558052,0.03372004833558052,0.03372004833558052,0.03372004833558052,0.03372004833558052,0.03372004833558052,0.03372004833558052,0.03372004833558052,0.03372004833558052,0.03372004833558052,0.03372004833558052,0.03372004833558052,0.03372004833558052,0.03372004833558052,0.03372004833558052,0.03372004833558052,0.03372004833558052,0.03372004833558052,0.03372004833558052,0.03372004833558052,0.03372004833558052,0.03372004833558052,0.03372004833558052,0.03372004833558052,0.03372004833558052,0.03372004833558052,0.03372004833558052,0.03372004833558052,0.03372004833558052,0.03372004833558052,0.03372004833558052,0.03372004833558052,0.03372004833558052,0.03372004833558052,0.03372004833558052,0.03372004833558052,0.03372004833558052,0.03372004833558052,0.03372004833558052,0.03372004833558052,0.03372004833558052,0.03372004833558052,0.03372004833558052,0.03372004833558052,0.03372004833558052,0.03372004833558052,0.03372004833558052,0.03372004833558052,0.03372004833558052,0.03372004833558052,0.03372004833558052,0.03372004833558052,0.03372004833558052,0.03372004833558052,0.03372004833558052,0.03372004833558052,0.03372004833558052,0.03372004833558052,0.03372004833558052,0.03372004833558052,0.03372004833558052,0.03372004833558052,0.03372004833558052,0.03372004833558052,0.03372004833558052,0.0337220939446938,0.0337220939446938,0.0337220939446938,0.0337220939446938,0.0337220939446938,0.0337220939446938,0.0337220939446938,0.0337220939446938,0.0337220939446938,0.0337220939446938,0.0337220939446938,0.0337220939446938,0.0337220939446938,0.0337220939446938,0.0337220939446938,0.0337220939446938,0.0337220939446938,0.0337220939446938,0.0337220939446938,0.0337220939446938,0.0337220939446938,0.0337220939446938,0.0337220939446938,0.0337220939446938,0.0337220939446938,0.0337220939446938,0.0337220939446938,0.0337220939446938,0.0337220939446938,0.0337220939446938,0.0337220939446938,0.0337220939446938,0.0337220939446938,0.0337220939446938,0.0337220939446938,0.0337220939446938,0.0337220939446938,0.0337220939446938,0.0337220939446938,0.0337220939446938,0.0337220939446938,0.0337220939446938,0.0337220939446938,0.0337220939446938,0.0337220939446938,0.0337220939446938,0.0337220939446938,0.0337220939446938,0.0337220939446938,0.0337220939446938,0.0337220939446938,0.0337220939446938,0.0337220939446938,0.0337220939446938,0.0337220939446938,0.0337220939446938,0.0337220939446938,0.0337220939446938,0.0337220939446938,0.0337220939446938,0.0337220939446938,0.0337220939446938,0.0337220939446938,0.0337220939446938,0.0337220939446938,0.0337220939446938,0.0337220939446938,0.0337220939446938,0.0337220939446938,0.0337220939446938,0.0337220939446938,0.0337220939446938,0.0337220939446938,0.0337220939446938,0.0337220939446938,0.0337220939446938,0.0337220939446938,0.0337220939446938,0.0337220939446938,0.0337220939446938,0.0337220939446938,0.0337220939446938,0.0337220939446938,0.0337220939446938,0.0337220939446938,0.0337220939446938,0.0337220939446938,0.0337220939446938,0.0337220939446938,0.0337220939446938,0.0337220939446938,0.0337220939446938,0.0337220939446938,0.0337220939446938,0.0337220939446938,0.0337220939446938,0.0337220939446938,0.0337220939446938,0.0337220939446938,0.0337220939446938,0.0337220939446938,0.0337220939446938,0.0337220939446938,0.0337220939446938,0.0337220939446938,0.0337220939446938,0.0337220939446938,0.0337220939446938,0.0337220939446938,0.0337220939446938,0.0337220939446938,0.0337220939446938,0.0337220939446938,0.0337220939446938,0.0337220939446938,0.0337220939446938,0.0337220939446938,0.0337220939446938,0.0337220939446938,0.0337220939446938,0.0337220939446938,0.0337220939446938,0.0337220939446938,0.0337220939446938,0.0337220939446938,0.0337220939446938,0.0337220939446938,0.0337220939446938,0.0337220939446938,0.0337220939446938,0.0337220939446938,0.0337220939446938,0.0337220939446938,0.0337220939446938,0.0337220939446938,0.0337220939446938,0.0337220939446938,0.0337220939446938,0.0337220939446938,0.0337220939446938,0.0337220939446938,0.0337220939446938,0.0337220939446938,0.0337220939446938,0.0337220939446938,0.0337220939446938,0.0337220939446938,0.0337220939446938,0.0337220939446938,0.0337220939446938,0.0337220939446938,0.0337220939446938,0.0337220939446938,0.0337220939446938,0.0337220939446938,0.0337220939446938,0.0337220939446938,0.0337220939446938,0.0337220939446938,0.0337220939446938,0.0337220939446938,0.0337220939446938,0.0337220939446938,0.0337220939446938,0.0337220939446938,0.0337220939446938,0.0337220939446938,0.0337220939446938,0.0337220939446938,0.0337220939446938,0.0337220939446938,0.0337220939446938,0.0337220939446938,0.0337220939446938,0.0337220939446938,0.0337220939446938,0.0337220939446938,0.0337220939446938,0.0337220939446938,0.0337220939446938,0.0337220939446938,0.0337220939446938,0.0337220939446938,0.0337220939446938,0.0337220939446938,0.0337220939446938,0.0337220939446938,0.0337220939446938,0.0337220939446938,0.0337220939446938,0.0337220939446938,0.0337220939446938,0.0337220939446938,0.0337220939446938,0.0337220939446938,0.0337220939446938,0.0337220939446938,0.0337220939446938,0.0337220939446938,0.0337220939446938,0.0337220939446938,0.0337220939446938,0.0337220939446938,0.0337220939446938,0.0337220939446938,0.0337220939446938,0.0337220939446938],\"type\":\"scatter\"},{\"marker\":{\"color\":\"#cccccc\"},\"mode\":\"markers\",\"name\":\"Infeasible Trial\",\"showlegend\":false,\"x\":[],\"y\":[],\"type\":\"scatter\"}],                        {\"title\":{\"text\":\"Optimization History Plot\"},\"xaxis\":{\"title\":{\"text\":\"Trial\"}},\"yaxis\":{\"title\":{\"text\":\"Objective Value\"}},\"template\":{\"data\":{\"histogram2dcontour\":[{\"type\":\"histogram2dcontour\",\"colorbar\":{\"outlinewidth\":0,\"ticks\":\"\"},\"colorscale\":[[0.0,\"#0d0887\"],[0.1111111111111111,\"#46039f\"],[0.2222222222222222,\"#7201a8\"],[0.3333333333333333,\"#9c179e\"],[0.4444444444444444,\"#bd3786\"],[0.5555555555555556,\"#d8576b\"],[0.6666666666666666,\"#ed7953\"],[0.7777777777777778,\"#fb9f3a\"],[0.8888888888888888,\"#fdca26\"],[1.0,\"#f0f921\"]]}],\"choropleth\":[{\"type\":\"choropleth\",\"colorbar\":{\"outlinewidth\":0,\"ticks\":\"\"}}],\"histogram2d\":[{\"type\":\"histogram2d\",\"colorbar\":{\"outlinewidth\":0,\"ticks\":\"\"},\"colorscale\":[[0.0,\"#0d0887\"],[0.1111111111111111,\"#46039f\"],[0.2222222222222222,\"#7201a8\"],[0.3333333333333333,\"#9c179e\"],[0.4444444444444444,\"#bd3786\"],[0.5555555555555556,\"#d8576b\"],[0.6666666666666666,\"#ed7953\"],[0.7777777777777778,\"#fb9f3a\"],[0.8888888888888888,\"#fdca26\"],[1.0,\"#f0f921\"]]}],\"heatmap\":[{\"type\":\"heatmap\",\"colorbar\":{\"outlinewidth\":0,\"ticks\":\"\"},\"colorscale\":[[0.0,\"#0d0887\"],[0.1111111111111111,\"#46039f\"],[0.2222222222222222,\"#7201a8\"],[0.3333333333333333,\"#9c179e\"],[0.4444444444444444,\"#bd3786\"],[0.5555555555555556,\"#d8576b\"],[0.6666666666666666,\"#ed7953\"],[0.7777777777777778,\"#fb9f3a\"],[0.8888888888888888,\"#fdca26\"],[1.0,\"#f0f921\"]]}],\"heatmapgl\":[{\"type\":\"heatmapgl\",\"colorbar\":{\"outlinewidth\":0,\"ticks\":\"\"},\"colorscale\":[[0.0,\"#0d0887\"],[0.1111111111111111,\"#46039f\"],[0.2222222222222222,\"#7201a8\"],[0.3333333333333333,\"#9c179e\"],[0.4444444444444444,\"#bd3786\"],[0.5555555555555556,\"#d8576b\"],[0.6666666666666666,\"#ed7953\"],[0.7777777777777778,\"#fb9f3a\"],[0.8888888888888888,\"#fdca26\"],[1.0,\"#f0f921\"]]}],\"contourcarpet\":[{\"type\":\"contourcarpet\",\"colorbar\":{\"outlinewidth\":0,\"ticks\":\"\"}}],\"contour\":[{\"type\":\"contour\",\"colorbar\":{\"outlinewidth\":0,\"ticks\":\"\"},\"colorscale\":[[0.0,\"#0d0887\"],[0.1111111111111111,\"#46039f\"],[0.2222222222222222,\"#7201a8\"],[0.3333333333333333,\"#9c179e\"],[0.4444444444444444,\"#bd3786\"],[0.5555555555555556,\"#d8576b\"],[0.6666666666666666,\"#ed7953\"],[0.7777777777777778,\"#fb9f3a\"],[0.8888888888888888,\"#fdca26\"],[1.0,\"#f0f921\"]]}],\"surface\":[{\"type\":\"surface\",\"colorbar\":{\"outlinewidth\":0,\"ticks\":\"\"},\"colorscale\":[[0.0,\"#0d0887\"],[0.1111111111111111,\"#46039f\"],[0.2222222222222222,\"#7201a8\"],[0.3333333333333333,\"#9c179e\"],[0.4444444444444444,\"#bd3786\"],[0.5555555555555556,\"#d8576b\"],[0.6666666666666666,\"#ed7953\"],[0.7777777777777778,\"#fb9f3a\"],[0.8888888888888888,\"#fdca26\"],[1.0,\"#f0f921\"]]}],\"mesh3d\":[{\"type\":\"mesh3d\",\"colorbar\":{\"outlinewidth\":0,\"ticks\":\"\"}}],\"scatter\":[{\"fillpattern\":{\"fillmode\":\"overlay\",\"size\":10,\"solidity\":0.2},\"type\":\"scatter\"}],\"parcoords\":[{\"type\":\"parcoords\",\"line\":{\"colorbar\":{\"outlinewidth\":0,\"ticks\":\"\"}}}],\"scatterpolargl\":[{\"type\":\"scatterpolargl\",\"marker\":{\"colorbar\":{\"outlinewidth\":0,\"ticks\":\"\"}}}],\"bar\":[{\"error_x\":{\"color\":\"#2a3f5f\"},\"error_y\":{\"color\":\"#2a3f5f\"},\"marker\":{\"line\":{\"color\":\"#E5ECF6\",\"width\":0.5},\"pattern\":{\"fillmode\":\"overlay\",\"size\":10,\"solidity\":0.2}},\"type\":\"bar\"}],\"scattergeo\":[{\"type\":\"scattergeo\",\"marker\":{\"colorbar\":{\"outlinewidth\":0,\"ticks\":\"\"}}}],\"scatterpolar\":[{\"type\":\"scatterpolar\",\"marker\":{\"colorbar\":{\"outlinewidth\":0,\"ticks\":\"\"}}}],\"histogram\":[{\"marker\":{\"pattern\":{\"fillmode\":\"overlay\",\"size\":10,\"solidity\":0.2}},\"type\":\"histogram\"}],\"scattergl\":[{\"type\":\"scattergl\",\"marker\":{\"colorbar\":{\"outlinewidth\":0,\"ticks\":\"\"}}}],\"scatter3d\":[{\"type\":\"scatter3d\",\"line\":{\"colorbar\":{\"outlinewidth\":0,\"ticks\":\"\"}},\"marker\":{\"colorbar\":{\"outlinewidth\":0,\"ticks\":\"\"}}}],\"scattermapbox\":[{\"type\":\"scattermapbox\",\"marker\":{\"colorbar\":{\"outlinewidth\":0,\"ticks\":\"\"}}}],\"scatterternary\":[{\"type\":\"scatterternary\",\"marker\":{\"colorbar\":{\"outlinewidth\":0,\"ticks\":\"\"}}}],\"scattercarpet\":[{\"type\":\"scattercarpet\",\"marker\":{\"colorbar\":{\"outlinewidth\":0,\"ticks\":\"\"}}}],\"carpet\":[{\"aaxis\":{\"endlinecolor\":\"#2a3f5f\",\"gridcolor\":\"white\",\"linecolor\":\"white\",\"minorgridcolor\":\"white\",\"startlinecolor\":\"#2a3f5f\"},\"baxis\":{\"endlinecolor\":\"#2a3f5f\",\"gridcolor\":\"white\",\"linecolor\":\"white\",\"minorgridcolor\":\"white\",\"startlinecolor\":\"#2a3f5f\"},\"type\":\"carpet\"}],\"table\":[{\"cells\":{\"fill\":{\"color\":\"#EBF0F8\"},\"line\":{\"color\":\"white\"}},\"header\":{\"fill\":{\"color\":\"#C8D4E3\"},\"line\":{\"color\":\"white\"}},\"type\":\"table\"}],\"barpolar\":[{\"marker\":{\"line\":{\"color\":\"#E5ECF6\",\"width\":0.5},\"pattern\":{\"fillmode\":\"overlay\",\"size\":10,\"solidity\":0.2}},\"type\":\"barpolar\"}],\"pie\":[{\"automargin\":true,\"type\":\"pie\"}]},\"layout\":{\"autotypenumbers\":\"strict\",\"colorway\":[\"#636efa\",\"#EF553B\",\"#00cc96\",\"#ab63fa\",\"#FFA15A\",\"#19d3f3\",\"#FF6692\",\"#B6E880\",\"#FF97FF\",\"#FECB52\"],\"font\":{\"color\":\"#2a3f5f\"},\"hovermode\":\"closest\",\"hoverlabel\":{\"align\":\"left\"},\"paper_bgcolor\":\"white\",\"plot_bgcolor\":\"#E5ECF6\",\"polar\":{\"bgcolor\":\"#E5ECF6\",\"angularaxis\":{\"gridcolor\":\"white\",\"linecolor\":\"white\",\"ticks\":\"\"},\"radialaxis\":{\"gridcolor\":\"white\",\"linecolor\":\"white\",\"ticks\":\"\"}},\"ternary\":{\"bgcolor\":\"#E5ECF6\",\"aaxis\":{\"gridcolor\":\"white\",\"linecolor\":\"white\",\"ticks\":\"\"},\"baxis\":{\"gridcolor\":\"white\",\"linecolor\":\"white\",\"ticks\":\"\"},\"caxis\":{\"gridcolor\":\"white\",\"linecolor\":\"white\",\"ticks\":\"\"}},\"coloraxis\":{\"colorbar\":{\"outlinewidth\":0,\"ticks\":\"\"}},\"colorscale\":{\"sequential\":[[0.0,\"#0d0887\"],[0.1111111111111111,\"#46039f\"],[0.2222222222222222,\"#7201a8\"],[0.3333333333333333,\"#9c179e\"],[0.4444444444444444,\"#bd3786\"],[0.5555555555555556,\"#d8576b\"],[0.6666666666666666,\"#ed7953\"],[0.7777777777777778,\"#fb9f3a\"],[0.8888888888888888,\"#fdca26\"],[1.0,\"#f0f921\"]],\"sequentialminus\":[[0.0,\"#0d0887\"],[0.1111111111111111,\"#46039f\"],[0.2222222222222222,\"#7201a8\"],[0.3333333333333333,\"#9c179e\"],[0.4444444444444444,\"#bd3786\"],[0.5555555555555556,\"#d8576b\"],[0.6666666666666666,\"#ed7953\"],[0.7777777777777778,\"#fb9f3a\"],[0.8888888888888888,\"#fdca26\"],[1.0,\"#f0f921\"]],\"diverging\":[[0,\"#8e0152\"],[0.1,\"#c51b7d\"],[0.2,\"#de77ae\"],[0.3,\"#f1b6da\"],[0.4,\"#fde0ef\"],[0.5,\"#f7f7f7\"],[0.6,\"#e6f5d0\"],[0.7,\"#b8e186\"],[0.8,\"#7fbc41\"],[0.9,\"#4d9221\"],[1,\"#276419\"]]},\"xaxis\":{\"gridcolor\":\"white\",\"linecolor\":\"white\",\"ticks\":\"\",\"title\":{\"standoff\":15},\"zerolinecolor\":\"white\",\"automargin\":true,\"zerolinewidth\":2},\"yaxis\":{\"gridcolor\":\"white\",\"linecolor\":\"white\",\"ticks\":\"\",\"title\":{\"standoff\":15},\"zerolinecolor\":\"white\",\"automargin\":true,\"zerolinewidth\":2},\"scene\":{\"xaxis\":{\"backgroundcolor\":\"#E5ECF6\",\"gridcolor\":\"white\",\"linecolor\":\"white\",\"showbackground\":true,\"ticks\":\"\",\"zerolinecolor\":\"white\",\"gridwidth\":2},\"yaxis\":{\"backgroundcolor\":\"#E5ECF6\",\"gridcolor\":\"white\",\"linecolor\":\"white\",\"showbackground\":true,\"ticks\":\"\",\"zerolinecolor\":\"white\",\"gridwidth\":2},\"zaxis\":{\"backgroundcolor\":\"#E5ECF6\",\"gridcolor\":\"white\",\"linecolor\":\"white\",\"showbackground\":true,\"ticks\":\"\",\"zerolinecolor\":\"white\",\"gridwidth\":2}},\"shapedefaults\":{\"line\":{\"color\":\"#2a3f5f\"}},\"annotationdefaults\":{\"arrowcolor\":\"#2a3f5f\",\"arrowhead\":0,\"arrowwidth\":1},\"geo\":{\"bgcolor\":\"white\",\"landcolor\":\"#E5ECF6\",\"subunitcolor\":\"white\",\"showland\":true,\"showlakes\":true,\"lakecolor\":\"white\"},\"title\":{\"x\":0.05},\"mapbox\":{\"style\":\"light\"}}}},                        {\"responsive\": true}                    ).then(function(){\n",
       "                            \n",
       "var gd = document.getElementById('b926fa39-7c16-4c9d-9012-ceed1c655275');\n",
       "var x = new MutationObserver(function (mutations, observer) {{\n",
       "        var display = window.getComputedStyle(gd).display;\n",
       "        if (!display || display === 'none') {{\n",
       "            console.log([gd, 'removed!']);\n",
       "            Plotly.purge(gd);\n",
       "            observer.disconnect();\n",
       "        }}\n",
       "}});\n",
       "\n",
       "// Listen for the removal of the full notebook cells\n",
       "var notebookContainer = gd.closest('#notebook-container');\n",
       "if (notebookContainer) {{\n",
       "    x.observe(notebookContainer, {childList: true});\n",
       "}}\n",
       "\n",
       "// Listen for the clearing of the current output cell\n",
       "var outputEl = gd.closest('.output');\n",
       "if (outputEl) {{\n",
       "    x.observe(outputEl, {childList: true});\n",
       "}}\n",
       "\n",
       "                        })                };                });            </script>        </div>"
      ]
     },
     "metadata": {},
     "output_type": "display_data"
    }
   ],
   "source": [
    "if config['tune_parameters']:\n",
    "    fig = optuna.visualization.plot_optimization_history(study)\n",
    "    fig.show()"
   ]
  },
  {
   "cell_type": "code",
   "execution_count": 17,
   "id": "28d51abb",
   "metadata": {
    "execution": {
     "iopub.execute_input": "2023-12-01T16:19:30.242973Z",
     "iopub.status.busy": "2023-12-01T16:19:30.242284Z",
     "iopub.status.idle": "2023-12-01T16:19:43.194504Z",
     "shell.execute_reply": "2023-12-01T16:19:43.193557Z"
    },
    "papermill": {
     "duration": 13.036163,
     "end_time": "2023-12-01T16:19:43.196647",
     "exception": false,
     "start_time": "2023-12-01T16:19:30.160484",
     "status": "completed"
    },
    "tags": []
   },
   "outputs": [
    {
     "data": {
      "text/html": [
       "<div>                            <div id=\"e34d08be-2bd0-46b2-a171-088ee441ac1b\" class=\"plotly-graph-div\" style=\"height:525px; width:100%;\"></div>            <script type=\"text/javascript\">                require([\"plotly\"], function(Plotly) {                    window.PLOTLYENV=window.PLOTLYENV || {};                                    if (document.getElementById(\"e34d08be-2bd0-46b2-a171-088ee441ac1b\")) {                    Plotly.newPlot(                        \"e34d08be-2bd0-46b2-a171-088ee441ac1b\",                        [{\"cliponaxis\":false,\"hovertemplate\":[\"topK (IntDistribution): 0.17804203952019224\\u003cextra\\u003e\\u003c\\u002fextra\\u003e\",\"num_factors (IntDistribution): 0.8219579604798077\\u003cextra\\u003e\\u003c\\u002fextra\\u003e\"],\"name\":\"Objective Value\",\"orientation\":\"h\",\"text\":[\"0.18\",\"0.82\"],\"textposition\":\"outside\",\"x\":[0.17804203952019224,0.8219579604798077],\"y\":[\"topK\",\"num_factors\"],\"type\":\"bar\"}],                        {\"title\":{\"text\":\"Hyperparameter Importances\"},\"xaxis\":{\"title\":{\"text\":\"Hyperparameter Importance\"}},\"yaxis\":{\"title\":{\"text\":\"Hyperparameter\"}},\"template\":{\"data\":{\"histogram2dcontour\":[{\"type\":\"histogram2dcontour\",\"colorbar\":{\"outlinewidth\":0,\"ticks\":\"\"},\"colorscale\":[[0.0,\"#0d0887\"],[0.1111111111111111,\"#46039f\"],[0.2222222222222222,\"#7201a8\"],[0.3333333333333333,\"#9c179e\"],[0.4444444444444444,\"#bd3786\"],[0.5555555555555556,\"#d8576b\"],[0.6666666666666666,\"#ed7953\"],[0.7777777777777778,\"#fb9f3a\"],[0.8888888888888888,\"#fdca26\"],[1.0,\"#f0f921\"]]}],\"choropleth\":[{\"type\":\"choropleth\",\"colorbar\":{\"outlinewidth\":0,\"ticks\":\"\"}}],\"histogram2d\":[{\"type\":\"histogram2d\",\"colorbar\":{\"outlinewidth\":0,\"ticks\":\"\"},\"colorscale\":[[0.0,\"#0d0887\"],[0.1111111111111111,\"#46039f\"],[0.2222222222222222,\"#7201a8\"],[0.3333333333333333,\"#9c179e\"],[0.4444444444444444,\"#bd3786\"],[0.5555555555555556,\"#d8576b\"],[0.6666666666666666,\"#ed7953\"],[0.7777777777777778,\"#fb9f3a\"],[0.8888888888888888,\"#fdca26\"],[1.0,\"#f0f921\"]]}],\"heatmap\":[{\"type\":\"heatmap\",\"colorbar\":{\"outlinewidth\":0,\"ticks\":\"\"},\"colorscale\":[[0.0,\"#0d0887\"],[0.1111111111111111,\"#46039f\"],[0.2222222222222222,\"#7201a8\"],[0.3333333333333333,\"#9c179e\"],[0.4444444444444444,\"#bd3786\"],[0.5555555555555556,\"#d8576b\"],[0.6666666666666666,\"#ed7953\"],[0.7777777777777778,\"#fb9f3a\"],[0.8888888888888888,\"#fdca26\"],[1.0,\"#f0f921\"]]}],\"heatmapgl\":[{\"type\":\"heatmapgl\",\"colorbar\":{\"outlinewidth\":0,\"ticks\":\"\"},\"colorscale\":[[0.0,\"#0d0887\"],[0.1111111111111111,\"#46039f\"],[0.2222222222222222,\"#7201a8\"],[0.3333333333333333,\"#9c179e\"],[0.4444444444444444,\"#bd3786\"],[0.5555555555555556,\"#d8576b\"],[0.6666666666666666,\"#ed7953\"],[0.7777777777777778,\"#fb9f3a\"],[0.8888888888888888,\"#fdca26\"],[1.0,\"#f0f921\"]]}],\"contourcarpet\":[{\"type\":\"contourcarpet\",\"colorbar\":{\"outlinewidth\":0,\"ticks\":\"\"}}],\"contour\":[{\"type\":\"contour\",\"colorbar\":{\"outlinewidth\":0,\"ticks\":\"\"},\"colorscale\":[[0.0,\"#0d0887\"],[0.1111111111111111,\"#46039f\"],[0.2222222222222222,\"#7201a8\"],[0.3333333333333333,\"#9c179e\"],[0.4444444444444444,\"#bd3786\"],[0.5555555555555556,\"#d8576b\"],[0.6666666666666666,\"#ed7953\"],[0.7777777777777778,\"#fb9f3a\"],[0.8888888888888888,\"#fdca26\"],[1.0,\"#f0f921\"]]}],\"surface\":[{\"type\":\"surface\",\"colorbar\":{\"outlinewidth\":0,\"ticks\":\"\"},\"colorscale\":[[0.0,\"#0d0887\"],[0.1111111111111111,\"#46039f\"],[0.2222222222222222,\"#7201a8\"],[0.3333333333333333,\"#9c179e\"],[0.4444444444444444,\"#bd3786\"],[0.5555555555555556,\"#d8576b\"],[0.6666666666666666,\"#ed7953\"],[0.7777777777777778,\"#fb9f3a\"],[0.8888888888888888,\"#fdca26\"],[1.0,\"#f0f921\"]]}],\"mesh3d\":[{\"type\":\"mesh3d\",\"colorbar\":{\"outlinewidth\":0,\"ticks\":\"\"}}],\"scatter\":[{\"fillpattern\":{\"fillmode\":\"overlay\",\"size\":10,\"solidity\":0.2},\"type\":\"scatter\"}],\"parcoords\":[{\"type\":\"parcoords\",\"line\":{\"colorbar\":{\"outlinewidth\":0,\"ticks\":\"\"}}}],\"scatterpolargl\":[{\"type\":\"scatterpolargl\",\"marker\":{\"colorbar\":{\"outlinewidth\":0,\"ticks\":\"\"}}}],\"bar\":[{\"error_x\":{\"color\":\"#2a3f5f\"},\"error_y\":{\"color\":\"#2a3f5f\"},\"marker\":{\"line\":{\"color\":\"#E5ECF6\",\"width\":0.5},\"pattern\":{\"fillmode\":\"overlay\",\"size\":10,\"solidity\":0.2}},\"type\":\"bar\"}],\"scattergeo\":[{\"type\":\"scattergeo\",\"marker\":{\"colorbar\":{\"outlinewidth\":0,\"ticks\":\"\"}}}],\"scatterpolar\":[{\"type\":\"scatterpolar\",\"marker\":{\"colorbar\":{\"outlinewidth\":0,\"ticks\":\"\"}}}],\"histogram\":[{\"marker\":{\"pattern\":{\"fillmode\":\"overlay\",\"size\":10,\"solidity\":0.2}},\"type\":\"histogram\"}],\"scattergl\":[{\"type\":\"scattergl\",\"marker\":{\"colorbar\":{\"outlinewidth\":0,\"ticks\":\"\"}}}],\"scatter3d\":[{\"type\":\"scatter3d\",\"line\":{\"colorbar\":{\"outlinewidth\":0,\"ticks\":\"\"}},\"marker\":{\"colorbar\":{\"outlinewidth\":0,\"ticks\":\"\"}}}],\"scattermapbox\":[{\"type\":\"scattermapbox\",\"marker\":{\"colorbar\":{\"outlinewidth\":0,\"ticks\":\"\"}}}],\"scatterternary\":[{\"type\":\"scatterternary\",\"marker\":{\"colorbar\":{\"outlinewidth\":0,\"ticks\":\"\"}}}],\"scattercarpet\":[{\"type\":\"scattercarpet\",\"marker\":{\"colorbar\":{\"outlinewidth\":0,\"ticks\":\"\"}}}],\"carpet\":[{\"aaxis\":{\"endlinecolor\":\"#2a3f5f\",\"gridcolor\":\"white\",\"linecolor\":\"white\",\"minorgridcolor\":\"white\",\"startlinecolor\":\"#2a3f5f\"},\"baxis\":{\"endlinecolor\":\"#2a3f5f\",\"gridcolor\":\"white\",\"linecolor\":\"white\",\"minorgridcolor\":\"white\",\"startlinecolor\":\"#2a3f5f\"},\"type\":\"carpet\"}],\"table\":[{\"cells\":{\"fill\":{\"color\":\"#EBF0F8\"},\"line\":{\"color\":\"white\"}},\"header\":{\"fill\":{\"color\":\"#C8D4E3\"},\"line\":{\"color\":\"white\"}},\"type\":\"table\"}],\"barpolar\":[{\"marker\":{\"line\":{\"color\":\"#E5ECF6\",\"width\":0.5},\"pattern\":{\"fillmode\":\"overlay\",\"size\":10,\"solidity\":0.2}},\"type\":\"barpolar\"}],\"pie\":[{\"automargin\":true,\"type\":\"pie\"}]},\"layout\":{\"autotypenumbers\":\"strict\",\"colorway\":[\"#636efa\",\"#EF553B\",\"#00cc96\",\"#ab63fa\",\"#FFA15A\",\"#19d3f3\",\"#FF6692\",\"#B6E880\",\"#FF97FF\",\"#FECB52\"],\"font\":{\"color\":\"#2a3f5f\"},\"hovermode\":\"closest\",\"hoverlabel\":{\"align\":\"left\"},\"paper_bgcolor\":\"white\",\"plot_bgcolor\":\"#E5ECF6\",\"polar\":{\"bgcolor\":\"#E5ECF6\",\"angularaxis\":{\"gridcolor\":\"white\",\"linecolor\":\"white\",\"ticks\":\"\"},\"radialaxis\":{\"gridcolor\":\"white\",\"linecolor\":\"white\",\"ticks\":\"\"}},\"ternary\":{\"bgcolor\":\"#E5ECF6\",\"aaxis\":{\"gridcolor\":\"white\",\"linecolor\":\"white\",\"ticks\":\"\"},\"baxis\":{\"gridcolor\":\"white\",\"linecolor\":\"white\",\"ticks\":\"\"},\"caxis\":{\"gridcolor\":\"white\",\"linecolor\":\"white\",\"ticks\":\"\"}},\"coloraxis\":{\"colorbar\":{\"outlinewidth\":0,\"ticks\":\"\"}},\"colorscale\":{\"sequential\":[[0.0,\"#0d0887\"],[0.1111111111111111,\"#46039f\"],[0.2222222222222222,\"#7201a8\"],[0.3333333333333333,\"#9c179e\"],[0.4444444444444444,\"#bd3786\"],[0.5555555555555556,\"#d8576b\"],[0.6666666666666666,\"#ed7953\"],[0.7777777777777778,\"#fb9f3a\"],[0.8888888888888888,\"#fdca26\"],[1.0,\"#f0f921\"]],\"sequentialminus\":[[0.0,\"#0d0887\"],[0.1111111111111111,\"#46039f\"],[0.2222222222222222,\"#7201a8\"],[0.3333333333333333,\"#9c179e\"],[0.4444444444444444,\"#bd3786\"],[0.5555555555555556,\"#d8576b\"],[0.6666666666666666,\"#ed7953\"],[0.7777777777777778,\"#fb9f3a\"],[0.8888888888888888,\"#fdca26\"],[1.0,\"#f0f921\"]],\"diverging\":[[0,\"#8e0152\"],[0.1,\"#c51b7d\"],[0.2,\"#de77ae\"],[0.3,\"#f1b6da\"],[0.4,\"#fde0ef\"],[0.5,\"#f7f7f7\"],[0.6,\"#e6f5d0\"],[0.7,\"#b8e186\"],[0.8,\"#7fbc41\"],[0.9,\"#4d9221\"],[1,\"#276419\"]]},\"xaxis\":{\"gridcolor\":\"white\",\"linecolor\":\"white\",\"ticks\":\"\",\"title\":{\"standoff\":15},\"zerolinecolor\":\"white\",\"automargin\":true,\"zerolinewidth\":2},\"yaxis\":{\"gridcolor\":\"white\",\"linecolor\":\"white\",\"ticks\":\"\",\"title\":{\"standoff\":15},\"zerolinecolor\":\"white\",\"automargin\":true,\"zerolinewidth\":2},\"scene\":{\"xaxis\":{\"backgroundcolor\":\"#E5ECF6\",\"gridcolor\":\"white\",\"linecolor\":\"white\",\"showbackground\":true,\"ticks\":\"\",\"zerolinecolor\":\"white\",\"gridwidth\":2},\"yaxis\":{\"backgroundcolor\":\"#E5ECF6\",\"gridcolor\":\"white\",\"linecolor\":\"white\",\"showbackground\":true,\"ticks\":\"\",\"zerolinecolor\":\"white\",\"gridwidth\":2},\"zaxis\":{\"backgroundcolor\":\"#E5ECF6\",\"gridcolor\":\"white\",\"linecolor\":\"white\",\"showbackground\":true,\"ticks\":\"\",\"zerolinecolor\":\"white\",\"gridwidth\":2}},\"shapedefaults\":{\"line\":{\"color\":\"#2a3f5f\"}},\"annotationdefaults\":{\"arrowcolor\":\"#2a3f5f\",\"arrowhead\":0,\"arrowwidth\":1},\"geo\":{\"bgcolor\":\"white\",\"landcolor\":\"#E5ECF6\",\"subunitcolor\":\"white\",\"showland\":true,\"showlakes\":true,\"lakecolor\":\"white\"},\"title\":{\"x\":0.05},\"mapbox\":{\"style\":\"light\"}}}},                        {\"responsive\": true}                    ).then(function(){\n",
       "                            \n",
       "var gd = document.getElementById('e34d08be-2bd0-46b2-a171-088ee441ac1b');\n",
       "var x = new MutationObserver(function (mutations, observer) {{\n",
       "        var display = window.getComputedStyle(gd).display;\n",
       "        if (!display || display === 'none') {{\n",
       "            console.log([gd, 'removed!']);\n",
       "            Plotly.purge(gd);\n",
       "            observer.disconnect();\n",
       "        }}\n",
       "}});\n",
       "\n",
       "// Listen for the removal of the full notebook cells\n",
       "var notebookContainer = gd.closest('#notebook-container');\n",
       "if (notebookContainer) {{\n",
       "    x.observe(notebookContainer, {childList: true});\n",
       "}}\n",
       "\n",
       "// Listen for the clearing of the current output cell\n",
       "var outputEl = gd.closest('.output');\n",
       "if (outputEl) {{\n",
       "    x.observe(outputEl, {childList: true});\n",
       "}}\n",
       "\n",
       "                        })                };                });            </script>        </div>"
      ]
     },
     "metadata": {},
     "output_type": "display_data"
    }
   ],
   "source": [
    "if config['tune_parameters']:\n",
    "    fig = optuna.visualization.plot_param_importances(study)\n",
    "    fig.show()"
   ]
  },
  {
   "cell_type": "code",
   "execution_count": 18,
   "id": "ee622749",
   "metadata": {
    "execution": {
     "iopub.execute_input": "2023-12-01T16:19:43.365762Z",
     "iopub.status.busy": "2023-12-01T16:19:43.364701Z",
     "iopub.status.idle": "2023-12-01T16:19:43.690562Z",
     "shell.execute_reply": "2023-12-01T16:19:43.689314Z"
    },
    "papermill": {
     "duration": 0.412867,
     "end_time": "2023-12-01T16:19:43.692453",
     "exception": false,
     "start_time": "2023-12-01T16:19:43.279586",
     "status": "completed"
    },
    "tags": []
   },
   "outputs": [
    {
     "data": {
      "text/html": [
       "<div>                            <div id=\"424e12fb-66b8-4773-910d-3be515a7bab6\" class=\"plotly-graph-div\" style=\"height:525px; width:100%;\"></div>            <script type=\"text/javascript\">                require([\"plotly\"], function(Plotly) {                    window.PLOTLYENV=window.PLOTLYENV || {};                                    if (document.getElementById(\"424e12fb-66b8-4773-910d-3be515a7bab6\")) {                    Plotly.newPlot(                        \"424e12fb-66b8-4773-910d-3be515a7bab6\",                        [{\"marker\":{\"color\":[0,1,2,3,4,5,6,7,8,9,10,11,12,13,14,15,16,17,18,19,20,21,22,23,24,25,26,27,28,29,30,31,32,33,34,35,36,37,38,39,40,41,42,43,44,45,46,47,48,49,50,51,52,53,54,55,56,57,58,59,60,61,62,63,64,65,66,67,68,69,70,71,72,73,74,75,76,77,78,79,80,81,82,83,84,85,86,87,88,89,90,91,92,93,94,95,96,97,98,99,100,101,102,103,104,105,106,107,108,109,110,111,112,113,114,115,116,117,118,119,120,121,122,123,124,125,126,127,128,129,130,131,132,133,134,135,136,137,138,139,140,141,142,143,144,145,146,147,148,149,150,151,152,153,154,155,156,157,158,159,160,161,162,163,164,165,166,167,168,169,170,171,172,173,174,175,176,177,178,179,180,181,182,183,184,185,186,187,188,189,190,191,192,193,194,195,196,197,198,199,200,201,202,203,204,205,206,207,208,209,210,211,212,213,214,215,216,217,218,219,220,221,222,223,224,225,226,227,228,229,230,231,232,233,234,235,236,237,238,239,240,241,242,243,244,245,246,247,248,249,250,251,252,253,254,255,256,257,258,259,260,261,262,263,264,265,266,267,268,269,270,271,272,273,274,275,276,277,278,279,280,281,282,283,284,285,286,287,288,289,290,291,292,293,294,295,296,297,298,299,300,301,302,303,304,305,306,307,308,309,310,311,312,313,314,315,316,317,318,319,320,321,322,323,324,325,326,327,328,329,330,331,332,333,334,335,336,337,338,339,340,341,342,343,344,345,346,347,348,349,350,351,352,353,354,355,356,357,358,359,360,361,362,363,364,365,366,367,368,369,370,371,372,373,374,375,376,377,378,379,380,381,382,383,384,385,386,387,388,389,390,391,392,393,394,395,396,397,398,399,400,401,402,403,404,405,406,407,408,409,410,411,412,413,414,415,416,417,418,419,420,421,422,423,424,425,426,427,428,429,430,431,432,433,434,435,436,437,438,439,440,441,442,443,444,445,446,447,448,449,450,451,452,453,454,455,456,457,458,459,460,461,462,463,464,465,466,467,468,469,470,471,472,473,474,475,476,477,478,479,480,481,482,483,484,485,486,487,488,489,490,491,492,493,494,495,496,497,498,499],\"colorbar\":{\"title\":{\"text\":\"Trial\"},\"x\":1.0,\"xpad\":40},\"colorscale\":[[0.0,\"rgb(247,251,255)\"],[0.125,\"rgb(222,235,247)\"],[0.25,\"rgb(198,219,239)\"],[0.375,\"rgb(158,202,225)\"],[0.5,\"rgb(107,174,214)\"],[0.625,\"rgb(66,146,198)\"],[0.75,\"rgb(33,113,181)\"],[0.875,\"rgb(8,81,156)\"],[1.0,\"rgb(8,48,107)\"]],\"line\":{\"color\":\"Grey\",\"width\":0.5},\"showscale\":true},\"mode\":\"markers\",\"name\":\"Feasible Trial\",\"showlegend\":false,\"x\":[116,601,16,1,1,6,3,1,7,259,94,736,81,774,136,43,191,32,269,78,22,264,160,350,178,156,51,137,443,989,132,169,492,177,62,93,124,482,350,65,36,159,202,234,98,115,214,604,301,207,74,153,180,110,347,214,91,56,259,149,46,203,194,120,365,281,168,83,127,118,144,148,77,178,146,287,98,240,64,410,140,114,171,179,221,304,102,150,247,88,138,168,151,204,141,110,231,241,74,313,210,206,148,258,125,190,222,405,100,162,128,160,196,149,273,330,88,111,138,234,184,144,149,161,125,104,160,215,284,190,367,158,119,220,259,184,94,137,74,177,182,183,132,229,167,126,196,306,138,251,111,154,156,196,135,131,154,102,511,217,86,176,138,117,148,129,170,104,204,233,253,143,194,142,203,166,123,11,275,90,56,151,140,116,173,178,173,167,214,139,108,138,130,28,183,197,142,235,183,129,96,159,169,137,189,107,228,328,153,121,117,143,43,175,207,254,204,278,129,190,75,138,145,170,110,2,215,129,149,902,179,164,152,129,209,657,179,124,152,96,231,153,168,143,193,108,120,159,15,136,193,231,164,144,116,184,274,84,210,134,63,130,109,365,140,174,103,36,241,150,310,195,152,414,167,206,137,94,242,178,50,123,155,6,150,135,118,69,498,159,87,216,135,171,275,186,24,168,210,164,183,250,878,19,690,1,154,312,219,176,116,199,157,43,104,246,545,130,168,196,144,80,144,32,112,132,98,130,143,117,156,803,126,98,148,177,120,157,199,10,4,170,367,156,63,205,80,138,54,233,423,280,106,156,186,159,156,174,122,24,220,140,137,93,109,573,131,159,150,957,2,626,43,116,184,130,172,93,148,195,116,157,135,218,174,14,77,331,105,69,249,39,142,191,124,164,145,104,289,52,459,219,251,213,746,198,233,8,86,180,21,122,279,177,212,140,58,38,170,119,186,156,320,365,14,103,145,222,193,758,149,259,4,465,167,133,11,608,202,117,93,67,166,19,142,1,33,530,241,186,127,155,105,212,402,2,173,141,82,287,116,187,16,50,156,32,220,134,171,252,835,114,26,147,26,193,127,94,161,209,142,178,300,242,125,108,939,21,44,156,188,66,136,231,12,5,98,346,75,164],\"y\":[0.032855450200993695,0.03217469881347108,0.02443845942483089,0.003056629595219885,0.003056629595219885,0.021065690239370424,0.016462143707266116,0.009889798976208671,0.018580920349522103,0.008368309833497243,0.031610300457852306,0.03167575235909235,0.03181086882598008,0.0315571335968719,0.03337186592948863,0.03044037903353152,0.03143206300627897,0.0296017248393877,0.03279836290547862,0.028398075533452413,0.02755496957773181,0.03297642577816665,0.033463595748169574,0.031892435117378,0.033364146506600946,0.03336624524841854,0.030869622970330905,0.033114642917866255,0.03240168931637974,0.030739113867939677,0.03310675650647944,0.03328582131016179,0.03201061743238502,0.03322006579346897,0.031605727250094376,0.03225867884771894,0.03322798636159411,0.032235941845496385,0.03300422177287147,0.030513322646069596,0.030340903225610786,0.03289900004250654,0.03333655924751971,0.03287655527015729,0.03276111308461186,0.03308379558786065,0.033026226302814224,0.0318275259287599,0.033060569005720325,0.03297782999963595,0.031496311831287205,0.033215393910688756,0.0333457891572852,0.03305369211571419,0.032633875438724605,0.03314250343085487,0.032892829058427976,0.031063640835064115,0.03260840210223359,0.03327718724572237,0.031022656544127714,0.033301032444347636,0.03325856043769235,0.03282337322840413,0.03251881656768819,0.03300934907883092,0.033174614560183,0.031941195759099594,0.03330215582152306,0.033182333983070876,0.03336579362043238,0.03346579696020239,0.03175132224529736,0.0330305224614715,0.03316175644575641,0.03275192871716427,0.03236606004299213,0.0332291173291558,0.03163328035243709,0.032052322810022,0.03321013756816196,0.03300342098711486,0.033322725768451036,0.0331293834481003,0.033035664948203466,0.03296981075648856,0.032779550132983865,0.033517608937224885,0.03308708222513715,0.03210975167292137,0.03321967868376658,0.03333493490484712,0.03352021243973271,0.03349611675835879,0.03331010295600042,0.03319699101905519,0.03344648322221034,0.033075992670723205,0.03161615644089844,0.032639663108293894,0.03347181234136118,0.03322246056035294,0.03335201706926106,0.03309732924666955,0.03319786770867532,0.03303305385530925,0.033226240572740505,0.03273918066333926,0.033067415534181334,0.03309590604923461,0.03321849458350065,0.03331977310817239,0.033129345496168604,0.03372004833558052,0.032984851106982106,0.032912939786983626,0.0323862656513769,0.032941513796286466,0.03321633132339934,0.03320420568125267,0.033256617298794325,0.03332319637240286,0.033393452988183636,0.03342058861927879,0.03329778375900266,0.033084577397651534,0.03327434464604538,0.033243588400675456,0.03301120492828633,0.03304259497091395,0.03238726758237114,0.03329419350627299,0.03326823058986448,0.03320477496022678,0.03286610710338736,0.03343129485918347,0.032236264436915074,0.03343464601474404,0.03174890850244735,0.03348980914732667,0.033379186857094505,0.033076763094934805,0.03341834186492791,0.03317671330200048,0.0332014541662115,0.03292714139978888,0.03324477629613468,0.0324863562805895,0.03334418758577174,0.033098816962388394,0.03298406929719139,0.033418990842958206,0.03295702854592529,0.03330208371285294,0.033492640361424214,0.03320198549325406,0.03293252677888317,0.03276176585783536,0.032784738162033776,0.03337776365965955,0.03226865641053689,0.03321242606963753,0.033433351853876275,0.03323740603101763,0.03332920416317542,0.0331478394724381,0.03304942631860221,0.03277966778397177,0.03340255765657469,0.03308000418989352,0.0330574038146248,0.033517973275768206,0.03314307270982896,0.033201875432652274,0.03315364611797314,0.03317264105973966,0.03314552819980359,0.023292303500078985,0.03266225968836932,0.032624243238484174,0.031232822955757338,0.03316346428267839,0.033536675987661455,0.03286663843042992,0.03344591773842955,0.03368262014063505,0.03320063819968217,0.03323203962788921,0.033000802303834384,0.03352630751994792,0.03303871248831116,0.03344217188278047,0.033245971781980084,0.029112277753488673,0.033545412522316166,0.03334835850305467,0.03332487764297283,0.03287297260781406,0.03341030364581453,0.03314813549750468,0.032714075460584975,0.03320614502495757,0.033336714850439327,0.033319537806196495,0.03328476245126997,0.03291397587471642,0.03324390719690101,0.03280537642243864,0.03328581751496853,0.03342507833278719,0.033283673230833186,0.03311404327734703,0.030300101103946007,0.03327848899697627,0.03352046292248115,0.03306831499496022,0.03332948121227607,0.03290851079656568,0.033391008883788334,0.033319321480186286,0.031908720291228175,0.03346339839812527,0.033414668117948805,0.009997058725300814,0.03335536063443516,0.012877227019346326,0.03323453686498859,0.03341696041461759,0.0333495198321617,0.03253314342186784,0.027096927715233077,0.032997576389648196,0.0331115118835091,0.033099606362565766,0.03327696332932587,0.03268358867392944,0.03319593595535673,0.033094228573857846,0.03325038559162535,0.032868976269416476,0.03313076489841049,0.0335458337887568,0.033413525764807626,0.03325667422669177,0.03339859167972247,0.03288799018714883,0.033016590307380654,0.0331566860676944,0.024959509084174446,0.03326147135084626,0.03318484260574955,0.03306124075490968,0.033323090106994274,0.033374480817575894,0.03330025442974981,0.03341570420568158,0.03320046741598982,0.03231948163733767,0.033391354246366106,0.03354065335009318,0.031206966304757278,0.03330793590070597,0.033319454311946904,0.032959427108002426,0.03318838352096803,0.032981219107127965,0.03294930153265103,0.030423915485602762,0.032895967683171504,0.03359183532505098,0.032801702675459635,0.03317580625083525,0.03328059532918017,0.03250379898835358,0.03328193882755895,0.03332829711201016,0.033086645777923814,0.032491274850925046,0.03325949785040295,0.03335813871582829,0.03105911316962408,0.03302249942313092,0.033613615938597116,0.020780659847463606,0.033311939829489885,0.03362485350554433,0.033397995834396295,0.03154324318990573,0.03280426063564952,0.03310866928383213,0.032693319549192,0.0332744850681924,0.03338834086299694,0.0337220939446938,0.03308530607473829,0.03327476591248621,0.028525434625520842,0.03361972999477811,0.03335404370240846,0.033418709998664406,0.03331249013249808,0.032951563467774524,0.032641704922213945,0.02697485153204373,0.032600804125527016,0.01059721918606767,0.033359971794124775,0.033072576996879106,0.032323910627755574,0.03318078933945453,0.033050265056290544,0.0330738483865877,0.03307124488407991,0.022216950698922686,0.033049118907956296,0.03317799228209537,0.03270826881504984,0.03339639426288281,0.033193328657655674,0.033054481515891534,0.03359724727049739,0.03196590626176549,0.03328224244301168,0.02994411957591013,0.03318119162992947,0.03349143348999928,0.032638209549313464,0.03213849646591642,0.0332310414920881,0.033170709306421166,0.03185567867162204,0.0326804310732201,0.03316621959291271,0.032517723552058155,0.03310308655469369,0.03317988987867555,0.03323533385555223,0.033486784378378084,0.03281837875420526,0.023000035674815733,0.018363808734409386,0.033338270879634924,0.03290871953218947,0.033244544789351904,0.03132833658201895,0.03316520627633891,0.031796773478583215,0.0333295305497872,0.030813609714480158,0.03314328903583906,0.03217463049999418,0.03296482766786923,0.03231414180056138,0.03352365467992884,0.0334201825336105,0.0336148190148289,0.033259771104310436,0.03303257186577792,0.033144476931298086,0.028348347117475033,0.03315675438117127,0.03349651525364067,0.033193453899029945,0.032546092620930236,0.033056124834529764,0.032916780522461705,0.02958989142711427,0.03345071486258402,0.03346289363743492,0.032660532875481436,0.01254781563862467,0.03299904512940125,0.03076590793165033,0.03314213529711835,0.03210541756233252,0.03319922259263334,0.03305955568914657,0.03251820933678267,0.010369351993538998,0.03347324692437578,0.033253577349073096,0.03342171958684047,0.03298627050922404,0.03308217504038117,0.0333376522631499,0.02430097096221816,0.03176460162616468,0.03285576520202596,0.03317330521854272,0.030763076717552764,0.0331091095262387,0.02985470482505693,0.03313098501961375,0.033366757599495075,0.0323652782332012,0.03300258224942661,0.033465182138910435,0.03286419053084154,0.030325399861551642,0.031147431109654043,0.03251485059083588,0.0335033693724879,0.03312221432822077,0.03303949809329526,0.032565672022443495,0.022484701576371474,0.03309237651959559,0.021986749462600635,0.03126609161899923,0.03353528315177162,0.027938105712828523,0.031717192073208146,0.03297304046586777,0.033392485213927715,0.0332584238107386,0.03340414784250894,0.031137142340996824,0.030273656198006135,0.03344147356723901,0.03310002762900648,0.03345715151018361,0.03319287323447647,0.03261785972358874,0.032444605360634676,0.024151296134368117,0.032952519856450826,0.03361369563765351,0.03305044722556227,0.03317708523093026,0.032421621670856694,0.033288667705031846,0.03317067135448956,0.018221500376483124,0.03263405001760989,0.03335187664711412,0.0332915103047088,0.023528129212664457,0.03282567691065233,0.03284134346801751,0.03317609089032225,0.032370963432555036,0.031304582468029536,0.03306478926051443,0.027383571064233034,0.033319222805164146,0.010919924460475317,0.02981740187148581,0.032868274158681786,0.033351903213466316,0.0331026539026733,0.03253437685964496,0.03320389447541359,0.033181950668561555,0.03224178264776999,0.03262226594284773,0.012600762378401936,0.03317921053909992,0.03268812772494901,0.03181327118325034,0.022067256895106975,0.03313873100885376,0.03312713669374955,0.02510052707642612,0.031154099264036304,0.03322985739182208,0.02661560993308327,0.03310016425596028,0.03345178890224837,0.03348706522267186,0.03276883630269263,0.03267507605567114,0.03319385998469813,0.028555181349510187,0.033262196232739794,0.029169194265311567,0.03309611478485844,0.03341063762281274,0.01122920613667546,0.03319983741392538,0.03317448552361546,0.03316702796905585,0.03322180778712946,0.032993504147387324,0.03265179254563377,0.033262158280808224,0.03180805279265518,0.03167603320338623,0.02773966265287053,0.03063113303214702,0.03328992011877472,0.03346974775628205,0.03125368133736558,0.03324749365443735,0.03282738474757432,0.023549435427065515,0.01844800129947408,0.03273624697902654,0.032762866463851806,0.03172739355242251,0.03346396767709925],\"type\":\"scatter\",\"xaxis\":\"x\",\"yaxis\":\"y\"},{\"marker\":{\"color\":[0,1,2,3,4,5,6,7,8,9,10,11,12,13,14,15,16,17,18,19,20,21,22,23,24,25,26,27,28,29,30,31,32,33,34,35,36,37,38,39,40,41,42,43,44,45,46,47,48,49,50,51,52,53,54,55,56,57,58,59,60,61,62,63,64,65,66,67,68,69,70,71,72,73,74,75,76,77,78,79,80,81,82,83,84,85,86,87,88,89,90,91,92,93,94,95,96,97,98,99,100,101,102,103,104,105,106,107,108,109,110,111,112,113,114,115,116,117,118,119,120,121,122,123,124,125,126,127,128,129,130,131,132,133,134,135,136,137,138,139,140,141,142,143,144,145,146,147,148,149,150,151,152,153,154,155,156,157,158,159,160,161,162,163,164,165,166,167,168,169,170,171,172,173,174,175,176,177,178,179,180,181,182,183,184,185,186,187,188,189,190,191,192,193,194,195,196,197,198,199,200,201,202,203,204,205,206,207,208,209,210,211,212,213,214,215,216,217,218,219,220,221,222,223,224,225,226,227,228,229,230,231,232,233,234,235,236,237,238,239,240,241,242,243,244,245,246,247,248,249,250,251,252,253,254,255,256,257,258,259,260,261,262,263,264,265,266,267,268,269,270,271,272,273,274,275,276,277,278,279,280,281,282,283,284,285,286,287,288,289,290,291,292,293,294,295,296,297,298,299,300,301,302,303,304,305,306,307,308,309,310,311,312,313,314,315,316,317,318,319,320,321,322,323,324,325,326,327,328,329,330,331,332,333,334,335,336,337,338,339,340,341,342,343,344,345,346,347,348,349,350,351,352,353,354,355,356,357,358,359,360,361,362,363,364,365,366,367,368,369,370,371,372,373,374,375,376,377,378,379,380,381,382,383,384,385,386,387,388,389,390,391,392,393,394,395,396,397,398,399,400,401,402,403,404,405,406,407,408,409,410,411,412,413,414,415,416,417,418,419,420,421,422,423,424,425,426,427,428,429,430,431,432,433,434,435,436,437,438,439,440,441,442,443,444,445,446,447,448,449,450,451,452,453,454,455,456,457,458,459,460,461,462,463,464,465,466,467,468,469,470,471,472,473,474,475,476,477,478,479,480,481,482,483,484,485,486,487,488,489,490,491,492,493,494,495,496,497,498,499],\"colorbar\":{\"title\":{\"text\":\"Trial\"},\"x\":1.0,\"xpad\":40},\"colorscale\":[[0.0,\"rgb(247,251,255)\"],[0.125,\"rgb(222,235,247)\"],[0.25,\"rgb(198,219,239)\"],[0.375,\"rgb(158,202,225)\"],[0.5,\"rgb(107,174,214)\"],[0.625,\"rgb(66,146,198)\"],[0.75,\"rgb(33,113,181)\"],[0.875,\"rgb(8,81,156)\"],[1.0,\"rgb(8,48,107)\"]],\"line\":{\"color\":\"Grey\",\"width\":0.5},\"showscale\":false},\"mode\":\"markers\",\"name\":\"Feasible Trial\",\"showlegend\":false,\"x\":[16,110,12,1,1,74,40,17,4,1,720,208,104,9,41,24,6,31,47,4,18,49,59,225,58,75,28,169,91,447,61,60,118,37,70,143,25,86,38,15,285,59,65,120,96,42,70,153,35,22,50,58,81,80,29,107,46,79,130,30,187,55,51,102,68,39,22,85,53,44,32,34,27,33,70,19,35,43,97,133,15,50,69,70,60,33,113,40,26,40,83,65,45,39,45,29,36,23,35,38,54,53,44,31,57,48,38,25,32,58,42,46,28,41,21,37,52,26,90,77,19,43,61,59,59,33,63,51,30,74,94,40,49,62,34,81,104,74,78,71,68,67,87,89,105,121,73,84,55,63,46,53,52,72,58,39,55,88,47,59,38,68,80,80,102,44,133,54,93,106,47,89,119,92,80,153,74,95,117,58,38,65,61,80,49,43,42,50,34,43,30,41,42,34,47,43,27,37,48,49,40,61,60,51,35,68,44,56,30,39,38,46,23,55,41,34,39,44,28,33,50,67,69,1,43,73,64,52,38,47,3,60,58,78,43,52,37,67,31,55,41,50,48,65,76,46,57,38,635,50,86,33,63,45,27,40,73,57,49,34,31,25,34,37,42,239,31,41,99,81,83,72,93,64,53,83,113,72,53,18,63,15,46,46,27,36,35,23,35,46,41,52,33,43,28,42,37,46,49,46,56,30,37,46,56,31,21,40,340,50,62,25,34,2,43,53,36,46,60,144,28,25,29,166,30,37,39,739,34,42,7,18,23,29,66,37,55,47,12,42,48,33,40,48,34,57,26,43,37,51,12,30,478,44,43,21,21,26,132,49,22,37,17,32,20,37,4,40,28,36,42,31,45,24,8,103,173,54,1,35,47,64,28,40,56,34,44,71,48,16,39,20,31,91,336,119,25,58,5,51,14,37,35,28,38,2,24,32,583,41,232,990,40,34,41,30,43,37,47,27,54,33,22,14,42,47,38,60,30,51,18,40,34,44,63,26,52,36,136,45,79,30,38,58,113,49,42,19,33,25,322,67,38,443,54,49,31,10,150,2,21,101,42,76,35,5,58,28,45,177,38,67,272,51,90,23,43,1,32,59,38,47,29,16,35,8,196,52,42,75,26,62,47,38,56,9,32,89,43,19],\"y\":[0.032855450200993695,0.03217469881347108,0.02443845942483089,0.003056629595219885,0.003056629595219885,0.021065690239370424,0.016462143707266116,0.009889798976208671,0.018580920349522103,0.008368309833497243,0.031610300457852306,0.03167575235909235,0.03181086882598008,0.0315571335968719,0.03337186592948863,0.03044037903353152,0.03143206300627897,0.0296017248393877,0.03279836290547862,0.028398075533452413,0.02755496957773181,0.03297642577816665,0.033463595748169574,0.031892435117378,0.033364146506600946,0.03336624524841854,0.030869622970330905,0.033114642917866255,0.03240168931637974,0.030739113867939677,0.03310675650647944,0.03328582131016179,0.03201061743238502,0.03322006579346897,0.031605727250094376,0.03225867884771894,0.03322798636159411,0.032235941845496385,0.03300422177287147,0.030513322646069596,0.030340903225610786,0.03289900004250654,0.03333655924751971,0.03287655527015729,0.03276111308461186,0.03308379558786065,0.033026226302814224,0.0318275259287599,0.033060569005720325,0.03297782999963595,0.031496311831287205,0.033215393910688756,0.0333457891572852,0.03305369211571419,0.032633875438724605,0.03314250343085487,0.032892829058427976,0.031063640835064115,0.03260840210223359,0.03327718724572237,0.031022656544127714,0.033301032444347636,0.03325856043769235,0.03282337322840413,0.03251881656768819,0.03300934907883092,0.033174614560183,0.031941195759099594,0.03330215582152306,0.033182333983070876,0.03336579362043238,0.03346579696020239,0.03175132224529736,0.0330305224614715,0.03316175644575641,0.03275192871716427,0.03236606004299213,0.0332291173291558,0.03163328035243709,0.032052322810022,0.03321013756816196,0.03300342098711486,0.033322725768451036,0.0331293834481003,0.033035664948203466,0.03296981075648856,0.032779550132983865,0.033517608937224885,0.03308708222513715,0.03210975167292137,0.03321967868376658,0.03333493490484712,0.03352021243973271,0.03349611675835879,0.03331010295600042,0.03319699101905519,0.03344648322221034,0.033075992670723205,0.03161615644089844,0.032639663108293894,0.03347181234136118,0.03322246056035294,0.03335201706926106,0.03309732924666955,0.03319786770867532,0.03303305385530925,0.033226240572740505,0.03273918066333926,0.033067415534181334,0.03309590604923461,0.03321849458350065,0.03331977310817239,0.033129345496168604,0.03372004833558052,0.032984851106982106,0.032912939786983626,0.0323862656513769,0.032941513796286466,0.03321633132339934,0.03320420568125267,0.033256617298794325,0.03332319637240286,0.033393452988183636,0.03342058861927879,0.03329778375900266,0.033084577397651534,0.03327434464604538,0.033243588400675456,0.03301120492828633,0.03304259497091395,0.03238726758237114,0.03329419350627299,0.03326823058986448,0.03320477496022678,0.03286610710338736,0.03343129485918347,0.032236264436915074,0.03343464601474404,0.03174890850244735,0.03348980914732667,0.033379186857094505,0.033076763094934805,0.03341834186492791,0.03317671330200048,0.0332014541662115,0.03292714139978888,0.03324477629613468,0.0324863562805895,0.03334418758577174,0.033098816962388394,0.03298406929719139,0.033418990842958206,0.03295702854592529,0.03330208371285294,0.033492640361424214,0.03320198549325406,0.03293252677888317,0.03276176585783536,0.032784738162033776,0.03337776365965955,0.03226865641053689,0.03321242606963753,0.033433351853876275,0.03323740603101763,0.03332920416317542,0.0331478394724381,0.03304942631860221,0.03277966778397177,0.03340255765657469,0.03308000418989352,0.0330574038146248,0.033517973275768206,0.03314307270982896,0.033201875432652274,0.03315364611797314,0.03317264105973966,0.03314552819980359,0.023292303500078985,0.03266225968836932,0.032624243238484174,0.031232822955757338,0.03316346428267839,0.033536675987661455,0.03286663843042992,0.03344591773842955,0.03368262014063505,0.03320063819968217,0.03323203962788921,0.033000802303834384,0.03352630751994792,0.03303871248831116,0.03344217188278047,0.033245971781980084,0.029112277753488673,0.033545412522316166,0.03334835850305467,0.03332487764297283,0.03287297260781406,0.03341030364581453,0.03314813549750468,0.032714075460584975,0.03320614502495757,0.033336714850439327,0.033319537806196495,0.03328476245126997,0.03291397587471642,0.03324390719690101,0.03280537642243864,0.03328581751496853,0.03342507833278719,0.033283673230833186,0.03311404327734703,0.030300101103946007,0.03327848899697627,0.03352046292248115,0.03306831499496022,0.03332948121227607,0.03290851079656568,0.033391008883788334,0.033319321480186286,0.031908720291228175,0.03346339839812527,0.033414668117948805,0.009997058725300814,0.03335536063443516,0.012877227019346326,0.03323453686498859,0.03341696041461759,0.0333495198321617,0.03253314342186784,0.027096927715233077,0.032997576389648196,0.0331115118835091,0.033099606362565766,0.03327696332932587,0.03268358867392944,0.03319593595535673,0.033094228573857846,0.03325038559162535,0.032868976269416476,0.03313076489841049,0.0335458337887568,0.033413525764807626,0.03325667422669177,0.03339859167972247,0.03288799018714883,0.033016590307380654,0.0331566860676944,0.024959509084174446,0.03326147135084626,0.03318484260574955,0.03306124075490968,0.033323090106994274,0.033374480817575894,0.03330025442974981,0.03341570420568158,0.03320046741598982,0.03231948163733767,0.033391354246366106,0.03354065335009318,0.031206966304757278,0.03330793590070597,0.033319454311946904,0.032959427108002426,0.03318838352096803,0.032981219107127965,0.03294930153265103,0.030423915485602762,0.032895967683171504,0.03359183532505098,0.032801702675459635,0.03317580625083525,0.03328059532918017,0.03250379898835358,0.03328193882755895,0.03332829711201016,0.033086645777923814,0.032491274850925046,0.03325949785040295,0.03335813871582829,0.03105911316962408,0.03302249942313092,0.033613615938597116,0.020780659847463606,0.033311939829489885,0.03362485350554433,0.033397995834396295,0.03154324318990573,0.03280426063564952,0.03310866928383213,0.032693319549192,0.0332744850681924,0.03338834086299694,0.0337220939446938,0.03308530607473829,0.03327476591248621,0.028525434625520842,0.03361972999477811,0.03335404370240846,0.033418709998664406,0.03331249013249808,0.032951563467774524,0.032641704922213945,0.02697485153204373,0.032600804125527016,0.01059721918606767,0.033359971794124775,0.033072576996879106,0.032323910627755574,0.03318078933945453,0.033050265056290544,0.0330738483865877,0.03307124488407991,0.022216950698922686,0.033049118907956296,0.03317799228209537,0.03270826881504984,0.03339639426288281,0.033193328657655674,0.033054481515891534,0.03359724727049739,0.03196590626176549,0.03328224244301168,0.02994411957591013,0.03318119162992947,0.03349143348999928,0.032638209549313464,0.03213849646591642,0.0332310414920881,0.033170709306421166,0.03185567867162204,0.0326804310732201,0.03316621959291271,0.032517723552058155,0.03310308655469369,0.03317988987867555,0.03323533385555223,0.033486784378378084,0.03281837875420526,0.023000035674815733,0.018363808734409386,0.033338270879634924,0.03290871953218947,0.033244544789351904,0.03132833658201895,0.03316520627633891,0.031796773478583215,0.0333295305497872,0.030813609714480158,0.03314328903583906,0.03217463049999418,0.03296482766786923,0.03231414180056138,0.03352365467992884,0.0334201825336105,0.0336148190148289,0.033259771104310436,0.03303257186577792,0.033144476931298086,0.028348347117475033,0.03315675438117127,0.03349651525364067,0.033193453899029945,0.032546092620930236,0.033056124834529764,0.032916780522461705,0.02958989142711427,0.03345071486258402,0.03346289363743492,0.032660532875481436,0.01254781563862467,0.03299904512940125,0.03076590793165033,0.03314213529711835,0.03210541756233252,0.03319922259263334,0.03305955568914657,0.03251820933678267,0.010369351993538998,0.03347324692437578,0.033253577349073096,0.03342171958684047,0.03298627050922404,0.03308217504038117,0.0333376522631499,0.02430097096221816,0.03176460162616468,0.03285576520202596,0.03317330521854272,0.030763076717552764,0.0331091095262387,0.02985470482505693,0.03313098501961375,0.033366757599495075,0.0323652782332012,0.03300258224942661,0.033465182138910435,0.03286419053084154,0.030325399861551642,0.031147431109654043,0.03251485059083588,0.0335033693724879,0.03312221432822077,0.03303949809329526,0.032565672022443495,0.022484701576371474,0.03309237651959559,0.021986749462600635,0.03126609161899923,0.03353528315177162,0.027938105712828523,0.031717192073208146,0.03297304046586777,0.033392485213927715,0.0332584238107386,0.03340414784250894,0.031137142340996824,0.030273656198006135,0.03344147356723901,0.03310002762900648,0.03345715151018361,0.03319287323447647,0.03261785972358874,0.032444605360634676,0.024151296134368117,0.032952519856450826,0.03361369563765351,0.03305044722556227,0.03317708523093026,0.032421621670856694,0.033288667705031846,0.03317067135448956,0.018221500376483124,0.03263405001760989,0.03335187664711412,0.0332915103047088,0.023528129212664457,0.03282567691065233,0.03284134346801751,0.03317609089032225,0.032370963432555036,0.031304582468029536,0.03306478926051443,0.027383571064233034,0.033319222805164146,0.010919924460475317,0.02981740187148581,0.032868274158681786,0.033351903213466316,0.0331026539026733,0.03253437685964496,0.03320389447541359,0.033181950668561555,0.03224178264776999,0.03262226594284773,0.012600762378401936,0.03317921053909992,0.03268812772494901,0.03181327118325034,0.022067256895106975,0.03313873100885376,0.03312713669374955,0.02510052707642612,0.031154099264036304,0.03322985739182208,0.02661560993308327,0.03310016425596028,0.03345178890224837,0.03348706522267186,0.03276883630269263,0.03267507605567114,0.03319385998469813,0.028555181349510187,0.033262196232739794,0.029169194265311567,0.03309611478485844,0.03341063762281274,0.01122920613667546,0.03319983741392538,0.03317448552361546,0.03316702796905585,0.03322180778712946,0.032993504147387324,0.03265179254563377,0.033262158280808224,0.03180805279265518,0.03167603320338623,0.02773966265287053,0.03063113303214702,0.03328992011877472,0.03346974775628205,0.03125368133736558,0.03324749365443735,0.03282738474757432,0.023549435427065515,0.01844800129947408,0.03273624697902654,0.032762866463851806,0.03172739355242251,0.03346396767709925],\"type\":\"scatter\",\"xaxis\":\"x2\",\"yaxis\":\"y2\"}],                        {\"template\":{\"data\":{\"histogram2dcontour\":[{\"type\":\"histogram2dcontour\",\"colorbar\":{\"outlinewidth\":0,\"ticks\":\"\"},\"colorscale\":[[0.0,\"#0d0887\"],[0.1111111111111111,\"#46039f\"],[0.2222222222222222,\"#7201a8\"],[0.3333333333333333,\"#9c179e\"],[0.4444444444444444,\"#bd3786\"],[0.5555555555555556,\"#d8576b\"],[0.6666666666666666,\"#ed7953\"],[0.7777777777777778,\"#fb9f3a\"],[0.8888888888888888,\"#fdca26\"],[1.0,\"#f0f921\"]]}],\"choropleth\":[{\"type\":\"choropleth\",\"colorbar\":{\"outlinewidth\":0,\"ticks\":\"\"}}],\"histogram2d\":[{\"type\":\"histogram2d\",\"colorbar\":{\"outlinewidth\":0,\"ticks\":\"\"},\"colorscale\":[[0.0,\"#0d0887\"],[0.1111111111111111,\"#46039f\"],[0.2222222222222222,\"#7201a8\"],[0.3333333333333333,\"#9c179e\"],[0.4444444444444444,\"#bd3786\"],[0.5555555555555556,\"#d8576b\"],[0.6666666666666666,\"#ed7953\"],[0.7777777777777778,\"#fb9f3a\"],[0.8888888888888888,\"#fdca26\"],[1.0,\"#f0f921\"]]}],\"heatmap\":[{\"type\":\"heatmap\",\"colorbar\":{\"outlinewidth\":0,\"ticks\":\"\"},\"colorscale\":[[0.0,\"#0d0887\"],[0.1111111111111111,\"#46039f\"],[0.2222222222222222,\"#7201a8\"],[0.3333333333333333,\"#9c179e\"],[0.4444444444444444,\"#bd3786\"],[0.5555555555555556,\"#d8576b\"],[0.6666666666666666,\"#ed7953\"],[0.7777777777777778,\"#fb9f3a\"],[0.8888888888888888,\"#fdca26\"],[1.0,\"#f0f921\"]]}],\"heatmapgl\":[{\"type\":\"heatmapgl\",\"colorbar\":{\"outlinewidth\":0,\"ticks\":\"\"},\"colorscale\":[[0.0,\"#0d0887\"],[0.1111111111111111,\"#46039f\"],[0.2222222222222222,\"#7201a8\"],[0.3333333333333333,\"#9c179e\"],[0.4444444444444444,\"#bd3786\"],[0.5555555555555556,\"#d8576b\"],[0.6666666666666666,\"#ed7953\"],[0.7777777777777778,\"#fb9f3a\"],[0.8888888888888888,\"#fdca26\"],[1.0,\"#f0f921\"]]}],\"contourcarpet\":[{\"type\":\"contourcarpet\",\"colorbar\":{\"outlinewidth\":0,\"ticks\":\"\"}}],\"contour\":[{\"type\":\"contour\",\"colorbar\":{\"outlinewidth\":0,\"ticks\":\"\"},\"colorscale\":[[0.0,\"#0d0887\"],[0.1111111111111111,\"#46039f\"],[0.2222222222222222,\"#7201a8\"],[0.3333333333333333,\"#9c179e\"],[0.4444444444444444,\"#bd3786\"],[0.5555555555555556,\"#d8576b\"],[0.6666666666666666,\"#ed7953\"],[0.7777777777777778,\"#fb9f3a\"],[0.8888888888888888,\"#fdca26\"],[1.0,\"#f0f921\"]]}],\"surface\":[{\"type\":\"surface\",\"colorbar\":{\"outlinewidth\":0,\"ticks\":\"\"},\"colorscale\":[[0.0,\"#0d0887\"],[0.1111111111111111,\"#46039f\"],[0.2222222222222222,\"#7201a8\"],[0.3333333333333333,\"#9c179e\"],[0.4444444444444444,\"#bd3786\"],[0.5555555555555556,\"#d8576b\"],[0.6666666666666666,\"#ed7953\"],[0.7777777777777778,\"#fb9f3a\"],[0.8888888888888888,\"#fdca26\"],[1.0,\"#f0f921\"]]}],\"mesh3d\":[{\"type\":\"mesh3d\",\"colorbar\":{\"outlinewidth\":0,\"ticks\":\"\"}}],\"scatter\":[{\"fillpattern\":{\"fillmode\":\"overlay\",\"size\":10,\"solidity\":0.2},\"type\":\"scatter\"}],\"parcoords\":[{\"type\":\"parcoords\",\"line\":{\"colorbar\":{\"outlinewidth\":0,\"ticks\":\"\"}}}],\"scatterpolargl\":[{\"type\":\"scatterpolargl\",\"marker\":{\"colorbar\":{\"outlinewidth\":0,\"ticks\":\"\"}}}],\"bar\":[{\"error_x\":{\"color\":\"#2a3f5f\"},\"error_y\":{\"color\":\"#2a3f5f\"},\"marker\":{\"line\":{\"color\":\"#E5ECF6\",\"width\":0.5},\"pattern\":{\"fillmode\":\"overlay\",\"size\":10,\"solidity\":0.2}},\"type\":\"bar\"}],\"scattergeo\":[{\"type\":\"scattergeo\",\"marker\":{\"colorbar\":{\"outlinewidth\":0,\"ticks\":\"\"}}}],\"scatterpolar\":[{\"type\":\"scatterpolar\",\"marker\":{\"colorbar\":{\"outlinewidth\":0,\"ticks\":\"\"}}}],\"histogram\":[{\"marker\":{\"pattern\":{\"fillmode\":\"overlay\",\"size\":10,\"solidity\":0.2}},\"type\":\"histogram\"}],\"scattergl\":[{\"type\":\"scattergl\",\"marker\":{\"colorbar\":{\"outlinewidth\":0,\"ticks\":\"\"}}}],\"scatter3d\":[{\"type\":\"scatter3d\",\"line\":{\"colorbar\":{\"outlinewidth\":0,\"ticks\":\"\"}},\"marker\":{\"colorbar\":{\"outlinewidth\":0,\"ticks\":\"\"}}}],\"scattermapbox\":[{\"type\":\"scattermapbox\",\"marker\":{\"colorbar\":{\"outlinewidth\":0,\"ticks\":\"\"}}}],\"scatterternary\":[{\"type\":\"scatterternary\",\"marker\":{\"colorbar\":{\"outlinewidth\":0,\"ticks\":\"\"}}}],\"scattercarpet\":[{\"type\":\"scattercarpet\",\"marker\":{\"colorbar\":{\"outlinewidth\":0,\"ticks\":\"\"}}}],\"carpet\":[{\"aaxis\":{\"endlinecolor\":\"#2a3f5f\",\"gridcolor\":\"white\",\"linecolor\":\"white\",\"minorgridcolor\":\"white\",\"startlinecolor\":\"#2a3f5f\"},\"baxis\":{\"endlinecolor\":\"#2a3f5f\",\"gridcolor\":\"white\",\"linecolor\":\"white\",\"minorgridcolor\":\"white\",\"startlinecolor\":\"#2a3f5f\"},\"type\":\"carpet\"}],\"table\":[{\"cells\":{\"fill\":{\"color\":\"#EBF0F8\"},\"line\":{\"color\":\"white\"}},\"header\":{\"fill\":{\"color\":\"#C8D4E3\"},\"line\":{\"color\":\"white\"}},\"type\":\"table\"}],\"barpolar\":[{\"marker\":{\"line\":{\"color\":\"#E5ECF6\",\"width\":0.5},\"pattern\":{\"fillmode\":\"overlay\",\"size\":10,\"solidity\":0.2}},\"type\":\"barpolar\"}],\"pie\":[{\"automargin\":true,\"type\":\"pie\"}]},\"layout\":{\"autotypenumbers\":\"strict\",\"colorway\":[\"#636efa\",\"#EF553B\",\"#00cc96\",\"#ab63fa\",\"#FFA15A\",\"#19d3f3\",\"#FF6692\",\"#B6E880\",\"#FF97FF\",\"#FECB52\"],\"font\":{\"color\":\"#2a3f5f\"},\"hovermode\":\"closest\",\"hoverlabel\":{\"align\":\"left\"},\"paper_bgcolor\":\"white\",\"plot_bgcolor\":\"#E5ECF6\",\"polar\":{\"bgcolor\":\"#E5ECF6\",\"angularaxis\":{\"gridcolor\":\"white\",\"linecolor\":\"white\",\"ticks\":\"\"},\"radialaxis\":{\"gridcolor\":\"white\",\"linecolor\":\"white\",\"ticks\":\"\"}},\"ternary\":{\"bgcolor\":\"#E5ECF6\",\"aaxis\":{\"gridcolor\":\"white\",\"linecolor\":\"white\",\"ticks\":\"\"},\"baxis\":{\"gridcolor\":\"white\",\"linecolor\":\"white\",\"ticks\":\"\"},\"caxis\":{\"gridcolor\":\"white\",\"linecolor\":\"white\",\"ticks\":\"\"}},\"coloraxis\":{\"colorbar\":{\"outlinewidth\":0,\"ticks\":\"\"}},\"colorscale\":{\"sequential\":[[0.0,\"#0d0887\"],[0.1111111111111111,\"#46039f\"],[0.2222222222222222,\"#7201a8\"],[0.3333333333333333,\"#9c179e\"],[0.4444444444444444,\"#bd3786\"],[0.5555555555555556,\"#d8576b\"],[0.6666666666666666,\"#ed7953\"],[0.7777777777777778,\"#fb9f3a\"],[0.8888888888888888,\"#fdca26\"],[1.0,\"#f0f921\"]],\"sequentialminus\":[[0.0,\"#0d0887\"],[0.1111111111111111,\"#46039f\"],[0.2222222222222222,\"#7201a8\"],[0.3333333333333333,\"#9c179e\"],[0.4444444444444444,\"#bd3786\"],[0.5555555555555556,\"#d8576b\"],[0.6666666666666666,\"#ed7953\"],[0.7777777777777778,\"#fb9f3a\"],[0.8888888888888888,\"#fdca26\"],[1.0,\"#f0f921\"]],\"diverging\":[[0,\"#8e0152\"],[0.1,\"#c51b7d\"],[0.2,\"#de77ae\"],[0.3,\"#f1b6da\"],[0.4,\"#fde0ef\"],[0.5,\"#f7f7f7\"],[0.6,\"#e6f5d0\"],[0.7,\"#b8e186\"],[0.8,\"#7fbc41\"],[0.9,\"#4d9221\"],[1,\"#276419\"]]},\"xaxis\":{\"gridcolor\":\"white\",\"linecolor\":\"white\",\"ticks\":\"\",\"title\":{\"standoff\":15},\"zerolinecolor\":\"white\",\"automargin\":true,\"zerolinewidth\":2},\"yaxis\":{\"gridcolor\":\"white\",\"linecolor\":\"white\",\"ticks\":\"\",\"title\":{\"standoff\":15},\"zerolinecolor\":\"white\",\"automargin\":true,\"zerolinewidth\":2},\"scene\":{\"xaxis\":{\"backgroundcolor\":\"#E5ECF6\",\"gridcolor\":\"white\",\"linecolor\":\"white\",\"showbackground\":true,\"ticks\":\"\",\"zerolinecolor\":\"white\",\"gridwidth\":2},\"yaxis\":{\"backgroundcolor\":\"#E5ECF6\",\"gridcolor\":\"white\",\"linecolor\":\"white\",\"showbackground\":true,\"ticks\":\"\",\"zerolinecolor\":\"white\",\"gridwidth\":2},\"zaxis\":{\"backgroundcolor\":\"#E5ECF6\",\"gridcolor\":\"white\",\"linecolor\":\"white\",\"showbackground\":true,\"ticks\":\"\",\"zerolinecolor\":\"white\",\"gridwidth\":2}},\"shapedefaults\":{\"line\":{\"color\":\"#2a3f5f\"}},\"annotationdefaults\":{\"arrowcolor\":\"#2a3f5f\",\"arrowhead\":0,\"arrowwidth\":1},\"geo\":{\"bgcolor\":\"white\",\"landcolor\":\"#E5ECF6\",\"subunitcolor\":\"white\",\"showland\":true,\"showlakes\":true,\"lakecolor\":\"white\"},\"title\":{\"x\":0.05},\"mapbox\":{\"style\":\"light\"}}},\"xaxis\":{\"anchor\":\"y\",\"domain\":[0.0,0.45],\"title\":{\"text\":\"num_factors\"},\"type\":\"log\"},\"yaxis\":{\"anchor\":\"x\",\"domain\":[0.0,1.0],\"title\":{\"text\":\"Objective Value\"}},\"xaxis2\":{\"anchor\":\"y2\",\"domain\":[0.55,1.0],\"title\":{\"text\":\"topK\"},\"type\":\"log\"},\"yaxis2\":{\"anchor\":\"x2\",\"domain\":[0.0,1.0],\"matches\":\"y\",\"showticklabels\":false},\"title\":{\"text\":\"Slice Plot\"}},                        {\"responsive\": true}                    ).then(function(){\n",
       "                            \n",
       "var gd = document.getElementById('424e12fb-66b8-4773-910d-3be515a7bab6');\n",
       "var x = new MutationObserver(function (mutations, observer) {{\n",
       "        var display = window.getComputedStyle(gd).display;\n",
       "        if (!display || display === 'none') {{\n",
       "            console.log([gd, 'removed!']);\n",
       "            Plotly.purge(gd);\n",
       "            observer.disconnect();\n",
       "        }}\n",
       "}});\n",
       "\n",
       "// Listen for the removal of the full notebook cells\n",
       "var notebookContainer = gd.closest('#notebook-container');\n",
       "if (notebookContainer) {{\n",
       "    x.observe(notebookContainer, {childList: true});\n",
       "}}\n",
       "\n",
       "// Listen for the clearing of the current output cell\n",
       "var outputEl = gd.closest('.output');\n",
       "if (outputEl) {{\n",
       "    x.observe(outputEl, {childList: true});\n",
       "}}\n",
       "\n",
       "                        })                };                });            </script>        </div>"
      ]
     },
     "metadata": {},
     "output_type": "display_data"
    }
   ],
   "source": [
    "if config['tune_parameters']:\n",
    "    fig = optuna.visualization.plot_slice(study)\n",
    "    fig.show()"
   ]
  },
  {
   "cell_type": "code",
   "execution_count": 19,
   "id": "092bac81",
   "metadata": {
    "execution": {
     "iopub.execute_input": "2023-12-01T16:19:43.860622Z",
     "iopub.status.busy": "2023-12-01T16:19:43.860119Z",
     "iopub.status.idle": "2023-12-01T16:19:45.083807Z",
     "shell.execute_reply": "2023-12-01T16:19:45.082895Z"
    },
    "papermill": {
     "duration": 1.30983,
     "end_time": "2023-12-01T16:19:45.086109",
     "exception": false,
     "start_time": "2023-12-01T16:19:43.776279",
     "status": "completed"
    },
    "tags": []
   },
   "outputs": [],
   "source": [
    "if config['tune_parameters']:\n",
    "    with open('/kaggle/working/best_params_puresvd_item.json', 'w') as params_file:\n",
    "        json.dump(study.best_params, params_file)\n",
    "        \n",
    "    if config['save_github']: \n",
    "        upload_file(\n",
    "            '/kaggle/working/best_params_puresvd_item.json', \n",
    "            'tuning_results/best_params_puresvd_item.json', \n",
    "            'User KNN tuning results (from kaggle notebook)'\n",
    "        )\n",
    "elif config['copy_prev_best_params']:\n",
    "    shutil.copyfile(\n",
    "        '/kaggle/working/Recsys_Challenge_2023/tuning_results/best_params_puresvd_item.json', \n",
    "        '/kaggle/working/best_params_puresvd_item.json'\n",
    "    )"
   ]
  },
  {
   "cell_type": "code",
   "execution_count": 20,
   "id": "722eef6c",
   "metadata": {
    "execution": {
     "iopub.execute_input": "2023-12-01T16:19:45.248028Z",
     "iopub.status.busy": "2023-12-01T16:19:45.247320Z",
     "iopub.status.idle": "2023-12-01T16:19:46.585153Z",
     "shell.execute_reply": "2023-12-01T16:19:46.584388Z"
    },
    "papermill": {
     "duration": 1.420608,
     "end_time": "2023-12-01T16:19:46.587515",
     "exception": false,
     "start_time": "2023-12-01T16:19:45.166907",
     "status": "completed"
    },
    "tags": []
   },
   "outputs": [],
   "source": [
    "if config['save_github'] and config['tune_parameters']:\n",
    "    upload_file(\n",
    "        config['database_path'], \n",
    "        'tuning_results/tuning_puresvd.db',\n",
    "        'Tuning db updated results (from kaggle notebook)'\n",
    "    )"
   ]
  }
 ],
 "metadata": {
  "kaggle": {
   "accelerator": "none",
   "dataSources": [
    {
     "databundleVersionId": 6919098,
     "sourceId": 62803,
     "sourceType": "competition"
    }
   ],
   "dockerImageVersionId": 30587,
   "isGpuEnabled": false,
   "isInternetEnabled": true,
   "language": "python",
   "sourceType": "notebook"
  },
  "kernelspec": {
   "display_name": "Python 3",
   "language": "python",
   "name": "python3"
  },
  "language_info": {
   "codemirror_mode": {
    "name": "ipython",
    "version": 3
   },
   "file_extension": ".py",
   "mimetype": "text/x-python",
   "name": "python",
   "nbconvert_exporter": "python",
   "pygments_lexer": "ipython3",
   "version": "3.10.12"
  },
  "papermill": {
   "default_parameters": {},
   "duration": 8292.154904,
   "end_time": "2023-12-01T16:19:48.208269",
   "environment_variables": {},
   "exception": null,
   "input_path": "__notebook__.ipynb",
   "output_path": "__notebook__.ipynb",
   "parameters": {},
   "start_time": "2023-12-01T14:01:36.053365",
   "version": "2.4.0"
  }
 },
 "nbformat": 4,
 "nbformat_minor": 5
}
