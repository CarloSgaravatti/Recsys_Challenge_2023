{
 "cells": [
  {
   "cell_type": "code",
   "execution_count": 1,
   "id": "878e9a9e",
   "metadata": {
    "_cell_guid": "b1076dfc-b9ad-4769-8c92-a6c4dae69d19",
    "_uuid": "8f2839f25d086af736a60e9eeb907d3b93b6e0e5",
    "execution": {
     "iopub.execute_input": "2023-12-01T10:47:48.093144Z",
     "iopub.status.busy": "2023-12-01T10:47:48.092529Z",
     "iopub.status.idle": "2023-12-01T10:47:51.611730Z",
     "shell.execute_reply": "2023-12-01T10:47:51.610659Z"
    },
    "papermill": {
     "duration": 3.532917,
     "end_time": "2023-12-01T10:47:51.614873",
     "exception": false,
     "start_time": "2023-12-01T10:47:48.081956",
     "status": "completed"
    },
    "tags": []
   },
   "outputs": [
    {
     "name": "stdout",
     "output_type": "stream",
     "text": [
      "Cloning into 'Recsys_Challenge_2023'...\r\n",
      "remote: Enumerating objects: 1248, done.\u001b[K\r\n",
      "remote: Counting objects: 100% (97/97), done.\u001b[K\r\n",
      "remote: Compressing objects: 100% (92/92), done.\u001b[K\r\n",
      "remote: Total 1248 (delta 70), reused 3 (delta 3), pack-reused 1151\u001b[K\r\n",
      "Receiving objects: 100% (1248/1248), 15.42 MiB | 22.03 MiB/s, done.\r\n",
      "Resolving deltas: 100% (900/900), done.\r\n"
     ]
    }
   ],
   "source": [
    "from kaggle_secrets import UserSecretsClient\n",
    "secret_label = \"Token\"\n",
    "token = UserSecretsClient().get_secret(secret_label)\n",
    "\n",
    "! git clone https://{token}@github.com/CarloSgaravatti/Recsys_Challenge_2023.git"
   ]
  },
  {
   "cell_type": "code",
   "execution_count": 2,
   "id": "0d9ed016",
   "metadata": {
    "execution": {
     "iopub.execute_input": "2023-12-01T10:47:51.636194Z",
     "iopub.status.busy": "2023-12-01T10:47:51.635766Z",
     "iopub.status.idle": "2023-12-01T10:48:08.464715Z",
     "shell.execute_reply": "2023-12-01T10:48:08.463186Z"
    },
    "papermill": {
     "duration": 16.843686,
     "end_time": "2023-12-01T10:48:08.467889",
     "exception": false,
     "start_time": "2023-12-01T10:47:51.624203",
     "status": "completed"
    },
    "tags": []
   },
   "outputs": [
    {
     "name": "stdout",
     "output_type": "stream",
     "text": [
      "Collecting PyGithub\r\n",
      "  Obtaining dependency information for PyGithub from https://files.pythonhosted.org/packages/be/04/810d131be173cba445d3658a45512b2b2b3d0960d52c4a300d6ec5e00f52/PyGithub-2.1.1-py3-none-any.whl.metadata\r\n",
      "  Downloading PyGithub-2.1.1-py3-none-any.whl.metadata (2.2 kB)\r\n",
      "Requirement already satisfied: requests in /opt/conda/lib/python3.10/site-packages (2.31.0)\r\n",
      "Collecting pynacl>=1.4.0 (from PyGithub)\r\n",
      "  Downloading PyNaCl-1.5.0-cp36-abi3-manylinux_2_17_x86_64.manylinux2014_x86_64.manylinux_2_24_x86_64.whl (856 kB)\r\n",
      "\u001b[2K     \u001b[90m━━━━━━━━━━━━━━━━━━━━━━━━━━━━━━━━━━━━━━\u001b[0m \u001b[32m856.7/856.7 kB\u001b[0m \u001b[31m15.4 MB/s\u001b[0m eta \u001b[36m0:00:00\u001b[0m\r\n",
      "\u001b[?25hRequirement already satisfied: python-dateutil in /opt/conda/lib/python3.10/site-packages (from PyGithub) (2.8.2)\r\n",
      "Requirement already satisfied: pyjwt[crypto]>=2.4.0 in /opt/conda/lib/python3.10/site-packages (from PyGithub) (2.8.0)\r\n",
      "Requirement already satisfied: typing-extensions>=4.0.0 in /opt/conda/lib/python3.10/site-packages (from PyGithub) (4.5.0)\r\n",
      "Requirement already satisfied: urllib3>=1.26.0 in /opt/conda/lib/python3.10/site-packages (from PyGithub) (1.26.15)\r\n",
      "Requirement already satisfied: Deprecated in /opt/conda/lib/python3.10/site-packages (from PyGithub) (1.2.14)\r\n",
      "Requirement already satisfied: charset-normalizer<4,>=2 in /opt/conda/lib/python3.10/site-packages (from requests) (3.2.0)\r\n",
      "Requirement already satisfied: idna<4,>=2.5 in /opt/conda/lib/python3.10/site-packages (from requests) (3.4)\r\n",
      "Requirement already satisfied: certifi>=2017.4.17 in /opt/conda/lib/python3.10/site-packages (from requests) (2023.7.22)\r\n",
      "Requirement already satisfied: cryptography>=3.4.0 in /opt/conda/lib/python3.10/site-packages (from pyjwt[crypto]>=2.4.0->PyGithub) (41.0.3)\r\n",
      "Requirement already satisfied: cffi>=1.4.1 in /opt/conda/lib/python3.10/site-packages (from pynacl>=1.4.0->PyGithub) (1.15.1)\r\n",
      "Requirement already satisfied: wrapt<2,>=1.10 in /opt/conda/lib/python3.10/site-packages (from Deprecated->PyGithub) (1.15.0)\r\n",
      "Requirement already satisfied: six>=1.5 in /opt/conda/lib/python3.10/site-packages (from python-dateutil->PyGithub) (1.16.0)\r\n",
      "Requirement already satisfied: pycparser in /opt/conda/lib/python3.10/site-packages (from cffi>=1.4.1->pynacl>=1.4.0->PyGithub) (2.21)\r\n",
      "Downloading PyGithub-2.1.1-py3-none-any.whl (302 kB)\r\n",
      "\u001b[2K   \u001b[90m━━━━━━━━━━━━━━━━━━━━━━━━━━━━━━━━━━━━━━━━\u001b[0m \u001b[32m302.9/302.9 kB\u001b[0m \u001b[31m23.7 MB/s\u001b[0m eta \u001b[36m0:00:00\u001b[0m\r\n",
      "\u001b[?25hInstalling collected packages: pynacl, PyGithub\r\n",
      "Successfully installed PyGithub-2.1.1 pynacl-1.5.0\r\n"
     ]
    }
   ],
   "source": [
    "! pip install PyGithub requests"
   ]
  },
  {
   "cell_type": "code",
   "execution_count": 3,
   "id": "070c6872",
   "metadata": {
    "_kg_hide-output": true,
    "execution": {
     "iopub.execute_input": "2023-12-01T10:48:08.491370Z",
     "iopub.status.busy": "2023-12-01T10:48:08.490033Z",
     "iopub.status.idle": "2023-12-01T10:50:50.243149Z",
     "shell.execute_reply": "2023-12-01T10:50:50.241522Z"
    },
    "papermill": {
     "duration": 161.767925,
     "end_time": "2023-12-01T10:50:50.246410",
     "exception": false,
     "start_time": "2023-12-01T10:48:08.478485",
     "status": "completed"
    },
    "scrolled": true,
    "tags": []
   },
   "outputs": [
    {
     "name": "stdout",
     "output_type": "stream",
     "text": [
      "run_compile_all_cython: Found 10 Cython files in 4 folders...\r\n",
      "run_compile_all_cython: All files will be compiled using your current python environment: '/opt/conda/bin/python'\r\n",
      "Compiling [1/10]: MatrixFactorization_Cython_Epoch.pyx... \r\n",
      "In file included from \u001b[01m\u001b[K/opt/conda/lib/python3.10/site-packages/numpy/core/include/numpy/ndarraytypes.h:1940\u001b[m\u001b[K,\r\n",
      "                 from \u001b[01m\u001b[K/opt/conda/lib/python3.10/site-packages/numpy/core/include/numpy/ndarrayobject.h:12\u001b[m\u001b[K,\r\n",
      "                 from \u001b[01m\u001b[K/opt/conda/lib/python3.10/site-packages/numpy/core/include/numpy/arrayobject.h:5\u001b[m\u001b[K,\r\n",
      "                 from \u001b[01m\u001b[KMatrixFactorization_Cython_Epoch.c:1109\u001b[m\u001b[K:\r\n",
      "\u001b[01m\u001b[K/opt/conda/lib/python3.10/site-packages/numpy/core/include/numpy/npy_1_7_deprecated_api.h:17:2:\u001b[m\u001b[K \u001b[01;35m\u001b[Kwarning: \u001b[m\u001b[K#warning \"Using deprecated NumPy API, disable it with \" \"#define NPY_NO_DEPRECATED_API NPY_1_7_API_VERSION\" [\u001b[01;35m\u001b[K-Wcpp\u001b[m\u001b[K]\r\n",
      "   17 | #\u001b[01;35m\u001b[Kwarning\u001b[m\u001b[K \"Using deprecated NumPy API, disable it with \" \\\r\n",
      "      |  \u001b[01;35m\u001b[K^~~~~~~\u001b[m\u001b[K\r\n",
      "\u001b[01m\u001b[KMatrixFactorization_Cython_Epoch.c:\u001b[m\u001b[K In function ‘\u001b[01m\u001b[K__pyx_pf_32MatrixFactorization_Cython_Epoch_32MatrixFactorization_Cython_Epoch_10epochIteration_Cython_ASY_SVD_SGD\u001b[m\u001b[K’:\r\n",
      "\u001b[01m\u001b[KMatrixFactorization_Cython_Epoch.c:25614:9:\u001b[m\u001b[K \u001b[01;35m\u001b[Kwarning: \u001b[m\u001b[K‘\u001b[01m\u001b[K__pyx_v_end_pos_seen_items\u001b[m\u001b[K’ may be used uninitialized in this function [\u001b[01;35m\u001b[K-Wmaybe-uninitialized\u001b[m\u001b[K]\r\n",
      "25614 |         \u001b[01;35m\u001b[Kfor\u001b[m\u001b[K (__pyx_t_21 = __pyx_v_start_pos_seen_items; __pyx_t_21 < __pyx_t_20; __pyx_t_21+=1) {\r\n",
      "      |         \u001b[01;35m\u001b[K^~~\u001b[m\u001b[K\r\n",
      "\u001b[01m\u001b[KMatrixFactorization_Cython_Epoch.c:25614:9:\u001b[m\u001b[K \u001b[01;35m\u001b[Kwarning: \u001b[m\u001b[K‘\u001b[01m\u001b[K__pyx_v_start_pos_seen_items\u001b[m\u001b[K’ may be used uninitialized in this function [\u001b[01;35m\u001b[K-Wmaybe-uninitialized\u001b[m\u001b[K]\r\n",
      "/opt/conda/lib/python3.10/site-packages/Cython/Compiler/Main.py:381: FutureWarning: Cython directive 'language_level' not set, using '3str' for now (Py3). This has changed from earlier releases! File: /kaggle/working/Recsys_Challenge_2023/Recommenders/MatrixFactorization/Cython/MatrixFactorization_Cython_Epoch.pyx\r\n",
      "  tree = Parsing.p_module(s, pxd, full_module_name)\r\n",
      "Compiling [1/10]: MatrixFactorization_Cython_Epoch.pyx... PASS\r\n",
      "\r\n",
      "Compiling [2/10]: MatrixFactorizationImpressions_Cython_Epoch.pyx... \r\n",
      "In file included from \u001b[01m\u001b[K/opt/conda/lib/python3.10/site-packages/numpy/core/include/numpy/ndarraytypes.h:1940\u001b[m\u001b[K,\r\n",
      "                 from \u001b[01m\u001b[K/opt/conda/lib/python3.10/site-packages/numpy/core/include/numpy/ndarrayobject.h:12\u001b[m\u001b[K,\r\n",
      "                 from \u001b[01m\u001b[K/opt/conda/lib/python3.10/site-packages/numpy/core/include/numpy/arrayobject.h:5\u001b[m\u001b[K,\r\n",
      "                 from \u001b[01m\u001b[KMatrixFactorizationImpressions_Cython_Epoch.c:1109\u001b[m\u001b[K:\r\n",
      "\u001b[01m\u001b[K/opt/conda/lib/python3.10/site-packages/numpy/core/include/numpy/npy_1_7_deprecated_api.h:17:2:\u001b[m\u001b[K \u001b[01;35m\u001b[Kwarning: \u001b[m\u001b[K#warning \"Using deprecated NumPy API, disable it with \" \"#define NPY_NO_DEPRECATED_API NPY_1_7_API_VERSION\" [\u001b[01;35m\u001b[K-Wcpp\u001b[m\u001b[K]\r\n",
      "   17 | #\u001b[01;35m\u001b[Kwarning\u001b[m\u001b[K \"Using deprecated NumPy API, disable it with \" \\\r\n",
      "      |  \u001b[01;35m\u001b[K^~~~~~~\u001b[m\u001b[K\r\n",
      "\u001b[01m\u001b[KMatrixFactorizationImpressions_Cython_Epoch.c:\u001b[m\u001b[K In function ‘\u001b[01m\u001b[K__pyx_f_43MatrixFactorizationImpressions_Cython_Epoch_32MatrixFactorization_Cython_Epoch_sampleBPR_Cython\u001b[m\u001b[K’:\r\n",
      "\u001b[01m\u001b[KMatrixFactorizationImpressions_Cython_Epoch.c:29664:17:\u001b[m\u001b[K \u001b[01;35m\u001b[Kwarning: \u001b[m\u001b[K‘\u001b[01m\u001b[K__pyx_v_start_pos_impression_items\u001b[m\u001b[K’ may be used uninitialized in this function [\u001b[01;35m\u001b[K-Wmaybe-uninitialized\u001b[m\u001b[K]\r\n",
      "29664 |       \u001b[01;35m\u001b[K__pyx_t_4 = (__pyx_v_start_pos_impression_items + __pyx_v_index)\u001b[m\u001b[K;\r\n",
      "      |       \u001b[01;35m\u001b[K~~~~~~~~~~^~~~~~~~~~~~~~~~~~~~~~~~~~~~~~~~~~~~~~~~~~~~~~~~~~~~~~\u001b[m\u001b[K\r\n",
      "\u001b[01m\u001b[KMatrixFactorizationImpressions_Cython_Epoch.c:\u001b[m\u001b[K In function ‘\u001b[01m\u001b[K__pyx_pf_43MatrixFactorizationImpressions_Cython_Epoch_32MatrixFactorization_Cython_Epoch_10epochIteration_Cython_ASY_SVD_SGD\u001b[m\u001b[K’:\r\n",
      "\u001b[01m\u001b[KMatrixFactorizationImpressions_Cython_Epoch.c:25474:7:\u001b[m\u001b[K \u001b[01;35m\u001b[Kwarning: \u001b[m\u001b[K‘\u001b[01m\u001b[K__pyx_v_end_pos_seen_items\u001b[m\u001b[K’ may be used uninitialized in this function [\u001b[01;35m\u001b[K-Wmaybe-uninitialized\u001b[m\u001b[K]\r\n",
      "25474 |       \u001b[01;35m\u001b[Kfor\u001b[m\u001b[K (__pyx_t_21 = __pyx_v_start_pos_seen_items; __pyx_t_21 < __pyx_t_20; __pyx_t_21+=1) {\r\n",
      "      |       \u001b[01;35m\u001b[K^~~\u001b[m\u001b[K\r\n",
      "\u001b[01m\u001b[KMatrixFactorizationImpressions_Cython_Epoch.c:25474:7:\u001b[m\u001b[K \u001b[01;35m\u001b[Kwarning: \u001b[m\u001b[K‘\u001b[01m\u001b[K__pyx_v_start_pos_seen_items\u001b[m\u001b[K’ may be used uninitialized in this function [\u001b[01;35m\u001b[K-Wmaybe-uninitialized\u001b[m\u001b[K]\r\n",
      "/opt/conda/lib/python3.10/site-packages/Cython/Compiler/Main.py:381: FutureWarning: Cython directive 'language_level' not set, using '3str' for now (Py3). This has changed from earlier releases! File: /kaggle/working/Recsys_Challenge_2023/Recommenders/MatrixFactorization/Cython/MatrixFactorizationImpressions_Cython_Epoch.pyx\r\n",
      "  tree = Parsing.p_module(s, pxd, full_module_name)\r\n",
      "Compiling [2/10]: MatrixFactorizationImpressions_Cython_Epoch.pyx... PASS\r\n",
      "\r\n",
      "Compiling [3/10]: Compute_Similarity_Cython.pyx... \r\n",
      "warning: Compute_Similarity_Cython.pyx:21:0: The 'IF' statement is deprecated and will be removed in a future Cython version. Consider using runtime conditions or C macros instead. See https://github.com/cython/cython/issues/4310\r\n",
      "warning: Compute_Similarity_Cython.pyx:22:4: The 'DEF' statement is deprecated and will be removed in a future Cython version. Consider using global variables, constants, and in-place literals instead. See https://github.com/cython/cython/issues/4310\r\n",
      "warning: Compute_Similarity_Cython.pyx:24:4: The 'DEF' statement is deprecated and will be removed in a future Cython version. Consider using global variables, constants, and in-place literals instead. See https://github.com/cython/cython/issues/4310\r\n",
      "warning: Compute_Similarity_Cython.pyx:26:4: The 'DEF' statement is deprecated and will be removed in a future Cython version. Consider using global variables, constants, and in-place literals instead. See https://github.com/cython/cython/issues/4310\r\n",
      "In file included from \u001b[01m\u001b[K/opt/conda/lib/python3.10/site-packages/numpy/core/include/numpy/ndarraytypes.h:1940\u001b[m\u001b[K,\r\n",
      "                 from \u001b[01m\u001b[K/opt/conda/lib/python3.10/site-packages/numpy/core/include/numpy/ndarrayobject.h:12\u001b[m\u001b[K,\r\n",
      "                 from \u001b[01m\u001b[K/opt/conda/lib/python3.10/site-packages/numpy/core/include/numpy/arrayobject.h:5\u001b[m\u001b[K,\r\n",
      "                 from \u001b[01m\u001b[KCompute_Similarity_Cython.c:1109\u001b[m\u001b[K:\r\n",
      "\u001b[01m\u001b[K/opt/conda/lib/python3.10/site-packages/numpy/core/include/numpy/npy_1_7_deprecated_api.h:17:2:\u001b[m\u001b[K \u001b[01;35m\u001b[Kwarning: \u001b[m\u001b[K#warning \"Using deprecated NumPy API, disable it with \" \"#define NPY_NO_DEPRECATED_API NPY_1_7_API_VERSION\" [\u001b[01;35m\u001b[K-Wcpp\u001b[m\u001b[K]\r\n",
      "   17 | #\u001b[01;35m\u001b[Kwarning\u001b[m\u001b[K \"Using deprecated NumPy API, disable it with \" \\\r\n",
      "      |  \u001b[01;35m\u001b[K^~~~~~~\u001b[m\u001b[K\r\n",
      "/opt/conda/lib/python3.10/site-packages/Cython/Compiler/Main.py:381: FutureWarning: Cython directive 'language_level' not set, using '3str' for now (Py3). This has changed from earlier releases! File: /kaggle/working/Recsys_Challenge_2023/Recommenders/Similarity/Cython/Compute_Similarity_Cython.pyx\r\n",
      "  tree = Parsing.p_module(s, pxd, full_module_name)\r\n",
      "warning: Compute_Similarity_Cython.pyx:21:0: The 'IF' statement is deprecated and will be removed in a future Cython version. Consider using runtime conditions or C macros instead. See https://github.com/cython/cython/issues/4310\r\n",
      "warning: Compute_Similarity_Cython.pyx:22:4: The 'DEF' statement is deprecated and will be removed in a future Cython version. Consider using global variables, constants, and in-place literals instead. See https://github.com/cython/cython/issues/4310\r\n",
      "warning: Compute_Similarity_Cython.pyx:24:4: The 'DEF' statement is deprecated and will be removed in a future Cython version. Consider using global variables, constants, and in-place literals instead. See https://github.com/cython/cython/issues/4310\r\n",
      "warning: Compute_Similarity_Cython.pyx:26:4: The 'DEF' statement is deprecated and will be removed in a future Cython version. Consider using global variables, constants, and in-place literals instead. See https://github.com/cython/cython/issues/4310\r\n",
      "Compiling [3/10]: Compute_Similarity_Cython.pyx... PASS\r\n",
      "\r\n",
      "Compiling [4/10]: Sparse_Matrix_Tree_CSR.pyx... \r\n",
      "warning: Sparse_Matrix_Tree_CSR.pyx:132:34: Non-trivial type declarators in shared declaration (e.g. mix of pointers and values). Each pointer declaration should be on its own line.\r\n",
      "warning: Sparse_Matrix_Tree_CSR.pyx:132:66: Non-trivial type declarators in shared declaration (e.g. mix of pointers and values). Each pointer declaration should be on its own line.\r\n",
      "warning: Sparse_Matrix_Tree_CSR.pyx:343:35: Non-trivial type declarators in shared declaration (e.g. mix of pointers and values). Each pointer declaration should be on its own line.\r\n",
      "warning: Sparse_Matrix_Tree_CSR.pyx:343:52: Non-trivial type declarators in shared declaration (e.g. mix of pointers and values). Each pointer declaration should be on its own line.\r\n",
      "warning: Sparse_Matrix_Tree_CSR.pyx:442:35: Non-trivial type declarators in shared declaration (e.g. mix of pointers and values). Each pointer declaration should be on its own line.\r\n",
      "warning: Sparse_Matrix_Tree_CSR.pyx:442:53: Non-trivial type declarators in shared declaration (e.g. mix of pointers and values). Each pointer declaration should be on its own line.\r\n",
      "warning: Sparse_Matrix_Tree_CSR.pyx:442:69: Non-trivial type declarators in shared declaration (e.g. mix of pointers and values). Each pointer declaration should be on its own line.\r\n",
      "warning: Sparse_Matrix_Tree_CSR.pyx:577:35: Non-trivial type declarators in shared declaration (e.g. mix of pointers and values). Each pointer declaration should be on its own line.\r\n",
      "warning: Sparse_Matrix_Tree_CSR.pyx:577:42: Non-trivial type declarators in shared declaration (e.g. mix of pointers and values). Each pointer declaration should be on its own line.\r\n",
      "warning: Sparse_Matrix_Tree_CSR.pyx:578:35: Non-trivial type declarators in shared declaration (e.g. mix of pointers and values). Each pointer declaration should be on its own line.\r\n",
      "warning: Sparse_Matrix_Tree_CSR.pyx:578:53: Non-trivial type declarators in shared declaration (e.g. mix of pointers and values). Each pointer declaration should be on its own line.\r\n",
      "\r\n",
      "Error compiling Cython file:\r\n",
      "------------------------------------------------------------\r\n",
      "...\r\n",
      "            vector_pointer_to_list_elements[index].head = current_element\r\n",
      "            current_element = current_element.higher\r\n",
      "\r\n",
      "\r\n",
      "        # Sort array elements on their data field\r\n",
      "        qsort(vector_pointer_to_list_elements, list_length, sizeof(head_pointer_tree_s), compare_struct_on_data)\r\n",
      "                                                                                         ^\r\n",
      "------------------------------------------------------------\r\n",
      "\r\n",
      "Sparse_Matrix_Tree_CSR.pyx:516:89: Cannot assign type 'int (const void *, const void *) except? -1' to 'int (*)(const_void *, const_void *) noexcept'\r\n",
      "\r\n",
      "Error compiling Cython file:\r\n",
      "------------------------------------------------------------\r\n",
      "...\r\n",
      "        # Sort array elements on their data field\r\n",
      "        qsort(vector_pointer_to_list_elements, list_length, sizeof(head_pointer_tree_s), compare_struct_on_data)\r\n",
      "\r\n",
      "        # Sort only the TopK according to their column field\r\n",
      "        # Sort is from lower to higher, therefore the elements to be considered are from len-topK to len\r\n",
      "        qsort(&vector_pointer_to_list_elements[list_length-TopK], TopK, sizeof(head_pointer_tree_s), compare_struct_on_column)\r\n",
      "                                                                                                     ^\r\n",
      "------------------------------------------------------------\r\n",
      "\r\n",
      "Sparse_Matrix_Tree_CSR.pyx:520:101: Cannot assign type 'int (const void *, const void *) except? -1' to 'int (*)(const_void *, const_void *) noexcept'\r\n",
      "Traceback (most recent call last):\r\n",
      "  File \"/kaggle/working/Recsys_Challenge_2023/CythonCompiler/compile_script.py\", line 48, in <module>\r\n",
      "    setup(\r\n",
      "  File \"/opt/conda/lib/python3.10/site-packages/setuptools/__init__.py\", line 107, in setup\r\n",
      "    return distutils.core.setup(**attrs)\r\n",
      "  File \"/opt/conda/lib/python3.10/site-packages/setuptools/_distutils/core.py\", line 185, in setup\r\n",
      "    return run_commands(dist)\r\n",
      "  File \"/opt/conda/lib/python3.10/site-packages/setuptools/_distutils/core.py\", line 201, in run_commands\r\n",
      "    dist.run_commands()\r\n",
      "  File \"/opt/conda/lib/python3.10/site-packages/setuptools/_distutils/dist.py\", line 969, in run_commands\r\n",
      "    self.run_command(cmd)\r\n",
      "  File \"/opt/conda/lib/python3.10/site-packages/setuptools/dist.py\", line 1233, in run_command\r\n",
      "    super().run_command(command)\r\n",
      "  File \"/opt/conda/lib/python3.10/site-packages/setuptools/_distutils/dist.py\", line 988, in run_command\r\n",
      "    cmd_obj.run()\r\n",
      "  File \"/opt/conda/lib/python3.10/site-packages/setuptools/_distutils/command/build_ext.py\", line 345, in run\r\n",
      "    self.build_extensions()\r\n",
      "  File \"/opt/conda/lib/python3.10/site-packages/setuptools/_distutils/command/build_ext.py\", line 467, in build_extensions\r\n",
      "    self._build_extensions_serial()\r\n",
      "  File \"/opt/conda/lib/python3.10/site-packages/setuptools/_distutils/command/build_ext.py\", line 493, in _build_extensions_serial\r\n",
      "    self.build_extension(ext)\r\n",
      "  File \"/opt/conda/lib/python3.10/site-packages/Cython/Distutils/build_ext.py\", line 122, in build_extension\r\n",
      "    new_ext = cythonize(\r\n",
      "  File \"/opt/conda/lib/python3.10/site-packages/Cython/Build/Dependencies.py\", line 1134, in cythonize\r\n",
      "    cythonize_one(*args)\r\n",
      "  File \"/opt/conda/lib/python3.10/site-packages/Cython/Build/Dependencies.py\", line 1301, in cythonize_one\r\n",
      "    raise CompileError(None, pyx_file)\r\n",
      "Cython.Compiler.Errors.CompileError: Sparse_Matrix_Tree_CSR.pyx\r\n",
      "Traceback (most recent call last):\r\n",
      "  File \"/kaggle/working/Recsys_Challenge_2023/run_compile_all_cython.py\", line 59, in <module>\r\n",
      "    run_compile_subprocess(file_path, [file_name])\r\n",
      "  File \"/kaggle/working/Recsys_Challenge_2023/CythonCompiler/run_compile_subprocess.py\", line 51, in run_compile_subprocess\r\n",
      "    raise exc\r\n",
      "  File \"/kaggle/working/Recsys_Challenge_2023/CythonCompiler/run_compile_subprocess.py\", line 32, in run_compile_subprocess\r\n",
      "    output = subprocess.check_output(' '.join(command),\r\n",
      "  File \"/opt/conda/lib/python3.10/subprocess.py\", line 421, in check_output\r\n",
      "    return run(*popenargs, stdout=PIPE, timeout=timeout, check=True,\r\n",
      "  File \"/opt/conda/lib/python3.10/subprocess.py\", line 526, in run\r\n",
      "    raise CalledProcessError(retcode, process.args,\r\n",
      "subprocess.CalledProcessError: Command '/opt/conda/bin/python /kaggle/working/Recsys_Challenge_2023/CythonCompiler/compile_script.py Sparse_Matrix_Tree_CSR.pyx build_ext --inplace' returned non-zero exit status 1.\r\n",
      "Compiling [4/10]: Sparse_Matrix_Tree_CSR.pyx... FAIL: Command '/opt/conda/bin/python /kaggle/working/Recsys_Challenge_2023/CythonCompiler/compile_script.py Sparse_Matrix_Tree_CSR.pyx build_ext --inplace' returned non-zero exit status 1.\r\n",
      "\r\n",
      "Compiling [5/10]: Triangular_Matrix.pyx... \r\n",
      "warning: Triangular_Matrix.pyx:22:0: The 'IF' statement is deprecated and will be removed in a future Cython version. Consider using runtime conditions or C macros instead. See https://github.com/cython/cython/issues/4310\r\n",
      "warning: Triangular_Matrix.pyx:23:4: The 'DEF' statement is deprecated and will be removed in a future Cython version. Consider using global variables, constants, and in-place literals instead. See https://github.com/cython/cython/issues/4310\r\n",
      "warning: Triangular_Matrix.pyx:25:4: The 'DEF' statement is deprecated and will be removed in a future Cython version. Consider using global variables, constants, and in-place literals instead. See https://github.com/cython/cython/issues/4310\r\n",
      "warning: Triangular_Matrix.pyx:27:4: The 'DEF' statement is deprecated and will be removed in a future Cython version. Consider using global variables, constants, and in-place literals instead. See https://github.com/cython/cython/issues/4310\r\n",
      "In file included from \u001b[01m\u001b[K/opt/conda/lib/python3.10/site-packages/numpy/core/include/numpy/ndarraytypes.h:1940\u001b[m\u001b[K,\r\n",
      "                 from \u001b[01m\u001b[K/opt/conda/lib/python3.10/site-packages/numpy/core/include/numpy/ndarrayobject.h:12\u001b[m\u001b[K,\r\n",
      "                 from \u001b[01m\u001b[K/opt/conda/lib/python3.10/site-packages/numpy/core/include/numpy/arrayobject.h:5\u001b[m\u001b[K,\r\n",
      "                 from \u001b[01m\u001b[KTriangular_Matrix.c:1109\u001b[m\u001b[K:\r\n",
      "\u001b[01m\u001b[K/opt/conda/lib/python3.10/site-packages/numpy/core/include/numpy/npy_1_7_deprecated_api.h:17:2:\u001b[m\u001b[K \u001b[01;35m\u001b[Kwarning: \u001b[m\u001b[K#warning \"Using deprecated NumPy API, disable it with \" \"#define NPY_NO_DEPRECATED_API NPY_1_7_API_VERSION\" [\u001b[01;35m\u001b[K-Wcpp\u001b[m\u001b[K]\r\n",
      "   17 | #\u001b[01;35m\u001b[Kwarning\u001b[m\u001b[K \"Using deprecated NumPy API, disable it with \" \\\r\n",
      "      |  \u001b[01;35m\u001b[K^~~~~~~\u001b[m\u001b[K\r\n",
      "/opt/conda/lib/python3.10/site-packages/Cython/Compiler/Main.py:381: FutureWarning: Cython directive 'language_level' not set, using '3str' for now (Py3). This has changed from earlier releases! File: /kaggle/working/Recsys_Challenge_2023/Recommenders/SLIM/Cython/Triangular_Matrix.pyx\r\n",
      "  tree = Parsing.p_module(s, pxd, full_module_name)\r\n",
      "warning: Triangular_Matrix.pyx:22:0: The 'IF' statement is deprecated and will be removed in a future Cython version. Consider using runtime conditions or C macros instead. See https://github.com/cython/cython/issues/4310\r\n",
      "warning: Triangular_Matrix.pyx:23:4: The 'DEF' statement is deprecated and will be removed in a future Cython version. Consider using global variables, constants, and in-place literals instead. See https://github.com/cython/cython/issues/4310\r\n",
      "warning: Triangular_Matrix.pyx:25:4: The 'DEF' statement is deprecated and will be removed in a future Cython version. Consider using global variables, constants, and in-place literals instead. See https://github.com/cython/cython/issues/4310\r\n",
      "warning: Triangular_Matrix.pyx:27:4: The 'DEF' statement is deprecated and will be removed in a future Cython version. Consider using global variables, constants, and in-place literals instead. See https://github.com/cython/cython/issues/4310\r\n",
      "Compiling [5/10]: Triangular_Matrix.pyx... PASS\r\n",
      "\r\n",
      "Compiling [6/10]: SLIM_BPR_Cython_Epoch.pyx... \r\n",
      "warning: SLIM_BPR_Cython_Epoch.pyx:24:0: The 'IF' statement is deprecated and will be removed in a future Cython version. Consider using runtime conditions or C macros instead. See https://github.com/cython/cython/issues/4310\r\n",
      "warning: SLIM_BPR_Cython_Epoch.pyx:25:4: The 'DEF' statement is deprecated and will be removed in a future Cython version. Consider using global variables, constants, and in-place literals instead. See https://github.com/cython/cython/issues/4310\r\n",
      "warning: SLIM_BPR_Cython_Epoch.pyx:27:4: The 'DEF' statement is deprecated and will be removed in a future Cython version. Consider using global variables, constants, and in-place literals instead. See https://github.com/cython/cython/issues/4310\r\n",
      "warning: SLIM_BPR_Cython_Epoch.pyx:29:4: The 'DEF' statement is deprecated and will be removed in a future Cython version. Consider using global variables, constants, and in-place literals instead. See https://github.com/cython/cython/issues/4310\r\n",
      "warning: SLIM_BPR_Cython_Epoch.pyx:632:34: Non-trivial type declarators in shared declaration (e.g. mix of pointers and values). Each pointer declaration should be on its own line.\r\n",
      "warning: SLIM_BPR_Cython_Epoch.pyx:632:66: Non-trivial type declarators in shared declaration (e.g. mix of pointers and values). Each pointer declaration should be on its own line.\r\n",
      "warning: SLIM_BPR_Cython_Epoch.pyx:817:35: Non-trivial type declarators in shared declaration (e.g. mix of pointers and values). Each pointer declaration should be on its own line.\r\n",
      "warning: SLIM_BPR_Cython_Epoch.pyx:817:52: Non-trivial type declarators in shared declaration (e.g. mix of pointers and values). Each pointer declaration should be on its own line.\r\n",
      "warning: SLIM_BPR_Cython_Epoch.pyx:916:35: Non-trivial type declarators in shared declaration (e.g. mix of pointers and values). Each pointer declaration should be on its own line.\r\n",
      "warning: SLIM_BPR_Cython_Epoch.pyx:916:53: Non-trivial type declarators in shared declaration (e.g. mix of pointers and values). Each pointer declaration should be on its own line.\r\n",
      "warning: SLIM_BPR_Cython_Epoch.pyx:916:69: Non-trivial type declarators in shared declaration (e.g. mix of pointers and values). Each pointer declaration should be on its own line.\r\n",
      "warning: SLIM_BPR_Cython_Epoch.pyx:1051:35: Non-trivial type declarators in shared declaration (e.g. mix of pointers and values). Each pointer declaration should be on its own line.\r\n",
      "warning: SLIM_BPR_Cython_Epoch.pyx:1051:42: Non-trivial type declarators in shared declaration (e.g. mix of pointers and values). Each pointer declaration should be on its own line.\r\n",
      "warning: SLIM_BPR_Cython_Epoch.pyx:1052:35: Non-trivial type declarators in shared declaration (e.g. mix of pointers and values). Each pointer declaration should be on its own line.\r\n",
      "warning: SLIM_BPR_Cython_Epoch.pyx:1052:53: Non-trivial type declarators in shared declaration (e.g. mix of pointers and values). Each pointer declaration should be on its own line.\r\n",
      "\r\n",
      "Error compiling Cython file:\r\n",
      "------------------------------------------------------------\r\n",
      "...\r\n",
      "            vector_pointer_to_list_elements[index].head = current_element\r\n",
      "            current_element = current_element.higher\r\n",
      "\r\n",
      "\r\n",
      "        # Sort array elements on their data field\r\n",
      "        qsort(vector_pointer_to_list_elements, list_length, sizeof(head_pointer_tree_s), compare_struct_on_data)\r\n",
      "                                                                                         ^\r\n",
      "------------------------------------------------------------\r\n",
      "\r\n",
      "SLIM_BPR_Cython_Epoch.pyx:990:89: Cannot assign type 'int (const void *, const void *) except? -1' to 'int (*)(const_void *, const_void *) noexcept'\r\n",
      "\r\n",
      "Error compiling Cython file:\r\n",
      "------------------------------------------------------------\r\n",
      "...\r\n",
      "        # Sort array elements on their data field\r\n",
      "        qsort(vector_pointer_to_list_elements, list_length, sizeof(head_pointer_tree_s), compare_struct_on_data)\r\n",
      "\r\n",
      "        # Sort only the TopK according to their column field\r\n",
      "        # Sort is from lower to higher, therefore the elements to be considered are from len-topK to len\r\n",
      "        qsort(&vector_pointer_to_list_elements[list_length-TopK], TopK, sizeof(head_pointer_tree_s), compare_struct_on_column)\r\n",
      "                                                                                                     ^\r\n",
      "------------------------------------------------------------\r\n",
      "\r\n",
      "SLIM_BPR_Cython_Epoch.pyx:994:101: Cannot assign type 'int (const void *, const void *) except? -1' to 'int (*)(const_void *, const_void *) noexcept'\r\n",
      "Traceback (most recent call last):\r\n",
      "  File \"/kaggle/working/Recsys_Challenge_2023/CythonCompiler/compile_script.py\", line 48, in <module>\r\n",
      "    setup(\r\n",
      "  File \"/opt/conda/lib/python3.10/site-packages/setuptools/__init__.py\", line 107, in setup\r\n",
      "    return distutils.core.setup(**attrs)\r\n",
      "  File \"/opt/conda/lib/python3.10/site-packages/setuptools/_distutils/core.py\", line 185, in setup\r\n",
      "    return run_commands(dist)\r\n",
      "  File \"/opt/conda/lib/python3.10/site-packages/setuptools/_distutils/core.py\", line 201, in run_commands\r\n",
      "    dist.run_commands()\r\n",
      "  File \"/opt/conda/lib/python3.10/site-packages/setuptools/_distutils/dist.py\", line 969, in run_commands\r\n",
      "    self.run_command(cmd)\r\n",
      "  File \"/opt/conda/lib/python3.10/site-packages/setuptools/dist.py\", line 1233, in run_command\r\n",
      "    super().run_command(command)\r\n",
      "  File \"/opt/conda/lib/python3.10/site-packages/setuptools/_distutils/dist.py\", line 988, in run_command\r\n",
      "    cmd_obj.run()\r\n",
      "  File \"/opt/conda/lib/python3.10/site-packages/setuptools/_distutils/command/build_ext.py\", line 345, in run\r\n",
      "    self.build_extensions()\r\n",
      "  File \"/opt/conda/lib/python3.10/site-packages/setuptools/_distutils/command/build_ext.py\", line 467, in build_extensions\r\n",
      "    self._build_extensions_serial()\r\n",
      "  File \"/opt/conda/lib/python3.10/site-packages/setuptools/_distutils/command/build_ext.py\", line 493, in _build_extensions_serial\r\n",
      "    self.build_extension(ext)\r\n",
      "  File \"/opt/conda/lib/python3.10/site-packages/Cython/Distutils/build_ext.py\", line 122, in build_extension\r\n",
      "    new_ext = cythonize(\r\n",
      "  File \"/opt/conda/lib/python3.10/site-packages/Cython/Build/Dependencies.py\", line 1134, in cythonize\r\n",
      "    cythonize_one(*args)\r\n",
      "  File \"/opt/conda/lib/python3.10/site-packages/Cython/Build/Dependencies.py\", line 1301, in cythonize_one\r\n",
      "    raise CompileError(None, pyx_file)\r\n",
      "Cython.Compiler.Errors.CompileError: SLIM_BPR_Cython_Epoch.pyx\r\n",
      "Traceback (most recent call last):\r\n",
      "  File \"/kaggle/working/Recsys_Challenge_2023/run_compile_all_cython.py\", line 59, in <module>\r\n",
      "    run_compile_subprocess(file_path, [file_name])\r\n",
      "  File \"/kaggle/working/Recsys_Challenge_2023/CythonCompiler/run_compile_subprocess.py\", line 51, in run_compile_subprocess\r\n",
      "    raise exc\r\n",
      "  File \"/kaggle/working/Recsys_Challenge_2023/CythonCompiler/run_compile_subprocess.py\", line 32, in run_compile_subprocess\r\n",
      "    output = subprocess.check_output(' '.join(command),\r\n",
      "  File \"/opt/conda/lib/python3.10/subprocess.py\", line 421, in check_output\r\n",
      "    return run(*popenargs, stdout=PIPE, timeout=timeout, check=True,\r\n",
      "  File \"/opt/conda/lib/python3.10/subprocess.py\", line 526, in run\r\n",
      "    raise CalledProcessError(retcode, process.args,\r\n",
      "subprocess.CalledProcessError: Command '/opt/conda/bin/python /kaggle/working/Recsys_Challenge_2023/CythonCompiler/compile_script.py SLIM_BPR_Cython_Epoch.pyx build_ext --inplace' returned non-zero exit status 1.\r\n",
      "Compiling [6/10]: SLIM_BPR_Cython_Epoch.pyx... FAIL: Command '/opt/conda/bin/python /kaggle/working/Recsys_Challenge_2023/CythonCompiler/compile_script.py SLIM_BPR_Cython_Epoch.pyx build_ext --inplace' returned non-zero exit status 1.\r\n",
      "\r\n",
      "Compiling [7/10]: FBSM_Rating_Cython_SGD.pyx... \r\n",
      "In file included from \u001b[01m\u001b[K/opt/conda/lib/python3.10/site-packages/numpy/core/include/numpy/ndarraytypes.h:1940\u001b[m\u001b[K,\r\n",
      "                 from \u001b[01m\u001b[K/opt/conda/lib/python3.10/site-packages/numpy/core/include/numpy/ndarrayobject.h:12\u001b[m\u001b[K,\r\n",
      "                 from \u001b[01m\u001b[K/opt/conda/lib/python3.10/site-packages/numpy/core/include/numpy/arrayobject.h:5\u001b[m\u001b[K,\r\n",
      "                 from \u001b[01m\u001b[KFBSM_Rating_Cython_SGD.c:1109\u001b[m\u001b[K:\r\n",
      "\u001b[01m\u001b[K/opt/conda/lib/python3.10/site-packages/numpy/core/include/numpy/npy_1_7_deprecated_api.h:17:2:\u001b[m\u001b[K \u001b[01;35m\u001b[Kwarning: \u001b[m\u001b[K#warning \"Using deprecated NumPy API, disable it with \" \"#define NPY_NO_DEPRECATED_API NPY_1_7_API_VERSION\" [\u001b[01;35m\u001b[K-Wcpp\u001b[m\u001b[K]\r\n",
      "   17 | #\u001b[01;35m\u001b[Kwarning\u001b[m\u001b[K \"Using deprecated NumPy API, disable it with \" \\\r\n",
      "      |  \u001b[01;35m\u001b[K^~~~~~~\u001b[m\u001b[K\r\n",
      "\u001b[01m\u001b[KFBSM_Rating_Cython_SGD.c:\u001b[m\u001b[K In function ‘\u001b[01m\u001b[K__pyx_pf_22FBSM_Rating_Cython_SGD_22FBSM_Rating_Cython_SGD_2fit\u001b[m\u001b[K’:\r\n",
      "\u001b[01m\u001b[KFBSM_Rating_Cython_SGD.c:26038:55:\u001b[m\u001b[K \u001b[01;35m\u001b[Kwarning: \u001b[m\u001b[K‘\u001b[01m\u001b[K__pyx_v_num_sample\u001b[m\u001b[K’ may be used uninitialized in this function [\u001b[01;35m\u001b[K-Wmaybe-uninitialized\u001b[m\u001b[K]\r\n",
      "26038 |   __pyx_t_5 = PyFloat_FromDouble((__pyx_v_cum_loss / \u001b[01;35m\u001b[K((double)__pyx_v_num_sample)\u001b[m\u001b[K)); if (unlikely(!__pyx_t_5)) __PYX_ERR(0, 551, __pyx_L1_error)\r\n",
      "      |                                                      \u001b[01;35m\u001b[K~^~~~~~~~~~~~~~~~~~~~~~~~~~~\u001b[m\u001b[K\r\n",
      "/opt/conda/lib/python3.10/site-packages/Cython/Compiler/Main.py:381: FutureWarning: Cython directive 'language_level' not set, using '3str' for now (Py3). This has changed from earlier releases! File: /kaggle/working/Recsys_Challenge_2023/Recommenders/FeatureWeighting/Cython/FBSM_Rating_Cython_SGD.pyx\r\n",
      "  tree = Parsing.p_module(s, pxd, full_module_name)\r\n",
      "Compiling [7/10]: FBSM_Rating_Cython_SGD.pyx... PASS\r\n",
      "\r\n",
      "Compiling [8/10]: CFW_D_Similarity_Cython_SGD.pyx... \r\n",
      "In file included from \u001b[01m\u001b[K/opt/conda/lib/python3.10/site-packages/numpy/core/include/numpy/ndarraytypes.h:1940\u001b[m\u001b[K,\r\n",
      "                 from \u001b[01m\u001b[K/opt/conda/lib/python3.10/site-packages/numpy/core/include/numpy/ndarrayobject.h:12\u001b[m\u001b[K,\r\n",
      "                 from \u001b[01m\u001b[K/opt/conda/lib/python3.10/site-packages/numpy/core/include/numpy/arrayobject.h:5\u001b[m\u001b[K,\r\n",
      "                 from \u001b[01m\u001b[KCFW_D_Similarity_Cython_SGD.c:1109\u001b[m\u001b[K:\r\n",
      "\u001b[01m\u001b[K/opt/conda/lib/python3.10/site-packages/numpy/core/include/numpy/npy_1_7_deprecated_api.h:17:2:\u001b[m\u001b[K \u001b[01;35m\u001b[Kwarning: \u001b[m\u001b[K#warning \"Using deprecated NumPy API, disable it with \" \"#define NPY_NO_DEPRECATED_API NPY_1_7_API_VERSION\" [\u001b[01;35m\u001b[K-Wcpp\u001b[m\u001b[K]\r\n",
      "   17 | #\u001b[01;35m\u001b[Kwarning\u001b[m\u001b[K \"Using deprecated NumPy API, disable it with \" \\\r\n",
      "      |  \u001b[01;35m\u001b[K^~~~~~~\u001b[m\u001b[K\r\n",
      "\u001b[01m\u001b[KCFW_D_Similarity_Cython_SGD.c:\u001b[m\u001b[K In function ‘\u001b[01m\u001b[K__pyx_pf_27CFW_D_Similarity_Cython_SGD_27CFW_D_Similarity_Cython_SGD_6fit\u001b[m\u001b[K’:\r\n",
      "\u001b[01m\u001b[KCFW_D_Similarity_Cython_SGD.c:22766:55:\u001b[m\u001b[K \u001b[01;35m\u001b[Kwarning: \u001b[m\u001b[K‘\u001b[01m\u001b[K__pyx_v_sample_num\u001b[m\u001b[K’ may be used uninitialized in this function [\u001b[01;35m\u001b[K-Wmaybe-uninitialized\u001b[m\u001b[K]\r\n",
      "22766 |   __pyx_t_3 = PyFloat_FromDouble((__pyx_v_cum_loss / \u001b[01;35m\u001b[K((double)__pyx_v_sample_num)\u001b[m\u001b[K)); if (unlikely(!__pyx_t_3)) __PYX_ERR(0, 290, __pyx_L1_error)\r\n",
      "      |                                                      \u001b[01;35m\u001b[K~^~~~~~~~~~~~~~~~~~~~~~~~~~~\u001b[m\u001b[K\r\n",
      "/opt/conda/lib/python3.10/site-packages/Cython/Compiler/Main.py:381: FutureWarning: Cython directive 'language_level' not set, using '3str' for now (Py3). This has changed from earlier releases! File: /kaggle/working/Recsys_Challenge_2023/Recommenders/FeatureWeighting/Cython/CFW_D_Similarity_Cython_SGD.pyx\r\n",
      "  tree = Parsing.p_module(s, pxd, full_module_name)\r\n",
      "Compiling [8/10]: CFW_D_Similarity_Cython_SGD.pyx... PASS\r\n",
      "\r\n",
      "Compiling [9/10]: CFW_DVV_Similarity_Cython_SGD.pyx... \r\n",
      "In file included from \u001b[01m\u001b[K/opt/conda/lib/python3.10/site-packages/numpy/core/include/numpy/ndarraytypes.h:1940\u001b[m\u001b[K,\r\n",
      "                 from \u001b[01m\u001b[K/opt/conda/lib/python3.10/site-packages/numpy/core/include/numpy/ndarrayobject.h:12\u001b[m\u001b[K,\r\n",
      "                 from \u001b[01m\u001b[K/opt/conda/lib/python3.10/site-packages/numpy/core/include/numpy/arrayobject.h:5\u001b[m\u001b[K,\r\n",
      "                 from \u001b[01m\u001b[KCFW_DVV_Similarity_Cython_SGD.c:1109\u001b[m\u001b[K:\r\n",
      "\u001b[01m\u001b[K/opt/conda/lib/python3.10/site-packages/numpy/core/include/numpy/npy_1_7_deprecated_api.h:17:2:\u001b[m\u001b[K \u001b[01;35m\u001b[Kwarning: \u001b[m\u001b[K#warning \"Using deprecated NumPy API, disable it with \" \"#define NPY_NO_DEPRECATED_API NPY_1_7_API_VERSION\" [\u001b[01;35m\u001b[K-Wcpp\u001b[m\u001b[K]\r\n",
      "   17 | #\u001b[01;35m\u001b[Kwarning\u001b[m\u001b[K \"Using deprecated NumPy API, disable it with \" \\\r\n",
      "      |  \u001b[01;35m\u001b[K^~~~~~~\u001b[m\u001b[K\r\n",
      "/opt/conda/lib/python3.10/site-packages/Cython/Compiler/Main.py:381: FutureWarning: Cython directive 'language_level' not set, using '3str' for now (Py3). This has changed from earlier releases! File: /kaggle/working/Recsys_Challenge_2023/Recommenders/FeatureWeighting/Cython/CFW_DVV_Similarity_Cython_SGD.pyx\r\n",
      "  tree = Parsing.p_module(s, pxd, full_module_name)\r\n",
      "Compiling [9/10]: CFW_DVV_Similarity_Cython_SGD.pyx... PASS\r\n",
      "\r\n",
      "Compiling [10/10]: HP3_Similarity_Cython_SGD.pyx... \r\n",
      "warning: HP3_Similarity_Cython_SGD.pyx:113:40: Index should be typed for more efficient access\r\n",
      "In file included from \u001b[01m\u001b[K/opt/conda/lib/python3.10/site-packages/numpy/core/include/numpy/ndarraytypes.h:1940\u001b[m\u001b[K,\r\n",
      "                 from \u001b[01m\u001b[K/opt/conda/lib/python3.10/site-packages/numpy/core/include/numpy/ndarrayobject.h:12\u001b[m\u001b[K,\r\n",
      "                 from \u001b[01m\u001b[K/opt/conda/lib/python3.10/site-packages/numpy/core/include/numpy/arrayobject.h:5\u001b[m\u001b[K,\r\n",
      "                 from \u001b[01m\u001b[KHP3_Similarity_Cython_SGD.c:1109\u001b[m\u001b[K:\r\n",
      "\u001b[01m\u001b[K/opt/conda/lib/python3.10/site-packages/numpy/core/include/numpy/npy_1_7_deprecated_api.h:17:2:\u001b[m\u001b[K \u001b[01;35m\u001b[Kwarning: \u001b[m\u001b[K#warning \"Using deprecated NumPy API, disable it with \" \"#define NPY_NO_DEPRECATED_API NPY_1_7_API_VERSION\" [\u001b[01;35m\u001b[K-Wcpp\u001b[m\u001b[K]\r\n",
      "   17 | #\u001b[01;35m\u001b[Kwarning\u001b[m\u001b[K \"Using deprecated NumPy API, disable it with \" \\\r\n",
      "      |  \u001b[01;35m\u001b[K^~~~~~~\u001b[m\u001b[K\r\n",
      "\u001b[01m\u001b[KHP3_Similarity_Cython_SGD.c:\u001b[m\u001b[K In function ‘\u001b[01m\u001b[K__pyx_pf_25HP3_Similarity_Cython_SGD_25HP3_Similarity_Cython_SGD_4fit\u001b[m\u001b[K’:\r\n",
      "\u001b[01m\u001b[KHP3_Similarity_Cython_SGD.c:23035:55:\u001b[m\u001b[K \u001b[01;35m\u001b[Kwarning: \u001b[m\u001b[K‘\u001b[01m\u001b[K__pyx_v_sample_num\u001b[m\u001b[K’ may be used uninitialized in this function [\u001b[01;35m\u001b[K-Wmaybe-uninitialized\u001b[m\u001b[K]\r\n",
      "23035 |   __pyx_t_1 = PyFloat_FromDouble((__pyx_v_cum_loss / \u001b[01;35m\u001b[K((double)__pyx_v_sample_num)\u001b[m\u001b[K)); if (unlikely(!__pyx_t_1)) __PYX_ERR(0, 291, __pyx_L1_error)\r\n",
      "      |                                                      \u001b[01;35m\u001b[K~^~~~~~~~~~~~~~~~~~~~~~~~~~~\u001b[m\u001b[K\r\n",
      "/opt/conda/lib/python3.10/site-packages/Cython/Compiler/Main.py:381: FutureWarning: Cython directive 'language_level' not set, using '3str' for now (Py3). This has changed from earlier releases! File: /kaggle/working/Recsys_Challenge_2023/Recommenders/FeatureWeighting/Cython/HP3_Similarity_Cython_SGD.pyx\r\n",
      "  tree = Parsing.p_module(s, pxd, full_module_name)\r\n",
      "warning: HP3_Similarity_Cython_SGD.pyx:113:40: Index should be typed for more efficient access\r\n",
      "Compiling [10/10]: HP3_Similarity_Cython_SGD.pyx... PASS\r\n",
      "\r\n",
      "run_compile_all_cython: Compilation finished. FAILS 2/10.\r\n",
      "Compilation log can be found here: './result_experiments/run_compile_all_cython.txt'\r\n"
     ]
    }
   ],
   "source": [
    "! cd /kaggle/working/Recsys_Challenge_2023 && python run_compile_all_cython.py"
   ]
  },
  {
   "cell_type": "code",
   "execution_count": 4,
   "id": "180a4491",
   "metadata": {
    "execution": {
     "iopub.execute_input": "2023-12-01T10:50:50.279873Z",
     "iopub.status.busy": "2023-12-01T10:50:50.279360Z",
     "iopub.status.idle": "2023-12-01T10:50:53.897061Z",
     "shell.execute_reply": "2023-12-01T10:50:53.895059Z"
    },
    "papermill": {
     "duration": 3.638115,
     "end_time": "2023-12-01T10:50:53.900008",
     "exception": false,
     "start_time": "2023-12-01T10:50:50.261893",
     "status": "completed"
    },
    "tags": []
   },
   "outputs": [
    {
     "name": "stdout",
     "output_type": "stream",
     "text": [
      "/kaggle/input/recommender-system-2023-challenge-polimi/data_train.csv\n",
      "/kaggle/input/recommender-system-2023-challenge-polimi/data_target_users_test.csv\n"
     ]
    }
   ],
   "source": [
    "import numpy as np\n",
    "import pandas as pd\n",
    "import matplotlib.pyplot as plt\n",
    "import seaborn as sns\n",
    "import joblib\n",
    "import json\n",
    "import random\n",
    "import tqdm\n",
    "import gc\n",
    "import time\n",
    "import os\n",
    "import shutil\n",
    "import optuna\n",
    "import scipy.sparse as sps\n",
    "\n",
    "for dirname, _, filenames in os.walk('/kaggle/input'):\n",
    "    for filename in filenames:\n",
    "        print(os.path.join(dirname, filename))"
   ]
  },
  {
   "cell_type": "code",
   "execution_count": 5,
   "id": "ae3ad2e7",
   "metadata": {
    "execution": {
     "iopub.execute_input": "2023-12-01T10:50:53.932611Z",
     "iopub.status.busy": "2023-12-01T10:50:53.931979Z",
     "iopub.status.idle": "2023-12-01T10:50:53.940514Z",
     "shell.execute_reply": "2023-12-01T10:50:53.939128Z"
    },
    "papermill": {
     "duration": 0.02773,
     "end_time": "2023-12-01T10:50:53.943232",
     "exception": false,
     "start_time": "2023-12-01T10:50:53.915502",
     "status": "completed"
    },
    "tags": []
   },
   "outputs": [
    {
     "name": "stdout",
     "output_type": "stream",
     "text": [
      "/kaggle/working/Recsys_Challenge_2023\n"
     ]
    }
   ],
   "source": [
    "%cd /kaggle/working/Recsys_Challenge_2023"
   ]
  },
  {
   "cell_type": "code",
   "execution_count": 6,
   "id": "2c7a1bca",
   "metadata": {
    "execution": {
     "iopub.execute_input": "2023-12-01T10:50:53.975321Z",
     "iopub.status.busy": "2023-12-01T10:50:53.974924Z",
     "iopub.status.idle": "2023-12-01T10:50:58.577857Z",
     "shell.execute_reply": "2023-12-01T10:50:58.576330Z"
    },
    "papermill": {
     "duration": 4.622533,
     "end_time": "2023-12-01T10:50:58.580826",
     "exception": false,
     "start_time": "2023-12-01T10:50:53.958293",
     "status": "completed"
    },
    "tags": []
   },
   "outputs": [],
   "source": [
    "from Recommenders.KNN.UserKNNCFRecommender import UserKNNCFRecommender\n",
    "from Data_manager.split_functions.split_train_validation_random_holdout import split_train_in_two_percentage_global_sample\n",
    "from Recommenders.SLIM.SLIMElasticNetRecommender import MultiThreadSLIM_SLIMElasticNetRecommender\n",
    "from Evaluation.Evaluator import EvaluatorHoldout\n",
    "from Recommenders.MatrixFactorization.IALSRecommender import IALSRecommender\n",
    "from Recommenders.MatrixFactorization.PureSVDRecommender import PureSVDRecommender, PureSVDItemRecommender\n",
    "from Recommenders.KNN.ItemKNNCFRecommender import ItemKNNCFRecommender\n",
    "from Recommenders.KNN.UserKNNCFRecommender import UserKNNCFRecommender\n",
    "from Recommenders.MatrixFactorization.Cython.MatrixFactorization_Cython import MatrixFactorization_BPR_Cython, MatrixFactorization_SVDpp_Cython, MatrixFactorization_AsySVD_Cython, MatrixFactorization_WARP_Cython\n",
    "from Recommenders.MatrixFactorization.PyTorch.MF_MSE_PyTorch import MF_MSE_PyTorch\n",
    "\n",
    "np.int = int\n",
    "np.random.seed(42)\n",
    "np.bool = bool\n",
    "np.float = float"
   ]
  },
  {
   "cell_type": "code",
   "execution_count": 7,
   "id": "47c96177",
   "metadata": {
    "execution": {
     "iopub.execute_input": "2023-12-01T10:50:58.613179Z",
     "iopub.status.busy": "2023-12-01T10:50:58.612462Z",
     "iopub.status.idle": "2023-12-01T10:50:59.488214Z",
     "shell.execute_reply": "2023-12-01T10:50:59.486904Z"
    },
    "papermill": {
     "duration": 0.894986,
     "end_time": "2023-12-01T10:50:59.490932",
     "exception": false,
     "start_time": "2023-12-01T10:50:58.595946",
     "status": "completed"
    },
    "tags": []
   },
   "outputs": [
    {
     "name": "stdout",
     "output_type": "stream",
     "text": [
      "Repository found\n"
     ]
    }
   ],
   "source": [
    "from github import Github\n",
    "from github import Auth\n",
    "\n",
    "auth = Auth.Token(token)\n",
    "g = Github(auth=auth)\n",
    "\n",
    "repo = None\n",
    "for r in g.get_user().get_repos():\n",
    "    if r.name == 'Recsys_Challenge_2023':\n",
    "        repo = r\n",
    "        print('Repository found')"
   ]
  },
  {
   "cell_type": "code",
   "execution_count": 8,
   "id": "0bb56947",
   "metadata": {
    "execution": {
     "iopub.execute_input": "2023-12-01T10:50:59.523798Z",
     "iopub.status.busy": "2023-12-01T10:50:59.522996Z",
     "iopub.status.idle": "2023-12-01T10:50:59.531389Z",
     "shell.execute_reply": "2023-12-01T10:50:59.530106Z"
    },
    "papermill": {
     "duration": 0.027543,
     "end_time": "2023-12-01T10:50:59.533818",
     "exception": false,
     "start_time": "2023-12-01T10:50:59.506275",
     "status": "completed"
    },
    "tags": []
   },
   "outputs": [],
   "source": [
    "def upload_file(filepath_kaggle, filepath_github, commit_message):\n",
    "    try:\n",
    "        contents = repo.get_contents(filepath_github)\n",
    "        with open(filepath_kaggle, \"rb\") as file:\n",
    "            repo.update_file(contents.path, commit_message, file.read(), contents.sha)\n",
    "    except Exception:\n",
    "        with open(filepath_kaggle, \"rb\") as file:\n",
    "            repo.create_file(filepath_github, commit_message, file.read())"
   ]
  },
  {
   "cell_type": "code",
   "execution_count": 9,
   "id": "737e27bf",
   "metadata": {
    "execution": {
     "iopub.execute_input": "2023-12-01T10:50:59.565837Z",
     "iopub.status.busy": "2023-12-01T10:50:59.565318Z",
     "iopub.status.idle": "2023-12-01T10:50:59.570919Z",
     "shell.execute_reply": "2023-12-01T10:50:59.569910Z"
    },
    "papermill": {
     "duration": 0.024548,
     "end_time": "2023-12-01T10:50:59.573285",
     "exception": false,
     "start_time": "2023-12-01T10:50:59.548737",
     "status": "completed"
    },
    "tags": []
   },
   "outputs": [],
   "source": [
    "config = {\n",
    "    'tune_parameters': True,\n",
    "    'database_path': '/kaggle/working/tuning_puresvd.db',\n",
    "    'copy_prev_best_params': True,\n",
    "    'save_github': True\n",
    "}"
   ]
  },
  {
   "cell_type": "code",
   "execution_count": 10,
   "id": "91bdb256",
   "metadata": {
    "execution": {
     "iopub.execute_input": "2023-12-01T10:50:59.605746Z",
     "iopub.status.busy": "2023-12-01T10:50:59.605239Z",
     "iopub.status.idle": "2023-12-01T10:50:59.612500Z",
     "shell.execute_reply": "2023-12-01T10:50:59.611216Z"
    },
    "papermill": {
     "duration": 0.026874,
     "end_time": "2023-12-01T10:50:59.615122",
     "exception": false,
     "start_time": "2023-12-01T10:50:59.588248",
     "status": "completed"
    },
    "tags": []
   },
   "outputs": [],
   "source": [
    "try:\n",
    "    shutil.copyfile(\n",
    "        '/kaggle/working/Recsys_Challenge_2023/tuning_results/tuning_puresvd.db', \n",
    "        config['database_path']\n",
    "    )\n",
    "except FileNotFoundError:\n",
    "    pass # if not present optuna will create it"
   ]
  },
  {
   "cell_type": "code",
   "execution_count": 11,
   "id": "56e67204",
   "metadata": {
    "execution": {
     "iopub.execute_input": "2023-12-01T10:50:59.647333Z",
     "iopub.status.busy": "2023-12-01T10:50:59.646826Z",
     "iopub.status.idle": "2023-12-01T10:51:00.002046Z",
     "shell.execute_reply": "2023-12-01T10:51:00.000314Z"
    },
    "papermill": {
     "duration": 0.374994,
     "end_time": "2023-12-01T10:51:00.005255",
     "exception": false,
     "start_time": "2023-12-01T10:50:59.630261",
     "status": "completed"
    },
    "tags": []
   },
   "outputs": [],
   "source": [
    "train_data = pd.read_csv('/kaggle/input/recommender-system-2023-challenge-polimi/data_train.csv')\n",
    "user_ids_test = pd.read_csv('/kaggle/input/recommender-system-2023-challenge-polimi/data_target_users_test.csv')"
   ]
  },
  {
   "cell_type": "code",
   "execution_count": 12,
   "id": "fecb7065",
   "metadata": {
    "execution": {
     "iopub.execute_input": "2023-12-01T10:51:00.037857Z",
     "iopub.status.busy": "2023-12-01T10:51:00.037442Z",
     "iopub.status.idle": "2023-12-01T10:51:00.082284Z",
     "shell.execute_reply": "2023-12-01T10:51:00.081114Z"
    },
    "papermill": {
     "duration": 0.063747,
     "end_time": "2023-12-01T10:51:00.084764",
     "exception": false,
     "start_time": "2023-12-01T10:51:00.021017",
     "status": "completed"
    },
    "tags": []
   },
   "outputs": [
    {
     "data": {
      "text/plain": [
       "<13024x22347 sparse matrix of type '<class 'numpy.float64'>'\n",
       "\twith 478730 stored elements in Compressed Sparse Row format>"
      ]
     },
     "execution_count": 12,
     "metadata": {},
     "output_type": "execute_result"
    }
   ],
   "source": [
    "URM_all = sps.csr_matrix((train_data.data.values,\n",
    "                          ((train_data.row - 1).values, (train_data.col - 1).values)),\n",
    "                        shape=(train_data.row.max(), train_data.col.max()))\n",
    "URM_all"
   ]
  },
  {
   "cell_type": "code",
   "execution_count": 13,
   "id": "815cf91d",
   "metadata": {
    "execution": {
     "iopub.execute_input": "2023-12-01T10:51:00.117917Z",
     "iopub.status.busy": "2023-12-01T10:51:00.116551Z",
     "iopub.status.idle": "2023-12-01T10:51:01.770390Z",
     "shell.execute_reply": "2023-12-01T10:51:01.768949Z"
    },
    "papermill": {
     "duration": 1.673722,
     "end_time": "2023-12-01T10:51:01.773802",
     "exception": false,
     "start_time": "2023-12-01T10:51:00.100080",
     "status": "completed"
    },
    "tags": []
   },
   "outputs": [
    {
     "name": "stdout",
     "output_type": "stream",
     "text": [
      "Warning: 627 (4.81 %) of 13024 users have no train items\n",
      "Warning: 2568 (19.72 %) of 13024 users have no sampled items\n",
      "Warning: 2953 (22.67 %) of 13024 users have no train items\n",
      "Warning: 6367 (48.89 %) of 13024 users have no sampled items\n"
     ]
    }
   ],
   "source": [
    "URM_train, URM_test_complete = split_train_in_two_percentage_global_sample(URM_all, train_percentage = 0.8)\n",
    "URM_validation, URM_test = split_train_in_two_percentage_global_sample(URM_test_complete, train_percentage = 0.8)"
   ]
  },
  {
   "cell_type": "code",
   "execution_count": 14,
   "id": "709b652f",
   "metadata": {
    "execution": {
     "iopub.execute_input": "2023-12-01T10:51:01.811028Z",
     "iopub.status.busy": "2023-12-01T10:51:01.810587Z",
     "iopub.status.idle": "2023-12-01T10:51:01.826295Z",
     "shell.execute_reply": "2023-12-01T10:51:01.825169Z"
    },
    "papermill": {
     "duration": 0.039059,
     "end_time": "2023-12-01T10:51:01.829712",
     "exception": false,
     "start_time": "2023-12-01T10:51:01.790653",
     "status": "completed"
    },
    "tags": []
   },
   "outputs": [
    {
     "name": "stdout",
     "output_type": "stream",
     "text": [
      "EvaluatorHoldout: Ignoring 2568 (19.7%) Users that have less than 1 test interactions\n"
     ]
    }
   ],
   "source": [
    "evaluator = EvaluatorHoldout(URM_test_complete, cutoff_list=[10])\n",
    "\n",
    "def objective_function_pure_svd_item(trial):\n",
    "    params = {\n",
    "        'topK': trial.suggest_int('topK', 1, 1000, log=True),\n",
    "        'num_factors': trial.suggest_int('num_factors', 1, 1000, log=True)\n",
    "    }\n",
    "                          \n",
    "    recommender_instance = PureSVDItemRecommender(URM_train)\n",
    "    recommender_instance.fit(**params)       \n",
    "    result_df, _ = evaluator.evaluateRecommender(recommender_instance)\n",
    "    return result_df.loc[10, \"MAP\"]"
   ]
  },
  {
   "cell_type": "code",
   "execution_count": 15,
   "id": "f98337c5",
   "metadata": {
    "_kg_hide-output": true,
    "execution": {
     "iopub.execute_input": "2023-12-01T10:51:01.865266Z",
     "iopub.status.busy": "2023-12-01T10:51:01.864836Z",
     "iopub.status.idle": "2023-12-01T13:24:05.041739Z",
     "shell.execute_reply": "2023-12-01T13:24:05.040074Z"
    },
    "papermill": {
     "duration": 9183.197994,
     "end_time": "2023-12-01T13:24:05.044543",
     "exception": false,
     "start_time": "2023-12-01T10:51:01.846549",
     "status": "completed"
    },
    "scrolled": true,
    "tags": []
   },
   "outputs": [
    {
     "name": "stderr",
     "output_type": "stream",
     "text": [
      "[I 2023-12-01 10:51:02,375] Using an existing study with name 'hyperparameters_tuning_puresvd_item' instead of creating a new one.\n"
     ]
    },
    {
     "name": "stdout",
     "output_type": "stream",
     "text": [
      "PureSVDItemRecommender: URM Detected 627 ( 4.8%) users with no interactions.\n",
      "PureSVDItemRecommender: URM Detected 247 ( 1.1%) items with no interactions.\n",
      "PureSVDItemRecommender: Computing SVD decomposition...\n",
      "PureSVDItemRecommender: Computing SVD decomposition... Done!\n",
      "EvaluatorHoldout: Processed 10456 (100.0%) in 15.07 sec. Users per second: 694\n"
     ]
    },
    {
     "name": "stderr",
     "output_type": "stream",
     "text": [
      "[I 2023-12-01 10:51:51,117] Trial 100 finished with value: 0.03347181234136118 and parameters: {'topK': 54, 'num_factors': 210}. Best is trial 92 with value: 0.03352021243973271.\n"
     ]
    },
    {
     "name": "stdout",
     "output_type": "stream",
     "text": [
      "PureSVDItemRecommender: URM Detected 627 ( 4.8%) users with no interactions.\n",
      "PureSVDItemRecommender: URM Detected 247 ( 1.1%) items with no interactions.\n",
      "PureSVDItemRecommender: Computing SVD decomposition...\n",
      "PureSVDItemRecommender: Computing SVD decomposition... Done!\n",
      "EvaluatorHoldout: Processed 10456 (100.0%) in 14.91 sec. Users per second: 701\n"
     ]
    },
    {
     "name": "stderr",
     "output_type": "stream",
     "text": [
      "[I 2023-12-01 10:52:37,856] Trial 101 finished with value: 0.03322246056035294 and parameters: {'topK': 53, 'num_factors': 206}. Best is trial 92 with value: 0.03352021243973271.\n"
     ]
    },
    {
     "name": "stdout",
     "output_type": "stream",
     "text": [
      "PureSVDItemRecommender: URM Detected 627 ( 4.8%) users with no interactions.\n",
      "PureSVDItemRecommender: URM Detected 247 ( 1.1%) items with no interactions.\n",
      "PureSVDItemRecommender: Computing SVD decomposition...\n",
      "PureSVDItemRecommender: Computing SVD decomposition... Done!\n",
      "EvaluatorHoldout: Processed 10456 (100.0%) in 14.64 sec. Users per second: 714\n"
     ]
    },
    {
     "name": "stderr",
     "output_type": "stream",
     "text": [
      "[I 2023-12-01 10:53:21,181] Trial 102 finished with value: 0.03335201706926106 and parameters: {'topK': 44, 'num_factors': 148}. Best is trial 92 with value: 0.03352021243973271.\n"
     ]
    },
    {
     "name": "stdout",
     "output_type": "stream",
     "text": [
      "PureSVDItemRecommender: URM Detected 627 ( 4.8%) users with no interactions.\n",
      "PureSVDItemRecommender: URM Detected 247 ( 1.1%) items with no interactions.\n",
      "PureSVDItemRecommender: Computing SVD decomposition...\n",
      "PureSVDItemRecommender: Computing SVD decomposition... Done!\n",
      "EvaluatorHoldout: Processed 10456 (100.0%) in 13.54 sec. Users per second: 772\n"
     ]
    },
    {
     "name": "stderr",
     "output_type": "stream",
     "text": [
      "[I 2023-12-01 10:54:09,218] Trial 103 finished with value: 0.03309732924666955 and parameters: {'topK': 31, 'num_factors': 258}. Best is trial 92 with value: 0.03352021243973271.\n"
     ]
    },
    {
     "name": "stdout",
     "output_type": "stream",
     "text": [
      "PureSVDItemRecommender: URM Detected 627 ( 4.8%) users with no interactions.\n",
      "PureSVDItemRecommender: URM Detected 247 ( 1.1%) items with no interactions.\n",
      "PureSVDItemRecommender: Computing SVD decomposition...\n",
      "PureSVDItemRecommender: Computing SVD decomposition... Done!\n",
      "EvaluatorHoldout: Processed 10456 (100.0%) in 15.40 sec. Users per second: 679\n"
     ]
    },
    {
     "name": "stderr",
     "output_type": "stream",
     "text": [
      "[I 2023-12-01 10:54:53,539] Trial 104 finished with value: 0.03319786770867532 and parameters: {'topK': 57, 'num_factors': 125}. Best is trial 92 with value: 0.03352021243973271.\n"
     ]
    },
    {
     "name": "stdout",
     "output_type": "stream",
     "text": [
      "PureSVDItemRecommender: URM Detected 627 ( 4.8%) users with no interactions.\n",
      "PureSVDItemRecommender: URM Detected 247 ( 1.1%) items with no interactions.\n",
      "PureSVDItemRecommender: Computing SVD decomposition...\n",
      "PureSVDItemRecommender: Computing SVD decomposition... Done!\n",
      "EvaluatorHoldout: Processed 10456 (100.0%) in 14.67 sec. Users per second: 713\n"
     ]
    },
    {
     "name": "stderr",
     "output_type": "stream",
     "text": [
      "[I 2023-12-01 10:55:38,509] Trial 105 finished with value: 0.03303305385530925 and parameters: {'topK': 48, 'num_factors': 190}. Best is trial 92 with value: 0.03352021243973271.\n"
     ]
    },
    {
     "name": "stdout",
     "output_type": "stream",
     "text": [
      "PureSVDItemRecommender: URM Detected 627 ( 4.8%) users with no interactions.\n",
      "PureSVDItemRecommender: URM Detected 247 ( 1.1%) items with no interactions.\n",
      "PureSVDItemRecommender: Computing SVD decomposition...\n",
      "PureSVDItemRecommender: Computing SVD decomposition... Done!\n",
      "EvaluatorHoldout: Processed 10456 (100.0%) in 14.21 sec. Users per second: 736\n"
     ]
    },
    {
     "name": "stderr",
     "output_type": "stream",
     "text": [
      "[I 2023-12-01 10:56:23,516] Trial 106 finished with value: 0.033226240572740505 and parameters: {'topK': 38, 'num_factors': 222}. Best is trial 92 with value: 0.03352021243973271.\n"
     ]
    },
    {
     "name": "stdout",
     "output_type": "stream",
     "text": [
      "PureSVDItemRecommender: URM Detected 627 ( 4.8%) users with no interactions.\n",
      "PureSVDItemRecommender: URM Detected 247 ( 1.1%) items with no interactions.\n",
      "PureSVDItemRecommender: Computing SVD decomposition...\n",
      "PureSVDItemRecommender: Computing SVD decomposition... Done!\n",
      "EvaluatorHoldout: Processed 10456 (100.0%) in 12.35 sec. Users per second: 847\n"
     ]
    },
    {
     "name": "stderr",
     "output_type": "stream",
     "text": [
      "[I 2023-12-01 10:57:19,286] Trial 107 finished with value: 0.03273918066333926 and parameters: {'topK': 25, 'num_factors': 405}. Best is trial 92 with value: 0.03352021243973271.\n"
     ]
    },
    {
     "name": "stdout",
     "output_type": "stream",
     "text": [
      "PureSVDItemRecommender: URM Detected 627 ( 4.8%) users with no interactions.\n",
      "PureSVDItemRecommender: URM Detected 247 ( 1.1%) items with no interactions.\n",
      "PureSVDItemRecommender: Computing SVD decomposition...\n",
      "PureSVDItemRecommender: Computing SVD decomposition... Done!\n",
      "EvaluatorHoldout: Processed 10456 (100.0%) in 14.55 sec. Users per second: 719\n"
     ]
    },
    {
     "name": "stderr",
     "output_type": "stream",
     "text": [
      "[I 2023-12-01 10:57:57,625] Trial 108 finished with value: 0.033067415534181334 and parameters: {'topK': 32, 'num_factors': 100}. Best is trial 92 with value: 0.03352021243973271.\n"
     ]
    },
    {
     "name": "stdout",
     "output_type": "stream",
     "text": [
      "PureSVDItemRecommender: URM Detected 627 ( 4.8%) users with no interactions.\n",
      "PureSVDItemRecommender: URM Detected 247 ( 1.1%) items with no interactions.\n",
      "PureSVDItemRecommender: Computing SVD decomposition...\n",
      "PureSVDItemRecommender: Computing SVD decomposition... Done!\n",
      "EvaluatorHoldout: Processed 10456 (100.0%) in 15.39 sec. Users per second: 679\n"
     ]
    },
    {
     "name": "stderr",
     "output_type": "stream",
     "text": [
      "[I 2023-12-01 10:58:43,806] Trial 109 finished with value: 0.03309590604923461 and parameters: {'topK': 58, 'num_factors': 162}. Best is trial 92 with value: 0.03352021243973271.\n"
     ]
    },
    {
     "name": "stdout",
     "output_type": "stream",
     "text": [
      "PureSVDItemRecommender: URM Detected 627 ( 4.8%) users with no interactions.\n",
      "PureSVDItemRecommender: URM Detected 247 ( 1.1%) items with no interactions.\n",
      "PureSVDItemRecommender: Computing SVD decomposition...\n",
      "PureSVDItemRecommender: Computing SVD decomposition... Done!\n",
      "EvaluatorHoldout: Processed 10456 (100.0%) in 15.16 sec. Users per second: 690\n"
     ]
    },
    {
     "name": "stderr",
     "output_type": "stream",
     "text": [
      "[I 2023-12-01 10:59:26,777] Trial 110 finished with value: 0.03321849458350065 and parameters: {'topK': 42, 'num_factors': 128}. Best is trial 92 with value: 0.03352021243973271.\n"
     ]
    },
    {
     "name": "stdout",
     "output_type": "stream",
     "text": [
      "PureSVDItemRecommender: URM Detected 627 ( 4.8%) users with no interactions.\n",
      "PureSVDItemRecommender: URM Detected 247 ( 1.1%) items with no interactions.\n",
      "PureSVDItemRecommender: Computing SVD decomposition...\n",
      "PureSVDItemRecommender: Computing SVD decomposition... Done!\n",
      "EvaluatorHoldout: Processed 10456 (100.0%) in 15.04 sec. Users per second: 695\n"
     ]
    },
    {
     "name": "stderr",
     "output_type": "stream",
     "text": [
      "[I 2023-12-01 11:00:11,125] Trial 111 finished with value: 0.03331977310817239 and parameters: {'topK': 46, 'num_factors': 160}. Best is trial 92 with value: 0.03352021243973271.\n"
     ]
    },
    {
     "name": "stdout",
     "output_type": "stream",
     "text": [
      "PureSVDItemRecommender: URM Detected 627 ( 4.8%) users with no interactions.\n",
      "PureSVDItemRecommender: URM Detected 247 ( 1.1%) items with no interactions.\n",
      "PureSVDItemRecommender: Computing SVD decomposition...\n",
      "PureSVDItemRecommender: Computing SVD decomposition... Done!\n",
      "EvaluatorHoldout: Processed 10456 (100.0%) in 13.47 sec. Users per second: 776\n"
     ]
    },
    {
     "name": "stderr",
     "output_type": "stream",
     "text": [
      "[I 2023-12-01 11:00:54,196] Trial 112 finished with value: 0.033129345496168604 and parameters: {'topK': 28, 'num_factors': 196}. Best is trial 92 with value: 0.03352021243973271.\n"
     ]
    },
    {
     "name": "stdout",
     "output_type": "stream",
     "text": [
      "PureSVDItemRecommender: URM Detected 627 ( 4.8%) users with no interactions.\n",
      "PureSVDItemRecommender: URM Detected 247 ( 1.1%) items with no interactions.\n",
      "PureSVDItemRecommender: Computing SVD decomposition...\n",
      "PureSVDItemRecommender: Computing SVD decomposition... Done!\n",
      "EvaluatorHoldout: Processed 10456 (100.0%) in 14.82 sec. Users per second: 706\n"
     ]
    },
    {
     "name": "stderr",
     "output_type": "stream",
     "text": [
      "[I 2023-12-01 11:01:37,457] Trial 113 finished with value: 0.03372004833558052 and parameters: {'topK': 41, 'num_factors': 149}. Best is trial 113 with value: 0.03372004833558052.\n"
     ]
    },
    {
     "name": "stdout",
     "output_type": "stream",
     "text": [
      "PureSVDItemRecommender: URM Detected 627 ( 4.8%) users with no interactions.\n",
      "PureSVDItemRecommender: URM Detected 247 ( 1.1%) items with no interactions.\n",
      "PureSVDItemRecommender: Computing SVD decomposition...\n",
      "PureSVDItemRecommender: Computing SVD decomposition... Done!\n",
      "EvaluatorHoldout: Processed 10456 (100.0%) in 12.38 sec. Users per second: 845\n"
     ]
    },
    {
     "name": "stderr",
     "output_type": "stream",
     "text": [
      "[I 2023-12-01 11:02:23,686] Trial 114 finished with value: 0.032984851106982106 and parameters: {'topK': 21, 'num_factors': 273}. Best is trial 113 with value: 0.03372004833558052.\n"
     ]
    },
    {
     "name": "stdout",
     "output_type": "stream",
     "text": [
      "PureSVDItemRecommender: URM Detected 627 ( 4.8%) users with no interactions.\n",
      "PureSVDItemRecommender: URM Detected 247 ( 1.1%) items with no interactions.\n",
      "PureSVDItemRecommender: Computing SVD decomposition...\n",
      "PureSVDItemRecommender: Computing SVD decomposition... Done!\n",
      "EvaluatorHoldout: Processed 10456 (100.0%) in 13.47 sec. Users per second: 776\n"
     ]
    },
    {
     "name": "stderr",
     "output_type": "stream",
     "text": [
      "[I 2023-12-01 11:03:16,470] Trial 115 finished with value: 0.032912939786983626 and parameters: {'topK': 37, 'num_factors': 330}. Best is trial 113 with value: 0.03372004833558052.\n"
     ]
    },
    {
     "name": "stdout",
     "output_type": "stream",
     "text": [
      "PureSVDItemRecommender: URM Detected 627 ( 4.8%) users with no interactions.\n",
      "PureSVDItemRecommender: URM Detected 247 ( 1.1%) items with no interactions.\n",
      "PureSVDItemRecommender: Computing SVD decomposition...\n",
      "PureSVDItemRecommender: Computing SVD decomposition... Done!\n",
      "EvaluatorHoldout: Processed 10456 (100.0%) in 15.49 sec. Users per second: 675\n"
     ]
    },
    {
     "name": "stderr",
     "output_type": "stream",
     "text": [
      "[I 2023-12-01 11:03:57,056] Trial 116 finished with value: 0.0323862656513769 and parameters: {'topK': 52, 'num_factors': 88}. Best is trial 113 with value: 0.03372004833558052.\n"
     ]
    },
    {
     "name": "stdout",
     "output_type": "stream",
     "text": [
      "PureSVDItemRecommender: URM Detected 627 ( 4.8%) users with no interactions.\n",
      "PureSVDItemRecommender: URM Detected 247 ( 1.1%) items with no interactions.\n",
      "PureSVDItemRecommender: Computing SVD decomposition...\n",
      "PureSVDItemRecommender: Computing SVD decomposition... Done!\n",
      "EvaluatorHoldout: Processed 10456 (100.0%) in 13.93 sec. Users per second: 751\n"
     ]
    },
    {
     "name": "stderr",
     "output_type": "stream",
     "text": [
      "[I 2023-12-01 11:04:35,626] Trial 117 finished with value: 0.032941513796286466 and parameters: {'topK': 26, 'num_factors': 111}. Best is trial 113 with value: 0.03372004833558052.\n"
     ]
    },
    {
     "name": "stdout",
     "output_type": "stream",
     "text": [
      "PureSVDItemRecommender: URM Detected 627 ( 4.8%) users with no interactions.\n",
      "PureSVDItemRecommender: URM Detected 247 ( 1.1%) items with no interactions.\n",
      "PureSVDItemRecommender: Computing SVD decomposition...\n",
      "PureSVDItemRecommender: Computing SVD decomposition... Done!\n",
      "EvaluatorHoldout: Processed 10456 (100.0%) in 16.37 sec. Users per second: 639\n"
     ]
    },
    {
     "name": "stderr",
     "output_type": "stream",
     "text": [
      "[I 2023-12-01 11:05:24,397] Trial 118 finished with value: 0.03321633132339934 and parameters: {'topK': 90, 'num_factors': 138}. Best is trial 113 with value: 0.03372004833558052.\n"
     ]
    },
    {
     "name": "stdout",
     "output_type": "stream",
     "text": [
      "PureSVDItemRecommender: URM Detected 627 ( 4.8%) users with no interactions.\n",
      "PureSVDItemRecommender: URM Detected 247 ( 1.1%) items with no interactions.\n",
      "PureSVDItemRecommender: Computing SVD decomposition...\n",
      "PureSVDItemRecommender: Computing SVD decomposition... Done!\n",
      "EvaluatorHoldout: Processed 10456 (100.0%) in 15.96 sec. Users per second: 655\n"
     ]
    },
    {
     "name": "stderr",
     "output_type": "stream",
     "text": [
      "[I 2023-12-01 11:06:15,678] Trial 119 finished with value: 0.03320420568125267 and parameters: {'topK': 77, 'num_factors': 234}. Best is trial 113 with value: 0.03372004833558052.\n"
     ]
    },
    {
     "name": "stdout",
     "output_type": "stream",
     "text": [
      "PureSVDItemRecommender: URM Detected 627 ( 4.8%) users with no interactions.\n",
      "PureSVDItemRecommender: URM Detected 247 ( 1.1%) items with no interactions.\n",
      "PureSVDItemRecommender: Computing SVD decomposition...\n",
      "PureSVDItemRecommender: Computing SVD decomposition... Done!\n",
      "EvaluatorHoldout: Processed 10456 (100.0%) in 12.66 sec. Users per second: 826\n"
     ]
    },
    {
     "name": "stderr",
     "output_type": "stream",
     "text": [
      "[I 2023-12-01 11:06:55,574] Trial 120 finished with value: 0.033256617298794325 and parameters: {'topK': 19, 'num_factors': 184}. Best is trial 113 with value: 0.03372004833558052.\n"
     ]
    },
    {
     "name": "stdout",
     "output_type": "stream",
     "text": [
      "PureSVDItemRecommender: URM Detected 627 ( 4.8%) users with no interactions.\n",
      "PureSVDItemRecommender: URM Detected 247 ( 1.1%) items with no interactions.\n",
      "PureSVDItemRecommender: Computing SVD decomposition...\n",
      "PureSVDItemRecommender: Computing SVD decomposition... Done!\n",
      "EvaluatorHoldout: Processed 10456 (100.0%) in 14.71 sec. Users per second: 711\n"
     ]
    },
    {
     "name": "stderr",
     "output_type": "stream",
     "text": [
      "[I 2023-12-01 11:07:37,740] Trial 121 finished with value: 0.03332319637240286 and parameters: {'topK': 43, 'num_factors': 144}. Best is trial 113 with value: 0.03372004833558052.\n"
     ]
    },
    {
     "name": "stdout",
     "output_type": "stream",
     "text": [
      "PureSVDItemRecommender: URM Detected 627 ( 4.8%) users with no interactions.\n",
      "PureSVDItemRecommender: URM Detected 247 ( 1.1%) items with no interactions.\n",
      "PureSVDItemRecommender: Computing SVD decomposition...\n",
      "PureSVDItemRecommender: Computing SVD decomposition... Done!\n",
      "EvaluatorHoldout: Processed 10456 (100.0%) in 15.41 sec. Users per second: 679\n"
     ]
    },
    {
     "name": "stderr",
     "output_type": "stream",
     "text": [
      "[I 2023-12-01 11:08:23,537] Trial 122 finished with value: 0.033393452988183636 and parameters: {'topK': 61, 'num_factors': 149}. Best is trial 113 with value: 0.03372004833558052.\n"
     ]
    },
    {
     "name": "stdout",
     "output_type": "stream",
     "text": [
      "PureSVDItemRecommender: URM Detected 627 ( 4.8%) users with no interactions.\n",
      "PureSVDItemRecommender: URM Detected 247 ( 1.1%) items with no interactions.\n",
      "PureSVDItemRecommender: Computing SVD decomposition...\n",
      "PureSVDItemRecommender: Computing SVD decomposition... Done!\n",
      "EvaluatorHoldout: Processed 10456 (100.0%) in 15.44 sec. Users per second: 677\n"
     ]
    },
    {
     "name": "stderr",
     "output_type": "stream",
     "text": [
      "[I 2023-12-01 11:09:09,888] Trial 123 finished with value: 0.03342058861927879 and parameters: {'topK': 59, 'num_factors': 161}. Best is trial 113 with value: 0.03372004833558052.\n"
     ]
    },
    {
     "name": "stdout",
     "output_type": "stream",
     "text": [
      "PureSVDItemRecommender: URM Detected 627 ( 4.8%) users with no interactions.\n",
      "PureSVDItemRecommender: URM Detected 247 ( 1.1%) items with no interactions.\n",
      "PureSVDItemRecommender: Computing SVD decomposition...\n",
      "PureSVDItemRecommender: Computing SVD decomposition... Done!\n",
      "EvaluatorHoldout: Processed 10456 (100.0%) in 15.38 sec. Users per second: 680\n"
     ]
    },
    {
     "name": "stderr",
     "output_type": "stream",
     "text": [
      "[I 2023-12-01 11:09:53,662] Trial 124 finished with value: 0.03329778375900266 and parameters: {'topK': 59, 'num_factors': 125}. Best is trial 113 with value: 0.03372004833558052.\n"
     ]
    },
    {
     "name": "stdout",
     "output_type": "stream",
     "text": [
      "PureSVDItemRecommender: URM Detected 627 ( 4.8%) users with no interactions.\n",
      "PureSVDItemRecommender: URM Detected 247 ( 1.1%) items with no interactions.\n",
      "PureSVDItemRecommender: Computing SVD decomposition...\n",
      "PureSVDItemRecommender: Computing SVD decomposition... Done!\n",
      "EvaluatorHoldout: Processed 10456 (100.0%) in 14.54 sec. Users per second: 719\n"
     ]
    },
    {
     "name": "stderr",
     "output_type": "stream",
     "text": [
      "[I 2023-12-01 11:10:32,319] Trial 125 finished with value: 0.033084577397651534 and parameters: {'topK': 33, 'num_factors': 104}. Best is trial 113 with value: 0.03372004833558052.\n"
     ]
    },
    {
     "name": "stdout",
     "output_type": "stream",
     "text": [
      "PureSVDItemRecommender: URM Detected 627 ( 4.8%) users with no interactions.\n",
      "PureSVDItemRecommender: URM Detected 247 ( 1.1%) items with no interactions.\n",
      "PureSVDItemRecommender: Computing SVD decomposition...\n",
      "PureSVDItemRecommender: Computing SVD decomposition... Done!\n",
      "EvaluatorHoldout: Processed 10456 (100.0%) in 15.65 sec. Users per second: 668\n"
     ]
    },
    {
     "name": "stderr",
     "output_type": "stream",
     "text": [
      "[I 2023-12-01 11:11:18,877] Trial 126 finished with value: 0.03327434464604538 and parameters: {'topK': 63, 'num_factors': 160}. Best is trial 113 with value: 0.03372004833558052.\n"
     ]
    },
    {
     "name": "stdout",
     "output_type": "stream",
     "text": [
      "PureSVDItemRecommender: URM Detected 627 ( 4.8%) users with no interactions.\n",
      "PureSVDItemRecommender: URM Detected 247 ( 1.1%) items with no interactions.\n",
      "PureSVDItemRecommender: Computing SVD decomposition...\n",
      "PureSVDItemRecommender: Computing SVD decomposition... Done!\n",
      "EvaluatorHoldout: Processed 10456 (100.0%) in 14.75 sec. Users per second: 709\n"
     ]
    },
    {
     "name": "stderr",
     "output_type": "stream",
     "text": [
      "[I 2023-12-01 11:12:06,186] Trial 127 finished with value: 0.033243588400675456 and parameters: {'topK': 51, 'num_factors': 215}. Best is trial 113 with value: 0.03372004833558052.\n"
     ]
    },
    {
     "name": "stdout",
     "output_type": "stream",
     "text": [
      "PureSVDItemRecommender: URM Detected 627 ( 4.8%) users with no interactions.\n",
      "PureSVDItemRecommender: URM Detected 247 ( 1.1%) items with no interactions.\n",
      "PureSVDItemRecommender: Computing SVD decomposition...\n",
      "PureSVDItemRecommender: Computing SVD decomposition... Done!\n",
      "EvaluatorHoldout: Processed 10456 (100.0%) in 13.21 sec. Users per second: 792\n"
     ]
    },
    {
     "name": "stderr",
     "output_type": "stream",
     "text": [
      "[I 2023-12-01 11:12:54,514] Trial 128 finished with value: 0.03301120492828633 and parameters: {'topK': 30, 'num_factors': 284}. Best is trial 113 with value: 0.03372004833558052.\n"
     ]
    },
    {
     "name": "stdout",
     "output_type": "stream",
     "text": [
      "PureSVDItemRecommender: URM Detected 627 ( 4.8%) users with no interactions.\n",
      "PureSVDItemRecommender: URM Detected 247 ( 1.1%) items with no interactions.\n",
      "PureSVDItemRecommender: Computing SVD decomposition...\n",
      "PureSVDItemRecommender: Computing SVD decomposition... Done!\n",
      "EvaluatorHoldout: Processed 10456 (100.0%) in 15.82 sec. Users per second: 661\n"
     ]
    },
    {
     "name": "stderr",
     "output_type": "stream",
     "text": [
      "[I 2023-12-01 11:13:43,325] Trial 129 finished with value: 0.03304259497091395 and parameters: {'topK': 74, 'num_factors': 190}. Best is trial 113 with value: 0.03372004833558052.\n"
     ]
    },
    {
     "name": "stdout",
     "output_type": "stream",
     "text": [
      "PureSVDItemRecommender: URM Detected 627 ( 4.8%) users with no interactions.\n",
      "PureSVDItemRecommender: URM Detected 247 ( 1.1%) items with no interactions.\n",
      "PureSVDItemRecommender: Computing SVD decomposition...\n",
      "PureSVDItemRecommender: Computing SVD decomposition... Done!\n",
      "EvaluatorHoldout: Processed 10456 (100.0%) in 15.54 sec. Users per second: 673\n"
     ]
    },
    {
     "name": "stderr",
     "output_type": "stream",
     "text": [
      "[I 2023-12-01 11:14:43,584] Trial 130 finished with value: 0.03238726758237114 and parameters: {'topK': 94, 'num_factors': 367}. Best is trial 113 with value: 0.03372004833558052.\n"
     ]
    },
    {
     "name": "stdout",
     "output_type": "stream",
     "text": [
      "PureSVDItemRecommender: URM Detected 627 ( 4.8%) users with no interactions.\n",
      "PureSVDItemRecommender: URM Detected 247 ( 1.1%) items with no interactions.\n",
      "PureSVDItemRecommender: Computing SVD decomposition...\n",
      "PureSVDItemRecommender: Computing SVD decomposition... Done!\n",
      "EvaluatorHoldout: Processed 10456 (100.0%) in 15.15 sec. Users per second: 690\n"
     ]
    },
    {
     "name": "stderr",
     "output_type": "stream",
     "text": [
      "[I 2023-12-01 11:15:27,148] Trial 131 finished with value: 0.03329419350627299 and parameters: {'topK': 40, 'num_factors': 158}. Best is trial 113 with value: 0.03372004833558052.\n"
     ]
    },
    {
     "name": "stdout",
     "output_type": "stream",
     "text": [
      "PureSVDItemRecommender: URM Detected 627 ( 4.8%) users with no interactions.\n",
      "PureSVDItemRecommender: URM Detected 247 ( 1.1%) items with no interactions.\n",
      "PureSVDItemRecommender: Computing SVD decomposition...\n",
      "PureSVDItemRecommender: Computing SVD decomposition... Done!\n",
      "EvaluatorHoldout: Processed 10456 (100.0%) in 15.36 sec. Users per second: 681\n"
     ]
    },
    {
     "name": "stderr",
     "output_type": "stream",
     "text": [
      "[I 2023-12-01 11:16:09,688] Trial 132 finished with value: 0.03326823058986448 and parameters: {'topK': 49, 'num_factors': 119}. Best is trial 113 with value: 0.03372004833558052.\n"
     ]
    },
    {
     "name": "stdout",
     "output_type": "stream",
     "text": [
      "PureSVDItemRecommender: URM Detected 627 ( 4.8%) users with no interactions.\n",
      "PureSVDItemRecommender: URM Detected 247 ( 1.1%) items with no interactions.\n",
      "PureSVDItemRecommender: Computing SVD decomposition...\n",
      "PureSVDItemRecommender: Computing SVD decomposition... Done!\n",
      "EvaluatorHoldout: Processed 10456 (100.0%) in 15.15 sec. Users per second: 690\n"
     ]
    },
    {
     "name": "stderr",
     "output_type": "stream",
     "text": [
      "[I 2023-12-01 11:16:59,257] Trial 133 finished with value: 0.03320477496022678 and parameters: {'topK': 62, 'num_factors': 220}. Best is trial 113 with value: 0.03372004833558052.\n"
     ]
    },
    {
     "name": "stdout",
     "output_type": "stream",
     "text": [
      "PureSVDItemRecommender: URM Detected 627 ( 4.8%) users with no interactions.\n",
      "PureSVDItemRecommender: URM Detected 247 ( 1.1%) items with no interactions.\n",
      "PureSVDItemRecommender: Computing SVD decomposition...\n",
      "PureSVDItemRecommender: Computing SVD decomposition... Done!\n",
      "EvaluatorHoldout: Processed 10456 (100.0%) in 13.77 sec. Users per second: 759\n"
     ]
    },
    {
     "name": "stderr",
     "output_type": "stream",
     "text": [
      "[I 2023-12-01 11:17:48,421] Trial 134 finished with value: 0.03286610710338736 and parameters: {'topK': 34, 'num_factors': 259}. Best is trial 113 with value: 0.03372004833558052.\n"
     ]
    },
    {
     "name": "stdout",
     "output_type": "stream",
     "text": [
      "PureSVDItemRecommender: URM Detected 627 ( 4.8%) users with no interactions.\n",
      "PureSVDItemRecommender: URM Detected 247 ( 1.1%) items with no interactions.\n",
      "PureSVDItemRecommender: Computing SVD decomposition...\n",
      "PureSVDItemRecommender: Computing SVD decomposition... Done!\n",
      "EvaluatorHoldout: Processed 10456 (100.0%) in 15.98 sec. Users per second: 654\n"
     ]
    },
    {
     "name": "stderr",
     "output_type": "stream",
     "text": [
      "[I 2023-12-01 11:18:37,928] Trial 135 finished with value: 0.03343129485918347 and parameters: {'topK': 81, 'num_factors': 184}. Best is trial 113 with value: 0.03372004833558052.\n"
     ]
    },
    {
     "name": "stdout",
     "output_type": "stream",
     "text": [
      "PureSVDItemRecommender: URM Detected 627 ( 4.8%) users with no interactions.\n",
      "PureSVDItemRecommender: URM Detected 247 ( 1.1%) items with no interactions.\n",
      "PureSVDItemRecommender: Computing SVD decomposition...\n",
      "PureSVDItemRecommender: Computing SVD decomposition... Done!\n",
      "EvaluatorHoldout: Processed 10456 (100.0%) in 16.71 sec. Users per second: 626\n"
     ]
    },
    {
     "name": "stderr",
     "output_type": "stream",
     "text": [
      "[I 2023-12-01 11:19:24,779] Trial 136 finished with value: 0.032236264436915074 and parameters: {'topK': 104, 'num_factors': 94}. Best is trial 113 with value: 0.03372004833558052.\n"
     ]
    },
    {
     "name": "stdout",
     "output_type": "stream",
     "text": [
      "PureSVDItemRecommender: URM Detected 627 ( 4.8%) users with no interactions.\n",
      "PureSVDItemRecommender: URM Detected 247 ( 1.1%) items with no interactions.\n",
      "PureSVDItemRecommender: Computing SVD decomposition...\n",
      "PureSVDItemRecommender: Computing SVD decomposition... Done!\n",
      "EvaluatorHoldout: Processed 10456 (100.0%) in 15.94 sec. Users per second: 656\n"
     ]
    },
    {
     "name": "stderr",
     "output_type": "stream",
     "text": [
      "[I 2023-12-01 11:20:11,311] Trial 137 finished with value: 0.03343464601474404 and parameters: {'topK': 74, 'num_factors': 137}. Best is trial 113 with value: 0.03372004833558052.\n"
     ]
    },
    {
     "name": "stdout",
     "output_type": "stream",
     "text": [
      "PureSVDItemRecommender: URM Detected 627 ( 4.8%) users with no interactions.\n",
      "PureSVDItemRecommender: URM Detected 247 ( 1.1%) items with no interactions.\n",
      "PureSVDItemRecommender: Computing SVD decomposition...\n",
      "PureSVDItemRecommender: Computing SVD decomposition... Done!\n",
      "EvaluatorHoldout: Processed 10456 (100.0%) in 16.44 sec. Users per second: 636\n"
     ]
    },
    {
     "name": "stderr",
     "output_type": "stream",
     "text": [
      "[I 2023-12-01 11:20:55,646] Trial 138 finished with value: 0.03174890850244735 and parameters: {'topK': 78, 'num_factors': 74}. Best is trial 113 with value: 0.03372004833558052.\n"
     ]
    },
    {
     "name": "stdout",
     "output_type": "stream",
     "text": [
      "PureSVDItemRecommender: URM Detected 627 ( 4.8%) users with no interactions.\n",
      "PureSVDItemRecommender: URM Detected 247 ( 1.1%) items with no interactions.\n",
      "PureSVDItemRecommender: Computing SVD decomposition...\n",
      "PureSVDItemRecommender: Computing SVD decomposition... Done!\n",
      "EvaluatorHoldout: Processed 10456 (100.0%) in 15.59 sec. Users per second: 671\n"
     ]
    },
    {
     "name": "stderr",
     "output_type": "stream",
     "text": [
      "[I 2023-12-01 11:21:44,003] Trial 139 finished with value: 0.03348980914732667 and parameters: {'topK': 71, 'num_factors': 177}. Best is trial 113 with value: 0.03372004833558052.\n"
     ]
    },
    {
     "name": "stdout",
     "output_type": "stream",
     "text": [
      "PureSVDItemRecommender: URM Detected 627 ( 4.8%) users with no interactions.\n",
      "PureSVDItemRecommender: URM Detected 247 ( 1.1%) items with no interactions.\n",
      "PureSVDItemRecommender: Computing SVD decomposition...\n",
      "PureSVDItemRecommender: Computing SVD decomposition... Done!\n",
      "EvaluatorHoldout: Processed 10456 (100.0%) in 15.45 sec. Users per second: 677\n"
     ]
    },
    {
     "name": "stderr",
     "output_type": "stream",
     "text": [
      "[I 2023-12-01 11:22:31,629] Trial 140 finished with value: 0.033379186857094505 and parameters: {'topK': 68, 'num_factors': 182}. Best is trial 113 with value: 0.03372004833558052.\n"
     ]
    },
    {
     "name": "stdout",
     "output_type": "stream",
     "text": [
      "PureSVDItemRecommender: URM Detected 627 ( 4.8%) users with no interactions.\n",
      "PureSVDItemRecommender: URM Detected 247 ( 1.1%) items with no interactions.\n",
      "PureSVDItemRecommender: Computing SVD decomposition...\n",
      "PureSVDItemRecommender: Computing SVD decomposition... Done!\n",
      "EvaluatorHoldout: Processed 10456 (100.0%) in 15.44 sec. Users per second: 677\n"
     ]
    },
    {
     "name": "stderr",
     "output_type": "stream",
     "text": [
      "[I 2023-12-01 11:23:19,369] Trial 141 finished with value: 0.033076763094934805 and parameters: {'topK': 67, 'num_factors': 183}. Best is trial 113 with value: 0.03372004833558052.\n"
     ]
    },
    {
     "name": "stdout",
     "output_type": "stream",
     "text": [
      "PureSVDItemRecommender: URM Detected 627 ( 4.8%) users with no interactions.\n",
      "PureSVDItemRecommender: URM Detected 247 ( 1.1%) items with no interactions.\n",
      "PureSVDItemRecommender: Computing SVD decomposition...\n",
      "PureSVDItemRecommender: Computing SVD decomposition... Done!\n",
      "EvaluatorHoldout: Processed 10456 (100.0%) in 16.47 sec. Users per second: 635\n"
     ]
    },
    {
     "name": "stderr",
     "output_type": "stream",
     "text": [
      "[I 2023-12-01 11:24:08,110] Trial 142 finished with value: 0.03341834186492791 and parameters: {'topK': 87, 'num_factors': 132}. Best is trial 113 with value: 0.03372004833558052.\n"
     ]
    },
    {
     "name": "stdout",
     "output_type": "stream",
     "text": [
      "PureSVDItemRecommender: URM Detected 627 ( 4.8%) users with no interactions.\n",
      "PureSVDItemRecommender: URM Detected 247 ( 1.1%) items with no interactions.\n",
      "PureSVDItemRecommender: Computing SVD decomposition...\n",
      "PureSVDItemRecommender: Computing SVD decomposition... Done!\n",
      "EvaluatorHoldout: Processed 10456 (100.0%) in 16.08 sec. Users per second: 650\n"
     ]
    },
    {
     "name": "stderr",
     "output_type": "stream",
     "text": [
      "[I 2023-12-01 11:25:00,089] Trial 143 finished with value: 0.03317671330200048 and parameters: {'topK': 89, 'num_factors': 229}. Best is trial 113 with value: 0.03372004833558052.\n"
     ]
    },
    {
     "name": "stdout",
     "output_type": "stream",
     "text": [
      "PureSVDItemRecommender: URM Detected 627 ( 4.8%) users with no interactions.\n",
      "PureSVDItemRecommender: URM Detected 247 ( 1.1%) items with no interactions.\n",
      "PureSVDItemRecommender: Computing SVD decomposition...\n",
      "PureSVDItemRecommender: Computing SVD decomposition... Done!\n",
      "EvaluatorHoldout: Processed 10456 (100.0%) in 16.43 sec. Users per second: 636\n"
     ]
    },
    {
     "name": "stderr",
     "output_type": "stream",
     "text": [
      "[I 2023-12-01 11:25:50,794] Trial 144 finished with value: 0.0332014541662115 and parameters: {'topK': 105, 'num_factors': 167}. Best is trial 113 with value: 0.03372004833558052.\n"
     ]
    },
    {
     "name": "stdout",
     "output_type": "stream",
     "text": [
      "PureSVDItemRecommender: URM Detected 627 ( 4.8%) users with no interactions.\n",
      "PureSVDItemRecommender: URM Detected 247 ( 1.1%) items with no interactions.\n",
      "PureSVDItemRecommender: Computing SVD decomposition...\n",
      "PureSVDItemRecommender: Computing SVD decomposition... Done!\n",
      "EvaluatorHoldout: Processed 10456 (100.0%) in 17.03 sec. Users per second: 614\n"
     ]
    },
    {
     "name": "stderr",
     "output_type": "stream",
     "text": [
      "[I 2023-12-01 11:26:41,458] Trial 145 finished with value: 0.03292714139978888 and parameters: {'topK': 121, 'num_factors': 126}. Best is trial 113 with value: 0.03372004833558052.\n"
     ]
    },
    {
     "name": "stdout",
     "output_type": "stream",
     "text": [
      "PureSVDItemRecommender: URM Detected 627 ( 4.8%) users with no interactions.\n",
      "PureSVDItemRecommender: URM Detected 247 ( 1.1%) items with no interactions.\n",
      "PureSVDItemRecommender: Computing SVD decomposition...\n",
      "PureSVDItemRecommender: Computing SVD decomposition... Done!\n",
      "EvaluatorHoldout: Processed 10456 (100.0%) in 15.62 sec. Users per second: 669\n"
     ]
    },
    {
     "name": "stderr",
     "output_type": "stream",
     "text": [
      "[I 2023-12-01 11:27:30,389] Trial 146 finished with value: 0.03324477629613468 and parameters: {'topK': 73, 'num_factors': 196}. Best is trial 113 with value: 0.03372004833558052.\n"
     ]
    },
    {
     "name": "stdout",
     "output_type": "stream",
     "text": [
      "PureSVDItemRecommender: URM Detected 627 ( 4.8%) users with no interactions.\n",
      "PureSVDItemRecommender: URM Detected 247 ( 1.1%) items with no interactions.\n",
      "PureSVDItemRecommender: Computing SVD decomposition...\n",
      "PureSVDItemRecommender: Computing SVD decomposition... Done!\n",
      "EvaluatorHoldout: Processed 10456 (100.0%) in 15.48 sec. Users per second: 675\n"
     ]
    },
    {
     "name": "stderr",
     "output_type": "stream",
     "text": [
      "[I 2023-12-01 11:28:25,801] Trial 147 finished with value: 0.0324863562805895 and parameters: {'topK': 84, 'num_factors': 306}. Best is trial 113 with value: 0.03372004833558052.\n"
     ]
    },
    {
     "name": "stdout",
     "output_type": "stream",
     "text": [
      "PureSVDItemRecommender: URM Detected 627 ( 4.8%) users with no interactions.\n",
      "PureSVDItemRecommender: URM Detected 247 ( 1.1%) items with no interactions.\n",
      "PureSVDItemRecommender: Computing SVD decomposition...\n",
      "PureSVDItemRecommender: Computing SVD decomposition... Done!\n",
      "EvaluatorHoldout: Processed 10456 (100.0%) in 15.28 sec. Users per second: 684\n"
     ]
    },
    {
     "name": "stderr",
     "output_type": "stream",
     "text": [
      "[I 2023-12-01 11:29:08,988] Trial 148 finished with value: 0.03334418758577174 and parameters: {'topK': 55, 'num_factors': 138}. Best is trial 113 with value: 0.03372004833558052.\n"
     ]
    },
    {
     "name": "stdout",
     "output_type": "stream",
     "text": [
      "PureSVDItemRecommender: URM Detected 627 ( 4.8%) users with no interactions.\n",
      "PureSVDItemRecommender: URM Detected 247 ( 1.1%) items with no interactions.\n",
      "PureSVDItemRecommender: Computing SVD decomposition...\n",
      "PureSVDItemRecommender: Computing SVD decomposition... Done!\n",
      "EvaluatorHoldout: Processed 10456 (100.0%) in 15.23 sec. Users per second: 686\n"
     ]
    },
    {
     "name": "stderr",
     "output_type": "stream",
     "text": [
      "[I 2023-12-01 11:30:01,241] Trial 149 finished with value: 0.033098816962388394 and parameters: {'topK': 63, 'num_factors': 251}. Best is trial 113 with value: 0.03372004833558052.\n"
     ]
    },
    {
     "name": "stdout",
     "output_type": "stream",
     "text": [
      "PureSVDItemRecommender: URM Detected 627 ( 4.8%) users with no interactions.\n",
      "PureSVDItemRecommender: URM Detected 247 ( 1.1%) items with no interactions.\n",
      "PureSVDItemRecommender: Computing SVD decomposition...\n",
      "PureSVDItemRecommender: Computing SVD decomposition... Done!\n",
      "EvaluatorHoldout: Processed 10456 (100.0%) in 15.04 sec. Users per second: 695\n"
     ]
    },
    {
     "name": "stderr",
     "output_type": "stream",
     "text": [
      "[I 2023-12-01 11:30:43,045] Trial 150 finished with value: 0.03298406929719139 and parameters: {'topK': 46, 'num_factors': 111}. Best is trial 113 with value: 0.03372004833558052.\n"
     ]
    },
    {
     "name": "stdout",
     "output_type": "stream",
     "text": [
      "PureSVDItemRecommender: URM Detected 627 ( 4.8%) users with no interactions.\n",
      "PureSVDItemRecommender: URM Detected 247 ( 1.1%) items with no interactions.\n",
      "PureSVDItemRecommender: Computing SVD decomposition...\n",
      "PureSVDItemRecommender: Computing SVD decomposition... Done!\n",
      "EvaluatorHoldout: Processed 10456 (100.0%) in 15.25 sec. Users per second: 685\n"
     ]
    },
    {
     "name": "stderr",
     "output_type": "stream",
     "text": [
      "[I 2023-12-01 11:31:27,164] Trial 151 finished with value: 0.033418990842958206 and parameters: {'topK': 53, 'num_factors': 154}. Best is trial 113 with value: 0.03372004833558052.\n"
     ]
    },
    {
     "name": "stdout",
     "output_type": "stream",
     "text": [
      "PureSVDItemRecommender: URM Detected 627 ( 4.8%) users with no interactions.\n",
      "PureSVDItemRecommender: URM Detected 247 ( 1.1%) items with no interactions.\n",
      "PureSVDItemRecommender: Computing SVD decomposition...\n",
      "PureSVDItemRecommender: Computing SVD decomposition... Done!\n",
      "EvaluatorHoldout: Processed 10456 (100.0%) in 15.03 sec. Users per second: 696\n"
     ]
    },
    {
     "name": "stderr",
     "output_type": "stream",
     "text": [
      "[I 2023-12-01 11:32:11,975] Trial 152 finished with value: 0.03295702854592529 and parameters: {'topK': 52, 'num_factors': 156}. Best is trial 113 with value: 0.03372004833558052.\n"
     ]
    },
    {
     "name": "stdout",
     "output_type": "stream",
     "text": [
      "PureSVDItemRecommender: URM Detected 627 ( 4.8%) users with no interactions.\n",
      "PureSVDItemRecommender: URM Detected 247 ( 1.1%) items with no interactions.\n",
      "PureSVDItemRecommender: Computing SVD decomposition...\n",
      "PureSVDItemRecommender: Computing SVD decomposition... Done!\n",
      "EvaluatorHoldout: Processed 10456 (100.0%) in 15.52 sec. Users per second: 674\n"
     ]
    },
    {
     "name": "stderr",
     "output_type": "stream",
     "text": [
      "[I 2023-12-01 11:33:00,826] Trial 153 finished with value: 0.03330208371285294 and parameters: {'topK': 72, 'num_factors': 196}. Best is trial 113 with value: 0.03372004833558052.\n"
     ]
    },
    {
     "name": "stdout",
     "output_type": "stream",
     "text": [
      "PureSVDItemRecommender: URM Detected 627 ( 4.8%) users with no interactions.\n",
      "PureSVDItemRecommender: URM Detected 247 ( 1.1%) items with no interactions.\n",
      "PureSVDItemRecommender: Computing SVD decomposition...\n",
      "PureSVDItemRecommender: Computing SVD decomposition... Done!\n",
      "EvaluatorHoldout: Processed 10456 (100.0%) in 15.56 sec. Users per second: 672\n"
     ]
    },
    {
     "name": "stderr",
     "output_type": "stream",
     "text": [
      "[I 2023-12-01 11:33:44,866] Trial 154 finished with value: 0.033492640361424214 and parameters: {'topK': 58, 'num_factors': 135}. Best is trial 113 with value: 0.03372004833558052.\n"
     ]
    },
    {
     "name": "stdout",
     "output_type": "stream",
     "text": [
      "PureSVDItemRecommender: URM Detected 627 ( 4.8%) users with no interactions.\n",
      "PureSVDItemRecommender: URM Detected 247 ( 1.1%) items with no interactions.\n",
      "PureSVDItemRecommender: Computing SVD decomposition...\n",
      "PureSVDItemRecommender: Computing SVD decomposition... Done!\n",
      "EvaluatorHoldout: Processed 10456 (100.0%) in 14.81 sec. Users per second: 706\n"
     ]
    },
    {
     "name": "stderr",
     "output_type": "stream",
     "text": [
      "[I 2023-12-01 11:34:26,892] Trial 155 finished with value: 0.03320198549325406 and parameters: {'topK': 39, 'num_factors': 131}. Best is trial 113 with value: 0.03372004833558052.\n"
     ]
    },
    {
     "name": "stdout",
     "output_type": "stream",
     "text": [
      "PureSVDItemRecommender: URM Detected 627 ( 4.8%) users with no interactions.\n",
      "PureSVDItemRecommender: URM Detected 247 ( 1.1%) items with no interactions.\n",
      "PureSVDItemRecommender: Computing SVD decomposition...\n",
      "PureSVDItemRecommender: Computing SVD decomposition... Done!\n",
      "EvaluatorHoldout: Processed 10456 (100.0%) in 15.25 sec. Users per second: 686\n"
     ]
    },
    {
     "name": "stderr",
     "output_type": "stream",
     "text": [
      "[I 2023-12-01 11:35:11,864] Trial 156 finished with value: 0.03293252677888317 and parameters: {'topK': 55, 'num_factors': 154}. Best is trial 113 with value: 0.03372004833558052.\n"
     ]
    },
    {
     "name": "stdout",
     "output_type": "stream",
     "text": [
      "PureSVDItemRecommender: URM Detected 627 ( 4.8%) users with no interactions.\n",
      "PureSVDItemRecommender: URM Detected 247 ( 1.1%) items with no interactions.\n",
      "PureSVDItemRecommender: Computing SVD decomposition...\n",
      "PureSVDItemRecommender: Computing SVD decomposition... Done!\n",
      "EvaluatorHoldout: Processed 10456 (100.0%) in 16.60 sec. Users per second: 630\n"
     ]
    },
    {
     "name": "stderr",
     "output_type": "stream",
     "text": [
      "[I 2023-12-01 11:35:57,952] Trial 157 finished with value: 0.03276176585783536 and parameters: {'topK': 88, 'num_factors': 102}. Best is trial 113 with value: 0.03372004833558052.\n"
     ]
    },
    {
     "name": "stdout",
     "output_type": "stream",
     "text": [
      "PureSVDItemRecommender: URM Detected 627 ( 4.8%) users with no interactions.\n",
      "PureSVDItemRecommender: URM Detected 247 ( 1.1%) items with no interactions.\n",
      "PureSVDItemRecommender: Computing SVD decomposition...\n",
      "PureSVDItemRecommender: Computing SVD decomposition... Done!\n",
      "EvaluatorHoldout: Processed 10456 (100.0%) in 13.05 sec. Users per second: 801\n"
     ]
    },
    {
     "name": "stderr",
     "output_type": "stream",
     "text": [
      "[I 2023-12-01 11:37:04,197] Trial 158 finished with value: 0.032784738162033776 and parameters: {'topK': 47, 'num_factors': 511}. Best is trial 113 with value: 0.03372004833558052.\n"
     ]
    },
    {
     "name": "stdout",
     "output_type": "stream",
     "text": [
      "PureSVDItemRecommender: URM Detected 627 ( 4.8%) users with no interactions.\n",
      "PureSVDItemRecommender: URM Detected 247 ( 1.1%) items with no interactions.\n",
      "PureSVDItemRecommender: Computing SVD decomposition...\n",
      "PureSVDItemRecommender: Computing SVD decomposition... Done!\n",
      "EvaluatorHoldout: Processed 10456 (100.0%) in 15.32 sec. Users per second: 683\n"
     ]
    },
    {
     "name": "stderr",
     "output_type": "stream",
     "text": [
      "[I 2023-12-01 11:37:53,149] Trial 159 finished with value: 0.03337776365965955 and parameters: {'topK': 59, 'num_factors': 217}. Best is trial 113 with value: 0.03372004833558052.\n"
     ]
    },
    {
     "name": "stdout",
     "output_type": "stream",
     "text": [
      "PureSVDItemRecommender: URM Detected 627 ( 4.8%) users with no interactions.\n",
      "PureSVDItemRecommender: URM Detected 247 ( 1.1%) items with no interactions.\n",
      "PureSVDItemRecommender: Computing SVD decomposition...\n",
      "PureSVDItemRecommender: Computing SVD decomposition... Done!\n",
      "EvaluatorHoldout: Processed 10456 (100.0%) in 14.83 sec. Users per second: 705\n"
     ]
    },
    {
     "name": "stderr",
     "output_type": "stream",
     "text": [
      "[I 2023-12-01 11:38:31,851] Trial 160 finished with value: 0.03226865641053689 and parameters: {'topK': 38, 'num_factors': 86}. Best is trial 113 with value: 0.03372004833558052.\n"
     ]
    },
    {
     "name": "stdout",
     "output_type": "stream",
     "text": [
      "PureSVDItemRecommender: URM Detected 627 ( 4.8%) users with no interactions.\n",
      "PureSVDItemRecommender: URM Detected 247 ( 1.1%) items with no interactions.\n",
      "PureSVDItemRecommender: Computing SVD decomposition...\n",
      "PureSVDItemRecommender: Computing SVD decomposition... Done!\n",
      "EvaluatorHoldout: Processed 10456 (100.0%) in 15.69 sec. Users per second: 667\n"
     ]
    },
    {
     "name": "stderr",
     "output_type": "stream",
     "text": [
      "[I 2023-12-01 11:39:19,643] Trial 161 finished with value: 0.03321242606963753 and parameters: {'topK': 68, 'num_factors': 176}. Best is trial 113 with value: 0.03372004833558052.\n"
     ]
    },
    {
     "name": "stdout",
     "output_type": "stream",
     "text": [
      "PureSVDItemRecommender: URM Detected 627 ( 4.8%) users with no interactions.\n",
      "PureSVDItemRecommender: URM Detected 247 ( 1.1%) items with no interactions.\n",
      "PureSVDItemRecommender: Computing SVD decomposition...\n",
      "PureSVDItemRecommender: Computing SVD decomposition... Done!\n",
      "EvaluatorHoldout: Processed 10456 (100.0%) in 16.57 sec. Users per second: 631\n"
     ]
    },
    {
     "name": "stderr",
     "output_type": "stream",
     "text": [
      "[I 2023-12-01 11:40:07,670] Trial 162 finished with value: 0.033433351853876275 and parameters: {'topK': 80, 'num_factors': 138}. Best is trial 113 with value: 0.03372004833558052.\n"
     ]
    },
    {
     "name": "stdout",
     "output_type": "stream",
     "text": [
      "PureSVDItemRecommender: URM Detected 627 ( 4.8%) users with no interactions.\n",
      "PureSVDItemRecommender: URM Detected 247 ( 1.1%) items with no interactions.\n",
      "PureSVDItemRecommender: Computing SVD decomposition...\n",
      "PureSVDItemRecommender: Computing SVD decomposition... Done!\n",
      "EvaluatorHoldout: Processed 10456 (100.0%) in 16.06 sec. Users per second: 651\n"
     ]
    },
    {
     "name": "stderr",
     "output_type": "stream",
     "text": [
      "[I 2023-12-01 11:40:54,440] Trial 163 finished with value: 0.03323740603101763 and parameters: {'topK': 80, 'num_factors': 117}. Best is trial 113 with value: 0.03372004833558052.\n"
     ]
    },
    {
     "name": "stdout",
     "output_type": "stream",
     "text": [
      "PureSVDItemRecommender: URM Detected 627 ( 4.8%) users with no interactions.\n",
      "PureSVDItemRecommender: URM Detected 247 ( 1.1%) items with no interactions.\n",
      "PureSVDItemRecommender: Computing SVD decomposition...\n",
      "PureSVDItemRecommender: Computing SVD decomposition... Done!\n",
      "EvaluatorHoldout: Processed 10456 (100.0%) in 16.49 sec. Users per second: 634\n"
     ]
    },
    {
     "name": "stderr",
     "output_type": "stream",
     "text": [
      "[I 2023-12-01 11:41:45,316] Trial 164 finished with value: 0.03332920416317542 and parameters: {'topK': 102, 'num_factors': 148}. Best is trial 113 with value: 0.03372004833558052.\n"
     ]
    },
    {
     "name": "stdout",
     "output_type": "stream",
     "text": [
      "PureSVDItemRecommender: URM Detected 627 ( 4.8%) users with no interactions.\n",
      "PureSVDItemRecommender: URM Detected 247 ( 1.1%) items with no interactions.\n",
      "PureSVDItemRecommender: Computing SVD decomposition...\n",
      "PureSVDItemRecommender: Computing SVD decomposition... Done!\n",
      "EvaluatorHoldout: Processed 10456 (100.0%) in 14.92 sec. Users per second: 701\n"
     ]
    },
    {
     "name": "stderr",
     "output_type": "stream",
     "text": [
      "[I 2023-12-01 11:42:28,289] Trial 165 finished with value: 0.0331478394724381 and parameters: {'topK': 44, 'num_factors': 129}. Best is trial 113 with value: 0.03372004833558052.\n"
     ]
    },
    {
     "name": "stdout",
     "output_type": "stream",
     "text": [
      "PureSVDItemRecommender: URM Detected 627 ( 4.8%) users with no interactions.\n",
      "PureSVDItemRecommender: URM Detected 247 ( 1.1%) items with no interactions.\n",
      "PureSVDItemRecommender: Computing SVD decomposition...\n",
      "PureSVDItemRecommender: Computing SVD decomposition... Done!\n",
      "EvaluatorHoldout: Processed 10456 (100.0%) in 17.12 sec. Users per second: 611\n"
     ]
    },
    {
     "name": "stderr",
     "output_type": "stream",
     "text": [
      "[I 2023-12-01 11:43:21,728] Trial 166 finished with value: 0.03304942631860221 and parameters: {'topK': 133, 'num_factors': 170}. Best is trial 113 with value: 0.03372004833558052.\n"
     ]
    },
    {
     "name": "stdout",
     "output_type": "stream",
     "text": [
      "PureSVDItemRecommender: URM Detected 627 ( 4.8%) users with no interactions.\n",
      "PureSVDItemRecommender: URM Detected 247 ( 1.1%) items with no interactions.\n",
      "PureSVDItemRecommender: Computing SVD decomposition...\n",
      "PureSVDItemRecommender: Computing SVD decomposition... Done!\n",
      "EvaluatorHoldout: Processed 10456 (100.0%) in 15.67 sec. Users per second: 667\n"
     ]
    },
    {
     "name": "stderr",
     "output_type": "stream",
     "text": [
      "[I 2023-12-01 11:44:04,140] Trial 167 finished with value: 0.03277966778397177 and parameters: {'topK': 54, 'num_factors': 104}. Best is trial 113 with value: 0.03372004833558052.\n"
     ]
    },
    {
     "name": "stdout",
     "output_type": "stream",
     "text": [
      "PureSVDItemRecommender: URM Detected 627 ( 4.8%) users with no interactions.\n",
      "PureSVDItemRecommender: URM Detected 247 ( 1.1%) items with no interactions.\n",
      "PureSVDItemRecommender: Computing SVD decomposition...\n",
      "PureSVDItemRecommender: Computing SVD decomposition... Done!\n",
      "EvaluatorHoldout: Processed 10456 (100.0%) in 16.21 sec. Users per second: 645\n"
     ]
    },
    {
     "name": "stderr",
     "output_type": "stream",
     "text": [
      "[I 2023-12-01 11:44:55,693] Trial 168 finished with value: 0.03340255765657469 and parameters: {'topK': 93, 'num_factors': 204}. Best is trial 113 with value: 0.03372004833558052.\n"
     ]
    },
    {
     "name": "stdout",
     "output_type": "stream",
     "text": [
      "PureSVDItemRecommender: URM Detected 627 ( 4.8%) users with no interactions.\n",
      "PureSVDItemRecommender: URM Detected 247 ( 1.1%) items with no interactions.\n",
      "PureSVDItemRecommender: Computing SVD decomposition...\n",
      "PureSVDItemRecommender: Computing SVD decomposition... Done!\n",
      "EvaluatorHoldout: Processed 10456 (100.0%) in 16.35 sec. Users per second: 639\n"
     ]
    },
    {
     "name": "stderr",
     "output_type": "stream",
     "text": [
      "[I 2023-12-01 11:45:49,644] Trial 169 finished with value: 0.03308000418989352 and parameters: {'topK': 106, 'num_factors': 233}. Best is trial 113 with value: 0.03372004833558052.\n"
     ]
    },
    {
     "name": "stdout",
     "output_type": "stream",
     "text": [
      "PureSVDItemRecommender: URM Detected 627 ( 4.8%) users with no interactions.\n",
      "PureSVDItemRecommender: URM Detected 247 ( 1.1%) items with no interactions.\n",
      "PureSVDItemRecommender: Computing SVD decomposition...\n",
      "PureSVDItemRecommender: Computing SVD decomposition... Done!\n",
      "EvaluatorHoldout: Processed 10456 (100.0%) in 14.67 sec. Users per second: 713\n"
     ]
    },
    {
     "name": "stderr",
     "output_type": "stream",
     "text": [
      "[I 2023-12-01 11:46:39,475] Trial 170 finished with value: 0.0330574038146248 and parameters: {'topK': 47, 'num_factors': 253}. Best is trial 113 with value: 0.03372004833558052.\n"
     ]
    },
    {
     "name": "stdout",
     "output_type": "stream",
     "text": [
      "PureSVDItemRecommender: URM Detected 627 ( 4.8%) users with no interactions.\n",
      "PureSVDItemRecommender: URM Detected 247 ( 1.1%) items with no interactions.\n",
      "PureSVDItemRecommender: Computing SVD decomposition...\n",
      "PureSVDItemRecommender: Computing SVD decomposition... Done!\n",
      "EvaluatorHoldout: Processed 10456 (100.0%) in 16.28 sec. Users per second: 642\n"
     ]
    },
    {
     "name": "stderr",
     "output_type": "stream",
     "text": [
      "[I 2023-12-01 11:47:28,328] Trial 171 finished with value: 0.033517973275768206 and parameters: {'topK': 89, 'num_factors': 143}. Best is trial 113 with value: 0.03372004833558052.\n"
     ]
    },
    {
     "name": "stdout",
     "output_type": "stream",
     "text": [
      "PureSVDItemRecommender: URM Detected 627 ( 4.8%) users with no interactions.\n",
      "PureSVDItemRecommender: URM Detected 247 ( 1.1%) items with no interactions.\n",
      "PureSVDItemRecommender: Computing SVD decomposition...\n",
      "PureSVDItemRecommender: Computing SVD decomposition... Done!\n",
      "EvaluatorHoldout: Processed 10456 (100.0%) in 16.70 sec. Users per second: 626\n"
     ]
    },
    {
     "name": "stderr",
     "output_type": "stream",
     "text": [
      "[I 2023-12-01 11:48:21,538] Trial 172 finished with value: 0.03314307270982896 and parameters: {'topK': 119, 'num_factors': 194}. Best is trial 113 with value: 0.03372004833558052.\n"
     ]
    },
    {
     "name": "stdout",
     "output_type": "stream",
     "text": [
      "PureSVDItemRecommender: URM Detected 627 ( 4.8%) users with no interactions.\n",
      "PureSVDItemRecommender: URM Detected 247 ( 1.1%) items with no interactions.\n",
      "PureSVDItemRecommender: Computing SVD decomposition...\n",
      "PureSVDItemRecommender: Computing SVD decomposition... Done!\n",
      "EvaluatorHoldout: Processed 10456 (100.0%) in 16.41 sec. Users per second: 637\n"
     ]
    },
    {
     "name": "stderr",
     "output_type": "stream",
     "text": [
      "[I 2023-12-01 11:49:10,673] Trial 173 finished with value: 0.033201875432652274 and parameters: {'topK': 92, 'num_factors': 142}. Best is trial 113 with value: 0.03372004833558052.\n"
     ]
    },
    {
     "name": "stdout",
     "output_type": "stream",
     "text": [
      "PureSVDItemRecommender: URM Detected 627 ( 4.8%) users with no interactions.\n",
      "PureSVDItemRecommender: URM Detected 247 ( 1.1%) items with no interactions.\n",
      "PureSVDItemRecommender: Computing SVD decomposition...\n",
      "PureSVDItemRecommender: Computing SVD decomposition... Done!\n",
      "EvaluatorHoldout: Processed 10456 (100.0%) in 15.72 sec. Users per second: 665\n"
     ]
    },
    {
     "name": "stderr",
     "output_type": "stream",
     "text": [
      "[I 2023-12-01 11:50:00,506] Trial 174 finished with value: 0.03315364611797314 and parameters: {'topK': 80, 'num_factors': 203}. Best is trial 113 with value: 0.03372004833558052.\n"
     ]
    },
    {
     "name": "stdout",
     "output_type": "stream",
     "text": [
      "PureSVDItemRecommender: URM Detected 627 ( 4.8%) users with no interactions.\n",
      "PureSVDItemRecommender: URM Detected 247 ( 1.1%) items with no interactions.\n",
      "PureSVDItemRecommender: Computing SVD decomposition...\n",
      "PureSVDItemRecommender: Computing SVD decomposition... Done!\n",
      "EvaluatorHoldout: Processed 10456 (100.0%) in 17.17 sec. Users per second: 609\n"
     ]
    },
    {
     "name": "stderr",
     "output_type": "stream",
     "text": [
      "[I 2023-12-01 11:50:54,994] Trial 175 finished with value: 0.03317264105973966 and parameters: {'topK': 153, 'num_factors': 166}. Best is trial 113 with value: 0.03372004833558052.\n"
     ]
    },
    {
     "name": "stdout",
     "output_type": "stream",
     "text": [
      "PureSVDItemRecommender: URM Detected 627 ( 4.8%) users with no interactions.\n",
      "PureSVDItemRecommender: URM Detected 247 ( 1.1%) items with no interactions.\n",
      "PureSVDItemRecommender: Computing SVD decomposition...\n",
      "PureSVDItemRecommender: Computing SVD decomposition... Done!\n",
      "EvaluatorHoldout: Processed 10456 (100.0%) in 15.97 sec. Users per second: 655\n"
     ]
    },
    {
     "name": "stderr",
     "output_type": "stream",
     "text": [
      "[I 2023-12-01 11:51:41,278] Trial 176 finished with value: 0.03314552819980359 and parameters: {'topK': 74, 'num_factors': 123}. Best is trial 113 with value: 0.03372004833558052.\n"
     ]
    },
    {
     "name": "stdout",
     "output_type": "stream",
     "text": [
      "PureSVDItemRecommender: URM Detected 627 ( 4.8%) users with no interactions.\n",
      "PureSVDItemRecommender: URM Detected 247 ( 1.1%) items with no interactions.\n",
      "PureSVDItemRecommender: Computing SVD decomposition...\n",
      "PureSVDItemRecommender: Computing SVD decomposition... Done!\n",
      "EvaluatorHoldout: Processed 10456 (100.0%) in 16.90 sec. Users per second: 619\n"
     ]
    },
    {
     "name": "stderr",
     "output_type": "stream",
     "text": [
      "[I 2023-12-01 11:52:23,753] Trial 177 finished with value: 0.023292303500078985 and parameters: {'topK': 95, 'num_factors': 11}. Best is trial 113 with value: 0.03372004833558052.\n"
     ]
    },
    {
     "name": "stdout",
     "output_type": "stream",
     "text": [
      "PureSVDItemRecommender: URM Detected 627 ( 4.8%) users with no interactions.\n",
      "PureSVDItemRecommender: URM Detected 247 ( 1.1%) items with no interactions.\n",
      "PureSVDItemRecommender: Computing SVD decomposition...\n",
      "PureSVDItemRecommender: Computing SVD decomposition... Done!\n",
      "EvaluatorHoldout: Processed 10456 (100.0%) in 16.20 sec. Users per second: 646\n"
     ]
    },
    {
     "name": "stderr",
     "output_type": "stream",
     "text": [
      "[I 2023-12-01 11:53:21,011] Trial 178 finished with value: 0.03266225968836932 and parameters: {'topK': 117, 'num_factors': 275}. Best is trial 113 with value: 0.03372004833558052.\n"
     ]
    },
    {
     "name": "stdout",
     "output_type": "stream",
     "text": [
      "PureSVDItemRecommender: URM Detected 627 ( 4.8%) users with no interactions.\n",
      "PureSVDItemRecommender: URM Detected 247 ( 1.1%) items with no interactions.\n",
      "PureSVDItemRecommender: Computing SVD decomposition...\n",
      "PureSVDItemRecommender: Computing SVD decomposition... Done!\n",
      "EvaluatorHoldout: Processed 10456 (100.0%) in 15.61 sec. Users per second: 670\n"
     ]
    },
    {
     "name": "stderr",
     "output_type": "stream",
     "text": [
      "[I 2023-12-01 11:54:03,541] Trial 179 finished with value: 0.032624243238484174 and parameters: {'topK': 58, 'num_factors': 90}. Best is trial 113 with value: 0.03372004833558052.\n"
     ]
    },
    {
     "name": "stdout",
     "output_type": "stream",
     "text": [
      "PureSVDItemRecommender: URM Detected 627 ( 4.8%) users with no interactions.\n",
      "PureSVDItemRecommender: URM Detected 247 ( 1.1%) items with no interactions.\n",
      "PureSVDItemRecommender: Computing SVD decomposition...\n",
      "PureSVDItemRecommender: Computing SVD decomposition... Done!\n",
      "EvaluatorHoldout: Processed 10456 (100.0%) in 14.75 sec. Users per second: 709\n"
     ]
    },
    {
     "name": "stderr",
     "output_type": "stream",
     "text": [
      "[I 2023-12-01 11:54:40,799] Trial 180 finished with value: 0.031232822955757338 and parameters: {'topK': 38, 'num_factors': 56}. Best is trial 113 with value: 0.03372004833558052.\n"
     ]
    },
    {
     "name": "stdout",
     "output_type": "stream",
     "text": [
      "PureSVDItemRecommender: URM Detected 627 ( 4.8%) users with no interactions.\n",
      "PureSVDItemRecommender: URM Detected 247 ( 1.1%) items with no interactions.\n",
      "PureSVDItemRecommender: Computing SVD decomposition...\n",
      "PureSVDItemRecommender: Computing SVD decomposition... Done!\n",
      "EvaluatorHoldout: Processed 10456 (100.0%) in 15.72 sec. Users per second: 665\n"
     ]
    },
    {
     "name": "stderr",
     "output_type": "stream",
     "text": [
      "[I 2023-12-01 11:55:27,191] Trial 181 finished with value: 0.03316346428267839 and parameters: {'topK': 65, 'num_factors': 151}. Best is trial 113 with value: 0.03372004833558052.\n"
     ]
    },
    {
     "name": "stdout",
     "output_type": "stream",
     "text": [
      "PureSVDItemRecommender: URM Detected 627 ( 4.8%) users with no interactions.\n",
      "PureSVDItemRecommender: URM Detected 247 ( 1.1%) items with no interactions.\n",
      "PureSVDItemRecommender: Computing SVD decomposition...\n",
      "PureSVDItemRecommender: Computing SVD decomposition... Done!\n",
      "EvaluatorHoldout: Processed 10456 (100.0%) in 15.47 sec. Users per second: 676\n"
     ]
    },
    {
     "name": "stderr",
     "output_type": "stream",
     "text": [
      "[I 2023-12-01 11:56:11,914] Trial 182 finished with value: 0.033536675987661455 and parameters: {'topK': 61, 'num_factors': 140}. Best is trial 113 with value: 0.03372004833558052.\n"
     ]
    },
    {
     "name": "stdout",
     "output_type": "stream",
     "text": [
      "PureSVDItemRecommender: URM Detected 627 ( 4.8%) users with no interactions.\n",
      "PureSVDItemRecommender: URM Detected 247 ( 1.1%) items with no interactions.\n",
      "PureSVDItemRecommender: Computing SVD decomposition...\n",
      "PureSVDItemRecommender: Computing SVD decomposition... Done!\n",
      "EvaluatorHoldout: Processed 10456 (100.0%) in 16.15 sec. Users per second: 648\n"
     ]
    },
    {
     "name": "stderr",
     "output_type": "stream",
     "text": [
      "[I 2023-12-01 11:56:58,327] Trial 183 finished with value: 0.03286663843042992 and parameters: {'topK': 80, 'num_factors': 116}. Best is trial 113 with value: 0.03372004833558052.\n"
     ]
    },
    {
     "name": "stdout",
     "output_type": "stream",
     "text": [
      "PureSVDItemRecommender: URM Detected 627 ( 4.8%) users with no interactions.\n",
      "PureSVDItemRecommender: URM Detected 247 ( 1.1%) items with no interactions.\n",
      "PureSVDItemRecommender: Computing SVD decomposition...\n",
      "PureSVDItemRecommender: Computing SVD decomposition... Done!\n",
      "EvaluatorHoldout: Processed 10456 (100.0%) in 14.79 sec. Users per second: 707\n"
     ]
    },
    {
     "name": "stderr",
     "output_type": "stream",
     "text": [
      "[I 2023-12-01 11:57:44,370] Trial 184 finished with value: 0.03344591773842955 and parameters: {'topK': 49, 'num_factors': 173}. Best is trial 113 with value: 0.03372004833558052.\n"
     ]
    },
    {
     "name": "stdout",
     "output_type": "stream",
     "text": [
      "PureSVDItemRecommender: URM Detected 627 ( 4.8%) users with no interactions.\n",
      "PureSVDItemRecommender: URM Detected 247 ( 1.1%) items with no interactions.\n",
      "PureSVDItemRecommender: Computing SVD decomposition...\n",
      "PureSVDItemRecommender: Computing SVD decomposition... Done!\n",
      "EvaluatorHoldout: Processed 10456 (100.0%) in 14.47 sec. Users per second: 723\n"
     ]
    },
    {
     "name": "stderr",
     "output_type": "stream",
     "text": [
      "[I 2023-12-01 11:58:28,296] Trial 185 finished with value: 0.03368262014063505 and parameters: {'topK': 43, 'num_factors': 178}. Best is trial 113 with value: 0.03372004833558052.\n"
     ]
    },
    {
     "name": "stdout",
     "output_type": "stream",
     "text": [
      "PureSVDItemRecommender: URM Detected 627 ( 4.8%) users with no interactions.\n",
      "PureSVDItemRecommender: URM Detected 247 ( 1.1%) items with no interactions.\n",
      "PureSVDItemRecommender: Computing SVD decomposition...\n",
      "PureSVDItemRecommender: Computing SVD decomposition... Done!\n",
      "EvaluatorHoldout: Processed 10456 (100.0%) in 14.78 sec. Users per second: 708\n"
     ]
    },
    {
     "name": "stderr",
     "output_type": "stream",
     "text": [
      "[I 2023-12-01 11:59:12,709] Trial 186 finished with value: 0.03320063819968217 and parameters: {'topK': 42, 'num_factors': 173}. Best is trial 113 with value: 0.03372004833558052.\n"
     ]
    },
    {
     "name": "stdout",
     "output_type": "stream",
     "text": [
      "PureSVDItemRecommender: URM Detected 627 ( 4.8%) users with no interactions.\n",
      "PureSVDItemRecommender: URM Detected 247 ( 1.1%) items with no interactions.\n",
      "PureSVDItemRecommender: Computing SVD decomposition...\n",
      "PureSVDItemRecommender: Computing SVD decomposition... Done!\n",
      "EvaluatorHoldout: Processed 10456 (100.0%) in 14.89 sec. Users per second: 702\n"
     ]
    },
    {
     "name": "stderr",
     "output_type": "stream",
     "text": [
      "[I 2023-12-01 11:59:58,628] Trial 187 finished with value: 0.03323203962788921 and parameters: {'topK': 50, 'num_factors': 167}. Best is trial 113 with value: 0.03372004833558052.\n"
     ]
    },
    {
     "name": "stdout",
     "output_type": "stream",
     "text": [
      "PureSVDItemRecommender: URM Detected 627 ( 4.8%) users with no interactions.\n",
      "PureSVDItemRecommender: URM Detected 247 ( 1.1%) items with no interactions.\n",
      "PureSVDItemRecommender: Computing SVD decomposition...\n",
      "PureSVDItemRecommender: Computing SVD decomposition... Done!\n",
      "EvaluatorHoldout: Processed 10456 (100.0%) in 13.98 sec. Users per second: 748\n"
     ]
    },
    {
     "name": "stderr",
     "output_type": "stream",
     "text": [
      "[I 2023-12-01 12:00:44,198] Trial 188 finished with value: 0.033000802303834384 and parameters: {'topK': 34, 'num_factors': 214}. Best is trial 113 with value: 0.03372004833558052.\n"
     ]
    },
    {
     "name": "stdout",
     "output_type": "stream",
     "text": [
      "PureSVDItemRecommender: URM Detected 627 ( 4.8%) users with no interactions.\n",
      "PureSVDItemRecommender: URM Detected 247 ( 1.1%) items with no interactions.\n",
      "PureSVDItemRecommender: Computing SVD decomposition...\n",
      "PureSVDItemRecommender: Computing SVD decomposition... Done!\n",
      "EvaluatorHoldout: Processed 10456 (100.0%) in 14.93 sec. Users per second: 700\n"
     ]
    },
    {
     "name": "stderr",
     "output_type": "stream",
     "text": [
      "[I 2023-12-01 12:01:25,965] Trial 189 finished with value: 0.03352630751994792 and parameters: {'topK': 43, 'num_factors': 139}. Best is trial 113 with value: 0.03372004833558052.\n"
     ]
    },
    {
     "name": "stdout",
     "output_type": "stream",
     "text": [
      "PureSVDItemRecommender: URM Detected 627 ( 4.8%) users with no interactions.\n",
      "PureSVDItemRecommender: URM Detected 247 ( 1.1%) items with no interactions.\n",
      "PureSVDItemRecommender: Computing SVD decomposition...\n",
      "PureSVDItemRecommender: Computing SVD decomposition... Done!\n",
      "EvaluatorHoldout: Processed 10456 (100.0%) in 14.75 sec. Users per second: 709\n"
     ]
    },
    {
     "name": "stderr",
     "output_type": "stream",
     "text": [
      "[I 2023-12-01 12:02:04,574] Trial 190 finished with value: 0.03303871248831116 and parameters: {'topK': 30, 'num_factors': 108}. Best is trial 113 with value: 0.03372004833558052.\n"
     ]
    },
    {
     "name": "stdout",
     "output_type": "stream",
     "text": [
      "PureSVDItemRecommender: URM Detected 627 ( 4.8%) users with no interactions.\n",
      "PureSVDItemRecommender: URM Detected 247 ( 1.1%) items with no interactions.\n",
      "PureSVDItemRecommender: Computing SVD decomposition...\n",
      "PureSVDItemRecommender: Computing SVD decomposition... Done!\n",
      "EvaluatorHoldout: Processed 10456 (100.0%) in 14.64 sec. Users per second: 714\n"
     ]
    },
    {
     "name": "stderr",
     "output_type": "stream",
     "text": [
      "[I 2023-12-01 12:02:45,801] Trial 191 finished with value: 0.03344217188278047 and parameters: {'topK': 41, 'num_factors': 138}. Best is trial 113 with value: 0.03372004833558052.\n"
     ]
    },
    {
     "name": "stdout",
     "output_type": "stream",
     "text": [
      "PureSVDItemRecommender: URM Detected 627 ( 4.8%) users with no interactions.\n",
      "PureSVDItemRecommender: URM Detected 247 ( 1.1%) items with no interactions.\n",
      "PureSVDItemRecommender: Computing SVD decomposition...\n",
      "PureSVDItemRecommender: Computing SVD decomposition... Done!\n",
      "EvaluatorHoldout: Processed 10456 (100.0%) in 14.82 sec. Users per second: 705\n"
     ]
    },
    {
     "name": "stderr",
     "output_type": "stream",
     "text": [
      "[I 2023-12-01 12:03:27,443] Trial 192 finished with value: 0.033245971781980084 and parameters: {'topK': 42, 'num_factors': 130}. Best is trial 113 with value: 0.03372004833558052.\n"
     ]
    },
    {
     "name": "stdout",
     "output_type": "stream",
     "text": [
      "PureSVDItemRecommender: URM Detected 627 ( 4.8%) users with no interactions.\n",
      "PureSVDItemRecommender: URM Detected 247 ( 1.1%) items with no interactions.\n",
      "PureSVDItemRecommender: Computing SVD decomposition...\n",
      "PureSVDItemRecommender: Computing SVD decomposition... Done!\n",
      "EvaluatorHoldout: Processed 10456 (100.0%) in 14.73 sec. Users per second: 710\n"
     ]
    },
    {
     "name": "stderr",
     "output_type": "stream",
     "text": [
      "[I 2023-12-01 12:04:01,773] Trial 193 finished with value: 0.029112277753488673 and parameters: {'topK': 34, 'num_factors': 28}. Best is trial 113 with value: 0.03372004833558052.\n"
     ]
    },
    {
     "name": "stdout",
     "output_type": "stream",
     "text": [
      "PureSVDItemRecommender: URM Detected 627 ( 4.8%) users with no interactions.\n",
      "PureSVDItemRecommender: URM Detected 247 ( 1.1%) items with no interactions.\n",
      "PureSVDItemRecommender: Computing SVD decomposition...\n",
      "PureSVDItemRecommender: Computing SVD decomposition... Done!\n",
      "EvaluatorHoldout: Processed 10456 (100.0%) in 14.72 sec. Users per second: 710\n"
     ]
    },
    {
     "name": "stderr",
     "output_type": "stream",
     "text": [
      "[I 2023-12-01 12:04:48,042] Trial 194 finished with value: 0.033545412522316166 and parameters: {'topK': 47, 'num_factors': 183}. Best is trial 113 with value: 0.03372004833558052.\n"
     ]
    },
    {
     "name": "stdout",
     "output_type": "stream",
     "text": [
      "PureSVDItemRecommender: URM Detected 627 ( 4.8%) users with no interactions.\n",
      "PureSVDItemRecommender: URM Detected 247 ( 1.1%) items with no interactions.\n",
      "PureSVDItemRecommender: Computing SVD decomposition...\n",
      "PureSVDItemRecommender: Computing SVD decomposition... Done!\n",
      "EvaluatorHoldout: Processed 10456 (100.0%) in 14.52 sec. Users per second: 720\n"
     ]
    },
    {
     "name": "stderr",
     "output_type": "stream",
     "text": [
      "[I 2023-12-01 12:05:33,826] Trial 195 finished with value: 0.03334835850305467 and parameters: {'topK': 43, 'num_factors': 197}. Best is trial 113 with value: 0.03372004833558052.\n"
     ]
    },
    {
     "name": "stdout",
     "output_type": "stream",
     "text": [
      "PureSVDItemRecommender: URM Detected 627 ( 4.8%) users with no interactions.\n",
      "PureSVDItemRecommender: URM Detected 247 ( 1.1%) items with no interactions.\n",
      "PureSVDItemRecommender: Computing SVD decomposition...\n",
      "PureSVDItemRecommender: Computing SVD decomposition... Done!\n",
      "EvaluatorHoldout: Processed 10456 (100.0%) in 14.10 sec. Users per second: 742\n"
     ]
    },
    {
     "name": "stderr",
     "output_type": "stream",
     "text": [
      "[I 2023-12-01 12:06:13,121] Trial 196 finished with value: 0.03332487764297283 and parameters: {'topK': 27, 'num_factors': 142}. Best is trial 113 with value: 0.03372004833558052.\n"
     ]
    },
    {
     "name": "stdout",
     "output_type": "stream",
     "text": [
      "PureSVDItemRecommender: URM Detected 627 ( 4.8%) users with no interactions.\n",
      "PureSVDItemRecommender: URM Detected 247 ( 1.1%) items with no interactions.\n",
      "PureSVDItemRecommender: Computing SVD decomposition...\n",
      "PureSVDItemRecommender: Computing SVD decomposition... Done!\n",
      "EvaluatorHoldout: Processed 10456 (100.0%) in 13.88 sec. Users per second: 753\n"
     ]
    },
    {
     "name": "stderr",
     "output_type": "stream",
     "text": [
      "[I 2023-12-01 12:06:59,369] Trial 197 finished with value: 0.03287297260781406 and parameters: {'topK': 37, 'num_factors': 235}. Best is trial 113 with value: 0.03372004833558052.\n"
     ]
    },
    {
     "name": "stdout",
     "output_type": "stream",
     "text": [
      "PureSVDItemRecommender: URM Detected 627 ( 4.8%) users with no interactions.\n",
      "PureSVDItemRecommender: URM Detected 247 ( 1.1%) items with no interactions.\n",
      "PureSVDItemRecommender: Computing SVD decomposition...\n",
      "PureSVDItemRecommender: Computing SVD decomposition... Done!\n",
      "EvaluatorHoldout: Processed 10456 (100.0%) in 14.82 sec. Users per second: 705\n"
     ]
    },
    {
     "name": "stderr",
     "output_type": "stream",
     "text": [
      "[I 2023-12-01 12:07:44,942] Trial 198 finished with value: 0.03341030364581453 and parameters: {'topK': 48, 'num_factors': 183}. Best is trial 113 with value: 0.03372004833558052.\n"
     ]
    },
    {
     "name": "stdout",
     "output_type": "stream",
     "text": [
      "PureSVDItemRecommender: URM Detected 627 ( 4.8%) users with no interactions.\n",
      "PureSVDItemRecommender: URM Detected 247 ( 1.1%) items with no interactions.\n",
      "PureSVDItemRecommender: Computing SVD decomposition...\n",
      "PureSVDItemRecommender: Computing SVD decomposition... Done!\n",
      "EvaluatorHoldout: Processed 10456 (100.0%) in 15.14 sec. Users per second: 691\n"
     ]
    },
    {
     "name": "stderr",
     "output_type": "stream",
     "text": [
      "[I 2023-12-01 12:08:27,743] Trial 199 finished with value: 0.03314813549750468 and parameters: {'topK': 49, 'num_factors': 129}. Best is trial 113 with value: 0.03372004833558052.\n"
     ]
    },
    {
     "name": "stdout",
     "output_type": "stream",
     "text": [
      "PureSVDItemRecommender: URM Detected 627 ( 4.8%) users with no interactions.\n",
      "PureSVDItemRecommender: URM Detected 247 ( 1.1%) items with no interactions.\n",
      "PureSVDItemRecommender: Computing SVD decomposition...\n",
      "PureSVDItemRecommender: Computing SVD decomposition... Done!\n",
      "EvaluatorHoldout: Processed 10456 (100.0%) in 14.96 sec. Users per second: 699\n"
     ]
    },
    {
     "name": "stderr",
     "output_type": "stream",
     "text": [
      "[I 2023-12-01 12:09:06,917] Trial 200 finished with value: 0.032714075460584975 and parameters: {'topK': 40, 'num_factors': 96}. Best is trial 113 with value: 0.03372004833558052.\n"
     ]
    },
    {
     "name": "stdout",
     "output_type": "stream",
     "text": [
      "PureSVDItemRecommender: URM Detected 627 ( 4.8%) users with no interactions.\n",
      "PureSVDItemRecommender: URM Detected 247 ( 1.1%) items with no interactions.\n",
      "PureSVDItemRecommender: Computing SVD decomposition...\n",
      "PureSVDItemRecommender: Computing SVD decomposition... Done!\n",
      "EvaluatorHoldout: Processed 10456 (100.0%) in 15.56 sec. Users per second: 672\n"
     ]
    },
    {
     "name": "stderr",
     "output_type": "stream",
     "text": [
      "[I 2023-12-01 12:09:52,840] Trial 201 finished with value: 0.03320614502495757 and parameters: {'topK': 61, 'num_factors': 159}. Best is trial 113 with value: 0.03372004833558052.\n"
     ]
    },
    {
     "name": "stdout",
     "output_type": "stream",
     "text": [
      "PureSVDItemRecommender: URM Detected 627 ( 4.8%) users with no interactions.\n",
      "PureSVDItemRecommender: URM Detected 247 ( 1.1%) items with no interactions.\n",
      "PureSVDItemRecommender: Computing SVD decomposition...\n",
      "PureSVDItemRecommender: Computing SVD decomposition... Done!\n",
      "EvaluatorHoldout: Processed 10456 (100.0%) in 15.24 sec. Users per second: 686\n"
     ]
    },
    {
     "name": "stderr",
     "output_type": "stream",
     "text": [
      "[I 2023-12-01 12:10:39,561] Trial 202 finished with value: 0.033336714850439327 and parameters: {'topK': 60, 'num_factors': 169}. Best is trial 113 with value: 0.03372004833558052.\n"
     ]
    },
    {
     "name": "stdout",
     "output_type": "stream",
     "text": [
      "PureSVDItemRecommender: URM Detected 627 ( 4.8%) users with no interactions.\n",
      "PureSVDItemRecommender: URM Detected 247 ( 1.1%) items with no interactions.\n",
      "PureSVDItemRecommender: Computing SVD decomposition...\n",
      "PureSVDItemRecommender: Computing SVD decomposition... Done!\n",
      "EvaluatorHoldout: Processed 10456 (100.0%) in 15.12 sec. Users per second: 692\n"
     ]
    },
    {
     "name": "stderr",
     "output_type": "stream",
     "text": [
      "[I 2023-12-01 12:11:22,301] Trial 203 finished with value: 0.033319537806196495 and parameters: {'topK': 51, 'num_factors': 137}. Best is trial 113 with value: 0.03372004833558052.\n"
     ]
    },
    {
     "name": "stdout",
     "output_type": "stream",
     "text": [
      "PureSVDItemRecommender: URM Detected 627 ( 4.8%) users with no interactions.\n",
      "PureSVDItemRecommender: URM Detected 247 ( 1.1%) items with no interactions.\n",
      "PureSVDItemRecommender: Computing SVD decomposition...\n",
      "PureSVDItemRecommender: Computing SVD decomposition... Done!\n",
      "EvaluatorHoldout: Processed 10456 (100.0%) in 13.96 sec. Users per second: 749\n"
     ]
    },
    {
     "name": "stderr",
     "output_type": "stream",
     "text": [
      "[I 2023-12-01 12:12:07,027] Trial 204 finished with value: 0.03328476245126997 and parameters: {'topK': 35, 'num_factors': 189}. Best is trial 113 with value: 0.03372004833558052.\n"
     ]
    },
    {
     "name": "stdout",
     "output_type": "stream",
     "text": [
      "PureSVDItemRecommender: URM Detected 627 ( 4.8%) users with no interactions.\n",
      "PureSVDItemRecommender: URM Detected 247 ( 1.1%) items with no interactions.\n",
      "PureSVDItemRecommender: Computing SVD decomposition...\n",
      "PureSVDItemRecommender: Computing SVD decomposition... Done!\n",
      "EvaluatorHoldout: Processed 10456 (100.0%) in 15.97 sec. Users per second: 655\n"
     ]
    },
    {
     "name": "stderr",
     "output_type": "stream",
     "text": [
      "[I 2023-12-01 12:12:51,125] Trial 205 finished with value: 0.03291397587471642 and parameters: {'topK': 68, 'num_factors': 107}. Best is trial 113 with value: 0.03372004833558052.\n"
     ]
    },
    {
     "name": "stdout",
     "output_type": "stream",
     "text": [
      "PureSVDItemRecommender: URM Detected 627 ( 4.8%) users with no interactions.\n",
      "PureSVDItemRecommender: URM Detected 247 ( 1.1%) items with no interactions.\n",
      "PureSVDItemRecommender: Computing SVD decomposition...\n",
      "PureSVDItemRecommender: Computing SVD decomposition... Done!\n",
      "EvaluatorHoldout: Processed 10456 (100.0%) in 14.53 sec. Users per second: 720\n"
     ]
    },
    {
     "name": "stderr",
     "output_type": "stream",
     "text": [
      "[I 2023-12-01 12:13:38,413] Trial 206 finished with value: 0.03324390719690101 and parameters: {'topK': 44, 'num_factors': 228}. Best is trial 113 with value: 0.03372004833558052.\n"
     ]
    },
    {
     "name": "stdout",
     "output_type": "stream",
     "text": [
      "PureSVDItemRecommender: URM Detected 627 ( 4.8%) users with no interactions.\n",
      "PureSVDItemRecommender: URM Detected 247 ( 1.1%) items with no interactions.\n",
      "PureSVDItemRecommender: Computing SVD decomposition...\n",
      "PureSVDItemRecommender: Computing SVD decomposition... Done!\n",
      "EvaluatorHoldout: Processed 10456 (100.0%) in 14.97 sec. Users per second: 699\n"
     ]
    },
    {
     "name": "stderr",
     "output_type": "stream",
     "text": [
      "[I 2023-12-01 12:14:34,134] Trial 207 finished with value: 0.03280537642243864 and parameters: {'topK': 56, 'num_factors': 328}. Best is trial 113 with value: 0.03372004833558052.\n"
     ]
    },
    {
     "name": "stdout",
     "output_type": "stream",
     "text": [
      "PureSVDItemRecommender: URM Detected 627 ( 4.8%) users with no interactions.\n",
      "PureSVDItemRecommender: URM Detected 247 ( 1.1%) items with no interactions.\n",
      "PureSVDItemRecommender: Computing SVD decomposition...\n",
      "PureSVDItemRecommender: Computing SVD decomposition... Done!\n",
      "EvaluatorHoldout: Processed 10456 (100.0%) in 14.44 sec. Users per second: 724\n"
     ]
    },
    {
     "name": "stderr",
     "output_type": "stream",
     "text": [
      "[I 2023-12-01 12:15:16,294] Trial 208 finished with value: 0.03328581751496853 and parameters: {'topK': 30, 'num_factors': 153}. Best is trial 113 with value: 0.03372004833558052.\n"
     ]
    },
    {
     "name": "stdout",
     "output_type": "stream",
     "text": [
      "PureSVDItemRecommender: URM Detected 627 ( 4.8%) users with no interactions.\n",
      "PureSVDItemRecommender: URM Detected 247 ( 1.1%) items with no interactions.\n",
      "PureSVDItemRecommender: Computing SVD decomposition...\n",
      "PureSVDItemRecommender: Computing SVD decomposition... Done!\n",
      "EvaluatorHoldout: Processed 10456 (100.0%) in 14.96 sec. Users per second: 699\n"
     ]
    },
    {
     "name": "stderr",
     "output_type": "stream",
     "text": [
      "[I 2023-12-01 12:15:56,993] Trial 209 finished with value: 0.03342507833278719 and parameters: {'topK': 39, 'num_factors': 121}. Best is trial 113 with value: 0.03372004833558052.\n"
     ]
    },
    {
     "name": "stdout",
     "output_type": "stream",
     "text": [
      "PureSVDItemRecommender: URM Detected 627 ( 4.8%) users with no interactions.\n",
      "PureSVDItemRecommender: URM Detected 247 ( 1.1%) items with no interactions.\n",
      "PureSVDItemRecommender: Computing SVD decomposition...\n",
      "PureSVDItemRecommender: Computing SVD decomposition... Done!\n",
      "EvaluatorHoldout: Processed 10456 (100.0%) in 14.95 sec. Users per second: 699\n"
     ]
    },
    {
     "name": "stderr",
     "output_type": "stream",
     "text": [
      "[I 2023-12-01 12:16:38,227] Trial 210 finished with value: 0.033283673230833186 and parameters: {'topK': 38, 'num_factors': 117}. Best is trial 113 with value: 0.03372004833558052.\n"
     ]
    },
    {
     "name": "stdout",
     "output_type": "stream",
     "text": [
      "PureSVDItemRecommender: URM Detected 627 ( 4.8%) users with no interactions.\n",
      "PureSVDItemRecommender: URM Detected 247 ( 1.1%) items with no interactions.\n",
      "PureSVDItemRecommender: Computing SVD decomposition...\n",
      "PureSVDItemRecommender: Computing SVD decomposition... Done!\n",
      "EvaluatorHoldout: Processed 10456 (100.0%) in 15.12 sec. Users per second: 692\n"
     ]
    },
    {
     "name": "stderr",
     "output_type": "stream",
     "text": [
      "[I 2023-12-01 12:17:21,583] Trial 211 finished with value: 0.03311404327734703 and parameters: {'topK': 46, 'num_factors': 143}. Best is trial 113 with value: 0.03372004833558052.\n"
     ]
    },
    {
     "name": "stdout",
     "output_type": "stream",
     "text": [
      "PureSVDItemRecommender: URM Detected 627 ( 4.8%) users with no interactions.\n",
      "PureSVDItemRecommender: URM Detected 247 ( 1.1%) items with no interactions.\n",
      "PureSVDItemRecommender: Computing SVD decomposition...\n",
      "PureSVDItemRecommender: Computing SVD decomposition... Done!\n",
      "EvaluatorHoldout: Processed 10456 (100.0%) in 14.10 sec. Users per second: 741\n"
     ]
    },
    {
     "name": "stderr",
     "output_type": "stream",
     "text": [
      "[I 2023-12-01 12:17:55,510] Trial 212 finished with value: 0.030300101103946007 and parameters: {'topK': 23, 'num_factors': 43}. Best is trial 113 with value: 0.03372004833558052.\n"
     ]
    },
    {
     "name": "stdout",
     "output_type": "stream",
     "text": [
      "PureSVDItemRecommender: URM Detected 627 ( 4.8%) users with no interactions.\n",
      "PureSVDItemRecommender: URM Detected 247 ( 1.1%) items with no interactions.\n",
      "PureSVDItemRecommender: Computing SVD decomposition...\n",
      "PureSVDItemRecommender: Computing SVD decomposition... Done!\n",
      "EvaluatorHoldout: Processed 10456 (100.0%) in 15.01 sec. Users per second: 696\n"
     ]
    },
    {
     "name": "stderr",
     "output_type": "stream",
     "text": [
      "[I 2023-12-01 12:18:42,785] Trial 213 finished with value: 0.03327848899697627 and parameters: {'topK': 55, 'num_factors': 175}. Best is trial 113 with value: 0.03372004833558052.\n"
     ]
    },
    {
     "name": "stdout",
     "output_type": "stream",
     "text": [
      "PureSVDItemRecommender: URM Detected 627 ( 4.8%) users with no interactions.\n",
      "PureSVDItemRecommender: URM Detected 247 ( 1.1%) items with no interactions.\n",
      "PureSVDItemRecommender: Computing SVD decomposition...\n",
      "PureSVDItemRecommender: Computing SVD decomposition... Done!\n",
      "EvaluatorHoldout: Processed 10456 (100.0%) in 14.32 sec. Users per second: 730\n"
     ]
    },
    {
     "name": "stderr",
     "output_type": "stream",
     "text": [
      "[I 2023-12-01 12:19:28,780] Trial 214 finished with value: 0.03352046292248115 and parameters: {'topK': 41, 'num_factors': 207}. Best is trial 113 with value: 0.03372004833558052.\n"
     ]
    },
    {
     "name": "stdout",
     "output_type": "stream",
     "text": [
      "PureSVDItemRecommender: URM Detected 627 ( 4.8%) users with no interactions.\n",
      "PureSVDItemRecommender: URM Detected 247 ( 1.1%) items with no interactions.\n",
      "PureSVDItemRecommender: Computing SVD decomposition...\n",
      "PureSVDItemRecommender: Computing SVD decomposition... Done!\n",
      "EvaluatorHoldout: Processed 10456 (100.0%) in 13.56 sec. Users per second: 771\n"
     ]
    },
    {
     "name": "stderr",
     "output_type": "stream",
     "text": [
      "[I 2023-12-01 12:20:14,905] Trial 215 finished with value: 0.03306831499496022 and parameters: {'topK': 34, 'num_factors': 254}. Best is trial 113 with value: 0.03372004833558052.\n"
     ]
    },
    {
     "name": "stdout",
     "output_type": "stream",
     "text": [
      "PureSVDItemRecommender: URM Detected 627 ( 4.8%) users with no interactions.\n",
      "PureSVDItemRecommender: URM Detected 247 ( 1.1%) items with no interactions.\n",
      "PureSVDItemRecommender: Computing SVD decomposition...\n",
      "PureSVDItemRecommender: Computing SVD decomposition... Done!\n",
      "EvaluatorHoldout: Processed 10456 (100.0%) in 14.25 sec. Users per second: 734\n"
     ]
    },
    {
     "name": "stderr",
     "output_type": "stream",
     "text": [
      "[I 2023-12-01 12:21:00,485] Trial 216 finished with value: 0.03332948121227607 and parameters: {'topK': 39, 'num_factors': 204}. Best is trial 113 with value: 0.03372004833558052.\n"
     ]
    },
    {
     "name": "stdout",
     "output_type": "stream",
     "text": [
      "PureSVDItemRecommender: URM Detected 627 ( 4.8%) users with no interactions.\n",
      "PureSVDItemRecommender: URM Detected 247 ( 1.1%) items with no interactions.\n",
      "PureSVDItemRecommender: Computing SVD decomposition...\n",
      "PureSVDItemRecommender: Computing SVD decomposition... Done!\n",
      "EvaluatorHoldout: Processed 10456 (100.0%) in 14.08 sec. Users per second: 742\n"
     ]
    },
    {
     "name": "stderr",
     "output_type": "stream",
     "text": [
      "[I 2023-12-01 12:21:50,925] Trial 217 finished with value: 0.03290851079656568 and parameters: {'topK': 44, 'num_factors': 278}. Best is trial 113 with value: 0.03372004833558052.\n"
     ]
    },
    {
     "name": "stdout",
     "output_type": "stream",
     "text": [
      "PureSVDItemRecommender: URM Detected 627 ( 4.8%) users with no interactions.\n",
      "PureSVDItemRecommender: URM Detected 247 ( 1.1%) items with no interactions.\n",
      "PureSVDItemRecommender: Computing SVD decomposition...\n",
      "PureSVDItemRecommender: Computing SVD decomposition... Done!\n",
      "EvaluatorHoldout: Processed 10456 (100.0%) in 14.04 sec. Users per second: 745\n"
     ]
    },
    {
     "name": "stderr",
     "output_type": "stream",
     "text": [
      "[I 2023-12-01 12:22:31,357] Trial 218 finished with value: 0.033391008883788334 and parameters: {'topK': 28, 'num_factors': 129}. Best is trial 113 with value: 0.03372004833558052.\n"
     ]
    },
    {
     "name": "stdout",
     "output_type": "stream",
     "text": [
      "PureSVDItemRecommender: URM Detected 627 ( 4.8%) users with no interactions.\n",
      "PureSVDItemRecommender: URM Detected 247 ( 1.1%) items with no interactions.\n",
      "PureSVDItemRecommender: Computing SVD decomposition...\n",
      "PureSVDItemRecommender: Computing SVD decomposition... Done!\n",
      "EvaluatorHoldout: Processed 10456 (100.0%) in 14.07 sec. Users per second: 743\n"
     ]
    },
    {
     "name": "stderr",
     "output_type": "stream",
     "text": [
      "[I 2023-12-01 12:23:13,853] Trial 219 finished with value: 0.033319321480186286 and parameters: {'topK': 33, 'num_factors': 190}. Best is trial 113 with value: 0.03372004833558052.\n"
     ]
    },
    {
     "name": "stdout",
     "output_type": "stream",
     "text": [
      "PureSVDItemRecommender: URM Detected 627 ( 4.8%) users with no interactions.\n",
      "PureSVDItemRecommender: URM Detected 247 ( 1.1%) items with no interactions.\n",
      "PureSVDItemRecommender: Computing SVD decomposition...\n",
      "PureSVDItemRecommender: Computing SVD decomposition... Done!\n",
      "EvaluatorHoldout: Processed 10456 (100.0%) in 15.32 sec. Users per second: 682\n"
     ]
    },
    {
     "name": "stderr",
     "output_type": "stream",
     "text": [
      "[I 2023-12-01 12:23:53,535] Trial 220 finished with value: 0.031908720291228175 and parameters: {'topK': 50, 'num_factors': 75}. Best is trial 113 with value: 0.03372004833558052.\n"
     ]
    },
    {
     "name": "stdout",
     "output_type": "stream",
     "text": [
      "PureSVDItemRecommender: URM Detected 627 ( 4.8%) users with no interactions.\n",
      "PureSVDItemRecommender: URM Detected 247 ( 1.1%) items with no interactions.\n",
      "PureSVDItemRecommender: Computing SVD decomposition...\n",
      "PureSVDItemRecommender: Computing SVD decomposition... Done!\n",
      "EvaluatorHoldout: Processed 10456 (100.0%) in 15.66 sec. Users per second: 668\n"
     ]
    },
    {
     "name": "stderr",
     "output_type": "stream",
     "text": [
      "[I 2023-12-01 12:24:38,962] Trial 221 finished with value: 0.03346339839812527 and parameters: {'topK': 67, 'num_factors': 138}. Best is trial 113 with value: 0.03372004833558052.\n"
     ]
    },
    {
     "name": "stdout",
     "output_type": "stream",
     "text": [
      "PureSVDItemRecommender: URM Detected 627 ( 4.8%) users with no interactions.\n",
      "PureSVDItemRecommender: URM Detected 247 ( 1.1%) items with no interactions.\n",
      "PureSVDItemRecommender: Computing SVD decomposition...\n",
      "PureSVDItemRecommender: Computing SVD decomposition... Done!\n",
      "EvaluatorHoldout: Processed 10456 (100.0%) in 15.60 sec. Users per second: 670\n"
     ]
    },
    {
     "name": "stderr",
     "output_type": "stream",
     "text": [
      "[I 2023-12-01 12:25:26,120] Trial 222 finished with value: 0.033414668117948805 and parameters: {'topK': 69, 'num_factors': 145}. Best is trial 113 with value: 0.03372004833558052.\n"
     ]
    },
    {
     "name": "stdout",
     "output_type": "stream",
     "text": [
      "PureSVDItemRecommender: URM Detected 627 ( 4.8%) users with no interactions.\n",
      "PureSVDItemRecommender: URM Detected 247 ( 1.1%) items with no interactions.\n",
      "PureSVDItemRecommender: Computing SVD decomposition...\n",
      "PureSVDItemRecommender: Computing SVD decomposition... Done!\n",
      "EvaluatorHoldout: Processed 10456 (100.0%) in 9.03 sec. Users per second: 1158\n"
     ]
    },
    {
     "name": "stderr",
     "output_type": "stream",
     "text": [
      "[I 2023-12-01 12:25:52,565] Trial 223 finished with value: 0.009997058725300814 and parameters: {'topK': 1, 'num_factors': 170}. Best is trial 113 with value: 0.03372004833558052.\n"
     ]
    },
    {
     "name": "stdout",
     "output_type": "stream",
     "text": [
      "PureSVDItemRecommender: URM Detected 627 ( 4.8%) users with no interactions.\n",
      "PureSVDItemRecommender: URM Detected 247 ( 1.1%) items with no interactions.\n",
      "PureSVDItemRecommender: Computing SVD decomposition...\n",
      "PureSVDItemRecommender: Computing SVD decomposition... Done!\n",
      "EvaluatorHoldout: Processed 10456 (100.0%) in 15.00 sec. Users per second: 697\n"
     ]
    },
    {
     "name": "stderr",
     "output_type": "stream",
     "text": [
      "[I 2023-12-01 12:26:33,563] Trial 224 finished with value: 0.03335536063443516 and parameters: {'topK': 43, 'num_factors': 110}. Best is trial 113 with value: 0.03372004833558052.\n"
     ]
    },
    {
     "name": "stdout",
     "output_type": "stream",
     "text": [
      "PureSVDItemRecommender: URM Detected 627 ( 4.8%) users with no interactions.\n",
      "PureSVDItemRecommender: URM Detected 247 ( 1.1%) items with no interactions.\n",
      "PureSVDItemRecommender: Computing SVD decomposition...\n",
      "PureSVDItemRecommender: Computing SVD decomposition... Done!\n",
      "EvaluatorHoldout: Processed 10456 (100.0%) in 16.37 sec. Users per second: 639\n"
     ]
    },
    {
     "name": "stderr",
     "output_type": "stream",
     "text": [
      "[I 2023-12-01 12:27:12,255] Trial 225 finished with value: 0.012877227019346326 and parameters: {'topK': 73, 'num_factors': 2}. Best is trial 113 with value: 0.03372004833558052.\n"
     ]
    },
    {
     "name": "stdout",
     "output_type": "stream",
     "text": [
      "PureSVDItemRecommender: URM Detected 627 ( 4.8%) users with no interactions.\n",
      "PureSVDItemRecommender: URM Detected 247 ( 1.1%) items with no interactions.\n",
      "PureSVDItemRecommender: Computing SVD decomposition...\n",
      "PureSVDItemRecommender: Computing SVD decomposition... Done!\n",
      "EvaluatorHoldout: Processed 10456 (100.0%) in 15.51 sec. Users per second: 674\n"
     ]
    },
    {
     "name": "stderr",
     "output_type": "stream",
     "text": [
      "[I 2023-12-01 12:28:02,060] Trial 226 finished with value: 0.03323453686498859 and parameters: {'topK': 64, 'num_factors': 215}. Best is trial 113 with value: 0.03372004833558052.\n"
     ]
    },
    {
     "name": "stdout",
     "output_type": "stream",
     "text": [
      "PureSVDItemRecommender: URM Detected 627 ( 4.8%) users with no interactions.\n",
      "PureSVDItemRecommender: URM Detected 247 ( 1.1%) items with no interactions.\n",
      "PureSVDItemRecommender: Computing SVD decomposition...\n",
      "PureSVDItemRecommender: Computing SVD decomposition... Done!\n",
      "EvaluatorHoldout: Processed 10456 (100.0%) in 15.17 sec. Users per second: 689\n"
     ]
    },
    {
     "name": "stderr",
     "output_type": "stream",
     "text": [
      "[I 2023-12-01 12:28:46,576] Trial 227 finished with value: 0.03341696041461759 and parameters: {'topK': 52, 'num_factors': 129}. Best is trial 113 with value: 0.03372004833558052.\n"
     ]
    },
    {
     "name": "stdout",
     "output_type": "stream",
     "text": [
      "PureSVDItemRecommender: URM Detected 627 ( 4.8%) users with no interactions.\n",
      "PureSVDItemRecommender: URM Detected 247 ( 1.1%) items with no interactions.\n",
      "PureSVDItemRecommender: Computing SVD decomposition...\n",
      "PureSVDItemRecommender: Computing SVD decomposition... Done!\n",
      "EvaluatorHoldout: Processed 10456 (100.0%) in 14.41 sec. Users per second: 725\n"
     ]
    },
    {
     "name": "stderr",
     "output_type": "stream",
     "text": [
      "[I 2023-12-01 12:29:28,803] Trial 228 finished with value: 0.0333495198321617 and parameters: {'topK': 38, 'num_factors': 149}. Best is trial 113 with value: 0.03372004833558052.\n"
     ]
    },
    {
     "name": "stdout",
     "output_type": "stream",
     "text": [
      "PureSVDItemRecommender: URM Detected 627 ( 4.8%) users with no interactions.\n",
      "PureSVDItemRecommender: URM Detected 247 ( 1.1%) items with no interactions.\n",
      "PureSVDItemRecommender: Computing SVD decomposition...\n",
      "PureSVDItemRecommender: Computing SVD decomposition... Done!\n",
      "EvaluatorHoldout: Processed 10456 (100.0%) in 12.02 sec. Users per second: 870\n"
     ]
    },
    {
     "name": "stderr",
     "output_type": "stream",
     "text": [
      "[I 2023-12-01 12:30:50,812] Trial 229 finished with value: 0.03253314342186784 and parameters: {'topK': 47, 'num_factors': 902}. Best is trial 113 with value: 0.03372004833558052.\n"
     ]
    },
    {
     "name": "stdout",
     "output_type": "stream",
     "text": [
      "PureSVDItemRecommender: URM Detected 627 ( 4.8%) users with no interactions.\n",
      "PureSVDItemRecommender: URM Detected 247 ( 1.1%) items with no interactions.\n",
      "PureSVDItemRecommender: Computing SVD decomposition...\n",
      "PureSVDItemRecommender: Computing SVD decomposition... Done!\n",
      "EvaluatorHoldout: Processed 10456 (100.0%) in 9.89 sec. Users per second: 1057\n"
     ]
    },
    {
     "name": "stderr",
     "output_type": "stream",
     "text": [
      "[I 2023-12-01 12:31:23,534] Trial 230 finished with value: 0.027096927715233077 and parameters: {'topK': 3, 'num_factors': 179}. Best is trial 113 with value: 0.03372004833558052.\n"
     ]
    },
    {
     "name": "stdout",
     "output_type": "stream",
     "text": [
      "PureSVDItemRecommender: URM Detected 627 ( 4.8%) users with no interactions.\n",
      "PureSVDItemRecommender: URM Detected 247 ( 1.1%) items with no interactions.\n",
      "PureSVDItemRecommender: Computing SVD decomposition...\n",
      "PureSVDItemRecommender: Computing SVD decomposition... Done!\n",
      "EvaluatorHoldout: Processed 10456 (100.0%) in 15.53 sec. Users per second: 673\n"
     ]
    },
    {
     "name": "stderr",
     "output_type": "stream",
     "text": [
      "[I 2023-12-01 12:32:09,586] Trial 231 finished with value: 0.032997576389648196 and parameters: {'topK': 60, 'num_factors': 164}. Best is trial 113 with value: 0.03372004833558052.\n"
     ]
    },
    {
     "name": "stdout",
     "output_type": "stream",
     "text": [
      "PureSVDItemRecommender: URM Detected 627 ( 4.8%) users with no interactions.\n",
      "PureSVDItemRecommender: URM Detected 247 ( 1.1%) items with no interactions.\n",
      "PureSVDItemRecommender: Computing SVD decomposition...\n",
      "PureSVDItemRecommender: Computing SVD decomposition... Done!\n",
      "EvaluatorHoldout: Processed 10456 (100.0%) in 15.19 sec. Users per second: 688\n"
     ]
    },
    {
     "name": "stderr",
     "output_type": "stream",
     "text": [
      "[I 2023-12-01 12:32:54,527] Trial 232 finished with value: 0.0331115118835091 and parameters: {'topK': 58, 'num_factors': 152}. Best is trial 113 with value: 0.03372004833558052.\n"
     ]
    },
    {
     "name": "stdout",
     "output_type": "stream",
     "text": [
      "PureSVDItemRecommender: URM Detected 627 ( 4.8%) users with no interactions.\n",
      "PureSVDItemRecommender: URM Detected 247 ( 1.1%) items with no interactions.\n",
      "PureSVDItemRecommender: Computing SVD decomposition...\n",
      "PureSVDItemRecommender: Computing SVD decomposition... Done!\n",
      "EvaluatorHoldout: Processed 10456 (100.0%) in 16.26 sec. Users per second: 643\n"
     ]
    },
    {
     "name": "stderr",
     "output_type": "stream",
     "text": [
      "[I 2023-12-01 12:33:41,974] Trial 233 finished with value: 0.033099606362565766 and parameters: {'topK': 78, 'num_factors': 129}. Best is trial 113 with value: 0.03372004833558052.\n"
     ]
    },
    {
     "name": "stdout",
     "output_type": "stream",
     "text": [
      "PureSVDItemRecommender: URM Detected 627 ( 4.8%) users with no interactions.\n",
      "PureSVDItemRecommender: URM Detected 247 ( 1.1%) items with no interactions.\n",
      "PureSVDItemRecommender: Computing SVD decomposition...\n",
      "PureSVDItemRecommender: Computing SVD decomposition... Done!\n",
      "EvaluatorHoldout: Processed 10456 (100.0%) in 14.43 sec. Users per second: 725\n"
     ]
    },
    {
     "name": "stderr",
     "output_type": "stream",
     "text": [
      "[I 2023-12-01 12:34:29,349] Trial 234 finished with value: 0.03327696332932587 and parameters: {'topK': 43, 'num_factors': 209}. Best is trial 113 with value: 0.03372004833558052.\n"
     ]
    },
    {
     "name": "stdout",
     "output_type": "stream",
     "text": [
      "PureSVDItemRecommender: URM Detected 627 ( 4.8%) users with no interactions.\n",
      "PureSVDItemRecommender: URM Detected 247 ( 1.1%) items with no interactions.\n",
      "PureSVDItemRecommender: Computing SVD decomposition...\n",
      "PureSVDItemRecommender: Computing SVD decomposition... Done!\n",
      "EvaluatorHoldout: Processed 10456 (100.0%) in 12.89 sec. Users per second: 811\n"
     ]
    },
    {
     "name": "stderr",
     "output_type": "stream",
     "text": [
      "[I 2023-12-01 12:35:41,762] Trial 235 finished with value: 0.03268358867392944 and parameters: {'topK': 52, 'num_factors': 657}. Best is trial 113 with value: 0.03372004833558052.\n"
     ]
    },
    {
     "name": "stdout",
     "output_type": "stream",
     "text": [
      "PureSVDItemRecommender: URM Detected 627 ( 4.8%) users with no interactions.\n",
      "PureSVDItemRecommender: URM Detected 247 ( 1.1%) items with no interactions.\n",
      "PureSVDItemRecommender: Computing SVD decomposition...\n",
      "PureSVDItemRecommender: Computing SVD decomposition... Done!\n",
      "EvaluatorHoldout: Processed 10456 (100.0%) in 14.48 sec. Users per second: 722\n"
     ]
    },
    {
     "name": "stderr",
     "output_type": "stream",
     "text": [
      "[I 2023-12-01 12:36:26,100] Trial 236 finished with value: 0.03319593595535673 and parameters: {'topK': 37, 'num_factors': 179}. Best is trial 113 with value: 0.03372004833558052.\n"
     ]
    },
    {
     "name": "stdout",
     "output_type": "stream",
     "text": [
      "PureSVDItemRecommender: URM Detected 627 ( 4.8%) users with no interactions.\n",
      "PureSVDItemRecommender: URM Detected 247 ( 1.1%) items with no interactions.\n",
      "PureSVDItemRecommender: Computing SVD decomposition...\n",
      "PureSVDItemRecommender: Computing SVD decomposition... Done!\n",
      "EvaluatorHoldout: Processed 10456 (100.0%) in 15.91 sec. Users per second: 657\n"
     ]
    },
    {
     "name": "stderr",
     "output_type": "stream",
     "text": [
      "[I 2023-12-01 12:37:11,121] Trial 237 finished with value: 0.033094228573857846 and parameters: {'topK': 67, 'num_factors': 124}. Best is trial 113 with value: 0.03372004833558052.\n"
     ]
    },
    {
     "name": "stdout",
     "output_type": "stream",
     "text": [
      "PureSVDItemRecommender: URM Detected 627 ( 4.8%) users with no interactions.\n",
      "PureSVDItemRecommender: URM Detected 247 ( 1.1%) items with no interactions.\n",
      "PureSVDItemRecommender: Computing SVD decomposition...\n",
      "PureSVDItemRecommender: Computing SVD decomposition... Done!\n",
      "EvaluatorHoldout: Processed 10456 (100.0%) in 14.39 sec. Users per second: 727\n"
     ]
    },
    {
     "name": "stderr",
     "output_type": "stream",
     "text": [
      "[I 2023-12-01 12:37:53,145] Trial 238 finished with value: 0.03325038559162535 and parameters: {'topK': 31, 'num_factors': 152}. Best is trial 113 with value: 0.03372004833558052.\n"
     ]
    },
    {
     "name": "stdout",
     "output_type": "stream",
     "text": [
      "PureSVDItemRecommender: URM Detected 627 ( 4.8%) users with no interactions.\n",
      "PureSVDItemRecommender: URM Detected 247 ( 1.1%) items with no interactions.\n",
      "PureSVDItemRecommender: Computing SVD decomposition...\n",
      "PureSVDItemRecommender: Computing SVD decomposition... Done!\n",
      "EvaluatorHoldout: Processed 10456 (100.0%) in 15.64 sec. Users per second: 669\n"
     ]
    },
    {
     "name": "stderr",
     "output_type": "stream",
     "text": [
      "[I 2023-12-01 12:38:35,903] Trial 239 finished with value: 0.032868976269416476 and parameters: {'topK': 55, 'num_factors': 96}. Best is trial 113 with value: 0.03372004833558052.\n"
     ]
    },
    {
     "name": "stdout",
     "output_type": "stream",
     "text": [
      "PureSVDItemRecommender: URM Detected 627 ( 4.8%) users with no interactions.\n",
      "PureSVDItemRecommender: URM Detected 247 ( 1.1%) items with no interactions.\n",
      "PureSVDItemRecommender: Computing SVD decomposition...\n",
      "PureSVDItemRecommender: Computing SVD decomposition... Done!\n",
      "EvaluatorHoldout: Processed 10456 (100.0%) in 14.30 sec. Users per second: 731\n"
     ]
    },
    {
     "name": "stderr",
     "output_type": "stream",
     "text": [
      "[I 2023-12-01 12:39:23,718] Trial 240 finished with value: 0.03313076489841049 and parameters: {'topK': 41, 'num_factors': 231}. Best is trial 113 with value: 0.03372004833558052.\n"
     ]
    },
    {
     "name": "stdout",
     "output_type": "stream",
     "text": [
      "PureSVDItemRecommender: URM Detected 627 ( 4.8%) users with no interactions.\n",
      "PureSVDItemRecommender: URM Detected 247 ( 1.1%) items with no interactions.\n",
      "PureSVDItemRecommender: Computing SVD decomposition...\n",
      "PureSVDItemRecommender: Computing SVD decomposition... Done!\n",
      "EvaluatorHoldout: Processed 10456 (100.0%) in 15.11 sec. Users per second: 692\n"
     ]
    },
    {
     "name": "stderr",
     "output_type": "stream",
     "text": [
      "[I 2023-12-01 12:40:07,147] Trial 241 finished with value: 0.0335458337887568 and parameters: {'topK': 50, 'num_factors': 153}. Best is trial 113 with value: 0.03372004833558052.\n"
     ]
    },
    {
     "name": "stdout",
     "output_type": "stream",
     "text": [
      "PureSVDItemRecommender: URM Detected 627 ( 4.8%) users with no interactions.\n",
      "PureSVDItemRecommender: URM Detected 247 ( 1.1%) items with no interactions.\n",
      "PureSVDItemRecommender: Computing SVD decomposition...\n",
      "PureSVDItemRecommender: Computing SVD decomposition... Done!\n",
      "EvaluatorHoldout: Processed 10456 (100.0%) in 14.86 sec. Users per second: 703\n"
     ]
    },
    {
     "name": "stderr",
     "output_type": "stream",
     "text": [
      "[I 2023-12-01 12:40:50,665] Trial 242 finished with value: 0.033413525764807626 and parameters: {'topK': 48, 'num_factors': 168}. Best is trial 113 with value: 0.03372004833558052.\n"
     ]
    },
    {
     "name": "stdout",
     "output_type": "stream",
     "text": [
      "PureSVDItemRecommender: URM Detected 627 ( 4.8%) users with no interactions.\n",
      "PureSVDItemRecommender: URM Detected 247 ( 1.1%) items with no interactions.\n",
      "PureSVDItemRecommender: Computing SVD decomposition...\n",
      "PureSVDItemRecommender: Computing SVD decomposition... Done!\n",
      "EvaluatorHoldout: Processed 10456 (100.0%) in 15.63 sec. Users per second: 669\n"
     ]
    },
    {
     "name": "stderr",
     "output_type": "stream",
     "text": [
      "[I 2023-12-01 12:41:36,669] Trial 243 finished with value: 0.03325667422669177 and parameters: {'topK': 65, 'num_factors': 143}. Best is trial 113 with value: 0.03372004833558052.\n"
     ]
    },
    {
     "name": "stdout",
     "output_type": "stream",
     "text": [
      "PureSVDItemRecommender: URM Detected 627 ( 4.8%) users with no interactions.\n",
      "PureSVDItemRecommender: URM Detected 247 ( 1.1%) items with no interactions.\n",
      "PureSVDItemRecommender: Computing SVD decomposition...\n",
      "PureSVDItemRecommender: Computing SVD decomposition... Done!\n",
      "EvaluatorHoldout: Processed 10456 (100.0%) in 15.73 sec. Users per second: 665\n"
     ]
    },
    {
     "name": "stderr",
     "output_type": "stream",
     "text": [
      "[I 2023-12-01 12:42:25,977] Trial 244 finished with value: 0.03339859167972247 and parameters: {'topK': 76, 'num_factors': 193}. Best is trial 113 with value: 0.03372004833558052.\n"
     ]
    },
    {
     "name": "stdout",
     "output_type": "stream",
     "text": [
      "PureSVDItemRecommender: URM Detected 627 ( 4.8%) users with no interactions.\n",
      "PureSVDItemRecommender: URM Detected 247 ( 1.1%) items with no interactions.\n",
      "PureSVDItemRecommender: Computing SVD decomposition...\n",
      "PureSVDItemRecommender: Computing SVD decomposition... Done!\n",
      "EvaluatorHoldout: Processed 10456 (100.0%) in 15.03 sec. Users per second: 696\n"
     ]
    },
    {
     "name": "stderr",
     "output_type": "stream",
     "text": [
      "[I 2023-12-01 12:43:07,090] Trial 245 finished with value: 0.03288799018714883 and parameters: {'topK': 46, 'num_factors': 108}. Best is trial 113 with value: 0.03372004833558052.\n"
     ]
    },
    {
     "name": "stdout",
     "output_type": "stream",
     "text": [
      "PureSVDItemRecommender: URM Detected 627 ( 4.8%) users with no interactions.\n",
      "PureSVDItemRecommender: URM Detected 247 ( 1.1%) items with no interactions.\n",
      "PureSVDItemRecommender: Computing SVD decomposition...\n",
      "PureSVDItemRecommender: Computing SVD decomposition... Done!\n",
      "EvaluatorHoldout: Processed 10456 (100.0%) in 15.52 sec. Users per second: 674\n"
     ]
    },
    {
     "name": "stderr",
     "output_type": "stream",
     "text": [
      "[I 2023-12-01 12:43:51,234] Trial 246 finished with value: 0.033016590307380654 and parameters: {'topK': 57, 'num_factors': 120}. Best is trial 113 with value: 0.03372004833558052.\n"
     ]
    },
    {
     "name": "stdout",
     "output_type": "stream",
     "text": [
      "PureSVDItemRecommender: URM Detected 627 ( 4.8%) users with no interactions.\n",
      "PureSVDItemRecommender: URM Detected 247 ( 1.1%) items with no interactions.\n",
      "PureSVDItemRecommender: Computing SVD decomposition...\n",
      "PureSVDItemRecommender: Computing SVD decomposition... Done!\n",
      "EvaluatorHoldout: Processed 10456 (100.0%) in 14.41 sec. Users per second: 726\n"
     ]
    },
    {
     "name": "stderr",
     "output_type": "stream",
     "text": [
      "[I 2023-12-01 12:44:35,539] Trial 247 finished with value: 0.0331566860676944 and parameters: {'topK': 38, 'num_factors': 159}. Best is trial 113 with value: 0.03372004833558052.\n"
     ]
    },
    {
     "name": "stdout",
     "output_type": "stream",
     "text": [
      "PureSVDItemRecommender: URM Detected 627 ( 4.8%) users with no interactions.\n",
      "PureSVDItemRecommender: URM Detected 247 ( 1.1%) items with no interactions.\n",
      "PureSVDItemRecommender: Computing SVD decomposition...\n",
      "PureSVDItemRecommender: Computing SVD decomposition... Done!\n",
      "EvaluatorHoldout: Processed 10456 (100.0%) in 22.50 sec. Users per second: 465\n"
     ]
    },
    {
     "name": "stderr",
     "output_type": "stream",
     "text": [
      "[I 2023-12-01 12:45:51,863] Trial 248 finished with value: 0.024959509084174446 and parameters: {'topK': 635, 'num_factors': 15}. Best is trial 113 with value: 0.03372004833558052.\n"
     ]
    },
    {
     "name": "stdout",
     "output_type": "stream",
     "text": [
      "PureSVDItemRecommender: URM Detected 627 ( 4.8%) users with no interactions.\n",
      "PureSVDItemRecommender: URM Detected 247 ( 1.1%) items with no interactions.\n",
      "PureSVDItemRecommender: Computing SVD decomposition...\n",
      "PureSVDItemRecommender: Computing SVD decomposition... Done!\n",
      "EvaluatorHoldout: Processed 10456 (100.0%) in 15.50 sec. Users per second: 674\n"
     ]
    },
    {
     "name": "stderr",
     "output_type": "stream",
     "text": [
      "[I 2023-12-01 12:46:36,048] Trial 249 finished with value: 0.03326147135084626 and parameters: {'topK': 50, 'num_factors': 136}. Best is trial 113 with value: 0.03372004833558052.\n"
     ]
    },
    {
     "name": "stdout",
     "output_type": "stream",
     "text": [
      "PureSVDItemRecommender: URM Detected 627 ( 4.8%) users with no interactions.\n",
      "PureSVDItemRecommender: URM Detected 247 ( 1.1%) items with no interactions.\n",
      "PureSVDItemRecommender: Computing SVD decomposition...\n",
      "PureSVDItemRecommender: Computing SVD decomposition... Done!\n",
      "EvaluatorHoldout: Processed 10456 (100.0%) in 15.87 sec. Users per second: 659\n"
     ]
    },
    {
     "name": "stderr",
     "output_type": "stream",
     "text": [
      "[I 2023-12-01 12:47:26,376] Trial 250 finished with value: 0.03318484260574955 and parameters: {'topK': 86, 'num_factors': 193}. Best is trial 113 with value: 0.03372004833558052.\n"
     ]
    },
    {
     "name": "stdout",
     "output_type": "stream",
     "text": [
      "PureSVDItemRecommender: URM Detected 627 ( 4.8%) users with no interactions.\n",
      "PureSVDItemRecommender: URM Detected 247 ( 1.1%) items with no interactions.\n",
      "PureSVDItemRecommender: Computing SVD decomposition...\n",
      "PureSVDItemRecommender: Computing SVD decomposition... Done!\n",
      "EvaluatorHoldout: Processed 10456 (100.0%) in 13.74 sec. Users per second: 761\n"
     ]
    },
    {
     "name": "stderr",
     "output_type": "stream",
     "text": [
      "[I 2023-12-01 12:48:11,822] Trial 251 finished with value: 0.03306124075490968 and parameters: {'topK': 33, 'num_factors': 231}. Best is trial 113 with value: 0.03372004833558052.\n"
     ]
    },
    {
     "name": "stdout",
     "output_type": "stream",
     "text": [
      "PureSVDItemRecommender: URM Detected 627 ( 4.8%) users with no interactions.\n",
      "PureSVDItemRecommender: URM Detected 247 ( 1.1%) items with no interactions.\n",
      "PureSVDItemRecommender: Computing SVD decomposition...\n",
      "PureSVDItemRecommender: Computing SVD decomposition... Done!\n",
      "EvaluatorHoldout: Processed 10456 (100.0%) in 15.39 sec. Users per second: 679\n"
     ]
    },
    {
     "name": "stderr",
     "output_type": "stream",
     "text": [
      "[I 2023-12-01 12:48:58,284] Trial 252 finished with value: 0.033323090106994274 and parameters: {'topK': 63, 'num_factors': 164}. Best is trial 113 with value: 0.03372004833558052.\n"
     ]
    },
    {
     "name": "stdout",
     "output_type": "stream",
     "text": [
      "PureSVDItemRecommender: URM Detected 627 ( 4.8%) users with no interactions.\n",
      "PureSVDItemRecommender: URM Detected 247 ( 1.1%) items with no interactions.\n",
      "PureSVDItemRecommender: Computing SVD decomposition...\n",
      "PureSVDItemRecommender: Computing SVD decomposition... Done!\n",
      "EvaluatorHoldout: Processed 10456 (100.0%) in 14.84 sec. Users per second: 705\n"
     ]
    },
    {
     "name": "stderr",
     "output_type": "stream",
     "text": [
      "[I 2023-12-01 12:49:41,739] Trial 253 finished with value: 0.033374480817575894 and parameters: {'topK': 45, 'num_factors': 144}. Best is trial 113 with value: 0.03372004833558052.\n"
     ]
    },
    {
     "name": "stdout",
     "output_type": "stream",
     "text": [
      "PureSVDItemRecommender: URM Detected 627 ( 4.8%) users with no interactions.\n",
      "PureSVDItemRecommender: URM Detected 247 ( 1.1%) items with no interactions.\n",
      "PureSVDItemRecommender: Computing SVD decomposition...\n",
      "PureSVDItemRecommender: Computing SVD decomposition... Done!\n",
      "EvaluatorHoldout: Processed 10456 (100.0%) in 14.16 sec. Users per second: 738\n"
     ]
    },
    {
     "name": "stderr",
     "output_type": "stream",
     "text": [
      "[I 2023-12-01 12:50:20,811] Trial 254 finished with value: 0.03330025442974981 and parameters: {'topK': 27, 'num_factors': 116}. Best is trial 113 with value: 0.03372004833558052.\n"
     ]
    },
    {
     "name": "stdout",
     "output_type": "stream",
     "text": [
      "PureSVDItemRecommender: URM Detected 627 ( 4.8%) users with no interactions.\n",
      "PureSVDItemRecommender: URM Detected 247 ( 1.1%) items with no interactions.\n",
      "PureSVDItemRecommender: Computing SVD decomposition...\n",
      "PureSVDItemRecommender: Computing SVD decomposition... Done!\n",
      "EvaluatorHoldout: Processed 10456 (100.0%) in 14.40 sec. Users per second: 726\n"
     ]
    },
    {
     "name": "stderr",
     "output_type": "stream",
     "text": [
      "[I 2023-12-01 12:51:05,587] Trial 255 finished with value: 0.03341570420568158 and parameters: {'topK': 40, 'num_factors': 184}. Best is trial 113 with value: 0.03372004833558052.\n"
     ]
    },
    {
     "name": "stdout",
     "output_type": "stream",
     "text": [
      "PureSVDItemRecommender: URM Detected 627 ( 4.8%) users with no interactions.\n",
      "PureSVDItemRecommender: URM Detected 247 ( 1.1%) items with no interactions.\n",
      "PureSVDItemRecommender: Computing SVD decomposition...\n",
      "PureSVDItemRecommender: Computing SVD decomposition... Done!\n",
      "EvaluatorHoldout: Processed 10456 (100.0%) in 15.51 sec. Users per second: 674\n"
     ]
    },
    {
     "name": "stderr",
     "output_type": "stream",
     "text": [
      "[I 2023-12-01 12:51:58,397] Trial 256 finished with value: 0.03320046741598982 and parameters: {'topK': 73, 'num_factors': 274}. Best is trial 113 with value: 0.03372004833558052.\n"
     ]
    },
    {
     "name": "stdout",
     "output_type": "stream",
     "text": [
      "PureSVDItemRecommender: URM Detected 627 ( 4.8%) users with no interactions.\n",
      "PureSVDItemRecommender: URM Detected 247 ( 1.1%) items with no interactions.\n",
      "PureSVDItemRecommender: Computing SVD decomposition...\n",
      "PureSVDItemRecommender: Computing SVD decomposition... Done!\n",
      "EvaluatorHoldout: Processed 10456 (100.0%) in 15.41 sec. Users per second: 678\n"
     ]
    },
    {
     "name": "stderr",
     "output_type": "stream",
     "text": [
      "[I 2023-12-01 12:52:40,163] Trial 257 finished with value: 0.03231948163733767 and parameters: {'topK': 57, 'num_factors': 84}. Best is trial 113 with value: 0.03372004833558052.\n"
     ]
    },
    {
     "name": "stdout",
     "output_type": "stream",
     "text": [
      "PureSVDItemRecommender: URM Detected 627 ( 4.8%) users with no interactions.\n",
      "PureSVDItemRecommender: URM Detected 247 ( 1.1%) items with no interactions.\n",
      "PureSVDItemRecommender: Computing SVD decomposition...\n",
      "PureSVDItemRecommender: Computing SVD decomposition... Done!\n",
      "EvaluatorHoldout: Processed 10456 (100.0%) in 14.93 sec. Users per second: 700\n"
     ]
    },
    {
     "name": "stderr",
     "output_type": "stream",
     "text": [
      "[I 2023-12-01 12:53:26,855] Trial 258 finished with value: 0.033391354246366106 and parameters: {'topK': 49, 'num_factors': 210}. Best is trial 113 with value: 0.03372004833558052.\n"
     ]
    },
    {
     "name": "stdout",
     "output_type": "stream",
     "text": [
      "PureSVDItemRecommender: URM Detected 627 ( 4.8%) users with no interactions.\n",
      "PureSVDItemRecommender: URM Detected 247 ( 1.1%) items with no interactions.\n",
      "PureSVDItemRecommender: Computing SVD decomposition...\n",
      "PureSVDItemRecommender: Computing SVD decomposition... Done!\n",
      "EvaluatorHoldout: Processed 10456 (100.0%) in 14.53 sec. Users per second: 720\n"
     ]
    },
    {
     "name": "stderr",
     "output_type": "stream",
     "text": [
      "[I 2023-12-01 12:54:07,173] Trial 259 finished with value: 0.03354065335009318 and parameters: {'topK': 34, 'num_factors': 134}. Best is trial 113 with value: 0.03372004833558052.\n"
     ]
    },
    {
     "name": "stdout",
     "output_type": "stream",
     "text": [
      "PureSVDItemRecommender: URM Detected 627 ( 4.8%) users with no interactions.\n",
      "PureSVDItemRecommender: URM Detected 247 ( 1.1%) items with no interactions.\n",
      "PureSVDItemRecommender: Computing SVD decomposition...\n",
      "PureSVDItemRecommender: Computing SVD decomposition... Done!\n",
      "EvaluatorHoldout: Processed 10456 (100.0%) in 14.38 sec. Users per second: 727\n"
     ]
    },
    {
     "name": "stderr",
     "output_type": "stream",
     "text": [
      "[I 2023-12-01 12:54:42,693] Trial 260 finished with value: 0.031206966304757278 and parameters: {'topK': 31, 'num_factors': 63}. Best is trial 113 with value: 0.03372004833558052.\n"
     ]
    },
    {
     "name": "stdout",
     "output_type": "stream",
     "text": [
      "PureSVDItemRecommender: URM Detected 627 ( 4.8%) users with no interactions.\n",
      "PureSVDItemRecommender: URM Detected 247 ( 1.1%) items with no interactions.\n",
      "PureSVDItemRecommender: Computing SVD decomposition...\n",
      "PureSVDItemRecommender: Computing SVD decomposition... Done!\n",
      "EvaluatorHoldout: Processed 10456 (100.0%) in 13.56 sec. Users per second: 771\n"
     ]
    },
    {
     "name": "stderr",
     "output_type": "stream",
     "text": [
      "[I 2023-12-01 12:55:21,197] Trial 261 finished with value: 0.03330793590070597 and parameters: {'topK': 25, 'num_factors': 130}. Best is trial 113 with value: 0.03372004833558052.\n"
     ]
    },
    {
     "name": "stdout",
     "output_type": "stream",
     "text": [
      "PureSVDItemRecommender: URM Detected 627 ( 4.8%) users with no interactions.\n",
      "PureSVDItemRecommender: URM Detected 247 ( 1.1%) items with no interactions.\n",
      "PureSVDItemRecommender: Computing SVD decomposition...\n",
      "PureSVDItemRecommender: Computing SVD decomposition... Done!\n",
      "EvaluatorHoldout: Processed 10456 (100.0%) in 14.40 sec. Users per second: 726\n"
     ]
    },
    {
     "name": "stderr",
     "output_type": "stream",
     "text": [
      "[I 2023-12-01 12:56:01,225] Trial 262 finished with value: 0.033319454311946904 and parameters: {'topK': 34, 'num_factors': 109}. Best is trial 113 with value: 0.03372004833558052.\n"
     ]
    },
    {
     "name": "stdout",
     "output_type": "stream",
     "text": [
      "PureSVDItemRecommender: URM Detected 627 ( 4.8%) users with no interactions.\n",
      "PureSVDItemRecommender: URM Detected 247 ( 1.1%) items with no interactions.\n",
      "PureSVDItemRecommender: Computing SVD decomposition...\n",
      "PureSVDItemRecommender: Computing SVD decomposition... Done!\n",
      "EvaluatorHoldout: Processed 10456 (100.0%) in 13.25 sec. Users per second: 789\n"
     ]
    },
    {
     "name": "stderr",
     "output_type": "stream",
     "text": [
      "[I 2023-12-01 12:56:55,296] Trial 263 finished with value: 0.032959427108002426 and parameters: {'topK': 37, 'num_factors': 365}. Best is trial 113 with value: 0.03372004833558052.\n"
     ]
    },
    {
     "name": "stdout",
     "output_type": "stream",
     "text": [
      "PureSVDItemRecommender: URM Detected 627 ( 4.8%) users with no interactions.\n",
      "PureSVDItemRecommender: URM Detected 247 ( 1.1%) items with no interactions.\n",
      "PureSVDItemRecommender: Computing SVD decomposition...\n",
      "PureSVDItemRecommender: Computing SVD decomposition... Done!\n",
      "EvaluatorHoldout: Processed 10456 (100.0%) in 14.74 sec. Users per second: 710\n"
     ]
    },
    {
     "name": "stderr",
     "output_type": "stream",
     "text": [
      "[I 2023-12-01 12:57:37,039] Trial 264 finished with value: 0.03318838352096803 and parameters: {'topK': 42, 'num_factors': 140}. Best is trial 113 with value: 0.03372004833558052.\n"
     ]
    },
    {
     "name": "stdout",
     "output_type": "stream",
     "text": [
      "PureSVDItemRecommender: URM Detected 627 ( 4.8%) users with no interactions.\n",
      "PureSVDItemRecommender: URM Detected 247 ( 1.1%) items with no interactions.\n",
      "PureSVDItemRecommender: Computing SVD decomposition...\n",
      "PureSVDItemRecommender: Computing SVD decomposition... Done!\n",
      "EvaluatorHoldout: Processed 10456 (100.0%) in 17.87 sec. Users per second: 585\n"
     ]
    },
    {
     "name": "stderr",
     "output_type": "stream",
     "text": [
      "[I 2023-12-01 12:58:37,802] Trial 265 finished with value: 0.032981219107127965 and parameters: {'topK': 239, 'num_factors': 174}. Best is trial 113 with value: 0.03372004833558052.\n"
     ]
    },
    {
     "name": "stdout",
     "output_type": "stream",
     "text": [
      "PureSVDItemRecommender: URM Detected 627 ( 4.8%) users with no interactions.\n",
      "PureSVDItemRecommender: URM Detected 247 ( 1.1%) items with no interactions.\n",
      "PureSVDItemRecommender: Computing SVD decomposition...\n",
      "PureSVDItemRecommender: Computing SVD decomposition... Done!\n",
      "EvaluatorHoldout: Processed 10456 (100.0%) in 14.27 sec. Users per second: 733\n"
     ]
    },
    {
     "name": "stderr",
     "output_type": "stream",
     "text": [
      "[I 2023-12-01 12:59:16,990] Trial 266 finished with value: 0.03294930153265103 and parameters: {'topK': 31, 'num_factors': 103}. Best is trial 113 with value: 0.03372004833558052.\n"
     ]
    },
    {
     "name": "stdout",
     "output_type": "stream",
     "text": [
      "PureSVDItemRecommender: URM Detected 627 ( 4.8%) users with no interactions.\n",
      "PureSVDItemRecommender: URM Detected 247 ( 1.1%) items with no interactions.\n",
      "PureSVDItemRecommender: Computing SVD decomposition...\n",
      "PureSVDItemRecommender: Computing SVD decomposition... Done!\n",
      "EvaluatorHoldout: Processed 10456 (100.0%) in 14.88 sec. Users per second: 703\n"
     ]
    },
    {
     "name": "stderr",
     "output_type": "stream",
     "text": [
      "[I 2023-12-01 12:59:52,783] Trial 267 finished with value: 0.030423915485602762 and parameters: {'topK': 41, 'num_factors': 36}. Best is trial 113 with value: 0.03372004833558052.\n"
     ]
    },
    {
     "name": "stdout",
     "output_type": "stream",
     "text": [
      "PureSVDItemRecommender: URM Detected 627 ( 4.8%) users with no interactions.\n",
      "PureSVDItemRecommender: URM Detected 247 ( 1.1%) items with no interactions.\n",
      "PureSVDItemRecommender: Computing SVD decomposition...\n",
      "PureSVDItemRecommender: Computing SVD decomposition... Done!\n",
      "EvaluatorHoldout: Processed 10456 (100.0%) in 16.14 sec. Users per second: 648\n"
     ]
    },
    {
     "name": "stderr",
     "output_type": "stream",
     "text": [
      "[I 2023-12-01 13:00:46,444] Trial 268 finished with value: 0.032895967683171504 and parameters: {'topK': 99, 'num_factors': 241}. Best is trial 113 with value: 0.03372004833558052.\n"
     ]
    },
    {
     "name": "stdout",
     "output_type": "stream",
     "text": [
      "PureSVDItemRecommender: URM Detected 627 ( 4.8%) users with no interactions.\n",
      "PureSVDItemRecommender: URM Detected 247 ( 1.1%) items with no interactions.\n",
      "PureSVDItemRecommender: Computing SVD decomposition...\n",
      "PureSVDItemRecommender: Computing SVD decomposition... Done!\n",
      "EvaluatorHoldout: Processed 10456 (100.0%) in 16.28 sec. Users per second: 642\n"
     ]
    },
    {
     "name": "stderr",
     "output_type": "stream",
     "text": [
      "[I 2023-12-01 13:01:35,431] Trial 269 finished with value: 0.03359183532505098 and parameters: {'topK': 81, 'num_factors': 150}. Best is trial 113 with value: 0.03372004833558052.\n"
     ]
    },
    {
     "name": "stdout",
     "output_type": "stream",
     "text": [
      "PureSVDItemRecommender: URM Detected 627 ( 4.8%) users with no interactions.\n",
      "PureSVDItemRecommender: URM Detected 247 ( 1.1%) items with no interactions.\n",
      "PureSVDItemRecommender: Computing SVD decomposition...\n",
      "PureSVDItemRecommender: Computing SVD decomposition... Done!\n",
      "EvaluatorHoldout: Processed 10456 (100.0%) in 15.54 sec. Users per second: 673\n"
     ]
    },
    {
     "name": "stderr",
     "output_type": "stream",
     "text": [
      "[I 2023-12-01 13:02:32,105] Trial 270 finished with value: 0.032801702675459635 and parameters: {'topK': 83, 'num_factors': 310}. Best is trial 113 with value: 0.03372004833558052.\n"
     ]
    },
    {
     "name": "stdout",
     "output_type": "stream",
     "text": [
      "PureSVDItemRecommender: URM Detected 627 ( 4.8%) users with no interactions.\n",
      "PureSVDItemRecommender: URM Detected 247 ( 1.1%) items with no interactions.\n",
      "PureSVDItemRecommender: Computing SVD decomposition...\n",
      "PureSVDItemRecommender: Computing SVD decomposition... Done!\n",
      "EvaluatorHoldout: Processed 10456 (100.0%) in 15.90 sec. Users per second: 658\n"
     ]
    },
    {
     "name": "stderr",
     "output_type": "stream",
     "text": [
      "[I 2023-12-01 13:03:21,480] Trial 271 finished with value: 0.03317580625083525 and parameters: {'topK': 72, 'num_factors': 195}. Best is trial 113 with value: 0.03372004833558052.\n"
     ]
    },
    {
     "name": "stdout",
     "output_type": "stream",
     "text": [
      "PureSVDItemRecommender: URM Detected 627 ( 4.8%) users with no interactions.\n",
      "PureSVDItemRecommender: URM Detected 247 ( 1.1%) items with no interactions.\n",
      "PureSVDItemRecommender: Computing SVD decomposition...\n",
      "PureSVDItemRecommender: Computing SVD decomposition... Done!\n",
      "EvaluatorHoldout: Processed 10456 (100.0%) in 16.86 sec. Users per second: 620\n"
     ]
    },
    {
     "name": "stderr",
     "output_type": "stream",
     "text": [
      "[I 2023-12-01 13:04:11,193] Trial 272 finished with value: 0.03328059532918017 and parameters: {'topK': 93, 'num_factors': 152}. Best is trial 113 with value: 0.03372004833558052.\n"
     ]
    },
    {
     "name": "stdout",
     "output_type": "stream",
     "text": [
      "PureSVDItemRecommender: URM Detected 627 ( 4.8%) users with no interactions.\n",
      "PureSVDItemRecommender: URM Detected 247 ( 1.1%) items with no interactions.\n",
      "PureSVDItemRecommender: Computing SVD decomposition...\n",
      "PureSVDItemRecommender: Computing SVD decomposition... Done!\n",
      "EvaluatorHoldout: Processed 10456 (100.0%) in 14.37 sec. Users per second: 727\n"
     ]
    },
    {
     "name": "stderr",
     "output_type": "stream",
     "text": [
      "[I 2023-12-01 13:05:09,399] Trial 273 finished with value: 0.03250379898835358 and parameters: {'topK': 64, 'num_factors': 414}. Best is trial 113 with value: 0.03372004833558052.\n"
     ]
    },
    {
     "name": "stdout",
     "output_type": "stream",
     "text": [
      "PureSVDItemRecommender: URM Detected 627 ( 4.8%) users with no interactions.\n",
      "PureSVDItemRecommender: URM Detected 247 ( 1.1%) items with no interactions.\n",
      "PureSVDItemRecommender: Computing SVD decomposition...\n",
      "PureSVDItemRecommender: Computing SVD decomposition... Done!\n",
      "EvaluatorHoldout: Processed 10456 (100.0%) in 14.99 sec. Users per second: 697\n"
     ]
    },
    {
     "name": "stderr",
     "output_type": "stream",
     "text": [
      "[I 2023-12-01 13:05:56,012] Trial 274 finished with value: 0.03328193882755895 and parameters: {'topK': 53, 'num_factors': 167}. Best is trial 113 with value: 0.03372004833558052.\n"
     ]
    },
    {
     "name": "stdout",
     "output_type": "stream",
     "text": [
      "PureSVDItemRecommender: URM Detected 627 ( 4.8%) users with no interactions.\n",
      "PureSVDItemRecommender: URM Detected 247 ( 1.1%) items with no interactions.\n",
      "PureSVDItemRecommender: Computing SVD decomposition...\n",
      "PureSVDItemRecommender: Computing SVD decomposition... Done!\n",
      "EvaluatorHoldout: Processed 10456 (100.0%) in 15.94 sec. Users per second: 656\n"
     ]
    },
    {
     "name": "stderr",
     "output_type": "stream",
     "text": [
      "[I 2023-12-01 13:06:46,007] Trial 275 finished with value: 0.03332829711201016 and parameters: {'topK': 83, 'num_factors': 206}. Best is trial 113 with value: 0.03372004833558052.\n"
     ]
    },
    {
     "name": "stdout",
     "output_type": "stream",
     "text": [
      "PureSVDItemRecommender: URM Detected 627 ( 4.8%) users with no interactions.\n",
      "PureSVDItemRecommender: URM Detected 247 ( 1.1%) items with no interactions.\n",
      "PureSVDItemRecommender: Computing SVD decomposition...\n",
      "PureSVDItemRecommender: Computing SVD decomposition... Done!\n",
      "EvaluatorHoldout: Processed 10456 (100.0%) in 16.67 sec. Users per second: 627\n"
     ]
    },
    {
     "name": "stderr",
     "output_type": "stream",
     "text": [
      "[I 2023-12-01 13:07:36,082] Trial 276 finished with value: 0.033086645777923814 and parameters: {'topK': 113, 'num_factors': 137}. Best is trial 113 with value: 0.03372004833558052.\n"
     ]
    },
    {
     "name": "stdout",
     "output_type": "stream",
     "text": [
      "PureSVDItemRecommender: URM Detected 627 ( 4.8%) users with no interactions.\n",
      "PureSVDItemRecommender: URM Detected 247 ( 1.1%) items with no interactions.\n",
      "PureSVDItemRecommender: Computing SVD decomposition...\n",
      "PureSVDItemRecommender: Computing SVD decomposition... Done!\n",
      "EvaluatorHoldout: Processed 10456 (100.0%) in 16.09 sec. Users per second: 650\n"
     ]
    },
    {
     "name": "stderr",
     "output_type": "stream",
     "text": [
      "[I 2023-12-01 13:08:19,494] Trial 277 finished with value: 0.032491274850925046 and parameters: {'topK': 72, 'num_factors': 94}. Best is trial 113 with value: 0.03372004833558052.\n"
     ]
    },
    {
     "name": "stdout",
     "output_type": "stream",
     "text": [
      "PureSVDItemRecommender: URM Detected 627 ( 4.8%) users with no interactions.\n",
      "PureSVDItemRecommender: URM Detected 247 ( 1.1%) items with no interactions.\n",
      "PureSVDItemRecommender: Computing SVD decomposition...\n",
      "PureSVDItemRecommender: Computing SVD decomposition... Done!\n",
      "EvaluatorHoldout: Processed 10456 (100.0%) in 14.77 sec. Users per second: 708\n"
     ]
    },
    {
     "name": "stderr",
     "output_type": "stream",
     "text": [
      "[I 2023-12-01 13:09:08,713] Trial 278 finished with value: 0.03325949785040295 and parameters: {'topK': 53, 'num_factors': 242}. Best is trial 113 with value: 0.03372004833558052.\n"
     ]
    },
    {
     "name": "stdout",
     "output_type": "stream",
     "text": [
      "PureSVDItemRecommender: URM Detected 627 ( 4.8%) users with no interactions.\n",
      "PureSVDItemRecommender: URM Detected 247 ( 1.1%) items with no interactions.\n",
      "PureSVDItemRecommender: Computing SVD decomposition...\n",
      "PureSVDItemRecommender: Computing SVD decomposition... Done!\n",
      "EvaluatorHoldout: Processed 10456 (100.0%) in 12.52 sec. Users per second: 835\n"
     ]
    },
    {
     "name": "stderr",
     "output_type": "stream",
     "text": [
      "[I 2023-12-01 13:09:47,421] Trial 279 finished with value: 0.03335813871582829 and parameters: {'topK': 18, 'num_factors': 178}. Best is trial 113 with value: 0.03372004833558052.\n"
     ]
    },
    {
     "name": "stdout",
     "output_type": "stream",
     "text": [
      "PureSVDItemRecommender: URM Detected 627 ( 4.8%) users with no interactions.\n",
      "PureSVDItemRecommender: URM Detected 247 ( 1.1%) items with no interactions.\n",
      "PureSVDItemRecommender: Computing SVD decomposition...\n",
      "PureSVDItemRecommender: Computing SVD decomposition... Done!\n",
      "EvaluatorHoldout: Processed 10456 (100.0%) in 15.79 sec. Users per second: 662\n"
     ]
    },
    {
     "name": "stderr",
     "output_type": "stream",
     "text": [
      "[I 2023-12-01 13:10:27,552] Trial 280 finished with value: 0.03105911316962408 and parameters: {'topK': 63, 'num_factors': 50}. Best is trial 113 with value: 0.03372004833558052.\n"
     ]
    },
    {
     "name": "stdout",
     "output_type": "stream",
     "text": [
      "PureSVDItemRecommender: URM Detected 627 ( 4.8%) users with no interactions.\n",
      "PureSVDItemRecommender: URM Detected 247 ( 1.1%) items with no interactions.\n",
      "PureSVDItemRecommender: Computing SVD decomposition...\n",
      "PureSVDItemRecommender: Computing SVD decomposition... Done!\n",
      "EvaluatorHoldout: Processed 10456 (100.0%) in 12.62 sec. Users per second: 829\n"
     ]
    },
    {
     "name": "stderr",
     "output_type": "stream",
     "text": [
      "[I 2023-12-01 13:11:02,925] Trial 281 finished with value: 0.03302249942313092 and parameters: {'topK': 15, 'num_factors': 123}. Best is trial 113 with value: 0.03372004833558052.\n"
     ]
    },
    {
     "name": "stdout",
     "output_type": "stream",
     "text": [
      "PureSVDItemRecommender: URM Detected 627 ( 4.8%) users with no interactions.\n",
      "PureSVDItemRecommender: URM Detected 247 ( 1.1%) items with no interactions.\n",
      "PureSVDItemRecommender: Computing SVD decomposition...\n",
      "PureSVDItemRecommender: Computing SVD decomposition... Done!\n",
      "EvaluatorHoldout: Processed 10456 (100.0%) in 14.82 sec. Users per second: 706\n"
     ]
    },
    {
     "name": "stderr",
     "output_type": "stream",
     "text": [
      "[I 2023-12-01 13:11:46,739] Trial 282 finished with value: 0.033613615938597116 and parameters: {'topK': 46, 'num_factors': 155}. Best is trial 113 with value: 0.03372004833558052.\n"
     ]
    },
    {
     "name": "stdout",
     "output_type": "stream",
     "text": [
      "PureSVDItemRecommender: URM Detected 627 ( 4.8%) users with no interactions.\n",
      "PureSVDItemRecommender: URM Detected 247 ( 1.1%) items with no interactions.\n",
      "PureSVDItemRecommender: Computing SVD decomposition...\n",
      "PureSVDItemRecommender: Computing SVD decomposition... Done!\n",
      "EvaluatorHoldout: Processed 10456 (100.0%) in 15.02 sec. Users per second: 696\n"
     ]
    },
    {
     "name": "stderr",
     "output_type": "stream",
     "text": [
      "[I 2023-12-01 13:12:22,048] Trial 283 finished with value: 0.020780659847463606 and parameters: {'topK': 46, 'num_factors': 6}. Best is trial 113 with value: 0.03372004833558052.\n"
     ]
    },
    {
     "name": "stdout",
     "output_type": "stream",
     "text": [
      "PureSVDItemRecommender: URM Detected 627 ( 4.8%) users with no interactions.\n",
      "PureSVDItemRecommender: URM Detected 247 ( 1.1%) items with no interactions.\n",
      "PureSVDItemRecommender: Computing SVD decomposition...\n",
      "PureSVDItemRecommender: Computing SVD decomposition... Done!\n",
      "EvaluatorHoldout: Processed 10456 (100.0%) in 14.08 sec. Users per second: 743\n"
     ]
    },
    {
     "name": "stderr",
     "output_type": "stream",
     "text": [
      "[I 2023-12-01 13:13:03,242] Trial 284 finished with value: 0.033311939829489885 and parameters: {'topK': 27, 'num_factors': 150}. Best is trial 113 with value: 0.03372004833558052.\n"
     ]
    },
    {
     "name": "stdout",
     "output_type": "stream",
     "text": [
      "PureSVDItemRecommender: URM Detected 627 ( 4.8%) users with no interactions.\n",
      "PureSVDItemRecommender: URM Detected 247 ( 1.1%) items with no interactions.\n",
      "PureSVDItemRecommender: Computing SVD decomposition...\n",
      "PureSVDItemRecommender: Computing SVD decomposition... Done!\n",
      "EvaluatorHoldout: Processed 10456 (100.0%) in 14.55 sec. Users per second: 718\n"
     ]
    },
    {
     "name": "stderr",
     "output_type": "stream",
     "text": [
      "[I 2023-12-01 13:13:44,788] Trial 285 finished with value: 0.03362485350554433 and parameters: {'topK': 36, 'num_factors': 135}. Best is trial 113 with value: 0.03372004833558052.\n"
     ]
    },
    {
     "name": "stdout",
     "output_type": "stream",
     "text": [
      "PureSVDItemRecommender: URM Detected 627 ( 4.8%) users with no interactions.\n",
      "PureSVDItemRecommender: URM Detected 247 ( 1.1%) items with no interactions.\n",
      "PureSVDItemRecommender: Computing SVD decomposition...\n",
      "PureSVDItemRecommender: Computing SVD decomposition... Done!\n",
      "EvaluatorHoldout: Processed 10456 (100.0%) in 14.51 sec. Users per second: 721\n"
     ]
    },
    {
     "name": "stderr",
     "output_type": "stream",
     "text": [
      "[I 2023-12-01 13:14:24,633] Trial 286 finished with value: 0.033397995834396295 and parameters: {'topK': 35, 'num_factors': 118}. Best is trial 113 with value: 0.03372004833558052.\n"
     ]
    },
    {
     "name": "stdout",
     "output_type": "stream",
     "text": [
      "PureSVDItemRecommender: URM Detected 627 ( 4.8%) users with no interactions.\n",
      "PureSVDItemRecommender: URM Detected 247 ( 1.1%) items with no interactions.\n",
      "PureSVDItemRecommender: Computing SVD decomposition...\n",
      "PureSVDItemRecommender: Computing SVD decomposition... Done!\n",
      "EvaluatorHoldout: Processed 10456 (100.0%) in 13.99 sec. Users per second: 747\n"
     ]
    },
    {
     "name": "stderr",
     "output_type": "stream",
     "text": [
      "[I 2023-12-01 13:14:59,992] Trial 287 finished with value: 0.03154324318990573 and parameters: {'topK': 23, 'num_factors': 69}. Best is trial 113 with value: 0.03372004833558052.\n"
     ]
    },
    {
     "name": "stdout",
     "output_type": "stream",
     "text": [
      "PureSVDItemRecommender: URM Detected 627 ( 4.8%) users with no interactions.\n",
      "PureSVDItemRecommender: URM Detected 247 ( 1.1%) items with no interactions.\n",
      "PureSVDItemRecommender: Computing SVD decomposition...\n",
      "PureSVDItemRecommender: Computing SVD decomposition... Done!\n",
      "EvaluatorHoldout: Processed 10456 (100.0%) in 13.09 sec. Users per second: 799\n"
     ]
    },
    {
     "name": "stderr",
     "output_type": "stream",
     "text": [
      "[I 2023-12-01 13:16:07,948] Trial 288 finished with value: 0.03280426063564952 and parameters: {'topK': 35, 'num_factors': 498}. Best is trial 113 with value: 0.03372004833558052.\n"
     ]
    },
    {
     "name": "stdout",
     "output_type": "stream",
     "text": [
      "PureSVDItemRecommender: URM Detected 627 ( 4.8%) users with no interactions.\n",
      "PureSVDItemRecommender: URM Detected 247 ( 1.1%) items with no interactions.\n",
      "PureSVDItemRecommender: Computing SVD decomposition...\n",
      "PureSVDItemRecommender: Computing SVD decomposition... Done!\n",
      "EvaluatorHoldout: Processed 10456 (100.0%) in 14.86 sec. Users per second: 704\n"
     ]
    },
    {
     "name": "stderr",
     "output_type": "stream",
     "text": [
      "[I 2023-12-01 13:16:51,511] Trial 289 finished with value: 0.03310866928383213 and parameters: {'topK': 46, 'num_factors': 159}. Best is trial 113 with value: 0.03372004833558052.\n"
     ]
    },
    {
     "name": "stdout",
     "output_type": "stream",
     "text": [
      "PureSVDItemRecommender: URM Detected 627 ( 4.8%) users with no interactions.\n",
      "PureSVDItemRecommender: URM Detected 247 ( 1.1%) items with no interactions.\n",
      "PureSVDItemRecommender: Computing SVD decomposition...\n",
      "PureSVDItemRecommender: Computing SVD decomposition... Done!\n",
      "EvaluatorHoldout: Processed 10456 (100.0%) in 15.02 sec. Users per second: 696\n"
     ]
    },
    {
     "name": "stderr",
     "output_type": "stream",
     "text": [
      "[I 2023-12-01 13:17:29,841] Trial 290 finished with value: 0.032693319549192 and parameters: {'topK': 41, 'num_factors': 87}. Best is trial 113 with value: 0.03372004833558052.\n"
     ]
    },
    {
     "name": "stdout",
     "output_type": "stream",
     "text": [
      "PureSVDItemRecommender: URM Detected 627 ( 4.8%) users with no interactions.\n",
      "PureSVDItemRecommender: URM Detected 247 ( 1.1%) items with no interactions.\n",
      "PureSVDItemRecommender: Computing SVD decomposition...\n",
      "PureSVDItemRecommender: Computing SVD decomposition... Done!\n",
      "EvaluatorHoldout: Processed 10456 (100.0%) in 14.87 sec. Users per second: 703\n"
     ]
    },
    {
     "name": "stderr",
     "output_type": "stream",
     "text": [
      "[I 2023-12-01 13:18:17,754] Trial 291 finished with value: 0.0332744850681924 and parameters: {'topK': 52, 'num_factors': 216}. Best is trial 113 with value: 0.03372004833558052.\n"
     ]
    },
    {
     "name": "stdout",
     "output_type": "stream",
     "text": [
      "PureSVDItemRecommender: URM Detected 627 ( 4.8%) users with no interactions.\n",
      "PureSVDItemRecommender: URM Detected 247 ( 1.1%) items with no interactions.\n",
      "PureSVDItemRecommender: Computing SVD decomposition...\n",
      "PureSVDItemRecommender: Computing SVD decomposition... Done!\n",
      "EvaluatorHoldout: Processed 10456 (100.0%) in 14.35 sec. Users per second: 729\n"
     ]
    },
    {
     "name": "stderr",
     "output_type": "stream",
     "text": [
      "[I 2023-12-01 13:18:59,719] Trial 292 finished with value: 0.03338834086299694 and parameters: {'topK': 33, 'num_factors': 135}. Best is trial 113 with value: 0.03372004833558052.\n"
     ]
    },
    {
     "name": "stdout",
     "output_type": "stream",
     "text": [
      "PureSVDItemRecommender: URM Detected 627 ( 4.8%) users with no interactions.\n",
      "PureSVDItemRecommender: URM Detected 247 ( 1.1%) items with no interactions.\n",
      "PureSVDItemRecommender: Computing SVD decomposition...\n",
      "PureSVDItemRecommender: Computing SVD decomposition... Done!\n",
      "EvaluatorHoldout: Processed 10456 (100.0%) in 14.52 sec. Users per second: 720\n"
     ]
    },
    {
     "name": "stderr",
     "output_type": "stream",
     "text": [
      "[I 2023-12-01 13:19:42,749] Trial 293 finished with value: 0.0337220939446938 and parameters: {'topK': 43, 'num_factors': 171}. Best is trial 293 with value: 0.0337220939446938.\n"
     ]
    },
    {
     "name": "stdout",
     "output_type": "stream",
     "text": [
      "PureSVDItemRecommender: URM Detected 627 ( 4.8%) users with no interactions.\n",
      "PureSVDItemRecommender: URM Detected 247 ( 1.1%) items with no interactions.\n",
      "PureSVDItemRecommender: Computing SVD decomposition...\n",
      "PureSVDItemRecommender: Computing SVD decomposition... Done!\n",
      "EvaluatorHoldout: Processed 10456 (100.0%) in 12.86 sec. Users per second: 813\n"
     ]
    },
    {
     "name": "stderr",
     "output_type": "stream",
     "text": [
      "[I 2023-12-01 13:20:30,109] Trial 294 finished with value: 0.03308530607473829 and parameters: {'topK': 28, 'num_factors': 275}. Best is trial 293 with value: 0.0337220939446938.\n"
     ]
    },
    {
     "name": "stdout",
     "output_type": "stream",
     "text": [
      "PureSVDItemRecommender: URM Detected 627 ( 4.8%) users with no interactions.\n",
      "PureSVDItemRecommender: URM Detected 247 ( 1.1%) items with no interactions.\n",
      "PureSVDItemRecommender: Computing SVD decomposition...\n",
      "PureSVDItemRecommender: Computing SVD decomposition... Done!\n",
      "EvaluatorHoldout: Processed 10456 (100.0%) in 14.74 sec. Users per second: 709\n"
     ]
    },
    {
     "name": "stderr",
     "output_type": "stream",
     "text": [
      "[I 2023-12-01 13:21:14,759] Trial 295 finished with value: 0.03327476591248621 and parameters: {'topK': 42, 'num_factors': 186}. Best is trial 293 with value: 0.0337220939446938.\n"
     ]
    },
    {
     "name": "stdout",
     "output_type": "stream",
     "text": [
      "PureSVDItemRecommender: URM Detected 627 ( 4.8%) users with no interactions.\n",
      "PureSVDItemRecommender: URM Detected 247 ( 1.1%) items with no interactions.\n",
      "PureSVDItemRecommender: Computing SVD decomposition...\n",
      "PureSVDItemRecommender: Computing SVD decomposition... Done!\n",
      "EvaluatorHoldout: Processed 10456 (100.0%) in 14.65 sec. Users per second: 714\n"
     ]
    },
    {
     "name": "stderr",
     "output_type": "stream",
     "text": [
      "[I 2023-12-01 13:21:49,380] Trial 296 finished with value: 0.028525434625520842 and parameters: {'topK': 37, 'num_factors': 24}. Best is trial 293 with value: 0.0337220939446938.\n"
     ]
    },
    {
     "name": "stdout",
     "output_type": "stream",
     "text": [
      "PureSVDItemRecommender: URM Detected 627 ( 4.8%) users with no interactions.\n",
      "PureSVDItemRecommender: URM Detected 247 ( 1.1%) items with no interactions.\n",
      "PureSVDItemRecommender: Computing SVD decomposition...\n",
      "PureSVDItemRecommender: Computing SVD decomposition... Done!\n",
      "EvaluatorHoldout: Processed 10456 (100.0%) in 14.75 sec. Users per second: 709\n"
     ]
    },
    {
     "name": "stderr",
     "output_type": "stream",
     "text": [
      "[I 2023-12-01 13:22:33,611] Trial 297 finished with value: 0.03361972999477811 and parameters: {'topK': 46, 'num_factors': 168}. Best is trial 293 with value: 0.0337220939446938.\n"
     ]
    },
    {
     "name": "stdout",
     "output_type": "stream",
     "text": [
      "PureSVDItemRecommender: URM Detected 627 ( 4.8%) users with no interactions.\n",
      "PureSVDItemRecommender: URM Detected 247 ( 1.1%) items with no interactions.\n",
      "PureSVDItemRecommender: Computing SVD decomposition...\n",
      "PureSVDItemRecommender: Computing SVD decomposition... Done!\n",
      "EvaluatorHoldout: Processed 10456 (100.0%) in 14.82 sec. Users per second: 705\n"
     ]
    },
    {
     "name": "stderr",
     "output_type": "stream",
     "text": [
      "[I 2023-12-01 13:23:20,599] Trial 298 finished with value: 0.03335404370240846 and parameters: {'topK': 49, 'num_factors': 210}. Best is trial 293 with value: 0.0337220939446938.\n"
     ]
    },
    {
     "name": "stdout",
     "output_type": "stream",
     "text": [
      "PureSVDItemRecommender: URM Detected 627 ( 4.8%) users with no interactions.\n",
      "PureSVDItemRecommender: URM Detected 247 ( 1.1%) items with no interactions.\n",
      "PureSVDItemRecommender: Computing SVD decomposition...\n",
      "PureSVDItemRecommender: Computing SVD decomposition... Done!\n",
      "EvaluatorHoldout: Processed 10456 (100.0%) in 14.93 sec. Users per second: 700\n"
     ]
    },
    {
     "name": "stderr",
     "output_type": "stream",
     "text": [
      "[I 2023-12-01 13:24:05,036] Trial 299 finished with value: 0.033418709998664406 and parameters: {'topK': 46, 'num_factors': 164}. Best is trial 293 with value: 0.0337220939446938.\n"
     ]
    }
   ],
   "source": [
    "if config['tune_parameters']:\n",
    "    study = optuna.create_study(direction='maximize', study_name='hyperparameters_tuning_puresvd_item',\n",
    "                                storage=f'sqlite:///{config[\"database_path\"]}', load_if_exists=True)\n",
    "    study.optimize(objective_function_pure_svd_item, n_trials=200)"
   ]
  },
  {
   "cell_type": "code",
   "execution_count": 16,
   "id": "57a2f414",
   "metadata": {
    "execution": {
     "iopub.execute_input": "2023-12-01T13:24:05.229216Z",
     "iopub.status.busy": "2023-12-01T13:24:05.228426Z",
     "iopub.status.idle": "2023-12-01T13:24:06.212009Z",
     "shell.execute_reply": "2023-12-01T13:24:06.211058Z"
    },
    "papermill": {
     "duration": 1.079475,
     "end_time": "2023-12-01T13:24:06.214459",
     "exception": false,
     "start_time": "2023-12-01T13:24:05.134984",
     "status": "completed"
    },
    "tags": []
   },
   "outputs": [
    {
     "data": {
      "text/html": [
       "        <script type=\"text/javascript\">\n",
       "        window.PlotlyConfig = {MathJaxConfig: 'local'};\n",
       "        if (window.MathJax && window.MathJax.Hub && window.MathJax.Hub.Config) {window.MathJax.Hub.Config({SVG: {font: \"STIX-Web\"}});}\n",
       "        if (typeof require !== 'undefined') {\n",
       "        require.undef(\"plotly\");\n",
       "        requirejs.config({\n",
       "            paths: {\n",
       "                'plotly': ['https://cdn.plot.ly/plotly-2.25.2.min']\n",
       "            }\n",
       "        });\n",
       "        require(['plotly'], function(Plotly) {\n",
       "            window._Plotly = Plotly;\n",
       "        });\n",
       "        }\n",
       "        </script>\n",
       "        "
      ]
     },
     "metadata": {},
     "output_type": "display_data"
    },
    {
     "data": {
      "text/html": [
       "<div>                            <div id=\"992611c5-88f5-4c2c-aded-4da18e6a376a\" class=\"plotly-graph-div\" style=\"height:525px; width:100%;\"></div>            <script type=\"text/javascript\">                require([\"plotly\"], function(Plotly) {                    window.PLOTLYENV=window.PLOTLYENV || {};                                    if (document.getElementById(\"992611c5-88f5-4c2c-aded-4da18e6a376a\")) {                    Plotly.newPlot(                        \"992611c5-88f5-4c2c-aded-4da18e6a376a\",                        [{\"mode\":\"markers\",\"name\":\"Objective Value\",\"x\":[0,1,2,3,4,5,6,7,8,9,10,11,12,13,14,15,16,17,18,19,20,21,22,23,24,25,26,27,28,29,30,31,32,33,34,35,36,37,38,39,40,41,42,43,44,45,46,47,48,49,50,51,52,53,54,55,56,57,58,59,60,61,62,63,64,65,66,67,68,69,70,71,72,73,74,75,76,77,78,79,80,81,82,83,84,85,86,87,88,89,90,91,92,93,94,95,96,97,98,99,100,101,102,103,104,105,106,107,108,109,110,111,112,113,114,115,116,117,118,119,120,121,122,123,124,125,126,127,128,129,130,131,132,133,134,135,136,137,138,139,140,141,142,143,144,145,146,147,148,149,150,151,152,153,154,155,156,157,158,159,160,161,162,163,164,165,166,167,168,169,170,171,172,173,174,175,176,177,178,179,180,181,182,183,184,185,186,187,188,189,190,191,192,193,194,195,196,197,198,199,200,201,202,203,204,205,206,207,208,209,210,211,212,213,214,215,216,217,218,219,220,221,222,223,224,225,226,227,228,229,230,231,232,233,234,235,236,237,238,239,240,241,242,243,244,245,246,247,248,249,250,251,252,253,254,255,256,257,258,259,260,261,262,263,264,265,266,267,268,269,270,271,272,273,274,275,276,277,278,279,280,281,282,283,284,285,286,287,288,289,290,291,292,293,294,295,296,297,298,299],\"y\":[0.032855450200993695,0.03217469881347108,0.02443845942483089,0.003056629595219885,0.003056629595219885,0.021065690239370424,0.016462143707266116,0.009889798976208671,0.018580920349522103,0.008368309833497243,0.031610300457852306,0.03167575235909235,0.03181086882598008,0.0315571335968719,0.03337186592948863,0.03044037903353152,0.03143206300627897,0.0296017248393877,0.03279836290547862,0.028398075533452413,0.02755496957773181,0.03297642577816665,0.033463595748169574,0.031892435117378,0.033364146506600946,0.03336624524841854,0.030869622970330905,0.033114642917866255,0.03240168931637974,0.030739113867939677,0.03310675650647944,0.03328582131016179,0.03201061743238502,0.03322006579346897,0.031605727250094376,0.03225867884771894,0.03322798636159411,0.032235941845496385,0.03300422177287147,0.030513322646069596,0.030340903225610786,0.03289900004250654,0.03333655924751971,0.03287655527015729,0.03276111308461186,0.03308379558786065,0.033026226302814224,0.0318275259287599,0.033060569005720325,0.03297782999963595,0.031496311831287205,0.033215393910688756,0.0333457891572852,0.03305369211571419,0.032633875438724605,0.03314250343085487,0.032892829058427976,0.031063640835064115,0.03260840210223359,0.03327718724572237,0.031022656544127714,0.033301032444347636,0.03325856043769235,0.03282337322840413,0.03251881656768819,0.03300934907883092,0.033174614560183,0.031941195759099594,0.03330215582152306,0.033182333983070876,0.03336579362043238,0.03346579696020239,0.03175132224529736,0.0330305224614715,0.03316175644575641,0.03275192871716427,0.03236606004299213,0.0332291173291558,0.03163328035243709,0.032052322810022,0.03321013756816196,0.03300342098711486,0.033322725768451036,0.0331293834481003,0.033035664948203466,0.03296981075648856,0.032779550132983865,0.033517608937224885,0.03308708222513715,0.03210975167292137,0.03321967868376658,0.03333493490484712,0.03352021243973271,0.03349611675835879,0.03331010295600042,0.03319699101905519,0.03344648322221034,0.033075992670723205,0.03161615644089844,0.032639663108293894,0.03347181234136118,0.03322246056035294,0.03335201706926106,0.03309732924666955,0.03319786770867532,0.03303305385530925,0.033226240572740505,0.03273918066333926,0.033067415534181334,0.03309590604923461,0.03321849458350065,0.03331977310817239,0.033129345496168604,0.03372004833558052,0.032984851106982106,0.032912939786983626,0.0323862656513769,0.032941513796286466,0.03321633132339934,0.03320420568125267,0.033256617298794325,0.03332319637240286,0.033393452988183636,0.03342058861927879,0.03329778375900266,0.033084577397651534,0.03327434464604538,0.033243588400675456,0.03301120492828633,0.03304259497091395,0.03238726758237114,0.03329419350627299,0.03326823058986448,0.03320477496022678,0.03286610710338736,0.03343129485918347,0.032236264436915074,0.03343464601474404,0.03174890850244735,0.03348980914732667,0.033379186857094505,0.033076763094934805,0.03341834186492791,0.03317671330200048,0.0332014541662115,0.03292714139978888,0.03324477629613468,0.0324863562805895,0.03334418758577174,0.033098816962388394,0.03298406929719139,0.033418990842958206,0.03295702854592529,0.03330208371285294,0.033492640361424214,0.03320198549325406,0.03293252677888317,0.03276176585783536,0.032784738162033776,0.03337776365965955,0.03226865641053689,0.03321242606963753,0.033433351853876275,0.03323740603101763,0.03332920416317542,0.0331478394724381,0.03304942631860221,0.03277966778397177,0.03340255765657469,0.03308000418989352,0.0330574038146248,0.033517973275768206,0.03314307270982896,0.033201875432652274,0.03315364611797314,0.03317264105973966,0.03314552819980359,0.023292303500078985,0.03266225968836932,0.032624243238484174,0.031232822955757338,0.03316346428267839,0.033536675987661455,0.03286663843042992,0.03344591773842955,0.03368262014063505,0.03320063819968217,0.03323203962788921,0.033000802303834384,0.03352630751994792,0.03303871248831116,0.03344217188278047,0.033245971781980084,0.029112277753488673,0.033545412522316166,0.03334835850305467,0.03332487764297283,0.03287297260781406,0.03341030364581453,0.03314813549750468,0.032714075460584975,0.03320614502495757,0.033336714850439327,0.033319537806196495,0.03328476245126997,0.03291397587471642,0.03324390719690101,0.03280537642243864,0.03328581751496853,0.03342507833278719,0.033283673230833186,0.03311404327734703,0.030300101103946007,0.03327848899697627,0.03352046292248115,0.03306831499496022,0.03332948121227607,0.03290851079656568,0.033391008883788334,0.033319321480186286,0.031908720291228175,0.03346339839812527,0.033414668117948805,0.009997058725300814,0.03335536063443516,0.012877227019346326,0.03323453686498859,0.03341696041461759,0.0333495198321617,0.03253314342186784,0.027096927715233077,0.032997576389648196,0.0331115118835091,0.033099606362565766,0.03327696332932587,0.03268358867392944,0.03319593595535673,0.033094228573857846,0.03325038559162535,0.032868976269416476,0.03313076489841049,0.0335458337887568,0.033413525764807626,0.03325667422669177,0.03339859167972247,0.03288799018714883,0.033016590307380654,0.0331566860676944,0.024959509084174446,0.03326147135084626,0.03318484260574955,0.03306124075490968,0.033323090106994274,0.033374480817575894,0.03330025442974981,0.03341570420568158,0.03320046741598982,0.03231948163733767,0.033391354246366106,0.03354065335009318,0.031206966304757278,0.03330793590070597,0.033319454311946904,0.032959427108002426,0.03318838352096803,0.032981219107127965,0.03294930153265103,0.030423915485602762,0.032895967683171504,0.03359183532505098,0.032801702675459635,0.03317580625083525,0.03328059532918017,0.03250379898835358,0.03328193882755895,0.03332829711201016,0.033086645777923814,0.032491274850925046,0.03325949785040295,0.03335813871582829,0.03105911316962408,0.03302249942313092,0.033613615938597116,0.020780659847463606,0.033311939829489885,0.03362485350554433,0.033397995834396295,0.03154324318990573,0.03280426063564952,0.03310866928383213,0.032693319549192,0.0332744850681924,0.03338834086299694,0.0337220939446938,0.03308530607473829,0.03327476591248621,0.028525434625520842,0.03361972999477811,0.03335404370240846,0.033418709998664406],\"type\":\"scatter\"},{\"mode\":\"lines\",\"name\":\"Best Value\",\"x\":[0,1,2,3,4,5,6,7,8,9,10,11,12,13,14,15,16,17,18,19,20,21,22,23,24,25,26,27,28,29,30,31,32,33,34,35,36,37,38,39,40,41,42,43,44,45,46,47,48,49,50,51,52,53,54,55,56,57,58,59,60,61,62,63,64,65,66,67,68,69,70,71,72,73,74,75,76,77,78,79,80,81,82,83,84,85,86,87,88,89,90,91,92,93,94,95,96,97,98,99,100,101,102,103,104,105,106,107,108,109,110,111,112,113,114,115,116,117,118,119,120,121,122,123,124,125,126,127,128,129,130,131,132,133,134,135,136,137,138,139,140,141,142,143,144,145,146,147,148,149,150,151,152,153,154,155,156,157,158,159,160,161,162,163,164,165,166,167,168,169,170,171,172,173,174,175,176,177,178,179,180,181,182,183,184,185,186,187,188,189,190,191,192,193,194,195,196,197,198,199,200,201,202,203,204,205,206,207,208,209,210,211,212,213,214,215,216,217,218,219,220,221,222,223,224,225,226,227,228,229,230,231,232,233,234,235,236,237,238,239,240,241,242,243,244,245,246,247,248,249,250,251,252,253,254,255,256,257,258,259,260,261,262,263,264,265,266,267,268,269,270,271,272,273,274,275,276,277,278,279,280,281,282,283,284,285,286,287,288,289,290,291,292,293,294,295,296,297,298,299],\"y\":[0.032855450200993695,0.032855450200993695,0.032855450200993695,0.032855450200993695,0.032855450200993695,0.032855450200993695,0.032855450200993695,0.032855450200993695,0.032855450200993695,0.032855450200993695,0.032855450200993695,0.032855450200993695,0.032855450200993695,0.032855450200993695,0.03337186592948863,0.03337186592948863,0.03337186592948863,0.03337186592948863,0.03337186592948863,0.03337186592948863,0.03337186592948863,0.03337186592948863,0.033463595748169574,0.033463595748169574,0.033463595748169574,0.033463595748169574,0.033463595748169574,0.033463595748169574,0.033463595748169574,0.033463595748169574,0.033463595748169574,0.033463595748169574,0.033463595748169574,0.033463595748169574,0.033463595748169574,0.033463595748169574,0.033463595748169574,0.033463595748169574,0.033463595748169574,0.033463595748169574,0.033463595748169574,0.033463595748169574,0.033463595748169574,0.033463595748169574,0.033463595748169574,0.033463595748169574,0.033463595748169574,0.033463595748169574,0.033463595748169574,0.033463595748169574,0.033463595748169574,0.033463595748169574,0.033463595748169574,0.033463595748169574,0.033463595748169574,0.033463595748169574,0.033463595748169574,0.033463595748169574,0.033463595748169574,0.033463595748169574,0.033463595748169574,0.033463595748169574,0.033463595748169574,0.033463595748169574,0.033463595748169574,0.033463595748169574,0.033463595748169574,0.033463595748169574,0.033463595748169574,0.033463595748169574,0.033463595748169574,0.03346579696020239,0.03346579696020239,0.03346579696020239,0.03346579696020239,0.03346579696020239,0.03346579696020239,0.03346579696020239,0.03346579696020239,0.03346579696020239,0.03346579696020239,0.03346579696020239,0.03346579696020239,0.03346579696020239,0.03346579696020239,0.03346579696020239,0.03346579696020239,0.033517608937224885,0.033517608937224885,0.033517608937224885,0.033517608937224885,0.033517608937224885,0.03352021243973271,0.03352021243973271,0.03352021243973271,0.03352021243973271,0.03352021243973271,0.03352021243973271,0.03352021243973271,0.03352021243973271,0.03352021243973271,0.03352021243973271,0.03352021243973271,0.03352021243973271,0.03352021243973271,0.03352021243973271,0.03352021243973271,0.03352021243973271,0.03352021243973271,0.03352021243973271,0.03352021243973271,0.03352021243973271,0.03352021243973271,0.03372004833558052,0.03372004833558052,0.03372004833558052,0.03372004833558052,0.03372004833558052,0.03372004833558052,0.03372004833558052,0.03372004833558052,0.03372004833558052,0.03372004833558052,0.03372004833558052,0.03372004833558052,0.03372004833558052,0.03372004833558052,0.03372004833558052,0.03372004833558052,0.03372004833558052,0.03372004833558052,0.03372004833558052,0.03372004833558052,0.03372004833558052,0.03372004833558052,0.03372004833558052,0.03372004833558052,0.03372004833558052,0.03372004833558052,0.03372004833558052,0.03372004833558052,0.03372004833558052,0.03372004833558052,0.03372004833558052,0.03372004833558052,0.03372004833558052,0.03372004833558052,0.03372004833558052,0.03372004833558052,0.03372004833558052,0.03372004833558052,0.03372004833558052,0.03372004833558052,0.03372004833558052,0.03372004833558052,0.03372004833558052,0.03372004833558052,0.03372004833558052,0.03372004833558052,0.03372004833558052,0.03372004833558052,0.03372004833558052,0.03372004833558052,0.03372004833558052,0.03372004833558052,0.03372004833558052,0.03372004833558052,0.03372004833558052,0.03372004833558052,0.03372004833558052,0.03372004833558052,0.03372004833558052,0.03372004833558052,0.03372004833558052,0.03372004833558052,0.03372004833558052,0.03372004833558052,0.03372004833558052,0.03372004833558052,0.03372004833558052,0.03372004833558052,0.03372004833558052,0.03372004833558052,0.03372004833558052,0.03372004833558052,0.03372004833558052,0.03372004833558052,0.03372004833558052,0.03372004833558052,0.03372004833558052,0.03372004833558052,0.03372004833558052,0.03372004833558052,0.03372004833558052,0.03372004833558052,0.03372004833558052,0.03372004833558052,0.03372004833558052,0.03372004833558052,0.03372004833558052,0.03372004833558052,0.03372004833558052,0.03372004833558052,0.03372004833558052,0.03372004833558052,0.03372004833558052,0.03372004833558052,0.03372004833558052,0.03372004833558052,0.03372004833558052,0.03372004833558052,0.03372004833558052,0.03372004833558052,0.03372004833558052,0.03372004833558052,0.03372004833558052,0.03372004833558052,0.03372004833558052,0.03372004833558052,0.03372004833558052,0.03372004833558052,0.03372004833558052,0.03372004833558052,0.03372004833558052,0.03372004833558052,0.03372004833558052,0.03372004833558052,0.03372004833558052,0.03372004833558052,0.03372004833558052,0.03372004833558052,0.03372004833558052,0.03372004833558052,0.03372004833558052,0.03372004833558052,0.03372004833558052,0.03372004833558052,0.03372004833558052,0.03372004833558052,0.03372004833558052,0.03372004833558052,0.03372004833558052,0.03372004833558052,0.03372004833558052,0.03372004833558052,0.03372004833558052,0.03372004833558052,0.03372004833558052,0.03372004833558052,0.03372004833558052,0.03372004833558052,0.03372004833558052,0.03372004833558052,0.03372004833558052,0.03372004833558052,0.03372004833558052,0.03372004833558052,0.03372004833558052,0.03372004833558052,0.03372004833558052,0.03372004833558052,0.03372004833558052,0.03372004833558052,0.03372004833558052,0.03372004833558052,0.03372004833558052,0.03372004833558052,0.03372004833558052,0.03372004833558052,0.03372004833558052,0.03372004833558052,0.03372004833558052,0.03372004833558052,0.03372004833558052,0.03372004833558052,0.03372004833558052,0.03372004833558052,0.03372004833558052,0.03372004833558052,0.03372004833558052,0.03372004833558052,0.03372004833558052,0.03372004833558052,0.03372004833558052,0.03372004833558052,0.03372004833558052,0.03372004833558052,0.03372004833558052,0.03372004833558052,0.03372004833558052,0.03372004833558052,0.03372004833558052,0.03372004833558052,0.0337220939446938,0.0337220939446938,0.0337220939446938,0.0337220939446938,0.0337220939446938,0.0337220939446938,0.0337220939446938],\"type\":\"scatter\"},{\"marker\":{\"color\":\"#cccccc\"},\"mode\":\"markers\",\"name\":\"Infeasible Trial\",\"showlegend\":false,\"x\":[],\"y\":[],\"type\":\"scatter\"}],                        {\"title\":{\"text\":\"Optimization History Plot\"},\"xaxis\":{\"title\":{\"text\":\"Trial\"}},\"yaxis\":{\"title\":{\"text\":\"Objective Value\"}},\"template\":{\"data\":{\"histogram2dcontour\":[{\"type\":\"histogram2dcontour\",\"colorbar\":{\"outlinewidth\":0,\"ticks\":\"\"},\"colorscale\":[[0.0,\"#0d0887\"],[0.1111111111111111,\"#46039f\"],[0.2222222222222222,\"#7201a8\"],[0.3333333333333333,\"#9c179e\"],[0.4444444444444444,\"#bd3786\"],[0.5555555555555556,\"#d8576b\"],[0.6666666666666666,\"#ed7953\"],[0.7777777777777778,\"#fb9f3a\"],[0.8888888888888888,\"#fdca26\"],[1.0,\"#f0f921\"]]}],\"choropleth\":[{\"type\":\"choropleth\",\"colorbar\":{\"outlinewidth\":0,\"ticks\":\"\"}}],\"histogram2d\":[{\"type\":\"histogram2d\",\"colorbar\":{\"outlinewidth\":0,\"ticks\":\"\"},\"colorscale\":[[0.0,\"#0d0887\"],[0.1111111111111111,\"#46039f\"],[0.2222222222222222,\"#7201a8\"],[0.3333333333333333,\"#9c179e\"],[0.4444444444444444,\"#bd3786\"],[0.5555555555555556,\"#d8576b\"],[0.6666666666666666,\"#ed7953\"],[0.7777777777777778,\"#fb9f3a\"],[0.8888888888888888,\"#fdca26\"],[1.0,\"#f0f921\"]]}],\"heatmap\":[{\"type\":\"heatmap\",\"colorbar\":{\"outlinewidth\":0,\"ticks\":\"\"},\"colorscale\":[[0.0,\"#0d0887\"],[0.1111111111111111,\"#46039f\"],[0.2222222222222222,\"#7201a8\"],[0.3333333333333333,\"#9c179e\"],[0.4444444444444444,\"#bd3786\"],[0.5555555555555556,\"#d8576b\"],[0.6666666666666666,\"#ed7953\"],[0.7777777777777778,\"#fb9f3a\"],[0.8888888888888888,\"#fdca26\"],[1.0,\"#f0f921\"]]}],\"heatmapgl\":[{\"type\":\"heatmapgl\",\"colorbar\":{\"outlinewidth\":0,\"ticks\":\"\"},\"colorscale\":[[0.0,\"#0d0887\"],[0.1111111111111111,\"#46039f\"],[0.2222222222222222,\"#7201a8\"],[0.3333333333333333,\"#9c179e\"],[0.4444444444444444,\"#bd3786\"],[0.5555555555555556,\"#d8576b\"],[0.6666666666666666,\"#ed7953\"],[0.7777777777777778,\"#fb9f3a\"],[0.8888888888888888,\"#fdca26\"],[1.0,\"#f0f921\"]]}],\"contourcarpet\":[{\"type\":\"contourcarpet\",\"colorbar\":{\"outlinewidth\":0,\"ticks\":\"\"}}],\"contour\":[{\"type\":\"contour\",\"colorbar\":{\"outlinewidth\":0,\"ticks\":\"\"},\"colorscale\":[[0.0,\"#0d0887\"],[0.1111111111111111,\"#46039f\"],[0.2222222222222222,\"#7201a8\"],[0.3333333333333333,\"#9c179e\"],[0.4444444444444444,\"#bd3786\"],[0.5555555555555556,\"#d8576b\"],[0.6666666666666666,\"#ed7953\"],[0.7777777777777778,\"#fb9f3a\"],[0.8888888888888888,\"#fdca26\"],[1.0,\"#f0f921\"]]}],\"surface\":[{\"type\":\"surface\",\"colorbar\":{\"outlinewidth\":0,\"ticks\":\"\"},\"colorscale\":[[0.0,\"#0d0887\"],[0.1111111111111111,\"#46039f\"],[0.2222222222222222,\"#7201a8\"],[0.3333333333333333,\"#9c179e\"],[0.4444444444444444,\"#bd3786\"],[0.5555555555555556,\"#d8576b\"],[0.6666666666666666,\"#ed7953\"],[0.7777777777777778,\"#fb9f3a\"],[0.8888888888888888,\"#fdca26\"],[1.0,\"#f0f921\"]]}],\"mesh3d\":[{\"type\":\"mesh3d\",\"colorbar\":{\"outlinewidth\":0,\"ticks\":\"\"}}],\"scatter\":[{\"fillpattern\":{\"fillmode\":\"overlay\",\"size\":10,\"solidity\":0.2},\"type\":\"scatter\"}],\"parcoords\":[{\"type\":\"parcoords\",\"line\":{\"colorbar\":{\"outlinewidth\":0,\"ticks\":\"\"}}}],\"scatterpolargl\":[{\"type\":\"scatterpolargl\",\"marker\":{\"colorbar\":{\"outlinewidth\":0,\"ticks\":\"\"}}}],\"bar\":[{\"error_x\":{\"color\":\"#2a3f5f\"},\"error_y\":{\"color\":\"#2a3f5f\"},\"marker\":{\"line\":{\"color\":\"#E5ECF6\",\"width\":0.5},\"pattern\":{\"fillmode\":\"overlay\",\"size\":10,\"solidity\":0.2}},\"type\":\"bar\"}],\"scattergeo\":[{\"type\":\"scattergeo\",\"marker\":{\"colorbar\":{\"outlinewidth\":0,\"ticks\":\"\"}}}],\"scatterpolar\":[{\"type\":\"scatterpolar\",\"marker\":{\"colorbar\":{\"outlinewidth\":0,\"ticks\":\"\"}}}],\"histogram\":[{\"marker\":{\"pattern\":{\"fillmode\":\"overlay\",\"size\":10,\"solidity\":0.2}},\"type\":\"histogram\"}],\"scattergl\":[{\"type\":\"scattergl\",\"marker\":{\"colorbar\":{\"outlinewidth\":0,\"ticks\":\"\"}}}],\"scatter3d\":[{\"type\":\"scatter3d\",\"line\":{\"colorbar\":{\"outlinewidth\":0,\"ticks\":\"\"}},\"marker\":{\"colorbar\":{\"outlinewidth\":0,\"ticks\":\"\"}}}],\"scattermapbox\":[{\"type\":\"scattermapbox\",\"marker\":{\"colorbar\":{\"outlinewidth\":0,\"ticks\":\"\"}}}],\"scatterternary\":[{\"type\":\"scatterternary\",\"marker\":{\"colorbar\":{\"outlinewidth\":0,\"ticks\":\"\"}}}],\"scattercarpet\":[{\"type\":\"scattercarpet\",\"marker\":{\"colorbar\":{\"outlinewidth\":0,\"ticks\":\"\"}}}],\"carpet\":[{\"aaxis\":{\"endlinecolor\":\"#2a3f5f\",\"gridcolor\":\"white\",\"linecolor\":\"white\",\"minorgridcolor\":\"white\",\"startlinecolor\":\"#2a3f5f\"},\"baxis\":{\"endlinecolor\":\"#2a3f5f\",\"gridcolor\":\"white\",\"linecolor\":\"white\",\"minorgridcolor\":\"white\",\"startlinecolor\":\"#2a3f5f\"},\"type\":\"carpet\"}],\"table\":[{\"cells\":{\"fill\":{\"color\":\"#EBF0F8\"},\"line\":{\"color\":\"white\"}},\"header\":{\"fill\":{\"color\":\"#C8D4E3\"},\"line\":{\"color\":\"white\"}},\"type\":\"table\"}],\"barpolar\":[{\"marker\":{\"line\":{\"color\":\"#E5ECF6\",\"width\":0.5},\"pattern\":{\"fillmode\":\"overlay\",\"size\":10,\"solidity\":0.2}},\"type\":\"barpolar\"}],\"pie\":[{\"automargin\":true,\"type\":\"pie\"}]},\"layout\":{\"autotypenumbers\":\"strict\",\"colorway\":[\"#636efa\",\"#EF553B\",\"#00cc96\",\"#ab63fa\",\"#FFA15A\",\"#19d3f3\",\"#FF6692\",\"#B6E880\",\"#FF97FF\",\"#FECB52\"],\"font\":{\"color\":\"#2a3f5f\"},\"hovermode\":\"closest\",\"hoverlabel\":{\"align\":\"left\"},\"paper_bgcolor\":\"white\",\"plot_bgcolor\":\"#E5ECF6\",\"polar\":{\"bgcolor\":\"#E5ECF6\",\"angularaxis\":{\"gridcolor\":\"white\",\"linecolor\":\"white\",\"ticks\":\"\"},\"radialaxis\":{\"gridcolor\":\"white\",\"linecolor\":\"white\",\"ticks\":\"\"}},\"ternary\":{\"bgcolor\":\"#E5ECF6\",\"aaxis\":{\"gridcolor\":\"white\",\"linecolor\":\"white\",\"ticks\":\"\"},\"baxis\":{\"gridcolor\":\"white\",\"linecolor\":\"white\",\"ticks\":\"\"},\"caxis\":{\"gridcolor\":\"white\",\"linecolor\":\"white\",\"ticks\":\"\"}},\"coloraxis\":{\"colorbar\":{\"outlinewidth\":0,\"ticks\":\"\"}},\"colorscale\":{\"sequential\":[[0.0,\"#0d0887\"],[0.1111111111111111,\"#46039f\"],[0.2222222222222222,\"#7201a8\"],[0.3333333333333333,\"#9c179e\"],[0.4444444444444444,\"#bd3786\"],[0.5555555555555556,\"#d8576b\"],[0.6666666666666666,\"#ed7953\"],[0.7777777777777778,\"#fb9f3a\"],[0.8888888888888888,\"#fdca26\"],[1.0,\"#f0f921\"]],\"sequentialminus\":[[0.0,\"#0d0887\"],[0.1111111111111111,\"#46039f\"],[0.2222222222222222,\"#7201a8\"],[0.3333333333333333,\"#9c179e\"],[0.4444444444444444,\"#bd3786\"],[0.5555555555555556,\"#d8576b\"],[0.6666666666666666,\"#ed7953\"],[0.7777777777777778,\"#fb9f3a\"],[0.8888888888888888,\"#fdca26\"],[1.0,\"#f0f921\"]],\"diverging\":[[0,\"#8e0152\"],[0.1,\"#c51b7d\"],[0.2,\"#de77ae\"],[0.3,\"#f1b6da\"],[0.4,\"#fde0ef\"],[0.5,\"#f7f7f7\"],[0.6,\"#e6f5d0\"],[0.7,\"#b8e186\"],[0.8,\"#7fbc41\"],[0.9,\"#4d9221\"],[1,\"#276419\"]]},\"xaxis\":{\"gridcolor\":\"white\",\"linecolor\":\"white\",\"ticks\":\"\",\"title\":{\"standoff\":15},\"zerolinecolor\":\"white\",\"automargin\":true,\"zerolinewidth\":2},\"yaxis\":{\"gridcolor\":\"white\",\"linecolor\":\"white\",\"ticks\":\"\",\"title\":{\"standoff\":15},\"zerolinecolor\":\"white\",\"automargin\":true,\"zerolinewidth\":2},\"scene\":{\"xaxis\":{\"backgroundcolor\":\"#E5ECF6\",\"gridcolor\":\"white\",\"linecolor\":\"white\",\"showbackground\":true,\"ticks\":\"\",\"zerolinecolor\":\"white\",\"gridwidth\":2},\"yaxis\":{\"backgroundcolor\":\"#E5ECF6\",\"gridcolor\":\"white\",\"linecolor\":\"white\",\"showbackground\":true,\"ticks\":\"\",\"zerolinecolor\":\"white\",\"gridwidth\":2},\"zaxis\":{\"backgroundcolor\":\"#E5ECF6\",\"gridcolor\":\"white\",\"linecolor\":\"white\",\"showbackground\":true,\"ticks\":\"\",\"zerolinecolor\":\"white\",\"gridwidth\":2}},\"shapedefaults\":{\"line\":{\"color\":\"#2a3f5f\"}},\"annotationdefaults\":{\"arrowcolor\":\"#2a3f5f\",\"arrowhead\":0,\"arrowwidth\":1},\"geo\":{\"bgcolor\":\"white\",\"landcolor\":\"#E5ECF6\",\"subunitcolor\":\"white\",\"showland\":true,\"showlakes\":true,\"lakecolor\":\"white\"},\"title\":{\"x\":0.05},\"mapbox\":{\"style\":\"light\"}}}},                        {\"responsive\": true}                    ).then(function(){\n",
       "                            \n",
       "var gd = document.getElementById('992611c5-88f5-4c2c-aded-4da18e6a376a');\n",
       "var x = new MutationObserver(function (mutations, observer) {{\n",
       "        var display = window.getComputedStyle(gd).display;\n",
       "        if (!display || display === 'none') {{\n",
       "            console.log([gd, 'removed!']);\n",
       "            Plotly.purge(gd);\n",
       "            observer.disconnect();\n",
       "        }}\n",
       "}});\n",
       "\n",
       "// Listen for the removal of the full notebook cells\n",
       "var notebookContainer = gd.closest('#notebook-container');\n",
       "if (notebookContainer) {{\n",
       "    x.observe(notebookContainer, {childList: true});\n",
       "}}\n",
       "\n",
       "// Listen for the clearing of the current output cell\n",
       "var outputEl = gd.closest('.output');\n",
       "if (outputEl) {{\n",
       "    x.observe(outputEl, {childList: true});\n",
       "}}\n",
       "\n",
       "                        })                };                });            </script>        </div>"
      ]
     },
     "metadata": {},
     "output_type": "display_data"
    }
   ],
   "source": [
    "if config['tune_parameters']:\n",
    "    fig = optuna.visualization.plot_optimization_history(study)\n",
    "    fig.show()"
   ]
  },
  {
   "cell_type": "code",
   "execution_count": 17,
   "id": "4fbbb874",
   "metadata": {
    "execution": {
     "iopub.execute_input": "2023-12-01T13:24:06.402401Z",
     "iopub.status.busy": "2023-12-01T13:24:06.401969Z",
     "iopub.status.idle": "2023-12-01T13:24:13.964450Z",
     "shell.execute_reply": "2023-12-01T13:24:13.963347Z"
    },
    "papermill": {
     "duration": 7.659354,
     "end_time": "2023-12-01T13:24:13.966933",
     "exception": false,
     "start_time": "2023-12-01T13:24:06.307579",
     "status": "completed"
    },
    "tags": []
   },
   "outputs": [
    {
     "data": {
      "text/html": [
       "<div>                            <div id=\"c85ef57b-da8d-4463-8c43-066008cee76f\" class=\"plotly-graph-div\" style=\"height:525px; width:100%;\"></div>            <script type=\"text/javascript\">                require([\"plotly\"], function(Plotly) {                    window.PLOTLYENV=window.PLOTLYENV || {};                                    if (document.getElementById(\"c85ef57b-da8d-4463-8c43-066008cee76f\")) {                    Plotly.newPlot(                        \"c85ef57b-da8d-4463-8c43-066008cee76f\",                        [{\"cliponaxis\":false,\"hovertemplate\":[\"topK (IntDistribution): 0.2089769901063237\\u003cextra\\u003e\\u003c\\u002fextra\\u003e\",\"num_factors (IntDistribution): 0.7910230098936762\\u003cextra\\u003e\\u003c\\u002fextra\\u003e\"],\"name\":\"Objective Value\",\"orientation\":\"h\",\"text\":[\"0.21\",\"0.79\"],\"textposition\":\"outside\",\"x\":[0.2089769901063237,0.7910230098936762],\"y\":[\"topK\",\"num_factors\"],\"type\":\"bar\"}],                        {\"title\":{\"text\":\"Hyperparameter Importances\"},\"xaxis\":{\"title\":{\"text\":\"Hyperparameter Importance\"}},\"yaxis\":{\"title\":{\"text\":\"Hyperparameter\"}},\"template\":{\"data\":{\"histogram2dcontour\":[{\"type\":\"histogram2dcontour\",\"colorbar\":{\"outlinewidth\":0,\"ticks\":\"\"},\"colorscale\":[[0.0,\"#0d0887\"],[0.1111111111111111,\"#46039f\"],[0.2222222222222222,\"#7201a8\"],[0.3333333333333333,\"#9c179e\"],[0.4444444444444444,\"#bd3786\"],[0.5555555555555556,\"#d8576b\"],[0.6666666666666666,\"#ed7953\"],[0.7777777777777778,\"#fb9f3a\"],[0.8888888888888888,\"#fdca26\"],[1.0,\"#f0f921\"]]}],\"choropleth\":[{\"type\":\"choropleth\",\"colorbar\":{\"outlinewidth\":0,\"ticks\":\"\"}}],\"histogram2d\":[{\"type\":\"histogram2d\",\"colorbar\":{\"outlinewidth\":0,\"ticks\":\"\"},\"colorscale\":[[0.0,\"#0d0887\"],[0.1111111111111111,\"#46039f\"],[0.2222222222222222,\"#7201a8\"],[0.3333333333333333,\"#9c179e\"],[0.4444444444444444,\"#bd3786\"],[0.5555555555555556,\"#d8576b\"],[0.6666666666666666,\"#ed7953\"],[0.7777777777777778,\"#fb9f3a\"],[0.8888888888888888,\"#fdca26\"],[1.0,\"#f0f921\"]]}],\"heatmap\":[{\"type\":\"heatmap\",\"colorbar\":{\"outlinewidth\":0,\"ticks\":\"\"},\"colorscale\":[[0.0,\"#0d0887\"],[0.1111111111111111,\"#46039f\"],[0.2222222222222222,\"#7201a8\"],[0.3333333333333333,\"#9c179e\"],[0.4444444444444444,\"#bd3786\"],[0.5555555555555556,\"#d8576b\"],[0.6666666666666666,\"#ed7953\"],[0.7777777777777778,\"#fb9f3a\"],[0.8888888888888888,\"#fdca26\"],[1.0,\"#f0f921\"]]}],\"heatmapgl\":[{\"type\":\"heatmapgl\",\"colorbar\":{\"outlinewidth\":0,\"ticks\":\"\"},\"colorscale\":[[0.0,\"#0d0887\"],[0.1111111111111111,\"#46039f\"],[0.2222222222222222,\"#7201a8\"],[0.3333333333333333,\"#9c179e\"],[0.4444444444444444,\"#bd3786\"],[0.5555555555555556,\"#d8576b\"],[0.6666666666666666,\"#ed7953\"],[0.7777777777777778,\"#fb9f3a\"],[0.8888888888888888,\"#fdca26\"],[1.0,\"#f0f921\"]]}],\"contourcarpet\":[{\"type\":\"contourcarpet\",\"colorbar\":{\"outlinewidth\":0,\"ticks\":\"\"}}],\"contour\":[{\"type\":\"contour\",\"colorbar\":{\"outlinewidth\":0,\"ticks\":\"\"},\"colorscale\":[[0.0,\"#0d0887\"],[0.1111111111111111,\"#46039f\"],[0.2222222222222222,\"#7201a8\"],[0.3333333333333333,\"#9c179e\"],[0.4444444444444444,\"#bd3786\"],[0.5555555555555556,\"#d8576b\"],[0.6666666666666666,\"#ed7953\"],[0.7777777777777778,\"#fb9f3a\"],[0.8888888888888888,\"#fdca26\"],[1.0,\"#f0f921\"]]}],\"surface\":[{\"type\":\"surface\",\"colorbar\":{\"outlinewidth\":0,\"ticks\":\"\"},\"colorscale\":[[0.0,\"#0d0887\"],[0.1111111111111111,\"#46039f\"],[0.2222222222222222,\"#7201a8\"],[0.3333333333333333,\"#9c179e\"],[0.4444444444444444,\"#bd3786\"],[0.5555555555555556,\"#d8576b\"],[0.6666666666666666,\"#ed7953\"],[0.7777777777777778,\"#fb9f3a\"],[0.8888888888888888,\"#fdca26\"],[1.0,\"#f0f921\"]]}],\"mesh3d\":[{\"type\":\"mesh3d\",\"colorbar\":{\"outlinewidth\":0,\"ticks\":\"\"}}],\"scatter\":[{\"fillpattern\":{\"fillmode\":\"overlay\",\"size\":10,\"solidity\":0.2},\"type\":\"scatter\"}],\"parcoords\":[{\"type\":\"parcoords\",\"line\":{\"colorbar\":{\"outlinewidth\":0,\"ticks\":\"\"}}}],\"scatterpolargl\":[{\"type\":\"scatterpolargl\",\"marker\":{\"colorbar\":{\"outlinewidth\":0,\"ticks\":\"\"}}}],\"bar\":[{\"error_x\":{\"color\":\"#2a3f5f\"},\"error_y\":{\"color\":\"#2a3f5f\"},\"marker\":{\"line\":{\"color\":\"#E5ECF6\",\"width\":0.5},\"pattern\":{\"fillmode\":\"overlay\",\"size\":10,\"solidity\":0.2}},\"type\":\"bar\"}],\"scattergeo\":[{\"type\":\"scattergeo\",\"marker\":{\"colorbar\":{\"outlinewidth\":0,\"ticks\":\"\"}}}],\"scatterpolar\":[{\"type\":\"scatterpolar\",\"marker\":{\"colorbar\":{\"outlinewidth\":0,\"ticks\":\"\"}}}],\"histogram\":[{\"marker\":{\"pattern\":{\"fillmode\":\"overlay\",\"size\":10,\"solidity\":0.2}},\"type\":\"histogram\"}],\"scattergl\":[{\"type\":\"scattergl\",\"marker\":{\"colorbar\":{\"outlinewidth\":0,\"ticks\":\"\"}}}],\"scatter3d\":[{\"type\":\"scatter3d\",\"line\":{\"colorbar\":{\"outlinewidth\":0,\"ticks\":\"\"}},\"marker\":{\"colorbar\":{\"outlinewidth\":0,\"ticks\":\"\"}}}],\"scattermapbox\":[{\"type\":\"scattermapbox\",\"marker\":{\"colorbar\":{\"outlinewidth\":0,\"ticks\":\"\"}}}],\"scatterternary\":[{\"type\":\"scatterternary\",\"marker\":{\"colorbar\":{\"outlinewidth\":0,\"ticks\":\"\"}}}],\"scattercarpet\":[{\"type\":\"scattercarpet\",\"marker\":{\"colorbar\":{\"outlinewidth\":0,\"ticks\":\"\"}}}],\"carpet\":[{\"aaxis\":{\"endlinecolor\":\"#2a3f5f\",\"gridcolor\":\"white\",\"linecolor\":\"white\",\"minorgridcolor\":\"white\",\"startlinecolor\":\"#2a3f5f\"},\"baxis\":{\"endlinecolor\":\"#2a3f5f\",\"gridcolor\":\"white\",\"linecolor\":\"white\",\"minorgridcolor\":\"white\",\"startlinecolor\":\"#2a3f5f\"},\"type\":\"carpet\"}],\"table\":[{\"cells\":{\"fill\":{\"color\":\"#EBF0F8\"},\"line\":{\"color\":\"white\"}},\"header\":{\"fill\":{\"color\":\"#C8D4E3\"},\"line\":{\"color\":\"white\"}},\"type\":\"table\"}],\"barpolar\":[{\"marker\":{\"line\":{\"color\":\"#E5ECF6\",\"width\":0.5},\"pattern\":{\"fillmode\":\"overlay\",\"size\":10,\"solidity\":0.2}},\"type\":\"barpolar\"}],\"pie\":[{\"automargin\":true,\"type\":\"pie\"}]},\"layout\":{\"autotypenumbers\":\"strict\",\"colorway\":[\"#636efa\",\"#EF553B\",\"#00cc96\",\"#ab63fa\",\"#FFA15A\",\"#19d3f3\",\"#FF6692\",\"#B6E880\",\"#FF97FF\",\"#FECB52\"],\"font\":{\"color\":\"#2a3f5f\"},\"hovermode\":\"closest\",\"hoverlabel\":{\"align\":\"left\"},\"paper_bgcolor\":\"white\",\"plot_bgcolor\":\"#E5ECF6\",\"polar\":{\"bgcolor\":\"#E5ECF6\",\"angularaxis\":{\"gridcolor\":\"white\",\"linecolor\":\"white\",\"ticks\":\"\"},\"radialaxis\":{\"gridcolor\":\"white\",\"linecolor\":\"white\",\"ticks\":\"\"}},\"ternary\":{\"bgcolor\":\"#E5ECF6\",\"aaxis\":{\"gridcolor\":\"white\",\"linecolor\":\"white\",\"ticks\":\"\"},\"baxis\":{\"gridcolor\":\"white\",\"linecolor\":\"white\",\"ticks\":\"\"},\"caxis\":{\"gridcolor\":\"white\",\"linecolor\":\"white\",\"ticks\":\"\"}},\"coloraxis\":{\"colorbar\":{\"outlinewidth\":0,\"ticks\":\"\"}},\"colorscale\":{\"sequential\":[[0.0,\"#0d0887\"],[0.1111111111111111,\"#46039f\"],[0.2222222222222222,\"#7201a8\"],[0.3333333333333333,\"#9c179e\"],[0.4444444444444444,\"#bd3786\"],[0.5555555555555556,\"#d8576b\"],[0.6666666666666666,\"#ed7953\"],[0.7777777777777778,\"#fb9f3a\"],[0.8888888888888888,\"#fdca26\"],[1.0,\"#f0f921\"]],\"sequentialminus\":[[0.0,\"#0d0887\"],[0.1111111111111111,\"#46039f\"],[0.2222222222222222,\"#7201a8\"],[0.3333333333333333,\"#9c179e\"],[0.4444444444444444,\"#bd3786\"],[0.5555555555555556,\"#d8576b\"],[0.6666666666666666,\"#ed7953\"],[0.7777777777777778,\"#fb9f3a\"],[0.8888888888888888,\"#fdca26\"],[1.0,\"#f0f921\"]],\"diverging\":[[0,\"#8e0152\"],[0.1,\"#c51b7d\"],[0.2,\"#de77ae\"],[0.3,\"#f1b6da\"],[0.4,\"#fde0ef\"],[0.5,\"#f7f7f7\"],[0.6,\"#e6f5d0\"],[0.7,\"#b8e186\"],[0.8,\"#7fbc41\"],[0.9,\"#4d9221\"],[1,\"#276419\"]]},\"xaxis\":{\"gridcolor\":\"white\",\"linecolor\":\"white\",\"ticks\":\"\",\"title\":{\"standoff\":15},\"zerolinecolor\":\"white\",\"automargin\":true,\"zerolinewidth\":2},\"yaxis\":{\"gridcolor\":\"white\",\"linecolor\":\"white\",\"ticks\":\"\",\"title\":{\"standoff\":15},\"zerolinecolor\":\"white\",\"automargin\":true,\"zerolinewidth\":2},\"scene\":{\"xaxis\":{\"backgroundcolor\":\"#E5ECF6\",\"gridcolor\":\"white\",\"linecolor\":\"white\",\"showbackground\":true,\"ticks\":\"\",\"zerolinecolor\":\"white\",\"gridwidth\":2},\"yaxis\":{\"backgroundcolor\":\"#E5ECF6\",\"gridcolor\":\"white\",\"linecolor\":\"white\",\"showbackground\":true,\"ticks\":\"\",\"zerolinecolor\":\"white\",\"gridwidth\":2},\"zaxis\":{\"backgroundcolor\":\"#E5ECF6\",\"gridcolor\":\"white\",\"linecolor\":\"white\",\"showbackground\":true,\"ticks\":\"\",\"zerolinecolor\":\"white\",\"gridwidth\":2}},\"shapedefaults\":{\"line\":{\"color\":\"#2a3f5f\"}},\"annotationdefaults\":{\"arrowcolor\":\"#2a3f5f\",\"arrowhead\":0,\"arrowwidth\":1},\"geo\":{\"bgcolor\":\"white\",\"landcolor\":\"#E5ECF6\",\"subunitcolor\":\"white\",\"showland\":true,\"showlakes\":true,\"lakecolor\":\"white\"},\"title\":{\"x\":0.05},\"mapbox\":{\"style\":\"light\"}}}},                        {\"responsive\": true}                    ).then(function(){\n",
       "                            \n",
       "var gd = document.getElementById('c85ef57b-da8d-4463-8c43-066008cee76f');\n",
       "var x = new MutationObserver(function (mutations, observer) {{\n",
       "        var display = window.getComputedStyle(gd).display;\n",
       "        if (!display || display === 'none') {{\n",
       "            console.log([gd, 'removed!']);\n",
       "            Plotly.purge(gd);\n",
       "            observer.disconnect();\n",
       "        }}\n",
       "}});\n",
       "\n",
       "// Listen for the removal of the full notebook cells\n",
       "var notebookContainer = gd.closest('#notebook-container');\n",
       "if (notebookContainer) {{\n",
       "    x.observe(notebookContainer, {childList: true});\n",
       "}}\n",
       "\n",
       "// Listen for the clearing of the current output cell\n",
       "var outputEl = gd.closest('.output');\n",
       "if (outputEl) {{\n",
       "    x.observe(outputEl, {childList: true});\n",
       "}}\n",
       "\n",
       "                        })                };                });            </script>        </div>"
      ]
     },
     "metadata": {},
     "output_type": "display_data"
    }
   ],
   "source": [
    "if config['tune_parameters']:\n",
    "    fig = optuna.visualization.plot_param_importances(study)\n",
    "    fig.show()"
   ]
  },
  {
   "cell_type": "code",
   "execution_count": 18,
   "id": "d6bc828d",
   "metadata": {
    "execution": {
     "iopub.execute_input": "2023-12-01T13:24:14.153335Z",
     "iopub.status.busy": "2023-12-01T13:24:14.152679Z",
     "iopub.status.idle": "2023-12-01T13:24:14.520444Z",
     "shell.execute_reply": "2023-12-01T13:24:14.519638Z"
    },
    "papermill": {
     "duration": 0.464042,
     "end_time": "2023-12-01T13:24:14.522744",
     "exception": false,
     "start_time": "2023-12-01T13:24:14.058702",
     "status": "completed"
    },
    "tags": []
   },
   "outputs": [
    {
     "data": {
      "text/html": [
       "<div>                            <div id=\"976e9993-1413-4d27-98f3-c34b26ecb5de\" class=\"plotly-graph-div\" style=\"height:525px; width:100%;\"></div>            <script type=\"text/javascript\">                require([\"plotly\"], function(Plotly) {                    window.PLOTLYENV=window.PLOTLYENV || {};                                    if (document.getElementById(\"976e9993-1413-4d27-98f3-c34b26ecb5de\")) {                    Plotly.newPlot(                        \"976e9993-1413-4d27-98f3-c34b26ecb5de\",                        [{\"marker\":{\"color\":[0,1,2,3,4,5,6,7,8,9,10,11,12,13,14,15,16,17,18,19,20,21,22,23,24,25,26,27,28,29,30,31,32,33,34,35,36,37,38,39,40,41,42,43,44,45,46,47,48,49,50,51,52,53,54,55,56,57,58,59,60,61,62,63,64,65,66,67,68,69,70,71,72,73,74,75,76,77,78,79,80,81,82,83,84,85,86,87,88,89,90,91,92,93,94,95,96,97,98,99,100,101,102,103,104,105,106,107,108,109,110,111,112,113,114,115,116,117,118,119,120,121,122,123,124,125,126,127,128,129,130,131,132,133,134,135,136,137,138,139,140,141,142,143,144,145,146,147,148,149,150,151,152,153,154,155,156,157,158,159,160,161,162,163,164,165,166,167,168,169,170,171,172,173,174,175,176,177,178,179,180,181,182,183,184,185,186,187,188,189,190,191,192,193,194,195,196,197,198,199,200,201,202,203,204,205,206,207,208,209,210,211,212,213,214,215,216,217,218,219,220,221,222,223,224,225,226,227,228,229,230,231,232,233,234,235,236,237,238,239,240,241,242,243,244,245,246,247,248,249,250,251,252,253,254,255,256,257,258,259,260,261,262,263,264,265,266,267,268,269,270,271,272,273,274,275,276,277,278,279,280,281,282,283,284,285,286,287,288,289,290,291,292,293,294,295,296,297,298,299],\"colorbar\":{\"title\":{\"text\":\"Trial\"},\"x\":1.0,\"xpad\":40},\"colorscale\":[[0.0,\"rgb(247,251,255)\"],[0.125,\"rgb(222,235,247)\"],[0.25,\"rgb(198,219,239)\"],[0.375,\"rgb(158,202,225)\"],[0.5,\"rgb(107,174,214)\"],[0.625,\"rgb(66,146,198)\"],[0.75,\"rgb(33,113,181)\"],[0.875,\"rgb(8,81,156)\"],[1.0,\"rgb(8,48,107)\"]],\"line\":{\"color\":\"Grey\",\"width\":0.5},\"showscale\":true},\"mode\":\"markers\",\"name\":\"Feasible Trial\",\"showlegend\":false,\"x\":[116,601,16,1,1,6,3,1,7,259,94,736,81,774,136,43,191,32,269,78,22,264,160,350,178,156,51,137,443,989,132,169,492,177,62,93,124,482,350,65,36,159,202,234,98,115,214,604,301,207,74,153,180,110,347,214,91,56,259,149,46,203,194,120,365,281,168,83,127,118,144,148,77,178,146,287,98,240,64,410,140,114,171,179,221,304,102,150,247,88,138,168,151,204,141,110,231,241,74,313,210,206,148,258,125,190,222,405,100,162,128,160,196,149,273,330,88,111,138,234,184,144,149,161,125,104,160,215,284,190,367,158,119,220,259,184,94,137,74,177,182,183,132,229,167,126,196,306,138,251,111,154,156,196,135,131,154,102,511,217,86,176,138,117,148,129,170,104,204,233,253,143,194,142,203,166,123,11,275,90,56,151,140,116,173,178,173,167,214,139,108,138,130,28,183,197,142,235,183,129,96,159,169,137,189,107,228,328,153,121,117,143,43,175,207,254,204,278,129,190,75,138,145,170,110,2,215,129,149,902,179,164,152,129,209,657,179,124,152,96,231,153,168,143,193,108,120,159,15,136,193,231,164,144,116,184,274,84,210,134,63,130,109,365,140,174,103,36,241,150,310,195,152,414,167,206,137,94,242,178,50,123,155,6,150,135,118,69,498,159,87,216,135,171,275,186,24,168,210,164],\"y\":[0.032855450200993695,0.03217469881347108,0.02443845942483089,0.003056629595219885,0.003056629595219885,0.021065690239370424,0.016462143707266116,0.009889798976208671,0.018580920349522103,0.008368309833497243,0.031610300457852306,0.03167575235909235,0.03181086882598008,0.0315571335968719,0.03337186592948863,0.03044037903353152,0.03143206300627897,0.0296017248393877,0.03279836290547862,0.028398075533452413,0.02755496957773181,0.03297642577816665,0.033463595748169574,0.031892435117378,0.033364146506600946,0.03336624524841854,0.030869622970330905,0.033114642917866255,0.03240168931637974,0.030739113867939677,0.03310675650647944,0.03328582131016179,0.03201061743238502,0.03322006579346897,0.031605727250094376,0.03225867884771894,0.03322798636159411,0.032235941845496385,0.03300422177287147,0.030513322646069596,0.030340903225610786,0.03289900004250654,0.03333655924751971,0.03287655527015729,0.03276111308461186,0.03308379558786065,0.033026226302814224,0.0318275259287599,0.033060569005720325,0.03297782999963595,0.031496311831287205,0.033215393910688756,0.0333457891572852,0.03305369211571419,0.032633875438724605,0.03314250343085487,0.032892829058427976,0.031063640835064115,0.03260840210223359,0.03327718724572237,0.031022656544127714,0.033301032444347636,0.03325856043769235,0.03282337322840413,0.03251881656768819,0.03300934907883092,0.033174614560183,0.031941195759099594,0.03330215582152306,0.033182333983070876,0.03336579362043238,0.03346579696020239,0.03175132224529736,0.0330305224614715,0.03316175644575641,0.03275192871716427,0.03236606004299213,0.0332291173291558,0.03163328035243709,0.032052322810022,0.03321013756816196,0.03300342098711486,0.033322725768451036,0.0331293834481003,0.033035664948203466,0.03296981075648856,0.032779550132983865,0.033517608937224885,0.03308708222513715,0.03210975167292137,0.03321967868376658,0.03333493490484712,0.03352021243973271,0.03349611675835879,0.03331010295600042,0.03319699101905519,0.03344648322221034,0.033075992670723205,0.03161615644089844,0.032639663108293894,0.03347181234136118,0.03322246056035294,0.03335201706926106,0.03309732924666955,0.03319786770867532,0.03303305385530925,0.033226240572740505,0.03273918066333926,0.033067415534181334,0.03309590604923461,0.03321849458350065,0.03331977310817239,0.033129345496168604,0.03372004833558052,0.032984851106982106,0.032912939786983626,0.0323862656513769,0.032941513796286466,0.03321633132339934,0.03320420568125267,0.033256617298794325,0.03332319637240286,0.033393452988183636,0.03342058861927879,0.03329778375900266,0.033084577397651534,0.03327434464604538,0.033243588400675456,0.03301120492828633,0.03304259497091395,0.03238726758237114,0.03329419350627299,0.03326823058986448,0.03320477496022678,0.03286610710338736,0.03343129485918347,0.032236264436915074,0.03343464601474404,0.03174890850244735,0.03348980914732667,0.033379186857094505,0.033076763094934805,0.03341834186492791,0.03317671330200048,0.0332014541662115,0.03292714139978888,0.03324477629613468,0.0324863562805895,0.03334418758577174,0.033098816962388394,0.03298406929719139,0.033418990842958206,0.03295702854592529,0.03330208371285294,0.033492640361424214,0.03320198549325406,0.03293252677888317,0.03276176585783536,0.032784738162033776,0.03337776365965955,0.03226865641053689,0.03321242606963753,0.033433351853876275,0.03323740603101763,0.03332920416317542,0.0331478394724381,0.03304942631860221,0.03277966778397177,0.03340255765657469,0.03308000418989352,0.0330574038146248,0.033517973275768206,0.03314307270982896,0.033201875432652274,0.03315364611797314,0.03317264105973966,0.03314552819980359,0.023292303500078985,0.03266225968836932,0.032624243238484174,0.031232822955757338,0.03316346428267839,0.033536675987661455,0.03286663843042992,0.03344591773842955,0.03368262014063505,0.03320063819968217,0.03323203962788921,0.033000802303834384,0.03352630751994792,0.03303871248831116,0.03344217188278047,0.033245971781980084,0.029112277753488673,0.033545412522316166,0.03334835850305467,0.03332487764297283,0.03287297260781406,0.03341030364581453,0.03314813549750468,0.032714075460584975,0.03320614502495757,0.033336714850439327,0.033319537806196495,0.03328476245126997,0.03291397587471642,0.03324390719690101,0.03280537642243864,0.03328581751496853,0.03342507833278719,0.033283673230833186,0.03311404327734703,0.030300101103946007,0.03327848899697627,0.03352046292248115,0.03306831499496022,0.03332948121227607,0.03290851079656568,0.033391008883788334,0.033319321480186286,0.031908720291228175,0.03346339839812527,0.033414668117948805,0.009997058725300814,0.03335536063443516,0.012877227019346326,0.03323453686498859,0.03341696041461759,0.0333495198321617,0.03253314342186784,0.027096927715233077,0.032997576389648196,0.0331115118835091,0.033099606362565766,0.03327696332932587,0.03268358867392944,0.03319593595535673,0.033094228573857846,0.03325038559162535,0.032868976269416476,0.03313076489841049,0.0335458337887568,0.033413525764807626,0.03325667422669177,0.03339859167972247,0.03288799018714883,0.033016590307380654,0.0331566860676944,0.024959509084174446,0.03326147135084626,0.03318484260574955,0.03306124075490968,0.033323090106994274,0.033374480817575894,0.03330025442974981,0.03341570420568158,0.03320046741598982,0.03231948163733767,0.033391354246366106,0.03354065335009318,0.031206966304757278,0.03330793590070597,0.033319454311946904,0.032959427108002426,0.03318838352096803,0.032981219107127965,0.03294930153265103,0.030423915485602762,0.032895967683171504,0.03359183532505098,0.032801702675459635,0.03317580625083525,0.03328059532918017,0.03250379898835358,0.03328193882755895,0.03332829711201016,0.033086645777923814,0.032491274850925046,0.03325949785040295,0.03335813871582829,0.03105911316962408,0.03302249942313092,0.033613615938597116,0.020780659847463606,0.033311939829489885,0.03362485350554433,0.033397995834396295,0.03154324318990573,0.03280426063564952,0.03310866928383213,0.032693319549192,0.0332744850681924,0.03338834086299694,0.0337220939446938,0.03308530607473829,0.03327476591248621,0.028525434625520842,0.03361972999477811,0.03335404370240846,0.033418709998664406],\"type\":\"scatter\",\"xaxis\":\"x\",\"yaxis\":\"y\"},{\"marker\":{\"color\":[0,1,2,3,4,5,6,7,8,9,10,11,12,13,14,15,16,17,18,19,20,21,22,23,24,25,26,27,28,29,30,31,32,33,34,35,36,37,38,39,40,41,42,43,44,45,46,47,48,49,50,51,52,53,54,55,56,57,58,59,60,61,62,63,64,65,66,67,68,69,70,71,72,73,74,75,76,77,78,79,80,81,82,83,84,85,86,87,88,89,90,91,92,93,94,95,96,97,98,99,100,101,102,103,104,105,106,107,108,109,110,111,112,113,114,115,116,117,118,119,120,121,122,123,124,125,126,127,128,129,130,131,132,133,134,135,136,137,138,139,140,141,142,143,144,145,146,147,148,149,150,151,152,153,154,155,156,157,158,159,160,161,162,163,164,165,166,167,168,169,170,171,172,173,174,175,176,177,178,179,180,181,182,183,184,185,186,187,188,189,190,191,192,193,194,195,196,197,198,199,200,201,202,203,204,205,206,207,208,209,210,211,212,213,214,215,216,217,218,219,220,221,222,223,224,225,226,227,228,229,230,231,232,233,234,235,236,237,238,239,240,241,242,243,244,245,246,247,248,249,250,251,252,253,254,255,256,257,258,259,260,261,262,263,264,265,266,267,268,269,270,271,272,273,274,275,276,277,278,279,280,281,282,283,284,285,286,287,288,289,290,291,292,293,294,295,296,297,298,299],\"colorbar\":{\"title\":{\"text\":\"Trial\"},\"x\":1.0,\"xpad\":40},\"colorscale\":[[0.0,\"rgb(247,251,255)\"],[0.125,\"rgb(222,235,247)\"],[0.25,\"rgb(198,219,239)\"],[0.375,\"rgb(158,202,225)\"],[0.5,\"rgb(107,174,214)\"],[0.625,\"rgb(66,146,198)\"],[0.75,\"rgb(33,113,181)\"],[0.875,\"rgb(8,81,156)\"],[1.0,\"rgb(8,48,107)\"]],\"line\":{\"color\":\"Grey\",\"width\":0.5},\"showscale\":false},\"mode\":\"markers\",\"name\":\"Feasible Trial\",\"showlegend\":false,\"x\":[16,110,12,1,1,74,40,17,4,1,720,208,104,9,41,24,6,31,47,4,18,49,59,225,58,75,28,169,91,447,61,60,118,37,70,143,25,86,38,15,285,59,65,120,96,42,70,153,35,22,50,58,81,80,29,107,46,79,130,30,187,55,51,102,68,39,22,85,53,44,32,34,27,33,70,19,35,43,97,133,15,50,69,70,60,33,113,40,26,40,83,65,45,39,45,29,36,23,35,38,54,53,44,31,57,48,38,25,32,58,42,46,28,41,21,37,52,26,90,77,19,43,61,59,59,33,63,51,30,74,94,40,49,62,34,81,104,74,78,71,68,67,87,89,105,121,73,84,55,63,46,53,52,72,58,39,55,88,47,59,38,68,80,80,102,44,133,54,93,106,47,89,119,92,80,153,74,95,117,58,38,65,61,80,49,43,42,50,34,43,30,41,42,34,47,43,27,37,48,49,40,61,60,51,35,68,44,56,30,39,38,46,23,55,41,34,39,44,28,33,50,67,69,1,43,73,64,52,38,47,3,60,58,78,43,52,37,67,31,55,41,50,48,65,76,46,57,38,635,50,86,33,63,45,27,40,73,57,49,34,31,25,34,37,42,239,31,41,99,81,83,72,93,64,53,83,113,72,53,18,63,15,46,46,27,36,35,23,35,46,41,52,33,43,28,42,37,46,49,46],\"y\":[0.032855450200993695,0.03217469881347108,0.02443845942483089,0.003056629595219885,0.003056629595219885,0.021065690239370424,0.016462143707266116,0.009889798976208671,0.018580920349522103,0.008368309833497243,0.031610300457852306,0.03167575235909235,0.03181086882598008,0.0315571335968719,0.03337186592948863,0.03044037903353152,0.03143206300627897,0.0296017248393877,0.03279836290547862,0.028398075533452413,0.02755496957773181,0.03297642577816665,0.033463595748169574,0.031892435117378,0.033364146506600946,0.03336624524841854,0.030869622970330905,0.033114642917866255,0.03240168931637974,0.030739113867939677,0.03310675650647944,0.03328582131016179,0.03201061743238502,0.03322006579346897,0.031605727250094376,0.03225867884771894,0.03322798636159411,0.032235941845496385,0.03300422177287147,0.030513322646069596,0.030340903225610786,0.03289900004250654,0.03333655924751971,0.03287655527015729,0.03276111308461186,0.03308379558786065,0.033026226302814224,0.0318275259287599,0.033060569005720325,0.03297782999963595,0.031496311831287205,0.033215393910688756,0.0333457891572852,0.03305369211571419,0.032633875438724605,0.03314250343085487,0.032892829058427976,0.031063640835064115,0.03260840210223359,0.03327718724572237,0.031022656544127714,0.033301032444347636,0.03325856043769235,0.03282337322840413,0.03251881656768819,0.03300934907883092,0.033174614560183,0.031941195759099594,0.03330215582152306,0.033182333983070876,0.03336579362043238,0.03346579696020239,0.03175132224529736,0.0330305224614715,0.03316175644575641,0.03275192871716427,0.03236606004299213,0.0332291173291558,0.03163328035243709,0.032052322810022,0.03321013756816196,0.03300342098711486,0.033322725768451036,0.0331293834481003,0.033035664948203466,0.03296981075648856,0.032779550132983865,0.033517608937224885,0.03308708222513715,0.03210975167292137,0.03321967868376658,0.03333493490484712,0.03352021243973271,0.03349611675835879,0.03331010295600042,0.03319699101905519,0.03344648322221034,0.033075992670723205,0.03161615644089844,0.032639663108293894,0.03347181234136118,0.03322246056035294,0.03335201706926106,0.03309732924666955,0.03319786770867532,0.03303305385530925,0.033226240572740505,0.03273918066333926,0.033067415534181334,0.03309590604923461,0.03321849458350065,0.03331977310817239,0.033129345496168604,0.03372004833558052,0.032984851106982106,0.032912939786983626,0.0323862656513769,0.032941513796286466,0.03321633132339934,0.03320420568125267,0.033256617298794325,0.03332319637240286,0.033393452988183636,0.03342058861927879,0.03329778375900266,0.033084577397651534,0.03327434464604538,0.033243588400675456,0.03301120492828633,0.03304259497091395,0.03238726758237114,0.03329419350627299,0.03326823058986448,0.03320477496022678,0.03286610710338736,0.03343129485918347,0.032236264436915074,0.03343464601474404,0.03174890850244735,0.03348980914732667,0.033379186857094505,0.033076763094934805,0.03341834186492791,0.03317671330200048,0.0332014541662115,0.03292714139978888,0.03324477629613468,0.0324863562805895,0.03334418758577174,0.033098816962388394,0.03298406929719139,0.033418990842958206,0.03295702854592529,0.03330208371285294,0.033492640361424214,0.03320198549325406,0.03293252677888317,0.03276176585783536,0.032784738162033776,0.03337776365965955,0.03226865641053689,0.03321242606963753,0.033433351853876275,0.03323740603101763,0.03332920416317542,0.0331478394724381,0.03304942631860221,0.03277966778397177,0.03340255765657469,0.03308000418989352,0.0330574038146248,0.033517973275768206,0.03314307270982896,0.033201875432652274,0.03315364611797314,0.03317264105973966,0.03314552819980359,0.023292303500078985,0.03266225968836932,0.032624243238484174,0.031232822955757338,0.03316346428267839,0.033536675987661455,0.03286663843042992,0.03344591773842955,0.03368262014063505,0.03320063819968217,0.03323203962788921,0.033000802303834384,0.03352630751994792,0.03303871248831116,0.03344217188278047,0.033245971781980084,0.029112277753488673,0.033545412522316166,0.03334835850305467,0.03332487764297283,0.03287297260781406,0.03341030364581453,0.03314813549750468,0.032714075460584975,0.03320614502495757,0.033336714850439327,0.033319537806196495,0.03328476245126997,0.03291397587471642,0.03324390719690101,0.03280537642243864,0.03328581751496853,0.03342507833278719,0.033283673230833186,0.03311404327734703,0.030300101103946007,0.03327848899697627,0.03352046292248115,0.03306831499496022,0.03332948121227607,0.03290851079656568,0.033391008883788334,0.033319321480186286,0.031908720291228175,0.03346339839812527,0.033414668117948805,0.009997058725300814,0.03335536063443516,0.012877227019346326,0.03323453686498859,0.03341696041461759,0.0333495198321617,0.03253314342186784,0.027096927715233077,0.032997576389648196,0.0331115118835091,0.033099606362565766,0.03327696332932587,0.03268358867392944,0.03319593595535673,0.033094228573857846,0.03325038559162535,0.032868976269416476,0.03313076489841049,0.0335458337887568,0.033413525764807626,0.03325667422669177,0.03339859167972247,0.03288799018714883,0.033016590307380654,0.0331566860676944,0.024959509084174446,0.03326147135084626,0.03318484260574955,0.03306124075490968,0.033323090106994274,0.033374480817575894,0.03330025442974981,0.03341570420568158,0.03320046741598982,0.03231948163733767,0.033391354246366106,0.03354065335009318,0.031206966304757278,0.03330793590070597,0.033319454311946904,0.032959427108002426,0.03318838352096803,0.032981219107127965,0.03294930153265103,0.030423915485602762,0.032895967683171504,0.03359183532505098,0.032801702675459635,0.03317580625083525,0.03328059532918017,0.03250379898835358,0.03328193882755895,0.03332829711201016,0.033086645777923814,0.032491274850925046,0.03325949785040295,0.03335813871582829,0.03105911316962408,0.03302249942313092,0.033613615938597116,0.020780659847463606,0.033311939829489885,0.03362485350554433,0.033397995834396295,0.03154324318990573,0.03280426063564952,0.03310866928383213,0.032693319549192,0.0332744850681924,0.03338834086299694,0.0337220939446938,0.03308530607473829,0.03327476591248621,0.028525434625520842,0.03361972999477811,0.03335404370240846,0.033418709998664406],\"type\":\"scatter\",\"xaxis\":\"x2\",\"yaxis\":\"y2\"}],                        {\"template\":{\"data\":{\"histogram2dcontour\":[{\"type\":\"histogram2dcontour\",\"colorbar\":{\"outlinewidth\":0,\"ticks\":\"\"},\"colorscale\":[[0.0,\"#0d0887\"],[0.1111111111111111,\"#46039f\"],[0.2222222222222222,\"#7201a8\"],[0.3333333333333333,\"#9c179e\"],[0.4444444444444444,\"#bd3786\"],[0.5555555555555556,\"#d8576b\"],[0.6666666666666666,\"#ed7953\"],[0.7777777777777778,\"#fb9f3a\"],[0.8888888888888888,\"#fdca26\"],[1.0,\"#f0f921\"]]}],\"choropleth\":[{\"type\":\"choropleth\",\"colorbar\":{\"outlinewidth\":0,\"ticks\":\"\"}}],\"histogram2d\":[{\"type\":\"histogram2d\",\"colorbar\":{\"outlinewidth\":0,\"ticks\":\"\"},\"colorscale\":[[0.0,\"#0d0887\"],[0.1111111111111111,\"#46039f\"],[0.2222222222222222,\"#7201a8\"],[0.3333333333333333,\"#9c179e\"],[0.4444444444444444,\"#bd3786\"],[0.5555555555555556,\"#d8576b\"],[0.6666666666666666,\"#ed7953\"],[0.7777777777777778,\"#fb9f3a\"],[0.8888888888888888,\"#fdca26\"],[1.0,\"#f0f921\"]]}],\"heatmap\":[{\"type\":\"heatmap\",\"colorbar\":{\"outlinewidth\":0,\"ticks\":\"\"},\"colorscale\":[[0.0,\"#0d0887\"],[0.1111111111111111,\"#46039f\"],[0.2222222222222222,\"#7201a8\"],[0.3333333333333333,\"#9c179e\"],[0.4444444444444444,\"#bd3786\"],[0.5555555555555556,\"#d8576b\"],[0.6666666666666666,\"#ed7953\"],[0.7777777777777778,\"#fb9f3a\"],[0.8888888888888888,\"#fdca26\"],[1.0,\"#f0f921\"]]}],\"heatmapgl\":[{\"type\":\"heatmapgl\",\"colorbar\":{\"outlinewidth\":0,\"ticks\":\"\"},\"colorscale\":[[0.0,\"#0d0887\"],[0.1111111111111111,\"#46039f\"],[0.2222222222222222,\"#7201a8\"],[0.3333333333333333,\"#9c179e\"],[0.4444444444444444,\"#bd3786\"],[0.5555555555555556,\"#d8576b\"],[0.6666666666666666,\"#ed7953\"],[0.7777777777777778,\"#fb9f3a\"],[0.8888888888888888,\"#fdca26\"],[1.0,\"#f0f921\"]]}],\"contourcarpet\":[{\"type\":\"contourcarpet\",\"colorbar\":{\"outlinewidth\":0,\"ticks\":\"\"}}],\"contour\":[{\"type\":\"contour\",\"colorbar\":{\"outlinewidth\":0,\"ticks\":\"\"},\"colorscale\":[[0.0,\"#0d0887\"],[0.1111111111111111,\"#46039f\"],[0.2222222222222222,\"#7201a8\"],[0.3333333333333333,\"#9c179e\"],[0.4444444444444444,\"#bd3786\"],[0.5555555555555556,\"#d8576b\"],[0.6666666666666666,\"#ed7953\"],[0.7777777777777778,\"#fb9f3a\"],[0.8888888888888888,\"#fdca26\"],[1.0,\"#f0f921\"]]}],\"surface\":[{\"type\":\"surface\",\"colorbar\":{\"outlinewidth\":0,\"ticks\":\"\"},\"colorscale\":[[0.0,\"#0d0887\"],[0.1111111111111111,\"#46039f\"],[0.2222222222222222,\"#7201a8\"],[0.3333333333333333,\"#9c179e\"],[0.4444444444444444,\"#bd3786\"],[0.5555555555555556,\"#d8576b\"],[0.6666666666666666,\"#ed7953\"],[0.7777777777777778,\"#fb9f3a\"],[0.8888888888888888,\"#fdca26\"],[1.0,\"#f0f921\"]]}],\"mesh3d\":[{\"type\":\"mesh3d\",\"colorbar\":{\"outlinewidth\":0,\"ticks\":\"\"}}],\"scatter\":[{\"fillpattern\":{\"fillmode\":\"overlay\",\"size\":10,\"solidity\":0.2},\"type\":\"scatter\"}],\"parcoords\":[{\"type\":\"parcoords\",\"line\":{\"colorbar\":{\"outlinewidth\":0,\"ticks\":\"\"}}}],\"scatterpolargl\":[{\"type\":\"scatterpolargl\",\"marker\":{\"colorbar\":{\"outlinewidth\":0,\"ticks\":\"\"}}}],\"bar\":[{\"error_x\":{\"color\":\"#2a3f5f\"},\"error_y\":{\"color\":\"#2a3f5f\"},\"marker\":{\"line\":{\"color\":\"#E5ECF6\",\"width\":0.5},\"pattern\":{\"fillmode\":\"overlay\",\"size\":10,\"solidity\":0.2}},\"type\":\"bar\"}],\"scattergeo\":[{\"type\":\"scattergeo\",\"marker\":{\"colorbar\":{\"outlinewidth\":0,\"ticks\":\"\"}}}],\"scatterpolar\":[{\"type\":\"scatterpolar\",\"marker\":{\"colorbar\":{\"outlinewidth\":0,\"ticks\":\"\"}}}],\"histogram\":[{\"marker\":{\"pattern\":{\"fillmode\":\"overlay\",\"size\":10,\"solidity\":0.2}},\"type\":\"histogram\"}],\"scattergl\":[{\"type\":\"scattergl\",\"marker\":{\"colorbar\":{\"outlinewidth\":0,\"ticks\":\"\"}}}],\"scatter3d\":[{\"type\":\"scatter3d\",\"line\":{\"colorbar\":{\"outlinewidth\":0,\"ticks\":\"\"}},\"marker\":{\"colorbar\":{\"outlinewidth\":0,\"ticks\":\"\"}}}],\"scattermapbox\":[{\"type\":\"scattermapbox\",\"marker\":{\"colorbar\":{\"outlinewidth\":0,\"ticks\":\"\"}}}],\"scatterternary\":[{\"type\":\"scatterternary\",\"marker\":{\"colorbar\":{\"outlinewidth\":0,\"ticks\":\"\"}}}],\"scattercarpet\":[{\"type\":\"scattercarpet\",\"marker\":{\"colorbar\":{\"outlinewidth\":0,\"ticks\":\"\"}}}],\"carpet\":[{\"aaxis\":{\"endlinecolor\":\"#2a3f5f\",\"gridcolor\":\"white\",\"linecolor\":\"white\",\"minorgridcolor\":\"white\",\"startlinecolor\":\"#2a3f5f\"},\"baxis\":{\"endlinecolor\":\"#2a3f5f\",\"gridcolor\":\"white\",\"linecolor\":\"white\",\"minorgridcolor\":\"white\",\"startlinecolor\":\"#2a3f5f\"},\"type\":\"carpet\"}],\"table\":[{\"cells\":{\"fill\":{\"color\":\"#EBF0F8\"},\"line\":{\"color\":\"white\"}},\"header\":{\"fill\":{\"color\":\"#C8D4E3\"},\"line\":{\"color\":\"white\"}},\"type\":\"table\"}],\"barpolar\":[{\"marker\":{\"line\":{\"color\":\"#E5ECF6\",\"width\":0.5},\"pattern\":{\"fillmode\":\"overlay\",\"size\":10,\"solidity\":0.2}},\"type\":\"barpolar\"}],\"pie\":[{\"automargin\":true,\"type\":\"pie\"}]},\"layout\":{\"autotypenumbers\":\"strict\",\"colorway\":[\"#636efa\",\"#EF553B\",\"#00cc96\",\"#ab63fa\",\"#FFA15A\",\"#19d3f3\",\"#FF6692\",\"#B6E880\",\"#FF97FF\",\"#FECB52\"],\"font\":{\"color\":\"#2a3f5f\"},\"hovermode\":\"closest\",\"hoverlabel\":{\"align\":\"left\"},\"paper_bgcolor\":\"white\",\"plot_bgcolor\":\"#E5ECF6\",\"polar\":{\"bgcolor\":\"#E5ECF6\",\"angularaxis\":{\"gridcolor\":\"white\",\"linecolor\":\"white\",\"ticks\":\"\"},\"radialaxis\":{\"gridcolor\":\"white\",\"linecolor\":\"white\",\"ticks\":\"\"}},\"ternary\":{\"bgcolor\":\"#E5ECF6\",\"aaxis\":{\"gridcolor\":\"white\",\"linecolor\":\"white\",\"ticks\":\"\"},\"baxis\":{\"gridcolor\":\"white\",\"linecolor\":\"white\",\"ticks\":\"\"},\"caxis\":{\"gridcolor\":\"white\",\"linecolor\":\"white\",\"ticks\":\"\"}},\"coloraxis\":{\"colorbar\":{\"outlinewidth\":0,\"ticks\":\"\"}},\"colorscale\":{\"sequential\":[[0.0,\"#0d0887\"],[0.1111111111111111,\"#46039f\"],[0.2222222222222222,\"#7201a8\"],[0.3333333333333333,\"#9c179e\"],[0.4444444444444444,\"#bd3786\"],[0.5555555555555556,\"#d8576b\"],[0.6666666666666666,\"#ed7953\"],[0.7777777777777778,\"#fb9f3a\"],[0.8888888888888888,\"#fdca26\"],[1.0,\"#f0f921\"]],\"sequentialminus\":[[0.0,\"#0d0887\"],[0.1111111111111111,\"#46039f\"],[0.2222222222222222,\"#7201a8\"],[0.3333333333333333,\"#9c179e\"],[0.4444444444444444,\"#bd3786\"],[0.5555555555555556,\"#d8576b\"],[0.6666666666666666,\"#ed7953\"],[0.7777777777777778,\"#fb9f3a\"],[0.8888888888888888,\"#fdca26\"],[1.0,\"#f0f921\"]],\"diverging\":[[0,\"#8e0152\"],[0.1,\"#c51b7d\"],[0.2,\"#de77ae\"],[0.3,\"#f1b6da\"],[0.4,\"#fde0ef\"],[0.5,\"#f7f7f7\"],[0.6,\"#e6f5d0\"],[0.7,\"#b8e186\"],[0.8,\"#7fbc41\"],[0.9,\"#4d9221\"],[1,\"#276419\"]]},\"xaxis\":{\"gridcolor\":\"white\",\"linecolor\":\"white\",\"ticks\":\"\",\"title\":{\"standoff\":15},\"zerolinecolor\":\"white\",\"automargin\":true,\"zerolinewidth\":2},\"yaxis\":{\"gridcolor\":\"white\",\"linecolor\":\"white\",\"ticks\":\"\",\"title\":{\"standoff\":15},\"zerolinecolor\":\"white\",\"automargin\":true,\"zerolinewidth\":2},\"scene\":{\"xaxis\":{\"backgroundcolor\":\"#E5ECF6\",\"gridcolor\":\"white\",\"linecolor\":\"white\",\"showbackground\":true,\"ticks\":\"\",\"zerolinecolor\":\"white\",\"gridwidth\":2},\"yaxis\":{\"backgroundcolor\":\"#E5ECF6\",\"gridcolor\":\"white\",\"linecolor\":\"white\",\"showbackground\":true,\"ticks\":\"\",\"zerolinecolor\":\"white\",\"gridwidth\":2},\"zaxis\":{\"backgroundcolor\":\"#E5ECF6\",\"gridcolor\":\"white\",\"linecolor\":\"white\",\"showbackground\":true,\"ticks\":\"\",\"zerolinecolor\":\"white\",\"gridwidth\":2}},\"shapedefaults\":{\"line\":{\"color\":\"#2a3f5f\"}},\"annotationdefaults\":{\"arrowcolor\":\"#2a3f5f\",\"arrowhead\":0,\"arrowwidth\":1},\"geo\":{\"bgcolor\":\"white\",\"landcolor\":\"#E5ECF6\",\"subunitcolor\":\"white\",\"showland\":true,\"showlakes\":true,\"lakecolor\":\"white\"},\"title\":{\"x\":0.05},\"mapbox\":{\"style\":\"light\"}}},\"xaxis\":{\"anchor\":\"y\",\"domain\":[0.0,0.45],\"title\":{\"text\":\"num_factors\"},\"type\":\"log\"},\"yaxis\":{\"anchor\":\"x\",\"domain\":[0.0,1.0],\"title\":{\"text\":\"Objective Value\"}},\"xaxis2\":{\"anchor\":\"y2\",\"domain\":[0.55,1.0],\"title\":{\"text\":\"topK\"},\"type\":\"log\"},\"yaxis2\":{\"anchor\":\"x2\",\"domain\":[0.0,1.0],\"matches\":\"y\",\"showticklabels\":false},\"title\":{\"text\":\"Slice Plot\"}},                        {\"responsive\": true}                    ).then(function(){\n",
       "                            \n",
       "var gd = document.getElementById('976e9993-1413-4d27-98f3-c34b26ecb5de');\n",
       "var x = new MutationObserver(function (mutations, observer) {{\n",
       "        var display = window.getComputedStyle(gd).display;\n",
       "        if (!display || display === 'none') {{\n",
       "            console.log([gd, 'removed!']);\n",
       "            Plotly.purge(gd);\n",
       "            observer.disconnect();\n",
       "        }}\n",
       "}});\n",
       "\n",
       "// Listen for the removal of the full notebook cells\n",
       "var notebookContainer = gd.closest('#notebook-container');\n",
       "if (notebookContainer) {{\n",
       "    x.observe(notebookContainer, {childList: true});\n",
       "}}\n",
       "\n",
       "// Listen for the clearing of the current output cell\n",
       "var outputEl = gd.closest('.output');\n",
       "if (outputEl) {{\n",
       "    x.observe(outputEl, {childList: true});\n",
       "}}\n",
       "\n",
       "                        })                };                });            </script>        </div>"
      ]
     },
     "metadata": {},
     "output_type": "display_data"
    }
   ],
   "source": [
    "if config['tune_parameters']:\n",
    "    fig = optuna.visualization.plot_slice(study)\n",
    "    fig.show()"
   ]
  },
  {
   "cell_type": "code",
   "execution_count": 19,
   "id": "b69d0e40",
   "metadata": {
    "execution": {
     "iopub.execute_input": "2023-12-01T13:24:14.718554Z",
     "iopub.status.busy": "2023-12-01T13:24:14.717340Z",
     "iopub.status.idle": "2023-12-01T13:24:15.646657Z",
     "shell.execute_reply": "2023-12-01T13:24:15.645574Z"
    },
    "papermill": {
     "duration": 1.034521,
     "end_time": "2023-12-01T13:24:15.649834",
     "exception": false,
     "start_time": "2023-12-01T13:24:14.615313",
     "status": "completed"
    },
    "tags": []
   },
   "outputs": [],
   "source": [
    "if config['tune_parameters']:\n",
    "    with open('/kaggle/working/best_params_puresvd_item.json', 'w') as params_file:\n",
    "        json.dump(study.best_params, params_file)\n",
    "        \n",
    "    if config['save_github']: \n",
    "        upload_file(\n",
    "            '/kaggle/working/best_params_puresvd_item.json', \n",
    "            'tuning_results/best_params_puresvd_item.json', \n",
    "            'User KNN tuning results (from kaggle notebook)'\n",
    "        )\n",
    "elif config['copy_prev_best_params']:\n",
    "    shutil.copyfile(\n",
    "        '/kaggle/working/Recsys_Challenge_2023/tuning_results/best_params_puresvd_item.json', \n",
    "        '/kaggle/working/best_params_puresvd_item.json'\n",
    "    )"
   ]
  },
  {
   "cell_type": "code",
   "execution_count": 20,
   "id": "1103e994",
   "metadata": {
    "execution": {
     "iopub.execute_input": "2023-12-01T13:24:15.846587Z",
     "iopub.status.busy": "2023-12-01T13:24:15.846102Z",
     "iopub.status.idle": "2023-12-01T13:24:17.197121Z",
     "shell.execute_reply": "2023-12-01T13:24:17.196003Z"
    },
    "papermill": {
     "duration": 1.453722,
     "end_time": "2023-12-01T13:24:17.200028",
     "exception": false,
     "start_time": "2023-12-01T13:24:15.746306",
     "status": "completed"
    },
    "tags": []
   },
   "outputs": [],
   "source": [
    "if config['save_github'] and config['tune_parameters']:\n",
    "    upload_file(\n",
    "        config['database_path'], \n",
    "        'tuning_results/tuning_puresvd.db',\n",
    "        'Tuning db updated results (from kaggle notebook)'\n",
    "    )"
   ]
  }
 ],
 "metadata": {
  "kaggle": {
   "accelerator": "none",
   "dataSources": [
    {
     "databundleVersionId": 6919098,
     "sourceId": 62803,
     "sourceType": "competition"
    }
   ],
   "dockerImageVersionId": 30587,
   "isGpuEnabled": false,
   "isInternetEnabled": true,
   "language": "python",
   "sourceType": "notebook"
  },
  "kernelspec": {
   "display_name": "Python 3",
   "language": "python",
   "name": "python3"
  },
  "language_info": {
   "codemirror_mode": {
    "name": "ipython",
    "version": 3
   },
   "file_extension": ".py",
   "mimetype": "text/x-python",
   "name": "python",
   "nbconvert_exporter": "python",
   "pygments_lexer": "ipython3",
   "version": "3.10.12"
  },
  "papermill": {
   "default_parameters": {},
   "duration": 9394.647228,
   "end_time": "2023-12-01T13:24:19.146285",
   "environment_variables": {},
   "exception": null,
   "input_path": "__notebook__.ipynb",
   "output_path": "__notebook__.ipynb",
   "parameters": {},
   "start_time": "2023-12-01T10:47:44.499057",
   "version": "2.4.0"
  }
 },
 "nbformat": 4,
 "nbformat_minor": 5
}
