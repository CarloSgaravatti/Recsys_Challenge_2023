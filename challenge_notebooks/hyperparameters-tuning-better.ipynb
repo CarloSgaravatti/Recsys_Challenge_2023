{
 "cells": [
  {
   "cell_type": "code",
   "execution_count": 1,
   "id": "a9c13549",
   "metadata": {
    "execution": {
     "iopub.execute_input": "2023-11-27T20:30:50.927297Z",
     "iopub.status.busy": "2023-11-27T20:30:50.926781Z",
     "iopub.status.idle": "2023-11-27T20:30:54.807916Z",
     "shell.execute_reply": "2023-11-27T20:30:54.806493Z"
    },
    "papermill": {
     "duration": 3.898157,
     "end_time": "2023-11-27T20:30:54.810718",
     "exception": false,
     "start_time": "2023-11-27T20:30:50.912561",
     "status": "completed"
    },
    "tags": []
   },
   "outputs": [
    {
     "name": "stdout",
     "output_type": "stream",
     "text": [
      "Cloning into 'Recsys_Challenge_2023'...\r\n",
      "remote: Enumerating objects: 873, done.\u001b[K\r\n",
      "remote: Counting objects: 100% (303/303), done.\u001b[K\r\n",
      "remote: Compressing objects: 100% (142/142), done.\u001b[K\r\n",
      "remote: Total 873 (delta 229), reused 211 (delta 159), pack-reused 570\u001b[K\r\n",
      "Receiving objects: 100% (873/873), 14.20 MiB | 18.20 MiB/s, done.\r\n",
      "Resolving deltas: 100% (569/569), done.\r\n"
     ]
    }
   ],
   "source": [
    "from kaggle_secrets import UserSecretsClient\n",
    "secret_label = \"Token\"\n",
    "token = UserSecretsClient().get_secret(secret_label)\n",
    "\n",
    "! git clone https://{token}@github.com/CarloSgaravatti/Recsys_Challenge_2023.git"
   ]
  },
  {
   "cell_type": "code",
   "execution_count": 2,
   "id": "5eda915c",
   "metadata": {
    "execution": {
     "iopub.execute_input": "2023-11-27T20:30:54.841824Z",
     "iopub.status.busy": "2023-11-27T20:30:54.841398Z",
     "iopub.status.idle": "2023-11-27T20:31:08.982552Z",
     "shell.execute_reply": "2023-11-27T20:31:08.981250Z"
    },
    "papermill": {
     "duration": 14.158767,
     "end_time": "2023-11-27T20:31:08.985195",
     "exception": false,
     "start_time": "2023-11-27T20:30:54.826428",
     "status": "completed"
    },
    "tags": []
   },
   "outputs": [
    {
     "name": "stdout",
     "output_type": "stream",
     "text": [
      "Collecting PyGithub\r\n",
      "  Obtaining dependency information for PyGithub from https://files.pythonhosted.org/packages/be/04/810d131be173cba445d3658a45512b2b2b3d0960d52c4a300d6ec5e00f52/PyGithub-2.1.1-py3-none-any.whl.metadata\r\n",
      "  Downloading PyGithub-2.1.1-py3-none-any.whl.metadata (2.2 kB)\r\n",
      "Requirement already satisfied: requests in /opt/conda/lib/python3.10/site-packages (2.31.0)\r\n",
      "Collecting pynacl>=1.4.0 (from PyGithub)\r\n",
      "  Downloading PyNaCl-1.5.0-cp36-abi3-manylinux_2_17_x86_64.manylinux2014_x86_64.manylinux_2_24_x86_64.whl (856 kB)\r\n",
      "\u001b[2K     \u001b[90m━━━━━━━━━━━━━━━━━━━━━━━━━━━━━━━━━━━━━━\u001b[0m \u001b[32m856.7/856.7 kB\u001b[0m \u001b[31m11.3 MB/s\u001b[0m eta \u001b[36m0:00:00\u001b[0m\r\n",
      "\u001b[?25hRequirement already satisfied: python-dateutil in /opt/conda/lib/python3.10/site-packages (from PyGithub) (2.8.2)\r\n",
      "Requirement already satisfied: pyjwt[crypto]>=2.4.0 in /opt/conda/lib/python3.10/site-packages (from PyGithub) (2.8.0)\r\n",
      "Requirement already satisfied: typing-extensions>=4.0.0 in /opt/conda/lib/python3.10/site-packages (from PyGithub) (4.5.0)\r\n",
      "Requirement already satisfied: urllib3>=1.26.0 in /opt/conda/lib/python3.10/site-packages (from PyGithub) (1.26.15)\r\n",
      "Requirement already satisfied: Deprecated in /opt/conda/lib/python3.10/site-packages (from PyGithub) (1.2.14)\r\n",
      "Requirement already satisfied: charset-normalizer<4,>=2 in /opt/conda/lib/python3.10/site-packages (from requests) (3.2.0)\r\n",
      "Requirement already satisfied: idna<4,>=2.5 in /opt/conda/lib/python3.10/site-packages (from requests) (3.4)\r\n",
      "Requirement already satisfied: certifi>=2017.4.17 in /opt/conda/lib/python3.10/site-packages (from requests) (2023.7.22)\r\n",
      "Requirement already satisfied: cryptography>=3.4.0 in /opt/conda/lib/python3.10/site-packages (from pyjwt[crypto]>=2.4.0->PyGithub) (40.0.2)\r\n",
      "Requirement already satisfied: cffi>=1.4.1 in /opt/conda/lib/python3.10/site-packages (from pynacl>=1.4.0->PyGithub) (1.15.1)\r\n",
      "Requirement already satisfied: wrapt<2,>=1.10 in /opt/conda/lib/python3.10/site-packages (from Deprecated->PyGithub) (1.15.0)\r\n",
      "Requirement already satisfied: six>=1.5 in /opt/conda/lib/python3.10/site-packages (from python-dateutil->PyGithub) (1.16.0)\r\n",
      "Requirement already satisfied: pycparser in /opt/conda/lib/python3.10/site-packages (from cffi>=1.4.1->pynacl>=1.4.0->PyGithub) (2.21)\r\n",
      "Downloading PyGithub-2.1.1-py3-none-any.whl (302 kB)\r\n",
      "\u001b[2K   \u001b[90m━━━━━━━━━━━━━━━━━━━━━━━━━━━━━━━━━━━━━━━━\u001b[0m \u001b[32m302.9/302.9 kB\u001b[0m \u001b[31m26.8 MB/s\u001b[0m eta \u001b[36m0:00:00\u001b[0m\r\n",
      "\u001b[?25hInstalling collected packages: pynacl, PyGithub\r\n",
      "Successfully installed PyGithub-2.1.1 pynacl-1.5.0\r\n"
     ]
    }
   ],
   "source": [
    "! pip install PyGithub requests"
   ]
  },
  {
   "cell_type": "code",
   "execution_count": 3,
   "id": "81ad7d50",
   "metadata": {
    "_kg_hide-output": true,
    "execution": {
     "iopub.execute_input": "2023-11-27T20:31:09.016677Z",
     "iopub.status.busy": "2023-11-27T20:31:09.015532Z",
     "iopub.status.idle": "2023-11-27T20:33:30.376507Z",
     "shell.execute_reply": "2023-11-27T20:33:30.374438Z"
    },
    "papermill": {
     "duration": 141.37934,
     "end_time": "2023-11-27T20:33:30.379083",
     "exception": false,
     "start_time": "2023-11-27T20:31:08.999743",
     "status": "completed"
    },
    "scrolled": true,
    "tags": []
   },
   "outputs": [
    {
     "name": "stdout",
     "output_type": "stream",
     "text": [
      "run_compile_all_cython: Found 10 Cython files in 4 folders...\r\n",
      "run_compile_all_cython: All files will be compiled using your current python environment: '/opt/conda/bin/python'\r\n",
      "Compiling [1/10]: MatrixFactorizationImpressions_Cython_Epoch.pyx... \r\n",
      "In file included from \u001b[01m\u001b[K/opt/conda/lib/python3.10/site-packages/numpy/core/include/numpy/ndarraytypes.h:1940\u001b[m\u001b[K,\r\n",
      "                 from \u001b[01m\u001b[K/opt/conda/lib/python3.10/site-packages/numpy/core/include/numpy/ndarrayobject.h:12\u001b[m\u001b[K,\r\n",
      "                 from \u001b[01m\u001b[K/opt/conda/lib/python3.10/site-packages/numpy/core/include/numpy/arrayobject.h:5\u001b[m\u001b[K,\r\n",
      "                 from \u001b[01m\u001b[KMatrixFactorizationImpressions_Cython_Epoch.c:1109\u001b[m\u001b[K:\r\n",
      "\u001b[01m\u001b[K/opt/conda/lib/python3.10/site-packages/numpy/core/include/numpy/npy_1_7_deprecated_api.h:17:2:\u001b[m\u001b[K \u001b[01;35m\u001b[Kwarning: \u001b[m\u001b[K#warning \"Using deprecated NumPy API, disable it with \" \"#define NPY_NO_DEPRECATED_API NPY_1_7_API_VERSION\" [\u001b[01;35m\u001b[K-Wcpp\u001b[m\u001b[K]\r\n",
      "   17 | #\u001b[01;35m\u001b[Kwarning\u001b[m\u001b[K \"Using deprecated NumPy API, disable it with \" \\\r\n",
      "      |  \u001b[01;35m\u001b[K^~~~~~~\u001b[m\u001b[K\r\n",
      "\u001b[01m\u001b[KMatrixFactorizationImpressions_Cython_Epoch.c:\u001b[m\u001b[K In function ‘\u001b[01m\u001b[K__pyx_f_43MatrixFactorizationImpressions_Cython_Epoch_32MatrixFactorization_Cython_Epoch_sampleBPR_Cython\u001b[m\u001b[K’:\r\n",
      "\u001b[01m\u001b[KMatrixFactorizationImpressions_Cython_Epoch.c:29664:17:\u001b[m\u001b[K \u001b[01;35m\u001b[Kwarning: \u001b[m\u001b[K‘\u001b[01m\u001b[K__pyx_v_start_pos_impression_items\u001b[m\u001b[K’ may be used uninitialized in this function [\u001b[01;35m\u001b[K-Wmaybe-uninitialized\u001b[m\u001b[K]\r\n",
      "29664 |       \u001b[01;35m\u001b[K__pyx_t_4 = (__pyx_v_start_pos_impression_items + __pyx_v_index)\u001b[m\u001b[K;\r\n",
      "      |       \u001b[01;35m\u001b[K~~~~~~~~~~^~~~~~~~~~~~~~~~~~~~~~~~~~~~~~~~~~~~~~~~~~~~~~~~~~~~~~\u001b[m\u001b[K\r\n",
      "\u001b[01m\u001b[KMatrixFactorizationImpressions_Cython_Epoch.c:\u001b[m\u001b[K In function ‘\u001b[01m\u001b[K__pyx_pf_43MatrixFactorizationImpressions_Cython_Epoch_32MatrixFactorization_Cython_Epoch_10epochIteration_Cython_ASY_SVD_SGD\u001b[m\u001b[K’:\r\n",
      "\u001b[01m\u001b[KMatrixFactorizationImpressions_Cython_Epoch.c:25474:7:\u001b[m\u001b[K \u001b[01;35m\u001b[Kwarning: \u001b[m\u001b[K‘\u001b[01m\u001b[K__pyx_v_end_pos_seen_items\u001b[m\u001b[K’ may be used uninitialized in this function [\u001b[01;35m\u001b[K-Wmaybe-uninitialized\u001b[m\u001b[K]\r\n",
      "25474 |       \u001b[01;35m\u001b[Kfor\u001b[m\u001b[K (__pyx_t_21 = __pyx_v_start_pos_seen_items; __pyx_t_21 < __pyx_t_20; __pyx_t_21+=1) {\r\n",
      "      |       \u001b[01;35m\u001b[K^~~\u001b[m\u001b[K\r\n",
      "\u001b[01m\u001b[KMatrixFactorizationImpressions_Cython_Epoch.c:25474:7:\u001b[m\u001b[K \u001b[01;35m\u001b[Kwarning: \u001b[m\u001b[K‘\u001b[01m\u001b[K__pyx_v_start_pos_seen_items\u001b[m\u001b[K’ may be used uninitialized in this function [\u001b[01;35m\u001b[K-Wmaybe-uninitialized\u001b[m\u001b[K]\r\n",
      "/opt/conda/lib/python3.10/site-packages/Cython/Compiler/Main.py:381: FutureWarning: Cython directive 'language_level' not set, using '3str' for now (Py3). This has changed from earlier releases! File: /kaggle/working/Recsys_Challenge_2023/Recommenders/MatrixFactorization/Cython/MatrixFactorizationImpressions_Cython_Epoch.pyx\r\n",
      "  tree = Parsing.p_module(s, pxd, full_module_name)\r\n",
      "Compiling [1/10]: MatrixFactorizationImpressions_Cython_Epoch.pyx... PASS\r\n",
      "\r\n",
      "Compiling [2/10]: MatrixFactorization_Cython_Epoch.pyx... \r\n",
      "In file included from \u001b[01m\u001b[K/opt/conda/lib/python3.10/site-packages/numpy/core/include/numpy/ndarraytypes.h:1940\u001b[m\u001b[K,\r\n",
      "                 from \u001b[01m\u001b[K/opt/conda/lib/python3.10/site-packages/numpy/core/include/numpy/ndarrayobject.h:12\u001b[m\u001b[K,\r\n",
      "                 from \u001b[01m\u001b[K/opt/conda/lib/python3.10/site-packages/numpy/core/include/numpy/arrayobject.h:5\u001b[m\u001b[K,\r\n",
      "                 from \u001b[01m\u001b[KMatrixFactorization_Cython_Epoch.c:1109\u001b[m\u001b[K:\r\n",
      "\u001b[01m\u001b[K/opt/conda/lib/python3.10/site-packages/numpy/core/include/numpy/npy_1_7_deprecated_api.h:17:2:\u001b[m\u001b[K \u001b[01;35m\u001b[Kwarning: \u001b[m\u001b[K#warning \"Using deprecated NumPy API, disable it with \" \"#define NPY_NO_DEPRECATED_API NPY_1_7_API_VERSION\" [\u001b[01;35m\u001b[K-Wcpp\u001b[m\u001b[K]\r\n",
      "   17 | #\u001b[01;35m\u001b[Kwarning\u001b[m\u001b[K \"Using deprecated NumPy API, disable it with \" \\\r\n",
      "      |  \u001b[01;35m\u001b[K^~~~~~~\u001b[m\u001b[K\r\n",
      "\u001b[01m\u001b[KMatrixFactorization_Cython_Epoch.c:\u001b[m\u001b[K In function ‘\u001b[01m\u001b[K__pyx_pf_32MatrixFactorization_Cython_Epoch_32MatrixFactorization_Cython_Epoch_10epochIteration_Cython_ASY_SVD_SGD\u001b[m\u001b[K’:\r\n",
      "\u001b[01m\u001b[KMatrixFactorization_Cython_Epoch.c:25614:9:\u001b[m\u001b[K \u001b[01;35m\u001b[Kwarning: \u001b[m\u001b[K‘\u001b[01m\u001b[K__pyx_v_end_pos_seen_items\u001b[m\u001b[K’ may be used uninitialized in this function [\u001b[01;35m\u001b[K-Wmaybe-uninitialized\u001b[m\u001b[K]\r\n",
      "25614 |         \u001b[01;35m\u001b[Kfor\u001b[m\u001b[K (__pyx_t_21 = __pyx_v_start_pos_seen_items; __pyx_t_21 < __pyx_t_20; __pyx_t_21+=1) {\r\n",
      "      |         \u001b[01;35m\u001b[K^~~\u001b[m\u001b[K\r\n",
      "\u001b[01m\u001b[KMatrixFactorization_Cython_Epoch.c:25614:9:\u001b[m\u001b[K \u001b[01;35m\u001b[Kwarning: \u001b[m\u001b[K‘\u001b[01m\u001b[K__pyx_v_start_pos_seen_items\u001b[m\u001b[K’ may be used uninitialized in this function [\u001b[01;35m\u001b[K-Wmaybe-uninitialized\u001b[m\u001b[K]\r\n",
      "/opt/conda/lib/python3.10/site-packages/Cython/Compiler/Main.py:381: FutureWarning: Cython directive 'language_level' not set, using '3str' for now (Py3). This has changed from earlier releases! File: /kaggle/working/Recsys_Challenge_2023/Recommenders/MatrixFactorization/Cython/MatrixFactorization_Cython_Epoch.pyx\r\n",
      "  tree = Parsing.p_module(s, pxd, full_module_name)\r\n",
      "Compiling [2/10]: MatrixFactorization_Cython_Epoch.pyx... PASS\r\n",
      "\r\n",
      "Compiling [3/10]: Compute_Similarity_Cython.pyx... \r\n",
      "warning: Compute_Similarity_Cython.pyx:21:0: The 'IF' statement is deprecated and will be removed in a future Cython version. Consider using runtime conditions or C macros instead. See https://github.com/cython/cython/issues/4310\r\n",
      "warning: Compute_Similarity_Cython.pyx:22:4: The 'DEF' statement is deprecated and will be removed in a future Cython version. Consider using global variables, constants, and in-place literals instead. See https://github.com/cython/cython/issues/4310\r\n",
      "warning: Compute_Similarity_Cython.pyx:24:4: The 'DEF' statement is deprecated and will be removed in a future Cython version. Consider using global variables, constants, and in-place literals instead. See https://github.com/cython/cython/issues/4310\r\n",
      "warning: Compute_Similarity_Cython.pyx:26:4: The 'DEF' statement is deprecated and will be removed in a future Cython version. Consider using global variables, constants, and in-place literals instead. See https://github.com/cython/cython/issues/4310\r\n",
      "In file included from \u001b[01m\u001b[K/opt/conda/lib/python3.10/site-packages/numpy/core/include/numpy/ndarraytypes.h:1940\u001b[m\u001b[K,\r\n",
      "                 from \u001b[01m\u001b[K/opt/conda/lib/python3.10/site-packages/numpy/core/include/numpy/ndarrayobject.h:12\u001b[m\u001b[K,\r\n",
      "                 from \u001b[01m\u001b[K/opt/conda/lib/python3.10/site-packages/numpy/core/include/numpy/arrayobject.h:5\u001b[m\u001b[K,\r\n",
      "                 from \u001b[01m\u001b[KCompute_Similarity_Cython.c:1109\u001b[m\u001b[K:\r\n",
      "\u001b[01m\u001b[K/opt/conda/lib/python3.10/site-packages/numpy/core/include/numpy/npy_1_7_deprecated_api.h:17:2:\u001b[m\u001b[K \u001b[01;35m\u001b[Kwarning: \u001b[m\u001b[K#warning \"Using deprecated NumPy API, disable it with \" \"#define NPY_NO_DEPRECATED_API NPY_1_7_API_VERSION\" [\u001b[01;35m\u001b[K-Wcpp\u001b[m\u001b[K]\r\n",
      "   17 | #\u001b[01;35m\u001b[Kwarning\u001b[m\u001b[K \"Using deprecated NumPy API, disable it with \" \\\r\n",
      "      |  \u001b[01;35m\u001b[K^~~~~~~\u001b[m\u001b[K\r\n",
      "/opt/conda/lib/python3.10/site-packages/Cython/Compiler/Main.py:381: FutureWarning: Cython directive 'language_level' not set, using '3str' for now (Py3). This has changed from earlier releases! File: /kaggle/working/Recsys_Challenge_2023/Recommenders/Similarity/Cython/Compute_Similarity_Cython.pyx\r\n",
      "  tree = Parsing.p_module(s, pxd, full_module_name)\r\n",
      "warning: Compute_Similarity_Cython.pyx:21:0: The 'IF' statement is deprecated and will be removed in a future Cython version. Consider using runtime conditions or C macros instead. See https://github.com/cython/cython/issues/4310\r\n",
      "warning: Compute_Similarity_Cython.pyx:22:4: The 'DEF' statement is deprecated and will be removed in a future Cython version. Consider using global variables, constants, and in-place literals instead. See https://github.com/cython/cython/issues/4310\r\n",
      "warning: Compute_Similarity_Cython.pyx:24:4: The 'DEF' statement is deprecated and will be removed in a future Cython version. Consider using global variables, constants, and in-place literals instead. See https://github.com/cython/cython/issues/4310\r\n",
      "warning: Compute_Similarity_Cython.pyx:26:4: The 'DEF' statement is deprecated and will be removed in a future Cython version. Consider using global variables, constants, and in-place literals instead. See https://github.com/cython/cython/issues/4310\r\n",
      "Compiling [3/10]: Compute_Similarity_Cython.pyx... PASS\r\n",
      "\r\n",
      "Compiling [4/10]: SLIM_BPR_Cython_Epoch.pyx... \r\n",
      "warning: SLIM_BPR_Cython_Epoch.pyx:24:0: The 'IF' statement is deprecated and will be removed in a future Cython version. Consider using runtime conditions or C macros instead. See https://github.com/cython/cython/issues/4310\r\n",
      "warning: SLIM_BPR_Cython_Epoch.pyx:25:4: The 'DEF' statement is deprecated and will be removed in a future Cython version. Consider using global variables, constants, and in-place literals instead. See https://github.com/cython/cython/issues/4310\r\n",
      "warning: SLIM_BPR_Cython_Epoch.pyx:27:4: The 'DEF' statement is deprecated and will be removed in a future Cython version. Consider using global variables, constants, and in-place literals instead. See https://github.com/cython/cython/issues/4310\r\n",
      "warning: SLIM_BPR_Cython_Epoch.pyx:29:4: The 'DEF' statement is deprecated and will be removed in a future Cython version. Consider using global variables, constants, and in-place literals instead. See https://github.com/cython/cython/issues/4310\r\n",
      "warning: SLIM_BPR_Cython_Epoch.pyx:632:34: Non-trivial type declarators in shared declaration (e.g. mix of pointers and values). Each pointer declaration should be on its own line.\r\n",
      "warning: SLIM_BPR_Cython_Epoch.pyx:632:66: Non-trivial type declarators in shared declaration (e.g. mix of pointers and values). Each pointer declaration should be on its own line.\r\n",
      "warning: SLIM_BPR_Cython_Epoch.pyx:817:35: Non-trivial type declarators in shared declaration (e.g. mix of pointers and values). Each pointer declaration should be on its own line.\r\n",
      "warning: SLIM_BPR_Cython_Epoch.pyx:817:52: Non-trivial type declarators in shared declaration (e.g. mix of pointers and values). Each pointer declaration should be on its own line.\r\n",
      "warning: SLIM_BPR_Cython_Epoch.pyx:916:35: Non-trivial type declarators in shared declaration (e.g. mix of pointers and values). Each pointer declaration should be on its own line.\r\n",
      "warning: SLIM_BPR_Cython_Epoch.pyx:916:53: Non-trivial type declarators in shared declaration (e.g. mix of pointers and values). Each pointer declaration should be on its own line.\r\n",
      "warning: SLIM_BPR_Cython_Epoch.pyx:916:69: Non-trivial type declarators in shared declaration (e.g. mix of pointers and values). Each pointer declaration should be on its own line.\r\n",
      "warning: SLIM_BPR_Cython_Epoch.pyx:1051:35: Non-trivial type declarators in shared declaration (e.g. mix of pointers and values). Each pointer declaration should be on its own line.\r\n",
      "warning: SLIM_BPR_Cython_Epoch.pyx:1051:42: Non-trivial type declarators in shared declaration (e.g. mix of pointers and values). Each pointer declaration should be on its own line.\r\n",
      "warning: SLIM_BPR_Cython_Epoch.pyx:1052:35: Non-trivial type declarators in shared declaration (e.g. mix of pointers and values). Each pointer declaration should be on its own line.\r\n",
      "warning: SLIM_BPR_Cython_Epoch.pyx:1052:53: Non-trivial type declarators in shared declaration (e.g. mix of pointers and values). Each pointer declaration should be on its own line.\r\n",
      "\r\n",
      "Error compiling Cython file:\r\n",
      "------------------------------------------------------------\r\n",
      "...\r\n",
      "            vector_pointer_to_list_elements[index].head = current_element\r\n",
      "            current_element = current_element.higher\r\n",
      "\r\n",
      "\r\n",
      "        # Sort array elements on their data field\r\n",
      "        qsort(vector_pointer_to_list_elements, list_length, sizeof(head_pointer_tree_s), compare_struct_on_data)\r\n",
      "                                                                                         ^\r\n",
      "------------------------------------------------------------\r\n",
      "\r\n",
      "SLIM_BPR_Cython_Epoch.pyx:990:89: Cannot assign type 'int (const void *, const void *) except? -1' to 'int (*)(const_void *, const_void *) noexcept'\r\n",
      "\r\n",
      "Error compiling Cython file:\r\n",
      "------------------------------------------------------------\r\n",
      "...\r\n",
      "        # Sort array elements on their data field\r\n",
      "        qsort(vector_pointer_to_list_elements, list_length, sizeof(head_pointer_tree_s), compare_struct_on_data)\r\n",
      "\r\n",
      "        # Sort only the TopK according to their column field\r\n",
      "        # Sort is from lower to higher, therefore the elements to be considered are from len-topK to len\r\n",
      "        qsort(&vector_pointer_to_list_elements[list_length-TopK], TopK, sizeof(head_pointer_tree_s), compare_struct_on_column)\r\n",
      "                                                                                                     ^\r\n",
      "------------------------------------------------------------\r\n",
      "\r\n",
      "SLIM_BPR_Cython_Epoch.pyx:994:101: Cannot assign type 'int (const void *, const void *) except? -1' to 'int (*)(const_void *, const_void *) noexcept'\r\n",
      "Traceback (most recent call last):\r\n",
      "  File \"/kaggle/working/Recsys_Challenge_2023/CythonCompiler/compile_script.py\", line 48, in <module>\r\n",
      "    setup(\r\n",
      "  File \"/opt/conda/lib/python3.10/site-packages/setuptools/__init__.py\", line 107, in setup\r\n",
      "    return distutils.core.setup(**attrs)\r\n",
      "  File \"/opt/conda/lib/python3.10/site-packages/setuptools/_distutils/core.py\", line 185, in setup\r\n",
      "    return run_commands(dist)\r\n",
      "  File \"/opt/conda/lib/python3.10/site-packages/setuptools/_distutils/core.py\", line 201, in run_commands\r\n",
      "    dist.run_commands()\r\n",
      "  File \"/opt/conda/lib/python3.10/site-packages/setuptools/_distutils/dist.py\", line 969, in run_commands\r\n",
      "    self.run_command(cmd)\r\n",
      "  File \"/opt/conda/lib/python3.10/site-packages/setuptools/dist.py\", line 1233, in run_command\r\n",
      "    super().run_command(command)\r\n",
      "  File \"/opt/conda/lib/python3.10/site-packages/setuptools/_distutils/dist.py\", line 988, in run_command\r\n",
      "    cmd_obj.run()\r\n",
      "  File \"/opt/conda/lib/python3.10/site-packages/setuptools/_distutils/command/build_ext.py\", line 345, in run\r\n",
      "    self.build_extensions()\r\n",
      "  File \"/opt/conda/lib/python3.10/site-packages/setuptools/_distutils/command/build_ext.py\", line 467, in build_extensions\r\n",
      "    self._build_extensions_serial()\r\n",
      "  File \"/opt/conda/lib/python3.10/site-packages/setuptools/_distutils/command/build_ext.py\", line 493, in _build_extensions_serial\r\n",
      "    self.build_extension(ext)\r\n",
      "  File \"/opt/conda/lib/python3.10/site-packages/Cython/Distutils/build_ext.py\", line 122, in build_extension\r\n",
      "    new_ext = cythonize(\r\n",
      "  File \"/opt/conda/lib/python3.10/site-packages/Cython/Build/Dependencies.py\", line 1134, in cythonize\r\n",
      "    cythonize_one(*args)\r\n",
      "  File \"/opt/conda/lib/python3.10/site-packages/Cython/Build/Dependencies.py\", line 1301, in cythonize_one\r\n",
      "    raise CompileError(None, pyx_file)\r\n",
      "Cython.Compiler.Errors.CompileError: SLIM_BPR_Cython_Epoch.pyx\r\n",
      "Traceback (most recent call last):\r\n",
      "  File \"/kaggle/working/Recsys_Challenge_2023/run_compile_all_cython.py\", line 59, in <module>\r\n",
      "    run_compile_subprocess(file_path, [file_name])\r\n",
      "  File \"/kaggle/working/Recsys_Challenge_2023/CythonCompiler/run_compile_subprocess.py\", line 51, in run_compile_subprocess\r\n",
      "    raise exc\r\n",
      "  File \"/kaggle/working/Recsys_Challenge_2023/CythonCompiler/run_compile_subprocess.py\", line 32, in run_compile_subprocess\r\n",
      "    output = subprocess.check_output(' '.join(command),\r\n",
      "  File \"/opt/conda/lib/python3.10/subprocess.py\", line 421, in check_output\r\n",
      "    return run(*popenargs, stdout=PIPE, timeout=timeout, check=True,\r\n",
      "  File \"/opt/conda/lib/python3.10/subprocess.py\", line 526, in run\r\n",
      "    raise CalledProcessError(retcode, process.args,\r\n",
      "subprocess.CalledProcessError: Command '/opt/conda/bin/python /kaggle/working/Recsys_Challenge_2023/CythonCompiler/compile_script.py SLIM_BPR_Cython_Epoch.pyx build_ext --inplace' returned non-zero exit status 1.\r\n",
      "Compiling [4/10]: SLIM_BPR_Cython_Epoch.pyx... FAIL: Command '/opt/conda/bin/python /kaggle/working/Recsys_Challenge_2023/CythonCompiler/compile_script.py SLIM_BPR_Cython_Epoch.pyx build_ext --inplace' returned non-zero exit status 1.\r\n",
      "\r\n",
      "Compiling [5/10]: Sparse_Matrix_Tree_CSR.pyx... \r\n",
      "warning: Sparse_Matrix_Tree_CSR.pyx:132:34: Non-trivial type declarators in shared declaration (e.g. mix of pointers and values). Each pointer declaration should be on its own line.\r\n",
      "warning: Sparse_Matrix_Tree_CSR.pyx:132:66: Non-trivial type declarators in shared declaration (e.g. mix of pointers and values). Each pointer declaration should be on its own line.\r\n",
      "warning: Sparse_Matrix_Tree_CSR.pyx:343:35: Non-trivial type declarators in shared declaration (e.g. mix of pointers and values). Each pointer declaration should be on its own line.\r\n",
      "warning: Sparse_Matrix_Tree_CSR.pyx:343:52: Non-trivial type declarators in shared declaration (e.g. mix of pointers and values). Each pointer declaration should be on its own line.\r\n",
      "warning: Sparse_Matrix_Tree_CSR.pyx:442:35: Non-trivial type declarators in shared declaration (e.g. mix of pointers and values). Each pointer declaration should be on its own line.\r\n",
      "warning: Sparse_Matrix_Tree_CSR.pyx:442:53: Non-trivial type declarators in shared declaration (e.g. mix of pointers and values). Each pointer declaration should be on its own line.\r\n",
      "warning: Sparse_Matrix_Tree_CSR.pyx:442:69: Non-trivial type declarators in shared declaration (e.g. mix of pointers and values). Each pointer declaration should be on its own line.\r\n",
      "warning: Sparse_Matrix_Tree_CSR.pyx:577:35: Non-trivial type declarators in shared declaration (e.g. mix of pointers and values). Each pointer declaration should be on its own line.\r\n",
      "warning: Sparse_Matrix_Tree_CSR.pyx:577:42: Non-trivial type declarators in shared declaration (e.g. mix of pointers and values). Each pointer declaration should be on its own line.\r\n",
      "warning: Sparse_Matrix_Tree_CSR.pyx:578:35: Non-trivial type declarators in shared declaration (e.g. mix of pointers and values). Each pointer declaration should be on its own line.\r\n",
      "warning: Sparse_Matrix_Tree_CSR.pyx:578:53: Non-trivial type declarators in shared declaration (e.g. mix of pointers and values). Each pointer declaration should be on its own line.\r\n",
      "\r\n",
      "Error compiling Cython file:\r\n",
      "------------------------------------------------------------\r\n",
      "...\r\n",
      "            vector_pointer_to_list_elements[index].head = current_element\r\n",
      "            current_element = current_element.higher\r\n",
      "\r\n",
      "\r\n",
      "        # Sort array elements on their data field\r\n",
      "        qsort(vector_pointer_to_list_elements, list_length, sizeof(head_pointer_tree_s), compare_struct_on_data)\r\n",
      "                                                                                         ^\r\n",
      "------------------------------------------------------------\r\n",
      "\r\n",
      "Sparse_Matrix_Tree_CSR.pyx:516:89: Cannot assign type 'int (const void *, const void *) except? -1' to 'int (*)(const_void *, const_void *) noexcept'\r\n",
      "\r\n",
      "Error compiling Cython file:\r\n",
      "------------------------------------------------------------\r\n",
      "...\r\n",
      "        # Sort array elements on their data field\r\n",
      "        qsort(vector_pointer_to_list_elements, list_length, sizeof(head_pointer_tree_s), compare_struct_on_data)\r\n",
      "\r\n",
      "        # Sort only the TopK according to their column field\r\n",
      "        # Sort is from lower to higher, therefore the elements to be considered are from len-topK to len\r\n",
      "        qsort(&vector_pointer_to_list_elements[list_length-TopK], TopK, sizeof(head_pointer_tree_s), compare_struct_on_column)\r\n",
      "                                                                                                     ^\r\n",
      "------------------------------------------------------------\r\n",
      "\r\n",
      "Sparse_Matrix_Tree_CSR.pyx:520:101: Cannot assign type 'int (const void *, const void *) except? -1' to 'int (*)(const_void *, const_void *) noexcept'\r\n",
      "Traceback (most recent call last):\r\n",
      "  File \"/kaggle/working/Recsys_Challenge_2023/CythonCompiler/compile_script.py\", line 48, in <module>\r\n",
      "    setup(\r\n",
      "  File \"/opt/conda/lib/python3.10/site-packages/setuptools/__init__.py\", line 107, in setup\r\n",
      "    return distutils.core.setup(**attrs)\r\n",
      "  File \"/opt/conda/lib/python3.10/site-packages/setuptools/_distutils/core.py\", line 185, in setup\r\n",
      "    return run_commands(dist)\r\n",
      "  File \"/opt/conda/lib/python3.10/site-packages/setuptools/_distutils/core.py\", line 201, in run_commands\r\n",
      "    dist.run_commands()\r\n",
      "  File \"/opt/conda/lib/python3.10/site-packages/setuptools/_distutils/dist.py\", line 969, in run_commands\r\n",
      "    self.run_command(cmd)\r\n",
      "  File \"/opt/conda/lib/python3.10/site-packages/setuptools/dist.py\", line 1233, in run_command\r\n",
      "    super().run_command(command)\r\n",
      "  File \"/opt/conda/lib/python3.10/site-packages/setuptools/_distutils/dist.py\", line 988, in run_command\r\n",
      "    cmd_obj.run()\r\n",
      "  File \"/opt/conda/lib/python3.10/site-packages/setuptools/_distutils/command/build_ext.py\", line 345, in run\r\n",
      "    self.build_extensions()\r\n",
      "  File \"/opt/conda/lib/python3.10/site-packages/setuptools/_distutils/command/build_ext.py\", line 467, in build_extensions\r\n",
      "    self._build_extensions_serial()\r\n",
      "  File \"/opt/conda/lib/python3.10/site-packages/setuptools/_distutils/command/build_ext.py\", line 493, in _build_extensions_serial\r\n",
      "    self.build_extension(ext)\r\n",
      "  File \"/opt/conda/lib/python3.10/site-packages/Cython/Distutils/build_ext.py\", line 122, in build_extension\r\n",
      "    new_ext = cythonize(\r\n",
      "  File \"/opt/conda/lib/python3.10/site-packages/Cython/Build/Dependencies.py\", line 1134, in cythonize\r\n",
      "    cythonize_one(*args)\r\n",
      "  File \"/opt/conda/lib/python3.10/site-packages/Cython/Build/Dependencies.py\", line 1301, in cythonize_one\r\n",
      "    raise CompileError(None, pyx_file)\r\n",
      "Cython.Compiler.Errors.CompileError: Sparse_Matrix_Tree_CSR.pyx\r\n",
      "Traceback (most recent call last):\r\n",
      "  File \"/kaggle/working/Recsys_Challenge_2023/run_compile_all_cython.py\", line 59, in <module>\r\n",
      "    run_compile_subprocess(file_path, [file_name])\r\n",
      "  File \"/kaggle/working/Recsys_Challenge_2023/CythonCompiler/run_compile_subprocess.py\", line 51, in run_compile_subprocess\r\n",
      "    raise exc\r\n",
      "  File \"/kaggle/working/Recsys_Challenge_2023/CythonCompiler/run_compile_subprocess.py\", line 32, in run_compile_subprocess\r\n",
      "    output = subprocess.check_output(' '.join(command),\r\n",
      "  File \"/opt/conda/lib/python3.10/subprocess.py\", line 421, in check_output\r\n",
      "    return run(*popenargs, stdout=PIPE, timeout=timeout, check=True,\r\n",
      "  File \"/opt/conda/lib/python3.10/subprocess.py\", line 526, in run\r\n",
      "    raise CalledProcessError(retcode, process.args,\r\n",
      "subprocess.CalledProcessError: Command '/opt/conda/bin/python /kaggle/working/Recsys_Challenge_2023/CythonCompiler/compile_script.py Sparse_Matrix_Tree_CSR.pyx build_ext --inplace' returned non-zero exit status 1.\r\n",
      "Compiling [5/10]: Sparse_Matrix_Tree_CSR.pyx... FAIL: Command '/opt/conda/bin/python /kaggle/working/Recsys_Challenge_2023/CythonCompiler/compile_script.py Sparse_Matrix_Tree_CSR.pyx build_ext --inplace' returned non-zero exit status 1.\r\n",
      "\r\n",
      "Compiling [6/10]: Triangular_Matrix.pyx... \r\n",
      "warning: Triangular_Matrix.pyx:22:0: The 'IF' statement is deprecated and will be removed in a future Cython version. Consider using runtime conditions or C macros instead. See https://github.com/cython/cython/issues/4310\r\n",
      "warning: Triangular_Matrix.pyx:23:4: The 'DEF' statement is deprecated and will be removed in a future Cython version. Consider using global variables, constants, and in-place literals instead. See https://github.com/cython/cython/issues/4310\r\n",
      "warning: Triangular_Matrix.pyx:25:4: The 'DEF' statement is deprecated and will be removed in a future Cython version. Consider using global variables, constants, and in-place literals instead. See https://github.com/cython/cython/issues/4310\r\n",
      "warning: Triangular_Matrix.pyx:27:4: The 'DEF' statement is deprecated and will be removed in a future Cython version. Consider using global variables, constants, and in-place literals instead. See https://github.com/cython/cython/issues/4310\r\n",
      "In file included from \u001b[01m\u001b[K/opt/conda/lib/python3.10/site-packages/numpy/core/include/numpy/ndarraytypes.h:1940\u001b[m\u001b[K,\r\n",
      "                 from \u001b[01m\u001b[K/opt/conda/lib/python3.10/site-packages/numpy/core/include/numpy/ndarrayobject.h:12\u001b[m\u001b[K,\r\n",
      "                 from \u001b[01m\u001b[K/opt/conda/lib/python3.10/site-packages/numpy/core/include/numpy/arrayobject.h:5\u001b[m\u001b[K,\r\n",
      "                 from \u001b[01m\u001b[KTriangular_Matrix.c:1109\u001b[m\u001b[K:\r\n",
      "\u001b[01m\u001b[K/opt/conda/lib/python3.10/site-packages/numpy/core/include/numpy/npy_1_7_deprecated_api.h:17:2:\u001b[m\u001b[K \u001b[01;35m\u001b[Kwarning: \u001b[m\u001b[K#warning \"Using deprecated NumPy API, disable it with \" \"#define NPY_NO_DEPRECATED_API NPY_1_7_API_VERSION\" [\u001b[01;35m\u001b[K-Wcpp\u001b[m\u001b[K]\r\n",
      "   17 | #\u001b[01;35m\u001b[Kwarning\u001b[m\u001b[K \"Using deprecated NumPy API, disable it with \" \\\r\n",
      "      |  \u001b[01;35m\u001b[K^~~~~~~\u001b[m\u001b[K\r\n",
      "/opt/conda/lib/python3.10/site-packages/Cython/Compiler/Main.py:381: FutureWarning: Cython directive 'language_level' not set, using '3str' for now (Py3). This has changed from earlier releases! File: /kaggle/working/Recsys_Challenge_2023/Recommenders/SLIM/Cython/Triangular_Matrix.pyx\r\n",
      "  tree = Parsing.p_module(s, pxd, full_module_name)\r\n",
      "warning: Triangular_Matrix.pyx:22:0: The 'IF' statement is deprecated and will be removed in a future Cython version. Consider using runtime conditions or C macros instead. See https://github.com/cython/cython/issues/4310\r\n",
      "warning: Triangular_Matrix.pyx:23:4: The 'DEF' statement is deprecated and will be removed in a future Cython version. Consider using global variables, constants, and in-place literals instead. See https://github.com/cython/cython/issues/4310\r\n",
      "warning: Triangular_Matrix.pyx:25:4: The 'DEF' statement is deprecated and will be removed in a future Cython version. Consider using global variables, constants, and in-place literals instead. See https://github.com/cython/cython/issues/4310\r\n",
      "warning: Triangular_Matrix.pyx:27:4: The 'DEF' statement is deprecated and will be removed in a future Cython version. Consider using global variables, constants, and in-place literals instead. See https://github.com/cython/cython/issues/4310\r\n",
      "Compiling [6/10]: Triangular_Matrix.pyx... PASS\r\n",
      "\r\n",
      "Compiling [7/10]: CFW_D_Similarity_Cython_SGD.pyx... \r\n",
      "In file included from \u001b[01m\u001b[K/opt/conda/lib/python3.10/site-packages/numpy/core/include/numpy/ndarraytypes.h:1940\u001b[m\u001b[K,\r\n",
      "                 from \u001b[01m\u001b[K/opt/conda/lib/python3.10/site-packages/numpy/core/include/numpy/ndarrayobject.h:12\u001b[m\u001b[K,\r\n",
      "                 from \u001b[01m\u001b[K/opt/conda/lib/python3.10/site-packages/numpy/core/include/numpy/arrayobject.h:5\u001b[m\u001b[K,\r\n",
      "                 from \u001b[01m\u001b[KCFW_D_Similarity_Cython_SGD.c:1109\u001b[m\u001b[K:\r\n",
      "\u001b[01m\u001b[K/opt/conda/lib/python3.10/site-packages/numpy/core/include/numpy/npy_1_7_deprecated_api.h:17:2:\u001b[m\u001b[K \u001b[01;35m\u001b[Kwarning: \u001b[m\u001b[K#warning \"Using deprecated NumPy API, disable it with \" \"#define NPY_NO_DEPRECATED_API NPY_1_7_API_VERSION\" [\u001b[01;35m\u001b[K-Wcpp\u001b[m\u001b[K]\r\n",
      "   17 | #\u001b[01;35m\u001b[Kwarning\u001b[m\u001b[K \"Using deprecated NumPy API, disable it with \" \\\r\n",
      "      |  \u001b[01;35m\u001b[K^~~~~~~\u001b[m\u001b[K\r\n",
      "\u001b[01m\u001b[KCFW_D_Similarity_Cython_SGD.c:\u001b[m\u001b[K In function ‘\u001b[01m\u001b[K__pyx_pf_27CFW_D_Similarity_Cython_SGD_27CFW_D_Similarity_Cython_SGD_6fit\u001b[m\u001b[K’:\r\n",
      "\u001b[01m\u001b[KCFW_D_Similarity_Cython_SGD.c:22766:55:\u001b[m\u001b[K \u001b[01;35m\u001b[Kwarning: \u001b[m\u001b[K‘\u001b[01m\u001b[K__pyx_v_sample_num\u001b[m\u001b[K’ may be used uninitialized in this function [\u001b[01;35m\u001b[K-Wmaybe-uninitialized\u001b[m\u001b[K]\r\n",
      "22766 |   __pyx_t_3 = PyFloat_FromDouble((__pyx_v_cum_loss / \u001b[01;35m\u001b[K((double)__pyx_v_sample_num)\u001b[m\u001b[K)); if (unlikely(!__pyx_t_3)) __PYX_ERR(0, 290, __pyx_L1_error)\r\n",
      "      |                                                      \u001b[01;35m\u001b[K~^~~~~~~~~~~~~~~~~~~~~~~~~~~\u001b[m\u001b[K\r\n",
      "/opt/conda/lib/python3.10/site-packages/Cython/Compiler/Main.py:381: FutureWarning: Cython directive 'language_level' not set, using '3str' for now (Py3). This has changed from earlier releases! File: /kaggle/working/Recsys_Challenge_2023/Recommenders/FeatureWeighting/Cython/CFW_D_Similarity_Cython_SGD.pyx\r\n",
      "  tree = Parsing.p_module(s, pxd, full_module_name)\r\n",
      "Compiling [7/10]: CFW_D_Similarity_Cython_SGD.pyx... PASS\r\n",
      "\r\n",
      "Compiling [8/10]: CFW_DVV_Similarity_Cython_SGD.pyx... \r\n",
      "In file included from \u001b[01m\u001b[K/opt/conda/lib/python3.10/site-packages/numpy/core/include/numpy/ndarraytypes.h:1940\u001b[m\u001b[K,\r\n",
      "                 from \u001b[01m\u001b[K/opt/conda/lib/python3.10/site-packages/numpy/core/include/numpy/ndarrayobject.h:12\u001b[m\u001b[K,\r\n",
      "                 from \u001b[01m\u001b[K/opt/conda/lib/python3.10/site-packages/numpy/core/include/numpy/arrayobject.h:5\u001b[m\u001b[K,\r\n",
      "                 from \u001b[01m\u001b[KCFW_DVV_Similarity_Cython_SGD.c:1109\u001b[m\u001b[K:\r\n",
      "\u001b[01m\u001b[K/opt/conda/lib/python3.10/site-packages/numpy/core/include/numpy/npy_1_7_deprecated_api.h:17:2:\u001b[m\u001b[K \u001b[01;35m\u001b[Kwarning: \u001b[m\u001b[K#warning \"Using deprecated NumPy API, disable it with \" \"#define NPY_NO_DEPRECATED_API NPY_1_7_API_VERSION\" [\u001b[01;35m\u001b[K-Wcpp\u001b[m\u001b[K]\r\n",
      "   17 | #\u001b[01;35m\u001b[Kwarning\u001b[m\u001b[K \"Using deprecated NumPy API, disable it with \" \\\r\n",
      "      |  \u001b[01;35m\u001b[K^~~~~~~\u001b[m\u001b[K\r\n",
      "/opt/conda/lib/python3.10/site-packages/Cython/Compiler/Main.py:381: FutureWarning: Cython directive 'language_level' not set, using '3str' for now (Py3). This has changed from earlier releases! File: /kaggle/working/Recsys_Challenge_2023/Recommenders/FeatureWeighting/Cython/CFW_DVV_Similarity_Cython_SGD.pyx\r\n",
      "  tree = Parsing.p_module(s, pxd, full_module_name)\r\n",
      "Compiling [8/10]: CFW_DVV_Similarity_Cython_SGD.pyx... PASS\r\n",
      "\r\n",
      "Compiling [9/10]: HP3_Similarity_Cython_SGD.pyx... \r\n",
      "warning: HP3_Similarity_Cython_SGD.pyx:113:40: Index should be typed for more efficient access\r\n",
      "In file included from \u001b[01m\u001b[K/opt/conda/lib/python3.10/site-packages/numpy/core/include/numpy/ndarraytypes.h:1940\u001b[m\u001b[K,\r\n",
      "                 from \u001b[01m\u001b[K/opt/conda/lib/python3.10/site-packages/numpy/core/include/numpy/ndarrayobject.h:12\u001b[m\u001b[K,\r\n",
      "                 from \u001b[01m\u001b[K/opt/conda/lib/python3.10/site-packages/numpy/core/include/numpy/arrayobject.h:5\u001b[m\u001b[K,\r\n",
      "                 from \u001b[01m\u001b[KHP3_Similarity_Cython_SGD.c:1109\u001b[m\u001b[K:\r\n",
      "\u001b[01m\u001b[K/opt/conda/lib/python3.10/site-packages/numpy/core/include/numpy/npy_1_7_deprecated_api.h:17:2:\u001b[m\u001b[K \u001b[01;35m\u001b[Kwarning: \u001b[m\u001b[K#warning \"Using deprecated NumPy API, disable it with \" \"#define NPY_NO_DEPRECATED_API NPY_1_7_API_VERSION\" [\u001b[01;35m\u001b[K-Wcpp\u001b[m\u001b[K]\r\n",
      "   17 | #\u001b[01;35m\u001b[Kwarning\u001b[m\u001b[K \"Using deprecated NumPy API, disable it with \" \\\r\n",
      "      |  \u001b[01;35m\u001b[K^~~~~~~\u001b[m\u001b[K\r\n",
      "\u001b[01m\u001b[KHP3_Similarity_Cython_SGD.c:\u001b[m\u001b[K In function ‘\u001b[01m\u001b[K__pyx_pf_25HP3_Similarity_Cython_SGD_25HP3_Similarity_Cython_SGD_4fit\u001b[m\u001b[K’:\r\n",
      "\u001b[01m\u001b[KHP3_Similarity_Cython_SGD.c:23035:55:\u001b[m\u001b[K \u001b[01;35m\u001b[Kwarning: \u001b[m\u001b[K‘\u001b[01m\u001b[K__pyx_v_sample_num\u001b[m\u001b[K’ may be used uninitialized in this function [\u001b[01;35m\u001b[K-Wmaybe-uninitialized\u001b[m\u001b[K]\r\n",
      "23035 |   __pyx_t_1 = PyFloat_FromDouble((__pyx_v_cum_loss / \u001b[01;35m\u001b[K((double)__pyx_v_sample_num)\u001b[m\u001b[K)); if (unlikely(!__pyx_t_1)) __PYX_ERR(0, 291, __pyx_L1_error)\r\n",
      "      |                                                      \u001b[01;35m\u001b[K~^~~~~~~~~~~~~~~~~~~~~~~~~~~\u001b[m\u001b[K\r\n",
      "/opt/conda/lib/python3.10/site-packages/Cython/Compiler/Main.py:381: FutureWarning: Cython directive 'language_level' not set, using '3str' for now (Py3). This has changed from earlier releases! File: /kaggle/working/Recsys_Challenge_2023/Recommenders/FeatureWeighting/Cython/HP3_Similarity_Cython_SGD.pyx\r\n",
      "  tree = Parsing.p_module(s, pxd, full_module_name)\r\n",
      "warning: HP3_Similarity_Cython_SGD.pyx:113:40: Index should be typed for more efficient access\r\n",
      "Compiling [9/10]: HP3_Similarity_Cython_SGD.pyx... PASS\r\n",
      "\r\n",
      "Compiling [10/10]: FBSM_Rating_Cython_SGD.pyx... \r\n",
      "In file included from \u001b[01m\u001b[K/opt/conda/lib/python3.10/site-packages/numpy/core/include/numpy/ndarraytypes.h:1940\u001b[m\u001b[K,\r\n",
      "                 from \u001b[01m\u001b[K/opt/conda/lib/python3.10/site-packages/numpy/core/include/numpy/ndarrayobject.h:12\u001b[m\u001b[K,\r\n",
      "                 from \u001b[01m\u001b[K/opt/conda/lib/python3.10/site-packages/numpy/core/include/numpy/arrayobject.h:5\u001b[m\u001b[K,\r\n",
      "                 from \u001b[01m\u001b[KFBSM_Rating_Cython_SGD.c:1109\u001b[m\u001b[K:\r\n",
      "\u001b[01m\u001b[K/opt/conda/lib/python3.10/site-packages/numpy/core/include/numpy/npy_1_7_deprecated_api.h:17:2:\u001b[m\u001b[K \u001b[01;35m\u001b[Kwarning: \u001b[m\u001b[K#warning \"Using deprecated NumPy API, disable it with \" \"#define NPY_NO_DEPRECATED_API NPY_1_7_API_VERSION\" [\u001b[01;35m\u001b[K-Wcpp\u001b[m\u001b[K]\r\n",
      "   17 | #\u001b[01;35m\u001b[Kwarning\u001b[m\u001b[K \"Using deprecated NumPy API, disable it with \" \\\r\n",
      "      |  \u001b[01;35m\u001b[K^~~~~~~\u001b[m\u001b[K\r\n",
      "\u001b[01m\u001b[KFBSM_Rating_Cython_SGD.c:\u001b[m\u001b[K In function ‘\u001b[01m\u001b[K__pyx_pf_22FBSM_Rating_Cython_SGD_22FBSM_Rating_Cython_SGD_2fit\u001b[m\u001b[K’:\r\n",
      "\u001b[01m\u001b[KFBSM_Rating_Cython_SGD.c:26038:55:\u001b[m\u001b[K \u001b[01;35m\u001b[Kwarning: \u001b[m\u001b[K‘\u001b[01m\u001b[K__pyx_v_num_sample\u001b[m\u001b[K’ may be used uninitialized in this function [\u001b[01;35m\u001b[K-Wmaybe-uninitialized\u001b[m\u001b[K]\r\n",
      "26038 |   __pyx_t_5 = PyFloat_FromDouble((__pyx_v_cum_loss / \u001b[01;35m\u001b[K((double)__pyx_v_num_sample)\u001b[m\u001b[K)); if (unlikely(!__pyx_t_5)) __PYX_ERR(0, 551, __pyx_L1_error)\r\n",
      "      |                                                      \u001b[01;35m\u001b[K~^~~~~~~~~~~~~~~~~~~~~~~~~~~\u001b[m\u001b[K\r\n",
      "/opt/conda/lib/python3.10/site-packages/Cython/Compiler/Main.py:381: FutureWarning: Cython directive 'language_level' not set, using '3str' for now (Py3). This has changed from earlier releases! File: /kaggle/working/Recsys_Challenge_2023/Recommenders/FeatureWeighting/Cython/FBSM_Rating_Cython_SGD.pyx\r\n",
      "  tree = Parsing.p_module(s, pxd, full_module_name)\r\n",
      "Compiling [10/10]: FBSM_Rating_Cython_SGD.pyx... PASS\r\n",
      "\r\n",
      "run_compile_all_cython: Compilation finished. FAILS 2/10.\r\n",
      "Compilation log can be found here: './result_experiments/run_compile_all_cython.txt'\r\n"
     ]
    }
   ],
   "source": [
    "! cd /kaggle/working/Recsys_Challenge_2023 && python run_compile_all_cython.py"
   ]
  },
  {
   "cell_type": "code",
   "execution_count": 4,
   "id": "f144f5fa",
   "metadata": {
    "_cell_guid": "b1076dfc-b9ad-4769-8c92-a6c4dae69d19",
    "_kg_hide-output": true,
    "_uuid": "8f2839f25d086af736a60e9eeb907d3b93b6e0e5",
    "execution": {
     "iopub.execute_input": "2023-11-27T20:33:30.417404Z",
     "iopub.status.busy": "2023-11-27T20:33:30.416933Z",
     "iopub.status.idle": "2023-11-27T20:33:34.690365Z",
     "shell.execute_reply": "2023-11-27T20:33:34.689256Z"
    },
    "papermill": {
     "duration": 4.2958,
     "end_time": "2023-11-27T20:33:34.692864",
     "exception": false,
     "start_time": "2023-11-27T20:33:30.397064",
     "status": "completed"
    },
    "scrolled": true,
    "tags": []
   },
   "outputs": [
    {
     "name": "stdout",
     "output_type": "stream",
     "text": [
      "/kaggle/input/recommender-system-2023-challenge-polimi/data_train.csv\n",
      "/kaggle/input/recommender-system-2023-challenge-polimi/data_target_users_test.csv\n",
      "/kaggle/input/hyperparameters-tuning-better/best_params_ials_v2.json\n",
      "/kaggle/input/hyperparameters-tuning-better/__results__.html\n",
      "/kaggle/input/hyperparameters-tuning-better/better_tuning.db\n",
      "/kaggle/input/hyperparameters-tuning-better/__notebook__.ipynb\n",
      "/kaggle/input/hyperparameters-tuning-better/__output__.json\n",
      "/kaggle/input/hyperparameters-tuning-better/custom.css\n",
      "/kaggle/input/hyperparameters-tuning-better/Recsys_Challenge_2023/run_all_algorithms.py\n",
      "/kaggle/input/hyperparameters-tuning-better/Recsys_Challenge_2023/cython_example_FunkSVD.py\n",
      "/kaggle/input/hyperparameters-tuning-better/Recsys_Challenge_2023/LICENSE\n",
      "/kaggle/input/hyperparameters-tuning-better/Recsys_Challenge_2023/.gitignore\n",
      "/kaggle/input/hyperparameters-tuning-better/Recsys_Challenge_2023/rp3-tuning.ipynb\n",
      "/kaggle/input/hyperparameters-tuning-better/Recsys_Challenge_2023/README.md\n",
      "/kaggle/input/hyperparameters-tuning-better/Recsys_Challenge_2023/run_hyperparameter_search.py\n",
      "/kaggle/input/hyperparameters-tuning-better/Recsys_Challenge_2023/cython_example_SLIM_MSE.py\n",
      "/kaggle/input/hyperparameters-tuning-better/Recsys_Challenge_2023/requirements.txt\n",
      "/kaggle/input/hyperparameters-tuning-better/Recsys_Challenge_2023/run_test_recommenders.py\n",
      "/kaggle/input/hyperparameters-tuning-better/Recsys_Challenge_2023/run_compile_all_cython.py\n",
      "/kaggle/input/hyperparameters-tuning-better/Recsys_Challenge_2023/hybrid.ipynb\n",
      "/kaggle/input/hyperparameters-tuning-better/Recsys_Challenge_2023/Data_manager/DataSplitter_Holdout.py\n",
      "/kaggle/input/hyperparameters-tuning-better/Recsys_Challenge_2023/Data_manager/DataSplitter.py\n",
      "/kaggle/input/hyperparameters-tuning-better/Recsys_Challenge_2023/Data_manager/DatasetMapperManager.py\n",
      "/kaggle/input/hyperparameters-tuning-better/Recsys_Challenge_2023/Data_manager/data_consistency_check.py\n",
      "/kaggle/input/hyperparameters-tuning-better/Recsys_Challenge_2023/Data_manager/README.md\n",
      "/kaggle/input/hyperparameters-tuning-better/Recsys_Challenge_2023/Data_manager/TagPreprocessing.py\n",
      "/kaggle/input/hyperparameters-tuning-better/Recsys_Challenge_2023/Data_manager/DataReader.py\n",
      "/kaggle/input/hyperparameters-tuning-better/Recsys_Challenge_2023/Data_manager/DataReader_utils.py\n",
      "/kaggle/input/hyperparameters-tuning-better/Recsys_Challenge_2023/Data_manager/IncrementalSparseMatrix.py\n",
      "/kaggle/input/hyperparameters-tuning-better/Recsys_Challenge_2023/Data_manager/run_clean_split_data_files.py\n",
      "/kaggle/input/hyperparameters-tuning-better/Recsys_Challenge_2023/Data_manager/Dataset.py\n",
      "/kaggle/input/hyperparameters-tuning-better/Recsys_Challenge_2023/Data_manager/DataSplitter_leave_k_out.py\n",
      "/kaggle/input/hyperparameters-tuning-better/Recsys_Challenge_2023/Data_manager/CrossValidationSplitter.py\n",
      "/kaggle/input/hyperparameters-tuning-better/Recsys_Challenge_2023/Data_manager/__init__.py\n",
      "/kaggle/input/hyperparameters-tuning-better/Recsys_Challenge_2023/Data_manager/__pycache__/data_consistency_check.cpython-310.pyc\n",
      "/kaggle/input/hyperparameters-tuning-better/Recsys_Challenge_2023/Data_manager/__pycache__/DatasetMapperManager.cpython-310.pyc\n",
      "/kaggle/input/hyperparameters-tuning-better/Recsys_Challenge_2023/Data_manager/__pycache__/IncrementalSparseMatrix.cpython-310.pyc\n",
      "/kaggle/input/hyperparameters-tuning-better/Recsys_Challenge_2023/Data_manager/__pycache__/DataReader.cpython-310.pyc\n",
      "/kaggle/input/hyperparameters-tuning-better/Recsys_Challenge_2023/Data_manager/__pycache__/DataReader_utils.cpython-310.pyc\n",
      "/kaggle/input/hyperparameters-tuning-better/Recsys_Challenge_2023/Data_manager/__pycache__/__init__.cpython-310.pyc\n",
      "/kaggle/input/hyperparameters-tuning-better/Recsys_Challenge_2023/Data_manager/__pycache__/Dataset.cpython-310.pyc\n",
      "/kaggle/input/hyperparameters-tuning-better/Recsys_Challenge_2023/Data_manager/split_functions/split_train_validation_leave_k_out.py\n",
      "/kaggle/input/hyperparameters-tuning-better/Recsys_Challenge_2023/Data_manager/split_functions/split_train_validation_cold_items.py\n",
      "/kaggle/input/hyperparameters-tuning-better/Recsys_Challenge_2023/Data_manager/split_functions/split_train_validation_random_holdout.py\n",
      "/kaggle/input/hyperparameters-tuning-better/Recsys_Challenge_2023/Data_manager/split_functions/__pycache__/split_train_validation_random_holdout.cpython-310.pyc\n",
      "/kaggle/input/hyperparameters-tuning-better/Recsys_Challenge_2023/Data_manager/Movielens/Movielens10MReader.py\n",
      "/kaggle/input/hyperparameters-tuning-better/Recsys_Challenge_2023/Data_manager/Movielens/Movielens1MReader.py\n",
      "/kaggle/input/hyperparameters-tuning-better/Recsys_Challenge_2023/Data_manager/Movielens/Movielens100KReader.py\n",
      "/kaggle/input/hyperparameters-tuning-better/Recsys_Challenge_2023/Data_manager/Movielens/MovielensHetrec2011Reader.py\n",
      "/kaggle/input/hyperparameters-tuning-better/Recsys_Challenge_2023/Data_manager/Movielens/_utils_movielens_parser.py\n",
      "/kaggle/input/hyperparameters-tuning-better/Recsys_Challenge_2023/Data_manager/Movielens/Movielens20MReader.py\n",
      "/kaggle/input/hyperparameters-tuning-better/Recsys_Challenge_2023/Data_manager/Movielens/__pycache__/Movielens10MReader.cpython-310.pyc\n",
      "/kaggle/input/hyperparameters-tuning-better/Recsys_Challenge_2023/Data_manager/Movielens/__pycache__/Movielens1MReader.cpython-310.pyc\n",
      "/kaggle/input/hyperparameters-tuning-better/Recsys_Challenge_2023/Data_manager/Movielens/__pycache__/_utils_movielens_parser.cpython-310.pyc\n",
      "/kaggle/input/hyperparameters-tuning-better/Recsys_Challenge_2023/Data_manager/Movielens/__pycache__/Movielens20MReader.cpython-310.pyc\n",
      "/kaggle/input/hyperparameters-tuning-better/Recsys_Challenge_2023/Data_manager/Movielens/__pycache__/Movielens100KReader.cpython-310.pyc\n",
      "/kaggle/input/hyperparameters-tuning-better/Recsys_Challenge_2023/Data_manager/Movielens/__pycache__/MovielensHetrec2011Reader.cpython-310.pyc\n",
      "/kaggle/input/hyperparameters-tuning-better/Recsys_Challenge_2023/Utils/seconds_to_biggest_unit.py\n",
      "/kaggle/input/hyperparameters-tuning-better/Recsys_Challenge_2023/Utils/PyTorch/utils.py\n",
      "/kaggle/input/hyperparameters-tuning-better/Recsys_Challenge_2023/Utils/PyTorch/DataSampler.py\n",
      "/kaggle/input/hyperparameters-tuning-better/Recsys_Challenge_2023/Utils/PyTorch/DataIterator.py\n",
      "/kaggle/input/hyperparameters-tuning-better/Recsys_Challenge_2023/Utils/PyTorch/Cython/DataIterator.pyx\n",
      "/kaggle/input/hyperparameters-tuning-better/Recsys_Challenge_2023/Utils/__pycache__/seconds_to_biggest_unit.cpython-310.pyc\n",
      "/kaggle/input/hyperparameters-tuning-better/Recsys_Challenge_2023/Notebooks_utils/Cosine_Similarity_Cython_SLOW.cpython-36m-x86_64-linux-gnu.so\n",
      "/kaggle/input/hyperparameters-tuning-better/Recsys_Challenge_2023/Notebooks_utils/Cosine_Similarity_Cython_SLOW.c\n",
      "/kaggle/input/hyperparameters-tuning-better/Recsys_Challenge_2023/Notebooks_utils/compileCython.py\n",
      "/kaggle/input/hyperparameters-tuning-better/Recsys_Challenge_2023/Notebooks_utils/Cosine_Similarity_Cython.pyx\n",
      "/kaggle/input/hyperparameters-tuning-better/Recsys_Challenge_2023/Notebooks_utils/Cosine_Similarity_Cython.html\n",
      "/kaggle/input/hyperparameters-tuning-better/Recsys_Challenge_2023/Notebooks_utils/Compute_Similarity_Python.py\n",
      "/kaggle/input/hyperparameters-tuning-better/Recsys_Challenge_2023/Notebooks_utils/Cosine_Similarity_Cython.c\n",
      "/kaggle/input/hyperparameters-tuning-better/Recsys_Challenge_2023/Notebooks_utils/Cosine_Similarity_Cython.cpython-36m-x86_64-linux-gnu.so\n",
      "/kaggle/input/hyperparameters-tuning-better/Recsys_Challenge_2023/Notebooks_utils/Cosine_Similarity_Cython_SLOW.pyx\n",
      "/kaggle/input/hyperparameters-tuning-better/Recsys_Challenge_2023/Notebooks_utils/Cosine_Similarity_Cython_SLOW.html\n",
      "/kaggle/input/hyperparameters-tuning-better/Recsys_Challenge_2023/CythonCompiler/compile_script.py\n",
      "/kaggle/input/hyperparameters-tuning-better/Recsys_Challenge_2023/CythonCompiler/run_compile_subprocess.py\n",
      "/kaggle/input/hyperparameters-tuning-better/Recsys_Challenge_2023/CythonCompiler/__pycache__/run_compile_subprocess.cpython-310.pyc\n",
      "/kaggle/input/hyperparameters-tuning-better/Recsys_Challenge_2023/Recommenders/IR_feature_weighting.py\n",
      "/kaggle/input/hyperparameters-tuning-better/Recsys_Challenge_2023/Recommenders/Incremental_Training_Early_Stopping.py\n",
      "/kaggle/input/hyperparameters-tuning-better/Recsys_Challenge_2023/Recommenders/BaseMatrixFactorizationRecommender.py\n",
      "/kaggle/input/hyperparameters-tuning-better/Recsys_Challenge_2023/Recommenders/BaseRecommender.py\n",
      "/kaggle/input/hyperparameters-tuning-better/Recsys_Challenge_2023/Recommenders/BaseCBFRecommender.py\n",
      "/kaggle/input/hyperparameters-tuning-better/Recsys_Challenge_2023/Recommenders/Recommender_import_list.py\n",
      "/kaggle/input/hyperparameters-tuning-better/Recsys_Challenge_2023/Recommenders/BaseTempFolder.py\n",
      "/kaggle/input/hyperparameters-tuning-better/Recsys_Challenge_2023/Recommenders/Recommender_utils.py\n",
      "/kaggle/input/hyperparameters-tuning-better/Recsys_Challenge_2023/Recommenders/NonPersonalizedRecommender.py\n",
      "/kaggle/input/hyperparameters-tuning-better/Recsys_Challenge_2023/Recommenders/BaseSimilarityMatrixRecommender.py\n",
      "/kaggle/input/hyperparameters-tuning-better/Recsys_Challenge_2023/Recommenders/DataIO.py\n",
      "/kaggle/input/hyperparameters-tuning-better/Recsys_Challenge_2023/Recommenders/PredefinedListRecommender.py\n",
      "/kaggle/input/hyperparameters-tuning-better/Recsys_Challenge_2023/Recommenders/Similarity/Compute_similarity_euclidean_test.py\n",
      "/kaggle/input/hyperparameters-tuning-better/Recsys_Challenge_2023/Recommenders/Similarity/Compute_Similarity_Euclidean.py\n",
      "/kaggle/input/hyperparameters-tuning-better/Recsys_Challenge_2023/Recommenders/Similarity/Compute_Similarity_Python.py\n",
      "/kaggle/input/hyperparameters-tuning-better/Recsys_Challenge_2023/Recommenders/Similarity/Compute_Similarity.py\n",
      "/kaggle/input/hyperparameters-tuning-better/Recsys_Challenge_2023/Recommenders/Similarity/Compute_similarity_test.py\n",
      "/kaggle/input/hyperparameters-tuning-better/Recsys_Challenge_2023/Recommenders/Similarity/__pycache__/Compute_Similarity_Python.cpython-310.pyc\n",
      "/kaggle/input/hyperparameters-tuning-better/Recsys_Challenge_2023/Recommenders/Similarity/__pycache__/Compute_Similarity.cpython-310.pyc\n",
      "/kaggle/input/hyperparameters-tuning-better/Recsys_Challenge_2023/Recommenders/Similarity/__pycache__/Compute_Similarity_Euclidean.cpython-310.pyc\n",
      "/kaggle/input/hyperparameters-tuning-better/Recsys_Challenge_2023/Recommenders/Similarity/Cython/Compute_Similarity_Cython.cpython-310-x86_64-linux-gnu.so\n",
      "/kaggle/input/hyperparameters-tuning-better/Recsys_Challenge_2023/Recommenders/Similarity/Cython/Compute_Similarity_Cython.pyx\n",
      "/kaggle/input/hyperparameters-tuning-better/Recsys_Challenge_2023/Recommenders/Similarity/Cython/Compute_Similarity_Cython.html\n",
      "/kaggle/input/hyperparameters-tuning-better/Recsys_Challenge_2023/Recommenders/Similarity/Cython/Compute_Similarity_Cython.c\n",
      "/kaggle/input/hyperparameters-tuning-better/Recsys_Challenge_2023/Recommenders/EASE_R/EASE_R_Recommender.py\n",
      "/kaggle/input/hyperparameters-tuning-better/Recsys_Challenge_2023/Recommenders/SLIM/SLIMElasticNetRecommender.py\n",
      "/kaggle/input/hyperparameters-tuning-better/Recsys_Challenge_2023/Recommenders/SLIM/SLIM_BPR_Python.py\n",
      "/kaggle/input/hyperparameters-tuning-better/Recsys_Challenge_2023/Recommenders/SLIM/__pycache__/SLIMElasticNetRecommender.cpython-310.pyc\n",
      "/kaggle/input/hyperparameters-tuning-better/Recsys_Challenge_2023/Recommenders/SLIM/Cython/Triangular_Matrix.cpython-310-x86_64-linux-gnu.so\n",
      "/kaggle/input/hyperparameters-tuning-better/Recsys_Challenge_2023/Recommenders/SLIM/Cython/Triangular_Matrix.c\n",
      "/kaggle/input/hyperparameters-tuning-better/Recsys_Challenge_2023/Recommenders/SLIM/Cython/SLIM_BPR_Cython.py\n",
      "/kaggle/input/hyperparameters-tuning-better/Recsys_Challenge_2023/Recommenders/SLIM/Cython/Sparse_Matrix_Tree_CSR.pyx\n",
      "/kaggle/input/hyperparameters-tuning-better/Recsys_Challenge_2023/Recommenders/SLIM/Cython/Triangular_Matrix.pyx\n",
      "/kaggle/input/hyperparameters-tuning-better/Recsys_Challenge_2023/Recommenders/SLIM/Cython/SLIM_BPR_Cython_Epoch.pyx\n",
      "/kaggle/input/hyperparameters-tuning-better/Recsys_Challenge_2023/Recommenders/SLIM/Cython/Triangular_Matrix.html\n",
      "/kaggle/input/hyperparameters-tuning-better/Recsys_Challenge_2023/Recommenders/GraphBased/RP3betaRecommender.py\n",
      "/kaggle/input/hyperparameters-tuning-better/Recsys_Challenge_2023/Recommenders/GraphBased/P3alphaRecommender.py\n",
      "/kaggle/input/hyperparameters-tuning-better/Recsys_Challenge_2023/Recommenders/FactorizationMachines/LightFMRecommender.py\n",
      "/kaggle/input/hyperparameters-tuning-better/Recsys_Challenge_2023/Recommenders/__pycache__/BaseRecommender.cpython-310.pyc\n",
      "/kaggle/input/hyperparameters-tuning-better/Recsys_Challenge_2023/Recommenders/__pycache__/BaseSimilarityMatrixRecommender.cpython-310.pyc\n",
      "/kaggle/input/hyperparameters-tuning-better/Recsys_Challenge_2023/Recommenders/__pycache__/BaseMatrixFactorizationRecommender.cpython-310.pyc\n",
      "/kaggle/input/hyperparameters-tuning-better/Recsys_Challenge_2023/Recommenders/__pycache__/Incremental_Training_Early_Stopping.cpython-310.pyc\n",
      "/kaggle/input/hyperparameters-tuning-better/Recsys_Challenge_2023/Recommenders/__pycache__/IR_feature_weighting.cpython-310.pyc\n",
      "/kaggle/input/hyperparameters-tuning-better/Recsys_Challenge_2023/Recommenders/__pycache__/DataIO.cpython-310.pyc\n",
      "/kaggle/input/hyperparameters-tuning-better/Recsys_Challenge_2023/Recommenders/__pycache__/BaseTempFolder.cpython-310.pyc\n",
      "/kaggle/input/hyperparameters-tuning-better/Recsys_Challenge_2023/Recommenders/__pycache__/Recommender_utils.cpython-310.pyc\n",
      "/kaggle/input/hyperparameters-tuning-better/Recsys_Challenge_2023/Recommenders/KNN/ItemKNNCustomSimilarityRecommender.py\n",
      "/kaggle/input/hyperparameters-tuning-better/Recsys_Challenge_2023/Recommenders/KNN/ItemKNNCBFRecommender.py\n",
      "/kaggle/input/hyperparameters-tuning-better/Recsys_Challenge_2023/Recommenders/KNN/ItemKNNSimilarityHybridRecommender.py\n",
      "/kaggle/input/hyperparameters-tuning-better/Recsys_Challenge_2023/Recommenders/KNN/UserKNNCBFRecommender.py\n",
      "/kaggle/input/hyperparameters-tuning-better/Recsys_Challenge_2023/Recommenders/KNN/ItemKNNCFRecommender.py\n",
      "/kaggle/input/hyperparameters-tuning-better/Recsys_Challenge_2023/Recommenders/KNN/UserKNN_CFCBF_Hybrid_Recommender.py\n",
      "/kaggle/input/hyperparameters-tuning-better/Recsys_Challenge_2023/Recommenders/KNN/ItemKNN_CFCBF_Hybrid_Recommender.py\n",
      "/kaggle/input/hyperparameters-tuning-better/Recsys_Challenge_2023/Recommenders/KNN/UserKNNCFRecommender.py\n",
      "/kaggle/input/hyperparameters-tuning-better/Recsys_Challenge_2023/Recommenders/KNN/__pycache__/UserKNNCFRecommender.cpython-310.pyc\n",
      "/kaggle/input/hyperparameters-tuning-better/Recsys_Challenge_2023/Recommenders/KNN/__pycache__/ItemKNNCFRecommender.cpython-310.pyc\n",
      "/kaggle/input/hyperparameters-tuning-better/Recsys_Challenge_2023/Recommenders/Neural/architecture_utils.py\n",
      "/kaggle/input/hyperparameters-tuning-better/Recsys_Challenge_2023/Recommenders/Neural/MultVAERecommender.py\n",
      "/kaggle/input/hyperparameters-tuning-better/Recsys_Challenge_2023/Recommenders/Neural/MultVAE_PyTorch_Recommender.py\n",
      "/kaggle/input/hyperparameters-tuning-better/Recsys_Challenge_2023/Recommenders/Hybrid/LinearCombinationRecommender.py\n",
      "/kaggle/input/hyperparameters-tuning-better/Recsys_Challenge_2023/Recommenders/Hybrid/RoundRobinListCombinationRecommender.py\n",
      "/kaggle/input/hyperparameters-tuning-better/Recsys_Challenge_2023/Recommenders/FeatureWeighting/CFW_D_Similarity_Linalg.py\n",
      "/kaggle/input/hyperparameters-tuning-better/Recsys_Challenge_2023/Recommenders/FeatureWeighting/Cython/CFW_D_Similarity_Cython_SGD.cpython-310-x86_64-linux-gnu.so\n",
      "/kaggle/input/hyperparameters-tuning-better/Recsys_Challenge_2023/Recommenders/FeatureWeighting/Cython/HP3_Similarity_Cython_SGD.c\n",
      "/kaggle/input/hyperparameters-tuning-better/Recsys_Challenge_2023/Recommenders/FeatureWeighting/Cython/FBSM_Rating_Cython_SGD.c\n",
      "/kaggle/input/hyperparameters-tuning-better/Recsys_Challenge_2023/Recommenders/FeatureWeighting/Cython/CFW_DVV_Similarity_Cython_SGD.pyx\n",
      "/kaggle/input/hyperparameters-tuning-better/Recsys_Challenge_2023/Recommenders/FeatureWeighting/Cython/FBSM_Rating_Cython_SGD.cpython-310-x86_64-linux-gnu.so\n",
      "/kaggle/input/hyperparameters-tuning-better/Recsys_Challenge_2023/Recommenders/FeatureWeighting/Cython/CFW_D_Similarity_Cython_SGD.html\n",
      "/kaggle/input/hyperparameters-tuning-better/Recsys_Challenge_2023/Recommenders/FeatureWeighting/Cython/FBSM_Rating_Cython.py\n",
      "/kaggle/input/hyperparameters-tuning-better/Recsys_Challenge_2023/Recommenders/FeatureWeighting/Cython/CFW_DVV_Similarity_Cython_SGD.html\n",
      "/kaggle/input/hyperparameters-tuning-better/Recsys_Challenge_2023/Recommenders/FeatureWeighting/Cython/CFW_DVV_Similarity_Cython_SGD.cpython-310-x86_64-linux-gnu.so\n",
      "/kaggle/input/hyperparameters-tuning-better/Recsys_Challenge_2023/Recommenders/FeatureWeighting/Cython/HP3_Similarity_Cython.py\n",
      "/kaggle/input/hyperparameters-tuning-better/Recsys_Challenge_2023/Recommenders/FeatureWeighting/Cython/CFW_D_Similarity_Cython_SGD.c\n",
      "/kaggle/input/hyperparameters-tuning-better/Recsys_Challenge_2023/Recommenders/FeatureWeighting/Cython/CFW_D_Similarity_Cython_SGD.pyx\n",
      "/kaggle/input/hyperparameters-tuning-better/Recsys_Challenge_2023/Recommenders/FeatureWeighting/Cython/CFW_D_Similarity_Cython.py\n",
      "/kaggle/input/hyperparameters-tuning-better/Recsys_Challenge_2023/Recommenders/FeatureWeighting/Cython/FBSM_Rating_Cython_SGD.pyx\n",
      "/kaggle/input/hyperparameters-tuning-better/Recsys_Challenge_2023/Recommenders/FeatureWeighting/Cython/CFW_DVV_Similarity_Cython_SGD.c\n",
      "/kaggle/input/hyperparameters-tuning-better/Recsys_Challenge_2023/Recommenders/FeatureWeighting/Cython/HP3_Similarity_Cython_SGD.cpython-310-x86_64-linux-gnu.so\n",
      "/kaggle/input/hyperparameters-tuning-better/Recsys_Challenge_2023/Recommenders/FeatureWeighting/Cython/HP3_Similarity_Cython_SGD.pyx\n",
      "/kaggle/input/hyperparameters-tuning-better/Recsys_Challenge_2023/Recommenders/FeatureWeighting/Cython/CFW_DVV_Similarity_Cython.py\n",
      "/kaggle/input/hyperparameters-tuning-better/Recsys_Challenge_2023/Recommenders/FeatureWeighting/Cython/FBSM_Rating_Cython_SGD.html\n",
      "/kaggle/input/hyperparameters-tuning-better/Recsys_Challenge_2023/Recommenders/FeatureWeighting/Cython/HP3_Similarity_Cython_SGD.html\n",
      "/kaggle/input/hyperparameters-tuning-better/Recsys_Challenge_2023/Recommenders/MatrixFactorization/IALSRecommender.py\n",
      "/kaggle/input/hyperparameters-tuning-better/Recsys_Challenge_2023/Recommenders/MatrixFactorization/NMFRecommender.py\n",
      "/kaggle/input/hyperparameters-tuning-better/Recsys_Challenge_2023/Recommenders/MatrixFactorization/PureSVDRecommender.py\n",
      "/kaggle/input/hyperparameters-tuning-better/Recsys_Challenge_2023/Recommenders/MatrixFactorization/SVDFeatureRecommender.py\n",
      "/kaggle/input/hyperparameters-tuning-better/Recsys_Challenge_2023/Recommenders/MatrixFactorization/PyTorch/MF_MSE_PyTorch.py\n",
      "/kaggle/input/hyperparameters-tuning-better/Recsys_Challenge_2023/Recommenders/MatrixFactorization/PyTorch/MF_MSE_PyTorch_model.py\n",
      "/kaggle/input/hyperparameters-tuning-better/Recsys_Challenge_2023/Recommenders/MatrixFactorization/__pycache__/PureSVDRecommender.cpython-310.pyc\n",
      "/kaggle/input/hyperparameters-tuning-better/Recsys_Challenge_2023/Recommenders/MatrixFactorization/__pycache__/IALSRecommender.cpython-310.pyc\n",
      "/kaggle/input/hyperparameters-tuning-better/Recsys_Challenge_2023/Recommenders/MatrixFactorization/Cython/MatrixFactorization_Cython.py\n",
      "/kaggle/input/hyperparameters-tuning-better/Recsys_Challenge_2023/Recommenders/MatrixFactorization/Cython/MatrixFactorization_Cython_Epoch.cpython-310-x86_64-linux-gnu.so\n",
      "/kaggle/input/hyperparameters-tuning-better/Recsys_Challenge_2023/Recommenders/MatrixFactorization/Cython/MatrixFactorizationImpressions_Cython_Epoch.cpython-310-x86_64-linux-gnu.so\n",
      "/kaggle/input/hyperparameters-tuning-better/Recsys_Challenge_2023/Recommenders/MatrixFactorization/Cython/MatrixFactorizationImpressions_Cython.py\n",
      "/kaggle/input/hyperparameters-tuning-better/Recsys_Challenge_2023/Recommenders/MatrixFactorization/Cython/MatrixFactorization_Cython_Epoch.c\n",
      "/kaggle/input/hyperparameters-tuning-better/Recsys_Challenge_2023/Recommenders/MatrixFactorization/Cython/MatrixFactorization_Cython_Epoch.html\n",
      "/kaggle/input/hyperparameters-tuning-better/Recsys_Challenge_2023/Recommenders/MatrixFactorization/Cython/MatrixFactorizationImpressions_Cython_Epoch.pyx\n",
      "/kaggle/input/hyperparameters-tuning-better/Recsys_Challenge_2023/Recommenders/MatrixFactorization/Cython/MatrixFactorization_Cython_Epoch.pyx\n",
      "/kaggle/input/hyperparameters-tuning-better/Recsys_Challenge_2023/Recommenders/MatrixFactorization/Cython/MatrixFactorizationImpressions_Cython_Epoch.c\n",
      "/kaggle/input/hyperparameters-tuning-better/Recsys_Challenge_2023/Recommenders/MatrixFactorization/Cython/MatrixFactorizationImpressions_Cython_Epoch.html\n",
      "/kaggle/input/hyperparameters-tuning-better/Recsys_Challenge_2023/tuning_results/tuning_hybrid_merging.db\n",
      "/kaggle/input/hyperparameters-tuning-better/Recsys_Challenge_2023/tuning_results/tuning_hybrid.db\n",
      "/kaggle/input/hyperparameters-tuning-better/Recsys_Challenge_2023/tuning_results/tuning_hybrid_precision.db\n",
      "/kaggle/input/hyperparameters-tuning-better/Recsys_Challenge_2023/tuning_results/best_params_ials_v2.json\n",
      "/kaggle/input/hyperparameters-tuning-better/Recsys_Challenge_2023/tuning_results/best_params_NMF.json\n",
      "/kaggle/input/hyperparameters-tuning-better/Recsys_Challenge_2023/tuning_results/best_params_hybrid_merging.json\n",
      "/kaggle/input/hyperparameters-tuning-better/Recsys_Challenge_2023/tuning_results/best_params_knn_item.json\n",
      "/kaggle/input/hyperparameters-tuning-better/Recsys_Challenge_2023/tuning_results/tuning_RP3+ItemKNN_Hybrid.db\n",
      "/kaggle/input/hyperparameters-tuning-better/Recsys_Challenge_2023/tuning_results/best_params_EASE_R.json\n",
      "/kaggle/input/hyperparameters-tuning-better/Recsys_Challenge_2023/tuning_results/best_params_alpha.json\n",
      "/kaggle/input/hyperparameters-tuning-better/Recsys_Challenge_2023/tuning_results/pure_svd_params.json\n",
      "/kaggle/input/hyperparameters-tuning-better/Recsys_Challenge_2023/tuning_results/pure_svd_trials.csv\n",
      "/kaggle/input/hyperparameters-tuning-better/Recsys_Challenge_2023/tuning_results/tuning.db\n",
      "/kaggle/input/hyperparameters-tuning-better/Recsys_Challenge_2023/tuning_results/better_tuning.db\n",
      "/kaggle/input/hyperparameters-tuning-better/Recsys_Challenge_2023/tuning_results/tuning_hybrid_UserKNN_RP3Hybrid.db\n",
      "/kaggle/input/hyperparameters-tuning-better/Recsys_Challenge_2023/tuning_results/best_params_hybrid_UserKNN_RP3Hybrid.json\n",
      "/kaggle/input/hyperparameters-tuning-better/Recsys_Challenge_2023/tuning_results/best_params_RP3+ItemKNN_Hybrid.json\n",
      "/kaggle/input/hyperparameters-tuning-better/Recsys_Challenge_2023/tuning_results/best_params_hybrid_lr_comb.json\n",
      "/kaggle/input/hyperparameters-tuning-better/Recsys_Challenge_2023/tuning_results/best_params_hybrid.json\n",
      "/kaggle/input/hyperparameters-tuning-better/Recsys_Challenge_2023/tuning_results/best_params_item_knn_precision.json\n",
      "/kaggle/input/hyperparameters-tuning-better/Recsys_Challenge_2023/tuning_results/best_params_ials.json\n",
      "/kaggle/input/hyperparameters-tuning-better/Recsys_Challenge_2023/tuning_results/best_params_knn_user.json\n",
      "/kaggle/input/hyperparameters-tuning-better/Recsys_Challenge_2023/tuning_results/best_params_RP3.json\n",
      "/kaggle/input/hyperparameters-tuning-better/Recsys_Challenge_2023/tuning_results/parameters_NMF.db\n",
      "/kaggle/input/hyperparameters-tuning-better/Recsys_Challenge_2023/images/random_random_everywhere_meme.jpg\n",
      "/kaggle/input/hyperparameters-tuning-better/Recsys_Challenge_2023/images/ive_already_seen_it_meme.png\n",
      "/kaggle/input/hyperparameters-tuning-better/Recsys_Challenge_2023/images/bob_example.jpeg\n",
      "/kaggle/input/hyperparameters-tuning-better/Recsys_Challenge_2023/images/hstack_example.png\n",
      "/kaggle/input/hyperparameters-tuning-better/Recsys_Challenge_2023/images/FactorizationMachine.png\n",
      "/kaggle/input/hyperparameters-tuning-better/Recsys_Challenge_2023/images/ive_evaluated_your_performance_meme.jpg\n",
      "/kaggle/input/hyperparameters-tuning-better/Recsys_Challenge_2023/images/amongus_meme.png\n",
      "/kaggle/input/hyperparameters-tuning-better/Recsys_Challenge_2023/images/toy_story_poster.png\n",
      "/kaggle/input/hyperparameters-tuning-better/Recsys_Challenge_2023/images/better_than_average_on_the_first_try_meme.jpg\n",
      "/kaggle/input/hyperparameters-tuning-better/Recsys_Challenge_2023/HyperparameterTuning/SearchSingleCase.py\n",
      "/kaggle/input/hyperparameters-tuning-better/Recsys_Challenge_2023/HyperparameterTuning/SearchAbstractClass.py\n",
      "/kaggle/input/hyperparameters-tuning-better/Recsys_Challenge_2023/HyperparameterTuning/run_hyperparameter_search.py\n",
      "/kaggle/input/hyperparameters-tuning-better/Recsys_Challenge_2023/HyperparameterTuning/SearchBayesianSkopt.py\n",
      "/kaggle/input/hyperparameters-tuning-better/Recsys_Challenge_2023/Cython_examples/isPrime_slow.pyx\n",
      "/kaggle/input/hyperparameters-tuning-better/Recsys_Challenge_2023/Cython_examples/SLIM_MSE_fastest.pyx\n",
      "/kaggle/input/hyperparameters-tuning-better/Recsys_Challenge_2023/Cython_examples/isPrime_nochecks.pyx\n",
      "/kaggle/input/hyperparameters-tuning-better/Recsys_Challenge_2023/Cython_examples/isPrime.pyx\n",
      "/kaggle/input/hyperparameters-tuning-better/Recsys_Challenge_2023/Cython_examples/FunkSVD_fastest.pyx\n",
      "/kaggle/input/hyperparameters-tuning-better/Recsys_Challenge_2023/Cython_examples/FunkSVD_slow.pyx\n",
      "/kaggle/input/hyperparameters-tuning-better/Recsys_Challenge_2023/Cython_examples/SLIM_MSE_slow.pyx\n",
      "/kaggle/input/hyperparameters-tuning-better/Recsys_Challenge_2023/result_experiments/run_compile_all_cython.txt\n",
      "/kaggle/input/hyperparameters-tuning-better/Recsys_Challenge_2023/.git/config\n",
      "/kaggle/input/hyperparameters-tuning-better/Recsys_Challenge_2023/.git/packed-refs\n",
      "/kaggle/input/hyperparameters-tuning-better/Recsys_Challenge_2023/.git/HEAD\n",
      "/kaggle/input/hyperparameters-tuning-better/Recsys_Challenge_2023/.git/index\n",
      "/kaggle/input/hyperparameters-tuning-better/Recsys_Challenge_2023/.git/description\n",
      "/kaggle/input/hyperparameters-tuning-better/Recsys_Challenge_2023/.git/info/exclude\n",
      "/kaggle/input/hyperparameters-tuning-better/Recsys_Challenge_2023/.git/refs/heads/master\n",
      "/kaggle/input/hyperparameters-tuning-better/Recsys_Challenge_2023/.git/refs/remotes/origin/HEAD\n",
      "/kaggle/input/hyperparameters-tuning-better/Recsys_Challenge_2023/.git/hooks/pre-merge-commit.sample\n",
      "/kaggle/input/hyperparameters-tuning-better/Recsys_Challenge_2023/.git/hooks/prepare-commit-msg.sample\n",
      "/kaggle/input/hyperparameters-tuning-better/Recsys_Challenge_2023/.git/hooks/update.sample\n",
      "/kaggle/input/hyperparameters-tuning-better/Recsys_Challenge_2023/.git/hooks/pre-push.sample\n",
      "/kaggle/input/hyperparameters-tuning-better/Recsys_Challenge_2023/.git/hooks/pre-rebase.sample\n",
      "/kaggle/input/hyperparameters-tuning-better/Recsys_Challenge_2023/.git/hooks/pre-applypatch.sample\n",
      "/kaggle/input/hyperparameters-tuning-better/Recsys_Challenge_2023/.git/hooks/pre-commit.sample\n",
      "/kaggle/input/hyperparameters-tuning-better/Recsys_Challenge_2023/.git/hooks/commit-msg.sample\n",
      "/kaggle/input/hyperparameters-tuning-better/Recsys_Challenge_2023/.git/hooks/post-update.sample\n",
      "/kaggle/input/hyperparameters-tuning-better/Recsys_Challenge_2023/.git/hooks/pre-receive.sample\n",
      "/kaggle/input/hyperparameters-tuning-better/Recsys_Challenge_2023/.git/hooks/fsmonitor-watchman.sample\n",
      "/kaggle/input/hyperparameters-tuning-better/Recsys_Challenge_2023/.git/hooks/applypatch-msg.sample\n",
      "/kaggle/input/hyperparameters-tuning-better/Recsys_Challenge_2023/.git/logs/HEAD\n",
      "/kaggle/input/hyperparameters-tuning-better/Recsys_Challenge_2023/.git/logs/refs/heads/master\n",
      "/kaggle/input/hyperparameters-tuning-better/Recsys_Challenge_2023/.git/logs/refs/remotes/origin/HEAD\n",
      "/kaggle/input/hyperparameters-tuning-better/Recsys_Challenge_2023/.git/objects/pack/pack-a31b842487d0bb8f68659ba797dfc3bea4d11c59.idx\n",
      "/kaggle/input/hyperparameters-tuning-better/Recsys_Challenge_2023/.git/objects/pack/pack-a31b842487d0bb8f68659ba797dfc3bea4d11c59.pack\n",
      "/kaggle/input/hyperparameters-tuning-better/Recsys_Challenge_2023/challenge_notebooks/list-combination.ipynb\n",
      "/kaggle/input/hyperparameters-tuning-better/Recsys_Challenge_2023/challenge_notebooks/hyperparameters-tuning.ipynb\n",
      "/kaggle/input/hyperparameters-tuning-better/Recsys_Challenge_2023/challenge_notebooks/rp3-tuning.ipynb\n",
      "/kaggle/input/hyperparameters-tuning-better/Recsys_Challenge_2023/challenge_notebooks/hybrid-precision.ipynb\n",
      "/kaggle/input/hyperparameters-tuning-better/Recsys_Challenge_2023/challenge_notebooks/linear-combination.ipynb\n",
      "/kaggle/input/hyperparameters-tuning-better/Recsys_Challenge_2023/challenge_notebooks/rp3-itemknn-hybrid.ipynb\n",
      "/kaggle/input/hyperparameters-tuning-better/Recsys_Challenge_2023/challenge_notebooks/merging-models.ipynb\n",
      "/kaggle/input/hyperparameters-tuning-better/Recsys_Challenge_2023/challenge_notebooks/hyperparameters-tuning-better.ipynb\n",
      "/kaggle/input/hyperparameters-tuning-better/Recsys_Challenge_2023/challenge_notebooks/srecsys-challenge.ipynb\n",
      "/kaggle/input/hyperparameters-tuning-better/Recsys_Challenge_2023/Evaluation/metrics.py\n",
      "/kaggle/input/hyperparameters-tuning-better/Recsys_Challenge_2023/Evaluation/Evaluator.py\n",
      "/kaggle/input/hyperparameters-tuning-better/Recsys_Challenge_2023/Evaluation/__pycache__/metrics.cpython-310.pyc\n",
      "/kaggle/input/hyperparameters-tuning-better/Recsys_Challenge_2023/Evaluation/__pycache__/Evaluator.cpython-310.pyc\n",
      "/kaggle/input/hyperparameters-tuning-better/__results___files/__results___19_0.png\n",
      "/kaggle/input/hyperparameters-tuning-better/__results___files/__results___18_0.png\n",
      "/kaggle/input/hyperparameters-tuning/best_params_ials_v2.json\n",
      "/kaggle/input/hyperparameters-tuning/__results__.html\n",
      "/kaggle/input/hyperparameters-tuning/tuning.db\n",
      "/kaggle/input/hyperparameters-tuning/__notebook__.ipynb\n",
      "/kaggle/input/hyperparameters-tuning/__output__.json\n",
      "/kaggle/input/hyperparameters-tuning/custom.css\n",
      "/kaggle/input/hyperparameters-tuning/Recsys_Challenge_2023/run_all_algorithms.py\n",
      "/kaggle/input/hyperparameters-tuning/Recsys_Challenge_2023/cython_example_FunkSVD.py\n",
      "/kaggle/input/hyperparameters-tuning/Recsys_Challenge_2023/LICENSE\n",
      "/kaggle/input/hyperparameters-tuning/Recsys_Challenge_2023/.gitignore\n",
      "/kaggle/input/hyperparameters-tuning/Recsys_Challenge_2023/rp3-tuning.ipynb\n",
      "/kaggle/input/hyperparameters-tuning/Recsys_Challenge_2023/README.md\n",
      "/kaggle/input/hyperparameters-tuning/Recsys_Challenge_2023/run_hyperparameter_search.py\n",
      "/kaggle/input/hyperparameters-tuning/Recsys_Challenge_2023/cython_example_SLIM_MSE.py\n",
      "/kaggle/input/hyperparameters-tuning/Recsys_Challenge_2023/requirements.txt\n",
      "/kaggle/input/hyperparameters-tuning/Recsys_Challenge_2023/run_test_recommenders.py\n",
      "/kaggle/input/hyperparameters-tuning/Recsys_Challenge_2023/run_compile_all_cython.py\n",
      "/kaggle/input/hyperparameters-tuning/Recsys_Challenge_2023/hybrid.ipynb\n",
      "/kaggle/input/hyperparameters-tuning/Recsys_Challenge_2023/Data_manager/DataSplitter_Holdout.py\n",
      "/kaggle/input/hyperparameters-tuning/Recsys_Challenge_2023/Data_manager/DataSplitter.py\n",
      "/kaggle/input/hyperparameters-tuning/Recsys_Challenge_2023/Data_manager/DatasetMapperManager.py\n",
      "/kaggle/input/hyperparameters-tuning/Recsys_Challenge_2023/Data_manager/data_consistency_check.py\n",
      "/kaggle/input/hyperparameters-tuning/Recsys_Challenge_2023/Data_manager/README.md\n",
      "/kaggle/input/hyperparameters-tuning/Recsys_Challenge_2023/Data_manager/TagPreprocessing.py\n",
      "/kaggle/input/hyperparameters-tuning/Recsys_Challenge_2023/Data_manager/DataReader.py\n",
      "/kaggle/input/hyperparameters-tuning/Recsys_Challenge_2023/Data_manager/DataReader_utils.py\n",
      "/kaggle/input/hyperparameters-tuning/Recsys_Challenge_2023/Data_manager/IncrementalSparseMatrix.py\n",
      "/kaggle/input/hyperparameters-tuning/Recsys_Challenge_2023/Data_manager/run_clean_split_data_files.py\n",
      "/kaggle/input/hyperparameters-tuning/Recsys_Challenge_2023/Data_manager/Dataset.py\n",
      "/kaggle/input/hyperparameters-tuning/Recsys_Challenge_2023/Data_manager/DataSplitter_leave_k_out.py\n",
      "/kaggle/input/hyperparameters-tuning/Recsys_Challenge_2023/Data_manager/__init__.py\n",
      "/kaggle/input/hyperparameters-tuning/Recsys_Challenge_2023/Data_manager/__pycache__/data_consistency_check.cpython-310.pyc\n",
      "/kaggle/input/hyperparameters-tuning/Recsys_Challenge_2023/Data_manager/__pycache__/DatasetMapperManager.cpython-310.pyc\n",
      "/kaggle/input/hyperparameters-tuning/Recsys_Challenge_2023/Data_manager/__pycache__/IncrementalSparseMatrix.cpython-310.pyc\n",
      "/kaggle/input/hyperparameters-tuning/Recsys_Challenge_2023/Data_manager/__pycache__/DataReader.cpython-310.pyc\n",
      "/kaggle/input/hyperparameters-tuning/Recsys_Challenge_2023/Data_manager/__pycache__/DataReader_utils.cpython-310.pyc\n",
      "/kaggle/input/hyperparameters-tuning/Recsys_Challenge_2023/Data_manager/__pycache__/__init__.cpython-310.pyc\n",
      "/kaggle/input/hyperparameters-tuning/Recsys_Challenge_2023/Data_manager/__pycache__/Dataset.cpython-310.pyc\n",
      "/kaggle/input/hyperparameters-tuning/Recsys_Challenge_2023/Data_manager/split_functions/split_train_validation_leave_k_out.py\n",
      "/kaggle/input/hyperparameters-tuning/Recsys_Challenge_2023/Data_manager/split_functions/split_train_validation_cold_items.py\n",
      "/kaggle/input/hyperparameters-tuning/Recsys_Challenge_2023/Data_manager/split_functions/split_train_validation_random_holdout.py\n",
      "/kaggle/input/hyperparameters-tuning/Recsys_Challenge_2023/Data_manager/split_functions/__pycache__/split_train_validation_random_holdout.cpython-310.pyc\n",
      "/kaggle/input/hyperparameters-tuning/Recsys_Challenge_2023/Data_manager/Movielens/Movielens10MReader.py\n",
      "/kaggle/input/hyperparameters-tuning/Recsys_Challenge_2023/Data_manager/Movielens/Movielens1MReader.py\n",
      "/kaggle/input/hyperparameters-tuning/Recsys_Challenge_2023/Data_manager/Movielens/Movielens100KReader.py\n",
      "/kaggle/input/hyperparameters-tuning/Recsys_Challenge_2023/Data_manager/Movielens/MovielensHetrec2011Reader.py\n",
      "/kaggle/input/hyperparameters-tuning/Recsys_Challenge_2023/Data_manager/Movielens/_utils_movielens_parser.py\n",
      "/kaggle/input/hyperparameters-tuning/Recsys_Challenge_2023/Data_manager/Movielens/Movielens20MReader.py\n",
      "/kaggle/input/hyperparameters-tuning/Recsys_Challenge_2023/Data_manager/Movielens/__pycache__/Movielens10MReader.cpython-310.pyc\n",
      "/kaggle/input/hyperparameters-tuning/Recsys_Challenge_2023/Data_manager/Movielens/__pycache__/Movielens1MReader.cpython-310.pyc\n",
      "/kaggle/input/hyperparameters-tuning/Recsys_Challenge_2023/Data_manager/Movielens/__pycache__/_utils_movielens_parser.cpython-310.pyc\n",
      "/kaggle/input/hyperparameters-tuning/Recsys_Challenge_2023/Data_manager/Movielens/__pycache__/Movielens20MReader.cpython-310.pyc\n",
      "/kaggle/input/hyperparameters-tuning/Recsys_Challenge_2023/Data_manager/Movielens/__pycache__/Movielens100KReader.cpython-310.pyc\n",
      "/kaggle/input/hyperparameters-tuning/Recsys_Challenge_2023/Data_manager/Movielens/__pycache__/MovielensHetrec2011Reader.cpython-310.pyc\n",
      "/kaggle/input/hyperparameters-tuning/Recsys_Challenge_2023/Utils/seconds_to_biggest_unit.py\n",
      "/kaggle/input/hyperparameters-tuning/Recsys_Challenge_2023/Utils/PyTorch/utils.py\n",
      "/kaggle/input/hyperparameters-tuning/Recsys_Challenge_2023/Utils/PyTorch/DataSampler.py\n",
      "/kaggle/input/hyperparameters-tuning/Recsys_Challenge_2023/Utils/PyTorch/DataIterator.py\n",
      "/kaggle/input/hyperparameters-tuning/Recsys_Challenge_2023/Utils/PyTorch/Cython/DataIterator.pyx\n",
      "/kaggle/input/hyperparameters-tuning/Recsys_Challenge_2023/Utils/__pycache__/seconds_to_biggest_unit.cpython-310.pyc\n",
      "/kaggle/input/hyperparameters-tuning/Recsys_Challenge_2023/slides/20161219_BPR.pptx\n",
      "/kaggle/input/hyperparameters-tuning/Recsys_Challenge_2023/slides/Felicioni - Off Policy Evaluation.pdf\n",
      "/kaggle/input/hyperparameters-tuning/Recsys_Challenge_2023/slides/Amazon AWS.pdf\n",
      "/kaggle/input/hyperparameters-tuning/Recsys_Challenge_2023/slides/hu_koren_volinsky.pdf\n",
      "/kaggle/input/hyperparameters-tuning/Recsys_Challenge_2023/slides/2017_MF.pdf\n",
      "/kaggle/input/hyperparameters-tuning/Recsys_Challenge_2023/slides/FM.pdf\n",
      "/kaggle/input/hyperparameters-tuning/Recsys_Challenge_2023/slides/rendle_bpr.pdf\n",
      "/kaggle/input/hyperparameters-tuning/Recsys_Challenge_2023/slides/2017_MF.pptx\n",
      "/kaggle/input/hyperparameters-tuning/Recsys_Challenge_2023/slides/Introduction and Materials for RecSys Practice Sessions.pdf\n",
      "/kaggle/input/hyperparameters-tuning/Recsys_Challenge_2023/slides/List_of_KNN_similarity_heuristics.pdf\n",
      "/kaggle/input/hyperparameters-tuning/Recsys_Challenge_2023/slides/Sparse matrices.pdf\n",
      "/kaggle/input/hyperparameters-tuning/Recsys_Challenge_2023/slides/koren_sdv++.pdf\n",
      "/kaggle/input/hyperparameters-tuning/Recsys_Challenge_2023/slides/FunkSVD - 2006.pdf\n",
      "/kaggle/input/hyperparameters-tuning/Recsys_Challenge_2023/Notebooks_utils/Cosine_Similarity_Cython_SLOW.cpython-36m-x86_64-linux-gnu.so\n",
      "/kaggle/input/hyperparameters-tuning/Recsys_Challenge_2023/Notebooks_utils/Cosine_Similarity_Cython_SLOW.c\n",
      "/kaggle/input/hyperparameters-tuning/Recsys_Challenge_2023/Notebooks_utils/compileCython.py\n",
      "/kaggle/input/hyperparameters-tuning/Recsys_Challenge_2023/Notebooks_utils/Cosine_Similarity_Cython.pyx\n",
      "/kaggle/input/hyperparameters-tuning/Recsys_Challenge_2023/Notebooks_utils/Cosine_Similarity_Cython.html\n",
      "/kaggle/input/hyperparameters-tuning/Recsys_Challenge_2023/Notebooks_utils/Compute_Similarity_Python.py\n",
      "/kaggle/input/hyperparameters-tuning/Recsys_Challenge_2023/Notebooks_utils/Cosine_Similarity_Cython.c\n",
      "/kaggle/input/hyperparameters-tuning/Recsys_Challenge_2023/Notebooks_utils/Cosine_Similarity_Cython.cpython-36m-x86_64-linux-gnu.so\n",
      "/kaggle/input/hyperparameters-tuning/Recsys_Challenge_2023/Notebooks_utils/Cosine_Similarity_Cython_SLOW.pyx\n",
      "/kaggle/input/hyperparameters-tuning/Recsys_Challenge_2023/Notebooks_utils/Cosine_Similarity_Cython_SLOW.html\n",
      "/kaggle/input/hyperparameters-tuning/Recsys_Challenge_2023/CythonCompiler/compile_script.py\n",
      "/kaggle/input/hyperparameters-tuning/Recsys_Challenge_2023/CythonCompiler/run_compile_subprocess.py\n",
      "/kaggle/input/hyperparameters-tuning/Recsys_Challenge_2023/CythonCompiler/__pycache__/run_compile_subprocess.cpython-310.pyc\n",
      "/kaggle/input/hyperparameters-tuning/Recsys_Challenge_2023/Recommenders/IR_feature_weighting.py\n",
      "/kaggle/input/hyperparameters-tuning/Recsys_Challenge_2023/Recommenders/Incremental_Training_Early_Stopping.py\n",
      "/kaggle/input/hyperparameters-tuning/Recsys_Challenge_2023/Recommenders/BaseMatrixFactorizationRecommender.py\n",
      "/kaggle/input/hyperparameters-tuning/Recsys_Challenge_2023/Recommenders/BaseRecommender.py\n",
      "/kaggle/input/hyperparameters-tuning/Recsys_Challenge_2023/Recommenders/BaseCBFRecommender.py\n",
      "/kaggle/input/hyperparameters-tuning/Recsys_Challenge_2023/Recommenders/Recommender_import_list.py\n",
      "/kaggle/input/hyperparameters-tuning/Recsys_Challenge_2023/Recommenders/BaseTempFolder.py\n",
      "/kaggle/input/hyperparameters-tuning/Recsys_Challenge_2023/Recommenders/Recommender_utils.py\n",
      "/kaggle/input/hyperparameters-tuning/Recsys_Challenge_2023/Recommenders/NonPersonalizedRecommender.py\n",
      "/kaggle/input/hyperparameters-tuning/Recsys_Challenge_2023/Recommenders/BaseSimilarityMatrixRecommender.py\n",
      "/kaggle/input/hyperparameters-tuning/Recsys_Challenge_2023/Recommenders/DataIO.py\n",
      "/kaggle/input/hyperparameters-tuning/Recsys_Challenge_2023/Recommenders/PredefinedListRecommender.py\n",
      "/kaggle/input/hyperparameters-tuning/Recsys_Challenge_2023/Recommenders/Similarity/Compute_similarity_euclidean_test.py\n",
      "/kaggle/input/hyperparameters-tuning/Recsys_Challenge_2023/Recommenders/Similarity/Compute_Similarity_Euclidean.py\n",
      "/kaggle/input/hyperparameters-tuning/Recsys_Challenge_2023/Recommenders/Similarity/Compute_Similarity_Python.py\n",
      "/kaggle/input/hyperparameters-tuning/Recsys_Challenge_2023/Recommenders/Similarity/Compute_Similarity.py\n",
      "/kaggle/input/hyperparameters-tuning/Recsys_Challenge_2023/Recommenders/Similarity/Compute_similarity_test.py\n",
      "/kaggle/input/hyperparameters-tuning/Recsys_Challenge_2023/Recommenders/Similarity/__pycache__/Compute_Similarity_Python.cpython-310.pyc\n",
      "/kaggle/input/hyperparameters-tuning/Recsys_Challenge_2023/Recommenders/Similarity/__pycache__/Compute_Similarity.cpython-310.pyc\n",
      "/kaggle/input/hyperparameters-tuning/Recsys_Challenge_2023/Recommenders/Similarity/__pycache__/Compute_Similarity_Euclidean.cpython-310.pyc\n",
      "/kaggle/input/hyperparameters-tuning/Recsys_Challenge_2023/Recommenders/Similarity/Cython/Compute_Similarity_Cython.cpython-310-x86_64-linux-gnu.so\n",
      "/kaggle/input/hyperparameters-tuning/Recsys_Challenge_2023/Recommenders/Similarity/Cython/Compute_Similarity_Cython.pyx\n",
      "/kaggle/input/hyperparameters-tuning/Recsys_Challenge_2023/Recommenders/Similarity/Cython/Compute_Similarity_Cython.html\n",
      "/kaggle/input/hyperparameters-tuning/Recsys_Challenge_2023/Recommenders/Similarity/Cython/Compute_Similarity_Cython.c\n",
      "/kaggle/input/hyperparameters-tuning/Recsys_Challenge_2023/Recommenders/EASE_R/EASE_R_Recommender.py\n",
      "/kaggle/input/hyperparameters-tuning/Recsys_Challenge_2023/Recommenders/SLIM/SLIMElasticNetRecommender.py\n",
      "/kaggle/input/hyperparameters-tuning/Recsys_Challenge_2023/Recommenders/SLIM/SLIM_BPR_Python.py\n",
      "/kaggle/input/hyperparameters-tuning/Recsys_Challenge_2023/Recommenders/SLIM/__pycache__/SLIMElasticNetRecommender.cpython-310.pyc\n",
      "/kaggle/input/hyperparameters-tuning/Recsys_Challenge_2023/Recommenders/SLIM/Cython/Triangular_Matrix.cpython-310-x86_64-linux-gnu.so\n",
      "/kaggle/input/hyperparameters-tuning/Recsys_Challenge_2023/Recommenders/SLIM/Cython/Triangular_Matrix.c\n",
      "/kaggle/input/hyperparameters-tuning/Recsys_Challenge_2023/Recommenders/SLIM/Cython/SLIM_BPR_Cython.py\n",
      "/kaggle/input/hyperparameters-tuning/Recsys_Challenge_2023/Recommenders/SLIM/Cython/Sparse_Matrix_Tree_CSR.pyx\n",
      "/kaggle/input/hyperparameters-tuning/Recsys_Challenge_2023/Recommenders/SLIM/Cython/Triangular_Matrix.pyx\n",
      "/kaggle/input/hyperparameters-tuning/Recsys_Challenge_2023/Recommenders/SLIM/Cython/SLIM_BPR_Cython_Epoch.pyx\n",
      "/kaggle/input/hyperparameters-tuning/Recsys_Challenge_2023/Recommenders/SLIM/Cython/Triangular_Matrix.html\n",
      "/kaggle/input/hyperparameters-tuning/Recsys_Challenge_2023/Recommenders/GraphBased/RP3betaRecommender.py\n",
      "/kaggle/input/hyperparameters-tuning/Recsys_Challenge_2023/Recommenders/GraphBased/P3alphaRecommender.py\n",
      "/kaggle/input/hyperparameters-tuning/Recsys_Challenge_2023/Recommenders/FactorizationMachines/LightFMRecommender.py\n",
      "/kaggle/input/hyperparameters-tuning/Recsys_Challenge_2023/Recommenders/__pycache__/BaseRecommender.cpython-310.pyc\n",
      "/kaggle/input/hyperparameters-tuning/Recsys_Challenge_2023/Recommenders/__pycache__/BaseSimilarityMatrixRecommender.cpython-310.pyc\n",
      "/kaggle/input/hyperparameters-tuning/Recsys_Challenge_2023/Recommenders/__pycache__/BaseMatrixFactorizationRecommender.cpython-310.pyc\n",
      "/kaggle/input/hyperparameters-tuning/Recsys_Challenge_2023/Recommenders/__pycache__/Incremental_Training_Early_Stopping.cpython-310.pyc\n",
      "/kaggle/input/hyperparameters-tuning/Recsys_Challenge_2023/Recommenders/__pycache__/IR_feature_weighting.cpython-310.pyc\n",
      "/kaggle/input/hyperparameters-tuning/Recsys_Challenge_2023/Recommenders/__pycache__/DataIO.cpython-310.pyc\n",
      "/kaggle/input/hyperparameters-tuning/Recsys_Challenge_2023/Recommenders/__pycache__/BaseTempFolder.cpython-310.pyc\n",
      "/kaggle/input/hyperparameters-tuning/Recsys_Challenge_2023/Recommenders/__pycache__/Recommender_utils.cpython-310.pyc\n",
      "/kaggle/input/hyperparameters-tuning/Recsys_Challenge_2023/Recommenders/KNN/ItemKNNCustomSimilarityRecommender.py\n",
      "/kaggle/input/hyperparameters-tuning/Recsys_Challenge_2023/Recommenders/KNN/ItemKNNCBFRecommender.py\n",
      "/kaggle/input/hyperparameters-tuning/Recsys_Challenge_2023/Recommenders/KNN/ItemKNNSimilarityHybridRecommender.py\n",
      "/kaggle/input/hyperparameters-tuning/Recsys_Challenge_2023/Recommenders/KNN/UserKNNCBFRecommender.py\n",
      "/kaggle/input/hyperparameters-tuning/Recsys_Challenge_2023/Recommenders/KNN/ItemKNNCFRecommender.py\n",
      "/kaggle/input/hyperparameters-tuning/Recsys_Challenge_2023/Recommenders/KNN/UserKNN_CFCBF_Hybrid_Recommender.py\n",
      "/kaggle/input/hyperparameters-tuning/Recsys_Challenge_2023/Recommenders/KNN/ItemKNN_CFCBF_Hybrid_Recommender.py\n",
      "/kaggle/input/hyperparameters-tuning/Recsys_Challenge_2023/Recommenders/KNN/UserKNNCFRecommender.py\n",
      "/kaggle/input/hyperparameters-tuning/Recsys_Challenge_2023/Recommenders/KNN/__pycache__/UserKNNCFRecommender.cpython-310.pyc\n",
      "/kaggle/input/hyperparameters-tuning/Recsys_Challenge_2023/Recommenders/KNN/__pycache__/ItemKNNCFRecommender.cpython-310.pyc\n",
      "/kaggle/input/hyperparameters-tuning/Recsys_Challenge_2023/Recommenders/Neural/architecture_utils.py\n",
      "/kaggle/input/hyperparameters-tuning/Recsys_Challenge_2023/Recommenders/Neural/MultVAERecommender.py\n",
      "/kaggle/input/hyperparameters-tuning/Recsys_Challenge_2023/Recommenders/Neural/MultVAE_PyTorch_Recommender.py\n",
      "/kaggle/input/hyperparameters-tuning/Recsys_Challenge_2023/Recommenders/FeatureWeighting/CFW_D_Similarity_Linalg.py\n",
      "/kaggle/input/hyperparameters-tuning/Recsys_Challenge_2023/Recommenders/FeatureWeighting/Cython/CFW_D_Similarity_Cython_SGD.cpython-310-x86_64-linux-gnu.so\n",
      "/kaggle/input/hyperparameters-tuning/Recsys_Challenge_2023/Recommenders/FeatureWeighting/Cython/HP3_Similarity_Cython_SGD.c\n",
      "/kaggle/input/hyperparameters-tuning/Recsys_Challenge_2023/Recommenders/FeatureWeighting/Cython/FBSM_Rating_Cython_SGD.c\n",
      "/kaggle/input/hyperparameters-tuning/Recsys_Challenge_2023/Recommenders/FeatureWeighting/Cython/CFW_DVV_Similarity_Cython_SGD.pyx\n",
      "/kaggle/input/hyperparameters-tuning/Recsys_Challenge_2023/Recommenders/FeatureWeighting/Cython/FBSM_Rating_Cython_SGD.cpython-310-x86_64-linux-gnu.so\n",
      "/kaggle/input/hyperparameters-tuning/Recsys_Challenge_2023/Recommenders/FeatureWeighting/Cython/CFW_D_Similarity_Cython_SGD.html\n",
      "/kaggle/input/hyperparameters-tuning/Recsys_Challenge_2023/Recommenders/FeatureWeighting/Cython/FBSM_Rating_Cython.py\n",
      "/kaggle/input/hyperparameters-tuning/Recsys_Challenge_2023/Recommenders/FeatureWeighting/Cython/CFW_DVV_Similarity_Cython_SGD.html\n",
      "/kaggle/input/hyperparameters-tuning/Recsys_Challenge_2023/Recommenders/FeatureWeighting/Cython/CFW_DVV_Similarity_Cython_SGD.cpython-310-x86_64-linux-gnu.so\n",
      "/kaggle/input/hyperparameters-tuning/Recsys_Challenge_2023/Recommenders/FeatureWeighting/Cython/HP3_Similarity_Cython.py\n",
      "/kaggle/input/hyperparameters-tuning/Recsys_Challenge_2023/Recommenders/FeatureWeighting/Cython/CFW_D_Similarity_Cython_SGD.c\n",
      "/kaggle/input/hyperparameters-tuning/Recsys_Challenge_2023/Recommenders/FeatureWeighting/Cython/CFW_D_Similarity_Cython_SGD.pyx\n",
      "/kaggle/input/hyperparameters-tuning/Recsys_Challenge_2023/Recommenders/FeatureWeighting/Cython/CFW_D_Similarity_Cython.py\n",
      "/kaggle/input/hyperparameters-tuning/Recsys_Challenge_2023/Recommenders/FeatureWeighting/Cython/FBSM_Rating_Cython_SGD.pyx\n",
      "/kaggle/input/hyperparameters-tuning/Recsys_Challenge_2023/Recommenders/FeatureWeighting/Cython/CFW_DVV_Similarity_Cython_SGD.c\n",
      "/kaggle/input/hyperparameters-tuning/Recsys_Challenge_2023/Recommenders/FeatureWeighting/Cython/HP3_Similarity_Cython_SGD.cpython-310-x86_64-linux-gnu.so\n",
      "/kaggle/input/hyperparameters-tuning/Recsys_Challenge_2023/Recommenders/FeatureWeighting/Cython/HP3_Similarity_Cython_SGD.pyx\n",
      "/kaggle/input/hyperparameters-tuning/Recsys_Challenge_2023/Recommenders/FeatureWeighting/Cython/CFW_DVV_Similarity_Cython.py\n",
      "/kaggle/input/hyperparameters-tuning/Recsys_Challenge_2023/Recommenders/FeatureWeighting/Cython/FBSM_Rating_Cython_SGD.html\n",
      "/kaggle/input/hyperparameters-tuning/Recsys_Challenge_2023/Recommenders/FeatureWeighting/Cython/HP3_Similarity_Cython_SGD.html\n",
      "/kaggle/input/hyperparameters-tuning/Recsys_Challenge_2023/Recommenders/MatrixFactorization/IALSRecommender.py\n",
      "/kaggle/input/hyperparameters-tuning/Recsys_Challenge_2023/Recommenders/MatrixFactorization/NMFRecommender.py\n",
      "/kaggle/input/hyperparameters-tuning/Recsys_Challenge_2023/Recommenders/MatrixFactorization/PureSVDRecommender.py\n",
      "/kaggle/input/hyperparameters-tuning/Recsys_Challenge_2023/Recommenders/MatrixFactorization/SVDFeatureRecommender.py\n",
      "/kaggle/input/hyperparameters-tuning/Recsys_Challenge_2023/Recommenders/MatrixFactorization/PyTorch/MF_MSE_PyTorch.py\n",
      "/kaggle/input/hyperparameters-tuning/Recsys_Challenge_2023/Recommenders/MatrixFactorization/PyTorch/MF_MSE_PyTorch_model.py\n",
      "/kaggle/input/hyperparameters-tuning/Recsys_Challenge_2023/Recommenders/MatrixFactorization/__pycache__/PureSVDRecommender.cpython-310.pyc\n",
      "/kaggle/input/hyperparameters-tuning/Recsys_Challenge_2023/Recommenders/MatrixFactorization/__pycache__/IALSRecommender.cpython-310.pyc\n",
      "/kaggle/input/hyperparameters-tuning/Recsys_Challenge_2023/Recommenders/MatrixFactorization/Cython/MatrixFactorization_Cython.py\n",
      "/kaggle/input/hyperparameters-tuning/Recsys_Challenge_2023/Recommenders/MatrixFactorization/Cython/MatrixFactorization_Cython_Epoch.cpython-310-x86_64-linux-gnu.so\n",
      "/kaggle/input/hyperparameters-tuning/Recsys_Challenge_2023/Recommenders/MatrixFactorization/Cython/MatrixFactorizationImpressions_Cython_Epoch.cpython-310-x86_64-linux-gnu.so\n",
      "/kaggle/input/hyperparameters-tuning/Recsys_Challenge_2023/Recommenders/MatrixFactorization/Cython/MatrixFactorizationImpressions_Cython.py\n",
      "/kaggle/input/hyperparameters-tuning/Recsys_Challenge_2023/Recommenders/MatrixFactorization/Cython/MatrixFactorization_Cython_Epoch.c\n",
      "/kaggle/input/hyperparameters-tuning/Recsys_Challenge_2023/Recommenders/MatrixFactorization/Cython/MatrixFactorization_Cython_Epoch.html\n",
      "/kaggle/input/hyperparameters-tuning/Recsys_Challenge_2023/Recommenders/MatrixFactorization/Cython/MatrixFactorizationImpressions_Cython_Epoch.pyx\n",
      "/kaggle/input/hyperparameters-tuning/Recsys_Challenge_2023/Recommenders/MatrixFactorization/Cython/MatrixFactorization_Cython_Epoch.pyx\n",
      "/kaggle/input/hyperparameters-tuning/Recsys_Challenge_2023/Recommenders/MatrixFactorization/Cython/MatrixFactorizationImpressions_Cython_Epoch.c\n",
      "/kaggle/input/hyperparameters-tuning/Recsys_Challenge_2023/Recommenders/MatrixFactorization/Cython/MatrixFactorizationImpressions_Cython_Epoch.html\n",
      "/kaggle/input/hyperparameters-tuning/Recsys_Challenge_2023/tuning_results/tuning_hybrid_merging.db\n",
      "/kaggle/input/hyperparameters-tuning/Recsys_Challenge_2023/tuning_results/tuning_hybrid.db\n",
      "/kaggle/input/hyperparameters-tuning/Recsys_Challenge_2023/tuning_results/best_params_ials_v2.json\n",
      "/kaggle/input/hyperparameters-tuning/Recsys_Challenge_2023/tuning_results/best_params_hybrid_merging.json\n",
      "/kaggle/input/hyperparameters-tuning/Recsys_Challenge_2023/tuning_results/best_params_knn_item.json\n",
      "/kaggle/input/hyperparameters-tuning/Recsys_Challenge_2023/tuning_results/tuning_RP3+ItemKNN_Hybrid.db\n",
      "/kaggle/input/hyperparameters-tuning/Recsys_Challenge_2023/tuning_results/best_params_EASE_R.json\n",
      "/kaggle/input/hyperparameters-tuning/Recsys_Challenge_2023/tuning_results/pure_svd_params.json\n",
      "/kaggle/input/hyperparameters-tuning/Recsys_Challenge_2023/tuning_results/pure_svd_trials.csv\n",
      "/kaggle/input/hyperparameters-tuning/Recsys_Challenge_2023/tuning_results/tuning.db\n",
      "/kaggle/input/hyperparameters-tuning/Recsys_Challenge_2023/tuning_results/tuning_hybrid_UserKNN_RP3Hybrid.db\n",
      "/kaggle/input/hyperparameters-tuning/Recsys_Challenge_2023/tuning_results/best_params_hybrid_UserKNN_RP3Hybrid.json\n",
      "/kaggle/input/hyperparameters-tuning/Recsys_Challenge_2023/tuning_results/best_params_RP3+ItemKNN_Hybrid.json\n",
      "/kaggle/input/hyperparameters-tuning/Recsys_Challenge_2023/tuning_results/best_params_hybrid.json\n",
      "/kaggle/input/hyperparameters-tuning/Recsys_Challenge_2023/tuning_results/best_params_ials.json\n",
      "/kaggle/input/hyperparameters-tuning/Recsys_Challenge_2023/tuning_results/best_params_knn_user.json\n",
      "/kaggle/input/hyperparameters-tuning/Recsys_Challenge_2023/tuning_results/best_params_RP3.json\n",
      "/kaggle/input/hyperparameters-tuning/Recsys_Challenge_2023/images/random_random_everywhere_meme.jpg\n",
      "/kaggle/input/hyperparameters-tuning/Recsys_Challenge_2023/images/ive_already_seen_it_meme.png\n",
      "/kaggle/input/hyperparameters-tuning/Recsys_Challenge_2023/images/bob_example.jpeg\n",
      "/kaggle/input/hyperparameters-tuning/Recsys_Challenge_2023/images/hstack_example.png\n",
      "/kaggle/input/hyperparameters-tuning/Recsys_Challenge_2023/images/FactorizationMachine.png\n",
      "/kaggle/input/hyperparameters-tuning/Recsys_Challenge_2023/images/ive_evaluated_your_performance_meme.jpg\n",
      "/kaggle/input/hyperparameters-tuning/Recsys_Challenge_2023/images/amongus_meme.png\n",
      "/kaggle/input/hyperparameters-tuning/Recsys_Challenge_2023/images/toy_story_poster.png\n",
      "/kaggle/input/hyperparameters-tuning/Recsys_Challenge_2023/images/better_than_average_on_the_first_try_meme.jpg\n",
      "/kaggle/input/hyperparameters-tuning/Recsys_Challenge_2023/HyperparameterTuning/SearchSingleCase.py\n",
      "/kaggle/input/hyperparameters-tuning/Recsys_Challenge_2023/HyperparameterTuning/SearchAbstractClass.py\n",
      "/kaggle/input/hyperparameters-tuning/Recsys_Challenge_2023/HyperparameterTuning/run_hyperparameter_search.py\n",
      "/kaggle/input/hyperparameters-tuning/Recsys_Challenge_2023/HyperparameterTuning/SearchBayesianSkopt.py\n",
      "/kaggle/input/hyperparameters-tuning/Recsys_Challenge_2023/Cython_examples/isPrime_slow.pyx\n",
      "/kaggle/input/hyperparameters-tuning/Recsys_Challenge_2023/Cython_examples/SLIM_MSE_fastest.pyx\n",
      "/kaggle/input/hyperparameters-tuning/Recsys_Challenge_2023/Cython_examples/isPrime_nochecks.pyx\n",
      "/kaggle/input/hyperparameters-tuning/Recsys_Challenge_2023/Cython_examples/isPrime.pyx\n",
      "/kaggle/input/hyperparameters-tuning/Recsys_Challenge_2023/Cython_examples/FunkSVD_fastest.pyx\n",
      "/kaggle/input/hyperparameters-tuning/Recsys_Challenge_2023/Cython_examples/FunkSVD_slow.pyx\n",
      "/kaggle/input/hyperparameters-tuning/Recsys_Challenge_2023/Cython_examples/SLIM_MSE_slow.pyx\n",
      "/kaggle/input/hyperparameters-tuning/Recsys_Challenge_2023/result_experiments/run_compile_all_cython.txt\n",
      "/kaggle/input/hyperparameters-tuning/Recsys_Challenge_2023/.git/config\n",
      "/kaggle/input/hyperparameters-tuning/Recsys_Challenge_2023/.git/packed-refs\n",
      "/kaggle/input/hyperparameters-tuning/Recsys_Challenge_2023/.git/HEAD\n",
      "/kaggle/input/hyperparameters-tuning/Recsys_Challenge_2023/.git/index\n",
      "/kaggle/input/hyperparameters-tuning/Recsys_Challenge_2023/.git/description\n",
      "/kaggle/input/hyperparameters-tuning/Recsys_Challenge_2023/.git/info/exclude\n",
      "/kaggle/input/hyperparameters-tuning/Recsys_Challenge_2023/.git/refs/heads/master\n",
      "/kaggle/input/hyperparameters-tuning/Recsys_Challenge_2023/.git/refs/remotes/origin/HEAD\n",
      "/kaggle/input/hyperparameters-tuning/Recsys_Challenge_2023/.git/hooks/pre-merge-commit.sample\n",
      "/kaggle/input/hyperparameters-tuning/Recsys_Challenge_2023/.git/hooks/prepare-commit-msg.sample\n",
      "/kaggle/input/hyperparameters-tuning/Recsys_Challenge_2023/.git/hooks/update.sample\n",
      "/kaggle/input/hyperparameters-tuning/Recsys_Challenge_2023/.git/hooks/pre-push.sample\n",
      "/kaggle/input/hyperparameters-tuning/Recsys_Challenge_2023/.git/hooks/pre-rebase.sample\n",
      "/kaggle/input/hyperparameters-tuning/Recsys_Challenge_2023/.git/hooks/pre-applypatch.sample\n",
      "/kaggle/input/hyperparameters-tuning/Recsys_Challenge_2023/.git/hooks/pre-commit.sample\n",
      "/kaggle/input/hyperparameters-tuning/Recsys_Challenge_2023/.git/hooks/commit-msg.sample\n",
      "/kaggle/input/hyperparameters-tuning/Recsys_Challenge_2023/.git/hooks/post-update.sample\n",
      "/kaggle/input/hyperparameters-tuning/Recsys_Challenge_2023/.git/hooks/pre-receive.sample\n",
      "/kaggle/input/hyperparameters-tuning/Recsys_Challenge_2023/.git/hooks/fsmonitor-watchman.sample\n",
      "/kaggle/input/hyperparameters-tuning/Recsys_Challenge_2023/.git/hooks/applypatch-msg.sample\n",
      "/kaggle/input/hyperparameters-tuning/Recsys_Challenge_2023/.git/logs/HEAD\n",
      "/kaggle/input/hyperparameters-tuning/Recsys_Challenge_2023/.git/logs/refs/heads/master\n",
      "/kaggle/input/hyperparameters-tuning/Recsys_Challenge_2023/.git/logs/refs/remotes/origin/HEAD\n",
      "/kaggle/input/hyperparameters-tuning/Recsys_Challenge_2023/.git/objects/pack/pack-acbd9bec0ea04117842bc08807199cedf690986c.idx\n",
      "/kaggle/input/hyperparameters-tuning/Recsys_Challenge_2023/.git/objects/pack/pack-acbd9bec0ea04117842bc08807199cedf690986c.pack\n",
      "/kaggle/input/hyperparameters-tuning/Recsys_Challenge_2023/challenge_notebooks/hyperparameters-tuning.ipynb\n",
      "/kaggle/input/hyperparameters-tuning/Recsys_Challenge_2023/challenge_notebooks/rp3-tuning.ipynb\n",
      "/kaggle/input/hyperparameters-tuning/Recsys_Challenge_2023/challenge_notebooks/rp3-itemknn-hybrid.ipynb\n",
      "/kaggle/input/hyperparameters-tuning/Recsys_Challenge_2023/challenge_notebooks/srecsys-challenge.ipynb\n",
      "/kaggle/input/hyperparameters-tuning/Recsys_Challenge_2023/Evaluation/metrics.py\n",
      "/kaggle/input/hyperparameters-tuning/Recsys_Challenge_2023/Evaluation/Evaluator.py\n",
      "/kaggle/input/hyperparameters-tuning/Recsys_Challenge_2023/Evaluation/__pycache__/metrics.cpython-310.pyc\n",
      "/kaggle/input/hyperparameters-tuning/Recsys_Challenge_2023/Evaluation/__pycache__/Evaluator.cpython-310.pyc\n",
      "/kaggle/input/hyperparameters-tuning/__results___files/__results___19_0.png\n",
      "/kaggle/input/hyperparameters-tuning/__results___files/__results___18_0.png\n"
     ]
    }
   ],
   "source": [
    "import numpy as np\n",
    "import pandas as pd\n",
    "import matplotlib.pyplot as plt\n",
    "import seaborn as sns\n",
    "import joblib\n",
    "import json\n",
    "import random\n",
    "import tqdm\n",
    "import gc\n",
    "import time\n",
    "import os\n",
    "import shutil\n",
    "import optuna\n",
    "import scipy.sparse as sps\n",
    "\n",
    "for dirname, _, filenames in os.walk('/kaggle/input'):\n",
    "    for filename in filenames:\n",
    "        print(os.path.join(dirname, filename))"
   ]
  },
  {
   "cell_type": "markdown",
   "id": "90b6db68",
   "metadata": {
    "papermill": {
     "duration": 0.018631,
     "end_time": "2023-11-27T20:33:34.730853",
     "exception": false,
     "start_time": "2023-11-27T20:33:34.712222",
     "status": "completed"
    },
    "tags": []
   },
   "source": [
    "# Configurations"
   ]
  },
  {
   "cell_type": "code",
   "execution_count": 5,
   "id": "096b66d1",
   "metadata": {
    "execution": {
     "iopub.execute_input": "2023-11-27T20:33:34.770579Z",
     "iopub.status.busy": "2023-11-27T20:33:34.769999Z",
     "iopub.status.idle": "2023-11-27T20:33:36.014167Z",
     "shell.execute_reply": "2023-11-27T20:33:36.013248Z"
    },
    "papermill": {
     "duration": 1.266514,
     "end_time": "2023-11-27T20:33:36.016349",
     "exception": false,
     "start_time": "2023-11-27T20:33:34.749835",
     "status": "completed"
    },
    "tags": []
   },
   "outputs": [
    {
     "name": "stdout",
     "output_type": "stream",
     "text": [
      "Repository found\n"
     ]
    }
   ],
   "source": [
    "from github import Github\n",
    "from github import Auth\n",
    "\n",
    "auth = Auth.Token(token)\n",
    "g = Github(auth=auth)\n",
    "\n",
    "repo = None\n",
    "for r in g.get_user().get_repos():\n",
    "    if r.name == 'Recsys_Challenge_2023':\n",
    "        repo = r\n",
    "        print('Repository found')"
   ]
  },
  {
   "cell_type": "code",
   "execution_count": 6,
   "id": "9462c317",
   "metadata": {
    "execution": {
     "iopub.execute_input": "2023-11-27T20:33:36.057582Z",
     "iopub.status.busy": "2023-11-27T20:33:36.056911Z",
     "iopub.status.idle": "2023-11-27T20:33:36.063681Z",
     "shell.execute_reply": "2023-11-27T20:33:36.062433Z"
    },
    "papermill": {
     "duration": 0.029803,
     "end_time": "2023-11-27T20:33:36.066093",
     "exception": false,
     "start_time": "2023-11-27T20:33:36.036290",
     "status": "completed"
    },
    "tags": []
   },
   "outputs": [],
   "source": [
    "def upload_file(filepath_kaggle, filepath_github, commit_message):\n",
    "    try:\n",
    "        contents = repo.get_contents(filepath_github)\n",
    "        with open(filepath_kaggle, \"rb\") as file:\n",
    "            repo.update_file(contents.path, commit_message, file.read(), contents.sha)\n",
    "    except Exception:\n",
    "        with open(filepath_kaggle, \"rb\") as file:\n",
    "            repo.create_file(filepath_github, commit_message, file.read())"
   ]
  },
  {
   "cell_type": "code",
   "execution_count": 7,
   "id": "9be06ca4",
   "metadata": {
    "execution": {
     "iopub.execute_input": "2023-11-27T20:33:36.172569Z",
     "iopub.status.busy": "2023-11-27T20:33:36.172134Z",
     "iopub.status.idle": "2023-11-27T20:33:36.180609Z",
     "shell.execute_reply": "2023-11-27T20:33:36.179524Z"
    },
    "papermill": {
     "duration": 0.09783,
     "end_time": "2023-11-27T20:33:36.182957",
     "exception": false,
     "start_time": "2023-11-27T20:33:36.085127",
     "status": "completed"
    },
    "tags": []
   },
   "outputs": [
    {
     "name": "stdout",
     "output_type": "stream",
     "text": [
      "\u001b[1m\u001b[31m\n",
      "RAM memory GB usage = 0.216\u001b[0m\n"
     ]
    }
   ],
   "source": [
    "from os import system, getpid, walk\n",
    "from psutil import Process\n",
    "from colorama import Fore, Style, init\n",
    "from IPython.display import display, HTML\n",
    "\n",
    "def PrintColor(text:str, color = Fore.BLUE, style = Style.BRIGHT):\n",
    "    print(style + color + text + Style.RESET_ALL)\n",
    "    \n",
    "def GetMemUsage():   \n",
    "    pid = getpid()\n",
    "    py = Process(pid)\n",
    "    memory_use = py.memory_info()[0] / 2. ** 30\n",
    "    return f\"RAM memory GB usage = {memory_use :.4}\"\n",
    "\n",
    "PrintColor(f\"\\n\" + GetMemUsage(), color = Fore.RED)"
   ]
  },
  {
   "cell_type": "code",
   "execution_count": 8,
   "id": "e9976f3d",
   "metadata": {
    "execution": {
     "iopub.execute_input": "2023-11-27T20:33:36.224918Z",
     "iopub.status.busy": "2023-11-27T20:33:36.224532Z",
     "iopub.status.idle": "2023-11-27T20:33:36.230399Z",
     "shell.execute_reply": "2023-11-27T20:33:36.229235Z"
    },
    "papermill": {
     "duration": 0.029551,
     "end_time": "2023-11-27T20:33:36.232630",
     "exception": false,
     "start_time": "2023-11-27T20:33:36.203079",
     "status": "completed"
    },
    "tags": []
   },
   "outputs": [],
   "source": [
    "config = {\n",
    "    'tune_parameters_item_knn': False,\n",
    "    'tune_parameters_user_knn': False,\n",
    "    'tune_parameters_ials': True,\n",
    "    'database_path': '/kaggle/working/better_tuning.db',\n",
    "    'copy_prev_tuning_db': True,\n",
    "    'copy_prev_best_params': False,\n",
    "    'save_github': True\n",
    "}"
   ]
  },
  {
   "cell_type": "code",
   "execution_count": 9,
   "id": "bb050350",
   "metadata": {
    "execution": {
     "iopub.execute_input": "2023-11-27T20:33:36.278800Z",
     "iopub.status.busy": "2023-11-27T20:33:36.278385Z",
     "iopub.status.idle": "2023-11-27T20:33:36.284477Z",
     "shell.execute_reply": "2023-11-27T20:33:36.283380Z"
    },
    "papermill": {
     "duration": 0.031979,
     "end_time": "2023-11-27T20:33:36.286855",
     "exception": false,
     "start_time": "2023-11-27T20:33:36.254876",
     "status": "completed"
    },
    "tags": []
   },
   "outputs": [],
   "source": [
    "try:\n",
    "    shutil.copyfile(\n",
    "        '/kaggle/working/Recsys_Challenge_2023/tuning_results/better_tuning.db', \n",
    "        config['database_path']\n",
    "    )\n",
    "except FileNotFoundError:\n",
    "    pass # if not present optuna will create it"
   ]
  },
  {
   "cell_type": "markdown",
   "id": "a8e1a2ab",
   "metadata": {
    "papermill": {
     "duration": 0.019589,
     "end_time": "2023-11-27T20:33:36.325930",
     "exception": false,
     "start_time": "2023-11-27T20:33:36.306341",
     "status": "completed"
    },
    "tags": []
   },
   "source": [
    "# Data Import"
   ]
  },
  {
   "cell_type": "code",
   "execution_count": 10,
   "id": "b1085a61",
   "metadata": {
    "execution": {
     "iopub.execute_input": "2023-11-27T20:33:36.377478Z",
     "iopub.status.busy": "2023-11-27T20:33:36.376976Z",
     "iopub.status.idle": "2023-11-27T20:33:36.596507Z",
     "shell.execute_reply": "2023-11-27T20:33:36.595506Z"
    },
    "papermill": {
     "duration": 0.249864,
     "end_time": "2023-11-27T20:33:36.598980",
     "exception": false,
     "start_time": "2023-11-27T20:33:36.349116",
     "status": "completed"
    },
    "tags": []
   },
   "outputs": [],
   "source": [
    "train_data = pd.read_csv('/kaggle/input/recommender-system-2023-challenge-polimi/data_train.csv')\n",
    "user_ids_test = pd.read_csv('/kaggle/input/recommender-system-2023-challenge-polimi/data_target_users_test.csv')"
   ]
  },
  {
   "cell_type": "code",
   "execution_count": 11,
   "id": "7f5bd4c6",
   "metadata": {
    "execution": {
     "iopub.execute_input": "2023-11-27T20:33:36.640422Z",
     "iopub.status.busy": "2023-11-27T20:33:36.639258Z",
     "iopub.status.idle": "2023-11-27T20:33:36.664006Z",
     "shell.execute_reply": "2023-11-27T20:33:36.662620Z"
    },
    "papermill": {
     "duration": 0.048499,
     "end_time": "2023-11-27T20:33:36.666889",
     "exception": false,
     "start_time": "2023-11-27T20:33:36.618390",
     "status": "completed"
    },
    "tags": []
   },
   "outputs": [
    {
     "data": {
      "text/html": [
       "<div>\n",
       "<style scoped>\n",
       "    .dataframe tbody tr th:only-of-type {\n",
       "        vertical-align: middle;\n",
       "    }\n",
       "\n",
       "    .dataframe tbody tr th {\n",
       "        vertical-align: top;\n",
       "    }\n",
       "\n",
       "    .dataframe thead th {\n",
       "        text-align: right;\n",
       "    }\n",
       "</style>\n",
       "<table border=\"1\" class=\"dataframe\">\n",
       "  <thead>\n",
       "    <tr style=\"text-align: right;\">\n",
       "      <th></th>\n",
       "      <th>row</th>\n",
       "      <th>col</th>\n",
       "      <th>data</th>\n",
       "    </tr>\n",
       "  </thead>\n",
       "  <tbody>\n",
       "    <tr>\n",
       "      <th>0</th>\n",
       "      <td>1</td>\n",
       "      <td>7</td>\n",
       "      <td>1.0</td>\n",
       "    </tr>\n",
       "    <tr>\n",
       "      <th>1</th>\n",
       "      <td>1</td>\n",
       "      <td>15</td>\n",
       "      <td>1.0</td>\n",
       "    </tr>\n",
       "    <tr>\n",
       "      <th>2</th>\n",
       "      <td>1</td>\n",
       "      <td>16</td>\n",
       "      <td>1.0</td>\n",
       "    </tr>\n",
       "    <tr>\n",
       "      <th>3</th>\n",
       "      <td>1</td>\n",
       "      <td>133</td>\n",
       "      <td>1.0</td>\n",
       "    </tr>\n",
       "    <tr>\n",
       "      <th>4</th>\n",
       "      <td>1</td>\n",
       "      <td>161</td>\n",
       "      <td>1.0</td>\n",
       "    </tr>\n",
       "  </tbody>\n",
       "</table>\n",
       "</div>"
      ],
      "text/plain": [
       "   row  col  data\n",
       "0    1    7   1.0\n",
       "1    1   15   1.0\n",
       "2    1   16   1.0\n",
       "3    1  133   1.0\n",
       "4    1  161   1.0"
      ]
     },
     "execution_count": 11,
     "metadata": {},
     "output_type": "execute_result"
    }
   ],
   "source": [
    "train_data.head(5)"
   ]
  },
  {
   "cell_type": "code",
   "execution_count": 12,
   "id": "02916e74",
   "metadata": {
    "execution": {
     "iopub.execute_input": "2023-11-27T20:33:36.707932Z",
     "iopub.status.busy": "2023-11-27T20:33:36.707512Z",
     "iopub.status.idle": "2023-11-27T20:33:36.716708Z",
     "shell.execute_reply": "2023-11-27T20:33:36.715597Z"
    },
    "papermill": {
     "duration": 0.032325,
     "end_time": "2023-11-27T20:33:36.718861",
     "exception": false,
     "start_time": "2023-11-27T20:33:36.686536",
     "status": "completed"
    },
    "tags": []
   },
   "outputs": [
    {
     "data": {
      "text/html": [
       "<div>\n",
       "<style scoped>\n",
       "    .dataframe tbody tr th:only-of-type {\n",
       "        vertical-align: middle;\n",
       "    }\n",
       "\n",
       "    .dataframe tbody tr th {\n",
       "        vertical-align: top;\n",
       "    }\n",
       "\n",
       "    .dataframe thead th {\n",
       "        text-align: right;\n",
       "    }\n",
       "</style>\n",
       "<table border=\"1\" class=\"dataframe\">\n",
       "  <thead>\n",
       "    <tr style=\"text-align: right;\">\n",
       "      <th></th>\n",
       "      <th>user_id</th>\n",
       "    </tr>\n",
       "  </thead>\n",
       "  <tbody>\n",
       "    <tr>\n",
       "      <th>0</th>\n",
       "      <td>1</td>\n",
       "    </tr>\n",
       "    <tr>\n",
       "      <th>1</th>\n",
       "      <td>2</td>\n",
       "    </tr>\n",
       "    <tr>\n",
       "      <th>2</th>\n",
       "      <td>3</td>\n",
       "    </tr>\n",
       "    <tr>\n",
       "      <th>3</th>\n",
       "      <td>4</td>\n",
       "    </tr>\n",
       "    <tr>\n",
       "      <th>4</th>\n",
       "      <td>5</td>\n",
       "    </tr>\n",
       "  </tbody>\n",
       "</table>\n",
       "</div>"
      ],
      "text/plain": [
       "   user_id\n",
       "0        1\n",
       "1        2\n",
       "2        3\n",
       "3        4\n",
       "4        5"
      ]
     },
     "execution_count": 12,
     "metadata": {},
     "output_type": "execute_result"
    }
   ],
   "source": [
    "user_ids_test.head(5)"
   ]
  },
  {
   "cell_type": "code",
   "execution_count": 13,
   "id": "26716970",
   "metadata": {
    "execution": {
     "iopub.execute_input": "2023-11-27T20:33:36.761181Z",
     "iopub.status.busy": "2023-11-27T20:33:36.760115Z",
     "iopub.status.idle": "2023-11-27T20:33:36.790450Z",
     "shell.execute_reply": "2023-11-27T20:33:36.789119Z"
    },
    "papermill": {
     "duration": 0.054442,
     "end_time": "2023-11-27T20:33:36.792863",
     "exception": false,
     "start_time": "2023-11-27T20:33:36.738421",
     "status": "completed"
    },
    "tags": []
   },
   "outputs": [
    {
     "name": "stdout",
     "output_type": "stream",
     "text": [
      "<class 'pandas.core.frame.DataFrame'>\n",
      "RangeIndex: 478730 entries, 0 to 478729\n",
      "Data columns (total 3 columns):\n",
      " #   Column  Non-Null Count   Dtype  \n",
      "---  ------  --------------   -----  \n",
      " 0   row     478730 non-null  int64  \n",
      " 1   col     478730 non-null  int64  \n",
      " 2   data    478730 non-null  float64\n",
      "dtypes: float64(1), int64(2)\n",
      "memory usage: 11.0 MB\n"
     ]
    }
   ],
   "source": [
    "train_data.info()"
   ]
  },
  {
   "cell_type": "code",
   "execution_count": 14,
   "id": "70f20e8e",
   "metadata": {
    "execution": {
     "iopub.execute_input": "2023-11-27T20:33:36.834522Z",
     "iopub.status.busy": "2023-11-27T20:33:36.834101Z",
     "iopub.status.idle": "2023-11-27T20:33:36.914603Z",
     "shell.execute_reply": "2023-11-27T20:33:36.913299Z"
    },
    "papermill": {
     "duration": 0.104751,
     "end_time": "2023-11-27T20:33:36.917440",
     "exception": false,
     "start_time": "2023-11-27T20:33:36.812689",
     "status": "completed"
    },
    "tags": []
   },
   "outputs": [
    {
     "data": {
      "text/html": [
       "<div>\n",
       "<style scoped>\n",
       "    .dataframe tbody tr th:only-of-type {\n",
       "        vertical-align: middle;\n",
       "    }\n",
       "\n",
       "    .dataframe tbody tr th {\n",
       "        vertical-align: top;\n",
       "    }\n",
       "\n",
       "    .dataframe thead th {\n",
       "        text-align: right;\n",
       "    }\n",
       "</style>\n",
       "<table border=\"1\" class=\"dataframe\">\n",
       "  <thead>\n",
       "    <tr style=\"text-align: right;\">\n",
       "      <th></th>\n",
       "      <th>row</th>\n",
       "      <th>col</th>\n",
       "      <th>data</th>\n",
       "    </tr>\n",
       "  </thead>\n",
       "  <tbody>\n",
       "    <tr>\n",
       "      <th>count</th>\n",
       "      <td>478730.000000</td>\n",
       "      <td>478730.000000</td>\n",
       "      <td>478730.0</td>\n",
       "    </tr>\n",
       "    <tr>\n",
       "      <th>mean</th>\n",
       "      <td>6477.521302</td>\n",
       "      <td>4101.952798</td>\n",
       "      <td>1.0</td>\n",
       "    </tr>\n",
       "    <tr>\n",
       "      <th>std</th>\n",
       "      <td>3738.435208</td>\n",
       "      <td>5388.639634</td>\n",
       "      <td>0.0</td>\n",
       "    </tr>\n",
       "    <tr>\n",
       "      <th>min</th>\n",
       "      <td>1.000000</td>\n",
       "      <td>1.000000</td>\n",
       "      <td>1.0</td>\n",
       "    </tr>\n",
       "    <tr>\n",
       "      <th>25%</th>\n",
       "      <td>3204.000000</td>\n",
       "      <td>315.000000</td>\n",
       "      <td>1.0</td>\n",
       "    </tr>\n",
       "    <tr>\n",
       "      <th>50%</th>\n",
       "      <td>6493.000000</td>\n",
       "      <td>1575.000000</td>\n",
       "      <td>1.0</td>\n",
       "    </tr>\n",
       "    <tr>\n",
       "      <th>75%</th>\n",
       "      <td>9715.000000</td>\n",
       "      <td>5879.000000</td>\n",
       "      <td>1.0</td>\n",
       "    </tr>\n",
       "    <tr>\n",
       "      <th>max</th>\n",
       "      <td>13024.000000</td>\n",
       "      <td>22347.000000</td>\n",
       "      <td>1.0</td>\n",
       "    </tr>\n",
       "  </tbody>\n",
       "</table>\n",
       "</div>"
      ],
      "text/plain": [
       "                 row            col      data\n",
       "count  478730.000000  478730.000000  478730.0\n",
       "mean     6477.521302    4101.952798       1.0\n",
       "std      3738.435208    5388.639634       0.0\n",
       "min         1.000000       1.000000       1.0\n",
       "25%      3204.000000     315.000000       1.0\n",
       "50%      6493.000000    1575.000000       1.0\n",
       "75%      9715.000000    5879.000000       1.0\n",
       "max     13024.000000   22347.000000       1.0"
      ]
     },
     "execution_count": 14,
     "metadata": {},
     "output_type": "execute_result"
    }
   ],
   "source": [
    "train_data.describe()"
   ]
  },
  {
   "cell_type": "code",
   "execution_count": 15,
   "id": "c47c8250",
   "metadata": {
    "execution": {
     "iopub.execute_input": "2023-11-27T20:33:36.961709Z",
     "iopub.status.busy": "2023-11-27T20:33:36.959535Z",
     "iopub.status.idle": "2023-11-27T20:33:36.970496Z",
     "shell.execute_reply": "2023-11-27T20:33:36.969245Z"
    },
    "papermill": {
     "duration": 0.035246,
     "end_time": "2023-11-27T20:33:36.973048",
     "exception": false,
     "start_time": "2023-11-27T20:33:36.937802",
     "status": "completed"
    },
    "tags": []
   },
   "outputs": [
    {
     "name": "stdout",
     "output_type": "stream",
     "text": [
      "Train number of users: 13024\n",
      "Test number of users: 10882\n"
     ]
    }
   ],
   "source": [
    "n_users_train = train_data.row.max()\n",
    "n_users_test = len(user_ids_test.user_id.unique())\n",
    "\n",
    "print(f'Train number of users: {n_users_train}')\n",
    "print(f'Test number of users: {n_users_test}')"
   ]
  },
  {
   "cell_type": "code",
   "execution_count": 16,
   "id": "e58e7d17",
   "metadata": {
    "execution": {
     "iopub.execute_input": "2023-11-27T20:33:37.016815Z",
     "iopub.status.busy": "2023-11-27T20:33:37.016143Z",
     "iopub.status.idle": "2023-11-27T20:33:37.022304Z",
     "shell.execute_reply": "2023-11-27T20:33:37.021410Z"
    },
    "papermill": {
     "duration": 0.030682,
     "end_time": "2023-11-27T20:33:37.024432",
     "exception": false,
     "start_time": "2023-11-27T20:33:36.993750",
     "status": "completed"
    },
    "tags": []
   },
   "outputs": [
    {
     "name": "stdout",
     "output_type": "stream",
     "text": [
      "Number of items: 22347\n"
     ]
    }
   ],
   "source": [
    "number_of_items = train_data.col.max()\n",
    "\n",
    "print(f'Number of items: {number_of_items}')"
   ]
  },
  {
   "cell_type": "code",
   "execution_count": 17,
   "id": "cc9afc28",
   "metadata": {
    "execution": {
     "iopub.execute_input": "2023-11-27T20:33:37.068413Z",
     "iopub.status.busy": "2023-11-27T20:33:37.067977Z",
     "iopub.status.idle": "2023-11-27T20:33:37.525205Z",
     "shell.execute_reply": "2023-11-27T20:33:37.524054Z"
    },
    "papermill": {
     "duration": 0.481379,
     "end_time": "2023-11-27T20:33:37.527890",
     "exception": false,
     "start_time": "2023-11-27T20:33:37.046511",
     "status": "completed"
    },
    "tags": []
   },
   "outputs": [
    {
     "data": {
      "image/png": "[encoded data removed]",
      "text/plain": [
       "<Figure size 640x480 with 1 Axes>"
      ]
     },
     "metadata": {},
     "output_type": "display_data"
    }
   ],
   "source": [
    "train_data.groupby('row').count().col.plot()\n",
    "plt.xlabel('user_id')\n",
    "plt.ylabel('number of items')\n",
    "plt.title('Number of items per user');"
   ]
  },
  {
   "cell_type": "code",
   "execution_count": 18,
   "id": "fa21642f",
   "metadata": {
    "execution": {
     "iopub.execute_input": "2023-11-27T20:33:37.573591Z",
     "iopub.status.busy": "2023-11-27T20:33:37.573127Z",
     "iopub.status.idle": "2023-11-27T20:33:37.941566Z",
     "shell.execute_reply": "2023-11-27T20:33:37.940255Z"
    },
    "papermill": {
     "duration": 0.394813,
     "end_time": "2023-11-27T20:33:37.944455",
     "exception": false,
     "start_time": "2023-11-27T20:33:37.549642",
     "status": "completed"
    },
    "tags": []
   },
   "outputs": [
    {
     "data": {
      "image/png": "[encoded data removed]",
      "text/plain": [
       "<Figure size 640x480 with 1 Axes>"
      ]
     },
     "metadata": {},
     "output_type": "display_data"
    }
   ],
   "source": [
    "train_data.groupby('col').count().row.plot()\n",
    "plt.xlabel('item_id')\n",
    "plt.ylabel('number of users')\n",
    "plt.title('Number of users per item');"
   ]
  },
  {
   "cell_type": "code",
   "execution_count": 19,
   "id": "141a7b80",
   "metadata": {
    "execution": {
     "iopub.execute_input": "2023-11-27T20:33:37.989006Z",
     "iopub.status.busy": "2023-11-27T20:33:37.988588Z",
     "iopub.status.idle": "2023-11-27T20:33:38.014315Z",
     "shell.execute_reply": "2023-11-27T20:33:38.013056Z"
    },
    "papermill": {
     "duration": 0.051006,
     "end_time": "2023-11-27T20:33:38.016609",
     "exception": false,
     "start_time": "2023-11-27T20:33:37.965603",
     "status": "completed"
    },
    "tags": []
   },
   "outputs": [
    {
     "data": {
      "text/plain": [
       "<13024x22347 sparse matrix of type '<class 'numpy.float64'>'\n",
       "\twith 478730 stored elements in Compressed Sparse Row format>"
      ]
     },
     "execution_count": 19,
     "metadata": {},
     "output_type": "execute_result"
    }
   ],
   "source": [
    "URM_all = sps.csr_matrix((train_data.data.values,\n",
    "                          ((train_data.row - 1).values, (train_data.col - 1).values)),\n",
    "                        shape=(train_data.row.max(), train_data.col.max()))\n",
    "URM_all"
   ]
  },
  {
   "cell_type": "markdown",
   "id": "4bf2bc47",
   "metadata": {
    "papermill": {
     "duration": 0.021686,
     "end_time": "2023-11-27T20:33:38.060861",
     "exception": false,
     "start_time": "2023-11-27T20:33:38.039175",
     "status": "completed"
    },
    "tags": []
   },
   "source": [
    "# Cross Validation Split"
   ]
  },
  {
   "cell_type": "code",
   "execution_count": 20,
   "id": "3e4f9097",
   "metadata": {
    "execution": {
     "iopub.execute_input": "2023-11-27T20:33:38.105992Z",
     "iopub.status.busy": "2023-11-27T20:33:38.105619Z",
     "iopub.status.idle": "2023-11-27T20:33:38.112651Z",
     "shell.execute_reply": "2023-11-27T20:33:38.111216Z"
    },
    "papermill": {
     "duration": 0.032143,
     "end_time": "2023-11-27T20:33:38.114807",
     "exception": false,
     "start_time": "2023-11-27T20:33:38.082664",
     "status": "completed"
    },
    "tags": []
   },
   "outputs": [
    {
     "name": "stdout",
     "output_type": "stream",
     "text": [
      "/kaggle/working/Recsys_Challenge_2023\n"
     ]
    }
   ],
   "source": [
    "%cd /kaggle/working/Recsys_Challenge_2023"
   ]
  },
  {
   "cell_type": "code",
   "execution_count": 21,
   "id": "14f4cd10",
   "metadata": {
    "execution": {
     "iopub.execute_input": "2023-11-27T20:33:38.159074Z",
     "iopub.status.busy": "2023-11-27T20:33:38.158705Z",
     "iopub.status.idle": "2023-11-27T20:33:38.200264Z",
     "shell.execute_reply": "2023-11-27T20:33:38.199244Z"
    },
    "papermill": {
     "duration": 0.066725,
     "end_time": "2023-11-27T20:33:38.202757",
     "exception": false,
     "start_time": "2023-11-27T20:33:38.136032",
     "status": "completed"
    },
    "tags": []
   },
   "outputs": [],
   "source": [
    "from Data_manager.IncrementalSparseMatrix import IncrementalSparseMatrix\n",
    "\n",
    "\n",
    "class CrossValidationSplitter:\n",
    "    def __init__(self, n_splits):\n",
    "        self.n_splits = n_splits\n",
    "        self.folds = []\n",
    "        \n",
    "    def split(self, URM):\n",
    "        n_int_per_split = int(URM.nnz / self.n_splits)\n",
    "        indices = np.arange(0, URM.nnz, 1)\n",
    "        np.random.shuffle(indices)\n",
    "        num_users, num_items = URM.shape\n",
    "        \n",
    "        URM_all = sps.coo_matrix(URM)\n",
    "        \n",
    "        for i in range(self.n_splits):\n",
    "            if i == self.n_splits - 1:\n",
    "                indices_valid = indices[n_int_per_split * i:]\n",
    "                indices_train = indices[:n_int_per_split * i]\n",
    "            else:\n",
    "                indices_valid = indices[n_int_per_split * i: n_int_per_split * (i + 1)]\n",
    "                indices_train_1 = indices[n_int_per_split * max(0, i - 1): n_int_per_split * i]\n",
    "                indices_train_2 = indices[n_int_per_split * (i + 1):]\n",
    "                indices_train = np.concatenate((indices_train_1, indices_train_2))\n",
    "                \n",
    "            URM_valid_builder = IncrementalSparseMatrix(\n",
    "                n_rows=num_users, n_cols=num_items, auto_create_col_mapper=False, \n",
    "                auto_create_row_mapper=False\n",
    "            )\n",
    "            \n",
    "            URM_train_builder = IncrementalSparseMatrix(\n",
    "                n_rows=num_users, n_cols=num_items, auto_create_col_mapper=False, \n",
    "                auto_create_row_mapper=False\n",
    "            )\n",
    "            \n",
    "            URM_valid_builder.add_data_lists(\n",
    "                URM_all.row[indices_valid],\n",
    "                URM_all.col[indices_valid],\n",
    "                URM_all.data[indices_valid]\n",
    "            )\n",
    "            \n",
    "            URM_train_builder.add_data_lists(\n",
    "                URM_all.row[indices_train],\n",
    "                URM_all.col[indices_train],\n",
    "                URM_all.data[indices_train]\n",
    "            )\n",
    "            \n",
    "            yield URM_train_builder.get_SparseMatrix(), URM_valid_builder.get_SparseMatrix()"
   ]
  },
  {
   "cell_type": "markdown",
   "id": "bb1ae489",
   "metadata": {
    "papermill": {
     "duration": 0.021339,
     "end_time": "2023-11-27T20:33:38.247403",
     "exception": false,
     "start_time": "2023-11-27T20:33:38.226064",
     "status": "completed"
    },
    "tags": []
   },
   "source": [
    "# Experiments"
   ]
  },
  {
   "cell_type": "code",
   "execution_count": 22,
   "id": "8158f847",
   "metadata": {
    "execution": {
     "iopub.execute_input": "2023-11-27T20:33:38.292627Z",
     "iopub.status.busy": "2023-11-27T20:33:38.292144Z",
     "iopub.status.idle": "2023-11-27T20:33:38.884757Z",
     "shell.execute_reply": "2023-11-27T20:33:38.883707Z"
    },
    "papermill": {
     "duration": 0.617817,
     "end_time": "2023-11-27T20:33:38.887294",
     "exception": false,
     "start_time": "2023-11-27T20:33:38.269477",
     "status": "completed"
    },
    "tags": []
   },
   "outputs": [],
   "source": [
    "from Recommenders.KNN.UserKNNCFRecommender import UserKNNCFRecommender\n",
    "from Data_manager.split_functions.split_train_validation_random_holdout import split_train_in_two_percentage_global_sample\n",
    "from Recommenders.SLIM.SLIMElasticNetRecommender import MultiThreadSLIM_SLIMElasticNetRecommender\n",
    "from Evaluation.Evaluator import EvaluatorHoldout\n",
    "from Recommenders.MatrixFactorization.IALSRecommender import IALSRecommender\n",
    "from Recommenders.MatrixFactorization.PureSVDRecommender import PureSVDRecommender\n",
    "from Recommenders.KNN.ItemKNNCFRecommender import ItemKNNCFRecommender\n",
    "from Recommenders.KNN.UserKNNCFRecommender import UserKNNCFRecommender\n",
    "\n",
    "np.int = int\n",
    "np.random.seed(42)\n",
    "np.bool = bool\n",
    "np.float = float"
   ]
  },
  {
   "cell_type": "code",
   "execution_count": 23,
   "id": "63b9f797",
   "metadata": {
    "execution": {
     "iopub.execute_input": "2023-11-27T20:33:38.933830Z",
     "iopub.status.busy": "2023-11-27T20:33:38.932875Z",
     "iopub.status.idle": "2023-11-27T20:33:39.996280Z",
     "shell.execute_reply": "2023-11-27T20:33:39.994940Z"
    },
    "papermill": {
     "duration": 1.089946,
     "end_time": "2023-11-27T20:33:39.998724",
     "exception": false,
     "start_time": "2023-11-27T20:33:38.908778",
     "status": "completed"
    },
    "tags": []
   },
   "outputs": [
    {
     "name": "stdout",
     "output_type": "stream",
     "text": [
      "Warning: 627 (4.81 %) of 13024 users have no train items\n",
      "Warning: 2568 (19.72 %) of 13024 users have no sampled items\n",
      "Warning: 2953 (22.67 %) of 13024 users have no train items\n",
      "Warning: 6367 (48.89 %) of 13024 users have no sampled items\n"
     ]
    }
   ],
   "source": [
    "URM_train, URM_test_complete = split_train_in_two_percentage_global_sample(URM_all, train_percentage = 0.8)\n",
    "URM_validation, URM_test = split_train_in_two_percentage_global_sample(URM_test_complete, train_percentage = 0.8)"
   ]
  },
  {
   "cell_type": "markdown",
   "id": "4cc1496f",
   "metadata": {
    "papermill": {
     "duration": 0.021118,
     "end_time": "2023-11-27T20:33:40.041335",
     "exception": false,
     "start_time": "2023-11-27T20:33:40.020217",
     "status": "completed"
    },
    "tags": []
   },
   "source": [
    "# Hyperparameters tuning"
   ]
  },
  {
   "cell_type": "code",
   "execution_count": 24,
   "id": "a9199a12",
   "metadata": {
    "execution": {
     "iopub.execute_input": "2023-11-27T20:33:40.085100Z",
     "iopub.status.busy": "2023-11-27T20:33:40.084727Z",
     "iopub.status.idle": "2023-11-27T20:33:40.093106Z",
     "shell.execute_reply": "2023-11-27T20:33:40.091733Z"
    },
    "papermill": {
     "duration": 0.032729,
     "end_time": "2023-11-27T20:33:40.095209",
     "exception": false,
     "start_time": "2023-11-27T20:33:40.062480",
     "status": "completed"
    },
    "tags": []
   },
   "outputs": [
    {
     "name": "stdout",
     "output_type": "stream",
     "text": [
      "All rows from table 'studies':\n",
      "(1, 'hyperparameters_EASE_R')\n",
      "(2, 'hyperparameters_tuning_knn_user_fixed')\n",
      "(3, 'hyperparameters_tuning_ials_no_cv')\n"
     ]
    }
   ],
   "source": [
    "import sqlite3\n",
    "\n",
    "def print_all_rows(table_name, database_path):\n",
    "    connection = sqlite3.connect(database_path)\n",
    "    cursor = connection.cursor()\n",
    "\n",
    "    try:\n",
    "        cursor.execute(f\"SELECT * FROM {table_name};\")\n",
    "        rows = cursor.fetchall()\n",
    "\n",
    "        print(f\"All rows from table '{table_name}':\")\n",
    "        for row in rows:\n",
    "            print(row)\n",
    "\n",
    "    except sqlite3.Error as e:\n",
    "        print(f\"Error reading data from table '{table_name}': {e}\")\n",
    "\n",
    "    finally:\n",
    "        cursor.close()\n",
    "        connection.close()\n",
    "\n",
    "print_all_rows('studies', config['database_path'])"
   ]
  },
  {
   "cell_type": "markdown",
   "id": "97c19636",
   "metadata": {
    "papermill": {
     "duration": 0.020925,
     "end_time": "2023-11-27T20:33:40.137582",
     "exception": false,
     "start_time": "2023-11-27T20:33:40.116657",
     "status": "completed"
    },
    "tags": []
   },
   "source": [
    "## Item KNN Collaborative Filtering"
   ]
  },
  {
   "cell_type": "markdown",
   "id": "23ff8694",
   "metadata": {
    "papermill": {
     "duration": 0.021111,
     "end_time": "2023-11-27T20:33:40.179925",
     "exception": false,
     "start_time": "2023-11-27T20:33:40.158814",
     "status": "completed"
    },
    "tags": []
   },
   "source": [
    "Not considering adjusted cosine and pearson since they remove the mean of the interactions, but here there are all interactions equal to 1"
   ]
  },
  {
   "cell_type": "code",
   "execution_count": 25,
   "id": "514c32f7",
   "metadata": {
    "execution": {
     "iopub.execute_input": "2023-11-27T20:33:40.224822Z",
     "iopub.status.busy": "2023-11-27T20:33:40.224431Z",
     "iopub.status.idle": "2023-11-27T20:33:40.235815Z",
     "shell.execute_reply": "2023-11-27T20:33:40.234879Z"
    },
    "papermill": {
     "duration": 0.036811,
     "end_time": "2023-11-27T20:33:40.238147",
     "exception": false,
     "start_time": "2023-11-27T20:33:40.201336",
     "status": "completed"
    },
    "scrolled": true,
    "tags": []
   },
   "outputs": [],
   "source": [
    "from concurrent.futures import ThreadPoolExecutor\n",
    "\n",
    "def evaluate_item_knn(URM_train, URM_valid, params):\n",
    "    recommender = ItemKNNCFRecommender(URM_train)\n",
    "    recommender.fit(**params)\n",
    "\n",
    "    evaluator = EvaluatorHoldout(URM_valid, cutoff_list=[10])\n",
    "    result_df, _ = evaluator.evaluateRecommender(recommender)\n",
    "    print(f'MAP is {result_df.loc[10, \"MAP\"]}')\n",
    "    return result_df.loc[10, 'MAP']\n",
    "\n",
    "\n",
    "def objective_item_knn(trial):\n",
    "    params = {\n",
    "        'topK': trial.suggest_int('topK', 10, 1000),\n",
    "        'shrink': trial.suggest_int('shrink', 0, 500),\n",
    "        'similarity': trial.suggest_categorical('similarity', [\"cosine\", \"asymmetric\", \"dice\", \"jaccard\", \"tanimoto\", \"tversky\", \"euclidean\"]),        \n",
    "    }\n",
    "    \n",
    "    if params['similarity'] == \"asymmetric\":\n",
    "        params[\"asymmetric_alpha\"] = trial.suggest_float(\"asymmetric_alpha\", 0, 2, log=False)\n",
    "        params[\"normalize\"] = True     \n",
    "\n",
    "    elif params['similarity'] == \"tversky\":\n",
    "        params[\"tversky_alpha\"] = trial.suggest_float(\"tversky_alpha\", 0, 2, log=False)\n",
    "        params[\"tversky_beta\"] = trial.suggest_float(\"tversky_beta\", 0, 2, log=False)\n",
    "        params[\"normalize\"] = True \n",
    "\n",
    "    elif params['similarity'] == \"euclidean\":\n",
    "        params[\"normalize_avg_row\"] = trial.suggest_categorical(\"normalize_avg_row\", [True, False])\n",
    "        params[\"similarity_from_distance_mode\"] = trial.suggest_categorical(\"similarity_from_distance_mode\", [\"lin\", \"log\", \"exp\"])\n",
    "        params[\"normalize\"] = trial.suggest_categorical(\"normalize\", [True, False])\n",
    "    \n",
    "    results = [None] * 10\n",
    "    with ThreadPoolExecutor(max_workers=10) as executor:\n",
    "        futures = []\n",
    "        for URM_train, URM_valid in CrossValidationSplitter(10).split(URM_all):\n",
    "            futures.append(executor.submit(evaluate_item_knn, URM_train, URM_valid, params))\n",
    "        print(len(futures))\n",
    "        for j, future in enumerate(futures):\n",
    "            results[j] = future.result()\n",
    "        \n",
    "    return np.mean(results)"
   ]
  },
  {
   "cell_type": "code",
   "execution_count": 26,
   "id": "ed80a96c",
   "metadata": {
    "execution": {
     "iopub.execute_input": "2023-11-27T20:33:40.283265Z",
     "iopub.status.busy": "2023-11-27T20:33:40.282781Z",
     "iopub.status.idle": "2023-11-27T20:33:40.291799Z",
     "shell.execute_reply": "2023-11-27T20:33:40.290578Z"
    },
    "papermill": {
     "duration": 0.03424,
     "end_time": "2023-11-27T20:33:40.294075",
     "exception": false,
     "start_time": "2023-11-27T20:33:40.259835",
     "status": "completed"
    },
    "scrolled": true,
    "tags": []
   },
   "outputs": [
    {
     "name": "stdout",
     "output_type": "stream",
     "text": [
      "CPU times: user 5 µs, sys: 1e+03 ns, total: 6 µs\n",
      "Wall time: 10 µs\n"
     ]
    }
   ],
   "source": [
    "%%time\n",
    "\n",
    "if config['tune_parameters_item_knn']:\n",
    "    study = optuna.create_study(direction='maximize', study_name='hyperparameters_tuning_knn_item', \n",
    "                                storage=f'sqlite:///{config[\"database_path\"]}', load_if_exists=True)\n",
    "    study.optimize(objective_item_knn, n_trials=50)"
   ]
  },
  {
   "cell_type": "code",
   "execution_count": 27,
   "id": "d6204a71",
   "metadata": {
    "execution": {
     "iopub.execute_input": "2023-11-27T20:33:40.340077Z",
     "iopub.status.busy": "2023-11-27T20:33:40.339458Z",
     "iopub.status.idle": "2023-11-27T20:33:40.346766Z",
     "shell.execute_reply": "2023-11-27T20:33:40.345543Z"
    },
    "papermill": {
     "duration": 0.033986,
     "end_time": "2023-11-27T20:33:40.349896",
     "exception": false,
     "start_time": "2023-11-27T20:33:40.315910",
     "status": "completed"
    },
    "tags": []
   },
   "outputs": [],
   "source": [
    "if config['tune_parameters_item_knn']:\n",
    "    fig = optuna.visualization.plot_param_importances(study)\n",
    "    fig.show()"
   ]
  },
  {
   "cell_type": "code",
   "execution_count": 28,
   "id": "3cfe6640",
   "metadata": {
    "execution": {
     "iopub.execute_input": "2023-11-27T20:33:40.398317Z",
     "iopub.status.busy": "2023-11-27T20:33:40.397529Z",
     "iopub.status.idle": "2023-11-27T20:33:40.401964Z",
     "shell.execute_reply": "2023-11-27T20:33:40.401126Z"
    },
    "papermill": {
     "duration": 0.029725,
     "end_time": "2023-11-27T20:33:40.404056",
     "exception": false,
     "start_time": "2023-11-27T20:33:40.374331",
     "status": "completed"
    },
    "tags": []
   },
   "outputs": [],
   "source": [
    "if config['tune_parameters_item_knn']:\n",
    "    fig = optuna.visualization.plot_optimization_history(study)\n",
    "    fig.show()"
   ]
  },
  {
   "cell_type": "code",
   "execution_count": 29,
   "id": "97c422c7",
   "metadata": {
    "execution": {
     "iopub.execute_input": "2023-11-27T20:33:40.450196Z",
     "iopub.status.busy": "2023-11-27T20:33:40.449379Z",
     "iopub.status.idle": "2023-11-27T20:33:40.453883Z",
     "shell.execute_reply": "2023-11-27T20:33:40.453033Z"
    },
    "papermill": {
     "duration": 0.029944,
     "end_time": "2023-11-27T20:33:40.455906",
     "exception": false,
     "start_time": "2023-11-27T20:33:40.425962",
     "status": "completed"
    },
    "tags": []
   },
   "outputs": [],
   "source": [
    "if config['tune_parameters_item_knn']:\n",
    "    fig = optuna.visualization.plot_slice(study)\n",
    "    fig.show()"
   ]
  },
  {
   "cell_type": "code",
   "execution_count": 30,
   "id": "457e9785",
   "metadata": {
    "execution": {
     "iopub.execute_input": "2023-11-27T20:33:40.502249Z",
     "iopub.status.busy": "2023-11-27T20:33:40.501451Z",
     "iopub.status.idle": "2023-11-27T20:33:40.507166Z",
     "shell.execute_reply": "2023-11-27T20:33:40.506264Z"
    },
    "papermill": {
     "duration": 0.031891,
     "end_time": "2023-11-27T20:33:40.509337",
     "exception": false,
     "start_time": "2023-11-27T20:33:40.477446",
     "status": "completed"
    },
    "tags": []
   },
   "outputs": [],
   "source": [
    "if config['tune_parameters_item_knn']:\n",
    "    with open('/kaggle/working/best_params_knn_item.json', 'w') as params_file:\n",
    "        json.dump(study.best_params, params_file)\n",
    "        \n",
    "    if config['save_github']: \n",
    "        upload_file(\n",
    "            '/kaggle/working/best_params_knn_item.json', \n",
    "            'tuning_results/best_params_knn_item.json', \n",
    "            'Item KNN tuning results (from kaggle notebook)'\n",
    "        )\n",
    "    \n",
    "elif config['copy_prev_best_params']:\n",
    "    shutil.copyfile(\n",
    "        '/kaggle/input/hyperparameters-tuning-better/best_params_knn_item.json', \n",
    "        '/kaggle/working/best_params_knn_item.json'\n",
    "    )"
   ]
  },
  {
   "cell_type": "markdown",
   "id": "66753031",
   "metadata": {
    "papermill": {
     "duration": 0.021561,
     "end_time": "2023-11-27T20:33:40.553181",
     "exception": false,
     "start_time": "2023-11-27T20:33:40.531620",
     "status": "completed"
    },
    "tags": []
   },
   "source": [
    "## User KNN Collaborative Filtering"
   ]
  },
  {
   "cell_type": "code",
   "execution_count": 31,
   "id": "50612ef0",
   "metadata": {
    "execution": {
     "iopub.execute_input": "2023-11-27T20:33:40.600226Z",
     "iopub.status.busy": "2023-11-27T20:33:40.599483Z",
     "iopub.status.idle": "2023-11-27T20:33:40.610706Z",
     "shell.execute_reply": "2023-11-27T20:33:40.609568Z"
    },
    "papermill": {
     "duration": 0.037424,
     "end_time": "2023-11-27T20:33:40.613460",
     "exception": false,
     "start_time": "2023-11-27T20:33:40.576036",
     "status": "completed"
    },
    "tags": []
   },
   "outputs": [],
   "source": [
    "def evaluate_user_knn(URM_train, URM_valid, params):\n",
    "    recommender = UserKNNCFRecommender(URM_train)\n",
    "    recommender.fit(**params)\n",
    "\n",
    "    evaluator = EvaluatorHoldout(URM_valid, cutoff_list=[10])\n",
    "    result_df, _ = evaluator.evaluateRecommender(recommender)\n",
    "    print(f'MAP is {result_df.loc[10, \"MAP\"]}')\n",
    "    return result_df.loc[10, 'MAP']\n",
    "\n",
    "def objective_user_knn(trial):\n",
    "    params = {\n",
    "        'topK': trial.suggest_int('topK', 10, 1000),\n",
    "        'shrink': trial.suggest_int('shrink', 0, 500),\n",
    "        'similarity': trial.suggest_categorical('similarity', [\"cosine\", \"asymmetric\", \"dice\", \"jaccard\", \"tanimoto\", \"tversky\", \"euclidean\"]),        \n",
    "    }\n",
    "    \n",
    "    if params['similarity'] == \"asymmetric\":\n",
    "        params[\"asymmetric_alpha\"] = trial.suggest_float(\"asymmetric_alpha\", 0, 2, log=False)\n",
    "        params[\"normalize\"] = True     \n",
    "\n",
    "    elif params['similarity'] == \"tversky\":\n",
    "        params[\"tversky_alpha\"] = trial.suggest_float(\"tversky_alpha\", 0, 2, log=False)\n",
    "        params[\"tversky_beta\"] = trial.suggest_float(\"tversky_beta\", 0, 2, log=False)\n",
    "        params[\"normalize\"] = True \n",
    "\n",
    "    elif params['similarity'] == \"euclidean\":\n",
    "        params[\"normalize_avg_row\"] = trial.suggest_categorical(\"normalize_avg_row\", [True, False])\n",
    "        params[\"similarity_from_distance_mode\"] = trial.suggest_categorical(\"similarity_from_distance_mode\", [\"lin\", \"log\", \"exp\"])\n",
    "        params[\"normalize\"] = trial.suggest_categorical(\"normalize\", [True, False])\n",
    "    \n",
    "    results = [None] * 10\n",
    "    with ThreadPoolExecutor(max_workers=10) as executor:\n",
    "        futures = []\n",
    "        for URM_train, URM_valid in CrossValidationSplitter(10).split(URM_all):\n",
    "            futures.append(executor.submit(evaluate_user_knn, URM_train, URM_valid, params))\n",
    "        print(len(futures))\n",
    "        for j, future in enumerate(futures):\n",
    "            results[j] = future.result()\n",
    "    return np.mean(results)"
   ]
  },
  {
   "cell_type": "code",
   "execution_count": 32,
   "id": "8d11762b",
   "metadata": {
    "execution": {
     "iopub.execute_input": "2023-11-27T20:33:40.659005Z",
     "iopub.status.busy": "2023-11-27T20:33:40.658590Z",
     "iopub.status.idle": "2023-11-27T20:33:40.665034Z",
     "shell.execute_reply": "2023-11-27T20:33:40.663981Z"
    },
    "papermill": {
     "duration": 0.032259,
     "end_time": "2023-11-27T20:33:40.667282",
     "exception": false,
     "start_time": "2023-11-27T20:33:40.635023",
     "status": "completed"
    },
    "scrolled": true,
    "tags": []
   },
   "outputs": [
    {
     "name": "stdout",
     "output_type": "stream",
     "text": [
      "CPU times: user 4 µs, sys: 1 µs, total: 5 µs\n",
      "Wall time: 8.11 µs\n"
     ]
    }
   ],
   "source": [
    "%%time\n",
    "\n",
    "if config['tune_parameters_user_knn']:\n",
    "    study = optuna.create_study(direction='maximize', study_name='hyperparameters_tuning_knn_user_fixed',\n",
    "                                storage=f'sqlite:///{config[\"database_path\"]}', load_if_exists=True)\n",
    "    study.optimize(objective_user_knn, n_trials=125)"
   ]
  },
  {
   "cell_type": "code",
   "execution_count": 33,
   "id": "0e1cf02f",
   "metadata": {
    "execution": {
     "iopub.execute_input": "2023-11-27T20:33:40.712127Z",
     "iopub.status.busy": "2023-11-27T20:33:40.711704Z",
     "iopub.status.idle": "2023-11-27T20:33:40.716987Z",
     "shell.execute_reply": "2023-11-27T20:33:40.715924Z"
    },
    "papermill": {
     "duration": 0.030124,
     "end_time": "2023-11-27T20:33:40.719122",
     "exception": false,
     "start_time": "2023-11-27T20:33:40.688998",
     "status": "completed"
    },
    "tags": []
   },
   "outputs": [],
   "source": [
    "if config['tune_parameters_user_knn']:\n",
    "    fig = optuna.visualization.plot_param_importances(study)\n",
    "    fig.show()"
   ]
  },
  {
   "cell_type": "code",
   "execution_count": 34,
   "id": "2713ebd4",
   "metadata": {
    "execution": {
     "iopub.execute_input": "2023-11-27T20:33:40.764394Z",
     "iopub.status.busy": "2023-11-27T20:33:40.763953Z",
     "iopub.status.idle": "2023-11-27T20:33:40.769005Z",
     "shell.execute_reply": "2023-11-27T20:33:40.768090Z"
    },
    "papermill": {
     "duration": 0.030137,
     "end_time": "2023-11-27T20:33:40.770846",
     "exception": false,
     "start_time": "2023-11-27T20:33:40.740709",
     "status": "completed"
    },
    "tags": []
   },
   "outputs": [],
   "source": [
    "if config['tune_parameters_user_knn']:\n",
    "    fig = optuna.visualization.plot_optimization_history(study)\n",
    "    fig.show()"
   ]
  },
  {
   "cell_type": "code",
   "execution_count": 35,
   "id": "18862d69",
   "metadata": {
    "execution": {
     "iopub.execute_input": "2023-11-27T20:33:40.816577Z",
     "iopub.status.busy": "2023-11-27T20:33:40.815274Z",
     "iopub.status.idle": "2023-11-27T20:33:40.821017Z",
     "shell.execute_reply": "2023-11-27T20:33:40.819899Z"
    },
    "papermill": {
     "duration": 0.031029,
     "end_time": "2023-11-27T20:33:40.823280",
     "exception": false,
     "start_time": "2023-11-27T20:33:40.792251",
     "status": "completed"
    },
    "tags": []
   },
   "outputs": [],
   "source": [
    "if config['tune_parameters_user_knn']:\n",
    "    fig = optuna.visualization.plot_slice(study)\n",
    "    fig.show()"
   ]
  },
  {
   "cell_type": "code",
   "execution_count": 36,
   "id": "2e6a2f0a",
   "metadata": {
    "execution": {
     "iopub.execute_input": "2023-11-27T20:33:40.868529Z",
     "iopub.status.busy": "2023-11-27T20:33:40.868102Z",
     "iopub.status.idle": "2023-11-27T20:33:40.873754Z",
     "shell.execute_reply": "2023-11-27T20:33:40.872937Z"
    },
    "papermill": {
     "duration": 0.030669,
     "end_time": "2023-11-27T20:33:40.875582",
     "exception": false,
     "start_time": "2023-11-27T20:33:40.844913",
     "status": "completed"
    },
    "tags": []
   },
   "outputs": [],
   "source": [
    "if config['tune_parameters_user_knn']:\n",
    "    with open('/kaggle/working/best_params_knn_user.json', 'w') as params_file:\n",
    "        json.dump(study.best_params, params_file)\n",
    "        \n",
    "    if config['save_github']: \n",
    "        upload_file(\n",
    "            '/kaggle/working/best_params_knn_user.json', \n",
    "            'tuning_results/best_params_knn_user.json', \n",
    "            'User KNN tuning results (from kaggle notebook)'\n",
    "        )\n",
    "elif config['copy_prev_best_params']:\n",
    "    shutil.copyfile(\n",
    "        '/kaggle/input/hyperparameters-tuning-better/best_params_knn_user.json', \n",
    "        '/kaggle/working/best_params_knn_user.json'\n",
    "    )"
   ]
  },
  {
   "cell_type": "markdown",
   "id": "be74fbb2",
   "metadata": {
    "papermill": {
     "duration": 0.021309,
     "end_time": "2023-11-27T20:33:40.918484",
     "exception": false,
     "start_time": "2023-11-27T20:33:40.897175",
     "status": "completed"
    },
    "tags": []
   },
   "source": [
    "# Alternating Least Squares"
   ]
  },
  {
   "cell_type": "code",
   "execution_count": 37,
   "id": "1cafd864",
   "metadata": {
    "execution": {
     "iopub.execute_input": "2023-11-27T20:33:40.964070Z",
     "iopub.status.busy": "2023-11-27T20:33:40.963664Z",
     "iopub.status.idle": "2023-11-27T20:33:40.971413Z",
     "shell.execute_reply": "2023-11-27T20:33:40.970323Z"
    },
    "papermill": {
     "duration": 0.033144,
     "end_time": "2023-11-27T20:33:40.973661",
     "exception": false,
     "start_time": "2023-11-27T20:33:40.940517",
     "status": "completed"
    },
    "tags": []
   },
   "outputs": [],
   "source": [
    "def objective_ials(trial):\n",
    "    params = {\n",
    "        'reg': trial.suggest_float('reg', 1e-7, 10, log=True),\n",
    "        'alpha': trial.suggest_float('alpha', 0.01, 10),\n",
    "        'num_factors': trial.suggest_int('num_factors', 5, 300),\n",
    "        'confidence_scaling': trial.suggest_categorical('confidence_scaling', ['linear', 'log'])\n",
    "    }\n",
    "    \n",
    "    if params['confidence_scaling'] == 'log':\n",
    "        params['epsilon'] = trial.suggest_float('epsilon', 0.1, 10, log=True)\n",
    "        \n",
    "    evaluator_validation = EvaluatorHoldout(URM_test_complete, cutoff_list=[10])\n",
    "    early_stopping_params = {\n",
    "        'epochs_min': 1,\n",
    "        'stop_on_validation': True,\n",
    "        'validation_every_n': 1,\n",
    "        'validation_metric': 'MAP',\n",
    "        'lower_validations_allowed': 15,\n",
    "        'evaluator_object': evaluator_validation\n",
    "    }\n",
    "\n",
    "    recommender = IALSRecommender(URM_train)\n",
    "    recommender.fit(**params, **early_stopping_params)\n",
    "    \n",
    "    epochs = recommender.get_early_stopping_final_epochs_dict()[\"epochs\"]\n",
    "    trial.set_user_attr(\"epochs\", epochs) \n",
    "\n",
    "    result_df, _ = evaluator_validation.evaluateRecommender(recommender)\n",
    "    return result_df.loc[10, 'MAP']"
   ]
  },
  {
   "cell_type": "code",
   "execution_count": 38,
   "id": "5eb5a9ec",
   "metadata": {
    "_kg_hide-input": false,
    "_kg_hide-output": true,
    "execution": {
     "iopub.execute_input": "2023-11-27T20:33:41.019653Z",
     "iopub.status.busy": "2023-11-27T20:33:41.018888Z",
     "iopub.status.idle": "2023-11-27T20:57:29.034886Z",
     "shell.execute_reply": "2023-11-27T20:57:29.033758Z"
    },
    "papermill": {
     "duration": 1428.042433,
     "end_time": "2023-11-27T20:57:29.037533",
     "exception": false,
     "start_time": "2023-11-27T20:33:40.995100",
     "status": "completed"
    },
    "scrolled": true,
    "tags": []
   },
   "outputs": [
    {
     "name": "stderr",
     "output_type": "stream",
     "text": [
      "[I 2023-11-27 20:33:41,428] Using an existing study with name 'hyperparameters_tuning_ials_no_cv' instead of creating a new one.\n"
     ]
    },
    {
     "name": "stdout",
     "output_type": "stream",
     "text": [
      "EvaluatorHoldout: Ignoring 2568 (19.7%) Users that have less than 1 test interactions\n",
      "IALSRecommender: URM Detected 627 ( 4.8%) users with no interactions.\n",
      "IALSRecommender: URM Detected 247 ( 1.1%) items with no interactions.\n",
      "IALSRecommender: Validation begins...\n",
      "EvaluatorHoldout: Processed 10456 (100.0%) in 10.18 sec. Users per second: 1027\n",
      "IALSRecommender: CUTOFF: 10 - PRECISION: 0.0251817, PRECISION_RECALL_MIN_DEN: 0.0439957, RECALL: 0.0372072, MAP: 0.0097900, MAP_MIN_DEN: 0.0175641, MRR: 0.0779516, NDCG: 0.0377236, F1: 0.0300355, HIT_RATE: 0.2015111, ARHR_ALL_HITS: 0.0871417, NOVELTY: 0.0043304, AVERAGE_POPULARITY: 0.4164398, DIVERSITY_MEAN_INTER_LIST: 0.8960603, DIVERSITY_HERFINDAHL: 0.9895975, COVERAGE_ITEM: 0.0238958, COVERAGE_ITEM_HIT: 0.0095762, ITEMS_IN_GT: 0.8004206, COVERAGE_USER: 0.8028256, COVERAGE_USER_HIT: 0.1617783, USERS_IN_GT: 0.8028256, DIVERSITY_GINI: 0.0049586, SHANNON_ENTROPY: 7.1963298, RATIO_DIVERSITY_HERFINDAHL: 0.9899554, RATIO_DIVERSITY_GINI: 0.0143075, RATIO_SHANNON_ENTROPY: 0.5543772, RATIO_AVERAGE_POPULARITY: 3.4725470, RATIO_NOVELTY: 0.2535171, \n",
      "\n",
      "IALSRecommender: New best model found! Updating.\n",
      "IALSRecommender: Epoch 1 of 300. Elapsed time 22.79 sec\n",
      "IALSRecommender: Validation begins...\n",
      "EvaluatorHoldout: Processed 10456 (100.0%) in 9.96 sec. Users per second: 1050\n",
      "IALSRecommender: CUTOFF: 10 - PRECISION: 0.0521423, PRECISION_RECALL_MIN_DEN: 0.0935260, RECALL: 0.0808501, MAP: 0.0245005, MAP_MIN_DEN: 0.0440707, MRR: 0.1683115, NDCG: 0.0848901, F1: 0.0633978, HIT_RATE: 0.3550115, ARHR_ALL_HITS: 0.2023339, NOVELTY: 0.0044824, AVERAGE_POPULARITY: 0.3354601, DIVERSITY_MEAN_INTER_LIST: 0.9394617, DIVERSITY_HERFINDAHL: 0.9939372, COVERAGE_ITEM: 0.0324428, COVERAGE_ITEM_HIT: 0.0197789, ITEMS_IN_GT: 0.8004206, COVERAGE_USER: 0.8028256, COVERAGE_USER_HIT: 0.2850123, USERS_IN_GT: 0.8028256, DIVERSITY_GINI: 0.0078137, SHANNON_ENTROPY: 7.8757229, RATIO_DIVERSITY_HERFINDAHL: 0.9942967, RATIO_DIVERSITY_GINI: 0.0225456, RATIO_SHANNON_ENTROPY: 0.6067150, RATIO_AVERAGE_POPULARITY: 2.7972856, RATIO_NOVELTY: 0.2624156, \n",
      "\n",
      "IALSRecommender: New best model found! Updating.\n",
      "IALSRecommender: Epoch 2 of 300. Elapsed time 45.14 sec\n",
      "IALSRecommender: Validation begins...\n",
      "EvaluatorHoldout: Processed 10456 (100.0%) in 9.99 sec. Users per second: 1047\n",
      "IALSRecommender: CUTOFF: 10 - PRECISION: 0.0606924, PRECISION_RECALL_MIN_DEN: 0.1067337, RECALL: 0.0913892, MAP: 0.0297751, MAP_MIN_DEN: 0.0522818, MRR: 0.1949715, NDCG: 0.0987820, F1: 0.0729428, HIT_RATE: 0.3946060, ARHR_ALL_HITS: 0.2397763, NOVELTY: 0.0045825, AVERAGE_POPULARITY: 0.2880021, DIVERSITY_MEAN_INTER_LIST: 0.9546075, DIVERSITY_HERFINDAHL: 0.9954516, COVERAGE_ITEM: 0.0390209, COVERAGE_ITEM_HIT: 0.0244328, ITEMS_IN_GT: 0.8004206, COVERAGE_USER: 0.8028256, COVERAGE_USER_HIT: 0.3167998, USERS_IN_GT: 0.8028256, DIVERSITY_GINI: 0.0100579, SHANNON_ENTROPY: 8.2463451, RATIO_DIVERSITY_HERFINDAHL: 0.9958117, RATIO_DIVERSITY_GINI: 0.0290211, RATIO_SHANNON_ENTROPY: 0.6352663, RATIO_AVERAGE_POPULARITY: 2.4015494, RATIO_NOVELTY: 0.2682723, \n",
      "\n",
      "IALSRecommender: New best model found! Updating.\n",
      "IALSRecommender: Epoch 3 of 300. Elapsed time 1.16 min\n",
      "IALSRecommender: Validation begins...\n",
      "EvaluatorHoldout: Processed 10456 (100.0%) in 10.12 sec. Users per second: 1033\n",
      "IALSRecommender: CUTOFF: 10 - PRECISION: 0.0634468, PRECISION_RECALL_MIN_DEN: 0.1103354, RECALL: 0.0941394, MAP: 0.0315010, MAP_MIN_DEN: 0.0547762, MRR: 0.2034764, NDCG: 0.1029845, F1: 0.0758042, HIT_RATE: 0.4061783, ARHR_ALL_HITS: 0.2516909, NOVELTY: 0.0046268, AVERAGE_POPULARITY: 0.2679974, DIVERSITY_MEAN_INTER_LIST: 0.9593736, DIVERSITY_HERFINDAHL: 0.9959282, COVERAGE_ITEM: 0.0411688, COVERAGE_ITEM_HIT: 0.0265360, ITEMS_IN_GT: 0.8004206, COVERAGE_USER: 0.8028256, COVERAGE_USER_HIT: 0.3260903, USERS_IN_GT: 0.8028256, DIVERSITY_GINI: 0.0110794, SHANNON_ENTROPY: 8.3869832, RATIO_DIVERSITY_HERFINDAHL: 0.9962884, RATIO_DIVERSITY_GINI: 0.0319684, RATIO_SHANNON_ENTROPY: 0.6461005, RATIO_AVERAGE_POPULARITY: 2.2347371, RATIO_NOVELTY: 0.2708688, \n",
      "\n",
      "IALSRecommender: New best model found! Updating.\n",
      "IALSRecommender: Epoch 4 of 300. Elapsed time 1.53 min\n",
      "IALSRecommender: Validation begins...\n",
      "EvaluatorHoldout: Processed 10456 (100.0%) in 10.01 sec. Users per second: 1044\n",
      "IALSRecommender: CUTOFF: 10 - PRECISION: 0.0646614, PRECISION_RECALL_MIN_DEN: 0.1118071, RECALL: 0.0950623, MAP: 0.0323205, MAP_MIN_DEN: 0.0559420, MRR: 0.2080686, NDCG: 0.1049154, F1: 0.0769687, HIT_RATE: 0.4108646, ARHR_ALL_HITS: 0.2577116, NOVELTY: 0.0046466, AVERAGE_POPULARITY: 0.2599157, DIVERSITY_MEAN_INTER_LIST: 0.9612324, DIVERSITY_HERFINDAHL: 0.9961140, COVERAGE_ITEM: 0.0426903, COVERAGE_ITEM_HIT: 0.0276100, ITEMS_IN_GT: 0.8004206, COVERAGE_USER: 0.8028256, COVERAGE_USER_HIT: 0.3298526, USERS_IN_GT: 0.8028256, DIVERSITY_GINI: 0.0115858, SHANNON_ENTROPY: 8.4515943, RATIO_DIVERSITY_HERFINDAHL: 0.9964743, RATIO_DIVERSITY_GINI: 0.0334298, RATIO_SHANNON_ENTROPY: 0.6510779, RATIO_AVERAGE_POPULARITY: 2.1673467, RATIO_NOVELTY: 0.2720278, \n",
      "\n",
      "IALSRecommender: New best model found! Updating.\n",
      "IALSRecommender: Epoch 5 of 300. Elapsed time 1.91 min\n",
      "IALSRecommender: Validation begins...\n",
      "EvaluatorHoldout: Processed 10456 (100.0%) in 9.98 sec. Users per second: 1047\n",
      "IALSRecommender: CUTOFF: 10 - PRECISION: 0.0656752, PRECISION_RECALL_MIN_DEN: 0.1136622, RECALL: 0.0965524, MAP: 0.0328720, MAP_MIN_DEN: 0.0567072, MRR: 0.2103108, NDCG: 0.1063314, F1: 0.0781753, HIT_RATE: 0.4126817, ARHR_ALL_HITS: 0.2612170, NOVELTY: 0.0046577, AVERAGE_POPULARITY: 0.2554509, DIVERSITY_MEAN_INTER_LIST: 0.9622567, DIVERSITY_HERFINDAHL: 0.9962165, COVERAGE_ITEM: 0.0435853, COVERAGE_ITEM_HIT: 0.0279680, ITEMS_IN_GT: 0.8004206, COVERAGE_USER: 0.8028256, COVERAGE_USER_HIT: 0.3313114, USERS_IN_GT: 0.8028256, DIVERSITY_GINI: 0.0118896, SHANNON_ENTROPY: 8.4889625, RATIO_DIVERSITY_HERFINDAHL: 0.9965768, RATIO_DIVERSITY_GINI: 0.0343064, RATIO_SHANNON_ENTROPY: 0.6539566, RATIO_AVERAGE_POPULARITY: 2.1301166, RATIO_NOVELTY: 0.2726767, \n",
      "\n",
      "IALSRecommender: New best model found! Updating.\n",
      "IALSRecommender: Epoch 6 of 300. Elapsed time 2.32 min\n",
      "IALSRecommender: Validation begins...\n",
      "EvaluatorHoldout: Processed 10456 (100.0%) in 10.07 sec. Users per second: 1039\n",
      "IALSRecommender: CUTOFF: 10 - PRECISION: 0.0660386, PRECISION_RECALL_MIN_DEN: 0.1142641, RECALL: 0.0969806, MAP: 0.0331417, MAP_MIN_DEN: 0.0572075, MRR: 0.2114159, NDCG: 0.1070122, F1: 0.0785731, HIT_RATE: 0.4153596, ARHR_ALL_HITS: 0.2629004, NOVELTY: 0.0046645, AVERAGE_POPULARITY: 0.2528045, DIVERSITY_MEAN_INTER_LIST: 0.9629522, DIVERSITY_HERFINDAHL: 0.9962860, COVERAGE_ITEM: 0.0443012, COVERAGE_ITEM_HIT: 0.0282812, ITEMS_IN_GT: 0.8004206, COVERAGE_USER: 0.8028256, COVERAGE_USER_HIT: 0.3334613, USERS_IN_GT: 0.8028256, DIVERSITY_GINI: 0.0120997, SHANNON_ENTROPY: 8.5142905, RATIO_DIVERSITY_HERFINDAHL: 0.9966463, RATIO_DIVERSITY_GINI: 0.0349124, RATIO_SHANNON_ENTROPY: 0.6559078, RATIO_AVERAGE_POPULARITY: 2.1080488, RATIO_NOVELTY: 0.2730753, \n",
      "\n",
      "IALSRecommender: New best model found! Updating.\n",
      "IALSRecommender: Epoch 7 of 300. Elapsed time 2.73 min\n",
      "IALSRecommender: Validation begins...\n",
      "EvaluatorHoldout: Processed 10456 (100.0%) in 10.20 sec. Users per second: 1025\n",
      "IALSRecommender: CUTOFF: 10 - PRECISION: 0.0668229, PRECISION_RECALL_MIN_DEN: 0.1154981, RECALL: 0.0980217, MAP: 0.0333616, MAP_MIN_DEN: 0.0574591, MRR: 0.2115768, NDCG: 0.1076897, F1: 0.0794699, HIT_RATE: 0.4178462, ARHR_ALL_HITS: 0.2638435, NOVELTY: 0.0046691, AVERAGE_POPULARITY: 0.2511244, DIVERSITY_MEAN_INTER_LIST: 0.9633954, DIVERSITY_HERFINDAHL: 0.9963303, COVERAGE_ITEM: 0.0447487, COVERAGE_ITEM_HIT: 0.0286839, ITEMS_IN_GT: 0.8004206, COVERAGE_USER: 0.8028256, COVERAGE_USER_HIT: 0.3354576, USERS_IN_GT: 0.8028256, DIVERSITY_GINI: 0.0122495, SHANNON_ENTROPY: 8.5321141, RATIO_DIVERSITY_HERFINDAHL: 0.9966907, RATIO_DIVERSITY_GINI: 0.0353447, RATIO_SHANNON_ENTROPY: 0.6572809, RATIO_AVERAGE_POPULARITY: 2.0940393, RATIO_NOVELTY: 0.2733475, \n",
      "\n",
      "IALSRecommender: New best model found! Updating.\n",
      "IALSRecommender: Epoch 8 of 300. Elapsed time 3.10 min\n",
      "IALSRecommender: Validation begins...\n",
      "EvaluatorHoldout: Processed 10456 (100.0%) in 10.04 sec. Users per second: 1041\n",
      "IALSRecommender: CUTOFF: 10 - PRECISION: 0.0670333, PRECISION_RECALL_MIN_DEN: 0.1162270, RECALL: 0.0986231, MAP: 0.0334865, MAP_MIN_DEN: 0.0575602, MRR: 0.2126292, NDCG: 0.1081088, F1: 0.0798162, HIT_RATE: 0.4193764, ARHR_ALL_HITS: 0.2650744, NOVELTY: 0.0046720, AVERAGE_POPULARITY: 0.2500638, DIVERSITY_MEAN_INTER_LIST: 0.9636489, DIVERSITY_HERFINDAHL: 0.9963557, COVERAGE_ITEM: 0.0451067, COVERAGE_ITEM_HIT: 0.0289077, ITEMS_IN_GT: 0.8004206, COVERAGE_USER: 0.8028256, COVERAGE_USER_HIT: 0.3366861, USERS_IN_GT: 0.8028256, DIVERSITY_GINI: 0.0123419, SHANNON_ENTROPY: 8.5430134, RATIO_DIVERSITY_HERFINDAHL: 0.9967160, RATIO_DIVERSITY_GINI: 0.0356113, RATIO_SHANNON_ENTROPY: 0.6581205, RATIO_AVERAGE_POPULARITY: 2.0851950, RATIO_NOVELTY: 0.2735167, \n",
      "\n",
      "IALSRecommender: New best model found! Updating.\n",
      "IALSRecommender: Epoch 9 of 300. Elapsed time 3.48 min\n",
      "IALSRecommender: Validation begins...\n",
      "EvaluatorHoldout: Processed 10456 (100.0%) in 10.00 sec. Users per second: 1046\n",
      "IALSRecommender: CUTOFF: 10 - PRECISION: 0.0671767, PRECISION_RECALL_MIN_DEN: 0.1163674, RECALL: 0.0987046, MAP: 0.0336670, MAP_MIN_DEN: 0.0577523, MRR: 0.2131889, NDCG: 0.1083717, F1: 0.0799445, HIT_RATE: 0.4188982, ARHR_ALL_HITS: 0.2660946, NOVELTY: 0.0046748, AVERAGE_POPULARITY: 0.2489516, DIVERSITY_MEAN_INTER_LIST: 0.9639025, DIVERSITY_HERFINDAHL: 0.9963810, COVERAGE_ITEM: 0.0455095, COVERAGE_ITEM_HIT: 0.0290867, ITEMS_IN_GT: 0.8004206, COVERAGE_USER: 0.8028256, COVERAGE_USER_HIT: 0.3363022, USERS_IN_GT: 0.8028256, DIVERSITY_GINI: 0.0124270, SHANNON_ENTROPY: 8.5529744, RATIO_DIVERSITY_HERFINDAHL: 0.9967414, RATIO_DIVERSITY_GINI: 0.0358568, RATIO_SHANNON_ENTROPY: 0.6588879, RATIO_AVERAGE_POPULARITY: 2.0759214, RATIO_NOVELTY: 0.2736810, \n",
      "\n",
      "IALSRecommender: New best model found! Updating.\n",
      "IALSRecommender: Epoch 10 of 300. Elapsed time 3.88 min\n",
      "IALSRecommender: Validation begins...\n",
      "EvaluatorHoldout: Processed 10456 (100.0%) in 10.05 sec. Users per second: 1041\n",
      "IALSRecommender: CUTOFF: 10 - PRECISION: 0.0673393, PRECISION_RECALL_MIN_DEN: 0.1168662, RECALL: 0.0991539, MAP: 0.0337801, MAP_MIN_DEN: 0.0580051, MRR: 0.2139040, NDCG: 0.1087768, F1: 0.0802069, HIT_RATE: 0.4197590, ARHR_ALL_HITS: 0.2669610, NOVELTY: 0.0046767, AVERAGE_POPULARITY: 0.2482133, DIVERSITY_MEAN_INTER_LIST: 0.9640499, DIVERSITY_HERFINDAHL: 0.9963958, COVERAGE_ITEM: 0.0458675, COVERAGE_ITEM_HIT: 0.0292209, ITEMS_IN_GT: 0.8004206, COVERAGE_USER: 0.8028256, COVERAGE_USER_HIT: 0.3369932, USERS_IN_GT: 0.8028256, DIVERSITY_GINI: 0.0124779, SHANNON_ENTROPY: 8.5589578, RATIO_DIVERSITY_HERFINDAHL: 0.9967561, RATIO_DIVERSITY_GINI: 0.0360039, RATIO_SHANNON_ENTROPY: 0.6593488, RATIO_AVERAGE_POPULARITY: 2.0697642, RATIO_NOVELTY: 0.2737897, \n",
      "\n",
      "IALSRecommender: New best model found! Updating.\n",
      "IALSRecommender: Epoch 11 of 300. Elapsed time 4.28 min\n",
      "IALSRecommender: Validation begins...\n",
      "EvaluatorHoldout: Processed 10456 (100.0%) in 10.14 sec. Users per second: 1032\n",
      "IALSRecommender: CUTOFF: 10 - PRECISION: 0.0675402, PRECISION_RECALL_MIN_DEN: 0.1171912, RECALL: 0.0994244, MAP: 0.0338665, MAP_MIN_DEN: 0.0581160, MRR: 0.2142703, NDCG: 0.1090159, F1: 0.0804379, HIT_RATE: 0.4202372, ARHR_ALL_HITS: 0.2674938, NOVELTY: 0.0046781, AVERAGE_POPULARITY: 0.2476844, DIVERSITY_MEAN_INTER_LIST: 0.9641880, DIVERSITY_HERFINDAHL: 0.9964096, COVERAGE_ITEM: 0.0457332, COVERAGE_ITEM_HIT: 0.0293552, ITEMS_IN_GT: 0.8004206, COVERAGE_USER: 0.8028256, COVERAGE_USER_HIT: 0.3373771, USERS_IN_GT: 0.8028256, DIVERSITY_GINI: 0.0125237, SHANNON_ENTROPY: 8.5642851, RATIO_DIVERSITY_HERFINDAHL: 0.9967700, RATIO_DIVERSITY_GINI: 0.0361359, RATIO_SHANNON_ENTROPY: 0.6597592, RATIO_AVERAGE_POPULARITY: 2.0653540, RATIO_NOVELTY: 0.2738727, \n",
      "\n",
      "IALSRecommender: New best model found! Updating.\n",
      "IALSRecommender: Epoch 12 of 300. Elapsed time 4.66 min\n",
      "IALSRecommender: Validation begins...\n",
      "EvaluatorHoldout: Processed 10456 (100.0%) in 9.97 sec. Users per second: 1049\n",
      "IALSRecommender: CUTOFF: 10 - PRECISION: 0.0676549, PRECISION_RECALL_MIN_DEN: 0.1175491, RECALL: 0.0997701, MAP: 0.0339043, MAP_MIN_DEN: 0.0582890, MRR: 0.2141533, NDCG: 0.1092269, F1: 0.0806324, HIT_RATE: 0.4202372, ARHR_ALL_HITS: 0.2675761, NOVELTY: 0.0046792, AVERAGE_POPULARITY: 0.2472380, DIVERSITY_MEAN_INTER_LIST: 0.9642524, DIVERSITY_HERFINDAHL: 0.9964160, COVERAGE_ITEM: 0.0462254, COVERAGE_ITEM_HIT: 0.0294447, ITEMS_IN_GT: 0.8004206, COVERAGE_USER: 0.8028256, COVERAGE_USER_HIT: 0.3373771, USERS_IN_GT: 0.8028256, DIVERSITY_GINI: 0.0125545, SHANNON_ENTROPY: 8.5678058, RATIO_DIVERSITY_HERFINDAHL: 0.9967764, RATIO_DIVERSITY_GINI: 0.0362247, RATIO_SHANNON_ENTROPY: 0.6600304, RATIO_AVERAGE_POPULARITY: 2.0616319, RATIO_NOVELTY: 0.2739362, \n",
      "\n",
      "IALSRecommender: New best model found! Updating.\n",
      "IALSRecommender: Epoch 13 of 300. Elapsed time 5.03 min\n",
      "IALSRecommender: Validation begins...\n",
      "EvaluatorHoldout: Processed 10456 (100.0%) in 10.01 sec. Users per second: 1045\n",
      "IALSRecommender: CUTOFF: 10 - PRECISION: 0.0676836, PRECISION_RECALL_MIN_DEN: 0.1177018, RECALL: 0.0999176, MAP: 0.0338757, MAP_MIN_DEN: 0.0582944, MRR: 0.2139219, NDCG: 0.1092309, F1: 0.0807009, HIT_RATE: 0.4202372, ARHR_ALL_HITS: 0.2672427, NOVELTY: 0.0046798, AVERAGE_POPULARITY: 0.2469913, DIVERSITY_MEAN_INTER_LIST: 0.9643266, DIVERSITY_HERFINDAHL: 0.9964234, COVERAGE_ITEM: 0.0463597, COVERAGE_ITEM_HIT: 0.0295342, ITEMS_IN_GT: 0.8004206, COVERAGE_USER: 0.8028256, COVERAGE_USER_HIT: 0.3373771, USERS_IN_GT: 0.8028256, DIVERSITY_GINI: 0.0125755, SHANNON_ENTROPY: 8.5702266, RATIO_DIVERSITY_HERFINDAHL: 0.9967838, RATIO_DIVERSITY_GINI: 0.0362852, RATIO_SHANNON_ENTROPY: 0.6602169, RATIO_AVERAGE_POPULARITY: 2.0595752, RATIO_NOVELTY: 0.2739718, \n",
      "\n",
      "IALSRecommender: Epoch 14 of 300. Elapsed time 5.43 min\n",
      "IALSRecommender: Validation begins...\n",
      "EvaluatorHoldout: Processed 10456 (100.0%) in 10.12 sec. Users per second: 1033\n",
      "IALSRecommender: CUTOFF: 10 - PRECISION: 0.0678271, PRECISION_RECALL_MIN_DEN: 0.1178343, RECALL: 0.1000262, MAP: 0.0338720, MAP_MIN_DEN: 0.0582500, MRR: 0.2138837, NDCG: 0.1092640, F1: 0.0808383, HIT_RATE: 0.4217674, ARHR_ALL_HITS: 0.2671914, NOVELTY: 0.0046804, AVERAGE_POPULARITY: 0.2468055, DIVERSITY_MEAN_INTER_LIST: 0.9644013, DIVERSITY_HERFINDAHL: 0.9964309, COVERAGE_ITEM: 0.0464044, COVERAGE_ITEM_HIT: 0.0295789, ITEMS_IN_GT: 0.8004206, COVERAGE_USER: 0.8028256, COVERAGE_USER_HIT: 0.3386057, USERS_IN_GT: 0.8028256, DIVERSITY_GINI: 0.0126028, SHANNON_ENTROPY: 8.5733733, RATIO_DIVERSITY_HERFINDAHL: 0.9967913, RATIO_DIVERSITY_GINI: 0.0363642, RATIO_SHANNON_ENTROPY: 0.6604593, RATIO_AVERAGE_POPULARITY: 2.0580258, RATIO_NOVELTY: 0.2740086, \n",
      "\n",
      "IALSRecommender: Epoch 15 of 300. Elapsed time 5.80 min\n",
      "IALSRecommender: Validation begins...\n",
      "EvaluatorHoldout: Processed 10456 (100.0%) in 10.01 sec. Users per second: 1044\n",
      "IALSRecommender: CUTOFF: 10 - PRECISION: 0.0677697, PRECISION_RECALL_MIN_DEN: 0.1172655, RECALL: 0.0994673, MAP: 0.0338573, MAP_MIN_DEN: 0.0582328, MRR: 0.2142662, NDCG: 0.1091606, F1: 0.0806146, HIT_RATE: 0.4220543, ARHR_ALL_HITS: 0.2673186, NOVELTY: 0.0046813, AVERAGE_POPULARITY: 0.2464504, DIVERSITY_MEAN_INTER_LIST: 0.9644361, DIVERSITY_HERFINDAHL: 0.9964344, COVERAGE_ITEM: 0.0466729, COVERAGE_ITEM_HIT: 0.0295342, ITEMS_IN_GT: 0.8004206, COVERAGE_USER: 0.8028256, COVERAGE_USER_HIT: 0.3388360, USERS_IN_GT: 0.8028256, DIVERSITY_GINI: 0.0126271, SHANNON_ENTROPY: 8.5761402, RATIO_DIVERSITY_HERFINDAHL: 0.9967948, RATIO_DIVERSITY_GINI: 0.0364342, RATIO_SHANNON_ENTROPY: 0.6606725, RATIO_AVERAGE_POPULARITY: 2.0550643, RATIO_NOVELTY: 0.2740573, \n",
      "\n",
      "IALSRecommender: Epoch 16 of 300. Elapsed time 6.17 min\n",
      "IALSRecommender: Validation begins...\n",
      "EvaluatorHoldout: Processed 10456 (100.0%) in 9.97 sec. Users per second: 1049\n",
      "IALSRecommender: CUTOFF: 10 - PRECISION: 0.0678366, PRECISION_RECALL_MIN_DEN: 0.1171231, RECALL: 0.0993078, MAP: 0.0338685, MAP_MIN_DEN: 0.0581858, MRR: 0.2143966, NDCG: 0.1091490, F1: 0.0806094, HIT_RATE: 0.4230107, ARHR_ALL_HITS: 0.2674578, NOVELTY: 0.0046815, AVERAGE_POPULARITY: 0.2463756, DIVERSITY_MEAN_INTER_LIST: 0.9644595, DIVERSITY_HERFINDAHL: 0.9964367, COVERAGE_ITEM: 0.0466282, COVERAGE_ITEM_HIT: 0.0295342, ITEMS_IN_GT: 0.8004206, COVERAGE_USER: 0.8028256, COVERAGE_USER_HIT: 0.3396038, USERS_IN_GT: 0.8028256, DIVERSITY_GINI: 0.0126299, SHANNON_ENTROPY: 8.5765110, RATIO_DIVERSITY_HERFINDAHL: 0.9967971, RATIO_DIVERSITY_GINI: 0.0364424, RATIO_SHANNON_ENTROPY: 0.6607010, RATIO_AVERAGE_POPULARITY: 2.0544410, RATIO_NOVELTY: 0.2740700, \n",
      "\n",
      "IALSRecommender: Epoch 17 of 300. Elapsed time 6.57 min\n",
      "IALSRecommender: Validation begins...\n",
      "EvaluatorHoldout: Processed 10456 (100.0%) in 9.98 sec. Users per second: 1048\n",
      "IALSRecommender: CUTOFF: 10 - PRECISION: 0.0678271, PRECISION_RECALL_MIN_DEN: 0.1168739, RECALL: 0.0990275, MAP: 0.0338774, MAP_MIN_DEN: 0.0581642, MRR: 0.2145529, NDCG: 0.1091022, F1: 0.0805102, HIT_RATE: 0.4230107, ARHR_ALL_HITS: 0.2675608, NOVELTY: 0.0046822, AVERAGE_POPULARITY: 0.2460778, DIVERSITY_MEAN_INTER_LIST: 0.9645516, DIVERSITY_HERFINDAHL: 0.9964459, COVERAGE_ITEM: 0.0464939, COVERAGE_ITEM_HIT: 0.0295342, ITEMS_IN_GT: 0.8004206, COVERAGE_USER: 0.8028256, COVERAGE_USER_HIT: 0.3396038, USERS_IN_GT: 0.8028256, DIVERSITY_GINI: 0.0126497, SHANNON_ENTROPY: 8.5787622, RATIO_DIVERSITY_HERFINDAHL: 0.9968063, RATIO_DIVERSITY_GINI: 0.0364994, RATIO_SHANNON_ENTROPY: 0.6608745, RATIO_AVERAGE_POPULARITY: 2.0519574, RATIO_NOVELTY: 0.2741140, \n",
      "\n",
      "IALSRecommender: Epoch 18 of 300. Elapsed time 6.98 min\n",
      "IALSRecommender: Validation begins...\n",
      "EvaluatorHoldout: Processed 10456 (100.0%) in 10.13 sec. Users per second: 1032\n",
      "IALSRecommender: CUTOFF: 10 - PRECISION: 0.0677697, PRECISION_RECALL_MIN_DEN: 0.1168489, RECALL: 0.0990154, MAP: 0.0338832, MAP_MIN_DEN: 0.0581958, MRR: 0.2147507, NDCG: 0.1091297, F1: 0.0804657, HIT_RATE: 0.4227238, ARHR_ALL_HITS: 0.2677347, NOVELTY: 0.0046823, AVERAGE_POPULARITY: 0.2460326, DIVERSITY_MEAN_INTER_LIST: 0.9645699, DIVERSITY_HERFINDAHL: 0.9964478, COVERAGE_ITEM: 0.0464939, COVERAGE_ITEM_HIT: 0.0295789, ITEMS_IN_GT: 0.8004206, COVERAGE_USER: 0.8028256, COVERAGE_USER_HIT: 0.3393735, USERS_IN_GT: 0.8028256, DIVERSITY_GINI: 0.0126516, SHANNON_ENTROPY: 8.5790082, RATIO_DIVERSITY_HERFINDAHL: 0.9968082, RATIO_DIVERSITY_GINI: 0.0365049, RATIO_SHANNON_ENTROPY: 0.6608934, RATIO_AVERAGE_POPULARITY: 2.0515809, RATIO_NOVELTY: 0.2741192, \n",
      "\n",
      "IALSRecommender: Epoch 19 of 300. Elapsed time 7.35 min\n",
      "IALSRecommender: Validation begins...\n",
      "EvaluatorHoldout: Processed 10456 (100.0%) in 9.98 sec. Users per second: 1048\n",
      "IALSRecommender: CUTOFF: 10 - PRECISION: 0.0677984, PRECISION_RECALL_MIN_DEN: 0.1167436, RECALL: 0.0989062, MAP: 0.0339099, MAP_MIN_DEN: 0.0582137, MRR: 0.2150157, NDCG: 0.1091776, F1: 0.0804499, HIT_RATE: 0.4223412, ARHR_ALL_HITS: 0.2680408, NOVELTY: 0.0046824, AVERAGE_POPULARITY: 0.2459699, DIVERSITY_MEAN_INTER_LIST: 0.9645667, DIVERSITY_HERFINDAHL: 0.9964474, COVERAGE_ITEM: 0.0463597, COVERAGE_ITEM_HIT: 0.0296684, ITEMS_IN_GT: 0.8004206, COVERAGE_USER: 0.8028256, COVERAGE_USER_HIT: 0.3390663, USERS_IN_GT: 0.8028256, DIVERSITY_GINI: 0.0126525, SHANNON_ENTROPY: 8.5790884, RATIO_DIVERSITY_HERFINDAHL: 0.9968078, RATIO_DIVERSITY_GINI: 0.0365075, RATIO_SHANNON_ENTROPY: 0.6608996, RATIO_AVERAGE_POPULARITY: 2.0510576, RATIO_NOVELTY: 0.2741248, \n",
      "\n",
      "IALSRecommender: New best model found! Updating.\n",
      "IALSRecommender: Epoch 20 of 300. Elapsed time 7.72 min\n",
      "IALSRecommender: Validation begins...\n",
      "EvaluatorHoldout: Processed 10456 (100.0%) in 10.01 sec. Users per second: 1044\n",
      "IALSRecommender: CUTOFF: 10 - PRECISION: 0.0678462, PRECISION_RECALL_MIN_DEN: 0.1168779, RECALL: 0.0990356, MAP: 0.0338685, MAP_MIN_DEN: 0.0581422, MRR: 0.2145575, NDCG: 0.1091252, F1: 0.0805263, HIT_RATE: 0.4221500, ARHR_ALL_HITS: 0.2676614, NOVELTY: 0.0046827, AVERAGE_POPULARITY: 0.2458861, DIVERSITY_MEAN_INTER_LIST: 0.9645746, DIVERSITY_HERFINDAHL: 0.9964482, COVERAGE_ITEM: 0.0463149, COVERAGE_ITEM_HIT: 0.0296684, ITEMS_IN_GT: 0.8004206, COVERAGE_USER: 0.8028256, COVERAGE_USER_HIT: 0.3389128, USERS_IN_GT: 0.8028256, DIVERSITY_GINI: 0.0126587, SHANNON_ENTROPY: 8.5797590, RATIO_DIVERSITY_HERFINDAHL: 0.9968086, RATIO_DIVERSITY_GINI: 0.0365253, RATIO_SHANNON_ENTROPY: 0.6609512, RATIO_AVERAGE_POPULARITY: 2.0503592, RATIO_NOVELTY: 0.2741388, \n",
      "\n",
      "IALSRecommender: Epoch 21 of 300. Elapsed time 8.12 min\n",
      "IALSRecommender: Validation begins...\n",
      "EvaluatorHoldout: Processed 10456 (100.0%) in 10.17 sec. Users per second: 1028\n",
      "IALSRecommender: CUTOFF: 10 - PRECISION: 0.0679514, PRECISION_RECALL_MIN_DEN: 0.1169398, RECALL: 0.0990474, MAP: 0.0339111, MAP_MIN_DEN: 0.0581888, MRR: 0.2146755, NDCG: 0.1092022, F1: 0.0806043, HIT_RATE: 0.4220543, ARHR_ALL_HITS: 0.2678823, NOVELTY: 0.0046830, AVERAGE_POPULARITY: 0.2457710, DIVERSITY_MEAN_INTER_LIST: 0.9646107, DIVERSITY_HERFINDAHL: 0.9964518, COVERAGE_ITEM: 0.0465387, COVERAGE_ITEM_HIT: 0.0298922, ITEMS_IN_GT: 0.8004206, COVERAGE_USER: 0.8028256, COVERAGE_USER_HIT: 0.3388360, USERS_IN_GT: 0.8028256, DIVERSITY_GINI: 0.0126722, SHANNON_ENTROPY: 8.5813559, RATIO_DIVERSITY_HERFINDAHL: 0.9968122, RATIO_DIVERSITY_GINI: 0.0365643, RATIO_SHANNON_ENTROPY: 0.6610743, RATIO_AVERAGE_POPULARITY: 2.0493991, RATIO_NOVELTY: 0.2741599, \n",
      "\n",
      "IALSRecommender: New best model found! Updating.\n",
      "IALSRecommender: Epoch 22 of 300. Elapsed time 8.50 min\n",
      "IALSRecommender: Validation begins...\n",
      "EvaluatorHoldout: Processed 10456 (100.0%) in 10.00 sec. Users per second: 1045\n",
      "IALSRecommender: CUTOFF: 10 - PRECISION: 0.0680088, PRECISION_RECALL_MIN_DEN: 0.1169976, RECALL: 0.0991055, MAP: 0.0339370, MAP_MIN_DEN: 0.0582146, MRR: 0.2148342, NDCG: 0.1092665, F1: 0.0806639, HIT_RATE: 0.4219587, ARHR_ALL_HITS: 0.2681013, NOVELTY: 0.0046833, AVERAGE_POPULARITY: 0.2456922, DIVERSITY_MEAN_INTER_LIST: 0.9646267, DIVERSITY_HERFINDAHL: 0.9964534, COVERAGE_ITEM: 0.0465834, COVERAGE_ITEM_HIT: 0.0298474, ITEMS_IN_GT: 0.8004206, COVERAGE_USER: 0.8028256, COVERAGE_USER_HIT: 0.3387592, USERS_IN_GT: 0.8028256, DIVERSITY_GINI: 0.0126792, SHANNON_ENTROPY: 8.5821552, RATIO_DIVERSITY_HERFINDAHL: 0.9968138, RATIO_DIVERSITY_GINI: 0.0365844, RATIO_SHANNON_ENTROPY: 0.6611358, RATIO_AVERAGE_POPULARITY: 2.0487417, RATIO_NOVELTY: 0.2741783, \n",
      "\n",
      "IALSRecommender: New best model found! Updating.\n",
      "IALSRecommender: Epoch 23 of 300. Elapsed time 8.87 min\n",
      "IALSRecommender: Validation begins...\n",
      "EvaluatorHoldout: Processed 10456 (100.0%) in 10.01 sec. Users per second: 1045\n",
      "IALSRecommender: CUTOFF: 10 - PRECISION: 0.0680088, PRECISION_RECALL_MIN_DEN: 0.1171267, RECALL: 0.0992573, MAP: 0.0339514, MAP_MIN_DEN: 0.0582470, MRR: 0.2149538, NDCG: 0.1093341, F1: 0.0807142, HIT_RATE: 0.4215761, ARHR_ALL_HITS: 0.2682675, NOVELTY: 0.0046834, AVERAGE_POPULARITY: 0.2456949, DIVERSITY_MEAN_INTER_LIST: 0.9646339, DIVERSITY_HERFINDAHL: 0.9964542, COVERAGE_ITEM: 0.0466282, COVERAGE_ITEM_HIT: 0.0298474, ITEMS_IN_GT: 0.8004206, COVERAGE_USER: 0.8028256, COVERAGE_USER_HIT: 0.3384521, USERS_IN_GT: 0.8028256, DIVERSITY_GINI: 0.0126812, SHANNON_ENTROPY: 8.5824108, RATIO_DIVERSITY_HERFINDAHL: 0.9968146, RATIO_DIVERSITY_GINI: 0.0365905, RATIO_SHANNON_ENTROPY: 0.6611555, RATIO_AVERAGE_POPULARITY: 2.0487645, RATIO_NOVELTY: 0.2741811, \n",
      "\n",
      "IALSRecommender: New best model found! Updating.\n",
      "IALSRecommender: Epoch 24 of 300. Elapsed time 9.27 min\n",
      "IALSRecommender: Validation begins...\n",
      "EvaluatorHoldout: Processed 10456 (100.0%) in 10.01 sec. Users per second: 1045\n",
      "IALSRecommender: CUTOFF: 10 - PRECISION: 0.0680279, PRECISION_RECALL_MIN_DEN: 0.1172920, RECALL: 0.0994600, MAP: 0.0339847, MAP_MIN_DEN: 0.0583913, MRR: 0.2154601, NDCG: 0.1095284, F1: 0.0807946, HIT_RATE: 0.4219587, ARHR_ALL_HITS: 0.2687243, NOVELTY: 0.0046837, AVERAGE_POPULARITY: 0.2455350, DIVERSITY_MEAN_INTER_LIST: 0.9646426, DIVERSITY_HERFINDAHL: 0.9964550, COVERAGE_ITEM: 0.0468519, COVERAGE_ITEM_HIT: 0.0299369, ITEMS_IN_GT: 0.8004206, COVERAGE_USER: 0.8028256, COVERAGE_USER_HIT: 0.3387592, USERS_IN_GT: 0.8028256, DIVERSITY_GINI: 0.0126875, SHANNON_ENTROPY: 8.5831376, RATIO_DIVERSITY_HERFINDAHL: 0.9968154, RATIO_DIVERSITY_GINI: 0.0366084, RATIO_SHANNON_ENTROPY: 0.6612115, RATIO_AVERAGE_POPULARITY: 2.0474314, RATIO_NOVELTY: 0.2742015, \n",
      "\n",
      "IALSRecommender: New best model found! Updating.\n",
      "IALSRecommender: Epoch 25 of 300. Elapsed time 9.67 min\n",
      "IALSRecommender: Validation begins...\n",
      "EvaluatorHoldout: Processed 10456 (100.0%) in 10.21 sec. Users per second: 1024\n",
      "IALSRecommender: CUTOFF: 10 - PRECISION: 0.0680662, PRECISION_RECALL_MIN_DEN: 0.1173795, RECALL: 0.0995202, MAP: 0.0339960, MAP_MIN_DEN: 0.0584499, MRR: 0.2156767, NDCG: 0.1096238, F1: 0.0808414, HIT_RATE: 0.4221500, ARHR_ALL_HITS: 0.2689217, NOVELTY: 0.0046840, AVERAGE_POPULARITY: 0.2454138, DIVERSITY_MEAN_INTER_LIST: 0.9646672, DIVERSITY_HERFINDAHL: 0.9964575, COVERAGE_ITEM: 0.0468967, COVERAGE_ITEM_HIT: 0.0299817, ITEMS_IN_GT: 0.8004206, COVERAGE_USER: 0.8028256, COVERAGE_USER_HIT: 0.3389128, USERS_IN_GT: 0.8028256, DIVERSITY_GINI: 0.0126943, SHANNON_ENTROPY: 8.5839014, RATIO_DIVERSITY_HERFINDAHL: 0.9968179, RATIO_DIVERSITY_GINI: 0.0366282, RATIO_SHANNON_ENTROPY: 0.6612704, RATIO_AVERAGE_POPULARITY: 2.0464204, RATIO_NOVELTY: 0.2742167, \n",
      "\n",
      "IALSRecommender: New best model found! Updating.\n",
      "IALSRecommender: Epoch 26 of 300. Elapsed time 10.05 min\n",
      "IALSRecommender: Validation begins...\n",
      "EvaluatorHoldout: Processed 10456 (100.0%) in 10.08 sec. Users per second: 1038\n",
      "IALSRecommender: CUTOFF: 10 - PRECISION: 0.0679610, PRECISION_RECALL_MIN_DEN: 0.1170954, RECALL: 0.0992582, MAP: 0.0339895, MAP_MIN_DEN: 0.0583730, MRR: 0.2156273, NDCG: 0.1094749, F1: 0.0806808, HIT_RATE: 0.4214805, ARHR_ALL_HITS: 0.2688231, NOVELTY: 0.0046843, AVERAGE_POPULARITY: 0.2453175, DIVERSITY_MEAN_INTER_LIST: 0.9646999, DIVERSITY_HERFINDAHL: 0.9964608, COVERAGE_ITEM: 0.0466282, COVERAGE_ITEM_HIT: 0.0301159, ITEMS_IN_GT: 0.8004206, COVERAGE_USER: 0.8028256, COVERAGE_USER_HIT: 0.3383753, USERS_IN_GT: 0.8028256, DIVERSITY_GINI: 0.0127004, SHANNON_ENTROPY: 8.5845810, RATIO_DIVERSITY_HERFINDAHL: 0.9968212, RATIO_DIVERSITY_GINI: 0.0366458, RATIO_SHANNON_ENTROPY: 0.6613227, RATIO_AVERAGE_POPULARITY: 2.0456176, RATIO_NOVELTY: 0.2742317, \n",
      "\n",
      "IALSRecommender: Epoch 27 of 300. Elapsed time 10.42 min\n",
      "IALSRecommender: Validation begins...\n",
      "EvaluatorHoldout: Processed 10456 (100.0%) in 10.03 sec. Users per second: 1043\n",
      "IALSRecommender: CUTOFF: 10 - PRECISION: 0.0679705, PRECISION_RECALL_MIN_DEN: 0.1171370, RECALL: 0.0992704, MAP: 0.0339870, MAP_MIN_DEN: 0.0583818, MRR: 0.2155282, NDCG: 0.1094842, F1: 0.0806915, HIT_RATE: 0.4213849, ARHR_ALL_HITS: 0.2687873, NOVELTY: 0.0046842, AVERAGE_POPULARITY: 0.2453059, DIVERSITY_MEAN_INTER_LIST: 0.9646740, DIVERSITY_HERFINDAHL: 0.9964582, COVERAGE_ITEM: 0.0465834, COVERAGE_ITEM_HIT: 0.0301159, ITEMS_IN_GT: 0.8004206, COVERAGE_USER: 0.8028256, COVERAGE_USER_HIT: 0.3382985, USERS_IN_GT: 0.8028256, DIVERSITY_GINI: 0.0126925, SHANNON_ENTROPY: 8.5836888, RATIO_DIVERSITY_HERFINDAHL: 0.9968186, RATIO_DIVERSITY_GINI: 0.0366229, RATIO_SHANNON_ENTROPY: 0.6612540, RATIO_AVERAGE_POPULARITY: 2.0455205, RATIO_NOVELTY: 0.2742291, \n",
      "\n",
      "IALSRecommender: Epoch 28 of 300. Elapsed time 10.83 min\n",
      "IALSRecommender: Validation begins...\n",
      "EvaluatorHoldout: Processed 10456 (100.0%) in 10.17 sec. Users per second: 1029\n",
      "IALSRecommender: CUTOFF: 10 - PRECISION: 0.0680088, PRECISION_RECALL_MIN_DEN: 0.1171874, RECALL: 0.0993073, MAP: 0.0340180, MAP_MIN_DEN: 0.0585047, MRR: 0.2155882, NDCG: 0.1095863, F1: 0.0807307, HIT_RATE: 0.4215761, ARHR_ALL_HITS: 0.2689031, NOVELTY: 0.0046841, AVERAGE_POPULARITY: 0.2453147, DIVERSITY_MEAN_INTER_LIST: 0.9646404, DIVERSITY_HERFINDAHL: 0.9964548, COVERAGE_ITEM: 0.0466729, COVERAGE_ITEM_HIT: 0.0303396, ITEMS_IN_GT: 0.8004206, COVERAGE_USER: 0.8028256, COVERAGE_USER_HIT: 0.3384521, USERS_IN_GT: 0.8028256, DIVERSITY_GINI: 0.0126870, SHANNON_ENTROPY: 8.5830234, RATIO_DIVERSITY_HERFINDAHL: 0.9968152, RATIO_DIVERSITY_GINI: 0.0366072, RATIO_SHANNON_ENTROPY: 0.6612027, RATIO_AVERAGE_POPULARITY: 2.0455939, RATIO_NOVELTY: 0.2742234, \n",
      "\n",
      "IALSRecommender: New best model found! Updating.\n",
      "IALSRecommender: Epoch 29 of 300. Elapsed time 11.20 min\n",
      "IALSRecommender: Validation begins...\n",
      "EvaluatorHoldout: Processed 10456 (100.0%) in 10.07 sec. Users per second: 1038\n",
      "IALSRecommender: CUTOFF: 10 - PRECISION: 0.0679897, PRECISION_RECALL_MIN_DEN: 0.1170745, RECALL: 0.0992298, MAP: 0.0339803, MAP_MIN_DEN: 0.0584683, MRR: 0.2152650, NDCG: 0.1095153, F1: 0.0806916, HIT_RATE: 0.4215761, ARHR_ALL_HITS: 0.2685741, NOVELTY: 0.0046840, AVERAGE_POPULARITY: 0.2453074, DIVERSITY_MEAN_INTER_LIST: 0.9646003, DIVERSITY_HERFINDAHL: 0.9964508, COVERAGE_ITEM: 0.0465387, COVERAGE_ITEM_HIT: 0.0302054, ITEMS_IN_GT: 0.8004206, COVERAGE_USER: 0.8028256, COVERAGE_USER_HIT: 0.3384521, USERS_IN_GT: 0.8028256, DIVERSITY_GINI: 0.0126746, SHANNON_ENTROPY: 8.5815996, RATIO_DIVERSITY_HERFINDAHL: 0.9968112, RATIO_DIVERSITY_GINI: 0.0365713, RATIO_SHANNON_ENTROPY: 0.6610930, RATIO_AVERAGE_POPULARITY: 2.0455332, RATIO_NOVELTY: 0.2742154, \n",
      "\n",
      "IALSRecommender: Epoch 30 of 300. Elapsed time 11.58 min\n",
      "IALSRecommender: Validation begins...\n",
      "EvaluatorHoldout: Processed 10456 (100.0%) in 10.02 sec. Users per second: 1043\n",
      "IALSRecommender: CUTOFF: 10 - PRECISION: 0.0680088, PRECISION_RECALL_MIN_DEN: 0.1171160, RECALL: 0.0992777, MAP: 0.0339474, MAP_MIN_DEN: 0.0584727, MRR: 0.2151845, NDCG: 0.1095370, F1: 0.0807209, HIT_RATE: 0.4220543, ARHR_ALL_HITS: 0.2684233, NOVELTY: 0.0046841, AVERAGE_POPULARITY: 0.2452749, DIVERSITY_MEAN_INTER_LIST: 0.9646184, DIVERSITY_HERFINDAHL: 0.9964526, COVERAGE_ITEM: 0.0466729, COVERAGE_ITEM_HIT: 0.0301606, ITEMS_IN_GT: 0.8004206, COVERAGE_USER: 0.8028256, COVERAGE_USER_HIT: 0.3388360, USERS_IN_GT: 0.8028256, DIVERSITY_GINI: 0.0126826, SHANNON_ENTROPY: 8.5825132, RATIO_DIVERSITY_HERFINDAHL: 0.9968130, RATIO_DIVERSITY_GINI: 0.0365945, RATIO_SHANNON_ENTROPY: 0.6611634, RATIO_AVERAGE_POPULARITY: 2.0452621, RATIO_NOVELTY: 0.2742254, \n",
      "\n",
      "IALSRecommender: Epoch 31 of 300. Elapsed time 11.97 min\n",
      "IALSRecommender: Validation begins...\n",
      "EvaluatorHoldout: Processed 10456 (100.0%) in 10.04 sec. Users per second: 1041\n",
      "IALSRecommender: CUTOFF: 10 - PRECISION: 0.0679610, PRECISION_RECALL_MIN_DEN: 0.1169173, RECALL: 0.0991040, MAP: 0.0339319, MAP_MIN_DEN: 0.0584457, MRR: 0.2153772, NDCG: 0.1094918, F1: 0.0806297, HIT_RATE: 0.4222456, ARHR_ALL_HITS: 0.2684742, NOVELTY: 0.0046840, AVERAGE_POPULARITY: 0.2453271, DIVERSITY_MEAN_INTER_LIST: 0.9646051, DIVERSITY_HERFINDAHL: 0.9964513, COVERAGE_ITEM: 0.0466282, COVERAGE_ITEM_HIT: 0.0300264, ITEMS_IN_GT: 0.8004206, COVERAGE_USER: 0.8028256, COVERAGE_USER_HIT: 0.3389896, USERS_IN_GT: 0.8028256, DIVERSITY_GINI: 0.0126771, SHANNON_ENTROPY: 8.5818946, RATIO_DIVERSITY_HERFINDAHL: 0.9968117, RATIO_DIVERSITY_GINI: 0.0365785, RATIO_SHANNON_ENTROPY: 0.6611158, RATIO_AVERAGE_POPULARITY: 2.0456975, RATIO_NOVELTY: 0.2742176, \n",
      "\n",
      "IALSRecommender: Epoch 32 of 300. Elapsed time 12.38 min\n",
      "IALSRecommender: Validation begins...\n",
      "EvaluatorHoldout: Processed 10456 (100.0%) in 10.14 sec. Users per second: 1031\n",
      "IALSRecommender: CUTOFF: 10 - PRECISION: 0.0680662, PRECISION_RECALL_MIN_DEN: 0.1168288, RECALL: 0.0989613, MAP: 0.0339343, MAP_MIN_DEN: 0.0583782, MRR: 0.2151812, NDCG: 0.1094431, F1: 0.0806564, HIT_RATE: 0.4227238, ARHR_ALL_HITS: 0.2683807, NOVELTY: 0.0046840, AVERAGE_POPULARITY: 0.2453484, DIVERSITY_MEAN_INTER_LIST: 0.9645844, DIVERSITY_HERFINDAHL: 0.9964492, COVERAGE_ITEM: 0.0466282, COVERAGE_ITEM_HIT: 0.0299817, ITEMS_IN_GT: 0.8004206, COVERAGE_USER: 0.8028256, COVERAGE_USER_HIT: 0.3393735, USERS_IN_GT: 0.8028256, DIVERSITY_GINI: 0.0126741, SHANNON_ENTROPY: 8.5815341, RATIO_DIVERSITY_HERFINDAHL: 0.9968096, RATIO_DIVERSITY_GINI: 0.0365699, RATIO_SHANNON_ENTROPY: 0.6610880, RATIO_AVERAGE_POPULARITY: 2.0458753, RATIO_NOVELTY: 0.2742147, \n",
      "\n",
      "IALSRecommender: Epoch 33 of 300. Elapsed time 12.75 min\n",
      "IALSRecommender: Validation begins...\n",
      "EvaluatorHoldout: Processed 10456 (100.0%) in 10.01 sec. Users per second: 1045\n",
      "IALSRecommender: CUTOFF: 10 - PRECISION: 0.0680471, PRECISION_RECALL_MIN_DEN: 0.1166659, RECALL: 0.0987906, MAP: 0.0339344, MAP_MIN_DEN: 0.0583592, MRR: 0.2152990, NDCG: 0.1094022, F1: 0.0805862, HIT_RATE: 0.4228194, ARHR_ALL_HITS: 0.2684190, NOVELTY: 0.0046837, AVERAGE_POPULARITY: 0.2454080, DIVERSITY_MEAN_INTER_LIST: 0.9645755, DIVERSITY_HERFINDAHL: 0.9964483, COVERAGE_ITEM: 0.0468072, COVERAGE_ITEM_HIT: 0.0299817, ITEMS_IN_GT: 0.8004206, COVERAGE_USER: 0.8028256, COVERAGE_USER_HIT: 0.3394502, USERS_IN_GT: 0.8028256, DIVERSITY_GINI: 0.0126706, SHANNON_ENTROPY: 8.5811152, RATIO_DIVERSITY_HERFINDAHL: 0.9968087, RATIO_DIVERSITY_GINI: 0.0365598, RATIO_SHANNON_ENTROPY: 0.6610557, RATIO_AVERAGE_POPULARITY: 2.0463725, RATIO_NOVELTY: 0.2742014, \n",
      "\n",
      "IALSRecommender: Epoch 34 of 300. Elapsed time 13.12 min\n",
      "IALSRecommender: Validation begins...\n",
      "EvaluatorHoldout: Processed 10456 (100.0%) in 9.97 sec. Users per second: 1048\n",
      "IALSRecommender: CUTOFF: 10 - PRECISION: 0.0680375, PRECISION_RECALL_MIN_DEN: 0.1163575, RECALL: 0.0984377, MAP: 0.0339519, MAP_MIN_DEN: 0.0583882, MRR: 0.2154401, NDCG: 0.1093682, F1: 0.0804619, HIT_RATE: 0.4225325, ARHR_ALL_HITS: 0.2685393, NOVELTY: 0.0046836, AVERAGE_POPULARITY: 0.2454127, DIVERSITY_MEAN_INTER_LIST: 0.9645509, DIVERSITY_HERFINDAHL: 0.9964459, COVERAGE_ITEM: 0.0468072, COVERAGE_ITEM_HIT: 0.0300264, ITEMS_IN_GT: 0.8004206, COVERAGE_USER: 0.8028256, COVERAGE_USER_HIT: 0.3392199, USERS_IN_GT: 0.8028256, DIVERSITY_GINI: 0.0126648, SHANNON_ENTROPY: 8.5804394, RATIO_DIVERSITY_HERFINDAHL: 0.9968063, RATIO_DIVERSITY_GINI: 0.0365429, RATIO_SHANNON_ENTROPY: 0.6610037, RATIO_AVERAGE_POPULARITY: 2.0464114, RATIO_NOVELTY: 0.2741953, \n",
      "\n",
      "IALSRecommender: Epoch 35 of 300. Elapsed time 13.52 min\n",
      "IALSRecommender: Validation begins...\n",
      "EvaluatorHoldout: Processed 10456 (100.0%) in 9.96 sec. Users per second: 1050\n",
      "IALSRecommender: CUTOFF: 10 - PRECISION: 0.0678749, PRECISION_RECALL_MIN_DEN: 0.1160647, RECALL: 0.0981963, MAP: 0.0339527, MAP_MIN_DEN: 0.0583550, MRR: 0.2155861, NDCG: 0.1092675, F1: 0.0802675, HIT_RATE: 0.4215761, ARHR_ALL_HITS: 0.2686611, NOVELTY: 0.0046840, AVERAGE_POPULARITY: 0.2452929, DIVERSITY_MEAN_INTER_LIST: 0.9645875, DIVERSITY_HERFINDAHL: 0.9964495, COVERAGE_ITEM: 0.0468072, COVERAGE_ITEM_HIT: 0.0298922, ITEMS_IN_GT: 0.8004206, COVERAGE_USER: 0.8028256, COVERAGE_USER_HIT: 0.3384521, USERS_IN_GT: 0.8028256, DIVERSITY_GINI: 0.0126781, SHANNON_ENTROPY: 8.5819559, RATIO_DIVERSITY_HERFINDAHL: 0.9968099, RATIO_DIVERSITY_GINI: 0.0365815, RATIO_SHANNON_ENTROPY: 0.6611205, RATIO_AVERAGE_POPULARITY: 2.0454121, RATIO_NOVELTY: 0.2742172, \n",
      "\n",
      "IALSRecommender: Epoch 36 of 300. Elapsed time 13.92 min\n",
      "IALSRecommender: Validation begins...\n",
      "EvaluatorHoldout: Processed 10456 (100.0%) in 10.21 sec. Users per second: 1024\n",
      "IALSRecommender: CUTOFF: 10 - PRECISION: 0.0678366, PRECISION_RECALL_MIN_DEN: 0.1159792, RECALL: 0.0980885, MAP: 0.0340008, MAP_MIN_DEN: 0.0584282, MRR: 0.2157346, NDCG: 0.1093047, F1: 0.0802048, HIT_RATE: 0.4206197, ARHR_ALL_HITS: 0.2689351, NOVELTY: 0.0046839, AVERAGE_POPULARITY: 0.2453738, DIVERSITY_MEAN_INTER_LIST: 0.9645737, DIVERSITY_HERFINDAHL: 0.9964481, COVERAGE_ITEM: 0.0466282, COVERAGE_ITEM_HIT: 0.0297579, ITEMS_IN_GT: 0.8004206, COVERAGE_USER: 0.8028256, COVERAGE_USER_HIT: 0.3376843, USERS_IN_GT: 0.8028256, DIVERSITY_GINI: 0.0126739, SHANNON_ENTROPY: 8.5814356, RATIO_DIVERSITY_HERFINDAHL: 0.9968085, RATIO_DIVERSITY_GINI: 0.0365691, RATIO_SHANNON_ENTROPY: 0.6610804, RATIO_AVERAGE_POPULARITY: 2.0460869, RATIO_NOVELTY: 0.2742089, \n",
      "\n",
      "IALSRecommender: Epoch 37 of 300. Elapsed time 14.30 min\n",
      "IALSRecommender: Validation begins...\n",
      "EvaluatorHoldout: Processed 10456 (100.0%) in 10.00 sec. Users per second: 1045\n",
      "IALSRecommender: CUTOFF: 10 - PRECISION: 0.0679705, PRECISION_RECALL_MIN_DEN: 0.1161849, RECALL: 0.0982460, MAP: 0.0340644, MAP_MIN_DEN: 0.0585222, MRR: 0.2161377, NDCG: 0.1094778, F1: 0.0803510, HIT_RATE: 0.4210979, ARHR_ALL_HITS: 0.2694032, NOVELTY: 0.0046839, AVERAGE_POPULARITY: 0.2453895, DIVERSITY_MEAN_INTER_LIST: 0.9645627, DIVERSITY_HERFINDAHL: 0.9964470, COVERAGE_ITEM: 0.0467177, COVERAGE_ITEM_HIT: 0.0298922, ITEMS_IN_GT: 0.8004206, COVERAGE_USER: 0.8028256, COVERAGE_USER_HIT: 0.3380682, USERS_IN_GT: 0.8028256, DIVERSITY_GINI: 0.0126754, SHANNON_ENTROPY: 8.5816029, RATIO_DIVERSITY_HERFINDAHL: 0.9968074, RATIO_DIVERSITY_GINI: 0.0365736, RATIO_SHANNON_ENTROPY: 0.6610933, RATIO_AVERAGE_POPULARITY: 2.0462183, RATIO_NOVELTY: 0.2742085, \n",
      "\n",
      "IALSRecommender: New best model found! Updating.\n",
      "IALSRecommender: Epoch 38 of 300. Elapsed time 14.67 min\n",
      "IALSRecommender: Validation begins...\n",
      "EvaluatorHoldout: Processed 10456 (100.0%) in 10.05 sec. Users per second: 1041\n",
      "IALSRecommender: CUTOFF: 10 - PRECISION: 0.0679227, PRECISION_RECALL_MIN_DEN: 0.1160875, RECALL: 0.0981759, MAP: 0.0340664, MAP_MIN_DEN: 0.0585102, MRR: 0.2161790, NDCG: 0.1094438, F1: 0.0802942, HIT_RATE: 0.4205241, ARHR_ALL_HITS: 0.2694697, NOVELTY: 0.0046839, AVERAGE_POPULARITY: 0.2453858, DIVERSITY_MEAN_INTER_LIST: 0.9645372, DIVERSITY_HERFINDAHL: 0.9964445, COVERAGE_ITEM: 0.0468519, COVERAGE_ITEM_HIT: 0.0298922, ITEMS_IN_GT: 0.8004206, COVERAGE_USER: 0.8028256, COVERAGE_USER_HIT: 0.3376075, USERS_IN_GT: 0.8028256, DIVERSITY_GINI: 0.0126773, SHANNON_ENTROPY: 8.5817654, RATIO_DIVERSITY_HERFINDAHL: 0.9968049, RATIO_DIVERSITY_GINI: 0.0365790, RATIO_SHANNON_ENTROPY: 0.6611058, RATIO_AVERAGE_POPULARITY: 2.0461872, RATIO_NOVELTY: 0.2742132, \n",
      "\n",
      "IALSRecommender: New best model found! Updating.\n",
      "IALSRecommender: Epoch 39 of 300. Elapsed time 15.08 min\n",
      "IALSRecommender: Validation begins...\n",
      "EvaluatorHoldout: Processed 10456 (100.0%) in 10.15 sec. Users per second: 1030\n",
      "IALSRecommender: CUTOFF: 10 - PRECISION: 0.0679897, PRECISION_RECALL_MIN_DEN: 0.1161873, RECALL: 0.0982374, MAP: 0.0340683, MAP_MIN_DEN: 0.0585065, MRR: 0.2160072, NDCG: 0.1094621, F1: 0.0803615, HIT_RATE: 0.4207154, ARHR_ALL_HITS: 0.2693590, NOVELTY: 0.0046839, AVERAGE_POPULARITY: 0.2454009, DIVERSITY_MEAN_INTER_LIST: 0.9645256, DIVERSITY_HERFINDAHL: 0.9964433, COVERAGE_ITEM: 0.0468519, COVERAGE_ITEM_HIT: 0.0298922, ITEMS_IN_GT: 0.8004206, COVERAGE_USER: 0.8028256, COVERAGE_USER_HIT: 0.3377611, USERS_IN_GT: 0.8028256, DIVERSITY_GINI: 0.0126748, SHANNON_ENTROPY: 8.5814478, RATIO_DIVERSITY_HERFINDAHL: 0.9968037, RATIO_DIVERSITY_GINI: 0.0365720, RATIO_SHANNON_ENTROPY: 0.6610813, RATIO_AVERAGE_POPULARITY: 2.0463132, RATIO_NOVELTY: 0.2742104, \n",
      "\n",
      "IALSRecommender: New best model found! Updating.\n",
      "IALSRecommender: Epoch 40 of 300. Elapsed time 15.45 min\n",
      "IALSRecommender: Validation begins...\n",
      "EvaluatorHoldout: Processed 10456 (100.0%) in 9.99 sec. Users per second: 1047\n",
      "IALSRecommender: CUTOFF: 10 - PRECISION: 0.0679419, PRECISION_RECALL_MIN_DEN: 0.1160570, RECALL: 0.0981280, MAP: 0.0340712, MAP_MIN_DEN: 0.0585021, MRR: 0.2160663, NDCG: 0.1094263, F1: 0.0802915, HIT_RATE: 0.4206197, ARHR_ALL_HITS: 0.2694049, NOVELTY: 0.0046839, AVERAGE_POPULARITY: 0.2454124, DIVERSITY_MEAN_INTER_LIST: 0.9645272, DIVERSITY_HERFINDAHL: 0.9964435, COVERAGE_ITEM: 0.0467624, COVERAGE_ITEM_HIT: 0.0299369, ITEMS_IN_GT: 0.8004206, COVERAGE_USER: 0.8028256, COVERAGE_USER_HIT: 0.3376843, USERS_IN_GT: 0.8028256, DIVERSITY_GINI: 0.0126801, SHANNON_ENTROPY: 8.5820225, RATIO_DIVERSITY_HERFINDAHL: 0.9968039, RATIO_DIVERSITY_GINI: 0.0365871, RATIO_SHANNON_ENTROPY: 0.6611256, RATIO_AVERAGE_POPULARITY: 2.0464092, RATIO_NOVELTY: 0.2742115, \n",
      "\n",
      "IALSRecommender: New best model found! Updating.\n",
      "IALSRecommender: Epoch 41 of 300. Elapsed time 15.82 min\n",
      "IALSRecommender: Validation begins...\n",
      "EvaluatorHoldout: Processed 10456 (100.0%) in 9.98 sec. Users per second: 1048\n",
      "IALSRecommender: CUTOFF: 10 - PRECISION: 0.0679801, PRECISION_RECALL_MIN_DEN: 0.1160879, RECALL: 0.0981452, MAP: 0.0340791, MAP_MIN_DEN: 0.0584943, MRR: 0.2160260, NDCG: 0.1094331, F1: 0.0803239, HIT_RATE: 0.4206197, ARHR_ALL_HITS: 0.2694323, NOVELTY: 0.0046838, AVERAGE_POPULARITY: 0.2454400, DIVERSITY_MEAN_INTER_LIST: 0.9645182, DIVERSITY_HERFINDAHL: 0.9964426, COVERAGE_ITEM: 0.0467624, COVERAGE_ITEM_HIT: 0.0300264, ITEMS_IN_GT: 0.8004206, COVERAGE_USER: 0.8028256, COVERAGE_USER_HIT: 0.3376843, USERS_IN_GT: 0.8028256, DIVERSITY_GINI: 0.0126771, SHANNON_ENTROPY: 8.5816852, RATIO_DIVERSITY_HERFINDAHL: 0.9968030, RATIO_DIVERSITY_GINI: 0.0365786, RATIO_SHANNON_ENTROPY: 0.6610996, RATIO_AVERAGE_POPULARITY: 2.0466391, RATIO_NOVELTY: 0.2742073, \n",
      "\n",
      "IALSRecommender: New best model found! Updating.\n",
      "IALSRecommender: Epoch 42 of 300. Elapsed time 16.22 min\n",
      "IALSRecommender: Validation begins...\n",
      "EvaluatorHoldout: Processed 10456 (100.0%) in 10.04 sec. Users per second: 1042\n",
      "IALSRecommender: CUTOFF: 10 - PRECISION: 0.0679801, PRECISION_RECALL_MIN_DEN: 0.1161161, RECALL: 0.0981586, MAP: 0.0340793, MAP_MIN_DEN: 0.0585324, MRR: 0.2159506, NDCG: 0.1094477, F1: 0.0803284, HIT_RATE: 0.4204285, ARHR_ALL_HITS: 0.2693617, NOVELTY: 0.0046839, AVERAGE_POPULARITY: 0.2454177, DIVERSITY_MEAN_INTER_LIST: 0.9645255, DIVERSITY_HERFINDAHL: 0.9964433, COVERAGE_ITEM: 0.0467177, COVERAGE_ITEM_HIT: 0.0300264, ITEMS_IN_GT: 0.8004206, COVERAGE_USER: 0.8028256, COVERAGE_USER_HIT: 0.3375307, USERS_IN_GT: 0.8028256, DIVERSITY_GINI: 0.0126778, SHANNON_ENTROPY: 8.5817785, RATIO_DIVERSITY_HERFINDAHL: 0.9968037, RATIO_DIVERSITY_GINI: 0.0365805, RATIO_SHANNON_ENTROPY: 0.6611068, RATIO_AVERAGE_POPULARITY: 2.0464527, RATIO_NOVELTY: 0.2742110, \n",
      "\n",
      "IALSRecommender: New best model found! Updating.\n",
      "IALSRecommender: Epoch 43 of 300. Elapsed time 16.63 min\n",
      "IALSRecommender: Validation begins...\n",
      "EvaluatorHoldout: Processed 10456 (100.0%) in 10.37 sec. Users per second: 1008\n",
      "IALSRecommender: CUTOFF: 10 - PRECISION: 0.0679992, PRECISION_RECALL_MIN_DEN: 0.1162435, RECALL: 0.0982710, MAP: 0.0340831, MAP_MIN_DEN: 0.0585828, MRR: 0.2160257, NDCG: 0.1095123, F1: 0.0803794, HIT_RATE: 0.4210023, ARHR_ALL_HITS: 0.2694043, NOVELTY: 0.0046838, AVERAGE_POPULARITY: 0.2454594, DIVERSITY_MEAN_INTER_LIST: 0.9645149, DIVERSITY_HERFINDAHL: 0.9964423, COVERAGE_ITEM: 0.0467177, COVERAGE_ITEM_HIT: 0.0299369, ITEMS_IN_GT: 0.8004206, COVERAGE_USER: 0.8028256, COVERAGE_USER_HIT: 0.3379914, USERS_IN_GT: 0.8028256, DIVERSITY_GINI: 0.0126765, SHANNON_ENTROPY: 8.5816233, RATIO_DIVERSITY_HERFINDAHL: 0.9968027, RATIO_DIVERSITY_GINI: 0.0365766, RATIO_SHANNON_ENTROPY: 0.6610949, RATIO_AVERAGE_POPULARITY: 2.0468009, RATIO_NOVELTY: 0.2742025, \n",
      "\n",
      "IALSRecommender: New best model found! Updating.\n",
      "IALSRecommender: Epoch 44 of 300. Elapsed time 17.01 min\n",
      "IALSRecommender: Validation begins...\n",
      "EvaluatorHoldout: Processed 10456 (100.0%) in 10.03 sec. Users per second: 1042\n",
      "IALSRecommender: CUTOFF: 10 - PRECISION: 0.0680184, PRECISION_RECALL_MIN_DEN: 0.1161942, RECALL: 0.0982130, MAP: 0.0341014, MAP_MIN_DEN: 0.0586455, MRR: 0.2161342, NDCG: 0.1095578, F1: 0.0803734, HIT_RATE: 0.4208110, ARHR_ALL_HITS: 0.2695517, NOVELTY: 0.0046838, AVERAGE_POPULARITY: 0.2454567, DIVERSITY_MEAN_INTER_LIST: 0.9645292, DIVERSITY_HERFINDAHL: 0.9964437, COVERAGE_ITEM: 0.0467624, COVERAGE_ITEM_HIT: 0.0299369, ITEMS_IN_GT: 0.8004206, COVERAGE_USER: 0.8028256, COVERAGE_USER_HIT: 0.3378378, USERS_IN_GT: 0.8028256, DIVERSITY_GINI: 0.0126816, SHANNON_ENTROPY: 8.5822504, RATIO_DIVERSITY_HERFINDAHL: 0.9968041, RATIO_DIVERSITY_GINI: 0.0365916, RATIO_SHANNON_ENTROPY: 0.6611432, RATIO_AVERAGE_POPULARITY: 2.0467782, RATIO_NOVELTY: 0.2742069, \n",
      "\n",
      "IALSRecommender: New best model found! Updating.\n",
      "IALSRecommender: Epoch 45 of 300. Elapsed time 17.39 min\n",
      "IALSRecommender: Validation begins...\n",
      "EvaluatorHoldout: Processed 10456 (100.0%) in 10.03 sec. Users per second: 1042\n",
      "IALSRecommender: CUTOFF: 10 - PRECISION: 0.0680375, PRECISION_RECALL_MIN_DEN: 0.1161235, RECALL: 0.0981598, MAP: 0.0341272, MAP_MIN_DEN: 0.0587229, MRR: 0.2164124, NDCG: 0.1096353, F1: 0.0803689, HIT_RATE: 0.4208110, ARHR_ALL_HITS: 0.2698413, NOVELTY: 0.0046837, AVERAGE_POPULARITY: 0.2454972, DIVERSITY_MEAN_INTER_LIST: 0.9645143, DIVERSITY_HERFINDAHL: 0.9964422, COVERAGE_ITEM: 0.0466729, COVERAGE_ITEM_HIT: 0.0298922, ITEMS_IN_GT: 0.8004206, COVERAGE_USER: 0.8028256, COVERAGE_USER_HIT: 0.3378378, USERS_IN_GT: 0.8028256, DIVERSITY_GINI: 0.0126777, SHANNON_ENTROPY: 8.5818012, RATIO_DIVERSITY_HERFINDAHL: 0.9968026, RATIO_DIVERSITY_GINI: 0.0365803, RATIO_SHANNON_ENTROPY: 0.6611086, RATIO_AVERAGE_POPULARITY: 2.0471160, RATIO_NOVELTY: 0.2741988, \n",
      "\n",
      "IALSRecommender: New best model found! Updating.\n",
      "IALSRecommender: Epoch 46 of 300. Elapsed time 17.79 min\n",
      "IALSRecommender: Validation begins...\n",
      "EvaluatorHoldout: Processed 10456 (100.0%) in 10.15 sec. Users per second: 1030\n",
      "IALSRecommender: CUTOFF: 10 - PRECISION: 0.0679610, PRECISION_RECALL_MIN_DEN: 0.1161742, RECALL: 0.0982128, MAP: 0.0341145, MAP_MIN_DEN: 0.0587223, MRR: 0.2164041, NDCG: 0.1096155, F1: 0.0803332, HIT_RATE: 0.4210023, ARHR_ALL_HITS: 0.2697651, NOVELTY: 0.0046838, AVERAGE_POPULARITY: 0.2454808, DIVERSITY_MEAN_INTER_LIST: 0.9645193, DIVERSITY_HERFINDAHL: 0.9964427, COVERAGE_ITEM: 0.0467177, COVERAGE_ITEM_HIT: 0.0299817, ITEMS_IN_GT: 0.8004206, COVERAGE_USER: 0.8028256, COVERAGE_USER_HIT: 0.3379914, USERS_IN_GT: 0.8028256, DIVERSITY_GINI: 0.0126795, SHANNON_ENTROPY: 8.5820004, RATIO_DIVERSITY_HERFINDAHL: 0.9968031, RATIO_DIVERSITY_GINI: 0.0365855, RATIO_SHANNON_ENTROPY: 0.6611239, RATIO_AVERAGE_POPULARITY: 2.0469789, RATIO_NOVELTY: 0.2742045, \n",
      "\n",
      "IALSRecommender: Epoch 47 of 300. Elapsed time 18.17 min\n",
      "IALSRecommender: Validation begins...\n",
      "EvaluatorHoldout: Processed 10456 (100.0%) in 10.05 sec. Users per second: 1040\n",
      "IALSRecommender: CUTOFF: 10 - PRECISION: 0.0679897, PRECISION_RECALL_MIN_DEN: 0.1162689, RECALL: 0.0983355, MAP: 0.0341101, MAP_MIN_DEN: 0.0587364, MRR: 0.2164234, NDCG: 0.1096612, F1: 0.0803943, HIT_RATE: 0.4213849, ARHR_ALL_HITS: 0.2697781, NOVELTY: 0.0046836, AVERAGE_POPULARITY: 0.2455723, DIVERSITY_MEAN_INTER_LIST: 0.9645037, DIVERSITY_HERFINDAHL: 0.9964411, COVERAGE_ITEM: 0.0467624, COVERAGE_ITEM_HIT: 0.0299369, ITEMS_IN_GT: 0.8004206, COVERAGE_USER: 0.8028256, COVERAGE_USER_HIT: 0.3382985, USERS_IN_GT: 0.8028256, DIVERSITY_GINI: 0.0126769, SHANNON_ENTROPY: 8.5817087, RATIO_DIVERSITY_HERFINDAHL: 0.9968015, RATIO_DIVERSITY_GINI: 0.0365781, RATIO_SHANNON_ENTROPY: 0.6611014, RATIO_AVERAGE_POPULARITY: 2.0477423, RATIO_NOVELTY: 0.2741924, \n",
      "\n",
      "IALSRecommender: Epoch 48 of 300. Elapsed time 18.54 min\n",
      "IALSRecommender: Validation begins...\n",
      "EvaluatorHoldout: Processed 10456 (100.0%) in 10.03 sec. Users per second: 1042\n",
      "IALSRecommender: CUTOFF: 10 - PRECISION: 0.0680184, PRECISION_RECALL_MIN_DEN: 0.1163713, RECALL: 0.0984397, MAP: 0.0341139, MAP_MIN_DEN: 0.0587561, MRR: 0.2163443, NDCG: 0.1096974, F1: 0.0804492, HIT_RATE: 0.4215761, ARHR_ALL_HITS: 0.2697669, NOVELTY: 0.0046836, AVERAGE_POPULARITY: 0.2455804, DIVERSITY_MEAN_INTER_LIST: 0.9645100, DIVERSITY_HERFINDAHL: 0.9964418, COVERAGE_ITEM: 0.0469862, COVERAGE_ITEM_HIT: 0.0300712, ITEMS_IN_GT: 0.8004206, COVERAGE_USER: 0.8028256, COVERAGE_USER_HIT: 0.3384521, USERS_IN_GT: 0.8028256, DIVERSITY_GINI: 0.0126806, SHANNON_ENTROPY: 8.5821487, RATIO_DIVERSITY_HERFINDAHL: 0.9968022, RATIO_DIVERSITY_GINI: 0.0365885, RATIO_SHANNON_ENTROPY: 0.6611353, RATIO_AVERAGE_POPULARITY: 2.0478100, RATIO_NOVELTY: 0.2741953, \n",
      "\n",
      "IALSRecommender: Epoch 49 of 300. Elapsed time 18.94 min\n",
      "IALSRecommender: Validation begins...\n",
      "EvaluatorHoldout: Processed 10456 (100.0%) in 10.04 sec. Users per second: 1042\n",
      "IALSRecommender: CUTOFF: 10 - PRECISION: 0.0680949, PRECISION_RECALL_MIN_DEN: 0.1164586, RECALL: 0.0985169, MAP: 0.0341221, MAP_MIN_DEN: 0.0587723, MRR: 0.2162867, NDCG: 0.1097416, F1: 0.0805285, HIT_RATE: 0.4219587, ARHR_ALL_HITS: 0.2697833, NOVELTY: 0.0046837, AVERAGE_POPULARITY: 0.2455454, DIVERSITY_MEAN_INTER_LIST: 0.9645144, DIVERSITY_HERFINDAHL: 0.9964422, COVERAGE_ITEM: 0.0470757, COVERAGE_ITEM_HIT: 0.0301606, ITEMS_IN_GT: 0.8004206, COVERAGE_USER: 0.8028256, COVERAGE_USER_HIT: 0.3387592, USERS_IN_GT: 0.8028256, DIVERSITY_GINI: 0.0126812, SHANNON_ENTROPY: 8.5822274, RATIO_DIVERSITY_HERFINDAHL: 0.9968026, RATIO_DIVERSITY_GINI: 0.0365904, RATIO_SHANNON_ENTROPY: 0.6611414, RATIO_AVERAGE_POPULARITY: 2.0475176, RATIO_NOVELTY: 0.2741988, \n",
      "\n",
      "IALSRecommender: Epoch 50 of 300. Elapsed time 19.34 min\n",
      "IALSRecommender: Validation begins...\n",
      "EvaluatorHoldout: Processed 10456 (100.0%) in 10.18 sec. Users per second: 1027\n",
      "IALSRecommender: CUTOFF: 10 - PRECISION: 0.0680853, PRECISION_RECALL_MIN_DEN: 0.1163454, RECALL: 0.0983980, MAP: 0.0340810, MAP_MIN_DEN: 0.0587056, MRR: 0.2160075, NDCG: 0.1096425, F1: 0.0804820, HIT_RATE: 0.4217674, ARHR_ALL_HITS: 0.2694538, NOVELTY: 0.0046836, AVERAGE_POPULARITY: 0.2455621, DIVERSITY_MEAN_INTER_LIST: 0.9644988, DIVERSITY_HERFINDAHL: 0.9964407, COVERAGE_ITEM: 0.0469414, COVERAGE_ITEM_HIT: 0.0301606, ITEMS_IN_GT: 0.8004206, COVERAGE_USER: 0.8028256, COVERAGE_USER_HIT: 0.3386057, USERS_IN_GT: 0.8028256, DIVERSITY_GINI: 0.0126725, SHANNON_ENTROPY: 8.5812335, RATIO_DIVERSITY_HERFINDAHL: 0.9968010, RATIO_DIVERSITY_GINI: 0.0365651, RATIO_SHANNON_ENTROPY: 0.6610648, RATIO_AVERAGE_POPULARITY: 2.0476575, RATIO_NOVELTY: 0.2741935, \n",
      "\n",
      "IALSRecommender: Epoch 51 of 300. Elapsed time 19.71 min\n",
      "IALSRecommender: Validation begins...\n",
      "EvaluatorHoldout: Processed 10456 (100.0%) in 10.05 sec. Users per second: 1040\n",
      "IALSRecommender: CUTOFF: 10 - PRECISION: 0.0681331, PRECISION_RECALL_MIN_DEN: 0.1163934, RECALL: 0.0984316, MAP: 0.0340875, MAP_MIN_DEN: 0.0587139, MRR: 0.2159819, NDCG: 0.1096701, F1: 0.0805267, HIT_RATE: 0.4218630, ARHR_ALL_HITS: 0.2694706, NOVELTY: 0.0046837, AVERAGE_POPULARITY: 0.2455029, DIVERSITY_MEAN_INTER_LIST: 0.9645263, DIVERSITY_HERFINDAHL: 0.9964434, COVERAGE_ITEM: 0.0469414, COVERAGE_ITEM_HIT: 0.0302054, ITEMS_IN_GT: 0.8004206, COVERAGE_USER: 0.8028256, COVERAGE_USER_HIT: 0.3386824, USERS_IN_GT: 0.8028256, DIVERSITY_GINI: 0.0126793, SHANNON_ENTROPY: 8.5820183, RATIO_DIVERSITY_HERFINDAHL: 0.9968038, RATIO_DIVERSITY_GINI: 0.0365849, RATIO_SHANNON_ENTROPY: 0.6611253, RATIO_AVERAGE_POPULARITY: 2.0471636, RATIO_NOVELTY: 0.2742008, \n",
      "\n",
      "IALSRecommender: Epoch 52 of 300. Elapsed time 20.09 min\n",
      "IALSRecommender: Validation begins...\n",
      "EvaluatorHoldout: Processed 10456 (100.0%) in 10.09 sec. Users per second: 1036\n",
      "IALSRecommender: CUTOFF: 10 - PRECISION: 0.0681809, PRECISION_RECALL_MIN_DEN: 0.1165249, RECALL: 0.0985372, MAP: 0.0340812, MAP_MIN_DEN: 0.0587010, MRR: 0.2158892, NDCG: 0.1096956, F1: 0.0805954, HIT_RATE: 0.4217674, ARHR_ALL_HITS: 0.2694126, NOVELTY: 0.0046837, AVERAGE_POPULARITY: 0.2455159, DIVERSITY_MEAN_INTER_LIST: 0.9645247, DIVERSITY_HERFINDAHL: 0.9964432, COVERAGE_ITEM: 0.0469414, COVERAGE_ITEM_HIT: 0.0302054, ITEMS_IN_GT: 0.8004206, COVERAGE_USER: 0.8028256, COVERAGE_USER_HIT: 0.3386057, USERS_IN_GT: 0.8028256, DIVERSITY_GINI: 0.0126810, SHANNON_ENTROPY: 8.5821966, RATIO_DIVERSITY_HERFINDAHL: 0.9968036, RATIO_DIVERSITY_GINI: 0.0365897, RATIO_SHANNON_ENTROPY: 0.6611390, RATIO_AVERAGE_POPULARITY: 2.0472719, RATIO_NOVELTY: 0.2741990, \n",
      "\n",
      "IALSRecommender: Epoch 53 of 300. Elapsed time 20.50 min\n",
      "IALSRecommender: Validation begins...\n",
      "EvaluatorHoldout: Processed 10456 (100.0%) in 9.99 sec. Users per second: 1047\n",
      "IALSRecommender: CUTOFF: 10 - PRECISION: 0.0682670, PRECISION_RECALL_MIN_DEN: 0.1166613, RECALL: 0.0986517, MAP: 0.0340900, MAP_MIN_DEN: 0.0587244, MRR: 0.2158758, NDCG: 0.1097662, F1: 0.0806938, HIT_RATE: 0.4223412, ARHR_ALL_HITS: 0.2694498, NOVELTY: 0.0046837, AVERAGE_POPULARITY: 0.2455320, DIVERSITY_MEAN_INTER_LIST: 0.9645366, DIVERSITY_HERFINDAHL: 0.9964444, COVERAGE_ITEM: 0.0469862, COVERAGE_ITEM_HIT: 0.0302501, ITEMS_IN_GT: 0.8004206, COVERAGE_USER: 0.8028256, COVERAGE_USER_HIT: 0.3390663, USERS_IN_GT: 0.8028256, DIVERSITY_GINI: 0.0126877, SHANNON_ENTROPY: 8.5829601, RATIO_DIVERSITY_HERFINDAHL: 0.9968048, RATIO_DIVERSITY_GINI: 0.0366091, RATIO_SHANNON_ENTROPY: 0.6611978, RATIO_AVERAGE_POPULARITY: 2.0474063, RATIO_NOVELTY: 0.2742001, \n",
      "\n",
      "IALSRecommender: Epoch 54 of 300. Elapsed time 20.90 min\n",
      "IALSRecommender: Validation begins...\n",
      "EvaluatorHoldout: Processed 10456 (100.0%) in 10.12 sec. Users per second: 1033\n",
      "IALSRecommender: CUTOFF: 10 - PRECISION: 0.0682192, PRECISION_RECALL_MIN_DEN: 0.1165345, RECALL: 0.0985604, MAP: 0.0340876, MAP_MIN_DEN: 0.0587144, MRR: 0.2159164, NDCG: 0.1097268, F1: 0.0806299, HIT_RATE: 0.4220543, ARHR_ALL_HITS: 0.2694649, NOVELTY: 0.0046836, AVERAGE_POPULARITY: 0.2455763, DIVERSITY_MEAN_INTER_LIST: 0.9645263, DIVERSITY_HERFINDAHL: 0.9964434, COVERAGE_ITEM: 0.0470309, COVERAGE_ITEM_HIT: 0.0302501, ITEMS_IN_GT: 0.8004206, COVERAGE_USER: 0.8028256, COVERAGE_USER_HIT: 0.3388360, USERS_IN_GT: 0.8028256, DIVERSITY_GINI: 0.0126866, SHANNON_ENTROPY: 8.5828401, RATIO_DIVERSITY_HERFINDAHL: 0.9968038, RATIO_DIVERSITY_GINI: 0.0366060, RATIO_SHANNON_ENTROPY: 0.6611886, RATIO_AVERAGE_POPULARITY: 2.0477756, RATIO_NOVELTY: 0.2741944, \n",
      "\n",
      "IALSRecommender: Epoch 55 of 300. Elapsed time 21.28 min\n",
      "IALSRecommender: Validation begins...\n",
      "EvaluatorHoldout: Processed 10456 (100.0%) in 10.00 sec. Users per second: 1046\n",
      "IALSRecommender: CUTOFF: 10 - PRECISION: 0.0681618, PRECISION_RECALL_MIN_DEN: 0.1164309, RECALL: 0.0984698, MAP: 0.0340739, MAP_MIN_DEN: 0.0586991, MRR: 0.2158648, NDCG: 0.1096722, F1: 0.0805595, HIT_RATE: 0.4218630, ARHR_ALL_HITS: 0.2693593, NOVELTY: 0.0046835, AVERAGE_POPULARITY: 0.2456376, DIVERSITY_MEAN_INTER_LIST: 0.9645140, DIVERSITY_HERFINDAHL: 0.9964422, COVERAGE_ITEM: 0.0469414, COVERAGE_ITEM_HIT: 0.0301606, ITEMS_IN_GT: 0.8004206, COVERAGE_USER: 0.8028256, COVERAGE_USER_HIT: 0.3386824, USERS_IN_GT: 0.8028256, DIVERSITY_GINI: 0.0126819, SHANNON_ENTROPY: 8.5822950, RATIO_DIVERSITY_HERFINDAHL: 0.9968026, RATIO_DIVERSITY_GINI: 0.0365922, RATIO_SHANNON_ENTROPY: 0.6611466, RATIO_AVERAGE_POPULARITY: 2.0482872, RATIO_NOVELTY: 0.2741851, \n",
      "\n",
      "IALSRecommender: Epoch 56 of 300. Elapsed time 21.65 min\n",
      "IALSRecommender: Validation begins...\n",
      "EvaluatorHoldout: Processed 10456 (100.0%) in 10.00 sec. Users per second: 1046\n",
      "IALSRecommender: CUTOFF: 10 - PRECISION: 0.0681044, PRECISION_RECALL_MIN_DEN: 0.1164298, RECALL: 0.0984988, MAP: 0.0340655, MAP_MIN_DEN: 0.0587179, MRR: 0.2158998, NDCG: 0.1096727, F1: 0.0805291, HIT_RATE: 0.4216718, ARHR_ALL_HITS: 0.2693652, NOVELTY: 0.0046834, AVERAGE_POPULARITY: 0.2456423, DIVERSITY_MEAN_INTER_LIST: 0.9645180, DIVERSITY_HERFINDAHL: 0.9964426, COVERAGE_ITEM: 0.0469414, COVERAGE_ITEM_HIT: 0.0301159, ITEMS_IN_GT: 0.8004206, COVERAGE_USER: 0.8028256, COVERAGE_USER_HIT: 0.3385289, USERS_IN_GT: 0.8028256, DIVERSITY_GINI: 0.0126834, SHANNON_ENTROPY: 8.5824685, RATIO_DIVERSITY_HERFINDAHL: 0.9968030, RATIO_DIVERSITY_GINI: 0.0365968, RATIO_SHANNON_ENTROPY: 0.6611600, RATIO_AVERAGE_POPULARITY: 2.0483261, RATIO_NOVELTY: 0.2741843, \n",
      "\n",
      "IALSRecommender: Epoch 57 of 300. Elapsed time 22.06 min\n",
      "IALSRecommender: Validation begins...\n",
      "EvaluatorHoldout: Processed 10456 (100.0%) in 10.16 sec. Users per second: 1029\n",
      "IALSRecommender: CUTOFF: 10 - PRECISION: 0.0681140, PRECISION_RECALL_MIN_DEN: 0.1163889, RECALL: 0.0984281, MAP: 0.0340564, MAP_MIN_DEN: 0.0586851, MRR: 0.2158058, NDCG: 0.1096289, F1: 0.0805122, HIT_RATE: 0.4215761, ARHR_ALL_HITS: 0.2692559, NOVELTY: 0.0046834, AVERAGE_POPULARITY: 0.2456824, DIVERSITY_MEAN_INTER_LIST: 0.9645136, DIVERSITY_HERFINDAHL: 0.9964421, COVERAGE_ITEM: 0.0469862, COVERAGE_ITEM_HIT: 0.0301159, ITEMS_IN_GT: 0.8004206, COVERAGE_USER: 0.8028256, COVERAGE_USER_HIT: 0.3384521, USERS_IN_GT: 0.8028256, DIVERSITY_GINI: 0.0126836, SHANNON_ENTROPY: 8.5825048, RATIO_DIVERSITY_HERFINDAHL: 0.9968025, RATIO_DIVERSITY_GINI: 0.0365973, RATIO_SHANNON_ENTROPY: 0.6611628, RATIO_AVERAGE_POPULARITY: 2.0486601, RATIO_NOVELTY: 0.2741807, \n",
      "\n",
      "IALSRecommender: Epoch 58 of 300. Elapsed time 22.43 min\n",
      "IALSRecommender: Validation begins...\n",
      "EvaluatorHoldout: Processed 10456 (100.0%) in 9.99 sec. Users per second: 1046\n",
      "IALSRecommender: CUTOFF: 10 - PRECISION: 0.0680853, PRECISION_RECALL_MIN_DEN: 0.1163709, RECALL: 0.0984206, MAP: 0.0340600, MAP_MIN_DEN: 0.0586877, MRR: 0.2158855, NDCG: 0.1096221, F1: 0.0804896, HIT_RATE: 0.4212892, ARHR_ALL_HITS: 0.2693213, NOVELTY: 0.0046833, AVERAGE_POPULARITY: 0.2457195, DIVERSITY_MEAN_INTER_LIST: 0.9645037, DIVERSITY_HERFINDAHL: 0.9964411, COVERAGE_ITEM: 0.0469414, COVERAGE_ITEM_HIT: 0.0300264, ITEMS_IN_GT: 0.8004206, COVERAGE_USER: 0.8028256, COVERAGE_USER_HIT: 0.3382217, USERS_IN_GT: 0.8028256, DIVERSITY_GINI: 0.0126789, SHANNON_ENTROPY: 8.5819945, RATIO_DIVERSITY_HERFINDAHL: 0.9968015, RATIO_DIVERSITY_GINI: 0.0365838, RATIO_SHANNON_ENTROPY: 0.6611235, RATIO_AVERAGE_POPULARITY: 2.0489696, RATIO_NOVELTY: 0.2741734, \n",
      "\n",
      "IALSRecommender: Epoch 59 of 300. Elapsed time 22.81 min\n",
      "IALSRecommender: Validation begins...\n",
      "EvaluatorHoldout: Processed 10456 (100.0%) in 10.02 sec. Users per second: 1043\n",
      "IALSRecommender: CUTOFF: 10 - PRECISION: 0.0680375, PRECISION_RECALL_MIN_DEN: 0.1163012, RECALL: 0.0983546, MAP: 0.0340174, MAP_MIN_DEN: 0.0586171, MRR: 0.2157126, NDCG: 0.1095311, F1: 0.0804341, HIT_RATE: 0.4210979, ARHR_ALL_HITS: 0.2690732, NOVELTY: 0.0046833, AVERAGE_POPULARITY: 0.2457049, DIVERSITY_MEAN_INTER_LIST: 0.9645137, DIVERSITY_HERFINDAHL: 0.9964421, COVERAGE_ITEM: 0.0469862, COVERAGE_ITEM_HIT: 0.0299817, ITEMS_IN_GT: 0.8004206, COVERAGE_USER: 0.8028256, COVERAGE_USER_HIT: 0.3380682, USERS_IN_GT: 0.8028256, DIVERSITY_GINI: 0.0126791, SHANNON_ENTROPY: 8.5820351, RATIO_DIVERSITY_HERFINDAHL: 0.9968025, RATIO_DIVERSITY_GINI: 0.0365844, RATIO_SHANNON_ENTROPY: 0.6611266, RATIO_AVERAGE_POPULARITY: 2.0488483, RATIO_NOVELTY: 0.2741748, \n",
      "\n",
      "IALSRecommender: Epoch 60 of 300. Elapsed time 23.21 min\n",
      "IALSRecommender: Validation begins...\n",
      "EvaluatorHoldout: Processed 10456 (100.0%) in 10.04 sec. Users per second: 1041\n",
      "IALSRecommender: CUTOFF: 10 - PRECISION: 0.0679992, PRECISION_RECALL_MIN_DEN: 0.1162432, RECALL: 0.0983073, MAP: 0.0340067, MAP_MIN_DEN: 0.0586126, MRR: 0.2156056, NDCG: 0.1094945, F1: 0.0803915, HIT_RATE: 0.4208110, ARHR_ALL_HITS: 0.2689648, NOVELTY: 0.0046834, AVERAGE_POPULARITY: 0.2456702, DIVERSITY_MEAN_INTER_LIST: 0.9645157, DIVERSITY_HERFINDAHL: 0.9964423, COVERAGE_ITEM: 0.0470309, COVERAGE_ITEM_HIT: 0.0299817, ITEMS_IN_GT: 0.8004206, COVERAGE_USER: 0.8028256, COVERAGE_USER_HIT: 0.3378378, USERS_IN_GT: 0.8028256, DIVERSITY_GINI: 0.0126814, SHANNON_ENTROPY: 8.5822859, RATIO_DIVERSITY_HERFINDAHL: 0.9968027, RATIO_DIVERSITY_GINI: 0.0365909, RATIO_SHANNON_ENTROPY: 0.6611459, RATIO_AVERAGE_POPULARITY: 2.0485582, RATIO_NOVELTY: 0.2741799, \n",
      "\n",
      "IALSRecommender: Convergence reached! Terminating at epoch 61. Best value for 'MAP' at epoch 46 is 0.0341. Elapsed time 23.62 min\n",
      "IALSRecommender: Epoch 61 of 300. Elapsed time 23.62 min\n",
      "EvaluatorHoldout: Processed 10456 (100.0%) in 10.02 sec. Users per second: 1043\n"
     ]
    },
    {
     "name": "stderr",
     "output_type": "stream",
     "text": [
      "[I 2023-11-27 20:57:29,029] Trial 3 finished with value: 0.034127154910676694 and parameters: {'reg': 3.738543954368717e-05, 'alpha': 0.9099444230415269, 'num_factors': 84, 'confidence_scaling': 'linear'}. Best is trial 1 with value: 0.03548104452824266.\n"
     ]
    },
    {
     "name": "stdout",
     "output_type": "stream",
     "text": [
      "CPU times: user 48min 17s, sys: 20min 41s, total: 1h 8min 58s\n",
      "Wall time: 23min 48s\n"
     ]
    }
   ],
   "source": [
    "%%time\n",
    "\n",
    "if config['tune_parameters_ials']:\n",
    "    study = optuna.create_study(direction='maximize', study_name='hyperparameters_tuning_ials_no_cv',\n",
    "                                storage=f'sqlite:///{config[\"database_path\"]}', load_if_exists=True)\n",
    "    study.optimize(objective_ials, n_trials=1)"
   ]
  },
  {
   "cell_type": "code",
   "execution_count": 39,
   "id": "0abbe6e0",
   "metadata": {
    "execution": {
     "iopub.execute_input": "2023-11-27T20:57:29.107928Z",
     "iopub.status.busy": "2023-11-27T20:57:29.107535Z",
     "iopub.status.idle": "2023-11-27T20:57:30.100548Z",
     "shell.execute_reply": "2023-11-27T20:57:30.099388Z"
    },
    "papermill": {
     "duration": 1.031059,
     "end_time": "2023-11-27T20:57:30.102947",
     "exception": false,
     "start_time": "2023-11-27T20:57:29.071888",
     "status": "completed"
    },
    "tags": []
   },
   "outputs": [
    {
     "data": {
      "text/html": [
       "        <script type=\"text/javascript\">\n",
       "        window.PlotlyConfig = {MathJaxConfig: 'local'};\n",
       "        if (window.MathJax && window.MathJax.Hub && window.MathJax.Hub.Config) {window.MathJax.Hub.Config({SVG: {font: \"STIX-Web\"}});}\n",
       "        if (typeof require !== 'undefined') {\n",
       "        require.undef(\"plotly\");\n",
       "        requirejs.config({\n",
       "            paths: {\n",
       "                'plotly': ['https://cdn.plot.ly/plotly-2.25.2.min']\n",
       "            }\n",
       "        });\n",
       "        require(['plotly'], function(Plotly) {\n",
       "            window._Plotly = Plotly;\n",
       "        });\n",
       "        }\n",
       "        </script>\n",
       "        "
      ]
     },
     "metadata": {},
     "output_type": "display_data"
    },
    {
     "data": {
      "text/html": [
       "<div>                            <div id=\"1957ff81-3442-476b-9072-f6b54686f340\" class=\"plotly-graph-div\" style=\"height:525px; width:100%;\"></div>            <script type=\"text/javascript\">                require([\"plotly\"], function(Plotly) {                    window.PLOTLYENV=window.PLOTLYENV || {};                                    if (document.getElementById(\"1957ff81-3442-476b-9072-f6b54686f340\")) {                    Plotly.newPlot(                        \"1957ff81-3442-476b-9072-f6b54686f340\",                        [{\"cliponaxis\":false,\"hovertemplate\":[\"reg (FloatDistribution): 0.08217322260624528\\u003cextra\\u003e\\u003c\\u002fextra\\u003e\",\"confidence_scaling (CategoricalDistribution): 0.1937802665298161\\u003cextra\\u003e\\u003c\\u002fextra\\u003e\",\"alpha (FloatDistribution): 0.33667519772092025\\u003cextra\\u003e\\u003c\\u002fextra\\u003e\",\"num_factors (IntDistribution): 0.3873713131430183\\u003cextra\\u003e\\u003c\\u002fextra\\u003e\"],\"name\":\"Objective Value\",\"orientation\":\"h\",\"text\":[\"0.08\",\"0.19\",\"0.34\",\"0.39\"],\"textposition\":\"outside\",\"x\":[0.08217322260624528,0.1937802665298161,0.33667519772092025,0.3873713131430183],\"y\":[\"reg\",\"confidence_scaling\",\"alpha\",\"num_factors\"],\"type\":\"bar\"}],                        {\"title\":{\"text\":\"Hyperparameter Importances\"},\"xaxis\":{\"title\":{\"text\":\"Hyperparameter Importance\"}},\"yaxis\":{\"title\":{\"text\":\"Hyperparameter\"}},\"template\":{\"data\":{\"histogram2dcontour\":[{\"type\":\"histogram2dcontour\",\"colorbar\":{\"outlinewidth\":0,\"ticks\":\"\"},\"colorscale\":[[0.0,\"#0d0887\"],[0.1111111111111111,\"#46039f\"],[0.2222222222222222,\"#7201a8\"],[0.3333333333333333,\"#9c179e\"],[0.4444444444444444,\"#bd3786\"],[0.5555555555555556,\"#d8576b\"],[0.6666666666666666,\"#ed7953\"],[0.7777777777777778,\"#fb9f3a\"],[0.8888888888888888,\"#fdca26\"],[1.0,\"#f0f921\"]]}],\"choropleth\":[{\"type\":\"choropleth\",\"colorbar\":{\"outlinewidth\":0,\"ticks\":\"\"}}],\"histogram2d\":[{\"type\":\"histogram2d\",\"colorbar\":{\"outlinewidth\":0,\"ticks\":\"\"},\"colorscale\":[[0.0,\"#0d0887\"],[0.1111111111111111,\"#46039f\"],[0.2222222222222222,\"#7201a8\"],[0.3333333333333333,\"#9c179e\"],[0.4444444444444444,\"#bd3786\"],[0.5555555555555556,\"#d8576b\"],[0.6666666666666666,\"#ed7953\"],[0.7777777777777778,\"#fb9f3a\"],[0.8888888888888888,\"#fdca26\"],[1.0,\"#f0f921\"]]}],\"heatmap\":[{\"type\":\"heatmap\",\"colorbar\":{\"outlinewidth\":0,\"ticks\":\"\"},\"colorscale\":[[0.0,\"#0d0887\"],[0.1111111111111111,\"#46039f\"],[0.2222222222222222,\"#7201a8\"],[0.3333333333333333,\"#9c179e\"],[0.4444444444444444,\"#bd3786\"],[0.5555555555555556,\"#d8576b\"],[0.6666666666666666,\"#ed7953\"],[0.7777777777777778,\"#fb9f3a\"],[0.8888888888888888,\"#fdca26\"],[1.0,\"#f0f921\"]]}],\"heatmapgl\":[{\"type\":\"heatmapgl\",\"colorbar\":{\"outlinewidth\":0,\"ticks\":\"\"},\"colorscale\":[[0.0,\"#0d0887\"],[0.1111111111111111,\"#46039f\"],[0.2222222222222222,\"#7201a8\"],[0.3333333333333333,\"#9c179e\"],[0.4444444444444444,\"#bd3786\"],[0.5555555555555556,\"#d8576b\"],[0.6666666666666666,\"#ed7953\"],[0.7777777777777778,\"#fb9f3a\"],[0.8888888888888888,\"#fdca26\"],[1.0,\"#f0f921\"]]}],\"contourcarpet\":[{\"type\":\"contourcarpet\",\"colorbar\":{\"outlinewidth\":0,\"ticks\":\"\"}}],\"contour\":[{\"type\":\"contour\",\"colorbar\":{\"outlinewidth\":0,\"ticks\":\"\"},\"colorscale\":[[0.0,\"#0d0887\"],[0.1111111111111111,\"#46039f\"],[0.2222222222222222,\"#7201a8\"],[0.3333333333333333,\"#9c179e\"],[0.4444444444444444,\"#bd3786\"],[0.5555555555555556,\"#d8576b\"],[0.6666666666666666,\"#ed7953\"],[0.7777777777777778,\"#fb9f3a\"],[0.8888888888888888,\"#fdca26\"],[1.0,\"#f0f921\"]]}],\"surface\":[{\"type\":\"surface\",\"colorbar\":{\"outlinewidth\":0,\"ticks\":\"\"},\"colorscale\":[[0.0,\"#0d0887\"],[0.1111111111111111,\"#46039f\"],[0.2222222222222222,\"#7201a8\"],[0.3333333333333333,\"#9c179e\"],[0.4444444444444444,\"#bd3786\"],[0.5555555555555556,\"#d8576b\"],[0.6666666666666666,\"#ed7953\"],[0.7777777777777778,\"#fb9f3a\"],[0.8888888888888888,\"#fdca26\"],[1.0,\"#f0f921\"]]}],\"mesh3d\":[{\"type\":\"mesh3d\",\"colorbar\":{\"outlinewidth\":0,\"ticks\":\"\"}}],\"scatter\":[{\"fillpattern\":{\"fillmode\":\"overlay\",\"size\":10,\"solidity\":0.2},\"type\":\"scatter\"}],\"parcoords\":[{\"type\":\"parcoords\",\"line\":{\"colorbar\":{\"outlinewidth\":0,\"ticks\":\"\"}}}],\"scatterpolargl\":[{\"type\":\"scatterpolargl\",\"marker\":{\"colorbar\":{\"outlinewidth\":0,\"ticks\":\"\"}}}],\"bar\":[{\"error_x\":{\"color\":\"#2a3f5f\"},\"error_y\":{\"color\":\"#2a3f5f\"},\"marker\":{\"line\":{\"color\":\"#E5ECF6\",\"width\":0.5},\"pattern\":{\"fillmode\":\"overlay\",\"size\":10,\"solidity\":0.2}},\"type\":\"bar\"}],\"scattergeo\":[{\"type\":\"scattergeo\",\"marker\":{\"colorbar\":{\"outlinewidth\":0,\"ticks\":\"\"}}}],\"scatterpolar\":[{\"type\":\"scatterpolar\",\"marker\":{\"colorbar\":{\"outlinewidth\":0,\"ticks\":\"\"}}}],\"histogram\":[{\"marker\":{\"pattern\":{\"fillmode\":\"overlay\",\"size\":10,\"solidity\":0.2}},\"type\":\"histogram\"}],\"scattergl\":[{\"type\":\"scattergl\",\"marker\":{\"colorbar\":{\"outlinewidth\":0,\"ticks\":\"\"}}}],\"scatter3d\":[{\"type\":\"scatter3d\",\"line\":{\"colorbar\":{\"outlinewidth\":0,\"ticks\":\"\"}},\"marker\":{\"colorbar\":{\"outlinewidth\":0,\"ticks\":\"\"}}}],\"scattermapbox\":[{\"type\":\"scattermapbox\",\"marker\":{\"colorbar\":{\"outlinewidth\":0,\"ticks\":\"\"}}}],\"scatterternary\":[{\"type\":\"scatterternary\",\"marker\":{\"colorbar\":{\"outlinewidth\":0,\"ticks\":\"\"}}}],\"scattercarpet\":[{\"type\":\"scattercarpet\",\"marker\":{\"colorbar\":{\"outlinewidth\":0,\"ticks\":\"\"}}}],\"carpet\":[{\"aaxis\":{\"endlinecolor\":\"#2a3f5f\",\"gridcolor\":\"white\",\"linecolor\":\"white\",\"minorgridcolor\":\"white\",\"startlinecolor\":\"#2a3f5f\"},\"baxis\":{\"endlinecolor\":\"#2a3f5f\",\"gridcolor\":\"white\",\"linecolor\":\"white\",\"minorgridcolor\":\"white\",\"startlinecolor\":\"#2a3f5f\"},\"type\":\"carpet\"}],\"table\":[{\"cells\":{\"fill\":{\"color\":\"#EBF0F8\"},\"line\":{\"color\":\"white\"}},\"header\":{\"fill\":{\"color\":\"#C8D4E3\"},\"line\":{\"color\":\"white\"}},\"type\":\"table\"}],\"barpolar\":[{\"marker\":{\"line\":{\"color\":\"#E5ECF6\",\"width\":0.5},\"pattern\":{\"fillmode\":\"overlay\",\"size\":10,\"solidity\":0.2}},\"type\":\"barpolar\"}],\"pie\":[{\"automargin\":true,\"type\":\"pie\"}]},\"layout\":{\"autotypenumbers\":\"strict\",\"colorway\":[\"#636efa\",\"#EF553B\",\"#00cc96\",\"#ab63fa\",\"#FFA15A\",\"#19d3f3\",\"#FF6692\",\"#B6E880\",\"#FF97FF\",\"#FECB52\"],\"font\":{\"color\":\"#2a3f5f\"},\"hovermode\":\"closest\",\"hoverlabel\":{\"align\":\"left\"},\"paper_bgcolor\":\"white\",\"plot_bgcolor\":\"#E5ECF6\",\"polar\":{\"bgcolor\":\"#E5ECF6\",\"angularaxis\":{\"gridcolor\":\"white\",\"linecolor\":\"white\",\"ticks\":\"\"},\"radialaxis\":{\"gridcolor\":\"white\",\"linecolor\":\"white\",\"ticks\":\"\"}},\"ternary\":{\"bgcolor\":\"#E5ECF6\",\"aaxis\":{\"gridcolor\":\"white\",\"linecolor\":\"white\",\"ticks\":\"\"},\"baxis\":{\"gridcolor\":\"white\",\"linecolor\":\"white\",\"ticks\":\"\"},\"caxis\":{\"gridcolor\":\"white\",\"linecolor\":\"white\",\"ticks\":\"\"}},\"coloraxis\":{\"colorbar\":{\"outlinewidth\":0,\"ticks\":\"\"}},\"colorscale\":{\"sequential\":[[0.0,\"#0d0887\"],[0.1111111111111111,\"#46039f\"],[0.2222222222222222,\"#7201a8\"],[0.3333333333333333,\"#9c179e\"],[0.4444444444444444,\"#bd3786\"],[0.5555555555555556,\"#d8576b\"],[0.6666666666666666,\"#ed7953\"],[0.7777777777777778,\"#fb9f3a\"],[0.8888888888888888,\"#fdca26\"],[1.0,\"#f0f921\"]],\"sequentialminus\":[[0.0,\"#0d0887\"],[0.1111111111111111,\"#46039f\"],[0.2222222222222222,\"#7201a8\"],[0.3333333333333333,\"#9c179e\"],[0.4444444444444444,\"#bd3786\"],[0.5555555555555556,\"#d8576b\"],[0.6666666666666666,\"#ed7953\"],[0.7777777777777778,\"#fb9f3a\"],[0.8888888888888888,\"#fdca26\"],[1.0,\"#f0f921\"]],\"diverging\":[[0,\"#8e0152\"],[0.1,\"#c51b7d\"],[0.2,\"#de77ae\"],[0.3,\"#f1b6da\"],[0.4,\"#fde0ef\"],[0.5,\"#f7f7f7\"],[0.6,\"#e6f5d0\"],[0.7,\"#b8e186\"],[0.8,\"#7fbc41\"],[0.9,\"#4d9221\"],[1,\"#276419\"]]},\"xaxis\":{\"gridcolor\":\"white\",\"linecolor\":\"white\",\"ticks\":\"\",\"title\":{\"standoff\":15},\"zerolinecolor\":\"white\",\"automargin\":true,\"zerolinewidth\":2},\"yaxis\":{\"gridcolor\":\"white\",\"linecolor\":\"white\",\"ticks\":\"\",\"title\":{\"standoff\":15},\"zerolinecolor\":\"white\",\"automargin\":true,\"zerolinewidth\":2},\"scene\":{\"xaxis\":{\"backgroundcolor\":\"#E5ECF6\",\"gridcolor\":\"white\",\"linecolor\":\"white\",\"showbackground\":true,\"ticks\":\"\",\"zerolinecolor\":\"white\",\"gridwidth\":2},\"yaxis\":{\"backgroundcolor\":\"#E5ECF6\",\"gridcolor\":\"white\",\"linecolor\":\"white\",\"showbackground\":true,\"ticks\":\"\",\"zerolinecolor\":\"white\",\"gridwidth\":2},\"zaxis\":{\"backgroundcolor\":\"#E5ECF6\",\"gridcolor\":\"white\",\"linecolor\":\"white\",\"showbackground\":true,\"ticks\":\"\",\"zerolinecolor\":\"white\",\"gridwidth\":2}},\"shapedefaults\":{\"line\":{\"color\":\"#2a3f5f\"}},\"annotationdefaults\":{\"arrowcolor\":\"#2a3f5f\",\"arrowhead\":0,\"arrowwidth\":1},\"geo\":{\"bgcolor\":\"white\",\"landcolor\":\"#E5ECF6\",\"subunitcolor\":\"white\",\"showland\":true,\"showlakes\":true,\"lakecolor\":\"white\"},\"title\":{\"x\":0.05},\"mapbox\":{\"style\":\"light\"}}}},                        {\"responsive\": true}                    ).then(function(){\n",
       "                            \n",
       "var gd = document.getElementById('1957ff81-3442-476b-9072-f6b54686f340');\n",
       "var x = new MutationObserver(function (mutations, observer) {{\n",
       "        var display = window.getComputedStyle(gd).display;\n",
       "        if (!display || display === 'none') {{\n",
       "            console.log([gd, 'removed!']);\n",
       "            Plotly.purge(gd);\n",
       "            observer.disconnect();\n",
       "        }}\n",
       "}});\n",
       "\n",
       "// Listen for the removal of the full notebook cells\n",
       "var notebookContainer = gd.closest('#notebook-container');\n",
       "if (notebookContainer) {{\n",
       "    x.observe(notebookContainer, {childList: true});\n",
       "}}\n",
       "\n",
       "// Listen for the clearing of the current output cell\n",
       "var outputEl = gd.closest('.output');\n",
       "if (outputEl) {{\n",
       "    x.observe(outputEl, {childList: true});\n",
       "}}\n",
       "\n",
       "                        })                };                });            </script>        </div>"
      ]
     },
     "metadata": {},
     "output_type": "display_data"
    }
   ],
   "source": [
    "if config['tune_parameters_ials']:\n",
    "    fig = optuna.visualization.plot_param_importances(study)\n",
    "    fig.show()"
   ]
  },
  {
   "cell_type": "code",
   "execution_count": 40,
   "id": "32624e14",
   "metadata": {
    "execution": {
     "iopub.execute_input": "2023-11-27T20:57:30.179857Z",
     "iopub.status.busy": "2023-11-27T20:57:30.178771Z",
     "iopub.status.idle": "2023-11-27T20:57:30.222193Z",
     "shell.execute_reply": "2023-11-27T20:57:30.221047Z"
    },
    "papermill": {
     "duration": 0.084072,
     "end_time": "2023-11-27T20:57:30.224523",
     "exception": false,
     "start_time": "2023-11-27T20:57:30.140451",
     "status": "completed"
    },
    "tags": []
   },
   "outputs": [
    {
     "data": {
      "text/html": [
       "<div>                            <div id=\"a7300721-7753-42a1-8878-580bab735ed1\" class=\"plotly-graph-div\" style=\"height:525px; width:100%;\"></div>            <script type=\"text/javascript\">                require([\"plotly\"], function(Plotly) {                    window.PLOTLYENV=window.PLOTLYENV || {};                                    if (document.getElementById(\"a7300721-7753-42a1-8878-580bab735ed1\")) {                    Plotly.newPlot(                        \"a7300721-7753-42a1-8878-580bab735ed1\",                        [{\"mode\":\"markers\",\"name\":\"Objective Value\",\"x\":[0,1,2,3],\"y\":[0.035055220060480625,0.03548104452824266,0.0348216145358937,0.034127154910676694],\"type\":\"scatter\"},{\"mode\":\"lines\",\"name\":\"Best Value\",\"x\":[0,1,2,3],\"y\":[0.035055220060480625,0.03548104452824266,0.03548104452824266,0.03548104452824266],\"type\":\"scatter\"},{\"marker\":{\"color\":\"#cccccc\"},\"mode\":\"markers\",\"name\":\"Infeasible Trial\",\"showlegend\":false,\"x\":[],\"y\":[],\"type\":\"scatter\"}],                        {\"title\":{\"text\":\"Optimization History Plot\"},\"xaxis\":{\"title\":{\"text\":\"Trial\"}},\"yaxis\":{\"title\":{\"text\":\"Objective Value\"}},\"template\":{\"data\":{\"histogram2dcontour\":[{\"type\":\"histogram2dcontour\",\"colorbar\":{\"outlinewidth\":0,\"ticks\":\"\"},\"colorscale\":[[0.0,\"#0d0887\"],[0.1111111111111111,\"#46039f\"],[0.2222222222222222,\"#7201a8\"],[0.3333333333333333,\"#9c179e\"],[0.4444444444444444,\"#bd3786\"],[0.5555555555555556,\"#d8576b\"],[0.6666666666666666,\"#ed7953\"],[0.7777777777777778,\"#fb9f3a\"],[0.8888888888888888,\"#fdca26\"],[1.0,\"#f0f921\"]]}],\"choropleth\":[{\"type\":\"choropleth\",\"colorbar\":{\"outlinewidth\":0,\"ticks\":\"\"}}],\"histogram2d\":[{\"type\":\"histogram2d\",\"colorbar\":{\"outlinewidth\":0,\"ticks\":\"\"},\"colorscale\":[[0.0,\"#0d0887\"],[0.1111111111111111,\"#46039f\"],[0.2222222222222222,\"#7201a8\"],[0.3333333333333333,\"#9c179e\"],[0.4444444444444444,\"#bd3786\"],[0.5555555555555556,\"#d8576b\"],[0.6666666666666666,\"#ed7953\"],[0.7777777777777778,\"#fb9f3a\"],[0.8888888888888888,\"#fdca26\"],[1.0,\"#f0f921\"]]}],\"heatmap\":[{\"type\":\"heatmap\",\"colorbar\":{\"outlinewidth\":0,\"ticks\":\"\"},\"colorscale\":[[0.0,\"#0d0887\"],[0.1111111111111111,\"#46039f\"],[0.2222222222222222,\"#7201a8\"],[0.3333333333333333,\"#9c179e\"],[0.4444444444444444,\"#bd3786\"],[0.5555555555555556,\"#d8576b\"],[0.6666666666666666,\"#ed7953\"],[0.7777777777777778,\"#fb9f3a\"],[0.8888888888888888,\"#fdca26\"],[1.0,\"#f0f921\"]]}],\"heatmapgl\":[{\"type\":\"heatmapgl\",\"colorbar\":{\"outlinewidth\":0,\"ticks\":\"\"},\"colorscale\":[[0.0,\"#0d0887\"],[0.1111111111111111,\"#46039f\"],[0.2222222222222222,\"#7201a8\"],[0.3333333333333333,\"#9c179e\"],[0.4444444444444444,\"#bd3786\"],[0.5555555555555556,\"#d8576b\"],[0.6666666666666666,\"#ed7953\"],[0.7777777777777778,\"#fb9f3a\"],[0.8888888888888888,\"#fdca26\"],[1.0,\"#f0f921\"]]}],\"contourcarpet\":[{\"type\":\"contourcarpet\",\"colorbar\":{\"outlinewidth\":0,\"ticks\":\"\"}}],\"contour\":[{\"type\":\"contour\",\"colorbar\":{\"outlinewidth\":0,\"ticks\":\"\"},\"colorscale\":[[0.0,\"#0d0887\"],[0.1111111111111111,\"#46039f\"],[0.2222222222222222,\"#7201a8\"],[0.3333333333333333,\"#9c179e\"],[0.4444444444444444,\"#bd3786\"],[0.5555555555555556,\"#d8576b\"],[0.6666666666666666,\"#ed7953\"],[0.7777777777777778,\"#fb9f3a\"],[0.8888888888888888,\"#fdca26\"],[1.0,\"#f0f921\"]]}],\"surface\":[{\"type\":\"surface\",\"colorbar\":{\"outlinewidth\":0,\"ticks\":\"\"},\"colorscale\":[[0.0,\"#0d0887\"],[0.1111111111111111,\"#46039f\"],[0.2222222222222222,\"#7201a8\"],[0.3333333333333333,\"#9c179e\"],[0.4444444444444444,\"#bd3786\"],[0.5555555555555556,\"#d8576b\"],[0.6666666666666666,\"#ed7953\"],[0.7777777777777778,\"#fb9f3a\"],[0.8888888888888888,\"#fdca26\"],[1.0,\"#f0f921\"]]}],\"mesh3d\":[{\"type\":\"mesh3d\",\"colorbar\":{\"outlinewidth\":0,\"ticks\":\"\"}}],\"scatter\":[{\"fillpattern\":{\"fillmode\":\"overlay\",\"size\":10,\"solidity\":0.2},\"type\":\"scatter\"}],\"parcoords\":[{\"type\":\"parcoords\",\"line\":{\"colorbar\":{\"outlinewidth\":0,\"ticks\":\"\"}}}],\"scatterpolargl\":[{\"type\":\"scatterpolargl\",\"marker\":{\"colorbar\":{\"outlinewidth\":0,\"ticks\":\"\"}}}],\"bar\":[{\"error_x\":{\"color\":\"#2a3f5f\"},\"error_y\":{\"color\":\"#2a3f5f\"},\"marker\":{\"line\":{\"color\":\"#E5ECF6\",\"width\":0.5},\"pattern\":{\"fillmode\":\"overlay\",\"size\":10,\"solidity\":0.2}},\"type\":\"bar\"}],\"scattergeo\":[{\"type\":\"scattergeo\",\"marker\":{\"colorbar\":{\"outlinewidth\":0,\"ticks\":\"\"}}}],\"scatterpolar\":[{\"type\":\"scatterpolar\",\"marker\":{\"colorbar\":{\"outlinewidth\":0,\"ticks\":\"\"}}}],\"histogram\":[{\"marker\":{\"pattern\":{\"fillmode\":\"overlay\",\"size\":10,\"solidity\":0.2}},\"type\":\"histogram\"}],\"scattergl\":[{\"type\":\"scattergl\",\"marker\":{\"colorbar\":{\"outlinewidth\":0,\"ticks\":\"\"}}}],\"scatter3d\":[{\"type\":\"scatter3d\",\"line\":{\"colorbar\":{\"outlinewidth\":0,\"ticks\":\"\"}},\"marker\":{\"colorbar\":{\"outlinewidth\":0,\"ticks\":\"\"}}}],\"scattermapbox\":[{\"type\":\"scattermapbox\",\"marker\":{\"colorbar\":{\"outlinewidth\":0,\"ticks\":\"\"}}}],\"scatterternary\":[{\"type\":\"scatterternary\",\"marker\":{\"colorbar\":{\"outlinewidth\":0,\"ticks\":\"\"}}}],\"scattercarpet\":[{\"type\":\"scattercarpet\",\"marker\":{\"colorbar\":{\"outlinewidth\":0,\"ticks\":\"\"}}}],\"carpet\":[{\"aaxis\":{\"endlinecolor\":\"#2a3f5f\",\"gridcolor\":\"white\",\"linecolor\":\"white\",\"minorgridcolor\":\"white\",\"startlinecolor\":\"#2a3f5f\"},\"baxis\":{\"endlinecolor\":\"#2a3f5f\",\"gridcolor\":\"white\",\"linecolor\":\"white\",\"minorgridcolor\":\"white\",\"startlinecolor\":\"#2a3f5f\"},\"type\":\"carpet\"}],\"table\":[{\"cells\":{\"fill\":{\"color\":\"#EBF0F8\"},\"line\":{\"color\":\"white\"}},\"header\":{\"fill\":{\"color\":\"#C8D4E3\"},\"line\":{\"color\":\"white\"}},\"type\":\"table\"}],\"barpolar\":[{\"marker\":{\"line\":{\"color\":\"#E5ECF6\",\"width\":0.5},\"pattern\":{\"fillmode\":\"overlay\",\"size\":10,\"solidity\":0.2}},\"type\":\"barpolar\"}],\"pie\":[{\"automargin\":true,\"type\":\"pie\"}]},\"layout\":{\"autotypenumbers\":\"strict\",\"colorway\":[\"#636efa\",\"#EF553B\",\"#00cc96\",\"#ab63fa\",\"#FFA15A\",\"#19d3f3\",\"#FF6692\",\"#B6E880\",\"#FF97FF\",\"#FECB52\"],\"font\":{\"color\":\"#2a3f5f\"},\"hovermode\":\"closest\",\"hoverlabel\":{\"align\":\"left\"},\"paper_bgcolor\":\"white\",\"plot_bgcolor\":\"#E5ECF6\",\"polar\":{\"bgcolor\":\"#E5ECF6\",\"angularaxis\":{\"gridcolor\":\"white\",\"linecolor\":\"white\",\"ticks\":\"\"},\"radialaxis\":{\"gridcolor\":\"white\",\"linecolor\":\"white\",\"ticks\":\"\"}},\"ternary\":{\"bgcolor\":\"#E5ECF6\",\"aaxis\":{\"gridcolor\":\"white\",\"linecolor\":\"white\",\"ticks\":\"\"},\"baxis\":{\"gridcolor\":\"white\",\"linecolor\":\"white\",\"ticks\":\"\"},\"caxis\":{\"gridcolor\":\"white\",\"linecolor\":\"white\",\"ticks\":\"\"}},\"coloraxis\":{\"colorbar\":{\"outlinewidth\":0,\"ticks\":\"\"}},\"colorscale\":{\"sequential\":[[0.0,\"#0d0887\"],[0.1111111111111111,\"#46039f\"],[0.2222222222222222,\"#7201a8\"],[0.3333333333333333,\"#9c179e\"],[0.4444444444444444,\"#bd3786\"],[0.5555555555555556,\"#d8576b\"],[0.6666666666666666,\"#ed7953\"],[0.7777777777777778,\"#fb9f3a\"],[0.8888888888888888,\"#fdca26\"],[1.0,\"#f0f921\"]],\"sequentialminus\":[[0.0,\"#0d0887\"],[0.1111111111111111,\"#46039f\"],[0.2222222222222222,\"#7201a8\"],[0.3333333333333333,\"#9c179e\"],[0.4444444444444444,\"#bd3786\"],[0.5555555555555556,\"#d8576b\"],[0.6666666666666666,\"#ed7953\"],[0.7777777777777778,\"#fb9f3a\"],[0.8888888888888888,\"#fdca26\"],[1.0,\"#f0f921\"]],\"diverging\":[[0,\"#8e0152\"],[0.1,\"#c51b7d\"],[0.2,\"#de77ae\"],[0.3,\"#f1b6da\"],[0.4,\"#fde0ef\"],[0.5,\"#f7f7f7\"],[0.6,\"#e6f5d0\"],[0.7,\"#b8e186\"],[0.8,\"#7fbc41\"],[0.9,\"#4d9221\"],[1,\"#276419\"]]},\"xaxis\":{\"gridcolor\":\"white\",\"linecolor\":\"white\",\"ticks\":\"\",\"title\":{\"standoff\":15},\"zerolinecolor\":\"white\",\"automargin\":true,\"zerolinewidth\":2},\"yaxis\":{\"gridcolor\":\"white\",\"linecolor\":\"white\",\"ticks\":\"\",\"title\":{\"standoff\":15},\"zerolinecolor\":\"white\",\"automargin\":true,\"zerolinewidth\":2},\"scene\":{\"xaxis\":{\"backgroundcolor\":\"#E5ECF6\",\"gridcolor\":\"white\",\"linecolor\":\"white\",\"showbackground\":true,\"ticks\":\"\",\"zerolinecolor\":\"white\",\"gridwidth\":2},\"yaxis\":{\"backgroundcolor\":\"#E5ECF6\",\"gridcolor\":\"white\",\"linecolor\":\"white\",\"showbackground\":true,\"ticks\":\"\",\"zerolinecolor\":\"white\",\"gridwidth\":2},\"zaxis\":{\"backgroundcolor\":\"#E5ECF6\",\"gridcolor\":\"white\",\"linecolor\":\"white\",\"showbackground\":true,\"ticks\":\"\",\"zerolinecolor\":\"white\",\"gridwidth\":2}},\"shapedefaults\":{\"line\":{\"color\":\"#2a3f5f\"}},\"annotationdefaults\":{\"arrowcolor\":\"#2a3f5f\",\"arrowhead\":0,\"arrowwidth\":1},\"geo\":{\"bgcolor\":\"white\",\"landcolor\":\"#E5ECF6\",\"subunitcolor\":\"white\",\"showland\":true,\"showlakes\":true,\"lakecolor\":\"white\"},\"title\":{\"x\":0.05},\"mapbox\":{\"style\":\"light\"}}}},                        {\"responsive\": true}                    ).then(function(){\n",
       "                            \n",
       "var gd = document.getElementById('a7300721-7753-42a1-8878-580bab735ed1');\n",
       "var x = new MutationObserver(function (mutations, observer) {{\n",
       "        var display = window.getComputedStyle(gd).display;\n",
       "        if (!display || display === 'none') {{\n",
       "            console.log([gd, 'removed!']);\n",
       "            Plotly.purge(gd);\n",
       "            observer.disconnect();\n",
       "        }}\n",
       "}});\n",
       "\n",
       "// Listen for the removal of the full notebook cells\n",
       "var notebookContainer = gd.closest('#notebook-container');\n",
       "if (notebookContainer) {{\n",
       "    x.observe(notebookContainer, {childList: true});\n",
       "}}\n",
       "\n",
       "// Listen for the clearing of the current output cell\n",
       "var outputEl = gd.closest('.output');\n",
       "if (outputEl) {{\n",
       "    x.observe(outputEl, {childList: true});\n",
       "}}\n",
       "\n",
       "                        })                };                });            </script>        </div>"
      ]
     },
     "metadata": {},
     "output_type": "display_data"
    }
   ],
   "source": [
    "if config['tune_parameters_ials']:\n",
    "    fig = optuna.visualization.plot_optimization_history(study)\n",
    "    fig.show()"
   ]
  },
  {
   "cell_type": "code",
   "execution_count": 41,
   "id": "35799494",
   "metadata": {
    "execution": {
     "iopub.execute_input": "2023-11-27T20:57:30.296195Z",
     "iopub.status.busy": "2023-11-27T20:57:30.295771Z",
     "iopub.status.idle": "2023-11-27T20:57:30.670874Z",
     "shell.execute_reply": "2023-11-27T20:57:30.669734Z"
    },
    "papermill": {
     "duration": 0.413521,
     "end_time": "2023-11-27T20:57:30.673269",
     "exception": false,
     "start_time": "2023-11-27T20:57:30.259748",
     "status": "completed"
    },
    "tags": []
   },
   "outputs": [
    {
     "data": {
      "text/html": [
       "<div>                            <div id=\"8fd7ba72-df83-4ad4-9eab-19006736f191\" class=\"plotly-graph-div\" style=\"height:525px; width:1500px;\"></div>            <script type=\"text/javascript\">                require([\"plotly\"], function(Plotly) {                    window.PLOTLYENV=window.PLOTLYENV || {};                                    if (document.getElementById(\"8fd7ba72-df83-4ad4-9eab-19006736f191\")) {                    Plotly.newPlot(                        \"8fd7ba72-df83-4ad4-9eab-19006736f191\",                        [{\"marker\":{\"color\":[0,1,2,3],\"colorbar\":{\"title\":{\"text\":\"Trial\"},\"x\":1.0,\"xpad\":40},\"colorscale\":[[0.0,\"rgb(247,251,255)\"],[0.125,\"rgb(222,235,247)\"],[0.25,\"rgb(198,219,239)\"],[0.375,\"rgb(158,202,225)\"],[0.5,\"rgb(107,174,214)\"],[0.625,\"rgb(66,146,198)\"],[0.75,\"rgb(33,113,181)\"],[0.875,\"rgb(8,81,156)\"],[1.0,\"rgb(8,48,107)\"]],\"line\":{\"color\":\"Grey\",\"width\":0.5},\"showscale\":true},\"mode\":\"markers\",\"name\":\"Feasible Trial\",\"showlegend\":false,\"x\":[1.5261976259737617,1.6509111407607924,4.405751986690963,0.9099444230415269],\"y\":[0.035055220060480625,0.03548104452824266,0.0348216145358937,0.034127154910676694],\"type\":\"scatter\",\"xaxis\":\"x\",\"yaxis\":\"y\"},{\"marker\":{\"color\":[0,1,2,3],\"colorbar\":{\"title\":{\"text\":\"Trial\"},\"x\":1.0,\"xpad\":40},\"colorscale\":[[0.0,\"rgb(247,251,255)\"],[0.125,\"rgb(222,235,247)\"],[0.25,\"rgb(198,219,239)\"],[0.375,\"rgb(158,202,225)\"],[0.5,\"rgb(107,174,214)\"],[0.625,\"rgb(66,146,198)\"],[0.75,\"rgb(33,113,181)\"],[0.875,\"rgb(8,81,156)\"],[1.0,\"rgb(8,48,107)\"]],\"line\":{\"color\":\"Grey\",\"width\":0.5},\"showscale\":false},\"mode\":\"markers\",\"name\":\"Feasible Trial\",\"showlegend\":false,\"x\":[\"log\",\"log\",\"linear\",\"linear\"],\"y\":[0.035055220060480625,0.03548104452824266,0.0348216145358937,0.034127154910676694],\"type\":\"scatter\",\"xaxis\":\"x2\",\"yaxis\":\"y2\"},{\"marker\":{\"color\":[0,1],\"colorbar\":{\"title\":{\"text\":\"Trial\"},\"x\":1.0,\"xpad\":40},\"colorscale\":[[0.0,\"rgb(247,251,255)\"],[0.125,\"rgb(222,235,247)\"],[0.25,\"rgb(198,219,239)\"],[0.375,\"rgb(158,202,225)\"],[0.5,\"rgb(107,174,214)\"],[0.625,\"rgb(66,146,198)\"],[0.75,\"rgb(33,113,181)\"],[0.875,\"rgb(8,81,156)\"],[1.0,\"rgb(8,48,107)\"]],\"line\":{\"color\":\"Grey\",\"width\":0.5},\"showscale\":false},\"mode\":\"markers\",\"name\":\"Feasible Trial\",\"showlegend\":false,\"x\":[0.24043391085211663,0.22070568273643887],\"y\":[0.035055220060480625,0.03548104452824266],\"type\":\"scatter\",\"xaxis\":\"x3\",\"yaxis\":\"y3\"},{\"marker\":{\"color\":[0,1,2,3],\"colorbar\":{\"title\":{\"text\":\"Trial\"},\"x\":1.0,\"xpad\":40},\"colorscale\":[[0.0,\"rgb(247,251,255)\"],[0.125,\"rgb(222,235,247)\"],[0.25,\"rgb(198,219,239)\"],[0.375,\"rgb(158,202,225)\"],[0.5,\"rgb(107,174,214)\"],[0.625,\"rgb(66,146,198)\"],[0.75,\"rgb(33,113,181)\"],[0.875,\"rgb(8,81,156)\"],[1.0,\"rgb(8,48,107)\"]],\"line\":{\"color\":\"Grey\",\"width\":0.5},\"showscale\":false},\"mode\":\"markers\",\"name\":\"Feasible Trial\",\"showlegend\":false,\"x\":[267,222,125,84],\"y\":[0.035055220060480625,0.03548104452824266,0.0348216145358937,0.034127154910676694],\"type\":\"scatter\",\"xaxis\":\"x4\",\"yaxis\":\"y4\"},{\"marker\":{\"color\":[0,1,2,3],\"colorbar\":{\"title\":{\"text\":\"Trial\"},\"x\":1.0,\"xpad\":40},\"colorscale\":[[0.0,\"rgb(247,251,255)\"],[0.125,\"rgb(222,235,247)\"],[0.25,\"rgb(198,219,239)\"],[0.375,\"rgb(158,202,225)\"],[0.5,\"rgb(107,174,214)\"],[0.625,\"rgb(66,146,198)\"],[0.75,\"rgb(33,113,181)\"],[0.875,\"rgb(8,81,156)\"],[1.0,\"rgb(8,48,107)\"]],\"line\":{\"color\":\"Grey\",\"width\":0.5},\"showscale\":false},\"mode\":\"markers\",\"name\":\"Feasible Trial\",\"showlegend\":false,\"x\":[0.024933828999198552,0.0007716961783343754,5.214238785703355e-7,0.00003738543954368717],\"y\":[0.035055220060480625,0.03548104452824266,0.0348216145358937,0.034127154910676694],\"type\":\"scatter\",\"xaxis\":\"x5\",\"yaxis\":\"y5\"}],                        {\"template\":{\"data\":{\"histogram2dcontour\":[{\"type\":\"histogram2dcontour\",\"colorbar\":{\"outlinewidth\":0,\"ticks\":\"\"},\"colorscale\":[[0.0,\"#0d0887\"],[0.1111111111111111,\"#46039f\"],[0.2222222222222222,\"#7201a8\"],[0.3333333333333333,\"#9c179e\"],[0.4444444444444444,\"#bd3786\"],[0.5555555555555556,\"#d8576b\"],[0.6666666666666666,\"#ed7953\"],[0.7777777777777778,\"#fb9f3a\"],[0.8888888888888888,\"#fdca26\"],[1.0,\"#f0f921\"]]}],\"choropleth\":[{\"type\":\"choropleth\",\"colorbar\":{\"outlinewidth\":0,\"ticks\":\"\"}}],\"histogram2d\":[{\"type\":\"histogram2d\",\"colorbar\":{\"outlinewidth\":0,\"ticks\":\"\"},\"colorscale\":[[0.0,\"#0d0887\"],[0.1111111111111111,\"#46039f\"],[0.2222222222222222,\"#7201a8\"],[0.3333333333333333,\"#9c179e\"],[0.4444444444444444,\"#bd3786\"],[0.5555555555555556,\"#d8576b\"],[0.6666666666666666,\"#ed7953\"],[0.7777777777777778,\"#fb9f3a\"],[0.8888888888888888,\"#fdca26\"],[1.0,\"#f0f921\"]]}],\"heatmap\":[{\"type\":\"heatmap\",\"colorbar\":{\"outlinewidth\":0,\"ticks\":\"\"},\"colorscale\":[[0.0,\"#0d0887\"],[0.1111111111111111,\"#46039f\"],[0.2222222222222222,\"#7201a8\"],[0.3333333333333333,\"#9c179e\"],[0.4444444444444444,\"#bd3786\"],[0.5555555555555556,\"#d8576b\"],[0.6666666666666666,\"#ed7953\"],[0.7777777777777778,\"#fb9f3a\"],[0.8888888888888888,\"#fdca26\"],[1.0,\"#f0f921\"]]}],\"heatmapgl\":[{\"type\":\"heatmapgl\",\"colorbar\":{\"outlinewidth\":0,\"ticks\":\"\"},\"colorscale\":[[0.0,\"#0d0887\"],[0.1111111111111111,\"#46039f\"],[0.2222222222222222,\"#7201a8\"],[0.3333333333333333,\"#9c179e\"],[0.4444444444444444,\"#bd3786\"],[0.5555555555555556,\"#d8576b\"],[0.6666666666666666,\"#ed7953\"],[0.7777777777777778,\"#fb9f3a\"],[0.8888888888888888,\"#fdca26\"],[1.0,\"#f0f921\"]]}],\"contourcarpet\":[{\"type\":\"contourcarpet\",\"colorbar\":{\"outlinewidth\":0,\"ticks\":\"\"}}],\"contour\":[{\"type\":\"contour\",\"colorbar\":{\"outlinewidth\":0,\"ticks\":\"\"},\"colorscale\":[[0.0,\"#0d0887\"],[0.1111111111111111,\"#46039f\"],[0.2222222222222222,\"#7201a8\"],[0.3333333333333333,\"#9c179e\"],[0.4444444444444444,\"#bd3786\"],[0.5555555555555556,\"#d8576b\"],[0.6666666666666666,\"#ed7953\"],[0.7777777777777778,\"#fb9f3a\"],[0.8888888888888888,\"#fdca26\"],[1.0,\"#f0f921\"]]}],\"surface\":[{\"type\":\"surface\",\"colorbar\":{\"outlinewidth\":0,\"ticks\":\"\"},\"colorscale\":[[0.0,\"#0d0887\"],[0.1111111111111111,\"#46039f\"],[0.2222222222222222,\"#7201a8\"],[0.3333333333333333,\"#9c179e\"],[0.4444444444444444,\"#bd3786\"],[0.5555555555555556,\"#d8576b\"],[0.6666666666666666,\"#ed7953\"],[0.7777777777777778,\"#fb9f3a\"],[0.8888888888888888,\"#fdca26\"],[1.0,\"#f0f921\"]]}],\"mesh3d\":[{\"type\":\"mesh3d\",\"colorbar\":{\"outlinewidth\":0,\"ticks\":\"\"}}],\"scatter\":[{\"fillpattern\":{\"fillmode\":\"overlay\",\"size\":10,\"solidity\":0.2},\"type\":\"scatter\"}],\"parcoords\":[{\"type\":\"parcoords\",\"line\":{\"colorbar\":{\"outlinewidth\":0,\"ticks\":\"\"}}}],\"scatterpolargl\":[{\"type\":\"scatterpolargl\",\"marker\":{\"colorbar\":{\"outlinewidth\":0,\"ticks\":\"\"}}}],\"bar\":[{\"error_x\":{\"color\":\"#2a3f5f\"},\"error_y\":{\"color\":\"#2a3f5f\"},\"marker\":{\"line\":{\"color\":\"#E5ECF6\",\"width\":0.5},\"pattern\":{\"fillmode\":\"overlay\",\"size\":10,\"solidity\":0.2}},\"type\":\"bar\"}],\"scattergeo\":[{\"type\":\"scattergeo\",\"marker\":{\"colorbar\":{\"outlinewidth\":0,\"ticks\":\"\"}}}],\"scatterpolar\":[{\"type\":\"scatterpolar\",\"marker\":{\"colorbar\":{\"outlinewidth\":0,\"ticks\":\"\"}}}],\"histogram\":[{\"marker\":{\"pattern\":{\"fillmode\":\"overlay\",\"size\":10,\"solidity\":0.2}},\"type\":\"histogram\"}],\"scattergl\":[{\"type\":\"scattergl\",\"marker\":{\"colorbar\":{\"outlinewidth\":0,\"ticks\":\"\"}}}],\"scatter3d\":[{\"type\":\"scatter3d\",\"line\":{\"colorbar\":{\"outlinewidth\":0,\"ticks\":\"\"}},\"marker\":{\"colorbar\":{\"outlinewidth\":0,\"ticks\":\"\"}}}],\"scattermapbox\":[{\"type\":\"scattermapbox\",\"marker\":{\"colorbar\":{\"outlinewidth\":0,\"ticks\":\"\"}}}],\"scatterternary\":[{\"type\":\"scatterternary\",\"marker\":{\"colorbar\":{\"outlinewidth\":0,\"ticks\":\"\"}}}],\"scattercarpet\":[{\"type\":\"scattercarpet\",\"marker\":{\"colorbar\":{\"outlinewidth\":0,\"ticks\":\"\"}}}],\"carpet\":[{\"aaxis\":{\"endlinecolor\":\"#2a3f5f\",\"gridcolor\":\"white\",\"linecolor\":\"white\",\"minorgridcolor\":\"white\",\"startlinecolor\":\"#2a3f5f\"},\"baxis\":{\"endlinecolor\":\"#2a3f5f\",\"gridcolor\":\"white\",\"linecolor\":\"white\",\"minorgridcolor\":\"white\",\"startlinecolor\":\"#2a3f5f\"},\"type\":\"carpet\"}],\"table\":[{\"cells\":{\"fill\":{\"color\":\"#EBF0F8\"},\"line\":{\"color\":\"white\"}},\"header\":{\"fill\":{\"color\":\"#C8D4E3\"},\"line\":{\"color\":\"white\"}},\"type\":\"table\"}],\"barpolar\":[{\"marker\":{\"line\":{\"color\":\"#E5ECF6\",\"width\":0.5},\"pattern\":{\"fillmode\":\"overlay\",\"size\":10,\"solidity\":0.2}},\"type\":\"barpolar\"}],\"pie\":[{\"automargin\":true,\"type\":\"pie\"}]},\"layout\":{\"autotypenumbers\":\"strict\",\"colorway\":[\"#636efa\",\"#EF553B\",\"#00cc96\",\"#ab63fa\",\"#FFA15A\",\"#19d3f3\",\"#FF6692\",\"#B6E880\",\"#FF97FF\",\"#FECB52\"],\"font\":{\"color\":\"#2a3f5f\"},\"hovermode\":\"closest\",\"hoverlabel\":{\"align\":\"left\"},\"paper_bgcolor\":\"white\",\"plot_bgcolor\":\"#E5ECF6\",\"polar\":{\"bgcolor\":\"#E5ECF6\",\"angularaxis\":{\"gridcolor\":\"white\",\"linecolor\":\"white\",\"ticks\":\"\"},\"radialaxis\":{\"gridcolor\":\"white\",\"linecolor\":\"white\",\"ticks\":\"\"}},\"ternary\":{\"bgcolor\":\"#E5ECF6\",\"aaxis\":{\"gridcolor\":\"white\",\"linecolor\":\"white\",\"ticks\":\"\"},\"baxis\":{\"gridcolor\":\"white\",\"linecolor\":\"white\",\"ticks\":\"\"},\"caxis\":{\"gridcolor\":\"white\",\"linecolor\":\"white\",\"ticks\":\"\"}},\"coloraxis\":{\"colorbar\":{\"outlinewidth\":0,\"ticks\":\"\"}},\"colorscale\":{\"sequential\":[[0.0,\"#0d0887\"],[0.1111111111111111,\"#46039f\"],[0.2222222222222222,\"#7201a8\"],[0.3333333333333333,\"#9c179e\"],[0.4444444444444444,\"#bd3786\"],[0.5555555555555556,\"#d8576b\"],[0.6666666666666666,\"#ed7953\"],[0.7777777777777778,\"#fb9f3a\"],[0.8888888888888888,\"#fdca26\"],[1.0,\"#f0f921\"]],\"sequentialminus\":[[0.0,\"#0d0887\"],[0.1111111111111111,\"#46039f\"],[0.2222222222222222,\"#7201a8\"],[0.3333333333333333,\"#9c179e\"],[0.4444444444444444,\"#bd3786\"],[0.5555555555555556,\"#d8576b\"],[0.6666666666666666,\"#ed7953\"],[0.7777777777777778,\"#fb9f3a\"],[0.8888888888888888,\"#fdca26\"],[1.0,\"#f0f921\"]],\"diverging\":[[0,\"#8e0152\"],[0.1,\"#c51b7d\"],[0.2,\"#de77ae\"],[0.3,\"#f1b6da\"],[0.4,\"#fde0ef\"],[0.5,\"#f7f7f7\"],[0.6,\"#e6f5d0\"],[0.7,\"#b8e186\"],[0.8,\"#7fbc41\"],[0.9,\"#4d9221\"],[1,\"#276419\"]]},\"xaxis\":{\"gridcolor\":\"white\",\"linecolor\":\"white\",\"ticks\":\"\",\"title\":{\"standoff\":15},\"zerolinecolor\":\"white\",\"automargin\":true,\"zerolinewidth\":2},\"yaxis\":{\"gridcolor\":\"white\",\"linecolor\":\"white\",\"ticks\":\"\",\"title\":{\"standoff\":15},\"zerolinecolor\":\"white\",\"automargin\":true,\"zerolinewidth\":2},\"scene\":{\"xaxis\":{\"backgroundcolor\":\"#E5ECF6\",\"gridcolor\":\"white\",\"linecolor\":\"white\",\"showbackground\":true,\"ticks\":\"\",\"zerolinecolor\":\"white\",\"gridwidth\":2},\"yaxis\":{\"backgroundcolor\":\"#E5ECF6\",\"gridcolor\":\"white\",\"linecolor\":\"white\",\"showbackground\":true,\"ticks\":\"\",\"zerolinecolor\":\"white\",\"gridwidth\":2},\"zaxis\":{\"backgroundcolor\":\"#E5ECF6\",\"gridcolor\":\"white\",\"linecolor\":\"white\",\"showbackground\":true,\"ticks\":\"\",\"zerolinecolor\":\"white\",\"gridwidth\":2}},\"shapedefaults\":{\"line\":{\"color\":\"#2a3f5f\"}},\"annotationdefaults\":{\"arrowcolor\":\"#2a3f5f\",\"arrowhead\":0,\"arrowwidth\":1},\"geo\":{\"bgcolor\":\"white\",\"landcolor\":\"#E5ECF6\",\"subunitcolor\":\"white\",\"showland\":true,\"showlakes\":true,\"lakecolor\":\"white\"},\"title\":{\"x\":0.05},\"mapbox\":{\"style\":\"light\"}}},\"xaxis\":{\"anchor\":\"y\",\"domain\":[0.0,0.16799999999999998],\"title\":{\"text\":\"alpha\"}},\"yaxis\":{\"anchor\":\"x\",\"domain\":[0.0,1.0],\"title\":{\"text\":\"Objective Value\"}},\"xaxis2\":{\"anchor\":\"y2\",\"domain\":[0.208,0.376],\"title\":{\"text\":\"confidence_scaling\"},\"type\":\"category\",\"categoryorder\":\"array\",\"categoryarray\":[\"linear\",\"log\"]},\"yaxis2\":{\"anchor\":\"x2\",\"domain\":[0.0,1.0],\"matches\":\"y\",\"showticklabels\":false},\"xaxis3\":{\"anchor\":\"y3\",\"domain\":[0.416,0.584],\"title\":{\"text\":\"epsilon\"},\"type\":\"log\"},\"yaxis3\":{\"anchor\":\"x3\",\"domain\":[0.0,1.0],\"matches\":\"y\",\"showticklabels\":false},\"xaxis4\":{\"anchor\":\"y4\",\"domain\":[0.624,0.792],\"title\":{\"text\":\"num_factors\"}},\"yaxis4\":{\"anchor\":\"x4\",\"domain\":[0.0,1.0],\"matches\":\"y\",\"showticklabels\":false},\"xaxis5\":{\"anchor\":\"y5\",\"domain\":[0.832,1.0],\"title\":{\"text\":\"reg\"},\"type\":\"log\"},\"yaxis5\":{\"anchor\":\"x5\",\"domain\":[0.0,1.0],\"matches\":\"y\",\"showticklabels\":false},\"title\":{\"text\":\"Slice Plot\"},\"width\":1500},                        {\"responsive\": true}                    ).then(function(){\n",
       "                            \n",
       "var gd = document.getElementById('8fd7ba72-df83-4ad4-9eab-19006736f191');\n",
       "var x = new MutationObserver(function (mutations, observer) {{\n",
       "        var display = window.getComputedStyle(gd).display;\n",
       "        if (!display || display === 'none') {{\n",
       "            console.log([gd, 'removed!']);\n",
       "            Plotly.purge(gd);\n",
       "            observer.disconnect();\n",
       "        }}\n",
       "}});\n",
       "\n",
       "// Listen for the removal of the full notebook cells\n",
       "var notebookContainer = gd.closest('#notebook-container');\n",
       "if (notebookContainer) {{\n",
       "    x.observe(notebookContainer, {childList: true});\n",
       "}}\n",
       "\n",
       "// Listen for the clearing of the current output cell\n",
       "var outputEl = gd.closest('.output');\n",
       "if (outputEl) {{\n",
       "    x.observe(outputEl, {childList: true});\n",
       "}}\n",
       "\n",
       "                        })                };                });            </script>        </div>"
      ]
     },
     "metadata": {},
     "output_type": "display_data"
    }
   ],
   "source": [
    "if config['tune_parameters_ials']:\n",
    "    fig = optuna.visualization.plot_slice(study)\n",
    "    fig.show()"
   ]
  },
  {
   "cell_type": "code",
   "execution_count": 42,
   "id": "31c68dbc",
   "metadata": {
    "execution": {
     "iopub.execute_input": "2023-11-27T20:57:30.747007Z",
     "iopub.status.busy": "2023-11-27T20:57:30.746222Z",
     "iopub.status.idle": "2023-11-27T20:57:31.915294Z",
     "shell.execute_reply": "2023-11-27T20:57:31.914074Z"
    },
    "papermill": {
     "duration": 1.209349,
     "end_time": "2023-11-27T20:57:31.918012",
     "exception": false,
     "start_time": "2023-11-27T20:57:30.708663",
     "status": "completed"
    },
    "tags": []
   },
   "outputs": [],
   "source": [
    "if config['tune_parameters_ials']:\n",
    "    with open('/kaggle/working/best_params_ials_v2.json', 'w') as params_file:\n",
    "        json.dump(study.best_params, params_file)\n",
    "        \n",
    "    if config['save_github']: \n",
    "        upload_file(\n",
    "            '/kaggle/working/best_params_ials_v2.json', \n",
    "            'tuning_results/best_params_ials_v2.json', \n",
    "            'IALS tuning results (from kaggle notebook)'\n",
    "        )\n",
    "    \n",
    "elif config['copy_prev_best_params']:\n",
    "    shutil.copyfile(\n",
    "        '/kaggle/input/hyperparameters-tuning/best_params_ials_v2.json', \n",
    "        '/kaggle/working/best_params_ials_v2.json'\n",
    "    )"
   ]
  },
  {
   "cell_type": "code",
   "execution_count": 43,
   "id": "da47d1de",
   "metadata": {
    "execution": {
     "iopub.execute_input": "2023-11-27T20:57:31.991329Z",
     "iopub.status.busy": "2023-11-27T20:57:31.990501Z",
     "iopub.status.idle": "2023-11-27T20:57:34.015951Z",
     "shell.execute_reply": "2023-11-27T20:57:34.014668Z"
    },
    "papermill": {
     "duration": 2.065109,
     "end_time": "2023-11-27T20:57:34.018895",
     "exception": false,
     "start_time": "2023-11-27T20:57:31.953786",
     "status": "completed"
    },
    "tags": []
   },
   "outputs": [],
   "source": [
    "if config['save_github'] and (config['tune_parameters_user_knn'] or config['tune_parameters_item_knn'] or config['tune_parameters_ials']):\n",
    "    upload_file(\n",
    "        config['database_path'], \n",
    "        'tuning_results/better_tuning.db', \n",
    "        'Tuning db updated results (from kaggle notebook)'\n",
    "    )"
   ]
  },
  {
   "cell_type": "markdown",
   "id": "ec0f9505",
   "metadata": {
    "papermill": {
     "duration": 0.035049,
     "end_time": "2023-11-27T20:57:34.090859",
     "exception": false,
     "start_time": "2023-11-27T20:57:34.055810",
     "status": "completed"
    },
    "tags": []
   },
   "source": [
    "# Training best model"
   ]
  },
  {
   "cell_type": "code",
   "execution_count": 44,
   "id": "69c9fbbe",
   "metadata": {
    "execution": {
     "iopub.execute_input": "2023-11-27T20:57:34.164133Z",
     "iopub.status.busy": "2023-11-27T20:57:34.163372Z",
     "iopub.status.idle": "2023-11-27T20:57:34.167936Z",
     "shell.execute_reply": "2023-11-27T20:57:34.167204Z"
    },
    "papermill": {
     "duration": 0.044202,
     "end_time": "2023-11-27T20:57:34.170057",
     "exception": false,
     "start_time": "2023-11-27T20:57:34.125855",
     "status": "completed"
    },
    "tags": []
   },
   "outputs": [],
   "source": [
    "# with open('/kaggle/working/best_params_knn_item.json', 'r') as params_file:\n",
    "#     params_knn = json.load(params_file)\n",
    "\n",
    "# recommender = ItemKNNCFRecommender(URM_all)\n",
    "# recommender.fit(topK=params_knn['topK'], shrink=params_knn['shrink'], similarity=params_knn['similarity'])"
   ]
  },
  {
   "cell_type": "markdown",
   "id": "f8bc2008",
   "metadata": {
    "papermill": {
     "duration": 0.035488,
     "end_time": "2023-11-27T20:57:34.240802",
     "exception": false,
     "start_time": "2023-11-27T20:57:34.205314",
     "status": "completed"
    },
    "tags": []
   },
   "source": [
    "# Submission"
   ]
  },
  {
   "cell_type": "code",
   "execution_count": 45,
   "id": "a2e476a9",
   "metadata": {
    "execution": {
     "iopub.execute_input": "2023-11-27T20:57:34.314394Z",
     "iopub.status.busy": "2023-11-27T20:57:34.313445Z",
     "iopub.status.idle": "2023-11-27T20:57:34.319056Z",
     "shell.execute_reply": "2023-11-27T20:57:34.317708Z"
    },
    "papermill": {
     "duration": 0.045358,
     "end_time": "2023-11-27T20:57:34.321740",
     "exception": false,
     "start_time": "2023-11-27T20:57:34.276382",
     "status": "completed"
    },
    "tags": []
   },
   "outputs": [],
   "source": [
    "# user_ids_test.info()"
   ]
  },
  {
   "cell_type": "code",
   "execution_count": 46,
   "id": "2c52b953",
   "metadata": {
    "execution": {
     "iopub.execute_input": "2023-11-27T20:57:34.394433Z",
     "iopub.status.busy": "2023-11-27T20:57:34.393761Z",
     "iopub.status.idle": "2023-11-27T20:57:34.398492Z",
     "shell.execute_reply": "2023-11-27T20:57:34.397103Z"
    },
    "papermill": {
     "duration": 0.043575,
     "end_time": "2023-11-27T20:57:34.400689",
     "exception": false,
     "start_time": "2023-11-27T20:57:34.357114",
     "status": "completed"
    },
    "tags": []
   },
   "outputs": [],
   "source": [
    "# user_ids_test.head(5)"
   ]
  },
  {
   "cell_type": "code",
   "execution_count": 47,
   "id": "b6eeb5c2",
   "metadata": {
    "execution": {
     "iopub.execute_input": "2023-11-27T20:57:34.478267Z",
     "iopub.status.busy": "2023-11-27T20:57:34.477444Z",
     "iopub.status.idle": "2023-11-27T20:57:34.481685Z",
     "shell.execute_reply": "2023-11-27T20:57:34.480741Z"
    },
    "papermill": {
     "duration": 0.047671,
     "end_time": "2023-11-27T20:57:34.484034",
     "exception": false,
     "start_time": "2023-11-27T20:57:34.436363",
     "status": "completed"
    },
    "tags": []
   },
   "outputs": [],
   "source": [
    "# user_ids_test['user_id'].unique()"
   ]
  },
  {
   "cell_type": "code",
   "execution_count": 48,
   "id": "fe9241ec",
   "metadata": {
    "execution": {
     "iopub.execute_input": "2023-11-27T20:57:34.558366Z",
     "iopub.status.busy": "2023-11-27T20:57:34.557530Z",
     "iopub.status.idle": "2023-11-27T20:57:34.562101Z",
     "shell.execute_reply": "2023-11-27T20:57:34.561124Z"
    },
    "papermill": {
     "duration": 0.045132,
     "end_time": "2023-11-27T20:57:34.564427",
     "exception": false,
     "start_time": "2023-11-27T20:57:34.519295",
     "status": "completed"
    },
    "tags": []
   },
   "outputs": [],
   "source": [
    "# # user_id and item_id start from 1\n",
    "# recommendations = recommender.recommend(user_ids_test['user_id'].unique() - 1, cutoff=10)\n",
    "# recommendations = [' '.join([str(item + 1) for item in r]).strip() for r in recommendations]\n",
    "\n",
    "# submission_df = pd.DataFrame({'user_id': user_ids_test['user_id'].unique(), 'item_list': recommendations})\n",
    "# submission_df.head()"
   ]
  },
  {
   "cell_type": "code",
   "execution_count": 49,
   "id": "6b9c4988",
   "metadata": {
    "execution": {
     "iopub.execute_input": "2023-11-27T20:57:34.639730Z",
     "iopub.status.busy": "2023-11-27T20:57:34.638971Z",
     "iopub.status.idle": "2023-11-27T20:57:34.642931Z",
     "shell.execute_reply": "2023-11-27T20:57:34.642140Z"
    },
    "papermill": {
     "duration": 0.043193,
     "end_time": "2023-11-27T20:57:34.645016",
     "exception": false,
     "start_time": "2023-11-27T20:57:34.601823",
     "status": "completed"
    },
    "tags": []
   },
   "outputs": [],
   "source": [
    "# submission_df.to_csv('/kaggle/working/submission.csv', index=False)"
   ]
  }
 ],
 "metadata": {
  "kaggle": {
   "accelerator": "none",
   "dataSources": [
    {
     "databundleVersionId": 6919098,
     "sourceId": 62803,
     "sourceType": "competition"
    },
    {
     "sourceId": 151892574,
     "sourceType": "kernelVersion"
    },
    {
     "sourceId": 152106891,
     "sourceType": "kernelVersion"
    }
   ],
   "dockerImageVersionId": 30579,
   "isGpuEnabled": false,
   "isInternetEnabled": true,
   "language": "python",
   "sourceType": "notebook"
  },
  "kernelspec": {
   "display_name": "Python 3",
   "language": "python",
   "name": "python3"
  },
  "language_info": {
   "codemirror_mode": {
    "name": "ipython",
    "version": 3
   },
   "file_extension": ".py",
   "mimetype": "text/x-python",
   "name": "python",
   "nbconvert_exporter": "python",
   "pygments_lexer": "ipython3",
   "version": "3.10.12"
  },
  "papermill": {
   "default_parameters": {},
   "duration": 1608.241296,
   "end_time": "2023-11-27T20:57:35.806734",
   "environment_variables": {},
   "exception": null,
   "input_path": "__notebook__.ipynb",
   "output_path": "__notebook__.ipynb",
   "parameters": {},
   "start_time": "2023-11-27T20:30:47.565438",
   "version": "2.4.0"
  }
 },
 "nbformat": 4,
 "nbformat_minor": 5
}
