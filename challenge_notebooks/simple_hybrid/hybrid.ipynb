{
 "cells": [
  {
   "cell_type": "code",
   "execution_count": 1,
   "id": "9e1a9594",
   "metadata": {
    "_cell_guid": "b1076dfc-b9ad-4769-8c92-a6c4dae69d19",
    "_uuid": "8f2839f25d086af736a60e9eeb907d3b93b6e0e5",
    "execution": {
     "iopub.execute_input": "2023-12-08T22:26:05.602198Z",
     "iopub.status.busy": "2023-12-08T22:26:05.601123Z",
     "iopub.status.idle": "2023-12-08T22:26:26.884377Z",
     "shell.execute_reply": "2023-12-08T22:26:26.882481Z"
    },
    "papermill": {
     "duration": 21.301891,
     "end_time": "2023-12-08T22:26:26.887706",
     "exception": false,
     "start_time": "2023-12-08T22:26:05.585815",
     "status": "completed"
    },
    "tags": []
   },
   "outputs": [
    {
     "name": "stdout",
     "output_type": "stream",
     "text": [
      "Cloning into 'Recsys_Challenge_2023'...\r\n",
      "remote: Enumerating objects: 2734, done.\u001b[K\r\n",
      "remote: Counting objects: 100% (852/852), done.\u001b[K\r\n",
      "remote: Compressing objects: 100% (152/152), done.\u001b[K\r\n",
      "remote: Total 2734 (delta 731), reused 804 (delta 692), pack-reused 1882\u001b[K\r\n",
      "Receiving objects: 100% (2734/2734), 398.83 MiB | 30.01 MiB/s, done.\r\n",
      "Resolving deltas: 100% (2183/2183), done.\r\n"
     ]
    }
   ],
   "source": [
    "from kaggle_secrets import UserSecretsClient\n",
    "secret_label = \"Token\"\n",
    "token = UserSecretsClient().get_secret(secret_label)\n",
    "\n",
    "! git clone https://{token}@github.com/CarloSgaravatti/Recsys_Challenge_2023.git"
   ]
  },
  {
   "cell_type": "code",
   "execution_count": 2,
   "id": "81b421bb",
   "metadata": {
    "execution": {
     "iopub.execute_input": "2023-12-08T22:26:26.925374Z",
     "iopub.status.busy": "2023-12-08T22:26:26.924942Z",
     "iopub.status.idle": "2023-12-08T22:26:43.849513Z",
     "shell.execute_reply": "2023-12-08T22:26:43.848036Z"
    },
    "papermill": {
     "duration": 16.947573,
     "end_time": "2023-12-08T22:26:43.853190",
     "exception": false,
     "start_time": "2023-12-08T22:26:26.905617",
     "status": "completed"
    },
    "tags": []
   },
   "outputs": [
    {
     "name": "stdout",
     "output_type": "stream",
     "text": [
      "Collecting PyGithub\r\n",
      "  Obtaining dependency information for PyGithub from https://files.pythonhosted.org/packages/be/04/810d131be173cba445d3658a45512b2b2b3d0960d52c4a300d6ec5e00f52/PyGithub-2.1.1-py3-none-any.whl.metadata\r\n",
      "  Downloading PyGithub-2.1.1-py3-none-any.whl.metadata (2.2 kB)\r\n",
      "Requirement already satisfied: requests in /opt/conda/lib/python3.10/site-packages (2.31.0)\r\n",
      "Collecting pynacl>=1.4.0 (from PyGithub)\r\n",
      "  Downloading PyNaCl-1.5.0-cp36-abi3-manylinux_2_17_x86_64.manylinux2014_x86_64.manylinux_2_24_x86_64.whl (856 kB)\r\n",
      "\u001b[2K     \u001b[90m━━━━━━━━━━━━━━━━━━━━━━━━━━━━━━━━━━━━━━\u001b[0m \u001b[32m856.7/856.7 kB\u001b[0m \u001b[31m15.9 MB/s\u001b[0m eta \u001b[36m0:00:00\u001b[0m\r\n",
      "\u001b[?25hRequirement already satisfied: python-dateutil in /opt/conda/lib/python3.10/site-packages (from PyGithub) (2.8.2)\r\n",
      "Requirement already satisfied: pyjwt[crypto]>=2.4.0 in /opt/conda/lib/python3.10/site-packages (from PyGithub) (2.8.0)\r\n",
      "Requirement already satisfied: typing-extensions>=4.0.0 in /opt/conda/lib/python3.10/site-packages (from PyGithub) (4.5.0)\r\n",
      "Requirement already satisfied: urllib3>=1.26.0 in /opt/conda/lib/python3.10/site-packages (from PyGithub) (1.26.15)\r\n",
      "Requirement already satisfied: Deprecated in /opt/conda/lib/python3.10/site-packages (from PyGithub) (1.2.14)\r\n",
      "Requirement already satisfied: charset-normalizer<4,>=2 in /opt/conda/lib/python3.10/site-packages (from requests) (3.2.0)\r\n",
      "Requirement already satisfied: idna<4,>=2.5 in /opt/conda/lib/python3.10/site-packages (from requests) (3.4)\r\n",
      "Requirement already satisfied: certifi>=2017.4.17 in /opt/conda/lib/python3.10/site-packages (from requests) (2023.7.22)\r\n",
      "Requirement already satisfied: cryptography>=3.4.0 in /opt/conda/lib/python3.10/site-packages (from pyjwt[crypto]>=2.4.0->PyGithub) (41.0.3)\r\n",
      "Requirement already satisfied: cffi>=1.4.1 in /opt/conda/lib/python3.10/site-packages (from pynacl>=1.4.0->PyGithub) (1.15.1)\r\n",
      "Requirement already satisfied: wrapt<2,>=1.10 in /opt/conda/lib/python3.10/site-packages (from Deprecated->PyGithub) (1.15.0)\r\n",
      "Requirement already satisfied: six>=1.5 in /opt/conda/lib/python3.10/site-packages (from python-dateutil->PyGithub) (1.16.0)\r\n",
      "Requirement already satisfied: pycparser in /opt/conda/lib/python3.10/site-packages (from cffi>=1.4.1->pynacl>=1.4.0->PyGithub) (2.21)\r\n",
      "Downloading PyGithub-2.1.1-py3-none-any.whl (302 kB)\r\n",
      "\u001b[2K   \u001b[90m━━━━━━━━━━━━━━━━━━━━━━━━━━━━━━━━━━━━━━━━\u001b[0m \u001b[32m302.9/302.9 kB\u001b[0m \u001b[31m21.2 MB/s\u001b[0m eta \u001b[36m0:00:00\u001b[0m\r\n",
      "\u001b[?25hInstalling collected packages: pynacl, PyGithub\r\n",
      "Successfully installed PyGithub-2.1.1 pynacl-1.5.0\r\n"
     ]
    }
   ],
   "source": [
    "! pip install PyGithub requests"
   ]
  },
  {
   "cell_type": "code",
   "execution_count": 3,
   "id": "908457dc",
   "metadata": {
    "_kg_hide-output": true,
    "execution": {
     "iopub.execute_input": "2023-12-08T22:26:43.894205Z",
     "iopub.status.busy": "2023-12-08T22:26:43.893706Z",
     "iopub.status.idle": "2023-12-08T22:29:38.193879Z",
     "shell.execute_reply": "2023-12-08T22:29:38.192325Z"
    },
    "papermill": {
     "duration": 174.324112,
     "end_time": "2023-12-08T22:29:38.197259",
     "exception": false,
     "start_time": "2023-12-08T22:26:43.873147",
     "status": "completed"
    },
    "scrolled": true,
    "tags": []
   },
   "outputs": [
    {
     "name": "stdout",
     "output_type": "stream",
     "text": [
      "run_compile_all_cython: Found 10 Cython files in 4 folders...\r\n",
      "run_compile_all_cython: All files will be compiled using your current python environment: '/opt/conda/bin/python'\r\n",
      "Compiling [1/10]: MatrixFactorizationImpressions_Cython_Epoch.pyx... \r\n",
      "In file included from \u001b[01m\u001b[K/opt/conda/lib/python3.10/site-packages/numpy/core/include/numpy/ndarraytypes.h:1940\u001b[m\u001b[K,\r\n",
      "                 from \u001b[01m\u001b[K/opt/conda/lib/python3.10/site-packages/numpy/core/include/numpy/ndarrayobject.h:12\u001b[m\u001b[K,\r\n",
      "                 from \u001b[01m\u001b[K/opt/conda/lib/python3.10/site-packages/numpy/core/include/numpy/arrayobject.h:5\u001b[m\u001b[K,\r\n",
      "                 from \u001b[01m\u001b[KMatrixFactorizationImpressions_Cython_Epoch.c:1109\u001b[m\u001b[K:\r\n",
      "\u001b[01m\u001b[K/opt/conda/lib/python3.10/site-packages/numpy/core/include/numpy/npy_1_7_deprecated_api.h:17:2:\u001b[m\u001b[K \u001b[01;35m\u001b[Kwarning: \u001b[m\u001b[K#warning \"Using deprecated NumPy API, disable it with \" \"#define NPY_NO_DEPRECATED_API NPY_1_7_API_VERSION\" [\u001b[01;35m\u001b[K-Wcpp\u001b[m\u001b[K]\r\n",
      "   17 | #\u001b[01;35m\u001b[Kwarning\u001b[m\u001b[K \"Using deprecated NumPy API, disable it with \" \\\r\n",
      "      |  \u001b[01;35m\u001b[K^~~~~~~\u001b[m\u001b[K\r\n",
      "\u001b[01m\u001b[KMatrixFactorizationImpressions_Cython_Epoch.c:\u001b[m\u001b[K In function ‘\u001b[01m\u001b[K__pyx_f_43MatrixFactorizationImpressions_Cython_Epoch_32MatrixFactorization_Cython_Epoch_sampleBPR_Cython\u001b[m\u001b[K’:\r\n",
      "\u001b[01m\u001b[KMatrixFactorizationImpressions_Cython_Epoch.c:29664:17:\u001b[m\u001b[K \u001b[01;35m\u001b[Kwarning: \u001b[m\u001b[K‘\u001b[01m\u001b[K__pyx_v_start_pos_impression_items\u001b[m\u001b[K’ may be used uninitialized in this function [\u001b[01;35m\u001b[K-Wmaybe-uninitialized\u001b[m\u001b[K]\r\n",
      "29664 |       \u001b[01;35m\u001b[K__pyx_t_4 = (__pyx_v_start_pos_impression_items + __pyx_v_index)\u001b[m\u001b[K;\r\n",
      "      |       \u001b[01;35m\u001b[K~~~~~~~~~~^~~~~~~~~~~~~~~~~~~~~~~~~~~~~~~~~~~~~~~~~~~~~~~~~~~~~~\u001b[m\u001b[K\r\n",
      "\u001b[01m\u001b[KMatrixFactorizationImpressions_Cython_Epoch.c:\u001b[m\u001b[K In function ‘\u001b[01m\u001b[K__pyx_pf_43MatrixFactorizationImpressions_Cython_Epoch_32MatrixFactorization_Cython_Epoch_10epochIteration_Cython_ASY_SVD_SGD\u001b[m\u001b[K’:\r\n",
      "\u001b[01m\u001b[KMatrixFactorizationImpressions_Cython_Epoch.c:25474:7:\u001b[m\u001b[K \u001b[01;35m\u001b[Kwarning: \u001b[m\u001b[K‘\u001b[01m\u001b[K__pyx_v_end_pos_seen_items\u001b[m\u001b[K’ may be used uninitialized in this function [\u001b[01;35m\u001b[K-Wmaybe-uninitialized\u001b[m\u001b[K]\r\n",
      "25474 |       \u001b[01;35m\u001b[Kfor\u001b[m\u001b[K (__pyx_t_21 = __pyx_v_start_pos_seen_items; __pyx_t_21 < __pyx_t_20; __pyx_t_21+=1) {\r\n",
      "      |       \u001b[01;35m\u001b[K^~~\u001b[m\u001b[K\r\n",
      "\u001b[01m\u001b[KMatrixFactorizationImpressions_Cython_Epoch.c:25474:7:\u001b[m\u001b[K \u001b[01;35m\u001b[Kwarning: \u001b[m\u001b[K‘\u001b[01m\u001b[K__pyx_v_start_pos_seen_items\u001b[m\u001b[K’ may be used uninitialized in this function [\u001b[01;35m\u001b[K-Wmaybe-uninitialized\u001b[m\u001b[K]\r\n",
      "/opt/conda/lib/python3.10/site-packages/Cython/Compiler/Main.py:381: FutureWarning: Cython directive 'language_level' not set, using '3str' for now (Py3). This has changed from earlier releases! File: /kaggle/working/Recsys_Challenge_2023/Recommenders/MatrixFactorization/Cython/MatrixFactorizationImpressions_Cython_Epoch.pyx\r\n",
      "  tree = Parsing.p_module(s, pxd, full_module_name)\r\n",
      "Compiling [1/10]: MatrixFactorizationImpressions_Cython_Epoch.pyx... PASS\r\n",
      "\r\n",
      "Compiling [2/10]: MatrixFactorization_Cython_Epoch.pyx... \r\n",
      "In file included from \u001b[01m\u001b[K/opt/conda/lib/python3.10/site-packages/numpy/core/include/numpy/ndarraytypes.h:1940\u001b[m\u001b[K,\r\n",
      "                 from \u001b[01m\u001b[K/opt/conda/lib/python3.10/site-packages/numpy/core/include/numpy/ndarrayobject.h:12\u001b[m\u001b[K,\r\n",
      "                 from \u001b[01m\u001b[K/opt/conda/lib/python3.10/site-packages/numpy/core/include/numpy/arrayobject.h:5\u001b[m\u001b[K,\r\n",
      "                 from \u001b[01m\u001b[KMatrixFactorization_Cython_Epoch.c:1109\u001b[m\u001b[K:\r\n",
      "\u001b[01m\u001b[K/opt/conda/lib/python3.10/site-packages/numpy/core/include/numpy/npy_1_7_deprecated_api.h:17:2:\u001b[m\u001b[K \u001b[01;35m\u001b[Kwarning: \u001b[m\u001b[K#warning \"Using deprecated NumPy API, disable it with \" \"#define NPY_NO_DEPRECATED_API NPY_1_7_API_VERSION\" [\u001b[01;35m\u001b[K-Wcpp\u001b[m\u001b[K]\r\n",
      "   17 | #\u001b[01;35m\u001b[Kwarning\u001b[m\u001b[K \"Using deprecated NumPy API, disable it with \" \\\r\n",
      "      |  \u001b[01;35m\u001b[K^~~~~~~\u001b[m\u001b[K\r\n",
      "\u001b[01m\u001b[KMatrixFactorization_Cython_Epoch.c:\u001b[m\u001b[K In function ‘\u001b[01m\u001b[K__pyx_pf_32MatrixFactorization_Cython_Epoch_32MatrixFactorization_Cython_Epoch_10epochIteration_Cython_ASY_SVD_SGD\u001b[m\u001b[K’:\r\n",
      "\u001b[01m\u001b[KMatrixFactorization_Cython_Epoch.c:25614:9:\u001b[m\u001b[K \u001b[01;35m\u001b[Kwarning: \u001b[m\u001b[K‘\u001b[01m\u001b[K__pyx_v_end_pos_seen_items\u001b[m\u001b[K’ may be used uninitialized in this function [\u001b[01;35m\u001b[K-Wmaybe-uninitialized\u001b[m\u001b[K]\r\n",
      "25614 |         \u001b[01;35m\u001b[Kfor\u001b[m\u001b[K (__pyx_t_21 = __pyx_v_start_pos_seen_items; __pyx_t_21 < __pyx_t_20; __pyx_t_21+=1) {\r\n",
      "      |         \u001b[01;35m\u001b[K^~~\u001b[m\u001b[K\r\n",
      "\u001b[01m\u001b[KMatrixFactorization_Cython_Epoch.c:25614:9:\u001b[m\u001b[K \u001b[01;35m\u001b[Kwarning: \u001b[m\u001b[K‘\u001b[01m\u001b[K__pyx_v_start_pos_seen_items\u001b[m\u001b[K’ may be used uninitialized in this function [\u001b[01;35m\u001b[K-Wmaybe-uninitialized\u001b[m\u001b[K]\r\n",
      "/opt/conda/lib/python3.10/site-packages/Cython/Compiler/Main.py:381: FutureWarning: Cython directive 'language_level' not set, using '3str' for now (Py3). This has changed from earlier releases! File: /kaggle/working/Recsys_Challenge_2023/Recommenders/MatrixFactorization/Cython/MatrixFactorization_Cython_Epoch.pyx\r\n",
      "  tree = Parsing.p_module(s, pxd, full_module_name)\r\n",
      "Compiling [2/10]: MatrixFactorization_Cython_Epoch.pyx... PASS\r\n",
      "\r\n",
      "Compiling [3/10]: Compute_Similarity_Cython.pyx... \r\n",
      "warning: Compute_Similarity_Cython.pyx:21:0: The 'IF' statement is deprecated and will be removed in a future Cython version. Consider using runtime conditions or C macros instead. See https://github.com/cython/cython/issues/4310\r\n",
      "warning: Compute_Similarity_Cython.pyx:22:4: The 'DEF' statement is deprecated and will be removed in a future Cython version. Consider using global variables, constants, and in-place literals instead. See https://github.com/cython/cython/issues/4310\r\n",
      "warning: Compute_Similarity_Cython.pyx:24:4: The 'DEF' statement is deprecated and will be removed in a future Cython version. Consider using global variables, constants, and in-place literals instead. See https://github.com/cython/cython/issues/4310\r\n",
      "warning: Compute_Similarity_Cython.pyx:26:4: The 'DEF' statement is deprecated and will be removed in a future Cython version. Consider using global variables, constants, and in-place literals instead. See https://github.com/cython/cython/issues/4310\r\n",
      "In file included from \u001b[01m\u001b[K/opt/conda/lib/python3.10/site-packages/numpy/core/include/numpy/ndarraytypes.h:1940\u001b[m\u001b[K,\r\n",
      "                 from \u001b[01m\u001b[K/opt/conda/lib/python3.10/site-packages/numpy/core/include/numpy/ndarrayobject.h:12\u001b[m\u001b[K,\r\n",
      "                 from \u001b[01m\u001b[K/opt/conda/lib/python3.10/site-packages/numpy/core/include/numpy/arrayobject.h:5\u001b[m\u001b[K,\r\n",
      "                 from \u001b[01m\u001b[KCompute_Similarity_Cython.c:1109\u001b[m\u001b[K:\r\n",
      "\u001b[01m\u001b[K/opt/conda/lib/python3.10/site-packages/numpy/core/include/numpy/npy_1_7_deprecated_api.h:17:2:\u001b[m\u001b[K \u001b[01;35m\u001b[Kwarning: \u001b[m\u001b[K#warning \"Using deprecated NumPy API, disable it with \" \"#define NPY_NO_DEPRECATED_API NPY_1_7_API_VERSION\" [\u001b[01;35m\u001b[K-Wcpp\u001b[m\u001b[K]\r\n",
      "   17 | #\u001b[01;35m\u001b[Kwarning\u001b[m\u001b[K \"Using deprecated NumPy API, disable it with \" \\\r\n",
      "      |  \u001b[01;35m\u001b[K^~~~~~~\u001b[m\u001b[K\r\n",
      "/opt/conda/lib/python3.10/site-packages/Cython/Compiler/Main.py:381: FutureWarning: Cython directive 'language_level' not set, using '3str' for now (Py3). This has changed from earlier releases! File: /kaggle/working/Recsys_Challenge_2023/Recommenders/Similarity/Cython/Compute_Similarity_Cython.pyx\r\n",
      "  tree = Parsing.p_module(s, pxd, full_module_name)\r\n",
      "warning: Compute_Similarity_Cython.pyx:21:0: The 'IF' statement is deprecated and will be removed in a future Cython version. Consider using runtime conditions or C macros instead. See https://github.com/cython/cython/issues/4310\r\n",
      "warning: Compute_Similarity_Cython.pyx:22:4: The 'DEF' statement is deprecated and will be removed in a future Cython version. Consider using global variables, constants, and in-place literals instead. See https://github.com/cython/cython/issues/4310\r\n",
      "warning: Compute_Similarity_Cython.pyx:24:4: The 'DEF' statement is deprecated and will be removed in a future Cython version. Consider using global variables, constants, and in-place literals instead. See https://github.com/cython/cython/issues/4310\r\n",
      "warning: Compute_Similarity_Cython.pyx:26:4: The 'DEF' statement is deprecated and will be removed in a future Cython version. Consider using global variables, constants, and in-place literals instead. See https://github.com/cython/cython/issues/4310\r\n",
      "Compiling [3/10]: Compute_Similarity_Cython.pyx... PASS\r\n",
      "\r\n",
      "Compiling [4/10]: Triangular_Matrix.pyx... \r\n",
      "warning: Triangular_Matrix.pyx:22:0: The 'IF' statement is deprecated and will be removed in a future Cython version. Consider using runtime conditions or C macros instead. See https://github.com/cython/cython/issues/4310\r\n",
      "warning: Triangular_Matrix.pyx:23:4: The 'DEF' statement is deprecated and will be removed in a future Cython version. Consider using global variables, constants, and in-place literals instead. See https://github.com/cython/cython/issues/4310\r\n",
      "warning: Triangular_Matrix.pyx:25:4: The 'DEF' statement is deprecated and will be removed in a future Cython version. Consider using global variables, constants, and in-place literals instead. See https://github.com/cython/cython/issues/4310\r\n",
      "warning: Triangular_Matrix.pyx:27:4: The 'DEF' statement is deprecated and will be removed in a future Cython version. Consider using global variables, constants, and in-place literals instead. See https://github.com/cython/cython/issues/4310\r\n",
      "In file included from \u001b[01m\u001b[K/opt/conda/lib/python3.10/site-packages/numpy/core/include/numpy/ndarraytypes.h:1940\u001b[m\u001b[K,\r\n",
      "                 from \u001b[01m\u001b[K/opt/conda/lib/python3.10/site-packages/numpy/core/include/numpy/ndarrayobject.h:12\u001b[m\u001b[K,\r\n",
      "                 from \u001b[01m\u001b[K/opt/conda/lib/python3.10/site-packages/numpy/core/include/numpy/arrayobject.h:5\u001b[m\u001b[K,\r\n",
      "                 from \u001b[01m\u001b[KTriangular_Matrix.c:1109\u001b[m\u001b[K:\r\n",
      "\u001b[01m\u001b[K/opt/conda/lib/python3.10/site-packages/numpy/core/include/numpy/npy_1_7_deprecated_api.h:17:2:\u001b[m\u001b[K \u001b[01;35m\u001b[Kwarning: \u001b[m\u001b[K#warning \"Using deprecated NumPy API, disable it with \" \"#define NPY_NO_DEPRECATED_API NPY_1_7_API_VERSION\" [\u001b[01;35m\u001b[K-Wcpp\u001b[m\u001b[K]\r\n",
      "   17 | #\u001b[01;35m\u001b[Kwarning\u001b[m\u001b[K \"Using deprecated NumPy API, disable it with \" \\\r\n",
      "      |  \u001b[01;35m\u001b[K^~~~~~~\u001b[m\u001b[K\r\n",
      "/opt/conda/lib/python3.10/site-packages/Cython/Compiler/Main.py:381: FutureWarning: Cython directive 'language_level' not set, using '3str' for now (Py3). This has changed from earlier releases! File: /kaggle/working/Recsys_Challenge_2023/Recommenders/SLIM/Cython/Triangular_Matrix.pyx\r\n",
      "  tree = Parsing.p_module(s, pxd, full_module_name)\r\n",
      "warning: Triangular_Matrix.pyx:22:0: The 'IF' statement is deprecated and will be removed in a future Cython version. Consider using runtime conditions or C macros instead. See https://github.com/cython/cython/issues/4310\r\n",
      "warning: Triangular_Matrix.pyx:23:4: The 'DEF' statement is deprecated and will be removed in a future Cython version. Consider using global variables, constants, and in-place literals instead. See https://github.com/cython/cython/issues/4310\r\n",
      "warning: Triangular_Matrix.pyx:25:4: The 'DEF' statement is deprecated and will be removed in a future Cython version. Consider using global variables, constants, and in-place literals instead. See https://github.com/cython/cython/issues/4310\r\n",
      "warning: Triangular_Matrix.pyx:27:4: The 'DEF' statement is deprecated and will be removed in a future Cython version. Consider using global variables, constants, and in-place literals instead. See https://github.com/cython/cython/issues/4310\r\n",
      "Compiling [4/10]: Triangular_Matrix.pyx... PASS\r\n",
      "\r\n",
      "Compiling [5/10]: Sparse_Matrix_Tree_CSR.pyx... \r\n",
      "warning: Sparse_Matrix_Tree_CSR.pyx:132:34: Non-trivial type declarators in shared declaration (e.g. mix of pointers and values). Each pointer declaration should be on its own line.\r\n",
      "warning: Sparse_Matrix_Tree_CSR.pyx:132:66: Non-trivial type declarators in shared declaration (e.g. mix of pointers and values). Each pointer declaration should be on its own line.\r\n",
      "warning: Sparse_Matrix_Tree_CSR.pyx:343:35: Non-trivial type declarators in shared declaration (e.g. mix of pointers and values). Each pointer declaration should be on its own line.\r\n",
      "warning: Sparse_Matrix_Tree_CSR.pyx:343:52: Non-trivial type declarators in shared declaration (e.g. mix of pointers and values). Each pointer declaration should be on its own line.\r\n",
      "warning: Sparse_Matrix_Tree_CSR.pyx:442:35: Non-trivial type declarators in shared declaration (e.g. mix of pointers and values). Each pointer declaration should be on its own line.\r\n",
      "warning: Sparse_Matrix_Tree_CSR.pyx:442:53: Non-trivial type declarators in shared declaration (e.g. mix of pointers and values). Each pointer declaration should be on its own line.\r\n",
      "warning: Sparse_Matrix_Tree_CSR.pyx:442:69: Non-trivial type declarators in shared declaration (e.g. mix of pointers and values). Each pointer declaration should be on its own line.\r\n",
      "warning: Sparse_Matrix_Tree_CSR.pyx:577:35: Non-trivial type declarators in shared declaration (e.g. mix of pointers and values). Each pointer declaration should be on its own line.\r\n",
      "warning: Sparse_Matrix_Tree_CSR.pyx:577:42: Non-trivial type declarators in shared declaration (e.g. mix of pointers and values). Each pointer declaration should be on its own line.\r\n",
      "warning: Sparse_Matrix_Tree_CSR.pyx:578:35: Non-trivial type declarators in shared declaration (e.g. mix of pointers and values). Each pointer declaration should be on its own line.\r\n",
      "warning: Sparse_Matrix_Tree_CSR.pyx:578:53: Non-trivial type declarators in shared declaration (e.g. mix of pointers and values). Each pointer declaration should be on its own line.\r\n",
      "\r\n",
      "Error compiling Cython file:\r\n",
      "------------------------------------------------------------\r\n",
      "...\r\n",
      "            vector_pointer_to_list_elements[index].head = current_element\r\n",
      "            current_element = current_element.higher\r\n",
      "\r\n",
      "\r\n",
      "        # Sort array elements on their data field\r\n",
      "        qsort(vector_pointer_to_list_elements, list_length, sizeof(head_pointer_tree_s), compare_struct_on_data)\r\n",
      "                                                                                         ^\r\n",
      "------------------------------------------------------------\r\n",
      "\r\n",
      "Sparse_Matrix_Tree_CSR.pyx:516:89: Cannot assign type 'int (const void *, const void *) except? -1' to 'int (*)(const_void *, const_void *) noexcept'\r\n",
      "\r\n",
      "Error compiling Cython file:\r\n",
      "------------------------------------------------------------\r\n",
      "...\r\n",
      "        # Sort array elements on their data field\r\n",
      "        qsort(vector_pointer_to_list_elements, list_length, sizeof(head_pointer_tree_s), compare_struct_on_data)\r\n",
      "\r\n",
      "        # Sort only the TopK according to their column field\r\n",
      "        # Sort is from lower to higher, therefore the elements to be considered are from len-topK to len\r\n",
      "        qsort(&vector_pointer_to_list_elements[list_length-TopK], TopK, sizeof(head_pointer_tree_s), compare_struct_on_column)\r\n",
      "                                                                                                     ^\r\n",
      "------------------------------------------------------------\r\n",
      "\r\n",
      "Sparse_Matrix_Tree_CSR.pyx:520:101: Cannot assign type 'int (const void *, const void *) except? -1' to 'int (*)(const_void *, const_void *) noexcept'\r\n",
      "Traceback (most recent call last):\r\n",
      "  File \"/kaggle/working/Recsys_Challenge_2023/CythonCompiler/compile_script.py\", line 48, in <module>\r\n",
      "    setup(\r\n",
      "  File \"/opt/conda/lib/python3.10/site-packages/setuptools/__init__.py\", line 107, in setup\r\n",
      "    return distutils.core.setup(**attrs)\r\n",
      "  File \"/opt/conda/lib/python3.10/site-packages/setuptools/_distutils/core.py\", line 185, in setup\r\n",
      "    return run_commands(dist)\r\n",
      "  File \"/opt/conda/lib/python3.10/site-packages/setuptools/_distutils/core.py\", line 201, in run_commands\r\n",
      "    dist.run_commands()\r\n",
      "  File \"/opt/conda/lib/python3.10/site-packages/setuptools/_distutils/dist.py\", line 969, in run_commands\r\n",
      "    self.run_command(cmd)\r\n",
      "  File \"/opt/conda/lib/python3.10/site-packages/setuptools/dist.py\", line 1233, in run_command\r\n",
      "    super().run_command(command)\r\n",
      "  File \"/opt/conda/lib/python3.10/site-packages/setuptools/_distutils/dist.py\", line 988, in run_command\r\n",
      "    cmd_obj.run()\r\n",
      "  File \"/opt/conda/lib/python3.10/site-packages/setuptools/_distutils/command/build_ext.py\", line 345, in run\r\n",
      "    self.build_extensions()\r\n",
      "  File \"/opt/conda/lib/python3.10/site-packages/setuptools/_distutils/command/build_ext.py\", line 467, in build_extensions\r\n",
      "    self._build_extensions_serial()\r\n",
      "  File \"/opt/conda/lib/python3.10/site-packages/setuptools/_distutils/command/build_ext.py\", line 493, in _build_extensions_serial\r\n",
      "    self.build_extension(ext)\r\n",
      "  File \"/opt/conda/lib/python3.10/site-packages/Cython/Distutils/build_ext.py\", line 122, in build_extension\r\n",
      "    new_ext = cythonize(\r\n",
      "  File \"/opt/conda/lib/python3.10/site-packages/Cython/Build/Dependencies.py\", line 1134, in cythonize\r\n",
      "    cythonize_one(*args)\r\n",
      "  File \"/opt/conda/lib/python3.10/site-packages/Cython/Build/Dependencies.py\", line 1301, in cythonize_one\r\n",
      "    raise CompileError(None, pyx_file)\r\n",
      "Cython.Compiler.Errors.CompileError: Sparse_Matrix_Tree_CSR.pyx\r\n",
      "Traceback (most recent call last):\r\n",
      "  File \"/kaggle/working/Recsys_Challenge_2023/run_compile_all_cython.py\", line 59, in <module>\r\n",
      "    run_compile_subprocess(file_path, [file_name])\r\n",
      "  File \"/kaggle/working/Recsys_Challenge_2023/CythonCompiler/run_compile_subprocess.py\", line 51, in run_compile_subprocess\r\n",
      "    raise exc\r\n",
      "  File \"/kaggle/working/Recsys_Challenge_2023/CythonCompiler/run_compile_subprocess.py\", line 32, in run_compile_subprocess\r\n",
      "    output = subprocess.check_output(' '.join(command),\r\n",
      "  File \"/opt/conda/lib/python3.10/subprocess.py\", line 421, in check_output\r\n",
      "    return run(*popenargs, stdout=PIPE, timeout=timeout, check=True,\r\n",
      "  File \"/opt/conda/lib/python3.10/subprocess.py\", line 526, in run\r\n",
      "    raise CalledProcessError(retcode, process.args,\r\n",
      "subprocess.CalledProcessError: Command '/opt/conda/bin/python /kaggle/working/Recsys_Challenge_2023/CythonCompiler/compile_script.py Sparse_Matrix_Tree_CSR.pyx build_ext --inplace' returned non-zero exit status 1.\r\n",
      "Compiling [5/10]: Sparse_Matrix_Tree_CSR.pyx... FAIL: Command '/opt/conda/bin/python /kaggle/working/Recsys_Challenge_2023/CythonCompiler/compile_script.py Sparse_Matrix_Tree_CSR.pyx build_ext --inplace' returned non-zero exit status 1.\r\n",
      "\r\n",
      "Compiling [6/10]: SLIM_BPR_Cython_Epoch.pyx... \r\n",
      "warning: SLIM_BPR_Cython_Epoch.pyx:24:0: The 'IF' statement is deprecated and will be removed in a future Cython version. Consider using runtime conditions or C macros instead. See https://github.com/cython/cython/issues/4310\r\n",
      "warning: SLIM_BPR_Cython_Epoch.pyx:25:4: The 'DEF' statement is deprecated and will be removed in a future Cython version. Consider using global variables, constants, and in-place literals instead. See https://github.com/cython/cython/issues/4310\r\n",
      "warning: SLIM_BPR_Cython_Epoch.pyx:27:4: The 'DEF' statement is deprecated and will be removed in a future Cython version. Consider using global variables, constants, and in-place literals instead. See https://github.com/cython/cython/issues/4310\r\n",
      "warning: SLIM_BPR_Cython_Epoch.pyx:29:4: The 'DEF' statement is deprecated and will be removed in a future Cython version. Consider using global variables, constants, and in-place literals instead. See https://github.com/cython/cython/issues/4310\r\n",
      "warning: SLIM_BPR_Cython_Epoch.pyx:632:34: Non-trivial type declarators in shared declaration (e.g. mix of pointers and values). Each pointer declaration should be on its own line.\r\n",
      "warning: SLIM_BPR_Cython_Epoch.pyx:632:66: Non-trivial type declarators in shared declaration (e.g. mix of pointers and values). Each pointer declaration should be on its own line.\r\n",
      "warning: SLIM_BPR_Cython_Epoch.pyx:817:35: Non-trivial type declarators in shared declaration (e.g. mix of pointers and values). Each pointer declaration should be on its own line.\r\n",
      "warning: SLIM_BPR_Cython_Epoch.pyx:817:52: Non-trivial type declarators in shared declaration (e.g. mix of pointers and values). Each pointer declaration should be on its own line.\r\n",
      "warning: SLIM_BPR_Cython_Epoch.pyx:916:35: Non-trivial type declarators in shared declaration (e.g. mix of pointers and values). Each pointer declaration should be on its own line.\r\n",
      "warning: SLIM_BPR_Cython_Epoch.pyx:916:53: Non-trivial type declarators in shared declaration (e.g. mix of pointers and values). Each pointer declaration should be on its own line.\r\n",
      "warning: SLIM_BPR_Cython_Epoch.pyx:916:69: Non-trivial type declarators in shared declaration (e.g. mix of pointers and values). Each pointer declaration should be on its own line.\r\n",
      "warning: SLIM_BPR_Cython_Epoch.pyx:1051:35: Non-trivial type declarators in shared declaration (e.g. mix of pointers and values). Each pointer declaration should be on its own line.\r\n",
      "warning: SLIM_BPR_Cython_Epoch.pyx:1051:42: Non-trivial type declarators in shared declaration (e.g. mix of pointers and values). Each pointer declaration should be on its own line.\r\n",
      "warning: SLIM_BPR_Cython_Epoch.pyx:1052:35: Non-trivial type declarators in shared declaration (e.g. mix of pointers and values). Each pointer declaration should be on its own line.\r\n",
      "warning: SLIM_BPR_Cython_Epoch.pyx:1052:53: Non-trivial type declarators in shared declaration (e.g. mix of pointers and values). Each pointer declaration should be on its own line.\r\n",
      "\r\n",
      "Error compiling Cython file:\r\n",
      "------------------------------------------------------------\r\n",
      "...\r\n",
      "            vector_pointer_to_list_elements[index].head = current_element\r\n",
      "            current_element = current_element.higher\r\n",
      "\r\n",
      "\r\n",
      "        # Sort array elements on their data field\r\n",
      "        qsort(vector_pointer_to_list_elements, list_length, sizeof(head_pointer_tree_s), compare_struct_on_data)\r\n",
      "                                                                                         ^\r\n",
      "------------------------------------------------------------\r\n",
      "\r\n",
      "SLIM_BPR_Cython_Epoch.pyx:990:89: Cannot assign type 'int (const void *, const void *) except? -1' to 'int (*)(const_void *, const_void *) noexcept'\r\n",
      "\r\n",
      "Error compiling Cython file:\r\n",
      "------------------------------------------------------------\r\n",
      "...\r\n",
      "        # Sort array elements on their data field\r\n",
      "        qsort(vector_pointer_to_list_elements, list_length, sizeof(head_pointer_tree_s), compare_struct_on_data)\r\n",
      "\r\n",
      "        # Sort only the TopK according to their column field\r\n",
      "        # Sort is from lower to higher, therefore the elements to be considered are from len-topK to len\r\n",
      "        qsort(&vector_pointer_to_list_elements[list_length-TopK], TopK, sizeof(head_pointer_tree_s), compare_struct_on_column)\r\n",
      "                                                                                                     ^\r\n",
      "------------------------------------------------------------\r\n",
      "\r\n",
      "SLIM_BPR_Cython_Epoch.pyx:994:101: Cannot assign type 'int (const void *, const void *) except? -1' to 'int (*)(const_void *, const_void *) noexcept'\r\n",
      "Traceback (most recent call last):\r\n",
      "  File \"/kaggle/working/Recsys_Challenge_2023/CythonCompiler/compile_script.py\", line 48, in <module>\r\n",
      "    setup(\r\n",
      "  File \"/opt/conda/lib/python3.10/site-packages/setuptools/__init__.py\", line 107, in setup\r\n",
      "    return distutils.core.setup(**attrs)\r\n",
      "  File \"/opt/conda/lib/python3.10/site-packages/setuptools/_distutils/core.py\", line 185, in setup\r\n",
      "    return run_commands(dist)\r\n",
      "  File \"/opt/conda/lib/python3.10/site-packages/setuptools/_distutils/core.py\", line 201, in run_commands\r\n",
      "    dist.run_commands()\r\n",
      "  File \"/opt/conda/lib/python3.10/site-packages/setuptools/_distutils/dist.py\", line 969, in run_commands\r\n",
      "    self.run_command(cmd)\r\n",
      "  File \"/opt/conda/lib/python3.10/site-packages/setuptools/dist.py\", line 1233, in run_command\r\n",
      "    super().run_command(command)\r\n",
      "  File \"/opt/conda/lib/python3.10/site-packages/setuptools/_distutils/dist.py\", line 988, in run_command\r\n",
      "    cmd_obj.run()\r\n",
      "  File \"/opt/conda/lib/python3.10/site-packages/setuptools/_distutils/command/build_ext.py\", line 345, in run\r\n",
      "    self.build_extensions()\r\n",
      "  File \"/opt/conda/lib/python3.10/site-packages/setuptools/_distutils/command/build_ext.py\", line 467, in build_extensions\r\n",
      "    self._build_extensions_serial()\r\n",
      "  File \"/opt/conda/lib/python3.10/site-packages/setuptools/_distutils/command/build_ext.py\", line 493, in _build_extensions_serial\r\n",
      "    self.build_extension(ext)\r\n",
      "  File \"/opt/conda/lib/python3.10/site-packages/Cython/Distutils/build_ext.py\", line 122, in build_extension\r\n",
      "    new_ext = cythonize(\r\n",
      "  File \"/opt/conda/lib/python3.10/site-packages/Cython/Build/Dependencies.py\", line 1134, in cythonize\r\n",
      "    cythonize_one(*args)\r\n",
      "  File \"/opt/conda/lib/python3.10/site-packages/Cython/Build/Dependencies.py\", line 1301, in cythonize_one\r\n",
      "    raise CompileError(None, pyx_file)\r\n",
      "Cython.Compiler.Errors.CompileError: SLIM_BPR_Cython_Epoch.pyx\r\n",
      "Traceback (most recent call last):\r\n",
      "  File \"/kaggle/working/Recsys_Challenge_2023/run_compile_all_cython.py\", line 59, in <module>\r\n",
      "    run_compile_subprocess(file_path, [file_name])\r\n",
      "  File \"/kaggle/working/Recsys_Challenge_2023/CythonCompiler/run_compile_subprocess.py\", line 51, in run_compile_subprocess\r\n",
      "    raise exc\r\n",
      "  File \"/kaggle/working/Recsys_Challenge_2023/CythonCompiler/run_compile_subprocess.py\", line 32, in run_compile_subprocess\r\n",
      "    output = subprocess.check_output(' '.join(command),\r\n",
      "  File \"/opt/conda/lib/python3.10/subprocess.py\", line 421, in check_output\r\n",
      "    return run(*popenargs, stdout=PIPE, timeout=timeout, check=True,\r\n",
      "  File \"/opt/conda/lib/python3.10/subprocess.py\", line 526, in run\r\n",
      "    raise CalledProcessError(retcode, process.args,\r\n",
      "subprocess.CalledProcessError: Command '/opt/conda/bin/python /kaggle/working/Recsys_Challenge_2023/CythonCompiler/compile_script.py SLIM_BPR_Cython_Epoch.pyx build_ext --inplace' returned non-zero exit status 1.\r\n",
      "Compiling [6/10]: SLIM_BPR_Cython_Epoch.pyx... FAIL: Command '/opt/conda/bin/python /kaggle/working/Recsys_Challenge_2023/CythonCompiler/compile_script.py SLIM_BPR_Cython_Epoch.pyx build_ext --inplace' returned non-zero exit status 1.\r\n",
      "\r\n",
      "Compiling [7/10]: HP3_Similarity_Cython_SGD.pyx... \r\n",
      "warning: HP3_Similarity_Cython_SGD.pyx:113:40: Index should be typed for more efficient access\r\n",
      "In file included from \u001b[01m\u001b[K/opt/conda/lib/python3.10/site-packages/numpy/core/include/numpy/ndarraytypes.h:1940\u001b[m\u001b[K,\r\n",
      "                 from \u001b[01m\u001b[K/opt/conda/lib/python3.10/site-packages/numpy/core/include/numpy/ndarrayobject.h:12\u001b[m\u001b[K,\r\n",
      "                 from \u001b[01m\u001b[K/opt/conda/lib/python3.10/site-packages/numpy/core/include/numpy/arrayobject.h:5\u001b[m\u001b[K,\r\n",
      "                 from \u001b[01m\u001b[KHP3_Similarity_Cython_SGD.c:1109\u001b[m\u001b[K:\r\n",
      "\u001b[01m\u001b[K/opt/conda/lib/python3.10/site-packages/numpy/core/include/numpy/npy_1_7_deprecated_api.h:17:2:\u001b[m\u001b[K \u001b[01;35m\u001b[Kwarning: \u001b[m\u001b[K#warning \"Using deprecated NumPy API, disable it with \" \"#define NPY_NO_DEPRECATED_API NPY_1_7_API_VERSION\" [\u001b[01;35m\u001b[K-Wcpp\u001b[m\u001b[K]\r\n",
      "   17 | #\u001b[01;35m\u001b[Kwarning\u001b[m\u001b[K \"Using deprecated NumPy API, disable it with \" \\\r\n",
      "      |  \u001b[01;35m\u001b[K^~~~~~~\u001b[m\u001b[K\r\n",
      "\u001b[01m\u001b[KHP3_Similarity_Cython_SGD.c:\u001b[m\u001b[K In function ‘\u001b[01m\u001b[K__pyx_pf_25HP3_Similarity_Cython_SGD_25HP3_Similarity_Cython_SGD_4fit\u001b[m\u001b[K’:\r\n",
      "\u001b[01m\u001b[KHP3_Similarity_Cython_SGD.c:23035:55:\u001b[m\u001b[K \u001b[01;35m\u001b[Kwarning: \u001b[m\u001b[K‘\u001b[01m\u001b[K__pyx_v_sample_num\u001b[m\u001b[K’ may be used uninitialized in this function [\u001b[01;35m\u001b[K-Wmaybe-uninitialized\u001b[m\u001b[K]\r\n",
      "23035 |   __pyx_t_1 = PyFloat_FromDouble((__pyx_v_cum_loss / \u001b[01;35m\u001b[K((double)__pyx_v_sample_num)\u001b[m\u001b[K)); if (unlikely(!__pyx_t_1)) __PYX_ERR(0, 291, __pyx_L1_error)\r\n",
      "      |                                                      \u001b[01;35m\u001b[K~^~~~~~~~~~~~~~~~~~~~~~~~~~~\u001b[m\u001b[K\r\n",
      "/opt/conda/lib/python3.10/site-packages/Cython/Compiler/Main.py:381: FutureWarning: Cython directive 'language_level' not set, using '3str' for now (Py3). This has changed from earlier releases! File: /kaggle/working/Recsys_Challenge_2023/Recommenders/FeatureWeighting/Cython/HP3_Similarity_Cython_SGD.pyx\r\n",
      "  tree = Parsing.p_module(s, pxd, full_module_name)\r\n",
      "warning: HP3_Similarity_Cython_SGD.pyx:113:40: Index should be typed for more efficient access\r\n",
      "Compiling [7/10]: HP3_Similarity_Cython_SGD.pyx... PASS\r\n",
      "\r\n",
      "Compiling [8/10]: FBSM_Rating_Cython_SGD.pyx... \r\n",
      "In file included from \u001b[01m\u001b[K/opt/conda/lib/python3.10/site-packages/numpy/core/include/numpy/ndarraytypes.h:1940\u001b[m\u001b[K,\r\n",
      "                 from \u001b[01m\u001b[K/opt/conda/lib/python3.10/site-packages/numpy/core/include/numpy/ndarrayobject.h:12\u001b[m\u001b[K,\r\n",
      "                 from \u001b[01m\u001b[K/opt/conda/lib/python3.10/site-packages/numpy/core/include/numpy/arrayobject.h:5\u001b[m\u001b[K,\r\n",
      "                 from \u001b[01m\u001b[KFBSM_Rating_Cython_SGD.c:1109\u001b[m\u001b[K:\r\n",
      "\u001b[01m\u001b[K/opt/conda/lib/python3.10/site-packages/numpy/core/include/numpy/npy_1_7_deprecated_api.h:17:2:\u001b[m\u001b[K \u001b[01;35m\u001b[Kwarning: \u001b[m\u001b[K#warning \"Using deprecated NumPy API, disable it with \" \"#define NPY_NO_DEPRECATED_API NPY_1_7_API_VERSION\" [\u001b[01;35m\u001b[K-Wcpp\u001b[m\u001b[K]\r\n",
      "   17 | #\u001b[01;35m\u001b[Kwarning\u001b[m\u001b[K \"Using deprecated NumPy API, disable it with \" \\\r\n",
      "      |  \u001b[01;35m\u001b[K^~~~~~~\u001b[m\u001b[K\r\n",
      "\u001b[01m\u001b[KFBSM_Rating_Cython_SGD.c:\u001b[m\u001b[K In function ‘\u001b[01m\u001b[K__pyx_pf_22FBSM_Rating_Cython_SGD_22FBSM_Rating_Cython_SGD_2fit\u001b[m\u001b[K’:\r\n",
      "\u001b[01m\u001b[KFBSM_Rating_Cython_SGD.c:26038:55:\u001b[m\u001b[K \u001b[01;35m\u001b[Kwarning: \u001b[m\u001b[K‘\u001b[01m\u001b[K__pyx_v_num_sample\u001b[m\u001b[K’ may be used uninitialized in this function [\u001b[01;35m\u001b[K-Wmaybe-uninitialized\u001b[m\u001b[K]\r\n",
      "26038 |   __pyx_t_5 = PyFloat_FromDouble((__pyx_v_cum_loss / \u001b[01;35m\u001b[K((double)__pyx_v_num_sample)\u001b[m\u001b[K)); if (unlikely(!__pyx_t_5)) __PYX_ERR(0, 551, __pyx_L1_error)\r\n",
      "      |                                                      \u001b[01;35m\u001b[K~^~~~~~~~~~~~~~~~~~~~~~~~~~~\u001b[m\u001b[K\r\n",
      "/opt/conda/lib/python3.10/site-packages/Cython/Compiler/Main.py:381: FutureWarning: Cython directive 'language_level' not set, using '3str' for now (Py3). This has changed from earlier releases! File: /kaggle/working/Recsys_Challenge_2023/Recommenders/FeatureWeighting/Cython/FBSM_Rating_Cython_SGD.pyx\r\n",
      "  tree = Parsing.p_module(s, pxd, full_module_name)\r\n",
      "Compiling [8/10]: FBSM_Rating_Cython_SGD.pyx... PASS\r\n",
      "\r\n",
      "Compiling [9/10]: CFW_DVV_Similarity_Cython_SGD.pyx... \r\n",
      "In file included from \u001b[01m\u001b[K/opt/conda/lib/python3.10/site-packages/numpy/core/include/numpy/ndarraytypes.h:1940\u001b[m\u001b[K,\r\n",
      "                 from \u001b[01m\u001b[K/opt/conda/lib/python3.10/site-packages/numpy/core/include/numpy/ndarrayobject.h:12\u001b[m\u001b[K,\r\n",
      "                 from \u001b[01m\u001b[K/opt/conda/lib/python3.10/site-packages/numpy/core/include/numpy/arrayobject.h:5\u001b[m\u001b[K,\r\n",
      "                 from \u001b[01m\u001b[KCFW_DVV_Similarity_Cython_SGD.c:1109\u001b[m\u001b[K:\r\n",
      "\u001b[01m\u001b[K/opt/conda/lib/python3.10/site-packages/numpy/core/include/numpy/npy_1_7_deprecated_api.h:17:2:\u001b[m\u001b[K \u001b[01;35m\u001b[Kwarning: \u001b[m\u001b[K#warning \"Using deprecated NumPy API, disable it with \" \"#define NPY_NO_DEPRECATED_API NPY_1_7_API_VERSION\" [\u001b[01;35m\u001b[K-Wcpp\u001b[m\u001b[K]\r\n",
      "   17 | #\u001b[01;35m\u001b[Kwarning\u001b[m\u001b[K \"Using deprecated NumPy API, disable it with \" \\\r\n",
      "      |  \u001b[01;35m\u001b[K^~~~~~~\u001b[m\u001b[K\r\n",
      "/opt/conda/lib/python3.10/site-packages/Cython/Compiler/Main.py:381: FutureWarning: Cython directive 'language_level' not set, using '3str' for now (Py3). This has changed from earlier releases! File: /kaggle/working/Recsys_Challenge_2023/Recommenders/FeatureWeighting/Cython/CFW_DVV_Similarity_Cython_SGD.pyx\r\n",
      "  tree = Parsing.p_module(s, pxd, full_module_name)\r\n",
      "Compiling [9/10]: CFW_DVV_Similarity_Cython_SGD.pyx... PASS\r\n",
      "\r\n",
      "Compiling [10/10]: CFW_D_Similarity_Cython_SGD.pyx... \r\n",
      "In file included from \u001b[01m\u001b[K/opt/conda/lib/python3.10/site-packages/numpy/core/include/numpy/ndarraytypes.h:1940\u001b[m\u001b[K,\r\n",
      "                 from \u001b[01m\u001b[K/opt/conda/lib/python3.10/site-packages/numpy/core/include/numpy/ndarrayobject.h:12\u001b[m\u001b[K,\r\n",
      "                 from \u001b[01m\u001b[K/opt/conda/lib/python3.10/site-packages/numpy/core/include/numpy/arrayobject.h:5\u001b[m\u001b[K,\r\n",
      "                 from \u001b[01m\u001b[KCFW_D_Similarity_Cython_SGD.c:1109\u001b[m\u001b[K:\r\n",
      "\u001b[01m\u001b[K/opt/conda/lib/python3.10/site-packages/numpy/core/include/numpy/npy_1_7_deprecated_api.h:17:2:\u001b[m\u001b[K \u001b[01;35m\u001b[Kwarning: \u001b[m\u001b[K#warning \"Using deprecated NumPy API, disable it with \" \"#define NPY_NO_DEPRECATED_API NPY_1_7_API_VERSION\" [\u001b[01;35m\u001b[K-Wcpp\u001b[m\u001b[K]\r\n",
      "   17 | #\u001b[01;35m\u001b[Kwarning\u001b[m\u001b[K \"Using deprecated NumPy API, disable it with \" \\\r\n",
      "      |  \u001b[01;35m\u001b[K^~~~~~~\u001b[m\u001b[K\r\n",
      "\u001b[01m\u001b[KCFW_D_Similarity_Cython_SGD.c:\u001b[m\u001b[K In function ‘\u001b[01m\u001b[K__pyx_pf_27CFW_D_Similarity_Cython_SGD_27CFW_D_Similarity_Cython_SGD_6fit\u001b[m\u001b[K’:\r\n",
      "\u001b[01m\u001b[KCFW_D_Similarity_Cython_SGD.c:22766:55:\u001b[m\u001b[K \u001b[01;35m\u001b[Kwarning: \u001b[m\u001b[K‘\u001b[01m\u001b[K__pyx_v_sample_num\u001b[m\u001b[K’ may be used uninitialized in this function [\u001b[01;35m\u001b[K-Wmaybe-uninitialized\u001b[m\u001b[K]\r\n",
      "22766 |   __pyx_t_3 = PyFloat_FromDouble((__pyx_v_cum_loss / \u001b[01;35m\u001b[K((double)__pyx_v_sample_num)\u001b[m\u001b[K)); if (unlikely(!__pyx_t_3)) __PYX_ERR(0, 290, __pyx_L1_error)\r\n",
      "      |                                                      \u001b[01;35m\u001b[K~^~~~~~~~~~~~~~~~~~~~~~~~~~~\u001b[m\u001b[K\r\n",
      "/opt/conda/lib/python3.10/site-packages/Cython/Compiler/Main.py:381: FutureWarning: Cython directive 'language_level' not set, using '3str' for now (Py3). This has changed from earlier releases! File: /kaggle/working/Recsys_Challenge_2023/Recommenders/FeatureWeighting/Cython/CFW_D_Similarity_Cython_SGD.pyx\r\n",
      "  tree = Parsing.p_module(s, pxd, full_module_name)\r\n",
      "Compiling [10/10]: CFW_D_Similarity_Cython_SGD.pyx... PASS\r\n",
      "\r\n",
      "run_compile_all_cython: Compilation finished. FAILS 2/10.\r\n",
      "Compilation log can be found here: './result_experiments/run_compile_all_cython.txt'\r\n"
     ]
    }
   ],
   "source": [
    "! cd /kaggle/working/Recsys_Challenge_2023 && python run_compile_all_cython.py"
   ]
  },
  {
   "cell_type": "code",
   "execution_count": 4,
   "id": "fdd031e1",
   "metadata": {
    "_kg_hide-output": true,
    "execution": {
     "iopub.execute_input": "2023-12-08T22:29:38.248968Z",
     "iopub.status.busy": "2023-12-08T22:29:38.248397Z",
     "iopub.status.idle": "2023-12-08T22:29:43.051968Z",
     "shell.execute_reply": "2023-12-08T22:29:43.050644Z"
    },
    "papermill": {
     "duration": 4.833464,
     "end_time": "2023-12-08T22:29:43.055339",
     "exception": false,
     "start_time": "2023-12-08T22:29:38.221875",
     "status": "completed"
    },
    "scrolled": true,
    "tags": []
   },
   "outputs": [
    {
     "name": "stdout",
     "output_type": "stream",
     "text": [
      "/kaggle/input/recommender-system-2023-challenge-polimi/data_train.csv\n",
      "/kaggle/input/recommender-system-2023-challenge-polimi/data_target_users_test.csv\n",
      "/kaggle/input/training-tuned-models/__results__.html\n",
      "/kaggle/input/training-tuned-models/ease_r_all.zip\n",
      "/kaggle/input/training-tuned-models/ease_r_train_validation.zip\n",
      "/kaggle/input/training-tuned-models/__notebook__.ipynb\n",
      "/kaggle/input/training-tuned-models/ials_xgboost_train_validation.zip\n",
      "/kaggle/input/training-tuned-models/ials_train_validation.zip\n",
      "/kaggle/input/training-tuned-models/ease_r_xgboost_train_validation.zip\n",
      "/kaggle/input/training-tuned-models/__output__.json\n",
      "/kaggle/input/training-tuned-models/ials_all.zip\n",
      "/kaggle/input/training-tuned-models/custom.css\n",
      "/kaggle/input/training-tuned-models/Recsys_Challenge_2023/run_all_algorithms.py\n",
      "/kaggle/input/training-tuned-models/Recsys_Challenge_2023/cython_example_FunkSVD.py\n",
      "/kaggle/input/training-tuned-models/Recsys_Challenge_2023/LICENSE\n",
      "/kaggle/input/training-tuned-models/Recsys_Challenge_2023/.gitignore\n",
      "/kaggle/input/training-tuned-models/Recsys_Challenge_2023/rp3-tuning.ipynb\n",
      "/kaggle/input/training-tuned-models/Recsys_Challenge_2023/README.md\n",
      "/kaggle/input/training-tuned-models/Recsys_Challenge_2023/run_hyperparameter_search.py\n",
      "/kaggle/input/training-tuned-models/Recsys_Challenge_2023/cython_example_SLIM_MSE.py\n",
      "/kaggle/input/training-tuned-models/Recsys_Challenge_2023/requirements.txt\n",
      "/kaggle/input/training-tuned-models/Recsys_Challenge_2023/run_test_recommenders.py\n",
      "/kaggle/input/training-tuned-models/Recsys_Challenge_2023/run_compile_all_cython.py\n",
      "/kaggle/input/training-tuned-models/Recsys_Challenge_2023/slim-tuning.ipynb\n",
      "/kaggle/input/training-tuned-models/Recsys_Challenge_2023/matrix-factorization.ipynb\n",
      "/kaggle/input/training-tuned-models/Recsys_Challenge_2023/hybrid.ipynb\n",
      "/kaggle/input/training-tuned-models/Recsys_Challenge_2023/Data_manager/DataSplitter_Holdout.py\n",
      "/kaggle/input/training-tuned-models/Recsys_Challenge_2023/Data_manager/DataSplitter.py\n",
      "/kaggle/input/training-tuned-models/Recsys_Challenge_2023/Data_manager/DatasetMapperManager.py\n",
      "/kaggle/input/training-tuned-models/Recsys_Challenge_2023/Data_manager/data_consistency_check.py\n",
      "/kaggle/input/training-tuned-models/Recsys_Challenge_2023/Data_manager/README.md\n",
      "/kaggle/input/training-tuned-models/Recsys_Challenge_2023/Data_manager/TagPreprocessing.py\n",
      "/kaggle/input/training-tuned-models/Recsys_Challenge_2023/Data_manager/DataReader.py\n",
      "/kaggle/input/training-tuned-models/Recsys_Challenge_2023/Data_manager/DataReader_utils.py\n",
      "/kaggle/input/training-tuned-models/Recsys_Challenge_2023/Data_manager/IncrementalSparseMatrix.py\n",
      "/kaggle/input/training-tuned-models/Recsys_Challenge_2023/Data_manager/run_clean_split_data_files.py\n",
      "/kaggle/input/training-tuned-models/Recsys_Challenge_2023/Data_manager/Dataset.py\n",
      "/kaggle/input/training-tuned-models/Recsys_Challenge_2023/Data_manager/DataSplitter_leave_k_out.py\n",
      "/kaggle/input/training-tuned-models/Recsys_Challenge_2023/Data_manager/CrossValidationSplitter.py\n",
      "/kaggle/input/training-tuned-models/Recsys_Challenge_2023/Data_manager/__init__.py\n",
      "/kaggle/input/training-tuned-models/Recsys_Challenge_2023/Data_manager/__pycache__/data_consistency_check.cpython-310.pyc\n",
      "/kaggle/input/training-tuned-models/Recsys_Challenge_2023/Data_manager/__pycache__/DatasetMapperManager.cpython-310.pyc\n",
      "/kaggle/input/training-tuned-models/Recsys_Challenge_2023/Data_manager/__pycache__/IncrementalSparseMatrix.cpython-310.pyc\n",
      "/kaggle/input/training-tuned-models/Recsys_Challenge_2023/Data_manager/__pycache__/DataReader.cpython-310.pyc\n",
      "/kaggle/input/training-tuned-models/Recsys_Challenge_2023/Data_manager/__pycache__/DataReader_utils.cpython-310.pyc\n",
      "/kaggle/input/training-tuned-models/Recsys_Challenge_2023/Data_manager/__pycache__/__init__.cpython-310.pyc\n",
      "/kaggle/input/training-tuned-models/Recsys_Challenge_2023/Data_manager/__pycache__/Dataset.cpython-310.pyc\n",
      "/kaggle/input/training-tuned-models/Recsys_Challenge_2023/Data_manager/split_functions/split_train_validation_leave_k_out.py\n",
      "/kaggle/input/training-tuned-models/Recsys_Challenge_2023/Data_manager/split_functions/split_train_validation_cold_items.py\n",
      "/kaggle/input/training-tuned-models/Recsys_Challenge_2023/Data_manager/split_functions/split_train_validation_random_holdout.py\n",
      "/kaggle/input/training-tuned-models/Recsys_Challenge_2023/Data_manager/split_functions/__pycache__/split_train_validation_random_holdout.cpython-310.pyc\n",
      "/kaggle/input/training-tuned-models/Recsys_Challenge_2023/Data_manager/Movielens/Movielens10MReader.py\n",
      "/kaggle/input/training-tuned-models/Recsys_Challenge_2023/Data_manager/Movielens/Movielens1MReader.py\n",
      "/kaggle/input/training-tuned-models/Recsys_Challenge_2023/Data_manager/Movielens/Movielens100KReader.py\n",
      "/kaggle/input/training-tuned-models/Recsys_Challenge_2023/Data_manager/Movielens/MovielensHetrec2011Reader.py\n",
      "/kaggle/input/training-tuned-models/Recsys_Challenge_2023/Data_manager/Movielens/_utils_movielens_parser.py\n",
      "/kaggle/input/training-tuned-models/Recsys_Challenge_2023/Data_manager/Movielens/Movielens20MReader.py\n",
      "/kaggle/input/training-tuned-models/Recsys_Challenge_2023/Data_manager/Movielens/__pycache__/Movielens10MReader.cpython-310.pyc\n",
      "/kaggle/input/training-tuned-models/Recsys_Challenge_2023/Data_manager/Movielens/__pycache__/Movielens1MReader.cpython-310.pyc\n",
      "/kaggle/input/training-tuned-models/Recsys_Challenge_2023/Data_manager/Movielens/__pycache__/_utils_movielens_parser.cpython-310.pyc\n",
      "/kaggle/input/training-tuned-models/Recsys_Challenge_2023/Data_manager/Movielens/__pycache__/Movielens20MReader.cpython-310.pyc\n",
      "/kaggle/input/training-tuned-models/Recsys_Challenge_2023/Data_manager/Movielens/__pycache__/Movielens100KReader.cpython-310.pyc\n",
      "/kaggle/input/training-tuned-models/Recsys_Challenge_2023/Data_manager/Movielens/__pycache__/MovielensHetrec2011Reader.cpython-310.pyc\n",
      "/kaggle/input/training-tuned-models/Recsys_Challenge_2023/Utils/seconds_to_biggest_unit.py\n",
      "/kaggle/input/training-tuned-models/Recsys_Challenge_2023/Utils/PyTorch/utils.py\n",
      "/kaggle/input/training-tuned-models/Recsys_Challenge_2023/Utils/PyTorch/DataSampler.py\n",
      "/kaggle/input/training-tuned-models/Recsys_Challenge_2023/Utils/PyTorch/DataIterator.py\n",
      "/kaggle/input/training-tuned-models/Recsys_Challenge_2023/Utils/PyTorch/Cython/DataIterator.pyx\n",
      "/kaggle/input/training-tuned-models/Recsys_Challenge_2023/Utils/__pycache__/seconds_to_biggest_unit.cpython-310.pyc\n",
      "/kaggle/input/training-tuned-models/Recsys_Challenge_2023/Notebooks_utils/Cosine_Similarity_Cython_SLOW.cpython-36m-x86_64-linux-gnu.so\n",
      "/kaggle/input/training-tuned-models/Recsys_Challenge_2023/Notebooks_utils/Cosine_Similarity_Cython_SLOW.c\n",
      "/kaggle/input/training-tuned-models/Recsys_Challenge_2023/Notebooks_utils/compileCython.py\n",
      "/kaggle/input/training-tuned-models/Recsys_Challenge_2023/Notebooks_utils/Cosine_Similarity_Cython.pyx\n",
      "/kaggle/input/training-tuned-models/Recsys_Challenge_2023/Notebooks_utils/Cosine_Similarity_Cython.html\n",
      "/kaggle/input/training-tuned-models/Recsys_Challenge_2023/Notebooks_utils/Compute_Similarity_Python.py\n",
      "/kaggle/input/training-tuned-models/Recsys_Challenge_2023/Notebooks_utils/Cosine_Similarity_Cython.c\n",
      "/kaggle/input/training-tuned-models/Recsys_Challenge_2023/Notebooks_utils/Cosine_Similarity_Cython.cpython-36m-x86_64-linux-gnu.so\n",
      "/kaggle/input/training-tuned-models/Recsys_Challenge_2023/Notebooks_utils/Cosine_Similarity_Cython_SLOW.pyx\n",
      "/kaggle/input/training-tuned-models/Recsys_Challenge_2023/Notebooks_utils/Cosine_Similarity_Cython_SLOW.html\n",
      "/kaggle/input/training-tuned-models/Recsys_Challenge_2023/CythonCompiler/compile_script.py\n",
      "/kaggle/input/training-tuned-models/Recsys_Challenge_2023/CythonCompiler/run_compile_subprocess.py\n",
      "/kaggle/input/training-tuned-models/Recsys_Challenge_2023/CythonCompiler/__pycache__/run_compile_subprocess.cpython-310.pyc\n",
      "/kaggle/input/training-tuned-models/Recsys_Challenge_2023/Recommenders/IR_feature_weighting.py\n",
      "/kaggle/input/training-tuned-models/Recsys_Challenge_2023/Recommenders/Incremental_Training_Early_Stopping.py\n",
      "/kaggle/input/training-tuned-models/Recsys_Challenge_2023/Recommenders/BaseMatrixFactorizationRecommender.py\n",
      "/kaggle/input/training-tuned-models/Recsys_Challenge_2023/Recommenders/BaseRecommender.py\n",
      "/kaggle/input/training-tuned-models/Recsys_Challenge_2023/Recommenders/BaseCBFRecommender.py\n",
      "/kaggle/input/training-tuned-models/Recsys_Challenge_2023/Recommenders/Recommender_import_list.py\n",
      "/kaggle/input/training-tuned-models/Recsys_Challenge_2023/Recommenders/BaseTempFolder.py\n",
      "/kaggle/input/training-tuned-models/Recsys_Challenge_2023/Recommenders/Recommender_utils.py\n",
      "/kaggle/input/training-tuned-models/Recsys_Challenge_2023/Recommenders/NonPersonalizedRecommender.py\n",
      "/kaggle/input/training-tuned-models/Recsys_Challenge_2023/Recommenders/BaseSimilarityMatrixRecommender.py\n",
      "/kaggle/input/training-tuned-models/Recsys_Challenge_2023/Recommenders/DataIO.py\n",
      "/kaggle/input/training-tuned-models/Recsys_Challenge_2023/Recommenders/PredefinedListRecommender.py\n",
      "/kaggle/input/training-tuned-models/Recsys_Challenge_2023/Recommenders/Similarity/Compute_similarity_euclidean_test.py\n",
      "/kaggle/input/training-tuned-models/Recsys_Challenge_2023/Recommenders/Similarity/Compute_Similarity_Euclidean.py\n",
      "/kaggle/input/training-tuned-models/Recsys_Challenge_2023/Recommenders/Similarity/Compute_Similarity_Python.py\n",
      "/kaggle/input/training-tuned-models/Recsys_Challenge_2023/Recommenders/Similarity/Compute_Similarity.py\n",
      "/kaggle/input/training-tuned-models/Recsys_Challenge_2023/Recommenders/Similarity/Compute_similarity_test.py\n",
      "/kaggle/input/training-tuned-models/Recsys_Challenge_2023/Recommenders/Similarity/__pycache__/Compute_Similarity_Python.cpython-310.pyc\n",
      "/kaggle/input/training-tuned-models/Recsys_Challenge_2023/Recommenders/Similarity/__pycache__/Compute_Similarity.cpython-310.pyc\n",
      "/kaggle/input/training-tuned-models/Recsys_Challenge_2023/Recommenders/Similarity/__pycache__/Compute_Similarity_Euclidean.cpython-310.pyc\n",
      "/kaggle/input/training-tuned-models/Recsys_Challenge_2023/Recommenders/Similarity/Cython/Compute_Similarity_Cython.cpython-310-x86_64-linux-gnu.so\n",
      "/kaggle/input/training-tuned-models/Recsys_Challenge_2023/Recommenders/Similarity/Cython/Compute_Similarity_Cython.pyx\n",
      "/kaggle/input/training-tuned-models/Recsys_Challenge_2023/Recommenders/Similarity/Cython/Compute_Similarity_Cython.html\n",
      "/kaggle/input/training-tuned-models/Recsys_Challenge_2023/Recommenders/Similarity/Cython/Compute_Similarity_Cython.c\n",
      "/kaggle/input/training-tuned-models/Recsys_Challenge_2023/Recommenders/EASE_R/EASE_R_Recommender.py\n",
      "/kaggle/input/training-tuned-models/Recsys_Challenge_2023/Recommenders/EASE_R/__pycache__/EASE_R_Recommender.cpython-310.pyc\n",
      "/kaggle/input/training-tuned-models/Recsys_Challenge_2023/Recommenders/SLIM/SLIMElasticNetRecommender.py\n",
      "/kaggle/input/training-tuned-models/Recsys_Challenge_2023/Recommenders/SLIM/SLIM_BPR_Python.py\n",
      "/kaggle/input/training-tuned-models/Recsys_Challenge_2023/Recommenders/SLIM/__pycache__/SLIMElasticNetRecommender.cpython-310.pyc\n",
      "/kaggle/input/training-tuned-models/Recsys_Challenge_2023/Recommenders/SLIM/__pycache__/SLIM_BPR_Python.cpython-310.pyc\n",
      "/kaggle/input/training-tuned-models/Recsys_Challenge_2023/Recommenders/SLIM/Cython/Triangular_Matrix.cpython-310-x86_64-linux-gnu.so\n",
      "/kaggle/input/training-tuned-models/Recsys_Challenge_2023/Recommenders/SLIM/Cython/Triangular_Matrix.c\n",
      "/kaggle/input/training-tuned-models/Recsys_Challenge_2023/Recommenders/SLIM/Cython/SLIM_BPR_Cython.py\n",
      "/kaggle/input/training-tuned-models/Recsys_Challenge_2023/Recommenders/SLIM/Cython/Sparse_Matrix_Tree_CSR.pyx\n",
      "/kaggle/input/training-tuned-models/Recsys_Challenge_2023/Recommenders/SLIM/Cython/Triangular_Matrix.pyx\n",
      "/kaggle/input/training-tuned-models/Recsys_Challenge_2023/Recommenders/SLIM/Cython/SLIM_BPR_Cython_Epoch.pyx\n",
      "/kaggle/input/training-tuned-models/Recsys_Challenge_2023/Recommenders/SLIM/Cython/Triangular_Matrix.html\n",
      "/kaggle/input/training-tuned-models/Recsys_Challenge_2023/Recommenders/GraphBased/RP3betaRecommender.py\n",
      "/kaggle/input/training-tuned-models/Recsys_Challenge_2023/Recommenders/GraphBased/P3alphaRecommender.py\n",
      "/kaggle/input/training-tuned-models/Recsys_Challenge_2023/Recommenders/GraphBased/__pycache__/RP3betaRecommender.cpython-310.pyc\n",
      "/kaggle/input/training-tuned-models/Recsys_Challenge_2023/Recommenders/GraphBased/__pycache__/P3alphaRecommender.cpython-310.pyc\n",
      "/kaggle/input/training-tuned-models/Recsys_Challenge_2023/Recommenders/FactorizationMachines/LightFMRecommender.py\n",
      "/kaggle/input/training-tuned-models/Recsys_Challenge_2023/Recommenders/__pycache__/BaseRecommender.cpython-310.pyc\n",
      "/kaggle/input/training-tuned-models/Recsys_Challenge_2023/Recommenders/__pycache__/BaseSimilarityMatrixRecommender.cpython-310.pyc\n",
      "/kaggle/input/training-tuned-models/Recsys_Challenge_2023/Recommenders/__pycache__/BaseMatrixFactorizationRecommender.cpython-310.pyc\n",
      "/kaggle/input/training-tuned-models/Recsys_Challenge_2023/Recommenders/__pycache__/Incremental_Training_Early_Stopping.cpython-310.pyc\n",
      "/kaggle/input/training-tuned-models/Recsys_Challenge_2023/Recommenders/__pycache__/IR_feature_weighting.cpython-310.pyc\n",
      "/kaggle/input/training-tuned-models/Recsys_Challenge_2023/Recommenders/__pycache__/DataIO.cpython-310.pyc\n",
      "/kaggle/input/training-tuned-models/Recsys_Challenge_2023/Recommenders/__pycache__/BaseTempFolder.cpython-310.pyc\n",
      "/kaggle/input/training-tuned-models/Recsys_Challenge_2023/Recommenders/__pycache__/Recommender_utils.cpython-310.pyc\n",
      "/kaggle/input/training-tuned-models/Recsys_Challenge_2023/Recommenders/KNN/ItemKNNCustomSimilarityRecommender.py\n",
      "/kaggle/input/training-tuned-models/Recsys_Challenge_2023/Recommenders/KNN/ItemKNNCBFRecommender.py\n",
      "/kaggle/input/training-tuned-models/Recsys_Challenge_2023/Recommenders/KNN/ItemKNNSimilarityHybridRecommender.py\n",
      "/kaggle/input/training-tuned-models/Recsys_Challenge_2023/Recommenders/KNN/UserKNNCBFRecommender.py\n",
      "/kaggle/input/training-tuned-models/Recsys_Challenge_2023/Recommenders/KNN/ItemKNNCFRecommender.py\n",
      "/kaggle/input/training-tuned-models/Recsys_Challenge_2023/Recommenders/KNN/UserKNN_CFCBF_Hybrid_Recommender.py\n",
      "/kaggle/input/training-tuned-models/Recsys_Challenge_2023/Recommenders/KNN/ItemKNN_CFCBF_Hybrid_Recommender.py\n",
      "/kaggle/input/training-tuned-models/Recsys_Challenge_2023/Recommenders/KNN/UserKNNCFRecommender.py\n",
      "/kaggle/input/training-tuned-models/Recsys_Challenge_2023/Recommenders/KNN/__pycache__/UserKNNCFRecommender.cpython-310.pyc\n",
      "/kaggle/input/training-tuned-models/Recsys_Challenge_2023/Recommenders/KNN/__pycache__/ItemKNNCFRecommender.cpython-310.pyc\n",
      "/kaggle/input/training-tuned-models/Recsys_Challenge_2023/Recommenders/Neural/architecture_utils.py\n",
      "/kaggle/input/training-tuned-models/Recsys_Challenge_2023/Recommenders/Neural/MultVAERecommender.py\n",
      "/kaggle/input/training-tuned-models/Recsys_Challenge_2023/Recommenders/Neural/MultVAE_PyTorch_Recommender.py\n",
      "/kaggle/input/training-tuned-models/Recsys_Challenge_2023/Recommenders/Neural/__pycache__/MultVAERecommender.cpython-310.pyc\n",
      "/kaggle/input/training-tuned-models/Recsys_Challenge_2023/Recommenders/Neural/__pycache__/architecture_utils.cpython-310.pyc\n",
      "/kaggle/input/training-tuned-models/Recsys_Challenge_2023/Recommenders/Hybrid/LinearCombinationRecommender.py\n",
      "/kaggle/input/training-tuned-models/Recsys_Challenge_2023/Recommenders/Hybrid/RoundRobinListCombinationRecommender.py\n",
      "/kaggle/input/training-tuned-models/Recsys_Challenge_2023/Recommenders/Hybrid/PipelineRecommender.py\n",
      "/kaggle/input/training-tuned-models/Recsys_Challenge_2023/Recommenders/FeatureWeighting/CFW_D_Similarity_Linalg.py\n",
      "/kaggle/input/training-tuned-models/Recsys_Challenge_2023/Recommenders/FeatureWeighting/Cython/CFW_D_Similarity_Cython_SGD.cpython-310-x86_64-linux-gnu.so\n",
      "/kaggle/input/training-tuned-models/Recsys_Challenge_2023/Recommenders/FeatureWeighting/Cython/HP3_Similarity_Cython_SGD.c\n",
      "/kaggle/input/training-tuned-models/Recsys_Challenge_2023/Recommenders/FeatureWeighting/Cython/FBSM_Rating_Cython_SGD.c\n",
      "/kaggle/input/training-tuned-models/Recsys_Challenge_2023/Recommenders/FeatureWeighting/Cython/CFW_DVV_Similarity_Cython_SGD.pyx\n",
      "/kaggle/input/training-tuned-models/Recsys_Challenge_2023/Recommenders/FeatureWeighting/Cython/FBSM_Rating_Cython_SGD.cpython-310-x86_64-linux-gnu.so\n",
      "/kaggle/input/training-tuned-models/Recsys_Challenge_2023/Recommenders/FeatureWeighting/Cython/CFW_D_Similarity_Cython_SGD.html\n",
      "/kaggle/input/training-tuned-models/Recsys_Challenge_2023/Recommenders/FeatureWeighting/Cython/FBSM_Rating_Cython.py\n",
      "/kaggle/input/training-tuned-models/Recsys_Challenge_2023/Recommenders/FeatureWeighting/Cython/CFW_DVV_Similarity_Cython_SGD.html\n",
      "/kaggle/input/training-tuned-models/Recsys_Challenge_2023/Recommenders/FeatureWeighting/Cython/CFW_DVV_Similarity_Cython_SGD.cpython-310-x86_64-linux-gnu.so\n",
      "/kaggle/input/training-tuned-models/Recsys_Challenge_2023/Recommenders/FeatureWeighting/Cython/HP3_Similarity_Cython.py\n",
      "/kaggle/input/training-tuned-models/Recsys_Challenge_2023/Recommenders/FeatureWeighting/Cython/CFW_D_Similarity_Cython_SGD.c\n",
      "/kaggle/input/training-tuned-models/Recsys_Challenge_2023/Recommenders/FeatureWeighting/Cython/CFW_D_Similarity_Cython_SGD.pyx\n",
      "/kaggle/input/training-tuned-models/Recsys_Challenge_2023/Recommenders/FeatureWeighting/Cython/CFW_D_Similarity_Cython.py\n",
      "/kaggle/input/training-tuned-models/Recsys_Challenge_2023/Recommenders/FeatureWeighting/Cython/FBSM_Rating_Cython_SGD.pyx\n",
      "/kaggle/input/training-tuned-models/Recsys_Challenge_2023/Recommenders/FeatureWeighting/Cython/CFW_DVV_Similarity_Cython_SGD.c\n",
      "/kaggle/input/training-tuned-models/Recsys_Challenge_2023/Recommenders/FeatureWeighting/Cython/HP3_Similarity_Cython_SGD.cpython-310-x86_64-linux-gnu.so\n",
      "/kaggle/input/training-tuned-models/Recsys_Challenge_2023/Recommenders/FeatureWeighting/Cython/HP3_Similarity_Cython_SGD.pyx\n",
      "/kaggle/input/training-tuned-models/Recsys_Challenge_2023/Recommenders/FeatureWeighting/Cython/CFW_DVV_Similarity_Cython.py\n",
      "/kaggle/input/training-tuned-models/Recsys_Challenge_2023/Recommenders/FeatureWeighting/Cython/FBSM_Rating_Cython_SGD.html\n",
      "/kaggle/input/training-tuned-models/Recsys_Challenge_2023/Recommenders/FeatureWeighting/Cython/HP3_Similarity_Cython_SGD.html\n",
      "/kaggle/input/training-tuned-models/Recsys_Challenge_2023/Recommenders/MatrixFactorization/IALSRecommender.py\n",
      "/kaggle/input/training-tuned-models/Recsys_Challenge_2023/Recommenders/MatrixFactorization/NMFRecommender.py\n",
      "/kaggle/input/training-tuned-models/Recsys_Challenge_2023/Recommenders/MatrixFactorization/PureSVDRecommender.py\n",
      "/kaggle/input/training-tuned-models/Recsys_Challenge_2023/Recommenders/MatrixFactorization/SVDFeatureRecommender.py\n",
      "/kaggle/input/training-tuned-models/Recsys_Challenge_2023/Recommenders/MatrixFactorization/PyTorch/MF_MSE_PyTorch.py\n",
      "/kaggle/input/training-tuned-models/Recsys_Challenge_2023/Recommenders/MatrixFactorization/PyTorch/MF_MSE_PyTorch_model.py\n",
      "/kaggle/input/training-tuned-models/Recsys_Challenge_2023/Recommenders/MatrixFactorization/__pycache__/NMFRecommender.cpython-310.pyc\n",
      "/kaggle/input/training-tuned-models/Recsys_Challenge_2023/Recommenders/MatrixFactorization/__pycache__/PureSVDRecommender.cpython-310.pyc\n",
      "/kaggle/input/training-tuned-models/Recsys_Challenge_2023/Recommenders/MatrixFactorization/__pycache__/IALSRecommender.cpython-310.pyc\n",
      "/kaggle/input/training-tuned-models/Recsys_Challenge_2023/Recommenders/MatrixFactorization/Cython/MatrixFactorization_Cython.py\n",
      "/kaggle/input/training-tuned-models/Recsys_Challenge_2023/Recommenders/MatrixFactorization/Cython/MatrixFactorization_Cython_Epoch.cpython-310-x86_64-linux-gnu.so\n",
      "/kaggle/input/training-tuned-models/Recsys_Challenge_2023/Recommenders/MatrixFactorization/Cython/MatrixFactorizationImpressions_Cython_Epoch.cpython-310-x86_64-linux-gnu.so\n",
      "/kaggle/input/training-tuned-models/Recsys_Challenge_2023/Recommenders/MatrixFactorization/Cython/MatrixFactorizationImpressions_Cython.py\n",
      "/kaggle/input/training-tuned-models/Recsys_Challenge_2023/Recommenders/MatrixFactorization/Cython/MatrixFactorization_Cython_Epoch.c\n",
      "/kaggle/input/training-tuned-models/Recsys_Challenge_2023/Recommenders/MatrixFactorization/Cython/MatrixFactorization_Cython_Epoch.html\n",
      "/kaggle/input/training-tuned-models/Recsys_Challenge_2023/Recommenders/MatrixFactorization/Cython/MatrixFactorizationImpressions_Cython_Epoch.pyx\n",
      "/kaggle/input/training-tuned-models/Recsys_Challenge_2023/Recommenders/MatrixFactorization/Cython/MatrixFactorization_Cython_Epoch.pyx\n",
      "/kaggle/input/training-tuned-models/Recsys_Challenge_2023/Recommenders/MatrixFactorization/Cython/MatrixFactorizationImpressions_Cython_Epoch.c\n",
      "/kaggle/input/training-tuned-models/Recsys_Challenge_2023/Recommenders/MatrixFactorization/Cython/MatrixFactorizationImpressions_Cython_Epoch.html\n",
      "/kaggle/input/training-tuned-models/Recsys_Challenge_2023/tuning_results/best_params_WF1Rank.json\n",
      "/kaggle/input/training-tuned-models/Recsys_Challenge_2023/tuning_results/tuning_hybrid_merging.db\n",
      "/kaggle/input/training-tuned-models/Recsys_Challenge_2023/tuning_results/tuning_hybrid.db\n",
      "/kaggle/input/training-tuned-models/Recsys_Challenge_2023/tuning_results/tuning_mf.db\n",
      "/kaggle/input/training-tuned-models/Recsys_Challenge_2023/tuning_results/tuning_hybrid_precision.db\n",
      "/kaggle/input/training-tuned-models/Recsys_Challenge_2023/tuning_results/best_params_ials_v2.json\n",
      "/kaggle/input/training-tuned-models/Recsys_Challenge_2023/tuning_results/best_params_NMF.json\n",
      "/kaggle/input/training-tuned-models/Recsys_Challenge_2023/tuning_results/best_params_allLinearHyb.json\n",
      "/kaggle/input/training-tuned-models/Recsys_Challenge_2023/tuning_results/best_params_hybrid_merging.json\n",
      "/kaggle/input/training-tuned-models/Recsys_Challenge_2023/tuning_results/best_params_knn_item.json\n",
      "/kaggle/input/training-tuned-models/Recsys_Challenge_2023/tuning_results/better_tuning_EASE_R.db\n",
      "/kaggle/input/training-tuned-models/Recsys_Challenge_2023/tuning_results/tuning_RP3+ItemKNN_Hybrid.db\n",
      "/kaggle/input/training-tuned-models/Recsys_Challenge_2023/tuning_results/tuning_MultVaer.db\n",
      "/kaggle/input/training-tuned-models/Recsys_Challenge_2023/tuning_results/best_params_hybrid_lr_comb_8models.json\n",
      "/kaggle/input/training-tuned-models/Recsys_Challenge_2023/tuning_results/best_params_hybrid_lr_comb_worse_7models.json\n",
      "/kaggle/input/training-tuned-models/Recsys_Challenge_2023/tuning_results/best_params_hybrid_lr_comb_9models.json\n",
      "/kaggle/input/training-tuned-models/Recsys_Challenge_2023/tuning_results/best_params_light.json\n",
      "/kaggle/input/training-tuned-models/Recsys_Challenge_2023/tuning_results/tuning_BPR.db\n",
      "/kaggle/input/training-tuned-models/Recsys_Challenge_2023/tuning_results/tuning_WF1Rank.db\n",
      "/kaggle/input/training-tuned-models/Recsys_Challenge_2023/tuning_results/best_params_knn_user_cv5.json\n",
      "/kaggle/input/training-tuned-models/Recsys_Challenge_2023/tuning_results/tuning_puresvd_scaled.db\n",
      "/kaggle/input/training-tuned-models/Recsys_Challenge_2023/tuning_results/best_params_EASE_R.json\n",
      "/kaggle/input/training-tuned-models/Recsys_Challenge_2023/tuning_results/best_params_Vaer.json\n",
      "/kaggle/input/training-tuned-models/Recsys_Challenge_2023/tuning_results/best_params_alpha.json\n",
      "/kaggle/input/training-tuned-models/Recsys_Challenge_2023/tuning_results/best_params_hybrid_xgboost.json\n",
      "/kaggle/input/training-tuned-models/Recsys_Challenge_2023/tuning_results/pure_svd_params.json\n",
      "/kaggle/input/training-tuned-models/Recsys_Challenge_2023/tuning_results/pure_svd_trials.csv\n",
      "/kaggle/input/training-tuned-models/Recsys_Challenge_2023/tuning_results/tuning_puresvd.db\n",
      "/kaggle/input/training-tuned-models/Recsys_Challenge_2023/tuning_results/best_params_knn_item_cv5.json\n",
      "/kaggle/input/training-tuned-models/Recsys_Challenge_2023/tuning_results/tuning.db\n",
      "/kaggle/input/training-tuned-models/Recsys_Challenge_2023/tuning_results/best_params_slim.json\n",
      "/kaggle/input/training-tuned-models/Recsys_Challenge_2023/tuning_results/better_tuning.db\n",
      "/kaggle/input/training-tuned-models/Recsys_Challenge_2023/tuning_results/best_params_hybrid_merging_v2.json\n",
      "/kaggle/input/training-tuned-models/Recsys_Challenge_2023/tuning_results/tuning_slim_elastic.db\n",
      "/kaggle/input/training-tuned-models/Recsys_Challenge_2023/tuning_results/tuning_hybrid_UserKNN_RP3Hybrid.db\n",
      "/kaggle/input/training-tuned-models/Recsys_Challenge_2023/tuning_results/matrix-factorization-item-puresvd.ipynb\n",
      "/kaggle/input/training-tuned-models/Recsys_Challenge_2023/tuning_results/best_params_puresvd_scaled.json\n",
      "/kaggle/input/training-tuned-models/Recsys_Challenge_2023/tuning_results/better_tuning_alpha.db\n",
      "/kaggle/input/training-tuned-models/Recsys_Challenge_2023/tuning_results/best_params_hybrid_UserKNN_RP3Hybrid.json\n",
      "/kaggle/input/training-tuned-models/Recsys_Challenge_2023/tuning_results/best_params_2stage_pipeline.json\n",
      "/kaggle/input/training-tuned-models/Recsys_Challenge_2023/tuning_results/best_params_RP3+ItemKNN_Hybrid.json\n",
      "/kaggle/input/training-tuned-models/Recsys_Challenge_2023/tuning_results/best_params_hybrid_lr_comb_10models.json\n",
      "/kaggle/input/training-tuned-models/Recsys_Challenge_2023/tuning_results/best_params_Slim_BPR.json\n",
      "/kaggle/input/training-tuned-models/Recsys_Challenge_2023/tuning_results/best_params_hybrid_lr_comb.json\n",
      "/kaggle/input/training-tuned-models/Recsys_Challenge_2023/tuning_results/tuning_hybrid_merging_models.db\n",
      "/kaggle/input/training-tuned-models/Recsys_Challenge_2023/tuning_results/light.db\n",
      "/kaggle/input/training-tuned-models/Recsys_Challenge_2023/tuning_results/best_params_hybrid.json\n",
      "/kaggle/input/training-tuned-models/Recsys_Challenge_2023/tuning_results/best_params_item_knn_precision.json\n",
      "/kaggle/input/training-tuned-models/Recsys_Challenge_2023/tuning_results/tuning_rp3.db\n",
      "/kaggle/input/training-tuned-models/Recsys_Challenge_2023/tuning_results/tuning_hybrid_xgboost.db\n",
      "/kaggle/input/training-tuned-models/Recsys_Challenge_2023/tuning_results/best_params_hybrid_lr_comb_11models.json\n",
      "/kaggle/input/training-tuned-models/Recsys_Challenge_2023/tuning_results/best_params_ials.json\n",
      "/kaggle/input/training-tuned-models/Recsys_Challenge_2023/tuning_results/tuning_mf_funk.db\n",
      "/kaggle/input/training-tuned-models/Recsys_Challenge_2023/tuning_results/tuning_hybrid2.0.db\n",
      "/kaggle/input/training-tuned-models/Recsys_Challenge_2023/tuning_results/best_params_knn_user.json\n",
      "/kaggle/input/training-tuned-models/Recsys_Challenge_2023/tuning_results/best_params_funk_svd.json\n",
      "/kaggle/input/training-tuned-models/Recsys_Challenge_2023/tuning_results/best_params_puresvd_item.json\n",
      "/kaggle/input/training-tuned-models/Recsys_Challenge_2023/tuning_results/best_params_hybrid_lr_comb_rp3_p3a_item.json\n",
      "/kaggle/input/training-tuned-models/Recsys_Challenge_2023/tuning_results/best_params_3stage_pipeline2.0.json\n",
      "/kaggle/input/training-tuned-models/Recsys_Challenge_2023/tuning_results/best_params_RP3.json\n",
      "/kaggle/input/training-tuned-models/Recsys_Challenge_2023/tuning_results/tuning_hybrid_linear_comb_worse_rec.db\n",
      "/kaggle/input/training-tuned-models/Recsys_Challenge_2023/tuning_results/parameters_NMF.db\n",
      "/kaggle/input/training-tuned-models/Recsys_Challenge_2023/tuning_results/better_tuning_knn.db\n",
      "/kaggle/input/training-tuned-models/Recsys_Challenge_2023/tuning_results/best_params_3stage_pipeline.json\n",
      "/kaggle/input/training-tuned-models/Recsys_Challenge_2023/tuning_results/tuning_best_params_allLinearHyb.db\n",
      "/kaggle/input/training-tuned-models/Recsys_Challenge_2023/models/slim_bpr_xgboost_train_validation.zip\n",
      "/kaggle/input/training-tuned-models/Recsys_Challenge_2023/models/ease_r_all.zip\n",
      "/kaggle/input/training-tuned-models/Recsys_Challenge_2023/models/slim_bpr_all.zip\n",
      "/kaggle/input/training-tuned-models/Recsys_Challenge_2023/models/slim_elastic_train_validation.zip\n",
      "/kaggle/input/training-tuned-models/Recsys_Challenge_2023/models/nmf_all.zip\n",
      "/kaggle/input/training-tuned-models/Recsys_Challenge_2023/models/ease_r_train_validation.zip\n",
      "/kaggle/input/training-tuned-models/Recsys_Challenge_2023/models/nmf_train_validation.zip\n",
      "/kaggle/input/training-tuned-models/Recsys_Challenge_2023/models/nmf_xgboost_train_validation.zip\n",
      "/kaggle/input/training-tuned-models/Recsys_Challenge_2023/models/slim_elastic_xgboost_train_validation.zip\n",
      "/kaggle/input/training-tuned-models/Recsys_Challenge_2023/models/ease_r_xgboost_train_validation.zip\n",
      "/kaggle/input/training-tuned-models/Recsys_Challenge_2023/models/slim_bpr_train_validation.zip\n",
      "/kaggle/input/training-tuned-models/Recsys_Challenge_2023/models/slim_elastic_all.zip\n",
      "/kaggle/input/training-tuned-models/Recsys_Challenge_2023/images/random_random_everywhere_meme.jpg\n",
      "/kaggle/input/training-tuned-models/Recsys_Challenge_2023/images/ive_already_seen_it_meme.png\n",
      "/kaggle/input/training-tuned-models/Recsys_Challenge_2023/images/bob_example.jpeg\n",
      "/kaggle/input/training-tuned-models/Recsys_Challenge_2023/images/hstack_example.png\n",
      "/kaggle/input/training-tuned-models/Recsys_Challenge_2023/images/FactorizationMachine.png\n",
      "/kaggle/input/training-tuned-models/Recsys_Challenge_2023/images/ive_evaluated_your_performance_meme.jpg\n",
      "/kaggle/input/training-tuned-models/Recsys_Challenge_2023/images/amongus_meme.png\n",
      "/kaggle/input/training-tuned-models/Recsys_Challenge_2023/images/toy_story_poster.png\n",
      "/kaggle/input/training-tuned-models/Recsys_Challenge_2023/images/better_than_average_on_the_first_try_meme.jpg\n",
      "/kaggle/input/training-tuned-models/Recsys_Challenge_2023/HyperparameterTuning/SearchSingleCase.py\n",
      "/kaggle/input/training-tuned-models/Recsys_Challenge_2023/HyperparameterTuning/SearchAbstractClass.py\n",
      "/kaggle/input/training-tuned-models/Recsys_Challenge_2023/HyperparameterTuning/run_hyperparameter_search.py\n",
      "/kaggle/input/training-tuned-models/Recsys_Challenge_2023/HyperparameterTuning/SearchBayesianSkopt.py\n",
      "/kaggle/input/training-tuned-models/Recsys_Challenge_2023/Cython_examples/isPrime_slow.pyx\n",
      "/kaggle/input/training-tuned-models/Recsys_Challenge_2023/Cython_examples/SLIM_MSE_fastest.pyx\n",
      "/kaggle/input/training-tuned-models/Recsys_Challenge_2023/Cython_examples/isPrime_nochecks.pyx\n",
      "/kaggle/input/training-tuned-models/Recsys_Challenge_2023/Cython_examples/isPrime.pyx\n",
      "/kaggle/input/training-tuned-models/Recsys_Challenge_2023/Cython_examples/FunkSVD_fastest.pyx\n",
      "/kaggle/input/training-tuned-models/Recsys_Challenge_2023/Cython_examples/FunkSVD_slow.pyx\n",
      "/kaggle/input/training-tuned-models/Recsys_Challenge_2023/Cython_examples/SLIM_MSE_slow.pyx\n",
      "/kaggle/input/training-tuned-models/Recsys_Challenge_2023/result_experiments/run_compile_all_cython.txt\n",
      "/kaggle/input/training-tuned-models/Recsys_Challenge_2023/.git/config\n",
      "/kaggle/input/training-tuned-models/Recsys_Challenge_2023/.git/packed-refs\n",
      "/kaggle/input/training-tuned-models/Recsys_Challenge_2023/.git/HEAD\n",
      "/kaggle/input/training-tuned-models/Recsys_Challenge_2023/.git/index\n",
      "/kaggle/input/training-tuned-models/Recsys_Challenge_2023/.git/description\n",
      "/kaggle/input/training-tuned-models/Recsys_Challenge_2023/.git/info/exclude\n",
      "/kaggle/input/training-tuned-models/Recsys_Challenge_2023/.git/refs/heads/master\n",
      "/kaggle/input/training-tuned-models/Recsys_Challenge_2023/.git/refs/remotes/origin/HEAD\n",
      "/kaggle/input/training-tuned-models/Recsys_Challenge_2023/.git/hooks/pre-merge-commit.sample\n",
      "/kaggle/input/training-tuned-models/Recsys_Challenge_2023/.git/hooks/prepare-commit-msg.sample\n",
      "/kaggle/input/training-tuned-models/Recsys_Challenge_2023/.git/hooks/update.sample\n",
      "/kaggle/input/training-tuned-models/Recsys_Challenge_2023/.git/hooks/pre-push.sample\n",
      "/kaggle/input/training-tuned-models/Recsys_Challenge_2023/.git/hooks/pre-rebase.sample\n",
      "/kaggle/input/training-tuned-models/Recsys_Challenge_2023/.git/hooks/pre-applypatch.sample\n",
      "/kaggle/input/training-tuned-models/Recsys_Challenge_2023/.git/hooks/pre-commit.sample\n",
      "/kaggle/input/training-tuned-models/Recsys_Challenge_2023/.git/hooks/commit-msg.sample\n",
      "/kaggle/input/training-tuned-models/Recsys_Challenge_2023/.git/hooks/post-update.sample\n",
      "/kaggle/input/training-tuned-models/Recsys_Challenge_2023/.git/hooks/pre-receive.sample\n",
      "/kaggle/input/training-tuned-models/Recsys_Challenge_2023/.git/hooks/fsmonitor-watchman.sample\n",
      "/kaggle/input/training-tuned-models/Recsys_Challenge_2023/.git/hooks/applypatch-msg.sample\n",
      "/kaggle/input/training-tuned-models/Recsys_Challenge_2023/.git/logs/HEAD\n",
      "/kaggle/input/training-tuned-models/Recsys_Challenge_2023/.git/logs/refs/heads/master\n",
      "/kaggle/input/training-tuned-models/Recsys_Challenge_2023/.git/logs/refs/remotes/origin/HEAD\n",
      "/kaggle/input/training-tuned-models/Recsys_Challenge_2023/.git/objects/pack/pack-a8b84a04f5865c8473998789c17ad9860aa8256d.pack\n",
      "/kaggle/input/training-tuned-models/Recsys_Challenge_2023/.git/objects/pack/pack-a8b84a04f5865c8473998789c17ad9860aa8256d.idx\n",
      "/kaggle/input/training-tuned-models/Recsys_Challenge_2023/challenge_notebooks/training-tuned-models.ipynb\n",
      "/kaggle/input/training-tuned-models/Recsys_Challenge_2023/challenge_notebooks/list-combination.ipynb\n",
      "/kaggle/input/training-tuned-models/Recsys_Challenge_2023/challenge_notebooks/hyperparameters-tuning.ipynb\n",
      "/kaggle/input/training-tuned-models/Recsys_Challenge_2023/challenge_notebooks/matrix-factorization-scaled-puresvd.ipynb\n",
      "/kaggle/input/training-tuned-models/Recsys_Challenge_2023/challenge_notebooks/rp3-tuning.ipynb\n",
      "/kaggle/input/training-tuned-models/Recsys_Challenge_2023/challenge_notebooks/hybrid-precision.ipynb\n",
      "/kaggle/input/training-tuned-models/Recsys_Challenge_2023/challenge_notebooks/linear-combination.ipynb\n",
      "/kaggle/input/training-tuned-models/Recsys_Challenge_2023/challenge_notebooks/rp3-itemknn-hybrid.ipynb\n",
      "/kaggle/input/training-tuned-models/Recsys_Challenge_2023/challenge_notebooks/merging-models.ipynb\n",
      "/kaggle/input/training-tuned-models/Recsys_Challenge_2023/challenge_notebooks/matrix-factorization-item-puresvd.ipynb\n",
      "/kaggle/input/training-tuned-models/Recsys_Challenge_2023/challenge_notebooks/hyperparameters-tuning-better.ipynb\n",
      "/kaggle/input/training-tuned-models/Recsys_Challenge_2023/challenge_notebooks/xgboost.ipynb\n",
      "/kaggle/input/training-tuned-models/Recsys_Challenge_2023/challenge_notebooks/srecsys-challenge.ipynb\n",
      "/kaggle/input/training-tuned-models/Recsys_Challenge_2023/challenge_notebooks/hybrid.ipynb\n",
      "/kaggle/input/training-tuned-models/Recsys_Challenge_2023/Evaluation/metrics.py\n",
      "/kaggle/input/training-tuned-models/Recsys_Challenge_2023/Evaluation/Evaluator.py\n",
      "/kaggle/input/training-tuned-models/Recsys_Challenge_2023/Evaluation/__pycache__/metrics.cpython-310.pyc\n",
      "/kaggle/input/training-tuned-models/Recsys_Challenge_2023/Evaluation/__pycache__/Evaluator.cpython-310.pyc\n"
     ]
    }
   ],
   "source": [
    "import numpy as np\n",
    "import pandas as pd\n",
    "import matplotlib.pyplot as plt\n",
    "import seaborn as sns\n",
    "import joblib\n",
    "import json\n",
    "import random\n",
    "import tqdm\n",
    "import gc\n",
    "import time\n",
    "import os\n",
    "import shutil\n",
    "import optuna\n",
    "import scipy.sparse as sps\n",
    "\n",
    "for dirname, _, filenames in os.walk('/kaggle/input'):\n",
    "    for filename in filenames:\n",
    "        print(os.path.join(dirname, filename))"
   ]
  },
  {
   "cell_type": "code",
   "execution_count": 5,
   "id": "4f7dd6d2",
   "metadata": {
    "execution": {
     "iopub.execute_input": "2023-12-08T22:29:43.115434Z",
     "iopub.status.busy": "2023-12-08T22:29:43.114377Z",
     "iopub.status.idle": "2023-12-08T22:29:43.122545Z",
     "shell.execute_reply": "2023-12-08T22:29:43.121550Z"
    },
    "papermill": {
     "duration": 0.040871,
     "end_time": "2023-12-08T22:29:43.125490",
     "exception": false,
     "start_time": "2023-12-08T22:29:43.084619",
     "status": "completed"
    },
    "tags": []
   },
   "outputs": [
    {
     "name": "stdout",
     "output_type": "stream",
     "text": [
      "/kaggle/working/Recsys_Challenge_2023\n"
     ]
    }
   ],
   "source": [
    "%cd /kaggle/working/Recsys_Challenge_2023"
   ]
  },
  {
   "cell_type": "code",
   "execution_count": 6,
   "id": "11fbaa44",
   "metadata": {
    "execution": {
     "iopub.execute_input": "2023-12-08T22:29:43.182039Z",
     "iopub.status.busy": "2023-12-08T22:29:43.181177Z",
     "iopub.status.idle": "2023-12-08T22:29:59.706326Z",
     "shell.execute_reply": "2023-12-08T22:29:59.705203Z"
    },
    "papermill": {
     "duration": 16.55736,
     "end_time": "2023-12-08T22:29:59.709032",
     "exception": false,
     "start_time": "2023-12-08T22:29:43.151672",
     "status": "completed"
    },
    "tags": []
   },
   "outputs": [],
   "source": [
    "from Recommenders.KNN.UserKNNCFRecommender import UserKNNCFRecommender\n",
    "from Data_manager.split_functions.split_train_validation_random_holdout import split_train_in_two_percentage_global_sample\n",
    "from Recommenders.SLIM.SLIMElasticNetRecommender import MultiThreadSLIM_SLIMElasticNetRecommender, SLIMElasticNetRecommender\n",
    "from Evaluation.Evaluator import EvaluatorHoldout\n",
    "from Recommenders.MatrixFactorization.IALSRecommender import IALSRecommender\n",
    "from Recommenders.MatrixFactorization.PureSVDRecommender import PureSVDRecommender, PureSVDItemRecommender\n",
    "from Recommenders.KNN.ItemKNNCFRecommender import ItemKNNCFRecommender\n",
    "from Recommenders.KNN.UserKNNCFRecommender import UserKNNCFRecommender\n",
    "from Recommenders.KNN.ItemKNNSimilarityHybridRecommender import ItemKNNSimilarityHybridRecommender\n",
    "from Recommenders.KNN.ItemKNNCustomSimilarityRecommender import ItemKNNCustomSimilarityRecommender\n",
    "from Recommenders.EASE_R.EASE_R_Recommender import EASE_R_Recommender\n",
    "from Recommenders.Neural.MultVAERecommender import MultVAERecommender\n",
    "from Recommenders.GraphBased.RP3betaRecommender import RP3betaRecommender\n",
    "from Recommenders.GraphBased.P3alphaRecommender import P3alphaRecommender\n",
    "from Recommenders.SLIM.SLIM_BPR_Python import SLIM_BPR_Python\n",
    "from Recommenders.MatrixFactorization.NMFRecommender import NMFRecommender\n",
    "from Recommenders.BaseRecommender import BaseRecommender\n",
    "\n",
    "from Recommenders.Hybrid.LinearCombinationRecommender import LinearCombinationRecommender\n",
    "from Data_manager.CrossValidationSplitter import CrossValidationSplitter\n",
    "\n",
    "np.int = int\n",
    "np.random.seed(42)\n",
    "np.bool = bool\n",
    "np.float = float"
   ]
  },
  {
   "cell_type": "markdown",
   "id": "732771c8",
   "metadata": {
    "papermill": {
     "duration": 0.025631,
     "end_time": "2023-12-08T22:29:59.760755",
     "exception": false,
     "start_time": "2023-12-08T22:29:59.735124",
     "status": "completed"
    },
    "tags": []
   },
   "source": [
    "# Configurations"
   ]
  },
  {
   "cell_type": "code",
   "execution_count": 7,
   "id": "f02c675b",
   "metadata": {
    "execution": {
     "iopub.execute_input": "2023-12-08T22:29:59.813386Z",
     "iopub.status.busy": "2023-12-08T22:29:59.812360Z",
     "iopub.status.idle": "2023-12-08T22:30:00.717414Z",
     "shell.execute_reply": "2023-12-08T22:30:00.715340Z"
    },
    "papermill": {
     "duration": 0.934486,
     "end_time": "2023-12-08T22:30:00.720324",
     "exception": false,
     "start_time": "2023-12-08T22:29:59.785838",
     "status": "completed"
    },
    "tags": []
   },
   "outputs": [
    {
     "name": "stdout",
     "output_type": "stream",
     "text": [
      "Repository found\n"
     ]
    }
   ],
   "source": [
    "from github import Github\n",
    "from github import Auth\n",
    "\n",
    "auth = Auth.Token(token)\n",
    "g = Github(auth=auth)\n",
    "\n",
    "repo = None\n",
    "for r in g.get_user().get_repos():\n",
    "    if r.name == 'Recsys_Challenge_2023':\n",
    "        repo = r\n",
    "        print('Repository found')"
   ]
  },
  {
   "cell_type": "code",
   "execution_count": 8,
   "id": "9a2098e3",
   "metadata": {
    "execution": {
     "iopub.execute_input": "2023-12-08T22:30:00.773428Z",
     "iopub.status.busy": "2023-12-08T22:30:00.772928Z",
     "iopub.status.idle": "2023-12-08T22:30:00.781184Z",
     "shell.execute_reply": "2023-12-08T22:30:00.779652Z"
    },
    "papermill": {
     "duration": 0.037792,
     "end_time": "2023-12-08T22:30:00.783613",
     "exception": false,
     "start_time": "2023-12-08T22:30:00.745821",
     "status": "completed"
    },
    "tags": []
   },
   "outputs": [],
   "source": [
    "def upload_file(filepath_kaggle, filepath_github, commit_message):\n",
    "    try:\n",
    "        contents = repo.get_contents(filepath_github)\n",
    "        with open(filepath_kaggle, \"rb\") as file:\n",
    "            repo.update_file(contents.path, commit_message, file.read(), contents.sha)\n",
    "    except Exception:\n",
    "        with open(filepath_kaggle, \"rb\") as file:\n",
    "            repo.create_file(filepath_github, commit_message, file.read())"
   ]
  },
  {
   "cell_type": "code",
   "execution_count": 9,
   "id": "c425a5c8",
   "metadata": {
    "execution": {
     "iopub.execute_input": "2023-12-08T22:30:00.836678Z",
     "iopub.status.busy": "2023-12-08T22:30:00.836207Z",
     "iopub.status.idle": "2023-12-08T22:30:00.842069Z",
     "shell.execute_reply": "2023-12-08T22:30:00.841039Z"
    },
    "papermill": {
     "duration": 0.035242,
     "end_time": "2023-12-08T22:30:00.844395",
     "exception": false,
     "start_time": "2023-12-08T22:30:00.809153",
     "status": "completed"
    },
    "tags": []
   },
   "outputs": [],
   "source": [
    "config = {\n",
    "    'tune_parameters': True,\n",
    "    'database_path': '/kaggle/working/tuning_hybrid.db',\n",
    "    'copy_prev_tuning_db': True,\n",
    "    'copy_prev_best_params': True,\n",
    "    'save_github': True\n",
    "}"
   ]
  },
  {
   "cell_type": "markdown",
   "id": "1677b6e8",
   "metadata": {
    "papermill": {
     "duration": 0.127902,
     "end_time": "2023-12-08T22:30:00.998130",
     "exception": false,
     "start_time": "2023-12-08T22:30:00.870228",
     "status": "completed"
    },
    "tags": []
   },
   "source": [
    "# Tuning"
   ]
  },
  {
   "cell_type": "code",
   "execution_count": 10,
   "id": "f7d46d37",
   "metadata": {
    "execution": {
     "iopub.execute_input": "2023-12-08T22:30:01.053749Z",
     "iopub.status.busy": "2023-12-08T22:30:01.052905Z",
     "iopub.status.idle": "2023-12-08T22:30:01.379234Z",
     "shell.execute_reply": "2023-12-08T22:30:01.378093Z"
    },
    "papermill": {
     "duration": 0.356531,
     "end_time": "2023-12-08T22:30:01.382229",
     "exception": false,
     "start_time": "2023-12-08T22:30:01.025698",
     "status": "completed"
    },
    "tags": []
   },
   "outputs": [],
   "source": [
    "train_data = pd.read_csv('/kaggle/input/recommender-system-2023-challenge-polimi/data_train.csv')\n",
    "user_ids_test = pd.read_csv('/kaggle/input/recommender-system-2023-challenge-polimi/data_target_users_test.csv')"
   ]
  },
  {
   "cell_type": "code",
   "execution_count": 11,
   "id": "b52dc1f6",
   "metadata": {
    "execution": {
     "iopub.execute_input": "2023-12-08T22:30:01.436522Z",
     "iopub.status.busy": "2023-12-08T22:30:01.436102Z",
     "iopub.status.idle": "2023-12-08T22:30:01.480569Z",
     "shell.execute_reply": "2023-12-08T22:30:01.479356Z"
    },
    "papermill": {
     "duration": 0.075678,
     "end_time": "2023-12-08T22:30:01.483170",
     "exception": false,
     "start_time": "2023-12-08T22:30:01.407492",
     "status": "completed"
    },
    "tags": []
   },
   "outputs": [
    {
     "data": {
      "text/plain": [
       "<13024x22347 sparse matrix of type '<class 'numpy.float64'>'\n",
       "\twith 478730 stored elements in Compressed Sparse Row format>"
      ]
     },
     "execution_count": 11,
     "metadata": {},
     "output_type": "execute_result"
    }
   ],
   "source": [
    "URM_all = sps.csr_matrix((train_data.data.values,\n",
    "                          ((train_data.row - 1).values, (train_data.col - 1).values)),\n",
    "                        shape=(train_data.row.max(), train_data.col.max()))\n",
    "URM_all"
   ]
  },
  {
   "cell_type": "code",
   "execution_count": 12,
   "id": "3cc223f1",
   "metadata": {
    "execution": {
     "iopub.execute_input": "2023-12-08T22:30:01.536581Z",
     "iopub.status.busy": "2023-12-08T22:30:01.535857Z",
     "iopub.status.idle": "2023-12-08T22:30:02.987515Z",
     "shell.execute_reply": "2023-12-08T22:30:02.986167Z"
    },
    "papermill": {
     "duration": 1.481465,
     "end_time": "2023-12-08T22:30:02.990208",
     "exception": false,
     "start_time": "2023-12-08T22:30:01.508743",
     "status": "completed"
    },
    "tags": []
   },
   "outputs": [
    {
     "name": "stdout",
     "output_type": "stream",
     "text": [
      "Warning: 627 (4.81 %) of 13024 users have no train items\n",
      "Warning: 2568 (19.72 %) of 13024 users have no sampled items\n"
     ]
    }
   ],
   "source": [
    "URM_train, URM_test_complete = split_train_in_two_percentage_global_sample(URM_all, train_percentage = 0.8)"
   ]
  },
  {
   "cell_type": "code",
   "execution_count": 13,
   "id": "f55055e1",
   "metadata": {
    "execution": {
     "iopub.execute_input": "2023-12-08T22:30:03.045392Z",
     "iopub.status.busy": "2023-12-08T22:30:03.045002Z",
     "iopub.status.idle": "2023-12-08T22:30:03.052967Z",
     "shell.execute_reply": "2023-12-08T22:30:03.051903Z"
    },
    "papermill": {
     "duration": 0.036969,
     "end_time": "2023-12-08T22:30:03.055359",
     "exception": false,
     "start_time": "2023-12-08T22:30:03.018390",
     "status": "completed"
    },
    "tags": []
   },
   "outputs": [
    {
     "data": {
      "text/plain": [
       "{'topK': 14,\n",
       " 'shrink': 25,\n",
       " 'similarity': 'tversky',\n",
       " 'tversky_alpha': 0.18163095712123836,\n",
       " 'tversky_beta': 1.8529812241698465}"
      ]
     },
     "execution_count": 13,
     "metadata": {},
     "output_type": "execute_result"
    }
   ],
   "source": [
    "with open('/kaggle/working/Recsys_Challenge_2023/tuning_results/best_params_knn_item.json', 'r') as params_file:\n",
    "    params_item_knn = json.load(params_file)\n",
    "params_item_knn"
   ]
  },
  {
   "cell_type": "code",
   "execution_count": 14,
   "id": "86dfa852",
   "metadata": {
    "execution": {
     "iopub.execute_input": "2023-12-08T22:30:03.111216Z",
     "iopub.status.busy": "2023-12-08T22:30:03.110064Z",
     "iopub.status.idle": "2023-12-08T22:30:03.119988Z",
     "shell.execute_reply": "2023-12-08T22:30:03.118926Z"
    },
    "papermill": {
     "duration": 0.042828,
     "end_time": "2023-12-08T22:30:03.123126",
     "exception": false,
     "start_time": "2023-12-08T22:30:03.080298",
     "status": "completed"
    },
    "tags": []
   },
   "outputs": [
    {
     "data": {
      "text/plain": [
       "{'alpha': 0.3408516511081212, 'beta': 0.1447198697205665, 'topK': 32}"
      ]
     },
     "execution_count": 14,
     "metadata": {},
     "output_type": "execute_result"
    }
   ],
   "source": [
    "with open('/kaggle/working/Recsys_Challenge_2023/tuning_results/best_params_RP3.json', 'r') as params_file:\n",
    "    params_rp3 = json.load(params_file)\n",
    "params_rp3"
   ]
  },
  {
   "cell_type": "code",
   "execution_count": 15,
   "id": "1dbd663b",
   "metadata": {
    "execution": {
     "iopub.execute_input": "2023-12-08T22:30:03.184331Z",
     "iopub.status.busy": "2023-12-08T22:30:03.183889Z",
     "iopub.status.idle": "2023-12-08T22:30:03.192959Z",
     "shell.execute_reply": "2023-12-08T22:30:03.191903Z"
    },
    "papermill": {
     "duration": 0.039719,
     "end_time": "2023-12-08T22:30:03.195472",
     "exception": false,
     "start_time": "2023-12-08T22:30:03.155753",
     "status": "completed"
    },
    "tags": []
   },
   "outputs": [
    {
     "data": {
      "text/plain": [
       "{'normalize_similarity': 'True',\n",
       " 'implicit': 'True',\n",
       " 'alpha': 0.29354071531607107,\n",
       " 'topK': 49}"
      ]
     },
     "execution_count": 15,
     "metadata": {},
     "output_type": "execute_result"
    }
   ],
   "source": [
    "with open('/kaggle/working/Recsys_Challenge_2023/tuning_results/best_params_alpha.json', 'r') as params_file:\n",
    "    params_p3alpha = json.load(params_file)\n",
    "params_p3alpha"
   ]
  },
  {
   "cell_type": "code",
   "execution_count": 16,
   "id": "23dc209b",
   "metadata": {
    "execution": {
     "iopub.execute_input": "2023-12-08T22:30:03.260518Z",
     "iopub.status.busy": "2023-12-08T22:30:03.259660Z",
     "iopub.status.idle": "2023-12-08T22:30:03.268430Z",
     "shell.execute_reply": "2023-12-08T22:30:03.267073Z"
    },
    "papermill": {
     "duration": 0.049731,
     "end_time": "2023-12-08T22:30:03.271607",
     "exception": false,
     "start_time": "2023-12-08T22:30:03.221876",
     "status": "completed"
    },
    "tags": []
   },
   "outputs": [
    {
     "data": {
      "text/plain": [
       "{'topK': 498,\n",
       " 'shrink': 0,\n",
       " 'similarity': 'asymmetric',\n",
       " 'asymmetric_alpha': 0.39792525383867455}"
      ]
     },
     "execution_count": 16,
     "metadata": {},
     "output_type": "execute_result"
    }
   ],
   "source": [
    "with open('/kaggle/working/Recsys_Challenge_2023/tuning_results/best_params_knn_user.json', 'r') as params_file:\n",
    "    params_user_knn = json.load(params_file)\n",
    "params_user_knn"
   ]
  },
  {
   "cell_type": "code",
   "execution_count": 17,
   "id": "5c364c77",
   "metadata": {
    "execution": {
     "iopub.execute_input": "2023-12-08T22:30:03.327055Z",
     "iopub.status.busy": "2023-12-08T22:30:03.326115Z",
     "iopub.status.idle": "2023-12-08T22:30:03.335140Z",
     "shell.execute_reply": "2023-12-08T22:30:03.333637Z"
    },
    "papermill": {
     "duration": 0.040532,
     "end_time": "2023-12-08T22:30:03.337968",
     "exception": false,
     "start_time": "2023-12-08T22:30:03.297436",
     "status": "completed"
    },
    "tags": []
   },
   "outputs": [
    {
     "data": {
      "text/plain": [
       "{'alpha': 0.3375591188839621, 'topK': 86}"
      ]
     },
     "execution_count": 17,
     "metadata": {},
     "output_type": "execute_result"
    }
   ],
   "source": [
    "with open('/kaggle/working/Recsys_Challenge_2023/tuning_results/best_params_hybrid_merging.json', 'r') as params_file:\n",
    "    params_merging = json.load(params_file)\n",
    "params_merging"
   ]
  },
  {
   "cell_type": "code",
   "execution_count": 18,
   "id": "8863908b",
   "metadata": {
    "execution": {
     "iopub.execute_input": "2023-12-08T22:30:03.392027Z",
     "iopub.status.busy": "2023-12-08T22:30:03.391140Z",
     "iopub.status.idle": "2023-12-08T22:30:07.312691Z",
     "shell.execute_reply": "2023-12-08T22:30:07.311172Z"
    },
    "papermill": {
     "duration": 3.952627,
     "end_time": "2023-12-08T22:30:07.316305",
     "exception": false,
     "start_time": "2023-12-08T22:30:03.363678",
     "status": "completed"
    },
    "tags": []
   },
   "outputs": [
    {
     "data": {
      "text/plain": [
       "'/kaggle/working/ials_all.zip'"
      ]
     },
     "execution_count": 18,
     "metadata": {},
     "output_type": "execute_result"
    }
   ],
   "source": [
    "shutil.copyfile(\n",
    "    '/kaggle/input/training-tuned-models/ials_train_validation.zip', \n",
    "    '/kaggle/working/ials_train_validation.zip', \n",
    ")\n",
    "shutil.copyfile(\n",
    "    '/kaggle/input/training-tuned-models/ials_all.zip', \n",
    "    '/kaggle/working/ials_all.zip', \n",
    ")"
   ]
  },
  {
   "cell_type": "code",
   "execution_count": 19,
   "id": "0d2977d4",
   "metadata": {
    "execution": {
     "iopub.execute_input": "2023-12-08T22:30:07.372288Z",
     "iopub.status.busy": "2023-12-08T22:30:07.371344Z",
     "iopub.status.idle": "2023-12-08T22:30:56.776716Z",
     "shell.execute_reply": "2023-12-08T22:30:56.774061Z"
    },
    "papermill": {
     "duration": 49.439055,
     "end_time": "2023-12-08T22:30:56.782180",
     "exception": false,
     "start_time": "2023-12-08T22:30:07.343125",
     "status": "completed"
    },
    "tags": []
   },
   "outputs": [
    {
     "name": "stdout",
     "output_type": "stream",
     "text": [
      "ItemKNNCFRecommender: URM Detected 627 ( 4.8%) users with no interactions.\n",
      "ItemKNNCFRecommender: URM Detected 247 ( 1.1%) items with no interactions.\n",
      "Similarity column 22347 (100.0%), 4283.62 column/sec. Elapsed time 5.22 sec\n",
      "UserKNNCFRecommender: URM Detected 627 ( 4.8%) users with no interactions.\n",
      "UserKNNCFRecommender: URM Detected 247 ( 1.1%) items with no interactions.\n",
      "Similarity column 13024 (100.0%), 4269.13 column/sec. Elapsed time 3.05 sec\n",
      "RP3betaRecommender: URM Detected 627 ( 4.8%) users with no interactions.\n",
      "RP3betaRecommender: URM Detected 247 ( 1.1%) items with no interactions.\n",
      "RP3betaRecommender: Similarity column 22347 (100.0%), 2398.73 column/sec. Elapsed time 9.32 sec\n",
      "P3alphaRecommender: URM Detected 627 ( 4.8%) users with no interactions.\n",
      "P3alphaRecommender: URM Detected 247 ( 1.1%) items with no interactions.\n",
      "P3alphaRecommender: Similarity column 22347 (100.0%), 2796.63 column/sec. Elapsed time 7.99 sec\n",
      "SLIMElasticNetRecommender: URM Detected 627 ( 4.8%) users with no interactions.\n",
      "SLIMElasticNetRecommender: URM Detected 247 ( 1.1%) items with no interactions.\n",
      "SLIMElasticNetRecommender: Loading model from file '/kaggle/working/Recsys_Challenge_2023/models/slim_elastic_train_validation.zip'\n",
      "SLIMElasticNetRecommender: Loading complete\n",
      "EASE_R_Recommender: URM Detected 627 ( 4.8%) users with no interactions.\n",
      "EASE_R_Recommender: URM Detected 247 ( 1.1%) items with no interactions.\n",
      "EASE_R_Recommender: Loading model from file '/kaggle/working/Recsys_Challenge_2023/models/ease_r_train_validation.zip'\n",
      "EASE_R_Recommender: Loading complete\n",
      "IALSRecommender: URM Detected 627 ( 4.8%) users with no interactions.\n",
      "IALSRecommender: URM Detected 247 ( 1.1%) items with no interactions.\n",
      "IALSRecommender: Loading model from file '/kaggle/working/ials_train_validation.zip'\n",
      "IALSRecommender: Loading complete\n",
      "ItemKNNSimilarityHybridRecommender: URM Detected 627 ( 4.8%) users with no interactions.\n",
      "ItemKNNSimilarityHybridRecommender: URM Detected 247 ( 1.1%) items with no interactions.\n"
     ]
    }
   ],
   "source": [
    "recommender_item = ItemKNNCFRecommender(URM_train)\n",
    "recommender_item.fit(**params_item_knn)\n",
    "\n",
    "recommender_user = UserKNNCFRecommender(URM_train)\n",
    "recommender_user.fit(**params_user_knn)\n",
    "\n",
    "recommender_rp3 = RP3betaRecommender(URM_train)\n",
    "recommender_rp3.fit(**params_rp3)\n",
    "\n",
    "recommender_p3a = P3alphaRecommender(URM_train)\n",
    "recommender_p3a.fit(**params_p3alpha)\n",
    "\n",
    "recommender_slim = SLIMElasticNetRecommender(URM_train)\n",
    "recommender_slim.load_model('/kaggle/working/Recsys_Challenge_2023/models/', 'slim_elastic_train_validation.zip')\n",
    "\n",
    "recommender_ease_r = EASE_R_Recommender(URM_train)\n",
    "recommender_ease_r.load_model('/kaggle/working/Recsys_Challenge_2023/models/', 'ease_r_train_validation.zip')\n",
    "\n",
    "recommender_ials = IALSRecommender(URM_train)\n",
    "recommender_ials.load_model('/kaggle/working/', 'ials_train_validation.zip')\n",
    "\n",
    "hybrid_similarity = ItemKNNSimilarityHybridRecommender(URM_train, recommender_item.W_sparse, recommender_rp3.W_sparse)\n",
    "hybrid_similarity.fit(**params_merging)"
   ]
  },
  {
   "cell_type": "code",
   "execution_count": 20,
   "id": "cde37e70",
   "metadata": {
    "execution": {
     "iopub.execute_input": "2023-12-08T22:30:56.847389Z",
     "iopub.status.busy": "2023-12-08T22:30:56.844318Z",
     "iopub.status.idle": "2023-12-08T22:32:47.713846Z",
     "shell.execute_reply": "2023-12-08T22:32:47.711976Z"
    },
    "papermill": {
     "duration": 110.90841,
     "end_time": "2023-12-08T22:32:47.720317",
     "exception": false,
     "start_time": "2023-12-08T22:30:56.811907",
     "status": "completed"
    },
    "tags": []
   },
   "outputs": [
    {
     "name": "stdout",
     "output_type": "stream",
     "text": [
      "EvaluatorHoldout: Ignoring 2568 (19.7%) Users that have less than 1 test interactions\n",
      "Merging Models\n",
      "EvaluatorHoldout: Processed 10456 (100.0%) in 15.60 sec. Users per second: 670\n"
     ]
    },
    {
     "data": {
      "text/html": [
       "<div>\n",
       "<style scoped>\n",
       "    .dataframe tbody tr th:only-of-type {\n",
       "        vertical-align: middle;\n",
       "    }\n",
       "\n",
       "    .dataframe tbody tr th {\n",
       "        vertical-align: top;\n",
       "    }\n",
       "\n",
       "    .dataframe thead th {\n",
       "        text-align: right;\n",
       "    }\n",
       "</style>\n",
       "<table border=\"1\" class=\"dataframe\">\n",
       "  <thead>\n",
       "    <tr style=\"text-align: right;\">\n",
       "      <th></th>\n",
       "      <th>PRECISION</th>\n",
       "      <th>PRECISION_RECALL_MIN_DEN</th>\n",
       "      <th>RECALL</th>\n",
       "      <th>MAP</th>\n",
       "      <th>MAP_MIN_DEN</th>\n",
       "      <th>MRR</th>\n",
       "      <th>NDCG</th>\n",
       "      <th>F1</th>\n",
       "      <th>HIT_RATE</th>\n",
       "      <th>ARHR_ALL_HITS</th>\n",
       "      <th>...</th>\n",
       "      <th>COVERAGE_USER</th>\n",
       "      <th>COVERAGE_USER_HIT</th>\n",
       "      <th>USERS_IN_GT</th>\n",
       "      <th>DIVERSITY_GINI</th>\n",
       "      <th>SHANNON_ENTROPY</th>\n",
       "      <th>RATIO_DIVERSITY_HERFINDAHL</th>\n",
       "      <th>RATIO_DIVERSITY_GINI</th>\n",
       "      <th>RATIO_SHANNON_ENTROPY</th>\n",
       "      <th>RATIO_AVERAGE_POPULARITY</th>\n",
       "      <th>RATIO_NOVELTY</th>\n",
       "    </tr>\n",
       "    <tr>\n",
       "      <th>cutoff</th>\n",
       "      <th></th>\n",
       "      <th></th>\n",
       "      <th></th>\n",
       "      <th></th>\n",
       "      <th></th>\n",
       "      <th></th>\n",
       "      <th></th>\n",
       "      <th></th>\n",
       "      <th></th>\n",
       "      <th></th>\n",
       "      <th></th>\n",
       "      <th></th>\n",
       "      <th></th>\n",
       "      <th></th>\n",
       "      <th></th>\n",
       "      <th></th>\n",
       "      <th></th>\n",
       "      <th></th>\n",
       "      <th></th>\n",
       "      <th></th>\n",
       "      <th></th>\n",
       "    </tr>\n",
       "  </thead>\n",
       "  <tbody>\n",
       "    <tr>\n",
       "      <th>10</th>\n",
       "      <td>0.096595</td>\n",
       "      <td>0.165167</td>\n",
       "      <td>0.138965</td>\n",
       "      <td>0.050024</td>\n",
       "      <td>0.085384</td>\n",
       "      <td>0.274834</td>\n",
       "      <td>0.152525</td>\n",
       "      <td>0.11397</td>\n",
       "      <td>0.519702</td>\n",
       "      <td>0.365722</td>\n",
       "      <td>...</td>\n",
       "      <td>0.802826</td>\n",
       "      <td>0.41723</td>\n",
       "      <td>0.802826</td>\n",
       "      <td>0.083179</td>\n",
       "      <td>10.657938</td>\n",
       "      <td>0.998402</td>\n",
       "      <td>0.240004</td>\n",
       "      <td>0.821046</td>\n",
       "      <td>1.518592</td>\n",
       "      <td>0.309028</td>\n",
       "    </tr>\n",
       "  </tbody>\n",
       "</table>\n",
       "<p>1 rows × 27 columns</p>\n",
       "</div>"
      ],
      "text/plain": [
       "       PRECISION PRECISION_RECALL_MIN_DEN    RECALL       MAP MAP_MIN_DEN  \\\n",
       "cutoff                                                                      \n",
       "10      0.096595                 0.165167  0.138965  0.050024    0.085384   \n",
       "\n",
       "             MRR      NDCG       F1  HIT_RATE ARHR_ALL_HITS  ...  \\\n",
       "cutoff                                                       ...   \n",
       "10      0.274834  0.152525  0.11397  0.519702      0.365722  ...   \n",
       "\n",
       "       COVERAGE_USER COVERAGE_USER_HIT USERS_IN_GT DIVERSITY_GINI  \\\n",
       "cutoff                                                              \n",
       "10          0.802826           0.41723    0.802826       0.083179   \n",
       "\n",
       "       SHANNON_ENTROPY RATIO_DIVERSITY_HERFINDAHL RATIO_DIVERSITY_GINI  \\\n",
       "cutoff                                                                   \n",
       "10           10.657938                   0.998402             0.240004   \n",
       "\n",
       "       RATIO_SHANNON_ENTROPY RATIO_AVERAGE_POPULARITY RATIO_NOVELTY  \n",
       "cutoff                                                               \n",
       "10                  0.821046                 1.518592      0.309028  \n",
       "\n",
       "[1 rows x 27 columns]"
      ]
     },
     "metadata": {},
     "output_type": "display_data"
    },
    {
     "name": "stdout",
     "output_type": "stream",
     "text": [
      "Item KNN\n",
      "EvaluatorHoldout: Processed 10456 (100.0%) in 17.46 sec. Users per second: 599\n"
     ]
    },
    {
     "data": {
      "text/html": [
       "<div>\n",
       "<style scoped>\n",
       "    .dataframe tbody tr th:only-of-type {\n",
       "        vertical-align: middle;\n",
       "    }\n",
       "\n",
       "    .dataframe tbody tr th {\n",
       "        vertical-align: top;\n",
       "    }\n",
       "\n",
       "    .dataframe thead th {\n",
       "        text-align: right;\n",
       "    }\n",
       "</style>\n",
       "<table border=\"1\" class=\"dataframe\">\n",
       "  <thead>\n",
       "    <tr style=\"text-align: right;\">\n",
       "      <th></th>\n",
       "      <th>PRECISION</th>\n",
       "      <th>PRECISION_RECALL_MIN_DEN</th>\n",
       "      <th>RECALL</th>\n",
       "      <th>MAP</th>\n",
       "      <th>MAP_MIN_DEN</th>\n",
       "      <th>MRR</th>\n",
       "      <th>NDCG</th>\n",
       "      <th>F1</th>\n",
       "      <th>HIT_RATE</th>\n",
       "      <th>ARHR_ALL_HITS</th>\n",
       "      <th>...</th>\n",
       "      <th>COVERAGE_USER</th>\n",
       "      <th>COVERAGE_USER_HIT</th>\n",
       "      <th>USERS_IN_GT</th>\n",
       "      <th>DIVERSITY_GINI</th>\n",
       "      <th>SHANNON_ENTROPY</th>\n",
       "      <th>RATIO_DIVERSITY_HERFINDAHL</th>\n",
       "      <th>RATIO_DIVERSITY_GINI</th>\n",
       "      <th>RATIO_SHANNON_ENTROPY</th>\n",
       "      <th>RATIO_AVERAGE_POPULARITY</th>\n",
       "      <th>RATIO_NOVELTY</th>\n",
       "    </tr>\n",
       "    <tr>\n",
       "      <th>cutoff</th>\n",
       "      <th></th>\n",
       "      <th></th>\n",
       "      <th></th>\n",
       "      <th></th>\n",
       "      <th></th>\n",
       "      <th></th>\n",
       "      <th></th>\n",
       "      <th></th>\n",
       "      <th></th>\n",
       "      <th></th>\n",
       "      <th></th>\n",
       "      <th></th>\n",
       "      <th></th>\n",
       "      <th></th>\n",
       "      <th></th>\n",
       "      <th></th>\n",
       "      <th></th>\n",
       "      <th></th>\n",
       "      <th></th>\n",
       "      <th></th>\n",
       "      <th></th>\n",
       "    </tr>\n",
       "  </thead>\n",
       "  <tbody>\n",
       "    <tr>\n",
       "      <th>10</th>\n",
       "      <td>0.09451</td>\n",
       "      <td>0.161146</td>\n",
       "      <td>0.135378</td>\n",
       "      <td>0.048719</td>\n",
       "      <td>0.082976</td>\n",
       "      <td>0.267977</td>\n",
       "      <td>0.148683</td>\n",
       "      <td>0.111312</td>\n",
       "      <td>0.511572</td>\n",
       "      <td>0.356662</td>\n",
       "      <td>...</td>\n",
       "      <td>0.802826</td>\n",
       "      <td>0.410703</td>\n",
       "      <td>0.802826</td>\n",
       "      <td>0.066309</td>\n",
       "      <td>10.283111</td>\n",
       "      <td>0.997789</td>\n",
       "      <td>0.191329</td>\n",
       "      <td>0.792171</td>\n",
       "      <td>1.734564</td>\n",
       "      <td>0.30426</td>\n",
       "    </tr>\n",
       "  </tbody>\n",
       "</table>\n",
       "<p>1 rows × 27 columns</p>\n",
       "</div>"
      ],
      "text/plain": [
       "       PRECISION PRECISION_RECALL_MIN_DEN    RECALL       MAP MAP_MIN_DEN  \\\n",
       "cutoff                                                                      \n",
       "10       0.09451                 0.161146  0.135378  0.048719    0.082976   \n",
       "\n",
       "             MRR      NDCG        F1  HIT_RATE ARHR_ALL_HITS  ...  \\\n",
       "cutoff                                                        ...   \n",
       "10      0.267977  0.148683  0.111312  0.511572      0.356662  ...   \n",
       "\n",
       "       COVERAGE_USER COVERAGE_USER_HIT USERS_IN_GT DIVERSITY_GINI  \\\n",
       "cutoff                                                              \n",
       "10          0.802826          0.410703    0.802826       0.066309   \n",
       "\n",
       "       SHANNON_ENTROPY RATIO_DIVERSITY_HERFINDAHL RATIO_DIVERSITY_GINI  \\\n",
       "cutoff                                                                   \n",
       "10           10.283111                   0.997789             0.191329   \n",
       "\n",
       "       RATIO_SHANNON_ENTROPY RATIO_AVERAGE_POPULARITY RATIO_NOVELTY  \n",
       "cutoff                                                               \n",
       "10                  0.792171                 1.734564       0.30426  \n",
       "\n",
       "[1 rows x 27 columns]"
      ]
     },
     "metadata": {},
     "output_type": "display_data"
    },
    {
     "name": "stdout",
     "output_type": "stream",
     "text": [
      "RP3 beta\n",
      "EvaluatorHoldout: Processed 10456 (100.0%) in 9.58 sec. Users per second: 1091\n"
     ]
    },
    {
     "data": {
      "text/html": [
       "<div>\n",
       "<style scoped>\n",
       "    .dataframe tbody tr th:only-of-type {\n",
       "        vertical-align: middle;\n",
       "    }\n",
       "\n",
       "    .dataframe tbody tr th {\n",
       "        vertical-align: top;\n",
       "    }\n",
       "\n",
       "    .dataframe thead th {\n",
       "        text-align: right;\n",
       "    }\n",
       "</style>\n",
       "<table border=\"1\" class=\"dataframe\">\n",
       "  <thead>\n",
       "    <tr style=\"text-align: right;\">\n",
       "      <th></th>\n",
       "      <th>PRECISION</th>\n",
       "      <th>PRECISION_RECALL_MIN_DEN</th>\n",
       "      <th>RECALL</th>\n",
       "      <th>MAP</th>\n",
       "      <th>MAP_MIN_DEN</th>\n",
       "      <th>MRR</th>\n",
       "      <th>NDCG</th>\n",
       "      <th>F1</th>\n",
       "      <th>HIT_RATE</th>\n",
       "      <th>ARHR_ALL_HITS</th>\n",
       "      <th>...</th>\n",
       "      <th>COVERAGE_USER</th>\n",
       "      <th>COVERAGE_USER_HIT</th>\n",
       "      <th>USERS_IN_GT</th>\n",
       "      <th>DIVERSITY_GINI</th>\n",
       "      <th>SHANNON_ENTROPY</th>\n",
       "      <th>RATIO_DIVERSITY_HERFINDAHL</th>\n",
       "      <th>RATIO_DIVERSITY_GINI</th>\n",
       "      <th>RATIO_SHANNON_ENTROPY</th>\n",
       "      <th>RATIO_AVERAGE_POPULARITY</th>\n",
       "      <th>RATIO_NOVELTY</th>\n",
       "    </tr>\n",
       "    <tr>\n",
       "      <th>cutoff</th>\n",
       "      <th></th>\n",
       "      <th></th>\n",
       "      <th></th>\n",
       "      <th></th>\n",
       "      <th></th>\n",
       "      <th></th>\n",
       "      <th></th>\n",
       "      <th></th>\n",
       "      <th></th>\n",
       "      <th></th>\n",
       "      <th></th>\n",
       "      <th></th>\n",
       "      <th></th>\n",
       "      <th></th>\n",
       "      <th></th>\n",
       "      <th></th>\n",
       "      <th></th>\n",
       "      <th></th>\n",
       "      <th></th>\n",
       "      <th></th>\n",
       "      <th></th>\n",
       "    </tr>\n",
       "  </thead>\n",
       "  <tbody>\n",
       "    <tr>\n",
       "      <th>10</th>\n",
       "      <td>0.095008</td>\n",
       "      <td>0.162969</td>\n",
       "      <td>0.137154</td>\n",
       "      <td>0.04916</td>\n",
       "      <td>0.084325</td>\n",
       "      <td>0.273626</td>\n",
       "      <td>0.150836</td>\n",
       "      <td>0.112255</td>\n",
       "      <td>0.517598</td>\n",
       "      <td>0.361989</td>\n",
       "      <td>...</td>\n",
       "      <td>0.802826</td>\n",
       "      <td>0.415541</td>\n",
       "      <td>0.802826</td>\n",
       "      <td>0.095265</td>\n",
       "      <td>10.876609</td>\n",
       "      <td>0.998685</td>\n",
       "      <td>0.274877</td>\n",
       "      <td>0.837892</td>\n",
       "      <td>1.348527</td>\n",
       "      <td>0.315394</td>\n",
       "    </tr>\n",
       "  </tbody>\n",
       "</table>\n",
       "<p>1 rows × 27 columns</p>\n",
       "</div>"
      ],
      "text/plain": [
       "       PRECISION PRECISION_RECALL_MIN_DEN    RECALL      MAP MAP_MIN_DEN  \\\n",
       "cutoff                                                                     \n",
       "10      0.095008                 0.162969  0.137154  0.04916    0.084325   \n",
       "\n",
       "             MRR      NDCG        F1  HIT_RATE ARHR_ALL_HITS  ...  \\\n",
       "cutoff                                                        ...   \n",
       "10      0.273626  0.150836  0.112255  0.517598      0.361989  ...   \n",
       "\n",
       "       COVERAGE_USER COVERAGE_USER_HIT USERS_IN_GT DIVERSITY_GINI  \\\n",
       "cutoff                                                              \n",
       "10          0.802826          0.415541    0.802826       0.095265   \n",
       "\n",
       "       SHANNON_ENTROPY RATIO_DIVERSITY_HERFINDAHL RATIO_DIVERSITY_GINI  \\\n",
       "cutoff                                                                   \n",
       "10           10.876609                   0.998685             0.274877   \n",
       "\n",
       "       RATIO_SHANNON_ENTROPY RATIO_AVERAGE_POPULARITY RATIO_NOVELTY  \n",
       "cutoff                                                               \n",
       "10                  0.837892                 1.348527      0.315394  \n",
       "\n",
       "[1 rows x 27 columns]"
      ]
     },
     "metadata": {},
     "output_type": "display_data"
    },
    {
     "name": "stdout",
     "output_type": "stream",
     "text": [
      "P3 alpha\n",
      "EvaluatorHoldout: Processed 10456 (100.0%) in 9.50 sec. Users per second: 1101\n"
     ]
    },
    {
     "data": {
      "text/html": [
       "<div>\n",
       "<style scoped>\n",
       "    .dataframe tbody tr th:only-of-type {\n",
       "        vertical-align: middle;\n",
       "    }\n",
       "\n",
       "    .dataframe tbody tr th {\n",
       "        vertical-align: top;\n",
       "    }\n",
       "\n",
       "    .dataframe thead th {\n",
       "        text-align: right;\n",
       "    }\n",
       "</style>\n",
       "<table border=\"1\" class=\"dataframe\">\n",
       "  <thead>\n",
       "    <tr style=\"text-align: right;\">\n",
       "      <th></th>\n",
       "      <th>PRECISION</th>\n",
       "      <th>PRECISION_RECALL_MIN_DEN</th>\n",
       "      <th>RECALL</th>\n",
       "      <th>MAP</th>\n",
       "      <th>MAP_MIN_DEN</th>\n",
       "      <th>MRR</th>\n",
       "      <th>NDCG</th>\n",
       "      <th>F1</th>\n",
       "      <th>HIT_RATE</th>\n",
       "      <th>ARHR_ALL_HITS</th>\n",
       "      <th>...</th>\n",
       "      <th>COVERAGE_USER</th>\n",
       "      <th>COVERAGE_USER_HIT</th>\n",
       "      <th>USERS_IN_GT</th>\n",
       "      <th>DIVERSITY_GINI</th>\n",
       "      <th>SHANNON_ENTROPY</th>\n",
       "      <th>RATIO_DIVERSITY_HERFINDAHL</th>\n",
       "      <th>RATIO_DIVERSITY_GINI</th>\n",
       "      <th>RATIO_SHANNON_ENTROPY</th>\n",
       "      <th>RATIO_AVERAGE_POPULARITY</th>\n",
       "      <th>RATIO_NOVELTY</th>\n",
       "    </tr>\n",
       "    <tr>\n",
       "      <th>cutoff</th>\n",
       "      <th></th>\n",
       "      <th></th>\n",
       "      <th></th>\n",
       "      <th></th>\n",
       "      <th></th>\n",
       "      <th></th>\n",
       "      <th></th>\n",
       "      <th></th>\n",
       "      <th></th>\n",
       "      <th></th>\n",
       "      <th></th>\n",
       "      <th></th>\n",
       "      <th></th>\n",
       "      <th></th>\n",
       "      <th></th>\n",
       "      <th></th>\n",
       "      <th></th>\n",
       "      <th></th>\n",
       "      <th></th>\n",
       "      <th></th>\n",
       "      <th></th>\n",
       "    </tr>\n",
       "  </thead>\n",
       "  <tbody>\n",
       "    <tr>\n",
       "      <th>10</th>\n",
       "      <td>0.092358</td>\n",
       "      <td>0.15618</td>\n",
       "      <td>0.130929</td>\n",
       "      <td>0.047745</td>\n",
       "      <td>0.081353</td>\n",
       "      <td>0.267656</td>\n",
       "      <td>0.146022</td>\n",
       "      <td>0.108312</td>\n",
       "      <td>0.507269</td>\n",
       "      <td>0.352674</td>\n",
       "      <td>...</td>\n",
       "      <td>0.802826</td>\n",
       "      <td>0.407248</td>\n",
       "      <td>0.802826</td>\n",
       "      <td>0.069984</td>\n",
       "      <td>10.530815</td>\n",
       "      <td>0.998437</td>\n",
       "      <td>0.201933</td>\n",
       "      <td>0.811253</td>\n",
       "      <td>1.356167</td>\n",
       "      <td>0.311674</td>\n",
       "    </tr>\n",
       "  </tbody>\n",
       "</table>\n",
       "<p>1 rows × 27 columns</p>\n",
       "</div>"
      ],
      "text/plain": [
       "       PRECISION PRECISION_RECALL_MIN_DEN    RECALL       MAP MAP_MIN_DEN  \\\n",
       "cutoff                                                                      \n",
       "10      0.092358                  0.15618  0.130929  0.047745    0.081353   \n",
       "\n",
       "             MRR      NDCG        F1  HIT_RATE ARHR_ALL_HITS  ...  \\\n",
       "cutoff                                                        ...   \n",
       "10      0.267656  0.146022  0.108312  0.507269      0.352674  ...   \n",
       "\n",
       "       COVERAGE_USER COVERAGE_USER_HIT USERS_IN_GT DIVERSITY_GINI  \\\n",
       "cutoff                                                              \n",
       "10          0.802826          0.407248    0.802826       0.069984   \n",
       "\n",
       "       SHANNON_ENTROPY RATIO_DIVERSITY_HERFINDAHL RATIO_DIVERSITY_GINI  \\\n",
       "cutoff                                                                   \n",
       "10           10.530815                   0.998437             0.201933   \n",
       "\n",
       "       RATIO_SHANNON_ENTROPY RATIO_AVERAGE_POPULARITY RATIO_NOVELTY  \n",
       "cutoff                                                               \n",
       "10                  0.811253                 1.356167      0.311674  \n",
       "\n",
       "[1 rows x 27 columns]"
      ]
     },
     "metadata": {},
     "output_type": "display_data"
    },
    {
     "name": "stdout",
     "output_type": "stream",
     "text": [
      "User KNN\n",
      "EvaluatorHoldout: Processed 10456 (100.0%) in 13.56 sec. Users per second: 771\n"
     ]
    },
    {
     "data": {
      "text/html": [
       "<div>\n",
       "<style scoped>\n",
       "    .dataframe tbody tr th:only-of-type {\n",
       "        vertical-align: middle;\n",
       "    }\n",
       "\n",
       "    .dataframe tbody tr th {\n",
       "        vertical-align: top;\n",
       "    }\n",
       "\n",
       "    .dataframe thead th {\n",
       "        text-align: right;\n",
       "    }\n",
       "</style>\n",
       "<table border=\"1\" class=\"dataframe\">\n",
       "  <thead>\n",
       "    <tr style=\"text-align: right;\">\n",
       "      <th></th>\n",
       "      <th>PRECISION</th>\n",
       "      <th>PRECISION_RECALL_MIN_DEN</th>\n",
       "      <th>RECALL</th>\n",
       "      <th>MAP</th>\n",
       "      <th>MAP_MIN_DEN</th>\n",
       "      <th>MRR</th>\n",
       "      <th>NDCG</th>\n",
       "      <th>F1</th>\n",
       "      <th>HIT_RATE</th>\n",
       "      <th>ARHR_ALL_HITS</th>\n",
       "      <th>...</th>\n",
       "      <th>COVERAGE_USER</th>\n",
       "      <th>COVERAGE_USER_HIT</th>\n",
       "      <th>USERS_IN_GT</th>\n",
       "      <th>DIVERSITY_GINI</th>\n",
       "      <th>SHANNON_ENTROPY</th>\n",
       "      <th>RATIO_DIVERSITY_HERFINDAHL</th>\n",
       "      <th>RATIO_DIVERSITY_GINI</th>\n",
       "      <th>RATIO_SHANNON_ENTROPY</th>\n",
       "      <th>RATIO_AVERAGE_POPULARITY</th>\n",
       "      <th>RATIO_NOVELTY</th>\n",
       "    </tr>\n",
       "    <tr>\n",
       "      <th>cutoff</th>\n",
       "      <th></th>\n",
       "      <th></th>\n",
       "      <th></th>\n",
       "      <th></th>\n",
       "      <th></th>\n",
       "      <th></th>\n",
       "      <th></th>\n",
       "      <th></th>\n",
       "      <th></th>\n",
       "      <th></th>\n",
       "      <th></th>\n",
       "      <th></th>\n",
       "      <th></th>\n",
       "      <th></th>\n",
       "      <th></th>\n",
       "      <th></th>\n",
       "      <th></th>\n",
       "      <th></th>\n",
       "      <th></th>\n",
       "      <th></th>\n",
       "      <th></th>\n",
       "    </tr>\n",
       "  </thead>\n",
       "  <tbody>\n",
       "    <tr>\n",
       "      <th>10</th>\n",
       "      <td>0.07172</td>\n",
       "      <td>0.128756</td>\n",
       "      <td>0.110157</td>\n",
       "      <td>0.035281</td>\n",
       "      <td>0.062836</td>\n",
       "      <td>0.223137</td>\n",
       "      <td>0.116955</td>\n",
       "      <td>0.086877</td>\n",
       "      <td>0.446251</td>\n",
       "      <td>0.278756</td>\n",
       "      <td>...</td>\n",
       "      <td>0.802826</td>\n",
       "      <td>0.358262</td>\n",
       "      <td>0.802826</td>\n",
       "      <td>0.012513</td>\n",
       "      <td>7.842357</td>\n",
       "      <td>0.986392</td>\n",
       "      <td>0.036106</td>\n",
       "      <td>0.604145</td>\n",
       "      <td>3.565726</td>\n",
       "      <td>0.26052</td>\n",
       "    </tr>\n",
       "  </tbody>\n",
       "</table>\n",
       "<p>1 rows × 27 columns</p>\n",
       "</div>"
      ],
      "text/plain": [
       "       PRECISION PRECISION_RECALL_MIN_DEN    RECALL       MAP MAP_MIN_DEN  \\\n",
       "cutoff                                                                      \n",
       "10       0.07172                 0.128756  0.110157  0.035281    0.062836   \n",
       "\n",
       "             MRR      NDCG        F1  HIT_RATE ARHR_ALL_HITS  ...  \\\n",
       "cutoff                                                        ...   \n",
       "10      0.223137  0.116955  0.086877  0.446251      0.278756  ...   \n",
       "\n",
       "       COVERAGE_USER COVERAGE_USER_HIT USERS_IN_GT DIVERSITY_GINI  \\\n",
       "cutoff                                                              \n",
       "10          0.802826          0.358262    0.802826       0.012513   \n",
       "\n",
       "       SHANNON_ENTROPY RATIO_DIVERSITY_HERFINDAHL RATIO_DIVERSITY_GINI  \\\n",
       "cutoff                                                                   \n",
       "10            7.842357                   0.986392             0.036106   \n",
       "\n",
       "       RATIO_SHANNON_ENTROPY RATIO_AVERAGE_POPULARITY RATIO_NOVELTY  \n",
       "cutoff                                                               \n",
       "10                  0.604145                 3.565726       0.26052  \n",
       "\n",
       "[1 rows x 27 columns]"
      ]
     },
     "metadata": {},
     "output_type": "display_data"
    },
    {
     "name": "stdout",
     "output_type": "stream",
     "text": [
      "SLIM Elastic\n",
      "EvaluatorHoldout: Processed 10456 (100.0%) in 13.37 sec. Users per second: 782\n"
     ]
    },
    {
     "data": {
      "text/html": [
       "<div>\n",
       "<style scoped>\n",
       "    .dataframe tbody tr th:only-of-type {\n",
       "        vertical-align: middle;\n",
       "    }\n",
       "\n",
       "    .dataframe tbody tr th {\n",
       "        vertical-align: top;\n",
       "    }\n",
       "\n",
       "    .dataframe thead th {\n",
       "        text-align: right;\n",
       "    }\n",
       "</style>\n",
       "<table border=\"1\" class=\"dataframe\">\n",
       "  <thead>\n",
       "    <tr style=\"text-align: right;\">\n",
       "      <th></th>\n",
       "      <th>PRECISION</th>\n",
       "      <th>PRECISION_RECALL_MIN_DEN</th>\n",
       "      <th>RECALL</th>\n",
       "      <th>MAP</th>\n",
       "      <th>MAP_MIN_DEN</th>\n",
       "      <th>MRR</th>\n",
       "      <th>NDCG</th>\n",
       "      <th>F1</th>\n",
       "      <th>HIT_RATE</th>\n",
       "      <th>ARHR_ALL_HITS</th>\n",
       "      <th>...</th>\n",
       "      <th>COVERAGE_USER</th>\n",
       "      <th>COVERAGE_USER_HIT</th>\n",
       "      <th>USERS_IN_GT</th>\n",
       "      <th>DIVERSITY_GINI</th>\n",
       "      <th>SHANNON_ENTROPY</th>\n",
       "      <th>RATIO_DIVERSITY_HERFINDAHL</th>\n",
       "      <th>RATIO_DIVERSITY_GINI</th>\n",
       "      <th>RATIO_SHANNON_ENTROPY</th>\n",
       "      <th>RATIO_AVERAGE_POPULARITY</th>\n",
       "      <th>RATIO_NOVELTY</th>\n",
       "    </tr>\n",
       "    <tr>\n",
       "      <th>cutoff</th>\n",
       "      <th></th>\n",
       "      <th></th>\n",
       "      <th></th>\n",
       "      <th></th>\n",
       "      <th></th>\n",
       "      <th></th>\n",
       "      <th></th>\n",
       "      <th></th>\n",
       "      <th></th>\n",
       "      <th></th>\n",
       "      <th></th>\n",
       "      <th></th>\n",
       "      <th></th>\n",
       "      <th></th>\n",
       "      <th></th>\n",
       "      <th></th>\n",
       "      <th></th>\n",
       "      <th></th>\n",
       "      <th></th>\n",
       "      <th></th>\n",
       "      <th></th>\n",
       "    </tr>\n",
       "  </thead>\n",
       "  <tbody>\n",
       "    <tr>\n",
       "      <th>10</th>\n",
       "      <td>0.097752</td>\n",
       "      <td>0.165757</td>\n",
       "      <td>0.139187</td>\n",
       "      <td>0.05124</td>\n",
       "      <td>0.086426</td>\n",
       "      <td>0.282607</td>\n",
       "      <td>0.154679</td>\n",
       "      <td>0.114847</td>\n",
       "      <td>0.52477</td>\n",
       "      <td>0.375707</td>\n",
       "      <td>...</td>\n",
       "      <td>0.802826</td>\n",
       "      <td>0.421299</td>\n",
       "      <td>0.802826</td>\n",
       "      <td>0.059374</td>\n",
       "      <td>10.474793</td>\n",
       "      <td>0.998673</td>\n",
       "      <td>0.171318</td>\n",
       "      <td>0.806937</td>\n",
       "      <td>1.547674</td>\n",
       "      <td>0.300111</td>\n",
       "    </tr>\n",
       "  </tbody>\n",
       "</table>\n",
       "<p>1 rows × 27 columns</p>\n",
       "</div>"
      ],
      "text/plain": [
       "       PRECISION PRECISION_RECALL_MIN_DEN    RECALL      MAP MAP_MIN_DEN  \\\n",
       "cutoff                                                                     \n",
       "10      0.097752                 0.165757  0.139187  0.05124    0.086426   \n",
       "\n",
       "             MRR      NDCG        F1 HIT_RATE ARHR_ALL_HITS  ...  \\\n",
       "cutoff                                                       ...   \n",
       "10      0.282607  0.154679  0.114847  0.52477      0.375707  ...   \n",
       "\n",
       "       COVERAGE_USER COVERAGE_USER_HIT USERS_IN_GT DIVERSITY_GINI  \\\n",
       "cutoff                                                              \n",
       "10          0.802826          0.421299    0.802826       0.059374   \n",
       "\n",
       "       SHANNON_ENTROPY RATIO_DIVERSITY_HERFINDAHL RATIO_DIVERSITY_GINI  \\\n",
       "cutoff                                                                   \n",
       "10           10.474793                   0.998673             0.171318   \n",
       "\n",
       "       RATIO_SHANNON_ENTROPY RATIO_AVERAGE_POPULARITY RATIO_NOVELTY  \n",
       "cutoff                                                               \n",
       "10                  0.806937                 1.547674      0.300111  \n",
       "\n",
       "[1 rows x 27 columns]"
      ]
     },
     "metadata": {},
     "output_type": "display_data"
    },
    {
     "name": "stdout",
     "output_type": "stream",
     "text": [
      "EASE R\n",
      "EvaluatorHoldout: Processed 10456 (100.0%) in 15.48 sec. Users per second: 676\n"
     ]
    },
    {
     "data": {
      "text/html": [
       "<div>\n",
       "<style scoped>\n",
       "    .dataframe tbody tr th:only-of-type {\n",
       "        vertical-align: middle;\n",
       "    }\n",
       "\n",
       "    .dataframe tbody tr th {\n",
       "        vertical-align: top;\n",
       "    }\n",
       "\n",
       "    .dataframe thead th {\n",
       "        text-align: right;\n",
       "    }\n",
       "</style>\n",
       "<table border=\"1\" class=\"dataframe\">\n",
       "  <thead>\n",
       "    <tr style=\"text-align: right;\">\n",
       "      <th></th>\n",
       "      <th>PRECISION</th>\n",
       "      <th>PRECISION_RECALL_MIN_DEN</th>\n",
       "      <th>RECALL</th>\n",
       "      <th>MAP</th>\n",
       "      <th>MAP_MIN_DEN</th>\n",
       "      <th>MRR</th>\n",
       "      <th>NDCG</th>\n",
       "      <th>F1</th>\n",
       "      <th>HIT_RATE</th>\n",
       "      <th>ARHR_ALL_HITS</th>\n",
       "      <th>...</th>\n",
       "      <th>COVERAGE_USER</th>\n",
       "      <th>COVERAGE_USER_HIT</th>\n",
       "      <th>USERS_IN_GT</th>\n",
       "      <th>DIVERSITY_GINI</th>\n",
       "      <th>SHANNON_ENTROPY</th>\n",
       "      <th>RATIO_DIVERSITY_HERFINDAHL</th>\n",
       "      <th>RATIO_DIVERSITY_GINI</th>\n",
       "      <th>RATIO_SHANNON_ENTROPY</th>\n",
       "      <th>RATIO_AVERAGE_POPULARITY</th>\n",
       "      <th>RATIO_NOVELTY</th>\n",
       "    </tr>\n",
       "    <tr>\n",
       "      <th>cutoff</th>\n",
       "      <th></th>\n",
       "      <th></th>\n",
       "      <th></th>\n",
       "      <th></th>\n",
       "      <th></th>\n",
       "      <th></th>\n",
       "      <th></th>\n",
       "      <th></th>\n",
       "      <th></th>\n",
       "      <th></th>\n",
       "      <th></th>\n",
       "      <th></th>\n",
       "      <th></th>\n",
       "      <th></th>\n",
       "      <th></th>\n",
       "      <th></th>\n",
       "      <th></th>\n",
       "      <th></th>\n",
       "      <th></th>\n",
       "      <th></th>\n",
       "      <th></th>\n",
       "    </tr>\n",
       "  </thead>\n",
       "  <tbody>\n",
       "    <tr>\n",
       "      <th>10</th>\n",
       "      <td>0.087395</td>\n",
       "      <td>0.152428</td>\n",
       "      <td>0.129216</td>\n",
       "      <td>0.044693</td>\n",
       "      <td>0.077831</td>\n",
       "      <td>0.260324</td>\n",
       "      <td>0.140755</td>\n",
       "      <td>0.104268</td>\n",
       "      <td>0.497226</td>\n",
       "      <td>0.338086</td>\n",
       "      <td>...</td>\n",
       "      <td>0.802826</td>\n",
       "      <td>0.399186</td>\n",
       "      <td>0.802826</td>\n",
       "      <td>0.030673</td>\n",
       "      <td>9.45323</td>\n",
       "      <td>0.997032</td>\n",
       "      <td>0.088505</td>\n",
       "      <td>0.72824</td>\n",
       "      <td>2.076019</td>\n",
       "      <td>0.284205</td>\n",
       "    </tr>\n",
       "  </tbody>\n",
       "</table>\n",
       "<p>1 rows × 27 columns</p>\n",
       "</div>"
      ],
      "text/plain": [
       "       PRECISION PRECISION_RECALL_MIN_DEN    RECALL       MAP MAP_MIN_DEN  \\\n",
       "cutoff                                                                      \n",
       "10      0.087395                 0.152428  0.129216  0.044693    0.077831   \n",
       "\n",
       "             MRR      NDCG        F1  HIT_RATE ARHR_ALL_HITS  ...  \\\n",
       "cutoff                                                        ...   \n",
       "10      0.260324  0.140755  0.104268  0.497226      0.338086  ...   \n",
       "\n",
       "       COVERAGE_USER COVERAGE_USER_HIT USERS_IN_GT DIVERSITY_GINI  \\\n",
       "cutoff                                                              \n",
       "10          0.802826          0.399186    0.802826       0.030673   \n",
       "\n",
       "       SHANNON_ENTROPY RATIO_DIVERSITY_HERFINDAHL RATIO_DIVERSITY_GINI  \\\n",
       "cutoff                                                                   \n",
       "10             9.45323                   0.997032             0.088505   \n",
       "\n",
       "       RATIO_SHANNON_ENTROPY RATIO_AVERAGE_POPULARITY RATIO_NOVELTY  \n",
       "cutoff                                                               \n",
       "10                   0.72824                 2.076019      0.284205  \n",
       "\n",
       "[1 rows x 27 columns]"
      ]
     },
     "metadata": {},
     "output_type": "display_data"
    },
    {
     "name": "stdout",
     "output_type": "stream",
     "text": [
      "IALS\n",
      "EvaluatorHoldout: Processed 10456 (100.0%) in 15.92 sec. Users per second: 657\n"
     ]
    },
    {
     "data": {
      "text/html": [
       "<div>\n",
       "<style scoped>\n",
       "    .dataframe tbody tr th:only-of-type {\n",
       "        vertical-align: middle;\n",
       "    }\n",
       "\n",
       "    .dataframe tbody tr th {\n",
       "        vertical-align: top;\n",
       "    }\n",
       "\n",
       "    .dataframe thead th {\n",
       "        text-align: right;\n",
       "    }\n",
       "</style>\n",
       "<table border=\"1\" class=\"dataframe\">\n",
       "  <thead>\n",
       "    <tr style=\"text-align: right;\">\n",
       "      <th></th>\n",
       "      <th>PRECISION</th>\n",
       "      <th>PRECISION_RECALL_MIN_DEN</th>\n",
       "      <th>RECALL</th>\n",
       "      <th>MAP</th>\n",
       "      <th>MAP_MIN_DEN</th>\n",
       "      <th>MRR</th>\n",
       "      <th>NDCG</th>\n",
       "      <th>F1</th>\n",
       "      <th>HIT_RATE</th>\n",
       "      <th>ARHR_ALL_HITS</th>\n",
       "      <th>...</th>\n",
       "      <th>COVERAGE_USER</th>\n",
       "      <th>COVERAGE_USER_HIT</th>\n",
       "      <th>USERS_IN_GT</th>\n",
       "      <th>DIVERSITY_GINI</th>\n",
       "      <th>SHANNON_ENTROPY</th>\n",
       "      <th>RATIO_DIVERSITY_HERFINDAHL</th>\n",
       "      <th>RATIO_DIVERSITY_GINI</th>\n",
       "      <th>RATIO_SHANNON_ENTROPY</th>\n",
       "      <th>RATIO_AVERAGE_POPULARITY</th>\n",
       "      <th>RATIO_NOVELTY</th>\n",
       "    </tr>\n",
       "    <tr>\n",
       "      <th>cutoff</th>\n",
       "      <th></th>\n",
       "      <th></th>\n",
       "      <th></th>\n",
       "      <th></th>\n",
       "      <th></th>\n",
       "      <th></th>\n",
       "      <th></th>\n",
       "      <th></th>\n",
       "      <th></th>\n",
       "      <th></th>\n",
       "      <th></th>\n",
       "      <th></th>\n",
       "      <th></th>\n",
       "      <th></th>\n",
       "      <th></th>\n",
       "      <th></th>\n",
       "      <th></th>\n",
       "      <th></th>\n",
       "      <th></th>\n",
       "      <th></th>\n",
       "      <th></th>\n",
       "    </tr>\n",
       "  </thead>\n",
       "  <tbody>\n",
       "    <tr>\n",
       "      <th>10</th>\n",
       "      <td>0.08224</td>\n",
       "      <td>0.144123</td>\n",
       "      <td>0.122645</td>\n",
       "      <td>0.041501</td>\n",
       "      <td>0.071584</td>\n",
       "      <td>0.246255</td>\n",
       "      <td>0.131701</td>\n",
       "      <td>0.098458</td>\n",
       "      <td>0.479055</td>\n",
       "      <td>0.316769</td>\n",
       "      <td>...</td>\n",
       "      <td>0.802826</td>\n",
       "      <td>0.384598</td>\n",
       "      <td>0.802826</td>\n",
       "      <td>0.029074</td>\n",
       "      <td>9.74689</td>\n",
       "      <td>0.998532</td>\n",
       "      <td>0.08389</td>\n",
       "      <td>0.750862</td>\n",
       "      <td>1.599865</td>\n",
       "      <td>0.289534</td>\n",
       "    </tr>\n",
       "  </tbody>\n",
       "</table>\n",
       "<p>1 rows × 27 columns</p>\n",
       "</div>"
      ],
      "text/plain": [
       "       PRECISION PRECISION_RECALL_MIN_DEN    RECALL       MAP MAP_MIN_DEN  \\\n",
       "cutoff                                                                      \n",
       "10       0.08224                 0.144123  0.122645  0.041501    0.071584   \n",
       "\n",
       "             MRR      NDCG        F1  HIT_RATE ARHR_ALL_HITS  ...  \\\n",
       "cutoff                                                        ...   \n",
       "10      0.246255  0.131701  0.098458  0.479055      0.316769  ...   \n",
       "\n",
       "       COVERAGE_USER COVERAGE_USER_HIT USERS_IN_GT DIVERSITY_GINI  \\\n",
       "cutoff                                                              \n",
       "10          0.802826          0.384598    0.802826       0.029074   \n",
       "\n",
       "       SHANNON_ENTROPY RATIO_DIVERSITY_HERFINDAHL RATIO_DIVERSITY_GINI  \\\n",
       "cutoff                                                                   \n",
       "10             9.74689                   0.998532              0.08389   \n",
       "\n",
       "       RATIO_SHANNON_ENTROPY RATIO_AVERAGE_POPULARITY RATIO_NOVELTY  \n",
       "cutoff                                                               \n",
       "10                  0.750862                 1.599865      0.289534  \n",
       "\n",
       "[1 rows x 27 columns]"
      ]
     },
     "metadata": {},
     "output_type": "display_data"
    }
   ],
   "source": [
    "evaluator = EvaluatorHoldout(URM_test_complete, cutoff_list=[10])\n",
    "\n",
    "print('Merging Models')\n",
    "result_df, _ = evaluator.evaluateRecommender(hybrid_similarity)\n",
    "display(result_df)\n",
    "print('Item KNN')\n",
    "result_df, _ = evaluator.evaluateRecommender(recommender_item)\n",
    "display(result_df)\n",
    "print('RP3 beta')\n",
    "result_df, _ = evaluator.evaluateRecommender(recommender_rp3)\n",
    "display(result_df)\n",
    "print('P3 alpha')\n",
    "result_df, _ = evaluator.evaluateRecommender(recommender_p3a)\n",
    "display(result_df)\n",
    "print('User KNN')\n",
    "result_df, _ = evaluator.evaluateRecommender(recommender_user)\n",
    "display(result_df)\n",
    "print('SLIM Elastic')\n",
    "result_df, _ = evaluator.evaluateRecommender(recommender_slim)\n",
    "display(result_df)\n",
    "print('EASE R')\n",
    "result_df, _ = evaluator.evaluateRecommender(recommender_ease_r)\n",
    "display(result_df)\n",
    "print('IALS')\n",
    "result_df, _ = evaluator.evaluateRecommender(recommender_ials)\n",
    "display(result_df)"
   ]
  },
  {
   "cell_type": "code",
   "execution_count": 21,
   "id": "221fd728",
   "metadata": {
    "execution": {
     "iopub.execute_input": "2023-12-08T22:32:47.787907Z",
     "iopub.status.busy": "2023-12-08T22:32:47.786950Z",
     "iopub.status.idle": "2023-12-08T22:32:47.800983Z",
     "shell.execute_reply": "2023-12-08T22:32:47.799826Z"
    },
    "papermill": {
     "duration": 0.051215,
     "end_time": "2023-12-08T22:32:47.803690",
     "exception": false,
     "start_time": "2023-12-08T22:32:47.752475",
     "status": "completed"
    },
    "tags": []
   },
   "outputs": [],
   "source": [
    "class PipelineRecommender(BaseRecommender):\n",
    "    def __init__(self, URM_train, recommenders: list[BaseRecommender], cutoffs):\n",
    "        super(PipelineRecommender, self).__init__(URM_train)\n",
    "        self.recommenders = recommenders\n",
    "        self.cutoffs = cutoffs\n",
    "        \n",
    "    def recommend(self, user_ids, cutoff=10, remove_seen_flag=True, remove_top_pop_flag=False, return_scores=True, remove_custom_items_flag=True):\n",
    "        \n",
    "        recommendations = None\n",
    "        for recommender_cutoff, recommender in zip(self.cutoffs, self.recommenders):\n",
    "            recommender_scores = recommender._compute_item_score(user_ids)\n",
    "            \n",
    "            for i, user_id in enumerate(user_ids):\n",
    "                recommender_scores[i, :] = self._remove_seen_on_scores(user_id, recommender_scores[i, :])\n",
    "            \n",
    "            if recommendations is None:\n",
    "                recommendations = np.argsort(recommender_scores, axis=1)[:, -recommender_cutoff:]\n",
    "                \n",
    "            else:\n",
    "                filtered_scores = np.full_like(recommender_scores, -np.inf)\n",
    "                for i in range(recommendations.shape[0]):\n",
    "                    row_indices = recommendations[i]\n",
    "                    filtered_scores[i, row_indices] = recommender_scores[i, row_indices]\n",
    "                recommendations = np.argsort(filtered_scores, axis=1)[:, -recommender_cutoff:]              \n",
    "                \n",
    "        if return_scores:\n",
    "            return np.flip(recommendations[:, -cutoff:], axis=1), filtered_scores\n",
    "        return np.flip(recommendations[:, -cutoff:], axis=1)"
   ]
  },
  {
   "cell_type": "code",
   "execution_count": 22,
   "id": "170c2f30",
   "metadata": {
    "execution": {
     "iopub.execute_input": "2023-12-08T22:32:47.870011Z",
     "iopub.status.busy": "2023-12-08T22:32:47.868825Z",
     "iopub.status.idle": "2023-12-08T22:33:16.865561Z",
     "shell.execute_reply": "2023-12-08T22:33:16.864279Z"
    },
    "papermill": {
     "duration": 29.032767,
     "end_time": "2023-12-08T22:33:16.868242",
     "exception": false,
     "start_time": "2023-12-08T22:32:47.835475",
     "status": "completed"
    },
    "tags": []
   },
   "outputs": [
    {
     "name": "stdout",
     "output_type": "stream",
     "text": [
      "Recommender_Base_Class: URM Detected 627 ( 4.8%) users with no interactions.\n",
      "Recommender_Base_Class: URM Detected 247 ( 1.1%) items with no interactions.\n",
      "EvaluatorHoldout: Processed 10456 (100.0%) in 28.94 sec. Users per second: 361\n"
     ]
    },
    {
     "data": {
      "text/html": [
       "<div>\n",
       "<style scoped>\n",
       "    .dataframe tbody tr th:only-of-type {\n",
       "        vertical-align: middle;\n",
       "    }\n",
       "\n",
       "    .dataframe tbody tr th {\n",
       "        vertical-align: top;\n",
       "    }\n",
       "\n",
       "    .dataframe thead th {\n",
       "        text-align: right;\n",
       "    }\n",
       "</style>\n",
       "<table border=\"1\" class=\"dataframe\">\n",
       "  <thead>\n",
       "    <tr style=\"text-align: right;\">\n",
       "      <th></th>\n",
       "      <th>PRECISION</th>\n",
       "      <th>PRECISION_RECALL_MIN_DEN</th>\n",
       "      <th>RECALL</th>\n",
       "      <th>MAP</th>\n",
       "      <th>MAP_MIN_DEN</th>\n",
       "      <th>MRR</th>\n",
       "      <th>NDCG</th>\n",
       "      <th>F1</th>\n",
       "      <th>HIT_RATE</th>\n",
       "      <th>ARHR_ALL_HITS</th>\n",
       "      <th>...</th>\n",
       "      <th>COVERAGE_USER</th>\n",
       "      <th>COVERAGE_USER_HIT</th>\n",
       "      <th>USERS_IN_GT</th>\n",
       "      <th>DIVERSITY_GINI</th>\n",
       "      <th>SHANNON_ENTROPY</th>\n",
       "      <th>RATIO_DIVERSITY_HERFINDAHL</th>\n",
       "      <th>RATIO_DIVERSITY_GINI</th>\n",
       "      <th>RATIO_SHANNON_ENTROPY</th>\n",
       "      <th>RATIO_AVERAGE_POPULARITY</th>\n",
       "      <th>RATIO_NOVELTY</th>\n",
       "    </tr>\n",
       "    <tr>\n",
       "      <th>cutoff</th>\n",
       "      <th></th>\n",
       "      <th></th>\n",
       "      <th></th>\n",
       "      <th></th>\n",
       "      <th></th>\n",
       "      <th></th>\n",
       "      <th></th>\n",
       "      <th></th>\n",
       "      <th></th>\n",
       "      <th></th>\n",
       "      <th></th>\n",
       "      <th></th>\n",
       "      <th></th>\n",
       "      <th></th>\n",
       "      <th></th>\n",
       "      <th></th>\n",
       "      <th></th>\n",
       "      <th></th>\n",
       "      <th></th>\n",
       "      <th></th>\n",
       "      <th></th>\n",
       "    </tr>\n",
       "  </thead>\n",
       "  <tbody>\n",
       "    <tr>\n",
       "      <th>10</th>\n",
       "      <td>0.096624</td>\n",
       "      <td>0.161291</td>\n",
       "      <td>0.134767</td>\n",
       "      <td>0.050992</td>\n",
       "      <td>0.085387</td>\n",
       "      <td>0.281697</td>\n",
       "      <td>0.15264</td>\n",
       "      <td>0.112552</td>\n",
       "      <td>0.519415</td>\n",
       "      <td>0.374128</td>\n",
       "      <td>...</td>\n",
       "      <td>0.802826</td>\n",
       "      <td>0.416999</td>\n",
       "      <td>0.802826</td>\n",
       "      <td>0.079937</td>\n",
       "      <td>10.86353</td>\n",
       "      <td>0.999015</td>\n",
       "      <td>0.230649</td>\n",
       "      <td>0.836884</td>\n",
       "      <td>1.249519</td>\n",
       "      <td>0.311412</td>\n",
       "    </tr>\n",
       "  </tbody>\n",
       "</table>\n",
       "<p>1 rows × 27 columns</p>\n",
       "</div>"
      ],
      "text/plain": [
       "       PRECISION PRECISION_RECALL_MIN_DEN    RECALL       MAP MAP_MIN_DEN  \\\n",
       "cutoff                                                                      \n",
       "10      0.096624                 0.161291  0.134767  0.050992    0.085387   \n",
       "\n",
       "             MRR     NDCG        F1  HIT_RATE ARHR_ALL_HITS  ...  \\\n",
       "cutoff                                                       ...   \n",
       "10      0.281697  0.15264  0.112552  0.519415      0.374128  ...   \n",
       "\n",
       "       COVERAGE_USER COVERAGE_USER_HIT USERS_IN_GT DIVERSITY_GINI  \\\n",
       "cutoff                                                              \n",
       "10          0.802826          0.416999    0.802826       0.079937   \n",
       "\n",
       "       SHANNON_ENTROPY RATIO_DIVERSITY_HERFINDAHL RATIO_DIVERSITY_GINI  \\\n",
       "cutoff                                                                   \n",
       "10            10.86353                   0.999015             0.230649   \n",
       "\n",
       "       RATIO_SHANNON_ENTROPY RATIO_AVERAGE_POPULARITY RATIO_NOVELTY  \n",
       "cutoff                                                               \n",
       "10                  0.836884                 1.249519      0.311412  \n",
       "\n",
       "[1 rows x 27 columns]"
      ]
     },
     "metadata": {},
     "output_type": "display_data"
    }
   ],
   "source": [
    "pipeline_recommender = PipelineRecommender(\n",
    "    URM_train, \n",
    "    recommenders=[recommender_p3a, hybrid_similarity, recommender_slim], \n",
    "    cutoffs=[500, 100, 10]\n",
    ")\n",
    "\n",
    "result_df, _ = evaluator.evaluateRecommender(pipeline_recommender)\n",
    "display(result_df)"
   ]
  },
  {
   "cell_type": "code",
   "execution_count": 23,
   "id": "1775d43b",
   "metadata": {
    "execution": {
     "iopub.execute_input": "2023-12-08T22:33:16.936766Z",
     "iopub.status.busy": "2023-12-08T22:33:16.936204Z",
     "iopub.status.idle": "2023-12-08T22:33:16.942964Z",
     "shell.execute_reply": "2023-12-08T22:33:16.941786Z"
    },
    "papermill": {
     "duration": 0.044267,
     "end_time": "2023-12-08T22:33:16.945449",
     "exception": false,
     "start_time": "2023-12-08T22:33:16.901182",
     "status": "completed"
    },
    "tags": []
   },
   "outputs": [],
   "source": [
    "recommender_objects_dict = {\n",
    "    'merging': hybrid_similarity,\n",
    "    'itemKnn': recommender_item,\n",
    "    'userKnn': recommender_user,\n",
    "    'rp3': recommender_rp3,\n",
    "    'alpha': recommender_p3a,\n",
    "    'ials': recommender_ials,\n",
    "    'easeR': recommender_ease_r,\n",
    "    'slim': recommender_slim\n",
    "}"
   ]
  },
  {
   "cell_type": "code",
   "execution_count": 24,
   "id": "ebbb0abe",
   "metadata": {
    "execution": {
     "iopub.execute_input": "2023-12-08T22:33:17.014177Z",
     "iopub.status.busy": "2023-12-08T22:33:17.013650Z",
     "iopub.status.idle": "2023-12-08T22:33:17.026113Z",
     "shell.execute_reply": "2023-12-08T22:33:17.024822Z"
    },
    "papermill": {
     "duration": 0.050205,
     "end_time": "2023-12-08T22:33:17.028853",
     "exception": false,
     "start_time": "2023-12-08T22:33:16.978648",
     "status": "completed"
    },
    "tags": []
   },
   "outputs": [],
   "source": [
    "def objective(trial):\n",
    "    recommenders_labels = list(recommender_objects_dict.keys())\n",
    "    coarse_recommender = trial.suggest_categorical('coarse_recommender', recommenders_labels)\n",
    "    use_3_levels = trial.suggest_categorical('use_3_levels', [True, False])\n",
    "    \n",
    "    if use_3_levels:\n",
    "        recommenders_labels.remove(coarse_recommender)\n",
    "        coarse_2_recommender = trial.suggest_categorical(\n",
    "            f'coarse_2_recommender_c1:{coarse_recommender}', \n",
    "            recommenders_labels\n",
    "        )\n",
    "        recommenders_labels.remove(coarse_2_recommender)\n",
    "        final_recommender = trial.suggest_categorical(\n",
    "            f'final_recommender_c1:{coarse_recommender}_c2:{coarse_2_recommender}', \n",
    "            recommenders_labels\n",
    "        )\n",
    "        cutoff1 = trial.suggest_int('cutoff1', 200, 3000)\n",
    "        cutoff2 = trial.suggest_int('cutoff2', 50, cutoff1)\n",
    "        recommenders = [\n",
    "            recommender_objects_dict[coarse_recommender], \n",
    "            recommender_objects_dict[coarse_2_recommender], \n",
    "            recommender_objects_dict[final_recommender]\n",
    "        ]\n",
    "        cutoffs = [cutoff1, cutoff2, 10]\n",
    "        \n",
    "    else:\n",
    "        cutoff = trial.suggest_int('cutoff', 50, 3000)\n",
    "        recommenders_labels.remove(coarse_recommender)\n",
    "        final_recommender = trial.suggest_categorical(\n",
    "            f'final_recommender_c1:{coarse_recommender}', \n",
    "            recommenders_labels\n",
    "        )\n",
    "        recommenders = [\n",
    "            recommender_objects_dict[coarse_recommender], \n",
    "            recommender_objects_dict[final_recommender]\n",
    "        ]\n",
    "        cutoffs = [cutoff, 10]\n",
    "    \n",
    "    pipeline_recommender = PipelineRecommender(\n",
    "        URM_train, \n",
    "        recommenders=recommenders, \n",
    "        cutoffs=cutoffs\n",
    "    )\n",
    "\n",
    "    result_df, _ = evaluator.evaluateRecommender(pipeline_recommender)\n",
    "    return result_df.loc[10, 'MAP']"
   ]
  },
  {
   "cell_type": "code",
   "execution_count": 25,
   "id": "c5041718",
   "metadata": {
    "execution": {
     "iopub.execute_input": "2023-12-08T22:33:17.096612Z",
     "iopub.status.busy": "2023-12-08T22:33:17.095782Z",
     "iopub.status.idle": "2023-12-08T22:33:17.106339Z",
     "shell.execute_reply": "2023-12-08T22:33:17.104902Z"
    },
    "papermill": {
     "duration": 0.047885,
     "end_time": "2023-12-08T22:33:17.109428",
     "exception": false,
     "start_time": "2023-12-08T22:33:17.061543",
     "status": "completed"
    },
    "tags": []
   },
   "outputs": [],
   "source": [
    "try:\n",
    "    shutil.copyfile(\n",
    "        '/kaggle/working/Recsys_Challenge_2023/tuning_results/tuning_hybrid.db', \n",
    "        config['database_path']\n",
    "    )\n",
    "except FileNotFoundError:\n",
    "    pass # if not present optuna will create it"
   ]
  },
  {
   "cell_type": "code",
   "execution_count": 26,
   "id": "1d0efed2",
   "metadata": {
    "execution": {
     "iopub.execute_input": "2023-12-08T22:33:17.179864Z",
     "iopub.status.busy": "2023-12-08T22:33:17.179372Z",
     "iopub.status.idle": "2023-12-09T04:29:42.438492Z",
     "shell.execute_reply": "2023-12-09T04:29:42.437299Z"
    },
    "papermill": {
     "duration": 21385.536399,
     "end_time": "2023-12-09T04:29:42.678446",
     "exception": false,
     "start_time": "2023-12-08T22:33:17.142047",
     "status": "completed"
    },
    "tags": []
   },
   "outputs": [
    {
     "name": "stderr",
     "output_type": "stream",
     "text": [
      "[I 2023-12-08 22:33:17,726] A new study created in RDB with name: hyperparameters_tuning_variable_pipeline_v2\n"
     ]
    },
    {
     "name": "stdout",
     "output_type": "stream",
     "text": [
      "Recommender_Base_Class: URM Detected 627 ( 4.8%) users with no interactions.\n",
      "Recommender_Base_Class: URM Detected 247 ( 1.1%) items with no interactions.\n",
      "EvaluatorHoldout: Processed 10456 (100.0%) in 32.39 sec. Users per second: 323\n"
     ]
    },
    {
     "name": "stderr",
     "output_type": "stream",
     "text": [
      "[I 2023-12-08 22:33:50,360] Trial 0 finished with value: 0.04968313932305972 and parameters: {'coarse_recommender': 'alpha', 'use_3_levels': True, 'coarse_2_recommender_c1:alpha': 'easeR', 'final_recommender_c1:alpha_c2:easeR': 'merging', 'cutoff1': 1511, 'cutoff2': 1055}. Best is trial 0 with value: 0.04968313932305972.\n"
     ]
    },
    {
     "name": "stdout",
     "output_type": "stream",
     "text": [
      "Recommender_Base_Class: URM Detected 627 ( 4.8%) users with no interactions.\n",
      "Recommender_Base_Class: URM Detected 247 ( 1.1%) items with no interactions.\n",
      "EvaluatorHoldout: Processed 10456 (100.0%) in 36.27 sec. Users per second: 288\n"
     ]
    },
    {
     "name": "stderr",
     "output_type": "stream",
     "text": [
      "[I 2023-12-08 22:34:26,836] Trial 1 finished with value: 0.03804894432907101 and parameters: {'coarse_recommender': 'easeR', 'use_3_levels': True, 'coarse_2_recommender_c1:easeR': 'rp3', 'final_recommender_c1:easeR_c2:rp3': 'userKnn', 'cutoff1': 250, 'cutoff2': 160}. Best is trial 0 with value: 0.04968313932305972.\n"
     ]
    },
    {
     "name": "stdout",
     "output_type": "stream",
     "text": [
      "Recommender_Base_Class: URM Detected 627 ( 4.8%) users with no interactions.\n",
      "Recommender_Base_Class: URM Detected 247 ( 1.1%) items with no interactions.\n",
      "EvaluatorHoldout: Processed 10456 (100.0%) in 22.70 sec. Users per second: 461\n"
     ]
    },
    {
     "name": "stderr",
     "output_type": "stream",
     "text": [
      "[I 2023-12-08 22:34:49,708] Trial 2 finished with value: 0.03772204536622125 and parameters: {'coarse_recommender': 'itemKnn', 'use_3_levels': False, 'cutoff': 968, 'final_recommender_c1:itemKnn': 'userKnn'}. Best is trial 0 with value: 0.04968313932305972.\n"
     ]
    },
    {
     "name": "stdout",
     "output_type": "stream",
     "text": [
      "Recommender_Base_Class: URM Detected 627 ( 4.8%) users with no interactions.\n",
      "Recommender_Base_Class: URM Detected 247 ( 1.1%) items with no interactions.\n",
      "EvaluatorHoldout: Processed 10456 (100.0%) in 31.91 sec. Users per second: 328\n"
     ]
    },
    {
     "name": "stderr",
     "output_type": "stream",
     "text": [
      "[I 2023-12-08 22:35:21,835] Trial 3 finished with value: 0.04243095025564479 and parameters: {'coarse_recommender': 'rp3', 'use_3_levels': True, 'coarse_2_recommender_c1:rp3': 'merging', 'final_recommender_c1:rp3_c2:merging': 'ials', 'cutoff1': 2605, 'cutoff2': 681}. Best is trial 0 with value: 0.04968313932305972.\n"
     ]
    },
    {
     "name": "stdout",
     "output_type": "stream",
     "text": [
      "Recommender_Base_Class: URM Detected 627 ( 4.8%) users with no interactions.\n",
      "Recommender_Base_Class: URM Detected 247 ( 1.1%) items with no interactions.\n",
      "EvaluatorHoldout: Processed 10456 (100.0%) in 38.55 sec. Users per second: 271\n"
     ]
    },
    {
     "name": "stderr",
     "output_type": "stream",
     "text": [
      "[I 2023-12-08 22:36:00,592] Trial 4 finished with value: 0.04976580242528092 and parameters: {'coarse_recommender': 'userKnn', 'use_3_levels': True, 'coarse_2_recommender_c1:userKnn': 'slim', 'final_recommender_c1:userKnn_c2:slim': 'merging', 'cutoff1': 2584, 'cutoff2': 1108}. Best is trial 4 with value: 0.04976580242528092.\n"
     ]
    },
    {
     "name": "stdout",
     "output_type": "stream",
     "text": [
      "Recommender_Base_Class: URM Detected 627 ( 4.8%) users with no interactions.\n",
      "Recommender_Base_Class: URM Detected 247 ( 1.1%) items with no interactions.\n",
      "EvaluatorHoldout: Processed 10456 (100.0%) in 24.68 sec. Users per second: 424\n"
     ]
    },
    {
     "name": "stderr",
     "output_type": "stream",
     "text": [
      "[I 2023-12-08 22:36:25,445] Trial 5 finished with value: 0.04253860850001881 and parameters: {'coarse_recommender': 'alpha', 'use_3_levels': False, 'cutoff': 2342, 'final_recommender_c1:alpha': 'ials'}. Best is trial 4 with value: 0.04976580242528092.\n"
     ]
    },
    {
     "name": "stdout",
     "output_type": "stream",
     "text": [
      "Recommender_Base_Class: URM Detected 627 ( 4.8%) users with no interactions.\n",
      "Recommender_Base_Class: URM Detected 247 ( 1.1%) items with no interactions.\n",
      "EvaluatorHoldout: Processed 10456 (100.0%) in 19.86 sec. Users per second: 526\n"
     ]
    },
    {
     "name": "stderr",
     "output_type": "stream",
     "text": [
      "[I 2023-12-08 22:36:45,480] Trial 6 finished with value: 0.04966619758079281 and parameters: {'coarse_recommender': 'alpha', 'use_3_levels': False, 'cutoff': 2836, 'final_recommender_c1:alpha': 'merging'}. Best is trial 4 with value: 0.04976580242528092.\n"
     ]
    },
    {
     "name": "stdout",
     "output_type": "stream",
     "text": [
      "Recommender_Base_Class: URM Detected 627 ( 4.8%) users with no interactions.\n",
      "Recommender_Base_Class: URM Detected 247 ( 1.1%) items with no interactions.\n",
      "EvaluatorHoldout: Processed 10456 (100.0%) in 30.22 sec. Users per second: 346\n"
     ]
    },
    {
     "name": "stderr",
     "output_type": "stream",
     "text": [
      "[I 2023-12-08 22:37:15,897] Trial 7 finished with value: 0.04917286421709782 and parameters: {'coarse_recommender': 'itemKnn', 'use_3_levels': True, 'coarse_2_recommender_c1:itemKnn': 'slim', 'final_recommender_c1:itemKnn_c2:slim': 'rp3', 'cutoff1': 2267, 'cutoff2': 1625}. Best is trial 4 with value: 0.04976580242528092.\n"
     ]
    },
    {
     "name": "stdout",
     "output_type": "stream",
     "text": [
      "Recommender_Base_Class: URM Detected 627 ( 4.8%) users with no interactions.\n",
      "Recommender_Base_Class: URM Detected 247 ( 1.1%) items with no interactions.\n",
      "EvaluatorHoldout: Processed 10456 (100.0%) in 25.26 sec. Users per second: 414\n"
     ]
    },
    {
     "name": "stderr",
     "output_type": "stream",
     "text": [
      "[I 2023-12-08 22:37:41,322] Trial 8 finished with value: 0.044856264649446274 and parameters: {'coarse_recommender': 'rp3', 'use_3_levels': False, 'cutoff': 133, 'final_recommender_c1:rp3': 'easeR'}. Best is trial 4 with value: 0.04976580242528092.\n"
     ]
    },
    {
     "name": "stdout",
     "output_type": "stream",
     "text": [
      "Recommender_Base_Class: URM Detected 627 ( 4.8%) users with no interactions.\n",
      "Recommender_Base_Class: URM Detected 247 ( 1.1%) items with no interactions.\n",
      "EvaluatorHoldout: Processed 10456 (100.0%) in 19.85 sec. Users per second: 527\n"
     ]
    },
    {
     "name": "stderr",
     "output_type": "stream",
     "text": [
      "[I 2023-12-08 22:38:01,348] Trial 9 finished with value: 0.049143675386503105 and parameters: {'coarse_recommender': 'merging', 'use_3_levels': False, 'cutoff': 807, 'final_recommender_c1:merging': 'rp3'}. Best is trial 4 with value: 0.04976580242528092.\n"
     ]
    },
    {
     "name": "stdout",
     "output_type": "stream",
     "text": [
      "Recommender_Base_Class: URM Detected 627 ( 4.8%) users with no interactions.\n",
      "Recommender_Base_Class: URM Detected 247 ( 1.1%) items with no interactions.\n",
      "EvaluatorHoldout: Processed 10456 (100.0%) in 39.24 sec. Users per second: 266\n"
     ]
    },
    {
     "name": "stderr",
     "output_type": "stream",
     "text": [
      "[I 2023-12-08 22:38:40,809] Trial 10 finished with value: 0.04977021243973303 and parameters: {'coarse_recommender': 'userKnn', 'use_3_levels': True, 'coarse_2_recommender_c1:userKnn': 'slim', 'final_recommender_c1:userKnn_c2:slim': 'merging', 'cutoff1': 2961, 'cutoff2': 2931}. Best is trial 10 with value: 0.04977021243973303.\n"
     ]
    },
    {
     "name": "stdout",
     "output_type": "stream",
     "text": [
      "Recommender_Base_Class: URM Detected 627 ( 4.8%) users with no interactions.\n",
      "Recommender_Base_Class: URM Detected 247 ( 1.1%) items with no interactions.\n",
      "EvaluatorHoldout: Processed 10456 (100.0%) in 39.02 sec. Users per second: 268\n"
     ]
    },
    {
     "name": "stderr",
     "output_type": "stream",
     "text": [
      "[I 2023-12-08 22:39:20,047] Trial 11 finished with value: 0.049752082802006985 and parameters: {'coarse_recommender': 'userKnn', 'use_3_levels': True, 'coarse_2_recommender_c1:userKnn': 'slim', 'final_recommender_c1:userKnn_c2:slim': 'merging', 'cutoff1': 2981, 'cutoff2': 2618}. Best is trial 10 with value: 0.04977021243973303.\n"
     ]
    },
    {
     "name": "stdout",
     "output_type": "stream",
     "text": [
      "Recommender_Base_Class: URM Detected 627 ( 4.8%) users with no interactions.\n",
      "Recommender_Base_Class: URM Detected 247 ( 1.1%) items with no interactions.\n",
      "EvaluatorHoldout: Processed 10456 (100.0%) in 37.95 sec. Users per second: 276\n"
     ]
    },
    {
     "name": "stderr",
     "output_type": "stream",
     "text": [
      "[I 2023-12-08 22:39:58,229] Trial 12 finished with value: 0.04967247103508651 and parameters: {'coarse_recommender': 'userKnn', 'use_3_levels': True, 'coarse_2_recommender_c1:userKnn': 'slim', 'final_recommender_c1:userKnn_c2:slim': 'merging', 'cutoff1': 1958, 'cutoff2': 1914}. Best is trial 10 with value: 0.04977021243973303.\n"
     ]
    },
    {
     "name": "stdout",
     "output_type": "stream",
     "text": [
      "Recommender_Base_Class: URM Detected 627 ( 4.8%) users with no interactions.\n",
      "Recommender_Base_Class: URM Detected 247 ( 1.1%) items with no interactions.\n",
      "EvaluatorHoldout: Processed 10456 (100.0%) in 54.18 sec. Users per second: 193\n"
     ]
    },
    {
     "name": "stderr",
     "output_type": "stream",
     "text": [
      "[I 2023-12-08 22:40:52,629] Trial 13 finished with value: 0.04919698266963051 and parameters: {'coarse_recommender': 'ials', 'use_3_levels': True, 'coarse_2_recommender_c1:ials': 'easeR', 'final_recommender_c1:ials_c2:easeR': 'rp3', 'cutoff1': 2975, 'cutoff2': 2938}. Best is trial 10 with value: 0.04977021243973303.\n"
     ]
    },
    {
     "name": "stdout",
     "output_type": "stream",
     "text": [
      "Recommender_Base_Class: URM Detected 627 ( 4.8%) users with no interactions.\n",
      "Recommender_Base_Class: URM Detected 247 ( 1.1%) items with no interactions.\n",
      "EvaluatorHoldout: Processed 10456 (100.0%) in 37.94 sec. Users per second: 276\n"
     ]
    },
    {
     "name": "stderr",
     "output_type": "stream",
     "text": [
      "[I 2023-12-08 22:41:30,787] Trial 14 finished with value: 0.04832782271286534 and parameters: {'coarse_recommender': 'userKnn', 'use_3_levels': True, 'coarse_2_recommender_c1:userKnn': 'ials', 'final_recommender_c1:userKnn_c2:ials': 'rp3', 'cutoff1': 1358, 'cutoff2': 180}. Best is trial 10 with value: 0.04977021243973303.\n"
     ]
    },
    {
     "name": "stdout",
     "output_type": "stream",
     "text": [
      "Recommender_Base_Class: URM Detected 627 ( 4.8%) users with no interactions.\n",
      "Recommender_Base_Class: URM Detected 247 ( 1.1%) items with no interactions.\n",
      "EvaluatorHoldout: Processed 10456 (100.0%) in 40.14 sec. Users per second: 260\n"
     ]
    },
    {
     "name": "stderr",
     "output_type": "stream",
     "text": [
      "[I 2023-12-08 22:42:11,150] Trial 15 finished with value: 0.04224728567785245 and parameters: {'coarse_recommender': 'slim', 'use_3_levels': True, 'coarse_2_recommender_c1:slim': 'rp3', 'final_recommender_c1:slim_c2:rp3': 'ials', 'cutoff1': 2312, 'cutoff2': 1287}. Best is trial 10 with value: 0.04977021243973303.\n"
     ]
    },
    {
     "name": "stdout",
     "output_type": "stream",
     "text": [
      "Recommender_Base_Class: URM Detected 627 ( 4.8%) users with no interactions.\n",
      "Recommender_Base_Class: URM Detected 247 ( 1.1%) items with no interactions.\n",
      "EvaluatorHoldout: Processed 10456 (100.0%) in 36.01 sec. Users per second: 290\n"
     ]
    },
    {
     "name": "stderr",
     "output_type": "stream",
     "text": [
      "[I 2023-12-08 22:42:47,375] Trial 16 finished with value: 0.04716407227262294 and parameters: {'coarse_recommender': 'userKnn', 'use_3_levels': True, 'coarse_2_recommender_c1:userKnn': 'slim', 'final_recommender_c1:userKnn_c2:slim': 'alpha', 'cutoff1': 716, 'cutoff2': 377}. Best is trial 10 with value: 0.04977021243973303.\n"
     ]
    },
    {
     "name": "stdout",
     "output_type": "stream",
     "text": [
      "Recommender_Base_Class: URM Detected 627 ( 4.8%) users with no interactions.\n",
      "Recommender_Base_Class: URM Detected 247 ( 1.1%) items with no interactions.\n",
      "EvaluatorHoldout: Processed 10456 (100.0%) in 39.75 sec. Users per second: 263\n"
     ]
    },
    {
     "name": "stderr",
     "output_type": "stream",
     "text": [
      "[I 2023-12-08 22:43:27,346] Trial 17 finished with value: 0.0418520125150295 and parameters: {'coarse_recommender': 'userKnn', 'use_3_levels': True, 'coarse_2_recommender_c1:userKnn': 'merging', 'final_recommender_c1:userKnn_c2:merging': 'ials', 'cutoff1': 2590, 'cutoff2': 1976}. Best is trial 10 with value: 0.04977021243973303.\n"
     ]
    },
    {
     "name": "stdout",
     "output_type": "stream",
     "text": [
      "Recommender_Base_Class: URM Detected 627 ( 4.8%) users with no interactions.\n",
      "Recommender_Base_Class: URM Detected 247 ( 1.1%) items with no interactions.\n",
      "EvaluatorHoldout: Processed 10456 (100.0%) in 38.44 sec. Users per second: 272\n"
     ]
    },
    {
     "name": "stderr",
     "output_type": "stream",
     "text": [
      "[I 2023-12-08 22:44:06,000] Trial 18 finished with value: 0.042256470045299976 and parameters: {'coarse_recommender': 'easeR', 'use_3_levels': True, 'coarse_2_recommender_c1:easeR': 'merging', 'final_recommender_c1:easeR_c2:merging': 'ials', 'cutoff1': 1743, 'cutoff2': 639}. Best is trial 10 with value: 0.04977021243973303.\n"
     ]
    },
    {
     "name": "stdout",
     "output_type": "stream",
     "text": [
      "Recommender_Base_Class: URM Detected 627 ( 4.8%) users with no interactions.\n",
      "Recommender_Base_Class: URM Detected 247 ( 1.1%) items with no interactions.\n",
      "EvaluatorHoldout: Processed 10456 (100.0%) in 35.79 sec. Users per second: 292\n"
     ]
    },
    {
     "name": "stderr",
     "output_type": "stream",
     "text": [
      "[I 2023-12-08 22:44:42,012] Trial 19 finished with value: 0.04912799744355852 and parameters: {'coarse_recommender': 'slim', 'use_3_levels': True, 'coarse_2_recommender_c1:slim': 'merging', 'final_recommender_c1:slim_c2:merging': 'rp3', 'cutoff1': 2622, 'cutoff2': 999}. Best is trial 10 with value: 0.04977021243973303.\n"
     ]
    },
    {
     "name": "stdout",
     "output_type": "stream",
     "text": [
      "Recommender_Base_Class: URM Detected 627 ( 4.8%) users with no interactions.\n",
      "Recommender_Base_Class: URM Detected 247 ( 1.1%) items with no interactions.\n",
      "EvaluatorHoldout: Processed 10456 (100.0%) in 49.14 sec. Users per second: 213\n"
     ]
    },
    {
     "name": "stderr",
     "output_type": "stream",
     "text": [
      "[I 2023-12-08 22:45:31,370] Trial 20 finished with value: 0.03802045760921094 and parameters: {'coarse_recommender': 'ials', 'use_3_levels': True, 'coarse_2_recommender_c1:ials': 'rp3', 'final_recommender_c1:ials_c2:rp3': 'userKnn', 'cutoff1': 1066, 'cutoff2': 473}. Best is trial 10 with value: 0.04977021243973303.\n"
     ]
    },
    {
     "name": "stdout",
     "output_type": "stream",
     "text": [
      "Recommender_Base_Class: URM Detected 627 ( 4.8%) users with no interactions.\n",
      "Recommender_Base_Class: URM Detected 247 ( 1.1%) items with no interactions.\n",
      "EvaluatorHoldout: Processed 10456 (100.0%) in 38.78 sec. Users per second: 270\n"
     ]
    },
    {
     "name": "stderr",
     "output_type": "stream",
     "text": [
      "[I 2023-12-08 22:46:10,351] Trial 21 finished with value: 0.0497802545208348 and parameters: {'coarse_recommender': 'userKnn', 'use_3_levels': True, 'coarse_2_recommender_c1:userKnn': 'slim', 'final_recommender_c1:userKnn_c2:slim': 'merging', 'cutoff1': 2995, 'cutoff2': 2937}. Best is trial 21 with value: 0.0497802545208348.\n"
     ]
    },
    {
     "name": "stdout",
     "output_type": "stream",
     "text": [
      "Recommender_Base_Class: URM Detected 627 ( 4.8%) users with no interactions.\n",
      "Recommender_Base_Class: URM Detected 247 ( 1.1%) items with no interactions.\n",
      "EvaluatorHoldout: Processed 10456 (100.0%) in 40.47 sec. Users per second: 258\n"
     ]
    },
    {
     "name": "stderr",
     "output_type": "stream",
     "text": [
      "[I 2023-12-08 22:46:51,044] Trial 22 finished with value: 0.041605195923052285 and parameters: {'coarse_recommender': 'userKnn', 'use_3_levels': True, 'coarse_2_recommender_c1:userKnn': 'rp3', 'final_recommender_c1:userKnn_c2:rp3': 'ials', 'cutoff1': 2989, 'cutoff2': 2509}. Best is trial 21 with value: 0.0497802545208348.\n"
     ]
    },
    {
     "name": "stdout",
     "output_type": "stream",
     "text": [
      "Recommender_Base_Class: URM Detected 627 ( 4.8%) users with no interactions.\n",
      "Recommender_Base_Class: URM Detected 247 ( 1.1%) items with no interactions.\n",
      "EvaluatorHoldout: Processed 10456 (100.0%) in 34.90 sec. Users per second: 300\n"
     ]
    },
    {
     "name": "stderr",
     "output_type": "stream",
     "text": [
      "[I 2023-12-08 22:47:26,166] Trial 23 finished with value: 0.048872497449630764 and parameters: {'coarse_recommender': 'userKnn', 'use_3_levels': True, 'coarse_2_recommender_c1:userKnn': 'itemKnn', 'final_recommender_c1:userKnn_c2:itemKnn': 'rp3', 'cutoff1': 2283, 'cutoff2': 2109}. Best is trial 21 with value: 0.0497802545208348.\n"
     ]
    },
    {
     "name": "stdout",
     "output_type": "stream",
     "text": [
      "Recommender_Base_Class: URM Detected 627 ( 4.8%) users with no interactions.\n",
      "Recommender_Base_Class: URM Detected 247 ( 1.1%) items with no interactions.\n",
      "EvaluatorHoldout: Processed 10456 (100.0%) in 27.59 sec. Users per second: 379\n"
     ]
    },
    {
     "name": "stderr",
     "output_type": "stream",
     "text": [
      "[I 2023-12-08 22:47:53,962] Trial 24 finished with value: 0.049203924077920486 and parameters: {'coarse_recommender': 'merging', 'use_3_levels': True, 'coarse_2_recommender_c1:merging': 'itemKnn', 'final_recommender_c1:merging_c2:itemKnn': 'rp3', 'cutoff1': 2694, 'cutoff2': 2352}. Best is trial 21 with value: 0.0497802545208348.\n"
     ]
    },
    {
     "name": "stdout",
     "output_type": "stream",
     "text": [
      "Recommender_Base_Class: URM Detected 627 ( 4.8%) users with no interactions.\n",
      "Recommender_Base_Class: URM Detected 247 ( 1.1%) items with no interactions.\n",
      "EvaluatorHoldout: Processed 10456 (100.0%) in 42.26 sec. Users per second: 247\n"
     ]
    },
    {
     "name": "stderr",
     "output_type": "stream",
     "text": [
      "[I 2023-12-08 22:48:36,430] Trial 25 finished with value: 0.050999752553406566 and parameters: {'coarse_recommender': 'userKnn', 'use_3_levels': True, 'coarse_2_recommender_c1:userKnn': 'easeR', 'final_recommender_c1:userKnn_c2:easeR': 'slim', 'cutoff1': 2001, 'cutoff2': 1488}. Best is trial 25 with value: 0.050999752553406566.\n"
     ]
    },
    {
     "name": "stdout",
     "output_type": "stream",
     "text": [
      "Recommender_Base_Class: URM Detected 627 ( 4.8%) users with no interactions.\n",
      "Recommender_Base_Class: URM Detected 247 ( 1.1%) items with no interactions.\n",
      "EvaluatorHoldout: Processed 10456 (100.0%) in 26.71 sec. Users per second: 391\n"
     ]
    },
    {
     "name": "stderr",
     "output_type": "stream",
     "text": [
      "[I 2023-12-08 22:49:03,311] Trial 26 finished with value: 0.04857317436028295 and parameters: {'coarse_recommender': 'userKnn', 'use_3_levels': False, 'cutoff': 1886, 'final_recommender_c1:userKnn': 'itemKnn'}. Best is trial 25 with value: 0.050999752553406566.\n"
     ]
    },
    {
     "name": "stdout",
     "output_type": "stream",
     "text": [
      "Recommender_Base_Class: URM Detected 627 ( 4.8%) users with no interactions.\n",
      "Recommender_Base_Class: URM Detected 247 ( 1.1%) items with no interactions.\n",
      "EvaluatorHoldout: Processed 10456 (100.0%) in 42.69 sec. Users per second: 245\n"
     ]
    },
    {
     "name": "stderr",
     "output_type": "stream",
     "text": [
      "[I 2023-12-08 22:49:46,210] Trial 27 finished with value: 0.05098235538796042 and parameters: {'coarse_recommender': 'userKnn', 'use_3_levels': True, 'coarse_2_recommender_c1:userKnn': 'easeR', 'final_recommender_c1:userKnn_c2:easeR': 'slim', 'cutoff1': 1966, 'cutoff2': 1513}. Best is trial 25 with value: 0.050999752553406566.\n"
     ]
    },
    {
     "name": "stdout",
     "output_type": "stream",
     "text": [
      "Recommender_Base_Class: URM Detected 627 ( 4.8%) users with no interactions.\n",
      "Recommender_Base_Class: URM Detected 247 ( 1.1%) items with no interactions.\n",
      "EvaluatorHoldout: Processed 10456 (100.0%) in 42.93 sec. Users per second: 244\n"
     ]
    },
    {
     "name": "stderr",
     "output_type": "stream",
     "text": [
      "[I 2023-12-08 22:50:29,361] Trial 28 finished with value: 0.05097351258789727 and parameters: {'coarse_recommender': 'userKnn', 'use_3_levels': True, 'coarse_2_recommender_c1:userKnn': 'easeR', 'final_recommender_c1:userKnn_c2:easeR': 'slim', 'cutoff1': 1874, 'cutoff2': 1365}. Best is trial 25 with value: 0.050999752553406566.\n"
     ]
    },
    {
     "name": "stdout",
     "output_type": "stream",
     "text": [
      "Recommender_Base_Class: URM Detected 627 ( 4.8%) users with no interactions.\n",
      "Recommender_Base_Class: URM Detected 247 ( 1.1%) items with no interactions.\n",
      "EvaluatorHoldout: Processed 10456 (100.0%) in 35.43 sec. Users per second: 295\n"
     ]
    },
    {
     "name": "stderr",
     "output_type": "stream",
     "text": [
      "[I 2023-12-08 22:51:05,004] Trial 29 finished with value: 0.03859770269367671 and parameters: {'coarse_recommender': 'rp3', 'use_3_levels': True, 'coarse_2_recommender_c1:rp3': 'easeR', 'final_recommender_c1:rp3_c2:easeR': 'userKnn', 'cutoff1': 1983, 'cutoff2': 1471}. Best is trial 25 with value: 0.050999752553406566.\n"
     ]
    },
    {
     "name": "stdout",
     "output_type": "stream",
     "text": [
      "Recommender_Base_Class: URM Detected 627 ( 4.8%) users with no interactions.\n",
      "Recommender_Base_Class: URM Detected 247 ( 1.1%) items with no interactions.\n",
      "EvaluatorHoldout: Processed 10456 (100.0%) in 46.99 sec. Users per second: 223\n"
     ]
    },
    {
     "name": "stderr",
     "output_type": "stream",
     "text": [
      "[I 2023-12-08 22:51:52,215] Trial 30 finished with value: 0.04997632558506773 and parameters: {'coarse_recommender': 'ials', 'use_3_levels': True, 'coarse_2_recommender_c1:ials': 'itemKnn', 'final_recommender_c1:ials_c2:itemKnn': 'merging', 'cutoff1': 1865, 'cutoff2': 1395}. Best is trial 25 with value: 0.050999752553406566.\n"
     ]
    },
    {
     "name": "stdout",
     "output_type": "stream",
     "text": [
      "Recommender_Base_Class: URM Detected 627 ( 4.8%) users with no interactions.\n",
      "Recommender_Base_Class: URM Detected 247 ( 1.1%) items with no interactions.\n",
      "EvaluatorHoldout: Processed 10456 (100.0%) in 46.96 sec. Users per second: 223\n"
     ]
    },
    {
     "name": "stderr",
     "output_type": "stream",
     "text": [
      "[I 2023-12-08 22:52:39,392] Trial 31 finished with value: 0.04996860236698683 and parameters: {'coarse_recommender': 'ials', 'use_3_levels': True, 'coarse_2_recommender_c1:ials': 'itemKnn', 'final_recommender_c1:ials_c2:itemKnn': 'merging', 'cutoff1': 1903, 'cutoff2': 1383}. Best is trial 25 with value: 0.050999752553406566.\n"
     ]
    },
    {
     "name": "stdout",
     "output_type": "stream",
     "text": [
      "Recommender_Base_Class: URM Detected 627 ( 4.8%) users with no interactions.\n",
      "Recommender_Base_Class: URM Detected 247 ( 1.1%) items with no interactions.\n",
      "EvaluatorHoldout: Processed 10456 (100.0%) in 52.20 sec. Users per second: 200\n"
     ]
    },
    {
     "name": "stderr",
     "output_type": "stream",
     "text": [
      "[I 2023-12-08 22:53:31,812] Trial 32 finished with value: 0.0447746186589919 and parameters: {'coarse_recommender': 'ials', 'use_3_levels': True, 'coarse_2_recommender_c1:ials': 'itemKnn', 'final_recommender_c1:ials_c2:itemKnn': 'easeR', 'cutoff1': 1657, 'cutoff2': 1229}. Best is trial 25 with value: 0.050999752553406566.\n"
     ]
    },
    {
     "name": "stdout",
     "output_type": "stream",
     "text": [
      "Recommender_Base_Class: URM Detected 627 ( 4.8%) users with no interactions.\n",
      "Recommender_Base_Class: URM Detected 247 ( 1.1%) items with no interactions.\n",
      "EvaluatorHoldout: Processed 10456 (100.0%) in 37.72 sec. Users per second: 277\n"
     ]
    },
    {
     "name": "stderr",
     "output_type": "stream",
     "text": [
      "[I 2023-12-08 22:54:09,767] Trial 33 finished with value: 0.04996445801605586 and parameters: {'coarse_recommender': 'easeR', 'use_3_levels': True, 'coarse_2_recommender_c1:easeR': 'userKnn', 'final_recommender_c1:easeR_c2:userKnn': 'merging', 'cutoff1': 1323, 'cutoff2': 936}. Best is trial 25 with value: 0.050999752553406566.\n"
     ]
    },
    {
     "name": "stdout",
     "output_type": "stream",
     "text": [
      "Recommender_Base_Class: URM Detected 627 ( 4.8%) users with no interactions.\n",
      "Recommender_Base_Class: URM Detected 247 ( 1.1%) items with no interactions.\n",
      "EvaluatorHoldout: Processed 10456 (100.0%) in 26.97 sec. Users per second: 388\n"
     ]
    },
    {
     "name": "stderr",
     "output_type": "stream",
     "text": [
      "[I 2023-12-08 22:54:36,962] Trial 34 finished with value: 0.04812074179327486 and parameters: {'coarse_recommender': 'itemKnn', 'use_3_levels': True, 'coarse_2_recommender_c1:itemKnn': 'merging', 'final_recommender_c1:itemKnn_c2:merging': 'alpha', 'cutoff1': 2110, 'cutoff2': 1579}. Best is trial 25 with value: 0.050999752553406566.\n"
     ]
    },
    {
     "name": "stdout",
     "output_type": "stream",
     "text": [
      "Recommender_Base_Class: URM Detected 627 ( 4.8%) users with no interactions.\n",
      "Recommender_Base_Class: URM Detected 247 ( 1.1%) items with no interactions.\n",
      "EvaluatorHoldout: Processed 10456 (100.0%) in 55.88 sec. Users per second: 187\n"
     ]
    },
    {
     "name": "stderr",
     "output_type": "stream",
     "text": [
      "[I 2023-12-08 22:55:33,060] Trial 35 finished with value: 0.04479029660193646 and parameters: {'coarse_recommender': 'ials', 'use_3_levels': True, 'coarse_2_recommender_c1:ials': 'userKnn', 'final_recommender_c1:ials_c2:userKnn': 'easeR', 'cutoff1': 1777, 'cutoff2': 1458}. Best is trial 25 with value: 0.050999752553406566.\n"
     ]
    },
    {
     "name": "stdout",
     "output_type": "stream",
     "text": [
      "Recommender_Base_Class: URM Detected 627 ( 4.8%) users with no interactions.\n",
      "Recommender_Base_Class: URM Detected 247 ( 1.1%) items with no interactions.\n",
      "EvaluatorHoldout: Processed 10456 (100.0%) in 22.28 sec. Users per second: 469\n"
     ]
    },
    {
     "name": "stderr",
     "output_type": "stream",
     "text": [
      "[I 2023-12-08 22:55:55,511] Trial 36 finished with value: 0.03887638372742665 and parameters: {'coarse_recommender': 'alpha', 'use_3_levels': False, 'cutoff': 1380, 'final_recommender_c1:alpha': 'userKnn'}. Best is trial 25 with value: 0.050999752553406566.\n"
     ]
    },
    {
     "name": "stdout",
     "output_type": "stream",
     "text": [
      "Recommender_Base_Class: URM Detected 627 ( 4.8%) users with no interactions.\n",
      "Recommender_Base_Class: URM Detected 247 ( 1.1%) items with no interactions.\n",
      "EvaluatorHoldout: Processed 10456 (100.0%) in 39.62 sec. Users per second: 264\n"
     ]
    },
    {
     "name": "stderr",
     "output_type": "stream",
     "text": [
      "[I 2023-12-08 22:56:35,354] Trial 37 finished with value: 0.04195279386939738 and parameters: {'coarse_recommender': 'slim', 'use_3_levels': True, 'coarse_2_recommender_c1:slim': 'itemKnn', 'final_recommender_c1:slim_c2:itemKnn': 'ials', 'cutoff1': 1525, 'cutoff2': 1180}. Best is trial 25 with value: 0.050999752553406566.\n"
     ]
    },
    {
     "name": "stdout",
     "output_type": "stream",
     "text": [
      "Recommender_Base_Class: URM Detected 627 ( 4.8%) users with no interactions.\n",
      "Recommender_Base_Class: URM Detected 247 ( 1.1%) items with no interactions.\n",
      "EvaluatorHoldout: Processed 10456 (100.0%) in 33.62 sec. Users per second: 311\n"
     ]
    },
    {
     "name": "stderr",
     "output_type": "stream",
     "text": [
      "[I 2023-12-08 22:57:09,185] Trial 38 finished with value: 0.05119455222793084 and parameters: {'coarse_recommender': 'merging', 'use_3_levels': True, 'coarse_2_recommender_c1:merging': 'userKnn', 'final_recommender_c1:merging_c2:userKnn': 'slim', 'cutoff1': 2085, 'cutoff2': 1610}. Best is trial 38 with value: 0.05119455222793084.\n"
     ]
    },
    {
     "name": "stdout",
     "output_type": "stream",
     "text": [
      "Recommender_Base_Class: URM Detected 627 ( 4.8%) users with no interactions.\n",
      "Recommender_Base_Class: URM Detected 247 ( 1.1%) items with no interactions.\n",
      "EvaluatorHoldout: Processed 10456 (100.0%) in 19.62 sec. Users per second: 533\n"
     ]
    },
    {
     "name": "stderr",
     "output_type": "stream",
     "text": [
      "[I 2023-12-08 22:57:28,980] Trial 39 finished with value: 0.048712583190634796 and parameters: {'coarse_recommender': 'merging', 'use_3_levels': False, 'cutoff': 324, 'final_recommender_c1:merging': 'itemKnn'}. Best is trial 38 with value: 0.05119455222793084.\n"
     ]
    },
    {
     "name": "stdout",
     "output_type": "stream",
     "text": [
      "Recommender_Base_Class: URM Detected 627 ( 4.8%) users with no interactions.\n",
      "Recommender_Base_Class: URM Detected 247 ( 1.1%) items with no interactions.\n",
      "EvaluatorHoldout: Processed 10456 (100.0%) in 33.77 sec. Users per second: 310\n"
     ]
    },
    {
     "name": "stderr",
     "output_type": "stream",
     "text": [
      "[I 2023-12-08 22:58:02,960] Trial 40 finished with value: 0.051182999659951336 and parameters: {'coarse_recommender': 'merging', 'use_3_levels': True, 'coarse_2_recommender_c1:merging': 'userKnn', 'final_recommender_c1:merging_c2:userKnn': 'slim', 'cutoff1': 2103, 'cutoff2': 1681}. Best is trial 38 with value: 0.05119455222793084.\n"
     ]
    },
    {
     "name": "stdout",
     "output_type": "stream",
     "text": [
      "Recommender_Base_Class: URM Detected 627 ( 4.8%) users with no interactions.\n",
      "Recommender_Base_Class: URM Detected 247 ( 1.1%) items with no interactions.\n",
      "EvaluatorHoldout: Processed 10456 (100.0%) in 33.86 sec. Users per second: 309\n"
     ]
    },
    {
     "name": "stderr",
     "output_type": "stream",
     "text": [
      "[I 2023-12-08 22:58:37,035] Trial 41 finished with value: 0.05119052173279475 and parameters: {'coarse_recommender': 'merging', 'use_3_levels': True, 'coarse_2_recommender_c1:merging': 'userKnn', 'final_recommender_c1:merging_c2:userKnn': 'slim', 'cutoff1': 2086, 'cutoff2': 1695}. Best is trial 38 with value: 0.05119455222793084.\n"
     ]
    },
    {
     "name": "stdout",
     "output_type": "stream",
     "text": [
      "Recommender_Base_Class: URM Detected 627 ( 4.8%) users with no interactions.\n",
      "Recommender_Base_Class: URM Detected 247 ( 1.1%) items with no interactions.\n",
      "EvaluatorHoldout: Processed 10456 (100.0%) in 33.56 sec. Users per second: 312\n"
     ]
    },
    {
     "name": "stderr",
     "output_type": "stream",
     "text": [
      "[I 2023-12-08 22:59:10,813] Trial 42 finished with value: 0.05120817317618262 and parameters: {'coarse_recommender': 'merging', 'use_3_levels': True, 'coarse_2_recommender_c1:merging': 'userKnn', 'final_recommender_c1:merging_c2:userKnn': 'slim', 'cutoff1': 2082, 'cutoff2': 1674}. Best is trial 42 with value: 0.05120817317618262.\n"
     ]
    },
    {
     "name": "stdout",
     "output_type": "stream",
     "text": [
      "Recommender_Base_Class: URM Detected 627 ( 4.8%) users with no interactions.\n",
      "Recommender_Base_Class: URM Detected 247 ( 1.1%) items with no interactions.\n",
      "EvaluatorHoldout: Processed 10456 (100.0%) in 33.83 sec. Users per second: 309\n"
     ]
    },
    {
     "name": "stderr",
     "output_type": "stream",
     "text": [
      "[I 2023-12-08 22:59:44,887] Trial 43 finished with value: 0.051195167049222785 and parameters: {'coarse_recommender': 'merging', 'use_3_levels': True, 'coarse_2_recommender_c1:merging': 'userKnn', 'final_recommender_c1:merging_c2:userKnn': 'slim', 'cutoff1': 2146, 'cutoff2': 1742}. Best is trial 42 with value: 0.05120817317618262.\n"
     ]
    },
    {
     "name": "stdout",
     "output_type": "stream",
     "text": [
      "Recommender_Base_Class: URM Detected 627 ( 4.8%) users with no interactions.\n",
      "Recommender_Base_Class: URM Detected 247 ( 1.1%) items with no interactions.\n",
      "EvaluatorHoldout: Processed 10456 (100.0%) in 33.97 sec. Users per second: 308\n"
     ]
    },
    {
     "name": "stderr",
     "output_type": "stream",
     "text": [
      "[I 2023-12-08 23:00:19,112] Trial 44 finished with value: 0.05119309866895048 and parameters: {'coarse_recommender': 'merging', 'use_3_levels': True, 'coarse_2_recommender_c1:merging': 'userKnn', 'final_recommender_c1:merging_c2:userKnn': 'slim', 'cutoff1': 2190, 'cutoff2': 1727}. Best is trial 42 with value: 0.05120817317618262.\n"
     ]
    },
    {
     "name": "stdout",
     "output_type": "stream",
     "text": [
      "Recommender_Base_Class: URM Detected 627 ( 4.8%) users with no interactions.\n",
      "Recommender_Base_Class: URM Detected 247 ( 1.1%) items with no interactions.\n",
      "EvaluatorHoldout: Processed 10456 (100.0%) in 25.59 sec. Users per second: 409\n"
     ]
    },
    {
     "name": "stderr",
     "output_type": "stream",
     "text": [
      "[I 2023-12-08 23:00:44,900] Trial 45 finished with value: 0.04486632191132065 and parameters: {'coarse_recommender': 'merging', 'use_3_levels': False, 'cutoff': 2823, 'final_recommender_c1:merging': 'easeR'}. Best is trial 42 with value: 0.05120817317618262.\n"
     ]
    },
    {
     "name": "stdout",
     "output_type": "stream",
     "text": [
      "Recommender_Base_Class: URM Detected 627 ( 4.8%) users with no interactions.\n",
      "Recommender_Base_Class: URM Detected 247 ( 1.1%) items with no interactions.\n",
      "EvaluatorHoldout: Processed 10456 (100.0%) in 33.82 sec. Users per second: 309\n"
     ]
    },
    {
     "name": "stderr",
     "output_type": "stream",
     "text": [
      "[I 2023-12-08 23:01:18,967] Trial 46 finished with value: 0.05118446839970431 and parameters: {'coarse_recommender': 'merging', 'use_3_levels': True, 'coarse_2_recommender_c1:merging': 'userKnn', 'final_recommender_c1:merging_c2:userKnn': 'slim', 'cutoff1': 2403, 'cutoff2': 1742}. Best is trial 42 with value: 0.05120817317618262.\n"
     ]
    },
    {
     "name": "stdout",
     "output_type": "stream",
     "text": [
      "Recommender_Base_Class: URM Detected 627 ( 4.8%) users with no interactions.\n",
      "Recommender_Base_Class: URM Detected 247 ( 1.1%) items with no interactions.\n",
      "EvaluatorHoldout: Processed 10456 (100.0%) in 33.80 sec. Users per second: 309\n"
     ]
    },
    {
     "name": "stderr",
     "output_type": "stream",
     "text": [
      "[I 2023-12-08 23:01:53,003] Trial 47 finished with value: 0.0511877284706289 and parameters: {'coarse_recommender': 'merging', 'use_3_levels': True, 'coarse_2_recommender_c1:merging': 'userKnn', 'final_recommender_c1:merging_c2:userKnn': 'slim', 'cutoff1': 2436, 'cutoff2': 1820}. Best is trial 42 with value: 0.05120817317618262.\n"
     ]
    },
    {
     "name": "stdout",
     "output_type": "stream",
     "text": [
      "Recommender_Base_Class: URM Detected 627 ( 4.8%) users with no interactions.\n",
      "Recommender_Base_Class: URM Detected 247 ( 1.1%) items with no interactions.\n",
      "EvaluatorHoldout: Processed 10456 (100.0%) in 33.53 sec. Users per second: 312\n"
     ]
    },
    {
     "name": "stderr",
     "output_type": "stream",
     "text": [
      "[I 2023-12-08 23:02:26,758] Trial 48 finished with value: 0.051197132959279745 and parameters: {'coarse_recommender': 'merging', 'use_3_levels': True, 'coarse_2_recommender_c1:merging': 'userKnn', 'final_recommender_c1:merging_c2:userKnn': 'slim', 'cutoff1': 2183, 'cutoff2': 1825}. Best is trial 42 with value: 0.05120817317618262.\n"
     ]
    },
    {
     "name": "stdout",
     "output_type": "stream",
     "text": [
      "Recommender_Base_Class: URM Detected 627 ( 4.8%) users with no interactions.\n",
      "Recommender_Base_Class: URM Detected 247 ( 1.1%) items with no interactions.\n",
      "EvaluatorHoldout: Processed 10456 (100.0%) in 33.55 sec. Users per second: 312\n"
     ]
    },
    {
     "name": "stderr",
     "output_type": "stream",
     "text": [
      "[I 2023-12-08 23:03:00,522] Trial 49 finished with value: 0.051209676072674036 and parameters: {'coarse_recommender': 'merging', 'use_3_levels': True, 'coarse_2_recommender_c1:merging': 'userKnn', 'final_recommender_c1:merging_c2:userKnn': 'slim', 'cutoff1': 2218, 'cutoff2': 1925}. Best is trial 49 with value: 0.051209676072674036.\n"
     ]
    },
    {
     "name": "stdout",
     "output_type": "stream",
     "text": [
      "Recommender_Base_Class: URM Detected 627 ( 4.8%) users with no interactions.\n",
      "Recommender_Base_Class: URM Detected 247 ( 1.1%) items with no interactions.\n",
      "EvaluatorHoldout: Processed 10456 (100.0%) in 22.86 sec. Users per second: 457\n"
     ]
    },
    {
     "name": "stderr",
     "output_type": "stream",
     "text": [
      "[I 2023-12-08 23:03:23,558] Trial 50 finished with value: 0.05124518769507358 and parameters: {'coarse_recommender': 'merging', 'use_3_levels': False, 'cutoff': 1802, 'final_recommender_c1:merging': 'slim'}. Best is trial 50 with value: 0.05124518769507358.\n"
     ]
    },
    {
     "name": "stdout",
     "output_type": "stream",
     "text": [
      "Recommender_Base_Class: URM Detected 627 ( 4.8%) users with no interactions.\n",
      "Recommender_Base_Class: URM Detected 247 ( 1.1%) items with no interactions.\n",
      "EvaluatorHoldout: Processed 10456 (100.0%) in 22.91 sec. Users per second: 456\n"
     ]
    },
    {
     "name": "stderr",
     "output_type": "stream",
     "text": [
      "[I 2023-12-08 23:03:46,645] Trial 51 finished with value: 0.051245054863312975 and parameters: {'coarse_recommender': 'merging', 'use_3_levels': False, 'cutoff': 1916, 'final_recommender_c1:merging': 'slim'}. Best is trial 50 with value: 0.05124518769507358.\n"
     ]
    },
    {
     "name": "stdout",
     "output_type": "stream",
     "text": [
      "Recommender_Base_Class: URM Detected 627 ( 4.8%) users with no interactions.\n",
      "Recommender_Base_Class: URM Detected 247 ( 1.1%) items with no interactions.\n",
      "EvaluatorHoldout: Processed 10456 (100.0%) in 22.66 sec. Users per second: 461\n"
     ]
    },
    {
     "name": "stderr",
     "output_type": "stream",
     "text": [
      "[I 2023-12-08 23:04:09,483] Trial 52 finished with value: 0.05124518769507358 and parameters: {'coarse_recommender': 'merging', 'use_3_levels': False, 'cutoff': 1800, 'final_recommender_c1:merging': 'slim'}. Best is trial 50 with value: 0.05124518769507358.\n"
     ]
    },
    {
     "name": "stdout",
     "output_type": "stream",
     "text": [
      "Recommender_Base_Class: URM Detected 627 ( 4.8%) users with no interactions.\n",
      "Recommender_Base_Class: URM Detected 247 ( 1.1%) items with no interactions.\n",
      "EvaluatorHoldout: Processed 10456 (100.0%) in 23.06 sec. Users per second: 454\n"
     ]
    },
    {
     "name": "stderr",
     "output_type": "stream",
     "text": [
      "[I 2023-12-08 23:04:32,719] Trial 53 finished with value: 0.051245054863312975 and parameters: {'coarse_recommender': 'merging', 'use_3_levels': False, 'cutoff': 1944, 'final_recommender_c1:merging': 'slim'}. Best is trial 50 with value: 0.05124518769507358.\n"
     ]
    },
    {
     "name": "stdout",
     "output_type": "stream",
     "text": [
      "Recommender_Base_Class: URM Detected 627 ( 4.8%) users with no interactions.\n",
      "Recommender_Base_Class: URM Detected 247 ( 1.1%) items with no interactions.\n",
      "EvaluatorHoldout: Processed 10456 (100.0%) in 22.87 sec. Users per second: 457\n"
     ]
    },
    {
     "name": "stderr",
     "output_type": "stream",
     "text": [
      "[I 2023-12-08 23:04:55,760] Trial 54 finished with value: 0.05124518769507358 and parameters: {'coarse_recommender': 'merging', 'use_3_levels': False, 'cutoff': 1899, 'final_recommender_c1:merging': 'slim'}. Best is trial 50 with value: 0.05124518769507358.\n"
     ]
    },
    {
     "name": "stdout",
     "output_type": "stream",
     "text": [
      "Recommender_Base_Class: URM Detected 627 ( 4.8%) users with no interactions.\n",
      "Recommender_Base_Class: URM Detected 247 ( 1.1%) items with no interactions.\n",
      "EvaluatorHoldout: Processed 10456 (100.0%) in 23.00 sec. Users per second: 455\n"
     ]
    },
    {
     "name": "stderr",
     "output_type": "stream",
     "text": [
      "[I 2023-12-08 23:05:18,931] Trial 55 finished with value: 0.05124518769507358 and parameters: {'coarse_recommender': 'merging', 'use_3_levels': False, 'cutoff': 1865, 'final_recommender_c1:merging': 'slim'}. Best is trial 50 with value: 0.05124518769507358.\n"
     ]
    },
    {
     "name": "stdout",
     "output_type": "stream",
     "text": [
      "Recommender_Base_Class: URM Detected 627 ( 4.8%) users with no interactions.\n",
      "Recommender_Base_Class: URM Detected 247 ( 1.1%) items with no interactions.\n",
      "EvaluatorHoldout: Processed 10456 (100.0%) in 22.82 sec. Users per second: 458\n"
     ]
    },
    {
     "name": "stderr",
     "output_type": "stream",
     "text": [
      "[I 2023-12-08 23:05:41,926] Trial 56 finished with value: 0.05124518769507358 and parameters: {'coarse_recommender': 'merging', 'use_3_levels': False, 'cutoff': 1892, 'final_recommender_c1:merging': 'slim'}. Best is trial 50 with value: 0.05124518769507358.\n"
     ]
    },
    {
     "name": "stdout",
     "output_type": "stream",
     "text": [
      "Recommender_Base_Class: URM Detected 627 ( 4.8%) users with no interactions.\n",
      "Recommender_Base_Class: URM Detected 247 ( 1.1%) items with no interactions.\n",
      "EvaluatorHoldout: Processed 10456 (100.0%) in 25.03 sec. Users per second: 418\n"
     ]
    },
    {
     "name": "stderr",
     "output_type": "stream",
     "text": [
      "[I 2023-12-08 23:06:07,145] Trial 57 finished with value: 0.044813728124507284 and parameters: {'coarse_recommender': 'itemKnn', 'use_3_levels': False, 'cutoff': 1845, 'final_recommender_c1:itemKnn': 'easeR'}. Best is trial 50 with value: 0.05124518769507358.\n"
     ]
    },
    {
     "name": "stdout",
     "output_type": "stream",
     "text": [
      "Recommender_Base_Class: URM Detected 627 ( 4.8%) users with no interactions.\n",
      "Recommender_Base_Class: URM Detected 247 ( 1.1%) items with no interactions.\n",
      "EvaluatorHoldout: Processed 10456 (100.0%) in 19.61 sec. Users per second: 533\n"
     ]
    },
    {
     "name": "stderr",
     "output_type": "stream",
     "text": [
      "[I 2023-12-08 23:06:26,924] Trial 58 finished with value: 0.04867260842107884 and parameters: {'coarse_recommender': 'alpha', 'use_3_levels': False, 'cutoff': 1698, 'final_recommender_c1:alpha': 'itemKnn'}. Best is trial 50 with value: 0.05124518769507358.\n"
     ]
    },
    {
     "name": "stdout",
     "output_type": "stream",
     "text": [
      "Recommender_Base_Class: URM Detected 627 ( 4.8%) users with no interactions.\n",
      "Recommender_Base_Class: URM Detected 247 ( 1.1%) items with no interactions.\n",
      "EvaluatorHoldout: Processed 10456 (100.0%) in 20.02 sec. Users per second: 522\n"
     ]
    },
    {
     "name": "stderr",
     "output_type": "stream",
     "text": [
      "[I 2023-12-08 23:06:47,115] Trial 59 finished with value: 0.04996411265347834 and parameters: {'coarse_recommender': 'rp3', 'use_3_levels': False, 'cutoff': 2218, 'final_recommender_c1:rp3': 'merging'}. Best is trial 50 with value: 0.05124518769507358.\n"
     ]
    },
    {
     "name": "stdout",
     "output_type": "stream",
     "text": [
      "Recommender_Base_Class: URM Detected 627 ( 4.8%) users with no interactions.\n",
      "Recommender_Base_Class: URM Detected 247 ( 1.1%) items with no interactions.\n",
      "EvaluatorHoldout: Processed 10456 (100.0%) in 22.84 sec. Users per second: 458\n"
     ]
    },
    {
     "name": "stderr",
     "output_type": "stream",
     "text": [
      "[I 2023-12-08 23:07:10,130] Trial 60 finished with value: 0.05124518769507358 and parameters: {'coarse_recommender': 'merging', 'use_3_levels': False, 'cutoff': 1466, 'final_recommender_c1:merging': 'slim'}. Best is trial 50 with value: 0.05124518769507358.\n"
     ]
    },
    {
     "name": "stdout",
     "output_type": "stream",
     "text": [
      "Recommender_Base_Class: URM Detected 627 ( 4.8%) users with no interactions.\n",
      "Recommender_Base_Class: URM Detected 247 ( 1.1%) items with no interactions.\n",
      "EvaluatorHoldout: Processed 10456 (100.0%) in 22.92 sec. Users per second: 456\n"
     ]
    },
    {
     "name": "stderr",
     "output_type": "stream",
     "text": [
      "[I 2023-12-08 23:07:33,237] Trial 61 finished with value: 0.05124518769507358 and parameters: {'coarse_recommender': 'merging', 'use_3_levels': False, 'cutoff': 1476, 'final_recommender_c1:merging': 'slim'}. Best is trial 50 with value: 0.05124518769507358.\n"
     ]
    },
    {
     "name": "stdout",
     "output_type": "stream",
     "text": [
      "Recommender_Base_Class: URM Detected 627 ( 4.8%) users with no interactions.\n",
      "Recommender_Base_Class: URM Detected 247 ( 1.1%) items with no interactions.\n",
      "EvaluatorHoldout: Processed 10456 (100.0%) in 22.69 sec. Users per second: 461\n"
     ]
    },
    {
     "name": "stderr",
     "output_type": "stream",
     "text": [
      "[I 2023-12-08 23:07:56,110] Trial 62 finished with value: 0.05124535847876578 and parameters: {'coarse_recommender': 'merging', 'use_3_levels': False, 'cutoff': 1380, 'final_recommender_c1:merging': 'slim'}. Best is trial 62 with value: 0.05124535847876578.\n"
     ]
    },
    {
     "name": "stdout",
     "output_type": "stream",
     "text": [
      "Recommender_Base_Class: URM Detected 627 ( 4.8%) users with no interactions.\n",
      "Recommender_Base_Class: URM Detected 247 ( 1.1%) items with no interactions.\n",
      "EvaluatorHoldout: Processed 10456 (100.0%) in 22.84 sec. Users per second: 458\n"
     ]
    },
    {
     "name": "stderr",
     "output_type": "stream",
     "text": [
      "[I 2023-12-08 23:08:19,127] Trial 63 finished with value: 0.05124535847876578 and parameters: {'coarse_recommender': 'merging', 'use_3_levels': False, 'cutoff': 1278, 'final_recommender_c1:merging': 'slim'}. Best is trial 62 with value: 0.05124535847876578.\n"
     ]
    },
    {
     "name": "stdout",
     "output_type": "stream",
     "text": [
      "Recommender_Base_Class: URM Detected 627 ( 4.8%) users with no interactions.\n",
      "Recommender_Base_Class: URM Detected 247 ( 1.1%) items with no interactions.\n",
      "EvaluatorHoldout: Processed 10456 (100.0%) in 22.76 sec. Users per second: 459\n"
     ]
    },
    {
     "name": "stderr",
     "output_type": "stream",
     "text": [
      "[I 2023-12-08 23:08:42,074] Trial 64 finished with value: 0.05124535847876578 and parameters: {'coarse_recommender': 'merging', 'use_3_levels': False, 'cutoff': 1188, 'final_recommender_c1:merging': 'slim'}. Best is trial 62 with value: 0.05124535847876578.\n"
     ]
    },
    {
     "name": "stdout",
     "output_type": "stream",
     "text": [
      "Recommender_Base_Class: URM Detected 627 ( 4.8%) users with no interactions.\n",
      "Recommender_Base_Class: URM Detected 247 ( 1.1%) items with no interactions.\n",
      "EvaluatorHoldout: Processed 10456 (100.0%) in 31.38 sec. Users per second: 333\n"
     ]
    },
    {
     "name": "stderr",
     "output_type": "stream",
     "text": [
      "[I 2023-12-08 23:09:13,652] Trial 65 finished with value: 0.03612029168336581 and parameters: {'coarse_recommender': 'easeR', 'use_3_levels': False, 'cutoff': 1100, 'final_recommender_c1:easeR': 'userKnn'}. Best is trial 62 with value: 0.05124535847876578.\n"
     ]
    },
    {
     "name": "stdout",
     "output_type": "stream",
     "text": [
      "Recommender_Base_Class: URM Detected 627 ( 4.8%) users with no interactions.\n",
      "Recommender_Base_Class: URM Detected 247 ( 1.1%) items with no interactions.\n",
      "EvaluatorHoldout: Processed 10456 (100.0%) in 22.76 sec. Users per second: 459\n"
     ]
    },
    {
     "name": "stderr",
     "output_type": "stream",
     "text": [
      "[I 2023-12-08 23:09:36,604] Trial 66 finished with value: 0.05124535847876578 and parameters: {'coarse_recommender': 'merging', 'use_3_levels': False, 'cutoff': 1179, 'final_recommender_c1:merging': 'slim'}. Best is trial 62 with value: 0.05124535847876578.\n"
     ]
    },
    {
     "name": "stdout",
     "output_type": "stream",
     "text": [
      "Recommender_Base_Class: URM Detected 627 ( 4.8%) users with no interactions.\n",
      "Recommender_Base_Class: URM Detected 247 ( 1.1%) items with no interactions.\n",
      "EvaluatorHoldout: Processed 10456 (100.0%) in 22.97 sec. Users per second: 455\n"
     ]
    },
    {
     "name": "stderr",
     "output_type": "stream",
     "text": [
      "[I 2023-12-08 23:09:59,763] Trial 67 finished with value: 0.05124535847876578 and parameters: {'coarse_recommender': 'merging', 'use_3_levels': False, 'cutoff': 1124, 'final_recommender_c1:merging': 'slim'}. Best is trial 62 with value: 0.05124535847876578.\n"
     ]
    },
    {
     "name": "stdout",
     "output_type": "stream",
     "text": [
      "Recommender_Base_Class: URM Detected 627 ( 4.8%) users with no interactions.\n",
      "Recommender_Base_Class: URM Detected 247 ( 1.1%) items with no interactions.\n",
      "EvaluatorHoldout: Processed 10456 (100.0%) in 27.61 sec. Users per second: 379\n"
     ]
    },
    {
     "name": "stderr",
     "output_type": "stream",
     "text": [
      "[I 2023-12-08 23:10:27,553] Trial 68 finished with value: 0.04865619041546813 and parameters: {'coarse_recommender': 'slim', 'use_3_levels': False, 'cutoff': 1212, 'final_recommender_c1:slim': 'itemKnn'}. Best is trial 62 with value: 0.05124535847876578.\n"
     ]
    },
    {
     "name": "stdout",
     "output_type": "stream",
     "text": [
      "Recommender_Base_Class: URM Detected 627 ( 4.8%) users with no interactions.\n",
      "Recommender_Base_Class: URM Detected 247 ( 1.1%) items with no interactions.\n",
      "EvaluatorHoldout: Processed 10456 (100.0%) in 22.29 sec. Users per second: 469\n"
     ]
    },
    {
     "name": "stderr",
     "output_type": "stream",
     "text": [
      "[I 2023-12-08 23:10:50,039] Trial 69 finished with value: 0.05124631486744214 and parameters: {'coarse_recommender': 'merging', 'use_3_levels': False, 'cutoff': 754, 'final_recommender_c1:merging': 'slim'}. Best is trial 69 with value: 0.05124631486744214.\n"
     ]
    },
    {
     "name": "stdout",
     "output_type": "stream",
     "text": [
      "Recommender_Base_Class: URM Detected 627 ( 4.8%) users with no interactions.\n",
      "Recommender_Base_Class: URM Detected 247 ( 1.1%) items with no interactions.\n",
      "EvaluatorHoldout: Processed 10456 (100.0%) in 22.15 sec. Users per second: 472\n"
     ]
    },
    {
     "name": "stderr",
     "output_type": "stream",
     "text": [
      "[I 2023-12-08 23:11:12,367] Trial 70 finished with value: 0.03844271080020928 and parameters: {'coarse_recommender': 'rp3', 'use_3_levels': False, 'cutoff': 724, 'final_recommender_c1:rp3': 'userKnn'}. Best is trial 69 with value: 0.05124631486744214.\n"
     ]
    },
    {
     "name": "stdout",
     "output_type": "stream",
     "text": [
      "Recommender_Base_Class: URM Detected 627 ( 4.8%) users with no interactions.\n",
      "Recommender_Base_Class: URM Detected 247 ( 1.1%) items with no interactions.\n",
      "EvaluatorHoldout: Processed 10456 (100.0%) in 22.42 sec. Users per second: 466\n"
     ]
    },
    {
     "name": "stderr",
     "output_type": "stream",
     "text": [
      "[I 2023-12-08 23:11:34,969] Trial 71 finished with value: 0.05124535847876578 and parameters: {'coarse_recommender': 'merging', 'use_3_levels': False, 'cutoff': 1226, 'final_recommender_c1:merging': 'slim'}. Best is trial 69 with value: 0.05124631486744214.\n"
     ]
    },
    {
     "name": "stdout",
     "output_type": "stream",
     "text": [
      "Recommender_Base_Class: URM Detected 627 ( 4.8%) users with no interactions.\n",
      "Recommender_Base_Class: URM Detected 247 ( 1.1%) items with no interactions.\n",
      "EvaluatorHoldout: Processed 10456 (100.0%) in 22.34 sec. Users per second: 468\n"
     ]
    },
    {
     "name": "stderr",
     "output_type": "stream",
     "text": [
      "[I 2023-12-08 23:11:57,481] Trial 72 finished with value: 0.05124535847876578 and parameters: {'coarse_recommender': 'merging', 'use_3_levels': False, 'cutoff': 1215, 'final_recommender_c1:merging': 'slim'}. Best is trial 69 with value: 0.05124631486744214.\n"
     ]
    },
    {
     "name": "stdout",
     "output_type": "stream",
     "text": [
      "Recommender_Base_Class: URM Detected 627 ( 4.8%) users with no interactions.\n",
      "Recommender_Base_Class: URM Detected 247 ( 1.1%) items with no interactions.\n",
      "EvaluatorHoldout: Processed 10456 (100.0%) in 22.56 sec. Users per second: 464\n"
     ]
    },
    {
     "name": "stderr",
     "output_type": "stream",
     "text": [
      "[I 2023-12-08 23:12:20,217] Trial 73 finished with value: 0.03722888278621854 and parameters: {'coarse_recommender': 'merging', 'use_3_levels': False, 'cutoff': 1217, 'final_recommender_c1:merging': 'userKnn'}. Best is trial 69 with value: 0.05124631486744214.\n"
     ]
    },
    {
     "name": "stdout",
     "output_type": "stream",
     "text": [
      "Recommender_Base_Class: URM Detected 627 ( 4.8%) users with no interactions.\n",
      "Recommender_Base_Class: URM Detected 247 ( 1.1%) items with no interactions.\n",
      "EvaluatorHoldout: Processed 10456 (100.0%) in 19.39 sec. Users per second: 539\n"
     ]
    },
    {
     "name": "stderr",
     "output_type": "stream",
     "text": [
      "[I 2023-12-08 23:12:39,804] Trial 74 finished with value: 0.04781601434886682 and parameters: {'coarse_recommender': 'merging', 'use_3_levels': False, 'cutoff': 997, 'final_recommender_c1:merging': 'alpha'}. Best is trial 69 with value: 0.05124631486744214.\n"
     ]
    },
    {
     "name": "stdout",
     "output_type": "stream",
     "text": [
      "Recommender_Base_Class: URM Detected 627 ( 4.8%) users with no interactions.\n",
      "Recommender_Base_Class: URM Detected 247 ( 1.1%) items with no interactions.\n",
      "EvaluatorHoldout: Processed 10456 (100.0%) in 23.68 sec. Users per second: 442\n"
     ]
    },
    {
     "name": "stderr",
     "output_type": "stream",
     "text": [
      "[I 2023-12-08 23:13:03,676] Trial 75 finished with value: 0.04245056760908954 and parameters: {'coarse_recommender': 'itemKnn', 'use_3_levels': False, 'cutoff': 819, 'final_recommender_c1:itemKnn': 'ials'}. Best is trial 69 with value: 0.05124631486744214.\n"
     ]
    },
    {
     "name": "stdout",
     "output_type": "stream",
     "text": [
      "Recommender_Base_Class: URM Detected 627 ( 4.8%) users with no interactions.\n",
      "Recommender_Base_Class: URM Detected 247 ( 1.1%) items with no interactions.\n",
      "EvaluatorHoldout: Processed 10456 (100.0%) in 22.07 sec. Users per second: 474\n"
     ]
    },
    {
     "name": "stderr",
     "output_type": "stream",
     "text": [
      "[I 2023-12-08 23:13:25,920] Trial 76 finished with value: 0.05097012727559849 and parameters: {'coarse_recommender': 'alpha', 'use_3_levels': False, 'cutoff': 1260, 'final_recommender_c1:alpha': 'slim'}. Best is trial 69 with value: 0.05124631486744214.\n"
     ]
    },
    {
     "name": "stdout",
     "output_type": "stream",
     "text": [
      "Recommender_Base_Class: URM Detected 627 ( 4.8%) users with no interactions.\n",
      "Recommender_Base_Class: URM Detected 247 ( 1.1%) items with no interactions.\n",
      "EvaluatorHoldout: Processed 10456 (100.0%) in 23.90 sec. Users per second: 438\n"
     ]
    },
    {
     "name": "stderr",
     "output_type": "stream",
     "text": [
      "[I 2023-12-08 23:13:49,996] Trial 77 finished with value: 0.042279484096623146 and parameters: {'coarse_recommender': 'merging', 'use_3_levels': False, 'cutoff': 1023, 'final_recommender_c1:merging': 'ials'}. Best is trial 69 with value: 0.05124631486744214.\n"
     ]
    },
    {
     "name": "stdout",
     "output_type": "stream",
     "text": [
      "Recommender_Base_Class: URM Detected 627 ( 4.8%) users with no interactions.\n",
      "Recommender_Base_Class: URM Detected 247 ( 1.1%) items with no interactions.\n",
      "EvaluatorHoldout: Processed 10456 (100.0%) in 25.38 sec. Users per second: 412\n"
     ]
    },
    {
     "name": "stderr",
     "output_type": "stream",
     "text": [
      "[I 2023-12-08 23:14:15,564] Trial 78 finished with value: 0.048733532656878846 and parameters: {'coarse_recommender': 'easeR', 'use_3_levels': False, 'cutoff': 1300, 'final_recommender_c1:easeR': 'itemKnn'}. Best is trial 69 with value: 0.05124631486744214.\n"
     ]
    },
    {
     "name": "stdout",
     "output_type": "stream",
     "text": [
      "Recommender_Base_Class: URM Detected 627 ( 4.8%) users with no interactions.\n",
      "Recommender_Base_Class: URM Detected 247 ( 1.1%) items with no interactions.\n",
      "EvaluatorHoldout: Processed 10456 (100.0%) in 22.10 sec. Users per second: 473\n"
     ]
    },
    {
     "name": "stderr",
     "output_type": "stream",
     "text": [
      "[I 2023-12-08 23:14:37,838] Trial 79 finished with value: 0.05124823903037434 and parameters: {'coarse_recommender': 'merging', 'use_3_levels': False, 'cutoff': 573, 'final_recommender_c1:merging': 'slim'}. Best is trial 79 with value: 0.05124823903037434.\n"
     ]
    },
    {
     "name": "stdout",
     "output_type": "stream",
     "text": [
      "Recommender_Base_Class: URM Detected 627 ( 4.8%) users with no interactions.\n",
      "Recommender_Base_Class: URM Detected 247 ( 1.1%) items with no interactions.\n",
      "EvaluatorHoldout: Processed 10456 (100.0%) in 22.26 sec. Users per second: 470\n"
     ]
    },
    {
     "name": "stderr",
     "output_type": "stream",
     "text": [
      "[I 2023-12-08 23:15:00,272] Trial 80 finished with value: 0.05124823903037434 and parameters: {'coarse_recommender': 'merging', 'use_3_levels': False, 'cutoff': 541, 'final_recommender_c1:merging': 'slim'}. Best is trial 79 with value: 0.05124823903037434.\n"
     ]
    },
    {
     "name": "stdout",
     "output_type": "stream",
     "text": [
      "Recommender_Base_Class: URM Detected 627 ( 4.8%) users with no interactions.\n",
      "Recommender_Base_Class: URM Detected 247 ( 1.1%) items with no interactions.\n",
      "EvaluatorHoldout: Processed 10456 (100.0%) in 22.26 sec. Users per second: 470\n"
     ]
    },
    {
     "name": "stderr",
     "output_type": "stream",
     "text": [
      "[I 2023-12-08 23:15:22,709] Trial 81 finished with value: 0.05124823903037434 and parameters: {'coarse_recommender': 'merging', 'use_3_levels': False, 'cutoff': 557, 'final_recommender_c1:merging': 'slim'}. Best is trial 79 with value: 0.05124823903037434.\n"
     ]
    },
    {
     "name": "stdout",
     "output_type": "stream",
     "text": [
      "Recommender_Base_Class: URM Detected 627 ( 4.8%) users with no interactions.\n",
      "Recommender_Base_Class: URM Detected 247 ( 1.1%) items with no interactions.\n",
      "EvaluatorHoldout: Processed 10456 (100.0%) in 22.27 sec. Users per second: 470\n"
     ]
    },
    {
     "name": "stderr",
     "output_type": "stream",
     "text": [
      "[I 2023-12-08 23:15:45,157] Trial 82 finished with value: 0.05124834529578282 and parameters: {'coarse_recommender': 'merging', 'use_3_levels': False, 'cutoff': 516, 'final_recommender_c1:merging': 'slim'}. Best is trial 82 with value: 0.05124834529578282.\n"
     ]
    },
    {
     "name": "stdout",
     "output_type": "stream",
     "text": [
      "Recommender_Base_Class: URM Detected 627 ( 4.8%) users with no interactions.\n",
      "Recommender_Base_Class: URM Detected 247 ( 1.1%) items with no interactions.\n",
      "EvaluatorHoldout: Processed 10456 (100.0%) in 22.01 sec. Users per second: 475\n"
     ]
    },
    {
     "name": "stderr",
     "output_type": "stream",
     "text": [
      "[I 2023-12-08 23:16:07,341] Trial 83 finished with value: 0.05124834529578282 and parameters: {'coarse_recommender': 'merging', 'use_3_levels': False, 'cutoff': 485, 'final_recommender_c1:merging': 'slim'}. Best is trial 82 with value: 0.05124834529578282.\n"
     ]
    },
    {
     "name": "stdout",
     "output_type": "stream",
     "text": [
      "Recommender_Base_Class: URM Detected 627 ( 4.8%) users with no interactions.\n",
      "Recommender_Base_Class: URM Detected 247 ( 1.1%) items with no interactions.\n",
      "EvaluatorHoldout: Processed 10456 (100.0%) in 22.21 sec. Users per second: 471\n"
     ]
    },
    {
     "name": "stderr",
     "output_type": "stream",
     "text": [
      "[I 2023-12-08 23:16:29,733] Trial 84 finished with value: 0.05124834529578282 and parameters: {'coarse_recommender': 'merging', 'use_3_levels': False, 'cutoff': 472, 'final_recommender_c1:merging': 'slim'}. Best is trial 82 with value: 0.05124834529578282.\n"
     ]
    },
    {
     "name": "stdout",
     "output_type": "stream",
     "text": [
      "Recommender_Base_Class: URM Detected 627 ( 4.8%) users with no interactions.\n",
      "Recommender_Base_Class: URM Detected 247 ( 1.1%) items with no interactions.\n",
      "EvaluatorHoldout: Processed 10456 (100.0%) in 22.08 sec. Users per second: 474\n"
     ]
    },
    {
     "name": "stderr",
     "output_type": "stream",
     "text": [
      "[I 2023-12-08 23:16:51,978] Trial 85 finished with value: 0.05124834529578282 and parameters: {'coarse_recommender': 'merging', 'use_3_levels': False, 'cutoff': 492, 'final_recommender_c1:merging': 'slim'}. Best is trial 82 with value: 0.05124834529578282.\n"
     ]
    },
    {
     "name": "stdout",
     "output_type": "stream",
     "text": [
      "Recommender_Base_Class: URM Detected 627 ( 4.8%) users with no interactions.\n",
      "Recommender_Base_Class: URM Detected 247 ( 1.1%) items with no interactions.\n",
      "EvaluatorHoldout: Processed 10456 (100.0%) in 26.88 sec. Users per second: 389\n"
     ]
    },
    {
     "name": "stderr",
     "output_type": "stream",
     "text": [
      "[I 2023-12-08 23:17:19,044] Trial 86 finished with value: 0.0491556074737986 and parameters: {'coarse_recommender': 'slim', 'use_3_levels': False, 'cutoff': 479, 'final_recommender_c1:slim': 'rp3'}. Best is trial 82 with value: 0.05124834529578282.\n"
     ]
    },
    {
     "name": "stdout",
     "output_type": "stream",
     "text": [
      "Recommender_Base_Class: URM Detected 627 ( 4.8%) users with no interactions.\n",
      "Recommender_Base_Class: URM Detected 247 ( 1.1%) items with no interactions.\n",
      "EvaluatorHoldout: Processed 10456 (100.0%) in 22.13 sec. Users per second: 473\n"
     ]
    },
    {
     "name": "stderr",
     "output_type": "stream",
     "text": [
      "[I 2023-12-08 23:17:41,360] Trial 87 finished with value: 0.05124834529578282 and parameters: {'coarse_recommender': 'merging', 'use_3_levels': False, 'cutoff': 503, 'final_recommender_c1:merging': 'slim'}. Best is trial 82 with value: 0.05124834529578282.\n"
     ]
    },
    {
     "name": "stdout",
     "output_type": "stream",
     "text": [
      "Recommender_Base_Class: URM Detected 627 ( 4.8%) users with no interactions.\n",
      "Recommender_Base_Class: URM Detected 247 ( 1.1%) items with no interactions.\n",
      "EvaluatorHoldout: Processed 10456 (100.0%) in 22.22 sec. Users per second: 471\n"
     ]
    },
    {
     "name": "stderr",
     "output_type": "stream",
     "text": [
      "[I 2023-12-08 23:18:03,771] Trial 88 finished with value: 0.05124834529578282 and parameters: {'coarse_recommender': 'merging', 'use_3_levels': False, 'cutoff': 491, 'final_recommender_c1:merging': 'slim'}. Best is trial 82 with value: 0.05124834529578282.\n"
     ]
    },
    {
     "name": "stdout",
     "output_type": "stream",
     "text": [
      "Recommender_Base_Class: URM Detected 627 ( 4.8%) users with no interactions.\n",
      "Recommender_Base_Class: URM Detected 247 ( 1.1%) items with no interactions.\n",
      "EvaluatorHoldout: Processed 10456 (100.0%) in 22.23 sec. Users per second: 470\n"
     ]
    },
    {
     "name": "stderr",
     "output_type": "stream",
     "text": [
      "[I 2023-12-08 23:18:26,182] Trial 89 finished with value: 0.05124834529578282 and parameters: {'coarse_recommender': 'merging', 'use_3_levels': False, 'cutoff': 471, 'final_recommender_c1:merging': 'slim'}. Best is trial 82 with value: 0.05124834529578282.\n"
     ]
    },
    {
     "name": "stdout",
     "output_type": "stream",
     "text": [
      "Recommender_Base_Class: URM Detected 627 ( 4.8%) users with no interactions.\n",
      "Recommender_Base_Class: URM Detected 247 ( 1.1%) items with no interactions.\n",
      "EvaluatorHoldout: Processed 10456 (100.0%) in 19.39 sec. Users per second: 539\n"
     ]
    },
    {
     "name": "stderr",
     "output_type": "stream",
     "text": [
      "[I 2023-12-08 23:18:45,753] Trial 90 finished with value: 0.04915612362006838 and parameters: {'coarse_recommender': 'merging', 'use_3_levels': False, 'cutoff': 167, 'final_recommender_c1:merging': 'rp3'}. Best is trial 82 with value: 0.05124834529578282.\n"
     ]
    },
    {
     "name": "stdout",
     "output_type": "stream",
     "text": [
      "Recommender_Base_Class: URM Detected 627 ( 4.8%) users with no interactions.\n",
      "Recommender_Base_Class: URM Detected 247 ( 1.1%) items with no interactions.\n",
      "EvaluatorHoldout: Processed 10456 (100.0%) in 22.12 sec. Users per second: 473\n"
     ]
    },
    {
     "name": "stderr",
     "output_type": "stream",
     "text": [
      "[I 2023-12-08 23:19:08,063] Trial 91 finished with value: 0.05124834529578282 and parameters: {'coarse_recommender': 'merging', 'use_3_levels': False, 'cutoff': 511, 'final_recommender_c1:merging': 'slim'}. Best is trial 82 with value: 0.05124834529578282.\n"
     ]
    },
    {
     "name": "stdout",
     "output_type": "stream",
     "text": [
      "Recommender_Base_Class: URM Detected 627 ( 4.8%) users with no interactions.\n",
      "Recommender_Base_Class: URM Detected 247 ( 1.1%) items with no interactions.\n",
      "EvaluatorHoldout: Processed 10456 (100.0%) in 22.16 sec. Users per second: 472\n"
     ]
    },
    {
     "name": "stderr",
     "output_type": "stream",
     "text": [
      "[I 2023-12-08 23:19:30,407] Trial 92 finished with value: 0.05124834529578282 and parameters: {'coarse_recommender': 'merging', 'use_3_levels': False, 'cutoff': 420, 'final_recommender_c1:merging': 'slim'}. Best is trial 82 with value: 0.05124834529578282.\n"
     ]
    },
    {
     "name": "stdout",
     "output_type": "stream",
     "text": [
      "Recommender_Base_Class: URM Detected 627 ( 4.8%) users with no interactions.\n",
      "Recommender_Base_Class: URM Detected 247 ( 1.1%) items with no interactions.\n",
      "EvaluatorHoldout: Processed 10456 (100.0%) in 22.00 sec. Users per second: 475\n"
     ]
    },
    {
     "name": "stderr",
     "output_type": "stream",
     "text": [
      "[I 2023-12-08 23:19:52,590] Trial 93 finished with value: 0.051252474465941084 and parameters: {'coarse_recommender': 'merging', 'use_3_levels': False, 'cutoff': 344, 'final_recommender_c1:merging': 'slim'}. Best is trial 93 with value: 0.051252474465941084.\n"
     ]
    },
    {
     "name": "stdout",
     "output_type": "stream",
     "text": [
      "Recommender_Base_Class: URM Detected 627 ( 4.8%) users with no interactions.\n",
      "Recommender_Base_Class: URM Detected 247 ( 1.1%) items with no interactions.\n",
      "EvaluatorHoldout: Processed 10456 (100.0%) in 22.27 sec. Users per second: 469\n"
     ]
    },
    {
     "name": "stderr",
     "output_type": "stream",
     "text": [
      "[I 2023-12-08 23:20:15,044] Trial 94 finished with value: 0.0374441499374555 and parameters: {'coarse_recommender': 'merging', 'use_3_levels': False, 'cutoff': 338, 'final_recommender_c1:merging': 'userKnn'}. Best is trial 93 with value: 0.051252474465941084.\n"
     ]
    },
    {
     "name": "stdout",
     "output_type": "stream",
     "text": [
      "Recommender_Base_Class: URM Detected 627 ( 4.8%) users with no interactions.\n",
      "Recommender_Base_Class: URM Detected 247 ( 1.1%) items with no interactions.\n",
      "EvaluatorHoldout: Processed 10456 (100.0%) in 22.88 sec. Users per second: 457\n"
     ]
    },
    {
     "name": "stderr",
     "output_type": "stream",
     "text": [
      "[I 2023-12-08 23:20:38,105] Trial 95 finished with value: 0.04246722471186953 and parameters: {'coarse_recommender': 'rp3', 'use_3_levels': False, 'cutoff': 298, 'final_recommender_c1:rp3': 'ials'}. Best is trial 93 with value: 0.051252474465941084.\n"
     ]
    },
    {
     "name": "stdout",
     "output_type": "stream",
     "text": [
      "Recommender_Base_Class: URM Detected 627 ( 4.8%) users with no interactions.\n",
      "Recommender_Base_Class: URM Detected 247 ( 1.1%) items with no interactions.\n",
      "EvaluatorHoldout: Processed 10456 (100.0%) in 19.54 sec. Users per second: 535\n"
     ]
    },
    {
     "name": "stderr",
     "output_type": "stream",
     "text": [
      "[I 2023-12-08 23:20:57,832] Trial 96 finished with value: 0.048710643846929955 and parameters: {'coarse_recommender': 'merging', 'use_3_levels': False, 'cutoff': 426, 'final_recommender_c1:merging': 'itemKnn'}. Best is trial 93 with value: 0.051252474465941084.\n"
     ]
    },
    {
     "name": "stdout",
     "output_type": "stream",
     "text": [
      "Recommender_Base_Class: URM Detected 627 ( 4.8%) users with no interactions.\n",
      "Recommender_Base_Class: URM Detected 247 ( 1.1%) items with no interactions.\n",
      "EvaluatorHoldout: Processed 10456 (100.0%) in 19.15 sec. Users per second: 546\n"
     ]
    },
    {
     "name": "stderr",
     "output_type": "stream",
     "text": [
      "[I 2023-12-08 23:21:17,156] Trial 97 finished with value: 0.0499886979147698 and parameters: {'coarse_recommender': 'itemKnn', 'use_3_levels': False, 'cutoff': 216, 'final_recommender_c1:itemKnn': 'merging'}. Best is trial 93 with value: 0.051252474465941084.\n"
     ]
    },
    {
     "name": "stdout",
     "output_type": "stream",
     "text": [
      "Recommender_Base_Class: URM Detected 627 ( 4.8%) users with no interactions.\n",
      "Recommender_Base_Class: URM Detected 247 ( 1.1%) items with no interactions.\n",
      "EvaluatorHoldout: Processed 10456 (100.0%) in 37.64 sec. Users per second: 278\n"
     ]
    },
    {
     "name": "stderr",
     "output_type": "stream",
     "text": [
      "[I 2023-12-08 23:21:54,972] Trial 98 finished with value: 0.04767008917185919 and parameters: {'coarse_recommender': 'ials', 'use_3_levels': False, 'cutoff': 60, 'final_recommender_c1:ials': 'rp3'}. Best is trial 93 with value: 0.051252474465941084.\n"
     ]
    },
    {
     "name": "stdout",
     "output_type": "stream",
     "text": [
      "Recommender_Base_Class: URM Detected 627 ( 4.8%) users with no interactions.\n",
      "Recommender_Base_Class: URM Detected 247 ( 1.1%) items with no interactions.\n",
      "EvaluatorHoldout: Processed 10456 (100.0%) in 23.20 sec. Users per second: 451\n"
     ]
    },
    {
     "name": "stderr",
     "output_type": "stream",
     "text": [
      "[I 2023-12-08 23:22:18,360] Trial 99 finished with value: 0.04494849163843111 and parameters: {'coarse_recommender': 'alpha', 'use_3_levels': False, 'cutoff': 690, 'final_recommender_c1:alpha': 'easeR'}. Best is trial 93 with value: 0.051252474465941084.\n"
     ]
    },
    {
     "name": "stdout",
     "output_type": "stream",
     "text": [
      "Recommender_Base_Class: URM Detected 627 ( 4.8%) users with no interactions.\n",
      "Recommender_Base_Class: URM Detected 247 ( 1.1%) items with no interactions.\n",
      "EvaluatorHoldout: Processed 10456 (100.0%) in 23.99 sec. Users per second: 436\n"
     ]
    },
    {
     "name": "stderr",
     "output_type": "stream",
     "text": [
      "[I 2023-12-08 23:22:42,533] Trial 100 finished with value: 0.044880865091510354 and parameters: {'coarse_recommender': 'merging', 'use_3_levels': False, 'cutoff': 434, 'final_recommender_c1:merging': 'easeR'}. Best is trial 93 with value: 0.051252474465941084.\n"
     ]
    },
    {
     "name": "stdout",
     "output_type": "stream",
     "text": [
      "Recommender_Base_Class: URM Detected 627 ( 4.8%) users with no interactions.\n",
      "Recommender_Base_Class: URM Detected 247 ( 1.1%) items with no interactions.\n",
      "EvaluatorHoldout: Processed 10456 (100.0%) in 22.18 sec. Users per second: 471\n"
     ]
    },
    {
     "name": "stderr",
     "output_type": "stream",
     "text": [
      "[I 2023-12-08 23:23:04,900] Trial 101 finished with value: 0.05124823903037434 and parameters: {'coarse_recommender': 'merging', 'use_3_levels': False, 'cutoff': 613, 'final_recommender_c1:merging': 'slim'}. Best is trial 93 with value: 0.051252474465941084.\n"
     ]
    },
    {
     "name": "stdout",
     "output_type": "stream",
     "text": [
      "Recommender_Base_Class: URM Detected 627 ( 4.8%) users with no interactions.\n",
      "Recommender_Base_Class: URM Detected 247 ( 1.1%) items with no interactions.\n",
      "EvaluatorHoldout: Processed 10456 (100.0%) in 22.02 sec. Users per second: 475\n"
     ]
    },
    {
     "name": "stderr",
     "output_type": "stream",
     "text": [
      "[I 2023-12-08 23:23:27,097] Trial 102 finished with value: 0.051252474465941084 and parameters: {'coarse_recommender': 'merging', 'use_3_levels': False, 'cutoff': 351, 'final_recommender_c1:merging': 'slim'}. Best is trial 93 with value: 0.051252474465941084.\n"
     ]
    },
    {
     "name": "stdout",
     "output_type": "stream",
     "text": [
      "Recommender_Base_Class: URM Detected 627 ( 4.8%) users with no interactions.\n",
      "Recommender_Base_Class: URM Detected 247 ( 1.1%) items with no interactions.\n",
      "EvaluatorHoldout: Processed 10456 (100.0%) in 22.09 sec. Users per second: 473\n"
     ]
    },
    {
     "name": "stderr",
     "output_type": "stream",
     "text": [
      "[I 2023-12-08 23:23:49,370] Trial 103 finished with value: 0.051252474465941084 and parameters: {'coarse_recommender': 'merging', 'use_3_levels': False, 'cutoff': 343, 'final_recommender_c1:merging': 'slim'}. Best is trial 93 with value: 0.051252474465941084.\n"
     ]
    },
    {
     "name": "stdout",
     "output_type": "stream",
     "text": [
      "Recommender_Base_Class: URM Detected 627 ( 4.8%) users with no interactions.\n",
      "Recommender_Base_Class: URM Detected 247 ( 1.1%) items with no interactions.\n",
      "EvaluatorHoldout: Processed 10456 (100.0%) in 19.18 sec. Users per second: 545\n"
     ]
    },
    {
     "name": "stderr",
     "output_type": "stream",
     "text": [
      "[I 2023-12-08 23:24:08,745] Trial 104 finished with value: 0.04782810962946822 and parameters: {'coarse_recommender': 'merging', 'use_3_levels': False, 'cutoff': 337, 'final_recommender_c1:merging': 'alpha'}. Best is trial 93 with value: 0.051252474465941084.\n"
     ]
    },
    {
     "name": "stdout",
     "output_type": "stream",
     "text": [
      "Recommender_Base_Class: URM Detected 627 ( 4.8%) users with no interactions.\n",
      "Recommender_Base_Class: URM Detected 247 ( 1.1%) items with no interactions.\n",
      "EvaluatorHoldout: Processed 10456 (100.0%) in 23.17 sec. Users per second: 451\n"
     ]
    },
    {
     "name": "stderr",
     "output_type": "stream",
     "text": [
      "[I 2023-12-08 23:24:32,113] Trial 105 finished with value: 0.04253071449824564 and parameters: {'coarse_recommender': 'merging', 'use_3_levels': False, 'cutoff': 230, 'final_recommender_c1:merging': 'ials'}. Best is trial 93 with value: 0.051252474465941084.\n"
     ]
    },
    {
     "name": "stdout",
     "output_type": "stream",
     "text": [
      "Recommender_Base_Class: URM Detected 627 ( 4.8%) users with no interactions.\n",
      "Recommender_Base_Class: URM Detected 247 ( 1.1%) items with no interactions.\n",
      "EvaluatorHoldout: Processed 10456 (100.0%) in 25.14 sec. Users per second: 416\n"
     ]
    },
    {
     "name": "stderr",
     "output_type": "stream",
     "text": [
      "[I 2023-12-08 23:24:57,428] Trial 106 finished with value: 0.04923597448415795 and parameters: {'coarse_recommender': 'easeR', 'use_3_levels': False, 'cutoff': 652, 'final_recommender_c1:easeR': 'rp3'}. Best is trial 93 with value: 0.051252474465941084.\n"
     ]
    },
    {
     "name": "stdout",
     "output_type": "stream",
     "text": [
      "Recommender_Base_Class: URM Detected 627 ( 4.8%) users with no interactions.\n",
      "Recommender_Base_Class: URM Detected 247 ( 1.1%) items with no interactions.\n",
      "EvaluatorHoldout: Processed 10456 (100.0%) in 22.13 sec. Users per second: 472\n"
     ]
    },
    {
     "name": "stderr",
     "output_type": "stream",
     "text": [
      "[I 2023-12-08 23:25:19,746] Trial 107 finished with value: 0.05124834529578282 and parameters: {'coarse_recommender': 'merging', 'use_3_levels': False, 'cutoff': 483, 'final_recommender_c1:merging': 'slim'}. Best is trial 93 with value: 0.051252474465941084.\n"
     ]
    },
    {
     "name": "stdout",
     "output_type": "stream",
     "text": [
      "Recommender_Base_Class: URM Detected 627 ( 4.8%) users with no interactions.\n",
      "Recommender_Base_Class: URM Detected 247 ( 1.1%) items with no interactions.\n",
      "EvaluatorHoldout: Processed 10456 (100.0%) in 19.30 sec. Users per second: 542\n"
     ]
    },
    {
     "name": "stderr",
     "output_type": "stream",
     "text": [
      "[I 2023-12-08 23:25:39,236] Trial 108 finished with value: 0.049151781919093175 and parameters: {'coarse_recommender': 'merging', 'use_3_levels': False, 'cutoff': 339, 'final_recommender_c1:merging': 'rp3'}. Best is trial 93 with value: 0.051252474465941084.\n"
     ]
    },
    {
     "name": "stdout",
     "output_type": "stream",
     "text": [
      "Recommender_Base_Class: URM Detected 627 ( 4.8%) users with no interactions.\n",
      "Recommender_Base_Class: URM Detected 247 ( 1.1%) items with no interactions.\n",
      "EvaluatorHoldout: Processed 10456 (100.0%) in 22.17 sec. Users per second: 472\n"
     ]
    },
    {
     "name": "stderr",
     "output_type": "stream",
     "text": [
      "[I 2023-12-08 23:26:01,592] Trial 109 finished with value: 0.05124631486744214 and parameters: {'coarse_recommender': 'merging', 'use_3_levels': False, 'cutoff': 830, 'final_recommender_c1:merging': 'slim'}. Best is trial 93 with value: 0.051252474465941084.\n"
     ]
    },
    {
     "name": "stdout",
     "output_type": "stream",
     "text": [
      "Recommender_Base_Class: URM Detected 627 ( 4.8%) users with no interactions.\n",
      "Recommender_Base_Class: URM Detected 247 ( 1.1%) items with no interactions.\n",
      "EvaluatorHoldout: Processed 10456 (100.0%) in 21.90 sec. Users per second: 477\n"
     ]
    },
    {
     "name": "stderr",
     "output_type": "stream",
     "text": [
      "[I 2023-12-08 23:26:23,688] Trial 110 finished with value: 0.051263154139493734 and parameters: {'coarse_recommender': 'merging', 'use_3_levels': False, 'cutoff': 267, 'final_recommender_c1:merging': 'slim'}. Best is trial 110 with value: 0.051263154139493734.\n"
     ]
    },
    {
     "name": "stdout",
     "output_type": "stream",
     "text": [
      "Recommender_Base_Class: URM Detected 627 ( 4.8%) users with no interactions.\n",
      "Recommender_Base_Class: URM Detected 247 ( 1.1%) items with no interactions.\n",
      "EvaluatorHoldout: Processed 10456 (100.0%) in 21.88 sec. Users per second: 478\n"
     ]
    },
    {
     "name": "stderr",
     "output_type": "stream",
     "text": [
      "[I 2023-12-08 23:26:45,750] Trial 111 finished with value: 0.051260584793724306 and parameters: {'coarse_recommender': 'merging', 'use_3_levels': False, 'cutoff': 233, 'final_recommender_c1:merging': 'slim'}. Best is trial 110 with value: 0.051263154139493734.\n"
     ]
    },
    {
     "name": "stdout",
     "output_type": "stream",
     "text": [
      "Recommender_Base_Class: URM Detected 627 ( 4.8%) users with no interactions.\n",
      "Recommender_Base_Class: URM Detected 247 ( 1.1%) items with no interactions.\n",
      "EvaluatorHoldout: Processed 10456 (100.0%) in 21.83 sec. Users per second: 479\n"
     ]
    },
    {
     "name": "stderr",
     "output_type": "stream",
     "text": [
      "[I 2023-12-08 23:27:07,764] Trial 112 finished with value: 0.051289223321310765 and parameters: {'coarse_recommender': 'merging', 'use_3_levels': False, 'cutoff': 68, 'final_recommender_c1:merging': 'slim'}. Best is trial 112 with value: 0.051289223321310765.\n"
     ]
    },
    {
     "name": "stdout",
     "output_type": "stream",
     "text": [
      "Recommender_Base_Class: URM Detected 627 ( 4.8%) users with no interactions.\n",
      "Recommender_Base_Class: URM Detected 247 ( 1.1%) items with no interactions.\n",
      "EvaluatorHoldout: Processed 10456 (100.0%) in 21.99 sec. Users per second: 476\n"
     ]
    },
    {
     "name": "stderr",
     "output_type": "stream",
     "text": [
      "[I 2023-12-08 23:27:29,934] Trial 113 finished with value: 0.0512491574671191 and parameters: {'coarse_recommender': 'merging', 'use_3_levels': False, 'cutoff': 107, 'final_recommender_c1:merging': 'slim'}. Best is trial 112 with value: 0.051289223321310765.\n"
     ]
    },
    {
     "name": "stdout",
     "output_type": "stream",
     "text": [
      "Recommender_Base_Class: URM Detected 627 ( 4.8%) users with no interactions.\n",
      "Recommender_Base_Class: URM Detected 247 ( 1.1%) items with no interactions.\n",
      "EvaluatorHoldout: Processed 10456 (100.0%) in 21.88 sec. Users per second: 478\n"
     ]
    },
    {
     "name": "stderr",
     "output_type": "stream",
     "text": [
      "[I 2023-12-08 23:27:52,001] Trial 114 finished with value: 0.051248713429519366 and parameters: {'coarse_recommender': 'merging', 'use_3_levels': False, 'cutoff': 89, 'final_recommender_c1:merging': 'slim'}. Best is trial 112 with value: 0.051289223321310765.\n"
     ]
    },
    {
     "name": "stdout",
     "output_type": "stream",
     "text": [
      "Recommender_Base_Class: URM Detected 627 ( 4.8%) users with no interactions.\n",
      "Recommender_Base_Class: URM Detected 247 ( 1.1%) items with no interactions.\n",
      "EvaluatorHoldout: Processed 10456 (100.0%) in 19.25 sec. Users per second: 543\n"
     ]
    },
    {
     "name": "stderr",
     "output_type": "stream",
     "text": [
      "[I 2023-12-08 23:28:11,449] Trial 115 finished with value: 0.04871749417058404 and parameters: {'coarse_recommender': 'merging', 'use_3_levels': False, 'cutoff': 52, 'final_recommender_c1:merging': 'itemKnn'}. Best is trial 112 with value: 0.051289223321310765.\n"
     ]
    },
    {
     "name": "stdout",
     "output_type": "stream",
     "text": [
      "Recommender_Base_Class: URM Detected 627 ( 4.8%) users with no interactions.\n",
      "Recommender_Base_Class: URM Detected 247 ( 1.1%) items with no interactions.\n",
      "EvaluatorHoldout: Processed 10456 (100.0%) in 26.28 sec. Users per second: 398\n"
     ]
    },
    {
     "name": "stderr",
     "output_type": "stream",
     "text": [
      "[I 2023-12-08 23:28:37,918] Trial 116 finished with value: 0.047839886113844196 and parameters: {'coarse_recommender': 'slim', 'use_3_levels': False, 'cutoff': 141, 'final_recommender_c1:slim': 'alpha'}. Best is trial 112 with value: 0.051289223321310765.\n"
     ]
    },
    {
     "name": "stdout",
     "output_type": "stream",
     "text": [
      "Recommender_Base_Class: URM Detected 627 ( 4.8%) users with no interactions.\n",
      "Recommender_Base_Class: URM Detected 247 ( 1.1%) items with no interactions.\n",
      "EvaluatorHoldout: Processed 10456 (100.0%) in 22.03 sec. Users per second: 475\n"
     ]
    },
    {
     "name": "stderr",
     "output_type": "stream",
     "text": [
      "[I 2023-12-08 23:29:00,131] Trial 117 finished with value: 0.051260584793724306 and parameters: {'coarse_recommender': 'merging', 'use_3_levels': False, 'cutoff': 235, 'final_recommender_c1:merging': 'slim'}. Best is trial 112 with value: 0.051289223321310765.\n"
     ]
    },
    {
     "name": "stdout",
     "output_type": "stream",
     "text": [
      "Recommender_Base_Class: URM Detected 627 ( 4.8%) users with no interactions.\n",
      "Recommender_Base_Class: URM Detected 247 ( 1.1%) items with no interactions.\n",
      "EvaluatorHoldout: Processed 10456 (100.0%) in 21.94 sec. Users per second: 477\n"
     ]
    },
    {
     "name": "stderr",
     "output_type": "stream",
     "text": [
      "[I 2023-12-08 23:29:22,267] Trial 118 finished with value: 0.05126100985535825 and parameters: {'coarse_recommender': 'merging', 'use_3_levels': False, 'cutoff': 243, 'final_recommender_c1:merging': 'slim'}. Best is trial 112 with value: 0.051289223321310765.\n"
     ]
    },
    {
     "name": "stdout",
     "output_type": "stream",
     "text": [
      "Recommender_Base_Class: URM Detected 627 ( 4.8%) users with no interactions.\n",
      "Recommender_Base_Class: URM Detected 247 ( 1.1%) items with no interactions.\n",
      "EvaluatorHoldout: Processed 10456 (100.0%) in 42.97 sec. Users per second: 243\n"
     ]
    },
    {
     "name": "stderr",
     "output_type": "stream",
     "text": [
      "[I 2023-12-08 23:30:05,425] Trial 119 finished with value: 0.04485897441736254 and parameters: {'coarse_recommender': 'ials', 'use_3_levels': False, 'cutoff': 267, 'final_recommender_c1:ials': 'easeR'}. Best is trial 112 with value: 0.051289223321310765.\n"
     ]
    },
    {
     "name": "stdout",
     "output_type": "stream",
     "text": [
      "Recommender_Base_Class: URM Detected 627 ( 4.8%) users with no interactions.\n",
      "Recommender_Base_Class: URM Detected 247 ( 1.1%) items with no interactions.\n",
      "EvaluatorHoldout: Processed 10456 (100.0%) in 25.01 sec. Users per second: 418\n"
     ]
    },
    {
     "name": "stderr",
     "output_type": "stream",
     "text": [
      "[I 2023-12-08 23:30:30,617] Trial 120 finished with value: 0.04492020985900164 and parameters: {'coarse_recommender': 'merging', 'use_3_levels': False, 'cutoff': 137, 'final_recommender_c1:merging': 'easeR'}. Best is trial 112 with value: 0.051289223321310765.\n"
     ]
    },
    {
     "name": "stdout",
     "output_type": "stream",
     "text": [
      "Recommender_Base_Class: URM Detected 627 ( 4.8%) users with no interactions.\n",
      "Recommender_Base_Class: URM Detected 247 ( 1.1%) items with no interactions.\n",
      "EvaluatorHoldout: Processed 10456 (100.0%) in 21.99 sec. Users per second: 475\n"
     ]
    },
    {
     "name": "stderr",
     "output_type": "stream",
     "text": [
      "[I 2023-12-08 23:30:52,795] Trial 121 finished with value: 0.05126111612076673 and parameters: {'coarse_recommender': 'merging', 'use_3_levels': False, 'cutoff': 210, 'final_recommender_c1:merging': 'slim'}. Best is trial 112 with value: 0.051289223321310765.\n"
     ]
    },
    {
     "name": "stdout",
     "output_type": "stream",
     "text": [
      "Recommender_Base_Class: URM Detected 627 ( 4.8%) users with no interactions.\n",
      "Recommender_Base_Class: URM Detected 247 ( 1.1%) items with no interactions.\n",
      "EvaluatorHoldout: Processed 10456 (100.0%) in 22.03 sec. Users per second: 475\n"
     ]
    },
    {
     "name": "stderr",
     "output_type": "stream",
     "text": [
      "[I 2023-12-08 23:31:15,018] Trial 122 finished with value: 0.05126085045724552 and parameters: {'coarse_recommender': 'merging', 'use_3_levels': False, 'cutoff': 223, 'final_recommender_c1:merging': 'slim'}. Best is trial 112 with value: 0.051289223321310765.\n"
     ]
    },
    {
     "name": "stdout",
     "output_type": "stream",
     "text": [
      "Recommender_Base_Class: URM Detected 627 ( 4.8%) users with no interactions.\n",
      "Recommender_Base_Class: URM Detected 247 ( 1.1%) items with no interactions.\n",
      "EvaluatorHoldout: Processed 10456 (100.0%) in 21.98 sec. Users per second: 476\n"
     ]
    },
    {
     "name": "stderr",
     "output_type": "stream",
     "text": [
      "[I 2023-12-08 23:31:37,199] Trial 123 finished with value: 0.051258497437486235 and parameters: {'coarse_recommender': 'merging', 'use_3_levels': False, 'cutoff': 206, 'final_recommender_c1:merging': 'slim'}. Best is trial 112 with value: 0.051289223321310765.\n"
     ]
    },
    {
     "name": "stdout",
     "output_type": "stream",
     "text": [
      "Recommender_Base_Class: URM Detected 627 ( 4.8%) users with no interactions.\n",
      "Recommender_Base_Class: URM Detected 247 ( 1.1%) items with no interactions.\n",
      "EvaluatorHoldout: Processed 10456 (100.0%) in 22.13 sec. Users per second: 473\n"
     ]
    },
    {
     "name": "stderr",
     "output_type": "stream",
     "text": [
      "[I 2023-12-08 23:31:59,530] Trial 124 finished with value: 0.05126111612076673 and parameters: {'coarse_recommender': 'merging', 'use_3_levels': False, 'cutoff': 214, 'final_recommender_c1:merging': 'slim'}. Best is trial 112 with value: 0.051289223321310765.\n"
     ]
    },
    {
     "name": "stdout",
     "output_type": "stream",
     "text": [
      "Recommender_Base_Class: URM Detected 627 ( 4.8%) users with no interactions.\n",
      "Recommender_Base_Class: URM Detected 247 ( 1.1%) items with no interactions.\n",
      "EvaluatorHoldout: Processed 10456 (100.0%) in 22.09 sec. Users per second: 473\n"
     ]
    },
    {
     "name": "stderr",
     "output_type": "stream",
     "text": [
      "[I 2023-12-08 23:32:21,822] Trial 125 finished with value: 0.051259506958866836 and parameters: {'coarse_recommender': 'merging', 'use_3_levels': False, 'cutoff': 199, 'final_recommender_c1:merging': 'slim'}. Best is trial 112 with value: 0.051289223321310765.\n"
     ]
    },
    {
     "name": "stdout",
     "output_type": "stream",
     "text": [
      "Recommender_Base_Class: URM Detected 627 ( 4.8%) users with no interactions.\n",
      "Recommender_Base_Class: URM Detected 247 ( 1.1%) items with no interactions.\n",
      "EvaluatorHoldout: Processed 10456 (100.0%) in 19.16 sec. Users per second: 546\n"
     ]
    },
    {
     "name": "stderr",
     "output_type": "stream",
     "text": [
      "[I 2023-12-08 23:32:41,182] Trial 126 finished with value: 0.04883101978358361 and parameters: {'coarse_recommender': 'rp3', 'use_3_levels': False, 'cutoff': 202, 'final_recommender_c1:rp3': 'itemKnn'}. Best is trial 112 with value: 0.051289223321310765.\n"
     ]
    },
    {
     "name": "stdout",
     "output_type": "stream",
     "text": [
      "Recommender_Base_Class: URM Detected 627 ( 4.8%) users with no interactions.\n",
      "Recommender_Base_Class: URM Detected 247 ( 1.1%) items with no interactions.\n",
      "EvaluatorHoldout: Processed 10456 (100.0%) in 22.03 sec. Users per second: 475\n"
     ]
    },
    {
     "name": "stderr",
     "output_type": "stream",
     "text": [
      "[I 2023-12-08 23:33:03,396] Trial 127 finished with value: 0.05126300612696049 and parameters: {'coarse_recommender': 'merging', 'use_3_levels': False, 'cutoff': 259, 'final_recommender_c1:merging': 'slim'}. Best is trial 112 with value: 0.051289223321310765.\n"
     ]
    },
    {
     "name": "stdout",
     "output_type": "stream",
     "text": [
      "Recommender_Base_Class: URM Detected 627 ( 4.8%) users with no interactions.\n",
      "Recommender_Base_Class: URM Detected 247 ( 1.1%) items with no interactions.\n",
      "EvaluatorHoldout: Processed 10456 (100.0%) in 31.16 sec. Users per second: 336\n"
     ]
    },
    {
     "name": "stderr",
     "output_type": "stream",
     "text": [
      "[I 2023-12-08 23:33:34,738] Trial 128 finished with value: 0.04466390148893078 and parameters: {'coarse_recommender': 'userKnn', 'use_3_levels': False, 'cutoff': 261, 'final_recommender_c1:userKnn': 'easeR'}. Best is trial 112 with value: 0.051289223321310765.\n"
     ]
    },
    {
     "name": "stdout",
     "output_type": "stream",
     "text": [
      "Recommender_Base_Class: URM Detected 627 ( 4.8%) users with no interactions.\n",
      "Recommender_Base_Class: URM Detected 247 ( 1.1%) items with no interactions.\n",
      "EvaluatorHoldout: Processed 10456 (100.0%) in 22.13 sec. Users per second: 473\n"
     ]
    },
    {
     "name": "stderr",
     "output_type": "stream",
     "text": [
      "[I 2023-12-08 23:33:57,048] Trial 129 finished with value: 0.051259639790627434 and parameters: {'coarse_recommender': 'merging', 'use_3_levels': False, 'cutoff': 193, 'final_recommender_c1:merging': 'slim'}. Best is trial 112 with value: 0.051289223321310765.\n"
     ]
    },
    {
     "name": "stdout",
     "output_type": "stream",
     "text": [
      "Recommender_Base_Class: URM Detected 627 ( 4.8%) users with no interactions.\n",
      "Recommender_Base_Class: URM Detected 247 ( 1.1%) items with no interactions.\n",
      "EvaluatorHoldout: Processed 10456 (100.0%) in 21.80 sec. Users per second: 480\n"
     ]
    },
    {
     "name": "stderr",
     "output_type": "stream",
     "text": [
      "[I 2023-12-08 23:34:19,034] Trial 130 finished with value: 0.05122673546592894 and parameters: {'coarse_recommender': 'itemKnn', 'use_3_levels': False, 'cutoff': 189, 'final_recommender_c1:itemKnn': 'slim'}. Best is trial 112 with value: 0.051289223321310765.\n"
     ]
    },
    {
     "name": "stdout",
     "output_type": "stream",
     "text": [
      "Recommender_Base_Class: URM Detected 627 ( 4.8%) users with no interactions.\n",
      "Recommender_Base_Class: URM Detected 247 ( 1.1%) items with no interactions.\n",
      "EvaluatorHoldout: Processed 10456 (100.0%) in 21.99 sec. Users per second: 476\n"
     ]
    },
    {
     "name": "stderr",
     "output_type": "stream",
     "text": [
      "[I 2023-12-08 23:34:41,216] Trial 131 finished with value: 0.05126300612696049 and parameters: {'coarse_recommender': 'merging', 'use_3_levels': False, 'cutoff': 255, 'final_recommender_c1:merging': 'slim'}. Best is trial 112 with value: 0.051289223321310765.\n"
     ]
    },
    {
     "name": "stdout",
     "output_type": "stream",
     "text": [
      "Recommender_Base_Class: URM Detected 627 ( 4.8%) users with no interactions.\n",
      "Recommender_Base_Class: URM Detected 247 ( 1.1%) items with no interactions.\n",
      "EvaluatorHoldout: Processed 10456 (100.0%) in 22.20 sec. Users per second: 471\n"
     ]
    },
    {
     "name": "stderr",
     "output_type": "stream",
     "text": [
      "[I 2023-12-08 23:35:03,623] Trial 132 finished with value: 0.05126300612696049 and parameters: {'coarse_recommender': 'merging', 'use_3_levels': False, 'cutoff': 255, 'final_recommender_c1:merging': 'slim'}. Best is trial 112 with value: 0.051289223321310765.\n"
     ]
    },
    {
     "name": "stdout",
     "output_type": "stream",
     "text": [
      "Recommender_Base_Class: URM Detected 627 ( 4.8%) users with no interactions.\n",
      "Recommender_Base_Class: URM Detected 247 ( 1.1%) items with no interactions.\n",
      "EvaluatorHoldout: Processed 10456 (100.0%) in 22.26 sec. Users per second: 470\n"
     ]
    },
    {
     "name": "stderr",
     "output_type": "stream",
     "text": [
      "[I 2023-12-08 23:35:26,072] Trial 133 finished with value: 0.0512599472012734 and parameters: {'coarse_recommender': 'merging', 'use_3_levels': False, 'cutoff': 250, 'final_recommender_c1:merging': 'slim'}. Best is trial 112 with value: 0.051289223321310765.\n"
     ]
    },
    {
     "name": "stdout",
     "output_type": "stream",
     "text": [
      "Recommender_Base_Class: URM Detected 627 ( 4.8%) users with no interactions.\n",
      "Recommender_Base_Class: URM Detected 247 ( 1.1%) items with no interactions.\n",
      "EvaluatorHoldout: Processed 10456 (100.0%) in 22.10 sec. Users per second: 473\n"
     ]
    },
    {
     "name": "stderr",
     "output_type": "stream",
     "text": [
      "[I 2023-12-08 23:35:48,365] Trial 134 finished with value: 0.051263154139493734 and parameters: {'coarse_recommender': 'merging', 'use_3_levels': False, 'cutoff': 267, 'final_recommender_c1:merging': 'slim'}. Best is trial 112 with value: 0.051289223321310765.\n"
     ]
    },
    {
     "name": "stdout",
     "output_type": "stream",
     "text": [
      "Recommender_Base_Class: URM Detected 627 ( 4.8%) users with no interactions.\n",
      "Recommender_Base_Class: URM Detected 247 ( 1.1%) items with no interactions.\n",
      "EvaluatorHoldout: Processed 10456 (100.0%) in 18.93 sec. Users per second: 552\n"
     ]
    },
    {
     "name": "stderr",
     "output_type": "stream",
     "text": [
      "[I 2023-12-08 23:36:07,486] Trial 135 finished with value: 0.04890235043902861 and parameters: {'coarse_recommender': 'alpha', 'use_3_levels': False, 'cutoff': 274, 'final_recommender_c1:alpha': 'rp3'}. Best is trial 112 with value: 0.051289223321310765.\n"
     ]
    },
    {
     "name": "stdout",
     "output_type": "stream",
     "text": [
      "Recommender_Base_Class: URM Detected 627 ( 4.8%) users with no interactions.\n",
      "Recommender_Base_Class: URM Detected 247 ( 1.1%) items with no interactions.\n",
      "EvaluatorHoldout: Processed 10456 (100.0%) in 21.96 sec. Users per second: 476\n"
     ]
    },
    {
     "name": "stderr",
     "output_type": "stream",
     "text": [
      "[I 2023-12-08 23:36:29,632] Trial 136 finished with value: 0.05125241753804366 and parameters: {'coarse_recommender': 'merging', 'use_3_levels': False, 'cutoff': 139, 'final_recommender_c1:merging': 'slim'}. Best is trial 112 with value: 0.051289223321310765.\n"
     ]
    },
    {
     "name": "stdout",
     "output_type": "stream",
     "text": [
      "Recommender_Base_Class: URM Detected 627 ( 4.8%) users with no interactions.\n",
      "Recommender_Base_Class: URM Detected 247 ( 1.1%) items with no interactions.\n",
      "EvaluatorHoldout: Processed 10456 (100.0%) in 22.03 sec. Users per second: 475\n"
     ]
    },
    {
     "name": "stderr",
     "output_type": "stream",
     "text": [
      "[I 2023-12-08 23:36:51,844] Trial 137 finished with value: 0.051248478127543434 and parameters: {'coarse_recommender': 'merging', 'use_3_levels': False, 'cutoff': 389, 'final_recommender_c1:merging': 'slim'}. Best is trial 112 with value: 0.051289223321310765.\n"
     ]
    },
    {
     "name": "stdout",
     "output_type": "stream",
     "text": [
      "Recommender_Base_Class: URM Detected 627 ( 4.8%) users with no interactions.\n",
      "Recommender_Base_Class: URM Detected 247 ( 1.1%) items with no interactions.\n",
      "EvaluatorHoldout: Processed 10456 (100.0%) in 25.85 sec. Users per second: 404\n"
     ]
    },
    {
     "name": "stderr",
     "output_type": "stream",
     "text": [
      "[I 2023-12-08 23:37:17,887] Trial 138 finished with value: 0.05005379686304587 and parameters: {'coarse_recommender': 'easeR', 'use_3_levels': False, 'cutoff': 267, 'final_recommender_c1:easeR': 'merging'}. Best is trial 112 with value: 0.051289223321310765.\n"
     ]
    },
    {
     "name": "stdout",
     "output_type": "stream",
     "text": [
      "Recommender_Base_Class: URM Detected 627 ( 4.8%) users with no interactions.\n",
      "Recommender_Base_Class: URM Detected 247 ( 1.1%) items with no interactions.\n",
      "EvaluatorHoldout: Processed 10456 (100.0%) in 22.79 sec. Users per second: 459\n"
     ]
    },
    {
     "name": "stderr",
     "output_type": "stream",
     "text": [
      "[I 2023-12-08 23:37:40,866] Trial 139 finished with value: 0.05124409847463662 and parameters: {'coarse_recommender': 'merging', 'use_3_levels': False, 'cutoff': 2510, 'final_recommender_c1:merging': 'slim'}. Best is trial 112 with value: 0.051289223321310765.\n"
     ]
    },
    {
     "name": "stdout",
     "output_type": "stream",
     "text": [
      "Recommender_Base_Class: URM Detected 627 ( 4.8%) users with no interactions.\n",
      "Recommender_Base_Class: URM Detected 247 ( 1.1%) items with no interactions.\n",
      "EvaluatorHoldout: Processed 10456 (100.0%) in 21.87 sec. Users per second: 478\n"
     ]
    },
    {
     "name": "stderr",
     "output_type": "stream",
     "text": [
      "[I 2023-12-08 23:38:02,915] Trial 140 finished with value: 0.05125241753804366 and parameters: {'coarse_recommender': 'merging', 'use_3_levels': False, 'cutoff': 139, 'final_recommender_c1:merging': 'slim'}. Best is trial 112 with value: 0.051289223321310765.\n"
     ]
    },
    {
     "name": "stdout",
     "output_type": "stream",
     "text": [
      "Recommender_Base_Class: URM Detected 627 ( 4.8%) users with no interactions.\n",
      "Recommender_Base_Class: URM Detected 247 ( 1.1%) items with no interactions.\n",
      "EvaluatorHoldout: Processed 10456 (100.0%) in 21.90 sec. Users per second: 477\n"
     ]
    },
    {
     "name": "stderr",
     "output_type": "stream",
     "text": [
      "[I 2023-12-08 23:38:25,010] Trial 141 finished with value: 0.051261548772787 and parameters: {'coarse_recommender': 'merging', 'use_3_levels': False, 'cutoff': 176, 'final_recommender_c1:merging': 'slim'}. Best is trial 112 with value: 0.051289223321310765.\n"
     ]
    },
    {
     "name": "stdout",
     "output_type": "stream",
     "text": [
      "Recommender_Base_Class: URM Detected 627 ( 4.8%) users with no interactions.\n",
      "Recommender_Base_Class: URM Detected 247 ( 1.1%) items with no interactions.\n",
      "EvaluatorHoldout: Processed 10456 (100.0%) in 21.76 sec. Users per second: 481\n"
     ]
    },
    {
     "name": "stderr",
     "output_type": "stream",
     "text": [
      "[I 2023-12-08 23:38:46,955] Trial 142 finished with value: 0.05131493955016393 and parameters: {'coarse_recommender': 'merging', 'use_3_levels': False, 'cutoff': 52, 'final_recommender_c1:merging': 'slim'}. Best is trial 142 with value: 0.05131493955016393.\n"
     ]
    },
    {
     "name": "stdout",
     "output_type": "stream",
     "text": [
      "Recommender_Base_Class: URM Detected 627 ( 4.8%) users with no interactions.\n",
      "Recommender_Base_Class: URM Detected 247 ( 1.1%) items with no interactions.\n",
      "EvaluatorHoldout: Processed 10456 (100.0%) in 21.92 sec. Users per second: 477\n"
     ]
    },
    {
     "name": "stderr",
     "output_type": "stream",
     "text": [
      "[I 2023-12-08 23:39:09,067] Trial 143 finished with value: 0.05128694620541468 and parameters: {'coarse_recommender': 'merging', 'use_3_levels': False, 'cutoff': 60, 'final_recommender_c1:merging': 'slim'}. Best is trial 142 with value: 0.05131493955016393.\n"
     ]
    },
    {
     "name": "stdout",
     "output_type": "stream",
     "text": [
      "Recommender_Base_Class: URM Detected 627 ( 4.8%) users with no interactions.\n",
      "Recommender_Base_Class: URM Detected 247 ( 1.1%) items with no interactions.\n",
      "EvaluatorHoldout: Processed 10456 (100.0%) in 21.84 sec. Users per second: 479\n"
     ]
    },
    {
     "name": "stderr",
     "output_type": "stream",
     "text": [
      "[I 2023-12-08 23:39:31,097] Trial 144 finished with value: 0.05129312477987941 and parameters: {'coarse_recommender': 'merging', 'use_3_levels': False, 'cutoff': 65, 'final_recommender_c1:merging': 'slim'}. Best is trial 142 with value: 0.05131493955016393.\n"
     ]
    },
    {
     "name": "stdout",
     "output_type": "stream",
     "text": [
      "Recommender_Base_Class: URM Detected 627 ( 4.8%) users with no interactions.\n",
      "Recommender_Base_Class: URM Detected 247 ( 1.1%) items with no interactions.\n",
      "EvaluatorHoldout: Processed 10456 (100.0%) in 21.86 sec. Users per second: 478\n"
     ]
    },
    {
     "name": "stderr",
     "output_type": "stream",
     "text": [
      "[I 2023-12-08 23:39:53,141] Trial 145 finished with value: 0.051289223321310765 and parameters: {'coarse_recommender': 'merging', 'use_3_levels': False, 'cutoff': 68, 'final_recommender_c1:merging': 'slim'}. Best is trial 142 with value: 0.05131493955016393.\n"
     ]
    },
    {
     "name": "stdout",
     "output_type": "stream",
     "text": [
      "Recommender_Base_Class: URM Detected 627 ( 4.8%) users with no interactions.\n",
      "Recommender_Base_Class: URM Detected 247 ( 1.1%) items with no interactions.\n",
      "EvaluatorHoldout: Processed 10456 (100.0%) in 21.79 sec. Users per second: 480\n"
     ]
    },
    {
     "name": "stderr",
     "output_type": "stream",
     "text": [
      "[I 2023-12-08 23:40:15,120] Trial 146 finished with value: 0.05131493955016393 and parameters: {'coarse_recommender': 'merging', 'use_3_levels': False, 'cutoff': 53, 'final_recommender_c1:merging': 'slim'}. Best is trial 142 with value: 0.05131493955016393.\n"
     ]
    },
    {
     "name": "stdout",
     "output_type": "stream",
     "text": [
      "Recommender_Base_Class: URM Detected 627 ( 4.8%) users with no interactions.\n",
      "Recommender_Base_Class: URM Detected 247 ( 1.1%) items with no interactions.\n",
      "EvaluatorHoldout: Processed 10456 (100.0%) in 21.88 sec. Users per second: 478\n"
     ]
    },
    {
     "name": "stderr",
     "output_type": "stream",
     "text": [
      "[I 2023-12-08 23:40:37,191] Trial 147 finished with value: 0.0393964807932868 and parameters: {'coarse_recommender': 'merging', 'use_3_levels': False, 'cutoff': 53, 'final_recommender_c1:merging': 'userKnn'}. Best is trial 142 with value: 0.05131493955016393.\n"
     ]
    },
    {
     "name": "stdout",
     "output_type": "stream",
     "text": [
      "Recommender_Base_Class: URM Detected 627 ( 4.8%) users with no interactions.\n",
      "Recommender_Base_Class: URM Detected 247 ( 1.1%) items with no interactions.\n",
      "EvaluatorHoldout: Processed 10456 (100.0%) in 29.43 sec. Users per second: 355\n"
     ]
    },
    {
     "name": "stderr",
     "output_type": "stream",
     "text": [
      "[I 2023-12-08 23:41:06,803] Trial 148 finished with value: 0.03712368382701241 and parameters: {'coarse_recommender': 'slim', 'use_3_levels': False, 'cutoff': 93, 'final_recommender_c1:slim': 'userKnn'}. Best is trial 142 with value: 0.05131493955016393.\n"
     ]
    },
    {
     "name": "stdout",
     "output_type": "stream",
     "text": [
      "Recommender_Base_Class: URM Detected 627 ( 4.8%) users with no interactions.\n",
      "Recommender_Base_Class: URM Detected 247 ( 1.1%) items with no interactions.\n",
      "EvaluatorHoldout: Processed 10456 (100.0%) in 18.97 sec. Users per second: 551\n"
     ]
    },
    {
     "name": "stderr",
     "output_type": "stream",
     "text": [
      "[I 2023-12-08 23:41:25,961] Trial 149 finished with value: 0.047837802552799256 and parameters: {'coarse_recommender': 'merging', 'use_3_levels': False, 'cutoff': 113, 'final_recommender_c1:merging': 'alpha'}. Best is trial 142 with value: 0.05131493955016393.\n"
     ]
    },
    {
     "name": "stdout",
     "output_type": "stream",
     "text": [
      "Recommender_Base_Class: URM Detected 627 ( 4.8%) users with no interactions.\n",
      "Recommender_Base_Class: URM Detected 247 ( 1.1%) items with no interactions.\n",
      "EvaluatorHoldout: Processed 10456 (100.0%) in 21.82 sec. Users per second: 479\n"
     ]
    },
    {
     "name": "stderr",
     "output_type": "stream",
     "text": [
      "[I 2023-12-08 23:41:47,960] Trial 150 finished with value: 0.05125241753804366 and parameters: {'coarse_recommender': 'merging', 'use_3_levels': False, 'cutoff': 139, 'final_recommender_c1:merging': 'slim'}. Best is trial 142 with value: 0.05131493955016393.\n"
     ]
    },
    {
     "name": "stdout",
     "output_type": "stream",
     "text": [
      "Recommender_Base_Class: URM Detected 627 ( 4.8%) users with no interactions.\n",
      "Recommender_Base_Class: URM Detected 247 ( 1.1%) items with no interactions.\n",
      "EvaluatorHoldout: Processed 10456 (100.0%) in 21.87 sec. Users per second: 478\n"
     ]
    },
    {
     "name": "stderr",
     "output_type": "stream",
     "text": [
      "[I 2023-12-08 23:42:10,033] Trial 151 finished with value: 0.05127108988839162 and parameters: {'coarse_recommender': 'merging', 'use_3_levels': False, 'cutoff': 79, 'final_recommender_c1:merging': 'slim'}. Best is trial 142 with value: 0.05131493955016393.\n"
     ]
    },
    {
     "name": "stdout",
     "output_type": "stream",
     "text": [
      "Recommender_Base_Class: URM Detected 627 ( 4.8%) users with no interactions.\n",
      "Recommender_Base_Class: URM Detected 247 ( 1.1%) items with no interactions.\n",
      "EvaluatorHoldout: Processed 10456 (100.0%) in 21.79 sec. Users per second: 480\n"
     ]
    },
    {
     "name": "stderr",
     "output_type": "stream",
     "text": [
      "[I 2023-12-08 23:42:32,012] Trial 152 finished with value: 0.05132359638576222 and parameters: {'coarse_recommender': 'merging', 'use_3_levels': False, 'cutoff': 51, 'final_recommender_c1:merging': 'slim'}. Best is trial 152 with value: 0.05132359638576222.\n"
     ]
    },
    {
     "name": "stdout",
     "output_type": "stream",
     "text": [
      "Recommender_Base_Class: URM Detected 627 ( 4.8%) users with no interactions.\n",
      "Recommender_Base_Class: URM Detected 247 ( 1.1%) items with no interactions.\n",
      "EvaluatorHoldout: Processed 10456 (100.0%) in 21.76 sec. Users per second: 481\n"
     ]
    },
    {
     "name": "stderr",
     "output_type": "stream",
     "text": [
      "[I 2023-12-08 23:42:53,970] Trial 153 finished with value: 0.05128694620541468 and parameters: {'coarse_recommender': 'merging', 'use_3_levels': False, 'cutoff': 61, 'final_recommender_c1:merging': 'slim'}. Best is trial 152 with value: 0.05132359638576222.\n"
     ]
    },
    {
     "name": "stdout",
     "output_type": "stream",
     "text": [
      "Recommender_Base_Class: URM Detected 627 ( 4.8%) users with no interactions.\n",
      "Recommender_Base_Class: URM Detected 247 ( 1.1%) items with no interactions.\n",
      "EvaluatorHoldout: Processed 10456 (100.0%) in 23.01 sec. Users per second: 454\n"
     ]
    },
    {
     "name": "stderr",
     "output_type": "stream",
     "text": [
      "[I 2023-12-08 23:43:17,174] Trial 154 finished with value: 0.04340389356456745 and parameters: {'coarse_recommender': 'merging', 'use_3_levels': False, 'cutoff': 52, 'final_recommender_c1:merging': 'ials'}. Best is trial 152 with value: 0.05132359638576222.\n"
     ]
    },
    {
     "name": "stdout",
     "output_type": "stream",
     "text": [
      "Recommender_Base_Class: URM Detected 627 ( 4.8%) users with no interactions.\n",
      "Recommender_Base_Class: URM Detected 247 ( 1.1%) items with no interactions.\n",
      "EvaluatorHoldout: Processed 10456 (100.0%) in 21.72 sec. Users per second: 481\n"
     ]
    },
    {
     "name": "stderr",
     "output_type": "stream",
     "text": [
      "[I 2023-12-08 23:43:39,081] Trial 155 finished with value: 0.05125321832380047 and parameters: {'coarse_recommender': 'merging', 'use_3_levels': False, 'cutoff': 100, 'final_recommender_c1:merging': 'slim'}. Best is trial 152 with value: 0.05132359638576222.\n"
     ]
    },
    {
     "name": "stdout",
     "output_type": "stream",
     "text": [
      "Recommender_Base_Class: URM Detected 627 ( 4.8%) users with no interactions.\n",
      "Recommender_Base_Class: URM Detected 247 ( 1.1%) items with no interactions.\n",
      "EvaluatorHoldout: Processed 10456 (100.0%) in 21.92 sec. Users per second: 477\n"
     ]
    },
    {
     "name": "stderr",
     "output_type": "stream",
     "text": [
      "[I 2023-12-08 23:44:01,194] Trial 156 finished with value: 0.051256527732236115 and parameters: {'coarse_recommender': 'merging', 'use_3_levels': False, 'cutoff': 152, 'final_recommender_c1:merging': 'slim'}. Best is trial 152 with value: 0.05132359638576222.\n"
     ]
    },
    {
     "name": "stdout",
     "output_type": "stream",
     "text": [
      "Recommender_Base_Class: URM Detected 627 ( 4.8%) users with no interactions.\n",
      "Recommender_Base_Class: URM Detected 247 ( 1.1%) items with no interactions.\n",
      "EvaluatorHoldout: Processed 10456 (100.0%) in 21.78 sec. Users per second: 480\n"
     ]
    },
    {
     "name": "stderr",
     "output_type": "stream",
     "text": [
      "[I 2023-12-08 23:44:23,150] Trial 157 finished with value: 0.051249776083604204 and parameters: {'coarse_recommender': 'merging', 'use_3_levels': False, 'cutoff': 87, 'final_recommender_c1:merging': 'slim'}. Best is trial 152 with value: 0.05132359638576222.\n"
     ]
    },
    {
     "name": "stdout",
     "output_type": "stream",
     "text": [
      "Recommender_Base_Class: URM Detected 627 ( 4.8%) users with no interactions.\n",
      "Recommender_Base_Class: URM Detected 247 ( 1.1%) items with no interactions.\n",
      "EvaluatorHoldout: Processed 10456 (100.0%) in 21.84 sec. Users per second: 479\n"
     ]
    },
    {
     "name": "stderr",
     "output_type": "stream",
     "text": [
      "[I 2023-12-08 23:44:45,182] Trial 158 finished with value: 0.05126048611870216 and parameters: {'coarse_recommender': 'merging', 'use_3_levels': False, 'cutoff': 162, 'final_recommender_c1:merging': 'slim'}. Best is trial 152 with value: 0.05132359638576222.\n"
     ]
    },
    {
     "name": "stdout",
     "output_type": "stream",
     "text": [
      "Recommender_Base_Class: URM Detected 627 ( 4.8%) users with no interactions.\n",
      "Recommender_Base_Class: URM Detected 247 ( 1.1%) items with no interactions.\n",
      "EvaluatorHoldout: Processed 10456 (100.0%) in 25.61 sec. Users per second: 408\n"
     ]
    },
    {
     "name": "stderr",
     "output_type": "stream",
     "text": [
      "[I 2023-12-08 23:45:10,990] Trial 159 finished with value: 0.04667878092323439 and parameters: {'coarse_recommender': 'userKnn', 'use_3_levels': False, 'cutoff': 301, 'final_recommender_c1:userKnn': 'alpha'}. Best is trial 152 with value: 0.05132359638576222.\n"
     ]
    },
    {
     "name": "stdout",
     "output_type": "stream",
     "text": [
      "Recommender_Base_Class: URM Detected 627 ( 4.8%) users with no interactions.\n",
      "Recommender_Base_Class: URM Detected 247 ( 1.1%) items with no interactions.\n",
      "EvaluatorHoldout: Processed 10456 (100.0%) in 42.11 sec. Users per second: 248\n"
     ]
    },
    {
     "name": "stderr",
     "output_type": "stream",
     "text": [
      "[I 2023-12-08 23:45:53,291] Trial 160 finished with value: 0.03534748788574371 and parameters: {'coarse_recommender': 'ials', 'use_3_levels': False, 'cutoff': 1654, 'final_recommender_c1:ials': 'userKnn'}. Best is trial 152 with value: 0.05132359638576222.\n"
     ]
    },
    {
     "name": "stdout",
     "output_type": "stream",
     "text": [
      "Recommender_Base_Class: URM Detected 627 ( 4.8%) users with no interactions.\n",
      "Recommender_Base_Class: URM Detected 247 ( 1.1%) items with no interactions.\n",
      "EvaluatorHoldout: Processed 10456 (100.0%) in 21.78 sec. Users per second: 480\n"
     ]
    },
    {
     "name": "stderr",
     "output_type": "stream",
     "text": [
      "[I 2023-12-08 23:46:15,264] Trial 161 finished with value: 0.05130572861636425 and parameters: {'coarse_recommender': 'merging', 'use_3_levels': False, 'cutoff': 57, 'final_recommender_c1:merging': 'slim'}. Best is trial 152 with value: 0.05132359638576222.\n"
     ]
    },
    {
     "name": "stdout",
     "output_type": "stream",
     "text": [
      "Recommender_Base_Class: URM Detected 627 ( 4.8%) users with no interactions.\n",
      "Recommender_Base_Class: URM Detected 247 ( 1.1%) items with no interactions.\n",
      "EvaluatorHoldout: Processed 10456 (100.0%) in 21.70 sec. Users per second: 482\n"
     ]
    },
    {
     "name": "stderr",
     "output_type": "stream",
     "text": [
      "[I 2023-12-08 23:46:37,146] Trial 162 finished with value: 0.05131341767770671 and parameters: {'coarse_recommender': 'merging', 'use_3_levels': False, 'cutoff': 55, 'final_recommender_c1:merging': 'slim'}. Best is trial 152 with value: 0.05132359638576222.\n"
     ]
    },
    {
     "name": "stdout",
     "output_type": "stream",
     "text": [
      "Recommender_Base_Class: URM Detected 627 ( 4.8%) users with no interactions.\n",
      "Recommender_Base_Class: URM Detected 247 ( 1.1%) items with no interactions.\n",
      "EvaluatorHoldout: Processed 10456 (100.0%) in 21.77 sec. Users per second: 480\n"
     ]
    },
    {
     "name": "stderr",
     "output_type": "stream",
     "text": [
      "[I 2023-12-08 23:46:59,103] Trial 163 finished with value: 0.05131813130761162 and parameters: {'coarse_recommender': 'merging', 'use_3_levels': False, 'cutoff': 54, 'final_recommender_c1:merging': 'slim'}. Best is trial 152 with value: 0.05132359638576222.\n"
     ]
    },
    {
     "name": "stdout",
     "output_type": "stream",
     "text": [
      "Recommender_Base_Class: URM Detected 627 ( 4.8%) users with no interactions.\n",
      "Recommender_Base_Class: URM Detected 247 ( 1.1%) items with no interactions.\n",
      "EvaluatorHoldout: Processed 10456 (100.0%) in 19.21 sec. Users per second: 544\n"
     ]
    },
    {
     "name": "stderr",
     "output_type": "stream",
     "text": [
      "[I 2023-12-08 23:47:18,515] Trial 164 finished with value: 0.04915037010723759 and parameters: {'coarse_recommender': 'merging', 'use_3_levels': False, 'cutoff': 97, 'final_recommender_c1:merging': 'rp3'}. Best is trial 152 with value: 0.05132359638576222.\n"
     ]
    },
    {
     "name": "stdout",
     "output_type": "stream",
     "text": [
      "Recommender_Base_Class: URM Detected 627 ( 4.8%) users with no interactions.\n",
      "Recommender_Base_Class: URM Detected 247 ( 1.1%) items with no interactions.\n",
      "EvaluatorHoldout: Processed 10456 (100.0%) in 21.71 sec. Users per second: 482\n"
     ]
    },
    {
     "name": "stderr",
     "output_type": "stream",
     "text": [
      "[I 2023-12-08 23:47:40,426] Trial 165 finished with value: 0.051291325858321496 and parameters: {'coarse_recommender': 'merging', 'use_3_levels': False, 'cutoff': 66, 'final_recommender_c1:merging': 'slim'}. Best is trial 152 with value: 0.05132359638576222.\n"
     ]
    },
    {
     "name": "stdout",
     "output_type": "stream",
     "text": [
      "Recommender_Base_Class: URM Detected 627 ( 4.8%) users with no interactions.\n",
      "Recommender_Base_Class: URM Detected 247 ( 1.1%) items with no interactions.\n",
      "EvaluatorHoldout: Processed 10456 (100.0%) in 21.71 sec. Users per second: 482\n"
     ]
    },
    {
     "name": "stderr",
     "output_type": "stream",
     "text": [
      "[I 2023-12-08 23:48:02,331] Trial 166 finished with value: 0.051137525655506416 and parameters: {'coarse_recommender': 'rp3', 'use_3_levels': False, 'cutoff': 77, 'final_recommender_c1:rp3': 'slim'}. Best is trial 152 with value: 0.05132359638576222.\n"
     ]
    },
    {
     "name": "stdout",
     "output_type": "stream",
     "text": [
      "Recommender_Base_Class: URM Detected 627 ( 4.8%) users with no interactions.\n",
      "Recommender_Base_Class: URM Detected 247 ( 1.1%) items with no interactions.\n",
      "EvaluatorHoldout: Processed 10456 (100.0%) in 21.76 sec. Users per second: 480\n"
     ]
    },
    {
     "name": "stderr",
     "output_type": "stream",
     "text": [
      "[I 2023-12-08 23:48:24,281] Trial 167 finished with value: 0.05131493955016393 and parameters: {'coarse_recommender': 'merging', 'use_3_levels': False, 'cutoff': 52, 'final_recommender_c1:merging': 'slim'}. Best is trial 152 with value: 0.05132359638576222.\n"
     ]
    },
    {
     "name": "stdout",
     "output_type": "stream",
     "text": [
      "Recommender_Base_Class: URM Detected 627 ( 4.8%) users with no interactions.\n",
      "Recommender_Base_Class: URM Detected 247 ( 1.1%) items with no interactions.\n",
      "EvaluatorHoldout: Processed 10456 (100.0%) in 21.68 sec. Users per second: 482\n"
     ]
    },
    {
     "name": "stderr",
     "output_type": "stream",
     "text": [
      "[I 2023-12-08 23:48:46,157] Trial 168 finished with value: 0.05131493955016393 and parameters: {'coarse_recommender': 'merging', 'use_3_levels': False, 'cutoff': 52, 'final_recommender_c1:merging': 'slim'}. Best is trial 152 with value: 0.05132359638576222.\n"
     ]
    },
    {
     "name": "stdout",
     "output_type": "stream",
     "text": [
      "Recommender_Base_Class: URM Detected 627 ( 4.8%) users with no interactions.\n",
      "Recommender_Base_Class: URM Detected 247 ( 1.1%) items with no interactions.\n",
      "EvaluatorHoldout: Processed 10456 (100.0%) in 18.92 sec. Users per second: 553\n"
     ]
    },
    {
     "name": "stderr",
     "output_type": "stream",
     "text": [
      "[I 2023-12-08 23:49:05,279] Trial 169 finished with value: 0.04824883335762317 and parameters: {'coarse_recommender': 'itemKnn', 'use_3_levels': False, 'cutoff': 66, 'final_recommender_c1:itemKnn': 'alpha'}. Best is trial 152 with value: 0.05132359638576222.\n"
     ]
    },
    {
     "name": "stdout",
     "output_type": "stream",
     "text": [
      "Recommender_Base_Class: URM Detected 627 ( 4.8%) users with no interactions.\n",
      "Recommender_Base_Class: URM Detected 247 ( 1.1%) items with no interactions.\n",
      "EvaluatorHoldout: Processed 10456 (100.0%) in 19.20 sec. Users per second: 545\n"
     ]
    },
    {
     "name": "stderr",
     "output_type": "stream",
     "text": [
      "[I 2023-12-08 23:49:24,666] Trial 170 finished with value: 0.04871749417058404 and parameters: {'coarse_recommender': 'merging', 'use_3_levels': False, 'cutoff': 52, 'final_recommender_c1:merging': 'itemKnn'}. Best is trial 152 with value: 0.05132359638576222.\n"
     ]
    },
    {
     "name": "stdout",
     "output_type": "stream",
     "text": [
      "Recommender_Base_Class: URM Detected 627 ( 4.8%) users with no interactions.\n",
      "Recommender_Base_Class: URM Detected 247 ( 1.1%) items with no interactions.\n",
      "EvaluatorHoldout: Processed 10456 (100.0%) in 21.72 sec. Users per second: 481\n"
     ]
    },
    {
     "name": "stderr",
     "output_type": "stream",
     "text": [
      "[I 2023-12-08 23:49:46,579] Trial 171 finished with value: 0.051255552367593944 and parameters: {'coarse_recommender': 'merging', 'use_3_levels': False, 'cutoff': 136, 'final_recommender_c1:merging': 'slim'}. Best is trial 152 with value: 0.05132359638576222.\n"
     ]
    },
    {
     "name": "stdout",
     "output_type": "stream",
     "text": [
      "Recommender_Base_Class: URM Detected 627 ( 4.8%) users with no interactions.\n",
      "Recommender_Base_Class: URM Detected 247 ( 1.1%) items with no interactions.\n",
      "EvaluatorHoldout: Processed 10456 (100.0%) in 21.72 sec. Users per second: 481\n"
     ]
    },
    {
     "name": "stderr",
     "output_type": "stream",
     "text": [
      "[I 2023-12-08 23:50:08,490] Trial 172 finished with value: 0.05132359638576222 and parameters: {'coarse_recommender': 'merging', 'use_3_levels': False, 'cutoff': 51, 'final_recommender_c1:merging': 'slim'}. Best is trial 152 with value: 0.05132359638576222.\n"
     ]
    },
    {
     "name": "stdout",
     "output_type": "stream",
     "text": [
      "Recommender_Base_Class: URM Detected 627 ( 4.8%) users with no interactions.\n",
      "Recommender_Base_Class: URM Detected 247 ( 1.1%) items with no interactions.\n",
      "EvaluatorHoldout: Processed 10456 (100.0%) in 21.86 sec. Users per second: 478\n"
     ]
    },
    {
     "name": "stderr",
     "output_type": "stream",
     "text": [
      "[I 2023-12-08 23:50:30,546] Trial 173 finished with value: 0.05131493955016393 and parameters: {'coarse_recommender': 'merging', 'use_3_levels': False, 'cutoff': 53, 'final_recommender_c1:merging': 'slim'}. Best is trial 152 with value: 0.05132359638576222.\n"
     ]
    },
    {
     "name": "stdout",
     "output_type": "stream",
     "text": [
      "Recommender_Base_Class: URM Detected 627 ( 4.8%) users with no interactions.\n",
      "Recommender_Base_Class: URM Detected 247 ( 1.1%) items with no interactions.\n",
      "EvaluatorHoldout: Processed 10456 (100.0%) in 21.68 sec. Users per second: 482\n"
     ]
    },
    {
     "name": "stderr",
     "output_type": "stream",
     "text": [
      "[I 2023-12-08 23:50:52,423] Trial 174 finished with value: 0.05132359638576222 and parameters: {'coarse_recommender': 'merging', 'use_3_levels': False, 'cutoff': 51, 'final_recommender_c1:merging': 'slim'}. Best is trial 152 with value: 0.05132359638576222.\n"
     ]
    },
    {
     "name": "stdout",
     "output_type": "stream",
     "text": [
      "Recommender_Base_Class: URM Detected 627 ( 4.8%) users with no interactions.\n",
      "Recommender_Base_Class: URM Detected 247 ( 1.1%) items with no interactions.\n",
      "EvaluatorHoldout: Processed 10456 (100.0%) in 18.93 sec. Users per second: 552\n"
     ]
    },
    {
     "name": "stderr",
     "output_type": "stream",
     "text": [
      "[I 2023-12-08 23:51:11,560] Trial 175 finished with value: 0.04967534779150189 and parameters: {'coarse_recommender': 'alpha', 'use_3_levels': False, 'cutoff': 51, 'final_recommender_c1:alpha': 'merging'}. Best is trial 152 with value: 0.05132359638576222.\n"
     ]
    },
    {
     "name": "stdout",
     "output_type": "stream",
     "text": [
      "Recommender_Base_Class: URM Detected 627 ( 4.8%) users with no interactions.\n",
      "Recommender_Base_Class: URM Detected 247 ( 1.1%) items with no interactions.\n",
      "EvaluatorHoldout: Processed 10456 (100.0%) in 21.92 sec. Users per second: 477\n"
     ]
    },
    {
     "name": "stderr",
     "output_type": "stream",
     "text": [
      "[I 2023-12-08 23:51:33,675] Trial 176 finished with value: 0.05125292229873397 and parameters: {'coarse_recommender': 'merging', 'use_3_levels': False, 'cutoff': 130, 'final_recommender_c1:merging': 'slim'}. Best is trial 152 with value: 0.05132359638576222.\n"
     ]
    },
    {
     "name": "stdout",
     "output_type": "stream",
     "text": [
      "Recommender_Base_Class: URM Detected 627 ( 4.8%) users with no interactions.\n",
      "Recommender_Base_Class: URM Detected 247 ( 1.1%) items with no interactions.\n",
      "EvaluatorHoldout: Processed 10456 (100.0%) in 24.51 sec. Users per second: 427\n"
     ]
    },
    {
     "name": "stderr",
     "output_type": "stream",
     "text": [
      "[I 2023-12-08 23:51:58,378] Trial 177 finished with value: 0.04495564557753798 and parameters: {'coarse_recommender': 'merging', 'use_3_levels': False, 'cutoff': 110, 'final_recommender_c1:merging': 'easeR'}. Best is trial 152 with value: 0.05132359638576222.\n"
     ]
    },
    {
     "name": "stdout",
     "output_type": "stream",
     "text": [
      "Recommender_Base_Class: URM Detected 627 ( 4.8%) users with no interactions.\n",
      "Recommender_Base_Class: URM Detected 247 ( 1.1%) items with no interactions.\n",
      "EvaluatorHoldout: Processed 10456 (100.0%) in 21.78 sec. Users per second: 480\n"
     ]
    },
    {
     "name": "stderr",
     "output_type": "stream",
     "text": [
      "[I 2023-12-08 23:52:20,350] Trial 178 finished with value: 0.05132350150593321 and parameters: {'coarse_recommender': 'merging', 'use_3_levels': False, 'cutoff': 50, 'final_recommender_c1:merging': 'slim'}. Best is trial 152 with value: 0.05132359638576222.\n"
     ]
    },
    {
     "name": "stdout",
     "output_type": "stream",
     "text": [
      "Recommender_Base_Class: URM Detected 627 ( 4.8%) users with no interactions.\n",
      "Recommender_Base_Class: URM Detected 247 ( 1.1%) items with no interactions.\n",
      "EvaluatorHoldout: Processed 10456 (100.0%) in 28.87 sec. Users per second: 362\n"
     ]
    },
    {
     "name": "stderr",
     "output_type": "stream",
     "text": [
      "[I 2023-12-08 23:52:49,431] Trial 179 finished with value: 0.04254756895106993 and parameters: {'coarse_recommender': 'easeR', 'use_3_levels': False, 'cutoff': 50, 'final_recommender_c1:easeR': 'ials'}. Best is trial 152 with value: 0.05132359638576222.\n"
     ]
    },
    {
     "name": "stdout",
     "output_type": "stream",
     "text": [
      "Recommender_Base_Class: URM Detected 627 ( 4.8%) users with no interactions.\n",
      "Recommender_Base_Class: URM Detected 247 ( 1.1%) items with no interactions.\n",
      "EvaluatorHoldout: Processed 10456 (100.0%) in 21.76 sec. Users per second: 480\n"
     ]
    },
    {
     "name": "stderr",
     "output_type": "stream",
     "text": [
      "[I 2023-12-08 23:53:11,388] Trial 180 finished with value: 0.05125329802285682 and parameters: {'coarse_recommender': 'merging', 'use_3_levels': False, 'cutoff': 147, 'final_recommender_c1:merging': 'slim'}. Best is trial 152 with value: 0.05132359638576222.\n"
     ]
    },
    {
     "name": "stdout",
     "output_type": "stream",
     "text": [
      "Recommender_Base_Class: URM Detected 627 ( 4.8%) users with no interactions.\n",
      "Recommender_Base_Class: URM Detected 247 ( 1.1%) items with no interactions.\n",
      "EvaluatorHoldout: Processed 10456 (100.0%) in 21.74 sec. Users per second: 481\n"
     ]
    },
    {
     "name": "stderr",
     "output_type": "stream",
     "text": [
      "[I 2023-12-08 23:53:33,315] Trial 181 finished with value: 0.05131813130761162 and parameters: {'coarse_recommender': 'merging', 'use_3_levels': False, 'cutoff': 54, 'final_recommender_c1:merging': 'slim'}. Best is trial 152 with value: 0.05132359638576222.\n"
     ]
    },
    {
     "name": "stdout",
     "output_type": "stream",
     "text": [
      "Recommender_Base_Class: URM Detected 627 ( 4.8%) users with no interactions.\n",
      "Recommender_Base_Class: URM Detected 247 ( 1.1%) items with no interactions.\n",
      "EvaluatorHoldout: Processed 10456 (100.0%) in 21.82 sec. Users per second: 479\n"
     ]
    },
    {
     "name": "stderr",
     "output_type": "stream",
     "text": [
      "[I 2023-12-08 23:53:55,314] Trial 182 finished with value: 0.0512595297300258 and parameters: {'coarse_recommender': 'merging', 'use_3_levels': False, 'cutoff': 170, 'final_recommender_c1:merging': 'slim'}. Best is trial 152 with value: 0.05132359638576222.\n"
     ]
    },
    {
     "name": "stdout",
     "output_type": "stream",
     "text": [
      "Recommender_Base_Class: URM Detected 627 ( 4.8%) users with no interactions.\n",
      "Recommender_Base_Class: URM Detected 247 ( 1.1%) items with no interactions.\n",
      "EvaluatorHoldout: Processed 10456 (100.0%) in 21.90 sec. Users per second: 477\n"
     ]
    },
    {
     "name": "stderr",
     "output_type": "stream",
     "text": [
      "[I 2023-12-08 23:54:17,411] Trial 183 finished with value: 0.051244830946916536 and parameters: {'coarse_recommender': 'merging', 'use_3_levels': False, 'cutoff': 110, 'final_recommender_c1:merging': 'slim'}. Best is trial 152 with value: 0.05132359638576222.\n"
     ]
    },
    {
     "name": "stdout",
     "output_type": "stream",
     "text": [
      "Recommender_Base_Class: URM Detected 627 ( 4.8%) users with no interactions.\n",
      "Recommender_Base_Class: URM Detected 247 ( 1.1%) items with no interactions.\n",
      "EvaluatorHoldout: Processed 10456 (100.0%) in 21.69 sec. Users per second: 482\n"
     ]
    },
    {
     "name": "stderr",
     "output_type": "stream",
     "text": [
      "[I 2023-12-08 23:54:39,300] Trial 184 finished with value: 0.05132359638576222 and parameters: {'coarse_recommender': 'merging', 'use_3_levels': False, 'cutoff': 51, 'final_recommender_c1:merging': 'slim'}. Best is trial 152 with value: 0.05132359638576222.\n"
     ]
    },
    {
     "name": "stdout",
     "output_type": "stream",
     "text": [
      "Recommender_Base_Class: URM Detected 627 ( 4.8%) users with no interactions.\n",
      "Recommender_Base_Class: URM Detected 247 ( 1.1%) items with no interactions.\n",
      "EvaluatorHoldout: Processed 10456 (100.0%) in 21.78 sec. Users per second: 480\n"
     ]
    },
    {
     "name": "stderr",
     "output_type": "stream",
     "text": [
      "[I 2023-12-08 23:55:01,280] Trial 185 finished with value: 0.05126048611870216 and parameters: {'coarse_recommender': 'merging', 'use_3_levels': False, 'cutoff': 165, 'final_recommender_c1:merging': 'slim'}. Best is trial 152 with value: 0.05132359638576222.\n"
     ]
    },
    {
     "name": "stdout",
     "output_type": "stream",
     "text": [
      "Recommender_Base_Class: URM Detected 627 ( 4.8%) users with no interactions.\n",
      "Recommender_Base_Class: URM Detected 247 ( 1.1%) items with no interactions.\n",
      "EvaluatorHoldout: Processed 10456 (100.0%) in 21.91 sec. Users per second: 477\n"
     ]
    },
    {
     "name": "stderr",
     "output_type": "stream",
     "text": [
      "[I 2023-12-08 23:55:23,370] Trial 186 finished with value: 0.05125446694235014 and parameters: {'coarse_recommender': 'merging', 'use_3_levels': False, 'cutoff': 142, 'final_recommender_c1:merging': 'slim'}. Best is trial 152 with value: 0.05132359638576222.\n"
     ]
    },
    {
     "name": "stdout",
     "output_type": "stream",
     "text": [
      "Recommender_Base_Class: URM Detected 627 ( 4.8%) users with no interactions.\n",
      "Recommender_Base_Class: URM Detected 247 ( 1.1%) items with no interactions.\n",
      "EvaluatorHoldout: Processed 10456 (100.0%) in 22.94 sec. Users per second: 456\n"
     ]
    },
    {
     "name": "stderr",
     "output_type": "stream",
     "text": [
      "[I 2023-12-08 23:55:46,513] Trial 187 finished with value: 0.05124409847463662 and parameters: {'coarse_recommender': 'merging', 'use_3_levels': False, 'cutoff': 2939, 'final_recommender_c1:merging': 'slim'}. Best is trial 152 with value: 0.05132359638576222.\n"
     ]
    },
    {
     "name": "stdout",
     "output_type": "stream",
     "text": [
      "Recommender_Base_Class: URM Detected 627 ( 4.8%) users with no interactions.\n",
      "Recommender_Base_Class: URM Detected 247 ( 1.1%) items with no interactions.\n",
      "EvaluatorHoldout: Processed 10456 (100.0%) in 22.72 sec. Users per second: 460\n"
     ]
    },
    {
     "name": "stderr",
     "output_type": "stream",
     "text": [
      "[I 2023-12-08 23:56:09,444] Trial 188 finished with value: 0.0372012120328879 and parameters: {'coarse_recommender': 'merging', 'use_3_levels': False, 'cutoff': 2041, 'final_recommender_c1:merging': 'userKnn'}. Best is trial 152 with value: 0.05132359638576222.\n"
     ]
    },
    {
     "name": "stdout",
     "output_type": "stream",
     "text": [
      "Recommender_Base_Class: URM Detected 627 ( 4.8%) users with no interactions.\n",
      "Recommender_Base_Class: URM Detected 247 ( 1.1%) items with no interactions.\n",
      "EvaluatorHoldout: Processed 10456 (100.0%) in 21.83 sec. Users per second: 479\n"
     ]
    },
    {
     "name": "stderr",
     "output_type": "stream",
     "text": [
      "[I 2023-12-08 23:56:31,486] Trial 189 finished with value: 0.05132350150593321 and parameters: {'coarse_recommender': 'merging', 'use_3_levels': False, 'cutoff': 50, 'final_recommender_c1:merging': 'slim'}. Best is trial 152 with value: 0.05132359638576222.\n"
     ]
    },
    {
     "name": "stdout",
     "output_type": "stream",
     "text": [
      "Recommender_Base_Class: URM Detected 627 ( 4.8%) users with no interactions.\n",
      "Recommender_Base_Class: URM Detected 247 ( 1.1%) items with no interactions.\n",
      "EvaluatorHoldout: Processed 10456 (100.0%) in 26.62 sec. Users per second: 393\n"
     ]
    },
    {
     "name": "stderr",
     "output_type": "stream",
     "text": [
      "[I 2023-12-08 23:56:58,304] Trial 190 finished with value: 0.05003983814260281 and parameters: {'coarse_recommender': 'slim', 'use_3_levels': False, 'cutoff': 181, 'final_recommender_c1:slim': 'merging'}. Best is trial 152 with value: 0.05132359638576222.\n"
     ]
    },
    {
     "name": "stdout",
     "output_type": "stream",
     "text": [
      "Recommender_Base_Class: URM Detected 627 ( 4.8%) users with no interactions.\n",
      "Recommender_Base_Class: URM Detected 247 ( 1.1%) items with no interactions.\n",
      "EvaluatorHoldout: Processed 10456 (100.0%) in 21.81 sec. Users per second: 479\n"
     ]
    },
    {
     "name": "stderr",
     "output_type": "stream",
     "text": [
      "[I 2023-12-08 23:57:20,308] Trial 191 finished with value: 0.05132359638576222 and parameters: {'coarse_recommender': 'merging', 'use_3_levels': False, 'cutoff': 51, 'final_recommender_c1:merging': 'slim'}. Best is trial 152 with value: 0.05132359638576222.\n"
     ]
    },
    {
     "name": "stdout",
     "output_type": "stream",
     "text": [
      "Recommender_Base_Class: URM Detected 627 ( 4.8%) users with no interactions.\n",
      "Recommender_Base_Class: URM Detected 247 ( 1.1%) items with no interactions.\n",
      "EvaluatorHoldout: Processed 10456 (100.0%) in 21.75 sec. Users per second: 481\n"
     ]
    },
    {
     "name": "stderr",
     "output_type": "stream",
     "text": [
      "[I 2023-12-08 23:57:42,255] Trial 192 finished with value: 0.05132350150593321 and parameters: {'coarse_recommender': 'merging', 'use_3_levels': False, 'cutoff': 50, 'final_recommender_c1:merging': 'slim'}. Best is trial 152 with value: 0.05132359638576222.\n"
     ]
    },
    {
     "name": "stdout",
     "output_type": "stream",
     "text": [
      "Recommender_Base_Class: URM Detected 627 ( 4.8%) users with no interactions.\n",
      "Recommender_Base_Class: URM Detected 247 ( 1.1%) items with no interactions.\n",
      "EvaluatorHoldout: Processed 10456 (100.0%) in 21.79 sec. Users per second: 480\n"
     ]
    },
    {
     "name": "stderr",
     "output_type": "stream",
     "text": [
      "[I 2023-12-08 23:58:04,240] Trial 193 finished with value: 0.05132350150593321 and parameters: {'coarse_recommender': 'merging', 'use_3_levels': False, 'cutoff': 50, 'final_recommender_c1:merging': 'slim'}. Best is trial 152 with value: 0.05132359638576222.\n"
     ]
    },
    {
     "name": "stdout",
     "output_type": "stream",
     "text": [
      "Recommender_Base_Class: URM Detected 627 ( 4.8%) users with no interactions.\n",
      "Recommender_Base_Class: URM Detected 247 ( 1.1%) items with no interactions.\n",
      "EvaluatorHoldout: Processed 10456 (100.0%) in 21.89 sec. Users per second: 478\n"
     ]
    },
    {
     "name": "stderr",
     "output_type": "stream",
     "text": [
      "[I 2023-12-08 23:58:26,318] Trial 194 finished with value: 0.051248595778531386 and parameters: {'coarse_recommender': 'merging', 'use_3_levels': False, 'cutoff': 127, 'final_recommender_c1:merging': 'slim'}. Best is trial 152 with value: 0.05132359638576222.\n"
     ]
    },
    {
     "name": "stdout",
     "output_type": "stream",
     "text": [
      "Recommender_Base_Class: URM Detected 627 ( 4.8%) users with no interactions.\n",
      "Recommender_Base_Class: URM Detected 247 ( 1.1%) items with no interactions.\n",
      "EvaluatorHoldout: Processed 10456 (100.0%) in 21.83 sec. Users per second: 479\n"
     ]
    },
    {
     "name": "stderr",
     "output_type": "stream",
     "text": [
      "[I 2023-12-08 23:58:48,344] Trial 195 finished with value: 0.0512491574671191 and parameters: {'coarse_recommender': 'merging', 'use_3_levels': False, 'cutoff': 107, 'final_recommender_c1:merging': 'slim'}. Best is trial 152 with value: 0.05132359638576222.\n"
     ]
    },
    {
     "name": "stdout",
     "output_type": "stream",
     "text": [
      "Recommender_Base_Class: URM Detected 627 ( 4.8%) users with no interactions.\n",
      "Recommender_Base_Class: URM Detected 247 ( 1.1%) items with no interactions.\n",
      "EvaluatorHoldout: Processed 10456 (100.0%) in 18.91 sec. Users per second: 553\n"
     ]
    },
    {
     "name": "stderr",
     "output_type": "stream",
     "text": [
      "[I 2023-12-08 23:59:07,455] Trial 196 finished with value: 0.047984513334791264 and parameters: {'coarse_recommender': 'merging', 'use_3_levels': False, 'cutoff': 52, 'final_recommender_c1:merging': 'alpha'}. Best is trial 152 with value: 0.05132359638576222.\n"
     ]
    },
    {
     "name": "stdout",
     "output_type": "stream",
     "text": [
      "Recommender_Base_Class: URM Detected 627 ( 4.8%) users with no interactions.\n",
      "Recommender_Base_Class: URM Detected 247 ( 1.1%) items with no interactions.\n",
      "EvaluatorHoldout: Processed 10456 (100.0%) in 22.09 sec. Users per second: 473\n"
     ]
    },
    {
     "name": "stderr",
     "output_type": "stream",
     "text": [
      "[I 2023-12-08 23:59:29,745] Trial 197 finished with value: 0.051261548772787 and parameters: {'coarse_recommender': 'merging', 'use_3_levels': False, 'cutoff': 176, 'final_recommender_c1:merging': 'slim'}. Best is trial 152 with value: 0.05132359638576222.\n"
     ]
    },
    {
     "name": "stdout",
     "output_type": "stream",
     "text": [
      "Recommender_Base_Class: URM Detected 627 ( 4.8%) users with no interactions.\n",
      "Recommender_Base_Class: URM Detected 247 ( 1.1%) items with no interactions.\n",
      "EvaluatorHoldout: Processed 10456 (100.0%) in 23.30 sec. Users per second: 449\n"
     ]
    },
    {
     "name": "stderr",
     "output_type": "stream",
     "text": [
      "[I 2023-12-08 23:59:53,239] Trial 198 finished with value: 0.04280531949454154 and parameters: {'coarse_recommender': 'merging', 'use_3_levels': False, 'cutoff': 120, 'final_recommender_c1:merging': 'ials'}. Best is trial 152 with value: 0.05132359638576222.\n"
     ]
    },
    {
     "name": "stdout",
     "output_type": "stream",
     "text": [
      "Recommender_Base_Class: URM Detected 627 ( 4.8%) users with no interactions.\n",
      "Recommender_Base_Class: URM Detected 247 ( 1.1%) items with no interactions.\n",
      "EvaluatorHoldout: Processed 10456 (100.0%) in 21.80 sec. Users per second: 480\n"
     ]
    },
    {
     "name": "stderr",
     "output_type": "stream",
     "text": [
      "[I 2023-12-09 00:00:15,238] Trial 199 finished with value: 0.05132350150593321 and parameters: {'coarse_recommender': 'merging', 'use_3_levels': False, 'cutoff': 50, 'final_recommender_c1:merging': 'slim'}. Best is trial 152 with value: 0.05132359638576222.\n"
     ]
    },
    {
     "name": "stdout",
     "output_type": "stream",
     "text": [
      "Recommender_Base_Class: URM Detected 627 ( 4.8%) users with no interactions.\n",
      "Recommender_Base_Class: URM Detected 247 ( 1.1%) items with no interactions.\n",
      "EvaluatorHoldout: Processed 10456 (100.0%) in 21.89 sec. Users per second: 478\n"
     ]
    },
    {
     "name": "stderr",
     "output_type": "stream",
     "text": [
      "[I 2023-12-09 00:00:37,335] Trial 200 finished with value: 0.051259639790627434 and parameters: {'coarse_recommender': 'merging', 'use_3_levels': False, 'cutoff': 187, 'final_recommender_c1:merging': 'slim'}. Best is trial 152 with value: 0.05132359638576222.\n"
     ]
    },
    {
     "name": "stdout",
     "output_type": "stream",
     "text": [
      "Recommender_Base_Class: URM Detected 627 ( 4.8%) users with no interactions.\n",
      "Recommender_Base_Class: URM Detected 247 ( 1.1%) items with no interactions.\n",
      "EvaluatorHoldout: Processed 10456 (100.0%) in 21.80 sec. Users per second: 480\n"
     ]
    },
    {
     "name": "stderr",
     "output_type": "stream",
     "text": [
      "[I 2023-12-09 00:00:59,331] Trial 201 finished with value: 0.05132350150593321 and parameters: {'coarse_recommender': 'merging', 'use_3_levels': False, 'cutoff': 50, 'final_recommender_c1:merging': 'slim'}. Best is trial 152 with value: 0.05132359638576222.\n"
     ]
    },
    {
     "name": "stdout",
     "output_type": "stream",
     "text": [
      "Recommender_Base_Class: URM Detected 627 ( 4.8%) users with no interactions.\n",
      "Recommender_Base_Class: URM Detected 247 ( 1.1%) items with no interactions.\n",
      "EvaluatorHoldout: Processed 10456 (100.0%) in 21.99 sec. Users per second: 475\n"
     ]
    },
    {
     "name": "stderr",
     "output_type": "stream",
     "text": [
      "[I 2023-12-09 00:01:21,525] Trial 202 finished with value: 0.05124440588528258 and parameters: {'coarse_recommender': 'merging', 'use_3_levels': False, 'cutoff': 123, 'final_recommender_c1:merging': 'slim'}. Best is trial 152 with value: 0.05132359638576222.\n"
     ]
    },
    {
     "name": "stdout",
     "output_type": "stream",
     "text": [
      "Recommender_Base_Class: URM Detected 627 ( 4.8%) users with no interactions.\n",
      "Recommender_Base_Class: URM Detected 247 ( 1.1%) items with no interactions.\n",
      "EvaluatorHoldout: Processed 10456 (100.0%) in 21.80 sec. Users per second: 480\n"
     ]
    },
    {
     "name": "stderr",
     "output_type": "stream",
     "text": [
      "[I 2023-12-09 00:01:43,527] Trial 203 finished with value: 0.051245309141254705 and parameters: {'coarse_recommender': 'merging', 'use_3_levels': False, 'cutoff': 119, 'final_recommender_c1:merging': 'slim'}. Best is trial 152 with value: 0.05132359638576222.\n"
     ]
    },
    {
     "name": "stdout",
     "output_type": "stream",
     "text": [
      "Recommender_Base_Class: URM Detected 627 ( 4.8%) users with no interactions.\n",
      "Recommender_Base_Class: URM Detected 247 ( 1.1%) items with no interactions.\n",
      "EvaluatorHoldout: Processed 10456 (100.0%) in 21.75 sec. Users per second: 481\n"
     ]
    },
    {
     "name": "stderr",
     "output_type": "stream",
     "text": [
      "[I 2023-12-09 00:02:05,472] Trial 204 finished with value: 0.05131493955016393 and parameters: {'coarse_recommender': 'merging', 'use_3_levels': False, 'cutoff': 52, 'final_recommender_c1:merging': 'slim'}. Best is trial 152 with value: 0.05132359638576222.\n"
     ]
    },
    {
     "name": "stdout",
     "output_type": "stream",
     "text": [
      "Recommender_Base_Class: URM Detected 627 ( 4.8%) users with no interactions.\n",
      "Recommender_Base_Class: URM Detected 247 ( 1.1%) items with no interactions.\n",
      "EvaluatorHoldout: Processed 10456 (100.0%) in 21.96 sec. Users per second: 476\n"
     ]
    },
    {
     "name": "stderr",
     "output_type": "stream",
     "text": [
      "[I 2023-12-09 00:02:27,627] Trial 205 finished with value: 0.05126137798909479 and parameters: {'coarse_recommender': 'merging', 'use_3_levels': False, 'cutoff': 179, 'final_recommender_c1:merging': 'slim'}. Best is trial 152 with value: 0.05132359638576222.\n"
     ]
    },
    {
     "name": "stdout",
     "output_type": "stream",
     "text": [
      "Recommender_Base_Class: URM Detected 627 ( 4.8%) users with no interactions.\n",
      "Recommender_Base_Class: URM Detected 247 ( 1.1%) items with no interactions.\n",
      "EvaluatorHoldout: Processed 10456 (100.0%) in 21.77 sec. Users per second: 480\n"
     ]
    },
    {
     "name": "stderr",
     "output_type": "stream",
     "text": [
      "[I 2023-12-09 00:02:49,592] Trial 206 finished with value: 0.05132359638576222 and parameters: {'coarse_recommender': 'merging', 'use_3_levels': False, 'cutoff': 51, 'final_recommender_c1:merging': 'slim'}. Best is trial 152 with value: 0.05132359638576222.\n"
     ]
    },
    {
     "name": "stdout",
     "output_type": "stream",
     "text": [
      "Recommender_Base_Class: URM Detected 627 ( 4.8%) users with no interactions.\n",
      "Recommender_Base_Class: URM Detected 247 ( 1.1%) items with no interactions.\n",
      "EvaluatorHoldout: Processed 10456 (100.0%) in 37.88 sec. Users per second: 276\n"
     ]
    },
    {
     "name": "stderr",
     "output_type": "stream",
     "text": [
      "[I 2023-12-09 00:03:27,682] Trial 207 finished with value: 0.048792274656611706 and parameters: {'coarse_recommender': 'ials', 'use_3_levels': False, 'cutoff': 120, 'final_recommender_c1:ials': 'merging'}. Best is trial 152 with value: 0.05132359638576222.\n"
     ]
    },
    {
     "name": "stdout",
     "output_type": "stream",
     "text": [
      "Recommender_Base_Class: URM Detected 627 ( 4.8%) users with no interactions.\n",
      "Recommender_Base_Class: URM Detected 247 ( 1.1%) items with no interactions.\n",
      "EvaluatorHoldout: Processed 10456 (100.0%) in 19.23 sec. Users per second: 544\n"
     ]
    },
    {
     "name": "stderr",
     "output_type": "stream",
     "text": [
      "[I 2023-12-09 00:03:47,115] Trial 208 finished with value: 0.049153835118592816 and parameters: {'coarse_recommender': 'merging', 'use_3_levels': False, 'cutoff': 54, 'final_recommender_c1:merging': 'rp3'}. Best is trial 152 with value: 0.05132359638576222.\n"
     ]
    },
    {
     "name": "stdout",
     "output_type": "stream",
     "text": [
      "Recommender_Base_Class: URM Detected 627 ( 4.8%) users with no interactions.\n",
      "Recommender_Base_Class: URM Detected 247 ( 1.1%) items with no interactions.\n",
      "EvaluatorHoldout: Processed 10456 (100.0%) in 19.03 sec. Users per second: 549\n"
     ]
    },
    {
     "name": "stderr",
     "output_type": "stream",
     "text": [
      "[I 2023-12-09 00:04:06,344] Trial 209 finished with value: 0.0478255592596646 and parameters: {'coarse_recommender': 'rp3', 'use_3_levels': False, 'cutoff': 170, 'final_recommender_c1:rp3': 'alpha'}. Best is trial 152 with value: 0.05132359638576222.\n"
     ]
    },
    {
     "name": "stdout",
     "output_type": "stream",
     "text": [
      "Recommender_Base_Class: URM Detected 627 ( 4.8%) users with no interactions.\n",
      "Recommender_Base_Class: URM Detected 247 ( 1.1%) items with no interactions.\n",
      "EvaluatorHoldout: Processed 10456 (100.0%) in 21.93 sec. Users per second: 477\n"
     ]
    },
    {
     "name": "stderr",
     "output_type": "stream",
     "text": [
      "[I 2023-12-09 00:04:28,464] Trial 210 finished with value: 0.05124440588528258 and parameters: {'coarse_recommender': 'merging', 'use_3_levels': False, 'cutoff': 122, 'final_recommender_c1:merging': 'slim'}. Best is trial 152 with value: 0.05132359638576222.\n"
     ]
    },
    {
     "name": "stdout",
     "output_type": "stream",
     "text": [
      "Recommender_Base_Class: URM Detected 627 ( 4.8%) users with no interactions.\n",
      "Recommender_Base_Class: URM Detected 247 ( 1.1%) items with no interactions.\n",
      "EvaluatorHoldout: Processed 10456 (100.0%) in 21.82 sec. Users per second: 479\n"
     ]
    },
    {
     "name": "stderr",
     "output_type": "stream",
     "text": [
      "[I 2023-12-09 00:04:50,478] Trial 211 finished with value: 0.05132350150593321 and parameters: {'coarse_recommender': 'merging', 'use_3_levels': False, 'cutoff': 50, 'final_recommender_c1:merging': 'slim'}. Best is trial 152 with value: 0.05132359638576222.\n"
     ]
    },
    {
     "name": "stdout",
     "output_type": "stream",
     "text": [
      "Recommender_Base_Class: URM Detected 627 ( 4.8%) users with no interactions.\n",
      "Recommender_Base_Class: URM Detected 247 ( 1.1%) items with no interactions.\n",
      "EvaluatorHoldout: Processed 10456 (100.0%) in 21.90 sec. Users per second: 477\n"
     ]
    },
    {
     "name": "stderr",
     "output_type": "stream",
     "text": [
      "[I 2023-12-09 00:05:12,587] Trial 212 finished with value: 0.05130572861636425 and parameters: {'coarse_recommender': 'merging', 'use_3_levels': False, 'cutoff': 57, 'final_recommender_c1:merging': 'slim'}. Best is trial 152 with value: 0.05132359638576222.\n"
     ]
    },
    {
     "name": "stdout",
     "output_type": "stream",
     "text": [
      "Recommender_Base_Class: URM Detected 627 ( 4.8%) users with no interactions.\n",
      "Recommender_Base_Class: URM Detected 247 ( 1.1%) items with no interactions.\n",
      "EvaluatorHoldout: Processed 10456 (100.0%) in 21.87 sec. Users per second: 478\n"
     ]
    },
    {
     "name": "stderr",
     "output_type": "stream",
     "text": [
      "[I 2023-12-09 00:05:34,656] Trial 213 finished with value: 0.051244830946916536 and parameters: {'coarse_recommender': 'merging', 'use_3_levels': False, 'cutoff': 110, 'final_recommender_c1:merging': 'slim'}. Best is trial 152 with value: 0.05132359638576222.\n"
     ]
    },
    {
     "name": "stdout",
     "output_type": "stream",
     "text": [
      "Recommender_Base_Class: URM Detected 627 ( 4.8%) users with no interactions.\n",
      "Recommender_Base_Class: URM Detected 247 ( 1.1%) items with no interactions.\n",
      "EvaluatorHoldout: Processed 10456 (100.0%) in 29.39 sec. Users per second: 356\n"
     ]
    },
    {
     "name": "stderr",
     "output_type": "stream",
     "text": [
      "[I 2023-12-09 00:06:04,238] Trial 214 finished with value: 0.041361377533671424 and parameters: {'coarse_recommender': 'userKnn', 'use_3_levels': False, 'cutoff': 196, 'final_recommender_c1:userKnn': 'ials'}. Best is trial 152 with value: 0.05132359638576222.\n"
     ]
    },
    {
     "name": "stdout",
     "output_type": "stream",
     "text": [
      "Recommender_Base_Class: URM Detected 627 ( 4.8%) users with no interactions.\n",
      "Recommender_Base_Class: URM Detected 247 ( 1.1%) items with no interactions.\n",
      "EvaluatorHoldout: Processed 10456 (100.0%) in 21.75 sec. Users per second: 481\n"
     ]
    },
    {
     "name": "stderr",
     "output_type": "stream",
     "text": [
      "[I 2023-12-09 00:06:26,183] Trial 215 finished with value: 0.05131493955016393 and parameters: {'coarse_recommender': 'merging', 'use_3_levels': False, 'cutoff': 53, 'final_recommender_c1:merging': 'slim'}. Best is trial 152 with value: 0.05132359638576222.\n"
     ]
    },
    {
     "name": "stdout",
     "output_type": "stream",
     "text": [
      "Recommender_Base_Class: URM Detected 627 ( 4.8%) users with no interactions.\n",
      "Recommender_Base_Class: URM Detected 247 ( 1.1%) items with no interactions.\n",
      "EvaluatorHoldout: Processed 10456 (100.0%) in 21.87 sec. Users per second: 478\n"
     ]
    },
    {
     "name": "stderr",
     "output_type": "stream",
     "text": [
      "[I 2023-12-09 00:06:48,255] Trial 216 finished with value: 0.05124371516012744 and parameters: {'coarse_recommender': 'merging', 'use_3_levels': False, 'cutoff': 116, 'final_recommender_c1:merging': 'slim'}. Best is trial 152 with value: 0.05132359638576222.\n"
     ]
    },
    {
     "name": "stdout",
     "output_type": "stream",
     "text": [
      "Recommender_Base_Class: URM Detected 627 ( 4.8%) users with no interactions.\n",
      "Recommender_Base_Class: URM Detected 247 ( 1.1%) items with no interactions.\n",
      "EvaluatorHoldout: Processed 10456 (100.0%) in 22.19 sec. Users per second: 471\n"
     ]
    },
    {
     "name": "stderr",
     "output_type": "stream",
     "text": [
      "[I 2023-12-09 00:07:10,656] Trial 217 finished with value: 0.05124535847876578 and parameters: {'coarse_recommender': 'merging', 'use_3_levels': False, 'cutoff': 890, 'final_recommender_c1:merging': 'slim'}. Best is trial 152 with value: 0.05132359638576222.\n"
     ]
    },
    {
     "name": "stdout",
     "output_type": "stream",
     "text": [
      "Recommender_Base_Class: URM Detected 627 ( 4.8%) users with no interactions.\n",
      "Recommender_Base_Class: URM Detected 247 ( 1.1%) items with no interactions.\n",
      "EvaluatorHoldout: Processed 10456 (100.0%) in 19.33 sec. Users per second: 541\n"
     ]
    },
    {
     "name": "stderr",
     "output_type": "stream",
     "text": [
      "[I 2023-12-09 00:07:30,197] Trial 218 finished with value: 0.048706685460463923 and parameters: {'coarse_recommender': 'merging', 'use_3_levels': False, 'cutoff': 112, 'final_recommender_c1:merging': 'itemKnn'}. Best is trial 152 with value: 0.05132359638576222.\n"
     ]
    },
    {
     "name": "stdout",
     "output_type": "stream",
     "text": [
      "Recommender_Base_Class: URM Detected 627 ( 4.8%) users with no interactions.\n",
      "Recommender_Base_Class: URM Detected 247 ( 1.1%) items with no interactions.\n",
      "EvaluatorHoldout: Processed 10456 (100.0%) in 19.15 sec. Users per second: 546\n"
     ]
    },
    {
     "name": "stderr",
     "output_type": "stream",
     "text": [
      "[I 2023-12-09 00:07:49,537] Trial 219 finished with value: 0.04921906310343633 and parameters: {'coarse_recommender': 'itemKnn', 'use_3_levels': False, 'cutoff': 183, 'final_recommender_c1:itemKnn': 'rp3'}. Best is trial 152 with value: 0.05132359638576222.\n"
     ]
    },
    {
     "name": "stdout",
     "output_type": "stream",
     "text": [
      "Recommender_Base_Class: URM Detected 627 ( 4.8%) users with no interactions.\n",
      "Recommender_Base_Class: URM Detected 247 ( 1.1%) items with no interactions.\n",
      "EvaluatorHoldout: Processed 10456 (100.0%) in 22.62 sec. Users per second: 462\n"
     ]
    },
    {
     "name": "stderr",
     "output_type": "stream",
     "text": [
      "[I 2023-12-09 00:08:12,370] Trial 220 finished with value: 0.042788237330127724 and parameters: {'coarse_recommender': 'alpha', 'use_3_levels': False, 'cutoff': 120, 'final_recommender_c1:alpha': 'ials'}. Best is trial 152 with value: 0.05132359638576222.\n"
     ]
    },
    {
     "name": "stdout",
     "output_type": "stream",
     "text": [
      "Recommender_Base_Class: URM Detected 627 ( 4.8%) users with no interactions.\n",
      "Recommender_Base_Class: URM Detected 247 ( 1.1%) items with no interactions.\n",
      "EvaluatorHoldout: Processed 10456 (100.0%) in 21.62 sec. Users per second: 484\n"
     ]
    },
    {
     "name": "stderr",
     "output_type": "stream",
     "text": [
      "[I 2023-12-09 00:08:34,193] Trial 221 finished with value: 0.05132350150593321 and parameters: {'coarse_recommender': 'merging', 'use_3_levels': False, 'cutoff': 50, 'final_recommender_c1:merging': 'slim'}. Best is trial 152 with value: 0.05132359638576222.\n"
     ]
    },
    {
     "name": "stdout",
     "output_type": "stream",
     "text": [
      "Recommender_Base_Class: URM Detected 627 ( 4.8%) users with no interactions.\n",
      "Recommender_Base_Class: URM Detected 247 ( 1.1%) items with no interactions.\n",
      "EvaluatorHoldout: Processed 10456 (100.0%) in 21.90 sec. Users per second: 478\n"
     ]
    },
    {
     "name": "stderr",
     "output_type": "stream",
     "text": [
      "[I 2023-12-09 00:08:56,278] Trial 222 finished with value: 0.05129383068580718 and parameters: {'coarse_recommender': 'merging', 'use_3_levels': False, 'cutoff': 58, 'final_recommender_c1:merging': 'slim'}. Best is trial 152 with value: 0.05132359638576222.\n"
     ]
    },
    {
     "name": "stdout",
     "output_type": "stream",
     "text": [
      "Recommender_Base_Class: URM Detected 627 ( 4.8%) users with no interactions.\n",
      "Recommender_Base_Class: URM Detected 247 ( 1.1%) items with no interactions.\n",
      "EvaluatorHoldout: Processed 10456 (100.0%) in 21.81 sec. Users per second: 479\n"
     ]
    },
    {
     "name": "stderr",
     "output_type": "stream",
     "text": [
      "[I 2023-12-09 00:09:18,286] Trial 223 finished with value: 0.05131493955016393 and parameters: {'coarse_recommender': 'merging', 'use_3_levels': False, 'cutoff': 52, 'final_recommender_c1:merging': 'slim'}. Best is trial 152 with value: 0.05132359638576222.\n"
     ]
    },
    {
     "name": "stdout",
     "output_type": "stream",
     "text": [
      "Recommender_Base_Class: URM Detected 627 ( 4.8%) users with no interactions.\n",
      "Recommender_Base_Class: URM Detected 247 ( 1.1%) items with no interactions.\n",
      "EvaluatorHoldout: Processed 10456 (100.0%) in 21.89 sec. Users per second: 478\n"
     ]
    },
    {
     "name": "stderr",
     "output_type": "stream",
     "text": [
      "[I 2023-12-09 00:09:40,376] Trial 224 finished with value: 0.051244830946916536 and parameters: {'coarse_recommender': 'merging', 'use_3_levels': False, 'cutoff': 110, 'final_recommender_c1:merging': 'slim'}. Best is trial 152 with value: 0.05132359638576222.\n"
     ]
    },
    {
     "name": "stdout",
     "output_type": "stream",
     "text": [
      "Recommender_Base_Class: URM Detected 627 ( 4.8%) users with no interactions.\n",
      "Recommender_Base_Class: URM Detected 247 ( 1.1%) items with no interactions.\n",
      "EvaluatorHoldout: Processed 10456 (100.0%) in 21.80 sec. Users per second: 480\n"
     ]
    },
    {
     "name": "stderr",
     "output_type": "stream",
     "text": [
      "[I 2023-12-09 00:10:02,387] Trial 225 finished with value: 0.05126048611870216 and parameters: {'coarse_recommender': 'merging', 'use_3_levels': False, 'cutoff': 166, 'final_recommender_c1:merging': 'slim'}. Best is trial 152 with value: 0.05132359638576222.\n"
     ]
    },
    {
     "name": "stdout",
     "output_type": "stream",
     "text": [
      "Recommender_Base_Class: URM Detected 627 ( 4.8%) users with no interactions.\n",
      "Recommender_Base_Class: URM Detected 247 ( 1.1%) items with no interactions.\n",
      "EvaluatorHoldout: Processed 10456 (100.0%) in 21.77 sec. Users per second: 480\n"
     ]
    },
    {
     "name": "stderr",
     "output_type": "stream",
     "text": [
      "[I 2023-12-09 00:10:24,355] Trial 226 finished with value: 0.0512501669884997 and parameters: {'coarse_recommender': 'merging', 'use_3_levels': False, 'cutoff': 103, 'final_recommender_c1:merging': 'slim'}. Best is trial 152 with value: 0.05132359638576222.\n"
     ]
    },
    {
     "name": "stdout",
     "output_type": "stream",
     "text": [
      "Recommender_Base_Class: URM Detected 627 ( 4.8%) users with no interactions.\n",
      "Recommender_Base_Class: URM Detected 247 ( 1.1%) items with no interactions.\n",
      "EvaluatorHoldout: Processed 10456 (100.0%) in 24.65 sec. Users per second: 424\n"
     ]
    },
    {
     "name": "stderr",
     "output_type": "stream",
     "text": [
      "[I 2023-12-09 00:10:49,193] Trial 227 finished with value: 0.044898087678071116 and parameters: {'coarse_recommender': 'merging', 'use_3_levels': False, 'cutoff': 209, 'final_recommender_c1:merging': 'easeR'}. Best is trial 152 with value: 0.05132359638576222.\n"
     ]
    },
    {
     "name": "stdout",
     "output_type": "stream",
     "text": [
      "Recommender_Base_Class: URM Detected 627 ( 4.8%) users with no interactions.\n",
      "Recommender_Base_Class: URM Detected 247 ( 1.1%) items with no interactions.\n",
      "EvaluatorHoldout: Processed 10456 (100.0%) in 27.85 sec. Users per second: 375\n"
     ]
    },
    {
     "name": "stderr",
     "output_type": "stream",
     "text": [
      "[I 2023-12-09 00:11:17,238] Trial 228 finished with value: 0.05116286236504359 and parameters: {'coarse_recommender': 'easeR', 'use_3_levels': False, 'cutoff': 63, 'final_recommender_c1:easeR': 'slim'}. Best is trial 152 with value: 0.05132359638576222.\n"
     ]
    },
    {
     "name": "stdout",
     "output_type": "stream",
     "text": [
      "Recommender_Base_Class: URM Detected 627 ( 4.8%) users with no interactions.\n",
      "Recommender_Base_Class: URM Detected 247 ( 1.1%) items with no interactions.\n",
      "EvaluatorHoldout: Processed 10456 (100.0%) in 21.61 sec. Users per second: 484\n"
     ]
    },
    {
     "name": "stderr",
     "output_type": "stream",
     "text": [
      "[I 2023-12-09 00:11:39,053] Trial 229 finished with value: 0.05131493955016393 and parameters: {'coarse_recommender': 'merging', 'use_3_levels': False, 'cutoff': 52, 'final_recommender_c1:merging': 'slim'}. Best is trial 152 with value: 0.05132359638576222.\n"
     ]
    },
    {
     "name": "stdout",
     "output_type": "stream",
     "text": [
      "Recommender_Base_Class: URM Detected 627 ( 4.8%) users with no interactions.\n",
      "Recommender_Base_Class: URM Detected 247 ( 1.1%) items with no interactions.\n",
      "EvaluatorHoldout: Processed 10456 (100.0%) in 21.75 sec. Users per second: 481\n"
     ]
    },
    {
     "name": "stderr",
     "output_type": "stream",
     "text": [
      "[I 2023-12-09 00:12:01,016] Trial 230 finished with value: 0.05132350150593321 and parameters: {'coarse_recommender': 'merging', 'use_3_levels': False, 'cutoff': 50, 'final_recommender_c1:merging': 'slim'}. Best is trial 152 with value: 0.05132359638576222.\n"
     ]
    },
    {
     "name": "stdout",
     "output_type": "stream",
     "text": [
      "Recommender_Base_Class: URM Detected 627 ( 4.8%) users with no interactions.\n",
      "Recommender_Base_Class: URM Detected 247 ( 1.1%) items with no interactions.\n",
      "EvaluatorHoldout: Processed 10456 (100.0%) in 21.80 sec. Users per second: 480\n"
     ]
    },
    {
     "name": "stderr",
     "output_type": "stream",
     "text": [
      "[I 2023-12-09 00:12:23,008] Trial 231 finished with value: 0.051255552367593944 and parameters: {'coarse_recommender': 'merging', 'use_3_levels': False, 'cutoff': 137, 'final_recommender_c1:merging': 'slim'}. Best is trial 152 with value: 0.05132359638576222.\n"
     ]
    },
    {
     "name": "stdout",
     "output_type": "stream",
     "text": [
      "Recommender_Base_Class: URM Detected 627 ( 4.8%) users with no interactions.\n",
      "Recommender_Base_Class: URM Detected 247 ( 1.1%) items with no interactions.\n",
      "EvaluatorHoldout: Processed 10456 (100.0%) in 21.61 sec. Users per second: 484\n"
     ]
    },
    {
     "name": "stderr",
     "output_type": "stream",
     "text": [
      "[I 2023-12-09 00:12:44,833] Trial 232 finished with value: 0.05132359638576222 and parameters: {'coarse_recommender': 'merging', 'use_3_levels': False, 'cutoff': 51, 'final_recommender_c1:merging': 'slim'}. Best is trial 152 with value: 0.05132359638576222.\n"
     ]
    },
    {
     "name": "stdout",
     "output_type": "stream",
     "text": [
      "Recommender_Base_Class: URM Detected 627 ( 4.8%) users with no interactions.\n",
      "Recommender_Base_Class: URM Detected 247 ( 1.1%) items with no interactions.\n",
      "EvaluatorHoldout: Processed 10456 (100.0%) in 21.67 sec. Users per second: 482\n"
     ]
    },
    {
     "name": "stderr",
     "output_type": "stream",
     "text": [
      "[I 2023-12-09 00:13:06,702] Trial 233 finished with value: 0.05124371516012744 and parameters: {'coarse_recommender': 'merging', 'use_3_levels': False, 'cutoff': 117, 'final_recommender_c1:merging': 'slim'}. Best is trial 152 with value: 0.05132359638576222.\n"
     ]
    },
    {
     "name": "stdout",
     "output_type": "stream",
     "text": [
      "Recommender_Base_Class: URM Detected 627 ( 4.8%) users with no interactions.\n",
      "Recommender_Base_Class: URM Detected 247 ( 1.1%) items with no interactions.\n",
      "EvaluatorHoldout: Processed 10456 (100.0%) in 21.86 sec. Users per second: 478\n"
     ]
    },
    {
     "name": "stderr",
     "output_type": "stream",
     "text": [
      "[I 2023-12-09 00:13:28,779] Trial 234 finished with value: 0.05131493955016393 and parameters: {'coarse_recommender': 'merging', 'use_3_levels': False, 'cutoff': 52, 'final_recommender_c1:merging': 'slim'}. Best is trial 152 with value: 0.05132359638576222.\n"
     ]
    },
    {
     "name": "stdout",
     "output_type": "stream",
     "text": [
      "Recommender_Base_Class: URM Detected 627 ( 4.8%) users with no interactions.\n",
      "Recommender_Base_Class: URM Detected 247 ( 1.1%) items with no interactions.\n",
      "EvaluatorHoldout: Processed 10456 (100.0%) in 21.87 sec. Users per second: 478\n"
     ]
    },
    {
     "name": "stderr",
     "output_type": "stream",
     "text": [
      "[I 2023-12-09 00:13:50,860] Trial 235 finished with value: 0.05126048611870216 and parameters: {'coarse_recommender': 'merging', 'use_3_levels': False, 'cutoff': 163, 'final_recommender_c1:merging': 'slim'}. Best is trial 152 with value: 0.05132359638576222.\n"
     ]
    },
    {
     "name": "stdout",
     "output_type": "stream",
     "text": [
      "Recommender_Base_Class: URM Detected 627 ( 4.8%) users with no interactions.\n",
      "Recommender_Base_Class: URM Detected 247 ( 1.1%) items with no interactions.\n",
      "EvaluatorHoldout: Processed 10456 (100.0%) in 21.76 sec. Users per second: 481\n"
     ]
    },
    {
     "name": "stderr",
     "output_type": "stream",
     "text": [
      "[I 2023-12-09 00:14:12,818] Trial 236 finished with value: 0.051245309141254705 and parameters: {'coarse_recommender': 'merging', 'use_3_levels': False, 'cutoff': 120, 'final_recommender_c1:merging': 'slim'}. Best is trial 152 with value: 0.05132359638576222.\n"
     ]
    },
    {
     "name": "stdout",
     "output_type": "stream",
     "text": [
      "Recommender_Base_Class: URM Detected 627 ( 4.8%) users with no interactions.\n",
      "Recommender_Base_Class: URM Detected 247 ( 1.1%) items with no interactions.\n",
      "EvaluatorHoldout: Processed 10456 (100.0%) in 21.82 sec. Users per second: 479\n"
     ]
    },
    {
     "name": "stderr",
     "output_type": "stream",
     "text": [
      "[I 2023-12-09 00:14:34,840] Trial 237 finished with value: 0.05124594673370562 and parameters: {'coarse_recommender': 'merging', 'use_3_levels': False, 'cutoff': 109, 'final_recommender_c1:merging': 'slim'}. Best is trial 152 with value: 0.05132359638576222.\n"
     ]
    },
    {
     "name": "stdout",
     "output_type": "stream",
     "text": [
      "Recommender_Base_Class: URM Detected 627 ( 4.8%) users with no interactions.\n",
      "Recommender_Base_Class: URM Detected 247 ( 1.1%) items with no interactions.\n",
      "EvaluatorHoldout: Processed 10456 (100.0%) in 22.80 sec. Users per second: 459\n"
     ]
    },
    {
     "name": "stderr",
     "output_type": "stream",
     "text": [
      "[I 2023-12-09 00:14:57,835] Trial 238 finished with value: 0.05124409847463662 and parameters: {'coarse_recommender': 'merging', 'use_3_levels': False, 'cutoff': 2490, 'final_recommender_c1:merging': 'slim'}. Best is trial 152 with value: 0.05132359638576222.\n"
     ]
    },
    {
     "name": "stdout",
     "output_type": "stream",
     "text": [
      "Recommender_Base_Class: URM Detected 627 ( 4.8%) users with no interactions.\n",
      "Recommender_Base_Class: URM Detected 247 ( 1.1%) items with no interactions.\n",
      "EvaluatorHoldout: Processed 10456 (100.0%) in 21.86 sec. Users per second: 478\n"
     ]
    },
    {
     "name": "stderr",
     "output_type": "stream",
     "text": [
      "[I 2023-12-09 00:15:19,897] Trial 239 finished with value: 0.05132350150593321 and parameters: {'coarse_recommender': 'merging', 'use_3_levels': False, 'cutoff': 50, 'final_recommender_c1:merging': 'slim'}. Best is trial 152 with value: 0.05132359638576222.\n"
     ]
    },
    {
     "name": "stdout",
     "output_type": "stream",
     "text": [
      "Recommender_Base_Class: URM Detected 627 ( 4.8%) users with no interactions.\n",
      "Recommender_Base_Class: URM Detected 247 ( 1.1%) items with no interactions.\n",
      "EvaluatorHoldout: Processed 10456 (100.0%) in 26.23 sec. Users per second: 399\n"
     ]
    },
    {
     "name": "stderr",
     "output_type": "stream",
     "text": [
      "[I 2023-12-09 00:15:46,363] Trial 240 finished with value: 0.0489616768985081 and parameters: {'coarse_recommender': 'merging', 'use_3_levels': True, 'coarse_2_recommender_c1:merging': 'alpha', 'final_recommender_c1:merging_c2:alpha': 'rp3', 'cutoff1': 386, 'cutoff2': 60}. Best is trial 152 with value: 0.05132359638576222.\n"
     ]
    },
    {
     "name": "stdout",
     "output_type": "stream",
     "text": [
      "Recommender_Base_Class: URM Detected 627 ( 4.8%) users with no interactions.\n",
      "Recommender_Base_Class: URM Detected 247 ( 1.1%) items with no interactions.\n",
      "EvaluatorHoldout: Processed 10456 (100.0%) in 21.74 sec. Users per second: 481\n"
     ]
    },
    {
     "name": "stderr",
     "output_type": "stream",
     "text": [
      "[I 2023-12-09 00:16:08,313] Trial 241 finished with value: 0.05132359638576222 and parameters: {'coarse_recommender': 'merging', 'use_3_levels': False, 'cutoff': 51, 'final_recommender_c1:merging': 'slim'}. Best is trial 152 with value: 0.05132359638576222.\n"
     ]
    },
    {
     "name": "stdout",
     "output_type": "stream",
     "text": [
      "Recommender_Base_Class: URM Detected 627 ( 4.8%) users with no interactions.\n",
      "Recommender_Base_Class: URM Detected 247 ( 1.1%) items with no interactions.\n",
      "EvaluatorHoldout: Processed 10456 (100.0%) in 21.79 sec. Users per second: 480\n"
     ]
    },
    {
     "name": "stderr",
     "output_type": "stream",
     "text": [
      "[I 2023-12-09 00:16:30,308] Trial 242 finished with value: 0.05132359638576222 and parameters: {'coarse_recommender': 'merging', 'use_3_levels': False, 'cutoff': 51, 'final_recommender_c1:merging': 'slim'}. Best is trial 152 with value: 0.05132359638576222.\n"
     ]
    },
    {
     "name": "stdout",
     "output_type": "stream",
     "text": [
      "Recommender_Base_Class: URM Detected 627 ( 4.8%) users with no interactions.\n",
      "Recommender_Base_Class: URM Detected 247 ( 1.1%) items with no interactions.\n",
      "EvaluatorHoldout: Processed 10456 (100.0%) in 21.82 sec. Users per second: 479\n"
     ]
    },
    {
     "name": "stderr",
     "output_type": "stream",
     "text": [
      "[I 2023-12-09 00:16:52,327] Trial 243 finished with value: 0.051244830946916536 and parameters: {'coarse_recommender': 'merging', 'use_3_levels': False, 'cutoff': 113, 'final_recommender_c1:merging': 'slim'}. Best is trial 152 with value: 0.05132359638576222.\n"
     ]
    },
    {
     "name": "stdout",
     "output_type": "stream",
     "text": [
      "Recommender_Base_Class: URM Detected 627 ( 4.8%) users with no interactions.\n",
      "Recommender_Base_Class: URM Detected 247 ( 1.1%) items with no interactions.\n",
      "EvaluatorHoldout: Processed 10456 (100.0%) in 22.03 sec. Users per second: 475\n"
     ]
    },
    {
     "name": "stderr",
     "output_type": "stream",
     "text": [
      "[I 2023-12-09 00:17:14,560] Trial 244 finished with value: 0.03783796574610496 and parameters: {'coarse_recommender': 'merging', 'use_3_levels': False, 'cutoff': 167, 'final_recommender_c1:merging': 'userKnn'}. Best is trial 152 with value: 0.05132359638576222.\n"
     ]
    },
    {
     "name": "stdout",
     "output_type": "stream",
     "text": [
      "Recommender_Base_Class: URM Detected 627 ( 4.8%) users with no interactions.\n",
      "Recommender_Base_Class: URM Detected 247 ( 1.1%) items with no interactions.\n",
      "EvaluatorHoldout: Processed 10456 (100.0%) in 30.46 sec. Users per second: 343\n"
     ]
    },
    {
     "name": "stderr",
     "output_type": "stream",
     "text": [
      "[I 2023-12-09 00:17:45,225] Trial 245 finished with value: 0.042260379094254986 and parameters: {'coarse_recommender': 'slim', 'use_3_levels': False, 'cutoff': 53, 'final_recommender_c1:slim': 'ials'}. Best is trial 152 with value: 0.05132359638576222.\n"
     ]
    },
    {
     "name": "stdout",
     "output_type": "stream",
     "text": [
      "Recommender_Base_Class: URM Detected 627 ( 4.8%) users with no interactions.\n",
      "Recommender_Base_Class: URM Detected 247 ( 1.1%) items with no interactions.\n",
      "EvaluatorHoldout: Processed 10456 (100.0%) in 21.83 sec. Users per second: 479\n"
     ]
    },
    {
     "name": "stderr",
     "output_type": "stream",
     "text": [
      "[I 2023-12-09 00:18:07,267] Trial 246 finished with value: 0.05124594673370562 and parameters: {'coarse_recommender': 'merging', 'use_3_levels': False, 'cutoff': 109, 'final_recommender_c1:merging': 'slim'}. Best is trial 152 with value: 0.05132359638576222.\n"
     ]
    },
    {
     "name": "stdout",
     "output_type": "stream",
     "text": [
      "Recommender_Base_Class: URM Detected 627 ( 4.8%) users with no interactions.\n",
      "Recommender_Base_Class: URM Detected 247 ( 1.1%) items with no interactions.\n",
      "EvaluatorHoldout: Processed 10456 (100.0%) in 21.90 sec. Users per second: 477\n"
     ]
    },
    {
     "name": "stderr",
     "output_type": "stream",
     "text": [
      "[I 2023-12-09 00:18:29,365] Trial 247 finished with value: 0.05126111612076673 and parameters: {'coarse_recommender': 'merging', 'use_3_levels': False, 'cutoff': 218, 'final_recommender_c1:merging': 'slim'}. Best is trial 152 with value: 0.05132359638576222.\n"
     ]
    },
    {
     "name": "stdout",
     "output_type": "stream",
     "text": [
      "Recommender_Base_Class: URM Detected 627 ( 4.8%) users with no interactions.\n",
      "Recommender_Base_Class: URM Detected 247 ( 1.1%) items with no interactions.\n",
      "EvaluatorHoldout: Processed 10456 (100.0%) in 21.77 sec. Users per second: 480\n"
     ]
    },
    {
     "name": "stderr",
     "output_type": "stream",
     "text": [
      "[I 2023-12-09 00:18:51,335] Trial 248 finished with value: 0.05132350150593321 and parameters: {'coarse_recommender': 'merging', 'use_3_levels': False, 'cutoff': 50, 'final_recommender_c1:merging': 'slim'}. Best is trial 152 with value: 0.05132359638576222.\n"
     ]
    },
    {
     "name": "stdout",
     "output_type": "stream",
     "text": [
      "Recommender_Base_Class: URM Detected 627 ( 4.8%) users with no interactions.\n",
      "Recommender_Base_Class: URM Detected 247 ( 1.1%) items with no interactions.\n",
      "EvaluatorHoldout: Processed 10456 (100.0%) in 19.12 sec. Users per second: 547\n"
     ]
    },
    {
     "name": "stderr",
     "output_type": "stream",
     "text": [
      "[I 2023-12-09 00:19:10,656] Trial 249 finished with value: 0.047839912680196287 and parameters: {'coarse_recommender': 'merging', 'use_3_levels': False, 'cutoff': 157, 'final_recommender_c1:merging': 'alpha'}. Best is trial 152 with value: 0.05132359638576222.\n"
     ]
    },
    {
     "name": "stdout",
     "output_type": "stream",
     "text": [
      "Recommender_Base_Class: URM Detected 627 ( 4.8%) users with no interactions.\n",
      "Recommender_Base_Class: URM Detected 247 ( 1.1%) items with no interactions.\n",
      "EvaluatorHoldout: Processed 10456 (100.0%) in 21.77 sec. Users per second: 480\n"
     ]
    },
    {
     "name": "stderr",
     "output_type": "stream",
     "text": [
      "[I 2023-12-09 00:19:32,641] Trial 250 finished with value: 0.05124936999793607 and parameters: {'coarse_recommender': 'merging', 'use_3_levels': False, 'cutoff': 106, 'final_recommender_c1:merging': 'slim'}. Best is trial 152 with value: 0.05132359638576222.\n"
     ]
    },
    {
     "name": "stdout",
     "output_type": "stream",
     "text": [
      "Recommender_Base_Class: URM Detected 627 ( 4.8%) users with no interactions.\n",
      "Recommender_Base_Class: URM Detected 247 ( 1.1%) items with no interactions.\n",
      "EvaluatorHoldout: Processed 10456 (100.0%) in 22.98 sec. Users per second: 455\n"
     ]
    },
    {
     "name": "stderr",
     "output_type": "stream",
     "text": [
      "[I 2023-12-09 00:19:55,818] Trial 251 finished with value: 0.04340696767102717 and parameters: {'coarse_recommender': 'merging', 'use_3_levels': False, 'cutoff': 50, 'final_recommender_c1:merging': 'ials'}. Best is trial 152 with value: 0.05132359638576222.\n"
     ]
    },
    {
     "name": "stdout",
     "output_type": "stream",
     "text": [
      "Recommender_Base_Class: URM Detected 627 ( 4.8%) users with no interactions.\n",
      "Recommender_Base_Class: URM Detected 247 ( 1.1%) items with no interactions.\n",
      "EvaluatorHoldout: Processed 10456 (100.0%) in 21.77 sec. Users per second: 480\n"
     ]
    },
    {
     "name": "stderr",
     "output_type": "stream",
     "text": [
      "[I 2023-12-09 00:20:17,791] Trial 252 finished with value: 0.05125329802285682 and parameters: {'coarse_recommender': 'merging', 'use_3_levels': False, 'cutoff': 146, 'final_recommender_c1:merging': 'slim'}. Best is trial 152 with value: 0.05132359638576222.\n"
     ]
    },
    {
     "name": "stdout",
     "output_type": "stream",
     "text": [
      "Recommender_Base_Class: URM Detected 627 ( 4.8%) users with no interactions.\n",
      "Recommender_Base_Class: URM Detected 247 ( 1.1%) items with no interactions.\n",
      "EvaluatorHoldout: Processed 10456 (100.0%) in 37.77 sec. Users per second: 277\n"
     ]
    },
    {
     "name": "stderr",
     "output_type": "stream",
     "text": [
      "[I 2023-12-09 00:20:55,758] Trial 253 finished with value: 0.04700309535954196 and parameters: {'coarse_recommender': 'ials', 'use_3_levels': False, 'cutoff': 104, 'final_recommender_c1:ials': 'alpha'}. Best is trial 152 with value: 0.05132359638576222.\n"
     ]
    },
    {
     "name": "stdout",
     "output_type": "stream",
     "text": [
      "Recommender_Base_Class: URM Detected 627 ( 4.8%) users with no interactions.\n",
      "Recommender_Base_Class: URM Detected 247 ( 1.1%) items with no interactions.\n",
      "EvaluatorHoldout: Processed 10456 (100.0%) in 22.10 sec. Users per second: 473\n"
     ]
    },
    {
     "name": "stderr",
     "output_type": "stream",
     "text": [
      "[I 2023-12-09 00:21:18,058] Trial 254 finished with value: 0.05132350150593321 and parameters: {'coarse_recommender': 'merging', 'use_3_levels': False, 'cutoff': 50, 'final_recommender_c1:merging': 'slim'}. Best is trial 152 with value: 0.05132359638576222.\n"
     ]
    },
    {
     "name": "stdout",
     "output_type": "stream",
     "text": [
      "Recommender_Base_Class: URM Detected 627 ( 4.8%) users with no interactions.\n",
      "Recommender_Base_Class: URM Detected 247 ( 1.1%) items with no interactions.\n",
      "EvaluatorHoldout: Processed 10456 (100.0%) in 21.88 sec. Users per second: 478\n"
     ]
    },
    {
     "name": "stderr",
     "output_type": "stream",
     "text": [
      "[I 2023-12-09 00:21:40,133] Trial 255 finished with value: 0.0512595297300258 and parameters: {'coarse_recommender': 'merging', 'use_3_levels': False, 'cutoff': 170, 'final_recommender_c1:merging': 'slim'}. Best is trial 152 with value: 0.05132359638576222.\n"
     ]
    },
    {
     "name": "stdout",
     "output_type": "stream",
     "text": [
      "Recommender_Base_Class: URM Detected 627 ( 4.8%) users with no interactions.\n",
      "Recommender_Base_Class: URM Detected 247 ( 1.1%) items with no interactions.\n",
      "EvaluatorHoldout: Processed 10456 (100.0%) in 21.89 sec. Users per second: 478\n"
     ]
    },
    {
     "name": "stderr",
     "output_type": "stream",
     "text": [
      "[I 2023-12-09 00:22:02,227] Trial 256 finished with value: 0.05126111612076673 and parameters: {'coarse_recommender': 'merging', 'use_3_levels': False, 'cutoff': 213, 'final_recommender_c1:merging': 'slim'}. Best is trial 152 with value: 0.05132359638576222.\n"
     ]
    },
    {
     "name": "stdout",
     "output_type": "stream",
     "text": [
      "Recommender_Base_Class: URM Detected 627 ( 4.8%) users with no interactions.\n",
      "Recommender_Base_Class: URM Detected 247 ( 1.1%) items with no interactions.\n",
      "EvaluatorHoldout: Processed 10456 (100.0%) in 28.04 sec. Users per second: 373\n"
     ]
    },
    {
     "name": "stderr",
     "output_type": "stream",
     "text": [
      "[I 2023-12-09 00:22:30,463] Trial 257 finished with value: 0.04808099473530889 and parameters: {'coarse_recommender': 'userKnn', 'use_3_levels': False, 'cutoff': 104, 'final_recommender_c1:userKnn': 'slim'}. Best is trial 152 with value: 0.05132359638576222.\n"
     ]
    },
    {
     "name": "stdout",
     "output_type": "stream",
     "text": [
      "Recommender_Base_Class: URM Detected 627 ( 4.8%) users with no interactions.\n",
      "Recommender_Base_Class: URM Detected 247 ( 1.1%) items with no interactions.\n",
      "EvaluatorHoldout: Processed 10456 (100.0%) in 24.12 sec. Users per second: 433\n"
     ]
    },
    {
     "name": "stderr",
     "output_type": "stream",
     "text": [
      "[I 2023-12-09 00:22:54,777] Trial 258 finished with value: 0.044854181088401356 and parameters: {'coarse_recommender': 'rp3', 'use_3_levels': False, 'cutoff': 110, 'final_recommender_c1:rp3': 'easeR'}. Best is trial 152 with value: 0.05132359638576222.\n"
     ]
    },
    {
     "name": "stdout",
     "output_type": "stream",
     "text": [
      "Recommender_Base_Class: URM Detected 627 ( 4.8%) users with no interactions.\n",
      "Recommender_Base_Class: URM Detected 247 ( 1.1%) items with no interactions.\n",
      "EvaluatorHoldout: Processed 10456 (100.0%) in 21.77 sec. Users per second: 480\n"
     ]
    },
    {
     "name": "stderr",
     "output_type": "stream",
     "text": [
      "[I 2023-12-09 00:23:16,763] Trial 259 finished with value: 0.05126048611870216 and parameters: {'coarse_recommender': 'merging', 'use_3_levels': False, 'cutoff': 163, 'final_recommender_c1:merging': 'slim'}. Best is trial 152 with value: 0.05132359638576222.\n"
     ]
    },
    {
     "name": "stdout",
     "output_type": "stream",
     "text": [
      "Recommender_Base_Class: URM Detected 627 ( 4.8%) users with no interactions.\n",
      "Recommender_Base_Class: URM Detected 247 ( 1.1%) items with no interactions.\n",
      "EvaluatorHoldout: Processed 10456 (100.0%) in 21.59 sec. Users per second: 484\n"
     ]
    },
    {
     "name": "stderr",
     "output_type": "stream",
     "text": [
      "[I 2023-12-09 00:23:38,558] Trial 260 finished with value: 0.05131341767770671 and parameters: {'coarse_recommender': 'merging', 'use_3_levels': False, 'cutoff': 55, 'final_recommender_c1:merging': 'slim'}. Best is trial 152 with value: 0.05132359638576222.\n"
     ]
    },
    {
     "name": "stdout",
     "output_type": "stream",
     "text": [
      "Recommender_Base_Class: URM Detected 627 ( 4.8%) users with no interactions.\n",
      "Recommender_Base_Class: URM Detected 247 ( 1.1%) items with no interactions.\n",
      "EvaluatorHoldout: Processed 10456 (100.0%) in 18.91 sec. Users per second: 553\n"
     ]
    },
    {
     "name": "stderr",
     "output_type": "stream",
     "text": [
      "[I 2023-12-09 00:23:57,673] Trial 261 finished with value: 0.04814141041522505 and parameters: {'coarse_recommender': 'itemKnn', 'use_3_levels': False, 'cutoff': 113, 'final_recommender_c1:itemKnn': 'alpha'}. Best is trial 152 with value: 0.05132359638576222.\n"
     ]
    },
    {
     "name": "stdout",
     "output_type": "stream",
     "text": [
      "Recommender_Base_Class: URM Detected 627 ( 4.8%) users with no interactions.\n",
      "Recommender_Base_Class: URM Detected 247 ( 1.1%) items with no interactions.\n",
      "EvaluatorHoldout: Processed 10456 (100.0%) in 19.36 sec. Users per second: 540\n"
     ]
    },
    {
     "name": "stderr",
     "output_type": "stream",
     "text": [
      "[I 2023-12-09 00:24:17,245] Trial 262 finished with value: 0.04915577825749081 and parameters: {'coarse_recommender': 'merging', 'use_3_levels': False, 'cutoff': 53, 'final_recommender_c1:merging': 'rp3'}. Best is trial 152 with value: 0.05132359638576222.\n"
     ]
    },
    {
     "name": "stdout",
     "output_type": "stream",
     "text": [
      "Recommender_Base_Class: URM Detected 627 ( 4.8%) users with no interactions.\n",
      "Recommender_Base_Class: URM Detected 247 ( 1.1%) items with no interactions.\n",
      "EvaluatorHoldout: Processed 10456 (100.0%) in 28.50 sec. Users per second: 367\n"
     ]
    },
    {
     "name": "stderr",
     "output_type": "stream",
     "text": [
      "[I 2023-12-09 00:24:45,998] Trial 263 finished with value: 0.050984032863337275 and parameters: {'coarse_recommender': 'alpha', 'use_3_levels': True, 'coarse_2_recommender_c1:alpha': 'rp3', 'final_recommender_c1:alpha_c2:rp3': 'slim', 'cutoff1': 701, 'cutoff2': 262}. Best is trial 152 with value: 0.05132359638576222.\n"
     ]
    },
    {
     "name": "stdout",
     "output_type": "stream",
     "text": [
      "Recommender_Base_Class: URM Detected 627 ( 4.8%) users with no interactions.\n",
      "Recommender_Base_Class: URM Detected 247 ( 1.1%) items with no interactions.\n",
      "EvaluatorHoldout: Processed 10456 (100.0%) in 21.75 sec. Users per second: 481\n"
     ]
    },
    {
     "name": "stderr",
     "output_type": "stream",
     "text": [
      "[I 2023-12-09 00:25:07,981] Trial 264 finished with value: 0.051259506958866836 and parameters: {'coarse_recommender': 'merging', 'use_3_levels': False, 'cutoff': 198, 'final_recommender_c1:merging': 'slim'}. Best is trial 152 with value: 0.05132359638576222.\n"
     ]
    },
    {
     "name": "stdout",
     "output_type": "stream",
     "text": [
      "Recommender_Base_Class: URM Detected 627 ( 4.8%) users with no interactions.\n",
      "Recommender_Base_Class: URM Detected 247 ( 1.1%) items with no interactions.\n",
      "EvaluatorHoldout: Processed 10456 (100.0%) in 22.34 sec. Users per second: 468\n"
     ]
    },
    {
     "name": "stderr",
     "output_type": "stream",
     "text": [
      "[I 2023-12-09 00:25:30,530] Trial 265 finished with value: 0.05124594673370562 and parameters: {'coarse_recommender': 'merging', 'use_3_levels': False, 'cutoff': 108, 'final_recommender_c1:merging': 'slim'}. Best is trial 152 with value: 0.05132359638576222.\n"
     ]
    },
    {
     "name": "stdout",
     "output_type": "stream",
     "text": [
      "Recommender_Base_Class: URM Detected 627 ( 4.8%) users with no interactions.\n",
      "Recommender_Base_Class: URM Detected 247 ( 1.1%) items with no interactions.\n",
      "EvaluatorHoldout: Processed 10456 (100.0%) in 21.70 sec. Users per second: 482\n"
     ]
    },
    {
     "name": "stderr",
     "output_type": "stream",
     "text": [
      "[I 2023-12-09 00:25:52,440] Trial 266 finished with value: 0.05131493955016393 and parameters: {'coarse_recommender': 'merging', 'use_3_levels': False, 'cutoff': 53, 'final_recommender_c1:merging': 'slim'}. Best is trial 152 with value: 0.05132359638576222.\n"
     ]
    },
    {
     "name": "stdout",
     "output_type": "stream",
     "text": [
      "Recommender_Base_Class: URM Detected 627 ( 4.8%) users with no interactions.\n",
      "Recommender_Base_Class: URM Detected 247 ( 1.1%) items with no interactions.\n",
      "EvaluatorHoldout: Processed 10456 (100.0%) in 21.76 sec. Users per second: 481\n"
     ]
    },
    {
     "name": "stderr",
     "output_type": "stream",
     "text": [
      "[I 2023-12-09 00:26:14,403] Trial 267 finished with value: 0.051261123711153066 and parameters: {'coarse_recommender': 'merging', 'use_3_levels': False, 'cutoff': 158, 'final_recommender_c1:merging': 'slim'}. Best is trial 152 with value: 0.05132359638576222.\n"
     ]
    },
    {
     "name": "stdout",
     "output_type": "stream",
     "text": [
      "Recommender_Base_Class: URM Detected 627 ( 4.8%) users with no interactions.\n",
      "Recommender_Base_Class: URM Detected 247 ( 1.1%) items with no interactions.\n",
      "EvaluatorHoldout: Processed 10456 (100.0%) in 19.31 sec. Users per second: 541\n"
     ]
    },
    {
     "name": "stderr",
     "output_type": "stream",
     "text": [
      "[I 2023-12-09 00:26:33,923] Trial 268 finished with value: 0.04871784332835477 and parameters: {'coarse_recommender': 'merging', 'use_3_levels': False, 'cutoff': 212, 'final_recommender_c1:merging': 'itemKnn'}. Best is trial 152 with value: 0.05132359638576222.\n"
     ]
    },
    {
     "name": "stdout",
     "output_type": "stream",
     "text": [
      "Recommender_Base_Class: URM Detected 627 ( 4.8%) users with no interactions.\n",
      "Recommender_Base_Class: URM Detected 247 ( 1.1%) items with no interactions.\n",
      "EvaluatorHoldout: Processed 10456 (100.0%) in 25.17 sec. Users per second: 415\n"
     ]
    },
    {
     "name": "stderr",
     "output_type": "stream",
     "text": [
      "[I 2023-12-09 00:26:59,287] Trial 269 finished with value: 0.0482512964379841 and parameters: {'coarse_recommender': 'easeR', 'use_3_levels': False, 'cutoff': 120, 'final_recommender_c1:easeR': 'alpha'}. Best is trial 152 with value: 0.05132359638576222.\n"
     ]
    },
    {
     "name": "stdout",
     "output_type": "stream",
     "text": [
      "Recommender_Base_Class: URM Detected 627 ( 4.8%) users with no interactions.\n",
      "Recommender_Base_Class: URM Detected 247 ( 1.1%) items with no interactions.\n",
      "EvaluatorHoldout: Processed 10456 (100.0%) in 22.27 sec. Users per second: 469\n"
     ]
    },
    {
     "name": "stderr",
     "output_type": "stream",
     "text": [
      "[I 2023-12-09 00:27:21,771] Trial 270 finished with value: 0.05124535847876578 and parameters: {'coarse_recommender': 'merging', 'use_3_levels': False, 'cutoff': 1385, 'final_recommender_c1:merging': 'slim'}. Best is trial 152 with value: 0.05132359638576222.\n"
     ]
    },
    {
     "name": "stdout",
     "output_type": "stream",
     "text": [
      "Recommender_Base_Class: URM Detected 627 ( 4.8%) users with no interactions.\n",
      "Recommender_Base_Class: URM Detected 247 ( 1.1%) items with no interactions.\n",
      "EvaluatorHoldout: Processed 10456 (100.0%) in 21.72 sec. Users per second: 481\n"
     ]
    },
    {
     "name": "stderr",
     "output_type": "stream",
     "text": [
      "[I 2023-12-09 00:27:43,690] Trial 271 finished with value: 0.05124936999793607 and parameters: {'coarse_recommender': 'merging', 'use_3_levels': False, 'cutoff': 106, 'final_recommender_c1:merging': 'slim'}. Best is trial 152 with value: 0.05132359638576222.\n"
     ]
    },
    {
     "name": "stdout",
     "output_type": "stream",
     "text": [
      "Recommender_Base_Class: URM Detected 627 ( 4.8%) users with no interactions.\n",
      "Recommender_Base_Class: URM Detected 247 ( 1.1%) items with no interactions.\n",
      "EvaluatorHoldout: Processed 10456 (100.0%) in 24.31 sec. Users per second: 430\n"
     ]
    },
    {
     "name": "stderr",
     "output_type": "stream",
     "text": [
      "[I 2023-12-09 00:28:08,213] Trial 272 finished with value: 0.04514041076134673 and parameters: {'coarse_recommender': 'merging', 'use_3_levels': False, 'cutoff': 50, 'final_recommender_c1:merging': 'easeR'}. Best is trial 152 with value: 0.05132359638576222.\n"
     ]
    },
    {
     "name": "stdout",
     "output_type": "stream",
     "text": [
      "Recommender_Base_Class: URM Detected 627 ( 4.8%) users with no interactions.\n",
      "Recommender_Base_Class: URM Detected 247 ( 1.1%) items with no interactions.\n",
      "EvaluatorHoldout: Processed 10456 (100.0%) in 21.84 sec. Users per second: 479\n"
     ]
    },
    {
     "name": "stderr",
     "output_type": "stream",
     "text": [
      "[I 2023-12-09 00:28:30,265] Trial 273 finished with value: 0.05132350150593321 and parameters: {'coarse_recommender': 'merging', 'use_3_levels': False, 'cutoff': 50, 'final_recommender_c1:merging': 'slim'}. Best is trial 152 with value: 0.05132359638576222.\n"
     ]
    },
    {
     "name": "stdout",
     "output_type": "stream",
     "text": [
      "Recommender_Base_Class: URM Detected 627 ( 4.8%) users with no interactions.\n",
      "Recommender_Base_Class: URM Detected 247 ( 1.1%) items with no interactions.\n",
      "EvaluatorHoldout: Processed 10456 (100.0%) in 21.85 sec. Users per second: 479\n"
     ]
    },
    {
     "name": "stderr",
     "output_type": "stream",
     "text": [
      "[I 2023-12-09 00:28:52,321] Trial 274 finished with value: 0.05126048611870216 and parameters: {'coarse_recommender': 'merging', 'use_3_levels': False, 'cutoff': 165, 'final_recommender_c1:merging': 'slim'}. Best is trial 152 with value: 0.05132359638576222.\n"
     ]
    },
    {
     "name": "stdout",
     "output_type": "stream",
     "text": [
      "Recommender_Base_Class: URM Detected 627 ( 4.8%) users with no interactions.\n",
      "Recommender_Base_Class: URM Detected 247 ( 1.1%) items with no interactions.\n",
      "EvaluatorHoldout: Processed 10456 (100.0%) in 21.85 sec. Users per second: 479\n"
     ]
    },
    {
     "name": "stderr",
     "output_type": "stream",
     "text": [
      "[I 2023-12-09 00:29:14,392] Trial 275 finished with value: 0.051260584793724306 and parameters: {'coarse_recommender': 'merging', 'use_3_levels': False, 'cutoff': 231, 'final_recommender_c1:merging': 'slim'}. Best is trial 152 with value: 0.05132359638576222.\n"
     ]
    },
    {
     "name": "stdout",
     "output_type": "stream",
     "text": [
      "Recommender_Base_Class: URM Detected 627 ( 4.8%) users with no interactions.\n",
      "Recommender_Base_Class: URM Detected 247 ( 1.1%) items with no interactions.\n",
      "EvaluatorHoldout: Processed 10456 (100.0%) in 31.75 sec. Users per second: 329\n"
     ]
    },
    {
     "name": "stderr",
     "output_type": "stream",
     "text": [
      "[I 2023-12-09 00:29:46,458] Trial 276 finished with value: 0.04473727395829599 and parameters: {'coarse_recommender': 'slim', 'use_3_levels': False, 'cutoff': 98, 'final_recommender_c1:slim': 'easeR'}. Best is trial 152 with value: 0.05132359638576222.\n"
     ]
    },
    {
     "name": "stdout",
     "output_type": "stream",
     "text": [
      "Recommender_Base_Class: URM Detected 627 ( 4.8%) users with no interactions.\n",
      "Recommender_Base_Class: URM Detected 247 ( 1.1%) items with no interactions.\n",
      "EvaluatorHoldout: Processed 10456 (100.0%) in 21.87 sec. Users per second: 478\n"
     ]
    },
    {
     "name": "stderr",
     "output_type": "stream",
     "text": [
      "[I 2023-12-09 00:30:08,542] Trial 277 finished with value: 0.05132350150593321 and parameters: {'coarse_recommender': 'merging', 'use_3_levels': False, 'cutoff': 50, 'final_recommender_c1:merging': 'slim'}. Best is trial 152 with value: 0.05132359638576222.\n"
     ]
    },
    {
     "name": "stdout",
     "output_type": "stream",
     "text": [
      "Recommender_Base_Class: URM Detected 627 ( 4.8%) users with no interactions.\n",
      "Recommender_Base_Class: URM Detected 247 ( 1.1%) items with no interactions.\n",
      "EvaluatorHoldout: Processed 10456 (100.0%) in 22.12 sec. Users per second: 473\n"
     ]
    },
    {
     "name": "stderr",
     "output_type": "stream",
     "text": [
      "[I 2023-12-09 00:30:30,888] Trial 278 finished with value: 0.05125329802285682 and parameters: {'coarse_recommender': 'merging', 'use_3_levels': False, 'cutoff': 147, 'final_recommender_c1:merging': 'slim'}. Best is trial 152 with value: 0.05132359638576222.\n"
     ]
    },
    {
     "name": "stdout",
     "output_type": "stream",
     "text": [
      "Recommender_Base_Class: URM Detected 627 ( 4.8%) users with no interactions.\n",
      "Recommender_Base_Class: URM Detected 247 ( 1.1%) items with no interactions.\n",
      "EvaluatorHoldout: Processed 10456 (100.0%) in 21.73 sec. Users per second: 481\n"
     ]
    },
    {
     "name": "stderr",
     "output_type": "stream",
     "text": [
      "[I 2023-12-09 00:30:52,823] Trial 279 finished with value: 0.05132359638576222 and parameters: {'coarse_recommender': 'merging', 'use_3_levels': False, 'cutoff': 51, 'final_recommender_c1:merging': 'slim'}. Best is trial 152 with value: 0.05132359638576222.\n"
     ]
    },
    {
     "name": "stdout",
     "output_type": "stream",
     "text": [
      "Recommender_Base_Class: URM Detected 627 ( 4.8%) users with no interactions.\n",
      "Recommender_Base_Class: URM Detected 247 ( 1.1%) items with no interactions.\n",
      "EvaluatorHoldout: Processed 10456 (100.0%) in 21.96 sec. Users per second: 476\n"
     ]
    },
    {
     "name": "stderr",
     "output_type": "stream",
     "text": [
      "[I 2023-12-09 00:31:14,985] Trial 280 finished with value: 0.051244830946916536 and parameters: {'coarse_recommender': 'merging', 'use_3_levels': False, 'cutoff': 112, 'final_recommender_c1:merging': 'slim'}. Best is trial 152 with value: 0.05132359638576222.\n"
     ]
    },
    {
     "name": "stdout",
     "output_type": "stream",
     "text": [
      "Recommender_Base_Class: URM Detected 627 ( 4.8%) users with no interactions.\n",
      "Recommender_Base_Class: URM Detected 247 ( 1.1%) items with no interactions.\n",
      "EvaluatorHoldout: Processed 10456 (100.0%) in 21.98 sec. Users per second: 476\n"
     ]
    },
    {
     "name": "stderr",
     "output_type": "stream",
     "text": [
      "[I 2023-12-09 00:31:37,174] Trial 281 finished with value: 0.05126048611870216 and parameters: {'coarse_recommender': 'merging', 'use_3_levels': False, 'cutoff': 163, 'final_recommender_c1:merging': 'slim'}. Best is trial 152 with value: 0.05132359638576222.\n"
     ]
    },
    {
     "name": "stdout",
     "output_type": "stream",
     "text": [
      "Recommender_Base_Class: URM Detected 627 ( 4.8%) users with no interactions.\n",
      "Recommender_Base_Class: URM Detected 247 ( 1.1%) items with no interactions.\n",
      "EvaluatorHoldout: Processed 10456 (100.0%) in 21.99 sec. Users per second: 475\n"
     ]
    },
    {
     "name": "stderr",
     "output_type": "stream",
     "text": [
      "[I 2023-12-09 00:31:59,372] Trial 282 finished with value: 0.05125943485019679 and parameters: {'coarse_recommender': 'merging', 'use_3_levels': False, 'cutoff': 288, 'final_recommender_c1:merging': 'slim'}. Best is trial 152 with value: 0.05132359638576222.\n"
     ]
    },
    {
     "name": "stdout",
     "output_type": "stream",
     "text": [
      "Recommender_Base_Class: URM Detected 627 ( 4.8%) users with no interactions.\n",
      "Recommender_Base_Class: URM Detected 247 ( 1.1%) items with no interactions.\n",
      "EvaluatorHoldout: Processed 10456 (100.0%) in 22.07 sec. Users per second: 474\n"
     ]
    },
    {
     "name": "stderr",
     "output_type": "stream",
     "text": [
      "[I 2023-12-09 00:32:21,657] Trial 283 finished with value: 0.05124936999793607 and parameters: {'coarse_recommender': 'merging', 'use_3_levels': False, 'cutoff': 104, 'final_recommender_c1:merging': 'slim'}. Best is trial 152 with value: 0.05132359638576222.\n"
     ]
    },
    {
     "name": "stdout",
     "output_type": "stream",
     "text": [
      "Recommender_Base_Class: URM Detected 627 ( 4.8%) users with no interactions.\n",
      "Recommender_Base_Class: URM Detected 247 ( 1.1%) items with no interactions.\n",
      "EvaluatorHoldout: Processed 10456 (100.0%) in 34.96 sec. Users per second: 299\n"
     ]
    },
    {
     "name": "stderr",
     "output_type": "stream",
     "text": [
      "[I 2023-12-09 00:32:56,860] Trial 284 finished with value: 0.037494553897815475 and parameters: {'coarse_recommender': 'merging', 'use_3_levels': True, 'coarse_2_recommender_c1:merging': 'easeR', 'final_recommender_c1:merging_c2:easeR': 'userKnn', 'cutoff1': 1094, 'cutoff2': 747}. Best is trial 152 with value: 0.05132359638576222.\n"
     ]
    },
    {
     "name": "stdout",
     "output_type": "stream",
     "text": [
      "Recommender_Base_Class: URM Detected 627 ( 4.8%) users with no interactions.\n",
      "Recommender_Base_Class: URM Detected 247 ( 1.1%) items with no interactions.\n",
      "EvaluatorHoldout: Processed 10456 (100.0%) in 21.91 sec. Users per second: 477\n"
     ]
    },
    {
     "name": "stderr",
     "output_type": "stream",
     "text": [
      "[I 2023-12-09 00:33:18,978] Trial 285 finished with value: 0.05132359638576222 and parameters: {'coarse_recommender': 'merging', 'use_3_levels': False, 'cutoff': 51, 'final_recommender_c1:merging': 'slim'}. Best is trial 152 with value: 0.05132359638576222.\n"
     ]
    },
    {
     "name": "stdout",
     "output_type": "stream",
     "text": [
      "Recommender_Base_Class: URM Detected 627 ( 4.8%) users with no interactions.\n",
      "Recommender_Base_Class: URM Detected 247 ( 1.1%) items with no interactions.\n",
      "EvaluatorHoldout: Processed 10456 (100.0%) in 38.07 sec. Users per second: 275\n"
     ]
    },
    {
     "name": "stderr",
     "output_type": "stream",
     "text": [
      "[I 2023-12-09 00:33:57,263] Trial 286 finished with value: 0.047233137197751435 and parameters: {'coarse_recommender': 'ials', 'use_3_levels': False, 'cutoff': 50, 'final_recommender_c1:ials': 'itemKnn'}. Best is trial 152 with value: 0.05132359638576222.\n"
     ]
    },
    {
     "name": "stdout",
     "output_type": "stream",
     "text": [
      "Recommender_Base_Class: URM Detected 627 ( 4.8%) users with no interactions.\n",
      "Recommender_Base_Class: URM Detected 247 ( 1.1%) items with no interactions.\n",
      "EvaluatorHoldout: Processed 10456 (100.0%) in 22.10 sec. Users per second: 473\n"
     ]
    },
    {
     "name": "stderr",
     "output_type": "stream",
     "text": [
      "[I 2023-12-09 00:34:19,579] Trial 287 finished with value: 0.0512595297300258 and parameters: {'coarse_recommender': 'merging', 'use_3_levels': False, 'cutoff': 168, 'final_recommender_c1:merging': 'slim'}. Best is trial 152 with value: 0.05132359638576222.\n"
     ]
    },
    {
     "name": "stdout",
     "output_type": "stream",
     "text": [
      "Recommender_Base_Class: URM Detected 627 ( 4.8%) users with no interactions.\n",
      "Recommender_Base_Class: URM Detected 247 ( 1.1%) items with no interactions.\n",
      "EvaluatorHoldout: Processed 10456 (100.0%) in 22.51 sec. Users per second: 465\n"
     ]
    },
    {
     "name": "stderr",
     "output_type": "stream",
     "text": [
      "[I 2023-12-09 00:34:42,298] Trial 288 finished with value: 0.037237805285338064 and parameters: {'coarse_recommender': 'merging', 'use_3_levels': False, 'cutoff': 1066, 'final_recommender_c1:merging': 'userKnn'}. Best is trial 152 with value: 0.05132359638576222.\n"
     ]
    },
    {
     "name": "stdout",
     "output_type": "stream",
     "text": [
      "Recommender_Base_Class: URM Detected 627 ( 4.8%) users with no interactions.\n",
      "Recommender_Base_Class: URM Detected 247 ( 1.1%) items with no interactions.\n",
      "EvaluatorHoldout: Processed 10456 (100.0%) in 25.59 sec. Users per second: 409\n"
     ]
    },
    {
     "name": "stderr",
     "output_type": "stream",
     "text": [
      "[I 2023-12-09 00:35:08,112] Trial 289 finished with value: 0.04763065711492506 and parameters: {'coarse_recommender': 'userKnn', 'use_3_levels': False, 'cutoff': 229, 'final_recommender_c1:userKnn': 'rp3'}. Best is trial 152 with value: 0.05132359638576222.\n"
     ]
    },
    {
     "name": "stdout",
     "output_type": "stream",
     "text": [
      "Recommender_Base_Class: URM Detected 627 ( 4.8%) users with no interactions.\n",
      "Recommender_Base_Class: URM Detected 247 ( 1.1%) items with no interactions.\n",
      "EvaluatorHoldout: Processed 10456 (100.0%) in 19.27 sec. Users per second: 543\n"
     ]
    },
    {
     "name": "stderr",
     "output_type": "stream",
     "text": [
      "[I 2023-12-09 00:35:27,590] Trial 290 finished with value: 0.04785129825967675 and parameters: {'coarse_recommender': 'merging', 'use_3_levels': False, 'cutoff': 107, 'final_recommender_c1:merging': 'alpha'}. Best is trial 152 with value: 0.05132359638576222.\n"
     ]
    },
    {
     "name": "stdout",
     "output_type": "stream",
     "text": [
      "Recommender_Base_Class: URM Detected 627 ( 4.8%) users with no interactions.\n",
      "Recommender_Base_Class: URM Detected 247 ( 1.1%) items with no interactions.\n",
      "EvaluatorHoldout: Processed 10456 (100.0%) in 19.13 sec. Users per second: 547\n"
     ]
    },
    {
     "name": "stderr",
     "output_type": "stream",
     "text": [
      "[I 2023-12-09 00:35:46,923] Trial 291 finished with value: 0.04895581332507566 and parameters: {'coarse_recommender': 'rp3', 'use_3_levels': False, 'cutoff': 50, 'final_recommender_c1:rp3': 'itemKnn'}. Best is trial 152 with value: 0.05132359638576222.\n"
     ]
    },
    {
     "name": "stdout",
     "output_type": "stream",
     "text": [
      "Recommender_Base_Class: URM Detected 627 ( 4.8%) users with no interactions.\n",
      "Recommender_Base_Class: URM Detected 247 ( 1.1%) items with no interactions.\n",
      "EvaluatorHoldout: Processed 10456 (100.0%) in 24.11 sec. Users per second: 434\n"
     ]
    },
    {
     "name": "stderr",
     "output_type": "stream",
     "text": [
      "[I 2023-12-09 00:36:11,249] Trial 292 finished with value: 0.04482851419705923 and parameters: {'coarse_recommender': 'itemKnn', 'use_3_levels': False, 'cutoff': 148, 'final_recommender_c1:itemKnn': 'easeR'}. Best is trial 152 with value: 0.05132359638576222.\n"
     ]
    },
    {
     "name": "stdout",
     "output_type": "stream",
     "text": [
      "Recommender_Base_Class: URM Detected 627 ( 4.8%) users with no interactions.\n",
      "Recommender_Base_Class: URM Detected 247 ( 1.1%) items with no interactions.\n",
      "EvaluatorHoldout: Processed 10456 (100.0%) in 21.91 sec. Users per second: 477\n"
     ]
    },
    {
     "name": "stderr",
     "output_type": "stream",
     "text": [
      "[I 2023-12-09 00:36:33,358] Trial 293 finished with value: 0.05125382934989925 and parameters: {'coarse_recommender': 'merging', 'use_3_levels': False, 'cutoff': 99, 'final_recommender_c1:merging': 'slim'}. Best is trial 152 with value: 0.05132359638576222.\n"
     ]
    },
    {
     "name": "stdout",
     "output_type": "stream",
     "text": [
      "Recommender_Base_Class: URM Detected 627 ( 4.8%) users with no interactions.\n",
      "Recommender_Base_Class: URM Detected 247 ( 1.1%) items with no interactions.\n",
      "EvaluatorHoldout: Processed 10456 (100.0%) in 21.90 sec. Users per second: 477\n"
     ]
    },
    {
     "name": "stderr",
     "output_type": "stream",
     "text": [
      "[I 2023-12-09 00:36:55,460] Trial 294 finished with value: 0.05126111612076673 and parameters: {'coarse_recommender': 'merging', 'use_3_levels': False, 'cutoff': 214, 'final_recommender_c1:merging': 'slim'}. Best is trial 152 with value: 0.05132359638576222.\n"
     ]
    },
    {
     "name": "stdout",
     "output_type": "stream",
     "text": [
      "Recommender_Base_Class: URM Detected 627 ( 4.8%) users with no interactions.\n",
      "Recommender_Base_Class: URM Detected 247 ( 1.1%) items with no interactions.\n",
      "EvaluatorHoldout: Processed 10456 (100.0%) in 24.47 sec. Users per second: 427\n"
     ]
    },
    {
     "name": "stderr",
     "output_type": "stream",
     "text": [
      "[I 2023-12-09 00:37:20,138] Trial 295 finished with value: 0.0422622311485171 and parameters: {'coarse_recommender': 'merging', 'use_3_levels': False, 'cutoff': 1610, 'final_recommender_c1:merging': 'ials'}. Best is trial 152 with value: 0.05132359638576222.\n"
     ]
    },
    {
     "name": "stdout",
     "output_type": "stream",
     "text": [
      "Recommender_Base_Class: URM Detected 627 ( 4.8%) users with no interactions.\n",
      "Recommender_Base_Class: URM Detected 247 ( 1.1%) items with no interactions.\n",
      "EvaluatorHoldout: Processed 10456 (100.0%) in 21.71 sec. Users per second: 482\n"
     ]
    },
    {
     "name": "stderr",
     "output_type": "stream",
     "text": [
      "[I 2023-12-09 00:37:42,049] Trial 296 finished with value: 0.05124936999793607 and parameters: {'coarse_recommender': 'merging', 'use_3_levels': False, 'cutoff': 105, 'final_recommender_c1:merging': 'slim'}. Best is trial 152 with value: 0.05132359638576222.\n"
     ]
    },
    {
     "name": "stdout",
     "output_type": "stream",
     "text": [
      "Recommender_Base_Class: URM Detected 627 ( 4.8%) users with no interactions.\n",
      "Recommender_Base_Class: URM Detected 247 ( 1.1%) items with no interactions.\n",
      "EvaluatorHoldout: Processed 10456 (100.0%) in 18.87 sec. Users per second: 554\n"
     ]
    },
    {
     "name": "stderr",
     "output_type": "stream",
     "text": [
      "[I 2023-12-09 00:38:01,121] Trial 297 finished with value: 0.04888449785040326 and parameters: {'coarse_recommender': 'alpha', 'use_3_levels': False, 'cutoff': 147, 'final_recommender_c1:alpha': 'rp3'}. Best is trial 152 with value: 0.05132359638576222.\n"
     ]
    },
    {
     "name": "stdout",
     "output_type": "stream",
     "text": [
      "Recommender_Base_Class: URM Detected 627 ( 4.8%) users with no interactions.\n",
      "Recommender_Base_Class: URM Detected 247 ( 1.1%) items with no interactions.\n",
      "EvaluatorHoldout: Processed 10456 (100.0%) in 21.81 sec. Users per second: 480\n"
     ]
    },
    {
     "name": "stderr",
     "output_type": "stream",
     "text": [
      "[I 2023-12-09 00:38:23,126] Trial 298 finished with value: 0.05124921059982335 and parameters: {'coarse_recommender': 'merging', 'use_3_levels': False, 'cutoff': 102, 'final_recommender_c1:merging': 'slim'}. Best is trial 152 with value: 0.05132359638576222.\n"
     ]
    },
    {
     "name": "stdout",
     "output_type": "stream",
     "text": [
      "Recommender_Base_Class: URM Detected 627 ( 4.8%) users with no interactions.\n",
      "Recommender_Base_Class: URM Detected 247 ( 1.1%) items with no interactions.\n",
      "EvaluatorHoldout: Processed 10456 (100.0%) in 21.72 sec. Users per second: 481\n"
     ]
    },
    {
     "name": "stderr",
     "output_type": "stream",
     "text": [
      "[I 2023-12-09 00:38:45,051] Trial 299 finished with value: 0.051261548772787 and parameters: {'coarse_recommender': 'merging', 'use_3_levels': False, 'cutoff': 175, 'final_recommender_c1:merging': 'slim'}. Best is trial 152 with value: 0.05132359638576222.\n"
     ]
    },
    {
     "name": "stdout",
     "output_type": "stream",
     "text": [
      "Recommender_Base_Class: URM Detected 627 ( 4.8%) users with no interactions.\n",
      "Recommender_Base_Class: URM Detected 247 ( 1.1%) items with no interactions.\n",
      "EvaluatorHoldout: Processed 10456 (100.0%) in 21.83 sec. Users per second: 479\n"
     ]
    },
    {
     "name": "stderr",
     "output_type": "stream",
     "text": [
      "[I 2023-12-09 00:39:07,092] Trial 300 finished with value: 0.05131813130761162 and parameters: {'coarse_recommender': 'merging', 'use_3_levels': False, 'cutoff': 54, 'final_recommender_c1:merging': 'slim'}. Best is trial 152 with value: 0.05132359638576222.\n"
     ]
    },
    {
     "name": "stdout",
     "output_type": "stream",
     "text": [
      "Recommender_Base_Class: URM Detected 627 ( 4.8%) users with no interactions.\n",
      "Recommender_Base_Class: URM Detected 247 ( 1.1%) items with no interactions.\n",
      "EvaluatorHoldout: Processed 10456 (100.0%) in 22.79 sec. Users per second: 459\n"
     ]
    },
    {
     "name": "stderr",
     "output_type": "stream",
     "text": [
      "[I 2023-12-09 00:39:30,079] Trial 301 finished with value: 0.051245054863312975 and parameters: {'coarse_recommender': 'merging', 'use_3_levels': False, 'cutoff': 2228, 'final_recommender_c1:merging': 'slim'}. Best is trial 152 with value: 0.05132359638576222.\n"
     ]
    },
    {
     "name": "stdout",
     "output_type": "stream",
     "text": [
      "Recommender_Base_Class: URM Detected 627 ( 4.8%) users with no interactions.\n",
      "Recommender_Base_Class: URM Detected 247 ( 1.1%) items with no interactions.\n",
      "EvaluatorHoldout: Processed 10456 (100.0%) in 25.96 sec. Users per second: 403\n"
     ]
    },
    {
     "name": "stderr",
     "output_type": "stream",
     "text": [
      "[I 2023-12-09 00:39:56,280] Trial 302 finished with value: 0.04785586767224155 and parameters: {'coarse_recommender': 'merging', 'use_3_levels': True, 'coarse_2_recommender_c1:merging': 'rp3', 'final_recommender_c1:merging_c2:rp3': 'alpha', 'cutoff1': 209, 'cutoff2': 52}. Best is trial 152 with value: 0.05132359638576222.\n"
     ]
    },
    {
     "name": "stdout",
     "output_type": "stream",
     "text": [
      "Recommender_Base_Class: URM Detected 627 ( 4.8%) users with no interactions.\n",
      "Recommender_Base_Class: URM Detected 247 ( 1.1%) items with no interactions.\n",
      "EvaluatorHoldout: Processed 10456 (100.0%) in 21.79 sec. Users per second: 480\n"
     ]
    },
    {
     "name": "stderr",
     "output_type": "stream",
     "text": [
      "[I 2023-12-09 00:40:18,277] Trial 303 finished with value: 0.05132359638576222 and parameters: {'coarse_recommender': 'merging', 'use_3_levels': False, 'cutoff': 51, 'final_recommender_c1:merging': 'slim'}. Best is trial 152 with value: 0.05132359638576222.\n"
     ]
    },
    {
     "name": "stdout",
     "output_type": "stream",
     "text": [
      "Recommender_Base_Class: URM Detected 627 ( 4.8%) users with no interactions.\n",
      "Recommender_Base_Class: URM Detected 247 ( 1.1%) items with no interactions.\n",
      "EvaluatorHoldout: Processed 10456 (100.0%) in 19.18 sec. Users per second: 545\n"
     ]
    },
    {
     "name": "stderr",
     "output_type": "stream",
     "text": [
      "[I 2023-12-09 00:40:37,670] Trial 304 finished with value: 0.049157884589694695 and parameters: {'coarse_recommender': 'merging', 'use_3_levels': False, 'cutoff': 108, 'final_recommender_c1:merging': 'rp3'}. Best is trial 152 with value: 0.05132359638576222.\n"
     ]
    },
    {
     "name": "stdout",
     "output_type": "stream",
     "text": [
      "Recommender_Base_Class: URM Detected 627 ( 4.8%) users with no interactions.\n",
      "Recommender_Base_Class: URM Detected 247 ( 1.1%) items with no interactions.\n",
      "EvaluatorHoldout: Processed 10456 (100.0%) in 25.81 sec. Users per second: 405\n"
     ]
    },
    {
     "name": "stderr",
     "output_type": "stream",
     "text": [
      "[I 2023-12-09 00:41:03,684] Trial 305 finished with value: 0.04875119928103935 and parameters: {'coarse_recommender': 'easeR', 'use_3_levels': False, 'cutoff': 224, 'final_recommender_c1:easeR': 'itemKnn'}. Best is trial 152 with value: 0.05132359638576222.\n"
     ]
    },
    {
     "name": "stdout",
     "output_type": "stream",
     "text": [
      "Recommender_Base_Class: URM Detected 627 ( 4.8%) users with no interactions.\n",
      "Recommender_Base_Class: URM Detected 247 ( 1.1%) items with no interactions.\n",
      "EvaluatorHoldout: Processed 10456 (100.0%) in 22.07 sec. Users per second: 474\n"
     ]
    },
    {
     "name": "stderr",
     "output_type": "stream",
     "text": [
      "[I 2023-12-09 00:41:25,955] Trial 306 finished with value: 0.051251916572546526 and parameters: {'coarse_recommender': 'merging', 'use_3_levels': False, 'cutoff': 150, 'final_recommender_c1:merging': 'slim'}. Best is trial 152 with value: 0.05132359638576222.\n"
     ]
    },
    {
     "name": "stdout",
     "output_type": "stream",
     "text": [
      "Recommender_Base_Class: URM Detected 627 ( 4.8%) users with no interactions.\n",
      "Recommender_Base_Class: URM Detected 247 ( 1.1%) items with no interactions.\n",
      "EvaluatorHoldout: Processed 10456 (100.0%) in 21.73 sec. Users per second: 481\n"
     ]
    },
    {
     "name": "stderr",
     "output_type": "stream",
     "text": [
      "[I 2023-12-09 00:41:47,889] Trial 307 finished with value: 0.05131493955016393 and parameters: {'coarse_recommender': 'merging', 'use_3_levels': False, 'cutoff': 52, 'final_recommender_c1:merging': 'slim'}. Best is trial 152 with value: 0.05132359638576222.\n"
     ]
    },
    {
     "name": "stdout",
     "output_type": "stream",
     "text": [
      "Recommender_Base_Class: URM Detected 627 ( 4.8%) users with no interactions.\n",
      "Recommender_Base_Class: URM Detected 247 ( 1.1%) items with no interactions.\n",
      "EvaluatorHoldout: Processed 10456 (100.0%) in 21.81 sec. Users per second: 480\n"
     ]
    },
    {
     "name": "stderr",
     "output_type": "stream",
     "text": [
      "[I 2023-12-09 00:42:09,907] Trial 308 finished with value: 0.05124594673370562 and parameters: {'coarse_recommender': 'merging', 'use_3_levels': False, 'cutoff': 108, 'final_recommender_c1:merging': 'slim'}. Best is trial 152 with value: 0.05132359638576222.\n"
     ]
    },
    {
     "name": "stdout",
     "output_type": "stream",
     "text": [
      "Recommender_Base_Class: URM Detected 627 ( 4.8%) users with no interactions.\n",
      "Recommender_Base_Class: URM Detected 247 ( 1.1%) items with no interactions.\n",
      "EvaluatorHoldout: Processed 10456 (100.0%) in 30.30 sec. Users per second: 345\n"
     ]
    },
    {
     "name": "stderr",
     "output_type": "stream",
     "text": [
      "[I 2023-12-09 00:42:40,420] Trial 309 finished with value: 0.04167206343134099 and parameters: {'coarse_recommender': 'slim', 'use_3_levels': False, 'cutoff': 168, 'final_recommender_c1:slim': 'ials'}. Best is trial 152 with value: 0.05132359638576222.\n"
     ]
    },
    {
     "name": "stdout",
     "output_type": "stream",
     "text": [
      "Recommender_Base_Class: URM Detected 627 ( 4.8%) users with no interactions.\n",
      "Recommender_Base_Class: URM Detected 247 ( 1.1%) items with no interactions.\n",
      "EvaluatorHoldout: Processed 10456 (100.0%) in 19.41 sec. Users per second: 539\n"
     ]
    },
    {
     "name": "stderr",
     "output_type": "stream",
     "text": [
      "[I 2023-12-09 00:43:00,055] Trial 310 finished with value: 0.04871011251988754 and parameters: {'coarse_recommender': 'merging', 'use_3_levels': False, 'cutoff': 100, 'final_recommender_c1:merging': 'itemKnn'}. Best is trial 152 with value: 0.05132359638576222.\n"
     ]
    },
    {
     "name": "stdout",
     "output_type": "stream",
     "text": [
      "Recommender_Base_Class: URM Detected 627 ( 4.8%) users with no interactions.\n",
      "Recommender_Base_Class: URM Detected 247 ( 1.1%) items with no interactions.\n",
      "EvaluatorHoldout: Processed 10456 (100.0%) in 21.81 sec. Users per second: 479\n"
     ]
    },
    {
     "name": "stderr",
     "output_type": "stream",
     "text": [
      "[I 2023-12-09 00:43:22,063] Trial 311 finished with value: 0.05132359638576222 and parameters: {'coarse_recommender': 'merging', 'use_3_levels': False, 'cutoff': 51, 'final_recommender_c1:merging': 'slim'}. Best is trial 152 with value: 0.05132359638576222.\n"
     ]
    },
    {
     "name": "stdout",
     "output_type": "stream",
     "text": [
      "Recommender_Base_Class: URM Detected 627 ( 4.8%) users with no interactions.\n",
      "Recommender_Base_Class: URM Detected 247 ( 1.1%) items with no interactions.\n",
      "EvaluatorHoldout: Processed 10456 (100.0%) in 22.63 sec. Users per second: 462\n"
     ]
    },
    {
     "name": "stderr",
     "output_type": "stream",
     "text": [
      "[I 2023-12-09 00:43:44,903] Trial 312 finished with value: 0.051245054863312975 and parameters: {'coarse_recommender': 'merging', 'use_3_levels': False, 'cutoff': 1990, 'final_recommender_c1:merging': 'slim'}. Best is trial 152 with value: 0.05132359638576222.\n"
     ]
    },
    {
     "name": "stdout",
     "output_type": "stream",
     "text": [
      "Recommender_Base_Class: URM Detected 627 ( 4.8%) users with no interactions.\n",
      "Recommender_Base_Class: URM Detected 247 ( 1.1%) items with no interactions.\n",
      "EvaluatorHoldout: Processed 10456 (100.0%) in 22.04 sec. Users per second: 474\n"
     ]
    },
    {
     "name": "stderr",
     "output_type": "stream",
     "text": [
      "[I 2023-12-09 00:44:07,154] Trial 313 finished with value: 0.0512599472012734 and parameters: {'coarse_recommender': 'merging', 'use_3_levels': False, 'cutoff': 247, 'final_recommender_c1:merging': 'slim'}. Best is trial 152 with value: 0.05132359638576222.\n"
     ]
    },
    {
     "name": "stdout",
     "output_type": "stream",
     "text": [
      "Recommender_Base_Class: URM Detected 627 ( 4.8%) users with no interactions.\n",
      "Recommender_Base_Class: URM Detected 247 ( 1.1%) items with no interactions.\n",
      "EvaluatorHoldout: Processed 10456 (100.0%) in 22.77 sec. Users per second: 459\n"
     ]
    },
    {
     "name": "stderr",
     "output_type": "stream",
     "text": [
      "[I 2023-12-09 00:44:30,131] Trial 314 finished with value: 0.05124518769507358 and parameters: {'coarse_recommender': 'merging', 'use_3_levels': False, 'cutoff': 1785, 'final_recommender_c1:merging': 'slim'}. Best is trial 152 with value: 0.05132359638576222.\n"
     ]
    },
    {
     "name": "stdout",
     "output_type": "stream",
     "text": [
      "Recommender_Base_Class: URM Detected 627 ( 4.8%) users with no interactions.\n",
      "Recommender_Base_Class: URM Detected 247 ( 1.1%) items with no interactions.\n",
      "EvaluatorHoldout: Processed 10456 (100.0%) in 24.65 sec. Users per second: 424\n"
     ]
    },
    {
     "name": "stderr",
     "output_type": "stream",
     "text": [
      "[I 2023-12-09 00:44:54,989] Trial 315 finished with value: 0.04490286203106659 and parameters: {'coarse_recommender': 'merging', 'use_3_levels': False, 'cutoff': 187, 'final_recommender_c1:merging': 'easeR'}. Best is trial 152 with value: 0.05132359638576222.\n"
     ]
    },
    {
     "name": "stdout",
     "output_type": "stream",
     "text": [
      "Recommender_Base_Class: URM Detected 627 ( 4.8%) users with no interactions.\n",
      "Recommender_Base_Class: URM Detected 247 ( 1.1%) items with no interactions.\n",
      "EvaluatorHoldout: Processed 10456 (100.0%) in 40.74 sec. Users per second: 257\n"
     ]
    },
    {
     "name": "stderr",
     "output_type": "stream",
     "text": [
      "[I 2023-12-09 00:45:35,937] Trial 316 finished with value: 0.050813363026925296 and parameters: {'coarse_recommender': 'ials', 'use_3_levels': False, 'cutoff': 304, 'final_recommender_c1:ials': 'slim'}. Best is trial 152 with value: 0.05132359638576222.\n"
     ]
    },
    {
     "name": "stdout",
     "output_type": "stream",
     "text": [
      "Recommender_Base_Class: URM Detected 627 ( 4.8%) users with no interactions.\n",
      "Recommender_Base_Class: URM Detected 247 ( 1.1%) items with no interactions.\n",
      "EvaluatorHoldout: Processed 10456 (100.0%) in 22.06 sec. Users per second: 474\n"
     ]
    },
    {
     "name": "stderr",
     "output_type": "stream",
     "text": [
      "[I 2023-12-09 00:45:58,200] Trial 317 finished with value: 0.05124594673370562 and parameters: {'coarse_recommender': 'merging', 'use_3_levels': False, 'cutoff': 109, 'final_recommender_c1:merging': 'slim'}. Best is trial 152 with value: 0.05132359638576222.\n"
     ]
    },
    {
     "name": "stdout",
     "output_type": "stream",
     "text": [
      "Recommender_Base_Class: URM Detected 627 ( 4.8%) users with no interactions.\n",
      "Recommender_Base_Class: URM Detected 247 ( 1.1%) items with no interactions.\n",
      "EvaluatorHoldout: Processed 10456 (100.0%) in 21.80 sec. Users per second: 480\n"
     ]
    },
    {
     "name": "stderr",
     "output_type": "stream",
     "text": [
      "[I 2023-12-09 00:46:20,215] Trial 318 finished with value: 0.05132359638576222 and parameters: {'coarse_recommender': 'merging', 'use_3_levels': False, 'cutoff': 51, 'final_recommender_c1:merging': 'slim'}. Best is trial 152 with value: 0.05132359638576222.\n"
     ]
    },
    {
     "name": "stdout",
     "output_type": "stream",
     "text": [
      "Recommender_Base_Class: URM Detected 627 ( 4.8%) users with no interactions.\n",
      "Recommender_Base_Class: URM Detected 247 ( 1.1%) items with no interactions.\n",
      "EvaluatorHoldout: Processed 10456 (100.0%) in 21.96 sec. Users per second: 476\n"
     ]
    },
    {
     "name": "stderr",
     "output_type": "stream",
     "text": [
      "[I 2023-12-09 00:46:42,400] Trial 319 finished with value: 0.051251916572546526 and parameters: {'coarse_recommender': 'merging', 'use_3_levels': False, 'cutoff': 149, 'final_recommender_c1:merging': 'slim'}. Best is trial 152 with value: 0.05132359638576222.\n"
     ]
    },
    {
     "name": "stdout",
     "output_type": "stream",
     "text": [
      "Recommender_Base_Class: URM Detected 627 ( 4.8%) users with no interactions.\n",
      "Recommender_Base_Class: URM Detected 247 ( 1.1%) items with no interactions.\n",
      "EvaluatorHoldout: Processed 10456 (100.0%) in 22.74 sec. Users per second: 460\n"
     ]
    },
    {
     "name": "stderr",
     "output_type": "stream",
     "text": [
      "[I 2023-12-09 00:47:05,347] Trial 320 finished with value: 0.04347909531703585 and parameters: {'coarse_recommender': 'rp3', 'use_3_levels': False, 'cutoff': 51, 'final_recommender_c1:rp3': 'ials'}. Best is trial 152 with value: 0.05132359638576222.\n"
     ]
    },
    {
     "name": "stdout",
     "output_type": "stream",
     "text": [
      "Recommender_Base_Class: URM Detected 627 ( 4.8%) users with no interactions.\n",
      "Recommender_Base_Class: URM Detected 247 ( 1.1%) items with no interactions.\n",
      "EvaluatorHoldout: Processed 10456 (100.0%) in 21.91 sec. Users per second: 477\n"
     ]
    },
    {
     "name": "stderr",
     "output_type": "stream",
     "text": [
      "[I 2023-12-09 00:47:27,454] Trial 321 finished with value: 0.051244830946916536 and parameters: {'coarse_recommender': 'merging', 'use_3_levels': False, 'cutoff': 112, 'final_recommender_c1:merging': 'slim'}. Best is trial 152 with value: 0.05132359638576222.\n"
     ]
    },
    {
     "name": "stdout",
     "output_type": "stream",
     "text": [
      "Recommender_Base_Class: URM Detected 627 ( 4.8%) users with no interactions.\n",
      "Recommender_Base_Class: URM Detected 247 ( 1.1%) items with no interactions.\n",
      "EvaluatorHoldout: Processed 10456 (100.0%) in 30.53 sec. Users per second: 342\n"
     ]
    },
    {
     "name": "stderr",
     "output_type": "stream",
     "text": [
      "[I 2023-12-09 00:47:58,221] Trial 322 finished with value: 0.04882891345137957 and parameters: {'coarse_recommender': 'merging', 'use_3_levels': True, 'coarse_2_recommender_c1:merging': 'ials', 'final_recommender_c1:merging_c2:ials': 'rp3', 'cutoff1': 414, 'cutoff2': 84}. Best is trial 152 with value: 0.05132359638576222.\n"
     ]
    },
    {
     "name": "stdout",
     "output_type": "stream",
     "text": [
      "Recommender_Base_Class: URM Detected 627 ( 4.8%) users with no interactions.\n",
      "Recommender_Base_Class: URM Detected 247 ( 1.1%) items with no interactions.\n",
      "EvaluatorHoldout: Processed 10456 (100.0%) in 19.31 sec. Users per second: 542\n"
     ]
    },
    {
     "name": "stderr",
     "output_type": "stream",
     "text": [
      "[I 2023-12-09 00:48:17,728] Trial 323 finished with value: 0.04998232199026075 and parameters: {'coarse_recommender': 'itemKnn', 'use_3_levels': False, 'cutoff': 193, 'final_recommender_c1:itemKnn': 'merging'}. Best is trial 152 with value: 0.05132359638576222.\n"
     ]
    },
    {
     "name": "stdout",
     "output_type": "stream",
     "text": [
      "Recommender_Base_Class: URM Detected 627 ( 4.8%) users with no interactions.\n",
      "Recommender_Base_Class: URM Detected 247 ( 1.1%) items with no interactions.\n",
      "EvaluatorHoldout: Processed 10456 (100.0%) in 25.42 sec. Users per second: 411\n"
     ]
    },
    {
     "name": "stderr",
     "output_type": "stream",
     "text": [
      "[I 2023-12-09 00:48:43,359] Trial 324 finished with value: 0.04555960502665815 and parameters: {'coarse_recommender': 'userKnn', 'use_3_levels': False, 'cutoff': 51, 'final_recommender_c1:userKnn': 'merging'}. Best is trial 152 with value: 0.05132359638576222.\n"
     ]
    },
    {
     "name": "stdout",
     "output_type": "stream",
     "text": [
      "Recommender_Base_Class: URM Detected 627 ( 4.8%) users with no interactions.\n",
      "Recommender_Base_Class: URM Detected 247 ( 1.1%) items with no interactions.\n",
      "EvaluatorHoldout: Processed 10456 (100.0%) in 22.00 sec. Users per second: 475\n"
     ]
    },
    {
     "name": "stderr",
     "output_type": "stream",
     "text": [
      "[I 2023-12-09 00:49:05,578] Trial 325 finished with value: 0.05125446694235014 and parameters: {'coarse_recommender': 'merging', 'use_3_levels': False, 'cutoff': 142, 'final_recommender_c1:merging': 'slim'}. Best is trial 152 with value: 0.05132359638576222.\n"
     ]
    },
    {
     "name": "stdout",
     "output_type": "stream",
     "text": [
      "Recommender_Base_Class: URM Detected 627 ( 4.8%) users with no interactions.\n",
      "Recommender_Base_Class: URM Detected 247 ( 1.1%) items with no interactions.\n",
      "EvaluatorHoldout: Processed 10456 (100.0%) in 22.18 sec. Users per second: 471\n"
     ]
    },
    {
     "name": "stderr",
     "output_type": "stream",
     "text": [
      "[I 2023-12-09 00:49:27,963] Trial 326 finished with value: 0.0512491574671191 and parameters: {'coarse_recommender': 'merging', 'use_3_levels': False, 'cutoff': 107, 'final_recommender_c1:merging': 'slim'}. Best is trial 152 with value: 0.05132359638576222.\n"
     ]
    },
    {
     "name": "stdout",
     "output_type": "stream",
     "text": [
      "Recommender_Base_Class: URM Detected 627 ( 4.8%) users with no interactions.\n",
      "Recommender_Base_Class: URM Detected 247 ( 1.1%) items with no interactions.\n",
      "EvaluatorHoldout: Processed 10456 (100.0%) in 21.64 sec. Users per second: 483\n"
     ]
    },
    {
     "name": "stderr",
     "output_type": "stream",
     "text": [
      "[I 2023-12-09 00:49:49,803] Trial 327 finished with value: 0.04021273955259269 and parameters: {'coarse_recommender': 'alpha', 'use_3_levels': False, 'cutoff': 50, 'final_recommender_c1:alpha': 'userKnn'}. Best is trial 152 with value: 0.05132359638576222.\n"
     ]
    },
    {
     "name": "stdout",
     "output_type": "stream",
     "text": [
      "Recommender_Base_Class: URM Detected 627 ( 4.8%) users with no interactions.\n",
      "Recommender_Base_Class: URM Detected 247 ( 1.1%) items with no interactions.\n",
      "EvaluatorHoldout: Processed 10456 (100.0%) in 21.81 sec. Users per second: 479\n"
     ]
    },
    {
     "name": "stderr",
     "output_type": "stream",
     "text": [
      "[I 2023-12-09 00:50:11,826] Trial 328 finished with value: 0.0512546149548834 and parameters: {'coarse_recommender': 'merging', 'use_3_levels': False, 'cutoff': 153, 'final_recommender_c1:merging': 'slim'}. Best is trial 152 with value: 0.05132359638576222.\n"
     ]
    },
    {
     "name": "stdout",
     "output_type": "stream",
     "text": [
      "Recommender_Base_Class: URM Detected 627 ( 4.8%) users with no interactions.\n",
      "Recommender_Base_Class: URM Detected 247 ( 1.1%) items with no interactions.\n",
      "EvaluatorHoldout: Processed 10456 (100.0%) in 22.15 sec. Users per second: 472\n"
     ]
    },
    {
     "name": "stderr",
     "output_type": "stream",
     "text": [
      "[I 2023-12-09 00:50:34,208] Trial 329 finished with value: 0.03835711401367518 and parameters: {'coarse_recommender': 'merging', 'use_3_levels': False, 'cutoff': 104, 'final_recommender_c1:merging': 'userKnn'}. Best is trial 152 with value: 0.05132359638576222.\n"
     ]
    },
    {
     "name": "stdout",
     "output_type": "stream",
     "text": [
      "Recommender_Base_Class: URM Detected 627 ( 4.8%) users with no interactions.\n",
      "Recommender_Base_Class: URM Detected 247 ( 1.1%) items with no interactions.\n",
      "EvaluatorHoldout: Processed 10456 (100.0%) in 22.00 sec. Users per second: 475\n"
     ]
    },
    {
     "name": "stderr",
     "output_type": "stream",
     "text": [
      "[I 2023-12-09 00:50:56,413] Trial 330 finished with value: 0.05126111612076673 and parameters: {'coarse_recommender': 'merging', 'use_3_levels': False, 'cutoff': 212, 'final_recommender_c1:merging': 'slim'}. Best is trial 152 with value: 0.05132359638576222.\n"
     ]
    },
    {
     "name": "stdout",
     "output_type": "stream",
     "text": [
      "Recommender_Base_Class: URM Detected 627 ( 4.8%) users with no interactions.\n",
      "Recommender_Base_Class: URM Detected 247 ( 1.1%) items with no interactions.\n",
      "EvaluatorHoldout: Processed 10456 (100.0%) in 21.75 sec. Users per second: 481\n"
     ]
    },
    {
     "name": "stderr",
     "output_type": "stream",
     "text": [
      "[I 2023-12-09 00:51:18,377] Trial 331 finished with value: 0.05132359638576222 and parameters: {'coarse_recommender': 'merging', 'use_3_levels': False, 'cutoff': 51, 'final_recommender_c1:merging': 'slim'}. Best is trial 152 with value: 0.05132359638576222.\n"
     ]
    },
    {
     "name": "stdout",
     "output_type": "stream",
     "text": [
      "Recommender_Base_Class: URM Detected 627 ( 4.8%) users with no interactions.\n",
      "Recommender_Base_Class: URM Detected 247 ( 1.1%) items with no interactions.\n",
      "EvaluatorHoldout: Processed 10456 (100.0%) in 28.39 sec. Users per second: 368\n"
     ]
    },
    {
     "name": "stderr",
     "output_type": "stream",
     "text": [
      "[I 2023-12-09 00:51:46,973] Trial 332 finished with value: 0.03691936960323566 and parameters: {'coarse_recommender': 'easeR', 'use_3_levels': False, 'cutoff': 111, 'final_recommender_c1:easeR': 'userKnn'}. Best is trial 152 with value: 0.05132359638576222.\n"
     ]
    },
    {
     "name": "stdout",
     "output_type": "stream",
     "text": [
      "Recommender_Base_Class: URM Detected 627 ( 4.8%) users with no interactions.\n",
      "Recommender_Base_Class: URM Detected 247 ( 1.1%) items with no interactions.\n",
      "EvaluatorHoldout: Processed 10456 (100.0%) in 21.89 sec. Users per second: 478\n"
     ]
    },
    {
     "name": "stderr",
     "output_type": "stream",
     "text": [
      "[I 2023-12-09 00:52:09,071] Trial 333 finished with value: 0.0512546149548834 and parameters: {'coarse_recommender': 'merging', 'use_3_levels': False, 'cutoff': 154, 'final_recommender_c1:merging': 'slim'}. Best is trial 152 with value: 0.05132359638576222.\n"
     ]
    },
    {
     "name": "stdout",
     "output_type": "stream",
     "text": [
      "Recommender_Base_Class: URM Detected 627 ( 4.8%) users with no interactions.\n",
      "Recommender_Base_Class: URM Detected 247 ( 1.1%) items with no interactions.\n",
      "EvaluatorHoldout: Processed 10456 (100.0%) in 19.27 sec. Users per second: 543\n"
     ]
    },
    {
     "name": "stderr",
     "output_type": "stream",
     "text": [
      "[I 2023-12-09 00:52:28,553] Trial 334 finished with value: 0.04780470846844274 and parameters: {'coarse_recommender': 'merging', 'use_3_levels': False, 'cutoff': 274, 'final_recommender_c1:merging': 'alpha'}. Best is trial 152 with value: 0.05132359638576222.\n"
     ]
    },
    {
     "name": "stdout",
     "output_type": "stream",
     "text": [
      "Recommender_Base_Class: URM Detected 627 ( 4.8%) users with no interactions.\n",
      "Recommender_Base_Class: URM Detected 247 ( 1.1%) items with no interactions.\n",
      "EvaluatorHoldout: Processed 10456 (100.0%) in 21.78 sec. Users per second: 480\n"
     ]
    },
    {
     "name": "stderr",
     "output_type": "stream",
     "text": [
      "[I 2023-12-09 00:52:50,545] Trial 335 finished with value: 0.05124936999793607 and parameters: {'coarse_recommender': 'merging', 'use_3_levels': False, 'cutoff': 105, 'final_recommender_c1:merging': 'slim'}. Best is trial 152 with value: 0.05132359638576222.\n"
     ]
    },
    {
     "name": "stdout",
     "output_type": "stream",
     "text": [
      "Recommender_Base_Class: URM Detected 627 ( 4.8%) users with no interactions.\n",
      "Recommender_Base_Class: URM Detected 247 ( 1.1%) items with no interactions.\n",
      "EvaluatorHoldout: Processed 10456 (100.0%) in 21.84 sec. Users per second: 479\n"
     ]
    },
    {
     "name": "stderr",
     "output_type": "stream",
     "text": [
      "[I 2023-12-09 00:53:12,601] Trial 336 finished with value: 0.05132350150593321 and parameters: {'coarse_recommender': 'merging', 'use_3_levels': False, 'cutoff': 50, 'final_recommender_c1:merging': 'slim'}. Best is trial 152 with value: 0.05132359638576222.\n"
     ]
    },
    {
     "name": "stdout",
     "output_type": "stream",
     "text": [
      "Recommender_Base_Class: URM Detected 627 ( 4.8%) users with no interactions.\n",
      "Recommender_Base_Class: URM Detected 247 ( 1.1%) items with no interactions.\n",
      "EvaluatorHoldout: Processed 10456 (100.0%) in 23.17 sec. Users per second: 451\n"
     ]
    },
    {
     "name": "stderr",
     "output_type": "stream",
     "text": [
      "[I 2023-12-09 00:53:35,984] Trial 337 finished with value: 0.04257804435214591 and parameters: {'coarse_recommender': 'merging', 'use_3_levels': False, 'cutoff': 195, 'final_recommender_c1:merging': 'ials'}. Best is trial 152 with value: 0.05132359638576222.\n"
     ]
    },
    {
     "name": "stdout",
     "output_type": "stream",
     "text": [
      "Recommender_Base_Class: URM Detected 627 ( 4.8%) users with no interactions.\n",
      "Recommender_Base_Class: URM Detected 247 ( 1.1%) items with no interactions.\n",
      "EvaluatorHoldout: Processed 10456 (100.0%) in 21.87 sec. Users per second: 478\n"
     ]
    },
    {
     "name": "stderr",
     "output_type": "stream",
     "text": [
      "[I 2023-12-09 00:53:58,049] Trial 338 finished with value: 0.05132350150593321 and parameters: {'coarse_recommender': 'merging', 'use_3_levels': False, 'cutoff': 50, 'final_recommender_c1:merging': 'slim'}. Best is trial 152 with value: 0.05132359638576222.\n"
     ]
    },
    {
     "name": "stdout",
     "output_type": "stream",
     "text": [
      "Recommender_Base_Class: URM Detected 627 ( 4.8%) users with no interactions.\n",
      "Recommender_Base_Class: URM Detected 247 ( 1.1%) items with no interactions.\n",
      "EvaluatorHoldout: Processed 10456 (100.0%) in 26.36 sec. Users per second: 397\n"
     ]
    },
    {
     "name": "stderr",
     "output_type": "stream",
     "text": [
      "[I 2023-12-09 00:54:24,635] Trial 339 finished with value: 0.04785840665646572 and parameters: {'coarse_recommender': 'slim', 'use_3_levels': False, 'cutoff': 111, 'final_recommender_c1:slim': 'alpha'}. Best is trial 152 with value: 0.05132359638576222.\n"
     ]
    },
    {
     "name": "stdout",
     "output_type": "stream",
     "text": [
      "Recommender_Base_Class: URM Detected 627 ( 4.8%) users with no interactions.\n",
      "Recommender_Base_Class: URM Detected 247 ( 1.1%) items with no interactions.\n",
      "EvaluatorHoldout: Processed 10456 (100.0%) in 22.27 sec. Users per second: 470\n"
     ]
    },
    {
     "name": "stderr",
     "output_type": "stream",
     "text": [
      "[I 2023-12-09 00:54:47,113] Trial 340 finished with value: 0.05124535847876578 and parameters: {'coarse_recommender': 'merging', 'use_3_levels': False, 'cutoff': 935, 'final_recommender_c1:merging': 'slim'}. Best is trial 152 with value: 0.05132359638576222.\n"
     ]
    },
    {
     "name": "stdout",
     "output_type": "stream",
     "text": [
      "Recommender_Base_Class: URM Detected 627 ( 4.8%) users with no interactions.\n",
      "Recommender_Base_Class: URM Detected 247 ( 1.1%) items with no interactions.\n",
      "EvaluatorHoldout: Processed 10456 (100.0%) in 21.80 sec. Users per second: 480\n"
     ]
    },
    {
     "name": "stderr",
     "output_type": "stream",
     "text": [
      "[I 2023-12-09 00:55:09,122] Trial 341 finished with value: 0.05126059238411064 and parameters: {'coarse_recommender': 'merging', 'use_3_levels': False, 'cutoff': 161, 'final_recommender_c1:merging': 'slim'}. Best is trial 152 with value: 0.05132359638576222.\n"
     ]
    },
    {
     "name": "stdout",
     "output_type": "stream",
     "text": [
      "Recommender_Base_Class: URM Detected 627 ( 4.8%) users with no interactions.\n",
      "Recommender_Base_Class: URM Detected 247 ( 1.1%) items with no interactions.\n",
      "EvaluatorHoldout: Processed 10456 (100.0%) in 29.36 sec. Users per second: 356\n"
     ]
    },
    {
     "name": "stderr",
     "output_type": "stream",
     "text": [
      "[I 2023-12-09 00:55:38,732] Trial 342 finished with value: 0.049129416845800425 and parameters: {'coarse_recommender': 'merging', 'use_3_levels': True, 'coarse_2_recommender_c1:merging': 'slim', 'final_recommender_c1:merging_c2:slim': 'rp3', 'cutoff1': 826, 'cutoff2': 476}. Best is trial 152 with value: 0.05132359638576222.\n"
     ]
    },
    {
     "name": "stdout",
     "output_type": "stream",
     "text": [
      "Recommender_Base_Class: URM Detected 627 ( 4.8%) users with no interactions.\n",
      "Recommender_Base_Class: URM Detected 247 ( 1.1%) items with no interactions.\n",
      "EvaluatorHoldout: Processed 10456 (100.0%) in 21.81 sec. Users per second: 479\n"
     ]
    },
    {
     "name": "stderr",
     "output_type": "stream",
     "text": [
      "[I 2023-12-09 00:56:00,782] Trial 343 finished with value: 0.0512491574671191 and parameters: {'coarse_recommender': 'merging', 'use_3_levels': False, 'cutoff': 107, 'final_recommender_c1:merging': 'slim'}. Best is trial 152 with value: 0.05132359638576222.\n"
     ]
    },
    {
     "name": "stdout",
     "output_type": "stream",
     "text": [
      "Recommender_Base_Class: URM Detected 627 ( 4.8%) users with no interactions.\n",
      "Recommender_Base_Class: URM Detected 247 ( 1.1%) items with no interactions.\n",
      "EvaluatorHoldout: Processed 10456 (100.0%) in 23.07 sec. Users per second: 453\n"
     ]
    },
    {
     "name": "stderr",
     "output_type": "stream",
     "text": [
      "[I 2023-12-09 00:56:24,072] Trial 344 finished with value: 0.05124409847463662 and parameters: {'coarse_recommender': 'merging', 'use_3_levels': False, 'cutoff': 2682, 'final_recommender_c1:merging': 'slim'}. Best is trial 152 with value: 0.05132359638576222.\n"
     ]
    },
    {
     "name": "stdout",
     "output_type": "stream",
     "text": [
      "Recommender_Base_Class: URM Detected 627 ( 4.8%) users with no interactions.\n",
      "Recommender_Base_Class: URM Detected 247 ( 1.1%) items with no interactions.\n",
      "EvaluatorHoldout: Processed 10456 (100.0%) in 19.41 sec. Users per second: 539\n"
     ]
    },
    {
     "name": "stderr",
     "output_type": "stream",
     "text": [
      "[I 2023-12-09 00:56:43,699] Trial 345 finished with value: 0.049151721196002605 and parameters: {'coarse_recommender': 'merging', 'use_3_levels': False, 'cutoff': 235, 'final_recommender_c1:merging': 'rp3'}. Best is trial 152 with value: 0.05132359638576222.\n"
     ]
    },
    {
     "name": "stdout",
     "output_type": "stream",
     "text": [
      "Recommender_Base_Class: URM Detected 627 ( 4.8%) users with no interactions.\n",
      "Recommender_Base_Class: URM Detected 247 ( 1.1%) items with no interactions.\n",
      "EvaluatorHoldout: Processed 10456 (100.0%) in 21.79 sec. Users per second: 480\n"
     ]
    },
    {
     "name": "stderr",
     "output_type": "stream",
     "text": [
      "[I 2023-12-09 00:57:05,723] Trial 346 finished with value: 0.0512501669884997 and parameters: {'coarse_recommender': 'merging', 'use_3_levels': False, 'cutoff': 103, 'final_recommender_c1:merging': 'slim'}. Best is trial 152 with value: 0.05132359638576222.\n"
     ]
    },
    {
     "name": "stdout",
     "output_type": "stream",
     "text": [
      "Recommender_Base_Class: URM Detected 627 ( 4.8%) users with no interactions.\n",
      "Recommender_Base_Class: URM Detected 247 ( 1.1%) items with no interactions.\n",
      "EvaluatorHoldout: Processed 10456 (100.0%) in 21.97 sec. Users per second: 476\n"
     ]
    },
    {
     "name": "stderr",
     "output_type": "stream",
     "text": [
      "[I 2023-12-09 00:57:27,941] Trial 347 finished with value: 0.05125421645960158 and parameters: {'coarse_recommender': 'merging', 'use_3_levels': False, 'cutoff': 156, 'final_recommender_c1:merging': 'slim'}. Best is trial 152 with value: 0.05132359638576222.\n"
     ]
    },
    {
     "name": "stdout",
     "output_type": "stream",
     "text": [
      "Recommender_Base_Class: URM Detected 627 ( 4.8%) users with no interactions.\n",
      "Recommender_Base_Class: URM Detected 247 ( 1.1%) items with no interactions.\n",
      "EvaluatorHoldout: Processed 10456 (100.0%) in 40.43 sec. Users per second: 259\n"
     ]
    },
    {
     "name": "stderr",
     "output_type": "stream",
     "text": [
      "[I 2023-12-09 00:58:08,585] Trial 348 finished with value: 0.036139491565563016 and parameters: {'coarse_recommender': 'ials', 'use_3_levels': False, 'cutoff': 108, 'final_recommender_c1:ials': 'userKnn'}. Best is trial 152 with value: 0.05132359638576222.\n"
     ]
    },
    {
     "name": "stdout",
     "output_type": "stream",
     "text": [
      "Recommender_Base_Class: URM Detected 627 ( 4.8%) users with no interactions.\n",
      "Recommender_Base_Class: URM Detected 247 ( 1.1%) items with no interactions.\n",
      "EvaluatorHoldout: Processed 10456 (100.0%) in 21.92 sec. Users per second: 477\n"
     ]
    },
    {
     "name": "stderr",
     "output_type": "stream",
     "text": [
      "[I 2023-12-09 00:58:30,774] Trial 349 finished with value: 0.051259639790627434 and parameters: {'coarse_recommender': 'merging', 'use_3_levels': False, 'cutoff': 192, 'final_recommender_c1:merging': 'slim'}. Best is trial 152 with value: 0.05132359638576222.\n"
     ]
    },
    {
     "name": "stdout",
     "output_type": "stream",
     "text": [
      "Recommender_Base_Class: URM Detected 627 ( 4.8%) users with no interactions.\n",
      "Recommender_Base_Class: URM Detected 247 ( 1.1%) items with no interactions.\n",
      "EvaluatorHoldout: Processed 10456 (100.0%) in 21.75 sec. Users per second: 481\n"
     ]
    },
    {
     "name": "stderr",
     "output_type": "stream",
     "text": [
      "[I 2023-12-09 00:58:52,731] Trial 350 finished with value: 0.05125321832380047 and parameters: {'coarse_recommender': 'merging', 'use_3_levels': False, 'cutoff': 100, 'final_recommender_c1:merging': 'slim'}. Best is trial 152 with value: 0.05132359638576222.\n"
     ]
    },
    {
     "name": "stdout",
     "output_type": "stream",
     "text": [
      "Recommender_Base_Class: URM Detected 627 ( 4.8%) users with no interactions.\n",
      "Recommender_Base_Class: URM Detected 247 ( 1.1%) items with no interactions.\n",
      "EvaluatorHoldout: Processed 10456 (100.0%) in 25.33 sec. Users per second: 413\n"
     ]
    },
    {
     "name": "stderr",
     "output_type": "stream",
     "text": [
      "[I 2023-12-09 00:59:18,283] Trial 351 finished with value: 0.04474634067475567 and parameters: {'coarse_recommender': 'userKnn', 'use_3_levels': False, 'cutoff': 54, 'final_recommender_c1:userKnn': 'rp3'}. Best is trial 152 with value: 0.05132359638576222.\n"
     ]
    },
    {
     "name": "stdout",
     "output_type": "stream",
     "text": [
      "Recommender_Base_Class: URM Detected 627 ( 4.8%) users with no interactions.\n",
      "Recommender_Base_Class: URM Detected 247 ( 1.1%) items with no interactions.\n",
      "EvaluatorHoldout: Processed 10456 (100.0%) in 21.68 sec. Users per second: 482\n"
     ]
    },
    {
     "name": "stderr",
     "output_type": "stream",
     "text": [
      "[I 2023-12-09 00:59:40,180] Trial 352 finished with value: 0.040068055403748234 and parameters: {'coarse_recommender': 'rp3', 'use_3_levels': False, 'cutoff': 51, 'final_recommender_c1:rp3': 'userKnn'}. Best is trial 152 with value: 0.05132359638576222.\n"
     ]
    },
    {
     "name": "stdout",
     "output_type": "stream",
     "text": [
      "Recommender_Base_Class: URM Detected 627 ( 4.8%) users with no interactions.\n",
      "Recommender_Base_Class: URM Detected 247 ( 1.1%) items with no interactions.\n",
      "EvaluatorHoldout: Processed 10456 (100.0%) in 19.32 sec. Users per second: 541\n"
     ]
    },
    {
     "name": "stderr",
     "output_type": "stream",
     "text": [
      "[I 2023-12-09 00:59:59,702] Trial 353 finished with value: 0.04870576322852602 and parameters: {'coarse_recommender': 'merging', 'use_3_levels': False, 'cutoff': 152, 'final_recommender_c1:merging': 'itemKnn'}. Best is trial 152 with value: 0.05132359638576222.\n"
     ]
    },
    {
     "name": "stdout",
     "output_type": "stream",
     "text": [
      "Recommender_Base_Class: URM Detected 627 ( 4.8%) users with no interactions.\n",
      "Recommender_Base_Class: URM Detected 247 ( 1.1%) items with no interactions.\n",
      "EvaluatorHoldout: Processed 10456 (100.0%) in 21.94 sec. Users per second: 477\n"
     ]
    },
    {
     "name": "stderr",
     "output_type": "stream",
     "text": [
      "[I 2023-12-09 01:00:21,836] Trial 354 finished with value: 0.03911551125806132 and parameters: {'coarse_recommender': 'itemKnn', 'use_3_levels': False, 'cutoff': 51, 'final_recommender_c1:itemKnn': 'userKnn'}. Best is trial 152 with value: 0.05132359638576222.\n"
     ]
    },
    {
     "name": "stdout",
     "output_type": "stream",
     "text": [
      "Recommender_Base_Class: URM Detected 627 ( 4.8%) users with no interactions.\n",
      "Recommender_Base_Class: URM Detected 247 ( 1.1%) items with no interactions.\n",
      "EvaluatorHoldout: Processed 10456 (100.0%) in 22.11 sec. Users per second: 473\n"
     ]
    },
    {
     "name": "stderr",
     "output_type": "stream",
     "text": [
      "[I 2023-12-09 01:00:44,169] Trial 355 finished with value: 0.05124631486744214 and parameters: {'coarse_recommender': 'merging', 'use_3_levels': False, 'cutoff': 736, 'final_recommender_c1:merging': 'slim'}. Best is trial 152 with value: 0.05132359638576222.\n"
     ]
    },
    {
     "name": "stdout",
     "output_type": "stream",
     "text": [
      "Recommender_Base_Class: URM Detected 627 ( 4.8%) users with no interactions.\n",
      "Recommender_Base_Class: URM Detected 247 ( 1.1%) items with no interactions.\n",
      "EvaluatorHoldout: Processed 10456 (100.0%) in 21.87 sec. Users per second: 478\n"
     ]
    },
    {
     "name": "stderr",
     "output_type": "stream",
     "text": [
      "[I 2023-12-09 01:01:06,258] Trial 356 finished with value: 0.051261541182400665 and parameters: {'coarse_recommender': 'merging', 'use_3_levels': False, 'cutoff': 232, 'final_recommender_c1:merging': 'slim'}. Best is trial 152 with value: 0.05132359638576222.\n"
     ]
    },
    {
     "name": "stdout",
     "output_type": "stream",
     "text": [
      "Recommender_Base_Class: URM Detected 627 ( 4.8%) users with no interactions.\n",
      "Recommender_Base_Class: URM Detected 247 ( 1.1%) items with no interactions.\n",
      "EvaluatorHoldout: Processed 10456 (100.0%) in 22.14 sec. Users per second: 472\n"
     ]
    },
    {
     "name": "stderr",
     "output_type": "stream",
     "text": [
      "[I 2023-12-09 01:01:28,611] Trial 357 finished with value: 0.051251916572546526 and parameters: {'coarse_recommender': 'merging', 'use_3_levels': False, 'cutoff': 149, 'final_recommender_c1:merging': 'slim'}. Best is trial 152 with value: 0.05132359638576222.\n"
     ]
    },
    {
     "name": "stdout",
     "output_type": "stream",
     "text": [
      "Recommender_Base_Class: URM Detected 627 ( 4.8%) users with no interactions.\n",
      "Recommender_Base_Class: URM Detected 247 ( 1.1%) items with no interactions.\n",
      "EvaluatorHoldout: Processed 10456 (100.0%) in 23.83 sec. Users per second: 439\n"
     ]
    },
    {
     "name": "stderr",
     "output_type": "stream",
     "text": [
      "[I 2023-12-09 01:01:52,655] Trial 358 finished with value: 0.044955861903548104 and parameters: {'coarse_recommender': 'alpha', 'use_3_levels': False, 'cutoff': 119, 'final_recommender_c1:alpha': 'easeR'}. Best is trial 152 with value: 0.05132359638576222.\n"
     ]
    },
    {
     "name": "stdout",
     "output_type": "stream",
     "text": [
      "Recommender_Base_Class: URM Detected 627 ( 4.8%) users with no interactions.\n",
      "Recommender_Base_Class: URM Detected 247 ( 1.1%) items with no interactions.\n",
      "EvaluatorHoldout: Processed 10456 (100.0%) in 21.62 sec. Users per second: 484\n"
     ]
    },
    {
     "name": "stderr",
     "output_type": "stream",
     "text": [
      "[I 2023-12-09 01:02:14,496] Trial 359 finished with value: 0.05125321832380047 and parameters: {'coarse_recommender': 'merging', 'use_3_levels': False, 'cutoff': 100, 'final_recommender_c1:merging': 'slim'}. Best is trial 152 with value: 0.05132359638576222.\n"
     ]
    },
    {
     "name": "stdout",
     "output_type": "stream",
     "text": [
      "Recommender_Base_Class: URM Detected 627 ( 4.8%) users with no interactions.\n",
      "Recommender_Base_Class: URM Detected 247 ( 1.1%) items with no interactions.\n",
      "EvaluatorHoldout: Processed 10456 (100.0%) in 21.81 sec. Users per second: 479\n"
     ]
    },
    {
     "name": "stderr",
     "output_type": "stream",
     "text": [
      "[I 2023-12-09 01:02:36,514] Trial 360 finished with value: 0.051259639790627434 and parameters: {'coarse_recommender': 'merging', 'use_3_levels': False, 'cutoff': 191, 'final_recommender_c1:merging': 'slim'}. Best is trial 152 with value: 0.05132359638576222.\n"
     ]
    },
    {
     "name": "stdout",
     "output_type": "stream",
     "text": [
      "Recommender_Base_Class: URM Detected 627 ( 4.8%) users with no interactions.\n",
      "Recommender_Base_Class: URM Detected 247 ( 1.1%) items with no interactions.\n",
      "EvaluatorHoldout: Processed 10456 (100.0%) in 32.41 sec. Users per second: 323\n"
     ]
    },
    {
     "name": "stderr",
     "output_type": "stream",
     "text": [
      "[I 2023-12-09 01:03:09,160] Trial 361 finished with value: 0.04491230826684221 and parameters: {'coarse_recommender': 'merging', 'use_3_levels': True, 'coarse_2_recommender_c1:merging': 'alpha', 'final_recommender_c1:merging_c2:alpha': 'easeR', 'cutoff1': 2775, 'cutoff2': 2658}. Best is trial 152 with value: 0.05132359638576222.\n"
     ]
    },
    {
     "name": "stdout",
     "output_type": "stream",
     "text": [
      "Recommender_Base_Class: URM Detected 627 ( 4.8%) users with no interactions.\n",
      "Recommender_Base_Class: URM Detected 247 ( 1.1%) items with no interactions.\n",
      "EvaluatorHoldout: Processed 10456 (100.0%) in 21.87 sec. Users per second: 478\n"
     ]
    },
    {
     "name": "stderr",
     "output_type": "stream",
     "text": [
      "[I 2023-12-09 01:03:31,250] Trial 362 finished with value: 0.05125382934989925 and parameters: {'coarse_recommender': 'merging', 'use_3_levels': False, 'cutoff': 99, 'final_recommender_c1:merging': 'slim'}. Best is trial 152 with value: 0.05132359638576222.\n"
     ]
    },
    {
     "name": "stdout",
     "output_type": "stream",
     "text": [
      "Recommender_Base_Class: URM Detected 627 ( 4.8%) users with no interactions.\n",
      "Recommender_Base_Class: URM Detected 247 ( 1.1%) items with no interactions.\n",
      "EvaluatorHoldout: Processed 10456 (100.0%) in 28.25 sec. Users per second: 370\n"
     ]
    },
    {
     "name": "stderr",
     "output_type": "stream",
     "text": [
      "[I 2023-12-09 01:03:59,698] Trial 363 finished with value: 0.05133656456079047 and parameters: {'coarse_recommender': 'easeR', 'use_3_levels': False, 'cutoff': 157, 'final_recommender_c1:easeR': 'slim'}. Best is trial 363 with value: 0.05133656456079047.\n"
     ]
    },
    {
     "name": "stdout",
     "output_type": "stream",
     "text": [
      "Recommender_Base_Class: URM Detected 627 ( 4.8%) users with no interactions.\n",
      "Recommender_Base_Class: URM Detected 247 ( 1.1%) items with no interactions.\n",
      "EvaluatorHoldout: Processed 10456 (100.0%) in 28.33 sec. Users per second: 369\n"
     ]
    },
    {
     "name": "stderr",
     "output_type": "stream",
     "text": [
      "[I 2023-12-09 01:04:28,237] Trial 364 finished with value: 0.05133847733814318 and parameters: {'coarse_recommender': 'easeR', 'use_3_levels': False, 'cutoff': 165, 'final_recommender_c1:easeR': 'slim'}. Best is trial 364 with value: 0.05133847733814318.\n"
     ]
    },
    {
     "name": "stdout",
     "output_type": "stream",
     "text": [
      "Recommender_Base_Class: URM Detected 627 ( 4.8%) users with no interactions.\n",
      "Recommender_Base_Class: URM Detected 247 ( 1.1%) items with no interactions.\n",
      "EvaluatorHoldout: Processed 10456 (100.0%) in 28.48 sec. Users per second: 367\n"
     ]
    },
    {
     "name": "stderr",
     "output_type": "stream",
     "text": [
      "[I 2023-12-09 01:04:56,916] Trial 365 finished with value: 0.05133346009278546 and parameters: {'coarse_recommender': 'easeR', 'use_3_levels': False, 'cutoff': 317, 'final_recommender_c1:easeR': 'slim'}. Best is trial 364 with value: 0.05133847733814318.\n"
     ]
    },
    {
     "name": "stdout",
     "output_type": "stream",
     "text": [
      "Recommender_Base_Class: URM Detected 627 ( 4.8%) users with no interactions.\n",
      "Recommender_Base_Class: URM Detected 247 ( 1.1%) items with no interactions.\n",
      "EvaluatorHoldout: Processed 10456 (100.0%) in 28.39 sec. Users per second: 368\n"
     ]
    },
    {
     "name": "stderr",
     "output_type": "stream",
     "text": [
      "[I 2023-12-09 01:05:25,505] Trial 366 finished with value: 0.05133346009278546 and parameters: {'coarse_recommender': 'easeR', 'use_3_levels': False, 'cutoff': 324, 'final_recommender_c1:easeR': 'slim'}. Best is trial 364 with value: 0.05133847733814318.\n"
     ]
    },
    {
     "name": "stdout",
     "output_type": "stream",
     "text": [
      "Recommender_Base_Class: URM Detected 627 ( 4.8%) users with no interactions.\n",
      "Recommender_Base_Class: URM Detected 247 ( 1.1%) items with no interactions.\n",
      "EvaluatorHoldout: Processed 10456 (100.0%) in 28.41 sec. Users per second: 368\n"
     ]
    },
    {
     "name": "stderr",
     "output_type": "stream",
     "text": [
      "[I 2023-12-09 01:05:54,130] Trial 367 finished with value: 0.05133346009278546 and parameters: {'coarse_recommender': 'easeR', 'use_3_levels': False, 'cutoff': 348, 'final_recommender_c1:easeR': 'slim'}. Best is trial 364 with value: 0.05133847733814318.\n"
     ]
    },
    {
     "name": "stdout",
     "output_type": "stream",
     "text": [
      "Recommender_Base_Class: URM Detected 627 ( 4.8%) users with no interactions.\n",
      "Recommender_Base_Class: URM Detected 247 ( 1.1%) items with no interactions.\n",
      "EvaluatorHoldout: Processed 10456 (100.0%) in 28.53 sec. Users per second: 366\n"
     ]
    },
    {
     "name": "stderr",
     "output_type": "stream",
     "text": [
      "[I 2023-12-09 01:06:22,866] Trial 368 finished with value: 0.05133346009278546 and parameters: {'coarse_recommender': 'easeR', 'use_3_levels': False, 'cutoff': 325, 'final_recommender_c1:easeR': 'slim'}. Best is trial 364 with value: 0.05133847733814318.\n"
     ]
    },
    {
     "name": "stdout",
     "output_type": "stream",
     "text": [
      "Recommender_Base_Class: URM Detected 627 ( 4.8%) users with no interactions.\n",
      "Recommender_Base_Class: URM Detected 247 ( 1.1%) items with no interactions.\n",
      "EvaluatorHoldout: Processed 10456 (100.0%) in 28.43 sec. Users per second: 368\n"
     ]
    },
    {
     "name": "stderr",
     "output_type": "stream",
     "text": [
      "[I 2023-12-09 01:06:51,512] Trial 369 finished with value: 0.05133346009278546 and parameters: {'coarse_recommender': 'easeR', 'use_3_levels': False, 'cutoff': 319, 'final_recommender_c1:easeR': 'slim'}. Best is trial 364 with value: 0.05133847733814318.\n"
     ]
    },
    {
     "name": "stdout",
     "output_type": "stream",
     "text": [
      "Recommender_Base_Class: URM Detected 627 ( 4.8%) users with no interactions.\n",
      "Recommender_Base_Class: URM Detected 247 ( 1.1%) items with no interactions.\n",
      "EvaluatorHoldout: Processed 10456 (100.0%) in 28.78 sec. Users per second: 363\n"
     ]
    },
    {
     "name": "stderr",
     "output_type": "stream",
     "text": [
      "[I 2023-12-09 01:07:20,507] Trial 370 finished with value: 0.05133346009278546 and parameters: {'coarse_recommender': 'easeR', 'use_3_levels': False, 'cutoff': 414, 'final_recommender_c1:easeR': 'slim'}. Best is trial 364 with value: 0.05133847733814318.\n"
     ]
    },
    {
     "name": "stdout",
     "output_type": "stream",
     "text": [
      "Recommender_Base_Class: URM Detected 627 ( 4.8%) users with no interactions.\n",
      "Recommender_Base_Class: URM Detected 247 ( 1.1%) items with no interactions.\n",
      "EvaluatorHoldout: Processed 10456 (100.0%) in 28.55 sec. Users per second: 366\n"
     ]
    },
    {
     "name": "stderr",
     "output_type": "stream",
     "text": [
      "[I 2023-12-09 01:07:49,268] Trial 371 finished with value: 0.05133346009278546 and parameters: {'coarse_recommender': 'easeR', 'use_3_levels': False, 'cutoff': 414, 'final_recommender_c1:easeR': 'slim'}. Best is trial 364 with value: 0.05133847733814318.\n"
     ]
    },
    {
     "name": "stdout",
     "output_type": "stream",
     "text": [
      "Recommender_Base_Class: URM Detected 627 ( 4.8%) users with no interactions.\n",
      "Recommender_Base_Class: URM Detected 247 ( 1.1%) items with no interactions.\n",
      "EvaluatorHoldout: Processed 10456 (100.0%) in 28.56 sec. Users per second: 366\n"
     ]
    },
    {
     "name": "stderr",
     "output_type": "stream",
     "text": [
      "[I 2023-12-09 01:08:18,036] Trial 372 finished with value: 0.05133346009278546 and parameters: {'coarse_recommender': 'easeR', 'use_3_levels': False, 'cutoff': 410, 'final_recommender_c1:easeR': 'slim'}. Best is trial 364 with value: 0.05133847733814318.\n"
     ]
    },
    {
     "name": "stdout",
     "output_type": "stream",
     "text": [
      "Recommender_Base_Class: URM Detected 627 ( 4.8%) users with no interactions.\n",
      "Recommender_Base_Class: URM Detected 247 ( 1.1%) items with no interactions.\n",
      "EvaluatorHoldout: Processed 10456 (100.0%) in 28.54 sec. Users per second: 366\n"
     ]
    },
    {
     "name": "stderr",
     "output_type": "stream",
     "text": [
      "[I 2023-12-09 01:08:46,796] Trial 373 finished with value: 0.05133346009278546 and parameters: {'coarse_recommender': 'easeR', 'use_3_levels': False, 'cutoff': 399, 'final_recommender_c1:easeR': 'slim'}. Best is trial 364 with value: 0.05133847733814318.\n"
     ]
    },
    {
     "name": "stdout",
     "output_type": "stream",
     "text": [
      "Recommender_Base_Class: URM Detected 627 ( 4.8%) users with no interactions.\n",
      "Recommender_Base_Class: URM Detected 247 ( 1.1%) items with no interactions.\n",
      "EvaluatorHoldout: Processed 10456 (100.0%) in 28.90 sec. Users per second: 362\n"
     ]
    },
    {
     "name": "stderr",
     "output_type": "stream",
     "text": [
      "[I 2023-12-09 01:09:15,912] Trial 374 finished with value: 0.0513328756330388 and parameters: {'coarse_recommender': 'easeR', 'use_3_levels': False, 'cutoff': 450, 'final_recommender_c1:easeR': 'slim'}. Best is trial 364 with value: 0.05133847733814318.\n"
     ]
    },
    {
     "name": "stdout",
     "output_type": "stream",
     "text": [
      "Recommender_Base_Class: URM Detected 627 ( 4.8%) users with no interactions.\n",
      "Recommender_Base_Class: URM Detected 247 ( 1.1%) items with no interactions.\n",
      "EvaluatorHoldout: Processed 10456 (100.0%) in 28.66 sec. Users per second: 365\n"
     ]
    },
    {
     "name": "stderr",
     "output_type": "stream",
     "text": [
      "[I 2023-12-09 01:09:44,784] Trial 375 finished with value: 0.05133346009278546 and parameters: {'coarse_recommender': 'easeR', 'use_3_levels': False, 'cutoff': 402, 'final_recommender_c1:easeR': 'slim'}. Best is trial 364 with value: 0.05133847733814318.\n"
     ]
    },
    {
     "name": "stdout",
     "output_type": "stream",
     "text": [
      "Recommender_Base_Class: URM Detected 627 ( 4.8%) users with no interactions.\n",
      "Recommender_Base_Class: URM Detected 247 ( 1.1%) items with no interactions.\n",
      "EvaluatorHoldout: Processed 10456 (100.0%) in 28.52 sec. Users per second: 367\n"
     ]
    },
    {
     "name": "stderr",
     "output_type": "stream",
     "text": [
      "[I 2023-12-09 01:10:13,510] Trial 376 finished with value: 0.05133346009278546 and parameters: {'coarse_recommender': 'easeR', 'use_3_levels': False, 'cutoff': 407, 'final_recommender_c1:easeR': 'slim'}. Best is trial 364 with value: 0.05133847733814318.\n"
     ]
    },
    {
     "name": "stdout",
     "output_type": "stream",
     "text": [
      "Recommender_Base_Class: URM Detected 627 ( 4.8%) users with no interactions.\n",
      "Recommender_Base_Class: URM Detected 247 ( 1.1%) items with no interactions.\n",
      "EvaluatorHoldout: Processed 10456 (100.0%) in 28.64 sec. Users per second: 365\n"
     ]
    },
    {
     "name": "stderr",
     "output_type": "stream",
     "text": [
      "[I 2023-12-09 01:10:42,375] Trial 377 finished with value: 0.05133346009278546 and parameters: {'coarse_recommender': 'easeR', 'use_3_levels': False, 'cutoff': 397, 'final_recommender_c1:easeR': 'slim'}. Best is trial 364 with value: 0.05133847733814318.\n"
     ]
    },
    {
     "name": "stdout",
     "output_type": "stream",
     "text": [
      "Recommender_Base_Class: URM Detected 627 ( 4.8%) users with no interactions.\n",
      "Recommender_Base_Class: URM Detected 247 ( 1.1%) items with no interactions.\n",
      "EvaluatorHoldout: Processed 10456 (100.0%) in 28.51 sec. Users per second: 367\n"
     ]
    },
    {
     "name": "stderr",
     "output_type": "stream",
     "text": [
      "[I 2023-12-09 01:11:11,119] Trial 378 finished with value: 0.05133346009278546 and parameters: {'coarse_recommender': 'easeR', 'use_3_levels': False, 'cutoff': 369, 'final_recommender_c1:easeR': 'slim'}. Best is trial 364 with value: 0.05133847733814318.\n"
     ]
    },
    {
     "name": "stdout",
     "output_type": "stream",
     "text": [
      "Recommender_Base_Class: URM Detected 627 ( 4.8%) users with no interactions.\n",
      "Recommender_Base_Class: URM Detected 247 ( 1.1%) items with no interactions.\n",
      "EvaluatorHoldout: Processed 10456 (100.0%) in 28.65 sec. Users per second: 365\n"
     ]
    },
    {
     "name": "stderr",
     "output_type": "stream",
     "text": [
      "[I 2023-12-09 01:11:39,999] Trial 379 finished with value: 0.05133346009278546 and parameters: {'coarse_recommender': 'easeR', 'use_3_levels': False, 'cutoff': 401, 'final_recommender_c1:easeR': 'slim'}. Best is trial 364 with value: 0.05133847733814318.\n"
     ]
    },
    {
     "name": "stdout",
     "output_type": "stream",
     "text": [
      "Recommender_Base_Class: URM Detected 627 ( 4.8%) users with no interactions.\n",
      "Recommender_Base_Class: URM Detected 247 ( 1.1%) items with no interactions.\n",
      "EvaluatorHoldout: Processed 10456 (100.0%) in 28.81 sec. Users per second: 363\n"
     ]
    },
    {
     "name": "stderr",
     "output_type": "stream",
     "text": [
      "[I 2023-12-09 01:12:09,033] Trial 380 finished with value: 0.05133346009278546 and parameters: {'coarse_recommender': 'easeR', 'use_3_levels': False, 'cutoff': 422, 'final_recommender_c1:easeR': 'slim'}. Best is trial 364 with value: 0.05133847733814318.\n"
     ]
    },
    {
     "name": "stdout",
     "output_type": "stream",
     "text": [
      "Recommender_Base_Class: URM Detected 627 ( 4.8%) users with no interactions.\n",
      "Recommender_Base_Class: URM Detected 247 ( 1.1%) items with no interactions.\n",
      "EvaluatorHoldout: Processed 10456 (100.0%) in 28.82 sec. Users per second: 363\n"
     ]
    },
    {
     "name": "stderr",
     "output_type": "stream",
     "text": [
      "[I 2023-12-09 01:12:38,071] Trial 381 finished with value: 0.05133346009278546 and parameters: {'coarse_recommender': 'easeR', 'use_3_levels': False, 'cutoff': 398, 'final_recommender_c1:easeR': 'slim'}. Best is trial 364 with value: 0.05133847733814318.\n"
     ]
    },
    {
     "name": "stdout",
     "output_type": "stream",
     "text": [
      "Recommender_Base_Class: URM Detected 627 ( 4.8%) users with no interactions.\n",
      "Recommender_Base_Class: URM Detected 247 ( 1.1%) items with no interactions.\n",
      "EvaluatorHoldout: Processed 10456 (100.0%) in 29.08 sec. Users per second: 360\n"
     ]
    },
    {
     "name": "stderr",
     "output_type": "stream",
     "text": [
      "[I 2023-12-09 01:13:07,368] Trial 382 finished with value: 0.05133346009278546 and parameters: {'coarse_recommender': 'easeR', 'use_3_levels': False, 'cutoff': 412, 'final_recommender_c1:easeR': 'slim'}. Best is trial 364 with value: 0.05133847733814318.\n"
     ]
    },
    {
     "name": "stdout",
     "output_type": "stream",
     "text": [
      "Recommender_Base_Class: URM Detected 627 ( 4.8%) users with no interactions.\n",
      "Recommender_Base_Class: URM Detected 247 ( 1.1%) items with no interactions.\n",
      "EvaluatorHoldout: Processed 10456 (100.0%) in 29.26 sec. Users per second: 357\n"
     ]
    },
    {
     "name": "stderr",
     "output_type": "stream",
     "text": [
      "[I 2023-12-09 01:13:36,854] Trial 383 finished with value: 0.05133346009278546 and parameters: {'coarse_recommender': 'easeR', 'use_3_levels': False, 'cutoff': 394, 'final_recommender_c1:easeR': 'slim'}. Best is trial 364 with value: 0.05133847733814318.\n"
     ]
    },
    {
     "name": "stdout",
     "output_type": "stream",
     "text": [
      "Recommender_Base_Class: URM Detected 627 ( 4.8%) users with no interactions.\n",
      "Recommender_Base_Class: URM Detected 247 ( 1.1%) items with no interactions.\n",
      "EvaluatorHoldout: Processed 10456 (100.0%) in 28.38 sec. Users per second: 368\n"
     ]
    },
    {
     "name": "stderr",
     "output_type": "stream",
     "text": [
      "[I 2023-12-09 01:14:05,452] Trial 384 finished with value: 0.05133346009278546 and parameters: {'coarse_recommender': 'easeR', 'use_3_levels': False, 'cutoff': 405, 'final_recommender_c1:easeR': 'slim'}. Best is trial 364 with value: 0.05133847733814318.\n"
     ]
    },
    {
     "name": "stdout",
     "output_type": "stream",
     "text": [
      "Recommender_Base_Class: URM Detected 627 ( 4.8%) users with no interactions.\n",
      "Recommender_Base_Class: URM Detected 247 ( 1.1%) items with no interactions.\n",
      "EvaluatorHoldout: Processed 10456 (100.0%) in 28.73 sec. Users per second: 364\n"
     ]
    },
    {
     "name": "stderr",
     "output_type": "stream",
     "text": [
      "[I 2023-12-09 01:14:34,375] Trial 385 finished with value: 0.05133346009278546 and parameters: {'coarse_recommender': 'easeR', 'use_3_levels': False, 'cutoff': 395, 'final_recommender_c1:easeR': 'slim'}. Best is trial 364 with value: 0.05133847733814318.\n"
     ]
    },
    {
     "name": "stdout",
     "output_type": "stream",
     "text": [
      "Recommender_Base_Class: URM Detected 627 ( 4.8%) users with no interactions.\n",
      "Recommender_Base_Class: URM Detected 247 ( 1.1%) items with no interactions.\n",
      "EvaluatorHoldout: Processed 10456 (100.0%) in 37.32 sec. Users per second: 280\n"
     ]
    },
    {
     "name": "stderr",
     "output_type": "stream",
     "text": [
      "[I 2023-12-09 01:15:11,937] Trial 386 finished with value: 0.05002050542864502 and parameters: {'coarse_recommender': 'easeR', 'use_3_levels': True, 'coarse_2_recommender_c1:easeR': 'slim', 'final_recommender_c1:easeR_c2:slim': 'merging', 'cutoff1': 1338, 'cutoff2': 911}. Best is trial 364 with value: 0.05133847733814318.\n"
     ]
    },
    {
     "name": "stdout",
     "output_type": "stream",
     "text": [
      "Recommender_Base_Class: URM Detected 627 ( 4.8%) users with no interactions.\n",
      "Recommender_Base_Class: URM Detected 247 ( 1.1%) items with no interactions.\n",
      "EvaluatorHoldout: Processed 10456 (100.0%) in 29.12 sec. Users per second: 359\n"
     ]
    },
    {
     "name": "stderr",
     "output_type": "stream",
     "text": [
      "[I 2023-12-09 01:15:41,285] Trial 387 finished with value: 0.05133346009278546 and parameters: {'coarse_recommender': 'easeR', 'use_3_levels': False, 'cutoff': 409, 'final_recommender_c1:easeR': 'slim'}. Best is trial 364 with value: 0.05133847733814318.\n"
     ]
    },
    {
     "name": "stdout",
     "output_type": "stream",
     "text": [
      "Recommender_Base_Class: URM Detected 627 ( 4.8%) users with no interactions.\n",
      "Recommender_Base_Class: URM Detected 247 ( 1.1%) items with no interactions.\n",
      "EvaluatorHoldout: Processed 10456 (100.0%) in 28.56 sec. Users per second: 366\n"
     ]
    },
    {
     "name": "stderr",
     "output_type": "stream",
     "text": [
      "[I 2023-12-09 01:16:10,065] Trial 388 finished with value: 0.05133346009278546 and parameters: {'coarse_recommender': 'easeR', 'use_3_levels': False, 'cutoff': 392, 'final_recommender_c1:easeR': 'slim'}. Best is trial 364 with value: 0.05133847733814318.\n"
     ]
    },
    {
     "name": "stdout",
     "output_type": "stream",
     "text": [
      "Recommender_Base_Class: URM Detected 627 ( 4.8%) users with no interactions.\n",
      "Recommender_Base_Class: URM Detected 247 ( 1.1%) items with no interactions.\n",
      "EvaluatorHoldout: Processed 10456 (100.0%) in 28.50 sec. Users per second: 367\n"
     ]
    },
    {
     "name": "stderr",
     "output_type": "stream",
     "text": [
      "[I 2023-12-09 01:16:38,799] Trial 389 finished with value: 0.05133346009278546 and parameters: {'coarse_recommender': 'easeR', 'use_3_levels': False, 'cutoff': 414, 'final_recommender_c1:easeR': 'slim'}. Best is trial 364 with value: 0.05133847733814318.\n"
     ]
    },
    {
     "name": "stdout",
     "output_type": "stream",
     "text": [
      "Recommender_Base_Class: URM Detected 627 ( 4.8%) users with no interactions.\n",
      "Recommender_Base_Class: URM Detected 247 ( 1.1%) items with no interactions.\n",
      "EvaluatorHoldout: Processed 10456 (100.0%) in 28.68 sec. Users per second: 365\n"
     ]
    },
    {
     "name": "stderr",
     "output_type": "stream",
     "text": [
      "[I 2023-12-09 01:17:07,703] Trial 390 finished with value: 0.05133346009278546 and parameters: {'coarse_recommender': 'easeR', 'use_3_levels': False, 'cutoff': 390, 'final_recommender_c1:easeR': 'slim'}. Best is trial 364 with value: 0.05133847733814318.\n"
     ]
    },
    {
     "name": "stdout",
     "output_type": "stream",
     "text": [
      "Recommender_Base_Class: URM Detected 627 ( 4.8%) users with no interactions.\n",
      "Recommender_Base_Class: URM Detected 247 ( 1.1%) items with no interactions.\n",
      "EvaluatorHoldout: Processed 10456 (100.0%) in 28.85 sec. Users per second: 362\n"
     ]
    },
    {
     "name": "stderr",
     "output_type": "stream",
     "text": [
      "[I 2023-12-09 01:17:36,776] Trial 391 finished with value: 0.0513328756330388 and parameters: {'coarse_recommender': 'easeR', 'use_3_levels': False, 'cutoff': 542, 'final_recommender_c1:easeR': 'slim'}. Best is trial 364 with value: 0.05133847733814318.\n"
     ]
    },
    {
     "name": "stdout",
     "output_type": "stream",
     "text": [
      "Recommender_Base_Class: URM Detected 627 ( 4.8%) users with no interactions.\n",
      "Recommender_Base_Class: URM Detected 247 ( 1.1%) items with no interactions.\n",
      "EvaluatorHoldout: Processed 10456 (100.0%) in 28.59 sec. Users per second: 366\n"
     ]
    },
    {
     "name": "stderr",
     "output_type": "stream",
     "text": [
      "[I 2023-12-09 01:18:05,569] Trial 392 finished with value: 0.05133346009278546 and parameters: {'coarse_recommender': 'easeR', 'use_3_levels': False, 'cutoff': 392, 'final_recommender_c1:easeR': 'slim'}. Best is trial 364 with value: 0.05133847733814318.\n"
     ]
    },
    {
     "name": "stdout",
     "output_type": "stream",
     "text": [
      "Recommender_Base_Class: URM Detected 627 ( 4.8%) users with no interactions.\n",
      "Recommender_Base_Class: URM Detected 247 ( 1.1%) items with no interactions.\n",
      "EvaluatorHoldout: Processed 10456 (100.0%) in 28.70 sec. Users per second: 364\n"
     ]
    },
    {
     "name": "stderr",
     "output_type": "stream",
     "text": [
      "[I 2023-12-09 01:18:34,484] Trial 393 finished with value: 0.05133346009278546 and parameters: {'coarse_recommender': 'easeR', 'use_3_levels': False, 'cutoff': 360, 'final_recommender_c1:easeR': 'slim'}. Best is trial 364 with value: 0.05133847733814318.\n"
     ]
    },
    {
     "name": "stdout",
     "output_type": "stream",
     "text": [
      "Recommender_Base_Class: URM Detected 627 ( 4.8%) users with no interactions.\n",
      "Recommender_Base_Class: URM Detected 247 ( 1.1%) items with no interactions.\n",
      "EvaluatorHoldout: Processed 10456 (100.0%) in 28.51 sec. Users per second: 367\n"
     ]
    },
    {
     "name": "stderr",
     "output_type": "stream",
     "text": [
      "[I 2023-12-09 01:19:03,200] Trial 394 finished with value: 0.05133346009278546 and parameters: {'coarse_recommender': 'easeR', 'use_3_levels': False, 'cutoff': 443, 'final_recommender_c1:easeR': 'slim'}. Best is trial 364 with value: 0.05133847733814318.\n"
     ]
    },
    {
     "name": "stdout",
     "output_type": "stream",
     "text": [
      "Recommender_Base_Class: URM Detected 627 ( 4.8%) users with no interactions.\n",
      "Recommender_Base_Class: URM Detected 247 ( 1.1%) items with no interactions.\n",
      "EvaluatorHoldout: Processed 10456 (100.0%) in 28.45 sec. Users per second: 367\n"
     ]
    },
    {
     "name": "stderr",
     "output_type": "stream",
     "text": [
      "[I 2023-12-09 01:19:31,860] Trial 395 finished with value: 0.05133346009278546 and parameters: {'coarse_recommender': 'easeR', 'use_3_levels': False, 'cutoff': 415, 'final_recommender_c1:easeR': 'slim'}. Best is trial 364 with value: 0.05133847733814318.\n"
     ]
    },
    {
     "name": "stdout",
     "output_type": "stream",
     "text": [
      "Recommender_Base_Class: URM Detected 627 ( 4.8%) users with no interactions.\n",
      "Recommender_Base_Class: URM Detected 247 ( 1.1%) items with no interactions.\n",
      "EvaluatorHoldout: Processed 10456 (100.0%) in 28.20 sec. Users per second: 371\n"
     ]
    },
    {
     "name": "stderr",
     "output_type": "stream",
     "text": [
      "[I 2023-12-09 01:20:00,275] Trial 396 finished with value: 0.0513328756330388 and parameters: {'coarse_recommender': 'easeR', 'use_3_levels': False, 'cutoff': 615, 'final_recommender_c1:easeR': 'slim'}. Best is trial 364 with value: 0.05133847733814318.\n"
     ]
    },
    {
     "name": "stdout",
     "output_type": "stream",
     "text": [
      "Recommender_Base_Class: URM Detected 627 ( 4.8%) users with no interactions.\n",
      "Recommender_Base_Class: URM Detected 247 ( 1.1%) items with no interactions.\n",
      "EvaluatorHoldout: Processed 10456 (100.0%) in 28.44 sec. Users per second: 368\n"
     ]
    },
    {
     "name": "stderr",
     "output_type": "stream",
     "text": [
      "[I 2023-12-09 01:20:28,923] Trial 397 finished with value: 0.0513328756330388 and parameters: {'coarse_recommender': 'easeR', 'use_3_levels': False, 'cutoff': 501, 'final_recommender_c1:easeR': 'slim'}. Best is trial 364 with value: 0.05133847733814318.\n"
     ]
    },
    {
     "name": "stdout",
     "output_type": "stream",
     "text": [
      "Recommender_Base_Class: URM Detected 627 ( 4.8%) users with no interactions.\n",
      "Recommender_Base_Class: URM Detected 247 ( 1.1%) items with no interactions.\n",
      "EvaluatorHoldout: Processed 10456 (100.0%) in 28.50 sec. Users per second: 367\n"
     ]
    },
    {
     "name": "stderr",
     "output_type": "stream",
     "text": [
      "[I 2023-12-09 01:20:57,639] Trial 398 finished with value: 0.05133346009278546 and parameters: {'coarse_recommender': 'easeR', 'use_3_levels': False, 'cutoff': 338, 'final_recommender_c1:easeR': 'slim'}. Best is trial 364 with value: 0.05133847733814318.\n"
     ]
    },
    {
     "name": "stdout",
     "output_type": "stream",
     "text": [
      "Recommender_Base_Class: URM Detected 627 ( 4.8%) users with no interactions.\n",
      "Recommender_Base_Class: URM Detected 247 ( 1.1%) items with no interactions.\n",
      "EvaluatorHoldout: Processed 10456 (100.0%) in 28.85 sec. Users per second: 362\n"
     ]
    },
    {
     "name": "stderr",
     "output_type": "stream",
     "text": [
      "[I 2023-12-09 01:21:26,701] Trial 399 finished with value: 0.05133346009278546 and parameters: {'coarse_recommender': 'easeR', 'use_3_levels': False, 'cutoff': 367, 'final_recommender_c1:easeR': 'slim'}. Best is trial 364 with value: 0.05133847733814318.\n"
     ]
    },
    {
     "name": "stdout",
     "output_type": "stream",
     "text": [
      "Recommender_Base_Class: URM Detected 627 ( 4.8%) users with no interactions.\n",
      "Recommender_Base_Class: URM Detected 247 ( 1.1%) items with no interactions.\n",
      "EvaluatorHoldout: Processed 10456 (100.0%) in 28.11 sec. Users per second: 372\n"
     ]
    },
    {
     "name": "stderr",
     "output_type": "stream",
     "text": [
      "[I 2023-12-09 01:21:55,034] Trial 400 finished with value: 0.0513328756330388 and parameters: {'coarse_recommender': 'easeR', 'use_3_levels': False, 'cutoff': 460, 'final_recommender_c1:easeR': 'slim'}. Best is trial 364 with value: 0.05133847733814318.\n"
     ]
    },
    {
     "name": "stdout",
     "output_type": "stream",
     "text": [
      "Recommender_Base_Class: URM Detected 627 ( 4.8%) users with no interactions.\n",
      "Recommender_Base_Class: URM Detected 247 ( 1.1%) items with no interactions.\n",
      "EvaluatorHoldout: Processed 10456 (100.0%) in 28.43 sec. Users per second: 368\n"
     ]
    },
    {
     "name": "stderr",
     "output_type": "stream",
     "text": [
      "[I 2023-12-09 01:22:23,685] Trial 401 finished with value: 0.05133346009278546 and parameters: {'coarse_recommender': 'easeR', 'use_3_levels': False, 'cutoff': 412, 'final_recommender_c1:easeR': 'slim'}. Best is trial 364 with value: 0.05133847733814318.\n"
     ]
    },
    {
     "name": "stdout",
     "output_type": "stream",
     "text": [
      "Recommender_Base_Class: URM Detected 627 ( 4.8%) users with no interactions.\n",
      "Recommender_Base_Class: URM Detected 247 ( 1.1%) items with no interactions.\n",
      "EvaluatorHoldout: Processed 10456 (100.0%) in 28.39 sec. Users per second: 368\n"
     ]
    },
    {
     "name": "stderr",
     "output_type": "stream",
     "text": [
      "[I 2023-12-09 01:22:52,284] Trial 402 finished with value: 0.0513328756330388 and parameters: {'coarse_recommender': 'easeR', 'use_3_levels': False, 'cutoff': 564, 'final_recommender_c1:easeR': 'slim'}. Best is trial 364 with value: 0.05133847733814318.\n"
     ]
    },
    {
     "name": "stdout",
     "output_type": "stream",
     "text": [
      "Recommender_Base_Class: URM Detected 627 ( 4.8%) users with no interactions.\n",
      "Recommender_Base_Class: URM Detected 247 ( 1.1%) items with no interactions.\n",
      "EvaluatorHoldout: Processed 10456 (100.0%) in 28.46 sec. Users per second: 367\n"
     ]
    },
    {
     "name": "stderr",
     "output_type": "stream",
     "text": [
      "[I 2023-12-09 01:23:20,964] Trial 403 finished with value: 0.05133346009278546 and parameters: {'coarse_recommender': 'easeR', 'use_3_levels': False, 'cutoff': 332, 'final_recommender_c1:easeR': 'slim'}. Best is trial 364 with value: 0.05133847733814318.\n"
     ]
    },
    {
     "name": "stdout",
     "output_type": "stream",
     "text": [
      "Recommender_Base_Class: URM Detected 627 ( 4.8%) users with no interactions.\n",
      "Recommender_Base_Class: URM Detected 247 ( 1.1%) items with no interactions.\n",
      "EvaluatorHoldout: Processed 10456 (100.0%) in 28.63 sec. Users per second: 365\n"
     ]
    },
    {
     "name": "stderr",
     "output_type": "stream",
     "text": [
      "[I 2023-12-09 01:23:49,809] Trial 404 finished with value: 0.0513328756330388 and parameters: {'coarse_recommender': 'easeR', 'use_3_levels': False, 'cutoff': 497, 'final_recommender_c1:easeR': 'slim'}. Best is trial 364 with value: 0.05133847733814318.\n"
     ]
    },
    {
     "name": "stdout",
     "output_type": "stream",
     "text": [
      "Recommender_Base_Class: URM Detected 627 ( 4.8%) users with no interactions.\n",
      "Recommender_Base_Class: URM Detected 247 ( 1.1%) items with no interactions.\n",
      "EvaluatorHoldout: Processed 10456 (100.0%) in 28.51 sec. Users per second: 367\n"
     ]
    },
    {
     "name": "stderr",
     "output_type": "stream",
     "text": [
      "[I 2023-12-09 01:24:18,535] Trial 405 finished with value: 0.05133346009278546 and parameters: {'coarse_recommender': 'easeR', 'use_3_levels': False, 'cutoff': 389, 'final_recommender_c1:easeR': 'slim'}. Best is trial 364 with value: 0.05133847733814318.\n"
     ]
    },
    {
     "name": "stdout",
     "output_type": "stream",
     "text": [
      "Recommender_Base_Class: URM Detected 627 ( 4.8%) users with no interactions.\n",
      "Recommender_Base_Class: URM Detected 247 ( 1.1%) items with no interactions.\n",
      "EvaluatorHoldout: Processed 10456 (100.0%) in 28.27 sec. Users per second: 370\n"
     ]
    },
    {
     "name": "stderr",
     "output_type": "stream",
     "text": [
      "[I 2023-12-09 01:24:47,018] Trial 406 finished with value: 0.05133346009278546 and parameters: {'coarse_recommender': 'easeR', 'use_3_levels': False, 'cutoff': 336, 'final_recommender_c1:easeR': 'slim'}. Best is trial 364 with value: 0.05133847733814318.\n"
     ]
    },
    {
     "name": "stdout",
     "output_type": "stream",
     "text": [
      "Recommender_Base_Class: URM Detected 627 ( 4.8%) users with no interactions.\n",
      "Recommender_Base_Class: URM Detected 247 ( 1.1%) items with no interactions.\n",
      "EvaluatorHoldout: Processed 10456 (100.0%) in 33.39 sec. Users per second: 313\n"
     ]
    },
    {
     "name": "stderr",
     "output_type": "stream",
     "text": [
      "[I 2023-12-09 01:25:20,659] Trial 407 finished with value: 0.050028365273679695 and parameters: {'coarse_recommender': 'easeR', 'use_3_levels': True, 'coarse_2_recommender_c1:easeR': 'itemKnn', 'final_recommender_c1:easeR_c2:itemKnn': 'merging', 'cutoff1': 1174, 'cutoff2': 759}. Best is trial 364 with value: 0.05133847733814318.\n"
     ]
    },
    {
     "name": "stdout",
     "output_type": "stream",
     "text": [
      "Recommender_Base_Class: URM Detected 627 ( 4.8%) users with no interactions.\n",
      "Recommender_Base_Class: URM Detected 247 ( 1.1%) items with no interactions.\n",
      "EvaluatorHoldout: Processed 10456 (100.0%) in 28.57 sec. Users per second: 366\n"
     ]
    },
    {
     "name": "stderr",
     "output_type": "stream",
     "text": [
      "[I 2023-12-09 01:25:49,441] Trial 408 finished with value: 0.0513328756330388 and parameters: {'coarse_recommender': 'easeR', 'use_3_levels': False, 'cutoff': 448, 'final_recommender_c1:easeR': 'slim'}. Best is trial 364 with value: 0.05133847733814318.\n"
     ]
    },
    {
     "name": "stdout",
     "output_type": "stream",
     "text": [
      "Recommender_Base_Class: URM Detected 627 ( 4.8%) users with no interactions.\n",
      "Recommender_Base_Class: URM Detected 247 ( 1.1%) items with no interactions.\n",
      "EvaluatorHoldout: Processed 10456 (100.0%) in 28.70 sec. Users per second: 364\n"
     ]
    },
    {
     "name": "stderr",
     "output_type": "stream",
     "text": [
      "[I 2023-12-09 01:26:18,368] Trial 409 finished with value: 0.05133346009278546 and parameters: {'coarse_recommender': 'easeR', 'use_3_levels': False, 'cutoff': 408, 'final_recommender_c1:easeR': 'slim'}. Best is trial 364 with value: 0.05133847733814318.\n"
     ]
    },
    {
     "name": "stdout",
     "output_type": "stream",
     "text": [
      "Recommender_Base_Class: URM Detected 627 ( 4.8%) users with no interactions.\n",
      "Recommender_Base_Class: URM Detected 247 ( 1.1%) items with no interactions.\n",
      "EvaluatorHoldout: Processed 10456 (100.0%) in 28.32 sec. Users per second: 369\n"
     ]
    },
    {
     "name": "stderr",
     "output_type": "stream",
     "text": [
      "[I 2023-12-09 01:26:46,912] Trial 410 finished with value: 0.05133346009278546 and parameters: {'coarse_recommender': 'easeR', 'use_3_levels': False, 'cutoff': 327, 'final_recommender_c1:easeR': 'slim'}. Best is trial 364 with value: 0.05133847733814318.\n"
     ]
    },
    {
     "name": "stdout",
     "output_type": "stream",
     "text": [
      "Recommender_Base_Class: URM Detected 627 ( 4.8%) users with no interactions.\n",
      "Recommender_Base_Class: URM Detected 247 ( 1.1%) items with no interactions.\n",
      "EvaluatorHoldout: Processed 10456 (100.0%) in 28.52 sec. Users per second: 367\n"
     ]
    },
    {
     "name": "stderr",
     "output_type": "stream",
     "text": [
      "[I 2023-12-09 01:27:15,658] Trial 411 finished with value: 0.0513328756330388 and parameters: {'coarse_recommender': 'easeR', 'use_3_levels': False, 'cutoff': 518, 'final_recommender_c1:easeR': 'slim'}. Best is trial 364 with value: 0.05133847733814318.\n"
     ]
    },
    {
     "name": "stdout",
     "output_type": "stream",
     "text": [
      "Recommender_Base_Class: URM Detected 627 ( 4.8%) users with no interactions.\n",
      "Recommender_Base_Class: URM Detected 247 ( 1.1%) items with no interactions.\n",
      "EvaluatorHoldout: Processed 10456 (100.0%) in 28.55 sec. Users per second: 366\n"
     ]
    },
    {
     "name": "stderr",
     "output_type": "stream",
     "text": [
      "[I 2023-12-09 01:27:44,426] Trial 412 finished with value: 0.0513328756330388 and parameters: {'coarse_recommender': 'easeR', 'use_3_levels': False, 'cutoff': 459, 'final_recommender_c1:easeR': 'slim'}. Best is trial 364 with value: 0.05133847733814318.\n"
     ]
    },
    {
     "name": "stdout",
     "output_type": "stream",
     "text": [
      "Recommender_Base_Class: URM Detected 627 ( 4.8%) users with no interactions.\n",
      "Recommender_Base_Class: URM Detected 247 ( 1.1%) items with no interactions.\n",
      "EvaluatorHoldout: Processed 10456 (100.0%) in 28.43 sec. Users per second: 368\n"
     ]
    },
    {
     "name": "stderr",
     "output_type": "stream",
     "text": [
      "[I 2023-12-09 01:28:13,076] Trial 413 finished with value: 0.05133346009278546 and parameters: {'coarse_recommender': 'easeR', 'use_3_levels': False, 'cutoff': 377, 'final_recommender_c1:easeR': 'slim'}. Best is trial 364 with value: 0.05133847733814318.\n"
     ]
    },
    {
     "name": "stdout",
     "output_type": "stream",
     "text": [
      "Recommender_Base_Class: URM Detected 627 ( 4.8%) users with no interactions.\n",
      "Recommender_Base_Class: URM Detected 247 ( 1.1%) items with no interactions.\n",
      "EvaluatorHoldout: Processed 10456 (100.0%) in 28.38 sec. Users per second: 368\n"
     ]
    },
    {
     "name": "stderr",
     "output_type": "stream",
     "text": [
      "[I 2023-12-09 01:28:41,691] Trial 414 finished with value: 0.05133346009278546 and parameters: {'coarse_recommender': 'easeR', 'use_3_levels': False, 'cutoff': 342, 'final_recommender_c1:easeR': 'slim'}. Best is trial 364 with value: 0.05133847733814318.\n"
     ]
    },
    {
     "name": "stdout",
     "output_type": "stream",
     "text": [
      "Recommender_Base_Class: URM Detected 627 ( 4.8%) users with no interactions.\n",
      "Recommender_Base_Class: URM Detected 247 ( 1.1%) items with no interactions.\n",
      "EvaluatorHoldout: Processed 10456 (100.0%) in 28.56 sec. Users per second: 366\n"
     ]
    },
    {
     "name": "stderr",
     "output_type": "stream",
     "text": [
      "[I 2023-12-09 01:29:10,471] Trial 415 finished with value: 0.05133346009278546 and parameters: {'coarse_recommender': 'easeR', 'use_3_levels': False, 'cutoff': 424, 'final_recommender_c1:easeR': 'slim'}. Best is trial 364 with value: 0.05133847733814318.\n"
     ]
    },
    {
     "name": "stdout",
     "output_type": "stream",
     "text": [
      "Recommender_Base_Class: URM Detected 627 ( 4.8%) users with no interactions.\n",
      "Recommender_Base_Class: URM Detected 247 ( 1.1%) items with no interactions.\n",
      "EvaluatorHoldout: Processed 10456 (100.0%) in 28.77 sec. Users per second: 363\n"
     ]
    },
    {
     "name": "stderr",
     "output_type": "stream",
     "text": [
      "[I 2023-12-09 01:29:39,459] Trial 416 finished with value: 0.0513328756330388 and parameters: {'coarse_recommender': 'easeR', 'use_3_levels': False, 'cutoff': 583, 'final_recommender_c1:easeR': 'slim'}. Best is trial 364 with value: 0.05133847733814318.\n"
     ]
    },
    {
     "name": "stdout",
     "output_type": "stream",
     "text": [
      "Recommender_Base_Class: URM Detected 627 ( 4.8%) users with no interactions.\n",
      "Recommender_Base_Class: URM Detected 247 ( 1.1%) items with no interactions.\n",
      "EvaluatorHoldout: Processed 10456 (100.0%) in 26.05 sec. Users per second: 401\n"
     ]
    },
    {
     "name": "stderr",
     "output_type": "stream",
     "text": [
      "[I 2023-12-09 01:30:05,731] Trial 417 finished with value: 0.049275539372852506 and parameters: {'coarse_recommender': 'easeR', 'use_3_levels': False, 'cutoff': 299, 'final_recommender_c1:easeR': 'rp3'}. Best is trial 364 with value: 0.05133847733814318.\n"
     ]
    },
    {
     "name": "stdout",
     "output_type": "stream",
     "text": [
      "Recommender_Base_Class: URM Detected 627 ( 4.8%) users with no interactions.\n",
      "Recommender_Base_Class: URM Detected 247 ( 1.1%) items with no interactions.\n",
      "EvaluatorHoldout: Processed 10456 (100.0%) in 28.77 sec. Users per second: 363\n"
     ]
    },
    {
     "name": "stderr",
     "output_type": "stream",
     "text": [
      "[I 2023-12-09 01:30:34,700] Trial 418 finished with value: 0.0513328756330388 and parameters: {'coarse_recommender': 'easeR', 'use_3_levels': False, 'cutoff': 507, 'final_recommender_c1:easeR': 'slim'}. Best is trial 364 with value: 0.05133847733814318.\n"
     ]
    },
    {
     "name": "stdout",
     "output_type": "stream",
     "text": [
      "Recommender_Base_Class: URM Detected 627 ( 4.8%) users with no interactions.\n",
      "Recommender_Base_Class: URM Detected 247 ( 1.1%) items with no interactions.\n",
      "EvaluatorHoldout: Processed 10456 (100.0%) in 26.07 sec. Users per second: 401\n"
     ]
    },
    {
     "name": "stderr",
     "output_type": "stream",
     "text": [
      "[I 2023-12-09 01:31:00,971] Trial 419 finished with value: 0.05005190685685212 and parameters: {'coarse_recommender': 'easeR', 'use_3_levels': False, 'cutoff': 390, 'final_recommender_c1:easeR': 'merging'}. Best is trial 364 with value: 0.05133847733814318.\n"
     ]
    },
    {
     "name": "stdout",
     "output_type": "stream",
     "text": [
      "Recommender_Base_Class: URM Detected 627 ( 4.8%) users with no interactions.\n",
      "Recommender_Base_Class: URM Detected 247 ( 1.1%) items with no interactions.\n",
      "EvaluatorHoldout: Processed 10456 (100.0%) in 28.71 sec. Users per second: 364\n"
     ]
    },
    {
     "name": "stderr",
     "output_type": "stream",
     "text": [
      "[I 2023-12-09 01:31:29,890] Trial 420 finished with value: 0.0513328756330388 and parameters: {'coarse_recommender': 'easeR', 'use_3_levels': False, 'cutoff': 467, 'final_recommender_c1:easeR': 'slim'}. Best is trial 364 with value: 0.05133847733814318.\n"
     ]
    },
    {
     "name": "stdout",
     "output_type": "stream",
     "text": [
      "Recommender_Base_Class: URM Detected 627 ( 4.8%) users with no interactions.\n",
      "Recommender_Base_Class: URM Detected 247 ( 1.1%) items with no interactions.\n",
      "EvaluatorHoldout: Processed 10456 (100.0%) in 30.19 sec. Users per second: 346\n"
     ]
    },
    {
     "name": "stderr",
     "output_type": "stream",
     "text": [
      "[I 2023-12-09 01:32:00,282] Trial 421 finished with value: 0.04171842171579217 and parameters: {'coarse_recommender': 'easeR', 'use_3_levels': False, 'cutoff': 313, 'final_recommender_c1:easeR': 'ials'}. Best is trial 364 with value: 0.05133847733814318.\n"
     ]
    },
    {
     "name": "stdout",
     "output_type": "stream",
     "text": [
      "Recommender_Base_Class: URM Detected 627 ( 4.8%) users with no interactions.\n",
      "Recommender_Base_Class: URM Detected 247 ( 1.1%) items with no interactions.\n",
      "EvaluatorHoldout: Processed 10456 (100.0%) in 28.00 sec. Users per second: 373\n"
     ]
    },
    {
     "name": "stderr",
     "output_type": "stream",
     "text": [
      "[I 2023-12-09 01:32:28,508] Trial 422 finished with value: 0.05133346009278546 and parameters: {'coarse_recommender': 'easeR', 'use_3_levels': False, 'cutoff': 368, 'final_recommender_c1:easeR': 'slim'}. Best is trial 364 with value: 0.05133847733814318.\n"
     ]
    },
    {
     "name": "stdout",
     "output_type": "stream",
     "text": [
      "Recommender_Base_Class: URM Detected 627 ( 4.8%) users with no interactions.\n",
      "Recommender_Base_Class: URM Detected 247 ( 1.1%) items with no interactions.\n",
      "EvaluatorHoldout: Processed 10456 (100.0%) in 28.40 sec. Users per second: 368\n"
     ]
    },
    {
     "name": "stderr",
     "output_type": "stream",
     "text": [
      "[I 2023-12-09 01:32:57,133] Trial 423 finished with value: 0.05133346009278546 and parameters: {'coarse_recommender': 'easeR', 'use_3_levels': False, 'cutoff': 422, 'final_recommender_c1:easeR': 'slim'}. Best is trial 364 with value: 0.05133847733814318.\n"
     ]
    },
    {
     "name": "stdout",
     "output_type": "stream",
     "text": [
      "Recommender_Base_Class: URM Detected 627 ( 4.8%) users with no interactions.\n",
      "Recommender_Base_Class: URM Detected 247 ( 1.1%) items with no interactions.\n",
      "EvaluatorHoldout: Processed 10456 (100.0%) in 28.30 sec. Users per second: 370\n"
     ]
    },
    {
     "name": "stderr",
     "output_type": "stream",
     "text": [
      "[I 2023-12-09 01:33:25,645] Trial 424 finished with value: 0.051334416481461816 and parameters: {'coarse_recommender': 'easeR', 'use_3_levels': False, 'cutoff': 300, 'final_recommender_c1:easeR': 'slim'}. Best is trial 364 with value: 0.05133847733814318.\n"
     ]
    },
    {
     "name": "stdout",
     "output_type": "stream",
     "text": [
      "Recommender_Base_Class: URM Detected 627 ( 4.8%) users with no interactions.\n",
      "Recommender_Base_Class: URM Detected 247 ( 1.1%) items with no interactions.\n",
      "EvaluatorHoldout: Processed 10456 (100.0%) in 28.54 sec. Users per second: 366\n"
     ]
    },
    {
     "name": "stderr",
     "output_type": "stream",
     "text": [
      "[I 2023-12-09 01:33:54,404] Trial 425 finished with value: 0.05133346009278546 and parameters: {'coarse_recommender': 'easeR', 'use_3_levels': False, 'cutoff': 314, 'final_recommender_c1:easeR': 'slim'}. Best is trial 364 with value: 0.05133847733814318.\n"
     ]
    },
    {
     "name": "stdout",
     "output_type": "stream",
     "text": [
      "Recommender_Base_Class: URM Detected 627 ( 4.8%) users with no interactions.\n",
      "Recommender_Base_Class: URM Detected 247 ( 1.1%) items with no interactions.\n",
      "EvaluatorHoldout: Processed 10456 (100.0%) in 37.50 sec. Users per second: 279\n"
     ]
    },
    {
     "name": "stderr",
     "output_type": "stream",
     "text": [
      "[I 2023-12-09 01:34:32,165] Trial 426 finished with value: 0.048739358278379614 and parameters: {'coarse_recommender': 'easeR', 'use_3_levels': True, 'coarse_2_recommender_c1:easeR': 'ials', 'final_recommender_c1:easeR_c2:ials': 'itemKnn', 'cutoff1': 855, 'cutoff2': 375}. Best is trial 364 with value: 0.05133847733814318.\n"
     ]
    },
    {
     "name": "stdout",
     "output_type": "stream",
     "text": [
      "Recommender_Base_Class: URM Detected 627 ( 4.8%) users with no interactions.\n",
      "Recommender_Base_Class: URM Detected 247 ( 1.1%) items with no interactions.\n",
      "EvaluatorHoldout: Processed 10456 (100.0%) in 26.17 sec. Users per second: 400\n"
     ]
    },
    {
     "name": "stderr",
     "output_type": "stream",
     "text": [
      "[I 2023-12-09 01:34:58,549] Trial 427 finished with value: 0.0480796815984752 and parameters: {'coarse_recommender': 'easeR', 'use_3_levels': False, 'cutoff': 526, 'final_recommender_c1:easeR': 'alpha'}. Best is trial 364 with value: 0.05133847733814318.\n"
     ]
    },
    {
     "name": "stdout",
     "output_type": "stream",
     "text": [
      "Recommender_Base_Class: URM Detected 627 ( 4.8%) users with no interactions.\n",
      "Recommender_Base_Class: URM Detected 247 ( 1.1%) items with no interactions.\n",
      "EvaluatorHoldout: Processed 10456 (100.0%) in 28.77 sec. Users per second: 363\n"
     ]
    },
    {
     "name": "stderr",
     "output_type": "stream",
     "text": [
      "[I 2023-12-09 01:35:27,538] Trial 428 finished with value: 0.05133346009278546 and parameters: {'coarse_recommender': 'easeR', 'use_3_levels': False, 'cutoff': 362, 'final_recommender_c1:easeR': 'slim'}. Best is trial 364 with value: 0.05133847733814318.\n"
     ]
    },
    {
     "name": "stdout",
     "output_type": "stream",
     "text": [
      "Recommender_Base_Class: URM Detected 627 ( 4.8%) users with no interactions.\n",
      "Recommender_Base_Class: URM Detected 247 ( 1.1%) items with no interactions.\n",
      "EvaluatorHoldout: Processed 10456 (100.0%) in 26.11 sec. Users per second: 400\n"
     ]
    },
    {
     "name": "stderr",
     "output_type": "stream",
     "text": [
      "[I 2023-12-09 01:35:53,872] Trial 429 finished with value: 0.04873576802565016 and parameters: {'coarse_recommender': 'easeR', 'use_3_levels': False, 'cutoff': 467, 'final_recommender_c1:easeR': 'itemKnn'}. Best is trial 364 with value: 0.05133847733814318.\n"
     ]
    },
    {
     "name": "stdout",
     "output_type": "stream",
     "text": [
      "Recommender_Base_Class: URM Detected 627 ( 4.8%) users with no interactions.\n",
      "Recommender_Base_Class: URM Detected 247 ( 1.1%) items with no interactions.\n",
      "EvaluatorHoldout: Processed 10456 (100.0%) in 28.48 sec. Users per second: 367\n"
     ]
    },
    {
     "name": "stderr",
     "output_type": "stream",
     "text": [
      "[I 2023-12-09 01:36:22,571] Trial 430 finished with value: 0.03631311785744676 and parameters: {'coarse_recommender': 'easeR', 'use_3_levels': False, 'cutoff': 324, 'final_recommender_c1:easeR': 'userKnn'}. Best is trial 364 with value: 0.05133847733814318.\n"
     ]
    },
    {
     "name": "stdout",
     "output_type": "stream",
     "text": [
      "Recommender_Base_Class: URM Detected 627 ( 4.8%) users with no interactions.\n",
      "Recommender_Base_Class: URM Detected 247 ( 1.1%) items with no interactions.\n",
      "EvaluatorHoldout: Processed 10456 (100.0%) in 28.38 sec. Users per second: 368\n"
     ]
    },
    {
     "name": "stderr",
     "output_type": "stream",
     "text": [
      "[I 2023-12-09 01:36:51,176] Trial 431 finished with value: 0.051334416481461816 and parameters: {'coarse_recommender': 'easeR', 'use_3_levels': False, 'cutoff': 294, 'final_recommender_c1:easeR': 'slim'}. Best is trial 364 with value: 0.05133847733814318.\n"
     ]
    },
    {
     "name": "stdout",
     "output_type": "stream",
     "text": [
      "Recommender_Base_Class: URM Detected 627 ( 4.8%) users with no interactions.\n",
      "Recommender_Base_Class: URM Detected 247 ( 1.1%) items with no interactions.\n",
      "EvaluatorHoldout: Processed 10456 (100.0%) in 28.52 sec. Users per second: 367\n"
     ]
    },
    {
     "name": "stderr",
     "output_type": "stream",
     "text": [
      "[I 2023-12-09 01:37:19,905] Trial 432 finished with value: 0.051334416481461816 and parameters: {'coarse_recommender': 'easeR', 'use_3_levels': False, 'cutoff': 293, 'final_recommender_c1:easeR': 'slim'}. Best is trial 364 with value: 0.05133847733814318.\n"
     ]
    },
    {
     "name": "stdout",
     "output_type": "stream",
     "text": [
      "Recommender_Base_Class: URM Detected 627 ( 4.8%) users with no interactions.\n",
      "Recommender_Base_Class: URM Detected 247 ( 1.1%) items with no interactions.\n",
      "EvaluatorHoldout: Processed 10456 (100.0%) in 28.32 sec. Users per second: 369\n"
     ]
    },
    {
     "name": "stderr",
     "output_type": "stream",
     "text": [
      "[I 2023-12-09 01:37:48,451] Trial 433 finished with value: 0.05133175984624971 and parameters: {'coarse_recommender': 'easeR', 'use_3_levels': False, 'cutoff': 285, 'final_recommender_c1:easeR': 'slim'}. Best is trial 364 with value: 0.05133847733814318.\n"
     ]
    },
    {
     "name": "stdout",
     "output_type": "stream",
     "text": [
      "Recommender_Base_Class: URM Detected 627 ( 4.8%) users with no interactions.\n",
      "Recommender_Base_Class: URM Detected 247 ( 1.1%) items with no interactions.\n",
      "EvaluatorHoldout: Processed 10456 (100.0%) in 28.53 sec. Users per second: 367\n"
     ]
    },
    {
     "name": "stderr",
     "output_type": "stream",
     "text": [
      "[I 2023-12-09 01:38:17,203] Trial 434 finished with value: 0.051334416481461816 and parameters: {'coarse_recommender': 'easeR', 'use_3_levels': False, 'cutoff': 303, 'final_recommender_c1:easeR': 'slim'}. Best is trial 364 with value: 0.05133847733814318.\n"
     ]
    },
    {
     "name": "stdout",
     "output_type": "stream",
     "text": [
      "Recommender_Base_Class: URM Detected 627 ( 4.8%) users with no interactions.\n",
      "Recommender_Base_Class: URM Detected 247 ( 1.1%) items with no interactions.\n",
      "EvaluatorHoldout: Processed 10456 (100.0%) in 28.32 sec. Users per second: 369\n"
     ]
    },
    {
     "name": "stderr",
     "output_type": "stream",
     "text": [
      "[I 2023-12-09 01:38:45,740] Trial 435 finished with value: 0.05133335382737698 and parameters: {'coarse_recommender': 'easeR', 'use_3_levels': False, 'cutoff': 290, 'final_recommender_c1:easeR': 'slim'}. Best is trial 364 with value: 0.05133847733814318.\n"
     ]
    },
    {
     "name": "stdout",
     "output_type": "stream",
     "text": [
      "Recommender_Base_Class: URM Detected 627 ( 4.8%) users with no interactions.\n",
      "Recommender_Base_Class: URM Detected 247 ( 1.1%) items with no interactions.\n",
      "EvaluatorHoldout: Processed 10456 (100.0%) in 28.39 sec. Users per second: 368\n"
     ]
    },
    {
     "name": "stderr",
     "output_type": "stream",
     "text": [
      "[I 2023-12-09 01:39:14,356] Trial 436 finished with value: 0.05133335382737698 and parameters: {'coarse_recommender': 'easeR', 'use_3_levels': False, 'cutoff': 289, 'final_recommender_c1:easeR': 'slim'}. Best is trial 364 with value: 0.05133847733814318.\n"
     ]
    },
    {
     "name": "stdout",
     "output_type": "stream",
     "text": [
      "Recommender_Base_Class: URM Detected 627 ( 4.8%) users with no interactions.\n",
      "Recommender_Base_Class: URM Detected 247 ( 1.1%) items with no interactions.\n",
      "EvaluatorHoldout: Processed 10456 (100.0%) in 28.59 sec. Users per second: 366\n"
     ]
    },
    {
     "name": "stderr",
     "output_type": "stream",
     "text": [
      "[I 2023-12-09 01:39:43,185] Trial 437 finished with value: 0.05133346009278546 and parameters: {'coarse_recommender': 'easeR', 'use_3_levels': False, 'cutoff': 345, 'final_recommender_c1:easeR': 'slim'}. Best is trial 364 with value: 0.05133847733814318.\n"
     ]
    },
    {
     "name": "stdout",
     "output_type": "stream",
     "text": [
      "Recommender_Base_Class: URM Detected 627 ( 4.8%) users with no interactions.\n",
      "Recommender_Base_Class: URM Detected 247 ( 1.1%) items with no interactions.\n",
      "EvaluatorHoldout: Processed 10456 (100.0%) in 28.65 sec. Users per second: 365\n"
     ]
    },
    {
     "name": "stderr",
     "output_type": "stream",
     "text": [
      "[I 2023-12-09 01:40:12,050] Trial 438 finished with value: 0.0513328756330388 and parameters: {'coarse_recommender': 'easeR', 'use_3_levels': False, 'cutoff': 465, 'final_recommender_c1:easeR': 'slim'}. Best is trial 364 with value: 0.05133847733814318.\n"
     ]
    },
    {
     "name": "stdout",
     "output_type": "stream",
     "text": [
      "Recommender_Base_Class: URM Detected 627 ( 4.8%) users with no interactions.\n",
      "Recommender_Base_Class: URM Detected 247 ( 1.1%) items with no interactions.\n",
      "EvaluatorHoldout: Processed 10456 (100.0%) in 28.81 sec. Users per second: 363\n"
     ]
    },
    {
     "name": "stderr",
     "output_type": "stream",
     "text": [
      "[I 2023-12-09 01:40:41,086] Trial 439 finished with value: 0.0513328756330388 and parameters: {'coarse_recommender': 'easeR', 'use_3_levels': False, 'cutoff': 637, 'final_recommender_c1:easeR': 'slim'}. Best is trial 364 with value: 0.05133847733814318.\n"
     ]
    },
    {
     "name": "stdout",
     "output_type": "stream",
     "text": [
      "Recommender_Base_Class: URM Detected 627 ( 4.8%) users with no interactions.\n",
      "Recommender_Base_Class: URM Detected 247 ( 1.1%) items with no interactions.\n",
      "EvaluatorHoldout: Processed 10456 (100.0%) in 28.30 sec. Users per second: 369\n"
     ]
    },
    {
     "name": "stderr",
     "output_type": "stream",
     "text": [
      "[I 2023-12-09 01:41:09,606] Trial 440 finished with value: 0.051334416481461816 and parameters: {'coarse_recommender': 'easeR', 'use_3_levels': False, 'cutoff': 303, 'final_recommender_c1:easeR': 'slim'}. Best is trial 364 with value: 0.05133847733814318.\n"
     ]
    },
    {
     "name": "stdout",
     "output_type": "stream",
     "text": [
      "Recommender_Base_Class: URM Detected 627 ( 4.8%) users with no interactions.\n",
      "Recommender_Base_Class: URM Detected 247 ( 1.1%) items with no interactions.\n",
      "EvaluatorHoldout: Processed 10456 (100.0%) in 28.29 sec. Users per second: 370\n"
     ]
    },
    {
     "name": "stderr",
     "output_type": "stream",
     "text": [
      "[I 2023-12-09 01:41:38,112] Trial 441 finished with value: 0.05133175984624971 and parameters: {'coarse_recommender': 'easeR', 'use_3_levels': False, 'cutoff': 285, 'final_recommender_c1:easeR': 'slim'}. Best is trial 364 with value: 0.05133847733814318.\n"
     ]
    },
    {
     "name": "stdout",
     "output_type": "stream",
     "text": [
      "Recommender_Base_Class: URM Detected 627 ( 4.8%) users with no interactions.\n",
      "Recommender_Base_Class: URM Detected 247 ( 1.1%) items with no interactions.\n",
      "EvaluatorHoldout: Processed 10456 (100.0%) in 28.10 sec. Users per second: 372\n"
     ]
    },
    {
     "name": "stderr",
     "output_type": "stream",
     "text": [
      "[I 2023-12-09 01:42:06,438] Trial 442 finished with value: 0.05133346009278546 and parameters: {'coarse_recommender': 'easeR', 'use_3_levels': False, 'cutoff': 338, 'final_recommender_c1:easeR': 'slim'}. Best is trial 364 with value: 0.05133847733814318.\n"
     ]
    },
    {
     "name": "stdout",
     "output_type": "stream",
     "text": [
      "Recommender_Base_Class: URM Detected 627 ( 4.8%) users with no interactions.\n",
      "Recommender_Base_Class: URM Detected 247 ( 1.1%) items with no interactions.\n",
      "EvaluatorHoldout: Processed 10456 (100.0%) in 28.44 sec. Users per second: 368\n"
     ]
    },
    {
     "name": "stderr",
     "output_type": "stream",
     "text": [
      "[I 2023-12-09 01:42:35,087] Trial 443 finished with value: 0.05133263274067655 and parameters: {'coarse_recommender': 'easeR', 'use_3_levels': False, 'cutoff': 277, 'final_recommender_c1:easeR': 'slim'}. Best is trial 364 with value: 0.05133847733814318.\n"
     ]
    },
    {
     "name": "stdout",
     "output_type": "stream",
     "text": [
      "Recommender_Base_Class: URM Detected 627 ( 4.8%) users with no interactions.\n",
      "Recommender_Base_Class: URM Detected 247 ( 1.1%) items with no interactions.\n",
      "EvaluatorHoldout: Processed 10456 (100.0%) in 28.36 sec. Users per second: 369\n"
     ]
    },
    {
     "name": "stderr",
     "output_type": "stream",
     "text": [
      "[I 2023-12-09 01:43:03,656] Trial 444 finished with value: 0.05133346009278546 and parameters: {'coarse_recommender': 'easeR', 'use_3_levels': False, 'cutoff': 351, 'final_recommender_c1:easeR': 'slim'}. Best is trial 364 with value: 0.05133847733814318.\n"
     ]
    },
    {
     "name": "stdout",
     "output_type": "stream",
     "text": [
      "Recommender_Base_Class: URM Detected 627 ( 4.8%) users with no interactions.\n",
      "Recommender_Base_Class: URM Detected 247 ( 1.1%) items with no interactions.\n",
      "EvaluatorHoldout: Processed 10456 (100.0%) in 28.47 sec. Users per second: 367\n"
     ]
    },
    {
     "name": "stderr",
     "output_type": "stream",
     "text": [
      "[I 2023-12-09 01:43:32,343] Trial 445 finished with value: 0.0513328756330388 and parameters: {'coarse_recommender': 'easeR', 'use_3_levels': False, 'cutoff': 473, 'final_recommender_c1:easeR': 'slim'}. Best is trial 364 with value: 0.05133847733814318.\n"
     ]
    },
    {
     "name": "stdout",
     "output_type": "stream",
     "text": [
      "Recommender_Base_Class: URM Detected 627 ( 4.8%) users with no interactions.\n",
      "Recommender_Base_Class: URM Detected 247 ( 1.1%) items with no interactions.\n",
      "EvaluatorHoldout: Processed 10456 (100.0%) in 32.80 sec. Users per second: 319\n"
     ]
    },
    {
     "name": "stderr",
     "output_type": "stream",
     "text": [
      "[I 2023-12-09 01:44:05,389] Trial 446 finished with value: 0.04877321519656129 and parameters: {'coarse_recommender': 'easeR', 'use_3_levels': True, 'coarse_2_recommender_c1:easeR': 'alpha', 'final_recommender_c1:easeR_c2:alpha': 'itemKnn', 'cutoff1': 460, 'cutoff2': 200}. Best is trial 364 with value: 0.05133847733814318.\n"
     ]
    },
    {
     "name": "stdout",
     "output_type": "stream",
     "text": [
      "Recommender_Base_Class: URM Detected 627 ( 4.8%) users with no interactions.\n",
      "Recommender_Base_Class: URM Detected 247 ( 1.1%) items with no interactions.\n",
      "EvaluatorHoldout: Processed 10456 (100.0%) in 28.19 sec. Users per second: 371\n"
     ]
    },
    {
     "name": "stderr",
     "output_type": "stream",
     "text": [
      "[I 2023-12-09 01:44:33,787] Trial 447 finished with value: 0.051334416481461816 and parameters: {'coarse_recommender': 'easeR', 'use_3_levels': False, 'cutoff': 291, 'final_recommender_c1:easeR': 'slim'}. Best is trial 364 with value: 0.05133847733814318.\n"
     ]
    },
    {
     "name": "stdout",
     "output_type": "stream",
     "text": [
      "Recommender_Base_Class: URM Detected 627 ( 4.8%) users with no interactions.\n",
      "Recommender_Base_Class: URM Detected 247 ( 1.1%) items with no interactions.\n",
      "EvaluatorHoldout: Processed 10456 (100.0%) in 28.27 sec. Users per second: 370\n"
     ]
    },
    {
     "name": "stderr",
     "output_type": "stream",
     "text": [
      "[I 2023-12-09 01:45:02,281] Trial 448 finished with value: 0.05133175984624971 and parameters: {'coarse_recommender': 'easeR', 'use_3_levels': False, 'cutoff': 281, 'final_recommender_c1:easeR': 'slim'}. Best is trial 364 with value: 0.05133847733814318.\n"
     ]
    },
    {
     "name": "stdout",
     "output_type": "stream",
     "text": [
      "Recommender_Base_Class: URM Detected 627 ( 4.8%) users with no interactions.\n",
      "Recommender_Base_Class: URM Detected 247 ( 1.1%) items with no interactions.\n",
      "EvaluatorHoldout: Processed 10456 (100.0%) in 28.57 sec. Users per second: 366\n"
     ]
    },
    {
     "name": "stderr",
     "output_type": "stream",
     "text": [
      "[I 2023-12-09 01:45:31,100] Trial 449 finished with value: 0.05133346009278546 and parameters: {'coarse_recommender': 'easeR', 'use_3_levels': False, 'cutoff': 330, 'final_recommender_c1:easeR': 'slim'}. Best is trial 364 with value: 0.05133847733814318.\n"
     ]
    },
    {
     "name": "stdout",
     "output_type": "stream",
     "text": [
      "Recommender_Base_Class: URM Detected 627 ( 4.8%) users with no interactions.\n",
      "Recommender_Base_Class: URM Detected 247 ( 1.1%) items with no interactions.\n",
      "EvaluatorHoldout: Processed 10456 (100.0%) in 28.34 sec. Users per second: 369\n"
     ]
    },
    {
     "name": "stderr",
     "output_type": "stream",
     "text": [
      "[I 2023-12-09 01:45:59,651] Trial 450 finished with value: 0.0513328756330388 and parameters: {'coarse_recommender': 'easeR', 'use_3_levels': False, 'cutoff': 552, 'final_recommender_c1:easeR': 'slim'}. Best is trial 364 with value: 0.05133847733814318.\n"
     ]
    },
    {
     "name": "stdout",
     "output_type": "stream",
     "text": [
      "Recommender_Base_Class: URM Detected 627 ( 4.8%) users with no interactions.\n",
      "Recommender_Base_Class: URM Detected 247 ( 1.1%) items with no interactions.\n",
      "EvaluatorHoldout: Processed 10456 (100.0%) in 28.36 sec. Users per second: 369\n"
     ]
    },
    {
     "name": "stderr",
     "output_type": "stream",
     "text": [
      "[I 2023-12-09 01:46:28,226] Trial 451 finished with value: 0.051334416481461816 and parameters: {'coarse_recommender': 'easeR', 'use_3_levels': False, 'cutoff': 294, 'final_recommender_c1:easeR': 'slim'}. Best is trial 364 with value: 0.05133847733814318.\n"
     ]
    },
    {
     "name": "stdout",
     "output_type": "stream",
     "text": [
      "Recommender_Base_Class: URM Detected 627 ( 4.8%) users with no interactions.\n",
      "Recommender_Base_Class: URM Detected 247 ( 1.1%) items with no interactions.\n",
      "EvaluatorHoldout: Processed 10456 (100.0%) in 28.34 sec. Users per second: 369\n"
     ]
    },
    {
     "name": "stderr",
     "output_type": "stream",
     "text": [
      "[I 2023-12-09 01:46:56,776] Trial 452 finished with value: 0.05133175984624971 and parameters: {'coarse_recommender': 'easeR', 'use_3_levels': False, 'cutoff': 284, 'final_recommender_c1:easeR': 'slim'}. Best is trial 364 with value: 0.05133847733814318.\n"
     ]
    },
    {
     "name": "stdout",
     "output_type": "stream",
     "text": [
      "Recommender_Base_Class: URM Detected 627 ( 4.8%) users with no interactions.\n",
      "Recommender_Base_Class: URM Detected 247 ( 1.1%) items with no interactions.\n",
      "EvaluatorHoldout: Processed 10456 (100.0%) in 28.21 sec. Users per second: 371\n"
     ]
    },
    {
     "name": "stderr",
     "output_type": "stream",
     "text": [
      "[I 2023-12-09 01:47:25,203] Trial 453 finished with value: 0.05133346009278546 and parameters: {'coarse_recommender': 'easeR', 'use_3_levels': False, 'cutoff': 341, 'final_recommender_c1:easeR': 'slim'}. Best is trial 364 with value: 0.05133847733814318.\n"
     ]
    },
    {
     "name": "stdout",
     "output_type": "stream",
     "text": [
      "Recommender_Base_Class: URM Detected 627 ( 4.8%) users with no interactions.\n",
      "Recommender_Base_Class: URM Detected 247 ( 1.1%) items with no interactions.\n",
      "EvaluatorHoldout: Processed 10456 (100.0%) in 28.43 sec. Users per second: 368\n"
     ]
    },
    {
     "name": "stderr",
     "output_type": "stream",
     "text": [
      "[I 2023-12-09 01:47:53,851] Trial 454 finished with value: 0.05133550190670563 and parameters: {'coarse_recommender': 'easeR', 'use_3_levels': False, 'cutoff': 268, 'final_recommender_c1:easeR': 'slim'}. Best is trial 364 with value: 0.05133847733814318.\n"
     ]
    },
    {
     "name": "stdout",
     "output_type": "stream",
     "text": [
      "Recommender_Base_Class: URM Detected 627 ( 4.8%) users with no interactions.\n",
      "Recommender_Base_Class: URM Detected 247 ( 1.1%) items with no interactions.\n",
      "EvaluatorHoldout: Processed 10456 (100.0%) in 28.46 sec. Users per second: 367\n"
     ]
    },
    {
     "name": "stderr",
     "output_type": "stream",
     "text": [
      "[I 2023-12-09 01:48:22,546] Trial 455 finished with value: 0.05133550190670563 and parameters: {'coarse_recommender': 'easeR', 'use_3_levels': False, 'cutoff': 270, 'final_recommender_c1:easeR': 'slim'}. Best is trial 364 with value: 0.05133847733814318.\n"
     ]
    },
    {
     "name": "stdout",
     "output_type": "stream",
     "text": [
      "Recommender_Base_Class: URM Detected 627 ( 4.8%) users with no interactions.\n",
      "Recommender_Base_Class: URM Detected 247 ( 1.1%) items with no interactions.\n",
      "EvaluatorHoldout: Processed 10456 (100.0%) in 28.36 sec. Users per second: 369\n"
     ]
    },
    {
     "name": "stderr",
     "output_type": "stream",
     "text": [
      "[I 2023-12-09 01:48:51,125] Trial 456 finished with value: 0.05133560817211411 and parameters: {'coarse_recommender': 'easeR', 'use_3_levels': False, 'cutoff': 258, 'final_recommender_c1:easeR': 'slim'}. Best is trial 364 with value: 0.05133847733814318.\n"
     ]
    },
    {
     "name": "stdout",
     "output_type": "stream",
     "text": [
      "Recommender_Base_Class: URM Detected 627 ( 4.8%) users with no interactions.\n",
      "Recommender_Base_Class: URM Detected 247 ( 1.1%) items with no interactions.\n",
      "EvaluatorHoldout: Processed 10456 (100.0%) in 28.28 sec. Users per second: 370\n"
     ]
    },
    {
     "name": "stderr",
     "output_type": "stream",
     "text": [
      "[I 2023-12-09 01:49:19,630] Trial 457 finished with value: 0.05133550190670563 and parameters: {'coarse_recommender': 'easeR', 'use_3_levels': False, 'cutoff': 270, 'final_recommender_c1:easeR': 'slim'}. Best is trial 364 with value: 0.05133847733814318.\n"
     ]
    },
    {
     "name": "stdout",
     "output_type": "stream",
     "text": [
      "Recommender_Base_Class: URM Detected 627 ( 4.8%) users with no interactions.\n",
      "Recommender_Base_Class: URM Detected 247 ( 1.1%) items with no interactions.\n",
      "EvaluatorHoldout: Processed 10456 (100.0%) in 26.12 sec. Users per second: 400\n"
     ]
    },
    {
     "name": "stderr",
     "output_type": "stream",
     "text": [
      "[I 2023-12-09 01:49:45,969] Trial 458 finished with value: 0.049292477319926274 and parameters: {'coarse_recommender': 'easeR', 'use_3_levels': False, 'cutoff': 279, 'final_recommender_c1:easeR': 'rp3'}. Best is trial 364 with value: 0.05133847733814318.\n"
     ]
    },
    {
     "name": "stdout",
     "output_type": "stream",
     "text": [
      "Recommender_Base_Class: URM Detected 627 ( 4.8%) users with no interactions.\n",
      "Recommender_Base_Class: URM Detected 247 ( 1.1%) items with no interactions.\n",
      "EvaluatorHoldout: Processed 10456 (100.0%) in 25.88 sec. Users per second: 404\n"
     ]
    },
    {
     "name": "stderr",
     "output_type": "stream",
     "text": [
      "[I 2023-12-09 01:50:12,072] Trial 459 finished with value: 0.05004433544649762 and parameters: {'coarse_recommender': 'easeR', 'use_3_levels': False, 'cutoff': 279, 'final_recommender_c1:easeR': 'merging'}. Best is trial 364 with value: 0.05133847733814318.\n"
     ]
    },
    {
     "name": "stdout",
     "output_type": "stream",
     "text": [
      "Recommender_Base_Class: URM Detected 627 ( 4.8%) users with no interactions.\n",
      "Recommender_Base_Class: URM Detected 247 ( 1.1%) items with no interactions.\n",
      "EvaluatorHoldout: Processed 10456 (100.0%) in 29.59 sec. Users per second: 353\n"
     ]
    },
    {
     "name": "stderr",
     "output_type": "stream",
     "text": [
      "[I 2023-12-09 01:50:41,880] Trial 460 finished with value: 0.04176286722289069 and parameters: {'coarse_recommender': 'easeR', 'use_3_levels': False, 'cutoff': 274, 'final_recommender_c1:easeR': 'ials'}. Best is trial 364 with value: 0.05133847733814318.\n"
     ]
    },
    {
     "name": "stdout",
     "output_type": "stream",
     "text": [
      "Recommender_Base_Class: URM Detected 627 ( 4.8%) users with no interactions.\n",
      "Recommender_Base_Class: URM Detected 247 ( 1.1%) items with no interactions.\n",
      "EvaluatorHoldout: Processed 10456 (100.0%) in 28.57 sec. Users per second: 366\n"
     ]
    },
    {
     "name": "stderr",
     "output_type": "stream",
     "text": [
      "[I 2023-12-09 01:51:10,666] Trial 461 finished with value: 0.05133550190670563 and parameters: {'coarse_recommender': 'easeR', 'use_3_levels': False, 'cutoff': 269, 'final_recommender_c1:easeR': 'slim'}. Best is trial 364 with value: 0.05133847733814318.\n"
     ]
    },
    {
     "name": "stdout",
     "output_type": "stream",
     "text": [
      "Recommender_Base_Class: URM Detected 627 ( 4.8%) users with no interactions.\n",
      "Recommender_Base_Class: URM Detected 247 ( 1.1%) items with no interactions.\n",
      "EvaluatorHoldout: Processed 10456 (100.0%) in 28.24 sec. Users per second: 370\n"
     ]
    },
    {
     "name": "stderr",
     "output_type": "stream",
     "text": [
      "[I 2023-12-09 01:51:39,129] Trial 462 finished with value: 0.051337027574356 and parameters: {'coarse_recommender': 'easeR', 'use_3_levels': False, 'cutoff': 250, 'final_recommender_c1:easeR': 'slim'}. Best is trial 364 with value: 0.05133847733814318.\n"
     ]
    },
    {
     "name": "stdout",
     "output_type": "stream",
     "text": [
      "Recommender_Base_Class: URM Detected 627 ( 4.8%) users with no interactions.\n",
      "Recommender_Base_Class: URM Detected 247 ( 1.1%) items with no interactions.\n",
      "EvaluatorHoldout: Processed 10456 (100.0%) in 25.46 sec. Users per second: 411\n"
     ]
    },
    {
     "name": "stderr",
     "output_type": "stream",
     "text": [
      "[I 2023-12-09 01:52:04,816] Trial 463 finished with value: 0.04819145762742798 and parameters: {'coarse_recommender': 'easeR', 'use_3_levels': False, 'cutoff': 247, 'final_recommender_c1:easeR': 'alpha'}. Best is trial 364 with value: 0.05133847733814318.\n"
     ]
    },
    {
     "name": "stdout",
     "output_type": "stream",
     "text": [
      "Recommender_Base_Class: URM Detected 627 ( 4.8%) users with no interactions.\n",
      "Recommender_Base_Class: URM Detected 247 ( 1.1%) items with no interactions.\n",
      "EvaluatorHoldout: Processed 10456 (100.0%) in 28.33 sec. Users per second: 369\n"
     ]
    },
    {
     "name": "stderr",
     "output_type": "stream",
     "text": [
      "[I 2023-12-09 01:52:33,345] Trial 464 finished with value: 0.051336894742595396 and parameters: {'coarse_recommender': 'easeR', 'use_3_levels': False, 'cutoff': 252, 'final_recommender_c1:easeR': 'slim'}. Best is trial 364 with value: 0.05133847733814318.\n"
     ]
    },
    {
     "name": "stdout",
     "output_type": "stream",
     "text": [
      "Recommender_Base_Class: URM Detected 627 ( 4.8%) users with no interactions.\n",
      "Recommender_Base_Class: URM Detected 247 ( 1.1%) items with no interactions.\n",
      "EvaluatorHoldout: Processed 10456 (100.0%) in 28.34 sec. Users per second: 369\n"
     ]
    },
    {
     "name": "stderr",
     "output_type": "stream",
     "text": [
      "[I 2023-12-09 01:53:01,894] Trial 465 finished with value: 0.051337027574356 and parameters: {'coarse_recommender': 'easeR', 'use_3_levels': False, 'cutoff': 247, 'final_recommender_c1:easeR': 'slim'}. Best is trial 364 with value: 0.05133847733814318.\n"
     ]
    },
    {
     "name": "stdout",
     "output_type": "stream",
     "text": [
      "Recommender_Base_Class: URM Detected 627 ( 4.8%) users with no interactions.\n",
      "Recommender_Base_Class: URM Detected 247 ( 1.1%) items with no interactions.\n",
      "EvaluatorHoldout: Processed 10456 (100.0%) in 39.70 sec. Users per second: 263\n"
     ]
    },
    {
     "name": "stderr",
     "output_type": "stream",
     "text": [
      "[I 2023-12-09 01:53:41,842] Trial 466 finished with value: 0.03638129850256889 and parameters: {'coarse_recommender': 'easeR', 'use_3_levels': True, 'coarse_2_recommender_c1:easeR': 'ials', 'final_recommender_c1:easeR_c2:ials': 'userKnn', 'cutoff1': 630, 'cutoff2': 255}. Best is trial 364 with value: 0.05133847733814318.\n"
     ]
    },
    {
     "name": "stdout",
     "output_type": "stream",
     "text": [
      "Recommender_Base_Class: URM Detected 627 ( 4.8%) users with no interactions.\n",
      "Recommender_Base_Class: URM Detected 247 ( 1.1%) items with no interactions.\n",
      "EvaluatorHoldout: Processed 10456 (100.0%) in 28.45 sec. Users per second: 367\n"
     ]
    },
    {
     "name": "stderr",
     "output_type": "stream",
     "text": [
      "[I 2023-12-09 01:54:10,529] Trial 467 finished with value: 0.05133657594636995 and parameters: {'coarse_recommender': 'easeR', 'use_3_levels': False, 'cutoff': 255, 'final_recommender_c1:easeR': 'slim'}. Best is trial 364 with value: 0.05133847733814318.\n"
     ]
    },
    {
     "name": "stdout",
     "output_type": "stream",
     "text": [
      "Recommender_Base_Class: URM Detected 627 ( 4.8%) users with no interactions.\n",
      "Recommender_Base_Class: URM Detected 247 ( 1.1%) items with no interactions.\n",
      "EvaluatorHoldout: Processed 10456 (100.0%) in 28.48 sec. Users per second: 367\n"
     ]
    },
    {
     "name": "stderr",
     "output_type": "stream",
     "text": [
      "[I 2023-12-09 01:54:39,230] Trial 468 finished with value: 0.03640415315577933 and parameters: {'coarse_recommender': 'easeR', 'use_3_levels': False, 'cutoff': 237, 'final_recommender_c1:easeR': 'userKnn'}. Best is trial 364 with value: 0.05133847733814318.\n"
     ]
    },
    {
     "name": "stdout",
     "output_type": "stream",
     "text": [
      "Recommender_Base_Class: URM Detected 627 ( 4.8%) users with no interactions.\n",
      "Recommender_Base_Class: URM Detected 247 ( 1.1%) items with no interactions.\n",
      "EvaluatorHoldout: Processed 10456 (100.0%) in 25.79 sec. Users per second: 405\n"
     ]
    },
    {
     "name": "stderr",
     "output_type": "stream",
     "text": [
      "[I 2023-12-09 01:55:05,245] Trial 469 finished with value: 0.04874087635564373 and parameters: {'coarse_recommender': 'easeR', 'use_3_levels': False, 'cutoff': 257, 'final_recommender_c1:easeR': 'itemKnn'}. Best is trial 364 with value: 0.05133847733814318.\n"
     ]
    },
    {
     "name": "stdout",
     "output_type": "stream",
     "text": [
      "Recommender_Base_Class: URM Detected 627 ( 4.8%) users with no interactions.\n",
      "Recommender_Base_Class: URM Detected 247 ( 1.1%) items with no interactions.\n",
      "EvaluatorHoldout: Processed 10456 (100.0%) in 28.31 sec. Users per second: 369\n"
     ]
    },
    {
     "name": "stderr",
     "output_type": "stream",
     "text": [
      "[I 2023-12-09 01:55:33,775] Trial 470 finished with value: 0.05133560817211411 and parameters: {'coarse_recommender': 'easeR', 'use_3_levels': False, 'cutoff': 259, 'final_recommender_c1:easeR': 'slim'}. Best is trial 364 with value: 0.05133847733814318.\n"
     ]
    },
    {
     "name": "stdout",
     "output_type": "stream",
     "text": [
      "Recommender_Base_Class: URM Detected 627 ( 4.8%) users with no interactions.\n",
      "Recommender_Base_Class: URM Detected 247 ( 1.1%) items with no interactions.\n",
      "EvaluatorHoldout: Processed 10456 (100.0%) in 28.16 sec. Users per second: 371\n"
     ]
    },
    {
     "name": "stderr",
     "output_type": "stream",
     "text": [
      "[I 2023-12-09 01:56:02,148] Trial 471 finished with value: 0.05133560817211411 and parameters: {'coarse_recommender': 'easeR', 'use_3_levels': False, 'cutoff': 257, 'final_recommender_c1:easeR': 'slim'}. Best is trial 364 with value: 0.05133847733814318.\n"
     ]
    },
    {
     "name": "stdout",
     "output_type": "stream",
     "text": [
      "Recommender_Base_Class: URM Detected 627 ( 4.8%) users with no interactions.\n",
      "Recommender_Base_Class: URM Detected 247 ( 1.1%) items with no interactions.\n",
      "EvaluatorHoldout: Processed 10456 (100.0%) in 28.19 sec. Users per second: 371\n"
     ]
    },
    {
     "name": "stderr",
     "output_type": "stream",
     "text": [
      "[I 2023-12-09 01:56:30,541] Trial 472 finished with value: 0.051337027574356 and parameters: {'coarse_recommender': 'easeR', 'use_3_levels': False, 'cutoff': 251, 'final_recommender_c1:easeR': 'slim'}. Best is trial 364 with value: 0.05133847733814318.\n"
     ]
    },
    {
     "name": "stdout",
     "output_type": "stream",
     "text": [
      "Recommender_Base_Class: URM Detected 627 ( 4.8%) users with no interactions.\n",
      "Recommender_Base_Class: URM Detected 247 ( 1.1%) items with no interactions.\n",
      "EvaluatorHoldout: Processed 10456 (100.0%) in 27.97 sec. Users per second: 374\n"
     ]
    },
    {
     "name": "stderr",
     "output_type": "stream",
     "text": [
      "[I 2023-12-09 01:56:58,718] Trial 473 finished with value: 0.05133657594636995 and parameters: {'coarse_recommender': 'easeR', 'use_3_levels': False, 'cutoff': 255, 'final_recommender_c1:easeR': 'slim'}. Best is trial 364 with value: 0.05133847733814318.\n"
     ]
    },
    {
     "name": "stdout",
     "output_type": "stream",
     "text": [
      "Recommender_Base_Class: URM Detected 627 ( 4.8%) users with no interactions.\n",
      "Recommender_Base_Class: URM Detected 247 ( 1.1%) items with no interactions.\n",
      "EvaluatorHoldout: Processed 10456 (100.0%) in 28.41 sec. Users per second: 368\n"
     ]
    },
    {
     "name": "stderr",
     "output_type": "stream",
     "text": [
      "[I 2023-12-09 01:57:27,365] Trial 474 finished with value: 0.051337027574356 and parameters: {'coarse_recommender': 'easeR', 'use_3_levels': False, 'cutoff': 245, 'final_recommender_c1:easeR': 'slim'}. Best is trial 364 with value: 0.05133847733814318.\n"
     ]
    },
    {
     "name": "stdout",
     "output_type": "stream",
     "text": [
      "Recommender_Base_Class: URM Detected 627 ( 4.8%) users with no interactions.\n",
      "Recommender_Base_Class: URM Detected 247 ( 1.1%) items with no interactions.\n",
      "EvaluatorHoldout: Processed 10456 (100.0%) in 28.62 sec. Users per second: 365\n"
     ]
    },
    {
     "name": "stderr",
     "output_type": "stream",
     "text": [
      "[I 2023-12-09 01:57:56,207] Trial 475 finished with value: 0.051337027574356 and parameters: {'coarse_recommender': 'easeR', 'use_3_levels': False, 'cutoff': 249, 'final_recommender_c1:easeR': 'slim'}. Best is trial 364 with value: 0.05133847733814318.\n"
     ]
    },
    {
     "name": "stdout",
     "output_type": "stream",
     "text": [
      "Recommender_Base_Class: URM Detected 627 ( 4.8%) users with no interactions.\n",
      "Recommender_Base_Class: URM Detected 247 ( 1.1%) items with no interactions.\n",
      "EvaluatorHoldout: Processed 10456 (100.0%) in 28.11 sec. Users per second: 372\n"
     ]
    },
    {
     "name": "stderr",
     "output_type": "stream",
     "text": [
      "[I 2023-12-09 01:58:24,535] Trial 476 finished with value: 0.051337027574356 and parameters: {'coarse_recommender': 'easeR', 'use_3_levels': False, 'cutoff': 240, 'final_recommender_c1:easeR': 'slim'}. Best is trial 364 with value: 0.05133847733814318.\n"
     ]
    },
    {
     "name": "stdout",
     "output_type": "stream",
     "text": [
      "Recommender_Base_Class: URM Detected 627 ( 4.8%) users with no interactions.\n",
      "Recommender_Base_Class: URM Detected 247 ( 1.1%) items with no interactions.\n",
      "EvaluatorHoldout: Processed 10456 (100.0%) in 28.20 sec. Users per second: 371\n"
     ]
    },
    {
     "name": "stderr",
     "output_type": "stream",
     "text": [
      "[I 2023-12-09 01:58:52,956] Trial 477 finished with value: 0.051337027574356 and parameters: {'coarse_recommender': 'easeR', 'use_3_levels': False, 'cutoff': 243, 'final_recommender_c1:easeR': 'slim'}. Best is trial 364 with value: 0.05133847733814318.\n"
     ]
    },
    {
     "name": "stdout",
     "output_type": "stream",
     "text": [
      "Recommender_Base_Class: URM Detected 627 ( 4.8%) users with no interactions.\n",
      "Recommender_Base_Class: URM Detected 247 ( 1.1%) items with no interactions.\n",
      "EvaluatorHoldout: Processed 10456 (100.0%) in 28.40 sec. Users per second: 368\n"
     ]
    },
    {
     "name": "stderr",
     "output_type": "stream",
     "text": [
      "[I 2023-12-09 01:59:21,582] Trial 478 finished with value: 0.051336894742595396 and parameters: {'coarse_recommender': 'easeR', 'use_3_levels': False, 'cutoff': 253, 'final_recommender_c1:easeR': 'slim'}. Best is trial 364 with value: 0.05133847733814318.\n"
     ]
    },
    {
     "name": "stdout",
     "output_type": "stream",
     "text": [
      "Recommender_Base_Class: URM Detected 627 ( 4.8%) users with no interactions.\n",
      "Recommender_Base_Class: URM Detected 247 ( 1.1%) items with no interactions.\n",
      "EvaluatorHoldout: Processed 10456 (100.0%) in 28.39 sec. Users per second: 368\n"
     ]
    },
    {
     "name": "stderr",
     "output_type": "stream",
     "text": [
      "[I 2023-12-09 01:59:50,203] Trial 479 finished with value: 0.051337027574356 and parameters: {'coarse_recommender': 'easeR', 'use_3_levels': False, 'cutoff': 242, 'final_recommender_c1:easeR': 'slim'}. Best is trial 364 with value: 0.05133847733814318.\n"
     ]
    },
    {
     "name": "stdout",
     "output_type": "stream",
     "text": [
      "Recommender_Base_Class: URM Detected 627 ( 4.8%) users with no interactions.\n",
      "Recommender_Base_Class: URM Detected 247 ( 1.1%) items with no interactions.\n",
      "EvaluatorHoldout: Processed 10456 (100.0%) in 28.30 sec. Users per second: 369\n"
     ]
    },
    {
     "name": "stderr",
     "output_type": "stream",
     "text": [
      "[I 2023-12-09 02:00:18,732] Trial 480 finished with value: 0.05133550190670563 and parameters: {'coarse_recommender': 'easeR', 'use_3_levels': False, 'cutoff': 270, 'final_recommender_c1:easeR': 'slim'}. Best is trial 364 with value: 0.05133847733814318.\n"
     ]
    },
    {
     "name": "stdout",
     "output_type": "stream",
     "text": [
      "Recommender_Base_Class: URM Detected 627 ( 4.8%) users with no interactions.\n",
      "Recommender_Base_Class: URM Detected 247 ( 1.1%) items with no interactions.\n",
      "EvaluatorHoldout: Processed 10456 (100.0%) in 28.16 sec. Users per second: 371\n"
     ]
    },
    {
     "name": "stderr",
     "output_type": "stream",
     "text": [
      "[I 2023-12-09 02:00:47,160] Trial 481 finished with value: 0.051337027574356 and parameters: {'coarse_recommender': 'easeR', 'use_3_levels': False, 'cutoff': 242, 'final_recommender_c1:easeR': 'slim'}. Best is trial 364 with value: 0.05133847733814318.\n"
     ]
    },
    {
     "name": "stdout",
     "output_type": "stream",
     "text": [
      "Recommender_Base_Class: URM Detected 627 ( 4.8%) users with no interactions.\n",
      "Recommender_Base_Class: URM Detected 247 ( 1.1%) items with no interactions.\n",
      "EvaluatorHoldout: Processed 10456 (100.0%) in 28.38 sec. Users per second: 368\n"
     ]
    },
    {
     "name": "stderr",
     "output_type": "stream",
     "text": [
      "[I 2023-12-09 02:01:15,764] Trial 482 finished with value: 0.05133607118567964 and parameters: {'coarse_recommender': 'easeR', 'use_3_levels': False, 'cutoff': 224, 'final_recommender_c1:easeR': 'slim'}. Best is trial 364 with value: 0.05133847733814318.\n"
     ]
    },
    {
     "name": "stdout",
     "output_type": "stream",
     "text": [
      "Recommender_Base_Class: URM Detected 627 ( 4.8%) users with no interactions.\n",
      "Recommender_Base_Class: URM Detected 247 ( 1.1%) items with no interactions.\n",
      "EvaluatorHoldout: Processed 10456 (100.0%) in 28.13 sec. Users per second: 372\n"
     ]
    },
    {
     "name": "stderr",
     "output_type": "stream",
     "text": [
      "[I 2023-12-09 02:01:44,130] Trial 483 finished with value: 0.051337027574356 and parameters: {'coarse_recommender': 'easeR', 'use_3_levels': False, 'cutoff': 234, 'final_recommender_c1:easeR': 'slim'}. Best is trial 364 with value: 0.05133847733814318.\n"
     ]
    },
    {
     "name": "stdout",
     "output_type": "stream",
     "text": [
      "Recommender_Base_Class: URM Detected 627 ( 4.8%) users with no interactions.\n",
      "Recommender_Base_Class: URM Detected 247 ( 1.1%) items with no interactions.\n",
      "EvaluatorHoldout: Processed 10456 (100.0%) in 28.26 sec. Users per second: 370\n"
     ]
    },
    {
     "name": "stderr",
     "output_type": "stream",
     "text": [
      "[I 2023-12-09 02:02:12,620] Trial 484 finished with value: 0.051337027574356 and parameters: {'coarse_recommender': 'easeR', 'use_3_levels': False, 'cutoff': 245, 'final_recommender_c1:easeR': 'slim'}. Best is trial 364 with value: 0.05133847733814318.\n"
     ]
    },
    {
     "name": "stdout",
     "output_type": "stream",
     "text": [
      "Recommender_Base_Class: URM Detected 627 ( 4.8%) users with no interactions.\n",
      "Recommender_Base_Class: URM Detected 247 ( 1.1%) items with no interactions.\n",
      "EvaluatorHoldout: Processed 10456 (100.0%) in 28.17 sec. Users per second: 371\n"
     ]
    },
    {
     "name": "stderr",
     "output_type": "stream",
     "text": [
      "[I 2023-12-09 02:02:41,031] Trial 485 finished with value: 0.05133607118567964 and parameters: {'coarse_recommender': 'easeR', 'use_3_levels': False, 'cutoff': 231, 'final_recommender_c1:easeR': 'slim'}. Best is trial 364 with value: 0.05133847733814318.\n"
     ]
    },
    {
     "name": "stdout",
     "output_type": "stream",
     "text": [
      "Recommender_Base_Class: URM Detected 627 ( 4.8%) users with no interactions.\n",
      "Recommender_Base_Class: URM Detected 247 ( 1.1%) items with no interactions.\n",
      "EvaluatorHoldout: Processed 10456 (100.0%) in 28.36 sec. Users per second: 369\n"
     ]
    },
    {
     "name": "stderr",
     "output_type": "stream",
     "text": [
      "[I 2023-12-09 02:03:09,614] Trial 486 finished with value: 0.05133596492027116 and parameters: {'coarse_recommender': 'easeR', 'use_3_levels': False, 'cutoff': 233, 'final_recommender_c1:easeR': 'slim'}. Best is trial 364 with value: 0.05133847733814318.\n"
     ]
    },
    {
     "name": "stdout",
     "output_type": "stream",
     "text": [
      "Recommender_Base_Class: URM Detected 627 ( 4.8%) users with no interactions.\n",
      "Recommender_Base_Class: URM Detected 247 ( 1.1%) items with no interactions.\n",
      "EvaluatorHoldout: Processed 10456 (100.0%) in 34.48 sec. Users per second: 303\n"
     ]
    },
    {
     "name": "stderr",
     "output_type": "stream",
     "text": [
      "[I 2023-12-09 02:03:44,361] Trial 487 finished with value: 0.049244411198552974 and parameters: {'coarse_recommender': 'easeR', 'use_3_levels': True, 'coarse_2_recommender_c1:easeR': 'itemKnn', 'final_recommender_c1:easeR_c2:itemKnn': 'rp3', 'cutoff1': 2847, 'cutoff2': 2292}. Best is trial 364 with value: 0.05133847733814318.\n"
     ]
    },
    {
     "name": "stdout",
     "output_type": "stream",
     "text": [
      "Recommender_Base_Class: URM Detected 627 ( 4.8%) users with no interactions.\n",
      "Recommender_Base_Class: URM Detected 247 ( 1.1%) items with no interactions.\n",
      "EvaluatorHoldout: Processed 10456 (100.0%) in 28.21 sec. Users per second: 371\n"
     ]
    },
    {
     "name": "stderr",
     "output_type": "stream",
     "text": [
      "[I 2023-12-09 02:04:12,810] Trial 488 finished with value: 0.05133798396303236 and parameters: {'coarse_recommender': 'easeR', 'use_3_levels': False, 'cutoff': 222, 'final_recommender_c1:easeR': 'slim'}. Best is trial 364 with value: 0.05133847733814318.\n"
     ]
    },
    {
     "name": "stdout",
     "output_type": "stream",
     "text": [
      "Recommender_Base_Class: URM Detected 627 ( 4.8%) users with no interactions.\n",
      "Recommender_Base_Class: URM Detected 247 ( 1.1%) items with no interactions.\n",
      "EvaluatorHoldout: Processed 10456 (100.0%) in 28.14 sec. Users per second: 372\n"
     ]
    },
    {
     "name": "stderr",
     "output_type": "stream",
     "text": [
      "[I 2023-12-09 02:04:41,186] Trial 489 finished with value: 0.05133798396303236 and parameters: {'coarse_recommender': 'easeR', 'use_3_levels': False, 'cutoff': 218, 'final_recommender_c1:easeR': 'slim'}. Best is trial 364 with value: 0.05133847733814318.\n"
     ]
    },
    {
     "name": "stdout",
     "output_type": "stream",
     "text": [
      "Recommender_Base_Class: URM Detected 627 ( 4.8%) users with no interactions.\n",
      "Recommender_Base_Class: URM Detected 247 ( 1.1%) items with no interactions.\n",
      "EvaluatorHoldout: Processed 10456 (100.0%) in 28.25 sec. Users per second: 370\n"
     ]
    },
    {
     "name": "stderr",
     "output_type": "stream",
     "text": [
      "[I 2023-12-09 02:05:09,667] Trial 490 finished with value: 0.051337027574356 and parameters: {'coarse_recommender': 'easeR', 'use_3_levels': False, 'cutoff': 240, 'final_recommender_c1:easeR': 'slim'}. Best is trial 364 with value: 0.05133847733814318.\n"
     ]
    },
    {
     "name": "stdout",
     "output_type": "stream",
     "text": [
      "Recommender_Base_Class: URM Detected 627 ( 4.8%) users with no interactions.\n",
      "Recommender_Base_Class: URM Detected 247 ( 1.1%) items with no interactions.\n",
      "EvaluatorHoldout: Processed 10456 (100.0%) in 28.28 sec. Users per second: 370\n"
     ]
    },
    {
     "name": "stderr",
     "output_type": "stream",
     "text": [
      "[I 2023-12-09 02:05:38,180] Trial 491 finished with value: 0.0513390086651856 and parameters: {'coarse_recommender': 'easeR', 'use_3_levels': False, 'cutoff': 210, 'final_recommender_c1:easeR': 'slim'}. Best is trial 491 with value: 0.0513390086651856.\n"
     ]
    },
    {
     "name": "stdout",
     "output_type": "stream",
     "text": [
      "Recommender_Base_Class: URM Detected 627 ( 4.8%) users with no interactions.\n",
      "Recommender_Base_Class: URM Detected 247 ( 1.1%) items with no interactions.\n",
      "EvaluatorHoldout: Processed 10456 (100.0%) in 28.09 sec. Users per second: 372\n"
     ]
    },
    {
     "name": "stderr",
     "output_type": "stream",
     "text": [
      "[I 2023-12-09 02:06:06,501] Trial 492 finished with value: 0.05133798396303236 and parameters: {'coarse_recommender': 'easeR', 'use_3_levels': False, 'cutoff': 221, 'final_recommender_c1:easeR': 'slim'}. Best is trial 491 with value: 0.0513390086651856.\n"
     ]
    },
    {
     "name": "stdout",
     "output_type": "stream",
     "text": [
      "Recommender_Base_Class: URM Detected 627 ( 4.8%) users with no interactions.\n",
      "Recommender_Base_Class: URM Detected 247 ( 1.1%) items with no interactions.\n",
      "EvaluatorHoldout: Processed 10456 (100.0%) in 28.35 sec. Users per second: 369\n"
     ]
    },
    {
     "name": "stderr",
     "output_type": "stream",
     "text": [
      "[I 2023-12-09 02:06:35,057] Trial 493 finished with value: 0.0513390086651856 and parameters: {'coarse_recommender': 'easeR', 'use_3_levels': False, 'cutoff': 206, 'final_recommender_c1:easeR': 'slim'}. Best is trial 491 with value: 0.0513390086651856.\n"
     ]
    },
    {
     "name": "stdout",
     "output_type": "stream",
     "text": [
      "Recommender_Base_Class: URM Detected 627 ( 4.8%) users with no interactions.\n",
      "Recommender_Base_Class: URM Detected 247 ( 1.1%) items with no interactions.\n",
      "EvaluatorHoldout: Processed 10456 (100.0%) in 28.42 sec. Users per second: 368\n"
     ]
    },
    {
     "name": "stderr",
     "output_type": "stream",
     "text": [
      "[I 2023-12-09 02:07:03,690] Trial 494 finished with value: 0.05133607118567964 and parameters: {'coarse_recommender': 'easeR', 'use_3_levels': False, 'cutoff': 229, 'final_recommender_c1:easeR': 'slim'}. Best is trial 491 with value: 0.0513390086651856.\n"
     ]
    },
    {
     "name": "stdout",
     "output_type": "stream",
     "text": [
      "Recommender_Base_Class: URM Detected 627 ( 4.8%) users with no interactions.\n",
      "Recommender_Base_Class: URM Detected 247 ( 1.1%) items with no interactions.\n",
      "EvaluatorHoldout: Processed 10456 (100.0%) in 26.11 sec. Users per second: 400\n"
     ]
    },
    {
     "name": "stderr",
     "output_type": "stream",
     "text": [
      "[I 2023-12-09 02:07:30,029] Trial 495 finished with value: 0.04932471369062857 and parameters: {'coarse_recommender': 'easeR', 'use_3_levels': False, 'cutoff': 212, 'final_recommender_c1:easeR': 'rp3'}. Best is trial 491 with value: 0.0513390086651856.\n"
     ]
    },
    {
     "name": "stdout",
     "output_type": "stream",
     "text": [
      "Recommender_Base_Class: URM Detected 627 ( 4.8%) users with no interactions.\n",
      "Recommender_Base_Class: URM Detected 247 ( 1.1%) items with no interactions.\n",
      "EvaluatorHoldout: Processed 10456 (100.0%) in 27.80 sec. Users per second: 376\n"
     ]
    },
    {
     "name": "stderr",
     "output_type": "stream",
     "text": [
      "[I 2023-12-09 02:07:58,063] Trial 496 finished with value: 0.0513390086651856 and parameters: {'coarse_recommender': 'easeR', 'use_3_levels': False, 'cutoff': 211, 'final_recommender_c1:easeR': 'slim'}. Best is trial 491 with value: 0.0513390086651856.\n"
     ]
    },
    {
     "name": "stdout",
     "output_type": "stream",
     "text": [
      "Recommender_Base_Class: URM Detected 627 ( 4.8%) users with no interactions.\n",
      "Recommender_Base_Class: URM Detected 247 ( 1.1%) items with no interactions.\n",
      "EvaluatorHoldout: Processed 10456 (100.0%) in 25.76 sec. Users per second: 406\n"
     ]
    },
    {
     "name": "stderr",
     "output_type": "stream",
     "text": [
      "[I 2023-12-09 02:08:24,057] Trial 497 finished with value: 0.05004801678386297 and parameters: {'coarse_recommender': 'easeR', 'use_3_levels': False, 'cutoff': 224, 'final_recommender_c1:easeR': 'merging'}. Best is trial 491 with value: 0.0513390086651856.\n"
     ]
    },
    {
     "name": "stdout",
     "output_type": "stream",
     "text": [
      "Recommender_Base_Class: URM Detected 627 ( 4.8%) users with no interactions.\n",
      "Recommender_Base_Class: URM Detected 247 ( 1.1%) items with no interactions.\n",
      "EvaluatorHoldout: Processed 10456 (100.0%) in 28.09 sec. Users per second: 372\n"
     ]
    },
    {
     "name": "stderr",
     "output_type": "stream",
     "text": [
      "[I 2023-12-09 02:08:52,370] Trial 498 finished with value: 0.0513390086651856 and parameters: {'coarse_recommender': 'easeR', 'use_3_levels': False, 'cutoff': 211, 'final_recommender_c1:easeR': 'slim'}. Best is trial 491 with value: 0.0513390086651856.\n"
     ]
    },
    {
     "name": "stdout",
     "output_type": "stream",
     "text": [
      "Recommender_Base_Class: URM Detected 627 ( 4.8%) users with no interactions.\n",
      "Recommender_Base_Class: URM Detected 247 ( 1.1%) items with no interactions.\n",
      "EvaluatorHoldout: Processed 10456 (100.0%) in 28.32 sec. Users per second: 369\n"
     ]
    },
    {
     "name": "stderr",
     "output_type": "stream",
     "text": [
      "[I 2023-12-09 02:09:20,917] Trial 499 finished with value: 0.0513390086651856 and parameters: {'coarse_recommender': 'easeR', 'use_3_levels': False, 'cutoff': 213, 'final_recommender_c1:easeR': 'slim'}. Best is trial 491 with value: 0.0513390086651856.\n"
     ]
    },
    {
     "name": "stdout",
     "output_type": "stream",
     "text": [
      "Recommender_Base_Class: URM Detected 627 ( 4.8%) users with no interactions.\n",
      "Recommender_Base_Class: URM Detected 247 ( 1.1%) items with no interactions.\n",
      "EvaluatorHoldout: Processed 10456 (100.0%) in 29.24 sec. Users per second: 358\n"
     ]
    },
    {
     "name": "stderr",
     "output_type": "stream",
     "text": [
      "[I 2023-12-09 02:09:50,380] Trial 500 finished with value: 0.041786226636791414 and parameters: {'coarse_recommender': 'easeR', 'use_3_levels': False, 'cutoff': 212, 'final_recommender_c1:easeR': 'ials'}. Best is trial 491 with value: 0.0513390086651856.\n"
     ]
    },
    {
     "name": "stdout",
     "output_type": "stream",
     "text": [
      "Recommender_Base_Class: URM Detected 627 ( 4.8%) users with no interactions.\n",
      "Recommender_Base_Class: URM Detected 247 ( 1.1%) items with no interactions.\n",
      "EvaluatorHoldout: Processed 10456 (100.0%) in 27.90 sec. Users per second: 375\n"
     ]
    },
    {
     "name": "stderr",
     "output_type": "stream",
     "text": [
      "[I 2023-12-09 02:10:18,497] Trial 501 finished with value: 0.05133935402776317 and parameters: {'coarse_recommender': 'easeR', 'use_3_levels': False, 'cutoff': 200, 'final_recommender_c1:easeR': 'slim'}. Best is trial 501 with value: 0.05133935402776317.\n"
     ]
    },
    {
     "name": "stdout",
     "output_type": "stream",
     "text": [
      "Recommender_Base_Class: URM Detected 627 ( 4.8%) users with no interactions.\n",
      "Recommender_Base_Class: URM Detected 247 ( 1.1%) items with no interactions.\n",
      "EvaluatorHoldout: Processed 10456 (100.0%) in 28.05 sec. Users per second: 373\n"
     ]
    },
    {
     "name": "stderr",
     "output_type": "stream",
     "text": [
      "[I 2023-12-09 02:10:46,779] Trial 502 finished with value: 0.0513390086651856 and parameters: {'coarse_recommender': 'easeR', 'use_3_levels': False, 'cutoff': 212, 'final_recommender_c1:easeR': 'slim'}. Best is trial 501 with value: 0.05133935402776317.\n"
     ]
    },
    {
     "name": "stdout",
     "output_type": "stream",
     "text": [
      "Recommender_Base_Class: URM Detected 627 ( 4.8%) users with no interactions.\n",
      "Recommender_Base_Class: URM Detected 247 ( 1.1%) items with no interactions.\n",
      "EvaluatorHoldout: Processed 10456 (100.0%) in 26.34 sec. Users per second: 397\n"
     ]
    },
    {
     "name": "stderr",
     "output_type": "stream",
     "text": [
      "[I 2023-12-09 02:11:13,362] Trial 503 finished with value: 0.04919193885792071 and parameters: {'coarse_recommender': 'slim', 'use_3_levels': False, 'cutoff': 199, 'final_recommender_c1:slim': 'rp3'}. Best is trial 501 with value: 0.05133935402776317.\n"
     ]
    },
    {
     "name": "stdout",
     "output_type": "stream",
     "text": [
      "Recommender_Base_Class: URM Detected 627 ( 4.8%) users with no interactions.\n",
      "Recommender_Base_Class: URM Detected 247 ( 1.1%) items with no interactions.\n",
      "EvaluatorHoldout: Processed 10456 (100.0%) in 28.18 sec. Users per second: 371\n"
     ]
    },
    {
     "name": "stderr",
     "output_type": "stream",
     "text": [
      "[I 2023-12-09 02:11:41,779] Trial 504 finished with value: 0.051339221196002566 and parameters: {'coarse_recommender': 'easeR', 'use_3_levels': False, 'cutoff': 205, 'final_recommender_c1:easeR': 'slim'}. Best is trial 501 with value: 0.05133935402776317.\n"
     ]
    },
    {
     "name": "stdout",
     "output_type": "stream",
     "text": [
      "Recommender_Base_Class: URM Detected 627 ( 4.8%) users with no interactions.\n",
      "Recommender_Base_Class: URM Detected 247 ( 1.1%) items with no interactions.\n",
      "EvaluatorHoldout: Processed 10456 (100.0%) in 25.49 sec. Users per second: 410\n"
     ]
    },
    {
     "name": "stderr",
     "output_type": "stream",
     "text": [
      "[I 2023-12-09 02:12:07,498] Trial 505 finished with value: 0.04820467249001164 and parameters: {'coarse_recommender': 'easeR', 'use_3_levels': False, 'cutoff': 206, 'final_recommender_c1:easeR': 'alpha'}. Best is trial 501 with value: 0.05133935402776317.\n"
     ]
    },
    {
     "name": "stdout",
     "output_type": "stream",
     "text": [
      "Recommender_Base_Class: URM Detected 627 ( 4.8%) users with no interactions.\n",
      "Recommender_Base_Class: URM Detected 247 ( 1.1%) items with no interactions.\n",
      "EvaluatorHoldout: Processed 10456 (100.0%) in 28.23 sec. Users per second: 370\n"
     ]
    },
    {
     "name": "stderr",
     "output_type": "stream",
     "text": [
      "[I 2023-12-09 02:12:35,943] Trial 506 finished with value: 0.05133935402776317 and parameters: {'coarse_recommender': 'easeR', 'use_3_levels': False, 'cutoff': 203, 'final_recommender_c1:easeR': 'slim'}. Best is trial 501 with value: 0.05133935402776317.\n"
     ]
    },
    {
     "name": "stdout",
     "output_type": "stream",
     "text": [
      "Recommender_Base_Class: URM Detected 627 ( 4.8%) users with no interactions.\n",
      "Recommender_Base_Class: URM Detected 247 ( 1.1%) items with no interactions.\n",
      "EvaluatorHoldout: Processed 10456 (100.0%) in 40.71 sec. Users per second: 257\n"
     ]
    },
    {
     "name": "stderr",
     "output_type": "stream",
     "text": [
      "[I 2023-12-09 02:13:16,885] Trial 507 finished with value: 0.03631244231306424 and parameters: {'coarse_recommender': 'easeR', 'use_3_levels': True, 'coarse_2_recommender_c1:easeR': 'slim', 'final_recommender_c1:easeR_c2:slim': 'userKnn', 'cutoff1': 2475, 'cutoff2': 2077}. Best is trial 501 with value: 0.05133935402776317.\n"
     ]
    },
    {
     "name": "stdout",
     "output_type": "stream",
     "text": [
      "Recommender_Base_Class: URM Detected 627 ( 4.8%) users with no interactions.\n",
      "Recommender_Base_Class: URM Detected 247 ( 1.1%) items with no interactions.\n",
      "EvaluatorHoldout: Processed 10456 (100.0%) in 28.50 sec. Users per second: 367\n"
     ]
    },
    {
     "name": "stderr",
     "output_type": "stream",
     "text": [
      "[I 2023-12-09 02:13:45,631] Trial 508 finished with value: 0.05133669739255107 and parameters: {'coarse_recommender': 'easeR', 'use_3_levels': False, 'cutoff': 197, 'final_recommender_c1:easeR': 'slim'}. Best is trial 501 with value: 0.05133935402776317.\n"
     ]
    },
    {
     "name": "stdout",
     "output_type": "stream",
     "text": [
      "Recommender_Base_Class: URM Detected 627 ( 4.8%) users with no interactions.\n",
      "Recommender_Base_Class: URM Detected 247 ( 1.1%) items with no interactions.\n",
      "EvaluatorHoldout: Processed 10456 (100.0%) in 28.46 sec. Users per second: 367\n"
     ]
    },
    {
     "name": "stderr",
     "output_type": "stream",
     "text": [
      "[I 2023-12-09 02:14:14,328] Trial 509 finished with value: 0.036472178197981875 and parameters: {'coarse_recommender': 'easeR', 'use_3_levels': False, 'cutoff': 196, 'final_recommender_c1:easeR': 'userKnn'}. Best is trial 501 with value: 0.05133935402776317.\n"
     ]
    },
    {
     "name": "stdout",
     "output_type": "stream",
     "text": [
      "Recommender_Base_Class: URM Detected 627 ( 4.8%) users with no interactions.\n",
      "Recommender_Base_Class: URM Detected 247 ( 1.1%) items with no interactions.\n",
      "EvaluatorHoldout: Processed 10456 (100.0%) in 37.56 sec. Users per second: 278\n"
     ]
    },
    {
     "name": "stderr",
     "output_type": "stream",
     "text": [
      "[I 2023-12-09 02:14:52,127] Trial 510 finished with value: 0.04817256895106997 and parameters: {'coarse_recommender': 'ials', 'use_3_levels': False, 'cutoff': 203, 'final_recommender_c1:ials': 'itemKnn'}. Best is trial 501 with value: 0.05133935402776317.\n"
     ]
    },
    {
     "name": "stdout",
     "output_type": "stream",
     "text": [
      "Recommender_Base_Class: URM Detected 627 ( 4.8%) users with no interactions.\n",
      "Recommender_Base_Class: URM Detected 247 ( 1.1%) items with no interactions.\n",
      "EvaluatorHoldout: Processed 10456 (100.0%) in 25.84 sec. Users per second: 405\n"
     ]
    },
    {
     "name": "stderr",
     "output_type": "stream",
     "text": [
      "[I 2023-12-09 02:15:18,193] Trial 511 finished with value: 0.0487492599373345 and parameters: {'coarse_recommender': 'easeR', 'use_3_levels': False, 'cutoff': 210, 'final_recommender_c1:easeR': 'itemKnn'}. Best is trial 501 with value: 0.05133935402776317.\n"
     ]
    },
    {
     "name": "stdout",
     "output_type": "stream",
     "text": [
      "Recommender_Base_Class: URM Detected 627 ( 4.8%) users with no interactions.\n",
      "Recommender_Base_Class: URM Detected 247 ( 1.1%) items with no interactions.\n",
      "EvaluatorHoldout: Processed 10456 (100.0%) in 28.16 sec. Users per second: 371\n"
     ]
    },
    {
     "name": "stderr",
     "output_type": "stream",
     "text": [
      "[I 2023-12-09 02:15:46,590] Trial 512 finished with value: 0.0513390086651856 and parameters: {'coarse_recommender': 'easeR', 'use_3_levels': False, 'cutoff': 208, 'final_recommender_c1:easeR': 'slim'}. Best is trial 501 with value: 0.05133935402776317.\n"
     ]
    },
    {
     "name": "stdout",
     "output_type": "stream",
     "text": [
      "Recommender_Base_Class: URM Detected 627 ( 4.8%) users with no interactions.\n",
      "Recommender_Base_Class: URM Detected 247 ( 1.1%) items with no interactions.\n",
      "EvaluatorHoldout: Processed 10456 (100.0%) in 25.40 sec. Users per second: 412\n"
     ]
    },
    {
     "name": "stderr",
     "output_type": "stream",
     "text": [
      "[I 2023-12-09 02:16:12,240] Trial 513 finished with value: 0.04829421248223924 and parameters: {'coarse_recommender': 'userKnn', 'use_3_levels': False, 'cutoff': 201, 'final_recommender_c1:userKnn': 'merging'}. Best is trial 501 with value: 0.05133935402776317.\n"
     ]
    },
    {
     "name": "stdout",
     "output_type": "stream",
     "text": [
      "Recommender_Base_Class: URM Detected 627 ( 4.8%) users with no interactions.\n",
      "Recommender_Base_Class: URM Detected 247 ( 1.1%) items with no interactions.\n",
      "EvaluatorHoldout: Processed 10456 (100.0%) in 28.09 sec. Users per second: 372\n"
     ]
    },
    {
     "name": "stderr",
     "output_type": "stream",
     "text": [
      "[I 2023-12-09 02:16:40,580] Trial 514 finished with value: 0.0513364848617341 and parameters: {'coarse_recommender': 'easeR', 'use_3_levels': False, 'cutoff': 199, 'final_recommender_c1:easeR': 'slim'}. Best is trial 501 with value: 0.05133935402776317.\n"
     ]
    },
    {
     "name": "stdout",
     "output_type": "stream",
     "text": [
      "Recommender_Base_Class: URM Detected 627 ( 4.8%) users with no interactions.\n",
      "Recommender_Base_Class: URM Detected 247 ( 1.1%) items with no interactions.\n",
      "EvaluatorHoldout: Processed 10456 (100.0%) in 22.56 sec. Users per second: 463\n"
     ]
    },
    {
     "name": "stderr",
     "output_type": "stream",
     "text": [
      "[I 2023-12-09 02:17:03,380] Trial 515 finished with value: 0.042574742534096544 and parameters: {'coarse_recommender': 'itemKnn', 'use_3_levels': False, 'cutoff': 200, 'final_recommender_c1:itemKnn': 'ials'}. Best is trial 501 with value: 0.05133935402776317.\n"
     ]
    },
    {
     "name": "stdout",
     "output_type": "stream",
     "text": [
      "Recommender_Base_Class: URM Detected 627 ( 4.8%) users with no interactions.\n",
      "Recommender_Base_Class: URM Detected 247 ( 1.1%) items with no interactions.\n",
      "EvaluatorHoldout: Processed 10456 (100.0%) in 19.06 sec. Users per second: 549\n"
     ]
    },
    {
     "name": "stderr",
     "output_type": "stream",
     "text": [
      "[I 2023-12-09 02:17:22,653] Trial 516 finished with value: 0.04995917131198382 and parameters: {'coarse_recommender': 'rp3', 'use_3_levels': False, 'cutoff': 204, 'final_recommender_c1:rp3': 'merging'}. Best is trial 501 with value: 0.05133935402776317.\n"
     ]
    },
    {
     "name": "stdout",
     "output_type": "stream",
     "text": [
      "Recommender_Base_Class: URM Detected 627 ( 4.8%) users with no interactions.\n",
      "Recommender_Base_Class: URM Detected 247 ( 1.1%) items with no interactions.\n",
      "EvaluatorHoldout: Processed 10456 (100.0%) in 27.81 sec. Users per second: 376\n"
     ]
    },
    {
     "name": "stderr",
     "output_type": "stream",
     "text": [
      "[I 2023-12-09 02:17:50,690] Trial 517 finished with value: 0.0513364848617341 and parameters: {'coarse_recommender': 'easeR', 'use_3_levels': False, 'cutoff': 199, 'final_recommender_c1:easeR': 'slim'}. Best is trial 501 with value: 0.05133935402776317.\n"
     ]
    },
    {
     "name": "stdout",
     "output_type": "stream",
     "text": [
      "Recommender_Base_Class: URM Detected 627 ( 4.8%) users with no interactions.\n",
      "Recommender_Base_Class: URM Detected 247 ( 1.1%) items with no interactions.\n",
      "EvaluatorHoldout: Processed 10456 (100.0%) in 29.05 sec. Users per second: 360\n"
     ]
    },
    {
     "name": "stderr",
     "output_type": "stream",
     "text": [
      "[I 2023-12-09 02:18:19,955] Trial 518 finished with value: 0.0513328756330388 and parameters: {'coarse_recommender': 'easeR', 'use_3_levels': False, 'cutoff': 1345, 'final_recommender_c1:easeR': 'slim'}. Best is trial 501 with value: 0.05133935402776317.\n"
     ]
    },
    {
     "name": "stdout",
     "output_type": "stream",
     "text": [
      "Recommender_Base_Class: URM Detected 627 ( 4.8%) users with no interactions.\n",
      "Recommender_Base_Class: URM Detected 247 ( 1.1%) items with no interactions.\n",
      "EvaluatorHoldout: Processed 10456 (100.0%) in 27.97 sec. Users per second: 374\n"
     ]
    },
    {
     "name": "stderr",
     "output_type": "stream",
     "text": [
      "[I 2023-12-09 02:18:48,157] Trial 519 finished with value: 0.0513390086651856 and parameters: {'coarse_recommender': 'easeR', 'use_3_levels': False, 'cutoff': 213, 'final_recommender_c1:easeR': 'slim'}. Best is trial 501 with value: 0.05133935402776317.\n"
     ]
    },
    {
     "name": "stdout",
     "output_type": "stream",
     "text": [
      "Recommender_Base_Class: URM Detected 627 ( 4.8%) users with no interactions.\n",
      "Recommender_Base_Class: URM Detected 247 ( 1.1%) items with no interactions.\n",
      "EvaluatorHoldout: Processed 10456 (100.0%) in 28.25 sec. Users per second: 370\n"
     ]
    },
    {
     "name": "stderr",
     "output_type": "stream",
     "text": [
      "[I 2023-12-09 02:19:16,638] Trial 520 finished with value: 0.05133772968509063 and parameters: {'coarse_recommender': 'easeR', 'use_3_levels': False, 'cutoff': 185, 'final_recommender_c1:easeR': 'slim'}. Best is trial 501 with value: 0.05133935402776317.\n"
     ]
    },
    {
     "name": "stdout",
     "output_type": "stream",
     "text": [
      "Recommender_Base_Class: URM Detected 627 ( 4.8%) users with no interactions.\n",
      "Recommender_Base_Class: URM Detected 247 ( 1.1%) items with no interactions.\n",
      "EvaluatorHoldout: Processed 10456 (100.0%) in 27.87 sec. Users per second: 375\n"
     ]
    },
    {
     "name": "stderr",
     "output_type": "stream",
     "text": [
      "[I 2023-12-09 02:19:44,735] Trial 521 finished with value: 0.05133968800476127 and parameters: {'coarse_recommender': 'easeR', 'use_3_levels': False, 'cutoff': 179, 'final_recommender_c1:easeR': 'slim'}. Best is trial 521 with value: 0.05133968800476127.\n"
     ]
    },
    {
     "name": "stdout",
     "output_type": "stream",
     "text": [
      "Recommender_Base_Class: URM Detected 627 ( 4.8%) users with no interactions.\n",
      "Recommender_Base_Class: URM Detected 247 ( 1.1%) items with no interactions.\n",
      "EvaluatorHoldout: Processed 10456 (100.0%) in 18.69 sec. Users per second: 559\n"
     ]
    },
    {
     "name": "stderr",
     "output_type": "stream",
     "text": [
      "[I 2023-12-09 02:20:03,656] Trial 522 finished with value: 0.04867278679515735 and parameters: {'coarse_recommender': 'alpha', 'use_3_levels': False, 'cutoff': 184, 'final_recommender_c1:alpha': 'itemKnn'}. Best is trial 521 with value: 0.05133968800476127.\n"
     ]
    },
    {
     "name": "stdout",
     "output_type": "stream",
     "text": [
      "Recommender_Base_Class: URM Detected 627 ( 4.8%) users with no interactions.\n",
      "Recommender_Base_Class: URM Detected 247 ( 1.1%) items with no interactions.\n",
      "EvaluatorHoldout: Processed 10456 (100.0%) in 28.10 sec. Users per second: 372\n"
     ]
    },
    {
     "name": "stderr",
     "output_type": "stream",
     "text": [
      "[I 2023-12-09 02:20:31,978] Trial 523 finished with value: 0.05133772968509063 and parameters: {'coarse_recommender': 'easeR', 'use_3_levels': False, 'cutoff': 182, 'final_recommender_c1:easeR': 'slim'}. Best is trial 521 with value: 0.05133968800476127.\n"
     ]
    },
    {
     "name": "stdout",
     "output_type": "stream",
     "text": [
      "Recommender_Base_Class: URM Detected 627 ( 4.8%) users with no interactions.\n",
      "Recommender_Base_Class: URM Detected 247 ( 1.1%) items with no interactions.\n",
      "EvaluatorHoldout: Processed 10456 (100.0%) in 28.19 sec. Users per second: 371\n"
     ]
    },
    {
     "name": "stderr",
     "output_type": "stream",
     "text": [
      "[I 2023-12-09 02:21:00,395] Trial 524 finished with value: 0.05133968800476127 and parameters: {'coarse_recommender': 'easeR', 'use_3_levels': False, 'cutoff': 178, 'final_recommender_c1:easeR': 'slim'}. Best is trial 521 with value: 0.05133968800476127.\n"
     ]
    },
    {
     "name": "stdout",
     "output_type": "stream",
     "text": [
      "Recommender_Base_Class: URM Detected 627 ( 4.8%) users with no interactions.\n",
      "Recommender_Base_Class: URM Detected 247 ( 1.1%) items with no interactions.\n",
      "EvaluatorHoldout: Processed 10456 (100.0%) in 27.97 sec. Users per second: 374\n"
     ]
    },
    {
     "name": "stderr",
     "output_type": "stream",
     "text": [
      "[I 2023-12-09 02:21:28,611] Trial 525 finished with value: 0.05133968800476127 and parameters: {'coarse_recommender': 'easeR', 'use_3_levels': False, 'cutoff': 178, 'final_recommender_c1:easeR': 'slim'}. Best is trial 521 with value: 0.05133968800476127.\n"
     ]
    },
    {
     "name": "stdout",
     "output_type": "stream",
     "text": [
      "Recommender_Base_Class: URM Detected 627 ( 4.8%) users with no interactions.\n",
      "Recommender_Base_Class: URM Detected 247 ( 1.1%) items with no interactions.\n",
      "EvaluatorHoldout: Processed 10456 (100.0%) in 27.99 sec. Users per second: 374\n"
     ]
    },
    {
     "name": "stderr",
     "output_type": "stream",
     "text": [
      "[I 2023-12-09 02:21:56,831] Trial 526 finished with value: 0.05133821167462198 and parameters: {'coarse_recommender': 'easeR', 'use_3_levels': False, 'cutoff': 167, 'final_recommender_c1:easeR': 'slim'}. Best is trial 521 with value: 0.05133968800476127.\n"
     ]
    },
    {
     "name": "stdout",
     "output_type": "stream",
     "text": [
      "Recommender_Base_Class: URM Detected 627 ( 4.8%) users with no interactions.\n",
      "Recommender_Base_Class: URM Detected 247 ( 1.1%) items with no interactions.\n",
      "EvaluatorHoldout: Processed 10456 (100.0%) in 35.80 sec. Users per second: 292\n"
     ]
    },
    {
     "name": "stderr",
     "output_type": "stream",
     "text": [
      "[I 2023-12-09 02:22:32,884] Trial 527 finished with value: 0.051081409929440415 and parameters: {'coarse_recommender': 'easeR', 'use_3_levels': True, 'coarse_2_recommender_c1:easeR': 'alpha', 'final_recommender_c1:easeR_c2:alpha': 'slim', 'cutoff1': 1492, 'cutoff2': 636}. Best is trial 521 with value: 0.05133968800476127.\n"
     ]
    },
    {
     "name": "stdout",
     "output_type": "stream",
     "text": [
      "Recommender_Base_Class: URM Detected 627 ( 4.8%) users with no interactions.\n",
      "Recommender_Base_Class: URM Detected 247 ( 1.1%) items with no interactions.\n",
      "EvaluatorHoldout: Processed 10456 (100.0%) in 28.08 sec. Users per second: 372\n"
     ]
    },
    {
     "name": "stderr",
     "output_type": "stream",
     "text": [
      "[I 2023-12-09 02:23:01,189] Trial 528 finished with value: 0.05134282283431156 and parameters: {'coarse_recommender': 'easeR', 'use_3_levels': False, 'cutoff': 173, 'final_recommender_c1:easeR': 'slim'}. Best is trial 528 with value: 0.05134282283431156.\n"
     ]
    },
    {
     "name": "stdout",
     "output_type": "stream",
     "text": [
      "Recommender_Base_Class: URM Detected 627 ( 4.8%) users with no interactions.\n",
      "Recommender_Base_Class: URM Detected 247 ( 1.1%) items with no interactions.\n",
      "EvaluatorHoldout: Processed 10456 (100.0%) in 28.64 sec. Users per second: 365\n"
     ]
    },
    {
     "name": "stderr",
     "output_type": "stream",
     "text": [
      "[I 2023-12-09 02:23:30,048] Trial 529 finished with value: 0.0513328756330388 and parameters: {'coarse_recommender': 'easeR', 'use_3_levels': False, 'cutoff': 798, 'final_recommender_c1:easeR': 'slim'}. Best is trial 528 with value: 0.05134282283431156.\n"
     ]
    },
    {
     "name": "stdout",
     "output_type": "stream",
     "text": [
      "Recommender_Base_Class: URM Detected 627 ( 4.8%) users with no interactions.\n",
      "Recommender_Base_Class: URM Detected 247 ( 1.1%) items with no interactions.\n",
      "EvaluatorHoldout: Processed 10456 (100.0%) in 28.04 sec. Users per second: 373\n"
     ]
    },
    {
     "name": "stderr",
     "output_type": "stream",
     "text": [
      "[I 2023-12-09 02:23:58,311] Trial 530 finished with value: 0.05133847733814318 and parameters: {'coarse_recommender': 'easeR', 'use_3_levels': False, 'cutoff': 162, 'final_recommender_c1:easeR': 'slim'}. Best is trial 528 with value: 0.05134282283431156.\n"
     ]
    },
    {
     "name": "stdout",
     "output_type": "stream",
     "text": [
      "Recommender_Base_Class: URM Detected 627 ( 4.8%) users with no interactions.\n",
      "Recommender_Base_Class: URM Detected 247 ( 1.1%) items with no interactions.\n",
      "EvaluatorHoldout: Processed 10456 (100.0%) in 28.12 sec. Users per second: 372\n"
     ]
    },
    {
     "name": "stderr",
     "output_type": "stream",
     "text": [
      "[I 2023-12-09 02:24:26,659] Trial 531 finished with value: 0.05133968800476127 and parameters: {'coarse_recommender': 'easeR', 'use_3_levels': False, 'cutoff': 174, 'final_recommender_c1:easeR': 'slim'}. Best is trial 528 with value: 0.05134282283431156.\n"
     ]
    },
    {
     "name": "stdout",
     "output_type": "stream",
     "text": [
      "Recommender_Base_Class: URM Detected 627 ( 4.8%) users with no interactions.\n",
      "Recommender_Base_Class: URM Detected 247 ( 1.1%) items with no interactions.\n",
      "EvaluatorHoldout: Processed 10456 (100.0%) in 27.89 sec. Users per second: 375\n"
     ]
    },
    {
     "name": "stderr",
     "output_type": "stream",
     "text": [
      "[I 2023-12-09 02:24:54,779] Trial 532 finished with value: 0.05133968800476127 and parameters: {'coarse_recommender': 'easeR', 'use_3_levels': False, 'cutoff': 175, 'final_recommender_c1:easeR': 'slim'}. Best is trial 528 with value: 0.05134282283431156.\n"
     ]
    },
    {
     "name": "stdout",
     "output_type": "stream",
     "text": [
      "Recommender_Base_Class: URM Detected 627 ( 4.8%) users with no interactions.\n",
      "Recommender_Base_Class: URM Detected 247 ( 1.1%) items with no interactions.\n",
      "EvaluatorHoldout: Processed 10456 (100.0%) in 26.30 sec. Users per second: 398\n"
     ]
    },
    {
     "name": "stderr",
     "output_type": "stream",
     "text": [
      "[I 2023-12-09 02:25:21,304] Trial 533 finished with value: 0.048729080895301966 and parameters: {'coarse_recommender': 'slim', 'use_3_levels': False, 'cutoff': 162, 'final_recommender_c1:slim': 'itemKnn'}. Best is trial 528 with value: 0.05134282283431156.\n"
     ]
    },
    {
     "name": "stdout",
     "output_type": "stream",
     "text": [
      "Recommender_Base_Class: URM Detected 627 ( 4.8%) users with no interactions.\n",
      "Recommender_Base_Class: URM Detected 247 ( 1.1%) items with no interactions.\n",
      "EvaluatorHoldout: Processed 10456 (100.0%) in 28.32 sec. Users per second: 369\n"
     ]
    },
    {
     "name": "stderr",
     "output_type": "stream",
     "text": [
      "[I 2023-12-09 02:25:49,853] Trial 534 finished with value: 0.05133968800476127 and parameters: {'coarse_recommender': 'easeR', 'use_3_levels': False, 'cutoff': 178, 'final_recommender_c1:easeR': 'slim'}. Best is trial 528 with value: 0.05134282283431156.\n"
     ]
    },
    {
     "name": "stdout",
     "output_type": "stream",
     "text": [
      "Recommender_Base_Class: URM Detected 627 ( 4.8%) users with no interactions.\n",
      "Recommender_Base_Class: URM Detected 247 ( 1.1%) items with no interactions.\n",
      "EvaluatorHoldout: Processed 10456 (100.0%) in 27.94 sec. Users per second: 374\n"
     ]
    },
    {
     "name": "stderr",
     "output_type": "stream",
     "text": [
      "[I 2023-12-09 02:26:18,032] Trial 535 finished with value: 0.05134282283431156 and parameters: {'coarse_recommender': 'easeR', 'use_3_levels': False, 'cutoff': 172, 'final_recommender_c1:easeR': 'slim'}. Best is trial 528 with value: 0.05134282283431156.\n"
     ]
    },
    {
     "name": "stdout",
     "output_type": "stream",
     "text": [
      "Recommender_Base_Class: URM Detected 627 ( 4.8%) users with no interactions.\n",
      "Recommender_Base_Class: URM Detected 247 ( 1.1%) items with no interactions.\n",
      "EvaluatorHoldout: Processed 10456 (100.0%) in 27.73 sec. Users per second: 377\n"
     ]
    },
    {
     "name": "stderr",
     "output_type": "stream",
     "text": [
      "[I 2023-12-09 02:26:45,997] Trial 536 finished with value: 0.05133847733814318 and parameters: {'coarse_recommender': 'easeR', 'use_3_levels': False, 'cutoff': 165, 'final_recommender_c1:easeR': 'slim'}. Best is trial 528 with value: 0.05134282283431156.\n"
     ]
    },
    {
     "name": "stdout",
     "output_type": "stream",
     "text": [
      "Recommender_Base_Class: URM Detected 627 ( 4.8%) users with no interactions.\n",
      "Recommender_Base_Class: URM Detected 247 ( 1.1%) items with no interactions.\n",
      "EvaluatorHoldout: Processed 10456 (100.0%) in 27.87 sec. Users per second: 375\n"
     ]
    },
    {
     "name": "stderr",
     "output_type": "stream",
     "text": [
      "[I 2023-12-09 02:27:14,106] Trial 537 finished with value: 0.05132813543678178 and parameters: {'coarse_recommender': 'easeR', 'use_3_levels': False, 'cutoff': 150, 'final_recommender_c1:easeR': 'slim'}. Best is trial 528 with value: 0.05134282283431156.\n"
     ]
    },
    {
     "name": "stdout",
     "output_type": "stream",
     "text": [
      "Recommender_Base_Class: URM Detected 627 ( 4.8%) users with no interactions.\n",
      "Recommender_Base_Class: URM Detected 247 ( 1.1%) items with no interactions.\n",
      "EvaluatorHoldout: Processed 10456 (100.0%) in 27.84 sec. Users per second: 376\n"
     ]
    },
    {
     "name": "stderr",
     "output_type": "stream",
     "text": [
      "[I 2023-12-09 02:27:42,208] Trial 538 finished with value: 0.05133847733814318 and parameters: {'coarse_recommender': 'easeR', 'use_3_levels': False, 'cutoff': 165, 'final_recommender_c1:easeR': 'slim'}. Best is trial 528 with value: 0.05134282283431156.\n"
     ]
    },
    {
     "name": "stdout",
     "output_type": "stream",
     "text": [
      "Recommender_Base_Class: URM Detected 627 ( 4.8%) users with no interactions.\n",
      "Recommender_Base_Class: URM Detected 247 ( 1.1%) items with no interactions.\n",
      "EvaluatorHoldout: Processed 10456 (100.0%) in 28.32 sec. Users per second: 369\n"
     ]
    },
    {
     "name": "stderr",
     "output_type": "stream",
     "text": [
      "[I 2023-12-09 02:28:10,767] Trial 539 finished with value: 0.05133847733814318 and parameters: {'coarse_recommender': 'easeR', 'use_3_levels': False, 'cutoff': 161, 'final_recommender_c1:easeR': 'slim'}. Best is trial 528 with value: 0.05134282283431156.\n"
     ]
    },
    {
     "name": "stdout",
     "output_type": "stream",
     "text": [
      "Recommender_Base_Class: URM Detected 627 ( 4.8%) users with no interactions.\n",
      "Recommender_Base_Class: URM Detected 247 ( 1.1%) items with no interactions.\n",
      "EvaluatorHoldout: Processed 10456 (100.0%) in 26.23 sec. Users per second: 399\n"
     ]
    },
    {
     "name": "stderr",
     "output_type": "stream",
     "text": [
      "[I 2023-12-09 02:28:37,240] Trial 540 finished with value: 0.050043481528036594 and parameters: {'coarse_recommender': 'easeR', 'use_3_levels': False, 'cutoff': 1145, 'final_recommender_c1:easeR': 'merging'}. Best is trial 528 with value: 0.05134282283431156.\n"
     ]
    },
    {
     "name": "stdout",
     "output_type": "stream",
     "text": [
      "Recommender_Base_Class: URM Detected 627 ( 4.8%) users with no interactions.\n",
      "Recommender_Base_Class: URM Detected 247 ( 1.1%) items with no interactions.\n",
      "EvaluatorHoldout: Processed 10456 (100.0%) in 30.58 sec. Users per second: 342\n"
     ]
    },
    {
     "name": "stderr",
     "output_type": "stream",
     "text": [
      "[I 2023-12-09 02:29:08,048] Trial 541 finished with value: 0.04448920115738269 and parameters: {'coarse_recommender': 'userKnn', 'use_3_levels': False, 'cutoff': 160, 'final_recommender_c1:userKnn': 'easeR'}. Best is trial 528 with value: 0.05134282283431156.\n"
     ]
    },
    {
     "name": "stdout",
     "output_type": "stream",
     "text": [
      "Recommender_Base_Class: URM Detected 627 ( 4.8%) users with no interactions.\n",
      "Recommender_Base_Class: URM Detected 247 ( 1.1%) items with no interactions.\n",
      "EvaluatorHoldout: Processed 10456 (100.0%) in 39.01 sec. Users per second: 268\n"
     ]
    },
    {
     "name": "stderr",
     "output_type": "stream",
     "text": [
      "[I 2023-12-09 02:29:47,303] Trial 542 finished with value: 0.049941034083871474 and parameters: {'coarse_recommender': 'ials', 'use_3_levels': False, 'cutoff': 1470, 'final_recommender_c1:ials': 'merging'}. Best is trial 528 with value: 0.05134282283431156.\n"
     ]
    },
    {
     "name": "stdout",
     "output_type": "stream",
     "text": [
      "Recommender_Base_Class: URM Detected 627 ( 4.8%) users with no interactions.\n",
      "Recommender_Base_Class: URM Detected 247 ( 1.1%) items with no interactions.\n",
      "EvaluatorHoldout: Processed 10456 (100.0%) in 18.85 sec. Users per second: 555\n"
     ]
    },
    {
     "name": "stderr",
     "output_type": "stream",
     "text": [
      "[I 2023-12-09 02:30:06,388] Trial 543 finished with value: 0.047826587757011 and parameters: {'coarse_recommender': 'rp3', 'use_3_levels': False, 'cutoff': 156, 'final_recommender_c1:rp3': 'alpha'}. Best is trial 528 with value: 0.05134282283431156.\n"
     ]
    },
    {
     "name": "stdout",
     "output_type": "stream",
     "text": [
      "Recommender_Base_Class: URM Detected 627 ( 4.8%) users with no interactions.\n",
      "Recommender_Base_Class: URM Detected 247 ( 1.1%) items with no interactions.\n",
      "EvaluatorHoldout: Processed 10456 (100.0%) in 28.03 sec. Users per second: 373\n"
     ]
    },
    {
     "name": "stderr",
     "output_type": "stream",
     "text": [
      "[I 2023-12-09 02:30:34,640] Trial 544 finished with value: 0.05133847733814318 and parameters: {'coarse_recommender': 'easeR', 'use_3_levels': False, 'cutoff': 164, 'final_recommender_c1:easeR': 'slim'}. Best is trial 528 with value: 0.05134282283431156.\n"
     ]
    },
    {
     "name": "stdout",
     "output_type": "stream",
     "text": [
      "Recommender_Base_Class: URM Detected 627 ( 4.8%) users with no interactions.\n",
      "Recommender_Base_Class: URM Detected 247 ( 1.1%) items with no interactions.\n",
      "EvaluatorHoldout: Processed 10456 (100.0%) in 21.56 sec. Users per second: 485\n"
     ]
    },
    {
     "name": "stderr",
     "output_type": "stream",
     "text": [
      "[I 2023-12-09 02:30:56,415] Trial 545 finished with value: 0.051230135959000424 and parameters: {'coarse_recommender': 'itemKnn', 'use_3_levels': False, 'cutoff': 155, 'final_recommender_c1:itemKnn': 'slim'}. Best is trial 528 with value: 0.05134282283431156.\n"
     ]
    },
    {
     "name": "stdout",
     "output_type": "stream",
     "text": [
      "Recommender_Base_Class: URM Detected 627 ( 4.8%) users with no interactions.\n",
      "Recommender_Base_Class: URM Detected 247 ( 1.1%) items with no interactions.\n",
      "EvaluatorHoldout: Processed 10456 (100.0%) in 28.25 sec. Users per second: 370\n"
     ]
    },
    {
     "name": "stderr",
     "output_type": "stream",
     "text": [
      "[I 2023-12-09 02:31:24,924] Trial 546 finished with value: 0.05133847733814318 and parameters: {'coarse_recommender': 'easeR', 'use_3_levels': False, 'cutoff': 161, 'final_recommender_c1:easeR': 'slim'}. Best is trial 528 with value: 0.05134282283431156.\n"
     ]
    },
    {
     "name": "stdout",
     "output_type": "stream",
     "text": [
      "Recommender_Base_Class: URM Detected 627 ( 4.8%) users with no interactions.\n",
      "Recommender_Base_Class: URM Detected 247 ( 1.1%) items with no interactions.\n",
      "EvaluatorHoldout: Processed 10456 (100.0%) in 33.08 sec. Users per second: 316\n"
     ]
    },
    {
     "name": "stderr",
     "output_type": "stream",
     "text": [
      "[I 2023-12-09 02:31:58,332] Trial 547 finished with value: 0.04808381835901978 and parameters: {'coarse_recommender': 'easeR', 'use_3_levels': True, 'coarse_2_recommender_c1:easeR': 'rp3', 'final_recommender_c1:easeR_c2:rp3': 'alpha', 'cutoff1': 967, 'cutoff2': 388}. Best is trial 528 with value: 0.05134282283431156.\n"
     ]
    },
    {
     "name": "stdout",
     "output_type": "stream",
     "text": [
      "Recommender_Base_Class: URM Detected 627 ( 4.8%) users with no interactions.\n",
      "Recommender_Base_Class: URM Detected 247 ( 1.1%) items with no interactions.\n",
      "EvaluatorHoldout: Processed 10456 (100.0%) in 25.70 sec. Users per second: 407\n"
     ]
    },
    {
     "name": "stderr",
     "output_type": "stream",
     "text": [
      "[I 2023-12-09 02:32:24,264] Trial 548 finished with value: 0.049289968697247374 and parameters: {'coarse_recommender': 'easeR', 'use_3_levels': False, 'cutoff': 162, 'final_recommender_c1:easeR': 'rp3'}. Best is trial 528 with value: 0.05134282283431156.\n"
     ]
    },
    {
     "name": "stdout",
     "output_type": "stream",
     "text": [
      "Recommender_Base_Class: URM Detected 627 ( 4.8%) users with no interactions.\n",
      "Recommender_Base_Class: URM Detected 247 ( 1.1%) items with no interactions.\n",
      "EvaluatorHoldout: Processed 10456 (100.0%) in 29.01 sec. Users per second: 360\n"
     ]
    },
    {
     "name": "stderr",
     "output_type": "stream",
     "text": [
      "[I 2023-12-09 02:32:53,505] Trial 549 finished with value: 0.04181867174311759 and parameters: {'coarse_recommender': 'easeR', 'use_3_levels': False, 'cutoff': 157, 'final_recommender_c1:easeR': 'ials'}. Best is trial 528 with value: 0.05134282283431156.\n"
     ]
    },
    {
     "name": "stdout",
     "output_type": "stream",
     "text": [
      "Recommender_Base_Class: URM Detected 627 ( 4.8%) users with no interactions.\n",
      "Recommender_Base_Class: URM Detected 247 ( 1.1%) items with no interactions.\n",
      "EvaluatorHoldout: Processed 10456 (100.0%) in 21.35 sec. Users per second: 490\n"
     ]
    },
    {
     "name": "stderr",
     "output_type": "stream",
     "text": [
      "[I 2023-12-09 02:33:15,113] Trial 550 finished with value: 0.05096407014731489 and parameters: {'coarse_recommender': 'alpha', 'use_3_levels': False, 'cutoff': 150, 'final_recommender_c1:alpha': 'slim'}. Best is trial 528 with value: 0.05134282283431156.\n"
     ]
    },
    {
     "name": "stdout",
     "output_type": "stream",
     "text": [
      "Recommender_Base_Class: URM Detected 627 ( 4.8%) users with no interactions.\n",
      "Recommender_Base_Class: URM Detected 247 ( 1.1%) items with no interactions.\n",
      "EvaluatorHoldout: Processed 10456 (100.0%) in 28.20 sec. Users per second: 371\n"
     ]
    },
    {
     "name": "stderr",
     "output_type": "stream",
     "text": [
      "[I 2023-12-09 02:33:43,566] Trial 551 finished with value: 0.05133847733814318 and parameters: {'coarse_recommender': 'easeR', 'use_3_levels': False, 'cutoff': 166, 'final_recommender_c1:easeR': 'slim'}. Best is trial 528 with value: 0.05134282283431156.\n"
     ]
    },
    {
     "name": "stdout",
     "output_type": "stream",
     "text": [
      "Recommender_Base_Class: URM Detected 627 ( 4.8%) users with no interactions.\n",
      "Recommender_Base_Class: URM Detected 247 ( 1.1%) items with no interactions.\n",
      "EvaluatorHoldout: Processed 10456 (100.0%) in 28.45 sec. Users per second: 368\n"
     ]
    },
    {
     "name": "stderr",
     "output_type": "stream",
     "text": [
      "[I 2023-12-09 02:34:12,265] Trial 552 finished with value: 0.05133667082619896 and parameters: {'coarse_recommender': 'easeR', 'use_3_levels': False, 'cutoff': 156, 'final_recommender_c1:easeR': 'slim'}. Best is trial 528 with value: 0.05134282283431156.\n"
     ]
    },
    {
     "name": "stdout",
     "output_type": "stream",
     "text": [
      "Recommender_Base_Class: URM Detected 627 ( 4.8%) users with no interactions.\n",
      "Recommender_Base_Class: URM Detected 247 ( 1.1%) items with no interactions.\n",
      "EvaluatorHoldout: Processed 10456 (100.0%) in 25.34 sec. Users per second: 413\n"
     ]
    },
    {
     "name": "stderr",
     "output_type": "stream",
     "text": [
      "[I 2023-12-09 02:34:37,843] Trial 553 finished with value: 0.04822571304089152 and parameters: {'coarse_recommender': 'easeR', 'use_3_levels': False, 'cutoff': 173, 'final_recommender_c1:easeR': 'alpha'}. Best is trial 528 with value: 0.05134282283431156.\n"
     ]
    },
    {
     "name": "stdout",
     "output_type": "stream",
     "text": [
      "Recommender_Base_Class: URM Detected 627 ( 4.8%) users with no interactions.\n",
      "Recommender_Base_Class: URM Detected 247 ( 1.1%) items with no interactions.\n",
      "EvaluatorHoldout: Processed 10456 (100.0%) in 29.16 sec. Users per second: 359\n"
     ]
    },
    {
     "name": "stderr",
     "output_type": "stream",
     "text": [
      "[I 2023-12-09 02:35:07,244] Trial 554 finished with value: 0.0513328756330388 and parameters: {'coarse_recommender': 'easeR', 'use_3_levels': False, 'cutoff': 1576, 'final_recommender_c1:easeR': 'slim'}. Best is trial 528 with value: 0.05134282283431156.\n"
     ]
    },
    {
     "name": "stdout",
     "output_type": "stream",
     "text": [
      "Recommender_Base_Class: URM Detected 627 ( 4.8%) users with no interactions.\n",
      "Recommender_Base_Class: URM Detected 247 ( 1.1%) items with no interactions.\n",
      "EvaluatorHoldout: Processed 10456 (100.0%) in 27.99 sec. Users per second: 374\n"
     ]
    },
    {
     "name": "stderr",
     "output_type": "stream",
     "text": [
      "[I 2023-12-09 02:35:35,455] Trial 555 finished with value: 0.05133772968509063 and parameters: {'coarse_recommender': 'easeR', 'use_3_levels': False, 'cutoff': 185, 'final_recommender_c1:easeR': 'slim'}. Best is trial 528 with value: 0.05134282283431156.\n"
     ]
    },
    {
     "name": "stdout",
     "output_type": "stream",
     "text": [
      "Recommender_Base_Class: URM Detected 627 ( 4.8%) users with no interactions.\n",
      "Recommender_Base_Class: URM Detected 247 ( 1.1%) items with no interactions.\n",
      "EvaluatorHoldout: Processed 10456 (100.0%) in 25.44 sec. Users per second: 411\n"
     ]
    },
    {
     "name": "stderr",
     "output_type": "stream",
     "text": [
      "[I 2023-12-09 02:36:01,115] Trial 556 finished with value: 0.04873329355970974 and parameters: {'coarse_recommender': 'easeR', 'use_3_levels': False, 'cutoff': 147, 'final_recommender_c1:easeR': 'itemKnn'}. Best is trial 528 with value: 0.05134282283431156.\n"
     ]
    },
    {
     "name": "stdout",
     "output_type": "stream",
     "text": [
      "Recommender_Base_Class: URM Detected 627 ( 4.8%) users with no interactions.\n",
      "Recommender_Base_Class: URM Detected 247 ( 1.1%) items with no interactions.\n",
      "EvaluatorHoldout: Processed 10456 (100.0%) in 29.41 sec. Users per second: 356\n"
     ]
    },
    {
     "name": "stderr",
     "output_type": "stream",
     "text": [
      "[I 2023-12-09 02:36:30,752] Trial 557 finished with value: 0.0513328756330388 and parameters: {'coarse_recommender': 'easeR', 'use_3_levels': False, 'cutoff': 2108, 'final_recommender_c1:easeR': 'slim'}. Best is trial 528 with value: 0.05134282283431156.\n"
     ]
    },
    {
     "name": "stdout",
     "output_type": "stream",
     "text": [
      "Recommender_Base_Class: URM Detected 627 ( 4.8%) users with no interactions.\n",
      "Recommender_Base_Class: URM Detected 247 ( 1.1%) items with no interactions.\n",
      "EvaluatorHoldout: Processed 10456 (100.0%) in 28.28 sec. Users per second: 370\n"
     ]
    },
    {
     "name": "stderr",
     "output_type": "stream",
     "text": [
      "[I 2023-12-09 02:36:59,268] Trial 558 finished with value: 0.036488603793979016 and parameters: {'coarse_recommender': 'easeR', 'use_3_levels': False, 'cutoff': 192, 'final_recommender_c1:easeR': 'userKnn'}. Best is trial 528 with value: 0.05134282283431156.\n"
     ]
    },
    {
     "name": "stdout",
     "output_type": "stream",
     "text": [
      "Recommender_Base_Class: URM Detected 627 ( 4.8%) users with no interactions.\n",
      "Recommender_Base_Class: URM Detected 247 ( 1.1%) items with no interactions.\n",
      "EvaluatorHoldout: Processed 10456 (100.0%) in 29.06 sec. Users per second: 360\n"
     ]
    },
    {
     "name": "stderr",
     "output_type": "stream",
     "text": [
      "[I 2023-12-09 02:37:28,552] Trial 559 finished with value: 0.0513328756330388 and parameters: {'coarse_recommender': 'easeR', 'use_3_levels': False, 'cutoff': 1699, 'final_recommender_c1:easeR': 'slim'}. Best is trial 528 with value: 0.05134282283431156.\n"
     ]
    },
    {
     "name": "stdout",
     "output_type": "stream",
     "text": [
      "Recommender_Base_Class: URM Detected 627 ( 4.8%) users with no interactions.\n",
      "Recommender_Base_Class: URM Detected 247 ( 1.1%) items with no interactions.\n",
      "EvaluatorHoldout: Processed 10456 (100.0%) in 27.90 sec. Users per second: 375\n"
     ]
    },
    {
     "name": "stderr",
     "output_type": "stream",
     "text": [
      "[I 2023-12-09 02:37:56,694] Trial 560 finished with value: 0.05133772968509063 and parameters: {'coarse_recommender': 'easeR', 'use_3_levels': False, 'cutoff': 187, 'final_recommender_c1:easeR': 'slim'}. Best is trial 528 with value: 0.05134282283431156.\n"
     ]
    },
    {
     "name": "stdout",
     "output_type": "stream",
     "text": [
      "Recommender_Base_Class: URM Detected 627 ( 4.8%) users with no interactions.\n",
      "Recommender_Base_Class: URM Detected 247 ( 1.1%) items with no interactions.\n",
      "EvaluatorHoldout: Processed 10456 (100.0%) in 29.61 sec. Users per second: 353\n"
     ]
    },
    {
     "name": "stderr",
     "output_type": "stream",
     "text": [
      "[I 2023-12-09 02:38:26,540] Trial 561 finished with value: 0.0513328756330388 and parameters: {'coarse_recommender': 'easeR', 'use_3_levels': False, 'cutoff': 2875, 'final_recommender_c1:easeR': 'slim'}. Best is trial 528 with value: 0.05134282283431156.\n"
     ]
    },
    {
     "name": "stdout",
     "output_type": "stream",
     "text": [
      "Recommender_Base_Class: URM Detected 627 ( 4.8%) users with no interactions.\n",
      "Recommender_Base_Class: URM Detected 247 ( 1.1%) items with no interactions.\n",
      "EvaluatorHoldout: Processed 10456 (100.0%) in 28.16 sec. Users per second: 371\n"
     ]
    },
    {
     "name": "stderr",
     "output_type": "stream",
     "text": [
      "[I 2023-12-09 02:38:54,937] Trial 562 finished with value: 0.051333794069783556 and parameters: {'coarse_recommender': 'easeR', 'use_3_levels': False, 'cutoff': 138, 'final_recommender_c1:easeR': 'slim'}. Best is trial 528 with value: 0.05134282283431156.\n"
     ]
    },
    {
     "name": "stdout",
     "output_type": "stream",
     "text": [
      "Recommender_Base_Class: URM Detected 627 ( 4.8%) users with no interactions.\n",
      "Recommender_Base_Class: URM Detected 247 ( 1.1%) items with no interactions.\n",
      "EvaluatorHoldout: Processed 10456 (100.0%) in 28.15 sec. Users per second: 371\n"
     ]
    },
    {
     "name": "stderr",
     "output_type": "stream",
     "text": [
      "[I 2023-12-09 02:39:23,330] Trial 563 finished with value: 0.0513364848617341 and parameters: {'coarse_recommender': 'easeR', 'use_3_levels': False, 'cutoff': 199, 'final_recommender_c1:easeR': 'slim'}. Best is trial 528 with value: 0.05134282283431156.\n"
     ]
    },
    {
     "name": "stdout",
     "output_type": "stream",
     "text": [
      "Recommender_Base_Class: URM Detected 627 ( 4.8%) users with no interactions.\n",
      "Recommender_Base_Class: URM Detected 247 ( 1.1%) items with no interactions.\n",
      "EvaluatorHoldout: Processed 10456 (100.0%) in 29.09 sec. Users per second: 359\n"
     ]
    },
    {
     "name": "stderr",
     "output_type": "stream",
     "text": [
      "[I 2023-12-09 02:39:52,661] Trial 564 finished with value: 0.03657791607461683 and parameters: {'coarse_recommender': 'slim', 'use_3_levels': False, 'cutoff': 156, 'final_recommender_c1:slim': 'userKnn'}. Best is trial 528 with value: 0.05134282283431156.\n"
     ]
    },
    {
     "name": "stdout",
     "output_type": "stream",
     "text": [
      "Recommender_Base_Class: URM Detected 627 ( 4.8%) users with no interactions.\n",
      "Recommender_Base_Class: URM Detected 247 ( 1.1%) items with no interactions.\n",
      "EvaluatorHoldout: Processed 10456 (100.0%) in 28.14 sec. Users per second: 372\n"
     ]
    },
    {
     "name": "stderr",
     "output_type": "stream",
     "text": [
      "[I 2023-12-09 02:40:21,029] Trial 565 finished with value: 0.05133669739255107 and parameters: {'coarse_recommender': 'easeR', 'use_3_levels': False, 'cutoff': 197, 'final_recommender_c1:easeR': 'slim'}. Best is trial 528 with value: 0.05134282283431156.\n"
     ]
    },
    {
     "name": "stdout",
     "output_type": "stream",
     "text": [
      "Recommender_Base_Class: URM Detected 627 ( 4.8%) users with no interactions.\n",
      "Recommender_Base_Class: URM Detected 247 ( 1.1%) items with no interactions.\n",
      "EvaluatorHoldout: Processed 10456 (100.0%) in 32.33 sec. Users per second: 323\n"
     ]
    },
    {
     "name": "stderr",
     "output_type": "stream",
     "text": [
      "[I 2023-12-09 02:40:53,620] Trial 566 finished with value: 0.04815748685345146 and parameters: {'coarse_recommender': 'easeR', 'use_3_levels': True, 'coarse_2_recommender_c1:easeR': 'merging', 'final_recommender_c1:easeR_c2:merging': 'alpha', 'cutoff1': 287, 'cutoff2': 115}. Best is trial 528 with value: 0.05134282283431156.\n"
     ]
    },
    {
     "name": "stdout",
     "output_type": "stream",
     "text": [
      "Recommender_Base_Class: URM Detected 627 ( 4.8%) users with no interactions.\n",
      "Recommender_Base_Class: URM Detected 247 ( 1.1%) items with no interactions.\n",
      "EvaluatorHoldout: Processed 10456 (100.0%) in 28.05 sec. Users per second: 373\n"
     ]
    },
    {
     "name": "stderr",
     "output_type": "stream",
     "text": [
      "[I 2023-12-09 02:41:21,913] Trial 567 finished with value: 0.051333794069783556 and parameters: {'coarse_recommender': 'easeR', 'use_3_levels': False, 'cutoff': 138, 'final_recommender_c1:easeR': 'slim'}. Best is trial 528 with value: 0.05134282283431156.\n"
     ]
    },
    {
     "name": "stdout",
     "output_type": "stream",
     "text": [
      "Recommender_Base_Class: URM Detected 627 ( 4.8%) users with no interactions.\n",
      "Recommender_Base_Class: URM Detected 247 ( 1.1%) items with no interactions.\n",
      "EvaluatorHoldout: Processed 10456 (100.0%) in 29.90 sec. Users per second: 350\n"
     ]
    },
    {
     "name": "stderr",
     "output_type": "stream",
     "text": [
      "[I 2023-12-09 02:41:52,059] Trial 568 finished with value: 0.0513328756330388 and parameters: {'coarse_recommender': 'easeR', 'use_3_levels': False, 'cutoff': 2559, 'final_recommender_c1:easeR': 'slim'}. Best is trial 528 with value: 0.05134282283431156.\n"
     ]
    },
    {
     "name": "stdout",
     "output_type": "stream",
     "text": [
      "Recommender_Base_Class: URM Detected 627 ( 4.8%) users with no interactions.\n",
      "Recommender_Base_Class: URM Detected 247 ( 1.1%) items with no interactions.\n",
      "EvaluatorHoldout: Processed 10456 (100.0%) in 27.88 sec. Users per second: 375\n"
     ]
    },
    {
     "name": "stderr",
     "output_type": "stream",
     "text": [
      "[I 2023-12-09 02:42:20,173] Trial 569 finished with value: 0.05133346009278546 and parameters: {'coarse_recommender': 'easeR', 'use_3_levels': False, 'cutoff': 315, 'final_recommender_c1:easeR': 'slim'}. Best is trial 528 with value: 0.05134282283431156.\n"
     ]
    },
    {
     "name": "stdout",
     "output_type": "stream",
     "text": [
      "Recommender_Base_Class: URM Detected 627 ( 4.8%) users with no interactions.\n",
      "Recommender_Base_Class: URM Detected 247 ( 1.1%) items with no interactions.\n",
      "EvaluatorHoldout: Processed 10456 (100.0%) in 27.98 sec. Users per second: 374\n"
     ]
    },
    {
     "name": "stderr",
     "output_type": "stream",
     "text": [
      "[I 2023-12-09 02:42:48,384] Trial 570 finished with value: 0.05133935402776317 and parameters: {'coarse_recommender': 'easeR', 'use_3_levels': False, 'cutoff': 202, 'final_recommender_c1:easeR': 'slim'}. Best is trial 528 with value: 0.05134282283431156.\n"
     ]
    },
    {
     "name": "stdout",
     "output_type": "stream",
     "text": [
      "Recommender_Base_Class: URM Detected 627 ( 4.8%) users with no interactions.\n",
      "Recommender_Base_Class: URM Detected 247 ( 1.1%) items with no interactions.\n",
      "EvaluatorHoldout: Processed 10456 (100.0%) in 21.46 sec. Users per second: 487\n"
     ]
    },
    {
     "name": "stderr",
     "output_type": "stream",
     "text": [
      "[I 2023-12-09 02:43:10,084] Trial 571 finished with value: 0.051147480447165494 and parameters: {'coarse_recommender': 'rp3', 'use_3_levels': False, 'cutoff': 209, 'final_recommender_c1:rp3': 'slim'}. Best is trial 528 with value: 0.05134282283431156.\n"
     ]
    },
    {
     "name": "stdout",
     "output_type": "stream",
     "text": [
      "Recommender_Base_Class: URM Detected 627 ( 4.8%) users with no interactions.\n",
      "Recommender_Base_Class: URM Detected 247 ( 1.1%) items with no interactions.\n",
      "EvaluatorHoldout: Processed 10456 (100.0%) in 42.81 sec. Users per second: 244\n"
     ]
    },
    {
     "name": "stderr",
     "output_type": "stream",
     "text": [
      "[I 2023-12-09 02:43:53,129] Trial 572 finished with value: 0.04480684364411473 and parameters: {'coarse_recommender': 'ials', 'use_3_levels': False, 'cutoff': 304, 'final_recommender_c1:ials': 'easeR'}. Best is trial 528 with value: 0.05134282283431156.\n"
     ]
    },
    {
     "name": "stdout",
     "output_type": "stream",
     "text": [
      "Recommender_Base_Class: URM Detected 627 ( 4.8%) users with no interactions.\n",
      "Recommender_Base_Class: URM Detected 247 ( 1.1%) items with no interactions.\n",
      "EvaluatorHoldout: Processed 10456 (100.0%) in 28.54 sec. Users per second: 366\n"
     ]
    },
    {
     "name": "stderr",
     "output_type": "stream",
     "text": [
      "[I 2023-12-09 02:44:21,912] Trial 573 finished with value: 0.0513328756330388 and parameters: {'coarse_recommender': 'easeR', 'use_3_levels': False, 'cutoff': 990, 'final_recommender_c1:easeR': 'slim'}. Best is trial 528 with value: 0.05134282283431156.\n"
     ]
    },
    {
     "name": "stdout",
     "output_type": "stream",
     "text": [
      "Recommender_Base_Class: URM Detected 627 ( 4.8%) users with no interactions.\n",
      "Recommender_Base_Class: URM Detected 247 ( 1.1%) items with no interactions.\n",
      "EvaluatorHoldout: Processed 10456 (100.0%) in 29.32 sec. Users per second: 357\n"
     ]
    },
    {
     "name": "stderr",
     "output_type": "stream",
     "text": [
      "[I 2023-12-09 02:44:51,463] Trial 574 finished with value: 0.04136792803706585 and parameters: {'coarse_recommender': 'userKnn', 'use_3_levels': False, 'cutoff': 213, 'final_recommender_c1:userKnn': 'ials'}. Best is trial 528 with value: 0.05134282283431156.\n"
     ]
    },
    {
     "name": "stdout",
     "output_type": "stream",
     "text": [
      "Recommender_Base_Class: URM Detected 627 ( 4.8%) users with no interactions.\n",
      "Recommender_Base_Class: URM Detected 247 ( 1.1%) items with no interactions.\n",
      "EvaluatorHoldout: Processed 10456 (100.0%) in 18.89 sec. Users per second: 554\n"
     ]
    },
    {
     "name": "stderr",
     "output_type": "stream",
     "text": [
      "[I 2023-12-09 02:45:10,586] Trial 575 finished with value: 0.049201335756185245 and parameters: {'coarse_recommender': 'itemKnn', 'use_3_levels': False, 'cutoff': 136, 'final_recommender_c1:itemKnn': 'rp3'}. Best is trial 528 with value: 0.05134282283431156.\n"
     ]
    },
    {
     "name": "stdout",
     "output_type": "stream",
     "text": [
      "Recommender_Base_Class: URM Detected 627 ( 4.8%) users with no interactions.\n",
      "Recommender_Base_Class: URM Detected 247 ( 1.1%) items with no interactions.\n",
      "EvaluatorHoldout: Processed 10456 (100.0%) in 28.26 sec. Users per second: 370\n"
     ]
    },
    {
     "name": "stderr",
     "output_type": "stream",
     "text": [
      "[I 2023-12-09 02:45:39,082] Trial 576 finished with value: 0.05133335382737698 and parameters: {'coarse_recommender': 'easeR', 'use_3_levels': False, 'cutoff': 288, 'final_recommender_c1:easeR': 'slim'}. Best is trial 528 with value: 0.05134282283431156.\n"
     ]
    },
    {
     "name": "stdout",
     "output_type": "stream",
     "text": [
      "Recommender_Base_Class: URM Detected 627 ( 4.8%) users with no interactions.\n",
      "Recommender_Base_Class: URM Detected 247 ( 1.1%) items with no interactions.\n",
      "EvaluatorHoldout: Processed 10456 (100.0%) in 28.35 sec. Users per second: 369\n"
     ]
    },
    {
     "name": "stderr",
     "output_type": "stream",
     "text": [
      "[I 2023-12-09 02:46:07,667] Trial 577 finished with value: 0.0513390086651856 and parameters: {'coarse_recommender': 'easeR', 'use_3_levels': False, 'cutoff': 206, 'final_recommender_c1:easeR': 'slim'}. Best is trial 528 with value: 0.05134282283431156.\n"
     ]
    },
    {
     "name": "stdout",
     "output_type": "stream",
     "text": [
      "Recommender_Base_Class: URM Detected 627 ( 4.8%) users with no interactions.\n",
      "Recommender_Base_Class: URM Detected 247 ( 1.1%) items with no interactions.\n",
      "EvaluatorHoldout: Processed 10456 (100.0%) in 21.31 sec. Users per second: 491\n"
     ]
    },
    {
     "name": "stderr",
     "output_type": "stream",
     "text": [
      "[I 2023-12-09 02:46:29,218] Trial 578 finished with value: 0.050982666593799644 and parameters: {'coarse_recommender': 'alpha', 'use_3_levels': False, 'cutoff': 220, 'final_recommender_c1:alpha': 'slim'}. Best is trial 528 with value: 0.05134282283431156.\n"
     ]
    },
    {
     "name": "stdout",
     "output_type": "stream",
     "text": [
      "Recommender_Base_Class: URM Detected 627 ( 4.8%) users with no interactions.\n",
      "Recommender_Base_Class: URM Detected 247 ( 1.1%) items with no interactions.\n",
      "EvaluatorHoldout: Processed 10456 (100.0%) in 27.98 sec. Users per second: 374\n"
     ]
    },
    {
     "name": "stderr",
     "output_type": "stream",
     "text": [
      "[I 2023-12-09 02:46:57,436] Trial 579 finished with value: 0.051334416481461816 and parameters: {'coarse_recommender': 'easeR', 'use_3_levels': False, 'cutoff': 307, 'final_recommender_c1:easeR': 'slim'}. Best is trial 528 with value: 0.05134282283431156.\n"
     ]
    },
    {
     "name": "stdout",
     "output_type": "stream",
     "text": [
      "Recommender_Base_Class: URM Detected 627 ( 4.8%) users with no interactions.\n",
      "Recommender_Base_Class: URM Detected 247 ( 1.1%) items with no interactions.\n",
      "EvaluatorHoldout: Processed 10456 (100.0%) in 27.95 sec. Users per second: 374\n"
     ]
    },
    {
     "name": "stderr",
     "output_type": "stream",
     "text": [
      "[I 2023-12-09 02:47:25,624] Trial 580 finished with value: 0.051337027574356 and parameters: {'coarse_recommender': 'easeR', 'use_3_levels': False, 'cutoff': 235, 'final_recommender_c1:easeR': 'slim'}. Best is trial 528 with value: 0.05134282283431156.\n"
     ]
    },
    {
     "name": "stdout",
     "output_type": "stream",
     "text": [
      "Recommender_Base_Class: URM Detected 627 ( 4.8%) users with no interactions.\n",
      "Recommender_Base_Class: URM Detected 247 ( 1.1%) items with no interactions.\n",
      "EvaluatorHoldout: Processed 10456 (100.0%) in 27.83 sec. Users per second: 376\n"
     ]
    },
    {
     "name": "stderr",
     "output_type": "stream",
     "text": [
      "[I 2023-12-09 02:47:53,703] Trial 581 finished with value: 0.0513328376811072 and parameters: {'coarse_recommender': 'easeR', 'use_3_levels': False, 'cutoff': 134, 'final_recommender_c1:easeR': 'slim'}. Best is trial 528 with value: 0.05134282283431156.\n"
     ]
    },
    {
     "name": "stdout",
     "output_type": "stream",
     "text": [
      "Recommender_Base_Class: URM Detected 627 ( 4.8%) users with no interactions.\n",
      "Recommender_Base_Class: URM Detected 247 ( 1.1%) items with no interactions.\n",
      "EvaluatorHoldout: Processed 10456 (100.0%) in 27.73 sec. Users per second: 377\n"
     ]
    },
    {
     "name": "stderr",
     "output_type": "stream",
     "text": [
      "[I 2023-12-09 02:48:21,676] Trial 582 finished with value: 0.0513390086651856 and parameters: {'coarse_recommender': 'easeR', 'use_3_levels': False, 'cutoff': 210, 'final_recommender_c1:easeR': 'slim'}. Best is trial 528 with value: 0.05134282283431156.\n"
     ]
    },
    {
     "name": "stdout",
     "output_type": "stream",
     "text": [
      "Recommender_Base_Class: URM Detected 627 ( 4.8%) users with no interactions.\n",
      "Recommender_Base_Class: URM Detected 247 ( 1.1%) items with no interactions.\n",
      "EvaluatorHoldout: Processed 10456 (100.0%) in 27.96 sec. Users per second: 374\n"
     ]
    },
    {
     "name": "stderr",
     "output_type": "stream",
     "text": [
      "[I 2023-12-09 02:48:49,888] Trial 583 finished with value: 0.051334416481461816 and parameters: {'coarse_recommender': 'easeR', 'use_3_levels': False, 'cutoff': 295, 'final_recommender_c1:easeR': 'slim'}. Best is trial 528 with value: 0.05134282283431156.\n"
     ]
    },
    {
     "name": "stdout",
     "output_type": "stream",
     "text": [
      "Recommender_Base_Class: URM Detected 627 ( 4.8%) users with no interactions.\n",
      "Recommender_Base_Class: URM Detected 247 ( 1.1%) items with no interactions.\n",
      "EvaluatorHoldout: Processed 10456 (100.0%) in 27.97 sec. Users per second: 374\n"
     ]
    },
    {
     "name": "stderr",
     "output_type": "stream",
     "text": [
      "[I 2023-12-09 02:49:18,084] Trial 584 finished with value: 0.05133798396303236 and parameters: {'coarse_recommender': 'easeR', 'use_3_levels': False, 'cutoff': 218, 'final_recommender_c1:easeR': 'slim'}. Best is trial 528 with value: 0.05134282283431156.\n"
     ]
    },
    {
     "name": "stdout",
     "output_type": "stream",
     "text": [
      "Recommender_Base_Class: URM Detected 627 ( 4.8%) users with no interactions.\n",
      "Recommender_Base_Class: URM Detected 247 ( 1.1%) items with no interactions.\n",
      "EvaluatorHoldout: Processed 10456 (100.0%) in 37.65 sec. Users per second: 278\n"
     ]
    },
    {
     "name": "stderr",
     "output_type": "stream",
     "text": [
      "[I 2023-12-09 02:49:56,016] Trial 585 finished with value: 0.049246824941402825 and parameters: {'coarse_recommender': 'easeR', 'use_3_levels': True, 'coarse_2_recommender_c1:easeR': 'userKnn', 'final_recommender_c1:easeR_c2:userKnn': 'rp3', 'cutoff1': 2870, 'cutoff2': 2642}. Best is trial 528 with value: 0.05134282283431156.\n"
     ]
    },
    {
     "name": "stdout",
     "output_type": "stream",
     "text": [
      "Recommender_Base_Class: URM Detected 627 ( 4.8%) users with no interactions.\n",
      "Recommender_Base_Class: URM Detected 247 ( 1.1%) items with no interactions.\n",
      "EvaluatorHoldout: Processed 10456 (100.0%) in 25.70 sec. Users per second: 407\n"
     ]
    },
    {
     "name": "stderr",
     "output_type": "stream",
     "text": [
      "[I 2023-12-09 02:50:21,960] Trial 586 finished with value: 0.05004742093853682 and parameters: {'coarse_recommender': 'easeR', 'use_3_levels': False, 'cutoff': 269, 'final_recommender_c1:easeR': 'merging'}. Best is trial 528 with value: 0.05134282283431156.\n"
     ]
    },
    {
     "name": "stdout",
     "output_type": "stream",
     "text": [
      "Recommender_Base_Class: URM Detected 627 ( 4.8%) users with no interactions.\n",
      "Recommender_Base_Class: URM Detected 247 ( 1.1%) items with no interactions.\n",
      "EvaluatorHoldout: Processed 10456 (100.0%) in 27.86 sec. Users per second: 375\n"
     ]
    },
    {
     "name": "stderr",
     "output_type": "stream",
     "text": [
      "[I 2023-12-09 02:50:50,047] Trial 587 finished with value: 0.0513390086651856 and parameters: {'coarse_recommender': 'easeR', 'use_3_levels': False, 'cutoff': 215, 'final_recommender_c1:easeR': 'slim'}. Best is trial 528 with value: 0.05134282283431156.\n"
     ]
    },
    {
     "name": "stdout",
     "output_type": "stream",
     "text": [
      "Recommender_Base_Class: URM Detected 627 ( 4.8%) users with no interactions.\n",
      "Recommender_Base_Class: URM Detected 247 ( 1.1%) items with no interactions.\n",
      "EvaluatorHoldout: Processed 10456 (100.0%) in 29.32 sec. Users per second: 357\n"
     ]
    },
    {
     "name": "stderr",
     "output_type": "stream",
     "text": [
      "[I 2023-12-09 02:51:19,612] Trial 588 finished with value: 0.0513328756330388 and parameters: {'coarse_recommender': 'easeR', 'use_3_levels': False, 'cutoff': 2386, 'final_recommender_c1:easeR': 'slim'}. Best is trial 528 with value: 0.05134282283431156.\n"
     ]
    },
    {
     "name": "stdout",
     "output_type": "stream",
     "text": [
      "Recommender_Base_Class: URM Detected 627 ( 4.8%) users with no interactions.\n",
      "Recommender_Base_Class: URM Detected 247 ( 1.1%) items with no interactions.\n",
      "EvaluatorHoldout: Processed 10456 (100.0%) in 25.25 sec. Users per second: 414\n"
     ]
    },
    {
     "name": "stderr",
     "output_type": "stream",
     "text": [
      "[I 2023-12-09 02:51:45,108] Trial 589 finished with value: 0.04927919793905888 and parameters: {'coarse_recommender': 'easeR', 'use_3_levels': False, 'cutoff': 320, 'final_recommender_c1:easeR': 'rp3'}. Best is trial 528 with value: 0.05134282283431156.\n"
     ]
    },
    {
     "name": "stdout",
     "output_type": "stream",
     "text": [
      "Recommender_Base_Class: URM Detected 627 ( 4.8%) users with no interactions.\n",
      "Recommender_Base_Class: URM Detected 247 ( 1.1%) items with no interactions.\n",
      "EvaluatorHoldout: Processed 10456 (100.0%) in 28.85 sec. Users per second: 362\n"
     ]
    },
    {
     "name": "stderr",
     "output_type": "stream",
     "text": [
      "[I 2023-12-09 02:52:14,256] Trial 590 finished with value: 0.04177047278998364 and parameters: {'coarse_recommender': 'easeR', 'use_3_levels': False, 'cutoff': 228, 'final_recommender_c1:easeR': 'ials'}. Best is trial 528 with value: 0.05134282283431156.\n"
     ]
    },
    {
     "name": "stdout",
     "output_type": "stream",
     "text": [
      "Recommender_Base_Class: URM Detected 627 ( 4.8%) users with no interactions.\n",
      "Recommender_Base_Class: URM Detected 247 ( 1.1%) items with no interactions.\n",
      "EvaluatorHoldout: Processed 10456 (100.0%) in 27.85 sec. Users per second: 375\n"
     ]
    },
    {
     "name": "stderr",
     "output_type": "stream",
     "text": [
      "[I 2023-12-09 02:52:42,345] Trial 591 finished with value: 0.05133550190670563 and parameters: {'coarse_recommender': 'easeR', 'use_3_levels': False, 'cutoff': 269, 'final_recommender_c1:easeR': 'slim'}. Best is trial 528 with value: 0.05134282283431156.\n"
     ]
    },
    {
     "name": "stdout",
     "output_type": "stream",
     "text": [
      "Recommender_Base_Class: URM Detected 627 ( 4.8%) users with no interactions.\n",
      "Recommender_Base_Class: URM Detected 247 ( 1.1%) items with no interactions.\n",
      "EvaluatorHoldout: Processed 10456 (100.0%) in 25.01 sec. Users per second: 418\n"
     ]
    },
    {
     "name": "stderr",
     "output_type": "stream",
     "text": [
      "[I 2023-12-09 02:53:07,608] Trial 592 finished with value: 0.04820116573153166 and parameters: {'coarse_recommender': 'easeR', 'use_3_levels': False, 'cutoff': 214, 'final_recommender_c1:easeR': 'alpha'}. Best is trial 528 with value: 0.05134282283431156.\n"
     ]
    },
    {
     "name": "stdout",
     "output_type": "stream",
     "text": [
      "Recommender_Base_Class: URM Detected 627 ( 4.8%) users with no interactions.\n",
      "Recommender_Base_Class: URM Detected 247 ( 1.1%) items with no interactions.\n",
      "EvaluatorHoldout: Processed 10456 (100.0%) in 31.53 sec. Users per second: 332\n"
     ]
    },
    {
     "name": "stderr",
     "output_type": "stream",
     "text": [
      "[I 2023-12-09 02:53:39,376] Trial 593 finished with value: 0.044678858345174995 and parameters: {'coarse_recommender': 'slim', 'use_3_levels': False, 'cutoff': 315, 'final_recommender_c1:slim': 'easeR'}. Best is trial 528 with value: 0.05134282283431156.\n"
     ]
    },
    {
     "name": "stdout",
     "output_type": "stream",
     "text": [
      "Recommender_Base_Class: URM Detected 627 ( 4.8%) users with no interactions.\n",
      "Recommender_Base_Class: URM Detected 247 ( 1.1%) items with no interactions.\n",
      "EvaluatorHoldout: Processed 10456 (100.0%) in 28.87 sec. Users per second: 362\n"
     ]
    },
    {
     "name": "stderr",
     "output_type": "stream",
     "text": [
      "[I 2023-12-09 02:54:08,494] Trial 594 finished with value: 0.0513328756330388 and parameters: {'coarse_recommender': 'easeR', 'use_3_levels': False, 'cutoff': 1266, 'final_recommender_c1:easeR': 'slim'}. Best is trial 528 with value: 0.05134282283431156.\n"
     ]
    },
    {
     "name": "stdout",
     "output_type": "stream",
     "text": [
      "Recommender_Base_Class: URM Detected 627 ( 4.8%) users with no interactions.\n",
      "Recommender_Base_Class: URM Detected 247 ( 1.1%) items with no interactions.\n",
      "EvaluatorHoldout: Processed 10456 (100.0%) in 27.73 sec. Users per second: 377\n"
     ]
    },
    {
     "name": "stderr",
     "output_type": "stream",
     "text": [
      "[I 2023-12-09 02:54:36,461] Trial 595 finished with value: 0.0513390086651856 and parameters: {'coarse_recommender': 'easeR', 'use_3_levels': False, 'cutoff': 206, 'final_recommender_c1:easeR': 'slim'}. Best is trial 528 with value: 0.05134282283431156.\n"
     ]
    },
    {
     "name": "stdout",
     "output_type": "stream",
     "text": [
      "Recommender_Base_Class: URM Detected 627 ( 4.8%) users with no interactions.\n",
      "Recommender_Base_Class: URM Detected 247 ( 1.1%) items with no interactions.\n",
      "EvaluatorHoldout: Processed 10456 (100.0%) in 27.77 sec. Users per second: 377\n"
     ]
    },
    {
     "name": "stderr",
     "output_type": "stream",
     "text": [
      "[I 2023-12-09 02:55:04,455] Trial 596 finished with value: 0.051338496314108986 and parameters: {'coarse_recommender': 'easeR', 'use_3_levels': False, 'cutoff': 216, 'final_recommender_c1:easeR': 'slim'}. Best is trial 528 with value: 0.05134282283431156.\n"
     ]
    },
    {
     "name": "stdout",
     "output_type": "stream",
     "text": [
      "Recommender_Base_Class: URM Detected 627 ( 4.8%) users with no interactions.\n",
      "Recommender_Base_Class: URM Detected 247 ( 1.1%) items with no interactions.\n",
      "EvaluatorHoldout: Processed 10456 (100.0%) in 25.37 sec. Users per second: 412\n"
     ]
    },
    {
     "name": "stderr",
     "output_type": "stream",
     "text": [
      "[I 2023-12-09 02:55:30,052] Trial 597 finished with value: 0.0487382500819769 and parameters: {'coarse_recommender': 'easeR', 'use_3_levels': False, 'cutoff': 337, 'final_recommender_c1:easeR': 'itemKnn'}. Best is trial 528 with value: 0.05134282283431156.\n"
     ]
    },
    {
     "name": "stdout",
     "output_type": "stream",
     "text": [
      "Recommender_Base_Class: URM Detected 627 ( 4.8%) users with no interactions.\n",
      "Recommender_Base_Class: URM Detected 247 ( 1.1%) items with no interactions.\n",
      "EvaluatorHoldout: Processed 10456 (100.0%) in 28.11 sec. Users per second: 372\n"
     ]
    },
    {
     "name": "stderr",
     "output_type": "stream",
     "text": [
      "[I 2023-12-09 02:55:58,396] Trial 598 finished with value: 0.03637160937443105 and parameters: {'coarse_recommender': 'easeR', 'use_3_levels': False, 'cutoff': 260, 'final_recommender_c1:easeR': 'userKnn'}. Best is trial 528 with value: 0.05134282283431156.\n"
     ]
    },
    {
     "name": "stdout",
     "output_type": "stream",
     "text": [
      "Recommender_Base_Class: URM Detected 627 ( 4.8%) users with no interactions.\n",
      "Recommender_Base_Class: URM Detected 247 ( 1.1%) items with no interactions.\n",
      "EvaluatorHoldout: Processed 10456 (100.0%) in 27.83 sec. Users per second: 376\n"
     ]
    },
    {
     "name": "stderr",
     "output_type": "stream",
     "text": [
      "[I 2023-12-09 02:56:26,460] Trial 599 finished with value: 0.05133607118567964 and parameters: {'coarse_recommender': 'easeR', 'use_3_levels': False, 'cutoff': 232, 'final_recommender_c1:easeR': 'slim'}. Best is trial 528 with value: 0.05134282283431156.\n"
     ]
    },
    {
     "name": "stdout",
     "output_type": "stream",
     "text": [
      "Recommender_Base_Class: URM Detected 627 ( 4.8%) users with no interactions.\n",
      "Recommender_Base_Class: URM Detected 247 ( 1.1%) items with no interactions.\n",
      "EvaluatorHoldout: Processed 10456 (100.0%) in 40.44 sec. Users per second: 259\n"
     ]
    },
    {
     "name": "stderr",
     "output_type": "stream",
     "text": [
      "[I 2023-12-09 02:57:07,140] Trial 600 finished with value: 0.050847405909571826 and parameters: {'coarse_recommender': 'ials', 'use_3_levels': False, 'cutoff': 320, 'final_recommender_c1:ials': 'slim'}. Best is trial 528 with value: 0.05134282283431156.\n"
     ]
    },
    {
     "name": "stdout",
     "output_type": "stream",
     "text": [
      "Recommender_Base_Class: URM Detected 627 ( 4.8%) users with no interactions.\n",
      "Recommender_Base_Class: URM Detected 247 ( 1.1%) items with no interactions.\n",
      "EvaluatorHoldout: Processed 10456 (100.0%) in 27.91 sec. Users per second: 375\n"
     ]
    },
    {
     "name": "stderr",
     "output_type": "stream",
     "text": [
      "[I 2023-12-09 02:57:35,303] Trial 601 finished with value: 0.0513390086651856 and parameters: {'coarse_recommender': 'easeR', 'use_3_levels': False, 'cutoff': 207, 'final_recommender_c1:easeR': 'slim'}. Best is trial 528 with value: 0.05134282283431156.\n"
     ]
    },
    {
     "name": "stdout",
     "output_type": "stream",
     "text": [
      "Recommender_Base_Class: URM Detected 627 ( 4.8%) users with no interactions.\n",
      "Recommender_Base_Class: URM Detected 247 ( 1.1%) items with no interactions.\n",
      "EvaluatorHoldout: Processed 10456 (100.0%) in 25.48 sec. Users per second: 410\n"
     ]
    },
    {
     "name": "stderr",
     "output_type": "stream",
     "text": [
      "[I 2023-12-09 02:58:01,010] Trial 602 finished with value: 0.047725669775689615 and parameters: {'coarse_recommender': 'userKnn', 'use_3_levels': False, 'cutoff': 260, 'final_recommender_c1:userKnn': 'itemKnn'}. Best is trial 528 with value: 0.05134282283431156.\n"
     ]
    },
    {
     "name": "stdout",
     "output_type": "stream",
     "text": [
      "Recommender_Base_Class: URM Detected 627 ( 4.8%) users with no interactions.\n",
      "Recommender_Base_Class: URM Detected 247 ( 1.1%) items with no interactions.\n",
      "EvaluatorHoldout: Processed 10456 (100.0%) in 28.14 sec. Users per second: 372\n"
     ]
    },
    {
     "name": "stderr",
     "output_type": "stream",
     "text": [
      "[I 2023-12-09 02:58:29,373] Trial 603 finished with value: 0.05133690992336804 and parameters: {'coarse_recommender': 'easeR', 'use_3_levels': False, 'cutoff': 194, 'final_recommender_c1:easeR': 'slim'}. Best is trial 528 with value: 0.05134282283431156.\n"
     ]
    },
    {
     "name": "stdout",
     "output_type": "stream",
     "text": [
      "Recommender_Base_Class: URM Detected 627 ( 4.8%) users with no interactions.\n",
      "Recommender_Base_Class: URM Detected 247 ( 1.1%) items with no interactions.\n",
      "EvaluatorHoldout: Processed 10456 (100.0%) in 28.02 sec. Users per second: 373\n"
     ]
    },
    {
     "name": "stderr",
     "output_type": "stream",
     "text": [
      "[I 2023-12-09 02:58:57,627] Trial 604 finished with value: 0.05133335382737698 and parameters: {'coarse_recommender': 'easeR', 'use_3_levels': False, 'cutoff': 290, 'final_recommender_c1:easeR': 'slim'}. Best is trial 528 with value: 0.05134282283431156.\n"
     ]
    },
    {
     "name": "stdout",
     "output_type": "stream",
     "text": [
      "Recommender_Base_Class: URM Detected 627 ( 4.8%) users with no interactions.\n",
      "Recommender_Base_Class: URM Detected 247 ( 1.1%) items with no interactions.\n",
      "EvaluatorHoldout: Processed 10456 (100.0%) in 34.95 sec. Users per second: 299\n"
     ]
    },
    {
     "name": "stderr",
     "output_type": "stream",
     "text": [
      "[I 2023-12-09 02:59:32,868] Trial 605 finished with value: 0.0492673113940813 and parameters: {'coarse_recommender': 'easeR', 'use_3_levels': True, 'coarse_2_recommender_c1:easeR': 'slim', 'final_recommender_c1:easeR_c2:slim': 'rp3', 'cutoff1': 559, 'cutoff2': 147}. Best is trial 528 with value: 0.05134282283431156.\n"
     ]
    },
    {
     "name": "stdout",
     "output_type": "stream",
     "text": [
      "Recommender_Base_Class: URM Detected 627 ( 4.8%) users with no interactions.\n",
      "Recommender_Base_Class: URM Detected 247 ( 1.1%) items with no interactions.\n",
      "EvaluatorHoldout: Processed 10456 (100.0%) in 18.94 sec. Users per second: 552\n"
     ]
    },
    {
     "name": "stderr",
     "output_type": "stream",
     "text": [
      "[I 2023-12-09 02:59:52,048] Trial 606 finished with value: 0.04967083151164136 and parameters: {'coarse_recommender': 'alpha', 'use_3_levels': False, 'cutoff': 200, 'final_recommender_c1:alpha': 'merging'}. Best is trial 528 with value: 0.05134282283431156.\n"
     ]
    },
    {
     "name": "stdout",
     "output_type": "stream",
     "text": [
      "Recommender_Base_Class: URM Detected 627 ( 4.8%) users with no interactions.\n",
      "Recommender_Base_Class: URM Detected 247 ( 1.1%) items with no interactions.\n",
      "EvaluatorHoldout: Processed 10456 (100.0%) in 27.71 sec. Users per second: 377\n"
     ]
    },
    {
     "name": "stderr",
     "output_type": "stream",
     "text": [
      "[I 2023-12-09 03:00:20,006] Trial 607 finished with value: 0.051335767570226856 and parameters: {'coarse_recommender': 'easeR', 'use_3_levels': False, 'cutoff': 124, 'final_recommender_c1:easeR': 'slim'}. Best is trial 528 with value: 0.05134282283431156.\n"
     ]
    },
    {
     "name": "stdout",
     "output_type": "stream",
     "text": [
      "Recommender_Base_Class: URM Detected 627 ( 4.8%) users with no interactions.\n",
      "Recommender_Base_Class: URM Detected 247 ( 1.1%) items with no interactions.\n",
      "EvaluatorHoldout: Processed 10456 (100.0%) in 19.06 sec. Users per second: 548\n"
     ]
    },
    {
     "name": "stderr",
     "output_type": "stream",
     "text": [
      "[I 2023-12-09 03:00:39,308] Trial 608 finished with value: 0.04995922444468806 and parameters: {'coarse_recommender': 'rp3', 'use_3_levels': False, 'cutoff': 139, 'final_recommender_c1:rp3': 'merging'}. Best is trial 528 with value: 0.05134282283431156.\n"
     ]
    },
    {
     "name": "stdout",
     "output_type": "stream",
     "text": [
      "Recommender_Base_Class: URM Detected 627 ( 4.8%) users with no interactions.\n",
      "Recommender_Base_Class: URM Detected 247 ( 1.1%) items with no interactions.\n",
      "EvaluatorHoldout: Processed 10456 (100.0%) in 27.97 sec. Users per second: 374\n"
     ]
    },
    {
     "name": "stderr",
     "output_type": "stream",
     "text": [
      "[I 2023-12-09 03:01:07,516] Trial 609 finished with value: 0.05133560817211411 and parameters: {'coarse_recommender': 'easeR', 'use_3_levels': False, 'cutoff': 258, 'final_recommender_c1:easeR': 'slim'}. Best is trial 528 with value: 0.05134282283431156.\n"
     ]
    },
    {
     "name": "stdout",
     "output_type": "stream",
     "text": [
      "Recommender_Base_Class: URM Detected 627 ( 4.8%) users with no interactions.\n",
      "Recommender_Base_Class: URM Detected 247 ( 1.1%) items with no interactions.\n",
      "EvaluatorHoldout: Processed 10456 (100.0%) in 28.08 sec. Users per second: 372\n"
     ]
    },
    {
     "name": "stderr",
     "output_type": "stream",
     "text": [
      "[I 2023-12-09 03:01:35,855] Trial 610 finished with value: 0.05133346009278546 and parameters: {'coarse_recommender': 'easeR', 'use_3_levels': False, 'cutoff': 327, 'final_recommender_c1:easeR': 'slim'}. Best is trial 528 with value: 0.05134282283431156.\n"
     ]
    },
    {
     "name": "stdout",
     "output_type": "stream",
     "text": [
      "Recommender_Base_Class: URM Detected 627 ( 4.8%) users with no interactions.\n",
      "Recommender_Base_Class: URM Detected 247 ( 1.1%) items with no interactions.\n",
      "EvaluatorHoldout: Processed 10456 (100.0%) in 19.27 sec. Users per second: 543\n"
     ]
    },
    {
     "name": "stderr",
     "output_type": "stream",
     "text": [
      "[I 2023-12-09 03:01:55,348] Trial 611 finished with value: 0.049982561087429836 and parameters: {'coarse_recommender': 'itemKnn', 'use_3_levels': False, 'cutoff': 126, 'final_recommender_c1:itemKnn': 'merging'}. Best is trial 528 with value: 0.05134282283431156.\n"
     ]
    },
    {
     "name": "stdout",
     "output_type": "stream",
     "text": [
      "Recommender_Base_Class: URM Detected 627 ( 4.8%) users with no interactions.\n",
      "Recommender_Base_Class: URM Detected 247 ( 1.1%) items with no interactions.\n",
      "EvaluatorHoldout: Processed 10456 (100.0%) in 27.82 sec. Users per second: 376\n"
     ]
    },
    {
     "name": "stderr",
     "output_type": "stream",
     "text": [
      "[I 2023-12-09 03:02:23,411] Trial 612 finished with value: 0.0513390086651856 and parameters: {'coarse_recommender': 'easeR', 'use_3_levels': False, 'cutoff': 210, 'final_recommender_c1:easeR': 'slim'}. Best is trial 528 with value: 0.05134282283431156.\n"
     ]
    },
    {
     "name": "stdout",
     "output_type": "stream",
     "text": [
      "Recommender_Base_Class: URM Detected 627 ( 4.8%) users with no interactions.\n",
      "Recommender_Base_Class: URM Detected 247 ( 1.1%) items with no interactions.\n",
      "EvaluatorHoldout: Processed 10456 (100.0%) in 27.86 sec. Users per second: 375\n"
     ]
    },
    {
     "name": "stderr",
     "output_type": "stream",
     "text": [
      "[I 2023-12-09 03:02:51,516] Trial 613 finished with value: 0.05133263274067655 and parameters: {'coarse_recommender': 'easeR', 'use_3_levels': False, 'cutoff': 275, 'final_recommender_c1:easeR': 'slim'}. Best is trial 528 with value: 0.05134282283431156.\n"
     ]
    },
    {
     "name": "stdout",
     "output_type": "stream",
     "text": [
      "Recommender_Base_Class: URM Detected 627 ( 4.8%) users with no interactions.\n",
      "Recommender_Base_Class: URM Detected 247 ( 1.1%) items with no interactions.\n",
      "EvaluatorHoldout: Processed 10456 (100.0%) in 27.87 sec. Users per second: 375\n"
     ]
    },
    {
     "name": "stderr",
     "output_type": "stream",
     "text": [
      "[I 2023-12-09 03:03:19,638] Trial 614 finished with value: 0.05133690992336804 and parameters: {'coarse_recommender': 'easeR', 'use_3_levels': False, 'cutoff': 195, 'final_recommender_c1:easeR': 'slim'}. Best is trial 528 with value: 0.05134282283431156.\n"
     ]
    },
    {
     "name": "stdout",
     "output_type": "stream",
     "text": [
      "Recommender_Base_Class: URM Detected 627 ( 4.8%) users with no interactions.\n",
      "Recommender_Base_Class: URM Detected 247 ( 1.1%) items with no interactions.\n",
      "EvaluatorHoldout: Processed 10456 (100.0%) in 27.77 sec. Users per second: 377\n"
     ]
    },
    {
     "name": "stderr",
     "output_type": "stream",
     "text": [
      "[I 2023-12-09 03:03:47,653] Trial 615 finished with value: 0.051333794069783556 and parameters: {'coarse_recommender': 'easeR', 'use_3_levels': False, 'cutoff': 137, 'final_recommender_c1:easeR': 'slim'}. Best is trial 528 with value: 0.05134282283431156.\n"
     ]
    },
    {
     "name": "stdout",
     "output_type": "stream",
     "text": [
      "Recommender_Base_Class: URM Detected 627 ( 4.8%) users with no interactions.\n",
      "Recommender_Base_Class: URM Detected 247 ( 1.1%) items with no interactions.\n",
      "EvaluatorHoldout: Processed 10456 (100.0%) in 28.12 sec. Users per second: 372\n"
     ]
    },
    {
     "name": "stderr",
     "output_type": "stream",
     "text": [
      "[I 2023-12-09 03:04:16,041] Trial 616 finished with value: 0.05133346009278546 and parameters: {'coarse_recommender': 'easeR', 'use_3_levels': False, 'cutoff': 328, 'final_recommender_c1:easeR': 'slim'}. Best is trial 528 with value: 0.05134282283431156.\n"
     ]
    },
    {
     "name": "stdout",
     "output_type": "stream",
     "text": [
      "Recommender_Base_Class: URM Detected 627 ( 4.8%) users with no interactions.\n",
      "Recommender_Base_Class: URM Detected 247 ( 1.1%) items with no interactions.\n",
      "EvaluatorHoldout: Processed 10456 (100.0%) in 27.88 sec. Users per second: 375\n"
     ]
    },
    {
     "name": "stderr",
     "output_type": "stream",
     "text": [
      "[I 2023-12-09 03:04:44,172] Trial 617 finished with value: 0.0513390086651856 and parameters: {'coarse_recommender': 'easeR', 'use_3_levels': False, 'cutoff': 211, 'final_recommender_c1:easeR': 'slim'}. Best is trial 528 with value: 0.05134282283431156.\n"
     ]
    },
    {
     "name": "stdout",
     "output_type": "stream",
     "text": [
      "Recommender_Base_Class: URM Detected 627 ( 4.8%) users with no interactions.\n",
      "Recommender_Base_Class: URM Detected 247 ( 1.1%) items with no interactions.\n",
      "EvaluatorHoldout: Processed 10456 (100.0%) in 27.55 sec. Users per second: 380\n"
     ]
    },
    {
     "name": "stderr",
     "output_type": "stream",
     "text": [
      "[I 2023-12-09 03:05:11,971] Trial 618 finished with value: 0.05133523244799128 and parameters: {'coarse_recommender': 'easeR', 'use_3_levels': False, 'cutoff': 126, 'final_recommender_c1:easeR': 'slim'}. Best is trial 528 with value: 0.05134282283431156.\n"
     ]
    },
    {
     "name": "stdout",
     "output_type": "stream",
     "text": [
      "Recommender_Base_Class: URM Detected 627 ( 4.8%) users with no interactions.\n",
      "Recommender_Base_Class: URM Detected 247 ( 1.1%) items with no interactions.\n",
      "EvaluatorHoldout: Processed 10456 (100.0%) in 28.91 sec. Users per second: 362\n"
     ]
    },
    {
     "name": "stderr",
     "output_type": "stream",
     "text": [
      "[I 2023-12-09 03:05:41,128] Trial 619 finished with value: 0.0513328756330388 and parameters: {'coarse_recommender': 'easeR', 'use_3_levels': False, 'cutoff': 1849, 'final_recommender_c1:easeR': 'slim'}. Best is trial 528 with value: 0.05134282283431156.\n"
     ]
    },
    {
     "name": "stdout",
     "output_type": "stream",
     "text": [
      "Recommender_Base_Class: URM Detected 627 ( 4.8%) users with no interactions.\n",
      "Recommender_Base_Class: URM Detected 247 ( 1.1%) items with no interactions.\n",
      "EvaluatorHoldout: Processed 10456 (100.0%) in 28.30 sec. Users per second: 369\n"
     ]
    },
    {
     "name": "stderr",
     "output_type": "stream",
     "text": [
      "[I 2023-12-09 03:06:09,688] Trial 620 finished with value: 0.05133560817211411 and parameters: {'coarse_recommender': 'easeR', 'use_3_levels': False, 'cutoff': 259, 'final_recommender_c1:easeR': 'slim'}. Best is trial 528 with value: 0.05134282283431156.\n"
     ]
    },
    {
     "name": "stdout",
     "output_type": "stream",
     "text": [
      "Recommender_Base_Class: URM Detected 627 ( 4.8%) users with no interactions.\n",
      "Recommender_Base_Class: URM Detected 247 ( 1.1%) items with no interactions.\n",
      "EvaluatorHoldout: Processed 10456 (100.0%) in 27.86 sec. Users per second: 375\n"
     ]
    },
    {
     "name": "stderr",
     "output_type": "stream",
     "text": [
      "[I 2023-12-09 03:06:37,799] Trial 621 finished with value: 0.05133772968509063 and parameters: {'coarse_recommender': 'easeR', 'use_3_levels': False, 'cutoff': 186, 'final_recommender_c1:easeR': 'slim'}. Best is trial 528 with value: 0.05134282283431156.\n"
     ]
    },
    {
     "name": "stdout",
     "output_type": "stream",
     "text": [
      "Recommender_Base_Class: URM Detected 627 ( 4.8%) users with no interactions.\n",
      "Recommender_Base_Class: URM Detected 247 ( 1.1%) items with no interactions.\n",
      "EvaluatorHoldout: Processed 10456 (100.0%) in 27.87 sec. Users per second: 375\n"
     ]
    },
    {
     "name": "stderr",
     "output_type": "stream",
     "text": [
      "[I 2023-12-09 03:07:05,928] Trial 622 finished with value: 0.05133263274067655 and parameters: {'coarse_recommender': 'easeR', 'use_3_levels': False, 'cutoff': 276, 'final_recommender_c1:easeR': 'slim'}. Best is trial 528 with value: 0.05134282283431156.\n"
     ]
    },
    {
     "name": "stdout",
     "output_type": "stream",
     "text": [
      "Recommender_Base_Class: URM Detected 627 ( 4.8%) users with no interactions.\n",
      "Recommender_Base_Class: URM Detected 247 ( 1.1%) items with no interactions.\n",
      "EvaluatorHoldout: Processed 10456 (100.0%) in 26.61 sec. Users per second: 393\n"
     ]
    },
    {
     "name": "stderr",
     "output_type": "stream",
     "text": [
      "[I 2023-12-09 03:07:32,778] Trial 623 finished with value: 0.05003549644162761 and parameters: {'coarse_recommender': 'slim', 'use_3_levels': False, 'cutoff': 130, 'final_recommender_c1:slim': 'merging'}. Best is trial 528 with value: 0.05134282283431156.\n"
     ]
    },
    {
     "name": "stdout",
     "output_type": "stream",
     "text": [
      "Recommender_Base_Class: URM Detected 627 ( 4.8%) users with no interactions.\n",
      "Recommender_Base_Class: URM Detected 247 ( 1.1%) items with no interactions.\n",
      "EvaluatorHoldout: Processed 10456 (100.0%) in 37.22 sec. Users per second: 281\n"
     ]
    },
    {
     "name": "stderr",
     "output_type": "stream",
     "text": [
      "[I 2023-12-09 03:08:10,279] Trial 624 finished with value: 0.04223408979123456 and parameters: {'coarse_recommender': 'easeR', 'use_3_levels': True, 'coarse_2_recommender_c1:easeR': 'alpha', 'final_recommender_c1:easeR_c2:alpha': 'ials', 'cutoff1': 1457, 'cutoff2': 1090}. Best is trial 528 with value: 0.05134282283431156.\n"
     ]
    },
    {
     "name": "stdout",
     "output_type": "stream",
     "text": [
      "Recommender_Base_Class: URM Detected 627 ( 4.8%) users with no interactions.\n",
      "Recommender_Base_Class: URM Detected 247 ( 1.1%) items with no interactions.\n",
      "EvaluatorHoldout: Processed 10456 (100.0%) in 25.32 sec. Users per second: 413\n"
     ]
    },
    {
     "name": "stderr",
     "output_type": "stream",
     "text": [
      "[I 2023-12-09 03:08:35,833] Trial 625 finished with value: 0.049319635722180295 and parameters: {'coarse_recommender': 'easeR', 'use_3_levels': False, 'cutoff': 198, 'final_recommender_c1:easeR': 'rp3'}. Best is trial 528 with value: 0.05134282283431156.\n"
     ]
    },
    {
     "name": "stdout",
     "output_type": "stream",
     "text": [
      "Recommender_Base_Class: URM Detected 627 ( 4.8%) users with no interactions.\n",
      "Recommender_Base_Class: URM Detected 247 ( 1.1%) items with no interactions.\n",
      "EvaluatorHoldout: Processed 10456 (100.0%) in 28.07 sec. Users per second: 372\n"
     ]
    },
    {
     "name": "stderr",
     "output_type": "stream",
     "text": [
      "[I 2023-12-09 03:09:04,131] Trial 626 finished with value: 0.05133346009278546 and parameters: {'coarse_recommender': 'easeR', 'use_3_levels': False, 'cutoff': 326, 'final_recommender_c1:easeR': 'slim'}. Best is trial 528 with value: 0.05134282283431156.\n"
     ]
    },
    {
     "name": "stdout",
     "output_type": "stream",
     "text": [
      "Recommender_Base_Class: URM Detected 627 ( 4.8%) users with no interactions.\n",
      "Recommender_Base_Class: URM Detected 247 ( 1.1%) items with no interactions.\n",
      "EvaluatorHoldout: Processed 10456 (100.0%) in 25.28 sec. Users per second: 414\n"
     ]
    },
    {
     "name": "stderr",
     "output_type": "stream",
     "text": [
      "[I 2023-12-09 03:09:29,632] Trial 627 finished with value: 0.050050199019930054 and parameters: {'coarse_recommender': 'easeR', 'use_3_levels': False, 'cutoff': 236, 'final_recommender_c1:easeR': 'merging'}. Best is trial 528 with value: 0.05134282283431156.\n"
     ]
    },
    {
     "name": "stdout",
     "output_type": "stream",
     "text": [
      "Recommender_Base_Class: URM Detected 627 ( 4.8%) users with no interactions.\n",
      "Recommender_Base_Class: URM Detected 247 ( 1.1%) items with no interactions.\n",
      "EvaluatorHoldout: Processed 10456 (100.0%) in 37.48 sec. Users per second: 279\n"
     ]
    },
    {
     "name": "stderr",
     "output_type": "stream",
     "text": [
      "[I 2023-12-09 03:10:07,341] Trial 628 finished with value: 0.04814748272428135 and parameters: {'coarse_recommender': 'ials', 'use_3_levels': False, 'cutoff': 122, 'final_recommender_c1:ials': 'rp3'}. Best is trial 528 with value: 0.05134282283431156.\n"
     ]
    },
    {
     "name": "stdout",
     "output_type": "stream",
     "text": [
      "Recommender_Base_Class: URM Detected 627 ( 4.8%) users with no interactions.\n",
      "Recommender_Base_Class: URM Detected 247 ( 1.1%) items with no interactions.\n",
      "EvaluatorHoldout: Processed 10456 (100.0%) in 27.91 sec. Users per second: 375\n"
     ]
    },
    {
     "name": "stderr",
     "output_type": "stream",
     "text": [
      "[I 2023-12-09 03:10:35,487] Trial 629 finished with value: 0.05133772968509063 and parameters: {'coarse_recommender': 'easeR', 'use_3_levels': False, 'cutoff': 188, 'final_recommender_c1:easeR': 'slim'}. Best is trial 528 with value: 0.05134282283431156.\n"
     ]
    },
    {
     "name": "stdout",
     "output_type": "stream",
     "text": [
      "Recommender_Base_Class: URM Detected 627 ( 4.8%) users with no interactions.\n",
      "Recommender_Base_Class: URM Detected 247 ( 1.1%) items with no interactions.\n",
      "EvaluatorHoldout: Processed 10456 (100.0%) in 27.95 sec. Users per second: 374\n"
     ]
    },
    {
     "name": "stderr",
     "output_type": "stream",
     "text": [
      "[I 2023-12-09 03:11:03,681] Trial 630 finished with value: 0.05133550190670563 and parameters: {'coarse_recommender': 'easeR', 'use_3_levels': False, 'cutoff': 265, 'final_recommender_c1:easeR': 'slim'}. Best is trial 528 with value: 0.05134282283431156.\n"
     ]
    },
    {
     "name": "stdout",
     "output_type": "stream",
     "text": [
      "Recommender_Base_Class: URM Detected 627 ( 4.8%) users with no interactions.\n",
      "Recommender_Base_Class: URM Detected 247 ( 1.1%) items with no interactions.\n",
      "EvaluatorHoldout: Processed 10456 (100.0%) in 23.78 sec. Users per second: 440\n"
     ]
    },
    {
     "name": "stderr",
     "output_type": "stream",
     "text": [
      "[I 2023-12-09 03:11:27,701] Trial 631 finished with value: 0.04484818847840146 and parameters: {'coarse_recommender': 'rp3', 'use_3_levels': False, 'cutoff': 126, 'final_recommender_c1:rp3': 'easeR'}. Best is trial 528 with value: 0.05134282283431156.\n"
     ]
    },
    {
     "name": "stdout",
     "output_type": "stream",
     "text": [
      "Recommender_Base_Class: URM Detected 627 ( 4.8%) users with no interactions.\n",
      "Recommender_Base_Class: URM Detected 247 ( 1.1%) items with no interactions.\n",
      "EvaluatorHoldout: Processed 10456 (100.0%) in 25.17 sec. Users per second: 415\n"
     ]
    },
    {
     "name": "stderr",
     "output_type": "stream",
     "text": [
      "[I 2023-12-09 03:11:53,110] Trial 632 finished with value: 0.04673506743299263 and parameters: {'coarse_recommender': 'userKnn', 'use_3_levels': False, 'cutoff': 337, 'final_recommender_c1:userKnn': 'alpha'}. Best is trial 528 with value: 0.05134282283431156.\n"
     ]
    },
    {
     "name": "stdout",
     "output_type": "stream",
     "text": [
      "Recommender_Base_Class: URM Detected 627 ( 4.8%) users with no interactions.\n",
      "Recommender_Base_Class: URM Detected 247 ( 1.1%) items with no interactions.\n",
      "EvaluatorHoldout: Processed 10456 (100.0%) in 27.73 sec. Users per second: 377\n"
     ]
    },
    {
     "name": "stderr",
     "output_type": "stream",
     "text": [
      "[I 2023-12-09 03:12:21,086] Trial 633 finished with value: 0.05133690992336804 and parameters: {'coarse_recommender': 'easeR', 'use_3_levels': False, 'cutoff': 195, 'final_recommender_c1:easeR': 'slim'}. Best is trial 528 with value: 0.05134282283431156.\n"
     ]
    },
    {
     "name": "stdout",
     "output_type": "stream",
     "text": [
      "Recommender_Base_Class: URM Detected 627 ( 4.8%) users with no interactions.\n",
      "Recommender_Base_Class: URM Detected 247 ( 1.1%) items with no interactions.\n",
      "EvaluatorHoldout: Processed 10456 (100.0%) in 25.14 sec. Users per second: 416\n"
     ]
    },
    {
     "name": "stderr",
     "output_type": "stream",
     "text": [
      "[I 2023-12-09 03:12:46,466] Trial 634 finished with value: 0.04819145762742798 and parameters: {'coarse_recommender': 'easeR', 'use_3_levels': False, 'cutoff': 247, 'final_recommender_c1:easeR': 'alpha'}. Best is trial 528 with value: 0.05134282283431156.\n"
     ]
    },
    {
     "name": "stdout",
     "output_type": "stream",
     "text": [
      "Recommender_Base_Class: URM Detected 627 ( 4.8%) users with no interactions.\n",
      "Recommender_Base_Class: URM Detected 247 ( 1.1%) items with no interactions.\n",
      "EvaluatorHoldout: Processed 10456 (100.0%) in 27.97 sec. Users per second: 374\n"
     ]
    },
    {
     "name": "stderr",
     "output_type": "stream",
     "text": [
      "[I 2023-12-09 03:13:14,676] Trial 635 finished with value: 0.05134299361800376 and parameters: {'coarse_recommender': 'easeR', 'use_3_levels': False, 'cutoff': 169, 'final_recommender_c1:easeR': 'slim'}. Best is trial 635 with value: 0.05134299361800376.\n"
     ]
    },
    {
     "name": "stdout",
     "output_type": "stream",
     "text": [
      "Recommender_Base_Class: URM Detected 627 ( 4.8%) users with no interactions.\n",
      "Recommender_Base_Class: URM Detected 247 ( 1.1%) items with no interactions.\n",
      "EvaluatorHoldout: Processed 10456 (100.0%) in 21.40 sec. Users per second: 489\n"
     ]
    },
    {
     "name": "stderr",
     "output_type": "stream",
     "text": [
      "[I 2023-12-09 03:13:36,322] Trial 636 finished with value: 0.0381592326423049 and parameters: {'coarse_recommender': 'itemKnn', 'use_3_levels': False, 'cutoff': 121, 'final_recommender_c1:itemKnn': 'userKnn'}. Best is trial 635 with value: 0.05134299361800376.\n"
     ]
    },
    {
     "name": "stdout",
     "output_type": "stream",
     "text": [
      "Recommender_Base_Class: URM Detected 627 ( 4.8%) users with no interactions.\n",
      "Recommender_Base_Class: URM Detected 247 ( 1.1%) items with no interactions.\n",
      "EvaluatorHoldout: Processed 10456 (100.0%) in 28.09 sec. Users per second: 372\n"
     ]
    },
    {
     "name": "stderr",
     "output_type": "stream",
     "text": [
      "[I 2023-12-09 03:14:04,646] Trial 637 finished with value: 0.05133457967476772 and parameters: {'coarse_recommender': 'easeR', 'use_3_levels': False, 'cutoff': 130, 'final_recommender_c1:easeR': 'slim'}. Best is trial 635 with value: 0.05134299361800376.\n"
     ]
    },
    {
     "name": "stdout",
     "output_type": "stream",
     "text": [
      "Recommender_Base_Class: URM Detected 627 ( 4.8%) users with no interactions.\n",
      "Recommender_Base_Class: URM Detected 247 ( 1.1%) items with no interactions.\n",
      "EvaluatorHoldout: Processed 10456 (100.0%) in 22.73 sec. Users per second: 460\n"
     ]
    },
    {
     "name": "stderr",
     "output_type": "stream",
     "text": [
      "[I 2023-12-09 03:14:27,602] Trial 638 finished with value: 0.04255062787675701 and parameters: {'coarse_recommender': 'alpha', 'use_3_levels': False, 'cutoff': 864, 'final_recommender_c1:alpha': 'ials'}. Best is trial 635 with value: 0.05134299361800376.\n"
     ]
    },
    {
     "name": "stdout",
     "output_type": "stream",
     "text": [
      "Recommender_Base_Class: URM Detected 627 ( 4.8%) users with no interactions.\n",
      "Recommender_Base_Class: URM Detected 247 ( 1.1%) items with no interactions.\n",
      "EvaluatorHoldout: Processed 10456 (100.0%) in 27.73 sec. Users per second: 377\n"
     ]
    },
    {
     "name": "stderr",
     "output_type": "stream",
     "text": [
      "[I 2023-12-09 03:14:55,573] Trial 639 finished with value: 0.03655748654983577 and parameters: {'coarse_recommender': 'easeR', 'use_3_levels': False, 'cutoff': 171, 'final_recommender_c1:easeR': 'userKnn'}. Best is trial 635 with value: 0.05134299361800376.\n"
     ]
    },
    {
     "name": "stdout",
     "output_type": "stream",
     "text": [
      "Recommender_Base_Class: URM Detected 627 ( 4.8%) users with no interactions.\n",
      "Recommender_Base_Class: URM Detected 247 ( 1.1%) items with no interactions.\n",
      "EvaluatorHoldout: Processed 10456 (100.0%) in 29.25 sec. Users per second: 357\n"
     ]
    },
    {
     "name": "stderr",
     "output_type": "stream",
     "text": [
      "[I 2023-12-09 03:15:25,077] Trial 640 finished with value: 0.04176582747355561 and parameters: {'coarse_recommender': 'easeR', 'use_3_levels': False, 'cutoff': 272, 'final_recommender_c1:easeR': 'ials'}. Best is trial 635 with value: 0.05134299361800376.\n"
     ]
    },
    {
     "name": "stdout",
     "output_type": "stream",
     "text": [
      "Recommender_Base_Class: URM Detected 627 ( 4.8%) users with no interactions.\n",
      "Recommender_Base_Class: URM Detected 247 ( 1.1%) items with no interactions.\n",
      "EvaluatorHoldout: Processed 10456 (100.0%) in 27.74 sec. Users per second: 377\n"
     ]
    },
    {
     "name": "stderr",
     "output_type": "stream",
     "text": [
      "[I 2023-12-09 03:15:53,061] Trial 641 finished with value: 0.05133968800476127 and parameters: {'coarse_recommender': 'easeR', 'use_3_levels': False, 'cutoff': 174, 'final_recommender_c1:easeR': 'slim'}. Best is trial 635 with value: 0.05134299361800376.\n"
     ]
    },
    {
     "name": "stdout",
     "output_type": "stream",
     "text": [
      "Recommender_Base_Class: URM Detected 627 ( 4.8%) users with no interactions.\n",
      "Recommender_Base_Class: URM Detected 247 ( 1.1%) items with no interactions.\n",
      "EvaluatorHoldout: Processed 10456 (100.0%) in 25.08 sec. Users per second: 417\n"
     ]
    },
    {
     "name": "stderr",
     "output_type": "stream",
     "text": [
      "[I 2023-12-09 03:16:18,384] Trial 642 finished with value: 0.04874263353007687 and parameters: {'coarse_recommender': 'easeR', 'use_3_levels': False, 'cutoff': 119, 'final_recommender_c1:easeR': 'itemKnn'}. Best is trial 635 with value: 0.05134299361800376.\n"
     ]
    },
    {
     "name": "stdout",
     "output_type": "stream",
     "text": [
      "Recommender_Base_Class: URM Detected 627 ( 4.8%) users with no interactions.\n",
      "Recommender_Base_Class: URM Detected 247 ( 1.1%) items with no interactions.\n",
      "EvaluatorHoldout: Processed 10456 (100.0%) in 40.47 sec. Users per second: 258\n"
     ]
    },
    {
     "name": "stderr",
     "output_type": "stream",
     "text": [
      "[I 2023-12-09 03:16:59,139] Trial 643 finished with value: 0.051325987357453126 and parameters: {'coarse_recommender': 'easeR', 'use_3_levels': True, 'coarse_2_recommender_c1:easeR': 'ials', 'final_recommender_c1:easeR_c2:ials': 'slim', 'cutoff1': 1648, 'cutoff2': 1022}. Best is trial 635 with value: 0.05134299361800376.\n"
     ]
    },
    {
     "name": "stdout",
     "output_type": "stream",
     "text": [
      "Recommender_Base_Class: URM Detected 627 ( 4.8%) users with no interactions.\n",
      "Recommender_Base_Class: URM Detected 247 ( 1.1%) items with no interactions.\n",
      "EvaluatorHoldout: Processed 10456 (100.0%) in 27.77 sec. Users per second: 377\n"
     ]
    },
    {
     "name": "stderr",
     "output_type": "stream",
     "text": [
      "[I 2023-12-09 03:17:27,141] Trial 644 finished with value: 0.05134282283431156 and parameters: {'coarse_recommender': 'easeR', 'use_3_levels': False, 'cutoff': 171, 'final_recommender_c1:easeR': 'slim'}. Best is trial 635 with value: 0.05134299361800376.\n"
     ]
    },
    {
     "name": "stdout",
     "output_type": "stream",
     "text": [
      "Recommender_Base_Class: URM Detected 627 ( 4.8%) users with no interactions.\n",
      "Recommender_Base_Class: URM Detected 247 ( 1.1%) items with no interactions.\n",
      "EvaluatorHoldout: Processed 10456 (100.0%) in 27.85 sec. Users per second: 375\n"
     ]
    },
    {
     "name": "stderr",
     "output_type": "stream",
     "text": [
      "[I 2023-12-09 03:17:55,222] Trial 645 finished with value: 0.051329729417909045 and parameters: {'coarse_recommender': 'easeR', 'use_3_levels': False, 'cutoff': 148, 'final_recommender_c1:easeR': 'slim'}. Best is trial 635 with value: 0.05134299361800376.\n"
     ]
    },
    {
     "name": "stdout",
     "output_type": "stream",
     "text": [
      "Recommender_Base_Class: URM Detected 627 ( 4.8%) users with no interactions.\n",
      "Recommender_Base_Class: URM Detected 247 ( 1.1%) items with no interactions.\n",
      "EvaluatorHoldout: Processed 10456 (100.0%) in 27.81 sec. Users per second: 376\n"
     ]
    },
    {
     "name": "stderr",
     "output_type": "stream",
     "text": [
      "[I 2023-12-09 03:18:23,304] Trial 646 finished with value: 0.05132064372548365 and parameters: {'coarse_recommender': 'easeR', 'use_3_levels': False, 'cutoff': 118, 'final_recommender_c1:easeR': 'slim'}. Best is trial 635 with value: 0.05134299361800376.\n"
     ]
    },
    {
     "name": "stdout",
     "output_type": "stream",
     "text": [
      "Recommender_Base_Class: URM Detected 627 ( 4.8%) users with no interactions.\n",
      "Recommender_Base_Class: URM Detected 247 ( 1.1%) items with no interactions.\n",
      "EvaluatorHoldout: Processed 10456 (100.0%) in 28.93 sec. Users per second: 361\n"
     ]
    },
    {
     "name": "stderr",
     "output_type": "stream",
     "text": [
      "[I 2023-12-09 03:18:52,478] Trial 647 finished with value: 0.0513328756330388 and parameters: {'coarse_recommender': 'easeR', 'use_3_levels': False, 'cutoff': 1938, 'final_recommender_c1:easeR': 'slim'}. Best is trial 635 with value: 0.05134299361800376.\n"
     ]
    },
    {
     "name": "stdout",
     "output_type": "stream",
     "text": [
      "Recommender_Base_Class: URM Detected 627 ( 4.8%) users with no interactions.\n",
      "Recommender_Base_Class: URM Detected 247 ( 1.1%) items with no interactions.\n",
      "EvaluatorHoldout: Processed 10456 (100.0%) in 27.53 sec. Users per second: 380\n"
     ]
    },
    {
     "name": "stderr",
     "output_type": "stream",
     "text": [
      "[I 2023-12-09 03:19:20,251] Trial 648 finished with value: 0.05134299361800376 and parameters: {'coarse_recommender': 'easeR', 'use_3_levels': False, 'cutoff': 168, 'final_recommender_c1:easeR': 'slim'}. Best is trial 635 with value: 0.05134299361800376.\n"
     ]
    },
    {
     "name": "stdout",
     "output_type": "stream",
     "text": [
      "Recommender_Base_Class: URM Detected 627 ( 4.8%) users with no interactions.\n",
      "Recommender_Base_Class: URM Detected 247 ( 1.1%) items with no interactions.\n",
      "EvaluatorHoldout: Processed 10456 (100.0%) in 29.38 sec. Users per second: 356\n"
     ]
    },
    {
     "name": "stderr",
     "output_type": "stream",
     "text": [
      "[I 2023-12-09 03:19:49,882] Trial 649 finished with value: 0.0513328756330388 and parameters: {'coarse_recommender': 'easeR', 'use_3_levels': False, 'cutoff': 2758, 'final_recommender_c1:easeR': 'slim'}. Best is trial 635 with value: 0.05134299361800376.\n"
     ]
    },
    {
     "name": "stdout",
     "output_type": "stream",
     "text": [
      "Recommender_Base_Class: URM Detected 627 ( 4.8%) users with no interactions.\n",
      "Recommender_Base_Class: URM Detected 247 ( 1.1%) items with no interactions.\n",
      "EvaluatorHoldout: Processed 10456 (100.0%) in 27.44 sec. Users per second: 381\n"
     ]
    },
    {
     "name": "stderr",
     "output_type": "stream",
     "text": [
      "[I 2023-12-09 03:20:17,565] Trial 650 finished with value: 0.051321672222830045 and parameters: {'coarse_recommender': 'easeR', 'use_3_levels': False, 'cutoff': 114, 'final_recommender_c1:easeR': 'slim'}. Best is trial 635 with value: 0.05134299361800376.\n"
     ]
    },
    {
     "name": "stdout",
     "output_type": "stream",
     "text": [
      "Recommender_Base_Class: URM Detected 627 ( 4.8%) users with no interactions.\n",
      "Recommender_Base_Class: URM Detected 247 ( 1.1%) items with no interactions.\n",
      "EvaluatorHoldout: Processed 10456 (100.0%) in 27.44 sec. Users per second: 381\n"
     ]
    },
    {
     "name": "stderr",
     "output_type": "stream",
     "text": [
      "[I 2023-12-09 03:20:45,251] Trial 651 finished with value: 0.05134282283431156 and parameters: {'coarse_recommender': 'easeR', 'use_3_levels': False, 'cutoff': 170, 'final_recommender_c1:easeR': 'slim'}. Best is trial 635 with value: 0.05134299361800376.\n"
     ]
    },
    {
     "name": "stdout",
     "output_type": "stream",
     "text": [
      "Recommender_Base_Class: URM Detected 627 ( 4.8%) users with no interactions.\n",
      "Recommender_Base_Class: URM Detected 247 ( 1.1%) items with no interactions.\n",
      "EvaluatorHoldout: Processed 10456 (100.0%) in 27.59 sec. Users per second: 379\n"
     ]
    },
    {
     "name": "stderr",
     "output_type": "stream",
     "text": [
      "[I 2023-12-09 03:21:13,089] Trial 652 finished with value: 0.051329729417909045 and parameters: {'coarse_recommender': 'easeR', 'use_3_levels': False, 'cutoff': 148, 'final_recommender_c1:easeR': 'slim'}. Best is trial 635 with value: 0.05134299361800376.\n"
     ]
    },
    {
     "name": "stdout",
     "output_type": "stream",
     "text": [
      "Recommender_Base_Class: URM Detected 627 ( 4.8%) users with no interactions.\n",
      "Recommender_Base_Class: URM Detected 247 ( 1.1%) items with no interactions.\n",
      "EvaluatorHoldout: Processed 10456 (100.0%) in 29.88 sec. Users per second: 350\n"
     ]
    },
    {
     "name": "stderr",
     "output_type": "stream",
     "text": [
      "[I 2023-12-09 03:21:43,222] Trial 653 finished with value: 0.041786317721427345 and parameters: {'coarse_recommender': 'slim', 'use_3_levels': False, 'cutoff': 120, 'final_recommender_c1:slim': 'ials'}. Best is trial 635 with value: 0.05134299361800376.\n"
     ]
    },
    {
     "name": "stdout",
     "output_type": "stream",
     "text": [
      "Recommender_Base_Class: URM Detected 627 ( 4.8%) users with no interactions.\n",
      "Recommender_Base_Class: URM Detected 247 ( 1.1%) items with no interactions.\n",
      "EvaluatorHoldout: Processed 10456 (100.0%) in 27.71 sec. Users per second: 377\n"
     ]
    },
    {
     "name": "stderr",
     "output_type": "stream",
     "text": [
      "[I 2023-12-09 03:22:11,197] Trial 654 finished with value: 0.05133847733814318 and parameters: {'coarse_recommender': 'easeR', 'use_3_levels': False, 'cutoff': 162, 'final_recommender_c1:easeR': 'slim'}. Best is trial 635 with value: 0.05134299361800376.\n"
     ]
    },
    {
     "name": "stdout",
     "output_type": "stream",
     "text": [
      "Recommender_Base_Class: URM Detected 627 ( 4.8%) users with no interactions.\n",
      "Recommender_Base_Class: URM Detected 247 ( 1.1%) items with no interactions.\n",
      "EvaluatorHoldout: Processed 10456 (100.0%) in 28.37 sec. Users per second: 369\n"
     ]
    },
    {
     "name": "stderr",
     "output_type": "stream",
     "text": [
      "[I 2023-12-09 03:22:39,817] Trial 655 finished with value: 0.0513328756330388 and parameters: {'coarse_recommender': 'easeR', 'use_3_levels': False, 'cutoff': 1044, 'final_recommender_c1:easeR': 'slim'}. Best is trial 635 with value: 0.05134299361800376.\n"
     ]
    },
    {
     "name": "stdout",
     "output_type": "stream",
     "text": [
      "Recommender_Base_Class: URM Detected 627 ( 4.8%) users with no interactions.\n",
      "Recommender_Base_Class: URM Detected 247 ( 1.1%) items with no interactions.\n",
      "EvaluatorHoldout: Processed 10456 (100.0%) in 27.91 sec. Users per second: 375\n"
     ]
    },
    {
     "name": "stderr",
     "output_type": "stream",
     "text": [
      "[I 2023-12-09 03:23:07,995] Trial 656 finished with value: 0.05133175984624971 and parameters: {'coarse_recommender': 'easeR', 'use_3_levels': False, 'cutoff': 281, 'final_recommender_c1:easeR': 'slim'}. Best is trial 635 with value: 0.05134299361800376.\n"
     ]
    },
    {
     "name": "stdout",
     "output_type": "stream",
     "text": [
      "Recommender_Base_Class: URM Detected 627 ( 4.8%) users with no interactions.\n",
      "Recommender_Base_Class: URM Detected 247 ( 1.1%) items with no interactions.\n",
      "EvaluatorHoldout: Processed 10456 (100.0%) in 27.79 sec. Users per second: 376\n"
     ]
    },
    {
     "name": "stderr",
     "output_type": "stream",
     "text": [
      "[I 2023-12-09 03:23:36,038] Trial 657 finished with value: 0.05134282283431156 and parameters: {'coarse_recommender': 'easeR', 'use_3_levels': False, 'cutoff': 170, 'final_recommender_c1:easeR': 'slim'}. Best is trial 635 with value: 0.05134299361800376.\n"
     ]
    },
    {
     "name": "stdout",
     "output_type": "stream",
     "text": [
      "Recommender_Base_Class: URM Detected 627 ( 4.8%) users with no interactions.\n",
      "Recommender_Base_Class: URM Detected 247 ( 1.1%) items with no interactions.\n",
      "EvaluatorHoldout: Processed 10456 (100.0%) in 27.73 sec. Users per second: 377\n"
     ]
    },
    {
     "name": "stderr",
     "output_type": "stream",
     "text": [
      "[I 2023-12-09 03:24:03,994] Trial 658 finished with value: 0.051317288774730074 and parameters: {'coarse_recommender': 'easeR', 'use_3_levels': False, 'cutoff': 111, 'final_recommender_c1:easeR': 'slim'}. Best is trial 635 with value: 0.05134299361800376.\n"
     ]
    },
    {
     "name": "stdout",
     "output_type": "stream",
     "text": [
      "Recommender_Base_Class: URM Detected 627 ( 4.8%) users with no interactions.\n",
      "Recommender_Base_Class: URM Detected 247 ( 1.1%) items with no interactions.\n",
      "EvaluatorHoldout: Processed 10456 (100.0%) in 37.15 sec. Users per second: 281\n"
     ]
    },
    {
     "name": "stderr",
     "output_type": "stream",
     "text": [
      "[I 2023-12-09 03:24:41,386] Trial 659 finished with value: 0.04724166120158903 and parameters: {'coarse_recommender': 'ials', 'use_3_levels': False, 'cutoff': 170, 'final_recommender_c1:ials': 'alpha'}. Best is trial 635 with value: 0.05134299361800376.\n"
     ]
    },
    {
     "name": "stdout",
     "output_type": "stream",
     "text": [
      "Recommender_Base_Class: URM Detected 627 ( 4.8%) users with no interactions.\n",
      "Recommender_Base_Class: URM Detected 247 ( 1.1%) items with no interactions.\n",
      "EvaluatorHoldout: Processed 10456 (100.0%) in 27.65 sec. Users per second: 378\n"
     ]
    },
    {
     "name": "stderr",
     "output_type": "stream",
     "text": [
      "[I 2023-12-09 03:25:09,285] Trial 660 finished with value: 0.051321672222830045 and parameters: {'coarse_recommender': 'easeR', 'use_3_levels': False, 'cutoff': 113, 'final_recommender_c1:easeR': 'slim'}. Best is trial 635 with value: 0.05134299361800376.\n"
     ]
    },
    {
     "name": "stdout",
     "output_type": "stream",
     "text": [
      "Recommender_Base_Class: URM Detected 627 ( 4.8%) users with no interactions.\n",
      "Recommender_Base_Class: URM Detected 247 ( 1.1%) items with no interactions.\n",
      "EvaluatorHoldout: Processed 10456 (100.0%) in 21.64 sec. Users per second: 483\n"
     ]
    },
    {
     "name": "stderr",
     "output_type": "stream",
     "text": [
      "[I 2023-12-09 03:25:31,153] Trial 661 finished with value: 0.0387781565380556 and parameters: {'coarse_recommender': 'rp3', 'use_3_levels': False, 'cutoff': 171, 'final_recommender_c1:rp3': 'userKnn'}. Best is trial 635 with value: 0.05134299361800376.\n"
     ]
    },
    {
     "name": "stdout",
     "output_type": "stream",
     "text": [
      "Recommender_Base_Class: URM Detected 627 ( 4.8%) users with no interactions.\n",
      "Recommender_Base_Class: URM Detected 247 ( 1.1%) items with no interactions.\n",
      "EvaluatorHoldout: Processed 10456 (100.0%) in 35.78 sec. Users per second: 292\n"
     ]
    },
    {
     "name": "stderr",
     "output_type": "stream",
     "text": [
      "[I 2023-12-09 03:26:07,196] Trial 662 finished with value: 0.047868327291386424 and parameters: {'coarse_recommender': 'easeR', 'use_3_levels': True, 'coarse_2_recommender_c1:easeR': 'userKnn', 'final_recommender_c1:easeR_c2:userKnn': 'alpha', 'cutoff1': 1176, 'cutoff2': 560}. Best is trial 635 with value: 0.05134299361800376.\n"
     ]
    },
    {
     "name": "stdout",
     "output_type": "stream",
     "text": [
      "Recommender_Base_Class: URM Detected 627 ( 4.8%) users with no interactions.\n",
      "Recommender_Base_Class: URM Detected 247 ( 1.1%) items with no interactions.\n",
      "EvaluatorHoldout: Processed 10456 (100.0%) in 28.14 sec. Users per second: 372\n"
     ]
    },
    {
     "name": "stderr",
     "output_type": "stream",
     "text": [
      "[I 2023-12-09 03:26:35,581] Trial 663 finished with value: 0.051337027574356 and parameters: {'coarse_recommender': 'easeR', 'use_3_levels': False, 'cutoff': 242, 'final_recommender_c1:easeR': 'slim'}. Best is trial 635 with value: 0.05134299361800376.\n"
     ]
    },
    {
     "name": "stdout",
     "output_type": "stream",
     "text": [
      "Recommender_Base_Class: URM Detected 627 ( 4.8%) users with no interactions.\n",
      "Recommender_Base_Class: URM Detected 247 ( 1.1%) items with no interactions.\n",
      "EvaluatorHoldout: Processed 10456 (100.0%) in 27.53 sec. Users per second: 380\n"
     ]
    },
    {
     "name": "stderr",
     "output_type": "stream",
     "text": [
      "[I 2023-12-09 03:27:03,353] Trial 664 finished with value: 0.05134282283431156 and parameters: {'coarse_recommender': 'easeR', 'use_3_levels': False, 'cutoff': 170, 'final_recommender_c1:easeR': 'slim'}. Best is trial 635 with value: 0.05134299361800376.\n"
     ]
    },
    {
     "name": "stdout",
     "output_type": "stream",
     "text": [
      "Recommender_Base_Class: URM Detected 627 ( 4.8%) users with no interactions.\n",
      "Recommender_Base_Class: URM Detected 247 ( 1.1%) items with no interactions.\n",
      "EvaluatorHoldout: Processed 10456 (100.0%) in 27.69 sec. Users per second: 378\n"
     ]
    },
    {
     "name": "stderr",
     "output_type": "stream",
     "text": [
      "[I 2023-12-09 03:27:31,279] Trial 665 finished with value: 0.04851776074495164 and parameters: {'coarse_recommender': 'userKnn', 'use_3_levels': False, 'cutoff': 131, 'final_recommender_c1:userKnn': 'slim'}. Best is trial 635 with value: 0.05134299361800376.\n"
     ]
    },
    {
     "name": "stdout",
     "output_type": "stream",
     "text": [
      "Recommender_Base_Class: URM Detected 627 ( 4.8%) users with no interactions.\n",
      "Recommender_Base_Class: URM Detected 247 ( 1.1%) items with no interactions.\n",
      "EvaluatorHoldout: Processed 10456 (100.0%) in 27.81 sec. Users per second: 376\n"
     ]
    },
    {
     "name": "stderr",
     "output_type": "stream",
     "text": [
      "[I 2023-12-09 03:27:59,323] Trial 666 finished with value: 0.05131519003291251 and parameters: {'coarse_recommender': 'easeR', 'use_3_levels': False, 'cutoff': 109, 'final_recommender_c1:easeR': 'slim'}. Best is trial 635 with value: 0.05134299361800376.\n"
     ]
    },
    {
     "name": "stdout",
     "output_type": "stream",
     "text": [
      "Recommender_Base_Class: URM Detected 627 ( 4.8%) users with no interactions.\n",
      "Recommender_Base_Class: URM Detected 247 ( 1.1%) items with no interactions.\n",
      "EvaluatorHoldout: Processed 10456 (100.0%) in 19.00 sec. Users per second: 550\n"
     ]
    },
    {
     "name": "stderr",
     "output_type": "stream",
     "text": [
      "[I 2023-12-09 03:28:18,555] Trial 667 finished with value: 0.04921203820089689 and parameters: {'coarse_recommender': 'itemKnn', 'use_3_levels': False, 'cutoff': 174, 'final_recommender_c1:itemKnn': 'rp3'}. Best is trial 635 with value: 0.05134299361800376.\n"
     ]
    },
    {
     "name": "stdout",
     "output_type": "stream",
     "text": [
      "Recommender_Base_Class: URM Detected 627 ( 4.8%) users with no interactions.\n",
      "Recommender_Base_Class: URM Detected 247 ( 1.1%) items with no interactions.\n",
      "EvaluatorHoldout: Processed 10456 (100.0%) in 25.30 sec. Users per second: 413\n"
     ]
    },
    {
     "name": "stderr",
     "output_type": "stream",
     "text": [
      "[I 2023-12-09 03:28:44,123] Trial 668 finished with value: 0.05003756102670675 and parameters: {'coarse_recommender': 'easeR', 'use_3_levels': False, 'cutoff': 293, 'final_recommender_c1:easeR': 'merging'}. Best is trial 635 with value: 0.05134299361800376.\n"
     ]
    },
    {
     "name": "stdout",
     "output_type": "stream",
     "text": [
      "Recommender_Base_Class: URM Detected 627 ( 4.8%) users with no interactions.\n",
      "Recommender_Base_Class: URM Detected 247 ( 1.1%) items with no interactions.\n",
      "EvaluatorHoldout: Processed 10456 (100.0%) in 18.70 sec. Users per second: 559\n"
     ]
    },
    {
     "name": "stderr",
     "output_type": "stream",
     "text": [
      "[I 2023-12-09 03:29:03,085] Trial 669 finished with value: 0.04867663132582858 and parameters: {'coarse_recommender': 'alpha', 'use_3_levels': False, 'cutoff': 109, 'final_recommender_c1:alpha': 'itemKnn'}. Best is trial 635 with value: 0.05134299361800376.\n"
     ]
    },
    {
     "name": "stdout",
     "output_type": "stream",
     "text": [
      "Recommender_Base_Class: URM Detected 627 ( 4.8%) users with no interactions.\n",
      "Recommender_Base_Class: URM Detected 247 ( 1.1%) items with no interactions.\n",
      "EvaluatorHoldout: Processed 10456 (100.0%) in 27.57 sec. Users per second: 379\n"
     ]
    },
    {
     "name": "stderr",
     "output_type": "stream",
     "text": [
      "[I 2023-12-09 03:29:30,890] Trial 670 finished with value: 0.05133968800476127 and parameters: {'coarse_recommender': 'easeR', 'use_3_levels': False, 'cutoff': 175, 'final_recommender_c1:easeR': 'slim'}. Best is trial 635 with value: 0.05134299361800376.\n"
     ]
    },
    {
     "name": "stdout",
     "output_type": "stream",
     "text": [
      "Recommender_Base_Class: URM Detected 627 ( 4.8%) users with no interactions.\n",
      "Recommender_Base_Class: URM Detected 247 ( 1.1%) items with no interactions.\n",
      "EvaluatorHoldout: Processed 10456 (100.0%) in 25.10 sec. Users per second: 417\n"
     ]
    },
    {
     "name": "stderr",
     "output_type": "stream",
     "text": [
      "[I 2023-12-09 03:29:56,249] Trial 671 finished with value: 0.049305126698729045 and parameters: {'coarse_recommender': 'easeR', 'use_3_levels': False, 'cutoff': 179, 'final_recommender_c1:easeR': 'rp3'}. Best is trial 635 with value: 0.05134299361800376.\n"
     ]
    },
    {
     "name": "stdout",
     "output_type": "stream",
     "text": [
      "Recommender_Base_Class: URM Detected 627 ( 4.8%) users with no interactions.\n",
      "Recommender_Base_Class: URM Detected 247 ( 1.1%) items with no interactions.\n",
      "EvaluatorHoldout: Processed 10456 (100.0%) in 28.23 sec. Users per second: 370\n"
     ]
    },
    {
     "name": "stderr",
     "output_type": "stream",
     "text": [
      "[I 2023-12-09 03:30:24,714] Trial 672 finished with value: 0.051321672222830045 and parameters: {'coarse_recommender': 'easeR', 'use_3_levels': False, 'cutoff': 114, 'final_recommender_c1:easeR': 'slim'}. Best is trial 635 with value: 0.05134299361800376.\n"
     ]
    },
    {
     "name": "stdout",
     "output_type": "stream",
     "text": [
      "Recommender_Base_Class: URM Detected 627 ( 4.8%) users with no interactions.\n",
      "Recommender_Base_Class: URM Detected 247 ( 1.1%) items with no interactions.\n",
      "EvaluatorHoldout: Processed 10456 (100.0%) in 27.87 sec. Users per second: 375\n"
     ]
    },
    {
     "name": "stderr",
     "output_type": "stream",
     "text": [
      "[I 2023-12-09 03:30:52,834] Trial 673 finished with value: 0.051337027574356 and parameters: {'coarse_recommender': 'easeR', 'use_3_levels': False, 'cutoff': 250, 'final_recommender_c1:easeR': 'slim'}. Best is trial 635 with value: 0.05134299361800376.\n"
     ]
    },
    {
     "name": "stdout",
     "output_type": "stream",
     "text": [
      "Recommender_Base_Class: URM Detected 627 ( 4.8%) users with no interactions.\n",
      "Recommender_Base_Class: URM Detected 247 ( 1.1%) items with no interactions.\n",
      "EvaluatorHoldout: Processed 10456 (100.0%) in 31.18 sec. Users per second: 335\n"
     ]
    },
    {
     "name": "stderr",
     "output_type": "stream",
     "text": [
      "[I 2023-12-09 03:31:24,262] Trial 674 finished with value: 0.04163985362699075 and parameters: {'coarse_recommender': 'easeR', 'use_3_levels': False, 'cutoff': 2280, 'final_recommender_c1:easeR': 'ials'}. Best is trial 635 with value: 0.05134299361800376.\n"
     ]
    },
    {
     "name": "stdout",
     "output_type": "stream",
     "text": [
      "Recommender_Base_Class: URM Detected 627 ( 4.8%) users with no interactions.\n",
      "Recommender_Base_Class: URM Detected 247 ( 1.1%) items with no interactions.\n",
      "EvaluatorHoldout: Processed 10456 (100.0%) in 27.97 sec. Users per second: 374\n"
     ]
    },
    {
     "name": "stderr",
     "output_type": "stream",
     "text": [
      "[I 2023-12-09 03:31:52,491] Trial 675 finished with value: 0.05134282283431156 and parameters: {'coarse_recommender': 'easeR', 'use_3_levels': False, 'cutoff': 170, 'final_recommender_c1:easeR': 'slim'}. Best is trial 635 with value: 0.05134299361800376.\n"
     ]
    },
    {
     "name": "stdout",
     "output_type": "stream",
     "text": [
      "Recommender_Base_Class: URM Detected 627 ( 4.8%) users with no interactions.\n",
      "Recommender_Base_Class: URM Detected 247 ( 1.1%) items with no interactions.\n",
      "EvaluatorHoldout: Processed 10456 (100.0%) in 27.58 sec. Users per second: 379\n"
     ]
    },
    {
     "name": "stderr",
     "output_type": "stream",
     "text": [
      "[I 2023-12-09 03:32:20,351] Trial 676 finished with value: 0.051320715834153686 and parameters: {'coarse_recommender': 'easeR', 'use_3_levels': False, 'cutoff': 116, 'final_recommender_c1:easeR': 'slim'}. Best is trial 635 with value: 0.05134299361800376.\n"
     ]
    },
    {
     "name": "stdout",
     "output_type": "stream",
     "text": [
      "Recommender_Base_Class: URM Detected 627 ( 4.8%) users with no interactions.\n",
      "Recommender_Base_Class: URM Detected 247 ( 1.1%) items with no interactions.\n",
      "EvaluatorHoldout: Processed 10456 (100.0%) in 25.07 sec. Users per second: 417\n"
     ]
    },
    {
     "name": "stderr",
     "output_type": "stream",
     "text": [
      "[I 2023-12-09 03:32:45,673] Trial 677 finished with value: 0.04820937093914391 and parameters: {'coarse_recommender': 'easeR', 'use_3_levels': False, 'cutoff': 163, 'final_recommender_c1:easeR': 'alpha'}. Best is trial 635 with value: 0.05134299361800376.\n"
     ]
    },
    {
     "name": "stdout",
     "output_type": "stream",
     "text": [
      "Recommender_Base_Class: URM Detected 627 ( 4.8%) users with no interactions.\n",
      "Recommender_Base_Class: URM Detected 247 ( 1.1%) items with no interactions.\n",
      "EvaluatorHoldout: Processed 10456 (100.0%) in 27.77 sec. Users per second: 377\n"
     ]
    },
    {
     "name": "stderr",
     "output_type": "stream",
     "text": [
      "[I 2023-12-09 03:33:13,691] Trial 678 finished with value: 0.05133847733814318 and parameters: {'coarse_recommender': 'easeR', 'use_3_levels': False, 'cutoff': 164, 'final_recommender_c1:easeR': 'slim'}. Best is trial 635 with value: 0.05134299361800376.\n"
     ]
    },
    {
     "name": "stdout",
     "output_type": "stream",
     "text": [
      "Recommender_Base_Class: URM Detected 627 ( 4.8%) users with no interactions.\n",
      "Recommender_Base_Class: URM Detected 247 ( 1.1%) items with no interactions.\n",
      "EvaluatorHoldout: Processed 10456 (100.0%) in 27.94 sec. Users per second: 374\n"
     ]
    },
    {
     "name": "stderr",
     "output_type": "stream",
     "text": [
      "[I 2023-12-09 03:33:41,892] Trial 679 finished with value: 0.05130682163199439 and parameters: {'coarse_recommender': 'easeR', 'use_3_levels': False, 'cutoff': 106, 'final_recommender_c1:easeR': 'slim'}. Best is trial 635 with value: 0.05134299361800376.\n"
     ]
    },
    {
     "name": "stdout",
     "output_type": "stream",
     "text": [
      "Recommender_Base_Class: URM Detected 627 ( 4.8%) users with no interactions.\n",
      "Recommender_Base_Class: URM Detected 247 ( 1.1%) items with no interactions.\n",
      "EvaluatorHoldout: Processed 10456 (100.0%) in 25.29 sec. Users per second: 413\n"
     ]
    },
    {
     "name": "stderr",
     "output_type": "stream",
     "text": [
      "[I 2023-12-09 03:34:07,432] Trial 680 finished with value: 0.048741980756853334 and parameters: {'coarse_recommender': 'easeR', 'use_3_levels': False, 'cutoff': 250, 'final_recommender_c1:easeR': 'itemKnn'}. Best is trial 635 with value: 0.05134299361800376.\n"
     ]
    },
    {
     "name": "stdout",
     "output_type": "stream",
     "text": [
      "Recommender_Base_Class: URM Detected 627 ( 4.8%) users with no interactions.\n",
      "Recommender_Base_Class: URM Detected 247 ( 1.1%) items with no interactions.\n",
      "EvaluatorHoldout: Processed 10456 (100.0%) in 28.15 sec. Users per second: 371\n"
     ]
    },
    {
     "name": "stderr",
     "output_type": "stream",
     "text": [
      "[I 2023-12-09 03:34:35,818] Trial 681 finished with value: 0.05134282283431156 and parameters: {'coarse_recommender': 'easeR', 'use_3_levels': False, 'cutoff': 173, 'final_recommender_c1:easeR': 'slim'}. Best is trial 635 with value: 0.05134299361800376.\n"
     ]
    },
    {
     "name": "stdout",
     "output_type": "stream",
     "text": [
      "Recommender_Base_Class: URM Detected 627 ( 4.8%) users with no interactions.\n",
      "Recommender_Base_Class: URM Detected 247 ( 1.1%) items with no interactions.\n",
      "EvaluatorHoldout: Processed 10456 (100.0%) in 36.95 sec. Users per second: 283\n"
     ]
    },
    {
     "name": "stderr",
     "output_type": "stream",
     "text": [
      "[I 2023-12-09 03:35:13,021] Trial 682 finished with value: 0.05126732505677672 and parameters: {'coarse_recommender': 'easeR', 'use_3_levels': True, 'coarse_2_recommender_c1:easeR': 'rp3', 'final_recommender_c1:easeR_c2:rp3': 'slim', 'cutoff1': 2542, 'cutoff2': 2224}. Best is trial 635 with value: 0.05134299361800376.\n"
     ]
    },
    {
     "name": "stdout",
     "output_type": "stream",
     "text": [
      "Recommender_Base_Class: URM Detected 627 ( 4.8%) users with no interactions.\n",
      "Recommender_Base_Class: URM Detected 247 ( 1.1%) items with no interactions.\n",
      "EvaluatorHoldout: Processed 10456 (100.0%) in 27.82 sec. Users per second: 376\n"
     ]
    },
    {
     "name": "stderr",
     "output_type": "stream",
     "text": [
      "[I 2023-12-09 03:35:41,109] Trial 683 finished with value: 0.03697976251199316 and parameters: {'coarse_recommender': 'easeR', 'use_3_levels': False, 'cutoff': 100, 'final_recommender_c1:easeR': 'userKnn'}. Best is trial 635 with value: 0.05134299361800376.\n"
     ]
    },
    {
     "name": "stdout",
     "output_type": "stream",
     "text": [
      "Recommender_Base_Class: URM Detected 627 ( 4.8%) users with no interactions.\n",
      "Recommender_Base_Class: URM Detected 247 ( 1.1%) items with no interactions.\n",
      "EvaluatorHoldout: Processed 10456 (100.0%) in 26.36 sec. Users per second: 397\n"
     ]
    },
    {
     "name": "stderr",
     "output_type": "stream",
     "text": [
      "[I 2023-12-09 03:36:07,713] Trial 684 finished with value: 0.0500614479724567 and parameters: {'coarse_recommender': 'slim', 'use_3_levels': False, 'cutoff': 166, 'final_recommender_c1:slim': 'merging'}. Best is trial 635 with value: 0.05134299361800376.\n"
     ]
    },
    {
     "name": "stdout",
     "output_type": "stream",
     "text": [
      "Recommender_Base_Class: URM Detected 627 ( 4.8%) users with no interactions.\n",
      "Recommender_Base_Class: URM Detected 247 ( 1.1%) items with no interactions.\n",
      "EvaluatorHoldout: Processed 10456 (100.0%) in 27.78 sec. Users per second: 376\n"
     ]
    },
    {
     "name": "stderr",
     "output_type": "stream",
     "text": [
      "[I 2023-12-09 03:36:35,751] Trial 685 finished with value: 0.05133847733814318 and parameters: {'coarse_recommender': 'easeR', 'use_3_levels': False, 'cutoff': 164, 'final_recommender_c1:easeR': 'slim'}. Best is trial 635 with value: 0.05134299361800376.\n"
     ]
    },
    {
     "name": "stdout",
     "output_type": "stream",
     "text": [
      "Recommender_Base_Class: URM Detected 627 ( 4.8%) users with no interactions.\n",
      "Recommender_Base_Class: URM Detected 247 ( 1.1%) items with no interactions.\n",
      "EvaluatorHoldout: Processed 10456 (100.0%) in 27.57 sec. Users per second: 379\n"
     ]
    },
    {
     "name": "stderr",
     "output_type": "stream",
     "text": [
      "[I 2023-12-09 03:37:03,566] Trial 686 finished with value: 0.05130610434048712 and parameters: {'coarse_recommender': 'easeR', 'use_3_levels': False, 'cutoff': 104, 'final_recommender_c1:easeR': 'slim'}. Best is trial 635 with value: 0.05134299361800376.\n"
     ]
    },
    {
     "name": "stdout",
     "output_type": "stream",
     "text": [
      "Recommender_Base_Class: URM Detected 627 ( 4.8%) users with no interactions.\n",
      "Recommender_Base_Class: URM Detected 247 ( 1.1%) items with no interactions.\n",
      "EvaluatorHoldout: Processed 10456 (100.0%) in 27.71 sec. Users per second: 377\n"
     ]
    },
    {
     "name": "stderr",
     "output_type": "stream",
     "text": [
      "[I 2023-12-09 03:37:31,532] Trial 687 finished with value: 0.051337027574356 and parameters: {'coarse_recommender': 'easeR', 'use_3_levels': False, 'cutoff': 245, 'final_recommender_c1:easeR': 'slim'}. Best is trial 635 with value: 0.05134299361800376.\n"
     ]
    },
    {
     "name": "stdout",
     "output_type": "stream",
     "text": [
      "Recommender_Base_Class: URM Detected 627 ( 4.8%) users with no interactions.\n",
      "Recommender_Base_Class: URM Detected 247 ( 1.1%) items with no interactions.\n",
      "EvaluatorHoldout: Processed 10456 (100.0%) in 27.78 sec. Users per second: 376\n"
     ]
    },
    {
     "name": "stderr",
     "output_type": "stream",
     "text": [
      "[I 2023-12-09 03:37:59,561] Trial 688 finished with value: 0.051334416481461816 and parameters: {'coarse_recommender': 'easeR', 'use_3_levels': False, 'cutoff': 301, 'final_recommender_c1:easeR': 'slim'}. Best is trial 635 with value: 0.05134299361800376.\n"
     ]
    },
    {
     "name": "stdout",
     "output_type": "stream",
     "text": [
      "Recommender_Base_Class: URM Detected 627 ( 4.8%) users with no interactions.\n",
      "Recommender_Base_Class: URM Detected 247 ( 1.1%) items with no interactions.\n",
      "EvaluatorHoldout: Processed 10456 (100.0%) in 37.78 sec. Users per second: 277\n"
     ]
    },
    {
     "name": "stderr",
     "output_type": "stream",
     "text": [
      "[I 2023-12-09 03:38:37,588] Trial 689 finished with value: 0.04806397708917856 and parameters: {'coarse_recommender': 'ials', 'use_3_levels': False, 'cutoff': 170, 'final_recommender_c1:ials': 'itemKnn'}. Best is trial 635 with value: 0.05134299361800376.\n"
     ]
    },
    {
     "name": "stdout",
     "output_type": "stream",
     "text": [
      "Recommender_Base_Class: URM Detected 627 ( 4.8%) users with no interactions.\n",
      "Recommender_Base_Class: URM Detected 247 ( 1.1%) items with no interactions.\n",
      "EvaluatorHoldout: Processed 10456 (100.0%) in 27.99 sec. Users per second: 374\n"
     ]
    },
    {
     "name": "stderr",
     "output_type": "stream",
     "text": [
      "[I 2023-12-09 03:39:05,851] Trial 690 finished with value: 0.05132064372548365 and parameters: {'coarse_recommender': 'easeR', 'use_3_levels': False, 'cutoff': 118, 'final_recommender_c1:easeR': 'slim'}. Best is trial 635 with value: 0.05134299361800376.\n"
     ]
    },
    {
     "name": "stdout",
     "output_type": "stream",
     "text": [
      "Recommender_Base_Class: URM Detected 627 ( 4.8%) users with no interactions.\n",
      "Recommender_Base_Class: URM Detected 247 ( 1.1%) items with no interactions.\n",
      "EvaluatorHoldout: Processed 10456 (100.0%) in 27.90 sec. Users per second: 375\n"
     ]
    },
    {
     "name": "stderr",
     "output_type": "stream",
     "text": [
      "[I 2023-12-09 03:39:33,983] Trial 691 finished with value: 0.051337027574356 and parameters: {'coarse_recommender': 'easeR', 'use_3_levels': False, 'cutoff': 237, 'final_recommender_c1:easeR': 'slim'}. Best is trial 635 with value: 0.05134299361800376.\n"
     ]
    },
    {
     "name": "stdout",
     "output_type": "stream",
     "text": [
      "Recommender_Base_Class: URM Detected 627 ( 4.8%) users with no interactions.\n",
      "Recommender_Base_Class: URM Detected 247 ( 1.1%) items with no interactions.\n",
      "EvaluatorHoldout: Processed 10456 (100.0%) in 25.26 sec. Users per second: 414\n"
     ]
    },
    {
     "name": "stderr",
     "output_type": "stream",
     "text": [
      "[I 2023-12-09 03:39:59,479] Trial 692 finished with value: 0.04673981521963598 and parameters: {'coarse_recommender': 'userKnn', 'use_3_levels': False, 'cutoff': 341, 'final_recommender_c1:userKnn': 'alpha'}. Best is trial 635 with value: 0.05134299361800376.\n"
     ]
    },
    {
     "name": "stdout",
     "output_type": "stream",
     "text": [
      "Recommender_Base_Class: URM Detected 627 ( 4.8%) users with no interactions.\n",
      "Recommender_Base_Class: URM Detected 247 ( 1.1%) items with no interactions.\n",
      "EvaluatorHoldout: Processed 10456 (100.0%) in 29.32 sec. Users per second: 357\n"
     ]
    },
    {
     "name": "stderr",
     "output_type": "stream",
     "text": [
      "[I 2023-12-09 03:40:29,042] Trial 693 finished with value: 0.0513328756330388 and parameters: {'coarse_recommender': 'easeR', 'use_3_levels': False, 'cutoff': 2130, 'final_recommender_c1:easeR': 'slim'}. Best is trial 635 with value: 0.05134299361800376.\n"
     ]
    },
    {
     "name": "stdout",
     "output_type": "stream",
     "text": [
      "Recommender_Base_Class: URM Detected 627 ( 4.8%) users with no interactions.\n",
      "Recommender_Base_Class: URM Detected 247 ( 1.1%) items with no interactions.\n",
      "EvaluatorHoldout: Processed 10456 (100.0%) in 18.77 sec. Users per second: 557\n"
     ]
    },
    {
     "name": "stderr",
     "output_type": "stream",
     "text": [
      "[I 2023-12-09 03:40:48,052] Trial 694 finished with value: 0.047817259172223334 and parameters: {'coarse_recommender': 'rp3', 'use_3_levels': False, 'cutoff': 104, 'final_recommender_c1:rp3': 'alpha'}. Best is trial 635 with value: 0.05134299361800376.\n"
     ]
    },
    {
     "name": "stdout",
     "output_type": "stream",
     "text": [
      "Recommender_Base_Class: URM Detected 627 ( 4.8%) users with no interactions.\n",
      "Recommender_Base_Class: URM Detected 247 ( 1.1%) items with no interactions.\n",
      "EvaluatorHoldout: Processed 10456 (100.0%) in 27.60 sec. Users per second: 379\n"
     ]
    },
    {
     "name": "stderr",
     "output_type": "stream",
     "text": [
      "[I 2023-12-09 03:41:15,915] Trial 695 finished with value: 0.05133914149694621 and parameters: {'coarse_recommender': 'easeR', 'use_3_levels': False, 'cutoff': 180, 'final_recommender_c1:easeR': 'slim'}. Best is trial 635 with value: 0.05134299361800376.\n"
     ]
    },
    {
     "name": "stdout",
     "output_type": "stream",
     "text": [
      "Recommender_Base_Class: URM Detected 627 ( 4.8%) users with no interactions.\n",
      "Recommender_Base_Class: URM Detected 247 ( 1.1%) items with no interactions.\n",
      "EvaluatorHoldout: Processed 10456 (100.0%) in 27.70 sec. Users per second: 377\n"
     ]
    },
    {
     "name": "stderr",
     "output_type": "stream",
     "text": [
      "[I 2023-12-09 03:41:43,929] Trial 696 finished with value: 0.05134282283431156 and parameters: {'coarse_recommender': 'easeR', 'use_3_levels': False, 'cutoff': 173, 'final_recommender_c1:easeR': 'slim'}. Best is trial 635 with value: 0.05134299361800376.\n"
     ]
    },
    {
     "name": "stdout",
     "output_type": "stream",
     "text": [
      "Recommender_Base_Class: URM Detected 627 ( 4.8%) users with no interactions.\n",
      "Recommender_Base_Class: URM Detected 247 ( 1.1%) items with no interactions.\n",
      "EvaluatorHoldout: Processed 10456 (100.0%) in 22.51 sec. Users per second: 465\n"
     ]
    },
    {
     "name": "stderr",
     "output_type": "stream",
     "text": [
      "[I 2023-12-09 03:42:06,693] Trial 697 finished with value: 0.04286150732927755 and parameters: {'coarse_recommender': 'itemKnn', 'use_3_levels': False, 'cutoff': 100, 'final_recommender_c1:itemKnn': 'ials'}. Best is trial 635 with value: 0.05134299361800376.\n"
     ]
    },
    {
     "name": "stdout",
     "output_type": "stream",
     "text": [
      "Recommender_Base_Class: URM Detected 627 ( 4.8%) users with no interactions.\n",
      "Recommender_Base_Class: URM Detected 247 ( 1.1%) items with no interactions.\n",
      "EvaluatorHoldout: Processed 10456 (100.0%) in 27.66 sec. Users per second: 378\n"
     ]
    },
    {
     "name": "stderr",
     "output_type": "stream",
     "text": [
      "[I 2023-12-09 03:42:34,581] Trial 698 finished with value: 0.05133847733814318 and parameters: {'coarse_recommender': 'easeR', 'use_3_levels': False, 'cutoff': 164, 'final_recommender_c1:easeR': 'slim'}. Best is trial 635 with value: 0.05134299361800376.\n"
     ]
    },
    {
     "name": "stdout",
     "output_type": "stream",
     "text": [
      "Recommender_Base_Class: URM Detected 627 ( 4.8%) users with no interactions.\n",
      "Recommender_Base_Class: URM Detected 247 ( 1.1%) items with no interactions.\n",
      "EvaluatorHoldout: Processed 10456 (100.0%) in 27.78 sec. Users per second: 376\n"
     ]
    },
    {
     "name": "stderr",
     "output_type": "stream",
     "text": [
      "[I 2023-12-09 03:43:02,613] Trial 699 finished with value: 0.0513100779077258 and parameters: {'coarse_recommender': 'easeR', 'use_3_levels': False, 'cutoff': 102, 'final_recommender_c1:easeR': 'slim'}. Best is trial 635 with value: 0.05134299361800376.\n"
     ]
    },
    {
     "name": "stdout",
     "output_type": "stream",
     "text": [
      "Recommender_Base_Class: URM Detected 627 ( 4.8%) users with no interactions.\n",
      "Recommender_Base_Class: URM Detected 247 ( 1.1%) items with no interactions.\n",
      "EvaluatorHoldout: Processed 10456 (100.0%) in 27.74 sec. Users per second: 377\n"
     ]
    },
    {
     "name": "stderr",
     "output_type": "stream",
     "text": [
      "[I 2023-12-09 03:43:30,610] Trial 700 finished with value: 0.05133656456079047 and parameters: {'coarse_recommender': 'easeR', 'use_3_levels': False, 'cutoff': 157, 'final_recommender_c1:easeR': 'slim'}. Best is trial 635 with value: 0.05134299361800376.\n"
     ]
    },
    {
     "name": "stdout",
     "output_type": "stream",
     "text": [
      "Recommender_Base_Class: URM Detected 627 ( 4.8%) users with no interactions.\n",
      "Recommender_Base_Class: URM Detected 247 ( 1.1%) items with no interactions.\n",
      "EvaluatorHoldout: Processed 10456 (100.0%) in 27.73 sec. Users per second: 377\n"
     ]
    },
    {
     "name": "stderr",
     "output_type": "stream",
     "text": [
      "[I 2023-12-09 03:43:58,606] Trial 701 finished with value: 0.05133968800476127 and parameters: {'coarse_recommender': 'easeR', 'use_3_levels': False, 'cutoff': 175, 'final_recommender_c1:easeR': 'slim'}. Best is trial 635 with value: 0.05134299361800376.\n"
     ]
    },
    {
     "name": "stdout",
     "output_type": "stream",
     "text": [
      "Recommender_Base_Class: URM Detected 627 ( 4.8%) users with no interactions.\n",
      "Recommender_Base_Class: URM Detected 247 ( 1.1%) items with no interactions.\n",
      "EvaluatorHoldout: Processed 10456 (100.0%) in 32.56 sec. Users per second: 321\n"
     ]
    },
    {
     "name": "stderr",
     "output_type": "stream",
     "text": [
      "[I 2023-12-09 03:44:31,455] Trial 702 finished with value: 0.04252488128635852 and parameters: {'coarse_recommender': 'alpha', 'use_3_levels': True, 'coarse_2_recommender_c1:alpha': 'slim', 'final_recommender_c1:alpha_c2:slim': 'ials', 'cutoff1': 1762, 'cutoff2': 855}. Best is trial 635 with value: 0.05134299361800376.\n"
     ]
    },
    {
     "name": "stdout",
     "output_type": "stream",
     "text": [
      "Recommender_Base_Class: URM Detected 627 ( 4.8%) users with no interactions.\n",
      "Recommender_Base_Class: URM Detected 247 ( 1.1%) items with no interactions.\n",
      "EvaluatorHoldout: Processed 10456 (100.0%) in 27.82 sec. Users per second: 376\n"
     ]
    },
    {
     "name": "stderr",
     "output_type": "stream",
     "text": [
      "[I 2023-12-09 03:44:59,525] Trial 703 finished with value: 0.05131370231719373 and parameters: {'coarse_recommender': 'easeR', 'use_3_levels': False, 'cutoff': 110, 'final_recommender_c1:easeR': 'slim'}. Best is trial 635 with value: 0.05134299361800376.\n"
     ]
    },
    {
     "name": "stdout",
     "output_type": "stream",
     "text": [
      "Recommender_Base_Class: URM Detected 627 ( 4.8%) users with no interactions.\n",
      "Recommender_Base_Class: URM Detected 247 ( 1.1%) items with no interactions.\n",
      "EvaluatorHoldout: Processed 10456 (100.0%) in 28.75 sec. Users per second: 364\n"
     ]
    },
    {
     "name": "stderr",
     "output_type": "stream",
     "text": [
      "[I 2023-12-09 03:45:28,527] Trial 704 finished with value: 0.0513328756330388 and parameters: {'coarse_recommender': 'easeR', 'use_3_levels': False, 'cutoff': 1190, 'final_recommender_c1:easeR': 'slim'}. Best is trial 635 with value: 0.05134299361800376.\n"
     ]
    },
    {
     "name": "stdout",
     "output_type": "stream",
     "text": [
      "Recommender_Base_Class: URM Detected 627 ( 4.8%) users with no interactions.\n",
      "Recommender_Base_Class: URM Detected 247 ( 1.1%) items with no interactions.\n",
      "EvaluatorHoldout: Processed 10456 (100.0%) in 28.72 sec. Users per second: 364\n"
     ]
    },
    {
     "name": "stderr",
     "output_type": "stream",
     "text": [
      "[I 2023-12-09 03:45:57,521] Trial 705 finished with value: 0.0513328756330388 and parameters: {'coarse_recommender': 'easeR', 'use_3_levels': False, 'cutoff': 1760, 'final_recommender_c1:easeR': 'slim'}. Best is trial 635 with value: 0.05134299361800376.\n"
     ]
    },
    {
     "name": "stdout",
     "output_type": "stream",
     "text": [
      "Recommender_Base_Class: URM Detected 627 ( 4.8%) users with no interactions.\n",
      "Recommender_Base_Class: URM Detected 247 ( 1.1%) items with no interactions.\n",
      "EvaluatorHoldout: Processed 10456 (100.0%) in 27.63 sec. Users per second: 378\n"
     ]
    },
    {
     "name": "stderr",
     "output_type": "stream",
     "text": [
      "[I 2023-12-09 03:46:25,426] Trial 706 finished with value: 0.05134282283431156 and parameters: {'coarse_recommender': 'easeR', 'use_3_levels': False, 'cutoff': 173, 'final_recommender_c1:easeR': 'slim'}. Best is trial 635 with value: 0.05134299361800376.\n"
     ]
    },
    {
     "name": "stdout",
     "output_type": "stream",
     "text": [
      "Recommender_Base_Class: URM Detected 627 ( 4.8%) users with no interactions.\n",
      "Recommender_Base_Class: URM Detected 247 ( 1.1%) items with no interactions.\n",
      "EvaluatorHoldout: Processed 10456 (100.0%) in 27.70 sec. Users per second: 377\n"
     ]
    },
    {
     "name": "stderr",
     "output_type": "stream",
     "text": [
      "[I 2023-12-09 03:46:53,381] Trial 707 finished with value: 0.05131079899442623 and parameters: {'coarse_recommender': 'easeR', 'use_3_levels': False, 'cutoff': 101, 'final_recommender_c1:easeR': 'slim'}. Best is trial 635 with value: 0.05134299361800376.\n"
     ]
    },
    {
     "name": "stdout",
     "output_type": "stream",
     "text": [
      "Recommender_Base_Class: URM Detected 627 ( 4.8%) users with no interactions.\n",
      "Recommender_Base_Class: URM Detected 247 ( 1.1%) items with no interactions.\n",
      "EvaluatorHoldout: Processed 10456 (100.0%) in 25.13 sec. Users per second: 416\n"
     ]
    },
    {
     "name": "stderr",
     "output_type": "stream",
     "text": [
      "[I 2023-12-09 03:47:18,787] Trial 708 finished with value: 0.04931552552798786 and parameters: {'coarse_recommender': 'easeR', 'use_3_levels': False, 'cutoff': 247, 'final_recommender_c1:easeR': 'rp3'}. Best is trial 635 with value: 0.05134299361800376.\n"
     ]
    },
    {
     "name": "stdout",
     "output_type": "stream",
     "text": [
      "Recommender_Base_Class: URM Detected 627 ( 4.8%) users with no interactions.\n",
      "Recommender_Base_Class: URM Detected 247 ( 1.1%) items with no interactions.\n",
      "EvaluatorHoldout: Processed 10456 (100.0%) in 27.48 sec. Users per second: 380\n"
     ]
    },
    {
     "name": "stderr",
     "output_type": "stream",
     "text": [
      "[I 2023-12-09 03:47:46,546] Trial 709 finished with value: 0.05134282283431156 and parameters: {'coarse_recommender': 'easeR', 'use_3_levels': False, 'cutoff': 173, 'final_recommender_c1:easeR': 'slim'}. Best is trial 635 with value: 0.05134299361800376.\n"
     ]
    },
    {
     "name": "stdout",
     "output_type": "stream",
     "text": [
      "Recommender_Base_Class: URM Detected 627 ( 4.8%) users with no interactions.\n",
      "Recommender_Base_Class: URM Detected 247 ( 1.1%) items with no interactions.\n",
      "EvaluatorHoldout: Processed 10456 (100.0%) in 25.08 sec. Users per second: 417\n"
     ]
    },
    {
     "name": "stderr",
     "output_type": "stream",
     "text": [
      "[I 2023-12-09 03:48:11,891] Trial 710 finished with value: 0.05001581077470593 and parameters: {'coarse_recommender': 'easeR', 'use_3_levels': False, 'cutoff': 159, 'final_recommender_c1:easeR': 'merging'}. Best is trial 635 with value: 0.05134299361800376.\n"
     ]
    },
    {
     "name": "stdout",
     "output_type": "stream",
     "text": [
      "Recommender_Base_Class: URM Detected 627 ( 4.8%) users with no interactions.\n",
      "Recommender_Base_Class: URM Detected 247 ( 1.1%) items with no interactions.\n",
      "EvaluatorHoldout: Processed 10456 (100.0%) in 27.70 sec. Users per second: 378\n"
     ]
    },
    {
     "name": "stderr",
     "output_type": "stream",
     "text": [
      "[I 2023-12-09 03:48:39,862] Trial 711 finished with value: 0.05133847733814318 and parameters: {'coarse_recommender': 'easeR', 'use_3_levels': False, 'cutoff': 160, 'final_recommender_c1:easeR': 'slim'}. Best is trial 635 with value: 0.05134299361800376.\n"
     ]
    },
    {
     "name": "stdout",
     "output_type": "stream",
     "text": [
      "Recommender_Base_Class: URM Detected 627 ( 4.8%) users with no interactions.\n",
      "Recommender_Base_Class: URM Detected 247 ( 1.1%) items with no interactions.\n",
      "EvaluatorHoldout: Processed 10456 (100.0%) in 27.60 sec. Users per second: 379\n"
     ]
    },
    {
     "name": "stderr",
     "output_type": "stream",
     "text": [
      "[I 2023-12-09 03:49:07,718] Trial 712 finished with value: 0.05129952727074059 and parameters: {'coarse_recommender': 'easeR', 'use_3_levels': False, 'cutoff': 95, 'final_recommender_c1:easeR': 'slim'}. Best is trial 635 with value: 0.05134299361800376.\n"
     ]
    },
    {
     "name": "stdout",
     "output_type": "stream",
     "text": [
      "Recommender_Base_Class: URM Detected 627 ( 4.8%) users with no interactions.\n",
      "Recommender_Base_Class: URM Detected 247 ( 1.1%) items with no interactions.\n",
      "EvaluatorHoldout: Processed 10456 (100.0%) in 28.95 sec. Users per second: 361\n"
     ]
    },
    {
     "name": "stderr",
     "output_type": "stream",
     "text": [
      "[I 2023-12-09 03:49:36,920] Trial 713 finished with value: 0.04176352379130739 and parameters: {'coarse_recommender': 'easeR', 'use_3_levels': False, 'cutoff': 263, 'final_recommender_c1:easeR': 'ials'}. Best is trial 635 with value: 0.05134299361800376.\n"
     ]
    },
    {
     "name": "stdout",
     "output_type": "stream",
     "text": [
      "Recommender_Base_Class: URM Detected 627 ( 4.8%) users with no interactions.\n",
      "Recommender_Base_Class: URM Detected 247 ( 1.1%) items with no interactions.\n",
      "EvaluatorHoldout: Processed 10456 (100.0%) in 27.81 sec. Users per second: 376\n"
     ]
    },
    {
     "name": "stderr",
     "output_type": "stream",
     "text": [
      "[I 2023-12-09 03:50:04,961] Trial 714 finished with value: 0.05133821167462198 and parameters: {'coarse_recommender': 'easeR', 'use_3_levels': False, 'cutoff': 167, 'final_recommender_c1:easeR': 'slim'}. Best is trial 635 with value: 0.05134299361800376.\n"
     ]
    },
    {
     "name": "stdout",
     "output_type": "stream",
     "text": [
      "Recommender_Base_Class: URM Detected 627 ( 4.8%) users with no interactions.\n",
      "Recommender_Base_Class: URM Detected 247 ( 1.1%) items with no interactions.\n",
      "EvaluatorHoldout: Processed 10456 (100.0%) in 30.93 sec. Users per second: 338\n"
     ]
    },
    {
     "name": "stderr",
     "output_type": "stream",
     "text": [
      "[I 2023-12-09 03:50:36,123] Trial 715 finished with value: 0.04473522834918266 and parameters: {'coarse_recommender': 'slim', 'use_3_levels': False, 'cutoff': 95, 'final_recommender_c1:slim': 'easeR'}. Best is trial 635 with value: 0.05134299361800376.\n"
     ]
    },
    {
     "name": "stdout",
     "output_type": "stream",
     "text": [
      "Recommender_Base_Class: URM Detected 627 ( 4.8%) users with no interactions.\n",
      "Recommender_Base_Class: URM Detected 247 ( 1.1%) items with no interactions.\n",
      "EvaluatorHoldout: Processed 10456 (100.0%) in 27.94 sec. Users per second: 374\n"
     ]
    },
    {
     "name": "stderr",
     "output_type": "stream",
     "text": [
      "[I 2023-12-09 03:51:04,301] Trial 716 finished with value: 0.051334416481461816 and parameters: {'coarse_recommender': 'easeR', 'use_3_levels': False, 'cutoff': 299, 'final_recommender_c1:easeR': 'slim'}. Best is trial 635 with value: 0.05134299361800376.\n"
     ]
    },
    {
     "name": "stdout",
     "output_type": "stream",
     "text": [
      "Recommender_Base_Class: URM Detected 627 ( 4.8%) users with no interactions.\n",
      "Recommender_Base_Class: URM Detected 247 ( 1.1%) items with no interactions.\n",
      "EvaluatorHoldout: Processed 10456 (100.0%) in 25.02 sec. Users per second: 418\n"
     ]
    },
    {
     "name": "stderr",
     "output_type": "stream",
     "text": [
      "[I 2023-12-09 03:51:29,554] Trial 717 finished with value: 0.048194937819555854 and parameters: {'coarse_recommender': 'easeR', 'use_3_levels': False, 'cutoff': 228, 'final_recommender_c1:easeR': 'alpha'}. Best is trial 635 with value: 0.05134299361800376.\n"
     ]
    },
    {
     "name": "stdout",
     "output_type": "stream",
     "text": [
      "Recommender_Base_Class: URM Detected 627 ( 4.8%) users with no interactions.\n",
      "Recommender_Base_Class: URM Detected 247 ( 1.1%) items with no interactions.\n",
      "EvaluatorHoldout: Processed 10456 (100.0%) in 27.67 sec. Users per second: 378\n"
     ]
    },
    {
     "name": "stderr",
     "output_type": "stream",
     "text": [
      "[I 2023-12-09 03:51:57,467] Trial 718 finished with value: 0.05133968800476127 and parameters: {'coarse_recommender': 'easeR', 'use_3_levels': False, 'cutoff': 175, 'final_recommender_c1:easeR': 'slim'}. Best is trial 635 with value: 0.05134299361800376.\n"
     ]
    },
    {
     "name": "stdout",
     "output_type": "stream",
     "text": [
      "Recommender_Base_Class: URM Detected 627 ( 4.8%) users with no interactions.\n",
      "Recommender_Base_Class: URM Detected 247 ( 1.1%) items with no interactions.\n",
      "EvaluatorHoldout: Processed 10456 (100.0%) in 40.39 sec. Users per second: 259\n"
     ]
    },
    {
     "name": "stderr",
     "output_type": "stream",
     "text": [
      "[I 2023-12-09 03:52:38,094] Trial 719 finished with value: 0.03622227231877224 and parameters: {'coarse_recommender': 'ials', 'use_3_levels': False, 'cutoff': 99, 'final_recommender_c1:ials': 'userKnn'}. Best is trial 635 with value: 0.05134299361800376.\n"
     ]
    },
    {
     "name": "stdout",
     "output_type": "stream",
     "text": [
      "Recommender_Base_Class: URM Detected 627 ( 4.8%) users with no interactions.\n",
      "Recommender_Base_Class: URM Detected 247 ( 1.1%) items with no interactions.\n",
      "EvaluatorHoldout: Processed 10456 (100.0%) in 27.59 sec. Users per second: 379\n"
     ]
    },
    {
     "name": "stderr",
     "output_type": "stream",
     "text": [
      "[I 2023-12-09 03:53:05,954] Trial 720 finished with value: 0.05133847733814318 and parameters: {'coarse_recommender': 'easeR', 'use_3_levels': False, 'cutoff': 158, 'final_recommender_c1:easeR': 'slim'}. Best is trial 635 with value: 0.05134299361800376.\n"
     ]
    },
    {
     "name": "stdout",
     "output_type": "stream",
     "text": [
      "Recommender_Base_Class: URM Detected 627 ( 4.8%) users with no interactions.\n",
      "Recommender_Base_Class: URM Detected 247 ( 1.1%) items with no interactions.\n",
      "EvaluatorHoldout: Processed 10456 (100.0%) in 37.49 sec. Users per second: 279\n"
     ]
    },
    {
     "name": "stderr",
     "output_type": "stream",
     "text": [
      "[I 2023-12-09 03:53:43,697] Trial 721 finished with value: 0.042392611214340896 and parameters: {'coarse_recommender': 'easeR', 'use_3_levels': True, 'coarse_2_recommender_c1:easeR': 'itemKnn', 'final_recommender_c1:easeR_c2:itemKnn': 'ials', 'cutoff1': 2314, 'cutoff2': 1231}. Best is trial 635 with value: 0.05134299361800376.\n"
     ]
    },
    {
     "name": "stdout",
     "output_type": "stream",
     "text": [
      "Recommender_Base_Class: URM Detected 627 ( 4.8%) users with no interactions.\n",
      "Recommender_Base_Class: URM Detected 247 ( 1.1%) items with no interactions.\n",
      "EvaluatorHoldout: Processed 10456 (100.0%) in 27.71 sec. Users per second: 377\n"
     ]
    },
    {
     "name": "stderr",
     "output_type": "stream",
     "text": [
      "[I 2023-12-09 03:54:11,668] Trial 722 finished with value: 0.05132877302923267 and parameters: {'coarse_recommender': 'easeR', 'use_3_levels': False, 'cutoff': 146, 'final_recommender_c1:easeR': 'slim'}. Best is trial 635 with value: 0.05134299361800376.\n"
     ]
    },
    {
     "name": "stdout",
     "output_type": "stream",
     "text": [
      "Recommender_Base_Class: URM Detected 627 ( 4.8%) users with no interactions.\n",
      "Recommender_Base_Class: URM Detected 247 ( 1.1%) items with no interactions.\n",
      "EvaluatorHoldout: Processed 10456 (100.0%) in 25.43 sec. Users per second: 411\n"
     ]
    },
    {
     "name": "stderr",
     "output_type": "stream",
     "text": [
      "[I 2023-12-09 03:54:37,373] Trial 723 finished with value: 0.04706208404683032 and parameters: {'coarse_recommender': 'userKnn', 'use_3_levels': False, 'cutoff': 96, 'final_recommender_c1:userKnn': 'merging'}. Best is trial 635 with value: 0.05134299361800376.\n"
     ]
    },
    {
     "name": "stdout",
     "output_type": "stream",
     "text": [
      "Recommender_Base_Class: URM Detected 627 ( 4.8%) users with no interactions.\n",
      "Recommender_Base_Class: URM Detected 247 ( 1.1%) items with no interactions.\n",
      "EvaluatorHoldout: Processed 10456 (100.0%) in 21.58 sec. Users per second: 484\n"
     ]
    },
    {
     "name": "stderr",
     "output_type": "stream",
     "text": [
      "[I 2023-12-09 03:54:59,218] Trial 724 finished with value: 0.05115765156483469 and parameters: {'coarse_recommender': 'rp3', 'use_3_levels': False, 'cutoff': 247, 'final_recommender_c1:rp3': 'slim'}. Best is trial 635 with value: 0.05134299361800376.\n"
     ]
    },
    {
     "name": "stdout",
     "output_type": "stream",
     "text": [
      "Recommender_Base_Class: URM Detected 627 ( 4.8%) users with no interactions.\n",
      "Recommender_Base_Class: URM Detected 247 ( 1.1%) items with no interactions.\n",
      "EvaluatorHoldout: Processed 10456 (100.0%) in 28.21 sec. Users per second: 371\n"
     ]
    },
    {
     "name": "stderr",
     "output_type": "stream",
     "text": [
      "[I 2023-12-09 03:55:27,685] Trial 725 finished with value: 0.036517936841913824 and parameters: {'coarse_recommender': 'easeR', 'use_3_levels': False, 'cutoff': 181, 'final_recommender_c1:easeR': 'userKnn'}. Best is trial 635 with value: 0.05134299361800376.\n"
     ]
    },
    {
     "name": "stdout",
     "output_type": "stream",
     "text": [
      "Recommender_Base_Class: URM Detected 627 ( 4.8%) users with no interactions.\n",
      "Recommender_Base_Class: URM Detected 247 ( 1.1%) items with no interactions.\n",
      "EvaluatorHoldout: Processed 10456 (100.0%) in 18.63 sec. Users per second: 561\n"
     ]
    },
    {
     "name": "stderr",
     "output_type": "stream",
     "text": [
      "[I 2023-12-09 03:55:46,559] Trial 726 finished with value: 0.048118525400469334 and parameters: {'coarse_recommender': 'itemKnn', 'use_3_levels': False, 'cutoff': 1546, 'final_recommender_c1:itemKnn': 'alpha'}. Best is trial 635 with value: 0.05134299361800376.\n"
     ]
    },
    {
     "name": "stdout",
     "output_type": "stream",
     "text": [
      "Recommender_Base_Class: URM Detected 627 ( 4.8%) users with no interactions.\n",
      "Recommender_Base_Class: URM Detected 247 ( 1.1%) items with no interactions.\n",
      "EvaluatorHoldout: Processed 10456 (100.0%) in 27.86 sec. Users per second: 375\n"
     ]
    },
    {
     "name": "stderr",
     "output_type": "stream",
     "text": [
      "[I 2023-12-09 03:56:14,692] Trial 727 finished with value: 0.05133550190670563 and parameters: {'coarse_recommender': 'easeR', 'use_3_levels': False, 'cutoff': 268, 'final_recommender_c1:easeR': 'slim'}. Best is trial 635 with value: 0.05134299361800376.\n"
     ]
    },
    {
     "name": "stdout",
     "output_type": "stream",
     "text": [
      "Recommender_Base_Class: URM Detected 627 ( 4.8%) users with no interactions.\n",
      "Recommender_Base_Class: URM Detected 247 ( 1.1%) items with no interactions.\n",
      "EvaluatorHoldout: Processed 10456 (100.0%) in 27.68 sec. Users per second: 378\n"
     ]
    },
    {
     "name": "stderr",
     "output_type": "stream",
     "text": [
      "[I 2023-12-09 03:56:42,646] Trial 728 finished with value: 0.0513074402484795 and parameters: {'coarse_recommender': 'easeR', 'use_3_levels': False, 'cutoff': 99, 'final_recommender_c1:easeR': 'slim'}. Best is trial 635 with value: 0.05134299361800376.\n"
     ]
    },
    {
     "name": "stdout",
     "output_type": "stream",
     "text": [
      "Recommender_Base_Class: URM Detected 627 ( 4.8%) users with no interactions.\n",
      "Recommender_Base_Class: URM Detected 247 ( 1.1%) items with no interactions.\n",
      "EvaluatorHoldout: Processed 10456 (100.0%) in 24.87 sec. Users per second: 420\n"
     ]
    },
    {
     "name": "stderr",
     "output_type": "stream",
     "text": [
      "[I 2023-12-09 03:57:07,780] Trial 729 finished with value: 0.048734534587873114 and parameters: {'coarse_recommender': 'easeR', 'use_3_levels': False, 'cutoff': 170, 'final_recommender_c1:easeR': 'itemKnn'}. Best is trial 635 with value: 0.05134299361800376.\n"
     ]
    },
    {
     "name": "stdout",
     "output_type": "stream",
     "text": [
      "Recommender_Base_Class: URM Detected 627 ( 4.8%) users with no interactions.\n",
      "Recommender_Base_Class: URM Detected 247 ( 1.1%) items with no interactions.\n",
      "EvaluatorHoldout: Processed 10456 (100.0%) in 28.28 sec. Users per second: 370\n"
     ]
    },
    {
     "name": "stderr",
     "output_type": "stream",
     "text": [
      "[I 2023-12-09 03:57:36,318] Trial 730 finished with value: 0.0513328756330388 and parameters: {'coarse_recommender': 'easeR', 'use_3_levels': False, 'cutoff': 698, 'final_recommender_c1:easeR': 'slim'}. Best is trial 635 with value: 0.05134299361800376.\n"
     ]
    },
    {
     "name": "stdout",
     "output_type": "stream",
     "text": [
      "Recommender_Base_Class: URM Detected 627 ( 4.8%) users with no interactions.\n",
      "Recommender_Base_Class: URM Detected 247 ( 1.1%) items with no interactions.\n",
      "EvaluatorHoldout: Processed 10456 (100.0%) in 27.82 sec. Users per second: 376\n"
     ]
    },
    {
     "name": "stderr",
     "output_type": "stream",
     "text": [
      "[I 2023-12-09 03:58:04,374] Trial 731 finished with value: 0.051334416481461816 and parameters: {'coarse_recommender': 'easeR', 'use_3_levels': False, 'cutoff': 296, 'final_recommender_c1:easeR': 'slim'}. Best is trial 635 with value: 0.05134299361800376.\n"
     ]
    },
    {
     "name": "stdout",
     "output_type": "stream",
     "text": [
      "Recommender_Base_Class: URM Detected 627 ( 4.8%) users with no interactions.\n",
      "Recommender_Base_Class: URM Detected 247 ( 1.1%) items with no interactions.\n",
      "EvaluatorHoldout: Processed 10456 (100.0%) in 27.41 sec. Users per second: 381\n"
     ]
    },
    {
     "name": "stderr",
     "output_type": "stream",
     "text": [
      "[I 2023-12-09 03:58:32,033] Trial 732 finished with value: 0.0513390086651856 and parameters: {'coarse_recommender': 'easeR', 'use_3_levels': False, 'cutoff': 208, 'final_recommender_c1:easeR': 'slim'}. Best is trial 635 with value: 0.05134299361800376.\n"
     ]
    },
    {
     "name": "stdout",
     "output_type": "stream",
     "text": [
      "Recommender_Base_Class: URM Detected 627 ( 4.8%) users with no interactions.\n",
      "Recommender_Base_Class: URM Detected 247 ( 1.1%) items with no interactions.\n",
      "EvaluatorHoldout: Processed 10456 (100.0%) in 21.25 sec. Users per second: 492\n"
     ]
    },
    {
     "name": "stderr",
     "output_type": "stream",
     "text": [
      "[I 2023-12-09 03:58:53,537] Trial 733 finished with value: 0.03939689067414822 and parameters: {'coarse_recommender': 'alpha', 'use_3_levels': False, 'cutoff': 99, 'final_recommender_c1:alpha': 'userKnn'}. Best is trial 635 with value: 0.05134299361800376.\n"
     ]
    },
    {
     "name": "stdout",
     "output_type": "stream",
     "text": [
      "Recommender_Base_Class: URM Detected 627 ( 4.8%) users with no interactions.\n",
      "Recommender_Base_Class: URM Detected 247 ( 1.1%) items with no interactions.\n",
      "EvaluatorHoldout: Processed 10456 (100.0%) in 27.73 sec. Users per second: 377\n"
     ]
    },
    {
     "name": "stderr",
     "output_type": "stream",
     "text": [
      "[I 2023-12-09 03:59:21,523] Trial 734 finished with value: 0.051329729417909045 and parameters: {'coarse_recommender': 'easeR', 'use_3_levels': False, 'cutoff': 149, 'final_recommender_c1:easeR': 'slim'}. Best is trial 635 with value: 0.05134299361800376.\n"
     ]
    },
    {
     "name": "stdout",
     "output_type": "stream",
     "text": [
      "Recommender_Base_Class: URM Detected 627 ( 4.8%) users with no interactions.\n",
      "Recommender_Base_Class: URM Detected 247 ( 1.1%) items with no interactions.\n",
      "EvaluatorHoldout: Processed 10456 (100.0%) in 27.90 sec. Users per second: 375\n"
     ]
    },
    {
     "name": "stderr",
     "output_type": "stream",
     "text": [
      "[I 2023-12-09 03:59:49,679] Trial 735 finished with value: 0.0513390086651856 and parameters: {'coarse_recommender': 'easeR', 'use_3_levels': False, 'cutoff': 213, 'final_recommender_c1:easeR': 'slim'}. Best is trial 635 with value: 0.05134299361800376.\n"
     ]
    },
    {
     "name": "stdout",
     "output_type": "stream",
     "text": [
      "Recommender_Base_Class: URM Detected 627 ( 4.8%) users with no interactions.\n",
      "Recommender_Base_Class: URM Detected 247 ( 1.1%) items with no interactions.\n",
      "EvaluatorHoldout: Processed 10456 (100.0%) in 28.04 sec. Users per second: 373\n"
     ]
    },
    {
     "name": "stderr",
     "output_type": "stream",
     "text": [
      "[I 2023-12-09 04:00:17,983] Trial 736 finished with value: 0.05133346009278546 and parameters: {'coarse_recommender': 'easeR', 'use_3_levels': False, 'cutoff': 335, 'final_recommender_c1:easeR': 'slim'}. Best is trial 635 with value: 0.05134299361800376.\n"
     ]
    },
    {
     "name": "stdout",
     "output_type": "stream",
     "text": [
      "Recommender_Base_Class: URM Detected 627 ( 4.8%) users with no interactions.\n",
      "Recommender_Base_Class: URM Detected 247 ( 1.1%) items with no interactions.\n",
      "EvaluatorHoldout: Processed 10456 (100.0%) in 27.52 sec. Users per second: 380\n"
     ]
    },
    {
     "name": "stderr",
     "output_type": "stream",
     "text": [
      "[I 2023-12-09 04:00:45,768] Trial 737 finished with value: 0.05133287183784564 and parameters: {'coarse_recommender': 'easeR', 'use_3_levels': False, 'cutoff': 151, 'final_recommender_c1:easeR': 'slim'}. Best is trial 635 with value: 0.05134299361800376.\n"
     ]
    },
    {
     "name": "stdout",
     "output_type": "stream",
     "text": [
      "Recommender_Base_Class: URM Detected 627 ( 4.8%) users with no interactions.\n",
      "Recommender_Base_Class: URM Detected 247 ( 1.1%) items with no interactions.\n",
      "EvaluatorHoldout: Processed 10456 (100.0%) in 27.62 sec. Users per second: 379\n"
     ]
    },
    {
     "name": "stderr",
     "output_type": "stream",
     "text": [
      "[I 2023-12-09 04:01:13,648] Trial 738 finished with value: 0.051337027574356 and parameters: {'coarse_recommender': 'easeR', 'use_3_levels': False, 'cutoff': 245, 'final_recommender_c1:easeR': 'slim'}. Best is trial 635 with value: 0.05134299361800376.\n"
     ]
    },
    {
     "name": "stdout",
     "output_type": "stream",
     "text": [
      "Recommender_Base_Class: URM Detected 627 ( 4.8%) users with no interactions.\n",
      "Recommender_Base_Class: URM Detected 247 ( 1.1%) items with no interactions.\n",
      "EvaluatorHoldout: Processed 10456 (100.0%) in 27.49 sec. Users per second: 380\n"
     ]
    },
    {
     "name": "stderr",
     "output_type": "stream",
     "text": [
      "[I 2023-12-09 04:01:41,401] Trial 739 finished with value: 0.05130837766119004 and parameters: {'coarse_recommender': 'easeR', 'use_3_levels': False, 'cutoff': 103, 'final_recommender_c1:easeR': 'slim'}. Best is trial 635 with value: 0.05134299361800376.\n"
     ]
    },
    {
     "name": "stdout",
     "output_type": "stream",
     "text": [
      "Recommender_Base_Class: URM Detected 627 ( 4.8%) users with no interactions.\n",
      "Recommender_Base_Class: URM Detected 247 ( 1.1%) items with no interactions.\n",
      "EvaluatorHoldout: Processed 10456 (100.0%) in 33.57 sec. Users per second: 311\n"
     ]
    },
    {
     "name": "stderr",
     "output_type": "stream",
     "text": [
      "[I 2023-12-09 04:02:15,266] Trial 740 finished with value: 0.04921121084878797 and parameters: {'coarse_recommender': 'easeR', 'use_3_levels': True, 'coarse_2_recommender_c1:easeR': 'merging', 'final_recommender_c1:easeR_c2:merging': 'rp3', 'cutoff1': 2655, 'cutoff2': 2469}. Best is trial 635 with value: 0.05134299361800376.\n"
     ]
    },
    {
     "name": "stdout",
     "output_type": "stream",
     "text": [
      "Recommender_Base_Class: URM Detected 627 ( 4.8%) users with no interactions.\n",
      "Recommender_Base_Class: URM Detected 247 ( 1.1%) items with no interactions.\n",
      "EvaluatorHoldout: Processed 10456 (100.0%) in 27.77 sec. Users per second: 377\n"
     ]
    },
    {
     "name": "stderr",
     "output_type": "stream",
     "text": [
      "[I 2023-12-09 04:02:43,321] Trial 741 finished with value: 0.0513390086651856 and parameters: {'coarse_recommender': 'easeR', 'use_3_levels': False, 'cutoff': 210, 'final_recommender_c1:easeR': 'slim'}. Best is trial 635 with value: 0.05134299361800376.\n"
     ]
    },
    {
     "name": "stdout",
     "output_type": "stream",
     "text": [
      "Recommender_Base_Class: URM Detected 627 ( 4.8%) users with no interactions.\n",
      "Recommender_Base_Class: URM Detected 247 ( 1.1%) items with no interactions.\n",
      "EvaluatorHoldout: Processed 10456 (100.0%) in 27.77 sec. Users per second: 377\n"
     ]
    },
    {
     "name": "stderr",
     "output_type": "stream",
     "text": [
      "[I 2023-12-09 04:03:11,349] Trial 742 finished with value: 0.05133175984624971 and parameters: {'coarse_recommender': 'easeR', 'use_3_levels': False, 'cutoff': 280, 'final_recommender_c1:easeR': 'slim'}. Best is trial 635 with value: 0.05134299361800376.\n"
     ]
    },
    {
     "name": "stdout",
     "output_type": "stream",
     "text": [
      "Recommender_Base_Class: URM Detected 627 ( 4.8%) users with no interactions.\n",
      "Recommender_Base_Class: URM Detected 247 ( 1.1%) items with no interactions.\n",
      "EvaluatorHoldout: Processed 10456 (100.0%) in 25.91 sec. Users per second: 404\n"
     ]
    },
    {
     "name": "stderr",
     "output_type": "stream",
     "text": [
      "[I 2023-12-09 04:03:37,510] Trial 743 finished with value: 0.04780887559053259 and parameters: {'coarse_recommender': 'slim', 'use_3_levels': False, 'cutoff': 154, 'final_recommender_c1:slim': 'alpha'}. Best is trial 635 with value: 0.05134299361800376.\n"
     ]
    },
    {
     "name": "stdout",
     "output_type": "stream",
     "text": [
      "Recommender_Base_Class: URM Detected 627 ( 4.8%) users with no interactions.\n",
      "Recommender_Base_Class: URM Detected 247 ( 1.1%) items with no interactions.\n",
      "EvaluatorHoldout: Processed 10456 (100.0%) in 27.55 sec. Users per second: 379\n"
     ]
    },
    {
     "name": "stderr",
     "output_type": "stream",
     "text": [
      "[I 2023-12-09 04:04:05,332] Trial 744 finished with value: 0.05129001651668128 and parameters: {'coarse_recommender': 'easeR', 'use_3_levels': False, 'cutoff': 91, 'final_recommender_c1:easeR': 'slim'}. Best is trial 635 with value: 0.05134299361800376.\n"
     ]
    },
    {
     "name": "stdout",
     "output_type": "stream",
     "text": [
      "Recommender_Base_Class: URM Detected 627 ( 4.8%) users with no interactions.\n",
      "Recommender_Base_Class: URM Detected 247 ( 1.1%) items with no interactions.\n",
      "EvaluatorHoldout: Processed 10456 (100.0%) in 27.79 sec. Users per second: 376\n"
     ]
    },
    {
     "name": "stderr",
     "output_type": "stream",
     "text": [
      "[I 2023-12-09 04:04:33,363] Trial 745 finished with value: 0.05133914149694621 and parameters: {'coarse_recommender': 'easeR', 'use_3_levels': False, 'cutoff': 180, 'final_recommender_c1:easeR': 'slim'}. Best is trial 635 with value: 0.05134299361800376.\n"
     ]
    },
    {
     "name": "stdout",
     "output_type": "stream",
     "text": [
      "Recommender_Base_Class: URM Detected 627 ( 4.8%) users with no interactions.\n",
      "Recommender_Base_Class: URM Detected 247 ( 1.1%) items with no interactions.\n",
      "EvaluatorHoldout: Processed 10456 (100.0%) in 28.15 sec. Users per second: 371\n"
     ]
    },
    {
     "name": "stderr",
     "output_type": "stream",
     "text": [
      "[I 2023-12-09 04:05:01,761] Trial 746 finished with value: 0.0513328756330388 and parameters: {'coarse_recommender': 'easeR', 'use_3_levels': False, 'cutoff': 919, 'final_recommender_c1:easeR': 'slim'}. Best is trial 635 with value: 0.05134299361800376.\n"
     ]
    },
    {
     "name": "stdout",
     "output_type": "stream",
     "text": [
      "Recommender_Base_Class: URM Detected 627 ( 4.8%) users with no interactions.\n",
      "Recommender_Base_Class: URM Detected 247 ( 1.1%) items with no interactions.\n",
      "EvaluatorHoldout: Processed 10456 (100.0%) in 26.10 sec. Users per second: 401\n"
     ]
    },
    {
     "name": "stderr",
     "output_type": "stream",
     "text": [
      "[I 2023-12-09 04:05:28,149] Trial 747 finished with value: 0.049213320976185006 and parameters: {'coarse_recommender': 'easeR', 'use_3_levels': False, 'cutoff': 2981, 'final_recommender_c1:easeR': 'rp3'}. Best is trial 635 with value: 0.05134299361800376.\n"
     ]
    },
    {
     "name": "stdout",
     "output_type": "stream",
     "text": [
      "Recommender_Base_Class: URM Detected 627 ( 4.8%) users with no interactions.\n",
      "Recommender_Base_Class: URM Detected 247 ( 1.1%) items with no interactions.\n",
      "EvaluatorHoldout: Processed 10456 (100.0%) in 27.87 sec. Users per second: 375\n"
     ]
    },
    {
     "name": "stderr",
     "output_type": "stream",
     "text": [
      "[I 2023-12-09 04:05:56,279] Trial 748 finished with value: 0.051337027574356 and parameters: {'coarse_recommender': 'easeR', 'use_3_levels': False, 'cutoff': 235, 'final_recommender_c1:easeR': 'slim'}. Best is trial 635 with value: 0.05134299361800376.\n"
     ]
    },
    {
     "name": "stdout",
     "output_type": "stream",
     "text": [
      "Recommender_Base_Class: URM Detected 627 ( 4.8%) users with no interactions.\n",
      "Recommender_Base_Class: URM Detected 247 ( 1.1%) items with no interactions.\n",
      "EvaluatorHoldout: Processed 10456 (100.0%) in 39.96 sec. Users per second: 262\n"
     ]
    },
    {
     "name": "stderr",
     "output_type": "stream",
     "text": [
      "[I 2023-12-09 04:06:36,510] Trial 749 finished with value: 0.05080135124057341 and parameters: {'coarse_recommender': 'ials', 'use_3_levels': False, 'cutoff': 297, 'final_recommender_c1:ials': 'slim'}. Best is trial 635 with value: 0.05134299361800376.\n"
     ]
    },
    {
     "name": "stdout",
     "output_type": "stream",
     "text": [
      "Recommender_Base_Class: URM Detected 627 ( 4.8%) users with no interactions.\n",
      "Recommender_Base_Class: URM Detected 247 ( 1.1%) items with no interactions.\n",
      "EvaluatorHoldout: Processed 10456 (100.0%) in 25.38 sec. Users per second: 412\n"
     ]
    },
    {
     "name": "stderr",
     "output_type": "stream",
     "text": [
      "[I 2023-12-09 04:07:02,153] Trial 750 finished with value: 0.04999661848289504 and parameters: {'coarse_recommender': 'easeR', 'use_3_levels': False, 'cutoff': 145, 'final_recommender_c1:easeR': 'merging'}. Best is trial 635 with value: 0.05134299361800376.\n"
     ]
    },
    {
     "name": "stdout",
     "output_type": "stream",
     "text": [
      "Recommender_Base_Class: URM Detected 627 ( 4.8%) users with no interactions.\n",
      "Recommender_Base_Class: URM Detected 247 ( 1.1%) items with no interactions.\n",
      "EvaluatorHoldout: Processed 10456 (100.0%) in 28.36 sec. Users per second: 369\n"
     ]
    },
    {
     "name": "stderr",
     "output_type": "stream",
     "text": [
      "[I 2023-12-09 04:07:30,776] Trial 751 finished with value: 0.05133346009278546 and parameters: {'coarse_recommender': 'easeR', 'use_3_levels': False, 'cutoff': 347, 'final_recommender_c1:easeR': 'slim'}. Best is trial 635 with value: 0.05134299361800376.\n"
     ]
    },
    {
     "name": "stdout",
     "output_type": "stream",
     "text": [
      "Recommender_Base_Class: URM Detected 627 ( 4.8%) users with no interactions.\n",
      "Recommender_Base_Class: URM Detected 247 ( 1.1%) items with no interactions.\n",
      "EvaluatorHoldout: Processed 10456 (100.0%) in 25.11 sec. Users per second: 416\n"
     ]
    },
    {
     "name": "stderr",
     "output_type": "stream",
     "text": [
      "[I 2023-12-09 04:07:56,145] Trial 752 finished with value: 0.046099281494031606 and parameters: {'coarse_recommender': 'userKnn', 'use_3_levels': False, 'cutoff': 95, 'final_recommender_c1:userKnn': 'itemKnn'}. Best is trial 635 with value: 0.05134299361800376.\n"
     ]
    },
    {
     "name": "stdout",
     "output_type": "stream",
     "text": [
      "Recommender_Base_Class: URM Detected 627 ( 4.8%) users with no interactions.\n",
      "Recommender_Base_Class: URM Detected 247 ( 1.1%) items with no interactions.\n",
      "EvaluatorHoldout: Processed 10456 (100.0%) in 27.57 sec. Users per second: 379\n"
     ]
    },
    {
     "name": "stderr",
     "output_type": "stream",
     "text": [
      "[I 2023-12-09 04:08:23,976] Trial 753 finished with value: 0.05133669739255107 and parameters: {'coarse_recommender': 'easeR', 'use_3_levels': False, 'cutoff': 198, 'final_recommender_c1:easeR': 'slim'}. Best is trial 635 with value: 0.05134299361800376.\n"
     ]
    },
    {
     "name": "stdout",
     "output_type": "stream",
     "text": [
      "Recommender_Base_Class: URM Detected 627 ( 4.8%) users with no interactions.\n",
      "Recommender_Base_Class: URM Detected 247 ( 1.1%) items with no interactions.\n",
      "EvaluatorHoldout: Processed 10456 (100.0%) in 18.82 sec. Users per second: 556\n"
     ]
    },
    {
     "name": "stderr",
     "output_type": "stream",
     "text": [
      "[I 2023-12-09 04:08:43,062] Trial 754 finished with value: 0.04882431367726963 and parameters: {'coarse_recommender': 'rp3', 'use_3_levels': False, 'cutoff': 247, 'final_recommender_c1:rp3': 'itemKnn'}. Best is trial 635 with value: 0.05134299361800376.\n"
     ]
    },
    {
     "name": "stdout",
     "output_type": "stream",
     "text": [
      "Recommender_Base_Class: URM Detected 627 ( 4.8%) users with no interactions.\n",
      "Recommender_Base_Class: URM Detected 247 ( 1.1%) items with no interactions.\n",
      "EvaluatorHoldout: Processed 10456 (100.0%) in 28.45 sec. Users per second: 368\n"
     ]
    },
    {
     "name": "stderr",
     "output_type": "stream",
     "text": [
      "[I 2023-12-09 04:09:11,787] Trial 755 finished with value: 0.04184730647551093 and parameters: {'coarse_recommender': 'easeR', 'use_3_levels': False, 'cutoff': 153, 'final_recommender_c1:easeR': 'ials'}. Best is trial 635 with value: 0.05134299361800376.\n"
     ]
    },
    {
     "name": "stdout",
     "output_type": "stream",
     "text": [
      "Recommender_Base_Class: URM Detected 627 ( 4.8%) users with no interactions.\n",
      "Recommender_Base_Class: URM Detected 247 ( 1.1%) items with no interactions.\n",
      "EvaluatorHoldout: Processed 10456 (100.0%) in 23.72 sec. Users per second: 441\n"
     ]
    },
    {
     "name": "stderr",
     "output_type": "stream",
     "text": [
      "[I 2023-12-09 04:09:35,764] Trial 756 finished with value: 0.04482143616181555 and parameters: {'coarse_recommender': 'itemKnn', 'use_3_levels': False, 'cutoff': 210, 'final_recommender_c1:itemKnn': 'easeR'}. Best is trial 635 with value: 0.05134299361800376.\n"
     ]
    },
    {
     "name": "stdout",
     "output_type": "stream",
     "text": [
      "Recommender_Base_Class: URM Detected 627 ( 4.8%) users with no interactions.\n",
      "Recommender_Base_Class: URM Detected 247 ( 1.1%) items with no interactions.\n",
      "EvaluatorHoldout: Processed 10456 (100.0%) in 27.57 sec. Users per second: 379\n"
     ]
    },
    {
     "name": "stderr",
     "output_type": "stream",
     "text": [
      "[I 2023-12-09 04:10:03,583] Trial 757 finished with value: 0.051321672222830045 and parameters: {'coarse_recommender': 'easeR', 'use_3_levels': False, 'cutoff': 113, 'final_recommender_c1:easeR': 'slim'}. Best is trial 635 with value: 0.05134299361800376.\n"
     ]
    },
    {
     "name": "stdout",
     "output_type": "stream",
     "text": [
      "Recommender_Base_Class: URM Detected 627 ( 4.8%) users with no interactions.\n",
      "Recommender_Base_Class: URM Detected 247 ( 1.1%) items with no interactions.\n",
      "EvaluatorHoldout: Processed 10456 (100.0%) in 25.05 sec. Users per second: 417\n"
     ]
    },
    {
     "name": "stderr",
     "output_type": "stream",
     "text": [
      "[I 2023-12-09 04:10:28,883] Trial 758 finished with value: 0.04815260623504751 and parameters: {'coarse_recommender': 'easeR', 'use_3_levels': False, 'cutoff': 282, 'final_recommender_c1:easeR': 'alpha'}. Best is trial 635 with value: 0.05134299361800376.\n"
     ]
    },
    {
     "name": "stdout",
     "output_type": "stream",
     "text": [
      "Recommender_Base_Class: URM Detected 627 ( 4.8%) users with no interactions.\n",
      "Recommender_Base_Class: URM Detected 247 ( 1.1%) items with no interactions.\n",
      "EvaluatorHoldout: Processed 10456 (100.0%) in 35.09 sec. Users per second: 298\n"
     ]
    },
    {
     "name": "stderr",
     "output_type": "stream",
     "text": [
      "[I 2023-12-09 04:11:04,250] Trial 759 finished with value: 0.04494249523323806 and parameters: {'coarse_recommender': 'alpha', 'use_3_levels': True, 'coarse_2_recommender_c1:alpha': 'ials', 'final_recommender_c1:alpha_c2:ials': 'easeR', 'cutoff1': 1219, 'cutoff2': 583}. Best is trial 635 with value: 0.05134299361800376.\n"
     ]
    },
    {
     "name": "stdout",
     "output_type": "stream",
     "text": [
      "Recommender_Base_Class: URM Detected 627 ( 4.8%) users with no interactions.\n",
      "Recommender_Base_Class: URM Detected 247 ( 1.1%) items with no interactions.\n",
      "EvaluatorHoldout: Processed 10456 (100.0%) in 27.62 sec. Users per second: 379\n"
     ]
    },
    {
     "name": "stderr",
     "output_type": "stream",
     "text": [
      "[I 2023-12-09 04:11:32,125] Trial 760 finished with value: 0.05133914149694621 and parameters: {'coarse_recommender': 'easeR', 'use_3_levels': False, 'cutoff': 180, 'final_recommender_c1:easeR': 'slim'}. Best is trial 635 with value: 0.05134299361800376.\n"
     ]
    },
    {
     "name": "stdout",
     "output_type": "stream",
     "text": [
      "Recommender_Base_Class: URM Detected 627 ( 4.8%) users with no interactions.\n",
      "Recommender_Base_Class: URM Detected 247 ( 1.1%) items with no interactions.\n",
      "EvaluatorHoldout: Processed 10456 (100.0%) in 27.37 sec. Users per second: 382\n"
     ]
    },
    {
     "name": "stderr",
     "output_type": "stream",
     "text": [
      "[I 2023-12-09 04:11:59,770] Trial 761 finished with value: 0.05129001651668128 and parameters: {'coarse_recommender': 'easeR', 'use_3_levels': False, 'cutoff': 91, 'final_recommender_c1:easeR': 'slim'}. Best is trial 635 with value: 0.05134299361800376.\n"
     ]
    },
    {
     "name": "stdout",
     "output_type": "stream",
     "text": [
      "Recommender_Base_Class: URM Detected 627 ( 4.8%) users with no interactions.\n",
      "Recommender_Base_Class: URM Detected 247 ( 1.1%) items with no interactions.\n",
      "EvaluatorHoldout: Processed 10456 (100.0%) in 27.72 sec. Users per second: 377\n"
     ]
    },
    {
     "name": "stderr",
     "output_type": "stream",
     "text": [
      "[I 2023-12-09 04:12:27,752] Trial 762 finished with value: 0.051337027574356 and parameters: {'coarse_recommender': 'easeR', 'use_3_levels': False, 'cutoff': 239, 'final_recommender_c1:easeR': 'slim'}. Best is trial 635 with value: 0.05134299361800376.\n"
     ]
    },
    {
     "name": "stdout",
     "output_type": "stream",
     "text": [
      "Recommender_Base_Class: URM Detected 627 ( 4.8%) users with no interactions.\n",
      "Recommender_Base_Class: URM Detected 247 ( 1.1%) items with no interactions.\n",
      "EvaluatorHoldout: Processed 10456 (100.0%) in 27.68 sec. Users per second: 378\n"
     ]
    },
    {
     "name": "stderr",
     "output_type": "stream",
     "text": [
      "[I 2023-12-09 04:12:55,685] Trial 763 finished with value: 0.036640650617554164 and parameters: {'coarse_recommender': 'easeR', 'use_3_levels': False, 'cutoff': 153, 'final_recommender_c1:easeR': 'userKnn'}. Best is trial 635 with value: 0.05134299361800376.\n"
     ]
    },
    {
     "name": "stdout",
     "output_type": "stream",
     "text": [
      "Recommender_Base_Class: URM Detected 627 ( 4.8%) users with no interactions.\n",
      "Recommender_Base_Class: URM Detected 247 ( 1.1%) items with no interactions.\n",
      "EvaluatorHoldout: Processed 10456 (100.0%) in 24.92 sec. Users per second: 420\n"
     ]
    },
    {
     "name": "stderr",
     "output_type": "stream",
     "text": [
      "[I 2023-12-09 04:13:20,872] Trial 764 finished with value: 0.04874681583293936 and parameters: {'coarse_recommender': 'easeR', 'use_3_levels': False, 'cutoff': 290, 'final_recommender_c1:easeR': 'itemKnn'}. Best is trial 635 with value: 0.05134299361800376.\n"
     ]
    },
    {
     "name": "stdout",
     "output_type": "stream",
     "text": [
      "Recommender_Base_Class: URM Detected 627 ( 4.8%) users with no interactions.\n",
      "Recommender_Base_Class: URM Detected 247 ( 1.1%) items with no interactions.\n",
      "EvaluatorHoldout: Processed 10456 (100.0%) in 28.70 sec. Users per second: 364\n"
     ]
    },
    {
     "name": "stderr",
     "output_type": "stream",
     "text": [
      "[I 2023-12-09 04:13:49,850] Trial 765 finished with value: 0.0513328756330388 and parameters: {'coarse_recommender': 'easeR', 'use_3_levels': False, 'cutoff': 1372, 'final_recommender_c1:easeR': 'slim'}. Best is trial 635 with value: 0.05134299361800376.\n"
     ]
    },
    {
     "name": "stdout",
     "output_type": "stream",
     "text": [
      "Recommender_Base_Class: URM Detected 627 ( 4.8%) users with no interactions.\n",
      "Recommender_Base_Class: URM Detected 247 ( 1.1%) items with no interactions.\n",
      "EvaluatorHoldout: Processed 10456 (100.0%) in 27.54 sec. Users per second: 380\n"
     ]
    },
    {
     "name": "stderr",
     "output_type": "stream",
     "text": [
      "[I 2023-12-09 04:14:17,668] Trial 766 finished with value: 0.05130290119745996 and parameters: {'coarse_recommender': 'easeR', 'use_3_levels': False, 'cutoff': 96, 'final_recommender_c1:easeR': 'slim'}. Best is trial 635 with value: 0.05134299361800376.\n"
     ]
    },
    {
     "name": "stdout",
     "output_type": "stream",
     "text": [
      "Recommender_Base_Class: URM Detected 627 ( 4.8%) users with no interactions.\n",
      "Recommender_Base_Class: URM Detected 247 ( 1.1%) items with no interactions.\n",
      "EvaluatorHoldout: Processed 10456 (100.0%) in 27.52 sec. Users per second: 380\n"
     ]
    },
    {
     "name": "stderr",
     "output_type": "stream",
     "text": [
      "[I 2023-12-09 04:14:45,445] Trial 767 finished with value: 0.05133346009278546 and parameters: {'coarse_recommender': 'easeR', 'use_3_levels': False, 'cutoff': 346, 'final_recommender_c1:easeR': 'slim'}. Best is trial 635 with value: 0.05134299361800376.\n"
     ]
    },
    {
     "name": "stdout",
     "output_type": "stream",
     "text": [
      "Recommender_Base_Class: URM Detected 627 ( 4.8%) users with no interactions.\n",
      "Recommender_Base_Class: URM Detected 247 ( 1.1%) items with no interactions.\n",
      "EvaluatorHoldout: Processed 10456 (100.0%) in 27.91 sec. Users per second: 375\n"
     ]
    },
    {
     "name": "stderr",
     "output_type": "stream",
     "text": [
      "[I 2023-12-09 04:15:13,628] Trial 768 finished with value: 0.05133669739255107 and parameters: {'coarse_recommender': 'easeR', 'use_3_levels': False, 'cutoff': 198, 'final_recommender_c1:easeR': 'slim'}. Best is trial 635 with value: 0.05134299361800376.\n"
     ]
    },
    {
     "name": "stdout",
     "output_type": "stream",
     "text": [
      "Recommender_Base_Class: URM Detected 627 ( 4.8%) users with no interactions.\n",
      "Recommender_Base_Class: URM Detected 247 ( 1.1%) items with no interactions.\n",
      "EvaluatorHoldout: Processed 10456 (100.0%) in 28.02 sec. Users per second: 373\n"
     ]
    },
    {
     "name": "stderr",
     "output_type": "stream",
     "text": [
      "[I 2023-12-09 04:15:41,932] Trial 769 finished with value: 0.05133847733814318 and parameters: {'coarse_recommender': 'easeR', 'use_3_levels': False, 'cutoff': 159, 'final_recommender_c1:easeR': 'slim'}. Best is trial 635 with value: 0.05134299361800376.\n"
     ]
    },
    {
     "name": "stdout",
     "output_type": "stream",
     "text": [
      "Recommender_Base_Class: URM Detected 627 ( 4.8%) users with no interactions.\n",
      "Recommender_Base_Class: URM Detected 247 ( 1.1%) items with no interactions.\n",
      "EvaluatorHoldout: Processed 10456 (100.0%) in 27.82 sec. Users per second: 376\n"
     ]
    },
    {
     "name": "stderr",
     "output_type": "stream",
     "text": [
      "[I 2023-12-09 04:16:10,028] Trial 770 finished with value: 0.051337027574356 and parameters: {'coarse_recommender': 'easeR', 'use_3_levels': False, 'cutoff': 240, 'final_recommender_c1:easeR': 'slim'}. Best is trial 635 with value: 0.05134299361800376.\n"
     ]
    },
    {
     "name": "stdout",
     "output_type": "stream",
     "text": [
      "Recommender_Base_Class: URM Detected 627 ( 4.8%) users with no interactions.\n",
      "Recommender_Base_Class: URM Detected 247 ( 1.1%) items with no interactions.\n",
      "EvaluatorHoldout: Processed 10456 (100.0%) in 27.54 sec. Users per second: 380\n"
     ]
    },
    {
     "name": "stderr",
     "output_type": "stream",
     "text": [
      "[I 2023-12-09 04:16:37,842] Trial 771 finished with value: 0.051280566485712525 and parameters: {'coarse_recommender': 'easeR', 'use_3_levels': False, 'cutoff': 89, 'final_recommender_c1:easeR': 'slim'}. Best is trial 635 with value: 0.05134299361800376.\n"
     ]
    },
    {
     "name": "stdout",
     "output_type": "stream",
     "text": [
      "Recommender_Base_Class: URM Detected 627 ( 4.8%) users with no interactions.\n",
      "Recommender_Base_Class: URM Detected 247 ( 1.1%) items with no interactions.\n",
      "EvaluatorHoldout: Processed 10456 (100.0%) in 27.49 sec. Users per second: 380\n"
     ]
    },
    {
     "name": "stderr",
     "output_type": "stream",
     "text": [
      "[I 2023-12-09 04:17:05,603] Trial 772 finished with value: 0.05133669739255107 and parameters: {'coarse_recommender': 'easeR', 'use_3_levels': False, 'cutoff': 197, 'final_recommender_c1:easeR': 'slim'}. Best is trial 635 with value: 0.05134299361800376.\n"
     ]
    },
    {
     "name": "stdout",
     "output_type": "stream",
     "text": [
      "Recommender_Base_Class: URM Detected 627 ( 4.8%) users with no interactions.\n",
      "Recommender_Base_Class: URM Detected 247 ( 1.1%) items with no interactions.\n",
      "EvaluatorHoldout: Processed 10456 (100.0%) in 26.17 sec. Users per second: 399\n"
     ]
    },
    {
     "name": "stderr",
     "output_type": "stream",
     "text": [
      "[I 2023-12-09 04:17:32,026] Trial 773 finished with value: 0.049214444353360406 and parameters: {'coarse_recommender': 'slim', 'use_3_levels': False, 'cutoff': 141, 'final_recommender_c1:slim': 'rp3'}. Best is trial 635 with value: 0.05134299361800376.\n"
     ]
    },
    {
     "name": "stdout",
     "output_type": "stream",
     "text": [
      "Recommender_Base_Class: URM Detected 627 ( 4.8%) users with no interactions.\n",
      "Recommender_Base_Class: URM Detected 247 ( 1.1%) items with no interactions.\n",
      "EvaluatorHoldout: Processed 10456 (100.0%) in 27.69 sec. Users per second: 378\n"
     ]
    },
    {
     "name": "stderr",
     "output_type": "stream",
     "text": [
      "[I 2023-12-09 04:17:59,969] Trial 774 finished with value: 0.05133175984624971 and parameters: {'coarse_recommender': 'easeR', 'use_3_levels': False, 'cutoff': 284, 'final_recommender_c1:easeR': 'slim'}. Best is trial 635 with value: 0.05134299361800376.\n"
     ]
    },
    {
     "name": "stdout",
     "output_type": "stream",
     "text": [
      "Recommender_Base_Class: URM Detected 627 ( 4.8%) users with no interactions.\n",
      "Recommender_Base_Class: URM Detected 247 ( 1.1%) items with no interactions.\n",
      "EvaluatorHoldout: Processed 10456 (100.0%) in 27.50 sec. Users per second: 380\n"
     ]
    },
    {
     "name": "stderr",
     "output_type": "stream",
     "text": [
      "[I 2023-12-09 04:18:27,716] Trial 775 finished with value: 0.05133607118567964 and parameters: {'coarse_recommender': 'easeR', 'use_3_levels': False, 'cutoff': 230, 'final_recommender_c1:easeR': 'slim'}. Best is trial 635 with value: 0.05134299361800376.\n"
     ]
    },
    {
     "name": "stdout",
     "output_type": "stream",
     "text": [
      "Recommender_Base_Class: URM Detected 627 ( 4.8%) users with no interactions.\n",
      "Recommender_Base_Class: URM Detected 247 ( 1.1%) items with no interactions.\n",
      "EvaluatorHoldout: Processed 10456 (100.0%) in 28.57 sec. Users per second: 366\n"
     ]
    },
    {
     "name": "stderr",
     "output_type": "stream",
     "text": [
      "[I 2023-12-09 04:18:56,541] Trial 776 finished with value: 0.0513328756330388 and parameters: {'coarse_recommender': 'easeR', 'use_3_levels': False, 'cutoff': 1107, 'final_recommender_c1:easeR': 'slim'}. Best is trial 635 with value: 0.05134299361800376.\n"
     ]
    },
    {
     "name": "stdout",
     "output_type": "stream",
     "text": [
      "Recommender_Base_Class: URM Detected 627 ( 4.8%) users with no interactions.\n",
      "Recommender_Base_Class: URM Detected 247 ( 1.1%) items with no interactions.\n",
      "EvaluatorHoldout: Processed 10456 (100.0%) in 27.64 sec. Users per second: 378\n"
     ]
    },
    {
     "name": "stderr",
     "output_type": "stream",
     "text": [
      "[I 2023-12-09 04:19:24,439] Trial 777 finished with value: 0.05133847733814318 and parameters: {'coarse_recommender': 'easeR', 'use_3_levels': False, 'cutoff': 162, 'final_recommender_c1:easeR': 'slim'}. Best is trial 635 with value: 0.05134299361800376.\n"
     ]
    },
    {
     "name": "stdout",
     "output_type": "stream",
     "text": [
      "Recommender_Base_Class: URM Detected 627 ( 4.8%) users with no interactions.\n",
      "Recommender_Base_Class: URM Detected 247 ( 1.1%) items with no interactions.\n",
      "EvaluatorHoldout: Processed 10456 (100.0%) in 49.49 sec. Users per second: 211\n"
     ]
    },
    {
     "name": "stderr",
     "output_type": "stream",
     "text": [
      "[I 2023-12-09 04:20:14,200] Trial 778 finished with value: 0.04485452645097888 and parameters: {'coarse_recommender': 'ials', 'use_3_levels': True, 'coarse_2_recommender_c1:ials': 'alpha', 'final_recommender_c1:ials_c2:alpha': 'easeR', 'cutoff1': 962, 'cutoff2': 403}. Best is trial 635 with value: 0.05134299361800376.\n"
     ]
    },
    {
     "name": "stdout",
     "output_type": "stream",
     "text": [
      "Recommender_Base_Class: URM Detected 627 ( 4.8%) users with no interactions.\n",
      "Recommender_Base_Class: URM Detected 247 ( 1.1%) items with no interactions.\n",
      "EvaluatorHoldout: Processed 10456 (100.0%) in 27.51 sec. Users per second: 380\n"
     ]
    },
    {
     "name": "stderr",
     "output_type": "stream",
     "text": [
      "[I 2023-12-09 04:20:41,976] Trial 779 finished with value: 0.05130956555664917 and parameters: {'coarse_recommender': 'easeR', 'use_3_levels': False, 'cutoff': 100, 'final_recommender_c1:easeR': 'slim'}. Best is trial 635 with value: 0.05134299361800376.\n"
     ]
    },
    {
     "name": "stdout",
     "output_type": "stream",
     "text": [
      "Recommender_Base_Class: URM Detected 627 ( 4.8%) users with no interactions.\n",
      "Recommender_Base_Class: URM Detected 247 ( 1.1%) items with no interactions.\n",
      "EvaluatorHoldout: Processed 10456 (100.0%) in 27.85 sec. Users per second: 375\n"
     ]
    },
    {
     "name": "stderr",
     "output_type": "stream",
     "text": [
      "[I 2023-12-09 04:21:10,090] Trial 780 finished with value: 0.05133346009278546 and parameters: {'coarse_recommender': 'easeR', 'use_3_levels': False, 'cutoff': 343, 'final_recommender_c1:easeR': 'slim'}. Best is trial 635 with value: 0.05134299361800376.\n"
     ]
    },
    {
     "name": "stdout",
     "output_type": "stream",
     "text": [
      "Recommender_Base_Class: URM Detected 627 ( 4.8%) users with no interactions.\n",
      "Recommender_Base_Class: URM Detected 247 ( 1.1%) items with no interactions.\n",
      "EvaluatorHoldout: Processed 10456 (100.0%) in 25.42 sec. Users per second: 411\n"
     ]
    },
    {
     "name": "stderr",
     "output_type": "stream",
     "text": [
      "[I 2023-12-09 04:21:35,782] Trial 781 finished with value: 0.047808997036713693 and parameters: {'coarse_recommender': 'userKnn', 'use_3_levels': False, 'cutoff': 245, 'final_recommender_c1:userKnn': 'rp3'}. Best is trial 635 with value: 0.05134299361800376.\n"
     ]
    },
    {
     "name": "stdout",
     "output_type": "stream",
     "text": [
      "Recommender_Base_Class: URM Detected 627 ( 4.8%) users with no interactions.\n",
      "Recommender_Base_Class: URM Detected 247 ( 1.1%) items with no interactions.\n",
      "EvaluatorHoldout: Processed 10456 (100.0%) in 27.74 sec. Users per second: 377\n"
     ]
    },
    {
     "name": "stderr",
     "output_type": "stream",
     "text": [
      "[I 2023-12-09 04:22:03,774] Trial 782 finished with value: 0.05133818510826985 and parameters: {'coarse_recommender': 'easeR', 'use_3_levels': False, 'cutoff': 181, 'final_recommender_c1:easeR': 'slim'}. Best is trial 635 with value: 0.05134299361800376.\n"
     ]
    },
    {
     "name": "stdout",
     "output_type": "stream",
     "text": [
      "Recommender_Base_Class: URM Detected 627 ( 4.8%) users with no interactions.\n",
      "Recommender_Base_Class: URM Detected 247 ( 1.1%) items with no interactions.\n",
      "EvaluatorHoldout: Processed 10456 (100.0%) in 22.27 sec. Users per second: 470\n"
     ]
    },
    {
     "name": "stderr",
     "output_type": "stream",
     "text": [
      "[I 2023-12-09 04:22:26,306] Trial 783 finished with value: 0.042735586615416946 and parameters: {'coarse_recommender': 'rp3', 'use_3_levels': False, 'cutoff': 134, 'final_recommender_c1:rp3': 'ials'}. Best is trial 635 with value: 0.05134299361800376.\n"
     ]
    },
    {
     "name": "stdout",
     "output_type": "stream",
     "text": [
      "Recommender_Base_Class: URM Detected 627 ( 4.8%) users with no interactions.\n",
      "Recommender_Base_Class: URM Detected 247 ( 1.1%) items with no interactions.\n",
      "EvaluatorHoldout: Processed 10456 (100.0%) in 28.07 sec. Users per second: 372\n"
     ]
    },
    {
     "name": "stderr",
     "output_type": "stream",
     "text": [
      "[I 2023-12-09 04:22:54,663] Trial 784 finished with value: 0.051334416481461816 and parameters: {'coarse_recommender': 'easeR', 'use_3_levels': False, 'cutoff': 292, 'final_recommender_c1:easeR': 'slim'}. Best is trial 635 with value: 0.05134299361800376.\n"
     ]
    },
    {
     "name": "stdout",
     "output_type": "stream",
     "text": [
      "Recommender_Base_Class: URM Detected 627 ( 4.8%) users with no interactions.\n",
      "Recommender_Base_Class: URM Detected 247 ( 1.1%) items with no interactions.\n",
      "EvaluatorHoldout: Processed 10456 (100.0%) in 21.26 sec. Users per second: 492\n"
     ]
    },
    {
     "name": "stderr",
     "output_type": "stream",
     "text": [
      "[I 2023-12-09 04:23:16,193] Trial 785 finished with value: 0.05122808655469395 and parameters: {'coarse_recommender': 'itemKnn', 'use_3_levels': False, 'cutoff': 212, 'final_recommender_c1:itemKnn': 'slim'}. Best is trial 635 with value: 0.05134299361800376.\n"
     ]
    },
    {
     "name": "stdout",
     "output_type": "stream",
     "text": [
      "Recommender_Base_Class: URM Detected 627 ( 4.8%) users with no interactions.\n",
      "Recommender_Base_Class: URM Detected 247 ( 1.1%) items with no interactions.\n",
      "EvaluatorHoldout: Processed 10456 (100.0%) in 25.39 sec. Users per second: 412\n"
     ]
    },
    {
     "name": "stderr",
     "output_type": "stream",
     "text": [
      "[I 2023-12-09 04:23:41,851] Trial 786 finished with value: 0.04923379983847718 and parameters: {'coarse_recommender': 'easeR', 'use_3_levels': False, 'cutoff': 107, 'final_recommender_c1:easeR': 'rp3'}. Best is trial 635 with value: 0.05134299361800376.\n"
     ]
    },
    {
     "name": "stdout",
     "output_type": "stream",
     "text": [
      "Recommender_Base_Class: URM Detected 627 ( 4.8%) users with no interactions.\n",
      "Recommender_Base_Class: URM Detected 247 ( 1.1%) items with no interactions.\n",
      "EvaluatorHoldout: Processed 10456 (100.0%) in 27.70 sec. Users per second: 377\n"
     ]
    },
    {
     "name": "stderr",
     "output_type": "stream",
     "text": [
      "[I 2023-12-09 04:24:09,827] Trial 787 finished with value: 0.05133772968509063 and parameters: {'coarse_recommender': 'easeR', 'use_3_levels': False, 'cutoff': 188, 'final_recommender_c1:easeR': 'slim'}. Best is trial 635 with value: 0.05134299361800376.\n"
     ]
    },
    {
     "name": "stdout",
     "output_type": "stream",
     "text": [
      "Recommender_Base_Class: URM Detected 627 ( 4.8%) users with no interactions.\n",
      "Recommender_Base_Class: URM Detected 247 ( 1.1%) items with no interactions.\n",
      "EvaluatorHoldout: Processed 10456 (100.0%) in 25.14 sec. Users per second: 416\n"
     ]
    },
    {
     "name": "stderr",
     "output_type": "stream",
     "text": [
      "[I 2023-12-09 04:24:35,236] Trial 788 finished with value: 0.04993407369961577 and parameters: {'coarse_recommender': 'easeR', 'use_3_levels': False, 'cutoff': 86, 'final_recommender_c1:easeR': 'merging'}. Best is trial 635 with value: 0.05134299361800376.\n"
     ]
    },
    {
     "name": "stdout",
     "output_type": "stream",
     "text": [
      "Recommender_Base_Class: URM Detected 627 ( 4.8%) users with no interactions.\n",
      "Recommender_Base_Class: URM Detected 247 ( 1.1%) items with no interactions.\n",
      "EvaluatorHoldout: Processed 10456 (100.0%) in 18.75 sec. Users per second: 558\n"
     ]
    },
    {
     "name": "stderr",
     "output_type": "stream",
     "text": [
      "[I 2023-12-09 04:24:55,311] Trial 789 finished with value: 0.0488929231792188 and parameters: {'coarse_recommender': 'alpha', 'use_3_levels': False, 'cutoff': 252, 'final_recommender_c1:alpha': 'rp3'}. Best is trial 635 with value: 0.05134299361800376.\n"
     ]
    },
    {
     "name": "stdout",
     "output_type": "stream",
     "text": [
      "Recommender_Base_Class: URM Detected 627 ( 4.8%) users with no interactions.\n",
      "Recommender_Base_Class: URM Detected 247 ( 1.1%) items with no interactions.\n",
      "EvaluatorHoldout: Processed 10456 (100.0%) in 27.47 sec. Users per second: 381\n"
     ]
    },
    {
     "name": "stderr",
     "output_type": "stream",
     "text": [
      "[I 2023-12-09 04:25:23,044] Trial 790 finished with value: 0.05133273900608504 and parameters: {'coarse_recommender': 'easeR', 'use_3_levels': False, 'cutoff': 153, 'final_recommender_c1:easeR': 'slim'}. Best is trial 635 with value: 0.05134299361800376.\n"
     ]
    },
    {
     "name": "stdout",
     "output_type": "stream",
     "text": [
      "Recommender_Base_Class: URM Detected 627 ( 4.8%) users with no interactions.\n",
      "Recommender_Base_Class: URM Detected 247 ( 1.1%) items with no interactions.\n",
      "EvaluatorHoldout: Processed 10456 (100.0%) in 29.26 sec. Users per second: 357\n"
     ]
    },
    {
     "name": "stderr",
     "output_type": "stream",
     "text": [
      "[I 2023-12-09 04:25:52,571] Trial 791 finished with value: 0.0513328756330388 and parameters: {'coarse_recommender': 'easeR', 'use_3_levels': False, 'cutoff': 2622, 'final_recommender_c1:easeR': 'slim'}. Best is trial 635 with value: 0.05134299361800376.\n"
     ]
    },
    {
     "name": "stdout",
     "output_type": "stream",
     "text": [
      "Recommender_Base_Class: URM Detected 627 ( 4.8%) users with no interactions.\n",
      "Recommender_Base_Class: URM Detected 247 ( 1.1%) items with no interactions.\n",
      "EvaluatorHoldout: Processed 10456 (100.0%) in 27.57 sec. Users per second: 379\n"
     ]
    },
    {
     "name": "stderr",
     "output_type": "stream",
     "text": [
      "[I 2023-12-09 04:26:20,416] Trial 792 finished with value: 0.051338496314108986 and parameters: {'coarse_recommender': 'easeR', 'use_3_levels': False, 'cutoff': 217, 'final_recommender_c1:easeR': 'slim'}. Best is trial 635 with value: 0.05134299361800376.\n"
     ]
    },
    {
     "name": "stdout",
     "output_type": "stream",
     "text": [
      "Recommender_Base_Class: URM Detected 627 ( 4.8%) users with no interactions.\n",
      "Recommender_Base_Class: URM Detected 247 ( 1.1%) items with no interactions.\n",
      "EvaluatorHoldout: Processed 10456 (100.0%) in 27.69 sec. Users per second: 378\n"
     ]
    },
    {
     "name": "stderr",
     "output_type": "stream",
     "text": [
      "[I 2023-12-09 04:26:48,384] Trial 793 finished with value: 0.051334416481461816 and parameters: {'coarse_recommender': 'easeR', 'use_3_levels': False, 'cutoff': 291, 'final_recommender_c1:easeR': 'slim'}. Best is trial 635 with value: 0.05134299361800376.\n"
     ]
    },
    {
     "name": "stdout",
     "output_type": "stream",
     "text": [
      "Recommender_Base_Class: URM Detected 627 ( 4.8%) users with no interactions.\n",
      "Recommender_Base_Class: URM Detected 247 ( 1.1%) items with no interactions.\n",
      "EvaluatorHoldout: Processed 10456 (100.0%) in 24.87 sec. Users per second: 420\n"
     ]
    },
    {
     "name": "stderr",
     "output_type": "stream",
     "text": [
      "[I 2023-12-09 04:27:13,522] Trial 794 finished with value: 0.048218984163418556 and parameters: {'coarse_recommender': 'easeR', 'use_3_levels': False, 'cutoff': 144, 'final_recommender_c1:easeR': 'alpha'}. Best is trial 635 with value: 0.05134299361800376.\n"
     ]
    },
    {
     "name": "stdout",
     "output_type": "stream",
     "text": [
      "Recommender_Base_Class: URM Detected 627 ( 4.8%) users with no interactions.\n",
      "Recommender_Base_Class: URM Detected 247 ( 1.1%) items with no interactions.\n",
      "EvaluatorHoldout: Processed 10456 (100.0%) in 28.83 sec. Users per second: 363\n"
     ]
    },
    {
     "name": "stderr",
     "output_type": "stream",
     "text": [
      "[I 2023-12-09 04:27:42,615] Trial 795 finished with value: 0.04208384947960368 and parameters: {'coarse_recommender': 'easeR', 'use_3_levels': False, 'cutoff': 88, 'final_recommender_c1:easeR': 'ials'}. Best is trial 635 with value: 0.05134299361800376.\n"
     ]
    },
    {
     "name": "stdout",
     "output_type": "stream",
     "text": [
      "Recommender_Base_Class: URM Detected 627 ( 4.8%) users with no interactions.\n",
      "Recommender_Base_Class: URM Detected 247 ( 1.1%) items with no interactions.\n",
      "EvaluatorHoldout: Processed 10456 (100.0%) in 27.65 sec. Users per second: 378\n"
     ]
    },
    {
     "name": "stderr",
     "output_type": "stream",
     "text": [
      "[I 2023-12-09 04:28:10,545] Trial 796 finished with value: 0.05133346009278546 and parameters: {'coarse_recommender': 'easeR', 'use_3_levels': False, 'cutoff': 356, 'final_recommender_c1:easeR': 'slim'}. Best is trial 635 with value: 0.05134299361800376.\n"
     ]
    },
    {
     "name": "stdout",
     "output_type": "stream",
     "text": [
      "Recommender_Base_Class: URM Detected 627 ( 4.8%) users with no interactions.\n",
      "Recommender_Base_Class: URM Detected 247 ( 1.1%) items with no interactions.\n",
      "EvaluatorHoldout: Processed 10456 (100.0%) in 36.11 sec. Users per second: 290\n"
     ]
    },
    {
     "name": "stderr",
     "output_type": "stream",
     "text": [
      "[I 2023-12-09 04:28:46,978] Trial 797 finished with value: 0.048679933143878015 and parameters: {'coarse_recommender': 'easeR', 'use_3_levels': True, 'coarse_2_recommender_c1:easeR': 'slim', 'final_recommender_c1:easeR_c2:slim': 'itemKnn', 'cutoff1': 1589, 'cutoff2': 1146}. Best is trial 635 with value: 0.05134299361800376.\n"
     ]
    },
    {
     "name": "stdout",
     "output_type": "stream",
     "text": [
      "Recommender_Base_Class: URM Detected 627 ( 4.8%) users with no interactions.\n",
      "Recommender_Base_Class: URM Detected 247 ( 1.1%) items with no interactions.\n",
      "EvaluatorHoldout: Processed 10456 (100.0%) in 27.63 sec. Users per second: 378\n"
     ]
    },
    {
     "name": "stderr",
     "output_type": "stream",
     "text": [
      "[I 2023-12-09 04:29:14,887] Trial 798 finished with value: 0.05133935402776317 and parameters: {'coarse_recommender': 'easeR', 'use_3_levels': False, 'cutoff': 204, 'final_recommender_c1:easeR': 'slim'}. Best is trial 635 with value: 0.05134299361800376.\n"
     ]
    },
    {
     "name": "stdout",
     "output_type": "stream",
     "text": [
      "Recommender_Base_Class: URM Detected 627 ( 4.8%) users with no interactions.\n",
      "Recommender_Base_Class: URM Detected 247 ( 1.1%) items with no interactions.\n",
      "EvaluatorHoldout: Processed 10456 (100.0%) in 27.26 sec. Users per second: 383\n"
     ]
    },
    {
     "name": "stderr",
     "output_type": "stream",
     "text": [
      "[I 2023-12-09 04:29:42,434] Trial 799 finished with value: 0.05133079207199388 and parameters: {'coarse_recommender': 'easeR', 'use_3_levels': False, 'cutoff': 142, 'final_recommender_c1:easeR': 'slim'}. Best is trial 635 with value: 0.05134299361800376.\n"
     ]
    }
   ],
   "source": [
    "if config['tune_parameters']:\n",
    "    study = optuna.create_study(direction='maximize', study_name='hyperparameters_tuning_variable_pipeline_v2', \n",
    "                                storage=f'sqlite:///{config[\"database_path\"]}', load_if_exists=True)\n",
    "    study.optimize(objective, n_trials=800)"
   ]
  },
  {
   "cell_type": "code",
   "execution_count": 27,
   "id": "46510f6d",
   "metadata": {
    "execution": {
     "iopub.execute_input": "2023-12-09T04:29:43.236908Z",
     "iopub.status.busy": "2023-12-09T04:29:43.236348Z",
     "iopub.status.idle": "2023-12-09T04:29:44.344420Z",
     "shell.execute_reply": "2023-12-09T04:29:44.343074Z"
    },
    "papermill": {
     "duration": 1.391302,
     "end_time": "2023-12-09T04:29:44.347491",
     "exception": false,
     "start_time": "2023-12-09T04:29:42.956189",
     "status": "completed"
    },
    "tags": []
   },
   "outputs": [
    {
     "data": {
      "text/html": [
       "        <script type=\"text/javascript\">\n",
       "        window.PlotlyConfig = {MathJaxConfig: 'local'};\n",
       "        if (window.MathJax && window.MathJax.Hub && window.MathJax.Hub.Config) {window.MathJax.Hub.Config({SVG: {font: \"STIX-Web\"}});}\n",
       "        if (typeof require !== 'undefined') {\n",
       "        require.undef(\"plotly\");\n",
       "        requirejs.config({\n",
       "            paths: {\n",
       "                'plotly': ['https://cdn.plot.ly/plotly-2.25.2.min']\n",
       "            }\n",
       "        });\n",
       "        require(['plotly'], function(Plotly) {\n",
       "            window._Plotly = Plotly;\n",
       "        });\n",
       "        }\n",
       "        </script>\n",
       "        "
      ]
     },
     "metadata": {},
     "output_type": "display_data"
    },
    {
     "data": {
      "text/html": [
       "<div>                            <div id=\"a05506c4-4ae3-492f-ad67-e56e3d354782\" class=\"plotly-graph-div\" style=\"height:525px; width:100%;\"></div>            <script type=\"text/javascript\">                require([\"plotly\"], function(Plotly) {                    window.PLOTLYENV=window.PLOTLYENV || {};                                    if (document.getElementById(\"a05506c4-4ae3-492f-ad67-e56e3d354782\")) {                    Plotly.newPlot(                        \"a05506c4-4ae3-492f-ad67-e56e3d354782\",                        [{\"mode\":\"markers\",\"name\":\"Objective Value\",\"x\":[0,1,2,3,4,5,6,7,8,9,10,11,12,13,14,15,16,17,18,19,20,21,22,23,24,25,26,27,28,29,30,31,32,33,34,35,36,37,38,39,40,41,42,43,44,45,46,47,48,49,50,51,52,53,54,55,56,57,58,59,60,61,62,63,64,65,66,67,68,69,70,71,72,73,74,75,76,77,78,79,80,81,82,83,84,85,86,87,88,89,90,91,92,93,94,95,96,97,98,99,100,101,102,103,104,105,106,107,108,109,110,111,112,113,114,115,116,117,118,119,120,121,122,123,124,125,126,127,128,129,130,131,132,133,134,135,136,137,138,139,140,141,142,143,144,145,146,147,148,149,150,151,152,153,154,155,156,157,158,159,160,161,162,163,164,165,166,167,168,169,170,171,172,173,174,175,176,177,178,179,180,181,182,183,184,185,186,187,188,189,190,191,192,193,194,195,196,197,198,199,200,201,202,203,204,205,206,207,208,209,210,211,212,213,214,215,216,217,218,219,220,221,222,223,224,225,226,227,228,229,230,231,232,233,234,235,236,237,238,239,240,241,242,243,244,245,246,247,248,249,250,251,252,253,254,255,256,257,258,259,260,261,262,263,264,265,266,267,268,269,270,271,272,273,274,275,276,277,278,279,280,281,282,283,284,285,286,287,288,289,290,291,292,293,294,295,296,297,298,299,300,301,302,303,304,305,306,307,308,309,310,311,312,313,314,315,316,317,318,319,320,321,322,323,324,325,326,327,328,329,330,331,332,333,334,335,336,337,338,339,340,341,342,343,344,345,346,347,348,349,350,351,352,353,354,355,356,357,358,359,360,361,362,363,364,365,366,367,368,369,370,371,372,373,374,375,376,377,378,379,380,381,382,383,384,385,386,387,388,389,390,391,392,393,394,395,396,397,398,399,400,401,402,403,404,405,406,407,408,409,410,411,412,413,414,415,416,417,418,419,420,421,422,423,424,425,426,427,428,429,430,431,432,433,434,435,436,437,438,439,440,441,442,443,444,445,446,447,448,449,450,451,452,453,454,455,456,457,458,459,460,461,462,463,464,465,466,467,468,469,470,471,472,473,474,475,476,477,478,479,480,481,482,483,484,485,486,487,488,489,490,491,492,493,494,495,496,497,498,499,500,501,502,503,504,505,506,507,508,509,510,511,512,513,514,515,516,517,518,519,520,521,522,523,524,525,526,527,528,529,530,531,532,533,534,535,536,537,538,539,540,541,542,543,544,545,546,547,548,549,550,551,552,553,554,555,556,557,558,559,560,561,562,563,564,565,566,567,568,569,570,571,572,573,574,575,576,577,578,579,580,581,582,583,584,585,586,587,588,589,590,591,592,593,594,595,596,597,598,599,600,601,602,603,604,605,606,607,608,609,610,611,612,613,614,615,616,617,618,619,620,621,622,623,624,625,626,627,628,629,630,631,632,633,634,635,636,637,638,639,640,641,642,643,644,645,646,647,648,649,650,651,652,653,654,655,656,657,658,659,660,661,662,663,664,665,666,667,668,669,670,671,672,673,674,675,676,677,678,679,680,681,682,683,684,685,686,687,688,689,690,691,692,693,694,695,696,697,698,699,700,701,702,703,704,705,706,707,708,709,710,711,712,713,714,715,716,717,718,719,720,721,722,723,724,725,726,727,728,729,730,731,732,733,734,735,736,737,738,739,740,741,742,743,744,745,746,747,748,749,750,751,752,753,754,755,756,757,758,759,760,761,762,763,764,765,766,767,768,769,770,771,772,773,774,775,776,777,778,779,780,781,782,783,784,785,786,787,788,789,790,791,792,793,794,795,796,797,798,799],\"y\":[0.04968313932305972,0.03804894432907101,0.03772204536622125,0.04243095025564479,0.04976580242528092,0.04253860850001881,0.04966619758079281,0.04917286421709782,0.044856264649446274,0.049143675386503105,0.04977021243973303,0.049752082802006985,0.04967247103508651,0.04919698266963051,0.04832782271286534,0.04224728567785245,0.04716407227262294,0.0418520125150295,0.042256470045299976,0.04912799744355852,0.03802045760921094,0.0497802545208348,0.041605195923052285,0.048872497449630764,0.049203924077920486,0.050999752553406566,0.04857317436028295,0.05098235538796042,0.05097351258789727,0.03859770269367671,0.04997632558506773,0.04996860236698683,0.0447746186589919,0.04996445801605586,0.04812074179327486,0.04479029660193646,0.03887638372742665,0.04195279386939738,0.05119455222793084,0.048712583190634796,0.051182999659951336,0.05119052173279475,0.05120817317618262,0.051195167049222785,0.05119309866895048,0.04486632191132065,0.05118446839970431,0.0511877284706289,0.051197132959279745,0.051209676072674036,0.05124518769507358,0.051245054863312975,0.05124518769507358,0.051245054863312975,0.05124518769507358,0.05124518769507358,0.05124518769507358,0.044813728124507284,0.04867260842107884,0.04996411265347834,0.05124518769507358,0.05124518769507358,0.05124535847876578,0.05124535847876578,0.05124535847876578,0.03612029168336581,0.05124535847876578,0.05124535847876578,0.04865619041546813,0.05124631486744214,0.03844271080020928,0.05124535847876578,0.05124535847876578,0.03722888278621854,0.04781601434886682,0.04245056760908954,0.05097012727559849,0.042279484096623146,0.048733532656878846,0.05124823903037434,0.05124823903037434,0.05124823903037434,0.05124834529578282,0.05124834529578282,0.05124834529578282,0.05124834529578282,0.0491556074737986,0.05124834529578282,0.05124834529578282,0.05124834529578282,0.04915612362006838,0.05124834529578282,0.05124834529578282,0.051252474465941084,0.0374441499374555,0.04246722471186953,0.048710643846929955,0.0499886979147698,0.04767008917185919,0.04494849163843111,0.044880865091510354,0.05124823903037434,0.051252474465941084,0.051252474465941084,0.04782810962946822,0.04253071449824564,0.04923597448415795,0.05124834529578282,0.049151781919093175,0.05124631486744214,0.051263154139493734,0.051260584793724306,0.051289223321310765,0.0512491574671191,0.051248713429519366,0.04871749417058404,0.047839886113844196,0.051260584793724306,0.05126100985535825,0.04485897441736254,0.04492020985900164,0.05126111612076673,0.05126085045724552,0.051258497437486235,0.05126111612076673,0.051259506958866836,0.04883101978358361,0.05126300612696049,0.04466390148893078,0.051259639790627434,0.05122673546592894,0.05126300612696049,0.05126300612696049,0.0512599472012734,0.051263154139493734,0.04890235043902861,0.05125241753804366,0.051248478127543434,0.05005379686304587,0.05124409847463662,0.05125241753804366,0.051261548772787,0.05131493955016393,0.05128694620541468,0.05129312477987941,0.051289223321310765,0.05131493955016393,0.0393964807932868,0.03712368382701241,0.047837802552799256,0.05125241753804366,0.05127108988839162,0.05132359638576222,0.05128694620541468,0.04340389356456745,0.05125321832380047,0.051256527732236115,0.051249776083604204,0.05126048611870216,0.04667878092323439,0.03534748788574371,0.05130572861636425,0.05131341767770671,0.05131813130761162,0.04915037010723759,0.051291325858321496,0.051137525655506416,0.05131493955016393,0.05131493955016393,0.04824883335762317,0.04871749417058404,0.051255552367593944,0.05132359638576222,0.05131493955016393,0.05132359638576222,0.04967534779150189,0.05125292229873397,0.04495564557753798,0.05132350150593321,0.04254756895106993,0.05125329802285682,0.05131813130761162,0.0512595297300258,0.051244830946916536,0.05132359638576222,0.05126048611870216,0.05125446694235014,0.05124409847463662,0.0372012120328879,0.05132350150593321,0.05003983814260281,0.05132359638576222,0.05132350150593321,0.05132350150593321,0.051248595778531386,0.0512491574671191,0.047984513334791264,0.051261548772787,0.04280531949454154,0.05132350150593321,0.051259639790627434,0.05132350150593321,0.05124440588528258,0.051245309141254705,0.05131493955016393,0.05126137798909479,0.05132359638576222,0.048792274656611706,0.049153835118592816,0.0478255592596646,0.05124440588528258,0.05132350150593321,0.05130572861636425,0.051244830946916536,0.041361377533671424,0.05131493955016393,0.05124371516012744,0.05124535847876578,0.048706685460463923,0.04921906310343633,0.042788237330127724,0.05132350150593321,0.05129383068580718,0.05131493955016393,0.051244830946916536,0.05126048611870216,0.0512501669884997,0.044898087678071116,0.05116286236504359,0.05131493955016393,0.05132350150593321,0.051255552367593944,0.05132359638576222,0.05124371516012744,0.05131493955016393,0.05126048611870216,0.051245309141254705,0.05124594673370562,0.05124409847463662,0.05132350150593321,0.0489616768985081,0.05132359638576222,0.05132359638576222,0.051244830946916536,0.03783796574610496,0.042260379094254986,0.05124594673370562,0.05126111612076673,0.05132350150593321,0.047839912680196287,0.05124936999793607,0.04340696767102717,0.05125329802285682,0.04700309535954196,0.05132350150593321,0.0512595297300258,0.05126111612076673,0.04808099473530889,0.044854181088401356,0.05126048611870216,0.05131341767770671,0.04814141041522505,0.04915577825749081,0.050984032863337275,0.051259506958866836,0.05124594673370562,0.05131493955016393,0.051261123711153066,0.04871784332835477,0.0482512964379841,0.05124535847876578,0.05124936999793607,0.04514041076134673,0.05132350150593321,0.05126048611870216,0.051260584793724306,0.04473727395829599,0.05132350150593321,0.05125329802285682,0.05132359638576222,0.051244830946916536,0.05126048611870216,0.05125943485019679,0.05124936999793607,0.037494553897815475,0.05132359638576222,0.047233137197751435,0.0512595297300258,0.037237805285338064,0.04763065711492506,0.04785129825967675,0.04895581332507566,0.04482851419705923,0.05125382934989925,0.05126111612076673,0.0422622311485171,0.05124936999793607,0.04888449785040326,0.05124921059982335,0.051261548772787,0.05131813130761162,0.051245054863312975,0.04785586767224155,0.05132359638576222,0.049157884589694695,0.04875119928103935,0.051251916572546526,0.05131493955016393,0.05124594673370562,0.04167206343134099,0.04871011251988754,0.05132359638576222,0.051245054863312975,0.0512599472012734,0.05124518769507358,0.04490286203106659,0.050813363026925296,0.05124594673370562,0.05132359638576222,0.051251916572546526,0.04347909531703585,0.051244830946916536,0.04882891345137957,0.04998232199026075,0.04555960502665815,0.05125446694235014,0.0512491574671191,0.04021273955259269,0.0512546149548834,0.03835711401367518,0.05126111612076673,0.05132359638576222,0.03691936960323566,0.0512546149548834,0.04780470846844274,0.05124936999793607,0.05132350150593321,0.04257804435214591,0.05132350150593321,0.04785840665646572,0.05124535847876578,0.05126059238411064,0.049129416845800425,0.0512491574671191,0.05124409847463662,0.049151721196002605,0.0512501669884997,0.05125421645960158,0.036139491565563016,0.051259639790627434,0.05125321832380047,0.04474634067475567,0.040068055403748234,0.04870576322852602,0.03911551125806132,0.05124631486744214,0.051261541182400665,0.051251916572546526,0.044955861903548104,0.05125321832380047,0.051259639790627434,0.04491230826684221,0.05125382934989925,0.05133656456079047,0.05133847733814318,0.05133346009278546,0.05133346009278546,0.05133346009278546,0.05133346009278546,0.05133346009278546,0.05133346009278546,0.05133346009278546,0.05133346009278546,0.05133346009278546,0.0513328756330388,0.05133346009278546,0.05133346009278546,0.05133346009278546,0.05133346009278546,0.05133346009278546,0.05133346009278546,0.05133346009278546,0.05133346009278546,0.05133346009278546,0.05133346009278546,0.05133346009278546,0.05002050542864502,0.05133346009278546,0.05133346009278546,0.05133346009278546,0.05133346009278546,0.0513328756330388,0.05133346009278546,0.05133346009278546,0.05133346009278546,0.05133346009278546,0.0513328756330388,0.0513328756330388,0.05133346009278546,0.05133346009278546,0.0513328756330388,0.05133346009278546,0.0513328756330388,0.05133346009278546,0.0513328756330388,0.05133346009278546,0.05133346009278546,0.050028365273679695,0.0513328756330388,0.05133346009278546,0.05133346009278546,0.0513328756330388,0.0513328756330388,0.05133346009278546,0.05133346009278546,0.05133346009278546,0.0513328756330388,0.049275539372852506,0.0513328756330388,0.05005190685685212,0.0513328756330388,0.04171842171579217,0.05133346009278546,0.05133346009278546,0.051334416481461816,0.05133346009278546,0.048739358278379614,0.0480796815984752,0.05133346009278546,0.04873576802565016,0.03631311785744676,0.051334416481461816,0.051334416481461816,0.05133175984624971,0.051334416481461816,0.05133335382737698,0.05133335382737698,0.05133346009278546,0.0513328756330388,0.0513328756330388,0.051334416481461816,0.05133175984624971,0.05133346009278546,0.05133263274067655,0.05133346009278546,0.0513328756330388,0.04877321519656129,0.051334416481461816,0.05133175984624971,0.05133346009278546,0.0513328756330388,0.051334416481461816,0.05133175984624971,0.05133346009278546,0.05133550190670563,0.05133550190670563,0.05133560817211411,0.05133550190670563,0.049292477319926274,0.05004433544649762,0.04176286722289069,0.05133550190670563,0.051337027574356,0.04819145762742798,0.051336894742595396,0.051337027574356,0.03638129850256889,0.05133657594636995,0.03640415315577933,0.04874087635564373,0.05133560817211411,0.05133560817211411,0.051337027574356,0.05133657594636995,0.051337027574356,0.051337027574356,0.051337027574356,0.051337027574356,0.051336894742595396,0.051337027574356,0.05133550190670563,0.051337027574356,0.05133607118567964,0.051337027574356,0.051337027574356,0.05133607118567964,0.05133596492027116,0.049244411198552974,0.05133798396303236,0.05133798396303236,0.051337027574356,0.0513390086651856,0.05133798396303236,0.0513390086651856,0.05133607118567964,0.04932471369062857,0.0513390086651856,0.05004801678386297,0.0513390086651856,0.0513390086651856,0.041786226636791414,0.05133935402776317,0.0513390086651856,0.04919193885792071,0.051339221196002566,0.04820467249001164,0.05133935402776317,0.03631244231306424,0.05133669739255107,0.036472178197981875,0.04817256895106997,0.0487492599373345,0.0513390086651856,0.04829421248223924,0.0513364848617341,0.042574742534096544,0.04995917131198382,0.0513364848617341,0.0513328756330388,0.0513390086651856,0.05133772968509063,0.05133968800476127,0.04867278679515735,0.05133772968509063,0.05133968800476127,0.05133968800476127,0.05133821167462198,0.051081409929440415,0.05134282283431156,0.0513328756330388,0.05133847733814318,0.05133968800476127,0.05133968800476127,0.048729080895301966,0.05133968800476127,0.05134282283431156,0.05133847733814318,0.05132813543678178,0.05133847733814318,0.05133847733814318,0.050043481528036594,0.04448920115738269,0.049941034083871474,0.047826587757011,0.05133847733814318,0.051230135959000424,0.05133847733814318,0.04808381835901978,0.049289968697247374,0.04181867174311759,0.05096407014731489,0.05133847733814318,0.05133667082619896,0.04822571304089152,0.0513328756330388,0.05133772968509063,0.04873329355970974,0.0513328756330388,0.036488603793979016,0.0513328756330388,0.05133772968509063,0.0513328756330388,0.051333794069783556,0.0513364848617341,0.03657791607461683,0.05133669739255107,0.04815748685345146,0.051333794069783556,0.0513328756330388,0.05133346009278546,0.05133935402776317,0.051147480447165494,0.04480684364411473,0.0513328756330388,0.04136792803706585,0.049201335756185245,0.05133335382737698,0.0513390086651856,0.050982666593799644,0.051334416481461816,0.051337027574356,0.0513328376811072,0.0513390086651856,0.051334416481461816,0.05133798396303236,0.049246824941402825,0.05004742093853682,0.0513390086651856,0.0513328756330388,0.04927919793905888,0.04177047278998364,0.05133550190670563,0.04820116573153166,0.044678858345174995,0.0513328756330388,0.0513390086651856,0.051338496314108986,0.0487382500819769,0.03637160937443105,0.05133607118567964,0.050847405909571826,0.0513390086651856,0.047725669775689615,0.05133690992336804,0.05133335382737698,0.0492673113940813,0.04967083151164136,0.051335767570226856,0.04995922444468806,0.05133560817211411,0.05133346009278546,0.049982561087429836,0.0513390086651856,0.05133263274067655,0.05133690992336804,0.051333794069783556,0.05133346009278546,0.0513390086651856,0.05133523244799128,0.0513328756330388,0.05133560817211411,0.05133772968509063,0.05133263274067655,0.05003549644162761,0.04223408979123456,0.049319635722180295,0.05133346009278546,0.050050199019930054,0.04814748272428135,0.05133772968509063,0.05133550190670563,0.04484818847840146,0.04673506743299263,0.05133690992336804,0.04819145762742798,0.05134299361800376,0.0381592326423049,0.05133457967476772,0.04255062787675701,0.03655748654983577,0.04176582747355561,0.05133968800476127,0.04874263353007687,0.051325987357453126,0.05134282283431156,0.051329729417909045,0.05132064372548365,0.0513328756330388,0.05134299361800376,0.0513328756330388,0.051321672222830045,0.05134282283431156,0.051329729417909045,0.041786317721427345,0.05133847733814318,0.0513328756330388,0.05133175984624971,0.05134282283431156,0.051317288774730074,0.04724166120158903,0.051321672222830045,0.0387781565380556,0.047868327291386424,0.051337027574356,0.05134282283431156,0.04851776074495164,0.05131519003291251,0.04921203820089689,0.05003756102670675,0.04867663132582858,0.05133968800476127,0.049305126698729045,0.051321672222830045,0.051337027574356,0.04163985362699075,0.05134282283431156,0.051320715834153686,0.04820937093914391,0.05133847733814318,0.05130682163199439,0.048741980756853334,0.05134282283431156,0.05126732505677672,0.03697976251199316,0.0500614479724567,0.05133847733814318,0.05130610434048712,0.051337027574356,0.051334416481461816,0.04806397708917856,0.05132064372548365,0.051337027574356,0.04673981521963598,0.0513328756330388,0.047817259172223334,0.05133914149694621,0.05134282283431156,0.04286150732927755,0.05133847733814318,0.0513100779077258,0.05133656456079047,0.05133968800476127,0.04252488128635852,0.05131370231719373,0.0513328756330388,0.0513328756330388,0.05134282283431156,0.05131079899442623,0.04931552552798786,0.05134282283431156,0.05001581077470593,0.05133847733814318,0.05129952727074059,0.04176352379130739,0.05133821167462198,0.04473522834918266,0.051334416481461816,0.048194937819555854,0.05133968800476127,0.03622227231877224,0.05133847733814318,0.042392611214340896,0.05132877302923267,0.04706208404683032,0.05115765156483469,0.036517936841913824,0.048118525400469334,0.05133550190670563,0.0513074402484795,0.048734534587873114,0.0513328756330388,0.051334416481461816,0.0513390086651856,0.03939689067414822,0.051329729417909045,0.0513390086651856,0.05133346009278546,0.05133287183784564,0.051337027574356,0.05130837766119004,0.04921121084878797,0.0513390086651856,0.05133175984624971,0.04780887559053259,0.05129001651668128,0.05133914149694621,0.0513328756330388,0.049213320976185006,0.051337027574356,0.05080135124057341,0.04999661848289504,0.05133346009278546,0.046099281494031606,0.05133669739255107,0.04882431367726963,0.04184730647551093,0.04482143616181555,0.051321672222830045,0.04815260623504751,0.04494249523323806,0.05133914149694621,0.05129001651668128,0.051337027574356,0.036640650617554164,0.04874681583293936,0.0513328756330388,0.05130290119745996,0.05133346009278546,0.05133669739255107,0.05133847733814318,0.051337027574356,0.051280566485712525,0.05133669739255107,0.049214444353360406,0.05133175984624971,0.05133607118567964,0.0513328756330388,0.05133847733814318,0.04485452645097888,0.05130956555664917,0.05133346009278546,0.047808997036713693,0.05133818510826985,0.042735586615416946,0.051334416481461816,0.05122808655469395,0.04923379983847718,0.05133772968509063,0.04993407369961577,0.0488929231792188,0.05133273900608504,0.0513328756330388,0.051338496314108986,0.051334416481461816,0.048218984163418556,0.04208384947960368,0.05133346009278546,0.048679933143878015,0.05133935402776317,0.05133079207199388],\"type\":\"scatter\"},{\"mode\":\"lines\",\"name\":\"Best Value\",\"x\":[0,1,2,3,4,5,6,7,8,9,10,11,12,13,14,15,16,17,18,19,20,21,22,23,24,25,26,27,28,29,30,31,32,33,34,35,36,37,38,39,40,41,42,43,44,45,46,47,48,49,50,51,52,53,54,55,56,57,58,59,60,61,62,63,64,65,66,67,68,69,70,71,72,73,74,75,76,77,78,79,80,81,82,83,84,85,86,87,88,89,90,91,92,93,94,95,96,97,98,99,100,101,102,103,104,105,106,107,108,109,110,111,112,113,114,115,116,117,118,119,120,121,122,123,124,125,126,127,128,129,130,131,132,133,134,135,136,137,138,139,140,141,142,143,144,145,146,147,148,149,150,151,152,153,154,155,156,157,158,159,160,161,162,163,164,165,166,167,168,169,170,171,172,173,174,175,176,177,178,179,180,181,182,183,184,185,186,187,188,189,190,191,192,193,194,195,196,197,198,199,200,201,202,203,204,205,206,207,208,209,210,211,212,213,214,215,216,217,218,219,220,221,222,223,224,225,226,227,228,229,230,231,232,233,234,235,236,237,238,239,240,241,242,243,244,245,246,247,248,249,250,251,252,253,254,255,256,257,258,259,260,261,262,263,264,265,266,267,268,269,270,271,272,273,274,275,276,277,278,279,280,281,282,283,284,285,286,287,288,289,290,291,292,293,294,295,296,297,298,299,300,301,302,303,304,305,306,307,308,309,310,311,312,313,314,315,316,317,318,319,320,321,322,323,324,325,326,327,328,329,330,331,332,333,334,335,336,337,338,339,340,341,342,343,344,345,346,347,348,349,350,351,352,353,354,355,356,357,358,359,360,361,362,363,364,365,366,367,368,369,370,371,372,373,374,375,376,377,378,379,380,381,382,383,384,385,386,387,388,389,390,391,392,393,394,395,396,397,398,399,400,401,402,403,404,405,406,407,408,409,410,411,412,413,414,415,416,417,418,419,420,421,422,423,424,425,426,427,428,429,430,431,432,433,434,435,436,437,438,439,440,441,442,443,444,445,446,447,448,449,450,451,452,453,454,455,456,457,458,459,460,461,462,463,464,465,466,467,468,469,470,471,472,473,474,475,476,477,478,479,480,481,482,483,484,485,486,487,488,489,490,491,492,493,494,495,496,497,498,499,500,501,502,503,504,505,506,507,508,509,510,511,512,513,514,515,516,517,518,519,520,521,522,523,524,525,526,527,528,529,530,531,532,533,534,535,536,537,538,539,540,541,542,543,544,545,546,547,548,549,550,551,552,553,554,555,556,557,558,559,560,561,562,563,564,565,566,567,568,569,570,571,572,573,574,575,576,577,578,579,580,581,582,583,584,585,586,587,588,589,590,591,592,593,594,595,596,597,598,599,600,601,602,603,604,605,606,607,608,609,610,611,612,613,614,615,616,617,618,619,620,621,622,623,624,625,626,627,628,629,630,631,632,633,634,635,636,637,638,639,640,641,642,643,644,645,646,647,648,649,650,651,652,653,654,655,656,657,658,659,660,661,662,663,664,665,666,667,668,669,670,671,672,673,674,675,676,677,678,679,680,681,682,683,684,685,686,687,688,689,690,691,692,693,694,695,696,697,698,699,700,701,702,703,704,705,706,707,708,709,710,711,712,713,714,715,716,717,718,719,720,721,722,723,724,725,726,727,728,729,730,731,732,733,734,735,736,737,738,739,740,741,742,743,744,745,746,747,748,749,750,751,752,753,754,755,756,757,758,759,760,761,762,763,764,765,766,767,768,769,770,771,772,773,774,775,776,777,778,779,780,781,782,783,784,785,786,787,788,789,790,791,792,793,794,795,796,797,798,799],\"y\":[0.04968313932305972,0.04968313932305972,0.04968313932305972,0.04968313932305972,0.04976580242528092,0.04976580242528092,0.04976580242528092,0.04976580242528092,0.04976580242528092,0.04976580242528092,0.04977021243973303,0.04977021243973303,0.04977021243973303,0.04977021243973303,0.04977021243973303,0.04977021243973303,0.04977021243973303,0.04977021243973303,0.04977021243973303,0.04977021243973303,0.04977021243973303,0.0497802545208348,0.0497802545208348,0.0497802545208348,0.0497802545208348,0.050999752553406566,0.050999752553406566,0.050999752553406566,0.050999752553406566,0.050999752553406566,0.050999752553406566,0.050999752553406566,0.050999752553406566,0.050999752553406566,0.050999752553406566,0.050999752553406566,0.050999752553406566,0.050999752553406566,0.05119455222793084,0.05119455222793084,0.05119455222793084,0.05119455222793084,0.05120817317618262,0.05120817317618262,0.05120817317618262,0.05120817317618262,0.05120817317618262,0.05120817317618262,0.05120817317618262,0.051209676072674036,0.05124518769507358,0.05124518769507358,0.05124518769507358,0.05124518769507358,0.05124518769507358,0.05124518769507358,0.05124518769507358,0.05124518769507358,0.05124518769507358,0.05124518769507358,0.05124518769507358,0.05124518769507358,0.05124535847876578,0.05124535847876578,0.05124535847876578,0.05124535847876578,0.05124535847876578,0.05124535847876578,0.05124535847876578,0.05124631486744214,0.05124631486744214,0.05124631486744214,0.05124631486744214,0.05124631486744214,0.05124631486744214,0.05124631486744214,0.05124631486744214,0.05124631486744214,0.05124631486744214,0.05124823903037434,0.05124823903037434,0.05124823903037434,0.05124834529578282,0.05124834529578282,0.05124834529578282,0.05124834529578282,0.05124834529578282,0.05124834529578282,0.05124834529578282,0.05124834529578282,0.05124834529578282,0.05124834529578282,0.05124834529578282,0.051252474465941084,0.051252474465941084,0.051252474465941084,0.051252474465941084,0.051252474465941084,0.051252474465941084,0.051252474465941084,0.051252474465941084,0.051252474465941084,0.051252474465941084,0.051252474465941084,0.051252474465941084,0.051252474465941084,0.051252474465941084,0.051252474465941084,0.051252474465941084,0.051252474465941084,0.051263154139493734,0.051263154139493734,0.051289223321310765,0.051289223321310765,0.051289223321310765,0.051289223321310765,0.051289223321310765,0.051289223321310765,0.051289223321310765,0.051289223321310765,0.051289223321310765,0.051289223321310765,0.051289223321310765,0.051289223321310765,0.051289223321310765,0.051289223321310765,0.051289223321310765,0.051289223321310765,0.051289223321310765,0.051289223321310765,0.051289223321310765,0.051289223321310765,0.051289223321310765,0.051289223321310765,0.051289223321310765,0.051289223321310765,0.051289223321310765,0.051289223321310765,0.051289223321310765,0.051289223321310765,0.051289223321310765,0.051289223321310765,0.05131493955016393,0.05131493955016393,0.05131493955016393,0.05131493955016393,0.05131493955016393,0.05131493955016393,0.05131493955016393,0.05131493955016393,0.05131493955016393,0.05131493955016393,0.05132359638576222,0.05132359638576222,0.05132359638576222,0.05132359638576222,0.05132359638576222,0.05132359638576222,0.05132359638576222,0.05132359638576222,0.05132359638576222,0.05132359638576222,0.05132359638576222,0.05132359638576222,0.05132359638576222,0.05132359638576222,0.05132359638576222,0.05132359638576222,0.05132359638576222,0.05132359638576222,0.05132359638576222,0.05132359638576222,0.05132359638576222,0.05132359638576222,0.05132359638576222,0.05132359638576222,0.05132359638576222,0.05132359638576222,0.05132359638576222,0.05132359638576222,0.05132359638576222,0.05132359638576222,0.05132359638576222,0.05132359638576222,0.05132359638576222,0.05132359638576222,0.05132359638576222,0.05132359638576222,0.05132359638576222,0.05132359638576222,0.05132359638576222,0.05132359638576222,0.05132359638576222,0.05132359638576222,0.05132359638576222,0.05132359638576222,0.05132359638576222,0.05132359638576222,0.05132359638576222,0.05132359638576222,0.05132359638576222,0.05132359638576222,0.05132359638576222,0.05132359638576222,0.05132359638576222,0.05132359638576222,0.05132359638576222,0.05132359638576222,0.05132359638576222,0.05132359638576222,0.05132359638576222,0.05132359638576222,0.05132359638576222,0.05132359638576222,0.05132359638576222,0.05132359638576222,0.05132359638576222,0.05132359638576222,0.05132359638576222,0.05132359638576222,0.05132359638576222,0.05132359638576222,0.05132359638576222,0.05132359638576222,0.05132359638576222,0.05132359638576222,0.05132359638576222,0.05132359638576222,0.05132359638576222,0.05132359638576222,0.05132359638576222,0.05132359638576222,0.05132359638576222,0.05132359638576222,0.05132359638576222,0.05132359638576222,0.05132359638576222,0.05132359638576222,0.05132359638576222,0.05132359638576222,0.05132359638576222,0.05132359638576222,0.05132359638576222,0.05132359638576222,0.05132359638576222,0.05132359638576222,0.05132359638576222,0.05132359638576222,0.05132359638576222,0.05132359638576222,0.05132359638576222,0.05132359638576222,0.05132359638576222,0.05132359638576222,0.05132359638576222,0.05132359638576222,0.05132359638576222,0.05132359638576222,0.05132359638576222,0.05132359638576222,0.05132359638576222,0.05132359638576222,0.05132359638576222,0.05132359638576222,0.05132359638576222,0.05132359638576222,0.05132359638576222,0.05132359638576222,0.05132359638576222,0.05132359638576222,0.05132359638576222,0.05132359638576222,0.05132359638576222,0.05132359638576222,0.05132359638576222,0.05132359638576222,0.05132359638576222,0.05132359638576222,0.05132359638576222,0.05132359638576222,0.05132359638576222,0.05132359638576222,0.05132359638576222,0.05132359638576222,0.05132359638576222,0.05132359638576222,0.05132359638576222,0.05132359638576222,0.05132359638576222,0.05132359638576222,0.05132359638576222,0.05132359638576222,0.05132359638576222,0.05132359638576222,0.05132359638576222,0.05132359638576222,0.05132359638576222,0.05132359638576222,0.05132359638576222,0.05132359638576222,0.05132359638576222,0.05132359638576222,0.05132359638576222,0.05132359638576222,0.05132359638576222,0.05132359638576222,0.05132359638576222,0.05132359638576222,0.05132359638576222,0.05132359638576222,0.05132359638576222,0.05132359638576222,0.05132359638576222,0.05132359638576222,0.05132359638576222,0.05132359638576222,0.05132359638576222,0.05132359638576222,0.05132359638576222,0.05132359638576222,0.05132359638576222,0.05132359638576222,0.05132359638576222,0.05132359638576222,0.05132359638576222,0.05132359638576222,0.05132359638576222,0.05132359638576222,0.05132359638576222,0.05132359638576222,0.05132359638576222,0.05132359638576222,0.05132359638576222,0.05132359638576222,0.05132359638576222,0.05132359638576222,0.05132359638576222,0.05132359638576222,0.05132359638576222,0.05132359638576222,0.05132359638576222,0.05132359638576222,0.05132359638576222,0.05132359638576222,0.05132359638576222,0.05132359638576222,0.05132359638576222,0.05132359638576222,0.05132359638576222,0.05132359638576222,0.05132359638576222,0.05132359638576222,0.05132359638576222,0.05132359638576222,0.05132359638576222,0.05132359638576222,0.05132359638576222,0.05132359638576222,0.05132359638576222,0.05132359638576222,0.05132359638576222,0.05132359638576222,0.05132359638576222,0.05133656456079047,0.05133847733814318,0.05133847733814318,0.05133847733814318,0.05133847733814318,0.05133847733814318,0.05133847733814318,0.05133847733814318,0.05133847733814318,0.05133847733814318,0.05133847733814318,0.05133847733814318,0.05133847733814318,0.05133847733814318,0.05133847733814318,0.05133847733814318,0.05133847733814318,0.05133847733814318,0.05133847733814318,0.05133847733814318,0.05133847733814318,0.05133847733814318,0.05133847733814318,0.05133847733814318,0.05133847733814318,0.05133847733814318,0.05133847733814318,0.05133847733814318,0.05133847733814318,0.05133847733814318,0.05133847733814318,0.05133847733814318,0.05133847733814318,0.05133847733814318,0.05133847733814318,0.05133847733814318,0.05133847733814318,0.05133847733814318,0.05133847733814318,0.05133847733814318,0.05133847733814318,0.05133847733814318,0.05133847733814318,0.05133847733814318,0.05133847733814318,0.05133847733814318,0.05133847733814318,0.05133847733814318,0.05133847733814318,0.05133847733814318,0.05133847733814318,0.05133847733814318,0.05133847733814318,0.05133847733814318,0.05133847733814318,0.05133847733814318,0.05133847733814318,0.05133847733814318,0.05133847733814318,0.05133847733814318,0.05133847733814318,0.05133847733814318,0.05133847733814318,0.05133847733814318,0.05133847733814318,0.05133847733814318,0.05133847733814318,0.05133847733814318,0.05133847733814318,0.05133847733814318,0.05133847733814318,0.05133847733814318,0.05133847733814318,0.05133847733814318,0.05133847733814318,0.05133847733814318,0.05133847733814318,0.05133847733814318,0.05133847733814318,0.05133847733814318,0.05133847733814318,0.05133847733814318,0.05133847733814318,0.05133847733814318,0.05133847733814318,0.05133847733814318,0.05133847733814318,0.05133847733814318,0.05133847733814318,0.05133847733814318,0.05133847733814318,0.05133847733814318,0.05133847733814318,0.05133847733814318,0.05133847733814318,0.05133847733814318,0.05133847733814318,0.05133847733814318,0.05133847733814318,0.05133847733814318,0.05133847733814318,0.05133847733814318,0.05133847733814318,0.05133847733814318,0.05133847733814318,0.05133847733814318,0.05133847733814318,0.05133847733814318,0.05133847733814318,0.05133847733814318,0.05133847733814318,0.05133847733814318,0.05133847733814318,0.05133847733814318,0.05133847733814318,0.05133847733814318,0.05133847733814318,0.05133847733814318,0.05133847733814318,0.05133847733814318,0.05133847733814318,0.05133847733814318,0.05133847733814318,0.05133847733814318,0.05133847733814318,0.05133847733814318,0.05133847733814318,0.05133847733814318,0.0513390086651856,0.0513390086651856,0.0513390086651856,0.0513390086651856,0.0513390086651856,0.0513390086651856,0.0513390086651856,0.0513390086651856,0.0513390086651856,0.0513390086651856,0.05133935402776317,0.05133935402776317,0.05133935402776317,0.05133935402776317,0.05133935402776317,0.05133935402776317,0.05133935402776317,0.05133935402776317,0.05133935402776317,0.05133935402776317,0.05133935402776317,0.05133935402776317,0.05133935402776317,0.05133935402776317,0.05133935402776317,0.05133935402776317,0.05133935402776317,0.05133935402776317,0.05133935402776317,0.05133935402776317,0.05133968800476127,0.05133968800476127,0.05133968800476127,0.05133968800476127,0.05133968800476127,0.05133968800476127,0.05133968800476127,0.05134282283431156,0.05134282283431156,0.05134282283431156,0.05134282283431156,0.05134282283431156,0.05134282283431156,0.05134282283431156,0.05134282283431156,0.05134282283431156,0.05134282283431156,0.05134282283431156,0.05134282283431156,0.05134282283431156,0.05134282283431156,0.05134282283431156,0.05134282283431156,0.05134282283431156,0.05134282283431156,0.05134282283431156,0.05134282283431156,0.05134282283431156,0.05134282283431156,0.05134282283431156,0.05134282283431156,0.05134282283431156,0.05134282283431156,0.05134282283431156,0.05134282283431156,0.05134282283431156,0.05134282283431156,0.05134282283431156,0.05134282283431156,0.05134282283431156,0.05134282283431156,0.05134282283431156,0.05134282283431156,0.05134282283431156,0.05134282283431156,0.05134282283431156,0.05134282283431156,0.05134282283431156,0.05134282283431156,0.05134282283431156,0.05134282283431156,0.05134282283431156,0.05134282283431156,0.05134282283431156,0.05134282283431156,0.05134282283431156,0.05134282283431156,0.05134282283431156,0.05134282283431156,0.05134282283431156,0.05134282283431156,0.05134282283431156,0.05134282283431156,0.05134282283431156,0.05134282283431156,0.05134282283431156,0.05134282283431156,0.05134282283431156,0.05134282283431156,0.05134282283431156,0.05134282283431156,0.05134282283431156,0.05134282283431156,0.05134282283431156,0.05134282283431156,0.05134282283431156,0.05134282283431156,0.05134282283431156,0.05134282283431156,0.05134282283431156,0.05134282283431156,0.05134282283431156,0.05134282283431156,0.05134282283431156,0.05134282283431156,0.05134282283431156,0.05134282283431156,0.05134282283431156,0.05134282283431156,0.05134282283431156,0.05134282283431156,0.05134282283431156,0.05134282283431156,0.05134282283431156,0.05134282283431156,0.05134282283431156,0.05134282283431156,0.05134282283431156,0.05134282283431156,0.05134282283431156,0.05134282283431156,0.05134282283431156,0.05134282283431156,0.05134282283431156,0.05134282283431156,0.05134282283431156,0.05134282283431156,0.05134282283431156,0.05134282283431156,0.05134282283431156,0.05134282283431156,0.05134282283431156,0.05134282283431156,0.05134282283431156,0.05134299361800376,0.05134299361800376,0.05134299361800376,0.05134299361800376,0.05134299361800376,0.05134299361800376,0.05134299361800376,0.05134299361800376,0.05134299361800376,0.05134299361800376,0.05134299361800376,0.05134299361800376,0.05134299361800376,0.05134299361800376,0.05134299361800376,0.05134299361800376,0.05134299361800376,0.05134299361800376,0.05134299361800376,0.05134299361800376,0.05134299361800376,0.05134299361800376,0.05134299361800376,0.05134299361800376,0.05134299361800376,0.05134299361800376,0.05134299361800376,0.05134299361800376,0.05134299361800376,0.05134299361800376,0.05134299361800376,0.05134299361800376,0.05134299361800376,0.05134299361800376,0.05134299361800376,0.05134299361800376,0.05134299361800376,0.05134299361800376,0.05134299361800376,0.05134299361800376,0.05134299361800376,0.05134299361800376,0.05134299361800376,0.05134299361800376,0.05134299361800376,0.05134299361800376,0.05134299361800376,0.05134299361800376,0.05134299361800376,0.05134299361800376,0.05134299361800376,0.05134299361800376,0.05134299361800376,0.05134299361800376,0.05134299361800376,0.05134299361800376,0.05134299361800376,0.05134299361800376,0.05134299361800376,0.05134299361800376,0.05134299361800376,0.05134299361800376,0.05134299361800376,0.05134299361800376,0.05134299361800376,0.05134299361800376,0.05134299361800376,0.05134299361800376,0.05134299361800376,0.05134299361800376,0.05134299361800376,0.05134299361800376,0.05134299361800376,0.05134299361800376,0.05134299361800376,0.05134299361800376,0.05134299361800376,0.05134299361800376,0.05134299361800376,0.05134299361800376,0.05134299361800376,0.05134299361800376,0.05134299361800376,0.05134299361800376,0.05134299361800376,0.05134299361800376,0.05134299361800376,0.05134299361800376,0.05134299361800376,0.05134299361800376,0.05134299361800376,0.05134299361800376,0.05134299361800376,0.05134299361800376,0.05134299361800376,0.05134299361800376,0.05134299361800376,0.05134299361800376,0.05134299361800376,0.05134299361800376,0.05134299361800376,0.05134299361800376,0.05134299361800376,0.05134299361800376,0.05134299361800376,0.05134299361800376,0.05134299361800376,0.05134299361800376,0.05134299361800376,0.05134299361800376,0.05134299361800376,0.05134299361800376,0.05134299361800376,0.05134299361800376,0.05134299361800376,0.05134299361800376,0.05134299361800376,0.05134299361800376,0.05134299361800376,0.05134299361800376,0.05134299361800376,0.05134299361800376,0.05134299361800376,0.05134299361800376,0.05134299361800376,0.05134299361800376,0.05134299361800376,0.05134299361800376,0.05134299361800376,0.05134299361800376,0.05134299361800376,0.05134299361800376,0.05134299361800376,0.05134299361800376,0.05134299361800376,0.05134299361800376,0.05134299361800376,0.05134299361800376,0.05134299361800376,0.05134299361800376,0.05134299361800376,0.05134299361800376,0.05134299361800376,0.05134299361800376,0.05134299361800376,0.05134299361800376,0.05134299361800376,0.05134299361800376,0.05134299361800376,0.05134299361800376,0.05134299361800376,0.05134299361800376,0.05134299361800376,0.05134299361800376,0.05134299361800376,0.05134299361800376,0.05134299361800376,0.05134299361800376,0.05134299361800376,0.05134299361800376,0.05134299361800376,0.05134299361800376,0.05134299361800376,0.05134299361800376,0.05134299361800376],\"type\":\"scatter\"},{\"marker\":{\"color\":\"#cccccc\"},\"mode\":\"markers\",\"name\":\"Infeasible Trial\",\"showlegend\":false,\"x\":[],\"y\":[],\"type\":\"scatter\"}],                        {\"title\":{\"text\":\"Optimization History Plot\"},\"xaxis\":{\"title\":{\"text\":\"Trial\"}},\"yaxis\":{\"title\":{\"text\":\"Objective Value\"}},\"template\":{\"data\":{\"histogram2dcontour\":[{\"type\":\"histogram2dcontour\",\"colorbar\":{\"outlinewidth\":0,\"ticks\":\"\"},\"colorscale\":[[0.0,\"#0d0887\"],[0.1111111111111111,\"#46039f\"],[0.2222222222222222,\"#7201a8\"],[0.3333333333333333,\"#9c179e\"],[0.4444444444444444,\"#bd3786\"],[0.5555555555555556,\"#d8576b\"],[0.6666666666666666,\"#ed7953\"],[0.7777777777777778,\"#fb9f3a\"],[0.8888888888888888,\"#fdca26\"],[1.0,\"#f0f921\"]]}],\"choropleth\":[{\"type\":\"choropleth\",\"colorbar\":{\"outlinewidth\":0,\"ticks\":\"\"}}],\"histogram2d\":[{\"type\":\"histogram2d\",\"colorbar\":{\"outlinewidth\":0,\"ticks\":\"\"},\"colorscale\":[[0.0,\"#0d0887\"],[0.1111111111111111,\"#46039f\"],[0.2222222222222222,\"#7201a8\"],[0.3333333333333333,\"#9c179e\"],[0.4444444444444444,\"#bd3786\"],[0.5555555555555556,\"#d8576b\"],[0.6666666666666666,\"#ed7953\"],[0.7777777777777778,\"#fb9f3a\"],[0.8888888888888888,\"#fdca26\"],[1.0,\"#f0f921\"]]}],\"heatmap\":[{\"type\":\"heatmap\",\"colorbar\":{\"outlinewidth\":0,\"ticks\":\"\"},\"colorscale\":[[0.0,\"#0d0887\"],[0.1111111111111111,\"#46039f\"],[0.2222222222222222,\"#7201a8\"],[0.3333333333333333,\"#9c179e\"],[0.4444444444444444,\"#bd3786\"],[0.5555555555555556,\"#d8576b\"],[0.6666666666666666,\"#ed7953\"],[0.7777777777777778,\"#fb9f3a\"],[0.8888888888888888,\"#fdca26\"],[1.0,\"#f0f921\"]]}],\"heatmapgl\":[{\"type\":\"heatmapgl\",\"colorbar\":{\"outlinewidth\":0,\"ticks\":\"\"},\"colorscale\":[[0.0,\"#0d0887\"],[0.1111111111111111,\"#46039f\"],[0.2222222222222222,\"#7201a8\"],[0.3333333333333333,\"#9c179e\"],[0.4444444444444444,\"#bd3786\"],[0.5555555555555556,\"#d8576b\"],[0.6666666666666666,\"#ed7953\"],[0.7777777777777778,\"#fb9f3a\"],[0.8888888888888888,\"#fdca26\"],[1.0,\"#f0f921\"]]}],\"contourcarpet\":[{\"type\":\"contourcarpet\",\"colorbar\":{\"outlinewidth\":0,\"ticks\":\"\"}}],\"contour\":[{\"type\":\"contour\",\"colorbar\":{\"outlinewidth\":0,\"ticks\":\"\"},\"colorscale\":[[0.0,\"#0d0887\"],[0.1111111111111111,\"#46039f\"],[0.2222222222222222,\"#7201a8\"],[0.3333333333333333,\"#9c179e\"],[0.4444444444444444,\"#bd3786\"],[0.5555555555555556,\"#d8576b\"],[0.6666666666666666,\"#ed7953\"],[0.7777777777777778,\"#fb9f3a\"],[0.8888888888888888,\"#fdca26\"],[1.0,\"#f0f921\"]]}],\"surface\":[{\"type\":\"surface\",\"colorbar\":{\"outlinewidth\":0,\"ticks\":\"\"},\"colorscale\":[[0.0,\"#0d0887\"],[0.1111111111111111,\"#46039f\"],[0.2222222222222222,\"#7201a8\"],[0.3333333333333333,\"#9c179e\"],[0.4444444444444444,\"#bd3786\"],[0.5555555555555556,\"#d8576b\"],[0.6666666666666666,\"#ed7953\"],[0.7777777777777778,\"#fb9f3a\"],[0.8888888888888888,\"#fdca26\"],[1.0,\"#f0f921\"]]}],\"mesh3d\":[{\"type\":\"mesh3d\",\"colorbar\":{\"outlinewidth\":0,\"ticks\":\"\"}}],\"scatter\":[{\"fillpattern\":{\"fillmode\":\"overlay\",\"size\":10,\"solidity\":0.2},\"type\":\"scatter\"}],\"parcoords\":[{\"type\":\"parcoords\",\"line\":{\"colorbar\":{\"outlinewidth\":0,\"ticks\":\"\"}}}],\"scatterpolargl\":[{\"type\":\"scatterpolargl\",\"marker\":{\"colorbar\":{\"outlinewidth\":0,\"ticks\":\"\"}}}],\"bar\":[{\"error_x\":{\"color\":\"#2a3f5f\"},\"error_y\":{\"color\":\"#2a3f5f\"},\"marker\":{\"line\":{\"color\":\"#E5ECF6\",\"width\":0.5},\"pattern\":{\"fillmode\":\"overlay\",\"size\":10,\"solidity\":0.2}},\"type\":\"bar\"}],\"scattergeo\":[{\"type\":\"scattergeo\",\"marker\":{\"colorbar\":{\"outlinewidth\":0,\"ticks\":\"\"}}}],\"scatterpolar\":[{\"type\":\"scatterpolar\",\"marker\":{\"colorbar\":{\"outlinewidth\":0,\"ticks\":\"\"}}}],\"histogram\":[{\"marker\":{\"pattern\":{\"fillmode\":\"overlay\",\"size\":10,\"solidity\":0.2}},\"type\":\"histogram\"}],\"scattergl\":[{\"type\":\"scattergl\",\"marker\":{\"colorbar\":{\"outlinewidth\":0,\"ticks\":\"\"}}}],\"scatter3d\":[{\"type\":\"scatter3d\",\"line\":{\"colorbar\":{\"outlinewidth\":0,\"ticks\":\"\"}},\"marker\":{\"colorbar\":{\"outlinewidth\":0,\"ticks\":\"\"}}}],\"scattermapbox\":[{\"type\":\"scattermapbox\",\"marker\":{\"colorbar\":{\"outlinewidth\":0,\"ticks\":\"\"}}}],\"scatterternary\":[{\"type\":\"scatterternary\",\"marker\":{\"colorbar\":{\"outlinewidth\":0,\"ticks\":\"\"}}}],\"scattercarpet\":[{\"type\":\"scattercarpet\",\"marker\":{\"colorbar\":{\"outlinewidth\":0,\"ticks\":\"\"}}}],\"carpet\":[{\"aaxis\":{\"endlinecolor\":\"#2a3f5f\",\"gridcolor\":\"white\",\"linecolor\":\"white\",\"minorgridcolor\":\"white\",\"startlinecolor\":\"#2a3f5f\"},\"baxis\":{\"endlinecolor\":\"#2a3f5f\",\"gridcolor\":\"white\",\"linecolor\":\"white\",\"minorgridcolor\":\"white\",\"startlinecolor\":\"#2a3f5f\"},\"type\":\"carpet\"}],\"table\":[{\"cells\":{\"fill\":{\"color\":\"#EBF0F8\"},\"line\":{\"color\":\"white\"}},\"header\":{\"fill\":{\"color\":\"#C8D4E3\"},\"line\":{\"color\":\"white\"}},\"type\":\"table\"}],\"barpolar\":[{\"marker\":{\"line\":{\"color\":\"#E5ECF6\",\"width\":0.5},\"pattern\":{\"fillmode\":\"overlay\",\"size\":10,\"solidity\":0.2}},\"type\":\"barpolar\"}],\"pie\":[{\"automargin\":true,\"type\":\"pie\"}]},\"layout\":{\"autotypenumbers\":\"strict\",\"colorway\":[\"#636efa\",\"#EF553B\",\"#00cc96\",\"#ab63fa\",\"#FFA15A\",\"#19d3f3\",\"#FF6692\",\"#B6E880\",\"#FF97FF\",\"#FECB52\"],\"font\":{\"color\":\"#2a3f5f\"},\"hovermode\":\"closest\",\"hoverlabel\":{\"align\":\"left\"},\"paper_bgcolor\":\"white\",\"plot_bgcolor\":\"#E5ECF6\",\"polar\":{\"bgcolor\":\"#E5ECF6\",\"angularaxis\":{\"gridcolor\":\"white\",\"linecolor\":\"white\",\"ticks\":\"\"},\"radialaxis\":{\"gridcolor\":\"white\",\"linecolor\":\"white\",\"ticks\":\"\"}},\"ternary\":{\"bgcolor\":\"#E5ECF6\",\"aaxis\":{\"gridcolor\":\"white\",\"linecolor\":\"white\",\"ticks\":\"\"},\"baxis\":{\"gridcolor\":\"white\",\"linecolor\":\"white\",\"ticks\":\"\"},\"caxis\":{\"gridcolor\":\"white\",\"linecolor\":\"white\",\"ticks\":\"\"}},\"coloraxis\":{\"colorbar\":{\"outlinewidth\":0,\"ticks\":\"\"}},\"colorscale\":{\"sequential\":[[0.0,\"#0d0887\"],[0.1111111111111111,\"#46039f\"],[0.2222222222222222,\"#7201a8\"],[0.3333333333333333,\"#9c179e\"],[0.4444444444444444,\"#bd3786\"],[0.5555555555555556,\"#d8576b\"],[0.6666666666666666,\"#ed7953\"],[0.7777777777777778,\"#fb9f3a\"],[0.8888888888888888,\"#fdca26\"],[1.0,\"#f0f921\"]],\"sequentialminus\":[[0.0,\"#0d0887\"],[0.1111111111111111,\"#46039f\"],[0.2222222222222222,\"#7201a8\"],[0.3333333333333333,\"#9c179e\"],[0.4444444444444444,\"#bd3786\"],[0.5555555555555556,\"#d8576b\"],[0.6666666666666666,\"#ed7953\"],[0.7777777777777778,\"#fb9f3a\"],[0.8888888888888888,\"#fdca26\"],[1.0,\"#f0f921\"]],\"diverging\":[[0,\"#8e0152\"],[0.1,\"#c51b7d\"],[0.2,\"#de77ae\"],[0.3,\"#f1b6da\"],[0.4,\"#fde0ef\"],[0.5,\"#f7f7f7\"],[0.6,\"#e6f5d0\"],[0.7,\"#b8e186\"],[0.8,\"#7fbc41\"],[0.9,\"#4d9221\"],[1,\"#276419\"]]},\"xaxis\":{\"gridcolor\":\"white\",\"linecolor\":\"white\",\"ticks\":\"\",\"title\":{\"standoff\":15},\"zerolinecolor\":\"white\",\"automargin\":true,\"zerolinewidth\":2},\"yaxis\":{\"gridcolor\":\"white\",\"linecolor\":\"white\",\"ticks\":\"\",\"title\":{\"standoff\":15},\"zerolinecolor\":\"white\",\"automargin\":true,\"zerolinewidth\":2},\"scene\":{\"xaxis\":{\"backgroundcolor\":\"#E5ECF6\",\"gridcolor\":\"white\",\"linecolor\":\"white\",\"showbackground\":true,\"ticks\":\"\",\"zerolinecolor\":\"white\",\"gridwidth\":2},\"yaxis\":{\"backgroundcolor\":\"#E5ECF6\",\"gridcolor\":\"white\",\"linecolor\":\"white\",\"showbackground\":true,\"ticks\":\"\",\"zerolinecolor\":\"white\",\"gridwidth\":2},\"zaxis\":{\"backgroundcolor\":\"#E5ECF6\",\"gridcolor\":\"white\",\"linecolor\":\"white\",\"showbackground\":true,\"ticks\":\"\",\"zerolinecolor\":\"white\",\"gridwidth\":2}},\"shapedefaults\":{\"line\":{\"color\":\"#2a3f5f\"}},\"annotationdefaults\":{\"arrowcolor\":\"#2a3f5f\",\"arrowhead\":0,\"arrowwidth\":1},\"geo\":{\"bgcolor\":\"white\",\"landcolor\":\"#E5ECF6\",\"subunitcolor\":\"white\",\"showland\":true,\"showlakes\":true,\"lakecolor\":\"white\"},\"title\":{\"x\":0.05},\"mapbox\":{\"style\":\"light\"}}}},                        {\"responsive\": true}                    ).then(function(){\n",
       "                            \n",
       "var gd = document.getElementById('a05506c4-4ae3-492f-ad67-e56e3d354782');\n",
       "var x = new MutationObserver(function (mutations, observer) {{\n",
       "        var display = window.getComputedStyle(gd).display;\n",
       "        if (!display || display === 'none') {{\n",
       "            console.log([gd, 'removed!']);\n",
       "            Plotly.purge(gd);\n",
       "            observer.disconnect();\n",
       "        }}\n",
       "}});\n",
       "\n",
       "// Listen for the removal of the full notebook cells\n",
       "var notebookContainer = gd.closest('#notebook-container');\n",
       "if (notebookContainer) {{\n",
       "    x.observe(notebookContainer, {childList: true});\n",
       "}}\n",
       "\n",
       "// Listen for the clearing of the current output cell\n",
       "var outputEl = gd.closest('.output');\n",
       "if (outputEl) {{\n",
       "    x.observe(outputEl, {childList: true});\n",
       "}}\n",
       "\n",
       "                        })                };                });            </script>        </div>"
      ]
     },
     "metadata": {},
     "output_type": "display_data"
    }
   ],
   "source": [
    "if config['tune_parameters']:\n",
    "    fig = optuna.visualization.plot_optimization_history(study)\n",
    "    fig.show()"
   ]
  },
  {
   "cell_type": "code",
   "execution_count": 28,
   "id": "e0ab940d",
   "metadata": {
    "execution": {
     "iopub.execute_input": "2023-12-09T04:29:45.087411Z",
     "iopub.status.busy": "2023-12-09T04:29:45.086964Z",
     "iopub.status.idle": "2023-12-09T04:29:46.658851Z",
     "shell.execute_reply": "2023-12-09T04:29:46.657695Z"
    },
    "papermill": {
     "duration": 2.010324,
     "end_time": "2023-12-09T04:29:46.664012",
     "exception": false,
     "start_time": "2023-12-09T04:29:44.653688",
     "status": "completed"
    },
    "tags": []
   },
   "outputs": [
    {
     "data": {
      "text/html": [
       "<div>                            <div id=\"ec545d51-6c41-4dcd-887a-d5faf3bf0510\" class=\"plotly-graph-div\" style=\"height:525px; width:17100px;\"></div>            <script type=\"text/javascript\">                require([\"plotly\"], function(Plotly) {                    window.PLOTLYENV=window.PLOTLYENV || {};                                    if (document.getElementById(\"ec545d51-6c41-4dcd-887a-d5faf3bf0510\")) {                    Plotly.newPlot(                        \"ec545d51-6c41-4dcd-887a-d5faf3bf0510\",                        [{\"marker\":{\"color\":[0,263,702,759],\"colorbar\":{\"title\":{\"text\":\"Trial\"},\"x\":1.0,\"xpad\":40},\"colorscale\":[[0.0,\"rgb(247,251,255)\"],[0.125,\"rgb(222,235,247)\"],[0.25,\"rgb(198,219,239)\"],[0.375,\"rgb(158,202,225)\"],[0.5,\"rgb(107,174,214)\"],[0.625,\"rgb(66,146,198)\"],[0.75,\"rgb(33,113,181)\"],[0.875,\"rgb(8,81,156)\"],[1.0,\"rgb(8,48,107)\"]],\"line\":{\"color\":\"Grey\",\"width\":0.5},\"showscale\":true},\"mode\":\"markers\",\"name\":\"Feasible Trial\",\"showlegend\":false,\"x\":[\"easeR\",\"rp3\",\"slim\",\"ials\"],\"y\":[0.04968313932305972,0.050984032863337275,0.04252488128635852,0.04494249523323806],\"type\":\"scatter\",\"xaxis\":\"x\",\"yaxis\":\"y\"},{\"marker\":{\"color\":[1,18,33,386,407,426,446,466,487,507,527,547,566,585,605,624,643,662,682,721,740,797],\"colorbar\":{\"title\":{\"text\":\"Trial\"},\"x\":1.0,\"xpad\":40},\"colorscale\":[[0.0,\"rgb(247,251,255)\"],[0.125,\"rgb(222,235,247)\"],[0.25,\"rgb(198,219,239)\"],[0.375,\"rgb(158,202,225)\"],[0.5,\"rgb(107,174,214)\"],[0.625,\"rgb(66,146,198)\"],[0.75,\"rgb(33,113,181)\"],[0.875,\"rgb(8,81,156)\"],[1.0,\"rgb(8,48,107)\"]],\"line\":{\"color\":\"Grey\",\"width\":0.5},\"showscale\":false},\"mode\":\"markers\",\"name\":\"Feasible Trial\",\"showlegend\":false,\"x\":[\"rp3\",\"merging\",\"userKnn\",\"slim\",\"itemKnn\",\"ials\",\"alpha\",\"ials\",\"itemKnn\",\"slim\",\"alpha\",\"rp3\",\"merging\",\"userKnn\",\"slim\",\"alpha\",\"ials\",\"userKnn\",\"rp3\",\"itemKnn\",\"merging\",\"slim\"],\"y\":[0.03804894432907101,0.042256470045299976,0.04996445801605586,0.05002050542864502,0.050028365273679695,0.048739358278379614,0.04877321519656129,0.03638129850256889,0.049244411198552974,0.03631244231306424,0.051081409929440415,0.04808381835901978,0.04815748685345146,0.049246824941402825,0.0492673113940813,0.04223408979123456,0.051325987357453126,0.047868327291386424,0.05126732505677672,0.042392611214340896,0.04921121084878797,0.048679933143878015],\"type\":\"scatter\",\"xaxis\":\"x2\",\"yaxis\":\"y2\"},{\"marker\":{\"color\":[13,20,30,31,32,35,778],\"colorbar\":{\"title\":{\"text\":\"Trial\"},\"x\":1.0,\"xpad\":40},\"colorscale\":[[0.0,\"rgb(247,251,255)\"],[0.125,\"rgb(222,235,247)\"],[0.25,\"rgb(198,219,239)\"],[0.375,\"rgb(158,202,225)\"],[0.5,\"rgb(107,174,214)\"],[0.625,\"rgb(66,146,198)\"],[0.75,\"rgb(33,113,181)\"],[0.875,\"rgb(8,81,156)\"],[1.0,\"rgb(8,48,107)\"]],\"line\":{\"color\":\"Grey\",\"width\":0.5},\"showscale\":false},\"mode\":\"markers\",\"name\":\"Feasible Trial\",\"showlegend\":false,\"x\":[\"easeR\",\"rp3\",\"itemKnn\",\"itemKnn\",\"itemKnn\",\"userKnn\",\"alpha\"],\"y\":[0.04919698266963051,0.03802045760921094,0.04997632558506773,0.04996860236698683,0.0447746186589919,0.04479029660193646,0.04485452645097888],\"type\":\"scatter\",\"xaxis\":\"x3\",\"yaxis\":\"y3\"},{\"marker\":{\"color\":[7,34],\"colorbar\":{\"title\":{\"text\":\"Trial\"},\"x\":1.0,\"xpad\":40},\"colorscale\":[[0.0,\"rgb(247,251,255)\"],[0.125,\"rgb(222,235,247)\"],[0.25,\"rgb(198,219,239)\"],[0.375,\"rgb(158,202,225)\"],[0.5,\"rgb(107,174,214)\"],[0.625,\"rgb(66,146,198)\"],[0.75,\"rgb(33,113,181)\"],[0.875,\"rgb(8,81,156)\"],[1.0,\"rgb(8,48,107)\"]],\"line\":{\"color\":\"Grey\",\"width\":0.5},\"showscale\":false},\"mode\":\"markers\",\"name\":\"Feasible Trial\",\"showlegend\":false,\"x\":[\"slim\",\"merging\"],\"y\":[0.04917286421709782,0.04812074179327486],\"type\":\"scatter\",\"xaxis\":\"x4\",\"yaxis\":\"y4\"},{\"marker\":{\"color\":[24,38,40,41,42,43,44,46,47,48,49,240,284,302,322,342,361],\"colorbar\":{\"title\":{\"text\":\"Trial\"},\"x\":1.0,\"xpad\":40},\"colorscale\":[[0.0,\"rgb(247,251,255)\"],[0.125,\"rgb(222,235,247)\"],[0.25,\"rgb(198,219,239)\"],[0.375,\"rgb(158,202,225)\"],[0.5,\"rgb(107,174,214)\"],[0.625,\"rgb(66,146,198)\"],[0.75,\"rgb(33,113,181)\"],[0.875,\"rgb(8,81,156)\"],[1.0,\"rgb(8,48,107)\"]],\"line\":{\"color\":\"Grey\",\"width\":0.5},\"showscale\":false},\"mode\":\"markers\",\"name\":\"Feasible Trial\",\"showlegend\":false,\"x\":[\"itemKnn\",\"userKnn\",\"userKnn\",\"userKnn\",\"userKnn\",\"userKnn\",\"userKnn\",\"userKnn\",\"userKnn\",\"userKnn\",\"userKnn\",\"alpha\",\"easeR\",\"rp3\",\"ials\",\"slim\",\"alpha\"],\"y\":[0.049203924077920486,0.05119455222793084,0.051182999659951336,0.05119052173279475,0.05120817317618262,0.051195167049222785,0.05119309866895048,0.05118446839970431,0.0511877284706289,0.051197132959279745,0.051209676072674036,0.0489616768985081,0.037494553897815475,0.04785586767224155,0.04882891345137957,0.049129416845800425,0.04491230826684221],\"type\":\"scatter\",\"xaxis\":\"x5\",\"yaxis\":\"y5\"},{\"marker\":{\"color\":[3,29],\"colorbar\":{\"title\":{\"text\":\"Trial\"},\"x\":1.0,\"xpad\":40},\"colorscale\":[[0.0,\"rgb(247,251,255)\"],[0.125,\"rgb(222,235,247)\"],[0.25,\"rgb(198,219,239)\"],[0.375,\"rgb(158,202,225)\"],[0.5,\"rgb(107,174,214)\"],[0.625,\"rgb(66,146,198)\"],[0.75,\"rgb(33,113,181)\"],[0.875,\"rgb(8,81,156)\"],[1.0,\"rgb(8,48,107)\"]],\"line\":{\"color\":\"Grey\",\"width\":0.5},\"showscale\":false},\"mode\":\"markers\",\"name\":\"Feasible Trial\",\"showlegend\":false,\"x\":[\"merging\",\"easeR\"],\"y\":[0.04243095025564479,0.03859770269367671],\"type\":\"scatter\",\"xaxis\":\"x6\",\"yaxis\":\"y6\"},{\"marker\":{\"color\":[15,19,37],\"colorbar\":{\"title\":{\"text\":\"Trial\"},\"x\":1.0,\"xpad\":40},\"colorscale\":[[0.0,\"rgb(247,251,255)\"],[0.125,\"rgb(222,235,247)\"],[0.25,\"rgb(198,219,239)\"],[0.375,\"rgb(158,202,225)\"],[0.5,\"rgb(107,174,214)\"],[0.625,\"rgb(66,146,198)\"],[0.75,\"rgb(33,113,181)\"],[0.875,\"rgb(8,81,156)\"],[1.0,\"rgb(8,48,107)\"]],\"line\":{\"color\":\"Grey\",\"width\":0.5},\"showscale\":false},\"mode\":\"markers\",\"name\":\"Feasible Trial\",\"showlegend\":false,\"x\":[\"rp3\",\"merging\",\"itemKnn\"],\"y\":[0.04224728567785245,0.04912799744355852,0.04195279386939738],\"type\":\"scatter\",\"xaxis\":\"x7\",\"yaxis\":\"y7\"},{\"marker\":{\"color\":[4,10,11,12,14,16,17,21,22,23,25,27,28],\"colorbar\":{\"title\":{\"text\":\"Trial\"},\"x\":1.0,\"xpad\":40},\"colorscale\":[[0.0,\"rgb(247,251,255)\"],[0.125,\"rgb(222,235,247)\"],[0.25,\"rgb(198,219,239)\"],[0.375,\"rgb(158,202,225)\"],[0.5,\"rgb(107,174,214)\"],[0.625,\"rgb(66,146,198)\"],[0.75,\"rgb(33,113,181)\"],[0.875,\"rgb(8,81,156)\"],[1.0,\"rgb(8,48,107)\"]],\"line\":{\"color\":\"Grey\",\"width\":0.5},\"showscale\":false},\"mode\":\"markers\",\"name\":\"Feasible Trial\",\"showlegend\":false,\"x\":[\"slim\",\"slim\",\"slim\",\"slim\",\"ials\",\"slim\",\"merging\",\"slim\",\"rp3\",\"itemKnn\",\"easeR\",\"easeR\",\"easeR\"],\"y\":[0.04976580242528092,0.04977021243973303,0.049752082802006985,0.04967247103508651,0.04832782271286534,0.04716407227262294,0.0418520125150295,0.0497802545208348,0.041605195923052285,0.048872497449630764,0.050999752553406566,0.05098235538796042,0.05097351258789727],\"type\":\"scatter\",\"xaxis\":\"x8\",\"yaxis\":\"y8\"},{\"marker\":{\"color\":[0,1,2,3,4,5,6,7,8,9,10,11,12,13,14,15,16,17,18,19,20,21,22,23,24,25,26,27,28,29,30,31,32,33,34,35,36,37,38,39,40,41,42,43,44,45,46,47,48,49,50,51,52,53,54,55,56,57,58,59,60,61,62,63,64,65,66,67,68,69,70,71,72,73,74,75,76,77,78,79,80,81,82,83,84,85,86,87,88,89,90,91,92,93,94,95,96,97,98,99,100,101,102,103,104,105,106,107,108,109,110,111,112,113,114,115,116,117,118,119,120,121,122,123,124,125,126,127,128,129,130,131,132,133,134,135,136,137,138,139,140,141,142,143,144,145,146,147,148,149,150,151,152,153,154,155,156,157,158,159,160,161,162,163,164,165,166,167,168,169,170,171,172,173,174,175,176,177,178,179,180,181,182,183,184,185,186,187,188,189,190,191,192,193,194,195,196,197,198,199,200,201,202,203,204,205,206,207,208,209,210,211,212,213,214,215,216,217,218,219,220,221,222,223,224,225,226,227,228,229,230,231,232,233,234,235,236,237,238,239,240,241,242,243,244,245,246,247,248,249,250,251,252,253,254,255,256,257,258,259,260,261,262,263,264,265,266,267,268,269,270,271,272,273,274,275,276,277,278,279,280,281,282,283,284,285,286,287,288,289,290,291,292,293,294,295,296,297,298,299,300,301,302,303,304,305,306,307,308,309,310,311,312,313,314,315,316,317,318,319,320,321,322,323,324,325,326,327,328,329,330,331,332,333,334,335,336,337,338,339,340,341,342,343,344,345,346,347,348,349,350,351,352,353,354,355,356,357,358,359,360,361,362,363,364,365,366,367,368,369,370,371,372,373,374,375,376,377,378,379,380,381,382,383,384,385,386,387,388,389,390,391,392,393,394,395,396,397,398,399,400,401,402,403,404,405,406,407,408,409,410,411,412,413,414,415,416,417,418,419,420,421,422,423,424,425,426,427,428,429,430,431,432,433,434,435,436,437,438,439,440,441,442,443,444,445,446,447,448,449,450,451,452,453,454,455,456,457,458,459,460,461,462,463,464,465,466,467,468,469,470,471,472,473,474,475,476,477,478,479,480,481,482,483,484,485,486,487,488,489,490,491,492,493,494,495,496,497,498,499,500,501,502,503,504,505,506,507,508,509,510,511,512,513,514,515,516,517,518,519,520,521,522,523,524,525,526,527,528,529,530,531,532,533,534,535,536,537,538,539,540,541,542,543,544,545,546,547,548,549,550,551,552,553,554,555,556,557,558,559,560,561,562,563,564,565,566,567,568,569,570,571,572,573,574,575,576,577,578,579,580,581,582,583,584,585,586,587,588,589,590,591,592,593,594,595,596,597,598,599,600,601,602,603,604,605,606,607,608,609,610,611,612,613,614,615,616,617,618,619,620,621,622,623,624,625,626,627,628,629,630,631,632,633,634,635,636,637,638,639,640,641,642,643,644,645,646,647,648,649,650,651,652,653,654,655,656,657,658,659,660,661,662,663,664,665,666,667,668,669,670,671,672,673,674,675,676,677,678,679,680,681,682,683,684,685,686,687,688,689,690,691,692,693,694,695,696,697,698,699,700,701,702,703,704,705,706,707,708,709,710,711,712,713,714,715,716,717,718,719,720,721,722,723,724,725,726,727,728,729,730,731,732,733,734,735,736,737,738,739,740,741,742,743,744,745,746,747,748,749,750,751,752,753,754,755,756,757,758,759,760,761,762,763,764,765,766,767,768,769,770,771,772,773,774,775,776,777,778,779,780,781,782,783,784,785,786,787,788,789,790,791,792,793,794,795,796,797,798,799],\"colorbar\":{\"title\":{\"text\":\"Trial\"},\"x\":1.0,\"xpad\":40},\"colorscale\":[[0.0,\"rgb(247,251,255)\"],[0.125,\"rgb(222,235,247)\"],[0.25,\"rgb(198,219,239)\"],[0.375,\"rgb(158,202,225)\"],[0.5,\"rgb(107,174,214)\"],[0.625,\"rgb(66,146,198)\"],[0.75,\"rgb(33,113,181)\"],[0.875,\"rgb(8,81,156)\"],[1.0,\"rgb(8,48,107)\"]],\"line\":{\"color\":\"Grey\",\"width\":0.5},\"showscale\":false},\"mode\":\"markers\",\"name\":\"Feasible Trial\",\"showlegend\":false,\"x\":[\"alpha\",\"easeR\",\"itemKnn\",\"rp3\",\"userKnn\",\"alpha\",\"alpha\",\"itemKnn\",\"rp3\",\"merging\",\"userKnn\",\"userKnn\",\"userKnn\",\"ials\",\"userKnn\",\"slim\",\"userKnn\",\"userKnn\",\"easeR\",\"slim\",\"ials\",\"userKnn\",\"userKnn\",\"userKnn\",\"merging\",\"userKnn\",\"userKnn\",\"userKnn\",\"userKnn\",\"rp3\",\"ials\",\"ials\",\"ials\",\"easeR\",\"itemKnn\",\"ials\",\"alpha\",\"slim\",\"merging\",\"merging\",\"merging\",\"merging\",\"merging\",\"merging\",\"merging\",\"merging\",\"merging\",\"merging\",\"merging\",\"merging\",\"merging\",\"merging\",\"merging\",\"merging\",\"merging\",\"merging\",\"merging\",\"itemKnn\",\"alpha\",\"rp3\",\"merging\",\"merging\",\"merging\",\"merging\",\"merging\",\"easeR\",\"merging\",\"merging\",\"slim\",\"merging\",\"rp3\",\"merging\",\"merging\",\"merging\",\"merging\",\"itemKnn\",\"alpha\",\"merging\",\"easeR\",\"merging\",\"merging\",\"merging\",\"merging\",\"merging\",\"merging\",\"merging\",\"slim\",\"merging\",\"merging\",\"merging\",\"merging\",\"merging\",\"merging\",\"merging\",\"merging\",\"rp3\",\"merging\",\"itemKnn\",\"ials\",\"alpha\",\"merging\",\"merging\",\"merging\",\"merging\",\"merging\",\"merging\",\"easeR\",\"merging\",\"merging\",\"merging\",\"merging\",\"merging\",\"merging\",\"merging\",\"merging\",\"merging\",\"slim\",\"merging\",\"merging\",\"ials\",\"merging\",\"merging\",\"merging\",\"merging\",\"merging\",\"merging\",\"rp3\",\"merging\",\"userKnn\",\"merging\",\"itemKnn\",\"merging\",\"merging\",\"merging\",\"merging\",\"alpha\",\"merging\",\"merging\",\"easeR\",\"merging\",\"merging\",\"merging\",\"merging\",\"merging\",\"merging\",\"merging\",\"merging\",\"merging\",\"slim\",\"merging\",\"merging\",\"merging\",\"merging\",\"merging\",\"merging\",\"merging\",\"merging\",\"merging\",\"merging\",\"userKnn\",\"ials\",\"merging\",\"merging\",\"merging\",\"merging\",\"merging\",\"rp3\",\"merging\",\"merging\",\"itemKnn\",\"merging\",\"merging\",\"merging\",\"merging\",\"merging\",\"alpha\",\"merging\",\"merging\",\"merging\",\"easeR\",\"merging\",\"merging\",\"merging\",\"merging\",\"merging\",\"merging\",\"merging\",\"merging\",\"merging\",\"merging\",\"slim\",\"merging\",\"merging\",\"merging\",\"merging\",\"merging\",\"merging\",\"merging\",\"merging\",\"merging\",\"merging\",\"merging\",\"merging\",\"merging\",\"merging\",\"merging\",\"merging\",\"ials\",\"merging\",\"rp3\",\"merging\",\"merging\",\"merging\",\"merging\",\"userKnn\",\"merging\",\"merging\",\"merging\",\"merging\",\"itemKnn\",\"alpha\",\"merging\",\"merging\",\"merging\",\"merging\",\"merging\",\"merging\",\"merging\",\"easeR\",\"merging\",\"merging\",\"merging\",\"merging\",\"merging\",\"merging\",\"merging\",\"merging\",\"merging\",\"merging\",\"merging\",\"merging\",\"merging\",\"merging\",\"merging\",\"merging\",\"slim\",\"merging\",\"merging\",\"merging\",\"merging\",\"merging\",\"merging\",\"merging\",\"ials\",\"merging\",\"merging\",\"merging\",\"userKnn\",\"rp3\",\"merging\",\"merging\",\"itemKnn\",\"merging\",\"alpha\",\"merging\",\"merging\",\"merging\",\"merging\",\"merging\",\"easeR\",\"merging\",\"merging\",\"merging\",\"merging\",\"merging\",\"merging\",\"slim\",\"merging\",\"merging\",\"merging\",\"merging\",\"merging\",\"merging\",\"merging\",\"merging\",\"merging\",\"ials\",\"merging\",\"merging\",\"userKnn\",\"merging\",\"rp3\",\"itemKnn\",\"merging\",\"merging\",\"merging\",\"merging\",\"alpha\",\"merging\",\"merging\",\"merging\",\"merging\",\"merging\",\"merging\",\"merging\",\"easeR\",\"merging\",\"merging\",\"merging\",\"slim\",\"merging\",\"merging\",\"merging\",\"merging\",\"merging\",\"merging\",\"ials\",\"merging\",\"merging\",\"merging\",\"rp3\",\"merging\",\"merging\",\"itemKnn\",\"userKnn\",\"merging\",\"merging\",\"alpha\",\"merging\",\"merging\",\"merging\",\"merging\",\"easeR\",\"merging\",\"merging\",\"merging\",\"merging\",\"merging\",\"merging\",\"slim\",\"merging\",\"merging\",\"merging\",\"merging\",\"merging\",\"merging\",\"merging\",\"merging\",\"ials\",\"merging\",\"merging\",\"userKnn\",\"rp3\",\"merging\",\"itemKnn\",\"merging\",\"merging\",\"merging\",\"alpha\",\"merging\",\"merging\",\"merging\",\"merging\",\"easeR\",\"easeR\",\"easeR\",\"easeR\",\"easeR\",\"easeR\",\"easeR\",\"easeR\",\"easeR\",\"easeR\",\"easeR\",\"easeR\",\"easeR\",\"easeR\",\"easeR\",\"easeR\",\"easeR\",\"easeR\",\"easeR\",\"easeR\",\"easeR\",\"easeR\",\"easeR\",\"easeR\",\"easeR\",\"easeR\",\"easeR\",\"easeR\",\"easeR\",\"easeR\",\"easeR\",\"easeR\",\"easeR\",\"easeR\",\"easeR\",\"easeR\",\"easeR\",\"easeR\",\"easeR\",\"easeR\",\"easeR\",\"easeR\",\"easeR\",\"easeR\",\"easeR\",\"easeR\",\"easeR\",\"easeR\",\"easeR\",\"easeR\",\"easeR\",\"easeR\",\"easeR\",\"easeR\",\"easeR\",\"easeR\",\"easeR\",\"easeR\",\"easeR\",\"easeR\",\"easeR\",\"easeR\",\"easeR\",\"easeR\",\"easeR\",\"easeR\",\"easeR\",\"easeR\",\"easeR\",\"easeR\",\"easeR\",\"easeR\",\"easeR\",\"easeR\",\"easeR\",\"easeR\",\"easeR\",\"easeR\",\"easeR\",\"easeR\",\"easeR\",\"easeR\",\"easeR\",\"easeR\",\"easeR\",\"easeR\",\"easeR\",\"easeR\",\"easeR\",\"easeR\",\"easeR\",\"easeR\",\"easeR\",\"easeR\",\"easeR\",\"easeR\",\"easeR\",\"easeR\",\"easeR\",\"easeR\",\"easeR\",\"easeR\",\"easeR\",\"easeR\",\"easeR\",\"easeR\",\"easeR\",\"easeR\",\"easeR\",\"easeR\",\"easeR\",\"easeR\",\"easeR\",\"easeR\",\"easeR\",\"easeR\",\"easeR\",\"easeR\",\"easeR\",\"easeR\",\"easeR\",\"easeR\",\"easeR\",\"easeR\",\"easeR\",\"easeR\",\"easeR\",\"easeR\",\"easeR\",\"easeR\",\"easeR\",\"easeR\",\"easeR\",\"easeR\",\"easeR\",\"easeR\",\"easeR\",\"easeR\",\"easeR\",\"easeR\",\"slim\",\"easeR\",\"easeR\",\"easeR\",\"easeR\",\"easeR\",\"easeR\",\"ials\",\"easeR\",\"easeR\",\"userKnn\",\"easeR\",\"itemKnn\",\"rp3\",\"easeR\",\"easeR\",\"easeR\",\"easeR\",\"easeR\",\"alpha\",\"easeR\",\"easeR\",\"easeR\",\"easeR\",\"easeR\",\"easeR\",\"easeR\",\"easeR\",\"easeR\",\"easeR\",\"slim\",\"easeR\",\"easeR\",\"easeR\",\"easeR\",\"easeR\",\"easeR\",\"easeR\",\"userKnn\",\"ials\",\"rp3\",\"easeR\",\"itemKnn\",\"easeR\",\"easeR\",\"easeR\",\"easeR\",\"alpha\",\"easeR\",\"easeR\",\"easeR\",\"easeR\",\"easeR\",\"easeR\",\"easeR\",\"easeR\",\"easeR\",\"easeR\",\"easeR\",\"easeR\",\"easeR\",\"slim\",\"easeR\",\"easeR\",\"easeR\",\"easeR\",\"easeR\",\"easeR\",\"rp3\",\"ials\",\"easeR\",\"userKnn\",\"itemKnn\",\"easeR\",\"easeR\",\"alpha\",\"easeR\",\"easeR\",\"easeR\",\"easeR\",\"easeR\",\"easeR\",\"easeR\",\"easeR\",\"easeR\",\"easeR\",\"easeR\",\"easeR\",\"easeR\",\"easeR\",\"slim\",\"easeR\",\"easeR\",\"easeR\",\"easeR\",\"easeR\",\"easeR\",\"ials\",\"easeR\",\"userKnn\",\"easeR\",\"easeR\",\"easeR\",\"alpha\",\"easeR\",\"rp3\",\"easeR\",\"easeR\",\"itemKnn\",\"easeR\",\"easeR\",\"easeR\",\"easeR\",\"easeR\",\"easeR\",\"easeR\",\"easeR\",\"easeR\",\"easeR\",\"easeR\",\"slim\",\"easeR\",\"easeR\",\"easeR\",\"easeR\",\"ials\",\"easeR\",\"easeR\",\"rp3\",\"userKnn\",\"easeR\",\"easeR\",\"easeR\",\"itemKnn\",\"easeR\",\"alpha\",\"easeR\",\"easeR\",\"easeR\",\"easeR\",\"easeR\",\"easeR\",\"easeR\",\"easeR\",\"easeR\",\"easeR\",\"easeR\",\"easeR\",\"easeR\",\"easeR\",\"slim\",\"easeR\",\"easeR\",\"easeR\",\"easeR\",\"easeR\",\"ials\",\"easeR\",\"rp3\",\"easeR\",\"easeR\",\"easeR\",\"userKnn\",\"easeR\",\"itemKnn\",\"easeR\",\"alpha\",\"easeR\",\"easeR\",\"easeR\",\"easeR\",\"easeR\",\"easeR\",\"easeR\",\"easeR\",\"easeR\",\"easeR\",\"easeR\",\"easeR\",\"easeR\",\"easeR\",\"slim\",\"easeR\",\"easeR\",\"easeR\",\"easeR\",\"ials\",\"easeR\",\"easeR\",\"userKnn\",\"easeR\",\"rp3\",\"easeR\",\"easeR\",\"itemKnn\",\"easeR\",\"easeR\",\"easeR\",\"easeR\",\"alpha\",\"easeR\",\"easeR\",\"easeR\",\"easeR\",\"easeR\",\"easeR\",\"easeR\",\"easeR\",\"easeR\",\"easeR\",\"easeR\",\"easeR\",\"slim\",\"easeR\",\"easeR\",\"easeR\",\"ials\",\"easeR\",\"easeR\",\"easeR\",\"userKnn\",\"rp3\",\"easeR\",\"itemKnn\",\"easeR\",\"easeR\",\"easeR\",\"easeR\",\"easeR\",\"easeR\",\"alpha\",\"easeR\",\"easeR\",\"easeR\",\"easeR\",\"easeR\",\"easeR\",\"easeR\",\"easeR\",\"easeR\",\"slim\",\"easeR\",\"easeR\",\"easeR\",\"easeR\",\"easeR\",\"ials\",\"easeR\",\"easeR\",\"userKnn\",\"easeR\",\"rp3\",\"easeR\",\"itemKnn\",\"easeR\",\"easeR\",\"alpha\",\"easeR\",\"easeR\",\"easeR\",\"easeR\",\"easeR\",\"easeR\",\"easeR\",\"easeR\",\"easeR\",\"easeR\",\"easeR\",\"easeR\",\"easeR\",\"slim\",\"easeR\",\"easeR\",\"easeR\",\"easeR\",\"ials\",\"easeR\",\"easeR\",\"userKnn\",\"easeR\",\"rp3\",\"easeR\",\"itemKnn\",\"easeR\",\"easeR\",\"easeR\",\"alpha\",\"easeR\",\"easeR\",\"easeR\",\"easeR\",\"easeR\",\"easeR\",\"easeR\",\"easeR\",\"easeR\",\"easeR\"],\"y\":[0.04968313932305972,0.03804894432907101,0.03772204536622125,0.04243095025564479,0.04976580242528092,0.04253860850001881,0.04966619758079281,0.04917286421709782,0.044856264649446274,0.049143675386503105,0.04977021243973303,0.049752082802006985,0.04967247103508651,0.04919698266963051,0.04832782271286534,0.04224728567785245,0.04716407227262294,0.0418520125150295,0.042256470045299976,0.04912799744355852,0.03802045760921094,0.0497802545208348,0.041605195923052285,0.048872497449630764,0.049203924077920486,0.050999752553406566,0.04857317436028295,0.05098235538796042,0.05097351258789727,0.03859770269367671,0.04997632558506773,0.04996860236698683,0.0447746186589919,0.04996445801605586,0.04812074179327486,0.04479029660193646,0.03887638372742665,0.04195279386939738,0.05119455222793084,0.048712583190634796,0.051182999659951336,0.05119052173279475,0.05120817317618262,0.051195167049222785,0.05119309866895048,0.04486632191132065,0.05118446839970431,0.0511877284706289,0.051197132959279745,0.051209676072674036,0.05124518769507358,0.051245054863312975,0.05124518769507358,0.051245054863312975,0.05124518769507358,0.05124518769507358,0.05124518769507358,0.044813728124507284,0.04867260842107884,0.04996411265347834,0.05124518769507358,0.05124518769507358,0.05124535847876578,0.05124535847876578,0.05124535847876578,0.03612029168336581,0.05124535847876578,0.05124535847876578,0.04865619041546813,0.05124631486744214,0.03844271080020928,0.05124535847876578,0.05124535847876578,0.03722888278621854,0.04781601434886682,0.04245056760908954,0.05097012727559849,0.042279484096623146,0.048733532656878846,0.05124823903037434,0.05124823903037434,0.05124823903037434,0.05124834529578282,0.05124834529578282,0.05124834529578282,0.05124834529578282,0.0491556074737986,0.05124834529578282,0.05124834529578282,0.05124834529578282,0.04915612362006838,0.05124834529578282,0.05124834529578282,0.051252474465941084,0.0374441499374555,0.04246722471186953,0.048710643846929955,0.0499886979147698,0.04767008917185919,0.04494849163843111,0.044880865091510354,0.05124823903037434,0.051252474465941084,0.051252474465941084,0.04782810962946822,0.04253071449824564,0.04923597448415795,0.05124834529578282,0.049151781919093175,0.05124631486744214,0.051263154139493734,0.051260584793724306,0.051289223321310765,0.0512491574671191,0.051248713429519366,0.04871749417058404,0.047839886113844196,0.051260584793724306,0.05126100985535825,0.04485897441736254,0.04492020985900164,0.05126111612076673,0.05126085045724552,0.051258497437486235,0.05126111612076673,0.051259506958866836,0.04883101978358361,0.05126300612696049,0.04466390148893078,0.051259639790627434,0.05122673546592894,0.05126300612696049,0.05126300612696049,0.0512599472012734,0.051263154139493734,0.04890235043902861,0.05125241753804366,0.051248478127543434,0.05005379686304587,0.05124409847463662,0.05125241753804366,0.051261548772787,0.05131493955016393,0.05128694620541468,0.05129312477987941,0.051289223321310765,0.05131493955016393,0.0393964807932868,0.03712368382701241,0.047837802552799256,0.05125241753804366,0.05127108988839162,0.05132359638576222,0.05128694620541468,0.04340389356456745,0.05125321832380047,0.051256527732236115,0.051249776083604204,0.05126048611870216,0.04667878092323439,0.03534748788574371,0.05130572861636425,0.05131341767770671,0.05131813130761162,0.04915037010723759,0.051291325858321496,0.051137525655506416,0.05131493955016393,0.05131493955016393,0.04824883335762317,0.04871749417058404,0.051255552367593944,0.05132359638576222,0.05131493955016393,0.05132359638576222,0.04967534779150189,0.05125292229873397,0.04495564557753798,0.05132350150593321,0.04254756895106993,0.05125329802285682,0.05131813130761162,0.0512595297300258,0.051244830946916536,0.05132359638576222,0.05126048611870216,0.05125446694235014,0.05124409847463662,0.0372012120328879,0.05132350150593321,0.05003983814260281,0.05132359638576222,0.05132350150593321,0.05132350150593321,0.051248595778531386,0.0512491574671191,0.047984513334791264,0.051261548772787,0.04280531949454154,0.05132350150593321,0.051259639790627434,0.05132350150593321,0.05124440588528258,0.051245309141254705,0.05131493955016393,0.05126137798909479,0.05132359638576222,0.048792274656611706,0.049153835118592816,0.0478255592596646,0.05124440588528258,0.05132350150593321,0.05130572861636425,0.051244830946916536,0.041361377533671424,0.05131493955016393,0.05124371516012744,0.05124535847876578,0.048706685460463923,0.04921906310343633,0.042788237330127724,0.05132350150593321,0.05129383068580718,0.05131493955016393,0.051244830946916536,0.05126048611870216,0.0512501669884997,0.044898087678071116,0.05116286236504359,0.05131493955016393,0.05132350150593321,0.051255552367593944,0.05132359638576222,0.05124371516012744,0.05131493955016393,0.05126048611870216,0.051245309141254705,0.05124594673370562,0.05124409847463662,0.05132350150593321,0.0489616768985081,0.05132359638576222,0.05132359638576222,0.051244830946916536,0.03783796574610496,0.042260379094254986,0.05124594673370562,0.05126111612076673,0.05132350150593321,0.047839912680196287,0.05124936999793607,0.04340696767102717,0.05125329802285682,0.04700309535954196,0.05132350150593321,0.0512595297300258,0.05126111612076673,0.04808099473530889,0.044854181088401356,0.05126048611870216,0.05131341767770671,0.04814141041522505,0.04915577825749081,0.050984032863337275,0.051259506958866836,0.05124594673370562,0.05131493955016393,0.051261123711153066,0.04871784332835477,0.0482512964379841,0.05124535847876578,0.05124936999793607,0.04514041076134673,0.05132350150593321,0.05126048611870216,0.051260584793724306,0.04473727395829599,0.05132350150593321,0.05125329802285682,0.05132359638576222,0.051244830946916536,0.05126048611870216,0.05125943485019679,0.05124936999793607,0.037494553897815475,0.05132359638576222,0.047233137197751435,0.0512595297300258,0.037237805285338064,0.04763065711492506,0.04785129825967675,0.04895581332507566,0.04482851419705923,0.05125382934989925,0.05126111612076673,0.0422622311485171,0.05124936999793607,0.04888449785040326,0.05124921059982335,0.051261548772787,0.05131813130761162,0.051245054863312975,0.04785586767224155,0.05132359638576222,0.049157884589694695,0.04875119928103935,0.051251916572546526,0.05131493955016393,0.05124594673370562,0.04167206343134099,0.04871011251988754,0.05132359638576222,0.051245054863312975,0.0512599472012734,0.05124518769507358,0.04490286203106659,0.050813363026925296,0.05124594673370562,0.05132359638576222,0.051251916572546526,0.04347909531703585,0.051244830946916536,0.04882891345137957,0.04998232199026075,0.04555960502665815,0.05125446694235014,0.0512491574671191,0.04021273955259269,0.0512546149548834,0.03835711401367518,0.05126111612076673,0.05132359638576222,0.03691936960323566,0.0512546149548834,0.04780470846844274,0.05124936999793607,0.05132350150593321,0.04257804435214591,0.05132350150593321,0.04785840665646572,0.05124535847876578,0.05126059238411064,0.049129416845800425,0.0512491574671191,0.05124409847463662,0.049151721196002605,0.0512501669884997,0.05125421645960158,0.036139491565563016,0.051259639790627434,0.05125321832380047,0.04474634067475567,0.040068055403748234,0.04870576322852602,0.03911551125806132,0.05124631486744214,0.051261541182400665,0.051251916572546526,0.044955861903548104,0.05125321832380047,0.051259639790627434,0.04491230826684221,0.05125382934989925,0.05133656456079047,0.05133847733814318,0.05133346009278546,0.05133346009278546,0.05133346009278546,0.05133346009278546,0.05133346009278546,0.05133346009278546,0.05133346009278546,0.05133346009278546,0.05133346009278546,0.0513328756330388,0.05133346009278546,0.05133346009278546,0.05133346009278546,0.05133346009278546,0.05133346009278546,0.05133346009278546,0.05133346009278546,0.05133346009278546,0.05133346009278546,0.05133346009278546,0.05133346009278546,0.05002050542864502,0.05133346009278546,0.05133346009278546,0.05133346009278546,0.05133346009278546,0.0513328756330388,0.05133346009278546,0.05133346009278546,0.05133346009278546,0.05133346009278546,0.0513328756330388,0.0513328756330388,0.05133346009278546,0.05133346009278546,0.0513328756330388,0.05133346009278546,0.0513328756330388,0.05133346009278546,0.0513328756330388,0.05133346009278546,0.05133346009278546,0.050028365273679695,0.0513328756330388,0.05133346009278546,0.05133346009278546,0.0513328756330388,0.0513328756330388,0.05133346009278546,0.05133346009278546,0.05133346009278546,0.0513328756330388,0.049275539372852506,0.0513328756330388,0.05005190685685212,0.0513328756330388,0.04171842171579217,0.05133346009278546,0.05133346009278546,0.051334416481461816,0.05133346009278546,0.048739358278379614,0.0480796815984752,0.05133346009278546,0.04873576802565016,0.03631311785744676,0.051334416481461816,0.051334416481461816,0.05133175984624971,0.051334416481461816,0.05133335382737698,0.05133335382737698,0.05133346009278546,0.0513328756330388,0.0513328756330388,0.051334416481461816,0.05133175984624971,0.05133346009278546,0.05133263274067655,0.05133346009278546,0.0513328756330388,0.04877321519656129,0.051334416481461816,0.05133175984624971,0.05133346009278546,0.0513328756330388,0.051334416481461816,0.05133175984624971,0.05133346009278546,0.05133550190670563,0.05133550190670563,0.05133560817211411,0.05133550190670563,0.049292477319926274,0.05004433544649762,0.04176286722289069,0.05133550190670563,0.051337027574356,0.04819145762742798,0.051336894742595396,0.051337027574356,0.03638129850256889,0.05133657594636995,0.03640415315577933,0.04874087635564373,0.05133560817211411,0.05133560817211411,0.051337027574356,0.05133657594636995,0.051337027574356,0.051337027574356,0.051337027574356,0.051337027574356,0.051336894742595396,0.051337027574356,0.05133550190670563,0.051337027574356,0.05133607118567964,0.051337027574356,0.051337027574356,0.05133607118567964,0.05133596492027116,0.049244411198552974,0.05133798396303236,0.05133798396303236,0.051337027574356,0.0513390086651856,0.05133798396303236,0.0513390086651856,0.05133607118567964,0.04932471369062857,0.0513390086651856,0.05004801678386297,0.0513390086651856,0.0513390086651856,0.041786226636791414,0.05133935402776317,0.0513390086651856,0.04919193885792071,0.051339221196002566,0.04820467249001164,0.05133935402776317,0.03631244231306424,0.05133669739255107,0.036472178197981875,0.04817256895106997,0.0487492599373345,0.0513390086651856,0.04829421248223924,0.0513364848617341,0.042574742534096544,0.04995917131198382,0.0513364848617341,0.0513328756330388,0.0513390086651856,0.05133772968509063,0.05133968800476127,0.04867278679515735,0.05133772968509063,0.05133968800476127,0.05133968800476127,0.05133821167462198,0.051081409929440415,0.05134282283431156,0.0513328756330388,0.05133847733814318,0.05133968800476127,0.05133968800476127,0.048729080895301966,0.05133968800476127,0.05134282283431156,0.05133847733814318,0.05132813543678178,0.05133847733814318,0.05133847733814318,0.050043481528036594,0.04448920115738269,0.049941034083871474,0.047826587757011,0.05133847733814318,0.051230135959000424,0.05133847733814318,0.04808381835901978,0.049289968697247374,0.04181867174311759,0.05096407014731489,0.05133847733814318,0.05133667082619896,0.04822571304089152,0.0513328756330388,0.05133772968509063,0.04873329355970974,0.0513328756330388,0.036488603793979016,0.0513328756330388,0.05133772968509063,0.0513328756330388,0.051333794069783556,0.0513364848617341,0.03657791607461683,0.05133669739255107,0.04815748685345146,0.051333794069783556,0.0513328756330388,0.05133346009278546,0.05133935402776317,0.051147480447165494,0.04480684364411473,0.0513328756330388,0.04136792803706585,0.049201335756185245,0.05133335382737698,0.0513390086651856,0.050982666593799644,0.051334416481461816,0.051337027574356,0.0513328376811072,0.0513390086651856,0.051334416481461816,0.05133798396303236,0.049246824941402825,0.05004742093853682,0.0513390086651856,0.0513328756330388,0.04927919793905888,0.04177047278998364,0.05133550190670563,0.04820116573153166,0.044678858345174995,0.0513328756330388,0.0513390086651856,0.051338496314108986,0.0487382500819769,0.03637160937443105,0.05133607118567964,0.050847405909571826,0.0513390086651856,0.047725669775689615,0.05133690992336804,0.05133335382737698,0.0492673113940813,0.04967083151164136,0.051335767570226856,0.04995922444468806,0.05133560817211411,0.05133346009278546,0.049982561087429836,0.0513390086651856,0.05133263274067655,0.05133690992336804,0.051333794069783556,0.05133346009278546,0.0513390086651856,0.05133523244799128,0.0513328756330388,0.05133560817211411,0.05133772968509063,0.05133263274067655,0.05003549644162761,0.04223408979123456,0.049319635722180295,0.05133346009278546,0.050050199019930054,0.04814748272428135,0.05133772968509063,0.05133550190670563,0.04484818847840146,0.04673506743299263,0.05133690992336804,0.04819145762742798,0.05134299361800376,0.0381592326423049,0.05133457967476772,0.04255062787675701,0.03655748654983577,0.04176582747355561,0.05133968800476127,0.04874263353007687,0.051325987357453126,0.05134282283431156,0.051329729417909045,0.05132064372548365,0.0513328756330388,0.05134299361800376,0.0513328756330388,0.051321672222830045,0.05134282283431156,0.051329729417909045,0.041786317721427345,0.05133847733814318,0.0513328756330388,0.05133175984624971,0.05134282283431156,0.051317288774730074,0.04724166120158903,0.051321672222830045,0.0387781565380556,0.047868327291386424,0.051337027574356,0.05134282283431156,0.04851776074495164,0.05131519003291251,0.04921203820089689,0.05003756102670675,0.04867663132582858,0.05133968800476127,0.049305126698729045,0.051321672222830045,0.051337027574356,0.04163985362699075,0.05134282283431156,0.051320715834153686,0.04820937093914391,0.05133847733814318,0.05130682163199439,0.048741980756853334,0.05134282283431156,0.05126732505677672,0.03697976251199316,0.0500614479724567,0.05133847733814318,0.05130610434048712,0.051337027574356,0.051334416481461816,0.04806397708917856,0.05132064372548365,0.051337027574356,0.04673981521963598,0.0513328756330388,0.047817259172223334,0.05133914149694621,0.05134282283431156,0.04286150732927755,0.05133847733814318,0.0513100779077258,0.05133656456079047,0.05133968800476127,0.04252488128635852,0.05131370231719373,0.0513328756330388,0.0513328756330388,0.05134282283431156,0.05131079899442623,0.04931552552798786,0.05134282283431156,0.05001581077470593,0.05133847733814318,0.05129952727074059,0.04176352379130739,0.05133821167462198,0.04473522834918266,0.051334416481461816,0.048194937819555854,0.05133968800476127,0.03622227231877224,0.05133847733814318,0.042392611214340896,0.05132877302923267,0.04706208404683032,0.05115765156483469,0.036517936841913824,0.048118525400469334,0.05133550190670563,0.0513074402484795,0.048734534587873114,0.0513328756330388,0.051334416481461816,0.0513390086651856,0.03939689067414822,0.051329729417909045,0.0513390086651856,0.05133346009278546,0.05133287183784564,0.051337027574356,0.05130837766119004,0.04921121084878797,0.0513390086651856,0.05133175984624971,0.04780887559053259,0.05129001651668128,0.05133914149694621,0.0513328756330388,0.049213320976185006,0.051337027574356,0.05080135124057341,0.04999661848289504,0.05133346009278546,0.046099281494031606,0.05133669739255107,0.04882431367726963,0.04184730647551093,0.04482143616181555,0.051321672222830045,0.04815260623504751,0.04494249523323806,0.05133914149694621,0.05129001651668128,0.051337027574356,0.036640650617554164,0.04874681583293936,0.0513328756330388,0.05130290119745996,0.05133346009278546,0.05133669739255107,0.05133847733814318,0.051337027574356,0.051280566485712525,0.05133669739255107,0.049214444353360406,0.05133175984624971,0.05133607118567964,0.0513328756330388,0.05133847733814318,0.04485452645097888,0.05130956555664917,0.05133346009278546,0.047808997036713693,0.05133818510826985,0.042735586615416946,0.051334416481461816,0.05122808655469395,0.04923379983847718,0.05133772968509063,0.04993407369961577,0.0488929231792188,0.05133273900608504,0.0513328756330388,0.051338496314108986,0.051334416481461816,0.048218984163418556,0.04208384947960368,0.05133346009278546,0.048679933143878015,0.05133935402776317,0.05133079207199388],\"type\":\"scatter\",\"xaxis\":\"x9\",\"yaxis\":\"y9\"},{\"marker\":{\"color\":[2,5,6,8,9,26,36,39,45,50,51,52,53,54,55,56,57,58,59,60,61,62,63,64,65,66,67,68,69,70,71,72,73,74,75,76,77,78,79,80,81,82,83,84,85,86,87,88,89,90,91,92,93,94,95,96,97,98,99,100,101,102,103,104,105,106,107,108,109,110,111,112,113,114,115,116,117,118,119,120,121,122,123,124,125,126,127,128,129,130,131,132,133,134,135,136,137,138,139,140,141,142,143,144,145,146,147,148,149,150,151,152,153,154,155,156,157,158,159,160,161,162,163,164,165,166,167,168,169,170,171,172,173,174,175,176,177,178,179,180,181,182,183,184,185,186,187,188,189,190,191,192,193,194,195,196,197,198,199,200,201,202,203,204,205,206,207,208,209,210,211,212,213,214,215,216,217,218,219,220,221,222,223,224,225,226,227,228,229,230,231,232,233,234,235,236,237,238,239,241,242,243,244,245,246,247,248,249,250,251,252,253,254,255,256,257,258,259,260,261,262,264,265,266,267,268,269,270,271,272,273,274,275,276,277,278,279,280,281,282,283,285,286,287,288,289,290,291,292,293,294,295,296,297,298,299,300,301,303,304,305,306,307,308,309,310,311,312,313,314,315,316,317,318,319,320,321,323,324,325,326,327,328,329,330,331,332,333,334,335,336,337,338,339,340,341,343,344,345,346,347,348,349,350,351,352,353,354,355,356,357,358,359,360,362,363,364,365,366,367,368,369,370,371,372,373,374,375,376,377,378,379,380,381,382,383,384,385,387,388,389,390,391,392,393,394,395,396,397,398,399,400,401,402,403,404,405,406,408,409,410,411,412,413,414,415,416,417,418,419,420,421,422,423,424,425,427,428,429,430,431,432,433,434,435,436,437,438,439,440,441,442,443,444,445,447,448,449,450,451,452,453,454,455,456,457,458,459,460,461,462,463,464,465,467,468,469,470,471,472,473,474,475,476,477,478,479,480,481,482,483,484,485,486,488,489,490,491,492,493,494,495,496,497,498,499,500,501,502,503,504,505,506,508,509,510,511,512,513,514,515,516,517,518,519,520,521,522,523,524,525,526,528,529,530,531,532,533,534,535,536,537,538,539,540,541,542,543,544,545,546,548,549,550,551,552,553,554,555,556,557,558,559,560,561,562,563,564,565,567,568,569,570,571,572,573,574,575,576,577,578,579,580,581,582,583,584,586,587,588,589,590,591,592,593,594,595,596,597,598,599,600,601,602,603,604,606,607,608,609,610,611,612,613,614,615,616,617,618,619,620,621,622,623,625,626,627,628,629,630,631,632,633,634,635,636,637,638,639,640,641,642,644,645,646,647,648,649,650,651,652,653,654,655,656,657,658,659,660,661,663,664,665,666,667,668,669,670,671,672,673,674,675,676,677,678,679,680,681,683,684,685,686,687,688,689,690,691,692,693,694,695,696,697,698,699,700,701,703,704,705,706,707,708,709,710,711,712,713,714,715,716,717,718,719,720,722,723,724,725,726,727,728,729,730,731,732,733,734,735,736,737,738,739,741,742,743,744,745,746,747,748,749,750,751,752,753,754,755,756,757,758,760,761,762,763,764,765,766,767,768,769,770,771,772,773,774,775,776,777,779,780,781,782,783,784,785,786,787,788,789,790,791,792,793,794,795,796,798,799],\"colorbar\":{\"title\":{\"text\":\"Trial\"},\"x\":1.0,\"xpad\":40},\"colorscale\":[[0.0,\"rgb(247,251,255)\"],[0.125,\"rgb(222,235,247)\"],[0.25,\"rgb(198,219,239)\"],[0.375,\"rgb(158,202,225)\"],[0.5,\"rgb(107,174,214)\"],[0.625,\"rgb(66,146,198)\"],[0.75,\"rgb(33,113,181)\"],[0.875,\"rgb(8,81,156)\"],[1.0,\"rgb(8,48,107)\"]],\"line\":{\"color\":\"Grey\",\"width\":0.5},\"showscale\":false},\"mode\":\"markers\",\"name\":\"Feasible Trial\",\"showlegend\":false,\"x\":[968,2342,2836,133,807,1886,1380,324,2823,1802,1916,1800,1944,1899,1865,1892,1845,1698,2218,1466,1476,1380,1278,1188,1100,1179,1124,1212,754,724,1226,1215,1217,997,819,1260,1023,1300,573,541,557,516,485,472,492,479,503,491,471,167,511,420,344,338,298,426,216,60,690,434,613,351,343,337,230,652,483,339,830,267,233,68,107,89,52,141,235,243,267,137,210,223,206,214,199,202,259,261,193,189,255,255,250,267,274,139,389,267,2510,139,176,52,60,65,68,53,53,93,113,139,79,51,61,52,100,152,87,162,301,1654,57,55,54,97,66,77,52,52,66,52,136,51,53,51,51,130,110,50,50,147,54,170,110,51,165,142,2939,2041,50,181,51,50,50,127,107,52,176,120,50,187,50,123,119,52,179,51,120,54,170,122,50,57,110,196,53,116,890,112,183,120,50,58,52,110,166,103,209,63,52,50,137,51,117,52,163,120,109,2490,50,51,51,113,167,53,109,218,50,157,106,50,146,104,50,170,213,104,110,163,55,113,53,198,108,53,158,212,120,1385,106,50,50,165,231,98,50,147,51,112,163,288,104,51,50,168,1066,229,107,50,148,99,214,1610,105,147,102,175,54,2228,51,108,224,150,52,108,168,100,51,1990,247,1785,187,304,109,51,149,51,112,193,51,142,107,50,153,104,212,51,111,154,274,105,50,195,50,111,935,161,107,2682,235,103,156,108,192,100,54,51,152,51,736,232,149,119,100,191,99,157,165,317,324,348,325,319,414,414,410,399,450,402,407,397,369,401,422,398,412,394,405,395,409,392,414,390,542,392,360,443,415,615,501,338,367,460,412,564,332,497,389,336,448,408,327,518,459,377,342,424,583,299,507,390,467,313,368,422,300,314,526,362,467,324,294,293,285,303,290,289,345,465,637,303,285,338,277,351,473,291,281,330,552,294,284,341,268,270,258,270,279,279,274,269,250,247,252,247,255,237,257,259,257,251,255,245,249,240,243,253,242,270,242,224,234,245,231,233,222,218,240,210,221,206,229,212,211,224,211,213,212,200,212,199,205,206,203,197,196,203,210,208,201,199,200,204,199,1345,213,185,179,184,182,178,178,167,173,798,162,174,175,162,178,172,165,150,165,161,1145,160,1470,156,164,155,161,162,157,150,166,156,173,1576,185,147,2108,192,1699,187,2875,138,199,156,197,138,2559,315,202,209,304,990,213,136,288,206,220,307,235,134,210,295,218,269,215,2386,320,228,269,214,315,1266,206,216,337,260,232,320,207,260,194,290,200,124,139,258,327,126,210,275,195,137,328,211,126,1849,259,186,276,130,198,326,236,122,188,265,126,337,195,247,169,121,130,864,171,272,174,119,171,148,118,1938,168,2758,114,170,148,120,162,1044,281,170,111,170,113,171,242,170,131,109,174,293,109,175,179,114,250,2280,170,116,163,164,106,250,173,100,166,164,104,245,301,170,118,237,341,2130,104,180,173,100,164,102,157,175,110,1190,1760,173,101,247,173,159,160,95,263,167,95,299,228,175,99,158,146,96,247,181,1546,268,99,170,698,296,208,99,149,213,335,151,245,103,210,280,154,91,180,919,2981,235,297,145,347,95,198,247,153,210,113,282,180,91,239,153,290,1372,96,346,198,159,240,89,197,141,284,230,1107,162,100,343,245,181,134,292,212,107,188,86,252,153,2622,217,291,144,88,356,204,142],\"y\":[0.03772204536622125,0.04253860850001881,0.04966619758079281,0.044856264649446274,0.049143675386503105,0.04857317436028295,0.03887638372742665,0.048712583190634796,0.04486632191132065,0.05124518769507358,0.051245054863312975,0.05124518769507358,0.051245054863312975,0.05124518769507358,0.05124518769507358,0.05124518769507358,0.044813728124507284,0.04867260842107884,0.04996411265347834,0.05124518769507358,0.05124518769507358,0.05124535847876578,0.05124535847876578,0.05124535847876578,0.03612029168336581,0.05124535847876578,0.05124535847876578,0.04865619041546813,0.05124631486744214,0.03844271080020928,0.05124535847876578,0.05124535847876578,0.03722888278621854,0.04781601434886682,0.04245056760908954,0.05097012727559849,0.042279484096623146,0.048733532656878846,0.05124823903037434,0.05124823903037434,0.05124823903037434,0.05124834529578282,0.05124834529578282,0.05124834529578282,0.05124834529578282,0.0491556074737986,0.05124834529578282,0.05124834529578282,0.05124834529578282,0.04915612362006838,0.05124834529578282,0.05124834529578282,0.051252474465941084,0.0374441499374555,0.04246722471186953,0.048710643846929955,0.0499886979147698,0.04767008917185919,0.04494849163843111,0.044880865091510354,0.05124823903037434,0.051252474465941084,0.051252474465941084,0.04782810962946822,0.04253071449824564,0.04923597448415795,0.05124834529578282,0.049151781919093175,0.05124631486744214,0.051263154139493734,0.051260584793724306,0.051289223321310765,0.0512491574671191,0.051248713429519366,0.04871749417058404,0.047839886113844196,0.051260584793724306,0.05126100985535825,0.04485897441736254,0.04492020985900164,0.05126111612076673,0.05126085045724552,0.051258497437486235,0.05126111612076673,0.051259506958866836,0.04883101978358361,0.05126300612696049,0.04466390148893078,0.051259639790627434,0.05122673546592894,0.05126300612696049,0.05126300612696049,0.0512599472012734,0.051263154139493734,0.04890235043902861,0.05125241753804366,0.051248478127543434,0.05005379686304587,0.05124409847463662,0.05125241753804366,0.051261548772787,0.05131493955016393,0.05128694620541468,0.05129312477987941,0.051289223321310765,0.05131493955016393,0.0393964807932868,0.03712368382701241,0.047837802552799256,0.05125241753804366,0.05127108988839162,0.05132359638576222,0.05128694620541468,0.04340389356456745,0.05125321832380047,0.051256527732236115,0.051249776083604204,0.05126048611870216,0.04667878092323439,0.03534748788574371,0.05130572861636425,0.05131341767770671,0.05131813130761162,0.04915037010723759,0.051291325858321496,0.051137525655506416,0.05131493955016393,0.05131493955016393,0.04824883335762317,0.04871749417058404,0.051255552367593944,0.05132359638576222,0.05131493955016393,0.05132359638576222,0.04967534779150189,0.05125292229873397,0.04495564557753798,0.05132350150593321,0.04254756895106993,0.05125329802285682,0.05131813130761162,0.0512595297300258,0.051244830946916536,0.05132359638576222,0.05126048611870216,0.05125446694235014,0.05124409847463662,0.0372012120328879,0.05132350150593321,0.05003983814260281,0.05132359638576222,0.05132350150593321,0.05132350150593321,0.051248595778531386,0.0512491574671191,0.047984513334791264,0.051261548772787,0.04280531949454154,0.05132350150593321,0.051259639790627434,0.05132350150593321,0.05124440588528258,0.051245309141254705,0.05131493955016393,0.05126137798909479,0.05132359638576222,0.048792274656611706,0.049153835118592816,0.0478255592596646,0.05124440588528258,0.05132350150593321,0.05130572861636425,0.051244830946916536,0.041361377533671424,0.05131493955016393,0.05124371516012744,0.05124535847876578,0.048706685460463923,0.04921906310343633,0.042788237330127724,0.05132350150593321,0.05129383068580718,0.05131493955016393,0.051244830946916536,0.05126048611870216,0.0512501669884997,0.044898087678071116,0.05116286236504359,0.05131493955016393,0.05132350150593321,0.051255552367593944,0.05132359638576222,0.05124371516012744,0.05131493955016393,0.05126048611870216,0.051245309141254705,0.05124594673370562,0.05124409847463662,0.05132350150593321,0.05132359638576222,0.05132359638576222,0.051244830946916536,0.03783796574610496,0.042260379094254986,0.05124594673370562,0.05126111612076673,0.05132350150593321,0.047839912680196287,0.05124936999793607,0.04340696767102717,0.05125329802285682,0.04700309535954196,0.05132350150593321,0.0512595297300258,0.05126111612076673,0.04808099473530889,0.044854181088401356,0.05126048611870216,0.05131341767770671,0.04814141041522505,0.04915577825749081,0.051259506958866836,0.05124594673370562,0.05131493955016393,0.051261123711153066,0.04871784332835477,0.0482512964379841,0.05124535847876578,0.05124936999793607,0.04514041076134673,0.05132350150593321,0.05126048611870216,0.051260584793724306,0.04473727395829599,0.05132350150593321,0.05125329802285682,0.05132359638576222,0.051244830946916536,0.05126048611870216,0.05125943485019679,0.05124936999793607,0.05132359638576222,0.047233137197751435,0.0512595297300258,0.037237805285338064,0.04763065711492506,0.04785129825967675,0.04895581332507566,0.04482851419705923,0.05125382934989925,0.05126111612076673,0.0422622311485171,0.05124936999793607,0.04888449785040326,0.05124921059982335,0.051261548772787,0.05131813130761162,0.051245054863312975,0.05132359638576222,0.049157884589694695,0.04875119928103935,0.051251916572546526,0.05131493955016393,0.05124594673370562,0.04167206343134099,0.04871011251988754,0.05132359638576222,0.051245054863312975,0.0512599472012734,0.05124518769507358,0.04490286203106659,0.050813363026925296,0.05124594673370562,0.05132359638576222,0.051251916572546526,0.04347909531703585,0.051244830946916536,0.04998232199026075,0.04555960502665815,0.05125446694235014,0.0512491574671191,0.04021273955259269,0.0512546149548834,0.03835711401367518,0.05126111612076673,0.05132359638576222,0.03691936960323566,0.0512546149548834,0.04780470846844274,0.05124936999793607,0.05132350150593321,0.04257804435214591,0.05132350150593321,0.04785840665646572,0.05124535847876578,0.05126059238411064,0.0512491574671191,0.05124409847463662,0.049151721196002605,0.0512501669884997,0.05125421645960158,0.036139491565563016,0.051259639790627434,0.05125321832380047,0.04474634067475567,0.040068055403748234,0.04870576322852602,0.03911551125806132,0.05124631486744214,0.051261541182400665,0.051251916572546526,0.044955861903548104,0.05125321832380047,0.051259639790627434,0.05125382934989925,0.05133656456079047,0.05133847733814318,0.05133346009278546,0.05133346009278546,0.05133346009278546,0.05133346009278546,0.05133346009278546,0.05133346009278546,0.05133346009278546,0.05133346009278546,0.05133346009278546,0.0513328756330388,0.05133346009278546,0.05133346009278546,0.05133346009278546,0.05133346009278546,0.05133346009278546,0.05133346009278546,0.05133346009278546,0.05133346009278546,0.05133346009278546,0.05133346009278546,0.05133346009278546,0.05133346009278546,0.05133346009278546,0.05133346009278546,0.05133346009278546,0.0513328756330388,0.05133346009278546,0.05133346009278546,0.05133346009278546,0.05133346009278546,0.0513328756330388,0.0513328756330388,0.05133346009278546,0.05133346009278546,0.0513328756330388,0.05133346009278546,0.0513328756330388,0.05133346009278546,0.0513328756330388,0.05133346009278546,0.05133346009278546,0.0513328756330388,0.05133346009278546,0.05133346009278546,0.0513328756330388,0.0513328756330388,0.05133346009278546,0.05133346009278546,0.05133346009278546,0.0513328756330388,0.049275539372852506,0.0513328756330388,0.05005190685685212,0.0513328756330388,0.04171842171579217,0.05133346009278546,0.05133346009278546,0.051334416481461816,0.05133346009278546,0.0480796815984752,0.05133346009278546,0.04873576802565016,0.03631311785744676,0.051334416481461816,0.051334416481461816,0.05133175984624971,0.051334416481461816,0.05133335382737698,0.05133335382737698,0.05133346009278546,0.0513328756330388,0.0513328756330388,0.051334416481461816,0.05133175984624971,0.05133346009278546,0.05133263274067655,0.05133346009278546,0.0513328756330388,0.051334416481461816,0.05133175984624971,0.05133346009278546,0.0513328756330388,0.051334416481461816,0.05133175984624971,0.05133346009278546,0.05133550190670563,0.05133550190670563,0.05133560817211411,0.05133550190670563,0.049292477319926274,0.05004433544649762,0.04176286722289069,0.05133550190670563,0.051337027574356,0.04819145762742798,0.051336894742595396,0.051337027574356,0.05133657594636995,0.03640415315577933,0.04874087635564373,0.05133560817211411,0.05133560817211411,0.051337027574356,0.05133657594636995,0.051337027574356,0.051337027574356,0.051337027574356,0.051337027574356,0.051336894742595396,0.051337027574356,0.05133550190670563,0.051337027574356,0.05133607118567964,0.051337027574356,0.051337027574356,0.05133607118567964,0.05133596492027116,0.05133798396303236,0.05133798396303236,0.051337027574356,0.0513390086651856,0.05133798396303236,0.0513390086651856,0.05133607118567964,0.04932471369062857,0.0513390086651856,0.05004801678386297,0.0513390086651856,0.0513390086651856,0.041786226636791414,0.05133935402776317,0.0513390086651856,0.04919193885792071,0.051339221196002566,0.04820467249001164,0.05133935402776317,0.05133669739255107,0.036472178197981875,0.04817256895106997,0.0487492599373345,0.0513390086651856,0.04829421248223924,0.0513364848617341,0.042574742534096544,0.04995917131198382,0.0513364848617341,0.0513328756330388,0.0513390086651856,0.05133772968509063,0.05133968800476127,0.04867278679515735,0.05133772968509063,0.05133968800476127,0.05133968800476127,0.05133821167462198,0.05134282283431156,0.0513328756330388,0.05133847733814318,0.05133968800476127,0.05133968800476127,0.048729080895301966,0.05133968800476127,0.05134282283431156,0.05133847733814318,0.05132813543678178,0.05133847733814318,0.05133847733814318,0.050043481528036594,0.04448920115738269,0.049941034083871474,0.047826587757011,0.05133847733814318,0.051230135959000424,0.05133847733814318,0.049289968697247374,0.04181867174311759,0.05096407014731489,0.05133847733814318,0.05133667082619896,0.04822571304089152,0.0513328756330388,0.05133772968509063,0.04873329355970974,0.0513328756330388,0.036488603793979016,0.0513328756330388,0.05133772968509063,0.0513328756330388,0.051333794069783556,0.0513364848617341,0.03657791607461683,0.05133669739255107,0.051333794069783556,0.0513328756330388,0.05133346009278546,0.05133935402776317,0.051147480447165494,0.04480684364411473,0.0513328756330388,0.04136792803706585,0.049201335756185245,0.05133335382737698,0.0513390086651856,0.050982666593799644,0.051334416481461816,0.051337027574356,0.0513328376811072,0.0513390086651856,0.051334416481461816,0.05133798396303236,0.05004742093853682,0.0513390086651856,0.0513328756330388,0.04927919793905888,0.04177047278998364,0.05133550190670563,0.04820116573153166,0.044678858345174995,0.0513328756330388,0.0513390086651856,0.051338496314108986,0.0487382500819769,0.03637160937443105,0.05133607118567964,0.050847405909571826,0.0513390086651856,0.047725669775689615,0.05133690992336804,0.05133335382737698,0.04967083151164136,0.051335767570226856,0.04995922444468806,0.05133560817211411,0.05133346009278546,0.049982561087429836,0.0513390086651856,0.05133263274067655,0.05133690992336804,0.051333794069783556,0.05133346009278546,0.0513390086651856,0.05133523244799128,0.0513328756330388,0.05133560817211411,0.05133772968509063,0.05133263274067655,0.05003549644162761,0.049319635722180295,0.05133346009278546,0.050050199019930054,0.04814748272428135,0.05133772968509063,0.05133550190670563,0.04484818847840146,0.04673506743299263,0.05133690992336804,0.04819145762742798,0.05134299361800376,0.0381592326423049,0.05133457967476772,0.04255062787675701,0.03655748654983577,0.04176582747355561,0.05133968800476127,0.04874263353007687,0.05134282283431156,0.051329729417909045,0.05132064372548365,0.0513328756330388,0.05134299361800376,0.0513328756330388,0.051321672222830045,0.05134282283431156,0.051329729417909045,0.041786317721427345,0.05133847733814318,0.0513328756330388,0.05133175984624971,0.05134282283431156,0.051317288774730074,0.04724166120158903,0.051321672222830045,0.0387781565380556,0.051337027574356,0.05134282283431156,0.04851776074495164,0.05131519003291251,0.04921203820089689,0.05003756102670675,0.04867663132582858,0.05133968800476127,0.049305126698729045,0.051321672222830045,0.051337027574356,0.04163985362699075,0.05134282283431156,0.051320715834153686,0.04820937093914391,0.05133847733814318,0.05130682163199439,0.048741980756853334,0.05134282283431156,0.03697976251199316,0.0500614479724567,0.05133847733814318,0.05130610434048712,0.051337027574356,0.051334416481461816,0.04806397708917856,0.05132064372548365,0.051337027574356,0.04673981521963598,0.0513328756330388,0.047817259172223334,0.05133914149694621,0.05134282283431156,0.04286150732927755,0.05133847733814318,0.0513100779077258,0.05133656456079047,0.05133968800476127,0.05131370231719373,0.0513328756330388,0.0513328756330388,0.05134282283431156,0.05131079899442623,0.04931552552798786,0.05134282283431156,0.05001581077470593,0.05133847733814318,0.05129952727074059,0.04176352379130739,0.05133821167462198,0.04473522834918266,0.051334416481461816,0.048194937819555854,0.05133968800476127,0.03622227231877224,0.05133847733814318,0.05132877302923267,0.04706208404683032,0.05115765156483469,0.036517936841913824,0.048118525400469334,0.05133550190670563,0.0513074402484795,0.048734534587873114,0.0513328756330388,0.051334416481461816,0.0513390086651856,0.03939689067414822,0.051329729417909045,0.0513390086651856,0.05133346009278546,0.05133287183784564,0.051337027574356,0.05130837766119004,0.0513390086651856,0.05133175984624971,0.04780887559053259,0.05129001651668128,0.05133914149694621,0.0513328756330388,0.049213320976185006,0.051337027574356,0.05080135124057341,0.04999661848289504,0.05133346009278546,0.046099281494031606,0.05133669739255107,0.04882431367726963,0.04184730647551093,0.04482143616181555,0.051321672222830045,0.04815260623504751,0.05133914149694621,0.05129001651668128,0.051337027574356,0.036640650617554164,0.04874681583293936,0.0513328756330388,0.05130290119745996,0.05133346009278546,0.05133669739255107,0.05133847733814318,0.051337027574356,0.051280566485712525,0.05133669739255107,0.049214444353360406,0.05133175984624971,0.05133607118567964,0.0513328756330388,0.05133847733814318,0.05130956555664917,0.05133346009278546,0.047808997036713693,0.05133818510826985,0.042735586615416946,0.051334416481461816,0.05122808655469395,0.04923379983847718,0.05133772968509063,0.04993407369961577,0.0488929231792188,0.05133273900608504,0.0513328756330388,0.051338496314108986,0.051334416481461816,0.048218984163418556,0.04208384947960368,0.05133346009278546,0.05133935402776317,0.05133079207199388],\"type\":\"scatter\",\"xaxis\":\"x10\",\"yaxis\":\"y10\"},{\"marker\":{\"color\":[0,1,3,4,7,10,11,12,13,14,15,16,17,18,19,20,21,22,23,24,25,27,28,29,30,31,32,33,34,35,37,38,40,41,42,43,44,46,47,48,49,240,263,284,302,322,342,361,386,407,426,446,466,487,507,527,547,566,585,605,624,643,662,682,702,721,740,759,778,797],\"colorbar\":{\"title\":{\"text\":\"Trial\"},\"x\":1.0,\"xpad\":40},\"colorscale\":[[0.0,\"rgb(247,251,255)\"],[0.125,\"rgb(222,235,247)\"],[0.25,\"rgb(198,219,239)\"],[0.375,\"rgb(158,202,225)\"],[0.5,\"rgb(107,174,214)\"],[0.625,\"rgb(66,146,198)\"],[0.75,\"rgb(33,113,181)\"],[0.875,\"rgb(8,81,156)\"],[1.0,\"rgb(8,48,107)\"]],\"line\":{\"color\":\"Grey\",\"width\":0.5},\"showscale\":false},\"mode\":\"markers\",\"name\":\"Feasible Trial\",\"showlegend\":false,\"x\":[1511,250,2605,2584,2267,2961,2981,1958,2975,1358,2312,716,2590,1743,2622,1066,2995,2989,2283,2694,2001,1966,1874,1983,1865,1903,1657,1323,2110,1777,1525,2085,2103,2086,2082,2146,2190,2403,2436,2183,2218,386,701,1094,209,414,826,2775,1338,1174,855,460,630,2847,2475,1492,967,287,2870,559,1457,1648,1176,2542,1762,2314,2655,1219,962,1589],\"y\":[0.04968313932305972,0.03804894432907101,0.04243095025564479,0.04976580242528092,0.04917286421709782,0.04977021243973303,0.049752082802006985,0.04967247103508651,0.04919698266963051,0.04832782271286534,0.04224728567785245,0.04716407227262294,0.0418520125150295,0.042256470045299976,0.04912799744355852,0.03802045760921094,0.0497802545208348,0.041605195923052285,0.048872497449630764,0.049203924077920486,0.050999752553406566,0.05098235538796042,0.05097351258789727,0.03859770269367671,0.04997632558506773,0.04996860236698683,0.0447746186589919,0.04996445801605586,0.04812074179327486,0.04479029660193646,0.04195279386939738,0.05119455222793084,0.051182999659951336,0.05119052173279475,0.05120817317618262,0.051195167049222785,0.05119309866895048,0.05118446839970431,0.0511877284706289,0.051197132959279745,0.051209676072674036,0.0489616768985081,0.050984032863337275,0.037494553897815475,0.04785586767224155,0.04882891345137957,0.049129416845800425,0.04491230826684221,0.05002050542864502,0.050028365273679695,0.048739358278379614,0.04877321519656129,0.03638129850256889,0.049244411198552974,0.03631244231306424,0.051081409929440415,0.04808381835901978,0.04815748685345146,0.049246824941402825,0.0492673113940813,0.04223408979123456,0.051325987357453126,0.047868327291386424,0.05126732505677672,0.04252488128635852,0.042392611214340896,0.04921121084878797,0.04494249523323806,0.04485452645097888,0.048679933143878015],\"type\":\"scatter\",\"xaxis\":\"x11\",\"yaxis\":\"y11\"},{\"marker\":{\"color\":[0,1,3,4,7,10,11,12,13,14,15,16,17,18,19,20,21,22,23,24,25,27,28,29,30,31,32,33,34,35,37,38,40,41,42,43,44,46,47,48,49,240,263,284,302,322,342,361,386,407,426,446,466,487,507,527,547,566,585,605,624,643,662,682,702,721,740,759,778,797],\"colorbar\":{\"title\":{\"text\":\"Trial\"},\"x\":1.0,\"xpad\":40},\"colorscale\":[[0.0,\"rgb(247,251,255)\"],[0.125,\"rgb(222,235,247)\"],[0.25,\"rgb(198,219,239)\"],[0.375,\"rgb(158,202,225)\"],[0.5,\"rgb(107,174,214)\"],[0.625,\"rgb(66,146,198)\"],[0.75,\"rgb(33,113,181)\"],[0.875,\"rgb(8,81,156)\"],[1.0,\"rgb(8,48,107)\"]],\"line\":{\"color\":\"Grey\",\"width\":0.5},\"showscale\":false},\"mode\":\"markers\",\"name\":\"Feasible Trial\",\"showlegend\":false,\"x\":[1055,160,681,1108,1625,2931,2618,1914,2938,180,1287,377,1976,639,999,473,2937,2509,2109,2352,1488,1513,1365,1471,1395,1383,1229,936,1579,1458,1180,1610,1681,1695,1674,1742,1727,1742,1820,1825,1925,60,262,747,52,84,476,2658,911,759,375,200,255,2292,2077,636,388,115,2642,147,1090,1022,560,2224,855,1231,2469,583,403,1146],\"y\":[0.04968313932305972,0.03804894432907101,0.04243095025564479,0.04976580242528092,0.04917286421709782,0.04977021243973303,0.049752082802006985,0.04967247103508651,0.04919698266963051,0.04832782271286534,0.04224728567785245,0.04716407227262294,0.0418520125150295,0.042256470045299976,0.04912799744355852,0.03802045760921094,0.0497802545208348,0.041605195923052285,0.048872497449630764,0.049203924077920486,0.050999752553406566,0.05098235538796042,0.05097351258789727,0.03859770269367671,0.04997632558506773,0.04996860236698683,0.0447746186589919,0.04996445801605586,0.04812074179327486,0.04479029660193646,0.04195279386939738,0.05119455222793084,0.051182999659951336,0.05119052173279475,0.05120817317618262,0.051195167049222785,0.05119309866895048,0.05118446839970431,0.0511877284706289,0.051197132959279745,0.051209676072674036,0.0489616768985081,0.050984032863337275,0.037494553897815475,0.04785586767224155,0.04882891345137957,0.049129416845800425,0.04491230826684221,0.05002050542864502,0.050028365273679695,0.048739358278379614,0.04877321519656129,0.03638129850256889,0.049244411198552974,0.03631244231306424,0.051081409929440415,0.04808381835901978,0.04815748685345146,0.049246824941402825,0.0492673113940813,0.04223408979123456,0.051325987357453126,0.047868327291386424,0.05126732505677672,0.04252488128635852,0.042392611214340896,0.04921121084878797,0.04494249523323806,0.04485452645097888,0.048679933143878015],\"type\":\"scatter\",\"xaxis\":\"x12\",\"yaxis\":\"y12\"},{\"marker\":{\"color\":[5,6,36,58,76,99,135,175,220,297,327,358,522,550,578,606,638,669,733,789],\"colorbar\":{\"title\":{\"text\":\"Trial\"},\"x\":1.0,\"xpad\":40},\"colorscale\":[[0.0,\"rgb(247,251,255)\"],[0.125,\"rgb(222,235,247)\"],[0.25,\"rgb(198,219,239)\"],[0.375,\"rgb(158,202,225)\"],[0.5,\"rgb(107,174,214)\"],[0.625,\"rgb(66,146,198)\"],[0.75,\"rgb(33,113,181)\"],[0.875,\"rgb(8,81,156)\"],[1.0,\"rgb(8,48,107)\"]],\"line\":{\"color\":\"Grey\",\"width\":0.5},\"showscale\":false},\"mode\":\"markers\",\"name\":\"Feasible Trial\",\"showlegend\":false,\"x\":[\"ials\",\"merging\",\"userKnn\",\"itemKnn\",\"slim\",\"easeR\",\"rp3\",\"merging\",\"ials\",\"rp3\",\"userKnn\",\"easeR\",\"itemKnn\",\"slim\",\"slim\",\"merging\",\"ials\",\"itemKnn\",\"userKnn\",\"rp3\"],\"y\":[0.04253860850001881,0.04966619758079281,0.03887638372742665,0.04867260842107884,0.05097012727559849,0.04494849163843111,0.04890235043902861,0.04967534779150189,0.042788237330127724,0.04888449785040326,0.04021273955259269,0.044955861903548104,0.04867278679515735,0.05096407014731489,0.050982666593799644,0.04967083151164136,0.04255062787675701,0.04867663132582858,0.03939689067414822,0.0488929231792188],\"type\":\"scatter\",\"xaxis\":\"x13\",\"yaxis\":\"y13\"},{\"marker\":{\"color\":[0],\"colorbar\":{\"title\":{\"text\":\"Trial\"},\"x\":1.0,\"xpad\":40},\"colorscale\":[[0.0,\"rgb(247,251,255)\"],[0.125,\"rgb(222,235,247)\"],[0.25,\"rgb(198,219,239)\"],[0.375,\"rgb(158,202,225)\"],[0.5,\"rgb(107,174,214)\"],[0.625,\"rgb(66,146,198)\"],[0.75,\"rgb(33,113,181)\"],[0.875,\"rgb(8,81,156)\"],[1.0,\"rgb(8,48,107)\"]],\"line\":{\"color\":\"Grey\",\"width\":0.5},\"showscale\":false},\"mode\":\"markers\",\"name\":\"Feasible Trial\",\"showlegend\":false,\"x\":[\"merging\"],\"y\":[0.04968313932305972],\"type\":\"scatter\",\"xaxis\":\"x14\",\"yaxis\":\"y14\"},{\"marker\":{\"color\":[759],\"colorbar\":{\"title\":{\"text\":\"Trial\"},\"x\":1.0,\"xpad\":40},\"colorscale\":[[0.0,\"rgb(247,251,255)\"],[0.125,\"rgb(222,235,247)\"],[0.25,\"rgb(198,219,239)\"],[0.375,\"rgb(158,202,225)\"],[0.5,\"rgb(107,174,214)\"],[0.625,\"rgb(66,146,198)\"],[0.75,\"rgb(33,113,181)\"],[0.875,\"rgb(8,81,156)\"],[1.0,\"rgb(8,48,107)\"]],\"line\":{\"color\":\"Grey\",\"width\":0.5},\"showscale\":false},\"mode\":\"markers\",\"name\":\"Feasible Trial\",\"showlegend\":false,\"x\":[\"easeR\"],\"y\":[0.04494249523323806],\"type\":\"scatter\",\"xaxis\":\"x15\",\"yaxis\":\"y15\"},{\"marker\":{\"color\":[263],\"colorbar\":{\"title\":{\"text\":\"Trial\"},\"x\":1.0,\"xpad\":40},\"colorscale\":[[0.0,\"rgb(247,251,255)\"],[0.125,\"rgb(222,235,247)\"],[0.25,\"rgb(198,219,239)\"],[0.375,\"rgb(158,202,225)\"],[0.5,\"rgb(107,174,214)\"],[0.625,\"rgb(66,146,198)\"],[0.75,\"rgb(33,113,181)\"],[0.875,\"rgb(8,81,156)\"],[1.0,\"rgb(8,48,107)\"]],\"line\":{\"color\":\"Grey\",\"width\":0.5},\"showscale\":false},\"mode\":\"markers\",\"name\":\"Feasible Trial\",\"showlegend\":false,\"x\":[\"slim\"],\"y\":[0.050984032863337275],\"type\":\"scatter\",\"xaxis\":\"x16\",\"yaxis\":\"y16\"},{\"marker\":{\"color\":[702],\"colorbar\":{\"title\":{\"text\":\"Trial\"},\"x\":1.0,\"xpad\":40},\"colorscale\":[[0.0,\"rgb(247,251,255)\"],[0.125,\"rgb(222,235,247)\"],[0.25,\"rgb(198,219,239)\"],[0.375,\"rgb(158,202,225)\"],[0.5,\"rgb(107,174,214)\"],[0.625,\"rgb(66,146,198)\"],[0.75,\"rgb(33,113,181)\"],[0.875,\"rgb(8,81,156)\"],[1.0,\"rgb(8,48,107)\"]],\"line\":{\"color\":\"Grey\",\"width\":0.5},\"showscale\":false},\"mode\":\"markers\",\"name\":\"Feasible Trial\",\"showlegend\":false,\"x\":[\"ials\"],\"y\":[0.04252488128635852],\"type\":\"scatter\",\"xaxis\":\"x17\",\"yaxis\":\"y17\"},{\"marker\":{\"color\":[65,78,106,138,179,228,269,305,332,363,364,365,366,367,368,369,370,371,372,373,374,375,376,377,378,379,380,381,382,383,384,385,387,388,389,390,391,392,393,394,395,396,397,398,399,400,401,402,403,404,405,406,408,409,410,411,412,413,414,415,416,417,418,419,420,421,422,423,424,425,427,428,429,430,431,432,433,434,435,436,437,438,439,440,441,442,443,444,445,447,448,449,450,451,452,453,454,455,456,457,458,459,460,461,462,463,464,465,467,468,469,470,471,472,473,474,475,476,477,478,479,480,481,482,483,484,485,486,488,489,490,491,492,493,494,495,496,497,498,499,500,501,502,504,505,506,508,509,511,512,514,517,518,519,520,521,523,524,525,526,528,529,530,531,532,534,535,536,537,538,539,540,544,546,548,549,551,552,553,554,555,556,557,558,559,560,561,562,563,565,567,568,569,570,573,576,577,579,580,581,582,583,584,586,587,588,589,590,591,592,594,595,596,597,598,599,601,603,604,607,609,610,612,613,614,615,616,617,618,619,620,621,622,625,626,627,629,630,633,634,635,637,639,640,641,642,644,645,646,647,648,649,650,651,652,654,655,656,657,658,660,663,664,666,668,670,671,672,673,674,675,676,677,678,679,680,681,683,685,686,687,688,690,691,693,695,696,698,699,700,701,703,704,705,706,707,708,709,710,711,712,713,714,716,717,718,720,722,725,727,728,729,730,731,732,734,735,736,737,738,739,741,742,744,745,746,747,748,750,751,753,755,757,758,760,761,762,763,764,765,766,767,768,769,770,771,772,774,775,776,777,779,780,782,784,786,787,788,790,791,792,793,794,795,796,798,799],\"colorbar\":{\"title\":{\"text\":\"Trial\"},\"x\":1.0,\"xpad\":40},\"colorscale\":[[0.0,\"rgb(247,251,255)\"],[0.125,\"rgb(222,235,247)\"],[0.25,\"rgb(198,219,239)\"],[0.375,\"rgb(158,202,225)\"],[0.5,\"rgb(107,174,214)\"],[0.625,\"rgb(66,146,198)\"],[0.75,\"rgb(33,113,181)\"],[0.875,\"rgb(8,81,156)\"],[1.0,\"rgb(8,48,107)\"]],\"line\":{\"color\":\"Grey\",\"width\":0.5},\"showscale\":false},\"mode\":\"markers\",\"name\":\"Feasible Trial\",\"showlegend\":false,\"x\":[\"userKnn\",\"itemKnn\",\"rp3\",\"merging\",\"ials\",\"slim\",\"alpha\",\"itemKnn\",\"userKnn\",\"slim\",\"slim\",\"slim\",\"slim\",\"slim\",\"slim\",\"slim\",\"slim\",\"slim\",\"slim\",\"slim\",\"slim\",\"slim\",\"slim\",\"slim\",\"slim\",\"slim\",\"slim\",\"slim\",\"slim\",\"slim\",\"slim\",\"slim\",\"slim\",\"slim\",\"slim\",\"slim\",\"slim\",\"slim\",\"slim\",\"slim\",\"slim\",\"slim\",\"slim\",\"slim\",\"slim\",\"slim\",\"slim\",\"slim\",\"slim\",\"slim\",\"slim\",\"slim\",\"slim\",\"slim\",\"slim\",\"slim\",\"slim\",\"slim\",\"slim\",\"slim\",\"slim\",\"rp3\",\"slim\",\"merging\",\"slim\",\"ials\",\"slim\",\"slim\",\"slim\",\"slim\",\"alpha\",\"slim\",\"itemKnn\",\"userKnn\",\"slim\",\"slim\",\"slim\",\"slim\",\"slim\",\"slim\",\"slim\",\"slim\",\"slim\",\"slim\",\"slim\",\"slim\",\"slim\",\"slim\",\"slim\",\"slim\",\"slim\",\"slim\",\"slim\",\"slim\",\"slim\",\"slim\",\"slim\",\"slim\",\"slim\",\"slim\",\"rp3\",\"merging\",\"ials\",\"slim\",\"slim\",\"alpha\",\"slim\",\"slim\",\"slim\",\"userKnn\",\"itemKnn\",\"slim\",\"slim\",\"slim\",\"slim\",\"slim\",\"slim\",\"slim\",\"slim\",\"slim\",\"slim\",\"slim\",\"slim\",\"slim\",\"slim\",\"slim\",\"slim\",\"slim\",\"slim\",\"slim\",\"slim\",\"slim\",\"slim\",\"slim\",\"slim\",\"rp3\",\"slim\",\"merging\",\"slim\",\"slim\",\"ials\",\"slim\",\"slim\",\"slim\",\"alpha\",\"slim\",\"slim\",\"userKnn\",\"itemKnn\",\"slim\",\"slim\",\"slim\",\"slim\",\"slim\",\"slim\",\"slim\",\"slim\",\"slim\",\"slim\",\"slim\",\"slim\",\"slim\",\"slim\",\"slim\",\"slim\",\"slim\",\"slim\",\"slim\",\"slim\",\"slim\",\"slim\",\"merging\",\"slim\",\"slim\",\"rp3\",\"ials\",\"slim\",\"slim\",\"alpha\",\"slim\",\"slim\",\"itemKnn\",\"slim\",\"userKnn\",\"slim\",\"slim\",\"slim\",\"slim\",\"slim\",\"slim\",\"slim\",\"slim\",\"slim\",\"slim\",\"slim\",\"slim\",\"slim\",\"slim\",\"slim\",\"slim\",\"slim\",\"slim\",\"slim\",\"merging\",\"slim\",\"slim\",\"rp3\",\"ials\",\"slim\",\"alpha\",\"slim\",\"slim\",\"slim\",\"itemKnn\",\"userKnn\",\"slim\",\"slim\",\"slim\",\"slim\",\"slim\",\"slim\",\"slim\",\"slim\",\"slim\",\"slim\",\"slim\",\"slim\",\"slim\",\"slim\",\"slim\",\"slim\",\"slim\",\"slim\",\"rp3\",\"slim\",\"merging\",\"slim\",\"slim\",\"slim\",\"alpha\",\"slim\",\"slim\",\"userKnn\",\"ials\",\"slim\",\"itemKnn\",\"slim\",\"slim\",\"slim\",\"slim\",\"slim\",\"slim\",\"slim\",\"slim\",\"slim\",\"slim\",\"slim\",\"slim\",\"slim\",\"slim\",\"slim\",\"slim\",\"slim\",\"slim\",\"merging\",\"slim\",\"rp3\",\"slim\",\"slim\",\"ials\",\"slim\",\"slim\",\"alpha\",\"slim\",\"slim\",\"itemKnn\",\"slim\",\"userKnn\",\"slim\",\"slim\",\"slim\",\"slim\",\"slim\",\"slim\",\"slim\",\"slim\",\"slim\",\"slim\",\"slim\",\"slim\",\"slim\",\"slim\",\"slim\",\"slim\",\"slim\",\"slim\",\"rp3\",\"slim\",\"merging\",\"slim\",\"slim\",\"ials\",\"slim\",\"slim\",\"alpha\",\"slim\",\"slim\",\"slim\",\"userKnn\",\"slim\",\"slim\",\"itemKnn\",\"slim\",\"slim\",\"slim\",\"slim\",\"slim\",\"slim\",\"slim\",\"slim\",\"slim\",\"slim\",\"slim\",\"slim\",\"slim\",\"slim\",\"rp3\",\"slim\",\"merging\",\"slim\",\"slim\",\"ials\",\"slim\",\"alpha\",\"slim\",\"slim\",\"slim\",\"userKnn\",\"itemKnn\",\"slim\",\"slim\",\"slim\",\"slim\",\"slim\",\"slim\",\"slim\",\"slim\",\"slim\",\"slim\",\"slim\",\"slim\",\"slim\",\"slim\",\"slim\",\"slim\",\"rp3\",\"slim\",\"merging\",\"slim\",\"slim\",\"slim\",\"slim\",\"alpha\",\"ials\",\"slim\",\"slim\",\"slim\"],\"y\":[0.03612029168336581,0.048733532656878846,0.04923597448415795,0.05005379686304587,0.04254756895106993,0.05116286236504359,0.0482512964379841,0.04875119928103935,0.03691936960323566,0.05133656456079047,0.05133847733814318,0.05133346009278546,0.05133346009278546,0.05133346009278546,0.05133346009278546,0.05133346009278546,0.05133346009278546,0.05133346009278546,0.05133346009278546,0.05133346009278546,0.0513328756330388,0.05133346009278546,0.05133346009278546,0.05133346009278546,0.05133346009278546,0.05133346009278546,0.05133346009278546,0.05133346009278546,0.05133346009278546,0.05133346009278546,0.05133346009278546,0.05133346009278546,0.05133346009278546,0.05133346009278546,0.05133346009278546,0.05133346009278546,0.0513328756330388,0.05133346009278546,0.05133346009278546,0.05133346009278546,0.05133346009278546,0.0513328756330388,0.0513328756330388,0.05133346009278546,0.05133346009278546,0.0513328756330388,0.05133346009278546,0.0513328756330388,0.05133346009278546,0.0513328756330388,0.05133346009278546,0.05133346009278546,0.0513328756330388,0.05133346009278546,0.05133346009278546,0.0513328756330388,0.0513328756330388,0.05133346009278546,0.05133346009278546,0.05133346009278546,0.0513328756330388,0.049275539372852506,0.0513328756330388,0.05005190685685212,0.0513328756330388,0.04171842171579217,0.05133346009278546,0.05133346009278546,0.051334416481461816,0.05133346009278546,0.0480796815984752,0.05133346009278546,0.04873576802565016,0.03631311785744676,0.051334416481461816,0.051334416481461816,0.05133175984624971,0.051334416481461816,0.05133335382737698,0.05133335382737698,0.05133346009278546,0.0513328756330388,0.0513328756330388,0.051334416481461816,0.05133175984624971,0.05133346009278546,0.05133263274067655,0.05133346009278546,0.0513328756330388,0.051334416481461816,0.05133175984624971,0.05133346009278546,0.0513328756330388,0.051334416481461816,0.05133175984624971,0.05133346009278546,0.05133550190670563,0.05133550190670563,0.05133560817211411,0.05133550190670563,0.049292477319926274,0.05004433544649762,0.04176286722289069,0.05133550190670563,0.051337027574356,0.04819145762742798,0.051336894742595396,0.051337027574356,0.05133657594636995,0.03640415315577933,0.04874087635564373,0.05133560817211411,0.05133560817211411,0.051337027574356,0.05133657594636995,0.051337027574356,0.051337027574356,0.051337027574356,0.051337027574356,0.051336894742595396,0.051337027574356,0.05133550190670563,0.051337027574356,0.05133607118567964,0.051337027574356,0.051337027574356,0.05133607118567964,0.05133596492027116,0.05133798396303236,0.05133798396303236,0.051337027574356,0.0513390086651856,0.05133798396303236,0.0513390086651856,0.05133607118567964,0.04932471369062857,0.0513390086651856,0.05004801678386297,0.0513390086651856,0.0513390086651856,0.041786226636791414,0.05133935402776317,0.0513390086651856,0.051339221196002566,0.04820467249001164,0.05133935402776317,0.05133669739255107,0.036472178197981875,0.0487492599373345,0.0513390086651856,0.0513364848617341,0.0513364848617341,0.0513328756330388,0.0513390086651856,0.05133772968509063,0.05133968800476127,0.05133772968509063,0.05133968800476127,0.05133968800476127,0.05133821167462198,0.05134282283431156,0.0513328756330388,0.05133847733814318,0.05133968800476127,0.05133968800476127,0.05133968800476127,0.05134282283431156,0.05133847733814318,0.05132813543678178,0.05133847733814318,0.05133847733814318,0.050043481528036594,0.05133847733814318,0.05133847733814318,0.049289968697247374,0.04181867174311759,0.05133847733814318,0.05133667082619896,0.04822571304089152,0.0513328756330388,0.05133772968509063,0.04873329355970974,0.0513328756330388,0.036488603793979016,0.0513328756330388,0.05133772968509063,0.0513328756330388,0.051333794069783556,0.0513364848617341,0.05133669739255107,0.051333794069783556,0.0513328756330388,0.05133346009278546,0.05133935402776317,0.0513328756330388,0.05133335382737698,0.0513390086651856,0.051334416481461816,0.051337027574356,0.0513328376811072,0.0513390086651856,0.051334416481461816,0.05133798396303236,0.05004742093853682,0.0513390086651856,0.0513328756330388,0.04927919793905888,0.04177047278998364,0.05133550190670563,0.04820116573153166,0.0513328756330388,0.0513390086651856,0.051338496314108986,0.0487382500819769,0.03637160937443105,0.05133607118567964,0.0513390086651856,0.05133690992336804,0.05133335382737698,0.051335767570226856,0.05133560817211411,0.05133346009278546,0.0513390086651856,0.05133263274067655,0.05133690992336804,0.051333794069783556,0.05133346009278546,0.0513390086651856,0.05133523244799128,0.0513328756330388,0.05133560817211411,0.05133772968509063,0.05133263274067655,0.049319635722180295,0.05133346009278546,0.050050199019930054,0.05133772968509063,0.05133550190670563,0.05133690992336804,0.04819145762742798,0.05134299361800376,0.05133457967476772,0.03655748654983577,0.04176582747355561,0.05133968800476127,0.04874263353007687,0.05134282283431156,0.051329729417909045,0.05132064372548365,0.0513328756330388,0.05134299361800376,0.0513328756330388,0.051321672222830045,0.05134282283431156,0.051329729417909045,0.05133847733814318,0.0513328756330388,0.05133175984624971,0.05134282283431156,0.051317288774730074,0.051321672222830045,0.051337027574356,0.05134282283431156,0.05131519003291251,0.05003756102670675,0.05133968800476127,0.049305126698729045,0.051321672222830045,0.051337027574356,0.04163985362699075,0.05134282283431156,0.051320715834153686,0.04820937093914391,0.05133847733814318,0.05130682163199439,0.048741980756853334,0.05134282283431156,0.03697976251199316,0.05133847733814318,0.05130610434048712,0.051337027574356,0.051334416481461816,0.05132064372548365,0.051337027574356,0.0513328756330388,0.05133914149694621,0.05134282283431156,0.05133847733814318,0.0513100779077258,0.05133656456079047,0.05133968800476127,0.05131370231719373,0.0513328756330388,0.0513328756330388,0.05134282283431156,0.05131079899442623,0.04931552552798786,0.05134282283431156,0.05001581077470593,0.05133847733814318,0.05129952727074059,0.04176352379130739,0.05133821167462198,0.051334416481461816,0.048194937819555854,0.05133968800476127,0.05133847733814318,0.05132877302923267,0.036517936841913824,0.05133550190670563,0.0513074402484795,0.048734534587873114,0.0513328756330388,0.051334416481461816,0.0513390086651856,0.051329729417909045,0.0513390086651856,0.05133346009278546,0.05133287183784564,0.051337027574356,0.05130837766119004,0.0513390086651856,0.05133175984624971,0.05129001651668128,0.05133914149694621,0.0513328756330388,0.049213320976185006,0.051337027574356,0.04999661848289504,0.05133346009278546,0.05133669739255107,0.04184730647551093,0.051321672222830045,0.04815260623504751,0.05133914149694621,0.05129001651668128,0.051337027574356,0.036640650617554164,0.04874681583293936,0.0513328756330388,0.05130290119745996,0.05133346009278546,0.05133669739255107,0.05133847733814318,0.051337027574356,0.051280566485712525,0.05133669739255107,0.05133175984624971,0.05133607118567964,0.0513328756330388,0.05133847733814318,0.05130956555664917,0.05133346009278546,0.05133818510826985,0.051334416481461816,0.04923379983847718,0.05133772968509063,0.04993407369961577,0.05133273900608504,0.0513328756330388,0.051338496314108986,0.051334416481461816,0.048218984163418556,0.04208384947960368,0.05133346009278546,0.05133935402776317,0.05133079207199388],\"type\":\"scatter\",\"xaxis\":\"x18\",\"yaxis\":\"y18\"},{\"marker\":{\"color\":[446,527,624],\"colorbar\":{\"title\":{\"text\":\"Trial\"},\"x\":1.0,\"xpad\":40},\"colorscale\":[[0.0,\"rgb(247,251,255)\"],[0.125,\"rgb(222,235,247)\"],[0.25,\"rgb(198,219,239)\"],[0.375,\"rgb(158,202,225)\"],[0.5,\"rgb(107,174,214)\"],[0.625,\"rgb(66,146,198)\"],[0.75,\"rgb(33,113,181)\"],[0.875,\"rgb(8,81,156)\"],[1.0,\"rgb(8,48,107)\"]],\"line\":{\"color\":\"Grey\",\"width\":0.5},\"showscale\":false},\"mode\":\"markers\",\"name\":\"Feasible Trial\",\"showlegend\":false,\"x\":[\"itemKnn\",\"slim\",\"ials\"],\"y\":[0.04877321519656129,0.051081409929440415,0.04223408979123456],\"type\":\"scatter\",\"xaxis\":\"x19\",\"yaxis\":\"y19\"},{\"marker\":{\"color\":[426,466,643],\"colorbar\":{\"title\":{\"text\":\"Trial\"},\"x\":1.0,\"xpad\":40},\"colorscale\":[[0.0,\"rgb(247,251,255)\"],[0.125,\"rgb(222,235,247)\"],[0.25,\"rgb(198,219,239)\"],[0.375,\"rgb(158,202,225)\"],[0.5,\"rgb(107,174,214)\"],[0.625,\"rgb(66,146,198)\"],[0.75,\"rgb(33,113,181)\"],[0.875,\"rgb(8,81,156)\"],[1.0,\"rgb(8,48,107)\"]],\"line\":{\"color\":\"Grey\",\"width\":0.5},\"showscale\":false},\"mode\":\"markers\",\"name\":\"Feasible Trial\",\"showlegend\":false,\"x\":[\"itemKnn\",\"userKnn\",\"slim\"],\"y\":[0.048739358278379614,0.03638129850256889,0.051325987357453126],\"type\":\"scatter\",\"xaxis\":\"x20\",\"yaxis\":\"y20\"},{\"marker\":{\"color\":[407,487,721],\"colorbar\":{\"title\":{\"text\":\"Trial\"},\"x\":1.0,\"xpad\":40},\"colorscale\":[[0.0,\"rgb(247,251,255)\"],[0.125,\"rgb(222,235,247)\"],[0.25,\"rgb(198,219,239)\"],[0.375,\"rgb(158,202,225)\"],[0.5,\"rgb(107,174,214)\"],[0.625,\"rgb(66,146,198)\"],[0.75,\"rgb(33,113,181)\"],[0.875,\"rgb(8,81,156)\"],[1.0,\"rgb(8,48,107)\"]],\"line\":{\"color\":\"Grey\",\"width\":0.5},\"showscale\":false},\"mode\":\"markers\",\"name\":\"Feasible Trial\",\"showlegend\":false,\"x\":[\"merging\",\"rp3\",\"ials\"],\"y\":[0.050028365273679695,0.049244411198552974,0.042392611214340896],\"type\":\"scatter\",\"xaxis\":\"x21\",\"yaxis\":\"y21\"},{\"marker\":{\"color\":[18,566,740],\"colorbar\":{\"title\":{\"text\":\"Trial\"},\"x\":1.0,\"xpad\":40},\"colorscale\":[[0.0,\"rgb(247,251,255)\"],[0.125,\"rgb(222,235,247)\"],[0.25,\"rgb(198,219,239)\"],[0.375,\"rgb(158,202,225)\"],[0.5,\"rgb(107,174,214)\"],[0.625,\"rgb(66,146,198)\"],[0.75,\"rgb(33,113,181)\"],[0.875,\"rgb(8,81,156)\"],[1.0,\"rgb(8,48,107)\"]],\"line\":{\"color\":\"Grey\",\"width\":0.5},\"showscale\":false},\"mode\":\"markers\",\"name\":\"Feasible Trial\",\"showlegend\":false,\"x\":[\"ials\",\"alpha\",\"rp3\"],\"y\":[0.042256470045299976,0.04815748685345146,0.04921121084878797],\"type\":\"scatter\",\"xaxis\":\"x22\",\"yaxis\":\"y22\"},{\"marker\":{\"color\":[1,547,682],\"colorbar\":{\"title\":{\"text\":\"Trial\"},\"x\":1.0,\"xpad\":40},\"colorscale\":[[0.0,\"rgb(247,251,255)\"],[0.125,\"rgb(222,235,247)\"],[0.25,\"rgb(198,219,239)\"],[0.375,\"rgb(158,202,225)\"],[0.5,\"rgb(107,174,214)\"],[0.625,\"rgb(66,146,198)\"],[0.75,\"rgb(33,113,181)\"],[0.875,\"rgb(8,81,156)\"],[1.0,\"rgb(8,48,107)\"]],\"line\":{\"color\":\"Grey\",\"width\":0.5},\"showscale\":false},\"mode\":\"markers\",\"name\":\"Feasible Trial\",\"showlegend\":false,\"x\":[\"userKnn\",\"alpha\",\"slim\"],\"y\":[0.03804894432907101,0.04808381835901978,0.05126732505677672],\"type\":\"scatter\",\"xaxis\":\"x23\",\"yaxis\":\"y23\"},{\"marker\":{\"color\":[386,507,605,797],\"colorbar\":{\"title\":{\"text\":\"Trial\"},\"x\":1.0,\"xpad\":40},\"colorscale\":[[0.0,\"rgb(247,251,255)\"],[0.125,\"rgb(222,235,247)\"],[0.25,\"rgb(198,219,239)\"],[0.375,\"rgb(158,202,225)\"],[0.5,\"rgb(107,174,214)\"],[0.625,\"rgb(66,146,198)\"],[0.75,\"rgb(33,113,181)\"],[0.875,\"rgb(8,81,156)\"],[1.0,\"rgb(8,48,107)\"]],\"line\":{\"color\":\"Grey\",\"width\":0.5},\"showscale\":false},\"mode\":\"markers\",\"name\":\"Feasible Trial\",\"showlegend\":false,\"x\":[\"merging\",\"userKnn\",\"rp3\",\"itemKnn\"],\"y\":[0.05002050542864502,0.03631244231306424,0.0492673113940813,0.048679933143878015],\"type\":\"scatter\",\"xaxis\":\"x24\",\"yaxis\":\"y24\"},{\"marker\":{\"color\":[33,585,662],\"colorbar\":{\"title\":{\"text\":\"Trial\"},\"x\":1.0,\"xpad\":40},\"colorscale\":[[0.0,\"rgb(247,251,255)\"],[0.125,\"rgb(222,235,247)\"],[0.25,\"rgb(198,219,239)\"],[0.375,\"rgb(158,202,225)\"],[0.5,\"rgb(107,174,214)\"],[0.625,\"rgb(66,146,198)\"],[0.75,\"rgb(33,113,181)\"],[0.875,\"rgb(8,81,156)\"],[1.0,\"rgb(8,48,107)\"]],\"line\":{\"color\":\"Grey\",\"width\":0.5},\"showscale\":false},\"mode\":\"markers\",\"name\":\"Feasible Trial\",\"showlegend\":false,\"x\":[\"merging\",\"rp3\",\"alpha\"],\"y\":[0.04996445801605586,0.049246824941402825,0.047868327291386424],\"type\":\"scatter\",\"xaxis\":\"x25\",\"yaxis\":\"y25\"},{\"marker\":{\"color\":[98,119,160,207,253,286,316,348,510,542,572,600,628,659,689,719,749],\"colorbar\":{\"title\":{\"text\":\"Trial\"},\"x\":1.0,\"xpad\":40},\"colorscale\":[[0.0,\"rgb(247,251,255)\"],[0.125,\"rgb(222,235,247)\"],[0.25,\"rgb(198,219,239)\"],[0.375,\"rgb(158,202,225)\"],[0.5,\"rgb(107,174,214)\"],[0.625,\"rgb(66,146,198)\"],[0.75,\"rgb(33,113,181)\"],[0.875,\"rgb(8,81,156)\"],[1.0,\"rgb(8,48,107)\"]],\"line\":{\"color\":\"Grey\",\"width\":0.5},\"showscale\":false},\"mode\":\"markers\",\"name\":\"Feasible Trial\",\"showlegend\":false,\"x\":[\"rp3\",\"easeR\",\"userKnn\",\"merging\",\"alpha\",\"itemKnn\",\"slim\",\"userKnn\",\"itemKnn\",\"merging\",\"easeR\",\"slim\",\"rp3\",\"alpha\",\"itemKnn\",\"userKnn\",\"slim\"],\"y\":[0.04767008917185919,0.04485897441736254,0.03534748788574371,0.048792274656611706,0.04700309535954196,0.047233137197751435,0.050813363026925296,0.036139491565563016,0.04817256895106997,0.049941034083871474,0.04480684364411473,0.050847405909571826,0.04814748272428135,0.04724166120158903,0.04806397708917856,0.03622227231877224,0.05080135124057341],\"type\":\"scatter\",\"xaxis\":\"x26\",\"yaxis\":\"y26\"},{\"marker\":{\"color\":[778],\"colorbar\":{\"title\":{\"text\":\"Trial\"},\"x\":1.0,\"xpad\":40},\"colorscale\":[[0.0,\"rgb(247,251,255)\"],[0.125,\"rgb(222,235,247)\"],[0.25,\"rgb(198,219,239)\"],[0.375,\"rgb(158,202,225)\"],[0.5,\"rgb(107,174,214)\"],[0.625,\"rgb(66,146,198)\"],[0.75,\"rgb(33,113,181)\"],[0.875,\"rgb(8,81,156)\"],[1.0,\"rgb(8,48,107)\"]],\"line\":{\"color\":\"Grey\",\"width\":0.5},\"showscale\":false},\"mode\":\"markers\",\"name\":\"Feasible Trial\",\"showlegend\":false,\"x\":[\"easeR\"],\"y\":[0.04485452645097888],\"type\":\"scatter\",\"xaxis\":\"x27\",\"yaxis\":\"y27\"},{\"marker\":{\"color\":[13],\"colorbar\":{\"title\":{\"text\":\"Trial\"},\"x\":1.0,\"xpad\":40},\"colorscale\":[[0.0,\"rgb(247,251,255)\"],[0.125,\"rgb(222,235,247)\"],[0.25,\"rgb(198,219,239)\"],[0.375,\"rgb(158,202,225)\"],[0.5,\"rgb(107,174,214)\"],[0.625,\"rgb(66,146,198)\"],[0.75,\"rgb(33,113,181)\"],[0.875,\"rgb(8,81,156)\"],[1.0,\"rgb(8,48,107)\"]],\"line\":{\"color\":\"Grey\",\"width\":0.5},\"showscale\":false},\"mode\":\"markers\",\"name\":\"Feasible Trial\",\"showlegend\":false,\"x\":[\"rp3\"],\"y\":[0.04919698266963051],\"type\":\"scatter\",\"xaxis\":\"x28\",\"yaxis\":\"y28\"},{\"marker\":{\"color\":[30,31,32],\"colorbar\":{\"title\":{\"text\":\"Trial\"},\"x\":1.0,\"xpad\":40},\"colorscale\":[[0.0,\"rgb(247,251,255)\"],[0.125,\"rgb(222,235,247)\"],[0.25,\"rgb(198,219,239)\"],[0.375,\"rgb(158,202,225)\"],[0.5,\"rgb(107,174,214)\"],[0.625,\"rgb(66,146,198)\"],[0.75,\"rgb(33,113,181)\"],[0.875,\"rgb(8,81,156)\"],[1.0,\"rgb(8,48,107)\"]],\"line\":{\"color\":\"Grey\",\"width\":0.5},\"showscale\":false},\"mode\":\"markers\",\"name\":\"Feasible Trial\",\"showlegend\":false,\"x\":[\"merging\",\"merging\",\"easeR\"],\"y\":[0.04997632558506773,0.04996860236698683,0.0447746186589919],\"type\":\"scatter\",\"xaxis\":\"x29\",\"yaxis\":\"y29\"},{\"marker\":{\"color\":[20],\"colorbar\":{\"title\":{\"text\":\"Trial\"},\"x\":1.0,\"xpad\":40},\"colorscale\":[[0.0,\"rgb(247,251,255)\"],[0.125,\"rgb(222,235,247)\"],[0.25,\"rgb(198,219,239)\"],[0.375,\"rgb(158,202,225)\"],[0.5,\"rgb(107,174,214)\"],[0.625,\"rgb(66,146,198)\"],[0.75,\"rgb(33,113,181)\"],[0.875,\"rgb(8,81,156)\"],[1.0,\"rgb(8,48,107)\"]],\"line\":{\"color\":\"Grey\",\"width\":0.5},\"showscale\":false},\"mode\":\"markers\",\"name\":\"Feasible Trial\",\"showlegend\":false,\"x\":[\"userKnn\"],\"y\":[0.03802045760921094],\"type\":\"scatter\",\"xaxis\":\"x30\",\"yaxis\":\"y30\"},{\"marker\":{\"color\":[35],\"colorbar\":{\"title\":{\"text\":\"Trial\"},\"x\":1.0,\"xpad\":40},\"colorscale\":[[0.0,\"rgb(247,251,255)\"],[0.125,\"rgb(222,235,247)\"],[0.25,\"rgb(198,219,239)\"],[0.375,\"rgb(158,202,225)\"],[0.5,\"rgb(107,174,214)\"],[0.625,\"rgb(66,146,198)\"],[0.75,\"rgb(33,113,181)\"],[0.875,\"rgb(8,81,156)\"],[1.0,\"rgb(8,48,107)\"]],\"line\":{\"color\":\"Grey\",\"width\":0.5},\"showscale\":false},\"mode\":\"markers\",\"name\":\"Feasible Trial\",\"showlegend\":false,\"x\":[\"easeR\"],\"y\":[0.04479029660193646],\"type\":\"scatter\",\"xaxis\":\"x31\",\"yaxis\":\"y31\"},{\"marker\":{\"color\":[2,57,75,97,130,169,219,261,292,323,354,515,545,575,611,636,667,697,726,756,785],\"colorbar\":{\"title\":{\"text\":\"Trial\"},\"x\":1.0,\"xpad\":40},\"colorscale\":[[0.0,\"rgb(247,251,255)\"],[0.125,\"rgb(222,235,247)\"],[0.25,\"rgb(198,219,239)\"],[0.375,\"rgb(158,202,225)\"],[0.5,\"rgb(107,174,214)\"],[0.625,\"rgb(66,146,198)\"],[0.75,\"rgb(33,113,181)\"],[0.875,\"rgb(8,81,156)\"],[1.0,\"rgb(8,48,107)\"]],\"line\":{\"color\":\"Grey\",\"width\":0.5},\"showscale\":false},\"mode\":\"markers\",\"name\":\"Feasible Trial\",\"showlegend\":false,\"x\":[\"userKnn\",\"easeR\",\"ials\",\"merging\",\"slim\",\"alpha\",\"rp3\",\"alpha\",\"easeR\",\"merging\",\"userKnn\",\"ials\",\"slim\",\"rp3\",\"merging\",\"userKnn\",\"rp3\",\"ials\",\"alpha\",\"easeR\",\"slim\"],\"y\":[0.03772204536622125,0.044813728124507284,0.04245056760908954,0.0499886979147698,0.05122673546592894,0.04824883335762317,0.04921906310343633,0.04814141041522505,0.04482851419705923,0.04998232199026075,0.03911551125806132,0.042574742534096544,0.051230135959000424,0.049201335756185245,0.049982561087429836,0.0381592326423049,0.04921203820089689,0.04286150732927755,0.048118525400469334,0.04482143616181555,0.05122808655469395],\"type\":\"scatter\",\"xaxis\":\"x32\",\"yaxis\":\"y32\"},{\"marker\":{\"color\":[34],\"colorbar\":{\"title\":{\"text\":\"Trial\"},\"x\":1.0,\"xpad\":40},\"colorscale\":[[0.0,\"rgb(247,251,255)\"],[0.125,\"rgb(222,235,247)\"],[0.25,\"rgb(198,219,239)\"],[0.375,\"rgb(158,202,225)\"],[0.5,\"rgb(107,174,214)\"],[0.625,\"rgb(66,146,198)\"],[0.75,\"rgb(33,113,181)\"],[0.875,\"rgb(8,81,156)\"],[1.0,\"rgb(8,48,107)\"]],\"line\":{\"color\":\"Grey\",\"width\":0.5},\"showscale\":false},\"mode\":\"markers\",\"name\":\"Feasible Trial\",\"showlegend\":false,\"x\":[\"alpha\"],\"y\":[0.04812074179327486],\"type\":\"scatter\",\"xaxis\":\"x33\",\"yaxis\":\"y33\"},{\"marker\":{\"color\":[7],\"colorbar\":{\"title\":{\"text\":\"Trial\"},\"x\":1.0,\"xpad\":40},\"colorscale\":[[0.0,\"rgb(247,251,255)\"],[0.125,\"rgb(222,235,247)\"],[0.25,\"rgb(198,219,239)\"],[0.375,\"rgb(158,202,225)\"],[0.5,\"rgb(107,174,214)\"],[0.625,\"rgb(66,146,198)\"],[0.75,\"rgb(33,113,181)\"],[0.875,\"rgb(8,81,156)\"],[1.0,\"rgb(8,48,107)\"]],\"line\":{\"color\":\"Grey\",\"width\":0.5},\"showscale\":false},\"mode\":\"markers\",\"name\":\"Feasible Trial\",\"showlegend\":false,\"x\":[\"rp3\"],\"y\":[0.04917286421709782],\"type\":\"scatter\",\"xaxis\":\"x34\",\"yaxis\":\"y34\"},{\"marker\":{\"color\":[9,39,45,50,51,52,53,54,55,56,60,61,62,63,64,66,67,69,71,72,73,74,77,79,80,81,82,83,84,85,87,88,89,90,91,92,93,94,96,100,101,102,103,104,105,107,108,109,110,111,112,113,114,115,117,118,120,121,122,123,124,125,127,129,131,132,133,134,136,137,139,140,141,142,143,144,145,146,147,149,150,151,152,153,154,155,156,157,158,161,162,163,164,165,167,168,170,171,172,173,174,176,177,178,180,181,182,183,184,185,186,187,188,189,191,192,193,194,195,196,197,198,199,200,201,202,203,204,205,206,208,210,211,212,213,215,216,217,218,221,222,223,224,225,226,227,229,230,231,232,233,234,235,236,237,238,239,241,242,243,244,246,247,248,249,250,251,252,254,255,256,259,260,262,264,265,266,267,268,270,271,272,273,274,275,277,278,279,280,281,282,283,285,287,288,290,293,294,295,296,298,299,300,301,303,304,306,307,308,310,311,312,313,314,315,317,318,319,321,325,326,328,329,330,331,333,334,335,336,337,338,340,341,343,344,345,346,347,349,350,353,355,356,357,359,360,362],\"colorbar\":{\"title\":{\"text\":\"Trial\"},\"x\":1.0,\"xpad\":40},\"colorscale\":[[0.0,\"rgb(247,251,255)\"],[0.125,\"rgb(222,235,247)\"],[0.25,\"rgb(198,219,239)\"],[0.375,\"rgb(158,202,225)\"],[0.5,\"rgb(107,174,214)\"],[0.625,\"rgb(66,146,198)\"],[0.75,\"rgb(33,113,181)\"],[0.875,\"rgb(8,81,156)\"],[1.0,\"rgb(8,48,107)\"]],\"line\":{\"color\":\"Grey\",\"width\":0.5},\"showscale\":false},\"mode\":\"markers\",\"name\":\"Feasible Trial\",\"showlegend\":false,\"x\":[\"rp3\",\"itemKnn\",\"easeR\",\"slim\",\"slim\",\"slim\",\"slim\",\"slim\",\"slim\",\"slim\",\"slim\",\"slim\",\"slim\",\"slim\",\"slim\",\"slim\",\"slim\",\"slim\",\"slim\",\"slim\",\"userKnn\",\"alpha\",\"ials\",\"slim\",\"slim\",\"slim\",\"slim\",\"slim\",\"slim\",\"slim\",\"slim\",\"slim\",\"slim\",\"rp3\",\"slim\",\"slim\",\"slim\",\"userKnn\",\"itemKnn\",\"easeR\",\"slim\",\"slim\",\"slim\",\"alpha\",\"ials\",\"slim\",\"rp3\",\"slim\",\"slim\",\"slim\",\"slim\",\"slim\",\"slim\",\"itemKnn\",\"slim\",\"slim\",\"easeR\",\"slim\",\"slim\",\"slim\",\"slim\",\"slim\",\"slim\",\"slim\",\"slim\",\"slim\",\"slim\",\"slim\",\"slim\",\"slim\",\"slim\",\"slim\",\"slim\",\"slim\",\"slim\",\"slim\",\"slim\",\"slim\",\"userKnn\",\"alpha\",\"slim\",\"slim\",\"slim\",\"slim\",\"ials\",\"slim\",\"slim\",\"slim\",\"slim\",\"slim\",\"slim\",\"slim\",\"rp3\",\"slim\",\"slim\",\"slim\",\"itemKnn\",\"slim\",\"slim\",\"slim\",\"slim\",\"slim\",\"easeR\",\"slim\",\"slim\",\"slim\",\"slim\",\"slim\",\"slim\",\"slim\",\"slim\",\"slim\",\"userKnn\",\"slim\",\"slim\",\"slim\",\"slim\",\"slim\",\"slim\",\"alpha\",\"slim\",\"ials\",\"slim\",\"slim\",\"slim\",\"slim\",\"slim\",\"slim\",\"slim\",\"slim\",\"rp3\",\"slim\",\"slim\",\"slim\",\"slim\",\"slim\",\"slim\",\"slim\",\"itemKnn\",\"slim\",\"slim\",\"slim\",\"slim\",\"slim\",\"slim\",\"easeR\",\"slim\",\"slim\",\"slim\",\"slim\",\"slim\",\"slim\",\"slim\",\"slim\",\"slim\",\"slim\",\"slim\",\"slim\",\"slim\",\"slim\",\"userKnn\",\"slim\",\"slim\",\"slim\",\"alpha\",\"slim\",\"ials\",\"slim\",\"slim\",\"slim\",\"slim\",\"slim\",\"slim\",\"rp3\",\"slim\",\"slim\",\"slim\",\"slim\",\"itemKnn\",\"slim\",\"slim\",\"easeR\",\"slim\",\"slim\",\"slim\",\"slim\",\"slim\",\"slim\",\"slim\",\"slim\",\"slim\",\"slim\",\"slim\",\"slim\",\"userKnn\",\"alpha\",\"slim\",\"slim\",\"ials\",\"slim\",\"slim\",\"slim\",\"slim\",\"slim\",\"slim\",\"rp3\",\"slim\",\"slim\",\"slim\",\"itemKnn\",\"slim\",\"slim\",\"slim\",\"slim\",\"easeR\",\"slim\",\"slim\",\"slim\",\"slim\",\"slim\",\"slim\",\"slim\",\"userKnn\",\"slim\",\"slim\",\"slim\",\"alpha\",\"slim\",\"slim\",\"ials\",\"slim\",\"slim\",\"slim\",\"slim\",\"slim\",\"rp3\",\"slim\",\"slim\",\"slim\",\"slim\",\"itemKnn\",\"slim\",\"slim\",\"slim\",\"slim\",\"slim\",\"slim\"],\"y\":[0.049143675386503105,0.048712583190634796,0.04486632191132065,0.05124518769507358,0.051245054863312975,0.05124518769507358,0.051245054863312975,0.05124518769507358,0.05124518769507358,0.05124518769507358,0.05124518769507358,0.05124518769507358,0.05124535847876578,0.05124535847876578,0.05124535847876578,0.05124535847876578,0.05124535847876578,0.05124631486744214,0.05124535847876578,0.05124535847876578,0.03722888278621854,0.04781601434886682,0.042279484096623146,0.05124823903037434,0.05124823903037434,0.05124823903037434,0.05124834529578282,0.05124834529578282,0.05124834529578282,0.05124834529578282,0.05124834529578282,0.05124834529578282,0.05124834529578282,0.04915612362006838,0.05124834529578282,0.05124834529578282,0.051252474465941084,0.0374441499374555,0.048710643846929955,0.044880865091510354,0.05124823903037434,0.051252474465941084,0.051252474465941084,0.04782810962946822,0.04253071449824564,0.05124834529578282,0.049151781919093175,0.05124631486744214,0.051263154139493734,0.051260584793724306,0.051289223321310765,0.0512491574671191,0.051248713429519366,0.04871749417058404,0.051260584793724306,0.05126100985535825,0.04492020985900164,0.05126111612076673,0.05126085045724552,0.051258497437486235,0.05126111612076673,0.051259506958866836,0.05126300612696049,0.051259639790627434,0.05126300612696049,0.05126300612696049,0.0512599472012734,0.051263154139493734,0.05125241753804366,0.051248478127543434,0.05124409847463662,0.05125241753804366,0.051261548772787,0.05131493955016393,0.05128694620541468,0.05129312477987941,0.051289223321310765,0.05131493955016393,0.0393964807932868,0.047837802552799256,0.05125241753804366,0.05127108988839162,0.05132359638576222,0.05128694620541468,0.04340389356456745,0.05125321832380047,0.051256527732236115,0.051249776083604204,0.05126048611870216,0.05130572861636425,0.05131341767770671,0.05131813130761162,0.04915037010723759,0.051291325858321496,0.05131493955016393,0.05131493955016393,0.04871749417058404,0.051255552367593944,0.05132359638576222,0.05131493955016393,0.05132359638576222,0.05125292229873397,0.04495564557753798,0.05132350150593321,0.05125329802285682,0.05131813130761162,0.0512595297300258,0.051244830946916536,0.05132359638576222,0.05126048611870216,0.05125446694235014,0.05124409847463662,0.0372012120328879,0.05132350150593321,0.05132359638576222,0.05132350150593321,0.05132350150593321,0.051248595778531386,0.0512491574671191,0.047984513334791264,0.051261548772787,0.04280531949454154,0.05132350150593321,0.051259639790627434,0.05132350150593321,0.05124440588528258,0.051245309141254705,0.05131493955016393,0.05126137798909479,0.05132359638576222,0.049153835118592816,0.05124440588528258,0.05132350150593321,0.05130572861636425,0.051244830946916536,0.05131493955016393,0.05124371516012744,0.05124535847876578,0.048706685460463923,0.05132350150593321,0.05129383068580718,0.05131493955016393,0.051244830946916536,0.05126048611870216,0.0512501669884997,0.044898087678071116,0.05131493955016393,0.05132350150593321,0.051255552367593944,0.05132359638576222,0.05124371516012744,0.05131493955016393,0.05126048611870216,0.051245309141254705,0.05124594673370562,0.05124409847463662,0.05132350150593321,0.05132359638576222,0.05132359638576222,0.051244830946916536,0.03783796574610496,0.05124594673370562,0.05126111612076673,0.05132350150593321,0.047839912680196287,0.05124936999793607,0.04340696767102717,0.05125329802285682,0.05132350150593321,0.0512595297300258,0.05126111612076673,0.05126048611870216,0.05131341767770671,0.04915577825749081,0.051259506958866836,0.05124594673370562,0.05131493955016393,0.051261123711153066,0.04871784332835477,0.05124535847876578,0.05124936999793607,0.04514041076134673,0.05132350150593321,0.05126048611870216,0.051260584793724306,0.05132350150593321,0.05125329802285682,0.05132359638576222,0.051244830946916536,0.05126048611870216,0.05125943485019679,0.05124936999793607,0.05132359638576222,0.0512595297300258,0.037237805285338064,0.04785129825967675,0.05125382934989925,0.05126111612076673,0.0422622311485171,0.05124936999793607,0.05124921059982335,0.051261548772787,0.05131813130761162,0.051245054863312975,0.05132359638576222,0.049157884589694695,0.051251916572546526,0.05131493955016393,0.05124594673370562,0.04871011251988754,0.05132359638576222,0.051245054863312975,0.0512599472012734,0.05124518769507358,0.04490286203106659,0.05124594673370562,0.05132359638576222,0.051251916572546526,0.051244830946916536,0.05125446694235014,0.0512491574671191,0.0512546149548834,0.03835711401367518,0.05126111612076673,0.05132359638576222,0.0512546149548834,0.04780470846844274,0.05124936999793607,0.05132350150593321,0.04257804435214591,0.05132350150593321,0.05124535847876578,0.05126059238411064,0.0512491574671191,0.05124409847463662,0.049151721196002605,0.0512501669884997,0.05125421645960158,0.051259639790627434,0.05125321832380047,0.04870576322852602,0.05124631486744214,0.051261541182400665,0.051251916572546526,0.05125321832380047,0.051259639790627434,0.05125382934989925],\"type\":\"scatter\",\"xaxis\":\"x35\",\"yaxis\":\"y35\"},{\"marker\":{\"color\":[240,361],\"colorbar\":{\"title\":{\"text\":\"Trial\"},\"x\":1.0,\"xpad\":40},\"colorscale\":[[0.0,\"rgb(247,251,255)\"],[0.125,\"rgb(222,235,247)\"],[0.25,\"rgb(198,219,239)\"],[0.375,\"rgb(158,202,225)\"],[0.5,\"rgb(107,174,214)\"],[0.625,\"rgb(66,146,198)\"],[0.75,\"rgb(33,113,181)\"],[0.875,\"rgb(8,81,156)\"],[1.0,\"rgb(8,48,107)\"]],\"line\":{\"color\":\"Grey\",\"width\":0.5},\"showscale\":false},\"mode\":\"markers\",\"name\":\"Feasible Trial\",\"showlegend\":false,\"x\":[\"rp3\",\"easeR\"],\"y\":[0.0489616768985081,0.04491230826684221],\"type\":\"scatter\",\"xaxis\":\"x36\",\"yaxis\":\"y36\"},{\"marker\":{\"color\":[284],\"colorbar\":{\"title\":{\"text\":\"Trial\"},\"x\":1.0,\"xpad\":40},\"colorscale\":[[0.0,\"rgb(247,251,255)\"],[0.125,\"rgb(222,235,247)\"],[0.25,\"rgb(198,219,239)\"],[0.375,\"rgb(158,202,225)\"],[0.5,\"rgb(107,174,214)\"],[0.625,\"rgb(66,146,198)\"],[0.75,\"rgb(33,113,181)\"],[0.875,\"rgb(8,81,156)\"],[1.0,\"rgb(8,48,107)\"]],\"line\":{\"color\":\"Grey\",\"width\":0.5},\"showscale\":false},\"mode\":\"markers\",\"name\":\"Feasible Trial\",\"showlegend\":false,\"x\":[\"userKnn\"],\"y\":[0.037494553897815475],\"type\":\"scatter\",\"xaxis\":\"x37\",\"yaxis\":\"y37\"},{\"marker\":{\"color\":[322],\"colorbar\":{\"title\":{\"text\":\"Trial\"},\"x\":1.0,\"xpad\":40},\"colorscale\":[[0.0,\"rgb(247,251,255)\"],[0.125,\"rgb(222,235,247)\"],[0.25,\"rgb(198,219,239)\"],[0.375,\"rgb(158,202,225)\"],[0.5,\"rgb(107,174,214)\"],[0.625,\"rgb(66,146,198)\"],[0.75,\"rgb(33,113,181)\"],[0.875,\"rgb(8,81,156)\"],[1.0,\"rgb(8,48,107)\"]],\"line\":{\"color\":\"Grey\",\"width\":0.5},\"showscale\":false},\"mode\":\"markers\",\"name\":\"Feasible Trial\",\"showlegend\":false,\"x\":[\"rp3\"],\"y\":[0.04882891345137957],\"type\":\"scatter\",\"xaxis\":\"x38\",\"yaxis\":\"y38\"},{\"marker\":{\"color\":[24],\"colorbar\":{\"title\":{\"text\":\"Trial\"},\"x\":1.0,\"xpad\":40},\"colorscale\":[[0.0,\"rgb(247,251,255)\"],[0.125,\"rgb(222,235,247)\"],[0.25,\"rgb(198,219,239)\"],[0.375,\"rgb(158,202,225)\"],[0.5,\"rgb(107,174,214)\"],[0.625,\"rgb(66,146,198)\"],[0.75,\"rgb(33,113,181)\"],[0.875,\"rgb(8,81,156)\"],[1.0,\"rgb(8,48,107)\"]],\"line\":{\"color\":\"Grey\",\"width\":0.5},\"showscale\":false},\"mode\":\"markers\",\"name\":\"Feasible Trial\",\"showlegend\":false,\"x\":[\"rp3\"],\"y\":[0.049203924077920486],\"type\":\"scatter\",\"xaxis\":\"x39\",\"yaxis\":\"y39\"},{\"marker\":{\"color\":[302],\"colorbar\":{\"title\":{\"text\":\"Trial\"},\"x\":1.0,\"xpad\":40},\"colorscale\":[[0.0,\"rgb(247,251,255)\"],[0.125,\"rgb(222,235,247)\"],[0.25,\"rgb(198,219,239)\"],[0.375,\"rgb(158,202,225)\"],[0.5,\"rgb(107,174,214)\"],[0.625,\"rgb(66,146,198)\"],[0.75,\"rgb(33,113,181)\"],[0.875,\"rgb(8,81,156)\"],[1.0,\"rgb(8,48,107)\"]],\"line\":{\"color\":\"Grey\",\"width\":0.5},\"showscale\":false},\"mode\":\"markers\",\"name\":\"Feasible Trial\",\"showlegend\":false,\"x\":[\"alpha\"],\"y\":[0.04785586767224155],\"type\":\"scatter\",\"xaxis\":\"x40\",\"yaxis\":\"y40\"},{\"marker\":{\"color\":[342],\"colorbar\":{\"title\":{\"text\":\"Trial\"},\"x\":1.0,\"xpad\":40},\"colorscale\":[[0.0,\"rgb(247,251,255)\"],[0.125,\"rgb(222,235,247)\"],[0.25,\"rgb(198,219,239)\"],[0.375,\"rgb(158,202,225)\"],[0.5,\"rgb(107,174,214)\"],[0.625,\"rgb(66,146,198)\"],[0.75,\"rgb(33,113,181)\"],[0.875,\"rgb(8,81,156)\"],[1.0,\"rgb(8,48,107)\"]],\"line\":{\"color\":\"Grey\",\"width\":0.5},\"showscale\":false},\"mode\":\"markers\",\"name\":\"Feasible Trial\",\"showlegend\":false,\"x\":[\"rp3\"],\"y\":[0.049129416845800425],\"type\":\"scatter\",\"xaxis\":\"x41\",\"yaxis\":\"y41\"},{\"marker\":{\"color\":[38,40,41,42,43,44,46,47,48,49],\"colorbar\":{\"title\":{\"text\":\"Trial\"},\"x\":1.0,\"xpad\":40},\"colorscale\":[[0.0,\"rgb(247,251,255)\"],[0.125,\"rgb(222,235,247)\"],[0.25,\"rgb(198,219,239)\"],[0.375,\"rgb(158,202,225)\"],[0.5,\"rgb(107,174,214)\"],[0.625,\"rgb(66,146,198)\"],[0.75,\"rgb(33,113,181)\"],[0.875,\"rgb(8,81,156)\"],[1.0,\"rgb(8,48,107)\"]],\"line\":{\"color\":\"Grey\",\"width\":0.5},\"showscale\":false},\"mode\":\"markers\",\"name\":\"Feasible Trial\",\"showlegend\":false,\"x\":[\"slim\",\"slim\",\"slim\",\"slim\",\"slim\",\"slim\",\"slim\",\"slim\",\"slim\",\"slim\"],\"y\":[0.05119455222793084,0.051182999659951336,0.05119052173279475,0.05120817317618262,0.051195167049222785,0.05119309866895048,0.05118446839970431,0.0511877284706289,0.051197132959279745,0.051209676072674036],\"type\":\"scatter\",\"xaxis\":\"x42\",\"yaxis\":\"y42\"},{\"marker\":{\"color\":[8,59,70,95,126,166,209,258,291,320,352,516,543,571,608,631,661,694,724,754,783],\"colorbar\":{\"title\":{\"text\":\"Trial\"},\"x\":1.0,\"xpad\":40},\"colorscale\":[[0.0,\"rgb(247,251,255)\"],[0.125,\"rgb(222,235,247)\"],[0.25,\"rgb(198,219,239)\"],[0.375,\"rgb(158,202,225)\"],[0.5,\"rgb(107,174,214)\"],[0.625,\"rgb(66,146,198)\"],[0.75,\"rgb(33,113,181)\"],[0.875,\"rgb(8,81,156)\"],[1.0,\"rgb(8,48,107)\"]],\"line\":{\"color\":\"Grey\",\"width\":0.5},\"showscale\":false},\"mode\":\"markers\",\"name\":\"Feasible Trial\",\"showlegend\":false,\"x\":[\"easeR\",\"merging\",\"userKnn\",\"ials\",\"itemKnn\",\"slim\",\"alpha\",\"easeR\",\"itemKnn\",\"ials\",\"userKnn\",\"merging\",\"alpha\",\"slim\",\"merging\",\"easeR\",\"userKnn\",\"alpha\",\"slim\",\"itemKnn\",\"ials\"],\"y\":[0.044856264649446274,0.04996411265347834,0.03844271080020928,0.04246722471186953,0.04883101978358361,0.051137525655506416,0.0478255592596646,0.044854181088401356,0.04895581332507566,0.04347909531703585,0.040068055403748234,0.04995917131198382,0.047826587757011,0.051147480447165494,0.04995922444468806,0.04484818847840146,0.0387781565380556,0.047817259172223334,0.05115765156483469,0.04882431367726963,0.042735586615416946],\"type\":\"scatter\",\"xaxis\":\"x43\",\"yaxis\":\"y43\"},{\"marker\":{\"color\":[29],\"colorbar\":{\"title\":{\"text\":\"Trial\"},\"x\":1.0,\"xpad\":40},\"colorscale\":[[0.0,\"rgb(247,251,255)\"],[0.125,\"rgb(222,235,247)\"],[0.25,\"rgb(198,219,239)\"],[0.375,\"rgb(158,202,225)\"],[0.5,\"rgb(107,174,214)\"],[0.625,\"rgb(66,146,198)\"],[0.75,\"rgb(33,113,181)\"],[0.875,\"rgb(8,81,156)\"],[1.0,\"rgb(8,48,107)\"]],\"line\":{\"color\":\"Grey\",\"width\":0.5},\"showscale\":false},\"mode\":\"markers\",\"name\":\"Feasible Trial\",\"showlegend\":false,\"x\":[\"userKnn\"],\"y\":[0.03859770269367671],\"type\":\"scatter\",\"xaxis\":\"x44\",\"yaxis\":\"y44\"},{\"marker\":{\"color\":[3],\"colorbar\":{\"title\":{\"text\":\"Trial\"},\"x\":1.0,\"xpad\":40},\"colorscale\":[[0.0,\"rgb(247,251,255)\"],[0.125,\"rgb(222,235,247)\"],[0.25,\"rgb(198,219,239)\"],[0.375,\"rgb(158,202,225)\"],[0.5,\"rgb(107,174,214)\"],[0.625,\"rgb(66,146,198)\"],[0.75,\"rgb(33,113,181)\"],[0.875,\"rgb(8,81,156)\"],[1.0,\"rgb(8,48,107)\"]],\"line\":{\"color\":\"Grey\",\"width\":0.5},\"showscale\":false},\"mode\":\"markers\",\"name\":\"Feasible Trial\",\"showlegend\":false,\"x\":[\"ials\"],\"y\":[0.04243095025564479],\"type\":\"scatter\",\"xaxis\":\"x45\",\"yaxis\":\"y45\"},{\"marker\":{\"color\":[68,86,116,148,190,245,276,309,339,503,533,564,593,623,653,684,715,743,773],\"colorbar\":{\"title\":{\"text\":\"Trial\"},\"x\":1.0,\"xpad\":40},\"colorscale\":[[0.0,\"rgb(247,251,255)\"],[0.125,\"rgb(222,235,247)\"],[0.25,\"rgb(198,219,239)\"],[0.375,\"rgb(158,202,225)\"],[0.5,\"rgb(107,174,214)\"],[0.625,\"rgb(66,146,198)\"],[0.75,\"rgb(33,113,181)\"],[0.875,\"rgb(8,81,156)\"],[1.0,\"rgb(8,48,107)\"]],\"line\":{\"color\":\"Grey\",\"width\":0.5},\"showscale\":false},\"mode\":\"markers\",\"name\":\"Feasible Trial\",\"showlegend\":false,\"x\":[\"itemKnn\",\"rp3\",\"alpha\",\"userKnn\",\"merging\",\"ials\",\"easeR\",\"ials\",\"alpha\",\"rp3\",\"itemKnn\",\"userKnn\",\"easeR\",\"merging\",\"ials\",\"merging\",\"easeR\",\"alpha\",\"rp3\"],\"y\":[0.04865619041546813,0.0491556074737986,0.047839886113844196,0.03712368382701241,0.05003983814260281,0.042260379094254986,0.04473727395829599,0.04167206343134099,0.04785840665646572,0.04919193885792071,0.048729080895301966,0.03657791607461683,0.044678858345174995,0.05003549644162761,0.041786317721427345,0.0500614479724567,0.04473522834918266,0.04780887559053259,0.049214444353360406],\"type\":\"scatter\",\"xaxis\":\"x46\",\"yaxis\":\"y46\"},{\"marker\":{\"color\":[37],\"colorbar\":{\"title\":{\"text\":\"Trial\"},\"x\":1.0,\"xpad\":40},\"colorscale\":[[0.0,\"rgb(247,251,255)\"],[0.125,\"rgb(222,235,247)\"],[0.25,\"rgb(198,219,239)\"],[0.375,\"rgb(158,202,225)\"],[0.5,\"rgb(107,174,214)\"],[0.625,\"rgb(66,146,198)\"],[0.75,\"rgb(33,113,181)\"],[0.875,\"rgb(8,81,156)\"],[1.0,\"rgb(8,48,107)\"]],\"line\":{\"color\":\"Grey\",\"width\":0.5},\"showscale\":false},\"mode\":\"markers\",\"name\":\"Feasible Trial\",\"showlegend\":false,\"x\":[\"ials\"],\"y\":[0.04195279386939738],\"type\":\"scatter\",\"xaxis\":\"x47\",\"yaxis\":\"y47\"},{\"marker\":{\"color\":[19],\"colorbar\":{\"title\":{\"text\":\"Trial\"},\"x\":1.0,\"xpad\":40},\"colorscale\":[[0.0,\"rgb(247,251,255)\"],[0.125,\"rgb(222,235,247)\"],[0.25,\"rgb(198,219,239)\"],[0.375,\"rgb(158,202,225)\"],[0.5,\"rgb(107,174,214)\"],[0.625,\"rgb(66,146,198)\"],[0.75,\"rgb(33,113,181)\"],[0.875,\"rgb(8,81,156)\"],[1.0,\"rgb(8,48,107)\"]],\"line\":{\"color\":\"Grey\",\"width\":0.5},\"showscale\":false},\"mode\":\"markers\",\"name\":\"Feasible Trial\",\"showlegend\":false,\"x\":[\"rp3\"],\"y\":[0.04912799744355852],\"type\":\"scatter\",\"xaxis\":\"x48\",\"yaxis\":\"y48\"},{\"marker\":{\"color\":[15],\"colorbar\":{\"title\":{\"text\":\"Trial\"},\"x\":1.0,\"xpad\":40},\"colorscale\":[[0.0,\"rgb(247,251,255)\"],[0.125,\"rgb(222,235,247)\"],[0.25,\"rgb(198,219,239)\"],[0.375,\"rgb(158,202,225)\"],[0.5,\"rgb(107,174,214)\"],[0.625,\"rgb(66,146,198)\"],[0.75,\"rgb(33,113,181)\"],[0.875,\"rgb(8,81,156)\"],[1.0,\"rgb(8,48,107)\"]],\"line\":{\"color\":\"Grey\",\"width\":0.5},\"showscale\":false},\"mode\":\"markers\",\"name\":\"Feasible Trial\",\"showlegend\":false,\"x\":[\"ials\"],\"y\":[0.04224728567785245],\"type\":\"scatter\",\"xaxis\":\"x49\",\"yaxis\":\"y49\"},{\"marker\":{\"color\":[26,128,159,214,257,289,324,351,513,541,574,602,632,665,692,723,752,781],\"colorbar\":{\"title\":{\"text\":\"Trial\"},\"x\":1.0,\"xpad\":40},\"colorscale\":[[0.0,\"rgb(247,251,255)\"],[0.125,\"rgb(222,235,247)\"],[0.25,\"rgb(198,219,239)\"],[0.375,\"rgb(158,202,225)\"],[0.5,\"rgb(107,174,214)\"],[0.625,\"rgb(66,146,198)\"],[0.75,\"rgb(33,113,181)\"],[0.875,\"rgb(8,81,156)\"],[1.0,\"rgb(8,48,107)\"]],\"line\":{\"color\":\"Grey\",\"width\":0.5},\"showscale\":false},\"mode\":\"markers\",\"name\":\"Feasible Trial\",\"showlegend\":false,\"x\":[\"itemKnn\",\"easeR\",\"alpha\",\"ials\",\"slim\",\"rp3\",\"merging\",\"rp3\",\"merging\",\"easeR\",\"ials\",\"itemKnn\",\"alpha\",\"slim\",\"alpha\",\"merging\",\"itemKnn\",\"rp3\"],\"y\":[0.04857317436028295,0.04466390148893078,0.04667878092323439,0.041361377533671424,0.04808099473530889,0.04763065711492506,0.04555960502665815,0.04474634067475567,0.04829421248223924,0.04448920115738269,0.04136792803706585,0.047725669775689615,0.04673506743299263,0.04851776074495164,0.04673981521963598,0.04706208404683032,0.046099281494031606,0.047808997036713693],\"type\":\"scatter\",\"xaxis\":\"x50\",\"yaxis\":\"y50\"},{\"marker\":{\"color\":[25,27,28],\"colorbar\":{\"title\":{\"text\":\"Trial\"},\"x\":1.0,\"xpad\":40},\"colorscale\":[[0.0,\"rgb(247,251,255)\"],[0.125,\"rgb(222,235,247)\"],[0.25,\"rgb(198,219,239)\"],[0.375,\"rgb(158,202,225)\"],[0.5,\"rgb(107,174,214)\"],[0.625,\"rgb(66,146,198)\"],[0.75,\"rgb(33,113,181)\"],[0.875,\"rgb(8,81,156)\"],[1.0,\"rgb(8,48,107)\"]],\"line\":{\"color\":\"Grey\",\"width\":0.5},\"showscale\":false},\"mode\":\"markers\",\"name\":\"Feasible Trial\",\"showlegend\":false,\"x\":[\"slim\",\"slim\",\"slim\"],\"y\":[0.050999752553406566,0.05098235538796042,0.05097351258789727],\"type\":\"scatter\",\"xaxis\":\"x51\",\"yaxis\":\"y51\"},{\"marker\":{\"color\":[14],\"colorbar\":{\"title\":{\"text\":\"Trial\"},\"x\":1.0,\"xpad\":40},\"colorscale\":[[0.0,\"rgb(247,251,255)\"],[0.125,\"rgb(222,235,247)\"],[0.25,\"rgb(198,219,239)\"],[0.375,\"rgb(158,202,225)\"],[0.5,\"rgb(107,174,214)\"],[0.625,\"rgb(66,146,198)\"],[0.75,\"rgb(33,113,181)\"],[0.875,\"rgb(8,81,156)\"],[1.0,\"rgb(8,48,107)\"]],\"line\":{\"color\":\"Grey\",\"width\":0.5},\"showscale\":false},\"mode\":\"markers\",\"name\":\"Feasible Trial\",\"showlegend\":false,\"x\":[\"rp3\"],\"y\":[0.04832782271286534],\"type\":\"scatter\",\"xaxis\":\"x52\",\"yaxis\":\"y52\"},{\"marker\":{\"color\":[23],\"colorbar\":{\"title\":{\"text\":\"Trial\"},\"x\":1.0,\"xpad\":40},\"colorscale\":[[0.0,\"rgb(247,251,255)\"],[0.125,\"rgb(222,235,247)\"],[0.25,\"rgb(198,219,239)\"],[0.375,\"rgb(158,202,225)\"],[0.5,\"rgb(107,174,214)\"],[0.625,\"rgb(66,146,198)\"],[0.75,\"rgb(33,113,181)\"],[0.875,\"rgb(8,81,156)\"],[1.0,\"rgb(8,48,107)\"]],\"line\":{\"color\":\"Grey\",\"width\":0.5},\"showscale\":false},\"mode\":\"markers\",\"name\":\"Feasible Trial\",\"showlegend\":false,\"x\":[\"rp3\"],\"y\":[0.048872497449630764],\"type\":\"scatter\",\"xaxis\":\"x53\",\"yaxis\":\"y53\"},{\"marker\":{\"color\":[17],\"colorbar\":{\"title\":{\"text\":\"Trial\"},\"x\":1.0,\"xpad\":40},\"colorscale\":[[0.0,\"rgb(247,251,255)\"],[0.125,\"rgb(222,235,247)\"],[0.25,\"rgb(198,219,239)\"],[0.375,\"rgb(158,202,225)\"],[0.5,\"rgb(107,174,214)\"],[0.625,\"rgb(66,146,198)\"],[0.75,\"rgb(33,113,181)\"],[0.875,\"rgb(8,81,156)\"],[1.0,\"rgb(8,48,107)\"]],\"line\":{\"color\":\"Grey\",\"width\":0.5},\"showscale\":false},\"mode\":\"markers\",\"name\":\"Feasible Trial\",\"showlegend\":false,\"x\":[\"ials\"],\"y\":[0.0418520125150295],\"type\":\"scatter\",\"xaxis\":\"x54\",\"yaxis\":\"y54\"},{\"marker\":{\"color\":[22],\"colorbar\":{\"title\":{\"text\":\"Trial\"},\"x\":1.0,\"xpad\":40},\"colorscale\":[[0.0,\"rgb(247,251,255)\"],[0.125,\"rgb(222,235,247)\"],[0.25,\"rgb(198,219,239)\"],[0.375,\"rgb(158,202,225)\"],[0.5,\"rgb(107,174,214)\"],[0.625,\"rgb(66,146,198)\"],[0.75,\"rgb(33,113,181)\"],[0.875,\"rgb(8,81,156)\"],[1.0,\"rgb(8,48,107)\"]],\"line\":{\"color\":\"Grey\",\"width\":0.5},\"showscale\":false},\"mode\":\"markers\",\"name\":\"Feasible Trial\",\"showlegend\":false,\"x\":[\"ials\"],\"y\":[0.041605195923052285],\"type\":\"scatter\",\"xaxis\":\"x55\",\"yaxis\":\"y55\"},{\"marker\":{\"color\":[4,10,11,12,16,21],\"colorbar\":{\"title\":{\"text\":\"Trial\"},\"x\":1.0,\"xpad\":40},\"colorscale\":[[0.0,\"rgb(247,251,255)\"],[0.125,\"rgb(222,235,247)\"],[0.25,\"rgb(198,219,239)\"],[0.375,\"rgb(158,202,225)\"],[0.5,\"rgb(107,174,214)\"],[0.625,\"rgb(66,146,198)\"],[0.75,\"rgb(33,113,181)\"],[0.875,\"rgb(8,81,156)\"],[1.0,\"rgb(8,48,107)\"]],\"line\":{\"color\":\"Grey\",\"width\":0.5},\"showscale\":false},\"mode\":\"markers\",\"name\":\"Feasible Trial\",\"showlegend\":false,\"x\":[\"merging\",\"merging\",\"merging\",\"merging\",\"alpha\",\"merging\"],\"y\":[0.04976580242528092,0.04977021243973303,0.049752082802006985,0.04967247103508651,0.04716407227262294,0.0497802545208348],\"type\":\"scatter\",\"xaxis\":\"x56\",\"yaxis\":\"y56\"},{\"marker\":{\"color\":[0,1,2,3,4,5,6,7,8,9,10,11,12,13,14,15,16,17,18,19,20,21,22,23,24,25,26,27,28,29,30,31,32,33,34,35,36,37,38,39,40,41,42,43,44,45,46,47,48,49,50,51,52,53,54,55,56,57,58,59,60,61,62,63,64,65,66,67,68,69,70,71,72,73,74,75,76,77,78,79,80,81,82,83,84,85,86,87,88,89,90,91,92,93,94,95,96,97,98,99,100,101,102,103,104,105,106,107,108,109,110,111,112,113,114,115,116,117,118,119,120,121,122,123,124,125,126,127,128,129,130,131,132,133,134,135,136,137,138,139,140,141,142,143,144,145,146,147,148,149,150,151,152,153,154,155,156,157,158,159,160,161,162,163,164,165,166,167,168,169,170,171,172,173,174,175,176,177,178,179,180,181,182,183,184,185,186,187,188,189,190,191,192,193,194,195,196,197,198,199,200,201,202,203,204,205,206,207,208,209,210,211,212,213,214,215,216,217,218,219,220,221,222,223,224,225,226,227,228,229,230,231,232,233,234,235,236,237,238,239,240,241,242,243,244,245,246,247,248,249,250,251,252,253,254,255,256,257,258,259,260,261,262,263,264,265,266,267,268,269,270,271,272,273,274,275,276,277,278,279,280,281,282,283,284,285,286,287,288,289,290,291,292,293,294,295,296,297,298,299,300,301,302,303,304,305,306,307,308,309,310,311,312,313,314,315,316,317,318,319,320,321,322,323,324,325,326,327,328,329,330,331,332,333,334,335,336,337,338,339,340,341,342,343,344,345,346,347,348,349,350,351,352,353,354,355,356,357,358,359,360,361,362,363,364,365,366,367,368,369,370,371,372,373,374,375,376,377,378,379,380,381,382,383,384,385,386,387,388,389,390,391,392,393,394,395,396,397,398,399,400,401,402,403,404,405,406,407,408,409,410,411,412,413,414,415,416,417,418,419,420,421,422,423,424,425,426,427,428,429,430,431,432,433,434,435,436,437,438,439,440,441,442,443,444,445,446,447,448,449,450,451,452,453,454,455,456,457,458,459,460,461,462,463,464,465,466,467,468,469,470,471,472,473,474,475,476,477,478,479,480,481,482,483,484,485,486,487,488,489,490,491,492,493,494,495,496,497,498,499,500,501,502,503,504,505,506,507,508,509,510,511,512,513,514,515,516,517,518,519,520,521,522,523,524,525,526,527,528,529,530,531,532,533,534,535,536,537,538,539,540,541,542,543,544,545,546,547,548,549,550,551,552,553,554,555,556,557,558,559,560,561,562,563,564,565,566,567,568,569,570,571,572,573,574,575,576,577,578,579,580,581,582,583,584,585,586,587,588,589,590,591,592,593,594,595,596,597,598,599,600,601,602,603,604,605,606,607,608,609,610,611,612,613,614,615,616,617,618,619,620,621,622,623,624,625,626,627,628,629,630,631,632,633,634,635,636,637,638,639,640,641,642,643,644,645,646,647,648,649,650,651,652,653,654,655,656,657,658,659,660,661,662,663,664,665,666,667,668,669,670,671,672,673,674,675,676,677,678,679,680,681,682,683,684,685,686,687,688,689,690,691,692,693,694,695,696,697,698,699,700,701,702,703,704,705,706,707,708,709,710,711,712,713,714,715,716,717,718,719,720,721,722,723,724,725,726,727,728,729,730,731,732,733,734,735,736,737,738,739,740,741,742,743,744,745,746,747,748,749,750,751,752,753,754,755,756,757,758,759,760,761,762,763,764,765,766,767,768,769,770,771,772,773,774,775,776,777,778,779,780,781,782,783,784,785,786,787,788,789,790,791,792,793,794,795,796,797,798,799],\"colorbar\":{\"title\":{\"text\":\"Trial\"},\"x\":1.0,\"xpad\":40},\"colorscale\":[[0.0,\"rgb(247,251,255)\"],[0.125,\"rgb(222,235,247)\"],[0.25,\"rgb(198,219,239)\"],[0.375,\"rgb(158,202,225)\"],[0.5,\"rgb(107,174,214)\"],[0.625,\"rgb(66,146,198)\"],[0.75,\"rgb(33,113,181)\"],[0.875,\"rgb(8,81,156)\"],[1.0,\"rgb(8,48,107)\"]],\"line\":{\"color\":\"Grey\",\"width\":0.5},\"showscale\":false},\"mode\":\"markers\",\"name\":\"Feasible Trial\",\"showlegend\":false,\"x\":[true,true,false,true,true,false,false,true,false,false,true,true,true,true,true,true,true,true,true,true,true,true,true,true,true,true,false,true,true,true,true,true,true,true,true,true,false,true,true,false,true,true,true,true,true,false,true,true,true,true,false,false,false,false,false,false,false,false,false,false,false,false,false,false,false,false,false,false,false,false,false,false,false,false,false,false,false,false,false,false,false,false,false,false,false,false,false,false,false,false,false,false,false,false,false,false,false,false,false,false,false,false,false,false,false,false,false,false,false,false,false,false,false,false,false,false,false,false,false,false,false,false,false,false,false,false,false,false,false,false,false,false,false,false,false,false,false,false,false,false,false,false,false,false,false,false,false,false,false,false,false,false,false,false,false,false,false,false,false,false,false,false,false,false,false,false,false,false,false,false,false,false,false,false,false,false,false,false,false,false,false,false,false,false,false,false,false,false,false,false,false,false,false,false,false,false,false,false,false,false,false,false,false,false,false,false,false,false,false,false,false,false,false,false,false,false,false,false,false,false,false,false,false,false,false,false,false,false,false,false,false,false,false,false,false,false,false,false,false,false,true,false,false,false,false,false,false,false,false,false,false,false,false,false,false,false,false,false,false,false,false,false,false,true,false,false,false,false,false,false,false,false,false,false,false,false,false,false,false,false,false,false,false,false,true,false,false,false,false,false,false,false,false,false,false,false,false,false,false,false,false,false,true,false,false,false,false,false,false,false,false,false,false,false,false,false,false,false,false,false,false,false,true,false,false,false,false,false,false,false,false,false,false,false,false,false,false,false,false,false,false,false,true,false,false,false,false,false,false,false,false,false,false,false,false,false,false,false,false,false,false,true,false,false,false,false,false,false,false,false,false,false,false,false,false,false,false,false,false,false,false,false,false,false,false,false,true,false,false,false,false,false,false,false,false,false,false,false,false,false,false,false,false,false,false,false,false,true,false,false,false,false,false,false,false,false,false,false,false,false,false,false,false,false,false,false,true,false,false,false,false,false,false,false,false,false,false,false,false,false,false,false,false,false,false,false,true,false,false,false,false,false,false,false,false,false,false,false,false,false,false,false,false,false,false,false,true,false,false,false,false,false,false,false,false,false,false,false,false,false,false,false,false,false,false,false,false,true,false,false,false,false,false,false,false,false,false,false,false,false,false,false,false,false,false,false,false,true,false,false,false,false,false,false,false,false,false,false,false,false,false,false,false,false,false,false,false,true,false,false,false,false,false,false,false,false,false,false,false,false,false,false,false,false,false,false,false,true,false,false,false,false,false,false,false,false,false,false,false,false,false,false,false,false,false,false,true,false,false,false,false,false,false,false,false,false,false,false,false,false,false,false,false,false,false,true,false,false,false,false,false,false,false,false,false,false,false,false,false,false,false,false,false,false,false,true,false,false,false,false,false,false,false,false,false,false,false,false,false,false,false,false,false,false,true,false,false,false,false,false,false,false,false,false,false,false,false,false,false,false,false,false,false,true,false,false,false,false,false,false,false,false,false,false,false,false,false,false,false,false,false,false,true,false,false,false,false,false,false,false,false,false,false,false,false,false,false,false,false,false,false,false,true,false,false,false,false,false,false,false,false,false,false,false,false,false,false,false,false,false,false,false,true,false,false,false,false,false,false,false,false,false,false,false,false,false,false,false,false,false,false,true,false,false,false,false,false,false,false,false,false,false,false,false,false,false,false,false,false,false,true,false,false,false,false,false,false,false,false,false,false,false,false,false,false,false,false,false,false,true,false,false,false,false,false,false,false,false,false,false,false,false,false,false,false,false,false,false,true,false,false,false,false,false,false,false,false,false,false,false,false,false,false,false,false,false,false,true,false,false],\"y\":[0.04968313932305972,0.03804894432907101,0.03772204536622125,0.04243095025564479,0.04976580242528092,0.04253860850001881,0.04966619758079281,0.04917286421709782,0.044856264649446274,0.049143675386503105,0.04977021243973303,0.049752082802006985,0.04967247103508651,0.04919698266963051,0.04832782271286534,0.04224728567785245,0.04716407227262294,0.0418520125150295,0.042256470045299976,0.04912799744355852,0.03802045760921094,0.0497802545208348,0.041605195923052285,0.048872497449630764,0.049203924077920486,0.050999752553406566,0.04857317436028295,0.05098235538796042,0.05097351258789727,0.03859770269367671,0.04997632558506773,0.04996860236698683,0.0447746186589919,0.04996445801605586,0.04812074179327486,0.04479029660193646,0.03887638372742665,0.04195279386939738,0.05119455222793084,0.048712583190634796,0.051182999659951336,0.05119052173279475,0.05120817317618262,0.051195167049222785,0.05119309866895048,0.04486632191132065,0.05118446839970431,0.0511877284706289,0.051197132959279745,0.051209676072674036,0.05124518769507358,0.051245054863312975,0.05124518769507358,0.051245054863312975,0.05124518769507358,0.05124518769507358,0.05124518769507358,0.044813728124507284,0.04867260842107884,0.04996411265347834,0.05124518769507358,0.05124518769507358,0.05124535847876578,0.05124535847876578,0.05124535847876578,0.03612029168336581,0.05124535847876578,0.05124535847876578,0.04865619041546813,0.05124631486744214,0.03844271080020928,0.05124535847876578,0.05124535847876578,0.03722888278621854,0.04781601434886682,0.04245056760908954,0.05097012727559849,0.042279484096623146,0.048733532656878846,0.05124823903037434,0.05124823903037434,0.05124823903037434,0.05124834529578282,0.05124834529578282,0.05124834529578282,0.05124834529578282,0.0491556074737986,0.05124834529578282,0.05124834529578282,0.05124834529578282,0.04915612362006838,0.05124834529578282,0.05124834529578282,0.051252474465941084,0.0374441499374555,0.04246722471186953,0.048710643846929955,0.0499886979147698,0.04767008917185919,0.04494849163843111,0.044880865091510354,0.05124823903037434,0.051252474465941084,0.051252474465941084,0.04782810962946822,0.04253071449824564,0.04923597448415795,0.05124834529578282,0.049151781919093175,0.05124631486744214,0.051263154139493734,0.051260584793724306,0.051289223321310765,0.0512491574671191,0.051248713429519366,0.04871749417058404,0.047839886113844196,0.051260584793724306,0.05126100985535825,0.04485897441736254,0.04492020985900164,0.05126111612076673,0.05126085045724552,0.051258497437486235,0.05126111612076673,0.051259506958866836,0.04883101978358361,0.05126300612696049,0.04466390148893078,0.051259639790627434,0.05122673546592894,0.05126300612696049,0.05126300612696049,0.0512599472012734,0.051263154139493734,0.04890235043902861,0.05125241753804366,0.051248478127543434,0.05005379686304587,0.05124409847463662,0.05125241753804366,0.051261548772787,0.05131493955016393,0.05128694620541468,0.05129312477987941,0.051289223321310765,0.05131493955016393,0.0393964807932868,0.03712368382701241,0.047837802552799256,0.05125241753804366,0.05127108988839162,0.05132359638576222,0.05128694620541468,0.04340389356456745,0.05125321832380047,0.051256527732236115,0.051249776083604204,0.05126048611870216,0.04667878092323439,0.03534748788574371,0.05130572861636425,0.05131341767770671,0.05131813130761162,0.04915037010723759,0.051291325858321496,0.051137525655506416,0.05131493955016393,0.05131493955016393,0.04824883335762317,0.04871749417058404,0.051255552367593944,0.05132359638576222,0.05131493955016393,0.05132359638576222,0.04967534779150189,0.05125292229873397,0.04495564557753798,0.05132350150593321,0.04254756895106993,0.05125329802285682,0.05131813130761162,0.0512595297300258,0.051244830946916536,0.05132359638576222,0.05126048611870216,0.05125446694235014,0.05124409847463662,0.0372012120328879,0.05132350150593321,0.05003983814260281,0.05132359638576222,0.05132350150593321,0.05132350150593321,0.051248595778531386,0.0512491574671191,0.047984513334791264,0.051261548772787,0.04280531949454154,0.05132350150593321,0.051259639790627434,0.05132350150593321,0.05124440588528258,0.051245309141254705,0.05131493955016393,0.05126137798909479,0.05132359638576222,0.048792274656611706,0.049153835118592816,0.0478255592596646,0.05124440588528258,0.05132350150593321,0.05130572861636425,0.051244830946916536,0.041361377533671424,0.05131493955016393,0.05124371516012744,0.05124535847876578,0.048706685460463923,0.04921906310343633,0.042788237330127724,0.05132350150593321,0.05129383068580718,0.05131493955016393,0.051244830946916536,0.05126048611870216,0.0512501669884997,0.044898087678071116,0.05116286236504359,0.05131493955016393,0.05132350150593321,0.051255552367593944,0.05132359638576222,0.05124371516012744,0.05131493955016393,0.05126048611870216,0.051245309141254705,0.05124594673370562,0.05124409847463662,0.05132350150593321,0.0489616768985081,0.05132359638576222,0.05132359638576222,0.051244830946916536,0.03783796574610496,0.042260379094254986,0.05124594673370562,0.05126111612076673,0.05132350150593321,0.047839912680196287,0.05124936999793607,0.04340696767102717,0.05125329802285682,0.04700309535954196,0.05132350150593321,0.0512595297300258,0.05126111612076673,0.04808099473530889,0.044854181088401356,0.05126048611870216,0.05131341767770671,0.04814141041522505,0.04915577825749081,0.050984032863337275,0.051259506958866836,0.05124594673370562,0.05131493955016393,0.051261123711153066,0.04871784332835477,0.0482512964379841,0.05124535847876578,0.05124936999793607,0.04514041076134673,0.05132350150593321,0.05126048611870216,0.051260584793724306,0.04473727395829599,0.05132350150593321,0.05125329802285682,0.05132359638576222,0.051244830946916536,0.05126048611870216,0.05125943485019679,0.05124936999793607,0.037494553897815475,0.05132359638576222,0.047233137197751435,0.0512595297300258,0.037237805285338064,0.04763065711492506,0.04785129825967675,0.04895581332507566,0.04482851419705923,0.05125382934989925,0.05126111612076673,0.0422622311485171,0.05124936999793607,0.04888449785040326,0.05124921059982335,0.051261548772787,0.05131813130761162,0.051245054863312975,0.04785586767224155,0.05132359638576222,0.049157884589694695,0.04875119928103935,0.051251916572546526,0.05131493955016393,0.05124594673370562,0.04167206343134099,0.04871011251988754,0.05132359638576222,0.051245054863312975,0.0512599472012734,0.05124518769507358,0.04490286203106659,0.050813363026925296,0.05124594673370562,0.05132359638576222,0.051251916572546526,0.04347909531703585,0.051244830946916536,0.04882891345137957,0.04998232199026075,0.04555960502665815,0.05125446694235014,0.0512491574671191,0.04021273955259269,0.0512546149548834,0.03835711401367518,0.05126111612076673,0.05132359638576222,0.03691936960323566,0.0512546149548834,0.04780470846844274,0.05124936999793607,0.05132350150593321,0.04257804435214591,0.05132350150593321,0.04785840665646572,0.05124535847876578,0.05126059238411064,0.049129416845800425,0.0512491574671191,0.05124409847463662,0.049151721196002605,0.0512501669884997,0.05125421645960158,0.036139491565563016,0.051259639790627434,0.05125321832380047,0.04474634067475567,0.040068055403748234,0.04870576322852602,0.03911551125806132,0.05124631486744214,0.051261541182400665,0.051251916572546526,0.044955861903548104,0.05125321832380047,0.051259639790627434,0.04491230826684221,0.05125382934989925,0.05133656456079047,0.05133847733814318,0.05133346009278546,0.05133346009278546,0.05133346009278546,0.05133346009278546,0.05133346009278546,0.05133346009278546,0.05133346009278546,0.05133346009278546,0.05133346009278546,0.0513328756330388,0.05133346009278546,0.05133346009278546,0.05133346009278546,0.05133346009278546,0.05133346009278546,0.05133346009278546,0.05133346009278546,0.05133346009278546,0.05133346009278546,0.05133346009278546,0.05133346009278546,0.05002050542864502,0.05133346009278546,0.05133346009278546,0.05133346009278546,0.05133346009278546,0.0513328756330388,0.05133346009278546,0.05133346009278546,0.05133346009278546,0.05133346009278546,0.0513328756330388,0.0513328756330388,0.05133346009278546,0.05133346009278546,0.0513328756330388,0.05133346009278546,0.0513328756330388,0.05133346009278546,0.0513328756330388,0.05133346009278546,0.05133346009278546,0.050028365273679695,0.0513328756330388,0.05133346009278546,0.05133346009278546,0.0513328756330388,0.0513328756330388,0.05133346009278546,0.05133346009278546,0.05133346009278546,0.0513328756330388,0.049275539372852506,0.0513328756330388,0.05005190685685212,0.0513328756330388,0.04171842171579217,0.05133346009278546,0.05133346009278546,0.051334416481461816,0.05133346009278546,0.048739358278379614,0.0480796815984752,0.05133346009278546,0.04873576802565016,0.03631311785744676,0.051334416481461816,0.051334416481461816,0.05133175984624971,0.051334416481461816,0.05133335382737698,0.05133335382737698,0.05133346009278546,0.0513328756330388,0.0513328756330388,0.051334416481461816,0.05133175984624971,0.05133346009278546,0.05133263274067655,0.05133346009278546,0.0513328756330388,0.04877321519656129,0.051334416481461816,0.05133175984624971,0.05133346009278546,0.0513328756330388,0.051334416481461816,0.05133175984624971,0.05133346009278546,0.05133550190670563,0.05133550190670563,0.05133560817211411,0.05133550190670563,0.049292477319926274,0.05004433544649762,0.04176286722289069,0.05133550190670563,0.051337027574356,0.04819145762742798,0.051336894742595396,0.051337027574356,0.03638129850256889,0.05133657594636995,0.03640415315577933,0.04874087635564373,0.05133560817211411,0.05133560817211411,0.051337027574356,0.05133657594636995,0.051337027574356,0.051337027574356,0.051337027574356,0.051337027574356,0.051336894742595396,0.051337027574356,0.05133550190670563,0.051337027574356,0.05133607118567964,0.051337027574356,0.051337027574356,0.05133607118567964,0.05133596492027116,0.049244411198552974,0.05133798396303236,0.05133798396303236,0.051337027574356,0.0513390086651856,0.05133798396303236,0.0513390086651856,0.05133607118567964,0.04932471369062857,0.0513390086651856,0.05004801678386297,0.0513390086651856,0.0513390086651856,0.041786226636791414,0.05133935402776317,0.0513390086651856,0.04919193885792071,0.051339221196002566,0.04820467249001164,0.05133935402776317,0.03631244231306424,0.05133669739255107,0.036472178197981875,0.04817256895106997,0.0487492599373345,0.0513390086651856,0.04829421248223924,0.0513364848617341,0.042574742534096544,0.04995917131198382,0.0513364848617341,0.0513328756330388,0.0513390086651856,0.05133772968509063,0.05133968800476127,0.04867278679515735,0.05133772968509063,0.05133968800476127,0.05133968800476127,0.05133821167462198,0.051081409929440415,0.05134282283431156,0.0513328756330388,0.05133847733814318,0.05133968800476127,0.05133968800476127,0.048729080895301966,0.05133968800476127,0.05134282283431156,0.05133847733814318,0.05132813543678178,0.05133847733814318,0.05133847733814318,0.050043481528036594,0.04448920115738269,0.049941034083871474,0.047826587757011,0.05133847733814318,0.051230135959000424,0.05133847733814318,0.04808381835901978,0.049289968697247374,0.04181867174311759,0.05096407014731489,0.05133847733814318,0.05133667082619896,0.04822571304089152,0.0513328756330388,0.05133772968509063,0.04873329355970974,0.0513328756330388,0.036488603793979016,0.0513328756330388,0.05133772968509063,0.0513328756330388,0.051333794069783556,0.0513364848617341,0.03657791607461683,0.05133669739255107,0.04815748685345146,0.051333794069783556,0.0513328756330388,0.05133346009278546,0.05133935402776317,0.051147480447165494,0.04480684364411473,0.0513328756330388,0.04136792803706585,0.049201335756185245,0.05133335382737698,0.0513390086651856,0.050982666593799644,0.051334416481461816,0.051337027574356,0.0513328376811072,0.0513390086651856,0.051334416481461816,0.05133798396303236,0.049246824941402825,0.05004742093853682,0.0513390086651856,0.0513328756330388,0.04927919793905888,0.04177047278998364,0.05133550190670563,0.04820116573153166,0.044678858345174995,0.0513328756330388,0.0513390086651856,0.051338496314108986,0.0487382500819769,0.03637160937443105,0.05133607118567964,0.050847405909571826,0.0513390086651856,0.047725669775689615,0.05133690992336804,0.05133335382737698,0.0492673113940813,0.04967083151164136,0.051335767570226856,0.04995922444468806,0.05133560817211411,0.05133346009278546,0.049982561087429836,0.0513390086651856,0.05133263274067655,0.05133690992336804,0.051333794069783556,0.05133346009278546,0.0513390086651856,0.05133523244799128,0.0513328756330388,0.05133560817211411,0.05133772968509063,0.05133263274067655,0.05003549644162761,0.04223408979123456,0.049319635722180295,0.05133346009278546,0.050050199019930054,0.04814748272428135,0.05133772968509063,0.05133550190670563,0.04484818847840146,0.04673506743299263,0.05133690992336804,0.04819145762742798,0.05134299361800376,0.0381592326423049,0.05133457967476772,0.04255062787675701,0.03655748654983577,0.04176582747355561,0.05133968800476127,0.04874263353007687,0.051325987357453126,0.05134282283431156,0.051329729417909045,0.05132064372548365,0.0513328756330388,0.05134299361800376,0.0513328756330388,0.051321672222830045,0.05134282283431156,0.051329729417909045,0.041786317721427345,0.05133847733814318,0.0513328756330388,0.05133175984624971,0.05134282283431156,0.051317288774730074,0.04724166120158903,0.051321672222830045,0.0387781565380556,0.047868327291386424,0.051337027574356,0.05134282283431156,0.04851776074495164,0.05131519003291251,0.04921203820089689,0.05003756102670675,0.04867663132582858,0.05133968800476127,0.049305126698729045,0.051321672222830045,0.051337027574356,0.04163985362699075,0.05134282283431156,0.051320715834153686,0.04820937093914391,0.05133847733814318,0.05130682163199439,0.048741980756853334,0.05134282283431156,0.05126732505677672,0.03697976251199316,0.0500614479724567,0.05133847733814318,0.05130610434048712,0.051337027574356,0.051334416481461816,0.04806397708917856,0.05132064372548365,0.051337027574356,0.04673981521963598,0.0513328756330388,0.047817259172223334,0.05133914149694621,0.05134282283431156,0.04286150732927755,0.05133847733814318,0.0513100779077258,0.05133656456079047,0.05133968800476127,0.04252488128635852,0.05131370231719373,0.0513328756330388,0.0513328756330388,0.05134282283431156,0.05131079899442623,0.04931552552798786,0.05134282283431156,0.05001581077470593,0.05133847733814318,0.05129952727074059,0.04176352379130739,0.05133821167462198,0.04473522834918266,0.051334416481461816,0.048194937819555854,0.05133968800476127,0.03622227231877224,0.05133847733814318,0.042392611214340896,0.05132877302923267,0.04706208404683032,0.05115765156483469,0.036517936841913824,0.048118525400469334,0.05133550190670563,0.0513074402484795,0.048734534587873114,0.0513328756330388,0.051334416481461816,0.0513390086651856,0.03939689067414822,0.051329729417909045,0.0513390086651856,0.05133346009278546,0.05133287183784564,0.051337027574356,0.05130837766119004,0.04921121084878797,0.0513390086651856,0.05133175984624971,0.04780887559053259,0.05129001651668128,0.05133914149694621,0.0513328756330388,0.049213320976185006,0.051337027574356,0.05080135124057341,0.04999661848289504,0.05133346009278546,0.046099281494031606,0.05133669739255107,0.04882431367726963,0.04184730647551093,0.04482143616181555,0.051321672222830045,0.04815260623504751,0.04494249523323806,0.05133914149694621,0.05129001651668128,0.051337027574356,0.036640650617554164,0.04874681583293936,0.0513328756330388,0.05130290119745996,0.05133346009278546,0.05133669739255107,0.05133847733814318,0.051337027574356,0.051280566485712525,0.05133669739255107,0.049214444353360406,0.05133175984624971,0.05133607118567964,0.0513328756330388,0.05133847733814318,0.04485452645097888,0.05130956555664917,0.05133346009278546,0.047808997036713693,0.05133818510826985,0.042735586615416946,0.051334416481461816,0.05122808655469395,0.04923379983847718,0.05133772968509063,0.04993407369961577,0.0488929231792188,0.05133273900608504,0.0513328756330388,0.051338496314108986,0.051334416481461816,0.048218984163418556,0.04208384947960368,0.05133346009278546,0.048679933143878015,0.05133935402776317,0.05133079207199388],\"type\":\"scatter\",\"xaxis\":\"x57\",\"yaxis\":\"y57\"}],                        {\"template\":{\"data\":{\"histogram2dcontour\":[{\"type\":\"histogram2dcontour\",\"colorbar\":{\"outlinewidth\":0,\"ticks\":\"\"},\"colorscale\":[[0.0,\"#0d0887\"],[0.1111111111111111,\"#46039f\"],[0.2222222222222222,\"#7201a8\"],[0.3333333333333333,\"#9c179e\"],[0.4444444444444444,\"#bd3786\"],[0.5555555555555556,\"#d8576b\"],[0.6666666666666666,\"#ed7953\"],[0.7777777777777778,\"#fb9f3a\"],[0.8888888888888888,\"#fdca26\"],[1.0,\"#f0f921\"]]}],\"choropleth\":[{\"type\":\"choropleth\",\"colorbar\":{\"outlinewidth\":0,\"ticks\":\"\"}}],\"histogram2d\":[{\"type\":\"histogram2d\",\"colorbar\":{\"outlinewidth\":0,\"ticks\":\"\"},\"colorscale\":[[0.0,\"#0d0887\"],[0.1111111111111111,\"#46039f\"],[0.2222222222222222,\"#7201a8\"],[0.3333333333333333,\"#9c179e\"],[0.4444444444444444,\"#bd3786\"],[0.5555555555555556,\"#d8576b\"],[0.6666666666666666,\"#ed7953\"],[0.7777777777777778,\"#fb9f3a\"],[0.8888888888888888,\"#fdca26\"],[1.0,\"#f0f921\"]]}],\"heatmap\":[{\"type\":\"heatmap\",\"colorbar\":{\"outlinewidth\":0,\"ticks\":\"\"},\"colorscale\":[[0.0,\"#0d0887\"],[0.1111111111111111,\"#46039f\"],[0.2222222222222222,\"#7201a8\"],[0.3333333333333333,\"#9c179e\"],[0.4444444444444444,\"#bd3786\"],[0.5555555555555556,\"#d8576b\"],[0.6666666666666666,\"#ed7953\"],[0.7777777777777778,\"#fb9f3a\"],[0.8888888888888888,\"#fdca26\"],[1.0,\"#f0f921\"]]}],\"heatmapgl\":[{\"type\":\"heatmapgl\",\"colorbar\":{\"outlinewidth\":0,\"ticks\":\"\"},\"colorscale\":[[0.0,\"#0d0887\"],[0.1111111111111111,\"#46039f\"],[0.2222222222222222,\"#7201a8\"],[0.3333333333333333,\"#9c179e\"],[0.4444444444444444,\"#bd3786\"],[0.5555555555555556,\"#d8576b\"],[0.6666666666666666,\"#ed7953\"],[0.7777777777777778,\"#fb9f3a\"],[0.8888888888888888,\"#fdca26\"],[1.0,\"#f0f921\"]]}],\"contourcarpet\":[{\"type\":\"contourcarpet\",\"colorbar\":{\"outlinewidth\":0,\"ticks\":\"\"}}],\"contour\":[{\"type\":\"contour\",\"colorbar\":{\"outlinewidth\":0,\"ticks\":\"\"},\"colorscale\":[[0.0,\"#0d0887\"],[0.1111111111111111,\"#46039f\"],[0.2222222222222222,\"#7201a8\"],[0.3333333333333333,\"#9c179e\"],[0.4444444444444444,\"#bd3786\"],[0.5555555555555556,\"#d8576b\"],[0.6666666666666666,\"#ed7953\"],[0.7777777777777778,\"#fb9f3a\"],[0.8888888888888888,\"#fdca26\"],[1.0,\"#f0f921\"]]}],\"surface\":[{\"type\":\"surface\",\"colorbar\":{\"outlinewidth\":0,\"ticks\":\"\"},\"colorscale\":[[0.0,\"#0d0887\"],[0.1111111111111111,\"#46039f\"],[0.2222222222222222,\"#7201a8\"],[0.3333333333333333,\"#9c179e\"],[0.4444444444444444,\"#bd3786\"],[0.5555555555555556,\"#d8576b\"],[0.6666666666666666,\"#ed7953\"],[0.7777777777777778,\"#fb9f3a\"],[0.8888888888888888,\"#fdca26\"],[1.0,\"#f0f921\"]]}],\"mesh3d\":[{\"type\":\"mesh3d\",\"colorbar\":{\"outlinewidth\":0,\"ticks\":\"\"}}],\"scatter\":[{\"fillpattern\":{\"fillmode\":\"overlay\",\"size\":10,\"solidity\":0.2},\"type\":\"scatter\"}],\"parcoords\":[{\"type\":\"parcoords\",\"line\":{\"colorbar\":{\"outlinewidth\":0,\"ticks\":\"\"}}}],\"scatterpolargl\":[{\"type\":\"scatterpolargl\",\"marker\":{\"colorbar\":{\"outlinewidth\":0,\"ticks\":\"\"}}}],\"bar\":[{\"error_x\":{\"color\":\"#2a3f5f\"},\"error_y\":{\"color\":\"#2a3f5f\"},\"marker\":{\"line\":{\"color\":\"#E5ECF6\",\"width\":0.5},\"pattern\":{\"fillmode\":\"overlay\",\"size\":10,\"solidity\":0.2}},\"type\":\"bar\"}],\"scattergeo\":[{\"type\":\"scattergeo\",\"marker\":{\"colorbar\":{\"outlinewidth\":0,\"ticks\":\"\"}}}],\"scatterpolar\":[{\"type\":\"scatterpolar\",\"marker\":{\"colorbar\":{\"outlinewidth\":0,\"ticks\":\"\"}}}],\"histogram\":[{\"marker\":{\"pattern\":{\"fillmode\":\"overlay\",\"size\":10,\"solidity\":0.2}},\"type\":\"histogram\"}],\"scattergl\":[{\"type\":\"scattergl\",\"marker\":{\"colorbar\":{\"outlinewidth\":0,\"ticks\":\"\"}}}],\"scatter3d\":[{\"type\":\"scatter3d\",\"line\":{\"colorbar\":{\"outlinewidth\":0,\"ticks\":\"\"}},\"marker\":{\"colorbar\":{\"outlinewidth\":0,\"ticks\":\"\"}}}],\"scattermapbox\":[{\"type\":\"scattermapbox\",\"marker\":{\"colorbar\":{\"outlinewidth\":0,\"ticks\":\"\"}}}],\"scatterternary\":[{\"type\":\"scatterternary\",\"marker\":{\"colorbar\":{\"outlinewidth\":0,\"ticks\":\"\"}}}],\"scattercarpet\":[{\"type\":\"scattercarpet\",\"marker\":{\"colorbar\":{\"outlinewidth\":0,\"ticks\":\"\"}}}],\"carpet\":[{\"aaxis\":{\"endlinecolor\":\"#2a3f5f\",\"gridcolor\":\"white\",\"linecolor\":\"white\",\"minorgridcolor\":\"white\",\"startlinecolor\":\"#2a3f5f\"},\"baxis\":{\"endlinecolor\":\"#2a3f5f\",\"gridcolor\":\"white\",\"linecolor\":\"white\",\"minorgridcolor\":\"white\",\"startlinecolor\":\"#2a3f5f\"},\"type\":\"carpet\"}],\"table\":[{\"cells\":{\"fill\":{\"color\":\"#EBF0F8\"},\"line\":{\"color\":\"white\"}},\"header\":{\"fill\":{\"color\":\"#C8D4E3\"},\"line\":{\"color\":\"white\"}},\"type\":\"table\"}],\"barpolar\":[{\"marker\":{\"line\":{\"color\":\"#E5ECF6\",\"width\":0.5},\"pattern\":{\"fillmode\":\"overlay\",\"size\":10,\"solidity\":0.2}},\"type\":\"barpolar\"}],\"pie\":[{\"automargin\":true,\"type\":\"pie\"}]},\"layout\":{\"autotypenumbers\":\"strict\",\"colorway\":[\"#636efa\",\"#EF553B\",\"#00cc96\",\"#ab63fa\",\"#FFA15A\",\"#19d3f3\",\"#FF6692\",\"#B6E880\",\"#FF97FF\",\"#FECB52\"],\"font\":{\"color\":\"#2a3f5f\"},\"hovermode\":\"closest\",\"hoverlabel\":{\"align\":\"left\"},\"paper_bgcolor\":\"white\",\"plot_bgcolor\":\"#E5ECF6\",\"polar\":{\"bgcolor\":\"#E5ECF6\",\"angularaxis\":{\"gridcolor\":\"white\",\"linecolor\":\"white\",\"ticks\":\"\"},\"radialaxis\":{\"gridcolor\":\"white\",\"linecolor\":\"white\",\"ticks\":\"\"}},\"ternary\":{\"bgcolor\":\"#E5ECF6\",\"aaxis\":{\"gridcolor\":\"white\",\"linecolor\":\"white\",\"ticks\":\"\"},\"baxis\":{\"gridcolor\":\"white\",\"linecolor\":\"white\",\"ticks\":\"\"},\"caxis\":{\"gridcolor\":\"white\",\"linecolor\":\"white\",\"ticks\":\"\"}},\"coloraxis\":{\"colorbar\":{\"outlinewidth\":0,\"ticks\":\"\"}},\"colorscale\":{\"sequential\":[[0.0,\"#0d0887\"],[0.1111111111111111,\"#46039f\"],[0.2222222222222222,\"#7201a8\"],[0.3333333333333333,\"#9c179e\"],[0.4444444444444444,\"#bd3786\"],[0.5555555555555556,\"#d8576b\"],[0.6666666666666666,\"#ed7953\"],[0.7777777777777778,\"#fb9f3a\"],[0.8888888888888888,\"#fdca26\"],[1.0,\"#f0f921\"]],\"sequentialminus\":[[0.0,\"#0d0887\"],[0.1111111111111111,\"#46039f\"],[0.2222222222222222,\"#7201a8\"],[0.3333333333333333,\"#9c179e\"],[0.4444444444444444,\"#bd3786\"],[0.5555555555555556,\"#d8576b\"],[0.6666666666666666,\"#ed7953\"],[0.7777777777777778,\"#fb9f3a\"],[0.8888888888888888,\"#fdca26\"],[1.0,\"#f0f921\"]],\"diverging\":[[0,\"#8e0152\"],[0.1,\"#c51b7d\"],[0.2,\"#de77ae\"],[0.3,\"#f1b6da\"],[0.4,\"#fde0ef\"],[0.5,\"#f7f7f7\"],[0.6,\"#e6f5d0\"],[0.7,\"#b8e186\"],[0.8,\"#7fbc41\"],[0.9,\"#4d9221\"],[1,\"#276419\"]]},\"xaxis\":{\"gridcolor\":\"white\",\"linecolor\":\"white\",\"ticks\":\"\",\"title\":{\"standoff\":15},\"zerolinecolor\":\"white\",\"automargin\":true,\"zerolinewidth\":2},\"yaxis\":{\"gridcolor\":\"white\",\"linecolor\":\"white\",\"ticks\":\"\",\"title\":{\"standoff\":15},\"zerolinecolor\":\"white\",\"automargin\":true,\"zerolinewidth\":2},\"scene\":{\"xaxis\":{\"backgroundcolor\":\"#E5ECF6\",\"gridcolor\":\"white\",\"linecolor\":\"white\",\"showbackground\":true,\"ticks\":\"\",\"zerolinecolor\":\"white\",\"gridwidth\":2},\"yaxis\":{\"backgroundcolor\":\"#E5ECF6\",\"gridcolor\":\"white\",\"linecolor\":\"white\",\"showbackground\":true,\"ticks\":\"\",\"zerolinecolor\":\"white\",\"gridwidth\":2},\"zaxis\":{\"backgroundcolor\":\"#E5ECF6\",\"gridcolor\":\"white\",\"linecolor\":\"white\",\"showbackground\":true,\"ticks\":\"\",\"zerolinecolor\":\"white\",\"gridwidth\":2}},\"shapedefaults\":{\"line\":{\"color\":\"#2a3f5f\"}},\"annotationdefaults\":{\"arrowcolor\":\"#2a3f5f\",\"arrowhead\":0,\"arrowwidth\":1},\"geo\":{\"bgcolor\":\"white\",\"landcolor\":\"#E5ECF6\",\"subunitcolor\":\"white\",\"showland\":true,\"showlakes\":true,\"lakecolor\":\"white\"},\"title\":{\"x\":0.05},\"mapbox\":{\"style\":\"light\"}}},\"xaxis\":{\"anchor\":\"y\",\"domain\":[0.0,0.01409664512157587],\"title\":{\"text\":\"coarse_2_recommender_c1:alpha\"},\"type\":\"category\",\"categoryorder\":\"array\",\"categoryarray\":[\"merging\",\"itemKnn\",\"userKnn\",\"rp3\",\"ials\",\"easeR\",\"slim\"]},\"yaxis\":{\"anchor\":\"x\",\"domain\":[0.0,1.0],\"title\":{\"text\":\"Objective Value\"}},\"xaxis2\":{\"anchor\":\"y2\",\"domain\":[0.01760541705140043,0.0317020621729763],\"title\":{\"text\":\"coarse_2_recommender_c1:easeR\"},\"type\":\"category\",\"categoryorder\":\"array\",\"categoryarray\":[\"merging\",\"itemKnn\",\"userKnn\",\"rp3\",\"alpha\",\"ials\",\"slim\"]},\"yaxis2\":{\"anchor\":\"x2\",\"domain\":[0.0,1.0],\"matches\":\"y\",\"showticklabels\":false},\"xaxis3\":{\"anchor\":\"y3\",\"domain\":[0.03521083410280086,0.049307479224376734],\"title\":{\"text\":\"coarse_2_recommender_c1:ials\"},\"type\":\"category\",\"categoryorder\":\"array\",\"categoryarray\":[\"merging\",\"itemKnn\",\"userKnn\",\"rp3\",\"alpha\",\"easeR\",\"slim\"]},\"yaxis3\":{\"anchor\":\"x3\",\"domain\":[0.0,1.0],\"matches\":\"y\",\"showticklabels\":false},\"xaxis4\":{\"anchor\":\"y4\",\"domain\":[0.05281625115420129,0.06691289627577716],\"title\":{\"text\":\"coarse_2_recommender_c1:itemKnn\"},\"type\":\"category\",\"categoryorder\":\"array\",\"categoryarray\":[\"merging\",\"userKnn\",\"rp3\",\"alpha\",\"ials\",\"easeR\",\"slim\"]},\"yaxis4\":{\"anchor\":\"x4\",\"domain\":[0.0,1.0],\"matches\":\"y\",\"showticklabels\":false},\"xaxis5\":{\"anchor\":\"y5\",\"domain\":[0.07042166820560172,0.08451831332717759],\"title\":{\"text\":\"coarse_2_recommender_c1:merging\"},\"type\":\"category\",\"categoryorder\":\"array\",\"categoryarray\":[\"itemKnn\",\"userKnn\",\"rp3\",\"alpha\",\"ials\",\"easeR\",\"slim\"]},\"yaxis5\":{\"anchor\":\"x5\",\"domain\":[0.0,1.0],\"matches\":\"y\",\"showticklabels\":false},\"xaxis6\":{\"anchor\":\"y6\",\"domain\":[0.08802708525700216,0.10212373037857803],\"title\":{\"text\":\"coarse_2_recommender_c1:rp3\"},\"type\":\"category\",\"categoryorder\":\"array\",\"categoryarray\":[\"merging\",\"itemKnn\",\"userKnn\",\"alpha\",\"ials\",\"easeR\",\"slim\"]},\"yaxis6\":{\"anchor\":\"x6\",\"domain\":[0.0,1.0],\"matches\":\"y\",\"showticklabels\":false},\"xaxis7\":{\"anchor\":\"y7\",\"domain\":[0.10563250230840258,0.11972914742997845],\"title\":{\"text\":\"coarse_2_recommender_c1:slim\"},\"type\":\"category\",\"categoryorder\":\"array\",\"categoryarray\":[\"merging\",\"itemKnn\",\"userKnn\",\"rp3\",\"alpha\",\"ials\",\"easeR\"]},\"yaxis7\":{\"anchor\":\"x7\",\"domain\":[0.0,1.0],\"matches\":\"y\",\"showticklabels\":false},\"xaxis8\":{\"anchor\":\"y8\",\"domain\":[0.12323791935980302,0.1373345644813789],\"title\":{\"text\":\"coarse_2_recommender_c1:userKnn\"},\"type\":\"category\",\"categoryorder\":\"array\",\"categoryarray\":[\"merging\",\"itemKnn\",\"rp3\",\"alpha\",\"ials\",\"easeR\",\"slim\"]},\"yaxis8\":{\"anchor\":\"x8\",\"domain\":[0.0,1.0],\"matches\":\"y\",\"showticklabels\":false},\"xaxis9\":{\"anchor\":\"y9\",\"domain\":[0.14084333641120345,0.15493998153277933],\"title\":{\"text\":\"coarse_recommender\"},\"type\":\"category\",\"categoryorder\":\"array\",\"categoryarray\":[\"merging\",\"itemKnn\",\"userKnn\",\"rp3\",\"alpha\",\"ials\",\"easeR\",\"slim\"]},\"yaxis9\":{\"anchor\":\"x9\",\"domain\":[0.0,1.0],\"matches\":\"y\",\"showticklabels\":false},\"xaxis10\":{\"anchor\":\"y10\",\"domain\":[0.1584487534626039,0.17254539858417978],\"title\":{\"text\":\"cutoff\"}},\"yaxis10\":{\"anchor\":\"x10\",\"domain\":[0.0,1.0],\"matches\":\"y\",\"showticklabels\":false},\"xaxis11\":{\"anchor\":\"y11\",\"domain\":[0.17605417051400432,0.1901508156355802],\"title\":{\"text\":\"cutoff1\"}},\"yaxis11\":{\"anchor\":\"x11\",\"domain\":[0.0,1.0],\"matches\":\"y\",\"showticklabels\":false},\"xaxis12\":{\"anchor\":\"y12\",\"domain\":[0.19365958756540477,0.20775623268698065],\"title\":{\"text\":\"cutoff2\"}},\"yaxis12\":{\"anchor\":\"x12\",\"domain\":[0.0,1.0],\"matches\":\"y\",\"showticklabels\":false},\"xaxis13\":{\"anchor\":\"y13\",\"domain\":[0.2112650046168052,0.22536164973838108],\"title\":{\"text\":\"final_recommender_c1:alpha\"},\"type\":\"category\",\"categoryorder\":\"array\",\"categoryarray\":[\"merging\",\"itemKnn\",\"userKnn\",\"rp3\",\"ials\",\"easeR\",\"slim\"]},\"yaxis13\":{\"anchor\":\"x13\",\"domain\":[0.0,1.0],\"matches\":\"y\",\"showticklabels\":false},\"xaxis14\":{\"anchor\":\"y14\",\"domain\":[0.22887042166820565,0.24296706678978153],\"title\":{\"text\":\"final_recommender_c1:alpha_c2:easeR\"},\"type\":\"category\",\"categoryorder\":\"array\",\"categoryarray\":[\"merging\",\"itemKnn\",\"userKnn\",\"rp3\",\"ials\",\"slim\"]},\"yaxis14\":{\"anchor\":\"x14\",\"domain\":[0.0,1.0],\"matches\":\"y\",\"showticklabels\":false},\"xaxis15\":{\"anchor\":\"y15\",\"domain\":[0.2464758387196061,0.260572483841182],\"title\":{\"text\":\"final_recommender_c1:alpha_c2:ials\"},\"type\":\"category\",\"categoryorder\":\"array\",\"categoryarray\":[\"merging\",\"itemKnn\",\"userKnn\",\"rp3\",\"easeR\",\"slim\"]},\"yaxis15\":{\"anchor\":\"x15\",\"domain\":[0.0,1.0],\"matches\":\"y\",\"showticklabels\":false},\"xaxis16\":{\"anchor\":\"y16\",\"domain\":[0.26408125577100655,0.27817790089258243],\"title\":{\"text\":\"final_recommender_c1:alpha_c2:rp3\"},\"type\":\"category\",\"categoryorder\":\"array\",\"categoryarray\":[\"merging\",\"itemKnn\",\"userKnn\",\"ials\",\"easeR\",\"slim\"]},\"yaxis16\":{\"anchor\":\"x16\",\"domain\":[0.0,1.0],\"matches\":\"y\",\"showticklabels\":false},\"xaxis17\":{\"anchor\":\"y17\",\"domain\":[0.28168667282240695,0.2957833179439828],\"title\":{\"text\":\"final_recommender_c1:alpha_c2:slim\"},\"type\":\"category\",\"categoryorder\":\"array\",\"categoryarray\":[\"merging\",\"itemKnn\",\"userKnn\",\"rp3\",\"ials\",\"easeR\"]},\"yaxis17\":{\"anchor\":\"x17\",\"domain\":[0.0,1.0],\"matches\":\"y\",\"showticklabels\":false},\"xaxis18\":{\"anchor\":\"y18\",\"domain\":[0.2992920898738074,0.3133887349953833],\"title\":{\"text\":\"final_recommender_c1:easeR\"},\"type\":\"category\",\"categoryorder\":\"array\",\"categoryarray\":[\"merging\",\"itemKnn\",\"userKnn\",\"rp3\",\"alpha\",\"ials\",\"slim\"]},\"yaxis18\":{\"anchor\":\"x18\",\"domain\":[0.0,1.0],\"matches\":\"y\",\"showticklabels\":false},\"xaxis19\":{\"anchor\":\"y19\",\"domain\":[0.3168975069252078,0.3309941520467837],\"title\":{\"text\":\"final_recommender_c1:easeR_c2:alpha\"},\"type\":\"category\",\"categoryorder\":\"array\",\"categoryarray\":[\"merging\",\"itemKnn\",\"userKnn\",\"rp3\",\"ials\",\"slim\"]},\"yaxis19\":{\"anchor\":\"x19\",\"domain\":[0.0,1.0],\"matches\":\"y\",\"showticklabels\":false},\"xaxis20\":{\"anchor\":\"y20\",\"domain\":[0.33450292397660825,0.3485995690981841],\"title\":{\"text\":\"final_recommender_c1:easeR_c2:ials\"},\"type\":\"category\",\"categoryorder\":\"array\",\"categoryarray\":[\"merging\",\"itemKnn\",\"userKnn\",\"rp3\",\"alpha\",\"slim\"]},\"yaxis20\":{\"anchor\":\"x20\",\"domain\":[0.0,1.0],\"matches\":\"y\",\"showticklabels\":false},\"xaxis21\":{\"anchor\":\"y21\",\"domain\":[0.3521083410280087,0.3662049861495846],\"title\":{\"text\":\"final_recommender_c1:easeR_c2:itemKnn\"},\"type\":\"category\",\"categoryorder\":\"array\",\"categoryarray\":[\"merging\",\"userKnn\",\"rp3\",\"alpha\",\"ials\",\"slim\"]},\"yaxis21\":{\"anchor\":\"x21\",\"domain\":[0.0,1.0],\"matches\":\"y\",\"showticklabels\":false},\"xaxis22\":{\"anchor\":\"y22\",\"domain\":[0.36971375807940915,0.38381040320098503],\"title\":{\"text\":\"final_recommender_c1:easeR_c2:merging\"},\"type\":\"category\",\"categoryorder\":\"array\",\"categoryarray\":[\"itemKnn\",\"userKnn\",\"rp3\",\"alpha\",\"ials\",\"slim\"]},\"yaxis22\":{\"anchor\":\"x22\",\"domain\":[0.0,1.0],\"matches\":\"y\",\"showticklabels\":false},\"xaxis23\":{\"anchor\":\"y23\",\"domain\":[0.3873191751308096,0.4014158202523855],\"title\":{\"text\":\"final_recommender_c1:easeR_c2:rp3\"},\"type\":\"category\",\"categoryorder\":\"array\",\"categoryarray\":[\"merging\",\"itemKnn\",\"userKnn\",\"alpha\",\"ials\",\"slim\"]},\"yaxis23\":{\"anchor\":\"x23\",\"domain\":[0.0,1.0],\"matches\":\"y\",\"showticklabels\":false},\"xaxis24\":{\"anchor\":\"y24\",\"domain\":[0.40492459218221,0.4190212373037859],\"title\":{\"text\":\"final_recommender_c1:easeR_c2:slim\"},\"type\":\"category\",\"categoryorder\":\"array\",\"categoryarray\":[\"merging\",\"itemKnn\",\"userKnn\",\"rp3\",\"alpha\",\"ials\"]},\"yaxis24\":{\"anchor\":\"x24\",\"domain\":[0.0,1.0],\"matches\":\"y\",\"showticklabels\":false},\"xaxis25\":{\"anchor\":\"y25\",\"domain\":[0.42253000923361045,0.4366266543551863],\"title\":{\"text\":\"final_recommender_c1:easeR_c2:userKnn\"},\"type\":\"category\",\"categoryorder\":\"array\",\"categoryarray\":[\"merging\",\"itemKnn\",\"rp3\",\"alpha\",\"ials\",\"slim\"]},\"yaxis25\":{\"anchor\":\"x25\",\"domain\":[0.0,1.0],\"matches\":\"y\",\"showticklabels\":false},\"xaxis26\":{\"anchor\":\"y26\",\"domain\":[0.4401354262850109,0.4542320714065868],\"title\":{\"text\":\"final_recommender_c1:ials\"},\"type\":\"category\",\"categoryorder\":\"array\",\"categoryarray\":[\"merging\",\"itemKnn\",\"userKnn\",\"rp3\",\"alpha\",\"easeR\",\"slim\"]},\"yaxis26\":{\"anchor\":\"x26\",\"domain\":[0.0,1.0],\"matches\":\"y\",\"showticklabels\":false},\"xaxis27\":{\"anchor\":\"y27\",\"domain\":[0.45774084333641135,0.47183748845798723],\"title\":{\"text\":\"final_recommender_c1:ials_c2:alpha\"},\"type\":\"category\",\"categoryorder\":\"array\",\"categoryarray\":[\"merging\",\"itemKnn\",\"userKnn\",\"rp3\",\"easeR\",\"slim\"]},\"yaxis27\":{\"anchor\":\"x27\",\"domain\":[0.0,1.0],\"matches\":\"y\",\"showticklabels\":false},\"xaxis28\":{\"anchor\":\"y28\",\"domain\":[0.4753462603878118,0.4894429055093877],\"title\":{\"text\":\"final_recommender_c1:ials_c2:easeR\"},\"type\":\"category\",\"categoryorder\":\"array\",\"categoryarray\":[\"merging\",\"itemKnn\",\"userKnn\",\"rp3\",\"alpha\",\"slim\"]},\"yaxis28\":{\"anchor\":\"x28\",\"domain\":[0.0,1.0],\"matches\":\"y\",\"showticklabels\":false},\"xaxis29\":{\"anchor\":\"y29\",\"domain\":[0.4929516774392122,0.507048322560788],\"title\":{\"text\":\"final_recommender_c1:ials_c2:itemKnn\"},\"type\":\"category\",\"categoryorder\":\"array\",\"categoryarray\":[\"merging\",\"userKnn\",\"rp3\",\"alpha\",\"easeR\",\"slim\"]},\"yaxis29\":{\"anchor\":\"x29\",\"domain\":[0.0,1.0],\"matches\":\"y\",\"showticklabels\":false},\"xaxis30\":{\"anchor\":\"y30\",\"domain\":[0.5105570944906127,0.5246537396121885],\"title\":{\"text\":\"final_recommender_c1:ials_c2:rp3\"},\"type\":\"category\",\"categoryorder\":\"array\",\"categoryarray\":[\"merging\",\"itemKnn\",\"userKnn\",\"alpha\",\"easeR\",\"slim\"]},\"yaxis30\":{\"anchor\":\"x30\",\"domain\":[0.0,1.0],\"matches\":\"y\",\"showticklabels\":false},\"xaxis31\":{\"anchor\":\"y31\",\"domain\":[0.5281625115420131,0.5422591566635889],\"title\":{\"text\":\"final_recommender_c1:ials_c2:userKnn\"},\"type\":\"category\",\"categoryorder\":\"array\",\"categoryarray\":[\"merging\",\"itemKnn\",\"rp3\",\"alpha\",\"easeR\",\"slim\"]},\"yaxis31\":{\"anchor\":\"x31\",\"domain\":[0.0,1.0],\"matches\":\"y\",\"showticklabels\":false},\"xaxis32\":{\"anchor\":\"y32\",\"domain\":[0.5457679285934136,0.5598645737149894],\"title\":{\"text\":\"final_recommender_c1:itemKnn\"},\"type\":\"category\",\"categoryorder\":\"array\",\"categoryarray\":[\"merging\",\"userKnn\",\"rp3\",\"alpha\",\"ials\",\"easeR\",\"slim\"]},\"yaxis32\":{\"anchor\":\"x32\",\"domain\":[0.0,1.0],\"matches\":\"y\",\"showticklabels\":false},\"xaxis33\":{\"anchor\":\"y33\",\"domain\":[0.563373345644814,0.5774699907663898],\"title\":{\"text\":\"final_recommender_c1:itemKnn_c2:merging\"},\"type\":\"category\",\"categoryorder\":\"array\",\"categoryarray\":[\"userKnn\",\"rp3\",\"alpha\",\"ials\",\"easeR\",\"slim\"]},\"yaxis33\":{\"anchor\":\"x33\",\"domain\":[0.0,1.0],\"matches\":\"y\",\"showticklabels\":false},\"xaxis34\":{\"anchor\":\"y34\",\"domain\":[0.5809787626962144,0.5950754078177902],\"title\":{\"text\":\"final_recommender_c1:itemKnn_c2:slim\"},\"type\":\"category\",\"categoryorder\":\"array\",\"categoryarray\":[\"merging\",\"userKnn\",\"rp3\",\"alpha\",\"ials\",\"easeR\"]},\"yaxis34\":{\"anchor\":\"x34\",\"domain\":[0.0,1.0],\"matches\":\"y\",\"showticklabels\":false},\"xaxis35\":{\"anchor\":\"y35\",\"domain\":[0.5985841797476149,0.6126808248691907],\"title\":{\"text\":\"final_recommender_c1:merging\"},\"type\":\"category\",\"categoryorder\":\"array\",\"categoryarray\":[\"itemKnn\",\"userKnn\",\"rp3\",\"alpha\",\"ials\",\"easeR\",\"slim\"]},\"yaxis35\":{\"anchor\":\"x35\",\"domain\":[0.0,1.0],\"matches\":\"y\",\"showticklabels\":false},\"xaxis36\":{\"anchor\":\"y36\",\"domain\":[0.6161895967990153,0.6302862419205911],\"title\":{\"text\":\"final_recommender_c1:merging_c2:alpha\"},\"type\":\"category\",\"categoryorder\":\"array\",\"categoryarray\":[\"itemKnn\",\"userKnn\",\"rp3\",\"ials\",\"easeR\",\"slim\"]},\"yaxis36\":{\"anchor\":\"x36\",\"domain\":[0.0,1.0],\"matches\":\"y\",\"showticklabels\":false},\"xaxis37\":{\"anchor\":\"y37\",\"domain\":[0.6337950138504158,0.6478916589719916],\"title\":{\"text\":\"final_recommender_c1:merging_c2:easeR\"},\"type\":\"category\",\"categoryorder\":\"array\",\"categoryarray\":[\"itemKnn\",\"userKnn\",\"rp3\",\"alpha\",\"ials\",\"slim\"]},\"yaxis37\":{\"anchor\":\"x37\",\"domain\":[0.0,1.0],\"matches\":\"y\",\"showticklabels\":false},\"xaxis38\":{\"anchor\":\"y38\",\"domain\":[0.6514004309018162,0.665497076023392],\"title\":{\"text\":\"final_recommender_c1:merging_c2:ials\"},\"type\":\"category\",\"categoryorder\":\"array\",\"categoryarray\":[\"itemKnn\",\"userKnn\",\"rp3\",\"alpha\",\"easeR\",\"slim\"]},\"yaxis38\":{\"anchor\":\"x38\",\"domain\":[0.0,1.0],\"matches\":\"y\",\"showticklabels\":false},\"xaxis39\":{\"anchor\":\"y39\",\"domain\":[0.6690058479532165,0.6831024930747923],\"title\":{\"text\":\"final_recommender_c1:merging_c2:itemKnn\"},\"type\":\"category\",\"categoryorder\":\"array\",\"categoryarray\":[\"userKnn\",\"rp3\",\"alpha\",\"ials\",\"easeR\",\"slim\"]},\"yaxis39\":{\"anchor\":\"x39\",\"domain\":[0.0,1.0],\"matches\":\"y\",\"showticklabels\":false},\"xaxis40\":{\"anchor\":\"y40\",\"domain\":[0.6866112650046169,0.7007079101261927],\"title\":{\"text\":\"final_recommender_c1:merging_c2:rp3\"},\"type\":\"category\",\"categoryorder\":\"array\",\"categoryarray\":[\"itemKnn\",\"userKnn\",\"alpha\",\"ials\",\"easeR\",\"slim\"]},\"yaxis40\":{\"anchor\":\"x40\",\"domain\":[0.0,1.0],\"matches\":\"y\",\"showticklabels\":false},\"xaxis41\":{\"anchor\":\"y41\",\"domain\":[0.7042166820560173,0.7183133271775931],\"title\":{\"text\":\"final_recommender_c1:merging_c2:slim\"},\"type\":\"category\",\"categoryorder\":\"array\",\"categoryarray\":[\"itemKnn\",\"userKnn\",\"rp3\",\"alpha\",\"ials\",\"easeR\"]},\"yaxis41\":{\"anchor\":\"x41\",\"domain\":[0.0,1.0],\"matches\":\"y\",\"showticklabels\":false},\"xaxis42\":{\"anchor\":\"y42\",\"domain\":[0.7218220991074177,0.7359187442289935],\"title\":{\"text\":\"final_recommender_c1:merging_c2:userKnn\"},\"type\":\"category\",\"categoryorder\":\"array\",\"categoryarray\":[\"itemKnn\",\"rp3\",\"alpha\",\"ials\",\"easeR\",\"slim\"]},\"yaxis42\":{\"anchor\":\"x42\",\"domain\":[0.0,1.0],\"matches\":\"y\",\"showticklabels\":false},\"xaxis43\":{\"anchor\":\"y43\",\"domain\":[0.7394275161588181,0.7535241612803939],\"title\":{\"text\":\"final_recommender_c1:rp3\"},\"type\":\"category\",\"categoryorder\":\"array\",\"categoryarray\":[\"merging\",\"itemKnn\",\"userKnn\",\"alpha\",\"ials\",\"easeR\",\"slim\"]},\"yaxis43\":{\"anchor\":\"x43\",\"domain\":[0.0,1.0],\"matches\":\"y\",\"showticklabels\":false},\"xaxis44\":{\"anchor\":\"y44\",\"domain\":[0.7570329332102185,0.7711295783317943],\"title\":{\"text\":\"final_recommender_c1:rp3_c2:easeR\"},\"type\":\"category\",\"categoryorder\":\"array\",\"categoryarray\":[\"merging\",\"itemKnn\",\"userKnn\",\"alpha\",\"ials\",\"slim\"]},\"yaxis44\":{\"anchor\":\"x44\",\"domain\":[0.0,1.0],\"matches\":\"y\",\"showticklabels\":false},\"xaxis45\":{\"anchor\":\"y45\",\"domain\":[0.7746383502616189,0.7887349953831947],\"title\":{\"text\":\"final_recommender_c1:rp3_c2:merging\"},\"type\":\"category\",\"categoryorder\":\"array\",\"categoryarray\":[\"itemKnn\",\"userKnn\",\"alpha\",\"ials\",\"easeR\",\"slim\"]},\"yaxis45\":{\"anchor\":\"x45\",\"domain\":[0.0,1.0],\"matches\":\"y\",\"showticklabels\":false},\"xaxis46\":{\"anchor\":\"y46\",\"domain\":[0.7922437673130192,0.806340412434595],\"title\":{\"text\":\"final_recommender_c1:slim\"},\"type\":\"category\",\"categoryorder\":\"array\",\"categoryarray\":[\"merging\",\"itemKnn\",\"userKnn\",\"rp3\",\"alpha\",\"ials\",\"easeR\"]},\"yaxis46\":{\"anchor\":\"x46\",\"domain\":[0.0,1.0],\"matches\":\"y\",\"showticklabels\":false},\"xaxis47\":{\"anchor\":\"y47\",\"domain\":[0.8098491843644195,0.8239458294859954],\"title\":{\"text\":\"final_recommender_c1:slim_c2:itemKnn\"},\"type\":\"category\",\"categoryorder\":\"array\",\"categoryarray\":[\"merging\",\"userKnn\",\"rp3\",\"alpha\",\"ials\",\"easeR\"]},\"yaxis47\":{\"anchor\":\"x47\",\"domain\":[0.0,1.0],\"matches\":\"y\",\"showticklabels\":false},\"xaxis48\":{\"anchor\":\"y48\",\"domain\":[0.82745460141582,0.8415512465373958],\"title\":{\"text\":\"final_recommender_c1:slim_c2:merging\"},\"type\":\"category\",\"categoryorder\":\"array\",\"categoryarray\":[\"itemKnn\",\"userKnn\",\"rp3\",\"alpha\",\"ials\",\"easeR\"]},\"yaxis48\":{\"anchor\":\"x48\",\"domain\":[0.0,1.0],\"matches\":\"y\",\"showticklabels\":false},\"xaxis49\":{\"anchor\":\"y49\",\"domain\":[0.8450600184672203,0.8591566635887962],\"title\":{\"text\":\"final_recommender_c1:slim_c2:rp3\"},\"type\":\"category\",\"categoryorder\":\"array\",\"categoryarray\":[\"merging\",\"itemKnn\",\"userKnn\",\"alpha\",\"ials\",\"easeR\"]},\"yaxis49\":{\"anchor\":\"x49\",\"domain\":[0.0,1.0],\"matches\":\"y\",\"showticklabels\":false},\"xaxis50\":{\"anchor\":\"y50\",\"domain\":[0.8626654355186207,0.8767620806401966],\"title\":{\"text\":\"final_recommender_c1:userKnn\"},\"type\":\"category\",\"categoryorder\":\"array\",\"categoryarray\":[\"merging\",\"itemKnn\",\"rp3\",\"alpha\",\"ials\",\"easeR\",\"slim\"]},\"yaxis50\":{\"anchor\":\"x50\",\"domain\":[0.0,1.0],\"matches\":\"y\",\"showticklabels\":false},\"xaxis51\":{\"anchor\":\"y51\",\"domain\":[0.8802708525700211,0.894367497691597],\"title\":{\"text\":\"final_recommender_c1:userKnn_c2:easeR\"},\"type\":\"category\",\"categoryorder\":\"array\",\"categoryarray\":[\"merging\",\"itemKnn\",\"rp3\",\"alpha\",\"ials\",\"slim\"]},\"yaxis51\":{\"anchor\":\"x51\",\"domain\":[0.0,1.0],\"matches\":\"y\",\"showticklabels\":false},\"xaxis52\":{\"anchor\":\"y52\",\"domain\":[0.8978762696214215,0.9119729147429974],\"title\":{\"text\":\"final_recommender_c1:userKnn_c2:ials\"},\"type\":\"category\",\"categoryorder\":\"array\",\"categoryarray\":[\"merging\",\"itemKnn\",\"rp3\",\"alpha\",\"easeR\",\"slim\"]},\"yaxis52\":{\"anchor\":\"x52\",\"domain\":[0.0,1.0],\"matches\":\"y\",\"showticklabels\":false},\"xaxis53\":{\"anchor\":\"y53\",\"domain\":[0.9154816866728219,0.9295783317943977],\"title\":{\"text\":\"final_recommender_c1:userKnn_c2:itemKnn\"},\"type\":\"category\",\"categoryorder\":\"array\",\"categoryarray\":[\"merging\",\"rp3\",\"alpha\",\"ials\",\"easeR\",\"slim\"]},\"yaxis53\":{\"anchor\":\"x53\",\"domain\":[0.0,1.0],\"matches\":\"y\",\"showticklabels\":false},\"xaxis54\":{\"anchor\":\"y54\",\"domain\":[0.9330871037242223,0.9471837488457981],\"title\":{\"text\":\"final_recommender_c1:userKnn_c2:merging\"},\"type\":\"category\",\"categoryorder\":\"array\",\"categoryarray\":[\"itemKnn\",\"rp3\",\"alpha\",\"ials\",\"easeR\",\"slim\"]},\"yaxis54\":{\"anchor\":\"x54\",\"domain\":[0.0,1.0],\"matches\":\"y\",\"showticklabels\":false},\"xaxis55\":{\"anchor\":\"y55\",\"domain\":[0.9506925207756227,0.9647891658971985],\"title\":{\"text\":\"final_recommender_c1:userKnn_c2:rp3\"},\"type\":\"category\",\"categoryorder\":\"array\",\"categoryarray\":[\"merging\",\"itemKnn\",\"alpha\",\"ials\",\"easeR\",\"slim\"]},\"yaxis55\":{\"anchor\":\"x55\",\"domain\":[0.0,1.0],\"matches\":\"y\",\"showticklabels\":false},\"xaxis56\":{\"anchor\":\"y56\",\"domain\":[0.9682979378270231,0.9823945829485989],\"title\":{\"text\":\"final_recommender_c1:userKnn_c2:slim\"},\"type\":\"category\",\"categoryorder\":\"array\",\"categoryarray\":[\"merging\",\"itemKnn\",\"rp3\",\"alpha\",\"ials\",\"easeR\"]},\"yaxis56\":{\"anchor\":\"x56\",\"domain\":[0.0,1.0],\"matches\":\"y\",\"showticklabels\":false},\"xaxis57\":{\"anchor\":\"y57\",\"domain\":[0.9859033548784235,0.9999999999999993],\"title\":{\"text\":\"use_3_levels\"},\"type\":\"category\",\"categoryorder\":\"array\",\"categoryarray\":[true,false]},\"yaxis57\":{\"anchor\":\"x57\",\"domain\":[0.0,1.0],\"matches\":\"y\",\"showticklabels\":false},\"title\":{\"text\":\"Slice Plot\"},\"width\":17100},                        {\"responsive\": true}                    ).then(function(){\n",
       "                            \n",
       "var gd = document.getElementById('ec545d51-6c41-4dcd-887a-d5faf3bf0510');\n",
       "var x = new MutationObserver(function (mutations, observer) {{\n",
       "        var display = window.getComputedStyle(gd).display;\n",
       "        if (!display || display === 'none') {{\n",
       "            console.log([gd, 'removed!']);\n",
       "            Plotly.purge(gd);\n",
       "            observer.disconnect();\n",
       "        }}\n",
       "}});\n",
       "\n",
       "// Listen for the removal of the full notebook cells\n",
       "var notebookContainer = gd.closest('#notebook-container');\n",
       "if (notebookContainer) {{\n",
       "    x.observe(notebookContainer, {childList: true});\n",
       "}}\n",
       "\n",
       "// Listen for the clearing of the current output cell\n",
       "var outputEl = gd.closest('.output');\n",
       "if (outputEl) {{\n",
       "    x.observe(outputEl, {childList: true});\n",
       "}}\n",
       "\n",
       "                        })                };                });            </script>        </div>"
      ]
     },
     "metadata": {},
     "output_type": "display_data"
    }
   ],
   "source": [
    "if config['tune_parameters']:\n",
    "    fig = optuna.visualization.plot_slice(study)\n",
    "    fig.show()"
   ]
  },
  {
   "cell_type": "code",
   "execution_count": 29,
   "id": "681aa67f",
   "metadata": {
    "execution": {
     "iopub.execute_input": "2023-12-09T04:29:47.222729Z",
     "iopub.status.busy": "2023-12-09T04:29:47.222293Z",
     "iopub.status.idle": "2023-12-09T04:29:48.122175Z",
     "shell.execute_reply": "2023-12-09T04:29:48.120838Z"
    },
    "papermill": {
     "duration": 1.182329,
     "end_time": "2023-12-09T04:29:48.125402",
     "exception": false,
     "start_time": "2023-12-09T04:29:46.943073",
     "status": "completed"
    },
    "tags": []
   },
   "outputs": [],
   "source": [
    "if config['tune_parameters']:\n",
    "    with open('/kaggle/working/best_params_pipeline_variable_length.json', 'w') as params_file:\n",
    "        json.dump(study.best_params, params_file)\n",
    "        \n",
    "    if config['save_github']: \n",
    "        upload_file(\n",
    "            '/kaggle/working/best_params_pipeline_variable_length.json', \n",
    "            'tuning_results/best_params_pipeline_variable_length.json', \n",
    "            'Hybrid Pipeline tuning results (from kaggle notebook)'\n",
    "        )\n",
    "    \n",
    "elif config['copy_prev_best_params']:\n",
    "    shutil.copyfile(\n",
    "        '/kaggle/input/Recsys_Challenge_2023/tuning_results/best_params_pipeline_variable_length.json', \n",
    "        '/kaggle/working/best_params_pipeline_variable_length.json'\n",
    "    )"
   ]
  },
  {
   "cell_type": "code",
   "execution_count": 30,
   "id": "40cebda9",
   "metadata": {
    "execution": {
     "iopub.execute_input": "2023-12-09T04:29:48.688718Z",
     "iopub.status.busy": "2023-12-09T04:29:48.687068Z",
     "iopub.status.idle": "2023-12-09T04:29:50.029622Z",
     "shell.execute_reply": "2023-12-09T04:29:50.028237Z"
    },
    "papermill": {
     "duration": 1.625306,
     "end_time": "2023-12-09T04:29:50.033328",
     "exception": false,
     "start_time": "2023-12-09T04:29:48.408022",
     "status": "completed"
    },
    "tags": []
   },
   "outputs": [],
   "source": [
    "if config['save_github'] and config['tune_parameters']:\n",
    "    upload_file(\n",
    "        config['database_path'], \n",
    "        'tuning_results/tuning_hybrid.db', \n",
    "        'Pipeline hybrid recommender tuning db updated results (from kaggle notebook)'\n",
    "    )"
   ]
  },
  {
   "cell_type": "markdown",
   "id": "cbd376a2",
   "metadata": {
    "papermill": {
     "duration": 0.276394,
     "end_time": "2023-12-09T04:29:50.590289",
     "exception": false,
     "start_time": "2023-12-09T04:29:50.313895",
     "status": "completed"
    },
    "tags": []
   },
   "source": [
    "# Training best model"
   ]
  },
  {
   "cell_type": "code",
   "execution_count": 31,
   "id": "dde87a7a",
   "metadata": {
    "execution": {
     "iopub.execute_input": "2023-12-09T04:29:51.133168Z",
     "iopub.status.busy": "2023-12-09T04:29:51.132692Z",
     "iopub.status.idle": "2023-12-09T04:30:48.994096Z",
     "shell.execute_reply": "2023-12-09T04:30:48.992868Z"
    },
    "papermill": {
     "duration": 58.136505,
     "end_time": "2023-12-09T04:30:48.997163",
     "exception": false,
     "start_time": "2023-12-09T04:29:50.860658",
     "status": "completed"
    },
    "tags": []
   },
   "outputs": [
    {
     "name": "stdout",
     "output_type": "stream",
     "text": [
      "ItemKNNCFRecommender: URM Detected 386 ( 3.0%) users with no interactions.\n",
      "ItemKNNCFRecommender: URM Detected 125 ( 0.6%) items with no interactions.\n",
      "Similarity column 22347 (100.0%), 4159.85 column/sec. Elapsed time 5.37 sec\n",
      "UserKNNCFRecommender: URM Detected 386 ( 3.0%) users with no interactions.\n",
      "UserKNNCFRecommender: URM Detected 125 ( 0.6%) items with no interactions.\n",
      "Similarity column 13024 (100.0%), 3926.14 column/sec. Elapsed time 3.32 sec\n",
      "RP3betaRecommender: URM Detected 386 ( 3.0%) users with no interactions.\n",
      "RP3betaRecommender: URM Detected 125 ( 0.6%) items with no interactions.\n",
      "RP3betaRecommender: Similarity column 22347 (100.0%), 2262.23 column/sec. Elapsed time 9.88 sec\n",
      "P3alphaRecommender: URM Detected 386 ( 3.0%) users with no interactions.\n",
      "P3alphaRecommender: URM Detected 125 ( 0.6%) items with no interactions.\n",
      "P3alphaRecommender: Similarity column 22347 (100.0%), 2539.70 column/sec. Elapsed time 8.80 sec\n",
      "SLIMElasticNetRecommender: URM Detected 386 ( 3.0%) users with no interactions.\n",
      "SLIMElasticNetRecommender: URM Detected 125 ( 0.6%) items with no interactions.\n",
      "SLIMElasticNetRecommender: Loading model from file '/kaggle/working/Recsys_Challenge_2023/models/slim_elastic_all.zip'\n",
      "SLIMElasticNetRecommender: Loading complete\n",
      "EASE_R_Recommender: URM Detected 386 ( 3.0%) users with no interactions.\n",
      "EASE_R_Recommender: URM Detected 125 ( 0.6%) items with no interactions.\n",
      "EASE_R_Recommender: Loading model from file '/kaggle/working/Recsys_Challenge_2023/models/ease_r_all.zip'\n",
      "EASE_R_Recommender: Loading complete\n",
      "IALSRecommender: URM Detected 386 ( 3.0%) users with no interactions.\n",
      "IALSRecommender: URM Detected 125 ( 0.6%) items with no interactions.\n",
      "IALSRecommender: Loading model from file '/kaggle/working/ials_all.zip'\n",
      "IALSRecommender: Loading complete\n",
      "ItemKNNSimilarityHybridRecommender: URM Detected 386 ( 3.0%) users with no interactions.\n",
      "ItemKNNSimilarityHybridRecommender: URM Detected 125 ( 0.6%) items with no interactions.\n"
     ]
    }
   ],
   "source": [
    "recommender_item = ItemKNNCFRecommender(URM_all)\n",
    "recommender_item.fit(**params_item_knn)\n",
    "\n",
    "recommender_user = UserKNNCFRecommender(URM_all)\n",
    "recommender_user.fit(**params_user_knn)\n",
    "\n",
    "recommender_rp3 = RP3betaRecommender(URM_all)\n",
    "recommender_rp3.fit(**params_rp3)\n",
    "\n",
    "recommender_p3a = P3alphaRecommender(URM_all)\n",
    "recommender_p3a.fit(**params_p3alpha)\n",
    "\n",
    "recommender_slim = SLIMElasticNetRecommender(URM_all)\n",
    "recommender_slim.load_model('/kaggle/working/Recsys_Challenge_2023/models/', 'slim_elastic_all.zip')\n",
    "\n",
    "recommender_ease_r = EASE_R_Recommender(URM_all)\n",
    "recommender_ease_r.load_model('/kaggle/working/Recsys_Challenge_2023/models/', 'ease_r_all.zip')\n",
    "\n",
    "recommender_ials = IALSRecommender(URM_all)\n",
    "recommender_ials.load_model('/kaggle/working/', 'ials_all.zip')\n",
    "\n",
    "hybrid_similarity = ItemKNNSimilarityHybridRecommender(URM_all, recommender_item.W_sparse, recommender_rp3.W_sparse)\n",
    "hybrid_similarity.fit(**params_merging)"
   ]
  },
  {
   "cell_type": "code",
   "execution_count": 32,
   "id": "6aabc66e",
   "metadata": {
    "execution": {
     "iopub.execute_input": "2023-12-09T04:30:49.677904Z",
     "iopub.status.busy": "2023-12-09T04:30:49.677078Z",
     "iopub.status.idle": "2023-12-09T04:30:49.703553Z",
     "shell.execute_reply": "2023-12-09T04:30:49.700262Z"
    },
    "papermill": {
     "duration": 0.37311,
     "end_time": "2023-12-09T04:30:49.711141",
     "exception": false,
     "start_time": "2023-12-09T04:30:49.338031",
     "status": "completed"
    },
    "tags": []
   },
   "outputs": [],
   "source": [
    "recommender_objects_dict = {\n",
    "    'merging': hybrid_similarity,\n",
    "    'itemKnn': recommender_item,\n",
    "    'userKnn': recommender_user,\n",
    "    'rp3': recommender_rp3,\n",
    "    'alpha': recommender_p3a,\n",
    "    'ials': recommender_ials,\n",
    "    'easeR': recommender_ease_r,\n",
    "    'slim': recommender_slim\n",
    "}"
   ]
  },
  {
   "cell_type": "code",
   "execution_count": 33,
   "id": "e82003aa",
   "metadata": {
    "execution": {
     "iopub.execute_input": "2023-12-09T04:30:50.569485Z",
     "iopub.status.busy": "2023-12-09T04:30:50.568492Z",
     "iopub.status.idle": "2023-12-09T04:30:50.594885Z",
     "shell.execute_reply": "2023-12-09T04:30:50.593969Z"
    },
    "papermill": {
     "duration": 0.358603,
     "end_time": "2023-12-09T04:30:50.597784",
     "exception": false,
     "start_time": "2023-12-09T04:30:50.239181",
     "status": "completed"
    },
    "tags": []
   },
   "outputs": [
    {
     "name": "stdout",
     "output_type": "stream",
     "text": [
      "Recommender_Base_Class: URM Detected 386 ( 3.0%) users with no interactions.\n",
      "Recommender_Base_Class: URM Detected 125 ( 0.6%) items with no interactions.\n"
     ]
    }
   ],
   "source": [
    "with open('/kaggle/working/best_params_pipeline_variable_length.json', 'r') as params_file:\n",
    "    params = json.load(params_file)\n",
    "    \n",
    "if params['use_3_levels']:\n",
    "    coarse1 = params['coarse_recommender']\n",
    "    coarse2 = params[f'coarse_2_recommender_c1:{coarse1}']\n",
    "    final = params[f'final_recommender_c1:{coarse1}_c2:{coarse2}']\n",
    "    recommenders = [\n",
    "        recommender_objects_dict[coarse1],\n",
    "        recommender_objects_dict[coarse2], \n",
    "        recommender_objects_dict[final]\n",
    "    ]\n",
    "    cutoffs = [params['cutoff1'], params['cutoff2'], 10]\n",
    "else:\n",
    "    recommenders = [\n",
    "        recommender_objects_dict[params['coarse_recommender']],\n",
    "        recommender_objects_dict[params[f'final_recommender_c1:{params[\"coarse_recommender\"]}']]\n",
    "    ]\n",
    "    cutoffs = [params['cutoff'], 10]\n",
    "    \n",
    "pipeline_recommender = PipelineRecommender(\n",
    "    URM_all, \n",
    "    recommenders=recommenders,\n",
    "    cutoffs=cutoffs\n",
    ")"
   ]
  },
  {
   "cell_type": "code",
   "execution_count": 34,
   "id": "7311f143",
   "metadata": {
    "execution": {
     "iopub.execute_input": "2023-12-09T04:30:51.271566Z",
     "iopub.status.busy": "2023-12-09T04:30:51.271131Z",
     "iopub.status.idle": "2023-12-09T04:31:26.126500Z",
     "shell.execute_reply": "2023-12-09T04:31:26.124983Z"
    },
    "papermill": {
     "duration": 35.430887,
     "end_time": "2023-12-09T04:31:26.360510",
     "exception": false,
     "start_time": "2023-12-09T04:30:50.929623",
     "status": "completed"
    },
    "tags": []
   },
   "outputs": [
    {
     "data": {
      "text/html": [
       "<div>\n",
       "<style scoped>\n",
       "    .dataframe tbody tr th:only-of-type {\n",
       "        vertical-align: middle;\n",
       "    }\n",
       "\n",
       "    .dataframe tbody tr th {\n",
       "        vertical-align: top;\n",
       "    }\n",
       "\n",
       "    .dataframe thead th {\n",
       "        text-align: right;\n",
       "    }\n",
       "</style>\n",
       "<table border=\"1\" class=\"dataframe\">\n",
       "  <thead>\n",
       "    <tr style=\"text-align: right;\">\n",
       "      <th></th>\n",
       "      <th>user_id</th>\n",
       "      <th>item_list</th>\n",
       "    </tr>\n",
       "  </thead>\n",
       "  <tbody>\n",
       "    <tr>\n",
       "      <th>0</th>\n",
       "      <td>1</td>\n",
       "      <td>101 36 123 506 515 403 694 1546 52 1422</td>\n",
       "    </tr>\n",
       "    <tr>\n",
       "      <th>1</th>\n",
       "      <td>2</td>\n",
       "      <td>1095 12 47 1522 50 656 949 359 54 102</td>\n",
       "    </tr>\n",
       "    <tr>\n",
       "      <th>2</th>\n",
       "      <td>3</td>\n",
       "      <td>59 857 2172 4252 1281 648 2748 956 259 536</td>\n",
       "    </tr>\n",
       "    <tr>\n",
       "      <th>3</th>\n",
       "      <td>4</td>\n",
       "      <td>249 28 50 314 171 146 139 254 187 128</td>\n",
       "    </tr>\n",
       "    <tr>\n",
       "      <th>4</th>\n",
       "      <td>5</td>\n",
       "      <td>1570 170 77 95 1511 471 131 5138 1220 135</td>\n",
       "    </tr>\n",
       "  </tbody>\n",
       "</table>\n",
       "</div>"
      ],
      "text/plain": [
       "   user_id                                   item_list\n",
       "0        1     101 36 123 506 515 403 694 1546 52 1422\n",
       "1        2       1095 12 47 1522 50 656 949 359 54 102\n",
       "2        3  59 857 2172 4252 1281 648 2748 956 259 536\n",
       "3        4       249 28 50 314 171 146 139 254 187 128\n",
       "4        5   1570 170 77 95 1511 471 131 5138 1220 135"
      ]
     },
     "metadata": {},
     "output_type": "display_data"
    }
   ],
   "source": [
    "recommendations = pipeline_recommender.recommend(user_ids_test['user_id'].unique() - 1, cutoff=10, return_scores=False)\n",
    "recommendations = [' '.join([str(item + 1) for item in r]).strip() for r in recommendations]\n",
    "\n",
    "submission_df = pd.DataFrame({'user_id': user_ids_test['user_id'].unique(), 'item_list': recommendations})\n",
    "display(submission_df.head())\n",
    "submission_df.to_csv('/kaggle/working/submission.csv', index=False)"
   ]
  }
 ],
 "metadata": {
  "kaggle": {
   "accelerator": "none",
   "dataSources": [
    {
     "databundleVersionId": 6919098,
     "sourceId": 62803,
     "sourceType": "competition"
    },
    {
     "sourceId": 153551762,
     "sourceType": "kernelVersion"
    }
   ],
   "dockerImageVersionId": 30587,
   "isGpuEnabled": false,
   "isInternetEnabled": true,
   "language": "python",
   "sourceType": "notebook"
  },
  "kernelspec": {
   "display_name": "Python 3",
   "language": "python",
   "name": "python3"
  },
  "language_info": {
   "codemirror_mode": {
    "name": "ipython",
    "version": 3
   },
   "file_extension": ".py",
   "mimetype": "text/x-python",
   "name": "python",
   "nbconvert_exporter": "python",
   "pygments_lexer": "ipython3",
   "version": "3.10.12"
  },
  "papermill": {
   "default_parameters": {},
   "duration": 21928.791088,
   "end_time": "2023-12-09T04:31:30.208848",
   "environment_variables": {},
   "exception": null,
   "input_path": "__notebook__.ipynb",
   "output_path": "__notebook__.ipynb",
   "parameters": {},
   "start_time": "2023-12-08T22:26:01.417760",
   "version": "2.4.0"
  }
 },
 "nbformat": 4,
 "nbformat_minor": 5
}
