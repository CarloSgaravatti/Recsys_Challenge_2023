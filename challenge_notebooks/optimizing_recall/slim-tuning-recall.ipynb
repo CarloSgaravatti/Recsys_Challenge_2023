{
 "cells": [
  {
   "cell_type": "code",
   "execution_count": 1,
   "id": "b190fcb8",
   "metadata": {
    "_cell_guid": "b1076dfc-b9ad-4769-8c92-a6c4dae69d19",
    "_uuid": "8f2839f25d086af736a60e9eeb907d3b93b6e0e5",
    "execution": {
     "iopub.execute_input": "2023-12-16T16:12:43.396405Z",
     "iopub.status.busy": "2023-12-16T16:12:43.396008Z",
     "iopub.status.idle": "2023-12-16T16:14:49.073430Z",
     "shell.execute_reply": "2023-12-16T16:14:49.072024Z"
    },
    "papermill": {
     "duration": 125.68755,
     "end_time": "2023-12-16T16:14:49.076560",
     "exception": false,
     "start_time": "2023-12-16T16:12:43.389010",
     "status": "completed"
    },
    "tags": []
   },
   "outputs": [
    {
     "name": "stdout",
     "output_type": "stream",
     "text": [
      "Cloning into 'Recsys_Challenge_2023'...\r\n",
      "remote: Enumerating objects: 5022, done.\u001b[K\r\n",
      "remote: Counting objects: 100% (211/211), done.\u001b[K\r\n",
      "remote: Compressing objects: 100% (80/80), done.\u001b[K\r\n",
      "remote: Total 5022 (delta 179), reused 154 (delta 131), pack-reused 4811\u001b[K\r\n",
      "Receiving objects: 100% (5022/5022), 2.79 GiB | 26.61 MiB/s, done.\r\n",
      "Resolving deltas: 100% (4005/4005), done.\r\n",
      "Updating files: 100% (458/458), done.\r\n"
     ]
    }
   ],
   "source": [
    "from kaggle_secrets import UserSecretsClient\n",
    "secret_label = \"Token\"\n",
    "token = UserSecretsClient().get_secret(secret_label)\n",
    "\n",
    "! git clone https://{token}@github.com/CarloSgaravatti/Recsys_Challenge_2023.git"
   ]
  },
  {
   "cell_type": "code",
   "execution_count": 2,
   "id": "9895ca8b",
   "metadata": {
    "execution": {
     "iopub.execute_input": "2023-12-16T16:14:49.125401Z",
     "iopub.status.busy": "2023-12-16T16:14:49.124880Z",
     "iopub.status.idle": "2023-12-16T16:15:04.139075Z",
     "shell.execute_reply": "2023-12-16T16:15:04.137861Z"
    },
    "papermill": {
     "duration": 15.038967,
     "end_time": "2023-12-16T16:15:04.141778",
     "exception": false,
     "start_time": "2023-12-16T16:14:49.102811",
     "status": "completed"
    },
    "tags": []
   },
   "outputs": [
    {
     "name": "stdout",
     "output_type": "stream",
     "text": [
      "Collecting PyGithub\r\n",
      "  Obtaining dependency information for PyGithub from https://files.pythonhosted.org/packages/be/04/810d131be173cba445d3658a45512b2b2b3d0960d52c4a300d6ec5e00f52/PyGithub-2.1.1-py3-none-any.whl.metadata\r\n",
      "  Downloading PyGithub-2.1.1-py3-none-any.whl.metadata (2.2 kB)\r\n",
      "Requirement already satisfied: requests in /opt/conda/lib/python3.10/site-packages (2.31.0)\r\n",
      "Collecting pynacl>=1.4.0 (from PyGithub)\r\n",
      "  Downloading PyNaCl-1.5.0-cp36-abi3-manylinux_2_17_x86_64.manylinux2014_x86_64.manylinux_2_24_x86_64.whl (856 kB)\r\n",
      "\u001b[2K     \u001b[90m━━━━━━━━━━━━━━━━━━━━━━━━━━━━━━━━━━━━━━\u001b[0m \u001b[32m856.7/856.7 kB\u001b[0m \u001b[31m26.9 MB/s\u001b[0m eta \u001b[36m0:00:00\u001b[0m\r\n",
      "\u001b[?25hRequirement already satisfied: python-dateutil in /opt/conda/lib/python3.10/site-packages (from PyGithub) (2.8.2)\r\n",
      "Requirement already satisfied: pyjwt[crypto]>=2.4.0 in /opt/conda/lib/python3.10/site-packages (from PyGithub) (2.8.0)\r\n",
      "Requirement already satisfied: typing-extensions>=4.0.0 in /opt/conda/lib/python3.10/site-packages (from PyGithub) (4.5.0)\r\n",
      "Requirement already satisfied: urllib3>=1.26.0 in /opt/conda/lib/python3.10/site-packages (from PyGithub) (1.26.15)\r\n",
      "Requirement already satisfied: Deprecated in /opt/conda/lib/python3.10/site-packages (from PyGithub) (1.2.14)\r\n",
      "Requirement already satisfied: charset-normalizer<4,>=2 in /opt/conda/lib/python3.10/site-packages (from requests) (3.2.0)\r\n",
      "Requirement already satisfied: idna<4,>=2.5 in /opt/conda/lib/python3.10/site-packages (from requests) (3.4)\r\n",
      "Requirement already satisfied: certifi>=2017.4.17 in /opt/conda/lib/python3.10/site-packages (from requests) (2023.7.22)\r\n",
      "Requirement already satisfied: cryptography>=3.4.0 in /opt/conda/lib/python3.10/site-packages (from pyjwt[crypto]>=2.4.0->PyGithub) (41.0.3)\r\n",
      "Requirement already satisfied: cffi>=1.4.1 in /opt/conda/lib/python3.10/site-packages (from pynacl>=1.4.0->PyGithub) (1.15.1)\r\n",
      "Requirement already satisfied: wrapt<2,>=1.10 in /opt/conda/lib/python3.10/site-packages (from Deprecated->PyGithub) (1.15.0)\r\n",
      "Requirement already satisfied: six>=1.5 in /opt/conda/lib/python3.10/site-packages (from python-dateutil->PyGithub) (1.16.0)\r\n",
      "Requirement already satisfied: pycparser in /opt/conda/lib/python3.10/site-packages (from cffi>=1.4.1->pynacl>=1.4.0->PyGithub) (2.21)\r\n",
      "Downloading PyGithub-2.1.1-py3-none-any.whl (302 kB)\r\n",
      "\u001b[2K   \u001b[90m━━━━━━━━━━━━━━━━━━━━━━━━━━━━━━━━━━━━━━━━\u001b[0m \u001b[32m302.9/302.9 kB\u001b[0m \u001b[31m22.3 MB/s\u001b[0m eta \u001b[36m0:00:00\u001b[0m\r\n",
      "\u001b[?25hInstalling collected packages: pynacl, PyGithub\r\n",
      "Successfully installed PyGithub-2.1.1 pynacl-1.5.0\r\n"
     ]
    }
   ],
   "source": [
    "! pip install PyGithub requests"
   ]
  },
  {
   "cell_type": "code",
   "execution_count": 3,
   "id": "57c281cf",
   "metadata": {
    "_kg_hide-output": true,
    "execution": {
     "iopub.execute_input": "2023-12-16T16:15:04.185176Z",
     "iopub.status.busy": "2023-12-16T16:15:04.184791Z",
     "iopub.status.idle": "2023-12-16T16:17:30.655255Z",
     "shell.execute_reply": "2023-12-16T16:17:30.653142Z"
    },
    "papermill": {
     "duration": 146.495796,
     "end_time": "2023-12-16T16:17:30.658459",
     "exception": false,
     "start_time": "2023-12-16T16:15:04.162663",
     "status": "completed"
    },
    "scrolled": true,
    "tags": []
   },
   "outputs": [
    {
     "name": "stdout",
     "output_type": "stream",
     "text": [
      "run_compile_all_cython: Found 10 Cython files in 4 folders...\r\n",
      "run_compile_all_cython: All files will be compiled using your current python environment: '/opt/conda/bin/python'\r\n",
      "Compiling [1/10]: MatrixFactorization_Cython_Epoch.pyx... \r\n",
      "In file included from \u001b[01m\u001b[K/opt/conda/lib/python3.10/site-packages/numpy/core/include/numpy/ndarraytypes.h:1940\u001b[m\u001b[K,\r\n",
      "                 from \u001b[01m\u001b[K/opt/conda/lib/python3.10/site-packages/numpy/core/include/numpy/ndarrayobject.h:12\u001b[m\u001b[K,\r\n",
      "                 from \u001b[01m\u001b[K/opt/conda/lib/python3.10/site-packages/numpy/core/include/numpy/arrayobject.h:5\u001b[m\u001b[K,\r\n",
      "                 from \u001b[01m\u001b[KMatrixFactorization_Cython_Epoch.c:1109\u001b[m\u001b[K:\r\n",
      "\u001b[01m\u001b[K/opt/conda/lib/python3.10/site-packages/numpy/core/include/numpy/npy_1_7_deprecated_api.h:17:2:\u001b[m\u001b[K \u001b[01;35m\u001b[Kwarning: \u001b[m\u001b[K#warning \"Using deprecated NumPy API, disable it with \" \"#define NPY_NO_DEPRECATED_API NPY_1_7_API_VERSION\" [\u001b[01;35m\u001b[K-Wcpp\u001b[m\u001b[K]\r\n",
      "   17 | #\u001b[01;35m\u001b[Kwarning\u001b[m\u001b[K \"Using deprecated NumPy API, disable it with \" \\\r\n",
      "      |  \u001b[01;35m\u001b[K^~~~~~~\u001b[m\u001b[K\r\n",
      "\u001b[01m\u001b[KMatrixFactorization_Cython_Epoch.c:\u001b[m\u001b[K In function ‘\u001b[01m\u001b[K__pyx_pf_32MatrixFactorization_Cython_Epoch_32MatrixFactorization_Cython_Epoch_10epochIteration_Cython_ASY_SVD_SGD\u001b[m\u001b[K’:\r\n",
      "\u001b[01m\u001b[KMatrixFactorization_Cython_Epoch.c:25614:9:\u001b[m\u001b[K \u001b[01;35m\u001b[Kwarning: \u001b[m\u001b[K‘\u001b[01m\u001b[K__pyx_v_end_pos_seen_items\u001b[m\u001b[K’ may be used uninitialized in this function [\u001b[01;35m\u001b[K-Wmaybe-uninitialized\u001b[m\u001b[K]\r\n",
      "25614 |         \u001b[01;35m\u001b[Kfor\u001b[m\u001b[K (__pyx_t_21 = __pyx_v_start_pos_seen_items; __pyx_t_21 < __pyx_t_20; __pyx_t_21+=1) {\r\n",
      "      |         \u001b[01;35m\u001b[K^~~\u001b[m\u001b[K\r\n",
      "\u001b[01m\u001b[KMatrixFactorization_Cython_Epoch.c:25614:9:\u001b[m\u001b[K \u001b[01;35m\u001b[Kwarning: \u001b[m\u001b[K‘\u001b[01m\u001b[K__pyx_v_start_pos_seen_items\u001b[m\u001b[K’ may be used uninitialized in this function [\u001b[01;35m\u001b[K-Wmaybe-uninitialized\u001b[m\u001b[K]\r\n",
      "/opt/conda/lib/python3.10/site-packages/Cython/Compiler/Main.py:381: FutureWarning: Cython directive 'language_level' not set, using '3str' for now (Py3). This has changed from earlier releases! File: /kaggle/working/Recsys_Challenge_2023/Recommenders/MatrixFactorization/Cython/MatrixFactorization_Cython_Epoch.pyx\r\n",
      "  tree = Parsing.p_module(s, pxd, full_module_name)\r\n",
      "Compiling [1/10]: MatrixFactorization_Cython_Epoch.pyx... PASS\r\n",
      "\r\n",
      "Compiling [2/10]: MatrixFactorizationImpressions_Cython_Epoch.pyx... \r\n",
      "In file included from \u001b[01m\u001b[K/opt/conda/lib/python3.10/site-packages/numpy/core/include/numpy/ndarraytypes.h:1940\u001b[m\u001b[K,\r\n",
      "                 from \u001b[01m\u001b[K/opt/conda/lib/python3.10/site-packages/numpy/core/include/numpy/ndarrayobject.h:12\u001b[m\u001b[K,\r\n",
      "                 from \u001b[01m\u001b[K/opt/conda/lib/python3.10/site-packages/numpy/core/include/numpy/arrayobject.h:5\u001b[m\u001b[K,\r\n",
      "                 from \u001b[01m\u001b[KMatrixFactorizationImpressions_Cython_Epoch.c:1109\u001b[m\u001b[K:\r\n",
      "\u001b[01m\u001b[K/opt/conda/lib/python3.10/site-packages/numpy/core/include/numpy/npy_1_7_deprecated_api.h:17:2:\u001b[m\u001b[K \u001b[01;35m\u001b[Kwarning: \u001b[m\u001b[K#warning \"Using deprecated NumPy API, disable it with \" \"#define NPY_NO_DEPRECATED_API NPY_1_7_API_VERSION\" [\u001b[01;35m\u001b[K-Wcpp\u001b[m\u001b[K]\r\n",
      "   17 | #\u001b[01;35m\u001b[Kwarning\u001b[m\u001b[K \"Using deprecated NumPy API, disable it with \" \\\r\n",
      "      |  \u001b[01;35m\u001b[K^~~~~~~\u001b[m\u001b[K\r\n",
      "\u001b[01m\u001b[KMatrixFactorizationImpressions_Cython_Epoch.c:\u001b[m\u001b[K In function ‘\u001b[01m\u001b[K__pyx_f_43MatrixFactorizationImpressions_Cython_Epoch_32MatrixFactorization_Cython_Epoch_sampleBPR_Cython\u001b[m\u001b[K’:\r\n",
      "\u001b[01m\u001b[KMatrixFactorizationImpressions_Cython_Epoch.c:29664:17:\u001b[m\u001b[K \u001b[01;35m\u001b[Kwarning: \u001b[m\u001b[K‘\u001b[01m\u001b[K__pyx_v_start_pos_impression_items\u001b[m\u001b[K’ may be used uninitialized in this function [\u001b[01;35m\u001b[K-Wmaybe-uninitialized\u001b[m\u001b[K]\r\n",
      "29664 |       \u001b[01;35m\u001b[K__pyx_t_4 = (__pyx_v_start_pos_impression_items + __pyx_v_index)\u001b[m\u001b[K;\r\n",
      "      |       \u001b[01;35m\u001b[K~~~~~~~~~~^~~~~~~~~~~~~~~~~~~~~~~~~~~~~~~~~~~~~~~~~~~~~~~~~~~~~~\u001b[m\u001b[K\r\n",
      "\u001b[01m\u001b[KMatrixFactorizationImpressions_Cython_Epoch.c:\u001b[m\u001b[K In function ‘\u001b[01m\u001b[K__pyx_pf_43MatrixFactorizationImpressions_Cython_Epoch_32MatrixFactorization_Cython_Epoch_10epochIteration_Cython_ASY_SVD_SGD\u001b[m\u001b[K’:\r\n",
      "\u001b[01m\u001b[KMatrixFactorizationImpressions_Cython_Epoch.c:25474:7:\u001b[m\u001b[K \u001b[01;35m\u001b[Kwarning: \u001b[m\u001b[K‘\u001b[01m\u001b[K__pyx_v_end_pos_seen_items\u001b[m\u001b[K’ may be used uninitialized in this function [\u001b[01;35m\u001b[K-Wmaybe-uninitialized\u001b[m\u001b[K]\r\n",
      "25474 |       \u001b[01;35m\u001b[Kfor\u001b[m\u001b[K (__pyx_t_21 = __pyx_v_start_pos_seen_items; __pyx_t_21 < __pyx_t_20; __pyx_t_21+=1) {\r\n",
      "      |       \u001b[01;35m\u001b[K^~~\u001b[m\u001b[K\r\n",
      "\u001b[01m\u001b[KMatrixFactorizationImpressions_Cython_Epoch.c:25474:7:\u001b[m\u001b[K \u001b[01;35m\u001b[Kwarning: \u001b[m\u001b[K‘\u001b[01m\u001b[K__pyx_v_start_pos_seen_items\u001b[m\u001b[K’ may be used uninitialized in this function [\u001b[01;35m\u001b[K-Wmaybe-uninitialized\u001b[m\u001b[K]\r\n",
      "/opt/conda/lib/python3.10/site-packages/Cython/Compiler/Main.py:381: FutureWarning: Cython directive 'language_level' not set, using '3str' for now (Py3). This has changed from earlier releases! File: /kaggle/working/Recsys_Challenge_2023/Recommenders/MatrixFactorization/Cython/MatrixFactorizationImpressions_Cython_Epoch.pyx\r\n",
      "  tree = Parsing.p_module(s, pxd, full_module_name)\r\n",
      "Compiling [2/10]: MatrixFactorizationImpressions_Cython_Epoch.pyx... PASS\r\n",
      "\r\n",
      "Compiling [3/10]: Compute_Similarity_Cython.pyx... \r\n",
      "warning: Compute_Similarity_Cython.pyx:21:0: The 'IF' statement is deprecated and will be removed in a future Cython version. Consider using runtime conditions or C macros instead. See https://github.com/cython/cython/issues/4310\r\n",
      "warning: Compute_Similarity_Cython.pyx:22:4: The 'DEF' statement is deprecated and will be removed in a future Cython version. Consider using global variables, constants, and in-place literals instead. See https://github.com/cython/cython/issues/4310\r\n",
      "warning: Compute_Similarity_Cython.pyx:24:4: The 'DEF' statement is deprecated and will be removed in a future Cython version. Consider using global variables, constants, and in-place literals instead. See https://github.com/cython/cython/issues/4310\r\n",
      "warning: Compute_Similarity_Cython.pyx:26:4: The 'DEF' statement is deprecated and will be removed in a future Cython version. Consider using global variables, constants, and in-place literals instead. See https://github.com/cython/cython/issues/4310\r\n",
      "In file included from \u001b[01m\u001b[K/opt/conda/lib/python3.10/site-packages/numpy/core/include/numpy/ndarraytypes.h:1940\u001b[m\u001b[K,\r\n",
      "                 from \u001b[01m\u001b[K/opt/conda/lib/python3.10/site-packages/numpy/core/include/numpy/ndarrayobject.h:12\u001b[m\u001b[K,\r\n",
      "                 from \u001b[01m\u001b[K/opt/conda/lib/python3.10/site-packages/numpy/core/include/numpy/arrayobject.h:5\u001b[m\u001b[K,\r\n",
      "                 from \u001b[01m\u001b[KCompute_Similarity_Cython.c:1109\u001b[m\u001b[K:\r\n",
      "\u001b[01m\u001b[K/opt/conda/lib/python3.10/site-packages/numpy/core/include/numpy/npy_1_7_deprecated_api.h:17:2:\u001b[m\u001b[K \u001b[01;35m\u001b[Kwarning: \u001b[m\u001b[K#warning \"Using deprecated NumPy API, disable it with \" \"#define NPY_NO_DEPRECATED_API NPY_1_7_API_VERSION\" [\u001b[01;35m\u001b[K-Wcpp\u001b[m\u001b[K]\r\n",
      "   17 | #\u001b[01;35m\u001b[Kwarning\u001b[m\u001b[K \"Using deprecated NumPy API, disable it with \" \\\r\n",
      "      |  \u001b[01;35m\u001b[K^~~~~~~\u001b[m\u001b[K\r\n",
      "/opt/conda/lib/python3.10/site-packages/Cython/Compiler/Main.py:381: FutureWarning: Cython directive 'language_level' not set, using '3str' for now (Py3). This has changed from earlier releases! File: /kaggle/working/Recsys_Challenge_2023/Recommenders/Similarity/Cython/Compute_Similarity_Cython.pyx\r\n",
      "  tree = Parsing.p_module(s, pxd, full_module_name)\r\n",
      "warning: Compute_Similarity_Cython.pyx:21:0: The 'IF' statement is deprecated and will be removed in a future Cython version. Consider using runtime conditions or C macros instead. See https://github.com/cython/cython/issues/4310\r\n",
      "warning: Compute_Similarity_Cython.pyx:22:4: The 'DEF' statement is deprecated and will be removed in a future Cython version. Consider using global variables, constants, and in-place literals instead. See https://github.com/cython/cython/issues/4310\r\n",
      "warning: Compute_Similarity_Cython.pyx:24:4: The 'DEF' statement is deprecated and will be removed in a future Cython version. Consider using global variables, constants, and in-place literals instead. See https://github.com/cython/cython/issues/4310\r\n",
      "warning: Compute_Similarity_Cython.pyx:26:4: The 'DEF' statement is deprecated and will be removed in a future Cython version. Consider using global variables, constants, and in-place literals instead. See https://github.com/cython/cython/issues/4310\r\n",
      "Compiling [3/10]: Compute_Similarity_Cython.pyx... PASS\r\n",
      "\r\n",
      "Compiling [4/10]: Triangular_Matrix.pyx... \r\n",
      "warning: Triangular_Matrix.pyx:22:0: The 'IF' statement is deprecated and will be removed in a future Cython version. Consider using runtime conditions or C macros instead. See https://github.com/cython/cython/issues/4310\r\n",
      "warning: Triangular_Matrix.pyx:23:4: The 'DEF' statement is deprecated and will be removed in a future Cython version. Consider using global variables, constants, and in-place literals instead. See https://github.com/cython/cython/issues/4310\r\n",
      "warning: Triangular_Matrix.pyx:25:4: The 'DEF' statement is deprecated and will be removed in a future Cython version. Consider using global variables, constants, and in-place literals instead. See https://github.com/cython/cython/issues/4310\r\n",
      "warning: Triangular_Matrix.pyx:27:4: The 'DEF' statement is deprecated and will be removed in a future Cython version. Consider using global variables, constants, and in-place literals instead. See https://github.com/cython/cython/issues/4310\r\n",
      "In file included from \u001b[01m\u001b[K/opt/conda/lib/python3.10/site-packages/numpy/core/include/numpy/ndarraytypes.h:1940\u001b[m\u001b[K,\r\n",
      "                 from \u001b[01m\u001b[K/opt/conda/lib/python3.10/site-packages/numpy/core/include/numpy/ndarrayobject.h:12\u001b[m\u001b[K,\r\n",
      "                 from \u001b[01m\u001b[K/opt/conda/lib/python3.10/site-packages/numpy/core/include/numpy/arrayobject.h:5\u001b[m\u001b[K,\r\n",
      "                 from \u001b[01m\u001b[KTriangular_Matrix.c:1109\u001b[m\u001b[K:\r\n",
      "\u001b[01m\u001b[K/opt/conda/lib/python3.10/site-packages/numpy/core/include/numpy/npy_1_7_deprecated_api.h:17:2:\u001b[m\u001b[K \u001b[01;35m\u001b[Kwarning: \u001b[m\u001b[K#warning \"Using deprecated NumPy API, disable it with \" \"#define NPY_NO_DEPRECATED_API NPY_1_7_API_VERSION\" [\u001b[01;35m\u001b[K-Wcpp\u001b[m\u001b[K]\r\n",
      "   17 | #\u001b[01;35m\u001b[Kwarning\u001b[m\u001b[K \"Using deprecated NumPy API, disable it with \" \\\r\n",
      "      |  \u001b[01;35m\u001b[K^~~~~~~\u001b[m\u001b[K\r\n",
      "/opt/conda/lib/python3.10/site-packages/Cython/Compiler/Main.py:381: FutureWarning: Cython directive 'language_level' not set, using '3str' for now (Py3). This has changed from earlier releases! File: /kaggle/working/Recsys_Challenge_2023/Recommenders/SLIM/Cython/Triangular_Matrix.pyx\r\n",
      "  tree = Parsing.p_module(s, pxd, full_module_name)\r\n",
      "warning: Triangular_Matrix.pyx:22:0: The 'IF' statement is deprecated and will be removed in a future Cython version. Consider using runtime conditions or C macros instead. See https://github.com/cython/cython/issues/4310\r\n",
      "warning: Triangular_Matrix.pyx:23:4: The 'DEF' statement is deprecated and will be removed in a future Cython version. Consider using global variables, constants, and in-place literals instead. See https://github.com/cython/cython/issues/4310\r\n",
      "warning: Triangular_Matrix.pyx:25:4: The 'DEF' statement is deprecated and will be removed in a future Cython version. Consider using global variables, constants, and in-place literals instead. See https://github.com/cython/cython/issues/4310\r\n",
      "warning: Triangular_Matrix.pyx:27:4: The 'DEF' statement is deprecated and will be removed in a future Cython version. Consider using global variables, constants, and in-place literals instead. See https://github.com/cython/cython/issues/4310\r\n",
      "Compiling [4/10]: Triangular_Matrix.pyx... PASS\r\n",
      "\r\n",
      "Compiling [5/10]: Sparse_Matrix_Tree_CSR.pyx... \r\n",
      "warning: Sparse_Matrix_Tree_CSR.pyx:132:34: Non-trivial type declarators in shared declaration (e.g. mix of pointers and values). Each pointer declaration should be on its own line.\r\n",
      "warning: Sparse_Matrix_Tree_CSR.pyx:132:66: Non-trivial type declarators in shared declaration (e.g. mix of pointers and values). Each pointer declaration should be on its own line.\r\n",
      "warning: Sparse_Matrix_Tree_CSR.pyx:343:35: Non-trivial type declarators in shared declaration (e.g. mix of pointers and values). Each pointer declaration should be on its own line.\r\n",
      "warning: Sparse_Matrix_Tree_CSR.pyx:343:52: Non-trivial type declarators in shared declaration (e.g. mix of pointers and values). Each pointer declaration should be on its own line.\r\n",
      "warning: Sparse_Matrix_Tree_CSR.pyx:442:35: Non-trivial type declarators in shared declaration (e.g. mix of pointers and values). Each pointer declaration should be on its own line.\r\n",
      "warning: Sparse_Matrix_Tree_CSR.pyx:442:53: Non-trivial type declarators in shared declaration (e.g. mix of pointers and values). Each pointer declaration should be on its own line.\r\n",
      "warning: Sparse_Matrix_Tree_CSR.pyx:442:69: Non-trivial type declarators in shared declaration (e.g. mix of pointers and values). Each pointer declaration should be on its own line.\r\n",
      "warning: Sparse_Matrix_Tree_CSR.pyx:577:35: Non-trivial type declarators in shared declaration (e.g. mix of pointers and values). Each pointer declaration should be on its own line.\r\n",
      "warning: Sparse_Matrix_Tree_CSR.pyx:577:42: Non-trivial type declarators in shared declaration (e.g. mix of pointers and values). Each pointer declaration should be on its own line.\r\n",
      "warning: Sparse_Matrix_Tree_CSR.pyx:578:35: Non-trivial type declarators in shared declaration (e.g. mix of pointers and values). Each pointer declaration should be on its own line.\r\n",
      "warning: Sparse_Matrix_Tree_CSR.pyx:578:53: Non-trivial type declarators in shared declaration (e.g. mix of pointers and values). Each pointer declaration should be on its own line.\r\n",
      "\r\n",
      "Error compiling Cython file:\r\n",
      "------------------------------------------------------------\r\n",
      "...\r\n",
      "            vector_pointer_to_list_elements[index].head = current_element\r\n",
      "            current_element = current_element.higher\r\n",
      "\r\n",
      "\r\n",
      "        # Sort array elements on their data field\r\n",
      "        qsort(vector_pointer_to_list_elements, list_length, sizeof(head_pointer_tree_s), compare_struct_on_data)\r\n",
      "                                                                                         ^\r\n",
      "------------------------------------------------------------\r\n",
      "\r\n",
      "Sparse_Matrix_Tree_CSR.pyx:516:89: Cannot assign type 'int (const void *, const void *) except? -1' to 'int (*)(const_void *, const_void *) noexcept'\r\n",
      "\r\n",
      "Error compiling Cython file:\r\n",
      "------------------------------------------------------------\r\n",
      "...\r\n",
      "        # Sort array elements on their data field\r\n",
      "        qsort(vector_pointer_to_list_elements, list_length, sizeof(head_pointer_tree_s), compare_struct_on_data)\r\n",
      "\r\n",
      "        # Sort only the TopK according to their column field\r\n",
      "        # Sort is from lower to higher, therefore the elements to be considered are from len-topK to len\r\n",
      "        qsort(&vector_pointer_to_list_elements[list_length-TopK], TopK, sizeof(head_pointer_tree_s), compare_struct_on_column)\r\n",
      "                                                                                                     ^\r\n",
      "------------------------------------------------------------\r\n",
      "\r\n",
      "Sparse_Matrix_Tree_CSR.pyx:520:101: Cannot assign type 'int (const void *, const void *) except? -1' to 'int (*)(const_void *, const_void *) noexcept'\r\n",
      "Traceback (most recent call last):\r\n",
      "  File \"/kaggle/working/Recsys_Challenge_2023/CythonCompiler/compile_script.py\", line 48, in <module>\r\n",
      "    setup(\r\n",
      "  File \"/opt/conda/lib/python3.10/site-packages/setuptools/__init__.py\", line 107, in setup\r\n",
      "    return distutils.core.setup(**attrs)\r\n",
      "  File \"/opt/conda/lib/python3.10/site-packages/setuptools/_distutils/core.py\", line 185, in setup\r\n",
      "    return run_commands(dist)\r\n",
      "  File \"/opt/conda/lib/python3.10/site-packages/setuptools/_distutils/core.py\", line 201, in run_commands\r\n",
      "    dist.run_commands()\r\n",
      "  File \"/opt/conda/lib/python3.10/site-packages/setuptools/_distutils/dist.py\", line 969, in run_commands\r\n",
      "    self.run_command(cmd)\r\n",
      "  File \"/opt/conda/lib/python3.10/site-packages/setuptools/dist.py\", line 1233, in run_command\r\n",
      "    super().run_command(command)\r\n",
      "  File \"/opt/conda/lib/python3.10/site-packages/setuptools/_distutils/dist.py\", line 988, in run_command\r\n",
      "    cmd_obj.run()\r\n",
      "  File \"/opt/conda/lib/python3.10/site-packages/setuptools/_distutils/command/build_ext.py\", line 345, in run\r\n",
      "    self.build_extensions()\r\n",
      "  File \"/opt/conda/lib/python3.10/site-packages/setuptools/_distutils/command/build_ext.py\", line 467, in build_extensions\r\n",
      "    self._build_extensions_serial()\r\n",
      "  File \"/opt/conda/lib/python3.10/site-packages/setuptools/_distutils/command/build_ext.py\", line 493, in _build_extensions_serial\r\n",
      "    self.build_extension(ext)\r\n",
      "  File \"/opt/conda/lib/python3.10/site-packages/Cython/Distutils/build_ext.py\", line 122, in build_extension\r\n",
      "    new_ext = cythonize(\r\n",
      "  File \"/opt/conda/lib/python3.10/site-packages/Cython/Build/Dependencies.py\", line 1134, in cythonize\r\n",
      "    cythonize_one(*args)\r\n",
      "  File \"/opt/conda/lib/python3.10/site-packages/Cython/Build/Dependencies.py\", line 1301, in cythonize_one\r\n",
      "    raise CompileError(None, pyx_file)\r\n",
      "Cython.Compiler.Errors.CompileError: Sparse_Matrix_Tree_CSR.pyx\r\n",
      "Traceback (most recent call last):\r\n",
      "  File \"/kaggle/working/Recsys_Challenge_2023/run_compile_all_cython.py\", line 59, in <module>\r\n",
      "    run_compile_subprocess(file_path, [file_name])\r\n",
      "  File \"/kaggle/working/Recsys_Challenge_2023/CythonCompiler/run_compile_subprocess.py\", line 51, in run_compile_subprocess\r\n",
      "    raise exc\r\n",
      "  File \"/kaggle/working/Recsys_Challenge_2023/CythonCompiler/run_compile_subprocess.py\", line 32, in run_compile_subprocess\r\n",
      "    output = subprocess.check_output(' '.join(command),\r\n",
      "  File \"/opt/conda/lib/python3.10/subprocess.py\", line 421, in check_output\r\n",
      "    return run(*popenargs, stdout=PIPE, timeout=timeout, check=True,\r\n",
      "  File \"/opt/conda/lib/python3.10/subprocess.py\", line 526, in run\r\n",
      "    raise CalledProcessError(retcode, process.args,\r\n",
      "subprocess.CalledProcessError: Command '/opt/conda/bin/python /kaggle/working/Recsys_Challenge_2023/CythonCompiler/compile_script.py Sparse_Matrix_Tree_CSR.pyx build_ext --inplace' returned non-zero exit status 1.\r\n",
      "Compiling [5/10]: Sparse_Matrix_Tree_CSR.pyx... FAIL: Command '/opt/conda/bin/python /kaggle/working/Recsys_Challenge_2023/CythonCompiler/compile_script.py Sparse_Matrix_Tree_CSR.pyx build_ext --inplace' returned non-zero exit status 1.\r\n",
      "\r\n",
      "Compiling [6/10]: SLIM_BPR_Cython_Epoch.pyx... \r\n",
      "warning: SLIM_BPR_Cython_Epoch.pyx:24:0: The 'IF' statement is deprecated and will be removed in a future Cython version. Consider using runtime conditions or C macros instead. See https://github.com/cython/cython/issues/4310\r\n",
      "warning: SLIM_BPR_Cython_Epoch.pyx:25:4: The 'DEF' statement is deprecated and will be removed in a future Cython version. Consider using global variables, constants, and in-place literals instead. See https://github.com/cython/cython/issues/4310\r\n",
      "warning: SLIM_BPR_Cython_Epoch.pyx:27:4: The 'DEF' statement is deprecated and will be removed in a future Cython version. Consider using global variables, constants, and in-place literals instead. See https://github.com/cython/cython/issues/4310\r\n",
      "warning: SLIM_BPR_Cython_Epoch.pyx:29:4: The 'DEF' statement is deprecated and will be removed in a future Cython version. Consider using global variables, constants, and in-place literals instead. See https://github.com/cython/cython/issues/4310\r\n",
      "warning: SLIM_BPR_Cython_Epoch.pyx:632:34: Non-trivial type declarators in shared declaration (e.g. mix of pointers and values). Each pointer declaration should be on its own line.\r\n",
      "warning: SLIM_BPR_Cython_Epoch.pyx:632:66: Non-trivial type declarators in shared declaration (e.g. mix of pointers and values). Each pointer declaration should be on its own line.\r\n",
      "warning: SLIM_BPR_Cython_Epoch.pyx:817:35: Non-trivial type declarators in shared declaration (e.g. mix of pointers and values). Each pointer declaration should be on its own line.\r\n",
      "warning: SLIM_BPR_Cython_Epoch.pyx:817:52: Non-trivial type declarators in shared declaration (e.g. mix of pointers and values). Each pointer declaration should be on its own line.\r\n",
      "warning: SLIM_BPR_Cython_Epoch.pyx:916:35: Non-trivial type declarators in shared declaration (e.g. mix of pointers and values). Each pointer declaration should be on its own line.\r\n",
      "warning: SLIM_BPR_Cython_Epoch.pyx:916:53: Non-trivial type declarators in shared declaration (e.g. mix of pointers and values). Each pointer declaration should be on its own line.\r\n",
      "warning: SLIM_BPR_Cython_Epoch.pyx:916:69: Non-trivial type declarators in shared declaration (e.g. mix of pointers and values). Each pointer declaration should be on its own line.\r\n",
      "warning: SLIM_BPR_Cython_Epoch.pyx:1051:35: Non-trivial type declarators in shared declaration (e.g. mix of pointers and values). Each pointer declaration should be on its own line.\r\n",
      "warning: SLIM_BPR_Cython_Epoch.pyx:1051:42: Non-trivial type declarators in shared declaration (e.g. mix of pointers and values). Each pointer declaration should be on its own line.\r\n",
      "warning: SLIM_BPR_Cython_Epoch.pyx:1052:35: Non-trivial type declarators in shared declaration (e.g. mix of pointers and values). Each pointer declaration should be on its own line.\r\n",
      "warning: SLIM_BPR_Cython_Epoch.pyx:1052:53: Non-trivial type declarators in shared declaration (e.g. mix of pointers and values). Each pointer declaration should be on its own line.\r\n",
      "\r\n",
      "Error compiling Cython file:\r\n",
      "------------------------------------------------------------\r\n",
      "...\r\n",
      "            vector_pointer_to_list_elements[index].head = current_element\r\n",
      "            current_element = current_element.higher\r\n",
      "\r\n",
      "\r\n",
      "        # Sort array elements on their data field\r\n",
      "        qsort(vector_pointer_to_list_elements, list_length, sizeof(head_pointer_tree_s), compare_struct_on_data)\r\n",
      "                                                                                         ^\r\n",
      "------------------------------------------------------------\r\n",
      "\r\n",
      "SLIM_BPR_Cython_Epoch.pyx:990:89: Cannot assign type 'int (const void *, const void *) except? -1' to 'int (*)(const_void *, const_void *) noexcept'\r\n",
      "\r\n",
      "Error compiling Cython file:\r\n",
      "------------------------------------------------------------\r\n",
      "...\r\n",
      "        # Sort array elements on their data field\r\n",
      "        qsort(vector_pointer_to_list_elements, list_length, sizeof(head_pointer_tree_s), compare_struct_on_data)\r\n",
      "\r\n",
      "        # Sort only the TopK according to their column field\r\n",
      "        # Sort is from lower to higher, therefore the elements to be considered are from len-topK to len\r\n",
      "        qsort(&vector_pointer_to_list_elements[list_length-TopK], TopK, sizeof(head_pointer_tree_s), compare_struct_on_column)\r\n",
      "                                                                                                     ^\r\n",
      "------------------------------------------------------------\r\n",
      "\r\n",
      "SLIM_BPR_Cython_Epoch.pyx:994:101: Cannot assign type 'int (const void *, const void *) except? -1' to 'int (*)(const_void *, const_void *) noexcept'\r\n",
      "Traceback (most recent call last):\r\n",
      "  File \"/kaggle/working/Recsys_Challenge_2023/CythonCompiler/compile_script.py\", line 48, in <module>\r\n",
      "    setup(\r\n",
      "  File \"/opt/conda/lib/python3.10/site-packages/setuptools/__init__.py\", line 107, in setup\r\n",
      "    return distutils.core.setup(**attrs)\r\n",
      "  File \"/opt/conda/lib/python3.10/site-packages/setuptools/_distutils/core.py\", line 185, in setup\r\n",
      "    return run_commands(dist)\r\n",
      "  File \"/opt/conda/lib/python3.10/site-packages/setuptools/_distutils/core.py\", line 201, in run_commands\r\n",
      "    dist.run_commands()\r\n",
      "  File \"/opt/conda/lib/python3.10/site-packages/setuptools/_distutils/dist.py\", line 969, in run_commands\r\n",
      "    self.run_command(cmd)\r\n",
      "  File \"/opt/conda/lib/python3.10/site-packages/setuptools/dist.py\", line 1233, in run_command\r\n",
      "    super().run_command(command)\r\n",
      "  File \"/opt/conda/lib/python3.10/site-packages/setuptools/_distutils/dist.py\", line 988, in run_command\r\n",
      "    cmd_obj.run()\r\n",
      "  File \"/opt/conda/lib/python3.10/site-packages/setuptools/_distutils/command/build_ext.py\", line 345, in run\r\n",
      "    self.build_extensions()\r\n",
      "  File \"/opt/conda/lib/python3.10/site-packages/setuptools/_distutils/command/build_ext.py\", line 467, in build_extensions\r\n",
      "    self._build_extensions_serial()\r\n",
      "  File \"/opt/conda/lib/python3.10/site-packages/setuptools/_distutils/command/build_ext.py\", line 493, in _build_extensions_serial\r\n",
      "    self.build_extension(ext)\r\n",
      "  File \"/opt/conda/lib/python3.10/site-packages/Cython/Distutils/build_ext.py\", line 122, in build_extension\r\n",
      "    new_ext = cythonize(\r\n",
      "  File \"/opt/conda/lib/python3.10/site-packages/Cython/Build/Dependencies.py\", line 1134, in cythonize\r\n",
      "    cythonize_one(*args)\r\n",
      "  File \"/opt/conda/lib/python3.10/site-packages/Cython/Build/Dependencies.py\", line 1301, in cythonize_one\r\n",
      "    raise CompileError(None, pyx_file)\r\n",
      "Cython.Compiler.Errors.CompileError: SLIM_BPR_Cython_Epoch.pyx\r\n",
      "Traceback (most recent call last):\r\n",
      "  File \"/kaggle/working/Recsys_Challenge_2023/run_compile_all_cython.py\", line 59, in <module>\r\n",
      "    run_compile_subprocess(file_path, [file_name])\r\n",
      "  File \"/kaggle/working/Recsys_Challenge_2023/CythonCompiler/run_compile_subprocess.py\", line 51, in run_compile_subprocess\r\n",
      "    raise exc\r\n",
      "  File \"/kaggle/working/Recsys_Challenge_2023/CythonCompiler/run_compile_subprocess.py\", line 32, in run_compile_subprocess\r\n",
      "    output = subprocess.check_output(' '.join(command),\r\n",
      "  File \"/opt/conda/lib/python3.10/subprocess.py\", line 421, in check_output\r\n",
      "    return run(*popenargs, stdout=PIPE, timeout=timeout, check=True,\r\n",
      "  File \"/opt/conda/lib/python3.10/subprocess.py\", line 526, in run\r\n",
      "    raise CalledProcessError(retcode, process.args,\r\n",
      "subprocess.CalledProcessError: Command '/opt/conda/bin/python /kaggle/working/Recsys_Challenge_2023/CythonCompiler/compile_script.py SLIM_BPR_Cython_Epoch.pyx build_ext --inplace' returned non-zero exit status 1.\r\n",
      "Compiling [6/10]: SLIM_BPR_Cython_Epoch.pyx... FAIL: Command '/opt/conda/bin/python /kaggle/working/Recsys_Challenge_2023/CythonCompiler/compile_script.py SLIM_BPR_Cython_Epoch.pyx build_ext --inplace' returned non-zero exit status 1.\r\n",
      "\r\n",
      "Compiling [7/10]: CFW_DVV_Similarity_Cython_SGD.pyx... \r\n",
      "In file included from \u001b[01m\u001b[K/opt/conda/lib/python3.10/site-packages/numpy/core/include/numpy/ndarraytypes.h:1940\u001b[m\u001b[K,\r\n",
      "                 from \u001b[01m\u001b[K/opt/conda/lib/python3.10/site-packages/numpy/core/include/numpy/ndarrayobject.h:12\u001b[m\u001b[K,\r\n",
      "                 from \u001b[01m\u001b[K/opt/conda/lib/python3.10/site-packages/numpy/core/include/numpy/arrayobject.h:5\u001b[m\u001b[K,\r\n",
      "                 from \u001b[01m\u001b[KCFW_DVV_Similarity_Cython_SGD.c:1109\u001b[m\u001b[K:\r\n",
      "\u001b[01m\u001b[K/opt/conda/lib/python3.10/site-packages/numpy/core/include/numpy/npy_1_7_deprecated_api.h:17:2:\u001b[m\u001b[K \u001b[01;35m\u001b[Kwarning: \u001b[m\u001b[K#warning \"Using deprecated NumPy API, disable it with \" \"#define NPY_NO_DEPRECATED_API NPY_1_7_API_VERSION\" [\u001b[01;35m\u001b[K-Wcpp\u001b[m\u001b[K]\r\n",
      "   17 | #\u001b[01;35m\u001b[Kwarning\u001b[m\u001b[K \"Using deprecated NumPy API, disable it with \" \\\r\n",
      "      |  \u001b[01;35m\u001b[K^~~~~~~\u001b[m\u001b[K\r\n",
      "/opt/conda/lib/python3.10/site-packages/Cython/Compiler/Main.py:381: FutureWarning: Cython directive 'language_level' not set, using '3str' for now (Py3). This has changed from earlier releases! File: /kaggle/working/Recsys_Challenge_2023/Recommenders/FeatureWeighting/Cython/CFW_DVV_Similarity_Cython_SGD.pyx\r\n",
      "  tree = Parsing.p_module(s, pxd, full_module_name)\r\n",
      "Compiling [7/10]: CFW_DVV_Similarity_Cython_SGD.pyx... PASS\r\n",
      "\r\n",
      "Compiling [8/10]: CFW_D_Similarity_Cython_SGD.pyx... \r\n",
      "In file included from \u001b[01m\u001b[K/opt/conda/lib/python3.10/site-packages/numpy/core/include/numpy/ndarraytypes.h:1940\u001b[m\u001b[K,\r\n",
      "                 from \u001b[01m\u001b[K/opt/conda/lib/python3.10/site-packages/numpy/core/include/numpy/ndarrayobject.h:12\u001b[m\u001b[K,\r\n",
      "                 from \u001b[01m\u001b[K/opt/conda/lib/python3.10/site-packages/numpy/core/include/numpy/arrayobject.h:5\u001b[m\u001b[K,\r\n",
      "                 from \u001b[01m\u001b[KCFW_D_Similarity_Cython_SGD.c:1109\u001b[m\u001b[K:\r\n",
      "\u001b[01m\u001b[K/opt/conda/lib/python3.10/site-packages/numpy/core/include/numpy/npy_1_7_deprecated_api.h:17:2:\u001b[m\u001b[K \u001b[01;35m\u001b[Kwarning: \u001b[m\u001b[K#warning \"Using deprecated NumPy API, disable it with \" \"#define NPY_NO_DEPRECATED_API NPY_1_7_API_VERSION\" [\u001b[01;35m\u001b[K-Wcpp\u001b[m\u001b[K]\r\n",
      "   17 | #\u001b[01;35m\u001b[Kwarning\u001b[m\u001b[K \"Using deprecated NumPy API, disable it with \" \\\r\n",
      "      |  \u001b[01;35m\u001b[K^~~~~~~\u001b[m\u001b[K\r\n",
      "\u001b[01m\u001b[KCFW_D_Similarity_Cython_SGD.c:\u001b[m\u001b[K In function ‘\u001b[01m\u001b[K__pyx_pf_27CFW_D_Similarity_Cython_SGD_27CFW_D_Similarity_Cython_SGD_6fit\u001b[m\u001b[K’:\r\n",
      "\u001b[01m\u001b[KCFW_D_Similarity_Cython_SGD.c:22766:55:\u001b[m\u001b[K \u001b[01;35m\u001b[Kwarning: \u001b[m\u001b[K‘\u001b[01m\u001b[K__pyx_v_sample_num\u001b[m\u001b[K’ may be used uninitialized in this function [\u001b[01;35m\u001b[K-Wmaybe-uninitialized\u001b[m\u001b[K]\r\n",
      "22766 |   __pyx_t_3 = PyFloat_FromDouble((__pyx_v_cum_loss / \u001b[01;35m\u001b[K((double)__pyx_v_sample_num)\u001b[m\u001b[K)); if (unlikely(!__pyx_t_3)) __PYX_ERR(0, 290, __pyx_L1_error)\r\n",
      "      |                                                      \u001b[01;35m\u001b[K~^~~~~~~~~~~~~~~~~~~~~~~~~~~\u001b[m\u001b[K\r\n",
      "/opt/conda/lib/python3.10/site-packages/Cython/Compiler/Main.py:381: FutureWarning: Cython directive 'language_level' not set, using '3str' for now (Py3). This has changed from earlier releases! File: /kaggle/working/Recsys_Challenge_2023/Recommenders/FeatureWeighting/Cython/CFW_D_Similarity_Cython_SGD.pyx\r\n",
      "  tree = Parsing.p_module(s, pxd, full_module_name)\r\n",
      "Compiling [8/10]: CFW_D_Similarity_Cython_SGD.pyx... PASS\r\n",
      "\r\n",
      "Compiling [9/10]: FBSM_Rating_Cython_SGD.pyx... \r\n",
      "In file included from \u001b[01m\u001b[K/opt/conda/lib/python3.10/site-packages/numpy/core/include/numpy/ndarraytypes.h:1940\u001b[m\u001b[K,\r\n",
      "                 from \u001b[01m\u001b[K/opt/conda/lib/python3.10/site-packages/numpy/core/include/numpy/ndarrayobject.h:12\u001b[m\u001b[K,\r\n",
      "                 from \u001b[01m\u001b[K/opt/conda/lib/python3.10/site-packages/numpy/core/include/numpy/arrayobject.h:5\u001b[m\u001b[K,\r\n",
      "                 from \u001b[01m\u001b[KFBSM_Rating_Cython_SGD.c:1109\u001b[m\u001b[K:\r\n",
      "\u001b[01m\u001b[K/opt/conda/lib/python3.10/site-packages/numpy/core/include/numpy/npy_1_7_deprecated_api.h:17:2:\u001b[m\u001b[K \u001b[01;35m\u001b[Kwarning: \u001b[m\u001b[K#warning \"Using deprecated NumPy API, disable it with \" \"#define NPY_NO_DEPRECATED_API NPY_1_7_API_VERSION\" [\u001b[01;35m\u001b[K-Wcpp\u001b[m\u001b[K]\r\n",
      "   17 | #\u001b[01;35m\u001b[Kwarning\u001b[m\u001b[K \"Using deprecated NumPy API, disable it with \" \\\r\n",
      "      |  \u001b[01;35m\u001b[K^~~~~~~\u001b[m\u001b[K\r\n",
      "\u001b[01m\u001b[KFBSM_Rating_Cython_SGD.c:\u001b[m\u001b[K In function ‘\u001b[01m\u001b[K__pyx_pf_22FBSM_Rating_Cython_SGD_22FBSM_Rating_Cython_SGD_2fit\u001b[m\u001b[K’:\r\n",
      "\u001b[01m\u001b[KFBSM_Rating_Cython_SGD.c:26038:55:\u001b[m\u001b[K \u001b[01;35m\u001b[Kwarning: \u001b[m\u001b[K‘\u001b[01m\u001b[K__pyx_v_num_sample\u001b[m\u001b[K’ may be used uninitialized in this function [\u001b[01;35m\u001b[K-Wmaybe-uninitialized\u001b[m\u001b[K]\r\n",
      "26038 |   __pyx_t_5 = PyFloat_FromDouble((__pyx_v_cum_loss / \u001b[01;35m\u001b[K((double)__pyx_v_num_sample)\u001b[m\u001b[K)); if (unlikely(!__pyx_t_5)) __PYX_ERR(0, 551, __pyx_L1_error)\r\n",
      "      |                                                      \u001b[01;35m\u001b[K~^~~~~~~~~~~~~~~~~~~~~~~~~~~\u001b[m\u001b[K\r\n",
      "/opt/conda/lib/python3.10/site-packages/Cython/Compiler/Main.py:381: FutureWarning: Cython directive 'language_level' not set, using '3str' for now (Py3). This has changed from earlier releases! File: /kaggle/working/Recsys_Challenge_2023/Recommenders/FeatureWeighting/Cython/FBSM_Rating_Cython_SGD.pyx\r\n",
      "  tree = Parsing.p_module(s, pxd, full_module_name)\r\n",
      "Compiling [9/10]: FBSM_Rating_Cython_SGD.pyx... PASS\r\n",
      "\r\n",
      "Compiling [10/10]: HP3_Similarity_Cython_SGD.pyx... \r\n",
      "warning: HP3_Similarity_Cython_SGD.pyx:113:40: Index should be typed for more efficient access\r\n",
      "In file included from \u001b[01m\u001b[K/opt/conda/lib/python3.10/site-packages/numpy/core/include/numpy/ndarraytypes.h:1940\u001b[m\u001b[K,\r\n",
      "                 from \u001b[01m\u001b[K/opt/conda/lib/python3.10/site-packages/numpy/core/include/numpy/ndarrayobject.h:12\u001b[m\u001b[K,\r\n",
      "                 from \u001b[01m\u001b[K/opt/conda/lib/python3.10/site-packages/numpy/core/include/numpy/arrayobject.h:5\u001b[m\u001b[K,\r\n",
      "                 from \u001b[01m\u001b[KHP3_Similarity_Cython_SGD.c:1109\u001b[m\u001b[K:\r\n",
      "\u001b[01m\u001b[K/opt/conda/lib/python3.10/site-packages/numpy/core/include/numpy/npy_1_7_deprecated_api.h:17:2:\u001b[m\u001b[K \u001b[01;35m\u001b[Kwarning: \u001b[m\u001b[K#warning \"Using deprecated NumPy API, disable it with \" \"#define NPY_NO_DEPRECATED_API NPY_1_7_API_VERSION\" [\u001b[01;35m\u001b[K-Wcpp\u001b[m\u001b[K]\r\n",
      "   17 | #\u001b[01;35m\u001b[Kwarning\u001b[m\u001b[K \"Using deprecated NumPy API, disable it with \" \\\r\n",
      "      |  \u001b[01;35m\u001b[K^~~~~~~\u001b[m\u001b[K\r\n",
      "\u001b[01m\u001b[KHP3_Similarity_Cython_SGD.c:\u001b[m\u001b[K In function ‘\u001b[01m\u001b[K__pyx_pf_25HP3_Similarity_Cython_SGD_25HP3_Similarity_Cython_SGD_4fit\u001b[m\u001b[K’:\r\n",
      "\u001b[01m\u001b[KHP3_Similarity_Cython_SGD.c:23035:55:\u001b[m\u001b[K \u001b[01;35m\u001b[Kwarning: \u001b[m\u001b[K‘\u001b[01m\u001b[K__pyx_v_sample_num\u001b[m\u001b[K’ may be used uninitialized in this function [\u001b[01;35m\u001b[K-Wmaybe-uninitialized\u001b[m\u001b[K]\r\n",
      "23035 |   __pyx_t_1 = PyFloat_FromDouble((__pyx_v_cum_loss / \u001b[01;35m\u001b[K((double)__pyx_v_sample_num)\u001b[m\u001b[K)); if (unlikely(!__pyx_t_1)) __PYX_ERR(0, 291, __pyx_L1_error)\r\n",
      "      |                                                      \u001b[01;35m\u001b[K~^~~~~~~~~~~~~~~~~~~~~~~~~~~\u001b[m\u001b[K\r\n",
      "/opt/conda/lib/python3.10/site-packages/Cython/Compiler/Main.py:381: FutureWarning: Cython directive 'language_level' not set, using '3str' for now (Py3). This has changed from earlier releases! File: /kaggle/working/Recsys_Challenge_2023/Recommenders/FeatureWeighting/Cython/HP3_Similarity_Cython_SGD.pyx\r\n",
      "  tree = Parsing.p_module(s, pxd, full_module_name)\r\n",
      "warning: HP3_Similarity_Cython_SGD.pyx:113:40: Index should be typed for more efficient access\r\n",
      "Compiling [10/10]: HP3_Similarity_Cython_SGD.pyx... PASS\r\n",
      "\r\n",
      "run_compile_all_cython: Compilation finished. FAILS 2/10.\r\n",
      "Compilation log can be found here: './result_experiments/run_compile_all_cython.txt'\r\n"
     ]
    }
   ],
   "source": [
    "! cd /kaggle/working/Recsys_Challenge_2023 && python run_compile_all_cython.py"
   ]
  },
  {
   "cell_type": "code",
   "execution_count": 4,
   "id": "ccc6960b",
   "metadata": {
    "execution": {
     "iopub.execute_input": "2023-12-16T16:17:30.710841Z",
     "iopub.status.busy": "2023-12-16T16:17:30.710324Z",
     "iopub.status.idle": "2023-12-16T16:17:34.558887Z",
     "shell.execute_reply": "2023-12-16T16:17:34.558064Z"
    },
    "papermill": {
     "duration": 3.877659,
     "end_time": "2023-12-16T16:17:34.561022",
     "exception": false,
     "start_time": "2023-12-16T16:17:30.683363",
     "status": "completed"
    },
    "tags": []
   },
   "outputs": [
    {
     "name": "stdout",
     "output_type": "stream",
     "text": [
      "/kaggle/input/recommender-system-2023-challenge-polimi/data_train.csv\n",
      "/kaggle/input/recommender-system-2023-challenge-polimi/data_target_users_test.csv\n"
     ]
    }
   ],
   "source": [
    "import numpy as np\n",
    "import pandas as pd\n",
    "import matplotlib.pyplot as plt\n",
    "import seaborn as sns\n",
    "import joblib\n",
    "import json\n",
    "import random\n",
    "import tqdm\n",
    "import gc\n",
    "import time\n",
    "import os\n",
    "import shutil\n",
    "import optuna\n",
    "import scipy.sparse as sps\n",
    "\n",
    "for dirname, _, filenames in os.walk('/kaggle/input'):\n",
    "    for filename in filenames:\n",
    "        print(os.path.join(dirname, filename))"
   ]
  },
  {
   "cell_type": "code",
   "execution_count": 5,
   "id": "4e4415c9",
   "metadata": {
    "execution": {
     "iopub.execute_input": "2023-12-16T16:17:34.611754Z",
     "iopub.status.busy": "2023-12-16T16:17:34.610610Z",
     "iopub.status.idle": "2023-12-16T16:17:34.617515Z",
     "shell.execute_reply": "2023-12-16T16:17:34.616294Z"
    },
    "papermill": {
     "duration": 0.034339,
     "end_time": "2023-12-16T16:17:34.619759",
     "exception": false,
     "start_time": "2023-12-16T16:17:34.585420",
     "status": "completed"
    },
    "tags": []
   },
   "outputs": [
    {
     "name": "stdout",
     "output_type": "stream",
     "text": [
      "/kaggle/working/Recsys_Challenge_2023\n"
     ]
    }
   ],
   "source": [
    "%cd /kaggle/working/Recsys_Challenge_2023"
   ]
  },
  {
   "cell_type": "code",
   "execution_count": 6,
   "id": "90fd3326",
   "metadata": {
    "execution": {
     "iopub.execute_input": "2023-12-16T16:17:34.670771Z",
     "iopub.status.busy": "2023-12-16T16:17:34.670013Z",
     "iopub.status.idle": "2023-12-16T16:17:38.920232Z",
     "shell.execute_reply": "2023-12-16T16:17:38.918945Z"
    },
    "papermill": {
     "duration": 4.278423,
     "end_time": "2023-12-16T16:17:38.922834",
     "exception": false,
     "start_time": "2023-12-16T16:17:34.644411",
     "status": "completed"
    },
    "tags": []
   },
   "outputs": [],
   "source": [
    "from Recommenders.KNN.UserKNNCFRecommender import UserKNNCFRecommender\n",
    "from Data_manager.split_functions.split_train_validation_random_holdout import split_train_in_two_percentage_global_sample\n",
    "from Recommenders.SLIM.SLIMElasticNetRecommender import MultiThreadSLIM_SLIMElasticNetRecommender, SLIMElasticNetRecommender\n",
    "from Recommenders.SLIM.Cython.SLIM_BPR_Cython import SLIM_BPR_Cython\n",
    "from Recommenders.SLIM.SLIM_BPR_Python import SLIM_BPR_Python\n",
    "from Evaluation.Evaluator import EvaluatorHoldout\n",
    "from Recommenders.MatrixFactorization.IALSRecommender import IALSRecommender\n",
    "from Recommenders.MatrixFactorization.PureSVDRecommender import PureSVDRecommender\n",
    "from Recommenders.KNN.ItemKNNCFRecommender import ItemKNNCFRecommender\n",
    "from Recommenders.KNN.UserKNNCFRecommender import UserKNNCFRecommender\n",
    "from Recommenders.MatrixFactorization.Cython.MatrixFactorization_Cython import MatrixFactorization_BPR_Cython, MatrixFactorization_SVDpp_Cython, MatrixFactorization_AsySVD_Cython, MatrixFactorization_WARP_Cython\n",
    "from Recommenders.MatrixFactorization.PyTorch.MF_MSE_PyTorch import MF_MSE_PyTorch\n",
    "\n",
    "np.int = int\n",
    "np.random.seed(42)\n",
    "np.bool = bool\n",
    "np.float = float"
   ]
  },
  {
   "cell_type": "code",
   "execution_count": 7,
   "id": "ff1c22e8",
   "metadata": {
    "execution": {
     "iopub.execute_input": "2023-12-16T16:17:38.973726Z",
     "iopub.status.busy": "2023-12-16T16:17:38.973056Z",
     "iopub.status.idle": "2023-12-16T16:17:39.836980Z",
     "shell.execute_reply": "2023-12-16T16:17:39.835684Z"
    },
    "papermill": {
     "duration": 0.89205,
     "end_time": "2023-12-16T16:17:39.839570",
     "exception": false,
     "start_time": "2023-12-16T16:17:38.947520",
     "status": "completed"
    },
    "tags": []
   },
   "outputs": [
    {
     "name": "stdout",
     "output_type": "stream",
     "text": [
      "Repository found\n"
     ]
    }
   ],
   "source": [
    "from github import Github\n",
    "from github import Auth\n",
    "\n",
    "auth = Auth.Token(token)\n",
    "g = Github(auth=auth)\n",
    "\n",
    "repo = None\n",
    "for r in g.get_user().get_repos():\n",
    "    if r.name == 'Recsys_Challenge_2023':\n",
    "        repo = r\n",
    "        print('Repository found')"
   ]
  },
  {
   "cell_type": "code",
   "execution_count": 8,
   "id": "dd01e15d",
   "metadata": {
    "execution": {
     "iopub.execute_input": "2023-12-16T16:17:40.004555Z",
     "iopub.status.busy": "2023-12-16T16:17:40.002974Z",
     "iopub.status.idle": "2023-12-16T16:17:40.010254Z",
     "shell.execute_reply": "2023-12-16T16:17:40.009417Z"
    },
    "papermill": {
     "duration": 0.147778,
     "end_time": "2023-12-16T16:17:40.012736",
     "exception": false,
     "start_time": "2023-12-16T16:17:39.864958",
     "status": "completed"
    },
    "tags": []
   },
   "outputs": [],
   "source": [
    "def upload_file(filepath_kaggle, filepath_github, commit_message):\n",
    "    try:\n",
    "        contents = repo.get_contents(filepath_github)\n",
    "        with open(filepath_kaggle, \"rb\") as file:\n",
    "            repo.update_file(contents.path, commit_message, file.read(), contents.sha)\n",
    "    except Exception:\n",
    "        with open(filepath_kaggle, \"rb\") as file:\n",
    "            repo.create_file(filepath_github, commit_message, file.read())"
   ]
  },
  {
   "cell_type": "code",
   "execution_count": 9,
   "id": "89b65360",
   "metadata": {
    "execution": {
     "iopub.execute_input": "2023-12-16T16:17:40.063522Z",
     "iopub.status.busy": "2023-12-16T16:17:40.063115Z",
     "iopub.status.idle": "2023-12-16T16:17:40.068138Z",
     "shell.execute_reply": "2023-12-16T16:17:40.066986Z"
    },
    "papermill": {
     "duration": 0.032631,
     "end_time": "2023-12-16T16:17:40.070358",
     "exception": false,
     "start_time": "2023-12-16T16:17:40.037727",
     "status": "completed"
    },
    "tags": []
   },
   "outputs": [],
   "source": [
    "config = {\n",
    "    'tune_parameters': True,\n",
    "    'database_path': '/kaggle/working/tuning_slim_elastic_recall.db',\n",
    "    'copy_prev_best_params': False,\n",
    "    'save_github': True\n",
    "}"
   ]
  },
  {
   "cell_type": "code",
   "execution_count": 10,
   "id": "815c8d0f",
   "metadata": {
    "execution": {
     "iopub.execute_input": "2023-12-16T16:17:40.121260Z",
     "iopub.status.busy": "2023-12-16T16:17:40.120456Z",
     "iopub.status.idle": "2023-12-16T16:17:40.126230Z",
     "shell.execute_reply": "2023-12-16T16:17:40.125082Z"
    },
    "papermill": {
     "duration": 0.033991,
     "end_time": "2023-12-16T16:17:40.128797",
     "exception": false,
     "start_time": "2023-12-16T16:17:40.094806",
     "status": "completed"
    },
    "tags": []
   },
   "outputs": [],
   "source": [
    "try:\n",
    "    shutil.copyfile(\n",
    "        '/kaggle/working/Recsys_Challenge_2023/tuning_results/tuning_slim_elastic_recall.db', \n",
    "        config['database_path']\n",
    "    )\n",
    "except FileNotFoundError:\n",
    "    pass # if not present optuna will create it"
   ]
  },
  {
   "cell_type": "code",
   "execution_count": 11,
   "id": "f6ceb260",
   "metadata": {
    "execution": {
     "iopub.execute_input": "2023-12-16T16:17:40.179882Z",
     "iopub.status.busy": "2023-12-16T16:17:40.179420Z",
     "iopub.status.idle": "2023-12-16T16:17:40.503315Z",
     "shell.execute_reply": "2023-12-16T16:17:40.502119Z"
    },
    "papermill": {
     "duration": 0.352536,
     "end_time": "2023-12-16T16:17:40.506006",
     "exception": false,
     "start_time": "2023-12-16T16:17:40.153470",
     "status": "completed"
    },
    "tags": []
   },
   "outputs": [],
   "source": [
    "train_data = pd.read_csv('/kaggle/input/recommender-system-2023-challenge-polimi/data_train.csv')\n",
    "user_ids_test = pd.read_csv('/kaggle/input/recommender-system-2023-challenge-polimi/data_target_users_test.csv')"
   ]
  },
  {
   "cell_type": "code",
   "execution_count": 12,
   "id": "1244905f",
   "metadata": {
    "execution": {
     "iopub.execute_input": "2023-12-16T16:17:40.556843Z",
     "iopub.status.busy": "2023-12-16T16:17:40.556243Z",
     "iopub.status.idle": "2023-12-16T16:17:40.600463Z",
     "shell.execute_reply": "2023-12-16T16:17:40.599361Z"
    },
    "papermill": {
     "duration": 0.072306,
     "end_time": "2023-12-16T16:17:40.602740",
     "exception": false,
     "start_time": "2023-12-16T16:17:40.530434",
     "status": "completed"
    },
    "tags": []
   },
   "outputs": [
    {
     "data": {
      "text/plain": [
       "<13024x22347 sparse matrix of type '<class 'numpy.float64'>'\n",
       "\twith 478730 stored elements in Compressed Sparse Row format>"
      ]
     },
     "execution_count": 12,
     "metadata": {},
     "output_type": "execute_result"
    }
   ],
   "source": [
    "URM_all = sps.csr_matrix((train_data.data.values,\n",
    "                          ((train_data.row - 1).values, (train_data.col - 1).values)),\n",
    "                        shape=(train_data.row.max(), train_data.col.max()))\n",
    "URM_all"
   ]
  },
  {
   "cell_type": "code",
   "execution_count": 13,
   "id": "5053bc9e",
   "metadata": {
    "execution": {
     "iopub.execute_input": "2023-12-16T16:17:40.654774Z",
     "iopub.status.busy": "2023-12-16T16:17:40.653535Z",
     "iopub.status.idle": "2023-12-16T16:17:41.716509Z",
     "shell.execute_reply": "2023-12-16T16:17:41.715243Z"
    },
    "papermill": {
     "duration": 1.091689,
     "end_time": "2023-12-16T16:17:41.719039",
     "exception": false,
     "start_time": "2023-12-16T16:17:40.627350",
     "status": "completed"
    },
    "tags": []
   },
   "outputs": [
    {
     "name": "stdout",
     "output_type": "stream",
     "text": [
      "Warning: 627 (4.81 %) of 13024 users have no train items\n",
      "Warning: 2568 (19.72 %) of 13024 users have no sampled items\n",
      "Warning: 2953 (22.67 %) of 13024 users have no train items\n",
      "Warning: 6367 (48.89 %) of 13024 users have no sampled items\n"
     ]
    }
   ],
   "source": [
    "URM_train, URM_test_complete = split_train_in_two_percentage_global_sample(URM_all, train_percentage = 0.8)\n",
    "URM_validation, URM_test = split_train_in_two_percentage_global_sample(URM_test_complete, train_percentage = 0.8)"
   ]
  },
  {
   "cell_type": "code",
   "execution_count": 14,
   "id": "7cd0dba2",
   "metadata": {
    "execution": {
     "iopub.execute_input": "2023-12-16T16:17:41.770435Z",
     "iopub.status.busy": "2023-12-16T16:17:41.770017Z",
     "iopub.status.idle": "2023-12-16T16:17:41.787142Z",
     "shell.execute_reply": "2023-12-16T16:17:41.785988Z"
    },
    "papermill": {
     "duration": 0.04534,
     "end_time": "2023-12-16T16:17:41.789238",
     "exception": false,
     "start_time": "2023-12-16T16:17:41.743898",
     "status": "completed"
    },
    "tags": []
   },
   "outputs": [
    {
     "name": "stdout",
     "output_type": "stream",
     "text": [
      "EvaluatorHoldout: Ignoring 2568 (19.7%) Users that have less than 1 test interactions\n"
     ]
    }
   ],
   "source": [
    "evaluator = EvaluatorHoldout(URM_test_complete, cutoff_list=[50])\n",
    "\n",
    "def objective_function_slim(trial):           \n",
    "    params = {\n",
    "        'l1_ratio': trial.suggest_float('l1_ratio', 1e-5, 1, log=True),\n",
    "        'alpha': trial.suggest_float('alpha', 1e-5, 100, log=True),\n",
    "        'topK': trial.suggest_int('topK', 5, 3000, log=True),\n",
    "        'positive_only': trial.suggest_categorical(\"positive_only\", [True, False]),\n",
    "    }\n",
    "        \n",
    "    recommender_instance = SLIMElasticNetRecommender(URM_train)\n",
    "    recommender_instance.fit(**params)\n",
    "        \n",
    "    result_df, _ = evaluator.evaluateRecommender(recommender_instance)\n",
    "    return result_df.loc[50, \"RECALL\"]"
   ]
  },
  {
   "cell_type": "code",
   "execution_count": 15,
   "id": "d275a7e6",
   "metadata": {
    "execution": {
     "iopub.execute_input": "2023-12-16T16:17:41.847581Z",
     "iopub.status.busy": "2023-12-16T16:17:41.846698Z",
     "iopub.status.idle": "2023-12-16T23:24:08.234037Z",
     "shell.execute_reply": "2023-12-16T23:24:08.231678Z"
    },
    "papermill": {
     "duration": 25586.423409,
     "end_time": "2023-12-16T23:24:08.237287",
     "exception": false,
     "start_time": "2023-12-16T16:17:41.813878",
     "status": "completed"
    },
    "tags": []
   },
   "outputs": [
    {
     "name": "stderr",
     "output_type": "stream",
     "text": [
      "[I 2023-12-16 16:17:42,285] Using an existing study with name 'hyperparameters_tuning_slim' instead of creating a new one.\n"
     ]
    },
    {
     "name": "stdout",
     "output_type": "stream",
     "text": [
      "SLIMElasticNetRecommender: URM Detected 627 ( 4.8%) users with no interactions.\n",
      "SLIMElasticNetRecommender: URM Detected 247 ( 1.1%) items with no interactions.\n",
      "SLIMElasticNetRecommender: Processed 7791 (34.9%) in 5.00 min. Items per second: 25.96\n",
      "SLIMElasticNetRecommender: Processed 16367 (73.2%) in 10.00 min. Items per second: 27.27\n",
      "SLIMElasticNetRecommender: Processed 22347 (100.0%) in 13.66 min. Items per second: 27.27\n",
      "EvaluatorHoldout: Processed 10456 (100.0%) in 14.34 sec. Users per second: 729\n"
     ]
    },
    {
     "name": "stderr",
     "output_type": "stream",
     "text": [
      "[I 2023-12-16 16:31:36,877] Trial 210 finished with value: 0.27201458088762376 and parameters: {'l1_ratio': 8.377904949729038e-05, 'alpha': 0.004774211721016447, 'topK': 2114, 'positive_only': True}. Best is trial 112 with value: 0.2761653571343395.\n"
     ]
    },
    {
     "name": "stdout",
     "output_type": "stream",
     "text": [
      "SLIMElasticNetRecommender: URM Detected 627 ( 4.8%) users with no interactions.\n",
      "SLIMElasticNetRecommender: URM Detected 247 ( 1.1%) items with no interactions.\n",
      "SLIMElasticNetRecommender: Processed 8437 (37.8%) in 5.00 min. Items per second: 28.12\n",
      "SLIMElasticNetRecommender: Processed 17637 (78.9%) in 10.00 min. Items per second: 29.39\n",
      "SLIMElasticNetRecommender: Processed 22347 (100.0%) in 12.78 min. Items per second: 29.14\n",
      "EvaluatorHoldout: Processed 10456 (100.0%) in 15.37 sec. Users per second: 680\n"
     ]
    },
    {
     "name": "stderr",
     "output_type": "stream",
     "text": [
      "[I 2023-12-16 16:44:39,908] Trial 211 finished with value: 0.27543027074374454 and parameters: {'l1_ratio': 0.00020856332205483973, 'alpha': 0.010245346069288607, 'topK': 2654, 'positive_only': True}. Best is trial 112 with value: 0.2761653571343395.\n"
     ]
    },
    {
     "name": "stdout",
     "output_type": "stream",
     "text": [
      "SLIMElasticNetRecommender: URM Detected 627 ( 4.8%) users with no interactions.\n",
      "SLIMElasticNetRecommender: URM Detected 247 ( 1.1%) items with no interactions.\n",
      "SLIMElasticNetRecommender: Processed 8331 (37.3%) in 5.00 min. Items per second: 27.76\n",
      "SLIMElasticNetRecommender: Processed 17497 (78.3%) in 10.00 min. Items per second: 29.16\n",
      "SLIMElasticNetRecommender: Processed 22347 (100.0%) in 12.88 min. Items per second: 28.92\n",
      "EvaluatorHoldout: Processed 10456 (100.0%) in 15.63 sec. Users per second: 669\n"
     ]
    },
    {
     "name": "stderr",
     "output_type": "stream",
     "text": [
      "[I 2023-12-16 16:57:49,039] Trial 212 finished with value: 0.27577372935666367 and parameters: {'l1_ratio': 0.00015532293818036348, 'alpha': 0.012525575110395452, 'topK': 2394, 'positive_only': True}. Best is trial 112 with value: 0.2761653571343395.\n"
     ]
    },
    {
     "name": "stdout",
     "output_type": "stream",
     "text": [
      "SLIMElasticNetRecommender: URM Detected 627 ( 4.8%) users with no interactions.\n",
      "SLIMElasticNetRecommender: URM Detected 247 ( 1.1%) items with no interactions.\n",
      "SLIMElasticNetRecommender: Processed 8262 (37.0%) in 5.00 min. Items per second: 27.54\n",
      "SLIMElasticNetRecommender: Processed 17247 (77.2%) in 10.00 min. Items per second: 28.74\n",
      "SLIMElasticNetRecommender: Processed 22347 (100.0%) in 13.09 min. Items per second: 28.45\n",
      "EvaluatorHoldout: Processed 10456 (100.0%) in 14.74 sec. Users per second: 709\n"
     ]
    },
    {
     "name": "stderr",
     "output_type": "stream",
     "text": [
      "[I 2023-12-16 17:11:09,999] Trial 213 finished with value: 0.27481344884015596 and parameters: {'l1_ratio': 0.00014224870460230978, 'alpha': 0.007133521866080708, 'topK': 2301, 'positive_only': True}. Best is trial 112 with value: 0.2761653571343395.\n"
     ]
    },
    {
     "name": "stdout",
     "output_type": "stream",
     "text": [
      "SLIMElasticNetRecommender: URM Detected 627 ( 4.8%) users with no interactions.\n",
      "SLIMElasticNetRecommender: URM Detected 247 ( 1.1%) items with no interactions.\n",
      "SLIMElasticNetRecommender: Processed 8344 (37.3%) in 5.00 min. Items per second: 27.81\n",
      "SLIMElasticNetRecommender: Processed 17546 (78.5%) in 10.00 min. Items per second: 29.24\n",
      "SLIMElasticNetRecommender: Processed 22347 (100.0%) in 12.84 min. Items per second: 29.01\n",
      "EvaluatorHoldout: Processed 10456 (100.0%) in 15.79 sec. Users per second: 662\n"
     ]
    },
    {
     "name": "stderr",
     "output_type": "stream",
     "text": [
      "[I 2023-12-16 17:24:16,724] Trial 214 finished with value: 0.27408193051759805 and parameters: {'l1_ratio': 0.00011230603853612399, 'alpha': 0.01789119844646358, 'topK': 1431, 'positive_only': True}. Best is trial 112 with value: 0.2761653571343395.\n"
     ]
    },
    {
     "name": "stdout",
     "output_type": "stream",
     "text": [
      "SLIMElasticNetRecommender: URM Detected 627 ( 4.8%) users with no interactions.\n",
      "SLIMElasticNetRecommender: URM Detected 247 ( 1.1%) items with no interactions.\n",
      "SLIMElasticNetRecommender: Processed 8362 (37.4%) in 5.00 min. Items per second: 27.87\n",
      "SLIMElasticNetRecommender: Processed 17538 (78.5%) in 10.00 min. Items per second: 29.23\n",
      "SLIMElasticNetRecommender: Processed 22347 (100.0%) in 12.85 min. Items per second: 28.98\n",
      "EvaluatorHoldout: Processed 10456 (100.0%) in 15.49 sec. Users per second: 675\n"
     ]
    },
    {
     "name": "stderr",
     "output_type": "stream",
     "text": [
      "[I 2023-12-16 17:37:24,068] Trial 215 finished with value: 0.2752327707120977 and parameters: {'l1_ratio': 0.0001643766144897436, 'alpha': 0.013374481839871914, 'topK': 1860, 'positive_only': True}. Best is trial 112 with value: 0.2761653571343395.\n"
     ]
    },
    {
     "name": "stdout",
     "output_type": "stream",
     "text": [
      "SLIMElasticNetRecommender: URM Detected 627 ( 4.8%) users with no interactions.\n",
      "SLIMElasticNetRecommender: URM Detected 247 ( 1.1%) items with no interactions.\n",
      "SLIMElasticNetRecommender: Processed 8136 (36.4%) in 5.00 min. Items per second: 27.11\n",
      "SLIMElasticNetRecommender: Processed 17373 (77.7%) in 10.00 min. Items per second: 28.95\n",
      "SLIMElasticNetRecommender: Processed 22347 (100.0%) in 12.92 min. Items per second: 28.83\n",
      "EvaluatorHoldout: Processed 10456 (100.0%) in 16.99 sec. Users per second: 616\n"
     ]
    },
    {
     "name": "stderr",
     "output_type": "stream",
     "text": [
      "[I 2023-12-16 17:50:36,893] Trial 216 finished with value: 0.2676040014855707 and parameters: {'l1_ratio': 7.91657006604491e-05, 'alpha': 0.028436285282207725, 'topK': 2406, 'positive_only': True}. Best is trial 112 with value: 0.2761653571343395.\n"
     ]
    },
    {
     "name": "stdout",
     "output_type": "stream",
     "text": [
      "SLIMElasticNetRecommender: URM Detected 627 ( 4.8%) users with no interactions.\n",
      "SLIMElasticNetRecommender: URM Detected 247 ( 1.1%) items with no interactions.\n",
      "SLIMElasticNetRecommender: Processed 8486 (38.0%) in 5.00 min. Items per second: 28.28\n",
      "SLIMElasticNetRecommender: Processed 17627 (78.9%) in 10.00 min. Items per second: 29.38\n",
      "SLIMElasticNetRecommender: Processed 22347 (100.0%) in 12.82 min. Items per second: 29.05\n",
      "EvaluatorHoldout: Processed 10456 (100.0%) in 14.90 sec. Users per second: 702\n"
     ]
    },
    {
     "name": "stderr",
     "output_type": "stream",
     "text": [
      "[I 2023-12-16 18:03:41,594] Trial 217 finished with value: 0.27500901584130544 and parameters: {'l1_ratio': 0.00035468467371538575, 'alpha': 0.008444157558122096, 'topK': 1647, 'positive_only': True}. Best is trial 112 with value: 0.2761653571343395.\n"
     ]
    },
    {
     "name": "stdout",
     "output_type": "stream",
     "text": [
      "SLIMElasticNetRecommender: URM Detected 627 ( 4.8%) users with no interactions.\n",
      "SLIMElasticNetRecommender: URM Detected 247 ( 1.1%) items with no interactions.\n",
      "SLIMElasticNetRecommender: Processed 8616 (38.6%) in 5.00 min. Items per second: 28.71\n",
      "SLIMElasticNetRecommender: Processed 17788 (79.6%) in 10.00 min. Items per second: 29.64\n",
      "SLIMElasticNetRecommender: Processed 22347 (100.0%) in 12.69 min. Items per second: 29.35\n",
      "EvaluatorHoldout: Processed 10456 (100.0%) in 11.43 sec. Users per second: 915\n"
     ]
    },
    {
     "name": "stderr",
     "output_type": "stream",
     "text": [
      "[I 2023-12-16 18:16:34,855] Trial 218 finished with value: 0.2735961145388535 and parameters: {'l1_ratio': 0.00012895076166427664, 'alpha': 0.01190712030297897, 'topK': 253, 'positive_only': True}. Best is trial 112 with value: 0.2761653571343395.\n"
     ]
    },
    {
     "name": "stdout",
     "output_type": "stream",
     "text": [
      "SLIMElasticNetRecommender: URM Detected 627 ( 4.8%) users with no interactions.\n",
      "SLIMElasticNetRecommender: URM Detected 247 ( 1.1%) items with no interactions.\n",
      "SLIMElasticNetRecommender: Processed 8393 (37.6%) in 5.00 min. Items per second: 27.97\n",
      "SLIMElasticNetRecommender: Processed 17659 (79.0%) in 10.00 min. Items per second: 29.43\n",
      "SLIMElasticNetRecommender: Processed 22347 (100.0%) in 12.76 min. Items per second: 29.18\n",
      "EvaluatorHoldout: Processed 10456 (100.0%) in 16.19 sec. Users per second: 646\n"
     ]
    },
    {
     "name": "stderr",
     "output_type": "stream",
     "text": [
      "[I 2023-12-16 18:29:37,433] Trial 219 finished with value: 0.27393939888379154 and parameters: {'l1_ratio': 0.00018880298244368208, 'alpha': 0.018517709064292908, 'topK': 2054, 'positive_only': True}. Best is trial 112 with value: 0.2761653571343395.\n"
     ]
    },
    {
     "name": "stdout",
     "output_type": "stream",
     "text": [
      "SLIMElasticNetRecommender: URM Detected 627 ( 4.8%) users with no interactions.\n",
      "SLIMElasticNetRecommender: URM Detected 247 ( 1.1%) items with no interactions.\n",
      "SLIMElasticNetRecommender: Processed 9104 (40.7%) in 5.00 min. Items per second: 30.34\n",
      "SLIMElasticNetRecommender: Processed 18587 (83.2%) in 10.00 min. Items per second: 30.97\n",
      "SLIMElasticNetRecommender: Processed 22347 (100.0%) in 12.18 min. Items per second: 30.57\n",
      "EvaluatorHoldout: Processed 10456 (100.0%) in 14.69 sec. Users per second: 712\n"
     ]
    },
    {
     "name": "stderr",
     "output_type": "stream",
     "text": [
      "[I 2023-12-16 18:42:03,725] Trial 220 finished with value: 0.2754518619206572 and parameters: {'l1_ratio': 0.005495695422207866, 'alpha': 0.0077765773992335965, 'topK': 2819, 'positive_only': True}. Best is trial 112 with value: 0.2761653571343395.\n"
     ]
    },
    {
     "name": "stdout",
     "output_type": "stream",
     "text": [
      "SLIMElasticNetRecommender: URM Detected 627 ( 4.8%) users with no interactions.\n",
      "SLIMElasticNetRecommender: URM Detected 247 ( 1.1%) items with no interactions.\n",
      "SLIMElasticNetRecommender: Processed 8413 (37.6%) in 5.00 min. Items per second: 28.04\n",
      "SLIMElasticNetRecommender: Processed 17598 (78.7%) in 10.00 min. Items per second: 29.32\n",
      "SLIMElasticNetRecommender: Processed 22347 (100.0%) in 12.81 min. Items per second: 29.07\n",
      "EvaluatorHoldout: Processed 10456 (100.0%) in 15.48 sec. Users per second: 676\n"
     ]
    },
    {
     "name": "stderr",
     "output_type": "stream",
     "text": [
      "[I 2023-12-16 18:55:08,702] Trial 221 finished with value: 0.27531239367789534 and parameters: {'l1_ratio': 0.0002485338675959337, 'alpha': 0.01109574079842547, 'topK': 2501, 'positive_only': True}. Best is trial 112 with value: 0.2761653571343395.\n"
     ]
    },
    {
     "name": "stdout",
     "output_type": "stream",
     "text": [
      "SLIMElasticNetRecommender: URM Detected 627 ( 4.8%) users with no interactions.\n",
      "SLIMElasticNetRecommender: URM Detected 247 ( 1.1%) items with no interactions.\n",
      "SLIMElasticNetRecommender: Processed 8279 (37.0%) in 5.00 min. Items per second: 27.59\n",
      "SLIMElasticNetRecommender: Processed 17371 (77.7%) in 10.00 min. Items per second: 28.95\n",
      "SLIMElasticNetRecommender: Processed 22347 (100.0%) in 12.95 min. Items per second: 28.75\n",
      "EvaluatorHoldout: Processed 10456 (100.0%) in 15.55 sec. Users per second: 672\n"
     ]
    },
    {
     "name": "stderr",
     "output_type": "stream",
     "text": [
      "[I 2023-12-16 19:08:22,205] Trial 222 finished with value: 0.2756821230019645 and parameters: {'l1_ratio': 0.00010715101537849351, 'alpha': 0.013089872934305403, 'topK': 2101, 'positive_only': True}. Best is trial 112 with value: 0.2761653571343395.\n"
     ]
    },
    {
     "name": "stdout",
     "output_type": "stream",
     "text": [
      "SLIMElasticNetRecommender: URM Detected 627 ( 4.8%) users with no interactions.\n",
      "SLIMElasticNetRecommender: URM Detected 247 ( 1.1%) items with no interactions.\n",
      "SLIMElasticNetRecommender: Processed 8276 (37.0%) in 5.00 min. Items per second: 27.58\n",
      "SLIMElasticNetRecommender: Processed 17401 (77.9%) in 10.00 min. Items per second: 29.00\n",
      "SLIMElasticNetRecommender: Processed 22347 (100.0%) in 12.97 min. Items per second: 28.73\n",
      "EvaluatorHoldout: Processed 10456 (100.0%) in 15.74 sec. Users per second: 664\n"
     ]
    },
    {
     "name": "stderr",
     "output_type": "stream",
     "text": [
      "[I 2023-12-16 19:21:36,561] Trial 223 finished with value: 0.2749691896267143 and parameters: {'l1_ratio': 0.00010080942098573332, 'alpha': 0.014465250656033943, 'topK': 1802, 'positive_only': True}. Best is trial 112 with value: 0.2761653571343395.\n"
     ]
    },
    {
     "name": "stdout",
     "output_type": "stream",
     "text": [
      "SLIMElasticNetRecommender: URM Detected 627 ( 4.8%) users with no interactions.\n",
      "SLIMElasticNetRecommender: URM Detected 247 ( 1.1%) items with no interactions.\n",
      "SLIMElasticNetRecommender: Processed 8161 (36.5%) in 5.00 min. Items per second: 27.20\n",
      "SLIMElasticNetRecommender: Processed 17098 (76.5%) in 10.00 min. Items per second: 28.49\n",
      "SLIMElasticNetRecommender: Processed 22347 (100.0%) in 13.19 min. Items per second: 28.24\n",
      "EvaluatorHoldout: Processed 10456 (100.0%) in 12.92 sec. Users per second: 809\n"
     ]
    },
    {
     "name": "stderr",
     "output_type": "stream",
     "text": [
      "[I 2023-12-16 19:35:01,060] Trial 224 finished with value: 0.273399593515185 and parameters: {'l1_ratio': 5.092884856825296e-05, 'alpha': 0.009249794174088942, 'topK': 335, 'positive_only': True}. Best is trial 112 with value: 0.2761653571343395.\n"
     ]
    },
    {
     "name": "stdout",
     "output_type": "stream",
     "text": [
      "SLIMElasticNetRecommender: URM Detected 627 ( 4.8%) users with no interactions.\n",
      "SLIMElasticNetRecommender: URM Detected 247 ( 1.1%) items with no interactions.\n",
      "SLIMElasticNetRecommender: Processed 3500 (15.7%) in 5.00 min. Items per second: 11.66\n",
      "SLIMElasticNetRecommender: Processed 7739 (34.6%) in 10.00 min. Items per second: 12.89\n",
      "SLIMElasticNetRecommender: Processed 12317 (55.1%) in 15.00 min. Items per second: 13.68\n",
      "SLIMElasticNetRecommender: Processed 16999 (76.1%) in 20.00 min. Items per second: 14.16\n",
      "SLIMElasticNetRecommender: Processed 21591 (96.6%) in 25.00 min. Items per second: 14.39\n",
      "SLIMElasticNetRecommender: Processed 22347 (100.0%) in 25.79 min. Items per second: 14.44\n",
      "EvaluatorHoldout: Processed 10456 (100.0%) in 11.24 sec. Users per second: 930\n"
     ]
    },
    {
     "name": "stderr",
     "output_type": "stream",
     "text": [
      "[I 2023-12-16 20:01:00,087] Trial 225 finished with value: 0.18131587626290252 and parameters: {'l1_ratio': 7.100871134880028e-05, 'alpha': 7.292635018898039e-05, 'topK': 2060, 'positive_only': True}. Best is trial 112 with value: 0.2761653571343395.\n"
     ]
    },
    {
     "name": "stdout",
     "output_type": "stream",
     "text": [
      "SLIMElasticNetRecommender: URM Detected 627 ( 4.8%) users with no interactions.\n",
      "SLIMElasticNetRecommender: URM Detected 247 ( 1.1%) items with no interactions.\n",
      "SLIMElasticNetRecommender: Processed 7968 (35.7%) in 5.00 min. Items per second: 26.55\n",
      "SLIMElasticNetRecommender: Processed 17048 (76.3%) in 10.00 min. Items per second: 28.41\n",
      "SLIMElasticNetRecommender: Processed 22347 (100.0%) in 13.14 min. Items per second: 28.34\n",
      "EvaluatorHoldout: Processed 10456 (100.0%) in 16.34 sec. Users per second: 640\n"
     ]
    },
    {
     "name": "stderr",
     "output_type": "stream",
     "text": [
      "[I 2023-12-16 20:14:25,488] Trial 226 finished with value: 0.27107356163793556 and parameters: {'l1_ratio': 4.0201101698755154e-05, 'alpha': 0.023850359885356463, 'topK': 1450, 'positive_only': True}. Best is trial 112 with value: 0.2761653571343395.\n"
     ]
    },
    {
     "name": "stdout",
     "output_type": "stream",
     "text": [
      "SLIMElasticNetRecommender: URM Detected 627 ( 4.8%) users with no interactions.\n",
      "SLIMElasticNetRecommender: URM Detected 247 ( 1.1%) items with no interactions.\n",
      "SLIMElasticNetRecommender: Processed 8190 (36.6%) in 5.00 min. Items per second: 27.30\n",
      "SLIMElasticNetRecommender: Processed 17111 (76.6%) in 10.00 min. Items per second: 28.52\n",
      "SLIMElasticNetRecommender: Processed 22347 (100.0%) in 13.18 min. Items per second: 28.26\n",
      "EvaluatorHoldout: Processed 10456 (100.0%) in 14.64 sec. Users per second: 714\n"
     ]
    },
    {
     "name": "stderr",
     "output_type": "stream",
     "text": [
      "[I 2023-12-16 20:27:51,742] Trial 227 finished with value: 0.27349827818815625 and parameters: {'l1_ratio': 0.00012993749731266455, 'alpha': 0.006371916000306763, 'topK': 1693, 'positive_only': True}. Best is trial 112 with value: 0.2761653571343395.\n"
     ]
    },
    {
     "name": "stdout",
     "output_type": "stream",
     "text": [
      "SLIMElasticNetRecommender: URM Detected 627 ( 4.8%) users with no interactions.\n",
      "SLIMElasticNetRecommender: URM Detected 247 ( 1.1%) items with no interactions.\n",
      "SLIMElasticNetRecommender: Processed 8212 (36.7%) in 5.00 min. Items per second: 27.37\n",
      "SLIMElasticNetRecommender: Processed 17402 (77.9%) in 10.00 min. Items per second: 29.00\n",
      "SLIMElasticNetRecommender: Processed 22347 (100.0%) in 12.93 min. Items per second: 28.81\n",
      "EvaluatorHoldout: Processed 10456 (100.0%) in 16.07 sec. Users per second: 650\n"
     ]
    },
    {
     "name": "stderr",
     "output_type": "stream",
     "text": [
      "[I 2023-12-16 20:41:04,283] Trial 228 finished with value: 0.27404306280894675 and parameters: {'l1_ratio': 9.298667372584136e-05, 'alpha': 0.017098400892914596, 'topK': 2162, 'positive_only': True}. Best is trial 112 with value: 0.2761653571343395.\n"
     ]
    },
    {
     "name": "stdout",
     "output_type": "stream",
     "text": [
      "SLIMElasticNetRecommender: URM Detected 627 ( 4.8%) users with no interactions.\n",
      "SLIMElasticNetRecommender: URM Detected 247 ( 1.1%) items with no interactions.\n",
      "SLIMElasticNetRecommender: Processed 8426 (37.7%) in 5.00 min. Items per second: 28.08\n",
      "SLIMElasticNetRecommender: Processed 17598 (78.7%) in 10.00 min. Items per second: 29.33\n",
      "SLIMElasticNetRecommender: Processed 22347 (100.0%) in 12.82 min. Items per second: 29.06\n",
      "EvaluatorHoldout: Processed 10456 (100.0%) in 15.40 sec. Users per second: 679\n"
     ]
    },
    {
     "name": "stderr",
     "output_type": "stream",
     "text": [
      "[I 2023-12-16 20:54:09,255] Trial 229 finished with value: 0.27567116973020495 and parameters: {'l1_ratio': 0.000164879403273003, 'alpha': 0.012990127330229194, 'topK': 1352, 'positive_only': True}. Best is trial 112 with value: 0.2761653571343395.\n"
     ]
    },
    {
     "name": "stdout",
     "output_type": "stream",
     "text": [
      "SLIMElasticNetRecommender: URM Detected 627 ( 4.8%) users with no interactions.\n",
      "SLIMElasticNetRecommender: URM Detected 247 ( 1.1%) items with no interactions.\n",
      "SLIMElasticNetRecommender: Processed 7976 (35.7%) in 5.00 min. Items per second: 26.58\n",
      "SLIMElasticNetRecommender: Processed 16878 (75.5%) in 10.00 min. Items per second: 28.13\n",
      "SLIMElasticNetRecommender: Processed 22347 (100.0%) in 13.30 min. Items per second: 28.01\n",
      "EvaluatorHoldout: Processed 10456 (100.0%) in 14.97 sec. Users per second: 699\n"
     ]
    },
    {
     "name": "stderr",
     "output_type": "stream",
     "text": [
      "[I 2023-12-16 21:07:42,787] Trial 230 finished with value: 0.27547878205627657 and parameters: {'l1_ratio': 6.166043738056936e-05, 'alpha': 0.009040943974047238, 'topK': 1918, 'positive_only': True}. Best is trial 112 with value: 0.2761653571343395.\n"
     ]
    },
    {
     "name": "stdout",
     "output_type": "stream",
     "text": [
      "SLIMElasticNetRecommender: URM Detected 627 ( 4.8%) users with no interactions.\n",
      "SLIMElasticNetRecommender: URM Detected 247 ( 1.1%) items with no interactions.\n",
      "SLIMElasticNetRecommender: Processed 8448 (37.8%) in 5.00 min. Items per second: 28.16\n",
      "SLIMElasticNetRecommender: Processed 17614 (78.8%) in 10.00 min. Items per second: 29.35\n",
      "SLIMElasticNetRecommender: Processed 22347 (100.0%) in 12.83 min. Items per second: 29.04\n",
      "EvaluatorHoldout: Processed 10456 (100.0%) in 15.38 sec. Users per second: 680\n"
     ]
    },
    {
     "name": "stderr",
     "output_type": "stream",
     "text": [
      "[I 2023-12-16 21:20:48,427] Trial 231 finished with value: 0.27609558039209503 and parameters: {'l1_ratio': 0.00016279300201228473, 'alpha': 0.01333781687445552, 'topK': 1276, 'positive_only': True}. Best is trial 112 with value: 0.2761653571343395.\n"
     ]
    },
    {
     "name": "stdout",
     "output_type": "stream",
     "text": [
      "SLIMElasticNetRecommender: URM Detected 627 ( 4.8%) users with no interactions.\n",
      "SLIMElasticNetRecommender: URM Detected 247 ( 1.1%) items with no interactions.\n",
      "SLIMElasticNetRecommender: Processed 8432 (37.7%) in 5.00 min. Items per second: 28.10\n",
      "SLIMElasticNetRecommender: Processed 17625 (78.9%) in 10.00 min. Items per second: 29.37\n",
      "SLIMElasticNetRecommender: Processed 22347 (100.0%) in 12.78 min. Items per second: 29.14\n",
      "EvaluatorHoldout: Processed 10456 (100.0%) in 15.84 sec. Users per second: 660\n"
     ]
    },
    {
     "name": "stderr",
     "output_type": "stream",
     "text": [
      "[I 2023-12-16 21:33:52,009] Trial 232 finished with value: 0.2749845035435648 and parameters: {'l1_ratio': 0.00020862842504463578, 'alpha': 0.01474641349303841, 'topK': 1559, 'positive_only': True}. Best is trial 112 with value: 0.2761653571343395.\n"
     ]
    },
    {
     "name": "stdout",
     "output_type": "stream",
     "text": [
      "SLIMElasticNetRecommender: URM Detected 627 ( 4.8%) users with no interactions.\n",
      "SLIMElasticNetRecommender: URM Detected 247 ( 1.1%) items with no interactions.\n",
      "SLIMElasticNetRecommender: Processed 8483 (38.0%) in 5.00 min. Items per second: 28.27\n",
      "SLIMElasticNetRecommender: Processed 17590 (78.7%) in 10.00 min. Items per second: 29.31\n",
      "SLIMElasticNetRecommender: Processed 22347 (100.0%) in 12.85 min. Items per second: 28.97\n",
      "EvaluatorHoldout: Processed 10456 (100.0%) in 13.84 sec. Users per second: 755\n"
     ]
    },
    {
     "name": "stderr",
     "output_type": "stream",
     "text": [
      "[I 2023-12-16 21:46:57,801] Trial 233 finished with value: 0.27540249600126 and parameters: {'l1_ratio': 0.00011956987447832057, 'alpha': 0.010717909111996396, 'topK': 525, 'positive_only': True}. Best is trial 112 with value: 0.2761653571343395.\n"
     ]
    },
    {
     "name": "stdout",
     "output_type": "stream",
     "text": [
      "SLIMElasticNetRecommender: URM Detected 627 ( 4.8%) users with no interactions.\n",
      "SLIMElasticNetRecommender: URM Detected 247 ( 1.1%) items with no interactions.\n",
      "SLIMElasticNetRecommender: Processed 8441 (37.8%) in 5.00 min. Items per second: 28.13\n",
      "SLIMElasticNetRecommender: Processed 17707 (79.2%) in 10.00 min. Items per second: 29.50\n",
      "SLIMElasticNetRecommender: Processed 22347 (100.0%) in 12.73 min. Items per second: 29.25\n",
      "EvaluatorHoldout: Processed 10456 (100.0%) in 16.35 sec. Users per second: 640\n"
     ]
    },
    {
     "name": "stderr",
     "output_type": "stream",
     "text": [
      "[I 2023-12-16 21:59:59,240] Trial 234 finished with value: 0.2718802018628478 and parameters: {'l1_ratio': 0.00016599334178469207, 'alpha': 0.023022319116403036, 'topK': 1200, 'positive_only': True}. Best is trial 112 with value: 0.2761653571343395.\n"
     ]
    },
    {
     "name": "stdout",
     "output_type": "stream",
     "text": [
      "SLIMElasticNetRecommender: URM Detected 627 ( 4.8%) users with no interactions.\n",
      "SLIMElasticNetRecommender: URM Detected 247 ( 1.1%) items with no interactions.\n",
      "SLIMElasticNetRecommender: Processed 8426 (37.7%) in 5.00 min. Items per second: 28.08\n",
      "SLIMElasticNetRecommender: Processed 17491 (78.3%) in 10.00 min. Items per second: 29.15\n",
      "SLIMElasticNetRecommender: Processed 22347 (100.0%) in 12.94 min. Items per second: 28.77\n",
      "EvaluatorHoldout: Processed 10456 (100.0%) in 9.94 sec. Users per second: 1052\n"
     ]
    },
    {
     "name": "stderr",
     "output_type": "stream",
     "text": [
      "[I 2023-12-16 22:13:06,064] Trial 235 finished with value: 0.26415137276465056 and parameters: {'l1_ratio': 0.000103860916396621, 'alpha': 0.007057513667129258, 'topK': 103, 'positive_only': True}. Best is trial 112 with value: 0.2761653571343395.\n"
     ]
    },
    {
     "name": "stdout",
     "output_type": "stream",
     "text": [
      "SLIMElasticNetRecommender: URM Detected 627 ( 4.8%) users with no interactions.\n",
      "SLIMElasticNetRecommender: URM Detected 247 ( 1.1%) items with no interactions.\n",
      "SLIMElasticNetRecommender: Processed 2959 (13.2%) in 5.00 min. Items per second: 9.86\n",
      "SLIMElasticNetRecommender: Processed 6234 (27.9%) in 10.00 min. Items per second: 10.39\n",
      "SLIMElasticNetRecommender: Processed 9755 (43.7%) in 15.00 min. Items per second: 10.84\n",
      "SLIMElasticNetRecommender: Processed 13449 (60.2%) in 20.00 min. Items per second: 11.20\n",
      "SLIMElasticNetRecommender: Processed 17286 (77.4%) in 25.00 min. Items per second: 11.52\n",
      "SLIMElasticNetRecommender: Processed 21186 (94.8%) in 30.01 min. Items per second: 11.77\n",
      "SLIMElasticNetRecommender: Processed 22347 (100.0%) in 31.48 min. Items per second: 11.83\n",
      "EvaluatorHoldout: Processed 10456 (100.0%) in 11.05 sec. Users per second: 946\n"
     ]
    },
    {
     "name": "stderr",
     "output_type": "stream",
     "text": [
      "[I 2023-12-16 22:44:46,359] Trial 236 finished with value: 0.25583478347523997 and parameters: {'l1_ratio': 8.313144036264713e-05, 'alpha': 0.017438134642809872, 'topK': 19, 'positive_only': False}. Best is trial 112 with value: 0.2761653571343395.\n"
     ]
    },
    {
     "name": "stdout",
     "output_type": "stream",
     "text": [
      "SLIMElasticNetRecommender: URM Detected 627 ( 4.8%) users with no interactions.\n",
      "SLIMElasticNetRecommender: URM Detected 247 ( 1.1%) items with no interactions.\n",
      "SLIMElasticNetRecommender: Processed 8365 (37.4%) in 5.00 min. Items per second: 27.88\n",
      "SLIMElasticNetRecommender: Processed 17502 (78.3%) in 10.00 min. Items per second: 29.17\n",
      "SLIMElasticNetRecommender: Processed 22347 (100.0%) in 12.88 min. Items per second: 28.91\n",
      "EvaluatorHoldout: Processed 10456 (100.0%) in 15.34 sec. Users per second: 682\n"
     ]
    },
    {
     "name": "stderr",
     "output_type": "stream",
     "text": [
      "[I 2023-12-16 22:57:55,744] Trial 237 finished with value: 0.27572056372944437 and parameters: {'l1_ratio': 0.00014094891663473858, 'alpha': 0.01083923138016588, 'topK': 1261, 'positive_only': True}. Best is trial 112 with value: 0.2761653571343395.\n"
     ]
    },
    {
     "name": "stdout",
     "output_type": "stream",
     "text": [
      "SLIMElasticNetRecommender: URM Detected 627 ( 4.8%) users with no interactions.\n",
      "SLIMElasticNetRecommender: URM Detected 247 ( 1.1%) items with no interactions.\n",
      "SLIMElasticNetRecommender: Processed 8444 (37.8%) in 5.00 min. Items per second: 28.14\n",
      "SLIMElasticNetRecommender: Processed 17506 (78.3%) in 10.00 min. Items per second: 29.17\n",
      "SLIMElasticNetRecommender: Processed 22347 (100.0%) in 12.88 min. Items per second: 28.90\n",
      "EvaluatorHoldout: Processed 10456 (100.0%) in 15.28 sec. Users per second: 684\n"
     ]
    },
    {
     "name": "stderr",
     "output_type": "stream",
     "text": [
      "[I 2023-12-16 23:11:05,130] Trial 238 finished with value: 0.2755801176610853 and parameters: {'l1_ratio': 0.0002000132787557398, 'alpha': 0.009404330089710394, 'topK': 1286, 'positive_only': True}. Best is trial 112 with value: 0.2761653571343395.\n"
     ]
    },
    {
     "name": "stdout",
     "output_type": "stream",
     "text": [
      "SLIMElasticNetRecommender: URM Detected 627 ( 4.8%) users with no interactions.\n",
      "SLIMElasticNetRecommender: URM Detected 247 ( 1.1%) items with no interactions.\n",
      "SLIMElasticNetRecommender: Processed 8357 (37.4%) in 5.00 min. Items per second: 27.85\n",
      "SLIMElasticNetRecommender: Processed 17634 (78.9%) in 10.00 min. Items per second: 29.39\n",
      "SLIMElasticNetRecommender: Processed 22347 (100.0%) in 12.76 min. Items per second: 29.19\n",
      "EvaluatorHoldout: Processed 10456 (100.0%) in 16.69 sec. Users per second: 627\n"
     ]
    },
    {
     "name": "stderr",
     "output_type": "stream",
     "text": [
      "[I 2023-12-16 23:24:08,220] Trial 239 finished with value: 0.2656869012912718 and parameters: {'l1_ratio': 0.00015252301035301825, 'alpha': 0.034007234616996125, 'topK': 1079, 'positive_only': True}. Best is trial 112 with value: 0.2761653571343395.\n"
     ]
    }
   ],
   "source": [
    "if config['tune_parameters']:\n",
    "    study = optuna.create_study(direction='maximize', study_name='hyperparameters_tuning_slim',\n",
    "                                storage=f'sqlite:///{config[\"database_path\"]}', load_if_exists=True)\n",
    "    study.optimize(objective_function_slim, n_trials=30)"
   ]
  },
  {
   "cell_type": "code",
   "execution_count": 16,
   "id": "49946c38",
   "metadata": {
    "execution": {
     "iopub.execute_input": "2023-12-16T23:24:08.318666Z",
     "iopub.status.busy": "2023-12-16T23:24:08.316703Z",
     "iopub.status.idle": "2023-12-16T23:24:09.401732Z",
     "shell.execute_reply": "2023-12-16T23:24:09.400640Z"
    },
    "papermill": {
     "duration": 1.129107,
     "end_time": "2023-12-16T23:24:09.404085",
     "exception": false,
     "start_time": "2023-12-16T23:24:08.274978",
     "status": "completed"
    },
    "tags": []
   },
   "outputs": [
    {
     "data": {
      "text/html": [
       "        <script type=\"text/javascript\">\n",
       "        window.PlotlyConfig = {MathJaxConfig: 'local'};\n",
       "        if (window.MathJax && window.MathJax.Hub && window.MathJax.Hub.Config) {window.MathJax.Hub.Config({SVG: {font: \"STIX-Web\"}});}\n",
       "        if (typeof require !== 'undefined') {\n",
       "        require.undef(\"plotly\");\n",
       "        requirejs.config({\n",
       "            paths: {\n",
       "                'plotly': ['https://cdn.plot.ly/plotly-2.25.2.min']\n",
       "            }\n",
       "        });\n",
       "        require(['plotly'], function(Plotly) {\n",
       "            window._Plotly = Plotly;\n",
       "        });\n",
       "        }\n",
       "        </script>\n",
       "        "
      ]
     },
     "metadata": {},
     "output_type": "display_data"
    },
    {
     "data": {
      "text/html": [
       "<div>                            <div id=\"0088021d-fc7a-483d-8446-80ca410ebc23\" class=\"plotly-graph-div\" style=\"height:525px; width:100%;\"></div>            <script type=\"text/javascript\">                require([\"plotly\"], function(Plotly) {                    window.PLOTLYENV=window.PLOTLYENV || {};                                    if (document.getElementById(\"0088021d-fc7a-483d-8446-80ca410ebc23\")) {                    Plotly.newPlot(                        \"0088021d-fc7a-483d-8446-80ca410ebc23\",                        [{\"mode\":\"markers\",\"name\":\"Objective Value\",\"x\":[0,1,2,3,4,5,6,7,8,9,10,11,12,13,14,15,16,17,18,19,20,21,22,23,24,25,26,27,28,29,30,31,32,33,34,35,36,37,38,39,40,41,42,43,44,45,46,47,48,49,50,51,52,53,54,55,56,57,58,59,60,61,62,63,64,65,66,67,68,69,70,71,72,73,74,75,76,77,78,79,80,81,82,83,84,85,86,87,88,89,90,91,92,93,94,95,96,97,98,99,100,101,102,103,104,105,106,107,108,109,110,111,112,113,114,115,116,117,118,119,120,121,122,123,124,125,126,127,128,129,130,131,132,133,134,135,136,137,138,139,140,141,142,143,144,145,146,147,148,149,150,151,152,153,154,155,156,157,158,159,160,161,162,163,164,165,166,167,168,169,170,171,172,173,174,175,176,177,178,179,180,181,182,183,184,185,186,187,188,189,190,191,192,193,194,195,196,197,198,199,200,201,202,203,204,205,206,207,208,209,210,211,212,213,214,215,216,217,218,219,220,221,222,223,224,225,226,227,228,229,230,231,232,233,234,235,236,237,238,239],\"y\":[0.03571855893350653,0.1654434059866675,0.0004208241038231959,0.11441030635756379,0.25183979737725154,0.0004208241038231959,0.18702779842039804,0.25257737955094645,0.1996927474773726,0.21644355957488406,0.27049337401756574,0.270421085980335,0.25977419967604837,0.2617852419339299,0.20440801657373134,0.2753527912670634,0.2728831303516246,0.2728726732900915,0.2030572091768205,0.25925993307724776,0.2724425066600252,0.2732749363458512,0.2743253348288816,0.16878286510755572,0.23396142001398118,0.2747261015774216,0.23482811279641325,0.2747536740435653,0.23170947059331007,0.15429962292287402,0.25887367287809926,0.274104871148013,0.11951120022302045,0.27130095485295536,0.25619002456188805,0.2564884650687014,0.26605818213780663,0.2171736999098067,0.27448302119340645,0.23711718139235294,0.24327086943323337,0.2727245764547736,0.26789504692632754,0.2648042114659666,0.2753937199590002,0.2661596614125229,0.22074623081434847,0.26497398052562154,0.2444649559021567,0.2754165026390628,0.2690971815239174,0.2754010230254369,0.2740261828972239,0.25051029794222446,0.27311435937055323,0.2700676923550244,0.2756398371255489,0.261568442006202,0.2713916825647627,0.27553947772225595,0.24780035773993242,0.27519530356440874,0.27507173930357803,0.27171939067002077,0.2525403477702507,0.2611237088776627,0.2740799141016858,0.2657856433063641,0.27406247973084835,0.25804118195853964,0.2758570770875929,0.27518947692563,0.2755870147247253,0.2721951128502065,0.2748469839933922,0.27163305211032346,0.25586648018493047,0.26437922622232796,0.2570154932244903,0.2753142603193409,0.25527193132333037,0.2752229403590137,0.2732331095072566,0.27444448853757153,0.2689361026529791,0.27546018361283353,0.2742675285955698,0.26958665871437587,0.272745670312676,0.27563111877891633,0.27515919542303874,0.2685704378605663,0.272383651388317,0.2758575550223351,0.2738329901406071,0.26357498897469667,0.2743634704046338,0.2703828543758351,0.2623715880834047,0.2705086513419706,0.27332885714157856,0.2745911736625377,0.2754202948537969,0.2754821179308886,0.27067421343672043,0.2609832340575094,0.2737692844129202,0.2757596594646152,0.2670430583240422,0.274162957644813,0.2755764089174471,0.27558899847354307,0.2761653571343395,0.27171490502898726,0.2754479977966109,0.2745574515504217,0.2653140563389379,0.2756264968509779,0.25371649604186886,0.2584645625961547,0.2541369144298193,0.2756167938662184,0.2741353414908636,0.27568445770452743,0.2678676477857052,0.2752460485116356,0.2758958939712316,0.2750100460187329,0.26968817236389137,0.2714881249365153,0.27224443133309945,0.27553495080761037,0.2752267718646466,0.27499781292619196,0.2642179737965018,0.2738838994942113,0.27575390079868534,0.27611960956026815,0.2725070557767852,0.2573955827845486,0.267855359572019,0.2757333414018407,0.2758461994895593,0.2749804405129783,0.27414442453114574,0.27588518196542217,0.2751538411828332,0.2715234279341014,0.2701855338985229,0.275579131233436,0.264886761353149,0.2758374957898714,0.2747051414323189,0.2731925620749127,0.2752258014683577,0.27574439938729495,0.2747788429750811,0.27319943951496467,0.2667383892319807,0.2752598202037124,0.2733629446883761,0.2753838671592148,0.2757198655000756,0.272578164581731,0.2752177669052978,0.2743379676814186,0.2713941169869145,0.2695219319372171,0.2559294536035212,0.2737656445459067,0.27486223463962633,0.27533497588681843,0.27591611859961584,0.2735012784327005,0.27564113675815477,0.2747968666663873,0.27171319053189386,0.27447687959120454,0.2754703290073304,0.26668592186435647,0.2610038054937348,0.27589083443292994,0.27600378564895095,0.27223550991974604,0.2759651535229618,0.2757723963844525,0.2746244272671376,0.2749651742871331,0.2698686647990896,0.27534294279250565,0.2732586846204732,0.27578103534493514,0.27266473879351033,0.2756702465991658,0.27332359875687806,0.2730093373342931,0.275620933040087,0.16686174809275442,0.270249995390426,0.2565212710973238,0.27256337662786717,0.2755709937263469,0.27547445679930815,0.27517452121521463,0.27573263353943045,0.27464486127847565,0.2741286796084413,0.2695419236941427,0.2741708316874167,0.2751836553836632,0.27201458088762376,0.27543027074374454,0.27577372935666367,0.27481344884015596,0.27408193051759805,0.2752327707120977,0.2676040014855707,0.27500901584130544,0.2735961145388535,0.27393939888379154,0.2754518619206572,0.27531239367789534,0.2756821230019645,0.2749691896267143,0.273399593515185,0.18131587626290252,0.27107356163793556,0.27349827818815625,0.27404306280894675,0.27567116973020495,0.27547878205627657,0.27609558039209503,0.2749845035435648,0.27540249600126,0.2718802018628478,0.26415137276465056,0.25583478347523997,0.27572056372944437,0.2755801176610853,0.2656869012912718],\"type\":\"scatter\"},{\"mode\":\"lines\",\"name\":\"Best Value\",\"x\":[0,1,2,3,4,5,6,7,8,9,10,11,12,13,14,15,16,17,18,19,20,21,22,23,24,25,26,27,28,29,30,31,32,33,34,35,36,37,38,39,40,41,42,43,44,45,46,47,48,49,50,51,52,53,54,55,56,57,58,59,60,61,62,63,64,65,66,67,68,69,70,71,72,73,74,75,76,77,78,79,80,81,82,83,84,85,86,87,88,89,90,91,92,93,94,95,96,97,98,99,100,101,102,103,104,105,106,107,108,109,110,111,112,113,114,115,116,117,118,119,120,121,122,123,124,125,126,127,128,129,130,131,132,133,134,135,136,137,138,139,140,141,142,143,144,145,146,147,148,149,150,151,152,153,154,155,156,157,158,159,160,161,162,163,164,165,166,167,168,169,170,171,172,173,174,175,176,177,178,179,180,181,182,183,184,185,186,187,188,189,190,191,192,193,194,195,196,197,198,199,200,201,202,203,204,205,206,207,208,209,210,211,212,213,214,215,216,217,218,219,220,221,222,223,224,225,226,227,228,229,230,231,232,233,234,235,236,237,238,239],\"y\":[0.03571855893350653,0.1654434059866675,0.1654434059866675,0.1654434059866675,0.25183979737725154,0.25183979737725154,0.25183979737725154,0.25257737955094645,0.25257737955094645,0.25257737955094645,0.27049337401756574,0.27049337401756574,0.27049337401756574,0.27049337401756574,0.27049337401756574,0.2753527912670634,0.2753527912670634,0.2753527912670634,0.2753527912670634,0.2753527912670634,0.2753527912670634,0.2753527912670634,0.2753527912670634,0.2753527912670634,0.2753527912670634,0.2753527912670634,0.2753527912670634,0.2753527912670634,0.2753527912670634,0.2753527912670634,0.2753527912670634,0.2753527912670634,0.2753527912670634,0.2753527912670634,0.2753527912670634,0.2753527912670634,0.2753527912670634,0.2753527912670634,0.2753527912670634,0.2753527912670634,0.2753527912670634,0.2753527912670634,0.2753527912670634,0.2753527912670634,0.2753937199590002,0.2753937199590002,0.2753937199590002,0.2753937199590002,0.2753937199590002,0.2754165026390628,0.2754165026390628,0.2754165026390628,0.2754165026390628,0.2754165026390628,0.2754165026390628,0.2754165026390628,0.2756398371255489,0.2756398371255489,0.2756398371255489,0.2756398371255489,0.2756398371255489,0.2756398371255489,0.2756398371255489,0.2756398371255489,0.2756398371255489,0.2756398371255489,0.2756398371255489,0.2756398371255489,0.2756398371255489,0.2756398371255489,0.2758570770875929,0.2758570770875929,0.2758570770875929,0.2758570770875929,0.2758570770875929,0.2758570770875929,0.2758570770875929,0.2758570770875929,0.2758570770875929,0.2758570770875929,0.2758570770875929,0.2758570770875929,0.2758570770875929,0.2758570770875929,0.2758570770875929,0.2758570770875929,0.2758570770875929,0.2758570770875929,0.2758570770875929,0.2758570770875929,0.2758570770875929,0.2758570770875929,0.2758570770875929,0.2758575550223351,0.2758575550223351,0.2758575550223351,0.2758575550223351,0.2758575550223351,0.2758575550223351,0.2758575550223351,0.2758575550223351,0.2758575550223351,0.2758575550223351,0.2758575550223351,0.2758575550223351,0.2758575550223351,0.2758575550223351,0.2758575550223351,0.2758575550223351,0.2758575550223351,0.2758575550223351,0.2758575550223351,0.2761653571343395,0.2761653571343395,0.2761653571343395,0.2761653571343395,0.2761653571343395,0.2761653571343395,0.2761653571343395,0.2761653571343395,0.2761653571343395,0.2761653571343395,0.2761653571343395,0.2761653571343395,0.2761653571343395,0.2761653571343395,0.2761653571343395,0.2761653571343395,0.2761653571343395,0.2761653571343395,0.2761653571343395,0.2761653571343395,0.2761653571343395,0.2761653571343395,0.2761653571343395,0.2761653571343395,0.2761653571343395,0.2761653571343395,0.2761653571343395,0.2761653571343395,0.2761653571343395,0.2761653571343395,0.2761653571343395,0.2761653571343395,0.2761653571343395,0.2761653571343395,0.2761653571343395,0.2761653571343395,0.2761653571343395,0.2761653571343395,0.2761653571343395,0.2761653571343395,0.2761653571343395,0.2761653571343395,0.2761653571343395,0.2761653571343395,0.2761653571343395,0.2761653571343395,0.2761653571343395,0.2761653571343395,0.2761653571343395,0.2761653571343395,0.2761653571343395,0.2761653571343395,0.2761653571343395,0.2761653571343395,0.2761653571343395,0.2761653571343395,0.2761653571343395,0.2761653571343395,0.2761653571343395,0.2761653571343395,0.2761653571343395,0.2761653571343395,0.2761653571343395,0.2761653571343395,0.2761653571343395,0.2761653571343395,0.2761653571343395,0.2761653571343395,0.2761653571343395,0.2761653571343395,0.2761653571343395,0.2761653571343395,0.2761653571343395,0.2761653571343395,0.2761653571343395,0.2761653571343395,0.2761653571343395,0.2761653571343395,0.2761653571343395,0.2761653571343395,0.2761653571343395,0.2761653571343395,0.2761653571343395,0.2761653571343395,0.2761653571343395,0.2761653571343395,0.2761653571343395,0.2761653571343395,0.2761653571343395,0.2761653571343395,0.2761653571343395,0.2761653571343395,0.2761653571343395,0.2761653571343395,0.2761653571343395,0.2761653571343395,0.2761653571343395,0.2761653571343395,0.2761653571343395,0.2761653571343395,0.2761653571343395,0.2761653571343395,0.2761653571343395,0.2761653571343395,0.2761653571343395,0.2761653571343395,0.2761653571343395,0.2761653571343395,0.2761653571343395,0.2761653571343395,0.2761653571343395,0.2761653571343395,0.2761653571343395,0.2761653571343395,0.2761653571343395,0.2761653571343395,0.2761653571343395,0.2761653571343395,0.2761653571343395,0.2761653571343395,0.2761653571343395,0.2761653571343395,0.2761653571343395,0.2761653571343395,0.2761653571343395,0.2761653571343395,0.2761653571343395,0.2761653571343395],\"type\":\"scatter\"},{\"marker\":{\"color\":\"#cccccc\"},\"mode\":\"markers\",\"name\":\"Infeasible Trial\",\"showlegend\":false,\"x\":[],\"y\":[],\"type\":\"scatter\"}],                        {\"title\":{\"text\":\"Optimization History Plot\"},\"xaxis\":{\"title\":{\"text\":\"Trial\"}},\"yaxis\":{\"title\":{\"text\":\"Objective Value\"}},\"template\":{\"data\":{\"histogram2dcontour\":[{\"type\":\"histogram2dcontour\",\"colorbar\":{\"outlinewidth\":0,\"ticks\":\"\"},\"colorscale\":[[0.0,\"#0d0887\"],[0.1111111111111111,\"#46039f\"],[0.2222222222222222,\"#7201a8\"],[0.3333333333333333,\"#9c179e\"],[0.4444444444444444,\"#bd3786\"],[0.5555555555555556,\"#d8576b\"],[0.6666666666666666,\"#ed7953\"],[0.7777777777777778,\"#fb9f3a\"],[0.8888888888888888,\"#fdca26\"],[1.0,\"#f0f921\"]]}],\"choropleth\":[{\"type\":\"choropleth\",\"colorbar\":{\"outlinewidth\":0,\"ticks\":\"\"}}],\"histogram2d\":[{\"type\":\"histogram2d\",\"colorbar\":{\"outlinewidth\":0,\"ticks\":\"\"},\"colorscale\":[[0.0,\"#0d0887\"],[0.1111111111111111,\"#46039f\"],[0.2222222222222222,\"#7201a8\"],[0.3333333333333333,\"#9c179e\"],[0.4444444444444444,\"#bd3786\"],[0.5555555555555556,\"#d8576b\"],[0.6666666666666666,\"#ed7953\"],[0.7777777777777778,\"#fb9f3a\"],[0.8888888888888888,\"#fdca26\"],[1.0,\"#f0f921\"]]}],\"heatmap\":[{\"type\":\"heatmap\",\"colorbar\":{\"outlinewidth\":0,\"ticks\":\"\"},\"colorscale\":[[0.0,\"#0d0887\"],[0.1111111111111111,\"#46039f\"],[0.2222222222222222,\"#7201a8\"],[0.3333333333333333,\"#9c179e\"],[0.4444444444444444,\"#bd3786\"],[0.5555555555555556,\"#d8576b\"],[0.6666666666666666,\"#ed7953\"],[0.7777777777777778,\"#fb9f3a\"],[0.8888888888888888,\"#fdca26\"],[1.0,\"#f0f921\"]]}],\"heatmapgl\":[{\"type\":\"heatmapgl\",\"colorbar\":{\"outlinewidth\":0,\"ticks\":\"\"},\"colorscale\":[[0.0,\"#0d0887\"],[0.1111111111111111,\"#46039f\"],[0.2222222222222222,\"#7201a8\"],[0.3333333333333333,\"#9c179e\"],[0.4444444444444444,\"#bd3786\"],[0.5555555555555556,\"#d8576b\"],[0.6666666666666666,\"#ed7953\"],[0.7777777777777778,\"#fb9f3a\"],[0.8888888888888888,\"#fdca26\"],[1.0,\"#f0f921\"]]}],\"contourcarpet\":[{\"type\":\"contourcarpet\",\"colorbar\":{\"outlinewidth\":0,\"ticks\":\"\"}}],\"contour\":[{\"type\":\"contour\",\"colorbar\":{\"outlinewidth\":0,\"ticks\":\"\"},\"colorscale\":[[0.0,\"#0d0887\"],[0.1111111111111111,\"#46039f\"],[0.2222222222222222,\"#7201a8\"],[0.3333333333333333,\"#9c179e\"],[0.4444444444444444,\"#bd3786\"],[0.5555555555555556,\"#d8576b\"],[0.6666666666666666,\"#ed7953\"],[0.7777777777777778,\"#fb9f3a\"],[0.8888888888888888,\"#fdca26\"],[1.0,\"#f0f921\"]]}],\"surface\":[{\"type\":\"surface\",\"colorbar\":{\"outlinewidth\":0,\"ticks\":\"\"},\"colorscale\":[[0.0,\"#0d0887\"],[0.1111111111111111,\"#46039f\"],[0.2222222222222222,\"#7201a8\"],[0.3333333333333333,\"#9c179e\"],[0.4444444444444444,\"#bd3786\"],[0.5555555555555556,\"#d8576b\"],[0.6666666666666666,\"#ed7953\"],[0.7777777777777778,\"#fb9f3a\"],[0.8888888888888888,\"#fdca26\"],[1.0,\"#f0f921\"]]}],\"mesh3d\":[{\"type\":\"mesh3d\",\"colorbar\":{\"outlinewidth\":0,\"ticks\":\"\"}}],\"scatter\":[{\"fillpattern\":{\"fillmode\":\"overlay\",\"size\":10,\"solidity\":0.2},\"type\":\"scatter\"}],\"parcoords\":[{\"type\":\"parcoords\",\"line\":{\"colorbar\":{\"outlinewidth\":0,\"ticks\":\"\"}}}],\"scatterpolargl\":[{\"type\":\"scatterpolargl\",\"marker\":{\"colorbar\":{\"outlinewidth\":0,\"ticks\":\"\"}}}],\"bar\":[{\"error_x\":{\"color\":\"#2a3f5f\"},\"error_y\":{\"color\":\"#2a3f5f\"},\"marker\":{\"line\":{\"color\":\"#E5ECF6\",\"width\":0.5},\"pattern\":{\"fillmode\":\"overlay\",\"size\":10,\"solidity\":0.2}},\"type\":\"bar\"}],\"scattergeo\":[{\"type\":\"scattergeo\",\"marker\":{\"colorbar\":{\"outlinewidth\":0,\"ticks\":\"\"}}}],\"scatterpolar\":[{\"type\":\"scatterpolar\",\"marker\":{\"colorbar\":{\"outlinewidth\":0,\"ticks\":\"\"}}}],\"histogram\":[{\"marker\":{\"pattern\":{\"fillmode\":\"overlay\",\"size\":10,\"solidity\":0.2}},\"type\":\"histogram\"}],\"scattergl\":[{\"type\":\"scattergl\",\"marker\":{\"colorbar\":{\"outlinewidth\":0,\"ticks\":\"\"}}}],\"scatter3d\":[{\"type\":\"scatter3d\",\"line\":{\"colorbar\":{\"outlinewidth\":0,\"ticks\":\"\"}},\"marker\":{\"colorbar\":{\"outlinewidth\":0,\"ticks\":\"\"}}}],\"scattermapbox\":[{\"type\":\"scattermapbox\",\"marker\":{\"colorbar\":{\"outlinewidth\":0,\"ticks\":\"\"}}}],\"scatterternary\":[{\"type\":\"scatterternary\",\"marker\":{\"colorbar\":{\"outlinewidth\":0,\"ticks\":\"\"}}}],\"scattercarpet\":[{\"type\":\"scattercarpet\",\"marker\":{\"colorbar\":{\"outlinewidth\":0,\"ticks\":\"\"}}}],\"carpet\":[{\"aaxis\":{\"endlinecolor\":\"#2a3f5f\",\"gridcolor\":\"white\",\"linecolor\":\"white\",\"minorgridcolor\":\"white\",\"startlinecolor\":\"#2a3f5f\"},\"baxis\":{\"endlinecolor\":\"#2a3f5f\",\"gridcolor\":\"white\",\"linecolor\":\"white\",\"minorgridcolor\":\"white\",\"startlinecolor\":\"#2a3f5f\"},\"type\":\"carpet\"}],\"table\":[{\"cells\":{\"fill\":{\"color\":\"#EBF0F8\"},\"line\":{\"color\":\"white\"}},\"header\":{\"fill\":{\"color\":\"#C8D4E3\"},\"line\":{\"color\":\"white\"}},\"type\":\"table\"}],\"barpolar\":[{\"marker\":{\"line\":{\"color\":\"#E5ECF6\",\"width\":0.5},\"pattern\":{\"fillmode\":\"overlay\",\"size\":10,\"solidity\":0.2}},\"type\":\"barpolar\"}],\"pie\":[{\"automargin\":true,\"type\":\"pie\"}]},\"layout\":{\"autotypenumbers\":\"strict\",\"colorway\":[\"#636efa\",\"#EF553B\",\"#00cc96\",\"#ab63fa\",\"#FFA15A\",\"#19d3f3\",\"#FF6692\",\"#B6E880\",\"#FF97FF\",\"#FECB52\"],\"font\":{\"color\":\"#2a3f5f\"},\"hovermode\":\"closest\",\"hoverlabel\":{\"align\":\"left\"},\"paper_bgcolor\":\"white\",\"plot_bgcolor\":\"#E5ECF6\",\"polar\":{\"bgcolor\":\"#E5ECF6\",\"angularaxis\":{\"gridcolor\":\"white\",\"linecolor\":\"white\",\"ticks\":\"\"},\"radialaxis\":{\"gridcolor\":\"white\",\"linecolor\":\"white\",\"ticks\":\"\"}},\"ternary\":{\"bgcolor\":\"#E5ECF6\",\"aaxis\":{\"gridcolor\":\"white\",\"linecolor\":\"white\",\"ticks\":\"\"},\"baxis\":{\"gridcolor\":\"white\",\"linecolor\":\"white\",\"ticks\":\"\"},\"caxis\":{\"gridcolor\":\"white\",\"linecolor\":\"white\",\"ticks\":\"\"}},\"coloraxis\":{\"colorbar\":{\"outlinewidth\":0,\"ticks\":\"\"}},\"colorscale\":{\"sequential\":[[0.0,\"#0d0887\"],[0.1111111111111111,\"#46039f\"],[0.2222222222222222,\"#7201a8\"],[0.3333333333333333,\"#9c179e\"],[0.4444444444444444,\"#bd3786\"],[0.5555555555555556,\"#d8576b\"],[0.6666666666666666,\"#ed7953\"],[0.7777777777777778,\"#fb9f3a\"],[0.8888888888888888,\"#fdca26\"],[1.0,\"#f0f921\"]],\"sequentialminus\":[[0.0,\"#0d0887\"],[0.1111111111111111,\"#46039f\"],[0.2222222222222222,\"#7201a8\"],[0.3333333333333333,\"#9c179e\"],[0.4444444444444444,\"#bd3786\"],[0.5555555555555556,\"#d8576b\"],[0.6666666666666666,\"#ed7953\"],[0.7777777777777778,\"#fb9f3a\"],[0.8888888888888888,\"#fdca26\"],[1.0,\"#f0f921\"]],\"diverging\":[[0,\"#8e0152\"],[0.1,\"#c51b7d\"],[0.2,\"#de77ae\"],[0.3,\"#f1b6da\"],[0.4,\"#fde0ef\"],[0.5,\"#f7f7f7\"],[0.6,\"#e6f5d0\"],[0.7,\"#b8e186\"],[0.8,\"#7fbc41\"],[0.9,\"#4d9221\"],[1,\"#276419\"]]},\"xaxis\":{\"gridcolor\":\"white\",\"linecolor\":\"white\",\"ticks\":\"\",\"title\":{\"standoff\":15},\"zerolinecolor\":\"white\",\"automargin\":true,\"zerolinewidth\":2},\"yaxis\":{\"gridcolor\":\"white\",\"linecolor\":\"white\",\"ticks\":\"\",\"title\":{\"standoff\":15},\"zerolinecolor\":\"white\",\"automargin\":true,\"zerolinewidth\":2},\"scene\":{\"xaxis\":{\"backgroundcolor\":\"#E5ECF6\",\"gridcolor\":\"white\",\"linecolor\":\"white\",\"showbackground\":true,\"ticks\":\"\",\"zerolinecolor\":\"white\",\"gridwidth\":2},\"yaxis\":{\"backgroundcolor\":\"#E5ECF6\",\"gridcolor\":\"white\",\"linecolor\":\"white\",\"showbackground\":true,\"ticks\":\"\",\"zerolinecolor\":\"white\",\"gridwidth\":2},\"zaxis\":{\"backgroundcolor\":\"#E5ECF6\",\"gridcolor\":\"white\",\"linecolor\":\"white\",\"showbackground\":true,\"ticks\":\"\",\"zerolinecolor\":\"white\",\"gridwidth\":2}},\"shapedefaults\":{\"line\":{\"color\":\"#2a3f5f\"}},\"annotationdefaults\":{\"arrowcolor\":\"#2a3f5f\",\"arrowhead\":0,\"arrowwidth\":1},\"geo\":{\"bgcolor\":\"white\",\"landcolor\":\"#E5ECF6\",\"subunitcolor\":\"white\",\"showland\":true,\"showlakes\":true,\"lakecolor\":\"white\"},\"title\":{\"x\":0.05},\"mapbox\":{\"style\":\"light\"}}}},                        {\"responsive\": true}                    ).then(function(){\n",
       "                            \n",
       "var gd = document.getElementById('0088021d-fc7a-483d-8446-80ca410ebc23');\n",
       "var x = new MutationObserver(function (mutations, observer) {{\n",
       "        var display = window.getComputedStyle(gd).display;\n",
       "        if (!display || display === 'none') {{\n",
       "            console.log([gd, 'removed!']);\n",
       "            Plotly.purge(gd);\n",
       "            observer.disconnect();\n",
       "        }}\n",
       "}});\n",
       "\n",
       "// Listen for the removal of the full notebook cells\n",
       "var notebookContainer = gd.closest('#notebook-container');\n",
       "if (notebookContainer) {{\n",
       "    x.observe(notebookContainer, {childList: true});\n",
       "}}\n",
       "\n",
       "// Listen for the clearing of the current output cell\n",
       "var outputEl = gd.closest('.output');\n",
       "if (outputEl) {{\n",
       "    x.observe(outputEl, {childList: true});\n",
       "}}\n",
       "\n",
       "                        })                };                });            </script>        </div>"
      ]
     },
     "metadata": {},
     "output_type": "display_data"
    }
   ],
   "source": [
    "if config['tune_parameters']:\n",
    "    fig = optuna.visualization.plot_optimization_history(study)\n",
    "    fig.show()"
   ]
  },
  {
   "cell_type": "code",
   "execution_count": 17,
   "id": "8a7271bb",
   "metadata": {
    "execution": {
     "iopub.execute_input": "2023-12-16T23:24:09.483376Z",
     "iopub.status.busy": "2023-12-16T23:24:09.482249Z",
     "iopub.status.idle": "2023-12-16T23:24:14.465744Z",
     "shell.execute_reply": "2023-12-16T23:24:14.464699Z"
    },
    "papermill": {
     "duration": 5.02472,
     "end_time": "2023-12-16T23:24:14.468073",
     "exception": false,
     "start_time": "2023-12-16T23:24:09.443353",
     "status": "completed"
    },
    "tags": []
   },
   "outputs": [
    {
     "data": {
      "text/html": [
       "<div>                            <div id=\"1509b69a-b2da-423c-b49b-1134a296b2de\" class=\"plotly-graph-div\" style=\"height:525px; width:100%;\"></div>            <script type=\"text/javascript\">                require([\"plotly\"], function(Plotly) {                    window.PLOTLYENV=window.PLOTLYENV || {};                                    if (document.getElementById(\"1509b69a-b2da-423c-b49b-1134a296b2de\")) {                    Plotly.newPlot(                        \"1509b69a-b2da-423c-b49b-1134a296b2de\",                        [{\"cliponaxis\":false,\"hovertemplate\":[\"l1_ratio (FloatDistribution): 0.3018645244086903\\u003cextra\\u003e\\u003c\\u002fextra\\u003e\",\"positive_only (CategoricalDistribution): 0.34622042510373324\\u003cextra\\u003e\\u003c\\u002fextra\\u003e\",\"alpha (FloatDistribution): 0.35191505048757643\\u003cextra\\u003e\\u003c\\u002fextra\\u003e\"],\"name\":\"Objective Value\",\"orientation\":\"h\",\"text\":[\"0.30\",\"0.35\",\"0.35\"],\"textposition\":\"outside\",\"x\":[0.3018645244086903,0.34622042510373324,0.35191505048757643],\"y\":[\"l1_ratio\",\"positive_only\",\"alpha\"],\"type\":\"bar\"}],                        {\"title\":{\"text\":\"Hyperparameter Importances\"},\"xaxis\":{\"title\":{\"text\":\"Hyperparameter Importance\"}},\"yaxis\":{\"title\":{\"text\":\"Hyperparameter\"}},\"template\":{\"data\":{\"histogram2dcontour\":[{\"type\":\"histogram2dcontour\",\"colorbar\":{\"outlinewidth\":0,\"ticks\":\"\"},\"colorscale\":[[0.0,\"#0d0887\"],[0.1111111111111111,\"#46039f\"],[0.2222222222222222,\"#7201a8\"],[0.3333333333333333,\"#9c179e\"],[0.4444444444444444,\"#bd3786\"],[0.5555555555555556,\"#d8576b\"],[0.6666666666666666,\"#ed7953\"],[0.7777777777777778,\"#fb9f3a\"],[0.8888888888888888,\"#fdca26\"],[1.0,\"#f0f921\"]]}],\"choropleth\":[{\"type\":\"choropleth\",\"colorbar\":{\"outlinewidth\":0,\"ticks\":\"\"}}],\"histogram2d\":[{\"type\":\"histogram2d\",\"colorbar\":{\"outlinewidth\":0,\"ticks\":\"\"},\"colorscale\":[[0.0,\"#0d0887\"],[0.1111111111111111,\"#46039f\"],[0.2222222222222222,\"#7201a8\"],[0.3333333333333333,\"#9c179e\"],[0.4444444444444444,\"#bd3786\"],[0.5555555555555556,\"#d8576b\"],[0.6666666666666666,\"#ed7953\"],[0.7777777777777778,\"#fb9f3a\"],[0.8888888888888888,\"#fdca26\"],[1.0,\"#f0f921\"]]}],\"heatmap\":[{\"type\":\"heatmap\",\"colorbar\":{\"outlinewidth\":0,\"ticks\":\"\"},\"colorscale\":[[0.0,\"#0d0887\"],[0.1111111111111111,\"#46039f\"],[0.2222222222222222,\"#7201a8\"],[0.3333333333333333,\"#9c179e\"],[0.4444444444444444,\"#bd3786\"],[0.5555555555555556,\"#d8576b\"],[0.6666666666666666,\"#ed7953\"],[0.7777777777777778,\"#fb9f3a\"],[0.8888888888888888,\"#fdca26\"],[1.0,\"#f0f921\"]]}],\"heatmapgl\":[{\"type\":\"heatmapgl\",\"colorbar\":{\"outlinewidth\":0,\"ticks\":\"\"},\"colorscale\":[[0.0,\"#0d0887\"],[0.1111111111111111,\"#46039f\"],[0.2222222222222222,\"#7201a8\"],[0.3333333333333333,\"#9c179e\"],[0.4444444444444444,\"#bd3786\"],[0.5555555555555556,\"#d8576b\"],[0.6666666666666666,\"#ed7953\"],[0.7777777777777778,\"#fb9f3a\"],[0.8888888888888888,\"#fdca26\"],[1.0,\"#f0f921\"]]}],\"contourcarpet\":[{\"type\":\"contourcarpet\",\"colorbar\":{\"outlinewidth\":0,\"ticks\":\"\"}}],\"contour\":[{\"type\":\"contour\",\"colorbar\":{\"outlinewidth\":0,\"ticks\":\"\"},\"colorscale\":[[0.0,\"#0d0887\"],[0.1111111111111111,\"#46039f\"],[0.2222222222222222,\"#7201a8\"],[0.3333333333333333,\"#9c179e\"],[0.4444444444444444,\"#bd3786\"],[0.5555555555555556,\"#d8576b\"],[0.6666666666666666,\"#ed7953\"],[0.7777777777777778,\"#fb9f3a\"],[0.8888888888888888,\"#fdca26\"],[1.0,\"#f0f921\"]]}],\"surface\":[{\"type\":\"surface\",\"colorbar\":{\"outlinewidth\":0,\"ticks\":\"\"},\"colorscale\":[[0.0,\"#0d0887\"],[0.1111111111111111,\"#46039f\"],[0.2222222222222222,\"#7201a8\"],[0.3333333333333333,\"#9c179e\"],[0.4444444444444444,\"#bd3786\"],[0.5555555555555556,\"#d8576b\"],[0.6666666666666666,\"#ed7953\"],[0.7777777777777778,\"#fb9f3a\"],[0.8888888888888888,\"#fdca26\"],[1.0,\"#f0f921\"]]}],\"mesh3d\":[{\"type\":\"mesh3d\",\"colorbar\":{\"outlinewidth\":0,\"ticks\":\"\"}}],\"scatter\":[{\"fillpattern\":{\"fillmode\":\"overlay\",\"size\":10,\"solidity\":0.2},\"type\":\"scatter\"}],\"parcoords\":[{\"type\":\"parcoords\",\"line\":{\"colorbar\":{\"outlinewidth\":0,\"ticks\":\"\"}}}],\"scatterpolargl\":[{\"type\":\"scatterpolargl\",\"marker\":{\"colorbar\":{\"outlinewidth\":0,\"ticks\":\"\"}}}],\"bar\":[{\"error_x\":{\"color\":\"#2a3f5f\"},\"error_y\":{\"color\":\"#2a3f5f\"},\"marker\":{\"line\":{\"color\":\"#E5ECF6\",\"width\":0.5},\"pattern\":{\"fillmode\":\"overlay\",\"size\":10,\"solidity\":0.2}},\"type\":\"bar\"}],\"scattergeo\":[{\"type\":\"scattergeo\",\"marker\":{\"colorbar\":{\"outlinewidth\":0,\"ticks\":\"\"}}}],\"scatterpolar\":[{\"type\":\"scatterpolar\",\"marker\":{\"colorbar\":{\"outlinewidth\":0,\"ticks\":\"\"}}}],\"histogram\":[{\"marker\":{\"pattern\":{\"fillmode\":\"overlay\",\"size\":10,\"solidity\":0.2}},\"type\":\"histogram\"}],\"scattergl\":[{\"type\":\"scattergl\",\"marker\":{\"colorbar\":{\"outlinewidth\":0,\"ticks\":\"\"}}}],\"scatter3d\":[{\"type\":\"scatter3d\",\"line\":{\"colorbar\":{\"outlinewidth\":0,\"ticks\":\"\"}},\"marker\":{\"colorbar\":{\"outlinewidth\":0,\"ticks\":\"\"}}}],\"scattermapbox\":[{\"type\":\"scattermapbox\",\"marker\":{\"colorbar\":{\"outlinewidth\":0,\"ticks\":\"\"}}}],\"scatterternary\":[{\"type\":\"scatterternary\",\"marker\":{\"colorbar\":{\"outlinewidth\":0,\"ticks\":\"\"}}}],\"scattercarpet\":[{\"type\":\"scattercarpet\",\"marker\":{\"colorbar\":{\"outlinewidth\":0,\"ticks\":\"\"}}}],\"carpet\":[{\"aaxis\":{\"endlinecolor\":\"#2a3f5f\",\"gridcolor\":\"white\",\"linecolor\":\"white\",\"minorgridcolor\":\"white\",\"startlinecolor\":\"#2a3f5f\"},\"baxis\":{\"endlinecolor\":\"#2a3f5f\",\"gridcolor\":\"white\",\"linecolor\":\"white\",\"minorgridcolor\":\"white\",\"startlinecolor\":\"#2a3f5f\"},\"type\":\"carpet\"}],\"table\":[{\"cells\":{\"fill\":{\"color\":\"#EBF0F8\"},\"line\":{\"color\":\"white\"}},\"header\":{\"fill\":{\"color\":\"#C8D4E3\"},\"line\":{\"color\":\"white\"}},\"type\":\"table\"}],\"barpolar\":[{\"marker\":{\"line\":{\"color\":\"#E5ECF6\",\"width\":0.5},\"pattern\":{\"fillmode\":\"overlay\",\"size\":10,\"solidity\":0.2}},\"type\":\"barpolar\"}],\"pie\":[{\"automargin\":true,\"type\":\"pie\"}]},\"layout\":{\"autotypenumbers\":\"strict\",\"colorway\":[\"#636efa\",\"#EF553B\",\"#00cc96\",\"#ab63fa\",\"#FFA15A\",\"#19d3f3\",\"#FF6692\",\"#B6E880\",\"#FF97FF\",\"#FECB52\"],\"font\":{\"color\":\"#2a3f5f\"},\"hovermode\":\"closest\",\"hoverlabel\":{\"align\":\"left\"},\"paper_bgcolor\":\"white\",\"plot_bgcolor\":\"#E5ECF6\",\"polar\":{\"bgcolor\":\"#E5ECF6\",\"angularaxis\":{\"gridcolor\":\"white\",\"linecolor\":\"white\",\"ticks\":\"\"},\"radialaxis\":{\"gridcolor\":\"white\",\"linecolor\":\"white\",\"ticks\":\"\"}},\"ternary\":{\"bgcolor\":\"#E5ECF6\",\"aaxis\":{\"gridcolor\":\"white\",\"linecolor\":\"white\",\"ticks\":\"\"},\"baxis\":{\"gridcolor\":\"white\",\"linecolor\":\"white\",\"ticks\":\"\"},\"caxis\":{\"gridcolor\":\"white\",\"linecolor\":\"white\",\"ticks\":\"\"}},\"coloraxis\":{\"colorbar\":{\"outlinewidth\":0,\"ticks\":\"\"}},\"colorscale\":{\"sequential\":[[0.0,\"#0d0887\"],[0.1111111111111111,\"#46039f\"],[0.2222222222222222,\"#7201a8\"],[0.3333333333333333,\"#9c179e\"],[0.4444444444444444,\"#bd3786\"],[0.5555555555555556,\"#d8576b\"],[0.6666666666666666,\"#ed7953\"],[0.7777777777777778,\"#fb9f3a\"],[0.8888888888888888,\"#fdca26\"],[1.0,\"#f0f921\"]],\"sequentialminus\":[[0.0,\"#0d0887\"],[0.1111111111111111,\"#46039f\"],[0.2222222222222222,\"#7201a8\"],[0.3333333333333333,\"#9c179e\"],[0.4444444444444444,\"#bd3786\"],[0.5555555555555556,\"#d8576b\"],[0.6666666666666666,\"#ed7953\"],[0.7777777777777778,\"#fb9f3a\"],[0.8888888888888888,\"#fdca26\"],[1.0,\"#f0f921\"]],\"diverging\":[[0,\"#8e0152\"],[0.1,\"#c51b7d\"],[0.2,\"#de77ae\"],[0.3,\"#f1b6da\"],[0.4,\"#fde0ef\"],[0.5,\"#f7f7f7\"],[0.6,\"#e6f5d0\"],[0.7,\"#b8e186\"],[0.8,\"#7fbc41\"],[0.9,\"#4d9221\"],[1,\"#276419\"]]},\"xaxis\":{\"gridcolor\":\"white\",\"linecolor\":\"white\",\"ticks\":\"\",\"title\":{\"standoff\":15},\"zerolinecolor\":\"white\",\"automargin\":true,\"zerolinewidth\":2},\"yaxis\":{\"gridcolor\":\"white\",\"linecolor\":\"white\",\"ticks\":\"\",\"title\":{\"standoff\":15},\"zerolinecolor\":\"white\",\"automargin\":true,\"zerolinewidth\":2},\"scene\":{\"xaxis\":{\"backgroundcolor\":\"#E5ECF6\",\"gridcolor\":\"white\",\"linecolor\":\"white\",\"showbackground\":true,\"ticks\":\"\",\"zerolinecolor\":\"white\",\"gridwidth\":2},\"yaxis\":{\"backgroundcolor\":\"#E5ECF6\",\"gridcolor\":\"white\",\"linecolor\":\"white\",\"showbackground\":true,\"ticks\":\"\",\"zerolinecolor\":\"white\",\"gridwidth\":2},\"zaxis\":{\"backgroundcolor\":\"#E5ECF6\",\"gridcolor\":\"white\",\"linecolor\":\"white\",\"showbackground\":true,\"ticks\":\"\",\"zerolinecolor\":\"white\",\"gridwidth\":2}},\"shapedefaults\":{\"line\":{\"color\":\"#2a3f5f\"}},\"annotationdefaults\":{\"arrowcolor\":\"#2a3f5f\",\"arrowhead\":0,\"arrowwidth\":1},\"geo\":{\"bgcolor\":\"white\",\"landcolor\":\"#E5ECF6\",\"subunitcolor\":\"white\",\"showland\":true,\"showlakes\":true,\"lakecolor\":\"white\"},\"title\":{\"x\":0.05},\"mapbox\":{\"style\":\"light\"}}}},                        {\"responsive\": true}                    ).then(function(){\n",
       "                            \n",
       "var gd = document.getElementById('1509b69a-b2da-423c-b49b-1134a296b2de');\n",
       "var x = new MutationObserver(function (mutations, observer) {{\n",
       "        var display = window.getComputedStyle(gd).display;\n",
       "        if (!display || display === 'none') {{\n",
       "            console.log([gd, 'removed!']);\n",
       "            Plotly.purge(gd);\n",
       "            observer.disconnect();\n",
       "        }}\n",
       "}});\n",
       "\n",
       "// Listen for the removal of the full notebook cells\n",
       "var notebookContainer = gd.closest('#notebook-container');\n",
       "if (notebookContainer) {{\n",
       "    x.observe(notebookContainer, {childList: true});\n",
       "}}\n",
       "\n",
       "// Listen for the clearing of the current output cell\n",
       "var outputEl = gd.closest('.output');\n",
       "if (outputEl) {{\n",
       "    x.observe(outputEl, {childList: true});\n",
       "}}\n",
       "\n",
       "                        })                };                });            </script>        </div>"
      ]
     },
     "metadata": {},
     "output_type": "display_data"
    }
   ],
   "source": [
    "if config['tune_parameters']:\n",
    "    fig = optuna.visualization.plot_param_importances(study)\n",
    "    fig.show()"
   ]
  },
  {
   "cell_type": "code",
   "execution_count": 18,
   "id": "cfcacb04",
   "metadata": {
    "execution": {
     "iopub.execute_input": "2023-12-16T23:24:14.549045Z",
     "iopub.status.busy": "2023-12-16T23:24:14.548388Z",
     "iopub.status.idle": "2023-12-16T23:24:14.932656Z",
     "shell.execute_reply": "2023-12-16T23:24:14.931382Z"
    },
    "papermill": {
     "duration": 0.427462,
     "end_time": "2023-12-16T23:24:14.935959",
     "exception": false,
     "start_time": "2023-12-16T23:24:14.508497",
     "status": "completed"
    },
    "tags": []
   },
   "outputs": [
    {
     "data": {
      "text/html": [
       "<div>                            <div id=\"93150216-e95c-4bf0-8522-e630ecfd935d\" class=\"plotly-graph-div\" style=\"height:525px; width:1200px;\"></div>            <script type=\"text/javascript\">                require([\"plotly\"], function(Plotly) {                    window.PLOTLYENV=window.PLOTLYENV || {};                                    if (document.getElementById(\"93150216-e95c-4bf0-8522-e630ecfd935d\")) {                    Plotly.newPlot(                        \"93150216-e95c-4bf0-8522-e630ecfd935d\",                        [{\"marker\":{\"color\":[0,1,2,3,4,5,6,7,8,9,10,11,12,13,14,15,16,17,18,19,20,21,22,23,24,25,26,27,28,29,30,31,32,33,34,35,36,37,38,39,40,41,42,43,44,45,46,47,48,49,50,51,52,53,54,55,56,57,58,59,60,61,62,63,64,65,66,67,68,69,70,71,72,73,74,75,76,77,78,79,80,81,82,83,84,85,86,87,88,89,90,91,92,93,94,95,96,97,98,99,100,101,102,103,104,105,106,107,108,109,110,111,112,113,114,115,116,117,118,119,120,121,122,123,124,125,126,127,128,129,130,131,132,133,134,135,136,137,138,139,140,141,142,143,144,145,146,147,148,149,150,151,152,153,154,155,156,157,158,159,160,161,162,163,164,165,166,167,168,169,170,171,172,173,174,175,176,177,178,179,180,181,182,183,184,185,186,187,188,189,190,191,192,193,194,195,196,197,198,199,200,201,202,203,204,205,206,207,208,209,210,211,212,213,214,215,216,217,218,219,220,221,222,223,224,225,226,227,228,229,230,231,232,233,234,235,236,237,238,239],\"colorbar\":{\"title\":{\"text\":\"Trial\"},\"x\":1.0,\"xpad\":40},\"colorscale\":[[0.0,\"rgb(247,251,255)\"],[0.125,\"rgb(222,235,247)\"],[0.25,\"rgb(198,219,239)\"],[0.375,\"rgb(158,202,225)\"],[0.5,\"rgb(107,174,214)\"],[0.625,\"rgb(66,146,198)\"],[0.75,\"rgb(33,113,181)\"],[0.875,\"rgb(8,81,156)\"],[1.0,\"rgb(8,48,107)\"]],\"line\":{\"color\":\"Grey\",\"width\":0.5},\"showscale\":true},\"mode\":\"markers\",\"name\":\"Feasible Trial\",\"showlegend\":false,\"x\":[0.00001717265461354268,0.0002004528873516434,73.65843852932304,2.7340843533659815,0.05529443123164823,0.10493356802451588,0.40123104667695536,0.0665999589757884,0.22401514621430763,0.0062818196572368475,0.0045307204189318625,0.004799539060168817,0.00212922343872846,0.0022629295638429987,0.00034613077770685957,0.011485718208826268,0.01688575095880276,0.015081744984882517,1.0512705939265843,0.054744146433288066,0.02206429994866293,0.015509062375363869,0.014303556134110954,0.00029952713650423685,0.0010590008295827153,0.013068848367631032,0.1809664058270575,0.009213749041659605,0.0010063005539133391,0.000010460601608104196,0.05683979089931022,0.008348081119335948,0.000040463857701940553,0.025225204498701245,0.010130974360943068,0.036371515581561924,0.0028443136956209127,0.0009644702101661821,0.01041605725649278,0.156892359778672,0.0963572741518673,0.0076009103260084475,0.033600049698510256,0.005239390458412994,0.01160956712354192,0.032170738068956414,0.3346048920989028,0.0031405792642031022,0.09060079547347596,0.008727178201432597,0.003704058205621175,0.00917535482277509,0.006836510174423114,0.0016478769240910794,0.02092341632779557,0.004790053403088817,0.012399164771978778,0.04665517552184358,0.0228721306867699,0.00979170909259744,0.08265544573238712,0.009292889634423061,0.014351683080812255,0.005475908423246353,0.0017302728046772774,0.04774031194837126,0.017270278888822283,0.0032076235925204773,0.007896924132604179,0.025942877993504868,0.01188054388417057,0.00945678438663728,0.013204467531631205,0.021429710673957023,0.013238683515558002,0.005111341631855463,0.062208188275096964,0.0398058830464792,0.0021602728150802077,0.013409916624621751,0.035779133604039635,0.013361559872998908,0.006000510785838498,0.016242506655864155,0.003570153616688877,0.010306854223958753,0.007336423312752104,0.004007088538230837,0.022492109751412994,0.010883965088604204,0.010160791085725646,0.029711707823612474,0.006154258237300933,0.010515761020051912,0.018370274073662995,0.002714768771707882,0.008801860453576421,0.0040939072941907515,0.011611986952655811,0.02604775014965978,0.006344347684992414,0.017675239060570586,0.01150593283829146,0.011072599768847476,0.004688029383859407,0.04837872117018691,0.007017790590934938,0.010626767160811762,0.03098614848022653,0.01781805553270201,0.01206275853376302,0.01227178690621659,0.011577138439296128,0.02220727181234665,0.014131396903604852,0.007111657347514598,0.03390294086398267,0.010696322190866704,0.004989685627359642,0.0024816718631246854,0.06688273392731164,0.01146548613985549,0.017526903686587634,0.01322727877173363,0.028535312459189166,0.014287295425014761,0.00842785735796412,0.007421932495254414,0.003775529321871286,0.022896727067318764,0.005405616057054907,0.009602243590697179,0.014934394817887851,0.008312213438856323,0.040972618246956166,0.01899796867940287,0.011885637138221735,0.01268095371544158,0.0057044021529476414,0.025482009582979682,0.0030882362375601186,0.012678820149627163,0.01383639340294106,0.007446844493708925,0.017847750611671424,0.011359821428368862,0.008666077353023969,0.022931964579638777,0.004362008844389461,0.01104218772215008,0.03677888626263828,0.01304195079348138,0.015559255434855356,0.005929946433505657,0.007816619489268043,0.012101529633840136,0.015387622273069976,0.01953880743860131,0.02951157871832734,0.00950374089606039,0.005781809573730231,0.01180038103735381,0.012297829069108994,0.019599221597694783,0.007925622122084372,0.01401839133330665,0.0042372231675232444,0.0250923930604676,0.009381032679903952,0.006581832111981411,0.014029378572907454,0.011615390912210134,0.011449272017372562,0.018849594254307638,0.00937162940462308,0.0066571787595546385,0.004637446906852338,0.01614535798043362,0.008881252553516182,0.029821285671208942,0.04759242604163087,0.010327896954070749,0.011412731064684491,0.02103133811518444,0.01210120167299164,0.007990830112035326,0.006543245980286104,0.014022824880400755,0.0035921507650542553,0.008080751295367904,0.014778137206914024,0.009815266000143895,0.005567719324160154,0.011672897305188439,0.019234174344868578,0.008187166717829085,0.01204646771427773,6.654014122845512,0.023754631311796896,0.0161352708724628,0.005647443437645482,0.012001312992553899,0.009924746085075924,0.008439291922444293,0.012469540218677133,0.016360203075112476,0.006654921512603534,0.022573289065989825,0.010604810437009388,0.01431021983224972,0.004774211721016447,0.010245346069288607,0.012525575110395452,0.007133521866080708,0.01789119844646358,0.013374481839871914,0.028436285282207725,0.008444157558122096,0.01190712030297897,0.018517709064292908,0.0077765773992335965,0.01109574079842547,0.013089872934305403,0.014465250656033943,0.009249794174088942,0.00007292635018898039,0.023850359885356463,0.006371916000306763,0.017098400892914596,0.012990127330229194,0.009040943974047238,0.01333781687445552,0.01474641349303841,0.010717909111996396,0.023022319116403036,0.007057513667129258,0.017438134642809872,0.01083923138016588,0.009404330089710394,0.034007234616996125],\"y\":[0.03571855893350653,0.1654434059866675,0.0004208241038231959,0.11441030635756379,0.25183979737725154,0.0004208241038231959,0.18702779842039804,0.25257737955094645,0.1996927474773726,0.21644355957488406,0.27049337401756574,0.270421085980335,0.25977419967604837,0.2617852419339299,0.20440801657373134,0.2753527912670634,0.2728831303516246,0.2728726732900915,0.2030572091768205,0.25925993307724776,0.2724425066600252,0.2732749363458512,0.2743253348288816,0.16878286510755572,0.23396142001398118,0.2747261015774216,0.23482811279641325,0.2747536740435653,0.23170947059331007,0.15429962292287402,0.25887367287809926,0.274104871148013,0.11951120022302045,0.27130095485295536,0.25619002456188805,0.2564884650687014,0.26605818213780663,0.2171736999098067,0.27448302119340645,0.23711718139235294,0.24327086943323337,0.2727245764547736,0.26789504692632754,0.2648042114659666,0.2753937199590002,0.2661596614125229,0.22074623081434847,0.26497398052562154,0.2444649559021567,0.2754165026390628,0.2690971815239174,0.2754010230254369,0.2740261828972239,0.25051029794222446,0.27311435937055323,0.2700676923550244,0.2756398371255489,0.261568442006202,0.2713916825647627,0.27553947772225595,0.24780035773993242,0.27519530356440874,0.27507173930357803,0.27171939067002077,0.2525403477702507,0.2611237088776627,0.2740799141016858,0.2657856433063641,0.27406247973084835,0.25804118195853964,0.2758570770875929,0.27518947692563,0.2755870147247253,0.2721951128502065,0.2748469839933922,0.27163305211032346,0.25586648018493047,0.26437922622232796,0.2570154932244903,0.2753142603193409,0.25527193132333037,0.2752229403590137,0.2732331095072566,0.27444448853757153,0.2689361026529791,0.27546018361283353,0.2742675285955698,0.26958665871437587,0.272745670312676,0.27563111877891633,0.27515919542303874,0.2685704378605663,0.272383651388317,0.2758575550223351,0.2738329901406071,0.26357498897469667,0.2743634704046338,0.2703828543758351,0.2623715880834047,0.2705086513419706,0.27332885714157856,0.2745911736625377,0.2754202948537969,0.2754821179308886,0.27067421343672043,0.2609832340575094,0.2737692844129202,0.2757596594646152,0.2670430583240422,0.274162957644813,0.2755764089174471,0.27558899847354307,0.2761653571343395,0.27171490502898726,0.2754479977966109,0.2745574515504217,0.2653140563389379,0.2756264968509779,0.25371649604186886,0.2584645625961547,0.2541369144298193,0.2756167938662184,0.2741353414908636,0.27568445770452743,0.2678676477857052,0.2752460485116356,0.2758958939712316,0.2750100460187329,0.26968817236389137,0.2714881249365153,0.27224443133309945,0.27553495080761037,0.2752267718646466,0.27499781292619196,0.2642179737965018,0.2738838994942113,0.27575390079868534,0.27611960956026815,0.2725070557767852,0.2573955827845486,0.267855359572019,0.2757333414018407,0.2758461994895593,0.2749804405129783,0.27414442453114574,0.27588518196542217,0.2751538411828332,0.2715234279341014,0.2701855338985229,0.275579131233436,0.264886761353149,0.2758374957898714,0.2747051414323189,0.2731925620749127,0.2752258014683577,0.27574439938729495,0.2747788429750811,0.27319943951496467,0.2667383892319807,0.2752598202037124,0.2733629446883761,0.2753838671592148,0.2757198655000756,0.272578164581731,0.2752177669052978,0.2743379676814186,0.2713941169869145,0.2695219319372171,0.2559294536035212,0.2737656445459067,0.27486223463962633,0.27533497588681843,0.27591611859961584,0.2735012784327005,0.27564113675815477,0.2747968666663873,0.27171319053189386,0.27447687959120454,0.2754703290073304,0.26668592186435647,0.2610038054937348,0.27589083443292994,0.27600378564895095,0.27223550991974604,0.2759651535229618,0.2757723963844525,0.2746244272671376,0.2749651742871331,0.2698686647990896,0.27534294279250565,0.2732586846204732,0.27578103534493514,0.27266473879351033,0.2756702465991658,0.27332359875687806,0.2730093373342931,0.275620933040087,0.16686174809275442,0.270249995390426,0.2565212710973238,0.27256337662786717,0.2755709937263469,0.27547445679930815,0.27517452121521463,0.27573263353943045,0.27464486127847565,0.2741286796084413,0.2695419236941427,0.2741708316874167,0.2751836553836632,0.27201458088762376,0.27543027074374454,0.27577372935666367,0.27481344884015596,0.27408193051759805,0.2752327707120977,0.2676040014855707,0.27500901584130544,0.2735961145388535,0.27393939888379154,0.2754518619206572,0.27531239367789534,0.2756821230019645,0.2749691896267143,0.273399593515185,0.18131587626290252,0.27107356163793556,0.27349827818815625,0.27404306280894675,0.27567116973020495,0.27547878205627657,0.27609558039209503,0.2749845035435648,0.27540249600126,0.2718802018628478,0.26415137276465056,0.25583478347523997,0.27572056372944437,0.2755801176610853,0.2656869012912718],\"type\":\"scatter\",\"xaxis\":\"x\",\"yaxis\":\"y\"},{\"marker\":{\"color\":[0,1,2,3,4,5,6,7,8,9,10,11,12,13,14,15,16,17,18,19,20,21,22,23,24,25,26,27,28,29,30,31,32,33,34,35,36,37,38,39,40,41,42,43,44,45,46,47,48,49,50,51,52,53,54,55,56,57,58,59,60,61,62,63,64,65,66,67,68,69,70,71,72,73,74,75,76,77,78,79,80,81,82,83,84,85,86,87,88,89,90,91,92,93,94,95,96,97,98,99,100,101,102,103,104,105,106,107,108,109,110,111,112,113,114,115,116,117,118,119,120,121,122,123,124,125,126,127,128,129,130,131,132,133,134,135,136,137,138,139,140,141,142,143,144,145,146,147,148,149,150,151,152,153,154,155,156,157,158,159,160,161,162,163,164,165,166,167,168,169,170,171,172,173,174,175,176,177,178,179,180,181,182,183,184,185,186,187,188,189,190,191,192,193,194,195,196,197,198,199,200,201,202,203,204,205,206,207,208,209,210,211,212,213,214,215,216,217,218,219,220,221,222,223,224,225,226,227,228,229,230,231,232,233,234,235,236,237,238,239],\"colorbar\":{\"title\":{\"text\":\"Trial\"},\"x\":1.0,\"xpad\":40},\"colorscale\":[[0.0,\"rgb(247,251,255)\"],[0.125,\"rgb(222,235,247)\"],[0.25,\"rgb(198,219,239)\"],[0.375,\"rgb(158,202,225)\"],[0.5,\"rgb(107,174,214)\"],[0.625,\"rgb(66,146,198)\"],[0.75,\"rgb(33,113,181)\"],[0.875,\"rgb(8,81,156)\"],[1.0,\"rgb(8,48,107)\"]],\"line\":{\"color\":\"Grey\",\"width\":0.5},\"showscale\":false},\"mode\":\"markers\",\"name\":\"Feasible Trial\",\"showlegend\":false,\"x\":[0.322559103020014,0.005052938452057655,0.004435424110100601,0.002187601533116763,0.00003674049182724465,0.6146219121176194,0.002756016947428707,0.0004663621600023121,0.0038334461141957344,0.0002851203351257387,0.00015362760455654912,0.00001956720297417072,0.000010479321085421806,0.00004732285515102383,0.00008942244105931296,0.000012682303109616293,0.000013491840506949249,0.000013714372229562148,0.000056203469371926184,0.000018347661722893378,0.0001266645543278559,0.000014355277673254155,0.000010042413237375432,0.00003855347241510776,0.000011370455746759673,0.000031868796188912326,0.000047616863678581317,0.000036862411343516954,0.0002385921440356411,0.0006381437232223435,0.00010304754045027379,0.0000295934942114405,0.000026105102185125228,0.000077732754585439,0.030553388950178582,0.000026489578273354108,0.00006224893378659743,0.000024975357030751677,0.000010373115537357373,0.00003589045840617329,0.00007728308866520945,0.00001067781624044322,0.00002097316835266127,0.000022047795177492253,0.00004000031295228855,0.00016735028616780042,0.00004387932909796534,0.00006157974010931964,0.000018733528321496183,0.00012043442207886882,0.00016760858914574922,0.000037197444631672826,0.00003801037112296333,0.00011075417995452261,0.00007188362609297356,0.000041281210905894996,0.000017158869366151196,0.000015961986696807018,0.000017121366582668298,0.00012006302960838521,0.00037983410732308706,0.00010693418368572736,0.00011781096756011593,0.00005505237812284024,0.0002753489799946624,0.00008647496693834882,0.00018000878142520376,0.00001519801937608754,0.00002928283776372896,0.000052888363253417525,0.00012744940209221924,0.00011985968636880648,0.0006634234969266741,0.0005665940599718966,0.0010302714974786068,0.0002481814315462908,0.00007286696888191388,0.0001786587030862309,0.00002658280162592808,0.0003371191732874982,0.00004897037819168196,0.0004089262202226895,0.00021965254892302585,0.00013777825496647005,0.0003151932456043404,0.00008622219449235991,0.00009510204190645449,0.000035283153964247195,0.00002217986465265914,0.00006587079616861375,0.00005468567095260843,0.00007038355510097351,0.00001306396072822396,0.0000858107826116673,0.00014463042000159132,0.00020527469181054134,0.00008442674610463346,0.00012711770680756777,0.000044344452709421106,0.00009542796338392163,0.00003269884027536764,0.00005920363897678553,0.000018894954894743727,0.000019710939040671915,0.000019667339104250386,0.00002384192360212157,0.000030976309394938044,0.000016401960301439392,0.000012580061199070063,0.00001738027647728399,0.00006705345073538066,0.00014416293058701395,0.00006668818277309522,0.00006218989716379608,0.00008938898396437782,0.00015454433290744185,0.00006944702023264298,0.0000455232418924914,0.000052192507286848796,0.00004224707085485547,0.00002467165816215141,0.00010487950875364834,0.00010809097128388082,0.00020852235379185147,0.00015641123177772713,0.00023399191713859648,0.00018406495795072553,0.00018050775681574877,0.00027860594321777815,0.00007036975644193648,0.00021180563629452767,0.00012861816333214555,0.00011768709423977591,0.00009144983592154571,0.0001853487157994297,0.00014169137974756444,0.00007589113821326426,0.00007588197460828958,0.00005113589064456092,0.00008397685199889716,0.0003174486845798737,0.000061674805443519,0.0001075395363139373,0.00010501097385540106,0.00004296295035052873,0.00006313682126338004,0.0000568401674076663,0.00003490053773624438,0.00007184475483318956,0.000046633291458997594,0.000028539365946696217,0.00009545733870851565,0.00008518392073619725,0.00009876791416525555,0.00006169434292478993,0.00007839225269202742,0.000037549980332303314,0.00007744712412183008,0.00006327193500094735,0.000051421650674307235,0.000030266921657997457,0.00010270450458187921,0.00011763053820003053,0.00013593426609946846,0.00007489847411398806,0.000014029368215577236,0.000010943519300461982,0.00016108268478560493,0.00004963666483085134,0.00008897889621157376,0.00012071018864177398,0.00009508176458762899,0.00019950079609351175,0.00022613859637507635,0.00017185490223852067,0.00026401319768080793,0.00018425802180686555,0.00015369199553556153,0.0002094821874875659,0.00011894623276705805,0.00007097756360704258,0.00006676987309412427,0.000144882569282496,0.0003887971000937118,0.00017676371720975112,0.00017979636656054366,0.00013039275270715326,0.00022894654190572065,0.000297503310485364,0.0001519921310314916,0.00012355385187819235,0.0002011438824010243,0.00019835363860812395,0.00026367801270503656,0.00010234481467991494,0.00048052371592711155,0.00008304068774114756,0.00019007494700103917,0.0001504950287501553,0.00011388953148275624,0.000063652732476063,0.00024393441739484475,0.0003185836197999774,0.0002684289927970549,0.00017678215654998684,0.00008469402322952319,0.0001765882313258107,0.0001405694139345386,0.00010441849523119709,0.000059354693310792066,0.00008377904949729038,0.00020856332205483973,0.00015532293818036348,0.00014224870460230978,0.00011230603853612399,0.0001643766144897436,0.0000791657006604491,0.00035468467371538575,0.00012895076166427664,0.00018880298244368208,0.005495695422207866,0.0002485338675959337,0.00010715101537849351,0.00010080942098573332,0.00005092884856825296,0.00007100871134880028,0.000040201101698755154,0.00012993749731266455,0.00009298667372584136,0.000164879403273003,0.00006166043738056936,0.00016279300201228473,0.00020862842504463578,0.00011956987447832057,0.00016599334178469207,0.000103860916396621,0.00008313144036264713,0.00014094891663473858,0.0002000132787557398,0.00015252301035301825],\"y\":[0.03571855893350653,0.1654434059866675,0.0004208241038231959,0.11441030635756379,0.25183979737725154,0.0004208241038231959,0.18702779842039804,0.25257737955094645,0.1996927474773726,0.21644355957488406,0.27049337401756574,0.270421085980335,0.25977419967604837,0.2617852419339299,0.20440801657373134,0.2753527912670634,0.2728831303516246,0.2728726732900915,0.2030572091768205,0.25925993307724776,0.2724425066600252,0.2732749363458512,0.2743253348288816,0.16878286510755572,0.23396142001398118,0.2747261015774216,0.23482811279641325,0.2747536740435653,0.23170947059331007,0.15429962292287402,0.25887367287809926,0.274104871148013,0.11951120022302045,0.27130095485295536,0.25619002456188805,0.2564884650687014,0.26605818213780663,0.2171736999098067,0.27448302119340645,0.23711718139235294,0.24327086943323337,0.2727245764547736,0.26789504692632754,0.2648042114659666,0.2753937199590002,0.2661596614125229,0.22074623081434847,0.26497398052562154,0.2444649559021567,0.2754165026390628,0.2690971815239174,0.2754010230254369,0.2740261828972239,0.25051029794222446,0.27311435937055323,0.2700676923550244,0.2756398371255489,0.261568442006202,0.2713916825647627,0.27553947772225595,0.24780035773993242,0.27519530356440874,0.27507173930357803,0.27171939067002077,0.2525403477702507,0.2611237088776627,0.2740799141016858,0.2657856433063641,0.27406247973084835,0.25804118195853964,0.2758570770875929,0.27518947692563,0.2755870147247253,0.2721951128502065,0.2748469839933922,0.27163305211032346,0.25586648018493047,0.26437922622232796,0.2570154932244903,0.2753142603193409,0.25527193132333037,0.2752229403590137,0.2732331095072566,0.27444448853757153,0.2689361026529791,0.27546018361283353,0.2742675285955698,0.26958665871437587,0.272745670312676,0.27563111877891633,0.27515919542303874,0.2685704378605663,0.272383651388317,0.2758575550223351,0.2738329901406071,0.26357498897469667,0.2743634704046338,0.2703828543758351,0.2623715880834047,0.2705086513419706,0.27332885714157856,0.2745911736625377,0.2754202948537969,0.2754821179308886,0.27067421343672043,0.2609832340575094,0.2737692844129202,0.2757596594646152,0.2670430583240422,0.274162957644813,0.2755764089174471,0.27558899847354307,0.2761653571343395,0.27171490502898726,0.2754479977966109,0.2745574515504217,0.2653140563389379,0.2756264968509779,0.25371649604186886,0.2584645625961547,0.2541369144298193,0.2756167938662184,0.2741353414908636,0.27568445770452743,0.2678676477857052,0.2752460485116356,0.2758958939712316,0.2750100460187329,0.26968817236389137,0.2714881249365153,0.27224443133309945,0.27553495080761037,0.2752267718646466,0.27499781292619196,0.2642179737965018,0.2738838994942113,0.27575390079868534,0.27611960956026815,0.2725070557767852,0.2573955827845486,0.267855359572019,0.2757333414018407,0.2758461994895593,0.2749804405129783,0.27414442453114574,0.27588518196542217,0.2751538411828332,0.2715234279341014,0.2701855338985229,0.275579131233436,0.264886761353149,0.2758374957898714,0.2747051414323189,0.2731925620749127,0.2752258014683577,0.27574439938729495,0.2747788429750811,0.27319943951496467,0.2667383892319807,0.2752598202037124,0.2733629446883761,0.2753838671592148,0.2757198655000756,0.272578164581731,0.2752177669052978,0.2743379676814186,0.2713941169869145,0.2695219319372171,0.2559294536035212,0.2737656445459067,0.27486223463962633,0.27533497588681843,0.27591611859961584,0.2735012784327005,0.27564113675815477,0.2747968666663873,0.27171319053189386,0.27447687959120454,0.2754703290073304,0.26668592186435647,0.2610038054937348,0.27589083443292994,0.27600378564895095,0.27223550991974604,0.2759651535229618,0.2757723963844525,0.2746244272671376,0.2749651742871331,0.2698686647990896,0.27534294279250565,0.2732586846204732,0.27578103534493514,0.27266473879351033,0.2756702465991658,0.27332359875687806,0.2730093373342931,0.275620933040087,0.16686174809275442,0.270249995390426,0.2565212710973238,0.27256337662786717,0.2755709937263469,0.27547445679930815,0.27517452121521463,0.27573263353943045,0.27464486127847565,0.2741286796084413,0.2695419236941427,0.2741708316874167,0.2751836553836632,0.27201458088762376,0.27543027074374454,0.27577372935666367,0.27481344884015596,0.27408193051759805,0.2752327707120977,0.2676040014855707,0.27500901584130544,0.2735961145388535,0.27393939888379154,0.2754518619206572,0.27531239367789534,0.2756821230019645,0.2749691896267143,0.273399593515185,0.18131587626290252,0.27107356163793556,0.27349827818815625,0.27404306280894675,0.27567116973020495,0.27547878205627657,0.27609558039209503,0.2749845035435648,0.27540249600126,0.2718802018628478,0.26415137276465056,0.25583478347523997,0.27572056372944437,0.2755801176610853,0.2656869012912718],\"type\":\"scatter\",\"xaxis\":\"x2\",\"yaxis\":\"y2\"},{\"marker\":{\"color\":[0,1,2,3,4,5,6,7,8,9,10,11,12,13,14,15,16,17,18,19,20,21,22,23,24,25,26,27,28,29,30,31,32,33,34,35,36,37,38,39,40,41,42,43,44,45,46,47,48,49,50,51,52,53,54,55,56,57,58,59,60,61,62,63,64,65,66,67,68,69,70,71,72,73,74,75,76,77,78,79,80,81,82,83,84,85,86,87,88,89,90,91,92,93,94,95,96,97,98,99,100,101,102,103,104,105,106,107,108,109,110,111,112,113,114,115,116,117,118,119,120,121,122,123,124,125,126,127,128,129,130,131,132,133,134,135,136,137,138,139,140,141,142,143,144,145,146,147,148,149,150,151,152,153,154,155,156,157,158,159,160,161,162,163,164,165,166,167,168,169,170,171,172,173,174,175,176,177,178,179,180,181,182,183,184,185,186,187,188,189,190,191,192,193,194,195,196,197,198,199,200,201,202,203,204,205,206,207,208,209,210,211,212,213,214,215,216,217,218,219,220,221,222,223,224,225,226,227,228,229,230,231,232,233,234,235,236,237,238,239],\"colorbar\":{\"title\":{\"text\":\"Trial\"},\"x\":1.0,\"xpad\":40},\"colorscale\":[[0.0,\"rgb(247,251,255)\"],[0.125,\"rgb(222,235,247)\"],[0.25,\"rgb(198,219,239)\"],[0.375,\"rgb(158,202,225)\"],[0.5,\"rgb(107,174,214)\"],[0.625,\"rgb(66,146,198)\"],[0.75,\"rgb(33,113,181)\"],[0.875,\"rgb(8,81,156)\"],[1.0,\"rgb(8,48,107)\"]],\"line\":{\"color\":\"Grey\",\"width\":0.5},\"showscale\":false},\"mode\":\"markers\",\"name\":\"Feasible Trial\",\"showlegend\":false,\"x\":[false,false,false,false,false,false,true,true,true,false,true,true,true,true,true,true,true,true,true,true,true,true,true,true,true,true,true,true,true,true,true,true,true,true,false,false,true,false,true,true,false,true,true,true,true,true,true,true,false,true,true,true,true,true,true,true,true,true,true,true,true,true,true,true,true,true,true,true,true,false,true,true,true,true,true,true,true,true,true,true,false,true,true,true,true,true,true,true,true,true,true,true,true,true,true,true,true,true,false,true,true,true,true,true,true,true,true,true,true,true,true,true,true,true,true,true,true,true,false,true,true,true,true,true,true,true,true,true,true,true,true,true,true,true,true,true,true,true,true,false,true,true,true,true,true,true,true,true,true,true,true,true,true,true,true,true,true,true,true,true,true,true,true,true,true,true,true,true,false,true,true,true,true,true,true,true,true,true,true,true,true,true,true,true,true,true,true,true,true,true,true,true,true,true,true,true,true,true,true,false,true,true,true,true,true,true,true,true,true,true,true,true,true,true,true,true,true,true,true,true,true,true,true,true,true,true,true,true,true,true,true,true,true,true,true,true,false,true,true,true],\"y\":[0.03571855893350653,0.1654434059866675,0.0004208241038231959,0.11441030635756379,0.25183979737725154,0.0004208241038231959,0.18702779842039804,0.25257737955094645,0.1996927474773726,0.21644355957488406,0.27049337401756574,0.270421085980335,0.25977419967604837,0.2617852419339299,0.20440801657373134,0.2753527912670634,0.2728831303516246,0.2728726732900915,0.2030572091768205,0.25925993307724776,0.2724425066600252,0.2732749363458512,0.2743253348288816,0.16878286510755572,0.23396142001398118,0.2747261015774216,0.23482811279641325,0.2747536740435653,0.23170947059331007,0.15429962292287402,0.25887367287809926,0.274104871148013,0.11951120022302045,0.27130095485295536,0.25619002456188805,0.2564884650687014,0.26605818213780663,0.2171736999098067,0.27448302119340645,0.23711718139235294,0.24327086943323337,0.2727245764547736,0.26789504692632754,0.2648042114659666,0.2753937199590002,0.2661596614125229,0.22074623081434847,0.26497398052562154,0.2444649559021567,0.2754165026390628,0.2690971815239174,0.2754010230254369,0.2740261828972239,0.25051029794222446,0.27311435937055323,0.2700676923550244,0.2756398371255489,0.261568442006202,0.2713916825647627,0.27553947772225595,0.24780035773993242,0.27519530356440874,0.27507173930357803,0.27171939067002077,0.2525403477702507,0.2611237088776627,0.2740799141016858,0.2657856433063641,0.27406247973084835,0.25804118195853964,0.2758570770875929,0.27518947692563,0.2755870147247253,0.2721951128502065,0.2748469839933922,0.27163305211032346,0.25586648018493047,0.26437922622232796,0.2570154932244903,0.2753142603193409,0.25527193132333037,0.2752229403590137,0.2732331095072566,0.27444448853757153,0.2689361026529791,0.27546018361283353,0.2742675285955698,0.26958665871437587,0.272745670312676,0.27563111877891633,0.27515919542303874,0.2685704378605663,0.272383651388317,0.2758575550223351,0.2738329901406071,0.26357498897469667,0.2743634704046338,0.2703828543758351,0.2623715880834047,0.2705086513419706,0.27332885714157856,0.2745911736625377,0.2754202948537969,0.2754821179308886,0.27067421343672043,0.2609832340575094,0.2737692844129202,0.2757596594646152,0.2670430583240422,0.274162957644813,0.2755764089174471,0.27558899847354307,0.2761653571343395,0.27171490502898726,0.2754479977966109,0.2745574515504217,0.2653140563389379,0.2756264968509779,0.25371649604186886,0.2584645625961547,0.2541369144298193,0.2756167938662184,0.2741353414908636,0.27568445770452743,0.2678676477857052,0.2752460485116356,0.2758958939712316,0.2750100460187329,0.26968817236389137,0.2714881249365153,0.27224443133309945,0.27553495080761037,0.2752267718646466,0.27499781292619196,0.2642179737965018,0.2738838994942113,0.27575390079868534,0.27611960956026815,0.2725070557767852,0.2573955827845486,0.267855359572019,0.2757333414018407,0.2758461994895593,0.2749804405129783,0.27414442453114574,0.27588518196542217,0.2751538411828332,0.2715234279341014,0.2701855338985229,0.275579131233436,0.264886761353149,0.2758374957898714,0.2747051414323189,0.2731925620749127,0.2752258014683577,0.27574439938729495,0.2747788429750811,0.27319943951496467,0.2667383892319807,0.2752598202037124,0.2733629446883761,0.2753838671592148,0.2757198655000756,0.272578164581731,0.2752177669052978,0.2743379676814186,0.2713941169869145,0.2695219319372171,0.2559294536035212,0.2737656445459067,0.27486223463962633,0.27533497588681843,0.27591611859961584,0.2735012784327005,0.27564113675815477,0.2747968666663873,0.27171319053189386,0.27447687959120454,0.2754703290073304,0.26668592186435647,0.2610038054937348,0.27589083443292994,0.27600378564895095,0.27223550991974604,0.2759651535229618,0.2757723963844525,0.2746244272671376,0.2749651742871331,0.2698686647990896,0.27534294279250565,0.2732586846204732,0.27578103534493514,0.27266473879351033,0.2756702465991658,0.27332359875687806,0.2730093373342931,0.275620933040087,0.16686174809275442,0.270249995390426,0.2565212710973238,0.27256337662786717,0.2755709937263469,0.27547445679930815,0.27517452121521463,0.27573263353943045,0.27464486127847565,0.2741286796084413,0.2695419236941427,0.2741708316874167,0.2751836553836632,0.27201458088762376,0.27543027074374454,0.27577372935666367,0.27481344884015596,0.27408193051759805,0.2752327707120977,0.2676040014855707,0.27500901584130544,0.2735961145388535,0.27393939888379154,0.2754518619206572,0.27531239367789534,0.2756821230019645,0.2749691896267143,0.273399593515185,0.18131587626290252,0.27107356163793556,0.27349827818815625,0.27404306280894675,0.27567116973020495,0.27547878205627657,0.27609558039209503,0.2749845035435648,0.27540249600126,0.2718802018628478,0.26415137276465056,0.25583478347523997,0.27572056372944437,0.2755801176610853,0.2656869012912718],\"type\":\"scatter\",\"xaxis\":\"x3\",\"yaxis\":\"y3\"},{\"marker\":{\"color\":[0,1,2,3,4,5,6,7,8,9,10,11,12,13,14,15,16,17,18,19,20,21,22,23,24,25,26,27,28,29,30,31,32,33,34,35,36,37,38,39,40,41,42,43,44,45,46,47,48,49,50,51,52,53,54,55,56,57,58,59,60,61,62,63,64,65,66,67,68,69,70,71,72,73,74,75,76,77,78,79,80,81,82,83,84,85,86,87,88,89,90,91,92,93,94,95,96,97,98,99,100,101,102,103,104,105,106,107,108,109,110,111,112,113,114,115,116,117,118,119,120,121,122,123,124,125,126,127,128,129,130,131,132,133,134,135,136,137,138,139,140,141,142,143,144,145,146,147,148,149,150,151,152,153,154,155,156,157,158,159,160,161,162,163,164,165,166,167,168,169,170,171,172,173,174,175,176,177,178,179,180,181,182,183,184,185,186,187,188,189,190,191,192,193,194,195,196,197,198,199,200,201,202,203,204,205,206,207,208,209,210,211,212,213,214,215,216,217,218,219,220,221,222,223,224,225,226,227,228,229,230,231,232,233,234,235,236,237,238,239],\"colorbar\":{\"title\":{\"text\":\"Trial\"},\"x\":1.0,\"xpad\":40},\"colorscale\":[[0.0,\"rgb(247,251,255)\"],[0.125,\"rgb(222,235,247)\"],[0.25,\"rgb(198,219,239)\"],[0.375,\"rgb(158,202,225)\"],[0.5,\"rgb(107,174,214)\"],[0.625,\"rgb(66,146,198)\"],[0.75,\"rgb(33,113,181)\"],[0.875,\"rgb(8,81,156)\"],[1.0,\"rgb(8,48,107)\"]],\"line\":{\"color\":\"Grey\",\"width\":0.5},\"showscale\":false},\"mode\":\"markers\",\"name\":\"Feasible Trial\",\"showlegend\":false,\"x\":[7,122,398,62,265,38,540,26,503,5,1475,1195,1692,1789,1083,1061,178,164,223,93,740,203,268,313,742,344,367,828,713,1005,444,653,339,933,470,280,1997,1293,430,624,874,411,590,235,430,1368,485,933,528,1482,1421,1177,1629,1134,1223,811,1500,1607,1812,1073,1153,1021,1935,1008,1364,1467,722,1020,608,834,1629,1610,1209,1262,1972,1514,1075,718,1193,1661,866,1666,1376,1692,1987,1199,1211,951,543,675,779,1126,683,911,898,1370,627,1289,807,1061,1478,935,1066,1130,1108,1776,1244,1491,1498,980,1360,1349,1779,1818,1551,1348,1835,1282,1379,880,1619,1300,1284,1771,1733,1957,1432,1509,1987,1709,1406,1279,1540,1003,1186,774,1693,1730,1722,1599,1981,1416,1474,1483,1753,1440,1647,1774,1526,1149,2546,2309,2319,2180,2838,2289,2280,2286,2575,2826,2152,2210,2456,2582,2160,2521,2953,1979,2355,1960,2105,2466,1912,1860,2074,2989,2097,1860,2519,2193,1852,1555,1563,1564,1953,2398,2586,1760,2310,1959,192,2027,1640,2602,1495,295,2307,151,1909,2991,1621,2375,2690,2111,2567,1411,1861,57,385,1701,2114,2654,2394,2301,1431,1860,2406,1647,253,2054,2819,2501,2101,1802,335,2060,1450,1693,2162,1352,1918,1276,1559,525,1200,103,19,1261,1286,1079],\"y\":[0.03571855893350653,0.1654434059866675,0.0004208241038231959,0.11441030635756379,0.25183979737725154,0.0004208241038231959,0.18702779842039804,0.25257737955094645,0.1996927474773726,0.21644355957488406,0.27049337401756574,0.270421085980335,0.25977419967604837,0.2617852419339299,0.20440801657373134,0.2753527912670634,0.2728831303516246,0.2728726732900915,0.2030572091768205,0.25925993307724776,0.2724425066600252,0.2732749363458512,0.2743253348288816,0.16878286510755572,0.23396142001398118,0.2747261015774216,0.23482811279641325,0.2747536740435653,0.23170947059331007,0.15429962292287402,0.25887367287809926,0.274104871148013,0.11951120022302045,0.27130095485295536,0.25619002456188805,0.2564884650687014,0.26605818213780663,0.2171736999098067,0.27448302119340645,0.23711718139235294,0.24327086943323337,0.2727245764547736,0.26789504692632754,0.2648042114659666,0.2753937199590002,0.2661596614125229,0.22074623081434847,0.26497398052562154,0.2444649559021567,0.2754165026390628,0.2690971815239174,0.2754010230254369,0.2740261828972239,0.25051029794222446,0.27311435937055323,0.2700676923550244,0.2756398371255489,0.261568442006202,0.2713916825647627,0.27553947772225595,0.24780035773993242,0.27519530356440874,0.27507173930357803,0.27171939067002077,0.2525403477702507,0.2611237088776627,0.2740799141016858,0.2657856433063641,0.27406247973084835,0.25804118195853964,0.2758570770875929,0.27518947692563,0.2755870147247253,0.2721951128502065,0.2748469839933922,0.27163305211032346,0.25586648018493047,0.26437922622232796,0.2570154932244903,0.2753142603193409,0.25527193132333037,0.2752229403590137,0.2732331095072566,0.27444448853757153,0.2689361026529791,0.27546018361283353,0.2742675285955698,0.26958665871437587,0.272745670312676,0.27563111877891633,0.27515919542303874,0.2685704378605663,0.272383651388317,0.2758575550223351,0.2738329901406071,0.26357498897469667,0.2743634704046338,0.2703828543758351,0.2623715880834047,0.2705086513419706,0.27332885714157856,0.2745911736625377,0.2754202948537969,0.2754821179308886,0.27067421343672043,0.2609832340575094,0.2737692844129202,0.2757596594646152,0.2670430583240422,0.274162957644813,0.2755764089174471,0.27558899847354307,0.2761653571343395,0.27171490502898726,0.2754479977966109,0.2745574515504217,0.2653140563389379,0.2756264968509779,0.25371649604186886,0.2584645625961547,0.2541369144298193,0.2756167938662184,0.2741353414908636,0.27568445770452743,0.2678676477857052,0.2752460485116356,0.2758958939712316,0.2750100460187329,0.26968817236389137,0.2714881249365153,0.27224443133309945,0.27553495080761037,0.2752267718646466,0.27499781292619196,0.2642179737965018,0.2738838994942113,0.27575390079868534,0.27611960956026815,0.2725070557767852,0.2573955827845486,0.267855359572019,0.2757333414018407,0.2758461994895593,0.2749804405129783,0.27414442453114574,0.27588518196542217,0.2751538411828332,0.2715234279341014,0.2701855338985229,0.275579131233436,0.264886761353149,0.2758374957898714,0.2747051414323189,0.2731925620749127,0.2752258014683577,0.27574439938729495,0.2747788429750811,0.27319943951496467,0.2667383892319807,0.2752598202037124,0.2733629446883761,0.2753838671592148,0.2757198655000756,0.272578164581731,0.2752177669052978,0.2743379676814186,0.2713941169869145,0.2695219319372171,0.2559294536035212,0.2737656445459067,0.27486223463962633,0.27533497588681843,0.27591611859961584,0.2735012784327005,0.27564113675815477,0.2747968666663873,0.27171319053189386,0.27447687959120454,0.2754703290073304,0.26668592186435647,0.2610038054937348,0.27589083443292994,0.27600378564895095,0.27223550991974604,0.2759651535229618,0.2757723963844525,0.2746244272671376,0.2749651742871331,0.2698686647990896,0.27534294279250565,0.2732586846204732,0.27578103534493514,0.27266473879351033,0.2756702465991658,0.27332359875687806,0.2730093373342931,0.275620933040087,0.16686174809275442,0.270249995390426,0.2565212710973238,0.27256337662786717,0.2755709937263469,0.27547445679930815,0.27517452121521463,0.27573263353943045,0.27464486127847565,0.2741286796084413,0.2695419236941427,0.2741708316874167,0.2751836553836632,0.27201458088762376,0.27543027074374454,0.27577372935666367,0.27481344884015596,0.27408193051759805,0.2752327707120977,0.2676040014855707,0.27500901584130544,0.2735961145388535,0.27393939888379154,0.2754518619206572,0.27531239367789534,0.2756821230019645,0.2749691896267143,0.273399593515185,0.18131587626290252,0.27107356163793556,0.27349827818815625,0.27404306280894675,0.27567116973020495,0.27547878205627657,0.27609558039209503,0.2749845035435648,0.27540249600126,0.2718802018628478,0.26415137276465056,0.25583478347523997,0.27572056372944437,0.2755801176610853,0.2656869012912718],\"type\":\"scatter\",\"xaxis\":\"x4\",\"yaxis\":\"y4\"}],                        {\"template\":{\"data\":{\"histogram2dcontour\":[{\"type\":\"histogram2dcontour\",\"colorbar\":{\"outlinewidth\":0,\"ticks\":\"\"},\"colorscale\":[[0.0,\"#0d0887\"],[0.1111111111111111,\"#46039f\"],[0.2222222222222222,\"#7201a8\"],[0.3333333333333333,\"#9c179e\"],[0.4444444444444444,\"#bd3786\"],[0.5555555555555556,\"#d8576b\"],[0.6666666666666666,\"#ed7953\"],[0.7777777777777778,\"#fb9f3a\"],[0.8888888888888888,\"#fdca26\"],[1.0,\"#f0f921\"]]}],\"choropleth\":[{\"type\":\"choropleth\",\"colorbar\":{\"outlinewidth\":0,\"ticks\":\"\"}}],\"histogram2d\":[{\"type\":\"histogram2d\",\"colorbar\":{\"outlinewidth\":0,\"ticks\":\"\"},\"colorscale\":[[0.0,\"#0d0887\"],[0.1111111111111111,\"#46039f\"],[0.2222222222222222,\"#7201a8\"],[0.3333333333333333,\"#9c179e\"],[0.4444444444444444,\"#bd3786\"],[0.5555555555555556,\"#d8576b\"],[0.6666666666666666,\"#ed7953\"],[0.7777777777777778,\"#fb9f3a\"],[0.8888888888888888,\"#fdca26\"],[1.0,\"#f0f921\"]]}],\"heatmap\":[{\"type\":\"heatmap\",\"colorbar\":{\"outlinewidth\":0,\"ticks\":\"\"},\"colorscale\":[[0.0,\"#0d0887\"],[0.1111111111111111,\"#46039f\"],[0.2222222222222222,\"#7201a8\"],[0.3333333333333333,\"#9c179e\"],[0.4444444444444444,\"#bd3786\"],[0.5555555555555556,\"#d8576b\"],[0.6666666666666666,\"#ed7953\"],[0.7777777777777778,\"#fb9f3a\"],[0.8888888888888888,\"#fdca26\"],[1.0,\"#f0f921\"]]}],\"heatmapgl\":[{\"type\":\"heatmapgl\",\"colorbar\":{\"outlinewidth\":0,\"ticks\":\"\"},\"colorscale\":[[0.0,\"#0d0887\"],[0.1111111111111111,\"#46039f\"],[0.2222222222222222,\"#7201a8\"],[0.3333333333333333,\"#9c179e\"],[0.4444444444444444,\"#bd3786\"],[0.5555555555555556,\"#d8576b\"],[0.6666666666666666,\"#ed7953\"],[0.7777777777777778,\"#fb9f3a\"],[0.8888888888888888,\"#fdca26\"],[1.0,\"#f0f921\"]]}],\"contourcarpet\":[{\"type\":\"contourcarpet\",\"colorbar\":{\"outlinewidth\":0,\"ticks\":\"\"}}],\"contour\":[{\"type\":\"contour\",\"colorbar\":{\"outlinewidth\":0,\"ticks\":\"\"},\"colorscale\":[[0.0,\"#0d0887\"],[0.1111111111111111,\"#46039f\"],[0.2222222222222222,\"#7201a8\"],[0.3333333333333333,\"#9c179e\"],[0.4444444444444444,\"#bd3786\"],[0.5555555555555556,\"#d8576b\"],[0.6666666666666666,\"#ed7953\"],[0.7777777777777778,\"#fb9f3a\"],[0.8888888888888888,\"#fdca26\"],[1.0,\"#f0f921\"]]}],\"surface\":[{\"type\":\"surface\",\"colorbar\":{\"outlinewidth\":0,\"ticks\":\"\"},\"colorscale\":[[0.0,\"#0d0887\"],[0.1111111111111111,\"#46039f\"],[0.2222222222222222,\"#7201a8\"],[0.3333333333333333,\"#9c179e\"],[0.4444444444444444,\"#bd3786\"],[0.5555555555555556,\"#d8576b\"],[0.6666666666666666,\"#ed7953\"],[0.7777777777777778,\"#fb9f3a\"],[0.8888888888888888,\"#fdca26\"],[1.0,\"#f0f921\"]]}],\"mesh3d\":[{\"type\":\"mesh3d\",\"colorbar\":{\"outlinewidth\":0,\"ticks\":\"\"}}],\"scatter\":[{\"fillpattern\":{\"fillmode\":\"overlay\",\"size\":10,\"solidity\":0.2},\"type\":\"scatter\"}],\"parcoords\":[{\"type\":\"parcoords\",\"line\":{\"colorbar\":{\"outlinewidth\":0,\"ticks\":\"\"}}}],\"scatterpolargl\":[{\"type\":\"scatterpolargl\",\"marker\":{\"colorbar\":{\"outlinewidth\":0,\"ticks\":\"\"}}}],\"bar\":[{\"error_x\":{\"color\":\"#2a3f5f\"},\"error_y\":{\"color\":\"#2a3f5f\"},\"marker\":{\"line\":{\"color\":\"#E5ECF6\",\"width\":0.5},\"pattern\":{\"fillmode\":\"overlay\",\"size\":10,\"solidity\":0.2}},\"type\":\"bar\"}],\"scattergeo\":[{\"type\":\"scattergeo\",\"marker\":{\"colorbar\":{\"outlinewidth\":0,\"ticks\":\"\"}}}],\"scatterpolar\":[{\"type\":\"scatterpolar\",\"marker\":{\"colorbar\":{\"outlinewidth\":0,\"ticks\":\"\"}}}],\"histogram\":[{\"marker\":{\"pattern\":{\"fillmode\":\"overlay\",\"size\":10,\"solidity\":0.2}},\"type\":\"histogram\"}],\"scattergl\":[{\"type\":\"scattergl\",\"marker\":{\"colorbar\":{\"outlinewidth\":0,\"ticks\":\"\"}}}],\"scatter3d\":[{\"type\":\"scatter3d\",\"line\":{\"colorbar\":{\"outlinewidth\":0,\"ticks\":\"\"}},\"marker\":{\"colorbar\":{\"outlinewidth\":0,\"ticks\":\"\"}}}],\"scattermapbox\":[{\"type\":\"scattermapbox\",\"marker\":{\"colorbar\":{\"outlinewidth\":0,\"ticks\":\"\"}}}],\"scatterternary\":[{\"type\":\"scatterternary\",\"marker\":{\"colorbar\":{\"outlinewidth\":0,\"ticks\":\"\"}}}],\"scattercarpet\":[{\"type\":\"scattercarpet\",\"marker\":{\"colorbar\":{\"outlinewidth\":0,\"ticks\":\"\"}}}],\"carpet\":[{\"aaxis\":{\"endlinecolor\":\"#2a3f5f\",\"gridcolor\":\"white\",\"linecolor\":\"white\",\"minorgridcolor\":\"white\",\"startlinecolor\":\"#2a3f5f\"},\"baxis\":{\"endlinecolor\":\"#2a3f5f\",\"gridcolor\":\"white\",\"linecolor\":\"white\",\"minorgridcolor\":\"white\",\"startlinecolor\":\"#2a3f5f\"},\"type\":\"carpet\"}],\"table\":[{\"cells\":{\"fill\":{\"color\":\"#EBF0F8\"},\"line\":{\"color\":\"white\"}},\"header\":{\"fill\":{\"color\":\"#C8D4E3\"},\"line\":{\"color\":\"white\"}},\"type\":\"table\"}],\"barpolar\":[{\"marker\":{\"line\":{\"color\":\"#E5ECF6\",\"width\":0.5},\"pattern\":{\"fillmode\":\"overlay\",\"size\":10,\"solidity\":0.2}},\"type\":\"barpolar\"}],\"pie\":[{\"automargin\":true,\"type\":\"pie\"}]},\"layout\":{\"autotypenumbers\":\"strict\",\"colorway\":[\"#636efa\",\"#EF553B\",\"#00cc96\",\"#ab63fa\",\"#FFA15A\",\"#19d3f3\",\"#FF6692\",\"#B6E880\",\"#FF97FF\",\"#FECB52\"],\"font\":{\"color\":\"#2a3f5f\"},\"hovermode\":\"closest\",\"hoverlabel\":{\"align\":\"left\"},\"paper_bgcolor\":\"white\",\"plot_bgcolor\":\"#E5ECF6\",\"polar\":{\"bgcolor\":\"#E5ECF6\",\"angularaxis\":{\"gridcolor\":\"white\",\"linecolor\":\"white\",\"ticks\":\"\"},\"radialaxis\":{\"gridcolor\":\"white\",\"linecolor\":\"white\",\"ticks\":\"\"}},\"ternary\":{\"bgcolor\":\"#E5ECF6\",\"aaxis\":{\"gridcolor\":\"white\",\"linecolor\":\"white\",\"ticks\":\"\"},\"baxis\":{\"gridcolor\":\"white\",\"linecolor\":\"white\",\"ticks\":\"\"},\"caxis\":{\"gridcolor\":\"white\",\"linecolor\":\"white\",\"ticks\":\"\"}},\"coloraxis\":{\"colorbar\":{\"outlinewidth\":0,\"ticks\":\"\"}},\"colorscale\":{\"sequential\":[[0.0,\"#0d0887\"],[0.1111111111111111,\"#46039f\"],[0.2222222222222222,\"#7201a8\"],[0.3333333333333333,\"#9c179e\"],[0.4444444444444444,\"#bd3786\"],[0.5555555555555556,\"#d8576b\"],[0.6666666666666666,\"#ed7953\"],[0.7777777777777778,\"#fb9f3a\"],[0.8888888888888888,\"#fdca26\"],[1.0,\"#f0f921\"]],\"sequentialminus\":[[0.0,\"#0d0887\"],[0.1111111111111111,\"#46039f\"],[0.2222222222222222,\"#7201a8\"],[0.3333333333333333,\"#9c179e\"],[0.4444444444444444,\"#bd3786\"],[0.5555555555555556,\"#d8576b\"],[0.6666666666666666,\"#ed7953\"],[0.7777777777777778,\"#fb9f3a\"],[0.8888888888888888,\"#fdca26\"],[1.0,\"#f0f921\"]],\"diverging\":[[0,\"#8e0152\"],[0.1,\"#c51b7d\"],[0.2,\"#de77ae\"],[0.3,\"#f1b6da\"],[0.4,\"#fde0ef\"],[0.5,\"#f7f7f7\"],[0.6,\"#e6f5d0\"],[0.7,\"#b8e186\"],[0.8,\"#7fbc41\"],[0.9,\"#4d9221\"],[1,\"#276419\"]]},\"xaxis\":{\"gridcolor\":\"white\",\"linecolor\":\"white\",\"ticks\":\"\",\"title\":{\"standoff\":15},\"zerolinecolor\":\"white\",\"automargin\":true,\"zerolinewidth\":2},\"yaxis\":{\"gridcolor\":\"white\",\"linecolor\":\"white\",\"ticks\":\"\",\"title\":{\"standoff\":15},\"zerolinecolor\":\"white\",\"automargin\":true,\"zerolinewidth\":2},\"scene\":{\"xaxis\":{\"backgroundcolor\":\"#E5ECF6\",\"gridcolor\":\"white\",\"linecolor\":\"white\",\"showbackground\":true,\"ticks\":\"\",\"zerolinecolor\":\"white\",\"gridwidth\":2},\"yaxis\":{\"backgroundcolor\":\"#E5ECF6\",\"gridcolor\":\"white\",\"linecolor\":\"white\",\"showbackground\":true,\"ticks\":\"\",\"zerolinecolor\":\"white\",\"gridwidth\":2},\"zaxis\":{\"backgroundcolor\":\"#E5ECF6\",\"gridcolor\":\"white\",\"linecolor\":\"white\",\"showbackground\":true,\"ticks\":\"\",\"zerolinecolor\":\"white\",\"gridwidth\":2}},\"shapedefaults\":{\"line\":{\"color\":\"#2a3f5f\"}},\"annotationdefaults\":{\"arrowcolor\":\"#2a3f5f\",\"arrowhead\":0,\"arrowwidth\":1},\"geo\":{\"bgcolor\":\"white\",\"landcolor\":\"#E5ECF6\",\"subunitcolor\":\"white\",\"showland\":true,\"showlakes\":true,\"lakecolor\":\"white\"},\"title\":{\"x\":0.05},\"mapbox\":{\"style\":\"light\"}}},\"xaxis\":{\"anchor\":\"y\",\"domain\":[0.0,0.2125],\"title\":{\"text\":\"alpha\"},\"type\":\"log\"},\"yaxis\":{\"anchor\":\"x\",\"domain\":[0.0,1.0],\"title\":{\"text\":\"Objective Value\"}},\"xaxis2\":{\"anchor\":\"y2\",\"domain\":[0.2625,0.475],\"title\":{\"text\":\"l1_ratio\"},\"type\":\"log\"},\"yaxis2\":{\"anchor\":\"x2\",\"domain\":[0.0,1.0],\"matches\":\"y\",\"showticklabels\":false},\"xaxis3\":{\"anchor\":\"y3\",\"domain\":[0.525,0.7375],\"title\":{\"text\":\"positive_only\"},\"type\":\"category\",\"categoryorder\":\"array\",\"categoryarray\":[true,false]},\"yaxis3\":{\"anchor\":\"x3\",\"domain\":[0.0,1.0],\"matches\":\"y\",\"showticklabels\":false},\"xaxis4\":{\"anchor\":\"y4\",\"domain\":[0.7875,1.0],\"title\":{\"text\":\"topK\"},\"type\":\"log\"},\"yaxis4\":{\"anchor\":\"x4\",\"domain\":[0.0,1.0],\"matches\":\"y\",\"showticklabels\":false},\"title\":{\"text\":\"Slice Plot\"},\"width\":1200},                        {\"responsive\": true}                    ).then(function(){\n",
       "                            \n",
       "var gd = document.getElementById('93150216-e95c-4bf0-8522-e630ecfd935d');\n",
       "var x = new MutationObserver(function (mutations, observer) {{\n",
       "        var display = window.getComputedStyle(gd).display;\n",
       "        if (!display || display === 'none') {{\n",
       "            console.log([gd, 'removed!']);\n",
       "            Plotly.purge(gd);\n",
       "            observer.disconnect();\n",
       "        }}\n",
       "}});\n",
       "\n",
       "// Listen for the removal of the full notebook cells\n",
       "var notebookContainer = gd.closest('#notebook-container');\n",
       "if (notebookContainer) {{\n",
       "    x.observe(notebookContainer, {childList: true});\n",
       "}}\n",
       "\n",
       "// Listen for the clearing of the current output cell\n",
       "var outputEl = gd.closest('.output');\n",
       "if (outputEl) {{\n",
       "    x.observe(outputEl, {childList: true});\n",
       "}}\n",
       "\n",
       "                        })                };                });            </script>        </div>"
      ]
     },
     "metadata": {},
     "output_type": "display_data"
    }
   ],
   "source": [
    "if config['tune_parameters']:\n",
    "    fig = optuna.visualization.plot_slice(study)\n",
    "    fig.show()"
   ]
  },
  {
   "cell_type": "code",
   "execution_count": 19,
   "id": "3bc7dcc1",
   "metadata": {
    "execution": {
     "iopub.execute_input": "2023-12-16T23:24:15.018235Z",
     "iopub.status.busy": "2023-12-16T23:24:15.017806Z",
     "iopub.status.idle": "2023-12-16T23:24:15.885747Z",
     "shell.execute_reply": "2023-12-16T23:24:15.884820Z"
    },
    "papermill": {
     "duration": 0.910873,
     "end_time": "2023-12-16T23:24:15.888264",
     "exception": false,
     "start_time": "2023-12-16T23:24:14.977391",
     "status": "completed"
    },
    "tags": []
   },
   "outputs": [],
   "source": [
    "if config['tune_parameters']:\n",
    "    with open('/kaggle/working/best_params_slim_recall@50.json', 'w') as params_file:\n",
    "        json.dump(study.best_params, params_file)\n",
    "        \n",
    "    if config['save_github']:\n",
    "        upload_file(\n",
    "            '/kaggle/working/best_params_slim_recall@50.json', \n",
    "            'tuning_results/best_params_slim_recall@50.json', \n",
    "            'SLIM Elastic Net tuning results with recall@50(from kaggle notebook)'\n",
    "        )\n",
    "elif config['copy_prev_best_params']:\n",
    "    shutil.copyfile(\n",
    "        '/kaggle/working/Recsys_Challenge_2023/tuning_results/best_params_slim_recall@50.json', \n",
    "        '/kaggle/working/best_params_slim_recall@50.json'\n",
    "    )"
   ]
  },
  {
   "cell_type": "code",
   "execution_count": 20,
   "id": "643964b0",
   "metadata": {
    "execution": {
     "iopub.execute_input": "2023-12-16T23:24:15.968483Z",
     "iopub.status.busy": "2023-12-16T23:24:15.968072Z",
     "iopub.status.idle": "2023-12-16T23:24:17.420275Z",
     "shell.execute_reply": "2023-12-16T23:24:17.419080Z"
    },
    "papermill": {
     "duration": 1.495695,
     "end_time": "2023-12-16T23:24:17.422847",
     "exception": false,
     "start_time": "2023-12-16T23:24:15.927152",
     "status": "completed"
    },
    "tags": []
   },
   "outputs": [],
   "source": [
    "if config['save_github'] and config['tune_parameters']:\n",
    "    upload_file(\n",
    "        config['database_path'], \n",
    "        'tuning_results/tuning_slim_elastic_recall.db',\n",
    "        'Tuning db updated results (from kaggle notebook)'\n",
    "    )"
   ]
  }
 ],
 "metadata": {
  "kaggle": {
   "accelerator": "none",
   "dataSources": [
    {
     "databundleVersionId": 6919098,
     "sourceId": 62803,
     "sourceType": "competition"
    }
   ],
   "dockerImageVersionId": 30587,
   "isGpuEnabled": false,
   "isInternetEnabled": true,
   "language": "python",
   "sourceType": "notebook"
  },
  "kernelspec": {
   "display_name": "Python 3",
   "language": "python",
   "name": "python3"
  },
  "language_info": {
   "codemirror_mode": {
    "name": "ipython",
    "version": 3
   },
   "file_extension": ".py",
   "mimetype": "text/x-python",
   "name": "python",
   "nbconvert_exporter": "python",
   "pygments_lexer": "ipython3",
   "version": "3.10.12"
  },
  "papermill": {
   "default_parameters": {},
   "duration": 25899.673488,
   "end_time": "2023-12-16T23:24:19.535073",
   "environment_variables": {},
   "exception": null,
   "input_path": "__notebook__.ipynb",
   "output_path": "__notebook__.ipynb",
   "parameters": {},
   "start_time": "2023-12-16T16:12:39.861585",
   "version": "2.4.0"
  }
 },
 "nbformat": 4,
 "nbformat_minor": 5
}
