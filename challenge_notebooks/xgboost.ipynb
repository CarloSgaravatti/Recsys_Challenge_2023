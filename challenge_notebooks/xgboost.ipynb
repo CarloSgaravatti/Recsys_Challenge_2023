{
 "cells": [
  {
   "cell_type": "code",
   "execution_count": 1,
   "id": "ed09db6d",
   "metadata": {
    "_cell_guid": "b1076dfc-b9ad-4769-8c92-a6c4dae69d19",
    "_uuid": "8f2839f25d086af736a60e9eeb907d3b93b6e0e5",
    "execution": {
     "iopub.execute_input": "2023-11-30T23:40:14.792837Z",
     "iopub.status.busy": "2023-11-30T23:40:14.792334Z",
     "iopub.status.idle": "2023-11-30T23:40:18.725981Z",
     "shell.execute_reply": "2023-11-30T23:40:18.724722Z"
    },
    "papermill": {
     "duration": 3.956697,
     "end_time": "2023-11-30T23:40:18.728929",
     "exception": false,
     "start_time": "2023-11-30T23:40:14.772232",
     "status": "completed"
    },
    "tags": []
   },
   "outputs": [
    {
     "name": "stdout",
     "output_type": "stream",
     "text": [
      "Cloning into 'Recsys_Challenge_2023'...\r\n",
      "remote: Enumerating objects: 1184, done.\u001b[K\r\n",
      "remote: Counting objects: 100% (33/33), done.\u001b[K\r\n",
      "remote: Compressing objects: 100% (30/30), done.\u001b[K\r\n",
      "remote: Total 1184 (delta 22), reused 5 (delta 3), pack-reused 1151\u001b[K\r\n",
      "Receiving objects: 100% (1184/1184), 15.01 MiB | 14.87 MiB/s, done.\r\n",
      "Resolving deltas: 100% (852/852), done.\r\n"
     ]
    }
   ],
   "source": [
    "from kaggle_secrets import UserSecretsClient\n",
    "secret_label = \"Token\"\n",
    "token = UserSecretsClient().get_secret(secret_label)\n",
    "\n",
    "! git clone https://{token}@github.com/CarloSgaravatti/Recsys_Challenge_2023.git"
   ]
  },
  {
   "cell_type": "code",
   "execution_count": 2,
   "id": "c88091af",
   "metadata": {
    "execution": {
     "iopub.execute_input": "2023-11-30T23:40:18.767957Z",
     "iopub.status.busy": "2023-11-30T23:40:18.767541Z",
     "iopub.status.idle": "2023-11-30T23:40:34.785509Z",
     "shell.execute_reply": "2023-11-30T23:40:34.784219Z"
    },
    "papermill": {
     "duration": 16.041007,
     "end_time": "2023-11-30T23:40:34.788535",
     "exception": false,
     "start_time": "2023-11-30T23:40:18.747528",
     "status": "completed"
    },
    "tags": []
   },
   "outputs": [
    {
     "name": "stdout",
     "output_type": "stream",
     "text": [
      "Collecting PyGithub\r\n",
      "  Obtaining dependency information for PyGithub from https://files.pythonhosted.org/packages/be/04/810d131be173cba445d3658a45512b2b2b3d0960d52c4a300d6ec5e00f52/PyGithub-2.1.1-py3-none-any.whl.metadata\r\n",
      "  Downloading PyGithub-2.1.1-py3-none-any.whl.metadata (2.2 kB)\r\n",
      "Requirement already satisfied: requests in /opt/conda/lib/python3.10/site-packages (2.31.0)\r\n",
      "Collecting pynacl>=1.4.0 (from PyGithub)\r\n",
      "  Downloading PyNaCl-1.5.0-cp36-abi3-manylinux_2_17_x86_64.manylinux2014_x86_64.manylinux_2_24_x86_64.whl (856 kB)\r\n",
      "\u001b[2K     \u001b[90m━━━━━━━━━━━━━━━━━━━━━━━━━━━━━━━━━━━━━━\u001b[0m \u001b[32m856.7/856.7 kB\u001b[0m \u001b[31m12.5 MB/s\u001b[0m eta \u001b[36m0:00:00\u001b[0m\r\n",
      "\u001b[?25hRequirement already satisfied: python-dateutil in /opt/conda/lib/python3.10/site-packages (from PyGithub) (2.8.2)\r\n",
      "Requirement already satisfied: pyjwt[crypto]>=2.4.0 in /opt/conda/lib/python3.10/site-packages (from PyGithub) (2.8.0)\r\n",
      "Requirement already satisfied: typing-extensions>=4.0.0 in /opt/conda/lib/python3.10/site-packages (from PyGithub) (4.5.0)\r\n",
      "Requirement already satisfied: urllib3>=1.26.0 in /opt/conda/lib/python3.10/site-packages (from PyGithub) (1.26.15)\r\n",
      "Requirement already satisfied: Deprecated in /opt/conda/lib/python3.10/site-packages (from PyGithub) (1.2.14)\r\n",
      "Requirement already satisfied: charset-normalizer<4,>=2 in /opt/conda/lib/python3.10/site-packages (from requests) (3.2.0)\r\n",
      "Requirement already satisfied: idna<4,>=2.5 in /opt/conda/lib/python3.10/site-packages (from requests) (3.4)\r\n",
      "Requirement already satisfied: certifi>=2017.4.17 in /opt/conda/lib/python3.10/site-packages (from requests) (2023.7.22)\r\n",
      "Requirement already satisfied: cryptography>=3.4.0 in /opt/conda/lib/python3.10/site-packages (from pyjwt[crypto]>=2.4.0->PyGithub) (41.0.3)\r\n",
      "Requirement already satisfied: cffi>=1.4.1 in /opt/conda/lib/python3.10/site-packages (from pynacl>=1.4.0->PyGithub) (1.15.1)\r\n",
      "Requirement already satisfied: wrapt<2,>=1.10 in /opt/conda/lib/python3.10/site-packages (from Deprecated->PyGithub) (1.15.0)\r\n",
      "Requirement already satisfied: six>=1.5 in /opt/conda/lib/python3.10/site-packages (from python-dateutil->PyGithub) (1.16.0)\r\n",
      "Requirement already satisfied: pycparser in /opt/conda/lib/python3.10/site-packages (from cffi>=1.4.1->pynacl>=1.4.0->PyGithub) (2.21)\r\n",
      "Downloading PyGithub-2.1.1-py3-none-any.whl (302 kB)\r\n",
      "\u001b[2K   \u001b[90m━━━━━━━━━━━━━━━━━━━━━━━━━━━━━━━━━━━━━━━━\u001b[0m \u001b[32m302.9/302.9 kB\u001b[0m \u001b[31m17.9 MB/s\u001b[0m eta \u001b[36m0:00:00\u001b[0m\r\n",
      "\u001b[?25hInstalling collected packages: pynacl, PyGithub\r\n",
      "Successfully installed PyGithub-2.1.1 pynacl-1.5.0\r\n"
     ]
    }
   ],
   "source": [
    "! pip install PyGithub requests"
   ]
  },
  {
   "cell_type": "code",
   "execution_count": 3,
   "id": "ebf4ead1",
   "metadata": {
    "_kg_hide-output": true,
    "execution": {
     "iopub.execute_input": "2023-11-30T23:40:34.830256Z",
     "iopub.status.busy": "2023-11-30T23:40:34.829838Z",
     "iopub.status.idle": "2023-11-30T23:43:10.076164Z",
     "shell.execute_reply": "2023-11-30T23:43:10.074630Z"
    },
    "papermill": {
     "duration": 155.270678,
     "end_time": "2023-11-30T23:43:10.078844",
     "exception": false,
     "start_time": "2023-11-30T23:40:34.808166",
     "status": "completed"
    },
    "scrolled": true,
    "tags": []
   },
   "outputs": [
    {
     "name": "stdout",
     "output_type": "stream",
     "text": [
      "run_compile_all_cython: Found 10 Cython files in 4 folders...\r\n",
      "run_compile_all_cython: All files will be compiled using your current python environment: '/opt/conda/bin/python'\r\n",
      "Compiling [1/10]: MatrixFactorization_Cython_Epoch.pyx... \r\n",
      "In file included from \u001b[01m\u001b[K/opt/conda/lib/python3.10/site-packages/numpy/core/include/numpy/ndarraytypes.h:1940\u001b[m\u001b[K,\r\n",
      "                 from \u001b[01m\u001b[K/opt/conda/lib/python3.10/site-packages/numpy/core/include/numpy/ndarrayobject.h:12\u001b[m\u001b[K,\r\n",
      "                 from \u001b[01m\u001b[K/opt/conda/lib/python3.10/site-packages/numpy/core/include/numpy/arrayobject.h:5\u001b[m\u001b[K,\r\n",
      "                 from \u001b[01m\u001b[KMatrixFactorization_Cython_Epoch.c:1109\u001b[m\u001b[K:\r\n",
      "\u001b[01m\u001b[K/opt/conda/lib/python3.10/site-packages/numpy/core/include/numpy/npy_1_7_deprecated_api.h:17:2:\u001b[m\u001b[K \u001b[01;35m\u001b[Kwarning: \u001b[m\u001b[K#warning \"Using deprecated NumPy API, disable it with \" \"#define NPY_NO_DEPRECATED_API NPY_1_7_API_VERSION\" [\u001b[01;35m\u001b[K-Wcpp\u001b[m\u001b[K]\r\n",
      "   17 | #\u001b[01;35m\u001b[Kwarning\u001b[m\u001b[K \"Using deprecated NumPy API, disable it with \" \\\r\n",
      "      |  \u001b[01;35m\u001b[K^~~~~~~\u001b[m\u001b[K\r\n",
      "\u001b[01m\u001b[KMatrixFactorization_Cython_Epoch.c:\u001b[m\u001b[K In function ‘\u001b[01m\u001b[K__pyx_pf_32MatrixFactorization_Cython_Epoch_32MatrixFactorization_Cython_Epoch_10epochIteration_Cython_ASY_SVD_SGD\u001b[m\u001b[K’:\r\n",
      "\u001b[01m\u001b[KMatrixFactorization_Cython_Epoch.c:25614:9:\u001b[m\u001b[K \u001b[01;35m\u001b[Kwarning: \u001b[m\u001b[K‘\u001b[01m\u001b[K__pyx_v_end_pos_seen_items\u001b[m\u001b[K’ may be used uninitialized in this function [\u001b[01;35m\u001b[K-Wmaybe-uninitialized\u001b[m\u001b[K]\r\n",
      "25614 |         \u001b[01;35m\u001b[Kfor\u001b[m\u001b[K (__pyx_t_21 = __pyx_v_start_pos_seen_items; __pyx_t_21 < __pyx_t_20; __pyx_t_21+=1) {\r\n",
      "      |         \u001b[01;35m\u001b[K^~~\u001b[m\u001b[K\r\n",
      "\u001b[01m\u001b[KMatrixFactorization_Cython_Epoch.c:25614:9:\u001b[m\u001b[K \u001b[01;35m\u001b[Kwarning: \u001b[m\u001b[K‘\u001b[01m\u001b[K__pyx_v_start_pos_seen_items\u001b[m\u001b[K’ may be used uninitialized in this function [\u001b[01;35m\u001b[K-Wmaybe-uninitialized\u001b[m\u001b[K]\r\n",
      "/opt/conda/lib/python3.10/site-packages/Cython/Compiler/Main.py:381: FutureWarning: Cython directive 'language_level' not set, using '3str' for now (Py3). This has changed from earlier releases! File: /kaggle/working/Recsys_Challenge_2023/Recommenders/MatrixFactorization/Cython/MatrixFactorization_Cython_Epoch.pyx\r\n",
      "  tree = Parsing.p_module(s, pxd, full_module_name)\r\n",
      "Compiling [1/10]: MatrixFactorization_Cython_Epoch.pyx... PASS\r\n",
      "\r\n",
      "Compiling [2/10]: MatrixFactorizationImpressions_Cython_Epoch.pyx... \r\n",
      "In file included from \u001b[01m\u001b[K/opt/conda/lib/python3.10/site-packages/numpy/core/include/numpy/ndarraytypes.h:1940\u001b[m\u001b[K,\r\n",
      "                 from \u001b[01m\u001b[K/opt/conda/lib/python3.10/site-packages/numpy/core/include/numpy/ndarrayobject.h:12\u001b[m\u001b[K,\r\n",
      "                 from \u001b[01m\u001b[K/opt/conda/lib/python3.10/site-packages/numpy/core/include/numpy/arrayobject.h:5\u001b[m\u001b[K,\r\n",
      "                 from \u001b[01m\u001b[KMatrixFactorizationImpressions_Cython_Epoch.c:1109\u001b[m\u001b[K:\r\n",
      "\u001b[01m\u001b[K/opt/conda/lib/python3.10/site-packages/numpy/core/include/numpy/npy_1_7_deprecated_api.h:17:2:\u001b[m\u001b[K \u001b[01;35m\u001b[Kwarning: \u001b[m\u001b[K#warning \"Using deprecated NumPy API, disable it with \" \"#define NPY_NO_DEPRECATED_API NPY_1_7_API_VERSION\" [\u001b[01;35m\u001b[K-Wcpp\u001b[m\u001b[K]\r\n",
      "   17 | #\u001b[01;35m\u001b[Kwarning\u001b[m\u001b[K \"Using deprecated NumPy API, disable it with \" \\\r\n",
      "      |  \u001b[01;35m\u001b[K^~~~~~~\u001b[m\u001b[K\r\n",
      "\u001b[01m\u001b[KMatrixFactorizationImpressions_Cython_Epoch.c:\u001b[m\u001b[K In function ‘\u001b[01m\u001b[K__pyx_f_43MatrixFactorizationImpressions_Cython_Epoch_32MatrixFactorization_Cython_Epoch_sampleBPR_Cython\u001b[m\u001b[K’:\r\n",
      "\u001b[01m\u001b[KMatrixFactorizationImpressions_Cython_Epoch.c:29664:17:\u001b[m\u001b[K \u001b[01;35m\u001b[Kwarning: \u001b[m\u001b[K‘\u001b[01m\u001b[K__pyx_v_start_pos_impression_items\u001b[m\u001b[K’ may be used uninitialized in this function [\u001b[01;35m\u001b[K-Wmaybe-uninitialized\u001b[m\u001b[K]\r\n",
      "29664 |       \u001b[01;35m\u001b[K__pyx_t_4 = (__pyx_v_start_pos_impression_items + __pyx_v_index)\u001b[m\u001b[K;\r\n",
      "      |       \u001b[01;35m\u001b[K~~~~~~~~~~^~~~~~~~~~~~~~~~~~~~~~~~~~~~~~~~~~~~~~~~~~~~~~~~~~~~~~\u001b[m\u001b[K\r\n",
      "\u001b[01m\u001b[KMatrixFactorizationImpressions_Cython_Epoch.c:\u001b[m\u001b[K In function ‘\u001b[01m\u001b[K__pyx_pf_43MatrixFactorizationImpressions_Cython_Epoch_32MatrixFactorization_Cython_Epoch_10epochIteration_Cython_ASY_SVD_SGD\u001b[m\u001b[K’:\r\n",
      "\u001b[01m\u001b[KMatrixFactorizationImpressions_Cython_Epoch.c:25474:7:\u001b[m\u001b[K \u001b[01;35m\u001b[Kwarning: \u001b[m\u001b[K‘\u001b[01m\u001b[K__pyx_v_end_pos_seen_items\u001b[m\u001b[K’ may be used uninitialized in this function [\u001b[01;35m\u001b[K-Wmaybe-uninitialized\u001b[m\u001b[K]\r\n",
      "25474 |       \u001b[01;35m\u001b[Kfor\u001b[m\u001b[K (__pyx_t_21 = __pyx_v_start_pos_seen_items; __pyx_t_21 < __pyx_t_20; __pyx_t_21+=1) {\r\n",
      "      |       \u001b[01;35m\u001b[K^~~\u001b[m\u001b[K\r\n",
      "\u001b[01m\u001b[KMatrixFactorizationImpressions_Cython_Epoch.c:25474:7:\u001b[m\u001b[K \u001b[01;35m\u001b[Kwarning: \u001b[m\u001b[K‘\u001b[01m\u001b[K__pyx_v_start_pos_seen_items\u001b[m\u001b[K’ may be used uninitialized in this function [\u001b[01;35m\u001b[K-Wmaybe-uninitialized\u001b[m\u001b[K]\r\n",
      "/opt/conda/lib/python3.10/site-packages/Cython/Compiler/Main.py:381: FutureWarning: Cython directive 'language_level' not set, using '3str' for now (Py3). This has changed from earlier releases! File: /kaggle/working/Recsys_Challenge_2023/Recommenders/MatrixFactorization/Cython/MatrixFactorizationImpressions_Cython_Epoch.pyx\r\n",
      "  tree = Parsing.p_module(s, pxd, full_module_name)\r\n",
      "Compiling [2/10]: MatrixFactorizationImpressions_Cython_Epoch.pyx... PASS\r\n",
      "\r\n",
      "Compiling [3/10]: Compute_Similarity_Cython.pyx... \r\n",
      "warning: Compute_Similarity_Cython.pyx:21:0: The 'IF' statement is deprecated and will be removed in a future Cython version. Consider using runtime conditions or C macros instead. See https://github.com/cython/cython/issues/4310\r\n",
      "warning: Compute_Similarity_Cython.pyx:22:4: The 'DEF' statement is deprecated and will be removed in a future Cython version. Consider using global variables, constants, and in-place literals instead. See https://github.com/cython/cython/issues/4310\r\n",
      "warning: Compute_Similarity_Cython.pyx:24:4: The 'DEF' statement is deprecated and will be removed in a future Cython version. Consider using global variables, constants, and in-place literals instead. See https://github.com/cython/cython/issues/4310\r\n",
      "warning: Compute_Similarity_Cython.pyx:26:4: The 'DEF' statement is deprecated and will be removed in a future Cython version. Consider using global variables, constants, and in-place literals instead. See https://github.com/cython/cython/issues/4310\r\n",
      "In file included from \u001b[01m\u001b[K/opt/conda/lib/python3.10/site-packages/numpy/core/include/numpy/ndarraytypes.h:1940\u001b[m\u001b[K,\r\n",
      "                 from \u001b[01m\u001b[K/opt/conda/lib/python3.10/site-packages/numpy/core/include/numpy/ndarrayobject.h:12\u001b[m\u001b[K,\r\n",
      "                 from \u001b[01m\u001b[K/opt/conda/lib/python3.10/site-packages/numpy/core/include/numpy/arrayobject.h:5\u001b[m\u001b[K,\r\n",
      "                 from \u001b[01m\u001b[KCompute_Similarity_Cython.c:1109\u001b[m\u001b[K:\r\n",
      "\u001b[01m\u001b[K/opt/conda/lib/python3.10/site-packages/numpy/core/include/numpy/npy_1_7_deprecated_api.h:17:2:\u001b[m\u001b[K \u001b[01;35m\u001b[Kwarning: \u001b[m\u001b[K#warning \"Using deprecated NumPy API, disable it with \" \"#define NPY_NO_DEPRECATED_API NPY_1_7_API_VERSION\" [\u001b[01;35m\u001b[K-Wcpp\u001b[m\u001b[K]\r\n",
      "   17 | #\u001b[01;35m\u001b[Kwarning\u001b[m\u001b[K \"Using deprecated NumPy API, disable it with \" \\\r\n",
      "      |  \u001b[01;35m\u001b[K^~~~~~~\u001b[m\u001b[K\r\n",
      "/opt/conda/lib/python3.10/site-packages/Cython/Compiler/Main.py:381: FutureWarning: Cython directive 'language_level' not set, using '3str' for now (Py3). This has changed from earlier releases! File: /kaggle/working/Recsys_Challenge_2023/Recommenders/Similarity/Cython/Compute_Similarity_Cython.pyx\r\n",
      "  tree = Parsing.p_module(s, pxd, full_module_name)\r\n",
      "warning: Compute_Similarity_Cython.pyx:21:0: The 'IF' statement is deprecated and will be removed in a future Cython version. Consider using runtime conditions or C macros instead. See https://github.com/cython/cython/issues/4310\r\n",
      "warning: Compute_Similarity_Cython.pyx:22:4: The 'DEF' statement is deprecated and will be removed in a future Cython version. Consider using global variables, constants, and in-place literals instead. See https://github.com/cython/cython/issues/4310\r\n",
      "warning: Compute_Similarity_Cython.pyx:24:4: The 'DEF' statement is deprecated and will be removed in a future Cython version. Consider using global variables, constants, and in-place literals instead. See https://github.com/cython/cython/issues/4310\r\n",
      "warning: Compute_Similarity_Cython.pyx:26:4: The 'DEF' statement is deprecated and will be removed in a future Cython version. Consider using global variables, constants, and in-place literals instead. See https://github.com/cython/cython/issues/4310\r\n",
      "Compiling [3/10]: Compute_Similarity_Cython.pyx... PASS\r\n",
      "\r\n",
      "Compiling [4/10]: Triangular_Matrix.pyx... \r\n",
      "warning: Triangular_Matrix.pyx:22:0: The 'IF' statement is deprecated and will be removed in a future Cython version. Consider using runtime conditions or C macros instead. See https://github.com/cython/cython/issues/4310\r\n",
      "warning: Triangular_Matrix.pyx:23:4: The 'DEF' statement is deprecated and will be removed in a future Cython version. Consider using global variables, constants, and in-place literals instead. See https://github.com/cython/cython/issues/4310\r\n",
      "warning: Triangular_Matrix.pyx:25:4: The 'DEF' statement is deprecated and will be removed in a future Cython version. Consider using global variables, constants, and in-place literals instead. See https://github.com/cython/cython/issues/4310\r\n",
      "warning: Triangular_Matrix.pyx:27:4: The 'DEF' statement is deprecated and will be removed in a future Cython version. Consider using global variables, constants, and in-place literals instead. See https://github.com/cython/cython/issues/4310\r\n",
      "In file included from \u001b[01m\u001b[K/opt/conda/lib/python3.10/site-packages/numpy/core/include/numpy/ndarraytypes.h:1940\u001b[m\u001b[K,\r\n",
      "                 from \u001b[01m\u001b[K/opt/conda/lib/python3.10/site-packages/numpy/core/include/numpy/ndarrayobject.h:12\u001b[m\u001b[K,\r\n",
      "                 from \u001b[01m\u001b[K/opt/conda/lib/python3.10/site-packages/numpy/core/include/numpy/arrayobject.h:5\u001b[m\u001b[K,\r\n",
      "                 from \u001b[01m\u001b[KTriangular_Matrix.c:1109\u001b[m\u001b[K:\r\n",
      "\u001b[01m\u001b[K/opt/conda/lib/python3.10/site-packages/numpy/core/include/numpy/npy_1_7_deprecated_api.h:17:2:\u001b[m\u001b[K \u001b[01;35m\u001b[Kwarning: \u001b[m\u001b[K#warning \"Using deprecated NumPy API, disable it with \" \"#define NPY_NO_DEPRECATED_API NPY_1_7_API_VERSION\" [\u001b[01;35m\u001b[K-Wcpp\u001b[m\u001b[K]\r\n",
      "   17 | #\u001b[01;35m\u001b[Kwarning\u001b[m\u001b[K \"Using deprecated NumPy API, disable it with \" \\\r\n",
      "      |  \u001b[01;35m\u001b[K^~~~~~~\u001b[m\u001b[K\r\n",
      "/opt/conda/lib/python3.10/site-packages/Cython/Compiler/Main.py:381: FutureWarning: Cython directive 'language_level' not set, using '3str' for now (Py3). This has changed from earlier releases! File: /kaggle/working/Recsys_Challenge_2023/Recommenders/SLIM/Cython/Triangular_Matrix.pyx\r\n",
      "  tree = Parsing.p_module(s, pxd, full_module_name)\r\n",
      "warning: Triangular_Matrix.pyx:22:0: The 'IF' statement is deprecated and will be removed in a future Cython version. Consider using runtime conditions or C macros instead. See https://github.com/cython/cython/issues/4310\r\n",
      "warning: Triangular_Matrix.pyx:23:4: The 'DEF' statement is deprecated and will be removed in a future Cython version. Consider using global variables, constants, and in-place literals instead. See https://github.com/cython/cython/issues/4310\r\n",
      "warning: Triangular_Matrix.pyx:25:4: The 'DEF' statement is deprecated and will be removed in a future Cython version. Consider using global variables, constants, and in-place literals instead. See https://github.com/cython/cython/issues/4310\r\n",
      "warning: Triangular_Matrix.pyx:27:4: The 'DEF' statement is deprecated and will be removed in a future Cython version. Consider using global variables, constants, and in-place literals instead. See https://github.com/cython/cython/issues/4310\r\n",
      "Compiling [4/10]: Triangular_Matrix.pyx... PASS\r\n",
      "\r\n",
      "Compiling [5/10]: Sparse_Matrix_Tree_CSR.pyx... \r\n",
      "warning: Sparse_Matrix_Tree_CSR.pyx:132:34: Non-trivial type declarators in shared declaration (e.g. mix of pointers and values). Each pointer declaration should be on its own line.\r\n",
      "warning: Sparse_Matrix_Tree_CSR.pyx:132:66: Non-trivial type declarators in shared declaration (e.g. mix of pointers and values). Each pointer declaration should be on its own line.\r\n",
      "warning: Sparse_Matrix_Tree_CSR.pyx:343:35: Non-trivial type declarators in shared declaration (e.g. mix of pointers and values). Each pointer declaration should be on its own line.\r\n",
      "warning: Sparse_Matrix_Tree_CSR.pyx:343:52: Non-trivial type declarators in shared declaration (e.g. mix of pointers and values). Each pointer declaration should be on its own line.\r\n",
      "warning: Sparse_Matrix_Tree_CSR.pyx:442:35: Non-trivial type declarators in shared declaration (e.g. mix of pointers and values). Each pointer declaration should be on its own line.\r\n",
      "warning: Sparse_Matrix_Tree_CSR.pyx:442:53: Non-trivial type declarators in shared declaration (e.g. mix of pointers and values). Each pointer declaration should be on its own line.\r\n",
      "warning: Sparse_Matrix_Tree_CSR.pyx:442:69: Non-trivial type declarators in shared declaration (e.g. mix of pointers and values). Each pointer declaration should be on its own line.\r\n",
      "warning: Sparse_Matrix_Tree_CSR.pyx:577:35: Non-trivial type declarators in shared declaration (e.g. mix of pointers and values). Each pointer declaration should be on its own line.\r\n",
      "warning: Sparse_Matrix_Tree_CSR.pyx:577:42: Non-trivial type declarators in shared declaration (e.g. mix of pointers and values). Each pointer declaration should be on its own line.\r\n",
      "warning: Sparse_Matrix_Tree_CSR.pyx:578:35: Non-trivial type declarators in shared declaration (e.g. mix of pointers and values). Each pointer declaration should be on its own line.\r\n",
      "warning: Sparse_Matrix_Tree_CSR.pyx:578:53: Non-trivial type declarators in shared declaration (e.g. mix of pointers and values). Each pointer declaration should be on its own line.\r\n",
      "\r\n",
      "Error compiling Cython file:\r\n",
      "------------------------------------------------------------\r\n",
      "...\r\n",
      "            vector_pointer_to_list_elements[index].head = current_element\r\n",
      "            current_element = current_element.higher\r\n",
      "\r\n",
      "\r\n",
      "        # Sort array elements on their data field\r\n",
      "        qsort(vector_pointer_to_list_elements, list_length, sizeof(head_pointer_tree_s), compare_struct_on_data)\r\n",
      "                                                                                         ^\r\n",
      "------------------------------------------------------------\r\n",
      "\r\n",
      "Sparse_Matrix_Tree_CSR.pyx:516:89: Cannot assign type 'int (const void *, const void *) except? -1' to 'int (*)(const_void *, const_void *) noexcept'\r\n",
      "\r\n",
      "Error compiling Cython file:\r\n",
      "------------------------------------------------------------\r\n",
      "...\r\n",
      "        # Sort array elements on their data field\r\n",
      "        qsort(vector_pointer_to_list_elements, list_length, sizeof(head_pointer_tree_s), compare_struct_on_data)\r\n",
      "\r\n",
      "        # Sort only the TopK according to their column field\r\n",
      "        # Sort is from lower to higher, therefore the elements to be considered are from len-topK to len\r\n",
      "        qsort(&vector_pointer_to_list_elements[list_length-TopK], TopK, sizeof(head_pointer_tree_s), compare_struct_on_column)\r\n",
      "                                                                                                     ^\r\n",
      "------------------------------------------------------------\r\n",
      "\r\n",
      "Sparse_Matrix_Tree_CSR.pyx:520:101: Cannot assign type 'int (const void *, const void *) except? -1' to 'int (*)(const_void *, const_void *) noexcept'\r\n",
      "Traceback (most recent call last):\r\n",
      "  File \"/kaggle/working/Recsys_Challenge_2023/CythonCompiler/compile_script.py\", line 48, in <module>\r\n",
      "    setup(\r\n",
      "  File \"/opt/conda/lib/python3.10/site-packages/setuptools/__init__.py\", line 107, in setup\r\n",
      "    return distutils.core.setup(**attrs)\r\n",
      "  File \"/opt/conda/lib/python3.10/site-packages/setuptools/_distutils/core.py\", line 185, in setup\r\n",
      "    return run_commands(dist)\r\n",
      "  File \"/opt/conda/lib/python3.10/site-packages/setuptools/_distutils/core.py\", line 201, in run_commands\r\n",
      "    dist.run_commands()\r\n",
      "  File \"/opt/conda/lib/python3.10/site-packages/setuptools/_distutils/dist.py\", line 969, in run_commands\r\n",
      "    self.run_command(cmd)\r\n",
      "  File \"/opt/conda/lib/python3.10/site-packages/setuptools/dist.py\", line 1233, in run_command\r\n",
      "    super().run_command(command)\r\n",
      "  File \"/opt/conda/lib/python3.10/site-packages/setuptools/_distutils/dist.py\", line 988, in run_command\r\n",
      "    cmd_obj.run()\r\n",
      "  File \"/opt/conda/lib/python3.10/site-packages/setuptools/_distutils/command/build_ext.py\", line 345, in run\r\n",
      "    self.build_extensions()\r\n",
      "  File \"/opt/conda/lib/python3.10/site-packages/setuptools/_distutils/command/build_ext.py\", line 467, in build_extensions\r\n",
      "    self._build_extensions_serial()\r\n",
      "  File \"/opt/conda/lib/python3.10/site-packages/setuptools/_distutils/command/build_ext.py\", line 493, in _build_extensions_serial\r\n",
      "    self.build_extension(ext)\r\n",
      "  File \"/opt/conda/lib/python3.10/site-packages/Cython/Distutils/build_ext.py\", line 122, in build_extension\r\n",
      "    new_ext = cythonize(\r\n",
      "  File \"/opt/conda/lib/python3.10/site-packages/Cython/Build/Dependencies.py\", line 1134, in cythonize\r\n",
      "    cythonize_one(*args)\r\n",
      "  File \"/opt/conda/lib/python3.10/site-packages/Cython/Build/Dependencies.py\", line 1301, in cythonize_one\r\n",
      "    raise CompileError(None, pyx_file)\r\n",
      "Cython.Compiler.Errors.CompileError: Sparse_Matrix_Tree_CSR.pyx\r\n",
      "Traceback (most recent call last):\r\n",
      "  File \"/kaggle/working/Recsys_Challenge_2023/run_compile_all_cython.py\", line 59, in <module>\r\n",
      "    run_compile_subprocess(file_path, [file_name])\r\n",
      "  File \"/kaggle/working/Recsys_Challenge_2023/CythonCompiler/run_compile_subprocess.py\", line 51, in run_compile_subprocess\r\n",
      "    raise exc\r\n",
      "  File \"/kaggle/working/Recsys_Challenge_2023/CythonCompiler/run_compile_subprocess.py\", line 32, in run_compile_subprocess\r\n",
      "    output = subprocess.check_output(' '.join(command),\r\n",
      "  File \"/opt/conda/lib/python3.10/subprocess.py\", line 421, in check_output\r\n",
      "    return run(*popenargs, stdout=PIPE, timeout=timeout, check=True,\r\n",
      "  File \"/opt/conda/lib/python3.10/subprocess.py\", line 526, in run\r\n",
      "    raise CalledProcessError(retcode, process.args,\r\n",
      "subprocess.CalledProcessError: Command '/opt/conda/bin/python /kaggle/working/Recsys_Challenge_2023/CythonCompiler/compile_script.py Sparse_Matrix_Tree_CSR.pyx build_ext --inplace' returned non-zero exit status 1.\r\n",
      "Compiling [5/10]: Sparse_Matrix_Tree_CSR.pyx... FAIL: Command '/opt/conda/bin/python /kaggle/working/Recsys_Challenge_2023/CythonCompiler/compile_script.py Sparse_Matrix_Tree_CSR.pyx build_ext --inplace' returned non-zero exit status 1.\r\n",
      "\r\n",
      "Compiling [6/10]: SLIM_BPR_Cython_Epoch.pyx... \r\n",
      "warning: SLIM_BPR_Cython_Epoch.pyx:24:0: The 'IF' statement is deprecated and will be removed in a future Cython version. Consider using runtime conditions or C macros instead. See https://github.com/cython/cython/issues/4310\r\n",
      "warning: SLIM_BPR_Cython_Epoch.pyx:25:4: The 'DEF' statement is deprecated and will be removed in a future Cython version. Consider using global variables, constants, and in-place literals instead. See https://github.com/cython/cython/issues/4310\r\n",
      "warning: SLIM_BPR_Cython_Epoch.pyx:27:4: The 'DEF' statement is deprecated and will be removed in a future Cython version. Consider using global variables, constants, and in-place literals instead. See https://github.com/cython/cython/issues/4310\r\n",
      "warning: SLIM_BPR_Cython_Epoch.pyx:29:4: The 'DEF' statement is deprecated and will be removed in a future Cython version. Consider using global variables, constants, and in-place literals instead. See https://github.com/cython/cython/issues/4310\r\n",
      "warning: SLIM_BPR_Cython_Epoch.pyx:632:34: Non-trivial type declarators in shared declaration (e.g. mix of pointers and values). Each pointer declaration should be on its own line.\r\n",
      "warning: SLIM_BPR_Cython_Epoch.pyx:632:66: Non-trivial type declarators in shared declaration (e.g. mix of pointers and values). Each pointer declaration should be on its own line.\r\n",
      "warning: SLIM_BPR_Cython_Epoch.pyx:817:35: Non-trivial type declarators in shared declaration (e.g. mix of pointers and values). Each pointer declaration should be on its own line.\r\n",
      "warning: SLIM_BPR_Cython_Epoch.pyx:817:52: Non-trivial type declarators in shared declaration (e.g. mix of pointers and values). Each pointer declaration should be on its own line.\r\n",
      "warning: SLIM_BPR_Cython_Epoch.pyx:916:35: Non-trivial type declarators in shared declaration (e.g. mix of pointers and values). Each pointer declaration should be on its own line.\r\n",
      "warning: SLIM_BPR_Cython_Epoch.pyx:916:53: Non-trivial type declarators in shared declaration (e.g. mix of pointers and values). Each pointer declaration should be on its own line.\r\n",
      "warning: SLIM_BPR_Cython_Epoch.pyx:916:69: Non-trivial type declarators in shared declaration (e.g. mix of pointers and values). Each pointer declaration should be on its own line.\r\n",
      "warning: SLIM_BPR_Cython_Epoch.pyx:1051:35: Non-trivial type declarators in shared declaration (e.g. mix of pointers and values). Each pointer declaration should be on its own line.\r\n",
      "warning: SLIM_BPR_Cython_Epoch.pyx:1051:42: Non-trivial type declarators in shared declaration (e.g. mix of pointers and values). Each pointer declaration should be on its own line.\r\n",
      "warning: SLIM_BPR_Cython_Epoch.pyx:1052:35: Non-trivial type declarators in shared declaration (e.g. mix of pointers and values). Each pointer declaration should be on its own line.\r\n",
      "warning: SLIM_BPR_Cython_Epoch.pyx:1052:53: Non-trivial type declarators in shared declaration (e.g. mix of pointers and values). Each pointer declaration should be on its own line.\r\n",
      "\r\n",
      "Error compiling Cython file:\r\n",
      "------------------------------------------------------------\r\n",
      "...\r\n",
      "            vector_pointer_to_list_elements[index].head = current_element\r\n",
      "            current_element = current_element.higher\r\n",
      "\r\n",
      "\r\n",
      "        # Sort array elements on their data field\r\n",
      "        qsort(vector_pointer_to_list_elements, list_length, sizeof(head_pointer_tree_s), compare_struct_on_data)\r\n",
      "                                                                                         ^\r\n",
      "------------------------------------------------------------\r\n",
      "\r\n",
      "SLIM_BPR_Cython_Epoch.pyx:990:89: Cannot assign type 'int (const void *, const void *) except? -1' to 'int (*)(const_void *, const_void *) noexcept'\r\n",
      "\r\n",
      "Error compiling Cython file:\r\n",
      "------------------------------------------------------------\r\n",
      "...\r\n",
      "        # Sort array elements on their data field\r\n",
      "        qsort(vector_pointer_to_list_elements, list_length, sizeof(head_pointer_tree_s), compare_struct_on_data)\r\n",
      "\r\n",
      "        # Sort only the TopK according to their column field\r\n",
      "        # Sort is from lower to higher, therefore the elements to be considered are from len-topK to len\r\n",
      "        qsort(&vector_pointer_to_list_elements[list_length-TopK], TopK, sizeof(head_pointer_tree_s), compare_struct_on_column)\r\n",
      "                                                                                                     ^\r\n",
      "------------------------------------------------------------\r\n",
      "\r\n",
      "SLIM_BPR_Cython_Epoch.pyx:994:101: Cannot assign type 'int (const void *, const void *) except? -1' to 'int (*)(const_void *, const_void *) noexcept'\r\n",
      "Traceback (most recent call last):\r\n",
      "  File \"/kaggle/working/Recsys_Challenge_2023/CythonCompiler/compile_script.py\", line 48, in <module>\r\n",
      "    setup(\r\n",
      "  File \"/opt/conda/lib/python3.10/site-packages/setuptools/__init__.py\", line 107, in setup\r\n",
      "    return distutils.core.setup(**attrs)\r\n",
      "  File \"/opt/conda/lib/python3.10/site-packages/setuptools/_distutils/core.py\", line 185, in setup\r\n",
      "    return run_commands(dist)\r\n",
      "  File \"/opt/conda/lib/python3.10/site-packages/setuptools/_distutils/core.py\", line 201, in run_commands\r\n",
      "    dist.run_commands()\r\n",
      "  File \"/opt/conda/lib/python3.10/site-packages/setuptools/_distutils/dist.py\", line 969, in run_commands\r\n",
      "    self.run_command(cmd)\r\n",
      "  File \"/opt/conda/lib/python3.10/site-packages/setuptools/dist.py\", line 1233, in run_command\r\n",
      "    super().run_command(command)\r\n",
      "  File \"/opt/conda/lib/python3.10/site-packages/setuptools/_distutils/dist.py\", line 988, in run_command\r\n",
      "    cmd_obj.run()\r\n",
      "  File \"/opt/conda/lib/python3.10/site-packages/setuptools/_distutils/command/build_ext.py\", line 345, in run\r\n",
      "    self.build_extensions()\r\n",
      "  File \"/opt/conda/lib/python3.10/site-packages/setuptools/_distutils/command/build_ext.py\", line 467, in build_extensions\r\n",
      "    self._build_extensions_serial()\r\n",
      "  File \"/opt/conda/lib/python3.10/site-packages/setuptools/_distutils/command/build_ext.py\", line 493, in _build_extensions_serial\r\n",
      "    self.build_extension(ext)\r\n",
      "  File \"/opt/conda/lib/python3.10/site-packages/Cython/Distutils/build_ext.py\", line 122, in build_extension\r\n",
      "    new_ext = cythonize(\r\n",
      "  File \"/opt/conda/lib/python3.10/site-packages/Cython/Build/Dependencies.py\", line 1134, in cythonize\r\n",
      "    cythonize_one(*args)\r\n",
      "  File \"/opt/conda/lib/python3.10/site-packages/Cython/Build/Dependencies.py\", line 1301, in cythonize_one\r\n",
      "    raise CompileError(None, pyx_file)\r\n",
      "Cython.Compiler.Errors.CompileError: SLIM_BPR_Cython_Epoch.pyx\r\n",
      "Traceback (most recent call last):\r\n",
      "  File \"/kaggle/working/Recsys_Challenge_2023/run_compile_all_cython.py\", line 59, in <module>\r\n",
      "    run_compile_subprocess(file_path, [file_name])\r\n",
      "  File \"/kaggle/working/Recsys_Challenge_2023/CythonCompiler/run_compile_subprocess.py\", line 51, in run_compile_subprocess\r\n",
      "    raise exc\r\n",
      "  File \"/kaggle/working/Recsys_Challenge_2023/CythonCompiler/run_compile_subprocess.py\", line 32, in run_compile_subprocess\r\n",
      "    output = subprocess.check_output(' '.join(command),\r\n",
      "  File \"/opt/conda/lib/python3.10/subprocess.py\", line 421, in check_output\r\n",
      "    return run(*popenargs, stdout=PIPE, timeout=timeout, check=True,\r\n",
      "  File \"/opt/conda/lib/python3.10/subprocess.py\", line 526, in run\r\n",
      "    raise CalledProcessError(retcode, process.args,\r\n",
      "subprocess.CalledProcessError: Command '/opt/conda/bin/python /kaggle/working/Recsys_Challenge_2023/CythonCompiler/compile_script.py SLIM_BPR_Cython_Epoch.pyx build_ext --inplace' returned non-zero exit status 1.\r\n",
      "Compiling [6/10]: SLIM_BPR_Cython_Epoch.pyx... FAIL: Command '/opt/conda/bin/python /kaggle/working/Recsys_Challenge_2023/CythonCompiler/compile_script.py SLIM_BPR_Cython_Epoch.pyx build_ext --inplace' returned non-zero exit status 1.\r\n",
      "\r\n",
      "Compiling [7/10]: CFW_D_Similarity_Cython_SGD.pyx... \r\n",
      "In file included from \u001b[01m\u001b[K/opt/conda/lib/python3.10/site-packages/numpy/core/include/numpy/ndarraytypes.h:1940\u001b[m\u001b[K,\r\n",
      "                 from \u001b[01m\u001b[K/opt/conda/lib/python3.10/site-packages/numpy/core/include/numpy/ndarrayobject.h:12\u001b[m\u001b[K,\r\n",
      "                 from \u001b[01m\u001b[K/opt/conda/lib/python3.10/site-packages/numpy/core/include/numpy/arrayobject.h:5\u001b[m\u001b[K,\r\n",
      "                 from \u001b[01m\u001b[KCFW_D_Similarity_Cython_SGD.c:1109\u001b[m\u001b[K:\r\n",
      "\u001b[01m\u001b[K/opt/conda/lib/python3.10/site-packages/numpy/core/include/numpy/npy_1_7_deprecated_api.h:17:2:\u001b[m\u001b[K \u001b[01;35m\u001b[Kwarning: \u001b[m\u001b[K#warning \"Using deprecated NumPy API, disable it with \" \"#define NPY_NO_DEPRECATED_API NPY_1_7_API_VERSION\" [\u001b[01;35m\u001b[K-Wcpp\u001b[m\u001b[K]\r\n",
      "   17 | #\u001b[01;35m\u001b[Kwarning\u001b[m\u001b[K \"Using deprecated NumPy API, disable it with \" \\\r\n",
      "      |  \u001b[01;35m\u001b[K^~~~~~~\u001b[m\u001b[K\r\n",
      "\u001b[01m\u001b[KCFW_D_Similarity_Cython_SGD.c:\u001b[m\u001b[K In function ‘\u001b[01m\u001b[K__pyx_pf_27CFW_D_Similarity_Cython_SGD_27CFW_D_Similarity_Cython_SGD_6fit\u001b[m\u001b[K’:\r\n",
      "\u001b[01m\u001b[KCFW_D_Similarity_Cython_SGD.c:22766:55:\u001b[m\u001b[K \u001b[01;35m\u001b[Kwarning: \u001b[m\u001b[K‘\u001b[01m\u001b[K__pyx_v_sample_num\u001b[m\u001b[K’ may be used uninitialized in this function [\u001b[01;35m\u001b[K-Wmaybe-uninitialized\u001b[m\u001b[K]\r\n",
      "22766 |   __pyx_t_3 = PyFloat_FromDouble((__pyx_v_cum_loss / \u001b[01;35m\u001b[K((double)__pyx_v_sample_num)\u001b[m\u001b[K)); if (unlikely(!__pyx_t_3)) __PYX_ERR(0, 290, __pyx_L1_error)\r\n",
      "      |                                                      \u001b[01;35m\u001b[K~^~~~~~~~~~~~~~~~~~~~~~~~~~~\u001b[m\u001b[K\r\n",
      "/opt/conda/lib/python3.10/site-packages/Cython/Compiler/Main.py:381: FutureWarning: Cython directive 'language_level' not set, using '3str' for now (Py3). This has changed from earlier releases! File: /kaggle/working/Recsys_Challenge_2023/Recommenders/FeatureWeighting/Cython/CFW_D_Similarity_Cython_SGD.pyx\r\n",
      "  tree = Parsing.p_module(s, pxd, full_module_name)\r\n",
      "Compiling [7/10]: CFW_D_Similarity_Cython_SGD.pyx... PASS\r\n",
      "\r\n",
      "Compiling [8/10]: FBSM_Rating_Cython_SGD.pyx... \r\n",
      "In file included from \u001b[01m\u001b[K/opt/conda/lib/python3.10/site-packages/numpy/core/include/numpy/ndarraytypes.h:1940\u001b[m\u001b[K,\r\n",
      "                 from \u001b[01m\u001b[K/opt/conda/lib/python3.10/site-packages/numpy/core/include/numpy/ndarrayobject.h:12\u001b[m\u001b[K,\r\n",
      "                 from \u001b[01m\u001b[K/opt/conda/lib/python3.10/site-packages/numpy/core/include/numpy/arrayobject.h:5\u001b[m\u001b[K,\r\n",
      "                 from \u001b[01m\u001b[KFBSM_Rating_Cython_SGD.c:1109\u001b[m\u001b[K:\r\n",
      "\u001b[01m\u001b[K/opt/conda/lib/python3.10/site-packages/numpy/core/include/numpy/npy_1_7_deprecated_api.h:17:2:\u001b[m\u001b[K \u001b[01;35m\u001b[Kwarning: \u001b[m\u001b[K#warning \"Using deprecated NumPy API, disable it with \" \"#define NPY_NO_DEPRECATED_API NPY_1_7_API_VERSION\" [\u001b[01;35m\u001b[K-Wcpp\u001b[m\u001b[K]\r\n",
      "   17 | #\u001b[01;35m\u001b[Kwarning\u001b[m\u001b[K \"Using deprecated NumPy API, disable it with \" \\\r\n",
      "      |  \u001b[01;35m\u001b[K^~~~~~~\u001b[m\u001b[K\r\n",
      "\u001b[01m\u001b[KFBSM_Rating_Cython_SGD.c:\u001b[m\u001b[K In function ‘\u001b[01m\u001b[K__pyx_pf_22FBSM_Rating_Cython_SGD_22FBSM_Rating_Cython_SGD_2fit\u001b[m\u001b[K’:\r\n",
      "\u001b[01m\u001b[KFBSM_Rating_Cython_SGD.c:26038:55:\u001b[m\u001b[K \u001b[01;35m\u001b[Kwarning: \u001b[m\u001b[K‘\u001b[01m\u001b[K__pyx_v_num_sample\u001b[m\u001b[K’ may be used uninitialized in this function [\u001b[01;35m\u001b[K-Wmaybe-uninitialized\u001b[m\u001b[K]\r\n",
      "26038 |   __pyx_t_5 = PyFloat_FromDouble((__pyx_v_cum_loss / \u001b[01;35m\u001b[K((double)__pyx_v_num_sample)\u001b[m\u001b[K)); if (unlikely(!__pyx_t_5)) __PYX_ERR(0, 551, __pyx_L1_error)\r\n",
      "      |                                                      \u001b[01;35m\u001b[K~^~~~~~~~~~~~~~~~~~~~~~~~~~~\u001b[m\u001b[K\r\n",
      "/opt/conda/lib/python3.10/site-packages/Cython/Compiler/Main.py:381: FutureWarning: Cython directive 'language_level' not set, using '3str' for now (Py3). This has changed from earlier releases! File: /kaggle/working/Recsys_Challenge_2023/Recommenders/FeatureWeighting/Cython/FBSM_Rating_Cython_SGD.pyx\r\n",
      "  tree = Parsing.p_module(s, pxd, full_module_name)\r\n",
      "Compiling [8/10]: FBSM_Rating_Cython_SGD.pyx... PASS\r\n",
      "\r\n",
      "Compiling [9/10]: CFW_DVV_Similarity_Cython_SGD.pyx... \r\n",
      "In file included from \u001b[01m\u001b[K/opt/conda/lib/python3.10/site-packages/numpy/core/include/numpy/ndarraytypes.h:1940\u001b[m\u001b[K,\r\n",
      "                 from \u001b[01m\u001b[K/opt/conda/lib/python3.10/site-packages/numpy/core/include/numpy/ndarrayobject.h:12\u001b[m\u001b[K,\r\n",
      "                 from \u001b[01m\u001b[K/opt/conda/lib/python3.10/site-packages/numpy/core/include/numpy/arrayobject.h:5\u001b[m\u001b[K,\r\n",
      "                 from \u001b[01m\u001b[KCFW_DVV_Similarity_Cython_SGD.c:1109\u001b[m\u001b[K:\r\n",
      "\u001b[01m\u001b[K/opt/conda/lib/python3.10/site-packages/numpy/core/include/numpy/npy_1_7_deprecated_api.h:17:2:\u001b[m\u001b[K \u001b[01;35m\u001b[Kwarning: \u001b[m\u001b[K#warning \"Using deprecated NumPy API, disable it with \" \"#define NPY_NO_DEPRECATED_API NPY_1_7_API_VERSION\" [\u001b[01;35m\u001b[K-Wcpp\u001b[m\u001b[K]\r\n",
      "   17 | #\u001b[01;35m\u001b[Kwarning\u001b[m\u001b[K \"Using deprecated NumPy API, disable it with \" \\\r\n",
      "      |  \u001b[01;35m\u001b[K^~~~~~~\u001b[m\u001b[K\r\n",
      "/opt/conda/lib/python3.10/site-packages/Cython/Compiler/Main.py:381: FutureWarning: Cython directive 'language_level' not set, using '3str' for now (Py3). This has changed from earlier releases! File: /kaggle/working/Recsys_Challenge_2023/Recommenders/FeatureWeighting/Cython/CFW_DVV_Similarity_Cython_SGD.pyx\r\n",
      "  tree = Parsing.p_module(s, pxd, full_module_name)\r\n",
      "Compiling [9/10]: CFW_DVV_Similarity_Cython_SGD.pyx... PASS\r\n",
      "\r\n",
      "Compiling [10/10]: HP3_Similarity_Cython_SGD.pyx... \r\n",
      "warning: HP3_Similarity_Cython_SGD.pyx:113:40: Index should be typed for more efficient access\r\n",
      "In file included from \u001b[01m\u001b[K/opt/conda/lib/python3.10/site-packages/numpy/core/include/numpy/ndarraytypes.h:1940\u001b[m\u001b[K,\r\n",
      "                 from \u001b[01m\u001b[K/opt/conda/lib/python3.10/site-packages/numpy/core/include/numpy/ndarrayobject.h:12\u001b[m\u001b[K,\r\n",
      "                 from \u001b[01m\u001b[K/opt/conda/lib/python3.10/site-packages/numpy/core/include/numpy/arrayobject.h:5\u001b[m\u001b[K,\r\n",
      "                 from \u001b[01m\u001b[KHP3_Similarity_Cython_SGD.c:1109\u001b[m\u001b[K:\r\n",
      "\u001b[01m\u001b[K/opt/conda/lib/python3.10/site-packages/numpy/core/include/numpy/npy_1_7_deprecated_api.h:17:2:\u001b[m\u001b[K \u001b[01;35m\u001b[Kwarning: \u001b[m\u001b[K#warning \"Using deprecated NumPy API, disable it with \" \"#define NPY_NO_DEPRECATED_API NPY_1_7_API_VERSION\" [\u001b[01;35m\u001b[K-Wcpp\u001b[m\u001b[K]\r\n",
      "   17 | #\u001b[01;35m\u001b[Kwarning\u001b[m\u001b[K \"Using deprecated NumPy API, disable it with \" \\\r\n",
      "      |  \u001b[01;35m\u001b[K^~~~~~~\u001b[m\u001b[K\r\n",
      "\u001b[01m\u001b[KHP3_Similarity_Cython_SGD.c:\u001b[m\u001b[K In function ‘\u001b[01m\u001b[K__pyx_pf_25HP3_Similarity_Cython_SGD_25HP3_Similarity_Cython_SGD_4fit\u001b[m\u001b[K’:\r\n",
      "\u001b[01m\u001b[KHP3_Similarity_Cython_SGD.c:23035:55:\u001b[m\u001b[K \u001b[01;35m\u001b[Kwarning: \u001b[m\u001b[K‘\u001b[01m\u001b[K__pyx_v_sample_num\u001b[m\u001b[K’ may be used uninitialized in this function [\u001b[01;35m\u001b[K-Wmaybe-uninitialized\u001b[m\u001b[K]\r\n",
      "23035 |   __pyx_t_1 = PyFloat_FromDouble((__pyx_v_cum_loss / \u001b[01;35m\u001b[K((double)__pyx_v_sample_num)\u001b[m\u001b[K)); if (unlikely(!__pyx_t_1)) __PYX_ERR(0, 291, __pyx_L1_error)\r\n",
      "      |                                                      \u001b[01;35m\u001b[K~^~~~~~~~~~~~~~~~~~~~~~~~~~~\u001b[m\u001b[K\r\n",
      "/opt/conda/lib/python3.10/site-packages/Cython/Compiler/Main.py:381: FutureWarning: Cython directive 'language_level' not set, using '3str' for now (Py3). This has changed from earlier releases! File: /kaggle/working/Recsys_Challenge_2023/Recommenders/FeatureWeighting/Cython/HP3_Similarity_Cython_SGD.pyx\r\n",
      "  tree = Parsing.p_module(s, pxd, full_module_name)\r\n",
      "warning: HP3_Similarity_Cython_SGD.pyx:113:40: Index should be typed for more efficient access\r\n",
      "Compiling [10/10]: HP3_Similarity_Cython_SGD.pyx... PASS\r\n",
      "\r\n",
      "run_compile_all_cython: Compilation finished. FAILS 2/10.\r\n",
      "Compilation log can be found here: './result_experiments/run_compile_all_cython.txt'\r\n"
     ]
    }
   ],
   "source": [
    "! cd /kaggle/working/Recsys_Challenge_2023 && python run_compile_all_cython.py"
   ]
  },
  {
   "cell_type": "code",
   "execution_count": 4,
   "id": "ed50dd0c",
   "metadata": {
    "_kg_hide-output": true,
    "execution": {
     "iopub.execute_input": "2023-11-30T23:43:10.130956Z",
     "iopub.status.busy": "2023-11-30T23:43:10.130519Z",
     "iopub.status.idle": "2023-11-30T23:43:13.943193Z",
     "shell.execute_reply": "2023-11-30T23:43:13.941472Z"
    },
    "papermill": {
     "duration": 3.841923,
     "end_time": "2023-11-30T23:43:13.945660",
     "exception": false,
     "start_time": "2023-11-30T23:43:10.103737",
     "status": "completed"
    },
    "scrolled": true,
    "tags": []
   },
   "outputs": [
    {
     "name": "stdout",
     "output_type": "stream",
     "text": [
      "/kaggle/input/recommender-system-2023-challenge-polimi/data_train.csv\n",
      "/kaggle/input/recommender-system-2023-challenge-polimi/data_target_users_test.csv\n",
      "/kaggle/input/xgboost/__results__.html\n",
      "/kaggle/input/xgboost/__notebook__.ipynb\n",
      "/kaggle/input/xgboost/__output__.json\n",
      "/kaggle/input/xgboost/custom.css\n",
      "/kaggle/input/xgboost/__results___files/__results___30_1.png\n"
     ]
    }
   ],
   "source": [
    "import numpy as np\n",
    "import pandas as pd\n",
    "import matplotlib.pyplot as plt\n",
    "import seaborn as sns\n",
    "import joblib\n",
    "import json\n",
    "import random\n",
    "import tqdm\n",
    "import gc\n",
    "import time\n",
    "import os\n",
    "import shutil\n",
    "import optuna\n",
    "import scipy.sparse as sps\n",
    "from concurrent.futures import ThreadPoolExecutor\n",
    "\n",
    "from xgboost import XGBRanker\n",
    "\n",
    "for dirname, _, filenames in os.walk('/kaggle/input'):\n",
    "    for filename in filenames:\n",
    "        print(os.path.join(dirname, filename))"
   ]
  },
  {
   "cell_type": "code",
   "execution_count": 5,
   "id": "f0f4e00b",
   "metadata": {
    "execution": {
     "iopub.execute_input": "2023-11-30T23:43:13.997098Z",
     "iopub.status.busy": "2023-11-30T23:43:13.996517Z",
     "iopub.status.idle": "2023-11-30T23:43:14.003913Z",
     "shell.execute_reply": "2023-11-30T23:43:14.003093Z"
    },
    "papermill": {
     "duration": 0.035841,
     "end_time": "2023-11-30T23:43:14.006092",
     "exception": false,
     "start_time": "2023-11-30T23:43:13.970251",
     "status": "completed"
    },
    "tags": []
   },
   "outputs": [
    {
     "name": "stdout",
     "output_type": "stream",
     "text": [
      "/kaggle/working/Recsys_Challenge_2023\n"
     ]
    }
   ],
   "source": [
    "%cd /kaggle/working/Recsys_Challenge_2023"
   ]
  },
  {
   "cell_type": "code",
   "execution_count": 6,
   "id": "c3092a75",
   "metadata": {
    "execution": {
     "iopub.execute_input": "2023-11-30T23:43:14.057483Z",
     "iopub.status.busy": "2023-11-30T23:43:14.056847Z",
     "iopub.status.idle": "2023-11-30T23:43:14.418940Z",
     "shell.execute_reply": "2023-11-30T23:43:14.417855Z"
    },
    "papermill": {
     "duration": 0.391148,
     "end_time": "2023-11-30T23:43:14.421774",
     "exception": false,
     "start_time": "2023-11-30T23:43:14.030626",
     "status": "completed"
    },
    "tags": []
   },
   "outputs": [],
   "source": [
    "from Recommenders.KNN.UserKNNCFRecommender import UserKNNCFRecommender\n",
    "from Data_manager.split_functions.split_train_validation_random_holdout import split_train_in_two_percentage_global_sample\n",
    "from Recommenders.SLIM.SLIMElasticNetRecommender import MultiThreadSLIM_SLIMElasticNetRecommender\n",
    "from Evaluation.Evaluator import EvaluatorHoldout\n",
    "from Recommenders.MatrixFactorization.IALSRecommender import IALSRecommender\n",
    "from Recommenders.MatrixFactorization.PureSVDRecommender import PureSVDRecommender\n",
    "from Recommenders.KNN.ItemKNNCFRecommender import ItemKNNCFRecommender\n",
    "from Recommenders.KNN.UserKNNCFRecommender import UserKNNCFRecommender\n",
    "from Recommenders.KNN.ItemKNNSimilarityHybridRecommender import ItemKNNSimilarityHybridRecommender\n",
    "from Recommenders.KNN.ItemKNNCustomSimilarityRecommender import ItemKNNCustomSimilarityRecommender\n",
    "from Recommenders.GraphBased.RP3betaRecommender import RP3betaRecommender\n",
    "from Recommenders.GraphBased.P3alphaRecommender import P3alphaRecommender\n",
    "from Recommenders.BaseRecommender import BaseRecommender\n",
    "\n",
    "from Recommenders.Hybrid.LinearCombinationRecommender import LinearCombinationRecommender\n",
    "from Data_manager.CrossValidationSplitter import CrossValidationSplitter\n",
    "\n",
    "np.int = int\n",
    "np.random.seed(42)\n",
    "np.bool = bool\n",
    "np.float = float"
   ]
  },
  {
   "cell_type": "code",
   "execution_count": 7,
   "id": "bd4dfb7f",
   "metadata": {
    "execution": {
     "iopub.execute_input": "2023-11-30T23:43:14.473016Z",
     "iopub.status.busy": "2023-11-30T23:43:14.472619Z",
     "iopub.status.idle": "2023-11-30T23:43:15.175624Z",
     "shell.execute_reply": "2023-11-30T23:43:15.174035Z"
    },
    "papermill": {
     "duration": 0.731773,
     "end_time": "2023-11-30T23:43:15.178617",
     "exception": false,
     "start_time": "2023-11-30T23:43:14.446844",
     "status": "completed"
    },
    "tags": []
   },
   "outputs": [
    {
     "name": "stdout",
     "output_type": "stream",
     "text": [
      "Repository found\n"
     ]
    }
   ],
   "source": [
    "from github import Github\n",
    "from github import Auth\n",
    "\n",
    "auth = Auth.Token(token)\n",
    "g = Github(auth=auth)\n",
    "\n",
    "repo = None\n",
    "for r in g.get_user().get_repos():\n",
    "    if r.name == 'Recsys_Challenge_2023':\n",
    "        repo = r\n",
    "        print('Repository found')"
   ]
  },
  {
   "cell_type": "code",
   "execution_count": 8,
   "id": "0fada2ad",
   "metadata": {
    "execution": {
     "iopub.execute_input": "2023-11-30T23:43:15.231524Z",
     "iopub.status.busy": "2023-11-30T23:43:15.230889Z",
     "iopub.status.idle": "2023-11-30T23:43:15.237560Z",
     "shell.execute_reply": "2023-11-30T23:43:15.236677Z"
    },
    "papermill": {
     "duration": 0.035007,
     "end_time": "2023-11-30T23:43:15.239642",
     "exception": false,
     "start_time": "2023-11-30T23:43:15.204635",
     "status": "completed"
    },
    "tags": []
   },
   "outputs": [],
   "source": [
    "def upload_file(filepath_kaggle, filepath_github, commit_message):\n",
    "    try:\n",
    "        contents = repo.get_contents(filepath_github)\n",
    "        with open(filepath_kaggle, \"rb\") as file:\n",
    "            repo.update_file(contents.path, commit_message, file.read(), contents.sha)\n",
    "    except Exception:\n",
    "        with open(filepath_kaggle, \"rb\") as file:\n",
    "            repo.create_file(filepath_github, commit_message, file.read())"
   ]
  },
  {
   "cell_type": "code",
   "execution_count": 9,
   "id": "b40ff946",
   "metadata": {
    "execution": {
     "iopub.execute_input": "2023-11-30T23:43:15.292159Z",
     "iopub.status.busy": "2023-11-30T23:43:15.291544Z",
     "iopub.status.idle": "2023-11-30T23:43:15.296062Z",
     "shell.execute_reply": "2023-11-30T23:43:15.295257Z"
    },
    "papermill": {
     "duration": 0.033407,
     "end_time": "2023-11-30T23:43:15.298356",
     "exception": false,
     "start_time": "2023-11-30T23:43:15.264949",
     "status": "completed"
    },
    "tags": []
   },
   "outputs": [],
   "source": [
    "config = {\n",
    "    'tune_parameters': True,\n",
    "    'n_trials': 100,\n",
    "    'database_path': '/kaggle/working/tuning_hybrid_xgboost.db',\n",
    "    'copy_prev_tuning_db': True,\n",
    "    'copy_prev_best_params': True,\n",
    "    'save_github': True\n",
    "}"
   ]
  },
  {
   "cell_type": "code",
   "execution_count": 10,
   "id": "a43d266b",
   "metadata": {
    "execution": {
     "iopub.execute_input": "2023-11-30T23:43:15.416849Z",
     "iopub.status.busy": "2023-11-30T23:43:15.416163Z",
     "iopub.status.idle": "2023-11-30T23:43:15.687710Z",
     "shell.execute_reply": "2023-11-30T23:43:15.686655Z"
    },
    "papermill": {
     "duration": 0.300601,
     "end_time": "2023-11-30T23:43:15.690369",
     "exception": false,
     "start_time": "2023-11-30T23:43:15.389768",
     "status": "completed"
    },
    "tags": []
   },
   "outputs": [],
   "source": [
    "train_data = pd.read_csv('/kaggle/input/recommender-system-2023-challenge-polimi/data_train.csv')\n",
    "user_ids_test = pd.read_csv('/kaggle/input/recommender-system-2023-challenge-polimi/data_target_users_test.csv')"
   ]
  },
  {
   "cell_type": "code",
   "execution_count": 11,
   "id": "acc61a48",
   "metadata": {
    "execution": {
     "iopub.execute_input": "2023-11-30T23:43:15.741773Z",
     "iopub.status.busy": "2023-11-30T23:43:15.741295Z",
     "iopub.status.idle": "2023-11-30T23:43:15.788008Z",
     "shell.execute_reply": "2023-11-30T23:43:15.786899Z"
    },
    "papermill": {
     "duration": 0.075097,
     "end_time": "2023-11-30T23:43:15.790435",
     "exception": false,
     "start_time": "2023-11-30T23:43:15.715338",
     "status": "completed"
    },
    "tags": []
   },
   "outputs": [
    {
     "data": {
      "text/plain": [
       "<13024x22347 sparse matrix of type '<class 'numpy.float64'>'\n",
       "\twith 478730 stored elements in Compressed Sparse Row format>"
      ]
     },
     "execution_count": 11,
     "metadata": {},
     "output_type": "execute_result"
    }
   ],
   "source": [
    "URM_all = sps.csr_matrix((train_data.data.values,\n",
    "                          ((train_data.row - 1).values, (train_data.col - 1).values)),\n",
    "                        shape=(train_data.row.max(), train_data.col.max()))\n",
    "URM_all"
   ]
  },
  {
   "cell_type": "code",
   "execution_count": 12,
   "id": "b36a0712",
   "metadata": {
    "execution": {
     "iopub.execute_input": "2023-11-30T23:43:15.842599Z",
     "iopub.status.busy": "2023-11-30T23:43:15.842186Z",
     "iopub.status.idle": "2023-11-30T23:43:18.389125Z",
     "shell.execute_reply": "2023-11-30T23:43:18.387895Z"
    },
    "papermill": {
     "duration": 2.575879,
     "end_time": "2023-11-30T23:43:18.391623",
     "exception": false,
     "start_time": "2023-11-30T23:43:15.815744",
     "status": "completed"
    },
    "tags": []
   },
   "outputs": [
    {
     "name": "stdout",
     "output_type": "stream",
     "text": [
      "Warning: 627 (4.81 %) of 13024 users have no train items\n",
      "Warning: 2568 (19.72 %) of 13024 users have no sampled items\n",
      "Warning: 851 (6.53 %) of 13024 users have no train items\n",
      "Warning: 3006 (23.08 %) of 13024 users have no sampled items\n"
     ]
    }
   ],
   "source": [
    "URM_train_complete, URM_test_complete = split_train_in_two_percentage_global_sample(URM_all, train_percentage = 0.8)\n",
    "URM_train, URM_validation = split_train_in_two_percentage_global_sample(URM_train_complete, train_percentage = 0.8)"
   ]
  },
  {
   "cell_type": "code",
   "execution_count": 13,
   "id": "d2870d31",
   "metadata": {
    "execution": {
     "iopub.execute_input": "2023-11-30T23:43:18.444836Z",
     "iopub.status.busy": "2023-11-30T23:43:18.443886Z",
     "iopub.status.idle": "2023-11-30T23:43:18.450495Z",
     "shell.execute_reply": "2023-11-30T23:43:18.449765Z"
    },
    "papermill": {
     "duration": 0.03555,
     "end_time": "2023-11-30T23:43:18.452527",
     "exception": false,
     "start_time": "2023-11-30T23:43:18.416977",
     "status": "completed"
    },
    "tags": []
   },
   "outputs": [
    {
     "data": {
      "text/plain": [
       "{'topK': 14,\n",
       " 'shrink': 25,\n",
       " 'similarity': 'tversky',\n",
       " 'tversky_alpha': 0.18163095712123836,\n",
       " 'tversky_beta': 1.8529812241698465}"
      ]
     },
     "execution_count": 13,
     "metadata": {},
     "output_type": "execute_result"
    }
   ],
   "source": [
    "with open('/kaggle/working/Recsys_Challenge_2023/tuning_results/best_params_knn_item.json', 'r') as params_file:\n",
    "    params_item_knn = json.load(params_file)\n",
    "params_item_knn"
   ]
  },
  {
   "cell_type": "code",
   "execution_count": 14,
   "id": "9f7905fe",
   "metadata": {
    "execution": {
     "iopub.execute_input": "2023-11-30T23:43:18.505055Z",
     "iopub.status.busy": "2023-11-30T23:43:18.504347Z",
     "iopub.status.idle": "2023-11-30T23:43:18.511026Z",
     "shell.execute_reply": "2023-11-30T23:43:18.509986Z"
    },
    "papermill": {
     "duration": 0.035433,
     "end_time": "2023-11-30T23:43:18.513154",
     "exception": false,
     "start_time": "2023-11-30T23:43:18.477721",
     "status": "completed"
    },
    "tags": []
   },
   "outputs": [
    {
     "data": {
      "text/plain": [
       "{'alpha': 0.25720011864882797, 'beta': 0.16040931258686913, 'topK': 33}"
      ]
     },
     "execution_count": 14,
     "metadata": {},
     "output_type": "execute_result"
    }
   ],
   "source": [
    "with open('/kaggle/working/Recsys_Challenge_2023/tuning_results/best_params_RP3.json', 'r') as params_file:\n",
    "    params_rp3 = json.load(params_file)\n",
    "params_rp3"
   ]
  },
  {
   "cell_type": "code",
   "execution_count": 15,
   "id": "de456348",
   "metadata": {
    "execution": {
     "iopub.execute_input": "2023-11-30T23:43:18.566692Z",
     "iopub.status.busy": "2023-11-30T23:43:18.565640Z",
     "iopub.status.idle": "2023-11-30T23:43:18.573932Z",
     "shell.execute_reply": "2023-11-30T23:43:18.572693Z"
    },
    "papermill": {
     "duration": 0.037327,
     "end_time": "2023-11-30T23:43:18.576306",
     "exception": false,
     "start_time": "2023-11-30T23:43:18.538979",
     "status": "completed"
    },
    "tags": []
   },
   "outputs": [
    {
     "data": {
      "text/plain": [
       "{'topK': 498,\n",
       " 'shrink': 0,\n",
       " 'similarity': 'asymmetric',\n",
       " 'asymmetric_alpha': 0.39792525383867455}"
      ]
     },
     "execution_count": 15,
     "metadata": {},
     "output_type": "execute_result"
    }
   ],
   "source": [
    "with open('/kaggle/working/Recsys_Challenge_2023/tuning_results/best_params_knn_user.json', 'r') as params_file:\n",
    "    params_user_knn = json.load(params_file)\n",
    "params_user_knn"
   ]
  },
  {
   "cell_type": "code",
   "execution_count": 16,
   "id": "e2510067",
   "metadata": {
    "execution": {
     "iopub.execute_input": "2023-11-30T23:43:18.629830Z",
     "iopub.status.busy": "2023-11-30T23:43:18.629391Z",
     "iopub.status.idle": "2023-11-30T23:43:18.638032Z",
     "shell.execute_reply": "2023-11-30T23:43:18.636651Z"
    },
    "papermill": {
     "duration": 0.038466,
     "end_time": "2023-11-30T23:43:18.640534",
     "exception": false,
     "start_time": "2023-11-30T23:43:18.602068",
     "status": "completed"
    },
    "tags": []
   },
   "outputs": [
    {
     "data": {
      "text/plain": [
       "{'normalize_similarity': 'False',\n",
       " 'implicit': 'False',\n",
       " 'alpha': 0.3185935970252052,\n",
       " 'topK': 48}"
      ]
     },
     "execution_count": 16,
     "metadata": {},
     "output_type": "execute_result"
    }
   ],
   "source": [
    "with open('/kaggle/working/Recsys_Challenge_2023/tuning_results/best_params_alpha.json', 'r') as params_file:\n",
    "    params_p3alpha = json.load(params_file)\n",
    "params_p3alpha"
   ]
  },
  {
   "cell_type": "code",
   "execution_count": 17,
   "id": "f3b31379",
   "metadata": {
    "execution": {
     "iopub.execute_input": "2023-11-30T23:43:18.694427Z",
     "iopub.status.busy": "2023-11-30T23:43:18.694010Z",
     "iopub.status.idle": "2023-11-30T23:43:18.701761Z",
     "shell.execute_reply": "2023-11-30T23:43:18.700705Z"
    },
    "papermill": {
     "duration": 0.037618,
     "end_time": "2023-11-30T23:43:18.703972",
     "exception": false,
     "start_time": "2023-11-30T23:43:18.666354",
     "status": "completed"
    },
    "tags": []
   },
   "outputs": [
    {
     "data": {
      "text/plain": [
       "{'alpha': 0.3375591188839621, 'topK': 86}"
      ]
     },
     "execution_count": 17,
     "metadata": {},
     "output_type": "execute_result"
    }
   ],
   "source": [
    "with open('/kaggle/working/Recsys_Challenge_2023/tuning_results/best_params_hybrid_merging.json', 'r') as params_file:\n",
    "    params_merging = json.load(params_file)\n",
    "params_merging"
   ]
  },
  {
   "cell_type": "code",
   "execution_count": 18,
   "id": "7dd99011",
   "metadata": {
    "execution": {
     "iopub.execute_input": "2023-11-30T23:43:18.758001Z",
     "iopub.status.busy": "2023-11-30T23:43:18.757571Z",
     "iopub.status.idle": "2023-11-30T23:43:18.766470Z",
     "shell.execute_reply": "2023-11-30T23:43:18.765359Z"
    },
    "papermill": {
     "duration": 0.038426,
     "end_time": "2023-11-30T23:43:18.768682",
     "exception": false,
     "start_time": "2023-11-30T23:43:18.730256",
     "status": "completed"
    },
    "tags": []
   },
   "outputs": [
    {
     "data": {
      "text/plain": [
       "{'w1': 0.6982294749234325, 'w2': 0.9336649353144076, 'w3': 0.8685182329823133}"
      ]
     },
     "execution_count": 18,
     "metadata": {},
     "output_type": "execute_result"
    }
   ],
   "source": [
    "with open('/kaggle/working/Recsys_Challenge_2023/tuning_results/best_params_hybrid_lr_comb_rp3_p3a_item.json', 'r') as params_file:\n",
    "    params_lr_comb = json.load(params_file)\n",
    "params_lr_comb"
   ]
  },
  {
   "cell_type": "code",
   "execution_count": 19,
   "id": "84d1a2bc",
   "metadata": {
    "execution": {
     "iopub.execute_input": "2023-11-30T23:43:18.823462Z",
     "iopub.status.busy": "2023-11-30T23:43:18.822701Z",
     "iopub.status.idle": "2023-11-30T23:43:18.830369Z",
     "shell.execute_reply": "2023-11-30T23:43:18.829310Z"
    },
    "papermill": {
     "duration": 0.037759,
     "end_time": "2023-11-30T23:43:18.832600",
     "exception": false,
     "start_time": "2023-11-30T23:43:18.794841",
     "status": "completed"
    },
    "tags": []
   },
   "outputs": [
    {
     "data": {
      "text/plain": [
       "{'factors': 30}"
      ]
     },
     "execution_count": 19,
     "metadata": {},
     "output_type": "execute_result"
    }
   ],
   "source": [
    "with open('/kaggle/working/Recsys_Challenge_2023/tuning_results/pure_svd_params.json', 'r') as params_file:\n",
    "    params_pure_svd = json.load(params_file)\n",
    "params_pure_svd"
   ]
  },
  {
   "cell_type": "code",
   "execution_count": 20,
   "id": "6c90f3ea",
   "metadata": {
    "execution": {
     "iopub.execute_input": "2023-11-30T23:43:18.888646Z",
     "iopub.status.busy": "2023-11-30T23:43:18.887886Z",
     "iopub.status.idle": "2023-11-30T23:43:46.396156Z",
     "shell.execute_reply": "2023-11-30T23:43:46.394960Z"
    },
    "papermill": {
     "duration": 27.53905,
     "end_time": "2023-11-30T23:43:46.398644",
     "exception": false,
     "start_time": "2023-11-30T23:43:18.859594",
     "status": "completed"
    },
    "tags": []
   },
   "outputs": [
    {
     "name": "stdout",
     "output_type": "stream",
     "text": [
      "PureSVDRecommender: URM Detected 851 ( 6.5%) users with no interactions.\n",
      "PureSVDRecommender: URM Detected 476 ( 2.1%) items with no interactions.\n",
      "PureSVDRecommender: Computing SVD decomposition...\n",
      "PureSVDRecommender: Computing SVD decomposition... done in 0.26 sec\n",
      "ItemKNNCFRecommender: URM Detected 851 ( 6.5%) users with no interactions.\n",
      "ItemKNNCFRecommender: URM Detected 476 ( 2.1%) items with no interactions.\n",
      "Similarity column 22347 (100.0%), 4906.11 column/sec. Elapsed time 4.55 sec\n",
      "UserKNNCFRecommender: URM Detected 851 ( 6.5%) users with no interactions.\n",
      "UserKNNCFRecommender: URM Detected 476 ( 2.1%) items with no interactions.\n",
      "Similarity column 13024 (100.0%), 5407.87 column/sec. Elapsed time 2.41 sec\n",
      "RP3betaRecommender: URM Detected 851 ( 6.5%) users with no interactions.\n",
      "RP3betaRecommender: URM Detected 476 ( 2.1%) items with no interactions.\n",
      "RP3betaRecommender: Similarity column 22347 (100.0%), 2738.35 column/sec. Elapsed time 8.16 sec\n",
      "P3alphaRecommender: URM Detected 851 ( 6.5%) users with no interactions.\n",
      "P3alphaRecommender: URM Detected 476 ( 2.1%) items with no interactions.\n",
      "P3alphaRecommender: Similarity column 22347 (100.0%), 3318.45 column/sec. Elapsed time 6.73 sec\n",
      "ItemKNNSimilarityHybridRecommender: URM Detected 851 ( 6.5%) users with no interactions.\n",
      "ItemKNNSimilarityHybridRecommender: URM Detected 476 ( 2.1%) items with no interactions.\n",
      "Recommender_Base_Class: URM Detected 851 ( 6.5%) users with no interactions.\n",
      "Recommender_Base_Class: URM Detected 476 ( 2.1%) items with no interactions.\n"
     ]
    }
   ],
   "source": [
    "pure_svd = PureSVDRecommender(URM_train)\n",
    "pure_svd.fit(num_factors=10)\n",
    "user_factors_train = pure_svd.USER_factors\n",
    "\n",
    "recommender_item = ItemKNNCFRecommender(URM_train)\n",
    "recommender_item.fit(**params_item_knn)\n",
    "\n",
    "recommender_user = UserKNNCFRecommender(URM_train)\n",
    "recommender_user.fit(**params_user_knn)\n",
    "\n",
    "recommender_rp3 = RP3betaRecommender(URM_train)\n",
    "recommender_rp3.fit(**params_rp3)\n",
    "\n",
    "recommender_p3a = P3alphaRecommender(URM_train)\n",
    "recommender_p3a.fit(**params_p3alpha)\n",
    "\n",
    "hybrid_similarity = ItemKNNSimilarityHybridRecommender(URM_train, recommender_item.W_sparse, recommender_rp3.W_sparse)\n",
    "hybrid_similarity.fit(**params_merging)\n",
    "\n",
    "weights = [params_lr_comb['w1'], params_lr_comb['w2'], params_lr_comb['w3']]\n",
    "linear_combinator = LinearCombinationRecommender(URM_train, [recommender_item, recommender_rp3, recommender_p3a], weights)"
   ]
  },
  {
   "cell_type": "code",
   "execution_count": 21,
   "id": "6fb4935c",
   "metadata": {
    "execution": {
     "iopub.execute_input": "2023-11-30T23:43:46.456313Z",
     "iopub.status.busy": "2023-11-30T23:43:46.455611Z",
     "iopub.status.idle": "2023-11-30T23:44:50.553636Z",
     "shell.execute_reply": "2023-11-30T23:44:50.552491Z"
    },
    "papermill": {
     "duration": 64.12908,
     "end_time": "2023-11-30T23:44:50.556055",
     "exception": false,
     "start_time": "2023-11-30T23:43:46.426975",
     "status": "completed"
    },
    "tags": []
   },
   "outputs": [
    {
     "name": "stdout",
     "output_type": "stream",
     "text": [
      "EvaluatorHoldout: Ignoring 2568 (19.7%) Users that have less than 1 test interactions\n",
      "EvaluatorHoldout: Processed 10456 (100.0%) in 16.93 sec. Users per second: 618\n"
     ]
    },
    {
     "data": {
      "text/html": [
       "<div>\n",
       "<style scoped>\n",
       "    .dataframe tbody tr th:only-of-type {\n",
       "        vertical-align: middle;\n",
       "    }\n",
       "\n",
       "    .dataframe tbody tr th {\n",
       "        vertical-align: top;\n",
       "    }\n",
       "\n",
       "    .dataframe thead th {\n",
       "        text-align: right;\n",
       "    }\n",
       "</style>\n",
       "<table border=\"1\" class=\"dataframe\">\n",
       "  <thead>\n",
       "    <tr style=\"text-align: right;\">\n",
       "      <th></th>\n",
       "      <th>PRECISION</th>\n",
       "      <th>PRECISION_RECALL_MIN_DEN</th>\n",
       "      <th>RECALL</th>\n",
       "      <th>MAP</th>\n",
       "      <th>MAP_MIN_DEN</th>\n",
       "      <th>MRR</th>\n",
       "      <th>NDCG</th>\n",
       "      <th>F1</th>\n",
       "      <th>HIT_RATE</th>\n",
       "      <th>ARHR_ALL_HITS</th>\n",
       "      <th>...</th>\n",
       "      <th>COVERAGE_USER</th>\n",
       "      <th>COVERAGE_USER_HIT</th>\n",
       "      <th>USERS_IN_GT</th>\n",
       "      <th>DIVERSITY_GINI</th>\n",
       "      <th>SHANNON_ENTROPY</th>\n",
       "      <th>RATIO_DIVERSITY_HERFINDAHL</th>\n",
       "      <th>RATIO_DIVERSITY_GINI</th>\n",
       "      <th>RATIO_SHANNON_ENTROPY</th>\n",
       "      <th>RATIO_AVERAGE_POPULARITY</th>\n",
       "      <th>RATIO_NOVELTY</th>\n",
       "    </tr>\n",
       "    <tr>\n",
       "      <th>cutoff</th>\n",
       "      <th></th>\n",
       "      <th></th>\n",
       "      <th></th>\n",
       "      <th></th>\n",
       "      <th></th>\n",
       "      <th></th>\n",
       "      <th></th>\n",
       "      <th></th>\n",
       "      <th></th>\n",
       "      <th></th>\n",
       "      <th></th>\n",
       "      <th></th>\n",
       "      <th></th>\n",
       "      <th></th>\n",
       "      <th></th>\n",
       "      <th></th>\n",
       "      <th></th>\n",
       "      <th></th>\n",
       "      <th></th>\n",
       "      <th></th>\n",
       "      <th></th>\n",
       "    </tr>\n",
       "  </thead>\n",
       "  <tbody>\n",
       "    <tr>\n",
       "      <th>10</th>\n",
       "      <td>0.080997</td>\n",
       "      <td>0.138919</td>\n",
       "      <td>0.11736</td>\n",
       "      <td>0.039301</td>\n",
       "      <td>0.068421</td>\n",
       "      <td>0.235828</td>\n",
       "      <td>0.126999</td>\n",
       "      <td>0.095845</td>\n",
       "      <td>0.475134</td>\n",
       "      <td>0.301945</td>\n",
       "      <td>...</td>\n",
       "      <td>0.802826</td>\n",
       "      <td>0.38145</td>\n",
       "      <td>0.802826</td>\n",
       "      <td>0.089735</td>\n",
       "      <td>10.735298</td>\n",
       "      <td>0.998474</td>\n",
       "      <td>0.26242</td>\n",
       "      <td>0.827774</td>\n",
       "      <td>1.482272</td>\n",
       "      <td>0.386963</td>\n",
       "    </tr>\n",
       "  </tbody>\n",
       "</table>\n",
       "<p>1 rows × 27 columns</p>\n",
       "</div>"
      ],
      "text/plain": [
       "       PRECISION PRECISION_RECALL_MIN_DEN   RECALL       MAP MAP_MIN_DEN  \\\n",
       "cutoff                                                                     \n",
       "10      0.080997                 0.138919  0.11736  0.039301    0.068421   \n",
       "\n",
       "             MRR      NDCG        F1  HIT_RATE ARHR_ALL_HITS  ...  \\\n",
       "cutoff                                                        ...   \n",
       "10      0.235828  0.126999  0.095845  0.475134      0.301945  ...   \n",
       "\n",
       "       COVERAGE_USER COVERAGE_USER_HIT USERS_IN_GT DIVERSITY_GINI  \\\n",
       "cutoff                                                              \n",
       "10          0.802826           0.38145    0.802826       0.089735   \n",
       "\n",
       "       SHANNON_ENTROPY RATIO_DIVERSITY_HERFINDAHL RATIO_DIVERSITY_GINI  \\\n",
       "cutoff                                                                   \n",
       "10           10.735298                   0.998474              0.26242   \n",
       "\n",
       "       RATIO_SHANNON_ENTROPY RATIO_AVERAGE_POPULARITY RATIO_NOVELTY  \n",
       "cutoff                                                               \n",
       "10                  0.827774                 1.482272      0.386963  \n",
       "\n",
       "[1 rows x 27 columns]"
      ]
     },
     "metadata": {},
     "output_type": "display_data"
    },
    {
     "name": "stdout",
     "output_type": "stream",
     "text": [
      "EvaluatorHoldout: Processed 10456 (100.0%) in 8.82 sec. Users per second: 1186\n"
     ]
    },
    {
     "data": {
      "text/html": [
       "<div>\n",
       "<style scoped>\n",
       "    .dataframe tbody tr th:only-of-type {\n",
       "        vertical-align: middle;\n",
       "    }\n",
       "\n",
       "    .dataframe tbody tr th {\n",
       "        vertical-align: top;\n",
       "    }\n",
       "\n",
       "    .dataframe thead th {\n",
       "        text-align: right;\n",
       "    }\n",
       "</style>\n",
       "<table border=\"1\" class=\"dataframe\">\n",
       "  <thead>\n",
       "    <tr style=\"text-align: right;\">\n",
       "      <th></th>\n",
       "      <th>PRECISION</th>\n",
       "      <th>PRECISION_RECALL_MIN_DEN</th>\n",
       "      <th>RECALL</th>\n",
       "      <th>MAP</th>\n",
       "      <th>MAP_MIN_DEN</th>\n",
       "      <th>MRR</th>\n",
       "      <th>NDCG</th>\n",
       "      <th>F1</th>\n",
       "      <th>HIT_RATE</th>\n",
       "      <th>ARHR_ALL_HITS</th>\n",
       "      <th>...</th>\n",
       "      <th>COVERAGE_USER</th>\n",
       "      <th>COVERAGE_USER_HIT</th>\n",
       "      <th>USERS_IN_GT</th>\n",
       "      <th>DIVERSITY_GINI</th>\n",
       "      <th>SHANNON_ENTROPY</th>\n",
       "      <th>RATIO_DIVERSITY_HERFINDAHL</th>\n",
       "      <th>RATIO_DIVERSITY_GINI</th>\n",
       "      <th>RATIO_SHANNON_ENTROPY</th>\n",
       "      <th>RATIO_AVERAGE_POPULARITY</th>\n",
       "      <th>RATIO_NOVELTY</th>\n",
       "    </tr>\n",
       "    <tr>\n",
       "      <th>cutoff</th>\n",
       "      <th></th>\n",
       "      <th></th>\n",
       "      <th></th>\n",
       "      <th></th>\n",
       "      <th></th>\n",
       "      <th></th>\n",
       "      <th></th>\n",
       "      <th></th>\n",
       "      <th></th>\n",
       "      <th></th>\n",
       "      <th></th>\n",
       "      <th></th>\n",
       "      <th></th>\n",
       "      <th></th>\n",
       "      <th></th>\n",
       "      <th></th>\n",
       "      <th></th>\n",
       "      <th></th>\n",
       "      <th></th>\n",
       "      <th></th>\n",
       "      <th></th>\n",
       "    </tr>\n",
       "  </thead>\n",
       "  <tbody>\n",
       "    <tr>\n",
       "      <th>10</th>\n",
       "      <td>0.081025</td>\n",
       "      <td>0.139009</td>\n",
       "      <td>0.117417</td>\n",
       "      <td>0.03936</td>\n",
       "      <td>0.06869</td>\n",
       "      <td>0.236081</td>\n",
       "      <td>0.12722</td>\n",
       "      <td>0.095884</td>\n",
       "      <td>0.473986</td>\n",
       "      <td>0.302309</td>\n",
       "      <td>...</td>\n",
       "      <td>0.802826</td>\n",
       "      <td>0.380528</td>\n",
       "      <td>0.802826</td>\n",
       "      <td>0.090976</td>\n",
       "      <td>10.712433</td>\n",
       "      <td>0.998369</td>\n",
       "      <td>0.266052</td>\n",
       "      <td>0.826011</td>\n",
       "      <td>1.532013</td>\n",
       "      <td>0.386674</td>\n",
       "    </tr>\n",
       "  </tbody>\n",
       "</table>\n",
       "<p>1 rows × 27 columns</p>\n",
       "</div>"
      ],
      "text/plain": [
       "       PRECISION PRECISION_RECALL_MIN_DEN    RECALL      MAP MAP_MIN_DEN  \\\n",
       "cutoff                                                                     \n",
       "10      0.081025                 0.139009  0.117417  0.03936     0.06869   \n",
       "\n",
       "             MRR     NDCG        F1  HIT_RATE ARHR_ALL_HITS  ...  \\\n",
       "cutoff                                                       ...   \n",
       "10      0.236081  0.12722  0.095884  0.473986      0.302309  ...   \n",
       "\n",
       "       COVERAGE_USER COVERAGE_USER_HIT USERS_IN_GT DIVERSITY_GINI  \\\n",
       "cutoff                                                              \n",
       "10          0.802826          0.380528    0.802826       0.090976   \n",
       "\n",
       "       SHANNON_ENTROPY RATIO_DIVERSITY_HERFINDAHL RATIO_DIVERSITY_GINI  \\\n",
       "cutoff                                                                   \n",
       "10           10.712433                   0.998369             0.266052   \n",
       "\n",
       "       RATIO_SHANNON_ENTROPY RATIO_AVERAGE_POPULARITY RATIO_NOVELTY  \n",
       "cutoff                                                               \n",
       "10                  0.826011                 1.532013      0.386674  \n",
       "\n",
       "[1 rows x 27 columns]"
      ]
     },
     "metadata": {},
     "output_type": "display_data"
    },
    {
     "name": "stdout",
     "output_type": "stream",
     "text": [
      "EvaluatorHoldout: Processed 10456 (100.0%) in 8.73 sec. Users per second: 1197\n"
     ]
    },
    {
     "data": {
      "text/html": [
       "<div>\n",
       "<style scoped>\n",
       "    .dataframe tbody tr th:only-of-type {\n",
       "        vertical-align: middle;\n",
       "    }\n",
       "\n",
       "    .dataframe tbody tr th {\n",
       "        vertical-align: top;\n",
       "    }\n",
       "\n",
       "    .dataframe thead th {\n",
       "        text-align: right;\n",
       "    }\n",
       "</style>\n",
       "<table border=\"1\" class=\"dataframe\">\n",
       "  <thead>\n",
       "    <tr style=\"text-align: right;\">\n",
       "      <th></th>\n",
       "      <th>PRECISION</th>\n",
       "      <th>PRECISION_RECALL_MIN_DEN</th>\n",
       "      <th>RECALL</th>\n",
       "      <th>MAP</th>\n",
       "      <th>MAP_MIN_DEN</th>\n",
       "      <th>MRR</th>\n",
       "      <th>NDCG</th>\n",
       "      <th>F1</th>\n",
       "      <th>HIT_RATE</th>\n",
       "      <th>ARHR_ALL_HITS</th>\n",
       "      <th>...</th>\n",
       "      <th>COVERAGE_USER</th>\n",
       "      <th>COVERAGE_USER_HIT</th>\n",
       "      <th>USERS_IN_GT</th>\n",
       "      <th>DIVERSITY_GINI</th>\n",
       "      <th>SHANNON_ENTROPY</th>\n",
       "      <th>RATIO_DIVERSITY_HERFINDAHL</th>\n",
       "      <th>RATIO_DIVERSITY_GINI</th>\n",
       "      <th>RATIO_SHANNON_ENTROPY</th>\n",
       "      <th>RATIO_AVERAGE_POPULARITY</th>\n",
       "      <th>RATIO_NOVELTY</th>\n",
       "    </tr>\n",
       "    <tr>\n",
       "      <th>cutoff</th>\n",
       "      <th></th>\n",
       "      <th></th>\n",
       "      <th></th>\n",
       "      <th></th>\n",
       "      <th></th>\n",
       "      <th></th>\n",
       "      <th></th>\n",
       "      <th></th>\n",
       "      <th></th>\n",
       "      <th></th>\n",
       "      <th></th>\n",
       "      <th></th>\n",
       "      <th></th>\n",
       "      <th></th>\n",
       "      <th></th>\n",
       "      <th></th>\n",
       "      <th></th>\n",
       "      <th></th>\n",
       "      <th></th>\n",
       "      <th></th>\n",
       "      <th></th>\n",
       "    </tr>\n",
       "  </thead>\n",
       "  <tbody>\n",
       "    <tr>\n",
       "      <th>10</th>\n",
       "      <td>0.079227</td>\n",
       "      <td>0.134354</td>\n",
       "      <td>0.112913</td>\n",
       "      <td>0.038659</td>\n",
       "      <td>0.066899</td>\n",
       "      <td>0.232562</td>\n",
       "      <td>0.124152</td>\n",
       "      <td>0.093117</td>\n",
       "      <td>0.464327</td>\n",
       "      <td>0.297466</td>\n",
       "      <td>...</td>\n",
       "      <td>0.802826</td>\n",
       "      <td>0.372773</td>\n",
       "      <td>0.802826</td>\n",
       "      <td>0.075591</td>\n",
       "      <td>10.416934</td>\n",
       "      <td>0.997963</td>\n",
       "      <td>0.221058</td>\n",
       "      <td>0.803226</td>\n",
       "      <td>1.653431</td>\n",
       "      <td>0.383628</td>\n",
       "    </tr>\n",
       "  </tbody>\n",
       "</table>\n",
       "<p>1 rows × 27 columns</p>\n",
       "</div>"
      ],
      "text/plain": [
       "       PRECISION PRECISION_RECALL_MIN_DEN    RECALL       MAP MAP_MIN_DEN  \\\n",
       "cutoff                                                                      \n",
       "10      0.079227                 0.134354  0.112913  0.038659    0.066899   \n",
       "\n",
       "             MRR      NDCG        F1  HIT_RATE ARHR_ALL_HITS  ...  \\\n",
       "cutoff                                                        ...   \n",
       "10      0.232562  0.124152  0.093117  0.464327      0.297466  ...   \n",
       "\n",
       "       COVERAGE_USER COVERAGE_USER_HIT USERS_IN_GT DIVERSITY_GINI  \\\n",
       "cutoff                                                              \n",
       "10          0.802826          0.372773    0.802826       0.075591   \n",
       "\n",
       "       SHANNON_ENTROPY RATIO_DIVERSITY_HERFINDAHL RATIO_DIVERSITY_GINI  \\\n",
       "cutoff                                                                   \n",
       "10           10.416934                   0.997963             0.221058   \n",
       "\n",
       "       RATIO_SHANNON_ENTROPY RATIO_AVERAGE_POPULARITY RATIO_NOVELTY  \n",
       "cutoff                                                               \n",
       "10                  0.803226                 1.653431      0.383628  \n",
       "\n",
       "[1 rows x 27 columns]"
      ]
     },
     "metadata": {},
     "output_type": "display_data"
    },
    {
     "name": "stdout",
     "output_type": "stream",
     "text": [
      "EvaluatorHoldout: Processed 10456 (100.0%) in 8.85 sec. Users per second: 1181\n"
     ]
    },
    {
     "data": {
      "text/html": [
       "<div>\n",
       "<style scoped>\n",
       "    .dataframe tbody tr th:only-of-type {\n",
       "        vertical-align: middle;\n",
       "    }\n",
       "\n",
       "    .dataframe tbody tr th {\n",
       "        vertical-align: top;\n",
       "    }\n",
       "\n",
       "    .dataframe thead th {\n",
       "        text-align: right;\n",
       "    }\n",
       "</style>\n",
       "<table border=\"1\" class=\"dataframe\">\n",
       "  <thead>\n",
       "    <tr style=\"text-align: right;\">\n",
       "      <th></th>\n",
       "      <th>PRECISION</th>\n",
       "      <th>PRECISION_RECALL_MIN_DEN</th>\n",
       "      <th>RECALL</th>\n",
       "      <th>MAP</th>\n",
       "      <th>MAP_MIN_DEN</th>\n",
       "      <th>MRR</th>\n",
       "      <th>NDCG</th>\n",
       "      <th>F1</th>\n",
       "      <th>HIT_RATE</th>\n",
       "      <th>ARHR_ALL_HITS</th>\n",
       "      <th>...</th>\n",
       "      <th>COVERAGE_USER</th>\n",
       "      <th>COVERAGE_USER_HIT</th>\n",
       "      <th>USERS_IN_GT</th>\n",
       "      <th>DIVERSITY_GINI</th>\n",
       "      <th>SHANNON_ENTROPY</th>\n",
       "      <th>RATIO_DIVERSITY_HERFINDAHL</th>\n",
       "      <th>RATIO_DIVERSITY_GINI</th>\n",
       "      <th>RATIO_SHANNON_ENTROPY</th>\n",
       "      <th>RATIO_AVERAGE_POPULARITY</th>\n",
       "      <th>RATIO_NOVELTY</th>\n",
       "    </tr>\n",
       "    <tr>\n",
       "      <th>cutoff</th>\n",
       "      <th></th>\n",
       "      <th></th>\n",
       "      <th></th>\n",
       "      <th></th>\n",
       "      <th></th>\n",
       "      <th></th>\n",
       "      <th></th>\n",
       "      <th></th>\n",
       "      <th></th>\n",
       "      <th></th>\n",
       "      <th></th>\n",
       "      <th></th>\n",
       "      <th></th>\n",
       "      <th></th>\n",
       "      <th></th>\n",
       "      <th></th>\n",
       "      <th></th>\n",
       "      <th></th>\n",
       "      <th></th>\n",
       "      <th></th>\n",
       "      <th></th>\n",
       "    </tr>\n",
       "  </thead>\n",
       "  <tbody>\n",
       "    <tr>\n",
       "      <th>10</th>\n",
       "      <td>0.079438</td>\n",
       "      <td>0.137056</td>\n",
       "      <td>0.116063</td>\n",
       "      <td>0.037942</td>\n",
       "      <td>0.0665</td>\n",
       "      <td>0.229898</td>\n",
       "      <td>0.124228</td>\n",
       "      <td>0.09432</td>\n",
       "      <td>0.472552</td>\n",
       "      <td>0.293114</td>\n",
       "      <td>...</td>\n",
       "      <td>0.802826</td>\n",
       "      <td>0.379377</td>\n",
       "      <td>0.802826</td>\n",
       "      <td>0.094597</td>\n",
       "      <td>10.776712</td>\n",
       "      <td>0.998421</td>\n",
       "      <td>0.276639</td>\n",
       "      <td>0.830968</td>\n",
       "      <td>1.486113</td>\n",
       "      <td>0.38939</td>\n",
       "    </tr>\n",
       "  </tbody>\n",
       "</table>\n",
       "<p>1 rows × 27 columns</p>\n",
       "</div>"
      ],
      "text/plain": [
       "       PRECISION PRECISION_RECALL_MIN_DEN    RECALL       MAP MAP_MIN_DEN  \\\n",
       "cutoff                                                                      \n",
       "10      0.079438                 0.137056  0.116063  0.037942      0.0665   \n",
       "\n",
       "             MRR      NDCG       F1  HIT_RATE ARHR_ALL_HITS  ...  \\\n",
       "cutoff                                                       ...   \n",
       "10      0.229898  0.124228  0.09432  0.472552      0.293114  ...   \n",
       "\n",
       "       COVERAGE_USER COVERAGE_USER_HIT USERS_IN_GT DIVERSITY_GINI  \\\n",
       "cutoff                                                              \n",
       "10          0.802826          0.379377    0.802826       0.094597   \n",
       "\n",
       "       SHANNON_ENTROPY RATIO_DIVERSITY_HERFINDAHL RATIO_DIVERSITY_GINI  \\\n",
       "cutoff                                                                   \n",
       "10           10.776712                   0.998421             0.276639   \n",
       "\n",
       "       RATIO_SHANNON_ENTROPY RATIO_AVERAGE_POPULARITY RATIO_NOVELTY  \n",
       "cutoff                                                               \n",
       "10                  0.830968                 1.486113       0.38939  \n",
       "\n",
       "[1 rows x 27 columns]"
      ]
     },
     "metadata": {},
     "output_type": "display_data"
    },
    {
     "name": "stdout",
     "output_type": "stream",
     "text": [
      "EvaluatorHoldout: Processed 10456 (100.0%) in 8.58 sec. Users per second: 1219\n"
     ]
    },
    {
     "data": {
      "text/html": [
       "<div>\n",
       "<style scoped>\n",
       "    .dataframe tbody tr th:only-of-type {\n",
       "        vertical-align: middle;\n",
       "    }\n",
       "\n",
       "    .dataframe tbody tr th {\n",
       "        vertical-align: top;\n",
       "    }\n",
       "\n",
       "    .dataframe thead th {\n",
       "        text-align: right;\n",
       "    }\n",
       "</style>\n",
       "<table border=\"1\" class=\"dataframe\">\n",
       "  <thead>\n",
       "    <tr style=\"text-align: right;\">\n",
       "      <th></th>\n",
       "      <th>PRECISION</th>\n",
       "      <th>PRECISION_RECALL_MIN_DEN</th>\n",
       "      <th>RECALL</th>\n",
       "      <th>MAP</th>\n",
       "      <th>MAP_MIN_DEN</th>\n",
       "      <th>MRR</th>\n",
       "      <th>NDCG</th>\n",
       "      <th>F1</th>\n",
       "      <th>HIT_RATE</th>\n",
       "      <th>ARHR_ALL_HITS</th>\n",
       "      <th>...</th>\n",
       "      <th>COVERAGE_USER</th>\n",
       "      <th>COVERAGE_USER_HIT</th>\n",
       "      <th>USERS_IN_GT</th>\n",
       "      <th>DIVERSITY_GINI</th>\n",
       "      <th>SHANNON_ENTROPY</th>\n",
       "      <th>RATIO_DIVERSITY_HERFINDAHL</th>\n",
       "      <th>RATIO_DIVERSITY_GINI</th>\n",
       "      <th>RATIO_SHANNON_ENTROPY</th>\n",
       "      <th>RATIO_AVERAGE_POPULARITY</th>\n",
       "      <th>RATIO_NOVELTY</th>\n",
       "    </tr>\n",
       "    <tr>\n",
       "      <th>cutoff</th>\n",
       "      <th></th>\n",
       "      <th></th>\n",
       "      <th></th>\n",
       "      <th></th>\n",
       "      <th></th>\n",
       "      <th></th>\n",
       "      <th></th>\n",
       "      <th></th>\n",
       "      <th></th>\n",
       "      <th></th>\n",
       "      <th></th>\n",
       "      <th></th>\n",
       "      <th></th>\n",
       "      <th></th>\n",
       "      <th></th>\n",
       "      <th></th>\n",
       "      <th></th>\n",
       "      <th></th>\n",
       "      <th></th>\n",
       "      <th></th>\n",
       "      <th></th>\n",
       "    </tr>\n",
       "  </thead>\n",
       "  <tbody>\n",
       "    <tr>\n",
       "      <th>10</th>\n",
       "      <td>0.076597</td>\n",
       "      <td>0.128011</td>\n",
       "      <td>0.107295</td>\n",
       "      <td>0.037249</td>\n",
       "      <td>0.064121</td>\n",
       "      <td>0.227216</td>\n",
       "      <td>0.119645</td>\n",
       "      <td>0.089384</td>\n",
       "      <td>0.456293</td>\n",
       "      <td>0.288684</td>\n",
       "      <td>...</td>\n",
       "      <td>0.802826</td>\n",
       "      <td>0.366324</td>\n",
       "      <td>0.802826</td>\n",
       "      <td>0.073525</td>\n",
       "      <td>10.528122</td>\n",
       "      <td>0.998292</td>\n",
       "      <td>0.215016</td>\n",
       "      <td>0.811799</td>\n",
       "      <td>1.349456</td>\n",
       "      <td>0.38717</td>\n",
       "    </tr>\n",
       "  </tbody>\n",
       "</table>\n",
       "<p>1 rows × 27 columns</p>\n",
       "</div>"
      ],
      "text/plain": [
       "       PRECISION PRECISION_RECALL_MIN_DEN    RECALL       MAP MAP_MIN_DEN  \\\n",
       "cutoff                                                                      \n",
       "10      0.076597                 0.128011  0.107295  0.037249    0.064121   \n",
       "\n",
       "             MRR      NDCG        F1  HIT_RATE ARHR_ALL_HITS  ...  \\\n",
       "cutoff                                                        ...   \n",
       "10      0.227216  0.119645  0.089384  0.456293      0.288684  ...   \n",
       "\n",
       "       COVERAGE_USER COVERAGE_USER_HIT USERS_IN_GT DIVERSITY_GINI  \\\n",
       "cutoff                                                              \n",
       "10          0.802826          0.366324    0.802826       0.073525   \n",
       "\n",
       "       SHANNON_ENTROPY RATIO_DIVERSITY_HERFINDAHL RATIO_DIVERSITY_GINI  \\\n",
       "cutoff                                                                   \n",
       "10           10.528122                   0.998292             0.215016   \n",
       "\n",
       "       RATIO_SHANNON_ENTROPY RATIO_AVERAGE_POPULARITY RATIO_NOVELTY  \n",
       "cutoff                                                               \n",
       "10                  0.811799                 1.349456       0.38717  \n",
       "\n",
       "[1 rows x 27 columns]"
      ]
     },
     "metadata": {},
     "output_type": "display_data"
    },
    {
     "name": "stdout",
     "output_type": "stream",
     "text": [
      "EvaluatorHoldout: Processed 10456 (100.0%) in 11.97 sec. Users per second: 874\n"
     ]
    },
    {
     "data": {
      "text/html": [
       "<div>\n",
       "<style scoped>\n",
       "    .dataframe tbody tr th:only-of-type {\n",
       "        vertical-align: middle;\n",
       "    }\n",
       "\n",
       "    .dataframe tbody tr th {\n",
       "        vertical-align: top;\n",
       "    }\n",
       "\n",
       "    .dataframe thead th {\n",
       "        text-align: right;\n",
       "    }\n",
       "</style>\n",
       "<table border=\"1\" class=\"dataframe\">\n",
       "  <thead>\n",
       "    <tr style=\"text-align: right;\">\n",
       "      <th></th>\n",
       "      <th>PRECISION</th>\n",
       "      <th>PRECISION_RECALL_MIN_DEN</th>\n",
       "      <th>RECALL</th>\n",
       "      <th>MAP</th>\n",
       "      <th>MAP_MIN_DEN</th>\n",
       "      <th>MRR</th>\n",
       "      <th>NDCG</th>\n",
       "      <th>F1</th>\n",
       "      <th>HIT_RATE</th>\n",
       "      <th>ARHR_ALL_HITS</th>\n",
       "      <th>...</th>\n",
       "      <th>COVERAGE_USER</th>\n",
       "      <th>COVERAGE_USER_HIT</th>\n",
       "      <th>USERS_IN_GT</th>\n",
       "      <th>DIVERSITY_GINI</th>\n",
       "      <th>SHANNON_ENTROPY</th>\n",
       "      <th>RATIO_DIVERSITY_HERFINDAHL</th>\n",
       "      <th>RATIO_DIVERSITY_GINI</th>\n",
       "      <th>RATIO_SHANNON_ENTROPY</th>\n",
       "      <th>RATIO_AVERAGE_POPULARITY</th>\n",
       "      <th>RATIO_NOVELTY</th>\n",
       "    </tr>\n",
       "    <tr>\n",
       "      <th>cutoff</th>\n",
       "      <th></th>\n",
       "      <th></th>\n",
       "      <th></th>\n",
       "      <th></th>\n",
       "      <th></th>\n",
       "      <th></th>\n",
       "      <th></th>\n",
       "      <th></th>\n",
       "      <th></th>\n",
       "      <th></th>\n",
       "      <th></th>\n",
       "      <th></th>\n",
       "      <th></th>\n",
       "      <th></th>\n",
       "      <th></th>\n",
       "      <th></th>\n",
       "      <th></th>\n",
       "      <th></th>\n",
       "      <th></th>\n",
       "      <th></th>\n",
       "      <th></th>\n",
       "    </tr>\n",
       "  </thead>\n",
       "  <tbody>\n",
       "    <tr>\n",
       "      <th>10</th>\n",
       "      <td>0.061448</td>\n",
       "      <td>0.112121</td>\n",
       "      <td>0.096632</td>\n",
       "      <td>0.028523</td>\n",
       "      <td>0.05183</td>\n",
       "      <td>0.190388</td>\n",
       "      <td>0.099346</td>\n",
       "      <td>0.075124</td>\n",
       "      <td>0.40637</td>\n",
       "      <td>0.231987</td>\n",
       "      <td>...</td>\n",
       "      <td>0.802826</td>\n",
       "      <td>0.326244</td>\n",
       "      <td>0.802826</td>\n",
       "      <td>0.011369</td>\n",
       "      <td>7.734762</td>\n",
       "      <td>0.986162</td>\n",
       "      <td>0.033249</td>\n",
       "      <td>0.59641</td>\n",
       "      <td>3.662908</td>\n",
       "      <td>0.323456</td>\n",
       "    </tr>\n",
       "  </tbody>\n",
       "</table>\n",
       "<p>1 rows × 27 columns</p>\n",
       "</div>"
      ],
      "text/plain": [
       "       PRECISION PRECISION_RECALL_MIN_DEN    RECALL       MAP MAP_MIN_DEN  \\\n",
       "cutoff                                                                      \n",
       "10      0.061448                 0.112121  0.096632  0.028523     0.05183   \n",
       "\n",
       "             MRR      NDCG        F1 HIT_RATE ARHR_ALL_HITS  ...  \\\n",
       "cutoff                                                       ...   \n",
       "10      0.190388  0.099346  0.075124  0.40637      0.231987  ...   \n",
       "\n",
       "       COVERAGE_USER COVERAGE_USER_HIT USERS_IN_GT DIVERSITY_GINI  \\\n",
       "cutoff                                                              \n",
       "10          0.802826          0.326244    0.802826       0.011369   \n",
       "\n",
       "       SHANNON_ENTROPY RATIO_DIVERSITY_HERFINDAHL RATIO_DIVERSITY_GINI  \\\n",
       "cutoff                                                                   \n",
       "10            7.734762                   0.986162             0.033249   \n",
       "\n",
       "       RATIO_SHANNON_ENTROPY RATIO_AVERAGE_POPULARITY RATIO_NOVELTY  \n",
       "cutoff                                                               \n",
       "10                   0.59641                 3.662908      0.323456  \n",
       "\n",
       "[1 rows x 27 columns]"
      ]
     },
     "metadata": {},
     "output_type": "display_data"
    }
   ],
   "source": [
    "evaluator = EvaluatorHoldout(URM_test_complete, cutoff_list=[10])\n",
    "\n",
    "result_df, _ = evaluator.evaluateRecommender(linear_combinator)\n",
    "display(result_df)\n",
    "result_df, _ = evaluator.evaluateRecommender(hybrid_similarity)\n",
    "display(result_df)\n",
    "result_df, _ = evaluator.evaluateRecommender(recommender_item)\n",
    "display(result_df)\n",
    "result_df, _ = evaluator.evaluateRecommender(recommender_rp3)\n",
    "display(result_df)\n",
    "result_df, _ = evaluator.evaluateRecommender(recommender_p3a)\n",
    "display(result_df)\n",
    "result_df, _ = evaluator.evaluateRecommender(recommender_user)\n",
    "display(result_df)"
   ]
  },
  {
   "cell_type": "code",
   "execution_count": 22,
   "id": "3a0e0059",
   "metadata": {
    "execution": {
     "iopub.execute_input": "2023-11-30T23:44:50.617890Z",
     "iopub.status.busy": "2023-11-30T23:44:50.617475Z",
     "iopub.status.idle": "2023-11-30T23:45:15.605985Z",
     "shell.execute_reply": "2023-11-30T23:45:15.604825Z"
    },
    "papermill": {
     "duration": 25.022215,
     "end_time": "2023-11-30T23:45:15.608215",
     "exception": false,
     "start_time": "2023-11-30T23:44:50.586000",
     "status": "completed"
    },
    "tags": []
   },
   "outputs": [
    {
     "name": "stderr",
     "output_type": "stream",
     "text": [
      "/tmp/ipykernel_19/2976680536.py:7: TqdmDeprecationWarning: This function will be removed in tqdm==5.0.0\n",
      "Please use `tqdm.notebook.tqdm` instead of `tqdm.tqdm_notebook`\n",
      "  for user_id in tqdm.tqdm_notebook(range(n_users)):\n"
     ]
    },
    {
     "data": {
      "application/vnd.jupyter.widget-view+json": {
       "model_id": "fe3a6f08edb646f799ca7fe50f03a71a",
       "version_major": 2,
       "version_minor": 0
      },
      "text/plain": [
       "  0%|          | 0/13024 [00:00<?, ?it/s]"
      ]
     },
     "metadata": {},
     "output_type": "display_data"
    },
    {
     "data": {
      "text/html": [
       "<div>\n",
       "<style scoped>\n",
       "    .dataframe tbody tr th:only-of-type {\n",
       "        vertical-align: middle;\n",
       "    }\n",
       "\n",
       "    .dataframe tbody tr th {\n",
       "        vertical-align: top;\n",
       "    }\n",
       "\n",
       "    .dataframe thead th {\n",
       "        text-align: right;\n",
       "    }\n",
       "</style>\n",
       "<table border=\"1\" class=\"dataframe\">\n",
       "  <thead>\n",
       "    <tr style=\"text-align: right;\">\n",
       "      <th></th>\n",
       "      <th>ItemID</th>\n",
       "    </tr>\n",
       "    <tr>\n",
       "      <th>UserID</th>\n",
       "      <th></th>\n",
       "    </tr>\n",
       "  </thead>\n",
       "  <tbody>\n",
       "    <tr>\n",
       "      <th>0</th>\n",
       "      <td>35</td>\n",
       "    </tr>\n",
       "    <tr>\n",
       "      <th>0</th>\n",
       "      <td>100</td>\n",
       "    </tr>\n",
       "    <tr>\n",
       "      <th>0</th>\n",
       "      <td>505</td>\n",
       "    </tr>\n",
       "    <tr>\n",
       "      <th>0</th>\n",
       "      <td>122</td>\n",
       "    </tr>\n",
       "    <tr>\n",
       "      <th>0</th>\n",
       "      <td>402</td>\n",
       "    </tr>\n",
       "    <tr>\n",
       "      <th>...</th>\n",
       "      <td>...</td>\n",
       "    </tr>\n",
       "    <tr>\n",
       "      <th>13023</th>\n",
       "      <td>842</td>\n",
       "    </tr>\n",
       "    <tr>\n",
       "      <th>13023</th>\n",
       "      <td>9589</td>\n",
       "    </tr>\n",
       "    <tr>\n",
       "      <th>13023</th>\n",
       "      <td>349</td>\n",
       "    </tr>\n",
       "    <tr>\n",
       "      <th>13023</th>\n",
       "      <td>334</td>\n",
       "    </tr>\n",
       "    <tr>\n",
       "      <th>13023</th>\n",
       "      <td>1408</td>\n",
       "    </tr>\n",
       "  </tbody>\n",
       "</table>\n",
       "<p>390720 rows × 1 columns</p>\n",
       "</div>"
      ],
      "text/plain": [
       "       ItemID\n",
       "UserID       \n",
       "0          35\n",
       "0         100\n",
       "0         505\n",
       "0         122\n",
       "0         402\n",
       "...       ...\n",
       "13023     842\n",
       "13023    9589\n",
       "13023     349\n",
       "13023     334\n",
       "13023    1408\n",
       "\n",
       "[390720 rows x 1 columns]"
      ]
     },
     "execution_count": 22,
     "metadata": {},
     "output_type": "execute_result"
    }
   ],
   "source": [
    "cutoff = 30\n",
    "n_users, n_items = URM_train.shape\n",
    "\n",
    "training_dataframe = pd.DataFrame(index=range(0, n_users), columns = [\"ItemID\"])\n",
    "training_dataframe.index.name='UserID'\n",
    "\n",
    "for user_id in tqdm.tqdm_notebook(range(n_users)):    \n",
    "    recommendations = linear_combinator.recommend(user_id, cutoff = cutoff)\n",
    "#     recommendations = recommender_item.recommend(user_id, cutoff=cutoff)\n",
    "    training_dataframe.loc[user_id, \"ItemID\"] = recommendations\n",
    "    \n",
    "training_dataframe = training_dataframe.explode(\"ItemID\")\n",
    "training_dataframe"
   ]
  },
  {
   "cell_type": "code",
   "execution_count": 23,
   "id": "761131b9",
   "metadata": {
    "execution": {
     "iopub.execute_input": "2023-11-30T23:45:15.671327Z",
     "iopub.status.busy": "2023-11-30T23:45:15.670886Z",
     "iopub.status.idle": "2023-11-30T23:45:15.685006Z",
     "shell.execute_reply": "2023-11-30T23:45:15.683857Z"
    },
    "papermill": {
     "duration": 0.048727,
     "end_time": "2023-11-30T23:45:15.687490",
     "exception": false,
     "start_time": "2023-11-30T23:45:15.638763",
     "status": "completed"
    },
    "tags": []
   },
   "outputs": [
    {
     "data": {
      "text/html": [
       "<div>\n",
       "<style scoped>\n",
       "    .dataframe tbody tr th:only-of-type {\n",
       "        vertical-align: middle;\n",
       "    }\n",
       "\n",
       "    .dataframe tbody tr th {\n",
       "        vertical-align: top;\n",
       "    }\n",
       "\n",
       "    .dataframe thead th {\n",
       "        text-align: right;\n",
       "    }\n",
       "</style>\n",
       "<table border=\"1\" class=\"dataframe\">\n",
       "  <thead>\n",
       "    <tr style=\"text-align: right;\">\n",
       "      <th></th>\n",
       "      <th>UserID</th>\n",
       "      <th>ItemID</th>\n",
       "    </tr>\n",
       "  </thead>\n",
       "  <tbody>\n",
       "    <tr>\n",
       "      <th>0</th>\n",
       "      <td>0</td>\n",
       "      <td>15</td>\n",
       "    </tr>\n",
       "    <tr>\n",
       "      <th>1</th>\n",
       "      <td>0</td>\n",
       "      <td>385</td>\n",
       "    </tr>\n",
       "    <tr>\n",
       "      <th>2</th>\n",
       "      <td>0</td>\n",
       "      <td>1934</td>\n",
       "    </tr>\n",
       "    <tr>\n",
       "      <th>3</th>\n",
       "      <td>0</td>\n",
       "      <td>4302</td>\n",
       "    </tr>\n",
       "    <tr>\n",
       "      <th>4</th>\n",
       "      <td>0</td>\n",
       "      <td>17444</td>\n",
       "    </tr>\n",
       "    <tr>\n",
       "      <th>...</th>\n",
       "      <td>...</td>\n",
       "      <td>...</td>\n",
       "    </tr>\n",
       "    <tr>\n",
       "      <th>76592</th>\n",
       "      <td>13023</td>\n",
       "      <td>2365</td>\n",
       "    </tr>\n",
       "    <tr>\n",
       "      <th>76593</th>\n",
       "      <td>13023</td>\n",
       "      <td>2961</td>\n",
       "    </tr>\n",
       "    <tr>\n",
       "      <th>76594</th>\n",
       "      <td>13023</td>\n",
       "      <td>3606</td>\n",
       "    </tr>\n",
       "    <tr>\n",
       "      <th>76595</th>\n",
       "      <td>13023</td>\n",
       "      <td>6282</td>\n",
       "    </tr>\n",
       "    <tr>\n",
       "      <th>76596</th>\n",
       "      <td>13023</td>\n",
       "      <td>6788</td>\n",
       "    </tr>\n",
       "  </tbody>\n",
       "</table>\n",
       "<p>76597 rows × 2 columns</p>\n",
       "</div>"
      ],
      "text/plain": [
       "       UserID  ItemID\n",
       "0           0      15\n",
       "1           0     385\n",
       "2           0    1934\n",
       "3           0    4302\n",
       "4           0   17444\n",
       "...       ...     ...\n",
       "76592   13023    2365\n",
       "76593   13023    2961\n",
       "76594   13023    3606\n",
       "76595   13023    6282\n",
       "76596   13023    6788\n",
       "\n",
       "[76597 rows x 2 columns]"
      ]
     },
     "execution_count": 23,
     "metadata": {},
     "output_type": "execute_result"
    }
   ],
   "source": [
    "URM_validation_coo = sps.coo_matrix(URM_validation)\n",
    "\n",
    "correct_recommendations = pd.DataFrame({\"UserID\": URM_validation_coo.row,\n",
    "                                        \"ItemID\": URM_validation_coo.col})\n",
    "correct_recommendations"
   ]
  },
  {
   "cell_type": "code",
   "execution_count": 24,
   "id": "f4789d87",
   "metadata": {
    "execution": {
     "iopub.execute_input": "2023-11-30T23:45:15.750752Z",
     "iopub.status.busy": "2023-11-30T23:45:15.750332Z",
     "iopub.status.idle": "2023-11-30T23:45:16.012468Z",
     "shell.execute_reply": "2023-11-30T23:45:16.011232Z"
    },
    "papermill": {
     "duration": 0.296344,
     "end_time": "2023-11-30T23:45:16.014828",
     "exception": false,
     "start_time": "2023-11-30T23:45:15.718484",
     "status": "completed"
    },
    "tags": []
   },
   "outputs": [
    {
     "data": {
      "text/html": [
       "<div>\n",
       "<style scoped>\n",
       "    .dataframe tbody tr th:only-of-type {\n",
       "        vertical-align: middle;\n",
       "    }\n",
       "\n",
       "    .dataframe tbody tr th {\n",
       "        vertical-align: top;\n",
       "    }\n",
       "\n",
       "    .dataframe thead th {\n",
       "        text-align: right;\n",
       "    }\n",
       "</style>\n",
       "<table border=\"1\" class=\"dataframe\">\n",
       "  <thead>\n",
       "    <tr style=\"text-align: right;\">\n",
       "      <th></th>\n",
       "      <th>UserID</th>\n",
       "      <th>ItemID</th>\n",
       "      <th>Label</th>\n",
       "    </tr>\n",
       "  </thead>\n",
       "  <tbody>\n",
       "    <tr>\n",
       "      <th>0</th>\n",
       "      <td>0</td>\n",
       "      <td>35</td>\n",
       "      <td>False</td>\n",
       "    </tr>\n",
       "    <tr>\n",
       "      <th>1</th>\n",
       "      <td>0</td>\n",
       "      <td>100</td>\n",
       "      <td>False</td>\n",
       "    </tr>\n",
       "    <tr>\n",
       "      <th>2</th>\n",
       "      <td>0</td>\n",
       "      <td>505</td>\n",
       "      <td>False</td>\n",
       "    </tr>\n",
       "    <tr>\n",
       "      <th>3</th>\n",
       "      <td>0</td>\n",
       "      <td>122</td>\n",
       "      <td>False</td>\n",
       "    </tr>\n",
       "    <tr>\n",
       "      <th>4</th>\n",
       "      <td>0</td>\n",
       "      <td>402</td>\n",
       "      <td>False</td>\n",
       "    </tr>\n",
       "    <tr>\n",
       "      <th>...</th>\n",
       "      <td>...</td>\n",
       "      <td>...</td>\n",
       "      <td>...</td>\n",
       "    </tr>\n",
       "    <tr>\n",
       "      <th>390715</th>\n",
       "      <td>13023</td>\n",
       "      <td>842</td>\n",
       "      <td>False</td>\n",
       "    </tr>\n",
       "    <tr>\n",
       "      <th>390716</th>\n",
       "      <td>13023</td>\n",
       "      <td>9589</td>\n",
       "      <td>False</td>\n",
       "    </tr>\n",
       "    <tr>\n",
       "      <th>390717</th>\n",
       "      <td>13023</td>\n",
       "      <td>349</td>\n",
       "      <td>False</td>\n",
       "    </tr>\n",
       "    <tr>\n",
       "      <th>390718</th>\n",
       "      <td>13023</td>\n",
       "      <td>334</td>\n",
       "      <td>False</td>\n",
       "    </tr>\n",
       "    <tr>\n",
       "      <th>390719</th>\n",
       "      <td>13023</td>\n",
       "      <td>1408</td>\n",
       "      <td>False</td>\n",
       "    </tr>\n",
       "  </tbody>\n",
       "</table>\n",
       "<p>390720 rows × 3 columns</p>\n",
       "</div>"
      ],
      "text/plain": [
       "        UserID ItemID  Label\n",
       "0            0     35  False\n",
       "1            0    100  False\n",
       "2            0    505  False\n",
       "3            0    122  False\n",
       "4            0    402  False\n",
       "...        ...    ...    ...\n",
       "390715   13023    842  False\n",
       "390716   13023   9589  False\n",
       "390717   13023    349  False\n",
       "390718   13023    334  False\n",
       "390719   13023   1408  False\n",
       "\n",
       "[390720 rows x 3 columns]"
      ]
     },
     "execution_count": 24,
     "metadata": {},
     "output_type": "execute_result"
    }
   ],
   "source": [
    "training_dataframe = pd.merge(training_dataframe, correct_recommendations, on=['UserID','ItemID'], how='left', indicator='Exist')\n",
    "training_dataframe[\"Label\"] = training_dataframe[\"Exist\"] == \"both\"\n",
    "training_dataframe.drop(columns = ['Exist'], inplace=True)\n",
    "training_dataframe"
   ]
  },
  {
   "cell_type": "code",
   "execution_count": 25,
   "id": "bd738d9b",
   "metadata": {
    "execution": {
     "iopub.execute_input": "2023-11-30T23:45:16.080328Z",
     "iopub.status.busy": "2023-11-30T23:45:16.079910Z",
     "iopub.status.idle": "2023-11-30T23:46:21.868722Z",
     "shell.execute_reply": "2023-11-30T23:46:21.867513Z"
    },
    "papermill": {
     "duration": 65.824664,
     "end_time": "2023-11-30T23:46:21.871303",
     "exception": false,
     "start_time": "2023-11-30T23:45:16.046639",
     "status": "completed"
    },
    "tags": []
   },
   "outputs": [
    {
     "name": "stderr",
     "output_type": "stream",
     "text": [
      "/tmp/ipykernel_19/1433044950.py:3: TqdmDeprecationWarning: This function will be removed in tqdm==5.0.0\n",
      "Please use `tqdm.notebook.tqdm` instead of `tqdm.tqdm_notebook`\n",
      "  for user_id in tqdm.tqdm_notebook(range(n_users)):\n"
     ]
    },
    {
     "data": {
      "application/vnd.jupyter.widget-view+json": {
       "model_id": "5bbb4f55ee5f44479f94c1dd0ce6b7f4",
       "version_major": 2,
       "version_minor": 0
      },
      "text/plain": [
       "  0%|          | 0/13024 [00:00<?, ?it/s]"
      ]
     },
     "metadata": {},
     "output_type": "display_data"
    },
    {
     "data": {
      "text/html": [
       "<div>\n",
       "<style scoped>\n",
       "    .dataframe tbody tr th:only-of-type {\n",
       "        vertical-align: middle;\n",
       "    }\n",
       "\n",
       "    .dataframe tbody tr th {\n",
       "        vertical-align: top;\n",
       "    }\n",
       "\n",
       "    .dataframe thead th {\n",
       "        text-align: right;\n",
       "    }\n",
       "</style>\n",
       "<table border=\"1\" class=\"dataframe\">\n",
       "  <thead>\n",
       "    <tr style=\"text-align: right;\">\n",
       "      <th></th>\n",
       "      <th>UserID</th>\n",
       "      <th>ItemID</th>\n",
       "      <th>Label</th>\n",
       "      <th>UserKNN</th>\n",
       "      <th>RP3</th>\n",
       "      <th>P3alpha</th>\n",
       "      <th>PureSVD</th>\n",
       "      <th>Merging</th>\n",
       "      <th>ItemKNN</th>\n",
       "    </tr>\n",
       "  </thead>\n",
       "  <tbody>\n",
       "    <tr>\n",
       "      <th>0</th>\n",
       "      <td>0</td>\n",
       "      <td>35</td>\n",
       "      <td>False</td>\n",
       "      <td>2.692282</td>\n",
       "      <td>0.312720</td>\n",
       "      <td>0.267208</td>\n",
       "      <td>0.186262</td>\n",
       "      <td>0.355785</td>\n",
       "      <td>0.440298</td>\n",
       "    </tr>\n",
       "    <tr>\n",
       "      <th>1</th>\n",
       "      <td>0</td>\n",
       "      <td>100</td>\n",
       "      <td>False</td>\n",
       "      <td>2.607288</td>\n",
       "      <td>0.276248</td>\n",
       "      <td>0.182752</td>\n",
       "      <td>0.103168</td>\n",
       "      <td>0.289067</td>\n",
       "      <td>0.314223</td>\n",
       "    </tr>\n",
       "    <tr>\n",
       "      <th>2</th>\n",
       "      <td>0</td>\n",
       "      <td>505</td>\n",
       "      <td>False</td>\n",
       "      <td>16.224499</td>\n",
       "      <td>0.193664</td>\n",
       "      <td>0.116966</td>\n",
       "      <td>0.034301</td>\n",
       "      <td>0.229215</td>\n",
       "      <td>0.298980</td>\n",
       "    </tr>\n",
       "    <tr>\n",
       "      <th>3</th>\n",
       "      <td>0</td>\n",
       "      <td>122</td>\n",
       "      <td>False</td>\n",
       "      <td>57.671581</td>\n",
       "      <td>0.169682</td>\n",
       "      <td>0.141561</td>\n",
       "      <td>-0.002599</td>\n",
       "      <td>0.174301</td>\n",
       "      <td>0.183365</td>\n",
       "    </tr>\n",
       "    <tr>\n",
       "      <th>4</th>\n",
       "      <td>0</td>\n",
       "      <td>402</td>\n",
       "      <td>False</td>\n",
       "      <td>0.899653</td>\n",
       "      <td>0.164923</td>\n",
       "      <td>0.094528</td>\n",
       "      <td>0.033779</td>\n",
       "      <td>0.190472</td>\n",
       "      <td>0.240611</td>\n",
       "    </tr>\n",
       "    <tr>\n",
       "      <th>...</th>\n",
       "      <td>...</td>\n",
       "      <td>...</td>\n",
       "      <td>...</td>\n",
       "      <td>...</td>\n",
       "      <td>...</td>\n",
       "      <td>...</td>\n",
       "      <td>...</td>\n",
       "      <td>...</td>\n",
       "      <td>...</td>\n",
       "    </tr>\n",
       "    <tr>\n",
       "      <th>390715</th>\n",
       "      <td>13023</td>\n",
       "      <td>842</td>\n",
       "      <td>False</td>\n",
       "      <td>1.053652</td>\n",
       "      <td>0.109139</td>\n",
       "      <td>0.054431</td>\n",
       "      <td>0.061869</td>\n",
       "      <td>0.137277</td>\n",
       "      <td>0.192495</td>\n",
       "    </tr>\n",
       "    <tr>\n",
       "      <th>390716</th>\n",
       "      <td>13023</td>\n",
       "      <td>9589</td>\n",
       "      <td>False</td>\n",
       "      <td>0.594362</td>\n",
       "      <td>0.103502</td>\n",
       "      <td>0.065762</td>\n",
       "      <td>0.017268</td>\n",
       "      <td>0.128208</td>\n",
       "      <td>0.176693</td>\n",
       "    </tr>\n",
       "    <tr>\n",
       "      <th>390717</th>\n",
       "      <td>13023</td>\n",
       "      <td>349</td>\n",
       "      <td>False</td>\n",
       "      <td>1.289044</td>\n",
       "      <td>0.091344</td>\n",
       "      <td>0.072929</td>\n",
       "      <td>0.102044</td>\n",
       "      <td>0.122565</td>\n",
       "      <td>0.183832</td>\n",
       "    </tr>\n",
       "    <tr>\n",
       "      <th>390718</th>\n",
       "      <td>13023</td>\n",
       "      <td>334</td>\n",
       "      <td>False</td>\n",
       "      <td>0.977205</td>\n",
       "      <td>0.103252</td>\n",
       "      <td>0.000000</td>\n",
       "      <td>0.081583</td>\n",
       "      <td>0.153555</td>\n",
       "      <td>0.252272</td>\n",
       "    </tr>\n",
       "    <tr>\n",
       "      <th>390719</th>\n",
       "      <td>13023</td>\n",
       "      <td>1408</td>\n",
       "      <td>False</td>\n",
       "      <td>0.182928</td>\n",
       "      <td>0.080050</td>\n",
       "      <td>0.059094</td>\n",
       "      <td>0.000775</td>\n",
       "      <td>0.119964</td>\n",
       "      <td>0.198291</td>\n",
       "    </tr>\n",
       "  </tbody>\n",
       "</table>\n",
       "<p>390720 rows × 9 columns</p>\n",
       "</div>"
      ],
      "text/plain": [
       "        UserID ItemID  Label    UserKNN       RP3   P3alpha   PureSVD  \\\n",
       "0            0     35  False   2.692282  0.312720  0.267208  0.186262   \n",
       "1            0    100  False   2.607288  0.276248  0.182752  0.103168   \n",
       "2            0    505  False  16.224499  0.193664  0.116966  0.034301   \n",
       "3            0    122  False  57.671581  0.169682  0.141561 -0.002599   \n",
       "4            0    402  False   0.899653  0.164923  0.094528  0.033779   \n",
       "...        ...    ...    ...        ...       ...       ...       ...   \n",
       "390715   13023    842  False   1.053652  0.109139  0.054431  0.061869   \n",
       "390716   13023   9589  False   0.594362  0.103502  0.065762  0.017268   \n",
       "390717   13023    349  False   1.289044  0.091344  0.072929  0.102044   \n",
       "390718   13023    334  False   0.977205  0.103252  0.000000  0.081583   \n",
       "390719   13023   1408  False   0.182928  0.080050  0.059094  0.000775   \n",
       "\n",
       "         Merging   ItemKNN  \n",
       "0       0.355785  0.440298  \n",
       "1       0.289067  0.314223  \n",
       "2       0.229215  0.298980  \n",
       "3       0.174301  0.183365  \n",
       "4       0.190472  0.240611  \n",
       "...          ...       ...  \n",
       "390715  0.137277  0.192495  \n",
       "390716  0.128208  0.176693  \n",
       "390717  0.122565  0.183832  \n",
       "390718  0.153555  0.252272  \n",
       "390719  0.119964  0.198291  \n",
       "\n",
       "[390720 rows x 9 columns]"
      ]
     },
     "execution_count": 25,
     "metadata": {},
     "output_type": "execute_result"
    }
   ],
   "source": [
    "training_dataframe = training_dataframe.set_index('UserID')\n",
    "\n",
    "for user_id in tqdm.tqdm_notebook(range(n_users)):\n",
    "    item_list = training_dataframe.loc[user_id, \"ItemID\"].values.tolist()\n",
    "    \n",
    "    training_dataframe.loc[user_id, 'UserKNN'] = recommender_user._compute_item_score([user_id], items_to_compute = item_list)[0, item_list]\n",
    "    training_dataframe.loc[user_id, 'RP3'] = recommender_rp3._compute_item_score([user_id], items_to_compute = item_list)[0, item_list]\n",
    "    training_dataframe.loc[user_id, 'P3alpha'] = recommender_p3a._compute_item_score([user_id], items_to_compute = item_list)[0, item_list]\n",
    "    training_dataframe.loc[user_id, 'PureSVD'] = pure_svd._compute_item_score([user_id], items_to_compute = item_list)[0, item_list]\n",
    "    training_dataframe.loc[user_id, 'Merging'] = hybrid_similarity._compute_item_score([user_id], items_to_compute = item_list)[0, item_list]\n",
    "    training_dataframe.loc[user_id, 'ItemKNN'] = recommender_item._compute_item_score([user_id], items_to_compute = item_list)[0, item_list]\n",
    "\n",
    "training_dataframe = training_dataframe.reset_index()\n",
    "training_dataframe = training_dataframe.rename(columns = {\"index\": \"UserID\"})\n",
    "training_dataframe"
   ]
  },
  {
   "cell_type": "code",
   "execution_count": 26,
   "id": "a03409a3",
   "metadata": {
    "execution": {
     "iopub.execute_input": "2023-11-30T23:46:21.936368Z",
     "iopub.status.busy": "2023-11-30T23:46:21.935929Z",
     "iopub.status.idle": "2023-11-30T23:46:21.997385Z",
     "shell.execute_reply": "2023-11-30T23:46:21.996345Z"
    },
    "papermill": {
     "duration": 0.097025,
     "end_time": "2023-11-30T23:46:21.999845",
     "exception": false,
     "start_time": "2023-11-30T23:46:21.902820",
     "status": "completed"
    },
    "tags": []
   },
   "outputs": [
    {
     "data": {
      "text/html": [
       "<div>\n",
       "<style scoped>\n",
       "    .dataframe tbody tr th:only-of-type {\n",
       "        vertical-align: middle;\n",
       "    }\n",
       "\n",
       "    .dataframe tbody tr th {\n",
       "        vertical-align: top;\n",
       "    }\n",
       "\n",
       "    .dataframe thead th {\n",
       "        text-align: right;\n",
       "    }\n",
       "</style>\n",
       "<table border=\"1\" class=\"dataframe\">\n",
       "  <thead>\n",
       "    <tr style=\"text-align: right;\">\n",
       "      <th></th>\n",
       "      <th>UserID</th>\n",
       "      <th>ItemID</th>\n",
       "      <th>Label</th>\n",
       "      <th>UserKNN</th>\n",
       "      <th>RP3</th>\n",
       "      <th>P3alpha</th>\n",
       "      <th>PureSVD</th>\n",
       "      <th>Merging</th>\n",
       "      <th>ItemKNN</th>\n",
       "      <th>item_popularity</th>\n",
       "      <th>user_profile_len</th>\n",
       "      <th>mainstream_user</th>\n",
       "    </tr>\n",
       "  </thead>\n",
       "  <tbody>\n",
       "    <tr>\n",
       "      <th>0</th>\n",
       "      <td>0</td>\n",
       "      <td>35</td>\n",
       "      <td>False</td>\n",
       "      <td>2.692282</td>\n",
       "      <td>0.312720</td>\n",
       "      <td>0.267208</td>\n",
       "      <td>0.186262</td>\n",
       "      <td>0.355785</td>\n",
       "      <td>0.440298</td>\n",
       "      <td>464</td>\n",
       "      <td>28</td>\n",
       "      <td>104.571429</td>\n",
       "    </tr>\n",
       "    <tr>\n",
       "      <th>1</th>\n",
       "      <td>0</td>\n",
       "      <td>100</td>\n",
       "      <td>False</td>\n",
       "      <td>2.607288</td>\n",
       "      <td>0.276248</td>\n",
       "      <td>0.182752</td>\n",
       "      <td>0.103168</td>\n",
       "      <td>0.289067</td>\n",
       "      <td>0.314223</td>\n",
       "      <td>262</td>\n",
       "      <td>28</td>\n",
       "      <td>104.571429</td>\n",
       "    </tr>\n",
       "    <tr>\n",
       "      <th>2</th>\n",
       "      <td>0</td>\n",
       "      <td>505</td>\n",
       "      <td>False</td>\n",
       "      <td>16.224499</td>\n",
       "      <td>0.193664</td>\n",
       "      <td>0.116966</td>\n",
       "      <td>0.034301</td>\n",
       "      <td>0.229215</td>\n",
       "      <td>0.298980</td>\n",
       "      <td>90</td>\n",
       "      <td>28</td>\n",
       "      <td>104.571429</td>\n",
       "    </tr>\n",
       "    <tr>\n",
       "      <th>3</th>\n",
       "      <td>0</td>\n",
       "      <td>122</td>\n",
       "      <td>False</td>\n",
       "      <td>57.671581</td>\n",
       "      <td>0.169682</td>\n",
       "      <td>0.141561</td>\n",
       "      <td>-0.002599</td>\n",
       "      <td>0.174301</td>\n",
       "      <td>0.183365</td>\n",
       "      <td>133</td>\n",
       "      <td>28</td>\n",
       "      <td>104.571429</td>\n",
       "    </tr>\n",
       "    <tr>\n",
       "      <th>4</th>\n",
       "      <td>0</td>\n",
       "      <td>402</td>\n",
       "      <td>False</td>\n",
       "      <td>0.899653</td>\n",
       "      <td>0.164923</td>\n",
       "      <td>0.094528</td>\n",
       "      <td>0.033779</td>\n",
       "      <td>0.190472</td>\n",
       "      <td>0.240611</td>\n",
       "      <td>86</td>\n",
       "      <td>28</td>\n",
       "      <td>104.571429</td>\n",
       "    </tr>\n",
       "    <tr>\n",
       "      <th>...</th>\n",
       "      <td>...</td>\n",
       "      <td>...</td>\n",
       "      <td>...</td>\n",
       "      <td>...</td>\n",
       "      <td>...</td>\n",
       "      <td>...</td>\n",
       "      <td>...</td>\n",
       "      <td>...</td>\n",
       "      <td>...</td>\n",
       "      <td>...</td>\n",
       "      <td>...</td>\n",
       "      <td>...</td>\n",
       "    </tr>\n",
       "    <tr>\n",
       "      <th>390715</th>\n",
       "      <td>13023</td>\n",
       "      <td>842</td>\n",
       "      <td>False</td>\n",
       "      <td>1.053652</td>\n",
       "      <td>0.109139</td>\n",
       "      <td>0.054431</td>\n",
       "      <td>0.061869</td>\n",
       "      <td>0.137277</td>\n",
       "      <td>0.192495</td>\n",
       "      <td>69</td>\n",
       "      <td>46</td>\n",
       "      <td>71.978261</td>\n",
       "    </tr>\n",
       "    <tr>\n",
       "      <th>390716</th>\n",
       "      <td>13023</td>\n",
       "      <td>9589</td>\n",
       "      <td>False</td>\n",
       "      <td>0.594362</td>\n",
       "      <td>0.103502</td>\n",
       "      <td>0.065762</td>\n",
       "      <td>0.017268</td>\n",
       "      <td>0.128208</td>\n",
       "      <td>0.176693</td>\n",
       "      <td>7</td>\n",
       "      <td>46</td>\n",
       "      <td>71.978261</td>\n",
       "    </tr>\n",
       "    <tr>\n",
       "      <th>390717</th>\n",
       "      <td>13023</td>\n",
       "      <td>349</td>\n",
       "      <td>False</td>\n",
       "      <td>1.289044</td>\n",
       "      <td>0.091344</td>\n",
       "      <td>0.072929</td>\n",
       "      <td>0.102044</td>\n",
       "      <td>0.122565</td>\n",
       "      <td>0.183832</td>\n",
       "      <td>135</td>\n",
       "      <td>46</td>\n",
       "      <td>71.978261</td>\n",
       "    </tr>\n",
       "    <tr>\n",
       "      <th>390718</th>\n",
       "      <td>13023</td>\n",
       "      <td>334</td>\n",
       "      <td>False</td>\n",
       "      <td>0.977205</td>\n",
       "      <td>0.103252</td>\n",
       "      <td>0.000000</td>\n",
       "      <td>0.081583</td>\n",
       "      <td>0.153555</td>\n",
       "      <td>0.252272</td>\n",
       "      <td>136</td>\n",
       "      <td>46</td>\n",
       "      <td>71.978261</td>\n",
       "    </tr>\n",
       "    <tr>\n",
       "      <th>390719</th>\n",
       "      <td>13023</td>\n",
       "      <td>1408</td>\n",
       "      <td>False</td>\n",
       "      <td>0.182928</td>\n",
       "      <td>0.080050</td>\n",
       "      <td>0.059094</td>\n",
       "      <td>0.000775</td>\n",
       "      <td>0.119964</td>\n",
       "      <td>0.198291</td>\n",
       "      <td>32</td>\n",
       "      <td>46</td>\n",
       "      <td>71.978261</td>\n",
       "    </tr>\n",
       "  </tbody>\n",
       "</table>\n",
       "<p>390720 rows × 12 columns</p>\n",
       "</div>"
      ],
      "text/plain": [
       "        UserID ItemID  Label    UserKNN       RP3   P3alpha   PureSVD  \\\n",
       "0            0     35  False   2.692282  0.312720  0.267208  0.186262   \n",
       "1            0    100  False   2.607288  0.276248  0.182752  0.103168   \n",
       "2            0    505  False  16.224499  0.193664  0.116966  0.034301   \n",
       "3            0    122  False  57.671581  0.169682  0.141561 -0.002599   \n",
       "4            0    402  False   0.899653  0.164923  0.094528  0.033779   \n",
       "...        ...    ...    ...        ...       ...       ...       ...   \n",
       "390715   13023    842  False   1.053652  0.109139  0.054431  0.061869   \n",
       "390716   13023   9589  False   0.594362  0.103502  0.065762  0.017268   \n",
       "390717   13023    349  False   1.289044  0.091344  0.072929  0.102044   \n",
       "390718   13023    334  False   0.977205  0.103252  0.000000  0.081583   \n",
       "390719   13023   1408  False   0.182928  0.080050  0.059094  0.000775   \n",
       "\n",
       "         Merging   ItemKNN  item_popularity  user_profile_len  mainstream_user  \n",
       "0       0.355785  0.440298              464                28       104.571429  \n",
       "1       0.289067  0.314223              262                28       104.571429  \n",
       "2       0.229215  0.298980               90                28       104.571429  \n",
       "3       0.174301  0.183365              133                28       104.571429  \n",
       "4       0.190472  0.240611               86                28       104.571429  \n",
       "...          ...       ...              ...               ...              ...  \n",
       "390715  0.137277  0.192495               69                46        71.978261  \n",
       "390716  0.128208  0.176693                7                46        71.978261  \n",
       "390717  0.122565  0.183832              135                46        71.978261  \n",
       "390718  0.153555  0.252272              136                46        71.978261  \n",
       "390719  0.119964  0.198291               32                46        71.978261  \n",
       "\n",
       "[390720 rows x 12 columns]"
      ]
     },
     "execution_count": 26,
     "metadata": {},
     "output_type": "execute_result"
    }
   ],
   "source": [
    "item_popularity = np.ediff1d(sps.csc_matrix(URM_train).indptr)\n",
    "training_dataframe['item_popularity'] = item_popularity[training_dataframe[\"ItemID\"].values.astype(int)]\n",
    "\n",
    "user_popularity = np.ediff1d(sps.csr_matrix(URM_train).indptr)\n",
    "training_dataframe['user_profile_len'] = user_popularity[training_dataframe[\"UserID\"].values.astype(int)]\n",
    "\n",
    "mainstream_user = URM_train.dot(item_popularity) / np.where(user_popularity == 0, 1, user_popularity)\n",
    "training_dataframe['mainstream_user'] = mainstream_user[training_dataframe[\"UserID\"].values.astype(int)]\n",
    "\n",
    "# mainstream_item = URM_train.T.dot(user_popularity) / np.where(item_popularity == 0, 1, item_popularity)\n",
    "# training_dataframe['mainstream_item'] = mainstream_item[training_dataframe[\"ItemID\"].values.astype(int)]\n",
    "training_dataframe"
   ]
  },
  {
   "cell_type": "code",
   "execution_count": 27,
   "id": "237e3dbd",
   "metadata": {
    "execution": {
     "iopub.execute_input": "2023-11-30T23:46:22.066183Z",
     "iopub.status.busy": "2023-11-30T23:46:22.065086Z",
     "iopub.status.idle": "2023-11-30T23:46:22.069764Z",
     "shell.execute_reply": "2023-11-30T23:46:22.068880Z"
    },
    "papermill": {
     "duration": 0.040059,
     "end_time": "2023-11-30T23:46:22.072061",
     "exception": false,
     "start_time": "2023-11-30T23:46:22.032002",
     "status": "completed"
    },
    "tags": []
   },
   "outputs": [],
   "source": [
    "# user_factors_df = pd.DataFrame(user_factors_train, columns=[f'factor_{i}' for i in range(user_factors_train.shape[1])])\n",
    "\n",
    "# training_dataframe = training_dataframe.merge(user_factors_df, left_on='UserID', right_index=True)\n",
    "# training_dataframe"
   ]
  },
  {
   "cell_type": "code",
   "execution_count": 28,
   "id": "d71708c5",
   "metadata": {
    "execution": {
     "iopub.execute_input": "2023-11-30T23:46:22.139651Z",
     "iopub.status.busy": "2023-11-30T23:46:22.139219Z",
     "iopub.status.idle": "2023-11-30T23:46:22.147102Z",
     "shell.execute_reply": "2023-11-30T23:46:22.146030Z"
    },
    "papermill": {
     "duration": 0.043813,
     "end_time": "2023-11-30T23:46:22.149551",
     "exception": false,
     "start_time": "2023-11-30T23:46:22.105738",
     "status": "completed"
    },
    "tags": []
   },
   "outputs": [],
   "source": [
    "n_estimators = 200\n",
    "learning_rate = 1e-1\n",
    "reg_alpha = 1e-1\n",
    "reg_lambda = 1e-1\n",
    "max_depth = 5\n",
    "max_leaves = 0\n",
    "grow_policy = \"depthwise\"\n",
    "objective = \"pairwise\"\n",
    "booster = \"gbtree\"\n",
    "use_user_profile = False\n",
    "random_seed = None\n",
    "\n",
    "XGB_model = XGBRanker(\n",
    "    objective='rank:{}'.format(objective),\n",
    "    n_estimators = int(n_estimators),\n",
    "    random_state = random_seed,\n",
    "    learning_rate = learning_rate,\n",
    "    reg_alpha = reg_alpha,\n",
    "    reg_lambda = reg_lambda,\n",
    "    max_depth = int(max_depth),\n",
    "    max_leaves = int(max_leaves),\n",
    "    grow_policy = grow_policy,\n",
    "    verbosity = 1, # 2 if self.verbose else 0,\n",
    "    booster = booster,\n",
    "    # enable_categorical = True\n",
    ")"
   ]
  },
  {
   "cell_type": "code",
   "execution_count": 29,
   "id": "95c05587",
   "metadata": {
    "execution": {
     "iopub.execute_input": "2023-11-30T23:46:22.217460Z",
     "iopub.status.busy": "2023-11-30T23:46:22.216999Z",
     "iopub.status.idle": "2023-11-30T23:46:22.234521Z",
     "shell.execute_reply": "2023-11-30T23:46:22.233712Z"
    },
    "papermill": {
     "duration": 0.054109,
     "end_time": "2023-11-30T23:46:22.236807",
     "exception": false,
     "start_time": "2023-11-30T23:46:22.182698",
     "status": "completed"
    },
    "tags": []
   },
   "outputs": [
    {
     "data": {
      "text/plain": [
       "array([30, 30, 30, ..., 30, 30, 30])"
      ]
     },
     "execution_count": 29,
     "metadata": {},
     "output_type": "execute_result"
    }
   ],
   "source": [
    "groups = training_dataframe.groupby(\"UserID\").size().values\n",
    "groups"
   ]
  },
  {
   "cell_type": "code",
   "execution_count": 30,
   "id": "be29cb58",
   "metadata": {
    "execution": {
     "iopub.execute_input": "2023-11-30T23:46:22.304756Z",
     "iopub.status.busy": "2023-11-30T23:46:22.304309Z",
     "iopub.status.idle": "2023-11-30T23:46:34.174114Z",
     "shell.execute_reply": "2023-11-30T23:46:34.173218Z"
    },
    "papermill": {
     "duration": 11.905862,
     "end_time": "2023-11-30T23:46:34.176655",
     "exception": false,
     "start_time": "2023-11-30T23:46:22.270793",
     "status": "completed"
    },
    "tags": []
   },
   "outputs": [
    {
     "data": {
      "text/html": [
       "<style>#sk-container-id-1 {color: black;background-color: white;}#sk-container-id-1 pre{padding: 0;}#sk-container-id-1 div.sk-toggleable {background-color: white;}#sk-container-id-1 label.sk-toggleable__label {cursor: pointer;display: block;width: 100%;margin-bottom: 0;padding: 0.3em;box-sizing: border-box;text-align: center;}#sk-container-id-1 label.sk-toggleable__label-arrow:before {content: \"▸\";float: left;margin-right: 0.25em;color: #696969;}#sk-container-id-1 label.sk-toggleable__label-arrow:hover:before {color: black;}#sk-container-id-1 div.sk-estimator:hover label.sk-toggleable__label-arrow:before {color: black;}#sk-container-id-1 div.sk-toggleable__content {max-height: 0;max-width: 0;overflow: hidden;text-align: left;background-color: #f0f8ff;}#sk-container-id-1 div.sk-toggleable__content pre {margin: 0.2em;color: black;border-radius: 0.25em;background-color: #f0f8ff;}#sk-container-id-1 input.sk-toggleable__control:checked~div.sk-toggleable__content {max-height: 200px;max-width: 100%;overflow: auto;}#sk-container-id-1 input.sk-toggleable__control:checked~label.sk-toggleable__label-arrow:before {content: \"▾\";}#sk-container-id-1 div.sk-estimator input.sk-toggleable__control:checked~label.sk-toggleable__label {background-color: #d4ebff;}#sk-container-id-1 div.sk-label input.sk-toggleable__control:checked~label.sk-toggleable__label {background-color: #d4ebff;}#sk-container-id-1 input.sk-hidden--visually {border: 0;clip: rect(1px 1px 1px 1px);clip: rect(1px, 1px, 1px, 1px);height: 1px;margin: -1px;overflow: hidden;padding: 0;position: absolute;width: 1px;}#sk-container-id-1 div.sk-estimator {font-family: monospace;background-color: #f0f8ff;border: 1px dotted black;border-radius: 0.25em;box-sizing: border-box;margin-bottom: 0.5em;}#sk-container-id-1 div.sk-estimator:hover {background-color: #d4ebff;}#sk-container-id-1 div.sk-parallel-item::after {content: \"\";width: 100%;border-bottom: 1px solid gray;flex-grow: 1;}#sk-container-id-1 div.sk-label:hover label.sk-toggleable__label {background-color: #d4ebff;}#sk-container-id-1 div.sk-serial::before {content: \"\";position: absolute;border-left: 1px solid gray;box-sizing: border-box;top: 0;bottom: 0;left: 50%;z-index: 0;}#sk-container-id-1 div.sk-serial {display: flex;flex-direction: column;align-items: center;background-color: white;padding-right: 0.2em;padding-left: 0.2em;position: relative;}#sk-container-id-1 div.sk-item {position: relative;z-index: 1;}#sk-container-id-1 div.sk-parallel {display: flex;align-items: stretch;justify-content: center;background-color: white;position: relative;}#sk-container-id-1 div.sk-item::before, #sk-container-id-1 div.sk-parallel-item::before {content: \"\";position: absolute;border-left: 1px solid gray;box-sizing: border-box;top: 0;bottom: 0;left: 50%;z-index: -1;}#sk-container-id-1 div.sk-parallel-item {display: flex;flex-direction: column;z-index: 1;position: relative;background-color: white;}#sk-container-id-1 div.sk-parallel-item:first-child::after {align-self: flex-end;width: 50%;}#sk-container-id-1 div.sk-parallel-item:last-child::after {align-self: flex-start;width: 50%;}#sk-container-id-1 div.sk-parallel-item:only-child::after {width: 0;}#sk-container-id-1 div.sk-dashed-wrapped {border: 1px dashed gray;margin: 0 0.4em 0.5em 0.4em;box-sizing: border-box;padding-bottom: 0.4em;background-color: white;}#sk-container-id-1 div.sk-label label {font-family: monospace;font-weight: bold;display: inline-block;line-height: 1.2em;}#sk-container-id-1 div.sk-label-container {text-align: center;}#sk-container-id-1 div.sk-container {/* jupyter's `normalize.less` sets `[hidden] { display: none; }` but bootstrap.min.css set `[hidden] { display: none !important; }` so we also need the `!important` here to be able to override the default hidden behavior on the sphinx rendered scikit-learn.org. See: https://github.com/scikit-learn/scikit-learn/issues/21755 */display: inline-block !important;position: relative;}#sk-container-id-1 div.sk-text-repr-fallback {display: none;}</style><div id=\"sk-container-id-1\" class=\"sk-top-container\"><div class=\"sk-text-repr-fallback\"><pre>XGBRanker(base_score=None, booster=&#x27;gbtree&#x27;, callbacks=None,\n",
       "          colsample_bylevel=None, colsample_bynode=None, colsample_bytree=None,\n",
       "          device=None, early_stopping_rounds=None, enable_categorical=False,\n",
       "          eval_metric=None, feature_types=None, gamma=None,\n",
       "          grow_policy=&#x27;depthwise&#x27;, importance_type=None,\n",
       "          interaction_constraints=None, learning_rate=0.1, max_bin=None,\n",
       "          max_cat_threshold=None, max_cat_to_onehot=None, max_delta_step=None,\n",
       "          max_depth=5, max_leaves=0, min_child_weight=None, missing=nan,\n",
       "          monotone_constraints=None, multi_strategy=None, n_estimators=200,\n",
       "          n_jobs=None, num_parallel_tree=None, objective=&#x27;rank:pairwise&#x27;, ...)</pre><b>In a Jupyter environment, please rerun this cell to show the HTML representation or trust the notebook. <br />On GitHub, the HTML representation is unable to render, please try loading this page with nbviewer.org.</b></div><div class=\"sk-container\" hidden><div class=\"sk-item\"><div class=\"sk-estimator sk-toggleable\"><input class=\"sk-toggleable__control sk-hidden--visually\" id=\"sk-estimator-id-1\" type=\"checkbox\" checked><label for=\"sk-estimator-id-1\" class=\"sk-toggleable__label sk-toggleable__label-arrow\">XGBRanker</label><div class=\"sk-toggleable__content\"><pre>XGBRanker(base_score=None, booster=&#x27;gbtree&#x27;, callbacks=None,\n",
       "          colsample_bylevel=None, colsample_bynode=None, colsample_bytree=None,\n",
       "          device=None, early_stopping_rounds=None, enable_categorical=False,\n",
       "          eval_metric=None, feature_types=None, gamma=None,\n",
       "          grow_policy=&#x27;depthwise&#x27;, importance_type=None,\n",
       "          interaction_constraints=None, learning_rate=0.1, max_bin=None,\n",
       "          max_cat_threshold=None, max_cat_to_onehot=None, max_delta_step=None,\n",
       "          max_depth=5, max_leaves=0, min_child_weight=None, missing=nan,\n",
       "          monotone_constraints=None, multi_strategy=None, n_estimators=200,\n",
       "          n_jobs=None, num_parallel_tree=None, objective=&#x27;rank:pairwise&#x27;, ...)</pre></div></div></div></div></div>"
      ],
      "text/plain": [
       "XGBRanker(base_score=None, booster='gbtree', callbacks=None,\n",
       "          colsample_bylevel=None, colsample_bynode=None, colsample_bytree=None,\n",
       "          device=None, early_stopping_rounds=None, enable_categorical=False,\n",
       "          eval_metric=None, feature_types=None, gamma=None,\n",
       "          grow_policy='depthwise', importance_type=None,\n",
       "          interaction_constraints=None, learning_rate=0.1, max_bin=None,\n",
       "          max_cat_threshold=None, max_cat_to_onehot=None, max_delta_step=None,\n",
       "          max_depth=5, max_leaves=0, min_child_weight=None, missing=nan,\n",
       "          monotone_constraints=None, multi_strategy=None, n_estimators=200,\n",
       "          n_jobs=None, num_parallel_tree=None, objective='rank:pairwise', ...)"
      ]
     },
     "execution_count": 30,
     "metadata": {},
     "output_type": "execute_result"
    }
   ],
   "source": [
    "y_train = training_dataframe[\"Label\"]\n",
    "X_train = training_dataframe.drop(columns=[\"Label\"])\n",
    "# X_train[\"UserID\"] = X_train[\"UserID\"].astype(\"category\")\n",
    "# X_train[\"ItemID\"] = X_train[\"ItemID\"].astype(\"category\")\n",
    "X_train[\"UserID\"] = X_train[\"UserID\"].astype(int)\n",
    "X_train[\"ItemID\"] = X_train[\"ItemID\"].astype(int)\n",
    "\n",
    "XGB_model.fit(\n",
    "    X_train,\n",
    "    y_train,\n",
    "    group=groups,\n",
    "    verbose=True\n",
    ")"
   ]
  },
  {
   "cell_type": "code",
   "execution_count": 31,
   "id": "a28f4a10",
   "metadata": {
    "execution": {
     "iopub.execute_input": "2023-11-30T23:46:34.244740Z",
     "iopub.status.busy": "2023-11-30T23:46:34.244362Z",
     "iopub.status.idle": "2023-11-30T23:46:34.685609Z",
     "shell.execute_reply": "2023-11-30T23:46:34.684360Z"
    },
    "papermill": {
     "duration": 0.478067,
     "end_time": "2023-11-30T23:46:34.688124",
     "exception": false,
     "start_time": "2023-11-30T23:46:34.210057",
     "status": "completed"
    },
    "tags": []
   },
   "outputs": [
    {
     "data": {
      "text/plain": [
       "<Axes: title={'center': 'Weight (Frequence)'}, xlabel='F score', ylabel='Features'>"
      ]
     },
     "execution_count": 31,
     "metadata": {},
     "output_type": "execute_result"
    },
    {
     "data": {
      "image/png": "[encoded data removed]",
      "text/plain": [
       "<Figure size 640x480 with 1 Axes>"
      ]
     },
     "metadata": {},
     "output_type": "display_data"
    }
   ],
   "source": [
    "from xgboost import plot_importance\n",
    "\n",
    "plot_importance(XGB_model, importance_type='weight', title='Weight (Frequence)')"
   ]
  },
  {
   "cell_type": "code",
   "execution_count": 32,
   "id": "32616cd4",
   "metadata": {
    "execution": {
     "iopub.execute_input": "2023-11-30T23:46:34.756591Z",
     "iopub.status.busy": "2023-11-30T23:46:34.756162Z",
     "iopub.status.idle": "2023-11-30T23:47:03.612559Z",
     "shell.execute_reply": "2023-11-30T23:47:03.611113Z"
    },
    "papermill": {
     "duration": 28.893415,
     "end_time": "2023-11-30T23:47:03.614960",
     "exception": false,
     "start_time": "2023-11-30T23:46:34.721545",
     "status": "completed"
    },
    "tags": []
   },
   "outputs": [
    {
     "name": "stdout",
     "output_type": "stream",
     "text": [
      "PureSVDRecommender: URM Detected 851 ( 6.5%) users with no interactions.\n",
      "PureSVDRecommender: URM Detected 476 ( 2.1%) items with no interactions.\n",
      "PureSVDRecommender: Computing SVD decomposition...\n",
      "PureSVDRecommender: Computing SVD decomposition... done in 0.22 sec\n",
      "ItemKNNCFRecommender: URM Detected 627 ( 4.8%) users with no interactions.\n",
      "ItemKNNCFRecommender: URM Detected 247 ( 1.1%) items with no interactions.\n",
      "Similarity column 22347 (100.0%), 4643.27 column/sec. Elapsed time 4.81 sec\n",
      "UserKNNCFRecommender: URM Detected 627 ( 4.8%) users with no interactions.\n",
      "UserKNNCFRecommender: URM Detected 247 ( 1.1%) items with no interactions.\n",
      "Similarity column 13024 (100.0%), 4694.57 column/sec. Elapsed time 2.77 sec\n",
      "RP3betaRecommender: URM Detected 627 ( 4.8%) users with no interactions.\n",
      "RP3betaRecommender: URM Detected 247 ( 1.1%) items with no interactions.\n",
      "RP3betaRecommender: Similarity column 22347 (100.0%), 2691.77 column/sec. Elapsed time 8.30 sec\n",
      "P3alphaRecommender: URM Detected 627 ( 4.8%) users with no interactions.\n",
      "P3alphaRecommender: URM Detected 247 ( 1.1%) items with no interactions.\n",
      "P3alphaRecommender: Similarity column 22347 (100.0%), 2995.92 column/sec. Elapsed time 7.46 sec\n",
      "ItemKNNSimilarityHybridRecommender: URM Detected 627 ( 4.8%) users with no interactions.\n",
      "ItemKNNSimilarityHybridRecommender: URM Detected 247 ( 1.1%) items with no interactions.\n",
      "Recommender_Base_Class: URM Detected 627 ( 4.8%) users with no interactions.\n",
      "Recommender_Base_Class: URM Detected 247 ( 1.1%) items with no interactions.\n"
     ]
    }
   ],
   "source": [
    "pure_svd = PureSVDRecommender(URM_train)\n",
    "pure_svd.fit(num_factors=10)\n",
    "user_factors_validation = pure_svd.USER_factors\n",
    "\n",
    "recommender_item = ItemKNNCFRecommender(URM_train_complete)\n",
    "recommender_item.fit(**params_item_knn)\n",
    "\n",
    "recommender_user = UserKNNCFRecommender(URM_train_complete)\n",
    "recommender_user.fit(**params_user_knn)\n",
    "\n",
    "recommender_rp3 = RP3betaRecommender(URM_train_complete)\n",
    "recommender_rp3.fit(**params_rp3)\n",
    "\n",
    "recommender_p3a = P3alphaRecommender(URM_train_complete)\n",
    "recommender_p3a.fit(**params_p3alpha)\n",
    "\n",
    "hybrid_similarity = ItemKNNSimilarityHybridRecommender(URM_train_complete, recommender_item.W_sparse, recommender_rp3.W_sparse)\n",
    "hybrid_similarity.fit(**params_merging)\n",
    "\n",
    "weights = [params_lr_comb['w1'], params_lr_comb['w2'], params_lr_comb['w3']]\n",
    "linear_combinator = LinearCombinationRecommender(URM_train_complete, [recommender_item, recommender_rp3, recommender_p3a], weights)"
   ]
  },
  {
   "cell_type": "code",
   "execution_count": 33,
   "id": "0576a65b",
   "metadata": {
    "execution": {
     "iopub.execute_input": "2023-11-30T23:47:03.686808Z",
     "iopub.status.busy": "2023-11-30T23:47:03.686428Z",
     "iopub.status.idle": "2023-11-30T23:48:36.060499Z",
     "shell.execute_reply": "2023-11-30T23:48:36.059351Z"
    },
    "papermill": {
     "duration": 92.413019,
     "end_time": "2023-11-30T23:48:36.063109",
     "exception": false,
     "start_time": "2023-11-30T23:47:03.650090",
     "status": "completed"
    },
    "tags": []
   },
   "outputs": [
    {
     "name": "stderr",
     "output_type": "stream",
     "text": [
      "/tmp/ipykernel_19/2423091730.py:7: TqdmDeprecationWarning: This function will be removed in tqdm==5.0.0\n",
      "Please use `tqdm.notebook.tqdm` instead of `tqdm.tqdm_notebook`\n",
      "  for user_id in tqdm.tqdm_notebook(range(n_users)):\n"
     ]
    },
    {
     "data": {
      "application/vnd.jupyter.widget-view+json": {
       "model_id": "517d1c2849474581b0320354b7b25a5a",
       "version_major": 2,
       "version_minor": 0
      },
      "text/plain": [
       "  0%|          | 0/13024 [00:00<?, ?it/s]"
      ]
     },
     "metadata": {},
     "output_type": "display_data"
    },
    {
     "name": "stderr",
     "output_type": "stream",
     "text": [
      "/tmp/ipykernel_19/2423091730.py:14: TqdmDeprecationWarning: This function will be removed in tqdm==5.0.0\n",
      "Please use `tqdm.notebook.tqdm` instead of `tqdm.tqdm_notebook`\n",
      "  for user_id in tqdm.tqdm_notebook(range(n_users)):\n"
     ]
    },
    {
     "data": {
      "application/vnd.jupyter.widget-view+json": {
       "model_id": "7e1ee82faf1d41108d458ec107ed9de0",
       "version_major": 2,
       "version_minor": 0
      },
      "text/plain": [
       "  0%|          | 0/13024 [00:00<?, ?it/s]"
      ]
     },
     "metadata": {},
     "output_type": "display_data"
    },
    {
     "data": {
      "text/html": [
       "<div>\n",
       "<style scoped>\n",
       "    .dataframe tbody tr th:only-of-type {\n",
       "        vertical-align: middle;\n",
       "    }\n",
       "\n",
       "    .dataframe tbody tr th {\n",
       "        vertical-align: top;\n",
       "    }\n",
       "\n",
       "    .dataframe thead th {\n",
       "        text-align: right;\n",
       "    }\n",
       "</style>\n",
       "<table border=\"1\" class=\"dataframe\">\n",
       "  <thead>\n",
       "    <tr style=\"text-align: right;\">\n",
       "      <th></th>\n",
       "      <th>UserID</th>\n",
       "      <th>ItemID</th>\n",
       "      <th>UserKNN</th>\n",
       "      <th>RP3</th>\n",
       "      <th>P3alpha</th>\n",
       "      <th>PureSVD</th>\n",
       "      <th>Merging</th>\n",
       "      <th>ItemKNN</th>\n",
       "      <th>item_popularity</th>\n",
       "      <th>user_profile_len</th>\n",
       "    </tr>\n",
       "  </thead>\n",
       "  <tbody>\n",
       "    <tr>\n",
       "      <th>0</th>\n",
       "      <td>0</td>\n",
       "      <td>35</td>\n",
       "      <td>3.245894</td>\n",
       "      <td>0.532635</td>\n",
       "      <td>0.465694</td>\n",
       "      <td>0.185291</td>\n",
       "      <td>0.578219</td>\n",
       "      <td>0.667676</td>\n",
       "      <td>571</td>\n",
       "      <td>34</td>\n",
       "    </tr>\n",
       "    <tr>\n",
       "      <th>1</th>\n",
       "      <td>0</td>\n",
       "      <td>100</td>\n",
       "      <td>2.917171</td>\n",
       "      <td>0.369105</td>\n",
       "      <td>0.345509</td>\n",
       "      <td>0.103454</td>\n",
       "      <td>0.443021</td>\n",
       "      <td>0.588078</td>\n",
       "      <td>333</td>\n",
       "      <td>34</td>\n",
       "    </tr>\n",
       "    <tr>\n",
       "      <th>2</th>\n",
       "      <td>0</td>\n",
       "      <td>402</td>\n",
       "      <td>1.204698</td>\n",
       "      <td>0.222137</td>\n",
       "      <td>0.131656</td>\n",
       "      <td>0.032655</td>\n",
       "      <td>0.290169</td>\n",
       "      <td>0.423680</td>\n",
       "      <td>104</td>\n",
       "      <td>34</td>\n",
       "    </tr>\n",
       "    <tr>\n",
       "      <th>3</th>\n",
       "      <td>0</td>\n",
       "      <td>505</td>\n",
       "      <td>1.330598</td>\n",
       "      <td>0.222410</td>\n",
       "      <td>0.133074</td>\n",
       "      <td>0.033886</td>\n",
       "      <td>0.260055</td>\n",
       "      <td>0.333933</td>\n",
       "      <td>105</td>\n",
       "      <td>34</td>\n",
       "    </tr>\n",
       "    <tr>\n",
       "      <th>4</th>\n",
       "      <td>0</td>\n",
       "      <td>122</td>\n",
       "      <td>3.385918</td>\n",
       "      <td>0.202956</td>\n",
       "      <td>0.162935</td>\n",
       "      <td>-0.003590</td>\n",
       "      <td>0.231717</td>\n",
       "      <td>0.288159</td>\n",
       "      <td>155</td>\n",
       "      <td>34</td>\n",
       "    </tr>\n",
       "    <tr>\n",
       "      <th>...</th>\n",
       "      <td>...</td>\n",
       "      <td>...</td>\n",
       "      <td>...</td>\n",
       "      <td>...</td>\n",
       "      <td>...</td>\n",
       "      <td>...</td>\n",
       "      <td>...</td>\n",
       "      <td>...</td>\n",
       "      <td>...</td>\n",
       "      <td>...</td>\n",
       "    </tr>\n",
       "    <tr>\n",
       "      <th>390715</th>\n",
       "      <td>13023</td>\n",
       "      <td>328</td>\n",
       "      <td>1.906008</td>\n",
       "      <td>0.121553</td>\n",
       "      <td>0.061053</td>\n",
       "      <td>0.078644</td>\n",
       "      <td>0.204092</td>\n",
       "      <td>0.366070</td>\n",
       "      <td>154</td>\n",
       "      <td>60</td>\n",
       "    </tr>\n",
       "    <tr>\n",
       "      <th>390716</th>\n",
       "      <td>13023</td>\n",
       "      <td>9090</td>\n",
       "      <td>0.917949</td>\n",
       "      <td>0.142854</td>\n",
       "      <td>0.081498</td>\n",
       "      <td>0.013698</td>\n",
       "      <td>0.192099</td>\n",
       "      <td>0.288740</td>\n",
       "      <td>10</td>\n",
       "      <td>60</td>\n",
       "    </tr>\n",
       "    <tr>\n",
       "      <th>390717</th>\n",
       "      <td>13023</td>\n",
       "      <td>827</td>\n",
       "      <td>0.428111</td>\n",
       "      <td>0.110307</td>\n",
       "      <td>0.081467</td>\n",
       "      <td>0.009986</td>\n",
       "      <td>0.183476</td>\n",
       "      <td>0.327065</td>\n",
       "      <td>68</td>\n",
       "      <td>60</td>\n",
       "    </tr>\n",
       "    <tr>\n",
       "      <th>390718</th>\n",
       "      <td>13023</td>\n",
       "      <td>836</td>\n",
       "      <td>0.224060</td>\n",
       "      <td>0.100001</td>\n",
       "      <td>0.077348</td>\n",
       "      <td>0.002480</td>\n",
       "      <td>0.179153</td>\n",
       "      <td>0.334486</td>\n",
       "      <td>68</td>\n",
       "      <td>60</td>\n",
       "    </tr>\n",
       "    <tr>\n",
       "      <th>390719</th>\n",
       "      <td>13023</td>\n",
       "      <td>11018</td>\n",
       "      <td>0.880402</td>\n",
       "      <td>0.150742</td>\n",
       "      <td>0.065639</td>\n",
       "      <td>0.001039</td>\n",
       "      <td>0.191854</td>\n",
       "      <td>0.272533</td>\n",
       "      <td>7</td>\n",
       "      <td>60</td>\n",
       "    </tr>\n",
       "  </tbody>\n",
       "</table>\n",
       "<p>390720 rows × 10 columns</p>\n",
       "</div>"
      ],
      "text/plain": [
       "        UserID ItemID   UserKNN       RP3   P3alpha   PureSVD   Merging  \\\n",
       "0            0     35  3.245894  0.532635  0.465694  0.185291  0.578219   \n",
       "1            0    100  2.917171  0.369105  0.345509  0.103454  0.443021   \n",
       "2            0    402  1.204698  0.222137  0.131656  0.032655  0.290169   \n",
       "3            0    505  1.330598  0.222410  0.133074  0.033886  0.260055   \n",
       "4            0    122  3.385918  0.202956  0.162935 -0.003590  0.231717   \n",
       "...        ...    ...       ...       ...       ...       ...       ...   \n",
       "390715   13023    328  1.906008  0.121553  0.061053  0.078644  0.204092   \n",
       "390716   13023   9090  0.917949  0.142854  0.081498  0.013698  0.192099   \n",
       "390717   13023    827  0.428111  0.110307  0.081467  0.009986  0.183476   \n",
       "390718   13023    836  0.224060  0.100001  0.077348  0.002480  0.179153   \n",
       "390719   13023  11018  0.880402  0.150742  0.065639  0.001039  0.191854   \n",
       "\n",
       "         ItemKNN  item_popularity  user_profile_len  \n",
       "0       0.667676              571                34  \n",
       "1       0.588078              333                34  \n",
       "2       0.423680              104                34  \n",
       "3       0.333933              105                34  \n",
       "4       0.288159              155                34  \n",
       "...          ...              ...               ...  \n",
       "390715  0.366070              154                60  \n",
       "390716  0.288740               10                60  \n",
       "390717  0.327065               68                60  \n",
       "390718  0.334486               68                60  \n",
       "390719  0.272533                7                60  \n",
       "\n",
       "[390720 rows x 10 columns]"
      ]
     },
     "execution_count": 33,
     "metadata": {},
     "output_type": "execute_result"
    }
   ],
   "source": [
    "cutoff = 30\n",
    "n_users, n_items = URM_train_complete.shape\n",
    "\n",
    "validation_dataframe = pd.DataFrame(index=range(0, n_users), columns = [\"ItemID\"])\n",
    "validation_dataframe.index.name='UserID'\n",
    "\n",
    "for user_id in tqdm.tqdm_notebook(range(n_users)):    \n",
    "    recommendations = linear_combinator.recommend(user_id, cutoff = cutoff)\n",
    "    # recommendations = recommender_item.recommend(user_id, cutoff = cutoff)\n",
    "    validation_dataframe.loc[user_id, \"ItemID\"] = recommendations\n",
    "    \n",
    "validation_dataframe = validation_dataframe.explode(\"ItemID\")\n",
    "\n",
    "for user_id in tqdm.tqdm_notebook(range(n_users)):\n",
    "    item_list = validation_dataframe.loc[user_id, \"ItemID\"].values.tolist()\n",
    "    \n",
    "    validation_dataframe.loc[user_id, 'UserKNN'] = recommender_user._compute_item_score([user_id], items_to_compute = item_list)[0, item_list]\n",
    "    validation_dataframe.loc[user_id, 'RP3'] = recommender_rp3._compute_item_score([user_id], items_to_compute = item_list)[0, item_list]\n",
    "    validation_dataframe.loc[user_id, 'P3alpha'] = recommender_p3a._compute_item_score([user_id], items_to_compute = item_list)[0, item_list]\n",
    "    validation_dataframe.loc[user_id, 'PureSVD'] = pure_svd._compute_item_score([user_id], items_to_compute = item_list)[0, item_list]\n",
    "    validation_dataframe.loc[user_id, 'Merging'] = hybrid_similarity._compute_item_score([user_id], items_to_compute = item_list)[0, item_list]\n",
    "    validation_dataframe.loc[user_id, 'ItemKNN'] = recommender_item._compute_item_score([user_id], items_to_compute = item_list)[0, item_list]\n",
    "\n",
    "validation_dataframe = validation_dataframe.reset_index()\n",
    "validation_dataframe = validation_dataframe.rename(columns = {\"index\": \"UserID\"})\n",
    "\n",
    "item_popularity = np.ediff1d(sps.csc_matrix(URM_train_complete).indptr)\n",
    "validation_dataframe['item_popularity'] = item_popularity[validation_dataframe[\"ItemID\"].values.astype(int)]\n",
    "user_popularity = np.ediff1d(sps.csr_matrix(URM_train_complete).indptr)\n",
    "validation_dataframe['user_profile_len'] = user_popularity[validation_dataframe[\"UserID\"].values.astype(int)]\n",
    "validation_dataframe"
   ]
  },
  {
   "cell_type": "code",
   "execution_count": 34,
   "id": "0f78989d",
   "metadata": {
    "execution": {
     "iopub.execute_input": "2023-11-30T23:48:36.136611Z",
     "iopub.status.busy": "2023-11-30T23:48:36.136169Z",
     "iopub.status.idle": "2023-11-30T23:48:36.163000Z",
     "shell.execute_reply": "2023-11-30T23:48:36.161831Z"
    },
    "papermill": {
     "duration": 0.066584,
     "end_time": "2023-11-30T23:48:36.165642",
     "exception": false,
     "start_time": "2023-11-30T23:48:36.099058",
     "status": "completed"
    },
    "tags": []
   },
   "outputs": [
    {
     "data": {
      "text/html": [
       "<div>\n",
       "<style scoped>\n",
       "    .dataframe tbody tr th:only-of-type {\n",
       "        vertical-align: middle;\n",
       "    }\n",
       "\n",
       "    .dataframe tbody tr th {\n",
       "        vertical-align: top;\n",
       "    }\n",
       "\n",
       "    .dataframe thead th {\n",
       "        text-align: right;\n",
       "    }\n",
       "</style>\n",
       "<table border=\"1\" class=\"dataframe\">\n",
       "  <thead>\n",
       "    <tr style=\"text-align: right;\">\n",
       "      <th></th>\n",
       "      <th>UserID</th>\n",
       "      <th>ItemID</th>\n",
       "      <th>UserKNN</th>\n",
       "      <th>RP3</th>\n",
       "      <th>P3alpha</th>\n",
       "      <th>PureSVD</th>\n",
       "      <th>Merging</th>\n",
       "      <th>ItemKNN</th>\n",
       "      <th>item_popularity</th>\n",
       "      <th>user_profile_len</th>\n",
       "      <th>mainstream_user</th>\n",
       "    </tr>\n",
       "  </thead>\n",
       "  <tbody>\n",
       "    <tr>\n",
       "      <th>0</th>\n",
       "      <td>0</td>\n",
       "      <td>35</td>\n",
       "      <td>3.245894</td>\n",
       "      <td>0.532635</td>\n",
       "      <td>0.465694</td>\n",
       "      <td>0.185291</td>\n",
       "      <td>0.578219</td>\n",
       "      <td>0.667676</td>\n",
       "      <td>571</td>\n",
       "      <td>34</td>\n",
       "      <td>130.705882</td>\n",
       "    </tr>\n",
       "    <tr>\n",
       "      <th>1</th>\n",
       "      <td>0</td>\n",
       "      <td>100</td>\n",
       "      <td>2.917171</td>\n",
       "      <td>0.369105</td>\n",
       "      <td>0.345509</td>\n",
       "      <td>0.103454</td>\n",
       "      <td>0.443021</td>\n",
       "      <td>0.588078</td>\n",
       "      <td>333</td>\n",
       "      <td>34</td>\n",
       "      <td>130.705882</td>\n",
       "    </tr>\n",
       "    <tr>\n",
       "      <th>2</th>\n",
       "      <td>0</td>\n",
       "      <td>402</td>\n",
       "      <td>1.204698</td>\n",
       "      <td>0.222137</td>\n",
       "      <td>0.131656</td>\n",
       "      <td>0.032655</td>\n",
       "      <td>0.290169</td>\n",
       "      <td>0.423680</td>\n",
       "      <td>104</td>\n",
       "      <td>34</td>\n",
       "      <td>130.705882</td>\n",
       "    </tr>\n",
       "    <tr>\n",
       "      <th>3</th>\n",
       "      <td>0</td>\n",
       "      <td>505</td>\n",
       "      <td>1.330598</td>\n",
       "      <td>0.222410</td>\n",
       "      <td>0.133074</td>\n",
       "      <td>0.033886</td>\n",
       "      <td>0.260055</td>\n",
       "      <td>0.333933</td>\n",
       "      <td>105</td>\n",
       "      <td>34</td>\n",
       "      <td>130.705882</td>\n",
       "    </tr>\n",
       "    <tr>\n",
       "      <th>4</th>\n",
       "      <td>0</td>\n",
       "      <td>122</td>\n",
       "      <td>3.385918</td>\n",
       "      <td>0.202956</td>\n",
       "      <td>0.162935</td>\n",
       "      <td>-0.003590</td>\n",
       "      <td>0.231717</td>\n",
       "      <td>0.288159</td>\n",
       "      <td>155</td>\n",
       "      <td>34</td>\n",
       "      <td>130.705882</td>\n",
       "    </tr>\n",
       "    <tr>\n",
       "      <th>...</th>\n",
       "      <td>...</td>\n",
       "      <td>...</td>\n",
       "      <td>...</td>\n",
       "      <td>...</td>\n",
       "      <td>...</td>\n",
       "      <td>...</td>\n",
       "      <td>...</td>\n",
       "      <td>...</td>\n",
       "      <td>...</td>\n",
       "      <td>...</td>\n",
       "      <td>...</td>\n",
       "    </tr>\n",
       "    <tr>\n",
       "      <th>390715</th>\n",
       "      <td>13023</td>\n",
       "      <td>328</td>\n",
       "      <td>1.906008</td>\n",
       "      <td>0.121553</td>\n",
       "      <td>0.061053</td>\n",
       "      <td>0.078644</td>\n",
       "      <td>0.204092</td>\n",
       "      <td>0.366070</td>\n",
       "      <td>154</td>\n",
       "      <td>60</td>\n",
       "      <td>123.450000</td>\n",
       "    </tr>\n",
       "    <tr>\n",
       "      <th>390716</th>\n",
       "      <td>13023</td>\n",
       "      <td>9090</td>\n",
       "      <td>0.917949</td>\n",
       "      <td>0.142854</td>\n",
       "      <td>0.081498</td>\n",
       "      <td>0.013698</td>\n",
       "      <td>0.192099</td>\n",
       "      <td>0.288740</td>\n",
       "      <td>10</td>\n",
       "      <td>60</td>\n",
       "      <td>123.450000</td>\n",
       "    </tr>\n",
       "    <tr>\n",
       "      <th>390717</th>\n",
       "      <td>13023</td>\n",
       "      <td>827</td>\n",
       "      <td>0.428111</td>\n",
       "      <td>0.110307</td>\n",
       "      <td>0.081467</td>\n",
       "      <td>0.009986</td>\n",
       "      <td>0.183476</td>\n",
       "      <td>0.327065</td>\n",
       "      <td>68</td>\n",
       "      <td>60</td>\n",
       "      <td>123.450000</td>\n",
       "    </tr>\n",
       "    <tr>\n",
       "      <th>390718</th>\n",
       "      <td>13023</td>\n",
       "      <td>836</td>\n",
       "      <td>0.224060</td>\n",
       "      <td>0.100001</td>\n",
       "      <td>0.077348</td>\n",
       "      <td>0.002480</td>\n",
       "      <td>0.179153</td>\n",
       "      <td>0.334486</td>\n",
       "      <td>68</td>\n",
       "      <td>60</td>\n",
       "      <td>123.450000</td>\n",
       "    </tr>\n",
       "    <tr>\n",
       "      <th>390719</th>\n",
       "      <td>13023</td>\n",
       "      <td>11018</td>\n",
       "      <td>0.880402</td>\n",
       "      <td>0.150742</td>\n",
       "      <td>0.065639</td>\n",
       "      <td>0.001039</td>\n",
       "      <td>0.191854</td>\n",
       "      <td>0.272533</td>\n",
       "      <td>7</td>\n",
       "      <td>60</td>\n",
       "      <td>123.450000</td>\n",
       "    </tr>\n",
       "  </tbody>\n",
       "</table>\n",
       "<p>390720 rows × 11 columns</p>\n",
       "</div>"
      ],
      "text/plain": [
       "        UserID ItemID   UserKNN       RP3   P3alpha   PureSVD   Merging  \\\n",
       "0            0     35  3.245894  0.532635  0.465694  0.185291  0.578219   \n",
       "1            0    100  2.917171  0.369105  0.345509  0.103454  0.443021   \n",
       "2            0    402  1.204698  0.222137  0.131656  0.032655  0.290169   \n",
       "3            0    505  1.330598  0.222410  0.133074  0.033886  0.260055   \n",
       "4            0    122  3.385918  0.202956  0.162935 -0.003590  0.231717   \n",
       "...        ...    ...       ...       ...       ...       ...       ...   \n",
       "390715   13023    328  1.906008  0.121553  0.061053  0.078644  0.204092   \n",
       "390716   13023   9090  0.917949  0.142854  0.081498  0.013698  0.192099   \n",
       "390717   13023    827  0.428111  0.110307  0.081467  0.009986  0.183476   \n",
       "390718   13023    836  0.224060  0.100001  0.077348  0.002480  0.179153   \n",
       "390719   13023  11018  0.880402  0.150742  0.065639  0.001039  0.191854   \n",
       "\n",
       "         ItemKNN  item_popularity  user_profile_len  mainstream_user  \n",
       "0       0.667676              571                34       130.705882  \n",
       "1       0.588078              333                34       130.705882  \n",
       "2       0.423680              104                34       130.705882  \n",
       "3       0.333933              105                34       130.705882  \n",
       "4       0.288159              155                34       130.705882  \n",
       "...          ...              ...               ...              ...  \n",
       "390715  0.366070              154                60       123.450000  \n",
       "390716  0.288740               10                60       123.450000  \n",
       "390717  0.327065               68                60       123.450000  \n",
       "390718  0.334486               68                60       123.450000  \n",
       "390719  0.272533                7                60       123.450000  \n",
       "\n",
       "[390720 rows x 11 columns]"
      ]
     },
     "execution_count": 34,
     "metadata": {},
     "output_type": "execute_result"
    }
   ],
   "source": [
    "mainstream_user = URM_train_complete.dot(item_popularity) / np.where(user_popularity == 0, 1, user_popularity)\n",
    "validation_dataframe['mainstream_user'] = mainstream_user[validation_dataframe[\"UserID\"].values.astype(int)]\n",
    "\n",
    "# mainstream_item = URM_train_complete.T.dot(user_popularity) / np.where(item_popularity == 0, 1, item_popularity)\n",
    "# validation_dataframe['mainstream_item'] = mainstream_item[validation_dataframe[\"ItemID\"].values.astype(int)]\n",
    "\n",
    "# user_factors_df = pd.DataFrame(user_factors_validation, columns=[f'factor_{i}' for i in range(user_factors_train.shape[1])])\n",
    "\n",
    "# validation_dataframe = validation_dataframe.merge(user_factors_df, left_on='UserID', right_index=True)\n",
    "validation_dataframe"
   ]
  },
  {
   "cell_type": "code",
   "execution_count": 35,
   "id": "5e887e42",
   "metadata": {
    "execution": {
     "iopub.execute_input": "2023-11-30T23:48:36.240814Z",
     "iopub.status.busy": "2023-11-30T23:48:36.240400Z",
     "iopub.status.idle": "2023-11-30T23:48:36.279427Z",
     "shell.execute_reply": "2023-11-30T23:48:36.278369Z"
    },
    "papermill": {
     "duration": 0.080615,
     "end_time": "2023-11-30T23:48:36.282140",
     "exception": false,
     "start_time": "2023-11-30T23:48:36.201525",
     "status": "completed"
    },
    "tags": []
   },
   "outputs": [],
   "source": [
    "# validation_dataframe[\"UserID\"] = validation_dataframe[\"UserID\"].astype(\"category\")\n",
    "# validation_dataframe[\"ItemID\"] = validation_dataframe[\"ItemID\"].astype(\"category\")\n",
    "\n",
    "validation_dataframe[\"UserID\"] = validation_dataframe[\"UserID\"].astype(int)\n",
    "validation_dataframe[\"ItemID\"] = validation_dataframe[\"ItemID\"].astype(int)"
   ]
  },
  {
   "cell_type": "code",
   "execution_count": 36,
   "id": "b10dc808",
   "metadata": {
    "execution": {
     "iopub.execute_input": "2023-11-30T23:48:36.356490Z",
     "iopub.status.busy": "2023-11-30T23:48:36.356049Z",
     "iopub.status.idle": "2023-11-30T23:48:36.365511Z",
     "shell.execute_reply": "2023-11-30T23:48:36.364340Z"
    },
    "papermill": {
     "duration": 0.049291,
     "end_time": "2023-11-30T23:48:36.367930",
     "exception": false,
     "start_time": "2023-11-30T23:48:36.318639",
     "status": "completed"
    },
    "tags": []
   },
   "outputs": [],
   "source": [
    "class TmpRecommender:\n",
    "    def __init__(self, URM_train, XGB_model, df):\n",
    "        self.URM_train = URM_train\n",
    "        self.df = df\n",
    "        self.XGB_model = XGB_model\n",
    "        \n",
    "    def recommend(self, user_ids, cutoff=10, return_scores=True, remove_seen_flag=True, remove_top_pop_flag=True, remove_custom_items_flag=False):\n",
    "        recommendations = []\n",
    "        for user_id in user_ids:\n",
    "            df_slice = self.df[self.df['UserID'] == user_id]\n",
    "            items = df_slice.ItemID.to_numpy()\n",
    "            preds = self.XGB_model.predict(df_slice)\n",
    "            recommendations.append(items[np.argsort(preds)[-cutoff:]].tolist())\n",
    "            \n",
    "        if return_scores:\n",
    "            rec, scores = recommender_item.recommend(user_ids, cutoff=cutoff, return_scores=return_scores)\n",
    "            # useless scores\n",
    "            return np.array(recommendations), scores\n",
    "        return np.array(recommendations)\n",
    "    \n",
    "    def get_URM_train(self):\n",
    "        return self.URM_train"
   ]
  },
  {
   "cell_type": "code",
   "execution_count": 37,
   "id": "ca106797",
   "metadata": {
    "execution": {
     "iopub.execute_input": "2023-11-30T23:48:36.442089Z",
     "iopub.status.busy": "2023-11-30T23:48:36.441686Z",
     "iopub.status.idle": "2023-11-30T23:49:33.162558Z",
     "shell.execute_reply": "2023-11-30T23:49:33.161322Z"
    },
    "papermill": {
     "duration": 56.769609,
     "end_time": "2023-11-30T23:49:33.173372",
     "exception": false,
     "start_time": "2023-11-30T23:48:36.403763",
     "status": "completed"
    },
    "tags": []
   },
   "outputs": [
    {
     "name": "stdout",
     "output_type": "stream",
     "text": [
      "EvaluatorHoldout: Processed 10456 (100.0%) in 56.68 sec. Users per second: 184\n"
     ]
    },
    {
     "data": {
      "text/html": [
       "<div>\n",
       "<style scoped>\n",
       "    .dataframe tbody tr th:only-of-type {\n",
       "        vertical-align: middle;\n",
       "    }\n",
       "\n",
       "    .dataframe tbody tr th {\n",
       "        vertical-align: top;\n",
       "    }\n",
       "\n",
       "    .dataframe thead th {\n",
       "        text-align: right;\n",
       "    }\n",
       "</style>\n",
       "<table border=\"1\" class=\"dataframe\">\n",
       "  <thead>\n",
       "    <tr style=\"text-align: right;\">\n",
       "      <th></th>\n",
       "      <th>PRECISION</th>\n",
       "      <th>PRECISION_RECALL_MIN_DEN</th>\n",
       "      <th>RECALL</th>\n",
       "      <th>MAP</th>\n",
       "      <th>MAP_MIN_DEN</th>\n",
       "      <th>MRR</th>\n",
       "      <th>NDCG</th>\n",
       "      <th>F1</th>\n",
       "      <th>HIT_RATE</th>\n",
       "      <th>ARHR_ALL_HITS</th>\n",
       "      <th>...</th>\n",
       "      <th>COVERAGE_USER</th>\n",
       "      <th>COVERAGE_USER_HIT</th>\n",
       "      <th>USERS_IN_GT</th>\n",
       "      <th>DIVERSITY_GINI</th>\n",
       "      <th>SHANNON_ENTROPY</th>\n",
       "      <th>RATIO_DIVERSITY_HERFINDAHL</th>\n",
       "      <th>RATIO_DIVERSITY_GINI</th>\n",
       "      <th>RATIO_SHANNON_ENTROPY</th>\n",
       "      <th>RATIO_AVERAGE_POPULARITY</th>\n",
       "      <th>RATIO_NOVELTY</th>\n",
       "    </tr>\n",
       "    <tr>\n",
       "      <th>cutoff</th>\n",
       "      <th></th>\n",
       "      <th></th>\n",
       "      <th></th>\n",
       "      <th></th>\n",
       "      <th></th>\n",
       "      <th></th>\n",
       "      <th></th>\n",
       "      <th></th>\n",
       "      <th></th>\n",
       "      <th></th>\n",
       "      <th></th>\n",
       "      <th></th>\n",
       "      <th></th>\n",
       "      <th></th>\n",
       "      <th></th>\n",
       "      <th></th>\n",
       "      <th></th>\n",
       "      <th></th>\n",
       "      <th></th>\n",
       "      <th></th>\n",
       "      <th></th>\n",
       "    </tr>\n",
       "  </thead>\n",
       "  <tbody>\n",
       "    <tr>\n",
       "      <th>10</th>\n",
       "      <td>0.095524</td>\n",
       "      <td>0.164273</td>\n",
       "      <td>0.138767</td>\n",
       "      <td>0.033352</td>\n",
       "      <td>0.049261</td>\n",
       "      <td>0.164404</td>\n",
       "      <td>0.113525</td>\n",
       "      <td>0.113155</td>\n",
       "      <td>0.520562</td>\n",
       "      <td>0.231197</td>\n",
       "      <td>...</td>\n",
       "      <td>0.802826</td>\n",
       "      <td>0.417921</td>\n",
       "      <td>0.802826</td>\n",
       "      <td>0.069072</td>\n",
       "      <td>10.432797</td>\n",
       "      <td>0.998113</td>\n",
       "      <td>0.199299</td>\n",
       "      <td>0.803702</td>\n",
       "      <td>1.677549</td>\n",
       "      <td>0.302951</td>\n",
       "    </tr>\n",
       "  </tbody>\n",
       "</table>\n",
       "<p>1 rows × 27 columns</p>\n",
       "</div>"
      ],
      "text/plain": [
       "       PRECISION PRECISION_RECALL_MIN_DEN    RECALL       MAP MAP_MIN_DEN  \\\n",
       "cutoff                                                                      \n",
       "10      0.095524                 0.164273  0.138767  0.033352    0.049261   \n",
       "\n",
       "             MRR      NDCG        F1  HIT_RATE ARHR_ALL_HITS  ...  \\\n",
       "cutoff                                                        ...   \n",
       "10      0.164404  0.113525  0.113155  0.520562      0.231197  ...   \n",
       "\n",
       "       COVERAGE_USER COVERAGE_USER_HIT USERS_IN_GT DIVERSITY_GINI  \\\n",
       "cutoff                                                              \n",
       "10          0.802826          0.417921    0.802826       0.069072   \n",
       "\n",
       "       SHANNON_ENTROPY RATIO_DIVERSITY_HERFINDAHL RATIO_DIVERSITY_GINI  \\\n",
       "cutoff                                                                   \n",
       "10           10.432797                   0.998113             0.199299   \n",
       "\n",
       "       RATIO_SHANNON_ENTROPY RATIO_AVERAGE_POPULARITY RATIO_NOVELTY  \n",
       "cutoff                                                               \n",
       "10                  0.803702                 1.677549      0.302951  \n",
       "\n",
       "[1 rows x 27 columns]"
      ]
     },
     "execution_count": 37,
     "metadata": {},
     "output_type": "execute_result"
    }
   ],
   "source": [
    "recommender = TmpRecommender(URM_train_complete, XGB_model, validation_dataframe)\n",
    "result_df, _ = evaluator.evaluateRecommender(recommender)\n",
    "result_df"
   ]
  },
  {
   "cell_type": "code",
   "execution_count": 38,
   "id": "2f7ae7ee",
   "metadata": {
    "execution": {
     "iopub.execute_input": "2023-11-30T23:49:33.249472Z",
     "iopub.status.busy": "2023-11-30T23:49:33.248140Z",
     "iopub.status.idle": "2023-11-30T23:49:33.259619Z",
     "shell.execute_reply": "2023-11-30T23:49:33.258696Z"
    },
    "papermill": {
     "duration": 0.051938,
     "end_time": "2023-11-30T23:49:33.262101",
     "exception": false,
     "start_time": "2023-11-30T23:49:33.210163",
     "status": "completed"
    },
    "tags": []
   },
   "outputs": [],
   "source": [
    "def objective_xgboost(trial):\n",
    "\n",
    "    XGB_model = XGBRanker(\n",
    "        objective = 'rank:pairwise',\n",
    "        n_estimators = trial.suggest_int('n_estimators', 10, 5000, log=True),\n",
    "        learning_rate = trial.suggest_float('learning_rate', 1e-4, 0.5, log=True),\n",
    "        reg_alpha = trial.suggest_float('reg_alpha', 1e-5, 1, log=True),\n",
    "        reg_lambda = trial.suggest_float('reg_lambda', 1e-5, 1, log=True),\n",
    "        max_depth = trial.suggest_int('max_depth', 3, 20),\n",
    "        max_leaves = trial.suggest_int('max_leaves', 8, 1024),\n",
    "        grow_policy = trial.suggest_categorical('grow_policy', ['depthwise', 'lossguide']),\n",
    "        verbosity = 2,\n",
    "        booster = trial.suggest_categorical('booster', ['gbtree', 'gblinear']),\n",
    "        # tree_method = trial.suggest_categorical('tree_method', ['exact', 'approx', 'hist']),\n",
    "        three_method = 'hist',\n",
    "        gamma = trial.suggest_float('gamma', 1e-7, 10, log=True),\n",
    "        min_child_weight = trial.suggest_float('min_child_weight', 1e-7, 1, log=True),\n",
    "        subsample = trial.suggest_float('subsample', 0.1, 0.9),\n",
    "        colsample_bytree = trial.suggest_float('colsample_bytree', 0.1, 0.9),\n",
    "        # enable_categorical = True\n",
    "    )\n",
    "    \n",
    "    XGB_model.fit(\n",
    "        X_train,\n",
    "        y_train,\n",
    "        group=groups,\n",
    "        verbose=True\n",
    "    )\n",
    "    \n",
    "    recommender = TmpRecommender(URM_train_complete, XGB_model, validation_dataframe)\n",
    "    result_df, _ = evaluator.evaluateRecommender(recommender)\n",
    "        \n",
    "    return result_df.loc[10, 'MAP']"
   ]
  },
  {
   "cell_type": "code",
   "execution_count": 39,
   "id": "eff11e8a",
   "metadata": {
    "execution": {
     "iopub.execute_input": "2023-11-30T23:49:33.337332Z",
     "iopub.status.busy": "2023-11-30T23:49:33.336898Z",
     "iopub.status.idle": "2023-11-30T23:49:33.343217Z",
     "shell.execute_reply": "2023-11-30T23:49:33.342408Z"
    },
    "papermill": {
     "duration": 0.046552,
     "end_time": "2023-11-30T23:49:33.345573",
     "exception": false,
     "start_time": "2023-11-30T23:49:33.299021",
     "status": "completed"
    },
    "tags": []
   },
   "outputs": [],
   "source": [
    "try:\n",
    "    shutil.copyfile(\n",
    "        '/kaggle/working/Recsys_Challenge_2023/tuning_results/tuning_hybrid_xgboost.db', \n",
    "        config['database_path']\n",
    "    )\n",
    "except FileNotFoundError:\n",
    "    pass"
   ]
  },
  {
   "cell_type": "code",
   "execution_count": 40,
   "id": "922fa39c",
   "metadata": {
    "execution": {
     "iopub.execute_input": "2023-11-30T23:49:33.420313Z",
     "iopub.status.busy": "2023-11-30T23:49:33.419882Z",
     "iopub.status.idle": "2023-12-01T03:13:06.649035Z",
     "shell.execute_reply": "2023-12-01T03:13:06.648049Z"
    },
    "papermill": {
     "duration": 12213.292953,
     "end_time": "2023-12-01T03:13:06.675170",
     "exception": false,
     "start_time": "2023-11-30T23:49:33.382217",
     "status": "completed"
    },
    "tags": []
   },
   "outputs": [
    {
     "name": "stderr",
     "output_type": "stream",
     "text": [
      "[I 2023-11-30 23:49:33,854] A new study created in RDB with name: hyperparameters_tuning_xgboost_better\n",
      "/opt/conda/lib/python3.10/site-packages/xgboost/core.py:160: UserWarning: [23:49:34] WARNING: /workspace/src/learner.cc:742: \n",
      "Parameters: { \"three_method\" } are not used.\n",
      "\n",
      "  warnings.warn(smsg, UserWarning)\n"
     ]
    },
    {
     "name": "stdout",
     "output_type": "stream",
     "text": [
      "EvaluatorHoldout: Processed 10456 (100.0%) in 56.77 sec. Users per second: 184\n"
     ]
    },
    {
     "name": "stderr",
     "output_type": "stream",
     "text": [
      "[I 2023-11-30 23:50:35,473] Trial 0 finished with value: 0.031115471788052053 and parameters: {'n_estimators': 43, 'learning_rate': 0.04225165068761518, 'reg_alpha': 2.8871829005728433e-05, 'reg_lambda': 0.027289178997836616, 'max_depth': 13, 'max_leaves': 355, 'grow_policy': 'depthwise', 'booster': 'gbtree', 'gamma': 0.001312285144465285, 'min_child_weight': 1.1401453684341645e-06, 'subsample': 0.2577889217419392, 'colsample_bytree': 0.7084389250972783}. Best is trial 0 with value: 0.031115471788052053.\n",
      "/opt/conda/lib/python3.10/site-packages/xgboost/core.py:160: UserWarning: [23:50:36] WARNING: /workspace/src/learner.cc:742: \n",
      "Parameters: { \"three_method\" } are not used.\n",
      "\n",
      "  warnings.warn(smsg, UserWarning)\n"
     ]
    },
    {
     "name": "stdout",
     "output_type": "stream",
     "text": [
      "EvaluatorHoldout: Processed 10456 (100.0%) in 1.52 min. Users per second: 115\n"
     ]
    },
    {
     "name": "stderr",
     "output_type": "stream",
     "text": [
      "[I 2023-11-30 23:53:10,017] Trial 1 finished with value: 0.03315821553053749 and parameters: {'n_estimators': 870, 'learning_rate': 0.0009001307448421486, 'reg_alpha': 0.026500152622152034, 'reg_lambda': 0.13609548071189062, 'max_depth': 9, 'max_leaves': 231, 'grow_policy': 'lossguide', 'booster': 'gbtree', 'gamma': 1.3775508095166589, 'min_child_weight': 0.00032322144408656104, 'subsample': 0.33831003104932966, 'colsample_bytree': 0.6098645905367811}. Best is trial 1 with value: 0.03315821553053749.\n",
      "/opt/conda/lib/python3.10/site-packages/xgboost/core.py:160: UserWarning: [23:53:10] WARNING: /workspace/src/learner.cc:742: \n",
      "Parameters: { \"colsample_bytree\", \"gamma\", \"grow_policy\", \"max_depth\", \"max_leaves\", \"min_child_weight\", \"subsample\", \"three_method\" } are not used.\n",
      "\n",
      "  warnings.warn(smsg, UserWarning)\n"
     ]
    },
    {
     "name": "stdout",
     "output_type": "stream",
     "text": [
      "EvaluatorHoldout: Processed 10456 (100.0%) in 58.80 sec. Users per second: 178\n"
     ]
    },
    {
     "name": "stderr",
     "output_type": "stream",
     "text": [
      "[I 2023-11-30 23:58:13,161] Trial 2 finished with value: 0.031341369275330676 and parameters: {'n_estimators': 3499, 'learning_rate': 0.03159276173811764, 'reg_alpha': 0.0002489570740181032, 'reg_lambda': 0.001085745098937539, 'max_depth': 4, 'max_leaves': 30, 'grow_policy': 'depthwise', 'booster': 'gblinear', 'gamma': 0.025766649486899672, 'min_child_weight': 0.012387193356687441, 'subsample': 0.4964953922315868, 'colsample_bytree': 0.6862239049213502}. Best is trial 1 with value: 0.03315821553053749.\n",
      "/opt/conda/lib/python3.10/site-packages/xgboost/core.py:160: UserWarning: [23:58:13] WARNING: /workspace/src/learner.cc:742: \n",
      "Parameters: { \"colsample_bytree\", \"gamma\", \"grow_policy\", \"max_depth\", \"max_leaves\", \"min_child_weight\", \"subsample\", \"three_method\" } are not used.\n",
      "\n",
      "  warnings.warn(smsg, UserWarning)\n"
     ]
    },
    {
     "name": "stdout",
     "output_type": "stream",
     "text": [
      "EvaluatorHoldout: Processed 10456 (100.0%) in 58.93 sec. Users per second: 177\n"
     ]
    },
    {
     "name": "stderr",
     "output_type": "stream",
     "text": [
      "[I 2023-11-30 23:59:14,784] Trial 3 finished with value: 0.02642537967112377 and parameters: {'n_estimators': 38, 'learning_rate': 0.014173222541703279, 'reg_alpha': 0.012057335305440063, 'reg_lambda': 0.382039943770299, 'max_depth': 4, 'max_leaves': 472, 'grow_policy': 'depthwise', 'booster': 'gblinear', 'gamma': 0.1279512192357368, 'min_child_weight': 1.1357568475717165e-07, 'subsample': 0.3747185082438662, 'colsample_bytree': 0.7371908910991176}. Best is trial 1 with value: 0.03315821553053749.\n",
      "/opt/conda/lib/python3.10/site-packages/xgboost/core.py:160: UserWarning: [23:59:15] WARNING: /workspace/src/learner.cc:742: \n",
      "Parameters: { \"colsample_bytree\", \"gamma\", \"grow_policy\", \"max_depth\", \"max_leaves\", \"min_child_weight\", \"subsample\", \"three_method\" } are not used.\n",
      "\n",
      "  warnings.warn(smsg, UserWarning)\n"
     ]
    },
    {
     "name": "stdout",
     "output_type": "stream",
     "text": [
      "EvaluatorHoldout: Processed 10456 (100.0%) in 57.08 sec. Users per second: 183\n"
     ]
    },
    {
     "name": "stderr",
     "output_type": "stream",
     "text": [
      "[I 2023-12-01 00:00:13,025] Trial 4 finished with value: 0.026400361757812057 and parameters: {'n_estimators': 14, 'learning_rate': 0.0857511726716319, 'reg_alpha': 0.006170227280281933, 'reg_lambda': 2.192754571853114e-05, 'max_depth': 11, 'max_leaves': 798, 'grow_policy': 'depthwise', 'booster': 'gblinear', 'gamma': 1.33821949707266e-07, 'min_child_weight': 1.6020306133673602e-07, 'subsample': 0.39501832680509064, 'colsample_bytree': 0.35352099864704356}. Best is trial 1 with value: 0.03315821553053749.\n",
      "/opt/conda/lib/python3.10/site-packages/xgboost/core.py:160: UserWarning: [00:00:13] WARNING: /workspace/src/learner.cc:742: \n",
      "Parameters: { \"colsample_bytree\", \"gamma\", \"grow_policy\", \"max_depth\", \"max_leaves\", \"min_child_weight\", \"subsample\", \"three_method\" } are not used.\n",
      "\n",
      "  warnings.warn(smsg, UserWarning)\n"
     ]
    },
    {
     "name": "stdout",
     "output_type": "stream",
     "text": [
      "EvaluatorHoldout: Processed 10456 (100.0%) in 56.41 sec. Users per second: 185\n"
     ]
    },
    {
     "name": "stderr",
     "output_type": "stream",
     "text": [
      "[I 2023-12-01 00:01:14,284] Trial 5 finished with value: 0.02649233446885514 and parameters: {'n_estimators': 64, 'learning_rate': 0.029966322839371704, 'reg_alpha': 4.6876946405750524e-05, 'reg_lambda': 0.40484211778446444, 'max_depth': 15, 'max_leaves': 854, 'grow_policy': 'lossguide', 'booster': 'gblinear', 'gamma': 1.8673936880590722, 'min_child_weight': 0.05948390598210354, 'subsample': 0.7770057300955434, 'colsample_bytree': 0.5962681249640515}. Best is trial 1 with value: 0.03315821553053749.\n",
      "/opt/conda/lib/python3.10/site-packages/xgboost/core.py:160: UserWarning: [00:01:14] WARNING: /workspace/src/learner.cc:742: \n",
      "Parameters: { \"three_method\" } are not used.\n",
      "\n",
      "  warnings.warn(smsg, UserWarning)\n"
     ]
    },
    {
     "name": "stdout",
     "output_type": "stream",
     "text": [
      "EvaluatorHoldout: Processed 10456 (100.0%) in 1.25 min. Users per second: 139\n"
     ]
    },
    {
     "name": "stderr",
     "output_type": "stream",
     "text": [
      "[I 2023-12-01 00:03:49,341] Trial 6 finished with value: 0.033419218554547436 and parameters: {'n_estimators': 1382, 'learning_rate': 0.00045075895868430175, 'reg_alpha': 0.004186204876883014, 'reg_lambda': 0.0019658035296634025, 'max_depth': 5, 'max_leaves': 67, 'grow_policy': 'lossguide', 'booster': 'gbtree', 'gamma': 0.04804273593825478, 'min_child_weight': 0.03545067890132244, 'subsample': 0.3903326407653209, 'colsample_bytree': 0.2689398189027805}. Best is trial 6 with value: 0.033419218554547436.\n",
      "/opt/conda/lib/python3.10/site-packages/xgboost/core.py:160: UserWarning: [00:03:49] WARNING: /workspace/src/learner.cc:742: \n",
      "Parameters: { \"colsample_bytree\", \"gamma\", \"grow_policy\", \"max_depth\", \"max_leaves\", \"min_child_weight\", \"subsample\", \"three_method\" } are not used.\n",
      "\n",
      "  warnings.warn(smsg, UserWarning)\n"
     ]
    },
    {
     "name": "stdout",
     "output_type": "stream",
     "text": [
      "EvaluatorHoldout: Processed 10456 (100.0%) in 59.34 sec. Users per second: 176\n"
     ]
    },
    {
     "name": "stderr",
     "output_type": "stream",
     "text": [
      "[I 2023-12-01 00:05:13,442] Trial 7 finished with value: 0.027702887231148506 and parameters: {'n_estimators': 368, 'learning_rate': 0.0838926902075802, 'reg_alpha': 0.0022903287008956244, 'reg_lambda': 0.012993614691833142, 'max_depth': 12, 'max_leaves': 60, 'grow_policy': 'lossguide', 'booster': 'gblinear', 'gamma': 0.0001702407756055369, 'min_child_weight': 0.00012384114535049298, 'subsample': 0.2513865420349253, 'colsample_bytree': 0.6086494959367501}. Best is trial 6 with value: 0.033419218554547436.\n",
      "/opt/conda/lib/python3.10/site-packages/xgboost/core.py:160: UserWarning: [00:05:13] WARNING: /workspace/src/learner.cc:742: \n",
      "Parameters: { \"colsample_bytree\", \"gamma\", \"grow_policy\", \"max_depth\", \"max_leaves\", \"min_child_weight\", \"subsample\", \"three_method\" } are not used.\n",
      "\n",
      "  warnings.warn(smsg, UserWarning)\n"
     ]
    },
    {
     "name": "stdout",
     "output_type": "stream",
     "text": [
      "EvaluatorHoldout: Processed 10456 (100.0%) in 57.91 sec. Users per second: 181\n"
     ]
    },
    {
     "name": "stderr",
     "output_type": "stream",
     "text": [
      "[I 2023-12-01 00:10:44,542] Trial 8 finished with value: 0.03278180447772067 and parameters: {'n_estimators': 3387, 'learning_rate': 0.2348013924229771, 'reg_alpha': 0.00031087262861822867, 'reg_lambda': 0.0001243908219485667, 'max_depth': 5, 'max_leaves': 975, 'grow_policy': 'lossguide', 'booster': 'gblinear', 'gamma': 1.2877169456945174e-07, 'min_child_weight': 1.7374231563348805e-05, 'subsample': 0.4681483447746664, 'colsample_bytree': 0.41441015803583925}. Best is trial 6 with value: 0.033419218554547436.\n",
      "/opt/conda/lib/python3.10/site-packages/xgboost/core.py:160: UserWarning: [00:10:45] WARNING: /workspace/src/learner.cc:742: \n",
      "Parameters: { \"three_method\" } are not used.\n",
      "\n",
      "  warnings.warn(smsg, UserWarning)\n"
     ]
    },
    {
     "name": "stdout",
     "output_type": "stream",
     "text": [
      "EvaluatorHoldout: Processed 10456 (100.0%) in 5.19 min. Users per second: 34\n"
     ]
    },
    {
     "name": "stderr",
     "output_type": "stream",
     "text": [
      "[I 2023-12-01 00:21:09,397] Trial 9 finished with value: 0.03046042524380314 and parameters: {'n_estimators': 3587, 'learning_rate': 0.003397881618409395, 'reg_alpha': 0.081943255933846, 'reg_lambda': 1.727082364951098e-05, 'max_depth': 16, 'max_leaves': 662, 'grow_policy': 'depthwise', 'booster': 'gbtree', 'gamma': 0.00032765432957364326, 'min_child_weight': 2.886969095150295e-07, 'subsample': 0.30343067386888956, 'colsample_bytree': 0.7525775726824773}. Best is trial 6 with value: 0.033419218554547436.\n",
      "/opt/conda/lib/python3.10/site-packages/xgboost/core.py:160: UserWarning: [00:21:10] WARNING: /workspace/src/learner.cc:742: \n",
      "Parameters: { \"three_method\" } are not used.\n",
      "\n",
      "  warnings.warn(smsg, UserWarning)\n"
     ]
    },
    {
     "name": "stdout",
     "output_type": "stream",
     "text": [
      "EvaluatorHoldout: Processed 10456 (100.0%) in 58.71 sec. Users per second: 178\n"
     ]
    },
    {
     "name": "stderr",
     "output_type": "stream",
     "text": [
      "[I 2023-12-01 00:22:43,127] Trial 10 finished with value: 0.03208196706379556 and parameters: {'n_estimators': 691, 'learning_rate': 0.00010627124953848819, 'reg_alpha': 0.2101081516215052, 'reg_lambda': 0.0012915658915768548, 'max_depth': 20, 'max_leaves': 240, 'grow_policy': 'lossguide', 'booster': 'gbtree', 'gamma': 9.112856957745397, 'min_child_weight': 0.6742354972160761, 'subsample': 0.122369045334486, 'colsample_bytree': 0.14661626603011083}. Best is trial 6 with value: 0.033419218554547436.\n",
      "/opt/conda/lib/python3.10/site-packages/xgboost/core.py:160: UserWarning: [00:22:43] WARNING: /workspace/src/learner.cc:742: \n",
      "Parameters: { \"three_method\" } are not used.\n",
      "\n",
      "  warnings.warn(smsg, UserWarning)\n"
     ]
    },
    {
     "name": "stdout",
     "output_type": "stream",
     "text": [
      "EvaluatorHoldout: Processed 10456 (100.0%) in 1.49 min. Users per second: 117\n"
     ]
    },
    {
     "name": "stderr",
     "output_type": "stream",
     "text": [
      "[I 2023-12-01 00:25:21,349] Trial 11 finished with value: 0.032880373234475985 and parameters: {'n_estimators': 965, 'learning_rate': 0.0010271859547635281, 'reg_alpha': 0.051310900338873, 'reg_lambda': 0.007567478124491935, 'max_depth': 8, 'max_leaves': 224, 'grow_policy': 'lossguide', 'booster': 'gbtree', 'gamma': 0.23274936689640505, 'min_child_weight': 0.0026883788729781207, 'subsample': 0.6065028783297162, 'colsample_bytree': 0.48427057151788544}. Best is trial 6 with value: 0.033419218554547436.\n",
      "/opt/conda/lib/python3.10/site-packages/xgboost/core.py:160: UserWarning: [00:25:21] WARNING: /workspace/src/learner.cc:742: \n",
      "Parameters: { \"three_method\" } are not used.\n",
      "\n",
      "  warnings.warn(smsg, UserWarning)\n"
     ]
    },
    {
     "name": "stdout",
     "output_type": "stream",
     "text": [
      "EvaluatorHoldout: Processed 10456 (100.0%) in 1.27 min. Users per second: 138\n"
     ]
    },
    {
     "name": "stderr",
     "output_type": "stream",
     "text": [
      "[I 2023-12-01 00:27:48,333] Trial 12 finished with value: 0.03328825023378382 and parameters: {'n_estimators': 1178, 'learning_rate': 0.0005721092810263652, 'reg_alpha': 0.027995527447352772, 'reg_lambda': 0.03536985233692309, 'max_depth': 7, 'max_leaves': 189, 'grow_policy': 'lossguide', 'booster': 'gbtree', 'gamma': 8.63675606163148, 'min_child_weight': 0.0007956962692607306, 'subsample': 0.622787846896049, 'colsample_bytree': 0.2747909935707238}. Best is trial 6 with value: 0.033419218554547436.\n",
      "/opt/conda/lib/python3.10/site-packages/xgboost/core.py:160: UserWarning: [00:27:49] WARNING: /workspace/src/learner.cc:742: \n",
      "Parameters: { \"three_method\" } are not used.\n",
      "\n",
      "  warnings.warn(smsg, UserWarning)\n"
     ]
    },
    {
     "name": "stdout",
     "output_type": "stream",
     "text": [
      "EvaluatorHoldout: Processed 10456 (100.0%) in 1.02 min. Users per second: 170\n"
     ]
    },
    {
     "name": "stderr",
     "output_type": "stream",
     "text": [
      "[I 2023-12-01 00:29:05,128] Trial 13 finished with value: 0.03248067487642837 and parameters: {'n_estimators': 246, 'learning_rate': 0.00011421849925695701, 'reg_alpha': 0.9625401308010502, 'reg_lambda': 0.03774792406850451, 'max_depth': 7, 'max_leaves': 124, 'grow_policy': 'lossguide', 'booster': 'gbtree', 'gamma': 5.771736739545799, 'min_child_weight': 0.0033932286973608495, 'subsample': 0.6026030009829256, 'colsample_bytree': 0.2593377421214439}. Best is trial 6 with value: 0.033419218554547436.\n",
      "/opt/conda/lib/python3.10/site-packages/xgboost/core.py:160: UserWarning: [00:29:05] WARNING: /workspace/src/learner.cc:742: \n",
      "Parameters: { \"three_method\" } are not used.\n",
      "\n",
      "  warnings.warn(smsg, UserWarning)\n"
     ]
    },
    {
     "name": "stdout",
     "output_type": "stream",
     "text": [
      "EvaluatorHoldout: Processed 10456 (100.0%) in 1.51 min. Users per second: 115\n"
     ]
    },
    {
     "name": "stderr",
     "output_type": "stream",
     "text": [
      "[I 2023-12-01 00:32:17,617] Trial 14 finished with value: 0.0333100687992614 and parameters: {'n_estimators': 1675, 'learning_rate': 0.00036603129959476854, 'reg_alpha': 0.00182399453107884, 'reg_lambda': 0.004825380994787761, 'max_depth': 6, 'max_leaves': 421, 'grow_policy': 'lossguide', 'booster': 'gbtree', 'gamma': 0.013263693840124663, 'min_child_weight': 0.10049330226358504, 'subsample': 0.8935082915713108, 'colsample_bytree': 0.25268216416936073}. Best is trial 6 with value: 0.033419218554547436.\n",
      "/opt/conda/lib/python3.10/site-packages/xgboost/core.py:160: UserWarning: [00:32:18] WARNING: /workspace/src/learner.cc:742: \n",
      "Parameters: { \"three_method\" } are not used.\n",
      "\n",
      "  warnings.warn(smsg, UserWarning)\n"
     ]
    },
    {
     "name": "stdout",
     "output_type": "stream",
     "text": [
      "EvaluatorHoldout: Processed 10456 (100.0%) in 1.18 min. Users per second: 147\n"
     ]
    },
    {
     "name": "stderr",
     "output_type": "stream",
     "text": [
      "[I 2023-12-01 00:35:32,299] Trial 15 finished with value: 0.032607741738623415 and parameters: {'n_estimators': 2434, 'learning_rate': 0.0003785742512734702, 'reg_alpha': 0.0018688848340310772, 'reg_lambda': 0.0023412588200757006, 'max_depth': 3, 'max_leaves': 524, 'grow_policy': 'lossguide', 'booster': 'gbtree', 'gamma': 0.013447241206242341, 'min_child_weight': 0.8483091311829903, 'subsample': 0.7969336500693598, 'colsample_bytree': 0.11650539915002944}. Best is trial 6 with value: 0.033419218554547436.\n",
      "/opt/conda/lib/python3.10/site-packages/xgboost/core.py:160: UserWarning: [00:35:32] WARNING: /workspace/src/learner.cc:742: \n",
      "Parameters: { \"three_method\" } are not used.\n",
      "\n",
      "  warnings.warn(smsg, UserWarning)\n"
     ]
    },
    {
     "name": "stdout",
     "output_type": "stream",
     "text": [
      "EvaluatorHoldout: Processed 10456 (100.0%) in 2.17 min. Users per second: 80\n"
     ]
    },
    {
     "name": "stderr",
     "output_type": "stream",
     "text": [
      "[I 2023-12-01 00:40:03,841] Trial 16 finished with value: 0.030060931826186167 and parameters: {'n_estimators': 1750, 'learning_rate': 0.003475388885427427, 'reg_alpha': 0.0008700167760998978, 'reg_lambda': 0.000471205602682683, 'max_depth': 10, 'max_leaves': 395, 'grow_policy': 'lossguide', 'booster': 'gbtree', 'gamma': 0.004316995863566481, 'min_child_weight': 0.0746852622213357, 'subsample': 0.8770244477666287, 'colsample_bytree': 0.879236328956552}. Best is trial 6 with value: 0.033419218554547436.\n",
      "/opt/conda/lib/python3.10/site-packages/xgboost/core.py:160: UserWarning: [00:40:04] WARNING: /workspace/src/learner.cc:742: \n",
      "Parameters: { \"three_method\" } are not used.\n",
      "\n",
      "  warnings.warn(smsg, UserWarning)\n"
     ]
    },
    {
     "name": "stdout",
     "output_type": "stream",
     "text": [
      "EvaluatorHoldout: Processed 10456 (100.0%) in 2.57 min. Users per second: 68\n"
     ]
    },
    {
     "name": "stderr",
     "output_type": "stream",
     "text": [
      "[I 2023-12-01 00:47:30,359] Trial 17 finished with value: 0.03337410129825953 and parameters: {'n_estimators': 4847, 'learning_rate': 0.0002986154893285486, 'reg_alpha': 0.006240669451020639, 'reg_lambda': 0.004952313954141377, 'max_depth': 6, 'max_leaves': 633, 'grow_policy': 'lossguide', 'booster': 'gbtree', 'gamma': 0.09001637600953773, 'min_child_weight': 0.08787562224917995, 'subsample': 0.8972397297360442, 'colsample_bytree': 0.20500170628084333}. Best is trial 6 with value: 0.033419218554547436.\n",
      "/opt/conda/lib/python3.10/site-packages/xgboost/core.py:160: UserWarning: [00:47:30] WARNING: /workspace/src/learner.cc:742: \n",
      "Parameters: { \"three_method\" } are not used.\n",
      "\n",
      "  warnings.warn(smsg, UserWarning)\n"
     ]
    },
    {
     "name": "stdout",
     "output_type": "stream",
     "text": [
      "EvaluatorHoldout: Processed 10456 (100.0%) in 1.32 min. Users per second: 132\n"
     ]
    },
    {
     "name": "stderr",
     "output_type": "stream",
     "text": [
      "[I 2023-12-01 00:52:29,544] Trial 18 finished with value: 0.033170732077579694 and parameters: {'n_estimators': 4454, 'learning_rate': 0.0025618327452448476, 'reg_alpha': 0.008139115937507659, 'reg_lambda': 0.00038316732349663135, 'max_depth': 3, 'max_leaves': 599, 'grow_policy': 'lossguide', 'booster': 'gbtree', 'gamma': 0.17126220650866872, 'min_child_weight': 0.014639762975647756, 'subsample': 0.6928454258950858, 'colsample_bytree': 0.16863056151171674}. Best is trial 6 with value: 0.033419218554547436.\n",
      "/opt/conda/lib/python3.10/site-packages/xgboost/core.py:160: UserWarning: [00:52:30] WARNING: /workspace/src/learner.cc:742: \n",
      "Parameters: { \"three_method\" } are not used.\n",
      "\n",
      "  warnings.warn(smsg, UserWarning)\n"
     ]
    },
    {
     "name": "stdout",
     "output_type": "stream",
     "text": [
      "EvaluatorHoldout: Processed 10456 (100.0%) in 1.06 min. Users per second: 164\n"
     ]
    },
    {
     "name": "stderr",
     "output_type": "stream",
     "text": [
      "[I 2023-12-01 00:54:03,206] Trial 19 finished with value: 0.033144966511215374 and parameters: {'n_estimators': 473, 'learning_rate': 0.00022061513369040989, 'reg_alpha': 0.005912014220356824, 'reg_lambda': 0.004997138637938585, 'max_depth': 6, 'max_leaves': 706, 'grow_policy': 'lossguide', 'booster': 'gbtree', 'gamma': 0.06554252723467162, 'min_child_weight': 0.20473605759185692, 'subsample': 0.4545553223933347, 'colsample_bytree': 0.3563040196078704}. Best is trial 6 with value: 0.033419218554547436.\n",
      "/opt/conda/lib/python3.10/site-packages/xgboost/core.py:160: UserWarning: [00:54:03] WARNING: /workspace/src/learner.cc:742: \n",
      "Parameters: { \"three_method\" } are not used.\n",
      "\n",
      "  warnings.warn(smsg, UserWarning)\n"
     ]
    },
    {
     "name": "stdout",
     "output_type": "stream",
     "text": [
      "EvaluatorHoldout: Processed 10456 (100.0%) in 1.97 min. Users per second: 89\n"
     ]
    },
    {
     "name": "stderr",
     "output_type": "stream",
     "text": [
      "[I 2023-12-01 00:58:04,702] Trial 20 finished with value: 0.032190790432469654 and parameters: {'n_estimators': 1793, 'learning_rate': 0.001476311525544545, 'reg_alpha': 0.016340703965401715, 'reg_lambda': 0.003323704347839731, 'max_depth': 9, 'max_leaves': 325, 'grow_policy': 'lossguide', 'booster': 'gbtree', 'gamma': 0.8141876382464632, 'min_child_weight': 0.01799459285495173, 'subsample': 0.5490236339505765, 'colsample_bytree': 0.20148492698840437}. Best is trial 6 with value: 0.033419218554547436.\n",
      "/opt/conda/lib/python3.10/site-packages/xgboost/core.py:160: UserWarning: [00:58:05] WARNING: /workspace/src/learner.cc:742: \n",
      "Parameters: { \"three_method\" } are not used.\n",
      "\n",
      "  warnings.warn(smsg, UserWarning)\n"
     ]
    },
    {
     "name": "stdout",
     "output_type": "stream",
     "text": [
      "EvaluatorHoldout: Processed 10456 (100.0%) in 1.39 min. Users per second: 126\n"
     ]
    },
    {
     "name": "stderr",
     "output_type": "stream",
     "text": [
      "[I 2023-12-01 01:01:17,337] Trial 21 finished with value: 0.03279985441639027 and parameters: {'n_estimators': 1901, 'learning_rate': 0.00029123118981164647, 'reg_alpha': 0.00271702912893279, 'reg_lambda': 0.0068745501903036835, 'max_depth': 6, 'max_leaves': 539, 'grow_policy': 'lossguide', 'booster': 'gbtree', 'gamma': 0.011628252142413798, 'min_child_weight': 0.09286469180627929, 'subsample': 0.894647079279025, 'colsample_bytree': 0.10241478705609501}. Best is trial 6 with value: 0.033419218554547436.\n",
      "/opt/conda/lib/python3.10/site-packages/xgboost/core.py:160: UserWarning: [01:01:17] WARNING: /workspace/src/learner.cc:742: \n",
      "Parameters: { \"three_method\" } are not used.\n",
      "\n",
      "  warnings.warn(smsg, UserWarning)\n"
     ]
    },
    {
     "name": "stdout",
     "output_type": "stream",
     "text": [
      "EvaluatorHoldout: Processed 10456 (100.0%) in 1.18 min. Users per second: 148\n"
     ]
    },
    {
     "name": "stderr",
     "output_type": "stream",
     "text": [
      "[I 2023-12-01 01:03:48,202] Trial 22 finished with value: 0.03324769859486753 and parameters: {'n_estimators': 1420, 'learning_rate': 0.0005907627035040958, 'reg_alpha': 0.0011321323162121716, 'reg_lambda': 0.00204974370898728, 'max_depth': 5, 'max_leaves': 445, 'grow_policy': 'lossguide', 'booster': 'gbtree', 'gamma': 0.041706633249937924, 'min_child_weight': 0.2981299877641672, 'subsample': 0.8067451759403876, 'colsample_bytree': 0.23905942314339068}. Best is trial 6 with value: 0.033419218554547436.\n",
      "/opt/conda/lib/python3.10/site-packages/xgboost/core.py:160: UserWarning: [01:03:48] WARNING: /workspace/src/learner.cc:742: \n",
      "Parameters: { \"three_method\" } are not used.\n",
      "\n",
      "  warnings.warn(smsg, UserWarning)\n"
     ]
    },
    {
     "name": "stdout",
     "output_type": "stream",
     "text": [
      "EvaluatorHoldout: Processed 10456 (100.0%) in 3.31 min. Users per second: 53\n"
     ]
    },
    {
     "name": "stderr",
     "output_type": "stream",
     "text": [
      "[I 2023-12-01 01:12:04,347] Trial 23 finished with value: 0.03283016282896717 and parameters: {'n_estimators': 4293, 'learning_rate': 0.00020636428833034647, 'reg_alpha': 0.004305402635470083, 'reg_lambda': 0.011694698543108877, 'max_depth': 8, 'max_leaves': 763, 'grow_policy': 'lossguide', 'booster': 'gbtree', 'gamma': 0.006263698969830561, 'min_child_weight': 0.046255439527159645, 'subsample': 0.7204643255377773, 'colsample_bytree': 0.2982595367727406}. Best is trial 6 with value: 0.033419218554547436.\n",
      "/opt/conda/lib/python3.10/site-packages/xgboost/core.py:160: UserWarning: [01:12:04] WARNING: /workspace/src/learner.cc:742: \n",
      "Parameters: { \"three_method\" } are not used.\n",
      "\n",
      "  warnings.warn(smsg, UserWarning)\n"
     ]
    },
    {
     "name": "stdout",
     "output_type": "stream",
     "text": [
      "EvaluatorHoldout: Processed 10456 (100.0%) in 1.63 min. Users per second: 107\n"
     ]
    },
    {
     "name": "stderr",
     "output_type": "stream",
     "text": [
      "[I 2023-12-01 01:16:02,113] Trial 24 finished with value: 0.033583102585589115 and parameters: {'n_estimators': 2357, 'learning_rate': 0.0005173137634681166, 'reg_alpha': 0.00046654941162918074, 'reg_lambda': 0.0006058729221653929, 'max_depth': 6, 'max_leaves': 633, 'grow_policy': 'lossguide', 'booster': 'gbtree', 'gamma': 0.48737537765100447, 'min_child_weight': 0.2648969353897298, 'subsample': 0.8941864164584935, 'colsample_bytree': 0.2026634833363096}. Best is trial 24 with value: 0.033583102585589115.\n",
      "/opt/conda/lib/python3.10/site-packages/xgboost/core.py:160: UserWarning: [01:16:03] WARNING: /workspace/src/learner.cc:742: \n",
      "Parameters: { \"three_method\" } are not used.\n",
      "\n",
      "  warnings.warn(smsg, UserWarning)\n"
     ]
    },
    {
     "name": "stdout",
     "output_type": "stream",
     "text": [
      "EvaluatorHoldout: Processed 10456 (100.0%) in 1.13 min. Users per second: 155\n"
     ]
    },
    {
     "name": "stderr",
     "output_type": "stream",
     "text": [
      "[I 2023-12-01 01:19:26,996] Trial 25 finished with value: 0.03330189395319447 and parameters: {'n_estimators': 2706, 'learning_rate': 0.0017039626435565514, 'reg_alpha': 0.0005891226150387631, 'reg_lambda': 0.0006930281102612196, 'max_depth': 3, 'max_leaves': 612, 'grow_policy': 'lossguide', 'booster': 'gbtree', 'gamma': 0.4834313070635639, 'min_child_weight': 0.27442078696667827, 'subsample': 0.8459533570416163, 'colsample_bytree': 0.21712773841576127}. Best is trial 24 with value: 0.033583102585589115.\n",
      "/opt/conda/lib/python3.10/site-packages/xgboost/core.py:160: UserWarning: [01:19:27] WARNING: /workspace/src/learner.cc:742: \n",
      "Parameters: { \"three_method\" } are not used.\n",
      "\n",
      "  warnings.warn(smsg, UserWarning)\n"
     ]
    },
    {
     "name": "stdout",
     "output_type": "stream",
     "text": [
      "EvaluatorHoldout: Processed 10456 (100.0%) in 1.88 min. Users per second: 93\n"
     ]
    },
    {
     "name": "stderr",
     "output_type": "stream",
     "text": [
      "[I 2023-12-01 01:25:43,656] Trial 26 finished with value: 0.032848402527294894 and parameters: {'n_estimators': 4890, 'learning_rate': 0.0007128230877851291, 'reg_alpha': 8.903642541153206e-05, 'reg_lambda': 0.00013590546984491243, 'max_depth': 5, 'max_leaves': 897, 'grow_policy': 'depthwise', 'booster': 'gbtree', 'gamma': 0.18479246981929648, 'min_child_weight': 0.7035561433510664, 'subsample': 0.7313889341047285, 'colsample_bytree': 0.16426933817252345}. Best is trial 24 with value: 0.033583102585589115.\n",
      "/opt/conda/lib/python3.10/site-packages/xgboost/core.py:160: UserWarning: [01:25:44] WARNING: /workspace/src/learner.cc:742: \n",
      "Parameters: { \"three_method\" } are not used.\n",
      "\n",
      "  warnings.warn(smsg, UserWarning)\n"
     ]
    },
    {
     "name": "stdout",
     "output_type": "stream",
     "text": [
      "EvaluatorHoldout: Processed 10456 (100.0%) in 1.63 min. Users per second: 107\n"
     ]
    },
    {
     "name": "stderr",
     "output_type": "stream",
     "text": [
      "[I 2023-12-01 01:29:45,114] Trial 27 finished with value: 0.033444361709233546 and parameters: {'n_estimators': 2554, 'learning_rate': 0.00556760140774394, 'reg_alpha': 0.000409247340959967, 'reg_lambda': 0.0018358265150222842, 'max_depth': 8, 'max_leaves': 697, 'grow_policy': 'lossguide', 'booster': 'gbtree', 'gamma': 0.6134816802055005, 'min_child_weight': 0.022881974878211912, 'subsample': 0.8422943751882911, 'colsample_bytree': 0.18016151464357014}. Best is trial 24 with value: 0.033583102585589115.\n",
      "/opt/conda/lib/python3.10/site-packages/xgboost/core.py:160: UserWarning: [01:29:45] WARNING: /workspace/src/learner.cc:742: \n",
      "Parameters: { \"three_method\" } are not used.\n",
      "\n",
      "  warnings.warn(smsg, UserWarning)\n"
     ]
    },
    {
     "name": "stdout",
     "output_type": "stream",
     "text": [
      "EvaluatorHoldout: Processed 10456 (100.0%) in 1.42 min. Users per second: 123\n"
     ]
    },
    {
     "name": "stderr",
     "output_type": "stream",
     "text": [
      "[I 2023-12-01 01:32:04,029] Trial 28 finished with value: 0.030333362176801243 and parameters: {'n_estimators': 729, 'learning_rate': 0.007555147915565075, 'reg_alpha': 1.4454485771629977e-05, 'reg_lambda': 0.0014024784422015492, 'max_depth': 10, 'max_leaves': 744, 'grow_policy': 'lossguide', 'booster': 'gbtree', 'gamma': 0.770117345362237, 'min_child_weight': 0.005822298362831168, 'subsample': 0.8134657789265386, 'colsample_bytree': 0.3159757081892424}. Best is trial 24 with value: 0.033583102585589115.\n",
      "/opt/conda/lib/python3.10/site-packages/xgboost/core.py:160: UserWarning: [01:32:04] WARNING: /workspace/src/learner.cc:742: \n",
      "Parameters: { \"three_method\" } are not used.\n",
      "\n",
      "  warnings.warn(smsg, UserWarning)\n"
     ]
    },
    {
     "name": "stdout",
     "output_type": "stream",
     "text": [
      "EvaluatorHoldout: Processed 10456 (100.0%) in 1.53 min. Users per second: 114\n"
     ]
    },
    {
     "name": "stderr",
     "output_type": "stream",
     "text": [
      "[I 2023-12-01 01:35:41,160] Trial 29 finished with value: 0.03348293605251325 and parameters: {'n_estimators': 2300, 'learning_rate': 0.0051943014102518665, 'reg_alpha': 0.0002820214008017571, 'reg_lambda': 0.000270716841364074, 'max_depth': 14, 'max_leaves': 325, 'grow_policy': 'depthwise', 'booster': 'gbtree', 'gamma': 1.573191389513083, 'min_child_weight': 0.021604432390458794, 'subsample': 0.6739403765195535, 'colsample_bytree': 0.10182308860927725}. Best is trial 24 with value: 0.033583102585589115.\n",
      "/opt/conda/lib/python3.10/site-packages/xgboost/core.py:160: UserWarning: [01:35:41] WARNING: /workspace/src/learner.cc:742: \n",
      "Parameters: { \"three_method\" } are not used.\n",
      "\n",
      "  warnings.warn(smsg, UserWarning)\n"
     ]
    },
    {
     "name": "stdout",
     "output_type": "stream",
     "text": [
      "EvaluatorHoldout: Processed 10456 (100.0%) in 1.31 min. Users per second: 134\n"
     ]
    },
    {
     "name": "stderr",
     "output_type": "stream",
     "text": [
      "[I 2023-12-01 01:38:55,046] Trial 30 finished with value: 0.033537135206033304 and parameters: {'n_estimators': 2273, 'learning_rate': 0.006641515083332379, 'reg_alpha': 0.00014622971231708262, 'reg_lambda': 0.000200387709617594, 'max_depth': 15, 'max_leaves': 315, 'grow_policy': 'depthwise', 'booster': 'gbtree', 'gamma': 2.324474294790418, 'min_child_weight': 0.018601782380302547, 'subsample': 0.8415178098836995, 'colsample_bytree': 0.1149634114266665}. Best is trial 24 with value: 0.033583102585589115.\n",
      "/opt/conda/lib/python3.10/site-packages/xgboost/core.py:160: UserWarning: [01:38:55] WARNING: /workspace/src/learner.cc:742: \n",
      "Parameters: { \"three_method\" } are not used.\n",
      "\n",
      "  warnings.warn(smsg, UserWarning)\n"
     ]
    },
    {
     "name": "stdout",
     "output_type": "stream",
     "text": [
      "EvaluatorHoldout: Processed 10456 (100.0%) in 1.33 min. Users per second: 131\n"
     ]
    },
    {
     "name": "stderr",
     "output_type": "stream",
     "text": [
      "[I 2023-12-01 01:42:15,045] Trial 31 finished with value: 0.03362646646263695 and parameters: {'n_estimators': 2326, 'learning_rate': 0.0047317186686458915, 'reg_alpha': 0.0001373141322361214, 'reg_lambda': 0.0002689122811843782, 'max_depth': 15, 'max_leaves': 336, 'grow_policy': 'depthwise', 'booster': 'gbtree', 'gamma': 2.2596836240361835, 'min_child_weight': 0.0224348297469932, 'subsample': 0.8353630488530472, 'colsample_bytree': 0.1082579402100845}. Best is trial 31 with value: 0.03362646646263695.\n",
      "/opt/conda/lib/python3.10/site-packages/xgboost/core.py:160: UserWarning: [01:42:15] WARNING: /workspace/src/learner.cc:742: \n",
      "Parameters: { \"three_method\" } are not used.\n",
      "\n",
      "  warnings.warn(smsg, UserWarning)\n"
     ]
    },
    {
     "name": "stdout",
     "output_type": "stream",
     "text": [
      "EvaluatorHoldout: Processed 10456 (100.0%) in 1.07 min. Users per second: 163\n"
     ]
    },
    {
     "name": "stderr",
     "output_type": "stream",
     "text": [
      "[I 2023-12-01 01:44:12,564] Trial 32 finished with value: 0.03366935214534664 and parameters: {'n_estimators': 1029, 'learning_rate': 0.008911452649383445, 'reg_alpha': 0.0001293140713080019, 'reg_lambda': 0.0002049732377026045, 'max_depth': 15, 'max_leaves': 329, 'grow_policy': 'depthwise', 'booster': 'gbtree', 'gamma': 2.9129398237990864, 'min_child_weight': 0.006079848796360472, 'subsample': 0.7534672870694434, 'colsample_bytree': 0.11213417818310252}. Best is trial 32 with value: 0.03366935214534664.\n",
      "/opt/conda/lib/python3.10/site-packages/xgboost/core.py:160: UserWarning: [01:44:13] WARNING: /workspace/src/learner.cc:742: \n",
      "Parameters: { \"three_method\" } are not used.\n",
      "\n",
      "  warnings.warn(smsg, UserWarning)\n"
     ]
    },
    {
     "name": "stdout",
     "output_type": "stream",
     "text": [
      "EvaluatorHoldout: Processed 10456 (100.0%) in 1.10 min. Users per second: 158\n"
     ]
    },
    {
     "name": "stderr",
     "output_type": "stream",
     "text": [
      "[I 2023-12-01 01:46:10,315] Trial 33 finished with value: 0.03374230714346416 and parameters: {'n_estimators': 997, 'learning_rate': 0.0098690032032352, 'reg_alpha': 0.00014679425288384915, 'reg_lambda': 0.0001745409339518198, 'max_depth': 17, 'max_leaves': 286, 'grow_policy': 'depthwise', 'booster': 'gbtree', 'gamma': 2.5177480297429446, 'min_child_weight': 0.0071534645554103965, 'subsample': 0.7627629507748093, 'colsample_bytree': 0.14704561758242768}. Best is trial 33 with value: 0.03374230714346416.\n",
      "/opt/conda/lib/python3.10/site-packages/xgboost/core.py:160: UserWarning: [01:46:10] WARNING: /workspace/src/learner.cc:742: \n",
      "Parameters: { \"three_method\" } are not used.\n",
      "\n",
      "  warnings.warn(smsg, UserWarning)\n"
     ]
    },
    {
     "name": "stdout",
     "output_type": "stream",
     "text": [
      "EvaluatorHoldout: Processed 10456 (100.0%) in 1.07 min. Users per second: 162\n"
     ]
    },
    {
     "name": "stderr",
     "output_type": "stream",
     "text": [
      "[I 2023-12-01 01:48:07,246] Trial 34 finished with value: 0.033738895264813204 and parameters: {'n_estimators': 997, 'learning_rate': 0.011873696566978774, 'reg_alpha': 0.0001256212417087758, 'reg_lambda': 7.554568857042087e-05, 'max_depth': 18, 'max_leaves': 257, 'grow_policy': 'depthwise', 'booster': 'gbtree', 'gamma': 2.8103194949249435, 'min_child_weight': 0.005791570235043532, 'subsample': 0.7671715949430037, 'colsample_bytree': 0.15118034598407967}. Best is trial 33 with value: 0.03374230714346416.\n",
      "/opt/conda/lib/python3.10/site-packages/xgboost/core.py:160: UserWarning: [01:48:07] WARNING: /workspace/src/learner.cc:742: \n",
      "Parameters: { \"colsample_bytree\", \"gamma\", \"grow_policy\", \"max_depth\", \"max_leaves\", \"min_child_weight\", \"subsample\", \"three_method\" } are not used.\n",
      "\n",
      "  warnings.warn(smsg, UserWarning)\n"
     ]
    },
    {
     "name": "stdout",
     "output_type": "stream",
     "text": [
      "EvaluatorHoldout: Processed 10456 (100.0%) in 57.99 sec. Users per second: 180\n"
     ]
    },
    {
     "name": "stderr",
     "output_type": "stream",
     "text": [
      "[I 2023-12-01 01:50:07,392] Trial 35 finished with value: 0.0336697544358217 and parameters: {'n_estimators': 985, 'learning_rate': 0.012906446451690983, 'reg_alpha': 6.862342163421455e-05, 'reg_lambda': 5.478043405221868e-05, 'max_depth': 19, 'max_leaves': 157, 'grow_policy': 'depthwise', 'booster': 'gblinear', 'gamma': 3.31583093357408, 'min_child_weight': 0.0013099992488226075, 'subsample': 0.7814515545185974, 'colsample_bytree': 0.1749198694982038}. Best is trial 33 with value: 0.03374230714346416.\n",
      "/opt/conda/lib/python3.10/site-packages/xgboost/core.py:160: UserWarning: [01:50:07] WARNING: /workspace/src/learner.cc:742: \n",
      "Parameters: { \"colsample_bytree\", \"gamma\", \"grow_policy\", \"max_depth\", \"max_leaves\", \"min_child_weight\", \"subsample\", \"three_method\" } are not used.\n",
      "\n",
      "  warnings.warn(smsg, UserWarning)\n"
     ]
    },
    {
     "name": "stdout",
     "output_type": "stream",
     "text": [
      "EvaluatorHoldout: Processed 10456 (100.0%) in 55.79 sec. Users per second: 187\n"
     ]
    },
    {
     "name": "stderr",
     "output_type": "stream",
     "text": [
      "[I 2023-12-01 01:52:04,983] Trial 36 finished with value: 0.033651651364447775 and parameters: {'n_estimators': 953, 'learning_rate': 0.01279715744203446, 'reg_alpha': 3.105067361341821e-05, 'reg_lambda': 5.3702453102941636e-05, 'max_depth': 18, 'max_leaves': 140, 'grow_policy': 'depthwise', 'booster': 'gblinear', 'gamma': 3.9379215619836767, 'min_child_weight': 0.0012438264123506048, 'subsample': 0.7490391239106278, 'colsample_bytree': 0.15047140316069377}. Best is trial 33 with value: 0.03374230714346416.\n",
      "/opt/conda/lib/python3.10/site-packages/xgboost/core.py:160: UserWarning: [01:52:05] WARNING: /workspace/src/learner.cc:742: \n",
      "Parameters: { \"colsample_bytree\", \"gamma\", \"grow_policy\", \"max_depth\", \"max_leaves\", \"min_child_weight\", \"subsample\", \"three_method\" } are not used.\n",
      "\n",
      "  warnings.warn(smsg, UserWarning)\n"
     ]
    },
    {
     "name": "stdout",
     "output_type": "stream",
     "text": [
      "EvaluatorHoldout: Processed 10456 (100.0%) in 55.04 sec. Users per second: 190\n"
     ]
    },
    {
     "name": "stderr",
     "output_type": "stream",
     "text": [
      "[I 2023-12-01 01:53:35,529] Trial 37 finished with value: 0.03339384389307872 and parameters: {'n_estimators': 567, 'learning_rate': 0.01735569961065771, 'reg_alpha': 4.555444666407138e-05, 'reg_lambda': 4.9051623725653965e-05, 'max_depth': 18, 'max_leaves': 262, 'grow_policy': 'depthwise', 'booster': 'gblinear', 'gamma': 3.4136809935265484, 'min_child_weight': 0.008697101088621586, 'subsample': 0.7686723858778188, 'colsample_bytree': 0.1610517817631914}. Best is trial 33 with value: 0.03374230714346416.\n",
      "/opt/conda/lib/python3.10/site-packages/xgboost/core.py:160: UserWarning: [01:53:35] WARNING: /workspace/src/learner.cc:742: \n",
      "Parameters: { \"colsample_bytree\", \"gamma\", \"grow_policy\", \"max_depth\", \"max_leaves\", \"min_child_weight\", \"subsample\", \"three_method\" } are not used.\n",
      "\n",
      "  warnings.warn(smsg, UserWarning)\n"
     ]
    },
    {
     "name": "stdout",
     "output_type": "stream",
     "text": [
      "EvaluatorHoldout: Processed 10456 (100.0%) in 56.38 sec. Users per second: 185\n"
     ]
    },
    {
     "name": "stderr",
     "output_type": "stream",
     "text": [
      "[I 2023-12-01 01:55:37,088] Trial 38 finished with value: 0.033904354301016425 and parameters: {'n_estimators': 1020, 'learning_rate': 0.023778904603228374, 'reg_alpha': 1.3596246688060194e-05, 'reg_lambda': 3.8626128277461426e-05, 'max_depth': 18, 'max_leaves': 152, 'grow_policy': 'depthwise', 'booster': 'gblinear', 'gamma': 9.879734173763612, 'min_child_weight': 0.004903904015126869, 'subsample': 0.7682805670559892, 'colsample_bytree': 0.22547215754761313}. Best is trial 38 with value: 0.033904354301016425.\n",
      "/opt/conda/lib/python3.10/site-packages/xgboost/core.py:160: UserWarning: [01:55:37] WARNING: /workspace/src/learner.cc:742: \n",
      "Parameters: { \"colsample_bytree\", \"gamma\", \"grow_policy\", \"max_depth\", \"max_leaves\", \"min_child_weight\", \"subsample\", \"three_method\" } are not used.\n",
      "\n",
      "  warnings.warn(smsg, UserWarning)\n"
     ]
    },
    {
     "name": "stdout",
     "output_type": "stream",
     "text": [
      "EvaluatorHoldout: Processed 10456 (100.0%) in 55.80 sec. Users per second: 187\n"
     ]
    },
    {
     "name": "stderr",
     "output_type": "stream",
     "text": [
      "[I 2023-12-01 01:57:06,773] Trial 39 finished with value: 0.03364460748594256 and parameters: {'n_estimators': 527, 'learning_rate': 0.02494084506459482, 'reg_alpha': 1.0765403514300901e-05, 'reg_lambda': 1.0616012076560653e-05, 'max_depth': 20, 'max_leaves': 144, 'grow_policy': 'depthwise', 'booster': 'gblinear', 'gamma': 8.214952877716424, 'min_child_weight': 0.0002823207430826724, 'subsample': 0.6699431483476408, 'colsample_bytree': 0.22284686307194057}. Best is trial 38 with value: 0.033904354301016425.\n",
      "/opt/conda/lib/python3.10/site-packages/xgboost/core.py:160: UserWarning: [01:57:07] WARNING: /workspace/src/learner.cc:742: \n",
      "Parameters: { \"colsample_bytree\", \"gamma\", \"grow_policy\", \"max_depth\", \"max_leaves\", \"min_child_weight\", \"subsample\", \"three_method\" } are not used.\n",
      "\n",
      "  warnings.warn(smsg, UserWarning)\n"
     ]
    },
    {
     "name": "stdout",
     "output_type": "stream",
     "text": [
      "EvaluatorHoldout: Processed 10456 (100.0%) in 55.74 sec. Users per second: 188\n"
     ]
    },
    {
     "name": "stderr",
     "output_type": "stream",
     "text": [
      "[I 2023-12-01 01:58:19,093] Trial 40 finished with value: 0.033810081702918215 and parameters: {'n_estimators': 294, 'learning_rate': 0.048902225004869564, 'reg_alpha': 2.0390404685428586e-05, 'reg_lambda': 5.082714892873275e-05, 'max_depth': 18, 'max_leaves': 22, 'grow_policy': 'depthwise', 'booster': 'gblinear', 'gamma': 1.3632771235428216, 'min_child_weight': 0.001978665021350645, 'subsample': 0.7127325625122831, 'colsample_bytree': 0.32649220658901806}. Best is trial 38 with value: 0.033904354301016425.\n",
      "/opt/conda/lib/python3.10/site-packages/xgboost/core.py:160: UserWarning: [01:58:19] WARNING: /workspace/src/learner.cc:742: \n",
      "Parameters: { \"colsample_bytree\", \"gamma\", \"grow_policy\", \"max_depth\", \"max_leaves\", \"min_child_weight\", \"subsample\", \"three_method\" } are not used.\n",
      "\n",
      "  warnings.warn(smsg, UserWarning)\n"
     ]
    },
    {
     "name": "stdout",
     "output_type": "stream",
     "text": [
      "EvaluatorHoldout: Processed 10456 (100.0%) in 56.18 sec. Users per second: 186\n"
     ]
    },
    {
     "name": "stderr",
     "output_type": "stream",
     "text": [
      "[I 2023-12-01 01:59:38,588] Trial 41 finished with value: 0.03384053812802845 and parameters: {'n_estimators': 364, 'learning_rate': 0.03915474874018222, 'reg_alpha': 2.6492005497855416e-05, 'reg_lambda': 5.5910864094025064e-05, 'max_depth': 17, 'max_leaves': 21, 'grow_policy': 'depthwise', 'booster': 'gblinear', 'gamma': 9.71416079793443, 'min_child_weight': 0.0020393104146977084, 'subsample': 0.7865978017870529, 'colsample_bytree': 0.23142009836903193}. Best is trial 38 with value: 0.033904354301016425.\n",
      "/opt/conda/lib/python3.10/site-packages/xgboost/core.py:160: UserWarning: [01:59:38] WARNING: /workspace/src/learner.cc:742: \n",
      "Parameters: { \"colsample_bytree\", \"gamma\", \"grow_policy\", \"max_depth\", \"max_leaves\", \"min_child_weight\", \"subsample\", \"three_method\" } are not used.\n",
      "\n",
      "  warnings.warn(smsg, UserWarning)\n"
     ]
    },
    {
     "name": "stdout",
     "output_type": "stream",
     "text": [
      "EvaluatorHoldout: Processed 10456 (100.0%) in 56.37 sec. Users per second: 185\n"
     ]
    },
    {
     "name": "stderr",
     "output_type": "stream",
     "text": [
      "[I 2023-12-01 02:00:55,768] Trial 42 finished with value: 0.033726120644636225 and parameters: {'n_estimators': 329, 'learning_rate': 0.04824825770913174, 'reg_alpha': 1.798830352311196e-05, 'reg_lambda': 2.827473332538593e-05, 'max_depth': 17, 'max_leaves': 18, 'grow_policy': 'depthwise', 'booster': 'gblinear', 'gamma': 1.4420263048194322, 'min_child_weight': 0.0029390055959477353, 'subsample': 0.7175802093966982, 'colsample_bytree': 0.3306655916693186}. Best is trial 38 with value: 0.033904354301016425.\n",
      "/opt/conda/lib/python3.10/site-packages/xgboost/core.py:160: UserWarning: [02:00:56] WARNING: /workspace/src/learner.cc:742: \n",
      "Parameters: { \"colsample_bytree\", \"gamma\", \"grow_policy\", \"max_depth\", \"max_leaves\", \"min_child_weight\", \"subsample\", \"three_method\" } are not used.\n",
      "\n",
      "  warnings.warn(smsg, UserWarning)\n"
     ]
    },
    {
     "name": "stdout",
     "output_type": "stream",
     "text": [
      "EvaluatorHoldout: Processed 10456 (100.0%) in 56.35 sec. Users per second: 186\n"
     ]
    },
    {
     "name": "stderr",
     "output_type": "stream",
     "text": [
      "[I 2023-12-01 02:02:01,100] Trial 43 finished with value: 0.03340039819166629 and parameters: {'n_estimators': 157, 'learning_rate': 0.04692552026399692, 'reg_alpha': 2.4304384327930513e-05, 'reg_lambda': 8.489231326331184e-05, 'max_depth': 17, 'max_leaves': 78, 'grow_policy': 'depthwise', 'booster': 'gblinear', 'gamma': 8.26638963892572, 'min_child_weight': 0.0007121924766198861, 'subsample': 0.7774904499336396, 'colsample_bytree': 0.2768421852770976}. Best is trial 38 with value: 0.033904354301016425.\n",
      "/opt/conda/lib/python3.10/site-packages/xgboost/core.py:160: UserWarning: [02:02:01] WARNING: /workspace/src/learner.cc:742: \n",
      "Parameters: { \"colsample_bytree\", \"gamma\", \"grow_policy\", \"max_depth\", \"max_leaves\", \"min_child_weight\", \"subsample\", \"three_method\" } are not used.\n",
      "\n",
      "  warnings.warn(smsg, UserWarning)\n"
     ]
    },
    {
     "name": "stdout",
     "output_type": "stream",
     "text": [
      "EvaluatorHoldout: Processed 10456 (100.0%) in 54.92 sec. Users per second: 190\n"
     ]
    },
    {
     "name": "stderr",
     "output_type": "stream",
     "text": [
      "[I 2023-12-01 02:03:39,372] Trial 44 finished with value: 0.03383446202377908 and parameters: {'n_estimators': 677, 'learning_rate': 0.025526520750387485, 'reg_alpha': 1.0474752923651818e-05, 'reg_lambda': 2.973777881260952e-05, 'max_depth': 19, 'max_leaves': 84, 'grow_policy': 'depthwise', 'booster': 'gblinear', 'gamma': 0.30779375253359303, 'min_child_weight': 0.007145330907718787, 'subsample': 0.6903383690118124, 'colsample_bytree': 0.23488805513897754}. Best is trial 38 with value: 0.033904354301016425.\n",
      "/opt/conda/lib/python3.10/site-packages/xgboost/core.py:160: UserWarning: [02:03:39] WARNING: /workspace/src/learner.cc:742: \n",
      "Parameters: { \"colsample_bytree\", \"gamma\", \"grow_policy\", \"max_depth\", \"max_leaves\", \"min_child_weight\", \"subsample\", \"three_method\" } are not used.\n",
      "\n",
      "  warnings.warn(smsg, UserWarning)\n"
     ]
    },
    {
     "name": "stdout",
     "output_type": "stream",
     "text": [
      "EvaluatorHoldout: Processed 10456 (100.0%) in 56.71 sec. Users per second: 184\n"
     ]
    },
    {
     "name": "stderr",
     "output_type": "stream",
     "text": [
      "[I 2023-12-01 02:04:59,242] Trial 45 finished with value: 0.03364054662926117 and parameters: {'n_estimators': 402, 'learning_rate': 0.026939420327428503, 'reg_alpha': 2.796135800433117e-05, 'reg_lambda': 3.102697564437046e-05, 'max_depth': 19, 'max_leaves': 84, 'grow_policy': 'depthwise', 'booster': 'gblinear', 'gamma': 0.33717378368474976, 'min_child_weight': 0.0025290611212909733, 'subsample': 0.6948855228640015, 'colsample_bytree': 0.377485169307003}. Best is trial 38 with value: 0.033904354301016425.\n",
      "/opt/conda/lib/python3.10/site-packages/xgboost/core.py:160: UserWarning: [02:04:59] WARNING: /workspace/src/learner.cc:742: \n",
      "Parameters: { \"colsample_bytree\", \"gamma\", \"grow_policy\", \"max_depth\", \"max_leaves\", \"min_child_weight\", \"subsample\", \"three_method\" } are not used.\n",
      "\n",
      "  warnings.warn(smsg, UserWarning)\n"
     ]
    },
    {
     "name": "stdout",
     "output_type": "stream",
     "text": [
      "EvaluatorHoldout: Processed 10456 (100.0%) in 56.92 sec. Users per second: 184\n"
     ]
    },
    {
     "name": "stderr",
     "output_type": "stream",
     "text": [
      "[I 2023-12-01 02:06:36,994] Trial 46 finished with value: 0.03375474019625689 and parameters: {'n_estimators': 728, 'learning_rate': 0.06614017193716762, 'reg_alpha': 1.0831317350911178e-05, 'reg_lambda': 1.4505480496301919e-05, 'max_depth': 13, 'max_leaves': 14, 'grow_policy': 'depthwise', 'booster': 'gblinear', 'gamma': 1.211489523186331, 'min_child_weight': 0.00953136897938704, 'subsample': 0.6394813300527536, 'colsample_bytree': 0.24332080418525}. Best is trial 38 with value: 0.033904354301016425.\n",
      "/opt/conda/lib/python3.10/site-packages/xgboost/core.py:160: UserWarning: [02:06:37] WARNING: /workspace/src/learner.cc:742: \n",
      "Parameters: { \"colsample_bytree\", \"gamma\", \"grow_policy\", \"max_depth\", \"max_leaves\", \"min_child_weight\", \"subsample\", \"three_method\" } are not used.\n",
      "\n",
      "  warnings.warn(smsg, UserWarning)\n"
     ]
    },
    {
     "name": "stdout",
     "output_type": "stream",
     "text": [
      "EvaluatorHoldout: Processed 10456 (100.0%) in 59.45 sec. Users per second: 176\n"
     ]
    },
    {
     "name": "stderr",
     "output_type": "stream",
     "text": [
      "[I 2023-12-01 02:08:18,074] Trial 47 finished with value: 0.033789458623285966 and parameters: {'n_estimators': 636, 'learning_rate': 0.07726300875879305, 'reg_alpha': 1.0138482858134697e-05, 'reg_lambda': 1.501910582270832e-05, 'max_depth': 13, 'max_leaves': 10, 'grow_policy': 'depthwise', 'booster': 'gblinear', 'gamma': 1.1946233189924138, 'min_child_weight': 0.0002642957518693499, 'subsample': 0.6406407020689899, 'colsample_bytree': 0.3127931403216214}. Best is trial 38 with value: 0.033904354301016425.\n",
      "/opt/conda/lib/python3.10/site-packages/xgboost/core.py:160: UserWarning: [02:08:18] WARNING: /workspace/src/learner.cc:742: \n",
      "Parameters: { \"colsample_bytree\", \"gamma\", \"grow_policy\", \"max_depth\", \"max_leaves\", \"min_child_weight\", \"subsample\", \"three_method\" } are not used.\n",
      "\n",
      "  warnings.warn(smsg, UserWarning)\n"
     ]
    },
    {
     "name": "stdout",
     "output_type": "stream",
     "text": [
      "EvaluatorHoldout: Processed 10456 (100.0%) in 58.02 sec. Users per second: 180\n"
     ]
    },
    {
     "name": "stderr",
     "output_type": "stream",
     "text": [
      "[I 2023-12-01 02:09:34,138] Trial 48 finished with value: 0.03387754505653305 and parameters: {'n_estimators': 268, 'learning_rate': 0.19251211320266404, 'reg_alpha': 1.5838734630198856e-05, 'reg_lambda': 2.1539796209197818e-05, 'max_depth': 16, 'max_leaves': 194, 'grow_policy': 'depthwise', 'booster': 'gblinear', 'gamma': 9.406516190916323, 'min_child_weight': 0.00017803682441599894, 'subsample': 0.5767578789390818, 'colsample_bytree': 0.39168188363807666}. Best is trial 38 with value: 0.033904354301016425.\n",
      "/opt/conda/lib/python3.10/site-packages/xgboost/core.py:160: UserWarning: [02:09:34] WARNING: /workspace/src/learner.cc:742: \n",
      "Parameters: { \"colsample_bytree\", \"gamma\", \"grow_policy\", \"max_depth\", \"max_leaves\", \"min_child_weight\", \"subsample\", \"three_method\" } are not used.\n",
      "\n",
      "  warnings.warn(smsg, UserWarning)\n"
     ]
    },
    {
     "name": "stdout",
     "output_type": "stream",
     "text": [
      "EvaluatorHoldout: Processed 10456 (100.0%) in 59.70 sec. Users per second: 175\n"
     ]
    },
    {
     "name": "stderr",
     "output_type": "stream",
     "text": [
      "[I 2023-12-01 02:10:48,668] Trial 49 finished with value: 0.03368920480076741 and parameters: {'n_estimators': 211, 'learning_rate': 0.11622808087534824, 'reg_alpha': 4.4886483719247136e-05, 'reg_lambda': 2.7395897990837107e-05, 'max_depth': 16, 'max_leaves': 203, 'grow_policy': 'depthwise', 'booster': 'gblinear', 'gamma': 8.976649380054832, 'min_child_weight': 6.21587975499637e-05, 'subsample': 0.6060213561084585, 'colsample_bytree': 0.4009202373652673}. Best is trial 38 with value: 0.033904354301016425.\n",
      "/opt/conda/lib/python3.10/site-packages/xgboost/core.py:160: UserWarning: [02:10:49] WARNING: /workspace/src/learner.cc:742: \n",
      "Parameters: { \"colsample_bytree\", \"gamma\", \"grow_policy\", \"max_depth\", \"max_leaves\", \"min_child_weight\", \"subsample\", \"three_method\" } are not used.\n",
      "\n",
      "  warnings.warn(smsg, UserWarning)\n"
     ]
    },
    {
     "name": "stdout",
     "output_type": "stream",
     "text": [
      "EvaluatorHoldout: Processed 10456 (100.0%) in 57.64 sec. Users per second: 181\n"
     ]
    },
    {
     "name": "stderr",
     "output_type": "stream",
     "text": [
      "[I 2023-12-01 02:12:04,087] Trial 50 finished with value: 0.03389426288240354 and parameters: {'n_estimators': 292, 'learning_rate': 0.12738557594030686, 'reg_alpha': 1.717749188599114e-05, 'reg_lambda': 2.0516582205078044e-05, 'max_depth': 19, 'max_leaves': 102, 'grow_policy': 'depthwise', 'booster': 'gblinear', 'gamma': 0.3696960571268043, 'min_child_weight': 0.00045235966240287495, 'subsample': 0.5697775796894256, 'colsample_bytree': 0.43761293981173366}. Best is trial 38 with value: 0.033904354301016425.\n",
      "/opt/conda/lib/python3.10/site-packages/xgboost/core.py:160: UserWarning: [02:12:04] WARNING: /workspace/src/learner.cc:742: \n",
      "Parameters: { \"colsample_bytree\", \"gamma\", \"grow_policy\", \"max_depth\", \"max_leaves\", \"min_child_weight\", \"subsample\", \"three_method\" } are not used.\n",
      "\n",
      "  warnings.warn(smsg, UserWarning)\n"
     ]
    },
    {
     "name": "stdout",
     "output_type": "stream",
     "text": [
      "EvaluatorHoldout: Processed 10456 (100.0%) in 57.58 sec. Users per second: 182\n"
     ]
    },
    {
     "name": "stderr",
     "output_type": "stream",
     "text": [
      "[I 2023-12-01 02:13:21,763] Trial 51 finished with value: 0.03381661323034683 and parameters: {'n_estimators': 298, 'learning_rate': 0.1461641921231003, 'reg_alpha': 1.8938021863114737e-05, 'reg_lambda': 2.147168435830745e-05, 'max_depth': 19, 'max_leaves': 100, 'grow_policy': 'depthwise', 'booster': 'gblinear', 'gamma': 0.3040668035033799, 'min_child_weight': 0.0007456162845556942, 'subsample': 0.5596962026849243, 'colsample_bytree': 0.43351159386159227}. Best is trial 38 with value: 0.033904354301016425.\n",
      "/opt/conda/lib/python3.10/site-packages/xgboost/core.py:160: UserWarning: [02:13:22] WARNING: /workspace/src/learner.cc:742: \n",
      "Parameters: { \"colsample_bytree\", \"gamma\", \"grow_policy\", \"max_depth\", \"max_leaves\", \"min_child_weight\", \"subsample\", \"three_method\" } are not used.\n",
      "\n",
      "  warnings.warn(smsg, UserWarning)\n"
     ]
    },
    {
     "name": "stdout",
     "output_type": "stream",
     "text": [
      "EvaluatorHoldout: Processed 10456 (100.0%) in 56.62 sec. Users per second: 185\n"
     ]
    },
    {
     "name": "stderr",
     "output_type": "stream",
     "text": [
      "[I 2023-12-01 02:14:43,033] Trial 52 finished with value: 0.03377141247980937 and parameters: {'n_estimators': 388, 'learning_rate': 0.15236762292110229, 'reg_alpha': 1.669196531775633e-05, 'reg_lambda': 1.0235300250363547e-05, 'max_depth': 20, 'max_leaves': 100, 'grow_policy': 'depthwise', 'booster': 'gblinear', 'gamma': 0.22416863327139805, 'min_child_weight': 0.0004914233833091219, 'subsample': 0.5570049790399121, 'colsample_bytree': 0.4504712697038958}. Best is trial 38 with value: 0.033904354301016425.\n",
      "/opt/conda/lib/python3.10/site-packages/xgboost/core.py:160: UserWarning: [02:14:43] WARNING: /workspace/src/learner.cc:742: \n",
      "Parameters: { \"colsample_bytree\", \"gamma\", \"grow_policy\", \"max_depth\", \"max_leaves\", \"min_child_weight\", \"subsample\", \"three_method\" } are not used.\n",
      "\n",
      "  warnings.warn(smsg, UserWarning)\n"
     ]
    },
    {
     "name": "stdout",
     "output_type": "stream",
     "text": [
      "EvaluatorHoldout: Processed 10456 (100.0%) in 57.01 sec. Users per second: 183\n"
     ]
    },
    {
     "name": "stderr",
     "output_type": "stream",
     "text": [
      "[I 2023-12-01 02:15:51,553] Trial 53 finished with value: 0.03380837766118932 and parameters: {'n_estimators': 206, 'learning_rate': 0.43471055959919447, 'reg_alpha': 3.55637053831698e-05, 'reg_lambda': 2.140333677167447e-05, 'max_depth': 19, 'max_leaves': 180, 'grow_policy': 'depthwise', 'booster': 'gblinear', 'gamma': 0.07864874531019103, 'min_child_weight': 0.0001416672182908371, 'subsample': 0.5790008714496337, 'colsample_bytree': 0.4308959688086533}. Best is trial 38 with value: 0.033904354301016425.\n",
      "/opt/conda/lib/python3.10/site-packages/xgboost/core.py:160: UserWarning: [02:15:51] WARNING: /workspace/src/learner.cc:742: \n",
      "Parameters: { \"colsample_bytree\", \"gamma\", \"grow_policy\", \"max_depth\", \"max_leaves\", \"min_child_weight\", \"subsample\", \"three_method\" } are not used.\n",
      "\n",
      "  warnings.warn(smsg, UserWarning)\n"
     ]
    },
    {
     "name": "stdout",
     "output_type": "stream",
     "text": [
      "EvaluatorHoldout: Processed 10456 (100.0%) in 55.87 sec. Users per second: 187\n"
     ]
    },
    {
     "name": "stderr",
     "output_type": "stream",
     "text": [
      "[I 2023-12-01 02:16:56,912] Trial 54 finished with value: 0.033954894888330145 and parameters: {'n_estimators': 149, 'learning_rate': 0.17542204744974896, 'reg_alpha': 2.6016339837876325e-05, 'reg_lambda': 2.904328139436011e-05, 'max_depth': 16, 'max_leaves': 55, 'grow_policy': 'depthwise', 'booster': 'gblinear', 'gamma': 4.817490843214988, 'min_child_weight': 0.0010177064880912143, 'subsample': 0.5267424786138228, 'colsample_bytree': 0.5268127533786527}. Best is trial 54 with value: 0.033954894888330145.\n",
      "/opt/conda/lib/python3.10/site-packages/xgboost/core.py:160: UserWarning: [02:16:57] WARNING: /workspace/src/learner.cc:742: \n",
      "Parameters: { \"colsample_bytree\", \"gamma\", \"grow_policy\", \"max_depth\", \"max_leaves\", \"min_child_weight\", \"subsample\", \"three_method\" } are not used.\n",
      "\n",
      "  warnings.warn(smsg, UserWarning)\n"
     ]
    },
    {
     "name": "stdout",
     "output_type": "stream",
     "text": [
      "EvaluatorHoldout: Processed 10456 (100.0%) in 55.99 sec. Users per second: 187\n"
     ]
    },
    {
     "name": "stderr",
     "output_type": "stream",
     "text": [
      "[I 2023-12-01 02:18:03,081] Trial 55 finished with value: 0.03370004387243283 and parameters: {'n_estimators': 149, 'learning_rate': 0.2342893675150681, 'reg_alpha': 5.9122505120305115e-05, 'reg_lambda': 3.750210955206494e-05, 'max_depth': 16, 'max_leaves': 54, 'grow_policy': 'depthwise', 'booster': 'gblinear', 'gamma': 5.0715690559235025, 'min_child_weight': 0.0016616155837867654, 'subsample': 0.5154521463655275, 'colsample_bytree': 0.5590123570737399}. Best is trial 54 with value: 0.033954894888330145.\n",
      "/opt/conda/lib/python3.10/site-packages/xgboost/core.py:160: UserWarning: [02:18:03] WARNING: /workspace/src/learner.cc:742: \n",
      "Parameters: { \"colsample_bytree\", \"gamma\", \"grow_policy\", \"max_depth\", \"max_leaves\", \"min_child_weight\", \"subsample\", \"three_method\" } are not used.\n",
      "\n",
      "  warnings.warn(smsg, UserWarning)\n"
     ]
    },
    {
     "name": "stdout",
     "output_type": "stream",
     "text": [
      "EvaluatorHoldout: Processed 10456 (100.0%) in 57.76 sec. Users per second: 181\n"
     ]
    },
    {
     "name": "stderr",
     "output_type": "stream",
     "text": [
      "[I 2023-12-01 02:19:32,983] Trial 56 finished with value: 0.033244620693214745 and parameters: {'n_estimators': 495, 'learning_rate': 0.019852590347206954, 'reg_alpha': 2.9402304417764773e-05, 'reg_lambda': 8.004337520868092e-05, 'max_depth': 17, 'max_leaves': 217, 'grow_policy': 'depthwise', 'booster': 'gblinear', 'gamma': 5.704239963837205, 'min_child_weight': 0.0035281203259368344, 'subsample': 0.5094038665925466, 'colsample_bytree': 0.5033141114952121}. Best is trial 54 with value: 0.033954894888330145.\n",
      "/opt/conda/lib/python3.10/site-packages/xgboost/core.py:160: UserWarning: [02:19:33] WARNING: /workspace/src/learner.cc:742: \n",
      "Parameters: { \"colsample_bytree\", \"gamma\", \"grow_policy\", \"max_depth\", \"max_leaves\", \"min_child_weight\", \"subsample\", \"three_method\" } are not used.\n",
      "\n",
      "  warnings.warn(smsg, UserWarning)\n"
     ]
    },
    {
     "name": "stdout",
     "output_type": "stream",
     "text": [
      "EvaluatorHoldout: Processed 10456 (100.0%) in 58.37 sec. Users per second: 179\n"
     ]
    },
    {
     "name": "stderr",
     "output_type": "stream",
     "text": [
      "[I 2023-12-01 02:20:38,194] Trial 57 finished with value: 0.033108126571209984 and parameters: {'n_estimators': 103, 'learning_rate': 0.03409592311608691, 'reg_alpha': 1.483314163138176e-05, 'reg_lambda': 1.711884022816085e-05, 'max_depth': 14, 'max_leaves': 119, 'grow_policy': 'depthwise', 'booster': 'gblinear', 'gamma': 9.753454101886057, 'min_child_weight': 0.000488684056257825, 'subsample': 0.4570525768518122, 'colsample_bytree': 0.36028156221513086}. Best is trial 54 with value: 0.033954894888330145.\n",
      "/opt/conda/lib/python3.10/site-packages/xgboost/core.py:160: UserWarning: [02:20:38] WARNING: /workspace/src/learner.cc:742: \n",
      "Parameters: { \"colsample_bytree\", \"gamma\", \"grow_policy\", \"max_depth\", \"max_leaves\", \"min_child_weight\", \"subsample\", \"three_method\" } are not used.\n",
      "\n",
      "  warnings.warn(smsg, UserWarning)\n"
     ]
    },
    {
     "name": "stdout",
     "output_type": "stream",
     "text": [
      "EvaluatorHoldout: Processed 10456 (100.0%) in 56.96 sec. Users per second: 184\n"
     ]
    },
    {
     "name": "stderr",
     "output_type": "stream",
     "text": [
      "[I 2023-12-01 02:22:02,751] Trial 58 finished with value: 0.03370257906146382 and parameters: {'n_estimators': 435, 'learning_rate': 0.06334125261154874, 'reg_alpha': 4.5865428900401904e-05, 'reg_lambda': 3.4660858383408946e-05, 'max_depth': 16, 'max_leaves': 53, 'grow_policy': 'depthwise', 'booster': 'gblinear', 'gamma': 0.9247718565099334, 'min_child_weight': 0.0012680133014226509, 'subsample': 0.6548940984211353, 'colsample_bytree': 0.3874674696397393}. Best is trial 54 with value: 0.033954894888330145.\n",
      "/opt/conda/lib/python3.10/site-packages/xgboost/core.py:160: UserWarning: [02:22:03] WARNING: /workspace/src/learner.cc:742: \n",
      "Parameters: { \"colsample_bytree\", \"gamma\", \"grow_policy\", \"max_depth\", \"max_leaves\", \"min_child_weight\", \"subsample\", \"three_method\" } are not used.\n",
      "\n",
      "  warnings.warn(smsg, UserWarning)\n"
     ]
    },
    {
     "name": "stdout",
     "output_type": "stream",
     "text": [
      "EvaluatorHoldout: Processed 10456 (100.0%) in 56.74 sec. Users per second: 184\n"
     ]
    },
    {
     "name": "stderr",
     "output_type": "stream",
     "text": [
      "[I 2023-12-01 02:23:14,563] Trial 59 finished with value: 0.03353033421989044 and parameters: {'n_estimators': 272, 'learning_rate': 0.10653693879694154, 'reg_alpha': 2.4991788903061436e-05, 'reg_lambda': 0.00010154113651792538, 'max_depth': 18, 'max_leaves': 384, 'grow_policy': 'depthwise', 'booster': 'gblinear', 'gamma': 4.224601830264415, 'min_child_weight': 2.480439671357955e-05, 'subsample': 0.617837576769171, 'colsample_bytree': 0.2848622739368748}. Best is trial 54 with value: 0.033954894888330145.\n",
      "/opt/conda/lib/python3.10/site-packages/xgboost/core.py:160: UserWarning: [02:23:14] WARNING: /workspace/src/learner.cc:742: \n",
      "Parameters: { \"colsample_bytree\", \"gamma\", \"grow_policy\", \"max_depth\", \"max_leaves\", \"min_child_weight\", \"subsample\", \"three_method\" } are not used.\n",
      "\n",
      "  warnings.warn(smsg, UserWarning)\n"
     ]
    },
    {
     "name": "stdout",
     "output_type": "stream",
     "text": [
      "EvaluatorHoldout: Processed 10456 (100.0%) in 56.21 sec. Users per second: 186\n"
     ]
    },
    {
     "name": "stderr",
     "output_type": "stream",
     "text": [
      "[I 2023-12-01 02:25:01,185] Trial 60 finished with value: 0.033645829538140055 and parameters: {'n_estimators': 762, 'learning_rate': 0.039081806072576275, 'reg_alpha': 6.88552083943428e-05, 'reg_lambda': 2.3179014489028104e-05, 'max_depth': 20, 'max_leaves': 167, 'grow_policy': 'depthwise', 'booster': 'gblinear', 'gamma': 0.6522263706629443, 'min_child_weight': 0.003831586820930335, 'subsample': 0.5839836192926248, 'colsample_bytree': 0.26613713106600867}. Best is trial 54 with value: 0.033954894888330145.\n",
      "/opt/conda/lib/python3.10/site-packages/xgboost/core.py:160: UserWarning: [02:25:01] WARNING: /workspace/src/learner.cc:742: \n",
      "Parameters: { \"colsample_bytree\", \"gamma\", \"grow_policy\", \"max_depth\", \"max_leaves\", \"min_child_weight\", \"subsample\", \"three_method\" } are not used.\n",
      "\n",
      "  warnings.warn(smsg, UserWarning)\n"
     ]
    },
    {
     "name": "stdout",
     "output_type": "stream",
     "text": [
      "EvaluatorHoldout: Processed 10456 (100.0%) in 56.78 sec. Users per second: 184\n"
     ]
    },
    {
     "name": "stderr",
     "output_type": "stream",
     "text": [
      "[I 2023-12-01 02:26:18,209] Trial 61 finished with value: 0.033843012593968824 and parameters: {'n_estimators': 311, 'learning_rate': 0.16995971700849774, 'reg_alpha': 1.7134302616547217e-05, 'reg_lambda': 1.7702879586249977e-05, 'max_depth': 19, 'max_leaves': 109, 'grow_policy': 'depthwise', 'booster': 'gblinear', 'gamma': 0.13175429008686895, 'min_child_weight': 0.0007730356175276202, 'subsample': 0.539372952819422, 'colsample_bytree': 0.4560181492835153}. Best is trial 54 with value: 0.033954894888330145.\n",
      "/opt/conda/lib/python3.10/site-packages/xgboost/core.py:160: UserWarning: [02:26:18] WARNING: /workspace/src/learner.cc:742: \n",
      "Parameters: { \"colsample_bytree\", \"gamma\", \"grow_policy\", \"max_depth\", \"max_leaves\", \"min_child_weight\", \"subsample\", \"three_method\" } are not used.\n",
      "\n",
      "  warnings.warn(smsg, UserWarning)\n"
     ]
    },
    {
     "name": "stdout",
     "output_type": "stream",
     "text": [
      "EvaluatorHoldout: Processed 10456 (100.0%) in 55.38 sec. Users per second: 189\n"
     ]
    },
    {
     "name": "stderr",
     "output_type": "stream",
     "text": [
      "[I 2023-12-01 02:27:37,111] Trial 62 finished with value: 0.0337664787287012 and parameters: {'n_estimators': 354, 'learning_rate': 0.20770756616044164, 'reg_alpha': 1.3213141407036102e-05, 'reg_lambda': 1.3375162870312978e-05, 'max_depth': 19, 'max_leaves': 56, 'grow_policy': 'depthwise', 'booster': 'gblinear', 'gamma': 0.10676005222713338, 'min_child_weight': 0.00017267305566344044, 'subsample': 0.5241833307084258, 'colsample_bytree': 0.4731597376042832}. Best is trial 54 with value: 0.033954894888330145.\n",
      "/opt/conda/lib/python3.10/site-packages/xgboost/core.py:160: UserWarning: [02:27:37] WARNING: /workspace/src/learner.cc:742: \n",
      "Parameters: { \"colsample_bytree\", \"gamma\", \"grow_policy\", \"max_depth\", \"max_leaves\", \"min_child_weight\", \"subsample\", \"three_method\" } are not used.\n",
      "\n",
      "  warnings.warn(smsg, UserWarning)\n"
     ]
    },
    {
     "name": "stdout",
     "output_type": "stream",
     "text": [
      "EvaluatorHoldout: Processed 10456 (100.0%) in 56.78 sec. Users per second: 184\n"
     ]
    },
    {
     "name": "stderr",
     "output_type": "stream",
     "text": [
      "[I 2023-12-01 02:28:50,759] Trial 63 finished with value: 0.033767514816434 and parameters: {'n_estimators': 252, 'learning_rate': 0.09549365454349083, 'reg_alpha': 2.0691103489445792e-05, 'reg_lambda': 3.772567902108334e-05, 'max_depth': 17, 'max_leaves': 112, 'grow_policy': 'depthwise', 'booster': 'gblinear', 'gamma': 0.3883028736076065, 'min_child_weight': 0.0005106457283953268, 'subsample': 0.4285410151269949, 'colsample_bytree': 0.37484434239237624}. Best is trial 54 with value: 0.033954894888330145.\n",
      "/opt/conda/lib/python3.10/site-packages/xgboost/core.py:160: UserWarning: [02:28:51] WARNING: /workspace/src/learner.cc:742: \n",
      "Parameters: { \"colsample_bytree\", \"gamma\", \"grow_policy\", \"max_depth\", \"max_leaves\", \"min_child_weight\", \"subsample\", \"three_method\" } are not used.\n",
      "\n",
      "  warnings.warn(smsg, UserWarning)\n"
     ]
    },
    {
     "name": "stdout",
     "output_type": "stream",
     "text": [
      "EvaluatorHoldout: Processed 10456 (100.0%) in 55.60 sec. Users per second: 188\n"
     ]
    },
    {
     "name": "stderr",
     "output_type": "stream",
     "text": [
      "[I 2023-12-01 02:30:17,566] Trial 64 finished with value: 0.03368046067572639 and parameters: {'n_estimators': 466, 'learning_rate': 0.3489642998441416, 'reg_alpha': 3.5939661738576556e-05, 'reg_lambda': 1.8295313191600516e-05, 'max_depth': 20, 'max_leaves': 188, 'grow_policy': 'depthwise', 'booster': 'gblinear', 'gamma': 0.1433644229214574, 'min_child_weight': 0.0011340180978469507, 'subsample': 0.538440877210977, 'colsample_bytree': 0.4060686470021077}. Best is trial 54 with value: 0.033954894888330145.\n",
      "/opt/conda/lib/python3.10/site-packages/xgboost/core.py:160: UserWarning: [02:30:17] WARNING: /workspace/src/learner.cc:742: \n",
      "Parameters: { \"colsample_bytree\", \"gamma\", \"grow_policy\", \"max_depth\", \"max_leaves\", \"min_child_weight\", \"subsample\", \"three_method\" } are not used.\n",
      "\n",
      "  warnings.warn(smsg, UserWarning)\n"
     ]
    },
    {
     "name": "stdout",
     "output_type": "stream",
     "text": [
      "EvaluatorHoldout: Processed 10456 (100.0%) in 57.78 sec. Users per second: 181\n"
     ]
    },
    {
     "name": "stderr",
     "output_type": "stream",
     "text": [
      "[I 2023-12-01 02:31:38,070] Trial 65 finished with value: 0.03368365243317421 and parameters: {'n_estimators': 340, 'learning_rate': 0.18745994890573242, 'reg_alpha': 1.0444889311226204e-05, 'reg_lambda': 0.0001236460511145828, 'max_depth': 18, 'max_leaves': 46, 'grow_policy': 'depthwise', 'booster': 'gblinear', 'gamma': 0.03833258422774014, 'min_child_weight': 0.0022935870383325014, 'subsample': 0.4947987099663773, 'colsample_bytree': 0.500536891449238}. Best is trial 54 with value: 0.033954894888330145.\n",
      "/opt/conda/lib/python3.10/site-packages/xgboost/core.py:160: UserWarning: [02:31:38] WARNING: /workspace/src/learner.cc:742: \n",
      "Parameters: { \"colsample_bytree\", \"gamma\", \"grow_policy\", \"max_depth\", \"max_leaves\", \"min_child_weight\", \"subsample\", \"three_method\" } are not used.\n",
      "\n",
      "  warnings.warn(smsg, UserWarning)\n"
     ]
    },
    {
     "name": "stdout",
     "output_type": "stream",
     "text": [
      "EvaluatorHoldout: Processed 10456 (100.0%) in 57.62 sec. Users per second: 181\n"
     ]
    },
    {
     "name": "stderr",
     "output_type": "stream",
     "text": [
      "[I 2023-12-01 02:33:13,904] Trial 66 finished with value: 0.033565276563315934 and parameters: {'n_estimators': 582, 'learning_rate': 0.3047364287163233, 'reg_alpha': 1.8627916683123248e-05, 'reg_lambda': 6.17532513631708e-05, 'max_depth': 16, 'max_leaves': 134, 'grow_policy': 'depthwise', 'booster': 'gblinear', 'gamma': 5.047791602590974, 'min_child_weight': 8.774573680271108e-05, 'subsample': 0.4894868029335908, 'colsample_bytree': 0.5400213097248291}. Best is trial 54 with value: 0.033954894888330145.\n",
      "/opt/conda/lib/python3.10/site-packages/xgboost/core.py:160: UserWarning: [02:33:14] WARNING: /workspace/src/learner.cc:742: \n",
      "Parameters: { \"colsample_bytree\", \"gamma\", \"grow_policy\", \"max_depth\", \"max_leaves\", \"min_child_weight\", \"subsample\", \"three_method\" } are not used.\n",
      "\n",
      "  warnings.warn(smsg, UserWarning)\n"
     ]
    },
    {
     "name": "stdout",
     "output_type": "stream",
     "text": [
      "EvaluatorHoldout: Processed 10456 (100.0%) in 57.30 sec. Users per second: 182\n"
     ]
    },
    {
     "name": "stderr",
     "output_type": "stream",
     "text": [
      "[I 2023-12-01 02:34:26,124] Trial 67 finished with value: 0.033575455271371395 and parameters: {'n_estimators': 232, 'learning_rate': 0.13360102867414078, 'reg_alpha': 1.4695850071627895e-05, 'reg_lambda': 1.0149901598991177e-05, 'max_depth': 19, 'max_leaves': 75, 'grow_policy': 'depthwise', 'booster': 'gblinear', 'gamma': 1.7757810330705677, 'min_child_weight': 0.0003440588459382934, 'subsample': 0.5824881706761594, 'colsample_bytree': 0.35482923706435465}. Best is trial 54 with value: 0.033954894888330145.\n",
      "/opt/conda/lib/python3.10/site-packages/xgboost/core.py:160: UserWarning: [02:34:26] WARNING: /workspace/src/learner.cc:742: \n",
      "Parameters: { \"colsample_bytree\", \"gamma\", \"grow_policy\", \"max_depth\", \"max_leaves\", \"min_child_weight\", \"subsample\", \"three_method\" } are not used.\n",
      "\n",
      "  warnings.warn(smsg, UserWarning)\n"
     ]
    },
    {
     "name": "stdout",
     "output_type": "stream",
     "text": [
      "EvaluatorHoldout: Processed 10456 (100.0%) in 56.37 sec. Users per second: 185\n"
     ]
    },
    {
     "name": "stderr",
     "output_type": "stream",
     "text": [
      "[I 2023-12-01 02:35:34,341] Trial 68 finished with value: 0.03363927903474567 and parameters: {'n_estimators': 174, 'learning_rate': 0.07596843498986205, 'reg_alpha': 3.32932332605891e-05, 'reg_lambda': 3.867444171042823e-05, 'max_depth': 14, 'max_leaves': 231, 'grow_policy': 'depthwise', 'booster': 'gblinear', 'gamma': 0.6882808212243688, 'min_child_weight': 0.0008990278911310785, 'subsample': 0.5384386566928526, 'colsample_bytree': 0.23751695060502998}. Best is trial 54 with value: 0.033954894888330145.\n",
      "/opt/conda/lib/python3.10/site-packages/xgboost/core.py:160: UserWarning: [02:35:34] WARNING: /workspace/src/learner.cc:742: \n",
      "Parameters: { \"colsample_bytree\", \"gamma\", \"grow_policy\", \"max_depth\", \"max_leaves\", \"min_child_weight\", \"subsample\", \"three_method\" } are not used.\n",
      "\n",
      "  warnings.warn(smsg, UserWarning)\n"
     ]
    },
    {
     "name": "stdout",
     "output_type": "stream",
     "text": [
      "EvaluatorHoldout: Processed 10456 (100.0%) in 60.00 sec. Users per second: 174\n"
     ]
    },
    {
     "name": "stderr",
     "output_type": "stream",
     "text": [
      "[I 2023-12-01 02:36:57,846] Trial 69 finished with value: 0.03377442586317861 and parameters: {'n_estimators': 351, 'learning_rate': 0.19239833636147263, 'reg_alpha': 2.3807688491452395e-05, 'reg_lambda': 2.639849975989824e-05, 'max_depth': 17, 'max_leaves': 110, 'grow_policy': 'depthwise', 'booster': 'gblinear', 'gamma': 0.2640057410914673, 'min_child_weight': 0.010383106441583495, 'subsample': 0.6337609337558695, 'colsample_bytree': 0.2930882398422309}. Best is trial 54 with value: 0.033954894888330145.\n",
      "/opt/conda/lib/python3.10/site-packages/xgboost/core.py:160: UserWarning: [02:36:58] WARNING: /workspace/src/learner.cc:742: \n",
      "Parameters: { \"colsample_bytree\", \"gamma\", \"grow_policy\", \"max_depth\", \"max_leaves\", \"min_child_weight\", \"subsample\", \"three_method\" } are not used.\n",
      "\n",
      "  warnings.warn(smsg, UserWarning)\n"
     ]
    },
    {
     "name": "stdout",
     "output_type": "stream",
     "text": [
      "EvaluatorHoldout: Processed 10456 (100.0%) in 1.07 min. Users per second: 163\n"
     ]
    },
    {
     "name": "stderr",
     "output_type": "stream",
     "text": [
      "[I 2023-12-01 02:39:34,333] Trial 70 finished with value: 0.033381999095225955 and parameters: {'n_estimators': 1246, 'learning_rate': 0.2801827361963755, 'reg_alpha': 9.398283362191596e-05, 'reg_lambda': 7.57386303196107e-05, 'max_depth': 16, 'max_leaves': 488, 'grow_policy': 'depthwise', 'booster': 'gblinear', 'gamma': 2.3958095687684047, 'min_child_weight': 0.0018867393769446555, 'subsample': 0.6822630868293199, 'colsample_bytree': 0.464756944366898}. Best is trial 54 with value: 0.033954894888330145.\n",
      "/opt/conda/lib/python3.10/site-packages/xgboost/core.py:160: UserWarning: [02:39:34] WARNING: /workspace/src/learner.cc:742: \n",
      "Parameters: { \"colsample_bytree\", \"gamma\", \"grow_policy\", \"max_depth\", \"max_leaves\", \"min_child_weight\", \"subsample\", \"three_method\" } are not used.\n",
      "\n",
      "  warnings.warn(smsg, UserWarning)\n"
     ]
    },
    {
     "name": "stdout",
     "output_type": "stream",
     "text": [
      "EvaluatorHoldout: Processed 10456 (100.0%) in 1.07 min. Users per second: 163\n"
     ]
    },
    {
     "name": "stderr",
     "output_type": "stream",
     "text": [
      "[I 2023-12-01 02:40:55,933] Trial 71 finished with value: 0.0338348453382882 and parameters: {'n_estimators': 302, 'learning_rate': 0.15321399498839822, 'reg_alpha': 1.531070130934203e-05, 'reg_lambda': 2.062418435403012e-05, 'max_depth': 19, 'max_leaves': 95, 'grow_policy': 'depthwise', 'booster': 'gblinear', 'gamma': 0.2681208522451114, 'min_child_weight': 0.0007345870200535698, 'subsample': 0.558141035178703, 'colsample_bytree': 0.43746404623253116}. Best is trial 54 with value: 0.033954894888330145.\n",
      "/opt/conda/lib/python3.10/site-packages/xgboost/core.py:160: UserWarning: [02:40:56] WARNING: /workspace/src/learner.cc:742: \n",
      "Parameters: { \"colsample_bytree\", \"gamma\", \"grow_policy\", \"max_depth\", \"max_leaves\", \"min_child_weight\", \"subsample\", \"three_method\" } are not used.\n",
      "\n",
      "  warnings.warn(smsg, UserWarning)\n"
     ]
    },
    {
     "name": "stdout",
     "output_type": "stream",
     "text": [
      "EvaluatorHoldout: Processed 10456 (100.0%) in 1.05 min. Users per second: 166\n"
     ]
    },
    {
     "name": "stderr",
     "output_type": "stream",
     "text": [
      "[I 2023-12-01 02:42:18,566] Trial 72 finished with value: 0.033837824564918906 and parameters: {'n_estimators': 281, 'learning_rate': 0.1673753644188092, 'reg_alpha': 1.4757151020358583e-05, 'reg_lambda': 1.7596123455085133e-05, 'max_depth': 19, 'max_leaves': 158, 'grow_policy': 'depthwise', 'booster': 'gblinear', 'gamma': 0.1677855555877639, 'min_child_weight': 0.0007849099407582141, 'subsample': 0.6017694621495049, 'colsample_bytree': 0.4345524417984891}. Best is trial 54 with value: 0.033954894888330145.\n",
      "/opt/conda/lib/python3.10/site-packages/xgboost/core.py:160: UserWarning: [02:42:18] WARNING: /workspace/src/learner.cc:742: \n",
      "Parameters: { \"colsample_bytree\", \"gamma\", \"grow_policy\", \"max_depth\", \"max_leaves\", \"min_child_weight\", \"subsample\", \"three_method\" } are not used.\n",
      "\n",
      "  warnings.warn(smsg, UserWarning)\n"
     ]
    },
    {
     "name": "stdout",
     "output_type": "stream",
     "text": [
      "EvaluatorHoldout: Processed 10456 (100.0%) in 1.06 min. Users per second: 164\n"
     ]
    },
    {
     "name": "stderr",
     "output_type": "stream",
     "text": [
      "[I 2023-12-01 02:43:40,867] Trial 73 finished with value: 0.03387609908793904 and parameters: {'n_estimators': 269, 'learning_rate': 0.16459147385487624, 'reg_alpha': 1.527651797067908e-05, 'reg_lambda': 1.817284955379101e-05, 'max_depth': 18, 'max_leaves': 169, 'grow_policy': 'depthwise', 'booster': 'gblinear', 'gamma': 0.13250564403444182, 'min_child_weight': 0.0007857554525910876, 'subsample': 0.6010819207416784, 'colsample_bytree': 0.4577630690224173}. Best is trial 54 with value: 0.033954894888330145.\n",
      "/opt/conda/lib/python3.10/site-packages/xgboost/core.py:160: UserWarning: [02:43:41] WARNING: /workspace/src/learner.cc:742: \n",
      "Parameters: { \"colsample_bytree\", \"gamma\", \"grow_policy\", \"max_depth\", \"max_leaves\", \"min_child_weight\", \"subsample\", \"three_method\" } are not used.\n",
      "\n",
      "  warnings.warn(smsg, UserWarning)\n"
     ]
    },
    {
     "name": "stdout",
     "output_type": "stream",
     "text": [
      "EvaluatorHoldout: Processed 10456 (100.0%) in 1.04 min. Users per second: 167\n"
     ]
    },
    {
     "name": "stderr",
     "output_type": "stream",
     "text": [
      "[I 2023-12-01 02:44:56,119] Trial 74 finished with value: 0.03362547591722219 and parameters: {'n_estimators': 187, 'learning_rate': 0.10538736108089611, 'reg_alpha': 3.6073663911572276e-05, 'reg_lambda': 1.4792658992510192e-05, 'max_depth': 18, 'max_leaves': 277, 'grow_policy': 'depthwise', 'booster': 'gblinear', 'gamma': 0.06324738740315951, 'min_child_weight': 0.00034107696119240664, 'subsample': 0.5995305250140729, 'colsample_bytree': 0.4173159428819777}. Best is trial 54 with value: 0.033954894888330145.\n",
      "/opt/conda/lib/python3.10/site-packages/xgboost/core.py:160: UserWarning: [02:44:56] WARNING: /workspace/src/learner.cc:742: \n",
      "Parameters: { \"colsample_bytree\", \"gamma\", \"grow_policy\", \"max_depth\", \"max_leaves\", \"min_child_weight\", \"subsample\", \"three_method\" } are not used.\n",
      "\n",
      "  warnings.warn(smsg, UserWarning)\n"
     ]
    },
    {
     "name": "stdout",
     "output_type": "stream",
     "text": [
      "EvaluatorHoldout: Processed 10456 (100.0%) in 1.01 min. Users per second: 173\n"
     ]
    },
    {
     "name": "stderr",
     "output_type": "stream",
     "text": [
      "[I 2023-12-01 02:46:13,726] Trial 75 finished with value: 0.03360667453030683 and parameters: {'n_estimators': 234, 'learning_rate': 0.48006687596301634, 'reg_alpha': 5.837359931404071e-05, 'reg_lambda': 4.8371018935357976e-05, 'max_depth': 20, 'max_leaves': 167, 'grow_policy': 'depthwise', 'booster': 'gblinear', 'gamma': 0.14619285323249726, 'min_child_weight': 0.004363370269569247, 'subsample': 0.4773249080383516, 'colsample_bytree': 0.4599313961504101}. Best is trial 54 with value: 0.033954894888330145.\n",
      "/opt/conda/lib/python3.10/site-packages/xgboost/core.py:160: UserWarning: [02:46:14] WARNING: /workspace/src/learner.cc:742: \n",
      "Parameters: { \"colsample_bytree\", \"gamma\", \"grow_policy\", \"max_depth\", \"max_leaves\", \"min_child_weight\", \"subsample\", \"three_method\" } are not used.\n",
      "\n",
      "  warnings.warn(smsg, UserWarning)\n"
     ]
    },
    {
     "name": "stdout",
     "output_type": "stream",
     "text": [
      "EvaluatorHoldout: Processed 10456 (100.0%) in 1.02 min. Users per second: 170\n"
     ]
    },
    {
     "name": "stderr",
     "output_type": "stream",
     "text": [
      "[I 2023-12-01 02:47:24,051] Trial 76 finished with value: 0.03385509648899075 and parameters: {'n_estimators': 115, 'learning_rate': 0.2553874228110118, 'reg_alpha': 2.3039344021519535e-05, 'reg_lambda': 1.277489367053964e-05, 'max_depth': 18, 'max_leaves': 196, 'grow_policy': 'depthwise', 'booster': 'gblinear', 'gamma': 0.025598270102494575, 'min_child_weight': 0.0016311782458392288, 'subsample': 0.5184673733410019, 'colsample_bytree': 0.4870241118407713}. Best is trial 54 with value: 0.033954894888330145.\n",
      "/opt/conda/lib/python3.10/site-packages/xgboost/core.py:160: UserWarning: [02:47:24] WARNING: /workspace/src/learner.cc:742: \n",
      "Parameters: { \"colsample_bytree\", \"gamma\", \"grow_policy\", \"max_depth\", \"max_leaves\", \"min_child_weight\", \"subsample\", \"three_method\" } are not used.\n",
      "\n",
      "  warnings.warn(smsg, UserWarning)\n"
     ]
    },
    {
     "name": "stdout",
     "output_type": "stream",
     "text": [
      "EvaluatorHoldout: Processed 10456 (100.0%) in 58.36 sec. Users per second: 179\n"
     ]
    },
    {
     "name": "stderr",
     "output_type": "stream",
     "text": [
      "[I 2023-12-01 02:48:30,405] Trial 77 finished with value: 0.033730894997631655 and parameters: {'n_estimators': 120, 'learning_rate': 0.2390203955486862, 'reg_alpha': 2.3099797355169548e-05, 'reg_lambda': 1.3782293977711296e-05, 'max_depth': 12, 'max_leaves': 232, 'grow_policy': 'depthwise', 'booster': 'gblinear', 'gamma': 0.017257167974933266, 'min_child_weight': 0.0015381513086183017, 'subsample': 0.5222197162422904, 'colsample_bytree': 0.4844827049912845}. Best is trial 54 with value: 0.033954894888330145.\n",
      "/opt/conda/lib/python3.10/site-packages/xgboost/core.py:160: UserWarning: [02:48:30] WARNING: /workspace/src/learner.cc:742: \n",
      "Parameters: { \"colsample_bytree\", \"gamma\", \"grow_policy\", \"max_depth\", \"max_leaves\", \"min_child_weight\", \"subsample\", \"three_method\" } are not used.\n",
      "\n",
      "  warnings.warn(smsg, UserWarning)\n"
     ]
    },
    {
     "name": "stdout",
     "output_type": "stream",
     "text": [
      "EvaluatorHoldout: Processed 10456 (100.0%) in 57.87 sec. Users per second: 181\n"
     ]
    },
    {
     "name": "stderr",
     "output_type": "stream",
     "text": [
      "[I 2023-12-01 02:49:34,263] Trial 78 finished with value: 0.033467838774122155 and parameters: {'n_estimators': 87, 'learning_rate': 0.12470637437997754, 'reg_alpha': 4.320076846617473e-05, 'reg_lambda': 4.021034724893255e-05, 'max_depth': 17, 'max_leaves': 197, 'grow_policy': 'depthwise', 'booster': 'gblinear', 'gamma': 5.0502970458816385, 'min_child_weight': 0.00020920259365110407, 'subsample': 0.49903406056192157, 'colsample_bytree': 0.532138525408919}. Best is trial 54 with value: 0.033954894888330145.\n",
      "/opt/conda/lib/python3.10/site-packages/xgboost/core.py:160: UserWarning: [02:49:34] WARNING: /workspace/src/learner.cc:742: \n",
      "Parameters: { \"colsample_bytree\", \"gamma\", \"grow_policy\", \"max_depth\", \"max_leaves\", \"min_child_weight\", \"subsample\", \"three_method\" } are not used.\n",
      "\n",
      "  warnings.warn(smsg, UserWarning)\n"
     ]
    },
    {
     "name": "stdout",
     "output_type": "stream",
     "text": [
      "EvaluatorHoldout: Processed 10456 (100.0%) in 57.27 sec. Users per second: 183\n"
     ]
    },
    {
     "name": "stderr",
     "output_type": "stream",
     "text": [
      "[I 2023-12-01 02:50:41,294] Trial 79 finished with value: 0.03360854176534159 and parameters: {'n_estimators': 147, 'learning_rate': 0.08671080428187705, 'reg_alpha': 2.6957244878525755e-05, 'reg_lambda': 2.2758543843551042e-05, 'max_depth': 18, 'max_leaves': 1001, 'grow_policy': 'depthwise', 'booster': 'gblinear', 'gamma': 0.49113638195498943, 'min_child_weight': 0.00045462622568145526, 'subsample': 0.43258474059722773, 'colsample_bytree': 0.4819352724410803}. Best is trial 54 with value: 0.033954894888330145.\n",
      "/opt/conda/lib/python3.10/site-packages/xgboost/core.py:160: UserWarning: [02:50:41] WARNING: /workspace/src/learner.cc:742: \n",
      "Parameters: { \"colsample_bytree\", \"gamma\", \"grow_policy\", \"max_depth\", \"max_leaves\", \"min_child_weight\", \"subsample\", \"three_method\" } are not used.\n",
      "\n",
      "  warnings.warn(smsg, UserWarning)\n"
     ]
    },
    {
     "name": "stdout",
     "output_type": "stream",
     "text": [
      "EvaluatorHoldout: Processed 10456 (100.0%) in 56.11 sec. Users per second: 186\n"
     ]
    },
    {
     "name": "stderr",
     "output_type": "stream",
     "text": [
      "[I 2023-12-01 02:51:50,596] Trial 80 finished with value: 0.034190090598850954 and parameters: {'n_estimators': 199, 'learning_rate': 0.354087361765763, 'reg_alpha': 5.568825008974904e-05, 'reg_lambda': 1.0732841444904015e-05, 'max_depth': 15, 'max_leaves': 135, 'grow_policy': 'depthwise', 'booster': 'gblinear', 'gamma': 0.9659465802070879, 'min_child_weight': 0.002259331874550791, 'subsample': 0.5653720342677349, 'colsample_bytree': 0.5849188987846436}. Best is trial 80 with value: 0.034190090598850954.\n",
      "/opt/conda/lib/python3.10/site-packages/xgboost/core.py:160: UserWarning: [02:51:50] WARNING: /workspace/src/learner.cc:742: \n",
      "Parameters: { \"colsample_bytree\", \"gamma\", \"grow_policy\", \"max_depth\", \"max_leaves\", \"min_child_weight\", \"subsample\", \"three_method\" } are not used.\n",
      "\n",
      "  warnings.warn(smsg, UserWarning)\n"
     ]
    },
    {
     "name": "stdout",
     "output_type": "stream",
     "text": [
      "EvaluatorHoldout: Processed 10456 (100.0%) in 56.08 sec. Users per second: 186\n"
     ]
    },
    {
     "name": "stderr",
     "output_type": "stream",
     "text": [
      "[I 2023-12-01 02:52:58,030] Trial 81 finished with value: 0.03389782656878084 and parameters: {'n_estimators': 176, 'learning_rate': 0.37027819881716717, 'reg_alpha': 2.034492687283442e-05, 'reg_lambda': 1.0255314697818544e-05, 'max_depth': 15, 'max_leaves': 138, 'grow_policy': 'depthwise', 'booster': 'gblinear', 'gamma': 1.7636361344356153, 'min_child_weight': 0.0022546165642042234, 'subsample': 0.5760334536708863, 'colsample_bytree': 0.5831667313945292}. Best is trial 80 with value: 0.034190090598850954.\n",
      "/opt/conda/lib/python3.10/site-packages/xgboost/core.py:160: UserWarning: [02:52:58] WARNING: /workspace/src/learner.cc:742: \n",
      "Parameters: { \"colsample_bytree\", \"gamma\", \"grow_policy\", \"max_depth\", \"max_leaves\", \"min_child_weight\", \"subsample\", \"three_method\" } are not used.\n",
      "\n",
      "  warnings.warn(smsg, UserWarning)\n"
     ]
    },
    {
     "name": "stdout",
     "output_type": "stream",
     "text": [
      "EvaluatorHoldout: Processed 10456 (100.0%) in 54.72 sec. Users per second: 191\n"
     ]
    },
    {
     "name": "stderr",
     "output_type": "stream",
     "text": [
      "[I 2023-12-01 02:54:07,042] Trial 82 finished with value: 0.03402684795545334 and parameters: {'n_estimators': 207, 'learning_rate': 0.34802568190583155, 'reg_alpha': 1.9176930592577495e-05, 'reg_lambda': 1.2001513914298064e-05, 'max_depth': 15, 'max_leaves': 297, 'grow_policy': 'depthwise', 'booster': 'gblinear', 'gamma': 1.0470970111514144, 'min_child_weight': 0.004312054706567166, 'subsample': 0.5740056732674624, 'colsample_bytree': 0.6094700960084979}. Best is trial 80 with value: 0.034190090598850954.\n",
      "/opt/conda/lib/python3.10/site-packages/xgboost/core.py:160: UserWarning: [02:54:07] WARNING: /workspace/src/learner.cc:742: \n",
      "Parameters: { \"colsample_bytree\", \"gamma\", \"grow_policy\", \"max_depth\", \"max_leaves\", \"min_child_weight\", \"subsample\", \"three_method\" } are not used.\n",
      "\n",
      "  warnings.warn(smsg, UserWarning)\n"
     ]
    },
    {
     "name": "stdout",
     "output_type": "stream",
     "text": [
      "EvaluatorHoldout: Processed 10456 (100.0%) in 55.22 sec. Users per second: 189\n"
     ]
    },
    {
     "name": "stderr",
     "output_type": "stream",
     "text": [
      "[I 2023-12-01 02:55:15,522] Trial 83 finished with value: 0.03394323225974891 and parameters: {'n_estimators': 191, 'learning_rate': 0.35582369987578666, 'reg_alpha': 1.2554496661547682e-05, 'reg_lambda': 1.3487790280844903e-05, 'max_depth': 15, 'max_leaves': 295, 'grow_policy': 'depthwise', 'booster': 'gblinear', 'gamma': 1.0204669006027536, 'min_child_weight': 0.004792483436206613, 'subsample': 0.5700527395294017, 'colsample_bytree': 0.592852128733278}. Best is trial 80 with value: 0.034190090598850954.\n",
      "/opt/conda/lib/python3.10/site-packages/xgboost/core.py:160: UserWarning: [02:55:16] WARNING: /workspace/src/learner.cc:742: \n",
      "Parameters: { \"colsample_bytree\", \"gamma\", \"grow_policy\", \"max_depth\", \"max_leaves\", \"min_child_weight\", \"subsample\", \"three_method\" } are not used.\n",
      "\n",
      "  warnings.warn(smsg, UserWarning)\n"
     ]
    },
    {
     "name": "stdout",
     "output_type": "stream",
     "text": [
      "EvaluatorHoldout: Processed 10456 (100.0%) in 55.34 sec. Users per second: 189\n"
     ]
    },
    {
     "name": "stderr",
     "output_type": "stream",
     "text": [
      "[I 2023-12-01 02:56:22,639] Trial 84 finished with value: 0.03392343273703239 and parameters: {'n_estimators': 172, 'learning_rate': 0.3541053589569504, 'reg_alpha': 1.2821979758209092e-05, 'reg_lambda': 1.0332496362098794e-05, 'max_depth': 15, 'max_leaves': 372, 'grow_policy': 'depthwise', 'booster': 'gblinear', 'gamma': 1.8075410588618048, 'min_child_weight': 0.004822018052134972, 'subsample': 0.5766583564943771, 'colsample_bytree': 0.6005632911707824}. Best is trial 80 with value: 0.034190090598850954.\n",
      "/opt/conda/lib/python3.10/site-packages/xgboost/core.py:160: UserWarning: [02:56:23] WARNING: /workspace/src/learner.cc:742: \n",
      "Parameters: { \"colsample_bytree\", \"gamma\", \"grow_policy\", \"max_depth\", \"max_leaves\", \"min_child_weight\", \"subsample\", \"three_method\" } are not used.\n",
      "\n",
      "  warnings.warn(smsg, UserWarning)\n"
     ]
    },
    {
     "name": "stdout",
     "output_type": "stream",
     "text": [
      "EvaluatorHoldout: Processed 10456 (100.0%) in 56.12 sec. Users per second: 186\n"
     ]
    },
    {
     "name": "stderr",
     "output_type": "stream",
     "text": [
      "[I 2023-12-01 02:57:30,563] Trial 85 finished with value: 0.03387770445464574 and parameters: {'n_estimators': 183, 'learning_rate': 0.3786774594501719, 'reg_alpha': 1.2712351710888488e-05, 'reg_lambda': 1.255231806168839e-05, 'max_depth': 15, 'max_leaves': 359, 'grow_policy': 'depthwise', 'booster': 'gblinear', 'gamma': 0.9754723905888446, 'min_child_weight': 0.004388900327802317, 'subsample': 0.5806406357403474, 'colsample_bytree': 0.6275439974161829}. Best is trial 80 with value: 0.034190090598850954.\n",
      "/opt/conda/lib/python3.10/site-packages/xgboost/core.py:160: UserWarning: [02:57:30] WARNING: /workspace/src/learner.cc:742: \n",
      "Parameters: { \"colsample_bytree\", \"gamma\", \"grow_policy\", \"max_depth\", \"max_leaves\", \"min_child_weight\", \"subsample\", \"three_method\" } are not used.\n",
      "\n",
      "  warnings.warn(smsg, UserWarning)\n"
     ]
    },
    {
     "name": "stdout",
     "output_type": "stream",
     "text": [
      "EvaluatorHoldout: Processed 10456 (100.0%) in 55.32 sec. Users per second: 189\n"
     ]
    },
    {
     "name": "stderr",
     "output_type": "stream",
     "text": [
      "[I 2023-12-01 02:58:38,047] Trial 86 finished with value: 0.033925011537387036 and parameters: {'n_estimators': 187, 'learning_rate': 0.3652835813214247, 'reg_alpha': 1.0048068337609029e-05, 'reg_lambda': 1.4041648360443918e-05, 'max_depth': 15, 'max_leaves': 385, 'grow_policy': 'depthwise', 'booster': 'gblinear', 'gamma': 1.0886479692881892, 'min_child_weight': 0.013540215845608244, 'subsample': 0.654383636606257, 'colsample_bytree': 0.6300634077003009}. Best is trial 80 with value: 0.034190090598850954.\n",
      "/opt/conda/lib/python3.10/site-packages/xgboost/core.py:160: UserWarning: [02:58:38] WARNING: /workspace/src/learner.cc:742: \n",
      "Parameters: { \"colsample_bytree\", \"gamma\", \"grow_policy\", \"max_depth\", \"max_leaves\", \"min_child_weight\", \"subsample\", \"three_method\" } are not used.\n",
      "\n",
      "  warnings.warn(smsg, UserWarning)\n"
     ]
    },
    {
     "name": "stdout",
     "output_type": "stream",
     "text": [
      "EvaluatorHoldout: Processed 10456 (100.0%) in 55.63 sec. Users per second: 188\n"
     ]
    },
    {
     "name": "stderr",
     "output_type": "stream",
     "text": [
      "[I 2023-12-01 02:59:47,366] Trial 87 finished with value: 0.033855453237147747 and parameters: {'n_estimators': 212, 'learning_rate': 0.34299094372536093, 'reg_alpha': 1.0347441773123584e-05, 'reg_lambda': 1.0500190399706014e-05, 'max_depth': 14, 'max_leaves': 390, 'grow_policy': 'depthwise', 'booster': 'gblinear', 'gamma': 1.7756042225785258, 'min_child_weight': 0.011439631479624436, 'subsample': 0.6220558383493565, 'colsample_bytree': 0.6007789672347225}. Best is trial 80 with value: 0.034190090598850954.\n",
      "/opt/conda/lib/python3.10/site-packages/xgboost/core.py:160: UserWarning: [02:59:47] WARNING: /workspace/src/learner.cc:742: \n",
      "Parameters: { \"colsample_bytree\", \"gamma\", \"grow_policy\", \"max_depth\", \"max_leaves\", \"min_child_weight\", \"subsample\", \"three_method\" } are not used.\n",
      "\n",
      "  warnings.warn(smsg, UserWarning)\n"
     ]
    },
    {
     "name": "stdout",
     "output_type": "stream",
     "text": [
      "EvaluatorHoldout: Processed 10456 (100.0%) in 55.91 sec. Users per second: 187\n"
     ]
    },
    {
     "name": "stderr",
     "output_type": "stream",
     "text": [
      "[I 2023-12-01 03:00:52,065] Trial 88 finished with value: 0.0340050066188167 and parameters: {'n_estimators': 135, 'learning_rate': 0.3984082449007067, 'reg_alpha': 3.512282017881012e-05, 'reg_lambda': 2.7785331965459854e-05, 'max_depth': 15, 'max_leaves': 419, 'grow_policy': 'depthwise', 'booster': 'gblinear', 'gamma': 1.0358468330128976, 'min_child_weight': 0.016660768336181176, 'subsample': 0.6565440146663778, 'colsample_bytree': 0.6271253126789037}. Best is trial 80 with value: 0.034190090598850954.\n",
      "/opt/conda/lib/python3.10/site-packages/xgboost/core.py:160: UserWarning: [03:00:52] WARNING: /workspace/src/learner.cc:742: \n",
      "Parameters: { \"colsample_bytree\", \"gamma\", \"grow_policy\", \"max_depth\", \"max_leaves\", \"min_child_weight\", \"subsample\", \"three_method\" } are not used.\n",
      "\n",
      "  warnings.warn(smsg, UserWarning)\n"
     ]
    },
    {
     "name": "stdout",
     "output_type": "stream",
     "text": [
      "EvaluatorHoldout: Processed 10456 (100.0%) in 56.04 sec. Users per second: 187\n"
     ]
    },
    {
     "name": "stderr",
     "output_type": "stream",
     "text": [
      "[I 2023-12-01 03:01:56,957] Trial 89 finished with value: 0.03383711486379799 and parameters: {'n_estimators': 135, 'learning_rate': 0.3896856307060463, 'reg_alpha': 3.633510191802948e-05, 'reg_lambda': 2.9622103910156913e-05, 'max_depth': 15, 'max_leaves': 453, 'grow_policy': 'depthwise', 'booster': 'gblinear', 'gamma': 3.245433973914431, 'min_child_weight': 0.029715259888468192, 'subsample': 0.659240465435165, 'colsample_bytree': 0.6444506453119412}. Best is trial 80 with value: 0.034190090598850954.\n",
      "/opt/conda/lib/python3.10/site-packages/xgboost/core.py:160: UserWarning: [03:01:57] WARNING: /workspace/src/learner.cc:742: \n",
      "Parameters: { \"colsample_bytree\", \"gamma\", \"grow_policy\", \"max_depth\", \"max_leaves\", \"min_child_weight\", \"subsample\", \"three_method\" } are not used.\n",
      "\n",
      "  warnings.warn(smsg, UserWarning)\n"
     ]
    },
    {
     "name": "stdout",
     "output_type": "stream",
     "text": [
      "EvaluatorHoldout: Processed 10456 (100.0%) in 56.36 sec. Users per second: 186\n"
     ]
    },
    {
     "name": "stderr",
     "output_type": "stream",
     "text": [
      "[I 2023-12-01 03:03:03,269] Trial 90 finished with value: 0.03418670908174527 and parameters: {'n_estimators': 157, 'learning_rate': 0.48742445776394877, 'reg_alpha': 5.8218559868340616e-05, 'reg_lambda': 1.0039133947546805e-05, 'max_depth': 12, 'max_leaves': 558, 'grow_policy': 'depthwise', 'booster': 'gblinear', 'gamma': 0.9474407921053525, 'min_child_weight': 0.01208421880690211, 'subsample': 0.6576702344035487, 'colsample_bytree': 0.5864767382358248}. Best is trial 80 with value: 0.034190090598850954.\n",
      "/opt/conda/lib/python3.10/site-packages/xgboost/core.py:160: UserWarning: [03:03:03] WARNING: /workspace/src/learner.cc:742: \n",
      "Parameters: { \"colsample_bytree\", \"gamma\", \"grow_policy\", \"max_depth\", \"max_leaves\", \"min_child_weight\", \"subsample\", \"three_method\" } are not used.\n",
      "\n",
      "  warnings.warn(smsg, UserWarning)\n"
     ]
    },
    {
     "name": "stdout",
     "output_type": "stream",
     "text": [
      "EvaluatorHoldout: Processed 10456 (100.0%) in 55.02 sec. Users per second: 190\n"
     ]
    },
    {
     "name": "stderr",
     "output_type": "stream",
     "text": [
      "[I 2023-12-01 03:04:11,208] Trial 91 finished with value: 0.03414005856742068 and parameters: {'n_estimators': 178, 'learning_rate': 0.48651279347110216, 'reg_alpha': 5.309048307452887e-05, 'reg_lambda': 1.2707806790183815e-05, 'max_depth': 15, 'max_leaves': 547, 'grow_policy': 'depthwise', 'booster': 'gblinear', 'gamma': 1.1047542564791453, 'min_child_weight': 0.005640852678519866, 'subsample': 0.6551691840496927, 'colsample_bytree': 0.5931028851088848}. Best is trial 80 with value: 0.034190090598850954.\n",
      "/opt/conda/lib/python3.10/site-packages/xgboost/core.py:160: UserWarning: [03:04:11] WARNING: /workspace/src/learner.cc:742: \n",
      "Parameters: { \"colsample_bytree\", \"gamma\", \"grow_policy\", \"max_depth\", \"max_leaves\", \"min_child_weight\", \"subsample\", \"three_method\" } are not used.\n",
      "\n",
      "  warnings.warn(smsg, UserWarning)\n"
     ]
    },
    {
     "name": "stdout",
     "output_type": "stream",
     "text": [
      "EvaluatorHoldout: Processed 10456 (100.0%) in 54.77 sec. Users per second: 191\n"
     ]
    },
    {
     "name": "stderr",
     "output_type": "stream",
     "text": [
      "[I 2023-12-01 03:05:17,932] Trial 92 finished with value: 0.03409420124846657 and parameters: {'n_estimators': 161, 'learning_rate': 0.4919754240259861, 'reg_alpha': 6.131750263971733e-05, 'reg_lambda': 1.433152876101944e-05, 'max_depth': 12, 'max_leaves': 518, 'grow_policy': 'depthwise', 'booster': 'gblinear', 'gamma': 0.9387848531171143, 'min_child_weight': 0.01229922492610418, 'subsample': 0.6525875161411783, 'colsample_bytree': 0.5809272119976385}. Best is trial 80 with value: 0.034190090598850954.\n",
      "/opt/conda/lib/python3.10/site-packages/xgboost/core.py:160: UserWarning: [03:05:18] WARNING: /workspace/src/learner.cc:742: \n",
      "Parameters: { \"colsample_bytree\", \"gamma\", \"grow_policy\", \"max_depth\", \"max_leaves\", \"min_child_weight\", \"subsample\", \"three_method\" } are not used.\n",
      "\n",
      "  warnings.warn(smsg, UserWarning)\n"
     ]
    },
    {
     "name": "stdout",
     "output_type": "stream",
     "text": [
      "EvaluatorHoldout: Processed 10456 (100.0%) in 54.75 sec. Users per second: 191\n"
     ]
    },
    {
     "name": "stderr",
     "output_type": "stream",
     "text": [
      "[I 2023-12-01 03:06:24,134] Trial 93 finished with value: 0.033632413530319004 and parameters: {'n_estimators': 155, 'learning_rate': 0.4606782977737697, 'reg_alpha': 0.00018907695190825328, 'reg_lambda': 1.4177230615591687e-05, 'max_depth': 12, 'max_leaves': 553, 'grow_policy': 'depthwise', 'booster': 'gblinear', 'gamma': 0.6810299489545687, 'min_child_weight': 0.01422365516140129, 'subsample': 0.6471739425830679, 'colsample_bytree': 0.5847971171470973}. Best is trial 80 with value: 0.034190090598850954.\n",
      "/opt/conda/lib/python3.10/site-packages/xgboost/core.py:160: UserWarning: [03:06:24] WARNING: /workspace/src/learner.cc:742: \n",
      "Parameters: { \"colsample_bytree\", \"gamma\", \"grow_policy\", \"max_depth\", \"max_leaves\", \"min_child_weight\", \"subsample\", \"three_method\" } are not used.\n",
      "\n",
      "  warnings.warn(smsg, UserWarning)\n"
     ]
    },
    {
     "name": "stdout",
     "output_type": "stream",
     "text": [
      "EvaluatorHoldout: Processed 10456 (100.0%) in 56.04 sec. Users per second: 187\n"
     ]
    },
    {
     "name": "stderr",
     "output_type": "stream",
     "text": [
      "[I 2023-12-01 03:07:29,250] Trial 94 finished with value: 0.034053907682685305 and parameters: {'n_estimators': 128, 'learning_rate': 0.4955777984315599, 'reg_alpha': 9.215665394739575e-05, 'reg_lambda': 1.006119613789573e-05, 'max_depth': 11, 'max_leaves': 562, 'grow_policy': 'depthwise', 'booster': 'gblinear', 'gamma': 0.9857421701368001, 'min_child_weight': 0.014989001181080252, 'subsample': 0.6204769163753486, 'colsample_bytree': 0.6209771688046846}. Best is trial 80 with value: 0.034190090598850954.\n",
      "/opt/conda/lib/python3.10/site-packages/xgboost/core.py:160: UserWarning: [03:07:29] WARNING: /workspace/src/learner.cc:742: \n",
      "Parameters: { \"colsample_bytree\", \"gamma\", \"grow_policy\", \"max_depth\", \"max_leaves\", \"min_child_weight\", \"subsample\", \"three_method\" } are not used.\n",
      "\n",
      "  warnings.warn(smsg, UserWarning)\n"
     ]
    },
    {
     "name": "stdout",
     "output_type": "stream",
     "text": [
      "EvaluatorHoldout: Processed 10456 (100.0%) in 55.33 sec. Users per second: 189\n"
     ]
    },
    {
     "name": "stderr",
     "output_type": "stream",
     "text": [
      "[I 2023-12-01 03:08:34,109] Trial 95 finished with value: 0.03381157700902335 and parameters: {'n_estimators': 139, 'learning_rate': 0.4878334697206667, 'reg_alpha': 8.611980455183671e-05, 'reg_lambda': 2.6551512989169695e-05, 'max_depth': 11, 'max_leaves': 562, 'grow_policy': 'depthwise', 'booster': 'gblinear', 'gamma': 1.051117483995175, 'min_child_weight': 0.043452160733125675, 'subsample': 0.6269419800453185, 'colsample_bytree': 0.6296650669522991}. Best is trial 80 with value: 0.034190090598850954.\n",
      "/opt/conda/lib/python3.10/site-packages/xgboost/core.py:160: UserWarning: [03:08:34] WARNING: /workspace/src/learner.cc:742: \n",
      "Parameters: { \"colsample_bytree\", \"gamma\", \"grow_policy\", \"max_depth\", \"max_leaves\", \"min_child_weight\", \"subsample\", \"three_method\" } are not used.\n",
      "\n",
      "  warnings.warn(smsg, UserWarning)\n"
     ]
    },
    {
     "name": "stdout",
     "output_type": "stream",
     "text": [
      "EvaluatorHoldout: Processed 10456 (100.0%) in 56.44 sec. Users per second: 185\n"
     ]
    },
    {
     "name": "stderr",
     "output_type": "stream",
     "text": [
      "[I 2023-12-01 03:09:36,472] Trial 96 finished with value: 0.03371789266586499 and parameters: {'n_estimators': 88, 'learning_rate': 0.28714773473689903, 'reg_alpha': 5.2057757244779434e-05, 'reg_lambda': 1.3432239047353309e-05, 'max_depth': 10, 'max_leaves': 416, 'grow_policy': 'depthwise', 'booster': 'gblinear', 'gamma': 0.5178776350423913, 'min_child_weight': 0.01543338329307549, 'subsample': 0.6668656793686638, 'colsample_bytree': 0.6533954005546474}. Best is trial 80 with value: 0.034190090598850954.\n",
      "/opt/conda/lib/python3.10/site-packages/xgboost/core.py:160: UserWarning: [03:09:36] WARNING: /workspace/src/learner.cc:742: \n",
      "Parameters: { \"colsample_bytree\", \"gamma\", \"grow_policy\", \"max_depth\", \"max_leaves\", \"min_child_weight\", \"subsample\", \"three_method\" } are not used.\n",
      "\n",
      "  warnings.warn(smsg, UserWarning)\n"
     ]
    },
    {
     "name": "stdout",
     "output_type": "stream",
     "text": [
      "EvaluatorHoldout: Processed 10456 (100.0%) in 56.50 sec. Users per second: 185\n"
     ]
    },
    {
     "name": "stderr",
     "output_type": "stream",
     "text": [
      "[I 2023-12-01 03:10:46,212] Trial 97 finished with value: 0.03401381526214142 and parameters: {'n_estimators': 203, 'learning_rate': 0.30902698057742467, 'reg_alpha': 6.939346561907538e-05, 'reg_lambda': 1.5724456208622183e-05, 'max_depth': 11, 'max_leaves': 603, 'grow_policy': 'depthwise', 'booster': 'gblinear', 'gamma': 0.9927190331127221, 'min_child_weight': 0.0076040110203434205, 'subsample': 0.6550953913104103, 'colsample_bytree': 0.5755192876307146}. Best is trial 80 with value: 0.034190090598850954.\n",
      "/opt/conda/lib/python3.10/site-packages/xgboost/core.py:160: UserWarning: [03:10:46] WARNING: /workspace/src/learner.cc:742: \n",
      "Parameters: { \"colsample_bytree\", \"gamma\", \"grow_policy\", \"max_depth\", \"max_leaves\", \"min_child_weight\", \"subsample\", \"three_method\" } are not used.\n",
      "\n",
      "  warnings.warn(smsg, UserWarning)\n"
     ]
    },
    {
     "name": "stdout",
     "output_type": "stream",
     "text": [
      "EvaluatorHoldout: Processed 10456 (100.0%) in 55.39 sec. Users per second: 189\n"
     ]
    },
    {
     "name": "stderr",
     "output_type": "stream",
     "text": [
      "[I 2023-12-01 03:11:54,656] Trial 98 finished with value: 0.03383882649591323 and parameters: {'n_estimators': 203, 'learning_rate': 0.2947674414533291, 'reg_alpha': 7.054911061029281e-05, 'reg_lambda': 2.4293131159758607e-05, 'max_depth': 11, 'max_leaves': 587, 'grow_policy': 'depthwise', 'booster': 'gblinear', 'gamma': 0.8042850382552533, 'min_child_weight': 0.006502166222657814, 'subsample': 0.6162929167999595, 'colsample_bytree': 0.5764564549806024}. Best is trial 80 with value: 0.034190090598850954.\n",
      "/opt/conda/lib/python3.10/site-packages/xgboost/core.py:160: UserWarning: [03:11:55] WARNING: /workspace/src/learner.cc:742: \n",
      "Parameters: { \"colsample_bytree\", \"gamma\", \"grow_policy\", \"max_depth\", \"max_leaves\", \"min_child_weight\", \"subsample\", \"three_method\" } are not used.\n",
      "\n",
      "  warnings.warn(smsg, UserWarning)\n"
     ]
    },
    {
     "name": "stdout",
     "output_type": "stream",
     "text": [
      "EvaluatorHoldout: Processed 10456 (100.0%) in 55.97 sec. Users per second: 187\n"
     ]
    },
    {
     "name": "stderr",
     "output_type": "stream",
     "text": [
      "[I 2023-12-01 03:13:06,645] Trial 99 finished with value: 0.03397393916760776 and parameters: {'n_estimators': 236, 'learning_rate': 0.4235732574829656, 'reg_alpha': 9.102870658730159e-05, 'reg_lambda': 1.8238901395456703e-05, 'max_depth': 12, 'max_leaves': 495, 'grow_policy': 'depthwise', 'booster': 'gblinear', 'gamma': 1.2590994502354131, 'min_child_weight': 0.007949172569467639, 'subsample': 0.6882266188356235, 'colsample_bytree': 0.6151513513888752}. Best is trial 80 with value: 0.034190090598850954.\n"
     ]
    }
   ],
   "source": [
    "if config['tune_parameters']:\n",
    "    study = optuna.create_study(direction='maximize', study_name='hyperparameters_tuning_xgboost_better', \n",
    "                                storage=f'sqlite:///{config[\"database_path\"]}', load_if_exists=True)\n",
    "    study.optimize(objective_xgboost, n_trials=config['n_trials'])"
   ]
  },
  {
   "cell_type": "code",
   "execution_count": 41,
   "id": "d8202fd9",
   "metadata": {
    "execution": {
     "iopub.execute_input": "2023-12-01T03:13:06.807190Z",
     "iopub.status.busy": "2023-12-01T03:13:06.806795Z",
     "iopub.status.idle": "2023-12-01T03:13:07.774224Z",
     "shell.execute_reply": "2023-12-01T03:13:07.773335Z"
    },
    "papermill": {
     "duration": 1.036665,
     "end_time": "2023-12-01T03:13:07.776657",
     "exception": false,
     "start_time": "2023-12-01T03:13:06.739992",
     "status": "completed"
    },
    "tags": []
   },
   "outputs": [
    {
     "data": {
      "text/html": [
       "        <script type=\"text/javascript\">\n",
       "        window.PlotlyConfig = {MathJaxConfig: 'local'};\n",
       "        if (window.MathJax && window.MathJax.Hub && window.MathJax.Hub.Config) {window.MathJax.Hub.Config({SVG: {font: \"STIX-Web\"}});}\n",
       "        if (typeof require !== 'undefined') {\n",
       "        require.undef(\"plotly\");\n",
       "        requirejs.config({\n",
       "            paths: {\n",
       "                'plotly': ['https://cdn.plot.ly/plotly-2.25.2.min']\n",
       "            }\n",
       "        });\n",
       "        require(['plotly'], function(Plotly) {\n",
       "            window._Plotly = Plotly;\n",
       "        });\n",
       "        }\n",
       "        </script>\n",
       "        "
      ]
     },
     "metadata": {},
     "output_type": "display_data"
    },
    {
     "data": {
      "text/html": [
       "<div>                            <div id=\"80ff35aa-a388-4125-ad64-988853c9a411\" class=\"plotly-graph-div\" style=\"height:525px; width:100%;\"></div>            <script type=\"text/javascript\">                require([\"plotly\"], function(Plotly) {                    window.PLOTLYENV=window.PLOTLYENV || {};                                    if (document.getElementById(\"80ff35aa-a388-4125-ad64-988853c9a411\")) {                    Plotly.newPlot(                        \"80ff35aa-a388-4125-ad64-988853c9a411\",                        [{\"mode\":\"markers\",\"name\":\"Objective Value\",\"x\":[0,1,2,3,4,5,6,7,8,9,10,11,12,13,14,15,16,17,18,19,20,21,22,23,24,25,26,27,28,29,30,31,32,33,34,35,36,37,38,39,40,41,42,43,44,45,46,47,48,49,50,51,52,53,54,55,56,57,58,59,60,61,62,63,64,65,66,67,68,69,70,71,72,73,74,75,76,77,78,79,80,81,82,83,84,85,86,87,88,89,90,91,92,93,94,95,96,97,98,99],\"y\":[0.031115471788052053,0.03315821553053749,0.031341369275330676,0.02642537967112377,0.026400361757812057,0.02649233446885514,0.033419218554547436,0.027702887231148506,0.03278180447772067,0.03046042524380314,0.03208196706379556,0.032880373234475985,0.03328825023378382,0.03248067487642837,0.0333100687992614,0.032607741738623415,0.030060931826186167,0.03337410129825953,0.033170732077579694,0.033144966511215374,0.032190790432469654,0.03279985441639027,0.03324769859486753,0.03283016282896717,0.033583102585589115,0.03330189395319447,0.032848402527294894,0.033444361709233546,0.030333362176801243,0.03348293605251325,0.033537135206033304,0.03362646646263695,0.03366935214534664,0.03374230714346416,0.033738895264813204,0.0336697544358217,0.033651651364447775,0.03339384389307872,0.033904354301016425,0.03364460748594256,0.033810081702918215,0.03384053812802845,0.033726120644636225,0.03340039819166629,0.03383446202377908,0.03364054662926117,0.03375474019625689,0.033789458623285966,0.03387754505653305,0.03368920480076741,0.03389426288240354,0.03381661323034683,0.03377141247980937,0.03380837766118932,0.033954894888330145,0.03370004387243283,0.033244620693214745,0.033108126571209984,0.03370257906146382,0.03353033421989044,0.033645829538140055,0.033843012593968824,0.0337664787287012,0.033767514816434,0.03368046067572639,0.03368365243317421,0.033565276563315934,0.033575455271371395,0.03363927903474567,0.03377442586317861,0.033381999095225955,0.0338348453382882,0.033837824564918906,0.03387609908793904,0.03362547591722219,0.03360667453030683,0.03385509648899075,0.033730894997631655,0.033467838774122155,0.03360854176534159,0.034190090598850954,0.03389782656878084,0.03402684795545334,0.03394323225974891,0.03392343273703239,0.03387770445464574,0.033925011537387036,0.033855453237147747,0.0340050066188167,0.03383711486379799,0.03418670908174527,0.03414005856742068,0.03409420124846657,0.033632413530319004,0.034053907682685305,0.03381157700902335,0.03371789266586499,0.03401381526214142,0.03383882649591323,0.03397393916760776],\"type\":\"scatter\"},{\"mode\":\"lines\",\"name\":\"Best Value\",\"x\":[0,1,2,3,4,5,6,7,8,9,10,11,12,13,14,15,16,17,18,19,20,21,22,23,24,25,26,27,28,29,30,31,32,33,34,35,36,37,38,39,40,41,42,43,44,45,46,47,48,49,50,51,52,53,54,55,56,57,58,59,60,61,62,63,64,65,66,67,68,69,70,71,72,73,74,75,76,77,78,79,80,81,82,83,84,85,86,87,88,89,90,91,92,93,94,95,96,97,98,99],\"y\":[0.031115471788052053,0.03315821553053749,0.03315821553053749,0.03315821553053749,0.03315821553053749,0.03315821553053749,0.033419218554547436,0.033419218554547436,0.033419218554547436,0.033419218554547436,0.033419218554547436,0.033419218554547436,0.033419218554547436,0.033419218554547436,0.033419218554547436,0.033419218554547436,0.033419218554547436,0.033419218554547436,0.033419218554547436,0.033419218554547436,0.033419218554547436,0.033419218554547436,0.033419218554547436,0.033419218554547436,0.033583102585589115,0.033583102585589115,0.033583102585589115,0.033583102585589115,0.033583102585589115,0.033583102585589115,0.033583102585589115,0.03362646646263695,0.03366935214534664,0.03374230714346416,0.03374230714346416,0.03374230714346416,0.03374230714346416,0.03374230714346416,0.033904354301016425,0.033904354301016425,0.033904354301016425,0.033904354301016425,0.033904354301016425,0.033904354301016425,0.033904354301016425,0.033904354301016425,0.033904354301016425,0.033904354301016425,0.033904354301016425,0.033904354301016425,0.033904354301016425,0.033904354301016425,0.033904354301016425,0.033904354301016425,0.033954894888330145,0.033954894888330145,0.033954894888330145,0.033954894888330145,0.033954894888330145,0.033954894888330145,0.033954894888330145,0.033954894888330145,0.033954894888330145,0.033954894888330145,0.033954894888330145,0.033954894888330145,0.033954894888330145,0.033954894888330145,0.033954894888330145,0.033954894888330145,0.033954894888330145,0.033954894888330145,0.033954894888330145,0.033954894888330145,0.033954894888330145,0.033954894888330145,0.033954894888330145,0.033954894888330145,0.033954894888330145,0.033954894888330145,0.034190090598850954,0.034190090598850954,0.034190090598850954,0.034190090598850954,0.034190090598850954,0.034190090598850954,0.034190090598850954,0.034190090598850954,0.034190090598850954,0.034190090598850954,0.034190090598850954,0.034190090598850954,0.034190090598850954,0.034190090598850954,0.034190090598850954,0.034190090598850954,0.034190090598850954,0.034190090598850954,0.034190090598850954,0.034190090598850954],\"type\":\"scatter\"},{\"marker\":{\"color\":\"#cccccc\"},\"mode\":\"markers\",\"name\":\"Infeasible Trial\",\"showlegend\":false,\"x\":[],\"y\":[],\"type\":\"scatter\"}],                        {\"title\":{\"text\":\"Optimization History Plot\"},\"xaxis\":{\"title\":{\"text\":\"Trial\"}},\"yaxis\":{\"title\":{\"text\":\"Objective Value\"}},\"template\":{\"data\":{\"histogram2dcontour\":[{\"type\":\"histogram2dcontour\",\"colorbar\":{\"outlinewidth\":0,\"ticks\":\"\"},\"colorscale\":[[0.0,\"#0d0887\"],[0.1111111111111111,\"#46039f\"],[0.2222222222222222,\"#7201a8\"],[0.3333333333333333,\"#9c179e\"],[0.4444444444444444,\"#bd3786\"],[0.5555555555555556,\"#d8576b\"],[0.6666666666666666,\"#ed7953\"],[0.7777777777777778,\"#fb9f3a\"],[0.8888888888888888,\"#fdca26\"],[1.0,\"#f0f921\"]]}],\"choropleth\":[{\"type\":\"choropleth\",\"colorbar\":{\"outlinewidth\":0,\"ticks\":\"\"}}],\"histogram2d\":[{\"type\":\"histogram2d\",\"colorbar\":{\"outlinewidth\":0,\"ticks\":\"\"},\"colorscale\":[[0.0,\"#0d0887\"],[0.1111111111111111,\"#46039f\"],[0.2222222222222222,\"#7201a8\"],[0.3333333333333333,\"#9c179e\"],[0.4444444444444444,\"#bd3786\"],[0.5555555555555556,\"#d8576b\"],[0.6666666666666666,\"#ed7953\"],[0.7777777777777778,\"#fb9f3a\"],[0.8888888888888888,\"#fdca26\"],[1.0,\"#f0f921\"]]}],\"heatmap\":[{\"type\":\"heatmap\",\"colorbar\":{\"outlinewidth\":0,\"ticks\":\"\"},\"colorscale\":[[0.0,\"#0d0887\"],[0.1111111111111111,\"#46039f\"],[0.2222222222222222,\"#7201a8\"],[0.3333333333333333,\"#9c179e\"],[0.4444444444444444,\"#bd3786\"],[0.5555555555555556,\"#d8576b\"],[0.6666666666666666,\"#ed7953\"],[0.7777777777777778,\"#fb9f3a\"],[0.8888888888888888,\"#fdca26\"],[1.0,\"#f0f921\"]]}],\"heatmapgl\":[{\"type\":\"heatmapgl\",\"colorbar\":{\"outlinewidth\":0,\"ticks\":\"\"},\"colorscale\":[[0.0,\"#0d0887\"],[0.1111111111111111,\"#46039f\"],[0.2222222222222222,\"#7201a8\"],[0.3333333333333333,\"#9c179e\"],[0.4444444444444444,\"#bd3786\"],[0.5555555555555556,\"#d8576b\"],[0.6666666666666666,\"#ed7953\"],[0.7777777777777778,\"#fb9f3a\"],[0.8888888888888888,\"#fdca26\"],[1.0,\"#f0f921\"]]}],\"contourcarpet\":[{\"type\":\"contourcarpet\",\"colorbar\":{\"outlinewidth\":0,\"ticks\":\"\"}}],\"contour\":[{\"type\":\"contour\",\"colorbar\":{\"outlinewidth\":0,\"ticks\":\"\"},\"colorscale\":[[0.0,\"#0d0887\"],[0.1111111111111111,\"#46039f\"],[0.2222222222222222,\"#7201a8\"],[0.3333333333333333,\"#9c179e\"],[0.4444444444444444,\"#bd3786\"],[0.5555555555555556,\"#d8576b\"],[0.6666666666666666,\"#ed7953\"],[0.7777777777777778,\"#fb9f3a\"],[0.8888888888888888,\"#fdca26\"],[1.0,\"#f0f921\"]]}],\"surface\":[{\"type\":\"surface\",\"colorbar\":{\"outlinewidth\":0,\"ticks\":\"\"},\"colorscale\":[[0.0,\"#0d0887\"],[0.1111111111111111,\"#46039f\"],[0.2222222222222222,\"#7201a8\"],[0.3333333333333333,\"#9c179e\"],[0.4444444444444444,\"#bd3786\"],[0.5555555555555556,\"#d8576b\"],[0.6666666666666666,\"#ed7953\"],[0.7777777777777778,\"#fb9f3a\"],[0.8888888888888888,\"#fdca26\"],[1.0,\"#f0f921\"]]}],\"mesh3d\":[{\"type\":\"mesh3d\",\"colorbar\":{\"outlinewidth\":0,\"ticks\":\"\"}}],\"scatter\":[{\"fillpattern\":{\"fillmode\":\"overlay\",\"size\":10,\"solidity\":0.2},\"type\":\"scatter\"}],\"parcoords\":[{\"type\":\"parcoords\",\"line\":{\"colorbar\":{\"outlinewidth\":0,\"ticks\":\"\"}}}],\"scatterpolargl\":[{\"type\":\"scatterpolargl\",\"marker\":{\"colorbar\":{\"outlinewidth\":0,\"ticks\":\"\"}}}],\"bar\":[{\"error_x\":{\"color\":\"#2a3f5f\"},\"error_y\":{\"color\":\"#2a3f5f\"},\"marker\":{\"line\":{\"color\":\"#E5ECF6\",\"width\":0.5},\"pattern\":{\"fillmode\":\"overlay\",\"size\":10,\"solidity\":0.2}},\"type\":\"bar\"}],\"scattergeo\":[{\"type\":\"scattergeo\",\"marker\":{\"colorbar\":{\"outlinewidth\":0,\"ticks\":\"\"}}}],\"scatterpolar\":[{\"type\":\"scatterpolar\",\"marker\":{\"colorbar\":{\"outlinewidth\":0,\"ticks\":\"\"}}}],\"histogram\":[{\"marker\":{\"pattern\":{\"fillmode\":\"overlay\",\"size\":10,\"solidity\":0.2}},\"type\":\"histogram\"}],\"scattergl\":[{\"type\":\"scattergl\",\"marker\":{\"colorbar\":{\"outlinewidth\":0,\"ticks\":\"\"}}}],\"scatter3d\":[{\"type\":\"scatter3d\",\"line\":{\"colorbar\":{\"outlinewidth\":0,\"ticks\":\"\"}},\"marker\":{\"colorbar\":{\"outlinewidth\":0,\"ticks\":\"\"}}}],\"scattermapbox\":[{\"type\":\"scattermapbox\",\"marker\":{\"colorbar\":{\"outlinewidth\":0,\"ticks\":\"\"}}}],\"scatterternary\":[{\"type\":\"scatterternary\",\"marker\":{\"colorbar\":{\"outlinewidth\":0,\"ticks\":\"\"}}}],\"scattercarpet\":[{\"type\":\"scattercarpet\",\"marker\":{\"colorbar\":{\"outlinewidth\":0,\"ticks\":\"\"}}}],\"carpet\":[{\"aaxis\":{\"endlinecolor\":\"#2a3f5f\",\"gridcolor\":\"white\",\"linecolor\":\"white\",\"minorgridcolor\":\"white\",\"startlinecolor\":\"#2a3f5f\"},\"baxis\":{\"endlinecolor\":\"#2a3f5f\",\"gridcolor\":\"white\",\"linecolor\":\"white\",\"minorgridcolor\":\"white\",\"startlinecolor\":\"#2a3f5f\"},\"type\":\"carpet\"}],\"table\":[{\"cells\":{\"fill\":{\"color\":\"#EBF0F8\"},\"line\":{\"color\":\"white\"}},\"header\":{\"fill\":{\"color\":\"#C8D4E3\"},\"line\":{\"color\":\"white\"}},\"type\":\"table\"}],\"barpolar\":[{\"marker\":{\"line\":{\"color\":\"#E5ECF6\",\"width\":0.5},\"pattern\":{\"fillmode\":\"overlay\",\"size\":10,\"solidity\":0.2}},\"type\":\"barpolar\"}],\"pie\":[{\"automargin\":true,\"type\":\"pie\"}]},\"layout\":{\"autotypenumbers\":\"strict\",\"colorway\":[\"#636efa\",\"#EF553B\",\"#00cc96\",\"#ab63fa\",\"#FFA15A\",\"#19d3f3\",\"#FF6692\",\"#B6E880\",\"#FF97FF\",\"#FECB52\"],\"font\":{\"color\":\"#2a3f5f\"},\"hovermode\":\"closest\",\"hoverlabel\":{\"align\":\"left\"},\"paper_bgcolor\":\"white\",\"plot_bgcolor\":\"#E5ECF6\",\"polar\":{\"bgcolor\":\"#E5ECF6\",\"angularaxis\":{\"gridcolor\":\"white\",\"linecolor\":\"white\",\"ticks\":\"\"},\"radialaxis\":{\"gridcolor\":\"white\",\"linecolor\":\"white\",\"ticks\":\"\"}},\"ternary\":{\"bgcolor\":\"#E5ECF6\",\"aaxis\":{\"gridcolor\":\"white\",\"linecolor\":\"white\",\"ticks\":\"\"},\"baxis\":{\"gridcolor\":\"white\",\"linecolor\":\"white\",\"ticks\":\"\"},\"caxis\":{\"gridcolor\":\"white\",\"linecolor\":\"white\",\"ticks\":\"\"}},\"coloraxis\":{\"colorbar\":{\"outlinewidth\":0,\"ticks\":\"\"}},\"colorscale\":{\"sequential\":[[0.0,\"#0d0887\"],[0.1111111111111111,\"#46039f\"],[0.2222222222222222,\"#7201a8\"],[0.3333333333333333,\"#9c179e\"],[0.4444444444444444,\"#bd3786\"],[0.5555555555555556,\"#d8576b\"],[0.6666666666666666,\"#ed7953\"],[0.7777777777777778,\"#fb9f3a\"],[0.8888888888888888,\"#fdca26\"],[1.0,\"#f0f921\"]],\"sequentialminus\":[[0.0,\"#0d0887\"],[0.1111111111111111,\"#46039f\"],[0.2222222222222222,\"#7201a8\"],[0.3333333333333333,\"#9c179e\"],[0.4444444444444444,\"#bd3786\"],[0.5555555555555556,\"#d8576b\"],[0.6666666666666666,\"#ed7953\"],[0.7777777777777778,\"#fb9f3a\"],[0.8888888888888888,\"#fdca26\"],[1.0,\"#f0f921\"]],\"diverging\":[[0,\"#8e0152\"],[0.1,\"#c51b7d\"],[0.2,\"#de77ae\"],[0.3,\"#f1b6da\"],[0.4,\"#fde0ef\"],[0.5,\"#f7f7f7\"],[0.6,\"#e6f5d0\"],[0.7,\"#b8e186\"],[0.8,\"#7fbc41\"],[0.9,\"#4d9221\"],[1,\"#276419\"]]},\"xaxis\":{\"gridcolor\":\"white\",\"linecolor\":\"white\",\"ticks\":\"\",\"title\":{\"standoff\":15},\"zerolinecolor\":\"white\",\"automargin\":true,\"zerolinewidth\":2},\"yaxis\":{\"gridcolor\":\"white\",\"linecolor\":\"white\",\"ticks\":\"\",\"title\":{\"standoff\":15},\"zerolinecolor\":\"white\",\"automargin\":true,\"zerolinewidth\":2},\"scene\":{\"xaxis\":{\"backgroundcolor\":\"#E5ECF6\",\"gridcolor\":\"white\",\"linecolor\":\"white\",\"showbackground\":true,\"ticks\":\"\",\"zerolinecolor\":\"white\",\"gridwidth\":2},\"yaxis\":{\"backgroundcolor\":\"#E5ECF6\",\"gridcolor\":\"white\",\"linecolor\":\"white\",\"showbackground\":true,\"ticks\":\"\",\"zerolinecolor\":\"white\",\"gridwidth\":2},\"zaxis\":{\"backgroundcolor\":\"#E5ECF6\",\"gridcolor\":\"white\",\"linecolor\":\"white\",\"showbackground\":true,\"ticks\":\"\",\"zerolinecolor\":\"white\",\"gridwidth\":2}},\"shapedefaults\":{\"line\":{\"color\":\"#2a3f5f\"}},\"annotationdefaults\":{\"arrowcolor\":\"#2a3f5f\",\"arrowhead\":0,\"arrowwidth\":1},\"geo\":{\"bgcolor\":\"white\",\"landcolor\":\"#E5ECF6\",\"subunitcolor\":\"white\",\"showland\":true,\"showlakes\":true,\"lakecolor\":\"white\"},\"title\":{\"x\":0.05},\"mapbox\":{\"style\":\"light\"}}}},                        {\"responsive\": true}                    ).then(function(){\n",
       "                            \n",
       "var gd = document.getElementById('80ff35aa-a388-4125-ad64-988853c9a411');\n",
       "var x = new MutationObserver(function (mutations, observer) {{\n",
       "        var display = window.getComputedStyle(gd).display;\n",
       "        if (!display || display === 'none') {{\n",
       "            console.log([gd, 'removed!']);\n",
       "            Plotly.purge(gd);\n",
       "            observer.disconnect();\n",
       "        }}\n",
       "}});\n",
       "\n",
       "// Listen for the removal of the full notebook cells\n",
       "var notebookContainer = gd.closest('#notebook-container');\n",
       "if (notebookContainer) {{\n",
       "    x.observe(notebookContainer, {childList: true});\n",
       "}}\n",
       "\n",
       "// Listen for the clearing of the current output cell\n",
       "var outputEl = gd.closest('.output');\n",
       "if (outputEl) {{\n",
       "    x.observe(outputEl, {childList: true});\n",
       "}}\n",
       "\n",
       "                        })                };                });            </script>        </div>"
      ]
     },
     "metadata": {},
     "output_type": "display_data"
    }
   ],
   "source": [
    "if config['tune_parameters']:\n",
    "    fig = optuna.visualization.plot_optimization_history(study)\n",
    "    fig.show()"
   ]
  },
  {
   "cell_type": "code",
   "execution_count": 42,
   "id": "3ab703ae",
   "metadata": {
    "execution": {
     "iopub.execute_input": "2023-12-01T03:13:07.911840Z",
     "iopub.status.busy": "2023-12-01T03:13:07.911421Z",
     "iopub.status.idle": "2023-12-01T03:13:10.485540Z",
     "shell.execute_reply": "2023-12-01T03:13:10.484440Z"
    },
    "papermill": {
     "duration": 2.644237,
     "end_time": "2023-12-01T03:13:10.488122",
     "exception": false,
     "start_time": "2023-12-01T03:13:07.843885",
     "status": "completed"
    },
    "tags": []
   },
   "outputs": [
    {
     "data": {
      "text/html": [
       "<div>                            <div id=\"d4f07f65-9598-4e48-8512-ed389d15eed2\" class=\"plotly-graph-div\" style=\"height:525px; width:100%;\"></div>            <script type=\"text/javascript\">                require([\"plotly\"], function(Plotly) {                    window.PLOTLYENV=window.PLOTLYENV || {};                                    if (document.getElementById(\"d4f07f65-9598-4e48-8512-ed389d15eed2\")) {                    Plotly.newPlot(                        \"d4f07f65-9598-4e48-8512-ed389d15eed2\",                        [{\"cliponaxis\":false,\"hovertemplate\":[\"min_child_weight (FloatDistribution): 0.00430054047528887\\u003cextra\\u003e\\u003c\\u002fextra\\u003e\",\"reg_alpha (FloatDistribution): 0.007858790701231405\\u003cextra\\u003e\\u003c\\u002fextra\\u003e\",\"grow_policy (CategoricalDistribution): 0.009283765253998003\\u003cextra\\u003e\\u003c\\u002fextra\\u003e\",\"gamma (FloatDistribution): 0.024059019485703395\\u003cextra\\u003e\\u003c\\u002fextra\\u003e\",\"learning_rate (FloatDistribution): 0.03078147534214725\\u003cextra\\u003e\\u003c\\u002fextra\\u003e\",\"max_depth (IntDistribution): 0.05156478528898031\\u003cextra\\u003e\\u003c\\u002fextra\\u003e\",\"max_leaves (IntDistribution): 0.06612013522065602\\u003cextra\\u003e\\u003c\\u002fextra\\u003e\",\"booster (CategoricalDistribution): 0.08116260967610746\\u003cextra\\u003e\\u003c\\u002fextra\\u003e\",\"subsample (FloatDistribution): 0.14604109585269717\\u003cextra\\u003e\\u003c\\u002fextra\\u003e\",\"reg_lambda (FloatDistribution): 0.15566440862652295\\u003cextra\\u003e\\u003c\\u002fextra\\u003e\",\"colsample_bytree (FloatDistribution): 0.17035147720313443\\u003cextra\\u003e\\u003c\\u002fextra\\u003e\",\"n_estimators (IntDistribution): 0.2528118968735326\\u003cextra\\u003e\\u003c\\u002fextra\\u003e\"],\"name\":\"Objective Value\",\"orientation\":\"h\",\"text\":[\"\\u003c0.01\",\"\\u003c0.01\",\"\\u003c0.01\",\"0.02\",\"0.03\",\"0.05\",\"0.07\",\"0.08\",\"0.15\",\"0.16\",\"0.17\",\"0.25\"],\"textposition\":\"outside\",\"x\":[0.00430054047528887,0.007858790701231405,0.009283765253998003,0.024059019485703395,0.03078147534214725,0.05156478528898031,0.06612013522065602,0.08116260967610746,0.14604109585269717,0.15566440862652295,0.17035147720313443,0.2528118968735326],\"y\":[\"min_child_weight\",\"reg_alpha\",\"grow_policy\",\"gamma\",\"learning_rate\",\"max_depth\",\"max_leaves\",\"booster\",\"subsample\",\"reg_lambda\",\"colsample_bytree\",\"n_estimators\"],\"type\":\"bar\"}],                        {\"title\":{\"text\":\"Hyperparameter Importances\"},\"xaxis\":{\"title\":{\"text\":\"Hyperparameter Importance\"}},\"yaxis\":{\"title\":{\"text\":\"Hyperparameter\"}},\"template\":{\"data\":{\"histogram2dcontour\":[{\"type\":\"histogram2dcontour\",\"colorbar\":{\"outlinewidth\":0,\"ticks\":\"\"},\"colorscale\":[[0.0,\"#0d0887\"],[0.1111111111111111,\"#46039f\"],[0.2222222222222222,\"#7201a8\"],[0.3333333333333333,\"#9c179e\"],[0.4444444444444444,\"#bd3786\"],[0.5555555555555556,\"#d8576b\"],[0.6666666666666666,\"#ed7953\"],[0.7777777777777778,\"#fb9f3a\"],[0.8888888888888888,\"#fdca26\"],[1.0,\"#f0f921\"]]}],\"choropleth\":[{\"type\":\"choropleth\",\"colorbar\":{\"outlinewidth\":0,\"ticks\":\"\"}}],\"histogram2d\":[{\"type\":\"histogram2d\",\"colorbar\":{\"outlinewidth\":0,\"ticks\":\"\"},\"colorscale\":[[0.0,\"#0d0887\"],[0.1111111111111111,\"#46039f\"],[0.2222222222222222,\"#7201a8\"],[0.3333333333333333,\"#9c179e\"],[0.4444444444444444,\"#bd3786\"],[0.5555555555555556,\"#d8576b\"],[0.6666666666666666,\"#ed7953\"],[0.7777777777777778,\"#fb9f3a\"],[0.8888888888888888,\"#fdca26\"],[1.0,\"#f0f921\"]]}],\"heatmap\":[{\"type\":\"heatmap\",\"colorbar\":{\"outlinewidth\":0,\"ticks\":\"\"},\"colorscale\":[[0.0,\"#0d0887\"],[0.1111111111111111,\"#46039f\"],[0.2222222222222222,\"#7201a8\"],[0.3333333333333333,\"#9c179e\"],[0.4444444444444444,\"#bd3786\"],[0.5555555555555556,\"#d8576b\"],[0.6666666666666666,\"#ed7953\"],[0.7777777777777778,\"#fb9f3a\"],[0.8888888888888888,\"#fdca26\"],[1.0,\"#f0f921\"]]}],\"heatmapgl\":[{\"type\":\"heatmapgl\",\"colorbar\":{\"outlinewidth\":0,\"ticks\":\"\"},\"colorscale\":[[0.0,\"#0d0887\"],[0.1111111111111111,\"#46039f\"],[0.2222222222222222,\"#7201a8\"],[0.3333333333333333,\"#9c179e\"],[0.4444444444444444,\"#bd3786\"],[0.5555555555555556,\"#d8576b\"],[0.6666666666666666,\"#ed7953\"],[0.7777777777777778,\"#fb9f3a\"],[0.8888888888888888,\"#fdca26\"],[1.0,\"#f0f921\"]]}],\"contourcarpet\":[{\"type\":\"contourcarpet\",\"colorbar\":{\"outlinewidth\":0,\"ticks\":\"\"}}],\"contour\":[{\"type\":\"contour\",\"colorbar\":{\"outlinewidth\":0,\"ticks\":\"\"},\"colorscale\":[[0.0,\"#0d0887\"],[0.1111111111111111,\"#46039f\"],[0.2222222222222222,\"#7201a8\"],[0.3333333333333333,\"#9c179e\"],[0.4444444444444444,\"#bd3786\"],[0.5555555555555556,\"#d8576b\"],[0.6666666666666666,\"#ed7953\"],[0.7777777777777778,\"#fb9f3a\"],[0.8888888888888888,\"#fdca26\"],[1.0,\"#f0f921\"]]}],\"surface\":[{\"type\":\"surface\",\"colorbar\":{\"outlinewidth\":0,\"ticks\":\"\"},\"colorscale\":[[0.0,\"#0d0887\"],[0.1111111111111111,\"#46039f\"],[0.2222222222222222,\"#7201a8\"],[0.3333333333333333,\"#9c179e\"],[0.4444444444444444,\"#bd3786\"],[0.5555555555555556,\"#d8576b\"],[0.6666666666666666,\"#ed7953\"],[0.7777777777777778,\"#fb9f3a\"],[0.8888888888888888,\"#fdca26\"],[1.0,\"#f0f921\"]]}],\"mesh3d\":[{\"type\":\"mesh3d\",\"colorbar\":{\"outlinewidth\":0,\"ticks\":\"\"}}],\"scatter\":[{\"fillpattern\":{\"fillmode\":\"overlay\",\"size\":10,\"solidity\":0.2},\"type\":\"scatter\"}],\"parcoords\":[{\"type\":\"parcoords\",\"line\":{\"colorbar\":{\"outlinewidth\":0,\"ticks\":\"\"}}}],\"scatterpolargl\":[{\"type\":\"scatterpolargl\",\"marker\":{\"colorbar\":{\"outlinewidth\":0,\"ticks\":\"\"}}}],\"bar\":[{\"error_x\":{\"color\":\"#2a3f5f\"},\"error_y\":{\"color\":\"#2a3f5f\"},\"marker\":{\"line\":{\"color\":\"#E5ECF6\",\"width\":0.5},\"pattern\":{\"fillmode\":\"overlay\",\"size\":10,\"solidity\":0.2}},\"type\":\"bar\"}],\"scattergeo\":[{\"type\":\"scattergeo\",\"marker\":{\"colorbar\":{\"outlinewidth\":0,\"ticks\":\"\"}}}],\"scatterpolar\":[{\"type\":\"scatterpolar\",\"marker\":{\"colorbar\":{\"outlinewidth\":0,\"ticks\":\"\"}}}],\"histogram\":[{\"marker\":{\"pattern\":{\"fillmode\":\"overlay\",\"size\":10,\"solidity\":0.2}},\"type\":\"histogram\"}],\"scattergl\":[{\"type\":\"scattergl\",\"marker\":{\"colorbar\":{\"outlinewidth\":0,\"ticks\":\"\"}}}],\"scatter3d\":[{\"type\":\"scatter3d\",\"line\":{\"colorbar\":{\"outlinewidth\":0,\"ticks\":\"\"}},\"marker\":{\"colorbar\":{\"outlinewidth\":0,\"ticks\":\"\"}}}],\"scattermapbox\":[{\"type\":\"scattermapbox\",\"marker\":{\"colorbar\":{\"outlinewidth\":0,\"ticks\":\"\"}}}],\"scatterternary\":[{\"type\":\"scatterternary\",\"marker\":{\"colorbar\":{\"outlinewidth\":0,\"ticks\":\"\"}}}],\"scattercarpet\":[{\"type\":\"scattercarpet\",\"marker\":{\"colorbar\":{\"outlinewidth\":0,\"ticks\":\"\"}}}],\"carpet\":[{\"aaxis\":{\"endlinecolor\":\"#2a3f5f\",\"gridcolor\":\"white\",\"linecolor\":\"white\",\"minorgridcolor\":\"white\",\"startlinecolor\":\"#2a3f5f\"},\"baxis\":{\"endlinecolor\":\"#2a3f5f\",\"gridcolor\":\"white\",\"linecolor\":\"white\",\"minorgridcolor\":\"white\",\"startlinecolor\":\"#2a3f5f\"},\"type\":\"carpet\"}],\"table\":[{\"cells\":{\"fill\":{\"color\":\"#EBF0F8\"},\"line\":{\"color\":\"white\"}},\"header\":{\"fill\":{\"color\":\"#C8D4E3\"},\"line\":{\"color\":\"white\"}},\"type\":\"table\"}],\"barpolar\":[{\"marker\":{\"line\":{\"color\":\"#E5ECF6\",\"width\":0.5},\"pattern\":{\"fillmode\":\"overlay\",\"size\":10,\"solidity\":0.2}},\"type\":\"barpolar\"}],\"pie\":[{\"automargin\":true,\"type\":\"pie\"}]},\"layout\":{\"autotypenumbers\":\"strict\",\"colorway\":[\"#636efa\",\"#EF553B\",\"#00cc96\",\"#ab63fa\",\"#FFA15A\",\"#19d3f3\",\"#FF6692\",\"#B6E880\",\"#FF97FF\",\"#FECB52\"],\"font\":{\"color\":\"#2a3f5f\"},\"hovermode\":\"closest\",\"hoverlabel\":{\"align\":\"left\"},\"paper_bgcolor\":\"white\",\"plot_bgcolor\":\"#E5ECF6\",\"polar\":{\"bgcolor\":\"#E5ECF6\",\"angularaxis\":{\"gridcolor\":\"white\",\"linecolor\":\"white\",\"ticks\":\"\"},\"radialaxis\":{\"gridcolor\":\"white\",\"linecolor\":\"white\",\"ticks\":\"\"}},\"ternary\":{\"bgcolor\":\"#E5ECF6\",\"aaxis\":{\"gridcolor\":\"white\",\"linecolor\":\"white\",\"ticks\":\"\"},\"baxis\":{\"gridcolor\":\"white\",\"linecolor\":\"white\",\"ticks\":\"\"},\"caxis\":{\"gridcolor\":\"white\",\"linecolor\":\"white\",\"ticks\":\"\"}},\"coloraxis\":{\"colorbar\":{\"outlinewidth\":0,\"ticks\":\"\"}},\"colorscale\":{\"sequential\":[[0.0,\"#0d0887\"],[0.1111111111111111,\"#46039f\"],[0.2222222222222222,\"#7201a8\"],[0.3333333333333333,\"#9c179e\"],[0.4444444444444444,\"#bd3786\"],[0.5555555555555556,\"#d8576b\"],[0.6666666666666666,\"#ed7953\"],[0.7777777777777778,\"#fb9f3a\"],[0.8888888888888888,\"#fdca26\"],[1.0,\"#f0f921\"]],\"sequentialminus\":[[0.0,\"#0d0887\"],[0.1111111111111111,\"#46039f\"],[0.2222222222222222,\"#7201a8\"],[0.3333333333333333,\"#9c179e\"],[0.4444444444444444,\"#bd3786\"],[0.5555555555555556,\"#d8576b\"],[0.6666666666666666,\"#ed7953\"],[0.7777777777777778,\"#fb9f3a\"],[0.8888888888888888,\"#fdca26\"],[1.0,\"#f0f921\"]],\"diverging\":[[0,\"#8e0152\"],[0.1,\"#c51b7d\"],[0.2,\"#de77ae\"],[0.3,\"#f1b6da\"],[0.4,\"#fde0ef\"],[0.5,\"#f7f7f7\"],[0.6,\"#e6f5d0\"],[0.7,\"#b8e186\"],[0.8,\"#7fbc41\"],[0.9,\"#4d9221\"],[1,\"#276419\"]]},\"xaxis\":{\"gridcolor\":\"white\",\"linecolor\":\"white\",\"ticks\":\"\",\"title\":{\"standoff\":15},\"zerolinecolor\":\"white\",\"automargin\":true,\"zerolinewidth\":2},\"yaxis\":{\"gridcolor\":\"white\",\"linecolor\":\"white\",\"ticks\":\"\",\"title\":{\"standoff\":15},\"zerolinecolor\":\"white\",\"automargin\":true,\"zerolinewidth\":2},\"scene\":{\"xaxis\":{\"backgroundcolor\":\"#E5ECF6\",\"gridcolor\":\"white\",\"linecolor\":\"white\",\"showbackground\":true,\"ticks\":\"\",\"zerolinecolor\":\"white\",\"gridwidth\":2},\"yaxis\":{\"backgroundcolor\":\"#E5ECF6\",\"gridcolor\":\"white\",\"linecolor\":\"white\",\"showbackground\":true,\"ticks\":\"\",\"zerolinecolor\":\"white\",\"gridwidth\":2},\"zaxis\":{\"backgroundcolor\":\"#E5ECF6\",\"gridcolor\":\"white\",\"linecolor\":\"white\",\"showbackground\":true,\"ticks\":\"\",\"zerolinecolor\":\"white\",\"gridwidth\":2}},\"shapedefaults\":{\"line\":{\"color\":\"#2a3f5f\"}},\"annotationdefaults\":{\"arrowcolor\":\"#2a3f5f\",\"arrowhead\":0,\"arrowwidth\":1},\"geo\":{\"bgcolor\":\"white\",\"landcolor\":\"#E5ECF6\",\"subunitcolor\":\"white\",\"showland\":true,\"showlakes\":true,\"lakecolor\":\"white\"},\"title\":{\"x\":0.05},\"mapbox\":{\"style\":\"light\"}}}},                        {\"responsive\": true}                    ).then(function(){\n",
       "                            \n",
       "var gd = document.getElementById('d4f07f65-9598-4e48-8512-ed389d15eed2');\n",
       "var x = new MutationObserver(function (mutations, observer) {{\n",
       "        var display = window.getComputedStyle(gd).display;\n",
       "        if (!display || display === 'none') {{\n",
       "            console.log([gd, 'removed!']);\n",
       "            Plotly.purge(gd);\n",
       "            observer.disconnect();\n",
       "        }}\n",
       "}});\n",
       "\n",
       "// Listen for the removal of the full notebook cells\n",
       "var notebookContainer = gd.closest('#notebook-container');\n",
       "if (notebookContainer) {{\n",
       "    x.observe(notebookContainer, {childList: true});\n",
       "}}\n",
       "\n",
       "// Listen for the clearing of the current output cell\n",
       "var outputEl = gd.closest('.output');\n",
       "if (outputEl) {{\n",
       "    x.observe(outputEl, {childList: true});\n",
       "}}\n",
       "\n",
       "                        })                };                });            </script>        </div>"
      ]
     },
     "metadata": {},
     "output_type": "display_data"
    }
   ],
   "source": [
    "if config['tune_parameters']:\n",
    "    fig = optuna.visualization.plot_param_importances(study)\n",
    "    fig.show()"
   ]
  },
  {
   "cell_type": "code",
   "execution_count": 43,
   "id": "0b2e67ef",
   "metadata": {
    "execution": {
     "iopub.execute_input": "2023-12-01T03:13:10.622183Z",
     "iopub.status.busy": "2023-12-01T03:13:10.621248Z",
     "iopub.status.idle": "2023-12-01T03:13:11.136408Z",
     "shell.execute_reply": "2023-12-01T03:13:11.135295Z"
    },
    "papermill": {
     "duration": 0.584923,
     "end_time": "2023-12-01T03:13:11.139036",
     "exception": false,
     "start_time": "2023-12-01T03:13:10.554113",
     "status": "completed"
    },
    "tags": []
   },
   "outputs": [
    {
     "data": {
      "text/html": [
       "<div>                            <div id=\"c0391092-836c-4646-b81a-b63e8abb9738\" class=\"plotly-graph-div\" style=\"height:525px; width:3600px;\"></div>            <script type=\"text/javascript\">                require([\"plotly\"], function(Plotly) {                    window.PLOTLYENV=window.PLOTLYENV || {};                                    if (document.getElementById(\"c0391092-836c-4646-b81a-b63e8abb9738\")) {                    Plotly.newPlot(                        \"c0391092-836c-4646-b81a-b63e8abb9738\",                        [{\"marker\":{\"color\":[0,1,2,3,4,5,6,7,8,9,10,11,12,13,14,15,16,17,18,19,20,21,22,23,24,25,26,27,28,29,30,31,32,33,34,35,36,37,38,39,40,41,42,43,44,45,46,47,48,49,50,51,52,53,54,55,56,57,58,59,60,61,62,63,64,65,66,67,68,69,70,71,72,73,74,75,76,77,78,79,80,81,82,83,84,85,86,87,88,89,90,91,92,93,94,95,96,97,98,99],\"colorbar\":{\"title\":{\"text\":\"Trial\"},\"x\":1.0,\"xpad\":40},\"colorscale\":[[0.0,\"rgb(247,251,255)\"],[0.125,\"rgb(222,235,247)\"],[0.25,\"rgb(198,219,239)\"],[0.375,\"rgb(158,202,225)\"],[0.5,\"rgb(107,174,214)\"],[0.625,\"rgb(66,146,198)\"],[0.75,\"rgb(33,113,181)\"],[0.875,\"rgb(8,81,156)\"],[1.0,\"rgb(8,48,107)\"]],\"line\":{\"color\":\"Grey\",\"width\":0.5},\"showscale\":true},\"mode\":\"markers\",\"name\":\"Feasible Trial\",\"showlegend\":false,\"x\":[\"gbtree\",\"gbtree\",\"gblinear\",\"gblinear\",\"gblinear\",\"gblinear\",\"gbtree\",\"gblinear\",\"gblinear\",\"gbtree\",\"gbtree\",\"gbtree\",\"gbtree\",\"gbtree\",\"gbtree\",\"gbtree\",\"gbtree\",\"gbtree\",\"gbtree\",\"gbtree\",\"gbtree\",\"gbtree\",\"gbtree\",\"gbtree\",\"gbtree\",\"gbtree\",\"gbtree\",\"gbtree\",\"gbtree\",\"gbtree\",\"gbtree\",\"gbtree\",\"gbtree\",\"gbtree\",\"gbtree\",\"gblinear\",\"gblinear\",\"gblinear\",\"gblinear\",\"gblinear\",\"gblinear\",\"gblinear\",\"gblinear\",\"gblinear\",\"gblinear\",\"gblinear\",\"gblinear\",\"gblinear\",\"gblinear\",\"gblinear\",\"gblinear\",\"gblinear\",\"gblinear\",\"gblinear\",\"gblinear\",\"gblinear\",\"gblinear\",\"gblinear\",\"gblinear\",\"gblinear\",\"gblinear\",\"gblinear\",\"gblinear\",\"gblinear\",\"gblinear\",\"gblinear\",\"gblinear\",\"gblinear\",\"gblinear\",\"gblinear\",\"gblinear\",\"gblinear\",\"gblinear\",\"gblinear\",\"gblinear\",\"gblinear\",\"gblinear\",\"gblinear\",\"gblinear\",\"gblinear\",\"gblinear\",\"gblinear\",\"gblinear\",\"gblinear\",\"gblinear\",\"gblinear\",\"gblinear\",\"gblinear\",\"gblinear\",\"gblinear\",\"gblinear\",\"gblinear\",\"gblinear\",\"gblinear\",\"gblinear\",\"gblinear\",\"gblinear\",\"gblinear\",\"gblinear\",\"gblinear\"],\"y\":[0.031115471788052053,0.03315821553053749,0.031341369275330676,0.02642537967112377,0.026400361757812057,0.02649233446885514,0.033419218554547436,0.027702887231148506,0.03278180447772067,0.03046042524380314,0.03208196706379556,0.032880373234475985,0.03328825023378382,0.03248067487642837,0.0333100687992614,0.032607741738623415,0.030060931826186167,0.03337410129825953,0.033170732077579694,0.033144966511215374,0.032190790432469654,0.03279985441639027,0.03324769859486753,0.03283016282896717,0.033583102585589115,0.03330189395319447,0.032848402527294894,0.033444361709233546,0.030333362176801243,0.03348293605251325,0.033537135206033304,0.03362646646263695,0.03366935214534664,0.03374230714346416,0.033738895264813204,0.0336697544358217,0.033651651364447775,0.03339384389307872,0.033904354301016425,0.03364460748594256,0.033810081702918215,0.03384053812802845,0.033726120644636225,0.03340039819166629,0.03383446202377908,0.03364054662926117,0.03375474019625689,0.033789458623285966,0.03387754505653305,0.03368920480076741,0.03389426288240354,0.03381661323034683,0.03377141247980937,0.03380837766118932,0.033954894888330145,0.03370004387243283,0.033244620693214745,0.033108126571209984,0.03370257906146382,0.03353033421989044,0.033645829538140055,0.033843012593968824,0.0337664787287012,0.033767514816434,0.03368046067572639,0.03368365243317421,0.033565276563315934,0.033575455271371395,0.03363927903474567,0.03377442586317861,0.033381999095225955,0.0338348453382882,0.033837824564918906,0.03387609908793904,0.03362547591722219,0.03360667453030683,0.03385509648899075,0.033730894997631655,0.033467838774122155,0.03360854176534159,0.034190090598850954,0.03389782656878084,0.03402684795545334,0.03394323225974891,0.03392343273703239,0.03387770445464574,0.033925011537387036,0.033855453237147747,0.0340050066188167,0.03383711486379799,0.03418670908174527,0.03414005856742068,0.03409420124846657,0.033632413530319004,0.034053907682685305,0.03381157700902335,0.03371789266586499,0.03401381526214142,0.03383882649591323,0.03397393916760776],\"type\":\"scatter\",\"xaxis\":\"x\",\"yaxis\":\"y\"},{\"marker\":{\"color\":[0,1,2,3,4,5,6,7,8,9,10,11,12,13,14,15,16,17,18,19,20,21,22,23,24,25,26,27,28,29,30,31,32,33,34,35,36,37,38,39,40,41,42,43,44,45,46,47,48,49,50,51,52,53,54,55,56,57,58,59,60,61,62,63,64,65,66,67,68,69,70,71,72,73,74,75,76,77,78,79,80,81,82,83,84,85,86,87,88,89,90,91,92,93,94,95,96,97,98,99],\"colorbar\":{\"title\":{\"text\":\"Trial\"},\"x\":1.0,\"xpad\":40},\"colorscale\":[[0.0,\"rgb(247,251,255)\"],[0.125,\"rgb(222,235,247)\"],[0.25,\"rgb(198,219,239)\"],[0.375,\"rgb(158,202,225)\"],[0.5,\"rgb(107,174,214)\"],[0.625,\"rgb(66,146,198)\"],[0.75,\"rgb(33,113,181)\"],[0.875,\"rgb(8,81,156)\"],[1.0,\"rgb(8,48,107)\"]],\"line\":{\"color\":\"Grey\",\"width\":0.5},\"showscale\":false},\"mode\":\"markers\",\"name\":\"Feasible Trial\",\"showlegend\":false,\"x\":[0.7084389250972783,0.6098645905367811,0.6862239049213502,0.7371908910991176,0.35352099864704356,0.5962681249640515,0.2689398189027805,0.6086494959367501,0.41441015803583925,0.7525775726824773,0.14661626603011083,0.48427057151788544,0.2747909935707238,0.2593377421214439,0.25268216416936073,0.11650539915002944,0.879236328956552,0.20500170628084333,0.16863056151171674,0.3563040196078704,0.20148492698840437,0.10241478705609501,0.23905942314339068,0.2982595367727406,0.2026634833363096,0.21712773841576127,0.16426933817252345,0.18016151464357014,0.3159757081892424,0.10182308860927725,0.1149634114266665,0.1082579402100845,0.11213417818310252,0.14704561758242768,0.15118034598407967,0.1749198694982038,0.15047140316069377,0.1610517817631914,0.22547215754761313,0.22284686307194057,0.32649220658901806,0.23142009836903193,0.3306655916693186,0.2768421852770976,0.23488805513897754,0.377485169307003,0.24332080418525,0.3127931403216214,0.39168188363807666,0.4009202373652673,0.43761293981173366,0.43351159386159227,0.4504712697038958,0.4308959688086533,0.5268127533786527,0.5590123570737399,0.5033141114952121,0.36028156221513086,0.3874674696397393,0.2848622739368748,0.26613713106600867,0.4560181492835153,0.4731597376042832,0.37484434239237624,0.4060686470021077,0.500536891449238,0.5400213097248291,0.35482923706435465,0.23751695060502998,0.2930882398422309,0.464756944366898,0.43746404623253116,0.4345524417984891,0.4577630690224173,0.4173159428819777,0.4599313961504101,0.4870241118407713,0.4844827049912845,0.532138525408919,0.4819352724410803,0.5849188987846436,0.5831667313945292,0.6094700960084979,0.592852128733278,0.6005632911707824,0.6275439974161829,0.6300634077003009,0.6007789672347225,0.6271253126789037,0.6444506453119412,0.5864767382358248,0.5931028851088848,0.5809272119976385,0.5847971171470973,0.6209771688046846,0.6296650669522991,0.6533954005546474,0.5755192876307146,0.5764564549806024,0.6151513513888752],\"y\":[0.031115471788052053,0.03315821553053749,0.031341369275330676,0.02642537967112377,0.026400361757812057,0.02649233446885514,0.033419218554547436,0.027702887231148506,0.03278180447772067,0.03046042524380314,0.03208196706379556,0.032880373234475985,0.03328825023378382,0.03248067487642837,0.0333100687992614,0.032607741738623415,0.030060931826186167,0.03337410129825953,0.033170732077579694,0.033144966511215374,0.032190790432469654,0.03279985441639027,0.03324769859486753,0.03283016282896717,0.033583102585589115,0.03330189395319447,0.032848402527294894,0.033444361709233546,0.030333362176801243,0.03348293605251325,0.033537135206033304,0.03362646646263695,0.03366935214534664,0.03374230714346416,0.033738895264813204,0.0336697544358217,0.033651651364447775,0.03339384389307872,0.033904354301016425,0.03364460748594256,0.033810081702918215,0.03384053812802845,0.033726120644636225,0.03340039819166629,0.03383446202377908,0.03364054662926117,0.03375474019625689,0.033789458623285966,0.03387754505653305,0.03368920480076741,0.03389426288240354,0.03381661323034683,0.03377141247980937,0.03380837766118932,0.033954894888330145,0.03370004387243283,0.033244620693214745,0.033108126571209984,0.03370257906146382,0.03353033421989044,0.033645829538140055,0.033843012593968824,0.0337664787287012,0.033767514816434,0.03368046067572639,0.03368365243317421,0.033565276563315934,0.033575455271371395,0.03363927903474567,0.03377442586317861,0.033381999095225955,0.0338348453382882,0.033837824564918906,0.03387609908793904,0.03362547591722219,0.03360667453030683,0.03385509648899075,0.033730894997631655,0.033467838774122155,0.03360854176534159,0.034190090598850954,0.03389782656878084,0.03402684795545334,0.03394323225974891,0.03392343273703239,0.03387770445464574,0.033925011537387036,0.033855453237147747,0.0340050066188167,0.03383711486379799,0.03418670908174527,0.03414005856742068,0.03409420124846657,0.033632413530319004,0.034053907682685305,0.03381157700902335,0.03371789266586499,0.03401381526214142,0.03383882649591323,0.03397393916760776],\"type\":\"scatter\",\"xaxis\":\"x2\",\"yaxis\":\"y2\"},{\"marker\":{\"color\":[0,1,2,3,4,5,6,7,8,9,10,11,12,13,14,15,16,17,18,19,20,21,22,23,24,25,26,27,28,29,30,31,32,33,34,35,36,37,38,39,40,41,42,43,44,45,46,47,48,49,50,51,52,53,54,55,56,57,58,59,60,61,62,63,64,65,66,67,68,69,70,71,72,73,74,75,76,77,78,79,80,81,82,83,84,85,86,87,88,89,90,91,92,93,94,95,96,97,98,99],\"colorbar\":{\"title\":{\"text\":\"Trial\"},\"x\":1.0,\"xpad\":40},\"colorscale\":[[0.0,\"rgb(247,251,255)\"],[0.125,\"rgb(222,235,247)\"],[0.25,\"rgb(198,219,239)\"],[0.375,\"rgb(158,202,225)\"],[0.5,\"rgb(107,174,214)\"],[0.625,\"rgb(66,146,198)\"],[0.75,\"rgb(33,113,181)\"],[0.875,\"rgb(8,81,156)\"],[1.0,\"rgb(8,48,107)\"]],\"line\":{\"color\":\"Grey\",\"width\":0.5},\"showscale\":false},\"mode\":\"markers\",\"name\":\"Feasible Trial\",\"showlegend\":false,\"x\":[0.001312285144465285,1.3775508095166589,0.025766649486899672,0.1279512192357368,1.33821949707266e-7,1.8673936880590722,0.04804273593825478,0.0001702407756055369,1.2877169456945174e-7,0.00032765432957364326,9.112856957745397,0.23274936689640505,8.63675606163148,5.771736739545799,0.013263693840124663,0.013447241206242341,0.004316995863566481,0.09001637600953773,0.17126220650866872,0.06554252723467162,0.8141876382464632,0.011628252142413798,0.041706633249937924,0.006263698969830561,0.48737537765100447,0.4834313070635639,0.18479246981929648,0.6134816802055005,0.770117345362237,1.573191389513083,2.324474294790418,2.2596836240361835,2.9129398237990864,2.5177480297429446,2.8103194949249435,3.31583093357408,3.9379215619836767,3.4136809935265484,9.879734173763612,8.214952877716424,1.3632771235428216,9.71416079793443,1.4420263048194322,8.26638963892572,0.30779375253359303,0.33717378368474976,1.211489523186331,1.1946233189924138,9.406516190916323,8.976649380054832,0.3696960571268043,0.3040668035033799,0.22416863327139805,0.07864874531019103,4.817490843214988,5.0715690559235025,5.704239963837205,9.753454101886057,0.9247718565099334,4.224601830264415,0.6522263706629443,0.13175429008686895,0.10676005222713338,0.3883028736076065,0.1433644229214574,0.03833258422774014,5.047791602590974,1.7757810330705677,0.6882808212243688,0.2640057410914673,2.3958095687684047,0.2681208522451114,0.1677855555877639,0.13250564403444182,0.06324738740315951,0.14619285323249726,0.025598270102494575,0.017257167974933266,5.0502970458816385,0.49113638195498943,0.9659465802070879,1.7636361344356153,1.0470970111514144,1.0204669006027536,1.8075410588618048,0.9754723905888446,1.0886479692881892,1.7756042225785258,1.0358468330128976,3.245433973914431,0.9474407921053525,1.1047542564791453,0.9387848531171143,0.6810299489545687,0.9857421701368001,1.051117483995175,0.5178776350423913,0.9927190331127221,0.8042850382552533,1.2590994502354131],\"y\":[0.031115471788052053,0.03315821553053749,0.031341369275330676,0.02642537967112377,0.026400361757812057,0.02649233446885514,0.033419218554547436,0.027702887231148506,0.03278180447772067,0.03046042524380314,0.03208196706379556,0.032880373234475985,0.03328825023378382,0.03248067487642837,0.0333100687992614,0.032607741738623415,0.030060931826186167,0.03337410129825953,0.033170732077579694,0.033144966511215374,0.032190790432469654,0.03279985441639027,0.03324769859486753,0.03283016282896717,0.033583102585589115,0.03330189395319447,0.032848402527294894,0.033444361709233546,0.030333362176801243,0.03348293605251325,0.033537135206033304,0.03362646646263695,0.03366935214534664,0.03374230714346416,0.033738895264813204,0.0336697544358217,0.033651651364447775,0.03339384389307872,0.033904354301016425,0.03364460748594256,0.033810081702918215,0.03384053812802845,0.033726120644636225,0.03340039819166629,0.03383446202377908,0.03364054662926117,0.03375474019625689,0.033789458623285966,0.03387754505653305,0.03368920480076741,0.03389426288240354,0.03381661323034683,0.03377141247980937,0.03380837766118932,0.033954894888330145,0.03370004387243283,0.033244620693214745,0.033108126571209984,0.03370257906146382,0.03353033421989044,0.033645829538140055,0.033843012593968824,0.0337664787287012,0.033767514816434,0.03368046067572639,0.03368365243317421,0.033565276563315934,0.033575455271371395,0.03363927903474567,0.03377442586317861,0.033381999095225955,0.0338348453382882,0.033837824564918906,0.03387609908793904,0.03362547591722219,0.03360667453030683,0.03385509648899075,0.033730894997631655,0.033467838774122155,0.03360854176534159,0.034190090598850954,0.03389782656878084,0.03402684795545334,0.03394323225974891,0.03392343273703239,0.03387770445464574,0.033925011537387036,0.033855453237147747,0.0340050066188167,0.03383711486379799,0.03418670908174527,0.03414005856742068,0.03409420124846657,0.033632413530319004,0.034053907682685305,0.03381157700902335,0.03371789266586499,0.03401381526214142,0.03383882649591323,0.03397393916760776],\"type\":\"scatter\",\"xaxis\":\"x3\",\"yaxis\":\"y3\"},{\"marker\":{\"color\":[0,1,2,3,4,5,6,7,8,9,10,11,12,13,14,15,16,17,18,19,20,21,22,23,24,25,26,27,28,29,30,31,32,33,34,35,36,37,38,39,40,41,42,43,44,45,46,47,48,49,50,51,52,53,54,55,56,57,58,59,60,61,62,63,64,65,66,67,68,69,70,71,72,73,74,75,76,77,78,79,80,81,82,83,84,85,86,87,88,89,90,91,92,93,94,95,96,97,98,99],\"colorbar\":{\"title\":{\"text\":\"Trial\"},\"x\":1.0,\"xpad\":40},\"colorscale\":[[0.0,\"rgb(247,251,255)\"],[0.125,\"rgb(222,235,247)\"],[0.25,\"rgb(198,219,239)\"],[0.375,\"rgb(158,202,225)\"],[0.5,\"rgb(107,174,214)\"],[0.625,\"rgb(66,146,198)\"],[0.75,\"rgb(33,113,181)\"],[0.875,\"rgb(8,81,156)\"],[1.0,\"rgb(8,48,107)\"]],\"line\":{\"color\":\"Grey\",\"width\":0.5},\"showscale\":false},\"mode\":\"markers\",\"name\":\"Feasible Trial\",\"showlegend\":false,\"x\":[\"depthwise\",\"lossguide\",\"depthwise\",\"depthwise\",\"depthwise\",\"lossguide\",\"lossguide\",\"lossguide\",\"lossguide\",\"depthwise\",\"lossguide\",\"lossguide\",\"lossguide\",\"lossguide\",\"lossguide\",\"lossguide\",\"lossguide\",\"lossguide\",\"lossguide\",\"lossguide\",\"lossguide\",\"lossguide\",\"lossguide\",\"lossguide\",\"lossguide\",\"lossguide\",\"depthwise\",\"lossguide\",\"lossguide\",\"depthwise\",\"depthwise\",\"depthwise\",\"depthwise\",\"depthwise\",\"depthwise\",\"depthwise\",\"depthwise\",\"depthwise\",\"depthwise\",\"depthwise\",\"depthwise\",\"depthwise\",\"depthwise\",\"depthwise\",\"depthwise\",\"depthwise\",\"depthwise\",\"depthwise\",\"depthwise\",\"depthwise\",\"depthwise\",\"depthwise\",\"depthwise\",\"depthwise\",\"depthwise\",\"depthwise\",\"depthwise\",\"depthwise\",\"depthwise\",\"depthwise\",\"depthwise\",\"depthwise\",\"depthwise\",\"depthwise\",\"depthwise\",\"depthwise\",\"depthwise\",\"depthwise\",\"depthwise\",\"depthwise\",\"depthwise\",\"depthwise\",\"depthwise\",\"depthwise\",\"depthwise\",\"depthwise\",\"depthwise\",\"depthwise\",\"depthwise\",\"depthwise\",\"depthwise\",\"depthwise\",\"depthwise\",\"depthwise\",\"depthwise\",\"depthwise\",\"depthwise\",\"depthwise\",\"depthwise\",\"depthwise\",\"depthwise\",\"depthwise\",\"depthwise\",\"depthwise\",\"depthwise\",\"depthwise\",\"depthwise\",\"depthwise\",\"depthwise\",\"depthwise\"],\"y\":[0.031115471788052053,0.03315821553053749,0.031341369275330676,0.02642537967112377,0.026400361757812057,0.02649233446885514,0.033419218554547436,0.027702887231148506,0.03278180447772067,0.03046042524380314,0.03208196706379556,0.032880373234475985,0.03328825023378382,0.03248067487642837,0.0333100687992614,0.032607741738623415,0.030060931826186167,0.03337410129825953,0.033170732077579694,0.033144966511215374,0.032190790432469654,0.03279985441639027,0.03324769859486753,0.03283016282896717,0.033583102585589115,0.03330189395319447,0.032848402527294894,0.033444361709233546,0.030333362176801243,0.03348293605251325,0.033537135206033304,0.03362646646263695,0.03366935214534664,0.03374230714346416,0.033738895264813204,0.0336697544358217,0.033651651364447775,0.03339384389307872,0.033904354301016425,0.03364460748594256,0.033810081702918215,0.03384053812802845,0.033726120644636225,0.03340039819166629,0.03383446202377908,0.03364054662926117,0.03375474019625689,0.033789458623285966,0.03387754505653305,0.03368920480076741,0.03389426288240354,0.03381661323034683,0.03377141247980937,0.03380837766118932,0.033954894888330145,0.03370004387243283,0.033244620693214745,0.033108126571209984,0.03370257906146382,0.03353033421989044,0.033645829538140055,0.033843012593968824,0.0337664787287012,0.033767514816434,0.03368046067572639,0.03368365243317421,0.033565276563315934,0.033575455271371395,0.03363927903474567,0.03377442586317861,0.033381999095225955,0.0338348453382882,0.033837824564918906,0.03387609908793904,0.03362547591722219,0.03360667453030683,0.03385509648899075,0.033730894997631655,0.033467838774122155,0.03360854176534159,0.034190090598850954,0.03389782656878084,0.03402684795545334,0.03394323225974891,0.03392343273703239,0.03387770445464574,0.033925011537387036,0.033855453237147747,0.0340050066188167,0.03383711486379799,0.03418670908174527,0.03414005856742068,0.03409420124846657,0.033632413530319004,0.034053907682685305,0.03381157700902335,0.03371789266586499,0.03401381526214142,0.03383882649591323,0.03397393916760776],\"type\":\"scatter\",\"xaxis\":\"x4\",\"yaxis\":\"y4\"},{\"marker\":{\"color\":[0,1,2,3,4,5,6,7,8,9,10,11,12,13,14,15,16,17,18,19,20,21,22,23,24,25,26,27,28,29,30,31,32,33,34,35,36,37,38,39,40,41,42,43,44,45,46,47,48,49,50,51,52,53,54,55,56,57,58,59,60,61,62,63,64,65,66,67,68,69,70,71,72,73,74,75,76,77,78,79,80,81,82,83,84,85,86,87,88,89,90,91,92,93,94,95,96,97,98,99],\"colorbar\":{\"title\":{\"text\":\"Trial\"},\"x\":1.0,\"xpad\":40},\"colorscale\":[[0.0,\"rgb(247,251,255)\"],[0.125,\"rgb(222,235,247)\"],[0.25,\"rgb(198,219,239)\"],[0.375,\"rgb(158,202,225)\"],[0.5,\"rgb(107,174,214)\"],[0.625,\"rgb(66,146,198)\"],[0.75,\"rgb(33,113,181)\"],[0.875,\"rgb(8,81,156)\"],[1.0,\"rgb(8,48,107)\"]],\"line\":{\"color\":\"Grey\",\"width\":0.5},\"showscale\":false},\"mode\":\"markers\",\"name\":\"Feasible Trial\",\"showlegend\":false,\"x\":[0.04225165068761518,0.0009001307448421486,0.03159276173811764,0.014173222541703279,0.0857511726716319,0.029966322839371704,0.00045075895868430175,0.0838926902075802,0.2348013924229771,0.003397881618409395,0.00010627124953848819,0.0010271859547635281,0.0005721092810263652,0.00011421849925695701,0.00036603129959476854,0.0003785742512734702,0.003475388885427427,0.0002986154893285486,0.0025618327452448476,0.00022061513369040989,0.001476311525544545,0.00029123118981164647,0.0005907627035040958,0.00020636428833034647,0.0005173137634681166,0.0017039626435565514,0.0007128230877851291,0.00556760140774394,0.007555147915565075,0.0051943014102518665,0.006641515083332379,0.0047317186686458915,0.008911452649383445,0.0098690032032352,0.011873696566978774,0.012906446451690983,0.01279715744203446,0.01735569961065771,0.023778904603228374,0.02494084506459482,0.048902225004869564,0.03915474874018222,0.04824825770913174,0.04692552026399692,0.025526520750387485,0.026939420327428503,0.06614017193716762,0.07726300875879305,0.19251211320266404,0.11622808087534824,0.12738557594030686,0.1461641921231003,0.15236762292110229,0.43471055959919447,0.17542204744974896,0.2342893675150681,0.019852590347206954,0.03409592311608691,0.06334125261154874,0.10653693879694154,0.039081806072576275,0.16995971700849774,0.20770756616044164,0.09549365454349083,0.3489642998441416,0.18745994890573242,0.3047364287163233,0.13360102867414078,0.07596843498986205,0.19239833636147263,0.2801827361963755,0.15321399498839822,0.1673753644188092,0.16459147385487624,0.10538736108089611,0.48006687596301634,0.2553874228110118,0.2390203955486862,0.12470637437997754,0.08671080428187705,0.354087361765763,0.37027819881716717,0.34802568190583155,0.35582369987578666,0.3541053589569504,0.3786774594501719,0.3652835813214247,0.34299094372536093,0.3984082449007067,0.3896856307060463,0.48742445776394877,0.48651279347110216,0.4919754240259861,0.4606782977737697,0.4955777984315599,0.4878334697206667,0.28714773473689903,0.30902698057742467,0.2947674414533291,0.4235732574829656],\"y\":[0.031115471788052053,0.03315821553053749,0.031341369275330676,0.02642537967112377,0.026400361757812057,0.02649233446885514,0.033419218554547436,0.027702887231148506,0.03278180447772067,0.03046042524380314,0.03208196706379556,0.032880373234475985,0.03328825023378382,0.03248067487642837,0.0333100687992614,0.032607741738623415,0.030060931826186167,0.03337410129825953,0.033170732077579694,0.033144966511215374,0.032190790432469654,0.03279985441639027,0.03324769859486753,0.03283016282896717,0.033583102585589115,0.03330189395319447,0.032848402527294894,0.033444361709233546,0.030333362176801243,0.03348293605251325,0.033537135206033304,0.03362646646263695,0.03366935214534664,0.03374230714346416,0.033738895264813204,0.0336697544358217,0.033651651364447775,0.03339384389307872,0.033904354301016425,0.03364460748594256,0.033810081702918215,0.03384053812802845,0.033726120644636225,0.03340039819166629,0.03383446202377908,0.03364054662926117,0.03375474019625689,0.033789458623285966,0.03387754505653305,0.03368920480076741,0.03389426288240354,0.03381661323034683,0.03377141247980937,0.03380837766118932,0.033954894888330145,0.03370004387243283,0.033244620693214745,0.033108126571209984,0.03370257906146382,0.03353033421989044,0.033645829538140055,0.033843012593968824,0.0337664787287012,0.033767514816434,0.03368046067572639,0.03368365243317421,0.033565276563315934,0.033575455271371395,0.03363927903474567,0.03377442586317861,0.033381999095225955,0.0338348453382882,0.033837824564918906,0.03387609908793904,0.03362547591722219,0.03360667453030683,0.03385509648899075,0.033730894997631655,0.033467838774122155,0.03360854176534159,0.034190090598850954,0.03389782656878084,0.03402684795545334,0.03394323225974891,0.03392343273703239,0.03387770445464574,0.033925011537387036,0.033855453237147747,0.0340050066188167,0.03383711486379799,0.03418670908174527,0.03414005856742068,0.03409420124846657,0.033632413530319004,0.034053907682685305,0.03381157700902335,0.03371789266586499,0.03401381526214142,0.03383882649591323,0.03397393916760776],\"type\":\"scatter\",\"xaxis\":\"x5\",\"yaxis\":\"y5\"},{\"marker\":{\"color\":[0,1,2,3,4,5,6,7,8,9,10,11,12,13,14,15,16,17,18,19,20,21,22,23,24,25,26,27,28,29,30,31,32,33,34,35,36,37,38,39,40,41,42,43,44,45,46,47,48,49,50,51,52,53,54,55,56,57,58,59,60,61,62,63,64,65,66,67,68,69,70,71,72,73,74,75,76,77,78,79,80,81,82,83,84,85,86,87,88,89,90,91,92,93,94,95,96,97,98,99],\"colorbar\":{\"title\":{\"text\":\"Trial\"},\"x\":1.0,\"xpad\":40},\"colorscale\":[[0.0,\"rgb(247,251,255)\"],[0.125,\"rgb(222,235,247)\"],[0.25,\"rgb(198,219,239)\"],[0.375,\"rgb(158,202,225)\"],[0.5,\"rgb(107,174,214)\"],[0.625,\"rgb(66,146,198)\"],[0.75,\"rgb(33,113,181)\"],[0.875,\"rgb(8,81,156)\"],[1.0,\"rgb(8,48,107)\"]],\"line\":{\"color\":\"Grey\",\"width\":0.5},\"showscale\":false},\"mode\":\"markers\",\"name\":\"Feasible Trial\",\"showlegend\":false,\"x\":[13,9,4,4,11,15,5,12,5,16,20,8,7,7,6,3,10,6,3,6,9,6,5,8,6,3,5,8,10,14,15,15,15,17,18,19,18,18,18,20,18,17,17,17,19,19,13,13,16,16,19,19,20,19,16,16,17,14,16,18,20,19,19,17,20,18,16,19,14,17,16,19,19,18,18,20,18,12,17,18,15,15,15,15,15,15,15,14,15,15,12,15,12,12,11,11,10,11,11,12],\"y\":[0.031115471788052053,0.03315821553053749,0.031341369275330676,0.02642537967112377,0.026400361757812057,0.02649233446885514,0.033419218554547436,0.027702887231148506,0.03278180447772067,0.03046042524380314,0.03208196706379556,0.032880373234475985,0.03328825023378382,0.03248067487642837,0.0333100687992614,0.032607741738623415,0.030060931826186167,0.03337410129825953,0.033170732077579694,0.033144966511215374,0.032190790432469654,0.03279985441639027,0.03324769859486753,0.03283016282896717,0.033583102585589115,0.03330189395319447,0.032848402527294894,0.033444361709233546,0.030333362176801243,0.03348293605251325,0.033537135206033304,0.03362646646263695,0.03366935214534664,0.03374230714346416,0.033738895264813204,0.0336697544358217,0.033651651364447775,0.03339384389307872,0.033904354301016425,0.03364460748594256,0.033810081702918215,0.03384053812802845,0.033726120644636225,0.03340039819166629,0.03383446202377908,0.03364054662926117,0.03375474019625689,0.033789458623285966,0.03387754505653305,0.03368920480076741,0.03389426288240354,0.03381661323034683,0.03377141247980937,0.03380837766118932,0.033954894888330145,0.03370004387243283,0.033244620693214745,0.033108126571209984,0.03370257906146382,0.03353033421989044,0.033645829538140055,0.033843012593968824,0.0337664787287012,0.033767514816434,0.03368046067572639,0.03368365243317421,0.033565276563315934,0.033575455271371395,0.03363927903474567,0.03377442586317861,0.033381999095225955,0.0338348453382882,0.033837824564918906,0.03387609908793904,0.03362547591722219,0.03360667453030683,0.03385509648899075,0.033730894997631655,0.033467838774122155,0.03360854176534159,0.034190090598850954,0.03389782656878084,0.03402684795545334,0.03394323225974891,0.03392343273703239,0.03387770445464574,0.033925011537387036,0.033855453237147747,0.0340050066188167,0.03383711486379799,0.03418670908174527,0.03414005856742068,0.03409420124846657,0.033632413530319004,0.034053907682685305,0.03381157700902335,0.03371789266586499,0.03401381526214142,0.03383882649591323,0.03397393916760776],\"type\":\"scatter\",\"xaxis\":\"x6\",\"yaxis\":\"y6\"},{\"marker\":{\"color\":[0,1,2,3,4,5,6,7,8,9,10,11,12,13,14,15,16,17,18,19,20,21,22,23,24,25,26,27,28,29,30,31,32,33,34,35,36,37,38,39,40,41,42,43,44,45,46,47,48,49,50,51,52,53,54,55,56,57,58,59,60,61,62,63,64,65,66,67,68,69,70,71,72,73,74,75,76,77,78,79,80,81,82,83,84,85,86,87,88,89,90,91,92,93,94,95,96,97,98,99],\"colorbar\":{\"title\":{\"text\":\"Trial\"},\"x\":1.0,\"xpad\":40},\"colorscale\":[[0.0,\"rgb(247,251,255)\"],[0.125,\"rgb(222,235,247)\"],[0.25,\"rgb(198,219,239)\"],[0.375,\"rgb(158,202,225)\"],[0.5,\"rgb(107,174,214)\"],[0.625,\"rgb(66,146,198)\"],[0.75,\"rgb(33,113,181)\"],[0.875,\"rgb(8,81,156)\"],[1.0,\"rgb(8,48,107)\"]],\"line\":{\"color\":\"Grey\",\"width\":0.5},\"showscale\":false},\"mode\":\"markers\",\"name\":\"Feasible Trial\",\"showlegend\":false,\"x\":[355,231,30,472,798,854,67,60,975,662,240,224,189,124,421,524,395,633,599,706,325,539,445,763,633,612,897,697,744,325,315,336,329,286,257,157,140,262,152,144,22,21,18,78,84,84,14,10,194,203,102,100,100,180,55,54,217,119,53,384,167,109,56,112,188,46,134,75,231,110,488,95,158,169,277,167,196,232,197,1001,135,138,297,295,372,359,385,390,419,453,558,547,518,553,562,562,416,603,587,495],\"y\":[0.031115471788052053,0.03315821553053749,0.031341369275330676,0.02642537967112377,0.026400361757812057,0.02649233446885514,0.033419218554547436,0.027702887231148506,0.03278180447772067,0.03046042524380314,0.03208196706379556,0.032880373234475985,0.03328825023378382,0.03248067487642837,0.0333100687992614,0.032607741738623415,0.030060931826186167,0.03337410129825953,0.033170732077579694,0.033144966511215374,0.032190790432469654,0.03279985441639027,0.03324769859486753,0.03283016282896717,0.033583102585589115,0.03330189395319447,0.032848402527294894,0.033444361709233546,0.030333362176801243,0.03348293605251325,0.033537135206033304,0.03362646646263695,0.03366935214534664,0.03374230714346416,0.033738895264813204,0.0336697544358217,0.033651651364447775,0.03339384389307872,0.033904354301016425,0.03364460748594256,0.033810081702918215,0.03384053812802845,0.033726120644636225,0.03340039819166629,0.03383446202377908,0.03364054662926117,0.03375474019625689,0.033789458623285966,0.03387754505653305,0.03368920480076741,0.03389426288240354,0.03381661323034683,0.03377141247980937,0.03380837766118932,0.033954894888330145,0.03370004387243283,0.033244620693214745,0.033108126571209984,0.03370257906146382,0.03353033421989044,0.033645829538140055,0.033843012593968824,0.0337664787287012,0.033767514816434,0.03368046067572639,0.03368365243317421,0.033565276563315934,0.033575455271371395,0.03363927903474567,0.03377442586317861,0.033381999095225955,0.0338348453382882,0.033837824564918906,0.03387609908793904,0.03362547591722219,0.03360667453030683,0.03385509648899075,0.033730894997631655,0.033467838774122155,0.03360854176534159,0.034190090598850954,0.03389782656878084,0.03402684795545334,0.03394323225974891,0.03392343273703239,0.03387770445464574,0.033925011537387036,0.033855453237147747,0.0340050066188167,0.03383711486379799,0.03418670908174527,0.03414005856742068,0.03409420124846657,0.033632413530319004,0.034053907682685305,0.03381157700902335,0.03371789266586499,0.03401381526214142,0.03383882649591323,0.03397393916760776],\"type\":\"scatter\",\"xaxis\":\"x7\",\"yaxis\":\"y7\"},{\"marker\":{\"color\":[0,1,2,3,4,5,6,7,8,9,10,11,12,13,14,15,16,17,18,19,20,21,22,23,24,25,26,27,28,29,30,31,32,33,34,35,36,37,38,39,40,41,42,43,44,45,46,47,48,49,50,51,52,53,54,55,56,57,58,59,60,61,62,63,64,65,66,67,68,69,70,71,72,73,74,75,76,77,78,79,80,81,82,83,84,85,86,87,88,89,90,91,92,93,94,95,96,97,98,99],\"colorbar\":{\"title\":{\"text\":\"Trial\"},\"x\":1.0,\"xpad\":40},\"colorscale\":[[0.0,\"rgb(247,251,255)\"],[0.125,\"rgb(222,235,247)\"],[0.25,\"rgb(198,219,239)\"],[0.375,\"rgb(158,202,225)\"],[0.5,\"rgb(107,174,214)\"],[0.625,\"rgb(66,146,198)\"],[0.75,\"rgb(33,113,181)\"],[0.875,\"rgb(8,81,156)\"],[1.0,\"rgb(8,48,107)\"]],\"line\":{\"color\":\"Grey\",\"width\":0.5},\"showscale\":false},\"mode\":\"markers\",\"name\":\"Feasible Trial\",\"showlegend\":false,\"x\":[1.1401453684341645e-6,0.00032322144408656104,0.012387193356687441,1.1357568475717165e-7,1.6020306133673602e-7,0.05948390598210354,0.03545067890132244,0.00012384114535049298,0.000017374231563348805,2.886969095150295e-7,0.6742354972160761,0.0026883788729781207,0.0007956962692607306,0.0033932286973608495,0.10049330226358504,0.8483091311829903,0.0746852622213357,0.08787562224917995,0.014639762975647756,0.20473605759185692,0.01799459285495173,0.09286469180627929,0.2981299877641672,0.046255439527159645,0.2648969353897298,0.27442078696667827,0.7035561433510664,0.022881974878211912,0.005822298362831168,0.021604432390458794,0.018601782380302547,0.0224348297469932,0.006079848796360472,0.0071534645554103965,0.005791570235043532,0.0013099992488226075,0.0012438264123506048,0.008697101088621586,0.004903904015126869,0.0002823207430826724,0.001978665021350645,0.0020393104146977084,0.0029390055959477353,0.0007121924766198861,0.007145330907718787,0.0025290611212909733,0.00953136897938704,0.0002642957518693499,0.00017803682441599894,0.0000621587975499637,0.00045235966240287495,0.0007456162845556942,0.0004914233833091219,0.0001416672182908371,0.0010177064880912143,0.0016616155837867654,0.0035281203259368344,0.000488684056257825,0.0012680133014226509,0.00002480439671357955,0.003831586820930335,0.0007730356175276202,0.00017267305566344044,0.0005106457283953268,0.0011340180978469507,0.0022935870383325014,0.00008774573680271108,0.0003440588459382934,0.0008990278911310785,0.010383106441583495,0.0018867393769446555,0.0007345870200535698,0.0007849099407582141,0.0007857554525910876,0.00034107696119240664,0.004363370269569247,0.0016311782458392288,0.0015381513086183017,0.00020920259365110407,0.00045462622568145526,0.002259331874550791,0.0022546165642042234,0.004312054706567166,0.004792483436206613,0.004822018052134972,0.004388900327802317,0.013540215845608244,0.011439631479624436,0.016660768336181176,0.029715259888468192,0.01208421880690211,0.005640852678519866,0.01229922492610418,0.01422365516140129,0.014989001181080252,0.043452160733125675,0.01543338329307549,0.0076040110203434205,0.006502166222657814,0.007949172569467639],\"y\":[0.031115471788052053,0.03315821553053749,0.031341369275330676,0.02642537967112377,0.026400361757812057,0.02649233446885514,0.033419218554547436,0.027702887231148506,0.03278180447772067,0.03046042524380314,0.03208196706379556,0.032880373234475985,0.03328825023378382,0.03248067487642837,0.0333100687992614,0.032607741738623415,0.030060931826186167,0.03337410129825953,0.033170732077579694,0.033144966511215374,0.032190790432469654,0.03279985441639027,0.03324769859486753,0.03283016282896717,0.033583102585589115,0.03330189395319447,0.032848402527294894,0.033444361709233546,0.030333362176801243,0.03348293605251325,0.033537135206033304,0.03362646646263695,0.03366935214534664,0.03374230714346416,0.033738895264813204,0.0336697544358217,0.033651651364447775,0.03339384389307872,0.033904354301016425,0.03364460748594256,0.033810081702918215,0.03384053812802845,0.033726120644636225,0.03340039819166629,0.03383446202377908,0.03364054662926117,0.03375474019625689,0.033789458623285966,0.03387754505653305,0.03368920480076741,0.03389426288240354,0.03381661323034683,0.03377141247980937,0.03380837766118932,0.033954894888330145,0.03370004387243283,0.033244620693214745,0.033108126571209984,0.03370257906146382,0.03353033421989044,0.033645829538140055,0.033843012593968824,0.0337664787287012,0.033767514816434,0.03368046067572639,0.03368365243317421,0.033565276563315934,0.033575455271371395,0.03363927903474567,0.03377442586317861,0.033381999095225955,0.0338348453382882,0.033837824564918906,0.03387609908793904,0.03362547591722219,0.03360667453030683,0.03385509648899075,0.033730894997631655,0.033467838774122155,0.03360854176534159,0.034190090598850954,0.03389782656878084,0.03402684795545334,0.03394323225974891,0.03392343273703239,0.03387770445464574,0.033925011537387036,0.033855453237147747,0.0340050066188167,0.03383711486379799,0.03418670908174527,0.03414005856742068,0.03409420124846657,0.033632413530319004,0.034053907682685305,0.03381157700902335,0.03371789266586499,0.03401381526214142,0.03383882649591323,0.03397393916760776],\"type\":\"scatter\",\"xaxis\":\"x8\",\"yaxis\":\"y8\"},{\"marker\":{\"color\":[0,1,2,3,4,5,6,7,8,9,10,11,12,13,14,15,16,17,18,19,20,21,22,23,24,25,26,27,28,29,30,31,32,33,34,35,36,37,38,39,40,41,42,43,44,45,46,47,48,49,50,51,52,53,54,55,56,57,58,59,60,61,62,63,64,65,66,67,68,69,70,71,72,73,74,75,76,77,78,79,80,81,82,83,84,85,86,87,88,89,90,91,92,93,94,95,96,97,98,99],\"colorbar\":{\"title\":{\"text\":\"Trial\"},\"x\":1.0,\"xpad\":40},\"colorscale\":[[0.0,\"rgb(247,251,255)\"],[0.125,\"rgb(222,235,247)\"],[0.25,\"rgb(198,219,239)\"],[0.375,\"rgb(158,202,225)\"],[0.5,\"rgb(107,174,214)\"],[0.625,\"rgb(66,146,198)\"],[0.75,\"rgb(33,113,181)\"],[0.875,\"rgb(8,81,156)\"],[1.0,\"rgb(8,48,107)\"]],\"line\":{\"color\":\"Grey\",\"width\":0.5},\"showscale\":false},\"mode\":\"markers\",\"name\":\"Feasible Trial\",\"showlegend\":false,\"x\":[43,870,3499,38,14,64,1382,368,3387,3587,691,965,1178,246,1675,2434,1750,4847,4454,473,1793,1901,1420,4293,2357,2706,4890,2554,729,2300,2273,2326,1029,997,997,985,953,567,1020,527,294,364,329,157,677,402,728,636,268,211,292,298,388,206,149,149,495,103,435,272,762,311,354,252,466,340,582,232,174,351,1246,302,281,269,187,234,115,120,87,147,199,176,207,191,172,183,187,212,135,135,157,178,161,155,128,139,88,203,203,236],\"y\":[0.031115471788052053,0.03315821553053749,0.031341369275330676,0.02642537967112377,0.026400361757812057,0.02649233446885514,0.033419218554547436,0.027702887231148506,0.03278180447772067,0.03046042524380314,0.03208196706379556,0.032880373234475985,0.03328825023378382,0.03248067487642837,0.0333100687992614,0.032607741738623415,0.030060931826186167,0.03337410129825953,0.033170732077579694,0.033144966511215374,0.032190790432469654,0.03279985441639027,0.03324769859486753,0.03283016282896717,0.033583102585589115,0.03330189395319447,0.032848402527294894,0.033444361709233546,0.030333362176801243,0.03348293605251325,0.033537135206033304,0.03362646646263695,0.03366935214534664,0.03374230714346416,0.033738895264813204,0.0336697544358217,0.033651651364447775,0.03339384389307872,0.033904354301016425,0.03364460748594256,0.033810081702918215,0.03384053812802845,0.033726120644636225,0.03340039819166629,0.03383446202377908,0.03364054662926117,0.03375474019625689,0.033789458623285966,0.03387754505653305,0.03368920480076741,0.03389426288240354,0.03381661323034683,0.03377141247980937,0.03380837766118932,0.033954894888330145,0.03370004387243283,0.033244620693214745,0.033108126571209984,0.03370257906146382,0.03353033421989044,0.033645829538140055,0.033843012593968824,0.0337664787287012,0.033767514816434,0.03368046067572639,0.03368365243317421,0.033565276563315934,0.033575455271371395,0.03363927903474567,0.03377442586317861,0.033381999095225955,0.0338348453382882,0.033837824564918906,0.03387609908793904,0.03362547591722219,0.03360667453030683,0.03385509648899075,0.033730894997631655,0.033467838774122155,0.03360854176534159,0.034190090598850954,0.03389782656878084,0.03402684795545334,0.03394323225974891,0.03392343273703239,0.03387770445464574,0.033925011537387036,0.033855453237147747,0.0340050066188167,0.03383711486379799,0.03418670908174527,0.03414005856742068,0.03409420124846657,0.033632413530319004,0.034053907682685305,0.03381157700902335,0.03371789266586499,0.03401381526214142,0.03383882649591323,0.03397393916760776],\"type\":\"scatter\",\"xaxis\":\"x9\",\"yaxis\":\"y9\"},{\"marker\":{\"color\":[0,1,2,3,4,5,6,7,8,9,10,11,12,13,14,15,16,17,18,19,20,21,22,23,24,25,26,27,28,29,30,31,32,33,34,35,36,37,38,39,40,41,42,43,44,45,46,47,48,49,50,51,52,53,54,55,56,57,58,59,60,61,62,63,64,65,66,67,68,69,70,71,72,73,74,75,76,77,78,79,80,81,82,83,84,85,86,87,88,89,90,91,92,93,94,95,96,97,98,99],\"colorbar\":{\"title\":{\"text\":\"Trial\"},\"x\":1.0,\"xpad\":40},\"colorscale\":[[0.0,\"rgb(247,251,255)\"],[0.125,\"rgb(222,235,247)\"],[0.25,\"rgb(198,219,239)\"],[0.375,\"rgb(158,202,225)\"],[0.5,\"rgb(107,174,214)\"],[0.625,\"rgb(66,146,198)\"],[0.75,\"rgb(33,113,181)\"],[0.875,\"rgb(8,81,156)\"],[1.0,\"rgb(8,48,107)\"]],\"line\":{\"color\":\"Grey\",\"width\":0.5},\"showscale\":false},\"mode\":\"markers\",\"name\":\"Feasible Trial\",\"showlegend\":false,\"x\":[0.000028871829005728433,0.026500152622152034,0.0002489570740181032,0.012057335305440063,0.006170227280281933,0.000046876946405750524,0.004186204876883014,0.0022903287008956244,0.00031087262861822867,0.081943255933846,0.2101081516215052,0.051310900338873,0.027995527447352772,0.9625401308010502,0.00182399453107884,0.0018688848340310772,0.0008700167760998978,0.006240669451020639,0.008139115937507659,0.005912014220356824,0.016340703965401715,0.00271702912893279,0.0011321323162121716,0.004305402635470083,0.00046654941162918074,0.0005891226150387631,0.00008903642541153206,0.000409247340959967,0.000014454485771629977,0.0002820214008017571,0.00014622971231708262,0.0001373141322361214,0.0001293140713080019,0.00014679425288384915,0.0001256212417087758,0.00006862342163421455,0.00003105067361341821,0.00004555444666407138,0.000013596246688060194,0.000010765403514300901,0.000020390404685428586,0.000026492005497855416,0.00001798830352311196,0.000024304384327930513,0.000010474752923651818,0.00002796135800433117,0.000010831317350911178,0.000010138482858134697,0.000015838734630198856,0.000044886483719247136,0.00001717749188599114,0.000018938021863114737,0.00001669196531775633,0.0000355637053831698,0.000026016339837876325,0.000059122505120305115,0.000029402304417764773,0.00001483314163138176,0.000045865428900401904,0.000024991788903061436,0.0000688552083943428,0.000017134302616547217,0.000013213141407036102,0.000020691103489445792,0.000035939661738576556,0.000010444889311226204,0.000018627916683123248,0.000014695850071627895,0.0000332932332605891,0.000023807688491452395,0.00009398283362191596,0.00001531070130934203,0.000014757151020358583,0.00001527651797067908,0.000036073663911572276,0.00005837359931404071,0.000023039344021519535,0.000023099797355169548,0.00004320076846617473,0.000026957244878525755,0.00005568825008974904,0.00002034492687283442,0.000019176930592577495,0.000012554496661547682,0.000012821979758209092,0.000012712351710888488,0.000010048068337609029,0.000010347441773123584,0.00003512282017881012,0.00003633510191802948,0.000058218559868340616,0.00005309048307452887,0.00006131750263971733,0.00018907695190825328,0.00009215665394739575,0.00008611980455183671,0.000052057757244779434,0.00006939346561907538,0.00007054911061029281,0.00009102870658730159],\"y\":[0.031115471788052053,0.03315821553053749,0.031341369275330676,0.02642537967112377,0.026400361757812057,0.02649233446885514,0.033419218554547436,0.027702887231148506,0.03278180447772067,0.03046042524380314,0.03208196706379556,0.032880373234475985,0.03328825023378382,0.03248067487642837,0.0333100687992614,0.032607741738623415,0.030060931826186167,0.03337410129825953,0.033170732077579694,0.033144966511215374,0.032190790432469654,0.03279985441639027,0.03324769859486753,0.03283016282896717,0.033583102585589115,0.03330189395319447,0.032848402527294894,0.033444361709233546,0.030333362176801243,0.03348293605251325,0.033537135206033304,0.03362646646263695,0.03366935214534664,0.03374230714346416,0.033738895264813204,0.0336697544358217,0.033651651364447775,0.03339384389307872,0.033904354301016425,0.03364460748594256,0.033810081702918215,0.03384053812802845,0.033726120644636225,0.03340039819166629,0.03383446202377908,0.03364054662926117,0.03375474019625689,0.033789458623285966,0.03387754505653305,0.03368920480076741,0.03389426288240354,0.03381661323034683,0.03377141247980937,0.03380837766118932,0.033954894888330145,0.03370004387243283,0.033244620693214745,0.033108126571209984,0.03370257906146382,0.03353033421989044,0.033645829538140055,0.033843012593968824,0.0337664787287012,0.033767514816434,0.03368046067572639,0.03368365243317421,0.033565276563315934,0.033575455271371395,0.03363927903474567,0.03377442586317861,0.033381999095225955,0.0338348453382882,0.033837824564918906,0.03387609908793904,0.03362547591722219,0.03360667453030683,0.03385509648899075,0.033730894997631655,0.033467838774122155,0.03360854176534159,0.034190090598850954,0.03389782656878084,0.03402684795545334,0.03394323225974891,0.03392343273703239,0.03387770445464574,0.033925011537387036,0.033855453237147747,0.0340050066188167,0.03383711486379799,0.03418670908174527,0.03414005856742068,0.03409420124846657,0.033632413530319004,0.034053907682685305,0.03381157700902335,0.03371789266586499,0.03401381526214142,0.03383882649591323,0.03397393916760776],\"type\":\"scatter\",\"xaxis\":\"x10\",\"yaxis\":\"y10\"},{\"marker\":{\"color\":[0,1,2,3,4,5,6,7,8,9,10,11,12,13,14,15,16,17,18,19,20,21,22,23,24,25,26,27,28,29,30,31,32,33,34,35,36,37,38,39,40,41,42,43,44,45,46,47,48,49,50,51,52,53,54,55,56,57,58,59,60,61,62,63,64,65,66,67,68,69,70,71,72,73,74,75,76,77,78,79,80,81,82,83,84,85,86,87,88,89,90,91,92,93,94,95,96,97,98,99],\"colorbar\":{\"title\":{\"text\":\"Trial\"},\"x\":1.0,\"xpad\":40},\"colorscale\":[[0.0,\"rgb(247,251,255)\"],[0.125,\"rgb(222,235,247)\"],[0.25,\"rgb(198,219,239)\"],[0.375,\"rgb(158,202,225)\"],[0.5,\"rgb(107,174,214)\"],[0.625,\"rgb(66,146,198)\"],[0.75,\"rgb(33,113,181)\"],[0.875,\"rgb(8,81,156)\"],[1.0,\"rgb(8,48,107)\"]],\"line\":{\"color\":\"Grey\",\"width\":0.5},\"showscale\":false},\"mode\":\"markers\",\"name\":\"Feasible Trial\",\"showlegend\":false,\"x\":[0.027289178997836616,0.13609548071189062,0.001085745098937539,0.382039943770299,0.00002192754571853114,0.40484211778446444,0.0019658035296634025,0.012993614691833142,0.0001243908219485667,0.00001727082364951098,0.0012915658915768548,0.007567478124491935,0.03536985233692309,0.03774792406850451,0.004825380994787761,0.0023412588200757006,0.000471205602682683,0.004952313954141377,0.00038316732349663135,0.004997138637938585,0.003323704347839731,0.0068745501903036835,0.00204974370898728,0.011694698543108877,0.0006058729221653929,0.0006930281102612196,0.00013590546984491243,0.0018358265150222842,0.0014024784422015492,0.000270716841364074,0.000200387709617594,0.0002689122811843782,0.0002049732377026045,0.0001745409339518198,0.00007554568857042087,0.00005478043405221868,0.000053702453102941636,0.000049051623725653965,0.000038626128277461426,0.000010616012076560653,0.00005082714892873275,0.000055910864094025064,0.00002827473332538593,0.00008489231326331184,0.00002973777881260952,0.00003102697564437046,0.000014505480496301919,0.00001501910582270832,0.000021539796209197818,0.000027395897990837107,0.000020516582205078044,0.00002147168435830745,0.000010235300250363547,0.00002140333677167447,0.00002904328139436011,0.00003750210955206494,0.00008004337520868092,0.00001711884022816085,0.000034660858383408946,0.00010154113651792538,0.000023179014489028104,0.000017702879586249977,0.000013375162870312978,0.00003772567902108334,0.000018295313191600516,0.0001236460511145828,0.0000617532513631708,0.000010149901598991177,0.00003867444171042823,0.00002639849975989824,0.0000757386303196107,0.00002062418435403012,0.000017596123455085133,0.00001817284955379101,0.000014792658992510192,0.000048371018935357976,0.00001277489367053964,0.000013782293977711296,0.00004021034724893255,0.000022758543843551042,0.000010732841444904015,0.000010255314697818544,0.000012001513914298064,0.000013487790280844903,0.000010332496362098794,0.00001255231806168839,0.000014041648360443918,0.000010500190399706014,0.000027785331965459854,0.000029622103910156913,0.000010039133947546805,0.000012707806790183815,0.00001433152876101944,0.000014177230615591687,0.00001006119613789573,0.000026551512989169695,0.000013432239047353309,0.000015724456208622183,0.000024293131159758607,0.000018238901395456703],\"y\":[0.031115471788052053,0.03315821553053749,0.031341369275330676,0.02642537967112377,0.026400361757812057,0.02649233446885514,0.033419218554547436,0.027702887231148506,0.03278180447772067,0.03046042524380314,0.03208196706379556,0.032880373234475985,0.03328825023378382,0.03248067487642837,0.0333100687992614,0.032607741738623415,0.030060931826186167,0.03337410129825953,0.033170732077579694,0.033144966511215374,0.032190790432469654,0.03279985441639027,0.03324769859486753,0.03283016282896717,0.033583102585589115,0.03330189395319447,0.032848402527294894,0.033444361709233546,0.030333362176801243,0.03348293605251325,0.033537135206033304,0.03362646646263695,0.03366935214534664,0.03374230714346416,0.033738895264813204,0.0336697544358217,0.033651651364447775,0.03339384389307872,0.033904354301016425,0.03364460748594256,0.033810081702918215,0.03384053812802845,0.033726120644636225,0.03340039819166629,0.03383446202377908,0.03364054662926117,0.03375474019625689,0.033789458623285966,0.03387754505653305,0.03368920480076741,0.03389426288240354,0.03381661323034683,0.03377141247980937,0.03380837766118932,0.033954894888330145,0.03370004387243283,0.033244620693214745,0.033108126571209984,0.03370257906146382,0.03353033421989044,0.033645829538140055,0.033843012593968824,0.0337664787287012,0.033767514816434,0.03368046067572639,0.03368365243317421,0.033565276563315934,0.033575455271371395,0.03363927903474567,0.03377442586317861,0.033381999095225955,0.0338348453382882,0.033837824564918906,0.03387609908793904,0.03362547591722219,0.03360667453030683,0.03385509648899075,0.033730894997631655,0.033467838774122155,0.03360854176534159,0.034190090598850954,0.03389782656878084,0.03402684795545334,0.03394323225974891,0.03392343273703239,0.03387770445464574,0.033925011537387036,0.033855453237147747,0.0340050066188167,0.03383711486379799,0.03418670908174527,0.03414005856742068,0.03409420124846657,0.033632413530319004,0.034053907682685305,0.03381157700902335,0.03371789266586499,0.03401381526214142,0.03383882649591323,0.03397393916760776],\"type\":\"scatter\",\"xaxis\":\"x11\",\"yaxis\":\"y11\"},{\"marker\":{\"color\":[0,1,2,3,4,5,6,7,8,9,10,11,12,13,14,15,16,17,18,19,20,21,22,23,24,25,26,27,28,29,30,31,32,33,34,35,36,37,38,39,40,41,42,43,44,45,46,47,48,49,50,51,52,53,54,55,56,57,58,59,60,61,62,63,64,65,66,67,68,69,70,71,72,73,74,75,76,77,78,79,80,81,82,83,84,85,86,87,88,89,90,91,92,93,94,95,96,97,98,99],\"colorbar\":{\"title\":{\"text\":\"Trial\"},\"x\":1.0,\"xpad\":40},\"colorscale\":[[0.0,\"rgb(247,251,255)\"],[0.125,\"rgb(222,235,247)\"],[0.25,\"rgb(198,219,239)\"],[0.375,\"rgb(158,202,225)\"],[0.5,\"rgb(107,174,214)\"],[0.625,\"rgb(66,146,198)\"],[0.75,\"rgb(33,113,181)\"],[0.875,\"rgb(8,81,156)\"],[1.0,\"rgb(8,48,107)\"]],\"line\":{\"color\":\"Grey\",\"width\":0.5},\"showscale\":false},\"mode\":\"markers\",\"name\":\"Feasible Trial\",\"showlegend\":false,\"x\":[0.2577889217419392,0.33831003104932966,0.4964953922315868,0.3747185082438662,0.39501832680509064,0.7770057300955434,0.3903326407653209,0.2513865420349253,0.4681483447746664,0.30343067386888956,0.122369045334486,0.6065028783297162,0.622787846896049,0.6026030009829256,0.8935082915713108,0.7969336500693598,0.8770244477666287,0.8972397297360442,0.6928454258950858,0.4545553223933347,0.5490236339505765,0.894647079279025,0.8067451759403876,0.7204643255377773,0.8941864164584935,0.8459533570416163,0.7313889341047285,0.8422943751882911,0.8134657789265386,0.6739403765195535,0.8415178098836995,0.8353630488530472,0.7534672870694434,0.7627629507748093,0.7671715949430037,0.7814515545185974,0.7490391239106278,0.7686723858778188,0.7682805670559892,0.6699431483476408,0.7127325625122831,0.7865978017870529,0.7175802093966982,0.7774904499336396,0.6903383690118124,0.6948855228640015,0.6394813300527536,0.6406407020689899,0.5767578789390818,0.6060213561084585,0.5697775796894256,0.5596962026849243,0.5570049790399121,0.5790008714496337,0.5267424786138228,0.5154521463655275,0.5094038665925466,0.4570525768518122,0.6548940984211353,0.617837576769171,0.5839836192926248,0.539372952819422,0.5241833307084258,0.4285410151269949,0.538440877210977,0.4947987099663773,0.4894868029335908,0.5824881706761594,0.5384386566928526,0.6337609337558695,0.6822630868293199,0.558141035178703,0.6017694621495049,0.6010819207416784,0.5995305250140729,0.4773249080383516,0.5184673733410019,0.5222197162422904,0.49903406056192157,0.43258474059722773,0.5653720342677349,0.5760334536708863,0.5740056732674624,0.5700527395294017,0.5766583564943771,0.5806406357403474,0.654383636606257,0.6220558383493565,0.6565440146663778,0.659240465435165,0.6576702344035487,0.6551691840496927,0.6525875161411783,0.6471739425830679,0.6204769163753486,0.6269419800453185,0.6668656793686638,0.6550953913104103,0.6162929167999595,0.6882266188356235],\"y\":[0.031115471788052053,0.03315821553053749,0.031341369275330676,0.02642537967112377,0.026400361757812057,0.02649233446885514,0.033419218554547436,0.027702887231148506,0.03278180447772067,0.03046042524380314,0.03208196706379556,0.032880373234475985,0.03328825023378382,0.03248067487642837,0.0333100687992614,0.032607741738623415,0.030060931826186167,0.03337410129825953,0.033170732077579694,0.033144966511215374,0.032190790432469654,0.03279985441639027,0.03324769859486753,0.03283016282896717,0.033583102585589115,0.03330189395319447,0.032848402527294894,0.033444361709233546,0.030333362176801243,0.03348293605251325,0.033537135206033304,0.03362646646263695,0.03366935214534664,0.03374230714346416,0.033738895264813204,0.0336697544358217,0.033651651364447775,0.03339384389307872,0.033904354301016425,0.03364460748594256,0.033810081702918215,0.03384053812802845,0.033726120644636225,0.03340039819166629,0.03383446202377908,0.03364054662926117,0.03375474019625689,0.033789458623285966,0.03387754505653305,0.03368920480076741,0.03389426288240354,0.03381661323034683,0.03377141247980937,0.03380837766118932,0.033954894888330145,0.03370004387243283,0.033244620693214745,0.033108126571209984,0.03370257906146382,0.03353033421989044,0.033645829538140055,0.033843012593968824,0.0337664787287012,0.033767514816434,0.03368046067572639,0.03368365243317421,0.033565276563315934,0.033575455271371395,0.03363927903474567,0.03377442586317861,0.033381999095225955,0.0338348453382882,0.033837824564918906,0.03387609908793904,0.03362547591722219,0.03360667453030683,0.03385509648899075,0.033730894997631655,0.033467838774122155,0.03360854176534159,0.034190090598850954,0.03389782656878084,0.03402684795545334,0.03394323225974891,0.03392343273703239,0.03387770445464574,0.033925011537387036,0.033855453237147747,0.0340050066188167,0.03383711486379799,0.03418670908174527,0.03414005856742068,0.03409420124846657,0.033632413530319004,0.034053907682685305,0.03381157700902335,0.03371789266586499,0.03401381526214142,0.03383882649591323,0.03397393916760776],\"type\":\"scatter\",\"xaxis\":\"x12\",\"yaxis\":\"y12\"}],                        {\"template\":{\"data\":{\"histogram2dcontour\":[{\"type\":\"histogram2dcontour\",\"colorbar\":{\"outlinewidth\":0,\"ticks\":\"\"},\"colorscale\":[[0.0,\"#0d0887\"],[0.1111111111111111,\"#46039f\"],[0.2222222222222222,\"#7201a8\"],[0.3333333333333333,\"#9c179e\"],[0.4444444444444444,\"#bd3786\"],[0.5555555555555556,\"#d8576b\"],[0.6666666666666666,\"#ed7953\"],[0.7777777777777778,\"#fb9f3a\"],[0.8888888888888888,\"#fdca26\"],[1.0,\"#f0f921\"]]}],\"choropleth\":[{\"type\":\"choropleth\",\"colorbar\":{\"outlinewidth\":0,\"ticks\":\"\"}}],\"histogram2d\":[{\"type\":\"histogram2d\",\"colorbar\":{\"outlinewidth\":0,\"ticks\":\"\"},\"colorscale\":[[0.0,\"#0d0887\"],[0.1111111111111111,\"#46039f\"],[0.2222222222222222,\"#7201a8\"],[0.3333333333333333,\"#9c179e\"],[0.4444444444444444,\"#bd3786\"],[0.5555555555555556,\"#d8576b\"],[0.6666666666666666,\"#ed7953\"],[0.7777777777777778,\"#fb9f3a\"],[0.8888888888888888,\"#fdca26\"],[1.0,\"#f0f921\"]]}],\"heatmap\":[{\"type\":\"heatmap\",\"colorbar\":{\"outlinewidth\":0,\"ticks\":\"\"},\"colorscale\":[[0.0,\"#0d0887\"],[0.1111111111111111,\"#46039f\"],[0.2222222222222222,\"#7201a8\"],[0.3333333333333333,\"#9c179e\"],[0.4444444444444444,\"#bd3786\"],[0.5555555555555556,\"#d8576b\"],[0.6666666666666666,\"#ed7953\"],[0.7777777777777778,\"#fb9f3a\"],[0.8888888888888888,\"#fdca26\"],[1.0,\"#f0f921\"]]}],\"heatmapgl\":[{\"type\":\"heatmapgl\",\"colorbar\":{\"outlinewidth\":0,\"ticks\":\"\"},\"colorscale\":[[0.0,\"#0d0887\"],[0.1111111111111111,\"#46039f\"],[0.2222222222222222,\"#7201a8\"],[0.3333333333333333,\"#9c179e\"],[0.4444444444444444,\"#bd3786\"],[0.5555555555555556,\"#d8576b\"],[0.6666666666666666,\"#ed7953\"],[0.7777777777777778,\"#fb9f3a\"],[0.8888888888888888,\"#fdca26\"],[1.0,\"#f0f921\"]]}],\"contourcarpet\":[{\"type\":\"contourcarpet\",\"colorbar\":{\"outlinewidth\":0,\"ticks\":\"\"}}],\"contour\":[{\"type\":\"contour\",\"colorbar\":{\"outlinewidth\":0,\"ticks\":\"\"},\"colorscale\":[[0.0,\"#0d0887\"],[0.1111111111111111,\"#46039f\"],[0.2222222222222222,\"#7201a8\"],[0.3333333333333333,\"#9c179e\"],[0.4444444444444444,\"#bd3786\"],[0.5555555555555556,\"#d8576b\"],[0.6666666666666666,\"#ed7953\"],[0.7777777777777778,\"#fb9f3a\"],[0.8888888888888888,\"#fdca26\"],[1.0,\"#f0f921\"]]}],\"surface\":[{\"type\":\"surface\",\"colorbar\":{\"outlinewidth\":0,\"ticks\":\"\"},\"colorscale\":[[0.0,\"#0d0887\"],[0.1111111111111111,\"#46039f\"],[0.2222222222222222,\"#7201a8\"],[0.3333333333333333,\"#9c179e\"],[0.4444444444444444,\"#bd3786\"],[0.5555555555555556,\"#d8576b\"],[0.6666666666666666,\"#ed7953\"],[0.7777777777777778,\"#fb9f3a\"],[0.8888888888888888,\"#fdca26\"],[1.0,\"#f0f921\"]]}],\"mesh3d\":[{\"type\":\"mesh3d\",\"colorbar\":{\"outlinewidth\":0,\"ticks\":\"\"}}],\"scatter\":[{\"fillpattern\":{\"fillmode\":\"overlay\",\"size\":10,\"solidity\":0.2},\"type\":\"scatter\"}],\"parcoords\":[{\"type\":\"parcoords\",\"line\":{\"colorbar\":{\"outlinewidth\":0,\"ticks\":\"\"}}}],\"scatterpolargl\":[{\"type\":\"scatterpolargl\",\"marker\":{\"colorbar\":{\"outlinewidth\":0,\"ticks\":\"\"}}}],\"bar\":[{\"error_x\":{\"color\":\"#2a3f5f\"},\"error_y\":{\"color\":\"#2a3f5f\"},\"marker\":{\"line\":{\"color\":\"#E5ECF6\",\"width\":0.5},\"pattern\":{\"fillmode\":\"overlay\",\"size\":10,\"solidity\":0.2}},\"type\":\"bar\"}],\"scattergeo\":[{\"type\":\"scattergeo\",\"marker\":{\"colorbar\":{\"outlinewidth\":0,\"ticks\":\"\"}}}],\"scatterpolar\":[{\"type\":\"scatterpolar\",\"marker\":{\"colorbar\":{\"outlinewidth\":0,\"ticks\":\"\"}}}],\"histogram\":[{\"marker\":{\"pattern\":{\"fillmode\":\"overlay\",\"size\":10,\"solidity\":0.2}},\"type\":\"histogram\"}],\"scattergl\":[{\"type\":\"scattergl\",\"marker\":{\"colorbar\":{\"outlinewidth\":0,\"ticks\":\"\"}}}],\"scatter3d\":[{\"type\":\"scatter3d\",\"line\":{\"colorbar\":{\"outlinewidth\":0,\"ticks\":\"\"}},\"marker\":{\"colorbar\":{\"outlinewidth\":0,\"ticks\":\"\"}}}],\"scattermapbox\":[{\"type\":\"scattermapbox\",\"marker\":{\"colorbar\":{\"outlinewidth\":0,\"ticks\":\"\"}}}],\"scatterternary\":[{\"type\":\"scatterternary\",\"marker\":{\"colorbar\":{\"outlinewidth\":0,\"ticks\":\"\"}}}],\"scattercarpet\":[{\"type\":\"scattercarpet\",\"marker\":{\"colorbar\":{\"outlinewidth\":0,\"ticks\":\"\"}}}],\"carpet\":[{\"aaxis\":{\"endlinecolor\":\"#2a3f5f\",\"gridcolor\":\"white\",\"linecolor\":\"white\",\"minorgridcolor\":\"white\",\"startlinecolor\":\"#2a3f5f\"},\"baxis\":{\"endlinecolor\":\"#2a3f5f\",\"gridcolor\":\"white\",\"linecolor\":\"white\",\"minorgridcolor\":\"white\",\"startlinecolor\":\"#2a3f5f\"},\"type\":\"carpet\"}],\"table\":[{\"cells\":{\"fill\":{\"color\":\"#EBF0F8\"},\"line\":{\"color\":\"white\"}},\"header\":{\"fill\":{\"color\":\"#C8D4E3\"},\"line\":{\"color\":\"white\"}},\"type\":\"table\"}],\"barpolar\":[{\"marker\":{\"line\":{\"color\":\"#E5ECF6\",\"width\":0.5},\"pattern\":{\"fillmode\":\"overlay\",\"size\":10,\"solidity\":0.2}},\"type\":\"barpolar\"}],\"pie\":[{\"automargin\":true,\"type\":\"pie\"}]},\"layout\":{\"autotypenumbers\":\"strict\",\"colorway\":[\"#636efa\",\"#EF553B\",\"#00cc96\",\"#ab63fa\",\"#FFA15A\",\"#19d3f3\",\"#FF6692\",\"#B6E880\",\"#FF97FF\",\"#FECB52\"],\"font\":{\"color\":\"#2a3f5f\"},\"hovermode\":\"closest\",\"hoverlabel\":{\"align\":\"left\"},\"paper_bgcolor\":\"white\",\"plot_bgcolor\":\"#E5ECF6\",\"polar\":{\"bgcolor\":\"#E5ECF6\",\"angularaxis\":{\"gridcolor\":\"white\",\"linecolor\":\"white\",\"ticks\":\"\"},\"radialaxis\":{\"gridcolor\":\"white\",\"linecolor\":\"white\",\"ticks\":\"\"}},\"ternary\":{\"bgcolor\":\"#E5ECF6\",\"aaxis\":{\"gridcolor\":\"white\",\"linecolor\":\"white\",\"ticks\":\"\"},\"baxis\":{\"gridcolor\":\"white\",\"linecolor\":\"white\",\"ticks\":\"\"},\"caxis\":{\"gridcolor\":\"white\",\"linecolor\":\"white\",\"ticks\":\"\"}},\"coloraxis\":{\"colorbar\":{\"outlinewidth\":0,\"ticks\":\"\"}},\"colorscale\":{\"sequential\":[[0.0,\"#0d0887\"],[0.1111111111111111,\"#46039f\"],[0.2222222222222222,\"#7201a8\"],[0.3333333333333333,\"#9c179e\"],[0.4444444444444444,\"#bd3786\"],[0.5555555555555556,\"#d8576b\"],[0.6666666666666666,\"#ed7953\"],[0.7777777777777778,\"#fb9f3a\"],[0.8888888888888888,\"#fdca26\"],[1.0,\"#f0f921\"]],\"sequentialminus\":[[0.0,\"#0d0887\"],[0.1111111111111111,\"#46039f\"],[0.2222222222222222,\"#7201a8\"],[0.3333333333333333,\"#9c179e\"],[0.4444444444444444,\"#bd3786\"],[0.5555555555555556,\"#d8576b\"],[0.6666666666666666,\"#ed7953\"],[0.7777777777777778,\"#fb9f3a\"],[0.8888888888888888,\"#fdca26\"],[1.0,\"#f0f921\"]],\"diverging\":[[0,\"#8e0152\"],[0.1,\"#c51b7d\"],[0.2,\"#de77ae\"],[0.3,\"#f1b6da\"],[0.4,\"#fde0ef\"],[0.5,\"#f7f7f7\"],[0.6,\"#e6f5d0\"],[0.7,\"#b8e186\"],[0.8,\"#7fbc41\"],[0.9,\"#4d9221\"],[1,\"#276419\"]]},\"xaxis\":{\"gridcolor\":\"white\",\"linecolor\":\"white\",\"ticks\":\"\",\"title\":{\"standoff\":15},\"zerolinecolor\":\"white\",\"automargin\":true,\"zerolinewidth\":2},\"yaxis\":{\"gridcolor\":\"white\",\"linecolor\":\"white\",\"ticks\":\"\",\"title\":{\"standoff\":15},\"zerolinecolor\":\"white\",\"automargin\":true,\"zerolinewidth\":2},\"scene\":{\"xaxis\":{\"backgroundcolor\":\"#E5ECF6\",\"gridcolor\":\"white\",\"linecolor\":\"white\",\"showbackground\":true,\"ticks\":\"\",\"zerolinecolor\":\"white\",\"gridwidth\":2},\"yaxis\":{\"backgroundcolor\":\"#E5ECF6\",\"gridcolor\":\"white\",\"linecolor\":\"white\",\"showbackground\":true,\"ticks\":\"\",\"zerolinecolor\":\"white\",\"gridwidth\":2},\"zaxis\":{\"backgroundcolor\":\"#E5ECF6\",\"gridcolor\":\"white\",\"linecolor\":\"white\",\"showbackground\":true,\"ticks\":\"\",\"zerolinecolor\":\"white\",\"gridwidth\":2}},\"shapedefaults\":{\"line\":{\"color\":\"#2a3f5f\"}},\"annotationdefaults\":{\"arrowcolor\":\"#2a3f5f\",\"arrowhead\":0,\"arrowwidth\":1},\"geo\":{\"bgcolor\":\"white\",\"landcolor\":\"#E5ECF6\",\"subunitcolor\":\"white\",\"showland\":true,\"showlakes\":true,\"lakecolor\":\"white\"},\"title\":{\"x\":0.05},\"mapbox\":{\"style\":\"light\"}}},\"xaxis\":{\"anchor\":\"y\",\"domain\":[0.0,0.06805555555555555],\"title\":{\"text\":\"booster\"},\"type\":\"category\",\"categoryorder\":\"array\",\"categoryarray\":[\"gbtree\",\"gblinear\"]},\"yaxis\":{\"anchor\":\"x\",\"domain\":[0.0,1.0],\"title\":{\"text\":\"Objective Value\"}},\"xaxis2\":{\"anchor\":\"y2\",\"domain\":[0.08472222222222221,0.15277777777777776],\"title\":{\"text\":\"colsample_bytree\"}},\"yaxis2\":{\"anchor\":\"x2\",\"domain\":[0.0,1.0],\"matches\":\"y\",\"showticklabels\":false},\"xaxis3\":{\"anchor\":\"y3\",\"domain\":[0.16944444444444443,0.2375],\"title\":{\"text\":\"gamma\"},\"type\":\"log\"},\"yaxis3\":{\"anchor\":\"x3\",\"domain\":[0.0,1.0],\"matches\":\"y\",\"showticklabels\":false},\"xaxis4\":{\"anchor\":\"y4\",\"domain\":[0.25416666666666665,0.3222222222222222],\"title\":{\"text\":\"grow_policy\"},\"type\":\"category\",\"categoryorder\":\"array\",\"categoryarray\":[\"depthwise\",\"lossguide\"]},\"yaxis4\":{\"anchor\":\"x4\",\"domain\":[0.0,1.0],\"matches\":\"y\",\"showticklabels\":false},\"xaxis5\":{\"anchor\":\"y5\",\"domain\":[0.33888888888888885,0.4069444444444444],\"title\":{\"text\":\"learning_rate\"},\"type\":\"log\"},\"yaxis5\":{\"anchor\":\"x5\",\"domain\":[0.0,1.0],\"matches\":\"y\",\"showticklabels\":false},\"xaxis6\":{\"anchor\":\"y6\",\"domain\":[0.42361111111111105,0.4916666666666666],\"title\":{\"text\":\"max_depth\"}},\"yaxis6\":{\"anchor\":\"x6\",\"domain\":[0.0,1.0],\"matches\":\"y\",\"showticklabels\":false},\"xaxis7\":{\"anchor\":\"y7\",\"domain\":[0.5083333333333333,0.5763888888888888],\"title\":{\"text\":\"max_leaves\"}},\"yaxis7\":{\"anchor\":\"x7\",\"domain\":[0.0,1.0],\"matches\":\"y\",\"showticklabels\":false},\"xaxis8\":{\"anchor\":\"y8\",\"domain\":[0.5930555555555554,0.661111111111111],\"title\":{\"text\":\"min_child_weight\"},\"type\":\"log\"},\"yaxis8\":{\"anchor\":\"x8\",\"domain\":[0.0,1.0],\"matches\":\"y\",\"showticklabels\":false},\"xaxis9\":{\"anchor\":\"y9\",\"domain\":[0.6777777777777777,0.7458333333333332],\"title\":{\"text\":\"n_estimators\"},\"type\":\"log\"},\"yaxis9\":{\"anchor\":\"x9\",\"domain\":[0.0,1.0],\"matches\":\"y\",\"showticklabels\":false},\"xaxis10\":{\"anchor\":\"y10\",\"domain\":[0.7625,0.8305555555555555],\"title\":{\"text\":\"reg_alpha\"},\"type\":\"log\"},\"yaxis10\":{\"anchor\":\"x10\",\"domain\":[0.0,1.0],\"matches\":\"y\",\"showticklabels\":false},\"xaxis11\":{\"anchor\":\"y11\",\"domain\":[0.8472222222222221,0.9152777777777776],\"title\":{\"text\":\"reg_lambda\"},\"type\":\"log\"},\"yaxis11\":{\"anchor\":\"x11\",\"domain\":[0.0,1.0],\"matches\":\"y\",\"showticklabels\":false},\"xaxis12\":{\"anchor\":\"y12\",\"domain\":[0.9319444444444444,0.9999999999999999],\"title\":{\"text\":\"subsample\"}},\"yaxis12\":{\"anchor\":\"x12\",\"domain\":[0.0,1.0],\"matches\":\"y\",\"showticklabels\":false},\"title\":{\"text\":\"Slice Plot\"},\"width\":3600},                        {\"responsive\": true}                    ).then(function(){\n",
       "                            \n",
       "var gd = document.getElementById('c0391092-836c-4646-b81a-b63e8abb9738');\n",
       "var x = new MutationObserver(function (mutations, observer) {{\n",
       "        var display = window.getComputedStyle(gd).display;\n",
       "        if (!display || display === 'none') {{\n",
       "            console.log([gd, 'removed!']);\n",
       "            Plotly.purge(gd);\n",
       "            observer.disconnect();\n",
       "        }}\n",
       "}});\n",
       "\n",
       "// Listen for the removal of the full notebook cells\n",
       "var notebookContainer = gd.closest('#notebook-container');\n",
       "if (notebookContainer) {{\n",
       "    x.observe(notebookContainer, {childList: true});\n",
       "}}\n",
       "\n",
       "// Listen for the clearing of the current output cell\n",
       "var outputEl = gd.closest('.output');\n",
       "if (outputEl) {{\n",
       "    x.observe(outputEl, {childList: true});\n",
       "}}\n",
       "\n",
       "                        })                };                });            </script>        </div>"
      ]
     },
     "metadata": {},
     "output_type": "display_data"
    }
   ],
   "source": [
    "if config['tune_parameters']:\n",
    "    fig = optuna.visualization.plot_slice(study)\n",
    "    fig.show()"
   ]
  },
  {
   "cell_type": "code",
   "execution_count": 44,
   "id": "abe05617",
   "metadata": {
    "execution": {
     "iopub.execute_input": "2023-12-01T03:13:11.276354Z",
     "iopub.status.busy": "2023-12-01T03:13:11.275671Z",
     "iopub.status.idle": "2023-12-01T03:13:12.196563Z",
     "shell.execute_reply": "2023-12-01T03:13:12.195614Z"
    },
    "papermill": {
     "duration": 0.99375,
     "end_time": "2023-12-01T03:13:12.199780",
     "exception": false,
     "start_time": "2023-12-01T03:13:11.206030",
     "status": "completed"
    },
    "tags": []
   },
   "outputs": [],
   "source": [
    "if config['tune_parameters']:\n",
    "    with open('/kaggle/working/best_params_hybrid_xgboost.json', 'w') as params_file:\n",
    "        json.dump(study.best_params, params_file)\n",
    "        \n",
    "    if config['save_github']: \n",
    "        upload_file(\n",
    "            '/kaggle/working/best_params_hybrid_xgboost.json', \n",
    "            'tuning_results/best_params_hybrid_xgboost.json', \n",
    "            'XGBoost tuning results (from kaggle notebook)'\n",
    "        )\n",
    "    \n",
    "elif config['copy_prev_best_params']:\n",
    "    shutil.copyfile(\n",
    "        '/kaggle/input/xgboost/best_params_hybrid_xgboost.json', \n",
    "        '/kaggle/working/best_params_hybrid_xgboost.json'\n",
    "    )"
   ]
  },
  {
   "cell_type": "code",
   "execution_count": 45,
   "id": "4e7480fe",
   "metadata": {
    "execution": {
     "iopub.execute_input": "2023-12-01T03:13:12.338024Z",
     "iopub.status.busy": "2023-12-01T03:13:12.337631Z",
     "iopub.status.idle": "2023-12-01T03:13:14.231578Z",
     "shell.execute_reply": "2023-12-01T03:13:14.230649Z"
    },
    "papermill": {
     "duration": 1.966741,
     "end_time": "2023-12-01T03:13:14.234335",
     "exception": false,
     "start_time": "2023-12-01T03:13:12.267594",
     "status": "completed"
    },
    "tags": []
   },
   "outputs": [],
   "source": [
    "if config['save_github'] and config['tune_parameters']:\n",
    "    upload_file(\n",
    "        config['database_path'],\n",
    "        'tuning_results/tuning_hybrid_xgboost.db', \n",
    "        'Xgboost tuning db updated results (from kaggle notebook)'\n",
    "    )"
   ]
  },
  {
   "cell_type": "code",
   "execution_count": 46,
   "id": "80064e7e",
   "metadata": {
    "execution": {
     "iopub.execute_input": "2023-12-01T03:13:14.370696Z",
     "iopub.status.busy": "2023-12-01T03:13:14.370028Z",
     "iopub.status.idle": "2023-12-01T03:13:14.378285Z",
     "shell.execute_reply": "2023-12-01T03:13:14.377170Z"
    },
    "papermill": {
     "duration": 0.079625,
     "end_time": "2023-12-01T03:13:14.380626",
     "exception": false,
     "start_time": "2023-12-01T03:13:14.301001",
     "status": "completed"
    },
    "tags": []
   },
   "outputs": [
    {
     "data": {
      "text/plain": [
       "{'n_estimators': 199,\n",
       " 'learning_rate': 0.354087361765763,\n",
       " 'reg_alpha': 5.568825008974904e-05,\n",
       " 'reg_lambda': 1.0732841444904015e-05,\n",
       " 'max_depth': 15,\n",
       " 'max_leaves': 135,\n",
       " 'grow_policy': 'depthwise',\n",
       " 'booster': 'gblinear',\n",
       " 'gamma': 0.9659465802070879,\n",
       " 'min_child_weight': 0.002259331874550791,\n",
       " 'subsample': 0.5653720342677349,\n",
       " 'colsample_bytree': 0.5849188987846436,\n",
       " 'objective': 'rank:pairwise'}"
      ]
     },
     "execution_count": 46,
     "metadata": {},
     "output_type": "execute_result"
    }
   ],
   "source": [
    "with open('/kaggle/working/best_params_hybrid_xgboost.json', 'r') as params_file:\n",
    "    xgboost_params = json.load(params_file)\n",
    "xgboost_params['objective'] = 'rank:pairwise'\n",
    "xgboost_params"
   ]
  },
  {
   "cell_type": "code",
   "execution_count": 47,
   "id": "7f36f9a2",
   "metadata": {
    "execution": {
     "iopub.execute_input": "2023-12-01T03:13:14.517225Z",
     "iopub.status.busy": "2023-12-01T03:13:14.516825Z",
     "iopub.status.idle": "2023-12-01T03:13:43.441631Z",
     "shell.execute_reply": "2023-12-01T03:13:43.440244Z"
    },
    "papermill": {
     "duration": 28.99588,
     "end_time": "2023-12-01T03:13:43.444099",
     "exception": false,
     "start_time": "2023-12-01T03:13:14.448219",
     "status": "completed"
    },
    "tags": []
   },
   "outputs": [
    {
     "name": "stdout",
     "output_type": "stream",
     "text": [
      "PureSVDRecommender: URM Detected 851 ( 6.5%) users with no interactions.\n",
      "PureSVDRecommender: URM Detected 476 ( 2.1%) items with no interactions.\n",
      "PureSVDRecommender: Computing SVD decomposition...\n",
      "PureSVDRecommender: Computing SVD decomposition... done in 0.22 sec\n",
      "ItemKNNCFRecommender: URM Detected 627 ( 4.8%) users with no interactions.\n",
      "ItemKNNCFRecommender: URM Detected 247 ( 1.1%) items with no interactions.\n",
      "Similarity column 22347 (100.0%), 4587.00 column/sec. Elapsed time 4.87 sec\n",
      "UserKNNCFRecommender: URM Detected 627 ( 4.8%) users with no interactions.\n",
      "UserKNNCFRecommender: URM Detected 247 ( 1.1%) items with no interactions.\n",
      "Similarity column 13024 (100.0%), 4793.47 column/sec. Elapsed time 2.72 sec\n",
      "RP3betaRecommender: URM Detected 627 ( 4.8%) users with no interactions.\n",
      "RP3betaRecommender: URM Detected 247 ( 1.1%) items with no interactions.\n",
      "RP3betaRecommender: Similarity column 22347 (100.0%), 2570.17 column/sec. Elapsed time 8.69 sec\n",
      "P3alphaRecommender: URM Detected 627 ( 4.8%) users with no interactions.\n",
      "P3alphaRecommender: URM Detected 247 ( 1.1%) items with no interactions.\n",
      "P3alphaRecommender: Similarity column 22347 (100.0%), 3097.71 column/sec. Elapsed time 7.21 sec\n",
      "ItemKNNSimilarityHybridRecommender: URM Detected 627 ( 4.8%) users with no interactions.\n",
      "ItemKNNSimilarityHybridRecommender: URM Detected 247 ( 1.1%) items with no interactions.\n",
      "Recommender_Base_Class: URM Detected 627 ( 4.8%) users with no interactions.\n",
      "Recommender_Base_Class: URM Detected 247 ( 1.1%) items with no interactions.\n"
     ]
    }
   ],
   "source": [
    "pure_svd = PureSVDRecommender(URM_train)\n",
    "pure_svd.fit(num_factors=10)\n",
    "user_factors_final_train = pure_svd.USER_factors\n",
    "\n",
    "recommender_item = ItemKNNCFRecommender(URM_train_complete)\n",
    "recommender_item.fit(**params_item_knn)\n",
    "\n",
    "recommender_user = UserKNNCFRecommender(URM_train_complete)\n",
    "recommender_user.fit(**params_user_knn)\n",
    "\n",
    "recommender_rp3 = RP3betaRecommender(URM_train_complete)\n",
    "recommender_rp3.fit(**params_rp3)\n",
    "\n",
    "recommender_p3a = P3alphaRecommender(URM_train_complete)\n",
    "recommender_p3a.fit(**params_p3alpha)\n",
    "\n",
    "hybrid_similarity = ItemKNNSimilarityHybridRecommender(URM_train_complete, recommender_item.W_sparse, recommender_rp3.W_sparse)\n",
    "hybrid_similarity.fit(**params_merging)\n",
    "\n",
    "weights = [params_lr_comb['w1'], params_lr_comb['w2'], params_lr_comb['w3']]\n",
    "linear_combinator = LinearCombinationRecommender(URM_train_complete, [recommender_item, recommender_rp3, recommender_p3a], weights)"
   ]
  },
  {
   "cell_type": "code",
   "execution_count": 48,
   "id": "d452856c",
   "metadata": {
    "execution": {
     "iopub.execute_input": "2023-12-01T03:13:43.582593Z",
     "iopub.status.busy": "2023-12-01T03:13:43.582164Z",
     "iopub.status.idle": "2023-12-01T03:15:18.499902Z",
     "shell.execute_reply": "2023-12-01T03:15:18.498983Z"
    },
    "papermill": {
     "duration": 94.989326,
     "end_time": "2023-12-01T03:15:18.502217",
     "exception": false,
     "start_time": "2023-12-01T03:13:43.512891",
     "status": "completed"
    },
    "tags": []
   },
   "outputs": [
    {
     "name": "stderr",
     "output_type": "stream",
     "text": [
      "/tmp/ipykernel_19/3290518112.py:7: TqdmDeprecationWarning:\n",
      "\n",
      "This function will be removed in tqdm==5.0.0\n",
      "Please use `tqdm.notebook.tqdm` instead of `tqdm.tqdm_notebook`\n",
      "\n"
     ]
    },
    {
     "data": {
      "application/vnd.jupyter.widget-view+json": {
       "model_id": "90d34a5cd260404d8294f4dc760aaf1e",
       "version_major": 2,
       "version_minor": 0
      },
      "text/plain": [
       "  0%|          | 0/13024 [00:00<?, ?it/s]"
      ]
     },
     "metadata": {},
     "output_type": "display_data"
    },
    {
     "name": "stderr",
     "output_type": "stream",
     "text": [
      "/tmp/ipykernel_19/3290518112.py:23: TqdmDeprecationWarning:\n",
      "\n",
      "This function will be removed in tqdm==5.0.0\n",
      "Please use `tqdm.notebook.tqdm` instead of `tqdm.tqdm_notebook`\n",
      "\n"
     ]
    },
    {
     "data": {
      "application/vnd.jupyter.widget-view+json": {
       "model_id": "0acfe88705c94c879381395930e61f47",
       "version_major": 2,
       "version_minor": 0
      },
      "text/plain": [
       "  0%|          | 0/13024 [00:00<?, ?it/s]"
      ]
     },
     "metadata": {},
     "output_type": "display_data"
    },
    {
     "data": {
      "text/html": [
       "<div>\n",
       "<style scoped>\n",
       "    .dataframe tbody tr th:only-of-type {\n",
       "        vertical-align: middle;\n",
       "    }\n",
       "\n",
       "    .dataframe tbody tr th {\n",
       "        vertical-align: top;\n",
       "    }\n",
       "\n",
       "    .dataframe thead th {\n",
       "        text-align: right;\n",
       "    }\n",
       "</style>\n",
       "<table border=\"1\" class=\"dataframe\">\n",
       "  <thead>\n",
       "    <tr style=\"text-align: right;\">\n",
       "      <th></th>\n",
       "      <th>UserID</th>\n",
       "      <th>ItemID</th>\n",
       "      <th>Label</th>\n",
       "      <th>UserKNN</th>\n",
       "      <th>RP3</th>\n",
       "      <th>P3alpha</th>\n",
       "      <th>PureSVD</th>\n",
       "      <th>Merging</th>\n",
       "      <th>ItemKNN</th>\n",
       "      <th>item_popularity</th>\n",
       "      <th>user_profile_len</th>\n",
       "      <th>mainstream_user</th>\n",
       "    </tr>\n",
       "  </thead>\n",
       "  <tbody>\n",
       "    <tr>\n",
       "      <th>0</th>\n",
       "      <td>0</td>\n",
       "      <td>35</td>\n",
       "      <td>False</td>\n",
       "      <td>3.245894</td>\n",
       "      <td>0.532635</td>\n",
       "      <td>0.465694</td>\n",
       "      <td>0.182140</td>\n",
       "      <td>0.578219</td>\n",
       "      <td>0.667676</td>\n",
       "      <td>571</td>\n",
       "      <td>34</td>\n",
       "      <td>162.470588</td>\n",
       "    </tr>\n",
       "    <tr>\n",
       "      <th>1</th>\n",
       "      <td>0</td>\n",
       "      <td>100</td>\n",
       "      <td>False</td>\n",
       "      <td>2.917171</td>\n",
       "      <td>0.369105</td>\n",
       "      <td>0.345509</td>\n",
       "      <td>0.101039</td>\n",
       "      <td>0.443021</td>\n",
       "      <td>0.588078</td>\n",
       "      <td>333</td>\n",
       "      <td>34</td>\n",
       "      <td>162.470588</td>\n",
       "    </tr>\n",
       "    <tr>\n",
       "      <th>2</th>\n",
       "      <td>0</td>\n",
       "      <td>505</td>\n",
       "      <td>False</td>\n",
       "      <td>1.330598</td>\n",
       "      <td>0.222410</td>\n",
       "      <td>0.133074</td>\n",
       "      <td>0.033540</td>\n",
       "      <td>0.260055</td>\n",
       "      <td>0.333933</td>\n",
       "      <td>105</td>\n",
       "      <td>34</td>\n",
       "      <td>162.470588</td>\n",
       "    </tr>\n",
       "    <tr>\n",
       "      <th>3</th>\n",
       "      <td>0</td>\n",
       "      <td>122</td>\n",
       "      <td>False</td>\n",
       "      <td>3.385918</td>\n",
       "      <td>0.202956</td>\n",
       "      <td>0.162935</td>\n",
       "      <td>-0.002788</td>\n",
       "      <td>0.231717</td>\n",
       "      <td>0.288159</td>\n",
       "      <td>155</td>\n",
       "      <td>34</td>\n",
       "      <td>162.470588</td>\n",
       "    </tr>\n",
       "    <tr>\n",
       "      <th>4</th>\n",
       "      <td>0</td>\n",
       "      <td>402</td>\n",
       "      <td>False</td>\n",
       "      <td>1.204698</td>\n",
       "      <td>0.222137</td>\n",
       "      <td>0.131656</td>\n",
       "      <td>0.032221</td>\n",
       "      <td>0.290169</td>\n",
       "      <td>0.423680</td>\n",
       "      <td>104</td>\n",
       "      <td>34</td>\n",
       "      <td>162.470588</td>\n",
       "    </tr>\n",
       "    <tr>\n",
       "      <th>...</th>\n",
       "      <td>...</td>\n",
       "      <td>...</td>\n",
       "      <td>...</td>\n",
       "      <td>...</td>\n",
       "      <td>...</td>\n",
       "      <td>...</td>\n",
       "      <td>...</td>\n",
       "      <td>...</td>\n",
       "      <td>...</td>\n",
       "      <td>...</td>\n",
       "      <td>...</td>\n",
       "      <td>...</td>\n",
       "    </tr>\n",
       "    <tr>\n",
       "      <th>390715</th>\n",
       "      <td>13023</td>\n",
       "      <td>842</td>\n",
       "      <td>False</td>\n",
       "      <td>1.726123</td>\n",
       "      <td>0.108645</td>\n",
       "      <td>0.052622</td>\n",
       "      <td>0.063526</td>\n",
       "      <td>0.182609</td>\n",
       "      <td>0.327758</td>\n",
       "      <td>91</td>\n",
       "      <td>60</td>\n",
       "      <td>140.333333</td>\n",
       "    </tr>\n",
       "    <tr>\n",
       "      <th>390716</th>\n",
       "      <td>13023</td>\n",
       "      <td>9589</td>\n",
       "      <td>False</td>\n",
       "      <td>1.086119</td>\n",
       "      <td>0.203020</td>\n",
       "      <td>0.133569</td>\n",
       "      <td>0.015982</td>\n",
       "      <td>0.301852</td>\n",
       "      <td>0.495802</td>\n",
       "      <td>10</td>\n",
       "      <td>60</td>\n",
       "      <td>140.333333</td>\n",
       "    </tr>\n",
       "    <tr>\n",
       "      <th>390717</th>\n",
       "      <td>13023</td>\n",
       "      <td>349</td>\n",
       "      <td>False</td>\n",
       "      <td>2.089214</td>\n",
       "      <td>0.217282</td>\n",
       "      <td>0.137585</td>\n",
       "      <td>0.104142</td>\n",
       "      <td>0.353909</td>\n",
       "      <td>0.622031</td>\n",
       "      <td>162</td>\n",
       "      <td>60</td>\n",
       "      <td>140.333333</td>\n",
       "    </tr>\n",
       "    <tr>\n",
       "      <th>390718</th>\n",
       "      <td>13023</td>\n",
       "      <td>334</td>\n",
       "      <td>False</td>\n",
       "      <td>1.664244</td>\n",
       "      <td>0.000000</td>\n",
       "      <td>0.000000</td>\n",
       "      <td>0.082029</td>\n",
       "      <td>0.093436</td>\n",
       "      <td>0.276798</td>\n",
       "      <td>163</td>\n",
       "      <td>60</td>\n",
       "      <td>140.333333</td>\n",
       "    </tr>\n",
       "    <tr>\n",
       "      <th>390719</th>\n",
       "      <td>13023</td>\n",
       "      <td>1408</td>\n",
       "      <td>False</td>\n",
       "      <td>0.223625</td>\n",
       "      <td>0.067475</td>\n",
       "      <td>0.047747</td>\n",
       "      <td>0.000926</td>\n",
       "      <td>0.109417</td>\n",
       "      <td>0.191727</td>\n",
       "      <td>34</td>\n",
       "      <td>60</td>\n",
       "      <td>140.333333</td>\n",
       "    </tr>\n",
       "  </tbody>\n",
       "</table>\n",
       "<p>390720 rows × 12 columns</p>\n",
       "</div>"
      ],
      "text/plain": [
       "        UserID ItemID  Label   UserKNN       RP3   P3alpha   PureSVD  \\\n",
       "0            0     35  False  3.245894  0.532635  0.465694  0.182140   \n",
       "1            0    100  False  2.917171  0.369105  0.345509  0.101039   \n",
       "2            0    505  False  1.330598  0.222410  0.133074  0.033540   \n",
       "3            0    122  False  3.385918  0.202956  0.162935 -0.002788   \n",
       "4            0    402  False  1.204698  0.222137  0.131656  0.032221   \n",
       "...        ...    ...    ...       ...       ...       ...       ...   \n",
       "390715   13023    842  False  1.726123  0.108645  0.052622  0.063526   \n",
       "390716   13023   9589  False  1.086119  0.203020  0.133569  0.015982   \n",
       "390717   13023    349  False  2.089214  0.217282  0.137585  0.104142   \n",
       "390718   13023    334  False  1.664244  0.000000  0.000000  0.082029   \n",
       "390719   13023   1408  False  0.223625  0.067475  0.047747  0.000926   \n",
       "\n",
       "         Merging   ItemKNN  item_popularity  user_profile_len  mainstream_user  \n",
       "0       0.578219  0.667676              571                34       162.470588  \n",
       "1       0.443021  0.588078              333                34       162.470588  \n",
       "2       0.260055  0.333933              105                34       162.470588  \n",
       "3       0.231717  0.288159              155                34       162.470588  \n",
       "4       0.290169  0.423680              104                34       162.470588  \n",
       "...          ...       ...              ...               ...              ...  \n",
       "390715  0.182609  0.327758               91                60       140.333333  \n",
       "390716  0.301852  0.495802               10                60       140.333333  \n",
       "390717  0.353909  0.622031              162                60       140.333333  \n",
       "390718  0.093436  0.276798              163                60       140.333333  \n",
       "390719  0.109417  0.191727               34                60       140.333333  \n",
       "\n",
       "[390720 rows x 12 columns]"
      ]
     },
     "execution_count": 48,
     "metadata": {},
     "output_type": "execute_result"
    }
   ],
   "source": [
    "cutoff = 30\n",
    "n_users, n_items = URM_train_complete.shape\n",
    "\n",
    "final_train_dataframe = pd.DataFrame(index=range(0, n_users), columns = [\"ItemID\"])\n",
    "final_train_dataframe.index.name='UserID'\n",
    "\n",
    "for user_id in tqdm.tqdm_notebook(range(n_users)):    \n",
    "    recommendations = linear_combinator.recommend(user_id, cutoff = cutoff)\n",
    "    final_train_dataframe.loc[user_id, \"ItemID\"] = recommendations\n",
    "    \n",
    "final_train_dataframe = final_train_dataframe.explode(\"ItemID\")\n",
    "\n",
    "URM_test_complete_coo = sps.coo_matrix(URM_test_complete)\n",
    "\n",
    "correct_recommendations = pd.DataFrame({\"UserID\": URM_test_complete_coo.row,\n",
    "                                        \"ItemID\": URM_test_complete_coo.col})\n",
    "final_train_dataframe = pd.merge(final_train_dataframe, correct_recommendations, on=['UserID','ItemID'], how='left', indicator='Exist')\n",
    "final_train_dataframe[\"Label\"] = final_train_dataframe[\"Exist\"] == \"both\"\n",
    "final_train_dataframe.drop(columns = ['Exist'], inplace=True)\n",
    "\n",
    "final_train_dataframe = training_dataframe.set_index('UserID')\n",
    "\n",
    "for user_id in tqdm.tqdm_notebook(range(n_users)):\n",
    "    item_list = final_train_dataframe.loc[user_id, \"ItemID\"].values.tolist()\n",
    "    \n",
    "    final_train_dataframe.loc[user_id, 'UserKNN'] = recommender_user._compute_item_score([user_id], items_to_compute = item_list)[0, item_list]\n",
    "    final_train_dataframe.loc[user_id, 'RP3'] = recommender_rp3._compute_item_score([user_id], items_to_compute = item_list)[0, item_list]\n",
    "    final_train_dataframe.loc[user_id, 'P3alpha'] = recommender_p3a._compute_item_score([user_id], items_to_compute = item_list)[0, item_list]\n",
    "    final_train_dataframe.loc[user_id, 'PureSVD'] = pure_svd._compute_item_score([user_id], items_to_compute = item_list)[0, item_list]\n",
    "    final_train_dataframe.loc[user_id, 'Merging'] = hybrid_similarity._compute_item_score([user_id], items_to_compute = item_list)[0, item_list]\n",
    "    final_train_dataframe.loc[user_id, 'ItemKNN'] = recommender_item._compute_item_score([user_id], items_to_compute = item_list)[0, item_list]\n",
    "\n",
    "final_train_dataframe = final_train_dataframe.reset_index()\n",
    "final_train_dataframe = final_train_dataframe.rename(columns = {\"index\": \"UserID\"})\n",
    "\n",
    "item_popularity = np.ediff1d(sps.csc_matrix(URM_train_complete).indptr)\n",
    "final_train_dataframe['item_popularity'] = item_popularity[final_train_dataframe[\"ItemID\"].values.astype(int)]\n",
    "user_popularity = np.ediff1d(sps.csr_matrix(URM_train_complete).indptr)\n",
    "final_train_dataframe['user_profile_len'] = user_popularity[final_train_dataframe[\"UserID\"].values.astype(int)]\n",
    "\n",
    "mainstream_user = URM_all.dot(item_popularity) / np.where(user_popularity == 0, 1, user_popularity)\n",
    "final_train_dataframe['mainstream_user'] = mainstream_user[final_train_dataframe[\"UserID\"].values.astype(int)]\n",
    "\n",
    "# user_factors_df = pd.DataFrame(user_factors_final_train, columns=[f'factor_{i}' for i in range(user_factors_train.shape[1])])\n",
    "\n",
    "# final_train_dataframe = final_train_dataframe.merge(user_factors_df, left_on='UserID', right_index=True)\n",
    "final_train_dataframe"
   ]
  },
  {
   "cell_type": "code",
   "execution_count": 49,
   "id": "2fdf7fe6",
   "metadata": {
    "execution": {
     "iopub.execute_input": "2023-12-01T03:15:18.642200Z",
     "iopub.status.busy": "2023-12-01T03:15:18.641785Z",
     "iopub.status.idle": "2023-12-01T03:15:18.658195Z",
     "shell.execute_reply": "2023-12-01T03:15:18.657087Z"
    },
    "papermill": {
     "duration": 0.088945,
     "end_time": "2023-12-01T03:15:18.660475",
     "exception": false,
     "start_time": "2023-12-01T03:15:18.571530",
     "status": "completed"
    },
    "tags": []
   },
   "outputs": [
    {
     "data": {
      "text/plain": [
       "array([30, 30, 30, ..., 30, 30, 30])"
      ]
     },
     "execution_count": 49,
     "metadata": {},
     "output_type": "execute_result"
    }
   ],
   "source": [
    "groups = final_train_dataframe.groupby(\"UserID\").size().values\n",
    "groups"
   ]
  },
  {
   "cell_type": "code",
   "execution_count": 50,
   "id": "ca53d755",
   "metadata": {
    "execution": {
     "iopub.execute_input": "2023-12-01T03:15:18.804030Z",
     "iopub.status.busy": "2023-12-01T03:15:18.803648Z",
     "iopub.status.idle": "2023-12-01T03:15:32.392333Z",
     "shell.execute_reply": "2023-12-01T03:15:32.391129Z"
    },
    "papermill": {
     "duration": 13.664995,
     "end_time": "2023-12-01T03:15:32.394940",
     "exception": false,
     "start_time": "2023-12-01T03:15:18.729945",
     "status": "completed"
    },
    "tags": []
   },
   "outputs": [
    {
     "name": "stderr",
     "output_type": "stream",
     "text": [
      "/opt/conda/lib/python3.10/site-packages/xgboost/core.py:160: UserWarning:\n",
      "\n",
      "[03:15:18] WARNING: /workspace/src/learner.cc:742: \n",
      "Parameters: { \"colsample_bytree\", \"gamma\", \"grow_policy\", \"max_depth\", \"max_leaves\", \"min_child_weight\", \"subsample\" } are not used.\n",
      "\n",
      "\n"
     ]
    },
    {
     "data": {
      "text/html": [
       "<style>#sk-container-id-2 {color: black;background-color: white;}#sk-container-id-2 pre{padding: 0;}#sk-container-id-2 div.sk-toggleable {background-color: white;}#sk-container-id-2 label.sk-toggleable__label {cursor: pointer;display: block;width: 100%;margin-bottom: 0;padding: 0.3em;box-sizing: border-box;text-align: center;}#sk-container-id-2 label.sk-toggleable__label-arrow:before {content: \"▸\";float: left;margin-right: 0.25em;color: #696969;}#sk-container-id-2 label.sk-toggleable__label-arrow:hover:before {color: black;}#sk-container-id-2 div.sk-estimator:hover label.sk-toggleable__label-arrow:before {color: black;}#sk-container-id-2 div.sk-toggleable__content {max-height: 0;max-width: 0;overflow: hidden;text-align: left;background-color: #f0f8ff;}#sk-container-id-2 div.sk-toggleable__content pre {margin: 0.2em;color: black;border-radius: 0.25em;background-color: #f0f8ff;}#sk-container-id-2 input.sk-toggleable__control:checked~div.sk-toggleable__content {max-height: 200px;max-width: 100%;overflow: auto;}#sk-container-id-2 input.sk-toggleable__control:checked~label.sk-toggleable__label-arrow:before {content: \"▾\";}#sk-container-id-2 div.sk-estimator input.sk-toggleable__control:checked~label.sk-toggleable__label {background-color: #d4ebff;}#sk-container-id-2 div.sk-label input.sk-toggleable__control:checked~label.sk-toggleable__label {background-color: #d4ebff;}#sk-container-id-2 input.sk-hidden--visually {border: 0;clip: rect(1px 1px 1px 1px);clip: rect(1px, 1px, 1px, 1px);height: 1px;margin: -1px;overflow: hidden;padding: 0;position: absolute;width: 1px;}#sk-container-id-2 div.sk-estimator {font-family: monospace;background-color: #f0f8ff;border: 1px dotted black;border-radius: 0.25em;box-sizing: border-box;margin-bottom: 0.5em;}#sk-container-id-2 div.sk-estimator:hover {background-color: #d4ebff;}#sk-container-id-2 div.sk-parallel-item::after {content: \"\";width: 100%;border-bottom: 1px solid gray;flex-grow: 1;}#sk-container-id-2 div.sk-label:hover label.sk-toggleable__label {background-color: #d4ebff;}#sk-container-id-2 div.sk-serial::before {content: \"\";position: absolute;border-left: 1px solid gray;box-sizing: border-box;top: 0;bottom: 0;left: 50%;z-index: 0;}#sk-container-id-2 div.sk-serial {display: flex;flex-direction: column;align-items: center;background-color: white;padding-right: 0.2em;padding-left: 0.2em;position: relative;}#sk-container-id-2 div.sk-item {position: relative;z-index: 1;}#sk-container-id-2 div.sk-parallel {display: flex;align-items: stretch;justify-content: center;background-color: white;position: relative;}#sk-container-id-2 div.sk-item::before, #sk-container-id-2 div.sk-parallel-item::before {content: \"\";position: absolute;border-left: 1px solid gray;box-sizing: border-box;top: 0;bottom: 0;left: 50%;z-index: -1;}#sk-container-id-2 div.sk-parallel-item {display: flex;flex-direction: column;z-index: 1;position: relative;background-color: white;}#sk-container-id-2 div.sk-parallel-item:first-child::after {align-self: flex-end;width: 50%;}#sk-container-id-2 div.sk-parallel-item:last-child::after {align-self: flex-start;width: 50%;}#sk-container-id-2 div.sk-parallel-item:only-child::after {width: 0;}#sk-container-id-2 div.sk-dashed-wrapped {border: 1px dashed gray;margin: 0 0.4em 0.5em 0.4em;box-sizing: border-box;padding-bottom: 0.4em;background-color: white;}#sk-container-id-2 div.sk-label label {font-family: monospace;font-weight: bold;display: inline-block;line-height: 1.2em;}#sk-container-id-2 div.sk-label-container {text-align: center;}#sk-container-id-2 div.sk-container {/* jupyter's `normalize.less` sets `[hidden] { display: none; }` but bootstrap.min.css set `[hidden] { display: none !important; }` so we also need the `!important` here to be able to override the default hidden behavior on the sphinx rendered scikit-learn.org. See: https://github.com/scikit-learn/scikit-learn/issues/21755 */display: inline-block !important;position: relative;}#sk-container-id-2 div.sk-text-repr-fallback {display: none;}</style><div id=\"sk-container-id-2\" class=\"sk-top-container\"><div class=\"sk-text-repr-fallback\"><pre>XGBRanker(base_score=None, booster=&#x27;gblinear&#x27;, callbacks=None,\n",
       "          colsample_bylevel=None, colsample_bynode=None,\n",
       "          colsample_bytree=0.5849188987846436, device=None,\n",
       "          early_stopping_rounds=None, enable_categorical=False,\n",
       "          eval_metric=None, feature_types=None, gamma=0.9659465802070879,\n",
       "          grow_policy=&#x27;depthwise&#x27;, importance_type=None,\n",
       "          interaction_constraints=None, learning_rate=0.354087361765763,\n",
       "          max_bin=None, max_cat_threshold=None, max_cat_to_onehot=None,\n",
       "          max_delta_step=None, max_depth=15, max_leaves=135,\n",
       "          min_child_weight=0.002259331874550791, missing=nan,\n",
       "          monotone_constraints=None, multi_strategy=None, n_estimators=199,\n",
       "          n_jobs=None, num_parallel_tree=None, objective=&#x27;rank:pairwise&#x27;, ...)</pre><b>In a Jupyter environment, please rerun this cell to show the HTML representation or trust the notebook. <br />On GitHub, the HTML representation is unable to render, please try loading this page with nbviewer.org.</b></div><div class=\"sk-container\" hidden><div class=\"sk-item\"><div class=\"sk-estimator sk-toggleable\"><input class=\"sk-toggleable__control sk-hidden--visually\" id=\"sk-estimator-id-2\" type=\"checkbox\" checked><label for=\"sk-estimator-id-2\" class=\"sk-toggleable__label sk-toggleable__label-arrow\">XGBRanker</label><div class=\"sk-toggleable__content\"><pre>XGBRanker(base_score=None, booster=&#x27;gblinear&#x27;, callbacks=None,\n",
       "          colsample_bylevel=None, colsample_bynode=None,\n",
       "          colsample_bytree=0.5849188987846436, device=None,\n",
       "          early_stopping_rounds=None, enable_categorical=False,\n",
       "          eval_metric=None, feature_types=None, gamma=0.9659465802070879,\n",
       "          grow_policy=&#x27;depthwise&#x27;, importance_type=None,\n",
       "          interaction_constraints=None, learning_rate=0.354087361765763,\n",
       "          max_bin=None, max_cat_threshold=None, max_cat_to_onehot=None,\n",
       "          max_delta_step=None, max_depth=15, max_leaves=135,\n",
       "          min_child_weight=0.002259331874550791, missing=nan,\n",
       "          monotone_constraints=None, multi_strategy=None, n_estimators=199,\n",
       "          n_jobs=None, num_parallel_tree=None, objective=&#x27;rank:pairwise&#x27;, ...)</pre></div></div></div></div></div>"
      ],
      "text/plain": [
       "XGBRanker(base_score=None, booster='gblinear', callbacks=None,\n",
       "          colsample_bylevel=None, colsample_bynode=None,\n",
       "          colsample_bytree=0.5849188987846436, device=None,\n",
       "          early_stopping_rounds=None, enable_categorical=False,\n",
       "          eval_metric=None, feature_types=None, gamma=0.9659465802070879,\n",
       "          grow_policy='depthwise', importance_type=None,\n",
       "          interaction_constraints=None, learning_rate=0.354087361765763,\n",
       "          max_bin=None, max_cat_threshold=None, max_cat_to_onehot=None,\n",
       "          max_delta_step=None, max_depth=15, max_leaves=135,\n",
       "          min_child_weight=0.002259331874550791, missing=nan,\n",
       "          monotone_constraints=None, multi_strategy=None, n_estimators=199,\n",
       "          n_jobs=None, num_parallel_tree=None, objective='rank:pairwise', ...)"
      ]
     },
     "execution_count": 50,
     "metadata": {},
     "output_type": "execute_result"
    }
   ],
   "source": [
    "XGB_model = XGBRanker(**xgboost_params)\n",
    "\n",
    "y_train = final_train_dataframe[\"Label\"]\n",
    "X_train = final_train_dataframe.drop(columns=[\"Label\"])\n",
    "X_train[\"UserID\"] = X_train[\"UserID\"].astype(int)\n",
    "X_train[\"ItemID\"] = X_train[\"ItemID\"].astype(int)\n",
    "\n",
    "XGB_model.fit(\n",
    "    X_train,\n",
    "    y_train,\n",
    "    group=groups,\n",
    "    verbose=True\n",
    ")"
   ]
  },
  {
   "cell_type": "code",
   "execution_count": 51,
   "id": "2995defd",
   "metadata": {
    "execution": {
     "iopub.execute_input": "2023-12-01T03:15:32.537537Z",
     "iopub.status.busy": "2023-12-01T03:15:32.537116Z",
     "iopub.status.idle": "2023-12-01T03:15:32.933516Z",
     "shell.execute_reply": "2023-12-01T03:15:32.932337Z"
    },
    "papermill": {
     "duration": 0.47053,
     "end_time": "2023-12-01T03:15:32.936095",
     "exception": false,
     "start_time": "2023-12-01T03:15:32.465565",
     "status": "completed"
    },
    "tags": []
   },
   "outputs": [
    {
     "data": {
      "text/plain": [
       "<Axes: title={'center': 'Weight (Frequence)'}, xlabel='F score', ylabel='Features'>"
      ]
     },
     "execution_count": 51,
     "metadata": {},
     "output_type": "execute_result"
    },
    {
     "data": {
      "image/png": "[encoded data removed]",
      "text/plain": [
       "<Figure size 640x480 with 1 Axes>"
      ]
     },
     "metadata": {},
     "output_type": "display_data"
    }
   ],
   "source": [
    "plot_importance(XGB_model, importance_type='weight', title='Weight (Frequence)')"
   ]
  },
  {
   "cell_type": "code",
   "execution_count": 52,
   "id": "669f41ca",
   "metadata": {
    "execution": {
     "iopub.execute_input": "2023-12-01T03:15:33.082582Z",
     "iopub.status.busy": "2023-12-01T03:15:33.082148Z",
     "iopub.status.idle": "2023-12-01T03:16:00.671500Z",
     "shell.execute_reply": "2023-12-01T03:16:00.670302Z"
    },
    "papermill": {
     "duration": 27.665895,
     "end_time": "2023-12-01T03:16:00.674028",
     "exception": false,
     "start_time": "2023-12-01T03:15:33.008133",
     "status": "completed"
    },
    "tags": []
   },
   "outputs": [
    {
     "name": "stdout",
     "output_type": "stream",
     "text": [
      "PureSVDRecommender: URM Detected 851 ( 6.5%) users with no interactions.\n",
      "PureSVDRecommender: URM Detected 476 ( 2.1%) items with no interactions.\n",
      "PureSVDRecommender: Computing SVD decomposition...\n",
      "PureSVDRecommender: Computing SVD decomposition... done in 0.23 sec\n",
      "ItemKNNCFRecommender: URM Detected 386 ( 3.0%) users with no interactions.\n",
      "ItemKNNCFRecommender: URM Detected 125 ( 0.6%) items with no interactions.\n",
      "Similarity column 22347 (100.0%), 4281.39 column/sec. Elapsed time 5.22 sec\n",
      "RP3betaRecommender: URM Detected 386 ( 3.0%) users with no interactions.\n",
      "RP3betaRecommender: URM Detected 125 ( 0.6%) items with no interactions.\n",
      "RP3betaRecommender: Similarity column 22347 (100.0%), 2368.80 column/sec. Elapsed time 9.43 sec\n",
      "P3alphaRecommender: URM Detected 386 ( 3.0%) users with no interactions.\n",
      "P3alphaRecommender: URM Detected 125 ( 0.6%) items with no interactions.\n",
      "P3alphaRecommender: Similarity column 22347 (100.0%), 2810.00 column/sec. Elapsed time 7.95 sec\n",
      "ItemKNNSimilarityHybridRecommender: URM Detected 386 ( 3.0%) users with no interactions.\n",
      "ItemKNNSimilarityHybridRecommender: URM Detected 125 ( 0.6%) items with no interactions.\n",
      "Recommender_Base_Class: URM Detected 386 ( 3.0%) users with no interactions.\n",
      "Recommender_Base_Class: URM Detected 125 ( 0.6%) items with no interactions.\n"
     ]
    }
   ],
   "source": [
    "pure_svd = PureSVDRecommender(URM_train)\n",
    "pure_svd.fit(num_factors=10)\n",
    "user_factors_prediction = pure_svd.USER_factors\n",
    "\n",
    "recommender_item = ItemKNNCFRecommender(URM_all)\n",
    "recommender_item.fit(**params_item_knn)\n",
    "\n",
    "recommender_rp3 = RP3betaRecommender(URM_all)\n",
    "recommender_rp3.fit(**params_rp3)\n",
    "\n",
    "recommender_p3a = P3alphaRecommender(URM_all)\n",
    "recommender_p3a.fit(**params_p3alpha)\n",
    "\n",
    "hybrid_similarity = ItemKNNSimilarityHybridRecommender(URM_all, recommender_item.W_sparse, recommender_rp3.W_sparse)\n",
    "hybrid_similarity.fit(**params_merging)\n",
    "\n",
    "weights = [params_lr_comb['w1'], params_lr_comb['w2'], params_lr_comb['w3']]\n",
    "linear_combinator = LinearCombinationRecommender(URM_all, [recommender_item, recommender_rp3, recommender_p3a], weights)"
   ]
  },
  {
   "cell_type": "code",
   "execution_count": 53,
   "id": "6a1c8d93",
   "metadata": {
    "execution": {
     "iopub.execute_input": "2023-12-01T03:16:00.838959Z",
     "iopub.status.busy": "2023-12-01T03:16:00.838581Z",
     "iopub.status.idle": "2023-12-01T03:17:33.655469Z",
     "shell.execute_reply": "2023-12-01T03:17:33.654565Z"
    },
    "papermill": {
     "duration": 92.901062,
     "end_time": "2023-12-01T03:17:33.657886",
     "exception": false,
     "start_time": "2023-12-01T03:16:00.756824",
     "status": "completed"
    },
    "tags": []
   },
   "outputs": [
    {
     "name": "stderr",
     "output_type": "stream",
     "text": [
      "/tmp/ipykernel_19/3799021474.py:7: TqdmDeprecationWarning:\n",
      "\n",
      "This function will be removed in tqdm==5.0.0\n",
      "Please use `tqdm.notebook.tqdm` instead of `tqdm.tqdm_notebook`\n",
      "\n"
     ]
    },
    {
     "data": {
      "application/vnd.jupyter.widget-view+json": {
       "model_id": "94f8d28f579145e6b1aa10c8906c7d28",
       "version_major": 2,
       "version_minor": 0
      },
      "text/plain": [
       "  0%|          | 0/13024 [00:00<?, ?it/s]"
      ]
     },
     "metadata": {},
     "output_type": "display_data"
    },
    {
     "name": "stderr",
     "output_type": "stream",
     "text": [
      "/tmp/ipykernel_19/3799021474.py:13: TqdmDeprecationWarning:\n",
      "\n",
      "This function will be removed in tqdm==5.0.0\n",
      "Please use `tqdm.notebook.tqdm` instead of `tqdm.tqdm_notebook`\n",
      "\n"
     ]
    },
    {
     "data": {
      "application/vnd.jupyter.widget-view+json": {
       "model_id": "137b2af0d02d4bf095c4eb012f92e2fa",
       "version_major": 2,
       "version_minor": 0
      },
      "text/plain": [
       "  0%|          | 0/13024 [00:00<?, ?it/s]"
      ]
     },
     "metadata": {},
     "output_type": "display_data"
    },
    {
     "data": {
      "text/html": [
       "<div>\n",
       "<style scoped>\n",
       "    .dataframe tbody tr th:only-of-type {\n",
       "        vertical-align: middle;\n",
       "    }\n",
       "\n",
       "    .dataframe tbody tr th {\n",
       "        vertical-align: top;\n",
       "    }\n",
       "\n",
       "    .dataframe thead th {\n",
       "        text-align: right;\n",
       "    }\n",
       "</style>\n",
       "<table border=\"1\" class=\"dataframe\">\n",
       "  <thead>\n",
       "    <tr style=\"text-align: right;\">\n",
       "      <th></th>\n",
       "      <th>UserID</th>\n",
       "      <th>ItemID</th>\n",
       "      <th>UserKNN</th>\n",
       "      <th>RP3</th>\n",
       "      <th>P3alpha</th>\n",
       "      <th>PureSVD</th>\n",
       "      <th>Merging</th>\n",
       "      <th>ItemKNN</th>\n",
       "      <th>item_popularity</th>\n",
       "      <th>user_profile_len</th>\n",
       "      <th>mainstream_user</th>\n",
       "    </tr>\n",
       "  </thead>\n",
       "  <tbody>\n",
       "    <tr>\n",
       "      <th>0</th>\n",
       "      <td>0</td>\n",
       "      <td>35</td>\n",
       "      <td>3.245894</td>\n",
       "      <td>0.582968</td>\n",
       "      <td>0.547170</td>\n",
       "      <td>0.172235</td>\n",
       "      <td>0.735422</td>\n",
       "      <td>1.034604</td>\n",
       "      <td>713</td>\n",
       "      <td>44</td>\n",
       "      <td>157.795455</td>\n",
       "    </tr>\n",
       "    <tr>\n",
       "      <th>1</th>\n",
       "      <td>0</td>\n",
       "      <td>100</td>\n",
       "      <td>2.917171</td>\n",
       "      <td>0.504033</td>\n",
       "      <td>0.412977</td>\n",
       "      <td>0.098410</td>\n",
       "      <td>0.690468</td>\n",
       "      <td>1.056338</td>\n",
       "      <td>426</td>\n",
       "      <td>44</td>\n",
       "      <td>157.795455</td>\n",
       "    </tr>\n",
       "    <tr>\n",
       "      <th>2</th>\n",
       "      <td>0</td>\n",
       "      <td>402</td>\n",
       "      <td>1.204698</td>\n",
       "      <td>0.293038</td>\n",
       "      <td>0.181247</td>\n",
       "      <td>0.032064</td>\n",
       "      <td>0.432134</td>\n",
       "      <td>0.705102</td>\n",
       "      <td>131</td>\n",
       "      <td>44</td>\n",
       "      <td>157.795455</td>\n",
       "    </tr>\n",
       "    <tr>\n",
       "      <th>3</th>\n",
       "      <td>0</td>\n",
       "      <td>505</td>\n",
       "      <td>1.330598</td>\n",
       "      <td>0.227102</td>\n",
       "      <td>0.132908</td>\n",
       "      <td>0.033177</td>\n",
       "      <td>0.320689</td>\n",
       "      <td>0.504349</td>\n",
       "      <td>119</td>\n",
       "      <td>44</td>\n",
       "      <td>157.795455</td>\n",
       "    </tr>\n",
       "    <tr>\n",
       "      <th>4</th>\n",
       "      <td>0</td>\n",
       "      <td>514</td>\n",
       "      <td>1.116114</td>\n",
       "      <td>0.221572</td>\n",
       "      <td>0.107178</td>\n",
       "      <td>0.023935</td>\n",
       "      <td>0.313993</td>\n",
       "      <td>0.495366</td>\n",
       "      <td>97</td>\n",
       "      <td>44</td>\n",
       "      <td>157.795455</td>\n",
       "    </tr>\n",
       "    <tr>\n",
       "      <th>...</th>\n",
       "      <td>...</td>\n",
       "      <td>...</td>\n",
       "      <td>...</td>\n",
       "      <td>...</td>\n",
       "      <td>...</td>\n",
       "      <td>...</td>\n",
       "      <td>...</td>\n",
       "      <td>...</td>\n",
       "      <td>...</td>\n",
       "      <td>...</td>\n",
       "      <td>...</td>\n",
       "    </tr>\n",
       "    <tr>\n",
       "      <th>390715</th>\n",
       "      <td>13023</td>\n",
       "      <td>2236</td>\n",
       "      <td>0.441869</td>\n",
       "      <td>0.133758</td>\n",
       "      <td>0.091180</td>\n",
       "      <td>0.001602</td>\n",
       "      <td>0.269168</td>\n",
       "      <td>0.534904</td>\n",
       "      <td>37</td>\n",
       "      <td>71</td>\n",
       "      <td>147.563380</td>\n",
       "    </tr>\n",
       "    <tr>\n",
       "      <th>390716</th>\n",
       "      <td>13023</td>\n",
       "      <td>623</td>\n",
       "      <td>0.492786</td>\n",
       "      <td>0.134283</td>\n",
       "      <td>0.103094</td>\n",
       "      <td>0.018290</td>\n",
       "      <td>0.253764</td>\n",
       "      <td>0.488237</td>\n",
       "      <td>99</td>\n",
       "      <td>71</td>\n",
       "      <td>147.563380</td>\n",
       "    </tr>\n",
       "    <tr>\n",
       "      <th>390717</th>\n",
       "      <td>13023</td>\n",
       "      <td>705</td>\n",
       "      <td>0.239898</td>\n",
       "      <td>0.136817</td>\n",
       "      <td>0.107493</td>\n",
       "      <td>0.004991</td>\n",
       "      <td>0.248729</td>\n",
       "      <td>0.468351</td>\n",
       "      <td>110</td>\n",
       "      <td>71</td>\n",
       "      <td>147.563380</td>\n",
       "    </tr>\n",
       "    <tr>\n",
       "      <th>390718</th>\n",
       "      <td>13023</td>\n",
       "      <td>836</td>\n",
       "      <td>0.224060</td>\n",
       "      <td>0.145385</td>\n",
       "      <td>0.086341</td>\n",
       "      <td>0.002991</td>\n",
       "      <td>0.246191</td>\n",
       "      <td>0.444019</td>\n",
       "      <td>94</td>\n",
       "      <td>71</td>\n",
       "      <td>147.563380</td>\n",
       "    </tr>\n",
       "    <tr>\n",
       "      <th>390719</th>\n",
       "      <td>13023</td>\n",
       "      <td>145</td>\n",
       "      <td>2.120581</td>\n",
       "      <td>0.122682</td>\n",
       "      <td>0.069478</td>\n",
       "      <td>0.119752</td>\n",
       "      <td>0.237499</td>\n",
       "      <td>0.462820</td>\n",
       "      <td>389</td>\n",
       "      <td>71</td>\n",
       "      <td>147.563380</td>\n",
       "    </tr>\n",
       "  </tbody>\n",
       "</table>\n",
       "<p>390720 rows × 11 columns</p>\n",
       "</div>"
      ],
      "text/plain": [
       "        UserID  ItemID   UserKNN       RP3   P3alpha   PureSVD   Merging  \\\n",
       "0            0      35  3.245894  0.582968  0.547170  0.172235  0.735422   \n",
       "1            0     100  2.917171  0.504033  0.412977  0.098410  0.690468   \n",
       "2            0     402  1.204698  0.293038  0.181247  0.032064  0.432134   \n",
       "3            0     505  1.330598  0.227102  0.132908  0.033177  0.320689   \n",
       "4            0     514  1.116114  0.221572  0.107178  0.023935  0.313993   \n",
       "...        ...     ...       ...       ...       ...       ...       ...   \n",
       "390715   13023    2236  0.441869  0.133758  0.091180  0.001602  0.269168   \n",
       "390716   13023     623  0.492786  0.134283  0.103094  0.018290  0.253764   \n",
       "390717   13023     705  0.239898  0.136817  0.107493  0.004991  0.248729   \n",
       "390718   13023     836  0.224060  0.145385  0.086341  0.002991  0.246191   \n",
       "390719   13023     145  2.120581  0.122682  0.069478  0.119752  0.237499   \n",
       "\n",
       "         ItemKNN  item_popularity  user_profile_len  mainstream_user  \n",
       "0       1.034604              713                44       157.795455  \n",
       "1       1.056338              426                44       157.795455  \n",
       "2       0.705102              131                44       157.795455  \n",
       "3       0.504349              119                44       157.795455  \n",
       "4       0.495366               97                44       157.795455  \n",
       "...          ...              ...               ...              ...  \n",
       "390715  0.534904               37                71       147.563380  \n",
       "390716  0.488237               99                71       147.563380  \n",
       "390717  0.468351              110                71       147.563380  \n",
       "390718  0.444019               94                71       147.563380  \n",
       "390719  0.462820              389                71       147.563380  \n",
       "\n",
       "[390720 rows x 11 columns]"
      ]
     },
     "execution_count": 53,
     "metadata": {},
     "output_type": "execute_result"
    }
   ],
   "source": [
    "cutoff = 30\n",
    "n_users, n_items = URM_all.shape\n",
    "\n",
    "prediction_dataframe = pd.DataFrame(index=range(0, n_users), columns = [\"ItemID\"])\n",
    "prediction_dataframe.index.name='UserID'\n",
    "\n",
    "for user_id in tqdm.tqdm_notebook(range(n_users)):    \n",
    "    recommendations = linear_combinator.recommend(user_id, cutoff = cutoff)\n",
    "    prediction_dataframe.loc[user_id, \"ItemID\"] = recommendations\n",
    "    \n",
    "prediction_dataframe = prediction_dataframe.explode(\"ItemID\")\n",
    "\n",
    "for user_id in tqdm.tqdm_notebook(range(n_users)):\n",
    "    item_list = prediction_dataframe.loc[user_id, \"ItemID\"].values.tolist()\n",
    "    \n",
    "    prediction_dataframe.loc[user_id, 'UserKNN'] = recommender_user._compute_item_score([user_id], items_to_compute = item_list)[0, item_list]\n",
    "    prediction_dataframe.loc[user_id, 'RP3'] = recommender_rp3._compute_item_score([user_id], items_to_compute = item_list)[0, item_list]\n",
    "    prediction_dataframe.loc[user_id, 'P3alpha'] = recommender_p3a._compute_item_score([user_id], items_to_compute = item_list)[0, item_list]\n",
    "    prediction_dataframe.loc[user_id, 'PureSVD'] = pure_svd._compute_item_score([user_id], items_to_compute = item_list)[0, item_list]\n",
    "    prediction_dataframe.loc[user_id, 'Merging'] = hybrid_similarity._compute_item_score([user_id], items_to_compute = item_list)[0, item_list]\n",
    "    prediction_dataframe.loc[user_id, 'ItemKNN'] = recommender_item._compute_item_score([user_id], items_to_compute = item_list)[0, item_list]\n",
    "\n",
    "prediction_dataframe = prediction_dataframe.reset_index()\n",
    "prediction_dataframe = prediction_dataframe.rename(columns = {\"index\": \"UserID\"})\n",
    "\n",
    "item_popularity = np.ediff1d(sps.csc_matrix(URM_all).indptr)\n",
    "prediction_dataframe['item_popularity'] = item_popularity[prediction_dataframe[\"ItemID\"].values.astype(int)]\n",
    "user_popularity = np.ediff1d(sps.csr_matrix(URM_all).indptr)\n",
    "prediction_dataframe['user_profile_len'] = user_popularity[prediction_dataframe[\"UserID\"].values.astype(int)]\n",
    "\n",
    "mainstream_user = URM_all.dot(item_popularity) / np.where(user_popularity == 0, 1, user_popularity)\n",
    "prediction_dataframe['mainstream_user'] = mainstream_user[prediction_dataframe[\"UserID\"].values.astype(int)]\n",
    "\n",
    "# user_factors_df = pd.DataFrame(user_factors_prediction, columns=[f'factor_{i}' for i in range(user_factors_train.shape[1])])\n",
    "\n",
    "# prediction_dataframe = prediction_dataframe.merge(user_factors_df, left_on='UserID', right_index=True)\n",
    "\n",
    "prediction_dataframe[\"UserID\"] = prediction_dataframe[\"UserID\"].astype(int)\n",
    "prediction_dataframe[\"ItemID\"] = prediction_dataframe[\"ItemID\"].astype(int)\n",
    "prediction_dataframe"
   ]
  },
  {
   "cell_type": "code",
   "execution_count": 54,
   "id": "1c532cef",
   "metadata": {
    "execution": {
     "iopub.execute_input": "2023-12-01T03:17:33.806568Z",
     "iopub.status.busy": "2023-12-01T03:17:33.806155Z",
     "iopub.status.idle": "2023-12-01T03:17:33.810750Z",
     "shell.execute_reply": "2023-12-01T03:17:33.809712Z"
    },
    "papermill": {
     "duration": 0.081366,
     "end_time": "2023-12-01T03:17:33.812967",
     "exception": false,
     "start_time": "2023-12-01T03:17:33.731601",
     "status": "completed"
    },
    "tags": []
   },
   "outputs": [],
   "source": [
    "recommender = TmpRecommender(URM_all, XGB_model, prediction_dataframe)"
   ]
  },
  {
   "cell_type": "code",
   "execution_count": 55,
   "id": "a7d4d772",
   "metadata": {
    "execution": {
     "iopub.execute_input": "2023-12-01T03:17:33.962220Z",
     "iopub.status.busy": "2023-12-01T03:17:33.961450Z",
     "iopub.status.idle": "2023-12-01T03:18:23.381946Z",
     "shell.execute_reply": "2023-12-01T03:18:23.380797Z"
    },
    "papermill": {
     "duration": 49.521337,
     "end_time": "2023-12-01T03:18:23.407582",
     "exception": false,
     "start_time": "2023-12-01T03:17:33.886245",
     "status": "completed"
    },
    "tags": []
   },
   "outputs": [
    {
     "data": {
      "text/html": [
       "<div>\n",
       "<style scoped>\n",
       "    .dataframe tbody tr th:only-of-type {\n",
       "        vertical-align: middle;\n",
       "    }\n",
       "\n",
       "    .dataframe tbody tr th {\n",
       "        vertical-align: top;\n",
       "    }\n",
       "\n",
       "    .dataframe thead th {\n",
       "        text-align: right;\n",
       "    }\n",
       "</style>\n",
       "<table border=\"1\" class=\"dataframe\">\n",
       "  <thead>\n",
       "    <tr style=\"text-align: right;\">\n",
       "      <th></th>\n",
       "      <th>user_id</th>\n",
       "      <th>item_list</th>\n",
       "    </tr>\n",
       "  </thead>\n",
       "  <tbody>\n",
       "    <tr>\n",
       "      <th>0</th>\n",
       "      <td>1</td>\n",
       "      <td>637 318 694 1546 515 506 403 123 101 36</td>\n",
       "    </tr>\n",
       "    <tr>\n",
       "      <th>1</th>\n",
       "      <td>2</td>\n",
       "      <td>2 11 359 131 12 50 28 1095 196 47</td>\n",
       "    </tr>\n",
       "    <tr>\n",
       "      <th>2</th>\n",
       "      <td>3</td>\n",
       "      <td>1231 648 239 511 750 857 970 986 450 4252</td>\n",
       "    </tr>\n",
       "    <tr>\n",
       "      <th>3</th>\n",
       "      <td>4</td>\n",
       "      <td>136 314 187 57 254 7 145 249 50 28</td>\n",
       "    </tr>\n",
       "    <tr>\n",
       "      <th>4</th>\n",
       "      <td>5</td>\n",
       "      <td>10150 7033 13064 2706 8664 5138 1220 1285 1570...</td>\n",
       "    </tr>\n",
       "  </tbody>\n",
       "</table>\n",
       "</div>"
      ],
      "text/plain": [
       "   user_id                                          item_list\n",
       "0        1            637 318 694 1546 515 506 403 123 101 36\n",
       "1        2                  2 11 359 131 12 50 28 1095 196 47\n",
       "2        3          1231 648 239 511 750 857 970 986 450 4252\n",
       "3        4                 136 314 187 57 254 7 145 249 50 28\n",
       "4        5  10150 7033 13064 2706 8664 5138 1220 1285 1570..."
      ]
     },
     "metadata": {},
     "output_type": "display_data"
    }
   ],
   "source": [
    "recommendations = recommender.recommend(user_ids_test['user_id'].unique() - 1, cutoff=10, return_scores=False)\n",
    "recommendations = [' '.join([str(item + 1) for item in r]).strip() for r in recommendations]\n",
    "\n",
    "submission_df = pd.DataFrame({'user_id': user_ids_test['user_id'].unique(), 'item_list': recommendations})\n",
    "display(submission_df.head())\n",
    "\n",
    "submission_df.to_csv('/kaggle/working/submission_xgboost.csv', index=False)"
   ]
  }
 ],
 "metadata": {
  "kaggle": {
   "accelerator": "none",
   "dataSources": [
    {
     "databundleVersionId": 6919098,
     "sourceId": 62803,
     "sourceType": "competition"
    },
    {
     "sourceId": 152887657,
     "sourceType": "kernelVersion"
    }
   ],
   "dockerImageVersionId": 30587,
   "isGpuEnabled": false,
   "isInternetEnabled": true,
   "language": "python",
   "sourceType": "notebook"
  },
  "kernelspec": {
   "display_name": "Python 3",
   "language": "python",
   "name": "python3"
  },
  "language_info": {
   "codemirror_mode": {
    "name": "ipython",
    "version": 3
   },
   "file_extension": ".py",
   "mimetype": "text/x-python",
   "name": "python",
   "nbconvert_exporter": "python",
   "pygments_lexer": "ipython3",
   "version": "3.10.12"
  },
  "papermill": {
   "default_parameters": {},
   "duration": 13093.291518,
   "end_time": "2023-12-01T03:18:24.638919",
   "environment_variables": {},
   "exception": null,
   "input_path": "__notebook__.ipynb",
   "output_path": "__notebook__.ipynb",
   "parameters": {},
   "start_time": "2023-11-30T23:40:11.347401",
   "version": "2.4.0"
  },
  "widgets": {
   "application/vnd.jupyter.widget-state+json": {
    "state": {
     "0564986f0e664a2c9fab0a80a5fda21c": {
      "model_module": "@jupyter-widgets/controls",
      "model_module_version": "1.5.0",
      "model_name": "HTMLModel",
      "state": {
       "_dom_classes": [],
       "_model_module": "@jupyter-widgets/controls",
       "_model_module_version": "1.5.0",
       "_model_name": "HTMLModel",
       "_view_count": null,
       "_view_module": "@jupyter-widgets/controls",
       "_view_module_version": "1.5.0",
       "_view_name": "HTMLView",
       "description": "",
       "description_tooltip": null,
       "layout": "IPY_MODEL_2d001a4c6c7c47e08816bcaea1ef7457",
       "placeholder": "​",
       "style": "IPY_MODEL_2aadc0b72ef743c3a7f188a7376e8ce2",
       "value": " 13024/13024 [01:09&lt;00:00, 190.15it/s]"
      }
     },
     "0ac9ae5cc37d40bb842ee394a9a2fce6": {
      "model_module": "@jupyter-widgets/controls",
      "model_module_version": "1.5.0",
      "model_name": "FloatProgressModel",
      "state": {
       "_dom_classes": [],
       "_model_module": "@jupyter-widgets/controls",
       "_model_module_version": "1.5.0",
       "_model_name": "FloatProgressModel",
       "_view_count": null,
       "_view_module": "@jupyter-widgets/controls",
       "_view_module_version": "1.5.0",
       "_view_name": "ProgressView",
       "bar_style": "success",
       "description": "",
       "description_tooltip": null,
       "layout": "IPY_MODEL_14479f918b1e4097a6760606870d74fc",
       "max": 13024.0,
       "min": 0.0,
       "orientation": "horizontal",
       "style": "IPY_MODEL_4021051011f246e8bc212de689cf7695",
       "value": 13024.0
      }
     },
     "0acfe88705c94c879381395930e61f47": {
      "model_module": "@jupyter-widgets/controls",
      "model_module_version": "1.5.0",
      "model_name": "HBoxModel",
      "state": {
       "_dom_classes": [],
       "_model_module": "@jupyter-widgets/controls",
       "_model_module_version": "1.5.0",
       "_model_name": "HBoxModel",
       "_view_count": null,
       "_view_module": "@jupyter-widgets/controls",
       "_view_module_version": "1.5.0",
       "_view_name": "HBoxView",
       "box_style": "",
       "children": [
        "IPY_MODEL_c8f6fe86354e487b9747ff004f6768b0",
        "IPY_MODEL_de671e69b6b4475ea71ea328cf063d29",
        "IPY_MODEL_0564986f0e664a2c9fab0a80a5fda21c"
       ],
       "layout": "IPY_MODEL_ea4a458038184559bbb0fa4c3960a4a3"
      }
     },
     "111e39acb34247249cf2000534efd106": {
      "model_module": "@jupyter-widgets/base",
      "model_module_version": "1.2.0",
      "model_name": "LayoutModel",
      "state": {
       "_model_module": "@jupyter-widgets/base",
       "_model_module_version": "1.2.0",
       "_model_name": "LayoutModel",
       "_view_count": null,
       "_view_module": "@jupyter-widgets/base",
       "_view_module_version": "1.2.0",
       "_view_name": "LayoutView",
       "align_content": null,
       "align_items": null,
       "align_self": null,
       "border": null,
       "bottom": null,
       "display": null,
       "flex": null,
       "flex_flow": null,
       "grid_area": null,
       "grid_auto_columns": null,
       "grid_auto_flow": null,
       "grid_auto_rows": null,
       "grid_column": null,
       "grid_gap": null,
       "grid_row": null,
       "grid_template_areas": null,
       "grid_template_columns": null,
       "grid_template_rows": null,
       "height": null,
       "justify_content": null,
       "justify_items": null,
       "left": null,
       "margin": null,
       "max_height": null,
       "max_width": null,
       "min_height": null,
       "min_width": null,
       "object_fit": null,
       "object_position": null,
       "order": null,
       "overflow": null,
       "overflow_x": null,
       "overflow_y": null,
       "padding": null,
       "right": null,
       "top": null,
       "visibility": null,
       "width": null
      }
     },
     "137b2af0d02d4bf095c4eb012f92e2fa": {
      "model_module": "@jupyter-widgets/controls",
      "model_module_version": "1.5.0",
      "model_name": "HBoxModel",
      "state": {
       "_dom_classes": [],
       "_model_module": "@jupyter-widgets/controls",
       "_model_module_version": "1.5.0",
       "_model_name": "HBoxModel",
       "_view_count": null,
       "_view_module": "@jupyter-widgets/controls",
       "_view_module_version": "1.5.0",
       "_view_name": "HBoxView",
       "box_style": "",
       "children": [
        "IPY_MODEL_9d00024209024f1da2117af75cd609e6",
        "IPY_MODEL_0ac9ae5cc37d40bb842ee394a9a2fce6",
        "IPY_MODEL_d064ef92a1814803b3752855507702e9"
       ],
       "layout": "IPY_MODEL_99db32282955436a93d660dc975f562f"
      }
     },
     "14479f918b1e4097a6760606870d74fc": {
      "model_module": "@jupyter-widgets/base",
      "model_module_version": "1.2.0",
      "model_name": "LayoutModel",
      "state": {
       "_model_module": "@jupyter-widgets/base",
       "_model_module_version": "1.2.0",
       "_model_name": "LayoutModel",
       "_view_count": null,
       "_view_module": "@jupyter-widgets/base",
       "_view_module_version": "1.2.0",
       "_view_name": "LayoutView",
       "align_content": null,
       "align_items": null,
       "align_self": null,
       "border": null,
       "bottom": null,
       "display": null,
       "flex": null,
       "flex_flow": null,
       "grid_area": null,
       "grid_auto_columns": null,
       "grid_auto_flow": null,
       "grid_auto_rows": null,
       "grid_column": null,
       "grid_gap": null,
       "grid_row": null,
       "grid_template_areas": null,
       "grid_template_columns": null,
       "grid_template_rows": null,
       "height": null,
       "justify_content": null,
       "justify_items": null,
       "left": null,
       "margin": null,
       "max_height": null,
       "max_width": null,
       "min_height": null,
       "min_width": null,
       "object_fit": null,
       "object_position": null,
       "order": null,
       "overflow": null,
       "overflow_x": null,
       "overflow_y": null,
       "padding": null,
       "right": null,
       "top": null,
       "visibility": null,
       "width": null
      }
     },
     "15fd00b663564f9b9f17d189c0252d11": {
      "model_module": "@jupyter-widgets/base",
      "model_module_version": "1.2.0",
      "model_name": "LayoutModel",
      "state": {
       "_model_module": "@jupyter-widgets/base",
       "_model_module_version": "1.2.0",
       "_model_name": "LayoutModel",
       "_view_count": null,
       "_view_module": "@jupyter-widgets/base",
       "_view_module_version": "1.2.0",
       "_view_name": "LayoutView",
       "align_content": null,
       "align_items": null,
       "align_self": null,
       "border": null,
       "bottom": null,
       "display": null,
       "flex": null,
       "flex_flow": null,
       "grid_area": null,
       "grid_auto_columns": null,
       "grid_auto_flow": null,
       "grid_auto_rows": null,
       "grid_column": null,
       "grid_gap": null,
       "grid_row": null,
       "grid_template_areas": null,
       "grid_template_columns": null,
       "grid_template_rows": null,
       "height": null,
       "justify_content": null,
       "justify_items": null,
       "left": null,
       "margin": null,
       "max_height": null,
       "max_width": null,
       "min_height": null,
       "min_width": null,
       "object_fit": null,
       "object_position": null,
       "order": null,
       "overflow": null,
       "overflow_x": null,
       "overflow_y": null,
       "padding": null,
       "right": null,
       "top": null,
       "visibility": null,
       "width": null
      }
     },
     "1ca156d91029406e85b2bde614910390": {
      "model_module": "@jupyter-widgets/controls",
      "model_module_version": "1.5.0",
      "model_name": "HTMLModel",
      "state": {
       "_dom_classes": [],
       "_model_module": "@jupyter-widgets/controls",
       "_model_module_version": "1.5.0",
       "_model_name": "HTMLModel",
       "_view_count": null,
       "_view_module": "@jupyter-widgets/controls",
       "_view_module_version": "1.5.0",
       "_view_name": "HTMLView",
       "description": "",
       "description_tooltip": null,
       "layout": "IPY_MODEL_2e6a3966637e4bb7ae46f72529c61067",
       "placeholder": "​",
       "style": "IPY_MODEL_6897d105237c42338f5e7b3c34c990f2",
       "value": "100%"
      }
     },
     "1f29c0ed3cc74297ad52ce5a9dbe0d0e": {
      "model_module": "@jupyter-widgets/controls",
      "model_module_version": "1.5.0",
      "model_name": "DescriptionStyleModel",
      "state": {
       "_model_module": "@jupyter-widgets/controls",
       "_model_module_version": "1.5.0",
       "_model_name": "DescriptionStyleModel",
       "_view_count": null,
       "_view_module": "@jupyter-widgets/base",
       "_view_module_version": "1.2.0",
       "_view_name": "StyleView",
       "description_width": ""
      }
     },
     "2004f28344184ca8babf5e614ea63400": {
      "model_module": "@jupyter-widgets/controls",
      "model_module_version": "1.5.0",
      "model_name": "ProgressStyleModel",
      "state": {
       "_model_module": "@jupyter-widgets/controls",
       "_model_module_version": "1.5.0",
       "_model_name": "ProgressStyleModel",
       "_view_count": null,
       "_view_module": "@jupyter-widgets/base",
       "_view_module_version": "1.2.0",
       "_view_name": "StyleView",
       "bar_color": null,
       "description_width": ""
      }
     },
     "297104751d4d4c3683d980b0f0dda9fd": {
      "model_module": "@jupyter-widgets/controls",
      "model_module_version": "1.5.0",
      "model_name": "HTMLModel",
      "state": {
       "_dom_classes": [],
       "_model_module": "@jupyter-widgets/controls",
       "_model_module_version": "1.5.0",
       "_model_name": "HTMLModel",
       "_view_count": null,
       "_view_module": "@jupyter-widgets/controls",
       "_view_module_version": "1.5.0",
       "_view_name": "HTMLView",
       "description": "",
       "description_tooltip": null,
       "layout": "IPY_MODEL_357f7df0ddd647edbf01bb6b1897f7e5",
       "placeholder": "​",
       "style": "IPY_MODEL_877dcbd13c0a4e1e94e1347bbb5beebc",
       "value": " 13024/13024 [00:24&lt;00:00, 520.63it/s]"
      }
     },
     "2a22e1b694134cb08e0a270c40ce6b63": {
      "model_module": "@jupyter-widgets/controls",
      "model_module_version": "1.5.0",
      "model_name": "DescriptionStyleModel",
      "state": {
       "_model_module": "@jupyter-widgets/controls",
       "_model_module_version": "1.5.0",
       "_model_name": "DescriptionStyleModel",
       "_view_count": null,
       "_view_module": "@jupyter-widgets/base",
       "_view_module_version": "1.2.0",
       "_view_name": "StyleView",
       "description_width": ""
      }
     },
     "2aadc0b72ef743c3a7f188a7376e8ce2": {
      "model_module": "@jupyter-widgets/controls",
      "model_module_version": "1.5.0",
      "model_name": "DescriptionStyleModel",
      "state": {
       "_model_module": "@jupyter-widgets/controls",
       "_model_module_version": "1.5.0",
       "_model_name": "DescriptionStyleModel",
       "_view_count": null,
       "_view_module": "@jupyter-widgets/base",
       "_view_module_version": "1.2.0",
       "_view_name": "StyleView",
       "description_width": ""
      }
     },
     "2c613b77a25a44188c007051edd3f965": {
      "model_module": "@jupyter-widgets/controls",
      "model_module_version": "1.5.0",
      "model_name": "FloatProgressModel",
      "state": {
       "_dom_classes": [],
       "_model_module": "@jupyter-widgets/controls",
       "_model_module_version": "1.5.0",
       "_model_name": "FloatProgressModel",
       "_view_count": null,
       "_view_module": "@jupyter-widgets/controls",
       "_view_module_version": "1.5.0",
       "_view_name": "ProgressView",
       "bar_style": "success",
       "description": "",
       "description_tooltip": null,
       "layout": "IPY_MODEL_7ab4708ee78c467e84fe5f0bf09fbc1b",
       "max": 13024.0,
       "min": 0.0,
       "orientation": "horizontal",
       "style": "IPY_MODEL_8ea3904213d346e5bcc9599970b2282b",
       "value": 13024.0
      }
     },
     "2d001a4c6c7c47e08816bcaea1ef7457": {
      "model_module": "@jupyter-widgets/base",
      "model_module_version": "1.2.0",
      "model_name": "LayoutModel",
      "state": {
       "_model_module": "@jupyter-widgets/base",
       "_model_module_version": "1.2.0",
       "_model_name": "LayoutModel",
       "_view_count": null,
       "_view_module": "@jupyter-widgets/base",
       "_view_module_version": "1.2.0",
       "_view_name": "LayoutView",
       "align_content": null,
       "align_items": null,
       "align_self": null,
       "border": null,
       "bottom": null,
       "display": null,
       "flex": null,
       "flex_flow": null,
       "grid_area": null,
       "grid_auto_columns": null,
       "grid_auto_flow": null,
       "grid_auto_rows": null,
       "grid_column": null,
       "grid_gap": null,
       "grid_row": null,
       "grid_template_areas": null,
       "grid_template_columns": null,
       "grid_template_rows": null,
       "height": null,
       "justify_content": null,
       "justify_items": null,
       "left": null,
       "margin": null,
       "max_height": null,
       "max_width": null,
       "min_height": null,
       "min_width": null,
       "object_fit": null,
       "object_position": null,
       "order": null,
       "overflow": null,
       "overflow_x": null,
       "overflow_y": null,
       "padding": null,
       "right": null,
       "top": null,
       "visibility": null,
       "width": null
      }
     },
     "2e6a3966637e4bb7ae46f72529c61067": {
      "model_module": "@jupyter-widgets/base",
      "model_module_version": "1.2.0",
      "model_name": "LayoutModel",
      "state": {
       "_model_module": "@jupyter-widgets/base",
       "_model_module_version": "1.2.0",
       "_model_name": "LayoutModel",
       "_view_count": null,
       "_view_module": "@jupyter-widgets/base",
       "_view_module_version": "1.2.0",
       "_view_name": "LayoutView",
       "align_content": null,
       "align_items": null,
       "align_self": null,
       "border": null,
       "bottom": null,
       "display": null,
       "flex": null,
       "flex_flow": null,
       "grid_area": null,
       "grid_auto_columns": null,
       "grid_auto_flow": null,
       "grid_auto_rows": null,
       "grid_column": null,
       "grid_gap": null,
       "grid_row": null,
       "grid_template_areas": null,
       "grid_template_columns": null,
       "grid_template_rows": null,
       "height": null,
       "justify_content": null,
       "justify_items": null,
       "left": null,
       "margin": null,
       "max_height": null,
       "max_width": null,
       "min_height": null,
       "min_width": null,
       "object_fit": null,
       "object_position": null,
       "order": null,
       "overflow": null,
       "overflow_x": null,
       "overflow_y": null,
       "padding": null,
       "right": null,
       "top": null,
       "visibility": null,
       "width": null
      }
     },
     "357f7df0ddd647edbf01bb6b1897f7e5": {
      "model_module": "@jupyter-widgets/base",
      "model_module_version": "1.2.0",
      "model_name": "LayoutModel",
      "state": {
       "_model_module": "@jupyter-widgets/base",
       "_model_module_version": "1.2.0",
       "_model_name": "LayoutModel",
       "_view_count": null,
       "_view_module": "@jupyter-widgets/base",
       "_view_module_version": "1.2.0",
       "_view_name": "LayoutView",
       "align_content": null,
       "align_items": null,
       "align_self": null,
       "border": null,
       "bottom": null,
       "display": null,
       "flex": null,
       "flex_flow": null,
       "grid_area": null,
       "grid_auto_columns": null,
       "grid_auto_flow": null,
       "grid_auto_rows": null,
       "grid_column": null,
       "grid_gap": null,
       "grid_row": null,
       "grid_template_areas": null,
       "grid_template_columns": null,
       "grid_template_rows": null,
       "height": null,
       "justify_content": null,
       "justify_items": null,
       "left": null,
       "margin": null,
       "max_height": null,
       "max_width": null,
       "min_height": null,
       "min_width": null,
       "object_fit": null,
       "object_position": null,
       "order": null,
       "overflow": null,
       "overflow_x": null,
       "overflow_y": null,
       "padding": null,
       "right": null,
       "top": null,
       "visibility": null,
       "width": null
      }
     },
     "3a91cd0849064fe68bfe667191f5bd35": {
      "model_module": "@jupyter-widgets/controls",
      "model_module_version": "1.5.0",
      "model_name": "HTMLModel",
      "state": {
       "_dom_classes": [],
       "_model_module": "@jupyter-widgets/controls",
       "_model_module_version": "1.5.0",
       "_model_name": "HTMLModel",
       "_view_count": null,
       "_view_module": "@jupyter-widgets/controls",
       "_view_module_version": "1.5.0",
       "_view_name": "HTMLView",
       "description": "",
       "description_tooltip": null,
       "layout": "IPY_MODEL_fa184f911255469ebea6b515c36c80b8",
       "placeholder": "​",
       "style": "IPY_MODEL_4c2907493b044b9a8e78d5aedbf90458",
       "value": "100%"
      }
     },
     "3c8714b8a9b54c80b098e7f74b8f33ed": {
      "model_module": "@jupyter-widgets/base",
      "model_module_version": "1.2.0",
      "model_name": "LayoutModel",
      "state": {
       "_model_module": "@jupyter-widgets/base",
       "_model_module_version": "1.2.0",
       "_model_name": "LayoutModel",
       "_view_count": null,
       "_view_module": "@jupyter-widgets/base",
       "_view_module_version": "1.2.0",
       "_view_name": "LayoutView",
       "align_content": null,
       "align_items": null,
       "align_self": null,
       "border": null,
       "bottom": null,
       "display": null,
       "flex": null,
       "flex_flow": null,
       "grid_area": null,
       "grid_auto_columns": null,
       "grid_auto_flow": null,
       "grid_auto_rows": null,
       "grid_column": null,
       "grid_gap": null,
       "grid_row": null,
       "grid_template_areas": null,
       "grid_template_columns": null,
       "grid_template_rows": null,
       "height": null,
       "justify_content": null,
       "justify_items": null,
       "left": null,
       "margin": null,
       "max_height": null,
       "max_width": null,
       "min_height": null,
       "min_width": null,
       "object_fit": null,
       "object_position": null,
       "order": null,
       "overflow": null,
       "overflow_x": null,
       "overflow_y": null,
       "padding": null,
       "right": null,
       "top": null,
       "visibility": null,
       "width": null
      }
     },
     "3c9b1ad5504441428fb97bdb5b9a7306": {
      "model_module": "@jupyter-widgets/controls",
      "model_module_version": "1.5.0",
      "model_name": "HTMLModel",
      "state": {
       "_dom_classes": [],
       "_model_module": "@jupyter-widgets/controls",
       "_model_module_version": "1.5.0",
       "_model_name": "HTMLModel",
       "_view_count": null,
       "_view_module": "@jupyter-widgets/controls",
       "_view_module_version": "1.5.0",
       "_view_name": "HTMLView",
       "description": "",
       "description_tooltip": null,
       "layout": "IPY_MODEL_76764dd802934fefbc5fc2f1de7e3a6f",
       "placeholder": "​",
       "style": "IPY_MODEL_881b35dc6ba449de96b3862f58f2df81",
       "value": " 13024/13024 [00:25&lt;00:00, 515.19it/s]"
      }
     },
     "4021051011f246e8bc212de689cf7695": {
      "model_module": "@jupyter-widgets/controls",
      "model_module_version": "1.5.0",
      "model_name": "ProgressStyleModel",
      "state": {
       "_model_module": "@jupyter-widgets/controls",
       "_model_module_version": "1.5.0",
       "_model_name": "ProgressStyleModel",
       "_view_count": null,
       "_view_module": "@jupyter-widgets/base",
       "_view_module_version": "1.2.0",
       "_view_name": "StyleView",
       "bar_color": null,
       "description_width": ""
      }
     },
     "43166a9e77614a3aa467190c8a4554c2": {
      "model_module": "@jupyter-widgets/controls",
      "model_module_version": "1.5.0",
      "model_name": "DescriptionStyleModel",
      "state": {
       "_model_module": "@jupyter-widgets/controls",
       "_model_module_version": "1.5.0",
       "_model_name": "DescriptionStyleModel",
       "_view_count": null,
       "_view_module": "@jupyter-widgets/base",
       "_view_module_version": "1.2.0",
       "_view_name": "StyleView",
       "description_width": ""
      }
     },
     "4a9bc17a97c64bacb491b6d3ddae824c": {
      "model_module": "@jupyter-widgets/controls",
      "model_module_version": "1.5.0",
      "model_name": "ProgressStyleModel",
      "state": {
       "_model_module": "@jupyter-widgets/controls",
       "_model_module_version": "1.5.0",
       "_model_name": "ProgressStyleModel",
       "_view_count": null,
       "_view_module": "@jupyter-widgets/base",
       "_view_module_version": "1.2.0",
       "_view_name": "StyleView",
       "bar_color": null,
       "description_width": ""
      }
     },
     "4c2907493b044b9a8e78d5aedbf90458": {
      "model_module": "@jupyter-widgets/controls",
      "model_module_version": "1.5.0",
      "model_name": "DescriptionStyleModel",
      "state": {
       "_model_module": "@jupyter-widgets/controls",
       "_model_module_version": "1.5.0",
       "_model_name": "DescriptionStyleModel",
       "_view_count": null,
       "_view_module": "@jupyter-widgets/base",
       "_view_module_version": "1.2.0",
       "_view_name": "StyleView",
       "description_width": ""
      }
     },
     "4c3bf7627b3646a586e89fa64587cb72": {
      "model_module": "@jupyter-widgets/controls",
      "model_module_version": "1.5.0",
      "model_name": "HTMLModel",
      "state": {
       "_dom_classes": [],
       "_model_module": "@jupyter-widgets/controls",
       "_model_module_version": "1.5.0",
       "_model_name": "HTMLModel",
       "_view_count": null,
       "_view_module": "@jupyter-widgets/controls",
       "_view_module_version": "1.5.0",
       "_view_name": "HTMLView",
       "description": "",
       "description_tooltip": null,
       "layout": "IPY_MODEL_73212f63af1c4e95a6eb665abf559445",
       "placeholder": "​",
       "style": "IPY_MODEL_7af2ff37a887439083a9325e2c7f36df",
       "value": "100%"
      }
     },
     "517d1c2849474581b0320354b7b25a5a": {
      "model_module": "@jupyter-widgets/controls",
      "model_module_version": "1.5.0",
      "model_name": "HBoxModel",
      "state": {
       "_dom_classes": [],
       "_model_module": "@jupyter-widgets/controls",
       "_model_module_version": "1.5.0",
       "_model_name": "HBoxModel",
       "_view_count": null,
       "_view_module": "@jupyter-widgets/controls",
       "_view_module_version": "1.5.0",
       "_view_name": "HBoxView",
       "box_style": "",
       "children": [
        "IPY_MODEL_3a91cd0849064fe68bfe667191f5bd35",
        "IPY_MODEL_d48fab3947d841f090e41e0ad42cfc5b",
        "IPY_MODEL_b8fe1b1d93bc47eba772dbcb3a2c68db"
       ],
       "layout": "IPY_MODEL_97e5b8e38c964ebda1fc89ce94b79617"
      }
     },
     "53552f52af9b48eb9c1a4a10c20623c5": {
      "model_module": "@jupyter-widgets/base",
      "model_module_version": "1.2.0",
      "model_name": "LayoutModel",
      "state": {
       "_model_module": "@jupyter-widgets/base",
       "_model_module_version": "1.2.0",
       "_model_name": "LayoutModel",
       "_view_count": null,
       "_view_module": "@jupyter-widgets/base",
       "_view_module_version": "1.2.0",
       "_view_name": "LayoutView",
       "align_content": null,
       "align_items": null,
       "align_self": null,
       "border": null,
       "bottom": null,
       "display": null,
       "flex": null,
       "flex_flow": null,
       "grid_area": null,
       "grid_auto_columns": null,
       "grid_auto_flow": null,
       "grid_auto_rows": null,
       "grid_column": null,
       "grid_gap": null,
       "grid_row": null,
       "grid_template_areas": null,
       "grid_template_columns": null,
       "grid_template_rows": null,
       "height": null,
       "justify_content": null,
       "justify_items": null,
       "left": null,
       "margin": null,
       "max_height": null,
       "max_width": null,
       "min_height": null,
       "min_width": null,
       "object_fit": null,
       "object_position": null,
       "order": null,
       "overflow": null,
       "overflow_x": null,
       "overflow_y": null,
       "padding": null,
       "right": null,
       "top": null,
       "visibility": null,
       "width": null
      }
     },
     "54ef921bf2634763b5ccbdfb22e014f2": {
      "model_module": "@jupyter-widgets/base",
      "model_module_version": "1.2.0",
      "model_name": "LayoutModel",
      "state": {
       "_model_module": "@jupyter-widgets/base",
       "_model_module_version": "1.2.0",
       "_model_name": "LayoutModel",
       "_view_count": null,
       "_view_module": "@jupyter-widgets/base",
       "_view_module_version": "1.2.0",
       "_view_name": "LayoutView",
       "align_content": null,
       "align_items": null,
       "align_self": null,
       "border": null,
       "bottom": null,
       "display": null,
       "flex": null,
       "flex_flow": null,
       "grid_area": null,
       "grid_auto_columns": null,
       "grid_auto_flow": null,
       "grid_auto_rows": null,
       "grid_column": null,
       "grid_gap": null,
       "grid_row": null,
       "grid_template_areas": null,
       "grid_template_columns": null,
       "grid_template_rows": null,
       "height": null,
       "justify_content": null,
       "justify_items": null,
       "left": null,
       "margin": null,
       "max_height": null,
       "max_width": null,
       "min_height": null,
       "min_width": null,
       "object_fit": null,
       "object_position": null,
       "order": null,
       "overflow": null,
       "overflow_x": null,
       "overflow_y": null,
       "padding": null,
       "right": null,
       "top": null,
       "visibility": null,
       "width": null
      }
     },
     "55b323a89b9e4b089bdfbafbf7881160": {
      "model_module": "@jupyter-widgets/controls",
      "model_module_version": "1.5.0",
      "model_name": "HTMLModel",
      "state": {
       "_dom_classes": [],
       "_model_module": "@jupyter-widgets/controls",
       "_model_module_version": "1.5.0",
       "_model_name": "HTMLModel",
       "_view_count": null,
       "_view_module": "@jupyter-widgets/controls",
       "_view_module_version": "1.5.0",
       "_view_name": "HTMLView",
       "description": "",
       "description_tooltip": null,
       "layout": "IPY_MODEL_958cde386fa1491da9c4f060098b5efa",
       "placeholder": "​",
       "style": "IPY_MODEL_2a22e1b694134cb08e0a270c40ce6b63",
       "value": " 13024/13024 [01:05&lt;00:00, 203.05it/s]"
      }
     },
     "5bbb4f55ee5f44479f94c1dd0ce6b7f4": {
      "model_module": "@jupyter-widgets/controls",
      "model_module_version": "1.5.0",
      "model_name": "HBoxModel",
      "state": {
       "_dom_classes": [],
       "_model_module": "@jupyter-widgets/controls",
       "_model_module_version": "1.5.0",
       "_model_name": "HBoxModel",
       "_view_count": null,
       "_view_module": "@jupyter-widgets/controls",
       "_view_module_version": "1.5.0",
       "_view_name": "HBoxView",
       "box_style": "",
       "children": [
        "IPY_MODEL_4c3bf7627b3646a586e89fa64587cb72",
        "IPY_MODEL_b559dee042b74a9f9f4ed2b8fdb4b32d",
        "IPY_MODEL_55b323a89b9e4b089bdfbafbf7881160"
       ],
       "layout": "IPY_MODEL_d1f5e28972b142c1a808613ad737fd0b"
      }
     },
     "5c6673ab0b614777a358ecac49b0f3da": {
      "model_module": "@jupyter-widgets/controls",
      "model_module_version": "1.5.0",
      "model_name": "DescriptionStyleModel",
      "state": {
       "_model_module": "@jupyter-widgets/controls",
       "_model_module_version": "1.5.0",
       "_model_name": "DescriptionStyleModel",
       "_view_count": null,
       "_view_module": "@jupyter-widgets/base",
       "_view_module_version": "1.2.0",
       "_view_name": "StyleView",
       "description_width": ""
      }
     },
     "644907ee68314422825cb5e9d46cb0a8": {
      "model_module": "@jupyter-widgets/base",
      "model_module_version": "1.2.0",
      "model_name": "LayoutModel",
      "state": {
       "_model_module": "@jupyter-widgets/base",
       "_model_module_version": "1.2.0",
       "_model_name": "LayoutModel",
       "_view_count": null,
       "_view_module": "@jupyter-widgets/base",
       "_view_module_version": "1.2.0",
       "_view_name": "LayoutView",
       "align_content": null,
       "align_items": null,
       "align_self": null,
       "border": null,
       "bottom": null,
       "display": null,
       "flex": null,
       "flex_flow": null,
       "grid_area": null,
       "grid_auto_columns": null,
       "grid_auto_flow": null,
       "grid_auto_rows": null,
       "grid_column": null,
       "grid_gap": null,
       "grid_row": null,
       "grid_template_areas": null,
       "grid_template_columns": null,
       "grid_template_rows": null,
       "height": null,
       "justify_content": null,
       "justify_items": null,
       "left": null,
       "margin": null,
       "max_height": null,
       "max_width": null,
       "min_height": null,
       "min_width": null,
       "object_fit": null,
       "object_position": null,
       "order": null,
       "overflow": null,
       "overflow_x": null,
       "overflow_y": null,
       "padding": null,
       "right": null,
       "top": null,
       "visibility": null,
       "width": null
      }
     },
     "662a521a6fa04e5dae9e59350ece2eec": {
      "model_module": "@jupyter-widgets/base",
      "model_module_version": "1.2.0",
      "model_name": "LayoutModel",
      "state": {
       "_model_module": "@jupyter-widgets/base",
       "_model_module_version": "1.2.0",
       "_model_name": "LayoutModel",
       "_view_count": null,
       "_view_module": "@jupyter-widgets/base",
       "_view_module_version": "1.2.0",
       "_view_name": "LayoutView",
       "align_content": null,
       "align_items": null,
       "align_self": null,
       "border": null,
       "bottom": null,
       "display": null,
       "flex": null,
       "flex_flow": null,
       "grid_area": null,
       "grid_auto_columns": null,
       "grid_auto_flow": null,
       "grid_auto_rows": null,
       "grid_column": null,
       "grid_gap": null,
       "grid_row": null,
       "grid_template_areas": null,
       "grid_template_columns": null,
       "grid_template_rows": null,
       "height": null,
       "justify_content": null,
       "justify_items": null,
       "left": null,
       "margin": null,
       "max_height": null,
       "max_width": null,
       "min_height": null,
       "min_width": null,
       "object_fit": null,
       "object_position": null,
       "order": null,
       "overflow": null,
       "overflow_x": null,
       "overflow_y": null,
       "padding": null,
       "right": null,
       "top": null,
       "visibility": null,
       "width": null
      }
     },
     "6897d105237c42338f5e7b3c34c990f2": {
      "model_module": "@jupyter-widgets/controls",
      "model_module_version": "1.5.0",
      "model_name": "DescriptionStyleModel",
      "state": {
       "_model_module": "@jupyter-widgets/controls",
       "_model_module_version": "1.5.0",
       "_model_name": "DescriptionStyleModel",
       "_view_count": null,
       "_view_module": "@jupyter-widgets/base",
       "_view_module_version": "1.2.0",
       "_view_name": "StyleView",
       "description_width": ""
      }
     },
     "6ceb925ae88e48e7853d044cefd91965": {
      "model_module": "@jupyter-widgets/controls",
      "model_module_version": "1.5.0",
      "model_name": "HTMLModel",
      "state": {
       "_dom_classes": [],
       "_model_module": "@jupyter-widgets/controls",
       "_model_module_version": "1.5.0",
       "_model_name": "HTMLModel",
       "_view_count": null,
       "_view_module": "@jupyter-widgets/controls",
       "_view_module_version": "1.5.0",
       "_view_name": "HTMLView",
       "description": "",
       "description_tooltip": null,
       "layout": "IPY_MODEL_b15dca6511bf4cd9b3752f4ba90be424",
       "placeholder": "​",
       "style": "IPY_MODEL_1f29c0ed3cc74297ad52ce5a9dbe0d0e",
       "value": " 13024/13024 [01:07&lt;00:00, 198.60it/s]"
      }
     },
     "73212f63af1c4e95a6eb665abf559445": {
      "model_module": "@jupyter-widgets/base",
      "model_module_version": "1.2.0",
      "model_name": "LayoutModel",
      "state": {
       "_model_module": "@jupyter-widgets/base",
       "_model_module_version": "1.2.0",
       "_model_name": "LayoutModel",
       "_view_count": null,
       "_view_module": "@jupyter-widgets/base",
       "_view_module_version": "1.2.0",
       "_view_name": "LayoutView",
       "align_content": null,
       "align_items": null,
       "align_self": null,
       "border": null,
       "bottom": null,
       "display": null,
       "flex": null,
       "flex_flow": null,
       "grid_area": null,
       "grid_auto_columns": null,
       "grid_auto_flow": null,
       "grid_auto_rows": null,
       "grid_column": null,
       "grid_gap": null,
       "grid_row": null,
       "grid_template_areas": null,
       "grid_template_columns": null,
       "grid_template_rows": null,
       "height": null,
       "justify_content": null,
       "justify_items": null,
       "left": null,
       "margin": null,
       "max_height": null,
       "max_width": null,
       "min_height": null,
       "min_width": null,
       "object_fit": null,
       "object_position": null,
       "order": null,
       "overflow": null,
       "overflow_x": null,
       "overflow_y": null,
       "padding": null,
       "right": null,
       "top": null,
       "visibility": null,
       "width": null
      }
     },
     "73b0482478f644a38c21285d041b7145": {
      "model_module": "@jupyter-widgets/controls",
      "model_module_version": "1.5.0",
      "model_name": "ProgressStyleModel",
      "state": {
       "_model_module": "@jupyter-widgets/controls",
       "_model_module_version": "1.5.0",
       "_model_name": "ProgressStyleModel",
       "_view_count": null,
       "_view_module": "@jupyter-widgets/base",
       "_view_module_version": "1.2.0",
       "_view_name": "StyleView",
       "bar_color": null,
       "description_width": ""
      }
     },
     "76764dd802934fefbc5fc2f1de7e3a6f": {
      "model_module": "@jupyter-widgets/base",
      "model_module_version": "1.2.0",
      "model_name": "LayoutModel",
      "state": {
       "_model_module": "@jupyter-widgets/base",
       "_model_module_version": "1.2.0",
       "_model_name": "LayoutModel",
       "_view_count": null,
       "_view_module": "@jupyter-widgets/base",
       "_view_module_version": "1.2.0",
       "_view_name": "LayoutView",
       "align_content": null,
       "align_items": null,
       "align_self": null,
       "border": null,
       "bottom": null,
       "display": null,
       "flex": null,
       "flex_flow": null,
       "grid_area": null,
       "grid_auto_columns": null,
       "grid_auto_flow": null,
       "grid_auto_rows": null,
       "grid_column": null,
       "grid_gap": null,
       "grid_row": null,
       "grid_template_areas": null,
       "grid_template_columns": null,
       "grid_template_rows": null,
       "height": null,
       "justify_content": null,
       "justify_items": null,
       "left": null,
       "margin": null,
       "max_height": null,
       "max_width": null,
       "min_height": null,
       "min_width": null,
       "object_fit": null,
       "object_position": null,
       "order": null,
       "overflow": null,
       "overflow_x": null,
       "overflow_y": null,
       "padding": null,
       "right": null,
       "top": null,
       "visibility": null,
       "width": null
      }
     },
     "7ab4708ee78c467e84fe5f0bf09fbc1b": {
      "model_module": "@jupyter-widgets/base",
      "model_module_version": "1.2.0",
      "model_name": "LayoutModel",
      "state": {
       "_model_module": "@jupyter-widgets/base",
       "_model_module_version": "1.2.0",
       "_model_name": "LayoutModel",
       "_view_count": null,
       "_view_module": "@jupyter-widgets/base",
       "_view_module_version": "1.2.0",
       "_view_name": "LayoutView",
       "align_content": null,
       "align_items": null,
       "align_self": null,
       "border": null,
       "bottom": null,
       "display": null,
       "flex": null,
       "flex_flow": null,
       "grid_area": null,
       "grid_auto_columns": null,
       "grid_auto_flow": null,
       "grid_auto_rows": null,
       "grid_column": null,
       "grid_gap": null,
       "grid_row": null,
       "grid_template_areas": null,
       "grid_template_columns": null,
       "grid_template_rows": null,
       "height": null,
       "justify_content": null,
       "justify_items": null,
       "left": null,
       "margin": null,
       "max_height": null,
       "max_width": null,
       "min_height": null,
       "min_width": null,
       "object_fit": null,
       "object_position": null,
       "order": null,
       "overflow": null,
       "overflow_x": null,
       "overflow_y": null,
       "padding": null,
       "right": null,
       "top": null,
       "visibility": null,
       "width": null
      }
     },
     "7af2ff37a887439083a9325e2c7f36df": {
      "model_module": "@jupyter-widgets/controls",
      "model_module_version": "1.5.0",
      "model_name": "DescriptionStyleModel",
      "state": {
       "_model_module": "@jupyter-widgets/controls",
       "_model_module_version": "1.5.0",
       "_model_name": "DescriptionStyleModel",
       "_view_count": null,
       "_view_module": "@jupyter-widgets/base",
       "_view_module_version": "1.2.0",
       "_view_name": "StyleView",
       "description_width": ""
      }
     },
     "7c6a7df14fb6444395949719fec8505d": {
      "model_module": "@jupyter-widgets/controls",
      "model_module_version": "1.5.0",
      "model_name": "ProgressStyleModel",
      "state": {
       "_model_module": "@jupyter-widgets/controls",
       "_model_module_version": "1.5.0",
       "_model_name": "ProgressStyleModel",
       "_view_count": null,
       "_view_module": "@jupyter-widgets/base",
       "_view_module_version": "1.2.0",
       "_view_name": "StyleView",
       "bar_color": null,
       "description_width": ""
      }
     },
     "7e1ee82faf1d41108d458ec107ed9de0": {
      "model_module": "@jupyter-widgets/controls",
      "model_module_version": "1.5.0",
      "model_name": "HBoxModel",
      "state": {
       "_dom_classes": [],
       "_model_module": "@jupyter-widgets/controls",
       "_model_module_version": "1.5.0",
       "_model_name": "HBoxModel",
       "_view_count": null,
       "_view_module": "@jupyter-widgets/controls",
       "_view_module_version": "1.5.0",
       "_view_name": "HBoxView",
       "box_style": "",
       "children": [
        "IPY_MODEL_f94e258df6e1429086ba53fe5ebf66bf",
        "IPY_MODEL_f34c659963b447709bd4065148f6ba5e",
        "IPY_MODEL_6ceb925ae88e48e7853d044cefd91965"
       ],
       "layout": "IPY_MODEL_a38fe203a110419db64377b630cedda7"
      }
     },
     "866f519bac9c42a3bb6bb8c0da8f27ac": {
      "model_module": "@jupyter-widgets/controls",
      "model_module_version": "1.5.0",
      "model_name": "DescriptionStyleModel",
      "state": {
       "_model_module": "@jupyter-widgets/controls",
       "_model_module_version": "1.5.0",
       "_model_name": "DescriptionStyleModel",
       "_view_count": null,
       "_view_module": "@jupyter-widgets/base",
       "_view_module_version": "1.2.0",
       "_view_name": "StyleView",
       "description_width": ""
      }
     },
     "877dcbd13c0a4e1e94e1347bbb5beebc": {
      "model_module": "@jupyter-widgets/controls",
      "model_module_version": "1.5.0",
      "model_name": "DescriptionStyleModel",
      "state": {
       "_model_module": "@jupyter-widgets/controls",
       "_model_module_version": "1.5.0",
       "_model_name": "DescriptionStyleModel",
       "_view_count": null,
       "_view_module": "@jupyter-widgets/base",
       "_view_module_version": "1.2.0",
       "_view_name": "StyleView",
       "description_width": ""
      }
     },
     "881b35dc6ba449de96b3862f58f2df81": {
      "model_module": "@jupyter-widgets/controls",
      "model_module_version": "1.5.0",
      "model_name": "DescriptionStyleModel",
      "state": {
       "_model_module": "@jupyter-widgets/controls",
       "_model_module_version": "1.5.0",
       "_model_name": "DescriptionStyleModel",
       "_view_count": null,
       "_view_module": "@jupyter-widgets/base",
       "_view_module_version": "1.2.0",
       "_view_name": "StyleView",
       "description_width": ""
      }
     },
     "8962c778117a484083a45d7b46c5f960": {
      "model_module": "@jupyter-widgets/controls",
      "model_module_version": "1.5.0",
      "model_name": "HTMLModel",
      "state": {
       "_dom_classes": [],
       "_model_module": "@jupyter-widgets/controls",
       "_model_module_version": "1.5.0",
       "_model_name": "HTMLModel",
       "_view_count": null,
       "_view_module": "@jupyter-widgets/controls",
       "_view_module_version": "1.5.0",
       "_view_name": "HTMLView",
       "description": "",
       "description_tooltip": null,
       "layout": "IPY_MODEL_ea20735263974fa596b161321b4f19e0",
       "placeholder": "​",
       "style": "IPY_MODEL_d76e8850dade44baa1fdefe9d64744a1",
       "value": "100%"
      }
     },
     "8ea3904213d346e5bcc9599970b2282b": {
      "model_module": "@jupyter-widgets/controls",
      "model_module_version": "1.5.0",
      "model_name": "ProgressStyleModel",
      "state": {
       "_model_module": "@jupyter-widgets/controls",
       "_model_module_version": "1.5.0",
       "_model_name": "ProgressStyleModel",
       "_view_count": null,
       "_view_module": "@jupyter-widgets/base",
       "_view_module_version": "1.2.0",
       "_view_name": "StyleView",
       "bar_color": null,
       "description_width": ""
      }
     },
     "90d34a5cd260404d8294f4dc760aaf1e": {
      "model_module": "@jupyter-widgets/controls",
      "model_module_version": "1.5.0",
      "model_name": "HBoxModel",
      "state": {
       "_dom_classes": [],
       "_model_module": "@jupyter-widgets/controls",
       "_model_module_version": "1.5.0",
       "_model_name": "HBoxModel",
       "_view_count": null,
       "_view_module": "@jupyter-widgets/controls",
       "_view_module_version": "1.5.0",
       "_view_name": "HBoxView",
       "box_style": "",
       "children": [
        "IPY_MODEL_1ca156d91029406e85b2bde614910390",
        "IPY_MODEL_abd0e5c8588a4f1d9f4f0965f3c6cae3",
        "IPY_MODEL_b24bde70df2b4e2cbbd7c547961861b5"
       ],
       "layout": "IPY_MODEL_ba4fbed41e7e4a8a9d018ad4c0738374"
      }
     },
     "923e2bb13b1e44659ef95cfd82d79072": {
      "model_module": "@jupyter-widgets/controls",
      "model_module_version": "1.5.0",
      "model_name": "ProgressStyleModel",
      "state": {
       "_model_module": "@jupyter-widgets/controls",
       "_model_module_version": "1.5.0",
       "_model_name": "ProgressStyleModel",
       "_view_count": null,
       "_view_module": "@jupyter-widgets/base",
       "_view_module_version": "1.2.0",
       "_view_name": "StyleView",
       "bar_color": null,
       "description_width": ""
      }
     },
     "94f8d28f579145e6b1aa10c8906c7d28": {
      "model_module": "@jupyter-widgets/controls",
      "model_module_version": "1.5.0",
      "model_name": "HBoxModel",
      "state": {
       "_dom_classes": [],
       "_model_module": "@jupyter-widgets/controls",
       "_model_module_version": "1.5.0",
       "_model_name": "HBoxModel",
       "_view_count": null,
       "_view_module": "@jupyter-widgets/controls",
       "_view_module_version": "1.5.0",
       "_view_name": "HBoxView",
       "box_style": "",
       "children": [
        "IPY_MODEL_b71a429881f84e809adcb70b1e2dc9c1",
        "IPY_MODEL_2c613b77a25a44188c007051edd3f965",
        "IPY_MODEL_3c9b1ad5504441428fb97bdb5b9a7306"
       ],
       "layout": "IPY_MODEL_d781fffee6ee44adafc38f408551d552"
      }
     },
     "958cde386fa1491da9c4f060098b5efa": {
      "model_module": "@jupyter-widgets/base",
      "model_module_version": "1.2.0",
      "model_name": "LayoutModel",
      "state": {
       "_model_module": "@jupyter-widgets/base",
       "_model_module_version": "1.2.0",
       "_model_name": "LayoutModel",
       "_view_count": null,
       "_view_module": "@jupyter-widgets/base",
       "_view_module_version": "1.2.0",
       "_view_name": "LayoutView",
       "align_content": null,
       "align_items": null,
       "align_self": null,
       "border": null,
       "bottom": null,
       "display": null,
       "flex": null,
       "flex_flow": null,
       "grid_area": null,
       "grid_auto_columns": null,
       "grid_auto_flow": null,
       "grid_auto_rows": null,
       "grid_column": null,
       "grid_gap": null,
       "grid_row": null,
       "grid_template_areas": null,
       "grid_template_columns": null,
       "grid_template_rows": null,
       "height": null,
       "justify_content": null,
       "justify_items": null,
       "left": null,
       "margin": null,
       "max_height": null,
       "max_width": null,
       "min_height": null,
       "min_width": null,
       "object_fit": null,
       "object_position": null,
       "order": null,
       "overflow": null,
       "overflow_x": null,
       "overflow_y": null,
       "padding": null,
       "right": null,
       "top": null,
       "visibility": null,
       "width": null
      }
     },
     "9769055c8ac346558994f34fb8e59649": {
      "model_module": "@jupyter-widgets/base",
      "model_module_version": "1.2.0",
      "model_name": "LayoutModel",
      "state": {
       "_model_module": "@jupyter-widgets/base",
       "_model_module_version": "1.2.0",
       "_model_name": "LayoutModel",
       "_view_count": null,
       "_view_module": "@jupyter-widgets/base",
       "_view_module_version": "1.2.0",
       "_view_name": "LayoutView",
       "align_content": null,
       "align_items": null,
       "align_self": null,
       "border": null,
       "bottom": null,
       "display": null,
       "flex": null,
       "flex_flow": null,
       "grid_area": null,
       "grid_auto_columns": null,
       "grid_auto_flow": null,
       "grid_auto_rows": null,
       "grid_column": null,
       "grid_gap": null,
       "grid_row": null,
       "grid_template_areas": null,
       "grid_template_columns": null,
       "grid_template_rows": null,
       "height": null,
       "justify_content": null,
       "justify_items": null,
       "left": null,
       "margin": null,
       "max_height": null,
       "max_width": null,
       "min_height": null,
       "min_width": null,
       "object_fit": null,
       "object_position": null,
       "order": null,
       "overflow": null,
       "overflow_x": null,
       "overflow_y": null,
       "padding": null,
       "right": null,
       "top": null,
       "visibility": null,
       "width": null
      }
     },
     "97e5b8e38c964ebda1fc89ce94b79617": {
      "model_module": "@jupyter-widgets/base",
      "model_module_version": "1.2.0",
      "model_name": "LayoutModel",
      "state": {
       "_model_module": "@jupyter-widgets/base",
       "_model_module_version": "1.2.0",
       "_model_name": "LayoutModel",
       "_view_count": null,
       "_view_module": "@jupyter-widgets/base",
       "_view_module_version": "1.2.0",
       "_view_name": "LayoutView",
       "align_content": null,
       "align_items": null,
       "align_self": null,
       "border": null,
       "bottom": null,
       "display": null,
       "flex": null,
       "flex_flow": null,
       "grid_area": null,
       "grid_auto_columns": null,
       "grid_auto_flow": null,
       "grid_auto_rows": null,
       "grid_column": null,
       "grid_gap": null,
       "grid_row": null,
       "grid_template_areas": null,
       "grid_template_columns": null,
       "grid_template_rows": null,
       "height": null,
       "justify_content": null,
       "justify_items": null,
       "left": null,
       "margin": null,
       "max_height": null,
       "max_width": null,
       "min_height": null,
       "min_width": null,
       "object_fit": null,
       "object_position": null,
       "order": null,
       "overflow": null,
       "overflow_x": null,
       "overflow_y": null,
       "padding": null,
       "right": null,
       "top": null,
       "visibility": null,
       "width": null
      }
     },
     "99db32282955436a93d660dc975f562f": {
      "model_module": "@jupyter-widgets/base",
      "model_module_version": "1.2.0",
      "model_name": "LayoutModel",
      "state": {
       "_model_module": "@jupyter-widgets/base",
       "_model_module_version": "1.2.0",
       "_model_name": "LayoutModel",
       "_view_count": null,
       "_view_module": "@jupyter-widgets/base",
       "_view_module_version": "1.2.0",
       "_view_name": "LayoutView",
       "align_content": null,
       "align_items": null,
       "align_self": null,
       "border": null,
       "bottom": null,
       "display": null,
       "flex": null,
       "flex_flow": null,
       "grid_area": null,
       "grid_auto_columns": null,
       "grid_auto_flow": null,
       "grid_auto_rows": null,
       "grid_column": null,
       "grid_gap": null,
       "grid_row": null,
       "grid_template_areas": null,
       "grid_template_columns": null,
       "grid_template_rows": null,
       "height": null,
       "justify_content": null,
       "justify_items": null,
       "left": null,
       "margin": null,
       "max_height": null,
       "max_width": null,
       "min_height": null,
       "min_width": null,
       "object_fit": null,
       "object_position": null,
       "order": null,
       "overflow": null,
       "overflow_x": null,
       "overflow_y": null,
       "padding": null,
       "right": null,
       "top": null,
       "visibility": null,
       "width": null
      }
     },
     "9d00024209024f1da2117af75cd609e6": {
      "model_module": "@jupyter-widgets/controls",
      "model_module_version": "1.5.0",
      "model_name": "HTMLModel",
      "state": {
       "_dom_classes": [],
       "_model_module": "@jupyter-widgets/controls",
       "_model_module_version": "1.5.0",
       "_model_name": "HTMLModel",
       "_view_count": null,
       "_view_module": "@jupyter-widgets/controls",
       "_view_module_version": "1.5.0",
       "_view_name": "HTMLView",
       "description": "",
       "description_tooltip": null,
       "layout": "IPY_MODEL_54ef921bf2634763b5ccbdfb22e014f2",
       "placeholder": "​",
       "style": "IPY_MODEL_866f519bac9c42a3bb6bb8c0da8f27ac",
       "value": "100%"
      }
     },
     "a264c2472df145a7a05203840394b5cd": {
      "model_module": "@jupyter-widgets/controls",
      "model_module_version": "1.5.0",
      "model_name": "DescriptionStyleModel",
      "state": {
       "_model_module": "@jupyter-widgets/controls",
       "_model_module_version": "1.5.0",
       "_model_name": "DescriptionStyleModel",
       "_view_count": null,
       "_view_module": "@jupyter-widgets/base",
       "_view_module_version": "1.2.0",
       "_view_name": "StyleView",
       "description_width": ""
      }
     },
     "a38fe203a110419db64377b630cedda7": {
      "model_module": "@jupyter-widgets/base",
      "model_module_version": "1.2.0",
      "model_name": "LayoutModel",
      "state": {
       "_model_module": "@jupyter-widgets/base",
       "_model_module_version": "1.2.0",
       "_model_name": "LayoutModel",
       "_view_count": null,
       "_view_module": "@jupyter-widgets/base",
       "_view_module_version": "1.2.0",
       "_view_name": "LayoutView",
       "align_content": null,
       "align_items": null,
       "align_self": null,
       "border": null,
       "bottom": null,
       "display": null,
       "flex": null,
       "flex_flow": null,
       "grid_area": null,
       "grid_auto_columns": null,
       "grid_auto_flow": null,
       "grid_auto_rows": null,
       "grid_column": null,
       "grid_gap": null,
       "grid_row": null,
       "grid_template_areas": null,
       "grid_template_columns": null,
       "grid_template_rows": null,
       "height": null,
       "justify_content": null,
       "justify_items": null,
       "left": null,
       "margin": null,
       "max_height": null,
       "max_width": null,
       "min_height": null,
       "min_width": null,
       "object_fit": null,
       "object_position": null,
       "order": null,
       "overflow": null,
       "overflow_x": null,
       "overflow_y": null,
       "padding": null,
       "right": null,
       "top": null,
       "visibility": null,
       "width": null
      }
     },
     "aa3d3f2b3ced4120b0434cef2c2716b3": {
      "model_module": "@jupyter-widgets/controls",
      "model_module_version": "1.5.0",
      "model_name": "ProgressStyleModel",
      "state": {
       "_model_module": "@jupyter-widgets/controls",
       "_model_module_version": "1.5.0",
       "_model_name": "ProgressStyleModel",
       "_view_count": null,
       "_view_module": "@jupyter-widgets/base",
       "_view_module_version": "1.2.0",
       "_view_name": "StyleView",
       "bar_color": null,
       "description_width": ""
      }
     },
     "abd0e5c8588a4f1d9f4f0965f3c6cae3": {
      "model_module": "@jupyter-widgets/controls",
      "model_module_version": "1.5.0",
      "model_name": "FloatProgressModel",
      "state": {
       "_dom_classes": [],
       "_model_module": "@jupyter-widgets/controls",
       "_model_module_version": "1.5.0",
       "_model_name": "FloatProgressModel",
       "_view_count": null,
       "_view_module": "@jupyter-widgets/controls",
       "_view_module_version": "1.5.0",
       "_view_name": "ProgressView",
       "bar_style": "success",
       "description": "",
       "description_tooltip": null,
       "layout": "IPY_MODEL_cdbf1adec63e4683bf660fcd91a2a159",
       "max": 13024.0,
       "min": 0.0,
       "orientation": "horizontal",
       "style": "IPY_MODEL_aa3d3f2b3ced4120b0434cef2c2716b3",
       "value": 13024.0
      }
     },
     "ad5edb409d4b4f6f89778b160649bf6b": {
      "model_module": "@jupyter-widgets/base",
      "model_module_version": "1.2.0",
      "model_name": "LayoutModel",
      "state": {
       "_model_module": "@jupyter-widgets/base",
       "_model_module_version": "1.2.0",
       "_model_name": "LayoutModel",
       "_view_count": null,
       "_view_module": "@jupyter-widgets/base",
       "_view_module_version": "1.2.0",
       "_view_name": "LayoutView",
       "align_content": null,
       "align_items": null,
       "align_self": null,
       "border": null,
       "bottom": null,
       "display": null,
       "flex": null,
       "flex_flow": null,
       "grid_area": null,
       "grid_auto_columns": null,
       "grid_auto_flow": null,
       "grid_auto_rows": null,
       "grid_column": null,
       "grid_gap": null,
       "grid_row": null,
       "grid_template_areas": null,
       "grid_template_columns": null,
       "grid_template_rows": null,
       "height": null,
       "justify_content": null,
       "justify_items": null,
       "left": null,
       "margin": null,
       "max_height": null,
       "max_width": null,
       "min_height": null,
       "min_width": null,
       "object_fit": null,
       "object_position": null,
       "order": null,
       "overflow": null,
       "overflow_x": null,
       "overflow_y": null,
       "padding": null,
       "right": null,
       "top": null,
       "visibility": null,
       "width": null
      }
     },
     "b15dca6511bf4cd9b3752f4ba90be424": {
      "model_module": "@jupyter-widgets/base",
      "model_module_version": "1.2.0",
      "model_name": "LayoutModel",
      "state": {
       "_model_module": "@jupyter-widgets/base",
       "_model_module_version": "1.2.0",
       "_model_name": "LayoutModel",
       "_view_count": null,
       "_view_module": "@jupyter-widgets/base",
       "_view_module_version": "1.2.0",
       "_view_name": "LayoutView",
       "align_content": null,
       "align_items": null,
       "align_self": null,
       "border": null,
       "bottom": null,
       "display": null,
       "flex": null,
       "flex_flow": null,
       "grid_area": null,
       "grid_auto_columns": null,
       "grid_auto_flow": null,
       "grid_auto_rows": null,
       "grid_column": null,
       "grid_gap": null,
       "grid_row": null,
       "grid_template_areas": null,
       "grid_template_columns": null,
       "grid_template_rows": null,
       "height": null,
       "justify_content": null,
       "justify_items": null,
       "left": null,
       "margin": null,
       "max_height": null,
       "max_width": null,
       "min_height": null,
       "min_width": null,
       "object_fit": null,
       "object_position": null,
       "order": null,
       "overflow": null,
       "overflow_x": null,
       "overflow_y": null,
       "padding": null,
       "right": null,
       "top": null,
       "visibility": null,
       "width": null
      }
     },
     "b2428c5cd07a46cd9be2693c93f98f74": {
      "model_module": "@jupyter-widgets/controls",
      "model_module_version": "1.5.0",
      "model_name": "FloatProgressModel",
      "state": {
       "_dom_classes": [],
       "_model_module": "@jupyter-widgets/controls",
       "_model_module_version": "1.5.0",
       "_model_name": "FloatProgressModel",
       "_view_count": null,
       "_view_module": "@jupyter-widgets/controls",
       "_view_module_version": "1.5.0",
       "_view_name": "ProgressView",
       "bar_style": "success",
       "description": "",
       "description_tooltip": null,
       "layout": "IPY_MODEL_53552f52af9b48eb9c1a4a10c20623c5",
       "max": 13024.0,
       "min": 0.0,
       "orientation": "horizontal",
       "style": "IPY_MODEL_4a9bc17a97c64bacb491b6d3ddae824c",
       "value": 13024.0
      }
     },
     "b24bde70df2b4e2cbbd7c547961861b5": {
      "model_module": "@jupyter-widgets/controls",
      "model_module_version": "1.5.0",
      "model_name": "HTMLModel",
      "state": {
       "_dom_classes": [],
       "_model_module": "@jupyter-widgets/controls",
       "_model_module_version": "1.5.0",
       "_model_name": "HTMLModel",
       "_view_count": null,
       "_view_module": "@jupyter-widgets/controls",
       "_view_module_version": "1.5.0",
       "_view_name": "HTMLView",
       "description": "",
       "description_tooltip": null,
       "layout": "IPY_MODEL_3c8714b8a9b54c80b098e7f74b8f33ed",
       "placeholder": "​",
       "style": "IPY_MODEL_a264c2472df145a7a05203840394b5cd",
       "value": " 13024/13024 [00:25&lt;00:00, 526.30it/s]"
      }
     },
     "b559dee042b74a9f9f4ed2b8fdb4b32d": {
      "model_module": "@jupyter-widgets/controls",
      "model_module_version": "1.5.0",
      "model_name": "FloatProgressModel",
      "state": {
       "_dom_classes": [],
       "_model_module": "@jupyter-widgets/controls",
       "_model_module_version": "1.5.0",
       "_model_name": "FloatProgressModel",
       "_view_count": null,
       "_view_module": "@jupyter-widgets/controls",
       "_view_module_version": "1.5.0",
       "_view_name": "ProgressView",
       "bar_style": "success",
       "description": "",
       "description_tooltip": null,
       "layout": "IPY_MODEL_111e39acb34247249cf2000534efd106",
       "max": 13024.0,
       "min": 0.0,
       "orientation": "horizontal",
       "style": "IPY_MODEL_73b0482478f644a38c21285d041b7145",
       "value": 13024.0
      }
     },
     "b71a429881f84e809adcb70b1e2dc9c1": {
      "model_module": "@jupyter-widgets/controls",
      "model_module_version": "1.5.0",
      "model_name": "HTMLModel",
      "state": {
       "_dom_classes": [],
       "_model_module": "@jupyter-widgets/controls",
       "_model_module_version": "1.5.0",
       "_model_name": "HTMLModel",
       "_view_count": null,
       "_view_module": "@jupyter-widgets/controls",
       "_view_module_version": "1.5.0",
       "_view_name": "HTMLView",
       "description": "",
       "description_tooltip": null,
       "layout": "IPY_MODEL_15fd00b663564f9b9f17d189c0252d11",
       "placeholder": "​",
       "style": "IPY_MODEL_e44f65dca5f940839cfcd25c3fd1c077",
       "value": "100%"
      }
     },
     "b8fe1b1d93bc47eba772dbcb3a2c68db": {
      "model_module": "@jupyter-widgets/controls",
      "model_module_version": "1.5.0",
      "model_name": "HTMLModel",
      "state": {
       "_dom_classes": [],
       "_model_module": "@jupyter-widgets/controls",
       "_model_module_version": "1.5.0",
       "_model_name": "HTMLModel",
       "_view_count": null,
       "_view_module": "@jupyter-widgets/controls",
       "_view_module_version": "1.5.0",
       "_view_name": "HTMLView",
       "description": "",
       "description_tooltip": null,
       "layout": "IPY_MODEL_644907ee68314422825cb5e9d46cb0a8",
       "placeholder": "​",
       "style": "IPY_MODEL_c624de27ef3e487e9d6132fce24e1d60",
       "value": " 13024/13024 [00:24&lt;00:00, 523.98it/s]"
      }
     },
     "ba4fbed41e7e4a8a9d018ad4c0738374": {
      "model_module": "@jupyter-widgets/base",
      "model_module_version": "1.2.0",
      "model_name": "LayoutModel",
      "state": {
       "_model_module": "@jupyter-widgets/base",
       "_model_module_version": "1.2.0",
       "_model_name": "LayoutModel",
       "_view_count": null,
       "_view_module": "@jupyter-widgets/base",
       "_view_module_version": "1.2.0",
       "_view_name": "LayoutView",
       "align_content": null,
       "align_items": null,
       "align_self": null,
       "border": null,
       "bottom": null,
       "display": null,
       "flex": null,
       "flex_flow": null,
       "grid_area": null,
       "grid_auto_columns": null,
       "grid_auto_flow": null,
       "grid_auto_rows": null,
       "grid_column": null,
       "grid_gap": null,
       "grid_row": null,
       "grid_template_areas": null,
       "grid_template_columns": null,
       "grid_template_rows": null,
       "height": null,
       "justify_content": null,
       "justify_items": null,
       "left": null,
       "margin": null,
       "max_height": null,
       "max_width": null,
       "min_height": null,
       "min_width": null,
       "object_fit": null,
       "object_position": null,
       "order": null,
       "overflow": null,
       "overflow_x": null,
       "overflow_y": null,
       "padding": null,
       "right": null,
       "top": null,
       "visibility": null,
       "width": null
      }
     },
     "bf805161fe6c4265afe54c057d5c3e7e": {
      "model_module": "@jupyter-widgets/base",
      "model_module_version": "1.2.0",
      "model_name": "LayoutModel",
      "state": {
       "_model_module": "@jupyter-widgets/base",
       "_model_module_version": "1.2.0",
       "_model_name": "LayoutModel",
       "_view_count": null,
       "_view_module": "@jupyter-widgets/base",
       "_view_module_version": "1.2.0",
       "_view_name": "LayoutView",
       "align_content": null,
       "align_items": null,
       "align_self": null,
       "border": null,
       "bottom": null,
       "display": null,
       "flex": null,
       "flex_flow": null,
       "grid_area": null,
       "grid_auto_columns": null,
       "grid_auto_flow": null,
       "grid_auto_rows": null,
       "grid_column": null,
       "grid_gap": null,
       "grid_row": null,
       "grid_template_areas": null,
       "grid_template_columns": null,
       "grid_template_rows": null,
       "height": null,
       "justify_content": null,
       "justify_items": null,
       "left": null,
       "margin": null,
       "max_height": null,
       "max_width": null,
       "min_height": null,
       "min_width": null,
       "object_fit": null,
       "object_position": null,
       "order": null,
       "overflow": null,
       "overflow_x": null,
       "overflow_y": null,
       "padding": null,
       "right": null,
       "top": null,
       "visibility": null,
       "width": null
      }
     },
     "c624de27ef3e487e9d6132fce24e1d60": {
      "model_module": "@jupyter-widgets/controls",
      "model_module_version": "1.5.0",
      "model_name": "DescriptionStyleModel",
      "state": {
       "_model_module": "@jupyter-widgets/controls",
       "_model_module_version": "1.5.0",
       "_model_name": "DescriptionStyleModel",
       "_view_count": null,
       "_view_module": "@jupyter-widgets/base",
       "_view_module_version": "1.2.0",
       "_view_name": "StyleView",
       "description_width": ""
      }
     },
     "c8f6fe86354e487b9747ff004f6768b0": {
      "model_module": "@jupyter-widgets/controls",
      "model_module_version": "1.5.0",
      "model_name": "HTMLModel",
      "state": {
       "_dom_classes": [],
       "_model_module": "@jupyter-widgets/controls",
       "_model_module_version": "1.5.0",
       "_model_name": "HTMLModel",
       "_view_count": null,
       "_view_module": "@jupyter-widgets/controls",
       "_view_module_version": "1.5.0",
       "_view_name": "HTMLView",
       "description": "",
       "description_tooltip": null,
       "layout": "IPY_MODEL_cff5e4e25cf54d08b7704d81f747fe21",
       "placeholder": "​",
       "style": "IPY_MODEL_5c6673ab0b614777a358ecac49b0f3da",
       "value": "100%"
      }
     },
     "cdbf1adec63e4683bf660fcd91a2a159": {
      "model_module": "@jupyter-widgets/base",
      "model_module_version": "1.2.0",
      "model_name": "LayoutModel",
      "state": {
       "_model_module": "@jupyter-widgets/base",
       "_model_module_version": "1.2.0",
       "_model_name": "LayoutModel",
       "_view_count": null,
       "_view_module": "@jupyter-widgets/base",
       "_view_module_version": "1.2.0",
       "_view_name": "LayoutView",
       "align_content": null,
       "align_items": null,
       "align_self": null,
       "border": null,
       "bottom": null,
       "display": null,
       "flex": null,
       "flex_flow": null,
       "grid_area": null,
       "grid_auto_columns": null,
       "grid_auto_flow": null,
       "grid_auto_rows": null,
       "grid_column": null,
       "grid_gap": null,
       "grid_row": null,
       "grid_template_areas": null,
       "grid_template_columns": null,
       "grid_template_rows": null,
       "height": null,
       "justify_content": null,
       "justify_items": null,
       "left": null,
       "margin": null,
       "max_height": null,
       "max_width": null,
       "min_height": null,
       "min_width": null,
       "object_fit": null,
       "object_position": null,
       "order": null,
       "overflow": null,
       "overflow_x": null,
       "overflow_y": null,
       "padding": null,
       "right": null,
       "top": null,
       "visibility": null,
       "width": null
      }
     },
     "cff5e4e25cf54d08b7704d81f747fe21": {
      "model_module": "@jupyter-widgets/base",
      "model_module_version": "1.2.0",
      "model_name": "LayoutModel",
      "state": {
       "_model_module": "@jupyter-widgets/base",
       "_model_module_version": "1.2.0",
       "_model_name": "LayoutModel",
       "_view_count": null,
       "_view_module": "@jupyter-widgets/base",
       "_view_module_version": "1.2.0",
       "_view_name": "LayoutView",
       "align_content": null,
       "align_items": null,
       "align_self": null,
       "border": null,
       "bottom": null,
       "display": null,
       "flex": null,
       "flex_flow": null,
       "grid_area": null,
       "grid_auto_columns": null,
       "grid_auto_flow": null,
       "grid_auto_rows": null,
       "grid_column": null,
       "grid_gap": null,
       "grid_row": null,
       "grid_template_areas": null,
       "grid_template_columns": null,
       "grid_template_rows": null,
       "height": null,
       "justify_content": null,
       "justify_items": null,
       "left": null,
       "margin": null,
       "max_height": null,
       "max_width": null,
       "min_height": null,
       "min_width": null,
       "object_fit": null,
       "object_position": null,
       "order": null,
       "overflow": null,
       "overflow_x": null,
       "overflow_y": null,
       "padding": null,
       "right": null,
       "top": null,
       "visibility": null,
       "width": null
      }
     },
     "d064ef92a1814803b3752855507702e9": {
      "model_module": "@jupyter-widgets/controls",
      "model_module_version": "1.5.0",
      "model_name": "HTMLModel",
      "state": {
       "_dom_classes": [],
       "_model_module": "@jupyter-widgets/controls",
       "_model_module_version": "1.5.0",
       "_model_name": "HTMLModel",
       "_view_count": null,
       "_view_module": "@jupyter-widgets/controls",
       "_view_module_version": "1.5.0",
       "_view_name": "HTMLView",
       "description": "",
       "description_tooltip": null,
       "layout": "IPY_MODEL_9769055c8ac346558994f34fb8e59649",
       "placeholder": "​",
       "style": "IPY_MODEL_43166a9e77614a3aa467190c8a4554c2",
       "value": " 13024/13024 [01:07&lt;00:00, 197.62it/s]"
      }
     },
     "d1f5e28972b142c1a808613ad737fd0b": {
      "model_module": "@jupyter-widgets/base",
      "model_module_version": "1.2.0",
      "model_name": "LayoutModel",
      "state": {
       "_model_module": "@jupyter-widgets/base",
       "_model_module_version": "1.2.0",
       "_model_name": "LayoutModel",
       "_view_count": null,
       "_view_module": "@jupyter-widgets/base",
       "_view_module_version": "1.2.0",
       "_view_name": "LayoutView",
       "align_content": null,
       "align_items": null,
       "align_self": null,
       "border": null,
       "bottom": null,
       "display": null,
       "flex": null,
       "flex_flow": null,
       "grid_area": null,
       "grid_auto_columns": null,
       "grid_auto_flow": null,
       "grid_auto_rows": null,
       "grid_column": null,
       "grid_gap": null,
       "grid_row": null,
       "grid_template_areas": null,
       "grid_template_columns": null,
       "grid_template_rows": null,
       "height": null,
       "justify_content": null,
       "justify_items": null,
       "left": null,
       "margin": null,
       "max_height": null,
       "max_width": null,
       "min_height": null,
       "min_width": null,
       "object_fit": null,
       "object_position": null,
       "order": null,
       "overflow": null,
       "overflow_x": null,
       "overflow_y": null,
       "padding": null,
       "right": null,
       "top": null,
       "visibility": null,
       "width": null
      }
     },
     "d48fab3947d841f090e41e0ad42cfc5b": {
      "model_module": "@jupyter-widgets/controls",
      "model_module_version": "1.5.0",
      "model_name": "FloatProgressModel",
      "state": {
       "_dom_classes": [],
       "_model_module": "@jupyter-widgets/controls",
       "_model_module_version": "1.5.0",
       "_model_name": "FloatProgressModel",
       "_view_count": null,
       "_view_module": "@jupyter-widgets/controls",
       "_view_module_version": "1.5.0",
       "_view_name": "ProgressView",
       "bar_style": "success",
       "description": "",
       "description_tooltip": null,
       "layout": "IPY_MODEL_f814518dff1e437186d11b853d94182d",
       "max": 13024.0,
       "min": 0.0,
       "orientation": "horizontal",
       "style": "IPY_MODEL_2004f28344184ca8babf5e614ea63400",
       "value": 13024.0
      }
     },
     "d76e8850dade44baa1fdefe9d64744a1": {
      "model_module": "@jupyter-widgets/controls",
      "model_module_version": "1.5.0",
      "model_name": "DescriptionStyleModel",
      "state": {
       "_model_module": "@jupyter-widgets/controls",
       "_model_module_version": "1.5.0",
       "_model_name": "DescriptionStyleModel",
       "_view_count": null,
       "_view_module": "@jupyter-widgets/base",
       "_view_module_version": "1.2.0",
       "_view_name": "StyleView",
       "description_width": ""
      }
     },
     "d781fffee6ee44adafc38f408551d552": {
      "model_module": "@jupyter-widgets/base",
      "model_module_version": "1.2.0",
      "model_name": "LayoutModel",
      "state": {
       "_model_module": "@jupyter-widgets/base",
       "_model_module_version": "1.2.0",
       "_model_name": "LayoutModel",
       "_view_count": null,
       "_view_module": "@jupyter-widgets/base",
       "_view_module_version": "1.2.0",
       "_view_name": "LayoutView",
       "align_content": null,
       "align_items": null,
       "align_self": null,
       "border": null,
       "bottom": null,
       "display": null,
       "flex": null,
       "flex_flow": null,
       "grid_area": null,
       "grid_auto_columns": null,
       "grid_auto_flow": null,
       "grid_auto_rows": null,
       "grid_column": null,
       "grid_gap": null,
       "grid_row": null,
       "grid_template_areas": null,
       "grid_template_columns": null,
       "grid_template_rows": null,
       "height": null,
       "justify_content": null,
       "justify_items": null,
       "left": null,
       "margin": null,
       "max_height": null,
       "max_width": null,
       "min_height": null,
       "min_width": null,
       "object_fit": null,
       "object_position": null,
       "order": null,
       "overflow": null,
       "overflow_x": null,
       "overflow_y": null,
       "padding": null,
       "right": null,
       "top": null,
       "visibility": null,
       "width": null
      }
     },
     "de671e69b6b4475ea71ea328cf063d29": {
      "model_module": "@jupyter-widgets/controls",
      "model_module_version": "1.5.0",
      "model_name": "FloatProgressModel",
      "state": {
       "_dom_classes": [],
       "_model_module": "@jupyter-widgets/controls",
       "_model_module_version": "1.5.0",
       "_model_name": "FloatProgressModel",
       "_view_count": null,
       "_view_module": "@jupyter-widgets/controls",
       "_view_module_version": "1.5.0",
       "_view_name": "ProgressView",
       "bar_style": "success",
       "description": "",
       "description_tooltip": null,
       "layout": "IPY_MODEL_662a521a6fa04e5dae9e59350ece2eec",
       "max": 13024.0,
       "min": 0.0,
       "orientation": "horizontal",
       "style": "IPY_MODEL_7c6a7df14fb6444395949719fec8505d",
       "value": 13024.0
      }
     },
     "e44f65dca5f940839cfcd25c3fd1c077": {
      "model_module": "@jupyter-widgets/controls",
      "model_module_version": "1.5.0",
      "model_name": "DescriptionStyleModel",
      "state": {
       "_model_module": "@jupyter-widgets/controls",
       "_model_module_version": "1.5.0",
       "_model_name": "DescriptionStyleModel",
       "_view_count": null,
       "_view_module": "@jupyter-widgets/base",
       "_view_module_version": "1.2.0",
       "_view_name": "StyleView",
       "description_width": ""
      }
     },
     "e7edf09b6cb3435580b7b622c616b6de": {
      "model_module": "@jupyter-widgets/controls",
      "model_module_version": "1.5.0",
      "model_name": "DescriptionStyleModel",
      "state": {
       "_model_module": "@jupyter-widgets/controls",
       "_model_module_version": "1.5.0",
       "_model_name": "DescriptionStyleModel",
       "_view_count": null,
       "_view_module": "@jupyter-widgets/base",
       "_view_module_version": "1.2.0",
       "_view_name": "StyleView",
       "description_width": ""
      }
     },
     "e833caa343d3474ebd4dfe59467430f3": {
      "model_module": "@jupyter-widgets/base",
      "model_module_version": "1.2.0",
      "model_name": "LayoutModel",
      "state": {
       "_model_module": "@jupyter-widgets/base",
       "_model_module_version": "1.2.0",
       "_model_name": "LayoutModel",
       "_view_count": null,
       "_view_module": "@jupyter-widgets/base",
       "_view_module_version": "1.2.0",
       "_view_name": "LayoutView",
       "align_content": null,
       "align_items": null,
       "align_self": null,
       "border": null,
       "bottom": null,
       "display": null,
       "flex": null,
       "flex_flow": null,
       "grid_area": null,
       "grid_auto_columns": null,
       "grid_auto_flow": null,
       "grid_auto_rows": null,
       "grid_column": null,
       "grid_gap": null,
       "grid_row": null,
       "grid_template_areas": null,
       "grid_template_columns": null,
       "grid_template_rows": null,
       "height": null,
       "justify_content": null,
       "justify_items": null,
       "left": null,
       "margin": null,
       "max_height": null,
       "max_width": null,
       "min_height": null,
       "min_width": null,
       "object_fit": null,
       "object_position": null,
       "order": null,
       "overflow": null,
       "overflow_x": null,
       "overflow_y": null,
       "padding": null,
       "right": null,
       "top": null,
       "visibility": null,
       "width": null
      }
     },
     "ea20735263974fa596b161321b4f19e0": {
      "model_module": "@jupyter-widgets/base",
      "model_module_version": "1.2.0",
      "model_name": "LayoutModel",
      "state": {
       "_model_module": "@jupyter-widgets/base",
       "_model_module_version": "1.2.0",
       "_model_name": "LayoutModel",
       "_view_count": null,
       "_view_module": "@jupyter-widgets/base",
       "_view_module_version": "1.2.0",
       "_view_name": "LayoutView",
       "align_content": null,
       "align_items": null,
       "align_self": null,
       "border": null,
       "bottom": null,
       "display": null,
       "flex": null,
       "flex_flow": null,
       "grid_area": null,
       "grid_auto_columns": null,
       "grid_auto_flow": null,
       "grid_auto_rows": null,
       "grid_column": null,
       "grid_gap": null,
       "grid_row": null,
       "grid_template_areas": null,
       "grid_template_columns": null,
       "grid_template_rows": null,
       "height": null,
       "justify_content": null,
       "justify_items": null,
       "left": null,
       "margin": null,
       "max_height": null,
       "max_width": null,
       "min_height": null,
       "min_width": null,
       "object_fit": null,
       "object_position": null,
       "order": null,
       "overflow": null,
       "overflow_x": null,
       "overflow_y": null,
       "padding": null,
       "right": null,
       "top": null,
       "visibility": null,
       "width": null
      }
     },
     "ea4a458038184559bbb0fa4c3960a4a3": {
      "model_module": "@jupyter-widgets/base",
      "model_module_version": "1.2.0",
      "model_name": "LayoutModel",
      "state": {
       "_model_module": "@jupyter-widgets/base",
       "_model_module_version": "1.2.0",
       "_model_name": "LayoutModel",
       "_view_count": null,
       "_view_module": "@jupyter-widgets/base",
       "_view_module_version": "1.2.0",
       "_view_name": "LayoutView",
       "align_content": null,
       "align_items": null,
       "align_self": null,
       "border": null,
       "bottom": null,
       "display": null,
       "flex": null,
       "flex_flow": null,
       "grid_area": null,
       "grid_auto_columns": null,
       "grid_auto_flow": null,
       "grid_auto_rows": null,
       "grid_column": null,
       "grid_gap": null,
       "grid_row": null,
       "grid_template_areas": null,
       "grid_template_columns": null,
       "grid_template_rows": null,
       "height": null,
       "justify_content": null,
       "justify_items": null,
       "left": null,
       "margin": null,
       "max_height": null,
       "max_width": null,
       "min_height": null,
       "min_width": null,
       "object_fit": null,
       "object_position": null,
       "order": null,
       "overflow": null,
       "overflow_x": null,
       "overflow_y": null,
       "padding": null,
       "right": null,
       "top": null,
       "visibility": null,
       "width": null
      }
     },
     "f34c659963b447709bd4065148f6ba5e": {
      "model_module": "@jupyter-widgets/controls",
      "model_module_version": "1.5.0",
      "model_name": "FloatProgressModel",
      "state": {
       "_dom_classes": [],
       "_model_module": "@jupyter-widgets/controls",
       "_model_module_version": "1.5.0",
       "_model_name": "FloatProgressModel",
       "_view_count": null,
       "_view_module": "@jupyter-widgets/controls",
       "_view_module_version": "1.5.0",
       "_view_name": "ProgressView",
       "bar_style": "success",
       "description": "",
       "description_tooltip": null,
       "layout": "IPY_MODEL_bf805161fe6c4265afe54c057d5c3e7e",
       "max": 13024.0,
       "min": 0.0,
       "orientation": "horizontal",
       "style": "IPY_MODEL_923e2bb13b1e44659ef95cfd82d79072",
       "value": 13024.0
      }
     },
     "f814518dff1e437186d11b853d94182d": {
      "model_module": "@jupyter-widgets/base",
      "model_module_version": "1.2.0",
      "model_name": "LayoutModel",
      "state": {
       "_model_module": "@jupyter-widgets/base",
       "_model_module_version": "1.2.0",
       "_model_name": "LayoutModel",
       "_view_count": null,
       "_view_module": "@jupyter-widgets/base",
       "_view_module_version": "1.2.0",
       "_view_name": "LayoutView",
       "align_content": null,
       "align_items": null,
       "align_self": null,
       "border": null,
       "bottom": null,
       "display": null,
       "flex": null,
       "flex_flow": null,
       "grid_area": null,
       "grid_auto_columns": null,
       "grid_auto_flow": null,
       "grid_auto_rows": null,
       "grid_column": null,
       "grid_gap": null,
       "grid_row": null,
       "grid_template_areas": null,
       "grid_template_columns": null,
       "grid_template_rows": null,
       "height": null,
       "justify_content": null,
       "justify_items": null,
       "left": null,
       "margin": null,
       "max_height": null,
       "max_width": null,
       "min_height": null,
       "min_width": null,
       "object_fit": null,
       "object_position": null,
       "order": null,
       "overflow": null,
       "overflow_x": null,
       "overflow_y": null,
       "padding": null,
       "right": null,
       "top": null,
       "visibility": null,
       "width": null
      }
     },
     "f94e258df6e1429086ba53fe5ebf66bf": {
      "model_module": "@jupyter-widgets/controls",
      "model_module_version": "1.5.0",
      "model_name": "HTMLModel",
      "state": {
       "_dom_classes": [],
       "_model_module": "@jupyter-widgets/controls",
       "_model_module_version": "1.5.0",
       "_model_name": "HTMLModel",
       "_view_count": null,
       "_view_module": "@jupyter-widgets/controls",
       "_view_module_version": "1.5.0",
       "_view_name": "HTMLView",
       "description": "",
       "description_tooltip": null,
       "layout": "IPY_MODEL_ad5edb409d4b4f6f89778b160649bf6b",
       "placeholder": "​",
       "style": "IPY_MODEL_e7edf09b6cb3435580b7b622c616b6de",
       "value": "100%"
      }
     },
     "fa184f911255469ebea6b515c36c80b8": {
      "model_module": "@jupyter-widgets/base",
      "model_module_version": "1.2.0",
      "model_name": "LayoutModel",
      "state": {
       "_model_module": "@jupyter-widgets/base",
       "_model_module_version": "1.2.0",
       "_model_name": "LayoutModel",
       "_view_count": null,
       "_view_module": "@jupyter-widgets/base",
       "_view_module_version": "1.2.0",
       "_view_name": "LayoutView",
       "align_content": null,
       "align_items": null,
       "align_self": null,
       "border": null,
       "bottom": null,
       "display": null,
       "flex": null,
       "flex_flow": null,
       "grid_area": null,
       "grid_auto_columns": null,
       "grid_auto_flow": null,
       "grid_auto_rows": null,
       "grid_column": null,
       "grid_gap": null,
       "grid_row": null,
       "grid_template_areas": null,
       "grid_template_columns": null,
       "grid_template_rows": null,
       "height": null,
       "justify_content": null,
       "justify_items": null,
       "left": null,
       "margin": null,
       "max_height": null,
       "max_width": null,
       "min_height": null,
       "min_width": null,
       "object_fit": null,
       "object_position": null,
       "order": null,
       "overflow": null,
       "overflow_x": null,
       "overflow_y": null,
       "padding": null,
       "right": null,
       "top": null,
       "visibility": null,
       "width": null
      }
     },
     "fe3a6f08edb646f799ca7fe50f03a71a": {
      "model_module": "@jupyter-widgets/controls",
      "model_module_version": "1.5.0",
      "model_name": "HBoxModel",
      "state": {
       "_dom_classes": [],
       "_model_module": "@jupyter-widgets/controls",
       "_model_module_version": "1.5.0",
       "_model_name": "HBoxModel",
       "_view_count": null,
       "_view_module": "@jupyter-widgets/controls",
       "_view_module_version": "1.5.0",
       "_view_name": "HBoxView",
       "box_style": "",
       "children": [
        "IPY_MODEL_8962c778117a484083a45d7b46c5f960",
        "IPY_MODEL_b2428c5cd07a46cd9be2693c93f98f74",
        "IPY_MODEL_297104751d4d4c3683d980b0f0dda9fd"
       ],
       "layout": "IPY_MODEL_e833caa343d3474ebd4dfe59467430f3"
      }
     }
    },
    "version_major": 2,
    "version_minor": 0
   }
  }
 },
 "nbformat": 4,
 "nbformat_minor": 5
}
