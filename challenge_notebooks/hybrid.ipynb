{
 "cells": [
  {
   "cell_type": "code",
   "execution_count": 1,
   "id": "b17acce9",
   "metadata": {
    "_cell_guid": "b1076dfc-b9ad-4769-8c92-a6c4dae69d19",
    "_uuid": "8f2839f25d086af736a60e9eeb907d3b93b6e0e5",
    "execution": {
     "iopub.execute_input": "2023-12-03T19:59:43.852428Z",
     "iopub.status.busy": "2023-12-03T19:59:43.851679Z",
     "iopub.status.idle": "2023-12-03T19:59:54.622159Z",
     "shell.execute_reply": "2023-12-03T19:59:54.620513Z"
    },
    "papermill": {
     "duration": 10.787335,
     "end_time": "2023-12-03T19:59:54.624919",
     "exception": false,
     "start_time": "2023-12-03T19:59:43.837584",
     "status": "completed"
    },
    "tags": []
   },
   "outputs": [
    {
     "name": "stdout",
     "output_type": "stream",
     "text": [
      "Cloning into 'Recsys_Challenge_2023'...\r\n",
      "remote: Enumerating objects: 1809, done.\u001b[K\r\n",
      "remote: Counting objects: 100% (658/658), done.\u001b[K\r\n",
      "remote: Compressing objects: 100% (200/200), done.\u001b[K\r\n",
      "remote: Total 1809 (delta 520), reused 569 (delta 454), pack-reused 1151\u001b[K\r\n",
      "Receiving objects: 100% (1809/1809), 158.38 MiB | 22.29 MiB/s, done.\r\n",
      "Resolving deltas: 100% (1350/1350), done.\r\n"
     ]
    }
   ],
   "source": [
    "from kaggle_secrets import UserSecretsClient\n",
    "secret_label = \"Token\"\n",
    "token = UserSecretsClient().get_secret(secret_label)\n",
    "\n",
    "! git clone https://{token}@github.com/CarloSgaravatti/Recsys_Challenge_2023.git"
   ]
  },
  {
   "cell_type": "code",
   "execution_count": 2,
   "id": "38b4f532",
   "metadata": {
    "execution": {
     "iopub.execute_input": "2023-12-03T19:59:54.660114Z",
     "iopub.status.busy": "2023-12-03T19:59:54.658715Z",
     "iopub.status.idle": "2023-12-03T20:00:11.059501Z",
     "shell.execute_reply": "2023-12-03T20:00:11.058300Z"
    },
    "papermill": {
     "duration": 16.420491,
     "end_time": "2023-12-03T20:00:11.062262",
     "exception": false,
     "start_time": "2023-12-03T19:59:54.641771",
     "status": "completed"
    },
    "tags": []
   },
   "outputs": [
    {
     "name": "stdout",
     "output_type": "stream",
     "text": [
      "Collecting PyGithub\r\n",
      "  Obtaining dependency information for PyGithub from https://files.pythonhosted.org/packages/be/04/810d131be173cba445d3658a45512b2b2b3d0960d52c4a300d6ec5e00f52/PyGithub-2.1.1-py3-none-any.whl.metadata\r\n",
      "  Downloading PyGithub-2.1.1-py3-none-any.whl.metadata (2.2 kB)\r\n",
      "Requirement already satisfied: requests in /opt/conda/lib/python3.10/site-packages (2.31.0)\r\n",
      "Collecting pynacl>=1.4.0 (from PyGithub)\r\n",
      "  Downloading PyNaCl-1.5.0-cp36-abi3-manylinux_2_17_x86_64.manylinux2014_x86_64.manylinux_2_24_x86_64.whl (856 kB)\r\n",
      "\u001b[2K     \u001b[90m━━━━━━━━━━━━━━━━━━━━━━━━━━━━━━━━━━━━━━\u001b[0m \u001b[32m856.7/856.7 kB\u001b[0m \u001b[31m21.8 MB/s\u001b[0m eta \u001b[36m0:00:00\u001b[0m\r\n",
      "\u001b[?25hRequirement already satisfied: python-dateutil in /opt/conda/lib/python3.10/site-packages (from PyGithub) (2.8.2)\r\n",
      "Requirement already satisfied: pyjwt[crypto]>=2.4.0 in /opt/conda/lib/python3.10/site-packages (from PyGithub) (2.8.0)\r\n",
      "Requirement already satisfied: typing-extensions>=4.0.0 in /opt/conda/lib/python3.10/site-packages (from PyGithub) (4.5.0)\r\n",
      "Requirement already satisfied: urllib3>=1.26.0 in /opt/conda/lib/python3.10/site-packages (from PyGithub) (1.26.15)\r\n",
      "Requirement already satisfied: Deprecated in /opt/conda/lib/python3.10/site-packages (from PyGithub) (1.2.14)\r\n",
      "Requirement already satisfied: charset-normalizer<4,>=2 in /opt/conda/lib/python3.10/site-packages (from requests) (3.2.0)\r\n",
      "Requirement already satisfied: idna<4,>=2.5 in /opt/conda/lib/python3.10/site-packages (from requests) (3.4)\r\n",
      "Requirement already satisfied: certifi>=2017.4.17 in /opt/conda/lib/python3.10/site-packages (from requests) (2023.7.22)\r\n",
      "Requirement already satisfied: cryptography>=3.4.0 in /opt/conda/lib/python3.10/site-packages (from pyjwt[crypto]>=2.4.0->PyGithub) (41.0.3)\r\n",
      "Requirement already satisfied: cffi>=1.4.1 in /opt/conda/lib/python3.10/site-packages (from pynacl>=1.4.0->PyGithub) (1.15.1)\r\n",
      "Requirement already satisfied: wrapt<2,>=1.10 in /opt/conda/lib/python3.10/site-packages (from Deprecated->PyGithub) (1.15.0)\r\n",
      "Requirement already satisfied: six>=1.5 in /opt/conda/lib/python3.10/site-packages (from python-dateutil->PyGithub) (1.16.0)\r\n",
      "Requirement already satisfied: pycparser in /opt/conda/lib/python3.10/site-packages (from cffi>=1.4.1->pynacl>=1.4.0->PyGithub) (2.21)\r\n",
      "Downloading PyGithub-2.1.1-py3-none-any.whl (302 kB)\r\n",
      "\u001b[2K   \u001b[90m━━━━━━━━━━━━━━━━━━━━━━━━━━━━━━━━━━━━━━━━\u001b[0m \u001b[32m302.9/302.9 kB\u001b[0m \u001b[31m22.0 MB/s\u001b[0m eta \u001b[36m0:00:00\u001b[0m\r\n",
      "\u001b[?25hInstalling collected packages: pynacl, PyGithub\r\n",
      "Successfully installed PyGithub-2.1.1 pynacl-1.5.0\r\n"
     ]
    }
   ],
   "source": [
    "! pip install PyGithub requests"
   ]
  },
  {
   "cell_type": "code",
   "execution_count": 3,
   "id": "d10f7d0e",
   "metadata": {
    "_kg_hide-output": true,
    "execution": {
     "iopub.execute_input": "2023-12-03T20:00:11.097375Z",
     "iopub.status.busy": "2023-12-03T20:00:11.096834Z",
     "iopub.status.idle": "2023-12-03T20:02:50.667799Z",
     "shell.execute_reply": "2023-12-03T20:02:50.666294Z"
    },
    "papermill": {
     "duration": 159.592039,
     "end_time": "2023-12-03T20:02:50.670691",
     "exception": false,
     "start_time": "2023-12-03T20:00:11.078652",
     "status": "completed"
    },
    "scrolled": true,
    "tags": []
   },
   "outputs": [
    {
     "name": "stdout",
     "output_type": "stream",
     "text": [
      "run_compile_all_cython: Found 10 Cython files in 4 folders...\r\n",
      "run_compile_all_cython: All files will be compiled using your current python environment: '/opt/conda/bin/python'\r\n",
      "Compiling [1/10]: MatrixFactorizationImpressions_Cython_Epoch.pyx... \r\n",
      "In file included from \u001b[01m\u001b[K/opt/conda/lib/python3.10/site-packages/numpy/core/include/numpy/ndarraytypes.h:1940\u001b[m\u001b[K,\r\n",
      "                 from \u001b[01m\u001b[K/opt/conda/lib/python3.10/site-packages/numpy/core/include/numpy/ndarrayobject.h:12\u001b[m\u001b[K,\r\n",
      "                 from \u001b[01m\u001b[K/opt/conda/lib/python3.10/site-packages/numpy/core/include/numpy/arrayobject.h:5\u001b[m\u001b[K,\r\n",
      "                 from \u001b[01m\u001b[KMatrixFactorizationImpressions_Cython_Epoch.c:1109\u001b[m\u001b[K:\r\n",
      "\u001b[01m\u001b[K/opt/conda/lib/python3.10/site-packages/numpy/core/include/numpy/npy_1_7_deprecated_api.h:17:2:\u001b[m\u001b[K \u001b[01;35m\u001b[Kwarning: \u001b[m\u001b[K#warning \"Using deprecated NumPy API, disable it with \" \"#define NPY_NO_DEPRECATED_API NPY_1_7_API_VERSION\" [\u001b[01;35m\u001b[K-Wcpp\u001b[m\u001b[K]\r\n",
      "   17 | #\u001b[01;35m\u001b[Kwarning\u001b[m\u001b[K \"Using deprecated NumPy API, disable it with \" \\\r\n",
      "      |  \u001b[01;35m\u001b[K^~~~~~~\u001b[m\u001b[K\r\n",
      "\u001b[01m\u001b[KMatrixFactorizationImpressions_Cython_Epoch.c:\u001b[m\u001b[K In function ‘\u001b[01m\u001b[K__pyx_f_43MatrixFactorizationImpressions_Cython_Epoch_32MatrixFactorization_Cython_Epoch_sampleBPR_Cython\u001b[m\u001b[K’:\r\n",
      "\u001b[01m\u001b[KMatrixFactorizationImpressions_Cython_Epoch.c:29664:17:\u001b[m\u001b[K \u001b[01;35m\u001b[Kwarning: \u001b[m\u001b[K‘\u001b[01m\u001b[K__pyx_v_start_pos_impression_items\u001b[m\u001b[K’ may be used uninitialized in this function [\u001b[01;35m\u001b[K-Wmaybe-uninitialized\u001b[m\u001b[K]\r\n",
      "29664 |       \u001b[01;35m\u001b[K__pyx_t_4 = (__pyx_v_start_pos_impression_items + __pyx_v_index)\u001b[m\u001b[K;\r\n",
      "      |       \u001b[01;35m\u001b[K~~~~~~~~~~^~~~~~~~~~~~~~~~~~~~~~~~~~~~~~~~~~~~~~~~~~~~~~~~~~~~~~\u001b[m\u001b[K\r\n",
      "\u001b[01m\u001b[KMatrixFactorizationImpressions_Cython_Epoch.c:\u001b[m\u001b[K In function ‘\u001b[01m\u001b[K__pyx_pf_43MatrixFactorizationImpressions_Cython_Epoch_32MatrixFactorization_Cython_Epoch_10epochIteration_Cython_ASY_SVD_SGD\u001b[m\u001b[K’:\r\n",
      "\u001b[01m\u001b[KMatrixFactorizationImpressions_Cython_Epoch.c:25474:7:\u001b[m\u001b[K \u001b[01;35m\u001b[Kwarning: \u001b[m\u001b[K‘\u001b[01m\u001b[K__pyx_v_end_pos_seen_items\u001b[m\u001b[K’ may be used uninitialized in this function [\u001b[01;35m\u001b[K-Wmaybe-uninitialized\u001b[m\u001b[K]\r\n",
      "25474 |       \u001b[01;35m\u001b[Kfor\u001b[m\u001b[K (__pyx_t_21 = __pyx_v_start_pos_seen_items; __pyx_t_21 < __pyx_t_20; __pyx_t_21+=1) {\r\n",
      "      |       \u001b[01;35m\u001b[K^~~\u001b[m\u001b[K\r\n",
      "\u001b[01m\u001b[KMatrixFactorizationImpressions_Cython_Epoch.c:25474:7:\u001b[m\u001b[K \u001b[01;35m\u001b[Kwarning: \u001b[m\u001b[K‘\u001b[01m\u001b[K__pyx_v_start_pos_seen_items\u001b[m\u001b[K’ may be used uninitialized in this function [\u001b[01;35m\u001b[K-Wmaybe-uninitialized\u001b[m\u001b[K]\r\n",
      "/opt/conda/lib/python3.10/site-packages/Cython/Compiler/Main.py:381: FutureWarning: Cython directive 'language_level' not set, using '3str' for now (Py3). This has changed from earlier releases! File: /kaggle/working/Recsys_Challenge_2023/Recommenders/MatrixFactorization/Cython/MatrixFactorizationImpressions_Cython_Epoch.pyx\r\n",
      "  tree = Parsing.p_module(s, pxd, full_module_name)\r\n",
      "Compiling [1/10]: MatrixFactorizationImpressions_Cython_Epoch.pyx... PASS\r\n",
      "\r\n",
      "Compiling [2/10]: MatrixFactorization_Cython_Epoch.pyx... \r\n",
      "In file included from \u001b[01m\u001b[K/opt/conda/lib/python3.10/site-packages/numpy/core/include/numpy/ndarraytypes.h:1940\u001b[m\u001b[K,\r\n",
      "                 from \u001b[01m\u001b[K/opt/conda/lib/python3.10/site-packages/numpy/core/include/numpy/ndarrayobject.h:12\u001b[m\u001b[K,\r\n",
      "                 from \u001b[01m\u001b[K/opt/conda/lib/python3.10/site-packages/numpy/core/include/numpy/arrayobject.h:5\u001b[m\u001b[K,\r\n",
      "                 from \u001b[01m\u001b[KMatrixFactorization_Cython_Epoch.c:1109\u001b[m\u001b[K:\r\n",
      "\u001b[01m\u001b[K/opt/conda/lib/python3.10/site-packages/numpy/core/include/numpy/npy_1_7_deprecated_api.h:17:2:\u001b[m\u001b[K \u001b[01;35m\u001b[Kwarning: \u001b[m\u001b[K#warning \"Using deprecated NumPy API, disable it with \" \"#define NPY_NO_DEPRECATED_API NPY_1_7_API_VERSION\" [\u001b[01;35m\u001b[K-Wcpp\u001b[m\u001b[K]\r\n",
      "   17 | #\u001b[01;35m\u001b[Kwarning\u001b[m\u001b[K \"Using deprecated NumPy API, disable it with \" \\\r\n",
      "      |  \u001b[01;35m\u001b[K^~~~~~~\u001b[m\u001b[K\r\n",
      "\u001b[01m\u001b[KMatrixFactorization_Cython_Epoch.c:\u001b[m\u001b[K In function ‘\u001b[01m\u001b[K__pyx_pf_32MatrixFactorization_Cython_Epoch_32MatrixFactorization_Cython_Epoch_10epochIteration_Cython_ASY_SVD_SGD\u001b[m\u001b[K’:\r\n",
      "\u001b[01m\u001b[KMatrixFactorization_Cython_Epoch.c:25614:9:\u001b[m\u001b[K \u001b[01;35m\u001b[Kwarning: \u001b[m\u001b[K‘\u001b[01m\u001b[K__pyx_v_end_pos_seen_items\u001b[m\u001b[K’ may be used uninitialized in this function [\u001b[01;35m\u001b[K-Wmaybe-uninitialized\u001b[m\u001b[K]\r\n",
      "25614 |         \u001b[01;35m\u001b[Kfor\u001b[m\u001b[K (__pyx_t_21 = __pyx_v_start_pos_seen_items; __pyx_t_21 < __pyx_t_20; __pyx_t_21+=1) {\r\n",
      "      |         \u001b[01;35m\u001b[K^~~\u001b[m\u001b[K\r\n",
      "\u001b[01m\u001b[KMatrixFactorization_Cython_Epoch.c:25614:9:\u001b[m\u001b[K \u001b[01;35m\u001b[Kwarning: \u001b[m\u001b[K‘\u001b[01m\u001b[K__pyx_v_start_pos_seen_items\u001b[m\u001b[K’ may be used uninitialized in this function [\u001b[01;35m\u001b[K-Wmaybe-uninitialized\u001b[m\u001b[K]\r\n",
      "/opt/conda/lib/python3.10/site-packages/Cython/Compiler/Main.py:381: FutureWarning: Cython directive 'language_level' not set, using '3str' for now (Py3). This has changed from earlier releases! File: /kaggle/working/Recsys_Challenge_2023/Recommenders/MatrixFactorization/Cython/MatrixFactorization_Cython_Epoch.pyx\r\n",
      "  tree = Parsing.p_module(s, pxd, full_module_name)\r\n",
      "Compiling [2/10]: MatrixFactorization_Cython_Epoch.pyx... PASS\r\n",
      "\r\n",
      "Compiling [3/10]: Compute_Similarity_Cython.pyx... \r\n",
      "warning: Compute_Similarity_Cython.pyx:21:0: The 'IF' statement is deprecated and will be removed in a future Cython version. Consider using runtime conditions or C macros instead. See https://github.com/cython/cython/issues/4310\r\n",
      "warning: Compute_Similarity_Cython.pyx:22:4: The 'DEF' statement is deprecated and will be removed in a future Cython version. Consider using global variables, constants, and in-place literals instead. See https://github.com/cython/cython/issues/4310\r\n",
      "warning: Compute_Similarity_Cython.pyx:24:4: The 'DEF' statement is deprecated and will be removed in a future Cython version. Consider using global variables, constants, and in-place literals instead. See https://github.com/cython/cython/issues/4310\r\n",
      "warning: Compute_Similarity_Cython.pyx:26:4: The 'DEF' statement is deprecated and will be removed in a future Cython version. Consider using global variables, constants, and in-place literals instead. See https://github.com/cython/cython/issues/4310\r\n",
      "In file included from \u001b[01m\u001b[K/opt/conda/lib/python3.10/site-packages/numpy/core/include/numpy/ndarraytypes.h:1940\u001b[m\u001b[K,\r\n",
      "                 from \u001b[01m\u001b[K/opt/conda/lib/python3.10/site-packages/numpy/core/include/numpy/ndarrayobject.h:12\u001b[m\u001b[K,\r\n",
      "                 from \u001b[01m\u001b[K/opt/conda/lib/python3.10/site-packages/numpy/core/include/numpy/arrayobject.h:5\u001b[m\u001b[K,\r\n",
      "                 from \u001b[01m\u001b[KCompute_Similarity_Cython.c:1109\u001b[m\u001b[K:\r\n",
      "\u001b[01m\u001b[K/opt/conda/lib/python3.10/site-packages/numpy/core/include/numpy/npy_1_7_deprecated_api.h:17:2:\u001b[m\u001b[K \u001b[01;35m\u001b[Kwarning: \u001b[m\u001b[K#warning \"Using deprecated NumPy API, disable it with \" \"#define NPY_NO_DEPRECATED_API NPY_1_7_API_VERSION\" [\u001b[01;35m\u001b[K-Wcpp\u001b[m\u001b[K]\r\n",
      "   17 | #\u001b[01;35m\u001b[Kwarning\u001b[m\u001b[K \"Using deprecated NumPy API, disable it with \" \\\r\n",
      "      |  \u001b[01;35m\u001b[K^~~~~~~\u001b[m\u001b[K\r\n",
      "/opt/conda/lib/python3.10/site-packages/Cython/Compiler/Main.py:381: FutureWarning: Cython directive 'language_level' not set, using '3str' for now (Py3). This has changed from earlier releases! File: /kaggle/working/Recsys_Challenge_2023/Recommenders/Similarity/Cython/Compute_Similarity_Cython.pyx\r\n",
      "  tree = Parsing.p_module(s, pxd, full_module_name)\r\n",
      "warning: Compute_Similarity_Cython.pyx:21:0: The 'IF' statement is deprecated and will be removed in a future Cython version. Consider using runtime conditions or C macros instead. See https://github.com/cython/cython/issues/4310\r\n",
      "warning: Compute_Similarity_Cython.pyx:22:4: The 'DEF' statement is deprecated and will be removed in a future Cython version. Consider using global variables, constants, and in-place literals instead. See https://github.com/cython/cython/issues/4310\r\n",
      "warning: Compute_Similarity_Cython.pyx:24:4: The 'DEF' statement is deprecated and will be removed in a future Cython version. Consider using global variables, constants, and in-place literals instead. See https://github.com/cython/cython/issues/4310\r\n",
      "warning: Compute_Similarity_Cython.pyx:26:4: The 'DEF' statement is deprecated and will be removed in a future Cython version. Consider using global variables, constants, and in-place literals instead. See https://github.com/cython/cython/issues/4310\r\n",
      "Compiling [3/10]: Compute_Similarity_Cython.pyx... PASS\r\n",
      "\r\n",
      "Compiling [4/10]: SLIM_BPR_Cython_Epoch.pyx... \r\n",
      "warning: SLIM_BPR_Cython_Epoch.pyx:24:0: The 'IF' statement is deprecated and will be removed in a future Cython version. Consider using runtime conditions or C macros instead. See https://github.com/cython/cython/issues/4310\r\n",
      "warning: SLIM_BPR_Cython_Epoch.pyx:25:4: The 'DEF' statement is deprecated and will be removed in a future Cython version. Consider using global variables, constants, and in-place literals instead. See https://github.com/cython/cython/issues/4310\r\n",
      "warning: SLIM_BPR_Cython_Epoch.pyx:27:4: The 'DEF' statement is deprecated and will be removed in a future Cython version. Consider using global variables, constants, and in-place literals instead. See https://github.com/cython/cython/issues/4310\r\n",
      "warning: SLIM_BPR_Cython_Epoch.pyx:29:4: The 'DEF' statement is deprecated and will be removed in a future Cython version. Consider using global variables, constants, and in-place literals instead. See https://github.com/cython/cython/issues/4310\r\n",
      "warning: SLIM_BPR_Cython_Epoch.pyx:632:34: Non-trivial type declarators in shared declaration (e.g. mix of pointers and values). Each pointer declaration should be on its own line.\r\n",
      "warning: SLIM_BPR_Cython_Epoch.pyx:632:66: Non-trivial type declarators in shared declaration (e.g. mix of pointers and values). Each pointer declaration should be on its own line.\r\n",
      "warning: SLIM_BPR_Cython_Epoch.pyx:817:35: Non-trivial type declarators in shared declaration (e.g. mix of pointers and values). Each pointer declaration should be on its own line.\r\n",
      "warning: SLIM_BPR_Cython_Epoch.pyx:817:52: Non-trivial type declarators in shared declaration (e.g. mix of pointers and values). Each pointer declaration should be on its own line.\r\n",
      "warning: SLIM_BPR_Cython_Epoch.pyx:916:35: Non-trivial type declarators in shared declaration (e.g. mix of pointers and values). Each pointer declaration should be on its own line.\r\n",
      "warning: SLIM_BPR_Cython_Epoch.pyx:916:53: Non-trivial type declarators in shared declaration (e.g. mix of pointers and values). Each pointer declaration should be on its own line.\r\n",
      "warning: SLIM_BPR_Cython_Epoch.pyx:916:69: Non-trivial type declarators in shared declaration (e.g. mix of pointers and values). Each pointer declaration should be on its own line.\r\n",
      "warning: SLIM_BPR_Cython_Epoch.pyx:1051:35: Non-trivial type declarators in shared declaration (e.g. mix of pointers and values). Each pointer declaration should be on its own line.\r\n",
      "warning: SLIM_BPR_Cython_Epoch.pyx:1051:42: Non-trivial type declarators in shared declaration (e.g. mix of pointers and values). Each pointer declaration should be on its own line.\r\n",
      "warning: SLIM_BPR_Cython_Epoch.pyx:1052:35: Non-trivial type declarators in shared declaration (e.g. mix of pointers and values). Each pointer declaration should be on its own line.\r\n",
      "warning: SLIM_BPR_Cython_Epoch.pyx:1052:53: Non-trivial type declarators in shared declaration (e.g. mix of pointers and values). Each pointer declaration should be on its own line.\r\n",
      "\r\n",
      "Error compiling Cython file:\r\n",
      "------------------------------------------------------------\r\n",
      "...\r\n",
      "            vector_pointer_to_list_elements[index].head = current_element\r\n",
      "            current_element = current_element.higher\r\n",
      "\r\n",
      "\r\n",
      "        # Sort array elements on their data field\r\n",
      "        qsort(vector_pointer_to_list_elements, list_length, sizeof(head_pointer_tree_s), compare_struct_on_data)\r\n",
      "                                                                                         ^\r\n",
      "------------------------------------------------------------\r\n",
      "\r\n",
      "SLIM_BPR_Cython_Epoch.pyx:990:89: Cannot assign type 'int (const void *, const void *) except? -1' to 'int (*)(const_void *, const_void *) noexcept'\r\n",
      "\r\n",
      "Error compiling Cython file:\r\n",
      "------------------------------------------------------------\r\n",
      "...\r\n",
      "        # Sort array elements on their data field\r\n",
      "        qsort(vector_pointer_to_list_elements, list_length, sizeof(head_pointer_tree_s), compare_struct_on_data)\r\n",
      "\r\n",
      "        # Sort only the TopK according to their column field\r\n",
      "        # Sort is from lower to higher, therefore the elements to be considered are from len-topK to len\r\n",
      "        qsort(&vector_pointer_to_list_elements[list_length-TopK], TopK, sizeof(head_pointer_tree_s), compare_struct_on_column)\r\n",
      "                                                                                                     ^\r\n",
      "------------------------------------------------------------\r\n",
      "\r\n",
      "SLIM_BPR_Cython_Epoch.pyx:994:101: Cannot assign type 'int (const void *, const void *) except? -1' to 'int (*)(const_void *, const_void *) noexcept'\r\n",
      "Traceback (most recent call last):\r\n",
      "  File \"/kaggle/working/Recsys_Challenge_2023/CythonCompiler/compile_script.py\", line 48, in <module>\r\n",
      "    setup(\r\n",
      "  File \"/opt/conda/lib/python3.10/site-packages/setuptools/__init__.py\", line 107, in setup\r\n",
      "    return distutils.core.setup(**attrs)\r\n",
      "  File \"/opt/conda/lib/python3.10/site-packages/setuptools/_distutils/core.py\", line 185, in setup\r\n",
      "    return run_commands(dist)\r\n",
      "  File \"/opt/conda/lib/python3.10/site-packages/setuptools/_distutils/core.py\", line 201, in run_commands\r\n",
      "    dist.run_commands()\r\n",
      "  File \"/opt/conda/lib/python3.10/site-packages/setuptools/_distutils/dist.py\", line 969, in run_commands\r\n",
      "    self.run_command(cmd)\r\n",
      "  File \"/opt/conda/lib/python3.10/site-packages/setuptools/dist.py\", line 1233, in run_command\r\n",
      "    super().run_command(command)\r\n",
      "  File \"/opt/conda/lib/python3.10/site-packages/setuptools/_distutils/dist.py\", line 988, in run_command\r\n",
      "    cmd_obj.run()\r\n",
      "  File \"/opt/conda/lib/python3.10/site-packages/setuptools/_distutils/command/build_ext.py\", line 345, in run\r\n",
      "    self.build_extensions()\r\n",
      "  File \"/opt/conda/lib/python3.10/site-packages/setuptools/_distutils/command/build_ext.py\", line 467, in build_extensions\r\n",
      "    self._build_extensions_serial()\r\n",
      "  File \"/opt/conda/lib/python3.10/site-packages/setuptools/_distutils/command/build_ext.py\", line 493, in _build_extensions_serial\r\n",
      "    self.build_extension(ext)\r\n",
      "  File \"/opt/conda/lib/python3.10/site-packages/Cython/Distutils/build_ext.py\", line 122, in build_extension\r\n",
      "    new_ext = cythonize(\r\n",
      "  File \"/opt/conda/lib/python3.10/site-packages/Cython/Build/Dependencies.py\", line 1134, in cythonize\r\n",
      "    cythonize_one(*args)\r\n",
      "  File \"/opt/conda/lib/python3.10/site-packages/Cython/Build/Dependencies.py\", line 1301, in cythonize_one\r\n",
      "    raise CompileError(None, pyx_file)\r\n",
      "Cython.Compiler.Errors.CompileError: SLIM_BPR_Cython_Epoch.pyx\r\n",
      "Traceback (most recent call last):\r\n",
      "  File \"/kaggle/working/Recsys_Challenge_2023/run_compile_all_cython.py\", line 59, in <module>\r\n",
      "    run_compile_subprocess(file_path, [file_name])\r\n",
      "  File \"/kaggle/working/Recsys_Challenge_2023/CythonCompiler/run_compile_subprocess.py\", line 51, in run_compile_subprocess\r\n",
      "    raise exc\r\n",
      "  File \"/kaggle/working/Recsys_Challenge_2023/CythonCompiler/run_compile_subprocess.py\", line 32, in run_compile_subprocess\r\n",
      "    output = subprocess.check_output(' '.join(command),\r\n",
      "  File \"/opt/conda/lib/python3.10/subprocess.py\", line 421, in check_output\r\n",
      "    return run(*popenargs, stdout=PIPE, timeout=timeout, check=True,\r\n",
      "  File \"/opt/conda/lib/python3.10/subprocess.py\", line 526, in run\r\n",
      "    raise CalledProcessError(retcode, process.args,\r\n",
      "subprocess.CalledProcessError: Command '/opt/conda/bin/python /kaggle/working/Recsys_Challenge_2023/CythonCompiler/compile_script.py SLIM_BPR_Cython_Epoch.pyx build_ext --inplace' returned non-zero exit status 1.\r\n",
      "Compiling [4/10]: SLIM_BPR_Cython_Epoch.pyx... FAIL: Command '/opt/conda/bin/python /kaggle/working/Recsys_Challenge_2023/CythonCompiler/compile_script.py SLIM_BPR_Cython_Epoch.pyx build_ext --inplace' returned non-zero exit status 1.\r\n",
      "\r\n",
      "Compiling [5/10]: Sparse_Matrix_Tree_CSR.pyx... \r\n",
      "warning: Sparse_Matrix_Tree_CSR.pyx:132:34: Non-trivial type declarators in shared declaration (e.g. mix of pointers and values). Each pointer declaration should be on its own line.\r\n",
      "warning: Sparse_Matrix_Tree_CSR.pyx:132:66: Non-trivial type declarators in shared declaration (e.g. mix of pointers and values). Each pointer declaration should be on its own line.\r\n",
      "warning: Sparse_Matrix_Tree_CSR.pyx:343:35: Non-trivial type declarators in shared declaration (e.g. mix of pointers and values). Each pointer declaration should be on its own line.\r\n",
      "warning: Sparse_Matrix_Tree_CSR.pyx:343:52: Non-trivial type declarators in shared declaration (e.g. mix of pointers and values). Each pointer declaration should be on its own line.\r\n",
      "warning: Sparse_Matrix_Tree_CSR.pyx:442:35: Non-trivial type declarators in shared declaration (e.g. mix of pointers and values). Each pointer declaration should be on its own line.\r\n",
      "warning: Sparse_Matrix_Tree_CSR.pyx:442:53: Non-trivial type declarators in shared declaration (e.g. mix of pointers and values). Each pointer declaration should be on its own line.\r\n",
      "warning: Sparse_Matrix_Tree_CSR.pyx:442:69: Non-trivial type declarators in shared declaration (e.g. mix of pointers and values). Each pointer declaration should be on its own line.\r\n",
      "warning: Sparse_Matrix_Tree_CSR.pyx:577:35: Non-trivial type declarators in shared declaration (e.g. mix of pointers and values). Each pointer declaration should be on its own line.\r\n",
      "warning: Sparse_Matrix_Tree_CSR.pyx:577:42: Non-trivial type declarators in shared declaration (e.g. mix of pointers and values). Each pointer declaration should be on its own line.\r\n",
      "warning: Sparse_Matrix_Tree_CSR.pyx:578:35: Non-trivial type declarators in shared declaration (e.g. mix of pointers and values). Each pointer declaration should be on its own line.\r\n",
      "warning: Sparse_Matrix_Tree_CSR.pyx:578:53: Non-trivial type declarators in shared declaration (e.g. mix of pointers and values). Each pointer declaration should be on its own line.\r\n",
      "\r\n",
      "Error compiling Cython file:\r\n",
      "------------------------------------------------------------\r\n",
      "...\r\n",
      "            vector_pointer_to_list_elements[index].head = current_element\r\n",
      "            current_element = current_element.higher\r\n",
      "\r\n",
      "\r\n",
      "        # Sort array elements on their data field\r\n",
      "        qsort(vector_pointer_to_list_elements, list_length, sizeof(head_pointer_tree_s), compare_struct_on_data)\r\n",
      "                                                                                         ^\r\n",
      "------------------------------------------------------------\r\n",
      "\r\n",
      "Sparse_Matrix_Tree_CSR.pyx:516:89: Cannot assign type 'int (const void *, const void *) except? -1' to 'int (*)(const_void *, const_void *) noexcept'\r\n",
      "\r\n",
      "Error compiling Cython file:\r\n",
      "------------------------------------------------------------\r\n",
      "...\r\n",
      "        # Sort array elements on their data field\r\n",
      "        qsort(vector_pointer_to_list_elements, list_length, sizeof(head_pointer_tree_s), compare_struct_on_data)\r\n",
      "\r\n",
      "        # Sort only the TopK according to their column field\r\n",
      "        # Sort is from lower to higher, therefore the elements to be considered are from len-topK to len\r\n",
      "        qsort(&vector_pointer_to_list_elements[list_length-TopK], TopK, sizeof(head_pointer_tree_s), compare_struct_on_column)\r\n",
      "                                                                                                     ^\r\n",
      "------------------------------------------------------------\r\n",
      "\r\n",
      "Sparse_Matrix_Tree_CSR.pyx:520:101: Cannot assign type 'int (const void *, const void *) except? -1' to 'int (*)(const_void *, const_void *) noexcept'\r\n",
      "Traceback (most recent call last):\r\n",
      "  File \"/kaggle/working/Recsys_Challenge_2023/CythonCompiler/compile_script.py\", line 48, in <module>\r\n",
      "    setup(\r\n",
      "  File \"/opt/conda/lib/python3.10/site-packages/setuptools/__init__.py\", line 107, in setup\r\n",
      "    return distutils.core.setup(**attrs)\r\n",
      "  File \"/opt/conda/lib/python3.10/site-packages/setuptools/_distutils/core.py\", line 185, in setup\r\n",
      "    return run_commands(dist)\r\n",
      "  File \"/opt/conda/lib/python3.10/site-packages/setuptools/_distutils/core.py\", line 201, in run_commands\r\n",
      "    dist.run_commands()\r\n",
      "  File \"/opt/conda/lib/python3.10/site-packages/setuptools/_distutils/dist.py\", line 969, in run_commands\r\n",
      "    self.run_command(cmd)\r\n",
      "  File \"/opt/conda/lib/python3.10/site-packages/setuptools/dist.py\", line 1233, in run_command\r\n",
      "    super().run_command(command)\r\n",
      "  File \"/opt/conda/lib/python3.10/site-packages/setuptools/_distutils/dist.py\", line 988, in run_command\r\n",
      "    cmd_obj.run()\r\n",
      "  File \"/opt/conda/lib/python3.10/site-packages/setuptools/_distutils/command/build_ext.py\", line 345, in run\r\n",
      "    self.build_extensions()\r\n",
      "  File \"/opt/conda/lib/python3.10/site-packages/setuptools/_distutils/command/build_ext.py\", line 467, in build_extensions\r\n",
      "    self._build_extensions_serial()\r\n",
      "  File \"/opt/conda/lib/python3.10/site-packages/setuptools/_distutils/command/build_ext.py\", line 493, in _build_extensions_serial\r\n",
      "    self.build_extension(ext)\r\n",
      "  File \"/opt/conda/lib/python3.10/site-packages/Cython/Distutils/build_ext.py\", line 122, in build_extension\r\n",
      "    new_ext = cythonize(\r\n",
      "  File \"/opt/conda/lib/python3.10/site-packages/Cython/Build/Dependencies.py\", line 1134, in cythonize\r\n",
      "    cythonize_one(*args)\r\n",
      "  File \"/opt/conda/lib/python3.10/site-packages/Cython/Build/Dependencies.py\", line 1301, in cythonize_one\r\n",
      "    raise CompileError(None, pyx_file)\r\n",
      "Cython.Compiler.Errors.CompileError: Sparse_Matrix_Tree_CSR.pyx\r\n",
      "Traceback (most recent call last):\r\n",
      "  File \"/kaggle/working/Recsys_Challenge_2023/run_compile_all_cython.py\", line 59, in <module>\r\n",
      "    run_compile_subprocess(file_path, [file_name])\r\n",
      "  File \"/kaggle/working/Recsys_Challenge_2023/CythonCompiler/run_compile_subprocess.py\", line 51, in run_compile_subprocess\r\n",
      "    raise exc\r\n",
      "  File \"/kaggle/working/Recsys_Challenge_2023/CythonCompiler/run_compile_subprocess.py\", line 32, in run_compile_subprocess\r\n",
      "    output = subprocess.check_output(' '.join(command),\r\n",
      "  File \"/opt/conda/lib/python3.10/subprocess.py\", line 421, in check_output\r\n",
      "    return run(*popenargs, stdout=PIPE, timeout=timeout, check=True,\r\n",
      "  File \"/opt/conda/lib/python3.10/subprocess.py\", line 526, in run\r\n",
      "    raise CalledProcessError(retcode, process.args,\r\n",
      "subprocess.CalledProcessError: Command '/opt/conda/bin/python /kaggle/working/Recsys_Challenge_2023/CythonCompiler/compile_script.py Sparse_Matrix_Tree_CSR.pyx build_ext --inplace' returned non-zero exit status 1.\r\n",
      "Compiling [5/10]: Sparse_Matrix_Tree_CSR.pyx... FAIL: Command '/opt/conda/bin/python /kaggle/working/Recsys_Challenge_2023/CythonCompiler/compile_script.py Sparse_Matrix_Tree_CSR.pyx build_ext --inplace' returned non-zero exit status 1.\r\n",
      "\r\n",
      "Compiling [6/10]: Triangular_Matrix.pyx... \r\n",
      "warning: Triangular_Matrix.pyx:22:0: The 'IF' statement is deprecated and will be removed in a future Cython version. Consider using runtime conditions or C macros instead. See https://github.com/cython/cython/issues/4310\r\n",
      "warning: Triangular_Matrix.pyx:23:4: The 'DEF' statement is deprecated and will be removed in a future Cython version. Consider using global variables, constants, and in-place literals instead. See https://github.com/cython/cython/issues/4310\r\n",
      "warning: Triangular_Matrix.pyx:25:4: The 'DEF' statement is deprecated and will be removed in a future Cython version. Consider using global variables, constants, and in-place literals instead. See https://github.com/cython/cython/issues/4310\r\n",
      "warning: Triangular_Matrix.pyx:27:4: The 'DEF' statement is deprecated and will be removed in a future Cython version. Consider using global variables, constants, and in-place literals instead. See https://github.com/cython/cython/issues/4310\r\n",
      "In file included from \u001b[01m\u001b[K/opt/conda/lib/python3.10/site-packages/numpy/core/include/numpy/ndarraytypes.h:1940\u001b[m\u001b[K,\r\n",
      "                 from \u001b[01m\u001b[K/opt/conda/lib/python3.10/site-packages/numpy/core/include/numpy/ndarrayobject.h:12\u001b[m\u001b[K,\r\n",
      "                 from \u001b[01m\u001b[K/opt/conda/lib/python3.10/site-packages/numpy/core/include/numpy/arrayobject.h:5\u001b[m\u001b[K,\r\n",
      "                 from \u001b[01m\u001b[KTriangular_Matrix.c:1109\u001b[m\u001b[K:\r\n",
      "\u001b[01m\u001b[K/opt/conda/lib/python3.10/site-packages/numpy/core/include/numpy/npy_1_7_deprecated_api.h:17:2:\u001b[m\u001b[K \u001b[01;35m\u001b[Kwarning: \u001b[m\u001b[K#warning \"Using deprecated NumPy API, disable it with \" \"#define NPY_NO_DEPRECATED_API NPY_1_7_API_VERSION\" [\u001b[01;35m\u001b[K-Wcpp\u001b[m\u001b[K]\r\n",
      "   17 | #\u001b[01;35m\u001b[Kwarning\u001b[m\u001b[K \"Using deprecated NumPy API, disable it with \" \\\r\n",
      "      |  \u001b[01;35m\u001b[K^~~~~~~\u001b[m\u001b[K\r\n",
      "/opt/conda/lib/python3.10/site-packages/Cython/Compiler/Main.py:381: FutureWarning: Cython directive 'language_level' not set, using '3str' for now (Py3). This has changed from earlier releases! File: /kaggle/working/Recsys_Challenge_2023/Recommenders/SLIM/Cython/Triangular_Matrix.pyx\r\n",
      "  tree = Parsing.p_module(s, pxd, full_module_name)\r\n",
      "warning: Triangular_Matrix.pyx:22:0: The 'IF' statement is deprecated and will be removed in a future Cython version. Consider using runtime conditions or C macros instead. See https://github.com/cython/cython/issues/4310\r\n",
      "warning: Triangular_Matrix.pyx:23:4: The 'DEF' statement is deprecated and will be removed in a future Cython version. Consider using global variables, constants, and in-place literals instead. See https://github.com/cython/cython/issues/4310\r\n",
      "warning: Triangular_Matrix.pyx:25:4: The 'DEF' statement is deprecated and will be removed in a future Cython version. Consider using global variables, constants, and in-place literals instead. See https://github.com/cython/cython/issues/4310\r\n",
      "warning: Triangular_Matrix.pyx:27:4: The 'DEF' statement is deprecated and will be removed in a future Cython version. Consider using global variables, constants, and in-place literals instead. See https://github.com/cython/cython/issues/4310\r\n",
      "Compiling [6/10]: Triangular_Matrix.pyx... PASS\r\n",
      "\r\n",
      "Compiling [7/10]: FBSM_Rating_Cython_SGD.pyx... \r\n",
      "In file included from \u001b[01m\u001b[K/opt/conda/lib/python3.10/site-packages/numpy/core/include/numpy/ndarraytypes.h:1940\u001b[m\u001b[K,\r\n",
      "                 from \u001b[01m\u001b[K/opt/conda/lib/python3.10/site-packages/numpy/core/include/numpy/ndarrayobject.h:12\u001b[m\u001b[K,\r\n",
      "                 from \u001b[01m\u001b[K/opt/conda/lib/python3.10/site-packages/numpy/core/include/numpy/arrayobject.h:5\u001b[m\u001b[K,\r\n",
      "                 from \u001b[01m\u001b[KFBSM_Rating_Cython_SGD.c:1109\u001b[m\u001b[K:\r\n",
      "\u001b[01m\u001b[K/opt/conda/lib/python3.10/site-packages/numpy/core/include/numpy/npy_1_7_deprecated_api.h:17:2:\u001b[m\u001b[K \u001b[01;35m\u001b[Kwarning: \u001b[m\u001b[K#warning \"Using deprecated NumPy API, disable it with \" \"#define NPY_NO_DEPRECATED_API NPY_1_7_API_VERSION\" [\u001b[01;35m\u001b[K-Wcpp\u001b[m\u001b[K]\r\n",
      "   17 | #\u001b[01;35m\u001b[Kwarning\u001b[m\u001b[K \"Using deprecated NumPy API, disable it with \" \\\r\n",
      "      |  \u001b[01;35m\u001b[K^~~~~~~\u001b[m\u001b[K\r\n",
      "\u001b[01m\u001b[KFBSM_Rating_Cython_SGD.c:\u001b[m\u001b[K In function ‘\u001b[01m\u001b[K__pyx_pf_22FBSM_Rating_Cython_SGD_22FBSM_Rating_Cython_SGD_2fit\u001b[m\u001b[K’:\r\n",
      "\u001b[01m\u001b[KFBSM_Rating_Cython_SGD.c:26038:55:\u001b[m\u001b[K \u001b[01;35m\u001b[Kwarning: \u001b[m\u001b[K‘\u001b[01m\u001b[K__pyx_v_num_sample\u001b[m\u001b[K’ may be used uninitialized in this function [\u001b[01;35m\u001b[K-Wmaybe-uninitialized\u001b[m\u001b[K]\r\n",
      "26038 |   __pyx_t_5 = PyFloat_FromDouble((__pyx_v_cum_loss / \u001b[01;35m\u001b[K((double)__pyx_v_num_sample)\u001b[m\u001b[K)); if (unlikely(!__pyx_t_5)) __PYX_ERR(0, 551, __pyx_L1_error)\r\n",
      "      |                                                      \u001b[01;35m\u001b[K~^~~~~~~~~~~~~~~~~~~~~~~~~~~\u001b[m\u001b[K\r\n",
      "/opt/conda/lib/python3.10/site-packages/Cython/Compiler/Main.py:381: FutureWarning: Cython directive 'language_level' not set, using '3str' for now (Py3). This has changed from earlier releases! File: /kaggle/working/Recsys_Challenge_2023/Recommenders/FeatureWeighting/Cython/FBSM_Rating_Cython_SGD.pyx\r\n",
      "  tree = Parsing.p_module(s, pxd, full_module_name)\r\n",
      "Compiling [7/10]: FBSM_Rating_Cython_SGD.pyx... PASS\r\n",
      "\r\n",
      "Compiling [8/10]: CFW_D_Similarity_Cython_SGD.pyx... \r\n",
      "In file included from \u001b[01m\u001b[K/opt/conda/lib/python3.10/site-packages/numpy/core/include/numpy/ndarraytypes.h:1940\u001b[m\u001b[K,\r\n",
      "                 from \u001b[01m\u001b[K/opt/conda/lib/python3.10/site-packages/numpy/core/include/numpy/ndarrayobject.h:12\u001b[m\u001b[K,\r\n",
      "                 from \u001b[01m\u001b[K/opt/conda/lib/python3.10/site-packages/numpy/core/include/numpy/arrayobject.h:5\u001b[m\u001b[K,\r\n",
      "                 from \u001b[01m\u001b[KCFW_D_Similarity_Cython_SGD.c:1109\u001b[m\u001b[K:\r\n",
      "\u001b[01m\u001b[K/opt/conda/lib/python3.10/site-packages/numpy/core/include/numpy/npy_1_7_deprecated_api.h:17:2:\u001b[m\u001b[K \u001b[01;35m\u001b[Kwarning: \u001b[m\u001b[K#warning \"Using deprecated NumPy API, disable it with \" \"#define NPY_NO_DEPRECATED_API NPY_1_7_API_VERSION\" [\u001b[01;35m\u001b[K-Wcpp\u001b[m\u001b[K]\r\n",
      "   17 | #\u001b[01;35m\u001b[Kwarning\u001b[m\u001b[K \"Using deprecated NumPy API, disable it with \" \\\r\n",
      "      |  \u001b[01;35m\u001b[K^~~~~~~\u001b[m\u001b[K\r\n",
      "\u001b[01m\u001b[KCFW_D_Similarity_Cython_SGD.c:\u001b[m\u001b[K In function ‘\u001b[01m\u001b[K__pyx_pf_27CFW_D_Similarity_Cython_SGD_27CFW_D_Similarity_Cython_SGD_6fit\u001b[m\u001b[K’:\r\n",
      "\u001b[01m\u001b[KCFW_D_Similarity_Cython_SGD.c:22766:55:\u001b[m\u001b[K \u001b[01;35m\u001b[Kwarning: \u001b[m\u001b[K‘\u001b[01m\u001b[K__pyx_v_sample_num\u001b[m\u001b[K’ may be used uninitialized in this function [\u001b[01;35m\u001b[K-Wmaybe-uninitialized\u001b[m\u001b[K]\r\n",
      "22766 |   __pyx_t_3 = PyFloat_FromDouble((__pyx_v_cum_loss / \u001b[01;35m\u001b[K((double)__pyx_v_sample_num)\u001b[m\u001b[K)); if (unlikely(!__pyx_t_3)) __PYX_ERR(0, 290, __pyx_L1_error)\r\n",
      "      |                                                      \u001b[01;35m\u001b[K~^~~~~~~~~~~~~~~~~~~~~~~~~~~\u001b[m\u001b[K\r\n",
      "/opt/conda/lib/python3.10/site-packages/Cython/Compiler/Main.py:381: FutureWarning: Cython directive 'language_level' not set, using '3str' for now (Py3). This has changed from earlier releases! File: /kaggle/working/Recsys_Challenge_2023/Recommenders/FeatureWeighting/Cython/CFW_D_Similarity_Cython_SGD.pyx\r\n",
      "  tree = Parsing.p_module(s, pxd, full_module_name)\r\n",
      "Compiling [8/10]: CFW_D_Similarity_Cython_SGD.pyx... PASS\r\n",
      "\r\n",
      "Compiling [9/10]: CFW_DVV_Similarity_Cython_SGD.pyx... \r\n",
      "In file included from \u001b[01m\u001b[K/opt/conda/lib/python3.10/site-packages/numpy/core/include/numpy/ndarraytypes.h:1940\u001b[m\u001b[K,\r\n",
      "                 from \u001b[01m\u001b[K/opt/conda/lib/python3.10/site-packages/numpy/core/include/numpy/ndarrayobject.h:12\u001b[m\u001b[K,\r\n",
      "                 from \u001b[01m\u001b[K/opt/conda/lib/python3.10/site-packages/numpy/core/include/numpy/arrayobject.h:5\u001b[m\u001b[K,\r\n",
      "                 from \u001b[01m\u001b[KCFW_DVV_Similarity_Cython_SGD.c:1109\u001b[m\u001b[K:\r\n",
      "\u001b[01m\u001b[K/opt/conda/lib/python3.10/site-packages/numpy/core/include/numpy/npy_1_7_deprecated_api.h:17:2:\u001b[m\u001b[K \u001b[01;35m\u001b[Kwarning: \u001b[m\u001b[K#warning \"Using deprecated NumPy API, disable it with \" \"#define NPY_NO_DEPRECATED_API NPY_1_7_API_VERSION\" [\u001b[01;35m\u001b[K-Wcpp\u001b[m\u001b[K]\r\n",
      "   17 | #\u001b[01;35m\u001b[Kwarning\u001b[m\u001b[K \"Using deprecated NumPy API, disable it with \" \\\r\n",
      "      |  \u001b[01;35m\u001b[K^~~~~~~\u001b[m\u001b[K\r\n",
      "/opt/conda/lib/python3.10/site-packages/Cython/Compiler/Main.py:381: FutureWarning: Cython directive 'language_level' not set, using '3str' for now (Py3). This has changed from earlier releases! File: /kaggle/working/Recsys_Challenge_2023/Recommenders/FeatureWeighting/Cython/CFW_DVV_Similarity_Cython_SGD.pyx\r\n",
      "  tree = Parsing.p_module(s, pxd, full_module_name)\r\n",
      "Compiling [9/10]: CFW_DVV_Similarity_Cython_SGD.pyx... PASS\r\n",
      "\r\n",
      "Compiling [10/10]: HP3_Similarity_Cython_SGD.pyx... \r\n",
      "warning: HP3_Similarity_Cython_SGD.pyx:113:40: Index should be typed for more efficient access\r\n",
      "In file included from \u001b[01m\u001b[K/opt/conda/lib/python3.10/site-packages/numpy/core/include/numpy/ndarraytypes.h:1940\u001b[m\u001b[K,\r\n",
      "                 from \u001b[01m\u001b[K/opt/conda/lib/python3.10/site-packages/numpy/core/include/numpy/ndarrayobject.h:12\u001b[m\u001b[K,\r\n",
      "                 from \u001b[01m\u001b[K/opt/conda/lib/python3.10/site-packages/numpy/core/include/numpy/arrayobject.h:5\u001b[m\u001b[K,\r\n",
      "                 from \u001b[01m\u001b[KHP3_Similarity_Cython_SGD.c:1109\u001b[m\u001b[K:\r\n",
      "\u001b[01m\u001b[K/opt/conda/lib/python3.10/site-packages/numpy/core/include/numpy/npy_1_7_deprecated_api.h:17:2:\u001b[m\u001b[K \u001b[01;35m\u001b[Kwarning: \u001b[m\u001b[K#warning \"Using deprecated NumPy API, disable it with \" \"#define NPY_NO_DEPRECATED_API NPY_1_7_API_VERSION\" [\u001b[01;35m\u001b[K-Wcpp\u001b[m\u001b[K]\r\n",
      "   17 | #\u001b[01;35m\u001b[Kwarning\u001b[m\u001b[K \"Using deprecated NumPy API, disable it with \" \\\r\n",
      "      |  \u001b[01;35m\u001b[K^~~~~~~\u001b[m\u001b[K\r\n",
      "\u001b[01m\u001b[KHP3_Similarity_Cython_SGD.c:\u001b[m\u001b[K In function ‘\u001b[01m\u001b[K__pyx_pf_25HP3_Similarity_Cython_SGD_25HP3_Similarity_Cython_SGD_4fit\u001b[m\u001b[K’:\r\n",
      "\u001b[01m\u001b[KHP3_Similarity_Cython_SGD.c:23035:55:\u001b[m\u001b[K \u001b[01;35m\u001b[Kwarning: \u001b[m\u001b[K‘\u001b[01m\u001b[K__pyx_v_sample_num\u001b[m\u001b[K’ may be used uninitialized in this function [\u001b[01;35m\u001b[K-Wmaybe-uninitialized\u001b[m\u001b[K]\r\n",
      "23035 |   __pyx_t_1 = PyFloat_FromDouble((__pyx_v_cum_loss / \u001b[01;35m\u001b[K((double)__pyx_v_sample_num)\u001b[m\u001b[K)); if (unlikely(!__pyx_t_1)) __PYX_ERR(0, 291, __pyx_L1_error)\r\n",
      "      |                                                      \u001b[01;35m\u001b[K~^~~~~~~~~~~~~~~~~~~~~~~~~~~\u001b[m\u001b[K\r\n",
      "/opt/conda/lib/python3.10/site-packages/Cython/Compiler/Main.py:381: FutureWarning: Cython directive 'language_level' not set, using '3str' for now (Py3). This has changed from earlier releases! File: /kaggle/working/Recsys_Challenge_2023/Recommenders/FeatureWeighting/Cython/HP3_Similarity_Cython_SGD.pyx\r\n",
      "  tree = Parsing.p_module(s, pxd, full_module_name)\r\n",
      "warning: HP3_Similarity_Cython_SGD.pyx:113:40: Index should be typed for more efficient access\r\n",
      "Compiling [10/10]: HP3_Similarity_Cython_SGD.pyx... PASS\r\n",
      "\r\n",
      "run_compile_all_cython: Compilation finished. FAILS 2/10.\r\n",
      "Compilation log can be found here: './result_experiments/run_compile_all_cython.txt'\r\n"
     ]
    }
   ],
   "source": [
    "! cd /kaggle/working/Recsys_Challenge_2023 && python run_compile_all_cython.py"
   ]
  },
  {
   "cell_type": "code",
   "execution_count": 4,
   "id": "4a1c5d59",
   "metadata": {
    "execution": {
     "iopub.execute_input": "2023-12-03T20:02:50.716694Z",
     "iopub.status.busy": "2023-12-03T20:02:50.715417Z",
     "iopub.status.idle": "2023-12-03T20:02:54.349095Z",
     "shell.execute_reply": "2023-12-03T20:02:54.347901Z"
    },
    "papermill": {
     "duration": 3.660079,
     "end_time": "2023-12-03T20:02:54.352157",
     "exception": false,
     "start_time": "2023-12-03T20:02:50.692078",
     "status": "completed"
    },
    "tags": []
   },
   "outputs": [
    {
     "name": "stdout",
     "output_type": "stream",
     "text": [
      "/kaggle/input/recommender-system-2023-challenge-polimi/data_train.csv\n",
      "/kaggle/input/recommender-system-2023-challenge-polimi/data_target_users_test.csv\n",
      "/kaggle/input/training-tuned-models/slim_bpr_xgboost_train_validation.zip\n",
      "/kaggle/input/training-tuned-models/__results__.html\n",
      "/kaggle/input/training-tuned-models/slim_bpr_all.zip\n",
      "/kaggle/input/training-tuned-models/__notebook__.ipynb\n",
      "/kaggle/input/training-tuned-models/ials_xgboost_train_validation.zip\n",
      "/kaggle/input/training-tuned-models/ials_train_validation.zip\n",
      "/kaggle/input/training-tuned-models/__output__.json\n",
      "/kaggle/input/training-tuned-models/slim_bpr_train_validation.zip\n",
      "/kaggle/input/training-tuned-models/ials_all.zip\n",
      "/kaggle/input/training-tuned-models/custom.css\n",
      "/kaggle/input/training-tuned-models/Recsys_Challenge_2023/run_all_algorithms.py\n",
      "/kaggle/input/training-tuned-models/Recsys_Challenge_2023/cython_example_FunkSVD.py\n",
      "/kaggle/input/training-tuned-models/Recsys_Challenge_2023/LICENSE\n",
      "/kaggle/input/training-tuned-models/Recsys_Challenge_2023/.gitignore\n",
      "/kaggle/input/training-tuned-models/Recsys_Challenge_2023/rp3-tuning.ipynb\n",
      "/kaggle/input/training-tuned-models/Recsys_Challenge_2023/README.md\n",
      "/kaggle/input/training-tuned-models/Recsys_Challenge_2023/run_hyperparameter_search.py\n",
      "/kaggle/input/training-tuned-models/Recsys_Challenge_2023/cython_example_SLIM_MSE.py\n",
      "/kaggle/input/training-tuned-models/Recsys_Challenge_2023/requirements.txt\n",
      "/kaggle/input/training-tuned-models/Recsys_Challenge_2023/run_test_recommenders.py\n",
      "/kaggle/input/training-tuned-models/Recsys_Challenge_2023/run_compile_all_cython.py\n",
      "/kaggle/input/training-tuned-models/Recsys_Challenge_2023/matrix-factorization.ipynb\n",
      "/kaggle/input/training-tuned-models/Recsys_Challenge_2023/hybrid.ipynb\n",
      "/kaggle/input/training-tuned-models/Recsys_Challenge_2023/Data_manager/DataSplitter_Holdout.py\n",
      "/kaggle/input/training-tuned-models/Recsys_Challenge_2023/Data_manager/DataSplitter.py\n",
      "/kaggle/input/training-tuned-models/Recsys_Challenge_2023/Data_manager/DatasetMapperManager.py\n",
      "/kaggle/input/training-tuned-models/Recsys_Challenge_2023/Data_manager/data_consistency_check.py\n",
      "/kaggle/input/training-tuned-models/Recsys_Challenge_2023/Data_manager/README.md\n",
      "/kaggle/input/training-tuned-models/Recsys_Challenge_2023/Data_manager/TagPreprocessing.py\n",
      "/kaggle/input/training-tuned-models/Recsys_Challenge_2023/Data_manager/DataReader.py\n",
      "/kaggle/input/training-tuned-models/Recsys_Challenge_2023/Data_manager/DataReader_utils.py\n",
      "/kaggle/input/training-tuned-models/Recsys_Challenge_2023/Data_manager/IncrementalSparseMatrix.py\n",
      "/kaggle/input/training-tuned-models/Recsys_Challenge_2023/Data_manager/run_clean_split_data_files.py\n",
      "/kaggle/input/training-tuned-models/Recsys_Challenge_2023/Data_manager/Dataset.py\n",
      "/kaggle/input/training-tuned-models/Recsys_Challenge_2023/Data_manager/DataSplitter_leave_k_out.py\n",
      "/kaggle/input/training-tuned-models/Recsys_Challenge_2023/Data_manager/CrossValidationSplitter.py\n",
      "/kaggle/input/training-tuned-models/Recsys_Challenge_2023/Data_manager/__init__.py\n",
      "/kaggle/input/training-tuned-models/Recsys_Challenge_2023/Data_manager/__pycache__/data_consistency_check.cpython-310.pyc\n",
      "/kaggle/input/training-tuned-models/Recsys_Challenge_2023/Data_manager/__pycache__/DatasetMapperManager.cpython-310.pyc\n",
      "/kaggle/input/training-tuned-models/Recsys_Challenge_2023/Data_manager/__pycache__/IncrementalSparseMatrix.cpython-310.pyc\n",
      "/kaggle/input/training-tuned-models/Recsys_Challenge_2023/Data_manager/__pycache__/DataReader.cpython-310.pyc\n",
      "/kaggle/input/training-tuned-models/Recsys_Challenge_2023/Data_manager/__pycache__/DataReader_utils.cpython-310.pyc\n",
      "/kaggle/input/training-tuned-models/Recsys_Challenge_2023/Data_manager/__pycache__/__init__.cpython-310.pyc\n",
      "/kaggle/input/training-tuned-models/Recsys_Challenge_2023/Data_manager/__pycache__/Dataset.cpython-310.pyc\n",
      "/kaggle/input/training-tuned-models/Recsys_Challenge_2023/Data_manager/split_functions/split_train_validation_leave_k_out.py\n",
      "/kaggle/input/training-tuned-models/Recsys_Challenge_2023/Data_manager/split_functions/split_train_validation_cold_items.py\n",
      "/kaggle/input/training-tuned-models/Recsys_Challenge_2023/Data_manager/split_functions/split_train_validation_random_holdout.py\n",
      "/kaggle/input/training-tuned-models/Recsys_Challenge_2023/Data_manager/split_functions/__pycache__/split_train_validation_random_holdout.cpython-310.pyc\n",
      "/kaggle/input/training-tuned-models/Recsys_Challenge_2023/Data_manager/Movielens/Movielens10MReader.py\n",
      "/kaggle/input/training-tuned-models/Recsys_Challenge_2023/Data_manager/Movielens/Movielens1MReader.py\n",
      "/kaggle/input/training-tuned-models/Recsys_Challenge_2023/Data_manager/Movielens/Movielens100KReader.py\n",
      "/kaggle/input/training-tuned-models/Recsys_Challenge_2023/Data_manager/Movielens/MovielensHetrec2011Reader.py\n",
      "/kaggle/input/training-tuned-models/Recsys_Challenge_2023/Data_manager/Movielens/_utils_movielens_parser.py\n",
      "/kaggle/input/training-tuned-models/Recsys_Challenge_2023/Data_manager/Movielens/Movielens20MReader.py\n",
      "/kaggle/input/training-tuned-models/Recsys_Challenge_2023/Data_manager/Movielens/__pycache__/Movielens10MReader.cpython-310.pyc\n",
      "/kaggle/input/training-tuned-models/Recsys_Challenge_2023/Data_manager/Movielens/__pycache__/Movielens1MReader.cpython-310.pyc\n",
      "/kaggle/input/training-tuned-models/Recsys_Challenge_2023/Data_manager/Movielens/__pycache__/_utils_movielens_parser.cpython-310.pyc\n",
      "/kaggle/input/training-tuned-models/Recsys_Challenge_2023/Data_manager/Movielens/__pycache__/Movielens20MReader.cpython-310.pyc\n",
      "/kaggle/input/training-tuned-models/Recsys_Challenge_2023/Data_manager/Movielens/__pycache__/Movielens100KReader.cpython-310.pyc\n",
      "/kaggle/input/training-tuned-models/Recsys_Challenge_2023/Data_manager/Movielens/__pycache__/MovielensHetrec2011Reader.cpython-310.pyc\n",
      "/kaggle/input/training-tuned-models/Recsys_Challenge_2023/Utils/seconds_to_biggest_unit.py\n",
      "/kaggle/input/training-tuned-models/Recsys_Challenge_2023/Utils/PyTorch/utils.py\n",
      "/kaggle/input/training-tuned-models/Recsys_Challenge_2023/Utils/PyTorch/DataSampler.py\n",
      "/kaggle/input/training-tuned-models/Recsys_Challenge_2023/Utils/PyTorch/DataIterator.py\n",
      "/kaggle/input/training-tuned-models/Recsys_Challenge_2023/Utils/PyTorch/Cython/DataIterator.pyx\n",
      "/kaggle/input/training-tuned-models/Recsys_Challenge_2023/Utils/__pycache__/seconds_to_biggest_unit.cpython-310.pyc\n",
      "/kaggle/input/training-tuned-models/Recsys_Challenge_2023/Notebooks_utils/Cosine_Similarity_Cython_SLOW.cpython-36m-x86_64-linux-gnu.so\n",
      "/kaggle/input/training-tuned-models/Recsys_Challenge_2023/Notebooks_utils/Cosine_Similarity_Cython_SLOW.c\n",
      "/kaggle/input/training-tuned-models/Recsys_Challenge_2023/Notebooks_utils/compileCython.py\n",
      "/kaggle/input/training-tuned-models/Recsys_Challenge_2023/Notebooks_utils/Cosine_Similarity_Cython.pyx\n",
      "/kaggle/input/training-tuned-models/Recsys_Challenge_2023/Notebooks_utils/Cosine_Similarity_Cython.html\n",
      "/kaggle/input/training-tuned-models/Recsys_Challenge_2023/Notebooks_utils/Compute_Similarity_Python.py\n",
      "/kaggle/input/training-tuned-models/Recsys_Challenge_2023/Notebooks_utils/Cosine_Similarity_Cython.c\n",
      "/kaggle/input/training-tuned-models/Recsys_Challenge_2023/Notebooks_utils/Cosine_Similarity_Cython.cpython-36m-x86_64-linux-gnu.so\n",
      "/kaggle/input/training-tuned-models/Recsys_Challenge_2023/Notebooks_utils/Cosine_Similarity_Cython_SLOW.pyx\n",
      "/kaggle/input/training-tuned-models/Recsys_Challenge_2023/Notebooks_utils/Cosine_Similarity_Cython_SLOW.html\n",
      "/kaggle/input/training-tuned-models/Recsys_Challenge_2023/CythonCompiler/compile_script.py\n",
      "/kaggle/input/training-tuned-models/Recsys_Challenge_2023/CythonCompiler/run_compile_subprocess.py\n",
      "/kaggle/input/training-tuned-models/Recsys_Challenge_2023/CythonCompiler/__pycache__/run_compile_subprocess.cpython-310.pyc\n",
      "/kaggle/input/training-tuned-models/Recsys_Challenge_2023/Recommenders/IR_feature_weighting.py\n",
      "/kaggle/input/training-tuned-models/Recsys_Challenge_2023/Recommenders/Incremental_Training_Early_Stopping.py\n",
      "/kaggle/input/training-tuned-models/Recsys_Challenge_2023/Recommenders/BaseMatrixFactorizationRecommender.py\n",
      "/kaggle/input/training-tuned-models/Recsys_Challenge_2023/Recommenders/BaseRecommender.py\n",
      "/kaggle/input/training-tuned-models/Recsys_Challenge_2023/Recommenders/BaseCBFRecommender.py\n",
      "/kaggle/input/training-tuned-models/Recsys_Challenge_2023/Recommenders/Recommender_import_list.py\n",
      "/kaggle/input/training-tuned-models/Recsys_Challenge_2023/Recommenders/BaseTempFolder.py\n",
      "/kaggle/input/training-tuned-models/Recsys_Challenge_2023/Recommenders/Recommender_utils.py\n",
      "/kaggle/input/training-tuned-models/Recsys_Challenge_2023/Recommenders/NonPersonalizedRecommender.py\n",
      "/kaggle/input/training-tuned-models/Recsys_Challenge_2023/Recommenders/BaseSimilarityMatrixRecommender.py\n",
      "/kaggle/input/training-tuned-models/Recsys_Challenge_2023/Recommenders/DataIO.py\n",
      "/kaggle/input/training-tuned-models/Recsys_Challenge_2023/Recommenders/PredefinedListRecommender.py\n",
      "/kaggle/input/training-tuned-models/Recsys_Challenge_2023/Recommenders/Similarity/Compute_similarity_euclidean_test.py\n",
      "/kaggle/input/training-tuned-models/Recsys_Challenge_2023/Recommenders/Similarity/Compute_Similarity_Euclidean.py\n",
      "/kaggle/input/training-tuned-models/Recsys_Challenge_2023/Recommenders/Similarity/Compute_Similarity_Python.py\n",
      "/kaggle/input/training-tuned-models/Recsys_Challenge_2023/Recommenders/Similarity/Compute_Similarity.py\n",
      "/kaggle/input/training-tuned-models/Recsys_Challenge_2023/Recommenders/Similarity/Compute_similarity_test.py\n",
      "/kaggle/input/training-tuned-models/Recsys_Challenge_2023/Recommenders/Similarity/__pycache__/Compute_Similarity_Python.cpython-310.pyc\n",
      "/kaggle/input/training-tuned-models/Recsys_Challenge_2023/Recommenders/Similarity/__pycache__/Compute_Similarity.cpython-310.pyc\n",
      "/kaggle/input/training-tuned-models/Recsys_Challenge_2023/Recommenders/Similarity/__pycache__/Compute_Similarity_Euclidean.cpython-310.pyc\n",
      "/kaggle/input/training-tuned-models/Recsys_Challenge_2023/Recommenders/Similarity/Cython/Compute_Similarity_Cython.cpython-310-x86_64-linux-gnu.so\n",
      "/kaggle/input/training-tuned-models/Recsys_Challenge_2023/Recommenders/Similarity/Cython/Compute_Similarity_Cython.pyx\n",
      "/kaggle/input/training-tuned-models/Recsys_Challenge_2023/Recommenders/Similarity/Cython/Compute_Similarity_Cython.html\n",
      "/kaggle/input/training-tuned-models/Recsys_Challenge_2023/Recommenders/Similarity/Cython/Compute_Similarity_Cython.c\n",
      "/kaggle/input/training-tuned-models/Recsys_Challenge_2023/Recommenders/EASE_R/EASE_R_Recommender.py\n",
      "/kaggle/input/training-tuned-models/Recsys_Challenge_2023/Recommenders/EASE_R/__pycache__/EASE_R_Recommender.cpython-310.pyc\n",
      "/kaggle/input/training-tuned-models/Recsys_Challenge_2023/Recommenders/SLIM/SLIMElasticNetRecommender.py\n",
      "/kaggle/input/training-tuned-models/Recsys_Challenge_2023/Recommenders/SLIM/SLIM_BPR_Python.py\n",
      "/kaggle/input/training-tuned-models/Recsys_Challenge_2023/Recommenders/SLIM/__pycache__/SLIMElasticNetRecommender.cpython-310.pyc\n",
      "/kaggle/input/training-tuned-models/Recsys_Challenge_2023/Recommenders/SLIM/__pycache__/SLIM_BPR_Python.cpython-310.pyc\n",
      "/kaggle/input/training-tuned-models/Recsys_Challenge_2023/Recommenders/SLIM/Cython/Triangular_Matrix.cpython-310-x86_64-linux-gnu.so\n",
      "/kaggle/input/training-tuned-models/Recsys_Challenge_2023/Recommenders/SLIM/Cython/Triangular_Matrix.c\n",
      "/kaggle/input/training-tuned-models/Recsys_Challenge_2023/Recommenders/SLIM/Cython/SLIM_BPR_Cython.py\n",
      "/kaggle/input/training-tuned-models/Recsys_Challenge_2023/Recommenders/SLIM/Cython/Sparse_Matrix_Tree_CSR.pyx\n",
      "/kaggle/input/training-tuned-models/Recsys_Challenge_2023/Recommenders/SLIM/Cython/Triangular_Matrix.pyx\n",
      "/kaggle/input/training-tuned-models/Recsys_Challenge_2023/Recommenders/SLIM/Cython/SLIM_BPR_Cython_Epoch.pyx\n",
      "/kaggle/input/training-tuned-models/Recsys_Challenge_2023/Recommenders/SLIM/Cython/Triangular_Matrix.html\n",
      "/kaggle/input/training-tuned-models/Recsys_Challenge_2023/Recommenders/GraphBased/RP3betaRecommender.py\n",
      "/kaggle/input/training-tuned-models/Recsys_Challenge_2023/Recommenders/GraphBased/P3alphaRecommender.py\n",
      "/kaggle/input/training-tuned-models/Recsys_Challenge_2023/Recommenders/GraphBased/__pycache__/RP3betaRecommender.cpython-310.pyc\n",
      "/kaggle/input/training-tuned-models/Recsys_Challenge_2023/Recommenders/GraphBased/__pycache__/P3alphaRecommender.cpython-310.pyc\n",
      "/kaggle/input/training-tuned-models/Recsys_Challenge_2023/Recommenders/FactorizationMachines/LightFMRecommender.py\n",
      "/kaggle/input/training-tuned-models/Recsys_Challenge_2023/Recommenders/__pycache__/BaseRecommender.cpython-310.pyc\n",
      "/kaggle/input/training-tuned-models/Recsys_Challenge_2023/Recommenders/__pycache__/BaseSimilarityMatrixRecommender.cpython-310.pyc\n",
      "/kaggle/input/training-tuned-models/Recsys_Challenge_2023/Recommenders/__pycache__/BaseMatrixFactorizationRecommender.cpython-310.pyc\n",
      "/kaggle/input/training-tuned-models/Recsys_Challenge_2023/Recommenders/__pycache__/Incremental_Training_Early_Stopping.cpython-310.pyc\n",
      "/kaggle/input/training-tuned-models/Recsys_Challenge_2023/Recommenders/__pycache__/IR_feature_weighting.cpython-310.pyc\n",
      "/kaggle/input/training-tuned-models/Recsys_Challenge_2023/Recommenders/__pycache__/DataIO.cpython-310.pyc\n",
      "/kaggle/input/training-tuned-models/Recsys_Challenge_2023/Recommenders/__pycache__/BaseTempFolder.cpython-310.pyc\n",
      "/kaggle/input/training-tuned-models/Recsys_Challenge_2023/Recommenders/__pycache__/Recommender_utils.cpython-310.pyc\n",
      "/kaggle/input/training-tuned-models/Recsys_Challenge_2023/Recommenders/KNN/ItemKNNCustomSimilarityRecommender.py\n",
      "/kaggle/input/training-tuned-models/Recsys_Challenge_2023/Recommenders/KNN/ItemKNNCBFRecommender.py\n",
      "/kaggle/input/training-tuned-models/Recsys_Challenge_2023/Recommenders/KNN/ItemKNNSimilarityHybridRecommender.py\n",
      "/kaggle/input/training-tuned-models/Recsys_Challenge_2023/Recommenders/KNN/UserKNNCBFRecommender.py\n",
      "/kaggle/input/training-tuned-models/Recsys_Challenge_2023/Recommenders/KNN/ItemKNNCFRecommender.py\n",
      "/kaggle/input/training-tuned-models/Recsys_Challenge_2023/Recommenders/KNN/UserKNN_CFCBF_Hybrid_Recommender.py\n",
      "/kaggle/input/training-tuned-models/Recsys_Challenge_2023/Recommenders/KNN/ItemKNN_CFCBF_Hybrid_Recommender.py\n",
      "/kaggle/input/training-tuned-models/Recsys_Challenge_2023/Recommenders/KNN/UserKNNCFRecommender.py\n",
      "/kaggle/input/training-tuned-models/Recsys_Challenge_2023/Recommenders/KNN/__pycache__/UserKNNCFRecommender.cpython-310.pyc\n",
      "/kaggle/input/training-tuned-models/Recsys_Challenge_2023/Recommenders/KNN/__pycache__/ItemKNNCFRecommender.cpython-310.pyc\n",
      "/kaggle/input/training-tuned-models/Recsys_Challenge_2023/Recommenders/Neural/architecture_utils.py\n",
      "/kaggle/input/training-tuned-models/Recsys_Challenge_2023/Recommenders/Neural/MultVAERecommender.py\n",
      "/kaggle/input/training-tuned-models/Recsys_Challenge_2023/Recommenders/Neural/MultVAE_PyTorch_Recommender.py\n",
      "/kaggle/input/training-tuned-models/Recsys_Challenge_2023/Recommenders/Neural/__pycache__/MultVAERecommender.cpython-310.pyc\n",
      "/kaggle/input/training-tuned-models/Recsys_Challenge_2023/Recommenders/Neural/__pycache__/architecture_utils.cpython-310.pyc\n",
      "/kaggle/input/training-tuned-models/Recsys_Challenge_2023/Recommenders/Hybrid/LinearCombinationRecommender.py\n",
      "/kaggle/input/training-tuned-models/Recsys_Challenge_2023/Recommenders/Hybrid/RoundRobinListCombinationRecommender.py\n",
      "/kaggle/input/training-tuned-models/Recsys_Challenge_2023/Recommenders/FeatureWeighting/CFW_D_Similarity_Linalg.py\n",
      "/kaggle/input/training-tuned-models/Recsys_Challenge_2023/Recommenders/FeatureWeighting/Cython/CFW_D_Similarity_Cython_SGD.cpython-310-x86_64-linux-gnu.so\n",
      "/kaggle/input/training-tuned-models/Recsys_Challenge_2023/Recommenders/FeatureWeighting/Cython/HP3_Similarity_Cython_SGD.c\n",
      "/kaggle/input/training-tuned-models/Recsys_Challenge_2023/Recommenders/FeatureWeighting/Cython/FBSM_Rating_Cython_SGD.c\n",
      "/kaggle/input/training-tuned-models/Recsys_Challenge_2023/Recommenders/FeatureWeighting/Cython/CFW_DVV_Similarity_Cython_SGD.pyx\n",
      "/kaggle/input/training-tuned-models/Recsys_Challenge_2023/Recommenders/FeatureWeighting/Cython/FBSM_Rating_Cython_SGD.cpython-310-x86_64-linux-gnu.so\n",
      "/kaggle/input/training-tuned-models/Recsys_Challenge_2023/Recommenders/FeatureWeighting/Cython/CFW_D_Similarity_Cython_SGD.html\n",
      "/kaggle/input/training-tuned-models/Recsys_Challenge_2023/Recommenders/FeatureWeighting/Cython/FBSM_Rating_Cython.py\n",
      "/kaggle/input/training-tuned-models/Recsys_Challenge_2023/Recommenders/FeatureWeighting/Cython/CFW_DVV_Similarity_Cython_SGD.html\n",
      "/kaggle/input/training-tuned-models/Recsys_Challenge_2023/Recommenders/FeatureWeighting/Cython/CFW_DVV_Similarity_Cython_SGD.cpython-310-x86_64-linux-gnu.so\n",
      "/kaggle/input/training-tuned-models/Recsys_Challenge_2023/Recommenders/FeatureWeighting/Cython/HP3_Similarity_Cython.py\n",
      "/kaggle/input/training-tuned-models/Recsys_Challenge_2023/Recommenders/FeatureWeighting/Cython/CFW_D_Similarity_Cython_SGD.c\n",
      "/kaggle/input/training-tuned-models/Recsys_Challenge_2023/Recommenders/FeatureWeighting/Cython/CFW_D_Similarity_Cython_SGD.pyx\n",
      "/kaggle/input/training-tuned-models/Recsys_Challenge_2023/Recommenders/FeatureWeighting/Cython/CFW_D_Similarity_Cython.py\n",
      "/kaggle/input/training-tuned-models/Recsys_Challenge_2023/Recommenders/FeatureWeighting/Cython/FBSM_Rating_Cython_SGD.pyx\n",
      "/kaggle/input/training-tuned-models/Recsys_Challenge_2023/Recommenders/FeatureWeighting/Cython/CFW_DVV_Similarity_Cython_SGD.c\n",
      "/kaggle/input/training-tuned-models/Recsys_Challenge_2023/Recommenders/FeatureWeighting/Cython/HP3_Similarity_Cython_SGD.cpython-310-x86_64-linux-gnu.so\n",
      "/kaggle/input/training-tuned-models/Recsys_Challenge_2023/Recommenders/FeatureWeighting/Cython/HP3_Similarity_Cython_SGD.pyx\n",
      "/kaggle/input/training-tuned-models/Recsys_Challenge_2023/Recommenders/FeatureWeighting/Cython/CFW_DVV_Similarity_Cython.py\n",
      "/kaggle/input/training-tuned-models/Recsys_Challenge_2023/Recommenders/FeatureWeighting/Cython/FBSM_Rating_Cython_SGD.html\n",
      "/kaggle/input/training-tuned-models/Recsys_Challenge_2023/Recommenders/FeatureWeighting/Cython/HP3_Similarity_Cython_SGD.html\n",
      "/kaggle/input/training-tuned-models/Recsys_Challenge_2023/Recommenders/MatrixFactorization/IALSRecommender.py\n",
      "/kaggle/input/training-tuned-models/Recsys_Challenge_2023/Recommenders/MatrixFactorization/NMFRecommender.py\n",
      "/kaggle/input/training-tuned-models/Recsys_Challenge_2023/Recommenders/MatrixFactorization/PureSVDRecommender.py\n",
      "/kaggle/input/training-tuned-models/Recsys_Challenge_2023/Recommenders/MatrixFactorization/SVDFeatureRecommender.py\n",
      "/kaggle/input/training-tuned-models/Recsys_Challenge_2023/Recommenders/MatrixFactorization/PyTorch/MF_MSE_PyTorch.py\n",
      "/kaggle/input/training-tuned-models/Recsys_Challenge_2023/Recommenders/MatrixFactorization/PyTorch/MF_MSE_PyTorch_model.py\n",
      "/kaggle/input/training-tuned-models/Recsys_Challenge_2023/Recommenders/MatrixFactorization/__pycache__/NMFRecommender.cpython-310.pyc\n",
      "/kaggle/input/training-tuned-models/Recsys_Challenge_2023/Recommenders/MatrixFactorization/__pycache__/PureSVDRecommender.cpython-310.pyc\n",
      "/kaggle/input/training-tuned-models/Recsys_Challenge_2023/Recommenders/MatrixFactorization/__pycache__/IALSRecommender.cpython-310.pyc\n",
      "/kaggle/input/training-tuned-models/Recsys_Challenge_2023/Recommenders/MatrixFactorization/Cython/MatrixFactorization_Cython.py\n",
      "/kaggle/input/training-tuned-models/Recsys_Challenge_2023/Recommenders/MatrixFactorization/Cython/MatrixFactorization_Cython_Epoch.cpython-310-x86_64-linux-gnu.so\n",
      "/kaggle/input/training-tuned-models/Recsys_Challenge_2023/Recommenders/MatrixFactorization/Cython/MatrixFactorizationImpressions_Cython_Epoch.cpython-310-x86_64-linux-gnu.so\n",
      "/kaggle/input/training-tuned-models/Recsys_Challenge_2023/Recommenders/MatrixFactorization/Cython/MatrixFactorizationImpressions_Cython.py\n",
      "/kaggle/input/training-tuned-models/Recsys_Challenge_2023/Recommenders/MatrixFactorization/Cython/MatrixFactorization_Cython_Epoch.c\n",
      "/kaggle/input/training-tuned-models/Recsys_Challenge_2023/Recommenders/MatrixFactorization/Cython/MatrixFactorization_Cython_Epoch.html\n",
      "/kaggle/input/training-tuned-models/Recsys_Challenge_2023/Recommenders/MatrixFactorization/Cython/MatrixFactorizationImpressions_Cython_Epoch.pyx\n",
      "/kaggle/input/training-tuned-models/Recsys_Challenge_2023/Recommenders/MatrixFactorization/Cython/MatrixFactorization_Cython_Epoch.pyx\n",
      "/kaggle/input/training-tuned-models/Recsys_Challenge_2023/Recommenders/MatrixFactorization/Cython/MatrixFactorizationImpressions_Cython_Epoch.c\n",
      "/kaggle/input/training-tuned-models/Recsys_Challenge_2023/Recommenders/MatrixFactorization/Cython/MatrixFactorizationImpressions_Cython_Epoch.html\n",
      "/kaggle/input/training-tuned-models/Recsys_Challenge_2023/tuning_results/tuning_hybrid_merging.db\n",
      "/kaggle/input/training-tuned-models/Recsys_Challenge_2023/tuning_results/tuning_hybrid.db\n",
      "/kaggle/input/training-tuned-models/Recsys_Challenge_2023/tuning_results/tuning_mf.db\n",
      "/kaggle/input/training-tuned-models/Recsys_Challenge_2023/tuning_results/tuning_hybrid_precision.db\n",
      "/kaggle/input/training-tuned-models/Recsys_Challenge_2023/tuning_results/best_params_ials_v2.json\n",
      "/kaggle/input/training-tuned-models/Recsys_Challenge_2023/tuning_results/best_params_NMF.json\n",
      "/kaggle/input/training-tuned-models/Recsys_Challenge_2023/tuning_results/best_params_allLinearHyb.json\n",
      "/kaggle/input/training-tuned-models/Recsys_Challenge_2023/tuning_results/best_params_hybrid_merging.json\n",
      "/kaggle/input/training-tuned-models/Recsys_Challenge_2023/tuning_results/best_params_knn_item.json\n",
      "/kaggle/input/training-tuned-models/Recsys_Challenge_2023/tuning_results/better_tuning_EASE_R.db\n",
      "/kaggle/input/training-tuned-models/Recsys_Challenge_2023/tuning_results/tuning_RP3+ItemKNN_Hybrid.db\n",
      "/kaggle/input/training-tuned-models/Recsys_Challenge_2023/tuning_results/tuning_MultVaer.db\n",
      "/kaggle/input/training-tuned-models/Recsys_Challenge_2023/tuning_results/best_params_hybrid_lr_comb_8models.json\n",
      "/kaggle/input/training-tuned-models/Recsys_Challenge_2023/tuning_results/best_params_hybrid_lr_comb_9models.json\n",
      "/kaggle/input/training-tuned-models/Recsys_Challenge_2023/tuning_results/best_params_light.json\n",
      "/kaggle/input/training-tuned-models/Recsys_Challenge_2023/tuning_results/tuning_BPR.db\n",
      "/kaggle/input/training-tuned-models/Recsys_Challenge_2023/tuning_results/best_params_knn_user_cv5.json\n",
      "/kaggle/input/training-tuned-models/Recsys_Challenge_2023/tuning_results/best_params_EASE_R.json\n",
      "/kaggle/input/training-tuned-models/Recsys_Challenge_2023/tuning_results/best_params_Vaer.json\n",
      "/kaggle/input/training-tuned-models/Recsys_Challenge_2023/tuning_results/best_params_alpha.json\n",
      "/kaggle/input/training-tuned-models/Recsys_Challenge_2023/tuning_results/best_params_hybrid_xgboost.json\n",
      "/kaggle/input/training-tuned-models/Recsys_Challenge_2023/tuning_results/pure_svd_params.json\n",
      "/kaggle/input/training-tuned-models/Recsys_Challenge_2023/tuning_results/pure_svd_trials.csv\n",
      "/kaggle/input/training-tuned-models/Recsys_Challenge_2023/tuning_results/tuning_puresvd.db\n",
      "/kaggle/input/training-tuned-models/Recsys_Challenge_2023/tuning_results/best_params_knn_item_cv5.json\n",
      "/kaggle/input/training-tuned-models/Recsys_Challenge_2023/tuning_results/tuning.db\n",
      "/kaggle/input/training-tuned-models/Recsys_Challenge_2023/tuning_results/best_params_slim.json\n",
      "/kaggle/input/training-tuned-models/Recsys_Challenge_2023/tuning_results/better_tuning.db\n",
      "/kaggle/input/training-tuned-models/Recsys_Challenge_2023/tuning_results/tuning_slim_elastic.db\n",
      "/kaggle/input/training-tuned-models/Recsys_Challenge_2023/tuning_results/tuning_hybrid_UserKNN_RP3Hybrid.db\n",
      "/kaggle/input/training-tuned-models/Recsys_Challenge_2023/tuning_results/matrix-factorization-item-puresvd.ipynb\n",
      "/kaggle/input/training-tuned-models/Recsys_Challenge_2023/tuning_results/better_tuning_alpha.db\n",
      "/kaggle/input/training-tuned-models/Recsys_Challenge_2023/tuning_results/best_params_hybrid_UserKNN_RP3Hybrid.json\n",
      "/kaggle/input/training-tuned-models/Recsys_Challenge_2023/tuning_results/best_params_RP3+ItemKNN_Hybrid.json\n",
      "/kaggle/input/training-tuned-models/Recsys_Challenge_2023/tuning_results/best_params_hybrid_lr_comb_10models.json\n",
      "/kaggle/input/training-tuned-models/Recsys_Challenge_2023/tuning_results/best_params_Slim_BPR.json\n",
      "/kaggle/input/training-tuned-models/Recsys_Challenge_2023/tuning_results/best_params_hybrid_lr_comb.json\n",
      "/kaggle/input/training-tuned-models/Recsys_Challenge_2023/tuning_results/light.db\n",
      "/kaggle/input/training-tuned-models/Recsys_Challenge_2023/tuning_results/best_params_hybrid.json\n",
      "/kaggle/input/training-tuned-models/Recsys_Challenge_2023/tuning_results/best_params_item_knn_precision.json\n",
      "/kaggle/input/training-tuned-models/Recsys_Challenge_2023/tuning_results/tuning_rp3.db\n",
      "/kaggle/input/training-tuned-models/Recsys_Challenge_2023/tuning_results/tuning_hybrid_xgboost.db\n",
      "/kaggle/input/training-tuned-models/Recsys_Challenge_2023/tuning_results/best_params_ials.json\n",
      "/kaggle/input/training-tuned-models/Recsys_Challenge_2023/tuning_results/tuning_mf_funk.db\n",
      "/kaggle/input/training-tuned-models/Recsys_Challenge_2023/tuning_results/best_params_knn_user.json\n",
      "/kaggle/input/training-tuned-models/Recsys_Challenge_2023/tuning_results/best_params_funk_svd.json\n",
      "/kaggle/input/training-tuned-models/Recsys_Challenge_2023/tuning_results/best_params_puresvd_item.json\n",
      "/kaggle/input/training-tuned-models/Recsys_Challenge_2023/tuning_results/best_params_hybrid_lr_comb_rp3_p3a_item.json\n",
      "/kaggle/input/training-tuned-models/Recsys_Challenge_2023/tuning_results/best_params_RP3.json\n",
      "/kaggle/input/training-tuned-models/Recsys_Challenge_2023/tuning_results/parameters_NMF.db\n",
      "/kaggle/input/training-tuned-models/Recsys_Challenge_2023/tuning_results/better_tuning_knn.db\n",
      "/kaggle/input/training-tuned-models/Recsys_Challenge_2023/tuning_results/tuning_best_params_allLinearHyb.db\n",
      "/kaggle/input/training-tuned-models/Recsys_Challenge_2023/models/slim_bpr_xgboost_train_validation.zip\n",
      "/kaggle/input/training-tuned-models/Recsys_Challenge_2023/models/ease_r_all.zip\n",
      "/kaggle/input/training-tuned-models/Recsys_Challenge_2023/models/slim_bpr_all.zip\n",
      "/kaggle/input/training-tuned-models/Recsys_Challenge_2023/models/slim_elastic_train_validation.zip\n",
      "/kaggle/input/training-tuned-models/Recsys_Challenge_2023/models/nmf_all.zip\n",
      "/kaggle/input/training-tuned-models/Recsys_Challenge_2023/models/ease_r_train_validation.zip\n",
      "/kaggle/input/training-tuned-models/Recsys_Challenge_2023/models/nmf_train_validation.zip\n",
      "/kaggle/input/training-tuned-models/Recsys_Challenge_2023/models/nmf_xgboost_train_validation.zip\n",
      "/kaggle/input/training-tuned-models/Recsys_Challenge_2023/models/slim_elastic_xgboost_train_validation.zip\n",
      "/kaggle/input/training-tuned-models/Recsys_Challenge_2023/models/ease_r_xgboost_train_validation.zip\n",
      "/kaggle/input/training-tuned-models/Recsys_Challenge_2023/models/slim_bpr_train_validation.zip\n",
      "/kaggle/input/training-tuned-models/Recsys_Challenge_2023/models/slim_elastic_all.zip\n",
      "/kaggle/input/training-tuned-models/Recsys_Challenge_2023/images/random_random_everywhere_meme.jpg\n",
      "/kaggle/input/training-tuned-models/Recsys_Challenge_2023/images/ive_already_seen_it_meme.png\n",
      "/kaggle/input/training-tuned-models/Recsys_Challenge_2023/images/bob_example.jpeg\n",
      "/kaggle/input/training-tuned-models/Recsys_Challenge_2023/images/hstack_example.png\n",
      "/kaggle/input/training-tuned-models/Recsys_Challenge_2023/images/FactorizationMachine.png\n",
      "/kaggle/input/training-tuned-models/Recsys_Challenge_2023/images/ive_evaluated_your_performance_meme.jpg\n",
      "/kaggle/input/training-tuned-models/Recsys_Challenge_2023/images/amongus_meme.png\n",
      "/kaggle/input/training-tuned-models/Recsys_Challenge_2023/images/toy_story_poster.png\n",
      "/kaggle/input/training-tuned-models/Recsys_Challenge_2023/images/better_than_average_on_the_first_try_meme.jpg\n",
      "/kaggle/input/training-tuned-models/Recsys_Challenge_2023/HyperparameterTuning/SearchSingleCase.py\n",
      "/kaggle/input/training-tuned-models/Recsys_Challenge_2023/HyperparameterTuning/SearchAbstractClass.py\n",
      "/kaggle/input/training-tuned-models/Recsys_Challenge_2023/HyperparameterTuning/run_hyperparameter_search.py\n",
      "/kaggle/input/training-tuned-models/Recsys_Challenge_2023/HyperparameterTuning/SearchBayesianSkopt.py\n",
      "/kaggle/input/training-tuned-models/Recsys_Challenge_2023/Cython_examples/isPrime_slow.pyx\n",
      "/kaggle/input/training-tuned-models/Recsys_Challenge_2023/Cython_examples/SLIM_MSE_fastest.pyx\n",
      "/kaggle/input/training-tuned-models/Recsys_Challenge_2023/Cython_examples/isPrime_nochecks.pyx\n",
      "/kaggle/input/training-tuned-models/Recsys_Challenge_2023/Cython_examples/isPrime.pyx\n",
      "/kaggle/input/training-tuned-models/Recsys_Challenge_2023/Cython_examples/FunkSVD_fastest.pyx\n",
      "/kaggle/input/training-tuned-models/Recsys_Challenge_2023/Cython_examples/FunkSVD_slow.pyx\n",
      "/kaggle/input/training-tuned-models/Recsys_Challenge_2023/Cython_examples/SLIM_MSE_slow.pyx\n",
      "/kaggle/input/training-tuned-models/Recsys_Challenge_2023/result_experiments/run_compile_all_cython.txt\n",
      "/kaggle/input/training-tuned-models/Recsys_Challenge_2023/.git/config\n",
      "/kaggle/input/training-tuned-models/Recsys_Challenge_2023/.git/packed-refs\n",
      "/kaggle/input/training-tuned-models/Recsys_Challenge_2023/.git/HEAD\n",
      "/kaggle/input/training-tuned-models/Recsys_Challenge_2023/.git/index\n",
      "/kaggle/input/training-tuned-models/Recsys_Challenge_2023/.git/description\n",
      "/kaggle/input/training-tuned-models/Recsys_Challenge_2023/.git/info/exclude\n",
      "/kaggle/input/training-tuned-models/Recsys_Challenge_2023/.git/refs/heads/master\n",
      "/kaggle/input/training-tuned-models/Recsys_Challenge_2023/.git/refs/remotes/origin/HEAD\n",
      "/kaggle/input/training-tuned-models/Recsys_Challenge_2023/.git/hooks/pre-merge-commit.sample\n",
      "/kaggle/input/training-tuned-models/Recsys_Challenge_2023/.git/hooks/prepare-commit-msg.sample\n",
      "/kaggle/input/training-tuned-models/Recsys_Challenge_2023/.git/hooks/update.sample\n",
      "/kaggle/input/training-tuned-models/Recsys_Challenge_2023/.git/hooks/pre-push.sample\n",
      "/kaggle/input/training-tuned-models/Recsys_Challenge_2023/.git/hooks/pre-rebase.sample\n",
      "/kaggle/input/training-tuned-models/Recsys_Challenge_2023/.git/hooks/pre-applypatch.sample\n",
      "/kaggle/input/training-tuned-models/Recsys_Challenge_2023/.git/hooks/pre-commit.sample\n",
      "/kaggle/input/training-tuned-models/Recsys_Challenge_2023/.git/hooks/commit-msg.sample\n",
      "/kaggle/input/training-tuned-models/Recsys_Challenge_2023/.git/hooks/post-update.sample\n",
      "/kaggle/input/training-tuned-models/Recsys_Challenge_2023/.git/hooks/pre-receive.sample\n",
      "/kaggle/input/training-tuned-models/Recsys_Challenge_2023/.git/hooks/fsmonitor-watchman.sample\n",
      "/kaggle/input/training-tuned-models/Recsys_Challenge_2023/.git/hooks/applypatch-msg.sample\n",
      "/kaggle/input/training-tuned-models/Recsys_Challenge_2023/.git/logs/HEAD\n",
      "/kaggle/input/training-tuned-models/Recsys_Challenge_2023/.git/logs/refs/heads/master\n",
      "/kaggle/input/training-tuned-models/Recsys_Challenge_2023/.git/logs/refs/remotes/origin/HEAD\n",
      "/kaggle/input/training-tuned-models/Recsys_Challenge_2023/.git/objects/pack/pack-c4abe30e81b3f8989be525bc59f27f7e7e0ab021.pack\n",
      "/kaggle/input/training-tuned-models/Recsys_Challenge_2023/.git/objects/pack/pack-c4abe30e81b3f8989be525bc59f27f7e7e0ab021.idx\n",
      "/kaggle/input/training-tuned-models/Recsys_Challenge_2023/challenge_notebooks/training-tuned-models.ipynb\n",
      "/kaggle/input/training-tuned-models/Recsys_Challenge_2023/challenge_notebooks/list-combination.ipynb\n",
      "/kaggle/input/training-tuned-models/Recsys_Challenge_2023/challenge_notebooks/hyperparameters-tuning.ipynb\n",
      "/kaggle/input/training-tuned-models/Recsys_Challenge_2023/challenge_notebooks/rp3-tuning.ipynb\n",
      "/kaggle/input/training-tuned-models/Recsys_Challenge_2023/challenge_notebooks/hybrid-precision.ipynb\n",
      "/kaggle/input/training-tuned-models/Recsys_Challenge_2023/challenge_notebooks/linear-combination.ipynb\n",
      "/kaggle/input/training-tuned-models/Recsys_Challenge_2023/challenge_notebooks/rp3-itemknn-hybrid.ipynb\n",
      "/kaggle/input/training-tuned-models/Recsys_Challenge_2023/challenge_notebooks/merging-models.ipynb\n",
      "/kaggle/input/training-tuned-models/Recsys_Challenge_2023/challenge_notebooks/matrix-factorization-item-puresvd.ipynb\n",
      "/kaggle/input/training-tuned-models/Recsys_Challenge_2023/challenge_notebooks/hyperparameters-tuning-better.ipynb\n",
      "/kaggle/input/training-tuned-models/Recsys_Challenge_2023/challenge_notebooks/xgboost.ipynb\n",
      "/kaggle/input/training-tuned-models/Recsys_Challenge_2023/challenge_notebooks/srecsys-challenge.ipynb\n",
      "/kaggle/input/training-tuned-models/Recsys_Challenge_2023/Evaluation/metrics.py\n",
      "/kaggle/input/training-tuned-models/Recsys_Challenge_2023/Evaluation/Evaluator.py\n",
      "/kaggle/input/training-tuned-models/Recsys_Challenge_2023/Evaluation/__pycache__/metrics.cpython-310.pyc\n",
      "/kaggle/input/training-tuned-models/Recsys_Challenge_2023/Evaluation/__pycache__/Evaluator.cpython-310.pyc\n"
     ]
    }
   ],
   "source": [
    "import numpy as np\n",
    "import pandas as pd\n",
    "import matplotlib.pyplot as plt\n",
    "import seaborn as sns\n",
    "import joblib\n",
    "import json\n",
    "import random\n",
    "import tqdm\n",
    "import gc\n",
    "import time\n",
    "import os\n",
    "import shutil\n",
    "import optuna\n",
    "import scipy.sparse as sps\n",
    "\n",
    "for dirname, _, filenames in os.walk('/kaggle/input'):\n",
    "    for filename in filenames:\n",
    "        print(os.path.join(dirname, filename))"
   ]
  },
  {
   "cell_type": "code",
   "execution_count": 5,
   "id": "0f0cd462",
   "metadata": {
    "execution": {
     "iopub.execute_input": "2023-12-03T20:02:54.400470Z",
     "iopub.status.busy": "2023-12-03T20:02:54.399245Z",
     "iopub.status.idle": "2023-12-03T20:02:54.406759Z",
     "shell.execute_reply": "2023-12-03T20:02:54.405703Z"
    },
    "papermill": {
     "duration": 0.033977,
     "end_time": "2023-12-03T20:02:54.409216",
     "exception": false,
     "start_time": "2023-12-03T20:02:54.375239",
     "status": "completed"
    },
    "tags": []
   },
   "outputs": [
    {
     "name": "stdout",
     "output_type": "stream",
     "text": [
      "/kaggle/working/Recsys_Challenge_2023\n"
     ]
    }
   ],
   "source": [
    "%cd /kaggle/working/Recsys_Challenge_2023"
   ]
  },
  {
   "cell_type": "code",
   "execution_count": 6,
   "id": "f0f986b3",
   "metadata": {
    "execution": {
     "iopub.execute_input": "2023-12-03T20:02:54.455584Z",
     "iopub.status.busy": "2023-12-03T20:02:54.454897Z",
     "iopub.status.idle": "2023-12-03T20:03:09.573907Z",
     "shell.execute_reply": "2023-12-03T20:03:09.572753Z"
    },
    "papermill": {
     "duration": 15.14547,
     "end_time": "2023-12-03T20:03:09.576790",
     "exception": false,
     "start_time": "2023-12-03T20:02:54.431320",
     "status": "completed"
    },
    "tags": []
   },
   "outputs": [],
   "source": [
    "from Recommenders.KNN.UserKNNCFRecommender import UserKNNCFRecommender\n",
    "from Data_manager.split_functions.split_train_validation_random_holdout import split_train_in_two_percentage_global_sample\n",
    "from Recommenders.SLIM.SLIMElasticNetRecommender import MultiThreadSLIM_SLIMElasticNetRecommender, SLIMElasticNetRecommender\n",
    "from Evaluation.Evaluator import EvaluatorHoldout\n",
    "from Recommenders.MatrixFactorization.IALSRecommender import IALSRecommender\n",
    "from Recommenders.MatrixFactorization.PureSVDRecommender import PureSVDRecommender, PureSVDItemRecommender\n",
    "from Recommenders.KNN.ItemKNNCFRecommender import ItemKNNCFRecommender\n",
    "from Recommenders.KNN.UserKNNCFRecommender import UserKNNCFRecommender\n",
    "from Recommenders.KNN.ItemKNNSimilarityHybridRecommender import ItemKNNSimilarityHybridRecommender\n",
    "from Recommenders.KNN.ItemKNNCustomSimilarityRecommender import ItemKNNCustomSimilarityRecommender\n",
    "from Recommenders.EASE_R.EASE_R_Recommender import EASE_R_Recommender\n",
    "from Recommenders.Neural.MultVAERecommender import MultVAERecommender\n",
    "from Recommenders.GraphBased.RP3betaRecommender import RP3betaRecommender\n",
    "from Recommenders.GraphBased.P3alphaRecommender import P3alphaRecommender\n",
    "from Recommenders.SLIM.SLIM_BPR_Python import SLIM_BPR_Python\n",
    "from Recommenders.MatrixFactorization.NMFRecommender import NMFRecommender\n",
    "from Recommenders.BaseRecommender import BaseRecommender\n",
    "\n",
    "from Recommenders.Hybrid.LinearCombinationRecommender import LinearCombinationRecommender\n",
    "from Data_manager.CrossValidationSplitter import CrossValidationSplitter\n",
    "\n",
    "np.int = int\n",
    "np.random.seed(42)\n",
    "np.bool = bool\n",
    "np.float = float"
   ]
  },
  {
   "cell_type": "markdown",
   "id": "15b67462",
   "metadata": {
    "papermill": {
     "duration": 0.03976,
     "end_time": "2023-12-03T20:03:09.652369",
     "exception": false,
     "start_time": "2023-12-03T20:03:09.612609",
     "status": "completed"
    },
    "tags": []
   },
   "source": [
    "# Configurations"
   ]
  },
  {
   "cell_type": "code",
   "execution_count": 7,
   "id": "0c506e4b",
   "metadata": {
    "execution": {
     "iopub.execute_input": "2023-12-03T20:03:09.713888Z",
     "iopub.status.busy": "2023-12-03T20:03:09.712509Z",
     "iopub.status.idle": "2023-12-03T20:03:10.603291Z",
     "shell.execute_reply": "2023-12-03T20:03:10.601847Z"
    },
    "papermill": {
     "duration": 0.917387,
     "end_time": "2023-12-03T20:03:10.606088",
     "exception": false,
     "start_time": "2023-12-03T20:03:09.688701",
     "status": "completed"
    },
    "tags": []
   },
   "outputs": [
    {
     "name": "stdout",
     "output_type": "stream",
     "text": [
      "Repository found\n"
     ]
    }
   ],
   "source": [
    "from github import Github\n",
    "from github import Auth\n",
    "\n",
    "auth = Auth.Token(token)\n",
    "g = Github(auth=auth)\n",
    "\n",
    "repo = None\n",
    "for r in g.get_user().get_repos():\n",
    "    if r.name == 'Recsys_Challenge_2023':\n",
    "        repo = r\n",
    "        print('Repository found')"
   ]
  },
  {
   "cell_type": "code",
   "execution_count": 8,
   "id": "37d09bfd",
   "metadata": {
    "execution": {
     "iopub.execute_input": "2023-12-03T20:03:10.654681Z",
     "iopub.status.busy": "2023-12-03T20:03:10.653807Z",
     "iopub.status.idle": "2023-12-03T20:03:10.660656Z",
     "shell.execute_reply": "2023-12-03T20:03:10.659713Z"
    },
    "papermill": {
     "duration": 0.033605,
     "end_time": "2023-12-03T20:03:10.662902",
     "exception": false,
     "start_time": "2023-12-03T20:03:10.629297",
     "status": "completed"
    },
    "tags": []
   },
   "outputs": [],
   "source": [
    "def upload_file(filepath_kaggle, filepath_github, commit_message):\n",
    "    try:\n",
    "        contents = repo.get_contents(filepath_github)\n",
    "        with open(filepath_kaggle, \"rb\") as file:\n",
    "            repo.update_file(contents.path, commit_message, file.read(), contents.sha)\n",
    "    except Exception:\n",
    "        with open(filepath_kaggle, \"rb\") as file:\n",
    "            repo.create_file(filepath_github, commit_message, file.read())"
   ]
  },
  {
   "cell_type": "code",
   "execution_count": 9,
   "id": "d42eec33",
   "metadata": {
    "execution": {
     "iopub.execute_input": "2023-12-03T20:03:10.710380Z",
     "iopub.status.busy": "2023-12-03T20:03:10.709611Z",
     "iopub.status.idle": "2023-12-03T20:03:10.714414Z",
     "shell.execute_reply": "2023-12-03T20:03:10.713534Z"
    },
    "papermill": {
     "duration": 0.030888,
     "end_time": "2023-12-03T20:03:10.716701",
     "exception": false,
     "start_time": "2023-12-03T20:03:10.685813",
     "status": "completed"
    },
    "tags": []
   },
   "outputs": [],
   "source": [
    "config = {\n",
    "    'tune_parameters': True,\n",
    "    'database_path': '/kaggle/working/tuning_hybrid.db',\n",
    "    'copy_prev_tuning_db': True,\n",
    "    'copy_prev_best_params': True,\n",
    "    'save_github': True\n",
    "}"
   ]
  },
  {
   "cell_type": "markdown",
   "id": "526eda54",
   "metadata": {
    "papermill": {
     "duration": 0.090632,
     "end_time": "2023-12-03T20:03:10.829677",
     "exception": false,
     "start_time": "2023-12-03T20:03:10.739045",
     "status": "completed"
    },
    "tags": []
   },
   "source": [
    "# Tuning"
   ]
  },
  {
   "cell_type": "code",
   "execution_count": 10,
   "id": "fb2bb5c3",
   "metadata": {
    "execution": {
     "iopub.execute_input": "2023-12-03T20:03:10.876776Z",
     "iopub.status.busy": "2023-12-03T20:03:10.876233Z",
     "iopub.status.idle": "2023-12-03T20:03:11.164345Z",
     "shell.execute_reply": "2023-12-03T20:03:11.163030Z"
    },
    "papermill": {
     "duration": 0.315112,
     "end_time": "2023-12-03T20:03:11.167245",
     "exception": false,
     "start_time": "2023-12-03T20:03:10.852133",
     "status": "completed"
    },
    "tags": []
   },
   "outputs": [],
   "source": [
    "train_data = pd.read_csv('/kaggle/input/recommender-system-2023-challenge-polimi/data_train.csv')\n",
    "user_ids_test = pd.read_csv('/kaggle/input/recommender-system-2023-challenge-polimi/data_target_users_test.csv')"
   ]
  },
  {
   "cell_type": "code",
   "execution_count": 11,
   "id": "4c978914",
   "metadata": {
    "execution": {
     "iopub.execute_input": "2023-12-03T20:03:11.214908Z",
     "iopub.status.busy": "2023-12-03T20:03:11.213682Z",
     "iopub.status.idle": "2023-12-03T20:03:11.255842Z",
     "shell.execute_reply": "2023-12-03T20:03:11.254775Z"
    },
    "papermill": {
     "duration": 0.068829,
     "end_time": "2023-12-03T20:03:11.258803",
     "exception": false,
     "start_time": "2023-12-03T20:03:11.189974",
     "status": "completed"
    },
    "tags": []
   },
   "outputs": [
    {
     "data": {
      "text/plain": [
       "<13024x22347 sparse matrix of type '<class 'numpy.float64'>'\n",
       "\twith 478730 stored elements in Compressed Sparse Row format>"
      ]
     },
     "execution_count": 11,
     "metadata": {},
     "output_type": "execute_result"
    }
   ],
   "source": [
    "URM_all = sps.csr_matrix((train_data.data.values,\n",
    "                          ((train_data.row - 1).values, (train_data.col - 1).values)),\n",
    "                        shape=(train_data.row.max(), train_data.col.max()))\n",
    "URM_all"
   ]
  },
  {
   "cell_type": "code",
   "execution_count": 12,
   "id": "fa83f987",
   "metadata": {
    "execution": {
     "iopub.execute_input": "2023-12-03T20:03:11.305991Z",
     "iopub.status.busy": "2023-12-03T20:03:11.305602Z",
     "iopub.status.idle": "2023-12-03T20:03:12.664471Z",
     "shell.execute_reply": "2023-12-03T20:03:12.663141Z"
    },
    "papermill": {
     "duration": 1.387917,
     "end_time": "2023-12-03T20:03:12.669563",
     "exception": false,
     "start_time": "2023-12-03T20:03:11.281646",
     "status": "completed"
    },
    "tags": []
   },
   "outputs": [
    {
     "name": "stdout",
     "output_type": "stream",
     "text": [
      "Warning: 627 (4.81 %) of 13024 users have no train items\n",
      "Warning: 2568 (19.72 %) of 13024 users have no sampled items\n"
     ]
    }
   ],
   "source": [
    "URM_train, URM_test_complete = split_train_in_two_percentage_global_sample(URM_all, train_percentage = 0.8)"
   ]
  },
  {
   "cell_type": "code",
   "execution_count": 13,
   "id": "a8ef4b20",
   "metadata": {
    "execution": {
     "iopub.execute_input": "2023-12-03T20:03:12.724153Z",
     "iopub.status.busy": "2023-12-03T20:03:12.723741Z",
     "iopub.status.idle": "2023-12-03T20:03:12.732073Z",
     "shell.execute_reply": "2023-12-03T20:03:12.730944Z"
    },
    "papermill": {
     "duration": 0.036149,
     "end_time": "2023-12-03T20:03:12.734243",
     "exception": false,
     "start_time": "2023-12-03T20:03:12.698094",
     "status": "completed"
    },
    "tags": []
   },
   "outputs": [
    {
     "data": {
      "text/plain": [
       "{'topK': 14,\n",
       " 'shrink': 25,\n",
       " 'similarity': 'tversky',\n",
       " 'tversky_alpha': 0.18163095712123836,\n",
       " 'tversky_beta': 1.8529812241698465}"
      ]
     },
     "execution_count": 13,
     "metadata": {},
     "output_type": "execute_result"
    }
   ],
   "source": [
    "with open('/kaggle/working/Recsys_Challenge_2023/tuning_results/best_params_knn_item.json', 'r') as params_file:\n",
    "    params_item_knn = json.load(params_file)\n",
    "params_item_knn"
   ]
  },
  {
   "cell_type": "code",
   "execution_count": 14,
   "id": "aedcd0db",
   "metadata": {
    "execution": {
     "iopub.execute_input": "2023-12-03T20:03:12.785085Z",
     "iopub.status.busy": "2023-12-03T20:03:12.784268Z",
     "iopub.status.idle": "2023-12-03T20:03:12.791453Z",
     "shell.execute_reply": "2023-12-03T20:03:12.790524Z"
    },
    "papermill": {
     "duration": 0.034051,
     "end_time": "2023-12-03T20:03:12.793610",
     "exception": false,
     "start_time": "2023-12-03T20:03:12.759559",
     "status": "completed"
    },
    "tags": []
   },
   "outputs": [
    {
     "data": {
      "text/plain": [
       "{'alpha': 0.26348679053501006, 'beta': 0.17536156577039744, 'topK': 27}"
      ]
     },
     "execution_count": 14,
     "metadata": {},
     "output_type": "execute_result"
    }
   ],
   "source": [
    "with open('/kaggle/working/Recsys_Challenge_2023/tuning_results/best_params_RP3.json', 'r') as params_file:\n",
    "    params_rp3 = json.load(params_file)\n",
    "params_rp3"
   ]
  },
  {
   "cell_type": "code",
   "execution_count": 15,
   "id": "b58f18c7",
   "metadata": {
    "execution": {
     "iopub.execute_input": "2023-12-03T20:03:12.841662Z",
     "iopub.status.busy": "2023-12-03T20:03:12.841157Z",
     "iopub.status.idle": "2023-12-03T20:03:12.849391Z",
     "shell.execute_reply": "2023-12-03T20:03:12.848262Z"
    },
    "papermill": {
     "duration": 0.035232,
     "end_time": "2023-12-03T20:03:12.851773",
     "exception": false,
     "start_time": "2023-12-03T20:03:12.816541",
     "status": "completed"
    },
    "tags": []
   },
   "outputs": [
    {
     "data": {
      "text/plain": [
       "{'normalize_similarity': 'True',\n",
       " 'implicit': 'True',\n",
       " 'alpha': 0.29354071531607107,\n",
       " 'topK': 49}"
      ]
     },
     "execution_count": 15,
     "metadata": {},
     "output_type": "execute_result"
    }
   ],
   "source": [
    "with open('/kaggle/working/Recsys_Challenge_2023/tuning_results/best_params_alpha.json', 'r') as params_file:\n",
    "    params_p3alpha = json.load(params_file)\n",
    "params_p3alpha"
   ]
  },
  {
   "cell_type": "code",
   "execution_count": 16,
   "id": "1af77701",
   "metadata": {
    "execution": {
     "iopub.execute_input": "2023-12-03T20:03:12.900253Z",
     "iopub.status.busy": "2023-12-03T20:03:12.899839Z",
     "iopub.status.idle": "2023-12-03T20:03:12.907857Z",
     "shell.execute_reply": "2023-12-03T20:03:12.906988Z"
    },
    "papermill": {
     "duration": 0.034889,
     "end_time": "2023-12-03T20:03:12.910023",
     "exception": false,
     "start_time": "2023-12-03T20:03:12.875134",
     "status": "completed"
    },
    "tags": []
   },
   "outputs": [
    {
     "data": {
      "text/plain": [
       "{'alpha': 0.3375591188839621, 'topK': 86}"
      ]
     },
     "execution_count": 16,
     "metadata": {},
     "output_type": "execute_result"
    }
   ],
   "source": [
    "with open('/kaggle/working/Recsys_Challenge_2023/tuning_results/best_params_hybrid_merging.json', 'r') as params_file:\n",
    "    params_merging = json.load(params_file)\n",
    "params_merging"
   ]
  },
  {
   "cell_type": "code",
   "execution_count": 17,
   "id": "2d6be2b4",
   "metadata": {
    "execution": {
     "iopub.execute_input": "2023-12-03T20:03:12.959092Z",
     "iopub.status.busy": "2023-12-03T20:03:12.958646Z",
     "iopub.status.idle": "2023-12-03T20:03:14.838818Z",
     "shell.execute_reply": "2023-12-03T20:03:14.837579Z"
    },
    "papermill": {
     "duration": 1.90784,
     "end_time": "2023-12-03T20:03:14.841597",
     "exception": false,
     "start_time": "2023-12-03T20:03:12.933757",
     "status": "completed"
    },
    "tags": []
   },
   "outputs": [
    {
     "data": {
      "text/plain": [
       "'/kaggle/working/ials_all.zip'"
      ]
     },
     "execution_count": 17,
     "metadata": {},
     "output_type": "execute_result"
    }
   ],
   "source": [
    "shutil.copyfile(\n",
    "    '/kaggle/input/training-tuned-models/ials_train_validation.zip', \n",
    "    '/kaggle/working/ials_train_validation.zip', \n",
    ")\n",
    "shutil.copyfile(\n",
    "    '/kaggle/input/training-tuned-models/ials_train_validation.zip', \n",
    "    '/kaggle/working/ials_all.zip', \n",
    ")"
   ]
  },
  {
   "cell_type": "code",
   "execution_count": 18,
   "id": "7869b5ab",
   "metadata": {
    "execution": {
     "iopub.execute_input": "2023-12-03T20:03:14.891172Z",
     "iopub.status.busy": "2023-12-03T20:03:14.889964Z",
     "iopub.status.idle": "2023-12-03T20:03:43.038463Z",
     "shell.execute_reply": "2023-12-03T20:03:43.037356Z"
    },
    "papermill": {
     "duration": 28.176181,
     "end_time": "2023-12-03T20:03:43.041358",
     "exception": false,
     "start_time": "2023-12-03T20:03:14.865177",
     "status": "completed"
    },
    "tags": []
   },
   "outputs": [
    {
     "name": "stdout",
     "output_type": "stream",
     "text": [
      "ItemKNNCFRecommender: URM Detected 627 ( 4.8%) users with no interactions.\n",
      "ItemKNNCFRecommender: URM Detected 247 ( 1.1%) items with no interactions.\n",
      "Similarity column 22347 (100.0%), 4580.47 column/sec. Elapsed time 4.88 sec\n",
      "RP3betaRecommender: URM Detected 627 ( 4.8%) users with no interactions.\n",
      "RP3betaRecommender: URM Detected 247 ( 1.1%) items with no interactions.\n",
      "RP3betaRecommender: Similarity column 22347 (100.0%), 2581.41 column/sec. Elapsed time 8.66 sec\n",
      "P3alphaRecommender: URM Detected 627 ( 4.8%) users with no interactions.\n",
      "P3alphaRecommender: URM Detected 247 ( 1.1%) items with no interactions.\n",
      "P3alphaRecommender: Similarity column 22347 (100.0%), 2989.54 column/sec. Elapsed time 7.48 sec\n",
      "SLIMElasticNetRecommender: URM Detected 627 ( 4.8%) users with no interactions.\n",
      "SLIMElasticNetRecommender: URM Detected 247 ( 1.1%) items with no interactions.\n",
      "SLIMElasticNetRecommender: Loading model from file '/kaggle/working/Recsys_Challenge_2023/models/slim_elastic_train_validation.zip'\n",
      "SLIMElasticNetRecommender: Loading complete\n",
      "IALSRecommender: URM Detected 627 ( 4.8%) users with no interactions.\n",
      "IALSRecommender: URM Detected 247 ( 1.1%) items with no interactions.\n",
      "IALSRecommender: Loading model from file '/kaggle/working/ials_train_validation.zip'\n",
      "IALSRecommender: Loading complete\n",
      "ItemKNNSimilarityHybridRecommender: URM Detected 627 ( 4.8%) users with no interactions.\n",
      "ItemKNNSimilarityHybridRecommender: URM Detected 247 ( 1.1%) items with no interactions.\n"
     ]
    }
   ],
   "source": [
    "recommender_item = ItemKNNCFRecommender(URM_train)\n",
    "recommender_item.fit(**params_item_knn)\n",
    "\n",
    "recommender_rp3 = RP3betaRecommender(URM_train)\n",
    "recommender_rp3.fit(**params_rp3)\n",
    "\n",
    "recommender_p3a = P3alphaRecommender(URM_train)\n",
    "recommender_p3a.fit(**params_p3alpha)\n",
    "\n",
    "recommender_slim = SLIMElasticNetRecommender(URM_train)\n",
    "recommender_slim.load_model('/kaggle/working/Recsys_Challenge_2023/models/', 'slim_elastic_train_validation.zip')\n",
    "\n",
    "recommender_ials = IALSRecommender(URM_train)\n",
    "recommender_ials.load_model('/kaggle/working/', 'ials_train_validation.zip')\n",
    "\n",
    "hybrid_similarity = ItemKNNSimilarityHybridRecommender(URM_train, recommender_item.W_sparse, recommender_rp3.W_sparse)\n",
    "hybrid_similarity.fit(**params_merging)"
   ]
  },
  {
   "cell_type": "code",
   "execution_count": 19,
   "id": "62f4baea",
   "metadata": {
    "execution": {
     "iopub.execute_input": "2023-12-03T20:03:43.092679Z",
     "iopub.status.busy": "2023-12-03T20:03:43.091829Z",
     "iopub.status.idle": "2023-12-03T20:03:43.103871Z",
     "shell.execute_reply": "2023-12-03T20:03:43.102617Z"
    },
    "papermill": {
     "duration": 0.040422,
     "end_time": "2023-12-03T20:03:43.106374",
     "exception": false,
     "start_time": "2023-12-03T20:03:43.065952",
     "status": "completed"
    },
    "tags": []
   },
   "outputs": [],
   "source": [
    "class PipelineRecommender(BaseRecommender):\n",
    "    def __init__(self, URM_train, recommenders, cutoffs):\n",
    "        super(PipelineRecommender, self).__init__(URM_train)\n",
    "        self.recommenders = recommenders\n",
    "        self.cutoffs = cutoffs\n",
    "        \n",
    "    def recommend(self, user_ids, cutoff=10, remove_seen_flag=True, remove_top_pop_flag=False, return_scores=True, remove_custom_items_flag=True):\n",
    "        \n",
    "        recommendations = []\n",
    "        scores = np.empty(shape=(0, self.URM_train.shape[1]))\n",
    "        item_ids = np.arange(self.URM_train.shape[1])\n",
    "        \n",
    "        for user_id in user_ids:\n",
    "            current_recommendations = item_ids.copy()\n",
    "            for recommender, cut in zip(self.recommenders, self.cutoffs):\n",
    "                current_recommendations = recommender.recommend(\n",
    "                    user_id,\n",
    "                    cutoff=cut,\n",
    "                    items_to_compute=current_recommendations,\n",
    "                    remove_seen_flag=remove_seen_flag, \n",
    "                    remove_top_pop_flag=remove_top_pop_flag, \n",
    "                    return_scores=False, \n",
    "                    remove_custom_items_flag=remove_custom_items_flag\n",
    "                )\n",
    "                \n",
    "            recommendations.append(current_recommendations[:cutoff])\n",
    "            items_score = self.recommenders[-1]._compute_item_score([user_id], current_recommendations[:cutoff])\n",
    "            scores = np.concatenate([scores, items_score])\n",
    "            \n",
    "        if return_scores:\n",
    "            return np.array(recommendations), scores\n",
    "        return np.array(recommendations)"
   ]
  },
  {
   "cell_type": "code",
   "execution_count": 20,
   "id": "7dbd7486",
   "metadata": {
    "execution": {
     "iopub.execute_input": "2023-12-03T20:03:43.157027Z",
     "iopub.status.busy": "2023-12-03T20:03:43.156620Z",
     "iopub.status.idle": "2023-12-03T20:04:46.255129Z",
     "shell.execute_reply": "2023-12-03T20:04:46.253997Z"
    },
    "papermill": {
     "duration": 63.126712,
     "end_time": "2023-12-03T20:04:46.257645",
     "exception": false,
     "start_time": "2023-12-03T20:03:43.130933",
     "status": "completed"
    },
    "tags": []
   },
   "outputs": [
    {
     "name": "stdout",
     "output_type": "stream",
     "text": [
      "EvaluatorHoldout: Ignoring 2568 (19.7%) Users that have less than 1 test interactions\n",
      "Merging Models\n",
      "EvaluatorHoldout: Processed 10456 (100.0%) in 9.11 sec. Users per second: 1148\n"
     ]
    },
    {
     "data": {
      "text/html": [
       "<div>\n",
       "<style scoped>\n",
       "    .dataframe tbody tr th:only-of-type {\n",
       "        vertical-align: middle;\n",
       "    }\n",
       "\n",
       "    .dataframe tbody tr th {\n",
       "        vertical-align: top;\n",
       "    }\n",
       "\n",
       "    .dataframe thead th {\n",
       "        text-align: right;\n",
       "    }\n",
       "</style>\n",
       "<table border=\"1\" class=\"dataframe\">\n",
       "  <thead>\n",
       "    <tr style=\"text-align: right;\">\n",
       "      <th></th>\n",
       "      <th>PRECISION</th>\n",
       "      <th>PRECISION_RECALL_MIN_DEN</th>\n",
       "      <th>RECALL</th>\n",
       "      <th>MAP</th>\n",
       "      <th>MAP_MIN_DEN</th>\n",
       "      <th>MRR</th>\n",
       "      <th>NDCG</th>\n",
       "      <th>F1</th>\n",
       "      <th>HIT_RATE</th>\n",
       "      <th>ARHR_ALL_HITS</th>\n",
       "      <th>...</th>\n",
       "      <th>COVERAGE_USER</th>\n",
       "      <th>COVERAGE_USER_HIT</th>\n",
       "      <th>USERS_IN_GT</th>\n",
       "      <th>DIVERSITY_GINI</th>\n",
       "      <th>SHANNON_ENTROPY</th>\n",
       "      <th>RATIO_DIVERSITY_HERFINDAHL</th>\n",
       "      <th>RATIO_DIVERSITY_GINI</th>\n",
       "      <th>RATIO_SHANNON_ENTROPY</th>\n",
       "      <th>RATIO_AVERAGE_POPULARITY</th>\n",
       "      <th>RATIO_NOVELTY</th>\n",
       "    </tr>\n",
       "    <tr>\n",
       "      <th>cutoff</th>\n",
       "      <th></th>\n",
       "      <th></th>\n",
       "      <th></th>\n",
       "      <th></th>\n",
       "      <th></th>\n",
       "      <th></th>\n",
       "      <th></th>\n",
       "      <th></th>\n",
       "      <th></th>\n",
       "      <th></th>\n",
       "      <th></th>\n",
       "      <th></th>\n",
       "      <th></th>\n",
       "      <th></th>\n",
       "      <th></th>\n",
       "      <th></th>\n",
       "      <th></th>\n",
       "      <th></th>\n",
       "      <th></th>\n",
       "      <th></th>\n",
       "      <th></th>\n",
       "    </tr>\n",
       "  </thead>\n",
       "  <tbody>\n",
       "    <tr>\n",
       "      <th>10</th>\n",
       "      <td>0.097102</td>\n",
       "      <td>0.165756</td>\n",
       "      <td>0.139351</td>\n",
       "      <td>0.050173</td>\n",
       "      <td>0.085482</td>\n",
       "      <td>0.27428</td>\n",
       "      <td>0.152762</td>\n",
       "      <td>0.114452</td>\n",
       "      <td>0.520658</td>\n",
       "      <td>0.365828</td>\n",
       "      <td>...</td>\n",
       "      <td>0.802826</td>\n",
       "      <td>0.417998</td>\n",
       "      <td>0.802826</td>\n",
       "      <td>0.087463</td>\n",
       "      <td>10.729146</td>\n",
       "      <td>0.998493</td>\n",
       "      <td>0.252365</td>\n",
       "      <td>0.826532</td>\n",
       "      <td>1.477653</td>\n",
       "      <td>0.310478</td>\n",
       "    </tr>\n",
       "  </tbody>\n",
       "</table>\n",
       "<p>1 rows × 27 columns</p>\n",
       "</div>"
      ],
      "text/plain": [
       "       PRECISION PRECISION_RECALL_MIN_DEN    RECALL       MAP MAP_MIN_DEN  \\\n",
       "cutoff                                                                      \n",
       "10      0.097102                 0.165756  0.139351  0.050173    0.085482   \n",
       "\n",
       "            MRR      NDCG        F1  HIT_RATE ARHR_ALL_HITS  ...  \\\n",
       "cutoff                                                       ...   \n",
       "10      0.27428  0.152762  0.114452  0.520658      0.365828  ...   \n",
       "\n",
       "       COVERAGE_USER COVERAGE_USER_HIT USERS_IN_GT DIVERSITY_GINI  \\\n",
       "cutoff                                                              \n",
       "10          0.802826          0.417998    0.802826       0.087463   \n",
       "\n",
       "       SHANNON_ENTROPY RATIO_DIVERSITY_HERFINDAHL RATIO_DIVERSITY_GINI  \\\n",
       "cutoff                                                                   \n",
       "10           10.729146                   0.998493             0.252365   \n",
       "\n",
       "       RATIO_SHANNON_ENTROPY RATIO_AVERAGE_POPULARITY RATIO_NOVELTY  \n",
       "cutoff                                                               \n",
       "10                  0.826532                 1.477653      0.310478  \n",
       "\n",
       "[1 rows x 27 columns]"
      ]
     },
     "metadata": {},
     "output_type": "display_data"
    },
    {
     "name": "stdout",
     "output_type": "stream",
     "text": [
      "Item KNN\n",
      "EvaluatorHoldout: Processed 10456 (100.0%) in 8.89 sec. Users per second: 1176\n"
     ]
    },
    {
     "data": {
      "text/html": [
       "<div>\n",
       "<style scoped>\n",
       "    .dataframe tbody tr th:only-of-type {\n",
       "        vertical-align: middle;\n",
       "    }\n",
       "\n",
       "    .dataframe tbody tr th {\n",
       "        vertical-align: top;\n",
       "    }\n",
       "\n",
       "    .dataframe thead th {\n",
       "        text-align: right;\n",
       "    }\n",
       "</style>\n",
       "<table border=\"1\" class=\"dataframe\">\n",
       "  <thead>\n",
       "    <tr style=\"text-align: right;\">\n",
       "      <th></th>\n",
       "      <th>PRECISION</th>\n",
       "      <th>PRECISION_RECALL_MIN_DEN</th>\n",
       "      <th>RECALL</th>\n",
       "      <th>MAP</th>\n",
       "      <th>MAP_MIN_DEN</th>\n",
       "      <th>MRR</th>\n",
       "      <th>NDCG</th>\n",
       "      <th>F1</th>\n",
       "      <th>HIT_RATE</th>\n",
       "      <th>ARHR_ALL_HITS</th>\n",
       "      <th>...</th>\n",
       "      <th>COVERAGE_USER</th>\n",
       "      <th>COVERAGE_USER_HIT</th>\n",
       "      <th>USERS_IN_GT</th>\n",
       "      <th>DIVERSITY_GINI</th>\n",
       "      <th>SHANNON_ENTROPY</th>\n",
       "      <th>RATIO_DIVERSITY_HERFINDAHL</th>\n",
       "      <th>RATIO_DIVERSITY_GINI</th>\n",
       "      <th>RATIO_SHANNON_ENTROPY</th>\n",
       "      <th>RATIO_AVERAGE_POPULARITY</th>\n",
       "      <th>RATIO_NOVELTY</th>\n",
       "    </tr>\n",
       "    <tr>\n",
       "      <th>cutoff</th>\n",
       "      <th></th>\n",
       "      <th></th>\n",
       "      <th></th>\n",
       "      <th></th>\n",
       "      <th></th>\n",
       "      <th></th>\n",
       "      <th></th>\n",
       "      <th></th>\n",
       "      <th></th>\n",
       "      <th></th>\n",
       "      <th></th>\n",
       "      <th></th>\n",
       "      <th></th>\n",
       "      <th></th>\n",
       "      <th></th>\n",
       "      <th></th>\n",
       "      <th></th>\n",
       "      <th></th>\n",
       "      <th></th>\n",
       "      <th></th>\n",
       "      <th></th>\n",
       "    </tr>\n",
       "  </thead>\n",
       "  <tbody>\n",
       "    <tr>\n",
       "      <th>10</th>\n",
       "      <td>0.09451</td>\n",
       "      <td>0.161146</td>\n",
       "      <td>0.135378</td>\n",
       "      <td>0.048719</td>\n",
       "      <td>0.082976</td>\n",
       "      <td>0.267977</td>\n",
       "      <td>0.148683</td>\n",
       "      <td>0.111312</td>\n",
       "      <td>0.511572</td>\n",
       "      <td>0.356662</td>\n",
       "      <td>...</td>\n",
       "      <td>0.802826</td>\n",
       "      <td>0.410703</td>\n",
       "      <td>0.802826</td>\n",
       "      <td>0.066309</td>\n",
       "      <td>10.283111</td>\n",
       "      <td>0.997789</td>\n",
       "      <td>0.191329</td>\n",
       "      <td>0.792171</td>\n",
       "      <td>1.734564</td>\n",
       "      <td>0.30426</td>\n",
       "    </tr>\n",
       "  </tbody>\n",
       "</table>\n",
       "<p>1 rows × 27 columns</p>\n",
       "</div>"
      ],
      "text/plain": [
       "       PRECISION PRECISION_RECALL_MIN_DEN    RECALL       MAP MAP_MIN_DEN  \\\n",
       "cutoff                                                                      \n",
       "10       0.09451                 0.161146  0.135378  0.048719    0.082976   \n",
       "\n",
       "             MRR      NDCG        F1  HIT_RATE ARHR_ALL_HITS  ...  \\\n",
       "cutoff                                                        ...   \n",
       "10      0.267977  0.148683  0.111312  0.511572      0.356662  ...   \n",
       "\n",
       "       COVERAGE_USER COVERAGE_USER_HIT USERS_IN_GT DIVERSITY_GINI  \\\n",
       "cutoff                                                              \n",
       "10          0.802826          0.410703    0.802826       0.066309   \n",
       "\n",
       "       SHANNON_ENTROPY RATIO_DIVERSITY_HERFINDAHL RATIO_DIVERSITY_GINI  \\\n",
       "cutoff                                                                   \n",
       "10           10.283111                   0.997789             0.191329   \n",
       "\n",
       "       RATIO_SHANNON_ENTROPY RATIO_AVERAGE_POPULARITY RATIO_NOVELTY  \n",
       "cutoff                                                               \n",
       "10                  0.792171                 1.734564       0.30426  \n",
       "\n",
       "[1 rows x 27 columns]"
      ]
     },
     "metadata": {},
     "output_type": "display_data"
    },
    {
     "name": "stdout",
     "output_type": "stream",
     "text": [
      "RP3 beta\n",
      "EvaluatorHoldout: Processed 10456 (100.0%) in 9.08 sec. Users per second: 1152\n"
     ]
    },
    {
     "data": {
      "text/html": [
       "<div>\n",
       "<style scoped>\n",
       "    .dataframe tbody tr th:only-of-type {\n",
       "        vertical-align: middle;\n",
       "    }\n",
       "\n",
       "    .dataframe tbody tr th {\n",
       "        vertical-align: top;\n",
       "    }\n",
       "\n",
       "    .dataframe thead th {\n",
       "        text-align: right;\n",
       "    }\n",
       "</style>\n",
       "<table border=\"1\" class=\"dataframe\">\n",
       "  <thead>\n",
       "    <tr style=\"text-align: right;\">\n",
       "      <th></th>\n",
       "      <th>PRECISION</th>\n",
       "      <th>PRECISION_RECALL_MIN_DEN</th>\n",
       "      <th>RECALL</th>\n",
       "      <th>MAP</th>\n",
       "      <th>MAP_MIN_DEN</th>\n",
       "      <th>MRR</th>\n",
       "      <th>NDCG</th>\n",
       "      <th>F1</th>\n",
       "      <th>HIT_RATE</th>\n",
       "      <th>ARHR_ALL_HITS</th>\n",
       "      <th>...</th>\n",
       "      <th>COVERAGE_USER</th>\n",
       "      <th>COVERAGE_USER_HIT</th>\n",
       "      <th>USERS_IN_GT</th>\n",
       "      <th>DIVERSITY_GINI</th>\n",
       "      <th>SHANNON_ENTROPY</th>\n",
       "      <th>RATIO_DIVERSITY_HERFINDAHL</th>\n",
       "      <th>RATIO_DIVERSITY_GINI</th>\n",
       "      <th>RATIO_SHANNON_ENTROPY</th>\n",
       "      <th>RATIO_AVERAGE_POPULARITY</th>\n",
       "      <th>RATIO_NOVELTY</th>\n",
       "    </tr>\n",
       "    <tr>\n",
       "      <th>cutoff</th>\n",
       "      <th></th>\n",
       "      <th></th>\n",
       "      <th></th>\n",
       "      <th></th>\n",
       "      <th></th>\n",
       "      <th></th>\n",
       "      <th></th>\n",
       "      <th></th>\n",
       "      <th></th>\n",
       "      <th></th>\n",
       "      <th></th>\n",
       "      <th></th>\n",
       "      <th></th>\n",
       "      <th></th>\n",
       "      <th></th>\n",
       "      <th></th>\n",
       "      <th></th>\n",
       "      <th></th>\n",
       "      <th></th>\n",
       "      <th></th>\n",
       "      <th></th>\n",
       "    </tr>\n",
       "  </thead>\n",
       "  <tbody>\n",
       "    <tr>\n",
       "      <th>10</th>\n",
       "      <td>0.095142</td>\n",
       "      <td>0.162942</td>\n",
       "      <td>0.137028</td>\n",
       "      <td>0.049128</td>\n",
       "      <td>0.084213</td>\n",
       "      <td>0.272898</td>\n",
       "      <td>0.150737</td>\n",
       "      <td>0.112306</td>\n",
       "      <td>0.516928</td>\n",
       "      <td>0.361499</td>\n",
       "      <td>...</td>\n",
       "      <td>0.802826</td>\n",
       "      <td>0.415003</td>\n",
       "      <td>0.802826</td>\n",
       "      <td>0.101166</td>\n",
       "      <td>10.971423</td>\n",
       "      <td>0.998795</td>\n",
       "      <td>0.291905</td>\n",
       "      <td>0.845196</td>\n",
       "      <td>1.298409</td>\n",
       "      <td>0.317386</td>\n",
       "    </tr>\n",
       "  </tbody>\n",
       "</table>\n",
       "<p>1 rows × 27 columns</p>\n",
       "</div>"
      ],
      "text/plain": [
       "       PRECISION PRECISION_RECALL_MIN_DEN    RECALL       MAP MAP_MIN_DEN  \\\n",
       "cutoff                                                                      \n",
       "10      0.095142                 0.162942  0.137028  0.049128    0.084213   \n",
       "\n",
       "             MRR      NDCG        F1  HIT_RATE ARHR_ALL_HITS  ...  \\\n",
       "cutoff                                                        ...   \n",
       "10      0.272898  0.150737  0.112306  0.516928      0.361499  ...   \n",
       "\n",
       "       COVERAGE_USER COVERAGE_USER_HIT USERS_IN_GT DIVERSITY_GINI  \\\n",
       "cutoff                                                              \n",
       "10          0.802826          0.415003    0.802826       0.101166   \n",
       "\n",
       "       SHANNON_ENTROPY RATIO_DIVERSITY_HERFINDAHL RATIO_DIVERSITY_GINI  \\\n",
       "cutoff                                                                   \n",
       "10           10.971423                   0.998795             0.291905   \n",
       "\n",
       "       RATIO_SHANNON_ENTROPY RATIO_AVERAGE_POPULARITY RATIO_NOVELTY  \n",
       "cutoff                                                               \n",
       "10                  0.845196                 1.298409      0.317386  \n",
       "\n",
       "[1 rows x 27 columns]"
      ]
     },
     "metadata": {},
     "output_type": "display_data"
    },
    {
     "name": "stdout",
     "output_type": "stream",
     "text": [
      "P3 alpha\n",
      "EvaluatorHoldout: Processed 10456 (100.0%) in 8.78 sec. Users per second: 1191\n"
     ]
    },
    {
     "data": {
      "text/html": [
       "<div>\n",
       "<style scoped>\n",
       "    .dataframe tbody tr th:only-of-type {\n",
       "        vertical-align: middle;\n",
       "    }\n",
       "\n",
       "    .dataframe tbody tr th {\n",
       "        vertical-align: top;\n",
       "    }\n",
       "\n",
       "    .dataframe thead th {\n",
       "        text-align: right;\n",
       "    }\n",
       "</style>\n",
       "<table border=\"1\" class=\"dataframe\">\n",
       "  <thead>\n",
       "    <tr style=\"text-align: right;\">\n",
       "      <th></th>\n",
       "      <th>PRECISION</th>\n",
       "      <th>PRECISION_RECALL_MIN_DEN</th>\n",
       "      <th>RECALL</th>\n",
       "      <th>MAP</th>\n",
       "      <th>MAP_MIN_DEN</th>\n",
       "      <th>MRR</th>\n",
       "      <th>NDCG</th>\n",
       "      <th>F1</th>\n",
       "      <th>HIT_RATE</th>\n",
       "      <th>ARHR_ALL_HITS</th>\n",
       "      <th>...</th>\n",
       "      <th>COVERAGE_USER</th>\n",
       "      <th>COVERAGE_USER_HIT</th>\n",
       "      <th>USERS_IN_GT</th>\n",
       "      <th>DIVERSITY_GINI</th>\n",
       "      <th>SHANNON_ENTROPY</th>\n",
       "      <th>RATIO_DIVERSITY_HERFINDAHL</th>\n",
       "      <th>RATIO_DIVERSITY_GINI</th>\n",
       "      <th>RATIO_SHANNON_ENTROPY</th>\n",
       "      <th>RATIO_AVERAGE_POPULARITY</th>\n",
       "      <th>RATIO_NOVELTY</th>\n",
       "    </tr>\n",
       "    <tr>\n",
       "      <th>cutoff</th>\n",
       "      <th></th>\n",
       "      <th></th>\n",
       "      <th></th>\n",
       "      <th></th>\n",
       "      <th></th>\n",
       "      <th></th>\n",
       "      <th></th>\n",
       "      <th></th>\n",
       "      <th></th>\n",
       "      <th></th>\n",
       "      <th></th>\n",
       "      <th></th>\n",
       "      <th></th>\n",
       "      <th></th>\n",
       "      <th></th>\n",
       "      <th></th>\n",
       "      <th></th>\n",
       "      <th></th>\n",
       "      <th></th>\n",
       "      <th></th>\n",
       "      <th></th>\n",
       "    </tr>\n",
       "  </thead>\n",
       "  <tbody>\n",
       "    <tr>\n",
       "      <th>10</th>\n",
       "      <td>0.092358</td>\n",
       "      <td>0.15618</td>\n",
       "      <td>0.130929</td>\n",
       "      <td>0.047745</td>\n",
       "      <td>0.081353</td>\n",
       "      <td>0.267656</td>\n",
       "      <td>0.146022</td>\n",
       "      <td>0.108312</td>\n",
       "      <td>0.507269</td>\n",
       "      <td>0.352674</td>\n",
       "      <td>...</td>\n",
       "      <td>0.802826</td>\n",
       "      <td>0.407248</td>\n",
       "      <td>0.802826</td>\n",
       "      <td>0.069984</td>\n",
       "      <td>10.530815</td>\n",
       "      <td>0.998437</td>\n",
       "      <td>0.201933</td>\n",
       "      <td>0.811253</td>\n",
       "      <td>1.356167</td>\n",
       "      <td>0.311674</td>\n",
       "    </tr>\n",
       "  </tbody>\n",
       "</table>\n",
       "<p>1 rows × 27 columns</p>\n",
       "</div>"
      ],
      "text/plain": [
       "       PRECISION PRECISION_RECALL_MIN_DEN    RECALL       MAP MAP_MIN_DEN  \\\n",
       "cutoff                                                                      \n",
       "10      0.092358                  0.15618  0.130929  0.047745    0.081353   \n",
       "\n",
       "             MRR      NDCG        F1  HIT_RATE ARHR_ALL_HITS  ...  \\\n",
       "cutoff                                                        ...   \n",
       "10      0.267656  0.146022  0.108312  0.507269      0.352674  ...   \n",
       "\n",
       "       COVERAGE_USER COVERAGE_USER_HIT USERS_IN_GT DIVERSITY_GINI  \\\n",
       "cutoff                                                              \n",
       "10          0.802826          0.407248    0.802826       0.069984   \n",
       "\n",
       "       SHANNON_ENTROPY RATIO_DIVERSITY_HERFINDAHL RATIO_DIVERSITY_GINI  \\\n",
       "cutoff                                                                   \n",
       "10           10.530815                   0.998437             0.201933   \n",
       "\n",
       "       RATIO_SHANNON_ENTROPY RATIO_AVERAGE_POPULARITY RATIO_NOVELTY  \n",
       "cutoff                                                               \n",
       "10                  0.811253                 1.356167      0.311674  \n",
       "\n",
       "[1 rows x 27 columns]"
      ]
     },
     "metadata": {},
     "output_type": "display_data"
    },
    {
     "name": "stdout",
     "output_type": "stream",
     "text": [
      "SLIM Elastic\n",
      "EvaluatorHoldout: Processed 10456 (100.0%) in 12.29 sec. Users per second: 851\n"
     ]
    },
    {
     "data": {
      "text/html": [
       "<div>\n",
       "<style scoped>\n",
       "    .dataframe tbody tr th:only-of-type {\n",
       "        vertical-align: middle;\n",
       "    }\n",
       "\n",
       "    .dataframe tbody tr th {\n",
       "        vertical-align: top;\n",
       "    }\n",
       "\n",
       "    .dataframe thead th {\n",
       "        text-align: right;\n",
       "    }\n",
       "</style>\n",
       "<table border=\"1\" class=\"dataframe\">\n",
       "  <thead>\n",
       "    <tr style=\"text-align: right;\">\n",
       "      <th></th>\n",
       "      <th>PRECISION</th>\n",
       "      <th>PRECISION_RECALL_MIN_DEN</th>\n",
       "      <th>RECALL</th>\n",
       "      <th>MAP</th>\n",
       "      <th>MAP_MIN_DEN</th>\n",
       "      <th>MRR</th>\n",
       "      <th>NDCG</th>\n",
       "      <th>F1</th>\n",
       "      <th>HIT_RATE</th>\n",
       "      <th>ARHR_ALL_HITS</th>\n",
       "      <th>...</th>\n",
       "      <th>COVERAGE_USER</th>\n",
       "      <th>COVERAGE_USER_HIT</th>\n",
       "      <th>USERS_IN_GT</th>\n",
       "      <th>DIVERSITY_GINI</th>\n",
       "      <th>SHANNON_ENTROPY</th>\n",
       "      <th>RATIO_DIVERSITY_HERFINDAHL</th>\n",
       "      <th>RATIO_DIVERSITY_GINI</th>\n",
       "      <th>RATIO_SHANNON_ENTROPY</th>\n",
       "      <th>RATIO_AVERAGE_POPULARITY</th>\n",
       "      <th>RATIO_NOVELTY</th>\n",
       "    </tr>\n",
       "    <tr>\n",
       "      <th>cutoff</th>\n",
       "      <th></th>\n",
       "      <th></th>\n",
       "      <th></th>\n",
       "      <th></th>\n",
       "      <th></th>\n",
       "      <th></th>\n",
       "      <th></th>\n",
       "      <th></th>\n",
       "      <th></th>\n",
       "      <th></th>\n",
       "      <th></th>\n",
       "      <th></th>\n",
       "      <th></th>\n",
       "      <th></th>\n",
       "      <th></th>\n",
       "      <th></th>\n",
       "      <th></th>\n",
       "      <th></th>\n",
       "      <th></th>\n",
       "      <th></th>\n",
       "      <th></th>\n",
       "    </tr>\n",
       "  </thead>\n",
       "  <tbody>\n",
       "    <tr>\n",
       "      <th>10</th>\n",
       "      <td>0.097379</td>\n",
       "      <td>0.16502</td>\n",
       "      <td>0.138508</td>\n",
       "      <td>0.051089</td>\n",
       "      <td>0.086077</td>\n",
       "      <td>0.282425</td>\n",
       "      <td>0.154158</td>\n",
       "      <td>0.114358</td>\n",
       "      <td>0.524962</td>\n",
       "      <td>0.375002</td>\n",
       "      <td>...</td>\n",
       "      <td>0.802826</td>\n",
       "      <td>0.421453</td>\n",
       "      <td>0.802826</td>\n",
       "      <td>0.065098</td>\n",
       "      <td>10.631702</td>\n",
       "      <td>0.9989</td>\n",
       "      <td>0.187832</td>\n",
       "      <td>0.819025</td>\n",
       "      <td>1.417992</td>\n",
       "      <td>0.303398</td>\n",
       "    </tr>\n",
       "  </tbody>\n",
       "</table>\n",
       "<p>1 rows × 27 columns</p>\n",
       "</div>"
      ],
      "text/plain": [
       "       PRECISION PRECISION_RECALL_MIN_DEN    RECALL       MAP MAP_MIN_DEN  \\\n",
       "cutoff                                                                      \n",
       "10      0.097379                  0.16502  0.138508  0.051089    0.086077   \n",
       "\n",
       "             MRR      NDCG        F1  HIT_RATE ARHR_ALL_HITS  ...  \\\n",
       "cutoff                                                        ...   \n",
       "10      0.282425  0.154158  0.114358  0.524962      0.375002  ...   \n",
       "\n",
       "       COVERAGE_USER COVERAGE_USER_HIT USERS_IN_GT DIVERSITY_GINI  \\\n",
       "cutoff                                                              \n",
       "10          0.802826          0.421453    0.802826       0.065098   \n",
       "\n",
       "       SHANNON_ENTROPY RATIO_DIVERSITY_HERFINDAHL RATIO_DIVERSITY_GINI  \\\n",
       "cutoff                                                                   \n",
       "10           10.631702                     0.9989             0.187832   \n",
       "\n",
       "       RATIO_SHANNON_ENTROPY RATIO_AVERAGE_POPULARITY RATIO_NOVELTY  \n",
       "cutoff                                                               \n",
       "10                  0.819025                 1.417992      0.303398  \n",
       "\n",
       "[1 rows x 27 columns]"
      ]
     },
     "metadata": {},
     "output_type": "display_data"
    },
    {
     "name": "stdout",
     "output_type": "stream",
     "text": [
      "IALS\n",
      "EvaluatorHoldout: Processed 10456 (100.0%) in 14.73 sec. Users per second: 710\n"
     ]
    },
    {
     "data": {
      "text/html": [
       "<div>\n",
       "<style scoped>\n",
       "    .dataframe tbody tr th:only-of-type {\n",
       "        vertical-align: middle;\n",
       "    }\n",
       "\n",
       "    .dataframe tbody tr th {\n",
       "        vertical-align: top;\n",
       "    }\n",
       "\n",
       "    .dataframe thead th {\n",
       "        text-align: right;\n",
       "    }\n",
       "</style>\n",
       "<table border=\"1\" class=\"dataframe\">\n",
       "  <thead>\n",
       "    <tr style=\"text-align: right;\">\n",
       "      <th></th>\n",
       "      <th>PRECISION</th>\n",
       "      <th>PRECISION_RECALL_MIN_DEN</th>\n",
       "      <th>RECALL</th>\n",
       "      <th>MAP</th>\n",
       "      <th>MAP_MIN_DEN</th>\n",
       "      <th>MRR</th>\n",
       "      <th>NDCG</th>\n",
       "      <th>F1</th>\n",
       "      <th>HIT_RATE</th>\n",
       "      <th>ARHR_ALL_HITS</th>\n",
       "      <th>...</th>\n",
       "      <th>COVERAGE_USER</th>\n",
       "      <th>COVERAGE_USER_HIT</th>\n",
       "      <th>USERS_IN_GT</th>\n",
       "      <th>DIVERSITY_GINI</th>\n",
       "      <th>SHANNON_ENTROPY</th>\n",
       "      <th>RATIO_DIVERSITY_HERFINDAHL</th>\n",
       "      <th>RATIO_DIVERSITY_GINI</th>\n",
       "      <th>RATIO_SHANNON_ENTROPY</th>\n",
       "      <th>RATIO_AVERAGE_POPULARITY</th>\n",
       "      <th>RATIO_NOVELTY</th>\n",
       "    </tr>\n",
       "    <tr>\n",
       "      <th>cutoff</th>\n",
       "      <th></th>\n",
       "      <th></th>\n",
       "      <th></th>\n",
       "      <th></th>\n",
       "      <th></th>\n",
       "      <th></th>\n",
       "      <th></th>\n",
       "      <th></th>\n",
       "      <th></th>\n",
       "      <th></th>\n",
       "      <th></th>\n",
       "      <th></th>\n",
       "      <th></th>\n",
       "      <th></th>\n",
       "      <th></th>\n",
       "      <th></th>\n",
       "      <th></th>\n",
       "      <th></th>\n",
       "      <th></th>\n",
       "      <th></th>\n",
       "      <th></th>\n",
       "    </tr>\n",
       "  </thead>\n",
       "  <tbody>\n",
       "    <tr>\n",
       "      <th>10</th>\n",
       "      <td>0.08224</td>\n",
       "      <td>0.144123</td>\n",
       "      <td>0.122645</td>\n",
       "      <td>0.041501</td>\n",
       "      <td>0.071584</td>\n",
       "      <td>0.246255</td>\n",
       "      <td>0.131701</td>\n",
       "      <td>0.098458</td>\n",
       "      <td>0.479055</td>\n",
       "      <td>0.316769</td>\n",
       "      <td>...</td>\n",
       "      <td>0.802826</td>\n",
       "      <td>0.384598</td>\n",
       "      <td>0.802826</td>\n",
       "      <td>0.029074</td>\n",
       "      <td>9.74689</td>\n",
       "      <td>0.998532</td>\n",
       "      <td>0.08389</td>\n",
       "      <td>0.750862</td>\n",
       "      <td>1.599865</td>\n",
       "      <td>0.289534</td>\n",
       "    </tr>\n",
       "  </tbody>\n",
       "</table>\n",
       "<p>1 rows × 27 columns</p>\n",
       "</div>"
      ],
      "text/plain": [
       "       PRECISION PRECISION_RECALL_MIN_DEN    RECALL       MAP MAP_MIN_DEN  \\\n",
       "cutoff                                                                      \n",
       "10       0.08224                 0.144123  0.122645  0.041501    0.071584   \n",
       "\n",
       "             MRR      NDCG        F1  HIT_RATE ARHR_ALL_HITS  ...  \\\n",
       "cutoff                                                        ...   \n",
       "10      0.246255  0.131701  0.098458  0.479055      0.316769  ...   \n",
       "\n",
       "       COVERAGE_USER COVERAGE_USER_HIT USERS_IN_GT DIVERSITY_GINI  \\\n",
       "cutoff                                                              \n",
       "10          0.802826          0.384598    0.802826       0.029074   \n",
       "\n",
       "       SHANNON_ENTROPY RATIO_DIVERSITY_HERFINDAHL RATIO_DIVERSITY_GINI  \\\n",
       "cutoff                                                                   \n",
       "10             9.74689                   0.998532              0.08389   \n",
       "\n",
       "       RATIO_SHANNON_ENTROPY RATIO_AVERAGE_POPULARITY RATIO_NOVELTY  \n",
       "cutoff                                                               \n",
       "10                  0.750862                 1.599865      0.289534  \n",
       "\n",
       "[1 rows x 27 columns]"
      ]
     },
     "metadata": {},
     "output_type": "display_data"
    }
   ],
   "source": [
    "evaluator = EvaluatorHoldout(URM_test_complete, cutoff_list=[10])\n",
    "\n",
    "print('Merging Models')\n",
    "result_df, _ = evaluator.evaluateRecommender(hybrid_similarity)\n",
    "display(result_df)\n",
    "print('Item KNN')\n",
    "result_df, _ = evaluator.evaluateRecommender(recommender_item)\n",
    "display(result_df)\n",
    "print('RP3 beta')\n",
    "result_df, _ = evaluator.evaluateRecommender(recommender_rp3)\n",
    "display(result_df)\n",
    "print('P3 alpha')\n",
    "result_df, _ = evaluator.evaluateRecommender(recommender_p3a)\n",
    "display(result_df)\n",
    "print('SLIM Elastic')\n",
    "result_df, _ = evaluator.evaluateRecommender(recommender_slim)\n",
    "display(result_df)\n",
    "print('IALS')\n",
    "result_df, _ = evaluator.evaluateRecommender(recommender_ials)\n",
    "display(result_df)"
   ]
  },
  {
   "cell_type": "code",
   "execution_count": 21,
   "id": "f5193fd0",
   "metadata": {
    "execution": {
     "iopub.execute_input": "2023-12-03T20:04:46.314416Z",
     "iopub.status.busy": "2023-12-03T20:04:46.313262Z",
     "iopub.status.idle": "2023-12-03T20:04:46.325669Z",
     "shell.execute_reply": "2023-12-03T20:04:46.324507Z"
    },
    "papermill": {
     "duration": 0.043615,
     "end_time": "2023-12-03T20:04:46.328480",
     "exception": false,
     "start_time": "2023-12-03T20:04:46.284865",
     "status": "completed"
    },
    "tags": []
   },
   "outputs": [],
   "source": [
    "class PipelineRecommender(BaseRecommender):\n",
    "    def __init__(self, URM_train, recommenders: list[BaseRecommender], cutoffs):\n",
    "        super(PipelineRecommender, self).__init__(URM_train)\n",
    "        self.recommenders = recommenders\n",
    "        self.cutoffs = cutoffs\n",
    "        \n",
    "    def recommend(self, user_ids, cutoff=10, remove_seen_flag=True, remove_top_pop_flag=False, return_scores=True, remove_custom_items_flag=True):\n",
    "        \n",
    "        recommendations = None\n",
    "        for recommender_cutoff, recommender in zip(self.cutoffs, self.recommenders):\n",
    "            recommender_scores = recommender._compute_item_score(user_ids)\n",
    "            \n",
    "            for i, user_id in enumerate(user_ids):\n",
    "                recommender_scores[i, :] = self._remove_seen_on_scores(user_id, recommender_scores[i, :])\n",
    "            \n",
    "            if recommendations is None:\n",
    "                recommendations = np.argsort(recommender_scores, axis=1)[:, -recommender_cutoff:]\n",
    "                \n",
    "            else:\n",
    "                filtered_scores = np.full_like(recommender_scores, -np.inf)\n",
    "                for i in range(recommendations.shape[0]):\n",
    "                    row_indices = recommendations[i]\n",
    "                    filtered_scores[i, row_indices] = recommender_scores[i, row_indices]\n",
    "                recommendations = np.argsort(filtered_scores, axis=1)[:, -recommender_cutoff:]              \n",
    "                \n",
    "        if return_scores:\n",
    "            return np.flip(recommendations[:, -cutoff:], axis=1), filtered_scores\n",
    "        return np.flip(recommendations[:, -cutoff:], axis=1)"
   ]
  },
  {
   "cell_type": "code",
   "execution_count": 22,
   "id": "26b94e06",
   "metadata": {
    "execution": {
     "iopub.execute_input": "2023-12-03T20:04:46.386289Z",
     "iopub.status.busy": "2023-12-03T20:04:46.385816Z",
     "iopub.status.idle": "2023-12-03T20:05:13.288416Z",
     "shell.execute_reply": "2023-12-03T20:05:13.287072Z"
    },
    "papermill": {
     "duration": 26.934893,
     "end_time": "2023-12-03T20:05:13.291195",
     "exception": false,
     "start_time": "2023-12-03T20:04:46.356302",
     "status": "completed"
    },
    "tags": []
   },
   "outputs": [
    {
     "name": "stdout",
     "output_type": "stream",
     "text": [
      "Recommender_Base_Class: URM Detected 627 ( 4.8%) users with no interactions.\n",
      "Recommender_Base_Class: URM Detected 247 ( 1.1%) items with no interactions.\n",
      "EvaluatorHoldout: Processed 10456 (100.0%) in 26.85 sec. Users per second: 389\n"
     ]
    },
    {
     "data": {
      "text/html": [
       "<div>\n",
       "<style scoped>\n",
       "    .dataframe tbody tr th:only-of-type {\n",
       "        vertical-align: middle;\n",
       "    }\n",
       "\n",
       "    .dataframe tbody tr th {\n",
       "        vertical-align: top;\n",
       "    }\n",
       "\n",
       "    .dataframe thead th {\n",
       "        text-align: right;\n",
       "    }\n",
       "</style>\n",
       "<table border=\"1\" class=\"dataframe\">\n",
       "  <thead>\n",
       "    <tr style=\"text-align: right;\">\n",
       "      <th></th>\n",
       "      <th>PRECISION</th>\n",
       "      <th>PRECISION_RECALL_MIN_DEN</th>\n",
       "      <th>RECALL</th>\n",
       "      <th>MAP</th>\n",
       "      <th>MAP_MIN_DEN</th>\n",
       "      <th>MRR</th>\n",
       "      <th>NDCG</th>\n",
       "      <th>F1</th>\n",
       "      <th>HIT_RATE</th>\n",
       "      <th>ARHR_ALL_HITS</th>\n",
       "      <th>...</th>\n",
       "      <th>COVERAGE_USER</th>\n",
       "      <th>COVERAGE_USER_HIT</th>\n",
       "      <th>USERS_IN_GT</th>\n",
       "      <th>DIVERSITY_GINI</th>\n",
       "      <th>SHANNON_ENTROPY</th>\n",
       "      <th>RATIO_DIVERSITY_HERFINDAHL</th>\n",
       "      <th>RATIO_DIVERSITY_GINI</th>\n",
       "      <th>RATIO_SHANNON_ENTROPY</th>\n",
       "      <th>RATIO_AVERAGE_POPULARITY</th>\n",
       "      <th>RATIO_NOVELTY</th>\n",
       "    </tr>\n",
       "    <tr>\n",
       "      <th>cutoff</th>\n",
       "      <th></th>\n",
       "      <th></th>\n",
       "      <th></th>\n",
       "      <th></th>\n",
       "      <th></th>\n",
       "      <th></th>\n",
       "      <th></th>\n",
       "      <th></th>\n",
       "      <th></th>\n",
       "      <th></th>\n",
       "      <th></th>\n",
       "      <th></th>\n",
       "      <th></th>\n",
       "      <th></th>\n",
       "      <th></th>\n",
       "      <th></th>\n",
       "      <th></th>\n",
       "      <th></th>\n",
       "      <th></th>\n",
       "      <th></th>\n",
       "      <th></th>\n",
       "    </tr>\n",
       "  </thead>\n",
       "  <tbody>\n",
       "    <tr>\n",
       "      <th>10</th>\n",
       "      <td>0.09649</td>\n",
       "      <td>0.161026</td>\n",
       "      <td>0.1345</td>\n",
       "      <td>0.050916</td>\n",
       "      <td>0.085201</td>\n",
       "      <td>0.281619</td>\n",
       "      <td>0.152405</td>\n",
       "      <td>0.112368</td>\n",
       "      <td>0.519606</td>\n",
       "      <td>0.373746</td>\n",
       "      <td>...</td>\n",
       "      <td>0.802826</td>\n",
       "      <td>0.417153</td>\n",
       "      <td>0.802826</td>\n",
       "      <td>0.082387</td>\n",
       "      <td>10.928675</td>\n",
       "      <td>0.999092</td>\n",
       "      <td>0.23772</td>\n",
       "      <td>0.841903</td>\n",
       "      <td>1.190998</td>\n",
       "      <td>0.313387</td>\n",
       "    </tr>\n",
       "  </tbody>\n",
       "</table>\n",
       "<p>1 rows × 27 columns</p>\n",
       "</div>"
      ],
      "text/plain": [
       "       PRECISION PRECISION_RECALL_MIN_DEN  RECALL       MAP MAP_MIN_DEN  \\\n",
       "cutoff                                                                    \n",
       "10       0.09649                 0.161026  0.1345  0.050916    0.085201   \n",
       "\n",
       "             MRR      NDCG        F1  HIT_RATE ARHR_ALL_HITS  ...  \\\n",
       "cutoff                                                        ...   \n",
       "10      0.281619  0.152405  0.112368  0.519606      0.373746  ...   \n",
       "\n",
       "       COVERAGE_USER COVERAGE_USER_HIT USERS_IN_GT DIVERSITY_GINI  \\\n",
       "cutoff                                                              \n",
       "10          0.802826          0.417153    0.802826       0.082387   \n",
       "\n",
       "       SHANNON_ENTROPY RATIO_DIVERSITY_HERFINDAHL RATIO_DIVERSITY_GINI  \\\n",
       "cutoff                                                                   \n",
       "10           10.928675                   0.999092              0.23772   \n",
       "\n",
       "       RATIO_SHANNON_ENTROPY RATIO_AVERAGE_POPULARITY RATIO_NOVELTY  \n",
       "cutoff                                                               \n",
       "10                  0.841903                 1.190998      0.313387  \n",
       "\n",
       "[1 rows x 27 columns]"
      ]
     },
     "metadata": {},
     "output_type": "display_data"
    }
   ],
   "source": [
    "pipeline_recommender = PipelineRecommender(\n",
    "    URM_train, \n",
    "    recommenders=[recommender_p3a, hybrid_similarity, recommender_slim], \n",
    "    cutoffs=[500, 100, 10]\n",
    ")\n",
    "\n",
    "result_df, _ = evaluator.evaluateRecommender(pipeline_recommender)\n",
    "display(result_df)"
   ]
  },
  {
   "cell_type": "code",
   "execution_count": 23,
   "id": "b83dd325",
   "metadata": {
    "execution": {
     "iopub.execute_input": "2023-12-03T20:05:13.349450Z",
     "iopub.status.busy": "2023-12-03T20:05:13.349016Z",
     "iopub.status.idle": "2023-12-03T20:05:13.355876Z",
     "shell.execute_reply": "2023-12-03T20:05:13.354524Z"
    },
    "papermill": {
     "duration": 0.038954,
     "end_time": "2023-12-03T20:05:13.358615",
     "exception": false,
     "start_time": "2023-12-03T20:05:13.319661",
     "status": "completed"
    },
    "tags": []
   },
   "outputs": [],
   "source": [
    "def objective(trial):\n",
    "    cutoff_p3alpha = trial.suggest_int('cutoff_p3alpha', 11, 2000)\n",
    "    cutoff_merging = trial.suggest_int('cutoff_merging', 10, cutoff_p3alpha)\n",
    "    \n",
    "    pipeline_recommender = PipelineRecommender(\n",
    "        URM_train, \n",
    "        recommenders=[recommender_p3a, hybrid_similarity, recommender_slim], \n",
    "        cutoffs=[cutoff_p3alpha, cutoff_merging, 10]\n",
    "    )\n",
    "\n",
    "    result_df, _ = evaluator.evaluateRecommender(pipeline_recommender)\n",
    "    return result_df.loc[10, 'MAP']"
   ]
  },
  {
   "cell_type": "code",
   "execution_count": 24,
   "id": "74a64c08",
   "metadata": {
    "execution": {
     "iopub.execute_input": "2023-12-03T20:05:13.417834Z",
     "iopub.status.busy": "2023-12-03T20:05:13.417398Z",
     "iopub.status.idle": "2023-12-03T20:05:13.424310Z",
     "shell.execute_reply": "2023-12-03T20:05:13.423121Z"
    },
    "papermill": {
     "duration": 0.039692,
     "end_time": "2023-12-03T20:05:13.426584",
     "exception": false,
     "start_time": "2023-12-03T20:05:13.386892",
     "status": "completed"
    },
    "tags": []
   },
   "outputs": [],
   "source": [
    "try:\n",
    "    shutil.copyfile(\n",
    "        '/kaggle/working/Recsys_Challenge_2023/tuning_results/tuning_hybrid.db', \n",
    "        config['database_path']\n",
    "    )\n",
    "except FileNotFoundError:\n",
    "    pass # if not present optuna will create it"
   ]
  },
  {
   "cell_type": "code",
   "execution_count": 25,
   "id": "d868ec5c",
   "metadata": {
    "execution": {
     "iopub.execute_input": "2023-12-03T20:05:13.484044Z",
     "iopub.status.busy": "2023-12-03T20:05:13.483659Z",
     "iopub.status.idle": "2023-12-03T20:50:11.500706Z",
     "shell.execute_reply": "2023-12-03T20:50:11.499508Z"
    },
    "papermill": {
     "duration": 2698.060658,
     "end_time": "2023-12-03T20:50:11.515134",
     "exception": false,
     "start_time": "2023-12-03T20:05:13.454476",
     "status": "completed"
    },
    "tags": []
   },
   "outputs": [
    {
     "name": "stderr",
     "output_type": "stream",
     "text": [
      "[I 2023-12-03 20:05:13,953] Using an existing study with name 'hyperparameters_tuning_3stage_pipeline_v2' instead of creating a new one.\n"
     ]
    },
    {
     "name": "stdout",
     "output_type": "stream",
     "text": [
      "Recommender_Base_Class: URM Detected 627 ( 4.8%) users with no interactions.\n",
      "Recommender_Base_Class: URM Detected 247 ( 1.1%) items with no interactions.\n",
      "EvaluatorHoldout: Processed 10456 (100.0%) in 26.72 sec. Users per second: 391\n"
     ]
    },
    {
     "name": "stderr",
     "output_type": "stream",
     "text": [
      "[I 2023-12-03 20:05:41,009] Trial 300 finished with value: 0.051241031958563193 and parameters: {'cutoff_p3alpha': 46, 'cutoff_merging': 14}. Best is trial 111 with value: 0.051282065587010754.\n"
     ]
    },
    {
     "name": "stdout",
     "output_type": "stream",
     "text": [
      "Recommender_Base_Class: URM Detected 627 ( 4.8%) users with no interactions.\n",
      "Recommender_Base_Class: URM Detected 247 ( 1.1%) items with no interactions.\n",
      "EvaluatorHoldout: Processed 10456 (100.0%) in 26.59 sec. Users per second: 393\n"
     ]
    },
    {
     "name": "stderr",
     "output_type": "stream",
     "text": [
      "[I 2023-12-03 20:06:07,794] Trial 301 finished with value: 0.050132740675970115 and parameters: {'cutoff_p3alpha': 11, 'cutoff_merging': 11}. Best is trial 111 with value: 0.051282065587010754.\n"
     ]
    },
    {
     "name": "stdout",
     "output_type": "stream",
     "text": [
      "Recommender_Base_Class: URM Detected 627 ( 4.8%) users with no interactions.\n",
      "Recommender_Base_Class: URM Detected 247 ( 1.1%) items with no interactions.\n",
      "EvaluatorHoldout: Processed 10456 (100.0%) in 26.67 sec. Users per second: 392\n"
     ]
    },
    {
     "name": "stderr",
     "output_type": "stream",
     "text": [
      "[I 2023-12-03 20:06:34,669] Trial 302 finished with value: 0.050973903492792814 and parameters: {'cutoff_p3alpha': 113, 'cutoff_merging': 10}. Best is trial 111 with value: 0.051282065587010754.\n"
     ]
    },
    {
     "name": "stdout",
     "output_type": "stream",
     "text": [
      "Recommender_Base_Class: URM Detected 627 ( 4.8%) users with no interactions.\n",
      "Recommender_Base_Class: URM Detected 247 ( 1.1%) items with no interactions.\n",
      "EvaluatorHoldout: Processed 10456 (100.0%) in 26.68 sec. Users per second: 392\n"
     ]
    },
    {
     "name": "stderr",
     "output_type": "stream",
     "text": [
      "[I 2023-12-03 20:07:01,552] Trial 303 finished with value: 0.0511560082461963 and parameters: {'cutoff_p3alpha': 82, 'cutoff_merging': 16}. Best is trial 111 with value: 0.051282065587010754.\n"
     ]
    },
    {
     "name": "stdout",
     "output_type": "stream",
     "text": [
      "Recommender_Base_Class: URM Detected 627 ( 4.8%) users with no interactions.\n",
      "Recommender_Base_Class: URM Detected 247 ( 1.1%) items with no interactions.\n",
      "EvaluatorHoldout: Processed 10456 (100.0%) in 26.69 sec. Users per second: 392\n"
     ]
    },
    {
     "name": "stderr",
     "output_type": "stream",
     "text": [
      "[I 2023-12-03 20:07:28,410] Trial 304 finished with value: 0.05105187573626807 and parameters: {'cutoff_p3alpha': 168, 'cutoff_merging': 24}. Best is trial 111 with value: 0.051282065587010754.\n"
     ]
    },
    {
     "name": "stdout",
     "output_type": "stream",
     "text": [
      "Recommender_Base_Class: URM Detected 627 ( 4.8%) users with no interactions.\n",
      "Recommender_Base_Class: URM Detected 247 ( 1.1%) items with no interactions.\n",
      "EvaluatorHoldout: Processed 10456 (100.0%) in 26.51 sec. Users per second: 394\n"
     ]
    },
    {
     "name": "stderr",
     "output_type": "stream",
     "text": [
      "[I 2023-12-03 20:07:55,096] Trial 305 finished with value: 0.050132740675970115 and parameters: {'cutoff_p3alpha': 11, 'cutoff_merging': 11}. Best is trial 111 with value: 0.051282065587010754.\n"
     ]
    },
    {
     "name": "stdout",
     "output_type": "stream",
     "text": [
      "Recommender_Base_Class: URM Detected 627 ( 4.8%) users with no interactions.\n",
      "Recommender_Base_Class: URM Detected 247 ( 1.1%) items with no interactions.\n",
      "EvaluatorHoldout: Processed 10456 (100.0%) in 26.66 sec. Users per second: 392\n"
     ]
    },
    {
     "name": "stderr",
     "output_type": "stream",
     "text": [
      "[I 2023-12-03 20:08:21,933] Trial 306 finished with value: 0.05113089165786241 and parameters: {'cutoff_p3alpha': 134, 'cutoff_merging': 19}. Best is trial 111 with value: 0.051282065587010754.\n"
     ]
    },
    {
     "name": "stdout",
     "output_type": "stream",
     "text": [
      "Recommender_Base_Class: URM Detected 627 ( 4.8%) users with no interactions.\n",
      "Recommender_Base_Class: URM Detected 247 ( 1.1%) items with no interactions.\n",
      "EvaluatorHoldout: Processed 10456 (100.0%) in 26.62 sec. Users per second: 393\n"
     ]
    },
    {
     "name": "stderr",
     "output_type": "stream",
     "text": [
      "[I 2023-12-03 20:08:48,725] Trial 307 finished with value: 0.05122109580889293 and parameters: {'cutoff_p3alpha': 58, 'cutoff_merging': 15}. Best is trial 111 with value: 0.051282065587010754.\n"
     ]
    },
    {
     "name": "stdout",
     "output_type": "stream",
     "text": [
      "Recommender_Base_Class: URM Detected 627 ( 4.8%) users with no interactions.\n",
      "Recommender_Base_Class: URM Detected 247 ( 1.1%) items with no interactions.\n",
      "EvaluatorHoldout: Processed 10456 (100.0%) in 26.51 sec. Users per second: 394\n"
     ]
    },
    {
     "name": "stderr",
     "output_type": "stream",
     "text": [
      "[I 2023-12-03 20:09:15,405] Trial 308 finished with value: 0.05114370802516425 and parameters: {'cutoff_p3alpha': 97, 'cutoff_merging': 18}. Best is trial 111 with value: 0.051282065587010754.\n"
     ]
    },
    {
     "name": "stdout",
     "output_type": "stream",
     "text": [
      "Recommender_Base_Class: URM Detected 627 ( 4.8%) users with no interactions.\n",
      "Recommender_Base_Class: URM Detected 247 ( 1.1%) items with no interactions.\n",
      "EvaluatorHoldout: Processed 10456 (100.0%) in 26.59 sec. Users per second: 393\n"
     ]
    },
    {
     "name": "stderr",
     "output_type": "stream",
     "text": [
      "[I 2023-12-03 20:09:42,163] Trial 309 finished with value: 0.05126836114450943 and parameters: {'cutoff_p3alpha': 51, 'cutoff_merging': 14}. Best is trial 111 with value: 0.051282065587010754.\n"
     ]
    },
    {
     "name": "stdout",
     "output_type": "stream",
     "text": [
      "Recommender_Base_Class: URM Detected 627 ( 4.8%) users with no interactions.\n",
      "Recommender_Base_Class: URM Detected 247 ( 1.1%) items with no interactions.\n",
      "EvaluatorHoldout: Processed 10456 (100.0%) in 26.63 sec. Users per second: 393\n"
     ]
    },
    {
     "name": "stderr",
     "output_type": "stream",
     "text": [
      "[I 2023-12-03 20:10:08,972] Trial 310 finished with value: 0.05108861700125153 and parameters: {'cutoff_p3alpha': 77, 'cutoff_merging': 12}. Best is trial 111 with value: 0.051282065587010754.\n"
     ]
    },
    {
     "name": "stdout",
     "output_type": "stream",
     "text": [
      "Recommender_Base_Class: URM Detected 627 ( 4.8%) users with no interactions.\n",
      "Recommender_Base_Class: URM Detected 247 ( 1.1%) items with no interactions.\n",
      "EvaluatorHoldout: Processed 10456 (100.0%) in 26.80 sec. Users per second: 390\n"
     ]
    },
    {
     "name": "stderr",
     "output_type": "stream",
     "text": [
      "[I 2023-12-03 20:10:35,951] Trial 311 finished with value: 0.05106250227711648 and parameters: {'cutoff_p3alpha': 45, 'cutoff_merging': 13}. Best is trial 111 with value: 0.051282065587010754.\n"
     ]
    },
    {
     "name": "stdout",
     "output_type": "stream",
     "text": [
      "Recommender_Base_Class: URM Detected 627 ( 4.8%) users with no interactions.\n",
      "Recommender_Base_Class: URM Detected 247 ( 1.1%) items with no interactions.\n",
      "EvaluatorHoldout: Processed 10456 (100.0%) in 27.22 sec. Users per second: 384\n"
     ]
    },
    {
     "name": "stderr",
     "output_type": "stream",
     "text": [
      "[I 2023-12-03 20:11:03,357] Trial 312 finished with value: 0.050922915072686134 and parameters: {'cutoff_p3alpha': 1186, 'cutoff_merging': 89}. Best is trial 111 with value: 0.051282065587010754.\n"
     ]
    },
    {
     "name": "stdout",
     "output_type": "stream",
     "text": [
      "Recommender_Base_Class: URM Detected 627 ( 4.8%) users with no interactions.\n",
      "Recommender_Base_Class: URM Detected 247 ( 1.1%) items with no interactions.\n",
      "EvaluatorHoldout: Processed 10456 (100.0%) in 26.85 sec. Users per second: 389\n"
     ]
    },
    {
     "name": "stderr",
     "output_type": "stream",
     "text": [
      "[I 2023-12-03 20:11:30,388] Trial 313 finished with value: 0.05105106736012496 and parameters: {'cutoff_p3alpha': 184, 'cutoff_merging': 24}. Best is trial 111 with value: 0.051282065587010754.\n"
     ]
    },
    {
     "name": "stdout",
     "output_type": "stream",
     "text": [
      "Recommender_Base_Class: URM Detected 627 ( 4.8%) users with no interactions.\n",
      "Recommender_Base_Class: URM Detected 247 ( 1.1%) items with no interactions.\n",
      "EvaluatorHoldout: Processed 10456 (100.0%) in 26.74 sec. Users per second: 391\n"
     ]
    },
    {
     "name": "stderr",
     "output_type": "stream",
     "text": [
      "[I 2023-12-03 20:11:57,317] Trial 314 finished with value: 0.051146087611275655 and parameters: {'cutoff_p3alpha': 125, 'cutoff_merging': 18}. Best is trial 111 with value: 0.051282065587010754.\n"
     ]
    },
    {
     "name": "stdout",
     "output_type": "stream",
     "text": [
      "Recommender_Base_Class: URM Detected 627 ( 4.8%) users with no interactions.\n",
      "Recommender_Base_Class: URM Detected 247 ( 1.1%) items with no interactions.\n",
      "EvaluatorHoldout: Processed 10456 (100.0%) in 26.95 sec. Users per second: 388\n"
     ]
    },
    {
     "name": "stderr",
     "output_type": "stream",
     "text": [
      "[I 2023-12-03 20:12:24,451] Trial 315 finished with value: 0.051159625065277936 and parameters: {'cutoff_p3alpha': 93, 'cutoff_merging': 16}. Best is trial 111 with value: 0.051282065587010754.\n"
     ]
    },
    {
     "name": "stdout",
     "output_type": "stream",
     "text": [
      "Recommender_Base_Class: URM Detected 627 ( 4.8%) users with no interactions.\n",
      "Recommender_Base_Class: URM Detected 247 ( 1.1%) items with no interactions.\n",
      "EvaluatorHoldout: Processed 10456 (100.0%) in 26.88 sec. Users per second: 389\n"
     ]
    },
    {
     "name": "stderr",
     "output_type": "stream",
     "text": [
      "[I 2023-12-03 20:12:51,516] Trial 316 finished with value: 0.050132740675970115 and parameters: {'cutoff_p3alpha': 11, 'cutoff_merging': 11}. Best is trial 111 with value: 0.051282065587010754.\n"
     ]
    },
    {
     "name": "stdout",
     "output_type": "stream",
     "text": [
      "Recommender_Base_Class: URM Detected 627 ( 4.8%) users with no interactions.\n",
      "Recommender_Base_Class: URM Detected 247 ( 1.1%) items with no interactions.\n",
      "EvaluatorHoldout: Processed 10456 (100.0%) in 26.75 sec. Users per second: 391\n"
     ]
    },
    {
     "name": "stderr",
     "output_type": "stream",
     "text": [
      "[I 2023-12-03 20:13:18,445] Trial 317 finished with value: 0.051210488244010324 and parameters: {'cutoff_p3alpha': 56, 'cutoff_merging': 15}. Best is trial 111 with value: 0.051282065587010754.\n"
     ]
    },
    {
     "name": "stdout",
     "output_type": "stream",
     "text": [
      "Recommender_Base_Class: URM Detected 627 ( 4.8%) users with no interactions.\n",
      "Recommender_Base_Class: URM Detected 247 ( 1.1%) items with no interactions.\n",
      "EvaluatorHoldout: Processed 10456 (100.0%) in 26.76 sec. Users per second: 391\n"
     ]
    },
    {
     "name": "stderr",
     "output_type": "stream",
     "text": [
      "[I 2023-12-03 20:13:45,383] Trial 318 finished with value: 0.051095440758553434 and parameters: {'cutoff_p3alpha': 142, 'cutoff_merging': 20}. Best is trial 111 with value: 0.051282065587010754.\n"
     ]
    },
    {
     "name": "stdout",
     "output_type": "stream",
     "text": [
      "Recommender_Base_Class: URM Detected 627 ( 4.8%) users with no interactions.\n",
      "Recommender_Base_Class: URM Detected 247 ( 1.1%) items with no interactions.\n",
      "EvaluatorHoldout: Processed 10456 (100.0%) in 26.81 sec. Users per second: 390\n"
     ]
    },
    {
     "name": "stderr",
     "output_type": "stream",
     "text": [
      "[I 2023-12-03 20:14:12,366] Trial 319 finished with value: 0.051130758826101824 and parameters: {'cutoff_p3alpha': 97, 'cutoff_merging': 17}. Best is trial 111 with value: 0.051282065587010754.\n"
     ]
    },
    {
     "name": "stdout",
     "output_type": "stream",
     "text": [
      "Recommender_Base_Class: URM Detected 627 ( 4.8%) users with no interactions.\n",
      "Recommender_Base_Class: URM Detected 247 ( 1.1%) items with no interactions.\n",
      "EvaluatorHoldout: Processed 10456 (100.0%) in 26.62 sec. Users per second: 393\n"
     ]
    },
    {
     "name": "stderr",
     "output_type": "stream",
     "text": [
      "[I 2023-12-03 20:14:39,164] Trial 320 finished with value: 0.051241031958563193 and parameters: {'cutoff_p3alpha': 46, 'cutoff_merging': 14}. Best is trial 111 with value: 0.051282065587010754.\n"
     ]
    },
    {
     "name": "stdout",
     "output_type": "stream",
     "text": [
      "Recommender_Base_Class: URM Detected 627 ( 4.8%) users with no interactions.\n",
      "Recommender_Base_Class: URM Detected 247 ( 1.1%) items with no interactions.\n",
      "EvaluatorHoldout: Processed 10456 (100.0%) in 26.77 sec. Users per second: 391\n"
     ]
    },
    {
     "name": "stderr",
     "output_type": "stream",
     "text": [
      "[I 2023-12-03 20:15:06,110] Trial 321 finished with value: 0.051089406401428845 and parameters: {'cutoff_p3alpha': 80, 'cutoff_merging': 12}. Best is trial 111 with value: 0.051282065587010754.\n"
     ]
    },
    {
     "name": "stdout",
     "output_type": "stream",
     "text": [
      "Recommender_Base_Class: URM Detected 627 ( 4.8%) users with no interactions.\n",
      "Recommender_Base_Class: URM Detected 247 ( 1.1%) items with no interactions.\n",
      "EvaluatorHoldout: Processed 10456 (100.0%) in 26.74 sec. Users per second: 391\n"
     ]
    },
    {
     "name": "stderr",
     "output_type": "stream",
     "text": [
      "[I 2023-12-03 20:15:33,028] Trial 322 finished with value: 0.051245244622970955 and parameters: {'cutoff_p3alpha': 43, 'cutoff_merging': 14}. Best is trial 111 with value: 0.051282065587010754.\n"
     ]
    },
    {
     "name": "stdout",
     "output_type": "stream",
     "text": [
      "Recommender_Base_Class: URM Detected 627 ( 4.8%) users with no interactions.\n",
      "Recommender_Base_Class: URM Detected 247 ( 1.1%) items with no interactions.\n",
      "EvaluatorHoldout: Processed 10456 (100.0%) in 26.74 sec. Users per second: 391\n"
     ]
    },
    {
     "name": "stderr",
     "output_type": "stream",
     "text": [
      "[I 2023-12-03 20:15:59,949] Trial 323 finished with value: 0.05096877618683344 and parameters: {'cutoff_p3alpha': 122, 'cutoff_merging': 10}. Best is trial 111 with value: 0.051282065587010754.\n"
     ]
    },
    {
     "name": "stdout",
     "output_type": "stream",
     "text": [
      "Recommender_Base_Class: URM Detected 627 ( 4.8%) users with no interactions.\n",
      "Recommender_Base_Class: URM Detected 247 ( 1.1%) items with no interactions.\n",
      "EvaluatorHoldout: Processed 10456 (100.0%) in 26.70 sec. Users per second: 392\n"
     ]
    },
    {
     "name": "stderr",
     "output_type": "stream",
     "text": [
      "[I 2023-12-03 20:16:26,848] Trial 324 finished with value: 0.050132740675970115 and parameters: {'cutoff_p3alpha': 11, 'cutoff_merging': 11}. Best is trial 111 with value: 0.051282065587010754.\n"
     ]
    },
    {
     "name": "stdout",
     "output_type": "stream",
     "text": [
      "Recommender_Base_Class: URM Detected 627 ( 4.8%) users with no interactions.\n",
      "Recommender_Base_Class: URM Detected 247 ( 1.1%) items with no interactions.\n",
      "EvaluatorHoldout: Processed 10456 (100.0%) in 26.99 sec. Users per second: 387\n"
     ]
    },
    {
     "name": "stderr",
     "output_type": "stream",
     "text": [
      "[I 2023-12-03 20:16:54,020] Trial 325 finished with value: 0.05120902709464365 and parameters: {'cutoff_p3alpha': 68, 'cutoff_merging': 15}. Best is trial 111 with value: 0.051282065587010754.\n"
     ]
    },
    {
     "name": "stdout",
     "output_type": "stream",
     "text": [
      "Recommender_Base_Class: URM Detected 627 ( 4.8%) users with no interactions.\n",
      "Recommender_Base_Class: URM Detected 247 ( 1.1%) items with no interactions.\n",
      "EvaluatorHoldout: Processed 10456 (100.0%) in 27.28 sec. Users per second: 383\n"
     ]
    },
    {
     "name": "stderr",
     "output_type": "stream",
     "text": [
      "[I 2023-12-03 20:17:21,491] Trial 326 finished with value: 0.05101259548706051 and parameters: {'cutoff_p3alpha': 188, 'cutoff_merging': 26}. Best is trial 111 with value: 0.051282065587010754.\n"
     ]
    },
    {
     "name": "stdout",
     "output_type": "stream",
     "text": [
      "Recommender_Base_Class: URM Detected 627 ( 4.8%) users with no interactions.\n",
      "Recommender_Base_Class: URM Detected 247 ( 1.1%) items with no interactions.\n",
      "EvaluatorHoldout: Processed 10456 (100.0%) in 27.06 sec. Users per second: 386\n"
     ]
    },
    {
     "name": "stderr",
     "output_type": "stream",
     "text": [
      "[I 2023-12-03 20:17:48,748] Trial 327 finished with value: 0.05122985131951338 and parameters: {'cutoff_p3alpha': 44, 'cutoff_merging': 14}. Best is trial 111 with value: 0.051282065587010754.\n"
     ]
    },
    {
     "name": "stdout",
     "output_type": "stream",
     "text": [
      "Recommender_Base_Class: URM Detected 627 ( 4.8%) users with no interactions.\n",
      "Recommender_Base_Class: URM Detected 247 ( 1.1%) items with no interactions.\n",
      "EvaluatorHoldout: Processed 10456 (100.0%) in 27.11 sec. Users per second: 386\n"
     ]
    },
    {
     "name": "stderr",
     "output_type": "stream",
     "text": [
      "[I 2023-12-03 20:18:16,045] Trial 328 finished with value: 0.05112173006157382 and parameters: {'cutoff_p3alpha': 107, 'cutoff_merging': 17}. Best is trial 111 with value: 0.051282065587010754.\n"
     ]
    },
    {
     "name": "stdout",
     "output_type": "stream",
     "text": [
      "Recommender_Base_Class: URM Detected 627 ( 4.8%) users with no interactions.\n",
      "Recommender_Base_Class: URM Detected 247 ( 1.1%) items with no interactions.\n",
      "EvaluatorHoldout: Processed 10456 (100.0%) in 27.05 sec. Users per second: 387\n"
     ]
    },
    {
     "name": "stderr",
     "output_type": "stream",
     "text": [
      "[I 2023-12-03 20:18:43,269] Trial 329 finished with value: 0.05106382679952941 and parameters: {'cutoff_p3alpha': 152, 'cutoff_merging': 22}. Best is trial 111 with value: 0.051282065587010754.\n"
     ]
    },
    {
     "name": "stdout",
     "output_type": "stream",
     "text": [
      "Recommender_Base_Class: URM Detected 627 ( 4.8%) users with no interactions.\n",
      "Recommender_Base_Class: URM Detected 247 ( 1.1%) items with no interactions.\n",
      "EvaluatorHoldout: Processed 10456 (100.0%) in 26.97 sec. Users per second: 388\n"
     ]
    },
    {
     "name": "stderr",
     "output_type": "stream",
     "text": [
      "[I 2023-12-03 20:19:10,423] Trial 330 finished with value: 0.051140186085911636 and parameters: {'cutoff_p3alpha': 76, 'cutoff_merging': 16}. Best is trial 111 with value: 0.051282065587010754.\n"
     ]
    },
    {
     "name": "stdout",
     "output_type": "stream",
     "text": [
      "Recommender_Base_Class: URM Detected 627 ( 4.8%) users with no interactions.\n",
      "Recommender_Base_Class: URM Detected 247 ( 1.1%) items with no interactions.\n",
      "EvaluatorHoldout: Processed 10456 (100.0%) in 26.84 sec. Users per second: 389\n"
     ]
    },
    {
     "name": "stderr",
     "output_type": "stream",
     "text": [
      "[I 2023-12-03 20:19:37,451] Trial 331 finished with value: 0.05122961222234429 and parameters: {'cutoff_p3alpha': 42, 'cutoff_merging': 14}. Best is trial 111 with value: 0.051282065587010754.\n"
     ]
    },
    {
     "name": "stdout",
     "output_type": "stream",
     "text": [
      "Recommender_Base_Class: URM Detected 627 ( 4.8%) users with no interactions.\n",
      "Recommender_Base_Class: URM Detected 247 ( 1.1%) items with no interactions.\n",
      "EvaluatorHoldout: Processed 10456 (100.0%) in 27.04 sec. Users per second: 387\n"
     ]
    },
    {
     "name": "stderr",
     "output_type": "stream",
     "text": [
      "[I 2023-12-03 20:20:04,669] Trial 332 finished with value: 0.050899031922129266 and parameters: {'cutoff_p3alpha': 222, 'cutoff_merging': 127}. Best is trial 111 with value: 0.051282065587010754.\n"
     ]
    },
    {
     "name": "stdout",
     "output_type": "stream",
     "text": [
      "Recommender_Base_Class: URM Detected 627 ( 4.8%) users with no interactions.\n",
      "Recommender_Base_Class: URM Detected 247 ( 1.1%) items with no interactions.\n",
      "EvaluatorHoldout: Processed 10456 (100.0%) in 26.90 sec. Users per second: 389\n"
     ]
    },
    {
     "name": "stderr",
     "output_type": "stream",
     "text": [
      "[I 2023-12-03 20:20:31,752] Trial 333 finished with value: 0.05052903095055984 and parameters: {'cutoff_p3alpha': 12, 'cutoff_merging': 12}. Best is trial 111 with value: 0.051282065587010754.\n"
     ]
    },
    {
     "name": "stdout",
     "output_type": "stream",
     "text": [
      "Recommender_Base_Class: URM Detected 627 ( 4.8%) users with no interactions.\n",
      "Recommender_Base_Class: URM Detected 247 ( 1.1%) items with no interactions.\n",
      "EvaluatorHoldout: Processed 10456 (100.0%) in 27.08 sec. Users per second: 386\n"
     ]
    },
    {
     "name": "stderr",
     "output_type": "stream",
     "text": [
      "[I 2023-12-03 20:20:59,029] Trial 334 finished with value: 0.05112141126534837 and parameters: {'cutoff_p3alpha': 110, 'cutoff_merging': 17}. Best is trial 111 with value: 0.051282065587010754.\n"
     ]
    },
    {
     "name": "stdout",
     "output_type": "stream",
     "text": [
      "Recommender_Base_Class: URM Detected 627 ( 4.8%) users with no interactions.\n",
      "Recommender_Base_Class: URM Detected 247 ( 1.1%) items with no interactions.\n",
      "EvaluatorHoldout: Processed 10456 (100.0%) in 26.83 sec. Users per second: 390\n"
     ]
    },
    {
     "name": "stderr",
     "output_type": "stream",
     "text": [
      "[I 2023-12-03 20:21:26,040] Trial 335 finished with value: 0.0511395636742333 and parameters: {'cutoff_p3alpha': 74, 'cutoff_merging': 13}. Best is trial 111 with value: 0.051282065587010754.\n"
     ]
    },
    {
     "name": "stdout",
     "output_type": "stream",
     "text": [
      "Recommender_Base_Class: URM Detected 627 ( 4.8%) users with no interactions.\n",
      "Recommender_Base_Class: URM Detected 247 ( 1.1%) items with no interactions.\n",
      "EvaluatorHoldout: Processed 10456 (100.0%) in 26.87 sec. Users per second: 389\n"
     ]
    },
    {
     "name": "stderr",
     "output_type": "stream",
     "text": [
      "[I 2023-12-03 20:21:53,093] Trial 336 finished with value: 0.05109057911611528 and parameters: {'cutoff_p3alpha': 137, 'cutoff_merging': 20}. Best is trial 111 with value: 0.051282065587010754.\n"
     ]
    },
    {
     "name": "stdout",
     "output_type": "stream",
     "text": [
      "Recommender_Base_Class: URM Detected 627 ( 4.8%) users with no interactions.\n",
      "Recommender_Base_Class: URM Detected 247 ( 1.1%) items with no interactions.\n",
      "EvaluatorHoldout: Processed 10456 (100.0%) in 27.08 sec. Users per second: 386\n"
     ]
    },
    {
     "name": "stderr",
     "output_type": "stream",
     "text": [
      "[I 2023-12-03 20:22:20,367] Trial 337 finished with value: 0.05122835980860146 and parameters: {'cutoff_p3alpha': 37, 'cutoff_merging': 14}. Best is trial 111 with value: 0.051282065587010754.\n"
     ]
    },
    {
     "name": "stdout",
     "output_type": "stream",
     "text": [
      "Recommender_Base_Class: URM Detected 627 ( 4.8%) users with no interactions.\n",
      "Recommender_Base_Class: URM Detected 247 ( 1.1%) items with no interactions.\n",
      "EvaluatorHoldout: Processed 10456 (100.0%) in 27.00 sec. Users per second: 387\n"
     ]
    },
    {
     "name": "stderr",
     "output_type": "stream",
     "text": [
      "[I 2023-12-03 20:22:47,554] Trial 338 finished with value: 0.05116068392416961 and parameters: {'cutoff_p3alpha': 88, 'cutoff_merging': 16}. Best is trial 111 with value: 0.051282065587010754.\n"
     ]
    },
    {
     "name": "stdout",
     "output_type": "stream",
     "text": [
      "Recommender_Base_Class: URM Detected 627 ( 4.8%) users with no interactions.\n",
      "Recommender_Base_Class: URM Detected 247 ( 1.1%) items with no interactions.\n",
      "EvaluatorHoldout: Processed 10456 (100.0%) in 27.01 sec. Users per second: 387\n"
     ]
    },
    {
     "name": "stderr",
     "output_type": "stream",
     "text": [
      "[I 2023-12-03 20:23:14,753] Trial 339 finished with value: 0.051017855624780485 and parameters: {'cutoff_p3alpha': 575, 'cutoff_merging': 41}. Best is trial 111 with value: 0.051282065587010754.\n"
     ]
    },
    {
     "name": "stdout",
     "output_type": "stream",
     "text": [
      "Recommender_Base_Class: URM Detected 627 ( 4.8%) users with no interactions.\n",
      "Recommender_Base_Class: URM Detected 247 ( 1.1%) items with no interactions.\n",
      "EvaluatorHoldout: Processed 10456 (100.0%) in 26.68 sec. Users per second: 392\n"
     ]
    },
    {
     "name": "stderr",
     "output_type": "stream",
     "text": [
      "[I 2023-12-03 20:23:41,622] Trial 340 finished with value: 0.050132740675970115 and parameters: {'cutoff_p3alpha': 11, 'cutoff_merging': 11}. Best is trial 111 with value: 0.051282065587010754.\n"
     ]
    },
    {
     "name": "stdout",
     "output_type": "stream",
     "text": [
      "Recommender_Base_Class: URM Detected 627 ( 4.8%) users with no interactions.\n",
      "Recommender_Base_Class: URM Detected 247 ( 1.1%) items with no interactions.\n",
      "EvaluatorHoldout: Processed 10456 (100.0%) in 26.73 sec. Users per second: 391\n"
     ]
    },
    {
     "name": "stderr",
     "output_type": "stream",
     "text": [
      "[I 2023-12-03 20:24:08,537] Trial 341 finished with value: 0.05111419280795767 and parameters: {'cutoff_p3alpha': 59, 'cutoff_merging': 13}. Best is trial 111 with value: 0.051282065587010754.\n"
     ]
    },
    {
     "name": "stdout",
     "output_type": "stream",
     "text": [
      "Recommender_Base_Class: URM Detected 627 ( 4.8%) users with no interactions.\n",
      "Recommender_Base_Class: URM Detected 247 ( 1.1%) items with no interactions.\n",
      "EvaluatorHoldout: Processed 10456 (100.0%) in 26.86 sec. Users per second: 389\n"
     ]
    },
    {
     "name": "stderr",
     "output_type": "stream",
     "text": [
      "[I 2023-12-03 20:24:35,579] Trial 342 finished with value: 0.05113566221566473 and parameters: {'cutoff_p3alpha': 111, 'cutoff_merging': 18}. Best is trial 111 with value: 0.051282065587010754.\n"
     ]
    },
    {
     "name": "stdout",
     "output_type": "stream",
     "text": [
      "Recommender_Base_Class: URM Detected 627 ( 4.8%) users with no interactions.\n",
      "Recommender_Base_Class: URM Detected 247 ( 1.1%) items with no interactions.\n",
      "EvaluatorHoldout: Processed 10456 (100.0%) in 27.39 sec. Users per second: 382\n"
     ]
    },
    {
     "name": "stderr",
     "output_type": "stream",
     "text": [
      "[I 2023-12-03 20:25:03,160] Trial 343 finished with value: 0.050905108026378675 and parameters: {'cutoff_p3alpha': 1967, 'cutoff_merging': 160}. Best is trial 111 with value: 0.051282065587010754.\n"
     ]
    },
    {
     "name": "stdout",
     "output_type": "stream",
     "text": [
      "Recommender_Base_Class: URM Detected 627 ( 4.8%) users with no interactions.\n",
      "Recommender_Base_Class: URM Detected 247 ( 1.1%) items with no interactions.\n",
      "EvaluatorHoldout: Processed 10456 (100.0%) in 26.89 sec. Users per second: 389\n"
     ]
    },
    {
     "name": "stderr",
     "output_type": "stream",
     "text": [
      "[I 2023-12-03 20:25:30,235] Trial 344 finished with value: 0.051101532043575516 and parameters: {'cutoff_p3alpha': 162, 'cutoff_merging': 21}. Best is trial 111 with value: 0.051282065587010754.\n"
     ]
    },
    {
     "name": "stdout",
     "output_type": "stream",
     "text": [
      "Recommender_Base_Class: URM Detected 627 ( 4.8%) users with no interactions.\n",
      "Recommender_Base_Class: URM Detected 247 ( 1.1%) items with no interactions.\n",
      "EvaluatorHoldout: Processed 10456 (100.0%) in 26.80 sec. Users per second: 390\n"
     ]
    },
    {
     "name": "stderr",
     "output_type": "stream",
     "text": [
      "[I 2023-12-03 20:25:57,220] Trial 345 finished with value: 0.05122985131951338 and parameters: {'cutoff_p3alpha': 44, 'cutoff_merging': 14}. Best is trial 111 with value: 0.051282065587010754.\n"
     ]
    },
    {
     "name": "stdout",
     "output_type": "stream",
     "text": [
      "Recommender_Base_Class: URM Detected 627 ( 4.8%) users with no interactions.\n",
      "Recommender_Base_Class: URM Detected 247 ( 1.1%) items with no interactions.\n",
      "EvaluatorHoldout: Processed 10456 (100.0%) in 26.89 sec. Users per second: 389\n"
     ]
    },
    {
     "name": "stderr",
     "output_type": "stream",
     "text": [
      "[I 2023-12-03 20:26:24,294] Trial 346 finished with value: 0.05115887741222537 and parameters: {'cutoff_p3alpha': 86, 'cutoff_merging': 16}. Best is trial 111 with value: 0.051282065587010754.\n"
     ]
    },
    {
     "name": "stdout",
     "output_type": "stream",
     "text": [
      "Recommender_Base_Class: URM Detected 627 ( 4.8%) users with no interactions.\n",
      "Recommender_Base_Class: URM Detected 247 ( 1.1%) items with no interactions.\n",
      "EvaluatorHoldout: Processed 10456 (100.0%) in 27.02 sec. Users per second: 387\n"
     ]
    },
    {
     "name": "stderr",
     "output_type": "stream",
     "text": [
      "[I 2023-12-03 20:26:51,485] Trial 347 finished with value: 0.05118065423057838 and parameters: {'cutoff_p3alpha': 47, 'cutoff_merging': 15}. Best is trial 111 with value: 0.051282065587010754.\n"
     ]
    },
    {
     "name": "stdout",
     "output_type": "stream",
     "text": [
      "Recommender_Base_Class: URM Detected 627 ( 4.8%) users with no interactions.\n",
      "Recommender_Base_Class: URM Detected 247 ( 1.1%) items with no interactions.\n",
      "EvaluatorHoldout: Processed 10456 (100.0%) in 27.21 sec. Users per second: 384\n"
     ]
    },
    {
     "name": "stderr",
     "output_type": "stream",
     "text": [
      "[I 2023-12-03 20:27:18,886] Trial 348 finished with value: 0.05087744865862748 and parameters: {'cutoff_p3alpha': 126, 'cutoff_merging': 100}. Best is trial 111 with value: 0.051282065587010754.\n"
     ]
    },
    {
     "name": "stdout",
     "output_type": "stream",
     "text": [
      "Recommender_Base_Class: URM Detected 627 ( 4.8%) users with no interactions.\n",
      "Recommender_Base_Class: URM Detected 247 ( 1.1%) items with no interactions.\n",
      "EvaluatorHoldout: Processed 10456 (100.0%) in 27.14 sec. Users per second: 385\n"
     ]
    },
    {
     "name": "stderr",
     "output_type": "stream",
     "text": [
      "[I 2023-12-03 20:27:46,208] Trial 349 finished with value: 0.051089406401428845 and parameters: {'cutoff_p3alpha': 80, 'cutoff_merging': 12}. Best is trial 111 with value: 0.051282065587010754.\n"
     ]
    },
    {
     "name": "stdout",
     "output_type": "stream",
     "text": [
      "Recommender_Base_Class: URM Detected 627 ( 4.8%) users with no interactions.\n",
      "Recommender_Base_Class: URM Detected 247 ( 1.1%) items with no interactions.\n",
      "EvaluatorHoldout: Processed 10456 (100.0%) in 26.79 sec. Users per second: 390\n"
     ]
    },
    {
     "name": "stderr",
     "output_type": "stream",
     "text": [
      "[I 2023-12-03 20:28:13,171] Trial 350 finished with value: 0.05108566434097286 and parameters: {'cutoff_p3alpha': 41, 'cutoff_merging': 13}. Best is trial 111 with value: 0.051282065587010754.\n"
     ]
    },
    {
     "name": "stdout",
     "output_type": "stream",
     "text": [
      "Recommender_Base_Class: URM Detected 627 ( 4.8%) users with no interactions.\n",
      "Recommender_Base_Class: URM Detected 247 ( 1.1%) items with no interactions.\n",
      "EvaluatorHoldout: Processed 10456 (100.0%) in 26.73 sec. Users per second: 391\n"
     ]
    },
    {
     "name": "stderr",
     "output_type": "stream",
     "text": [
      "[I 2023-12-03 20:28:40,093] Trial 351 finished with value: 0.050132740675970115 and parameters: {'cutoff_p3alpha': 11, 'cutoff_merging': 11}. Best is trial 111 with value: 0.051282065587010754.\n"
     ]
    },
    {
     "name": "stdout",
     "output_type": "stream",
     "text": [
      "Recommender_Base_Class: URM Detected 627 ( 4.8%) users with no interactions.\n",
      "Recommender_Base_Class: URM Detected 247 ( 1.1%) items with no interactions.\n",
      "EvaluatorHoldout: Processed 10456 (100.0%) in 26.88 sec. Users per second: 389\n"
     ]
    },
    {
     "name": "stderr",
     "output_type": "stream",
     "text": [
      "[I 2023-12-03 20:29:07,160] Trial 352 finished with value: 0.05113600378304913 and parameters: {'cutoff_p3alpha': 110, 'cutoff_merging': 18}. Best is trial 111 with value: 0.051282065587010754.\n"
     ]
    },
    {
     "name": "stdout",
     "output_type": "stream",
     "text": [
      "Recommender_Base_Class: URM Detected 627 ( 4.8%) users with no interactions.\n",
      "Recommender_Base_Class: URM Detected 247 ( 1.1%) items with no interactions.\n",
      "EvaluatorHoldout: Processed 10456 (100.0%) in 26.79 sec. Users per second: 390\n"
     ]
    },
    {
     "name": "stderr",
     "output_type": "stream",
     "text": [
      "[I 2023-12-03 20:29:34,127] Trial 353 finished with value: 0.05121131939131239 and parameters: {'cutoff_p3alpha': 74, 'cutoff_merging': 15}. Best is trial 111 with value: 0.051282065587010754.\n"
     ]
    },
    {
     "name": "stdout",
     "output_type": "stream",
     "text": [
      "Recommender_Base_Class: URM Detected 627 ( 4.8%) users with no interactions.\n",
      "Recommender_Base_Class: URM Detected 247 ( 1.1%) items with no interactions.\n",
      "EvaluatorHoldout: Processed 10456 (100.0%) in 26.89 sec. Users per second: 389\n"
     ]
    },
    {
     "name": "stderr",
     "output_type": "stream",
     "text": [
      "[I 2023-12-03 20:30:01,200] Trial 354 finished with value: 0.051095440758553434 and parameters: {'cutoff_p3alpha': 147, 'cutoff_merging': 20}. Best is trial 111 with value: 0.051282065587010754.\n"
     ]
    },
    {
     "name": "stdout",
     "output_type": "stream",
     "text": [
      "Recommender_Base_Class: URM Detected 627 ( 4.8%) users with no interactions.\n",
      "Recommender_Base_Class: URM Detected 247 ( 1.1%) items with no interactions.\n",
      "EvaluatorHoldout: Processed 10456 (100.0%) in 26.73 sec. Users per second: 391\n"
     ]
    },
    {
     "name": "stderr",
     "output_type": "stream",
     "text": [
      "[I 2023-12-03 20:30:28,106] Trial 355 finished with value: 0.05052903095055984 and parameters: {'cutoff_p3alpha': 12, 'cutoff_merging': 12}. Best is trial 111 with value: 0.051282065587010754.\n"
     ]
    },
    {
     "name": "stdout",
     "output_type": "stream",
     "text": [
      "Recommender_Base_Class: URM Detected 627 ( 4.8%) users with no interactions.\n",
      "Recommender_Base_Class: URM Detected 247 ( 1.1%) items with no interactions.\n",
      "EvaluatorHoldout: Processed 10456 (100.0%) in 26.77 sec. Users per second: 391\n"
     ]
    },
    {
     "name": "stderr",
     "output_type": "stream",
     "text": [
      "[I 2023-12-03 20:30:55,057] Trial 356 finished with value: 0.05101653489756078 and parameters: {'cutoff_p3alpha': 203, 'cutoff_merging': 27}. Best is trial 111 with value: 0.051282065587010754.\n"
     ]
    },
    {
     "name": "stdout",
     "output_type": "stream",
     "text": [
      "Recommender_Base_Class: URM Detected 627 ( 4.8%) users with no interactions.\n",
      "Recommender_Base_Class: URM Detected 247 ( 1.1%) items with no interactions.\n",
      "EvaluatorHoldout: Processed 10456 (100.0%) in 26.69 sec. Users per second: 392\n"
     ]
    },
    {
     "name": "stderr",
     "output_type": "stream",
     "text": [
      "[I 2023-12-03 20:31:21,948] Trial 357 finished with value: 0.051204677803282125 and parameters: {'cutoff_p3alpha': 65, 'cutoff_merging': 15}. Best is trial 111 with value: 0.051282065587010754.\n"
     ]
    },
    {
     "name": "stdout",
     "output_type": "stream",
     "text": [
      "Recommender_Base_Class: URM Detected 627 ( 4.8%) users with no interactions.\n",
      "Recommender_Base_Class: URM Detected 247 ( 1.1%) items with no interactions.\n",
      "EvaluatorHoldout: Processed 10456 (100.0%) in 26.65 sec. Users per second: 392\n"
     ]
    },
    {
     "name": "stderr",
     "output_type": "stream",
     "text": [
      "[I 2023-12-03 20:31:48,784] Trial 358 finished with value: 0.05096797919626981 and parameters: {'cutoff_p3alpha': 107, 'cutoff_merging': 10}. Best is trial 111 with value: 0.051282065587010754.\n"
     ]
    },
    {
     "name": "stdout",
     "output_type": "stream",
     "text": [
      "Recommender_Base_Class: URM Detected 627 ( 4.8%) users with no interactions.\n",
      "Recommender_Base_Class: URM Detected 247 ( 1.1%) items with no interactions.\n",
      "EvaluatorHoldout: Processed 10456 (100.0%) in 27.01 sec. Users per second: 387\n"
     ]
    },
    {
     "name": "stderr",
     "output_type": "stream",
     "text": [
      "[I 2023-12-03 20:32:15,977] Trial 359 finished with value: 0.050964453461823975 and parameters: {'cutoff_p3alpha': 1022, 'cutoff_merging': 57}. Best is trial 111 with value: 0.051282065587010754.\n"
     ]
    },
    {
     "name": "stdout",
     "output_type": "stream",
     "text": [
      "Recommender_Base_Class: URM Detected 627 ( 4.8%) users with no interactions.\n",
      "Recommender_Base_Class: URM Detected 247 ( 1.1%) items with no interactions.\n",
      "EvaluatorHoldout: Processed 10456 (100.0%) in 26.75 sec. Users per second: 391\n"
     ]
    },
    {
     "name": "stderr",
     "output_type": "stream",
     "text": [
      "[I 2023-12-03 20:32:42,911] Trial 360 finished with value: 0.05110733868911047 and parameters: {'cutoff_p3alpha': 56, 'cutoff_merging': 13}. Best is trial 111 with value: 0.051282065587010754.\n"
     ]
    },
    {
     "name": "stdout",
     "output_type": "stream",
     "text": [
      "Recommender_Base_Class: URM Detected 627 ( 4.8%) users with no interactions.\n",
      "Recommender_Base_Class: URM Detected 247 ( 1.1%) items with no interactions.\n",
      "EvaluatorHoldout: Processed 10456 (100.0%) in 26.86 sec. Users per second: 389\n"
     ]
    },
    {
     "name": "stderr",
     "output_type": "stream",
     "text": [
      "[I 2023-12-03 20:33:09,950] Trial 361 finished with value: 0.050979398932488665 and parameters: {'cutoff_p3alpha': 524, 'cutoff_merging': 35}. Best is trial 111 with value: 0.051282065587010754.\n"
     ]
    },
    {
     "name": "stdout",
     "output_type": "stream",
     "text": [
      "Recommender_Base_Class: URM Detected 627 ( 4.8%) users with no interactions.\n",
      "Recommender_Base_Class: URM Detected 247 ( 1.1%) items with no interactions.\n",
      "EvaluatorHoldout: Processed 10456 (100.0%) in 26.63 sec. Users per second: 393\n"
     ]
    },
    {
     "name": "stderr",
     "output_type": "stream",
     "text": [
      "[I 2023-12-03 20:33:36,761] Trial 362 finished with value: 0.051157958975480616 and parameters: {'cutoff_p3alpha': 90, 'cutoff_merging': 16}. Best is trial 111 with value: 0.051282065587010754.\n"
     ]
    },
    {
     "name": "stdout",
     "output_type": "stream",
     "text": [
      "Recommender_Base_Class: URM Detected 627 ( 4.8%) users with no interactions.\n",
      "Recommender_Base_Class: URM Detected 247 ( 1.1%) items with no interactions.\n",
      "EvaluatorHoldout: Processed 10456 (100.0%) in 26.70 sec. Users per second: 392\n"
     ]
    },
    {
     "name": "stderr",
     "output_type": "stream",
     "text": [
      "[I 2023-12-03 20:34:03,638] Trial 363 finished with value: 0.05113312323144057 and parameters: {'cutoff_p3alpha': 144, 'cutoff_merging': 19}. Best is trial 111 with value: 0.051282065587010754.\n"
     ]
    },
    {
     "name": "stdout",
     "output_type": "stream",
     "text": [
      "Recommender_Base_Class: URM Detected 627 ( 4.8%) users with no interactions.\n",
      "Recommender_Base_Class: URM Detected 247 ( 1.1%) items with no interactions.\n",
      "EvaluatorHoldout: Processed 10456 (100.0%) in 26.65 sec. Users per second: 392\n"
     ]
    },
    {
     "name": "stderr",
     "output_type": "stream",
     "text": [
      "[I 2023-12-03 20:34:30,457] Trial 364 finished with value: 0.051276057796238214 and parameters: {'cutoff_p3alpha': 49, 'cutoff_merging': 14}. Best is trial 111 with value: 0.051282065587010754.\n"
     ]
    },
    {
     "name": "stdout",
     "output_type": "stream",
     "text": [
      "Recommender_Base_Class: URM Detected 627 ( 4.8%) users with no interactions.\n",
      "Recommender_Base_Class: URM Detected 247 ( 1.1%) items with no interactions.\n",
      "EvaluatorHoldout: Processed 10456 (100.0%) in 26.58 sec. Users per second: 393\n"
     ]
    },
    {
     "name": "stderr",
     "output_type": "stream",
     "text": [
      "[I 2023-12-03 20:34:57,222] Trial 365 finished with value: 0.051282065587010754 and parameters: {'cutoff_p3alpha': 48, 'cutoff_merging': 14}. Best is trial 111 with value: 0.051282065587010754.\n"
     ]
    },
    {
     "name": "stdout",
     "output_type": "stream",
     "text": [
      "Recommender_Base_Class: URM Detected 627 ( 4.8%) users with no interactions.\n",
      "Recommender_Base_Class: URM Detected 247 ( 1.1%) items with no interactions.\n",
      "EvaluatorHoldout: Processed 10456 (100.0%) in 26.71 sec. Users per second: 391\n"
     ]
    },
    {
     "name": "stderr",
     "output_type": "stream",
     "text": [
      "[I 2023-12-03 20:35:24,114] Trial 366 finished with value: 0.05112087993830595 and parameters: {'cutoff_p3alpha': 106, 'cutoff_merging': 17}. Best is trial 111 with value: 0.051282065587010754.\n"
     ]
    },
    {
     "name": "stdout",
     "output_type": "stream",
     "text": [
      "Recommender_Base_Class: URM Detected 627 ( 4.8%) users with no interactions.\n",
      "Recommender_Base_Class: URM Detected 247 ( 1.1%) items with no interactions.\n",
      "EvaluatorHoldout: Processed 10456 (100.0%) in 26.75 sec. Users per second: 391\n"
     ]
    },
    {
     "name": "stderr",
     "output_type": "stream",
     "text": [
      "[I 2023-12-03 20:35:51,050] Trial 367 finished with value: 0.05105888925322803 and parameters: {'cutoff_p3alpha': 171, 'cutoff_merging': 24}. Best is trial 111 with value: 0.051282065587010754.\n"
     ]
    },
    {
     "name": "stdout",
     "output_type": "stream",
     "text": [
      "Recommender_Base_Class: URM Detected 627 ( 4.8%) users with no interactions.\n",
      "Recommender_Base_Class: URM Detected 247 ( 1.1%) items with no interactions.\n",
      "EvaluatorHoldout: Processed 10456 (100.0%) in 26.64 sec. Users per second: 392\n"
     ]
    },
    {
     "name": "stderr",
     "output_type": "stream",
     "text": [
      "[I 2023-12-03 20:36:17,866] Trial 368 finished with value: 0.051139153793372 and parameters: {'cutoff_p3alpha': 73, 'cutoff_merging': 13}. Best is trial 111 with value: 0.051282065587010754.\n"
     ]
    },
    {
     "name": "stdout",
     "output_type": "stream",
     "text": [
      "Recommender_Base_Class: URM Detected 627 ( 4.8%) users with no interactions.\n",
      "Recommender_Base_Class: URM Detected 247 ( 1.1%) items with no interactions.\n",
      "EvaluatorHoldout: Processed 10456 (100.0%) in 26.69 sec. Users per second: 392\n"
     ]
    },
    {
     "name": "stderr",
     "output_type": "stream",
     "text": [
      "[I 2023-12-03 20:36:44,727] Trial 369 finished with value: 0.050608456753015535 and parameters: {'cutoff_p3alpha': 13, 'cutoff_merging': 13}. Best is trial 111 with value: 0.051282065587010754.\n"
     ]
    },
    {
     "name": "stdout",
     "output_type": "stream",
     "text": [
      "Recommender_Base_Class: URM Detected 627 ( 4.8%) users with no interactions.\n",
      "Recommender_Base_Class: URM Detected 247 ( 1.1%) items with no interactions.\n",
      "EvaluatorHoldout: Processed 10456 (100.0%) in 26.78 sec. Users per second: 390\n"
     ]
    },
    {
     "name": "stderr",
     "output_type": "stream",
     "text": [
      "[I 2023-12-03 20:37:11,690] Trial 370 finished with value: 0.05097292053776433 and parameters: {'cutoff_p3alpha': 123, 'cutoff_merging': 10}. Best is trial 111 with value: 0.051282065587010754.\n"
     ]
    },
    {
     "name": "stdout",
     "output_type": "stream",
     "text": [
      "Recommender_Base_Class: URM Detected 627 ( 4.8%) users with no interactions.\n",
      "Recommender_Base_Class: URM Detected 247 ( 1.1%) items with no interactions.\n",
      "EvaluatorHoldout: Processed 10456 (100.0%) in 27.07 sec. Users per second: 386\n"
     ]
    },
    {
     "name": "stderr",
     "output_type": "stream",
     "text": [
      "[I 2023-12-03 20:37:38,958] Trial 371 finished with value: 0.05092735924387667 and parameters: {'cutoff_p3alpha': 1605, 'cutoff_merging': 82}. Best is trial 111 with value: 0.051282065587010754.\n"
     ]
    },
    {
     "name": "stdout",
     "output_type": "stream",
     "text": [
      "Recommender_Base_Class: URM Detected 627 ( 4.8%) users with no interactions.\n",
      "Recommender_Base_Class: URM Detected 247 ( 1.1%) items with no interactions.\n",
      "EvaluatorHoldout: Processed 10456 (100.0%) in 26.82 sec. Users per second: 390\n"
     ]
    },
    {
     "name": "stderr",
     "output_type": "stream",
     "text": [
      "[I 2023-12-03 20:38:05,972] Trial 372 finished with value: 0.05118065423057838 and parameters: {'cutoff_p3alpha': 47, 'cutoff_merging': 15}. Best is trial 111 with value: 0.051282065587010754.\n"
     ]
    },
    {
     "name": "stdout",
     "output_type": "stream",
     "text": [
      "Recommender_Base_Class: URM Detected 627 ( 4.8%) users with no interactions.\n",
      "Recommender_Base_Class: URM Detected 247 ( 1.1%) items with no interactions.\n",
      "EvaluatorHoldout: Processed 10456 (100.0%) in 26.68 sec. Users per second: 392\n"
     ]
    },
    {
     "name": "stderr",
     "output_type": "stream",
     "text": [
      "[I 2023-12-03 20:38:32,839] Trial 373 finished with value: 0.05115470649494238 and parameters: {'cutoff_p3alpha': 83, 'cutoff_merging': 16}. Best is trial 111 with value: 0.051282065587010754.\n"
     ]
    },
    {
     "name": "stdout",
     "output_type": "stream",
     "text": [
      "Recommender_Base_Class: URM Detected 627 ( 4.8%) users with no interactions.\n",
      "Recommender_Base_Class: URM Detected 247 ( 1.1%) items with no interactions.\n",
      "EvaluatorHoldout: Processed 10456 (100.0%) in 26.54 sec. Users per second: 394\n"
     ]
    },
    {
     "name": "stderr",
     "output_type": "stream",
     "text": [
      "[I 2023-12-03 20:38:59,552] Trial 374 finished with value: 0.050608456753015535 and parameters: {'cutoff_p3alpha': 13, 'cutoff_merging': 13}. Best is trial 111 with value: 0.051282065587010754.\n"
     ]
    },
    {
     "name": "stdout",
     "output_type": "stream",
     "text": [
      "Recommender_Base_Class: URM Detected 627 ( 4.8%) users with no interactions.\n",
      "Recommender_Base_Class: URM Detected 247 ( 1.1%) items with no interactions.\n",
      "EvaluatorHoldout: Processed 10456 (100.0%) in 26.54 sec. Users per second: 394\n"
     ]
    },
    {
     "name": "stderr",
     "output_type": "stream",
     "text": [
      "[I 2023-12-03 20:39:26,294] Trial 375 finished with value: 0.051210104929501135 and parameters: {'cutoff_p3alpha': 75, 'cutoff_merging': 15}. Best is trial 111 with value: 0.051282065587010754.\n"
     ]
    },
    {
     "name": "stdout",
     "output_type": "stream",
     "text": [
      "Recommender_Base_Class: URM Detected 627 ( 4.8%) users with no interactions.\n",
      "Recommender_Base_Class: URM Detected 247 ( 1.1%) items with no interactions.\n",
      "EvaluatorHoldout: Processed 10456 (100.0%) in 26.66 sec. Users per second: 392\n"
     ]
    },
    {
     "name": "stderr",
     "output_type": "stream",
     "text": [
      "[I 2023-12-03 20:39:53,125] Trial 376 finished with value: 0.05114491869178233 and parameters: {'cutoff_p3alpha': 121, 'cutoff_merging': 18}. Best is trial 111 with value: 0.051282065587010754.\n"
     ]
    },
    {
     "name": "stdout",
     "output_type": "stream",
     "text": [
      "Recommender_Base_Class: URM Detected 627 ( 4.8%) users with no interactions.\n",
      "Recommender_Base_Class: URM Detected 247 ( 1.1%) items with no interactions.\n",
      "EvaluatorHoldout: Processed 10456 (100.0%) in 26.64 sec. Users per second: 393\n"
     ]
    },
    {
     "name": "stderr",
     "output_type": "stream",
     "text": [
      "[I 2023-12-03 20:40:19,938] Trial 377 finished with value: 0.051282065587010754 and parameters: {'cutoff_p3alpha': 48, 'cutoff_merging': 14}. Best is trial 111 with value: 0.051282065587010754.\n"
     ]
    },
    {
     "name": "stdout",
     "output_type": "stream",
     "text": [
      "Recommender_Base_Class: URM Detected 627 ( 4.8%) users with no interactions.\n",
      "Recommender_Base_Class: URM Detected 247 ( 1.1%) items with no interactions.\n",
      "EvaluatorHoldout: Processed 10456 (100.0%) in 26.58 sec. Users per second: 393\n"
     ]
    },
    {
     "name": "stderr",
     "output_type": "stream",
     "text": [
      "[I 2023-12-03 20:40:46,694] Trial 378 finished with value: 0.05109924733729312 and parameters: {'cutoff_p3alpha': 167, 'cutoff_merging': 21}. Best is trial 111 with value: 0.051282065587010754.\n"
     ]
    },
    {
     "name": "stdout",
     "output_type": "stream",
     "text": [
      "Recommender_Base_Class: URM Detected 627 ( 4.8%) users with no interactions.\n",
      "Recommender_Base_Class: URM Detected 247 ( 1.1%) items with no interactions.\n",
      "EvaluatorHoldout: Processed 10456 (100.0%) in 26.73 sec. Users per second: 391\n"
     ]
    },
    {
     "name": "stderr",
     "output_type": "stream",
     "text": [
      "[I 2023-12-03 20:41:13,608] Trial 379 finished with value: 0.051276057796238214 and parameters: {'cutoff_p3alpha': 49, 'cutoff_merging': 14}. Best is trial 111 with value: 0.051282065587010754.\n"
     ]
    },
    {
     "name": "stdout",
     "output_type": "stream",
     "text": [
      "Recommender_Base_Class: URM Detected 627 ( 4.8%) users with no interactions.\n",
      "Recommender_Base_Class: URM Detected 247 ( 1.1%) items with no interactions.\n",
      "EvaluatorHoldout: Processed 10456 (100.0%) in 26.83 sec. Users per second: 390\n"
     ]
    },
    {
     "name": "stderr",
     "output_type": "stream",
     "text": [
      "[I 2023-12-03 20:41:40,623] Trial 380 finished with value: 0.05127516213065244 and parameters: {'cutoff_p3alpha': 47, 'cutoff_merging': 14}. Best is trial 111 with value: 0.051282065587010754.\n"
     ]
    },
    {
     "name": "stdout",
     "output_type": "stream",
     "text": [
      "Recommender_Base_Class: URM Detected 627 ( 4.8%) users with no interactions.\n",
      "Recommender_Base_Class: URM Detected 247 ( 1.1%) items with no interactions.\n",
      "EvaluatorHoldout: Processed 10456 (100.0%) in 26.86 sec. Users per second: 389\n"
     ]
    },
    {
     "name": "stderr",
     "output_type": "stream",
     "text": [
      "[I 2023-12-03 20:42:07,671] Trial 381 finished with value: 0.050132740675970115 and parameters: {'cutoff_p3alpha': 11, 'cutoff_merging': 11}. Best is trial 111 with value: 0.051282065587010754.\n"
     ]
    },
    {
     "name": "stdout",
     "output_type": "stream",
     "text": [
      "Recommender_Base_Class: URM Detected 627 ( 4.8%) users with no interactions.\n",
      "Recommender_Base_Class: URM Detected 247 ( 1.1%) items with no interactions.\n",
      "EvaluatorHoldout: Processed 10456 (100.0%) in 26.75 sec. Users per second: 391\n"
     ]
    },
    {
     "name": "stderr",
     "output_type": "stream",
     "text": [
      "[I 2023-12-03 20:42:34,600] Trial 382 finished with value: 0.05122985131951338 and parameters: {'cutoff_p3alpha': 44, 'cutoff_merging': 14}. Best is trial 111 with value: 0.051282065587010754.\n"
     ]
    },
    {
     "name": "stdout",
     "output_type": "stream",
     "text": [
      "Recommender_Base_Class: URM Detected 627 ( 4.8%) users with no interactions.\n",
      "Recommender_Base_Class: URM Detected 247 ( 1.1%) items with no interactions.\n",
      "EvaluatorHoldout: Processed 10456 (100.0%) in 26.93 sec. Users per second: 388\n"
     ]
    },
    {
     "name": "stderr",
     "output_type": "stream",
     "text": [
      "[I 2023-12-03 20:43:01,730] Trial 383 finished with value: 0.051157958975480616 and parameters: {'cutoff_p3alpha': 90, 'cutoff_merging': 16}. Best is trial 111 with value: 0.051282065587010754.\n"
     ]
    },
    {
     "name": "stdout",
     "output_type": "stream",
     "text": [
      "Recommender_Base_Class: URM Detected 627 ( 4.8%) users with no interactions.\n",
      "Recommender_Base_Class: URM Detected 247 ( 1.1%) items with no interactions.\n",
      "EvaluatorHoldout: Processed 10456 (100.0%) in 26.81 sec. Users per second: 390\n"
     ]
    },
    {
     "name": "stderr",
     "output_type": "stream",
     "text": [
      "[I 2023-12-03 20:43:28,726] Trial 384 finished with value: 0.05120902709464365 and parameters: {'cutoff_p3alpha': 68, 'cutoff_merging': 15}. Best is trial 111 with value: 0.051282065587010754.\n"
     ]
    },
    {
     "name": "stdout",
     "output_type": "stream",
     "text": [
      "Recommender_Base_Class: URM Detected 627 ( 4.8%) users with no interactions.\n",
      "Recommender_Base_Class: URM Detected 247 ( 1.1%) items with no interactions.\n",
      "EvaluatorHoldout: Processed 10456 (100.0%) in 26.67 sec. Users per second: 392\n"
     ]
    },
    {
     "name": "stderr",
     "output_type": "stream",
     "text": [
      "[I 2023-12-03 20:43:55,581] Trial 385 finished with value: 0.051236322123851444 and parameters: {'cutoff_p3alpha': 45, 'cutoff_merging': 14}. Best is trial 111 with value: 0.051282065587010754.\n"
     ]
    },
    {
     "name": "stdout",
     "output_type": "stream",
     "text": [
      "Recommender_Base_Class: URM Detected 627 ( 4.8%) users with no interactions.\n",
      "Recommender_Base_Class: URM Detected 247 ( 1.1%) items with no interactions.\n",
      "EvaluatorHoldout: Processed 10456 (100.0%) in 26.61 sec. Users per second: 393\n"
     ]
    },
    {
     "name": "stderr",
     "output_type": "stream",
     "text": [
      "[I 2023-12-03 20:44:22,382] Trial 386 finished with value: 0.050132740675970115 and parameters: {'cutoff_p3alpha': 11, 'cutoff_merging': 11}. Best is trial 111 with value: 0.051282065587010754.\n"
     ]
    },
    {
     "name": "stdout",
     "output_type": "stream",
     "text": [
      "Recommender_Base_Class: URM Detected 627 ( 4.8%) users with no interactions.\n",
      "Recommender_Base_Class: URM Detected 247 ( 1.1%) items with no interactions.\n",
      "EvaluatorHoldout: Processed 10456 (100.0%) in 26.69 sec. Users per second: 392\n"
     ]
    },
    {
     "name": "stderr",
     "output_type": "stream",
     "text": [
      "[I 2023-12-03 20:44:49,253] Trial 387 finished with value: 0.05111558943904068 and parameters: {'cutoff_p3alpha': 127, 'cutoff_merging': 19}. Best is trial 111 with value: 0.051282065587010754.\n"
     ]
    },
    {
     "name": "stdout",
     "output_type": "stream",
     "text": [
      "Recommender_Base_Class: URM Detected 627 ( 4.8%) users with no interactions.\n",
      "Recommender_Base_Class: URM Detected 247 ( 1.1%) items with no interactions.\n",
      "EvaluatorHoldout: Processed 10456 (100.0%) in 26.72 sec. Users per second: 391\n"
     ]
    },
    {
     "name": "stderr",
     "output_type": "stream",
     "text": [
      "[I 2023-12-03 20:45:16,160] Trial 388 finished with value: 0.05113267160345455 and parameters: {'cutoff_p3alpha': 96, 'cutoff_merging': 17}. Best is trial 111 with value: 0.051282065587010754.\n"
     ]
    },
    {
     "name": "stdout",
     "output_type": "stream",
     "text": [
      "Recommender_Base_Class: URM Detected 627 ( 4.8%) users with no interactions.\n",
      "Recommender_Base_Class: URM Detected 247 ( 1.1%) items with no interactions.\n",
      "EvaluatorHoldout: Processed 10456 (100.0%) in 26.68 sec. Users per second: 392\n"
     ]
    },
    {
     "name": "stderr",
     "output_type": "stream",
     "text": [
      "[I 2023-12-03 20:45:43,023] Trial 389 finished with value: 0.051261180639050434 and parameters: {'cutoff_p3alpha': 53, 'cutoff_merging': 14}. Best is trial 111 with value: 0.051282065587010754.\n"
     ]
    },
    {
     "name": "stdout",
     "output_type": "stream",
     "text": [
      "Recommender_Base_Class: URM Detected 627 ( 4.8%) users with no interactions.\n",
      "Recommender_Base_Class: URM Detected 247 ( 1.1%) items with no interactions.\n",
      "EvaluatorHoldout: Processed 10456 (100.0%) in 26.71 sec. Users per second: 391\n"
     ]
    },
    {
     "name": "stderr",
     "output_type": "stream",
     "text": [
      "[I 2023-12-03 20:46:09,918] Trial 390 finished with value: 0.051210488244010324 and parameters: {'cutoff_p3alpha': 56, 'cutoff_merging': 15}. Best is trial 111 with value: 0.051282065587010754.\n"
     ]
    },
    {
     "name": "stdout",
     "output_type": "stream",
     "text": [
      "Recommender_Base_Class: URM Detected 627 ( 4.8%) users with no interactions.\n",
      "Recommender_Base_Class: URM Detected 247 ( 1.1%) items with no interactions.\n",
      "EvaluatorHoldout: Processed 10456 (100.0%) in 26.67 sec. Users per second: 392\n"
     ]
    },
    {
     "name": "stderr",
     "output_type": "stream",
     "text": [
      "[I 2023-12-03 20:46:36,775] Trial 391 finished with value: 0.051121221505690366 and parameters: {'cutoff_p3alpha': 103, 'cutoff_merging': 17}. Best is trial 111 with value: 0.051282065587010754.\n"
     ]
    },
    {
     "name": "stdout",
     "output_type": "stream",
     "text": [
      "Recommender_Base_Class: URM Detected 627 ( 4.8%) users with no interactions.\n",
      "Recommender_Base_Class: URM Detected 247 ( 1.1%) items with no interactions.\n",
      "EvaluatorHoldout: Processed 10456 (100.0%) in 26.70 sec. Users per second: 392\n"
     ]
    },
    {
     "name": "stderr",
     "output_type": "stream",
     "text": [
      "[I 2023-12-03 20:47:03,648] Trial 392 finished with value: 0.051276057796238214 and parameters: {'cutoff_p3alpha': 49, 'cutoff_merging': 14}. Best is trial 111 with value: 0.051282065587010754.\n"
     ]
    },
    {
     "name": "stdout",
     "output_type": "stream",
     "text": [
      "Recommender_Base_Class: URM Detected 627 ( 4.8%) users with no interactions.\n",
      "Recommender_Base_Class: URM Detected 247 ( 1.1%) items with no interactions.\n",
      "EvaluatorHoldout: Processed 10456 (100.0%) in 26.69 sec. Users per second: 392\n"
     ]
    },
    {
     "name": "stderr",
     "output_type": "stream",
     "text": [
      "[I 2023-12-03 20:47:30,512] Trial 393 finished with value: 0.05122211292065985 and parameters: {'cutoff_p3alpha': 41, 'cutoff_merging': 14}. Best is trial 111 with value: 0.051282065587010754.\n"
     ]
    },
    {
     "name": "stdout",
     "output_type": "stream",
     "text": [
      "Recommender_Base_Class: URM Detected 627 ( 4.8%) users with no interactions.\n",
      "Recommender_Base_Class: URM Detected 247 ( 1.1%) items with no interactions.\n",
      "EvaluatorHoldout: Processed 10456 (100.0%) in 26.61 sec. Users per second: 393\n"
     ]
    },
    {
     "name": "stderr",
     "output_type": "stream",
     "text": [
      "[I 2023-12-03 20:47:57,303] Trial 394 finished with value: 0.050608456753015535 and parameters: {'cutoff_p3alpha': 13, 'cutoff_merging': 13}. Best is trial 111 with value: 0.051282065587010754.\n"
     ]
    },
    {
     "name": "stdout",
     "output_type": "stream",
     "text": [
      "Recommender_Base_Class: URM Detected 627 ( 4.8%) users with no interactions.\n",
      "Recommender_Base_Class: URM Detected 247 ( 1.1%) items with no interactions.\n",
      "EvaluatorHoldout: Processed 10456 (100.0%) in 26.75 sec. Users per second: 391\n"
     ]
    },
    {
     "name": "stderr",
     "output_type": "stream",
     "text": [
      "[I 2023-12-03 20:48:24,231] Trial 395 finished with value: 0.05106717415989667 and parameters: {'cutoff_p3alpha': 145, 'cutoff_merging': 22}. Best is trial 111 with value: 0.051282065587010754.\n"
     ]
    },
    {
     "name": "stdout",
     "output_type": "stream",
     "text": [
      "Recommender_Base_Class: URM Detected 627 ( 4.8%) users with no interactions.\n",
      "Recommender_Base_Class: URM Detected 247 ( 1.1%) items with no interactions.\n",
      "EvaluatorHoldout: Processed 10456 (100.0%) in 26.78 sec. Users per second: 390\n"
     ]
    },
    {
     "name": "stderr",
     "output_type": "stream",
     "text": [
      "[I 2023-12-03 20:48:51,193] Trial 396 finished with value: 0.05109118634702096 and parameters: {'cutoff_p3alpha': 78, 'cutoff_merging': 12}. Best is trial 111 with value: 0.051282065587010754.\n"
     ]
    },
    {
     "name": "stdout",
     "output_type": "stream",
     "text": [
      "Recommender_Base_Class: URM Detected 627 ( 4.8%) users with no interactions.\n",
      "Recommender_Base_Class: URM Detected 247 ( 1.1%) items with no interactions.\n",
      "EvaluatorHoldout: Processed 10456 (100.0%) in 26.67 sec. Users per second: 392\n"
     ]
    },
    {
     "name": "stderr",
     "output_type": "stream",
     "text": [
      "[I 2023-12-03 20:49:18,040] Trial 397 finished with value: 0.05109966860373381 and parameters: {'cutoff_p3alpha': 48, 'cutoff_merging': 13}. Best is trial 111 with value: 0.051282065587010754.\n"
     ]
    },
    {
     "name": "stdout",
     "output_type": "stream",
     "text": [
      "Recommender_Base_Class: URM Detected 627 ( 4.8%) users with no interactions.\n",
      "Recommender_Base_Class: URM Detected 247 ( 1.1%) items with no interactions.\n",
      "EvaluatorHoldout: Processed 10456 (100.0%) in 26.62 sec. Users per second: 393\n"
     ]
    },
    {
     "name": "stderr",
     "output_type": "stream",
     "text": [
      "[I 2023-12-03 20:49:44,844] Trial 398 finished with value: 0.050969891973622526 and parameters: {'cutoff_p3alpha': 112, 'cutoff_merging': 10}. Best is trial 111 with value: 0.051282065587010754.\n"
     ]
    },
    {
     "name": "stdout",
     "output_type": "stream",
     "text": [
      "Recommender_Base_Class: URM Detected 627 ( 4.8%) users with no interactions.\n",
      "Recommender_Base_Class: URM Detected 247 ( 1.1%) items with no interactions.\n",
      "EvaluatorHoldout: Processed 10456 (100.0%) in 26.46 sec. Users per second: 395\n"
     ]
    },
    {
     "name": "stderr",
     "output_type": "stream",
     "text": [
      "[I 2023-12-03 20:50:11,496] Trial 399 finished with value: 0.050132740675970115 and parameters: {'cutoff_p3alpha': 11, 'cutoff_merging': 11}. Best is trial 111 with value: 0.051282065587010754.\n"
     ]
    }
   ],
   "source": [
    "if config['tune_parameters']:\n",
    "    study = optuna.create_study(direction='maximize', study_name='hyperparameters_tuning_3stage_pipeline_v2', \n",
    "                                storage=f'sqlite:///{config[\"database_path\"]}', load_if_exists=True)\n",
    "    study.optimize(objective, n_trials=100)"
   ]
  },
  {
   "cell_type": "code",
   "execution_count": 26,
   "id": "ba22d3f6",
   "metadata": {
    "execution": {
     "iopub.execute_input": "2023-12-03T20:50:11.630947Z",
     "iopub.status.busy": "2023-12-03T20:50:11.630215Z",
     "iopub.status.idle": "2023-12-03T20:50:12.477885Z",
     "shell.execute_reply": "2023-12-03T20:50:12.476804Z"
    },
    "papermill": {
     "duration": 0.907991,
     "end_time": "2023-12-03T20:50:12.480613",
     "exception": false,
     "start_time": "2023-12-03T20:50:11.572622",
     "status": "completed"
    },
    "tags": []
   },
   "outputs": [
    {
     "data": {
      "text/html": [
       "        <script type=\"text/javascript\">\n",
       "        window.PlotlyConfig = {MathJaxConfig: 'local'};\n",
       "        if (window.MathJax && window.MathJax.Hub && window.MathJax.Hub.Config) {window.MathJax.Hub.Config({SVG: {font: \"STIX-Web\"}});}\n",
       "        if (typeof require !== 'undefined') {\n",
       "        require.undef(\"plotly\");\n",
       "        requirejs.config({\n",
       "            paths: {\n",
       "                'plotly': ['https://cdn.plot.ly/plotly-2.25.2.min']\n",
       "            }\n",
       "        });\n",
       "        require(['plotly'], function(Plotly) {\n",
       "            window._Plotly = Plotly;\n",
       "        });\n",
       "        }\n",
       "        </script>\n",
       "        "
      ]
     },
     "metadata": {},
     "output_type": "display_data"
    },
    {
     "data": {
      "text/html": [
       "<div>                            <div id=\"dc62f7c1-bc42-4588-a170-212234bc591b\" class=\"plotly-graph-div\" style=\"height:525px; width:100%;\"></div>            <script type=\"text/javascript\">                require([\"plotly\"], function(Plotly) {                    window.PLOTLYENV=window.PLOTLYENV || {};                                    if (document.getElementById(\"dc62f7c1-bc42-4588-a170-212234bc591b\")) {                    Plotly.newPlot(                        \"dc62f7c1-bc42-4588-a170-212234bc591b\",                        [{\"mode\":\"markers\",\"name\":\"Objective Value\",\"x\":[0,1,2,3,4,5,6,7,8,9,10,11,12,13,14,15,16,17,18,19,20,21,22,23,24,25,26,27,28,29,30,31,32,33,34,35,36,37,38,39,40,41,42,43,44,45,46,47,48,49,50,51,52,53,54,55,56,57,58,59,60,61,62,63,64,65,66,67,68,69,70,71,72,73,74,75,76,77,78,79,80,81,82,83,84,85,86,87,88,89,90,91,92,93,94,95,96,97,98,99,100,101,102,103,104,105,106,107,108,109,110,111,112,113,114,115,116,117,118,119,120,121,122,123,124,125,126,127,128,129,130,131,132,133,134,135,136,137,138,139,140,141,142,143,144,145,146,147,148,149,150,151,152,153,154,155,156,157,158,159,160,161,162,163,164,165,166,167,168,169,170,171,172,173,174,175,176,177,178,179,180,181,182,183,184,185,186,187,188,189,190,191,192,193,194,195,196,197,198,199,200,201,202,203,204,205,206,207,208,209,210,211,212,213,214,215,216,217,218,219,220,221,222,223,224,225,226,227,228,229,230,231,232,233,234,235,236,237,238,239,240,241,242,243,244,245,246,247,248,249,250,251,252,253,254,255,256,257,258,259,260,261,262,263,264,265,266,267,268,269,270,271,272,273,274,275,276,277,278,279,280,281,282,283,284,285,286,287,288,289,290,291,292,293,294,295,296,297,298,299,300,301,302,303,304,305,306,307,308,309,310,311,312,313,314,315,316,317,318,319,320,321,322,323,324,325,326,327,328,329,330,331,332,333,334,335,336,337,338,339,340,341,342,343,344,345,346,347,348,349,350,351,352,353,354,355,356,357,358,359,360,361,362,363,364,365,366,367,368,369,370,371,372,373,374,375,376,377,378,379,380,381,382,383,384,385,386,387,388,389,390,391,392,393,394,395,396,397,398,399],\"y\":[0.050920497534643096,0.05089082671451703,0.05089482684810783,0.05090556724475105,0.050894959679868436,0.05085646883083818,0.050906884176777634,0.050904151637702316,0.050890959546277634,0.05087843920404229,0.05114834954639913,0.051150042202548485,0.05097998339223534,0.05089830324504253,0.050979398932488665,0.05089422341239537,0.050925492008841874,0.0508813918643209,0.05102174190257648,0.05095669229181148,0.05107728075928216,0.05097123547200121,0.05107729594005479,0.050898409510451006,0.050965956358315405,0.05089562004347831,0.05089341503625225,0.05090850851945018,0.050972195655870696,0.05089659540812045,0.05089894083749343,0.05096954281585178,0.05067263346935373,0.05103691508483075,0.05092571592523832,0.05090237169211021,0.050993209640398475,0.05089831842581517,0.051095440758553434,0.05110441259518402,0.05095669229181148,0.051095440758553434,0.051066695965558496,0.05097211216162119,0.05095498825008255,0.05090549134088785,0.05091598884516883,0.051095440758553434,0.050904216155986046,0.050903646877012015,0.05089239792448533,0.05113312323144057,0.05111845101468345,0.05092594363682793,0.05094112440946853,0.05115281269355546,0.05116002356055974,0.05103836484861794,0.051156239752979074,0.051211262463414974,0.05090118759184425,0.051258470871134096,0.051245267394129934,0.051222693585213336,0.05122738823915247,0.05122196870331976,0.05122985131951338,0.050983941778701386,0.050132740675970115,0.051220492373180465,0.05100673191362811,0.05122491756840519,0.05124802649955737,0.05106250227711648,0.05095315517178618,0.05102279317108183,0.05110072366743245,0.05103691508483075,0.0511170581787936,0.051001965151018916,0.05100792739947354,0.05114401543581021,0.05105527622933955,0.050905517907239975,0.05110733868911047,0.05059581496459904,0.05105317748752199,0.05100245093574344,0.050974518314084706,0.05095600156665631,0.05095669229181148,0.051210104929501135,0.05125044783279354,0.050987380223704484,0.05101281940345696,0.05106638096452622,0.05108590723333519,0.0509458418345666,0.05115200811260552,0.05104138961756655,0.05096797919626981,0.05122679998421265,0.05080279720916754,0.05101450826441323,0.05098043502022141,0.051148118039616323,0.051088248867514986,0.05114580297178873,0.05101529007420423,0.05109211996453835,0.05089908885002668,0.051282065587010754,0.05098254514761847,0.05122211292065985,0.05113299799006631,0.05052903095055984,0.051236322123851444,0.051163647970027745,0.05104019413172111,0.051133574859426684,0.05094622514907578,0.05112618941353699,0.05110572193682429,0.051241031958563193,0.05110156620031388,0.051037279423374125,0.051103953376811735,0.050973903492792814,0.051089683450529534,0.05101867918169624,0.050608456753015535,0.051149290754302856,0.05114087301587362,0.05103568544224687,0.051142892058634815,0.050932342332495946,0.05126504035049432,0.05106676048384224,0.05098346358436321,0.051095440758553434,0.051282065587010754,0.050608456753015535,0.05120649190561268,0.05113267160345455,0.05090905502726523,0.05126053925140638,0.05109603660387959,0.05108237770369623,0.05114087301587362,0.05113089165786241,0.05052903095055984,0.051236322123851444,0.051210104929501135,0.050968977332070925,0.05127516213065244,0.051261180639050434,0.051186677202123526,0.051049405065520796,0.05122961222234429,0.05052903095055984,0.051241031958563193,0.05109125466049774,0.05097270800694737,0.051241031958563193,0.051245244622970955,0.05065050749323012,0.050951917938815997,0.05113408341531013,0.051095440758553434,0.05112884604874911,0.05106250227711648,0.05122961222234429,0.05114981828615211,0.05122606371673956,0.050608456753015535,0.050973903492792814,0.05103691508483075,0.051089406401428845,0.051095440758553434,0.050132740675970115,0.05115942771523361,0.051261180639050434,0.051144440497444155,0.05122968053582119,0.0511437991098001,0.05120902709464365,0.05091137768547926,0.05113089165786241,0.05108237770369623,0.051086229824753804,0.050608456753015535,0.05127516213065244,0.0512047650927248,0.05126290745193832,0.05113430353651339,0.05122985131951338,0.05097312168300182,0.051095440758553434,0.05065050749323012,0.0511409413293505,0.05109966860373381,0.05126053925140638,0.050132740675970115,0.05108861700125153,0.05114491869178233,0.0509257842387152,0.05126504035049432,0.05113980277140246,0.051146087611275655,0.05122606371673956,0.051088142602106514,0.05109966860373381,0.05118065423057838,0.05115781475814053,0.05095317794294529,0.05106321577343063,0.05109408587459527,0.051123031812827666,0.05118065423057838,0.050608456753015535,0.05096856365601648,0.05126088461398395,0.05114545760921108,0.05108861700125153,0.051236322123851444,0.050132740675970115,0.051144440497444155,0.05126290745193832,0.051073834723892736,0.05113679697841963,0.05120709913651828,0.051241031958563193,0.051270031029499896,0.051157435238824524,0.051282065587010754,0.050132740675970115,0.05113705125636126,0.05112897888050969,0.0512047650927248,0.051130758826101824,0.05122606371673956,0.05112475862571554,0.050132740675970115,0.0510909434546587,0.051282065587010754,0.050970688964186155,0.051279898531716286,0.051157958975480616,0.0512002601984437,0.051130758826101824,0.050132740675970115,0.05095259348319849,0.051095440758553434,0.05113810252486664,0.051236322123851444,0.051142892058634815,0.05105106736012496,0.05109153170959852,0.051241031958563193,0.050608456753015535,0.05112141126534837,0.051095440758553434,0.05094436929962046,0.05120391876465008,0.051241031958563193,0.051152968296475025,0.05122211292065985,0.051095171299839114,0.05052903095055984,0.05113089165786241,0.050912721183857944,0.051207106726904615,0.0511020102379137,0.05122985131951338,0.05111899752249851,0.05114545760921108,0.05123871689073552,0.05097270800694737,0.05065050749323012,0.051209512879368146,0.05107510990879455,0.051139153793372,0.0510218633487576,0.051015768268542414,0.05096856365601648,0.0510641380053685,0.051159625065277936,0.05099123993514835,0.05065050749323012,0.050955288070342206,0.05121302722823447,0.05113089165786241,0.05052903095055984,0.051088142602106514,0.05118048724207933,0.051095440758553434,0.050959910615611274,0.05109905378244186,0.05112884604874911,0.05113810252486664,0.051241031958563193,0.050132740675970115,0.050973903492792814,0.0511560082461963,0.05105187573626807,0.050132740675970115,0.05113089165786241,0.05122109580889293,0.05114370802516425,0.05126836114450943,0.05108861700125153,0.05106250227711648,0.050922915072686134,0.05105106736012496,0.051146087611275655,0.051159625065277936,0.050132740675970115,0.051210488244010324,0.051095440758553434,0.051130758826101824,0.051241031958563193,0.051089406401428845,0.051245244622970955,0.05096877618683344,0.050132740675970115,0.05120902709464365,0.05101259548706051,0.05122985131951338,0.05112173006157382,0.05106382679952941,0.051140186085911636,0.05122961222234429,0.050899031922129266,0.05052903095055984,0.05112141126534837,0.0511395636742333,0.05109057911611528,0.05122835980860146,0.05116068392416961,0.051017855624780485,0.050132740675970115,0.05111419280795767,0.05113566221566473,0.050905108026378675,0.051101532043575516,0.05122985131951338,0.05115887741222537,0.05118065423057838,0.05087744865862748,0.051089406401428845,0.05108566434097286,0.050132740675970115,0.05113600378304913,0.05121131939131239,0.051095440758553434,0.05052903095055984,0.05101653489756078,0.051204677803282125,0.05096797919626981,0.050964453461823975,0.05110733868911047,0.050979398932488665,0.051157958975480616,0.05113312323144057,0.051276057796238214,0.051282065587010754,0.05112087993830595,0.05105888925322803,0.051139153793372,0.050608456753015535,0.05097292053776433,0.05092735924387667,0.05118065423057838,0.05115470649494238,0.050608456753015535,0.051210104929501135,0.05114491869178233,0.051282065587010754,0.05109924733729312,0.051276057796238214,0.05127516213065244,0.050132740675970115,0.05122985131951338,0.051157958975480616,0.05120902709464365,0.051236322123851444,0.050132740675970115,0.05111558943904068,0.05113267160345455,0.051261180639050434,0.051210488244010324,0.051121221505690366,0.051276057796238214,0.05122211292065985,0.050608456753015535,0.05106717415989667,0.05109118634702096,0.05109966860373381,0.050969891973622526,0.050132740675970115],\"type\":\"scatter\"},{\"mode\":\"lines\",\"name\":\"Best Value\",\"x\":[0,1,2,3,4,5,6,7,8,9,10,11,12,13,14,15,16,17,18,19,20,21,22,23,24,25,26,27,28,29,30,31,32,33,34,35,36,37,38,39,40,41,42,43,44,45,46,47,48,49,50,51,52,53,54,55,56,57,58,59,60,61,62,63,64,65,66,67,68,69,70,71,72,73,74,75,76,77,78,79,80,81,82,83,84,85,86,87,88,89,90,91,92,93,94,95,96,97,98,99,100,101,102,103,104,105,106,107,108,109,110,111,112,113,114,115,116,117,118,119,120,121,122,123,124,125,126,127,128,129,130,131,132,133,134,135,136,137,138,139,140,141,142,143,144,145,146,147,148,149,150,151,152,153,154,155,156,157,158,159,160,161,162,163,164,165,166,167,168,169,170,171,172,173,174,175,176,177,178,179,180,181,182,183,184,185,186,187,188,189,190,191,192,193,194,195,196,197,198,199,200,201,202,203,204,205,206,207,208,209,210,211,212,213,214,215,216,217,218,219,220,221,222,223,224,225,226,227,228,229,230,231,232,233,234,235,236,237,238,239,240,241,242,243,244,245,246,247,248,249,250,251,252,253,254,255,256,257,258,259,260,261,262,263,264,265,266,267,268,269,270,271,272,273,274,275,276,277,278,279,280,281,282,283,284,285,286,287,288,289,290,291,292,293,294,295,296,297,298,299,300,301,302,303,304,305,306,307,308,309,310,311,312,313,314,315,316,317,318,319,320,321,322,323,324,325,326,327,328,329,330,331,332,333,334,335,336,337,338,339,340,341,342,343,344,345,346,347,348,349,350,351,352,353,354,355,356,357,358,359,360,361,362,363,364,365,366,367,368,369,370,371,372,373,374,375,376,377,378,379,380,381,382,383,384,385,386,387,388,389,390,391,392,393,394,395,396,397,398,399],\"y\":[0.050920497534643096,0.050920497534643096,0.050920497534643096,0.050920497534643096,0.050920497534643096,0.050920497534643096,0.050920497534643096,0.050920497534643096,0.050920497534643096,0.050920497534643096,0.05114834954639913,0.051150042202548485,0.051150042202548485,0.051150042202548485,0.051150042202548485,0.051150042202548485,0.051150042202548485,0.051150042202548485,0.051150042202548485,0.051150042202548485,0.051150042202548485,0.051150042202548485,0.051150042202548485,0.051150042202548485,0.051150042202548485,0.051150042202548485,0.051150042202548485,0.051150042202548485,0.051150042202548485,0.051150042202548485,0.051150042202548485,0.051150042202548485,0.051150042202548485,0.051150042202548485,0.051150042202548485,0.051150042202548485,0.051150042202548485,0.051150042202548485,0.051150042202548485,0.051150042202548485,0.051150042202548485,0.051150042202548485,0.051150042202548485,0.051150042202548485,0.051150042202548485,0.051150042202548485,0.051150042202548485,0.051150042202548485,0.051150042202548485,0.051150042202548485,0.051150042202548485,0.051150042202548485,0.051150042202548485,0.051150042202548485,0.051150042202548485,0.05115281269355546,0.05116002356055974,0.05116002356055974,0.05116002356055974,0.051211262463414974,0.051211262463414974,0.051258470871134096,0.051258470871134096,0.051258470871134096,0.051258470871134096,0.051258470871134096,0.051258470871134096,0.051258470871134096,0.051258470871134096,0.051258470871134096,0.051258470871134096,0.051258470871134096,0.051258470871134096,0.051258470871134096,0.051258470871134096,0.051258470871134096,0.051258470871134096,0.051258470871134096,0.051258470871134096,0.051258470871134096,0.051258470871134096,0.051258470871134096,0.051258470871134096,0.051258470871134096,0.051258470871134096,0.051258470871134096,0.051258470871134096,0.051258470871134096,0.051258470871134096,0.051258470871134096,0.051258470871134096,0.051258470871134096,0.051258470871134096,0.051258470871134096,0.051258470871134096,0.051258470871134096,0.051258470871134096,0.051258470871134096,0.051258470871134096,0.051258470871134096,0.051258470871134096,0.051258470871134096,0.051258470871134096,0.051258470871134096,0.051258470871134096,0.051258470871134096,0.051258470871134096,0.051258470871134096,0.051258470871134096,0.051258470871134096,0.051258470871134096,0.051282065587010754,0.051282065587010754,0.051282065587010754,0.051282065587010754,0.051282065587010754,0.051282065587010754,0.051282065587010754,0.051282065587010754,0.051282065587010754,0.051282065587010754,0.051282065587010754,0.051282065587010754,0.051282065587010754,0.051282065587010754,0.051282065587010754,0.051282065587010754,0.051282065587010754,0.051282065587010754,0.051282065587010754,0.051282065587010754,0.051282065587010754,0.051282065587010754,0.051282065587010754,0.051282065587010754,0.051282065587010754,0.051282065587010754,0.051282065587010754,0.051282065587010754,0.051282065587010754,0.051282065587010754,0.051282065587010754,0.051282065587010754,0.051282065587010754,0.051282065587010754,0.051282065587010754,0.051282065587010754,0.051282065587010754,0.051282065587010754,0.051282065587010754,0.051282065587010754,0.051282065587010754,0.051282065587010754,0.051282065587010754,0.051282065587010754,0.051282065587010754,0.051282065587010754,0.051282065587010754,0.051282065587010754,0.051282065587010754,0.051282065587010754,0.051282065587010754,0.051282065587010754,0.051282065587010754,0.051282065587010754,0.051282065587010754,0.051282065587010754,0.051282065587010754,0.051282065587010754,0.051282065587010754,0.051282065587010754,0.051282065587010754,0.051282065587010754,0.051282065587010754,0.051282065587010754,0.051282065587010754,0.051282065587010754,0.051282065587010754,0.051282065587010754,0.051282065587010754,0.051282065587010754,0.051282065587010754,0.051282065587010754,0.051282065587010754,0.051282065587010754,0.051282065587010754,0.051282065587010754,0.051282065587010754,0.051282065587010754,0.051282065587010754,0.051282065587010754,0.051282065587010754,0.051282065587010754,0.051282065587010754,0.051282065587010754,0.051282065587010754,0.051282065587010754,0.051282065587010754,0.051282065587010754,0.051282065587010754,0.051282065587010754,0.051282065587010754,0.051282065587010754,0.051282065587010754,0.051282065587010754,0.051282065587010754,0.051282065587010754,0.051282065587010754,0.051282065587010754,0.051282065587010754,0.051282065587010754,0.051282065587010754,0.051282065587010754,0.051282065587010754,0.051282065587010754,0.051282065587010754,0.051282065587010754,0.051282065587010754,0.051282065587010754,0.051282065587010754,0.051282065587010754,0.051282065587010754,0.051282065587010754,0.051282065587010754,0.051282065587010754,0.051282065587010754,0.051282065587010754,0.051282065587010754,0.051282065587010754,0.051282065587010754,0.051282065587010754,0.051282065587010754,0.051282065587010754,0.051282065587010754,0.051282065587010754,0.051282065587010754,0.051282065587010754,0.051282065587010754,0.051282065587010754,0.051282065587010754,0.051282065587010754,0.051282065587010754,0.051282065587010754,0.051282065587010754,0.051282065587010754,0.051282065587010754,0.051282065587010754,0.051282065587010754,0.051282065587010754,0.051282065587010754,0.051282065587010754,0.051282065587010754,0.051282065587010754,0.051282065587010754,0.051282065587010754,0.051282065587010754,0.051282065587010754,0.051282065587010754,0.051282065587010754,0.051282065587010754,0.051282065587010754,0.051282065587010754,0.051282065587010754,0.051282065587010754,0.051282065587010754,0.051282065587010754,0.051282065587010754,0.051282065587010754,0.051282065587010754,0.051282065587010754,0.051282065587010754,0.051282065587010754,0.051282065587010754,0.051282065587010754,0.051282065587010754,0.051282065587010754,0.051282065587010754,0.051282065587010754,0.051282065587010754,0.051282065587010754,0.051282065587010754,0.051282065587010754,0.051282065587010754,0.051282065587010754,0.051282065587010754,0.051282065587010754,0.051282065587010754,0.051282065587010754,0.051282065587010754,0.051282065587010754,0.051282065587010754,0.051282065587010754,0.051282065587010754,0.051282065587010754,0.051282065587010754,0.051282065587010754,0.051282065587010754,0.051282065587010754,0.051282065587010754,0.051282065587010754,0.051282065587010754,0.051282065587010754,0.051282065587010754,0.051282065587010754,0.051282065587010754,0.051282065587010754,0.051282065587010754,0.051282065587010754,0.051282065587010754,0.051282065587010754,0.051282065587010754,0.051282065587010754,0.051282065587010754,0.051282065587010754,0.051282065587010754,0.051282065587010754,0.051282065587010754,0.051282065587010754,0.051282065587010754,0.051282065587010754,0.051282065587010754,0.051282065587010754,0.051282065587010754,0.051282065587010754,0.051282065587010754,0.051282065587010754,0.051282065587010754,0.051282065587010754,0.051282065587010754,0.051282065587010754,0.051282065587010754,0.051282065587010754,0.051282065587010754,0.051282065587010754,0.051282065587010754,0.051282065587010754,0.051282065587010754,0.051282065587010754,0.051282065587010754,0.051282065587010754,0.051282065587010754,0.051282065587010754,0.051282065587010754,0.051282065587010754,0.051282065587010754,0.051282065587010754,0.051282065587010754,0.051282065587010754,0.051282065587010754,0.051282065587010754,0.051282065587010754,0.051282065587010754,0.051282065587010754,0.051282065587010754,0.051282065587010754,0.051282065587010754,0.051282065587010754,0.051282065587010754,0.051282065587010754,0.051282065587010754,0.051282065587010754,0.051282065587010754,0.051282065587010754,0.051282065587010754,0.051282065587010754,0.051282065587010754,0.051282065587010754,0.051282065587010754,0.051282065587010754,0.051282065587010754,0.051282065587010754,0.051282065587010754,0.051282065587010754,0.051282065587010754,0.051282065587010754,0.051282065587010754,0.051282065587010754,0.051282065587010754,0.051282065587010754,0.051282065587010754,0.051282065587010754,0.051282065587010754,0.051282065587010754,0.051282065587010754,0.051282065587010754,0.051282065587010754,0.051282065587010754,0.051282065587010754,0.051282065587010754,0.051282065587010754,0.051282065587010754,0.051282065587010754,0.051282065587010754,0.051282065587010754,0.051282065587010754,0.051282065587010754,0.051282065587010754,0.051282065587010754,0.051282065587010754,0.051282065587010754],\"type\":\"scatter\"},{\"marker\":{\"color\":\"#cccccc\"},\"mode\":\"markers\",\"name\":\"Infeasible Trial\",\"showlegend\":false,\"x\":[],\"y\":[],\"type\":\"scatter\"}],                        {\"title\":{\"text\":\"Optimization History Plot\"},\"xaxis\":{\"title\":{\"text\":\"Trial\"}},\"yaxis\":{\"title\":{\"text\":\"Objective Value\"}},\"template\":{\"data\":{\"histogram2dcontour\":[{\"type\":\"histogram2dcontour\",\"colorbar\":{\"outlinewidth\":0,\"ticks\":\"\"},\"colorscale\":[[0.0,\"#0d0887\"],[0.1111111111111111,\"#46039f\"],[0.2222222222222222,\"#7201a8\"],[0.3333333333333333,\"#9c179e\"],[0.4444444444444444,\"#bd3786\"],[0.5555555555555556,\"#d8576b\"],[0.6666666666666666,\"#ed7953\"],[0.7777777777777778,\"#fb9f3a\"],[0.8888888888888888,\"#fdca26\"],[1.0,\"#f0f921\"]]}],\"choropleth\":[{\"type\":\"choropleth\",\"colorbar\":{\"outlinewidth\":0,\"ticks\":\"\"}}],\"histogram2d\":[{\"type\":\"histogram2d\",\"colorbar\":{\"outlinewidth\":0,\"ticks\":\"\"},\"colorscale\":[[0.0,\"#0d0887\"],[0.1111111111111111,\"#46039f\"],[0.2222222222222222,\"#7201a8\"],[0.3333333333333333,\"#9c179e\"],[0.4444444444444444,\"#bd3786\"],[0.5555555555555556,\"#d8576b\"],[0.6666666666666666,\"#ed7953\"],[0.7777777777777778,\"#fb9f3a\"],[0.8888888888888888,\"#fdca26\"],[1.0,\"#f0f921\"]]}],\"heatmap\":[{\"type\":\"heatmap\",\"colorbar\":{\"outlinewidth\":0,\"ticks\":\"\"},\"colorscale\":[[0.0,\"#0d0887\"],[0.1111111111111111,\"#46039f\"],[0.2222222222222222,\"#7201a8\"],[0.3333333333333333,\"#9c179e\"],[0.4444444444444444,\"#bd3786\"],[0.5555555555555556,\"#d8576b\"],[0.6666666666666666,\"#ed7953\"],[0.7777777777777778,\"#fb9f3a\"],[0.8888888888888888,\"#fdca26\"],[1.0,\"#f0f921\"]]}],\"heatmapgl\":[{\"type\":\"heatmapgl\",\"colorbar\":{\"outlinewidth\":0,\"ticks\":\"\"},\"colorscale\":[[0.0,\"#0d0887\"],[0.1111111111111111,\"#46039f\"],[0.2222222222222222,\"#7201a8\"],[0.3333333333333333,\"#9c179e\"],[0.4444444444444444,\"#bd3786\"],[0.5555555555555556,\"#d8576b\"],[0.6666666666666666,\"#ed7953\"],[0.7777777777777778,\"#fb9f3a\"],[0.8888888888888888,\"#fdca26\"],[1.0,\"#f0f921\"]]}],\"contourcarpet\":[{\"type\":\"contourcarpet\",\"colorbar\":{\"outlinewidth\":0,\"ticks\":\"\"}}],\"contour\":[{\"type\":\"contour\",\"colorbar\":{\"outlinewidth\":0,\"ticks\":\"\"},\"colorscale\":[[0.0,\"#0d0887\"],[0.1111111111111111,\"#46039f\"],[0.2222222222222222,\"#7201a8\"],[0.3333333333333333,\"#9c179e\"],[0.4444444444444444,\"#bd3786\"],[0.5555555555555556,\"#d8576b\"],[0.6666666666666666,\"#ed7953\"],[0.7777777777777778,\"#fb9f3a\"],[0.8888888888888888,\"#fdca26\"],[1.0,\"#f0f921\"]]}],\"surface\":[{\"type\":\"surface\",\"colorbar\":{\"outlinewidth\":0,\"ticks\":\"\"},\"colorscale\":[[0.0,\"#0d0887\"],[0.1111111111111111,\"#46039f\"],[0.2222222222222222,\"#7201a8\"],[0.3333333333333333,\"#9c179e\"],[0.4444444444444444,\"#bd3786\"],[0.5555555555555556,\"#d8576b\"],[0.6666666666666666,\"#ed7953\"],[0.7777777777777778,\"#fb9f3a\"],[0.8888888888888888,\"#fdca26\"],[1.0,\"#f0f921\"]]}],\"mesh3d\":[{\"type\":\"mesh3d\",\"colorbar\":{\"outlinewidth\":0,\"ticks\":\"\"}}],\"scatter\":[{\"fillpattern\":{\"fillmode\":\"overlay\",\"size\":10,\"solidity\":0.2},\"type\":\"scatter\"}],\"parcoords\":[{\"type\":\"parcoords\",\"line\":{\"colorbar\":{\"outlinewidth\":0,\"ticks\":\"\"}}}],\"scatterpolargl\":[{\"type\":\"scatterpolargl\",\"marker\":{\"colorbar\":{\"outlinewidth\":0,\"ticks\":\"\"}}}],\"bar\":[{\"error_x\":{\"color\":\"#2a3f5f\"},\"error_y\":{\"color\":\"#2a3f5f\"},\"marker\":{\"line\":{\"color\":\"#E5ECF6\",\"width\":0.5},\"pattern\":{\"fillmode\":\"overlay\",\"size\":10,\"solidity\":0.2}},\"type\":\"bar\"}],\"scattergeo\":[{\"type\":\"scattergeo\",\"marker\":{\"colorbar\":{\"outlinewidth\":0,\"ticks\":\"\"}}}],\"scatterpolar\":[{\"type\":\"scatterpolar\",\"marker\":{\"colorbar\":{\"outlinewidth\":0,\"ticks\":\"\"}}}],\"histogram\":[{\"marker\":{\"pattern\":{\"fillmode\":\"overlay\",\"size\":10,\"solidity\":0.2}},\"type\":\"histogram\"}],\"scattergl\":[{\"type\":\"scattergl\",\"marker\":{\"colorbar\":{\"outlinewidth\":0,\"ticks\":\"\"}}}],\"scatter3d\":[{\"type\":\"scatter3d\",\"line\":{\"colorbar\":{\"outlinewidth\":0,\"ticks\":\"\"}},\"marker\":{\"colorbar\":{\"outlinewidth\":0,\"ticks\":\"\"}}}],\"scattermapbox\":[{\"type\":\"scattermapbox\",\"marker\":{\"colorbar\":{\"outlinewidth\":0,\"ticks\":\"\"}}}],\"scatterternary\":[{\"type\":\"scatterternary\",\"marker\":{\"colorbar\":{\"outlinewidth\":0,\"ticks\":\"\"}}}],\"scattercarpet\":[{\"type\":\"scattercarpet\",\"marker\":{\"colorbar\":{\"outlinewidth\":0,\"ticks\":\"\"}}}],\"carpet\":[{\"aaxis\":{\"endlinecolor\":\"#2a3f5f\",\"gridcolor\":\"white\",\"linecolor\":\"white\",\"minorgridcolor\":\"white\",\"startlinecolor\":\"#2a3f5f\"},\"baxis\":{\"endlinecolor\":\"#2a3f5f\",\"gridcolor\":\"white\",\"linecolor\":\"white\",\"minorgridcolor\":\"white\",\"startlinecolor\":\"#2a3f5f\"},\"type\":\"carpet\"}],\"table\":[{\"cells\":{\"fill\":{\"color\":\"#EBF0F8\"},\"line\":{\"color\":\"white\"}},\"header\":{\"fill\":{\"color\":\"#C8D4E3\"},\"line\":{\"color\":\"white\"}},\"type\":\"table\"}],\"barpolar\":[{\"marker\":{\"line\":{\"color\":\"#E5ECF6\",\"width\":0.5},\"pattern\":{\"fillmode\":\"overlay\",\"size\":10,\"solidity\":0.2}},\"type\":\"barpolar\"}],\"pie\":[{\"automargin\":true,\"type\":\"pie\"}]},\"layout\":{\"autotypenumbers\":\"strict\",\"colorway\":[\"#636efa\",\"#EF553B\",\"#00cc96\",\"#ab63fa\",\"#FFA15A\",\"#19d3f3\",\"#FF6692\",\"#B6E880\",\"#FF97FF\",\"#FECB52\"],\"font\":{\"color\":\"#2a3f5f\"},\"hovermode\":\"closest\",\"hoverlabel\":{\"align\":\"left\"},\"paper_bgcolor\":\"white\",\"plot_bgcolor\":\"#E5ECF6\",\"polar\":{\"bgcolor\":\"#E5ECF6\",\"angularaxis\":{\"gridcolor\":\"white\",\"linecolor\":\"white\",\"ticks\":\"\"},\"radialaxis\":{\"gridcolor\":\"white\",\"linecolor\":\"white\",\"ticks\":\"\"}},\"ternary\":{\"bgcolor\":\"#E5ECF6\",\"aaxis\":{\"gridcolor\":\"white\",\"linecolor\":\"white\",\"ticks\":\"\"},\"baxis\":{\"gridcolor\":\"white\",\"linecolor\":\"white\",\"ticks\":\"\"},\"caxis\":{\"gridcolor\":\"white\",\"linecolor\":\"white\",\"ticks\":\"\"}},\"coloraxis\":{\"colorbar\":{\"outlinewidth\":0,\"ticks\":\"\"}},\"colorscale\":{\"sequential\":[[0.0,\"#0d0887\"],[0.1111111111111111,\"#46039f\"],[0.2222222222222222,\"#7201a8\"],[0.3333333333333333,\"#9c179e\"],[0.4444444444444444,\"#bd3786\"],[0.5555555555555556,\"#d8576b\"],[0.6666666666666666,\"#ed7953\"],[0.7777777777777778,\"#fb9f3a\"],[0.8888888888888888,\"#fdca26\"],[1.0,\"#f0f921\"]],\"sequentialminus\":[[0.0,\"#0d0887\"],[0.1111111111111111,\"#46039f\"],[0.2222222222222222,\"#7201a8\"],[0.3333333333333333,\"#9c179e\"],[0.4444444444444444,\"#bd3786\"],[0.5555555555555556,\"#d8576b\"],[0.6666666666666666,\"#ed7953\"],[0.7777777777777778,\"#fb9f3a\"],[0.8888888888888888,\"#fdca26\"],[1.0,\"#f0f921\"]],\"diverging\":[[0,\"#8e0152\"],[0.1,\"#c51b7d\"],[0.2,\"#de77ae\"],[0.3,\"#f1b6da\"],[0.4,\"#fde0ef\"],[0.5,\"#f7f7f7\"],[0.6,\"#e6f5d0\"],[0.7,\"#b8e186\"],[0.8,\"#7fbc41\"],[0.9,\"#4d9221\"],[1,\"#276419\"]]},\"xaxis\":{\"gridcolor\":\"white\",\"linecolor\":\"white\",\"ticks\":\"\",\"title\":{\"standoff\":15},\"zerolinecolor\":\"white\",\"automargin\":true,\"zerolinewidth\":2},\"yaxis\":{\"gridcolor\":\"white\",\"linecolor\":\"white\",\"ticks\":\"\",\"title\":{\"standoff\":15},\"zerolinecolor\":\"white\",\"automargin\":true,\"zerolinewidth\":2},\"scene\":{\"xaxis\":{\"backgroundcolor\":\"#E5ECF6\",\"gridcolor\":\"white\",\"linecolor\":\"white\",\"showbackground\":true,\"ticks\":\"\",\"zerolinecolor\":\"white\",\"gridwidth\":2},\"yaxis\":{\"backgroundcolor\":\"#E5ECF6\",\"gridcolor\":\"white\",\"linecolor\":\"white\",\"showbackground\":true,\"ticks\":\"\",\"zerolinecolor\":\"white\",\"gridwidth\":2},\"zaxis\":{\"backgroundcolor\":\"#E5ECF6\",\"gridcolor\":\"white\",\"linecolor\":\"white\",\"showbackground\":true,\"ticks\":\"\",\"zerolinecolor\":\"white\",\"gridwidth\":2}},\"shapedefaults\":{\"line\":{\"color\":\"#2a3f5f\"}},\"annotationdefaults\":{\"arrowcolor\":\"#2a3f5f\",\"arrowhead\":0,\"arrowwidth\":1},\"geo\":{\"bgcolor\":\"white\",\"landcolor\":\"#E5ECF6\",\"subunitcolor\":\"white\",\"showland\":true,\"showlakes\":true,\"lakecolor\":\"white\"},\"title\":{\"x\":0.05},\"mapbox\":{\"style\":\"light\"}}}},                        {\"responsive\": true}                    ).then(function(){\n",
       "                            \n",
       "var gd = document.getElementById('dc62f7c1-bc42-4588-a170-212234bc591b');\n",
       "var x = new MutationObserver(function (mutations, observer) {{\n",
       "        var display = window.getComputedStyle(gd).display;\n",
       "        if (!display || display === 'none') {{\n",
       "            console.log([gd, 'removed!']);\n",
       "            Plotly.purge(gd);\n",
       "            observer.disconnect();\n",
       "        }}\n",
       "}});\n",
       "\n",
       "// Listen for the removal of the full notebook cells\n",
       "var notebookContainer = gd.closest('#notebook-container');\n",
       "if (notebookContainer) {{\n",
       "    x.observe(notebookContainer, {childList: true});\n",
       "}}\n",
       "\n",
       "// Listen for the clearing of the current output cell\n",
       "var outputEl = gd.closest('.output');\n",
       "if (outputEl) {{\n",
       "    x.observe(outputEl, {childList: true});\n",
       "}}\n",
       "\n",
       "                        })                };                });            </script>        </div>"
      ]
     },
     "metadata": {},
     "output_type": "display_data"
    }
   ],
   "source": [
    "if config['tune_parameters']:\n",
    "    fig = optuna.visualization.plot_optimization_history(study)\n",
    "    fig.show()"
   ]
  },
  {
   "cell_type": "code",
   "execution_count": 27,
   "id": "bc608a78",
   "metadata": {
    "execution": {
     "iopub.execute_input": "2023-12-03T20:50:12.602107Z",
     "iopub.status.busy": "2023-12-03T20:50:12.600651Z",
     "iopub.status.idle": "2023-12-03T20:50:12.606276Z",
     "shell.execute_reply": "2023-12-03T20:50:12.605415Z"
    },
    "papermill": {
     "duration": 0.068574,
     "end_time": "2023-12-03T20:50:12.608735",
     "exception": false,
     "start_time": "2023-12-03T20:50:12.540161",
     "status": "completed"
    },
    "tags": []
   },
   "outputs": [],
   "source": [
    "# if config['tune_parameters']:\n",
    "#     fig = optuna.visualization.plot_param_importances(study)\n",
    "#     fig.show()"
   ]
  },
  {
   "cell_type": "code",
   "execution_count": 28,
   "id": "0a134f52",
   "metadata": {
    "execution": {
     "iopub.execute_input": "2023-12-03T20:50:12.725541Z",
     "iopub.status.busy": "2023-12-03T20:50:12.724593Z",
     "iopub.status.idle": "2023-12-03T20:50:13.113849Z",
     "shell.execute_reply": "2023-12-03T20:50:13.112780Z"
    },
    "papermill": {
     "duration": 0.450056,
     "end_time": "2023-12-03T20:50:13.116370",
     "exception": false,
     "start_time": "2023-12-03T20:50:12.666314",
     "status": "completed"
    },
    "tags": []
   },
   "outputs": [
    {
     "data": {
      "text/html": [
       "<div>                            <div id=\"f4c11a4d-449e-4183-821a-2c459ee7d7ee\" class=\"plotly-graph-div\" style=\"height:525px; width:100%;\"></div>            <script type=\"text/javascript\">                require([\"plotly\"], function(Plotly) {                    window.PLOTLYENV=window.PLOTLYENV || {};                                    if (document.getElementById(\"f4c11a4d-449e-4183-821a-2c459ee7d7ee\")) {                    Plotly.newPlot(                        \"f4c11a4d-449e-4183-821a-2c459ee7d7ee\",                        [{\"marker\":{\"color\":[0,1,2,3,4,5,6,7,8,9,10,11,12,13,14,15,16,17,18,19,20,21,22,23,24,25,26,27,28,29,30,31,32,33,34,35,36,37,38,39,40,41,42,43,44,45,46,47,48,49,50,51,52,53,54,55,56,57,58,59,60,61,62,63,64,65,66,67,68,69,70,71,72,73,74,75,76,77,78,79,80,81,82,83,84,85,86,87,88,89,90,91,92,93,94,95,96,97,98,99,100,101,102,103,104,105,106,107,108,109,110,111,112,113,114,115,116,117,118,119,120,121,122,123,124,125,126,127,128,129,130,131,132,133,134,135,136,137,138,139,140,141,142,143,144,145,146,147,148,149,150,151,152,153,154,155,156,157,158,159,160,161,162,163,164,165,166,167,168,169,170,171,172,173,174,175,176,177,178,179,180,181,182,183,184,185,186,187,188,189,190,191,192,193,194,195,196,197,198,199,200,201,202,203,204,205,206,207,208,209,210,211,212,213,214,215,216,217,218,219,220,221,222,223,224,225,226,227,228,229,230,231,232,233,234,235,236,237,238,239,240,241,242,243,244,245,246,247,248,249,250,251,252,253,254,255,256,257,258,259,260,261,262,263,264,265,266,267,268,269,270,271,272,273,274,275,276,277,278,279,280,281,282,283,284,285,286,287,288,289,290,291,292,293,294,295,296,297,298,299,300,301,302,303,304,305,306,307,308,309,310,311,312,313,314,315,316,317,318,319,320,321,322,323,324,325,326,327,328,329,330,331,332,333,334,335,336,337,338,339,340,341,342,343,344,345,346,347,348,349,350,351,352,353,354,355,356,357,358,359,360,361,362,363,364,365,366,367,368,369,370,371,372,373,374,375,376,377,378,379,380,381,382,383,384,385,386,387,388,389,390,391,392,393,394,395,396,397,398,399],\"colorbar\":{\"title\":{\"text\":\"Trial\"},\"x\":1.0,\"xpad\":40},\"colorscale\":[[0.0,\"rgb(247,251,255)\"],[0.125,\"rgb(222,235,247)\"],[0.25,\"rgb(198,219,239)\"],[0.375,\"rgb(158,202,225)\"],[0.5,\"rgb(107,174,214)\"],[0.625,\"rgb(66,146,198)\"],[0.75,\"rgb(33,113,181)\"],[0.875,\"rgb(8,81,156)\"],[1.0,\"rgb(8,48,107)\"]],\"line\":{\"color\":\"Grey\",\"width\":0.5},\"showscale\":true},\"mode\":\"markers\",\"name\":\"Feasible Trial\",\"showlegend\":false,\"x\":[74,863,155,203,950,124,196,174,1096,1853,17,13,31,327,35,365,93,630,27,68,11,10,11,273,57,444,481,109,49,644,295,10,11,25,82,139,43,233,20,20,68,20,22,46,63,158,104,20,200,132,1097,19,17,84,34,16,16,39,16,15,215,14,14,14,15,14,14,31,11,14,30,14,14,13,53,40,14,25,13,36,29,18,23,167,13,11,23,26,47,56,68,15,14,28,37,12,21,33,18,23,10,15,14,26,31,18,21,15,28,12,255,14,10,14,17,12,14,15,23,16,34,19,19,14,13,25,14,10,21,41,13,17,16,25,18,78,14,12,31,20,14,13,15,17,113,14,11,22,16,19,12,14,15,10,14,14,15,23,14,12,14,13,10,14,14,14,64,16,20,17,13,14,17,14,13,10,25,12,20,11,16,14,18,15,17,15,108,19,22,12,13,14,15,14,18,14,10,20,14,16,13,14,11,12,18,86,14,16,18,14,12,13,15,16,14,22,11,13,15,13,10,14,16,12,14,11,18,14,22,17,15,14,14,16,14,11,13,19,15,17,14,13,11,12,14,10,14,16,15,17,11,52,20,13,14,18,24,12,14,13,17,20,72,15,14,16,14,12,12,19,111,15,21,14,17,16,14,10,14,15,22,13,40,28,10,13,16,44,14,66,15,19,12,12,15,20,58,13,17,13,14,11,10,16,24,11,19,15,18,14,12,13,89,24,18,16,11,15,20,17,14,12,14,10,11,15,26,14,17,22,16,14,127,12,17,13,20,14,16,41,11,13,18,160,21,14,16,15,100,12,13,11,18,15,20,12,27,15,10,57,13,35,16,19,14,14,17,24,13,13,10,82,15,16,13,15,18,14,21,14,14,11,14,16,15,14,11,19,17,14,15,17,14,14,13,22,12,13,10,11],\"y\":[0.050920497534643096,0.05089082671451703,0.05089482684810783,0.05090556724475105,0.050894959679868436,0.05085646883083818,0.050906884176777634,0.050904151637702316,0.050890959546277634,0.05087843920404229,0.05114834954639913,0.051150042202548485,0.05097998339223534,0.05089830324504253,0.050979398932488665,0.05089422341239537,0.050925492008841874,0.0508813918643209,0.05102174190257648,0.05095669229181148,0.05107728075928216,0.05097123547200121,0.05107729594005479,0.050898409510451006,0.050965956358315405,0.05089562004347831,0.05089341503625225,0.05090850851945018,0.050972195655870696,0.05089659540812045,0.05089894083749343,0.05096954281585178,0.05067263346935373,0.05103691508483075,0.05092571592523832,0.05090237169211021,0.050993209640398475,0.05089831842581517,0.051095440758553434,0.05110441259518402,0.05095669229181148,0.051095440758553434,0.051066695965558496,0.05097211216162119,0.05095498825008255,0.05090549134088785,0.05091598884516883,0.051095440758553434,0.050904216155986046,0.050903646877012015,0.05089239792448533,0.05113312323144057,0.05111845101468345,0.05092594363682793,0.05094112440946853,0.05115281269355546,0.05116002356055974,0.05103836484861794,0.051156239752979074,0.051211262463414974,0.05090118759184425,0.051258470871134096,0.051245267394129934,0.051222693585213336,0.05122738823915247,0.05122196870331976,0.05122985131951338,0.050983941778701386,0.050132740675970115,0.051220492373180465,0.05100673191362811,0.05122491756840519,0.05124802649955737,0.05106250227711648,0.05095315517178618,0.05102279317108183,0.05110072366743245,0.05103691508483075,0.0511170581787936,0.051001965151018916,0.05100792739947354,0.05114401543581021,0.05105527622933955,0.050905517907239975,0.05110733868911047,0.05059581496459904,0.05105317748752199,0.05100245093574344,0.050974518314084706,0.05095600156665631,0.05095669229181148,0.051210104929501135,0.05125044783279354,0.050987380223704484,0.05101281940345696,0.05106638096452622,0.05108590723333519,0.0509458418345666,0.05115200811260552,0.05104138961756655,0.05096797919626981,0.05122679998421265,0.05080279720916754,0.05101450826441323,0.05098043502022141,0.051148118039616323,0.051088248867514986,0.05114580297178873,0.05101529007420423,0.05109211996453835,0.05089908885002668,0.051282065587010754,0.05098254514761847,0.05122211292065985,0.05113299799006631,0.05052903095055984,0.051236322123851444,0.051163647970027745,0.05104019413172111,0.051133574859426684,0.05094622514907578,0.05112618941353699,0.05110572193682429,0.051241031958563193,0.05110156620031388,0.051037279423374125,0.051103953376811735,0.050973903492792814,0.051089683450529534,0.05101867918169624,0.050608456753015535,0.051149290754302856,0.05114087301587362,0.05103568544224687,0.051142892058634815,0.050932342332495946,0.05126504035049432,0.05106676048384224,0.05098346358436321,0.051095440758553434,0.051282065587010754,0.050608456753015535,0.05120649190561268,0.05113267160345455,0.05090905502726523,0.05126053925140638,0.05109603660387959,0.05108237770369623,0.05114087301587362,0.05113089165786241,0.05052903095055984,0.051236322123851444,0.051210104929501135,0.050968977332070925,0.05127516213065244,0.051261180639050434,0.051186677202123526,0.051049405065520796,0.05122961222234429,0.05052903095055984,0.051241031958563193,0.05109125466049774,0.05097270800694737,0.051241031958563193,0.051245244622970955,0.05065050749323012,0.050951917938815997,0.05113408341531013,0.051095440758553434,0.05112884604874911,0.05106250227711648,0.05122961222234429,0.05114981828615211,0.05122606371673956,0.050608456753015535,0.050973903492792814,0.05103691508483075,0.051089406401428845,0.051095440758553434,0.050132740675970115,0.05115942771523361,0.051261180639050434,0.051144440497444155,0.05122968053582119,0.0511437991098001,0.05120902709464365,0.05091137768547926,0.05113089165786241,0.05108237770369623,0.051086229824753804,0.050608456753015535,0.05127516213065244,0.0512047650927248,0.05126290745193832,0.05113430353651339,0.05122985131951338,0.05097312168300182,0.051095440758553434,0.05065050749323012,0.0511409413293505,0.05109966860373381,0.05126053925140638,0.050132740675970115,0.05108861700125153,0.05114491869178233,0.0509257842387152,0.05126504035049432,0.05113980277140246,0.051146087611275655,0.05122606371673956,0.051088142602106514,0.05109966860373381,0.05118065423057838,0.05115781475814053,0.05095317794294529,0.05106321577343063,0.05109408587459527,0.051123031812827666,0.05118065423057838,0.050608456753015535,0.05096856365601648,0.05126088461398395,0.05114545760921108,0.05108861700125153,0.051236322123851444,0.050132740675970115,0.051144440497444155,0.05126290745193832,0.051073834723892736,0.05113679697841963,0.05120709913651828,0.051241031958563193,0.051270031029499896,0.051157435238824524,0.051282065587010754,0.050132740675970115,0.05113705125636126,0.05112897888050969,0.0512047650927248,0.051130758826101824,0.05122606371673956,0.05112475862571554,0.050132740675970115,0.0510909434546587,0.051282065587010754,0.050970688964186155,0.051279898531716286,0.051157958975480616,0.0512002601984437,0.051130758826101824,0.050132740675970115,0.05095259348319849,0.051095440758553434,0.05113810252486664,0.051236322123851444,0.051142892058634815,0.05105106736012496,0.05109153170959852,0.051241031958563193,0.050608456753015535,0.05112141126534837,0.051095440758553434,0.05094436929962046,0.05120391876465008,0.051241031958563193,0.051152968296475025,0.05122211292065985,0.051095171299839114,0.05052903095055984,0.05113089165786241,0.050912721183857944,0.051207106726904615,0.0511020102379137,0.05122985131951338,0.05111899752249851,0.05114545760921108,0.05123871689073552,0.05097270800694737,0.05065050749323012,0.051209512879368146,0.05107510990879455,0.051139153793372,0.0510218633487576,0.051015768268542414,0.05096856365601648,0.0510641380053685,0.051159625065277936,0.05099123993514835,0.05065050749323012,0.050955288070342206,0.05121302722823447,0.05113089165786241,0.05052903095055984,0.051088142602106514,0.05118048724207933,0.051095440758553434,0.050959910615611274,0.05109905378244186,0.05112884604874911,0.05113810252486664,0.051241031958563193,0.050132740675970115,0.050973903492792814,0.0511560082461963,0.05105187573626807,0.050132740675970115,0.05113089165786241,0.05122109580889293,0.05114370802516425,0.05126836114450943,0.05108861700125153,0.05106250227711648,0.050922915072686134,0.05105106736012496,0.051146087611275655,0.051159625065277936,0.050132740675970115,0.051210488244010324,0.051095440758553434,0.051130758826101824,0.051241031958563193,0.051089406401428845,0.051245244622970955,0.05096877618683344,0.050132740675970115,0.05120902709464365,0.05101259548706051,0.05122985131951338,0.05112173006157382,0.05106382679952941,0.051140186085911636,0.05122961222234429,0.050899031922129266,0.05052903095055984,0.05112141126534837,0.0511395636742333,0.05109057911611528,0.05122835980860146,0.05116068392416961,0.051017855624780485,0.050132740675970115,0.05111419280795767,0.05113566221566473,0.050905108026378675,0.051101532043575516,0.05122985131951338,0.05115887741222537,0.05118065423057838,0.05087744865862748,0.051089406401428845,0.05108566434097286,0.050132740675970115,0.05113600378304913,0.05121131939131239,0.051095440758553434,0.05052903095055984,0.05101653489756078,0.051204677803282125,0.05096797919626981,0.050964453461823975,0.05110733868911047,0.050979398932488665,0.051157958975480616,0.05113312323144057,0.051276057796238214,0.051282065587010754,0.05112087993830595,0.05105888925322803,0.051139153793372,0.050608456753015535,0.05097292053776433,0.05092735924387667,0.05118065423057838,0.05115470649494238,0.050608456753015535,0.051210104929501135,0.05114491869178233,0.051282065587010754,0.05109924733729312,0.051276057796238214,0.05127516213065244,0.050132740675970115,0.05122985131951338,0.051157958975480616,0.05120902709464365,0.051236322123851444,0.050132740675970115,0.05111558943904068,0.05113267160345455,0.051261180639050434,0.051210488244010324,0.051121221505690366,0.051276057796238214,0.05122211292065985,0.050608456753015535,0.05106717415989667,0.05109118634702096,0.05109966860373381,0.050969891973622526,0.050132740675970115],\"type\":\"scatter\",\"xaxis\":\"x\",\"yaxis\":\"y\"},{\"marker\":{\"color\":[0,1,2,3,4,5,6,7,8,9,10,11,12,13,14,15,16,17,18,19,20,21,22,23,24,25,26,27,28,29,30,31,32,33,34,35,36,37,38,39,40,41,42,43,44,45,46,47,48,49,50,51,52,53,54,55,56,57,58,59,60,61,62,63,64,65,66,67,68,69,70,71,72,73,74,75,76,77,78,79,80,81,82,83,84,85,86,87,88,89,90,91,92,93,94,95,96,97,98,99,100,101,102,103,104,105,106,107,108,109,110,111,112,113,114,115,116,117,118,119,120,121,122,123,124,125,126,127,128,129,130,131,132,133,134,135,136,137,138,139,140,141,142,143,144,145,146,147,148,149,150,151,152,153,154,155,156,157,158,159,160,161,162,163,164,165,166,167,168,169,170,171,172,173,174,175,176,177,178,179,180,181,182,183,184,185,186,187,188,189,190,191,192,193,194,195,196,197,198,199,200,201,202,203,204,205,206,207,208,209,210,211,212,213,214,215,216,217,218,219,220,221,222,223,224,225,226,227,228,229,230,231,232,233,234,235,236,237,238,239,240,241,242,243,244,245,246,247,248,249,250,251,252,253,254,255,256,257,258,259,260,261,262,263,264,265,266,267,268,269,270,271,272,273,274,275,276,277,278,279,280,281,282,283,284,285,286,287,288,289,290,291,292,293,294,295,296,297,298,299,300,301,302,303,304,305,306,307,308,309,310,311,312,313,314,315,316,317,318,319,320,321,322,323,324,325,326,327,328,329,330,331,332,333,334,335,336,337,338,339,340,341,342,343,344,345,346,347,348,349,350,351,352,353,354,355,356,357,358,359,360,361,362,363,364,365,366,367,368,369,370,371,372,373,374,375,376,377,378,379,380,381,382,383,384,385,386,387,388,389,390,391,392,393,394,395,396,397,398,399],\"colorbar\":{\"title\":{\"text\":\"Trial\"},\"x\":1.0,\"xpad\":40},\"colorscale\":[[0.0,\"rgb(247,251,255)\"],[0.125,\"rgb(222,235,247)\"],[0.25,\"rgb(198,219,239)\"],[0.375,\"rgb(158,202,225)\"],[0.5,\"rgb(107,174,214)\"],[0.625,\"rgb(66,146,198)\"],[0.75,\"rgb(33,113,181)\"],[0.875,\"rgb(8,81,156)\"],[1.0,\"rgb(8,48,107)\"]],\"line\":{\"color\":\"Grey\",\"width\":0.5},\"showscale\":false},\"mode\":\"markers\",\"name\":\"Feasible Trial\",\"showlegend\":false,\"x\":[165,1157,255,621,1391,139,1500,1863,1250,1871,646,654,743,702,513,916,464,927,472,372,29,86,27,753,320,1065,832,590,277,1695,1065,51,14,200,369,603,196,1255,147,164,410,148,150,242,304,666,523,149,834,552,1476,144,118,428,242,108,94,320,97,79,1180,62,68,88,96,78,44,235,11,80,210,76,69,45,359,280,17,191,60,266,196,76,107,1690,56,12,176,122,230,340,407,75,60,155,285,51,121,199,63,152,107,81,15,180,252,79,131,45,222,90,1982,48,167,41,124,12,45,42,143,49,210,86,110,46,49,174,19,113,146,299,13,83,73,181,116,966,54,50,233,140,48,13,55,96,1385,59,115,173,73,134,12,45,75,101,47,53,50,161,42,12,46,51,121,46,43,14,814,56,145,101,45,42,85,40,13,113,194,80,145,11,62,53,120,59,89,68,1677,134,173,95,13,47,54,56,105,44,102,146,14,78,48,59,11,77,122,1079,54,71,125,40,93,48,47,87,16,155,104,61,47,13,120,65,79,77,45,11,120,56,162,92,71,46,52,100,48,11,68,130,54,98,40,62,11,83,48,131,50,90,53,100,11,725,142,71,45,115,182,79,46,13,109,148,1332,70,46,103,41,85,12,133,1775,73,161,44,112,79,36,116,14,72,168,73,462,207,119,43,93,642,14,1520,62,134,12,93,51,149,900,50,101,71,46,11,113,82,168,11,134,58,97,51,77,45,1186,184,125,93,11,56,142,97,46,80,43,122,11,68,188,44,107,152,76,42,222,12,110,74,137,37,88,575,11,59,111,1967,162,44,86,47,126,80,41,11,110,74,147,12,203,65,107,1022,56,524,90,144,49,48,106,171,73,13,123,1605,47,83,13,75,121,48,167,49,47,11,44,90,68,45,11,127,96,53,56,103,49,41,13,145,78,48,112,11],\"y\":[0.050920497534643096,0.05089082671451703,0.05089482684810783,0.05090556724475105,0.050894959679868436,0.05085646883083818,0.050906884176777634,0.050904151637702316,0.050890959546277634,0.05087843920404229,0.05114834954639913,0.051150042202548485,0.05097998339223534,0.05089830324504253,0.050979398932488665,0.05089422341239537,0.050925492008841874,0.0508813918643209,0.05102174190257648,0.05095669229181148,0.05107728075928216,0.05097123547200121,0.05107729594005479,0.050898409510451006,0.050965956358315405,0.05089562004347831,0.05089341503625225,0.05090850851945018,0.050972195655870696,0.05089659540812045,0.05089894083749343,0.05096954281585178,0.05067263346935373,0.05103691508483075,0.05092571592523832,0.05090237169211021,0.050993209640398475,0.05089831842581517,0.051095440758553434,0.05110441259518402,0.05095669229181148,0.051095440758553434,0.051066695965558496,0.05097211216162119,0.05095498825008255,0.05090549134088785,0.05091598884516883,0.051095440758553434,0.050904216155986046,0.050903646877012015,0.05089239792448533,0.05113312323144057,0.05111845101468345,0.05092594363682793,0.05094112440946853,0.05115281269355546,0.05116002356055974,0.05103836484861794,0.051156239752979074,0.051211262463414974,0.05090118759184425,0.051258470871134096,0.051245267394129934,0.051222693585213336,0.05122738823915247,0.05122196870331976,0.05122985131951338,0.050983941778701386,0.050132740675970115,0.051220492373180465,0.05100673191362811,0.05122491756840519,0.05124802649955737,0.05106250227711648,0.05095315517178618,0.05102279317108183,0.05110072366743245,0.05103691508483075,0.0511170581787936,0.051001965151018916,0.05100792739947354,0.05114401543581021,0.05105527622933955,0.050905517907239975,0.05110733868911047,0.05059581496459904,0.05105317748752199,0.05100245093574344,0.050974518314084706,0.05095600156665631,0.05095669229181148,0.051210104929501135,0.05125044783279354,0.050987380223704484,0.05101281940345696,0.05106638096452622,0.05108590723333519,0.0509458418345666,0.05115200811260552,0.05104138961756655,0.05096797919626981,0.05122679998421265,0.05080279720916754,0.05101450826441323,0.05098043502022141,0.051148118039616323,0.051088248867514986,0.05114580297178873,0.05101529007420423,0.05109211996453835,0.05089908885002668,0.051282065587010754,0.05098254514761847,0.05122211292065985,0.05113299799006631,0.05052903095055984,0.051236322123851444,0.051163647970027745,0.05104019413172111,0.051133574859426684,0.05094622514907578,0.05112618941353699,0.05110572193682429,0.051241031958563193,0.05110156620031388,0.051037279423374125,0.051103953376811735,0.050973903492792814,0.051089683450529534,0.05101867918169624,0.050608456753015535,0.051149290754302856,0.05114087301587362,0.05103568544224687,0.051142892058634815,0.050932342332495946,0.05126504035049432,0.05106676048384224,0.05098346358436321,0.051095440758553434,0.051282065587010754,0.050608456753015535,0.05120649190561268,0.05113267160345455,0.05090905502726523,0.05126053925140638,0.05109603660387959,0.05108237770369623,0.05114087301587362,0.05113089165786241,0.05052903095055984,0.051236322123851444,0.051210104929501135,0.050968977332070925,0.05127516213065244,0.051261180639050434,0.051186677202123526,0.051049405065520796,0.05122961222234429,0.05052903095055984,0.051241031958563193,0.05109125466049774,0.05097270800694737,0.051241031958563193,0.051245244622970955,0.05065050749323012,0.050951917938815997,0.05113408341531013,0.051095440758553434,0.05112884604874911,0.05106250227711648,0.05122961222234429,0.05114981828615211,0.05122606371673956,0.050608456753015535,0.050973903492792814,0.05103691508483075,0.051089406401428845,0.051095440758553434,0.050132740675970115,0.05115942771523361,0.051261180639050434,0.051144440497444155,0.05122968053582119,0.0511437991098001,0.05120902709464365,0.05091137768547926,0.05113089165786241,0.05108237770369623,0.051086229824753804,0.050608456753015535,0.05127516213065244,0.0512047650927248,0.05126290745193832,0.05113430353651339,0.05122985131951338,0.05097312168300182,0.051095440758553434,0.05065050749323012,0.0511409413293505,0.05109966860373381,0.05126053925140638,0.050132740675970115,0.05108861700125153,0.05114491869178233,0.0509257842387152,0.05126504035049432,0.05113980277140246,0.051146087611275655,0.05122606371673956,0.051088142602106514,0.05109966860373381,0.05118065423057838,0.05115781475814053,0.05095317794294529,0.05106321577343063,0.05109408587459527,0.051123031812827666,0.05118065423057838,0.050608456753015535,0.05096856365601648,0.05126088461398395,0.05114545760921108,0.05108861700125153,0.051236322123851444,0.050132740675970115,0.051144440497444155,0.05126290745193832,0.051073834723892736,0.05113679697841963,0.05120709913651828,0.051241031958563193,0.051270031029499896,0.051157435238824524,0.051282065587010754,0.050132740675970115,0.05113705125636126,0.05112897888050969,0.0512047650927248,0.051130758826101824,0.05122606371673956,0.05112475862571554,0.050132740675970115,0.0510909434546587,0.051282065587010754,0.050970688964186155,0.051279898531716286,0.051157958975480616,0.0512002601984437,0.051130758826101824,0.050132740675970115,0.05095259348319849,0.051095440758553434,0.05113810252486664,0.051236322123851444,0.051142892058634815,0.05105106736012496,0.05109153170959852,0.051241031958563193,0.050608456753015535,0.05112141126534837,0.051095440758553434,0.05094436929962046,0.05120391876465008,0.051241031958563193,0.051152968296475025,0.05122211292065985,0.051095171299839114,0.05052903095055984,0.05113089165786241,0.050912721183857944,0.051207106726904615,0.0511020102379137,0.05122985131951338,0.05111899752249851,0.05114545760921108,0.05123871689073552,0.05097270800694737,0.05065050749323012,0.051209512879368146,0.05107510990879455,0.051139153793372,0.0510218633487576,0.051015768268542414,0.05096856365601648,0.0510641380053685,0.051159625065277936,0.05099123993514835,0.05065050749323012,0.050955288070342206,0.05121302722823447,0.05113089165786241,0.05052903095055984,0.051088142602106514,0.05118048724207933,0.051095440758553434,0.050959910615611274,0.05109905378244186,0.05112884604874911,0.05113810252486664,0.051241031958563193,0.050132740675970115,0.050973903492792814,0.0511560082461963,0.05105187573626807,0.050132740675970115,0.05113089165786241,0.05122109580889293,0.05114370802516425,0.05126836114450943,0.05108861700125153,0.05106250227711648,0.050922915072686134,0.05105106736012496,0.051146087611275655,0.051159625065277936,0.050132740675970115,0.051210488244010324,0.051095440758553434,0.051130758826101824,0.051241031958563193,0.051089406401428845,0.051245244622970955,0.05096877618683344,0.050132740675970115,0.05120902709464365,0.05101259548706051,0.05122985131951338,0.05112173006157382,0.05106382679952941,0.051140186085911636,0.05122961222234429,0.050899031922129266,0.05052903095055984,0.05112141126534837,0.0511395636742333,0.05109057911611528,0.05122835980860146,0.05116068392416961,0.051017855624780485,0.050132740675970115,0.05111419280795767,0.05113566221566473,0.050905108026378675,0.051101532043575516,0.05122985131951338,0.05115887741222537,0.05118065423057838,0.05087744865862748,0.051089406401428845,0.05108566434097286,0.050132740675970115,0.05113600378304913,0.05121131939131239,0.051095440758553434,0.05052903095055984,0.05101653489756078,0.051204677803282125,0.05096797919626981,0.050964453461823975,0.05110733868911047,0.050979398932488665,0.051157958975480616,0.05113312323144057,0.051276057796238214,0.051282065587010754,0.05112087993830595,0.05105888925322803,0.051139153793372,0.050608456753015535,0.05097292053776433,0.05092735924387667,0.05118065423057838,0.05115470649494238,0.050608456753015535,0.051210104929501135,0.05114491869178233,0.051282065587010754,0.05109924733729312,0.051276057796238214,0.05127516213065244,0.050132740675970115,0.05122985131951338,0.051157958975480616,0.05120902709464365,0.051236322123851444,0.050132740675970115,0.05111558943904068,0.05113267160345455,0.051261180639050434,0.051210488244010324,0.051121221505690366,0.051276057796238214,0.05122211292065985,0.050608456753015535,0.05106717415989667,0.05109118634702096,0.05109966860373381,0.050969891973622526,0.050132740675970115],\"type\":\"scatter\",\"xaxis\":\"x2\",\"yaxis\":\"y2\"}],                        {\"template\":{\"data\":{\"histogram2dcontour\":[{\"type\":\"histogram2dcontour\",\"colorbar\":{\"outlinewidth\":0,\"ticks\":\"\"},\"colorscale\":[[0.0,\"#0d0887\"],[0.1111111111111111,\"#46039f\"],[0.2222222222222222,\"#7201a8\"],[0.3333333333333333,\"#9c179e\"],[0.4444444444444444,\"#bd3786\"],[0.5555555555555556,\"#d8576b\"],[0.6666666666666666,\"#ed7953\"],[0.7777777777777778,\"#fb9f3a\"],[0.8888888888888888,\"#fdca26\"],[1.0,\"#f0f921\"]]}],\"choropleth\":[{\"type\":\"choropleth\",\"colorbar\":{\"outlinewidth\":0,\"ticks\":\"\"}}],\"histogram2d\":[{\"type\":\"histogram2d\",\"colorbar\":{\"outlinewidth\":0,\"ticks\":\"\"},\"colorscale\":[[0.0,\"#0d0887\"],[0.1111111111111111,\"#46039f\"],[0.2222222222222222,\"#7201a8\"],[0.3333333333333333,\"#9c179e\"],[0.4444444444444444,\"#bd3786\"],[0.5555555555555556,\"#d8576b\"],[0.6666666666666666,\"#ed7953\"],[0.7777777777777778,\"#fb9f3a\"],[0.8888888888888888,\"#fdca26\"],[1.0,\"#f0f921\"]]}],\"heatmap\":[{\"type\":\"heatmap\",\"colorbar\":{\"outlinewidth\":0,\"ticks\":\"\"},\"colorscale\":[[0.0,\"#0d0887\"],[0.1111111111111111,\"#46039f\"],[0.2222222222222222,\"#7201a8\"],[0.3333333333333333,\"#9c179e\"],[0.4444444444444444,\"#bd3786\"],[0.5555555555555556,\"#d8576b\"],[0.6666666666666666,\"#ed7953\"],[0.7777777777777778,\"#fb9f3a\"],[0.8888888888888888,\"#fdca26\"],[1.0,\"#f0f921\"]]}],\"heatmapgl\":[{\"type\":\"heatmapgl\",\"colorbar\":{\"outlinewidth\":0,\"ticks\":\"\"},\"colorscale\":[[0.0,\"#0d0887\"],[0.1111111111111111,\"#46039f\"],[0.2222222222222222,\"#7201a8\"],[0.3333333333333333,\"#9c179e\"],[0.4444444444444444,\"#bd3786\"],[0.5555555555555556,\"#d8576b\"],[0.6666666666666666,\"#ed7953\"],[0.7777777777777778,\"#fb9f3a\"],[0.8888888888888888,\"#fdca26\"],[1.0,\"#f0f921\"]]}],\"contourcarpet\":[{\"type\":\"contourcarpet\",\"colorbar\":{\"outlinewidth\":0,\"ticks\":\"\"}}],\"contour\":[{\"type\":\"contour\",\"colorbar\":{\"outlinewidth\":0,\"ticks\":\"\"},\"colorscale\":[[0.0,\"#0d0887\"],[0.1111111111111111,\"#46039f\"],[0.2222222222222222,\"#7201a8\"],[0.3333333333333333,\"#9c179e\"],[0.4444444444444444,\"#bd3786\"],[0.5555555555555556,\"#d8576b\"],[0.6666666666666666,\"#ed7953\"],[0.7777777777777778,\"#fb9f3a\"],[0.8888888888888888,\"#fdca26\"],[1.0,\"#f0f921\"]]}],\"surface\":[{\"type\":\"surface\",\"colorbar\":{\"outlinewidth\":0,\"ticks\":\"\"},\"colorscale\":[[0.0,\"#0d0887\"],[0.1111111111111111,\"#46039f\"],[0.2222222222222222,\"#7201a8\"],[0.3333333333333333,\"#9c179e\"],[0.4444444444444444,\"#bd3786\"],[0.5555555555555556,\"#d8576b\"],[0.6666666666666666,\"#ed7953\"],[0.7777777777777778,\"#fb9f3a\"],[0.8888888888888888,\"#fdca26\"],[1.0,\"#f0f921\"]]}],\"mesh3d\":[{\"type\":\"mesh3d\",\"colorbar\":{\"outlinewidth\":0,\"ticks\":\"\"}}],\"scatter\":[{\"fillpattern\":{\"fillmode\":\"overlay\",\"size\":10,\"solidity\":0.2},\"type\":\"scatter\"}],\"parcoords\":[{\"type\":\"parcoords\",\"line\":{\"colorbar\":{\"outlinewidth\":0,\"ticks\":\"\"}}}],\"scatterpolargl\":[{\"type\":\"scatterpolargl\",\"marker\":{\"colorbar\":{\"outlinewidth\":0,\"ticks\":\"\"}}}],\"bar\":[{\"error_x\":{\"color\":\"#2a3f5f\"},\"error_y\":{\"color\":\"#2a3f5f\"},\"marker\":{\"line\":{\"color\":\"#E5ECF6\",\"width\":0.5},\"pattern\":{\"fillmode\":\"overlay\",\"size\":10,\"solidity\":0.2}},\"type\":\"bar\"}],\"scattergeo\":[{\"type\":\"scattergeo\",\"marker\":{\"colorbar\":{\"outlinewidth\":0,\"ticks\":\"\"}}}],\"scatterpolar\":[{\"type\":\"scatterpolar\",\"marker\":{\"colorbar\":{\"outlinewidth\":0,\"ticks\":\"\"}}}],\"histogram\":[{\"marker\":{\"pattern\":{\"fillmode\":\"overlay\",\"size\":10,\"solidity\":0.2}},\"type\":\"histogram\"}],\"scattergl\":[{\"type\":\"scattergl\",\"marker\":{\"colorbar\":{\"outlinewidth\":0,\"ticks\":\"\"}}}],\"scatter3d\":[{\"type\":\"scatter3d\",\"line\":{\"colorbar\":{\"outlinewidth\":0,\"ticks\":\"\"}},\"marker\":{\"colorbar\":{\"outlinewidth\":0,\"ticks\":\"\"}}}],\"scattermapbox\":[{\"type\":\"scattermapbox\",\"marker\":{\"colorbar\":{\"outlinewidth\":0,\"ticks\":\"\"}}}],\"scatterternary\":[{\"type\":\"scatterternary\",\"marker\":{\"colorbar\":{\"outlinewidth\":0,\"ticks\":\"\"}}}],\"scattercarpet\":[{\"type\":\"scattercarpet\",\"marker\":{\"colorbar\":{\"outlinewidth\":0,\"ticks\":\"\"}}}],\"carpet\":[{\"aaxis\":{\"endlinecolor\":\"#2a3f5f\",\"gridcolor\":\"white\",\"linecolor\":\"white\",\"minorgridcolor\":\"white\",\"startlinecolor\":\"#2a3f5f\"},\"baxis\":{\"endlinecolor\":\"#2a3f5f\",\"gridcolor\":\"white\",\"linecolor\":\"white\",\"minorgridcolor\":\"white\",\"startlinecolor\":\"#2a3f5f\"},\"type\":\"carpet\"}],\"table\":[{\"cells\":{\"fill\":{\"color\":\"#EBF0F8\"},\"line\":{\"color\":\"white\"}},\"header\":{\"fill\":{\"color\":\"#C8D4E3\"},\"line\":{\"color\":\"white\"}},\"type\":\"table\"}],\"barpolar\":[{\"marker\":{\"line\":{\"color\":\"#E5ECF6\",\"width\":0.5},\"pattern\":{\"fillmode\":\"overlay\",\"size\":10,\"solidity\":0.2}},\"type\":\"barpolar\"}],\"pie\":[{\"automargin\":true,\"type\":\"pie\"}]},\"layout\":{\"autotypenumbers\":\"strict\",\"colorway\":[\"#636efa\",\"#EF553B\",\"#00cc96\",\"#ab63fa\",\"#FFA15A\",\"#19d3f3\",\"#FF6692\",\"#B6E880\",\"#FF97FF\",\"#FECB52\"],\"font\":{\"color\":\"#2a3f5f\"},\"hovermode\":\"closest\",\"hoverlabel\":{\"align\":\"left\"},\"paper_bgcolor\":\"white\",\"plot_bgcolor\":\"#E5ECF6\",\"polar\":{\"bgcolor\":\"#E5ECF6\",\"angularaxis\":{\"gridcolor\":\"white\",\"linecolor\":\"white\",\"ticks\":\"\"},\"radialaxis\":{\"gridcolor\":\"white\",\"linecolor\":\"white\",\"ticks\":\"\"}},\"ternary\":{\"bgcolor\":\"#E5ECF6\",\"aaxis\":{\"gridcolor\":\"white\",\"linecolor\":\"white\",\"ticks\":\"\"},\"baxis\":{\"gridcolor\":\"white\",\"linecolor\":\"white\",\"ticks\":\"\"},\"caxis\":{\"gridcolor\":\"white\",\"linecolor\":\"white\",\"ticks\":\"\"}},\"coloraxis\":{\"colorbar\":{\"outlinewidth\":0,\"ticks\":\"\"}},\"colorscale\":{\"sequential\":[[0.0,\"#0d0887\"],[0.1111111111111111,\"#46039f\"],[0.2222222222222222,\"#7201a8\"],[0.3333333333333333,\"#9c179e\"],[0.4444444444444444,\"#bd3786\"],[0.5555555555555556,\"#d8576b\"],[0.6666666666666666,\"#ed7953\"],[0.7777777777777778,\"#fb9f3a\"],[0.8888888888888888,\"#fdca26\"],[1.0,\"#f0f921\"]],\"sequentialminus\":[[0.0,\"#0d0887\"],[0.1111111111111111,\"#46039f\"],[0.2222222222222222,\"#7201a8\"],[0.3333333333333333,\"#9c179e\"],[0.4444444444444444,\"#bd3786\"],[0.5555555555555556,\"#d8576b\"],[0.6666666666666666,\"#ed7953\"],[0.7777777777777778,\"#fb9f3a\"],[0.8888888888888888,\"#fdca26\"],[1.0,\"#f0f921\"]],\"diverging\":[[0,\"#8e0152\"],[0.1,\"#c51b7d\"],[0.2,\"#de77ae\"],[0.3,\"#f1b6da\"],[0.4,\"#fde0ef\"],[0.5,\"#f7f7f7\"],[0.6,\"#e6f5d0\"],[0.7,\"#b8e186\"],[0.8,\"#7fbc41\"],[0.9,\"#4d9221\"],[1,\"#276419\"]]},\"xaxis\":{\"gridcolor\":\"white\",\"linecolor\":\"white\",\"ticks\":\"\",\"title\":{\"standoff\":15},\"zerolinecolor\":\"white\",\"automargin\":true,\"zerolinewidth\":2},\"yaxis\":{\"gridcolor\":\"white\",\"linecolor\":\"white\",\"ticks\":\"\",\"title\":{\"standoff\":15},\"zerolinecolor\":\"white\",\"automargin\":true,\"zerolinewidth\":2},\"scene\":{\"xaxis\":{\"backgroundcolor\":\"#E5ECF6\",\"gridcolor\":\"white\",\"linecolor\":\"white\",\"showbackground\":true,\"ticks\":\"\",\"zerolinecolor\":\"white\",\"gridwidth\":2},\"yaxis\":{\"backgroundcolor\":\"#E5ECF6\",\"gridcolor\":\"white\",\"linecolor\":\"white\",\"showbackground\":true,\"ticks\":\"\",\"zerolinecolor\":\"white\",\"gridwidth\":2},\"zaxis\":{\"backgroundcolor\":\"#E5ECF6\",\"gridcolor\":\"white\",\"linecolor\":\"white\",\"showbackground\":true,\"ticks\":\"\",\"zerolinecolor\":\"white\",\"gridwidth\":2}},\"shapedefaults\":{\"line\":{\"color\":\"#2a3f5f\"}},\"annotationdefaults\":{\"arrowcolor\":\"#2a3f5f\",\"arrowhead\":0,\"arrowwidth\":1},\"geo\":{\"bgcolor\":\"white\",\"landcolor\":\"#E5ECF6\",\"subunitcolor\":\"white\",\"showland\":true,\"showlakes\":true,\"lakecolor\":\"white\"},\"title\":{\"x\":0.05},\"mapbox\":{\"style\":\"light\"}}},\"xaxis\":{\"anchor\":\"y\",\"domain\":[0.0,0.45],\"title\":{\"text\":\"cutoff_merging\"}},\"yaxis\":{\"anchor\":\"x\",\"domain\":[0.0,1.0],\"title\":{\"text\":\"Objective Value\"}},\"xaxis2\":{\"anchor\":\"y2\",\"domain\":[0.55,1.0],\"title\":{\"text\":\"cutoff_p3alpha\"}},\"yaxis2\":{\"anchor\":\"x2\",\"domain\":[0.0,1.0],\"matches\":\"y\",\"showticklabels\":false},\"title\":{\"text\":\"Slice Plot\"}},                        {\"responsive\": true}                    ).then(function(){\n",
       "                            \n",
       "var gd = document.getElementById('f4c11a4d-449e-4183-821a-2c459ee7d7ee');\n",
       "var x = new MutationObserver(function (mutations, observer) {{\n",
       "        var display = window.getComputedStyle(gd).display;\n",
       "        if (!display || display === 'none') {{\n",
       "            console.log([gd, 'removed!']);\n",
       "            Plotly.purge(gd);\n",
       "            observer.disconnect();\n",
       "        }}\n",
       "}});\n",
       "\n",
       "// Listen for the removal of the full notebook cells\n",
       "var notebookContainer = gd.closest('#notebook-container');\n",
       "if (notebookContainer) {{\n",
       "    x.observe(notebookContainer, {childList: true});\n",
       "}}\n",
       "\n",
       "// Listen for the clearing of the current output cell\n",
       "var outputEl = gd.closest('.output');\n",
       "if (outputEl) {{\n",
       "    x.observe(outputEl, {childList: true});\n",
       "}}\n",
       "\n",
       "                        })                };                });            </script>        </div>"
      ]
     },
     "metadata": {},
     "output_type": "display_data"
    }
   ],
   "source": [
    "if config['tune_parameters']:\n",
    "    fig = optuna.visualization.plot_slice(study)\n",
    "    fig.show()"
   ]
  },
  {
   "cell_type": "code",
   "execution_count": 29,
   "id": "6fbb5b32",
   "metadata": {
    "execution": {
     "iopub.execute_input": "2023-12-03T20:50:13.231947Z",
     "iopub.status.busy": "2023-12-03T20:50:13.231136Z",
     "iopub.status.idle": "2023-12-03T20:50:14.131448Z",
     "shell.execute_reply": "2023-12-03T20:50:14.130270Z"
    },
    "papermill": {
     "duration": 0.961222,
     "end_time": "2023-12-03T20:50:14.134250",
     "exception": false,
     "start_time": "2023-12-03T20:50:13.173028",
     "status": "completed"
    },
    "tags": []
   },
   "outputs": [],
   "source": [
    "if config['tune_parameters']:\n",
    "    with open('/kaggle/working/best_params_3stage_pipeline.json', 'w') as params_file:\n",
    "        json.dump(study.best_params, params_file)\n",
    "        \n",
    "    if config['save_github']: \n",
    "        upload_file(\n",
    "            '/kaggle/working/best_params_3stage_pipeline.json', \n",
    "            'tuning_results/best_params_3stage_pipeline.json', \n",
    "            'Hybrid Pipeline tuning results (from kaggle notebook)'\n",
    "        )\n",
    "    \n",
    "elif config['copy_prev_best_params']:\n",
    "    shutil.copyfile(\n",
    "        '/kaggle/input/Recsys_Challenge_2023/tuning_results/best_params_3stage_pipeline.json', \n",
    "        '/kaggle/working/best_params_3stage_pipeline.json'\n",
    "    )"
   ]
  },
  {
   "cell_type": "code",
   "execution_count": 30,
   "id": "9221d10c",
   "metadata": {
    "execution": {
     "iopub.execute_input": "2023-12-03T20:50:14.251262Z",
     "iopub.status.busy": "2023-12-03T20:50:14.250617Z",
     "iopub.status.idle": "2023-12-03T20:50:15.870899Z",
     "shell.execute_reply": "2023-12-03T20:50:15.869656Z"
    },
    "papermill": {
     "duration": 1.682313,
     "end_time": "2023-12-03T20:50:15.874045",
     "exception": false,
     "start_time": "2023-12-03T20:50:14.191732",
     "status": "completed"
    },
    "tags": []
   },
   "outputs": [],
   "source": [
    "if config['save_github'] and config['tune_parameters']:\n",
    "    upload_file(\n",
    "        config['database_path'], \n",
    "        'tuning_results/tuning_hybrid.db', \n",
    "        'Pipeline hybrid recommender tuning db updated results (from kaggle notebook)'\n",
    "    )"
   ]
  },
  {
   "cell_type": "markdown",
   "id": "ec418daf",
   "metadata": {
    "papermill": {
     "duration": 0.057192,
     "end_time": "2023-12-03T20:50:15.994147",
     "exception": false,
     "start_time": "2023-12-03T20:50:15.936955",
     "status": "completed"
    },
    "tags": []
   },
   "source": [
    "# Training best model"
   ]
  },
  {
   "cell_type": "code",
   "execution_count": 31,
   "id": "0027c7e5",
   "metadata": {
    "execution": {
     "iopub.execute_input": "2023-12-03T20:50:16.113096Z",
     "iopub.status.busy": "2023-12-03T20:50:16.112113Z",
     "iopub.status.idle": "2023-12-03T20:50:45.208359Z",
     "shell.execute_reply": "2023-12-03T20:50:45.206829Z"
    },
    "papermill": {
     "duration": 29.160094,
     "end_time": "2023-12-03T20:50:45.212132",
     "exception": false,
     "start_time": "2023-12-03T20:50:16.052038",
     "status": "completed"
    },
    "tags": []
   },
   "outputs": [
    {
     "name": "stdout",
     "output_type": "stream",
     "text": [
      "ItemKNNCFRecommender: URM Detected 386 ( 3.0%) users with no interactions.\n",
      "ItemKNNCFRecommender: URM Detected 125 ( 0.6%) items with no interactions.\n",
      "Similarity column 22347 (100.0%), 4203.27 column/sec. Elapsed time 5.32 sec\n",
      "RP3betaRecommender: URM Detected 386 ( 3.0%) users with no interactions.\n",
      "RP3betaRecommender: URM Detected 125 ( 0.6%) items with no interactions.\n",
      "RP3betaRecommender: Similarity column 22347 (100.0%), 2603.73 column/sec. Elapsed time 8.58 sec\n",
      "P3alphaRecommender: URM Detected 386 ( 3.0%) users with no interactions.\n",
      "P3alphaRecommender: URM Detected 125 ( 0.6%) items with no interactions.\n",
      "P3alphaRecommender: Similarity column 22347 (100.0%), 2694.99 column/sec. Elapsed time 8.29 sec\n",
      "SLIMElasticNetRecommender: URM Detected 386 ( 3.0%) users with no interactions.\n",
      "SLIMElasticNetRecommender: URM Detected 125 ( 0.6%) items with no interactions.\n",
      "SLIMElasticNetRecommender: Loading model from file '/kaggle/working/Recsys_Challenge_2023/models/slim_elastic_all.zip'\n",
      "SLIMElasticNetRecommender: Loading complete\n",
      "IALSRecommender: URM Detected 386 ( 3.0%) users with no interactions.\n",
      "IALSRecommender: URM Detected 125 ( 0.6%) items with no interactions.\n",
      "IALSRecommender: Loading model from file '/kaggle/working/ials_all.zip'\n",
      "IALSRecommender: Loading complete\n",
      "ItemKNNSimilarityHybridRecommender: URM Detected 386 ( 3.0%) users with no interactions.\n",
      "ItemKNNSimilarityHybridRecommender: URM Detected 125 ( 0.6%) items with no interactions.\n"
     ]
    }
   ],
   "source": [
    "recommender_item = ItemKNNCFRecommender(URM_all)\n",
    "recommender_item.fit(**params_item_knn)\n",
    "\n",
    "recommender_rp3 = RP3betaRecommender(URM_all)\n",
    "recommender_rp3.fit(**params_rp3)\n",
    "\n",
    "recommender_p3a = P3alphaRecommender(URM_all)\n",
    "recommender_p3a.fit(**params_p3alpha)\n",
    "\n",
    "recommender_slim = SLIMElasticNetRecommender(URM_all)\n",
    "recommender_slim.load_model('/kaggle/working/Recsys_Challenge_2023/models/', 'slim_elastic_all.zip')\n",
    "\n",
    "recommender_ials = IALSRecommender(URM_all)\n",
    "recommender_ials.load_model('/kaggle/working/', 'ials_all.zip')\n",
    "\n",
    "hybrid_similarity = ItemKNNSimilarityHybridRecommender(URM_all, recommender_item.W_sparse, recommender_rp3.W_sparse)\n",
    "hybrid_similarity.fit(**params_merging)"
   ]
  },
  {
   "cell_type": "code",
   "execution_count": 32,
   "id": "40070772",
   "metadata": {
    "execution": {
     "iopub.execute_input": "2023-12-03T20:50:45.332870Z",
     "iopub.status.busy": "2023-12-03T20:50:45.332073Z",
     "iopub.status.idle": "2023-12-03T20:50:45.352145Z",
     "shell.execute_reply": "2023-12-03T20:50:45.350515Z"
    },
    "papermill": {
     "duration": 0.083964,
     "end_time": "2023-12-03T20:50:45.354870",
     "exception": false,
     "start_time": "2023-12-03T20:50:45.270906",
     "status": "completed"
    },
    "tags": []
   },
   "outputs": [
    {
     "name": "stdout",
     "output_type": "stream",
     "text": [
      "Recommender_Base_Class: URM Detected 386 ( 3.0%) users with no interactions.\n",
      "Recommender_Base_Class: URM Detected 125 ( 0.6%) items with no interactions.\n"
     ]
    }
   ],
   "source": [
    "with open('/kaggle/working/best_params_3stage_pipeline.json', 'r') as params_file:\n",
    "    params = json.load(params_file)\n",
    "    \n",
    "pipeline_recommender = PipelineRecommender(\n",
    "    URM_all, \n",
    "    recommenders=[recommender_p3a, hybrid_similarity, recommender_slim],\n",
    "    cutoffs=[params['cutoff_p3alpha'], params['cutoff_merging'], 10]\n",
    ")"
   ]
  },
  {
   "cell_type": "code",
   "execution_count": 33,
   "id": "3123482c",
   "metadata": {
    "execution": {
     "iopub.execute_input": "2023-12-03T20:50:45.472209Z",
     "iopub.status.busy": "2023-12-03T20:50:45.471810Z",
     "iopub.status.idle": "2023-12-03T20:51:09.145099Z",
     "shell.execute_reply": "2023-12-03T20:51:09.143840Z"
    },
    "papermill": {
     "duration": 23.736027,
     "end_time": "2023-12-03T20:51:09.148258",
     "exception": false,
     "start_time": "2023-12-03T20:50:45.412231",
     "status": "completed"
    },
    "tags": []
   },
   "outputs": [
    {
     "data": {
      "text/html": [
       "<div>\n",
       "<style scoped>\n",
       "    .dataframe tbody tr th:only-of-type {\n",
       "        vertical-align: middle;\n",
       "    }\n",
       "\n",
       "    .dataframe tbody tr th {\n",
       "        vertical-align: top;\n",
       "    }\n",
       "\n",
       "    .dataframe thead th {\n",
       "        text-align: right;\n",
       "    }\n",
       "</style>\n",
       "<table border=\"1\" class=\"dataframe\">\n",
       "  <thead>\n",
       "    <tr style=\"text-align: right;\">\n",
       "      <th></th>\n",
       "      <th>user_id</th>\n",
       "      <th>item_list</th>\n",
       "    </tr>\n",
       "  </thead>\n",
       "  <tbody>\n",
       "    <tr>\n",
       "      <th>0</th>\n",
       "      <td>1</td>\n",
       "      <td>101 36 123 506 403 515 694 1546 254 592</td>\n",
       "    </tr>\n",
       "    <tr>\n",
       "      <th>1</th>\n",
       "      <td>2</td>\n",
       "      <td>1095 12 47 1522 50 656 949 102 196 359</td>\n",
       "    </tr>\n",
       "    <tr>\n",
       "      <th>2</th>\n",
       "      <td>3</td>\n",
       "      <td>59 2172 857 1281 2748 259 536 584 970 239</td>\n",
       "    </tr>\n",
       "    <tr>\n",
       "      <th>3</th>\n",
       "      <td>4</td>\n",
       "      <td>249 28 50 314 171 139 146 254 7 433</td>\n",
       "    </tr>\n",
       "    <tr>\n",
       "      <th>4</th>\n",
       "      <td>5</td>\n",
       "      <td>1570 170 95 471 77 131 5138 116 766 7033</td>\n",
       "    </tr>\n",
       "  </tbody>\n",
       "</table>\n",
       "</div>"
      ],
      "text/plain": [
       "   user_id                                  item_list\n",
       "0        1    101 36 123 506 403 515 694 1546 254 592\n",
       "1        2     1095 12 47 1522 50 656 949 102 196 359\n",
       "2        3  59 2172 857 1281 2748 259 536 584 970 239\n",
       "3        4        249 28 50 314 171 139 146 254 7 433\n",
       "4        5   1570 170 95 471 77 131 5138 116 766 7033"
      ]
     },
     "metadata": {},
     "output_type": "display_data"
    }
   ],
   "source": [
    "recommendations = pipeline_recommender.recommend(user_ids_test['user_id'].unique() - 1, cutoff=10, return_scores=False)\n",
    "recommendations = [' '.join([str(item + 1) for item in r]).strip() for r in recommendations]\n",
    "\n",
    "submission_df = pd.DataFrame({'user_id': user_ids_test['user_id'].unique(), 'item_list': recommendations})\n",
    "display(submission_df.head())\n",
    "submission_df.to_csv('/kaggle/working/submission.csv', index=False)"
   ]
  }
 ],
 "metadata": {
  "kaggle": {
   "accelerator": "none",
   "dataSources": [
    {
     "databundleVersionId": 6919098,
     "sourceId": 62803,
     "sourceType": "competition"
    },
    {
     "sourceId": 153423142,
     "sourceType": "kernelVersion"
    }
   ],
   "dockerImageVersionId": 30587,
   "isGpuEnabled": false,
   "isInternetEnabled": true,
   "language": "python",
   "sourceType": "notebook"
  },
  "kernelspec": {
   "display_name": "Python 3",
   "language": "python",
   "name": "python3"
  },
  "language_info": {
   "codemirror_mode": {
    "name": "ipython",
    "version": 3
   },
   "file_extension": ".py",
   "mimetype": "text/x-python",
   "name": "python",
   "nbconvert_exporter": "python",
   "pygments_lexer": "ipython3",
   "version": "3.10.12"
  },
  "papermill": {
   "default_parameters": {},
   "duration": 3091.278027,
   "end_time": "2023-12-03T20:51:11.568808",
   "environment_variables": {},
   "exception": null,
   "input_path": "__notebook__.ipynb",
   "output_path": "__notebook__.ipynb",
   "parameters": {},
   "start_time": "2023-12-03T19:59:40.290781",
   "version": "2.4.0"
  }
 },
 "nbformat": 4,
 "nbformat_minor": 5
}
