{
 "cells": [
  {
   "cell_type": "code",
   "execution_count": 1,
   "id": "cd890e99",
   "metadata": {
    "_cell_guid": "b1076dfc-b9ad-4769-8c92-a6c4dae69d19",
    "_uuid": "8f2839f25d086af736a60e9eeb907d3b93b6e0e5",
    "execution": {
     "iopub.execute_input": "2023-12-03T16:51:20.974889Z",
     "iopub.status.busy": "2023-12-03T16:51:20.974514Z",
     "iopub.status.idle": "2023-12-03T16:51:32.065271Z",
     "shell.execute_reply": "2023-12-03T16:51:32.063951Z"
    },
    "papermill": {
     "duration": 11.102017,
     "end_time": "2023-12-03T16:51:32.067840",
     "exception": false,
     "start_time": "2023-12-03T16:51:20.965823",
     "status": "completed"
    },
    "tags": []
   },
   "outputs": [
    {
     "name": "stdout",
     "output_type": "stream",
     "text": [
      "Cloning into 'Recsys_Challenge_2023'...\r\n",
      "remote: Enumerating objects: 1752, done.\u001b[K\r\n",
      "remote: Counting objects: 100% (601/601), done.\u001b[K\r\n",
      "remote: Compressing objects: 100% (144/144), done.\u001b[K\r\n",
      "remote: Total 1752 (delta 475), reused 569 (delta 454), pack-reused 1151\u001b[K\r\n",
      "Receiving objects: 100% (1752/1752), 157.61 MiB | 18.10 MiB/s, done.\r\n",
      "Resolving deltas: 100% (1305/1305), done.\r\n"
     ]
    }
   ],
   "source": [
    "from kaggle_secrets import UserSecretsClient\n",
    "secret_label = \"Token\"\n",
    "token = UserSecretsClient().get_secret(secret_label)\n",
    "\n",
    "! git clone https://{token}@github.com/CarloSgaravatti/Recsys_Challenge_2023.git"
   ]
  },
  {
   "cell_type": "code",
   "execution_count": 2,
   "id": "e47c59c7",
   "metadata": {
    "execution": {
     "iopub.execute_input": "2023-12-03T16:51:32.089335Z",
     "iopub.status.busy": "2023-12-03T16:51:32.088986Z",
     "iopub.status.idle": "2023-12-03T16:51:43.576651Z",
     "shell.execute_reply": "2023-12-03T16:51:43.575002Z"
    },
    "papermill": {
     "duration": 11.501445,
     "end_time": "2023-12-03T16:51:43.579369",
     "exception": false,
     "start_time": "2023-12-03T16:51:32.077924",
     "status": "completed"
    },
    "tags": []
   },
   "outputs": [
    {
     "name": "stdout",
     "output_type": "stream",
     "text": [
      "Collecting PyGithub\r\n",
      "  Obtaining dependency information for PyGithub from https://files.pythonhosted.org/packages/be/04/810d131be173cba445d3658a45512b2b2b3d0960d52c4a300d6ec5e00f52/PyGithub-2.1.1-py3-none-any.whl.metadata\r\n",
      "  Downloading PyGithub-2.1.1-py3-none-any.whl.metadata (2.2 kB)\r\n",
      "Requirement already satisfied: requests in /opt/conda/lib/python3.10/site-packages (2.31.0)\r\n",
      "Collecting pynacl>=1.4.0 (from PyGithub)\r\n",
      "  Downloading PyNaCl-1.5.0-cp36-abi3-manylinux_2_17_x86_64.manylinux2014_x86_64.manylinux_2_24_x86_64.whl (856 kB)\r\n",
      "\u001b[2K     \u001b[90m━━━━━━━━━━━━━━━━━━━━━━━━━━━━━━━━━━━━━━\u001b[0m \u001b[32m856.7/856.7 kB\u001b[0m \u001b[31m28.9 MB/s\u001b[0m eta \u001b[36m0:00:00\u001b[0m\r\n",
      "\u001b[?25hRequirement already satisfied: python-dateutil in /opt/conda/lib/python3.10/site-packages (from PyGithub) (2.8.2)\r\n",
      "Requirement already satisfied: pyjwt[crypto]>=2.4.0 in /opt/conda/lib/python3.10/site-packages (from PyGithub) (2.8.0)\r\n",
      "Requirement already satisfied: typing-extensions>=4.0.0 in /opt/conda/lib/python3.10/site-packages (from PyGithub) (4.5.0)\r\n",
      "Requirement already satisfied: urllib3>=1.26.0 in /opt/conda/lib/python3.10/site-packages (from PyGithub) (1.26.15)\r\n",
      "Requirement already satisfied: Deprecated in /opt/conda/lib/python3.10/site-packages (from PyGithub) (1.2.14)\r\n",
      "Requirement already satisfied: charset-normalizer<4,>=2 in /opt/conda/lib/python3.10/site-packages (from requests) (3.2.0)\r\n",
      "Requirement already satisfied: idna<4,>=2.5 in /opt/conda/lib/python3.10/site-packages (from requests) (3.4)\r\n",
      "Requirement already satisfied: certifi>=2017.4.17 in /opt/conda/lib/python3.10/site-packages (from requests) (2023.7.22)\r\n",
      "Requirement already satisfied: cryptography>=3.4.0 in /opt/conda/lib/python3.10/site-packages (from pyjwt[crypto]>=2.4.0->PyGithub) (41.0.3)\r\n",
      "Requirement already satisfied: cffi>=1.4.1 in /opt/conda/lib/python3.10/site-packages (from pynacl>=1.4.0->PyGithub) (1.15.1)\r\n",
      "Requirement already satisfied: wrapt<2,>=1.10 in /opt/conda/lib/python3.10/site-packages (from Deprecated->PyGithub) (1.15.0)\r\n",
      "Requirement already satisfied: six>=1.5 in /opt/conda/lib/python3.10/site-packages (from python-dateutil->PyGithub) (1.16.0)\r\n",
      "Requirement already satisfied: pycparser in /opt/conda/lib/python3.10/site-packages (from cffi>=1.4.1->pynacl>=1.4.0->PyGithub) (2.21)\r\n",
      "Downloading PyGithub-2.1.1-py3-none-any.whl (302 kB)\r\n",
      "\u001b[2K   \u001b[90m━━━━━━━━━━━━━━━━━━━━━━━━━━━━━━━━━━━━━━━━\u001b[0m \u001b[32m302.9/302.9 kB\u001b[0m \u001b[31m29.0 MB/s\u001b[0m eta \u001b[36m0:00:00\u001b[0m\r\n",
      "\u001b[?25hInstalling collected packages: pynacl, PyGithub\r\n",
      "Successfully installed PyGithub-2.1.1 pynacl-1.5.0\r\n"
     ]
    }
   ],
   "source": [
    "! pip install PyGithub requests"
   ]
  },
  {
   "cell_type": "code",
   "execution_count": 3,
   "id": "54134c06",
   "metadata": {
    "_kg_hide-output": true,
    "execution": {
     "iopub.execute_input": "2023-12-03T16:51:43.601547Z",
     "iopub.status.busy": "2023-12-03T16:51:43.601178Z",
     "iopub.status.idle": "2023-12-03T16:53:29.399159Z",
     "shell.execute_reply": "2023-12-03T16:53:29.397653Z"
    },
    "papermill": {
     "duration": 105.811915,
     "end_time": "2023-12-03T16:53:29.401531",
     "exception": false,
     "start_time": "2023-12-03T16:51:43.589616",
     "status": "completed"
    },
    "scrolled": true,
    "tags": []
   },
   "outputs": [
    {
     "name": "stdout",
     "output_type": "stream",
     "text": [
      "run_compile_all_cython: Found 10 Cython files in 4 folders...\r\n",
      "run_compile_all_cython: All files will be compiled using your current python environment: '/opt/conda/bin/python'\r\n",
      "Compiling [1/10]: MatrixFactorizationImpressions_Cython_Epoch.pyx... \r\n",
      "In file included from \u001b[01m\u001b[K/opt/conda/lib/python3.10/site-packages/numpy/core/include/numpy/ndarraytypes.h:1940\u001b[m\u001b[K,\r\n",
      "                 from \u001b[01m\u001b[K/opt/conda/lib/python3.10/site-packages/numpy/core/include/numpy/ndarrayobject.h:12\u001b[m\u001b[K,\r\n",
      "                 from \u001b[01m\u001b[K/opt/conda/lib/python3.10/site-packages/numpy/core/include/numpy/arrayobject.h:5\u001b[m\u001b[K,\r\n",
      "                 from \u001b[01m\u001b[KMatrixFactorizationImpressions_Cython_Epoch.c:1109\u001b[m\u001b[K:\r\n",
      "\u001b[01m\u001b[K/opt/conda/lib/python3.10/site-packages/numpy/core/include/numpy/npy_1_7_deprecated_api.h:17:2:\u001b[m\u001b[K \u001b[01;35m\u001b[Kwarning: \u001b[m\u001b[K#warning \"Using deprecated NumPy API, disable it with \" \"#define NPY_NO_DEPRECATED_API NPY_1_7_API_VERSION\" [\u001b[01;35m\u001b[K-Wcpp\u001b[m\u001b[K]\r\n",
      "   17 | #\u001b[01;35m\u001b[Kwarning\u001b[m\u001b[K \"Using deprecated NumPy API, disable it with \" \\\r\n",
      "      |  \u001b[01;35m\u001b[K^~~~~~~\u001b[m\u001b[K\r\n",
      "\u001b[01m\u001b[KMatrixFactorizationImpressions_Cython_Epoch.c:\u001b[m\u001b[K In function ‘\u001b[01m\u001b[K__pyx_f_43MatrixFactorizationImpressions_Cython_Epoch_32MatrixFactorization_Cython_Epoch_sampleBPR_Cython\u001b[m\u001b[K’:\r\n",
      "\u001b[01m\u001b[KMatrixFactorizationImpressions_Cython_Epoch.c:29664:17:\u001b[m\u001b[K \u001b[01;35m\u001b[Kwarning: \u001b[m\u001b[K‘\u001b[01m\u001b[K__pyx_v_start_pos_impression_items\u001b[m\u001b[K’ may be used uninitialized in this function [\u001b[01;35m\u001b[K-Wmaybe-uninitialized\u001b[m\u001b[K]\r\n",
      "29664 |       \u001b[01;35m\u001b[K__pyx_t_4 = (__pyx_v_start_pos_impression_items + __pyx_v_index)\u001b[m\u001b[K;\r\n",
      "      |       \u001b[01;35m\u001b[K~~~~~~~~~~^~~~~~~~~~~~~~~~~~~~~~~~~~~~~~~~~~~~~~~~~~~~~~~~~~~~~~\u001b[m\u001b[K\r\n",
      "\u001b[01m\u001b[KMatrixFactorizationImpressions_Cython_Epoch.c:\u001b[m\u001b[K In function ‘\u001b[01m\u001b[K__pyx_pf_43MatrixFactorizationImpressions_Cython_Epoch_32MatrixFactorization_Cython_Epoch_10epochIteration_Cython_ASY_SVD_SGD\u001b[m\u001b[K’:\r\n",
      "\u001b[01m\u001b[KMatrixFactorizationImpressions_Cython_Epoch.c:25474:7:\u001b[m\u001b[K \u001b[01;35m\u001b[Kwarning: \u001b[m\u001b[K‘\u001b[01m\u001b[K__pyx_v_end_pos_seen_items\u001b[m\u001b[K’ may be used uninitialized in this function [\u001b[01;35m\u001b[K-Wmaybe-uninitialized\u001b[m\u001b[K]\r\n",
      "25474 |       \u001b[01;35m\u001b[Kfor\u001b[m\u001b[K (__pyx_t_21 = __pyx_v_start_pos_seen_items; __pyx_t_21 < __pyx_t_20; __pyx_t_21+=1) {\r\n",
      "      |       \u001b[01;35m\u001b[K^~~\u001b[m\u001b[K\r\n",
      "\u001b[01m\u001b[KMatrixFactorizationImpressions_Cython_Epoch.c:25474:7:\u001b[m\u001b[K \u001b[01;35m\u001b[Kwarning: \u001b[m\u001b[K‘\u001b[01m\u001b[K__pyx_v_start_pos_seen_items\u001b[m\u001b[K’ may be used uninitialized in this function [\u001b[01;35m\u001b[K-Wmaybe-uninitialized\u001b[m\u001b[K]\r\n",
      "/opt/conda/lib/python3.10/site-packages/Cython/Compiler/Main.py:381: FutureWarning: Cython directive 'language_level' not set, using '3str' for now (Py3). This has changed from earlier releases! File: /kaggle/working/Recsys_Challenge_2023/Recommenders/MatrixFactorization/Cython/MatrixFactorizationImpressions_Cython_Epoch.pyx\r\n",
      "  tree = Parsing.p_module(s, pxd, full_module_name)\r\n",
      "Compiling [1/10]: MatrixFactorizationImpressions_Cython_Epoch.pyx... PASS\r\n",
      "\r\n",
      "Compiling [2/10]: MatrixFactorization_Cython_Epoch.pyx... \r\n",
      "In file included from \u001b[01m\u001b[K/opt/conda/lib/python3.10/site-packages/numpy/core/include/numpy/ndarraytypes.h:1940\u001b[m\u001b[K,\r\n",
      "                 from \u001b[01m\u001b[K/opt/conda/lib/python3.10/site-packages/numpy/core/include/numpy/ndarrayobject.h:12\u001b[m\u001b[K,\r\n",
      "                 from \u001b[01m\u001b[K/opt/conda/lib/python3.10/site-packages/numpy/core/include/numpy/arrayobject.h:5\u001b[m\u001b[K,\r\n",
      "                 from \u001b[01m\u001b[KMatrixFactorization_Cython_Epoch.c:1109\u001b[m\u001b[K:\r\n",
      "\u001b[01m\u001b[K/opt/conda/lib/python3.10/site-packages/numpy/core/include/numpy/npy_1_7_deprecated_api.h:17:2:\u001b[m\u001b[K \u001b[01;35m\u001b[Kwarning: \u001b[m\u001b[K#warning \"Using deprecated NumPy API, disable it with \" \"#define NPY_NO_DEPRECATED_API NPY_1_7_API_VERSION\" [\u001b[01;35m\u001b[K-Wcpp\u001b[m\u001b[K]\r\n",
      "   17 | #\u001b[01;35m\u001b[Kwarning\u001b[m\u001b[K \"Using deprecated NumPy API, disable it with \" \\\r\n",
      "      |  \u001b[01;35m\u001b[K^~~~~~~\u001b[m\u001b[K\r\n",
      "\u001b[01m\u001b[KMatrixFactorization_Cython_Epoch.c:\u001b[m\u001b[K In function ‘\u001b[01m\u001b[K__pyx_pf_32MatrixFactorization_Cython_Epoch_32MatrixFactorization_Cython_Epoch_10epochIteration_Cython_ASY_SVD_SGD\u001b[m\u001b[K’:\r\n",
      "\u001b[01m\u001b[KMatrixFactorization_Cython_Epoch.c:25614:9:\u001b[m\u001b[K \u001b[01;35m\u001b[Kwarning: \u001b[m\u001b[K‘\u001b[01m\u001b[K__pyx_v_end_pos_seen_items\u001b[m\u001b[K’ may be used uninitialized in this function [\u001b[01;35m\u001b[K-Wmaybe-uninitialized\u001b[m\u001b[K]\r\n",
      "25614 |         \u001b[01;35m\u001b[Kfor\u001b[m\u001b[K (__pyx_t_21 = __pyx_v_start_pos_seen_items; __pyx_t_21 < __pyx_t_20; __pyx_t_21+=1) {\r\n",
      "      |         \u001b[01;35m\u001b[K^~~\u001b[m\u001b[K\r\n",
      "\u001b[01m\u001b[KMatrixFactorization_Cython_Epoch.c:25614:9:\u001b[m\u001b[K \u001b[01;35m\u001b[Kwarning: \u001b[m\u001b[K‘\u001b[01m\u001b[K__pyx_v_start_pos_seen_items\u001b[m\u001b[K’ may be used uninitialized in this function [\u001b[01;35m\u001b[K-Wmaybe-uninitialized\u001b[m\u001b[K]\r\n",
      "/opt/conda/lib/python3.10/site-packages/Cython/Compiler/Main.py:381: FutureWarning: Cython directive 'language_level' not set, using '3str' for now (Py3). This has changed from earlier releases! File: /kaggle/working/Recsys_Challenge_2023/Recommenders/MatrixFactorization/Cython/MatrixFactorization_Cython_Epoch.pyx\r\n",
      "  tree = Parsing.p_module(s, pxd, full_module_name)\r\n",
      "Compiling [2/10]: MatrixFactorization_Cython_Epoch.pyx... PASS\r\n",
      "\r\n",
      "Compiling [3/10]: Compute_Similarity_Cython.pyx... \r\n",
      "warning: Compute_Similarity_Cython.pyx:21:0: The 'IF' statement is deprecated and will be removed in a future Cython version. Consider using runtime conditions or C macros instead. See https://github.com/cython/cython/issues/4310\r\n",
      "warning: Compute_Similarity_Cython.pyx:22:4: The 'DEF' statement is deprecated and will be removed in a future Cython version. Consider using global variables, constants, and in-place literals instead. See https://github.com/cython/cython/issues/4310\r\n",
      "warning: Compute_Similarity_Cython.pyx:24:4: The 'DEF' statement is deprecated and will be removed in a future Cython version. Consider using global variables, constants, and in-place literals instead. See https://github.com/cython/cython/issues/4310\r\n",
      "warning: Compute_Similarity_Cython.pyx:26:4: The 'DEF' statement is deprecated and will be removed in a future Cython version. Consider using global variables, constants, and in-place literals instead. See https://github.com/cython/cython/issues/4310\r\n",
      "In file included from \u001b[01m\u001b[K/opt/conda/lib/python3.10/site-packages/numpy/core/include/numpy/ndarraytypes.h:1940\u001b[m\u001b[K,\r\n",
      "                 from \u001b[01m\u001b[K/opt/conda/lib/python3.10/site-packages/numpy/core/include/numpy/ndarrayobject.h:12\u001b[m\u001b[K,\r\n",
      "                 from \u001b[01m\u001b[K/opt/conda/lib/python3.10/site-packages/numpy/core/include/numpy/arrayobject.h:5\u001b[m\u001b[K,\r\n",
      "                 from \u001b[01m\u001b[KCompute_Similarity_Cython.c:1109\u001b[m\u001b[K:\r\n",
      "\u001b[01m\u001b[K/opt/conda/lib/python3.10/site-packages/numpy/core/include/numpy/npy_1_7_deprecated_api.h:17:2:\u001b[m\u001b[K \u001b[01;35m\u001b[Kwarning: \u001b[m\u001b[K#warning \"Using deprecated NumPy API, disable it with \" \"#define NPY_NO_DEPRECATED_API NPY_1_7_API_VERSION\" [\u001b[01;35m\u001b[K-Wcpp\u001b[m\u001b[K]\r\n",
      "   17 | #\u001b[01;35m\u001b[Kwarning\u001b[m\u001b[K \"Using deprecated NumPy API, disable it with \" \\\r\n",
      "      |  \u001b[01;35m\u001b[K^~~~~~~\u001b[m\u001b[K\r\n",
      "/opt/conda/lib/python3.10/site-packages/Cython/Compiler/Main.py:381: FutureWarning: Cython directive 'language_level' not set, using '3str' for now (Py3). This has changed from earlier releases! File: /kaggle/working/Recsys_Challenge_2023/Recommenders/Similarity/Cython/Compute_Similarity_Cython.pyx\r\n",
      "  tree = Parsing.p_module(s, pxd, full_module_name)\r\n",
      "warning: Compute_Similarity_Cython.pyx:21:0: The 'IF' statement is deprecated and will be removed in a future Cython version. Consider using runtime conditions or C macros instead. See https://github.com/cython/cython/issues/4310\r\n",
      "warning: Compute_Similarity_Cython.pyx:22:4: The 'DEF' statement is deprecated and will be removed in a future Cython version. Consider using global variables, constants, and in-place literals instead. See https://github.com/cython/cython/issues/4310\r\n",
      "warning: Compute_Similarity_Cython.pyx:24:4: The 'DEF' statement is deprecated and will be removed in a future Cython version. Consider using global variables, constants, and in-place literals instead. See https://github.com/cython/cython/issues/4310\r\n",
      "warning: Compute_Similarity_Cython.pyx:26:4: The 'DEF' statement is deprecated and will be removed in a future Cython version. Consider using global variables, constants, and in-place literals instead. See https://github.com/cython/cython/issues/4310\r\n",
      "Compiling [3/10]: Compute_Similarity_Cython.pyx... PASS\r\n",
      "\r\n",
      "Compiling [4/10]: Triangular_Matrix.pyx... \r\n",
      "warning: Triangular_Matrix.pyx:22:0: The 'IF' statement is deprecated and will be removed in a future Cython version. Consider using runtime conditions or C macros instead. See https://github.com/cython/cython/issues/4310\r\n",
      "warning: Triangular_Matrix.pyx:23:4: The 'DEF' statement is deprecated and will be removed in a future Cython version. Consider using global variables, constants, and in-place literals instead. See https://github.com/cython/cython/issues/4310\r\n",
      "warning: Triangular_Matrix.pyx:25:4: The 'DEF' statement is deprecated and will be removed in a future Cython version. Consider using global variables, constants, and in-place literals instead. See https://github.com/cython/cython/issues/4310\r\n",
      "warning: Triangular_Matrix.pyx:27:4: The 'DEF' statement is deprecated and will be removed in a future Cython version. Consider using global variables, constants, and in-place literals instead. See https://github.com/cython/cython/issues/4310\r\n",
      "In file included from \u001b[01m\u001b[K/opt/conda/lib/python3.10/site-packages/numpy/core/include/numpy/ndarraytypes.h:1940\u001b[m\u001b[K,\r\n",
      "                 from \u001b[01m\u001b[K/opt/conda/lib/python3.10/site-packages/numpy/core/include/numpy/ndarrayobject.h:12\u001b[m\u001b[K,\r\n",
      "                 from \u001b[01m\u001b[K/opt/conda/lib/python3.10/site-packages/numpy/core/include/numpy/arrayobject.h:5\u001b[m\u001b[K,\r\n",
      "                 from \u001b[01m\u001b[KTriangular_Matrix.c:1109\u001b[m\u001b[K:\r\n",
      "\u001b[01m\u001b[K/opt/conda/lib/python3.10/site-packages/numpy/core/include/numpy/npy_1_7_deprecated_api.h:17:2:\u001b[m\u001b[K \u001b[01;35m\u001b[Kwarning: \u001b[m\u001b[K#warning \"Using deprecated NumPy API, disable it with \" \"#define NPY_NO_DEPRECATED_API NPY_1_7_API_VERSION\" [\u001b[01;35m\u001b[K-Wcpp\u001b[m\u001b[K]\r\n",
      "   17 | #\u001b[01;35m\u001b[Kwarning\u001b[m\u001b[K \"Using deprecated NumPy API, disable it with \" \\\r\n",
      "      |  \u001b[01;35m\u001b[K^~~~~~~\u001b[m\u001b[K\r\n",
      "/opt/conda/lib/python3.10/site-packages/Cython/Compiler/Main.py:381: FutureWarning: Cython directive 'language_level' not set, using '3str' for now (Py3). This has changed from earlier releases! File: /kaggle/working/Recsys_Challenge_2023/Recommenders/SLIM/Cython/Triangular_Matrix.pyx\r\n",
      "  tree = Parsing.p_module(s, pxd, full_module_name)\r\n",
      "warning: Triangular_Matrix.pyx:22:0: The 'IF' statement is deprecated and will be removed in a future Cython version. Consider using runtime conditions or C macros instead. See https://github.com/cython/cython/issues/4310\r\n",
      "warning: Triangular_Matrix.pyx:23:4: The 'DEF' statement is deprecated and will be removed in a future Cython version. Consider using global variables, constants, and in-place literals instead. See https://github.com/cython/cython/issues/4310\r\n",
      "warning: Triangular_Matrix.pyx:25:4: The 'DEF' statement is deprecated and will be removed in a future Cython version. Consider using global variables, constants, and in-place literals instead. See https://github.com/cython/cython/issues/4310\r\n",
      "warning: Triangular_Matrix.pyx:27:4: The 'DEF' statement is deprecated and will be removed in a future Cython version. Consider using global variables, constants, and in-place literals instead. See https://github.com/cython/cython/issues/4310\r\n",
      "Compiling [4/10]: Triangular_Matrix.pyx... PASS\r\n",
      "\r\n",
      "Compiling [5/10]: SLIM_BPR_Cython_Epoch.pyx... \r\n",
      "warning: SLIM_BPR_Cython_Epoch.pyx:24:0: The 'IF' statement is deprecated and will be removed in a future Cython version. Consider using runtime conditions or C macros instead. See https://github.com/cython/cython/issues/4310\r\n",
      "warning: SLIM_BPR_Cython_Epoch.pyx:25:4: The 'DEF' statement is deprecated and will be removed in a future Cython version. Consider using global variables, constants, and in-place literals instead. See https://github.com/cython/cython/issues/4310\r\n",
      "warning: SLIM_BPR_Cython_Epoch.pyx:27:4: The 'DEF' statement is deprecated and will be removed in a future Cython version. Consider using global variables, constants, and in-place literals instead. See https://github.com/cython/cython/issues/4310\r\n",
      "warning: SLIM_BPR_Cython_Epoch.pyx:29:4: The 'DEF' statement is deprecated and will be removed in a future Cython version. Consider using global variables, constants, and in-place literals instead. See https://github.com/cython/cython/issues/4310\r\n",
      "warning: SLIM_BPR_Cython_Epoch.pyx:632:34: Non-trivial type declarators in shared declaration (e.g. mix of pointers and values). Each pointer declaration should be on its own line.\r\n",
      "warning: SLIM_BPR_Cython_Epoch.pyx:632:66: Non-trivial type declarators in shared declaration (e.g. mix of pointers and values). Each pointer declaration should be on its own line.\r\n",
      "warning: SLIM_BPR_Cython_Epoch.pyx:817:35: Non-trivial type declarators in shared declaration (e.g. mix of pointers and values). Each pointer declaration should be on its own line.\r\n",
      "warning: SLIM_BPR_Cython_Epoch.pyx:817:52: Non-trivial type declarators in shared declaration (e.g. mix of pointers and values). Each pointer declaration should be on its own line.\r\n",
      "warning: SLIM_BPR_Cython_Epoch.pyx:916:35: Non-trivial type declarators in shared declaration (e.g. mix of pointers and values). Each pointer declaration should be on its own line.\r\n",
      "warning: SLIM_BPR_Cython_Epoch.pyx:916:53: Non-trivial type declarators in shared declaration (e.g. mix of pointers and values). Each pointer declaration should be on its own line.\r\n",
      "warning: SLIM_BPR_Cython_Epoch.pyx:916:69: Non-trivial type declarators in shared declaration (e.g. mix of pointers and values). Each pointer declaration should be on its own line.\r\n",
      "warning: SLIM_BPR_Cython_Epoch.pyx:1051:35: Non-trivial type declarators in shared declaration (e.g. mix of pointers and values). Each pointer declaration should be on its own line.\r\n",
      "warning: SLIM_BPR_Cython_Epoch.pyx:1051:42: Non-trivial type declarators in shared declaration (e.g. mix of pointers and values). Each pointer declaration should be on its own line.\r\n",
      "warning: SLIM_BPR_Cython_Epoch.pyx:1052:35: Non-trivial type declarators in shared declaration (e.g. mix of pointers and values). Each pointer declaration should be on its own line.\r\n",
      "warning: SLIM_BPR_Cython_Epoch.pyx:1052:53: Non-trivial type declarators in shared declaration (e.g. mix of pointers and values). Each pointer declaration should be on its own line.\r\n",
      "\r\n",
      "Error compiling Cython file:\r\n",
      "------------------------------------------------------------\r\n",
      "...\r\n",
      "            vector_pointer_to_list_elements[index].head = current_element\r\n",
      "            current_element = current_element.higher\r\n",
      "\r\n",
      "\r\n",
      "        # Sort array elements on their data field\r\n",
      "        qsort(vector_pointer_to_list_elements, list_length, sizeof(head_pointer_tree_s), compare_struct_on_data)\r\n",
      "                                                                                         ^\r\n",
      "------------------------------------------------------------\r\n",
      "\r\n",
      "SLIM_BPR_Cython_Epoch.pyx:990:89: Cannot assign type 'int (const void *, const void *) except? -1' to 'int (*)(const_void *, const_void *) noexcept'\r\n",
      "\r\n",
      "Error compiling Cython file:\r\n",
      "------------------------------------------------------------\r\n",
      "...\r\n",
      "        # Sort array elements on their data field\r\n",
      "        qsort(vector_pointer_to_list_elements, list_length, sizeof(head_pointer_tree_s), compare_struct_on_data)\r\n",
      "\r\n",
      "        # Sort only the TopK according to their column field\r\n",
      "        # Sort is from lower to higher, therefore the elements to be considered are from len-topK to len\r\n",
      "        qsort(&vector_pointer_to_list_elements[list_length-TopK], TopK, sizeof(head_pointer_tree_s), compare_struct_on_column)\r\n",
      "                                                                                                     ^\r\n",
      "------------------------------------------------------------\r\n",
      "\r\n",
      "SLIM_BPR_Cython_Epoch.pyx:994:101: Cannot assign type 'int (const void *, const void *) except? -1' to 'int (*)(const_void *, const_void *) noexcept'\r\n",
      "Traceback (most recent call last):\r\n",
      "  File \"/kaggle/working/Recsys_Challenge_2023/CythonCompiler/compile_script.py\", line 48, in <module>\r\n",
      "    setup(\r\n",
      "  File \"/opt/conda/lib/python3.10/site-packages/setuptools/__init__.py\", line 107, in setup\r\n",
      "    return distutils.core.setup(**attrs)\r\n",
      "  File \"/opt/conda/lib/python3.10/site-packages/setuptools/_distutils/core.py\", line 185, in setup\r\n",
      "    return run_commands(dist)\r\n",
      "  File \"/opt/conda/lib/python3.10/site-packages/setuptools/_distutils/core.py\", line 201, in run_commands\r\n",
      "    dist.run_commands()\r\n",
      "  File \"/opt/conda/lib/python3.10/site-packages/setuptools/_distutils/dist.py\", line 969, in run_commands\r\n",
      "    self.run_command(cmd)\r\n",
      "  File \"/opt/conda/lib/python3.10/site-packages/setuptools/dist.py\", line 1233, in run_command\r\n",
      "    super().run_command(command)\r\n",
      "  File \"/opt/conda/lib/python3.10/site-packages/setuptools/_distutils/dist.py\", line 988, in run_command\r\n",
      "    cmd_obj.run()\r\n",
      "  File \"/opt/conda/lib/python3.10/site-packages/setuptools/_distutils/command/build_ext.py\", line 345, in run\r\n",
      "    self.build_extensions()\r\n",
      "  File \"/opt/conda/lib/python3.10/site-packages/setuptools/_distutils/command/build_ext.py\", line 467, in build_extensions\r\n",
      "    self._build_extensions_serial()\r\n",
      "  File \"/opt/conda/lib/python3.10/site-packages/setuptools/_distutils/command/build_ext.py\", line 493, in _build_extensions_serial\r\n",
      "    self.build_extension(ext)\r\n",
      "  File \"/opt/conda/lib/python3.10/site-packages/Cython/Distutils/build_ext.py\", line 122, in build_extension\r\n",
      "    new_ext = cythonize(\r\n",
      "  File \"/opt/conda/lib/python3.10/site-packages/Cython/Build/Dependencies.py\", line 1134, in cythonize\r\n",
      "    cythonize_one(*args)\r\n",
      "  File \"/opt/conda/lib/python3.10/site-packages/Cython/Build/Dependencies.py\", line 1301, in cythonize_one\r\n",
      "    raise CompileError(None, pyx_file)\r\n",
      "Cython.Compiler.Errors.CompileError: SLIM_BPR_Cython_Epoch.pyx\r\n",
      "Traceback (most recent call last):\r\n",
      "  File \"/kaggle/working/Recsys_Challenge_2023/run_compile_all_cython.py\", line 59, in <module>\r\n",
      "    run_compile_subprocess(file_path, [file_name])\r\n",
      "  File \"/kaggle/working/Recsys_Challenge_2023/CythonCompiler/run_compile_subprocess.py\", line 51, in run_compile_subprocess\r\n",
      "    raise exc\r\n",
      "  File \"/kaggle/working/Recsys_Challenge_2023/CythonCompiler/run_compile_subprocess.py\", line 32, in run_compile_subprocess\r\n",
      "    output = subprocess.check_output(' '.join(command),\r\n",
      "  File \"/opt/conda/lib/python3.10/subprocess.py\", line 421, in check_output\r\n",
      "    return run(*popenargs, stdout=PIPE, timeout=timeout, check=True,\r\n",
      "  File \"/opt/conda/lib/python3.10/subprocess.py\", line 526, in run\r\n",
      "    raise CalledProcessError(retcode, process.args,\r\n",
      "subprocess.CalledProcessError: Command '/opt/conda/bin/python /kaggle/working/Recsys_Challenge_2023/CythonCompiler/compile_script.py SLIM_BPR_Cython_Epoch.pyx build_ext --inplace' returned non-zero exit status 1.\r\n",
      "Compiling [5/10]: SLIM_BPR_Cython_Epoch.pyx... FAIL: Command '/opt/conda/bin/python /kaggle/working/Recsys_Challenge_2023/CythonCompiler/compile_script.py SLIM_BPR_Cython_Epoch.pyx build_ext --inplace' returned non-zero exit status 1.\r\n",
      "\r\n",
      "Compiling [6/10]: Sparse_Matrix_Tree_CSR.pyx... \r\n",
      "warning: Sparse_Matrix_Tree_CSR.pyx:132:34: Non-trivial type declarators in shared declaration (e.g. mix of pointers and values). Each pointer declaration should be on its own line.\r\n",
      "warning: Sparse_Matrix_Tree_CSR.pyx:132:66: Non-trivial type declarators in shared declaration (e.g. mix of pointers and values). Each pointer declaration should be on its own line.\r\n",
      "warning: Sparse_Matrix_Tree_CSR.pyx:343:35: Non-trivial type declarators in shared declaration (e.g. mix of pointers and values). Each pointer declaration should be on its own line.\r\n",
      "warning: Sparse_Matrix_Tree_CSR.pyx:343:52: Non-trivial type declarators in shared declaration (e.g. mix of pointers and values). Each pointer declaration should be on its own line.\r\n",
      "warning: Sparse_Matrix_Tree_CSR.pyx:442:35: Non-trivial type declarators in shared declaration (e.g. mix of pointers and values). Each pointer declaration should be on its own line.\r\n",
      "warning: Sparse_Matrix_Tree_CSR.pyx:442:53: Non-trivial type declarators in shared declaration (e.g. mix of pointers and values). Each pointer declaration should be on its own line.\r\n",
      "warning: Sparse_Matrix_Tree_CSR.pyx:442:69: Non-trivial type declarators in shared declaration (e.g. mix of pointers and values). Each pointer declaration should be on its own line.\r\n",
      "warning: Sparse_Matrix_Tree_CSR.pyx:577:35: Non-trivial type declarators in shared declaration (e.g. mix of pointers and values). Each pointer declaration should be on its own line.\r\n",
      "warning: Sparse_Matrix_Tree_CSR.pyx:577:42: Non-trivial type declarators in shared declaration (e.g. mix of pointers and values). Each pointer declaration should be on its own line.\r\n",
      "warning: Sparse_Matrix_Tree_CSR.pyx:578:35: Non-trivial type declarators in shared declaration (e.g. mix of pointers and values). Each pointer declaration should be on its own line.\r\n",
      "warning: Sparse_Matrix_Tree_CSR.pyx:578:53: Non-trivial type declarators in shared declaration (e.g. mix of pointers and values). Each pointer declaration should be on its own line.\r\n",
      "\r\n",
      "Error compiling Cython file:\r\n",
      "------------------------------------------------------------\r\n",
      "...\r\n",
      "            vector_pointer_to_list_elements[index].head = current_element\r\n",
      "            current_element = current_element.higher\r\n",
      "\r\n",
      "\r\n",
      "        # Sort array elements on their data field\r\n",
      "        qsort(vector_pointer_to_list_elements, list_length, sizeof(head_pointer_tree_s), compare_struct_on_data)\r\n",
      "                                                                                         ^\r\n",
      "------------------------------------------------------------\r\n",
      "\r\n",
      "Sparse_Matrix_Tree_CSR.pyx:516:89: Cannot assign type 'int (const void *, const void *) except? -1' to 'int (*)(const_void *, const_void *) noexcept'\r\n",
      "\r\n",
      "Error compiling Cython file:\r\n",
      "------------------------------------------------------------\r\n",
      "...\r\n",
      "        # Sort array elements on their data field\r\n",
      "        qsort(vector_pointer_to_list_elements, list_length, sizeof(head_pointer_tree_s), compare_struct_on_data)\r\n",
      "\r\n",
      "        # Sort only the TopK according to their column field\r\n",
      "        # Sort is from lower to higher, therefore the elements to be considered are from len-topK to len\r\n",
      "        qsort(&vector_pointer_to_list_elements[list_length-TopK], TopK, sizeof(head_pointer_tree_s), compare_struct_on_column)\r\n",
      "                                                                                                     ^\r\n",
      "------------------------------------------------------------\r\n",
      "\r\n",
      "Sparse_Matrix_Tree_CSR.pyx:520:101: Cannot assign type 'int (const void *, const void *) except? -1' to 'int (*)(const_void *, const_void *) noexcept'\r\n",
      "Traceback (most recent call last):\r\n",
      "  File \"/kaggle/working/Recsys_Challenge_2023/CythonCompiler/compile_script.py\", line 48, in <module>\r\n",
      "    setup(\r\n",
      "  File \"/opt/conda/lib/python3.10/site-packages/setuptools/__init__.py\", line 107, in setup\r\n",
      "    return distutils.core.setup(**attrs)\r\n",
      "  File \"/opt/conda/lib/python3.10/site-packages/setuptools/_distutils/core.py\", line 185, in setup\r\n",
      "    return run_commands(dist)\r\n",
      "  File \"/opt/conda/lib/python3.10/site-packages/setuptools/_distutils/core.py\", line 201, in run_commands\r\n",
      "    dist.run_commands()\r\n",
      "  File \"/opt/conda/lib/python3.10/site-packages/setuptools/_distutils/dist.py\", line 969, in run_commands\r\n",
      "    self.run_command(cmd)\r\n",
      "  File \"/opt/conda/lib/python3.10/site-packages/setuptools/dist.py\", line 1233, in run_command\r\n",
      "    super().run_command(command)\r\n",
      "  File \"/opt/conda/lib/python3.10/site-packages/setuptools/_distutils/dist.py\", line 988, in run_command\r\n",
      "    cmd_obj.run()\r\n",
      "  File \"/opt/conda/lib/python3.10/site-packages/setuptools/_distutils/command/build_ext.py\", line 345, in run\r\n",
      "    self.build_extensions()\r\n",
      "  File \"/opt/conda/lib/python3.10/site-packages/setuptools/_distutils/command/build_ext.py\", line 467, in build_extensions\r\n",
      "    self._build_extensions_serial()\r\n",
      "  File \"/opt/conda/lib/python3.10/site-packages/setuptools/_distutils/command/build_ext.py\", line 493, in _build_extensions_serial\r\n",
      "    self.build_extension(ext)\r\n",
      "  File \"/opt/conda/lib/python3.10/site-packages/Cython/Distutils/build_ext.py\", line 122, in build_extension\r\n",
      "    new_ext = cythonize(\r\n",
      "  File \"/opt/conda/lib/python3.10/site-packages/Cython/Build/Dependencies.py\", line 1134, in cythonize\r\n",
      "    cythonize_one(*args)\r\n",
      "  File \"/opt/conda/lib/python3.10/site-packages/Cython/Build/Dependencies.py\", line 1301, in cythonize_one\r\n",
      "    raise CompileError(None, pyx_file)\r\n",
      "Cython.Compiler.Errors.CompileError: Sparse_Matrix_Tree_CSR.pyx\r\n",
      "Traceback (most recent call last):\r\n",
      "  File \"/kaggle/working/Recsys_Challenge_2023/run_compile_all_cython.py\", line 59, in <module>\r\n",
      "    run_compile_subprocess(file_path, [file_name])\r\n",
      "  File \"/kaggle/working/Recsys_Challenge_2023/CythonCompiler/run_compile_subprocess.py\", line 51, in run_compile_subprocess\r\n",
      "    raise exc\r\n",
      "  File \"/kaggle/working/Recsys_Challenge_2023/CythonCompiler/run_compile_subprocess.py\", line 32, in run_compile_subprocess\r\n",
      "    output = subprocess.check_output(' '.join(command),\r\n",
      "  File \"/opt/conda/lib/python3.10/subprocess.py\", line 421, in check_output\r\n",
      "    return run(*popenargs, stdout=PIPE, timeout=timeout, check=True,\r\n",
      "  File \"/opt/conda/lib/python3.10/subprocess.py\", line 526, in run\r\n",
      "    raise CalledProcessError(retcode, process.args,\r\n",
      "subprocess.CalledProcessError: Command '/opt/conda/bin/python /kaggle/working/Recsys_Challenge_2023/CythonCompiler/compile_script.py Sparse_Matrix_Tree_CSR.pyx build_ext --inplace' returned non-zero exit status 1.\r\n",
      "Compiling [6/10]: Sparse_Matrix_Tree_CSR.pyx... FAIL: Command '/opt/conda/bin/python /kaggle/working/Recsys_Challenge_2023/CythonCompiler/compile_script.py Sparse_Matrix_Tree_CSR.pyx build_ext --inplace' returned non-zero exit status 1.\r\n",
      "\r\n",
      "Compiling [7/10]: HP3_Similarity_Cython_SGD.pyx... \r\n",
      "warning: HP3_Similarity_Cython_SGD.pyx:113:40: Index should be typed for more efficient access\r\n",
      "In file included from \u001b[01m\u001b[K/opt/conda/lib/python3.10/site-packages/numpy/core/include/numpy/ndarraytypes.h:1940\u001b[m\u001b[K,\r\n",
      "                 from \u001b[01m\u001b[K/opt/conda/lib/python3.10/site-packages/numpy/core/include/numpy/ndarrayobject.h:12\u001b[m\u001b[K,\r\n",
      "                 from \u001b[01m\u001b[K/opt/conda/lib/python3.10/site-packages/numpy/core/include/numpy/arrayobject.h:5\u001b[m\u001b[K,\r\n",
      "                 from \u001b[01m\u001b[KHP3_Similarity_Cython_SGD.c:1109\u001b[m\u001b[K:\r\n",
      "\u001b[01m\u001b[K/opt/conda/lib/python3.10/site-packages/numpy/core/include/numpy/npy_1_7_deprecated_api.h:17:2:\u001b[m\u001b[K \u001b[01;35m\u001b[Kwarning: \u001b[m\u001b[K#warning \"Using deprecated NumPy API, disable it with \" \"#define NPY_NO_DEPRECATED_API NPY_1_7_API_VERSION\" [\u001b[01;35m\u001b[K-Wcpp\u001b[m\u001b[K]\r\n",
      "   17 | #\u001b[01;35m\u001b[Kwarning\u001b[m\u001b[K \"Using deprecated NumPy API, disable it with \" \\\r\n",
      "      |  \u001b[01;35m\u001b[K^~~~~~~\u001b[m\u001b[K\r\n",
      "\u001b[01m\u001b[KHP3_Similarity_Cython_SGD.c:\u001b[m\u001b[K In function ‘\u001b[01m\u001b[K__pyx_pf_25HP3_Similarity_Cython_SGD_25HP3_Similarity_Cython_SGD_4fit\u001b[m\u001b[K’:\r\n",
      "\u001b[01m\u001b[KHP3_Similarity_Cython_SGD.c:23035:55:\u001b[m\u001b[K \u001b[01;35m\u001b[Kwarning: \u001b[m\u001b[K‘\u001b[01m\u001b[K__pyx_v_sample_num\u001b[m\u001b[K’ may be used uninitialized in this function [\u001b[01;35m\u001b[K-Wmaybe-uninitialized\u001b[m\u001b[K]\r\n",
      "23035 |   __pyx_t_1 = PyFloat_FromDouble((__pyx_v_cum_loss / \u001b[01;35m\u001b[K((double)__pyx_v_sample_num)\u001b[m\u001b[K)); if (unlikely(!__pyx_t_1)) __PYX_ERR(0, 291, __pyx_L1_error)\r\n",
      "      |                                                      \u001b[01;35m\u001b[K~^~~~~~~~~~~~~~~~~~~~~~~~~~~\u001b[m\u001b[K\r\n",
      "/opt/conda/lib/python3.10/site-packages/Cython/Compiler/Main.py:381: FutureWarning: Cython directive 'language_level' not set, using '3str' for now (Py3). This has changed from earlier releases! File: /kaggle/working/Recsys_Challenge_2023/Recommenders/FeatureWeighting/Cython/HP3_Similarity_Cython_SGD.pyx\r\n",
      "  tree = Parsing.p_module(s, pxd, full_module_name)\r\n",
      "warning: HP3_Similarity_Cython_SGD.pyx:113:40: Index should be typed for more efficient access\r\n",
      "Compiling [7/10]: HP3_Similarity_Cython_SGD.pyx... PASS\r\n",
      "\r\n",
      "Compiling [8/10]: CFW_DVV_Similarity_Cython_SGD.pyx... \r\n",
      "In file included from \u001b[01m\u001b[K/opt/conda/lib/python3.10/site-packages/numpy/core/include/numpy/ndarraytypes.h:1940\u001b[m\u001b[K,\r\n",
      "                 from \u001b[01m\u001b[K/opt/conda/lib/python3.10/site-packages/numpy/core/include/numpy/ndarrayobject.h:12\u001b[m\u001b[K,\r\n",
      "                 from \u001b[01m\u001b[K/opt/conda/lib/python3.10/site-packages/numpy/core/include/numpy/arrayobject.h:5\u001b[m\u001b[K,\r\n",
      "                 from \u001b[01m\u001b[KCFW_DVV_Similarity_Cython_SGD.c:1109\u001b[m\u001b[K:\r\n",
      "\u001b[01m\u001b[K/opt/conda/lib/python3.10/site-packages/numpy/core/include/numpy/npy_1_7_deprecated_api.h:17:2:\u001b[m\u001b[K \u001b[01;35m\u001b[Kwarning: \u001b[m\u001b[K#warning \"Using deprecated NumPy API, disable it with \" \"#define NPY_NO_DEPRECATED_API NPY_1_7_API_VERSION\" [\u001b[01;35m\u001b[K-Wcpp\u001b[m\u001b[K]\r\n",
      "   17 | #\u001b[01;35m\u001b[Kwarning\u001b[m\u001b[K \"Using deprecated NumPy API, disable it with \" \\\r\n",
      "      |  \u001b[01;35m\u001b[K^~~~~~~\u001b[m\u001b[K\r\n",
      "/opt/conda/lib/python3.10/site-packages/Cython/Compiler/Main.py:381: FutureWarning: Cython directive 'language_level' not set, using '3str' for now (Py3). This has changed from earlier releases! File: /kaggle/working/Recsys_Challenge_2023/Recommenders/FeatureWeighting/Cython/CFW_DVV_Similarity_Cython_SGD.pyx\r\n",
      "  tree = Parsing.p_module(s, pxd, full_module_name)\r\n",
      "Compiling [8/10]: CFW_DVV_Similarity_Cython_SGD.pyx... PASS\r\n",
      "\r\n",
      "Compiling [9/10]: FBSM_Rating_Cython_SGD.pyx... \r\n",
      "In file included from \u001b[01m\u001b[K/opt/conda/lib/python3.10/site-packages/numpy/core/include/numpy/ndarraytypes.h:1940\u001b[m\u001b[K,\r\n",
      "                 from \u001b[01m\u001b[K/opt/conda/lib/python3.10/site-packages/numpy/core/include/numpy/ndarrayobject.h:12\u001b[m\u001b[K,\r\n",
      "                 from \u001b[01m\u001b[K/opt/conda/lib/python3.10/site-packages/numpy/core/include/numpy/arrayobject.h:5\u001b[m\u001b[K,\r\n",
      "                 from \u001b[01m\u001b[KFBSM_Rating_Cython_SGD.c:1109\u001b[m\u001b[K:\r\n",
      "\u001b[01m\u001b[K/opt/conda/lib/python3.10/site-packages/numpy/core/include/numpy/npy_1_7_deprecated_api.h:17:2:\u001b[m\u001b[K \u001b[01;35m\u001b[Kwarning: \u001b[m\u001b[K#warning \"Using deprecated NumPy API, disable it with \" \"#define NPY_NO_DEPRECATED_API NPY_1_7_API_VERSION\" [\u001b[01;35m\u001b[K-Wcpp\u001b[m\u001b[K]\r\n",
      "   17 | #\u001b[01;35m\u001b[Kwarning\u001b[m\u001b[K \"Using deprecated NumPy API, disable it with \" \\\r\n",
      "      |  \u001b[01;35m\u001b[K^~~~~~~\u001b[m\u001b[K\r\n",
      "\u001b[01m\u001b[KFBSM_Rating_Cython_SGD.c:\u001b[m\u001b[K In function ‘\u001b[01m\u001b[K__pyx_pf_22FBSM_Rating_Cython_SGD_22FBSM_Rating_Cython_SGD_2fit\u001b[m\u001b[K’:\r\n",
      "\u001b[01m\u001b[KFBSM_Rating_Cython_SGD.c:26038:55:\u001b[m\u001b[K \u001b[01;35m\u001b[Kwarning: \u001b[m\u001b[K‘\u001b[01m\u001b[K__pyx_v_num_sample\u001b[m\u001b[K’ may be used uninitialized in this function [\u001b[01;35m\u001b[K-Wmaybe-uninitialized\u001b[m\u001b[K]\r\n",
      "26038 |   __pyx_t_5 = PyFloat_FromDouble((__pyx_v_cum_loss / \u001b[01;35m\u001b[K((double)__pyx_v_num_sample)\u001b[m\u001b[K)); if (unlikely(!__pyx_t_5)) __PYX_ERR(0, 551, __pyx_L1_error)\r\n",
      "      |                                                      \u001b[01;35m\u001b[K~^~~~~~~~~~~~~~~~~~~~~~~~~~~\u001b[m\u001b[K\r\n",
      "/opt/conda/lib/python3.10/site-packages/Cython/Compiler/Main.py:381: FutureWarning: Cython directive 'language_level' not set, using '3str' for now (Py3). This has changed from earlier releases! File: /kaggle/working/Recsys_Challenge_2023/Recommenders/FeatureWeighting/Cython/FBSM_Rating_Cython_SGD.pyx\r\n",
      "  tree = Parsing.p_module(s, pxd, full_module_name)\r\n",
      "Compiling [9/10]: FBSM_Rating_Cython_SGD.pyx... PASS\r\n",
      "\r\n",
      "Compiling [10/10]: CFW_D_Similarity_Cython_SGD.pyx... \r\n",
      "In file included from \u001b[01m\u001b[K/opt/conda/lib/python3.10/site-packages/numpy/core/include/numpy/ndarraytypes.h:1940\u001b[m\u001b[K,\r\n",
      "                 from \u001b[01m\u001b[K/opt/conda/lib/python3.10/site-packages/numpy/core/include/numpy/ndarrayobject.h:12\u001b[m\u001b[K,\r\n",
      "                 from \u001b[01m\u001b[K/opt/conda/lib/python3.10/site-packages/numpy/core/include/numpy/arrayobject.h:5\u001b[m\u001b[K,\r\n",
      "                 from \u001b[01m\u001b[KCFW_D_Similarity_Cython_SGD.c:1109\u001b[m\u001b[K:\r\n",
      "\u001b[01m\u001b[K/opt/conda/lib/python3.10/site-packages/numpy/core/include/numpy/npy_1_7_deprecated_api.h:17:2:\u001b[m\u001b[K \u001b[01;35m\u001b[Kwarning: \u001b[m\u001b[K#warning \"Using deprecated NumPy API, disable it with \" \"#define NPY_NO_DEPRECATED_API NPY_1_7_API_VERSION\" [\u001b[01;35m\u001b[K-Wcpp\u001b[m\u001b[K]\r\n",
      "   17 | #\u001b[01;35m\u001b[Kwarning\u001b[m\u001b[K \"Using deprecated NumPy API, disable it with \" \\\r\n",
      "      |  \u001b[01;35m\u001b[K^~~~~~~\u001b[m\u001b[K\r\n",
      "\u001b[01m\u001b[KCFW_D_Similarity_Cython_SGD.c:\u001b[m\u001b[K In function ‘\u001b[01m\u001b[K__pyx_pf_27CFW_D_Similarity_Cython_SGD_27CFW_D_Similarity_Cython_SGD_6fit\u001b[m\u001b[K’:\r\n",
      "\u001b[01m\u001b[KCFW_D_Similarity_Cython_SGD.c:22766:55:\u001b[m\u001b[K \u001b[01;35m\u001b[Kwarning: \u001b[m\u001b[K‘\u001b[01m\u001b[K__pyx_v_sample_num\u001b[m\u001b[K’ may be used uninitialized in this function [\u001b[01;35m\u001b[K-Wmaybe-uninitialized\u001b[m\u001b[K]\r\n",
      "22766 |   __pyx_t_3 = PyFloat_FromDouble((__pyx_v_cum_loss / \u001b[01;35m\u001b[K((double)__pyx_v_sample_num)\u001b[m\u001b[K)); if (unlikely(!__pyx_t_3)) __PYX_ERR(0, 290, __pyx_L1_error)\r\n",
      "      |                                                      \u001b[01;35m\u001b[K~^~~~~~~~~~~~~~~~~~~~~~~~~~~\u001b[m\u001b[K\r\n",
      "/opt/conda/lib/python3.10/site-packages/Cython/Compiler/Main.py:381: FutureWarning: Cython directive 'language_level' not set, using '3str' for now (Py3). This has changed from earlier releases! File: /kaggle/working/Recsys_Challenge_2023/Recommenders/FeatureWeighting/Cython/CFW_D_Similarity_Cython_SGD.pyx\r\n",
      "  tree = Parsing.p_module(s, pxd, full_module_name)\r\n",
      "Compiling [10/10]: CFW_D_Similarity_Cython_SGD.pyx... PASS\r\n",
      "\r\n",
      "run_compile_all_cython: Compilation finished. FAILS 2/10.\r\n",
      "Compilation log can be found here: './result_experiments/run_compile_all_cython.txt'\r\n"
     ]
    }
   ],
   "source": [
    "! cd /kaggle/working/Recsys_Challenge_2023 && python run_compile_all_cython.py"
   ]
  },
  {
   "cell_type": "code",
   "execution_count": 4,
   "id": "04604e78",
   "metadata": {
    "execution": {
     "iopub.execute_input": "2023-12-03T16:53:29.429893Z",
     "iopub.status.busy": "2023-12-03T16:53:29.429526Z",
     "iopub.status.idle": "2023-12-03T16:53:32.623051Z",
     "shell.execute_reply": "2023-12-03T16:53:32.621998Z"
    },
    "papermill": {
     "duration": 3.210049,
     "end_time": "2023-12-03T16:53:32.624969",
     "exception": false,
     "start_time": "2023-12-03T16:53:29.414920",
     "status": "completed"
    },
    "tags": []
   },
   "outputs": [
    {
     "name": "stdout",
     "output_type": "stream",
     "text": [
      "/kaggle/input/recommender-system-2023-challenge-polimi/data_train.csv\n",
      "/kaggle/input/recommender-system-2023-challenge-polimi/data_target_users_test.csv\n",
      "/kaggle/input/training-tuned-models/slim_bpr_xgboost_train_validation.zip\n",
      "/kaggle/input/training-tuned-models/__results__.html\n",
      "/kaggle/input/training-tuned-models/slim_bpr_all.zip\n",
      "/kaggle/input/training-tuned-models/__notebook__.ipynb\n",
      "/kaggle/input/training-tuned-models/ials_xgboost_train_validation.zip\n",
      "/kaggle/input/training-tuned-models/ials_train_validation.zip\n",
      "/kaggle/input/training-tuned-models/__output__.json\n",
      "/kaggle/input/training-tuned-models/slim_bpr_train_validation.zip\n",
      "/kaggle/input/training-tuned-models/ials_all.zip\n",
      "/kaggle/input/training-tuned-models/custom.css\n",
      "/kaggle/input/training-tuned-models/Recsys_Challenge_2023/run_all_algorithms.py\n",
      "/kaggle/input/training-tuned-models/Recsys_Challenge_2023/cython_example_FunkSVD.py\n",
      "/kaggle/input/training-tuned-models/Recsys_Challenge_2023/LICENSE\n",
      "/kaggle/input/training-tuned-models/Recsys_Challenge_2023/.gitignore\n",
      "/kaggle/input/training-tuned-models/Recsys_Challenge_2023/rp3-tuning.ipynb\n",
      "/kaggle/input/training-tuned-models/Recsys_Challenge_2023/README.md\n",
      "/kaggle/input/training-tuned-models/Recsys_Challenge_2023/run_hyperparameter_search.py\n",
      "/kaggle/input/training-tuned-models/Recsys_Challenge_2023/cython_example_SLIM_MSE.py\n",
      "/kaggle/input/training-tuned-models/Recsys_Challenge_2023/requirements.txt\n",
      "/kaggle/input/training-tuned-models/Recsys_Challenge_2023/run_test_recommenders.py\n",
      "/kaggle/input/training-tuned-models/Recsys_Challenge_2023/run_compile_all_cython.py\n",
      "/kaggle/input/training-tuned-models/Recsys_Challenge_2023/matrix-factorization.ipynb\n",
      "/kaggle/input/training-tuned-models/Recsys_Challenge_2023/hybrid.ipynb\n",
      "/kaggle/input/training-tuned-models/Recsys_Challenge_2023/Data_manager/DataSplitter_Holdout.py\n",
      "/kaggle/input/training-tuned-models/Recsys_Challenge_2023/Data_manager/DataSplitter.py\n",
      "/kaggle/input/training-tuned-models/Recsys_Challenge_2023/Data_manager/DatasetMapperManager.py\n",
      "/kaggle/input/training-tuned-models/Recsys_Challenge_2023/Data_manager/data_consistency_check.py\n",
      "/kaggle/input/training-tuned-models/Recsys_Challenge_2023/Data_manager/README.md\n",
      "/kaggle/input/training-tuned-models/Recsys_Challenge_2023/Data_manager/TagPreprocessing.py\n",
      "/kaggle/input/training-tuned-models/Recsys_Challenge_2023/Data_manager/DataReader.py\n",
      "/kaggle/input/training-tuned-models/Recsys_Challenge_2023/Data_manager/DataReader_utils.py\n",
      "/kaggle/input/training-tuned-models/Recsys_Challenge_2023/Data_manager/IncrementalSparseMatrix.py\n",
      "/kaggle/input/training-tuned-models/Recsys_Challenge_2023/Data_manager/run_clean_split_data_files.py\n",
      "/kaggle/input/training-tuned-models/Recsys_Challenge_2023/Data_manager/Dataset.py\n",
      "/kaggle/input/training-tuned-models/Recsys_Challenge_2023/Data_manager/DataSplitter_leave_k_out.py\n",
      "/kaggle/input/training-tuned-models/Recsys_Challenge_2023/Data_manager/CrossValidationSplitter.py\n",
      "/kaggle/input/training-tuned-models/Recsys_Challenge_2023/Data_manager/__init__.py\n",
      "/kaggle/input/training-tuned-models/Recsys_Challenge_2023/Data_manager/__pycache__/data_consistency_check.cpython-310.pyc\n",
      "/kaggle/input/training-tuned-models/Recsys_Challenge_2023/Data_manager/__pycache__/DatasetMapperManager.cpython-310.pyc\n",
      "/kaggle/input/training-tuned-models/Recsys_Challenge_2023/Data_manager/__pycache__/IncrementalSparseMatrix.cpython-310.pyc\n",
      "/kaggle/input/training-tuned-models/Recsys_Challenge_2023/Data_manager/__pycache__/DataReader.cpython-310.pyc\n",
      "/kaggle/input/training-tuned-models/Recsys_Challenge_2023/Data_manager/__pycache__/DataReader_utils.cpython-310.pyc\n",
      "/kaggle/input/training-tuned-models/Recsys_Challenge_2023/Data_manager/__pycache__/__init__.cpython-310.pyc\n",
      "/kaggle/input/training-tuned-models/Recsys_Challenge_2023/Data_manager/__pycache__/Dataset.cpython-310.pyc\n",
      "/kaggle/input/training-tuned-models/Recsys_Challenge_2023/Data_manager/split_functions/split_train_validation_leave_k_out.py\n",
      "/kaggle/input/training-tuned-models/Recsys_Challenge_2023/Data_manager/split_functions/split_train_validation_cold_items.py\n",
      "/kaggle/input/training-tuned-models/Recsys_Challenge_2023/Data_manager/split_functions/split_train_validation_random_holdout.py\n",
      "/kaggle/input/training-tuned-models/Recsys_Challenge_2023/Data_manager/split_functions/__pycache__/split_train_validation_random_holdout.cpython-310.pyc\n",
      "/kaggle/input/training-tuned-models/Recsys_Challenge_2023/Data_manager/Movielens/Movielens10MReader.py\n",
      "/kaggle/input/training-tuned-models/Recsys_Challenge_2023/Data_manager/Movielens/Movielens1MReader.py\n",
      "/kaggle/input/training-tuned-models/Recsys_Challenge_2023/Data_manager/Movielens/Movielens100KReader.py\n",
      "/kaggle/input/training-tuned-models/Recsys_Challenge_2023/Data_manager/Movielens/MovielensHetrec2011Reader.py\n",
      "/kaggle/input/training-tuned-models/Recsys_Challenge_2023/Data_manager/Movielens/_utils_movielens_parser.py\n",
      "/kaggle/input/training-tuned-models/Recsys_Challenge_2023/Data_manager/Movielens/Movielens20MReader.py\n",
      "/kaggle/input/training-tuned-models/Recsys_Challenge_2023/Data_manager/Movielens/__pycache__/Movielens10MReader.cpython-310.pyc\n",
      "/kaggle/input/training-tuned-models/Recsys_Challenge_2023/Data_manager/Movielens/__pycache__/Movielens1MReader.cpython-310.pyc\n",
      "/kaggle/input/training-tuned-models/Recsys_Challenge_2023/Data_manager/Movielens/__pycache__/_utils_movielens_parser.cpython-310.pyc\n",
      "/kaggle/input/training-tuned-models/Recsys_Challenge_2023/Data_manager/Movielens/__pycache__/Movielens20MReader.cpython-310.pyc\n",
      "/kaggle/input/training-tuned-models/Recsys_Challenge_2023/Data_manager/Movielens/__pycache__/Movielens100KReader.cpython-310.pyc\n",
      "/kaggle/input/training-tuned-models/Recsys_Challenge_2023/Data_manager/Movielens/__pycache__/MovielensHetrec2011Reader.cpython-310.pyc\n",
      "/kaggle/input/training-tuned-models/Recsys_Challenge_2023/Utils/seconds_to_biggest_unit.py\n",
      "/kaggle/input/training-tuned-models/Recsys_Challenge_2023/Utils/PyTorch/utils.py\n",
      "/kaggle/input/training-tuned-models/Recsys_Challenge_2023/Utils/PyTorch/DataSampler.py\n",
      "/kaggle/input/training-tuned-models/Recsys_Challenge_2023/Utils/PyTorch/DataIterator.py\n",
      "/kaggle/input/training-tuned-models/Recsys_Challenge_2023/Utils/PyTorch/Cython/DataIterator.pyx\n",
      "/kaggle/input/training-tuned-models/Recsys_Challenge_2023/Utils/__pycache__/seconds_to_biggest_unit.cpython-310.pyc\n",
      "/kaggle/input/training-tuned-models/Recsys_Challenge_2023/Notebooks_utils/Cosine_Similarity_Cython_SLOW.cpython-36m-x86_64-linux-gnu.so\n",
      "/kaggle/input/training-tuned-models/Recsys_Challenge_2023/Notebooks_utils/Cosine_Similarity_Cython_SLOW.c\n",
      "/kaggle/input/training-tuned-models/Recsys_Challenge_2023/Notebooks_utils/compileCython.py\n",
      "/kaggle/input/training-tuned-models/Recsys_Challenge_2023/Notebooks_utils/Cosine_Similarity_Cython.pyx\n",
      "/kaggle/input/training-tuned-models/Recsys_Challenge_2023/Notebooks_utils/Cosine_Similarity_Cython.html\n",
      "/kaggle/input/training-tuned-models/Recsys_Challenge_2023/Notebooks_utils/Compute_Similarity_Python.py\n",
      "/kaggle/input/training-tuned-models/Recsys_Challenge_2023/Notebooks_utils/Cosine_Similarity_Cython.c\n",
      "/kaggle/input/training-tuned-models/Recsys_Challenge_2023/Notebooks_utils/Cosine_Similarity_Cython.cpython-36m-x86_64-linux-gnu.so\n",
      "/kaggle/input/training-tuned-models/Recsys_Challenge_2023/Notebooks_utils/Cosine_Similarity_Cython_SLOW.pyx\n",
      "/kaggle/input/training-tuned-models/Recsys_Challenge_2023/Notebooks_utils/Cosine_Similarity_Cython_SLOW.html\n",
      "/kaggle/input/training-tuned-models/Recsys_Challenge_2023/CythonCompiler/compile_script.py\n",
      "/kaggle/input/training-tuned-models/Recsys_Challenge_2023/CythonCompiler/run_compile_subprocess.py\n",
      "/kaggle/input/training-tuned-models/Recsys_Challenge_2023/CythonCompiler/__pycache__/run_compile_subprocess.cpython-310.pyc\n",
      "/kaggle/input/training-tuned-models/Recsys_Challenge_2023/Recommenders/IR_feature_weighting.py\n",
      "/kaggle/input/training-tuned-models/Recsys_Challenge_2023/Recommenders/Incremental_Training_Early_Stopping.py\n",
      "/kaggle/input/training-tuned-models/Recsys_Challenge_2023/Recommenders/BaseMatrixFactorizationRecommender.py\n",
      "/kaggle/input/training-tuned-models/Recsys_Challenge_2023/Recommenders/BaseRecommender.py\n",
      "/kaggle/input/training-tuned-models/Recsys_Challenge_2023/Recommenders/BaseCBFRecommender.py\n",
      "/kaggle/input/training-tuned-models/Recsys_Challenge_2023/Recommenders/Recommender_import_list.py\n",
      "/kaggle/input/training-tuned-models/Recsys_Challenge_2023/Recommenders/BaseTempFolder.py\n",
      "/kaggle/input/training-tuned-models/Recsys_Challenge_2023/Recommenders/Recommender_utils.py\n",
      "/kaggle/input/training-tuned-models/Recsys_Challenge_2023/Recommenders/NonPersonalizedRecommender.py\n",
      "/kaggle/input/training-tuned-models/Recsys_Challenge_2023/Recommenders/BaseSimilarityMatrixRecommender.py\n",
      "/kaggle/input/training-tuned-models/Recsys_Challenge_2023/Recommenders/DataIO.py\n",
      "/kaggle/input/training-tuned-models/Recsys_Challenge_2023/Recommenders/PredefinedListRecommender.py\n",
      "/kaggle/input/training-tuned-models/Recsys_Challenge_2023/Recommenders/Similarity/Compute_similarity_euclidean_test.py\n",
      "/kaggle/input/training-tuned-models/Recsys_Challenge_2023/Recommenders/Similarity/Compute_Similarity_Euclidean.py\n",
      "/kaggle/input/training-tuned-models/Recsys_Challenge_2023/Recommenders/Similarity/Compute_Similarity_Python.py\n",
      "/kaggle/input/training-tuned-models/Recsys_Challenge_2023/Recommenders/Similarity/Compute_Similarity.py\n",
      "/kaggle/input/training-tuned-models/Recsys_Challenge_2023/Recommenders/Similarity/Compute_similarity_test.py\n",
      "/kaggle/input/training-tuned-models/Recsys_Challenge_2023/Recommenders/Similarity/__pycache__/Compute_Similarity_Python.cpython-310.pyc\n",
      "/kaggle/input/training-tuned-models/Recsys_Challenge_2023/Recommenders/Similarity/__pycache__/Compute_Similarity.cpython-310.pyc\n",
      "/kaggle/input/training-tuned-models/Recsys_Challenge_2023/Recommenders/Similarity/__pycache__/Compute_Similarity_Euclidean.cpython-310.pyc\n",
      "/kaggle/input/training-tuned-models/Recsys_Challenge_2023/Recommenders/Similarity/Cython/Compute_Similarity_Cython.cpython-310-x86_64-linux-gnu.so\n",
      "/kaggle/input/training-tuned-models/Recsys_Challenge_2023/Recommenders/Similarity/Cython/Compute_Similarity_Cython.pyx\n",
      "/kaggle/input/training-tuned-models/Recsys_Challenge_2023/Recommenders/Similarity/Cython/Compute_Similarity_Cython.html\n",
      "/kaggle/input/training-tuned-models/Recsys_Challenge_2023/Recommenders/Similarity/Cython/Compute_Similarity_Cython.c\n",
      "/kaggle/input/training-tuned-models/Recsys_Challenge_2023/Recommenders/EASE_R/EASE_R_Recommender.py\n",
      "/kaggle/input/training-tuned-models/Recsys_Challenge_2023/Recommenders/EASE_R/__pycache__/EASE_R_Recommender.cpython-310.pyc\n",
      "/kaggle/input/training-tuned-models/Recsys_Challenge_2023/Recommenders/SLIM/SLIMElasticNetRecommender.py\n",
      "/kaggle/input/training-tuned-models/Recsys_Challenge_2023/Recommenders/SLIM/SLIM_BPR_Python.py\n",
      "/kaggle/input/training-tuned-models/Recsys_Challenge_2023/Recommenders/SLIM/__pycache__/SLIMElasticNetRecommender.cpython-310.pyc\n",
      "/kaggle/input/training-tuned-models/Recsys_Challenge_2023/Recommenders/SLIM/__pycache__/SLIM_BPR_Python.cpython-310.pyc\n",
      "/kaggle/input/training-tuned-models/Recsys_Challenge_2023/Recommenders/SLIM/Cython/Triangular_Matrix.cpython-310-x86_64-linux-gnu.so\n",
      "/kaggle/input/training-tuned-models/Recsys_Challenge_2023/Recommenders/SLIM/Cython/Triangular_Matrix.c\n",
      "/kaggle/input/training-tuned-models/Recsys_Challenge_2023/Recommenders/SLIM/Cython/SLIM_BPR_Cython.py\n",
      "/kaggle/input/training-tuned-models/Recsys_Challenge_2023/Recommenders/SLIM/Cython/Sparse_Matrix_Tree_CSR.pyx\n",
      "/kaggle/input/training-tuned-models/Recsys_Challenge_2023/Recommenders/SLIM/Cython/Triangular_Matrix.pyx\n",
      "/kaggle/input/training-tuned-models/Recsys_Challenge_2023/Recommenders/SLIM/Cython/SLIM_BPR_Cython_Epoch.pyx\n",
      "/kaggle/input/training-tuned-models/Recsys_Challenge_2023/Recommenders/SLIM/Cython/Triangular_Matrix.html\n",
      "/kaggle/input/training-tuned-models/Recsys_Challenge_2023/Recommenders/GraphBased/RP3betaRecommender.py\n",
      "/kaggle/input/training-tuned-models/Recsys_Challenge_2023/Recommenders/GraphBased/P3alphaRecommender.py\n",
      "/kaggle/input/training-tuned-models/Recsys_Challenge_2023/Recommenders/GraphBased/__pycache__/RP3betaRecommender.cpython-310.pyc\n",
      "/kaggle/input/training-tuned-models/Recsys_Challenge_2023/Recommenders/GraphBased/__pycache__/P3alphaRecommender.cpython-310.pyc\n",
      "/kaggle/input/training-tuned-models/Recsys_Challenge_2023/Recommenders/FactorizationMachines/LightFMRecommender.py\n",
      "/kaggle/input/training-tuned-models/Recsys_Challenge_2023/Recommenders/__pycache__/BaseRecommender.cpython-310.pyc\n",
      "/kaggle/input/training-tuned-models/Recsys_Challenge_2023/Recommenders/__pycache__/BaseSimilarityMatrixRecommender.cpython-310.pyc\n",
      "/kaggle/input/training-tuned-models/Recsys_Challenge_2023/Recommenders/__pycache__/BaseMatrixFactorizationRecommender.cpython-310.pyc\n",
      "/kaggle/input/training-tuned-models/Recsys_Challenge_2023/Recommenders/__pycache__/Incremental_Training_Early_Stopping.cpython-310.pyc\n",
      "/kaggle/input/training-tuned-models/Recsys_Challenge_2023/Recommenders/__pycache__/IR_feature_weighting.cpython-310.pyc\n",
      "/kaggle/input/training-tuned-models/Recsys_Challenge_2023/Recommenders/__pycache__/DataIO.cpython-310.pyc\n",
      "/kaggle/input/training-tuned-models/Recsys_Challenge_2023/Recommenders/__pycache__/BaseTempFolder.cpython-310.pyc\n",
      "/kaggle/input/training-tuned-models/Recsys_Challenge_2023/Recommenders/__pycache__/Recommender_utils.cpython-310.pyc\n",
      "/kaggle/input/training-tuned-models/Recsys_Challenge_2023/Recommenders/KNN/ItemKNNCustomSimilarityRecommender.py\n",
      "/kaggle/input/training-tuned-models/Recsys_Challenge_2023/Recommenders/KNN/ItemKNNCBFRecommender.py\n",
      "/kaggle/input/training-tuned-models/Recsys_Challenge_2023/Recommenders/KNN/ItemKNNSimilarityHybridRecommender.py\n",
      "/kaggle/input/training-tuned-models/Recsys_Challenge_2023/Recommenders/KNN/UserKNNCBFRecommender.py\n",
      "/kaggle/input/training-tuned-models/Recsys_Challenge_2023/Recommenders/KNN/ItemKNNCFRecommender.py\n",
      "/kaggle/input/training-tuned-models/Recsys_Challenge_2023/Recommenders/KNN/UserKNN_CFCBF_Hybrid_Recommender.py\n",
      "/kaggle/input/training-tuned-models/Recsys_Challenge_2023/Recommenders/KNN/ItemKNN_CFCBF_Hybrid_Recommender.py\n",
      "/kaggle/input/training-tuned-models/Recsys_Challenge_2023/Recommenders/KNN/UserKNNCFRecommender.py\n",
      "/kaggle/input/training-tuned-models/Recsys_Challenge_2023/Recommenders/KNN/__pycache__/UserKNNCFRecommender.cpython-310.pyc\n",
      "/kaggle/input/training-tuned-models/Recsys_Challenge_2023/Recommenders/KNN/__pycache__/ItemKNNCFRecommender.cpython-310.pyc\n",
      "/kaggle/input/training-tuned-models/Recsys_Challenge_2023/Recommenders/Neural/architecture_utils.py\n",
      "/kaggle/input/training-tuned-models/Recsys_Challenge_2023/Recommenders/Neural/MultVAERecommender.py\n",
      "/kaggle/input/training-tuned-models/Recsys_Challenge_2023/Recommenders/Neural/MultVAE_PyTorch_Recommender.py\n",
      "/kaggle/input/training-tuned-models/Recsys_Challenge_2023/Recommenders/Neural/__pycache__/MultVAERecommender.cpython-310.pyc\n",
      "/kaggle/input/training-tuned-models/Recsys_Challenge_2023/Recommenders/Neural/__pycache__/architecture_utils.cpython-310.pyc\n",
      "/kaggle/input/training-tuned-models/Recsys_Challenge_2023/Recommenders/Hybrid/LinearCombinationRecommender.py\n",
      "/kaggle/input/training-tuned-models/Recsys_Challenge_2023/Recommenders/Hybrid/RoundRobinListCombinationRecommender.py\n",
      "/kaggle/input/training-tuned-models/Recsys_Challenge_2023/Recommenders/FeatureWeighting/CFW_D_Similarity_Linalg.py\n",
      "/kaggle/input/training-tuned-models/Recsys_Challenge_2023/Recommenders/FeatureWeighting/Cython/CFW_D_Similarity_Cython_SGD.cpython-310-x86_64-linux-gnu.so\n",
      "/kaggle/input/training-tuned-models/Recsys_Challenge_2023/Recommenders/FeatureWeighting/Cython/HP3_Similarity_Cython_SGD.c\n",
      "/kaggle/input/training-tuned-models/Recsys_Challenge_2023/Recommenders/FeatureWeighting/Cython/FBSM_Rating_Cython_SGD.c\n",
      "/kaggle/input/training-tuned-models/Recsys_Challenge_2023/Recommenders/FeatureWeighting/Cython/CFW_DVV_Similarity_Cython_SGD.pyx\n",
      "/kaggle/input/training-tuned-models/Recsys_Challenge_2023/Recommenders/FeatureWeighting/Cython/FBSM_Rating_Cython_SGD.cpython-310-x86_64-linux-gnu.so\n",
      "/kaggle/input/training-tuned-models/Recsys_Challenge_2023/Recommenders/FeatureWeighting/Cython/CFW_D_Similarity_Cython_SGD.html\n",
      "/kaggle/input/training-tuned-models/Recsys_Challenge_2023/Recommenders/FeatureWeighting/Cython/FBSM_Rating_Cython.py\n",
      "/kaggle/input/training-tuned-models/Recsys_Challenge_2023/Recommenders/FeatureWeighting/Cython/CFW_DVV_Similarity_Cython_SGD.html\n",
      "/kaggle/input/training-tuned-models/Recsys_Challenge_2023/Recommenders/FeatureWeighting/Cython/CFW_DVV_Similarity_Cython_SGD.cpython-310-x86_64-linux-gnu.so\n",
      "/kaggle/input/training-tuned-models/Recsys_Challenge_2023/Recommenders/FeatureWeighting/Cython/HP3_Similarity_Cython.py\n",
      "/kaggle/input/training-tuned-models/Recsys_Challenge_2023/Recommenders/FeatureWeighting/Cython/CFW_D_Similarity_Cython_SGD.c\n",
      "/kaggle/input/training-tuned-models/Recsys_Challenge_2023/Recommenders/FeatureWeighting/Cython/CFW_D_Similarity_Cython_SGD.pyx\n",
      "/kaggle/input/training-tuned-models/Recsys_Challenge_2023/Recommenders/FeatureWeighting/Cython/CFW_D_Similarity_Cython.py\n",
      "/kaggle/input/training-tuned-models/Recsys_Challenge_2023/Recommenders/FeatureWeighting/Cython/FBSM_Rating_Cython_SGD.pyx\n",
      "/kaggle/input/training-tuned-models/Recsys_Challenge_2023/Recommenders/FeatureWeighting/Cython/CFW_DVV_Similarity_Cython_SGD.c\n",
      "/kaggle/input/training-tuned-models/Recsys_Challenge_2023/Recommenders/FeatureWeighting/Cython/HP3_Similarity_Cython_SGD.cpython-310-x86_64-linux-gnu.so\n",
      "/kaggle/input/training-tuned-models/Recsys_Challenge_2023/Recommenders/FeatureWeighting/Cython/HP3_Similarity_Cython_SGD.pyx\n",
      "/kaggle/input/training-tuned-models/Recsys_Challenge_2023/Recommenders/FeatureWeighting/Cython/CFW_DVV_Similarity_Cython.py\n",
      "/kaggle/input/training-tuned-models/Recsys_Challenge_2023/Recommenders/FeatureWeighting/Cython/FBSM_Rating_Cython_SGD.html\n",
      "/kaggle/input/training-tuned-models/Recsys_Challenge_2023/Recommenders/FeatureWeighting/Cython/HP3_Similarity_Cython_SGD.html\n",
      "/kaggle/input/training-tuned-models/Recsys_Challenge_2023/Recommenders/MatrixFactorization/IALSRecommender.py\n",
      "/kaggle/input/training-tuned-models/Recsys_Challenge_2023/Recommenders/MatrixFactorization/NMFRecommender.py\n",
      "/kaggle/input/training-tuned-models/Recsys_Challenge_2023/Recommenders/MatrixFactorization/PureSVDRecommender.py\n",
      "/kaggle/input/training-tuned-models/Recsys_Challenge_2023/Recommenders/MatrixFactorization/SVDFeatureRecommender.py\n",
      "/kaggle/input/training-tuned-models/Recsys_Challenge_2023/Recommenders/MatrixFactorization/PyTorch/MF_MSE_PyTorch.py\n",
      "/kaggle/input/training-tuned-models/Recsys_Challenge_2023/Recommenders/MatrixFactorization/PyTorch/MF_MSE_PyTorch_model.py\n",
      "/kaggle/input/training-tuned-models/Recsys_Challenge_2023/Recommenders/MatrixFactorization/__pycache__/NMFRecommender.cpython-310.pyc\n",
      "/kaggle/input/training-tuned-models/Recsys_Challenge_2023/Recommenders/MatrixFactorization/__pycache__/PureSVDRecommender.cpython-310.pyc\n",
      "/kaggle/input/training-tuned-models/Recsys_Challenge_2023/Recommenders/MatrixFactorization/__pycache__/IALSRecommender.cpython-310.pyc\n",
      "/kaggle/input/training-tuned-models/Recsys_Challenge_2023/Recommenders/MatrixFactorization/Cython/MatrixFactorization_Cython.py\n",
      "/kaggle/input/training-tuned-models/Recsys_Challenge_2023/Recommenders/MatrixFactorization/Cython/MatrixFactorization_Cython_Epoch.cpython-310-x86_64-linux-gnu.so\n",
      "/kaggle/input/training-tuned-models/Recsys_Challenge_2023/Recommenders/MatrixFactorization/Cython/MatrixFactorizationImpressions_Cython_Epoch.cpython-310-x86_64-linux-gnu.so\n",
      "/kaggle/input/training-tuned-models/Recsys_Challenge_2023/Recommenders/MatrixFactorization/Cython/MatrixFactorizationImpressions_Cython.py\n",
      "/kaggle/input/training-tuned-models/Recsys_Challenge_2023/Recommenders/MatrixFactorization/Cython/MatrixFactorization_Cython_Epoch.c\n",
      "/kaggle/input/training-tuned-models/Recsys_Challenge_2023/Recommenders/MatrixFactorization/Cython/MatrixFactorization_Cython_Epoch.html\n",
      "/kaggle/input/training-tuned-models/Recsys_Challenge_2023/Recommenders/MatrixFactorization/Cython/MatrixFactorizationImpressions_Cython_Epoch.pyx\n",
      "/kaggle/input/training-tuned-models/Recsys_Challenge_2023/Recommenders/MatrixFactorization/Cython/MatrixFactorization_Cython_Epoch.pyx\n",
      "/kaggle/input/training-tuned-models/Recsys_Challenge_2023/Recommenders/MatrixFactorization/Cython/MatrixFactorizationImpressions_Cython_Epoch.c\n",
      "/kaggle/input/training-tuned-models/Recsys_Challenge_2023/Recommenders/MatrixFactorization/Cython/MatrixFactorizationImpressions_Cython_Epoch.html\n",
      "/kaggle/input/training-tuned-models/Recsys_Challenge_2023/tuning_results/tuning_hybrid_merging.db\n",
      "/kaggle/input/training-tuned-models/Recsys_Challenge_2023/tuning_results/tuning_hybrid.db\n",
      "/kaggle/input/training-tuned-models/Recsys_Challenge_2023/tuning_results/tuning_mf.db\n",
      "/kaggle/input/training-tuned-models/Recsys_Challenge_2023/tuning_results/tuning_hybrid_precision.db\n",
      "/kaggle/input/training-tuned-models/Recsys_Challenge_2023/tuning_results/best_params_ials_v2.json\n",
      "/kaggle/input/training-tuned-models/Recsys_Challenge_2023/tuning_results/best_params_NMF.json\n",
      "/kaggle/input/training-tuned-models/Recsys_Challenge_2023/tuning_results/best_params_allLinearHyb.json\n",
      "/kaggle/input/training-tuned-models/Recsys_Challenge_2023/tuning_results/best_params_hybrid_merging.json\n",
      "/kaggle/input/training-tuned-models/Recsys_Challenge_2023/tuning_results/best_params_knn_item.json\n",
      "/kaggle/input/training-tuned-models/Recsys_Challenge_2023/tuning_results/better_tuning_EASE_R.db\n",
      "/kaggle/input/training-tuned-models/Recsys_Challenge_2023/tuning_results/tuning_RP3+ItemKNN_Hybrid.db\n",
      "/kaggle/input/training-tuned-models/Recsys_Challenge_2023/tuning_results/tuning_MultVaer.db\n",
      "/kaggle/input/training-tuned-models/Recsys_Challenge_2023/tuning_results/best_params_hybrid_lr_comb_8models.json\n",
      "/kaggle/input/training-tuned-models/Recsys_Challenge_2023/tuning_results/best_params_hybrid_lr_comb_9models.json\n",
      "/kaggle/input/training-tuned-models/Recsys_Challenge_2023/tuning_results/best_params_light.json\n",
      "/kaggle/input/training-tuned-models/Recsys_Challenge_2023/tuning_results/tuning_BPR.db\n",
      "/kaggle/input/training-tuned-models/Recsys_Challenge_2023/tuning_results/best_params_knn_user_cv5.json\n",
      "/kaggle/input/training-tuned-models/Recsys_Challenge_2023/tuning_results/best_params_EASE_R.json\n",
      "/kaggle/input/training-tuned-models/Recsys_Challenge_2023/tuning_results/best_params_Vaer.json\n",
      "/kaggle/input/training-tuned-models/Recsys_Challenge_2023/tuning_results/best_params_alpha.json\n",
      "/kaggle/input/training-tuned-models/Recsys_Challenge_2023/tuning_results/best_params_hybrid_xgboost.json\n",
      "/kaggle/input/training-tuned-models/Recsys_Challenge_2023/tuning_results/pure_svd_params.json\n",
      "/kaggle/input/training-tuned-models/Recsys_Challenge_2023/tuning_results/pure_svd_trials.csv\n",
      "/kaggle/input/training-tuned-models/Recsys_Challenge_2023/tuning_results/tuning_puresvd.db\n",
      "/kaggle/input/training-tuned-models/Recsys_Challenge_2023/tuning_results/best_params_knn_item_cv5.json\n",
      "/kaggle/input/training-tuned-models/Recsys_Challenge_2023/tuning_results/tuning.db\n",
      "/kaggle/input/training-tuned-models/Recsys_Challenge_2023/tuning_results/best_params_slim.json\n",
      "/kaggle/input/training-tuned-models/Recsys_Challenge_2023/tuning_results/better_tuning.db\n",
      "/kaggle/input/training-tuned-models/Recsys_Challenge_2023/tuning_results/tuning_slim_elastic.db\n",
      "/kaggle/input/training-tuned-models/Recsys_Challenge_2023/tuning_results/tuning_hybrid_UserKNN_RP3Hybrid.db\n",
      "/kaggle/input/training-tuned-models/Recsys_Challenge_2023/tuning_results/matrix-factorization-item-puresvd.ipynb\n",
      "/kaggle/input/training-tuned-models/Recsys_Challenge_2023/tuning_results/better_tuning_alpha.db\n",
      "/kaggle/input/training-tuned-models/Recsys_Challenge_2023/tuning_results/best_params_hybrid_UserKNN_RP3Hybrid.json\n",
      "/kaggle/input/training-tuned-models/Recsys_Challenge_2023/tuning_results/best_params_RP3+ItemKNN_Hybrid.json\n",
      "/kaggle/input/training-tuned-models/Recsys_Challenge_2023/tuning_results/best_params_hybrid_lr_comb_10models.json\n",
      "/kaggle/input/training-tuned-models/Recsys_Challenge_2023/tuning_results/best_params_Slim_BPR.json\n",
      "/kaggle/input/training-tuned-models/Recsys_Challenge_2023/tuning_results/best_params_hybrid_lr_comb.json\n",
      "/kaggle/input/training-tuned-models/Recsys_Challenge_2023/tuning_results/light.db\n",
      "/kaggle/input/training-tuned-models/Recsys_Challenge_2023/tuning_results/best_params_hybrid.json\n",
      "/kaggle/input/training-tuned-models/Recsys_Challenge_2023/tuning_results/best_params_item_knn_precision.json\n",
      "/kaggle/input/training-tuned-models/Recsys_Challenge_2023/tuning_results/tuning_rp3.db\n",
      "/kaggle/input/training-tuned-models/Recsys_Challenge_2023/tuning_results/tuning_hybrid_xgboost.db\n",
      "/kaggle/input/training-tuned-models/Recsys_Challenge_2023/tuning_results/best_params_ials.json\n",
      "/kaggle/input/training-tuned-models/Recsys_Challenge_2023/tuning_results/tuning_mf_funk.db\n",
      "/kaggle/input/training-tuned-models/Recsys_Challenge_2023/tuning_results/best_params_knn_user.json\n",
      "/kaggle/input/training-tuned-models/Recsys_Challenge_2023/tuning_results/best_params_funk_svd.json\n",
      "/kaggle/input/training-tuned-models/Recsys_Challenge_2023/tuning_results/best_params_puresvd_item.json\n",
      "/kaggle/input/training-tuned-models/Recsys_Challenge_2023/tuning_results/best_params_hybrid_lr_comb_rp3_p3a_item.json\n",
      "/kaggle/input/training-tuned-models/Recsys_Challenge_2023/tuning_results/best_params_RP3.json\n",
      "/kaggle/input/training-tuned-models/Recsys_Challenge_2023/tuning_results/parameters_NMF.db\n",
      "/kaggle/input/training-tuned-models/Recsys_Challenge_2023/tuning_results/better_tuning_knn.db\n",
      "/kaggle/input/training-tuned-models/Recsys_Challenge_2023/tuning_results/tuning_best_params_allLinearHyb.db\n",
      "/kaggle/input/training-tuned-models/Recsys_Challenge_2023/models/slim_bpr_xgboost_train_validation.zip\n",
      "/kaggle/input/training-tuned-models/Recsys_Challenge_2023/models/ease_r_all.zip\n",
      "/kaggle/input/training-tuned-models/Recsys_Challenge_2023/models/slim_bpr_all.zip\n",
      "/kaggle/input/training-tuned-models/Recsys_Challenge_2023/models/slim_elastic_train_validation.zip\n",
      "/kaggle/input/training-tuned-models/Recsys_Challenge_2023/models/nmf_all.zip\n",
      "/kaggle/input/training-tuned-models/Recsys_Challenge_2023/models/ease_r_train_validation.zip\n",
      "/kaggle/input/training-tuned-models/Recsys_Challenge_2023/models/nmf_train_validation.zip\n",
      "/kaggle/input/training-tuned-models/Recsys_Challenge_2023/models/nmf_xgboost_train_validation.zip\n",
      "/kaggle/input/training-tuned-models/Recsys_Challenge_2023/models/slim_elastic_xgboost_train_validation.zip\n",
      "/kaggle/input/training-tuned-models/Recsys_Challenge_2023/models/ease_r_xgboost_train_validation.zip\n",
      "/kaggle/input/training-tuned-models/Recsys_Challenge_2023/models/slim_bpr_train_validation.zip\n",
      "/kaggle/input/training-tuned-models/Recsys_Challenge_2023/models/slim_elastic_all.zip\n",
      "/kaggle/input/training-tuned-models/Recsys_Challenge_2023/images/random_random_everywhere_meme.jpg\n",
      "/kaggle/input/training-tuned-models/Recsys_Challenge_2023/images/ive_already_seen_it_meme.png\n",
      "/kaggle/input/training-tuned-models/Recsys_Challenge_2023/images/bob_example.jpeg\n",
      "/kaggle/input/training-tuned-models/Recsys_Challenge_2023/images/hstack_example.png\n",
      "/kaggle/input/training-tuned-models/Recsys_Challenge_2023/images/FactorizationMachine.png\n",
      "/kaggle/input/training-tuned-models/Recsys_Challenge_2023/images/ive_evaluated_your_performance_meme.jpg\n",
      "/kaggle/input/training-tuned-models/Recsys_Challenge_2023/images/amongus_meme.png\n",
      "/kaggle/input/training-tuned-models/Recsys_Challenge_2023/images/toy_story_poster.png\n",
      "/kaggle/input/training-tuned-models/Recsys_Challenge_2023/images/better_than_average_on_the_first_try_meme.jpg\n",
      "/kaggle/input/training-tuned-models/Recsys_Challenge_2023/HyperparameterTuning/SearchSingleCase.py\n",
      "/kaggle/input/training-tuned-models/Recsys_Challenge_2023/HyperparameterTuning/SearchAbstractClass.py\n",
      "/kaggle/input/training-tuned-models/Recsys_Challenge_2023/HyperparameterTuning/run_hyperparameter_search.py\n",
      "/kaggle/input/training-tuned-models/Recsys_Challenge_2023/HyperparameterTuning/SearchBayesianSkopt.py\n",
      "/kaggle/input/training-tuned-models/Recsys_Challenge_2023/Cython_examples/isPrime_slow.pyx\n",
      "/kaggle/input/training-tuned-models/Recsys_Challenge_2023/Cython_examples/SLIM_MSE_fastest.pyx\n",
      "/kaggle/input/training-tuned-models/Recsys_Challenge_2023/Cython_examples/isPrime_nochecks.pyx\n",
      "/kaggle/input/training-tuned-models/Recsys_Challenge_2023/Cython_examples/isPrime.pyx\n",
      "/kaggle/input/training-tuned-models/Recsys_Challenge_2023/Cython_examples/FunkSVD_fastest.pyx\n",
      "/kaggle/input/training-tuned-models/Recsys_Challenge_2023/Cython_examples/FunkSVD_slow.pyx\n",
      "/kaggle/input/training-tuned-models/Recsys_Challenge_2023/Cython_examples/SLIM_MSE_slow.pyx\n",
      "/kaggle/input/training-tuned-models/Recsys_Challenge_2023/result_experiments/run_compile_all_cython.txt\n",
      "/kaggle/input/training-tuned-models/Recsys_Challenge_2023/.git/config\n",
      "/kaggle/input/training-tuned-models/Recsys_Challenge_2023/.git/packed-refs\n",
      "/kaggle/input/training-tuned-models/Recsys_Challenge_2023/.git/HEAD\n",
      "/kaggle/input/training-tuned-models/Recsys_Challenge_2023/.git/index\n",
      "/kaggle/input/training-tuned-models/Recsys_Challenge_2023/.git/description\n",
      "/kaggle/input/training-tuned-models/Recsys_Challenge_2023/.git/info/exclude\n",
      "/kaggle/input/training-tuned-models/Recsys_Challenge_2023/.git/refs/heads/master\n",
      "/kaggle/input/training-tuned-models/Recsys_Challenge_2023/.git/refs/remotes/origin/HEAD\n",
      "/kaggle/input/training-tuned-models/Recsys_Challenge_2023/.git/hooks/pre-merge-commit.sample\n",
      "/kaggle/input/training-tuned-models/Recsys_Challenge_2023/.git/hooks/prepare-commit-msg.sample\n",
      "/kaggle/input/training-tuned-models/Recsys_Challenge_2023/.git/hooks/update.sample\n",
      "/kaggle/input/training-tuned-models/Recsys_Challenge_2023/.git/hooks/pre-push.sample\n",
      "/kaggle/input/training-tuned-models/Recsys_Challenge_2023/.git/hooks/pre-rebase.sample\n",
      "/kaggle/input/training-tuned-models/Recsys_Challenge_2023/.git/hooks/pre-applypatch.sample\n",
      "/kaggle/input/training-tuned-models/Recsys_Challenge_2023/.git/hooks/pre-commit.sample\n",
      "/kaggle/input/training-tuned-models/Recsys_Challenge_2023/.git/hooks/commit-msg.sample\n",
      "/kaggle/input/training-tuned-models/Recsys_Challenge_2023/.git/hooks/post-update.sample\n",
      "/kaggle/input/training-tuned-models/Recsys_Challenge_2023/.git/hooks/pre-receive.sample\n",
      "/kaggle/input/training-tuned-models/Recsys_Challenge_2023/.git/hooks/fsmonitor-watchman.sample\n",
      "/kaggle/input/training-tuned-models/Recsys_Challenge_2023/.git/hooks/applypatch-msg.sample\n",
      "/kaggle/input/training-tuned-models/Recsys_Challenge_2023/.git/logs/HEAD\n",
      "/kaggle/input/training-tuned-models/Recsys_Challenge_2023/.git/logs/refs/heads/master\n",
      "/kaggle/input/training-tuned-models/Recsys_Challenge_2023/.git/logs/refs/remotes/origin/HEAD\n",
      "/kaggle/input/training-tuned-models/Recsys_Challenge_2023/.git/objects/pack/pack-c4abe30e81b3f8989be525bc59f27f7e7e0ab021.pack\n",
      "/kaggle/input/training-tuned-models/Recsys_Challenge_2023/.git/objects/pack/pack-c4abe30e81b3f8989be525bc59f27f7e7e0ab021.idx\n",
      "/kaggle/input/training-tuned-models/Recsys_Challenge_2023/challenge_notebooks/training-tuned-models.ipynb\n",
      "/kaggle/input/training-tuned-models/Recsys_Challenge_2023/challenge_notebooks/list-combination.ipynb\n",
      "/kaggle/input/training-tuned-models/Recsys_Challenge_2023/challenge_notebooks/hyperparameters-tuning.ipynb\n",
      "/kaggle/input/training-tuned-models/Recsys_Challenge_2023/challenge_notebooks/rp3-tuning.ipynb\n",
      "/kaggle/input/training-tuned-models/Recsys_Challenge_2023/challenge_notebooks/hybrid-precision.ipynb\n",
      "/kaggle/input/training-tuned-models/Recsys_Challenge_2023/challenge_notebooks/linear-combination.ipynb\n",
      "/kaggle/input/training-tuned-models/Recsys_Challenge_2023/challenge_notebooks/rp3-itemknn-hybrid.ipynb\n",
      "/kaggle/input/training-tuned-models/Recsys_Challenge_2023/challenge_notebooks/merging-models.ipynb\n",
      "/kaggle/input/training-tuned-models/Recsys_Challenge_2023/challenge_notebooks/matrix-factorization-item-puresvd.ipynb\n",
      "/kaggle/input/training-tuned-models/Recsys_Challenge_2023/challenge_notebooks/hyperparameters-tuning-better.ipynb\n",
      "/kaggle/input/training-tuned-models/Recsys_Challenge_2023/challenge_notebooks/xgboost.ipynb\n",
      "/kaggle/input/training-tuned-models/Recsys_Challenge_2023/challenge_notebooks/srecsys-challenge.ipynb\n",
      "/kaggle/input/training-tuned-models/Recsys_Challenge_2023/Evaluation/metrics.py\n",
      "/kaggle/input/training-tuned-models/Recsys_Challenge_2023/Evaluation/Evaluator.py\n",
      "/kaggle/input/training-tuned-models/Recsys_Challenge_2023/Evaluation/__pycache__/metrics.cpython-310.pyc\n",
      "/kaggle/input/training-tuned-models/Recsys_Challenge_2023/Evaluation/__pycache__/Evaluator.cpython-310.pyc\n"
     ]
    }
   ],
   "source": [
    "import numpy as np\n",
    "import pandas as pd\n",
    "import matplotlib.pyplot as plt\n",
    "import seaborn as sns\n",
    "import joblib\n",
    "import json\n",
    "import random\n",
    "import tqdm\n",
    "import gc\n",
    "import time\n",
    "import os\n",
    "import shutil\n",
    "import optuna\n",
    "import scipy.sparse as sps\n",
    "\n",
    "for dirname, _, filenames in os.walk('/kaggle/input'):\n",
    "    for filename in filenames:\n",
    "        print(os.path.join(dirname, filename))"
   ]
  },
  {
   "cell_type": "code",
   "execution_count": 5,
   "id": "cf81111b",
   "metadata": {
    "execution": {
     "iopub.execute_input": "2023-12-03T16:53:32.655090Z",
     "iopub.status.busy": "2023-12-03T16:53:32.654206Z",
     "iopub.status.idle": "2023-12-03T16:53:32.660610Z",
     "shell.execute_reply": "2023-12-03T16:53:32.659955Z"
    },
    "papermill": {
     "duration": 0.023269,
     "end_time": "2023-12-03T16:53:32.662585",
     "exception": false,
     "start_time": "2023-12-03T16:53:32.639316",
     "status": "completed"
    },
    "tags": []
   },
   "outputs": [
    {
     "name": "stdout",
     "output_type": "stream",
     "text": [
      "/kaggle/working/Recsys_Challenge_2023\n"
     ]
    }
   ],
   "source": [
    "%cd /kaggle/working/Recsys_Challenge_2023"
   ]
  },
  {
   "cell_type": "code",
   "execution_count": 6,
   "id": "746ca653",
   "metadata": {
    "execution": {
     "iopub.execute_input": "2023-12-03T16:53:32.691187Z",
     "iopub.status.busy": "2023-12-03T16:53:32.690774Z",
     "iopub.status.idle": "2023-12-03T16:53:45.244233Z",
     "shell.execute_reply": "2023-12-03T16:53:45.242893Z"
    },
    "papermill": {
     "duration": 12.570173,
     "end_time": "2023-12-03T16:53:45.246446",
     "exception": false,
     "start_time": "2023-12-03T16:53:32.676273",
     "status": "completed"
    },
    "tags": []
   },
   "outputs": [],
   "source": [
    "from Recommenders.KNN.UserKNNCFRecommender import UserKNNCFRecommender\n",
    "from Data_manager.split_functions.split_train_validation_random_holdout import split_train_in_two_percentage_global_sample\n",
    "from Recommenders.SLIM.SLIMElasticNetRecommender import MultiThreadSLIM_SLIMElasticNetRecommender, SLIMElasticNetRecommender\n",
    "from Evaluation.Evaluator import EvaluatorHoldout\n",
    "from Recommenders.MatrixFactorization.IALSRecommender import IALSRecommender\n",
    "from Recommenders.MatrixFactorization.PureSVDRecommender import PureSVDRecommender, PureSVDItemRecommender\n",
    "from Recommenders.KNN.ItemKNNCFRecommender import ItemKNNCFRecommender\n",
    "from Recommenders.KNN.UserKNNCFRecommender import UserKNNCFRecommender\n",
    "from Recommenders.KNN.ItemKNNSimilarityHybridRecommender import ItemKNNSimilarityHybridRecommender\n",
    "from Recommenders.KNN.ItemKNNCustomSimilarityRecommender import ItemKNNCustomSimilarityRecommender\n",
    "from Recommenders.EASE_R.EASE_R_Recommender import EASE_R_Recommender\n",
    "from Recommenders.Neural.MultVAERecommender import MultVAERecommender\n",
    "from Recommenders.GraphBased.RP3betaRecommender import RP3betaRecommender\n",
    "from Recommenders.GraphBased.P3alphaRecommender import P3alphaRecommender\n",
    "from Recommenders.SLIM.SLIM_BPR_Python import SLIM_BPR_Python\n",
    "from Recommenders.MatrixFactorization.NMFRecommender import NMFRecommender\n",
    "from Recommenders.BaseRecommender import BaseRecommender\n",
    "\n",
    "from Recommenders.Hybrid.LinearCombinationRecommender import LinearCombinationRecommender\n",
    "from Data_manager.CrossValidationSplitter import CrossValidationSplitter\n",
    "\n",
    "np.int = int\n",
    "np.random.seed(42)\n",
    "np.bool = bool\n",
    "np.float = float"
   ]
  },
  {
   "cell_type": "markdown",
   "id": "f712e772",
   "metadata": {
    "papermill": {
     "duration": 0.013959,
     "end_time": "2023-12-03T16:53:45.275117",
     "exception": false,
     "start_time": "2023-12-03T16:53:45.261158",
     "status": "completed"
    },
    "tags": []
   },
   "source": [
    "# Configurations"
   ]
  },
  {
   "cell_type": "code",
   "execution_count": 7,
   "id": "345deaa4",
   "metadata": {
    "execution": {
     "iopub.execute_input": "2023-12-03T16:53:45.304848Z",
     "iopub.status.busy": "2023-12-03T16:53:45.303866Z",
     "iopub.status.idle": "2023-12-03T16:53:46.052587Z",
     "shell.execute_reply": "2023-12-03T16:53:46.051562Z"
    },
    "papermill": {
     "duration": 0.766237,
     "end_time": "2023-12-03T16:53:46.055088",
     "exception": false,
     "start_time": "2023-12-03T16:53:45.288851",
     "status": "completed"
    },
    "tags": []
   },
   "outputs": [
    {
     "name": "stdout",
     "output_type": "stream",
     "text": [
      "Repository found\n"
     ]
    }
   ],
   "source": [
    "from github import Github\n",
    "from github import Auth\n",
    "\n",
    "auth = Auth.Token(token)\n",
    "g = Github(auth=auth)\n",
    "\n",
    "repo = None\n",
    "for r in g.get_user().get_repos():\n",
    "    if r.name == 'Recsys_Challenge_2023':\n",
    "        repo = r\n",
    "        print('Repository found')"
   ]
  },
  {
   "cell_type": "code",
   "execution_count": 8,
   "id": "1b6b19b8",
   "metadata": {
    "execution": {
     "iopub.execute_input": "2023-12-03T16:53:46.083846Z",
     "iopub.status.busy": "2023-12-03T16:53:46.083464Z",
     "iopub.status.idle": "2023-12-03T16:53:46.090423Z",
     "shell.execute_reply": "2023-12-03T16:53:46.088721Z"
    },
    "papermill": {
     "duration": 0.023684,
     "end_time": "2023-12-03T16:53:46.092643",
     "exception": false,
     "start_time": "2023-12-03T16:53:46.068959",
     "status": "completed"
    },
    "tags": []
   },
   "outputs": [],
   "source": [
    "def upload_file(filepath_kaggle, filepath_github, commit_message):\n",
    "    try:\n",
    "        contents = repo.get_contents(filepath_github)\n",
    "        with open(filepath_kaggle, \"rb\") as file:\n",
    "            repo.update_file(contents.path, commit_message, file.read(), contents.sha)\n",
    "    except Exception:\n",
    "        with open(filepath_kaggle, \"rb\") as file:\n",
    "            repo.create_file(filepath_github, commit_message, file.read())"
   ]
  },
  {
   "cell_type": "code",
   "execution_count": 9,
   "id": "f7d65a43",
   "metadata": {
    "execution": {
     "iopub.execute_input": "2023-12-03T16:53:46.122270Z",
     "iopub.status.busy": "2023-12-03T16:53:46.121849Z",
     "iopub.status.idle": "2023-12-03T16:53:46.127618Z",
     "shell.execute_reply": "2023-12-03T16:53:46.126390Z"
    },
    "papermill": {
     "duration": 0.023697,
     "end_time": "2023-12-03T16:53:46.130063",
     "exception": false,
     "start_time": "2023-12-03T16:53:46.106366",
     "status": "completed"
    },
    "tags": []
   },
   "outputs": [],
   "source": [
    "config = {\n",
    "    'tune_parameters': True,\n",
    "    'database_path': '/kaggle/working/tuning_hybrid.db',\n",
    "    'copy_prev_tuning_db': True,\n",
    "    'copy_prev_best_params': True,\n",
    "    'save_github': True\n",
    "}"
   ]
  },
  {
   "cell_type": "markdown",
   "id": "e7f58f1d",
   "metadata": {
    "papermill": {
     "duration": 0.01304,
     "end_time": "2023-12-03T16:53:46.156669",
     "exception": false,
     "start_time": "2023-12-03T16:53:46.143629",
     "status": "completed"
    },
    "tags": []
   },
   "source": [
    "# Tuning"
   ]
  },
  {
   "cell_type": "code",
   "execution_count": 10,
   "id": "1ce096c3",
   "metadata": {
    "execution": {
     "iopub.execute_input": "2023-12-03T16:53:46.238228Z",
     "iopub.status.busy": "2023-12-03T16:53:46.236829Z",
     "iopub.status.idle": "2023-12-03T16:53:46.414186Z",
     "shell.execute_reply": "2023-12-03T16:53:46.411111Z"
    },
    "papermill": {
     "duration": 0.195269,
     "end_time": "2023-12-03T16:53:46.417056",
     "exception": false,
     "start_time": "2023-12-03T16:53:46.221787",
     "status": "completed"
    },
    "tags": []
   },
   "outputs": [],
   "source": [
    "train_data = pd.read_csv('/kaggle/input/recommender-system-2023-challenge-polimi/data_train.csv')\n",
    "user_ids_test = pd.read_csv('/kaggle/input/recommender-system-2023-challenge-polimi/data_target_users_test.csv')"
   ]
  },
  {
   "cell_type": "code",
   "execution_count": 11,
   "id": "74862686",
   "metadata": {
    "execution": {
     "iopub.execute_input": "2023-12-03T16:53:46.447129Z",
     "iopub.status.busy": "2023-12-03T16:53:46.446761Z",
     "iopub.status.idle": "2023-12-03T16:53:46.480313Z",
     "shell.execute_reply": "2023-12-03T16:53:46.479152Z"
    },
    "papermill": {
     "duration": 0.051255,
     "end_time": "2023-12-03T16:53:46.482982",
     "exception": false,
     "start_time": "2023-12-03T16:53:46.431727",
     "status": "completed"
    },
    "tags": []
   },
   "outputs": [
    {
     "data": {
      "text/plain": [
       "<13024x22347 sparse matrix of type '<class 'numpy.float64'>'\n",
       "\twith 478730 stored elements in Compressed Sparse Row format>"
      ]
     },
     "execution_count": 11,
     "metadata": {},
     "output_type": "execute_result"
    }
   ],
   "source": [
    "URM_all = sps.csr_matrix((train_data.data.values,\n",
    "                          ((train_data.row - 1).values, (train_data.col - 1).values)),\n",
    "                        shape=(train_data.row.max(), train_data.col.max()))\n",
    "URM_all"
   ]
  },
  {
   "cell_type": "code",
   "execution_count": 12,
   "id": "2b8924cd",
   "metadata": {
    "execution": {
     "iopub.execute_input": "2023-12-03T16:53:46.512309Z",
     "iopub.status.busy": "2023-12-03T16:53:46.511964Z",
     "iopub.status.idle": "2023-12-03T16:53:47.219111Z",
     "shell.execute_reply": "2023-12-03T16:53:47.218364Z"
    },
    "papermill": {
     "duration": 0.723987,
     "end_time": "2023-12-03T16:53:47.220904",
     "exception": false,
     "start_time": "2023-12-03T16:53:46.496917",
     "status": "completed"
    },
    "tags": []
   },
   "outputs": [
    {
     "name": "stdout",
     "output_type": "stream",
     "text": [
      "Warning: 627 (4.81 %) of 13024 users have no train items\n",
      "Warning: 2568 (19.72 %) of 13024 users have no sampled items\n"
     ]
    }
   ],
   "source": [
    "URM_train, URM_test_complete = split_train_in_two_percentage_global_sample(URM_all, train_percentage = 0.8)"
   ]
  },
  {
   "cell_type": "code",
   "execution_count": 13,
   "id": "7f6c6dd8",
   "metadata": {
    "execution": {
     "iopub.execute_input": "2023-12-03T16:53:47.250917Z",
     "iopub.status.busy": "2023-12-03T16:53:47.250526Z",
     "iopub.status.idle": "2023-12-03T16:53:47.257203Z",
     "shell.execute_reply": "2023-12-03T16:53:47.256470Z"
    },
    "papermill": {
     "duration": 0.023665,
     "end_time": "2023-12-03T16:53:47.258844",
     "exception": false,
     "start_time": "2023-12-03T16:53:47.235179",
     "status": "completed"
    },
    "tags": []
   },
   "outputs": [
    {
     "data": {
      "text/plain": [
       "{'topK': 14,\n",
       " 'shrink': 25,\n",
       " 'similarity': 'tversky',\n",
       " 'tversky_alpha': 0.18163095712123836,\n",
       " 'tversky_beta': 1.8529812241698465}"
      ]
     },
     "execution_count": 13,
     "metadata": {},
     "output_type": "execute_result"
    }
   ],
   "source": [
    "with open('/kaggle/working/Recsys_Challenge_2023/tuning_results/best_params_knn_item.json', 'r') as params_file:\n",
    "    params_item_knn = json.load(params_file)\n",
    "params_item_knn"
   ]
  },
  {
   "cell_type": "code",
   "execution_count": 14,
   "id": "e7185d92",
   "metadata": {
    "execution": {
     "iopub.execute_input": "2023-12-03T16:53:47.288585Z",
     "iopub.status.busy": "2023-12-03T16:53:47.288215Z",
     "iopub.status.idle": "2023-12-03T16:53:47.296667Z",
     "shell.execute_reply": "2023-12-03T16:53:47.295526Z"
    },
    "papermill": {
     "duration": 0.025218,
     "end_time": "2023-12-03T16:53:47.298756",
     "exception": false,
     "start_time": "2023-12-03T16:53:47.273538",
     "status": "completed"
    },
    "tags": []
   },
   "outputs": [
    {
     "data": {
      "text/plain": [
       "{'alpha': 0.26348679053501006, 'beta': 0.17536156577039744, 'topK': 27}"
      ]
     },
     "execution_count": 14,
     "metadata": {},
     "output_type": "execute_result"
    }
   ],
   "source": [
    "with open('/kaggle/working/Recsys_Challenge_2023/tuning_results/best_params_RP3.json', 'r') as params_file:\n",
    "    params_rp3 = json.load(params_file)\n",
    "params_rp3"
   ]
  },
  {
   "cell_type": "code",
   "execution_count": 15,
   "id": "e42ed7a7",
   "metadata": {
    "execution": {
     "iopub.execute_input": "2023-12-03T16:53:47.328103Z",
     "iopub.status.busy": "2023-12-03T16:53:47.327778Z",
     "iopub.status.idle": "2023-12-03T16:53:47.334799Z",
     "shell.execute_reply": "2023-12-03T16:53:47.333459Z"
    },
    "papermill": {
     "duration": 0.023898,
     "end_time": "2023-12-03T16:53:47.336669",
     "exception": false,
     "start_time": "2023-12-03T16:53:47.312771",
     "status": "completed"
    },
    "tags": []
   },
   "outputs": [
    {
     "data": {
      "text/plain": [
       "{'normalize_similarity': 'True',\n",
       " 'implicit': 'True',\n",
       " 'alpha': 0.29354071531607107,\n",
       " 'topK': 49}"
      ]
     },
     "execution_count": 15,
     "metadata": {},
     "output_type": "execute_result"
    }
   ],
   "source": [
    "with open('/kaggle/working/Recsys_Challenge_2023/tuning_results/best_params_alpha.json', 'r') as params_file:\n",
    "    params_p3alpha = json.load(params_file)\n",
    "params_p3alpha"
   ]
  },
  {
   "cell_type": "code",
   "execution_count": 16,
   "id": "b7315942",
   "metadata": {
    "execution": {
     "iopub.execute_input": "2023-12-03T16:53:47.368906Z",
     "iopub.status.busy": "2023-12-03T16:53:47.368517Z",
     "iopub.status.idle": "2023-12-03T16:53:47.374646Z",
     "shell.execute_reply": "2023-12-03T16:53:47.373261Z"
    },
    "papermill": {
     "duration": 0.024971,
     "end_time": "2023-12-03T16:53:47.376544",
     "exception": false,
     "start_time": "2023-12-03T16:53:47.351573",
     "status": "completed"
    },
    "tags": []
   },
   "outputs": [
    {
     "data": {
      "text/plain": [
       "{'alpha': 0.3375591188839621, 'topK': 86}"
      ]
     },
     "execution_count": 16,
     "metadata": {},
     "output_type": "execute_result"
    }
   ],
   "source": [
    "with open('/kaggle/working/Recsys_Challenge_2023/tuning_results/best_params_hybrid_merging.json', 'r') as params_file:\n",
    "    params_merging = json.load(params_file)\n",
    "params_merging"
   ]
  },
  {
   "cell_type": "code",
   "execution_count": 17,
   "id": "1817fd2a",
   "metadata": {
    "execution": {
     "iopub.execute_input": "2023-12-03T16:53:47.407761Z",
     "iopub.status.busy": "2023-12-03T16:53:47.407421Z",
     "iopub.status.idle": "2023-12-03T16:53:49.679874Z",
     "shell.execute_reply": "2023-12-03T16:53:49.678558Z"
    },
    "papermill": {
     "duration": 2.290041,
     "end_time": "2023-12-03T16:53:49.682007",
     "exception": false,
     "start_time": "2023-12-03T16:53:47.391966",
     "status": "completed"
    },
    "tags": []
   },
   "outputs": [
    {
     "data": {
      "text/plain": [
       "'/kaggle/working/ials_all.zip'"
      ]
     },
     "execution_count": 17,
     "metadata": {},
     "output_type": "execute_result"
    }
   ],
   "source": [
    "shutil.copyfile(\n",
    "    '/kaggle/input/training-tuned-models/ials_train_validation.zip', \n",
    "    '/kaggle/working/ials_train_validation.zip', \n",
    ")\n",
    "shutil.copyfile(\n",
    "    '/kaggle/input/training-tuned-models/ials_train_validation.zip', \n",
    "    '/kaggle/working/ials_all.zip', \n",
    ")"
   ]
  },
  {
   "cell_type": "code",
   "execution_count": 18,
   "id": "e692d562",
   "metadata": {
    "execution": {
     "iopub.execute_input": "2023-12-03T16:53:49.712861Z",
     "iopub.status.busy": "2023-12-03T16:53:49.711980Z",
     "iopub.status.idle": "2023-12-03T16:54:06.753209Z",
     "shell.execute_reply": "2023-12-03T16:54:06.751957Z"
    },
    "papermill": {
     "duration": 17.059284,
     "end_time": "2023-12-03T16:54:06.755840",
     "exception": false,
     "start_time": "2023-12-03T16:53:49.696556",
     "status": "completed"
    },
    "tags": []
   },
   "outputs": [
    {
     "name": "stdout",
     "output_type": "stream",
     "text": [
      "ItemKNNCFRecommender: URM Detected 627 ( 4.8%) users with no interactions.\n",
      "ItemKNNCFRecommender: URM Detected 247 ( 1.1%) items with no interactions.\n",
      "Similarity column 22347 (100.0%), 6893.35 column/sec. Elapsed time 3.24 sec\n",
      "RP3betaRecommender: URM Detected 627 ( 4.8%) users with no interactions.\n",
      "RP3betaRecommender: URM Detected 247 ( 1.1%) items with no interactions.\n",
      "RP3betaRecommender: Similarity column 22347 (100.0%), 4541.47 column/sec. Elapsed time 4.92 sec\n",
      "P3alphaRecommender: URM Detected 627 ( 4.8%) users with no interactions.\n",
      "P3alphaRecommender: URM Detected 247 ( 1.1%) items with no interactions.\n",
      "P3alphaRecommender: Similarity column 22347 (100.0%), 4585.41 column/sec. Elapsed time 4.87 sec\n",
      "SLIMElasticNetRecommender: URM Detected 627 ( 4.8%) users with no interactions.\n",
      "SLIMElasticNetRecommender: URM Detected 247 ( 1.1%) items with no interactions.\n",
      "SLIMElasticNetRecommender: Loading model from file '/kaggle/working/Recsys_Challenge_2023/models/slim_elastic_train_validation.zip'\n",
      "SLIMElasticNetRecommender: Loading complete\n",
      "IALSRecommender: URM Detected 627 ( 4.8%) users with no interactions.\n",
      "IALSRecommender: URM Detected 247 ( 1.1%) items with no interactions.\n",
      "IALSRecommender: Loading model from file '/kaggle/working/ials_train_validation.zip'\n",
      "IALSRecommender: Loading complete\n",
      "ItemKNNSimilarityHybridRecommender: URM Detected 627 ( 4.8%) users with no interactions.\n",
      "ItemKNNSimilarityHybridRecommender: URM Detected 247 ( 1.1%) items with no interactions.\n"
     ]
    }
   ],
   "source": [
    "recommender_item = ItemKNNCFRecommender(URM_train)\n",
    "recommender_item.fit(**params_item_knn)\n",
    "\n",
    "recommender_rp3 = RP3betaRecommender(URM_train)\n",
    "recommender_rp3.fit(**params_rp3)\n",
    "\n",
    "recommender_p3a = P3alphaRecommender(URM_train)\n",
    "recommender_p3a.fit(**params_p3alpha)\n",
    "\n",
    "recommender_slim = SLIMElasticNetRecommender(URM_train)\n",
    "recommender_slim.load_model('/kaggle/working/Recsys_Challenge_2023/models/', 'slim_elastic_train_validation.zip')\n",
    "\n",
    "recommender_ials = IALSRecommender(URM_train)\n",
    "recommender_ials.load_model('/kaggle/working/', 'ials_train_validation.zip')\n",
    "\n",
    "hybrid_similarity = ItemKNNSimilarityHybridRecommender(URM_train, recommender_item.W_sparse, recommender_rp3.W_sparse)\n",
    "hybrid_similarity.fit(**params_merging)"
   ]
  },
  {
   "cell_type": "code",
   "execution_count": 19,
   "id": "6611a004",
   "metadata": {
    "execution": {
     "iopub.execute_input": "2023-12-03T16:54:06.788149Z",
     "iopub.status.busy": "2023-12-03T16:54:06.787445Z",
     "iopub.status.idle": "2023-12-03T16:54:06.797103Z",
     "shell.execute_reply": "2023-12-03T16:54:06.795864Z"
    },
    "papermill": {
     "duration": 0.028106,
     "end_time": "2023-12-03T16:54:06.799297",
     "exception": false,
     "start_time": "2023-12-03T16:54:06.771191",
     "status": "completed"
    },
    "tags": []
   },
   "outputs": [],
   "source": [
    "class PipelineRecommender(BaseRecommender):\n",
    "    def __init__(self, URM_train, recommenders, cutoffs):\n",
    "        super(PipelineRecommender, self).__init__(URM_train)\n",
    "        self.recommenders = recommenders\n",
    "        self.cutoffs = cutoffs\n",
    "        \n",
    "    def recommend(self, user_ids, cutoff=10, remove_seen_flag=True, remove_top_pop_flag=False, return_scores=True, remove_custom_items_flag=True):\n",
    "        \n",
    "        recommendations = []\n",
    "        scores = np.empty(shape=(0, self.URM_train.shape[1]))\n",
    "        item_ids = np.arange(self.URM_train.shape[1])\n",
    "        \n",
    "        for user_id in user_ids:\n",
    "            current_recommendations = item_ids.copy()\n",
    "            for recommender, cut in zip(self.recommenders, self.cutoffs):\n",
    "                current_recommendations = recommender.recommend(\n",
    "                    user_id,\n",
    "                    cutoff=cut,\n",
    "                    items_to_compute=current_recommendations,\n",
    "                    remove_seen_flag=remove_seen_flag, \n",
    "                    remove_top_pop_flag=remove_top_pop_flag, \n",
    "                    return_scores=False, \n",
    "                    remove_custom_items_flag=remove_custom_items_flag\n",
    "                )\n",
    "                \n",
    "            recommendations.append(current_recommendations[:cutoff])\n",
    "            items_score = self.recommenders[-1]._compute_item_score([user_id], current_recommendations[:cutoff])\n",
    "            scores = np.concatenate([scores, items_score])\n",
    "            \n",
    "        if return_scores:\n",
    "            return np.array(recommendations), scores\n",
    "        return np.array(recommendations)"
   ]
  },
  {
   "cell_type": "code",
   "execution_count": 20,
   "id": "2fec556a",
   "metadata": {
    "execution": {
     "iopub.execute_input": "2023-12-03T16:54:06.833127Z",
     "iopub.status.busy": "2023-12-03T16:54:06.832733Z",
     "iopub.status.idle": "2023-12-03T16:54:46.100493Z",
     "shell.execute_reply": "2023-12-03T16:54:46.098996Z"
    },
    "papermill": {
     "duration": 39.287418,
     "end_time": "2023-12-03T16:54:46.102904",
     "exception": false,
     "start_time": "2023-12-03T16:54:06.815486",
     "status": "completed"
    },
    "tags": []
   },
   "outputs": [
    {
     "name": "stdout",
     "output_type": "stream",
     "text": [
      "EvaluatorHoldout: Ignoring 2568 (19.7%) Users that have less than 1 test interactions\n",
      "Merging Models\n",
      "EvaluatorHoldout: Processed 10456 (100.0%) in 5.27 sec. Users per second: 1986\n"
     ]
    },
    {
     "data": {
      "text/html": [
       "<div>\n",
       "<style scoped>\n",
       "    .dataframe tbody tr th:only-of-type {\n",
       "        vertical-align: middle;\n",
       "    }\n",
       "\n",
       "    .dataframe tbody tr th {\n",
       "        vertical-align: top;\n",
       "    }\n",
       "\n",
       "    .dataframe thead th {\n",
       "        text-align: right;\n",
       "    }\n",
       "</style>\n",
       "<table border=\"1\" class=\"dataframe\">\n",
       "  <thead>\n",
       "    <tr style=\"text-align: right;\">\n",
       "      <th></th>\n",
       "      <th>PRECISION</th>\n",
       "      <th>PRECISION_RECALL_MIN_DEN</th>\n",
       "      <th>RECALL</th>\n",
       "      <th>MAP</th>\n",
       "      <th>MAP_MIN_DEN</th>\n",
       "      <th>MRR</th>\n",
       "      <th>NDCG</th>\n",
       "      <th>F1</th>\n",
       "      <th>HIT_RATE</th>\n",
       "      <th>ARHR_ALL_HITS</th>\n",
       "      <th>...</th>\n",
       "      <th>COVERAGE_USER</th>\n",
       "      <th>COVERAGE_USER_HIT</th>\n",
       "      <th>USERS_IN_GT</th>\n",
       "      <th>DIVERSITY_GINI</th>\n",
       "      <th>SHANNON_ENTROPY</th>\n",
       "      <th>RATIO_DIVERSITY_HERFINDAHL</th>\n",
       "      <th>RATIO_DIVERSITY_GINI</th>\n",
       "      <th>RATIO_SHANNON_ENTROPY</th>\n",
       "      <th>RATIO_AVERAGE_POPULARITY</th>\n",
       "      <th>RATIO_NOVELTY</th>\n",
       "    </tr>\n",
       "    <tr>\n",
       "      <th>cutoff</th>\n",
       "      <th></th>\n",
       "      <th></th>\n",
       "      <th></th>\n",
       "      <th></th>\n",
       "      <th></th>\n",
       "      <th></th>\n",
       "      <th></th>\n",
       "      <th></th>\n",
       "      <th></th>\n",
       "      <th></th>\n",
       "      <th></th>\n",
       "      <th></th>\n",
       "      <th></th>\n",
       "      <th></th>\n",
       "      <th></th>\n",
       "      <th></th>\n",
       "      <th></th>\n",
       "      <th></th>\n",
       "      <th></th>\n",
       "      <th></th>\n",
       "      <th></th>\n",
       "    </tr>\n",
       "  </thead>\n",
       "  <tbody>\n",
       "    <tr>\n",
       "      <th>10</th>\n",
       "      <td>0.097102</td>\n",
       "      <td>0.165756</td>\n",
       "      <td>0.139351</td>\n",
       "      <td>0.050173</td>\n",
       "      <td>0.085482</td>\n",
       "      <td>0.27428</td>\n",
       "      <td>0.152762</td>\n",
       "      <td>0.114452</td>\n",
       "      <td>0.520658</td>\n",
       "      <td>0.365828</td>\n",
       "      <td>...</td>\n",
       "      <td>0.802826</td>\n",
       "      <td>0.417998</td>\n",
       "      <td>0.802826</td>\n",
       "      <td>0.087463</td>\n",
       "      <td>10.729146</td>\n",
       "      <td>0.998493</td>\n",
       "      <td>0.252365</td>\n",
       "      <td>0.826532</td>\n",
       "      <td>1.477653</td>\n",
       "      <td>0.310478</td>\n",
       "    </tr>\n",
       "  </tbody>\n",
       "</table>\n",
       "<p>1 rows × 27 columns</p>\n",
       "</div>"
      ],
      "text/plain": [
       "       PRECISION PRECISION_RECALL_MIN_DEN    RECALL       MAP MAP_MIN_DEN  \\\n",
       "cutoff                                                                      \n",
       "10      0.097102                 0.165756  0.139351  0.050173    0.085482   \n",
       "\n",
       "            MRR      NDCG        F1  HIT_RATE ARHR_ALL_HITS  ...  \\\n",
       "cutoff                                                       ...   \n",
       "10      0.27428  0.152762  0.114452  0.520658      0.365828  ...   \n",
       "\n",
       "       COVERAGE_USER COVERAGE_USER_HIT USERS_IN_GT DIVERSITY_GINI  \\\n",
       "cutoff                                                              \n",
       "10          0.802826          0.417998    0.802826       0.087463   \n",
       "\n",
       "       SHANNON_ENTROPY RATIO_DIVERSITY_HERFINDAHL RATIO_DIVERSITY_GINI  \\\n",
       "cutoff                                                                   \n",
       "10           10.729146                   0.998493             0.252365   \n",
       "\n",
       "       RATIO_SHANNON_ENTROPY RATIO_AVERAGE_POPULARITY RATIO_NOVELTY  \n",
       "cutoff                                                               \n",
       "10                  0.826532                 1.477653      0.310478  \n",
       "\n",
       "[1 rows x 27 columns]"
      ]
     },
     "metadata": {},
     "output_type": "display_data"
    },
    {
     "name": "stdout",
     "output_type": "stream",
     "text": [
      "Item KNN\n",
      "EvaluatorHoldout: Processed 10456 (100.0%) in 5.13 sec. Users per second: 2039\n"
     ]
    },
    {
     "data": {
      "text/html": [
       "<div>\n",
       "<style scoped>\n",
       "    .dataframe tbody tr th:only-of-type {\n",
       "        vertical-align: middle;\n",
       "    }\n",
       "\n",
       "    .dataframe tbody tr th {\n",
       "        vertical-align: top;\n",
       "    }\n",
       "\n",
       "    .dataframe thead th {\n",
       "        text-align: right;\n",
       "    }\n",
       "</style>\n",
       "<table border=\"1\" class=\"dataframe\">\n",
       "  <thead>\n",
       "    <tr style=\"text-align: right;\">\n",
       "      <th></th>\n",
       "      <th>PRECISION</th>\n",
       "      <th>PRECISION_RECALL_MIN_DEN</th>\n",
       "      <th>RECALL</th>\n",
       "      <th>MAP</th>\n",
       "      <th>MAP_MIN_DEN</th>\n",
       "      <th>MRR</th>\n",
       "      <th>NDCG</th>\n",
       "      <th>F1</th>\n",
       "      <th>HIT_RATE</th>\n",
       "      <th>ARHR_ALL_HITS</th>\n",
       "      <th>...</th>\n",
       "      <th>COVERAGE_USER</th>\n",
       "      <th>COVERAGE_USER_HIT</th>\n",
       "      <th>USERS_IN_GT</th>\n",
       "      <th>DIVERSITY_GINI</th>\n",
       "      <th>SHANNON_ENTROPY</th>\n",
       "      <th>RATIO_DIVERSITY_HERFINDAHL</th>\n",
       "      <th>RATIO_DIVERSITY_GINI</th>\n",
       "      <th>RATIO_SHANNON_ENTROPY</th>\n",
       "      <th>RATIO_AVERAGE_POPULARITY</th>\n",
       "      <th>RATIO_NOVELTY</th>\n",
       "    </tr>\n",
       "    <tr>\n",
       "      <th>cutoff</th>\n",
       "      <th></th>\n",
       "      <th></th>\n",
       "      <th></th>\n",
       "      <th></th>\n",
       "      <th></th>\n",
       "      <th></th>\n",
       "      <th></th>\n",
       "      <th></th>\n",
       "      <th></th>\n",
       "      <th></th>\n",
       "      <th></th>\n",
       "      <th></th>\n",
       "      <th></th>\n",
       "      <th></th>\n",
       "      <th></th>\n",
       "      <th></th>\n",
       "      <th></th>\n",
       "      <th></th>\n",
       "      <th></th>\n",
       "      <th></th>\n",
       "      <th></th>\n",
       "    </tr>\n",
       "  </thead>\n",
       "  <tbody>\n",
       "    <tr>\n",
       "      <th>10</th>\n",
       "      <td>0.09451</td>\n",
       "      <td>0.161146</td>\n",
       "      <td>0.135378</td>\n",
       "      <td>0.048719</td>\n",
       "      <td>0.082976</td>\n",
       "      <td>0.267977</td>\n",
       "      <td>0.148683</td>\n",
       "      <td>0.111312</td>\n",
       "      <td>0.511572</td>\n",
       "      <td>0.356662</td>\n",
       "      <td>...</td>\n",
       "      <td>0.802826</td>\n",
       "      <td>0.410703</td>\n",
       "      <td>0.802826</td>\n",
       "      <td>0.066309</td>\n",
       "      <td>10.283111</td>\n",
       "      <td>0.997789</td>\n",
       "      <td>0.191329</td>\n",
       "      <td>0.792171</td>\n",
       "      <td>1.734564</td>\n",
       "      <td>0.30426</td>\n",
       "    </tr>\n",
       "  </tbody>\n",
       "</table>\n",
       "<p>1 rows × 27 columns</p>\n",
       "</div>"
      ],
      "text/plain": [
       "       PRECISION PRECISION_RECALL_MIN_DEN    RECALL       MAP MAP_MIN_DEN  \\\n",
       "cutoff                                                                      \n",
       "10       0.09451                 0.161146  0.135378  0.048719    0.082976   \n",
       "\n",
       "             MRR      NDCG        F1  HIT_RATE ARHR_ALL_HITS  ...  \\\n",
       "cutoff                                                        ...   \n",
       "10      0.267977  0.148683  0.111312  0.511572      0.356662  ...   \n",
       "\n",
       "       COVERAGE_USER COVERAGE_USER_HIT USERS_IN_GT DIVERSITY_GINI  \\\n",
       "cutoff                                                              \n",
       "10          0.802826          0.410703    0.802826       0.066309   \n",
       "\n",
       "       SHANNON_ENTROPY RATIO_DIVERSITY_HERFINDAHL RATIO_DIVERSITY_GINI  \\\n",
       "cutoff                                                                   \n",
       "10           10.283111                   0.997789             0.191329   \n",
       "\n",
       "       RATIO_SHANNON_ENTROPY RATIO_AVERAGE_POPULARITY RATIO_NOVELTY  \n",
       "cutoff                                                               \n",
       "10                  0.792171                 1.734564       0.30426  \n",
       "\n",
       "[1 rows x 27 columns]"
      ]
     },
     "metadata": {},
     "output_type": "display_data"
    },
    {
     "name": "stdout",
     "output_type": "stream",
     "text": [
      "RP3 beta\n",
      "EvaluatorHoldout: Processed 10456 (100.0%) in 5.26 sec. Users per second: 1986\n"
     ]
    },
    {
     "data": {
      "text/html": [
       "<div>\n",
       "<style scoped>\n",
       "    .dataframe tbody tr th:only-of-type {\n",
       "        vertical-align: middle;\n",
       "    }\n",
       "\n",
       "    .dataframe tbody tr th {\n",
       "        vertical-align: top;\n",
       "    }\n",
       "\n",
       "    .dataframe thead th {\n",
       "        text-align: right;\n",
       "    }\n",
       "</style>\n",
       "<table border=\"1\" class=\"dataframe\">\n",
       "  <thead>\n",
       "    <tr style=\"text-align: right;\">\n",
       "      <th></th>\n",
       "      <th>PRECISION</th>\n",
       "      <th>PRECISION_RECALL_MIN_DEN</th>\n",
       "      <th>RECALL</th>\n",
       "      <th>MAP</th>\n",
       "      <th>MAP_MIN_DEN</th>\n",
       "      <th>MRR</th>\n",
       "      <th>NDCG</th>\n",
       "      <th>F1</th>\n",
       "      <th>HIT_RATE</th>\n",
       "      <th>ARHR_ALL_HITS</th>\n",
       "      <th>...</th>\n",
       "      <th>COVERAGE_USER</th>\n",
       "      <th>COVERAGE_USER_HIT</th>\n",
       "      <th>USERS_IN_GT</th>\n",
       "      <th>DIVERSITY_GINI</th>\n",
       "      <th>SHANNON_ENTROPY</th>\n",
       "      <th>RATIO_DIVERSITY_HERFINDAHL</th>\n",
       "      <th>RATIO_DIVERSITY_GINI</th>\n",
       "      <th>RATIO_SHANNON_ENTROPY</th>\n",
       "      <th>RATIO_AVERAGE_POPULARITY</th>\n",
       "      <th>RATIO_NOVELTY</th>\n",
       "    </tr>\n",
       "    <tr>\n",
       "      <th>cutoff</th>\n",
       "      <th></th>\n",
       "      <th></th>\n",
       "      <th></th>\n",
       "      <th></th>\n",
       "      <th></th>\n",
       "      <th></th>\n",
       "      <th></th>\n",
       "      <th></th>\n",
       "      <th></th>\n",
       "      <th></th>\n",
       "      <th></th>\n",
       "      <th></th>\n",
       "      <th></th>\n",
       "      <th></th>\n",
       "      <th></th>\n",
       "      <th></th>\n",
       "      <th></th>\n",
       "      <th></th>\n",
       "      <th></th>\n",
       "      <th></th>\n",
       "      <th></th>\n",
       "    </tr>\n",
       "  </thead>\n",
       "  <tbody>\n",
       "    <tr>\n",
       "      <th>10</th>\n",
       "      <td>0.095142</td>\n",
       "      <td>0.162942</td>\n",
       "      <td>0.137028</td>\n",
       "      <td>0.049128</td>\n",
       "      <td>0.084213</td>\n",
       "      <td>0.272898</td>\n",
       "      <td>0.150737</td>\n",
       "      <td>0.112306</td>\n",
       "      <td>0.516928</td>\n",
       "      <td>0.361499</td>\n",
       "      <td>...</td>\n",
       "      <td>0.802826</td>\n",
       "      <td>0.415003</td>\n",
       "      <td>0.802826</td>\n",
       "      <td>0.101166</td>\n",
       "      <td>10.971423</td>\n",
       "      <td>0.998795</td>\n",
       "      <td>0.291905</td>\n",
       "      <td>0.845196</td>\n",
       "      <td>1.298409</td>\n",
       "      <td>0.317386</td>\n",
       "    </tr>\n",
       "  </tbody>\n",
       "</table>\n",
       "<p>1 rows × 27 columns</p>\n",
       "</div>"
      ],
      "text/plain": [
       "       PRECISION PRECISION_RECALL_MIN_DEN    RECALL       MAP MAP_MIN_DEN  \\\n",
       "cutoff                                                                      \n",
       "10      0.095142                 0.162942  0.137028  0.049128    0.084213   \n",
       "\n",
       "             MRR      NDCG        F1  HIT_RATE ARHR_ALL_HITS  ...  \\\n",
       "cutoff                                                        ...   \n",
       "10      0.272898  0.150737  0.112306  0.516928      0.361499  ...   \n",
       "\n",
       "       COVERAGE_USER COVERAGE_USER_HIT USERS_IN_GT DIVERSITY_GINI  \\\n",
       "cutoff                                                              \n",
       "10          0.802826          0.415003    0.802826       0.101166   \n",
       "\n",
       "       SHANNON_ENTROPY RATIO_DIVERSITY_HERFINDAHL RATIO_DIVERSITY_GINI  \\\n",
       "cutoff                                                                   \n",
       "10           10.971423                   0.998795             0.291905   \n",
       "\n",
       "       RATIO_SHANNON_ENTROPY RATIO_AVERAGE_POPULARITY RATIO_NOVELTY  \n",
       "cutoff                                                               \n",
       "10                  0.845196                 1.298409      0.317386  \n",
       "\n",
       "[1 rows x 27 columns]"
      ]
     },
     "metadata": {},
     "output_type": "display_data"
    },
    {
     "name": "stdout",
     "output_type": "stream",
     "text": [
      "P3 alpha\n",
      "EvaluatorHoldout: Processed 10456 (100.0%) in 5.09 sec. Users per second: 2056\n"
     ]
    },
    {
     "data": {
      "text/html": [
       "<div>\n",
       "<style scoped>\n",
       "    .dataframe tbody tr th:only-of-type {\n",
       "        vertical-align: middle;\n",
       "    }\n",
       "\n",
       "    .dataframe tbody tr th {\n",
       "        vertical-align: top;\n",
       "    }\n",
       "\n",
       "    .dataframe thead th {\n",
       "        text-align: right;\n",
       "    }\n",
       "</style>\n",
       "<table border=\"1\" class=\"dataframe\">\n",
       "  <thead>\n",
       "    <tr style=\"text-align: right;\">\n",
       "      <th></th>\n",
       "      <th>PRECISION</th>\n",
       "      <th>PRECISION_RECALL_MIN_DEN</th>\n",
       "      <th>RECALL</th>\n",
       "      <th>MAP</th>\n",
       "      <th>MAP_MIN_DEN</th>\n",
       "      <th>MRR</th>\n",
       "      <th>NDCG</th>\n",
       "      <th>F1</th>\n",
       "      <th>HIT_RATE</th>\n",
       "      <th>ARHR_ALL_HITS</th>\n",
       "      <th>...</th>\n",
       "      <th>COVERAGE_USER</th>\n",
       "      <th>COVERAGE_USER_HIT</th>\n",
       "      <th>USERS_IN_GT</th>\n",
       "      <th>DIVERSITY_GINI</th>\n",
       "      <th>SHANNON_ENTROPY</th>\n",
       "      <th>RATIO_DIVERSITY_HERFINDAHL</th>\n",
       "      <th>RATIO_DIVERSITY_GINI</th>\n",
       "      <th>RATIO_SHANNON_ENTROPY</th>\n",
       "      <th>RATIO_AVERAGE_POPULARITY</th>\n",
       "      <th>RATIO_NOVELTY</th>\n",
       "    </tr>\n",
       "    <tr>\n",
       "      <th>cutoff</th>\n",
       "      <th></th>\n",
       "      <th></th>\n",
       "      <th></th>\n",
       "      <th></th>\n",
       "      <th></th>\n",
       "      <th></th>\n",
       "      <th></th>\n",
       "      <th></th>\n",
       "      <th></th>\n",
       "      <th></th>\n",
       "      <th></th>\n",
       "      <th></th>\n",
       "      <th></th>\n",
       "      <th></th>\n",
       "      <th></th>\n",
       "      <th></th>\n",
       "      <th></th>\n",
       "      <th></th>\n",
       "      <th></th>\n",
       "      <th></th>\n",
       "      <th></th>\n",
       "    </tr>\n",
       "  </thead>\n",
       "  <tbody>\n",
       "    <tr>\n",
       "      <th>10</th>\n",
       "      <td>0.092358</td>\n",
       "      <td>0.15618</td>\n",
       "      <td>0.130929</td>\n",
       "      <td>0.047745</td>\n",
       "      <td>0.081353</td>\n",
       "      <td>0.267656</td>\n",
       "      <td>0.146022</td>\n",
       "      <td>0.108312</td>\n",
       "      <td>0.507269</td>\n",
       "      <td>0.352674</td>\n",
       "      <td>...</td>\n",
       "      <td>0.802826</td>\n",
       "      <td>0.407248</td>\n",
       "      <td>0.802826</td>\n",
       "      <td>0.069984</td>\n",
       "      <td>10.530815</td>\n",
       "      <td>0.998437</td>\n",
       "      <td>0.201933</td>\n",
       "      <td>0.811253</td>\n",
       "      <td>1.356167</td>\n",
       "      <td>0.311674</td>\n",
       "    </tr>\n",
       "  </tbody>\n",
       "</table>\n",
       "<p>1 rows × 27 columns</p>\n",
       "</div>"
      ],
      "text/plain": [
       "       PRECISION PRECISION_RECALL_MIN_DEN    RECALL       MAP MAP_MIN_DEN  \\\n",
       "cutoff                                                                      \n",
       "10      0.092358                  0.15618  0.130929  0.047745    0.081353   \n",
       "\n",
       "             MRR      NDCG        F1  HIT_RATE ARHR_ALL_HITS  ...  \\\n",
       "cutoff                                                        ...   \n",
       "10      0.267656  0.146022  0.108312  0.507269      0.352674  ...   \n",
       "\n",
       "       COVERAGE_USER COVERAGE_USER_HIT USERS_IN_GT DIVERSITY_GINI  \\\n",
       "cutoff                                                              \n",
       "10          0.802826          0.407248    0.802826       0.069984   \n",
       "\n",
       "       SHANNON_ENTROPY RATIO_DIVERSITY_HERFINDAHL RATIO_DIVERSITY_GINI  \\\n",
       "cutoff                                                                   \n",
       "10           10.530815                   0.998437             0.201933   \n",
       "\n",
       "       RATIO_SHANNON_ENTROPY RATIO_AVERAGE_POPULARITY RATIO_NOVELTY  \n",
       "cutoff                                                               \n",
       "10                  0.811253                 1.356167      0.311674  \n",
       "\n",
       "[1 rows x 27 columns]"
      ]
     },
     "metadata": {},
     "output_type": "display_data"
    },
    {
     "name": "stdout",
     "output_type": "stream",
     "text": [
      "SLIM Elastic\n",
      "EvaluatorHoldout: Processed 10456 (100.0%) in 8.50 sec. Users per second: 1230\n"
     ]
    },
    {
     "data": {
      "text/html": [
       "<div>\n",
       "<style scoped>\n",
       "    .dataframe tbody tr th:only-of-type {\n",
       "        vertical-align: middle;\n",
       "    }\n",
       "\n",
       "    .dataframe tbody tr th {\n",
       "        vertical-align: top;\n",
       "    }\n",
       "\n",
       "    .dataframe thead th {\n",
       "        text-align: right;\n",
       "    }\n",
       "</style>\n",
       "<table border=\"1\" class=\"dataframe\">\n",
       "  <thead>\n",
       "    <tr style=\"text-align: right;\">\n",
       "      <th></th>\n",
       "      <th>PRECISION</th>\n",
       "      <th>PRECISION_RECALL_MIN_DEN</th>\n",
       "      <th>RECALL</th>\n",
       "      <th>MAP</th>\n",
       "      <th>MAP_MIN_DEN</th>\n",
       "      <th>MRR</th>\n",
       "      <th>NDCG</th>\n",
       "      <th>F1</th>\n",
       "      <th>HIT_RATE</th>\n",
       "      <th>ARHR_ALL_HITS</th>\n",
       "      <th>...</th>\n",
       "      <th>COVERAGE_USER</th>\n",
       "      <th>COVERAGE_USER_HIT</th>\n",
       "      <th>USERS_IN_GT</th>\n",
       "      <th>DIVERSITY_GINI</th>\n",
       "      <th>SHANNON_ENTROPY</th>\n",
       "      <th>RATIO_DIVERSITY_HERFINDAHL</th>\n",
       "      <th>RATIO_DIVERSITY_GINI</th>\n",
       "      <th>RATIO_SHANNON_ENTROPY</th>\n",
       "      <th>RATIO_AVERAGE_POPULARITY</th>\n",
       "      <th>RATIO_NOVELTY</th>\n",
       "    </tr>\n",
       "    <tr>\n",
       "      <th>cutoff</th>\n",
       "      <th></th>\n",
       "      <th></th>\n",
       "      <th></th>\n",
       "      <th></th>\n",
       "      <th></th>\n",
       "      <th></th>\n",
       "      <th></th>\n",
       "      <th></th>\n",
       "      <th></th>\n",
       "      <th></th>\n",
       "      <th></th>\n",
       "      <th></th>\n",
       "      <th></th>\n",
       "      <th></th>\n",
       "      <th></th>\n",
       "      <th></th>\n",
       "      <th></th>\n",
       "      <th></th>\n",
       "      <th></th>\n",
       "      <th></th>\n",
       "      <th></th>\n",
       "    </tr>\n",
       "  </thead>\n",
       "  <tbody>\n",
       "    <tr>\n",
       "      <th>10</th>\n",
       "      <td>0.097379</td>\n",
       "      <td>0.16502</td>\n",
       "      <td>0.138508</td>\n",
       "      <td>0.051089</td>\n",
       "      <td>0.086077</td>\n",
       "      <td>0.282425</td>\n",
       "      <td>0.154158</td>\n",
       "      <td>0.114358</td>\n",
       "      <td>0.524962</td>\n",
       "      <td>0.375002</td>\n",
       "      <td>...</td>\n",
       "      <td>0.802826</td>\n",
       "      <td>0.421453</td>\n",
       "      <td>0.802826</td>\n",
       "      <td>0.065098</td>\n",
       "      <td>10.631702</td>\n",
       "      <td>0.9989</td>\n",
       "      <td>0.187832</td>\n",
       "      <td>0.819025</td>\n",
       "      <td>1.417992</td>\n",
       "      <td>0.303398</td>\n",
       "    </tr>\n",
       "  </tbody>\n",
       "</table>\n",
       "<p>1 rows × 27 columns</p>\n",
       "</div>"
      ],
      "text/plain": [
       "       PRECISION PRECISION_RECALL_MIN_DEN    RECALL       MAP MAP_MIN_DEN  \\\n",
       "cutoff                                                                      \n",
       "10      0.097379                  0.16502  0.138508  0.051089    0.086077   \n",
       "\n",
       "             MRR      NDCG        F1  HIT_RATE ARHR_ALL_HITS  ...  \\\n",
       "cutoff                                                        ...   \n",
       "10      0.282425  0.154158  0.114358  0.524962      0.375002  ...   \n",
       "\n",
       "       COVERAGE_USER COVERAGE_USER_HIT USERS_IN_GT DIVERSITY_GINI  \\\n",
       "cutoff                                                              \n",
       "10          0.802826          0.421453    0.802826       0.065098   \n",
       "\n",
       "       SHANNON_ENTROPY RATIO_DIVERSITY_HERFINDAHL RATIO_DIVERSITY_GINI  \\\n",
       "cutoff                                                                   \n",
       "10           10.631702                     0.9989             0.187832   \n",
       "\n",
       "       RATIO_SHANNON_ENTROPY RATIO_AVERAGE_POPULARITY RATIO_NOVELTY  \n",
       "cutoff                                                               \n",
       "10                  0.819025                 1.417992      0.303398  \n",
       "\n",
       "[1 rows x 27 columns]"
      ]
     },
     "metadata": {},
     "output_type": "display_data"
    },
    {
     "name": "stdout",
     "output_type": "stream",
     "text": [
      "IALS\n",
      "EvaluatorHoldout: Processed 10456 (100.0%) in 9.86 sec. Users per second: 1060\n"
     ]
    },
    {
     "data": {
      "text/html": [
       "<div>\n",
       "<style scoped>\n",
       "    .dataframe tbody tr th:only-of-type {\n",
       "        vertical-align: middle;\n",
       "    }\n",
       "\n",
       "    .dataframe tbody tr th {\n",
       "        vertical-align: top;\n",
       "    }\n",
       "\n",
       "    .dataframe thead th {\n",
       "        text-align: right;\n",
       "    }\n",
       "</style>\n",
       "<table border=\"1\" class=\"dataframe\">\n",
       "  <thead>\n",
       "    <tr style=\"text-align: right;\">\n",
       "      <th></th>\n",
       "      <th>PRECISION</th>\n",
       "      <th>PRECISION_RECALL_MIN_DEN</th>\n",
       "      <th>RECALL</th>\n",
       "      <th>MAP</th>\n",
       "      <th>MAP_MIN_DEN</th>\n",
       "      <th>MRR</th>\n",
       "      <th>NDCG</th>\n",
       "      <th>F1</th>\n",
       "      <th>HIT_RATE</th>\n",
       "      <th>ARHR_ALL_HITS</th>\n",
       "      <th>...</th>\n",
       "      <th>COVERAGE_USER</th>\n",
       "      <th>COVERAGE_USER_HIT</th>\n",
       "      <th>USERS_IN_GT</th>\n",
       "      <th>DIVERSITY_GINI</th>\n",
       "      <th>SHANNON_ENTROPY</th>\n",
       "      <th>RATIO_DIVERSITY_HERFINDAHL</th>\n",
       "      <th>RATIO_DIVERSITY_GINI</th>\n",
       "      <th>RATIO_SHANNON_ENTROPY</th>\n",
       "      <th>RATIO_AVERAGE_POPULARITY</th>\n",
       "      <th>RATIO_NOVELTY</th>\n",
       "    </tr>\n",
       "    <tr>\n",
       "      <th>cutoff</th>\n",
       "      <th></th>\n",
       "      <th></th>\n",
       "      <th></th>\n",
       "      <th></th>\n",
       "      <th></th>\n",
       "      <th></th>\n",
       "      <th></th>\n",
       "      <th></th>\n",
       "      <th></th>\n",
       "      <th></th>\n",
       "      <th></th>\n",
       "      <th></th>\n",
       "      <th></th>\n",
       "      <th></th>\n",
       "      <th></th>\n",
       "      <th></th>\n",
       "      <th></th>\n",
       "      <th></th>\n",
       "      <th></th>\n",
       "      <th></th>\n",
       "      <th></th>\n",
       "    </tr>\n",
       "  </thead>\n",
       "  <tbody>\n",
       "    <tr>\n",
       "      <th>10</th>\n",
       "      <td>0.08224</td>\n",
       "      <td>0.144123</td>\n",
       "      <td>0.122645</td>\n",
       "      <td>0.041501</td>\n",
       "      <td>0.071584</td>\n",
       "      <td>0.246255</td>\n",
       "      <td>0.131701</td>\n",
       "      <td>0.098458</td>\n",
       "      <td>0.479055</td>\n",
       "      <td>0.316769</td>\n",
       "      <td>...</td>\n",
       "      <td>0.802826</td>\n",
       "      <td>0.384598</td>\n",
       "      <td>0.802826</td>\n",
       "      <td>0.029074</td>\n",
       "      <td>9.74689</td>\n",
       "      <td>0.998532</td>\n",
       "      <td>0.08389</td>\n",
       "      <td>0.750862</td>\n",
       "      <td>1.599865</td>\n",
       "      <td>0.289534</td>\n",
       "    </tr>\n",
       "  </tbody>\n",
       "</table>\n",
       "<p>1 rows × 27 columns</p>\n",
       "</div>"
      ],
      "text/plain": [
       "       PRECISION PRECISION_RECALL_MIN_DEN    RECALL       MAP MAP_MIN_DEN  \\\n",
       "cutoff                                                                      \n",
       "10       0.08224                 0.144123  0.122645  0.041501    0.071584   \n",
       "\n",
       "             MRR      NDCG        F1  HIT_RATE ARHR_ALL_HITS  ...  \\\n",
       "cutoff                                                        ...   \n",
       "10      0.246255  0.131701  0.098458  0.479055      0.316769  ...   \n",
       "\n",
       "       COVERAGE_USER COVERAGE_USER_HIT USERS_IN_GT DIVERSITY_GINI  \\\n",
       "cutoff                                                              \n",
       "10          0.802826          0.384598    0.802826       0.029074   \n",
       "\n",
       "       SHANNON_ENTROPY RATIO_DIVERSITY_HERFINDAHL RATIO_DIVERSITY_GINI  \\\n",
       "cutoff                                                                   \n",
       "10             9.74689                   0.998532              0.08389   \n",
       "\n",
       "       RATIO_SHANNON_ENTROPY RATIO_AVERAGE_POPULARITY RATIO_NOVELTY  \n",
       "cutoff                                                               \n",
       "10                  0.750862                 1.599865      0.289534  \n",
       "\n",
       "[1 rows x 27 columns]"
      ]
     },
     "metadata": {},
     "output_type": "display_data"
    }
   ],
   "source": [
    "evaluator = EvaluatorHoldout(URM_test_complete, cutoff_list=[10])\n",
    "\n",
    "print('Merging Models')\n",
    "result_df, _ = evaluator.evaluateRecommender(hybrid_similarity)\n",
    "display(result_df)\n",
    "print('Item KNN')\n",
    "result_df, _ = evaluator.evaluateRecommender(recommender_item)\n",
    "display(result_df)\n",
    "print('RP3 beta')\n",
    "result_df, _ = evaluator.evaluateRecommender(recommender_rp3)\n",
    "display(result_df)\n",
    "print('P3 alpha')\n",
    "result_df, _ = evaluator.evaluateRecommender(recommender_p3a)\n",
    "display(result_df)\n",
    "print('SLIM Elastic')\n",
    "result_df, _ = evaluator.evaluateRecommender(recommender_slim)\n",
    "display(result_df)\n",
    "print('IALS')\n",
    "result_df, _ = evaluator.evaluateRecommender(recommender_ials)\n",
    "display(result_df)"
   ]
  },
  {
   "cell_type": "code",
   "execution_count": 21,
   "id": "9ee3926d",
   "metadata": {
    "execution": {
     "iopub.execute_input": "2023-12-03T16:54:46.139347Z",
     "iopub.status.busy": "2023-12-03T16:54:46.138987Z",
     "iopub.status.idle": "2023-12-03T16:54:46.148315Z",
     "shell.execute_reply": "2023-12-03T16:54:46.147065Z"
    },
    "papermill": {
     "duration": 0.030856,
     "end_time": "2023-12-03T16:54:46.150968",
     "exception": false,
     "start_time": "2023-12-03T16:54:46.120112",
     "status": "completed"
    },
    "tags": []
   },
   "outputs": [],
   "source": [
    "class PipelineRecommender(BaseRecommender):\n",
    "    def __init__(self, URM_train, recommenders: list[BaseRecommender], cutoffs):\n",
    "        super(PipelineRecommender, self).__init__(URM_train)\n",
    "        self.recommenders = recommenders\n",
    "        self.cutoffs = cutoffs\n",
    "        \n",
    "    def recommend(self, user_ids, cutoff=10, remove_seen_flag=True, remove_top_pop_flag=False, return_scores=True, remove_custom_items_flag=True):\n",
    "        \n",
    "        recommendations = None\n",
    "        for recommender_cutoff, recommender in zip(self.cutoffs, self.recommenders):\n",
    "            recommender_scores = recommender._compute_item_score(user_ids)\n",
    "            \n",
    "            for i, user_id in enumerate(user_ids):\n",
    "                recommender_scores[i, :] = self._remove_seen_on_scores(user_id, recommender_scores[i, :])\n",
    "            \n",
    "            if recommendations is None:\n",
    "                recommendations = np.argsort(recommender_scores, axis=1)[:, -recommender_cutoff:]\n",
    "                \n",
    "            else:\n",
    "                filtered_scores = np.full_like(recommender_scores, -np.inf)\n",
    "                for i in range(recommendations.shape[0]):\n",
    "                    row_indices = recommendations[i]\n",
    "                    filtered_scores[i, row_indices] = recommender_scores[i, row_indices]\n",
    "                recommendations = np.argsort(filtered_scores, axis=1)[:, -recommender_cutoff:]              \n",
    "                \n",
    "        if return_scores:\n",
    "            return np.flip(recommendations[:, -cutoff:], axis=1), filtered_scores\n",
    "        return np.flip(recommendations[:, -cutoff:], axis=1)"
   ]
  },
  {
   "cell_type": "code",
   "execution_count": 22,
   "id": "43fc598c",
   "metadata": {
    "execution": {
     "iopub.execute_input": "2023-12-03T16:54:46.185608Z",
     "iopub.status.busy": "2023-12-03T16:54:46.185266Z",
     "iopub.status.idle": "2023-12-03T16:55:03.486512Z",
     "shell.execute_reply": "2023-12-03T16:55:03.485227Z"
    },
    "papermill": {
     "duration": 17.321575,
     "end_time": "2023-12-03T16:55:03.489225",
     "exception": false,
     "start_time": "2023-12-03T16:54:46.167650",
     "status": "completed"
    },
    "tags": []
   },
   "outputs": [
    {
     "name": "stdout",
     "output_type": "stream",
     "text": [
      "Recommender_Base_Class: URM Detected 627 ( 4.8%) users with no interactions.\n",
      "Recommender_Base_Class: URM Detected 247 ( 1.1%) items with no interactions.\n",
      "EvaluatorHoldout: Processed 10456 (100.0%) in 17.26 sec. Users per second: 606\n"
     ]
    },
    {
     "data": {
      "text/html": [
       "<div>\n",
       "<style scoped>\n",
       "    .dataframe tbody tr th:only-of-type {\n",
       "        vertical-align: middle;\n",
       "    }\n",
       "\n",
       "    .dataframe tbody tr th {\n",
       "        vertical-align: top;\n",
       "    }\n",
       "\n",
       "    .dataframe thead th {\n",
       "        text-align: right;\n",
       "    }\n",
       "</style>\n",
       "<table border=\"1\" class=\"dataframe\">\n",
       "  <thead>\n",
       "    <tr style=\"text-align: right;\">\n",
       "      <th></th>\n",
       "      <th>PRECISION</th>\n",
       "      <th>PRECISION_RECALL_MIN_DEN</th>\n",
       "      <th>RECALL</th>\n",
       "      <th>MAP</th>\n",
       "      <th>MAP_MIN_DEN</th>\n",
       "      <th>MRR</th>\n",
       "      <th>NDCG</th>\n",
       "      <th>F1</th>\n",
       "      <th>HIT_RATE</th>\n",
       "      <th>ARHR_ALL_HITS</th>\n",
       "      <th>...</th>\n",
       "      <th>COVERAGE_USER</th>\n",
       "      <th>COVERAGE_USER_HIT</th>\n",
       "      <th>USERS_IN_GT</th>\n",
       "      <th>DIVERSITY_GINI</th>\n",
       "      <th>SHANNON_ENTROPY</th>\n",
       "      <th>RATIO_DIVERSITY_HERFINDAHL</th>\n",
       "      <th>RATIO_DIVERSITY_GINI</th>\n",
       "      <th>RATIO_SHANNON_ENTROPY</th>\n",
       "      <th>RATIO_AVERAGE_POPULARITY</th>\n",
       "      <th>RATIO_NOVELTY</th>\n",
       "    </tr>\n",
       "    <tr>\n",
       "      <th>cutoff</th>\n",
       "      <th></th>\n",
       "      <th></th>\n",
       "      <th></th>\n",
       "      <th></th>\n",
       "      <th></th>\n",
       "      <th></th>\n",
       "      <th></th>\n",
       "      <th></th>\n",
       "      <th></th>\n",
       "      <th></th>\n",
       "      <th></th>\n",
       "      <th></th>\n",
       "      <th></th>\n",
       "      <th></th>\n",
       "      <th></th>\n",
       "      <th></th>\n",
       "      <th></th>\n",
       "      <th></th>\n",
       "      <th></th>\n",
       "      <th></th>\n",
       "      <th></th>\n",
       "    </tr>\n",
       "  </thead>\n",
       "  <tbody>\n",
       "    <tr>\n",
       "      <th>10</th>\n",
       "      <td>0.09649</td>\n",
       "      <td>0.161026</td>\n",
       "      <td>0.1345</td>\n",
       "      <td>0.050916</td>\n",
       "      <td>0.085201</td>\n",
       "      <td>0.281619</td>\n",
       "      <td>0.152405</td>\n",
       "      <td>0.112368</td>\n",
       "      <td>0.519606</td>\n",
       "      <td>0.373746</td>\n",
       "      <td>...</td>\n",
       "      <td>0.802826</td>\n",
       "      <td>0.417153</td>\n",
       "      <td>0.802826</td>\n",
       "      <td>0.082387</td>\n",
       "      <td>10.928675</td>\n",
       "      <td>0.999092</td>\n",
       "      <td>0.23772</td>\n",
       "      <td>0.841903</td>\n",
       "      <td>1.190998</td>\n",
       "      <td>0.313387</td>\n",
       "    </tr>\n",
       "  </tbody>\n",
       "</table>\n",
       "<p>1 rows × 27 columns</p>\n",
       "</div>"
      ],
      "text/plain": [
       "       PRECISION PRECISION_RECALL_MIN_DEN  RECALL       MAP MAP_MIN_DEN  \\\n",
       "cutoff                                                                    \n",
       "10       0.09649                 0.161026  0.1345  0.050916    0.085201   \n",
       "\n",
       "             MRR      NDCG        F1  HIT_RATE ARHR_ALL_HITS  ...  \\\n",
       "cutoff                                                        ...   \n",
       "10      0.281619  0.152405  0.112368  0.519606      0.373746  ...   \n",
       "\n",
       "       COVERAGE_USER COVERAGE_USER_HIT USERS_IN_GT DIVERSITY_GINI  \\\n",
       "cutoff                                                              \n",
       "10          0.802826          0.417153    0.802826       0.082387   \n",
       "\n",
       "       SHANNON_ENTROPY RATIO_DIVERSITY_HERFINDAHL RATIO_DIVERSITY_GINI  \\\n",
       "cutoff                                                                   \n",
       "10           10.928675                   0.999092              0.23772   \n",
       "\n",
       "       RATIO_SHANNON_ENTROPY RATIO_AVERAGE_POPULARITY RATIO_NOVELTY  \n",
       "cutoff                                                               \n",
       "10                  0.841903                 1.190998      0.313387  \n",
       "\n",
       "[1 rows x 27 columns]"
      ]
     },
     "metadata": {},
     "output_type": "display_data"
    }
   ],
   "source": [
    "pipeline_recommender = PipelineRecommender(\n",
    "    URM_train, \n",
    "    recommenders=[recommender_p3a, hybrid_similarity, recommender_slim], \n",
    "    cutoffs=[500, 100, 10]\n",
    ")\n",
    "\n",
    "result_df, _ = evaluator.evaluateRecommender(pipeline_recommender)\n",
    "display(result_df)"
   ]
  },
  {
   "cell_type": "code",
   "execution_count": 23,
   "id": "1ece95ca",
   "metadata": {
    "execution": {
     "iopub.execute_input": "2023-12-03T16:55:03.527218Z",
     "iopub.status.busy": "2023-12-03T16:55:03.526856Z",
     "iopub.status.idle": "2023-12-03T16:55:03.533509Z",
     "shell.execute_reply": "2023-12-03T16:55:03.532503Z"
    },
    "papermill": {
     "duration": 0.028811,
     "end_time": "2023-12-03T16:55:03.535917",
     "exception": false,
     "start_time": "2023-12-03T16:55:03.507106",
     "status": "completed"
    },
    "tags": []
   },
   "outputs": [],
   "source": [
    "def objective(trial):\n",
    "    cutoff_p3alpha = trial.suggest_int('cutoff_p3alpha', 12, 2000)\n",
    "    cutoff_merging = trial.suggest_int('cutoff_merging', 11, cutoff_p3alpha)\n",
    "    cutoff_slim = trial.suggest_int('cutoff_slim', 10, cutoff_merging)\n",
    "    \n",
    "    pipeline_recommender = PipelineRecommender(\n",
    "        URM_train, \n",
    "        recommenders=[recommender_p3a, hybrid_similarity, recommender_slim], \n",
    "        cutoffs=[cutoff_p3alpha, cutoff_merging, cutoff_slim]\n",
    "    )\n",
    "\n",
    "    result_df, _ = evaluator.evaluateRecommender(pipeline_recommender)\n",
    "    return result_df.loc[10, 'MAP']"
   ]
  },
  {
   "cell_type": "code",
   "execution_count": 24,
   "id": "d0427309",
   "metadata": {
    "execution": {
     "iopub.execute_input": "2023-12-03T16:55:03.573239Z",
     "iopub.status.busy": "2023-12-03T16:55:03.572886Z",
     "iopub.status.idle": "2023-12-03T16:55:03.578664Z",
     "shell.execute_reply": "2023-12-03T16:55:03.577718Z"
    },
    "papermill": {
     "duration": 0.027312,
     "end_time": "2023-12-03T16:55:03.581046",
     "exception": false,
     "start_time": "2023-12-03T16:55:03.553734",
     "status": "completed"
    },
    "tags": []
   },
   "outputs": [],
   "source": [
    "try:\n",
    "    shutil.copyfile(\n",
    "        '/kaggle/working/Recsys_Challenge_2023/tuning_results/tuning_hybrid.db', \n",
    "        config['database_path']\n",
    "    )\n",
    "except FileNotFoundError:\n",
    "    pass # if not present optuna will create it"
   ]
  },
  {
   "cell_type": "code",
   "execution_count": 25,
   "id": "f57f8aeb",
   "metadata": {
    "execution": {
     "iopub.execute_input": "2023-12-03T16:55:03.617452Z",
     "iopub.status.busy": "2023-12-03T16:55:03.617097Z",
     "iopub.status.idle": "2023-12-03T17:53:41.202648Z",
     "shell.execute_reply": "2023-12-03T17:53:41.201398Z"
    },
    "papermill": {
     "duration": 3517.622663,
     "end_time": "2023-12-03T17:53:41.221243",
     "exception": false,
     "start_time": "2023-12-03T16:55:03.598580",
     "status": "completed"
    },
    "tags": []
   },
   "outputs": [
    {
     "name": "stderr",
     "output_type": "stream",
     "text": [
      "[I 2023-12-03 16:55:04,021] A new study created in RDB with name: hyperparameters_tuning_3stage_pipeline\n"
     ]
    },
    {
     "name": "stdout",
     "output_type": "stream",
     "text": [
      "Recommender_Base_Class: URM Detected 627 ( 4.8%) users with no interactions.\n",
      "Recommender_Base_Class: URM Detected 247 ( 1.1%) items with no interactions.\n",
      "EvaluatorHoldout: Processed 10456 (100.0%) in 17.41 sec. Users per second: 601\n"
     ]
    },
    {
     "name": "stderr",
     "output_type": "stream",
     "text": [
      "[I 2023-12-03 16:55:21,573] Trial 0 finished with value: 0.051029002107091846 and parameters: {'cutoff_p3alpha': 1506, 'cutoff_merging': 39, 'cutoff_slim': 23}. Best is trial 0 with value: 0.051029002107091846.\n"
     ]
    },
    {
     "name": "stdout",
     "output_type": "stream",
     "text": [
      "Recommender_Base_Class: URM Detected 627 ( 4.8%) users with no interactions.\n",
      "Recommender_Base_Class: URM Detected 247 ( 1.1%) items with no interactions.\n",
      "EvaluatorHoldout: Processed 10456 (100.0%) in 17.27 sec. Users per second: 605\n"
     ]
    },
    {
     "name": "stderr",
     "output_type": "stream",
     "text": [
      "[I 2023-12-03 16:55:38,964] Trial 1 finished with value: 0.050875038710970794 and parameters: {'cutoff_p3alpha': 127, 'cutoff_merging': 108, 'cutoff_slim': 82}. Best is trial 0 with value: 0.051029002107091846.\n"
     ]
    },
    {
     "name": "stdout",
     "output_type": "stream",
     "text": [
      "Recommender_Base_Class: URM Detected 627 ( 4.8%) users with no interactions.\n",
      "Recommender_Base_Class: URM Detected 247 ( 1.1%) items with no interactions.\n",
      "EvaluatorHoldout: Processed 10456 (100.0%) in 17.31 sec. Users per second: 604\n"
     ]
    },
    {
     "name": "stderr",
     "output_type": "stream",
     "text": [
      "[I 2023-12-03 16:55:56,384] Trial 2 finished with value: 0.0509656337668968 and parameters: {'cutoff_p3alpha': 465, 'cutoff_merging': 49, 'cutoff_slim': 29}. Best is trial 0 with value: 0.051029002107091846.\n"
     ]
    },
    {
     "name": "stdout",
     "output_type": "stream",
     "text": [
      "Recommender_Base_Class: URM Detected 627 ( 4.8%) users with no interactions.\n",
      "Recommender_Base_Class: URM Detected 247 ( 1.1%) items with no interactions.\n",
      "EvaluatorHoldout: Processed 10456 (100.0%) in 18.07 sec. Users per second: 579\n"
     ]
    },
    {
     "name": "stderr",
     "output_type": "stream",
     "text": [
      "[I 2023-12-03 16:56:14,578] Trial 3 finished with value: 0.050888652068836256 and parameters: {'cutoff_p3alpha': 1795, 'cutoff_merging': 1470, 'cutoff_slim': 503}. Best is trial 0 with value: 0.051029002107091846.\n"
     ]
    },
    {
     "name": "stdout",
     "output_type": "stream",
     "text": [
      "Recommender_Base_Class: URM Detected 627 ( 4.8%) users with no interactions.\n",
      "Recommender_Base_Class: URM Detected 247 ( 1.1%) items with no interactions.\n",
      "EvaluatorHoldout: Processed 10456 (100.0%) in 17.54 sec. Users per second: 596\n"
     ]
    },
    {
     "name": "stderr",
     "output_type": "stream",
     "text": [
      "[I 2023-12-03 16:56:32,229] Trial 4 finished with value: 0.050864916930812666 and parameters: {'cutoff_p3alpha': 657, 'cutoff_merging': 629, 'cutoff_slim': 207}. Best is trial 0 with value: 0.051029002107091846.\n"
     ]
    },
    {
     "name": "stdout",
     "output_type": "stream",
     "text": [
      "Recommender_Base_Class: URM Detected 627 ( 4.8%) users with no interactions.\n",
      "Recommender_Base_Class: URM Detected 247 ( 1.1%) items with no interactions.\n",
      "EvaluatorHoldout: Processed 10456 (100.0%) in 17.40 sec. Users per second: 601\n"
     ]
    },
    {
     "name": "stderr",
     "output_type": "stream",
     "text": [
      "[I 2023-12-03 16:56:49,748] Trial 5 finished with value: 0.05088696320787999 and parameters: {'cutoff_p3alpha': 519, 'cutoff_merging': 422, 'cutoff_slim': 51}. Best is trial 0 with value: 0.051029002107091846.\n"
     ]
    },
    {
     "name": "stdout",
     "output_type": "stream",
     "text": [
      "Recommender_Base_Class: URM Detected 627 ( 4.8%) users with no interactions.\n",
      "Recommender_Base_Class: URM Detected 247 ( 1.1%) items with no interactions.\n",
      "EvaluatorHoldout: Processed 10456 (100.0%) in 17.92 sec. Users per second: 583\n"
     ]
    },
    {
     "name": "stderr",
     "output_type": "stream",
     "text": [
      "[I 2023-12-03 16:57:07,787] Trial 6 finished with value: 0.050890883642414425 and parameters: {'cutoff_p3alpha': 1597, 'cutoff_merging': 1260, 'cutoff_slim': 1007}. Best is trial 0 with value: 0.051029002107091846.\n"
     ]
    },
    {
     "name": "stdout",
     "output_type": "stream",
     "text": [
      "Recommender_Base_Class: URM Detected 627 ( 4.8%) users with no interactions.\n",
      "Recommender_Base_Class: URM Detected 247 ( 1.1%) items with no interactions.\n",
      "EvaluatorHoldout: Processed 10456 (100.0%) in 17.29 sec. Users per second: 605\n"
     ]
    },
    {
     "name": "stderr",
     "output_type": "stream",
     "text": [
      "[I 2023-12-03 16:57:25,213] Trial 7 finished with value: 0.05089944559818373 and parameters: {'cutoff_p3alpha': 667, 'cutoff_merging': 236, 'cutoff_slim': 82}. Best is trial 0 with value: 0.051029002107091846.\n"
     ]
    },
    {
     "name": "stdout",
     "output_type": "stream",
     "text": [
      "Recommender_Base_Class: URM Detected 627 ( 4.8%) users with no interactions.\n",
      "Recommender_Base_Class: URM Detected 247 ( 1.1%) items with no interactions.\n",
      "EvaluatorHoldout: Processed 10456 (100.0%) in 17.32 sec. Users per second: 604\n"
     ]
    },
    {
     "name": "stderr",
     "output_type": "stream",
     "text": [
      "[I 2023-12-03 16:57:42,649] Trial 8 finished with value: 0.050881847287500115 and parameters: {'cutoff_p3alpha': 334, 'cutoff_merging': 317, 'cutoff_slim': 294}. Best is trial 0 with value: 0.051029002107091846.\n"
     ]
    },
    {
     "name": "stdout",
     "output_type": "stream",
     "text": [
      "Recommender_Base_Class: URM Detected 627 ( 4.8%) users with no interactions.\n",
      "Recommender_Base_Class: URM Detected 247 ( 1.1%) items with no interactions.\n",
      "EvaluatorHoldout: Processed 10456 (100.0%) in 17.83 sec. Users per second: 586\n"
     ]
    },
    {
     "name": "stderr",
     "output_type": "stream",
     "text": [
      "[I 2023-12-03 16:58:00,602] Trial 9 finished with value: 0.05087790408180671 and parameters: {'cutoff_p3alpha': 1008, 'cutoff_merging': 988, 'cutoff_slim': 785}. Best is trial 0 with value: 0.051029002107091846.\n"
     ]
    },
    {
     "name": "stdout",
     "output_type": "stream",
     "text": [
      "Recommender_Base_Class: URM Detected 627 ( 4.8%) users with no interactions.\n",
      "Recommender_Base_Class: URM Detected 247 ( 1.1%) items with no interactions.\n",
      "EvaluatorHoldout: Processed 10456 (100.0%) in 17.69 sec. Users per second: 591\n"
     ]
    },
    {
     "name": "stderr",
     "output_type": "stream",
     "text": [
      "[I 2023-12-03 16:58:18,424] Trial 10 finished with value: 0.05089495967986842 and parameters: {'cutoff_p3alpha': 1310, 'cutoff_merging': 770, 'cutoff_slim': 482}. Best is trial 0 with value: 0.051029002107091846.\n"
     ]
    },
    {
     "name": "stdout",
     "output_type": "stream",
     "text": [
      "Recommender_Base_Class: URM Detected 627 ( 4.8%) users with no interactions.\n",
      "Recommender_Base_Class: URM Detected 247 ( 1.1%) items with no interactions.\n",
      "EvaluatorHoldout: Processed 10456 (100.0%) in 17.36 sec. Users per second: 602\n"
     ]
    },
    {
     "name": "stderr",
     "output_type": "stream",
     "text": [
      "[I 2023-12-03 16:58:35,920] Trial 11 finished with value: 0.05117826325888741 and parameters: {'cutoff_p3alpha': 1183, 'cutoff_merging': 18, 'cutoff_slim': 11}. Best is trial 11 with value: 0.05117826325888741.\n"
     ]
    },
    {
     "name": "stdout",
     "output_type": "stream",
     "text": [
      "Recommender_Base_Class: URM Detected 627 ( 4.8%) users with no interactions.\n",
      "Recommender_Base_Class: URM Detected 247 ( 1.1%) items with no interactions.\n",
      "EvaluatorHoldout: Processed 10456 (100.0%) in 17.35 sec. Users per second: 603\n"
     ]
    },
    {
     "name": "stderr",
     "output_type": "stream",
     "text": [
      "[I 2023-12-03 16:58:53,398] Trial 12 finished with value: 0.051150042202548485 and parameters: {'cutoff_p3alpha': 1289, 'cutoff_merging': 13, 'cutoff_slim': 11}. Best is trial 11 with value: 0.05117826325888741.\n"
     ]
    },
    {
     "name": "stdout",
     "output_type": "stream",
     "text": [
      "Recommender_Base_Class: URM Detected 627 ( 4.8%) users with no interactions.\n",
      "Recommender_Base_Class: URM Detected 247 ( 1.1%) items with no interactions.\n",
      "EvaluatorHoldout: Processed 10456 (100.0%) in 17.70 sec. Users per second: 591\n"
     ]
    },
    {
     "name": "stderr",
     "output_type": "stream",
     "text": [
      "[I 2023-12-03 16:59:11,236] Trial 13 finished with value: 0.050895301247252854 and parameters: {'cutoff_p3alpha': 1192, 'cutoff_merging': 427, 'cutoff_slim': 142}. Best is trial 11 with value: 0.05117826325888741.\n"
     ]
    },
    {
     "name": "stdout",
     "output_type": "stream",
     "text": [
      "Recommender_Base_Class: URM Detected 627 ( 4.8%) users with no interactions.\n",
      "Recommender_Base_Class: URM Detected 247 ( 1.1%) items with no interactions.\n",
      "EvaluatorHoldout: Processed 10456 (100.0%) in 18.19 sec. Users per second: 575\n"
     ]
    },
    {
     "name": "stderr",
     "output_type": "stream",
     "text": [
      "[I 2023-12-03 16:59:29,560] Trial 14 finished with value: 0.05088325909935568 and parameters: {'cutoff_p3alpha': 1985, 'cutoff_merging': 1788, 'cutoff_slim': 1590}. Best is trial 11 with value: 0.05117826325888741.\n"
     ]
    },
    {
     "name": "stdout",
     "output_type": "stream",
     "text": [
      "Recommender_Base_Class: URM Detected 627 ( 4.8%) users with no interactions.\n",
      "Recommender_Base_Class: URM Detected 247 ( 1.1%) items with no interactions.\n",
      "EvaluatorHoldout: Processed 10456 (100.0%) in 17.45 sec. Users per second: 599\n"
     ]
    },
    {
     "name": "stderr",
     "output_type": "stream",
     "text": [
      "[I 2023-12-03 16:59:47,149] Trial 15 finished with value: 0.050904216155986046 and parameters: {'cutoff_p3alpha': 908, 'cutoff_merging': 206, 'cutoff_slim': 19}. Best is trial 11 with value: 0.05117826325888741.\n"
     ]
    },
    {
     "name": "stdout",
     "output_type": "stream",
     "text": [
      "Recommender_Base_Class: URM Detected 627 ( 4.8%) users with no interactions.\n",
      "Recommender_Base_Class: URM Detected 247 ( 1.1%) items with no interactions.\n",
      "EvaluatorHoldout: Processed 10456 (100.0%) in 17.70 sec. Users per second: 591\n"
     ]
    },
    {
     "name": "stderr",
     "output_type": "stream",
     "text": [
      "[I 2023-12-03 17:00:04,982] Trial 16 finished with value: 0.05089519877703752 and parameters: {'cutoff_p3alpha': 1318, 'cutoff_merging': 606, 'cutoff_slim': 171}. Best is trial 11 with value: 0.05117826325888741.\n"
     ]
    },
    {
     "name": "stdout",
     "output_type": "stream",
     "text": [
      "Recommender_Base_Class: URM Detected 627 ( 4.8%) users with no interactions.\n",
      "Recommender_Base_Class: URM Detected 247 ( 1.1%) items with no interactions.\n",
      "EvaluatorHoldout: Processed 10456 (100.0%) in 17.41 sec. Users per second: 601\n"
     ]
    },
    {
     "name": "stderr",
     "output_type": "stream",
     "text": [
      "[I 2023-12-03 17:00:22,537] Trial 17 finished with value: 0.050905411641831495 and parameters: {'cutoff_p3alpha': 940, 'cutoff_merging': 163, 'cutoff_slim': 10}. Best is trial 11 with value: 0.05117826325888741.\n"
     ]
    },
    {
     "name": "stdout",
     "output_type": "stream",
     "text": [
      "Recommender_Base_Class: URM Detected 627 ( 4.8%) users with no interactions.\n",
      "Recommender_Base_Class: URM Detected 247 ( 1.1%) items with no interactions.\n",
      "EvaluatorHoldout: Processed 10456 (100.0%) in 17.84 sec. Users per second: 586\n"
     ]
    },
    {
     "name": "stderr",
     "output_type": "stream",
     "text": [
      "[I 2023-12-03 17:00:40,511] Trial 18 finished with value: 0.05089367310938714 and parameters: {'cutoff_p3alpha': 1601, 'cutoff_merging': 1000, 'cutoff_slim': 334}. Best is trial 11 with value: 0.05117826325888741.\n"
     ]
    },
    {
     "name": "stdout",
     "output_type": "stream",
     "text": [
      "Recommender_Base_Class: URM Detected 627 ( 4.8%) users with no interactions.\n",
      "Recommender_Base_Class: URM Detected 247 ( 1.1%) items with no interactions.\n",
      "EvaluatorHoldout: Processed 10456 (100.0%) in 17.53 sec. Users per second: 596\n"
     ]
    },
    {
     "name": "stderr",
     "output_type": "stream",
     "text": [
      "[I 2023-12-03 17:00:58,191] Trial 19 finished with value: 0.05089602992433961 and parameters: {'cutoff_p3alpha': 1126, 'cutoff_merging': 343, 'cutoff_slim': 85}. Best is trial 11 with value: 0.05117826325888741.\n"
     ]
    },
    {
     "name": "stdout",
     "output_type": "stream",
     "text": [
      "Recommender_Base_Class: URM Detected 627 ( 4.8%) users with no interactions.\n",
      "Recommender_Base_Class: URM Detected 247 ( 1.1%) items with no interactions.\n",
      "EvaluatorHoldout: Processed 10456 (100.0%) in 17.62 sec. Users per second: 593\n"
     ]
    },
    {
     "name": "stderr",
     "output_type": "stream",
     "text": [
      "[I 2023-12-03 17:01:15,951] Trial 20 finished with value: 0.05089648914271197 and parameters: {'cutoff_p3alpha': 1435, 'cutoff_merging': 502, 'cutoff_slim': 124}. Best is trial 11 with value: 0.05117826325888741.\n"
     ]
    },
    {
     "name": "stdout",
     "output_type": "stream",
     "text": [
      "Recommender_Base_Class: URM Detected 627 ( 4.8%) users with no interactions.\n",
      "Recommender_Base_Class: URM Detected 247 ( 1.1%) items with no interactions.\n",
      "EvaluatorHoldout: Processed 10456 (100.0%) in 17.43 sec. Users per second: 600\n"
     ]
    },
    {
     "name": "stderr",
     "output_type": "stream",
     "text": [
      "[I 2023-12-03 17:01:33,529] Trial 21 finished with value: 0.050938801751254516 and parameters: {'cutoff_p3alpha': 1571, 'cutoff_merging': 73, 'cutoff_slim': 10}. Best is trial 11 with value: 0.05117826325888741.\n"
     ]
    },
    {
     "name": "stdout",
     "output_type": "stream",
     "text": [
      "Recommender_Base_Class: URM Detected 627 ( 4.8%) users with no interactions.\n",
      "Recommender_Base_Class: URM Detected 247 ( 1.1%) items with no interactions.\n",
      "EvaluatorHoldout: Processed 10456 (100.0%) in 17.42 sec. Users per second: 600\n"
     ]
    },
    {
     "name": "stderr",
     "output_type": "stream",
     "text": [
      "[I 2023-12-03 17:01:51,084] Trial 22 finished with value: 0.05097225637896127 and parameters: {'cutoff_p3alpha': 1796, 'cutoff_merging': 32, 'cutoff_slim': 13}. Best is trial 11 with value: 0.05117826325888741.\n"
     ]
    },
    {
     "name": "stdout",
     "output_type": "stream",
     "text": [
      "Recommender_Base_Class: URM Detected 627 ( 4.8%) users with no interactions.\n",
      "Recommender_Base_Class: URM Detected 247 ( 1.1%) items with no interactions.\n",
      "EvaluatorHoldout: Processed 10456 (100.0%) in 17.36 sec. Users per second: 602\n"
     ]
    },
    {
     "name": "stderr",
     "output_type": "stream",
     "text": [
      "[I 2023-12-03 17:02:08,585] Trial 23 finished with value: 0.05116402369415053 and parameters: {'cutoff_p3alpha': 1437, 'cutoff_merging': 16, 'cutoff_slim': 11}. Best is trial 11 with value: 0.05117826325888741.\n"
     ]
    },
    {
     "name": "stdout",
     "output_type": "stream",
     "text": [
      "Recommender_Base_Class: URM Detected 627 ( 4.8%) users with no interactions.\n",
      "Recommender_Base_Class: URM Detected 247 ( 1.1%) items with no interactions.\n",
      "EvaluatorHoldout: Processed 10456 (100.0%) in 17.36 sec. Users per second: 602\n"
     ]
    },
    {
     "name": "stderr",
     "output_type": "stream",
     "text": [
      "[I 2023-12-03 17:02:26,083] Trial 24 finished with value: 0.05089755938718314 and parameters: {'cutoff_p3alpha': 1146, 'cutoff_merging': 273, 'cutoff_slim': 48}. Best is trial 11 with value: 0.05117826325888741.\n"
     ]
    },
    {
     "name": "stdout",
     "output_type": "stream",
     "text": [
      "Recommender_Base_Class: URM Detected 627 ( 4.8%) users with no interactions.\n",
      "Recommender_Base_Class: URM Detected 247 ( 1.1%) items with no interactions.\n",
      "EvaluatorHoldout: Processed 10456 (100.0%) in 17.36 sec. Users per second: 602\n"
     ]
    },
    {
     "name": "stderr",
     "output_type": "stream",
     "text": [
      "[I 2023-12-03 17:02:43,575] Trial 25 finished with value: 0.050903540611603536 and parameters: {'cutoff_p3alpha': 801, 'cutoff_merging': 138, 'cutoff_slim': 34}. Best is trial 11 with value: 0.05117826325888741.\n"
     ]
    },
    {
     "name": "stdout",
     "output_type": "stream",
     "text": [
      "Recommender_Base_Class: URM Detected 627 ( 4.8%) users with no interactions.\n",
      "Recommender_Base_Class: URM Detected 247 ( 1.1%) items with no interactions.\n",
      "EvaluatorHoldout: Processed 10456 (100.0%) in 17.39 sec. Users per second: 601\n"
     ]
    },
    {
     "name": "stderr",
     "output_type": "stream",
     "text": [
      "[I 2023-12-03 17:03:01,101] Trial 26 finished with value: 0.05090432242139453 and parameters: {'cutoff_p3alpha': 1271, 'cutoff_merging': 187, 'cutoff_slim': 49}. Best is trial 11 with value: 0.05117826325888741.\n"
     ]
    },
    {
     "name": "stdout",
     "output_type": "stream",
     "text": [
      "Recommender_Base_Class: URM Detected 627 ( 4.8%) users with no interactions.\n",
      "Recommender_Base_Class: URM Detected 247 ( 1.1%) items with no interactions.\n",
      "EvaluatorHoldout: Processed 10456 (100.0%) in 17.38 sec. Users per second: 602\n"
     ]
    },
    {
     "name": "stderr",
     "output_type": "stream",
     "text": [
      "[I 2023-12-03 17:03:18,620] Trial 27 finished with value: 0.05112690670504424 and parameters: {'cutoff_p3alpha': 1387, 'cutoff_merging': 19, 'cutoff_slim': 11}. Best is trial 11 with value: 0.05117826325888741.\n"
     ]
    },
    {
     "name": "stdout",
     "output_type": "stream",
     "text": [
      "Recommender_Base_Class: URM Detected 627 ( 4.8%) users with no interactions.\n",
      "Recommender_Base_Class: URM Detected 247 ( 1.1%) items with no interactions.\n",
      "EvaluatorHoldout: Processed 10456 (100.0%) in 17.70 sec. Users per second: 591\n"
     ]
    },
    {
     "name": "stderr",
     "output_type": "stream",
     "text": [
      "[I 2023-12-03 17:03:36,469] Trial 28 finished with value: 0.05089659540812045 and parameters: {'cutoff_p3alpha': 1719, 'cutoff_merging': 567, 'cutoff_slim': 206}. Best is trial 11 with value: 0.05117826325888741.\n"
     ]
    },
    {
     "name": "stdout",
     "output_type": "stream",
     "text": [
      "Recommender_Base_Class: URM Detected 627 ( 4.8%) users with no interactions.\n",
      "Recommender_Base_Class: URM Detected 247 ( 1.1%) items with no interactions.\n",
      "EvaluatorHoldout: Processed 10456 (100.0%) in 17.77 sec. Users per second: 588\n"
     ]
    },
    {
     "name": "stderr",
     "output_type": "stream",
     "text": [
      "[I 2023-12-03 17:03:54,381] Trial 29 finished with value: 0.050895426488627125 and parameters: {'cutoff_p3alpha': 1495, 'cutoff_merging': 745, 'cutoff_slim': 256}. Best is trial 11 with value: 0.05117826325888741.\n"
     ]
    },
    {
     "name": "stdout",
     "output_type": "stream",
     "text": [
      "Recommender_Base_Class: URM Detected 627 ( 4.8%) users with no interactions.\n",
      "Recommender_Base_Class: URM Detected 247 ( 1.1%) items with no interactions.\n",
      "EvaluatorHoldout: Processed 10456 (100.0%) in 17.43 sec. Users per second: 600\n"
     ]
    },
    {
     "name": "stderr",
     "output_type": "stream",
     "text": [
      "[I 2023-12-03 17:04:11,948] Trial 30 finished with value: 0.05091811415333851 and parameters: {'cutoff_p3alpha': 1023, 'cutoff_merging': 104, 'cutoff_slim': 23}. Best is trial 11 with value: 0.05117826325888741.\n"
     ]
    },
    {
     "name": "stdout",
     "output_type": "stream",
     "text": [
      "Recommender_Base_Class: URM Detected 627 ( 4.8%) users with no interactions.\n",
      "Recommender_Base_Class: URM Detected 247 ( 1.1%) items with no interactions.\n",
      "EvaluatorHoldout: Processed 10456 (100.0%) in 17.47 sec. Users per second: 598\n"
     ]
    },
    {
     "name": "stderr",
     "output_type": "stream",
     "text": [
      "[I 2023-12-03 17:04:29,563] Trial 31 finished with value: 0.05117826325888741 and parameters: {'cutoff_p3alpha': 1431, 'cutoff_merging': 18, 'cutoff_slim': 11}. Best is trial 11 with value: 0.05117826325888741.\n"
     ]
    },
    {
     "name": "stdout",
     "output_type": "stream",
     "text": [
      "Recommender_Base_Class: URM Detected 627 ( 4.8%) users with no interactions.\n",
      "Recommender_Base_Class: URM Detected 247 ( 1.1%) items with no interactions.\n",
      "EvaluatorHoldout: Processed 10456 (100.0%) in 17.37 sec. Users per second: 602\n"
     ]
    },
    {
     "name": "stderr",
     "output_type": "stream",
     "text": [
      "[I 2023-12-03 17:04:47,076] Trial 32 finished with value: 0.05110464789715996 and parameters: {'cutoff_p3alpha': 1204, 'cutoff_merging': 11, 'cutoff_slim': 10}. Best is trial 11 with value: 0.05117826325888741.\n"
     ]
    },
    {
     "name": "stdout",
     "output_type": "stream",
     "text": [
      "Recommender_Base_Class: URM Detected 627 ( 4.8%) users with no interactions.\n",
      "Recommender_Base_Class: URM Detected 247 ( 1.1%) items with no interactions.\n",
      "EvaluatorHoldout: Processed 10456 (100.0%) in 17.44 sec. Users per second: 599\n"
     ]
    },
    {
     "name": "stderr",
     "output_type": "stream",
     "text": [
      "[I 2023-12-03 17:05:04,652] Trial 33 finished with value: 0.05091574974799974 and parameters: {'cutoff_p3alpha': 1434, 'cutoff_merging': 106, 'cutoff_slim': 20}. Best is trial 11 with value: 0.05117826325888741.\n"
     ]
    },
    {
     "name": "stdout",
     "output_type": "stream",
     "text": [
      "Recommender_Base_Class: URM Detected 627 ( 4.8%) users with no interactions.\n",
      "Recommender_Base_Class: URM Detected 247 ( 1.1%) items with no interactions.\n",
      "EvaluatorHoldout: Processed 10456 (100.0%) in 17.65 sec. Users per second: 593\n"
     ]
    },
    {
     "name": "stderr",
     "output_type": "stream",
     "text": [
      "[I 2023-12-03 17:05:22,439] Trial 34 finished with value: 0.05089689902357327 and parameters: {'cutoff_p3alpha': 1697, 'cutoff_merging': 372, 'cutoff_slim': 66}. Best is trial 11 with value: 0.05117826325888741.\n"
     ]
    },
    {
     "name": "stdout",
     "output_type": "stream",
     "text": [
      "Recommender_Base_Class: URM Detected 627 ( 4.8%) users with no interactions.\n",
      "Recommender_Base_Class: URM Detected 247 ( 1.1%) items with no interactions.\n",
      "EvaluatorHoldout: Processed 10456 (100.0%) in 17.37 sec. Users per second: 602\n"
     ]
    },
    {
     "name": "stderr",
     "output_type": "stream",
     "text": [
      "[I 2023-12-03 17:05:39,939] Trial 35 finished with value: 0.05091848608226821 and parameters: {'cutoff_p3alpha': 1085, 'cutoff_merging': 101, 'cutoff_slim': 30}. Best is trial 11 with value: 0.05117826325888741.\n"
     ]
    },
    {
     "name": "stdout",
     "output_type": "stream",
     "text": [
      "Recommender_Base_Class: URM Detected 627 ( 4.8%) users with no interactions.\n",
      "Recommender_Base_Class: URM Detected 247 ( 1.1%) items with no interactions.\n",
      "EvaluatorHoldout: Processed 10456 (100.0%) in 17.49 sec. Users per second: 598\n"
     ]
    },
    {
     "name": "stderr",
     "output_type": "stream",
     "text": [
      "[I 2023-12-03 17:05:57,575] Trial 36 finished with value: 0.05089791993053335 and parameters: {'cutoff_p3alpha': 1343, 'cutoff_merging': 241, 'cutoff_slim': 35}. Best is trial 11 with value: 0.05117826325888741.\n"
     ]
    },
    {
     "name": "stdout",
     "output_type": "stream",
     "text": [
      "Recommender_Base_Class: URM Detected 627 ( 4.8%) users with no interactions.\n",
      "Recommender_Base_Class: URM Detected 247 ( 1.1%) items with no interactions.\n",
      "EvaluatorHoldout: Processed 10456 (100.0%) in 17.31 sec. Users per second: 604\n"
     ]
    },
    {
     "name": "stderr",
     "output_type": "stream",
     "text": [
      "[I 2023-12-03 17:06:15,033] Trial 37 finished with value: 0.05095778151224843 and parameters: {'cutoff_p3alpha': 812, 'cutoff_merging': 60, 'cutoff_slim': 15}. Best is trial 11 with value: 0.05117826325888741.\n"
     ]
    },
    {
     "name": "stdout",
     "output_type": "stream",
     "text": [
      "Recommender_Base_Class: URM Detected 627 ( 4.8%) users with no interactions.\n",
      "Recommender_Base_Class: URM Detected 247 ( 1.1%) items with no interactions.\n",
      "EvaluatorHoldout: Processed 10456 (100.0%) in 17.59 sec. Users per second: 594\n"
     ]
    },
    {
     "name": "stderr",
     "output_type": "stream",
     "text": [
      "[I 2023-12-03 17:06:32,770] Trial 38 finished with value: 0.050905517907239975 and parameters: {'cutoff_p3alpha': 1487, 'cutoff_merging': 170, 'cutoff_slim': 59}. Best is trial 11 with value: 0.05117826325888741.\n"
     ]
    },
    {
     "name": "stdout",
     "output_type": "stream",
     "text": [
      "Recommender_Base_Class: URM Detected 627 ( 4.8%) users with no interactions.\n",
      "Recommender_Base_Class: URM Detected 247 ( 1.1%) items with no interactions.\n",
      "EvaluatorHoldout: Processed 10456 (100.0%) in 18.33 sec. Users per second: 570\n"
     ]
    },
    {
     "name": "stderr",
     "output_type": "stream",
     "text": [
      "[I 2023-12-03 17:06:51,242] Trial 39 finished with value: 0.050871600265967695 and parameters: {'cutoff_p3alpha': 1966, 'cutoff_merging': 1938, 'cutoff_slim': 409}. Best is trial 11 with value: 0.05117826325888741.\n"
     ]
    },
    {
     "name": "stdout",
     "output_type": "stream",
     "text": [
      "Recommender_Base_Class: URM Detected 627 ( 4.8%) users with no interactions.\n",
      "Recommender_Base_Class: URM Detected 247 ( 1.1%) items with no interactions.\n",
      "EvaluatorHoldout: Processed 10456 (100.0%) in 17.41 sec. Users per second: 601\n"
     ]
    },
    {
     "name": "stderr",
     "output_type": "stream",
     "text": [
      "[I 2023-12-03 17:07:08,788] Trial 40 finished with value: 0.05089766565259162 and parameters: {'cutoff_p3alpha': 1213, 'cutoff_merging': 266, 'cutoff_slim': 76}. Best is trial 11 with value: 0.05117826325888741.\n"
     ]
    },
    {
     "name": "stdout",
     "output_type": "stream",
     "text": [
      "Recommender_Base_Class: URM Detected 627 ( 4.8%) users with no interactions.\n",
      "Recommender_Base_Class: URM Detected 247 ( 1.1%) items with no interactions.\n",
      "EvaluatorHoldout: Processed 10456 (100.0%) in 17.37 sec. Users per second: 602\n"
     ]
    },
    {
     "name": "stderr",
     "output_type": "stream",
     "text": [
      "[I 2023-12-03 17:07:26,289] Trial 41 finished with value: 0.051005597150873216 and parameters: {'cutoff_p3alpha': 1379, 'cutoff_merging': 30, 'cutoff_slim': 12}. Best is trial 11 with value: 0.05117826325888741.\n"
     ]
    },
    {
     "name": "stdout",
     "output_type": "stream",
     "text": [
      "Recommender_Base_Class: URM Detected 627 ( 4.8%) users with no interactions.\n",
      "Recommender_Base_Class: URM Detected 247 ( 1.1%) items with no interactions.\n",
      "EvaluatorHoldout: Processed 10456 (100.0%) in 16.96 sec. Users per second: 617\n"
     ]
    },
    {
     "name": "stderr",
     "output_type": "stream",
     "text": [
      "[I 2023-12-03 17:07:43,383] Trial 42 finished with value: 0.05068683128696594 and parameters: {'cutoff_p3alpha': 14, 'cutoff_merging': 13, 'cutoff_slim': 11}. Best is trial 11 with value: 0.05117826325888741.\n"
     ]
    },
    {
     "name": "stdout",
     "output_type": "stream",
     "text": [
      "Recommender_Base_Class: URM Detected 627 ( 4.8%) users with no interactions.\n",
      "Recommender_Base_Class: URM Detected 247 ( 1.1%) items with no interactions.\n",
      "EvaluatorHoldout: Processed 10456 (100.0%) in 17.46 sec. Users per second: 599\n"
     ]
    },
    {
     "name": "stderr",
     "output_type": "stream",
     "text": [
      "[I 2023-12-03 17:08:00,966] Trial 43 finished with value: 0.050905108026378675 and parameters: {'cutoff_p3alpha': 1569, 'cutoff_merging': 157, 'cutoff_slim': 41}. Best is trial 11 with value: 0.05117826325888741.\n"
     ]
    },
    {
     "name": "stdout",
     "output_type": "stream",
     "text": [
      "Recommender_Base_Class: URM Detected 627 ( 4.8%) users with no interactions.\n",
      "Recommender_Base_Class: URM Detected 247 ( 1.1%) items with no interactions.\n",
      "EvaluatorHoldout: Processed 10456 (100.0%) in 17.79 sec. Users per second: 588\n"
     ]
    },
    {
     "name": "stderr",
     "output_type": "stream",
     "text": [
      "[I 2023-12-03 17:08:18,886] Trial 44 finished with value: 0.05089509251162904 and parameters: {'cutoff_p3alpha': 1396, 'cutoff_merging': 891, 'cutoff_slim': 120}. Best is trial 11 with value: 0.05117826325888741.\n"
     ]
    },
    {
     "name": "stdout",
     "output_type": "stream",
     "text": [
      "Recommender_Base_Class: URM Detected 627 ( 4.8%) users with no interactions.\n",
      "Recommender_Base_Class: URM Detected 247 ( 1.1%) items with no interactions.\n",
      "EvaluatorHoldout: Processed 10456 (100.0%) in 17.42 sec. Users per second: 600\n"
     ]
    },
    {
     "name": "stderr",
     "output_type": "stream",
     "text": [
      "[I 2023-12-03 17:08:36,434] Trial 45 finished with value: 0.05092243687834795 and parameters: {'cutoff_p3alpha': 1290, 'cutoff_merging': 86, 'cutoff_slim': 17}. Best is trial 11 with value: 0.05117826325888741.\n"
     ]
    },
    {
     "name": "stdout",
     "output_type": "stream",
     "text": [
      "Recommender_Base_Class: URM Detected 627 ( 4.8%) users with no interactions.\n",
      "Recommender_Base_Class: URM Detected 247 ( 1.1%) items with no interactions.\n",
      "EvaluatorHoldout: Processed 10456 (100.0%) in 18.00 sec. Users per second: 581\n"
     ]
    },
    {
     "name": "stderr",
     "output_type": "stream",
     "text": [
      "[I 2023-12-03 17:08:54,569] Trial 46 finished with value: 0.050888652068836256 and parameters: {'cutoff_p3alpha': 1846, 'cutoff_merging': 1462, 'cutoff_slim': 266}. Best is trial 11 with value: 0.05117826325888741.\n"
     ]
    },
    {
     "name": "stdout",
     "output_type": "stream",
     "text": [
      "Recommender_Base_Class: URM Detected 627 ( 4.8%) users with no interactions.\n",
      "Recommender_Base_Class: URM Detected 247 ( 1.1%) items with no interactions.\n",
      "EvaluatorHoldout: Processed 10456 (100.0%) in 17.58 sec. Users per second: 595\n"
     ]
    },
    {
     "name": "stderr",
     "output_type": "stream",
     "text": [
      "[I 2023-12-03 17:09:12,296] Trial 47 finished with value: 0.05089659540812045 and parameters: {'cutoff_p3alpha': 1675, 'cutoff_merging': 437, 'cutoff_slim': 101}. Best is trial 11 with value: 0.05117826325888741.\n"
     ]
    },
    {
     "name": "stdout",
     "output_type": "stream",
     "text": [
      "Recommender_Base_Class: URM Detected 627 ( 4.8%) users with no interactions.\n",
      "Recommender_Base_Class: URM Detected 247 ( 1.1%) items with no interactions.\n",
      "EvaluatorHoldout: Processed 10456 (100.0%) in 17.21 sec. Users per second: 608\n"
     ]
    },
    {
     "name": "stderr",
     "output_type": "stream",
     "text": [
      "[I 2023-12-03 17:09:29,644] Trial 48 finished with value: 0.05096138315055743 and parameters: {'cutoff_p3alpha': 301, 'cutoff_merging': 48, 'cutoff_slim': 14}. Best is trial 11 with value: 0.05117826325888741.\n"
     ]
    },
    {
     "name": "stdout",
     "output_type": "stream",
     "text": [
      "Recommender_Base_Class: URM Detected 627 ( 4.8%) users with no interactions.\n",
      "Recommender_Base_Class: URM Detected 247 ( 1.1%) items with no interactions.\n",
      "EvaluatorHoldout: Processed 10456 (100.0%) in 17.35 sec. Users per second: 603\n"
     ]
    },
    {
     "name": "stderr",
     "output_type": "stream",
     "text": [
      "[I 2023-12-03 17:09:47,130] Trial 49 finished with value: 0.05090533194277513 and parameters: {'cutoff_p3alpha': 1063, 'cutoff_merging': 131, 'cutoff_slim': 25}. Best is trial 11 with value: 0.05117826325888741.\n"
     ]
    },
    {
     "name": "stdout",
     "output_type": "stream",
     "text": [
      "Recommender_Base_Class: URM Detected 627 ( 4.8%) users with no interactions.\n",
      "Recommender_Base_Class: URM Detected 247 ( 1.1%) items with no interactions.\n",
      "EvaluatorHoldout: Processed 10456 (100.0%) in 17.35 sec. Users per second: 603\n"
     ]
    },
    {
     "name": "stderr",
     "output_type": "stream",
     "text": [
      "[I 2023-12-03 17:10:04,619] Trial 50 finished with value: 0.050951917938815997 and parameters: {'cutoff_p3alpha': 945, 'cutoff_merging': 64, 'cutoff_slim': 16}. Best is trial 11 with value: 0.05117826325888741.\n"
     ]
    },
    {
     "name": "stdout",
     "output_type": "stream",
     "text": [
      "Recommender_Base_Class: URM Detected 627 ( 4.8%) users with no interactions.\n",
      "Recommender_Base_Class: URM Detected 247 ( 1.1%) items with no interactions.\n",
      "EvaluatorHoldout: Processed 10456 (100.0%) in 17.27 sec. Users per second: 605\n"
     ]
    },
    {
     "name": "stderr",
     "output_type": "stream",
     "text": [
      "[I 2023-12-03 17:10:22,023] Trial 51 finished with value: 0.051237528995276366 and parameters: {'cutoff_p3alpha': 1184, 'cutoff_merging': 14, 'cutoff_slim': 11}. Best is trial 51 with value: 0.051237528995276366.\n"
     ]
    },
    {
     "name": "stdout",
     "output_type": "stream",
     "text": [
      "Recommender_Base_Class: URM Detected 627 ( 4.8%) users with no interactions.\n",
      "Recommender_Base_Class: URM Detected 247 ( 1.1%) items with no interactions.\n",
      "EvaluatorHoldout: Processed 10456 (100.0%) in 17.47 sec. Users per second: 598\n"
     ]
    },
    {
     "name": "stderr",
     "output_type": "stream",
     "text": [
      "[I 2023-12-03 17:10:39,627] Trial 52 finished with value: 0.05090432242139453 and parameters: {'cutoff_p3alpha': 1252, 'cutoff_merging': 213, 'cutoff_slim': 41}. Best is trial 51 with value: 0.051237528995276366.\n"
     ]
    },
    {
     "name": "stdout",
     "output_type": "stream",
     "text": [
      "Recommender_Base_Class: URM Detected 627 ( 4.8%) users with no interactions.\n",
      "Recommender_Base_Class: URM Detected 247 ( 1.1%) items with no interactions.\n",
      "EvaluatorHoldout: Processed 10456 (100.0%) in 17.20 sec. Users per second: 608\n"
     ]
    },
    {
     "name": "stderr",
     "output_type": "stream",
     "text": [
      "[I 2023-12-03 17:10:56,960] Trial 53 finished with value: 0.051150042202548485 and parameters: {'cutoff_p3alpha': 1163, 'cutoff_merging': 13, 'cutoff_slim': 11}. Best is trial 51 with value: 0.051237528995276366.\n"
     ]
    },
    {
     "name": "stdout",
     "output_type": "stream",
     "text": [
      "Recommender_Base_Class: URM Detected 627 ( 4.8%) users with no interactions.\n",
      "Recommender_Base_Class: URM Detected 247 ( 1.1%) items with no interactions.\n",
      "EvaluatorHoldout: Processed 10456 (100.0%) in 17.32 sec. Users per second: 604\n"
     ]
    },
    {
     "name": "stderr",
     "output_type": "stream",
     "text": [
      "[I 2023-12-03 17:11:14,430] Trial 54 finished with value: 0.05090205289588476 and parameters: {'cutoff_p3alpha': 1135, 'cutoff_merging': 126, 'cutoff_slim': 25}. Best is trial 51 with value: 0.051237528995276366.\n"
     ]
    },
    {
     "name": "stdout",
     "output_type": "stream",
     "text": [
      "Recommender_Base_Class: URM Detected 627 ( 4.8%) users with no interactions.\n",
      "Recommender_Base_Class: URM Detected 247 ( 1.1%) items with no interactions.\n",
      "EvaluatorHoldout: Processed 10456 (100.0%) in 17.39 sec. Users per second: 601\n"
     ]
    },
    {
     "name": "stderr",
     "output_type": "stream",
     "text": [
      "[I 2023-12-03 17:11:31,964] Trial 55 finished with value: 0.05095541710690967 and parameters: {'cutoff_p3alpha': 967, 'cutoff_merging': 68, 'cutoff_slim': 19}. Best is trial 51 with value: 0.051237528995276366.\n"
     ]
    },
    {
     "name": "stdout",
     "output_type": "stream",
     "text": [
      "Recommender_Base_Class: URM Detected 627 ( 4.8%) users with no interactions.\n",
      "Recommender_Base_Class: URM Detected 247 ( 1.1%) items with no interactions.\n",
      "EvaluatorHoldout: Processed 10456 (100.0%) in 17.50 sec. Users per second: 597\n"
     ]
    },
    {
     "name": "stderr",
     "output_type": "stream",
     "text": [
      "[I 2023-12-03 17:11:49,606] Trial 56 finished with value: 0.05090432242139453 and parameters: {'cutoff_p3alpha': 1184, 'cutoff_merging': 189, 'cutoff_slim': 32}. Best is trial 51 with value: 0.051237528995276366.\n"
     ]
    },
    {
     "name": "stdout",
     "output_type": "stream",
     "text": [
      "Recommender_Base_Class: URM Detected 627 ( 4.8%) users with no interactions.\n",
      "Recommender_Base_Class: URM Detected 247 ( 1.1%) items with no interactions.\n",
      "EvaluatorHoldout: Processed 10456 (100.0%) in 17.51 sec. Users per second: 597\n"
     ]
    },
    {
     "name": "stderr",
     "output_type": "stream",
     "text": [
      "[I 2023-12-03 17:12:07,251] Trial 57 finished with value: 0.05089908885002668 and parameters: {'cutoff_p3alpha': 1482, 'cutoff_merging': 293, 'cutoff_slim': 62}. Best is trial 51 with value: 0.051237528995276366.\n"
     ]
    },
    {
     "name": "stdout",
     "output_type": "stream",
     "text": [
      "Recommender_Base_Class: URM Detected 627 ( 4.8%) users with no interactions.\n",
      "Recommender_Base_Class: URM Detected 247 ( 1.1%) items with no interactions.\n",
      "EvaluatorHoldout: Processed 10456 (100.0%) in 17.31 sec. Users per second: 604\n"
     ]
    },
    {
     "name": "stderr",
     "output_type": "stream",
     "text": [
      "[I 2023-12-03 17:12:24,698] Trial 58 finished with value: 0.050987190464046456 and parameters: {'cutoff_p3alpha': 886, 'cutoff_merging': 45, 'cutoff_slim': 13}. Best is trial 51 with value: 0.051237528995276366.\n"
     ]
    },
    {
     "name": "stdout",
     "output_type": "stream",
     "text": [
      "Recommender_Base_Class: URM Detected 627 ( 4.8%) users with no interactions.\n",
      "Recommender_Base_Class: URM Detected 247 ( 1.1%) items with no interactions.\n",
      "EvaluatorHoldout: Processed 10456 (100.0%) in 17.29 sec. Users per second: 605\n"
     ]
    },
    {
     "name": "stderr",
     "output_type": "stream",
     "text": [
      "[I 2023-12-03 17:12:42,123] Trial 59 finished with value: 0.05093020563874678 and parameters: {'cutoff_p3alpha': 627, 'cutoff_merging': 81, 'cutoff_slim': 21}. Best is trial 51 with value: 0.051237528995276366.\n"
     ]
    },
    {
     "name": "stdout",
     "output_type": "stream",
     "text": [
      "Recommender_Base_Class: URM Detected 627 ( 4.8%) users with no interactions.\n",
      "Recommender_Base_Class: URM Detected 247 ( 1.1%) items with no interactions.\n",
      "EvaluatorHoldout: Processed 10456 (100.0%) in 17.48 sec. Users per second: 598\n"
     ]
    },
    {
     "name": "stderr",
     "output_type": "stream",
     "text": [
      "[I 2023-12-03 17:12:59,742] Trial 60 finished with value: 0.050899009150970315 and parameters: {'cutoff_p3alpha': 1315, 'cutoff_merging': 242, 'cutoff_slim': 40}. Best is trial 51 with value: 0.051237528995276366.\n"
     ]
    },
    {
     "name": "stdout",
     "output_type": "stream",
     "text": [
      "Recommender_Base_Class: URM Detected 627 ( 4.8%) users with no interactions.\n",
      "Recommender_Base_Class: URM Detected 247 ( 1.1%) items with no interactions.\n",
      "EvaluatorHoldout: Processed 10456 (100.0%) in 17.50 sec. Users per second: 597\n"
     ]
    },
    {
     "name": "stderr",
     "output_type": "stream",
     "text": [
      "[I 2023-12-03 17:13:17,388] Trial 61 finished with value: 0.05090347609331981 and parameters: {'cutoff_p3alpha': 1395, 'cutoff_merging': 144, 'cutoff_slim': 28}. Best is trial 51 with value: 0.051237528995276366.\n"
     ]
    },
    {
     "name": "stdout",
     "output_type": "stream",
     "text": [
      "Recommender_Base_Class: URM Detected 627 ( 4.8%) users with no interactions.\n",
      "Recommender_Base_Class: URM Detected 247 ( 1.1%) items with no interactions.\n",
      "EvaluatorHoldout: Processed 10456 (100.0%) in 17.32 sec. Users per second: 604\n"
     ]
    },
    {
     "name": "stderr",
     "output_type": "stream",
     "text": [
      "[I 2023-12-03 17:13:34,841] Trial 62 finished with value: 0.05105898413305709 and parameters: {'cutoff_p3alpha': 1237, 'cutoff_merging': 12, 'cutoff_slim': 11}. Best is trial 51 with value: 0.051237528995276366.\n"
     ]
    },
    {
     "name": "stdout",
     "output_type": "stream",
     "text": [
      "Recommender_Base_Class: URM Detected 627 ( 4.8%) users with no interactions.\n",
      "Recommender_Base_Class: URM Detected 247 ( 1.1%) items with no interactions.\n",
      "EvaluatorHoldout: Processed 10456 (100.0%) in 17.82 sec. Users per second: 587\n"
     ]
    },
    {
     "name": "stderr",
     "output_type": "stream",
     "text": [
      "[I 2023-12-03 17:13:52,788] Trial 63 finished with value: 0.05089098990782291 and parameters: {'cutoff_p3alpha': 1543, 'cutoff_merging': 1190, 'cutoff_slim': 192}. Best is trial 51 with value: 0.051237528995276366.\n"
     ]
    },
    {
     "name": "stdout",
     "output_type": "stream",
     "text": [
      "Recommender_Base_Class: URM Detected 627 ( 4.8%) users with no interactions.\n",
      "Recommender_Base_Class: URM Detected 247 ( 1.1%) items with no interactions.\n",
      "EvaluatorHoldout: Processed 10456 (100.0%) in 17.36 sec. Users per second: 602\n"
     ]
    },
    {
     "name": "stderr",
     "output_type": "stream",
     "text": [
      "[I 2023-12-03 17:14:10,289] Trial 64 finished with value: 0.05091790162252155 and parameters: {'cutoff_p3alpha': 1058, 'cutoff_merging': 103, 'cutoff_slim': 19}. Best is trial 51 with value: 0.051237528995276366.\n"
     ]
    },
    {
     "name": "stdout",
     "output_type": "stream",
     "text": [
      "Recommender_Base_Class: URM Detected 627 ( 4.8%) users with no interactions.\n",
      "Recommender_Base_Class: URM Detected 247 ( 1.1%) items with no interactions.\n",
      "EvaluatorHoldout: Processed 10456 (100.0%) in 17.59 sec. Users per second: 594\n"
     ]
    },
    {
     "name": "stderr",
     "output_type": "stream",
     "text": [
      "[I 2023-12-03 17:14:28,021] Trial 65 finished with value: 0.050896766191812666 and parameters: {'cutoff_p3alpha': 1628, 'cutoff_merging': 358, 'cutoff_slim': 53}. Best is trial 51 with value: 0.051237528995276366.\n"
     ]
    },
    {
     "name": "stdout",
     "output_type": "stream",
     "text": [
      "Recommender_Base_Class: URM Detected 627 ( 4.8%) users with no interactions.\n",
      "Recommender_Base_Class: URM Detected 247 ( 1.1%) items with no interactions.\n",
      "EvaluatorHoldout: Processed 10456 (100.0%) in 17.37 sec. Users per second: 602\n"
     ]
    },
    {
     "name": "stderr",
     "output_type": "stream",
     "text": [
      "[I 2023-12-03 17:14:45,530] Trial 66 finished with value: 0.05097207041449641 and parameters: {'cutoff_p3alpha': 1145, 'cutoff_merging': 47, 'cutoff_slim': 12}. Best is trial 51 with value: 0.051237528995276366.\n"
     ]
    },
    {
     "name": "stdout",
     "output_type": "stream",
     "text": [
      "Recommender_Base_Class: URM Detected 627 ( 4.8%) users with no interactions.\n",
      "Recommender_Base_Class: URM Detected 247 ( 1.1%) items with no interactions.\n",
      "EvaluatorHoldout: Processed 10456 (100.0%) in 17.46 sec. Users per second: 599\n"
     ]
    },
    {
     "name": "stderr",
     "output_type": "stream",
     "text": [
      "[I 2023-12-03 17:15:03,133] Trial 67 finished with value: 0.050904151637702316 and parameters: {'cutoff_p3alpha': 1350, 'cutoff_merging': 210, 'cutoff_slim': 33}. Best is trial 51 with value: 0.051237528995276366.\n"
     ]
    },
    {
     "name": "stdout",
     "output_type": "stream",
     "text": [
      "Recommender_Base_Class: URM Detected 627 ( 4.8%) users with no interactions.\n",
      "Recommender_Base_Class: URM Detected 247 ( 1.1%) items with no interactions.\n",
      "EvaluatorHoldout: Processed 10456 (100.0%) in 17.70 sec. Users per second: 591\n"
     ]
    },
    {
     "name": "stderr",
     "output_type": "stream",
     "text": [
      "[I 2023-12-03 17:15:20,974] Trial 68 finished with value: 0.050895426488627125 and parameters: {'cutoff_p3alpha': 1473, 'cutoff_merging': 685, 'cutoff_slim': 150}. Best is trial 51 with value: 0.051237528995276366.\n"
     ]
    },
    {
     "name": "stdout",
     "output_type": "stream",
     "text": [
      "Recommender_Base_Class: URM Detected 627 ( 4.8%) users with no interactions.\n",
      "Recommender_Base_Class: URM Detected 247 ( 1.1%) items with no interactions.\n",
      "EvaluatorHoldout: Processed 10456 (100.0%) in 17.51 sec. Users per second: 597\n"
     ]
    },
    {
     "name": "stderr",
     "output_type": "stream",
     "text": [
      "[I 2023-12-03 17:15:38,630] Trial 69 finished with value: 0.050905001760970195 and parameters: {'cutoff_p3alpha': 1431, 'cutoff_merging': 158, 'cutoff_slim': 26}. Best is trial 51 with value: 0.051237528995276366.\n"
     ]
    },
    {
     "name": "stdout",
     "output_type": "stream",
     "text": [
      "Recommender_Base_Class: URM Detected 627 ( 4.8%) users with no interactions.\n",
      "Recommender_Base_Class: URM Detected 247 ( 1.1%) items with no interactions.\n",
      "EvaluatorHoldout: Processed 10456 (100.0%) in 17.32 sec. Users per second: 604\n"
     ]
    },
    {
     "name": "stderr",
     "output_type": "stream",
     "text": [
      "[I 2023-12-03 17:15:56,094] Trial 70 finished with value: 0.05090858821850655 and parameters: {'cutoff_p3alpha': 1287, 'cutoff_merging': 108, 'cutoff_slim': 17}. Best is trial 51 with value: 0.051237528995276366.\n"
     ]
    },
    {
     "name": "stdout",
     "output_type": "stream",
     "text": [
      "Recommender_Base_Class: URM Detected 627 ( 4.8%) users with no interactions.\n",
      "Recommender_Base_Class: URM Detected 247 ( 1.1%) items with no interactions.\n",
      "EvaluatorHoldout: Processed 10456 (100.0%) in 17.34 sec. Users per second: 603\n"
     ]
    },
    {
     "name": "stderr",
     "output_type": "stream",
     "text": [
      "[I 2023-12-03 17:16:13,574] Trial 71 finished with value: 0.051177306870211055 and parameters: {'cutoff_p3alpha': 1190, 'cutoff_merging': 18, 'cutoff_slim': 11}. Best is trial 51 with value: 0.051237528995276366.\n"
     ]
    },
    {
     "name": "stdout",
     "output_type": "stream",
     "text": [
      "Recommender_Base_Class: URM Detected 627 ( 4.8%) users with no interactions.\n",
      "Recommender_Base_Class: URM Detected 247 ( 1.1%) items with no interactions.\n",
      "EvaluatorHoldout: Processed 10456 (100.0%) in 17.26 sec. Users per second: 606\n"
     ]
    },
    {
     "name": "stderr",
     "output_type": "stream",
     "text": [
      "[I 2023-12-03 17:16:30,972] Trial 72 finished with value: 0.051150042202548485 and parameters: {'cutoff_p3alpha': 1103, 'cutoff_merging': 13, 'cutoff_slim': 11}. Best is trial 51 with value: 0.051237528995276366.\n"
     ]
    },
    {
     "name": "stdout",
     "output_type": "stream",
     "text": [
      "Recommender_Base_Class: URM Detected 627 ( 4.8%) users with no interactions.\n",
      "Recommender_Base_Class: URM Detected 247 ( 1.1%) items with no interactions.\n",
      "EvaluatorHoldout: Processed 10456 (100.0%) in 17.37 sec. Users per second: 602\n"
     ]
    },
    {
     "name": "stderr",
     "output_type": "stream",
     "text": [
      "[I 2023-12-03 17:16:48,480] Trial 73 finished with value: 0.05099123993514835 and parameters: {'cutoff_p3alpha': 1003, 'cutoff_merging': 44, 'cutoff_slim': 14}. Best is trial 51 with value: 0.051237528995276366.\n"
     ]
    },
    {
     "name": "stdout",
     "output_type": "stream",
     "text": [
      "Recommender_Base_Class: URM Detected 627 ( 4.8%) users with no interactions.\n",
      "Recommender_Base_Class: URM Detected 247 ( 1.1%) items with no interactions.\n",
      "EvaluatorHoldout: Processed 10456 (100.0%) in 17.31 sec. Users per second: 604\n"
     ]
    },
    {
     "name": "stderr",
     "output_type": "stream",
     "text": [
      "[I 2023-12-03 17:17:05,934] Trial 74 finished with value: 0.05110464789715996 and parameters: {'cutoff_p3alpha': 1109, 'cutoff_merging': 11, 'cutoff_slim': 10}. Best is trial 51 with value: 0.051237528995276366.\n"
     ]
    },
    {
     "name": "stdout",
     "output_type": "stream",
     "text": [
      "Recommender_Base_Class: URM Detected 627 ( 4.8%) users with no interactions.\n",
      "Recommender_Base_Class: URM Detected 247 ( 1.1%) items with no interactions.\n",
      "EvaluatorHoldout: Processed 10456 (100.0%) in 17.34 sec. Users per second: 603\n"
     ]
    },
    {
     "name": "stderr",
     "output_type": "stream",
     "text": [
      "[I 2023-12-03 17:17:23,422] Trial 75 finished with value: 0.05092419025758794 and parameters: {'cutoff_p3alpha': 1174, 'cutoff_merging': 86, 'cutoff_slim': 22}. Best is trial 51 with value: 0.051237528995276366.\n"
     ]
    },
    {
     "name": "stdout",
     "output_type": "stream",
     "text": [
      "Recommender_Base_Class: URM Detected 627 ( 4.8%) users with no interactions.\n",
      "Recommender_Base_Class: URM Detected 247 ( 1.1%) items with no interactions.\n",
      "EvaluatorHoldout: Processed 10456 (100.0%) in 17.27 sec. Users per second: 605\n"
     ]
    },
    {
     "name": "stderr",
     "output_type": "stream",
     "text": [
      "[I 2023-12-03 17:17:40,833] Trial 76 finished with value: 0.05095274149573175 and parameters: {'cutoff_p3alpha': 1022, 'cutoff_merging': 62, 'cutoff_slim': 15}. Best is trial 51 with value: 0.051237528995276366.\n"
     ]
    },
    {
     "name": "stdout",
     "output_type": "stream",
     "text": [
      "Recommender_Base_Class: URM Detected 627 ( 4.8%) users with no interactions.\n",
      "Recommender_Base_Class: URM Detected 247 ( 1.1%) items with no interactions.\n",
      "EvaluatorHoldout: Processed 10456 (100.0%) in 17.42 sec. Users per second: 600\n"
     ]
    },
    {
     "name": "stderr",
     "output_type": "stream",
     "text": [
      "[I 2023-12-03 17:17:58,397] Trial 77 finished with value: 0.05090205289588476 and parameters: {'cutoff_p3alpha': 1232, 'cutoff_merging': 126, 'cutoff_slim': 21}. Best is trial 51 with value: 0.051237528995276366.\n"
     ]
    },
    {
     "name": "stdout",
     "output_type": "stream",
     "text": [
      "Recommender_Base_Class: URM Detected 627 ( 4.8%) users with no interactions.\n",
      "Recommender_Base_Class: URM Detected 247 ( 1.1%) items with no interactions.\n",
      "EvaluatorHoldout: Processed 10456 (100.0%) in 17.34 sec. Users per second: 603\n"
     ]
    },
    {
     "name": "stderr",
     "output_type": "stream",
     "text": [
      "[I 2023-12-03 17:18:15,875] Trial 78 finished with value: 0.0510288540945586 and parameters: {'cutoff_p3alpha': 866, 'cutoff_merging': 39, 'cutoff_slim': 12}. Best is trial 51 with value: 0.051237528995276366.\n"
     ]
    },
    {
     "name": "stdout",
     "output_type": "stream",
     "text": [
      "Recommender_Base_Class: URM Detected 627 ( 4.8%) users with no interactions.\n",
      "Recommender_Base_Class: URM Detected 247 ( 1.1%) items with no interactions.\n",
      "EvaluatorHoldout: Processed 10456 (100.0%) in 17.44 sec. Users per second: 600\n"
     ]
    },
    {
     "name": "stderr",
     "output_type": "stream",
     "text": [
      "[I 2023-12-03 17:18:33,449] Trial 79 finished with value: 0.050904151637702316 and parameters: {'cutoff_p3alpha': 1324, 'cutoff_merging': 176, 'cutoff_slim': 36}. Best is trial 51 with value: 0.051237528995276366.\n"
     ]
    },
    {
     "name": "stdout",
     "output_type": "stream",
     "text": [
      "Recommender_Base_Class: URM Detected 627 ( 4.8%) users with no interactions.\n",
      "Recommender_Base_Class: URM Detected 247 ( 1.1%) items with no interactions.\n",
      "EvaluatorHoldout: Processed 10456 (100.0%) in 17.40 sec. Users per second: 601\n"
     ]
    },
    {
     "name": "stderr",
     "output_type": "stream",
     "text": [
      "[I 2023-12-03 17:18:50,986] Trial 80 finished with value: 0.05092674062739156 and parameters: {'cutoff_p3alpha': 1075, 'cutoff_merging': 90, 'cutoff_slim': 17}. Best is trial 51 with value: 0.051237528995276366.\n"
     ]
    },
    {
     "name": "stdout",
     "output_type": "stream",
     "text": [
      "Recommender_Base_Class: URM Detected 627 ( 4.8%) users with no interactions.\n",
      "Recommender_Base_Class: URM Detected 247 ( 1.1%) items with no interactions.\n",
      "EvaluatorHoldout: Processed 10456 (100.0%) in 17.38 sec. Users per second: 602\n"
     ]
    },
    {
     "name": "stderr",
     "output_type": "stream",
     "text": [
      "[I 2023-12-03 17:19:08,499] Trial 81 finished with value: 0.05106057811418435 and parameters: {'cutoff_p3alpha': 1531, 'cutoff_merging': 12, 'cutoff_slim': 11}. Best is trial 51 with value: 0.051237528995276366.\n"
     ]
    },
    {
     "name": "stdout",
     "output_type": "stream",
     "text": [
      "Recommender_Base_Class: URM Detected 627 ( 4.8%) users with no interactions.\n",
      "Recommender_Base_Class: URM Detected 247 ( 1.1%) items with no interactions.\n",
      "EvaluatorHoldout: Processed 10456 (100.0%) in 17.38 sec. Users per second: 602\n"
     ]
    },
    {
     "name": "stderr",
     "output_type": "stream",
     "text": [
      "[I 2023-12-03 17:19:26,025] Trial 82 finished with value: 0.050942946102185395 and parameters: {'cutoff_p3alpha': 1268, 'cutoff_merging': 72, 'cutoff_slim': 14}. Best is trial 51 with value: 0.051237528995276366.\n"
     ]
    },
    {
     "name": "stdout",
     "output_type": "stream",
     "text": [
      "Recommender_Base_Class: URM Detected 627 ( 4.8%) users with no interactions.\n",
      "Recommender_Base_Class: URM Detected 247 ( 1.1%) items with no interactions.\n",
      "EvaluatorHoldout: Processed 10456 (100.0%) in 17.37 sec. Users per second: 602\n"
     ]
    },
    {
     "name": "stderr",
     "output_type": "stream",
     "text": [
      "[I 2023-12-03 17:19:43,547] Trial 83 finished with value: 0.05093713566145721 and parameters: {'cutoff_p3alpha': 1184, 'cutoff_merging': 34, 'cutoff_slim': 11}. Best is trial 51 with value: 0.051237528995276366.\n"
     ]
    },
    {
     "name": "stdout",
     "output_type": "stream",
     "text": [
      "Recommender_Base_Class: URM Detected 627 ( 4.8%) users with no interactions.\n",
      "Recommender_Base_Class: URM Detected 247 ( 1.1%) items with no interactions.\n",
      "EvaluatorHoldout: Processed 10456 (100.0%) in 17.53 sec. Users per second: 597\n"
     ]
    },
    {
     "name": "stderr",
     "output_type": "stream",
     "text": [
      "[I 2023-12-03 17:20:01,211] Trial 84 finished with value: 0.05090188211219255 and parameters: {'cutoff_p3alpha': 1371, 'cutoff_merging': 140, 'cutoff_slim': 23}. Best is trial 51 with value: 0.051237528995276366.\n"
     ]
    },
    {
     "name": "stdout",
     "output_type": "stream",
     "text": [
      "Recommender_Base_Class: URM Detected 627 ( 4.8%) users with no interactions.\n",
      "Recommender_Base_Class: URM Detected 247 ( 1.1%) items with no interactions.\n",
      "EvaluatorHoldout: Processed 10456 (100.0%) in 17.45 sec. Users per second: 599\n"
     ]
    },
    {
     "name": "stderr",
     "output_type": "stream",
     "text": [
      "[I 2023-12-03 17:20:18,807] Trial 85 finished with value: 0.05091161678264834 and parameters: {'cutoff_p3alpha': 1107, 'cutoff_merging': 111, 'cutoff_slim': 17}. Best is trial 51 with value: 0.051237528995276366.\n"
     ]
    },
    {
     "name": "stdout",
     "output_type": "stream",
     "text": [
      "Recommender_Base_Class: URM Detected 627 ( 4.8%) users with no interactions.\n",
      "Recommender_Base_Class: URM Detected 247 ( 1.1%) items with no interactions.\n",
      "EvaluatorHoldout: Processed 10456 (100.0%) in 17.66 sec. Users per second: 592\n"
     ]
    },
    {
     "name": "stderr",
     "output_type": "stream",
     "text": [
      "[I 2023-12-03 17:20:36,609] Trial 86 finished with value: 0.05089519877703752 and parameters: {'cutoff_p3alpha': 1408, 'cutoff_merging': 900, 'cutoff_slim': 90}. Best is trial 51 with value: 0.051237528995276366.\n"
     ]
    },
    {
     "name": "stdout",
     "output_type": "stream",
     "text": [
      "Recommender_Base_Class: URM Detected 627 ( 4.8%) users with no interactions.\n",
      "Recommender_Base_Class: URM Detected 247 ( 1.1%) items with no interactions.\n",
      "EvaluatorHoldout: Processed 10456 (100.0%) in 17.39 sec. Users per second: 601\n"
     ]
    },
    {
     "name": "stderr",
     "output_type": "stream",
     "text": [
      "[I 2023-12-03 17:20:54,139] Trial 87 finished with value: 0.05095033154807506 and parameters: {'cutoff_p3alpha': 1334, 'cutoff_merging': 71, 'cutoff_slim': 13}. Best is trial 51 with value: 0.051237528995276366.\n"
     ]
    },
    {
     "name": "stdout",
     "output_type": "stream",
     "text": [
      "Recommender_Base_Class: URM Detected 627 ( 4.8%) users with no interactions.\n",
      "Recommender_Base_Class: URM Detected 247 ( 1.1%) items with no interactions.\n",
      "EvaluatorHoldout: Processed 10456 (100.0%) in 17.46 sec. Users per second: 599\n"
     ]
    },
    {
     "name": "stderr",
     "output_type": "stream",
     "text": [
      "[I 2023-12-03 17:21:11,749] Trial 88 finished with value: 0.050904151637702316 and parameters: {'cutoff_p3alpha': 1461, 'cutoff_merging': 184, 'cutoff_slim': 29}. Best is trial 51 with value: 0.051237528995276366.\n"
     ]
    },
    {
     "name": "stdout",
     "output_type": "stream",
     "text": [
      "Recommender_Base_Class: URM Detected 627 ( 4.8%) users with no interactions.\n",
      "Recommender_Base_Class: URM Detected 247 ( 1.1%) items with no interactions.\n",
      "EvaluatorHoldout: Processed 10456 (100.0%) in 17.34 sec. Users per second: 603\n"
     ]
    },
    {
     "name": "stderr",
     "output_type": "stream",
     "text": [
      "[I 2023-12-03 17:21:29,234] Trial 89 finished with value: 0.051150042202548485 and parameters: {'cutoff_p3alpha': 1231, 'cutoff_merging': 13, 'cutoff_slim': 11}. Best is trial 51 with value: 0.051237528995276366.\n"
     ]
    },
    {
     "name": "stdout",
     "output_type": "stream",
     "text": [
      "Recommender_Base_Class: URM Detected 627 ( 4.8%) users with no interactions.\n",
      "Recommender_Base_Class: URM Detected 247 ( 1.1%) items with no interactions.\n",
      "EvaluatorHoldout: Processed 10456 (100.0%) in 17.34 sec. Users per second: 603\n"
     ]
    },
    {
     "name": "stderr",
     "output_type": "stream",
     "text": [
      "[I 2023-12-03 17:21:46,723] Trial 90 finished with value: 0.05100975288738356 and parameters: {'cutoff_p3alpha': 1207, 'cutoff_merging': 42, 'cutoff_slim': 10}. Best is trial 51 with value: 0.051237528995276366.\n"
     ]
    },
    {
     "name": "stdout",
     "output_type": "stream",
     "text": [
      "Recommender_Base_Class: URM Detected 627 ( 4.8%) users with no interactions.\n",
      "Recommender_Base_Class: URM Detected 247 ( 1.1%) items with no interactions.\n",
      "EvaluatorHoldout: Processed 10456 (100.0%) in 17.36 sec. Users per second: 602\n"
     ]
    },
    {
     "name": "stderr",
     "output_type": "stream",
     "text": [
      "[I 2023-12-03 17:22:04,233] Trial 91 finished with value: 0.051237528995276366 and parameters: {'cutoff_p3alpha': 1261, 'cutoff_merging': 14, 'cutoff_slim': 11}. Best is trial 51 with value: 0.051237528995276366.\n"
     ]
    },
    {
     "name": "stdout",
     "output_type": "stream",
     "text": [
      "Recommender_Base_Class: URM Detected 627 ( 4.8%) users with no interactions.\n",
      "Recommender_Base_Class: URM Detected 247 ( 1.1%) items with no interactions.\n",
      "EvaluatorHoldout: Processed 10456 (100.0%) in 17.42 sec. Users per second: 600\n"
     ]
    },
    {
     "name": "stderr",
     "output_type": "stream",
     "text": [
      "[I 2023-12-03 17:22:21,797] Trial 92 finished with value: 0.050979398932488665 and parameters: {'cutoff_p3alpha': 1167, 'cutoff_merging': 35, 'cutoff_slim': 12}. Best is trial 51 with value: 0.051237528995276366.\n"
     ]
    },
    {
     "name": "stdout",
     "output_type": "stream",
     "text": [
      "Recommender_Base_Class: URM Detected 627 ( 4.8%) users with no interactions.\n",
      "Recommender_Base_Class: URM Detected 247 ( 1.1%) items with no interactions.\n",
      "EvaluatorHoldout: Processed 10456 (100.0%) in 17.45 sec. Users per second: 599\n"
     ]
    },
    {
     "name": "stderr",
     "output_type": "stream",
     "text": [
      "[I 2023-12-03 17:22:39,392] Trial 93 finished with value: 0.05094922714686546 and parameters: {'cutoff_p3alpha': 1258, 'cutoff_merging': 70, 'cutoff_slim': 15}. Best is trial 51 with value: 0.051237528995276366.\n"
     ]
    },
    {
     "name": "stdout",
     "output_type": "stream",
     "text": [
      "Recommender_Base_Class: URM Detected 627 ( 4.8%) users with no interactions.\n",
      "Recommender_Base_Class: URM Detected 247 ( 1.1%) items with no interactions.\n",
      "EvaluatorHoldout: Processed 10456 (100.0%) in 17.27 sec. Users per second: 605\n"
     ]
    },
    {
     "name": "stderr",
     "output_type": "stream",
     "text": [
      "[I 2023-12-03 17:22:56,804] Trial 94 finished with value: 0.05100675847998018 and parameters: {'cutoff_p3alpha': 977, 'cutoff_merging': 26, 'cutoff_slim': 11}. Best is trial 51 with value: 0.051237528995276366.\n"
     ]
    },
    {
     "name": "stdout",
     "output_type": "stream",
     "text": [
      "Recommender_Base_Class: URM Detected 627 ( 4.8%) users with no interactions.\n",
      "Recommender_Base_Class: URM Detected 247 ( 1.1%) items with no interactions.\n",
      "EvaluatorHoldout: Processed 10456 (100.0%) in 17.37 sec. Users per second: 602\n"
     ]
    },
    {
     "name": "stderr",
     "output_type": "stream",
     "text": [
      "[I 2023-12-03 17:23:14,329] Trial 95 finished with value: 0.05095695795533267 and parameters: {'cutoff_p3alpha': 1042, 'cutoff_merging': 56, 'cutoff_slim': 13}. Best is trial 51 with value: 0.051237528995276366.\n"
     ]
    },
    {
     "name": "stdout",
     "output_type": "stream",
     "text": [
      "Recommender_Base_Class: URM Detected 627 ( 4.8%) users with no interactions.\n",
      "Recommender_Base_Class: URM Detected 247 ( 1.1%) items with no interactions.\n",
      "EvaluatorHoldout: Processed 10456 (100.0%) in 17.63 sec. Users per second: 593\n"
     ]
    },
    {
     "name": "stderr",
     "output_type": "stream",
     "text": [
      "[I 2023-12-03 17:23:32,102] Trial 96 finished with value: 0.050894451123984975 and parameters: {'cutoff_p3alpha': 1129, 'cutoff_merging': 511, 'cutoff_slim': 67}. Best is trial 51 with value: 0.051237528995276366.\n"
     ]
    },
    {
     "name": "stdout",
     "output_type": "stream",
     "text": [
      "Recommender_Base_Class: URM Detected 627 ( 4.8%) users with no interactions.\n",
      "Recommender_Base_Class: URM Detected 247 ( 1.1%) items with no interactions.\n",
      "EvaluatorHoldout: Processed 10456 (100.0%) in 17.42 sec. Users per second: 600\n"
     ]
    },
    {
     "name": "stderr",
     "output_type": "stream",
     "text": [
      "[I 2023-12-03 17:23:49,667] Trial 97 finished with value: 0.05090667544115383 and parameters: {'cutoff_p3alpha': 1225, 'cutoff_merging': 120, 'cutoff_slim': 19}. Best is trial 51 with value: 0.051237528995276366.\n"
     ]
    },
    {
     "name": "stdout",
     "output_type": "stream",
     "text": [
      "Recommender_Base_Class: URM Detected 627 ( 4.8%) users with no interactions.\n",
      "Recommender_Base_Class: URM Detected 247 ( 1.1%) items with no interactions.\n",
      "EvaluatorHoldout: Processed 10456 (100.0%) in 17.49 sec. Users per second: 598\n"
     ]
    },
    {
     "name": "stderr",
     "output_type": "stream",
     "text": [
      "[I 2023-12-03 17:24:07,297] Trial 98 finished with value: 0.050923632364193394 and parameters: {'cutoff_p3alpha': 1283, 'cutoff_merging': 86, 'cutoff_slim': 16}. Best is trial 51 with value: 0.051237528995276366.\n"
     ]
    },
    {
     "name": "stdout",
     "output_type": "stream",
     "text": [
      "Recommender_Base_Class: URM Detected 627 ( 4.8%) users with no interactions.\n",
      "Recommender_Base_Class: URM Detected 247 ( 1.1%) items with no interactions.\n",
      "EvaluatorHoldout: Processed 10456 (100.0%) in 17.43 sec. Users per second: 600\n"
     ]
    },
    {
     "name": "stderr",
     "output_type": "stream",
     "text": [
      "[I 2023-12-03 17:24:24,875] Trial 99 finished with value: 0.05090532055719565 and parameters: {'cutoff_p3alpha': 1364, 'cutoff_merging': 156, 'cutoff_slim': 26}. Best is trial 51 with value: 0.051237528995276366.\n"
     ]
    },
    {
     "name": "stdout",
     "output_type": "stream",
     "text": [
      "Recommender_Base_Class: URM Detected 627 ( 4.8%) users with no interactions.\n",
      "Recommender_Base_Class: URM Detected 247 ( 1.1%) items with no interactions.\n",
      "EvaluatorHoldout: Processed 10456 (100.0%) in 17.29 sec. Users per second: 605\n"
     ]
    },
    {
     "name": "stderr",
     "output_type": "stream",
     "text": [
      "[I 2023-12-03 17:24:42,304] Trial 100 finished with value: 0.05106057811418435 and parameters: {'cutoff_p3alpha': 1096, 'cutoff_merging': 12, 'cutoff_slim': 11}. Best is trial 51 with value: 0.051237528995276366.\n"
     ]
    },
    {
     "name": "stdout",
     "output_type": "stream",
     "text": [
      "Recommender_Base_Class: URM Detected 627 ( 4.8%) users with no interactions.\n",
      "Recommender_Base_Class: URM Detected 247 ( 1.1%) items with no interactions.\n",
      "EvaluatorHoldout: Processed 10456 (100.0%) in 17.46 sec. Users per second: 599\n"
     ]
    },
    {
     "name": "stderr",
     "output_type": "stream",
     "text": [
      "[I 2023-12-03 17:24:59,917] Trial 101 finished with value: 0.050925264297252255 and parameters: {'cutoff_p3alpha': 1309, 'cutoff_merging': 95, 'cutoff_slim': 18}. Best is trial 51 with value: 0.051237528995276366.\n"
     ]
    },
    {
     "name": "stdout",
     "output_type": "stream",
     "text": [
      "Recommender_Base_Class: URM Detected 627 ( 4.8%) users with no interactions.\n",
      "Recommender_Base_Class: URM Detected 247 ( 1.1%) items with no interactions.\n",
      "EvaluatorHoldout: Processed 10456 (100.0%) in 17.37 sec. Users per second: 602\n"
     ]
    },
    {
     "name": "stderr",
     "output_type": "stream",
     "text": [
      "[I 2023-12-03 17:25:17,431] Trial 102 finished with value: 0.05090347609331981 and parameters: {'cutoff_p3alpha': 1427, 'cutoff_merging': 124, 'cutoff_slim': 20}. Best is trial 51 with value: 0.051237528995276366.\n"
     ]
    },
    {
     "name": "stdout",
     "output_type": "stream",
     "text": [
      "Recommender_Base_Class: URM Detected 627 ( 4.8%) users with no interactions.\n",
      "Recommender_Base_Class: URM Detected 247 ( 1.1%) items with no interactions.\n",
      "EvaluatorHoldout: Processed 10456 (100.0%) in 17.55 sec. Users per second: 596\n"
     ]
    },
    {
     "name": "stderr",
     "output_type": "stream",
     "text": [
      "[I 2023-12-03 17:25:35,125] Trial 103 finished with value: 0.05090060313209758 and parameters: {'cutoff_p3alpha': 1623, 'cutoff_merging': 220, 'cutoff_slim': 32}. Best is trial 51 with value: 0.051237528995276366.\n"
     ]
    },
    {
     "name": "stdout",
     "output_type": "stream",
     "text": [
      "Recommender_Base_Class: URM Detected 627 ( 4.8%) users with no interactions.\n",
      "Recommender_Base_Class: URM Detected 247 ( 1.1%) items with no interactions.\n",
      "EvaluatorHoldout: Processed 10456 (100.0%) in 17.49 sec. Users per second: 598\n"
     ]
    },
    {
     "name": "stderr",
     "output_type": "stream",
     "text": [
      "[I 2023-12-03 17:25:52,758] Trial 104 finished with value: 0.05090004523870304 and parameters: {'cutoff_p3alpha': 1517, 'cutoff_merging': 269, 'cutoff_slim': 47}. Best is trial 51 with value: 0.051237528995276366.\n"
     ]
    },
    {
     "name": "stdout",
     "output_type": "stream",
     "text": [
      "Recommender_Base_Class: URM Detected 627 ( 4.8%) users with no interactions.\n",
      "Recommender_Base_Class: URM Detected 247 ( 1.1%) items with no interactions.\n",
      "EvaluatorHoldout: Processed 10456 (100.0%) in 17.35 sec. Users per second: 602\n"
     ]
    },
    {
     "name": "stderr",
     "output_type": "stream",
     "text": [
      "[I 2023-12-03 17:26:10,258] Trial 105 finished with value: 0.050948752747720434 and parameters: {'cutoff_p3alpha': 1165, 'cutoff_merging': 33, 'cutoff_slim': 10}. Best is trial 51 with value: 0.051237528995276366.\n"
     ]
    },
    {
     "name": "stdout",
     "output_type": "stream",
     "text": [
      "Recommender_Base_Class: URM Detected 627 ( 4.8%) users with no interactions.\n",
      "Recommender_Base_Class: URM Detected 247 ( 1.1%) items with no interactions.\n",
      "EvaluatorHoldout: Processed 10456 (100.0%) in 17.37 sec. Users per second: 602\n"
     ]
    },
    {
     "name": "stderr",
     "output_type": "stream",
     "text": [
      "[I 2023-12-03 17:26:27,777] Trial 106 finished with value: 0.050962540684471265 and parameters: {'cutoff_p3alpha': 1223, 'cutoff_merging': 57, 'cutoff_slim': 14}. Best is trial 51 with value: 0.051237528995276366.\n"
     ]
    },
    {
     "name": "stdout",
     "output_type": "stream",
     "text": [
      "Recommender_Base_Class: URM Detected 627 ( 4.8%) users with no interactions.\n",
      "Recommender_Base_Class: URM Detected 247 ( 1.1%) items with no interactions.\n",
      "EvaluatorHoldout: Processed 10456 (100.0%) in 17.43 sec. Users per second: 600\n"
     ]
    },
    {
     "name": "stderr",
     "output_type": "stream",
     "text": [
      "[I 2023-12-03 17:26:45,355] Trial 107 finished with value: 0.05091571179606814 and parameters: {'cutoff_p3alpha': 1380, 'cutoff_merging': 102, 'cutoff_slim': 15}. Best is trial 51 with value: 0.051237528995276366.\n"
     ]
    },
    {
     "name": "stdout",
     "output_type": "stream",
     "text": [
      "Recommender_Base_Class: URM Detected 627 ( 4.8%) users with no interactions.\n",
      "Recommender_Base_Class: URM Detected 247 ( 1.1%) items with no interactions.\n",
      "EvaluatorHoldout: Processed 10456 (100.0%) in 17.37 sec. Users per second: 602\n"
     ]
    },
    {
     "name": "stderr",
     "output_type": "stream",
     "text": [
      "[I 2023-12-03 17:27:02,877] Trial 108 finished with value: 0.051150042202548485 and parameters: {'cutoff_p3alpha': 1267, 'cutoff_merging': 13, 'cutoff_slim': 11}. Best is trial 51 with value: 0.051237528995276366.\n"
     ]
    },
    {
     "name": "stdout",
     "output_type": "stream",
     "text": [
      "Recommender_Base_Class: URM Detected 627 ( 4.8%) users with no interactions.\n",
      "Recommender_Base_Class: URM Detected 247 ( 1.1%) items with no interactions.\n",
      "EvaluatorHoldout: Processed 10456 (100.0%) in 17.40 sec. Users per second: 601\n"
     ]
    },
    {
     "name": "stderr",
     "output_type": "stream",
     "text": [
      "[I 2023-12-03 17:27:20,420] Trial 109 finished with value: 0.05095801681422435 and parameters: {'cutoff_p3alpha': 1258, 'cutoff_merging': 55, 'cutoff_slim': 13}. Best is trial 51 with value: 0.051237528995276366.\n"
     ]
    },
    {
     "name": "stdout",
     "output_type": "stream",
     "text": [
      "Recommender_Base_Class: URM Detected 627 ( 4.8%) users with no interactions.\n",
      "Recommender_Base_Class: URM Detected 247 ( 1.1%) items with no interactions.\n",
      "EvaluatorHoldout: Processed 10456 (100.0%) in 17.49 sec. Users per second: 598\n"
     ]
    },
    {
     "name": "stderr",
     "output_type": "stream",
     "text": [
      "[I 2023-12-03 17:27:38,071] Trial 110 finished with value: 0.05090122174858269 and parameters: {'cutoff_p3alpha': 1312, 'cutoff_merging': 145, 'cutoff_slim': 24}. Best is trial 51 with value: 0.051237528995276366.\n"
     ]
    },
    {
     "name": "stdout",
     "output_type": "stream",
     "text": [
      "Recommender_Base_Class: URM Detected 627 ( 4.8%) users with no interactions.\n",
      "Recommender_Base_Class: URM Detected 247 ( 1.1%) items with no interactions.\n",
      "EvaluatorHoldout: Processed 10456 (100.0%) in 17.46 sec. Users per second: 599\n"
     ]
    },
    {
     "name": "stderr",
     "output_type": "stream",
     "text": [
      "[I 2023-12-03 17:27:55,694] Trial 111 finished with value: 0.051237528995276366 and parameters: {'cutoff_p3alpha': 1202, 'cutoff_merging': 14, 'cutoff_slim': 11}. Best is trial 51 with value: 0.051237528995276366.\n"
     ]
    },
    {
     "name": "stdout",
     "output_type": "stream",
     "text": [
      "Recommender_Base_Class: URM Detected 627 ( 4.8%) users with no interactions.\n",
      "Recommender_Base_Class: URM Detected 247 ( 1.1%) items with no interactions.\n",
      "EvaluatorHoldout: Processed 10456 (100.0%) in 17.46 sec. Users per second: 599\n"
     ]
    },
    {
     "name": "stderr",
     "output_type": "stream",
     "text": [
      "[I 2023-12-03 17:28:13,302] Trial 112 finished with value: 0.05110464789715996 and parameters: {'cutoff_p3alpha': 1138, 'cutoff_merging': 11, 'cutoff_slim': 11}. Best is trial 51 with value: 0.051237528995276366.\n"
     ]
    },
    {
     "name": "stdout",
     "output_type": "stream",
     "text": [
      "Recommender_Base_Class: URM Detected 627 ( 4.8%) users with no interactions.\n",
      "Recommender_Base_Class: URM Detected 247 ( 1.1%) items with no interactions.\n",
      "EvaluatorHoldout: Processed 10456 (100.0%) in 17.50 sec. Users per second: 597\n"
     ]
    },
    {
     "name": "stderr",
     "output_type": "stream",
     "text": [
      "[I 2023-12-03 17:28:30,946] Trial 113 finished with value: 0.05097449933811893 and parameters: {'cutoff_p3alpha': 1196, 'cutoff_merging': 32, 'cutoff_slim': 12}. Best is trial 51 with value: 0.051237528995276366.\n"
     ]
    },
    {
     "name": "stdout",
     "output_type": "stream",
     "text": [
      "Recommender_Base_Class: URM Detected 627 ( 4.8%) users with no interactions.\n",
      "Recommender_Base_Class: URM Detected 247 ( 1.1%) items with no interactions.\n",
      "EvaluatorHoldout: Processed 10456 (100.0%) in 17.40 sec. Users per second: 601\n"
     ]
    },
    {
     "name": "stderr",
     "output_type": "stream",
     "text": [
      "[I 2023-12-03 17:28:48,494] Trial 114 finished with value: 0.051008158906256325 and parameters: {'cutoff_p3alpha': 1075, 'cutoff_merging': 30, 'cutoff_slim': 12}. Best is trial 51 with value: 0.051237528995276366.\n"
     ]
    },
    {
     "name": "stdout",
     "output_type": "stream",
     "text": [
      "Recommender_Base_Class: URM Detected 627 ( 4.8%) users with no interactions.\n",
      "Recommender_Base_Class: URM Detected 247 ( 1.1%) items with no interactions.\n",
      "EvaluatorHoldout: Processed 10456 (100.0%) in 17.36 sec. Users per second: 602\n"
     ]
    },
    {
     "name": "stderr",
     "output_type": "stream",
     "text": [
      "[I 2023-12-03 17:29:06,005] Trial 115 finished with value: 0.050927131532287055 and parameters: {'cutoff_p3alpha': 1286, 'cutoff_merging': 82, 'cutoff_slim': 16}. Best is trial 51 with value: 0.051237528995276366.\n"
     ]
    },
    {
     "name": "stdout",
     "output_type": "stream",
     "text": [
      "Recommender_Base_Class: URM Detected 627 ( 4.8%) users with no interactions.\n",
      "Recommender_Base_Class: URM Detected 247 ( 1.1%) items with no interactions.\n",
      "EvaluatorHoldout: Processed 10456 (100.0%) in 17.42 sec. Users per second: 600\n"
     ]
    },
    {
     "name": "stderr",
     "output_type": "stream",
     "text": [
      "[I 2023-12-03 17:29:23,581] Trial 116 finished with value: 0.0509525555312669 and parameters: {'cutoff_p3alpha': 1233, 'cutoff_merging': 64, 'cutoff_slim': 10}. Best is trial 51 with value: 0.051237528995276366.\n"
     ]
    },
    {
     "name": "stdout",
     "output_type": "stream",
     "text": [
      "Recommender_Base_Class: URM Detected 627 ( 4.8%) users with no interactions.\n",
      "Recommender_Base_Class: URM Detected 247 ( 1.1%) items with no interactions.\n",
      "EvaluatorHoldout: Processed 10456 (100.0%) in 17.39 sec. Users per second: 601\n"
     ]
    },
    {
     "name": "stderr",
     "output_type": "stream",
     "text": [
      "[I 2023-12-03 17:29:41,120] Trial 117 finished with value: 0.050969770527441366 and parameters: {'cutoff_p3alpha': 1002, 'cutoff_merging': 46, 'cutoff_slim': 12}. Best is trial 51 with value: 0.051237528995276366.\n"
     ]
    },
    {
     "name": "stdout",
     "output_type": "stream",
     "text": [
      "Recommender_Base_Class: URM Detected 627 ( 4.8%) users with no interactions.\n",
      "Recommender_Base_Class: URM Detected 247 ( 1.1%) items with no interactions.\n",
      "EvaluatorHoldout: Processed 10456 (100.0%) in 17.47 sec. Users per second: 599\n"
     ]
    },
    {
     "name": "stderr",
     "output_type": "stream",
     "text": [
      "[I 2023-12-03 17:29:58,730] Trial 118 finished with value: 0.050915818061476624 and parameters: {'cutoff_p3alpha': 1343, 'cutoff_merging': 103, 'cutoff_slim': 18}. Best is trial 51 with value: 0.051237528995276366.\n"
     ]
    },
    {
     "name": "stdout",
     "output_type": "stream",
     "text": [
      "Recommender_Base_Class: URM Detected 627 ( 4.8%) users with no interactions.\n",
      "Recommender_Base_Class: URM Detected 247 ( 1.1%) items with no interactions.\n",
      "EvaluatorHoldout: Processed 10456 (100.0%) in 17.50 sec. Users per second: 598\n"
     ]
    },
    {
     "name": "stderr",
     "output_type": "stream",
     "text": [
      "[I 2023-12-03 17:30:16,383] Trial 119 finished with value: 0.05093064208596019 and parameters: {'cutoff_p3alpha': 1152, 'cutoff_merging': 79, 'cutoff_slim': 14}. Best is trial 51 with value: 0.051237528995276366.\n"
     ]
    },
    {
     "name": "stdout",
     "output_type": "stream",
     "text": [
      "Recommender_Base_Class: URM Detected 627 ( 4.8%) users with no interactions.\n",
      "Recommender_Base_Class: URM Detected 247 ( 1.1%) items with no interactions.\n",
      "EvaluatorHoldout: Processed 10456 (100.0%) in 17.82 sec. Users per second: 587\n"
     ]
    },
    {
     "name": "stderr",
     "output_type": "stream",
     "text": [
      "[I 2023-12-03 17:30:34,352] Trial 120 finished with value: 0.05089239792448533 and parameters: {'cutoff_p3alpha': 1456, 'cutoff_merging': 1098, 'cutoff_slim': 110}. Best is trial 51 with value: 0.051237528995276366.\n"
     ]
    },
    {
     "name": "stdout",
     "output_type": "stream",
     "text": [
      "Recommender_Base_Class: URM Detected 627 ( 4.8%) users with no interactions.\n",
      "Recommender_Base_Class: URM Detected 247 ( 1.1%) items with no interactions.\n",
      "EvaluatorHoldout: Processed 10456 (100.0%) in 17.37 sec. Users per second: 602\n"
     ]
    },
    {
     "name": "stderr",
     "output_type": "stream",
     "text": [
      "[I 2023-12-03 17:30:51,870] Trial 121 finished with value: 0.05114834954639913 and parameters: {'cutoff_p3alpha': 1187, 'cutoff_merging': 17, 'cutoff_slim': 11}. Best is trial 51 with value: 0.051237528995276366.\n"
     ]
    },
    {
     "name": "stdout",
     "output_type": "stream",
     "text": [
      "Recommender_Base_Class: URM Detected 627 ( 4.8%) users with no interactions.\n",
      "Recommender_Base_Class: URM Detected 247 ( 1.1%) items with no interactions.\n",
      "EvaluatorHoldout: Processed 10456 (100.0%) in 17.33 sec. Users per second: 603\n"
     ]
    },
    {
     "name": "stderr",
     "output_type": "stream",
     "text": [
      "[I 2023-12-03 17:31:09,349] Trial 122 finished with value: 0.05113168864842604 and parameters: {'cutoff_p3alpha': 1188, 'cutoff_merging': 19, 'cutoff_slim': 11}. Best is trial 51 with value: 0.051237528995276366.\n"
     ]
    },
    {
     "name": "stdout",
     "output_type": "stream",
     "text": [
      "Recommender_Base_Class: URM Detected 627 ( 4.8%) users with no interactions.\n",
      "Recommender_Base_Class: URM Detected 247 ( 1.1%) items with no interactions.\n",
      "EvaluatorHoldout: Processed 10456 (100.0%) in 17.40 sec. Users per second: 601\n"
     ]
    },
    {
     "name": "stderr",
     "output_type": "stream",
     "text": [
      "[I 2023-12-03 17:31:26,909] Trial 123 finished with value: 0.05110464789715996 and parameters: {'cutoff_p3alpha': 1115, 'cutoff_merging': 11, 'cutoff_slim': 11}. Best is trial 51 with value: 0.051237528995276366.\n"
     ]
    },
    {
     "name": "stdout",
     "output_type": "stream",
     "text": [
      "Recommender_Base_Class: URM Detected 627 ( 4.8%) users with no interactions.\n",
      "Recommender_Base_Class: URM Detected 247 ( 1.1%) items with no interactions.\n",
      "EvaluatorHoldout: Processed 10456 (100.0%) in 17.36 sec. Users per second: 602\n"
     ]
    },
    {
     "name": "stderr",
     "output_type": "stream",
     "text": [
      "[I 2023-12-03 17:31:44,412] Trial 124 finished with value: 0.05095807374212177 and parameters: {'cutoff_p3alpha': 1254, 'cutoff_merging': 48, 'cutoff_slim': 13}. Best is trial 51 with value: 0.051237528995276366.\n"
     ]
    },
    {
     "name": "stdout",
     "output_type": "stream",
     "text": [
      "Recommender_Base_Class: URM Detected 627 ( 4.8%) users with no interactions.\n",
      "Recommender_Base_Class: URM Detected 247 ( 1.1%) items with no interactions.\n",
      "EvaluatorHoldout: Processed 10456 (100.0%) in 17.40 sec. Users per second: 601\n"
     ]
    },
    {
     "name": "stderr",
     "output_type": "stream",
     "text": [
      "[I 2023-12-03 17:32:01,962] Trial 125 finished with value: 0.051017312912158594 and parameters: {'cutoff_p3alpha': 1063, 'cutoff_merging': 29, 'cutoff_slim': 10}. Best is trial 51 with value: 0.051237528995276366.\n"
     ]
    },
    {
     "name": "stdout",
     "output_type": "stream",
     "text": [
      "Recommender_Base_Class: URM Detected 627 ( 4.8%) users with no interactions.\n",
      "Recommender_Base_Class: URM Detected 247 ( 1.1%) items with no interactions.\n",
      "EvaluatorHoldout: Processed 10456 (100.0%) in 17.37 sec. Users per second: 602\n"
     ]
    },
    {
     "name": "stderr",
     "output_type": "stream",
     "text": [
      "[I 2023-12-03 17:32:19,484] Trial 126 finished with value: 0.050958100308473885 and parameters: {'cutoff_p3alpha': 1194, 'cutoff_merging': 60, 'cutoff_slim': 14}. Best is trial 51 with value: 0.051237528995276366.\n"
     ]
    },
    {
     "name": "stdout",
     "output_type": "stream",
     "text": [
      "Recommender_Base_Class: URM Detected 627 ( 4.8%) users with no interactions.\n",
      "Recommender_Base_Class: URM Detected 247 ( 1.1%) items with no interactions.\n",
      "EvaluatorHoldout: Processed 10456 (100.0%) in 17.32 sec. Users per second: 604\n"
     ]
    },
    {
     "name": "stderr",
     "output_type": "stream",
     "text": [
      "[I 2023-12-03 17:32:36,954] Trial 127 finished with value: 0.05090667544115383 and parameters: {'cutoff_p3alpha': 1294, 'cutoff_merging': 121, 'cutoff_slim': 19}. Best is trial 51 with value: 0.051237528995276366.\n"
     ]
    },
    {
     "name": "stdout",
     "output_type": "stream",
     "text": [
      "Recommender_Base_Class: URM Detected 627 ( 4.8%) users with no interactions.\n",
      "Recommender_Base_Class: URM Detected 247 ( 1.1%) items with no interactions.\n",
      "EvaluatorHoldout: Processed 10456 (100.0%) in 17.35 sec. Users per second: 602\n"
     ]
    },
    {
     "name": "stderr",
     "output_type": "stream",
     "text": [
      "[I 2023-12-03 17:32:54,452] Trial 128 finished with value: 0.050934361375257135 and parameters: {'cutoff_p3alpha': 1154, 'cutoff_merging': 77, 'cutoff_slim': 15}. Best is trial 51 with value: 0.051237528995276366.\n"
     ]
    },
    {
     "name": "stdout",
     "output_type": "stream",
     "text": [
      "Recommender_Base_Class: URM Detected 627 ( 4.8%) users with no interactions.\n",
      "Recommender_Base_Class: URM Detected 247 ( 1.1%) items with no interactions.\n",
      "EvaluatorHoldout: Processed 10456 (100.0%) in 17.29 sec. Users per second: 605\n"
     ]
    },
    {
     "name": "stderr",
     "output_type": "stream",
     "text": [
      "[I 2023-12-03 17:33:11,886] Trial 129 finished with value: 0.051017312912158594 and parameters: {'cutoff_p3alpha': 916, 'cutoff_merging': 29, 'cutoff_slim': 12}. Best is trial 51 with value: 0.051237528995276366.\n"
     ]
    },
    {
     "name": "stdout",
     "output_type": "stream",
     "text": [
      "Recommender_Base_Class: URM Detected 627 ( 4.8%) users with no interactions.\n",
      "Recommender_Base_Class: URM Detected 247 ( 1.1%) items with no interactions.\n",
      "EvaluatorHoldout: Processed 10456 (100.0%) in 17.30 sec. Users per second: 604\n"
     ]
    },
    {
     "name": "stderr",
     "output_type": "stream",
     "text": [
      "[I 2023-12-03 17:33:29,333] Trial 130 finished with value: 0.050966324492051934 and parameters: {'cutoff_p3alpha': 1098, 'cutoff_merging': 50, 'cutoff_slim': 10}. Best is trial 51 with value: 0.051237528995276366.\n"
     ]
    },
    {
     "name": "stdout",
     "output_type": "stream",
     "text": [
      "Recommender_Base_Class: URM Detected 627 ( 4.8%) users with no interactions.\n",
      "Recommender_Base_Class: URM Detected 247 ( 1.1%) items with no interactions.\n",
      "EvaluatorHoldout: Processed 10456 (100.0%) in 17.37 sec. Users per second: 602\n"
     ]
    },
    {
     "name": "stderr",
     "output_type": "stream",
     "text": [
      "[I 2023-12-03 17:33:46,845] Trial 131 finished with value: 0.05116402369415053 and parameters: {'cutoff_p3alpha': 1198, 'cutoff_merging': 16, 'cutoff_slim': 11}. Best is trial 51 with value: 0.051237528995276366.\n"
     ]
    },
    {
     "name": "stdout",
     "output_type": "stream",
     "text": [
      "Recommender_Base_Class: URM Detected 627 ( 4.8%) users with no interactions.\n",
      "Recommender_Base_Class: URM Detected 247 ( 1.1%) items with no interactions.\n",
      "EvaluatorHoldout: Processed 10456 (100.0%) in 17.38 sec. Users per second: 601\n"
     ]
    },
    {
     "name": "stderr",
     "output_type": "stream",
     "text": [
      "[I 2023-12-03 17:34:04,378] Trial 132 finished with value: 0.050922915072686134 and parameters: {'cutoff_p3alpha': 1214, 'cutoff_merging': 89, 'cutoff_slim': 16}. Best is trial 51 with value: 0.051237528995276366.\n"
     ]
    },
    {
     "name": "stdout",
     "output_type": "stream",
     "text": [
      "Recommender_Base_Class: URM Detected 627 ( 4.8%) users with no interactions.\n",
      "Recommender_Base_Class: URM Detected 247 ( 1.1%) items with no interactions.\n",
      "EvaluatorHoldout: Processed 10456 (100.0%) in 17.40 sec. Users per second: 601\n"
     ]
    },
    {
     "name": "stderr",
     "output_type": "stream",
     "text": [
      "[I 2023-12-03 17:34:21,925] Trial 133 finished with value: 0.051146755565271866 and parameters: {'cutoff_p3alpha': 1257, 'cutoff_merging': 17, 'cutoff_slim': 11}. Best is trial 51 with value: 0.051237528995276366.\n"
     ]
    },
    {
     "name": "stdout",
     "output_type": "stream",
     "text": [
      "Recommender_Base_Class: URM Detected 627 ( 4.8%) users with no interactions.\n",
      "Recommender_Base_Class: URM Detected 247 ( 1.1%) items with no interactions.\n",
      "EvaluatorHoldout: Processed 10456 (100.0%) in 17.39 sec. Users per second: 601\n"
     ]
    },
    {
     "name": "stderr",
     "output_type": "stream",
     "text": [
      "[I 2023-12-03 17:34:39,466] Trial 134 finished with value: 0.050960054832951365 and parameters: {'cutoff_p3alpha': 1343, 'cutoff_merging': 65, 'cutoff_slim': 13}. Best is trial 51 with value: 0.051237528995276366.\n"
     ]
    },
    {
     "name": "stdout",
     "output_type": "stream",
     "text": [
      "Recommender_Base_Class: URM Detected 627 ( 4.8%) users with no interactions.\n",
      "Recommender_Base_Class: URM Detected 247 ( 1.1%) items with no interactions.\n",
      "EvaluatorHoldout: Processed 10456 (100.0%) in 17.42 sec. Users per second: 600\n"
     ]
    },
    {
     "name": "stderr",
     "output_type": "stream",
     "text": [
      "[I 2023-12-03 17:34:57,049] Trial 135 finished with value: 0.05106057811418435 and parameters: {'cutoff_p3alpha': 1143, 'cutoff_merging': 12, 'cutoff_slim': 11}. Best is trial 51 with value: 0.051237528995276366.\n"
     ]
    },
    {
     "name": "stdout",
     "output_type": "stream",
     "text": [
      "Recommender_Base_Class: URM Detected 627 ( 4.8%) users with no interactions.\n",
      "Recommender_Base_Class: URM Detected 247 ( 1.1%) items with no interactions.\n",
      "EvaluatorHoldout: Processed 10456 (100.0%) in 17.24 sec. Users per second: 606\n"
     ]
    },
    {
     "name": "stderr",
     "output_type": "stream",
     "text": [
      "[I 2023-12-03 17:35:14,436] Trial 136 finished with value: 0.051088450012752466 and parameters: {'cutoff_p3alpha': 251, 'cutoff_merging': 22, 'cutoff_slim': 11}. Best is trial 51 with value: 0.051237528995276366.\n"
     ]
    },
    {
     "name": "stdout",
     "output_type": "stream",
     "text": [
      "Recommender_Base_Class: URM Detected 627 ( 4.8%) users with no interactions.\n",
      "Recommender_Base_Class: URM Detected 247 ( 1.1%) items with no interactions.\n",
      "EvaluatorHoldout: Processed 10456 (100.0%) in 17.41 sec. Users per second: 601\n"
     ]
    },
    {
     "name": "stderr",
     "output_type": "stream",
     "text": [
      "[I 2023-12-03 17:35:32,003] Trial 137 finished with value: 0.05100650040684532 and parameters: {'cutoff_p3alpha': 1021, 'cutoff_merging': 43, 'cutoff_slim': 12}. Best is trial 51 with value: 0.051237528995276366.\n"
     ]
    },
    {
     "name": "stdout",
     "output_type": "stream",
     "text": [
      "Recommender_Base_Class: URM Detected 627 ( 4.8%) users with no interactions.\n",
      "Recommender_Base_Class: URM Detected 247 ( 1.1%) items with no interactions.\n",
      "EvaluatorHoldout: Processed 10456 (100.0%) in 17.56 sec. Users per second: 596\n"
     ]
    },
    {
     "name": "stderr",
     "output_type": "stream",
     "text": [
      "[I 2023-12-03 17:35:49,711] Trial 138 finished with value: 0.05090336982791132 and parameters: {'cutoff_p3alpha': 1398, 'cutoff_merging': 126, 'cutoff_slim': 21}. Best is trial 51 with value: 0.051237528995276366.\n"
     ]
    },
    {
     "name": "stdout",
     "output_type": "stream",
     "text": [
      "Recommender_Base_Class: URM Detected 627 ( 4.8%) users with no interactions.\n",
      "Recommender_Base_Class: URM Detected 247 ( 1.1%) items with no interactions.\n",
      "EvaluatorHoldout: Processed 10456 (100.0%) in 17.49 sec. Users per second: 598\n"
     ]
    },
    {
     "name": "stderr",
     "output_type": "stream",
     "text": [
      "[I 2023-12-03 17:36:07,350] Trial 139 finished with value: 0.05092543508094447 and parameters: {'cutoff_p3alpha': 1216, 'cutoff_merging': 95, 'cutoff_slim': 17}. Best is trial 51 with value: 0.051237528995276366.\n"
     ]
    },
    {
     "name": "stdout",
     "output_type": "stream",
     "text": [
      "Recommender_Base_Class: URM Detected 627 ( 4.8%) users with no interactions.\n",
      "Recommender_Base_Class: URM Detected 247 ( 1.1%) items with no interactions.\n",
      "EvaluatorHoldout: Processed 10456 (100.0%) in 17.79 sec. Users per second: 588\n"
     ]
    },
    {
     "name": "stderr",
     "output_type": "stream",
     "text": [
      "[I 2023-12-03 17:36:25,289] Trial 140 finished with value: 0.05089495967986842 and parameters: {'cutoff_p3alpha': 1298, 'cutoff_merging': 780, 'cutoff_slim': 71}. Best is trial 51 with value: 0.051237528995276366.\n"
     ]
    },
    {
     "name": "stdout",
     "output_type": "stream",
     "text": [
      "Recommender_Base_Class: URM Detected 627 ( 4.8%) users with no interactions.\n",
      "Recommender_Base_Class: URM Detected 247 ( 1.1%) items with no interactions.\n",
      "EvaluatorHoldout: Processed 10456 (100.0%) in 17.33 sec. Users per second: 603\n"
     ]
    },
    {
     "name": "stderr",
     "output_type": "stream",
     "text": [
      "[I 2023-12-03 17:36:42,763] Trial 141 finished with value: 0.05106057811418435 and parameters: {'cutoff_p3alpha': 1260, 'cutoff_merging': 12, 'cutoff_slim': 11}. Best is trial 51 with value: 0.051237528995276366.\n"
     ]
    },
    {
     "name": "stdout",
     "output_type": "stream",
     "text": [
      "Recommender_Base_Class: URM Detected 627 ( 4.8%) users with no interactions.\n",
      "Recommender_Base_Class: URM Detected 247 ( 1.1%) items with no interactions.\n",
      "EvaluatorHoldout: Processed 10456 (100.0%) in 17.48 sec. Users per second: 598\n"
     ]
    },
    {
     "name": "stderr",
     "output_type": "stream",
     "text": [
      "[I 2023-12-03 17:37:00,391] Trial 142 finished with value: 0.050973664395623675 and parameters: {'cutoff_p3alpha': 1172, 'cutoff_merging': 47, 'cutoff_slim': 10}. Best is trial 51 with value: 0.051237528995276366.\n"
     ]
    },
    {
     "name": "stdout",
     "output_type": "stream",
     "text": [
      "Recommender_Base_Class: URM Detected 627 ( 4.8%) users with no interactions.\n",
      "Recommender_Base_Class: URM Detected 247 ( 1.1%) items with no interactions.\n",
      "EvaluatorHoldout: Processed 10456 (100.0%) in 17.43 sec. Users per second: 600\n"
     ]
    },
    {
     "name": "stderr",
     "output_type": "stream",
     "text": [
      "[I 2023-12-03 17:37:17,982] Trial 143 finished with value: 0.05095386487290716 and parameters: {'cutoff_p3alpha': 1239, 'cutoff_merging': 66, 'cutoff_slim': 13}. Best is trial 51 with value: 0.051237528995276366.\n"
     ]
    },
    {
     "name": "stdout",
     "output_type": "stream",
     "text": [
      "Recommender_Base_Class: URM Detected 627 ( 4.8%) users with no interactions.\n",
      "Recommender_Base_Class: URM Detected 247 ( 1.1%) items with no interactions.\n",
      "EvaluatorHoldout: Processed 10456 (100.0%) in 17.40 sec. Users per second: 601\n"
     ]
    },
    {
     "name": "stderr",
     "output_type": "stream",
     "text": [
      "[I 2023-12-03 17:37:35,549] Trial 144 finished with value: 0.05100177918655406 and parameters: {'cutoff_p3alpha': 1111, 'cutoff_merging': 36, 'cutoff_slim': 10}. Best is trial 51 with value: 0.051237528995276366.\n"
     ]
    },
    {
     "name": "stdout",
     "output_type": "stream",
     "text": [
      "Recommender_Base_Class: URM Detected 627 ( 4.8%) users with no interactions.\n",
      "Recommender_Base_Class: URM Detected 247 ( 1.1%) items with no interactions.\n",
      "EvaluatorHoldout: Processed 10456 (100.0%) in 17.41 sec. Users per second: 601\n"
     ]
    },
    {
     "name": "stderr",
     "output_type": "stream",
     "text": [
      "[I 2023-12-03 17:37:53,112] Trial 145 finished with value: 0.05110464789715996 and parameters: {'cutoff_p3alpha': 1335, 'cutoff_merging': 11, 'cutoff_slim': 11}. Best is trial 51 with value: 0.051237528995276366.\n"
     ]
    },
    {
     "name": "stdout",
     "output_type": "stream",
     "text": [
      "Recommender_Base_Class: URM Detected 627 ( 4.8%) users with no interactions.\n",
      "Recommender_Base_Class: URM Detected 247 ( 1.1%) items with no interactions.\n",
      "EvaluatorHoldout: Processed 10456 (100.0%) in 17.64 sec. Users per second: 593\n"
     ]
    },
    {
     "name": "stderr",
     "output_type": "stream",
     "text": [
      "[I 2023-12-03 17:38:10,899] Trial 146 finished with value: 0.05089438660570125 and parameters: {'cutoff_p3alpha': 1258, 'cutoff_merging': 398, 'cutoff_slim': 39}. Best is trial 51 with value: 0.051237528995276366.\n"
     ]
    },
    {
     "name": "stdout",
     "output_type": "stream",
     "text": [
      "Recommender_Base_Class: URM Detected 627 ( 4.8%) users with no interactions.\n",
      "Recommender_Base_Class: URM Detected 247 ( 1.1%) items with no interactions.\n",
      "EvaluatorHoldout: Processed 10456 (100.0%) in 17.50 sec. Users per second: 598\n"
     ]
    },
    {
     "name": "stderr",
     "output_type": "stream",
     "text": [
      "[I 2023-12-03 17:38:28,542] Trial 147 finished with value: 0.05093383004821472 and parameters: {'cutoff_p3alpha': 1189, 'cutoff_merging': 75, 'cutoff_slim': 15}. Best is trial 51 with value: 0.051237528995276366.\n"
     ]
    },
    {
     "name": "stdout",
     "output_type": "stream",
     "text": [
      "Recommender_Base_Class: URM Detected 627 ( 4.8%) users with no interactions.\n",
      "Recommender_Base_Class: URM Detected 247 ( 1.1%) items with no interactions.\n",
      "EvaluatorHoldout: Processed 10456 (100.0%) in 18.00 sec. Users per second: 581\n"
     ]
    },
    {
     "name": "stderr",
     "output_type": "stream",
     "text": [
      "[I 2023-12-03 17:38:46,696] Trial 148 finished with value: 0.05088992725373807 and parameters: {'cutoff_p3alpha': 1572, 'cutoff_merging': 1428, 'cutoff_slim': 153}. Best is trial 51 with value: 0.051237528995276366.\n"
     ]
    },
    {
     "name": "stdout",
     "output_type": "stream",
     "text": [
      "Recommender_Base_Class: URM Detected 627 ( 4.8%) users with no interactions.\n",
      "Recommender_Base_Class: URM Detected 247 ( 1.1%) items with no interactions.\n",
      "EvaluatorHoldout: Processed 10456 (100.0%) in 17.41 sec. Users per second: 600\n"
     ]
    },
    {
     "name": "stderr",
     "output_type": "stream",
     "text": [
      "[I 2023-12-03 17:39:04,262] Trial 149 finished with value: 0.05097971772871411 and parameters: {'cutoff_p3alpha': 1065, 'cutoff_merging': 35, 'cutoff_slim': 12}. Best is trial 51 with value: 0.051237528995276366.\n"
     ]
    },
    {
     "name": "stdout",
     "output_type": "stream",
     "text": [
      "Recommender_Base_Class: URM Detected 627 ( 4.8%) users with no interactions.\n",
      "Recommender_Base_Class: URM Detected 247 ( 1.1%) items with no interactions.\n",
      "EvaluatorHoldout: Processed 10456 (100.0%) in 17.35 sec. Users per second: 602\n"
     ]
    },
    {
     "name": "stderr",
     "output_type": "stream",
     "text": [
      "[I 2023-12-03 17:39:21,765] Trial 150 finished with value: 0.05095831663448401 and parameters: {'cutoff_p3alpha': 1135, 'cutoff_merging': 59, 'cutoff_slim': 13}. Best is trial 51 with value: 0.051237528995276366.\n"
     ]
    },
    {
     "name": "stdout",
     "output_type": "stream",
     "text": [
      "Recommender_Base_Class: URM Detected 627 ( 4.8%) users with no interactions.\n",
      "Recommender_Base_Class: URM Detected 247 ( 1.1%) items with no interactions.\n",
      "EvaluatorHoldout: Processed 10456 (100.0%) in 17.42 sec. Users per second: 600\n"
     ]
    },
    {
     "name": "stderr",
     "output_type": "stream",
     "text": [
      "[I 2023-12-03 17:39:39,338] Trial 151 finished with value: 0.05110464789715996 and parameters: {'cutoff_p3alpha': 1181, 'cutoff_merging': 11, 'cutoff_slim': 11}. Best is trial 51 with value: 0.051237528995276366.\n"
     ]
    },
    {
     "name": "stdout",
     "output_type": "stream",
     "text": [
      "Recommender_Base_Class: URM Detected 627 ( 4.8%) users with no interactions.\n",
      "Recommender_Base_Class: URM Detected 247 ( 1.1%) items with no interactions.\n",
      "EvaluatorHoldout: Processed 10456 (100.0%) in 17.43 sec. Users per second: 600\n"
     ]
    },
    {
     "name": "stderr",
     "output_type": "stream",
     "text": [
      "[I 2023-12-03 17:39:56,913] Trial 152 finished with value: 0.051027260113431346 and parameters: {'cutoff_p3alpha': 1219, 'cutoff_merging': 39, 'cutoff_slim': 10}. Best is trial 51 with value: 0.051237528995276366.\n"
     ]
    },
    {
     "name": "stdout",
     "output_type": "stream",
     "text": [
      "Recommender_Base_Class: URM Detected 627 ( 4.8%) users with no interactions.\n",
      "Recommender_Base_Class: URM Detected 247 ( 1.1%) items with no interactions.\n",
      "EvaluatorHoldout: Processed 10456 (100.0%) in 17.47 sec. Users per second: 598\n"
     ]
    },
    {
     "name": "stderr",
     "output_type": "stream",
     "text": [
      "[I 2023-12-03 17:40:14,539] Trial 153 finished with value: 0.05100177918655406 and parameters: {'cutoff_p3alpha': 1183, 'cutoff_merging': 36, 'cutoff_slim': 12}. Best is trial 51 with value: 0.051237528995276366.\n"
     ]
    },
    {
     "name": "stdout",
     "output_type": "stream",
     "text": [
      "Recommender_Base_Class: URM Detected 627 ( 4.8%) users with no interactions.\n",
      "Recommender_Base_Class: URM Detected 247 ( 1.1%) items with no interactions.\n",
      "EvaluatorHoldout: Processed 10456 (100.0%) in 17.46 sec. Users per second: 599\n"
     ]
    },
    {
     "name": "stderr",
     "output_type": "stream",
     "text": [
      "[I 2023-12-03 17:40:32,158] Trial 154 finished with value: 0.05091939313343349 and parameters: {'cutoff_p3alpha': 1301, 'cutoff_merging': 97, 'cutoff_slim': 15}. Best is trial 51 with value: 0.051237528995276366.\n"
     ]
    },
    {
     "name": "stdout",
     "output_type": "stream",
     "text": [
      "Recommender_Base_Class: URM Detected 627 ( 4.8%) users with no interactions.\n",
      "Recommender_Base_Class: URM Detected 247 ( 1.1%) items with no interactions.\n",
      "EvaluatorHoldout: Processed 10456 (100.0%) in 17.34 sec. Users per second: 603\n"
     ]
    },
    {
     "name": "stderr",
     "output_type": "stream",
     "text": [
      "[I 2023-12-03 17:40:49,641] Trial 155 finished with value: 0.05106057811418435 and parameters: {'cutoff_p3alpha': 1272, 'cutoff_merging': 12, 'cutoff_slim': 11}. Best is trial 51 with value: 0.051237528995276366.\n"
     ]
    },
    {
     "name": "stdout",
     "output_type": "stream",
     "text": [
      "Recommender_Base_Class: URM Detected 627 ( 4.8%) users with no interactions.\n",
      "Recommender_Base_Class: URM Detected 247 ( 1.1%) items with no interactions.\n",
      "EvaluatorHoldout: Processed 10456 (100.0%) in 17.37 sec. Users per second: 602\n"
     ]
    },
    {
     "name": "stderr",
     "output_type": "stream",
     "text": [
      "[I 2023-12-03 17:41:07,159] Trial 156 finished with value: 0.05095660879756194 and parameters: {'cutoff_p3alpha': 1108, 'cutoff_merging': 54, 'cutoff_slim': 14}. Best is trial 51 with value: 0.051237528995276366.\n"
     ]
    },
    {
     "name": "stdout",
     "output_type": "stream",
     "text": [
      "Recommender_Base_Class: URM Detected 627 ( 4.8%) users with no interactions.\n",
      "Recommender_Base_Class: URM Detected 247 ( 1.1%) items with no interactions.\n",
      "EvaluatorHoldout: Processed 10456 (100.0%) in 17.39 sec. Users per second: 601\n"
     ]
    },
    {
     "name": "stderr",
     "output_type": "stream",
     "text": [
      "[I 2023-12-03 17:41:24,696] Trial 157 finished with value: 0.05091564348259126 and parameters: {'cutoff_p3alpha': 1376, 'cutoff_merging': 106, 'cutoff_slim': 17}. Best is trial 51 with value: 0.051237528995276366.\n"
     ]
    },
    {
     "name": "stdout",
     "output_type": "stream",
     "text": [
      "Recommender_Base_Class: URM Detected 627 ( 4.8%) users with no interactions.\n",
      "Recommender_Base_Class: URM Detected 247 ( 1.1%) items with no interactions.\n",
      "EvaluatorHoldout: Processed 10456 (100.0%) in 17.44 sec. Users per second: 600\n"
     ]
    },
    {
     "name": "stderr",
     "output_type": "stream",
     "text": [
      "[I 2023-12-03 17:41:42,286] Trial 158 finished with value: 0.05093404257903169 and parameters: {'cutoff_p3alpha': 1223, 'cutoff_merging': 77, 'cutoff_slim': 14}. Best is trial 51 with value: 0.051237528995276366.\n"
     ]
    },
    {
     "name": "stdout",
     "output_type": "stream",
     "text": [
      "Recommender_Base_Class: URM Detected 627 ( 4.8%) users with no interactions.\n",
      "Recommender_Base_Class: URM Detected 247 ( 1.1%) items with no interactions.\n",
      "EvaluatorHoldout: Processed 10456 (100.0%) in 17.45 sec. Users per second: 599\n"
     ]
    },
    {
     "name": "stderr",
     "output_type": "stream",
     "text": [
      "[I 2023-12-03 17:41:59,890] Trial 159 finished with value: 0.050905001760970195 and parameters: {'cutoff_p3alpha': 1433, 'cutoff_merging': 157, 'cutoff_slim': 22}. Best is trial 51 with value: 0.051237528995276366.\n"
     ]
    },
    {
     "name": "stdout",
     "output_type": "stream",
     "text": [
      "Recommender_Base_Class: URM Detected 627 ( 4.8%) users with no interactions.\n",
      "Recommender_Base_Class: URM Detected 247 ( 1.1%) items with no interactions.\n",
      "EvaluatorHoldout: Processed 10456 (100.0%) in 17.38 sec. Users per second: 601\n"
     ]
    },
    {
     "name": "stderr",
     "output_type": "stream",
     "text": [
      "[I 2023-12-03 17:42:17,424] Trial 160 finished with value: 0.05097998339223534 and parameters: {'cutoff_p3alpha': 1153, 'cutoff_merging': 31, 'cutoff_slim': 11}. Best is trial 51 with value: 0.051237528995276366.\n"
     ]
    },
    {
     "name": "stdout",
     "output_type": "stream",
     "text": [
      "Recommender_Base_Class: URM Detected 627 ( 4.8%) users with no interactions.\n",
      "Recommender_Base_Class: URM Detected 247 ( 1.1%) items with no interactions.\n",
      "EvaluatorHoldout: Processed 10456 (100.0%) in 17.40 sec. Users per second: 601\n"
     ]
    },
    {
     "name": "stderr",
     "output_type": "stream",
     "text": [
      "[I 2023-12-03 17:42:34,971] Trial 161 finished with value: 0.050945431953705295 and parameters: {'cutoff_p3alpha': 1350, 'cutoff_merging': 72, 'cutoff_slim': 13}. Best is trial 51 with value: 0.051237528995276366.\n"
     ]
    },
    {
     "name": "stdout",
     "output_type": "stream",
     "text": [
      "Recommender_Base_Class: URM Detected 627 ( 4.8%) users with no interactions.\n",
      "Recommender_Base_Class: URM Detected 247 ( 1.1%) items with no interactions.\n",
      "EvaluatorHoldout: Processed 10456 (100.0%) in 17.45 sec. Users per second: 599\n"
     ]
    },
    {
     "name": "stderr",
     "output_type": "stream",
     "text": [
      "[I 2023-12-03 17:42:52,571] Trial 162 finished with value: 0.05095782705456635 and parameters: {'cutoff_p3alpha': 1297, 'cutoff_merging': 59, 'cutoff_slim': 10}. Best is trial 51 with value: 0.051237528995276366.\n"
     ]
    },
    {
     "name": "stdout",
     "output_type": "stream",
     "text": [
      "Recommender_Base_Class: URM Detected 627 ( 4.8%) users with no interactions.\n",
      "Recommender_Base_Class: URM Detected 247 ( 1.1%) items with no interactions.\n",
      "EvaluatorHoldout: Processed 10456 (100.0%) in 17.37 sec. Users per second: 602\n"
     ]
    },
    {
     "name": "stderr",
     "output_type": "stream",
     "text": [
      "[I 2023-12-03 17:43:10,087] Trial 163 finished with value: 0.05124177961161576 and parameters: {'cutoff_p3alpha': 1257, 'cutoff_merging': 15, 'cutoff_slim': 11}. Best is trial 163 with value: 0.05124177961161576.\n"
     ]
    },
    {
     "name": "stdout",
     "output_type": "stream",
     "text": [
      "Recommender_Base_Class: URM Detected 627 ( 4.8%) users with no interactions.\n",
      "Recommender_Base_Class: URM Detected 247 ( 1.1%) items with no interactions.\n",
      "EvaluatorHoldout: Processed 10456 (100.0%) in 17.30 sec. Users per second: 604\n"
     ]
    },
    {
     "name": "stderr",
     "output_type": "stream",
     "text": [
      "[I 2023-12-03 17:43:27,544] Trial 164 finished with value: 0.05105898413305709 and parameters: {'cutoff_p3alpha': 1250, 'cutoff_merging': 12, 'cutoff_slim': 11}. Best is trial 163 with value: 0.05124177961161576.\n"
     ]
    },
    {
     "name": "stdout",
     "output_type": "stream",
     "text": [
      "Recommender_Base_Class: URM Detected 627 ( 4.8%) users with no interactions.\n",
      "Recommender_Base_Class: URM Detected 247 ( 1.1%) items with no interactions.\n",
      "EvaluatorHoldout: Processed 10456 (100.0%) in 17.40 sec. Users per second: 601\n"
     ]
    },
    {
     "name": "stderr",
     "output_type": "stream",
     "text": [
      "[I 2023-12-03 17:43:45,092] Trial 165 finished with value: 0.05101116849443229 and parameters: {'cutoff_p3alpha': 1221, 'cutoff_merging': 37, 'cutoff_slim': 12}. Best is trial 163 with value: 0.05124177961161576.\n"
     ]
    },
    {
     "name": "stdout",
     "output_type": "stream",
     "text": [
      "Recommender_Base_Class: URM Detected 627 ( 4.8%) users with no interactions.\n",
      "Recommender_Base_Class: URM Detected 247 ( 1.1%) items with no interactions.\n",
      "EvaluatorHoldout: Processed 10456 (100.0%) in 17.38 sec. Users per second: 601\n"
     ]
    },
    {
     "name": "stderr",
     "output_type": "stream",
     "text": [
      "[I 2023-12-03 17:44:02,627] Trial 166 finished with value: 0.05093713566145721 and parameters: {'cutoff_p3alpha': 1183, 'cutoff_merging': 34, 'cutoff_slim': 12}. Best is trial 163 with value: 0.05124177961161576.\n"
     ]
    },
    {
     "name": "stdout",
     "output_type": "stream",
     "text": [
      "Recommender_Base_Class: URM Detected 627 ( 4.8%) users with no interactions.\n",
      "Recommender_Base_Class: URM Detected 247 ( 1.1%) items with no interactions.\n",
      "EvaluatorHoldout: Processed 10456 (100.0%) in 17.32 sec. Users per second: 604\n"
     ]
    },
    {
     "name": "stderr",
     "output_type": "stream",
     "text": [
      "[I 2023-12-03 17:44:20,096] Trial 167 finished with value: 0.051022060698801934 and parameters: {'cutoff_p3alpha': 1044, 'cutoff_merging': 27, 'cutoff_slim': 11}. Best is trial 163 with value: 0.05124177961161576.\n"
     ]
    },
    {
     "name": "stdout",
     "output_type": "stream",
     "text": [
      "Recommender_Base_Class: URM Detected 627 ( 4.8%) users with no interactions.\n",
      "Recommender_Base_Class: URM Detected 247 ( 1.1%) items with no interactions.\n",
      "EvaluatorHoldout: Processed 10456 (100.0%) in 17.65 sec. Users per second: 593\n"
     ]
    },
    {
     "name": "stderr",
     "output_type": "stream",
     "text": [
      "[I 2023-12-03 17:44:37,893] Trial 168 finished with value: 0.05089385527865883 and parameters: {'cutoff_p3alpha': 1094, 'cutoff_merging': 614, 'cutoff_slim': 51}. Best is trial 163 with value: 0.05124177961161576.\n"
     ]
    },
    {
     "name": "stdout",
     "output_type": "stream",
     "text": [
      "Recommender_Base_Class: URM Detected 627 ( 4.8%) users with no interactions.\n",
      "Recommender_Base_Class: URM Detected 247 ( 1.1%) items with no interactions.\n",
      "EvaluatorHoldout: Processed 10456 (100.0%) in 17.44 sec. Users per second: 599\n"
     ]
    },
    {
     "name": "stderr",
     "output_type": "stream",
     "text": [
      "[I 2023-12-03 17:44:55,483] Trial 169 finished with value: 0.050926114420520134 and parameters: {'cutoff_p3alpha': 1322, 'cutoff_merging': 95, 'cutoff_slim': 16}. Best is trial 163 with value: 0.05124177961161576.\n"
     ]
    },
    {
     "name": "stdout",
     "output_type": "stream",
     "text": [
      "Recommender_Base_Class: URM Detected 627 ( 4.8%) users with no interactions.\n",
      "Recommender_Base_Class: URM Detected 247 ( 1.1%) items with no interactions.\n",
      "EvaluatorHoldout: Processed 10456 (100.0%) in 17.35 sec. Users per second: 603\n"
     ]
    },
    {
     "name": "stderr",
     "output_type": "stream",
     "text": [
      "[I 2023-12-03 17:45:12,987] Trial 170 finished with value: 0.05096285948069672 and parameters: {'cutoff_p3alpha': 1148, 'cutoff_merging': 57, 'cutoff_slim': 13}. Best is trial 163 with value: 0.05124177961161576.\n"
     ]
    },
    {
     "name": "stdout",
     "output_type": "stream",
     "text": [
      "Recommender_Base_Class: URM Detected 627 ( 4.8%) users with no interactions.\n",
      "Recommender_Base_Class: URM Detected 247 ( 1.1%) items with no interactions.\n",
      "EvaluatorHoldout: Processed 10456 (100.0%) in 17.44 sec. Users per second: 600\n"
     ]
    },
    {
     "name": "stderr",
     "output_type": "stream",
     "text": [
      "[I 2023-12-03 17:45:30,578] Trial 171 finished with value: 0.050908417434814335 and parameters: {'cutoff_p3alpha': 1482, 'cutoff_merging': 116, 'cutoff_slim': 18}. Best is trial 163 with value: 0.05124177961161576.\n"
     ]
    },
    {
     "name": "stdout",
     "output_type": "stream",
     "text": [
      "Recommender_Base_Class: URM Detected 627 ( 4.8%) users with no interactions.\n",
      "Recommender_Base_Class: URM Detected 247 ( 1.1%) items with no interactions.\n",
      "EvaluatorHoldout: Processed 10456 (100.0%) in 17.30 sec. Users per second: 604\n"
     ]
    },
    {
     "name": "stderr",
     "output_type": "stream",
     "text": [
      "[I 2023-12-03 17:45:48,023] Trial 172 finished with value: 0.05110464789715996 and parameters: {'cutoff_p3alpha': 1383, 'cutoff_merging': 11, 'cutoff_slim': 11}. Best is trial 163 with value: 0.05124177961161576.\n"
     ]
    },
    {
     "name": "stdout",
     "output_type": "stream",
     "text": [
      "Recommender_Base_Class: URM Detected 627 ( 4.8%) users with no interactions.\n",
      "Recommender_Base_Class: URM Detected 247 ( 1.1%) items with no interactions.\n",
      "EvaluatorHoldout: Processed 10456 (100.0%) in 17.28 sec. Users per second: 605\n"
     ]
    },
    {
     "name": "stderr",
     "output_type": "stream",
     "text": [
      "[I 2023-12-03 17:46:05,465] Trial 173 finished with value: 0.05095187998688438 and parameters: {'cutoff_p3alpha': 1264, 'cutoff_merging': 53, 'cutoff_slim': 10}. Best is trial 163 with value: 0.05124177961161576.\n"
     ]
    },
    {
     "name": "stdout",
     "output_type": "stream",
     "text": [
      "Recommender_Base_Class: URM Detected 627 ( 4.8%) users with no interactions.\n",
      "Recommender_Base_Class: URM Detected 247 ( 1.1%) items with no interactions.\n",
      "EvaluatorHoldout: Processed 10456 (100.0%) in 17.49 sec. Users per second: 598\n"
     ]
    },
    {
     "name": "stderr",
     "output_type": "stream",
     "text": [
      "[I 2023-12-03 17:46:23,105] Trial 174 finished with value: 0.0509258791185442 and parameters: {'cutoff_p3alpha': 1416, 'cutoff_merging': 84, 'cutoff_slim': 14}. Best is trial 163 with value: 0.05124177961161576.\n"
     ]
    },
    {
     "name": "stdout",
     "output_type": "stream",
     "text": [
      "Recommender_Base_Class: URM Detected 627 ( 4.8%) users with no interactions.\n",
      "Recommender_Base_Class: URM Detected 247 ( 1.1%) items with no interactions.\n",
      "EvaluatorHoldout: Processed 10456 (100.0%) in 17.42 sec. Users per second: 600\n"
     ]
    },
    {
     "name": "stderr",
     "output_type": "stream",
     "text": [
      "[I 2023-12-03 17:46:40,686] Trial 175 finished with value: 0.05110464789715996 and parameters: {'cutoff_p3alpha': 1197, 'cutoff_merging': 11, 'cutoff_slim': 11}. Best is trial 163 with value: 0.05124177961161576.\n"
     ]
    },
    {
     "name": "stdout",
     "output_type": "stream",
     "text": [
      "Recommender_Base_Class: URM Detected 627 ( 4.8%) users with no interactions.\n",
      "Recommender_Base_Class: URM Detected 247 ( 1.1%) items with no interactions.\n",
      "EvaluatorHoldout: Processed 10456 (100.0%) in 17.44 sec. Users per second: 600\n"
     ]
    },
    {
     "name": "stderr",
     "output_type": "stream",
     "text": [
      "[I 2023-12-03 17:46:58,277] Trial 176 finished with value: 0.05094905636317325 and parameters: {'cutoff_p3alpha': 1319, 'cutoff_merging': 70, 'cutoff_slim': 13}. Best is trial 163 with value: 0.05124177961161576.\n"
     ]
    },
    {
     "name": "stdout",
     "output_type": "stream",
     "text": [
      "Recommender_Base_Class: URM Detected 627 ( 4.8%) users with no interactions.\n",
      "Recommender_Base_Class: URM Detected 247 ( 1.1%) items with no interactions.\n",
      "EvaluatorHoldout: Processed 10456 (100.0%) in 17.37 sec. Users per second: 602\n"
     ]
    },
    {
     "name": "stderr",
     "output_type": "stream",
     "text": [
      "[I 2023-12-03 17:47:15,809] Trial 177 finished with value: 0.05100975288738356 and parameters: {'cutoff_p3alpha': 1267, 'cutoff_merging': 42, 'cutoff_slim': 10}. Best is trial 163 with value: 0.05124177961161576.\n"
     ]
    },
    {
     "name": "stdout",
     "output_type": "stream",
     "text": [
      "Recommender_Base_Class: URM Detected 627 ( 4.8%) users with no interactions.\n",
      "Recommender_Base_Class: URM Detected 247 ( 1.1%) items with no interactions.\n",
      "EvaluatorHoldout: Processed 10456 (100.0%) in 17.37 sec. Users per second: 602\n"
     ]
    },
    {
     "name": "stderr",
     "output_type": "stream",
     "text": [
      "[I 2023-12-03 17:47:33,327] Trial 178 finished with value: 0.05099986640920135 and parameters: {'cutoff_p3alpha': 1235, 'cutoff_merging': 36, 'cutoff_slim': 12}. Best is trial 163 with value: 0.05124177961161576.\n"
     ]
    },
    {
     "name": "stdout",
     "output_type": "stream",
     "text": [
      "Recommender_Base_Class: URM Detected 627 ( 4.8%) users with no interactions.\n",
      "Recommender_Base_Class: URM Detected 247 ( 1.1%) items with no interactions.\n",
      "EvaluatorHoldout: Processed 10456 (100.0%) in 17.40 sec. Users per second: 601\n"
     ]
    },
    {
     "name": "stderr",
     "output_type": "stream",
     "text": [
      "[I 2023-12-03 17:47:50,872] Trial 179 finished with value: 0.050929617383806955 and parameters: {'cutoff_p3alpha': 1352, 'cutoff_merging': 83, 'cutoff_slim': 15}. Best is trial 163 with value: 0.05124177961161576.\n"
     ]
    },
    {
     "name": "stdout",
     "output_type": "stream",
     "text": [
      "Recommender_Base_Class: URM Detected 627 ( 4.8%) users with no interactions.\n",
      "Recommender_Base_Class: URM Detected 247 ( 1.1%) items with no interactions.\n",
      "EvaluatorHoldout: Processed 10456 (100.0%) in 17.47 sec. Users per second: 599\n"
     ]
    },
    {
     "name": "stderr",
     "output_type": "stream",
     "text": [
      "[I 2023-12-03 17:48:08,486] Trial 180 finished with value: 0.05090347609331981 and parameters: {'cutoff_p3alpha': 1507, 'cutoff_merging': 136, 'cutoff_slim': 20}. Best is trial 163 with value: 0.05124177961161576.\n"
     ]
    },
    {
     "name": "stdout",
     "output_type": "stream",
     "text": [
      "Recommender_Base_Class: URM Detected 627 ( 4.8%) users with no interactions.\n",
      "Recommender_Base_Class: URM Detected 247 ( 1.1%) items with no interactions.\n",
      "EvaluatorHoldout: Processed 10456 (100.0%) in 17.35 sec. Users per second: 603\n"
     ]
    },
    {
     "name": "stderr",
     "output_type": "stream",
     "text": [
      "[I 2023-12-03 17:48:25,997] Trial 181 finished with value: 0.05094843395149498 and parameters: {'cutoff_p3alpha': 1196, 'cutoff_merging': 33, 'cutoff_slim': 10}. Best is trial 163 with value: 0.05124177961161576.\n"
     ]
    },
    {
     "name": "stdout",
     "output_type": "stream",
     "text": [
      "Recommender_Base_Class: URM Detected 627 ( 4.8%) users with no interactions.\n",
      "Recommender_Base_Class: URM Detected 247 ( 1.1%) items with no interactions.\n",
      "EvaluatorHoldout: Processed 10456 (100.0%) in 17.27 sec. Users per second: 606\n"
     ]
    },
    {
     "name": "stderr",
     "output_type": "stream",
     "text": [
      "[I 2023-12-03 17:48:43,420] Trial 182 finished with value: 0.05110464789715996 and parameters: {'cutoff_p3alpha': 1154, 'cutoff_merging': 11, 'cutoff_slim': 11}. Best is trial 163 with value: 0.05124177961161576.\n"
     ]
    },
    {
     "name": "stdout",
     "output_type": "stream",
     "text": [
      "Recommender_Base_Class: URM Detected 627 ( 4.8%) users with no interactions.\n",
      "Recommender_Base_Class: URM Detected 247 ( 1.1%) items with no interactions.\n",
      "EvaluatorHoldout: Processed 10456 (100.0%) in 17.42 sec. Users per second: 600\n"
     ]
    },
    {
     "name": "stderr",
     "output_type": "stream",
     "text": [
      "[I 2023-12-03 17:49:00,983] Trial 183 finished with value: 0.050954696020209224 and parameters: {'cutoff_p3alpha': 1286, 'cutoff_merging': 54, 'cutoff_slim': 12}. Best is trial 163 with value: 0.05124177961161576.\n"
     ]
    },
    {
     "name": "stdout",
     "output_type": "stream",
     "text": [
      "Recommender_Base_Class: URM Detected 627 ( 4.8%) users with no interactions.\n",
      "Recommender_Base_Class: URM Detected 247 ( 1.1%) items with no interactions.\n",
      "EvaluatorHoldout: Processed 10456 (100.0%) in 17.39 sec. Users per second: 601\n"
     ]
    },
    {
     "name": "stderr",
     "output_type": "stream",
     "text": [
      "[I 2023-12-03 17:49:18,519] Trial 184 finished with value: 0.0509778049513614 and parameters: {'cutoff_p3alpha': 1215, 'cutoff_merging': 35, 'cutoff_slim': 10}. Best is trial 163 with value: 0.05124177961161576.\n"
     ]
    },
    {
     "name": "stdout",
     "output_type": "stream",
     "text": [
      "Recommender_Base_Class: URM Detected 627 ( 4.8%) users with no interactions.\n",
      "Recommender_Base_Class: URM Detected 247 ( 1.1%) items with no interactions.\n",
      "EvaluatorHoldout: Processed 10456 (100.0%) in 17.30 sec. Users per second: 604\n"
     ]
    },
    {
     "name": "stderr",
     "output_type": "stream",
     "text": [
      "[I 2023-12-03 17:49:35,968] Trial 185 finished with value: 0.051022060698801934 and parameters: {'cutoff_p3alpha': 1123, 'cutoff_merging': 27, 'cutoff_slim': 11}. Best is trial 163 with value: 0.05124177961161576.\n"
     ]
    },
    {
     "name": "stdout",
     "output_type": "stream",
     "text": [
      "Recommender_Base_Class: URM Detected 627 ( 4.8%) users with no interactions.\n",
      "Recommender_Base_Class: URM Detected 247 ( 1.1%) items with no interactions.\n",
      "EvaluatorHoldout: Processed 10456 (100.0%) in 17.38 sec. Users per second: 601\n"
     ]
    },
    {
     "name": "stderr",
     "output_type": "stream",
     "text": [
      "[I 2023-12-03 17:49:53,509] Trial 186 finished with value: 0.05110464789715996 and parameters: {'cutoff_p3alpha': 1174, 'cutoff_merging': 11, 'cutoff_slim': 11}. Best is trial 163 with value: 0.05124177961161576.\n"
     ]
    },
    {
     "name": "stdout",
     "output_type": "stream",
     "text": [
      "Recommender_Base_Class: URM Detected 627 ( 4.8%) users with no interactions.\n",
      "Recommender_Base_Class: URM Detected 247 ( 1.1%) items with no interactions.\n",
      "EvaluatorHoldout: Processed 10456 (100.0%) in 17.36 sec. Users per second: 602\n"
     ]
    },
    {
     "name": "stderr",
     "output_type": "stream",
     "text": [
      "[I 2023-12-03 17:50:11,030] Trial 187 finished with value: 0.050957997838258565 and parameters: {'cutoff_p3alpha': 1242, 'cutoff_merging': 59, 'cutoff_slim': 13}. Best is trial 163 with value: 0.05124177961161576.\n"
     ]
    },
    {
     "name": "stdout",
     "output_type": "stream",
     "text": [
      "Recommender_Base_Class: URM Detected 627 ( 4.8%) users with no interactions.\n",
      "Recommender_Base_Class: URM Detected 247 ( 1.1%) items with no interactions.\n",
      "EvaluatorHoldout: Processed 10456 (100.0%) in 17.44 sec. Users per second: 600\n"
     ]
    },
    {
     "name": "stderr",
     "output_type": "stream",
     "text": [
      "[I 2023-12-03 17:50:28,623] Trial 188 finished with value: 0.050937526566352705 and parameters: {'cutoff_p3alpha': 1307, 'cutoff_merging': 73, 'cutoff_slim': 14}. Best is trial 163 with value: 0.05124177961161576.\n"
     ]
    },
    {
     "name": "stdout",
     "output_type": "stream",
     "text": [
      "Recommender_Base_Class: URM Detected 627 ( 4.8%) users with no interactions.\n",
      "Recommender_Base_Class: URM Detected 247 ( 1.1%) items with no interactions.\n",
      "EvaluatorHoldout: Processed 10456 (100.0%) in 17.36 sec. Users per second: 602\n"
     ]
    },
    {
     "name": "stderr",
     "output_type": "stream",
     "text": [
      "[I 2023-12-03 17:50:46,136] Trial 189 finished with value: 0.05090953322160342 and parameters: {'cutoff_p3alpha': 1445, 'cutoff_merging': 112, 'cutoff_slim': 17}. Best is trial 163 with value: 0.05124177961161576.\n"
     ]
    },
    {
     "name": "stdout",
     "output_type": "stream",
     "text": [
      "Recommender_Base_Class: URM Detected 627 ( 4.8%) users with no interactions.\n",
      "Recommender_Base_Class: URM Detected 247 ( 1.1%) items with no interactions.\n",
      "EvaluatorHoldout: Processed 10456 (100.0%) in 17.33 sec. Users per second: 603\n"
     ]
    },
    {
     "name": "stderr",
     "output_type": "stream",
     "text": [
      "[I 2023-12-03 17:51:03,628] Trial 190 finished with value: 0.051017312912158594 and parameters: {'cutoff_p3alpha': 1080, 'cutoff_merging': 29, 'cutoff_slim': 11}. Best is trial 163 with value: 0.05124177961161576.\n"
     ]
    },
    {
     "name": "stdout",
     "output_type": "stream",
     "text": [
      "Recommender_Base_Class: URM Detected 627 ( 4.8%) users with no interactions.\n",
      "Recommender_Base_Class: URM Detected 247 ( 1.1%) items with no interactions.\n",
      "EvaluatorHoldout: Processed 10456 (100.0%) in 17.21 sec. Users per second: 607\n"
     ]
    },
    {
     "name": "stderr",
     "output_type": "stream",
     "text": [
      "[I 2023-12-03 17:51:20,986] Trial 191 finished with value: 0.05110464789715996 and parameters: {'cutoff_p3alpha': 1120, 'cutoff_merging': 11, 'cutoff_slim': 11}. Best is trial 163 with value: 0.05124177961161576.\n"
     ]
    },
    {
     "name": "stdout",
     "output_type": "stream",
     "text": [
      "Recommender_Base_Class: URM Detected 627 ( 4.8%) users with no interactions.\n",
      "Recommender_Base_Class: URM Detected 247 ( 1.1%) items with no interactions.\n",
      "EvaluatorHoldout: Processed 10456 (100.0%) in 17.38 sec. Users per second: 602\n"
     ]
    },
    {
     "name": "stderr",
     "output_type": "stream",
     "text": [
      "[I 2023-12-03 17:51:38,520] Trial 192 finished with value: 0.050966324492051934 and parameters: {'cutoff_p3alpha': 1203, 'cutoff_merging': 50, 'cutoff_slim': 12}. Best is trial 163 with value: 0.05124177961161576.\n"
     ]
    },
    {
     "name": "stdout",
     "output_type": "stream",
     "text": [
      "Recommender_Base_Class: URM Detected 627 ( 4.8%) users with no interactions.\n",
      "Recommender_Base_Class: URM Detected 247 ( 1.1%) items with no interactions.\n",
      "EvaluatorHoldout: Processed 10456 (100.0%) in 17.31 sec. Users per second: 604\n"
     ]
    },
    {
     "name": "stderr",
     "output_type": "stream",
     "text": [
      "[I 2023-12-03 17:51:55,981] Trial 193 finished with value: 0.051008158906256325 and parameters: {'cutoff_p3alpha': 1139, 'cutoff_merging': 30, 'cutoff_slim': 10}. Best is trial 163 with value: 0.05124177961161576.\n"
     ]
    },
    {
     "name": "stdout",
     "output_type": "stream",
     "text": [
      "Recommender_Base_Class: URM Detected 627 ( 4.8%) users with no interactions.\n",
      "Recommender_Base_Class: URM Detected 247 ( 1.1%) items with no interactions.\n",
      "EvaluatorHoldout: Processed 10456 (100.0%) in 17.57 sec. Users per second: 595\n"
     ]
    },
    {
     "name": "stderr",
     "output_type": "stream",
     "text": [
      "[I 2023-12-03 17:52:13,703] Trial 194 finished with value: 0.05089455738939347 and parameters: {'cutoff_p3alpha': 1238, 'cutoff_merging': 459, 'cutoff_slim': 33}. Best is trial 163 with value: 0.05124177961161576.\n"
     ]
    },
    {
     "name": "stdout",
     "output_type": "stream",
     "text": [
      "Recommender_Base_Class: URM Detected 627 ( 4.8%) users with no interactions.\n",
      "Recommender_Base_Class: URM Detected 247 ( 1.1%) items with no interactions.\n",
      "EvaluatorHoldout: Processed 10456 (100.0%) in 17.40 sec. Users per second: 601\n"
     ]
    },
    {
     "name": "stderr",
     "output_type": "stream",
     "text": [
      "[I 2023-12-03 17:52:31,257] Trial 195 finished with value: 0.05095259348319849 and parameters: {'cutoff_p3alpha': 1161, 'cutoff_merging': 52, 'cutoff_slim': 12}. Best is trial 163 with value: 0.05124177961161576.\n"
     ]
    },
    {
     "name": "stdout",
     "output_type": "stream",
     "text": [
      "Recommender_Base_Class: URM Detected 627 ( 4.8%) users with no interactions.\n",
      "Recommender_Base_Class: URM Detected 247 ( 1.1%) items with no interactions.\n",
      "EvaluatorHoldout: Processed 10456 (100.0%) in 17.33 sec. Users per second: 603\n"
     ]
    },
    {
     "name": "stderr",
     "output_type": "stream",
     "text": [
      "[I 2023-12-03 17:52:48,737] Trial 196 finished with value: 0.05110464789715996 and parameters: {'cutoff_p3alpha': 1282, 'cutoff_merging': 11, 'cutoff_slim': 11}. Best is trial 163 with value: 0.05124177961161576.\n"
     ]
    },
    {
     "name": "stdout",
     "output_type": "stream",
     "text": [
      "Recommender_Base_Class: URM Detected 627 ( 4.8%) users with no interactions.\n",
      "Recommender_Base_Class: URM Detected 247 ( 1.1%) items with no interactions.\n",
      "EvaluatorHoldout: Processed 10456 (100.0%) in 17.35 sec. Users per second: 603\n"
     ]
    },
    {
     "name": "stderr",
     "output_type": "stream",
     "text": [
      "[I 2023-12-03 17:53:06,241] Trial 197 finished with value: 0.050973664395623675 and parameters: {'cutoff_p3alpha': 1203, 'cutoff_merging': 47, 'cutoff_slim': 10}. Best is trial 163 with value: 0.05124177961161576.\n"
     ]
    },
    {
     "name": "stdout",
     "output_type": "stream",
     "text": [
      "Recommender_Base_Class: URM Detected 627 ( 4.8%) users with no interactions.\n",
      "Recommender_Base_Class: URM Detected 247 ( 1.1%) items with no interactions.\n",
      "EvaluatorHoldout: Processed 10456 (100.0%) in 17.30 sec. Users per second: 604\n"
     ]
    },
    {
     "name": "stderr",
     "output_type": "stream",
     "text": [
      "[I 2023-12-03 17:53:23,695] Trial 198 finished with value: 0.05100753269938487 and parameters: {'cutoff_p3alpha': 1046, 'cutoff_merging': 28, 'cutoff_slim': 11}. Best is trial 163 with value: 0.05124177961161576.\n"
     ]
    },
    {
     "name": "stdout",
     "output_type": "stream",
     "text": [
      "Recommender_Base_Class: URM Detected 627 ( 4.8%) users with no interactions.\n",
      "Recommender_Base_Class: URM Detected 247 ( 1.1%) items with no interactions.\n",
      "EvaluatorHoldout: Processed 10456 (100.0%) in 17.35 sec. Users per second: 603\n"
     ]
    },
    {
     "name": "stderr",
     "output_type": "stream",
     "text": [
      "[I 2023-12-03 17:53:41,198] Trial 199 finished with value: 0.05110464789715996 and parameters: {'cutoff_p3alpha': 1100, 'cutoff_merging': 11, 'cutoff_slim': 11}. Best is trial 163 with value: 0.05124177961161576.\n"
     ]
    }
   ],
   "source": [
    "if config['tune_parameters']:\n",
    "    study = optuna.create_study(direction='maximize', study_name='hyperparameters_tuning_3stage_pipeline', \n",
    "                                storage=f'sqlite:///{config[\"database_path\"]}', load_if_exists=True)\n",
    "    study.optimize(objective, n_trials=200)"
   ]
  },
  {
   "cell_type": "code",
   "execution_count": 26,
   "id": "90fd1779",
   "metadata": {
    "execution": {
     "iopub.execute_input": "2023-12-03T17:53:41.326862Z",
     "iopub.status.busy": "2023-12-03T17:53:41.326464Z",
     "iopub.status.idle": "2023-12-03T17:53:42.104155Z",
     "shell.execute_reply": "2023-12-03T17:53:42.102902Z"
    },
    "papermill": {
     "duration": 0.832385,
     "end_time": "2023-12-03T17:53:42.106292",
     "exception": false,
     "start_time": "2023-12-03T17:53:41.273907",
     "status": "completed"
    },
    "tags": []
   },
   "outputs": [
    {
     "data": {
      "text/html": [
       "        <script type=\"text/javascript\">\n",
       "        window.PlotlyConfig = {MathJaxConfig: 'local'};\n",
       "        if (window.MathJax && window.MathJax.Hub && window.MathJax.Hub.Config) {window.MathJax.Hub.Config({SVG: {font: \"STIX-Web\"}});}\n",
       "        if (typeof require !== 'undefined') {\n",
       "        require.undef(\"plotly\");\n",
       "        requirejs.config({\n",
       "            paths: {\n",
       "                'plotly': ['https://cdn.plot.ly/plotly-2.25.2.min']\n",
       "            }\n",
       "        });\n",
       "        require(['plotly'], function(Plotly) {\n",
       "            window._Plotly = Plotly;\n",
       "        });\n",
       "        }\n",
       "        </script>\n",
       "        "
      ]
     },
     "metadata": {},
     "output_type": "display_data"
    },
    {
     "data": {
      "text/html": [
       "<div>                            <div id=\"12cd5f9f-c287-4bd4-98f5-a3019d976ffb\" class=\"plotly-graph-div\" style=\"height:525px; width:100%;\"></div>            <script type=\"text/javascript\">                require([\"plotly\"], function(Plotly) {                    window.PLOTLYENV=window.PLOTLYENV || {};                                    if (document.getElementById(\"12cd5f9f-c287-4bd4-98f5-a3019d976ffb\")) {                    Plotly.newPlot(                        \"12cd5f9f-c287-4bd4-98f5-a3019d976ffb\",                        [{\"mode\":\"markers\",\"name\":\"Objective Value\",\"x\":[0,1,2,3,4,5,6,7,8,9,10,11,12,13,14,15,16,17,18,19,20,21,22,23,24,25,26,27,28,29,30,31,32,33,34,35,36,37,38,39,40,41,42,43,44,45,46,47,48,49,50,51,52,53,54,55,56,57,58,59,60,61,62,63,64,65,66,67,68,69,70,71,72,73,74,75,76,77,78,79,80,81,82,83,84,85,86,87,88,89,90,91,92,93,94,95,96,97,98,99,100,101,102,103,104,105,106,107,108,109,110,111,112,113,114,115,116,117,118,119,120,121,122,123,124,125,126,127,128,129,130,131,132,133,134,135,136,137,138,139,140,141,142,143,144,145,146,147,148,149,150,151,152,153,154,155,156,157,158,159,160,161,162,163,164,165,166,167,168,169,170,171,172,173,174,175,176,177,178,179,180,181,182,183,184,185,186,187,188,189,190,191,192,193,194,195,196,197,198,199],\"y\":[0.051029002107091846,0.050875038710970794,0.0509656337668968,0.050888652068836256,0.050864916930812666,0.05088696320787999,0.050890883642414425,0.05089944559818373,0.050881847287500115,0.05087790408180671,0.05089495967986842,0.05117826325888741,0.051150042202548485,0.050895301247252854,0.05088325909935568,0.050904216155986046,0.05089519877703752,0.050905411641831495,0.05089367310938714,0.05089602992433961,0.05089648914271197,0.050938801751254516,0.05097225637896127,0.05116402369415053,0.05089755938718314,0.050903540611603536,0.05090432242139453,0.05112690670504424,0.05089659540812045,0.050895426488627125,0.05091811415333851,0.05117826325888741,0.05110464789715996,0.05091574974799974,0.05089689902357327,0.05091848608226821,0.05089791993053335,0.05095778151224843,0.050905517907239975,0.050871600265967695,0.05089766565259162,0.051005597150873216,0.05068683128696594,0.050905108026378675,0.05089509251162904,0.05092243687834795,0.050888652068836256,0.05089659540812045,0.05096138315055743,0.05090533194277513,0.050951917938815997,0.051237528995276366,0.05090432242139453,0.051150042202548485,0.05090205289588476,0.05095541710690967,0.05090432242139453,0.05089908885002668,0.050987190464046456,0.05093020563874678,0.050899009150970315,0.05090347609331981,0.05105898413305709,0.05089098990782291,0.05091790162252155,0.050896766191812666,0.05097207041449641,0.050904151637702316,0.050895426488627125,0.050905001760970195,0.05090858821850655,0.051177306870211055,0.051150042202548485,0.05099123993514835,0.05110464789715996,0.05092419025758794,0.05095274149573175,0.05090205289588476,0.0510288540945586,0.050904151637702316,0.05092674062739156,0.05106057811418435,0.050942946102185395,0.05093713566145721,0.05090188211219255,0.05091161678264834,0.05089519877703752,0.05095033154807506,0.050904151637702316,0.051150042202548485,0.05100975288738356,0.051237528995276366,0.050979398932488665,0.05094922714686546,0.05100675847998018,0.05095695795533267,0.050894451123984975,0.05090667544115383,0.050923632364193394,0.05090532055719565,0.05106057811418435,0.050925264297252255,0.05090347609331981,0.05090060313209758,0.05090004523870304,0.050948752747720434,0.050962540684471265,0.05091571179606814,0.051150042202548485,0.05095801681422435,0.05090122174858269,0.051237528995276366,0.05110464789715996,0.05097449933811893,0.051008158906256325,0.050927131532287055,0.0509525555312669,0.050969770527441366,0.050915818061476624,0.05093064208596019,0.05089239792448533,0.05114834954639913,0.05113168864842604,0.05110464789715996,0.05095807374212177,0.051017312912158594,0.050958100308473885,0.05090667544115383,0.050934361375257135,0.051017312912158594,0.050966324492051934,0.05116402369415053,0.050922915072686134,0.051146755565271866,0.050960054832951365,0.05106057811418435,0.051088450012752466,0.05100650040684532,0.05090336982791132,0.05092543508094447,0.05089495967986842,0.05106057811418435,0.050973664395623675,0.05095386487290716,0.05100177918655406,0.05110464789715996,0.05089438660570125,0.05093383004821472,0.05088992725373807,0.05097971772871411,0.05095831663448401,0.05110464789715996,0.051027260113431346,0.05100177918655406,0.05091939313343349,0.05106057811418435,0.05095660879756194,0.05091564348259126,0.05093404257903169,0.050905001760970195,0.05097998339223534,0.050945431953705295,0.05095782705456635,0.05124177961161576,0.05105898413305709,0.05101116849443229,0.05093713566145721,0.051022060698801934,0.05089385527865883,0.050926114420520134,0.05096285948069672,0.050908417434814335,0.05110464789715996,0.05095187998688438,0.0509258791185442,0.05110464789715996,0.05094905636317325,0.05100975288738356,0.05099986640920135,0.050929617383806955,0.05090347609331981,0.05094843395149498,0.05110464789715996,0.050954696020209224,0.0509778049513614,0.051022060698801934,0.05110464789715996,0.050957997838258565,0.050937526566352705,0.05090953322160342,0.051017312912158594,0.05110464789715996,0.050966324492051934,0.051008158906256325,0.05089455738939347,0.05095259348319849,0.05110464789715996,0.050973664395623675,0.05100753269938487,0.05110464789715996],\"type\":\"scatter\"},{\"mode\":\"lines\",\"name\":\"Best Value\",\"x\":[0,1,2,3,4,5,6,7,8,9,10,11,12,13,14,15,16,17,18,19,20,21,22,23,24,25,26,27,28,29,30,31,32,33,34,35,36,37,38,39,40,41,42,43,44,45,46,47,48,49,50,51,52,53,54,55,56,57,58,59,60,61,62,63,64,65,66,67,68,69,70,71,72,73,74,75,76,77,78,79,80,81,82,83,84,85,86,87,88,89,90,91,92,93,94,95,96,97,98,99,100,101,102,103,104,105,106,107,108,109,110,111,112,113,114,115,116,117,118,119,120,121,122,123,124,125,126,127,128,129,130,131,132,133,134,135,136,137,138,139,140,141,142,143,144,145,146,147,148,149,150,151,152,153,154,155,156,157,158,159,160,161,162,163,164,165,166,167,168,169,170,171,172,173,174,175,176,177,178,179,180,181,182,183,184,185,186,187,188,189,190,191,192,193,194,195,196,197,198,199],\"y\":[0.051029002107091846,0.051029002107091846,0.051029002107091846,0.051029002107091846,0.051029002107091846,0.051029002107091846,0.051029002107091846,0.051029002107091846,0.051029002107091846,0.051029002107091846,0.051029002107091846,0.05117826325888741,0.05117826325888741,0.05117826325888741,0.05117826325888741,0.05117826325888741,0.05117826325888741,0.05117826325888741,0.05117826325888741,0.05117826325888741,0.05117826325888741,0.05117826325888741,0.05117826325888741,0.05117826325888741,0.05117826325888741,0.05117826325888741,0.05117826325888741,0.05117826325888741,0.05117826325888741,0.05117826325888741,0.05117826325888741,0.05117826325888741,0.05117826325888741,0.05117826325888741,0.05117826325888741,0.05117826325888741,0.05117826325888741,0.05117826325888741,0.05117826325888741,0.05117826325888741,0.05117826325888741,0.05117826325888741,0.05117826325888741,0.05117826325888741,0.05117826325888741,0.05117826325888741,0.05117826325888741,0.05117826325888741,0.05117826325888741,0.05117826325888741,0.05117826325888741,0.051237528995276366,0.051237528995276366,0.051237528995276366,0.051237528995276366,0.051237528995276366,0.051237528995276366,0.051237528995276366,0.051237528995276366,0.051237528995276366,0.051237528995276366,0.051237528995276366,0.051237528995276366,0.051237528995276366,0.051237528995276366,0.051237528995276366,0.051237528995276366,0.051237528995276366,0.051237528995276366,0.051237528995276366,0.051237528995276366,0.051237528995276366,0.051237528995276366,0.051237528995276366,0.051237528995276366,0.051237528995276366,0.051237528995276366,0.051237528995276366,0.051237528995276366,0.051237528995276366,0.051237528995276366,0.051237528995276366,0.051237528995276366,0.051237528995276366,0.051237528995276366,0.051237528995276366,0.051237528995276366,0.051237528995276366,0.051237528995276366,0.051237528995276366,0.051237528995276366,0.051237528995276366,0.051237528995276366,0.051237528995276366,0.051237528995276366,0.051237528995276366,0.051237528995276366,0.051237528995276366,0.051237528995276366,0.051237528995276366,0.051237528995276366,0.051237528995276366,0.051237528995276366,0.051237528995276366,0.051237528995276366,0.051237528995276366,0.051237528995276366,0.051237528995276366,0.051237528995276366,0.051237528995276366,0.051237528995276366,0.051237528995276366,0.051237528995276366,0.051237528995276366,0.051237528995276366,0.051237528995276366,0.051237528995276366,0.051237528995276366,0.051237528995276366,0.051237528995276366,0.051237528995276366,0.051237528995276366,0.051237528995276366,0.051237528995276366,0.051237528995276366,0.051237528995276366,0.051237528995276366,0.051237528995276366,0.051237528995276366,0.051237528995276366,0.051237528995276366,0.051237528995276366,0.051237528995276366,0.051237528995276366,0.051237528995276366,0.051237528995276366,0.051237528995276366,0.051237528995276366,0.051237528995276366,0.051237528995276366,0.051237528995276366,0.051237528995276366,0.051237528995276366,0.051237528995276366,0.051237528995276366,0.051237528995276366,0.051237528995276366,0.051237528995276366,0.051237528995276366,0.051237528995276366,0.051237528995276366,0.051237528995276366,0.051237528995276366,0.051237528995276366,0.051237528995276366,0.051237528995276366,0.051237528995276366,0.051237528995276366,0.051237528995276366,0.051237528995276366,0.051237528995276366,0.051237528995276366,0.051237528995276366,0.05124177961161576,0.05124177961161576,0.05124177961161576,0.05124177961161576,0.05124177961161576,0.05124177961161576,0.05124177961161576,0.05124177961161576,0.05124177961161576,0.05124177961161576,0.05124177961161576,0.05124177961161576,0.05124177961161576,0.05124177961161576,0.05124177961161576,0.05124177961161576,0.05124177961161576,0.05124177961161576,0.05124177961161576,0.05124177961161576,0.05124177961161576,0.05124177961161576,0.05124177961161576,0.05124177961161576,0.05124177961161576,0.05124177961161576,0.05124177961161576,0.05124177961161576,0.05124177961161576,0.05124177961161576,0.05124177961161576,0.05124177961161576,0.05124177961161576,0.05124177961161576,0.05124177961161576,0.05124177961161576,0.05124177961161576],\"type\":\"scatter\"},{\"marker\":{\"color\":\"#cccccc\"},\"mode\":\"markers\",\"name\":\"Infeasible Trial\",\"showlegend\":false,\"x\":[],\"y\":[],\"type\":\"scatter\"}],                        {\"title\":{\"text\":\"Optimization History Plot\"},\"xaxis\":{\"title\":{\"text\":\"Trial\"}},\"yaxis\":{\"title\":{\"text\":\"Objective Value\"}},\"template\":{\"data\":{\"histogram2dcontour\":[{\"type\":\"histogram2dcontour\",\"colorbar\":{\"outlinewidth\":0,\"ticks\":\"\"},\"colorscale\":[[0.0,\"#0d0887\"],[0.1111111111111111,\"#46039f\"],[0.2222222222222222,\"#7201a8\"],[0.3333333333333333,\"#9c179e\"],[0.4444444444444444,\"#bd3786\"],[0.5555555555555556,\"#d8576b\"],[0.6666666666666666,\"#ed7953\"],[0.7777777777777778,\"#fb9f3a\"],[0.8888888888888888,\"#fdca26\"],[1.0,\"#f0f921\"]]}],\"choropleth\":[{\"type\":\"choropleth\",\"colorbar\":{\"outlinewidth\":0,\"ticks\":\"\"}}],\"histogram2d\":[{\"type\":\"histogram2d\",\"colorbar\":{\"outlinewidth\":0,\"ticks\":\"\"},\"colorscale\":[[0.0,\"#0d0887\"],[0.1111111111111111,\"#46039f\"],[0.2222222222222222,\"#7201a8\"],[0.3333333333333333,\"#9c179e\"],[0.4444444444444444,\"#bd3786\"],[0.5555555555555556,\"#d8576b\"],[0.6666666666666666,\"#ed7953\"],[0.7777777777777778,\"#fb9f3a\"],[0.8888888888888888,\"#fdca26\"],[1.0,\"#f0f921\"]]}],\"heatmap\":[{\"type\":\"heatmap\",\"colorbar\":{\"outlinewidth\":0,\"ticks\":\"\"},\"colorscale\":[[0.0,\"#0d0887\"],[0.1111111111111111,\"#46039f\"],[0.2222222222222222,\"#7201a8\"],[0.3333333333333333,\"#9c179e\"],[0.4444444444444444,\"#bd3786\"],[0.5555555555555556,\"#d8576b\"],[0.6666666666666666,\"#ed7953\"],[0.7777777777777778,\"#fb9f3a\"],[0.8888888888888888,\"#fdca26\"],[1.0,\"#f0f921\"]]}],\"heatmapgl\":[{\"type\":\"heatmapgl\",\"colorbar\":{\"outlinewidth\":0,\"ticks\":\"\"},\"colorscale\":[[0.0,\"#0d0887\"],[0.1111111111111111,\"#46039f\"],[0.2222222222222222,\"#7201a8\"],[0.3333333333333333,\"#9c179e\"],[0.4444444444444444,\"#bd3786\"],[0.5555555555555556,\"#d8576b\"],[0.6666666666666666,\"#ed7953\"],[0.7777777777777778,\"#fb9f3a\"],[0.8888888888888888,\"#fdca26\"],[1.0,\"#f0f921\"]]}],\"contourcarpet\":[{\"type\":\"contourcarpet\",\"colorbar\":{\"outlinewidth\":0,\"ticks\":\"\"}}],\"contour\":[{\"type\":\"contour\",\"colorbar\":{\"outlinewidth\":0,\"ticks\":\"\"},\"colorscale\":[[0.0,\"#0d0887\"],[0.1111111111111111,\"#46039f\"],[0.2222222222222222,\"#7201a8\"],[0.3333333333333333,\"#9c179e\"],[0.4444444444444444,\"#bd3786\"],[0.5555555555555556,\"#d8576b\"],[0.6666666666666666,\"#ed7953\"],[0.7777777777777778,\"#fb9f3a\"],[0.8888888888888888,\"#fdca26\"],[1.0,\"#f0f921\"]]}],\"surface\":[{\"type\":\"surface\",\"colorbar\":{\"outlinewidth\":0,\"ticks\":\"\"},\"colorscale\":[[0.0,\"#0d0887\"],[0.1111111111111111,\"#46039f\"],[0.2222222222222222,\"#7201a8\"],[0.3333333333333333,\"#9c179e\"],[0.4444444444444444,\"#bd3786\"],[0.5555555555555556,\"#d8576b\"],[0.6666666666666666,\"#ed7953\"],[0.7777777777777778,\"#fb9f3a\"],[0.8888888888888888,\"#fdca26\"],[1.0,\"#f0f921\"]]}],\"mesh3d\":[{\"type\":\"mesh3d\",\"colorbar\":{\"outlinewidth\":0,\"ticks\":\"\"}}],\"scatter\":[{\"fillpattern\":{\"fillmode\":\"overlay\",\"size\":10,\"solidity\":0.2},\"type\":\"scatter\"}],\"parcoords\":[{\"type\":\"parcoords\",\"line\":{\"colorbar\":{\"outlinewidth\":0,\"ticks\":\"\"}}}],\"scatterpolargl\":[{\"type\":\"scatterpolargl\",\"marker\":{\"colorbar\":{\"outlinewidth\":0,\"ticks\":\"\"}}}],\"bar\":[{\"error_x\":{\"color\":\"#2a3f5f\"},\"error_y\":{\"color\":\"#2a3f5f\"},\"marker\":{\"line\":{\"color\":\"#E5ECF6\",\"width\":0.5},\"pattern\":{\"fillmode\":\"overlay\",\"size\":10,\"solidity\":0.2}},\"type\":\"bar\"}],\"scattergeo\":[{\"type\":\"scattergeo\",\"marker\":{\"colorbar\":{\"outlinewidth\":0,\"ticks\":\"\"}}}],\"scatterpolar\":[{\"type\":\"scatterpolar\",\"marker\":{\"colorbar\":{\"outlinewidth\":0,\"ticks\":\"\"}}}],\"histogram\":[{\"marker\":{\"pattern\":{\"fillmode\":\"overlay\",\"size\":10,\"solidity\":0.2}},\"type\":\"histogram\"}],\"scattergl\":[{\"type\":\"scattergl\",\"marker\":{\"colorbar\":{\"outlinewidth\":0,\"ticks\":\"\"}}}],\"scatter3d\":[{\"type\":\"scatter3d\",\"line\":{\"colorbar\":{\"outlinewidth\":0,\"ticks\":\"\"}},\"marker\":{\"colorbar\":{\"outlinewidth\":0,\"ticks\":\"\"}}}],\"scattermapbox\":[{\"type\":\"scattermapbox\",\"marker\":{\"colorbar\":{\"outlinewidth\":0,\"ticks\":\"\"}}}],\"scatterternary\":[{\"type\":\"scatterternary\",\"marker\":{\"colorbar\":{\"outlinewidth\":0,\"ticks\":\"\"}}}],\"scattercarpet\":[{\"type\":\"scattercarpet\",\"marker\":{\"colorbar\":{\"outlinewidth\":0,\"ticks\":\"\"}}}],\"carpet\":[{\"aaxis\":{\"endlinecolor\":\"#2a3f5f\",\"gridcolor\":\"white\",\"linecolor\":\"white\",\"minorgridcolor\":\"white\",\"startlinecolor\":\"#2a3f5f\"},\"baxis\":{\"endlinecolor\":\"#2a3f5f\",\"gridcolor\":\"white\",\"linecolor\":\"white\",\"minorgridcolor\":\"white\",\"startlinecolor\":\"#2a3f5f\"},\"type\":\"carpet\"}],\"table\":[{\"cells\":{\"fill\":{\"color\":\"#EBF0F8\"},\"line\":{\"color\":\"white\"}},\"header\":{\"fill\":{\"color\":\"#C8D4E3\"},\"line\":{\"color\":\"white\"}},\"type\":\"table\"}],\"barpolar\":[{\"marker\":{\"line\":{\"color\":\"#E5ECF6\",\"width\":0.5},\"pattern\":{\"fillmode\":\"overlay\",\"size\":10,\"solidity\":0.2}},\"type\":\"barpolar\"}],\"pie\":[{\"automargin\":true,\"type\":\"pie\"}]},\"layout\":{\"autotypenumbers\":\"strict\",\"colorway\":[\"#636efa\",\"#EF553B\",\"#00cc96\",\"#ab63fa\",\"#FFA15A\",\"#19d3f3\",\"#FF6692\",\"#B6E880\",\"#FF97FF\",\"#FECB52\"],\"font\":{\"color\":\"#2a3f5f\"},\"hovermode\":\"closest\",\"hoverlabel\":{\"align\":\"left\"},\"paper_bgcolor\":\"white\",\"plot_bgcolor\":\"#E5ECF6\",\"polar\":{\"bgcolor\":\"#E5ECF6\",\"angularaxis\":{\"gridcolor\":\"white\",\"linecolor\":\"white\",\"ticks\":\"\"},\"radialaxis\":{\"gridcolor\":\"white\",\"linecolor\":\"white\",\"ticks\":\"\"}},\"ternary\":{\"bgcolor\":\"#E5ECF6\",\"aaxis\":{\"gridcolor\":\"white\",\"linecolor\":\"white\",\"ticks\":\"\"},\"baxis\":{\"gridcolor\":\"white\",\"linecolor\":\"white\",\"ticks\":\"\"},\"caxis\":{\"gridcolor\":\"white\",\"linecolor\":\"white\",\"ticks\":\"\"}},\"coloraxis\":{\"colorbar\":{\"outlinewidth\":0,\"ticks\":\"\"}},\"colorscale\":{\"sequential\":[[0.0,\"#0d0887\"],[0.1111111111111111,\"#46039f\"],[0.2222222222222222,\"#7201a8\"],[0.3333333333333333,\"#9c179e\"],[0.4444444444444444,\"#bd3786\"],[0.5555555555555556,\"#d8576b\"],[0.6666666666666666,\"#ed7953\"],[0.7777777777777778,\"#fb9f3a\"],[0.8888888888888888,\"#fdca26\"],[1.0,\"#f0f921\"]],\"sequentialminus\":[[0.0,\"#0d0887\"],[0.1111111111111111,\"#46039f\"],[0.2222222222222222,\"#7201a8\"],[0.3333333333333333,\"#9c179e\"],[0.4444444444444444,\"#bd3786\"],[0.5555555555555556,\"#d8576b\"],[0.6666666666666666,\"#ed7953\"],[0.7777777777777778,\"#fb9f3a\"],[0.8888888888888888,\"#fdca26\"],[1.0,\"#f0f921\"]],\"diverging\":[[0,\"#8e0152\"],[0.1,\"#c51b7d\"],[0.2,\"#de77ae\"],[0.3,\"#f1b6da\"],[0.4,\"#fde0ef\"],[0.5,\"#f7f7f7\"],[0.6,\"#e6f5d0\"],[0.7,\"#b8e186\"],[0.8,\"#7fbc41\"],[0.9,\"#4d9221\"],[1,\"#276419\"]]},\"xaxis\":{\"gridcolor\":\"white\",\"linecolor\":\"white\",\"ticks\":\"\",\"title\":{\"standoff\":15},\"zerolinecolor\":\"white\",\"automargin\":true,\"zerolinewidth\":2},\"yaxis\":{\"gridcolor\":\"white\",\"linecolor\":\"white\",\"ticks\":\"\",\"title\":{\"standoff\":15},\"zerolinecolor\":\"white\",\"automargin\":true,\"zerolinewidth\":2},\"scene\":{\"xaxis\":{\"backgroundcolor\":\"#E5ECF6\",\"gridcolor\":\"white\",\"linecolor\":\"white\",\"showbackground\":true,\"ticks\":\"\",\"zerolinecolor\":\"white\",\"gridwidth\":2},\"yaxis\":{\"backgroundcolor\":\"#E5ECF6\",\"gridcolor\":\"white\",\"linecolor\":\"white\",\"showbackground\":true,\"ticks\":\"\",\"zerolinecolor\":\"white\",\"gridwidth\":2},\"zaxis\":{\"backgroundcolor\":\"#E5ECF6\",\"gridcolor\":\"white\",\"linecolor\":\"white\",\"showbackground\":true,\"ticks\":\"\",\"zerolinecolor\":\"white\",\"gridwidth\":2}},\"shapedefaults\":{\"line\":{\"color\":\"#2a3f5f\"}},\"annotationdefaults\":{\"arrowcolor\":\"#2a3f5f\",\"arrowhead\":0,\"arrowwidth\":1},\"geo\":{\"bgcolor\":\"white\",\"landcolor\":\"#E5ECF6\",\"subunitcolor\":\"white\",\"showland\":true,\"showlakes\":true,\"lakecolor\":\"white\"},\"title\":{\"x\":0.05},\"mapbox\":{\"style\":\"light\"}}}},                        {\"responsive\": true}                    ).then(function(){\n",
       "                            \n",
       "var gd = document.getElementById('12cd5f9f-c287-4bd4-98f5-a3019d976ffb');\n",
       "var x = new MutationObserver(function (mutations, observer) {{\n",
       "        var display = window.getComputedStyle(gd).display;\n",
       "        if (!display || display === 'none') {{\n",
       "            console.log([gd, 'removed!']);\n",
       "            Plotly.purge(gd);\n",
       "            observer.disconnect();\n",
       "        }}\n",
       "}});\n",
       "\n",
       "// Listen for the removal of the full notebook cells\n",
       "var notebookContainer = gd.closest('#notebook-container');\n",
       "if (notebookContainer) {{\n",
       "    x.observe(notebookContainer, {childList: true});\n",
       "}}\n",
       "\n",
       "// Listen for the clearing of the current output cell\n",
       "var outputEl = gd.closest('.output');\n",
       "if (outputEl) {{\n",
       "    x.observe(outputEl, {childList: true});\n",
       "}}\n",
       "\n",
       "                        })                };                });            </script>        </div>"
      ]
     },
     "metadata": {},
     "output_type": "display_data"
    }
   ],
   "source": [
    "if config['tune_parameters']:\n",
    "    fig = optuna.visualization.plot_optimization_history(study)\n",
    "    fig.show()"
   ]
  },
  {
   "cell_type": "code",
   "execution_count": 27,
   "id": "c2c2aa8b",
   "metadata": {
    "execution": {
     "iopub.execute_input": "2023-12-03T17:53:42.213427Z",
     "iopub.status.busy": "2023-12-03T17:53:42.212366Z",
     "iopub.status.idle": "2023-12-03T17:53:43.951839Z",
     "shell.execute_reply": "2023-12-03T17:53:43.950699Z"
    },
    "papermill": {
     "duration": 1.795585,
     "end_time": "2023-12-03T17:53:43.954321",
     "exception": false,
     "start_time": "2023-12-03T17:53:42.158736",
     "status": "completed"
    },
    "tags": []
   },
   "outputs": [
    {
     "data": {
      "text/html": [
       "<div>                            <div id=\"d051ff71-60e2-44a7-b009-60cd13d3e031\" class=\"plotly-graph-div\" style=\"height:525px; width:100%;\"></div>            <script type=\"text/javascript\">                require([\"plotly\"], function(Plotly) {                    window.PLOTLYENV=window.PLOTLYENV || {};                                    if (document.getElementById(\"d051ff71-60e2-44a7-b009-60cd13d3e031\")) {                    Plotly.newPlot(                        \"d051ff71-60e2-44a7-b009-60cd13d3e031\",                        [{\"cliponaxis\":false,\"hovertemplate\":[\"cutoff_p3alpha (IntDistribution): 1.0\\u003cextra\\u003e\\u003c\\u002fextra\\u003e\"],\"name\":\"Objective Value\",\"orientation\":\"h\",\"text\":[\"1.00\"],\"textposition\":\"outside\",\"x\":[1.0],\"y\":[\"cutoff_p3alpha\"],\"type\":\"bar\"}],                        {\"title\":{\"text\":\"Hyperparameter Importances\"},\"xaxis\":{\"title\":{\"text\":\"Hyperparameter Importance\"}},\"yaxis\":{\"title\":{\"text\":\"Hyperparameter\"}},\"template\":{\"data\":{\"histogram2dcontour\":[{\"type\":\"histogram2dcontour\",\"colorbar\":{\"outlinewidth\":0,\"ticks\":\"\"},\"colorscale\":[[0.0,\"#0d0887\"],[0.1111111111111111,\"#46039f\"],[0.2222222222222222,\"#7201a8\"],[0.3333333333333333,\"#9c179e\"],[0.4444444444444444,\"#bd3786\"],[0.5555555555555556,\"#d8576b\"],[0.6666666666666666,\"#ed7953\"],[0.7777777777777778,\"#fb9f3a\"],[0.8888888888888888,\"#fdca26\"],[1.0,\"#f0f921\"]]}],\"choropleth\":[{\"type\":\"choropleth\",\"colorbar\":{\"outlinewidth\":0,\"ticks\":\"\"}}],\"histogram2d\":[{\"type\":\"histogram2d\",\"colorbar\":{\"outlinewidth\":0,\"ticks\":\"\"},\"colorscale\":[[0.0,\"#0d0887\"],[0.1111111111111111,\"#46039f\"],[0.2222222222222222,\"#7201a8\"],[0.3333333333333333,\"#9c179e\"],[0.4444444444444444,\"#bd3786\"],[0.5555555555555556,\"#d8576b\"],[0.6666666666666666,\"#ed7953\"],[0.7777777777777778,\"#fb9f3a\"],[0.8888888888888888,\"#fdca26\"],[1.0,\"#f0f921\"]]}],\"heatmap\":[{\"type\":\"heatmap\",\"colorbar\":{\"outlinewidth\":0,\"ticks\":\"\"},\"colorscale\":[[0.0,\"#0d0887\"],[0.1111111111111111,\"#46039f\"],[0.2222222222222222,\"#7201a8\"],[0.3333333333333333,\"#9c179e\"],[0.4444444444444444,\"#bd3786\"],[0.5555555555555556,\"#d8576b\"],[0.6666666666666666,\"#ed7953\"],[0.7777777777777778,\"#fb9f3a\"],[0.8888888888888888,\"#fdca26\"],[1.0,\"#f0f921\"]]}],\"heatmapgl\":[{\"type\":\"heatmapgl\",\"colorbar\":{\"outlinewidth\":0,\"ticks\":\"\"},\"colorscale\":[[0.0,\"#0d0887\"],[0.1111111111111111,\"#46039f\"],[0.2222222222222222,\"#7201a8\"],[0.3333333333333333,\"#9c179e\"],[0.4444444444444444,\"#bd3786\"],[0.5555555555555556,\"#d8576b\"],[0.6666666666666666,\"#ed7953\"],[0.7777777777777778,\"#fb9f3a\"],[0.8888888888888888,\"#fdca26\"],[1.0,\"#f0f921\"]]}],\"contourcarpet\":[{\"type\":\"contourcarpet\",\"colorbar\":{\"outlinewidth\":0,\"ticks\":\"\"}}],\"contour\":[{\"type\":\"contour\",\"colorbar\":{\"outlinewidth\":0,\"ticks\":\"\"},\"colorscale\":[[0.0,\"#0d0887\"],[0.1111111111111111,\"#46039f\"],[0.2222222222222222,\"#7201a8\"],[0.3333333333333333,\"#9c179e\"],[0.4444444444444444,\"#bd3786\"],[0.5555555555555556,\"#d8576b\"],[0.6666666666666666,\"#ed7953\"],[0.7777777777777778,\"#fb9f3a\"],[0.8888888888888888,\"#fdca26\"],[1.0,\"#f0f921\"]]}],\"surface\":[{\"type\":\"surface\",\"colorbar\":{\"outlinewidth\":0,\"ticks\":\"\"},\"colorscale\":[[0.0,\"#0d0887\"],[0.1111111111111111,\"#46039f\"],[0.2222222222222222,\"#7201a8\"],[0.3333333333333333,\"#9c179e\"],[0.4444444444444444,\"#bd3786\"],[0.5555555555555556,\"#d8576b\"],[0.6666666666666666,\"#ed7953\"],[0.7777777777777778,\"#fb9f3a\"],[0.8888888888888888,\"#fdca26\"],[1.0,\"#f0f921\"]]}],\"mesh3d\":[{\"type\":\"mesh3d\",\"colorbar\":{\"outlinewidth\":0,\"ticks\":\"\"}}],\"scatter\":[{\"fillpattern\":{\"fillmode\":\"overlay\",\"size\":10,\"solidity\":0.2},\"type\":\"scatter\"}],\"parcoords\":[{\"type\":\"parcoords\",\"line\":{\"colorbar\":{\"outlinewidth\":0,\"ticks\":\"\"}}}],\"scatterpolargl\":[{\"type\":\"scatterpolargl\",\"marker\":{\"colorbar\":{\"outlinewidth\":0,\"ticks\":\"\"}}}],\"bar\":[{\"error_x\":{\"color\":\"#2a3f5f\"},\"error_y\":{\"color\":\"#2a3f5f\"},\"marker\":{\"line\":{\"color\":\"#E5ECF6\",\"width\":0.5},\"pattern\":{\"fillmode\":\"overlay\",\"size\":10,\"solidity\":0.2}},\"type\":\"bar\"}],\"scattergeo\":[{\"type\":\"scattergeo\",\"marker\":{\"colorbar\":{\"outlinewidth\":0,\"ticks\":\"\"}}}],\"scatterpolar\":[{\"type\":\"scatterpolar\",\"marker\":{\"colorbar\":{\"outlinewidth\":0,\"ticks\":\"\"}}}],\"histogram\":[{\"marker\":{\"pattern\":{\"fillmode\":\"overlay\",\"size\":10,\"solidity\":0.2}},\"type\":\"histogram\"}],\"scattergl\":[{\"type\":\"scattergl\",\"marker\":{\"colorbar\":{\"outlinewidth\":0,\"ticks\":\"\"}}}],\"scatter3d\":[{\"type\":\"scatter3d\",\"line\":{\"colorbar\":{\"outlinewidth\":0,\"ticks\":\"\"}},\"marker\":{\"colorbar\":{\"outlinewidth\":0,\"ticks\":\"\"}}}],\"scattermapbox\":[{\"type\":\"scattermapbox\",\"marker\":{\"colorbar\":{\"outlinewidth\":0,\"ticks\":\"\"}}}],\"scatterternary\":[{\"type\":\"scatterternary\",\"marker\":{\"colorbar\":{\"outlinewidth\":0,\"ticks\":\"\"}}}],\"scattercarpet\":[{\"type\":\"scattercarpet\",\"marker\":{\"colorbar\":{\"outlinewidth\":0,\"ticks\":\"\"}}}],\"carpet\":[{\"aaxis\":{\"endlinecolor\":\"#2a3f5f\",\"gridcolor\":\"white\",\"linecolor\":\"white\",\"minorgridcolor\":\"white\",\"startlinecolor\":\"#2a3f5f\"},\"baxis\":{\"endlinecolor\":\"#2a3f5f\",\"gridcolor\":\"white\",\"linecolor\":\"white\",\"minorgridcolor\":\"white\",\"startlinecolor\":\"#2a3f5f\"},\"type\":\"carpet\"}],\"table\":[{\"cells\":{\"fill\":{\"color\":\"#EBF0F8\"},\"line\":{\"color\":\"white\"}},\"header\":{\"fill\":{\"color\":\"#C8D4E3\"},\"line\":{\"color\":\"white\"}},\"type\":\"table\"}],\"barpolar\":[{\"marker\":{\"line\":{\"color\":\"#E5ECF6\",\"width\":0.5},\"pattern\":{\"fillmode\":\"overlay\",\"size\":10,\"solidity\":0.2}},\"type\":\"barpolar\"}],\"pie\":[{\"automargin\":true,\"type\":\"pie\"}]},\"layout\":{\"autotypenumbers\":\"strict\",\"colorway\":[\"#636efa\",\"#EF553B\",\"#00cc96\",\"#ab63fa\",\"#FFA15A\",\"#19d3f3\",\"#FF6692\",\"#B6E880\",\"#FF97FF\",\"#FECB52\"],\"font\":{\"color\":\"#2a3f5f\"},\"hovermode\":\"closest\",\"hoverlabel\":{\"align\":\"left\"},\"paper_bgcolor\":\"white\",\"plot_bgcolor\":\"#E5ECF6\",\"polar\":{\"bgcolor\":\"#E5ECF6\",\"angularaxis\":{\"gridcolor\":\"white\",\"linecolor\":\"white\",\"ticks\":\"\"},\"radialaxis\":{\"gridcolor\":\"white\",\"linecolor\":\"white\",\"ticks\":\"\"}},\"ternary\":{\"bgcolor\":\"#E5ECF6\",\"aaxis\":{\"gridcolor\":\"white\",\"linecolor\":\"white\",\"ticks\":\"\"},\"baxis\":{\"gridcolor\":\"white\",\"linecolor\":\"white\",\"ticks\":\"\"},\"caxis\":{\"gridcolor\":\"white\",\"linecolor\":\"white\",\"ticks\":\"\"}},\"coloraxis\":{\"colorbar\":{\"outlinewidth\":0,\"ticks\":\"\"}},\"colorscale\":{\"sequential\":[[0.0,\"#0d0887\"],[0.1111111111111111,\"#46039f\"],[0.2222222222222222,\"#7201a8\"],[0.3333333333333333,\"#9c179e\"],[0.4444444444444444,\"#bd3786\"],[0.5555555555555556,\"#d8576b\"],[0.6666666666666666,\"#ed7953\"],[0.7777777777777778,\"#fb9f3a\"],[0.8888888888888888,\"#fdca26\"],[1.0,\"#f0f921\"]],\"sequentialminus\":[[0.0,\"#0d0887\"],[0.1111111111111111,\"#46039f\"],[0.2222222222222222,\"#7201a8\"],[0.3333333333333333,\"#9c179e\"],[0.4444444444444444,\"#bd3786\"],[0.5555555555555556,\"#d8576b\"],[0.6666666666666666,\"#ed7953\"],[0.7777777777777778,\"#fb9f3a\"],[0.8888888888888888,\"#fdca26\"],[1.0,\"#f0f921\"]],\"diverging\":[[0,\"#8e0152\"],[0.1,\"#c51b7d\"],[0.2,\"#de77ae\"],[0.3,\"#f1b6da\"],[0.4,\"#fde0ef\"],[0.5,\"#f7f7f7\"],[0.6,\"#e6f5d0\"],[0.7,\"#b8e186\"],[0.8,\"#7fbc41\"],[0.9,\"#4d9221\"],[1,\"#276419\"]]},\"xaxis\":{\"gridcolor\":\"white\",\"linecolor\":\"white\",\"ticks\":\"\",\"title\":{\"standoff\":15},\"zerolinecolor\":\"white\",\"automargin\":true,\"zerolinewidth\":2},\"yaxis\":{\"gridcolor\":\"white\",\"linecolor\":\"white\",\"ticks\":\"\",\"title\":{\"standoff\":15},\"zerolinecolor\":\"white\",\"automargin\":true,\"zerolinewidth\":2},\"scene\":{\"xaxis\":{\"backgroundcolor\":\"#E5ECF6\",\"gridcolor\":\"white\",\"linecolor\":\"white\",\"showbackground\":true,\"ticks\":\"\",\"zerolinecolor\":\"white\",\"gridwidth\":2},\"yaxis\":{\"backgroundcolor\":\"#E5ECF6\",\"gridcolor\":\"white\",\"linecolor\":\"white\",\"showbackground\":true,\"ticks\":\"\",\"zerolinecolor\":\"white\",\"gridwidth\":2},\"zaxis\":{\"backgroundcolor\":\"#E5ECF6\",\"gridcolor\":\"white\",\"linecolor\":\"white\",\"showbackground\":true,\"ticks\":\"\",\"zerolinecolor\":\"white\",\"gridwidth\":2}},\"shapedefaults\":{\"line\":{\"color\":\"#2a3f5f\"}},\"annotationdefaults\":{\"arrowcolor\":\"#2a3f5f\",\"arrowhead\":0,\"arrowwidth\":1},\"geo\":{\"bgcolor\":\"white\",\"landcolor\":\"#E5ECF6\",\"subunitcolor\":\"white\",\"showland\":true,\"showlakes\":true,\"lakecolor\":\"white\"},\"title\":{\"x\":0.05},\"mapbox\":{\"style\":\"light\"}}}},                        {\"responsive\": true}                    ).then(function(){\n",
       "                            \n",
       "var gd = document.getElementById('d051ff71-60e2-44a7-b009-60cd13d3e031');\n",
       "var x = new MutationObserver(function (mutations, observer) {{\n",
       "        var display = window.getComputedStyle(gd).display;\n",
       "        if (!display || display === 'none') {{\n",
       "            console.log([gd, 'removed!']);\n",
       "            Plotly.purge(gd);\n",
       "            observer.disconnect();\n",
       "        }}\n",
       "}});\n",
       "\n",
       "// Listen for the removal of the full notebook cells\n",
       "var notebookContainer = gd.closest('#notebook-container');\n",
       "if (notebookContainer) {{\n",
       "    x.observe(notebookContainer, {childList: true});\n",
       "}}\n",
       "\n",
       "// Listen for the clearing of the current output cell\n",
       "var outputEl = gd.closest('.output');\n",
       "if (outputEl) {{\n",
       "    x.observe(outputEl, {childList: true});\n",
       "}}\n",
       "\n",
       "                        })                };                });            </script>        </div>"
      ]
     },
     "metadata": {},
     "output_type": "display_data"
    }
   ],
   "source": [
    "if config['tune_parameters']:\n",
    "    fig = optuna.visualization.plot_param_importances(study)\n",
    "    fig.show()"
   ]
  },
  {
   "cell_type": "code",
   "execution_count": 28,
   "id": "9220ed3a",
   "metadata": {
    "execution": {
     "iopub.execute_input": "2023-12-03T17:53:44.062020Z",
     "iopub.status.busy": "2023-12-03T17:53:44.061602Z",
     "iopub.status.idle": "2023-12-03T17:53:44.411998Z",
     "shell.execute_reply": "2023-12-03T17:53:44.410754Z"
    },
    "papermill": {
     "duration": 0.40686,
     "end_time": "2023-12-03T17:53:44.414370",
     "exception": false,
     "start_time": "2023-12-03T17:53:44.007510",
     "status": "completed"
    },
    "tags": []
   },
   "outputs": [
    {
     "data": {
      "text/html": [
       "<div>                            <div id=\"d399826d-6f27-4bdb-b93e-70a4ec1e370f\" class=\"plotly-graph-div\" style=\"height:525px; width:100%;\"></div>            <script type=\"text/javascript\">                require([\"plotly\"], function(Plotly) {                    window.PLOTLYENV=window.PLOTLYENV || {};                                    if (document.getElementById(\"d399826d-6f27-4bdb-b93e-70a4ec1e370f\")) {                    Plotly.newPlot(                        \"d399826d-6f27-4bdb-b93e-70a4ec1e370f\",                        [{\"marker\":{\"color\":[0,1,2,3,4,5,6,7,8,9,10,11,12,13,14,15,16,17,18,19,20,21,22,23,24,25,26,27,28,29,30,31,32,33,34,35,36,37,38,39,40,41,42,43,44,45,46,47,48,49,50,51,52,53,54,55,56,57,58,59,60,61,62,63,64,65,66,67,68,69,70,71,72,73,74,75,76,77,78,79,80,81,82,83,84,85,86,87,88,89,90,91,92,93,94,95,96,97,98,99,100,101,102,103,104,105,106,107,108,109,110,111,112,113,114,115,116,117,118,119,120,121,122,123,124,125,126,127,128,129,130,131,132,133,134,135,136,137,138,139,140,141,142,143,144,145,146,147,148,149,150,151,152,153,154,155,156,157,158,159,160,161,162,163,164,165,166,167,168,169,170,171,172,173,174,175,176,177,178,179,180,181,182,183,184,185,186,187,188,189,190,191,192,193,194,195,196,197,198,199],\"colorbar\":{\"title\":{\"text\":\"Trial\"},\"x\":1.0,\"xpad\":40},\"colorscale\":[[0.0,\"rgb(247,251,255)\"],[0.125,\"rgb(222,235,247)\"],[0.25,\"rgb(198,219,239)\"],[0.375,\"rgb(158,202,225)\"],[0.5,\"rgb(107,174,214)\"],[0.625,\"rgb(66,146,198)\"],[0.75,\"rgb(33,113,181)\"],[0.875,\"rgb(8,81,156)\"],[1.0,\"rgb(8,48,107)\"]],\"line\":{\"color\":\"Grey\",\"width\":0.5},\"showscale\":true},\"mode\":\"markers\",\"name\":\"Feasible Trial\",\"showlegend\":false,\"x\":[39,108,49,1470,629,422,1260,236,317,988,770,18,13,427,1788,206,606,163,1000,343,502,73,32,16,273,138,187,19,567,745,104,18,11,106,372,101,241,60,170,1938,266,30,13,157,891,86,1462,437,48,131,64,14,213,13,126,68,189,293,45,81,242,144,12,1190,103,358,47,210,685,158,108,18,13,44,11,86,62,126,39,176,90,12,72,34,140,111,900,71,184,13,42,14,35,70,26,56,511,120,86,156,12,95,124,220,269,33,57,102,13,55,145,14,11,32,30,82,64,46,103,79,1098,17,19,11,48,29,60,121,77,29,50,16,89,17,65,12,22,43,126,95,780,12,47,66,36,11,398,75,1428,35,59,11,39,36,97,12,54,106,77,157,31,72,59,15,12,37,34,27,614,95,57,116,11,53,84,11,70,42,36,83,136,33,11,54,35,27,11,59,73,112,29,11,50,30,459,52,11,47,28,11],\"y\":[0.051029002107091846,0.050875038710970794,0.0509656337668968,0.050888652068836256,0.050864916930812666,0.05088696320787999,0.050890883642414425,0.05089944559818373,0.050881847287500115,0.05087790408180671,0.05089495967986842,0.05117826325888741,0.051150042202548485,0.050895301247252854,0.05088325909935568,0.050904216155986046,0.05089519877703752,0.050905411641831495,0.05089367310938714,0.05089602992433961,0.05089648914271197,0.050938801751254516,0.05097225637896127,0.05116402369415053,0.05089755938718314,0.050903540611603536,0.05090432242139453,0.05112690670504424,0.05089659540812045,0.050895426488627125,0.05091811415333851,0.05117826325888741,0.05110464789715996,0.05091574974799974,0.05089689902357327,0.05091848608226821,0.05089791993053335,0.05095778151224843,0.050905517907239975,0.050871600265967695,0.05089766565259162,0.051005597150873216,0.05068683128696594,0.050905108026378675,0.05089509251162904,0.05092243687834795,0.050888652068836256,0.05089659540812045,0.05096138315055743,0.05090533194277513,0.050951917938815997,0.051237528995276366,0.05090432242139453,0.051150042202548485,0.05090205289588476,0.05095541710690967,0.05090432242139453,0.05089908885002668,0.050987190464046456,0.05093020563874678,0.050899009150970315,0.05090347609331981,0.05105898413305709,0.05089098990782291,0.05091790162252155,0.050896766191812666,0.05097207041449641,0.050904151637702316,0.050895426488627125,0.050905001760970195,0.05090858821850655,0.051177306870211055,0.051150042202548485,0.05099123993514835,0.05110464789715996,0.05092419025758794,0.05095274149573175,0.05090205289588476,0.0510288540945586,0.050904151637702316,0.05092674062739156,0.05106057811418435,0.050942946102185395,0.05093713566145721,0.05090188211219255,0.05091161678264834,0.05089519877703752,0.05095033154807506,0.050904151637702316,0.051150042202548485,0.05100975288738356,0.051237528995276366,0.050979398932488665,0.05094922714686546,0.05100675847998018,0.05095695795533267,0.050894451123984975,0.05090667544115383,0.050923632364193394,0.05090532055719565,0.05106057811418435,0.050925264297252255,0.05090347609331981,0.05090060313209758,0.05090004523870304,0.050948752747720434,0.050962540684471265,0.05091571179606814,0.051150042202548485,0.05095801681422435,0.05090122174858269,0.051237528995276366,0.05110464789715996,0.05097449933811893,0.051008158906256325,0.050927131532287055,0.0509525555312669,0.050969770527441366,0.050915818061476624,0.05093064208596019,0.05089239792448533,0.05114834954639913,0.05113168864842604,0.05110464789715996,0.05095807374212177,0.051017312912158594,0.050958100308473885,0.05090667544115383,0.050934361375257135,0.051017312912158594,0.050966324492051934,0.05116402369415053,0.050922915072686134,0.051146755565271866,0.050960054832951365,0.05106057811418435,0.051088450012752466,0.05100650040684532,0.05090336982791132,0.05092543508094447,0.05089495967986842,0.05106057811418435,0.050973664395623675,0.05095386487290716,0.05100177918655406,0.05110464789715996,0.05089438660570125,0.05093383004821472,0.05088992725373807,0.05097971772871411,0.05095831663448401,0.05110464789715996,0.051027260113431346,0.05100177918655406,0.05091939313343349,0.05106057811418435,0.05095660879756194,0.05091564348259126,0.05093404257903169,0.050905001760970195,0.05097998339223534,0.050945431953705295,0.05095782705456635,0.05124177961161576,0.05105898413305709,0.05101116849443229,0.05093713566145721,0.051022060698801934,0.05089385527865883,0.050926114420520134,0.05096285948069672,0.050908417434814335,0.05110464789715996,0.05095187998688438,0.0509258791185442,0.05110464789715996,0.05094905636317325,0.05100975288738356,0.05099986640920135,0.050929617383806955,0.05090347609331981,0.05094843395149498,0.05110464789715996,0.050954696020209224,0.0509778049513614,0.051022060698801934,0.05110464789715996,0.050957997838258565,0.050937526566352705,0.05090953322160342,0.051017312912158594,0.05110464789715996,0.050966324492051934,0.051008158906256325,0.05089455738939347,0.05095259348319849,0.05110464789715996,0.050973664395623675,0.05100753269938487,0.05110464789715996],\"type\":\"scatter\",\"xaxis\":\"x\",\"yaxis\":\"y\"},{\"marker\":{\"color\":[0,1,2,3,4,5,6,7,8,9,10,11,12,13,14,15,16,17,18,19,20,21,22,23,24,25,26,27,28,29,30,31,32,33,34,35,36,37,38,39,40,41,42,43,44,45,46,47,48,49,50,51,52,53,54,55,56,57,58,59,60,61,62,63,64,65,66,67,68,69,70,71,72,73,74,75,76,77,78,79,80,81,82,83,84,85,86,87,88,89,90,91,92,93,94,95,96,97,98,99,100,101,102,103,104,105,106,107,108,109,110,111,112,113,114,115,116,117,118,119,120,121,122,123,124,125,126,127,128,129,130,131,132,133,134,135,136,137,138,139,140,141,142,143,144,145,146,147,148,149,150,151,152,153,154,155,156,157,158,159,160,161,162,163,164,165,166,167,168,169,170,171,172,173,174,175,176,177,178,179,180,181,182,183,184,185,186,187,188,189,190,191,192,193,194,195,196,197,198,199],\"colorbar\":{\"title\":{\"text\":\"Trial\"},\"x\":1.0,\"xpad\":40},\"colorscale\":[[0.0,\"rgb(247,251,255)\"],[0.125,\"rgb(222,235,247)\"],[0.25,\"rgb(198,219,239)\"],[0.375,\"rgb(158,202,225)\"],[0.5,\"rgb(107,174,214)\"],[0.625,\"rgb(66,146,198)\"],[0.75,\"rgb(33,113,181)\"],[0.875,\"rgb(8,81,156)\"],[1.0,\"rgb(8,48,107)\"]],\"line\":{\"color\":\"Grey\",\"width\":0.5},\"showscale\":false},\"mode\":\"markers\",\"name\":\"Feasible Trial\",\"showlegend\":false,\"x\":[1506,127,465,1795,657,519,1597,667,334,1008,1310,1183,1289,1192,1985,908,1318,940,1601,1126,1435,1571,1796,1437,1146,801,1271,1387,1719,1495,1023,1431,1204,1434,1697,1085,1343,812,1487,1966,1213,1379,14,1569,1396,1290,1846,1675,301,1063,945,1184,1252,1163,1135,967,1184,1482,886,627,1315,1395,1237,1543,1058,1628,1145,1350,1473,1431,1287,1190,1103,1003,1109,1174,1022,1232,866,1324,1075,1531,1268,1184,1371,1107,1408,1334,1461,1231,1207,1261,1167,1258,977,1042,1129,1225,1283,1364,1096,1309,1427,1623,1517,1165,1223,1380,1267,1258,1312,1202,1138,1196,1075,1286,1233,1002,1343,1152,1456,1187,1188,1115,1254,1063,1194,1294,1154,916,1098,1198,1214,1257,1343,1143,251,1021,1398,1216,1298,1260,1172,1239,1111,1335,1258,1189,1572,1065,1135,1181,1219,1183,1301,1272,1108,1376,1223,1433,1153,1350,1297,1257,1250,1221,1183,1044,1094,1322,1148,1482,1383,1264,1416,1197,1319,1267,1235,1352,1507,1196,1154,1286,1215,1123,1174,1242,1307,1445,1080,1120,1203,1139,1238,1161,1282,1203,1046,1100],\"y\":[0.051029002107091846,0.050875038710970794,0.0509656337668968,0.050888652068836256,0.050864916930812666,0.05088696320787999,0.050890883642414425,0.05089944559818373,0.050881847287500115,0.05087790408180671,0.05089495967986842,0.05117826325888741,0.051150042202548485,0.050895301247252854,0.05088325909935568,0.050904216155986046,0.05089519877703752,0.050905411641831495,0.05089367310938714,0.05089602992433961,0.05089648914271197,0.050938801751254516,0.05097225637896127,0.05116402369415053,0.05089755938718314,0.050903540611603536,0.05090432242139453,0.05112690670504424,0.05089659540812045,0.050895426488627125,0.05091811415333851,0.05117826325888741,0.05110464789715996,0.05091574974799974,0.05089689902357327,0.05091848608226821,0.05089791993053335,0.05095778151224843,0.050905517907239975,0.050871600265967695,0.05089766565259162,0.051005597150873216,0.05068683128696594,0.050905108026378675,0.05089509251162904,0.05092243687834795,0.050888652068836256,0.05089659540812045,0.05096138315055743,0.05090533194277513,0.050951917938815997,0.051237528995276366,0.05090432242139453,0.051150042202548485,0.05090205289588476,0.05095541710690967,0.05090432242139453,0.05089908885002668,0.050987190464046456,0.05093020563874678,0.050899009150970315,0.05090347609331981,0.05105898413305709,0.05089098990782291,0.05091790162252155,0.050896766191812666,0.05097207041449641,0.050904151637702316,0.050895426488627125,0.050905001760970195,0.05090858821850655,0.051177306870211055,0.051150042202548485,0.05099123993514835,0.05110464789715996,0.05092419025758794,0.05095274149573175,0.05090205289588476,0.0510288540945586,0.050904151637702316,0.05092674062739156,0.05106057811418435,0.050942946102185395,0.05093713566145721,0.05090188211219255,0.05091161678264834,0.05089519877703752,0.05095033154807506,0.050904151637702316,0.051150042202548485,0.05100975288738356,0.051237528995276366,0.050979398932488665,0.05094922714686546,0.05100675847998018,0.05095695795533267,0.050894451123984975,0.05090667544115383,0.050923632364193394,0.05090532055719565,0.05106057811418435,0.050925264297252255,0.05090347609331981,0.05090060313209758,0.05090004523870304,0.050948752747720434,0.050962540684471265,0.05091571179606814,0.051150042202548485,0.05095801681422435,0.05090122174858269,0.051237528995276366,0.05110464789715996,0.05097449933811893,0.051008158906256325,0.050927131532287055,0.0509525555312669,0.050969770527441366,0.050915818061476624,0.05093064208596019,0.05089239792448533,0.05114834954639913,0.05113168864842604,0.05110464789715996,0.05095807374212177,0.051017312912158594,0.050958100308473885,0.05090667544115383,0.050934361375257135,0.051017312912158594,0.050966324492051934,0.05116402369415053,0.050922915072686134,0.051146755565271866,0.050960054832951365,0.05106057811418435,0.051088450012752466,0.05100650040684532,0.05090336982791132,0.05092543508094447,0.05089495967986842,0.05106057811418435,0.050973664395623675,0.05095386487290716,0.05100177918655406,0.05110464789715996,0.05089438660570125,0.05093383004821472,0.05088992725373807,0.05097971772871411,0.05095831663448401,0.05110464789715996,0.051027260113431346,0.05100177918655406,0.05091939313343349,0.05106057811418435,0.05095660879756194,0.05091564348259126,0.05093404257903169,0.050905001760970195,0.05097998339223534,0.050945431953705295,0.05095782705456635,0.05124177961161576,0.05105898413305709,0.05101116849443229,0.05093713566145721,0.051022060698801934,0.05089385527865883,0.050926114420520134,0.05096285948069672,0.050908417434814335,0.05110464789715996,0.05095187998688438,0.0509258791185442,0.05110464789715996,0.05094905636317325,0.05100975288738356,0.05099986640920135,0.050929617383806955,0.05090347609331981,0.05094843395149498,0.05110464789715996,0.050954696020209224,0.0509778049513614,0.051022060698801934,0.05110464789715996,0.050957997838258565,0.050937526566352705,0.05090953322160342,0.051017312912158594,0.05110464789715996,0.050966324492051934,0.051008158906256325,0.05089455738939347,0.05095259348319849,0.05110464789715996,0.050973664395623675,0.05100753269938487,0.05110464789715996],\"type\":\"scatter\",\"xaxis\":\"x2\",\"yaxis\":\"y2\"},{\"marker\":{\"color\":[0,1,2,3,4,5,6,7,8,9,10,11,12,13,14,15,16,17,18,19,20,21,22,23,24,25,26,27,28,29,30,31,32,33,34,35,36,37,38,39,40,41,42,43,44,45,46,47,48,49,50,51,52,53,54,55,56,57,58,59,60,61,62,63,64,65,66,67,68,69,70,71,72,73,74,75,76,77,78,79,80,81,82,83,84,85,86,87,88,89,90,91,92,93,94,95,96,97,98,99,100,101,102,103,104,105,106,107,108,109,110,111,112,113,114,115,116,117,118,119,120,121,122,123,124,125,126,127,128,129,130,131,132,133,134,135,136,137,138,139,140,141,142,143,144,145,146,147,148,149,150,151,152,153,154,155,156,157,158,159,160,161,162,163,164,165,166,167,168,169,170,171,172,173,174,175,176,177,178,179,180,181,182,183,184,185,186,187,188,189,190,191,192,193,194,195,196,197,198,199],\"colorbar\":{\"title\":{\"text\":\"Trial\"},\"x\":1.0,\"xpad\":40},\"colorscale\":[[0.0,\"rgb(247,251,255)\"],[0.125,\"rgb(222,235,247)\"],[0.25,\"rgb(198,219,239)\"],[0.375,\"rgb(158,202,225)\"],[0.5,\"rgb(107,174,214)\"],[0.625,\"rgb(66,146,198)\"],[0.75,\"rgb(33,113,181)\"],[0.875,\"rgb(8,81,156)\"],[1.0,\"rgb(8,48,107)\"]],\"line\":{\"color\":\"Grey\",\"width\":0.5},\"showscale\":false},\"mode\":\"markers\",\"name\":\"Feasible Trial\",\"showlegend\":false,\"x\":[23,82,29,503,207,51,1007,82,294,785,482,11,11,142,1590,19,171,10,334,85,124,10,13,11,48,34,49,11,206,256,23,11,10,20,66,30,35,15,59,409,76,12,11,41,120,17,266,101,14,25,16,11,41,11,25,19,32,62,13,21,40,28,11,192,19,53,12,33,150,26,17,11,11,14,10,22,15,21,12,36,17,11,14,11,23,17,90,13,29,11,10,11,12,15,11,13,67,19,16,26,11,18,20,32,47,10,14,15,11,13,24,11,11,12,12,16,10,12,18,14,110,11,11,11,13,10,14,19,15,12,10,11,16,11,13,11,11,12,21,17,71,11,10,13,10,11,39,15,153,12,13,11,10,12,15,11,14,17,14,22,11,13,10,11,11,12,12,11,51,16,13,18,11,10,14,11,13,10,12,15,20,10,11,12,10,11,11,13,14,17,11,11,12,10,33,12,11,10,11,11],\"y\":[0.051029002107091846,0.050875038710970794,0.0509656337668968,0.050888652068836256,0.050864916930812666,0.05088696320787999,0.050890883642414425,0.05089944559818373,0.050881847287500115,0.05087790408180671,0.05089495967986842,0.05117826325888741,0.051150042202548485,0.050895301247252854,0.05088325909935568,0.050904216155986046,0.05089519877703752,0.050905411641831495,0.05089367310938714,0.05089602992433961,0.05089648914271197,0.050938801751254516,0.05097225637896127,0.05116402369415053,0.05089755938718314,0.050903540611603536,0.05090432242139453,0.05112690670504424,0.05089659540812045,0.050895426488627125,0.05091811415333851,0.05117826325888741,0.05110464789715996,0.05091574974799974,0.05089689902357327,0.05091848608226821,0.05089791993053335,0.05095778151224843,0.050905517907239975,0.050871600265967695,0.05089766565259162,0.051005597150873216,0.05068683128696594,0.050905108026378675,0.05089509251162904,0.05092243687834795,0.050888652068836256,0.05089659540812045,0.05096138315055743,0.05090533194277513,0.050951917938815997,0.051237528995276366,0.05090432242139453,0.051150042202548485,0.05090205289588476,0.05095541710690967,0.05090432242139453,0.05089908885002668,0.050987190464046456,0.05093020563874678,0.050899009150970315,0.05090347609331981,0.05105898413305709,0.05089098990782291,0.05091790162252155,0.050896766191812666,0.05097207041449641,0.050904151637702316,0.050895426488627125,0.050905001760970195,0.05090858821850655,0.051177306870211055,0.051150042202548485,0.05099123993514835,0.05110464789715996,0.05092419025758794,0.05095274149573175,0.05090205289588476,0.0510288540945586,0.050904151637702316,0.05092674062739156,0.05106057811418435,0.050942946102185395,0.05093713566145721,0.05090188211219255,0.05091161678264834,0.05089519877703752,0.05095033154807506,0.050904151637702316,0.051150042202548485,0.05100975288738356,0.051237528995276366,0.050979398932488665,0.05094922714686546,0.05100675847998018,0.05095695795533267,0.050894451123984975,0.05090667544115383,0.050923632364193394,0.05090532055719565,0.05106057811418435,0.050925264297252255,0.05090347609331981,0.05090060313209758,0.05090004523870304,0.050948752747720434,0.050962540684471265,0.05091571179606814,0.051150042202548485,0.05095801681422435,0.05090122174858269,0.051237528995276366,0.05110464789715996,0.05097449933811893,0.051008158906256325,0.050927131532287055,0.0509525555312669,0.050969770527441366,0.050915818061476624,0.05093064208596019,0.05089239792448533,0.05114834954639913,0.05113168864842604,0.05110464789715996,0.05095807374212177,0.051017312912158594,0.050958100308473885,0.05090667544115383,0.050934361375257135,0.051017312912158594,0.050966324492051934,0.05116402369415053,0.050922915072686134,0.051146755565271866,0.050960054832951365,0.05106057811418435,0.051088450012752466,0.05100650040684532,0.05090336982791132,0.05092543508094447,0.05089495967986842,0.05106057811418435,0.050973664395623675,0.05095386487290716,0.05100177918655406,0.05110464789715996,0.05089438660570125,0.05093383004821472,0.05088992725373807,0.05097971772871411,0.05095831663448401,0.05110464789715996,0.051027260113431346,0.05100177918655406,0.05091939313343349,0.05106057811418435,0.05095660879756194,0.05091564348259126,0.05093404257903169,0.050905001760970195,0.05097998339223534,0.050945431953705295,0.05095782705456635,0.05124177961161576,0.05105898413305709,0.05101116849443229,0.05093713566145721,0.051022060698801934,0.05089385527865883,0.050926114420520134,0.05096285948069672,0.050908417434814335,0.05110464789715996,0.05095187998688438,0.0509258791185442,0.05110464789715996,0.05094905636317325,0.05100975288738356,0.05099986640920135,0.050929617383806955,0.05090347609331981,0.05094843395149498,0.05110464789715996,0.050954696020209224,0.0509778049513614,0.051022060698801934,0.05110464789715996,0.050957997838258565,0.050937526566352705,0.05090953322160342,0.051017312912158594,0.05110464789715996,0.050966324492051934,0.051008158906256325,0.05089455738939347,0.05095259348319849,0.05110464789715996,0.050973664395623675,0.05100753269938487,0.05110464789715996],\"type\":\"scatter\",\"xaxis\":\"x3\",\"yaxis\":\"y3\"}],                        {\"template\":{\"data\":{\"histogram2dcontour\":[{\"type\":\"histogram2dcontour\",\"colorbar\":{\"outlinewidth\":0,\"ticks\":\"\"},\"colorscale\":[[0.0,\"#0d0887\"],[0.1111111111111111,\"#46039f\"],[0.2222222222222222,\"#7201a8\"],[0.3333333333333333,\"#9c179e\"],[0.4444444444444444,\"#bd3786\"],[0.5555555555555556,\"#d8576b\"],[0.6666666666666666,\"#ed7953\"],[0.7777777777777778,\"#fb9f3a\"],[0.8888888888888888,\"#fdca26\"],[1.0,\"#f0f921\"]]}],\"choropleth\":[{\"type\":\"choropleth\",\"colorbar\":{\"outlinewidth\":0,\"ticks\":\"\"}}],\"histogram2d\":[{\"type\":\"histogram2d\",\"colorbar\":{\"outlinewidth\":0,\"ticks\":\"\"},\"colorscale\":[[0.0,\"#0d0887\"],[0.1111111111111111,\"#46039f\"],[0.2222222222222222,\"#7201a8\"],[0.3333333333333333,\"#9c179e\"],[0.4444444444444444,\"#bd3786\"],[0.5555555555555556,\"#d8576b\"],[0.6666666666666666,\"#ed7953\"],[0.7777777777777778,\"#fb9f3a\"],[0.8888888888888888,\"#fdca26\"],[1.0,\"#f0f921\"]]}],\"heatmap\":[{\"type\":\"heatmap\",\"colorbar\":{\"outlinewidth\":0,\"ticks\":\"\"},\"colorscale\":[[0.0,\"#0d0887\"],[0.1111111111111111,\"#46039f\"],[0.2222222222222222,\"#7201a8\"],[0.3333333333333333,\"#9c179e\"],[0.4444444444444444,\"#bd3786\"],[0.5555555555555556,\"#d8576b\"],[0.6666666666666666,\"#ed7953\"],[0.7777777777777778,\"#fb9f3a\"],[0.8888888888888888,\"#fdca26\"],[1.0,\"#f0f921\"]]}],\"heatmapgl\":[{\"type\":\"heatmapgl\",\"colorbar\":{\"outlinewidth\":0,\"ticks\":\"\"},\"colorscale\":[[0.0,\"#0d0887\"],[0.1111111111111111,\"#46039f\"],[0.2222222222222222,\"#7201a8\"],[0.3333333333333333,\"#9c179e\"],[0.4444444444444444,\"#bd3786\"],[0.5555555555555556,\"#d8576b\"],[0.6666666666666666,\"#ed7953\"],[0.7777777777777778,\"#fb9f3a\"],[0.8888888888888888,\"#fdca26\"],[1.0,\"#f0f921\"]]}],\"contourcarpet\":[{\"type\":\"contourcarpet\",\"colorbar\":{\"outlinewidth\":0,\"ticks\":\"\"}}],\"contour\":[{\"type\":\"contour\",\"colorbar\":{\"outlinewidth\":0,\"ticks\":\"\"},\"colorscale\":[[0.0,\"#0d0887\"],[0.1111111111111111,\"#46039f\"],[0.2222222222222222,\"#7201a8\"],[0.3333333333333333,\"#9c179e\"],[0.4444444444444444,\"#bd3786\"],[0.5555555555555556,\"#d8576b\"],[0.6666666666666666,\"#ed7953\"],[0.7777777777777778,\"#fb9f3a\"],[0.8888888888888888,\"#fdca26\"],[1.0,\"#f0f921\"]]}],\"surface\":[{\"type\":\"surface\",\"colorbar\":{\"outlinewidth\":0,\"ticks\":\"\"},\"colorscale\":[[0.0,\"#0d0887\"],[0.1111111111111111,\"#46039f\"],[0.2222222222222222,\"#7201a8\"],[0.3333333333333333,\"#9c179e\"],[0.4444444444444444,\"#bd3786\"],[0.5555555555555556,\"#d8576b\"],[0.6666666666666666,\"#ed7953\"],[0.7777777777777778,\"#fb9f3a\"],[0.8888888888888888,\"#fdca26\"],[1.0,\"#f0f921\"]]}],\"mesh3d\":[{\"type\":\"mesh3d\",\"colorbar\":{\"outlinewidth\":0,\"ticks\":\"\"}}],\"scatter\":[{\"fillpattern\":{\"fillmode\":\"overlay\",\"size\":10,\"solidity\":0.2},\"type\":\"scatter\"}],\"parcoords\":[{\"type\":\"parcoords\",\"line\":{\"colorbar\":{\"outlinewidth\":0,\"ticks\":\"\"}}}],\"scatterpolargl\":[{\"type\":\"scatterpolargl\",\"marker\":{\"colorbar\":{\"outlinewidth\":0,\"ticks\":\"\"}}}],\"bar\":[{\"error_x\":{\"color\":\"#2a3f5f\"},\"error_y\":{\"color\":\"#2a3f5f\"},\"marker\":{\"line\":{\"color\":\"#E5ECF6\",\"width\":0.5},\"pattern\":{\"fillmode\":\"overlay\",\"size\":10,\"solidity\":0.2}},\"type\":\"bar\"}],\"scattergeo\":[{\"type\":\"scattergeo\",\"marker\":{\"colorbar\":{\"outlinewidth\":0,\"ticks\":\"\"}}}],\"scatterpolar\":[{\"type\":\"scatterpolar\",\"marker\":{\"colorbar\":{\"outlinewidth\":0,\"ticks\":\"\"}}}],\"histogram\":[{\"marker\":{\"pattern\":{\"fillmode\":\"overlay\",\"size\":10,\"solidity\":0.2}},\"type\":\"histogram\"}],\"scattergl\":[{\"type\":\"scattergl\",\"marker\":{\"colorbar\":{\"outlinewidth\":0,\"ticks\":\"\"}}}],\"scatter3d\":[{\"type\":\"scatter3d\",\"line\":{\"colorbar\":{\"outlinewidth\":0,\"ticks\":\"\"}},\"marker\":{\"colorbar\":{\"outlinewidth\":0,\"ticks\":\"\"}}}],\"scattermapbox\":[{\"type\":\"scattermapbox\",\"marker\":{\"colorbar\":{\"outlinewidth\":0,\"ticks\":\"\"}}}],\"scatterternary\":[{\"type\":\"scatterternary\",\"marker\":{\"colorbar\":{\"outlinewidth\":0,\"ticks\":\"\"}}}],\"scattercarpet\":[{\"type\":\"scattercarpet\",\"marker\":{\"colorbar\":{\"outlinewidth\":0,\"ticks\":\"\"}}}],\"carpet\":[{\"aaxis\":{\"endlinecolor\":\"#2a3f5f\",\"gridcolor\":\"white\",\"linecolor\":\"white\",\"minorgridcolor\":\"white\",\"startlinecolor\":\"#2a3f5f\"},\"baxis\":{\"endlinecolor\":\"#2a3f5f\",\"gridcolor\":\"white\",\"linecolor\":\"white\",\"minorgridcolor\":\"white\",\"startlinecolor\":\"#2a3f5f\"},\"type\":\"carpet\"}],\"table\":[{\"cells\":{\"fill\":{\"color\":\"#EBF0F8\"},\"line\":{\"color\":\"white\"}},\"header\":{\"fill\":{\"color\":\"#C8D4E3\"},\"line\":{\"color\":\"white\"}},\"type\":\"table\"}],\"barpolar\":[{\"marker\":{\"line\":{\"color\":\"#E5ECF6\",\"width\":0.5},\"pattern\":{\"fillmode\":\"overlay\",\"size\":10,\"solidity\":0.2}},\"type\":\"barpolar\"}],\"pie\":[{\"automargin\":true,\"type\":\"pie\"}]},\"layout\":{\"autotypenumbers\":\"strict\",\"colorway\":[\"#636efa\",\"#EF553B\",\"#00cc96\",\"#ab63fa\",\"#FFA15A\",\"#19d3f3\",\"#FF6692\",\"#B6E880\",\"#FF97FF\",\"#FECB52\"],\"font\":{\"color\":\"#2a3f5f\"},\"hovermode\":\"closest\",\"hoverlabel\":{\"align\":\"left\"},\"paper_bgcolor\":\"white\",\"plot_bgcolor\":\"#E5ECF6\",\"polar\":{\"bgcolor\":\"#E5ECF6\",\"angularaxis\":{\"gridcolor\":\"white\",\"linecolor\":\"white\",\"ticks\":\"\"},\"radialaxis\":{\"gridcolor\":\"white\",\"linecolor\":\"white\",\"ticks\":\"\"}},\"ternary\":{\"bgcolor\":\"#E5ECF6\",\"aaxis\":{\"gridcolor\":\"white\",\"linecolor\":\"white\",\"ticks\":\"\"},\"baxis\":{\"gridcolor\":\"white\",\"linecolor\":\"white\",\"ticks\":\"\"},\"caxis\":{\"gridcolor\":\"white\",\"linecolor\":\"white\",\"ticks\":\"\"}},\"coloraxis\":{\"colorbar\":{\"outlinewidth\":0,\"ticks\":\"\"}},\"colorscale\":{\"sequential\":[[0.0,\"#0d0887\"],[0.1111111111111111,\"#46039f\"],[0.2222222222222222,\"#7201a8\"],[0.3333333333333333,\"#9c179e\"],[0.4444444444444444,\"#bd3786\"],[0.5555555555555556,\"#d8576b\"],[0.6666666666666666,\"#ed7953\"],[0.7777777777777778,\"#fb9f3a\"],[0.8888888888888888,\"#fdca26\"],[1.0,\"#f0f921\"]],\"sequentialminus\":[[0.0,\"#0d0887\"],[0.1111111111111111,\"#46039f\"],[0.2222222222222222,\"#7201a8\"],[0.3333333333333333,\"#9c179e\"],[0.4444444444444444,\"#bd3786\"],[0.5555555555555556,\"#d8576b\"],[0.6666666666666666,\"#ed7953\"],[0.7777777777777778,\"#fb9f3a\"],[0.8888888888888888,\"#fdca26\"],[1.0,\"#f0f921\"]],\"diverging\":[[0,\"#8e0152\"],[0.1,\"#c51b7d\"],[0.2,\"#de77ae\"],[0.3,\"#f1b6da\"],[0.4,\"#fde0ef\"],[0.5,\"#f7f7f7\"],[0.6,\"#e6f5d0\"],[0.7,\"#b8e186\"],[0.8,\"#7fbc41\"],[0.9,\"#4d9221\"],[1,\"#276419\"]]},\"xaxis\":{\"gridcolor\":\"white\",\"linecolor\":\"white\",\"ticks\":\"\",\"title\":{\"standoff\":15},\"zerolinecolor\":\"white\",\"automargin\":true,\"zerolinewidth\":2},\"yaxis\":{\"gridcolor\":\"white\",\"linecolor\":\"white\",\"ticks\":\"\",\"title\":{\"standoff\":15},\"zerolinecolor\":\"white\",\"automargin\":true,\"zerolinewidth\":2},\"scene\":{\"xaxis\":{\"backgroundcolor\":\"#E5ECF6\",\"gridcolor\":\"white\",\"linecolor\":\"white\",\"showbackground\":true,\"ticks\":\"\",\"zerolinecolor\":\"white\",\"gridwidth\":2},\"yaxis\":{\"backgroundcolor\":\"#E5ECF6\",\"gridcolor\":\"white\",\"linecolor\":\"white\",\"showbackground\":true,\"ticks\":\"\",\"zerolinecolor\":\"white\",\"gridwidth\":2},\"zaxis\":{\"backgroundcolor\":\"#E5ECF6\",\"gridcolor\":\"white\",\"linecolor\":\"white\",\"showbackground\":true,\"ticks\":\"\",\"zerolinecolor\":\"white\",\"gridwidth\":2}},\"shapedefaults\":{\"line\":{\"color\":\"#2a3f5f\"}},\"annotationdefaults\":{\"arrowcolor\":\"#2a3f5f\",\"arrowhead\":0,\"arrowwidth\":1},\"geo\":{\"bgcolor\":\"white\",\"landcolor\":\"#E5ECF6\",\"subunitcolor\":\"white\",\"showland\":true,\"showlakes\":true,\"lakecolor\":\"white\"},\"title\":{\"x\":0.05},\"mapbox\":{\"style\":\"light\"}}},\"xaxis\":{\"anchor\":\"y\",\"domain\":[0.0,0.2888888888888889],\"title\":{\"text\":\"cutoff_merging\"}},\"yaxis\":{\"anchor\":\"x\",\"domain\":[0.0,1.0],\"title\":{\"text\":\"Objective Value\"}},\"xaxis2\":{\"anchor\":\"y2\",\"domain\":[0.35555555555555557,0.6444444444444445],\"title\":{\"text\":\"cutoff_p3alpha\"}},\"yaxis2\":{\"anchor\":\"x2\",\"domain\":[0.0,1.0],\"matches\":\"y\",\"showticklabels\":false},\"xaxis3\":{\"anchor\":\"y3\",\"domain\":[0.7111111111111111,1.0],\"title\":{\"text\":\"cutoff_slim\"}},\"yaxis3\":{\"anchor\":\"x3\",\"domain\":[0.0,1.0],\"matches\":\"y\",\"showticklabels\":false},\"title\":{\"text\":\"Slice Plot\"}},                        {\"responsive\": true}                    ).then(function(){\n",
       "                            \n",
       "var gd = document.getElementById('d399826d-6f27-4bdb-b93e-70a4ec1e370f');\n",
       "var x = new MutationObserver(function (mutations, observer) {{\n",
       "        var display = window.getComputedStyle(gd).display;\n",
       "        if (!display || display === 'none') {{\n",
       "            console.log([gd, 'removed!']);\n",
       "            Plotly.purge(gd);\n",
       "            observer.disconnect();\n",
       "        }}\n",
       "}});\n",
       "\n",
       "// Listen for the removal of the full notebook cells\n",
       "var notebookContainer = gd.closest('#notebook-container');\n",
       "if (notebookContainer) {{\n",
       "    x.observe(notebookContainer, {childList: true});\n",
       "}}\n",
       "\n",
       "// Listen for the clearing of the current output cell\n",
       "var outputEl = gd.closest('.output');\n",
       "if (outputEl) {{\n",
       "    x.observe(outputEl, {childList: true});\n",
       "}}\n",
       "\n",
       "                        })                };                });            </script>        </div>"
      ]
     },
     "metadata": {},
     "output_type": "display_data"
    }
   ],
   "source": [
    "if config['tune_parameters']:\n",
    "    fig = optuna.visualization.plot_slice(study)\n",
    "    fig.show()"
   ]
  },
  {
   "cell_type": "code",
   "execution_count": 29,
   "id": "74049860",
   "metadata": {
    "execution": {
     "iopub.execute_input": "2023-12-03T17:53:44.522929Z",
     "iopub.status.busy": "2023-12-03T17:53:44.522572Z",
     "iopub.status.idle": "2023-12-03T17:53:45.408189Z",
     "shell.execute_reply": "2023-12-03T17:53:45.407012Z"
    },
    "papermill": {
     "duration": 0.942186,
     "end_time": "2023-12-03T17:53:45.410602",
     "exception": false,
     "start_time": "2023-12-03T17:53:44.468416",
     "status": "completed"
    },
    "tags": []
   },
   "outputs": [],
   "source": [
    "if config['tune_parameters']:\n",
    "    with open('/kaggle/working/best_params_3stage_pipeline.json', 'w') as params_file:\n",
    "        json.dump(study.best_params, params_file)\n",
    "        \n",
    "    if config['save_github']: \n",
    "        upload_file(\n",
    "            '/kaggle/working/best_params_3stage_pipeline.json', \n",
    "            'tuning_results/best_params_3stage_pipeline.json', \n",
    "            'Hybrid Pipeline tuning results (from kaggle notebook)'\n",
    "        )\n",
    "    \n",
    "elif config['copy_prev_best_params']:\n",
    "    shutil.copyfile(\n",
    "        '/kaggle/input/Recsys_Challenge_2023/tuning_results/best_params_3stage_pipeline.json', \n",
    "        '/kaggle/working/best_params_3stage_pipeline.json'\n",
    "    )"
   ]
  },
  {
   "cell_type": "code",
   "execution_count": 30,
   "id": "a017f359",
   "metadata": {
    "execution": {
     "iopub.execute_input": "2023-12-03T17:53:45.519208Z",
     "iopub.status.busy": "2023-12-03T17:53:45.518831Z",
     "iopub.status.idle": "2023-12-03T17:53:47.053457Z",
     "shell.execute_reply": "2023-12-03T17:53:47.052461Z"
    },
    "papermill": {
     "duration": 1.591298,
     "end_time": "2023-12-03T17:53:47.055576",
     "exception": false,
     "start_time": "2023-12-03T17:53:45.464278",
     "status": "completed"
    },
    "tags": []
   },
   "outputs": [],
   "source": [
    "if config['save_github'] and config['tune_parameters']:\n",
    "    upload_file(\n",
    "        config['database_path'], \n",
    "        'tuning_results/tuning_hybrid.db', \n",
    "        'Pipeline hybrid recommender tuning db updated results (from kaggle notebook)'\n",
    "    )"
   ]
  },
  {
   "cell_type": "markdown",
   "id": "99b431c2",
   "metadata": {
    "papermill": {
     "duration": 0.053321,
     "end_time": "2023-12-03T17:53:47.161550",
     "exception": false,
     "start_time": "2023-12-03T17:53:47.108229",
     "status": "completed"
    },
    "tags": []
   },
   "source": [
    "# Training best model"
   ]
  },
  {
   "cell_type": "code",
   "execution_count": 31,
   "id": "d0a42466",
   "metadata": {
    "execution": {
     "iopub.execute_input": "2023-12-03T17:53:47.269773Z",
     "iopub.status.busy": "2023-12-03T17:53:47.269412Z",
     "iopub.status.idle": "2023-12-03T17:54:06.087512Z",
     "shell.execute_reply": "2023-12-03T17:54:06.086161Z"
    },
    "papermill": {
     "duration": 18.875038,
     "end_time": "2023-12-03T17:54:06.090092",
     "exception": false,
     "start_time": "2023-12-03T17:53:47.215054",
     "status": "completed"
    },
    "tags": []
   },
   "outputs": [
    {
     "name": "stdout",
     "output_type": "stream",
     "text": [
      "ItemKNNCFRecommender: URM Detected 386 ( 3.0%) users with no interactions.\n",
      "ItemKNNCFRecommender: URM Detected 125 ( 0.6%) items with no interactions.\n",
      "Similarity column 22347 (100.0%), 6242.71 column/sec. Elapsed time 3.58 sec\n",
      "RP3betaRecommender: URM Detected 386 ( 3.0%) users with no interactions.\n",
      "RP3betaRecommender: URM Detected 125 ( 0.6%) items with no interactions.\n",
      "RP3betaRecommender: Similarity column 22347 (100.0%), 4018.13 column/sec. Elapsed time 5.56 sec\n",
      "P3alphaRecommender: URM Detected 386 ( 3.0%) users with no interactions.\n",
      "P3alphaRecommender: URM Detected 125 ( 0.6%) items with no interactions.\n",
      "P3alphaRecommender: Similarity column 22347 (100.0%), 3923.07 column/sec. Elapsed time 5.70 sec\n",
      "SLIMElasticNetRecommender: URM Detected 386 ( 3.0%) users with no interactions.\n",
      "SLIMElasticNetRecommender: URM Detected 125 ( 0.6%) items with no interactions.\n",
      "SLIMElasticNetRecommender: Loading model from file '/kaggle/working/Recsys_Challenge_2023/models/slim_elastic_all.zip'\n",
      "SLIMElasticNetRecommender: Loading complete\n",
      "IALSRecommender: URM Detected 386 ( 3.0%) users with no interactions.\n",
      "IALSRecommender: URM Detected 125 ( 0.6%) items with no interactions.\n",
      "IALSRecommender: Loading model from file '/kaggle/working/ials_all.zip'\n",
      "IALSRecommender: Loading complete\n",
      "ItemKNNSimilarityHybridRecommender: URM Detected 386 ( 3.0%) users with no interactions.\n",
      "ItemKNNSimilarityHybridRecommender: URM Detected 125 ( 0.6%) items with no interactions.\n"
     ]
    }
   ],
   "source": [
    "recommender_item = ItemKNNCFRecommender(URM_all)\n",
    "recommender_item.fit(**params_item_knn)\n",
    "\n",
    "recommender_rp3 = RP3betaRecommender(URM_all)\n",
    "recommender_rp3.fit(**params_rp3)\n",
    "\n",
    "recommender_p3a = P3alphaRecommender(URM_all)\n",
    "recommender_p3a.fit(**params_p3alpha)\n",
    "\n",
    "recommender_slim = SLIMElasticNetRecommender(URM_all)\n",
    "recommender_slim.load_model('/kaggle/working/Recsys_Challenge_2023/models/', 'slim_elastic_all.zip')\n",
    "\n",
    "recommender_ials = IALSRecommender(URM_all)\n",
    "recommender_ials.load_model('/kaggle/working/', 'ials_all.zip')\n",
    "\n",
    "hybrid_similarity = ItemKNNSimilarityHybridRecommender(URM_all, recommender_item.W_sparse, recommender_rp3.W_sparse)\n",
    "hybrid_similarity.fit(**params_merging)"
   ]
  },
  {
   "cell_type": "code",
   "execution_count": 32,
   "id": "8e839b7e",
   "metadata": {
    "execution": {
     "iopub.execute_input": "2023-12-03T17:54:06.199162Z",
     "iopub.status.busy": "2023-12-03T17:54:06.198827Z",
     "iopub.status.idle": "2023-12-03T17:54:06.214563Z",
     "shell.execute_reply": "2023-12-03T17:54:06.213864Z"
    },
    "papermill": {
     "duration": 0.072732,
     "end_time": "2023-12-03T17:54:06.216526",
     "exception": false,
     "start_time": "2023-12-03T17:54:06.143794",
     "status": "completed"
    },
    "tags": []
   },
   "outputs": [
    {
     "name": "stdout",
     "output_type": "stream",
     "text": [
      "Recommender_Base_Class: URM Detected 386 ( 3.0%) users with no interactions.\n",
      "Recommender_Base_Class: URM Detected 125 ( 0.6%) items with no interactions.\n"
     ]
    }
   ],
   "source": [
    "with open('/kaggle/working/best_params_3stage_pipeline.json', 'r') as params_file:\n",
    "    params = json.load(params_file)\n",
    "    \n",
    "pipeline_recommender = PipelineRecommender(\n",
    "    URM_all, \n",
    "    recommenders=[recommender_p3a, hybrid_similarity, recommender_slim],\n",
    "    cutoffs=[params['cutoff_p3alpha'], params['cutoff_merging'], params['cutoff_slim']]\n",
    ")"
   ]
  },
  {
   "cell_type": "code",
   "execution_count": 33,
   "id": "c24145c6",
   "metadata": {
    "execution": {
     "iopub.execute_input": "2023-12-03T17:54:06.325070Z",
     "iopub.status.busy": "2023-12-03T17:54:06.324612Z",
     "iopub.status.idle": "2023-12-03T17:54:21.561316Z",
     "shell.execute_reply": "2023-12-03T17:54:21.560347Z"
    },
    "papermill": {
     "duration": 15.294035,
     "end_time": "2023-12-03T17:54:21.563910",
     "exception": false,
     "start_time": "2023-12-03T17:54:06.269875",
     "status": "completed"
    },
    "tags": []
   },
   "outputs": [
    {
     "data": {
      "text/html": [
       "<div>\n",
       "<style scoped>\n",
       "    .dataframe tbody tr th:only-of-type {\n",
       "        vertical-align: middle;\n",
       "    }\n",
       "\n",
       "    .dataframe tbody tr th {\n",
       "        vertical-align: top;\n",
       "    }\n",
       "\n",
       "    .dataframe thead th {\n",
       "        text-align: right;\n",
       "    }\n",
       "</style>\n",
       "<table border=\"1\" class=\"dataframe\">\n",
       "  <thead>\n",
       "    <tr style=\"text-align: right;\">\n",
       "      <th></th>\n",
       "      <th>user_id</th>\n",
       "      <th>item_list</th>\n",
       "    </tr>\n",
       "  </thead>\n",
       "  <tbody>\n",
       "    <tr>\n",
       "      <th>0</th>\n",
       "      <td>1</td>\n",
       "      <td>101 36 123 506 403 515 694 1546 254 592</td>\n",
       "    </tr>\n",
       "    <tr>\n",
       "      <th>1</th>\n",
       "      <td>2</td>\n",
       "      <td>1095 12 47 1522 50 656 949 102 196 359</td>\n",
       "    </tr>\n",
       "    <tr>\n",
       "      <th>2</th>\n",
       "      <td>3</td>\n",
       "      <td>59 2172 857 1281 2748 259 536 584 970 414</td>\n",
       "    </tr>\n",
       "    <tr>\n",
       "      <th>3</th>\n",
       "      <td>4</td>\n",
       "      <td>249 28 50 314 171 139 146 254 7 433</td>\n",
       "    </tr>\n",
       "    <tr>\n",
       "      <th>4</th>\n",
       "      <td>5</td>\n",
       "      <td>1570 170 95 471 77 131 5138 116 766 7033</td>\n",
       "    </tr>\n",
       "  </tbody>\n",
       "</table>\n",
       "</div>"
      ],
      "text/plain": [
       "   user_id                                  item_list\n",
       "0        1    101 36 123 506 403 515 694 1546 254 592\n",
       "1        2     1095 12 47 1522 50 656 949 102 196 359\n",
       "2        3  59 2172 857 1281 2748 259 536 584 970 414\n",
       "3        4        249 28 50 314 171 139 146 254 7 433\n",
       "4        5   1570 170 95 471 77 131 5138 116 766 7033"
      ]
     },
     "metadata": {},
     "output_type": "display_data"
    }
   ],
   "source": [
    "recommendations = pipeline_recommender.recommend(user_ids_test['user_id'].unique() - 1, cutoff=10, return_scores=False)\n",
    "recommendations = [' '.join([str(item + 1) for item in r]).strip() for r in recommendations]\n",
    "\n",
    "submission_df = pd.DataFrame({'user_id': user_ids_test['user_id'].unique(), 'item_list': recommendations})\n",
    "display(submission_df.head())\n",
    "submission_df.to_csv('/kaggle/working/submission.csv', index=False)"
   ]
  }
 ],
 "metadata": {
  "kaggle": {
   "accelerator": "none",
   "dataSources": [
    {
     "databundleVersionId": 6919098,
     "sourceId": 62803,
     "sourceType": "competition"
    },
    {
     "sourceId": 153423142,
     "sourceType": "kernelVersion"
    }
   ],
   "dockerImageVersionId": 30587,
   "isGpuEnabled": false,
   "isInternetEnabled": true,
   "language": "python",
   "sourceType": "notebook"
  },
  "kernelspec": {
   "display_name": "Python 3",
   "language": "python",
   "name": "python3"
  },
  "language_info": {
   "codemirror_mode": {
    "name": "ipython",
    "version": 3
   },
   "file_extension": ".py",
   "mimetype": "text/x-python",
   "name": "python",
   "nbconvert_exporter": "python",
   "pygments_lexer": "ipython3",
   "version": "3.10.12"
  },
  "papermill": {
   "default_parameters": {},
   "duration": 3785.931318,
   "end_time": "2023-12-03T17:54:24.298509",
   "environment_variables": {},
   "exception": null,
   "input_path": "__notebook__.ipynb",
   "output_path": "__notebook__.ipynb",
   "parameters": {},
   "start_time": "2023-12-03T16:51:18.367191",
   "version": "2.4.0"
  }
 },
 "nbformat": 4,
 "nbformat_minor": 5
}
