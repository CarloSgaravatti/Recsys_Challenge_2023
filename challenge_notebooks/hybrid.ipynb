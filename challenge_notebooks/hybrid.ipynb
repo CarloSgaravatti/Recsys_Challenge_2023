{
 "cells": [
  {
   "cell_type": "code",
   "execution_count": 1,
   "id": "58f7f51d",
   "metadata": {
    "_cell_guid": "b1076dfc-b9ad-4769-8c92-a6c4dae69d19",
    "_uuid": "8f2839f25d086af736a60e9eeb907d3b93b6e0e5",
    "execution": {
     "iopub.execute_input": "2023-12-04T16:16:14.159688Z",
     "iopub.status.busy": "2023-12-04T16:16:14.158124Z",
     "iopub.status.idle": "2023-12-04T16:16:40.276775Z",
     "shell.execute_reply": "2023-12-04T16:16:40.275579Z"
    },
    "papermill": {
     "duration": 26.138395,
     "end_time": "2023-12-04T16:16:40.280135",
     "exception": false,
     "start_time": "2023-12-04T16:16:14.141740",
     "status": "completed"
    },
    "tags": []
   },
   "outputs": [
    {
     "name": "stdout",
     "output_type": "stream",
     "text": [
      "Cloning into 'Recsys_Challenge_2023'...\r\n",
      "remote: Enumerating objects: 1990, done.\u001b[K\r\n",
      "remote: Counting objects: 100% (108/108), done.\u001b[K\r\n",
      "remote: Compressing objects: 100% (103/103), done.\u001b[K\r\n",
      "remote: Total 1990 (delta 68), reused 4 (delta 4), pack-reused 1882\u001b[K\r\n",
      "Receiving objects: 100% (1990/1990), 270.31 MiB | 18.62 MiB/s, done.\r\n",
      "Resolving deltas: 100% (1520/1520), done.\r\n"
     ]
    }
   ],
   "source": [
    "from kaggle_secrets import UserSecretsClient\n",
    "secret_label = \"Token\"\n",
    "token = UserSecretsClient().get_secret(secret_label)\n",
    "\n",
    "! git clone https://{token}@github.com/CarloSgaravatti/Recsys_Challenge_2023.git"
   ]
  },
  {
   "cell_type": "code",
   "execution_count": 2,
   "id": "f23cc2d2",
   "metadata": {
    "execution": {
     "iopub.execute_input": "2023-12-04T16:16:40.324827Z",
     "iopub.status.busy": "2023-12-04T16:16:40.324330Z",
     "iopub.status.idle": "2023-12-04T16:16:59.264728Z",
     "shell.execute_reply": "2023-12-04T16:16:59.262807Z"
    },
    "papermill": {
     "duration": 18.967693,
     "end_time": "2023-12-04T16:16:59.268920",
     "exception": false,
     "start_time": "2023-12-04T16:16:40.301227",
     "status": "completed"
    },
    "tags": []
   },
   "outputs": [
    {
     "name": "stdout",
     "output_type": "stream",
     "text": [
      "Collecting PyGithub\r\n",
      "  Obtaining dependency information for PyGithub from https://files.pythonhosted.org/packages/be/04/810d131be173cba445d3658a45512b2b2b3d0960d52c4a300d6ec5e00f52/PyGithub-2.1.1-py3-none-any.whl.metadata\r\n",
      "  Downloading PyGithub-2.1.1-py3-none-any.whl.metadata (2.2 kB)\r\n",
      "Requirement already satisfied: requests in /opt/conda/lib/python3.10/site-packages (2.31.0)\r\n",
      "Collecting pynacl>=1.4.0 (from PyGithub)\r\n",
      "  Downloading PyNaCl-1.5.0-cp36-abi3-manylinux_2_17_x86_64.manylinux2014_x86_64.manylinux_2_24_x86_64.whl (856 kB)\r\n",
      "\u001b[2K     \u001b[90m━━━━━━━━━━━━━━━━━━━━━━━━━━━━━━━━━━━━━━\u001b[0m \u001b[32m856.7/856.7 kB\u001b[0m \u001b[31m11.5 MB/s\u001b[0m eta \u001b[36m0:00:00\u001b[0m\r\n",
      "\u001b[?25hRequirement already satisfied: python-dateutil in /opt/conda/lib/python3.10/site-packages (from PyGithub) (2.8.2)\r\n",
      "Requirement already satisfied: pyjwt[crypto]>=2.4.0 in /opt/conda/lib/python3.10/site-packages (from PyGithub) (2.8.0)\r\n",
      "Requirement already satisfied: typing-extensions>=4.0.0 in /opt/conda/lib/python3.10/site-packages (from PyGithub) (4.5.0)\r\n",
      "Requirement already satisfied: urllib3>=1.26.0 in /opt/conda/lib/python3.10/site-packages (from PyGithub) (1.26.15)\r\n",
      "Requirement already satisfied: Deprecated in /opt/conda/lib/python3.10/site-packages (from PyGithub) (1.2.14)\r\n",
      "Requirement already satisfied: charset-normalizer<4,>=2 in /opt/conda/lib/python3.10/site-packages (from requests) (3.2.0)\r\n",
      "Requirement already satisfied: idna<4,>=2.5 in /opt/conda/lib/python3.10/site-packages (from requests) (3.4)\r\n",
      "Requirement already satisfied: certifi>=2017.4.17 in /opt/conda/lib/python3.10/site-packages (from requests) (2023.7.22)\r\n",
      "Requirement already satisfied: cryptography>=3.4.0 in /opt/conda/lib/python3.10/site-packages (from pyjwt[crypto]>=2.4.0->PyGithub) (41.0.3)\r\n",
      "Requirement already satisfied: cffi>=1.4.1 in /opt/conda/lib/python3.10/site-packages (from pynacl>=1.4.0->PyGithub) (1.15.1)\r\n",
      "Requirement already satisfied: wrapt<2,>=1.10 in /opt/conda/lib/python3.10/site-packages (from Deprecated->PyGithub) (1.15.0)\r\n",
      "Requirement already satisfied: six>=1.5 in /opt/conda/lib/python3.10/site-packages (from python-dateutil->PyGithub) (1.16.0)\r\n",
      "Requirement already satisfied: pycparser in /opt/conda/lib/python3.10/site-packages (from cffi>=1.4.1->pynacl>=1.4.0->PyGithub) (2.21)\r\n",
      "Downloading PyGithub-2.1.1-py3-none-any.whl (302 kB)\r\n",
      "\u001b[2K   \u001b[90m━━━━━━━━━━━━━━━━━━━━━━━━━━━━━━━━━━━━━━━━\u001b[0m \u001b[32m302.9/302.9 kB\u001b[0m \u001b[31m11.8 MB/s\u001b[0m eta \u001b[36m0:00:00\u001b[0m\r\n",
      "\u001b[?25hInstalling collected packages: pynacl, PyGithub\r\n",
      "Successfully installed PyGithub-2.1.1 pynacl-1.5.0\r\n"
     ]
    }
   ],
   "source": [
    "! pip install PyGithub requests"
   ]
  },
  {
   "cell_type": "code",
   "execution_count": 3,
   "id": "e6f0fb9c",
   "metadata": {
    "_kg_hide-output": true,
    "execution": {
     "iopub.execute_input": "2023-12-04T16:16:59.317303Z",
     "iopub.status.busy": "2023-12-04T16:16:59.316221Z",
     "iopub.status.idle": "2023-12-04T16:20:11.853687Z",
     "shell.execute_reply": "2023-12-04T16:20:11.851740Z"
    },
    "papermill": {
     "duration": 192.565758,
     "end_time": "2023-12-04T16:20:11.857242",
     "exception": false,
     "start_time": "2023-12-04T16:16:59.291484",
     "status": "completed"
    },
    "scrolled": true,
    "tags": []
   },
   "outputs": [
    {
     "name": "stdout",
     "output_type": "stream",
     "text": [
      "run_compile_all_cython: Found 10 Cython files in 4 folders...\r\n",
      "run_compile_all_cython: All files will be compiled using your current python environment: '/opt/conda/bin/python'\r\n",
      "Compiling [1/10]: MatrixFactorization_Cython_Epoch.pyx... \r\n",
      "In file included from \u001b[01m\u001b[K/opt/conda/lib/python3.10/site-packages/numpy/core/include/numpy/ndarraytypes.h:1940\u001b[m\u001b[K,\r\n",
      "                 from \u001b[01m\u001b[K/opt/conda/lib/python3.10/site-packages/numpy/core/include/numpy/ndarrayobject.h:12\u001b[m\u001b[K,\r\n",
      "                 from \u001b[01m\u001b[K/opt/conda/lib/python3.10/site-packages/numpy/core/include/numpy/arrayobject.h:5\u001b[m\u001b[K,\r\n",
      "                 from \u001b[01m\u001b[KMatrixFactorization_Cython_Epoch.c:1109\u001b[m\u001b[K:\r\n",
      "\u001b[01m\u001b[K/opt/conda/lib/python3.10/site-packages/numpy/core/include/numpy/npy_1_7_deprecated_api.h:17:2:\u001b[m\u001b[K \u001b[01;35m\u001b[Kwarning: \u001b[m\u001b[K#warning \"Using deprecated NumPy API, disable it with \" \"#define NPY_NO_DEPRECATED_API NPY_1_7_API_VERSION\" [\u001b[01;35m\u001b[K-Wcpp\u001b[m\u001b[K]\r\n",
      "   17 | #\u001b[01;35m\u001b[Kwarning\u001b[m\u001b[K \"Using deprecated NumPy API, disable it with \" \\\r\n",
      "      |  \u001b[01;35m\u001b[K^~~~~~~\u001b[m\u001b[K\r\n",
      "\u001b[01m\u001b[KMatrixFactorization_Cython_Epoch.c:\u001b[m\u001b[K In function ‘\u001b[01m\u001b[K__pyx_pf_32MatrixFactorization_Cython_Epoch_32MatrixFactorization_Cython_Epoch_10epochIteration_Cython_ASY_SVD_SGD\u001b[m\u001b[K’:\r\n",
      "\u001b[01m\u001b[KMatrixFactorization_Cython_Epoch.c:25614:9:\u001b[m\u001b[K \u001b[01;35m\u001b[Kwarning: \u001b[m\u001b[K‘\u001b[01m\u001b[K__pyx_v_end_pos_seen_items\u001b[m\u001b[K’ may be used uninitialized in this function [\u001b[01;35m\u001b[K-Wmaybe-uninitialized\u001b[m\u001b[K]\r\n",
      "25614 |         \u001b[01;35m\u001b[Kfor\u001b[m\u001b[K (__pyx_t_21 = __pyx_v_start_pos_seen_items; __pyx_t_21 < __pyx_t_20; __pyx_t_21+=1) {\r\n",
      "      |         \u001b[01;35m\u001b[K^~~\u001b[m\u001b[K\r\n",
      "\u001b[01m\u001b[KMatrixFactorization_Cython_Epoch.c:25614:9:\u001b[m\u001b[K \u001b[01;35m\u001b[Kwarning: \u001b[m\u001b[K‘\u001b[01m\u001b[K__pyx_v_start_pos_seen_items\u001b[m\u001b[K’ may be used uninitialized in this function [\u001b[01;35m\u001b[K-Wmaybe-uninitialized\u001b[m\u001b[K]\r\n",
      "/opt/conda/lib/python3.10/site-packages/Cython/Compiler/Main.py:381: FutureWarning: Cython directive 'language_level' not set, using '3str' for now (Py3). This has changed from earlier releases! File: /kaggle/working/Recsys_Challenge_2023/Recommenders/MatrixFactorization/Cython/MatrixFactorization_Cython_Epoch.pyx\r\n",
      "  tree = Parsing.p_module(s, pxd, full_module_name)\r\n",
      "Compiling [1/10]: MatrixFactorization_Cython_Epoch.pyx... PASS\r\n",
      "\r\n",
      "Compiling [2/10]: MatrixFactorizationImpressions_Cython_Epoch.pyx... \r\n",
      "In file included from \u001b[01m\u001b[K/opt/conda/lib/python3.10/site-packages/numpy/core/include/numpy/ndarraytypes.h:1940\u001b[m\u001b[K,\r\n",
      "                 from \u001b[01m\u001b[K/opt/conda/lib/python3.10/site-packages/numpy/core/include/numpy/ndarrayobject.h:12\u001b[m\u001b[K,\r\n",
      "                 from \u001b[01m\u001b[K/opt/conda/lib/python3.10/site-packages/numpy/core/include/numpy/arrayobject.h:5\u001b[m\u001b[K,\r\n",
      "                 from \u001b[01m\u001b[KMatrixFactorizationImpressions_Cython_Epoch.c:1109\u001b[m\u001b[K:\r\n",
      "\u001b[01m\u001b[K/opt/conda/lib/python3.10/site-packages/numpy/core/include/numpy/npy_1_7_deprecated_api.h:17:2:\u001b[m\u001b[K \u001b[01;35m\u001b[Kwarning: \u001b[m\u001b[K#warning \"Using deprecated NumPy API, disable it with \" \"#define NPY_NO_DEPRECATED_API NPY_1_7_API_VERSION\" [\u001b[01;35m\u001b[K-Wcpp\u001b[m\u001b[K]\r\n",
      "   17 | #\u001b[01;35m\u001b[Kwarning\u001b[m\u001b[K \"Using deprecated NumPy API, disable it with \" \\\r\n",
      "      |  \u001b[01;35m\u001b[K^~~~~~~\u001b[m\u001b[K\r\n",
      "\u001b[01m\u001b[KMatrixFactorizationImpressions_Cython_Epoch.c:\u001b[m\u001b[K In function ‘\u001b[01m\u001b[K__pyx_f_43MatrixFactorizationImpressions_Cython_Epoch_32MatrixFactorization_Cython_Epoch_sampleBPR_Cython\u001b[m\u001b[K’:\r\n",
      "\u001b[01m\u001b[KMatrixFactorizationImpressions_Cython_Epoch.c:29664:17:\u001b[m\u001b[K \u001b[01;35m\u001b[Kwarning: \u001b[m\u001b[K‘\u001b[01m\u001b[K__pyx_v_start_pos_impression_items\u001b[m\u001b[K’ may be used uninitialized in this function [\u001b[01;35m\u001b[K-Wmaybe-uninitialized\u001b[m\u001b[K]\r\n",
      "29664 |       \u001b[01;35m\u001b[K__pyx_t_4 = (__pyx_v_start_pos_impression_items + __pyx_v_index)\u001b[m\u001b[K;\r\n",
      "      |       \u001b[01;35m\u001b[K~~~~~~~~~~^~~~~~~~~~~~~~~~~~~~~~~~~~~~~~~~~~~~~~~~~~~~~~~~~~~~~~\u001b[m\u001b[K\r\n",
      "\u001b[01m\u001b[KMatrixFactorizationImpressions_Cython_Epoch.c:\u001b[m\u001b[K In function ‘\u001b[01m\u001b[K__pyx_pf_43MatrixFactorizationImpressions_Cython_Epoch_32MatrixFactorization_Cython_Epoch_10epochIteration_Cython_ASY_SVD_SGD\u001b[m\u001b[K’:\r\n",
      "\u001b[01m\u001b[KMatrixFactorizationImpressions_Cython_Epoch.c:25474:7:\u001b[m\u001b[K \u001b[01;35m\u001b[Kwarning: \u001b[m\u001b[K‘\u001b[01m\u001b[K__pyx_v_end_pos_seen_items\u001b[m\u001b[K’ may be used uninitialized in this function [\u001b[01;35m\u001b[K-Wmaybe-uninitialized\u001b[m\u001b[K]\r\n",
      "25474 |       \u001b[01;35m\u001b[Kfor\u001b[m\u001b[K (__pyx_t_21 = __pyx_v_start_pos_seen_items; __pyx_t_21 < __pyx_t_20; __pyx_t_21+=1) {\r\n",
      "      |       \u001b[01;35m\u001b[K^~~\u001b[m\u001b[K\r\n",
      "\u001b[01m\u001b[KMatrixFactorizationImpressions_Cython_Epoch.c:25474:7:\u001b[m\u001b[K \u001b[01;35m\u001b[Kwarning: \u001b[m\u001b[K‘\u001b[01m\u001b[K__pyx_v_start_pos_seen_items\u001b[m\u001b[K’ may be used uninitialized in this function [\u001b[01;35m\u001b[K-Wmaybe-uninitialized\u001b[m\u001b[K]\r\n",
      "/opt/conda/lib/python3.10/site-packages/Cython/Compiler/Main.py:381: FutureWarning: Cython directive 'language_level' not set, using '3str' for now (Py3). This has changed from earlier releases! File: /kaggle/working/Recsys_Challenge_2023/Recommenders/MatrixFactorization/Cython/MatrixFactorizationImpressions_Cython_Epoch.pyx\r\n",
      "  tree = Parsing.p_module(s, pxd, full_module_name)\r\n",
      "Compiling [2/10]: MatrixFactorizationImpressions_Cython_Epoch.pyx... PASS\r\n",
      "\r\n",
      "Compiling [3/10]: Compute_Similarity_Cython.pyx... \r\n",
      "warning: Compute_Similarity_Cython.pyx:21:0: The 'IF' statement is deprecated and will be removed in a future Cython version. Consider using runtime conditions or C macros instead. See https://github.com/cython/cython/issues/4310\r\n",
      "warning: Compute_Similarity_Cython.pyx:22:4: The 'DEF' statement is deprecated and will be removed in a future Cython version. Consider using global variables, constants, and in-place literals instead. See https://github.com/cython/cython/issues/4310\r\n",
      "warning: Compute_Similarity_Cython.pyx:24:4: The 'DEF' statement is deprecated and will be removed in a future Cython version. Consider using global variables, constants, and in-place literals instead. See https://github.com/cython/cython/issues/4310\r\n",
      "warning: Compute_Similarity_Cython.pyx:26:4: The 'DEF' statement is deprecated and will be removed in a future Cython version. Consider using global variables, constants, and in-place literals instead. See https://github.com/cython/cython/issues/4310\r\n",
      "In file included from \u001b[01m\u001b[K/opt/conda/lib/python3.10/site-packages/numpy/core/include/numpy/ndarraytypes.h:1940\u001b[m\u001b[K,\r\n",
      "                 from \u001b[01m\u001b[K/opt/conda/lib/python3.10/site-packages/numpy/core/include/numpy/ndarrayobject.h:12\u001b[m\u001b[K,\r\n",
      "                 from \u001b[01m\u001b[K/opt/conda/lib/python3.10/site-packages/numpy/core/include/numpy/arrayobject.h:5\u001b[m\u001b[K,\r\n",
      "                 from \u001b[01m\u001b[KCompute_Similarity_Cython.c:1109\u001b[m\u001b[K:\r\n",
      "\u001b[01m\u001b[K/opt/conda/lib/python3.10/site-packages/numpy/core/include/numpy/npy_1_7_deprecated_api.h:17:2:\u001b[m\u001b[K \u001b[01;35m\u001b[Kwarning: \u001b[m\u001b[K#warning \"Using deprecated NumPy API, disable it with \" \"#define NPY_NO_DEPRECATED_API NPY_1_7_API_VERSION\" [\u001b[01;35m\u001b[K-Wcpp\u001b[m\u001b[K]\r\n",
      "   17 | #\u001b[01;35m\u001b[Kwarning\u001b[m\u001b[K \"Using deprecated NumPy API, disable it with \" \\\r\n",
      "      |  \u001b[01;35m\u001b[K^~~~~~~\u001b[m\u001b[K\r\n",
      "/opt/conda/lib/python3.10/site-packages/Cython/Compiler/Main.py:381: FutureWarning: Cython directive 'language_level' not set, using '3str' for now (Py3). This has changed from earlier releases! File: /kaggle/working/Recsys_Challenge_2023/Recommenders/Similarity/Cython/Compute_Similarity_Cython.pyx\r\n",
      "  tree = Parsing.p_module(s, pxd, full_module_name)\r\n",
      "warning: Compute_Similarity_Cython.pyx:21:0: The 'IF' statement is deprecated and will be removed in a future Cython version. Consider using runtime conditions or C macros instead. See https://github.com/cython/cython/issues/4310\r\n",
      "warning: Compute_Similarity_Cython.pyx:22:4: The 'DEF' statement is deprecated and will be removed in a future Cython version. Consider using global variables, constants, and in-place literals instead. See https://github.com/cython/cython/issues/4310\r\n",
      "warning: Compute_Similarity_Cython.pyx:24:4: The 'DEF' statement is deprecated and will be removed in a future Cython version. Consider using global variables, constants, and in-place literals instead. See https://github.com/cython/cython/issues/4310\r\n",
      "warning: Compute_Similarity_Cython.pyx:26:4: The 'DEF' statement is deprecated and will be removed in a future Cython version. Consider using global variables, constants, and in-place literals instead. See https://github.com/cython/cython/issues/4310\r\n",
      "Compiling [3/10]: Compute_Similarity_Cython.pyx... PASS\r\n",
      "\r\n",
      "Compiling [4/10]: Sparse_Matrix_Tree_CSR.pyx... \r\n",
      "warning: Sparse_Matrix_Tree_CSR.pyx:132:34: Non-trivial type declarators in shared declaration (e.g. mix of pointers and values). Each pointer declaration should be on its own line.\r\n",
      "warning: Sparse_Matrix_Tree_CSR.pyx:132:66: Non-trivial type declarators in shared declaration (e.g. mix of pointers and values). Each pointer declaration should be on its own line.\r\n",
      "warning: Sparse_Matrix_Tree_CSR.pyx:343:35: Non-trivial type declarators in shared declaration (e.g. mix of pointers and values). Each pointer declaration should be on its own line.\r\n",
      "warning: Sparse_Matrix_Tree_CSR.pyx:343:52: Non-trivial type declarators in shared declaration (e.g. mix of pointers and values). Each pointer declaration should be on its own line.\r\n",
      "warning: Sparse_Matrix_Tree_CSR.pyx:442:35: Non-trivial type declarators in shared declaration (e.g. mix of pointers and values). Each pointer declaration should be on its own line.\r\n",
      "warning: Sparse_Matrix_Tree_CSR.pyx:442:53: Non-trivial type declarators in shared declaration (e.g. mix of pointers and values). Each pointer declaration should be on its own line.\r\n",
      "warning: Sparse_Matrix_Tree_CSR.pyx:442:69: Non-trivial type declarators in shared declaration (e.g. mix of pointers and values). Each pointer declaration should be on its own line.\r\n",
      "warning: Sparse_Matrix_Tree_CSR.pyx:577:35: Non-trivial type declarators in shared declaration (e.g. mix of pointers and values). Each pointer declaration should be on its own line.\r\n",
      "warning: Sparse_Matrix_Tree_CSR.pyx:577:42: Non-trivial type declarators in shared declaration (e.g. mix of pointers and values). Each pointer declaration should be on its own line.\r\n",
      "warning: Sparse_Matrix_Tree_CSR.pyx:578:35: Non-trivial type declarators in shared declaration (e.g. mix of pointers and values). Each pointer declaration should be on its own line.\r\n",
      "warning: Sparse_Matrix_Tree_CSR.pyx:578:53: Non-trivial type declarators in shared declaration (e.g. mix of pointers and values). Each pointer declaration should be on its own line.\r\n",
      "\r\n",
      "Error compiling Cython file:\r\n",
      "------------------------------------------------------------\r\n",
      "...\r\n",
      "            vector_pointer_to_list_elements[index].head = current_element\r\n",
      "            current_element = current_element.higher\r\n",
      "\r\n",
      "\r\n",
      "        # Sort array elements on their data field\r\n",
      "        qsort(vector_pointer_to_list_elements, list_length, sizeof(head_pointer_tree_s), compare_struct_on_data)\r\n",
      "                                                                                         ^\r\n",
      "------------------------------------------------------------\r\n",
      "\r\n",
      "Sparse_Matrix_Tree_CSR.pyx:516:89: Cannot assign type 'int (const void *, const void *) except? -1' to 'int (*)(const_void *, const_void *) noexcept'\r\n",
      "\r\n",
      "Error compiling Cython file:\r\n",
      "------------------------------------------------------------\r\n",
      "...\r\n",
      "        # Sort array elements on their data field\r\n",
      "        qsort(vector_pointer_to_list_elements, list_length, sizeof(head_pointer_tree_s), compare_struct_on_data)\r\n",
      "\r\n",
      "        # Sort only the TopK according to their column field\r\n",
      "        # Sort is from lower to higher, therefore the elements to be considered are from len-topK to len\r\n",
      "        qsort(&vector_pointer_to_list_elements[list_length-TopK], TopK, sizeof(head_pointer_tree_s), compare_struct_on_column)\r\n",
      "                                                                                                     ^\r\n",
      "------------------------------------------------------------\r\n",
      "\r\n",
      "Sparse_Matrix_Tree_CSR.pyx:520:101: Cannot assign type 'int (const void *, const void *) except? -1' to 'int (*)(const_void *, const_void *) noexcept'\r\n",
      "Traceback (most recent call last):\r\n",
      "  File \"/kaggle/working/Recsys_Challenge_2023/CythonCompiler/compile_script.py\", line 48, in <module>\r\n",
      "    setup(\r\n",
      "  File \"/opt/conda/lib/python3.10/site-packages/setuptools/__init__.py\", line 107, in setup\r\n",
      "    return distutils.core.setup(**attrs)\r\n",
      "  File \"/opt/conda/lib/python3.10/site-packages/setuptools/_distutils/core.py\", line 185, in setup\r\n",
      "    return run_commands(dist)\r\n",
      "  File \"/opt/conda/lib/python3.10/site-packages/setuptools/_distutils/core.py\", line 201, in run_commands\r\n",
      "    dist.run_commands()\r\n",
      "  File \"/opt/conda/lib/python3.10/site-packages/setuptools/_distutils/dist.py\", line 969, in run_commands\r\n",
      "    self.run_command(cmd)\r\n",
      "  File \"/opt/conda/lib/python3.10/site-packages/setuptools/dist.py\", line 1233, in run_command\r\n",
      "    super().run_command(command)\r\n",
      "  File \"/opt/conda/lib/python3.10/site-packages/setuptools/_distutils/dist.py\", line 988, in run_command\r\n",
      "    cmd_obj.run()\r\n",
      "  File \"/opt/conda/lib/python3.10/site-packages/setuptools/_distutils/command/build_ext.py\", line 345, in run\r\n",
      "    self.build_extensions()\r\n",
      "  File \"/opt/conda/lib/python3.10/site-packages/setuptools/_distutils/command/build_ext.py\", line 467, in build_extensions\r\n",
      "    self._build_extensions_serial()\r\n",
      "  File \"/opt/conda/lib/python3.10/site-packages/setuptools/_distutils/command/build_ext.py\", line 493, in _build_extensions_serial\r\n",
      "    self.build_extension(ext)\r\n",
      "  File \"/opt/conda/lib/python3.10/site-packages/Cython/Distutils/build_ext.py\", line 122, in build_extension\r\n",
      "    new_ext = cythonize(\r\n",
      "  File \"/opt/conda/lib/python3.10/site-packages/Cython/Build/Dependencies.py\", line 1134, in cythonize\r\n",
      "    cythonize_one(*args)\r\n",
      "  File \"/opt/conda/lib/python3.10/site-packages/Cython/Build/Dependencies.py\", line 1301, in cythonize_one\r\n",
      "    raise CompileError(None, pyx_file)\r\n",
      "Cython.Compiler.Errors.CompileError: Sparse_Matrix_Tree_CSR.pyx\r\n",
      "Traceback (most recent call last):\r\n",
      "  File \"/kaggle/working/Recsys_Challenge_2023/run_compile_all_cython.py\", line 59, in <module>\r\n",
      "    run_compile_subprocess(file_path, [file_name])\r\n",
      "  File \"/kaggle/working/Recsys_Challenge_2023/CythonCompiler/run_compile_subprocess.py\", line 51, in run_compile_subprocess\r\n",
      "    raise exc\r\n",
      "  File \"/kaggle/working/Recsys_Challenge_2023/CythonCompiler/run_compile_subprocess.py\", line 32, in run_compile_subprocess\r\n",
      "    output = subprocess.check_output(' '.join(command),\r\n",
      "  File \"/opt/conda/lib/python3.10/subprocess.py\", line 421, in check_output\r\n",
      "    return run(*popenargs, stdout=PIPE, timeout=timeout, check=True,\r\n",
      "  File \"/opt/conda/lib/python3.10/subprocess.py\", line 526, in run\r\n",
      "    raise CalledProcessError(retcode, process.args,\r\n",
      "subprocess.CalledProcessError: Command '/opt/conda/bin/python /kaggle/working/Recsys_Challenge_2023/CythonCompiler/compile_script.py Sparse_Matrix_Tree_CSR.pyx build_ext --inplace' returned non-zero exit status 1.\r\n",
      "Compiling [4/10]: Sparse_Matrix_Tree_CSR.pyx... FAIL: Command '/opt/conda/bin/python /kaggle/working/Recsys_Challenge_2023/CythonCompiler/compile_script.py Sparse_Matrix_Tree_CSR.pyx build_ext --inplace' returned non-zero exit status 1.\r\n",
      "\r\n",
      "Compiling [5/10]: SLIM_BPR_Cython_Epoch.pyx... \r\n",
      "warning: SLIM_BPR_Cython_Epoch.pyx:24:0: The 'IF' statement is deprecated and will be removed in a future Cython version. Consider using runtime conditions or C macros instead. See https://github.com/cython/cython/issues/4310\r\n",
      "warning: SLIM_BPR_Cython_Epoch.pyx:25:4: The 'DEF' statement is deprecated and will be removed in a future Cython version. Consider using global variables, constants, and in-place literals instead. See https://github.com/cython/cython/issues/4310\r\n",
      "warning: SLIM_BPR_Cython_Epoch.pyx:27:4: The 'DEF' statement is deprecated and will be removed in a future Cython version. Consider using global variables, constants, and in-place literals instead. See https://github.com/cython/cython/issues/4310\r\n",
      "warning: SLIM_BPR_Cython_Epoch.pyx:29:4: The 'DEF' statement is deprecated and will be removed in a future Cython version. Consider using global variables, constants, and in-place literals instead. See https://github.com/cython/cython/issues/4310\r\n",
      "warning: SLIM_BPR_Cython_Epoch.pyx:632:34: Non-trivial type declarators in shared declaration (e.g. mix of pointers and values). Each pointer declaration should be on its own line.\r\n",
      "warning: SLIM_BPR_Cython_Epoch.pyx:632:66: Non-trivial type declarators in shared declaration (e.g. mix of pointers and values). Each pointer declaration should be on its own line.\r\n",
      "warning: SLIM_BPR_Cython_Epoch.pyx:817:35: Non-trivial type declarators in shared declaration (e.g. mix of pointers and values). Each pointer declaration should be on its own line.\r\n",
      "warning: SLIM_BPR_Cython_Epoch.pyx:817:52: Non-trivial type declarators in shared declaration (e.g. mix of pointers and values). Each pointer declaration should be on its own line.\r\n",
      "warning: SLIM_BPR_Cython_Epoch.pyx:916:35: Non-trivial type declarators in shared declaration (e.g. mix of pointers and values). Each pointer declaration should be on its own line.\r\n",
      "warning: SLIM_BPR_Cython_Epoch.pyx:916:53: Non-trivial type declarators in shared declaration (e.g. mix of pointers and values). Each pointer declaration should be on its own line.\r\n",
      "warning: SLIM_BPR_Cython_Epoch.pyx:916:69: Non-trivial type declarators in shared declaration (e.g. mix of pointers and values). Each pointer declaration should be on its own line.\r\n",
      "warning: SLIM_BPR_Cython_Epoch.pyx:1051:35: Non-trivial type declarators in shared declaration (e.g. mix of pointers and values). Each pointer declaration should be on its own line.\r\n",
      "warning: SLIM_BPR_Cython_Epoch.pyx:1051:42: Non-trivial type declarators in shared declaration (e.g. mix of pointers and values). Each pointer declaration should be on its own line.\r\n",
      "warning: SLIM_BPR_Cython_Epoch.pyx:1052:35: Non-trivial type declarators in shared declaration (e.g. mix of pointers and values). Each pointer declaration should be on its own line.\r\n",
      "warning: SLIM_BPR_Cython_Epoch.pyx:1052:53: Non-trivial type declarators in shared declaration (e.g. mix of pointers and values). Each pointer declaration should be on its own line.\r\n",
      "\r\n",
      "Error compiling Cython file:\r\n",
      "------------------------------------------------------------\r\n",
      "...\r\n",
      "            vector_pointer_to_list_elements[index].head = current_element\r\n",
      "            current_element = current_element.higher\r\n",
      "\r\n",
      "\r\n",
      "        # Sort array elements on their data field\r\n",
      "        qsort(vector_pointer_to_list_elements, list_length, sizeof(head_pointer_tree_s), compare_struct_on_data)\r\n",
      "                                                                                         ^\r\n",
      "------------------------------------------------------------\r\n",
      "\r\n",
      "SLIM_BPR_Cython_Epoch.pyx:990:89: Cannot assign type 'int (const void *, const void *) except? -1' to 'int (*)(const_void *, const_void *) noexcept'\r\n",
      "\r\n",
      "Error compiling Cython file:\r\n",
      "------------------------------------------------------------\r\n",
      "...\r\n",
      "        # Sort array elements on their data field\r\n",
      "        qsort(vector_pointer_to_list_elements, list_length, sizeof(head_pointer_tree_s), compare_struct_on_data)\r\n",
      "\r\n",
      "        # Sort only the TopK according to their column field\r\n",
      "        # Sort is from lower to higher, therefore the elements to be considered are from len-topK to len\r\n",
      "        qsort(&vector_pointer_to_list_elements[list_length-TopK], TopK, sizeof(head_pointer_tree_s), compare_struct_on_column)\r\n",
      "                                                                                                     ^\r\n",
      "------------------------------------------------------------\r\n",
      "\r\n",
      "SLIM_BPR_Cython_Epoch.pyx:994:101: Cannot assign type 'int (const void *, const void *) except? -1' to 'int (*)(const_void *, const_void *) noexcept'\r\n",
      "Traceback (most recent call last):\r\n",
      "  File \"/kaggle/working/Recsys_Challenge_2023/CythonCompiler/compile_script.py\", line 48, in <module>\r\n",
      "    setup(\r\n",
      "  File \"/opt/conda/lib/python3.10/site-packages/setuptools/__init__.py\", line 107, in setup\r\n",
      "    return distutils.core.setup(**attrs)\r\n",
      "  File \"/opt/conda/lib/python3.10/site-packages/setuptools/_distutils/core.py\", line 185, in setup\r\n",
      "    return run_commands(dist)\r\n",
      "  File \"/opt/conda/lib/python3.10/site-packages/setuptools/_distutils/core.py\", line 201, in run_commands\r\n",
      "    dist.run_commands()\r\n",
      "  File \"/opt/conda/lib/python3.10/site-packages/setuptools/_distutils/dist.py\", line 969, in run_commands\r\n",
      "    self.run_command(cmd)\r\n",
      "  File \"/opt/conda/lib/python3.10/site-packages/setuptools/dist.py\", line 1233, in run_command\r\n",
      "    super().run_command(command)\r\n",
      "  File \"/opt/conda/lib/python3.10/site-packages/setuptools/_distutils/dist.py\", line 988, in run_command\r\n",
      "    cmd_obj.run()\r\n",
      "  File \"/opt/conda/lib/python3.10/site-packages/setuptools/_distutils/command/build_ext.py\", line 345, in run\r\n",
      "    self.build_extensions()\r\n",
      "  File \"/opt/conda/lib/python3.10/site-packages/setuptools/_distutils/command/build_ext.py\", line 467, in build_extensions\r\n",
      "    self._build_extensions_serial()\r\n",
      "  File \"/opt/conda/lib/python3.10/site-packages/setuptools/_distutils/command/build_ext.py\", line 493, in _build_extensions_serial\r\n",
      "    self.build_extension(ext)\r\n",
      "  File \"/opt/conda/lib/python3.10/site-packages/Cython/Distutils/build_ext.py\", line 122, in build_extension\r\n",
      "    new_ext = cythonize(\r\n",
      "  File \"/opt/conda/lib/python3.10/site-packages/Cython/Build/Dependencies.py\", line 1134, in cythonize\r\n",
      "    cythonize_one(*args)\r\n",
      "  File \"/opt/conda/lib/python3.10/site-packages/Cython/Build/Dependencies.py\", line 1301, in cythonize_one\r\n",
      "    raise CompileError(None, pyx_file)\r\n",
      "Cython.Compiler.Errors.CompileError: SLIM_BPR_Cython_Epoch.pyx\r\n",
      "Traceback (most recent call last):\r\n",
      "  File \"/kaggle/working/Recsys_Challenge_2023/run_compile_all_cython.py\", line 59, in <module>\r\n",
      "    run_compile_subprocess(file_path, [file_name])\r\n",
      "  File \"/kaggle/working/Recsys_Challenge_2023/CythonCompiler/run_compile_subprocess.py\", line 51, in run_compile_subprocess\r\n",
      "    raise exc\r\n",
      "  File \"/kaggle/working/Recsys_Challenge_2023/CythonCompiler/run_compile_subprocess.py\", line 32, in run_compile_subprocess\r\n",
      "    output = subprocess.check_output(' '.join(command),\r\n",
      "  File \"/opt/conda/lib/python3.10/subprocess.py\", line 421, in check_output\r\n",
      "    return run(*popenargs, stdout=PIPE, timeout=timeout, check=True,\r\n",
      "  File \"/opt/conda/lib/python3.10/subprocess.py\", line 526, in run\r\n",
      "    raise CalledProcessError(retcode, process.args,\r\n",
      "subprocess.CalledProcessError: Command '/opt/conda/bin/python /kaggle/working/Recsys_Challenge_2023/CythonCompiler/compile_script.py SLIM_BPR_Cython_Epoch.pyx build_ext --inplace' returned non-zero exit status 1.\r\n",
      "Compiling [5/10]: SLIM_BPR_Cython_Epoch.pyx... FAIL: Command '/opt/conda/bin/python /kaggle/working/Recsys_Challenge_2023/CythonCompiler/compile_script.py SLIM_BPR_Cython_Epoch.pyx build_ext --inplace' returned non-zero exit status 1.\r\n",
      "\r\n",
      "Compiling [6/10]: Triangular_Matrix.pyx... \r\n",
      "warning: Triangular_Matrix.pyx:22:0: The 'IF' statement is deprecated and will be removed in a future Cython version. Consider using runtime conditions or C macros instead. See https://github.com/cython/cython/issues/4310\r\n",
      "warning: Triangular_Matrix.pyx:23:4: The 'DEF' statement is deprecated and will be removed in a future Cython version. Consider using global variables, constants, and in-place literals instead. See https://github.com/cython/cython/issues/4310\r\n",
      "warning: Triangular_Matrix.pyx:25:4: The 'DEF' statement is deprecated and will be removed in a future Cython version. Consider using global variables, constants, and in-place literals instead. See https://github.com/cython/cython/issues/4310\r\n",
      "warning: Triangular_Matrix.pyx:27:4: The 'DEF' statement is deprecated and will be removed in a future Cython version. Consider using global variables, constants, and in-place literals instead. See https://github.com/cython/cython/issues/4310\r\n",
      "In file included from \u001b[01m\u001b[K/opt/conda/lib/python3.10/site-packages/numpy/core/include/numpy/ndarraytypes.h:1940\u001b[m\u001b[K,\r\n",
      "                 from \u001b[01m\u001b[K/opt/conda/lib/python3.10/site-packages/numpy/core/include/numpy/ndarrayobject.h:12\u001b[m\u001b[K,\r\n",
      "                 from \u001b[01m\u001b[K/opt/conda/lib/python3.10/site-packages/numpy/core/include/numpy/arrayobject.h:5\u001b[m\u001b[K,\r\n",
      "                 from \u001b[01m\u001b[KTriangular_Matrix.c:1109\u001b[m\u001b[K:\r\n",
      "\u001b[01m\u001b[K/opt/conda/lib/python3.10/site-packages/numpy/core/include/numpy/npy_1_7_deprecated_api.h:17:2:\u001b[m\u001b[K \u001b[01;35m\u001b[Kwarning: \u001b[m\u001b[K#warning \"Using deprecated NumPy API, disable it with \" \"#define NPY_NO_DEPRECATED_API NPY_1_7_API_VERSION\" [\u001b[01;35m\u001b[K-Wcpp\u001b[m\u001b[K]\r\n",
      "   17 | #\u001b[01;35m\u001b[Kwarning\u001b[m\u001b[K \"Using deprecated NumPy API, disable it with \" \\\r\n",
      "      |  \u001b[01;35m\u001b[K^~~~~~~\u001b[m\u001b[K\r\n",
      "/opt/conda/lib/python3.10/site-packages/Cython/Compiler/Main.py:381: FutureWarning: Cython directive 'language_level' not set, using '3str' for now (Py3). This has changed from earlier releases! File: /kaggle/working/Recsys_Challenge_2023/Recommenders/SLIM/Cython/Triangular_Matrix.pyx\r\n",
      "  tree = Parsing.p_module(s, pxd, full_module_name)\r\n",
      "warning: Triangular_Matrix.pyx:22:0: The 'IF' statement is deprecated and will be removed in a future Cython version. Consider using runtime conditions or C macros instead. See https://github.com/cython/cython/issues/4310\r\n",
      "warning: Triangular_Matrix.pyx:23:4: The 'DEF' statement is deprecated and will be removed in a future Cython version. Consider using global variables, constants, and in-place literals instead. See https://github.com/cython/cython/issues/4310\r\n",
      "warning: Triangular_Matrix.pyx:25:4: The 'DEF' statement is deprecated and will be removed in a future Cython version. Consider using global variables, constants, and in-place literals instead. See https://github.com/cython/cython/issues/4310\r\n",
      "warning: Triangular_Matrix.pyx:27:4: The 'DEF' statement is deprecated and will be removed in a future Cython version. Consider using global variables, constants, and in-place literals instead. See https://github.com/cython/cython/issues/4310\r\n",
      "Compiling [6/10]: Triangular_Matrix.pyx... PASS\r\n",
      "\r\n",
      "Compiling [7/10]: CFW_DVV_Similarity_Cython_SGD.pyx... \r\n",
      "In file included from \u001b[01m\u001b[K/opt/conda/lib/python3.10/site-packages/numpy/core/include/numpy/ndarraytypes.h:1940\u001b[m\u001b[K,\r\n",
      "                 from \u001b[01m\u001b[K/opt/conda/lib/python3.10/site-packages/numpy/core/include/numpy/ndarrayobject.h:12\u001b[m\u001b[K,\r\n",
      "                 from \u001b[01m\u001b[K/opt/conda/lib/python3.10/site-packages/numpy/core/include/numpy/arrayobject.h:5\u001b[m\u001b[K,\r\n",
      "                 from \u001b[01m\u001b[KCFW_DVV_Similarity_Cython_SGD.c:1109\u001b[m\u001b[K:\r\n",
      "\u001b[01m\u001b[K/opt/conda/lib/python3.10/site-packages/numpy/core/include/numpy/npy_1_7_deprecated_api.h:17:2:\u001b[m\u001b[K \u001b[01;35m\u001b[Kwarning: \u001b[m\u001b[K#warning \"Using deprecated NumPy API, disable it with \" \"#define NPY_NO_DEPRECATED_API NPY_1_7_API_VERSION\" [\u001b[01;35m\u001b[K-Wcpp\u001b[m\u001b[K]\r\n",
      "   17 | #\u001b[01;35m\u001b[Kwarning\u001b[m\u001b[K \"Using deprecated NumPy API, disable it with \" \\\r\n",
      "      |  \u001b[01;35m\u001b[K^~~~~~~\u001b[m\u001b[K\r\n",
      "/opt/conda/lib/python3.10/site-packages/Cython/Compiler/Main.py:381: FutureWarning: Cython directive 'language_level' not set, using '3str' for now (Py3). This has changed from earlier releases! File: /kaggle/working/Recsys_Challenge_2023/Recommenders/FeatureWeighting/Cython/CFW_DVV_Similarity_Cython_SGD.pyx\r\n",
      "  tree = Parsing.p_module(s, pxd, full_module_name)\r\n",
      "Compiling [7/10]: CFW_DVV_Similarity_Cython_SGD.pyx... PASS\r\n",
      "\r\n",
      "Compiling [8/10]: HP3_Similarity_Cython_SGD.pyx... \r\n",
      "warning: HP3_Similarity_Cython_SGD.pyx:113:40: Index should be typed for more efficient access\r\n",
      "In file included from \u001b[01m\u001b[K/opt/conda/lib/python3.10/site-packages/numpy/core/include/numpy/ndarraytypes.h:1940\u001b[m\u001b[K,\r\n",
      "                 from \u001b[01m\u001b[K/opt/conda/lib/python3.10/site-packages/numpy/core/include/numpy/ndarrayobject.h:12\u001b[m\u001b[K,\r\n",
      "                 from \u001b[01m\u001b[K/opt/conda/lib/python3.10/site-packages/numpy/core/include/numpy/arrayobject.h:5\u001b[m\u001b[K,\r\n",
      "                 from \u001b[01m\u001b[KHP3_Similarity_Cython_SGD.c:1109\u001b[m\u001b[K:\r\n",
      "\u001b[01m\u001b[K/opt/conda/lib/python3.10/site-packages/numpy/core/include/numpy/npy_1_7_deprecated_api.h:17:2:\u001b[m\u001b[K \u001b[01;35m\u001b[Kwarning: \u001b[m\u001b[K#warning \"Using deprecated NumPy API, disable it with \" \"#define NPY_NO_DEPRECATED_API NPY_1_7_API_VERSION\" [\u001b[01;35m\u001b[K-Wcpp\u001b[m\u001b[K]\r\n",
      "   17 | #\u001b[01;35m\u001b[Kwarning\u001b[m\u001b[K \"Using deprecated NumPy API, disable it with \" \\\r\n",
      "      |  \u001b[01;35m\u001b[K^~~~~~~\u001b[m\u001b[K\r\n",
      "\u001b[01m\u001b[KHP3_Similarity_Cython_SGD.c:\u001b[m\u001b[K In function ‘\u001b[01m\u001b[K__pyx_pf_25HP3_Similarity_Cython_SGD_25HP3_Similarity_Cython_SGD_4fit\u001b[m\u001b[K’:\r\n",
      "\u001b[01m\u001b[KHP3_Similarity_Cython_SGD.c:23035:55:\u001b[m\u001b[K \u001b[01;35m\u001b[Kwarning: \u001b[m\u001b[K‘\u001b[01m\u001b[K__pyx_v_sample_num\u001b[m\u001b[K’ may be used uninitialized in this function [\u001b[01;35m\u001b[K-Wmaybe-uninitialized\u001b[m\u001b[K]\r\n",
      "23035 |   __pyx_t_1 = PyFloat_FromDouble((__pyx_v_cum_loss / \u001b[01;35m\u001b[K((double)__pyx_v_sample_num)\u001b[m\u001b[K)); if (unlikely(!__pyx_t_1)) __PYX_ERR(0, 291, __pyx_L1_error)\r\n",
      "      |                                                      \u001b[01;35m\u001b[K~^~~~~~~~~~~~~~~~~~~~~~~~~~~\u001b[m\u001b[K\r\n",
      "/opt/conda/lib/python3.10/site-packages/Cython/Compiler/Main.py:381: FutureWarning: Cython directive 'language_level' not set, using '3str' for now (Py3). This has changed from earlier releases! File: /kaggle/working/Recsys_Challenge_2023/Recommenders/FeatureWeighting/Cython/HP3_Similarity_Cython_SGD.pyx\r\n",
      "  tree = Parsing.p_module(s, pxd, full_module_name)\r\n",
      "warning: HP3_Similarity_Cython_SGD.pyx:113:40: Index should be typed for more efficient access\r\n",
      "Compiling [8/10]: HP3_Similarity_Cython_SGD.pyx... PASS\r\n",
      "\r\n",
      "Compiling [9/10]: FBSM_Rating_Cython_SGD.pyx... \r\n",
      "In file included from \u001b[01m\u001b[K/opt/conda/lib/python3.10/site-packages/numpy/core/include/numpy/ndarraytypes.h:1940\u001b[m\u001b[K,\r\n",
      "                 from \u001b[01m\u001b[K/opt/conda/lib/python3.10/site-packages/numpy/core/include/numpy/ndarrayobject.h:12\u001b[m\u001b[K,\r\n",
      "                 from \u001b[01m\u001b[K/opt/conda/lib/python3.10/site-packages/numpy/core/include/numpy/arrayobject.h:5\u001b[m\u001b[K,\r\n",
      "                 from \u001b[01m\u001b[KFBSM_Rating_Cython_SGD.c:1109\u001b[m\u001b[K:\r\n",
      "\u001b[01m\u001b[K/opt/conda/lib/python3.10/site-packages/numpy/core/include/numpy/npy_1_7_deprecated_api.h:17:2:\u001b[m\u001b[K \u001b[01;35m\u001b[Kwarning: \u001b[m\u001b[K#warning \"Using deprecated NumPy API, disable it with \" \"#define NPY_NO_DEPRECATED_API NPY_1_7_API_VERSION\" [\u001b[01;35m\u001b[K-Wcpp\u001b[m\u001b[K]\r\n",
      "   17 | #\u001b[01;35m\u001b[Kwarning\u001b[m\u001b[K \"Using deprecated NumPy API, disable it with \" \\\r\n",
      "      |  \u001b[01;35m\u001b[K^~~~~~~\u001b[m\u001b[K\r\n",
      "\u001b[01m\u001b[KFBSM_Rating_Cython_SGD.c:\u001b[m\u001b[K In function ‘\u001b[01m\u001b[K__pyx_pf_22FBSM_Rating_Cython_SGD_22FBSM_Rating_Cython_SGD_2fit\u001b[m\u001b[K’:\r\n",
      "\u001b[01m\u001b[KFBSM_Rating_Cython_SGD.c:26038:55:\u001b[m\u001b[K \u001b[01;35m\u001b[Kwarning: \u001b[m\u001b[K‘\u001b[01m\u001b[K__pyx_v_num_sample\u001b[m\u001b[K’ may be used uninitialized in this function [\u001b[01;35m\u001b[K-Wmaybe-uninitialized\u001b[m\u001b[K]\r\n",
      "26038 |   __pyx_t_5 = PyFloat_FromDouble((__pyx_v_cum_loss / \u001b[01;35m\u001b[K((double)__pyx_v_num_sample)\u001b[m\u001b[K)); if (unlikely(!__pyx_t_5)) __PYX_ERR(0, 551, __pyx_L1_error)\r\n",
      "      |                                                      \u001b[01;35m\u001b[K~^~~~~~~~~~~~~~~~~~~~~~~~~~~\u001b[m\u001b[K\r\n",
      "/opt/conda/lib/python3.10/site-packages/Cython/Compiler/Main.py:381: FutureWarning: Cython directive 'language_level' not set, using '3str' for now (Py3). This has changed from earlier releases! File: /kaggle/working/Recsys_Challenge_2023/Recommenders/FeatureWeighting/Cython/FBSM_Rating_Cython_SGD.pyx\r\n",
      "  tree = Parsing.p_module(s, pxd, full_module_name)\r\n",
      "Compiling [9/10]: FBSM_Rating_Cython_SGD.pyx... PASS\r\n",
      "\r\n",
      "Compiling [10/10]: CFW_D_Similarity_Cython_SGD.pyx... \r\n",
      "In file included from \u001b[01m\u001b[K/opt/conda/lib/python3.10/site-packages/numpy/core/include/numpy/ndarraytypes.h:1940\u001b[m\u001b[K,\r\n",
      "                 from \u001b[01m\u001b[K/opt/conda/lib/python3.10/site-packages/numpy/core/include/numpy/ndarrayobject.h:12\u001b[m\u001b[K,\r\n",
      "                 from \u001b[01m\u001b[K/opt/conda/lib/python3.10/site-packages/numpy/core/include/numpy/arrayobject.h:5\u001b[m\u001b[K,\r\n",
      "                 from \u001b[01m\u001b[KCFW_D_Similarity_Cython_SGD.c:1109\u001b[m\u001b[K:\r\n",
      "\u001b[01m\u001b[K/opt/conda/lib/python3.10/site-packages/numpy/core/include/numpy/npy_1_7_deprecated_api.h:17:2:\u001b[m\u001b[K \u001b[01;35m\u001b[Kwarning: \u001b[m\u001b[K#warning \"Using deprecated NumPy API, disable it with \" \"#define NPY_NO_DEPRECATED_API NPY_1_7_API_VERSION\" [\u001b[01;35m\u001b[K-Wcpp\u001b[m\u001b[K]\r\n",
      "   17 | #\u001b[01;35m\u001b[Kwarning\u001b[m\u001b[K \"Using deprecated NumPy API, disable it with \" \\\r\n",
      "      |  \u001b[01;35m\u001b[K^~~~~~~\u001b[m\u001b[K\r\n",
      "\u001b[01m\u001b[KCFW_D_Similarity_Cython_SGD.c:\u001b[m\u001b[K In function ‘\u001b[01m\u001b[K__pyx_pf_27CFW_D_Similarity_Cython_SGD_27CFW_D_Similarity_Cython_SGD_6fit\u001b[m\u001b[K’:\r\n",
      "\u001b[01m\u001b[KCFW_D_Similarity_Cython_SGD.c:22766:55:\u001b[m\u001b[K \u001b[01;35m\u001b[Kwarning: \u001b[m\u001b[K‘\u001b[01m\u001b[K__pyx_v_sample_num\u001b[m\u001b[K’ may be used uninitialized in this function [\u001b[01;35m\u001b[K-Wmaybe-uninitialized\u001b[m\u001b[K]\r\n",
      "22766 |   __pyx_t_3 = PyFloat_FromDouble((__pyx_v_cum_loss / \u001b[01;35m\u001b[K((double)__pyx_v_sample_num)\u001b[m\u001b[K)); if (unlikely(!__pyx_t_3)) __PYX_ERR(0, 290, __pyx_L1_error)\r\n",
      "      |                                                      \u001b[01;35m\u001b[K~^~~~~~~~~~~~~~~~~~~~~~~~~~~\u001b[m\u001b[K\r\n",
      "/opt/conda/lib/python3.10/site-packages/Cython/Compiler/Main.py:381: FutureWarning: Cython directive 'language_level' not set, using '3str' for now (Py3). This has changed from earlier releases! File: /kaggle/working/Recsys_Challenge_2023/Recommenders/FeatureWeighting/Cython/CFW_D_Similarity_Cython_SGD.pyx\r\n",
      "  tree = Parsing.p_module(s, pxd, full_module_name)\r\n",
      "Compiling [10/10]: CFW_D_Similarity_Cython_SGD.pyx... PASS\r\n",
      "\r\n",
      "run_compile_all_cython: Compilation finished. FAILS 2/10.\r\n",
      "Compilation log can be found here: './result_experiments/run_compile_all_cython.txt'\r\n"
     ]
    }
   ],
   "source": [
    "! cd /kaggle/working/Recsys_Challenge_2023 && python run_compile_all_cython.py"
   ]
  },
  {
   "cell_type": "code",
   "execution_count": 4,
   "id": "97cdb664",
   "metadata": {
    "_kg_hide-output": true,
    "execution": {
     "iopub.execute_input": "2023-12-04T16:20:11.915448Z",
     "iopub.status.busy": "2023-12-04T16:20:11.914834Z",
     "iopub.status.idle": "2023-12-04T16:20:16.396670Z",
     "shell.execute_reply": "2023-12-04T16:20:16.394505Z"
    },
    "papermill": {
     "duration": 4.516654,
     "end_time": "2023-12-04T16:20:16.400199",
     "exception": false,
     "start_time": "2023-12-04T16:20:11.883545",
     "status": "completed"
    },
    "scrolled": true,
    "tags": []
   },
   "outputs": [
    {
     "name": "stdout",
     "output_type": "stream",
     "text": [
      "/kaggle/input/recommender-system-2023-challenge-polimi/data_train.csv\n",
      "/kaggle/input/recommender-system-2023-challenge-polimi/data_target_users_test.csv\n",
      "/kaggle/input/training-tuned-models/slim_bpr_xgboost_train_validation.zip\n",
      "/kaggle/input/training-tuned-models/__results__.html\n",
      "/kaggle/input/training-tuned-models/ease_r_all.zip\n",
      "/kaggle/input/training-tuned-models/slim_bpr_all.zip\n",
      "/kaggle/input/training-tuned-models/slim_elastic_train_validation.zip\n",
      "/kaggle/input/training-tuned-models/ease_r_train_validation.zip\n",
      "/kaggle/input/training-tuned-models/__notebook__.ipynb\n",
      "/kaggle/input/training-tuned-models/ials_xgboost_train_validation.zip\n",
      "/kaggle/input/training-tuned-models/ials_train_validation.zip\n",
      "/kaggle/input/training-tuned-models/slim_elastic_xgboost_train_validation.zip\n",
      "/kaggle/input/training-tuned-models/ease_r_xgboost_train_validation.zip\n",
      "/kaggle/input/training-tuned-models/__output__.json\n",
      "/kaggle/input/training-tuned-models/slim_bpr_train_validation.zip\n",
      "/kaggle/input/training-tuned-models/ials_all.zip\n",
      "/kaggle/input/training-tuned-models/slim_elastic_all.zip\n",
      "/kaggle/input/training-tuned-models/custom.css\n",
      "/kaggle/input/training-tuned-models/Recsys_Challenge_2023/run_all_algorithms.py\n",
      "/kaggle/input/training-tuned-models/Recsys_Challenge_2023/cython_example_FunkSVD.py\n",
      "/kaggle/input/training-tuned-models/Recsys_Challenge_2023/LICENSE\n",
      "/kaggle/input/training-tuned-models/Recsys_Challenge_2023/.gitignore\n",
      "/kaggle/input/training-tuned-models/Recsys_Challenge_2023/rp3-tuning.ipynb\n",
      "/kaggle/input/training-tuned-models/Recsys_Challenge_2023/README.md\n",
      "/kaggle/input/training-tuned-models/Recsys_Challenge_2023/run_hyperparameter_search.py\n",
      "/kaggle/input/training-tuned-models/Recsys_Challenge_2023/cython_example_SLIM_MSE.py\n",
      "/kaggle/input/training-tuned-models/Recsys_Challenge_2023/requirements.txt\n",
      "/kaggle/input/training-tuned-models/Recsys_Challenge_2023/run_test_recommenders.py\n",
      "/kaggle/input/training-tuned-models/Recsys_Challenge_2023/run_compile_all_cython.py\n",
      "/kaggle/input/training-tuned-models/Recsys_Challenge_2023/slim-tuning.ipynb\n",
      "/kaggle/input/training-tuned-models/Recsys_Challenge_2023/matrix-factorization.ipynb\n",
      "/kaggle/input/training-tuned-models/Recsys_Challenge_2023/hybrid.ipynb\n",
      "/kaggle/input/training-tuned-models/Recsys_Challenge_2023/Data_manager/DataSplitter_Holdout.py\n",
      "/kaggle/input/training-tuned-models/Recsys_Challenge_2023/Data_manager/DataSplitter.py\n",
      "/kaggle/input/training-tuned-models/Recsys_Challenge_2023/Data_manager/DatasetMapperManager.py\n",
      "/kaggle/input/training-tuned-models/Recsys_Challenge_2023/Data_manager/data_consistency_check.py\n",
      "/kaggle/input/training-tuned-models/Recsys_Challenge_2023/Data_manager/README.md\n",
      "/kaggle/input/training-tuned-models/Recsys_Challenge_2023/Data_manager/TagPreprocessing.py\n",
      "/kaggle/input/training-tuned-models/Recsys_Challenge_2023/Data_manager/DataReader.py\n",
      "/kaggle/input/training-tuned-models/Recsys_Challenge_2023/Data_manager/DataReader_utils.py\n",
      "/kaggle/input/training-tuned-models/Recsys_Challenge_2023/Data_manager/IncrementalSparseMatrix.py\n",
      "/kaggle/input/training-tuned-models/Recsys_Challenge_2023/Data_manager/run_clean_split_data_files.py\n",
      "/kaggle/input/training-tuned-models/Recsys_Challenge_2023/Data_manager/Dataset.py\n",
      "/kaggle/input/training-tuned-models/Recsys_Challenge_2023/Data_manager/DataSplitter_leave_k_out.py\n",
      "/kaggle/input/training-tuned-models/Recsys_Challenge_2023/Data_manager/CrossValidationSplitter.py\n",
      "/kaggle/input/training-tuned-models/Recsys_Challenge_2023/Data_manager/__init__.py\n",
      "/kaggle/input/training-tuned-models/Recsys_Challenge_2023/Data_manager/__pycache__/data_consistency_check.cpython-310.pyc\n",
      "/kaggle/input/training-tuned-models/Recsys_Challenge_2023/Data_manager/__pycache__/DatasetMapperManager.cpython-310.pyc\n",
      "/kaggle/input/training-tuned-models/Recsys_Challenge_2023/Data_manager/__pycache__/IncrementalSparseMatrix.cpython-310.pyc\n",
      "/kaggle/input/training-tuned-models/Recsys_Challenge_2023/Data_manager/__pycache__/DataReader.cpython-310.pyc\n",
      "/kaggle/input/training-tuned-models/Recsys_Challenge_2023/Data_manager/__pycache__/DataReader_utils.cpython-310.pyc\n",
      "/kaggle/input/training-tuned-models/Recsys_Challenge_2023/Data_manager/__pycache__/__init__.cpython-310.pyc\n",
      "/kaggle/input/training-tuned-models/Recsys_Challenge_2023/Data_manager/__pycache__/Dataset.cpython-310.pyc\n",
      "/kaggle/input/training-tuned-models/Recsys_Challenge_2023/Data_manager/split_functions/split_train_validation_leave_k_out.py\n",
      "/kaggle/input/training-tuned-models/Recsys_Challenge_2023/Data_manager/split_functions/split_train_validation_cold_items.py\n",
      "/kaggle/input/training-tuned-models/Recsys_Challenge_2023/Data_manager/split_functions/split_train_validation_random_holdout.py\n",
      "/kaggle/input/training-tuned-models/Recsys_Challenge_2023/Data_manager/split_functions/__pycache__/split_train_validation_random_holdout.cpython-310.pyc\n",
      "/kaggle/input/training-tuned-models/Recsys_Challenge_2023/Data_manager/Movielens/Movielens10MReader.py\n",
      "/kaggle/input/training-tuned-models/Recsys_Challenge_2023/Data_manager/Movielens/Movielens1MReader.py\n",
      "/kaggle/input/training-tuned-models/Recsys_Challenge_2023/Data_manager/Movielens/Movielens100KReader.py\n",
      "/kaggle/input/training-tuned-models/Recsys_Challenge_2023/Data_manager/Movielens/MovielensHetrec2011Reader.py\n",
      "/kaggle/input/training-tuned-models/Recsys_Challenge_2023/Data_manager/Movielens/_utils_movielens_parser.py\n",
      "/kaggle/input/training-tuned-models/Recsys_Challenge_2023/Data_manager/Movielens/Movielens20MReader.py\n",
      "/kaggle/input/training-tuned-models/Recsys_Challenge_2023/Data_manager/Movielens/__pycache__/Movielens10MReader.cpython-310.pyc\n",
      "/kaggle/input/training-tuned-models/Recsys_Challenge_2023/Data_manager/Movielens/__pycache__/Movielens1MReader.cpython-310.pyc\n",
      "/kaggle/input/training-tuned-models/Recsys_Challenge_2023/Data_manager/Movielens/__pycache__/_utils_movielens_parser.cpython-310.pyc\n",
      "/kaggle/input/training-tuned-models/Recsys_Challenge_2023/Data_manager/Movielens/__pycache__/Movielens20MReader.cpython-310.pyc\n",
      "/kaggle/input/training-tuned-models/Recsys_Challenge_2023/Data_manager/Movielens/__pycache__/Movielens100KReader.cpython-310.pyc\n",
      "/kaggle/input/training-tuned-models/Recsys_Challenge_2023/Data_manager/Movielens/__pycache__/MovielensHetrec2011Reader.cpython-310.pyc\n",
      "/kaggle/input/training-tuned-models/Recsys_Challenge_2023/Utils/seconds_to_biggest_unit.py\n",
      "/kaggle/input/training-tuned-models/Recsys_Challenge_2023/Utils/PyTorch/utils.py\n",
      "/kaggle/input/training-tuned-models/Recsys_Challenge_2023/Utils/PyTorch/DataSampler.py\n",
      "/kaggle/input/training-tuned-models/Recsys_Challenge_2023/Utils/PyTorch/DataIterator.py\n",
      "/kaggle/input/training-tuned-models/Recsys_Challenge_2023/Utils/PyTorch/Cython/DataIterator.pyx\n",
      "/kaggle/input/training-tuned-models/Recsys_Challenge_2023/Utils/__pycache__/seconds_to_biggest_unit.cpython-310.pyc\n",
      "/kaggle/input/training-tuned-models/Recsys_Challenge_2023/Notebooks_utils/Cosine_Similarity_Cython_SLOW.cpython-36m-x86_64-linux-gnu.so\n",
      "/kaggle/input/training-tuned-models/Recsys_Challenge_2023/Notebooks_utils/Cosine_Similarity_Cython_SLOW.c\n",
      "/kaggle/input/training-tuned-models/Recsys_Challenge_2023/Notebooks_utils/compileCython.py\n",
      "/kaggle/input/training-tuned-models/Recsys_Challenge_2023/Notebooks_utils/Cosine_Similarity_Cython.pyx\n",
      "/kaggle/input/training-tuned-models/Recsys_Challenge_2023/Notebooks_utils/Cosine_Similarity_Cython.html\n",
      "/kaggle/input/training-tuned-models/Recsys_Challenge_2023/Notebooks_utils/Compute_Similarity_Python.py\n",
      "/kaggle/input/training-tuned-models/Recsys_Challenge_2023/Notebooks_utils/Cosine_Similarity_Cython.c\n",
      "/kaggle/input/training-tuned-models/Recsys_Challenge_2023/Notebooks_utils/Cosine_Similarity_Cython.cpython-36m-x86_64-linux-gnu.so\n",
      "/kaggle/input/training-tuned-models/Recsys_Challenge_2023/Notebooks_utils/Cosine_Similarity_Cython_SLOW.pyx\n",
      "/kaggle/input/training-tuned-models/Recsys_Challenge_2023/Notebooks_utils/Cosine_Similarity_Cython_SLOW.html\n",
      "/kaggle/input/training-tuned-models/Recsys_Challenge_2023/CythonCompiler/compile_script.py\n",
      "/kaggle/input/training-tuned-models/Recsys_Challenge_2023/CythonCompiler/run_compile_subprocess.py\n",
      "/kaggle/input/training-tuned-models/Recsys_Challenge_2023/CythonCompiler/__pycache__/run_compile_subprocess.cpython-310.pyc\n",
      "/kaggle/input/training-tuned-models/Recsys_Challenge_2023/Recommenders/IR_feature_weighting.py\n",
      "/kaggle/input/training-tuned-models/Recsys_Challenge_2023/Recommenders/Incremental_Training_Early_Stopping.py\n",
      "/kaggle/input/training-tuned-models/Recsys_Challenge_2023/Recommenders/BaseMatrixFactorizationRecommender.py\n",
      "/kaggle/input/training-tuned-models/Recsys_Challenge_2023/Recommenders/BaseRecommender.py\n",
      "/kaggle/input/training-tuned-models/Recsys_Challenge_2023/Recommenders/BaseCBFRecommender.py\n",
      "/kaggle/input/training-tuned-models/Recsys_Challenge_2023/Recommenders/Recommender_import_list.py\n",
      "/kaggle/input/training-tuned-models/Recsys_Challenge_2023/Recommenders/BaseTempFolder.py\n",
      "/kaggle/input/training-tuned-models/Recsys_Challenge_2023/Recommenders/Recommender_utils.py\n",
      "/kaggle/input/training-tuned-models/Recsys_Challenge_2023/Recommenders/NonPersonalizedRecommender.py\n",
      "/kaggle/input/training-tuned-models/Recsys_Challenge_2023/Recommenders/BaseSimilarityMatrixRecommender.py\n",
      "/kaggle/input/training-tuned-models/Recsys_Challenge_2023/Recommenders/DataIO.py\n",
      "/kaggle/input/training-tuned-models/Recsys_Challenge_2023/Recommenders/PredefinedListRecommender.py\n",
      "/kaggle/input/training-tuned-models/Recsys_Challenge_2023/Recommenders/Similarity/Compute_similarity_euclidean_test.py\n",
      "/kaggle/input/training-tuned-models/Recsys_Challenge_2023/Recommenders/Similarity/Compute_Similarity_Euclidean.py\n",
      "/kaggle/input/training-tuned-models/Recsys_Challenge_2023/Recommenders/Similarity/Compute_Similarity_Python.py\n",
      "/kaggle/input/training-tuned-models/Recsys_Challenge_2023/Recommenders/Similarity/Compute_Similarity.py\n",
      "/kaggle/input/training-tuned-models/Recsys_Challenge_2023/Recommenders/Similarity/Compute_similarity_test.py\n",
      "/kaggle/input/training-tuned-models/Recsys_Challenge_2023/Recommenders/Similarity/__pycache__/Compute_Similarity_Python.cpython-310.pyc\n",
      "/kaggle/input/training-tuned-models/Recsys_Challenge_2023/Recommenders/Similarity/__pycache__/Compute_Similarity.cpython-310.pyc\n",
      "/kaggle/input/training-tuned-models/Recsys_Challenge_2023/Recommenders/Similarity/__pycache__/Compute_Similarity_Euclidean.cpython-310.pyc\n",
      "/kaggle/input/training-tuned-models/Recsys_Challenge_2023/Recommenders/Similarity/Cython/Compute_Similarity_Cython.cpython-310-x86_64-linux-gnu.so\n",
      "/kaggle/input/training-tuned-models/Recsys_Challenge_2023/Recommenders/Similarity/Cython/Compute_Similarity_Cython.pyx\n",
      "/kaggle/input/training-tuned-models/Recsys_Challenge_2023/Recommenders/Similarity/Cython/Compute_Similarity_Cython.html\n",
      "/kaggle/input/training-tuned-models/Recsys_Challenge_2023/Recommenders/Similarity/Cython/Compute_Similarity_Cython.c\n",
      "/kaggle/input/training-tuned-models/Recsys_Challenge_2023/Recommenders/EASE_R/EASE_R_Recommender.py\n",
      "/kaggle/input/training-tuned-models/Recsys_Challenge_2023/Recommenders/EASE_R/__pycache__/EASE_R_Recommender.cpython-310.pyc\n",
      "/kaggle/input/training-tuned-models/Recsys_Challenge_2023/Recommenders/SLIM/SLIMElasticNetRecommender.py\n",
      "/kaggle/input/training-tuned-models/Recsys_Challenge_2023/Recommenders/SLIM/SLIM_BPR_Python.py\n",
      "/kaggle/input/training-tuned-models/Recsys_Challenge_2023/Recommenders/SLIM/__pycache__/SLIMElasticNetRecommender.cpython-310.pyc\n",
      "/kaggle/input/training-tuned-models/Recsys_Challenge_2023/Recommenders/SLIM/__pycache__/SLIM_BPR_Python.cpython-310.pyc\n",
      "/kaggle/input/training-tuned-models/Recsys_Challenge_2023/Recommenders/SLIM/Cython/Triangular_Matrix.cpython-310-x86_64-linux-gnu.so\n",
      "/kaggle/input/training-tuned-models/Recsys_Challenge_2023/Recommenders/SLIM/Cython/Triangular_Matrix.c\n",
      "/kaggle/input/training-tuned-models/Recsys_Challenge_2023/Recommenders/SLIM/Cython/SLIM_BPR_Cython.py\n",
      "/kaggle/input/training-tuned-models/Recsys_Challenge_2023/Recommenders/SLIM/Cython/Sparse_Matrix_Tree_CSR.pyx\n",
      "/kaggle/input/training-tuned-models/Recsys_Challenge_2023/Recommenders/SLIM/Cython/Triangular_Matrix.pyx\n",
      "/kaggle/input/training-tuned-models/Recsys_Challenge_2023/Recommenders/SLIM/Cython/SLIM_BPR_Cython_Epoch.pyx\n",
      "/kaggle/input/training-tuned-models/Recsys_Challenge_2023/Recommenders/SLIM/Cython/Triangular_Matrix.html\n",
      "/kaggle/input/training-tuned-models/Recsys_Challenge_2023/Recommenders/GraphBased/RP3betaRecommender.py\n",
      "/kaggle/input/training-tuned-models/Recsys_Challenge_2023/Recommenders/GraphBased/P3alphaRecommender.py\n",
      "/kaggle/input/training-tuned-models/Recsys_Challenge_2023/Recommenders/GraphBased/__pycache__/RP3betaRecommender.cpython-310.pyc\n",
      "/kaggle/input/training-tuned-models/Recsys_Challenge_2023/Recommenders/GraphBased/__pycache__/P3alphaRecommender.cpython-310.pyc\n",
      "/kaggle/input/training-tuned-models/Recsys_Challenge_2023/Recommenders/FactorizationMachines/LightFMRecommender.py\n",
      "/kaggle/input/training-tuned-models/Recsys_Challenge_2023/Recommenders/__pycache__/BaseRecommender.cpython-310.pyc\n",
      "/kaggle/input/training-tuned-models/Recsys_Challenge_2023/Recommenders/__pycache__/BaseSimilarityMatrixRecommender.cpython-310.pyc\n",
      "/kaggle/input/training-tuned-models/Recsys_Challenge_2023/Recommenders/__pycache__/BaseMatrixFactorizationRecommender.cpython-310.pyc\n",
      "/kaggle/input/training-tuned-models/Recsys_Challenge_2023/Recommenders/__pycache__/Incremental_Training_Early_Stopping.cpython-310.pyc\n",
      "/kaggle/input/training-tuned-models/Recsys_Challenge_2023/Recommenders/__pycache__/IR_feature_weighting.cpython-310.pyc\n",
      "/kaggle/input/training-tuned-models/Recsys_Challenge_2023/Recommenders/__pycache__/DataIO.cpython-310.pyc\n",
      "/kaggle/input/training-tuned-models/Recsys_Challenge_2023/Recommenders/__pycache__/BaseTempFolder.cpython-310.pyc\n",
      "/kaggle/input/training-tuned-models/Recsys_Challenge_2023/Recommenders/__pycache__/Recommender_utils.cpython-310.pyc\n",
      "/kaggle/input/training-tuned-models/Recsys_Challenge_2023/Recommenders/KNN/ItemKNNCustomSimilarityRecommender.py\n",
      "/kaggle/input/training-tuned-models/Recsys_Challenge_2023/Recommenders/KNN/ItemKNNCBFRecommender.py\n",
      "/kaggle/input/training-tuned-models/Recsys_Challenge_2023/Recommenders/KNN/ItemKNNSimilarityHybridRecommender.py\n",
      "/kaggle/input/training-tuned-models/Recsys_Challenge_2023/Recommenders/KNN/UserKNNCBFRecommender.py\n",
      "/kaggle/input/training-tuned-models/Recsys_Challenge_2023/Recommenders/KNN/ItemKNNCFRecommender.py\n",
      "/kaggle/input/training-tuned-models/Recsys_Challenge_2023/Recommenders/KNN/UserKNN_CFCBF_Hybrid_Recommender.py\n",
      "/kaggle/input/training-tuned-models/Recsys_Challenge_2023/Recommenders/KNN/ItemKNN_CFCBF_Hybrid_Recommender.py\n",
      "/kaggle/input/training-tuned-models/Recsys_Challenge_2023/Recommenders/KNN/UserKNNCFRecommender.py\n",
      "/kaggle/input/training-tuned-models/Recsys_Challenge_2023/Recommenders/KNN/__pycache__/UserKNNCFRecommender.cpython-310.pyc\n",
      "/kaggle/input/training-tuned-models/Recsys_Challenge_2023/Recommenders/KNN/__pycache__/ItemKNNCFRecommender.cpython-310.pyc\n",
      "/kaggle/input/training-tuned-models/Recsys_Challenge_2023/Recommenders/Neural/architecture_utils.py\n",
      "/kaggle/input/training-tuned-models/Recsys_Challenge_2023/Recommenders/Neural/MultVAERecommender.py\n",
      "/kaggle/input/training-tuned-models/Recsys_Challenge_2023/Recommenders/Neural/MultVAE_PyTorch_Recommender.py\n",
      "/kaggle/input/training-tuned-models/Recsys_Challenge_2023/Recommenders/Neural/__pycache__/MultVAERecommender.cpython-310.pyc\n",
      "/kaggle/input/training-tuned-models/Recsys_Challenge_2023/Recommenders/Neural/__pycache__/architecture_utils.cpython-310.pyc\n",
      "/kaggle/input/training-tuned-models/Recsys_Challenge_2023/Recommenders/Hybrid/LinearCombinationRecommender.py\n",
      "/kaggle/input/training-tuned-models/Recsys_Challenge_2023/Recommenders/Hybrid/RoundRobinListCombinationRecommender.py\n",
      "/kaggle/input/training-tuned-models/Recsys_Challenge_2023/Recommenders/Hybrid/PipelineRecommender.py\n",
      "/kaggle/input/training-tuned-models/Recsys_Challenge_2023/Recommenders/FeatureWeighting/CFW_D_Similarity_Linalg.py\n",
      "/kaggle/input/training-tuned-models/Recsys_Challenge_2023/Recommenders/FeatureWeighting/Cython/CFW_D_Similarity_Cython_SGD.cpython-310-x86_64-linux-gnu.so\n",
      "/kaggle/input/training-tuned-models/Recsys_Challenge_2023/Recommenders/FeatureWeighting/Cython/HP3_Similarity_Cython_SGD.c\n",
      "/kaggle/input/training-tuned-models/Recsys_Challenge_2023/Recommenders/FeatureWeighting/Cython/FBSM_Rating_Cython_SGD.c\n",
      "/kaggle/input/training-tuned-models/Recsys_Challenge_2023/Recommenders/FeatureWeighting/Cython/CFW_DVV_Similarity_Cython_SGD.pyx\n",
      "/kaggle/input/training-tuned-models/Recsys_Challenge_2023/Recommenders/FeatureWeighting/Cython/FBSM_Rating_Cython_SGD.cpython-310-x86_64-linux-gnu.so\n",
      "/kaggle/input/training-tuned-models/Recsys_Challenge_2023/Recommenders/FeatureWeighting/Cython/CFW_D_Similarity_Cython_SGD.html\n",
      "/kaggle/input/training-tuned-models/Recsys_Challenge_2023/Recommenders/FeatureWeighting/Cython/FBSM_Rating_Cython.py\n",
      "/kaggle/input/training-tuned-models/Recsys_Challenge_2023/Recommenders/FeatureWeighting/Cython/CFW_DVV_Similarity_Cython_SGD.html\n",
      "/kaggle/input/training-tuned-models/Recsys_Challenge_2023/Recommenders/FeatureWeighting/Cython/CFW_DVV_Similarity_Cython_SGD.cpython-310-x86_64-linux-gnu.so\n",
      "/kaggle/input/training-tuned-models/Recsys_Challenge_2023/Recommenders/FeatureWeighting/Cython/HP3_Similarity_Cython.py\n",
      "/kaggle/input/training-tuned-models/Recsys_Challenge_2023/Recommenders/FeatureWeighting/Cython/CFW_D_Similarity_Cython_SGD.c\n",
      "/kaggle/input/training-tuned-models/Recsys_Challenge_2023/Recommenders/FeatureWeighting/Cython/CFW_D_Similarity_Cython_SGD.pyx\n",
      "/kaggle/input/training-tuned-models/Recsys_Challenge_2023/Recommenders/FeatureWeighting/Cython/CFW_D_Similarity_Cython.py\n",
      "/kaggle/input/training-tuned-models/Recsys_Challenge_2023/Recommenders/FeatureWeighting/Cython/FBSM_Rating_Cython_SGD.pyx\n",
      "/kaggle/input/training-tuned-models/Recsys_Challenge_2023/Recommenders/FeatureWeighting/Cython/CFW_DVV_Similarity_Cython_SGD.c\n",
      "/kaggle/input/training-tuned-models/Recsys_Challenge_2023/Recommenders/FeatureWeighting/Cython/HP3_Similarity_Cython_SGD.cpython-310-x86_64-linux-gnu.so\n",
      "/kaggle/input/training-tuned-models/Recsys_Challenge_2023/Recommenders/FeatureWeighting/Cython/HP3_Similarity_Cython_SGD.pyx\n",
      "/kaggle/input/training-tuned-models/Recsys_Challenge_2023/Recommenders/FeatureWeighting/Cython/CFW_DVV_Similarity_Cython.py\n",
      "/kaggle/input/training-tuned-models/Recsys_Challenge_2023/Recommenders/FeatureWeighting/Cython/FBSM_Rating_Cython_SGD.html\n",
      "/kaggle/input/training-tuned-models/Recsys_Challenge_2023/Recommenders/FeatureWeighting/Cython/HP3_Similarity_Cython_SGD.html\n",
      "/kaggle/input/training-tuned-models/Recsys_Challenge_2023/Recommenders/MatrixFactorization/IALSRecommender.py\n",
      "/kaggle/input/training-tuned-models/Recsys_Challenge_2023/Recommenders/MatrixFactorization/NMFRecommender.py\n",
      "/kaggle/input/training-tuned-models/Recsys_Challenge_2023/Recommenders/MatrixFactorization/PureSVDRecommender.py\n",
      "/kaggle/input/training-tuned-models/Recsys_Challenge_2023/Recommenders/MatrixFactorization/SVDFeatureRecommender.py\n",
      "/kaggle/input/training-tuned-models/Recsys_Challenge_2023/Recommenders/MatrixFactorization/PyTorch/MF_MSE_PyTorch.py\n",
      "/kaggle/input/training-tuned-models/Recsys_Challenge_2023/Recommenders/MatrixFactorization/PyTorch/MF_MSE_PyTorch_model.py\n",
      "/kaggle/input/training-tuned-models/Recsys_Challenge_2023/Recommenders/MatrixFactorization/__pycache__/NMFRecommender.cpython-310.pyc\n",
      "/kaggle/input/training-tuned-models/Recsys_Challenge_2023/Recommenders/MatrixFactorization/__pycache__/PureSVDRecommender.cpython-310.pyc\n",
      "/kaggle/input/training-tuned-models/Recsys_Challenge_2023/Recommenders/MatrixFactorization/__pycache__/IALSRecommender.cpython-310.pyc\n",
      "/kaggle/input/training-tuned-models/Recsys_Challenge_2023/Recommenders/MatrixFactorization/Cython/MatrixFactorization_Cython.py\n",
      "/kaggle/input/training-tuned-models/Recsys_Challenge_2023/Recommenders/MatrixFactorization/Cython/MatrixFactorization_Cython_Epoch.cpython-310-x86_64-linux-gnu.so\n",
      "/kaggle/input/training-tuned-models/Recsys_Challenge_2023/Recommenders/MatrixFactorization/Cython/MatrixFactorizationImpressions_Cython_Epoch.cpython-310-x86_64-linux-gnu.so\n",
      "/kaggle/input/training-tuned-models/Recsys_Challenge_2023/Recommenders/MatrixFactorization/Cython/MatrixFactorizationImpressions_Cython.py\n",
      "/kaggle/input/training-tuned-models/Recsys_Challenge_2023/Recommenders/MatrixFactorization/Cython/MatrixFactorization_Cython_Epoch.c\n",
      "/kaggle/input/training-tuned-models/Recsys_Challenge_2023/Recommenders/MatrixFactorization/Cython/MatrixFactorization_Cython_Epoch.html\n",
      "/kaggle/input/training-tuned-models/Recsys_Challenge_2023/Recommenders/MatrixFactorization/Cython/MatrixFactorizationImpressions_Cython_Epoch.pyx\n",
      "/kaggle/input/training-tuned-models/Recsys_Challenge_2023/Recommenders/MatrixFactorization/Cython/MatrixFactorization_Cython_Epoch.pyx\n",
      "/kaggle/input/training-tuned-models/Recsys_Challenge_2023/Recommenders/MatrixFactorization/Cython/MatrixFactorizationImpressions_Cython_Epoch.c\n",
      "/kaggle/input/training-tuned-models/Recsys_Challenge_2023/Recommenders/MatrixFactorization/Cython/MatrixFactorizationImpressions_Cython_Epoch.html\n",
      "/kaggle/input/training-tuned-models/Recsys_Challenge_2023/tuning_results/tuning_hybrid_merging.db\n",
      "/kaggle/input/training-tuned-models/Recsys_Challenge_2023/tuning_results/tuning_hybrid.db\n",
      "/kaggle/input/training-tuned-models/Recsys_Challenge_2023/tuning_results/tuning_mf.db\n",
      "/kaggle/input/training-tuned-models/Recsys_Challenge_2023/tuning_results/tuning_hybrid_precision.db\n",
      "/kaggle/input/training-tuned-models/Recsys_Challenge_2023/tuning_results/best_params_ials_v2.json\n",
      "/kaggle/input/training-tuned-models/Recsys_Challenge_2023/tuning_results/best_params_NMF.json\n",
      "/kaggle/input/training-tuned-models/Recsys_Challenge_2023/tuning_results/best_params_allLinearHyb.json\n",
      "/kaggle/input/training-tuned-models/Recsys_Challenge_2023/tuning_results/best_params_hybrid_merging.json\n",
      "/kaggle/input/training-tuned-models/Recsys_Challenge_2023/tuning_results/best_params_knn_item.json\n",
      "/kaggle/input/training-tuned-models/Recsys_Challenge_2023/tuning_results/better_tuning_EASE_R.db\n",
      "/kaggle/input/training-tuned-models/Recsys_Challenge_2023/tuning_results/tuning_RP3+ItemKNN_Hybrid.db\n",
      "/kaggle/input/training-tuned-models/Recsys_Challenge_2023/tuning_results/tuning_MultVaer.db\n",
      "/kaggle/input/training-tuned-models/Recsys_Challenge_2023/tuning_results/best_params_hybrid_lr_comb_8models.json\n",
      "/kaggle/input/training-tuned-models/Recsys_Challenge_2023/tuning_results/best_params_hybrid_lr_comb_9models.json\n",
      "/kaggle/input/training-tuned-models/Recsys_Challenge_2023/tuning_results/best_params_light.json\n",
      "/kaggle/input/training-tuned-models/Recsys_Challenge_2023/tuning_results/tuning_BPR.db\n",
      "/kaggle/input/training-tuned-models/Recsys_Challenge_2023/tuning_results/best_params_knn_user_cv5.json\n",
      "/kaggle/input/training-tuned-models/Recsys_Challenge_2023/tuning_results/best_params_EASE_R.json\n",
      "/kaggle/input/training-tuned-models/Recsys_Challenge_2023/tuning_results/best_params_Vaer.json\n",
      "/kaggle/input/training-tuned-models/Recsys_Challenge_2023/tuning_results/best_params_alpha.json\n",
      "/kaggle/input/training-tuned-models/Recsys_Challenge_2023/tuning_results/best_params_hybrid_xgboost.json\n",
      "/kaggle/input/training-tuned-models/Recsys_Challenge_2023/tuning_results/pure_svd_params.json\n",
      "/kaggle/input/training-tuned-models/Recsys_Challenge_2023/tuning_results/pure_svd_trials.csv\n",
      "/kaggle/input/training-tuned-models/Recsys_Challenge_2023/tuning_results/tuning_puresvd.db\n",
      "/kaggle/input/training-tuned-models/Recsys_Challenge_2023/tuning_results/best_params_knn_item_cv5.json\n",
      "/kaggle/input/training-tuned-models/Recsys_Challenge_2023/tuning_results/tuning.db\n",
      "/kaggle/input/training-tuned-models/Recsys_Challenge_2023/tuning_results/best_params_slim.json\n",
      "/kaggle/input/training-tuned-models/Recsys_Challenge_2023/tuning_results/better_tuning.db\n",
      "/kaggle/input/training-tuned-models/Recsys_Challenge_2023/tuning_results/tuning_slim_elastic.db\n",
      "/kaggle/input/training-tuned-models/Recsys_Challenge_2023/tuning_results/tuning_hybrid_UserKNN_RP3Hybrid.db\n",
      "/kaggle/input/training-tuned-models/Recsys_Challenge_2023/tuning_results/matrix-factorization-item-puresvd.ipynb\n",
      "/kaggle/input/training-tuned-models/Recsys_Challenge_2023/tuning_results/better_tuning_alpha.db\n",
      "/kaggle/input/training-tuned-models/Recsys_Challenge_2023/tuning_results/best_params_hybrid_UserKNN_RP3Hybrid.json\n",
      "/kaggle/input/training-tuned-models/Recsys_Challenge_2023/tuning_results/best_params_RP3+ItemKNN_Hybrid.json\n",
      "/kaggle/input/training-tuned-models/Recsys_Challenge_2023/tuning_results/best_params_hybrid_lr_comb_10models.json\n",
      "/kaggle/input/training-tuned-models/Recsys_Challenge_2023/tuning_results/best_params_Slim_BPR.json\n",
      "/kaggle/input/training-tuned-models/Recsys_Challenge_2023/tuning_results/best_params_hybrid_lr_comb.json\n",
      "/kaggle/input/training-tuned-models/Recsys_Challenge_2023/tuning_results/light.db\n",
      "/kaggle/input/training-tuned-models/Recsys_Challenge_2023/tuning_results/best_params_hybrid.json\n",
      "/kaggle/input/training-tuned-models/Recsys_Challenge_2023/tuning_results/best_params_item_knn_precision.json\n",
      "/kaggle/input/training-tuned-models/Recsys_Challenge_2023/tuning_results/tuning_rp3.db\n",
      "/kaggle/input/training-tuned-models/Recsys_Challenge_2023/tuning_results/tuning_hybrid_xgboost.db\n",
      "/kaggle/input/training-tuned-models/Recsys_Challenge_2023/tuning_results/best_params_ials.json\n",
      "/kaggle/input/training-tuned-models/Recsys_Challenge_2023/tuning_results/tuning_mf_funk.db\n",
      "/kaggle/input/training-tuned-models/Recsys_Challenge_2023/tuning_results/best_params_knn_user.json\n",
      "/kaggle/input/training-tuned-models/Recsys_Challenge_2023/tuning_results/best_params_funk_svd.json\n",
      "/kaggle/input/training-tuned-models/Recsys_Challenge_2023/tuning_results/best_params_puresvd_item.json\n",
      "/kaggle/input/training-tuned-models/Recsys_Challenge_2023/tuning_results/best_params_hybrid_lr_comb_rp3_p3a_item.json\n",
      "/kaggle/input/training-tuned-models/Recsys_Challenge_2023/tuning_results/best_params_RP3.json\n",
      "/kaggle/input/training-tuned-models/Recsys_Challenge_2023/tuning_results/parameters_NMF.db\n",
      "/kaggle/input/training-tuned-models/Recsys_Challenge_2023/tuning_results/better_tuning_knn.db\n",
      "/kaggle/input/training-tuned-models/Recsys_Challenge_2023/tuning_results/best_params_3stage_pipeline.json\n",
      "/kaggle/input/training-tuned-models/Recsys_Challenge_2023/tuning_results/tuning_best_params_allLinearHyb.db\n",
      "/kaggle/input/training-tuned-models/Recsys_Challenge_2023/models/slim_bpr_xgboost_train_validation.zip\n",
      "/kaggle/input/training-tuned-models/Recsys_Challenge_2023/models/ease_r_all.zip\n",
      "/kaggle/input/training-tuned-models/Recsys_Challenge_2023/models/slim_bpr_all.zip\n",
      "/kaggle/input/training-tuned-models/Recsys_Challenge_2023/models/slim_elastic_train_validation.zip\n",
      "/kaggle/input/training-tuned-models/Recsys_Challenge_2023/models/nmf_all.zip\n",
      "/kaggle/input/training-tuned-models/Recsys_Challenge_2023/models/ease_r_train_validation.zip\n",
      "/kaggle/input/training-tuned-models/Recsys_Challenge_2023/models/nmf_train_validation.zip\n",
      "/kaggle/input/training-tuned-models/Recsys_Challenge_2023/models/nmf_xgboost_train_validation.zip\n",
      "/kaggle/input/training-tuned-models/Recsys_Challenge_2023/models/slim_elastic_xgboost_train_validation.zip\n",
      "/kaggle/input/training-tuned-models/Recsys_Challenge_2023/models/ease_r_xgboost_train_validation.zip\n",
      "/kaggle/input/training-tuned-models/Recsys_Challenge_2023/models/slim_bpr_train_validation.zip\n",
      "/kaggle/input/training-tuned-models/Recsys_Challenge_2023/models/slim_elastic_all.zip\n",
      "/kaggle/input/training-tuned-models/Recsys_Challenge_2023/images/random_random_everywhere_meme.jpg\n",
      "/kaggle/input/training-tuned-models/Recsys_Challenge_2023/images/ive_already_seen_it_meme.png\n",
      "/kaggle/input/training-tuned-models/Recsys_Challenge_2023/images/bob_example.jpeg\n",
      "/kaggle/input/training-tuned-models/Recsys_Challenge_2023/images/hstack_example.png\n",
      "/kaggle/input/training-tuned-models/Recsys_Challenge_2023/images/FactorizationMachine.png\n",
      "/kaggle/input/training-tuned-models/Recsys_Challenge_2023/images/ive_evaluated_your_performance_meme.jpg\n",
      "/kaggle/input/training-tuned-models/Recsys_Challenge_2023/images/amongus_meme.png\n",
      "/kaggle/input/training-tuned-models/Recsys_Challenge_2023/images/toy_story_poster.png\n",
      "/kaggle/input/training-tuned-models/Recsys_Challenge_2023/images/better_than_average_on_the_first_try_meme.jpg\n",
      "/kaggle/input/training-tuned-models/Recsys_Challenge_2023/HyperparameterTuning/SearchSingleCase.py\n",
      "/kaggle/input/training-tuned-models/Recsys_Challenge_2023/HyperparameterTuning/SearchAbstractClass.py\n",
      "/kaggle/input/training-tuned-models/Recsys_Challenge_2023/HyperparameterTuning/run_hyperparameter_search.py\n",
      "/kaggle/input/training-tuned-models/Recsys_Challenge_2023/HyperparameterTuning/SearchBayesianSkopt.py\n",
      "/kaggle/input/training-tuned-models/Recsys_Challenge_2023/Cython_examples/isPrime_slow.pyx\n",
      "/kaggle/input/training-tuned-models/Recsys_Challenge_2023/Cython_examples/SLIM_MSE_fastest.pyx\n",
      "/kaggle/input/training-tuned-models/Recsys_Challenge_2023/Cython_examples/isPrime_nochecks.pyx\n",
      "/kaggle/input/training-tuned-models/Recsys_Challenge_2023/Cython_examples/isPrime.pyx\n",
      "/kaggle/input/training-tuned-models/Recsys_Challenge_2023/Cython_examples/FunkSVD_fastest.pyx\n",
      "/kaggle/input/training-tuned-models/Recsys_Challenge_2023/Cython_examples/FunkSVD_slow.pyx\n",
      "/kaggle/input/training-tuned-models/Recsys_Challenge_2023/Cython_examples/SLIM_MSE_slow.pyx\n",
      "/kaggle/input/training-tuned-models/Recsys_Challenge_2023/result_experiments/run_compile_all_cython.txt\n",
      "/kaggle/input/training-tuned-models/Recsys_Challenge_2023/.git/config\n",
      "/kaggle/input/training-tuned-models/Recsys_Challenge_2023/.git/packed-refs\n",
      "/kaggle/input/training-tuned-models/Recsys_Challenge_2023/.git/HEAD\n",
      "/kaggle/input/training-tuned-models/Recsys_Challenge_2023/.git/index\n",
      "/kaggle/input/training-tuned-models/Recsys_Challenge_2023/.git/description\n",
      "/kaggle/input/training-tuned-models/Recsys_Challenge_2023/.git/info/exclude\n",
      "/kaggle/input/training-tuned-models/Recsys_Challenge_2023/.git/refs/heads/master\n",
      "/kaggle/input/training-tuned-models/Recsys_Challenge_2023/.git/refs/remotes/origin/HEAD\n",
      "/kaggle/input/training-tuned-models/Recsys_Challenge_2023/.git/hooks/pre-merge-commit.sample\n",
      "/kaggle/input/training-tuned-models/Recsys_Challenge_2023/.git/hooks/prepare-commit-msg.sample\n",
      "/kaggle/input/training-tuned-models/Recsys_Challenge_2023/.git/hooks/update.sample\n",
      "/kaggle/input/training-tuned-models/Recsys_Challenge_2023/.git/hooks/pre-push.sample\n",
      "/kaggle/input/training-tuned-models/Recsys_Challenge_2023/.git/hooks/pre-rebase.sample\n",
      "/kaggle/input/training-tuned-models/Recsys_Challenge_2023/.git/hooks/pre-applypatch.sample\n",
      "/kaggle/input/training-tuned-models/Recsys_Challenge_2023/.git/hooks/pre-commit.sample\n",
      "/kaggle/input/training-tuned-models/Recsys_Challenge_2023/.git/hooks/commit-msg.sample\n",
      "/kaggle/input/training-tuned-models/Recsys_Challenge_2023/.git/hooks/post-update.sample\n",
      "/kaggle/input/training-tuned-models/Recsys_Challenge_2023/.git/hooks/pre-receive.sample\n",
      "/kaggle/input/training-tuned-models/Recsys_Challenge_2023/.git/hooks/fsmonitor-watchman.sample\n",
      "/kaggle/input/training-tuned-models/Recsys_Challenge_2023/.git/hooks/applypatch-msg.sample\n",
      "/kaggle/input/training-tuned-models/Recsys_Challenge_2023/.git/logs/HEAD\n",
      "/kaggle/input/training-tuned-models/Recsys_Challenge_2023/.git/logs/refs/heads/master\n",
      "/kaggle/input/training-tuned-models/Recsys_Challenge_2023/.git/logs/refs/remotes/origin/HEAD\n",
      "/kaggle/input/training-tuned-models/Recsys_Challenge_2023/.git/objects/pack/pack-4ba9ed8c6e49b053e1480b28a320d412066cb6e7.pack\n",
      "/kaggle/input/training-tuned-models/Recsys_Challenge_2023/.git/objects/pack/pack-4ba9ed8c6e49b053e1480b28a320d412066cb6e7.idx\n",
      "/kaggle/input/training-tuned-models/Recsys_Challenge_2023/challenge_notebooks/training-tuned-models.ipynb\n",
      "/kaggle/input/training-tuned-models/Recsys_Challenge_2023/challenge_notebooks/list-combination.ipynb\n",
      "/kaggle/input/training-tuned-models/Recsys_Challenge_2023/challenge_notebooks/hyperparameters-tuning.ipynb\n",
      "/kaggle/input/training-tuned-models/Recsys_Challenge_2023/challenge_notebooks/rp3-tuning.ipynb\n",
      "/kaggle/input/training-tuned-models/Recsys_Challenge_2023/challenge_notebooks/hybrid-precision.ipynb\n",
      "/kaggle/input/training-tuned-models/Recsys_Challenge_2023/challenge_notebooks/linear-combination.ipynb\n",
      "/kaggle/input/training-tuned-models/Recsys_Challenge_2023/challenge_notebooks/rp3-itemknn-hybrid.ipynb\n",
      "/kaggle/input/training-tuned-models/Recsys_Challenge_2023/challenge_notebooks/merging-models.ipynb\n",
      "/kaggle/input/training-tuned-models/Recsys_Challenge_2023/challenge_notebooks/matrix-factorization-item-puresvd.ipynb\n",
      "/kaggle/input/training-tuned-models/Recsys_Challenge_2023/challenge_notebooks/hyperparameters-tuning-better.ipynb\n",
      "/kaggle/input/training-tuned-models/Recsys_Challenge_2023/challenge_notebooks/xgboost.ipynb\n",
      "/kaggle/input/training-tuned-models/Recsys_Challenge_2023/challenge_notebooks/srecsys-challenge.ipynb\n",
      "/kaggle/input/training-tuned-models/Recsys_Challenge_2023/challenge_notebooks/hybrid.ipynb\n",
      "/kaggle/input/training-tuned-models/Recsys_Challenge_2023/Evaluation/metrics.py\n",
      "/kaggle/input/training-tuned-models/Recsys_Challenge_2023/Evaluation/Evaluator.py\n",
      "/kaggle/input/training-tuned-models/Recsys_Challenge_2023/Evaluation/__pycache__/metrics.cpython-310.pyc\n",
      "/kaggle/input/training-tuned-models/Recsys_Challenge_2023/Evaluation/__pycache__/Evaluator.cpython-310.pyc\n"
     ]
    }
   ],
   "source": [
    "import numpy as np\n",
    "import pandas as pd\n",
    "import matplotlib.pyplot as plt\n",
    "import seaborn as sns\n",
    "import joblib\n",
    "import json\n",
    "import random\n",
    "import tqdm\n",
    "import gc\n",
    "import time\n",
    "import os\n",
    "import shutil\n",
    "import optuna\n",
    "import scipy.sparse as sps\n",
    "\n",
    "for dirname, _, filenames in os.walk('/kaggle/input'):\n",
    "    for filename in filenames:\n",
    "        print(os.path.join(dirname, filename))"
   ]
  },
  {
   "cell_type": "code",
   "execution_count": 5,
   "id": "9be6bc87",
   "metadata": {
    "execution": {
     "iopub.execute_input": "2023-12-04T16:20:16.462748Z",
     "iopub.status.busy": "2023-12-04T16:20:16.461789Z",
     "iopub.status.idle": "2023-12-04T16:20:16.473906Z",
     "shell.execute_reply": "2023-12-04T16:20:16.472495Z"
    },
    "papermill": {
     "duration": 0.046301,
     "end_time": "2023-12-04T16:20:16.477075",
     "exception": false,
     "start_time": "2023-12-04T16:20:16.430774",
     "status": "completed"
    },
    "tags": []
   },
   "outputs": [
    {
     "name": "stdout",
     "output_type": "stream",
     "text": [
      "/kaggle/working/Recsys_Challenge_2023\n"
     ]
    }
   ],
   "source": [
    "%cd /kaggle/working/Recsys_Challenge_2023"
   ]
  },
  {
   "cell_type": "code",
   "execution_count": 6,
   "id": "03a166f6",
   "metadata": {
    "execution": {
     "iopub.execute_input": "2023-12-04T16:20:16.538030Z",
     "iopub.status.busy": "2023-12-04T16:20:16.537017Z",
     "iopub.status.idle": "2023-12-04T16:20:34.615303Z",
     "shell.execute_reply": "2023-12-04T16:20:34.613636Z"
    },
    "papermill": {
     "duration": 18.112883,
     "end_time": "2023-12-04T16:20:34.618994",
     "exception": false,
     "start_time": "2023-12-04T16:20:16.506111",
     "status": "completed"
    },
    "tags": []
   },
   "outputs": [],
   "source": [
    "from Recommenders.KNN.UserKNNCFRecommender import UserKNNCFRecommender\n",
    "from Data_manager.split_functions.split_train_validation_random_holdout import split_train_in_two_percentage_global_sample\n",
    "from Recommenders.SLIM.SLIMElasticNetRecommender import MultiThreadSLIM_SLIMElasticNetRecommender, SLIMElasticNetRecommender\n",
    "from Evaluation.Evaluator import EvaluatorHoldout\n",
    "from Recommenders.MatrixFactorization.IALSRecommender import IALSRecommender\n",
    "from Recommenders.MatrixFactorization.PureSVDRecommender import PureSVDRecommender, PureSVDItemRecommender\n",
    "from Recommenders.KNN.ItemKNNCFRecommender import ItemKNNCFRecommender\n",
    "from Recommenders.KNN.UserKNNCFRecommender import UserKNNCFRecommender\n",
    "from Recommenders.KNN.ItemKNNSimilarityHybridRecommender import ItemKNNSimilarityHybridRecommender\n",
    "from Recommenders.KNN.ItemKNNCustomSimilarityRecommender import ItemKNNCustomSimilarityRecommender\n",
    "from Recommenders.EASE_R.EASE_R_Recommender import EASE_R_Recommender\n",
    "from Recommenders.Neural.MultVAERecommender import MultVAERecommender\n",
    "from Recommenders.GraphBased.RP3betaRecommender import RP3betaRecommender\n",
    "from Recommenders.GraphBased.P3alphaRecommender import P3alphaRecommender\n",
    "from Recommenders.SLIM.SLIM_BPR_Python import SLIM_BPR_Python\n",
    "from Recommenders.MatrixFactorization.NMFRecommender import NMFRecommender\n",
    "from Recommenders.BaseRecommender import BaseRecommender\n",
    "\n",
    "from Recommenders.Hybrid.LinearCombinationRecommender import LinearCombinationRecommender\n",
    "from Data_manager.CrossValidationSplitter import CrossValidationSplitter\n",
    "\n",
    "np.int = int\n",
    "np.random.seed(42)\n",
    "np.bool = bool\n",
    "np.float = float"
   ]
  },
  {
   "cell_type": "markdown",
   "id": "1564b8e0",
   "metadata": {
    "papermill": {
     "duration": 0.030207,
     "end_time": "2023-12-04T16:20:34.679521",
     "exception": false,
     "start_time": "2023-12-04T16:20:34.649314",
     "status": "completed"
    },
    "tags": []
   },
   "source": [
    "# Configurations"
   ]
  },
  {
   "cell_type": "code",
   "execution_count": 7,
   "id": "43a51365",
   "metadata": {
    "execution": {
     "iopub.execute_input": "2023-12-04T16:20:34.746166Z",
     "iopub.status.busy": "2023-12-04T16:20:34.744428Z",
     "iopub.status.idle": "2023-12-04T16:20:35.964246Z",
     "shell.execute_reply": "2023-12-04T16:20:35.962161Z"
    },
    "papermill": {
     "duration": 1.25623,
     "end_time": "2023-12-04T16:20:35.967691",
     "exception": false,
     "start_time": "2023-12-04T16:20:34.711461",
     "status": "completed"
    },
    "tags": []
   },
   "outputs": [
    {
     "name": "stdout",
     "output_type": "stream",
     "text": [
      "Repository found\n"
     ]
    }
   ],
   "source": [
    "from github import Github\n",
    "from github import Auth\n",
    "\n",
    "auth = Auth.Token(token)\n",
    "g = Github(auth=auth)\n",
    "\n",
    "repo = None\n",
    "for r in g.get_user().get_repos():\n",
    "    if r.name == 'Recsys_Challenge_2023':\n",
    "        repo = r\n",
    "        print('Repository found')"
   ]
  },
  {
   "cell_type": "code",
   "execution_count": 8,
   "id": "b5697a55",
   "metadata": {
    "execution": {
     "iopub.execute_input": "2023-12-04T16:20:36.032814Z",
     "iopub.status.busy": "2023-12-04T16:20:36.032306Z",
     "iopub.status.idle": "2023-12-04T16:20:36.041217Z",
     "shell.execute_reply": "2023-12-04T16:20:36.039674Z"
    },
    "papermill": {
     "duration": 0.04468,
     "end_time": "2023-12-04T16:20:36.044485",
     "exception": false,
     "start_time": "2023-12-04T16:20:35.999805",
     "status": "completed"
    },
    "tags": []
   },
   "outputs": [],
   "source": [
    "def upload_file(filepath_kaggle, filepath_github, commit_message):\n",
    "    try:\n",
    "        contents = repo.get_contents(filepath_github)\n",
    "        with open(filepath_kaggle, \"rb\") as file:\n",
    "            repo.update_file(contents.path, commit_message, file.read(), contents.sha)\n",
    "    except Exception:\n",
    "        with open(filepath_kaggle, \"rb\") as file:\n",
    "            repo.create_file(filepath_github, commit_message, file.read())"
   ]
  },
  {
   "cell_type": "code",
   "execution_count": 9,
   "id": "e74df282",
   "metadata": {
    "execution": {
     "iopub.execute_input": "2023-12-04T16:20:36.216544Z",
     "iopub.status.busy": "2023-12-04T16:20:36.215414Z",
     "iopub.status.idle": "2023-12-04T16:20:36.223138Z",
     "shell.execute_reply": "2023-12-04T16:20:36.221997Z"
    },
    "papermill": {
     "duration": 0.152293,
     "end_time": "2023-12-04T16:20:36.226539",
     "exception": false,
     "start_time": "2023-12-04T16:20:36.074246",
     "status": "completed"
    },
    "tags": []
   },
   "outputs": [],
   "source": [
    "config = {\n",
    "    'tune_parameters': True,\n",
    "    'database_path': '/kaggle/working/tuning_hybrid.db',\n",
    "    'copy_prev_tuning_db': True,\n",
    "    'copy_prev_best_params': True,\n",
    "    'save_github': True\n",
    "}"
   ]
  },
  {
   "cell_type": "markdown",
   "id": "38e14b80",
   "metadata": {
    "papermill": {
     "duration": 0.028897,
     "end_time": "2023-12-04T16:20:36.284367",
     "exception": false,
     "start_time": "2023-12-04T16:20:36.255470",
     "status": "completed"
    },
    "tags": []
   },
   "source": [
    "# Tuning"
   ]
  },
  {
   "cell_type": "code",
   "execution_count": 10,
   "id": "01dbcea9",
   "metadata": {
    "execution": {
     "iopub.execute_input": "2023-12-04T16:20:36.346194Z",
     "iopub.status.busy": "2023-12-04T16:20:36.345646Z",
     "iopub.status.idle": "2023-12-04T16:20:36.668717Z",
     "shell.execute_reply": "2023-12-04T16:20:36.666670Z"
    },
    "papermill": {
     "duration": 0.360554,
     "end_time": "2023-12-04T16:20:36.673696",
     "exception": false,
     "start_time": "2023-12-04T16:20:36.313142",
     "status": "completed"
    },
    "tags": []
   },
   "outputs": [],
   "source": [
    "train_data = pd.read_csv('/kaggle/input/recommender-system-2023-challenge-polimi/data_train.csv')\n",
    "user_ids_test = pd.read_csv('/kaggle/input/recommender-system-2023-challenge-polimi/data_target_users_test.csv')"
   ]
  },
  {
   "cell_type": "code",
   "execution_count": 11,
   "id": "c8a3a6c0",
   "metadata": {
    "execution": {
     "iopub.execute_input": "2023-12-04T16:20:36.750266Z",
     "iopub.status.busy": "2023-12-04T16:20:36.749693Z",
     "iopub.status.idle": "2023-12-04T16:20:36.802194Z",
     "shell.execute_reply": "2023-12-04T16:20:36.800509Z"
    },
    "papermill": {
     "duration": 0.088808,
     "end_time": "2023-12-04T16:20:36.805393",
     "exception": false,
     "start_time": "2023-12-04T16:20:36.716585",
     "status": "completed"
    },
    "tags": []
   },
   "outputs": [
    {
     "data": {
      "text/plain": [
       "<13024x22347 sparse matrix of type '<class 'numpy.float64'>'\n",
       "\twith 478730 stored elements in Compressed Sparse Row format>"
      ]
     },
     "execution_count": 11,
     "metadata": {},
     "output_type": "execute_result"
    }
   ],
   "source": [
    "URM_all = sps.csr_matrix((train_data.data.values,\n",
    "                          ((train_data.row - 1).values, (train_data.col - 1).values)),\n",
    "                        shape=(train_data.row.max(), train_data.col.max()))\n",
    "URM_all"
   ]
  },
  {
   "cell_type": "code",
   "execution_count": 12,
   "id": "dbc09440",
   "metadata": {
    "execution": {
     "iopub.execute_input": "2023-12-04T16:20:36.867714Z",
     "iopub.status.busy": "2023-12-04T16:20:36.866167Z",
     "iopub.status.idle": "2023-12-04T16:20:38.367696Z",
     "shell.execute_reply": "2023-12-04T16:20:38.366336Z"
    },
    "papermill": {
     "duration": 1.53645,
     "end_time": "2023-12-04T16:20:38.371459",
     "exception": false,
     "start_time": "2023-12-04T16:20:36.835009",
     "status": "completed"
    },
    "tags": []
   },
   "outputs": [
    {
     "name": "stdout",
     "output_type": "stream",
     "text": [
      "Warning: 627 (4.81 %) of 13024 users have no train items\n",
      "Warning: 2568 (19.72 %) of 13024 users have no sampled items\n"
     ]
    }
   ],
   "source": [
    "URM_train, URM_test_complete = split_train_in_two_percentage_global_sample(URM_all, train_percentage = 0.8)"
   ]
  },
  {
   "cell_type": "code",
   "execution_count": 13,
   "id": "2b11fdc7",
   "metadata": {
    "execution": {
     "iopub.execute_input": "2023-12-04T16:20:38.445220Z",
     "iopub.status.busy": "2023-12-04T16:20:38.443758Z",
     "iopub.status.idle": "2023-12-04T16:20:38.455967Z",
     "shell.execute_reply": "2023-12-04T16:20:38.454670Z"
    },
    "papermill": {
     "duration": 0.046464,
     "end_time": "2023-12-04T16:20:38.459344",
     "exception": false,
     "start_time": "2023-12-04T16:20:38.412880",
     "status": "completed"
    },
    "tags": []
   },
   "outputs": [
    {
     "data": {
      "text/plain": [
       "{'topK': 14,\n",
       " 'shrink': 25,\n",
       " 'similarity': 'tversky',\n",
       " 'tversky_alpha': 0.18163095712123836,\n",
       " 'tversky_beta': 1.8529812241698465}"
      ]
     },
     "execution_count": 13,
     "metadata": {},
     "output_type": "execute_result"
    }
   ],
   "source": [
    "with open('/kaggle/working/Recsys_Challenge_2023/tuning_results/best_params_knn_item.json', 'r') as params_file:\n",
    "    params_item_knn = json.load(params_file)\n",
    "params_item_knn"
   ]
  },
  {
   "cell_type": "code",
   "execution_count": 14,
   "id": "76c8a423",
   "metadata": {
    "execution": {
     "iopub.execute_input": "2023-12-04T16:20:38.523573Z",
     "iopub.status.busy": "2023-12-04T16:20:38.521773Z",
     "iopub.status.idle": "2023-12-04T16:20:38.533817Z",
     "shell.execute_reply": "2023-12-04T16:20:38.532432Z"
    },
    "papermill": {
     "duration": 0.049019,
     "end_time": "2023-12-04T16:20:38.537198",
     "exception": false,
     "start_time": "2023-12-04T16:20:38.488179",
     "status": "completed"
    },
    "tags": []
   },
   "outputs": [
    {
     "data": {
      "text/plain": [
       "{'alpha': 0.3408516511081212, 'beta': 0.1447198697205665, 'topK': 32}"
      ]
     },
     "execution_count": 14,
     "metadata": {},
     "output_type": "execute_result"
    }
   ],
   "source": [
    "with open('/kaggle/working/Recsys_Challenge_2023/tuning_results/best_params_RP3.json', 'r') as params_file:\n",
    "    params_rp3 = json.load(params_file)\n",
    "params_rp3"
   ]
  },
  {
   "cell_type": "code",
   "execution_count": 15,
   "id": "1c8836ae",
   "metadata": {
    "execution": {
     "iopub.execute_input": "2023-12-04T16:20:38.599360Z",
     "iopub.status.busy": "2023-12-04T16:20:38.598861Z",
     "iopub.status.idle": "2023-12-04T16:20:38.608820Z",
     "shell.execute_reply": "2023-12-04T16:20:38.607439Z"
    },
    "papermill": {
     "duration": 0.04589,
     "end_time": "2023-12-04T16:20:38.612093",
     "exception": false,
     "start_time": "2023-12-04T16:20:38.566203",
     "status": "completed"
    },
    "tags": []
   },
   "outputs": [
    {
     "data": {
      "text/plain": [
       "{'normalize_similarity': 'True',\n",
       " 'implicit': 'True',\n",
       " 'alpha': 0.29354071531607107,\n",
       " 'topK': 49}"
      ]
     },
     "execution_count": 15,
     "metadata": {},
     "output_type": "execute_result"
    }
   ],
   "source": [
    "with open('/kaggle/working/Recsys_Challenge_2023/tuning_results/best_params_alpha.json', 'r') as params_file:\n",
    "    params_p3alpha = json.load(params_file)\n",
    "params_p3alpha"
   ]
  },
  {
   "cell_type": "code",
   "execution_count": 16,
   "id": "03e25c56",
   "metadata": {
    "execution": {
     "iopub.execute_input": "2023-12-04T16:20:38.673088Z",
     "iopub.status.busy": "2023-12-04T16:20:38.671103Z",
     "iopub.status.idle": "2023-12-04T16:20:38.683221Z",
     "shell.execute_reply": "2023-12-04T16:20:38.681967Z"
    },
    "papermill": {
     "duration": 0.045845,
     "end_time": "2023-12-04T16:20:38.686541",
     "exception": false,
     "start_time": "2023-12-04T16:20:38.640696",
     "status": "completed"
    },
    "tags": []
   },
   "outputs": [
    {
     "data": {
      "text/plain": [
       "{'alpha': 0.3375591188839621, 'topK': 86}"
      ]
     },
     "execution_count": 16,
     "metadata": {},
     "output_type": "execute_result"
    }
   ],
   "source": [
    "with open('/kaggle/working/Recsys_Challenge_2023/tuning_results/best_params_hybrid_merging.json', 'r') as params_file:\n",
    "    params_merging = json.load(params_file)\n",
    "params_merging"
   ]
  },
  {
   "cell_type": "code",
   "execution_count": 17,
   "id": "7bd786e9",
   "metadata": {
    "execution": {
     "iopub.execute_input": "2023-12-04T16:20:38.756708Z",
     "iopub.status.busy": "2023-12-04T16:20:38.755561Z",
     "iopub.status.idle": "2023-12-04T16:20:40.544737Z",
     "shell.execute_reply": "2023-12-04T16:20:40.543095Z"
    },
    "papermill": {
     "duration": 1.829711,
     "end_time": "2023-12-04T16:20:40.547936",
     "exception": false,
     "start_time": "2023-12-04T16:20:38.718225",
     "status": "completed"
    },
    "tags": []
   },
   "outputs": [
    {
     "data": {
      "text/plain": [
       "'/kaggle/working/ials_all.zip'"
      ]
     },
     "execution_count": 17,
     "metadata": {},
     "output_type": "execute_result"
    }
   ],
   "source": [
    "shutil.copyfile(\n",
    "    '/kaggle/input/training-tuned-models/ials_train_validation.zip', \n",
    "    '/kaggle/working/ials_train_validation.zip', \n",
    ")\n",
    "shutil.copyfile(\n",
    "    '/kaggle/input/training-tuned-models/ials_train_validation.zip', \n",
    "    '/kaggle/working/ials_all.zip', \n",
    ")"
   ]
  },
  {
   "cell_type": "code",
   "execution_count": 18,
   "id": "6895af54",
   "metadata": {
    "execution": {
     "iopub.execute_input": "2023-12-04T16:20:40.611929Z",
     "iopub.status.busy": "2023-12-04T16:20:40.611422Z",
     "iopub.status.idle": "2023-12-04T16:21:11.946359Z",
     "shell.execute_reply": "2023-12-04T16:21:11.945282Z"
    },
    "papermill": {
     "duration": 31.36849,
     "end_time": "2023-12-04T16:21:11.949320",
     "exception": false,
     "start_time": "2023-12-04T16:20:40.580830",
     "status": "completed"
    },
    "tags": []
   },
   "outputs": [
    {
     "name": "stdout",
     "output_type": "stream",
     "text": [
      "ItemKNNCFRecommender: URM Detected 627 ( 4.8%) users with no interactions.\n",
      "ItemKNNCFRecommender: URM Detected 247 ( 1.1%) items with no interactions.\n",
      "Similarity column 22347 (100.0%), 4317.79 column/sec. Elapsed time 5.18 sec\n",
      "RP3betaRecommender: URM Detected 627 ( 4.8%) users with no interactions.\n",
      "RP3betaRecommender: URM Detected 247 ( 1.1%) items with no interactions.\n",
      "RP3betaRecommender: Similarity column 22347 (100.0%), 2290.72 column/sec. Elapsed time 9.76 sec\n",
      "P3alphaRecommender: URM Detected 627 ( 4.8%) users with no interactions.\n",
      "P3alphaRecommender: URM Detected 247 ( 1.1%) items with no interactions.\n",
      "P3alphaRecommender: Similarity column 22347 (100.0%), 2742.32 column/sec. Elapsed time 8.15 sec\n",
      "SLIMElasticNetRecommender: URM Detected 627 ( 4.8%) users with no interactions.\n",
      "SLIMElasticNetRecommender: URM Detected 247 ( 1.1%) items with no interactions.\n",
      "SLIMElasticNetRecommender: Loading model from file '/kaggle/working/Recsys_Challenge_2023/models/slim_elastic_train_validation.zip'\n",
      "SLIMElasticNetRecommender: Loading complete\n",
      "IALSRecommender: URM Detected 627 ( 4.8%) users with no interactions.\n",
      "IALSRecommender: URM Detected 247 ( 1.1%) items with no interactions.\n",
      "IALSRecommender: Loading model from file '/kaggle/working/ials_train_validation.zip'\n",
      "IALSRecommender: Loading complete\n",
      "ItemKNNSimilarityHybridRecommender: URM Detected 627 ( 4.8%) users with no interactions.\n",
      "ItemKNNSimilarityHybridRecommender: URM Detected 247 ( 1.1%) items with no interactions.\n"
     ]
    }
   ],
   "source": [
    "recommender_item = ItemKNNCFRecommender(URM_train)\n",
    "recommender_item.fit(**params_item_knn)\n",
    "\n",
    "recommender_rp3 = RP3betaRecommender(URM_train)\n",
    "recommender_rp3.fit(**params_rp3)\n",
    "\n",
    "recommender_p3a = P3alphaRecommender(URM_train)\n",
    "recommender_p3a.fit(**params_p3alpha)\n",
    "\n",
    "recommender_slim = SLIMElasticNetRecommender(URM_train)\n",
    "recommender_slim.load_model('/kaggle/working/Recsys_Challenge_2023/models/', 'slim_elastic_train_validation.zip')\n",
    "\n",
    "recommender_ials = IALSRecommender(URM_train)\n",
    "recommender_ials.load_model('/kaggle/working/', 'ials_train_validation.zip')\n",
    "\n",
    "hybrid_similarity = ItemKNNSimilarityHybridRecommender(URM_train, recommender_item.W_sparse, recommender_rp3.W_sparse)\n",
    "hybrid_similarity.fit(**params_merging)"
   ]
  },
  {
   "cell_type": "code",
   "execution_count": 19,
   "id": "1df80ad5",
   "metadata": {
    "execution": {
     "iopub.execute_input": "2023-12-04T16:21:12.013423Z",
     "iopub.status.busy": "2023-12-04T16:21:12.011805Z",
     "iopub.status.idle": "2023-12-04T16:21:12.025031Z",
     "shell.execute_reply": "2023-12-04T16:21:12.023638Z"
    },
    "papermill": {
     "duration": 0.04904,
     "end_time": "2023-12-04T16:21:12.028467",
     "exception": false,
     "start_time": "2023-12-04T16:21:11.979427",
     "status": "completed"
    },
    "tags": []
   },
   "outputs": [],
   "source": [
    "class PipelineRecommender(BaseRecommender):\n",
    "    def __init__(self, URM_train, recommenders, cutoffs):\n",
    "        super(PipelineRecommender, self).__init__(URM_train)\n",
    "        self.recommenders = recommenders\n",
    "        self.cutoffs = cutoffs\n",
    "        \n",
    "    def recommend(self, user_ids, cutoff=10, remove_seen_flag=True, remove_top_pop_flag=False, return_scores=True, remove_custom_items_flag=True):\n",
    "        \n",
    "        recommendations = []\n",
    "        scores = np.empty(shape=(0, self.URM_train.shape[1]))\n",
    "        item_ids = np.arange(self.URM_train.shape[1])\n",
    "        \n",
    "        for user_id in user_ids:\n",
    "            current_recommendations = item_ids.copy()\n",
    "            for recommender, cut in zip(self.recommenders, self.cutoffs):\n",
    "                current_recommendations = recommender.recommend(\n",
    "                    user_id,\n",
    "                    cutoff=cut,\n",
    "                    items_to_compute=current_recommendations,\n",
    "                    remove_seen_flag=remove_seen_flag, \n",
    "                    remove_top_pop_flag=remove_top_pop_flag, \n",
    "                    return_scores=False, \n",
    "                    remove_custom_items_flag=remove_custom_items_flag\n",
    "                )\n",
    "                \n",
    "            recommendations.append(current_recommendations[:cutoff])\n",
    "            items_score = self.recommenders[-1]._compute_item_score([user_id], current_recommendations[:cutoff])\n",
    "            scores = np.concatenate([scores, items_score])\n",
    "            \n",
    "        if return_scores:\n",
    "            return np.array(recommendations), scores\n",
    "        return np.array(recommendations)"
   ]
  },
  {
   "cell_type": "code",
   "execution_count": 20,
   "id": "02e250ed",
   "metadata": {
    "execution": {
     "iopub.execute_input": "2023-12-04T16:21:12.089748Z",
     "iopub.status.busy": "2023-12-04T16:21:12.088961Z",
     "iopub.status.idle": "2023-12-04T16:22:24.792502Z",
     "shell.execute_reply": "2023-12-04T16:22:24.790245Z"
    },
    "papermill": {
     "duration": 72.73786,
     "end_time": "2023-12-04T16:22:24.795954",
     "exception": false,
     "start_time": "2023-12-04T16:21:12.058094",
     "status": "completed"
    },
    "tags": []
   },
   "outputs": [
    {
     "name": "stdout",
     "output_type": "stream",
     "text": [
      "EvaluatorHoldout: Ignoring 2568 (19.7%) Users that have less than 1 test interactions\n",
      "Merging Models\n",
      "EvaluatorHoldout: Processed 10456 (100.0%) in 10.18 sec. Users per second: 1027\n"
     ]
    },
    {
     "data": {
      "text/html": [
       "<div>\n",
       "<style scoped>\n",
       "    .dataframe tbody tr th:only-of-type {\n",
       "        vertical-align: middle;\n",
       "    }\n",
       "\n",
       "    .dataframe tbody tr th {\n",
       "        vertical-align: top;\n",
       "    }\n",
       "\n",
       "    .dataframe thead th {\n",
       "        text-align: right;\n",
       "    }\n",
       "</style>\n",
       "<table border=\"1\" class=\"dataframe\">\n",
       "  <thead>\n",
       "    <tr style=\"text-align: right;\">\n",
       "      <th></th>\n",
       "      <th>PRECISION</th>\n",
       "      <th>PRECISION_RECALL_MIN_DEN</th>\n",
       "      <th>RECALL</th>\n",
       "      <th>MAP</th>\n",
       "      <th>MAP_MIN_DEN</th>\n",
       "      <th>MRR</th>\n",
       "      <th>NDCG</th>\n",
       "      <th>F1</th>\n",
       "      <th>HIT_RATE</th>\n",
       "      <th>ARHR_ALL_HITS</th>\n",
       "      <th>...</th>\n",
       "      <th>COVERAGE_USER</th>\n",
       "      <th>COVERAGE_USER_HIT</th>\n",
       "      <th>USERS_IN_GT</th>\n",
       "      <th>DIVERSITY_GINI</th>\n",
       "      <th>SHANNON_ENTROPY</th>\n",
       "      <th>RATIO_DIVERSITY_HERFINDAHL</th>\n",
       "      <th>RATIO_DIVERSITY_GINI</th>\n",
       "      <th>RATIO_SHANNON_ENTROPY</th>\n",
       "      <th>RATIO_AVERAGE_POPULARITY</th>\n",
       "      <th>RATIO_NOVELTY</th>\n",
       "    </tr>\n",
       "    <tr>\n",
       "      <th>cutoff</th>\n",
       "      <th></th>\n",
       "      <th></th>\n",
       "      <th></th>\n",
       "      <th></th>\n",
       "      <th></th>\n",
       "      <th></th>\n",
       "      <th></th>\n",
       "      <th></th>\n",
       "      <th></th>\n",
       "      <th></th>\n",
       "      <th></th>\n",
       "      <th></th>\n",
       "      <th></th>\n",
       "      <th></th>\n",
       "      <th></th>\n",
       "      <th></th>\n",
       "      <th></th>\n",
       "      <th></th>\n",
       "      <th></th>\n",
       "      <th></th>\n",
       "      <th></th>\n",
       "    </tr>\n",
       "  </thead>\n",
       "  <tbody>\n",
       "    <tr>\n",
       "      <th>10</th>\n",
       "      <td>0.096595</td>\n",
       "      <td>0.165167</td>\n",
       "      <td>0.138965</td>\n",
       "      <td>0.050024</td>\n",
       "      <td>0.085384</td>\n",
       "      <td>0.274834</td>\n",
       "      <td>0.152525</td>\n",
       "      <td>0.11397</td>\n",
       "      <td>0.519702</td>\n",
       "      <td>0.365722</td>\n",
       "      <td>...</td>\n",
       "      <td>0.802826</td>\n",
       "      <td>0.41723</td>\n",
       "      <td>0.802826</td>\n",
       "      <td>0.083179</td>\n",
       "      <td>10.657938</td>\n",
       "      <td>0.998402</td>\n",
       "      <td>0.240004</td>\n",
       "      <td>0.821046</td>\n",
       "      <td>1.518592</td>\n",
       "      <td>0.309028</td>\n",
       "    </tr>\n",
       "  </tbody>\n",
       "</table>\n",
       "<p>1 rows × 27 columns</p>\n",
       "</div>"
      ],
      "text/plain": [
       "       PRECISION PRECISION_RECALL_MIN_DEN    RECALL       MAP MAP_MIN_DEN  \\\n",
       "cutoff                                                                      \n",
       "10      0.096595                 0.165167  0.138965  0.050024    0.085384   \n",
       "\n",
       "             MRR      NDCG       F1  HIT_RATE ARHR_ALL_HITS  ...  \\\n",
       "cutoff                                                       ...   \n",
       "10      0.274834  0.152525  0.11397  0.519702      0.365722  ...   \n",
       "\n",
       "       COVERAGE_USER COVERAGE_USER_HIT USERS_IN_GT DIVERSITY_GINI  \\\n",
       "cutoff                                                              \n",
       "10          0.802826           0.41723    0.802826       0.083179   \n",
       "\n",
       "       SHANNON_ENTROPY RATIO_DIVERSITY_HERFINDAHL RATIO_DIVERSITY_GINI  \\\n",
       "cutoff                                                                   \n",
       "10           10.657938                   0.998402             0.240004   \n",
       "\n",
       "       RATIO_SHANNON_ENTROPY RATIO_AVERAGE_POPULARITY RATIO_NOVELTY  \n",
       "cutoff                                                               \n",
       "10                  0.821046                 1.518592      0.309028  \n",
       "\n",
       "[1 rows x 27 columns]"
      ]
     },
     "metadata": {},
     "output_type": "display_data"
    },
    {
     "name": "stdout",
     "output_type": "stream",
     "text": [
      "Item KNN\n",
      "EvaluatorHoldout: Processed 10456 (100.0%) in 10.08 sec. Users per second: 1037\n"
     ]
    },
    {
     "data": {
      "text/html": [
       "<div>\n",
       "<style scoped>\n",
       "    .dataframe tbody tr th:only-of-type {\n",
       "        vertical-align: middle;\n",
       "    }\n",
       "\n",
       "    .dataframe tbody tr th {\n",
       "        vertical-align: top;\n",
       "    }\n",
       "\n",
       "    .dataframe thead th {\n",
       "        text-align: right;\n",
       "    }\n",
       "</style>\n",
       "<table border=\"1\" class=\"dataframe\">\n",
       "  <thead>\n",
       "    <tr style=\"text-align: right;\">\n",
       "      <th></th>\n",
       "      <th>PRECISION</th>\n",
       "      <th>PRECISION_RECALL_MIN_DEN</th>\n",
       "      <th>RECALL</th>\n",
       "      <th>MAP</th>\n",
       "      <th>MAP_MIN_DEN</th>\n",
       "      <th>MRR</th>\n",
       "      <th>NDCG</th>\n",
       "      <th>F1</th>\n",
       "      <th>HIT_RATE</th>\n",
       "      <th>ARHR_ALL_HITS</th>\n",
       "      <th>...</th>\n",
       "      <th>COVERAGE_USER</th>\n",
       "      <th>COVERAGE_USER_HIT</th>\n",
       "      <th>USERS_IN_GT</th>\n",
       "      <th>DIVERSITY_GINI</th>\n",
       "      <th>SHANNON_ENTROPY</th>\n",
       "      <th>RATIO_DIVERSITY_HERFINDAHL</th>\n",
       "      <th>RATIO_DIVERSITY_GINI</th>\n",
       "      <th>RATIO_SHANNON_ENTROPY</th>\n",
       "      <th>RATIO_AVERAGE_POPULARITY</th>\n",
       "      <th>RATIO_NOVELTY</th>\n",
       "    </tr>\n",
       "    <tr>\n",
       "      <th>cutoff</th>\n",
       "      <th></th>\n",
       "      <th></th>\n",
       "      <th></th>\n",
       "      <th></th>\n",
       "      <th></th>\n",
       "      <th></th>\n",
       "      <th></th>\n",
       "      <th></th>\n",
       "      <th></th>\n",
       "      <th></th>\n",
       "      <th></th>\n",
       "      <th></th>\n",
       "      <th></th>\n",
       "      <th></th>\n",
       "      <th></th>\n",
       "      <th></th>\n",
       "      <th></th>\n",
       "      <th></th>\n",
       "      <th></th>\n",
       "      <th></th>\n",
       "      <th></th>\n",
       "    </tr>\n",
       "  </thead>\n",
       "  <tbody>\n",
       "    <tr>\n",
       "      <th>10</th>\n",
       "      <td>0.09451</td>\n",
       "      <td>0.161146</td>\n",
       "      <td>0.135378</td>\n",
       "      <td>0.048719</td>\n",
       "      <td>0.082976</td>\n",
       "      <td>0.267977</td>\n",
       "      <td>0.148683</td>\n",
       "      <td>0.111312</td>\n",
       "      <td>0.511572</td>\n",
       "      <td>0.356662</td>\n",
       "      <td>...</td>\n",
       "      <td>0.802826</td>\n",
       "      <td>0.410703</td>\n",
       "      <td>0.802826</td>\n",
       "      <td>0.066309</td>\n",
       "      <td>10.283111</td>\n",
       "      <td>0.997789</td>\n",
       "      <td>0.191329</td>\n",
       "      <td>0.792171</td>\n",
       "      <td>1.734564</td>\n",
       "      <td>0.30426</td>\n",
       "    </tr>\n",
       "  </tbody>\n",
       "</table>\n",
       "<p>1 rows × 27 columns</p>\n",
       "</div>"
      ],
      "text/plain": [
       "       PRECISION PRECISION_RECALL_MIN_DEN    RECALL       MAP MAP_MIN_DEN  \\\n",
       "cutoff                                                                      \n",
       "10       0.09451                 0.161146  0.135378  0.048719    0.082976   \n",
       "\n",
       "             MRR      NDCG        F1  HIT_RATE ARHR_ALL_HITS  ...  \\\n",
       "cutoff                                                        ...   \n",
       "10      0.267977  0.148683  0.111312  0.511572      0.356662  ...   \n",
       "\n",
       "       COVERAGE_USER COVERAGE_USER_HIT USERS_IN_GT DIVERSITY_GINI  \\\n",
       "cutoff                                                              \n",
       "10          0.802826          0.410703    0.802826       0.066309   \n",
       "\n",
       "       SHANNON_ENTROPY RATIO_DIVERSITY_HERFINDAHL RATIO_DIVERSITY_GINI  \\\n",
       "cutoff                                                                   \n",
       "10           10.283111                   0.997789             0.191329   \n",
       "\n",
       "       RATIO_SHANNON_ENTROPY RATIO_AVERAGE_POPULARITY RATIO_NOVELTY  \n",
       "cutoff                                                               \n",
       "10                  0.792171                 1.734564       0.30426  \n",
       "\n",
       "[1 rows x 27 columns]"
      ]
     },
     "metadata": {},
     "output_type": "display_data"
    },
    {
     "name": "stdout",
     "output_type": "stream",
     "text": [
      "RP3 beta\n",
      "EvaluatorHoldout: Processed 10456 (100.0%) in 10.87 sec. Users per second: 962\n"
     ]
    },
    {
     "data": {
      "text/html": [
       "<div>\n",
       "<style scoped>\n",
       "    .dataframe tbody tr th:only-of-type {\n",
       "        vertical-align: middle;\n",
       "    }\n",
       "\n",
       "    .dataframe tbody tr th {\n",
       "        vertical-align: top;\n",
       "    }\n",
       "\n",
       "    .dataframe thead th {\n",
       "        text-align: right;\n",
       "    }\n",
       "</style>\n",
       "<table border=\"1\" class=\"dataframe\">\n",
       "  <thead>\n",
       "    <tr style=\"text-align: right;\">\n",
       "      <th></th>\n",
       "      <th>PRECISION</th>\n",
       "      <th>PRECISION_RECALL_MIN_DEN</th>\n",
       "      <th>RECALL</th>\n",
       "      <th>MAP</th>\n",
       "      <th>MAP_MIN_DEN</th>\n",
       "      <th>MRR</th>\n",
       "      <th>NDCG</th>\n",
       "      <th>F1</th>\n",
       "      <th>HIT_RATE</th>\n",
       "      <th>ARHR_ALL_HITS</th>\n",
       "      <th>...</th>\n",
       "      <th>COVERAGE_USER</th>\n",
       "      <th>COVERAGE_USER_HIT</th>\n",
       "      <th>USERS_IN_GT</th>\n",
       "      <th>DIVERSITY_GINI</th>\n",
       "      <th>SHANNON_ENTROPY</th>\n",
       "      <th>RATIO_DIVERSITY_HERFINDAHL</th>\n",
       "      <th>RATIO_DIVERSITY_GINI</th>\n",
       "      <th>RATIO_SHANNON_ENTROPY</th>\n",
       "      <th>RATIO_AVERAGE_POPULARITY</th>\n",
       "      <th>RATIO_NOVELTY</th>\n",
       "    </tr>\n",
       "    <tr>\n",
       "      <th>cutoff</th>\n",
       "      <th></th>\n",
       "      <th></th>\n",
       "      <th></th>\n",
       "      <th></th>\n",
       "      <th></th>\n",
       "      <th></th>\n",
       "      <th></th>\n",
       "      <th></th>\n",
       "      <th></th>\n",
       "      <th></th>\n",
       "      <th></th>\n",
       "      <th></th>\n",
       "      <th></th>\n",
       "      <th></th>\n",
       "      <th></th>\n",
       "      <th></th>\n",
       "      <th></th>\n",
       "      <th></th>\n",
       "      <th></th>\n",
       "      <th></th>\n",
       "      <th></th>\n",
       "    </tr>\n",
       "  </thead>\n",
       "  <tbody>\n",
       "    <tr>\n",
       "      <th>10</th>\n",
       "      <td>0.095008</td>\n",
       "      <td>0.162969</td>\n",
       "      <td>0.137154</td>\n",
       "      <td>0.04916</td>\n",
       "      <td>0.084325</td>\n",
       "      <td>0.273626</td>\n",
       "      <td>0.150836</td>\n",
       "      <td>0.112255</td>\n",
       "      <td>0.517598</td>\n",
       "      <td>0.361989</td>\n",
       "      <td>...</td>\n",
       "      <td>0.802826</td>\n",
       "      <td>0.415541</td>\n",
       "      <td>0.802826</td>\n",
       "      <td>0.095265</td>\n",
       "      <td>10.876609</td>\n",
       "      <td>0.998685</td>\n",
       "      <td>0.274877</td>\n",
       "      <td>0.837892</td>\n",
       "      <td>1.348527</td>\n",
       "      <td>0.315394</td>\n",
       "    </tr>\n",
       "  </tbody>\n",
       "</table>\n",
       "<p>1 rows × 27 columns</p>\n",
       "</div>"
      ],
      "text/plain": [
       "       PRECISION PRECISION_RECALL_MIN_DEN    RECALL      MAP MAP_MIN_DEN  \\\n",
       "cutoff                                                                     \n",
       "10      0.095008                 0.162969  0.137154  0.04916    0.084325   \n",
       "\n",
       "             MRR      NDCG        F1  HIT_RATE ARHR_ALL_HITS  ...  \\\n",
       "cutoff                                                        ...   \n",
       "10      0.273626  0.150836  0.112255  0.517598      0.361989  ...   \n",
       "\n",
       "       COVERAGE_USER COVERAGE_USER_HIT USERS_IN_GT DIVERSITY_GINI  \\\n",
       "cutoff                                                              \n",
       "10          0.802826          0.415541    0.802826       0.095265   \n",
       "\n",
       "       SHANNON_ENTROPY RATIO_DIVERSITY_HERFINDAHL RATIO_DIVERSITY_GINI  \\\n",
       "cutoff                                                                   \n",
       "10           10.876609                   0.998685             0.274877   \n",
       "\n",
       "       RATIO_SHANNON_ENTROPY RATIO_AVERAGE_POPULARITY RATIO_NOVELTY  \n",
       "cutoff                                                               \n",
       "10                  0.837892                 1.348527      0.315394  \n",
       "\n",
       "[1 rows x 27 columns]"
      ]
     },
     "metadata": {},
     "output_type": "display_data"
    },
    {
     "name": "stdout",
     "output_type": "stream",
     "text": [
      "P3 alpha\n",
      "EvaluatorHoldout: Processed 10456 (100.0%) in 10.05 sec. Users per second: 1040\n"
     ]
    },
    {
     "data": {
      "text/html": [
       "<div>\n",
       "<style scoped>\n",
       "    .dataframe tbody tr th:only-of-type {\n",
       "        vertical-align: middle;\n",
       "    }\n",
       "\n",
       "    .dataframe tbody tr th {\n",
       "        vertical-align: top;\n",
       "    }\n",
       "\n",
       "    .dataframe thead th {\n",
       "        text-align: right;\n",
       "    }\n",
       "</style>\n",
       "<table border=\"1\" class=\"dataframe\">\n",
       "  <thead>\n",
       "    <tr style=\"text-align: right;\">\n",
       "      <th></th>\n",
       "      <th>PRECISION</th>\n",
       "      <th>PRECISION_RECALL_MIN_DEN</th>\n",
       "      <th>RECALL</th>\n",
       "      <th>MAP</th>\n",
       "      <th>MAP_MIN_DEN</th>\n",
       "      <th>MRR</th>\n",
       "      <th>NDCG</th>\n",
       "      <th>F1</th>\n",
       "      <th>HIT_RATE</th>\n",
       "      <th>ARHR_ALL_HITS</th>\n",
       "      <th>...</th>\n",
       "      <th>COVERAGE_USER</th>\n",
       "      <th>COVERAGE_USER_HIT</th>\n",
       "      <th>USERS_IN_GT</th>\n",
       "      <th>DIVERSITY_GINI</th>\n",
       "      <th>SHANNON_ENTROPY</th>\n",
       "      <th>RATIO_DIVERSITY_HERFINDAHL</th>\n",
       "      <th>RATIO_DIVERSITY_GINI</th>\n",
       "      <th>RATIO_SHANNON_ENTROPY</th>\n",
       "      <th>RATIO_AVERAGE_POPULARITY</th>\n",
       "      <th>RATIO_NOVELTY</th>\n",
       "    </tr>\n",
       "    <tr>\n",
       "      <th>cutoff</th>\n",
       "      <th></th>\n",
       "      <th></th>\n",
       "      <th></th>\n",
       "      <th></th>\n",
       "      <th></th>\n",
       "      <th></th>\n",
       "      <th></th>\n",
       "      <th></th>\n",
       "      <th></th>\n",
       "      <th></th>\n",
       "      <th></th>\n",
       "      <th></th>\n",
       "      <th></th>\n",
       "      <th></th>\n",
       "      <th></th>\n",
       "      <th></th>\n",
       "      <th></th>\n",
       "      <th></th>\n",
       "      <th></th>\n",
       "      <th></th>\n",
       "      <th></th>\n",
       "    </tr>\n",
       "  </thead>\n",
       "  <tbody>\n",
       "    <tr>\n",
       "      <th>10</th>\n",
       "      <td>0.092358</td>\n",
       "      <td>0.15618</td>\n",
       "      <td>0.130929</td>\n",
       "      <td>0.047745</td>\n",
       "      <td>0.081353</td>\n",
       "      <td>0.267656</td>\n",
       "      <td>0.146022</td>\n",
       "      <td>0.108312</td>\n",
       "      <td>0.507269</td>\n",
       "      <td>0.352674</td>\n",
       "      <td>...</td>\n",
       "      <td>0.802826</td>\n",
       "      <td>0.407248</td>\n",
       "      <td>0.802826</td>\n",
       "      <td>0.069984</td>\n",
       "      <td>10.530815</td>\n",
       "      <td>0.998437</td>\n",
       "      <td>0.201933</td>\n",
       "      <td>0.811253</td>\n",
       "      <td>1.356167</td>\n",
       "      <td>0.311674</td>\n",
       "    </tr>\n",
       "  </tbody>\n",
       "</table>\n",
       "<p>1 rows × 27 columns</p>\n",
       "</div>"
      ],
      "text/plain": [
       "       PRECISION PRECISION_RECALL_MIN_DEN    RECALL       MAP MAP_MIN_DEN  \\\n",
       "cutoff                                                                      \n",
       "10      0.092358                  0.15618  0.130929  0.047745    0.081353   \n",
       "\n",
       "             MRR      NDCG        F1  HIT_RATE ARHR_ALL_HITS  ...  \\\n",
       "cutoff                                                        ...   \n",
       "10      0.267656  0.146022  0.108312  0.507269      0.352674  ...   \n",
       "\n",
       "       COVERAGE_USER COVERAGE_USER_HIT USERS_IN_GT DIVERSITY_GINI  \\\n",
       "cutoff                                                              \n",
       "10          0.802826          0.407248    0.802826       0.069984   \n",
       "\n",
       "       SHANNON_ENTROPY RATIO_DIVERSITY_HERFINDAHL RATIO_DIVERSITY_GINI  \\\n",
       "cutoff                                                                   \n",
       "10           10.530815                   0.998437             0.201933   \n",
       "\n",
       "       RATIO_SHANNON_ENTROPY RATIO_AVERAGE_POPULARITY RATIO_NOVELTY  \n",
       "cutoff                                                               \n",
       "10                  0.811253                 1.356167      0.311674  \n",
       "\n",
       "[1 rows x 27 columns]"
      ]
     },
     "metadata": {},
     "output_type": "display_data"
    },
    {
     "name": "stdout",
     "output_type": "stream",
     "text": [
      "SLIM Elastic\n",
      "EvaluatorHoldout: Processed 10456 (100.0%) in 14.14 sec. Users per second: 739\n"
     ]
    },
    {
     "data": {
      "text/html": [
       "<div>\n",
       "<style scoped>\n",
       "    .dataframe tbody tr th:only-of-type {\n",
       "        vertical-align: middle;\n",
       "    }\n",
       "\n",
       "    .dataframe tbody tr th {\n",
       "        vertical-align: top;\n",
       "    }\n",
       "\n",
       "    .dataframe thead th {\n",
       "        text-align: right;\n",
       "    }\n",
       "</style>\n",
       "<table border=\"1\" class=\"dataframe\">\n",
       "  <thead>\n",
       "    <tr style=\"text-align: right;\">\n",
       "      <th></th>\n",
       "      <th>PRECISION</th>\n",
       "      <th>PRECISION_RECALL_MIN_DEN</th>\n",
       "      <th>RECALL</th>\n",
       "      <th>MAP</th>\n",
       "      <th>MAP_MIN_DEN</th>\n",
       "      <th>MRR</th>\n",
       "      <th>NDCG</th>\n",
       "      <th>F1</th>\n",
       "      <th>HIT_RATE</th>\n",
       "      <th>ARHR_ALL_HITS</th>\n",
       "      <th>...</th>\n",
       "      <th>COVERAGE_USER</th>\n",
       "      <th>COVERAGE_USER_HIT</th>\n",
       "      <th>USERS_IN_GT</th>\n",
       "      <th>DIVERSITY_GINI</th>\n",
       "      <th>SHANNON_ENTROPY</th>\n",
       "      <th>RATIO_DIVERSITY_HERFINDAHL</th>\n",
       "      <th>RATIO_DIVERSITY_GINI</th>\n",
       "      <th>RATIO_SHANNON_ENTROPY</th>\n",
       "      <th>RATIO_AVERAGE_POPULARITY</th>\n",
       "      <th>RATIO_NOVELTY</th>\n",
       "    </tr>\n",
       "    <tr>\n",
       "      <th>cutoff</th>\n",
       "      <th></th>\n",
       "      <th></th>\n",
       "      <th></th>\n",
       "      <th></th>\n",
       "      <th></th>\n",
       "      <th></th>\n",
       "      <th></th>\n",
       "      <th></th>\n",
       "      <th></th>\n",
       "      <th></th>\n",
       "      <th></th>\n",
       "      <th></th>\n",
       "      <th></th>\n",
       "      <th></th>\n",
       "      <th></th>\n",
       "      <th></th>\n",
       "      <th></th>\n",
       "      <th></th>\n",
       "      <th></th>\n",
       "      <th></th>\n",
       "      <th></th>\n",
       "    </tr>\n",
       "  </thead>\n",
       "  <tbody>\n",
       "    <tr>\n",
       "      <th>10</th>\n",
       "      <td>0.097427</td>\n",
       "      <td>0.1648</td>\n",
       "      <td>0.138241</td>\n",
       "      <td>0.051196</td>\n",
       "      <td>0.086161</td>\n",
       "      <td>0.282256</td>\n",
       "      <td>0.154123</td>\n",
       "      <td>0.1143</td>\n",
       "      <td>0.523432</td>\n",
       "      <td>0.375106</td>\n",
       "      <td>...</td>\n",
       "      <td>0.802826</td>\n",
       "      <td>0.420224</td>\n",
       "      <td>0.802826</td>\n",
       "      <td>0.063952</td>\n",
       "      <td>10.572156</td>\n",
       "      <td>0.998771</td>\n",
       "      <td>0.184527</td>\n",
       "      <td>0.814438</td>\n",
       "      <td>1.505137</td>\n",
       "      <td>0.301658</td>\n",
       "    </tr>\n",
       "  </tbody>\n",
       "</table>\n",
       "<p>1 rows × 27 columns</p>\n",
       "</div>"
      ],
      "text/plain": [
       "       PRECISION PRECISION_RECALL_MIN_DEN    RECALL       MAP MAP_MIN_DEN  \\\n",
       "cutoff                                                                      \n",
       "10      0.097427                   0.1648  0.138241  0.051196    0.086161   \n",
       "\n",
       "             MRR      NDCG      F1  HIT_RATE ARHR_ALL_HITS  ... COVERAGE_USER  \\\n",
       "cutoff                                                      ...                 \n",
       "10      0.282256  0.154123  0.1143  0.523432      0.375106  ...      0.802826   \n",
       "\n",
       "       COVERAGE_USER_HIT USERS_IN_GT DIVERSITY_GINI SHANNON_ENTROPY  \\\n",
       "cutoff                                                                \n",
       "10              0.420224    0.802826       0.063952       10.572156   \n",
       "\n",
       "       RATIO_DIVERSITY_HERFINDAHL RATIO_DIVERSITY_GINI RATIO_SHANNON_ENTROPY  \\\n",
       "cutoff                                                                         \n",
       "10                       0.998771             0.184527              0.814438   \n",
       "\n",
       "       RATIO_AVERAGE_POPULARITY RATIO_NOVELTY  \n",
       "cutoff                                         \n",
       "10                     1.505137      0.301658  \n",
       "\n",
       "[1 rows x 27 columns]"
      ]
     },
     "metadata": {},
     "output_type": "display_data"
    },
    {
     "name": "stdout",
     "output_type": "stream",
     "text": [
      "IALS\n",
      "EvaluatorHoldout: Processed 10456 (100.0%) in 17.11 sec. Users per second: 611\n"
     ]
    },
    {
     "data": {
      "text/html": [
       "<div>\n",
       "<style scoped>\n",
       "    .dataframe tbody tr th:only-of-type {\n",
       "        vertical-align: middle;\n",
       "    }\n",
       "\n",
       "    .dataframe tbody tr th {\n",
       "        vertical-align: top;\n",
       "    }\n",
       "\n",
       "    .dataframe thead th {\n",
       "        text-align: right;\n",
       "    }\n",
       "</style>\n",
       "<table border=\"1\" class=\"dataframe\">\n",
       "  <thead>\n",
       "    <tr style=\"text-align: right;\">\n",
       "      <th></th>\n",
       "      <th>PRECISION</th>\n",
       "      <th>PRECISION_RECALL_MIN_DEN</th>\n",
       "      <th>RECALL</th>\n",
       "      <th>MAP</th>\n",
       "      <th>MAP_MIN_DEN</th>\n",
       "      <th>MRR</th>\n",
       "      <th>NDCG</th>\n",
       "      <th>F1</th>\n",
       "      <th>HIT_RATE</th>\n",
       "      <th>ARHR_ALL_HITS</th>\n",
       "      <th>...</th>\n",
       "      <th>COVERAGE_USER</th>\n",
       "      <th>COVERAGE_USER_HIT</th>\n",
       "      <th>USERS_IN_GT</th>\n",
       "      <th>DIVERSITY_GINI</th>\n",
       "      <th>SHANNON_ENTROPY</th>\n",
       "      <th>RATIO_DIVERSITY_HERFINDAHL</th>\n",
       "      <th>RATIO_DIVERSITY_GINI</th>\n",
       "      <th>RATIO_SHANNON_ENTROPY</th>\n",
       "      <th>RATIO_AVERAGE_POPULARITY</th>\n",
       "      <th>RATIO_NOVELTY</th>\n",
       "    </tr>\n",
       "    <tr>\n",
       "      <th>cutoff</th>\n",
       "      <th></th>\n",
       "      <th></th>\n",
       "      <th></th>\n",
       "      <th></th>\n",
       "      <th></th>\n",
       "      <th></th>\n",
       "      <th></th>\n",
       "      <th></th>\n",
       "      <th></th>\n",
       "      <th></th>\n",
       "      <th></th>\n",
       "      <th></th>\n",
       "      <th></th>\n",
       "      <th></th>\n",
       "      <th></th>\n",
       "      <th></th>\n",
       "      <th></th>\n",
       "      <th></th>\n",
       "      <th></th>\n",
       "      <th></th>\n",
       "      <th></th>\n",
       "    </tr>\n",
       "  </thead>\n",
       "  <tbody>\n",
       "    <tr>\n",
       "      <th>10</th>\n",
       "      <td>0.08224</td>\n",
       "      <td>0.144123</td>\n",
       "      <td>0.122645</td>\n",
       "      <td>0.041501</td>\n",
       "      <td>0.071584</td>\n",
       "      <td>0.246255</td>\n",
       "      <td>0.131701</td>\n",
       "      <td>0.098458</td>\n",
       "      <td>0.479055</td>\n",
       "      <td>0.316769</td>\n",
       "      <td>...</td>\n",
       "      <td>0.802826</td>\n",
       "      <td>0.384598</td>\n",
       "      <td>0.802826</td>\n",
       "      <td>0.029074</td>\n",
       "      <td>9.74689</td>\n",
       "      <td>0.998532</td>\n",
       "      <td>0.08389</td>\n",
       "      <td>0.750862</td>\n",
       "      <td>1.599865</td>\n",
       "      <td>0.289534</td>\n",
       "    </tr>\n",
       "  </tbody>\n",
       "</table>\n",
       "<p>1 rows × 27 columns</p>\n",
       "</div>"
      ],
      "text/plain": [
       "       PRECISION PRECISION_RECALL_MIN_DEN    RECALL       MAP MAP_MIN_DEN  \\\n",
       "cutoff                                                                      \n",
       "10       0.08224                 0.144123  0.122645  0.041501    0.071584   \n",
       "\n",
       "             MRR      NDCG        F1  HIT_RATE ARHR_ALL_HITS  ...  \\\n",
       "cutoff                                                        ...   \n",
       "10      0.246255  0.131701  0.098458  0.479055      0.316769  ...   \n",
       "\n",
       "       COVERAGE_USER COVERAGE_USER_HIT USERS_IN_GT DIVERSITY_GINI  \\\n",
       "cutoff                                                              \n",
       "10          0.802826          0.384598    0.802826       0.029074   \n",
       "\n",
       "       SHANNON_ENTROPY RATIO_DIVERSITY_HERFINDAHL RATIO_DIVERSITY_GINI  \\\n",
       "cutoff                                                                   \n",
       "10             9.74689                   0.998532              0.08389   \n",
       "\n",
       "       RATIO_SHANNON_ENTROPY RATIO_AVERAGE_POPULARITY RATIO_NOVELTY  \n",
       "cutoff                                                               \n",
       "10                  0.750862                 1.599865      0.289534  \n",
       "\n",
       "[1 rows x 27 columns]"
      ]
     },
     "metadata": {},
     "output_type": "display_data"
    }
   ],
   "source": [
    "evaluator = EvaluatorHoldout(URM_test_complete, cutoff_list=[10])\n",
    "\n",
    "print('Merging Models')\n",
    "result_df, _ = evaluator.evaluateRecommender(hybrid_similarity)\n",
    "display(result_df)\n",
    "print('Item KNN')\n",
    "result_df, _ = evaluator.evaluateRecommender(recommender_item)\n",
    "display(result_df)\n",
    "print('RP3 beta')\n",
    "result_df, _ = evaluator.evaluateRecommender(recommender_rp3)\n",
    "display(result_df)\n",
    "print('P3 alpha')\n",
    "result_df, _ = evaluator.evaluateRecommender(recommender_p3a)\n",
    "display(result_df)\n",
    "print('SLIM Elastic')\n",
    "result_df, _ = evaluator.evaluateRecommender(recommender_slim)\n",
    "display(result_df)\n",
    "print('IALS')\n",
    "result_df, _ = evaluator.evaluateRecommender(recommender_ials)\n",
    "display(result_df)"
   ]
  },
  {
   "cell_type": "code",
   "execution_count": 21,
   "id": "0e65d7b2",
   "metadata": {
    "execution": {
     "iopub.execute_input": "2023-12-04T16:22:24.865822Z",
     "iopub.status.busy": "2023-12-04T16:22:24.865273Z",
     "iopub.status.idle": "2023-12-04T16:22:24.879490Z",
     "shell.execute_reply": "2023-12-04T16:22:24.878473Z"
    },
    "papermill": {
     "duration": 0.053887,
     "end_time": "2023-12-04T16:22:24.882604",
     "exception": false,
     "start_time": "2023-12-04T16:22:24.828717",
     "status": "completed"
    },
    "tags": []
   },
   "outputs": [],
   "source": [
    "class PipelineRecommender(BaseRecommender):\n",
    "    def __init__(self, URM_train, recommenders: list[BaseRecommender], cutoffs):\n",
    "        super(PipelineRecommender, self).__init__(URM_train)\n",
    "        self.recommenders = recommenders\n",
    "        self.cutoffs = cutoffs\n",
    "        \n",
    "    def recommend(self, user_ids, cutoff=10, remove_seen_flag=True, remove_top_pop_flag=False, return_scores=True, remove_custom_items_flag=True):\n",
    "        \n",
    "        recommendations = None\n",
    "        for recommender_cutoff, recommender in zip(self.cutoffs, self.recommenders):\n",
    "            recommender_scores = recommender._compute_item_score(user_ids)\n",
    "            \n",
    "            for i, user_id in enumerate(user_ids):\n",
    "                recommender_scores[i, :] = self._remove_seen_on_scores(user_id, recommender_scores[i, :])\n",
    "            \n",
    "            if recommendations is None:\n",
    "                recommendations = np.argsort(recommender_scores, axis=1)[:, -recommender_cutoff:]\n",
    "                \n",
    "            else:\n",
    "                filtered_scores = np.full_like(recommender_scores, -np.inf)\n",
    "                for i in range(recommendations.shape[0]):\n",
    "                    row_indices = recommendations[i]\n",
    "                    filtered_scores[i, row_indices] = recommender_scores[i, row_indices]\n",
    "                recommendations = np.argsort(filtered_scores, axis=1)[:, -recommender_cutoff:]              \n",
    "                \n",
    "        if return_scores:\n",
    "            return np.flip(recommendations[:, -cutoff:], axis=1), filtered_scores\n",
    "        return np.flip(recommendations[:, -cutoff:], axis=1)"
   ]
  },
  {
   "cell_type": "code",
   "execution_count": 22,
   "id": "3aa7c321",
   "metadata": {
    "execution": {
     "iopub.execute_input": "2023-12-04T16:22:24.955947Z",
     "iopub.status.busy": "2023-12-04T16:22:24.954679Z",
     "iopub.status.idle": "2023-12-04T16:22:55.539772Z",
     "shell.execute_reply": "2023-12-04T16:22:55.538657Z"
    },
    "papermill": {
     "duration": 30.62778,
     "end_time": "2023-12-04T16:22:55.544870",
     "exception": false,
     "start_time": "2023-12-04T16:22:24.917090",
     "status": "completed"
    },
    "tags": []
   },
   "outputs": [
    {
     "name": "stdout",
     "output_type": "stream",
     "text": [
      "Recommender_Base_Class: URM Detected 627 ( 4.8%) users with no interactions.\n",
      "Recommender_Base_Class: URM Detected 247 ( 1.1%) items with no interactions.\n",
      "EvaluatorHoldout: Processed 10456 (100.0%) in 30.52 sec. Users per second: 343\n"
     ]
    },
    {
     "data": {
      "text/html": [
       "<div>\n",
       "<style scoped>\n",
       "    .dataframe tbody tr th:only-of-type {\n",
       "        vertical-align: middle;\n",
       "    }\n",
       "\n",
       "    .dataframe tbody tr th {\n",
       "        vertical-align: top;\n",
       "    }\n",
       "\n",
       "    .dataframe thead th {\n",
       "        text-align: right;\n",
       "    }\n",
       "</style>\n",
       "<table border=\"1\" class=\"dataframe\">\n",
       "  <thead>\n",
       "    <tr style=\"text-align: right;\">\n",
       "      <th></th>\n",
       "      <th>PRECISION</th>\n",
       "      <th>PRECISION_RECALL_MIN_DEN</th>\n",
       "      <th>RECALL</th>\n",
       "      <th>MAP</th>\n",
       "      <th>MAP_MIN_DEN</th>\n",
       "      <th>MRR</th>\n",
       "      <th>NDCG</th>\n",
       "      <th>F1</th>\n",
       "      <th>HIT_RATE</th>\n",
       "      <th>ARHR_ALL_HITS</th>\n",
       "      <th>...</th>\n",
       "      <th>COVERAGE_USER</th>\n",
       "      <th>COVERAGE_USER_HIT</th>\n",
       "      <th>USERS_IN_GT</th>\n",
       "      <th>DIVERSITY_GINI</th>\n",
       "      <th>SHANNON_ENTROPY</th>\n",
       "      <th>RATIO_DIVERSITY_HERFINDAHL</th>\n",
       "      <th>RATIO_DIVERSITY_GINI</th>\n",
       "      <th>RATIO_SHANNON_ENTROPY</th>\n",
       "      <th>RATIO_AVERAGE_POPULARITY</th>\n",
       "      <th>RATIO_NOVELTY</th>\n",
       "    </tr>\n",
       "    <tr>\n",
       "      <th>cutoff</th>\n",
       "      <th></th>\n",
       "      <th></th>\n",
       "      <th></th>\n",
       "      <th></th>\n",
       "      <th></th>\n",
       "      <th></th>\n",
       "      <th></th>\n",
       "      <th></th>\n",
       "      <th></th>\n",
       "      <th></th>\n",
       "      <th></th>\n",
       "      <th></th>\n",
       "      <th></th>\n",
       "      <th></th>\n",
       "      <th></th>\n",
       "      <th></th>\n",
       "      <th></th>\n",
       "      <th></th>\n",
       "      <th></th>\n",
       "      <th></th>\n",
       "      <th></th>\n",
       "    </tr>\n",
       "  </thead>\n",
       "  <tbody>\n",
       "    <tr>\n",
       "      <th>10</th>\n",
       "      <td>0.096634</td>\n",
       "      <td>0.160608</td>\n",
       "      <td>0.133985</td>\n",
       "      <td>0.051045</td>\n",
       "      <td>0.085245</td>\n",
       "      <td>0.281507</td>\n",
       "      <td>0.152341</td>\n",
       "      <td>0.112284</td>\n",
       "      <td>0.519128</td>\n",
       "      <td>0.373969</td>\n",
       "      <td>...</td>\n",
       "      <td>0.802826</td>\n",
       "      <td>0.416769</td>\n",
       "      <td>0.802826</td>\n",
       "      <td>0.084638</td>\n",
       "      <td>10.945746</td>\n",
       "      <td>0.999078</td>\n",
       "      <td>0.244215</td>\n",
       "      <td>0.843218</td>\n",
       "      <td>1.22117</td>\n",
       "      <td>0.312679</td>\n",
       "    </tr>\n",
       "  </tbody>\n",
       "</table>\n",
       "<p>1 rows × 27 columns</p>\n",
       "</div>"
      ],
      "text/plain": [
       "       PRECISION PRECISION_RECALL_MIN_DEN    RECALL       MAP MAP_MIN_DEN  \\\n",
       "cutoff                                                                      \n",
       "10      0.096634                 0.160608  0.133985  0.051045    0.085245   \n",
       "\n",
       "             MRR      NDCG        F1  HIT_RATE ARHR_ALL_HITS  ...  \\\n",
       "cutoff                                                        ...   \n",
       "10      0.281507  0.152341  0.112284  0.519128      0.373969  ...   \n",
       "\n",
       "       COVERAGE_USER COVERAGE_USER_HIT USERS_IN_GT DIVERSITY_GINI  \\\n",
       "cutoff                                                              \n",
       "10          0.802826          0.416769    0.802826       0.084638   \n",
       "\n",
       "       SHANNON_ENTROPY RATIO_DIVERSITY_HERFINDAHL RATIO_DIVERSITY_GINI  \\\n",
       "cutoff                                                                   \n",
       "10           10.945746                   0.999078             0.244215   \n",
       "\n",
       "       RATIO_SHANNON_ENTROPY RATIO_AVERAGE_POPULARITY RATIO_NOVELTY  \n",
       "cutoff                                                               \n",
       "10                  0.843218                  1.22117      0.312679  \n",
       "\n",
       "[1 rows x 27 columns]"
      ]
     },
     "metadata": {},
     "output_type": "display_data"
    }
   ],
   "source": [
    "pipeline_recommender = PipelineRecommender(\n",
    "    URM_train, \n",
    "    recommenders=[recommender_p3a, hybrid_similarity, recommender_slim], \n",
    "    cutoffs=[500, 100, 10]\n",
    ")\n",
    "\n",
    "result_df, _ = evaluator.evaluateRecommender(pipeline_recommender)\n",
    "display(result_df)"
   ]
  },
  {
   "cell_type": "code",
   "execution_count": 23,
   "id": "eb5e193c",
   "metadata": {
    "execution": {
     "iopub.execute_input": "2023-12-04T16:22:55.618668Z",
     "iopub.status.busy": "2023-12-04T16:22:55.617484Z",
     "iopub.status.idle": "2023-12-04T16:23:26.742731Z",
     "shell.execute_reply": "2023-12-04T16:23:26.741514Z"
    },
    "papermill": {
     "duration": 31.16951,
     "end_time": "2023-12-04T16:23:26.749609",
     "exception": false,
     "start_time": "2023-12-04T16:22:55.580099",
     "status": "completed"
    },
    "tags": []
   },
   "outputs": [
    {
     "name": "stdout",
     "output_type": "stream",
     "text": [
      "Recommender_Base_Class: URM Detected 627 ( 4.8%) users with no interactions.\n",
      "Recommender_Base_Class: URM Detected 247 ( 1.1%) items with no interactions.\n",
      "EvaluatorHoldout: Processed 10456 (100.0%) in 31.07 sec. Users per second: 337\n"
     ]
    },
    {
     "data": {
      "text/html": [
       "<div>\n",
       "<style scoped>\n",
       "    .dataframe tbody tr th:only-of-type {\n",
       "        vertical-align: middle;\n",
       "    }\n",
       "\n",
       "    .dataframe tbody tr th {\n",
       "        vertical-align: top;\n",
       "    }\n",
       "\n",
       "    .dataframe thead th {\n",
       "        text-align: right;\n",
       "    }\n",
       "</style>\n",
       "<table border=\"1\" class=\"dataframe\">\n",
       "  <thead>\n",
       "    <tr style=\"text-align: right;\">\n",
       "      <th></th>\n",
       "      <th>PRECISION</th>\n",
       "      <th>PRECISION_RECALL_MIN_DEN</th>\n",
       "      <th>RECALL</th>\n",
       "      <th>MAP</th>\n",
       "      <th>MAP_MIN_DEN</th>\n",
       "      <th>MRR</th>\n",
       "      <th>NDCG</th>\n",
       "      <th>F1</th>\n",
       "      <th>HIT_RATE</th>\n",
       "      <th>ARHR_ALL_HITS</th>\n",
       "      <th>...</th>\n",
       "      <th>COVERAGE_USER</th>\n",
       "      <th>COVERAGE_USER_HIT</th>\n",
       "      <th>USERS_IN_GT</th>\n",
       "      <th>DIVERSITY_GINI</th>\n",
       "      <th>SHANNON_ENTROPY</th>\n",
       "      <th>RATIO_DIVERSITY_HERFINDAHL</th>\n",
       "      <th>RATIO_DIVERSITY_GINI</th>\n",
       "      <th>RATIO_SHANNON_ENTROPY</th>\n",
       "      <th>RATIO_AVERAGE_POPULARITY</th>\n",
       "      <th>RATIO_NOVELTY</th>\n",
       "    </tr>\n",
       "    <tr>\n",
       "      <th>cutoff</th>\n",
       "      <th></th>\n",
       "      <th></th>\n",
       "      <th></th>\n",
       "      <th></th>\n",
       "      <th></th>\n",
       "      <th></th>\n",
       "      <th></th>\n",
       "      <th></th>\n",
       "      <th></th>\n",
       "      <th></th>\n",
       "      <th></th>\n",
       "      <th></th>\n",
       "      <th></th>\n",
       "      <th></th>\n",
       "      <th></th>\n",
       "      <th></th>\n",
       "      <th></th>\n",
       "      <th></th>\n",
       "      <th></th>\n",
       "      <th></th>\n",
       "      <th></th>\n",
       "    </tr>\n",
       "  </thead>\n",
       "  <tbody>\n",
       "    <tr>\n",
       "      <th>10</th>\n",
       "      <td>0.095161</td>\n",
       "      <td>0.159446</td>\n",
       "      <td>0.133273</td>\n",
       "      <td>0.049685</td>\n",
       "      <td>0.08392</td>\n",
       "      <td>0.273147</td>\n",
       "      <td>0.149759</td>\n",
       "      <td>0.111037</td>\n",
       "      <td>0.510425</td>\n",
       "      <td>0.363393</td>\n",
       "      <td>...</td>\n",
       "      <td>0.802826</td>\n",
       "      <td>0.409782</td>\n",
       "      <td>0.802826</td>\n",
       "      <td>0.094443</td>\n",
       "      <td>10.911388</td>\n",
       "      <td>0.998818</td>\n",
       "      <td>0.272504</td>\n",
       "      <td>0.840571</td>\n",
       "      <td>1.23532</td>\n",
       "      <td>0.315876</td>\n",
       "    </tr>\n",
       "  </tbody>\n",
       "</table>\n",
       "<p>1 rows × 27 columns</p>\n",
       "</div>"
      ],
      "text/plain": [
       "       PRECISION PRECISION_RECALL_MIN_DEN    RECALL       MAP MAP_MIN_DEN  \\\n",
       "cutoff                                                                      \n",
       "10      0.095161                 0.159446  0.133273  0.049685     0.08392   \n",
       "\n",
       "             MRR      NDCG        F1  HIT_RATE ARHR_ALL_HITS  ...  \\\n",
       "cutoff                                                        ...   \n",
       "10      0.273147  0.149759  0.111037  0.510425      0.363393  ...   \n",
       "\n",
       "       COVERAGE_USER COVERAGE_USER_HIT USERS_IN_GT DIVERSITY_GINI  \\\n",
       "cutoff                                                              \n",
       "10          0.802826          0.409782    0.802826       0.094443   \n",
       "\n",
       "       SHANNON_ENTROPY RATIO_DIVERSITY_HERFINDAHL RATIO_DIVERSITY_GINI  \\\n",
       "cutoff                                                                   \n",
       "10           10.911388                   0.998818             0.272504   \n",
       "\n",
       "       RATIO_SHANNON_ENTROPY RATIO_AVERAGE_POPULARITY RATIO_NOVELTY  \n",
       "cutoff                                                               \n",
       "10                  0.840571                  1.23532      0.315876  \n",
       "\n",
       "[1 rows x 27 columns]"
      ]
     },
     "metadata": {},
     "output_type": "display_data"
    }
   ],
   "source": [
    "pipeline_recommender = PipelineRecommender(\n",
    "    URM_train, \n",
    "    recommenders=[recommender_p3a, recommender_slim, hybrid_similarity], \n",
    "    cutoffs=[500, 100, 10]\n",
    ")\n",
    "\n",
    "result_df, _ = evaluator.evaluateRecommender(pipeline_recommender)\n",
    "display(result_df)"
   ]
  },
  {
   "cell_type": "code",
   "execution_count": 24,
   "id": "7decf1d3",
   "metadata": {
    "execution": {
     "iopub.execute_input": "2023-12-04T16:23:26.828435Z",
     "iopub.status.busy": "2023-12-04T16:23:26.827892Z",
     "iopub.status.idle": "2023-12-04T16:24:02.657460Z",
     "shell.execute_reply": "2023-12-04T16:24:02.656120Z"
    },
    "papermill": {
     "duration": 35.876506,
     "end_time": "2023-12-04T16:24:02.664059",
     "exception": false,
     "start_time": "2023-12-04T16:23:26.787553",
     "status": "completed"
    },
    "tags": []
   },
   "outputs": [
    {
     "name": "stdout",
     "output_type": "stream",
     "text": [
      "Recommender_Base_Class: URM Detected 627 ( 4.8%) users with no interactions.\n",
      "Recommender_Base_Class: URM Detected 247 ( 1.1%) items with no interactions.\n",
      "EvaluatorHoldout: Processed 10456 (100.0%) in 35.77 sec. Users per second: 292\n"
     ]
    },
    {
     "data": {
      "text/html": [
       "<div>\n",
       "<style scoped>\n",
       "    .dataframe tbody tr th:only-of-type {\n",
       "        vertical-align: middle;\n",
       "    }\n",
       "\n",
       "    .dataframe tbody tr th {\n",
       "        vertical-align: top;\n",
       "    }\n",
       "\n",
       "    .dataframe thead th {\n",
       "        text-align: right;\n",
       "    }\n",
       "</style>\n",
       "<table border=\"1\" class=\"dataframe\">\n",
       "  <thead>\n",
       "    <tr style=\"text-align: right;\">\n",
       "      <th></th>\n",
       "      <th>PRECISION</th>\n",
       "      <th>PRECISION_RECALL_MIN_DEN</th>\n",
       "      <th>RECALL</th>\n",
       "      <th>MAP</th>\n",
       "      <th>MAP_MIN_DEN</th>\n",
       "      <th>MRR</th>\n",
       "      <th>NDCG</th>\n",
       "      <th>F1</th>\n",
       "      <th>HIT_RATE</th>\n",
       "      <th>ARHR_ALL_HITS</th>\n",
       "      <th>...</th>\n",
       "      <th>COVERAGE_USER</th>\n",
       "      <th>COVERAGE_USER_HIT</th>\n",
       "      <th>USERS_IN_GT</th>\n",
       "      <th>DIVERSITY_GINI</th>\n",
       "      <th>SHANNON_ENTROPY</th>\n",
       "      <th>RATIO_DIVERSITY_HERFINDAHL</th>\n",
       "      <th>RATIO_DIVERSITY_GINI</th>\n",
       "      <th>RATIO_SHANNON_ENTROPY</th>\n",
       "      <th>RATIO_AVERAGE_POPULARITY</th>\n",
       "      <th>RATIO_NOVELTY</th>\n",
       "    </tr>\n",
       "    <tr>\n",
       "      <th>cutoff</th>\n",
       "      <th></th>\n",
       "      <th></th>\n",
       "      <th></th>\n",
       "      <th></th>\n",
       "      <th></th>\n",
       "      <th></th>\n",
       "      <th></th>\n",
       "      <th></th>\n",
       "      <th></th>\n",
       "      <th></th>\n",
       "      <th></th>\n",
       "      <th></th>\n",
       "      <th></th>\n",
       "      <th></th>\n",
       "      <th></th>\n",
       "      <th></th>\n",
       "      <th></th>\n",
       "      <th></th>\n",
       "      <th></th>\n",
       "      <th></th>\n",
       "      <th></th>\n",
       "    </tr>\n",
       "  </thead>\n",
       "  <tbody>\n",
       "    <tr>\n",
       "      <th>10</th>\n",
       "      <td>0.095285</td>\n",
       "      <td>0.160154</td>\n",
       "      <td>0.133994</td>\n",
       "      <td>0.049717</td>\n",
       "      <td>0.084183</td>\n",
       "      <td>0.273494</td>\n",
       "      <td>0.150159</td>\n",
       "      <td>0.111372</td>\n",
       "      <td>0.511477</td>\n",
       "      <td>0.363751</td>\n",
       "      <td>...</td>\n",
       "      <td>0.802826</td>\n",
       "      <td>0.410627</td>\n",
       "      <td>0.802826</td>\n",
       "      <td>0.109095</td>\n",
       "      <td>11.059248</td>\n",
       "      <td>0.998868</td>\n",
       "      <td>0.314784</td>\n",
       "      <td>0.851961</td>\n",
       "      <td>1.253873</td>\n",
       "      <td>0.315156</td>\n",
       "    </tr>\n",
       "  </tbody>\n",
       "</table>\n",
       "<p>1 rows × 27 columns</p>\n",
       "</div>"
      ],
      "text/plain": [
       "       PRECISION PRECISION_RECALL_MIN_DEN    RECALL       MAP MAP_MIN_DEN  \\\n",
       "cutoff                                                                      \n",
       "10      0.095285                 0.160154  0.133994  0.049717    0.084183   \n",
       "\n",
       "             MRR      NDCG        F1  HIT_RATE ARHR_ALL_HITS  ...  \\\n",
       "cutoff                                                        ...   \n",
       "10      0.273494  0.150159  0.111372  0.511477      0.363751  ...   \n",
       "\n",
       "       COVERAGE_USER COVERAGE_USER_HIT USERS_IN_GT DIVERSITY_GINI  \\\n",
       "cutoff                                                              \n",
       "10          0.802826          0.410627    0.802826       0.109095   \n",
       "\n",
       "       SHANNON_ENTROPY RATIO_DIVERSITY_HERFINDAHL RATIO_DIVERSITY_GINI  \\\n",
       "cutoff                                                                   \n",
       "10           11.059248                   0.998868             0.314784   \n",
       "\n",
       "       RATIO_SHANNON_ENTROPY RATIO_AVERAGE_POPULARITY RATIO_NOVELTY  \n",
       "cutoff                                                               \n",
       "10                  0.851961                 1.253873      0.315156  \n",
       "\n",
       "[1 rows x 27 columns]"
      ]
     },
     "metadata": {},
     "output_type": "display_data"
    }
   ],
   "source": [
    "pipeline_recommender = PipelineRecommender(\n",
    "    URM_train, \n",
    "    recommenders=[recommender_slim, recommender_p3a, hybrid_similarity], \n",
    "    cutoffs=[500, 100, 10]\n",
    ")\n",
    "\n",
    "result_df, _ = evaluator.evaluateRecommender(pipeline_recommender)\n",
    "display(result_df)"
   ]
  },
  {
   "cell_type": "code",
   "execution_count": 25,
   "id": "1e54766a",
   "metadata": {
    "execution": {
     "iopub.execute_input": "2023-12-04T16:24:02.737955Z",
     "iopub.status.busy": "2023-12-04T16:24:02.737111Z",
     "iopub.status.idle": "2023-12-04T16:24:38.380931Z",
     "shell.execute_reply": "2023-12-04T16:24:38.379406Z"
    },
    "papermill": {
     "duration": 35.687873,
     "end_time": "2023-12-04T16:24:38.387506",
     "exception": false,
     "start_time": "2023-12-04T16:24:02.699633",
     "status": "completed"
    },
    "tags": []
   },
   "outputs": [
    {
     "name": "stdout",
     "output_type": "stream",
     "text": [
      "Recommender_Base_Class: URM Detected 627 ( 4.8%) users with no interactions.\n",
      "Recommender_Base_Class: URM Detected 247 ( 1.1%) items with no interactions.\n",
      "EvaluatorHoldout: Processed 10456 (100.0%) in 35.58 sec. Users per second: 294\n"
     ]
    },
    {
     "data": {
      "text/html": [
       "<div>\n",
       "<style scoped>\n",
       "    .dataframe tbody tr th:only-of-type {\n",
       "        vertical-align: middle;\n",
       "    }\n",
       "\n",
       "    .dataframe tbody tr th {\n",
       "        vertical-align: top;\n",
       "    }\n",
       "\n",
       "    .dataframe thead th {\n",
       "        text-align: right;\n",
       "    }\n",
       "</style>\n",
       "<table border=\"1\" class=\"dataframe\">\n",
       "  <thead>\n",
       "    <tr style=\"text-align: right;\">\n",
       "      <th></th>\n",
       "      <th>PRECISION</th>\n",
       "      <th>PRECISION_RECALL_MIN_DEN</th>\n",
       "      <th>RECALL</th>\n",
       "      <th>MAP</th>\n",
       "      <th>MAP_MIN_DEN</th>\n",
       "      <th>MRR</th>\n",
       "      <th>NDCG</th>\n",
       "      <th>F1</th>\n",
       "      <th>HIT_RATE</th>\n",
       "      <th>ARHR_ALL_HITS</th>\n",
       "      <th>...</th>\n",
       "      <th>COVERAGE_USER</th>\n",
       "      <th>COVERAGE_USER_HIT</th>\n",
       "      <th>USERS_IN_GT</th>\n",
       "      <th>DIVERSITY_GINI</th>\n",
       "      <th>SHANNON_ENTROPY</th>\n",
       "      <th>RATIO_DIVERSITY_HERFINDAHL</th>\n",
       "      <th>RATIO_DIVERSITY_GINI</th>\n",
       "      <th>RATIO_SHANNON_ENTROPY</th>\n",
       "      <th>RATIO_AVERAGE_POPULARITY</th>\n",
       "      <th>RATIO_NOVELTY</th>\n",
       "    </tr>\n",
       "    <tr>\n",
       "      <th>cutoff</th>\n",
       "      <th></th>\n",
       "      <th></th>\n",
       "      <th></th>\n",
       "      <th></th>\n",
       "      <th></th>\n",
       "      <th></th>\n",
       "      <th></th>\n",
       "      <th></th>\n",
       "      <th></th>\n",
       "      <th></th>\n",
       "      <th></th>\n",
       "      <th></th>\n",
       "      <th></th>\n",
       "      <th></th>\n",
       "      <th></th>\n",
       "      <th></th>\n",
       "      <th></th>\n",
       "      <th></th>\n",
       "      <th></th>\n",
       "      <th></th>\n",
       "      <th></th>\n",
       "    </tr>\n",
       "  </thead>\n",
       "  <tbody>\n",
       "    <tr>\n",
       "      <th>10</th>\n",
       "      <td>0.092626</td>\n",
       "      <td>0.156961</td>\n",
       "      <td>0.131649</td>\n",
       "      <td>0.047833</td>\n",
       "      <td>0.081607</td>\n",
       "      <td>0.268045</td>\n",
       "      <td>0.146473</td>\n",
       "      <td>0.108743</td>\n",
       "      <td>0.508512</td>\n",
       "      <td>0.353281</td>\n",
       "      <td>...</td>\n",
       "      <td>0.802826</td>\n",
       "      <td>0.408246</td>\n",
       "      <td>0.802826</td>\n",
       "      <td>0.094135</td>\n",
       "      <td>10.915345</td>\n",
       "      <td>0.998808</td>\n",
       "      <td>0.271616</td>\n",
       "      <td>0.840876</td>\n",
       "      <td>1.318638</td>\n",
       "      <td>0.311069</td>\n",
       "    </tr>\n",
       "  </tbody>\n",
       "</table>\n",
       "<p>1 rows × 27 columns</p>\n",
       "</div>"
      ],
      "text/plain": [
       "       PRECISION PRECISION_RECALL_MIN_DEN    RECALL       MAP MAP_MIN_DEN  \\\n",
       "cutoff                                                                      \n",
       "10      0.092626                 0.156961  0.131649  0.047833    0.081607   \n",
       "\n",
       "             MRR      NDCG        F1  HIT_RATE ARHR_ALL_HITS  ...  \\\n",
       "cutoff                                                        ...   \n",
       "10      0.268045  0.146473  0.108743  0.508512      0.353281  ...   \n",
       "\n",
       "       COVERAGE_USER COVERAGE_USER_HIT USERS_IN_GT DIVERSITY_GINI  \\\n",
       "cutoff                                                              \n",
       "10          0.802826          0.408246    0.802826       0.094135   \n",
       "\n",
       "       SHANNON_ENTROPY RATIO_DIVERSITY_HERFINDAHL RATIO_DIVERSITY_GINI  \\\n",
       "cutoff                                                                   \n",
       "10           10.915345                   0.998808             0.271616   \n",
       "\n",
       "       RATIO_SHANNON_ENTROPY RATIO_AVERAGE_POPULARITY RATIO_NOVELTY  \n",
       "cutoff                                                               \n",
       "10                  0.840876                 1.318638      0.311069  \n",
       "\n",
       "[1 rows x 27 columns]"
      ]
     },
     "metadata": {},
     "output_type": "display_data"
    }
   ],
   "source": [
    "pipeline_recommender = PipelineRecommender(\n",
    "    URM_train, \n",
    "    recommenders=[recommender_slim, hybrid_similarity, recommender_p3a], \n",
    "    cutoffs=[500, 100, 10]\n",
    ")\n",
    "\n",
    "result_df, _ = evaluator.evaluateRecommender(pipeline_recommender)\n",
    "display(result_df)"
   ]
  },
  {
   "cell_type": "code",
   "execution_count": 26,
   "id": "975c2aff",
   "metadata": {
    "execution": {
     "iopub.execute_input": "2023-12-04T16:24:38.461700Z",
     "iopub.status.busy": "2023-12-04T16:24:38.461174Z",
     "iopub.status.idle": "2023-12-04T16:25:09.357448Z",
     "shell.execute_reply": "2023-12-04T16:25:09.356213Z"
    },
    "papermill": {
     "duration": 30.94452,
     "end_time": "2023-12-04T16:25:09.368720",
     "exception": false,
     "start_time": "2023-12-04T16:24:38.424200",
     "status": "completed"
    },
    "tags": []
   },
   "outputs": [
    {
     "name": "stdout",
     "output_type": "stream",
     "text": [
      "Recommender_Base_Class: URM Detected 627 ( 4.8%) users with no interactions.\n",
      "Recommender_Base_Class: URM Detected 247 ( 1.1%) items with no interactions.\n",
      "EvaluatorHoldout: Processed 10456 (100.0%) in 30.84 sec. Users per second: 339\n"
     ]
    },
    {
     "data": {
      "text/html": [
       "<div>\n",
       "<style scoped>\n",
       "    .dataframe tbody tr th:only-of-type {\n",
       "        vertical-align: middle;\n",
       "    }\n",
       "\n",
       "    .dataframe tbody tr th {\n",
       "        vertical-align: top;\n",
       "    }\n",
       "\n",
       "    .dataframe thead th {\n",
       "        text-align: right;\n",
       "    }\n",
       "</style>\n",
       "<table border=\"1\" class=\"dataframe\">\n",
       "  <thead>\n",
       "    <tr style=\"text-align: right;\">\n",
       "      <th></th>\n",
       "      <th>PRECISION</th>\n",
       "      <th>PRECISION_RECALL_MIN_DEN</th>\n",
       "      <th>RECALL</th>\n",
       "      <th>MAP</th>\n",
       "      <th>MAP_MIN_DEN</th>\n",
       "      <th>MRR</th>\n",
       "      <th>NDCG</th>\n",
       "      <th>F1</th>\n",
       "      <th>HIT_RATE</th>\n",
       "      <th>ARHR_ALL_HITS</th>\n",
       "      <th>...</th>\n",
       "      <th>COVERAGE_USER</th>\n",
       "      <th>COVERAGE_USER_HIT</th>\n",
       "      <th>USERS_IN_GT</th>\n",
       "      <th>DIVERSITY_GINI</th>\n",
       "      <th>SHANNON_ENTROPY</th>\n",
       "      <th>RATIO_DIVERSITY_HERFINDAHL</th>\n",
       "      <th>RATIO_DIVERSITY_GINI</th>\n",
       "      <th>RATIO_SHANNON_ENTROPY</th>\n",
       "      <th>RATIO_AVERAGE_POPULARITY</th>\n",
       "      <th>RATIO_NOVELTY</th>\n",
       "    </tr>\n",
       "    <tr>\n",
       "      <th>cutoff</th>\n",
       "      <th></th>\n",
       "      <th></th>\n",
       "      <th></th>\n",
       "      <th></th>\n",
       "      <th></th>\n",
       "      <th></th>\n",
       "      <th></th>\n",
       "      <th></th>\n",
       "      <th></th>\n",
       "      <th></th>\n",
       "      <th></th>\n",
       "      <th></th>\n",
       "      <th></th>\n",
       "      <th></th>\n",
       "      <th></th>\n",
       "      <th></th>\n",
       "      <th></th>\n",
       "      <th></th>\n",
       "      <th></th>\n",
       "      <th></th>\n",
       "      <th></th>\n",
       "    </tr>\n",
       "  </thead>\n",
       "  <tbody>\n",
       "    <tr>\n",
       "      <th>10</th>\n",
       "      <td>0.096729</td>\n",
       "      <td>0.161391</td>\n",
       "      <td>0.134808</td>\n",
       "      <td>0.051052</td>\n",
       "      <td>0.085452</td>\n",
       "      <td>0.281794</td>\n",
       "      <td>0.152703</td>\n",
       "      <td>0.112637</td>\n",
       "      <td>0.520371</td>\n",
       "      <td>0.374193</td>\n",
       "      <td>...</td>\n",
       "      <td>0.802826</td>\n",
       "      <td>0.417767</td>\n",
       "      <td>0.802826</td>\n",
       "      <td>0.085375</td>\n",
       "      <td>10.948049</td>\n",
       "      <td>0.999059</td>\n",
       "      <td>0.246342</td>\n",
       "      <td>0.843395</td>\n",
       "      <td>1.234038</td>\n",
       "      <td>0.312293</td>\n",
       "    </tr>\n",
       "  </tbody>\n",
       "</table>\n",
       "<p>1 rows × 27 columns</p>\n",
       "</div>"
      ],
      "text/plain": [
       "       PRECISION PRECISION_RECALL_MIN_DEN    RECALL       MAP MAP_MIN_DEN  \\\n",
       "cutoff                                                                      \n",
       "10      0.096729                 0.161391  0.134808  0.051052    0.085452   \n",
       "\n",
       "             MRR      NDCG        F1  HIT_RATE ARHR_ALL_HITS  ...  \\\n",
       "cutoff                                                        ...   \n",
       "10      0.281794  0.152703  0.112637  0.520371      0.374193  ...   \n",
       "\n",
       "       COVERAGE_USER COVERAGE_USER_HIT USERS_IN_GT DIVERSITY_GINI  \\\n",
       "cutoff                                                              \n",
       "10          0.802826          0.417767    0.802826       0.085375   \n",
       "\n",
       "       SHANNON_ENTROPY RATIO_DIVERSITY_HERFINDAHL RATIO_DIVERSITY_GINI  \\\n",
       "cutoff                                                                   \n",
       "10           10.948049                   0.999059             0.246342   \n",
       "\n",
       "       RATIO_SHANNON_ENTROPY RATIO_AVERAGE_POPULARITY RATIO_NOVELTY  \n",
       "cutoff                                                               \n",
       "10                  0.843395                 1.234038      0.312293  \n",
       "\n",
       "[1 rows x 27 columns]"
      ]
     },
     "metadata": {},
     "output_type": "display_data"
    }
   ],
   "source": [
    "pipeline_recommender = PipelineRecommender(\n",
    "    URM_train, \n",
    "    recommenders=[hybrid_similarity, recommender_p3a, recommender_slim], \n",
    "    cutoffs=[500, 100, 10]\n",
    ")\n",
    "\n",
    "result_df, _ = evaluator.evaluateRecommender(pipeline_recommender)\n",
    "display(result_df)"
   ]
  },
  {
   "cell_type": "code",
   "execution_count": 27,
   "id": "9f284c84",
   "metadata": {
    "execution": {
     "iopub.execute_input": "2023-12-04T16:25:09.448335Z",
     "iopub.status.busy": "2023-12-04T16:25:09.447728Z",
     "iopub.status.idle": "2023-12-04T16:25:40.326055Z",
     "shell.execute_reply": "2023-12-04T16:25:40.324689Z"
    },
    "papermill": {
     "duration": 30.931784,
     "end_time": "2023-12-04T16:25:40.338302",
     "exception": false,
     "start_time": "2023-12-04T16:25:09.406518",
     "status": "completed"
    },
    "tags": []
   },
   "outputs": [
    {
     "name": "stdout",
     "output_type": "stream",
     "text": [
      "Recommender_Base_Class: URM Detected 627 ( 4.8%) users with no interactions.\n",
      "Recommender_Base_Class: URM Detected 247 ( 1.1%) items with no interactions.\n",
      "EvaluatorHoldout: Processed 10456 (100.0%) in 30.81 sec. Users per second: 339\n"
     ]
    },
    {
     "data": {
      "text/html": [
       "<div>\n",
       "<style scoped>\n",
       "    .dataframe tbody tr th:only-of-type {\n",
       "        vertical-align: middle;\n",
       "    }\n",
       "\n",
       "    .dataframe tbody tr th {\n",
       "        vertical-align: top;\n",
       "    }\n",
       "\n",
       "    .dataframe thead th {\n",
       "        text-align: right;\n",
       "    }\n",
       "</style>\n",
       "<table border=\"1\" class=\"dataframe\">\n",
       "  <thead>\n",
       "    <tr style=\"text-align: right;\">\n",
       "      <th></th>\n",
       "      <th>PRECISION</th>\n",
       "      <th>PRECISION_RECALL_MIN_DEN</th>\n",
       "      <th>RECALL</th>\n",
       "      <th>MAP</th>\n",
       "      <th>MAP_MIN_DEN</th>\n",
       "      <th>MRR</th>\n",
       "      <th>NDCG</th>\n",
       "      <th>F1</th>\n",
       "      <th>HIT_RATE</th>\n",
       "      <th>ARHR_ALL_HITS</th>\n",
       "      <th>...</th>\n",
       "      <th>COVERAGE_USER</th>\n",
       "      <th>COVERAGE_USER_HIT</th>\n",
       "      <th>USERS_IN_GT</th>\n",
       "      <th>DIVERSITY_GINI</th>\n",
       "      <th>SHANNON_ENTROPY</th>\n",
       "      <th>RATIO_DIVERSITY_HERFINDAHL</th>\n",
       "      <th>RATIO_DIVERSITY_GINI</th>\n",
       "      <th>RATIO_SHANNON_ENTROPY</th>\n",
       "      <th>RATIO_AVERAGE_POPULARITY</th>\n",
       "      <th>RATIO_NOVELTY</th>\n",
       "    </tr>\n",
       "    <tr>\n",
       "      <th>cutoff</th>\n",
       "      <th></th>\n",
       "      <th></th>\n",
       "      <th></th>\n",
       "      <th></th>\n",
       "      <th></th>\n",
       "      <th></th>\n",
       "      <th></th>\n",
       "      <th></th>\n",
       "      <th></th>\n",
       "      <th></th>\n",
       "      <th></th>\n",
       "      <th></th>\n",
       "      <th></th>\n",
       "      <th></th>\n",
       "      <th></th>\n",
       "      <th></th>\n",
       "      <th></th>\n",
       "      <th></th>\n",
       "      <th></th>\n",
       "      <th></th>\n",
       "      <th></th>\n",
       "    </tr>\n",
       "  </thead>\n",
       "  <tbody>\n",
       "    <tr>\n",
       "      <th>10</th>\n",
       "      <td>0.092636</td>\n",
       "      <td>0.156526</td>\n",
       "      <td>0.131151</td>\n",
       "      <td>0.047868</td>\n",
       "      <td>0.081592</td>\n",
       "      <td>0.268053</td>\n",
       "      <td>0.146378</td>\n",
       "      <td>0.108579</td>\n",
       "      <td>0.507938</td>\n",
       "      <td>0.353398</td>\n",
       "      <td>...</td>\n",
       "      <td>0.802826</td>\n",
       "      <td>0.407786</td>\n",
       "      <td>0.802826</td>\n",
       "      <td>0.081093</td>\n",
       "      <td>10.747179</td>\n",
       "      <td>0.998698</td>\n",
       "      <td>0.233986</td>\n",
       "      <td>0.827921</td>\n",
       "      <td>1.315881</td>\n",
       "      <td>0.311402</td>\n",
       "    </tr>\n",
       "  </tbody>\n",
       "</table>\n",
       "<p>1 rows × 27 columns</p>\n",
       "</div>"
      ],
      "text/plain": [
       "       PRECISION PRECISION_RECALL_MIN_DEN    RECALL       MAP MAP_MIN_DEN  \\\n",
       "cutoff                                                                      \n",
       "10      0.092636                 0.156526  0.131151  0.047868    0.081592   \n",
       "\n",
       "             MRR      NDCG        F1  HIT_RATE ARHR_ALL_HITS  ...  \\\n",
       "cutoff                                                        ...   \n",
       "10      0.268053  0.146378  0.108579  0.507938      0.353398  ...   \n",
       "\n",
       "       COVERAGE_USER COVERAGE_USER_HIT USERS_IN_GT DIVERSITY_GINI  \\\n",
       "cutoff                                                              \n",
       "10          0.802826          0.407786    0.802826       0.081093   \n",
       "\n",
       "       SHANNON_ENTROPY RATIO_DIVERSITY_HERFINDAHL RATIO_DIVERSITY_GINI  \\\n",
       "cutoff                                                                   \n",
       "10           10.747179                   0.998698             0.233986   \n",
       "\n",
       "       RATIO_SHANNON_ENTROPY RATIO_AVERAGE_POPULARITY RATIO_NOVELTY  \n",
       "cutoff                                                               \n",
       "10                  0.827921                 1.315881      0.311402  \n",
       "\n",
       "[1 rows x 27 columns]"
      ]
     },
     "metadata": {},
     "output_type": "display_data"
    }
   ],
   "source": [
    "pipeline_recommender = PipelineRecommender(\n",
    "    URM_train, \n",
    "    recommenders=[hybrid_similarity, recommender_slim, recommender_p3a], \n",
    "    cutoffs=[500, 100, 10]\n",
    ")\n",
    "\n",
    "result_df, _ = evaluator.evaluateRecommender(pipeline_recommender)\n",
    "display(result_df)"
   ]
  },
  {
   "cell_type": "code",
   "execution_count": 28,
   "id": "fa677124",
   "metadata": {
    "execution": {
     "iopub.execute_input": "2023-12-04T16:25:40.416772Z",
     "iopub.status.busy": "2023-12-04T16:25:40.416180Z",
     "iopub.status.idle": "2023-12-04T16:26:03.683609Z",
     "shell.execute_reply": "2023-12-04T16:26:03.682267Z"
    },
    "papermill": {
     "duration": 23.309864,
     "end_time": "2023-12-04T16:26:03.686774",
     "exception": false,
     "start_time": "2023-12-04T16:25:40.376910",
     "status": "completed"
    },
    "tags": []
   },
   "outputs": [
    {
     "name": "stdout",
     "output_type": "stream",
     "text": [
      "Recommender_Base_Class: URM Detected 627 ( 4.8%) users with no interactions.\n",
      "Recommender_Base_Class: URM Detected 247 ( 1.1%) items with no interactions.\n",
      "EvaluatorHoldout: Processed 10456 (100.0%) in 23.21 sec. Users per second: 450\n"
     ]
    },
    {
     "data": {
      "text/html": [
       "<div>\n",
       "<style scoped>\n",
       "    .dataframe tbody tr th:only-of-type {\n",
       "        vertical-align: middle;\n",
       "    }\n",
       "\n",
       "    .dataframe tbody tr th {\n",
       "        vertical-align: top;\n",
       "    }\n",
       "\n",
       "    .dataframe thead th {\n",
       "        text-align: right;\n",
       "    }\n",
       "</style>\n",
       "<table border=\"1\" class=\"dataframe\">\n",
       "  <thead>\n",
       "    <tr style=\"text-align: right;\">\n",
       "      <th></th>\n",
       "      <th>PRECISION</th>\n",
       "      <th>PRECISION_RECALL_MIN_DEN</th>\n",
       "      <th>RECALL</th>\n",
       "      <th>MAP</th>\n",
       "      <th>MAP_MIN_DEN</th>\n",
       "      <th>MRR</th>\n",
       "      <th>NDCG</th>\n",
       "      <th>F1</th>\n",
       "      <th>HIT_RATE</th>\n",
       "      <th>ARHR_ALL_HITS</th>\n",
       "      <th>...</th>\n",
       "      <th>COVERAGE_USER</th>\n",
       "      <th>COVERAGE_USER_HIT</th>\n",
       "      <th>USERS_IN_GT</th>\n",
       "      <th>DIVERSITY_GINI</th>\n",
       "      <th>SHANNON_ENTROPY</th>\n",
       "      <th>RATIO_DIVERSITY_HERFINDAHL</th>\n",
       "      <th>RATIO_DIVERSITY_GINI</th>\n",
       "      <th>RATIO_SHANNON_ENTROPY</th>\n",
       "      <th>RATIO_AVERAGE_POPULARITY</th>\n",
       "      <th>RATIO_NOVELTY</th>\n",
       "    </tr>\n",
       "    <tr>\n",
       "      <th>cutoff</th>\n",
       "      <th></th>\n",
       "      <th></th>\n",
       "      <th></th>\n",
       "      <th></th>\n",
       "      <th></th>\n",
       "      <th></th>\n",
       "      <th></th>\n",
       "      <th></th>\n",
       "      <th></th>\n",
       "      <th></th>\n",
       "      <th></th>\n",
       "      <th></th>\n",
       "      <th></th>\n",
       "      <th></th>\n",
       "      <th></th>\n",
       "      <th></th>\n",
       "      <th></th>\n",
       "      <th></th>\n",
       "      <th></th>\n",
       "      <th></th>\n",
       "      <th></th>\n",
       "    </tr>\n",
       "  </thead>\n",
       "  <tbody>\n",
       "    <tr>\n",
       "      <th>10</th>\n",
       "      <td>0.097676</td>\n",
       "      <td>0.164717</td>\n",
       "      <td>0.138078</td>\n",
       "      <td>0.0513</td>\n",
       "      <td>0.086171</td>\n",
       "      <td>0.282314</td>\n",
       "      <td>0.154193</td>\n",
       "      <td>0.114415</td>\n",
       "      <td>0.524005</td>\n",
       "      <td>0.375518</td>\n",
       "      <td>...</td>\n",
       "      <td>0.802826</td>\n",
       "      <td>0.420685</td>\n",
       "      <td>0.802826</td>\n",
       "      <td>0.077172</td>\n",
       "      <td>10.790301</td>\n",
       "      <td>0.998918</td>\n",
       "      <td>0.222673</td>\n",
       "      <td>0.831243</td>\n",
       "      <td>1.391342</td>\n",
       "      <td>0.306537</td>\n",
       "    </tr>\n",
       "  </tbody>\n",
       "</table>\n",
       "<p>1 rows × 27 columns</p>\n",
       "</div>"
      ],
      "text/plain": [
       "       PRECISION PRECISION_RECALL_MIN_DEN    RECALL     MAP MAP_MIN_DEN  \\\n",
       "cutoff                                                                    \n",
       "10      0.097676                 0.164717  0.138078  0.0513    0.086171   \n",
       "\n",
       "             MRR      NDCG        F1  HIT_RATE ARHR_ALL_HITS  ...  \\\n",
       "cutoff                                                        ...   \n",
       "10      0.282314  0.154193  0.114415  0.524005      0.375518  ...   \n",
       "\n",
       "       COVERAGE_USER COVERAGE_USER_HIT USERS_IN_GT DIVERSITY_GINI  \\\n",
       "cutoff                                                              \n",
       "10          0.802826          0.420685    0.802826       0.077172   \n",
       "\n",
       "       SHANNON_ENTROPY RATIO_DIVERSITY_HERFINDAHL RATIO_DIVERSITY_GINI  \\\n",
       "cutoff                                                                   \n",
       "10           10.790301                   0.998918             0.222673   \n",
       "\n",
       "       RATIO_SHANNON_ENTROPY RATIO_AVERAGE_POPULARITY RATIO_NOVELTY  \n",
       "cutoff                                                               \n",
       "10                  0.831243                 1.391342      0.306537  \n",
       "\n",
       "[1 rows x 27 columns]"
      ]
     },
     "metadata": {},
     "output_type": "display_data"
    }
   ],
   "source": [
    "pipeline_recommender = PipelineRecommender(\n",
    "    URM_train,\n",
    "    recommenders=[hybrid_similarity, recommender_slim], \n",
    "    cutoffs=[100, 10]\n",
    ")\n",
    "\n",
    "result_df, _ = evaluator.evaluateRecommender(pipeline_recommender)\n",
    "display(result_df)"
   ]
  },
  {
   "cell_type": "code",
   "execution_count": 29,
   "id": "7b3112ce",
   "metadata": {
    "execution": {
     "iopub.execute_input": "2023-12-04T16:26:03.766576Z",
     "iopub.status.busy": "2023-12-04T16:26:03.766058Z",
     "iopub.status.idle": "2023-12-04T16:26:03.773378Z",
     "shell.execute_reply": "2023-12-04T16:26:03.772059Z"
    },
    "papermill": {
     "duration": 0.051013,
     "end_time": "2023-12-04T16:26:03.776313",
     "exception": false,
     "start_time": "2023-12-04T16:26:03.725300",
     "status": "completed"
    },
    "tags": []
   },
   "outputs": [],
   "source": [
    "def objective(trial):\n",
    "    # cutoff_p3alpha = trial.suggest_int('cutoff_p3alpha', 11, 2000)\n",
    "    # cutoff_merging = trial.suggest_int('cutoff_merging', 10, cutoff_p3alpha)\n",
    "    cutoff = trial.suggest_int('cutoff', 10, 2000)\n",
    "    \n",
    "    pipeline_recommender = PipelineRecommender(\n",
    "        URM_train, \n",
    "        recommenders=[hybrid_similarity, recommender_slim], \n",
    "        cutoffs=[cutoff, 10]\n",
    "    )\n",
    "\n",
    "    result_df, _ = evaluator.evaluateRecommender(pipeline_recommender)\n",
    "    return result_df.loc[10, 'MAP']"
   ]
  },
  {
   "cell_type": "code",
   "execution_count": 30,
   "id": "4e8dafa4",
   "metadata": {
    "execution": {
     "iopub.execute_input": "2023-12-04T16:26:03.856944Z",
     "iopub.status.busy": "2023-12-04T16:26:03.856434Z",
     "iopub.status.idle": "2023-12-04T16:26:03.864665Z",
     "shell.execute_reply": "2023-12-04T16:26:03.863063Z"
    },
    "papermill": {
     "duration": 0.051716,
     "end_time": "2023-12-04T16:26:03.867730",
     "exception": false,
     "start_time": "2023-12-04T16:26:03.816014",
     "status": "completed"
    },
    "tags": []
   },
   "outputs": [],
   "source": [
    "try:\n",
    "    shutil.copyfile(\n",
    "        '/kaggle/working/Recsys_Challenge_2023/tuning_results/tuning_hybrid.db', \n",
    "        config['database_path']\n",
    "    )\n",
    "except FileNotFoundError:\n",
    "    pass # if not present optuna will create it"
   ]
  },
  {
   "cell_type": "code",
   "execution_count": 31,
   "id": "15c766f3",
   "metadata": {
    "execution": {
     "iopub.execute_input": "2023-12-04T16:26:03.951443Z",
     "iopub.status.busy": "2023-12-04T16:26:03.950387Z",
     "iopub.status.idle": "2023-12-04T19:02:41.273399Z",
     "shell.execute_reply": "2023-12-04T19:02:41.271805Z"
    },
    "papermill": {
     "duration": 9397.477971,
     "end_time": "2023-12-04T19:02:41.385435",
     "exception": false,
     "start_time": "2023-12-04T16:26:03.907464",
     "status": "completed"
    },
    "tags": []
   },
   "outputs": [
    {
     "name": "stderr",
     "output_type": "stream",
     "text": [
      "[I 2023-12-04 16:26:04,533] A new study created in RDB with name: hyperparameters_tuning_2stage_pipeline\n"
     ]
    },
    {
     "name": "stdout",
     "output_type": "stream",
     "text": [
      "Recommender_Base_Class: URM Detected 627 ( 4.8%) users with no interactions.\n",
      "Recommender_Base_Class: URM Detected 247 ( 1.1%) items with no interactions.\n",
      "EvaluatorHoldout: Processed 10456 (100.0%) in 23.56 sec. Users per second: 444\n"
     ]
    },
    {
     "name": "stderr",
     "output_type": "stream",
     "text": [
      "[I 2023-12-04 16:26:28,292] Trial 0 finished with value: 0.05123705839132441 and parameters: {'cutoff': 751}. Best is trial 0 with value: 0.05123705839132441.\n"
     ]
    },
    {
     "name": "stdout",
     "output_type": "stream",
     "text": [
      "Recommender_Base_Class: URM Detected 627 ( 4.8%) users with no interactions.\n",
      "Recommender_Base_Class: URM Detected 247 ( 1.1%) items with no interactions.\n",
      "EvaluatorHoldout: Processed 10456 (100.0%) in 23.92 sec. Users per second: 437\n"
     ]
    },
    {
     "name": "stderr",
     "output_type": "stream",
     "text": [
      "[I 2023-12-04 16:26:52,343] Trial 1 finished with value: 0.05123678134222372 and parameters: {'cutoff': 1894}. Best is trial 0 with value: 0.05123705839132441.\n"
     ]
    },
    {
     "name": "stdout",
     "output_type": "stream",
     "text": [
      "Recommender_Base_Class: URM Detected 627 ( 4.8%) users with no interactions.\n",
      "Recommender_Base_Class: URM Detected 247 ( 1.1%) items with no interactions.\n",
      "EvaluatorHoldout: Processed 10456 (100.0%) in 23.77 sec. Users per second: 440\n"
     ]
    },
    {
     "name": "stderr",
     "output_type": "stream",
     "text": [
      "[I 2023-12-04 16:27:16,256] Trial 2 finished with value: 0.05123745688660622 and parameters: {'cutoff': 672}. Best is trial 2 with value: 0.05123745688660622.\n"
     ]
    },
    {
     "name": "stdout",
     "output_type": "stream",
     "text": [
      "Recommender_Base_Class: URM Detected 627 ( 4.8%) users with no interactions.\n",
      "Recommender_Base_Class: URM Detected 247 ( 1.1%) items with no interactions.\n",
      "EvaluatorHoldout: Processed 10456 (100.0%) in 23.70 sec. Users per second: 441\n"
     ]
    },
    {
     "name": "stderr",
     "output_type": "stream",
     "text": [
      "[I 2023-12-04 16:27:40,095] Trial 3 finished with value: 0.05123695212591592 and parameters: {'cutoff': 842}. Best is trial 2 with value: 0.05123745688660622.\n"
     ]
    },
    {
     "name": "stdout",
     "output_type": "stream",
     "text": [
      "Recommender_Base_Class: URM Detected 627 ( 4.8%) users with no interactions.\n",
      "Recommender_Base_Class: URM Detected 247 ( 1.1%) items with no interactions.\n",
      "EvaluatorHoldout: Processed 10456 (100.0%) in 23.75 sec. Users per second: 440\n"
     ]
    },
    {
     "name": "stderr",
     "output_type": "stream",
     "text": [
      "[I 2023-12-04 16:28:03,991] Trial 4 finished with value: 0.051237912309785444 and parameters: {'cutoff': 635}. Best is trial 4 with value: 0.051237912309785444.\n"
     ]
    },
    {
     "name": "stdout",
     "output_type": "stream",
     "text": [
      "Recommender_Base_Class: URM Detected 627 ( 4.8%) users with no interactions.\n",
      "Recommender_Base_Class: URM Detected 247 ( 1.1%) items with no interactions.\n",
      "EvaluatorHoldout: Processed 10456 (100.0%) in 24.09 sec. Users per second: 434\n"
     ]
    },
    {
     "name": "stderr",
     "output_type": "stream",
     "text": [
      "[I 2023-12-04 16:28:28,223] Trial 5 finished with value: 0.05123664851046311 and parameters: {'cutoff': 1982}. Best is trial 4 with value: 0.051237912309785444.\n"
     ]
    },
    {
     "name": "stdout",
     "output_type": "stream",
     "text": [
      "Recommender_Base_Class: URM Detected 627 ( 4.8%) users with no interactions.\n",
      "Recommender_Base_Class: URM Detected 247 ( 1.1%) items with no interactions.\n",
      "EvaluatorHoldout: Processed 10456 (100.0%) in 24.01 sec. Users per second: 435\n"
     ]
    },
    {
     "name": "stderr",
     "output_type": "stream",
     "text": [
      "[I 2023-12-04 16:28:52,372] Trial 6 finished with value: 0.05123678134222372 and parameters: {'cutoff': 1850}. Best is trial 4 with value: 0.051237912309785444.\n"
     ]
    },
    {
     "name": "stdout",
     "output_type": "stream",
     "text": [
      "Recommender_Base_Class: URM Detected 627 ( 4.8%) users with no interactions.\n",
      "Recommender_Base_Class: URM Detected 247 ( 1.1%) items with no interactions.\n",
      "EvaluatorHoldout: Processed 10456 (100.0%) in 23.61 sec. Users per second: 443\n"
     ]
    },
    {
     "name": "stderr",
     "output_type": "stream",
     "text": [
      "[I 2023-12-04 16:29:16,121] Trial 7 finished with value: 0.05123695212591592 and parameters: {'cutoff': 1235}. Best is trial 4 with value: 0.051237912309785444.\n"
     ]
    },
    {
     "name": "stdout",
     "output_type": "stream",
     "text": [
      "Recommender_Base_Class: URM Detected 627 ( 4.8%) users with no interactions.\n",
      "Recommender_Base_Class: URM Detected 247 ( 1.1%) items with no interactions.\n",
      "EvaluatorHoldout: Processed 10456 (100.0%) in 24.01 sec. Users per second: 435\n"
     ]
    },
    {
     "name": "stderr",
     "output_type": "stream",
     "text": [
      "[I 2023-12-04 16:29:40,269] Trial 8 finished with value: 0.05123678134222372 and parameters: {'cutoff': 1674}. Best is trial 4 with value: 0.051237912309785444.\n"
     ]
    },
    {
     "name": "stdout",
     "output_type": "stream",
     "text": [
      "Recommender_Base_Class: URM Detected 627 ( 4.8%) users with no interactions.\n",
      "Recommender_Base_Class: URM Detected 247 ( 1.1%) items with no interactions.\n",
      "EvaluatorHoldout: Processed 10456 (100.0%) in 23.10 sec. Users per second: 453\n"
     ]
    },
    {
     "name": "stderr",
     "output_type": "stream",
     "text": [
      "[I 2023-12-04 16:30:03,504] Trial 9 finished with value: 0.05129852533974618 and parameters: {'cutoff': 98}. Best is trial 9 with value: 0.05129852533974618.\n"
     ]
    },
    {
     "name": "stdout",
     "output_type": "stream",
     "text": [
      "Recommender_Base_Class: URM Detected 627 ( 4.8%) users with no interactions.\n",
      "Recommender_Base_Class: URM Detected 247 ( 1.1%) items with no interactions.\n",
      "EvaluatorHoldout: Processed 10456 (100.0%) in 23.12 sec. Users per second: 452\n"
     ]
    },
    {
     "name": "stderr",
     "output_type": "stream",
     "text": [
      "[I 2023-12-04 16:30:26,768] Trial 10 finished with value: 0.05129852533974618 and parameters: {'cutoff': 98}. Best is trial 9 with value: 0.05129852533974618.\n"
     ]
    },
    {
     "name": "stdout",
     "output_type": "stream",
     "text": [
      "Recommender_Base_Class: URM Detected 627 ( 4.8%) users with no interactions.\n",
      "Recommender_Base_Class: URM Detected 247 ( 1.1%) items with no interactions.\n",
      "EvaluatorHoldout: Processed 10456 (100.0%) in 23.24 sec. Users per second: 450\n"
     ]
    },
    {
     "name": "stderr",
     "output_type": "stream",
     "text": [
      "[I 2023-12-04 16:30:50,157] Trial 11 finished with value: 0.051586052968752405 and parameters: {'cutoff': 16}. Best is trial 11 with value: 0.051586052968752405.\n"
     ]
    },
    {
     "name": "stdout",
     "output_type": "stream",
     "text": [
      "Recommender_Base_Class: URM Detected 627 ( 4.8%) users with no interactions.\n",
      "Recommender_Base_Class: URM Detected 247 ( 1.1%) items with no interactions.\n",
      "EvaluatorHoldout: Processed 10456 (100.0%) in 23.21 sec. Users per second: 451\n"
     ]
    },
    {
     "name": "stderr",
     "output_type": "stream",
     "text": [
      "[I 2023-12-04 16:31:13,513] Trial 12 finished with value: 0.051296513887371296 and parameters: {'cutoff': 90}. Best is trial 11 with value: 0.051586052968752405.\n"
     ]
    },
    {
     "name": "stdout",
     "output_type": "stream",
     "text": [
      "Recommender_Base_Class: URM Detected 627 ( 4.8%) users with no interactions.\n",
      "Recommender_Base_Class: URM Detected 247 ( 1.1%) items with no interactions.\n",
      "EvaluatorHoldout: Processed 10456 (100.0%) in 23.33 sec. Users per second: 448\n"
     ]
    },
    {
     "name": "stderr",
     "output_type": "stream",
     "text": [
      "[I 2023-12-04 16:31:36,986] Trial 13 finished with value: 0.05124248172235027 and parameters: {'cutoff': 367}. Best is trial 11 with value: 0.051586052968752405.\n"
     ]
    },
    {
     "name": "stdout",
     "output_type": "stream",
     "text": [
      "Recommender_Base_Class: URM Detected 627 ( 4.8%) users with no interactions.\n",
      "Recommender_Base_Class: URM Detected 247 ( 1.1%) items with no interactions.\n",
      "EvaluatorHoldout: Processed 10456 (100.0%) in 23.47 sec. Users per second: 445\n"
     ]
    },
    {
     "name": "stderr",
     "output_type": "stream",
     "text": [
      "[I 2023-12-04 16:32:00,617] Trial 14 finished with value: 0.051248174512090496 and parameters: {'cutoff': 313}. Best is trial 11 with value: 0.051586052968752405.\n"
     ]
    },
    {
     "name": "stdout",
     "output_type": "stream",
     "text": [
      "Recommender_Base_Class: URM Detected 627 ( 4.8%) users with no interactions.\n",
      "Recommender_Base_Class: URM Detected 247 ( 1.1%) items with no interactions.\n",
      "EvaluatorHoldout: Processed 10456 (100.0%) in 23.94 sec. Users per second: 437\n"
     ]
    },
    {
     "name": "stderr",
     "output_type": "stream",
     "text": [
      "[I 2023-12-04 16:32:24,707] Trial 15 finished with value: 0.05123695212591592 and parameters: {'cutoff': 1276}. Best is trial 11 with value: 0.051586052968752405.\n"
     ]
    },
    {
     "name": "stdout",
     "output_type": "stream",
     "text": [
      "Recommender_Base_Class: URM Detected 627 ( 4.8%) users with no interactions.\n",
      "Recommender_Base_Class: URM Detected 247 ( 1.1%) items with no interactions.\n",
      "EvaluatorHoldout: Processed 10456 (100.0%) in 23.24 sec. Users per second: 450\n"
     ]
    },
    {
     "name": "stderr",
     "output_type": "stream",
     "text": [
      "[I 2023-12-04 16:32:48,095] Trial 16 finished with value: 0.051248174512090496 and parameters: {'cutoff': 327}. Best is trial 11 with value: 0.051586052968752405.\n"
     ]
    },
    {
     "name": "stdout",
     "output_type": "stream",
     "text": [
      "Recommender_Base_Class: URM Detected 627 ( 4.8%) users with no interactions.\n",
      "Recommender_Base_Class: URM Detected 247 ( 1.1%) items with no interactions.\n",
      "EvaluatorHoldout: Processed 10456 (100.0%) in 23.45 sec. Users per second: 446\n"
     ]
    },
    {
     "name": "stderr",
     "output_type": "stream",
     "text": [
      "[I 2023-12-04 16:33:11,686] Trial 17 finished with value: 0.05123831080506725 and parameters: {'cutoff': 499}. Best is trial 11 with value: 0.051586052968752405.\n"
     ]
    },
    {
     "name": "stdout",
     "output_type": "stream",
     "text": [
      "Recommender_Base_Class: URM Detected 627 ( 4.8%) users with no interactions.\n",
      "Recommender_Base_Class: URM Detected 247 ( 1.1%) items with no interactions.\n",
      "EvaluatorHoldout: Processed 10456 (100.0%) in 23.16 sec. Users per second: 451\n"
     ]
    },
    {
     "name": "stderr",
     "output_type": "stream",
     "text": [
      "[I 2023-12-04 16:33:34,991] Trial 18 finished with value: 0.051421910864575884 and parameters: {'cutoff': 32}. Best is trial 11 with value: 0.051586052968752405.\n"
     ]
    },
    {
     "name": "stdout",
     "output_type": "stream",
     "text": [
      "Recommender_Base_Class: URM Detected 627 ( 4.8%) users with no interactions.\n",
      "Recommender_Base_Class: URM Detected 247 ( 1.1%) items with no interactions.\n",
      "EvaluatorHoldout: Processed 10456 (100.0%) in 23.74 sec. Users per second: 440\n"
     ]
    },
    {
     "name": "stderr",
     "output_type": "stream",
     "text": [
      "[I 2023-12-04 16:33:58,885] Trial 19 finished with value: 0.05123695212591592 and parameters: {'cutoff': 1120}. Best is trial 11 with value: 0.051586052968752405.\n"
     ]
    },
    {
     "name": "stdout",
     "output_type": "stream",
     "text": [
      "Recommender_Base_Class: URM Detected 627 ( 4.8%) users with no interactions.\n",
      "Recommender_Base_Class: URM Detected 247 ( 1.1%) items with no interactions.\n",
      "EvaluatorHoldout: Processed 10456 (100.0%) in 24.06 sec. Users per second: 435\n"
     ]
    },
    {
     "name": "stderr",
     "output_type": "stream",
     "text": [
      "[I 2023-12-04 16:34:23,095] Trial 20 finished with value: 0.05123678134222372 and parameters: {'cutoff': 1439}. Best is trial 11 with value: 0.051586052968752405.\n"
     ]
    },
    {
     "name": "stdout",
     "output_type": "stream",
     "text": [
      "Recommender_Base_Class: URM Detected 627 ( 4.8%) users with no interactions.\n",
      "Recommender_Base_Class: URM Detected 247 ( 1.1%) items with no interactions.\n",
      "EvaluatorHoldout: Processed 10456 (100.0%) in 23.27 sec. Users per second: 449\n"
     ]
    },
    {
     "name": "stderr",
     "output_type": "stream",
     "text": [
      "[I 2023-12-04 16:34:46,532] Trial 21 finished with value: 0.05141487078126378 and parameters: {'cutoff': 47}. Best is trial 11 with value: 0.051586052968752405.\n"
     ]
    },
    {
     "name": "stdout",
     "output_type": "stream",
     "text": [
      "Recommender_Base_Class: URM Detected 627 ( 4.8%) users with no interactions.\n",
      "Recommender_Base_Class: URM Detected 247 ( 1.1%) items with no interactions.\n",
      "EvaluatorHoldout: Processed 10456 (100.0%) in 23.46 sec. Users per second: 446\n"
     ]
    },
    {
     "name": "stderr",
     "output_type": "stream",
     "text": [
      "[I 2023-12-04 16:35:10,142] Trial 22 finished with value: 0.05125122964258441 and parameters: {'cutoff': 257}. Best is trial 11 with value: 0.051586052968752405.\n"
     ]
    },
    {
     "name": "stdout",
     "output_type": "stream",
     "text": [
      "Recommender_Base_Class: URM Detected 627 ( 4.8%) users with no interactions.\n",
      "Recommender_Base_Class: URM Detected 247 ( 1.1%) items with no interactions.\n",
      "EvaluatorHoldout: Processed 10456 (100.0%) in 23.17 sec. Users per second: 451\n"
     ]
    },
    {
     "name": "stderr",
     "output_type": "stream",
     "text": [
      "[I 2023-12-04 16:35:33,458] Trial 23 finished with value: 0.05149126801957765 and parameters: {'cutoff': 29}. Best is trial 11 with value: 0.051586052968752405.\n"
     ]
    },
    {
     "name": "stdout",
     "output_type": "stream",
     "text": [
      "Recommender_Base_Class: URM Detected 627 ( 4.8%) users with no interactions.\n",
      "Recommender_Base_Class: URM Detected 247 ( 1.1%) items with no interactions.\n",
      "EvaluatorHoldout: Processed 10456 (100.0%) in 23.46 sec. Users per second: 446\n"
     ]
    },
    {
     "name": "stderr",
     "output_type": "stream",
     "text": [
      "[I 2023-12-04 16:35:57,066] Trial 24 finished with value: 0.05123831080506725 and parameters: {'cutoff': 506}. Best is trial 11 with value: 0.051586052968752405.\n"
     ]
    },
    {
     "name": "stdout",
     "output_type": "stream",
     "text": [
      "Recommender_Base_Class: URM Detected 627 ( 4.8%) users with no interactions.\n",
      "Recommender_Base_Class: URM Detected 247 ( 1.1%) items with no interactions.\n",
      "EvaluatorHoldout: Processed 10456 (100.0%) in 23.06 sec. Users per second: 453\n"
     ]
    },
    {
     "name": "stderr",
     "output_type": "stream",
     "text": [
      "[I 2023-12-04 16:36:20,267] Trial 25 finished with value: 0.05126593981127314 and parameters: {'cutoff': 201}. Best is trial 11 with value: 0.051586052968752405.\n"
     ]
    },
    {
     "name": "stdout",
     "output_type": "stream",
     "text": [
      "Recommender_Base_Class: URM Detected 627 ( 4.8%) users with no interactions.\n",
      "Recommender_Base_Class: URM Detected 247 ( 1.1%) items with no interactions.\n",
      "EvaluatorHoldout: Processed 10456 (100.0%) in 23.39 sec. Users per second: 447\n"
     ]
    },
    {
     "name": "stderr",
     "output_type": "stream",
     "text": [
      "[I 2023-12-04 16:36:43,810] Trial 26 finished with value: 0.05123831080506725 and parameters: {'cutoff': 450}. Best is trial 11 with value: 0.051586052968752405.\n"
     ]
    },
    {
     "name": "stdout",
     "output_type": "stream",
     "text": [
      "Recommender_Base_Class: URM Detected 627 ( 4.8%) users with no interactions.\n",
      "Recommender_Base_Class: URM Detected 247 ( 1.1%) items with no interactions.\n",
      "EvaluatorHoldout: Processed 10456 (100.0%) in 23.69 sec. Users per second: 441\n"
     ]
    },
    {
     "name": "stderr",
     "output_type": "stream",
     "text": [
      "[I 2023-12-04 16:37:07,646] Trial 27 finished with value: 0.05123695212591592 and parameters: {'cutoff': 906}. Best is trial 11 with value: 0.051586052968752405.\n"
     ]
    },
    {
     "name": "stdout",
     "output_type": "stream",
     "text": [
      "Recommender_Base_Class: URM Detected 627 ( 4.8%) users with no interactions.\n",
      "Recommender_Base_Class: URM Detected 247 ( 1.1%) items with no interactions.\n",
      "EvaluatorHoldout: Processed 10456 (100.0%) in 23.43 sec. Users per second: 446\n"
     ]
    },
    {
     "name": "stderr",
     "output_type": "stream",
     "text": [
      "[I 2023-12-04 16:37:31,216] Trial 28 finished with value: 0.05126537053229912 and parameters: {'cutoff': 185}. Best is trial 11 with value: 0.051586052968752405.\n"
     ]
    },
    {
     "name": "stdout",
     "output_type": "stream",
     "text": [
      "Recommender_Base_Class: URM Detected 627 ( 4.8%) users with no interactions.\n",
      "Recommender_Base_Class: URM Detected 247 ( 1.1%) items with no interactions.\n",
      "EvaluatorHoldout: Processed 10456 (100.0%) in 23.09 sec. Users per second: 453\n"
     ]
    },
    {
     "name": "stderr",
     "output_type": "stream",
     "text": [
      "[I 2023-12-04 16:37:54,451] Trial 29 finished with value: 0.051376501378414666 and parameters: {'cutoff': 37}. Best is trial 11 with value: 0.051586052968752405.\n"
     ]
    },
    {
     "name": "stdout",
     "output_type": "stream",
     "text": [
      "Recommender_Base_Class: URM Detected 627 ( 4.8%) users with no interactions.\n",
      "Recommender_Base_Class: URM Detected 247 ( 1.1%) items with no interactions.\n",
      "EvaluatorHoldout: Processed 10456 (100.0%) in 23.29 sec. Users per second: 449\n"
     ]
    },
    {
     "name": "stderr",
     "output_type": "stream",
     "text": [
      "[I 2023-12-04 16:38:17,886] Trial 30 finished with value: 0.051237912309785444 and parameters: {'cutoff': 572}. Best is trial 11 with value: 0.051586052968752405.\n"
     ]
    },
    {
     "name": "stdout",
     "output_type": "stream",
     "text": [
      "Recommender_Base_Class: URM Detected 627 ( 4.8%) users with no interactions.\n",
      "Recommender_Base_Class: URM Detected 247 ( 1.1%) items with no interactions.\n",
      "EvaluatorHoldout: Processed 10456 (100.0%) in 23.18 sec. Users per second: 451\n"
     ]
    },
    {
     "name": "stderr",
     "output_type": "stream",
     "text": [
      "[I 2023-12-04 16:38:41,207] Trial 31 finished with value: 0.051269670486149554 and parameters: {'cutoff': 152}. Best is trial 11 with value: 0.051586052968752405.\n"
     ]
    },
    {
     "name": "stdout",
     "output_type": "stream",
     "text": [
      "Recommender_Base_Class: URM Detected 627 ( 4.8%) users with no interactions.\n",
      "Recommender_Base_Class: URM Detected 247 ( 1.1%) items with no interactions.\n",
      "EvaluatorHoldout: Processed 10456 (100.0%) in 22.96 sec. Users per second: 455\n"
     ]
    },
    {
     "name": "stderr",
     "output_type": "stream",
     "text": [
      "[I 2023-12-04 16:39:04,310] Trial 32 finished with value: 0.051521553660995596 and parameters: {'cutoff': 20}. Best is trial 11 with value: 0.051586052968752405.\n"
     ]
    },
    {
     "name": "stdout",
     "output_type": "stream",
     "text": [
      "Recommender_Base_Class: URM Detected 627 ( 4.8%) users with no interactions.\n",
      "Recommender_Base_Class: URM Detected 247 ( 1.1%) items with no interactions.\n",
      "EvaluatorHoldout: Processed 10456 (100.0%) in 23.43 sec. Users per second: 446\n"
     ]
    },
    {
     "name": "stderr",
     "output_type": "stream",
     "text": [
      "[I 2023-12-04 16:39:27,891] Trial 33 finished with value: 0.05124117997109633 and parameters: {'cutoff': 402}. Best is trial 11 with value: 0.051586052968752405.\n"
     ]
    },
    {
     "name": "stdout",
     "output_type": "stream",
     "text": [
      "Recommender_Base_Class: URM Detected 627 ( 4.8%) users with no interactions.\n",
      "Recommender_Base_Class: URM Detected 247 ( 1.1%) items with no interactions.\n",
      "EvaluatorHoldout: Processed 10456 (100.0%) in 23.16 sec. Users per second: 452\n"
     ]
    },
    {
     "name": "stderr",
     "output_type": "stream",
     "text": [
      "[I 2023-12-04 16:39:51,199] Trial 34 finished with value: 0.05124690312238184 and parameters: {'cutoff': 247}. Best is trial 11 with value: 0.051586052968752405.\n"
     ]
    },
    {
     "name": "stdout",
     "output_type": "stream",
     "text": [
      "Recommender_Base_Class: URM Detected 627 ( 4.8%) users with no interactions.\n",
      "Recommender_Base_Class: URM Detected 247 ( 1.1%) items with no interactions.\n",
      "EvaluatorHoldout: Processed 10456 (100.0%) in 23.44 sec. Users per second: 446\n"
     ]
    },
    {
     "name": "stderr",
     "output_type": "stream",
     "text": [
      "[I 2023-12-04 16:40:14,781] Trial 35 finished with value: 0.05123705839132441 and parameters: {'cutoff': 789}. Best is trial 11 with value: 0.051586052968752405.\n"
     ]
    },
    {
     "name": "stdout",
     "output_type": "stream",
     "text": [
      "Recommender_Base_Class: URM Detected 627 ( 4.8%) users with no interactions.\n",
      "Recommender_Base_Class: URM Detected 247 ( 1.1%) items with no interactions.\n",
      "EvaluatorHoldout: Processed 10456 (100.0%) in 23.17 sec. Users per second: 451\n"
     ]
    },
    {
     "name": "stderr",
     "output_type": "stream",
     "text": [
      "[I 2023-12-04 16:40:38,096] Trial 36 finished with value: 0.05149126801957765 and parameters: {'cutoff': 29}. Best is trial 11 with value: 0.051586052968752405.\n"
     ]
    },
    {
     "name": "stdout",
     "output_type": "stream",
     "text": [
      "Recommender_Base_Class: URM Detected 627 ( 4.8%) users with no interactions.\n",
      "Recommender_Base_Class: URM Detected 247 ( 1.1%) items with no interactions.\n",
      "EvaluatorHoldout: Processed 10456 (100.0%) in 23.11 sec. Users per second: 452\n"
     ]
    },
    {
     "name": "stderr",
     "output_type": "stream",
     "text": [
      "[I 2023-12-04 16:41:01,353] Trial 37 finished with value: 0.051521553660995596 and parameters: {'cutoff': 20}. Best is trial 11 with value: 0.051586052968752405.\n"
     ]
    },
    {
     "name": "stdout",
     "output_type": "stream",
     "text": [
      "Recommender_Base_Class: URM Detected 627 ( 4.8%) users with no interactions.\n",
      "Recommender_Base_Class: URM Detected 247 ( 1.1%) items with no interactions.\n",
      "EvaluatorHoldout: Processed 10456 (100.0%) in 23.92 sec. Users per second: 437\n"
     ]
    },
    {
     "name": "stderr",
     "output_type": "stream",
     "text": [
      "[I 2023-12-04 16:41:25,430] Trial 38 finished with value: 0.05123745688660622 and parameters: {'cutoff': 649}. Best is trial 11 with value: 0.051586052968752405.\n"
     ]
    },
    {
     "name": "stdout",
     "output_type": "stream",
     "text": [
      "Recommender_Base_Class: URM Detected 627 ( 4.8%) users with no interactions.\n",
      "Recommender_Base_Class: URM Detected 247 ( 1.1%) items with no interactions.\n",
      "EvaluatorHoldout: Processed 10456 (100.0%) in 23.62 sec. Users per second: 443\n"
     ]
    },
    {
     "name": "stderr",
     "output_type": "stream",
     "text": [
      "[I 2023-12-04 16:41:49,211] Trial 39 finished with value: 0.05126382209348978 and parameters: {'cutoff': 215}. Best is trial 11 with value: 0.051586052968752405.\n"
     ]
    },
    {
     "name": "stdout",
     "output_type": "stream",
     "text": [
      "Recommender_Base_Class: URM Detected 627 ( 4.8%) users with no interactions.\n",
      "Recommender_Base_Class: URM Detected 247 ( 1.1%) items with no interactions.\n",
      "EvaluatorHoldout: Processed 10456 (100.0%) in 23.60 sec. Users per second: 443\n"
     ]
    },
    {
     "name": "stderr",
     "output_type": "stream",
     "text": [
      "[I 2023-12-04 16:42:12,968] Trial 40 finished with value: 0.051248174512090496 and parameters: {'cutoff': 308}. Best is trial 11 with value: 0.051586052968752405.\n"
     ]
    },
    {
     "name": "stdout",
     "output_type": "stream",
     "text": [
      "Recommender_Base_Class: URM Detected 627 ( 4.8%) users with no interactions.\n",
      "Recommender_Base_Class: URM Detected 247 ( 1.1%) items with no interactions.\n",
      "EvaluatorHoldout: Processed 10456 (100.0%) in 22.93 sec. Users per second: 456\n"
     ]
    },
    {
     "name": "stderr",
     "output_type": "stream",
     "text": [
      "[I 2023-12-04 16:42:36,055] Trial 41 finished with value: 0.05151743208122376 and parameters: {'cutoff': 14}. Best is trial 11 with value: 0.051586052968752405.\n"
     ]
    },
    {
     "name": "stdout",
     "output_type": "stream",
     "text": [
      "Recommender_Base_Class: URM Detected 627 ( 4.8%) users with no interactions.\n",
      "Recommender_Base_Class: URM Detected 247 ( 1.1%) items with no interactions.\n",
      "EvaluatorHoldout: Processed 10456 (100.0%) in 23.23 sec. Users per second: 450\n"
     ]
    },
    {
     "name": "stderr",
     "output_type": "stream",
     "text": [
      "[I 2023-12-04 16:42:59,432] Trial 42 finished with value: 0.05127005759585189 and parameters: {'cutoff': 162}. Best is trial 11 with value: 0.051586052968752405.\n"
     ]
    },
    {
     "name": "stdout",
     "output_type": "stream",
     "text": [
      "Recommender_Base_Class: URM Detected 627 ( 4.8%) users with no interactions.\n",
      "Recommender_Base_Class: URM Detected 247 ( 1.1%) items with no interactions.\n",
      "EvaluatorHoldout: Processed 10456 (100.0%) in 23.53 sec. Users per second: 444\n"
     ]
    },
    {
     "name": "stderr",
     "output_type": "stream",
     "text": [
      "[I 2023-12-04 16:43:23,122] Trial 43 finished with value: 0.05127520387777705 and parameters: {'cutoff': 129}. Best is trial 11 with value: 0.051586052968752405.\n"
     ]
    },
    {
     "name": "stdout",
     "output_type": "stream",
     "text": [
      "Recommender_Base_Class: URM Detected 627 ( 4.8%) users with no interactions.\n",
      "Recommender_Base_Class: URM Detected 247 ( 1.1%) items with no interactions.\n",
      "EvaluatorHoldout: Processed 10456 (100.0%) in 23.40 sec. Users per second: 447\n"
     ]
    },
    {
     "name": "stderr",
     "output_type": "stream",
     "text": [
      "[I 2023-12-04 16:43:46,677] Trial 44 finished with value: 0.051343198558434465 and parameters: {'cutoff': 12}. Best is trial 11 with value: 0.051586052968752405.\n"
     ]
    },
    {
     "name": "stdout",
     "output_type": "stream",
     "text": [
      "Recommender_Base_Class: URM Detected 627 ( 4.8%) users with no interactions.\n",
      "Recommender_Base_Class: URM Detected 247 ( 1.1%) items with no interactions.\n",
      "EvaluatorHoldout: Processed 10456 (100.0%) in 23.53 sec. Users per second: 444\n"
     ]
    },
    {
     "name": "stderr",
     "output_type": "stream",
     "text": [
      "[I 2023-12-04 16:44:10,362] Trial 45 finished with value: 0.05127066103156436 and parameters: {'cutoff': 139}. Best is trial 11 with value: 0.051586052968752405.\n"
     ]
    },
    {
     "name": "stdout",
     "output_type": "stream",
     "text": [
      "Recommender_Base_Class: URM Detected 627 ( 4.8%) users with no interactions.\n",
      "Recommender_Base_Class: URM Detected 247 ( 1.1%) items with no interactions.\n",
      "EvaluatorHoldout: Processed 10456 (100.0%) in 23.27 sec. Users per second: 449\n"
     ]
    },
    {
     "name": "stderr",
     "output_type": "stream",
     "text": [
      "[I 2023-12-04 16:44:33,793] Trial 46 finished with value: 0.05124117997109633 and parameters: {'cutoff': 405}. Best is trial 11 with value: 0.051586052968752405.\n"
     ]
    },
    {
     "name": "stdout",
     "output_type": "stream",
     "text": [
      "Recommender_Base_Class: URM Detected 627 ( 4.8%) users with no interactions.\n",
      "Recommender_Base_Class: URM Detected 247 ( 1.1%) items with no interactions.\n",
      "EvaluatorHoldout: Processed 10456 (100.0%) in 23.11 sec. Users per second: 452\n"
     ]
    },
    {
     "name": "stderr",
     "output_type": "stream",
     "text": [
      "[I 2023-12-04 16:44:57,059] Trial 47 finished with value: 0.05125122964258441 and parameters: {'cutoff': 255}. Best is trial 11 with value: 0.051586052968752405.\n"
     ]
    },
    {
     "name": "stdout",
     "output_type": "stream",
     "text": [
      "Recommender_Base_Class: URM Detected 627 ( 4.8%) users with no interactions.\n",
      "Recommender_Base_Class: URM Detected 247 ( 1.1%) items with no interactions.\n",
      "EvaluatorHoldout: Processed 10456 (100.0%) in 23.78 sec. Users per second: 440\n"
     ]
    },
    {
     "name": "stderr",
     "output_type": "stream",
     "text": [
      "[I 2023-12-04 16:45:20,988] Trial 48 finished with value: 0.05123678134222372 and parameters: {'cutoff': 1486}. Best is trial 11 with value: 0.051586052968752405.\n"
     ]
    },
    {
     "name": "stdout",
     "output_type": "stream",
     "text": [
      "Recommender_Base_Class: URM Detected 627 ( 4.8%) users with no interactions.\n",
      "Recommender_Base_Class: URM Detected 247 ( 1.1%) items with no interactions.\n",
      "EvaluatorHoldout: Processed 10456 (100.0%) in 23.09 sec. Users per second: 453\n"
     ]
    },
    {
     "name": "stderr",
     "output_type": "stream",
     "text": [
      "[I 2023-12-04 16:45:44,216] Trial 49 finished with value: 0.051284255413464014 and parameters: {'cutoff': 108}. Best is trial 11 with value: 0.051586052968752405.\n"
     ]
    },
    {
     "name": "stdout",
     "output_type": "stream",
     "text": [
      "Recommender_Base_Class: URM Detected 627 ( 4.8%) users with no interactions.\n",
      "Recommender_Base_Class: URM Detected 247 ( 1.1%) items with no interactions.\n",
      "EvaluatorHoldout: Processed 10456 (100.0%) in 23.28 sec. Users per second: 449\n"
     ]
    },
    {
     "name": "stderr",
     "output_type": "stream",
     "text": [
      "[I 2023-12-04 16:46:07,636] Trial 50 finished with value: 0.051248174512090496 and parameters: {'cutoff': 327}. Best is trial 11 with value: 0.051586052968752405.\n"
     ]
    },
    {
     "name": "stdout",
     "output_type": "stream",
     "text": [
      "Recommender_Base_Class: URM Detected 627 ( 4.8%) users with no interactions.\n",
      "Recommender_Base_Class: URM Detected 247 ( 1.1%) items with no interactions.\n",
      "EvaluatorHoldout: Processed 10456 (100.0%) in 22.94 sec. Users per second: 456\n"
     ]
    },
    {
     "name": "stderr",
     "output_type": "stream",
     "text": [
      "[I 2023-12-04 16:46:30,732] Trial 51 finished with value: 0.05151743208122376 and parameters: {'cutoff': 14}. Best is trial 11 with value: 0.051586052968752405.\n"
     ]
    },
    {
     "name": "stdout",
     "output_type": "stream",
     "text": [
      "Recommender_Base_Class: URM Detected 627 ( 4.8%) users with no interactions.\n",
      "Recommender_Base_Class: URM Detected 247 ( 1.1%) items with no interactions.\n",
      "EvaluatorHoldout: Processed 10456 (100.0%) in 23.09 sec. Users per second: 453\n"
     ]
    },
    {
     "name": "stderr",
     "output_type": "stream",
     "text": [
      "[I 2023-12-04 16:46:53,977] Trial 52 finished with value: 0.05130102257684555 and parameters: {'cutoff': 96}. Best is trial 11 with value: 0.051586052968752405.\n"
     ]
    },
    {
     "name": "stdout",
     "output_type": "stream",
     "text": [
      "Recommender_Base_Class: URM Detected 627 ( 4.8%) users with no interactions.\n",
      "Recommender_Base_Class: URM Detected 247 ( 1.1%) items with no interactions.\n",
      "EvaluatorHoldout: Processed 10456 (100.0%) in 23.17 sec. Users per second: 451\n"
     ]
    },
    {
     "name": "stderr",
     "output_type": "stream",
     "text": [
      "[I 2023-12-04 16:47:17,319] Trial 53 finished with value: 0.05136659971945983 and parameters: {'cutoff': 36}. Best is trial 11 with value: 0.051586052968752405.\n"
     ]
    },
    {
     "name": "stdout",
     "output_type": "stream",
     "text": [
      "Recommender_Base_Class: URM Detected 627 ( 4.8%) users with no interactions.\n",
      "Recommender_Base_Class: URM Detected 247 ( 1.1%) items with no interactions.\n",
      "EvaluatorHoldout: Processed 10456 (100.0%) in 23.31 sec. Users per second: 449\n"
     ]
    },
    {
     "name": "stderr",
     "output_type": "stream",
     "text": [
      "[I 2023-12-04 16:47:40,789] Trial 54 finished with value: 0.051343198558434465 and parameters: {'cutoff': 12}. Best is trial 11 with value: 0.051586052968752405.\n"
     ]
    },
    {
     "name": "stdout",
     "output_type": "stream",
     "text": [
      "Recommender_Base_Class: URM Detected 627 ( 4.8%) users with no interactions.\n",
      "Recommender_Base_Class: URM Detected 247 ( 1.1%) items with no interactions.\n",
      "EvaluatorHoldout: Processed 10456 (100.0%) in 23.15 sec. Users per second: 452\n"
     ]
    },
    {
     "name": "stderr",
     "output_type": "stream",
     "text": [
      "[I 2023-12-04 16:48:04,092] Trial 55 finished with value: 0.051254098808613494 and parameters: {'cutoff': 269}. Best is trial 11 with value: 0.051586052968752405.\n"
     ]
    },
    {
     "name": "stdout",
     "output_type": "stream",
     "text": [
      "Recommender_Base_Class: URM Detected 627 ( 4.8%) users with no interactions.\n",
      "Recommender_Base_Class: URM Detected 247 ( 1.1%) items with no interactions.\n",
      "EvaluatorHoldout: Processed 10456 (100.0%) in 23.15 sec. Users per second: 452\n"
     ]
    },
    {
     "name": "stderr",
     "output_type": "stream",
     "text": [
      "[I 2023-12-04 16:48:27,408] Trial 56 finished with value: 0.05126537053229912 and parameters: {'cutoff': 185}. Best is trial 11 with value: 0.051586052968752405.\n"
     ]
    },
    {
     "name": "stdout",
     "output_type": "stream",
     "text": [
      "Recommender_Base_Class: URM Detected 627 ( 4.8%) users with no interactions.\n",
      "Recommender_Base_Class: URM Detected 247 ( 1.1%) items with no interactions.\n",
      "EvaluatorHoldout: Processed 10456 (100.0%) in 23.16 sec. Users per second: 451\n"
     ]
    },
    {
     "name": "stderr",
     "output_type": "stream",
     "text": [
      "[I 2023-12-04 16:48:50,726] Trial 57 finished with value: 0.05130000166988548 and parameters: {'cutoff': 94}. Best is trial 11 with value: 0.051586052968752405.\n"
     ]
    },
    {
     "name": "stdout",
     "output_type": "stream",
     "text": [
      "Recommender_Base_Class: URM Detected 627 ( 4.8%) users with no interactions.\n",
      "Recommender_Base_Class: URM Detected 247 ( 1.1%) items with no interactions.\n",
      "EvaluatorHoldout: Processed 10456 (100.0%) in 24.01 sec. Users per second: 436\n"
     ]
    },
    {
     "name": "stderr",
     "output_type": "stream",
     "text": [
      "[I 2023-12-04 16:49:14,885] Trial 58 finished with value: 0.05123678134222372 and parameters: {'cutoff': 1739}. Best is trial 11 with value: 0.051586052968752405.\n"
     ]
    },
    {
     "name": "stdout",
     "output_type": "stream",
     "text": [
      "Recommender_Base_Class: URM Detected 627 ( 4.8%) users with no interactions.\n",
      "Recommender_Base_Class: URM Detected 247 ( 1.1%) items with no interactions.\n",
      "EvaluatorHoldout: Processed 10456 (100.0%) in 24.10 sec. Users per second: 434\n"
     ]
    },
    {
     "name": "stderr",
     "output_type": "stream",
     "text": [
      "[I 2023-12-04 16:49:39,140] Trial 59 finished with value: 0.05123664851046311 and parameters: {'cutoff': 1996}. Best is trial 11 with value: 0.051586052968752405.\n"
     ]
    },
    {
     "name": "stdout",
     "output_type": "stream",
     "text": [
      "Recommender_Base_Class: URM Detected 627 ( 4.8%) users with no interactions.\n",
      "Recommender_Base_Class: URM Detected 247 ( 1.1%) items with no interactions.\n",
      "EvaluatorHoldout: Processed 10456 (100.0%) in 23.42 sec. Users per second: 446\n"
     ]
    },
    {
     "name": "stderr",
     "output_type": "stream",
     "text": [
      "[I 2023-12-04 16:50:02,724] Trial 60 finished with value: 0.05124117997109633 and parameters: {'cutoff': 377}. Best is trial 11 with value: 0.051586052968752405.\n"
     ]
    },
    {
     "name": "stdout",
     "output_type": "stream",
     "text": [
      "Recommender_Base_Class: URM Detected 627 ( 4.8%) users with no interactions.\n",
      "Recommender_Base_Class: URM Detected 247 ( 1.1%) items with no interactions.\n",
      "EvaluatorHoldout: Processed 10456 (100.0%) in 23.12 sec. Users per second: 452\n"
     ]
    },
    {
     "name": "stderr",
     "output_type": "stream",
     "text": [
      "[I 2023-12-04 16:50:25,992] Trial 61 finished with value: 0.05129815341081648 and parameters: {'cutoff': 95}. Best is trial 11 with value: 0.051586052968752405.\n"
     ]
    },
    {
     "name": "stdout",
     "output_type": "stream",
     "text": [
      "Recommender_Base_Class: URM Detected 627 ( 4.8%) users with no interactions.\n",
      "Recommender_Base_Class: URM Detected 247 ( 1.1%) items with no interactions.\n",
      "EvaluatorHoldout: Processed 10456 (100.0%) in 23.21 sec. Users per second: 451\n"
     ]
    },
    {
     "name": "stderr",
     "output_type": "stream",
     "text": [
      "[I 2023-12-04 16:50:49,354] Trial 62 finished with value: 0.051329983695850644 and parameters: {'cutoff': 75}. Best is trial 11 with value: 0.051586052968752405.\n"
     ]
    },
    {
     "name": "stdout",
     "output_type": "stream",
     "text": [
      "Recommender_Base_Class: URM Detected 627 ( 4.8%) users with no interactions.\n",
      "Recommender_Base_Class: URM Detected 247 ( 1.1%) items with no interactions.\n",
      "EvaluatorHoldout: Processed 10456 (100.0%) in 23.35 sec. Users per second: 448\n"
     ]
    },
    {
     "name": "stderr",
     "output_type": "stream",
     "text": [
      "[I 2023-12-04 16:51:12,869] Trial 63 finished with value: 0.05126620547479435 and parameters: {'cutoff': 195}. Best is trial 11 with value: 0.051586052968752405.\n"
     ]
    },
    {
     "name": "stdout",
     "output_type": "stream",
     "text": [
      "Recommender_Base_Class: URM Detected 627 ( 4.8%) users with no interactions.\n",
      "Recommender_Base_Class: URM Detected 247 ( 1.1%) items with no interactions.\n",
      "EvaluatorHoldout: Processed 10456 (100.0%) in 23.45 sec. Users per second: 446\n"
     ]
    },
    {
     "name": "stderr",
     "output_type": "stream",
     "text": [
      "[I 2023-12-04 16:51:36,478] Trial 64 finished with value: 0.05141528445731823 and parameters: {'cutoff': 34}. Best is trial 11 with value: 0.051586052968752405.\n"
     ]
    },
    {
     "name": "stdout",
     "output_type": "stream",
     "text": [
      "Recommender_Base_Class: URM Detected 627 ( 4.8%) users with no interactions.\n",
      "Recommender_Base_Class: URM Detected 247 ( 1.1%) items with no interactions.\n",
      "EvaluatorHoldout: Processed 10456 (100.0%) in 23.88 sec. Users per second: 438\n"
     ]
    },
    {
     "name": "stderr",
     "output_type": "stream",
     "text": [
      "[I 2023-12-04 16:52:00,525] Trial 65 finished with value: 0.05123695212591592 and parameters: {'cutoff': 954}. Best is trial 11 with value: 0.051586052968752405.\n"
     ]
    },
    {
     "name": "stdout",
     "output_type": "stream",
     "text": [
      "Recommender_Base_Class: URM Detected 627 ( 4.8%) users with no interactions.\n",
      "Recommender_Base_Class: URM Detected 247 ( 1.1%) items with no interactions.\n",
      "EvaluatorHoldout: Processed 10456 (100.0%) in 23.10 sec. Users per second: 453\n"
     ]
    },
    {
     "name": "stderr",
     "output_type": "stream",
     "text": [
      "[I 2023-12-04 16:52:23,778] Trial 66 finished with value: 0.05126910120717553 and parameters: {'cutoff': 166}. Best is trial 11 with value: 0.051586052968752405.\n"
     ]
    },
    {
     "name": "stdout",
     "output_type": "stream",
     "text": [
      "Recommender_Base_Class: URM Detected 627 ( 4.8%) users with no interactions.\n",
      "Recommender_Base_Class: URM Detected 247 ( 1.1%) items with no interactions.\n",
      "EvaluatorHoldout: Processed 10456 (100.0%) in 23.18 sec. Users per second: 451\n"
     ]
    },
    {
     "name": "stderr",
     "output_type": "stream",
     "text": [
      "[I 2023-12-04 16:52:47,111] Trial 67 finished with value: 0.0512517837407858 and parameters: {'cutoff': 283}. Best is trial 11 with value: 0.051586052968752405.\n"
     ]
    },
    {
     "name": "stdout",
     "output_type": "stream",
     "text": [
      "Recommender_Base_Class: URM Detected 627 ( 4.8%) users with no interactions.\n",
      "Recommender_Base_Class: URM Detected 247 ( 1.1%) items with no interactions.\n",
      "EvaluatorHoldout: Processed 10456 (100.0%) in 23.35 sec. Users per second: 448\n"
     ]
    },
    {
     "name": "stderr",
     "output_type": "stream",
     "text": [
      "[I 2023-12-04 16:53:10,626] Trial 68 finished with value: 0.05123831080506725 and parameters: {'cutoff': 469}. Best is trial 11 with value: 0.051586052968752405.\n"
     ]
    },
    {
     "name": "stdout",
     "output_type": "stream",
     "text": [
      "Recommender_Base_Class: URM Detected 627 ( 4.8%) users with no interactions.\n",
      "Recommender_Base_Class: URM Detected 247 ( 1.1%) items with no interactions.\n",
      "EvaluatorHoldout: Processed 10456 (100.0%) in 23.12 sec. Users per second: 452\n"
     ]
    },
    {
     "name": "stderr",
     "output_type": "stream",
     "text": [
      "[I 2023-12-04 16:53:33,914] Trial 69 finished with value: 0.05146412479809626 and parameters: {'cutoff': 11}. Best is trial 11 with value: 0.051586052968752405.\n"
     ]
    },
    {
     "name": "stdout",
     "output_type": "stream",
     "text": [
      "Recommender_Base_Class: URM Detected 627 ( 4.8%) users with no interactions.\n",
      "Recommender_Base_Class: URM Detected 247 ( 1.1%) items with no interactions.\n",
      "EvaluatorHoldout: Processed 10456 (100.0%) in 23.53 sec. Users per second: 444\n"
     ]
    },
    {
     "name": "stderr",
     "output_type": "stream",
     "text": [
      "[I 2023-12-04 16:53:57,598] Trial 70 finished with value: 0.05123695212591592 and parameters: {'cutoff': 1090}. Best is trial 11 with value: 0.051586052968752405.\n"
     ]
    },
    {
     "name": "stdout",
     "output_type": "stream",
     "text": [
      "Recommender_Base_Class: URM Detected 627 ( 4.8%) users with no interactions.\n",
      "Recommender_Base_Class: URM Detected 247 ( 1.1%) items with no interactions.\n",
      "EvaluatorHoldout: Processed 10456 (100.0%) in 22.92 sec. Users per second: 456\n"
     ]
    },
    {
     "name": "stderr",
     "output_type": "stream",
     "text": [
      "[I 2023-12-04 16:54:20,679] Trial 71 finished with value: 0.05151743208122376 and parameters: {'cutoff': 14}. Best is trial 11 with value: 0.051586052968752405.\n"
     ]
    },
    {
     "name": "stdout",
     "output_type": "stream",
     "text": [
      "Recommender_Base_Class: URM Detected 627 ( 4.8%) users with no interactions.\n",
      "Recommender_Base_Class: URM Detected 247 ( 1.1%) items with no interactions.\n",
      "EvaluatorHoldout: Processed 10456 (100.0%) in 22.79 sec. Users per second: 459\n"
     ]
    },
    {
     "name": "stderr",
     "output_type": "stream",
     "text": [
      "[I 2023-12-04 16:54:43,630] Trial 72 finished with value: 0.051325330789036304 and parameters: {'cutoff': 79}. Best is trial 11 with value: 0.051586052968752405.\n"
     ]
    },
    {
     "name": "stdout",
     "output_type": "stream",
     "text": [
      "Recommender_Base_Class: URM Detected 627 ( 4.8%) users with no interactions.\n",
      "Recommender_Base_Class: URM Detected 247 ( 1.1%) items with no interactions.\n",
      "EvaluatorHoldout: Processed 10456 (100.0%) in 23.13 sec. Users per second: 452\n"
     ]
    },
    {
     "name": "stderr",
     "output_type": "stream",
     "text": [
      "[I 2023-12-04 16:55:06,918] Trial 73 finished with value: 0.05126321486258415 and parameters: {'cutoff': 220}. Best is trial 11 with value: 0.051586052968752405.\n"
     ]
    },
    {
     "name": "stdout",
     "output_type": "stream",
     "text": [
      "Recommender_Base_Class: URM Detected 627 ( 4.8%) users with no interactions.\n",
      "Recommender_Base_Class: URM Detected 247 ( 1.1%) items with no interactions.\n",
      "EvaluatorHoldout: Processed 10456 (100.0%) in 23.18 sec. Users per second: 451\n"
     ]
    },
    {
     "name": "stderr",
     "output_type": "stream",
     "text": [
      "[I 2023-12-04 16:55:30,263] Trial 74 finished with value: 0.051270228379544106 and parameters: {'cutoff': 159}. Best is trial 11 with value: 0.051586052968752405.\n"
     ]
    },
    {
     "name": "stdout",
     "output_type": "stream",
     "text": [
      "Recommender_Base_Class: URM Detected 627 ( 4.8%) users with no interactions.\n",
      "Recommender_Base_Class: URM Detected 247 ( 1.1%) items with no interactions.\n",
      "EvaluatorHoldout: Processed 10456 (100.0%) in 23.12 sec. Users per second: 452\n"
     ]
    },
    {
     "name": "stderr",
     "output_type": "stream",
     "text": [
      "[I 2023-12-04 16:55:53,548] Trial 75 finished with value: 0.05134064059824434 and parameters: {'cutoff': 74}. Best is trial 11 with value: 0.051586052968752405.\n"
     ]
    },
    {
     "name": "stdout",
     "output_type": "stream",
     "text": [
      "Recommender_Base_Class: URM Detected 627 ( 4.8%) users with no interactions.\n",
      "Recommender_Base_Class: URM Detected 247 ( 1.1%) items with no interactions.\n",
      "EvaluatorHoldout: Processed 10456 (100.0%) in 23.27 sec. Users per second: 449\n"
     ]
    },
    {
     "name": "stderr",
     "output_type": "stream",
     "text": [
      "[I 2023-12-04 16:56:16,965] Trial 76 finished with value: 0.05127520387777705 and parameters: {'cutoff': 129}. Best is trial 11 with value: 0.051586052968752405.\n"
     ]
    },
    {
     "name": "stdout",
     "output_type": "stream",
     "text": [
      "Recommender_Base_Class: URM Detected 627 ( 4.8%) users with no interactions.\n",
      "Recommender_Base_Class: URM Detected 247 ( 1.1%) items with no interactions.\n",
      "EvaluatorHoldout: Processed 10456 (100.0%) in 23.42 sec. Users per second: 446\n"
     ]
    },
    {
     "name": "stderr",
     "output_type": "stream",
     "text": [
      "[I 2023-12-04 16:56:40,545] Trial 77 finished with value: 0.05126382209348978 and parameters: {'cutoff': 213}. Best is trial 11 with value: 0.051586052968752405.\n"
     ]
    },
    {
     "name": "stdout",
     "output_type": "stream",
     "text": [
      "Recommender_Base_Class: URM Detected 627 ( 4.8%) users with no interactions.\n",
      "Recommender_Base_Class: URM Detected 247 ( 1.1%) items with no interactions.\n",
      "EvaluatorHoldout: Processed 10456 (100.0%) in 23.12 sec. Users per second: 452\n"
     ]
    },
    {
     "name": "stderr",
     "output_type": "stream",
     "text": [
      "[I 2023-12-04 16:57:03,819] Trial 78 finished with value: 0.05135942300919394 and parameters: {'cutoff': 65}. Best is trial 11 with value: 0.051586052968752405.\n"
     ]
    },
    {
     "name": "stdout",
     "output_type": "stream",
     "text": [
      "Recommender_Base_Class: URM Detected 627 ( 4.8%) users with no interactions.\n",
      "Recommender_Base_Class: URM Detected 247 ( 1.1%) items with no interactions.\n",
      "EvaluatorHoldout: Processed 10456 (100.0%) in 23.54 sec. Users per second: 444\n"
     ]
    },
    {
     "name": "stderr",
     "output_type": "stream",
     "text": [
      "[I 2023-12-04 16:57:27,528] Trial 79 finished with value: 0.05127557580670675 and parameters: {'cutoff': 133}. Best is trial 11 with value: 0.051586052968752405.\n"
     ]
    },
    {
     "name": "stdout",
     "output_type": "stream",
     "text": [
      "Recommender_Base_Class: URM Detected 627 ( 4.8%) users with no interactions.\n",
      "Recommender_Base_Class: URM Detected 247 ( 1.1%) items with no interactions.\n",
      "EvaluatorHoldout: Processed 10456 (100.0%) in 23.57 sec. Users per second: 444\n"
     ]
    },
    {
     "name": "stderr",
     "output_type": "stream",
     "text": [
      "[I 2023-12-04 16:57:51,257] Trial 80 finished with value: 0.051248174512090496 and parameters: {'cutoff': 325}. Best is trial 11 with value: 0.051586052968752405.\n"
     ]
    },
    {
     "name": "stdout",
     "output_type": "stream",
     "text": [
      "Recommender_Base_Class: URM Detected 627 ( 4.8%) users with no interactions.\n",
      "Recommender_Base_Class: URM Detected 247 ( 1.1%) items with no interactions.\n",
      "EvaluatorHoldout: Processed 10456 (100.0%) in 23.35 sec. Users per second: 448\n"
     ]
    },
    {
     "name": "stderr",
     "output_type": "stream",
     "text": [
      "[I 2023-12-04 16:58:14,765] Trial 81 finished with value: 0.05151743208122376 and parameters: {'cutoff': 14}. Best is trial 11 with value: 0.051586052968752405.\n"
     ]
    },
    {
     "name": "stdout",
     "output_type": "stream",
     "text": [
      "Recommender_Base_Class: URM Detected 627 ( 4.8%) users with no interactions.\n",
      "Recommender_Base_Class: URM Detected 247 ( 1.1%) items with no interactions.\n",
      "EvaluatorHoldout: Processed 10456 (100.0%) in 23.35 sec. Users per second: 448\n"
     ]
    },
    {
     "name": "stderr",
     "output_type": "stream",
     "text": [
      "[I 2023-12-04 16:58:38,273] Trial 82 finished with value: 0.05150189835561936 and parameters: {'cutoff': 13}. Best is trial 11 with value: 0.051586052968752405.\n"
     ]
    },
    {
     "name": "stdout",
     "output_type": "stream",
     "text": [
      "Recommender_Base_Class: URM Detected 627 ( 4.8%) users with no interactions.\n",
      "Recommender_Base_Class: URM Detected 247 ( 1.1%) items with no interactions.\n",
      "EvaluatorHoldout: Processed 10456 (100.0%) in 23.35 sec. Users per second: 448\n"
     ]
    },
    {
     "name": "stderr",
     "output_type": "stream",
     "text": [
      "[I 2023-12-04 16:59:01,779] Trial 83 finished with value: 0.05153017254466238 and parameters: {'cutoff': 17}. Best is trial 11 with value: 0.051586052968752405.\n"
     ]
    },
    {
     "name": "stdout",
     "output_type": "stream",
     "text": [
      "Recommender_Base_Class: URM Detected 627 ( 4.8%) users with no interactions.\n",
      "Recommender_Base_Class: URM Detected 247 ( 1.1%) items with no interactions.\n",
      "EvaluatorHoldout: Processed 10456 (100.0%) in 23.42 sec. Users per second: 446\n"
     ]
    },
    {
     "name": "stderr",
     "output_type": "stream",
     "text": [
      "[I 2023-12-04 16:59:25,363] Trial 84 finished with value: 0.05151743208122376 and parameters: {'cutoff': 14}. Best is trial 11 with value: 0.051586052968752405.\n"
     ]
    },
    {
     "name": "stdout",
     "output_type": "stream",
     "text": [
      "Recommender_Base_Class: URM Detected 627 ( 4.8%) users with no interactions.\n",
      "Recommender_Base_Class: URM Detected 247 ( 1.1%) items with no interactions.\n",
      "EvaluatorHoldout: Processed 10456 (100.0%) in 23.11 sec. Users per second: 452\n"
     ]
    },
    {
     "name": "stderr",
     "output_type": "stream",
     "text": [
      "[I 2023-12-04 16:59:48,635] Trial 85 finished with value: 0.05127116579225465 and parameters: {'cutoff': 118}. Best is trial 11 with value: 0.051586052968752405.\n"
     ]
    },
    {
     "name": "stdout",
     "output_type": "stream",
     "text": [
      "Recommender_Base_Class: URM Detected 627 ( 4.8%) users with no interactions.\n",
      "Recommender_Base_Class: URM Detected 247 ( 1.1%) items with no interactions.\n",
      "EvaluatorHoldout: Processed 10456 (100.0%) in 23.10 sec. Users per second: 453\n"
     ]
    },
    {
     "name": "stderr",
     "output_type": "stream",
     "text": [
      "[I 2023-12-04 17:00:11,896] Trial 86 finished with value: 0.05135841348781336 and parameters: {'cutoff': 63}. Best is trial 11 with value: 0.051586052968752405.\n"
     ]
    },
    {
     "name": "stdout",
     "output_type": "stream",
     "text": [
      "Recommender_Base_Class: URM Detected 627 ( 4.8%) users with no interactions.\n",
      "Recommender_Base_Class: URM Detected 247 ( 1.1%) items with no interactions.\n",
      "EvaluatorHoldout: Processed 10456 (100.0%) in 23.26 sec. Users per second: 450\n"
     ]
    },
    {
     "name": "stderr",
     "output_type": "stream",
     "text": [
      "[I 2023-12-04 17:00:35,318] Trial 87 finished with value: 0.05124690312238184 and parameters: {'cutoff': 249}. Best is trial 11 with value: 0.051586052968752405.\n"
     ]
    },
    {
     "name": "stdout",
     "output_type": "stream",
     "text": [
      "Recommender_Base_Class: URM Detected 627 ( 4.8%) users with no interactions.\n",
      "Recommender_Base_Class: URM Detected 247 ( 1.1%) items with no interactions.\n",
      "EvaluatorHoldout: Processed 10456 (100.0%) in 23.32 sec. Users per second: 448\n"
     ]
    },
    {
     "name": "stderr",
     "output_type": "stream",
     "text": [
      "[I 2023-12-04 17:00:58,799] Trial 88 finished with value: 0.05126910120717553 and parameters: {'cutoff': 165}. Best is trial 11 with value: 0.051586052968752405.\n"
     ]
    },
    {
     "name": "stdout",
     "output_type": "stream",
     "text": [
      "Recommender_Base_Class: URM Detected 627 ( 4.8%) users with no interactions.\n",
      "Recommender_Base_Class: URM Detected 247 ( 1.1%) items with no interactions.\n",
      "EvaluatorHoldout: Processed 10456 (100.0%) in 23.76 sec. Users per second: 440\n"
     ]
    },
    {
     "name": "stderr",
     "output_type": "stream",
     "text": [
      "[I 2023-12-04 17:01:22,720] Trial 89 finished with value: 0.051237912309785444 and parameters: {'cutoff': 590}. Best is trial 11 with value: 0.051586052968752405.\n"
     ]
    },
    {
     "name": "stdout",
     "output_type": "stream",
     "text": [
      "Recommender_Base_Class: URM Detected 627 ( 4.8%) users with no interactions.\n",
      "Recommender_Base_Class: URM Detected 247 ( 1.1%) items with no interactions.\n",
      "EvaluatorHoldout: Processed 10456 (100.0%) in 23.26 sec. Users per second: 450\n"
     ]
    },
    {
     "name": "stderr",
     "output_type": "stream",
     "text": [
      "[I 2023-12-04 17:01:46,130] Trial 90 finished with value: 0.05137094521562818 and parameters: {'cutoff': 60}. Best is trial 11 with value: 0.051586052968752405.\n"
     ]
    },
    {
     "name": "stdout",
     "output_type": "stream",
     "text": [
      "Recommender_Base_Class: URM Detected 627 ( 4.8%) users with no interactions.\n",
      "Recommender_Base_Class: URM Detected 247 ( 1.1%) items with no interactions.\n",
      "EvaluatorHoldout: Processed 10456 (100.0%) in 23.01 sec. Users per second: 454\n"
     ]
    },
    {
     "name": "stderr",
     "output_type": "stream",
     "text": [
      "[I 2023-12-04 17:02:09,304] Trial 91 finished with value: 0.05150189835561936 and parameters: {'cutoff': 13}. Best is trial 11 with value: 0.051586052968752405.\n"
     ]
    },
    {
     "name": "stdout",
     "output_type": "stream",
     "text": [
      "Recommender_Base_Class: URM Detected 627 ( 4.8%) users with no interactions.\n",
      "Recommender_Base_Class: URM Detected 247 ( 1.1%) items with no interactions.\n",
      "EvaluatorHoldout: Processed 10456 (100.0%) in 23.27 sec. Users per second: 449\n"
     ]
    },
    {
     "name": "stderr",
     "output_type": "stream",
     "text": [
      "[I 2023-12-04 17:02:32,734] Trial 92 finished with value: 0.05128568620128539 and parameters: {'cutoff': 106}. Best is trial 11 with value: 0.051586052968752405.\n"
     ]
    },
    {
     "name": "stdout",
     "output_type": "stream",
     "text": [
      "Recommender_Base_Class: URM Detected 627 ( 4.8%) users with no interactions.\n",
      "Recommender_Base_Class: URM Detected 247 ( 1.1%) items with no interactions.\n",
      "EvaluatorHoldout: Processed 10456 (100.0%) in 23.51 sec. Users per second: 445\n"
     ]
    },
    {
     "name": "stderr",
     "output_type": "stream",
     "text": [
      "[I 2023-12-04 17:02:56,395] Trial 93 finished with value: 0.05139393270059922 and parameters: {'cutoff': 55}. Best is trial 11 with value: 0.051586052968752405.\n"
     ]
    },
    {
     "name": "stdout",
     "output_type": "stream",
     "text": [
      "Recommender_Base_Class: URM Detected 627 ( 4.8%) users with no interactions.\n",
      "Recommender_Base_Class: URM Detected 247 ( 1.1%) items with no interactions.\n",
      "EvaluatorHoldout: Processed 10456 (100.0%) in 23.22 sec. Users per second: 450\n"
     ]
    },
    {
     "name": "stderr",
     "output_type": "stream",
     "text": [
      "[I 2023-12-04 17:03:19,776] Trial 94 finished with value: 0.05146412479809626 and parameters: {'cutoff': 11}. Best is trial 11 with value: 0.051586052968752405.\n"
     ]
    },
    {
     "name": "stdout",
     "output_type": "stream",
     "text": [
      "Recommender_Base_Class: URM Detected 627 ( 4.8%) users with no interactions.\n",
      "Recommender_Base_Class: URM Detected 247 ( 1.1%) items with no interactions.\n",
      "EvaluatorHoldout: Processed 10456 (100.0%) in 23.09 sec. Users per second: 453\n"
     ]
    },
    {
     "name": "stderr",
     "output_type": "stream",
     "text": [
      "[I 2023-12-04 17:03:43,026] Trial 95 finished with value: 0.0512787903353134 and parameters: {'cutoff': 130}. Best is trial 11 with value: 0.051586052968752405.\n"
     ]
    },
    {
     "name": "stdout",
     "output_type": "stream",
     "text": [
      "Recommender_Base_Class: URM Detected 627 ( 4.8%) users with no interactions.\n",
      "Recommender_Base_Class: URM Detected 247 ( 1.1%) items with no interactions.\n",
      "EvaluatorHoldout: Processed 10456 (100.0%) in 23.17 sec. Users per second: 451\n"
     ]
    },
    {
     "name": "stderr",
     "output_type": "stream",
     "text": [
      "[I 2023-12-04 17:04:06,358] Trial 96 finished with value: 0.05126382209348978 and parameters: {'cutoff': 208}. Best is trial 11 with value: 0.051586052968752405.\n"
     ]
    },
    {
     "name": "stdout",
     "output_type": "stream",
     "text": [
      "Recommender_Base_Class: URM Detected 627 ( 4.8%) users with no interactions.\n",
      "Recommender_Base_Class: URM Detected 247 ( 1.1%) items with no interactions.\n",
      "EvaluatorHoldout: Processed 10456 (100.0%) in 23.29 sec. Users per second: 449\n"
     ]
    },
    {
     "name": "stderr",
     "output_type": "stream",
     "text": [
      "[I 2023-12-04 17:04:29,804] Trial 97 finished with value: 0.05137094521562818 and parameters: {'cutoff': 61}. Best is trial 11 with value: 0.051586052968752405.\n"
     ]
    },
    {
     "name": "stdout",
     "output_type": "stream",
     "text": [
      "Recommender_Base_Class: URM Detected 627 ( 4.8%) users with no interactions.\n",
      "Recommender_Base_Class: URM Detected 247 ( 1.1%) items with no interactions.\n",
      "EvaluatorHoldout: Processed 10456 (100.0%) in 24.10 sec. Users per second: 434\n"
     ]
    },
    {
     "name": "stderr",
     "output_type": "stream",
     "text": [
      "[I 2023-12-04 17:04:54,081] Trial 98 finished with value: 0.05123705839132441 and parameters: {'cutoff': 744}. Best is trial 11 with value: 0.051586052968752405.\n"
     ]
    },
    {
     "name": "stdout",
     "output_type": "stream",
     "text": [
      "Recommender_Base_Class: URM Detected 627 ( 4.8%) users with no interactions.\n",
      "Recommender_Base_Class: URM Detected 247 ( 1.1%) items with no interactions.\n",
      "EvaluatorHoldout: Processed 10456 (100.0%) in 24.08 sec. Users per second: 434\n"
     ]
    },
    {
     "name": "stderr",
     "output_type": "stream",
     "text": [
      "[I 2023-12-04 17:05:18,320] Trial 99 finished with value: 0.05123695212591592 and parameters: {'cutoff': 1291}. Best is trial 11 with value: 0.051586052968752405.\n"
     ]
    },
    {
     "name": "stdout",
     "output_type": "stream",
     "text": [
      "Recommender_Base_Class: URM Detected 627 ( 4.8%) users with no interactions.\n",
      "Recommender_Base_Class: URM Detected 247 ( 1.1%) items with no interactions.\n",
      "EvaluatorHoldout: Processed 10456 (100.0%) in 23.50 sec. Users per second: 445\n"
     ]
    },
    {
     "name": "stderr",
     "output_type": "stream",
     "text": [
      "[I 2023-12-04 17:05:41,989] Trial 100 finished with value: 0.05127066103156436 and parameters: {'cutoff': 139}. Best is trial 11 with value: 0.051586052968752405.\n"
     ]
    },
    {
     "name": "stdout",
     "output_type": "stream",
     "text": [
      "Recommender_Base_Class: URM Detected 627 ( 4.8%) users with no interactions.\n",
      "Recommender_Base_Class: URM Detected 247 ( 1.1%) items with no interactions.\n",
      "EvaluatorHoldout: Processed 10456 (100.0%) in 22.87 sec. Users per second: 457\n"
     ]
    },
    {
     "name": "stderr",
     "output_type": "stream",
     "text": [
      "[I 2023-12-04 17:06:05,019] Trial 101 finished with value: 0.05137705927180921 and parameters: {'cutoff': 35}. Best is trial 11 with value: 0.051586052968752405.\n"
     ]
    },
    {
     "name": "stdout",
     "output_type": "stream",
     "text": [
      "Recommender_Base_Class: URM Detected 627 ( 4.8%) users with no interactions.\n",
      "Recommender_Base_Class: URM Detected 247 ( 1.1%) items with no interactions.\n",
      "EvaluatorHoldout: Processed 10456 (100.0%) in 23.07 sec. Users per second: 453\n"
     ]
    },
    {
     "name": "stderr",
     "output_type": "stream",
     "text": [
      "[I 2023-12-04 17:06:28,254] Trial 102 finished with value: 0.051295568884274424 and parameters: {'cutoff': 104}. Best is trial 11 with value: 0.051586052968752405.\n"
     ]
    },
    {
     "name": "stdout",
     "output_type": "stream",
     "text": [
      "Recommender_Base_Class: URM Detected 627 ( 4.8%) users with no interactions.\n",
      "Recommender_Base_Class: URM Detected 247 ( 1.1%) items with no interactions.\n",
      "EvaluatorHoldout: Processed 10456 (100.0%) in 23.31 sec. Users per second: 449\n"
     ]
    },
    {
     "name": "stderr",
     "output_type": "stream",
     "text": [
      "[I 2023-12-04 17:06:51,736] Trial 103 finished with value: 0.05124116099513065 and parameters: {'cutoff': 10}. Best is trial 11 with value: 0.051586052968752405.\n"
     ]
    },
    {
     "name": "stdout",
     "output_type": "stream",
     "text": [
      "Recommender_Base_Class: URM Detected 627 ( 4.8%) users with no interactions.\n",
      "Recommender_Base_Class: URM Detected 247 ( 1.1%) items with no interactions.\n",
      "EvaluatorHoldout: Processed 10456 (100.0%) in 23.29 sec. Users per second: 449\n"
     ]
    },
    {
     "name": "stderr",
     "output_type": "stream",
     "text": [
      "[I 2023-12-04 17:07:15,187] Trial 104 finished with value: 0.051310525740518566 and parameters: {'cutoff': 82}. Best is trial 11 with value: 0.051586052968752405.\n"
     ]
    },
    {
     "name": "stdout",
     "output_type": "stream",
     "text": [
      "Recommender_Base_Class: URM Detected 627 ( 4.8%) users with no interactions.\n",
      "Recommender_Base_Class: URM Detected 247 ( 1.1%) items with no interactions.\n",
      "EvaluatorHoldout: Processed 10456 (100.0%) in 23.81 sec. Users per second: 439\n"
     ]
    },
    {
     "name": "stderr",
     "output_type": "stream",
     "text": [
      "[I 2023-12-04 17:07:39,154] Trial 105 finished with value: 0.05126888867635857 and parameters: {'cutoff': 169}. Best is trial 11 with value: 0.051586052968752405.\n"
     ]
    },
    {
     "name": "stdout",
     "output_type": "stream",
     "text": [
      "Recommender_Base_Class: URM Detected 627 ( 4.8%) users with no interactions.\n",
      "Recommender_Base_Class: URM Detected 247 ( 1.1%) items with no interactions.\n",
      "EvaluatorHoldout: Processed 10456 (100.0%) in 23.37 sec. Users per second: 447\n"
     ]
    },
    {
     "name": "stderr",
     "output_type": "stream",
     "text": [
      "[I 2023-12-04 17:08:02,693] Trial 106 finished with value: 0.05124116099513065 and parameters: {'cutoff': 10}. Best is trial 11 with value: 0.051586052968752405.\n"
     ]
    },
    {
     "name": "stdout",
     "output_type": "stream",
     "text": [
      "Recommender_Base_Class: URM Detected 627 ( 4.8%) users with no interactions.\n",
      "Recommender_Base_Class: URM Detected 247 ( 1.1%) items with no interactions.\n",
      "EvaluatorHoldout: Processed 10456 (100.0%) in 23.41 sec. Users per second: 447\n"
     ]
    },
    {
     "name": "stderr",
     "output_type": "stream",
     "text": [
      "[I 2023-12-04 17:08:26,264] Trial 107 finished with value: 0.0513888775033099 and parameters: {'cutoff': 58}. Best is trial 11 with value: 0.051586052968752405.\n"
     ]
    },
    {
     "name": "stdout",
     "output_type": "stream",
     "text": [
      "Recommender_Base_Class: URM Detected 627 ( 4.8%) users with no interactions.\n",
      "Recommender_Base_Class: URM Detected 247 ( 1.1%) items with no interactions.\n",
      "EvaluatorHoldout: Processed 10456 (100.0%) in 23.45 sec. Users per second: 446\n"
     ]
    },
    {
     "name": "stderr",
     "output_type": "stream",
     "text": [
      "[I 2023-12-04 17:08:49,879] Trial 108 finished with value: 0.05124881589973455 and parameters: {'cutoff': 236}. Best is trial 11 with value: 0.051586052968752405.\n"
     ]
    },
    {
     "name": "stdout",
     "output_type": "stream",
     "text": [
      "Recommender_Base_Class: URM Detected 627 ( 4.8%) users with no interactions.\n",
      "Recommender_Base_Class: URM Detected 247 ( 1.1%) items with no interactions.\n",
      "EvaluatorHoldout: Processed 10456 (100.0%) in 23.51 sec. Users per second: 445\n"
     ]
    },
    {
     "name": "stderr",
     "output_type": "stream",
     "text": [
      "[I 2023-12-04 17:09:13,554] Trial 109 finished with value: 0.05126680511531365 and parameters: {'cutoff': 180}. Best is trial 11 with value: 0.051586052968752405.\n"
     ]
    },
    {
     "name": "stdout",
     "output_type": "stream",
     "text": [
      "Recommender_Base_Class: URM Detected 627 ( 4.8%) users with no interactions.\n",
      "Recommender_Base_Class: URM Detected 247 ( 1.1%) items with no interactions.\n",
      "EvaluatorHoldout: Processed 10456 (100.0%) in 23.27 sec. Users per second: 449\n"
     ]
    },
    {
     "name": "stderr",
     "output_type": "stream",
     "text": [
      "[I 2023-12-04 17:09:36,995] Trial 110 finished with value: 0.05128568620128539 and parameters: {'cutoff': 106}. Best is trial 11 with value: 0.051586052968752405.\n"
     ]
    },
    {
     "name": "stdout",
     "output_type": "stream",
     "text": [
      "Recommender_Base_Class: URM Detected 627 ( 4.8%) users with no interactions.\n",
      "Recommender_Base_Class: URM Detected 247 ( 1.1%) items with no interactions.\n",
      "EvaluatorHoldout: Processed 10456 (100.0%) in 23.24 sec. Users per second: 450\n"
     ]
    },
    {
     "name": "stderr",
     "output_type": "stream",
     "text": [
      "[I 2023-12-04 17:10:00,400] Trial 111 finished with value: 0.051404422614493885 and parameters: {'cutoff': 41}. Best is trial 11 with value: 0.051586052968752405.\n"
     ]
    },
    {
     "name": "stdout",
     "output_type": "stream",
     "text": [
      "Recommender_Base_Class: URM Detected 627 ( 4.8%) users with no interactions.\n",
      "Recommender_Base_Class: URM Detected 247 ( 1.1%) items with no interactions.\n",
      "EvaluatorHoldout: Processed 10456 (100.0%) in 23.10 sec. Users per second: 453\n"
     ]
    },
    {
     "name": "stderr",
     "output_type": "stream",
     "text": [
      "[I 2023-12-04 17:10:23,666] Trial 112 finished with value: 0.051343198558434465 and parameters: {'cutoff': 12}. Best is trial 11 with value: 0.051586052968752405.\n"
     ]
    },
    {
     "name": "stdout",
     "output_type": "stream",
     "text": [
      "Recommender_Base_Class: URM Detected 627 ( 4.8%) users with no interactions.\n",
      "Recommender_Base_Class: URM Detected 247 ( 1.1%) items with no interactions.\n",
      "EvaluatorHoldout: Processed 10456 (100.0%) in 23.21 sec. Users per second: 451\n"
     ]
    },
    {
     "name": "stderr",
     "output_type": "stream",
     "text": [
      "[I 2023-12-04 17:10:47,038] Trial 113 finished with value: 0.05130172089238703 and parameters: {'cutoff': 91}. Best is trial 11 with value: 0.051586052968752405.\n"
     ]
    },
    {
     "name": "stdout",
     "output_type": "stream",
     "text": [
      "Recommender_Base_Class: URM Detected 627 ( 4.8%) users with no interactions.\n",
      "Recommender_Base_Class: URM Detected 247 ( 1.1%) items with no interactions.\n",
      "EvaluatorHoldout: Processed 10456 (100.0%) in 23.39 sec. Users per second: 447\n"
     ]
    },
    {
     "name": "stderr",
     "output_type": "stream",
     "text": [
      "[I 2023-12-04 17:11:10,586] Trial 114 finished with value: 0.05127610713374917 and parameters: {'cutoff': 135}. Best is trial 11 with value: 0.051586052968752405.\n"
     ]
    },
    {
     "name": "stdout",
     "output_type": "stream",
     "text": [
      "Recommender_Base_Class: URM Detected 627 ( 4.8%) users with no interactions.\n",
      "Recommender_Base_Class: URM Detected 247 ( 1.1%) items with no interactions.\n",
      "EvaluatorHoldout: Processed 10456 (100.0%) in 23.31 sec. Users per second: 449\n"
     ]
    },
    {
     "name": "stderr",
     "output_type": "stream",
     "text": [
      "[I 2023-12-04 17:11:34,048] Trial 115 finished with value: 0.05137985253397506 and parameters: {'cutoff': 59}. Best is trial 11 with value: 0.051586052968752405.\n"
     ]
    },
    {
     "name": "stdout",
     "output_type": "stream",
     "text": [
      "Recommender_Base_Class: URM Detected 627 ( 4.8%) users with no interactions.\n",
      "Recommender_Base_Class: URM Detected 247 ( 1.1%) items with no interactions.\n",
      "EvaluatorHoldout: Processed 10456 (100.0%) in 23.34 sec. Users per second: 448\n"
     ]
    },
    {
     "name": "stderr",
     "output_type": "stream",
     "text": [
      "[I 2023-12-04 17:11:57,554] Trial 116 finished with value: 0.051248174512090496 and parameters: {'cutoff': 297}. Best is trial 11 with value: 0.051586052968752405.\n"
     ]
    },
    {
     "name": "stdout",
     "output_type": "stream",
     "text": [
      "Recommender_Base_Class: URM Detected 627 ( 4.8%) users with no interactions.\n",
      "Recommender_Base_Class: URM Detected 247 ( 1.1%) items with no interactions.\n",
      "EvaluatorHoldout: Processed 10456 (100.0%) in 23.27 sec. Users per second: 449\n"
     ]
    },
    {
     "name": "stderr",
     "output_type": "stream",
     "text": [
      "[I 2023-12-04 17:12:20,979] Trial 117 finished with value: 0.05126537053229912 and parameters: {'cutoff': 190}. Best is trial 11 with value: 0.051586052968752405.\n"
     ]
    },
    {
     "name": "stdout",
     "output_type": "stream",
     "text": [
      "Recommender_Base_Class: URM Detected 627 ( 4.8%) users with no interactions.\n",
      "Recommender_Base_Class: URM Detected 247 ( 1.1%) items with no interactions.\n",
      "EvaluatorHoldout: Processed 10456 (100.0%) in 23.05 sec. Users per second: 454\n"
     ]
    },
    {
     "name": "stderr",
     "output_type": "stream",
     "text": [
      "[I 2023-12-04 17:12:44,188] Trial 118 finished with value: 0.05140131055610255 and parameters: {'cutoff': 48}. Best is trial 11 with value: 0.051586052968752405.\n"
     ]
    },
    {
     "name": "stdout",
     "output_type": "stream",
     "text": [
      "Recommender_Base_Class: URM Detected 627 ( 4.8%) users with no interactions.\n",
      "Recommender_Base_Class: URM Detected 247 ( 1.1%) items with no interactions.\n",
      "EvaluatorHoldout: Processed 10456 (100.0%) in 23.62 sec. Users per second: 443\n"
     ]
    },
    {
     "name": "stderr",
     "output_type": "stream",
     "text": [
      "[I 2023-12-04 17:13:07,973] Trial 119 finished with value: 0.05128404288264705 and parameters: {'cutoff': 109}. Best is trial 11 with value: 0.051586052968752405.\n"
     ]
    },
    {
     "name": "stdout",
     "output_type": "stream",
     "text": [
      "Recommender_Base_Class: URM Detected 627 ( 4.8%) users with no interactions.\n",
      "Recommender_Base_Class: URM Detected 247 ( 1.1%) items with no interactions.\n",
      "EvaluatorHoldout: Processed 10456 (100.0%) in 23.34 sec. Users per second: 448\n"
     ]
    },
    {
     "name": "stderr",
     "output_type": "stream",
     "text": [
      "[I 2023-12-04 17:13:31,479] Trial 120 finished with value: 0.051343198558434465 and parameters: {'cutoff': 12}. Best is trial 11 with value: 0.051586052968752405.\n"
     ]
    },
    {
     "name": "stdout",
     "output_type": "stream",
     "text": [
      "Recommender_Base_Class: URM Detected 627 ( 4.8%) users with no interactions.\n",
      "Recommender_Base_Class: URM Detected 247 ( 1.1%) items with no interactions.\n",
      "EvaluatorHoldout: Processed 10456 (100.0%) in 23.36 sec. Users per second: 448\n"
     ]
    },
    {
     "name": "stderr",
     "output_type": "stream",
     "text": [
      "[I 2023-12-04 17:13:54,991] Trial 121 finished with value: 0.05130074173255169 and parameters: {'cutoff': 86}. Best is trial 11 with value: 0.051586052968752405.\n"
     ]
    },
    {
     "name": "stdout",
     "output_type": "stream",
     "text": [
      "Recommender_Base_Class: URM Detected 627 ( 4.8%) users with no interactions.\n",
      "Recommender_Base_Class: URM Detected 247 ( 1.1%) items with no interactions.\n",
      "EvaluatorHoldout: Processed 10456 (100.0%) in 23.19 sec. Users per second: 451\n"
     ]
    },
    {
     "name": "stderr",
     "output_type": "stream",
     "text": [
      "[I 2023-12-04 17:14:18,331] Trial 122 finished with value: 0.05126511625435737 and parameters: {'cutoff': 149}. Best is trial 11 with value: 0.051586052968752405.\n"
     ]
    },
    {
     "name": "stdout",
     "output_type": "stream",
     "text": [
      "Recommender_Base_Class: URM Detected 627 ( 4.8%) users with no interactions.\n",
      "Recommender_Base_Class: URM Detected 247 ( 1.1%) items with no interactions.\n",
      "EvaluatorHoldout: Processed 10456 (100.0%) in 22.93 sec. Users per second: 456\n"
     ]
    },
    {
     "name": "stderr",
     "output_type": "stream",
     "text": [
      "[I 2023-12-04 17:14:41,437] Trial 123 finished with value: 0.051404422614493885 and parameters: {'cutoff': 41}. Best is trial 11 with value: 0.051586052968752405.\n"
     ]
    },
    {
     "name": "stdout",
     "output_type": "stream",
     "text": [
      "Recommender_Base_Class: URM Detected 627 ( 4.8%) users with no interactions.\n",
      "Recommender_Base_Class: URM Detected 247 ( 1.1%) items with no interactions.\n",
      "EvaluatorHoldout: Processed 10456 (100.0%) in 23.01 sec. Users per second: 454\n"
     ]
    },
    {
     "name": "stderr",
     "output_type": "stream",
     "text": [
      "[I 2023-12-04 17:15:04,610] Trial 124 finished with value: 0.051326829890334574 and parameters: {'cutoff': 78}. Best is trial 11 with value: 0.051586052968752405.\n"
     ]
    },
    {
     "name": "stdout",
     "output_type": "stream",
     "text": [
      "Recommender_Base_Class: URM Detected 627 ( 4.8%) users with no interactions.\n",
      "Recommender_Base_Class: URM Detected 247 ( 1.1%) items with no interactions.\n",
      "EvaluatorHoldout: Processed 10456 (100.0%) in 23.80 sec. Users per second: 439\n"
     ]
    },
    {
     "name": "stderr",
     "output_type": "stream",
     "text": [
      "[I 2023-12-04 17:15:28,565] Trial 125 finished with value: 0.05123678134222372 and parameters: {'cutoff': 1575}. Best is trial 11 with value: 0.051586052968752405.\n"
     ]
    },
    {
     "name": "stdout",
     "output_type": "stream",
     "text": [
      "Recommender_Base_Class: URM Detected 627 ( 4.8%) users with no interactions.\n",
      "Recommender_Base_Class: URM Detected 247 ( 1.1%) items with no interactions.\n",
      "EvaluatorHoldout: Processed 10456 (100.0%) in 23.27 sec. Users per second: 449\n"
     ]
    },
    {
     "name": "stderr",
     "output_type": "stream",
     "text": [
      "[I 2023-12-04 17:15:51,985] Trial 126 finished with value: 0.05127422471794174 and parameters: {'cutoff': 127}. Best is trial 11 with value: 0.051586052968752405.\n"
     ]
    },
    {
     "name": "stdout",
     "output_type": "stream",
     "text": [
      "Recommender_Base_Class: URM Detected 627 ( 4.8%) users with no interactions.\n",
      "Recommender_Base_Class: URM Detected 247 ( 1.1%) items with no interactions.\n",
      "EvaluatorHoldout: Processed 10456 (100.0%) in 23.89 sec. Users per second: 438\n"
     ]
    },
    {
     "name": "stderr",
     "output_type": "stream",
     "text": [
      "[I 2023-12-04 17:16:16,036] Trial 127 finished with value: 0.05123678134222372 and parameters: {'cutoff': 1897}. Best is trial 11 with value: 0.051586052968752405.\n"
     ]
    },
    {
     "name": "stdout",
     "output_type": "stream",
     "text": [
      "Recommender_Base_Class: URM Detected 627 ( 4.8%) users with no interactions.\n",
      "Recommender_Base_Class: URM Detected 247 ( 1.1%) items with no interactions.\n",
      "EvaluatorHoldout: Processed 10456 (100.0%) in 22.92 sec. Users per second: 456\n"
     ]
    },
    {
     "name": "stderr",
     "output_type": "stream",
     "text": [
      "[I 2023-12-04 17:16:39,118] Trial 128 finished with value: 0.051406775634253166 and parameters: {'cutoff': 46}. Best is trial 11 with value: 0.051586052968752405.\n"
     ]
    },
    {
     "name": "stdout",
     "output_type": "stream",
     "text": [
      "Recommender_Base_Class: URM Detected 627 ( 4.8%) users with no interactions.\n",
      "Recommender_Base_Class: URM Detected 247 ( 1.1%) items with no interactions.\n",
      "EvaluatorHoldout: Processed 10456 (100.0%) in 22.85 sec. Users per second: 458\n"
     ]
    },
    {
     "name": "stderr",
     "output_type": "stream",
     "text": [
      "[I 2023-12-04 17:17:02,128] Trial 129 finished with value: 0.05146412479809626 and parameters: {'cutoff': 11}. Best is trial 11 with value: 0.051586052968752405.\n"
     ]
    },
    {
     "name": "stdout",
     "output_type": "stream",
     "text": [
      "Recommender_Base_Class: URM Detected 627 ( 4.8%) users with no interactions.\n",
      "Recommender_Base_Class: URM Detected 247 ( 1.1%) items with no interactions.\n",
      "EvaluatorHoldout: Processed 10456 (100.0%) in 23.54 sec. Users per second: 444\n"
     ]
    },
    {
     "name": "stderr",
     "output_type": "stream",
     "text": [
      "[I 2023-12-04 17:17:25,836] Trial 130 finished with value: 0.05126888867635857 and parameters: {'cutoff': 169}. Best is trial 11 with value: 0.051586052968752405.\n"
     ]
    },
    {
     "name": "stdout",
     "output_type": "stream",
     "text": [
      "Recommender_Base_Class: URM Detected 627 ( 4.8%) users with no interactions.\n",
      "Recommender_Base_Class: URM Detected 247 ( 1.1%) items with no interactions.\n",
      "EvaluatorHoldout: Processed 10456 (100.0%) in 23.01 sec. Users per second: 454\n"
     ]
    },
    {
     "name": "stderr",
     "output_type": "stream",
     "text": [
      "[I 2023-12-04 17:17:49,010] Trial 131 finished with value: 0.05124116099513065 and parameters: {'cutoff': 10}. Best is trial 11 with value: 0.051586052968752405.\n"
     ]
    },
    {
     "name": "stdout",
     "output_type": "stream",
     "text": [
      "Recommender_Base_Class: URM Detected 627 ( 4.8%) users with no interactions.\n",
      "Recommender_Base_Class: URM Detected 247 ( 1.1%) items with no interactions.\n",
      "EvaluatorHoldout: Processed 10456 (100.0%) in 23.23 sec. Users per second: 450\n"
     ]
    },
    {
     "name": "stderr",
     "output_type": "stream",
     "text": [
      "[I 2023-12-04 17:18:12,411] Trial 132 finished with value: 0.051299614560183136 and parameters: {'cutoff': 85}. Best is trial 11 with value: 0.051586052968752405.\n"
     ]
    },
    {
     "name": "stdout",
     "output_type": "stream",
     "text": [
      "Recommender_Base_Class: URM Detected 627 ( 4.8%) users with no interactions.\n",
      "Recommender_Base_Class: URM Detected 247 ( 1.1%) items with no interactions.\n",
      "EvaluatorHoldout: Processed 10456 (100.0%) in 23.32 sec. Users per second: 448\n"
     ]
    },
    {
     "name": "stderr",
     "output_type": "stream",
     "text": [
      "[I 2023-12-04 17:18:35,898] Trial 133 finished with value: 0.05140131055610255 and parameters: {'cutoff': 48}. Best is trial 11 with value: 0.051586052968752405.\n"
     ]
    },
    {
     "name": "stdout",
     "output_type": "stream",
     "text": [
      "Recommender_Base_Class: URM Detected 627 ( 4.8%) users with no interactions.\n",
      "Recommender_Base_Class: URM Detected 247 ( 1.1%) items with no interactions.\n",
      "EvaluatorHoldout: Processed 10456 (100.0%) in 23.27 sec. Users per second: 449\n"
     ]
    },
    {
     "name": "stderr",
     "output_type": "stream",
     "text": [
      "[I 2023-12-04 17:18:59,335] Trial 134 finished with value: 0.05127175404719447 and parameters: {'cutoff': 123}. Best is trial 11 with value: 0.051586052968752405.\n"
     ]
    },
    {
     "name": "stdout",
     "output_type": "stream",
     "text": [
      "Recommender_Base_Class: URM Detected 627 ( 4.8%) users with no interactions.\n",
      "Recommender_Base_Class: URM Detected 247 ( 1.1%) items with no interactions.\n",
      "EvaluatorHoldout: Processed 10456 (100.0%) in 23.03 sec. Users per second: 454\n"
     ]
    },
    {
     "name": "stderr",
     "output_type": "stream",
     "text": [
      "[I 2023-12-04 17:19:22,523] Trial 135 finished with value: 0.051329983695850644 and parameters: {'cutoff': 75}. Best is trial 11 with value: 0.051586052968752405.\n"
     ]
    },
    {
     "name": "stdout",
     "output_type": "stream",
     "text": [
      "Recommender_Base_Class: URM Detected 627 ( 4.8%) users with no interactions.\n",
      "Recommender_Base_Class: URM Detected 247 ( 1.1%) items with no interactions.\n",
      "EvaluatorHoldout: Processed 10456 (100.0%) in 22.94 sec. Users per second: 456\n"
     ]
    },
    {
     "name": "stderr",
     "output_type": "stream",
     "text": [
      "[I 2023-12-04 17:19:45,619] Trial 136 finished with value: 0.05150189835561936 and parameters: {'cutoff': 13}. Best is trial 11 with value: 0.051586052968752405.\n"
     ]
    },
    {
     "name": "stdout",
     "output_type": "stream",
     "text": [
      "Recommender_Base_Class: URM Detected 627 ( 4.8%) users with no interactions.\n",
      "Recommender_Base_Class: URM Detected 247 ( 1.1%) items with no interactions.\n",
      "EvaluatorHoldout: Processed 10456 (100.0%) in 23.33 sec. Users per second: 448\n"
     ]
    },
    {
     "name": "stderr",
     "output_type": "stream",
     "text": [
      "[I 2023-12-04 17:20:09,126] Trial 137 finished with value: 0.05126348052610536 and parameters: {'cutoff': 217}. Best is trial 11 with value: 0.051586052968752405.\n"
     ]
    },
    {
     "name": "stdout",
     "output_type": "stream",
     "text": [
      "Recommender_Base_Class: URM Detected 627 ( 4.8%) users with no interactions.\n",
      "Recommender_Base_Class: URM Detected 247 ( 1.1%) items with no interactions.\n",
      "EvaluatorHoldout: Processed 10456 (100.0%) in 23.14 sec. Users per second: 452\n"
     ]
    },
    {
     "name": "stderr",
     "output_type": "stream",
     "text": [
      "[I 2023-12-04 17:20:32,439] Trial 138 finished with value: 0.05128159877825191 and parameters: {'cutoff': 112}. Best is trial 11 with value: 0.051586052968752405.\n"
     ]
    },
    {
     "name": "stdout",
     "output_type": "stream",
     "text": [
      "Recommender_Base_Class: URM Detected 627 ( 4.8%) users with no interactions.\n",
      "Recommender_Base_Class: URM Detected 247 ( 1.1%) items with no interactions.\n",
      "EvaluatorHoldout: Processed 10456 (100.0%) in 23.16 sec. Users per second: 451\n"
     ]
    },
    {
     "name": "stderr",
     "output_type": "stream",
     "text": [
      "[I 2023-12-04 17:20:55,755] Trial 139 finished with value: 0.05137094521562818 and parameters: {'cutoff': 60}. Best is trial 11 with value: 0.051586052968752405.\n"
     ]
    },
    {
     "name": "stdout",
     "output_type": "stream",
     "text": [
      "Recommender_Base_Class: URM Detected 627 ( 4.8%) users with no interactions.\n",
      "Recommender_Base_Class: URM Detected 247 ( 1.1%) items with no interactions.\n",
      "EvaluatorHoldout: Processed 10456 (100.0%) in 23.29 sec. Users per second: 449\n"
     ]
    },
    {
     "name": "stderr",
     "output_type": "stream",
     "text": [
      "[I 2023-12-04 17:21:19,204] Trial 140 finished with value: 0.05126511625435737 and parameters: {'cutoff': 150}. Best is trial 11 with value: 0.051586052968752405.\n"
     ]
    },
    {
     "name": "stdout",
     "output_type": "stream",
     "text": [
      "Recommender_Base_Class: URM Detected 627 ( 4.8%) users with no interactions.\n",
      "Recommender_Base_Class: URM Detected 247 ( 1.1%) items with no interactions.\n",
      "EvaluatorHoldout: Processed 10456 (100.0%) in 23.06 sec. Users per second: 453\n"
     ]
    },
    {
     "name": "stderr",
     "output_type": "stream",
     "text": [
      "[I 2023-12-04 17:21:42,424] Trial 141 finished with value: 0.05124116099513065 and parameters: {'cutoff': 10}. Best is trial 11 with value: 0.051586052968752405.\n"
     ]
    },
    {
     "name": "stdout",
     "output_type": "stream",
     "text": [
      "Recommender_Base_Class: URM Detected 627 ( 4.8%) users with no interactions.\n",
      "Recommender_Base_Class: URM Detected 247 ( 1.1%) items with no interactions.\n",
      "EvaluatorHoldout: Processed 10456 (100.0%) in 23.05 sec. Users per second: 454\n"
     ]
    },
    {
     "name": "stderr",
     "output_type": "stream",
     "text": [
      "[I 2023-12-04 17:22:05,625] Trial 142 finished with value: 0.051402320077483146 and parameters: {'cutoff': 43}. Best is trial 11 with value: 0.051586052968752405.\n"
     ]
    },
    {
     "name": "stdout",
     "output_type": "stream",
     "text": [
      "Recommender_Base_Class: URM Detected 627 ( 4.8%) users with no interactions.\n",
      "Recommender_Base_Class: URM Detected 247 ( 1.1%) items with no interactions.\n",
      "EvaluatorHoldout: Processed 10456 (100.0%) in 22.96 sec. Users per second: 455\n"
     ]
    },
    {
     "name": "stderr",
     "output_type": "stream",
     "text": [
      "[I 2023-12-04 17:22:28,740] Trial 143 finished with value: 0.051299614560183136 and parameters: {'cutoff': 85}. Best is trial 11 with value: 0.051586052968752405.\n"
     ]
    },
    {
     "name": "stdout",
     "output_type": "stream",
     "text": [
      "Recommender_Base_Class: URM Detected 627 ( 4.8%) users with no interactions.\n",
      "Recommender_Base_Class: URM Detected 247 ( 1.1%) items with no interactions.\n",
      "EvaluatorHoldout: Processed 10456 (100.0%) in 22.96 sec. Users per second: 455\n"
     ]
    },
    {
     "name": "stderr",
     "output_type": "stream",
     "text": [
      "[I 2023-12-04 17:22:51,857] Trial 144 finished with value: 0.051404422614493885 and parameters: {'cutoff': 41}. Best is trial 11 with value: 0.051586052968752405.\n"
     ]
    },
    {
     "name": "stdout",
     "output_type": "stream",
     "text": [
      "Recommender_Base_Class: URM Detected 627 ( 4.8%) users with no interactions.\n",
      "Recommender_Base_Class: URM Detected 247 ( 1.1%) items with no interactions.\n",
      "EvaluatorHoldout: Processed 10456 (100.0%) in 23.14 sec. Users per second: 452\n"
     ]
    },
    {
     "name": "stderr",
     "output_type": "stream",
     "text": [
      "[I 2023-12-04 17:23:15,152] Trial 145 finished with value: 0.05124116099513065 and parameters: {'cutoff': 10}. Best is trial 11 with value: 0.051586052968752405.\n"
     ]
    },
    {
     "name": "stdout",
     "output_type": "stream",
     "text": [
      "Recommender_Base_Class: URM Detected 627 ( 4.8%) users with no interactions.\n",
      "Recommender_Base_Class: URM Detected 247 ( 1.1%) items with no interactions.\n",
      "EvaluatorHoldout: Processed 10456 (100.0%) in 23.18 sec. Users per second: 451\n"
     ]
    },
    {
     "name": "stderr",
     "output_type": "stream",
     "text": [
      "[I 2023-12-04 17:23:38,507] Trial 146 finished with value: 0.05129990679005648 and parameters: {'cutoff': 100}. Best is trial 11 with value: 0.051586052968752405.\n"
     ]
    },
    {
     "name": "stdout",
     "output_type": "stream",
     "text": [
      "Recommender_Base_Class: URM Detected 627 ( 4.8%) users with no interactions.\n",
      "Recommender_Base_Class: URM Detected 247 ( 1.1%) items with no interactions.\n",
      "EvaluatorHoldout: Processed 10456 (100.0%) in 23.08 sec. Users per second: 453\n"
     ]
    },
    {
     "name": "stderr",
     "output_type": "stream",
     "text": [
      "[I 2023-12-04 17:24:01,744] Trial 147 finished with value: 0.05126945795533259 and parameters: {'cutoff': 153}. Best is trial 11 with value: 0.051586052968752405.\n"
     ]
    },
    {
     "name": "stdout",
     "output_type": "stream",
     "text": [
      "Recommender_Base_Class: URM Detected 627 ( 4.8%) users with no interactions.\n",
      "Recommender_Base_Class: URM Detected 247 ( 1.1%) items with no interactions.\n",
      "EvaluatorHoldout: Processed 10456 (100.0%) in 23.48 sec. Users per second: 445\n"
     ]
    },
    {
     "name": "stderr",
     "output_type": "stream",
     "text": [
      "[I 2023-12-04 17:24:25,387] Trial 148 finished with value: 0.05140119290511459 and parameters: {'cutoff': 52}. Best is trial 11 with value: 0.051586052968752405.\n"
     ]
    },
    {
     "name": "stdout",
     "output_type": "stream",
     "text": [
      "Recommender_Base_Class: URM Detected 627 ( 4.8%) users with no interactions.\n",
      "Recommender_Base_Class: URM Detected 247 ( 1.1%) items with no interactions.\n",
      "EvaluatorHoldout: Processed 10456 (100.0%) in 23.27 sec. Users per second: 449\n"
     ]
    },
    {
     "name": "stderr",
     "output_type": "stream",
     "text": [
      "[I 2023-12-04 17:24:48,815] Trial 149 finished with value: 0.051284255413464014 and parameters: {'cutoff': 108}. Best is trial 11 with value: 0.051586052968752405.\n"
     ]
    },
    {
     "name": "stdout",
     "output_type": "stream",
     "text": [
      "Recommender_Base_Class: URM Detected 627 ( 4.8%) users with no interactions.\n",
      "Recommender_Base_Class: URM Detected 247 ( 1.1%) items with no interactions.\n",
      "EvaluatorHoldout: Processed 10456 (100.0%) in 23.38 sec. Users per second: 447\n"
     ]
    },
    {
     "name": "stderr",
     "output_type": "stream",
     "text": [
      "[I 2023-12-04 17:25:12,357] Trial 150 finished with value: 0.051326829890334574 and parameters: {'cutoff': 78}. Best is trial 11 with value: 0.051586052968752405.\n"
     ]
    },
    {
     "name": "stdout",
     "output_type": "stream",
     "text": [
      "Recommender_Base_Class: URM Detected 627 ( 4.8%) users with no interactions.\n",
      "Recommender_Base_Class: URM Detected 247 ( 1.1%) items with no interactions.\n",
      "EvaluatorHoldout: Processed 10456 (100.0%) in 23.36 sec. Users per second: 448\n"
     ]
    },
    {
     "name": "stderr",
     "output_type": "stream",
     "text": [
      "[I 2023-12-04 17:25:35,880] Trial 151 finished with value: 0.05150189835561936 and parameters: {'cutoff': 13}. Best is trial 11 with value: 0.051586052968752405.\n"
     ]
    },
    {
     "name": "stdout",
     "output_type": "stream",
     "text": [
      "Recommender_Base_Class: URM Detected 627 ( 4.8%) users with no interactions.\n",
      "Recommender_Base_Class: URM Detected 247 ( 1.1%) items with no interactions.\n",
      "EvaluatorHoldout: Processed 10456 (100.0%) in 23.59 sec. Users per second: 443\n"
     ]
    },
    {
     "name": "stderr",
     "output_type": "stream",
     "text": [
      "[I 2023-12-04 17:25:59,642] Trial 152 finished with value: 0.05124116099513065 and parameters: {'cutoff': 10}. Best is trial 11 with value: 0.051586052968752405.\n"
     ]
    },
    {
     "name": "stdout",
     "output_type": "stream",
     "text": [
      "Recommender_Base_Class: URM Detected 627 ( 4.8%) users with no interactions.\n",
      "Recommender_Base_Class: URM Detected 247 ( 1.1%) items with no interactions.\n",
      "EvaluatorHoldout: Processed 10456 (100.0%) in 23.34 sec. Users per second: 448\n"
     ]
    },
    {
     "name": "stderr",
     "output_type": "stream",
     "text": [
      "[I 2023-12-04 17:26:23,160] Trial 153 finished with value: 0.05139707512053583 and parameters: {'cutoff': 53}. Best is trial 11 with value: 0.051586052968752405.\n"
     ]
    },
    {
     "name": "stdout",
     "output_type": "stream",
     "text": [
      "Recommender_Base_Class: URM Detected 627 ( 4.8%) users with no interactions.\n",
      "Recommender_Base_Class: URM Detected 247 ( 1.1%) items with no interactions.\n",
      "EvaluatorHoldout: Processed 10456 (100.0%) in 23.28 sec. Users per second: 449\n"
     ]
    },
    {
     "name": "stderr",
     "output_type": "stream",
     "text": [
      "[I 2023-12-04 17:26:46,612] Trial 154 finished with value: 0.05140482490496884 and parameters: {'cutoff': 45}. Best is trial 11 with value: 0.051586052968752405.\n"
     ]
    },
    {
     "name": "stdout",
     "output_type": "stream",
     "text": [
      "Recommender_Base_Class: URM Detected 627 ( 4.8%) users with no interactions.\n",
      "Recommender_Base_Class: URM Detected 247 ( 1.1%) items with no interactions.\n",
      "EvaluatorHoldout: Processed 10456 (100.0%) in 23.49 sec. Users per second: 445\n"
     ]
    },
    {
     "name": "stderr",
     "output_type": "stream",
     "text": [
      "[I 2023-12-04 17:27:10,264] Trial 155 finished with value: 0.05127116579225465 and parameters: {'cutoff': 117}. Best is trial 11 with value: 0.051586052968752405.\n"
     ]
    },
    {
     "name": "stdout",
     "output_type": "stream",
     "text": [
      "Recommender_Base_Class: URM Detected 627 ( 4.8%) users with no interactions.\n",
      "Recommender_Base_Class: URM Detected 247 ( 1.1%) items with no interactions.\n",
      "EvaluatorHoldout: Processed 10456 (100.0%) in 23.28 sec. Users per second: 449\n"
     ]
    },
    {
     "name": "stderr",
     "output_type": "stream",
     "text": [
      "[I 2023-12-04 17:27:33,700] Trial 156 finished with value: 0.05146412479809626 and parameters: {'cutoff': 11}. Best is trial 11 with value: 0.051586052968752405.\n"
     ]
    },
    {
     "name": "stdout",
     "output_type": "stream",
     "text": [
      "Recommender_Base_Class: URM Detected 627 ( 4.8%) users with no interactions.\n",
      "Recommender_Base_Class: URM Detected 247 ( 1.1%) items with no interactions.\n",
      "EvaluatorHoldout: Processed 10456 (100.0%) in 23.28 sec. Users per second: 449\n"
     ]
    },
    {
     "name": "stderr",
     "output_type": "stream",
     "text": [
      "[I 2023-12-04 17:27:57,133] Trial 157 finished with value: 0.051310525740518566 and parameters: {'cutoff': 82}. Best is trial 11 with value: 0.051586052968752405.\n"
     ]
    },
    {
     "name": "stdout",
     "output_type": "stream",
     "text": [
      "Recommender_Base_Class: URM Detected 627 ( 4.8%) users with no interactions.\n",
      "Recommender_Base_Class: URM Detected 247 ( 1.1%) items with no interactions.\n",
      "EvaluatorHoldout: Processed 10456 (100.0%) in 23.41 sec. Users per second: 447\n"
     ]
    },
    {
     "name": "stderr",
     "output_type": "stream",
     "text": [
      "[I 2023-12-04 17:28:20,711] Trial 158 finished with value: 0.05126511625435737 and parameters: {'cutoff': 149}. Best is trial 11 with value: 0.051586052968752405.\n"
     ]
    },
    {
     "name": "stdout",
     "output_type": "stream",
     "text": [
      "Recommender_Base_Class: URM Detected 627 ( 4.8%) users with no interactions.\n",
      "Recommender_Base_Class: URM Detected 247 ( 1.1%) items with no interactions.\n",
      "EvaluatorHoldout: Processed 10456 (100.0%) in 23.35 sec. Users per second: 448\n"
     ]
    },
    {
     "name": "stderr",
     "output_type": "stream",
     "text": [
      "[I 2023-12-04 17:28:44,234] Trial 159 finished with value: 0.05126537053229912 and parameters: {'cutoff': 188}. Best is trial 11 with value: 0.051586052968752405.\n"
     ]
    },
    {
     "name": "stdout",
     "output_type": "stream",
     "text": [
      "Recommender_Base_Class: URM Detected 627 ( 4.8%) users with no interactions.\n",
      "Recommender_Base_Class: URM Detected 247 ( 1.1%) items with no interactions.\n",
      "EvaluatorHoldout: Processed 10456 (100.0%) in 23.53 sec. Users per second: 444\n"
     ]
    },
    {
     "name": "stderr",
     "output_type": "stream",
     "text": [
      "[I 2023-12-04 17:29:07,927] Trial 160 finished with value: 0.05124116099513065 and parameters: {'cutoff': 10}. Best is trial 11 with value: 0.051586052968752405.\n"
     ]
    },
    {
     "name": "stdout",
     "output_type": "stream",
     "text": [
      "Recommender_Base_Class: URM Detected 627 ( 4.8%) users with no interactions.\n",
      "Recommender_Base_Class: URM Detected 247 ( 1.1%) items with no interactions.\n",
      "EvaluatorHoldout: Processed 10456 (100.0%) in 23.35 sec. Users per second: 448\n"
     ]
    },
    {
     "name": "stderr",
     "output_type": "stream",
     "text": [
      "[I 2023-12-04 17:29:31,441] Trial 161 finished with value: 0.05140131055610255 and parameters: {'cutoff': 48}. Best is trial 11 with value: 0.051586052968752405.\n"
     ]
    },
    {
     "name": "stdout",
     "output_type": "stream",
     "text": [
      "Recommender_Base_Class: URM Detected 627 ( 4.8%) users with no interactions.\n",
      "Recommender_Base_Class: URM Detected 247 ( 1.1%) items with no interactions.\n",
      "EvaluatorHoldout: Processed 10456 (100.0%) in 23.18 sec. Users per second: 451\n"
     ]
    },
    {
     "name": "stderr",
     "output_type": "stream",
     "text": [
      "[I 2023-12-04 17:29:54,783] Trial 162 finished with value: 0.051311463153229125 and parameters: {'cutoff': 81}. Best is trial 11 with value: 0.051586052968752405.\n"
     ]
    },
    {
     "name": "stdout",
     "output_type": "stream",
     "text": [
      "Recommender_Base_Class: URM Detected 627 ( 4.8%) users with no interactions.\n",
      "Recommender_Base_Class: URM Detected 247 ( 1.1%) items with no interactions.\n",
      "EvaluatorHoldout: Processed 10456 (100.0%) in 23.06 sec. Users per second: 454\n"
     ]
    },
    {
     "name": "stderr",
     "output_type": "stream",
     "text": [
      "[I 2023-12-04 17:30:18,001] Trial 163 finished with value: 0.05140131055610255 and parameters: {'cutoff': 48}. Best is trial 11 with value: 0.051586052968752405.\n"
     ]
    },
    {
     "name": "stdout",
     "output_type": "stream",
     "text": [
      "Recommender_Base_Class: URM Detected 627 ( 4.8%) users with no interactions.\n",
      "Recommender_Base_Class: URM Detected 247 ( 1.1%) items with no interactions.\n",
      "EvaluatorHoldout: Processed 10456 (100.0%) in 23.31 sec. Users per second: 449\n"
     ]
    },
    {
     "name": "stderr",
     "output_type": "stream",
     "text": [
      "[I 2023-12-04 17:30:41,475] Trial 164 finished with value: 0.05146412479809626 and parameters: {'cutoff': 11}. Best is trial 11 with value: 0.051586052968752405.\n"
     ]
    },
    {
     "name": "stdout",
     "output_type": "stream",
     "text": [
      "Recommender_Base_Class: URM Detected 627 ( 4.8%) users with no interactions.\n",
      "Recommender_Base_Class: URM Detected 247 ( 1.1%) items with no interactions.\n",
      "EvaluatorHoldout: Processed 10456 (100.0%) in 23.38 sec. Users per second: 447\n"
     ]
    },
    {
     "name": "stderr",
     "output_type": "stream",
     "text": [
      "[I 2023-12-04 17:31:05,032] Trial 165 finished with value: 0.05127690412431281 and parameters: {'cutoff': 116}. Best is trial 11 with value: 0.051586052968752405.\n"
     ]
    },
    {
     "name": "stdout",
     "output_type": "stream",
     "text": [
      "Recommender_Base_Class: URM Detected 627 ( 4.8%) users with no interactions.\n",
      "Recommender_Base_Class: URM Detected 247 ( 1.1%) items with no interactions.\n",
      "EvaluatorHoldout: Processed 10456 (100.0%) in 23.35 sec. Users per second: 448\n"
     ]
    },
    {
     "name": "stderr",
     "output_type": "stream",
     "text": [
      "[I 2023-12-04 17:31:28,547] Trial 166 finished with value: 0.0513224464422346 and parameters: {'cutoff': 77}. Best is trial 11 with value: 0.051586052968752405.\n"
     ]
    },
    {
     "name": "stdout",
     "output_type": "stream",
     "text": [
      "Recommender_Base_Class: URM Detected 627 ( 4.8%) users with no interactions.\n",
      "Recommender_Base_Class: URM Detected 247 ( 1.1%) items with no interactions.\n",
      "EvaluatorHoldout: Processed 10456 (100.0%) in 23.17 sec. Users per second: 451\n"
     ]
    },
    {
     "name": "stderr",
     "output_type": "stream",
     "text": [
      "[I 2023-12-04 17:31:51,879] Trial 167 finished with value: 0.05124116099513065 and parameters: {'cutoff': 10}. Best is trial 11 with value: 0.051586052968752405.\n"
     ]
    },
    {
     "name": "stdout",
     "output_type": "stream",
     "text": [
      "Recommender_Base_Class: URM Detected 627 ( 4.8%) users with no interactions.\n",
      "Recommender_Base_Class: URM Detected 247 ( 1.1%) items with no interactions.\n",
      "EvaluatorHoldout: Processed 10456 (100.0%) in 23.63 sec. Users per second: 442\n"
     ]
    },
    {
     "name": "stderr",
     "output_type": "stream",
     "text": [
      "[I 2023-12-04 17:32:15,687] Trial 168 finished with value: 0.05123695212591592 and parameters: {'cutoff': 891}. Best is trial 11 with value: 0.051586052968752405.\n"
     ]
    },
    {
     "name": "stdout",
     "output_type": "stream",
     "text": [
      "Recommender_Base_Class: URM Detected 627 ( 4.8%) users with no interactions.\n",
      "Recommender_Base_Class: URM Detected 247 ( 1.1%) items with no interactions.\n",
      "EvaluatorHoldout: Processed 10456 (100.0%) in 23.30 sec. Users per second: 449\n"
     ]
    },
    {
     "name": "stderr",
     "output_type": "stream",
     "text": [
      "[I 2023-12-04 17:32:39,156] Trial 169 finished with value: 0.051393382397590996 and parameters: {'cutoff': 50}. Best is trial 11 with value: 0.051586052968752405.\n"
     ]
    },
    {
     "name": "stdout",
     "output_type": "stream",
     "text": [
      "Recommender_Base_Class: URM Detected 627 ( 4.8%) users with no interactions.\n",
      "Recommender_Base_Class: URM Detected 247 ( 1.1%) items with no interactions.\n",
      "EvaluatorHoldout: Processed 10456 (100.0%) in 23.36 sec. Users per second: 448\n"
     ]
    },
    {
     "name": "stderr",
     "output_type": "stream",
     "text": [
      "[I 2023-12-04 17:33:02,681] Trial 170 finished with value: 0.05127520387777705 and parameters: {'cutoff': 129}. Best is trial 11 with value: 0.051586052968752405.\n"
     ]
    },
    {
     "name": "stdout",
     "output_type": "stream",
     "text": [
      "Recommender_Base_Class: URM Detected 627 ( 4.8%) users with no interactions.\n",
      "Recommender_Base_Class: URM Detected 247 ( 1.1%) items with no interactions.\n",
      "EvaluatorHoldout: Processed 10456 (100.0%) in 23.42 sec. Users per second: 446\n"
     ]
    },
    {
     "name": "stderr",
     "output_type": "stream",
     "text": [
      "[I 2023-12-04 17:33:26,269] Trial 171 finished with value: 0.05139458547382277 and parameters: {'cutoff': 42}. Best is trial 11 with value: 0.051586052968752405.\n"
     ]
    },
    {
     "name": "stdout",
     "output_type": "stream",
     "text": [
      "Recommender_Base_Class: URM Detected 627 ( 4.8%) users with no interactions.\n",
      "Recommender_Base_Class: URM Detected 247 ( 1.1%) items with no interactions.\n",
      "EvaluatorHoldout: Processed 10456 (100.0%) in 23.12 sec. Users per second: 452\n"
     ]
    },
    {
     "name": "stderr",
     "output_type": "stream",
     "text": [
      "[I 2023-12-04 17:33:49,558] Trial 172 finished with value: 0.05151743208122376 and parameters: {'cutoff': 14}. Best is trial 11 with value: 0.051586052968752405.\n"
     ]
    },
    {
     "name": "stdout",
     "output_type": "stream",
     "text": [
      "Recommender_Base_Class: URM Detected 627 ( 4.8%) users with no interactions.\n",
      "Recommender_Base_Class: URM Detected 247 ( 1.1%) items with no interactions.\n",
      "EvaluatorHoldout: Processed 10456 (100.0%) in 23.44 sec. Users per second: 446\n"
     ]
    },
    {
     "name": "stderr",
     "output_type": "stream",
     "text": [
      "[I 2023-12-04 17:34:13,169] Trial 173 finished with value: 0.05131815787396362 and parameters: {'cutoff': 80}. Best is trial 11 with value: 0.051586052968752405.\n"
     ]
    },
    {
     "name": "stdout",
     "output_type": "stream",
     "text": [
      "Recommender_Base_Class: URM Detected 627 ( 4.8%) users with no interactions.\n",
      "Recommender_Base_Class: URM Detected 247 ( 1.1%) items with no interactions.\n",
      "EvaluatorHoldout: Processed 10456 (100.0%) in 23.64 sec. Users per second: 442\n"
     ]
    },
    {
     "name": "stderr",
     "output_type": "stream",
     "text": [
      "[I 2023-12-04 17:34:36,983] Trial 174 finished with value: 0.05124116099513065 and parameters: {'cutoff': 10}. Best is trial 11 with value: 0.051586052968752405.\n"
     ]
    },
    {
     "name": "stdout",
     "output_type": "stream",
     "text": [
      "Recommender_Base_Class: URM Detected 627 ( 4.8%) users with no interactions.\n",
      "Recommender_Base_Class: URM Detected 247 ( 1.1%) items with no interactions.\n",
      "EvaluatorHoldout: Processed 10456 (100.0%) in 23.37 sec. Users per second: 447\n"
     ]
    },
    {
     "name": "stderr",
     "output_type": "stream",
     "text": [
      "[I 2023-12-04 17:35:00,513] Trial 175 finished with value: 0.05129815341081648 and parameters: {'cutoff': 95}. Best is trial 11 with value: 0.051586052968752405.\n"
     ]
    },
    {
     "name": "stdout",
     "output_type": "stream",
     "text": [
      "Recommender_Base_Class: URM Detected 627 ( 4.8%) users with no interactions.\n",
      "Recommender_Base_Class: URM Detected 247 ( 1.1%) items with no interactions.\n",
      "EvaluatorHoldout: Processed 10456 (100.0%) in 23.46 sec. Users per second: 446\n"
     ]
    },
    {
     "name": "stderr",
     "output_type": "stream",
     "text": [
      "[I 2023-12-04 17:35:24,141] Trial 176 finished with value: 0.05139105594418382 and parameters: {'cutoff': 56}. Best is trial 11 with value: 0.051586052968752405.\n"
     ]
    },
    {
     "name": "stdout",
     "output_type": "stream",
     "text": [
      "Recommender_Base_Class: URM Detected 627 ( 4.8%) users with no interactions.\n",
      "Recommender_Base_Class: URM Detected 247 ( 1.1%) items with no interactions.\n",
      "EvaluatorHoldout: Processed 10456 (100.0%) in 23.34 sec. Users per second: 448\n"
     ]
    },
    {
     "name": "stderr",
     "output_type": "stream",
     "text": [
      "[I 2023-12-04 17:35:47,638] Trial 177 finished with value: 0.05141487078126378 and parameters: {'cutoff': 47}. Best is trial 11 with value: 0.051586052968752405.\n"
     ]
    },
    {
     "name": "stdout",
     "output_type": "stream",
     "text": [
      "Recommender_Base_Class: URM Detected 627 ( 4.8%) users with no interactions.\n",
      "Recommender_Base_Class: URM Detected 247 ( 1.1%) items with no interactions.\n",
      "EvaluatorHoldout: Processed 10456 (100.0%) in 23.39 sec. Users per second: 447\n"
     ]
    },
    {
     "name": "stderr",
     "output_type": "stream",
     "text": [
      "[I 2023-12-04 17:36:11,185] Trial 178 finished with value: 0.05128159877825191 and parameters: {'cutoff': 112}. Best is trial 11 with value: 0.051586052968752405.\n"
     ]
    },
    {
     "name": "stdout",
     "output_type": "stream",
     "text": [
      "Recommender_Base_Class: URM Detected 627 ( 4.8%) users with no interactions.\n",
      "Recommender_Base_Class: URM Detected 247 ( 1.1%) items with no interactions.\n",
      "EvaluatorHoldout: Processed 10456 (100.0%) in 23.62 sec. Users per second: 443\n"
     ]
    },
    {
     "name": "stderr",
     "output_type": "stream",
     "text": [
      "[I 2023-12-04 17:36:34,963] Trial 179 finished with value: 0.05123695212591592 and parameters: {'cutoff': 1050}. Best is trial 11 with value: 0.051586052968752405.\n"
     ]
    },
    {
     "name": "stdout",
     "output_type": "stream",
     "text": [
      "Recommender_Base_Class: URM Detected 627 ( 4.8%) users with no interactions.\n",
      "Recommender_Base_Class: URM Detected 247 ( 1.1%) items with no interactions.\n",
      "EvaluatorHoldout: Processed 10456 (100.0%) in 23.40 sec. Users per second: 447\n"
     ]
    },
    {
     "name": "stderr",
     "output_type": "stream",
     "text": [
      "[I 2023-12-04 17:36:58,542] Trial 180 finished with value: 0.05123705839132441 and parameters: {'cutoff': 720}. Best is trial 11 with value: 0.051586052968752405.\n"
     ]
    },
    {
     "name": "stdout",
     "output_type": "stream",
     "text": [
      "Recommender_Base_Class: URM Detected 627 ( 4.8%) users with no interactions.\n",
      "Recommender_Base_Class: URM Detected 247 ( 1.1%) items with no interactions.\n",
      "EvaluatorHoldout: Processed 10456 (100.0%) in 23.93 sec. Users per second: 437\n"
     ]
    },
    {
     "name": "stderr",
     "output_type": "stream",
     "text": [
      "[I 2023-12-04 17:37:22,632] Trial 181 finished with value: 0.05123695212591592 and parameters: {'cutoff': 1222}. Best is trial 11 with value: 0.051586052968752405.\n"
     ]
    },
    {
     "name": "stdout",
     "output_type": "stream",
     "text": [
      "Recommender_Base_Class: URM Detected 627 ( 4.8%) users with no interactions.\n",
      "Recommender_Base_Class: URM Detected 247 ( 1.1%) items with no interactions.\n",
      "EvaluatorHoldout: Processed 10456 (100.0%) in 23.20 sec. Users per second: 451\n"
     ]
    },
    {
     "name": "stderr",
     "output_type": "stream",
     "text": [
      "[I 2023-12-04 17:37:45,991] Trial 182 finished with value: 0.05124116099513065 and parameters: {'cutoff': 10}. Best is trial 11 with value: 0.051586052968752405.\n"
     ]
    },
    {
     "name": "stdout",
     "output_type": "stream",
     "text": [
      "Recommender_Base_Class: URM Detected 627 ( 4.8%) users with no interactions.\n",
      "Recommender_Base_Class: URM Detected 247 ( 1.1%) items with no interactions.\n",
      "EvaluatorHoldout: Processed 10456 (100.0%) in 23.17 sec. Users per second: 451\n"
     ]
    },
    {
     "name": "stderr",
     "output_type": "stream",
     "text": [
      "[I 2023-12-04 17:38:09,328] Trial 183 finished with value: 0.051402320077483146 and parameters: {'cutoff': 43}. Best is trial 11 with value: 0.051586052968752405.\n"
     ]
    },
    {
     "name": "stdout",
     "output_type": "stream",
     "text": [
      "Recommender_Base_Class: URM Detected 627 ( 4.8%) users with no interactions.\n",
      "Recommender_Base_Class: URM Detected 247 ( 1.1%) items with no interactions.\n",
      "EvaluatorHoldout: Processed 10456 (100.0%) in 23.04 sec. Users per second: 454\n"
     ]
    },
    {
     "name": "stderr",
     "output_type": "stream",
     "text": [
      "[I 2023-12-04 17:38:32,537] Trial 184 finished with value: 0.05130704934358387 and parameters: {'cutoff': 83}. Best is trial 11 with value: 0.051586052968752405.\n"
     ]
    },
    {
     "name": "stdout",
     "output_type": "stream",
     "text": [
      "Recommender_Base_Class: URM Detected 627 ( 4.8%) users with no interactions.\n",
      "Recommender_Base_Class: URM Detected 247 ( 1.1%) items with no interactions.\n",
      "EvaluatorHoldout: Processed 10456 (100.0%) in 22.98 sec. Users per second: 455\n"
     ]
    },
    {
     "name": "stderr",
     "output_type": "stream",
     "text": [
      "[I 2023-12-04 17:38:55,679] Trial 185 finished with value: 0.05124116099513065 and parameters: {'cutoff': 10}. Best is trial 11 with value: 0.051586052968752405.\n"
     ]
    },
    {
     "name": "stdout",
     "output_type": "stream",
     "text": [
      "Recommender_Base_Class: URM Detected 627 ( 4.8%) users with no interactions.\n",
      "Recommender_Base_Class: URM Detected 247 ( 1.1%) items with no interactions.\n",
      "EvaluatorHoldout: Processed 10456 (100.0%) in 23.28 sec. Users per second: 449\n"
     ]
    },
    {
     "name": "stderr",
     "output_type": "stream",
     "text": [
      "[I 2023-12-04 17:39:19,131] Trial 186 finished with value: 0.05134409801921324 and parameters: {'cutoff': 70}. Best is trial 11 with value: 0.051586052968752405.\n"
     ]
    },
    {
     "name": "stdout",
     "output_type": "stream",
     "text": [
      "Recommender_Base_Class: URM Detected 627 ( 4.8%) users with no interactions.\n",
      "Recommender_Base_Class: URM Detected 247 ( 1.1%) items with no interactions.\n",
      "EvaluatorHoldout: Processed 10456 (100.0%) in 23.45 sec. Users per second: 446\n"
     ]
    },
    {
     "name": "stderr",
     "output_type": "stream",
     "text": [
      "[I 2023-12-04 17:39:42,745] Trial 187 finished with value: 0.05140482490496884 and parameters: {'cutoff': 45}. Best is trial 11 with value: 0.051586052968752405.\n"
     ]
    },
    {
     "name": "stdout",
     "output_type": "stream",
     "text": [
      "Recommender_Base_Class: URM Detected 627 ( 4.8%) users with no interactions.\n",
      "Recommender_Base_Class: URM Detected 247 ( 1.1%) items with no interactions.\n",
      "EvaluatorHoldout: Processed 10456 (100.0%) in 23.17 sec. Users per second: 451\n"
     ]
    },
    {
     "name": "stderr",
     "output_type": "stream",
     "text": [
      "[I 2023-12-04 17:40:06,080] Trial 188 finished with value: 0.05127066103156436 and parameters: {'cutoff': 139}. Best is trial 11 with value: 0.051586052968752405.\n"
     ]
    },
    {
     "name": "stdout",
     "output_type": "stream",
     "text": [
      "Recommender_Base_Class: URM Detected 627 ( 4.8%) users with no interactions.\n",
      "Recommender_Base_Class: URM Detected 247 ( 1.1%) items with no interactions.\n",
      "EvaluatorHoldout: Processed 10456 (100.0%) in 23.24 sec. Users per second: 450\n"
     ]
    },
    {
     "name": "stderr",
     "output_type": "stream",
     "text": [
      "[I 2023-12-04 17:40:29,504] Trial 189 finished with value: 0.051301159203799324 and parameters: {'cutoff': 93}. Best is trial 11 with value: 0.051586052968752405.\n"
     ]
    },
    {
     "name": "stdout",
     "output_type": "stream",
     "text": [
      "Recommender_Base_Class: URM Detected 627 ( 4.8%) users with no interactions.\n",
      "Recommender_Base_Class: URM Detected 247 ( 1.1%) items with no interactions.\n",
      "EvaluatorHoldout: Processed 10456 (100.0%) in 23.09 sec. Users per second: 453\n"
     ]
    },
    {
     "name": "stderr",
     "output_type": "stream",
     "text": [
      "[I 2023-12-04 17:40:52,761] Trial 190 finished with value: 0.051343198558434465 and parameters: {'cutoff': 12}. Best is trial 11 with value: 0.051586052968752405.\n"
     ]
    },
    {
     "name": "stdout",
     "output_type": "stream",
     "text": [
      "Recommender_Base_Class: URM Detected 627 ( 4.8%) users with no interactions.\n",
      "Recommender_Base_Class: URM Detected 247 ( 1.1%) items with no interactions.\n",
      "EvaluatorHoldout: Processed 10456 (100.0%) in 23.15 sec. Users per second: 452\n"
     ]
    },
    {
     "name": "stderr",
     "output_type": "stream",
     "text": [
      "[I 2023-12-04 17:41:16,074] Trial 191 finished with value: 0.05124116099513065 and parameters: {'cutoff': 10}. Best is trial 11 with value: 0.051586052968752405.\n"
     ]
    },
    {
     "name": "stdout",
     "output_type": "stream",
     "text": [
      "Recommender_Base_Class: URM Detected 627 ( 4.8%) users with no interactions.\n",
      "Recommender_Base_Class: URM Detected 247 ( 1.1%) items with no interactions.\n",
      "EvaluatorHoldout: Processed 10456 (100.0%) in 23.40 sec. Users per second: 447\n"
     ]
    },
    {
     "name": "stderr",
     "output_type": "stream",
     "text": [
      "[I 2023-12-04 17:41:39,646] Trial 192 finished with value: 0.051404422614493885 and parameters: {'cutoff': 41}. Best is trial 11 with value: 0.051586052968752405.\n"
     ]
    },
    {
     "name": "stdout",
     "output_type": "stream",
     "text": [
      "Recommender_Base_Class: URM Detected 627 ( 4.8%) users with no interactions.\n",
      "Recommender_Base_Class: URM Detected 247 ( 1.1%) items with no interactions.\n",
      "EvaluatorHoldout: Processed 10456 (100.0%) in 23.21 sec. Users per second: 451\n"
     ]
    },
    {
     "name": "stderr",
     "output_type": "stream",
     "text": [
      "[I 2023-12-04 17:42:03,024] Trial 193 finished with value: 0.05124116099513065 and parameters: {'cutoff': 10}. Best is trial 11 with value: 0.051586052968752405.\n"
     ]
    },
    {
     "name": "stdout",
     "output_type": "stream",
     "text": [
      "Recommender_Base_Class: URM Detected 627 ( 4.8%) users with no interactions.\n",
      "Recommender_Base_Class: URM Detected 247 ( 1.1%) items with no interactions.\n",
      "EvaluatorHoldout: Processed 10456 (100.0%) in 23.13 sec. Users per second: 452\n"
     ]
    },
    {
     "name": "stderr",
     "output_type": "stream",
     "text": [
      "[I 2023-12-04 17:42:26,318] Trial 194 finished with value: 0.05136078168834528 and parameters: {'cutoff': 69}. Best is trial 11 with value: 0.051586052968752405.\n"
     ]
    },
    {
     "name": "stdout",
     "output_type": "stream",
     "text": [
      "Recommender_Base_Class: URM Detected 627 ( 4.8%) users with no interactions.\n",
      "Recommender_Base_Class: URM Detected 247 ( 1.1%) items with no interactions.\n",
      "EvaluatorHoldout: Processed 10456 (100.0%) in 23.17 sec. Users per second: 451\n"
     ]
    },
    {
     "name": "stderr",
     "output_type": "stream",
     "text": [
      "[I 2023-12-04 17:42:49,666] Trial 195 finished with value: 0.05130051781615526 and parameters: {'cutoff': 99}. Best is trial 11 with value: 0.051586052968752405.\n"
     ]
    },
    {
     "name": "stdout",
     "output_type": "stream",
     "text": [
      "Recommender_Base_Class: URM Detected 627 ( 4.8%) users with no interactions.\n",
      "Recommender_Base_Class: URM Detected 247 ( 1.1%) items with no interactions.\n",
      "EvaluatorHoldout: Processed 10456 (100.0%) in 23.18 sec. Users per second: 451\n"
     ]
    },
    {
     "name": "stderr",
     "output_type": "stream",
     "text": [
      "[I 2023-12-04 17:43:13,014] Trial 196 finished with value: 0.05124116099513065 and parameters: {'cutoff': 10}. Best is trial 11 with value: 0.051586052968752405.\n"
     ]
    },
    {
     "name": "stdout",
     "output_type": "stream",
     "text": [
      "Recommender_Base_Class: URM Detected 627 ( 4.8%) users with no interactions.\n",
      "Recommender_Base_Class: URM Detected 247 ( 1.1%) items with no interactions.\n",
      "EvaluatorHoldout: Processed 10456 (100.0%) in 23.40 sec. Users per second: 447\n"
     ]
    },
    {
     "name": "stderr",
     "output_type": "stream",
     "text": [
      "[I 2023-12-04 17:43:36,571] Trial 197 finished with value: 0.05140131055610255 and parameters: {'cutoff': 48}. Best is trial 11 with value: 0.051586052968752405.\n"
     ]
    },
    {
     "name": "stdout",
     "output_type": "stream",
     "text": [
      "Recommender_Base_Class: URM Detected 627 ( 4.8%) users with no interactions.\n",
      "Recommender_Base_Class: URM Detected 247 ( 1.1%) items with no interactions.\n",
      "EvaluatorHoldout: Processed 10456 (100.0%) in 23.36 sec. Users per second: 448\n"
     ]
    },
    {
     "name": "stderr",
     "output_type": "stream",
     "text": [
      "[I 2023-12-04 17:44:00,099] Trial 198 finished with value: 0.05133654938001771 and parameters: {'cutoff': 73}. Best is trial 11 with value: 0.051586052968752405.\n"
     ]
    },
    {
     "name": "stdout",
     "output_type": "stream",
     "text": [
      "Recommender_Base_Class: URM Detected 627 ( 4.8%) users with no interactions.\n",
      "Recommender_Base_Class: URM Detected 247 ( 1.1%) items with no interactions.\n",
      "EvaluatorHoldout: Processed 10456 (100.0%) in 23.32 sec. Users per second: 448\n"
     ]
    },
    {
     "name": "stderr",
     "output_type": "stream",
     "text": [
      "[I 2023-12-04 17:44:23,585] Trial 199 finished with value: 0.05127175404719447 and parameters: {'cutoff': 123}. Best is trial 11 with value: 0.051586052968752405.\n"
     ]
    },
    {
     "name": "stdout",
     "output_type": "stream",
     "text": [
      "Recommender_Base_Class: URM Detected 627 ( 4.8%) users with no interactions.\n",
      "Recommender_Base_Class: URM Detected 247 ( 1.1%) items with no interactions.\n",
      "EvaluatorHoldout: Processed 10456 (100.0%) in 23.18 sec. Users per second: 451\n"
     ]
    },
    {
     "name": "stderr",
     "output_type": "stream",
     "text": [
      "[I 2023-12-04 17:44:46,939] Trial 200 finished with value: 0.051402779295855544 and parameters: {'cutoff': 51}. Best is trial 11 with value: 0.051586052968752405.\n"
     ]
    },
    {
     "name": "stdout",
     "output_type": "stream",
     "text": [
      "Recommender_Base_Class: URM Detected 627 ( 4.8%) users with no interactions.\n",
      "Recommender_Base_Class: URM Detected 247 ( 1.1%) items with no interactions.\n",
      "EvaluatorHoldout: Processed 10456 (100.0%) in 23.66 sec. Users per second: 442\n"
     ]
    },
    {
     "name": "stderr",
     "output_type": "stream",
     "text": [
      "[I 2023-12-04 17:45:10,757] Trial 201 finished with value: 0.05146916860980611 and parameters: {'cutoff': 30}. Best is trial 11 with value: 0.051586052968752405.\n"
     ]
    },
    {
     "name": "stdout",
     "output_type": "stream",
     "text": [
      "Recommender_Base_Class: URM Detected 627 ( 4.8%) users with no interactions.\n",
      "Recommender_Base_Class: URM Detected 247 ( 1.1%) items with no interactions.\n",
      "EvaluatorHoldout: Processed 10456 (100.0%) in 22.94 sec. Users per second: 456\n"
     ]
    },
    {
     "name": "stderr",
     "output_type": "stream",
     "text": [
      "[I 2023-12-04 17:45:33,864] Trial 202 finished with value: 0.05140482490496884 and parameters: {'cutoff': 45}. Best is trial 11 with value: 0.051586052968752405.\n"
     ]
    },
    {
     "name": "stdout",
     "output_type": "stream",
     "text": [
      "Recommender_Base_Class: URM Detected 627 ( 4.8%) users with no interactions.\n",
      "Recommender_Base_Class: URM Detected 247 ( 1.1%) items with no interactions.\n",
      "EvaluatorHoldout: Processed 10456 (100.0%) in 23.65 sec. Users per second: 442\n"
     ]
    },
    {
     "name": "stderr",
     "output_type": "stream",
     "text": [
      "[I 2023-12-04 17:45:57,684] Trial 203 finished with value: 0.05150189835561936 and parameters: {'cutoff': 13}. Best is trial 11 with value: 0.051586052968752405.\n"
     ]
    },
    {
     "name": "stdout",
     "output_type": "stream",
     "text": [
      "Recommender_Base_Class: URM Detected 627 ( 4.8%) users with no interactions.\n",
      "Recommender_Base_Class: URM Detected 247 ( 1.1%) items with no interactions.\n",
      "EvaluatorHoldout: Processed 10456 (100.0%) in 23.59 sec. Users per second: 443\n"
     ]
    },
    {
     "name": "stderr",
     "output_type": "stream",
     "text": [
      "[I 2023-12-04 17:46:21,437] Trial 204 finished with value: 0.05130704934358387 and parameters: {'cutoff': 83}. Best is trial 11 with value: 0.051586052968752405.\n"
     ]
    },
    {
     "name": "stdout",
     "output_type": "stream",
     "text": [
      "Recommender_Base_Class: URM Detected 627 ( 4.8%) users with no interactions.\n",
      "Recommender_Base_Class: URM Detected 247 ( 1.1%) items with no interactions.\n",
      "EvaluatorHoldout: Processed 10456 (100.0%) in 23.28 sec. Users per second: 449\n"
     ]
    },
    {
     "name": "stderr",
     "output_type": "stream",
     "text": [
      "[I 2023-12-04 17:46:44,879] Trial 205 finished with value: 0.051402320077483146 and parameters: {'cutoff': 43}. Best is trial 11 with value: 0.051586052968752405.\n"
     ]
    },
    {
     "name": "stdout",
     "output_type": "stream",
     "text": [
      "Recommender_Base_Class: URM Detected 627 ( 4.8%) users with no interactions.\n",
      "Recommender_Base_Class: URM Detected 247 ( 1.1%) items with no interactions.\n",
      "EvaluatorHoldout: Processed 10456 (100.0%) in 23.42 sec. Users per second: 446\n"
     ]
    },
    {
     "name": "stderr",
     "output_type": "stream",
     "text": [
      "[I 2023-12-04 17:47:08,479] Trial 206 finished with value: 0.05130051781615526 and parameters: {'cutoff': 99}. Best is trial 11 with value: 0.051586052968752405.\n"
     ]
    },
    {
     "name": "stdout",
     "output_type": "stream",
     "text": [
      "Recommender_Base_Class: URM Detected 627 ( 4.8%) users with no interactions.\n",
      "Recommender_Base_Class: URM Detected 247 ( 1.1%) items with no interactions.\n",
      "EvaluatorHoldout: Processed 10456 (100.0%) in 23.60 sec. Users per second: 443\n"
     ]
    },
    {
     "name": "stderr",
     "output_type": "stream",
     "text": [
      "[I 2023-12-04 17:47:32,252] Trial 207 finished with value: 0.051404422614493885 and parameters: {'cutoff': 41}. Best is trial 11 with value: 0.051586052968752405.\n"
     ]
    },
    {
     "name": "stdout",
     "output_type": "stream",
     "text": [
      "Recommender_Base_Class: URM Detected 627 ( 4.8%) users with no interactions.\n",
      "Recommender_Base_Class: URM Detected 247 ( 1.1%) items with no interactions.\n",
      "EvaluatorHoldout: Processed 10456 (100.0%) in 23.43 sec. Users per second: 446\n"
     ]
    },
    {
     "name": "stderr",
     "output_type": "stream",
     "text": [
      "[I 2023-12-04 17:47:55,862] Trial 208 finished with value: 0.05127570863846735 and parameters: {'cutoff': 132}. Best is trial 11 with value: 0.051586052968752405.\n"
     ]
    },
    {
     "name": "stdout",
     "output_type": "stream",
     "text": [
      "Recommender_Base_Class: URM Detected 627 ( 4.8%) users with no interactions.\n",
      "Recommender_Base_Class: URM Detected 247 ( 1.1%) items with no interactions.\n",
      "EvaluatorHoldout: Processed 10456 (100.0%) in 23.17 sec. Users per second: 451\n"
     ]
    },
    {
     "name": "stderr",
     "output_type": "stream",
     "text": [
      "[I 2023-12-04 17:48:19,195] Trial 209 finished with value: 0.05124116099513065 and parameters: {'cutoff': 10}. Best is trial 11 with value: 0.051586052968752405.\n"
     ]
    },
    {
     "name": "stdout",
     "output_type": "stream",
     "text": [
      "Recommender_Base_Class: URM Detected 627 ( 4.8%) users with no interactions.\n",
      "Recommender_Base_Class: URM Detected 247 ( 1.1%) items with no interactions.\n",
      "EvaluatorHoldout: Processed 10456 (100.0%) in 23.10 sec. Users per second: 453\n"
     ]
    },
    {
     "name": "stderr",
     "output_type": "stream",
     "text": [
      "[I 2023-12-04 17:48:42,451] Trial 210 finished with value: 0.0513224464422346 and parameters: {'cutoff': 77}. Best is trial 11 with value: 0.051586052968752405.\n"
     ]
    },
    {
     "name": "stdout",
     "output_type": "stream",
     "text": [
      "Recommender_Base_Class: URM Detected 627 ( 4.8%) users with no interactions.\n",
      "Recommender_Base_Class: URM Detected 247 ( 1.1%) items with no interactions.\n",
      "EvaluatorHoldout: Processed 10456 (100.0%) in 23.19 sec. Users per second: 451\n"
     ]
    },
    {
     "name": "stderr",
     "output_type": "stream",
     "text": [
      "[I 2023-12-04 17:49:05,809] Trial 211 finished with value: 0.05124116099513065 and parameters: {'cutoff': 10}. Best is trial 11 with value: 0.051586052968752405.\n"
     ]
    },
    {
     "name": "stdout",
     "output_type": "stream",
     "text": [
      "Recommender_Base_Class: URM Detected 627 ( 4.8%) users with no interactions.\n",
      "Recommender_Base_Class: URM Detected 247 ( 1.1%) items with no interactions.\n",
      "EvaluatorHoldout: Processed 10456 (100.0%) in 23.34 sec. Users per second: 448\n"
     ]
    },
    {
     "name": "stderr",
     "output_type": "stream",
     "text": [
      "[I 2023-12-04 17:49:29,316] Trial 212 finished with value: 0.051403265080580025 and parameters: {'cutoff': 44}. Best is trial 11 with value: 0.051586052968752405.\n"
     ]
    },
    {
     "name": "stdout",
     "output_type": "stream",
     "text": [
      "Recommender_Base_Class: URM Detected 627 ( 4.8%) users with no interactions.\n",
      "Recommender_Base_Class: URM Detected 247 ( 1.1%) items with no interactions.\n",
      "EvaluatorHoldout: Processed 10456 (100.0%) in 23.22 sec. Users per second: 450\n"
     ]
    },
    {
     "name": "stderr",
     "output_type": "stream",
     "text": [
      "[I 2023-12-04 17:49:52,707] Trial 213 finished with value: 0.05150189835561936 and parameters: {'cutoff': 13}. Best is trial 11 with value: 0.051586052968752405.\n"
     ]
    },
    {
     "name": "stdout",
     "output_type": "stream",
     "text": [
      "Recommender_Base_Class: URM Detected 627 ( 4.8%) users with no interactions.\n",
      "Recommender_Base_Class: URM Detected 247 ( 1.1%) items with no interactions.\n",
      "EvaluatorHoldout: Processed 10456 (100.0%) in 23.58 sec. Users per second: 443\n"
     ]
    },
    {
     "name": "stderr",
     "output_type": "stream",
     "text": [
      "[I 2023-12-04 17:50:16,465] Trial 214 finished with value: 0.05133219249826986 and parameters: {'cutoff': 72}. Best is trial 11 with value: 0.051586052968752405.\n"
     ]
    },
    {
     "name": "stdout",
     "output_type": "stream",
     "text": [
      "Recommender_Base_Class: URM Detected 627 ( 4.8%) users with no interactions.\n",
      "Recommender_Base_Class: URM Detected 247 ( 1.1%) items with no interactions.\n",
      "EvaluatorHoldout: Processed 10456 (100.0%) in 23.25 sec. Users per second: 450\n"
     ]
    },
    {
     "name": "stderr",
     "output_type": "stream",
     "text": [
      "[I 2023-12-04 17:50:39,879] Trial 215 finished with value: 0.05139458547382277 and parameters: {'cutoff': 42}. Best is trial 11 with value: 0.051586052968752405.\n"
     ]
    },
    {
     "name": "stdout",
     "output_type": "stream",
     "text": [
      "Recommender_Base_Class: URM Detected 627 ( 4.8%) users with no interactions.\n",
      "Recommender_Base_Class: URM Detected 247 ( 1.1%) items with no interactions.\n",
      "EvaluatorHoldout: Processed 10456 (100.0%) in 23.27 sec. Users per second: 449\n"
     ]
    },
    {
     "name": "stderr",
     "output_type": "stream",
     "text": [
      "[I 2023-12-04 17:51:03,324] Trial 216 finished with value: 0.0512954094861617 and parameters: {'cutoff': 102}. Best is trial 11 with value: 0.051586052968752405.\n"
     ]
    },
    {
     "name": "stdout",
     "output_type": "stream",
     "text": [
      "Recommender_Base_Class: URM Detected 627 ( 4.8%) users with no interactions.\n",
      "Recommender_Base_Class: URM Detected 247 ( 1.1%) items with no interactions.\n",
      "EvaluatorHoldout: Processed 10456 (100.0%) in 23.06 sec. Users per second: 453\n"
     ]
    },
    {
     "name": "stderr",
     "output_type": "stream",
     "text": [
      "[I 2023-12-04 17:51:26,549] Trial 217 finished with value: 0.05124116099513065 and parameters: {'cutoff': 10}. Best is trial 11 with value: 0.051586052968752405.\n"
     ]
    },
    {
     "name": "stdout",
     "output_type": "stream",
     "text": [
      "Recommender_Base_Class: URM Detected 627 ( 4.8%) users with no interactions.\n",
      "Recommender_Base_Class: URM Detected 247 ( 1.1%) items with no interactions.\n",
      "EvaluatorHoldout: Processed 10456 (100.0%) in 23.34 sec. Users per second: 448\n"
     ]
    },
    {
     "name": "stderr",
     "output_type": "stream",
     "text": [
      "[I 2023-12-04 17:51:50,063] Trial 218 finished with value: 0.05136078168834528 and parameters: {'cutoff': 69}. Best is trial 11 with value: 0.051586052968752405.\n"
     ]
    },
    {
     "name": "stdout",
     "output_type": "stream",
     "text": [
      "Recommender_Base_Class: URM Detected 627 ( 4.8%) users with no interactions.\n",
      "Recommender_Base_Class: URM Detected 247 ( 1.1%) items with no interactions.\n",
      "EvaluatorHoldout: Processed 10456 (100.0%) in 23.00 sec. Users per second: 455\n"
     ]
    },
    {
     "name": "stderr",
     "output_type": "stream",
     "text": [
      "[I 2023-12-04 17:52:13,220] Trial 219 finished with value: 0.05140131055610255 and parameters: {'cutoff': 48}. Best is trial 11 with value: 0.051586052968752405.\n"
     ]
    },
    {
     "name": "stdout",
     "output_type": "stream",
     "text": [
      "Recommender_Base_Class: URM Detected 627 ( 4.8%) users with no interactions.\n",
      "Recommender_Base_Class: URM Detected 247 ( 1.1%) items with no interactions.\n",
      "EvaluatorHoldout: Processed 10456 (100.0%) in 23.24 sec. Users per second: 450\n"
     ]
    },
    {
     "name": "stderr",
     "output_type": "stream",
     "text": [
      "[I 2023-12-04 17:52:36,629] Trial 220 finished with value: 0.05126945795533259 and parameters: {'cutoff': 154}. Best is trial 11 with value: 0.051586052968752405.\n"
     ]
    },
    {
     "name": "stdout",
     "output_type": "stream",
     "text": [
      "Recommender_Base_Class: URM Detected 627 ( 4.8%) users with no interactions.\n",
      "Recommender_Base_Class: URM Detected 247 ( 1.1%) items with no interactions.\n",
      "EvaluatorHoldout: Processed 10456 (100.0%) in 23.15 sec. Users per second: 452\n"
     ]
    },
    {
     "name": "stderr",
     "output_type": "stream",
     "text": [
      "[I 2023-12-04 17:52:59,940] Trial 221 finished with value: 0.051586052968752405 and parameters: {'cutoff': 16}. Best is trial 11 with value: 0.051586052968752405.\n"
     ]
    },
    {
     "name": "stdout",
     "output_type": "stream",
     "text": [
      "Recommender_Base_Class: URM Detected 627 ( 4.8%) users with no interactions.\n",
      "Recommender_Base_Class: URM Detected 247 ( 1.1%) items with no interactions.\n",
      "EvaluatorHoldout: Processed 10456 (100.0%) in 23.18 sec. Users per second: 451\n"
     ]
    },
    {
     "name": "stderr",
     "output_type": "stream",
     "text": [
      "[I 2023-12-04 17:53:23,285] Trial 222 finished with value: 0.05150189835561936 and parameters: {'cutoff': 13}. Best is trial 11 with value: 0.051586052968752405.\n"
     ]
    },
    {
     "name": "stdout",
     "output_type": "stream",
     "text": [
      "Recommender_Base_Class: URM Detected 627 ( 4.8%) users with no interactions.\n",
      "Recommender_Base_Class: URM Detected 247 ( 1.1%) items with no interactions.\n",
      "EvaluatorHoldout: Processed 10456 (100.0%) in 23.13 sec. Users per second: 452\n"
     ]
    },
    {
     "name": "stderr",
     "output_type": "stream",
     "text": [
      "[I 2023-12-04 17:53:46,585] Trial 223 finished with value: 0.051406775634253166 and parameters: {'cutoff': 46}. Best is trial 11 with value: 0.051586052968752405.\n"
     ]
    },
    {
     "name": "stdout",
     "output_type": "stream",
     "text": [
      "Recommender_Base_Class: URM Detected 627 ( 4.8%) users with no interactions.\n",
      "Recommender_Base_Class: URM Detected 247 ( 1.1%) items with no interactions.\n",
      "EvaluatorHoldout: Processed 10456 (100.0%) in 23.17 sec. Users per second: 451\n"
     ]
    },
    {
     "name": "stderr",
     "output_type": "stream",
     "text": [
      "[I 2023-12-04 17:54:09,924] Trial 224 finished with value: 0.051311463153229125 and parameters: {'cutoff': 81}. Best is trial 11 with value: 0.051586052968752405.\n"
     ]
    },
    {
     "name": "stdout",
     "output_type": "stream",
     "text": [
      "Recommender_Base_Class: URM Detected 627 ( 4.8%) users with no interactions.\n",
      "Recommender_Base_Class: URM Detected 247 ( 1.1%) items with no interactions.\n",
      "EvaluatorHoldout: Processed 10456 (100.0%) in 22.97 sec. Users per second: 455\n"
     ]
    },
    {
     "name": "stderr",
     "output_type": "stream",
     "text": [
      "[I 2023-12-04 17:54:33,056] Trial 225 finished with value: 0.051392961131150224 and parameters: {'cutoff': 38}. Best is trial 11 with value: 0.051586052968752405.\n"
     ]
    },
    {
     "name": "stdout",
     "output_type": "stream",
     "text": [
      "Recommender_Base_Class: URM Detected 627 ( 4.8%) users with no interactions.\n",
      "Recommender_Base_Class: URM Detected 247 ( 1.1%) items with no interactions.\n",
      "EvaluatorHoldout: Processed 10456 (100.0%) in 22.90 sec. Users per second: 457\n"
     ]
    },
    {
     "name": "stderr",
     "output_type": "stream",
     "text": [
      "[I 2023-12-04 17:54:56,128] Trial 226 finished with value: 0.051343198558434465 and parameters: {'cutoff': 12}. Best is trial 11 with value: 0.051586052968752405.\n"
     ]
    },
    {
     "name": "stdout",
     "output_type": "stream",
     "text": [
      "Recommender_Base_Class: URM Detected 627 ( 4.8%) users with no interactions.\n",
      "Recommender_Base_Class: URM Detected 247 ( 1.1%) items with no interactions.\n",
      "EvaluatorHoldout: Processed 10456 (100.0%) in 23.14 sec. Users per second: 452\n"
     ]
    },
    {
     "name": "stderr",
     "output_type": "stream",
     "text": [
      "[I 2023-12-04 17:55:19,435] Trial 227 finished with value: 0.05130172089238703 and parameters: {'cutoff': 91}. Best is trial 11 with value: 0.051586052968752405.\n"
     ]
    },
    {
     "name": "stdout",
     "output_type": "stream",
     "text": [
      "Recommender_Base_Class: URM Detected 627 ( 4.8%) users with no interactions.\n",
      "Recommender_Base_Class: URM Detected 247 ( 1.1%) items with no interactions.\n",
      "EvaluatorHoldout: Processed 10456 (100.0%) in 23.42 sec. Users per second: 447\n"
     ]
    },
    {
     "name": "stderr",
     "output_type": "stream",
     "text": [
      "[I 2023-12-04 17:55:43,023] Trial 228 finished with value: 0.05124116099513065 and parameters: {'cutoff': 10}. Best is trial 11 with value: 0.051586052968752405.\n"
     ]
    },
    {
     "name": "stdout",
     "output_type": "stream",
     "text": [
      "Recommender_Base_Class: URM Detected 627 ( 4.8%) users with no interactions.\n",
      "Recommender_Base_Class: URM Detected 247 ( 1.1%) items with no interactions.\n",
      "EvaluatorHoldout: Processed 10456 (100.0%) in 23.39 sec. Users per second: 447\n"
     ]
    },
    {
     "name": "stderr",
     "output_type": "stream",
     "text": [
      "[I 2023-12-04 17:56:06,585] Trial 229 finished with value: 0.05135841348781336 and parameters: {'cutoff': 63}. Best is trial 11 with value: 0.051586052968752405.\n"
     ]
    },
    {
     "name": "stdout",
     "output_type": "stream",
     "text": [
      "Recommender_Base_Class: URM Detected 627 ( 4.8%) users with no interactions.\n",
      "Recommender_Base_Class: URM Detected 247 ( 1.1%) items with no interactions.\n",
      "EvaluatorHoldout: Processed 10456 (100.0%) in 23.24 sec. Users per second: 450\n"
     ]
    },
    {
     "name": "stderr",
     "output_type": "stream",
     "text": [
      "[I 2023-12-04 17:56:29,994] Trial 230 finished with value: 0.05127116579225465 and parameters: {'cutoff': 117}. Best is trial 11 with value: 0.051586052968752405.\n"
     ]
    },
    {
     "name": "stdout",
     "output_type": "stream",
     "text": [
      "Recommender_Base_Class: URM Detected 627 ( 4.8%) users with no interactions.\n",
      "Recommender_Base_Class: URM Detected 247 ( 1.1%) items with no interactions.\n",
      "EvaluatorHoldout: Processed 10456 (100.0%) in 23.10 sec. Users per second: 453\n"
     ]
    },
    {
     "name": "stderr",
     "output_type": "stream",
     "text": [
      "[I 2023-12-04 17:56:53,251] Trial 231 finished with value: 0.05146412479809626 and parameters: {'cutoff': 11}. Best is trial 11 with value: 0.051586052968752405.\n"
     ]
    },
    {
     "name": "stdout",
     "output_type": "stream",
     "text": [
      "Recommender_Base_Class: URM Detected 627 ( 4.8%) users with no interactions.\n",
      "Recommender_Base_Class: URM Detected 247 ( 1.1%) items with no interactions.\n",
      "EvaluatorHoldout: Processed 10456 (100.0%) in 23.39 sec. Users per second: 447\n"
     ]
    },
    {
     "name": "stderr",
     "output_type": "stream",
     "text": [
      "[I 2023-12-04 17:57:16,808] Trial 232 finished with value: 0.05140119290511459 and parameters: {'cutoff': 52}. Best is trial 11 with value: 0.051586052968752405.\n"
     ]
    },
    {
     "name": "stdout",
     "output_type": "stream",
     "text": [
      "Recommender_Base_Class: URM Detected 627 ( 4.8%) users with no interactions.\n",
      "Recommender_Base_Class: URM Detected 247 ( 1.1%) items with no interactions.\n",
      "EvaluatorHoldout: Processed 10456 (100.0%) in 23.48 sec. Users per second: 445\n"
     ]
    },
    {
     "name": "stderr",
     "output_type": "stream",
     "text": [
      "[I 2023-12-04 17:57:40,456] Trial 233 finished with value: 0.05140614942738174 and parameters: {'cutoff': 40}. Best is trial 11 with value: 0.051586052968752405.\n"
     ]
    },
    {
     "name": "stdout",
     "output_type": "stream",
     "text": [
      "Recommender_Base_Class: URM Detected 627 ( 4.8%) users with no interactions.\n",
      "Recommender_Base_Class: URM Detected 247 ( 1.1%) items with no interactions.\n",
      "EvaluatorHoldout: Processed 10456 (100.0%) in 23.38 sec. Users per second: 447\n"
     ]
    },
    {
     "name": "stderr",
     "output_type": "stream",
     "text": [
      "[I 2023-12-04 17:58:04,006] Trial 234 finished with value: 0.05133654938001771 and parameters: {'cutoff': 73}. Best is trial 11 with value: 0.051586052968752405.\n"
     ]
    },
    {
     "name": "stdout",
     "output_type": "stream",
     "text": [
      "Recommender_Base_Class: URM Detected 627 ( 4.8%) users with no interactions.\n",
      "Recommender_Base_Class: URM Detected 247 ( 1.1%) items with no interactions.\n",
      "EvaluatorHoldout: Processed 10456 (100.0%) in 23.25 sec. Users per second: 450\n"
     ]
    },
    {
     "name": "stderr",
     "output_type": "stream",
     "text": [
      "[I 2023-12-04 17:58:27,424] Trial 235 finished with value: 0.05146412479809626 and parameters: {'cutoff': 11}. Best is trial 11 with value: 0.051586052968752405.\n"
     ]
    },
    {
     "name": "stdout",
     "output_type": "stream",
     "text": [
      "Recommender_Base_Class: URM Detected 627 ( 4.8%) users with no interactions.\n",
      "Recommender_Base_Class: URM Detected 247 ( 1.1%) items with no interactions.\n",
      "EvaluatorHoldout: Processed 10456 (100.0%) in 23.12 sec. Users per second: 452\n"
     ]
    },
    {
     "name": "stderr",
     "output_type": "stream",
     "text": [
      "[I 2023-12-04 17:58:50,708] Trial 236 finished with value: 0.05140131055610255 and parameters: {'cutoff': 48}. Best is trial 11 with value: 0.051586052968752405.\n"
     ]
    },
    {
     "name": "stdout",
     "output_type": "stream",
     "text": [
      "Recommender_Base_Class: URM Detected 627 ( 4.8%) users with no interactions.\n",
      "Recommender_Base_Class: URM Detected 247 ( 1.1%) items with no interactions.\n",
      "EvaluatorHoldout: Processed 10456 (100.0%) in 23.02 sec. Users per second: 454\n"
     ]
    },
    {
     "name": "stderr",
     "output_type": "stream",
     "text": [
      "[I 2023-12-04 17:59:13,889] Trial 237 finished with value: 0.05146412479809626 and parameters: {'cutoff': 11}. Best is trial 11 with value: 0.051586052968752405.\n"
     ]
    },
    {
     "name": "stdout",
     "output_type": "stream",
     "text": [
      "Recommender_Base_Class: URM Detected 627 ( 4.8%) users with no interactions.\n",
      "Recommender_Base_Class: URM Detected 247 ( 1.1%) items with no interactions.\n",
      "EvaluatorHoldout: Processed 10456 (100.0%) in 23.22 sec. Users per second: 450\n"
     ]
    },
    {
     "name": "stderr",
     "output_type": "stream",
     "text": [
      "[I 2023-12-04 17:59:37,260] Trial 238 finished with value: 0.05130102257684555 and parameters: {'cutoff': 96}. Best is trial 11 with value: 0.051586052968752405.\n"
     ]
    },
    {
     "name": "stdout",
     "output_type": "stream",
     "text": [
      "Recommender_Base_Class: URM Detected 627 ( 4.8%) users with no interactions.\n",
      "Recommender_Base_Class: URM Detected 247 ( 1.1%) items with no interactions.\n",
      "EvaluatorHoldout: Processed 10456 (100.0%) in 23.14 sec. Users per second: 452\n"
     ]
    },
    {
     "name": "stderr",
     "output_type": "stream",
     "text": [
      "[I 2023-12-04 18:00:00,566] Trial 239 finished with value: 0.051402779295855544 and parameters: {'cutoff': 51}. Best is trial 11 with value: 0.051586052968752405.\n"
     ]
    },
    {
     "name": "stdout",
     "output_type": "stream",
     "text": [
      "Recommender_Base_Class: URM Detected 627 ( 4.8%) users with no interactions.\n",
      "Recommender_Base_Class: URM Detected 247 ( 1.1%) items with no interactions.\n",
      "EvaluatorHoldout: Processed 10456 (100.0%) in 23.49 sec. Users per second: 445\n"
     ]
    },
    {
     "name": "stderr",
     "output_type": "stream",
     "text": [
      "[I 2023-12-04 18:00:24,227] Trial 240 finished with value: 0.051343198558434465 and parameters: {'cutoff': 12}. Best is trial 11 with value: 0.051586052968752405.\n"
     ]
    },
    {
     "name": "stdout",
     "output_type": "stream",
     "text": [
      "Recommender_Base_Class: URM Detected 627 ( 4.8%) users with no interactions.\n",
      "Recommender_Base_Class: URM Detected 247 ( 1.1%) items with no interactions.\n",
      "EvaluatorHoldout: Processed 10456 (100.0%) in 23.34 sec. Users per second: 448\n"
     ]
    },
    {
     "name": "stderr",
     "output_type": "stream",
     "text": [
      "[I 2023-12-04 18:00:47,743] Trial 241 finished with value: 0.05150189835561936 and parameters: {'cutoff': 13}. Best is trial 11 with value: 0.051586052968752405.\n"
     ]
    },
    {
     "name": "stdout",
     "output_type": "stream",
     "text": [
      "Recommender_Base_Class: URM Detected 627 ( 4.8%) users with no interactions.\n",
      "Recommender_Base_Class: URM Detected 247 ( 1.1%) items with no interactions.\n",
      "EvaluatorHoldout: Processed 10456 (100.0%) in 23.41 sec. Users per second: 447\n"
     ]
    },
    {
     "name": "stderr",
     "output_type": "stream",
     "text": [
      "[I 2023-12-04 18:01:11,322] Trial 242 finished with value: 0.051393382397590996 and parameters: {'cutoff': 50}. Best is trial 11 with value: 0.051586052968752405.\n"
     ]
    },
    {
     "name": "stdout",
     "output_type": "stream",
     "text": [
      "Recommender_Base_Class: URM Detected 627 ( 4.8%) users with no interactions.\n",
      "Recommender_Base_Class: URM Detected 247 ( 1.1%) items with no interactions.\n",
      "EvaluatorHoldout: Processed 10456 (100.0%) in 23.43 sec. Users per second: 446\n"
     ]
    },
    {
     "name": "stderr",
     "output_type": "stream",
     "text": [
      "[I 2023-12-04 18:01:34,917] Trial 243 finished with value: 0.05131815787396362 and parameters: {'cutoff': 80}. Best is trial 11 with value: 0.051586052968752405.\n"
     ]
    },
    {
     "name": "stdout",
     "output_type": "stream",
     "text": [
      "Recommender_Base_Class: URM Detected 627 ( 4.8%) users with no interactions.\n",
      "Recommender_Base_Class: URM Detected 247 ( 1.1%) items with no interactions.\n",
      "EvaluatorHoldout: Processed 10456 (100.0%) in 23.38 sec. Users per second: 447\n"
     ]
    },
    {
     "name": "stderr",
     "output_type": "stream",
     "text": [
      "[I 2023-12-04 18:01:58,473] Trial 244 finished with value: 0.051403265080580025 and parameters: {'cutoff': 44}. Best is trial 11 with value: 0.051586052968752405.\n"
     ]
    },
    {
     "name": "stdout",
     "output_type": "stream",
     "text": [
      "Recommender_Base_Class: URM Detected 627 ( 4.8%) users with no interactions.\n",
      "Recommender_Base_Class: URM Detected 247 ( 1.1%) items with no interactions.\n",
      "EvaluatorHoldout: Processed 10456 (100.0%) in 23.42 sec. Users per second: 446\n"
     ]
    },
    {
     "name": "stderr",
     "output_type": "stream",
     "text": [
      "[I 2023-12-04 18:02:22,060] Trial 245 finished with value: 0.05151743208122376 and parameters: {'cutoff': 14}. Best is trial 11 with value: 0.051586052968752405.\n"
     ]
    },
    {
     "name": "stdout",
     "output_type": "stream",
     "text": [
      "Recommender_Base_Class: URM Detected 627 ( 4.8%) users with no interactions.\n",
      "Recommender_Base_Class: URM Detected 247 ( 1.1%) items with no interactions.\n",
      "EvaluatorHoldout: Processed 10456 (100.0%) in 23.31 sec. Users per second: 448\n"
     ]
    },
    {
     "name": "stderr",
     "output_type": "stream",
     "text": [
      "[I 2023-12-04 18:02:45,547] Trial 246 finished with value: 0.05124116099513065 and parameters: {'cutoff': 10}. Best is trial 11 with value: 0.051586052968752405.\n"
     ]
    },
    {
     "name": "stdout",
     "output_type": "stream",
     "text": [
      "Recommender_Base_Class: URM Detected 627 ( 4.8%) users with no interactions.\n",
      "Recommender_Base_Class: URM Detected 247 ( 1.1%) items with no interactions.\n",
      "EvaluatorHoldout: Processed 10456 (100.0%) in 23.24 sec. Users per second: 450\n"
     ]
    },
    {
     "name": "stderr",
     "output_type": "stream",
     "text": [
      "[I 2023-12-04 18:03:08,961] Trial 247 finished with value: 0.051311463153229125 and parameters: {'cutoff': 81}. Best is trial 11 with value: 0.051586052968752405.\n"
     ]
    },
    {
     "name": "stdout",
     "output_type": "stream",
     "text": [
      "Recommender_Base_Class: URM Detected 627 ( 4.8%) users with no interactions.\n",
      "Recommender_Base_Class: URM Detected 247 ( 1.1%) items with no interactions.\n",
      "EvaluatorHoldout: Processed 10456 (100.0%) in 23.73 sec. Users per second: 441\n"
     ]
    },
    {
     "name": "stderr",
     "output_type": "stream",
     "text": [
      "[I 2023-12-04 18:03:32,892] Trial 248 finished with value: 0.05123831080506725 and parameters: {'cutoff': 519}. Best is trial 11 with value: 0.051586052968752405.\n"
     ]
    },
    {
     "name": "stdout",
     "output_type": "stream",
     "text": [
      "Recommender_Base_Class: URM Detected 627 ( 4.8%) users with no interactions.\n",
      "Recommender_Base_Class: URM Detected 247 ( 1.1%) items with no interactions.\n",
      "EvaluatorHoldout: Processed 10456 (100.0%) in 23.20 sec. Users per second: 451\n"
     ]
    },
    {
     "name": "stderr",
     "output_type": "stream",
     "text": [
      "[I 2023-12-04 18:03:56,261] Trial 249 finished with value: 0.05124116099513065 and parameters: {'cutoff': 10}. Best is trial 11 with value: 0.051586052968752405.\n"
     ]
    },
    {
     "name": "stdout",
     "output_type": "stream",
     "text": [
      "Recommender_Base_Class: URM Detected 627 ( 4.8%) users with no interactions.\n",
      "Recommender_Base_Class: URM Detected 247 ( 1.1%) items with no interactions.\n",
      "EvaluatorHoldout: Processed 10456 (100.0%) in 23.88 sec. Users per second: 438\n"
     ]
    },
    {
     "name": "stderr",
     "output_type": "stream",
     "text": [
      "[I 2023-12-04 18:04:20,315] Trial 250 finished with value: 0.05127690412431281 and parameters: {'cutoff': 116}. Best is trial 11 with value: 0.051586052968752405.\n"
     ]
    },
    {
     "name": "stdout",
     "output_type": "stream",
     "text": [
      "Recommender_Base_Class: URM Detected 627 ( 4.8%) users with no interactions.\n",
      "Recommender_Base_Class: URM Detected 247 ( 1.1%) items with no interactions.\n",
      "EvaluatorHoldout: Processed 10456 (100.0%) in 23.18 sec. Users per second: 451\n"
     ]
    },
    {
     "name": "stderr",
     "output_type": "stream",
     "text": [
      "[I 2023-12-04 18:04:43,657] Trial 251 finished with value: 0.05139707512053583 and parameters: {'cutoff': 53}. Best is trial 11 with value: 0.051586052968752405.\n"
     ]
    },
    {
     "name": "stdout",
     "output_type": "stream",
     "text": [
      "Recommender_Base_Class: URM Detected 627 ( 4.8%) users with no interactions.\n",
      "Recommender_Base_Class: URM Detected 247 ( 1.1%) items with no interactions.\n",
      "EvaluatorHoldout: Processed 10456 (100.0%) in 23.27 sec. Users per second: 449\n"
     ]
    },
    {
     "name": "stderr",
     "output_type": "stream",
     "text": [
      "[I 2023-12-04 18:05:07,091] Trial 252 finished with value: 0.05133654938001771 and parameters: {'cutoff': 73}. Best is trial 11 with value: 0.051586052968752405.\n"
     ]
    },
    {
     "name": "stdout",
     "output_type": "stream",
     "text": [
      "Recommender_Base_Class: URM Detected 627 ( 4.8%) users with no interactions.\n",
      "Recommender_Base_Class: URM Detected 247 ( 1.1%) items with no interactions.\n",
      "EvaluatorHoldout: Processed 10456 (100.0%) in 23.41 sec. Users per second: 447\n"
     ]
    },
    {
     "name": "stderr",
     "output_type": "stream",
     "text": [
      "[I 2023-12-04 18:05:30,668] Trial 253 finished with value: 0.05140131055610255 and parameters: {'cutoff': 48}. Best is trial 11 with value: 0.051586052968752405.\n"
     ]
    },
    {
     "name": "stdout",
     "output_type": "stream",
     "text": [
      "Recommender_Base_Class: URM Detected 627 ( 4.8%) users with no interactions.\n",
      "Recommender_Base_Class: URM Detected 247 ( 1.1%) items with no interactions.\n",
      "EvaluatorHoldout: Processed 10456 (100.0%) in 23.54 sec. Users per second: 444\n"
     ]
    },
    {
     "name": "stderr",
     "output_type": "stream",
     "text": [
      "[I 2023-12-04 18:05:54,372] Trial 254 finished with value: 0.051295568884274424 and parameters: {'cutoff': 104}. Best is trial 11 with value: 0.051586052968752405.\n"
     ]
    },
    {
     "name": "stdout",
     "output_type": "stream",
     "text": [
      "Recommender_Base_Class: URM Detected 627 ( 4.8%) users with no interactions.\n",
      "Recommender_Base_Class: URM Detected 247 ( 1.1%) items with no interactions.\n",
      "EvaluatorHoldout: Processed 10456 (100.0%) in 24.17 sec. Users per second: 433\n"
     ]
    },
    {
     "name": "stderr",
     "output_type": "stream",
     "text": [
      "[I 2023-12-04 18:06:18,719] Trial 255 finished with value: 0.05123678134222372 and parameters: {'cutoff': 1738}. Best is trial 11 with value: 0.051586052968752405.\n"
     ]
    },
    {
     "name": "stdout",
     "output_type": "stream",
     "text": [
      "Recommender_Base_Class: URM Detected 627 ( 4.8%) users with no interactions.\n",
      "Recommender_Base_Class: URM Detected 247 ( 1.1%) items with no interactions.\n",
      "EvaluatorHoldout: Processed 10456 (100.0%) in 23.40 sec. Users per second: 447\n"
     ]
    },
    {
     "name": "stderr",
     "output_type": "stream",
     "text": [
      "[I 2023-12-04 18:06:42,292] Trial 256 finished with value: 0.05124116099513065 and parameters: {'cutoff': 10}. Best is trial 11 with value: 0.051586052968752405.\n"
     ]
    },
    {
     "name": "stdout",
     "output_type": "stream",
     "text": [
      "Recommender_Base_Class: URM Detected 627 ( 4.8%) users with no interactions.\n",
      "Recommender_Base_Class: URM Detected 247 ( 1.1%) items with no interactions.\n",
      "EvaluatorHoldout: Processed 10456 (100.0%) in 23.38 sec. Users per second: 447\n"
     ]
    },
    {
     "name": "stderr",
     "output_type": "stream",
     "text": [
      "[I 2023-12-04 18:07:05,845] Trial 257 finished with value: 0.05140131055610255 and parameters: {'cutoff': 48}. Best is trial 11 with value: 0.051586052968752405.\n"
     ]
    },
    {
     "name": "stdout",
     "output_type": "stream",
     "text": [
      "Recommender_Base_Class: URM Detected 627 ( 4.8%) users with no interactions.\n",
      "Recommender_Base_Class: URM Detected 247 ( 1.1%) items with no interactions.\n",
      "EvaluatorHoldout: Processed 10456 (100.0%) in 23.61 sec. Users per second: 443\n"
     ]
    },
    {
     "name": "stderr",
     "output_type": "stream",
     "text": [
      "[I 2023-12-04 18:07:29,615] Trial 258 finished with value: 0.05131815787396362 and parameters: {'cutoff': 80}. Best is trial 11 with value: 0.051586052968752405.\n"
     ]
    },
    {
     "name": "stdout",
     "output_type": "stream",
     "text": [
      "Recommender_Base_Class: URM Detected 627 ( 4.8%) users with no interactions.\n",
      "Recommender_Base_Class: URM Detected 247 ( 1.1%) items with no interactions.\n",
      "EvaluatorHoldout: Processed 10456 (100.0%) in 23.51 sec. Users per second: 445\n"
     ]
    },
    {
     "name": "stderr",
     "output_type": "stream",
     "text": [
      "[I 2023-12-04 18:07:53,295] Trial 259 finished with value: 0.05124116099513065 and parameters: {'cutoff': 10}. Best is trial 11 with value: 0.051586052968752405.\n"
     ]
    },
    {
     "name": "stdout",
     "output_type": "stream",
     "text": [
      "Recommender_Base_Class: URM Detected 627 ( 4.8%) users with no interactions.\n",
      "Recommender_Base_Class: URM Detected 247 ( 1.1%) items with no interactions.\n",
      "EvaluatorHoldout: Processed 10456 (100.0%) in 23.49 sec. Users per second: 445\n"
     ]
    },
    {
     "name": "stderr",
     "output_type": "stream",
     "text": [
      "[I 2023-12-04 18:08:16,962] Trial 260 finished with value: 0.05140131055610255 and parameters: {'cutoff': 48}. Best is trial 11 with value: 0.051586052968752405.\n"
     ]
    },
    {
     "name": "stdout",
     "output_type": "stream",
     "text": [
      "Recommender_Base_Class: URM Detected 627 ( 4.8%) users with no interactions.\n",
      "Recommender_Base_Class: URM Detected 247 ( 1.1%) items with no interactions.\n",
      "EvaluatorHoldout: Processed 10456 (100.0%) in 23.33 sec. Users per second: 448\n"
     ]
    },
    {
     "name": "stderr",
     "output_type": "stream",
     "text": [
      "[I 2023-12-04 18:08:40,465] Trial 261 finished with value: 0.05127570863846735 and parameters: {'cutoff': 132}. Best is trial 11 with value: 0.051586052968752405.\n"
     ]
    },
    {
     "name": "stdout",
     "output_type": "stream",
     "text": [
      "Recommender_Base_Class: URM Detected 627 ( 4.8%) users with no interactions.\n",
      "Recommender_Base_Class: URM Detected 247 ( 1.1%) items with no interactions.\n",
      "EvaluatorHoldout: Processed 10456 (100.0%) in 23.31 sec. Users per second: 449\n"
     ]
    },
    {
     "name": "stderr",
     "output_type": "stream",
     "text": [
      "[I 2023-12-04 18:09:03,946] Trial 262 finished with value: 0.051296513887371296 and parameters: {'cutoff': 90}. Best is trial 11 with value: 0.051586052968752405.\n"
     ]
    },
    {
     "name": "stdout",
     "output_type": "stream",
     "text": [
      "Recommender_Base_Class: URM Detected 627 ( 4.8%) users with no interactions.\n",
      "Recommender_Base_Class: URM Detected 247 ( 1.1%) items with no interactions.\n",
      "EvaluatorHoldout: Processed 10456 (100.0%) in 23.08 sec. Users per second: 453\n"
     ]
    },
    {
     "name": "stderr",
     "output_type": "stream",
     "text": [
      "[I 2023-12-04 18:09:27,192] Trial 263 finished with value: 0.05124116099513065 and parameters: {'cutoff': 10}. Best is trial 11 with value: 0.051586052968752405.\n"
     ]
    },
    {
     "name": "stdout",
     "output_type": "stream",
     "text": [
      "Recommender_Base_Class: URM Detected 627 ( 4.8%) users with no interactions.\n",
      "Recommender_Base_Class: URM Detected 247 ( 1.1%) items with no interactions.\n",
      "EvaluatorHoldout: Processed 10456 (100.0%) in 23.23 sec. Users per second: 450\n"
     ]
    },
    {
     "name": "stderr",
     "output_type": "stream",
     "text": [
      "[I 2023-12-04 18:09:50,590] Trial 264 finished with value: 0.05140119290511459 and parameters: {'cutoff': 52}. Best is trial 11 with value: 0.051586052968752405.\n"
     ]
    },
    {
     "name": "stdout",
     "output_type": "stream",
     "text": [
      "Recommender_Base_Class: URM Detected 627 ( 4.8%) users with no interactions.\n",
      "Recommender_Base_Class: URM Detected 247 ( 1.1%) items with no interactions.\n",
      "EvaluatorHoldout: Processed 10456 (100.0%) in 23.48 sec. Users per second: 445\n"
     ]
    },
    {
     "name": "stderr",
     "output_type": "stream",
     "text": [
      "[I 2023-12-04 18:10:14,240] Trial 265 finished with value: 0.05140131055610255 and parameters: {'cutoff': 48}. Best is trial 11 with value: 0.051586052968752405.\n"
     ]
    },
    {
     "name": "stdout",
     "output_type": "stream",
     "text": [
      "Recommender_Base_Class: URM Detected 627 ( 4.8%) users with no interactions.\n",
      "Recommender_Base_Class: URM Detected 247 ( 1.1%) items with no interactions.\n",
      "EvaluatorHoldout: Processed 10456 (100.0%) in 23.50 sec. Users per second: 445\n"
     ]
    },
    {
     "name": "stderr",
     "output_type": "stream",
     "text": [
      "[I 2023-12-04 18:10:37,924] Trial 266 finished with value: 0.05128282083044949 and parameters: {'cutoff': 110}. Best is trial 11 with value: 0.051586052968752405.\n"
     ]
    },
    {
     "name": "stdout",
     "output_type": "stream",
     "text": [
      "Recommender_Base_Class: URM Detected 627 ( 4.8%) users with no interactions.\n",
      "Recommender_Base_Class: URM Detected 247 ( 1.1%) items with no interactions.\n",
      "EvaluatorHoldout: Processed 10456 (100.0%) in 23.52 sec. Users per second: 445\n"
     ]
    },
    {
     "name": "stderr",
     "output_type": "stream",
     "text": [
      "[I 2023-12-04 18:11:01,619] Trial 267 finished with value: 0.05133219249826986 and parameters: {'cutoff': 72}. Best is trial 11 with value: 0.051586052968752405.\n"
     ]
    },
    {
     "name": "stdout",
     "output_type": "stream",
     "text": [
      "Recommender_Base_Class: URM Detected 627 ( 4.8%) users with no interactions.\n",
      "Recommender_Base_Class: URM Detected 247 ( 1.1%) items with no interactions.\n",
      "EvaluatorHoldout: Processed 10456 (100.0%) in 23.50 sec. Users per second: 445\n"
     ]
    },
    {
     "name": "stderr",
     "output_type": "stream",
     "text": [
      "[I 2023-12-04 18:11:25,295] Trial 268 finished with value: 0.05139458547382277 and parameters: {'cutoff': 42}. Best is trial 11 with value: 0.051586052968752405.\n"
     ]
    },
    {
     "name": "stdout",
     "output_type": "stream",
     "text": [
      "Recommender_Base_Class: URM Detected 627 ( 4.8%) users with no interactions.\n",
      "Recommender_Base_Class: URM Detected 247 ( 1.1%) items with no interactions.\n",
      "EvaluatorHoldout: Processed 10456 (100.0%) in 24.15 sec. Users per second: 433\n"
     ]
    },
    {
     "name": "stderr",
     "output_type": "stream",
     "text": [
      "[I 2023-12-04 18:11:49,617] Trial 269 finished with value: 0.05123678134222372 and parameters: {'cutoff': 1508}. Best is trial 11 with value: 0.051586052968752405.\n"
     ]
    },
    {
     "name": "stdout",
     "output_type": "stream",
     "text": [
      "Recommender_Base_Class: URM Detected 627 ( 4.8%) users with no interactions.\n",
      "Recommender_Base_Class: URM Detected 247 ( 1.1%) items with no interactions.\n",
      "EvaluatorHoldout: Processed 10456 (100.0%) in 23.32 sec. Users per second: 448\n"
     ]
    },
    {
     "name": "stderr",
     "output_type": "stream",
     "text": [
      "[I 2023-12-04 18:12:13,106] Trial 270 finished with value: 0.051343198558434465 and parameters: {'cutoff': 12}. Best is trial 11 with value: 0.051586052968752405.\n"
     ]
    },
    {
     "name": "stdout",
     "output_type": "stream",
     "text": [
      "Recommender_Base_Class: URM Detected 627 ( 4.8%) users with no interactions.\n",
      "Recommender_Base_Class: URM Detected 247 ( 1.1%) items with no interactions.\n",
      "EvaluatorHoldout: Processed 10456 (100.0%) in 23.03 sec. Users per second: 454\n"
     ]
    },
    {
     "name": "stderr",
     "output_type": "stream",
     "text": [
      "[I 2023-12-04 18:12:36,293] Trial 271 finished with value: 0.05130000166988548 and parameters: {'cutoff': 94}. Best is trial 11 with value: 0.051586052968752405.\n"
     ]
    },
    {
     "name": "stdout",
     "output_type": "stream",
     "text": [
      "Recommender_Base_Class: URM Detected 627 ( 4.8%) users with no interactions.\n",
      "Recommender_Base_Class: URM Detected 247 ( 1.1%) items with no interactions.\n",
      "EvaluatorHoldout: Processed 10456 (100.0%) in 23.16 sec. Users per second: 452\n"
     ]
    },
    {
     "name": "stderr",
     "output_type": "stream",
     "text": [
      "[I 2023-12-04 18:12:59,619] Trial 272 finished with value: 0.051266254812305415 and parameters: {'cutoff': 148}. Best is trial 11 with value: 0.051586052968752405.\n"
     ]
    },
    {
     "name": "stdout",
     "output_type": "stream",
     "text": [
      "Recommender_Base_Class: URM Detected 627 ( 4.8%) users with no interactions.\n",
      "Recommender_Base_Class: URM Detected 247 ( 1.1%) items with no interactions.\n",
      "EvaluatorHoldout: Processed 10456 (100.0%) in 23.04 sec. Users per second: 454\n"
     ]
    },
    {
     "name": "stderr",
     "output_type": "stream",
     "text": [
      "[I 2023-12-04 18:13:22,828] Trial 273 finished with value: 0.05124116099513065 and parameters: {'cutoff': 10}. Best is trial 11 with value: 0.051586052968752405.\n"
     ]
    },
    {
     "name": "stdout",
     "output_type": "stream",
     "text": [
      "Recommender_Base_Class: URM Detected 627 ( 4.8%) users with no interactions.\n",
      "Recommender_Base_Class: URM Detected 247 ( 1.1%) items with no interactions.\n",
      "EvaluatorHoldout: Processed 10456 (100.0%) in 23.01 sec. Users per second: 454\n"
     ]
    },
    {
     "name": "stderr",
     "output_type": "stream",
     "text": [
      "[I 2023-12-04 18:13:46,004] Trial 274 finished with value: 0.05139126088461448 and parameters: {'cutoff': 49}. Best is trial 11 with value: 0.051586052968752405.\n"
     ]
    },
    {
     "name": "stdout",
     "output_type": "stream",
     "text": [
      "Recommender_Base_Class: URM Detected 627 ( 4.8%) users with no interactions.\n",
      "Recommender_Base_Class: URM Detected 247 ( 1.1%) items with no interactions.\n",
      "EvaluatorHoldout: Processed 10456 (100.0%) in 23.73 sec. Users per second: 441\n"
     ]
    },
    {
     "name": "stderr",
     "output_type": "stream",
     "text": [
      "[I 2023-12-04 18:14:09,904] Trial 275 finished with value: 0.05123695212591592 and parameters: {'cutoff': 1358}. Best is trial 11 with value: 0.051586052968752405.\n"
     ]
    },
    {
     "name": "stdout",
     "output_type": "stream",
     "text": [
      "Recommender_Base_Class: URM Detected 627 ( 4.8%) users with no interactions.\n",
      "Recommender_Base_Class: URM Detected 247 ( 1.1%) items with no interactions.\n",
      "EvaluatorHoldout: Processed 10456 (100.0%) in 23.11 sec. Users per second: 452\n"
     ]
    },
    {
     "name": "stderr",
     "output_type": "stream",
     "text": [
      "[I 2023-12-04 18:14:33,199] Trial 276 finished with value: 0.051325330789036304 and parameters: {'cutoff': 79}. Best is trial 11 with value: 0.051586052968752405.\n"
     ]
    },
    {
     "name": "stdout",
     "output_type": "stream",
     "text": [
      "Recommender_Base_Class: URM Detected 627 ( 4.8%) users with no interactions.\n",
      "Recommender_Base_Class: URM Detected 247 ( 1.1%) items with no interactions.\n",
      "EvaluatorHoldout: Processed 10456 (100.0%) in 23.83 sec. Users per second: 439\n"
     ]
    },
    {
     "name": "stderr",
     "output_type": "stream",
     "text": [
      "[I 2023-12-04 18:14:57,207] Trial 277 finished with value: 0.05128547367046842 and parameters: {'cutoff': 107}. Best is trial 11 with value: 0.051586052968752405.\n"
     ]
    },
    {
     "name": "stdout",
     "output_type": "stream",
     "text": [
      "Recommender_Base_Class: URM Detected 627 ( 4.8%) users with no interactions.\n",
      "Recommender_Base_Class: URM Detected 247 ( 1.1%) items with no interactions.\n",
      "EvaluatorHoldout: Processed 10456 (100.0%) in 23.46 sec. Users per second: 446\n"
     ]
    },
    {
     "name": "stderr",
     "output_type": "stream",
     "text": [
      "[I 2023-12-04 18:15:20,835] Trial 278 finished with value: 0.05140131055610255 and parameters: {'cutoff': 48}. Best is trial 11 with value: 0.051586052968752405.\n"
     ]
    },
    {
     "name": "stdout",
     "output_type": "stream",
     "text": [
      "Recommender_Base_Class: URM Detected 627 ( 4.8%) users with no interactions.\n",
      "Recommender_Base_Class: URM Detected 247 ( 1.1%) items with no interactions.\n",
      "EvaluatorHoldout: Processed 10456 (100.0%) in 23.85 sec. Users per second: 438\n"
     ]
    },
    {
     "name": "stderr",
     "output_type": "stream",
     "text": [
      "[I 2023-12-04 18:15:44,855] Trial 279 finished with value: 0.05123705839132441 and parameters: {'cutoff': 830}. Best is trial 11 with value: 0.051586052968752405.\n"
     ]
    },
    {
     "name": "stdout",
     "output_type": "stream",
     "text": [
      "Recommender_Base_Class: URM Detected 627 ( 4.8%) users with no interactions.\n",
      "Recommender_Base_Class: URM Detected 247 ( 1.1%) items with no interactions.\n",
      "EvaluatorHoldout: Processed 10456 (100.0%) in 23.16 sec. Users per second: 452\n"
     ]
    },
    {
     "name": "stderr",
     "output_type": "stream",
     "text": [
      "[I 2023-12-04 18:16:08,175] Trial 280 finished with value: 0.05139458547382277 and parameters: {'cutoff': 42}. Best is trial 11 with value: 0.051586052968752405.\n"
     ]
    },
    {
     "name": "stdout",
     "output_type": "stream",
     "text": [
      "Recommender_Base_Class: URM Detected 627 ( 4.8%) users with no interactions.\n",
      "Recommender_Base_Class: URM Detected 247 ( 1.1%) items with no interactions.\n",
      "EvaluatorHoldout: Processed 10456 (100.0%) in 22.92 sec. Users per second: 456\n"
     ]
    },
    {
     "name": "stderr",
     "output_type": "stream",
     "text": [
      "[I 2023-12-04 18:16:31,272] Trial 281 finished with value: 0.051343198558434465 and parameters: {'cutoff': 12}. Best is trial 11 with value: 0.051586052968752405.\n"
     ]
    },
    {
     "name": "stdout",
     "output_type": "stream",
     "text": [
      "Recommender_Base_Class: URM Detected 627 ( 4.8%) users with no interactions.\n",
      "Recommender_Base_Class: URM Detected 247 ( 1.1%) items with no interactions.\n",
      "EvaluatorHoldout: Processed 10456 (100.0%) in 23.56 sec. Users per second: 444\n"
     ]
    },
    {
     "name": "stderr",
     "output_type": "stream",
     "text": [
      "[I 2023-12-04 18:16:55,009] Trial 282 finished with value: 0.05134064059824434 and parameters: {'cutoff': 74}. Best is trial 11 with value: 0.051586052968752405.\n"
     ]
    },
    {
     "name": "stdout",
     "output_type": "stream",
     "text": [
      "Recommender_Base_Class: URM Detected 627 ( 4.8%) users with no interactions.\n",
      "Recommender_Base_Class: URM Detected 247 ( 1.1%) items with no interactions.\n",
      "EvaluatorHoldout: Processed 10456 (100.0%) in 23.19 sec. Users per second: 451\n"
     ]
    },
    {
     "name": "stderr",
     "output_type": "stream",
     "text": [
      "[I 2023-12-04 18:17:18,381] Trial 283 finished with value: 0.05124116099513065 and parameters: {'cutoff': 10}. Best is trial 11 with value: 0.051586052968752405.\n"
     ]
    },
    {
     "name": "stdout",
     "output_type": "stream",
     "text": [
      "Recommender_Base_Class: URM Detected 627 ( 4.8%) users with no interactions.\n",
      "Recommender_Base_Class: URM Detected 247 ( 1.1%) items with no interactions.\n",
      "EvaluatorHoldout: Processed 10456 (100.0%) in 23.23 sec. Users per second: 450\n"
     ]
    },
    {
     "name": "stderr",
     "output_type": "stream",
     "text": [
      "[I 2023-12-04 18:17:41,785] Trial 284 finished with value: 0.05128404288264705 and parameters: {'cutoff': 109}. Best is trial 11 with value: 0.051586052968752405.\n"
     ]
    },
    {
     "name": "stdout",
     "output_type": "stream",
     "text": [
      "Recommender_Base_Class: URM Detected 627 ( 4.8%) users with no interactions.\n",
      "Recommender_Base_Class: URM Detected 247 ( 1.1%) items with no interactions.\n",
      "EvaluatorHoldout: Processed 10456 (100.0%) in 22.99 sec. Users per second: 455\n"
     ]
    },
    {
     "name": "stderr",
     "output_type": "stream",
     "text": [
      "[I 2023-12-04 18:18:04,954] Trial 285 finished with value: 0.05135919150241118 and parameters: {'cutoff': 67}. Best is trial 11 with value: 0.051586052968752405.\n"
     ]
    },
    {
     "name": "stdout",
     "output_type": "stream",
     "text": [
      "Recommender_Base_Class: URM Detected 627 ( 4.8%) users with no interactions.\n",
      "Recommender_Base_Class: URM Detected 247 ( 1.1%) items with no interactions.\n",
      "EvaluatorHoldout: Processed 10456 (100.0%) in 22.96 sec. Users per second: 455\n"
     ]
    },
    {
     "name": "stderr",
     "output_type": "stream",
     "text": [
      "[I 2023-12-04 18:18:28,084] Trial 286 finished with value: 0.05126511625435737 and parameters: {'cutoff': 151}. Best is trial 11 with value: 0.051586052968752405.\n"
     ]
    },
    {
     "name": "stdout",
     "output_type": "stream",
     "text": [
      "Recommender_Base_Class: URM Detected 627 ( 4.8%) users with no interactions.\n",
      "Recommender_Base_Class: URM Detected 247 ( 1.1%) items with no interactions.\n",
      "EvaluatorHoldout: Processed 10456 (100.0%) in 23.23 sec. Users per second: 450\n"
     ]
    },
    {
     "name": "stderr",
     "output_type": "stream",
     "text": [
      "[I 2023-12-04 18:18:51,483] Trial 287 finished with value: 0.051393382397590996 and parameters: {'cutoff': 50}. Best is trial 11 with value: 0.051586052968752405.\n"
     ]
    },
    {
     "name": "stdout",
     "output_type": "stream",
     "text": [
      "Recommender_Base_Class: URM Detected 627 ( 4.8%) users with no interactions.\n",
      "Recommender_Base_Class: URM Detected 247 ( 1.1%) items with no interactions.\n",
      "EvaluatorHoldout: Processed 10456 (100.0%) in 23.28 sec. Users per second: 449\n"
     ]
    },
    {
     "name": "stderr",
     "output_type": "stream",
     "text": [
      "[I 2023-12-04 18:19:14,946] Trial 288 finished with value: 0.05124116099513065 and parameters: {'cutoff': 10}. Best is trial 11 with value: 0.051586052968752405.\n"
     ]
    },
    {
     "name": "stdout",
     "output_type": "stream",
     "text": [
      "Recommender_Base_Class: URM Detected 627 ( 4.8%) users with no interactions.\n",
      "Recommender_Base_Class: URM Detected 247 ( 1.1%) items with no interactions.\n",
      "EvaluatorHoldout: Processed 10456 (100.0%) in 23.25 sec. Users per second: 450\n"
     ]
    },
    {
     "name": "stderr",
     "output_type": "stream",
     "text": [
      "[I 2023-12-04 18:19:38,366] Trial 289 finished with value: 0.051311463153229125 and parameters: {'cutoff': 81}. Best is trial 11 with value: 0.051586052968752405.\n"
     ]
    },
    {
     "name": "stdout",
     "output_type": "stream",
     "text": [
      "Recommender_Base_Class: URM Detected 627 ( 4.8%) users with no interactions.\n",
      "Recommender_Base_Class: URM Detected 247 ( 1.1%) items with no interactions.\n",
      "EvaluatorHoldout: Processed 10456 (100.0%) in 23.36 sec. Users per second: 448\n"
     ]
    },
    {
     "name": "stderr",
     "output_type": "stream",
     "text": [
      "[I 2023-12-04 18:20:01,907] Trial 290 finished with value: 0.051406775634253166 and parameters: {'cutoff': 46}. Best is trial 11 with value: 0.051586052968752405.\n"
     ]
    },
    {
     "name": "stdout",
     "output_type": "stream",
     "text": [
      "Recommender_Base_Class: URM Detected 627 ( 4.8%) users with no interactions.\n",
      "Recommender_Base_Class: URM Detected 247 ( 1.1%) items with no interactions.\n",
      "EvaluatorHoldout: Processed 10456 (100.0%) in 23.67 sec. Users per second: 442\n"
     ]
    },
    {
     "name": "stderr",
     "output_type": "stream",
     "text": [
      "[I 2023-12-04 18:20:25,786] Trial 291 finished with value: 0.05127815653805565 and parameters: {'cutoff': 124}. Best is trial 11 with value: 0.051586052968752405.\n"
     ]
    },
    {
     "name": "stdout",
     "output_type": "stream",
     "text": [
      "Recommender_Base_Class: URM Detected 627 ( 4.8%) users with no interactions.\n",
      "Recommender_Base_Class: URM Detected 247 ( 1.1%) items with no interactions.\n",
      "EvaluatorHoldout: Processed 10456 (100.0%) in 23.54 sec. Users per second: 444\n"
     ]
    },
    {
     "name": "stderr",
     "output_type": "stream",
     "text": [
      "[I 2023-12-04 18:20:49,504] Trial 292 finished with value: 0.05139458547382277 and parameters: {'cutoff': 42}. Best is trial 11 with value: 0.051586052968752405.\n"
     ]
    },
    {
     "name": "stdout",
     "output_type": "stream",
     "text": [
      "Recommender_Base_Class: URM Detected 627 ( 4.8%) users with no interactions.\n",
      "Recommender_Base_Class: URM Detected 247 ( 1.1%) items with no interactions.\n",
      "EvaluatorHoldout: Processed 10456 (100.0%) in 23.57 sec. Users per second: 444\n"
     ]
    },
    {
     "name": "stderr",
     "output_type": "stream",
     "text": [
      "[I 2023-12-04 18:21:13,247] Trial 293 finished with value: 0.051299614560183136 and parameters: {'cutoff': 85}. Best is trial 11 with value: 0.051586052968752405.\n"
     ]
    },
    {
     "name": "stdout",
     "output_type": "stream",
     "text": [
      "Recommender_Base_Class: URM Detected 627 ( 4.8%) users with no interactions.\n",
      "Recommender_Base_Class: URM Detected 247 ( 1.1%) items with no interactions.\n",
      "EvaluatorHoldout: Processed 10456 (100.0%) in 23.85 sec. Users per second: 438\n"
     ]
    },
    {
     "name": "stderr",
     "output_type": "stream",
     "text": [
      "[I 2023-12-04 18:21:37,280] Trial 294 finished with value: 0.051266975899005855 and parameters: {'cutoff': 176}. Best is trial 11 with value: 0.051586052968752405.\n"
     ]
    },
    {
     "name": "stdout",
     "output_type": "stream",
     "text": [
      "Recommender_Base_Class: URM Detected 627 ( 4.8%) users with no interactions.\n",
      "Recommender_Base_Class: URM Detected 247 ( 1.1%) items with no interactions.\n",
      "EvaluatorHoldout: Processed 10456 (100.0%) in 23.19 sec. Users per second: 451\n"
     ]
    },
    {
     "name": "stderr",
     "output_type": "stream",
     "text": [
      "[I 2023-12-04 18:22:00,653] Trial 295 finished with value: 0.051402320077483146 and parameters: {'cutoff': 43}. Best is trial 11 with value: 0.051586052968752405.\n"
     ]
    },
    {
     "name": "stdout",
     "output_type": "stream",
     "text": [
      "Recommender_Base_Class: URM Detected 627 ( 4.8%) users with no interactions.\n",
      "Recommender_Base_Class: URM Detected 247 ( 1.1%) items with no interactions.\n",
      "EvaluatorHoldout: Processed 10456 (100.0%) in 23.27 sec. Users per second: 449\n"
     ]
    },
    {
     "name": "stderr",
     "output_type": "stream",
     "text": [
      "[I 2023-12-04 18:22:24,101] Trial 296 finished with value: 0.05150189835561936 and parameters: {'cutoff': 13}. Best is trial 11 with value: 0.051586052968752405.\n"
     ]
    },
    {
     "name": "stdout",
     "output_type": "stream",
     "text": [
      "Recommender_Base_Class: URM Detected 627 ( 4.8%) users with no interactions.\n",
      "Recommender_Base_Class: URM Detected 247 ( 1.1%) items with no interactions.\n",
      "EvaluatorHoldout: Processed 10456 (100.0%) in 23.12 sec. Users per second: 452\n"
     ]
    },
    {
     "name": "stderr",
     "output_type": "stream",
     "text": [
      "[I 2023-12-04 18:22:47,391] Trial 297 finished with value: 0.05146412479809626 and parameters: {'cutoff': 11}. Best is trial 11 with value: 0.051586052968752405.\n"
     ]
    },
    {
     "name": "stdout",
     "output_type": "stream",
     "text": [
      "Recommender_Base_Class: URM Detected 627 ( 4.8%) users with no interactions.\n",
      "Recommender_Base_Class: URM Detected 247 ( 1.1%) items with no interactions.\n",
      "EvaluatorHoldout: Processed 10456 (100.0%) in 23.17 sec. Users per second: 451\n"
     ]
    },
    {
     "name": "stderr",
     "output_type": "stream",
     "text": [
      "[I 2023-12-04 18:23:10,731] Trial 298 finished with value: 0.051311463153229125 and parameters: {'cutoff': 81}. Best is trial 11 with value: 0.051586052968752405.\n"
     ]
    },
    {
     "name": "stdout",
     "output_type": "stream",
     "text": [
      "Recommender_Base_Class: URM Detected 627 ( 4.8%) users with no interactions.\n",
      "Recommender_Base_Class: URM Detected 247 ( 1.1%) items with no interactions.\n",
      "EvaluatorHoldout: Processed 10456 (100.0%) in 23.23 sec. Users per second: 450\n"
     ]
    },
    {
     "name": "stderr",
     "output_type": "stream",
     "text": [
      "[I 2023-12-04 18:23:34,122] Trial 299 finished with value: 0.051403265080580025 and parameters: {'cutoff': 44}. Best is trial 11 with value: 0.051586052968752405.\n"
     ]
    },
    {
     "name": "stdout",
     "output_type": "stream",
     "text": [
      "Recommender_Base_Class: URM Detected 627 ( 4.8%) users with no interactions.\n",
      "Recommender_Base_Class: URM Detected 247 ( 1.1%) items with no interactions.\n",
      "EvaluatorHoldout: Processed 10456 (100.0%) in 23.30 sec. Users per second: 449\n"
     ]
    },
    {
     "name": "stderr",
     "output_type": "stream",
     "text": [
      "[I 2023-12-04 18:23:57,596] Trial 300 finished with value: 0.051302252219429446 and parameters: {'cutoff': 92}. Best is trial 11 with value: 0.051586052968752405.\n"
     ]
    },
    {
     "name": "stdout",
     "output_type": "stream",
     "text": [
      "Recommender_Base_Class: URM Detected 627 ( 4.8%) users with no interactions.\n",
      "Recommender_Base_Class: URM Detected 247 ( 1.1%) items with no interactions.\n",
      "EvaluatorHoldout: Processed 10456 (100.0%) in 23.24 sec. Users per second: 450\n"
     ]
    },
    {
     "name": "stderr",
     "output_type": "stream",
     "text": [
      "[I 2023-12-04 18:24:21,008] Trial 301 finished with value: 0.05124116099513065 and parameters: {'cutoff': 10}. Best is trial 11 with value: 0.051586052968752405.\n"
     ]
    },
    {
     "name": "stdout",
     "output_type": "stream",
     "text": [
      "Recommender_Base_Class: URM Detected 627 ( 4.8%) users with no interactions.\n",
      "Recommender_Base_Class: URM Detected 247 ( 1.1%) items with no interactions.\n",
      "EvaluatorHoldout: Processed 10456 (100.0%) in 23.42 sec. Users per second: 446\n"
     ]
    },
    {
     "name": "stderr",
     "output_type": "stream",
     "text": [
      "[I 2023-12-04 18:24:44,602] Trial 302 finished with value: 0.05127815653805565 and parameters: {'cutoff': 125}. Best is trial 11 with value: 0.051586052968752405.\n"
     ]
    },
    {
     "name": "stdout",
     "output_type": "stream",
     "text": [
      "Recommender_Base_Class: URM Detected 627 ( 4.8%) users with no interactions.\n",
      "Recommender_Base_Class: URM Detected 247 ( 1.1%) items with no interactions.\n",
      "EvaluatorHoldout: Processed 10456 (100.0%) in 23.33 sec. Users per second: 448\n"
     ]
    },
    {
     "name": "stderr",
     "output_type": "stream",
     "text": [
      "[I 2023-12-04 18:25:08,110] Trial 303 finished with value: 0.05124116099513065 and parameters: {'cutoff': 10}. Best is trial 11 with value: 0.051586052968752405.\n"
     ]
    },
    {
     "name": "stdout",
     "output_type": "stream",
     "text": [
      "Recommender_Base_Class: URM Detected 627 ( 4.8%) users with no interactions.\n",
      "Recommender_Base_Class: URM Detected 247 ( 1.1%) items with no interactions.\n",
      "EvaluatorHoldout: Processed 10456 (100.0%) in 23.60 sec. Users per second: 443\n"
     ]
    },
    {
     "name": "stderr",
     "output_type": "stream",
     "text": [
      "[I 2023-12-04 18:25:31,895] Trial 304 finished with value: 0.051359935360270566 and parameters: {'cutoff': 66}. Best is trial 11 with value: 0.051586052968752405.\n"
     ]
    },
    {
     "name": "stdout",
     "output_type": "stream",
     "text": [
      "Recommender_Base_Class: URM Detected 627 ( 4.8%) users with no interactions.\n",
      "Recommender_Base_Class: URM Detected 247 ( 1.1%) items with no interactions.\n",
      "EvaluatorHoldout: Processed 10456 (100.0%) in 23.73 sec. Users per second: 441\n"
     ]
    },
    {
     "name": "stderr",
     "output_type": "stream",
     "text": [
      "[I 2023-12-04 18:25:55,802] Trial 305 finished with value: 0.05141487078126378 and parameters: {'cutoff': 47}. Best is trial 11 with value: 0.051586052968752405.\n"
     ]
    },
    {
     "name": "stdout",
     "output_type": "stream",
     "text": [
      "Recommender_Base_Class: URM Detected 627 ( 4.8%) users with no interactions.\n",
      "Recommender_Base_Class: URM Detected 247 ( 1.1%) items with no interactions.\n",
      "EvaluatorHoldout: Processed 10456 (100.0%) in 23.50 sec. Users per second: 445\n"
     ]
    },
    {
     "name": "stderr",
     "output_type": "stream",
     "text": [
      "[I 2023-12-04 18:26:19,472] Trial 306 finished with value: 0.05128159877825191 and parameters: {'cutoff': 112}. Best is trial 11 with value: 0.051586052968752405.\n"
     ]
    },
    {
     "name": "stdout",
     "output_type": "stream",
     "text": [
      "Recommender_Base_Class: URM Detected 627 ( 4.8%) users with no interactions.\n",
      "Recommender_Base_Class: URM Detected 247 ( 1.1%) items with no interactions.\n",
      "EvaluatorHoldout: Processed 10456 (100.0%) in 23.55 sec. Users per second: 444\n"
     ]
    },
    {
     "name": "stderr",
     "output_type": "stream",
     "text": [
      "[I 2023-12-04 18:26:43,197] Trial 307 finished with value: 0.05123745688660622 and parameters: {'cutoff': 638}. Best is trial 11 with value: 0.051586052968752405.\n"
     ]
    },
    {
     "name": "stdout",
     "output_type": "stream",
     "text": [
      "Recommender_Base_Class: URM Detected 627 ( 4.8%) users with no interactions.\n",
      "Recommender_Base_Class: URM Detected 247 ( 1.1%) items with no interactions.\n",
      "EvaluatorHoldout: Processed 10456 (100.0%) in 23.52 sec. Users per second: 445\n"
     ]
    },
    {
     "name": "stderr",
     "output_type": "stream",
     "text": [
      "[I 2023-12-04 18:27:06,880] Trial 308 finished with value: 0.05123695212591592 and parameters: {'cutoff': 1140}. Best is trial 11 with value: 0.051586052968752405.\n"
     ]
    },
    {
     "name": "stdout",
     "output_type": "stream",
     "text": [
      "Recommender_Base_Class: URM Detected 627 ( 4.8%) users with no interactions.\n",
      "Recommender_Base_Class: URM Detected 247 ( 1.1%) items with no interactions.\n",
      "EvaluatorHoldout: Processed 10456 (100.0%) in 23.43 sec. Users per second: 446\n"
     ]
    },
    {
     "name": "stderr",
     "output_type": "stream",
     "text": [
      "[I 2023-12-04 18:27:30,503] Trial 309 finished with value: 0.05141487078126378 and parameters: {'cutoff': 47}. Best is trial 11 with value: 0.051586052968752405.\n"
     ]
    },
    {
     "name": "stdout",
     "output_type": "stream",
     "text": [
      "Recommender_Base_Class: URM Detected 627 ( 4.8%) users with no interactions.\n",
      "Recommender_Base_Class: URM Detected 247 ( 1.1%) items with no interactions.\n",
      "EvaluatorHoldout: Processed 10456 (100.0%) in 23.16 sec. Users per second: 452\n"
     ]
    },
    {
     "name": "stderr",
     "output_type": "stream",
     "text": [
      "[I 2023-12-04 18:27:53,835] Trial 310 finished with value: 0.05132771417034087 and parameters: {'cutoff': 76}. Best is trial 11 with value: 0.051586052968752405.\n"
     ]
    },
    {
     "name": "stdout",
     "output_type": "stream",
     "text": [
      "Recommender_Base_Class: URM Detected 627 ( 4.8%) users with no interactions.\n",
      "Recommender_Base_Class: URM Detected 247 ( 1.1%) items with no interactions.\n",
      "EvaluatorHoldout: Processed 10456 (100.0%) in 23.18 sec. Users per second: 451\n"
     ]
    },
    {
     "name": "stderr",
     "output_type": "stream",
     "text": [
      "[I 2023-12-04 18:28:17,188] Trial 311 finished with value: 0.051404422614493885 and parameters: {'cutoff': 41}. Best is trial 11 with value: 0.051586052968752405.\n"
     ]
    },
    {
     "name": "stdout",
     "output_type": "stream",
     "text": [
      "Recommender_Base_Class: URM Detected 627 ( 4.8%) users with no interactions.\n",
      "Recommender_Base_Class: URM Detected 247 ( 1.1%) items with no interactions.\n",
      "EvaluatorHoldout: Processed 10456 (100.0%) in 23.39 sec. Users per second: 447\n"
     ]
    },
    {
     "name": "stderr",
     "output_type": "stream",
     "text": [
      "[I 2023-12-04 18:28:40,752] Trial 312 finished with value: 0.05127066103156436 and parameters: {'cutoff': 139}. Best is trial 11 with value: 0.051586052968752405.\n"
     ]
    },
    {
     "name": "stdout",
     "output_type": "stream",
     "text": [
      "Recommender_Base_Class: URM Detected 627 ( 4.8%) users with no interactions.\n",
      "Recommender_Base_Class: URM Detected 247 ( 1.1%) items with no interactions.\n",
      "EvaluatorHoldout: Processed 10456 (100.0%) in 22.99 sec. Users per second: 455\n"
     ]
    },
    {
     "name": "stderr",
     "output_type": "stream",
     "text": [
      "[I 2023-12-04 18:29:03,914] Trial 313 finished with value: 0.05130704934358387 and parameters: {'cutoff': 83}. Best is trial 11 with value: 0.051586052968752405.\n"
     ]
    },
    {
     "name": "stdout",
     "output_type": "stream",
     "text": [
      "Recommender_Base_Class: URM Detected 627 ( 4.8%) users with no interactions.\n",
      "Recommender_Base_Class: URM Detected 247 ( 1.1%) items with no interactions.\n",
      "EvaluatorHoldout: Processed 10456 (100.0%) in 23.23 sec. Users per second: 450\n"
     ]
    },
    {
     "name": "stderr",
     "output_type": "stream",
     "text": [
      "[I 2023-12-04 18:29:27,318] Trial 314 finished with value: 0.051343198558434465 and parameters: {'cutoff': 12}. Best is trial 11 with value: 0.051586052968752405.\n"
     ]
    },
    {
     "name": "stdout",
     "output_type": "stream",
     "text": [
      "Recommender_Base_Class: URM Detected 627 ( 4.8%) users with no interactions.\n",
      "Recommender_Base_Class: URM Detected 247 ( 1.1%) items with no interactions.\n",
      "EvaluatorHoldout: Processed 10456 (100.0%) in 23.24 sec. Users per second: 450\n"
     ]
    },
    {
     "name": "stderr",
     "output_type": "stream",
     "text": [
      "[I 2023-12-04 18:29:50,733] Trial 315 finished with value: 0.05139164799431681 and parameters: {'cutoff': 54}. Best is trial 11 with value: 0.051586052968752405.\n"
     ]
    },
    {
     "name": "stdout",
     "output_type": "stream",
     "text": [
      "Recommender_Base_Class: URM Detected 627 ( 4.8%) users with no interactions.\n",
      "Recommender_Base_Class: URM Detected 247 ( 1.1%) items with no interactions.\n",
      "EvaluatorHoldout: Processed 10456 (100.0%) in 23.28 sec. Users per second: 449\n"
     ]
    },
    {
     "name": "stderr",
     "output_type": "stream",
     "text": [
      "[I 2023-12-04 18:30:14,189] Trial 316 finished with value: 0.0513007037806201 and parameters: {'cutoff': 97}. Best is trial 11 with value: 0.051586052968752405.\n"
     ]
    },
    {
     "name": "stdout",
     "output_type": "stream",
     "text": [
      "Recommender_Base_Class: URM Detected 627 ( 4.8%) users with no interactions.\n",
      "Recommender_Base_Class: URM Detected 247 ( 1.1%) items with no interactions.\n",
      "EvaluatorHoldout: Processed 10456 (100.0%) in 23.41 sec. Users per second: 447\n"
     ]
    },
    {
     "name": "stderr",
     "output_type": "stream",
     "text": [
      "[I 2023-12-04 18:30:37,774] Trial 317 finished with value: 0.051404422614493885 and parameters: {'cutoff': 41}. Best is trial 11 with value: 0.051586052968752405.\n"
     ]
    },
    {
     "name": "stdout",
     "output_type": "stream",
     "text": [
      "Recommender_Base_Class: URM Detected 627 ( 4.8%) users with no interactions.\n",
      "Recommender_Base_Class: URM Detected 247 ( 1.1%) items with no interactions.\n",
      "EvaluatorHoldout: Processed 10456 (100.0%) in 22.98 sec. Users per second: 455\n"
     ]
    },
    {
     "name": "stderr",
     "output_type": "stream",
     "text": [
      "[I 2023-12-04 18:31:00,913] Trial 318 finished with value: 0.05139458547382277 and parameters: {'cutoff': 42}. Best is trial 11 with value: 0.051586052968752405.\n"
     ]
    },
    {
     "name": "stdout",
     "output_type": "stream",
     "text": [
      "Recommender_Base_Class: URM Detected 627 ( 4.8%) users with no interactions.\n",
      "Recommender_Base_Class: URM Detected 247 ( 1.1%) items with no interactions.\n",
      "EvaluatorHoldout: Processed 10456 (100.0%) in 22.90 sec. Users per second: 457\n"
     ]
    },
    {
     "name": "stderr",
     "output_type": "stream",
     "text": [
      "[I 2023-12-04 18:31:23,978] Trial 319 finished with value: 0.05124116099513065 and parameters: {'cutoff': 10}. Best is trial 11 with value: 0.051586052968752405.\n"
     ]
    },
    {
     "name": "stdout",
     "output_type": "stream",
     "text": [
      "Recommender_Base_Class: URM Detected 627 ( 4.8%) users with no interactions.\n",
      "Recommender_Base_Class: URM Detected 247 ( 1.1%) items with no interactions.\n",
      "EvaluatorHoldout: Processed 10456 (100.0%) in 23.44 sec. Users per second: 446\n"
     ]
    },
    {
     "name": "stderr",
     "output_type": "stream",
     "text": [
      "[I 2023-12-04 18:31:47,599] Trial 320 finished with value: 0.05124117997109633 and parameters: {'cutoff': 379}. Best is trial 11 with value: 0.051586052968752405.\n"
     ]
    },
    {
     "name": "stdout",
     "output_type": "stream",
     "text": [
      "Recommender_Base_Class: URM Detected 627 ( 4.8%) users with no interactions.\n",
      "Recommender_Base_Class: URM Detected 247 ( 1.1%) items with no interactions.\n",
      "EvaluatorHoldout: Processed 10456 (100.0%) in 23.30 sec. Users per second: 449\n"
     ]
    },
    {
     "name": "stderr",
     "output_type": "stream",
     "text": [
      "[I 2023-12-04 18:32:11,073] Trial 321 finished with value: 0.05146412479809626 and parameters: {'cutoff': 11}. Best is trial 11 with value: 0.051586052968752405.\n"
     ]
    },
    {
     "name": "stdout",
     "output_type": "stream",
     "text": [
      "Recommender_Base_Class: URM Detected 627 ( 4.8%) users with no interactions.\n",
      "Recommender_Base_Class: URM Detected 247 ( 1.1%) items with no interactions.\n",
      "EvaluatorHoldout: Processed 10456 (100.0%) in 23.29 sec. Users per second: 449\n"
     ]
    },
    {
     "name": "stderr",
     "output_type": "stream",
     "text": [
      "[I 2023-12-04 18:32:34,537] Trial 322 finished with value: 0.05128568620128539 and parameters: {'cutoff': 106}. Best is trial 11 with value: 0.051586052968752405.\n"
     ]
    },
    {
     "name": "stdout",
     "output_type": "stream",
     "text": [
      "Recommender_Base_Class: URM Detected 627 ( 4.8%) users with no interactions.\n",
      "Recommender_Base_Class: URM Detected 247 ( 1.1%) items with no interactions.\n",
      "EvaluatorHoldout: Processed 10456 (100.0%) in 23.66 sec. Users per second: 442\n"
     ]
    },
    {
     "name": "stderr",
     "output_type": "stream",
     "text": [
      "[I 2023-12-04 18:32:58,369] Trial 323 finished with value: 0.051266975899005855 and parameters: {'cutoff': 175}. Best is trial 11 with value: 0.051586052968752405.\n"
     ]
    },
    {
     "name": "stdout",
     "output_type": "stream",
     "text": [
      "Recommender_Base_Class: URM Detected 627 ( 4.8%) users with no interactions.\n",
      "Recommender_Base_Class: URM Detected 247 ( 1.1%) items with no interactions.\n",
      "EvaluatorHoldout: Processed 10456 (100.0%) in 23.76 sec. Users per second: 440\n"
     ]
    },
    {
     "name": "stderr",
     "output_type": "stream",
     "text": [
      "[I 2023-12-04 18:33:22,303] Trial 324 finished with value: 0.05123705839132441 and parameters: {'cutoff': 699}. Best is trial 11 with value: 0.051586052968752405.\n"
     ]
    },
    {
     "name": "stdout",
     "output_type": "stream",
     "text": [
      "Recommender_Base_Class: URM Detected 627 ( 4.8%) users with no interactions.\n",
      "Recommender_Base_Class: URM Detected 247 ( 1.1%) items with no interactions.\n",
      "EvaluatorHoldout: Processed 10456 (100.0%) in 22.93 sec. Users per second: 456\n"
     ]
    },
    {
     "name": "stderr",
     "output_type": "stream",
     "text": [
      "[I 2023-12-04 18:33:45,402] Trial 325 finished with value: 0.05134064059824434 and parameters: {'cutoff': 74}. Best is trial 11 with value: 0.051586052968752405.\n"
     ]
    },
    {
     "name": "stdout",
     "output_type": "stream",
     "text": [
      "Recommender_Base_Class: URM Detected 627 ( 4.8%) users with no interactions.\n",
      "Recommender_Base_Class: URM Detected 247 ( 1.1%) items with no interactions.\n",
      "EvaluatorHoldout: Processed 10456 (100.0%) in 23.80 sec. Users per second: 439\n"
     ]
    },
    {
     "name": "stderr",
     "output_type": "stream",
     "text": [
      "[I 2023-12-04 18:34:09,369] Trial 326 finished with value: 0.05123678134222372 and parameters: {'cutoff': 1886}. Best is trial 11 with value: 0.051586052968752405.\n"
     ]
    },
    {
     "name": "stdout",
     "output_type": "stream",
     "text": [
      "Recommender_Base_Class: URM Detected 627 ( 4.8%) users with no interactions.\n",
      "Recommender_Base_Class: URM Detected 247 ( 1.1%) items with no interactions.\n",
      "EvaluatorHoldout: Processed 10456 (100.0%) in 22.75 sec. Users per second: 460\n"
     ]
    },
    {
     "name": "stderr",
     "output_type": "stream",
     "text": [
      "[I 2023-12-04 18:34:32,292] Trial 327 finished with value: 0.05146412479809626 and parameters: {'cutoff': 11}. Best is trial 11 with value: 0.051586052968752405.\n"
     ]
    },
    {
     "name": "stdout",
     "output_type": "stream",
     "text": [
      "Recommender_Base_Class: URM Detected 627 ( 4.8%) users with no interactions.\n",
      "Recommender_Base_Class: URM Detected 247 ( 1.1%) items with no interactions.\n",
      "EvaluatorHoldout: Processed 10456 (100.0%) in 22.93 sec. Users per second: 456\n"
     ]
    },
    {
     "name": "stderr",
     "output_type": "stream",
     "text": [
      "[I 2023-12-04 18:34:55,399] Trial 328 finished with value: 0.05133219249826986 and parameters: {'cutoff': 72}. Best is trial 11 with value: 0.051586052968752405.\n"
     ]
    },
    {
     "name": "stdout",
     "output_type": "stream",
     "text": [
      "Recommender_Base_Class: URM Detected 627 ( 4.8%) users with no interactions.\n",
      "Recommender_Base_Class: URM Detected 247 ( 1.1%) items with no interactions.\n",
      "EvaluatorHoldout: Processed 10456 (100.0%) in 23.20 sec. Users per second: 451\n"
     ]
    },
    {
     "name": "stderr",
     "output_type": "stream",
     "text": [
      "[I 2023-12-04 18:35:18,765] Trial 329 finished with value: 0.051275659300956275 and parameters: {'cutoff': 128}. Best is trial 11 with value: 0.051586052968752405.\n"
     ]
    },
    {
     "name": "stdout",
     "output_type": "stream",
     "text": [
      "Recommender_Base_Class: URM Detected 627 ( 4.8%) users with no interactions.\n",
      "Recommender_Base_Class: URM Detected 247 ( 1.1%) items with no interactions.\n",
      "EvaluatorHoldout: Processed 10456 (100.0%) in 23.19 sec. Users per second: 451\n"
     ]
    },
    {
     "name": "stderr",
     "output_type": "stream",
     "text": [
      "[I 2023-12-04 18:35:42,124] Trial 330 finished with value: 0.051402320077483146 and parameters: {'cutoff': 43}. Best is trial 11 with value: 0.051586052968752405.\n"
     ]
    },
    {
     "name": "stdout",
     "output_type": "stream",
     "text": [
      "Recommender_Base_Class: URM Detected 627 ( 4.8%) users with no interactions.\n",
      "Recommender_Base_Class: URM Detected 247 ( 1.1%) items with no interactions.\n",
      "EvaluatorHoldout: Processed 10456 (100.0%) in 23.25 sec. Users per second: 450\n"
     ]
    },
    {
     "name": "stderr",
     "output_type": "stream",
     "text": [
      "[I 2023-12-04 18:36:05,536] Trial 331 finished with value: 0.051325330789036304 and parameters: {'cutoff': 79}. Best is trial 11 with value: 0.051586052968752405.\n"
     ]
    },
    {
     "name": "stdout",
     "output_type": "stream",
     "text": [
      "Recommender_Base_Class: URM Detected 627 ( 4.8%) users with no interactions.\n",
      "Recommender_Base_Class: URM Detected 247 ( 1.1%) items with no interactions.\n",
      "EvaluatorHoldout: Processed 10456 (100.0%) in 23.30 sec. Users per second: 449\n"
     ]
    },
    {
     "name": "stderr",
     "output_type": "stream",
     "text": [
      "[I 2023-12-04 18:36:29,018] Trial 332 finished with value: 0.05139164799431681 and parameters: {'cutoff': 54}. Best is trial 11 with value: 0.051586052968752405.\n"
     ]
    },
    {
     "name": "stdout",
     "output_type": "stream",
     "text": [
      "Recommender_Base_Class: URM Detected 627 ( 4.8%) users with no interactions.\n",
      "Recommender_Base_Class: URM Detected 247 ( 1.1%) items with no interactions.\n",
      "EvaluatorHoldout: Processed 10456 (100.0%) in 23.02 sec. Users per second: 454\n"
     ]
    },
    {
     "name": "stderr",
     "output_type": "stream",
     "text": [
      "[I 2023-12-04 18:36:52,229] Trial 333 finished with value: 0.05146412479809626 and parameters: {'cutoff': 11}. Best is trial 11 with value: 0.051586052968752405.\n"
     ]
    },
    {
     "name": "stdout",
     "output_type": "stream",
     "text": [
      "Recommender_Base_Class: URM Detected 627 ( 4.8%) users with no interactions.\n",
      "Recommender_Base_Class: URM Detected 247 ( 1.1%) items with no interactions.\n",
      "EvaluatorHoldout: Processed 10456 (100.0%) in 23.39 sec. Users per second: 447\n"
     ]
    },
    {
     "name": "stderr",
     "output_type": "stream",
     "text": [
      "[I 2023-12-04 18:37:15,835] Trial 334 finished with value: 0.05127690412431281 and parameters: {'cutoff': 116}. Best is trial 11 with value: 0.051586052968752405.\n"
     ]
    },
    {
     "name": "stdout",
     "output_type": "stream",
     "text": [
      "Recommender_Base_Class: URM Detected 627 ( 4.8%) users with no interactions.\n",
      "Recommender_Base_Class: URM Detected 247 ( 1.1%) items with no interactions.\n",
      "EvaluatorHoldout: Processed 10456 (100.0%) in 23.23 sec. Users per second: 450\n"
     ]
    },
    {
     "name": "stderr",
     "output_type": "stream",
     "text": [
      "[I 2023-12-04 18:37:39,238] Trial 335 finished with value: 0.05139126088461448 and parameters: {'cutoff': 49}. Best is trial 11 with value: 0.051586052968752405.\n"
     ]
    },
    {
     "name": "stdout",
     "output_type": "stream",
     "text": [
      "Recommender_Base_Class: URM Detected 627 ( 4.8%) users with no interactions.\n",
      "Recommender_Base_Class: URM Detected 247 ( 1.1%) items with no interactions.\n",
      "EvaluatorHoldout: Processed 10456 (100.0%) in 23.36 sec. Users per second: 448\n"
     ]
    },
    {
     "name": "stderr",
     "output_type": "stream",
     "text": [
      "[I 2023-12-04 18:38:02,769] Trial 336 finished with value: 0.05124116099513065 and parameters: {'cutoff': 10}. Best is trial 11 with value: 0.051586052968752405.\n"
     ]
    },
    {
     "name": "stdout",
     "output_type": "stream",
     "text": [
      "Recommender_Base_Class: URM Detected 627 ( 4.8%) users with no interactions.\n",
      "Recommender_Base_Class: URM Detected 247 ( 1.1%) items with no interactions.\n",
      "EvaluatorHoldout: Processed 10456 (100.0%) in 23.27 sec. Users per second: 449\n"
     ]
    },
    {
     "name": "stderr",
     "output_type": "stream",
     "text": [
      "[I 2023-12-04 18:38:26,228] Trial 337 finished with value: 0.051311463153229125 and parameters: {'cutoff': 81}. Best is trial 11 with value: 0.051586052968752405.\n"
     ]
    },
    {
     "name": "stdout",
     "output_type": "stream",
     "text": [
      "Recommender_Base_Class: URM Detected 627 ( 4.8%) users with no interactions.\n",
      "Recommender_Base_Class: URM Detected 247 ( 1.1%) items with no interactions.\n",
      "EvaluatorHoldout: Processed 10456 (100.0%) in 23.35 sec. Users per second: 448\n"
     ]
    },
    {
     "name": "stderr",
     "output_type": "stream",
     "text": [
      "[I 2023-12-04 18:38:49,756] Trial 338 finished with value: 0.05140482490496884 and parameters: {'cutoff': 45}. Best is trial 11 with value: 0.051586052968752405.\n"
     ]
    },
    {
     "name": "stdout",
     "output_type": "stream",
     "text": [
      "Recommender_Base_Class: URM Detected 627 ( 4.8%) users with no interactions.\n",
      "Recommender_Base_Class: URM Detected 247 ( 1.1%) items with no interactions.\n",
      "EvaluatorHoldout: Processed 10456 (100.0%) in 23.28 sec. Users per second: 449\n"
     ]
    },
    {
     "name": "stderr",
     "output_type": "stream",
     "text": [
      "[I 2023-12-04 18:39:13,210] Trial 339 finished with value: 0.05128568620128539 and parameters: {'cutoff': 106}. Best is trial 11 with value: 0.051586052968752405.\n"
     ]
    },
    {
     "name": "stdout",
     "output_type": "stream",
     "text": [
      "Recommender_Base_Class: URM Detected 627 ( 4.8%) users with no interactions.\n",
      "Recommender_Base_Class: URM Detected 247 ( 1.1%) items with no interactions.\n",
      "EvaluatorHoldout: Processed 10456 (100.0%) in 23.36 sec. Users per second: 448\n"
     ]
    },
    {
     "name": "stderr",
     "output_type": "stream",
     "text": [
      "[I 2023-12-04 18:39:36,762] Trial 340 finished with value: 0.051273848993818885 and parameters: {'cutoff': 146}. Best is trial 11 with value: 0.051586052968752405.\n"
     ]
    },
    {
     "name": "stdout",
     "output_type": "stream",
     "text": [
      "Recommender_Base_Class: URM Detected 627 ( 4.8%) users with no interactions.\n",
      "Recommender_Base_Class: URM Detected 247 ( 1.1%) items with no interactions.\n",
      "EvaluatorHoldout: Processed 10456 (100.0%) in 23.13 sec. Users per second: 452\n"
     ]
    },
    {
     "name": "stderr",
     "output_type": "stream",
     "text": [
      "[I 2023-12-04 18:40:00,067] Trial 341 finished with value: 0.05141487078126378 and parameters: {'cutoff': 47}. Best is trial 11 with value: 0.051586052968752405.\n"
     ]
    },
    {
     "name": "stdout",
     "output_type": "stream",
     "text": [
      "Recommender_Base_Class: URM Detected 627 ( 4.8%) users with no interactions.\n",
      "Recommender_Base_Class: URM Detected 247 ( 1.1%) items with no interactions.\n",
      "EvaluatorHoldout: Processed 10456 (100.0%) in 23.04 sec. Users per second: 454\n"
     ]
    },
    {
     "name": "stderr",
     "output_type": "stream",
     "text": [
      "[I 2023-12-04 18:40:23,322] Trial 342 finished with value: 0.05146412479809626 and parameters: {'cutoff': 11}. Best is trial 11 with value: 0.051586052968752405.\n"
     ]
    },
    {
     "name": "stdout",
     "output_type": "stream",
     "text": [
      "Recommender_Base_Class: URM Detected 627 ( 4.8%) users with no interactions.\n",
      "Recommender_Base_Class: URM Detected 247 ( 1.1%) items with no interactions.\n",
      "EvaluatorHoldout: Processed 10456 (100.0%) in 23.25 sec. Users per second: 450\n"
     ]
    },
    {
     "name": "stderr",
     "output_type": "stream",
     "text": [
      "[I 2023-12-04 18:40:46,759] Trial 343 finished with value: 0.0513224464422346 and parameters: {'cutoff': 77}. Best is trial 11 with value: 0.051586052968752405.\n"
     ]
    },
    {
     "name": "stdout",
     "output_type": "stream",
     "text": [
      "Recommender_Base_Class: URM Detected 627 ( 4.8%) users with no interactions.\n",
      "Recommender_Base_Class: URM Detected 247 ( 1.1%) items with no interactions.\n",
      "EvaluatorHoldout: Processed 10456 (100.0%) in 23.18 sec. Users per second: 451\n"
     ]
    },
    {
     "name": "stderr",
     "output_type": "stream",
     "text": [
      "[I 2023-12-04 18:41:10,101] Trial 344 finished with value: 0.051406775634253166 and parameters: {'cutoff': 46}. Best is trial 11 with value: 0.051586052968752405.\n"
     ]
    },
    {
     "name": "stdout",
     "output_type": "stream",
     "text": [
      "Recommender_Base_Class: URM Detected 627 ( 4.8%) users with no interactions.\n",
      "Recommender_Base_Class: URM Detected 247 ( 1.1%) items with no interactions.\n",
      "EvaluatorHoldout: Processed 10456 (100.0%) in 23.05 sec. Users per second: 454\n"
     ]
    },
    {
     "name": "stderr",
     "output_type": "stream",
     "text": [
      "[I 2023-12-04 18:41:33,332] Trial 345 finished with value: 0.05124116099513065 and parameters: {'cutoff': 10}. Best is trial 11 with value: 0.051586052968752405.\n"
     ]
    },
    {
     "name": "stdout",
     "output_type": "stream",
     "text": [
      "Recommender_Base_Class: URM Detected 627 ( 4.8%) users with no interactions.\n",
      "Recommender_Base_Class: URM Detected 247 ( 1.1%) items with no interactions.\n",
      "EvaluatorHoldout: Processed 10456 (100.0%) in 23.32 sec. Users per second: 448\n"
     ]
    },
    {
     "name": "stderr",
     "output_type": "stream",
     "text": [
      "[I 2023-12-04 18:41:56,819] Trial 346 finished with value: 0.05129852533974618 and parameters: {'cutoff': 98}. Best is trial 11 with value: 0.051586052968752405.\n"
     ]
    },
    {
     "name": "stdout",
     "output_type": "stream",
     "text": [
      "Recommender_Base_Class: URM Detected 627 ( 4.8%) users with no interactions.\n",
      "Recommender_Base_Class: URM Detected 247 ( 1.1%) items with no interactions.\n",
      "EvaluatorHoldout: Processed 10456 (100.0%) in 23.31 sec. Users per second: 449\n"
     ]
    },
    {
     "name": "stderr",
     "output_type": "stream",
     "text": [
      "[I 2023-12-04 18:42:20,300] Trial 347 finished with value: 0.051359935360270566 and parameters: {'cutoff': 66}. Best is trial 11 with value: 0.051586052968752405.\n"
     ]
    },
    {
     "name": "stdout",
     "output_type": "stream",
     "text": [
      "Recommender_Base_Class: URM Detected 627 ( 4.8%) users with no interactions.\n",
      "Recommender_Base_Class: URM Detected 247 ( 1.1%) items with no interactions.\n",
      "EvaluatorHoldout: Processed 10456 (100.0%) in 23.46 sec. Users per second: 446\n"
     ]
    },
    {
     "name": "stderr",
     "output_type": "stream",
     "text": [
      "[I 2023-12-04 18:42:43,943] Trial 348 finished with value: 0.051402320077483146 and parameters: {'cutoff': 43}. Best is trial 11 with value: 0.051586052968752405.\n"
     ]
    },
    {
     "name": "stdout",
     "output_type": "stream",
     "text": [
      "Recommender_Base_Class: URM Detected 627 ( 4.8%) users with no interactions.\n",
      "Recommender_Base_Class: URM Detected 247 ( 1.1%) items with no interactions.\n",
      "EvaluatorHoldout: Processed 10456 (100.0%) in 23.86 sec. Users per second: 438\n"
     ]
    },
    {
     "name": "stderr",
     "output_type": "stream",
     "text": [
      "[I 2023-12-04 18:43:07,977] Trial 349 finished with value: 0.05123695212591592 and parameters: {'cutoff': 1009}. Best is trial 11 with value: 0.051586052968752405.\n"
     ]
    },
    {
     "name": "stdout",
     "output_type": "stream",
     "text": [
      "Recommender_Base_Class: URM Detected 627 ( 4.8%) users with no interactions.\n",
      "Recommender_Base_Class: URM Detected 247 ( 1.1%) items with no interactions.\n",
      "EvaluatorHoldout: Processed 10456 (100.0%) in 23.46 sec. Users per second: 446\n"
     ]
    },
    {
     "name": "stderr",
     "output_type": "stream",
     "text": [
      "[I 2023-12-04 18:43:31,621] Trial 350 finished with value: 0.05127610713374917 and parameters: {'cutoff': 135}. Best is trial 11 with value: 0.051586052968752405.\n"
     ]
    },
    {
     "name": "stdout",
     "output_type": "stream",
     "text": [
      "Recommender_Base_Class: URM Detected 627 ( 4.8%) users with no interactions.\n",
      "Recommender_Base_Class: URM Detected 247 ( 1.1%) items with no interactions.\n",
      "EvaluatorHoldout: Processed 10456 (100.0%) in 23.28 sec. Users per second: 449\n"
     ]
    },
    {
     "name": "stderr",
     "output_type": "stream",
     "text": [
      "[I 2023-12-04 18:43:55,065] Trial 351 finished with value: 0.051311463153229125 and parameters: {'cutoff': 81}. Best is trial 11 with value: 0.051586052968752405.\n"
     ]
    },
    {
     "name": "stdout",
     "output_type": "stream",
     "text": [
      "Recommender_Base_Class: URM Detected 627 ( 4.8%) users with no interactions.\n",
      "Recommender_Base_Class: URM Detected 247 ( 1.1%) items with no interactions.\n",
      "EvaluatorHoldout: Processed 10456 (100.0%) in 23.17 sec. Users per second: 451\n"
     ]
    },
    {
     "name": "stderr",
     "output_type": "stream",
     "text": [
      "[I 2023-12-04 18:44:18,420] Trial 352 finished with value: 0.051402320077483146 and parameters: {'cutoff': 43}. Best is trial 11 with value: 0.051586052968752405.\n"
     ]
    },
    {
     "name": "stdout",
     "output_type": "stream",
     "text": [
      "Recommender_Base_Class: URM Detected 627 ( 4.8%) users with no interactions.\n",
      "Recommender_Base_Class: URM Detected 247 ( 1.1%) items with no interactions.\n",
      "EvaluatorHoldout: Processed 10456 (100.0%) in 23.14 sec. Users per second: 452\n"
     ]
    },
    {
     "name": "stderr",
     "output_type": "stream",
     "text": [
      "[I 2023-12-04 18:44:41,736] Trial 353 finished with value: 0.05146412479809626 and parameters: {'cutoff': 11}. Best is trial 11 with value: 0.051586052968752405.\n"
     ]
    },
    {
     "name": "stdout",
     "output_type": "stream",
     "text": [
      "Recommender_Base_Class: URM Detected 627 ( 4.8%) users with no interactions.\n",
      "Recommender_Base_Class: URM Detected 247 ( 1.1%) items with no interactions.\n",
      "EvaluatorHoldout: Processed 10456 (100.0%) in 24.20 sec. Users per second: 432\n"
     ]
    },
    {
     "name": "stderr",
     "output_type": "stream",
     "text": [
      "[I 2023-12-04 18:45:06,111] Trial 354 finished with value: 0.05123678134222372 and parameters: {'cutoff': 1638}. Best is trial 11 with value: 0.051586052968752405.\n"
     ]
    },
    {
     "name": "stdout",
     "output_type": "stream",
     "text": [
      "Recommender_Base_Class: URM Detected 627 ( 4.8%) users with no interactions.\n",
      "Recommender_Base_Class: URM Detected 247 ( 1.1%) items with no interactions.\n",
      "EvaluatorHoldout: Processed 10456 (100.0%) in 23.51 sec. Users per second: 445\n"
     ]
    },
    {
     "name": "stderr",
     "output_type": "stream",
     "text": [
      "[I 2023-12-04 18:45:29,811] Trial 355 finished with value: 0.05124116099513065 and parameters: {'cutoff': 10}. Best is trial 11 with value: 0.051586052968752405.\n"
     ]
    },
    {
     "name": "stdout",
     "output_type": "stream",
     "text": [
      "Recommender_Base_Class: URM Detected 627 ( 4.8%) users with no interactions.\n",
      "Recommender_Base_Class: URM Detected 247 ( 1.1%) items with no interactions.\n",
      "EvaluatorHoldout: Processed 10456 (100.0%) in 23.77 sec. Users per second: 440\n"
     ]
    },
    {
     "name": "stderr",
     "output_type": "stream",
     "text": [
      "[I 2023-12-04 18:45:53,757] Trial 356 finished with value: 0.05128404288264705 and parameters: {'cutoff': 109}. Best is trial 11 with value: 0.051586052968752405.\n"
     ]
    },
    {
     "name": "stdout",
     "output_type": "stream",
     "text": [
      "Recommender_Base_Class: URM Detected 627 ( 4.8%) users with no interactions.\n",
      "Recommender_Base_Class: URM Detected 247 ( 1.1%) items with no interactions.\n",
      "EvaluatorHoldout: Processed 10456 (100.0%) in 23.42 sec. Users per second: 446\n"
     ]
    },
    {
     "name": "stderr",
     "output_type": "stream",
     "text": [
      "[I 2023-12-04 18:46:17,366] Trial 357 finished with value: 0.05136078168834528 and parameters: {'cutoff': 69}. Best is trial 11 with value: 0.051586052968752405.\n"
     ]
    },
    {
     "name": "stdout",
     "output_type": "stream",
     "text": [
      "Recommender_Base_Class: URM Detected 627 ( 4.8%) users with no interactions.\n",
      "Recommender_Base_Class: URM Detected 247 ( 1.1%) items with no interactions.\n",
      "EvaluatorHoldout: Processed 10456 (100.0%) in 23.16 sec. Users per second: 451\n"
     ]
    },
    {
     "name": "stderr",
     "output_type": "stream",
     "text": [
      "[I 2023-12-04 18:46:40,709] Trial 358 finished with value: 0.05126537053229912 and parameters: {'cutoff': 191}. Best is trial 11 with value: 0.051586052968752405.\n"
     ]
    },
    {
     "name": "stdout",
     "output_type": "stream",
     "text": [
      "Recommender_Base_Class: URM Detected 627 ( 4.8%) users with no interactions.\n",
      "Recommender_Base_Class: URM Detected 247 ( 1.1%) items with no interactions.\n",
      "EvaluatorHoldout: Processed 10456 (100.0%) in 23.08 sec. Users per second: 453\n"
     ]
    },
    {
     "name": "stderr",
     "output_type": "stream",
     "text": [
      "[I 2023-12-04 18:47:03,956] Trial 359 finished with value: 0.05139126088461448 and parameters: {'cutoff': 49}. Best is trial 11 with value: 0.051586052968752405.\n"
     ]
    },
    {
     "name": "stdout",
     "output_type": "stream",
     "text": [
      "Recommender_Base_Class: URM Detected 627 ( 4.8%) users with no interactions.\n",
      "Recommender_Base_Class: URM Detected 247 ( 1.1%) items with no interactions.\n",
      "EvaluatorHoldout: Processed 10456 (100.0%) in 23.08 sec. Users per second: 453\n"
     ]
    },
    {
     "name": "stderr",
     "output_type": "stream",
     "text": [
      "[I 2023-12-04 18:47:27,212] Trial 360 finished with value: 0.05124116099513065 and parameters: {'cutoff': 10}. Best is trial 11 with value: 0.051586052968752405.\n"
     ]
    },
    {
     "name": "stdout",
     "output_type": "stream",
     "text": [
      "Recommender_Base_Class: URM Detected 627 ( 4.8%) users with no interactions.\n",
      "Recommender_Base_Class: URM Detected 247 ( 1.1%) items with no interactions.\n",
      "EvaluatorHoldout: Processed 10456 (100.0%) in 23.13 sec. Users per second: 452\n"
     ]
    },
    {
     "name": "stderr",
     "output_type": "stream",
     "text": [
      "[I 2023-12-04 18:47:50,519] Trial 361 finished with value: 0.05130155769908113 and parameters: {'cutoff': 84}. Best is trial 11 with value: 0.051586052968752405.\n"
     ]
    },
    {
     "name": "stdout",
     "output_type": "stream",
     "text": [
      "Recommender_Base_Class: URM Detected 627 ( 4.8%) users with no interactions.\n",
      "Recommender_Base_Class: URM Detected 247 ( 1.1%) items with no interactions.\n",
      "EvaluatorHoldout: Processed 10456 (100.0%) in 23.35 sec. Users per second: 448\n"
     ]
    },
    {
     "name": "stderr",
     "output_type": "stream",
     "text": [
      "[I 2023-12-04 18:48:14,048] Trial 362 finished with value: 0.051273848993818885 and parameters: {'cutoff': 146}. Best is trial 11 with value: 0.051586052968752405.\n"
     ]
    },
    {
     "name": "stdout",
     "output_type": "stream",
     "text": [
      "Recommender_Base_Class: URM Detected 627 ( 4.8%) users with no interactions.\n",
      "Recommender_Base_Class: URM Detected 247 ( 1.1%) items with no interactions.\n",
      "EvaluatorHoldout: Processed 10456 (100.0%) in 23.65 sec. Users per second: 442\n"
     ]
    },
    {
     "name": "stderr",
     "output_type": "stream",
     "text": [
      "[I 2023-12-04 18:48:37,875] Trial 363 finished with value: 0.051237912309785444 and parameters: {'cutoff': 562}. Best is trial 11 with value: 0.051586052968752405.\n"
     ]
    },
    {
     "name": "stdout",
     "output_type": "stream",
     "text": [
      "Recommender_Base_Class: URM Detected 627 ( 4.8%) users with no interactions.\n",
      "Recommender_Base_Class: URM Detected 247 ( 1.1%) items with no interactions.\n",
      "EvaluatorHoldout: Processed 10456 (100.0%) in 23.68 sec. Users per second: 442\n"
     ]
    },
    {
     "name": "stderr",
     "output_type": "stream",
     "text": [
      "[I 2023-12-04 18:49:01,740] Trial 364 finished with value: 0.05123831080506725 and parameters: {'cutoff': 456}. Best is trial 11 with value: 0.051586052968752405.\n"
     ]
    },
    {
     "name": "stdout",
     "output_type": "stream",
     "text": [
      "Recommender_Base_Class: URM Detected 627 ( 4.8%) users with no interactions.\n",
      "Recommender_Base_Class: URM Detected 247 ( 1.1%) items with no interactions.\n",
      "EvaluatorHoldout: Processed 10456 (100.0%) in 23.20 sec. Users per second: 451\n"
     ]
    },
    {
     "name": "stderr",
     "output_type": "stream",
     "text": [
      "[I 2023-12-04 18:49:25,112] Trial 365 finished with value: 0.051402320077483146 and parameters: {'cutoff': 43}. Best is trial 11 with value: 0.051586052968752405.\n"
     ]
    },
    {
     "name": "stdout",
     "output_type": "stream",
     "text": [
      "Recommender_Base_Class: URM Detected 627 ( 4.8%) users with no interactions.\n",
      "Recommender_Base_Class: URM Detected 247 ( 1.1%) items with no interactions.\n",
      "EvaluatorHoldout: Processed 10456 (100.0%) in 23.01 sec. Users per second: 454\n"
     ]
    },
    {
     "name": "stderr",
     "output_type": "stream",
     "text": [
      "[I 2023-12-04 18:49:48,307] Trial 366 finished with value: 0.05124116099513065 and parameters: {'cutoff': 10}. Best is trial 11 with value: 0.051586052968752405.\n"
     ]
    },
    {
     "name": "stdout",
     "output_type": "stream",
     "text": [
      "Recommender_Base_Class: URM Detected 627 ( 4.8%) users with no interactions.\n",
      "Recommender_Base_Class: URM Detected 247 ( 1.1%) items with no interactions.\n",
      "EvaluatorHoldout: Processed 10456 (100.0%) in 23.40 sec. Users per second: 447\n"
     ]
    },
    {
     "name": "stderr",
     "output_type": "stream",
     "text": [
      "[I 2023-12-04 18:50:11,878] Trial 367 finished with value: 0.05128159877825191 and parameters: {'cutoff': 112}. Best is trial 11 with value: 0.051586052968752405.\n"
     ]
    },
    {
     "name": "stdout",
     "output_type": "stream",
     "text": [
      "Recommender_Base_Class: URM Detected 627 ( 4.8%) users with no interactions.\n",
      "Recommender_Base_Class: URM Detected 247 ( 1.1%) items with no interactions.\n",
      "EvaluatorHoldout: Processed 10456 (100.0%) in 23.21 sec. Users per second: 450\n"
     ]
    },
    {
     "name": "stderr",
     "output_type": "stream",
     "text": [
      "[I 2023-12-04 18:50:35,272] Trial 368 finished with value: 0.05133739950328558 and parameters: {'cutoff': 71}. Best is trial 11 with value: 0.051586052968752405.\n"
     ]
    },
    {
     "name": "stdout",
     "output_type": "stream",
     "text": [
      "Recommender_Base_Class: URM Detected 627 ( 4.8%) users with no interactions.\n",
      "Recommender_Base_Class: URM Detected 247 ( 1.1%) items with no interactions.\n",
      "EvaluatorHoldout: Processed 10456 (100.0%) in 23.01 sec. Users per second: 454\n"
     ]
    },
    {
     "name": "stderr",
     "output_type": "stream",
     "text": [
      "[I 2023-12-04 18:50:58,461] Trial 369 finished with value: 0.05140131055610255 and parameters: {'cutoff': 48}. Best is trial 11 with value: 0.051586052968752405.\n"
     ]
    },
    {
     "name": "stdout",
     "output_type": "stream",
     "text": [
      "Recommender_Base_Class: URM Detected 627 ( 4.8%) users with no interactions.\n",
      "Recommender_Base_Class: URM Detected 247 ( 1.1%) items with no interactions.\n",
      "EvaluatorHoldout: Processed 10456 (100.0%) in 23.12 sec. Users per second: 452\n"
     ]
    },
    {
     "name": "stderr",
     "output_type": "stream",
     "text": [
      "[I 2023-12-04 18:51:21,763] Trial 370 finished with value: 0.05124116099513065 and parameters: {'cutoff': 10}. Best is trial 11 with value: 0.051586052968752405.\n"
     ]
    },
    {
     "name": "stdout",
     "output_type": "stream",
     "text": [
      "Recommender_Base_Class: URM Detected 627 ( 4.8%) users with no interactions.\n",
      "Recommender_Base_Class: URM Detected 247 ( 1.1%) items with no interactions.\n",
      "EvaluatorHoldout: Processed 10456 (100.0%) in 23.18 sec. Users per second: 451\n"
     ]
    },
    {
     "name": "stderr",
     "output_type": "stream",
     "text": [
      "[I 2023-12-04 18:51:45,115] Trial 371 finished with value: 0.05130000166988548 and parameters: {'cutoff': 94}. Best is trial 11 with value: 0.051586052968752405.\n"
     ]
    },
    {
     "name": "stdout",
     "output_type": "stream",
     "text": [
      "Recommender_Base_Class: URM Detected 627 ( 4.8%) users with no interactions.\n",
      "Recommender_Base_Class: URM Detected 247 ( 1.1%) items with no interactions.\n",
      "EvaluatorHoldout: Processed 10456 (100.0%) in 23.25 sec. Users per second: 450\n"
     ]
    },
    {
     "name": "stderr",
     "output_type": "stream",
     "text": [
      "[I 2023-12-04 18:52:08,539] Trial 372 finished with value: 0.05140131055610255 and parameters: {'cutoff': 48}. Best is trial 11 with value: 0.051586052968752405.\n"
     ]
    },
    {
     "name": "stdout",
     "output_type": "stream",
     "text": [
      "Recommender_Base_Class: URM Detected 627 ( 4.8%) users with no interactions.\n",
      "Recommender_Base_Class: URM Detected 247 ( 1.1%) items with no interactions.\n",
      "EvaluatorHoldout: Processed 10456 (100.0%) in 23.33 sec. Users per second: 448\n"
     ]
    },
    {
     "name": "stderr",
     "output_type": "stream",
     "text": [
      "[I 2023-12-04 18:52:32,056] Trial 373 finished with value: 0.05135841348781336 and parameters: {'cutoff': 63}. Best is trial 11 with value: 0.051586052968752405.\n"
     ]
    },
    {
     "name": "stdout",
     "output_type": "stream",
     "text": [
      "Recommender_Base_Class: URM Detected 627 ( 4.8%) users with no interactions.\n",
      "Recommender_Base_Class: URM Detected 247 ( 1.1%) items with no interactions.\n",
      "EvaluatorHoldout: Processed 10456 (100.0%) in 23.10 sec. Users per second: 453\n"
     ]
    },
    {
     "name": "stderr",
     "output_type": "stream",
     "text": [
      "[I 2023-12-04 18:52:55,337] Trial 374 finished with value: 0.05124116099513065 and parameters: {'cutoff': 10}. Best is trial 11 with value: 0.051586052968752405.\n"
     ]
    },
    {
     "name": "stdout",
     "output_type": "stream",
     "text": [
      "Recommender_Base_Class: URM Detected 627 ( 4.8%) users with no interactions.\n",
      "Recommender_Base_Class: URM Detected 247 ( 1.1%) items with no interactions.\n",
      "EvaluatorHoldout: Processed 10456 (100.0%) in 23.30 sec. Users per second: 449\n"
     ]
    },
    {
     "name": "stderr",
     "output_type": "stream",
     "text": [
      "[I 2023-12-04 18:53:18,826] Trial 375 finished with value: 0.05128282083044949 and parameters: {'cutoff': 110}. Best is trial 11 with value: 0.051586052968752405.\n"
     ]
    },
    {
     "name": "stdout",
     "output_type": "stream",
     "text": [
      "Recommender_Base_Class: URM Detected 627 ( 4.8%) users with no interactions.\n",
      "Recommender_Base_Class: URM Detected 247 ( 1.1%) items with no interactions.\n",
      "EvaluatorHoldout: Processed 10456 (100.0%) in 23.22 sec. Users per second: 450\n"
     ]
    },
    {
     "name": "stderr",
     "output_type": "stream",
     "text": [
      "[I 2023-12-04 18:53:42,232] Trial 376 finished with value: 0.05126910120717553 and parameters: {'cutoff': 165}. Best is trial 11 with value: 0.051586052968752405.\n"
     ]
    },
    {
     "name": "stdout",
     "output_type": "stream",
     "text": [
      "Recommender_Base_Class: URM Detected 627 ( 4.8%) users with no interactions.\n",
      "Recommender_Base_Class: URM Detected 247 ( 1.1%) items with no interactions.\n",
      "EvaluatorHoldout: Processed 10456 (100.0%) in 22.92 sec. Users per second: 456\n"
     ]
    },
    {
     "name": "stderr",
     "output_type": "stream",
     "text": [
      "[I 2023-12-04 18:54:05,330] Trial 377 finished with value: 0.05133219249826986 and parameters: {'cutoff': 72}. Best is trial 11 with value: 0.051586052968752405.\n"
     ]
    },
    {
     "name": "stdout",
     "output_type": "stream",
     "text": [
      "Recommender_Base_Class: URM Detected 627 ( 4.8%) users with no interactions.\n",
      "Recommender_Base_Class: URM Detected 247 ( 1.1%) items with no interactions.\n",
      "EvaluatorHoldout: Processed 10456 (100.0%) in 22.82 sec. Users per second: 458\n"
     ]
    },
    {
     "name": "stderr",
     "output_type": "stream",
     "text": [
      "[I 2023-12-04 18:54:28,321] Trial 378 finished with value: 0.05139126088461448 and parameters: {'cutoff': 49}. Best is trial 11 with value: 0.051586052968752405.\n"
     ]
    },
    {
     "name": "stdout",
     "output_type": "stream",
     "text": [
      "Recommender_Base_Class: URM Detected 627 ( 4.8%) users with no interactions.\n",
      "Recommender_Base_Class: URM Detected 247 ( 1.1%) items with no interactions.\n",
      "EvaluatorHoldout: Processed 10456 (100.0%) in 23.22 sec. Users per second: 450\n"
     ]
    },
    {
     "name": "stderr",
     "output_type": "stream",
     "text": [
      "[I 2023-12-04 18:54:51,720] Trial 379 finished with value: 0.051402320077483146 and parameters: {'cutoff': 43}. Best is trial 11 with value: 0.051586052968752405.\n"
     ]
    },
    {
     "name": "stdout",
     "output_type": "stream",
     "text": [
      "Recommender_Base_Class: URM Detected 627 ( 4.8%) users with no interactions.\n",
      "Recommender_Base_Class: URM Detected 247 ( 1.1%) items with no interactions.\n",
      "EvaluatorHoldout: Processed 10456 (100.0%) in 24.01 sec. Users per second: 435\n"
     ]
    },
    {
     "name": "stderr",
     "output_type": "stream",
     "text": [
      "[I 2023-12-04 18:55:15,919] Trial 380 finished with value: 0.05123695212591592 and parameters: {'cutoff': 908}. Best is trial 11 with value: 0.051586052968752405.\n"
     ]
    },
    {
     "name": "stdout",
     "output_type": "stream",
     "text": [
      "Recommender_Base_Class: URM Detected 627 ( 4.8%) users with no interactions.\n",
      "Recommender_Base_Class: URM Detected 247 ( 1.1%) items with no interactions.\n",
      "EvaluatorHoldout: Processed 10456 (100.0%) in 23.37 sec. Users per second: 447\n"
     ]
    },
    {
     "name": "stderr",
     "output_type": "stream",
     "text": [
      "[I 2023-12-04 18:55:39,467] Trial 381 finished with value: 0.05124116099513065 and parameters: {'cutoff': 10}. Best is trial 11 with value: 0.051586052968752405.\n"
     ]
    },
    {
     "name": "stdout",
     "output_type": "stream",
     "text": [
      "Recommender_Base_Class: URM Detected 627 ( 4.8%) users with no interactions.\n",
      "Recommender_Base_Class: URM Detected 247 ( 1.1%) items with no interactions.\n",
      "EvaluatorHoldout: Processed 10456 (100.0%) in 22.89 sec. Users per second: 457\n"
     ]
    },
    {
     "name": "stderr",
     "output_type": "stream",
     "text": [
      "[I 2023-12-04 18:56:02,534] Trial 382 finished with value: 0.051284255413464014 and parameters: {'cutoff': 108}. Best is trial 11 with value: 0.051586052968752405.\n"
     ]
    },
    {
     "name": "stdout",
     "output_type": "stream",
     "text": [
      "Recommender_Base_Class: URM Detected 627 ( 4.8%) users with no interactions.\n",
      "Recommender_Base_Class: URM Detected 247 ( 1.1%) items with no interactions.\n",
      "EvaluatorHoldout: Processed 10456 (100.0%) in 22.96 sec. Users per second: 455\n"
     ]
    },
    {
     "name": "stderr",
     "output_type": "stream",
     "text": [
      "[I 2023-12-04 18:56:25,679] Trial 383 finished with value: 0.051310525740518566 and parameters: {'cutoff': 82}. Best is trial 11 with value: 0.051586052968752405.\n"
     ]
    },
    {
     "name": "stdout",
     "output_type": "stream",
     "text": [
      "Recommender_Base_Class: URM Detected 627 ( 4.8%) users with no interactions.\n",
      "Recommender_Base_Class: URM Detected 247 ( 1.1%) items with no interactions.\n",
      "EvaluatorHoldout: Processed 10456 (100.0%) in 23.34 sec. Users per second: 448\n"
     ]
    },
    {
     "name": "stderr",
     "output_type": "stream",
     "text": [
      "[I 2023-12-04 18:56:49,215] Trial 384 finished with value: 0.05139458547382277 and parameters: {'cutoff': 42}. Best is trial 11 with value: 0.051586052968752405.\n"
     ]
    },
    {
     "name": "stdout",
     "output_type": "stream",
     "text": [
      "Recommender_Base_Class: URM Detected 627 ( 4.8%) users with no interactions.\n",
      "Recommender_Base_Class: URM Detected 247 ( 1.1%) items with no interactions.\n",
      "EvaluatorHoldout: Processed 10456 (100.0%) in 23.60 sec. Users per second: 443\n"
     ]
    },
    {
     "name": "stderr",
     "output_type": "stream",
     "text": [
      "[I 2023-12-04 18:57:13,005] Trial 385 finished with value: 0.05127570863846735 and parameters: {'cutoff': 132}. Best is trial 11 with value: 0.051586052968752405.\n"
     ]
    },
    {
     "name": "stdout",
     "output_type": "stream",
     "text": [
      "Recommender_Base_Class: URM Detected 627 ( 4.8%) users with no interactions.\n",
      "Recommender_Base_Class: URM Detected 247 ( 1.1%) items with no interactions.\n",
      "EvaluatorHoldout: Processed 10456 (100.0%) in 23.12 sec. Users per second: 452\n"
     ]
    },
    {
     "name": "stderr",
     "output_type": "stream",
     "text": [
      "[I 2023-12-04 18:57:36,307] Trial 386 finished with value: 0.051404422614493885 and parameters: {'cutoff': 41}. Best is trial 11 with value: 0.051586052968752405.\n"
     ]
    },
    {
     "name": "stdout",
     "output_type": "stream",
     "text": [
      "Recommender_Base_Class: URM Detected 627 ( 4.8%) users with no interactions.\n",
      "Recommender_Base_Class: URM Detected 247 ( 1.1%) items with no interactions.\n",
      "EvaluatorHoldout: Processed 10456 (100.0%) in 23.09 sec. Users per second: 453\n"
     ]
    },
    {
     "name": "stderr",
     "output_type": "stream",
     "text": [
      "[I 2023-12-04 18:57:59,578] Trial 387 finished with value: 0.051325330789036304 and parameters: {'cutoff': 79}. Best is trial 11 with value: 0.051586052968752405.\n"
     ]
    },
    {
     "name": "stdout",
     "output_type": "stream",
     "text": [
      "Recommender_Base_Class: URM Detected 627 ( 4.8%) users with no interactions.\n",
      "Recommender_Base_Class: URM Detected 247 ( 1.1%) items with no interactions.\n",
      "EvaluatorHoldout: Processed 10456 (100.0%) in 22.84 sec. Users per second: 458\n"
     ]
    },
    {
     "name": "stderr",
     "output_type": "stream",
     "text": [
      "[I 2023-12-04 18:58:22,592] Trial 388 finished with value: 0.051402320077483146 and parameters: {'cutoff': 43}. Best is trial 11 with value: 0.051586052968752405.\n"
     ]
    },
    {
     "name": "stdout",
     "output_type": "stream",
     "text": [
      "Recommender_Base_Class: URM Detected 627 ( 4.8%) users with no interactions.\n",
      "Recommender_Base_Class: URM Detected 247 ( 1.1%) items with no interactions.\n",
      "EvaluatorHoldout: Processed 10456 (100.0%) in 22.80 sec. Users per second: 459\n"
     ]
    },
    {
     "name": "stderr",
     "output_type": "stream",
     "text": [
      "[I 2023-12-04 18:58:45,560] Trial 389 finished with value: 0.05146412479809626 and parameters: {'cutoff': 11}. Best is trial 11 with value: 0.051586052968752405.\n"
     ]
    },
    {
     "name": "stdout",
     "output_type": "stream",
     "text": [
      "Recommender_Base_Class: URM Detected 627 ( 4.8%) users with no interactions.\n",
      "Recommender_Base_Class: URM Detected 247 ( 1.1%) items with no interactions.\n",
      "EvaluatorHoldout: Processed 10456 (100.0%) in 22.97 sec. Users per second: 455\n"
     ]
    },
    {
     "name": "stderr",
     "output_type": "stream",
     "text": [
      "[I 2023-12-04 18:59:08,711] Trial 390 finished with value: 0.05124116099513065 and parameters: {'cutoff': 10}. Best is trial 11 with value: 0.051586052968752405.\n"
     ]
    },
    {
     "name": "stdout",
     "output_type": "stream",
     "text": [
      "Recommender_Base_Class: URM Detected 627 ( 4.8%) users with no interactions.\n",
      "Recommender_Base_Class: URM Detected 247 ( 1.1%) items with no interactions.\n",
      "EvaluatorHoldout: Processed 10456 (100.0%) in 23.30 sec. Users per second: 449\n"
     ]
    },
    {
     "name": "stderr",
     "output_type": "stream",
     "text": [
      "[I 2023-12-04 18:59:32,199] Trial 391 finished with value: 0.05131815787396362 and parameters: {'cutoff': 80}. Best is trial 11 with value: 0.051586052968752405.\n"
     ]
    },
    {
     "name": "stdout",
     "output_type": "stream",
     "text": [
      "Recommender_Base_Class: URM Detected 627 ( 4.8%) users with no interactions.\n",
      "Recommender_Base_Class: URM Detected 247 ( 1.1%) items with no interactions.\n",
      "EvaluatorHoldout: Processed 10456 (100.0%) in 23.08 sec. Users per second: 453\n"
     ]
    },
    {
     "name": "stderr",
     "output_type": "stream",
     "text": [
      "[I 2023-12-04 18:59:55,455] Trial 392 finished with value: 0.05128159877825191 and parameters: {'cutoff': 112}. Best is trial 11 with value: 0.051586052968752405.\n"
     ]
    },
    {
     "name": "stdout",
     "output_type": "stream",
     "text": [
      "Recommender_Base_Class: URM Detected 627 ( 4.8%) users with no interactions.\n",
      "Recommender_Base_Class: URM Detected 247 ( 1.1%) items with no interactions.\n",
      "EvaluatorHoldout: Processed 10456 (100.0%) in 23.42 sec. Users per second: 446\n"
     ]
    },
    {
     "name": "stderr",
     "output_type": "stream",
     "text": [
      "[I 2023-12-04 19:00:19,063] Trial 393 finished with value: 0.05124116099513065 and parameters: {'cutoff': 10}. Best is trial 11 with value: 0.051586052968752405.\n"
     ]
    },
    {
     "name": "stdout",
     "output_type": "stream",
     "text": [
      "Recommender_Base_Class: URM Detected 627 ( 4.8%) users with no interactions.\n",
      "Recommender_Base_Class: URM Detected 247 ( 1.1%) items with no interactions.\n",
      "EvaluatorHoldout: Processed 10456 (100.0%) in 23.68 sec. Users per second: 441\n"
     ]
    },
    {
     "name": "stderr",
     "output_type": "stream",
     "text": [
      "[I 2023-12-04 19:00:42,942] Trial 394 finished with value: 0.051362163138655575 and parameters: {'cutoff': 68}. Best is trial 11 with value: 0.051586052968752405.\n"
     ]
    },
    {
     "name": "stdout",
     "output_type": "stream",
     "text": [
      "Recommender_Base_Class: URM Detected 627 ( 4.8%) users with no interactions.\n",
      "Recommender_Base_Class: URM Detected 247 ( 1.1%) items with no interactions.\n",
      "EvaluatorHoldout: Processed 10456 (100.0%) in 23.34 sec. Users per second: 448\n"
     ]
    },
    {
     "name": "stderr",
     "output_type": "stream",
     "text": [
      "[I 2023-12-04 19:01:06,471] Trial 395 finished with value: 0.05140131055610255 and parameters: {'cutoff': 48}. Best is trial 11 with value: 0.051586052968752405.\n"
     ]
    },
    {
     "name": "stdout",
     "output_type": "stream",
     "text": [
      "Recommender_Base_Class: URM Detected 627 ( 4.8%) users with no interactions.\n",
      "Recommender_Base_Class: URM Detected 247 ( 1.1%) items with no interactions.\n",
      "EvaluatorHoldout: Processed 10456 (100.0%) in 23.77 sec. Users per second: 440\n"
     ]
    },
    {
     "name": "stderr",
     "output_type": "stream",
     "text": [
      "[I 2023-12-04 19:01:30,431] Trial 396 finished with value: 0.05123705839132441 and parameters: {'cutoff': 768}. Best is trial 11 with value: 0.051586052968752405.\n"
     ]
    },
    {
     "name": "stdout",
     "output_type": "stream",
     "text": [
      "Recommender_Base_Class: URM Detected 627 ( 4.8%) users with no interactions.\n",
      "Recommender_Base_Class: URM Detected 247 ( 1.1%) items with no interactions.\n",
      "EvaluatorHoldout: Processed 10456 (100.0%) in 23.46 sec. Users per second: 446\n"
     ]
    },
    {
     "name": "stderr",
     "output_type": "stream",
     "text": [
      "[I 2023-12-04 19:01:54,070] Trial 397 finished with value: 0.051270228379544106 and parameters: {'cutoff': 160}. Best is trial 11 with value: 0.051586052968752405.\n"
     ]
    },
    {
     "name": "stdout",
     "output_type": "stream",
     "text": [
      "Recommender_Base_Class: URM Detected 627 ( 4.8%) users with no interactions.\n",
      "Recommender_Base_Class: URM Detected 247 ( 1.1%) items with no interactions.\n",
      "EvaluatorHoldout: Processed 10456 (100.0%) in 23.52 sec. Users per second: 445\n"
     ]
    },
    {
     "name": "stderr",
     "output_type": "stream",
     "text": [
      "[I 2023-12-04 19:02:17,773] Trial 398 finished with value: 0.05129662015277978 and parameters: {'cutoff': 89}. Best is trial 11 with value: 0.051586052968752405.\n"
     ]
    },
    {
     "name": "stdout",
     "output_type": "stream",
     "text": [
      "Recommender_Base_Class: URM Detected 627 ( 4.8%) users with no interactions.\n",
      "Recommender_Base_Class: URM Detected 247 ( 1.1%) items with no interactions.\n",
      "EvaluatorHoldout: Processed 10456 (100.0%) in 23.32 sec. Users per second: 448\n"
     ]
    },
    {
     "name": "stderr",
     "output_type": "stream",
     "text": [
      "[I 2023-12-04 19:02:41,268] Trial 399 finished with value: 0.05140482490496884 and parameters: {'cutoff': 45}. Best is trial 11 with value: 0.051586052968752405.\n"
     ]
    }
   ],
   "source": [
    "if config['tune_parameters']:\n",
    "    study = optuna.create_study(direction='maximize', study_name='hyperparameters_tuning_2stage_pipeline', \n",
    "                                storage=f'sqlite:///{config[\"database_path\"]}', load_if_exists=True)\n",
    "    study.optimize(objective, n_trials=400)"
   ]
  },
  {
   "cell_type": "code",
   "execution_count": 32,
   "id": "c04cf0c4",
   "metadata": {
    "execution": {
     "iopub.execute_input": "2023-12-04T19:02:41.720460Z",
     "iopub.status.busy": "2023-12-04T19:02:41.719735Z",
     "iopub.status.idle": "2023-12-04T19:02:42.835714Z",
     "shell.execute_reply": "2023-12-04T19:02:42.834228Z"
    },
    "papermill": {
     "duration": 1.287603,
     "end_time": "2023-12-04T19:02:42.839286",
     "exception": false,
     "start_time": "2023-12-04T19:02:41.551683",
     "status": "completed"
    },
    "tags": []
   },
   "outputs": [
    {
     "data": {
      "text/html": [
       "        <script type=\"text/javascript\">\n",
       "        window.PlotlyConfig = {MathJaxConfig: 'local'};\n",
       "        if (window.MathJax && window.MathJax.Hub && window.MathJax.Hub.Config) {window.MathJax.Hub.Config({SVG: {font: \"STIX-Web\"}});}\n",
       "        if (typeof require !== 'undefined') {\n",
       "        require.undef(\"plotly\");\n",
       "        requirejs.config({\n",
       "            paths: {\n",
       "                'plotly': ['https://cdn.plot.ly/plotly-2.25.2.min']\n",
       "            }\n",
       "        });\n",
       "        require(['plotly'], function(Plotly) {\n",
       "            window._Plotly = Plotly;\n",
       "        });\n",
       "        }\n",
       "        </script>\n",
       "        "
      ]
     },
     "metadata": {},
     "output_type": "display_data"
    },
    {
     "data": {
      "text/html": [
       "<div>                            <div id=\"51082336-482c-465e-9c9d-709986b81e4a\" class=\"plotly-graph-div\" style=\"height:525px; width:100%;\"></div>            <script type=\"text/javascript\">                require([\"plotly\"], function(Plotly) {                    window.PLOTLYENV=window.PLOTLYENV || {};                                    if (document.getElementById(\"51082336-482c-465e-9c9d-709986b81e4a\")) {                    Plotly.newPlot(                        \"51082336-482c-465e-9c9d-709986b81e4a\",                        [{\"mode\":\"markers\",\"name\":\"Objective Value\",\"x\":[0,1,2,3,4,5,6,7,8,9,10,11,12,13,14,15,16,17,18,19,20,21,22,23,24,25,26,27,28,29,30,31,32,33,34,35,36,37,38,39,40,41,42,43,44,45,46,47,48,49,50,51,52,53,54,55,56,57,58,59,60,61,62,63,64,65,66,67,68,69,70,71,72,73,74,75,76,77,78,79,80,81,82,83,84,85,86,87,88,89,90,91,92,93,94,95,96,97,98,99,100,101,102,103,104,105,106,107,108,109,110,111,112,113,114,115,116,117,118,119,120,121,122,123,124,125,126,127,128,129,130,131,132,133,134,135,136,137,138,139,140,141,142,143,144,145,146,147,148,149,150,151,152,153,154,155,156,157,158,159,160,161,162,163,164,165,166,167,168,169,170,171,172,173,174,175,176,177,178,179,180,181,182,183,184,185,186,187,188,189,190,191,192,193,194,195,196,197,198,199,200,201,202,203,204,205,206,207,208,209,210,211,212,213,214,215,216,217,218,219,220,221,222,223,224,225,226,227,228,229,230,231,232,233,234,235,236,237,238,239,240,241,242,243,244,245,246,247,248,249,250,251,252,253,254,255,256,257,258,259,260,261,262,263,264,265,266,267,268,269,270,271,272,273,274,275,276,277,278,279,280,281,282,283,284,285,286,287,288,289,290,291,292,293,294,295,296,297,298,299,300,301,302,303,304,305,306,307,308,309,310,311,312,313,314,315,316,317,318,319,320,321,322,323,324,325,326,327,328,329,330,331,332,333,334,335,336,337,338,339,340,341,342,343,344,345,346,347,348,349,350,351,352,353,354,355,356,357,358,359,360,361,362,363,364,365,366,367,368,369,370,371,372,373,374,375,376,377,378,379,380,381,382,383,384,385,386,387,388,389,390,391,392,393,394,395,396,397,398,399],\"y\":[0.05123705839132441,0.05123678134222372,0.05123745688660622,0.05123695212591592,0.051237912309785444,0.05123664851046311,0.05123678134222372,0.05123695212591592,0.05123678134222372,0.05129852533974618,0.05129852533974618,0.051586052968752405,0.051296513887371296,0.05124248172235027,0.051248174512090496,0.05123695212591592,0.051248174512090496,0.05123831080506725,0.051421910864575884,0.05123695212591592,0.05123678134222372,0.05141487078126378,0.05125122964258441,0.05149126801957765,0.05123831080506725,0.05126593981127314,0.05123831080506725,0.05123695212591592,0.05126537053229912,0.051376501378414666,0.051237912309785444,0.051269670486149554,0.051521553660995596,0.05124117997109633,0.05124690312238184,0.05123705839132441,0.05149126801957765,0.051521553660995596,0.05123745688660622,0.05126382209348978,0.051248174512090496,0.05151743208122376,0.05127005759585189,0.05127520387777705,0.051343198558434465,0.05127066103156436,0.05124117997109633,0.05125122964258441,0.05123678134222372,0.051284255413464014,0.051248174512090496,0.05151743208122376,0.05130102257684555,0.05136659971945983,0.051343198558434465,0.051254098808613494,0.05126537053229912,0.05130000166988548,0.05123678134222372,0.05123664851046311,0.05124117997109633,0.05129815341081648,0.051329983695850644,0.05126620547479435,0.05141528445731823,0.05123695212591592,0.05126910120717553,0.0512517837407858,0.05123831080506725,0.05146412479809626,0.05123695212591592,0.05151743208122376,0.051325330789036304,0.05126321486258415,0.051270228379544106,0.05134064059824434,0.05127520387777705,0.05126382209348978,0.05135942300919394,0.05127557580670675,0.051248174512090496,0.05151743208122376,0.05150189835561936,0.05153017254466238,0.05151743208122376,0.05127116579225465,0.05135841348781336,0.05124690312238184,0.05126910120717553,0.051237912309785444,0.05137094521562818,0.05150189835561936,0.05128568620128539,0.05139393270059922,0.05146412479809626,0.0512787903353134,0.05126382209348978,0.05137094521562818,0.05123705839132441,0.05123695212591592,0.05127066103156436,0.05137705927180921,0.051295568884274424,0.05124116099513065,0.051310525740518566,0.05126888867635857,0.05124116099513065,0.0513888775033099,0.05124881589973455,0.05126680511531365,0.05128568620128539,0.051404422614493885,0.051343198558434465,0.05130172089238703,0.05127610713374917,0.05137985253397506,0.051248174512090496,0.05126537053229912,0.05140131055610255,0.05128404288264705,0.051343198558434465,0.05130074173255169,0.05126511625435737,0.051404422614493885,0.051326829890334574,0.05123678134222372,0.05127422471794174,0.05123678134222372,0.051406775634253166,0.05146412479809626,0.05126888867635857,0.05124116099513065,0.051299614560183136,0.05140131055610255,0.05127175404719447,0.051329983695850644,0.05150189835561936,0.05126348052610536,0.05128159877825191,0.05137094521562818,0.05126511625435737,0.05124116099513065,0.051402320077483146,0.051299614560183136,0.051404422614493885,0.05124116099513065,0.05129990679005648,0.05126945795533259,0.05140119290511459,0.051284255413464014,0.051326829890334574,0.05150189835561936,0.05124116099513065,0.05139707512053583,0.05140482490496884,0.05127116579225465,0.05146412479809626,0.051310525740518566,0.05126511625435737,0.05126537053229912,0.05124116099513065,0.05140131055610255,0.051311463153229125,0.05140131055610255,0.05146412479809626,0.05127690412431281,0.0513224464422346,0.05124116099513065,0.05123695212591592,0.051393382397590996,0.05127520387777705,0.05139458547382277,0.05151743208122376,0.05131815787396362,0.05124116099513065,0.05129815341081648,0.05139105594418382,0.05141487078126378,0.05128159877825191,0.05123695212591592,0.05123705839132441,0.05123695212591592,0.05124116099513065,0.051402320077483146,0.05130704934358387,0.05124116099513065,0.05134409801921324,0.05140482490496884,0.05127066103156436,0.051301159203799324,0.051343198558434465,0.05124116099513065,0.051404422614493885,0.05124116099513065,0.05136078168834528,0.05130051781615526,0.05124116099513065,0.05140131055610255,0.05133654938001771,0.05127175404719447,0.051402779295855544,0.05146916860980611,0.05140482490496884,0.05150189835561936,0.05130704934358387,0.051402320077483146,0.05130051781615526,0.051404422614493885,0.05127570863846735,0.05124116099513065,0.0513224464422346,0.05124116099513065,0.051403265080580025,0.05150189835561936,0.05133219249826986,0.05139458547382277,0.0512954094861617,0.05124116099513065,0.05136078168834528,0.05140131055610255,0.05126945795533259,0.051586052968752405,0.05150189835561936,0.051406775634253166,0.051311463153229125,0.051392961131150224,0.051343198558434465,0.05130172089238703,0.05124116099513065,0.05135841348781336,0.05127116579225465,0.05146412479809626,0.05140119290511459,0.05140614942738174,0.05133654938001771,0.05146412479809626,0.05140131055610255,0.05146412479809626,0.05130102257684555,0.051402779295855544,0.051343198558434465,0.05150189835561936,0.051393382397590996,0.05131815787396362,0.051403265080580025,0.05151743208122376,0.05124116099513065,0.051311463153229125,0.05123831080506725,0.05124116099513065,0.05127690412431281,0.05139707512053583,0.05133654938001771,0.05140131055610255,0.051295568884274424,0.05123678134222372,0.05124116099513065,0.05140131055610255,0.05131815787396362,0.05124116099513065,0.05140131055610255,0.05127570863846735,0.051296513887371296,0.05124116099513065,0.05140119290511459,0.05140131055610255,0.05128282083044949,0.05133219249826986,0.05139458547382277,0.05123678134222372,0.051343198558434465,0.05130000166988548,0.051266254812305415,0.05124116099513065,0.05139126088461448,0.05123695212591592,0.051325330789036304,0.05128547367046842,0.05140131055610255,0.05123705839132441,0.05139458547382277,0.051343198558434465,0.05134064059824434,0.05124116099513065,0.05128404288264705,0.05135919150241118,0.05126511625435737,0.051393382397590996,0.05124116099513065,0.051311463153229125,0.051406775634253166,0.05127815653805565,0.05139458547382277,0.051299614560183136,0.051266975899005855,0.051402320077483146,0.05150189835561936,0.05146412479809626,0.051311463153229125,0.051403265080580025,0.051302252219429446,0.05124116099513065,0.05127815653805565,0.05124116099513065,0.051359935360270566,0.05141487078126378,0.05128159877825191,0.05123745688660622,0.05123695212591592,0.05141487078126378,0.05132771417034087,0.051404422614493885,0.05127066103156436,0.05130704934358387,0.051343198558434465,0.05139164799431681,0.0513007037806201,0.051404422614493885,0.05139458547382277,0.05124116099513065,0.05124117997109633,0.05146412479809626,0.05128568620128539,0.051266975899005855,0.05123705839132441,0.05134064059824434,0.05123678134222372,0.05146412479809626,0.05133219249826986,0.051275659300956275,0.051402320077483146,0.051325330789036304,0.05139164799431681,0.05146412479809626,0.05127690412431281,0.05139126088461448,0.05124116099513065,0.051311463153229125,0.05140482490496884,0.05128568620128539,0.051273848993818885,0.05141487078126378,0.05146412479809626,0.0513224464422346,0.051406775634253166,0.05124116099513065,0.05129852533974618,0.051359935360270566,0.051402320077483146,0.05123695212591592,0.05127610713374917,0.051311463153229125,0.051402320077483146,0.05146412479809626,0.05123678134222372,0.05124116099513065,0.05128404288264705,0.05136078168834528,0.05126537053229912,0.05139126088461448,0.05124116099513065,0.05130155769908113,0.051273848993818885,0.051237912309785444,0.05123831080506725,0.051402320077483146,0.05124116099513065,0.05128159877825191,0.05133739950328558,0.05140131055610255,0.05124116099513065,0.05130000166988548,0.05140131055610255,0.05135841348781336,0.05124116099513065,0.05128282083044949,0.05126910120717553,0.05133219249826986,0.05139126088461448,0.051402320077483146,0.05123695212591592,0.05124116099513065,0.051284255413464014,0.051310525740518566,0.05139458547382277,0.05127570863846735,0.051404422614493885,0.051325330789036304,0.051402320077483146,0.05146412479809626,0.05124116099513065,0.05131815787396362,0.05128159877825191,0.05124116099513065,0.051362163138655575,0.05140131055610255,0.05123705839132441,0.051270228379544106,0.05129662015277978,0.05140482490496884],\"type\":\"scatter\"},{\"mode\":\"lines\",\"name\":\"Best Value\",\"x\":[0,1,2,3,4,5,6,7,8,9,10,11,12,13,14,15,16,17,18,19,20,21,22,23,24,25,26,27,28,29,30,31,32,33,34,35,36,37,38,39,40,41,42,43,44,45,46,47,48,49,50,51,52,53,54,55,56,57,58,59,60,61,62,63,64,65,66,67,68,69,70,71,72,73,74,75,76,77,78,79,80,81,82,83,84,85,86,87,88,89,90,91,92,93,94,95,96,97,98,99,100,101,102,103,104,105,106,107,108,109,110,111,112,113,114,115,116,117,118,119,120,121,122,123,124,125,126,127,128,129,130,131,132,133,134,135,136,137,138,139,140,141,142,143,144,145,146,147,148,149,150,151,152,153,154,155,156,157,158,159,160,161,162,163,164,165,166,167,168,169,170,171,172,173,174,175,176,177,178,179,180,181,182,183,184,185,186,187,188,189,190,191,192,193,194,195,196,197,198,199,200,201,202,203,204,205,206,207,208,209,210,211,212,213,214,215,216,217,218,219,220,221,222,223,224,225,226,227,228,229,230,231,232,233,234,235,236,237,238,239,240,241,242,243,244,245,246,247,248,249,250,251,252,253,254,255,256,257,258,259,260,261,262,263,264,265,266,267,268,269,270,271,272,273,274,275,276,277,278,279,280,281,282,283,284,285,286,287,288,289,290,291,292,293,294,295,296,297,298,299,300,301,302,303,304,305,306,307,308,309,310,311,312,313,314,315,316,317,318,319,320,321,322,323,324,325,326,327,328,329,330,331,332,333,334,335,336,337,338,339,340,341,342,343,344,345,346,347,348,349,350,351,352,353,354,355,356,357,358,359,360,361,362,363,364,365,366,367,368,369,370,371,372,373,374,375,376,377,378,379,380,381,382,383,384,385,386,387,388,389,390,391,392,393,394,395,396,397,398,399],\"y\":[0.05123705839132441,0.05123705839132441,0.05123745688660622,0.05123745688660622,0.051237912309785444,0.051237912309785444,0.051237912309785444,0.051237912309785444,0.051237912309785444,0.05129852533974618,0.05129852533974618,0.051586052968752405,0.051586052968752405,0.051586052968752405,0.051586052968752405,0.051586052968752405,0.051586052968752405,0.051586052968752405,0.051586052968752405,0.051586052968752405,0.051586052968752405,0.051586052968752405,0.051586052968752405,0.051586052968752405,0.051586052968752405,0.051586052968752405,0.051586052968752405,0.051586052968752405,0.051586052968752405,0.051586052968752405,0.051586052968752405,0.051586052968752405,0.051586052968752405,0.051586052968752405,0.051586052968752405,0.051586052968752405,0.051586052968752405,0.051586052968752405,0.051586052968752405,0.051586052968752405,0.051586052968752405,0.051586052968752405,0.051586052968752405,0.051586052968752405,0.051586052968752405,0.051586052968752405,0.051586052968752405,0.051586052968752405,0.051586052968752405,0.051586052968752405,0.051586052968752405,0.051586052968752405,0.051586052968752405,0.051586052968752405,0.051586052968752405,0.051586052968752405,0.051586052968752405,0.051586052968752405,0.051586052968752405,0.051586052968752405,0.051586052968752405,0.051586052968752405,0.051586052968752405,0.051586052968752405,0.051586052968752405,0.051586052968752405,0.051586052968752405,0.051586052968752405,0.051586052968752405,0.051586052968752405,0.051586052968752405,0.051586052968752405,0.051586052968752405,0.051586052968752405,0.051586052968752405,0.051586052968752405,0.051586052968752405,0.051586052968752405,0.051586052968752405,0.051586052968752405,0.051586052968752405,0.051586052968752405,0.051586052968752405,0.051586052968752405,0.051586052968752405,0.051586052968752405,0.051586052968752405,0.051586052968752405,0.051586052968752405,0.051586052968752405,0.051586052968752405,0.051586052968752405,0.051586052968752405,0.051586052968752405,0.051586052968752405,0.051586052968752405,0.051586052968752405,0.051586052968752405,0.051586052968752405,0.051586052968752405,0.051586052968752405,0.051586052968752405,0.051586052968752405,0.051586052968752405,0.051586052968752405,0.051586052968752405,0.051586052968752405,0.051586052968752405,0.051586052968752405,0.051586052968752405,0.051586052968752405,0.051586052968752405,0.051586052968752405,0.051586052968752405,0.051586052968752405,0.051586052968752405,0.051586052968752405,0.051586052968752405,0.051586052968752405,0.051586052968752405,0.051586052968752405,0.051586052968752405,0.051586052968752405,0.051586052968752405,0.051586052968752405,0.051586052968752405,0.051586052968752405,0.051586052968752405,0.051586052968752405,0.051586052968752405,0.051586052968752405,0.051586052968752405,0.051586052968752405,0.051586052968752405,0.051586052968752405,0.051586052968752405,0.051586052968752405,0.051586052968752405,0.051586052968752405,0.051586052968752405,0.051586052968752405,0.051586052968752405,0.051586052968752405,0.051586052968752405,0.051586052968752405,0.051586052968752405,0.051586052968752405,0.051586052968752405,0.051586052968752405,0.051586052968752405,0.051586052968752405,0.051586052968752405,0.051586052968752405,0.051586052968752405,0.051586052968752405,0.051586052968752405,0.051586052968752405,0.051586052968752405,0.051586052968752405,0.051586052968752405,0.051586052968752405,0.051586052968752405,0.051586052968752405,0.051586052968752405,0.051586052968752405,0.051586052968752405,0.051586052968752405,0.051586052968752405,0.051586052968752405,0.051586052968752405,0.051586052968752405,0.051586052968752405,0.051586052968752405,0.051586052968752405,0.051586052968752405,0.051586052968752405,0.051586052968752405,0.051586052968752405,0.051586052968752405,0.051586052968752405,0.051586052968752405,0.051586052968752405,0.051586052968752405,0.051586052968752405,0.051586052968752405,0.051586052968752405,0.051586052968752405,0.051586052968752405,0.051586052968752405,0.051586052968752405,0.051586052968752405,0.051586052968752405,0.051586052968752405,0.051586052968752405,0.051586052968752405,0.051586052968752405,0.051586052968752405,0.051586052968752405,0.051586052968752405,0.051586052968752405,0.051586052968752405,0.051586052968752405,0.051586052968752405,0.051586052968752405,0.051586052968752405,0.051586052968752405,0.051586052968752405,0.051586052968752405,0.051586052968752405,0.051586052968752405,0.051586052968752405,0.051586052968752405,0.051586052968752405,0.051586052968752405,0.051586052968752405,0.051586052968752405,0.051586052968752405,0.051586052968752405,0.051586052968752405,0.051586052968752405,0.051586052968752405,0.051586052968752405,0.051586052968752405,0.051586052968752405,0.051586052968752405,0.051586052968752405,0.051586052968752405,0.051586052968752405,0.051586052968752405,0.051586052968752405,0.051586052968752405,0.051586052968752405,0.051586052968752405,0.051586052968752405,0.051586052968752405,0.051586052968752405,0.051586052968752405,0.051586052968752405,0.051586052968752405,0.051586052968752405,0.051586052968752405,0.051586052968752405,0.051586052968752405,0.051586052968752405,0.051586052968752405,0.051586052968752405,0.051586052968752405,0.051586052968752405,0.051586052968752405,0.051586052968752405,0.051586052968752405,0.051586052968752405,0.051586052968752405,0.051586052968752405,0.051586052968752405,0.051586052968752405,0.051586052968752405,0.051586052968752405,0.051586052968752405,0.051586052968752405,0.051586052968752405,0.051586052968752405,0.051586052968752405,0.051586052968752405,0.051586052968752405,0.051586052968752405,0.051586052968752405,0.051586052968752405,0.051586052968752405,0.051586052968752405,0.051586052968752405,0.051586052968752405,0.051586052968752405,0.051586052968752405,0.051586052968752405,0.051586052968752405,0.051586052968752405,0.051586052968752405,0.051586052968752405,0.051586052968752405,0.051586052968752405,0.051586052968752405,0.051586052968752405,0.051586052968752405,0.051586052968752405,0.051586052968752405,0.051586052968752405,0.051586052968752405,0.051586052968752405,0.051586052968752405,0.051586052968752405,0.051586052968752405,0.051586052968752405,0.051586052968752405,0.051586052968752405,0.051586052968752405,0.051586052968752405,0.051586052968752405,0.051586052968752405,0.051586052968752405,0.051586052968752405,0.051586052968752405,0.051586052968752405,0.051586052968752405,0.051586052968752405,0.051586052968752405,0.051586052968752405,0.051586052968752405,0.051586052968752405,0.051586052968752405,0.051586052968752405,0.051586052968752405,0.051586052968752405,0.051586052968752405,0.051586052968752405,0.051586052968752405,0.051586052968752405,0.051586052968752405,0.051586052968752405,0.051586052968752405,0.051586052968752405,0.051586052968752405,0.051586052968752405,0.051586052968752405,0.051586052968752405,0.051586052968752405,0.051586052968752405,0.051586052968752405,0.051586052968752405,0.051586052968752405,0.051586052968752405,0.051586052968752405,0.051586052968752405,0.051586052968752405,0.051586052968752405,0.051586052968752405,0.051586052968752405,0.051586052968752405,0.051586052968752405,0.051586052968752405,0.051586052968752405,0.051586052968752405,0.051586052968752405,0.051586052968752405,0.051586052968752405,0.051586052968752405,0.051586052968752405,0.051586052968752405,0.051586052968752405,0.051586052968752405,0.051586052968752405,0.051586052968752405,0.051586052968752405,0.051586052968752405,0.051586052968752405,0.051586052968752405,0.051586052968752405,0.051586052968752405,0.051586052968752405,0.051586052968752405,0.051586052968752405,0.051586052968752405,0.051586052968752405,0.051586052968752405,0.051586052968752405,0.051586052968752405,0.051586052968752405,0.051586052968752405,0.051586052968752405,0.051586052968752405,0.051586052968752405,0.051586052968752405,0.051586052968752405,0.051586052968752405,0.051586052968752405,0.051586052968752405,0.051586052968752405,0.051586052968752405,0.051586052968752405,0.051586052968752405,0.051586052968752405,0.051586052968752405,0.051586052968752405,0.051586052968752405,0.051586052968752405,0.051586052968752405,0.051586052968752405,0.051586052968752405,0.051586052968752405,0.051586052968752405,0.051586052968752405,0.051586052968752405,0.051586052968752405,0.051586052968752405,0.051586052968752405,0.051586052968752405,0.051586052968752405,0.051586052968752405,0.051586052968752405,0.051586052968752405],\"type\":\"scatter\"},{\"marker\":{\"color\":\"#cccccc\"},\"mode\":\"markers\",\"name\":\"Infeasible Trial\",\"showlegend\":false,\"x\":[],\"y\":[],\"type\":\"scatter\"}],                        {\"title\":{\"text\":\"Optimization History Plot\"},\"xaxis\":{\"title\":{\"text\":\"Trial\"}},\"yaxis\":{\"title\":{\"text\":\"Objective Value\"}},\"template\":{\"data\":{\"histogram2dcontour\":[{\"type\":\"histogram2dcontour\",\"colorbar\":{\"outlinewidth\":0,\"ticks\":\"\"},\"colorscale\":[[0.0,\"#0d0887\"],[0.1111111111111111,\"#46039f\"],[0.2222222222222222,\"#7201a8\"],[0.3333333333333333,\"#9c179e\"],[0.4444444444444444,\"#bd3786\"],[0.5555555555555556,\"#d8576b\"],[0.6666666666666666,\"#ed7953\"],[0.7777777777777778,\"#fb9f3a\"],[0.8888888888888888,\"#fdca26\"],[1.0,\"#f0f921\"]]}],\"choropleth\":[{\"type\":\"choropleth\",\"colorbar\":{\"outlinewidth\":0,\"ticks\":\"\"}}],\"histogram2d\":[{\"type\":\"histogram2d\",\"colorbar\":{\"outlinewidth\":0,\"ticks\":\"\"},\"colorscale\":[[0.0,\"#0d0887\"],[0.1111111111111111,\"#46039f\"],[0.2222222222222222,\"#7201a8\"],[0.3333333333333333,\"#9c179e\"],[0.4444444444444444,\"#bd3786\"],[0.5555555555555556,\"#d8576b\"],[0.6666666666666666,\"#ed7953\"],[0.7777777777777778,\"#fb9f3a\"],[0.8888888888888888,\"#fdca26\"],[1.0,\"#f0f921\"]]}],\"heatmap\":[{\"type\":\"heatmap\",\"colorbar\":{\"outlinewidth\":0,\"ticks\":\"\"},\"colorscale\":[[0.0,\"#0d0887\"],[0.1111111111111111,\"#46039f\"],[0.2222222222222222,\"#7201a8\"],[0.3333333333333333,\"#9c179e\"],[0.4444444444444444,\"#bd3786\"],[0.5555555555555556,\"#d8576b\"],[0.6666666666666666,\"#ed7953\"],[0.7777777777777778,\"#fb9f3a\"],[0.8888888888888888,\"#fdca26\"],[1.0,\"#f0f921\"]]}],\"heatmapgl\":[{\"type\":\"heatmapgl\",\"colorbar\":{\"outlinewidth\":0,\"ticks\":\"\"},\"colorscale\":[[0.0,\"#0d0887\"],[0.1111111111111111,\"#46039f\"],[0.2222222222222222,\"#7201a8\"],[0.3333333333333333,\"#9c179e\"],[0.4444444444444444,\"#bd3786\"],[0.5555555555555556,\"#d8576b\"],[0.6666666666666666,\"#ed7953\"],[0.7777777777777778,\"#fb9f3a\"],[0.8888888888888888,\"#fdca26\"],[1.0,\"#f0f921\"]]}],\"contourcarpet\":[{\"type\":\"contourcarpet\",\"colorbar\":{\"outlinewidth\":0,\"ticks\":\"\"}}],\"contour\":[{\"type\":\"contour\",\"colorbar\":{\"outlinewidth\":0,\"ticks\":\"\"},\"colorscale\":[[0.0,\"#0d0887\"],[0.1111111111111111,\"#46039f\"],[0.2222222222222222,\"#7201a8\"],[0.3333333333333333,\"#9c179e\"],[0.4444444444444444,\"#bd3786\"],[0.5555555555555556,\"#d8576b\"],[0.6666666666666666,\"#ed7953\"],[0.7777777777777778,\"#fb9f3a\"],[0.8888888888888888,\"#fdca26\"],[1.0,\"#f0f921\"]]}],\"surface\":[{\"type\":\"surface\",\"colorbar\":{\"outlinewidth\":0,\"ticks\":\"\"},\"colorscale\":[[0.0,\"#0d0887\"],[0.1111111111111111,\"#46039f\"],[0.2222222222222222,\"#7201a8\"],[0.3333333333333333,\"#9c179e\"],[0.4444444444444444,\"#bd3786\"],[0.5555555555555556,\"#d8576b\"],[0.6666666666666666,\"#ed7953\"],[0.7777777777777778,\"#fb9f3a\"],[0.8888888888888888,\"#fdca26\"],[1.0,\"#f0f921\"]]}],\"mesh3d\":[{\"type\":\"mesh3d\",\"colorbar\":{\"outlinewidth\":0,\"ticks\":\"\"}}],\"scatter\":[{\"fillpattern\":{\"fillmode\":\"overlay\",\"size\":10,\"solidity\":0.2},\"type\":\"scatter\"}],\"parcoords\":[{\"type\":\"parcoords\",\"line\":{\"colorbar\":{\"outlinewidth\":0,\"ticks\":\"\"}}}],\"scatterpolargl\":[{\"type\":\"scatterpolargl\",\"marker\":{\"colorbar\":{\"outlinewidth\":0,\"ticks\":\"\"}}}],\"bar\":[{\"error_x\":{\"color\":\"#2a3f5f\"},\"error_y\":{\"color\":\"#2a3f5f\"},\"marker\":{\"line\":{\"color\":\"#E5ECF6\",\"width\":0.5},\"pattern\":{\"fillmode\":\"overlay\",\"size\":10,\"solidity\":0.2}},\"type\":\"bar\"}],\"scattergeo\":[{\"type\":\"scattergeo\",\"marker\":{\"colorbar\":{\"outlinewidth\":0,\"ticks\":\"\"}}}],\"scatterpolar\":[{\"type\":\"scatterpolar\",\"marker\":{\"colorbar\":{\"outlinewidth\":0,\"ticks\":\"\"}}}],\"histogram\":[{\"marker\":{\"pattern\":{\"fillmode\":\"overlay\",\"size\":10,\"solidity\":0.2}},\"type\":\"histogram\"}],\"scattergl\":[{\"type\":\"scattergl\",\"marker\":{\"colorbar\":{\"outlinewidth\":0,\"ticks\":\"\"}}}],\"scatter3d\":[{\"type\":\"scatter3d\",\"line\":{\"colorbar\":{\"outlinewidth\":0,\"ticks\":\"\"}},\"marker\":{\"colorbar\":{\"outlinewidth\":0,\"ticks\":\"\"}}}],\"scattermapbox\":[{\"type\":\"scattermapbox\",\"marker\":{\"colorbar\":{\"outlinewidth\":0,\"ticks\":\"\"}}}],\"scatterternary\":[{\"type\":\"scatterternary\",\"marker\":{\"colorbar\":{\"outlinewidth\":0,\"ticks\":\"\"}}}],\"scattercarpet\":[{\"type\":\"scattercarpet\",\"marker\":{\"colorbar\":{\"outlinewidth\":0,\"ticks\":\"\"}}}],\"carpet\":[{\"aaxis\":{\"endlinecolor\":\"#2a3f5f\",\"gridcolor\":\"white\",\"linecolor\":\"white\",\"minorgridcolor\":\"white\",\"startlinecolor\":\"#2a3f5f\"},\"baxis\":{\"endlinecolor\":\"#2a3f5f\",\"gridcolor\":\"white\",\"linecolor\":\"white\",\"minorgridcolor\":\"white\",\"startlinecolor\":\"#2a3f5f\"},\"type\":\"carpet\"}],\"table\":[{\"cells\":{\"fill\":{\"color\":\"#EBF0F8\"},\"line\":{\"color\":\"white\"}},\"header\":{\"fill\":{\"color\":\"#C8D4E3\"},\"line\":{\"color\":\"white\"}},\"type\":\"table\"}],\"barpolar\":[{\"marker\":{\"line\":{\"color\":\"#E5ECF6\",\"width\":0.5},\"pattern\":{\"fillmode\":\"overlay\",\"size\":10,\"solidity\":0.2}},\"type\":\"barpolar\"}],\"pie\":[{\"automargin\":true,\"type\":\"pie\"}]},\"layout\":{\"autotypenumbers\":\"strict\",\"colorway\":[\"#636efa\",\"#EF553B\",\"#00cc96\",\"#ab63fa\",\"#FFA15A\",\"#19d3f3\",\"#FF6692\",\"#B6E880\",\"#FF97FF\",\"#FECB52\"],\"font\":{\"color\":\"#2a3f5f\"},\"hovermode\":\"closest\",\"hoverlabel\":{\"align\":\"left\"},\"paper_bgcolor\":\"white\",\"plot_bgcolor\":\"#E5ECF6\",\"polar\":{\"bgcolor\":\"#E5ECF6\",\"angularaxis\":{\"gridcolor\":\"white\",\"linecolor\":\"white\",\"ticks\":\"\"},\"radialaxis\":{\"gridcolor\":\"white\",\"linecolor\":\"white\",\"ticks\":\"\"}},\"ternary\":{\"bgcolor\":\"#E5ECF6\",\"aaxis\":{\"gridcolor\":\"white\",\"linecolor\":\"white\",\"ticks\":\"\"},\"baxis\":{\"gridcolor\":\"white\",\"linecolor\":\"white\",\"ticks\":\"\"},\"caxis\":{\"gridcolor\":\"white\",\"linecolor\":\"white\",\"ticks\":\"\"}},\"coloraxis\":{\"colorbar\":{\"outlinewidth\":0,\"ticks\":\"\"}},\"colorscale\":{\"sequential\":[[0.0,\"#0d0887\"],[0.1111111111111111,\"#46039f\"],[0.2222222222222222,\"#7201a8\"],[0.3333333333333333,\"#9c179e\"],[0.4444444444444444,\"#bd3786\"],[0.5555555555555556,\"#d8576b\"],[0.6666666666666666,\"#ed7953\"],[0.7777777777777778,\"#fb9f3a\"],[0.8888888888888888,\"#fdca26\"],[1.0,\"#f0f921\"]],\"sequentialminus\":[[0.0,\"#0d0887\"],[0.1111111111111111,\"#46039f\"],[0.2222222222222222,\"#7201a8\"],[0.3333333333333333,\"#9c179e\"],[0.4444444444444444,\"#bd3786\"],[0.5555555555555556,\"#d8576b\"],[0.6666666666666666,\"#ed7953\"],[0.7777777777777778,\"#fb9f3a\"],[0.8888888888888888,\"#fdca26\"],[1.0,\"#f0f921\"]],\"diverging\":[[0,\"#8e0152\"],[0.1,\"#c51b7d\"],[0.2,\"#de77ae\"],[0.3,\"#f1b6da\"],[0.4,\"#fde0ef\"],[0.5,\"#f7f7f7\"],[0.6,\"#e6f5d0\"],[0.7,\"#b8e186\"],[0.8,\"#7fbc41\"],[0.9,\"#4d9221\"],[1,\"#276419\"]]},\"xaxis\":{\"gridcolor\":\"white\",\"linecolor\":\"white\",\"ticks\":\"\",\"title\":{\"standoff\":15},\"zerolinecolor\":\"white\",\"automargin\":true,\"zerolinewidth\":2},\"yaxis\":{\"gridcolor\":\"white\",\"linecolor\":\"white\",\"ticks\":\"\",\"title\":{\"standoff\":15},\"zerolinecolor\":\"white\",\"automargin\":true,\"zerolinewidth\":2},\"scene\":{\"xaxis\":{\"backgroundcolor\":\"#E5ECF6\",\"gridcolor\":\"white\",\"linecolor\":\"white\",\"showbackground\":true,\"ticks\":\"\",\"zerolinecolor\":\"white\",\"gridwidth\":2},\"yaxis\":{\"backgroundcolor\":\"#E5ECF6\",\"gridcolor\":\"white\",\"linecolor\":\"white\",\"showbackground\":true,\"ticks\":\"\",\"zerolinecolor\":\"white\",\"gridwidth\":2},\"zaxis\":{\"backgroundcolor\":\"#E5ECF6\",\"gridcolor\":\"white\",\"linecolor\":\"white\",\"showbackground\":true,\"ticks\":\"\",\"zerolinecolor\":\"white\",\"gridwidth\":2}},\"shapedefaults\":{\"line\":{\"color\":\"#2a3f5f\"}},\"annotationdefaults\":{\"arrowcolor\":\"#2a3f5f\",\"arrowhead\":0,\"arrowwidth\":1},\"geo\":{\"bgcolor\":\"white\",\"landcolor\":\"#E5ECF6\",\"subunitcolor\":\"white\",\"showland\":true,\"showlakes\":true,\"lakecolor\":\"white\"},\"title\":{\"x\":0.05},\"mapbox\":{\"style\":\"light\"}}}},                        {\"responsive\": true}                    ).then(function(){\n",
       "                            \n",
       "var gd = document.getElementById('51082336-482c-465e-9c9d-709986b81e4a');\n",
       "var x = new MutationObserver(function (mutations, observer) {{\n",
       "        var display = window.getComputedStyle(gd).display;\n",
       "        if (!display || display === 'none') {{\n",
       "            console.log([gd, 'removed!']);\n",
       "            Plotly.purge(gd);\n",
       "            observer.disconnect();\n",
       "        }}\n",
       "}});\n",
       "\n",
       "// Listen for the removal of the full notebook cells\n",
       "var notebookContainer = gd.closest('#notebook-container');\n",
       "if (notebookContainer) {{\n",
       "    x.observe(notebookContainer, {childList: true});\n",
       "}}\n",
       "\n",
       "// Listen for the clearing of the current output cell\n",
       "var outputEl = gd.closest('.output');\n",
       "if (outputEl) {{\n",
       "    x.observe(outputEl, {childList: true});\n",
       "}}\n",
       "\n",
       "                        })                };                });            </script>        </div>"
      ]
     },
     "metadata": {},
     "output_type": "display_data"
    }
   ],
   "source": [
    "if config['tune_parameters']:\n",
    "    fig = optuna.visualization.plot_optimization_history(study)\n",
    "    fig.show()"
   ]
  },
  {
   "cell_type": "code",
   "execution_count": 33,
   "id": "983d3aa3",
   "metadata": {
    "execution": {
     "iopub.execute_input": "2023-12-04T19:02:43.174294Z",
     "iopub.status.busy": "2023-12-04T19:02:43.173134Z",
     "iopub.status.idle": "2023-12-04T19:02:43.177852Z",
     "shell.execute_reply": "2023-12-04T19:02:43.176874Z"
    },
    "papermill": {
     "duration": 0.176074,
     "end_time": "2023-12-04T19:02:43.181349",
     "exception": false,
     "start_time": "2023-12-04T19:02:43.005275",
     "status": "completed"
    },
    "tags": []
   },
   "outputs": [],
   "source": [
    "# if config['tune_parameters']:\n",
    "#     fig = optuna.visualization.plot_param_importances(study)\n",
    "#     fig.show()"
   ]
  },
  {
   "cell_type": "code",
   "execution_count": 34,
   "id": "fdb6806a",
   "metadata": {
    "execution": {
     "iopub.execute_input": "2023-12-04T19:02:43.507895Z",
     "iopub.status.busy": "2023-12-04T19:02:43.506940Z",
     "iopub.status.idle": "2023-12-04T19:02:43.610150Z",
     "shell.execute_reply": "2023-12-04T19:02:43.608393Z"
    },
    "papermill": {
     "duration": 0.271672,
     "end_time": "2023-12-04T19:02:43.613729",
     "exception": false,
     "start_time": "2023-12-04T19:02:43.342057",
     "status": "completed"
    },
    "tags": []
   },
   "outputs": [
    {
     "data": {
      "text/html": [
       "<div>                            <div id=\"e0389498-bb6d-41be-bfda-d81c79b6fe1c\" class=\"plotly-graph-div\" style=\"height:525px; width:100%;\"></div>            <script type=\"text/javascript\">                require([\"plotly\"], function(Plotly) {                    window.PLOTLYENV=window.PLOTLYENV || {};                                    if (document.getElementById(\"e0389498-bb6d-41be-bfda-d81c79b6fe1c\")) {                    Plotly.newPlot(                        \"e0389498-bb6d-41be-bfda-d81c79b6fe1c\",                        [{\"marker\":{\"color\":[0,1,2,3,4,5,6,7,8,9,10,11,12,13,14,15,16,17,18,19,20,21,22,23,24,25,26,27,28,29,30,31,32,33,34,35,36,37,38,39,40,41,42,43,44,45,46,47,48,49,50,51,52,53,54,55,56,57,58,59,60,61,62,63,64,65,66,67,68,69,70,71,72,73,74,75,76,77,78,79,80,81,82,83,84,85,86,87,88,89,90,91,92,93,94,95,96,97,98,99,100,101,102,103,104,105,106,107,108,109,110,111,112,113,114,115,116,117,118,119,120,121,122,123,124,125,126,127,128,129,130,131,132,133,134,135,136,137,138,139,140,141,142,143,144,145,146,147,148,149,150,151,152,153,154,155,156,157,158,159,160,161,162,163,164,165,166,167,168,169,170,171,172,173,174,175,176,177,178,179,180,181,182,183,184,185,186,187,188,189,190,191,192,193,194,195,196,197,198,199,200,201,202,203,204,205,206,207,208,209,210,211,212,213,214,215,216,217,218,219,220,221,222,223,224,225,226,227,228,229,230,231,232,233,234,235,236,237,238,239,240,241,242,243,244,245,246,247,248,249,250,251,252,253,254,255,256,257,258,259,260,261,262,263,264,265,266,267,268,269,270,271,272,273,274,275,276,277,278,279,280,281,282,283,284,285,286,287,288,289,290,291,292,293,294,295,296,297,298,299,300,301,302,303,304,305,306,307,308,309,310,311,312,313,314,315,316,317,318,319,320,321,322,323,324,325,326,327,328,329,330,331,332,333,334,335,336,337,338,339,340,341,342,343,344,345,346,347,348,349,350,351,352,353,354,355,356,357,358,359,360,361,362,363,364,365,366,367,368,369,370,371,372,373,374,375,376,377,378,379,380,381,382,383,384,385,386,387,388,389,390,391,392,393,394,395,396,397,398,399],\"colorbar\":{\"title\":{\"text\":\"Trial\"},\"x\":1.0,\"xpad\":40},\"colorscale\":[[0.0,\"rgb(247,251,255)\"],[0.125,\"rgb(222,235,247)\"],[0.25,\"rgb(198,219,239)\"],[0.375,\"rgb(158,202,225)\"],[0.5,\"rgb(107,174,214)\"],[0.625,\"rgb(66,146,198)\"],[0.75,\"rgb(33,113,181)\"],[0.875,\"rgb(8,81,156)\"],[1.0,\"rgb(8,48,107)\"]],\"line\":{\"color\":\"Grey\",\"width\":0.5}},\"mode\":\"markers\",\"name\":\"Feasible Trial\",\"showlegend\":false,\"x\":[751,1894,672,842,635,1982,1850,1235,1674,98,98,16,90,367,313,1276,327,499,32,1120,1439,47,257,29,506,201,450,906,185,37,572,152,20,402,247,789,29,20,649,215,308,14,162,129,12,139,405,255,1486,108,327,14,96,36,12,269,185,94,1739,1996,377,95,75,195,34,954,166,283,469,11,1090,14,79,220,159,74,129,213,65,133,325,14,13,17,14,118,63,249,165,590,60,13,106,55,11,130,208,61,744,1291,139,35,104,10,82,169,10,58,236,180,106,41,12,91,135,59,297,190,48,109,12,86,149,41,78,1575,127,1897,46,11,169,10,85,48,123,75,13,217,112,60,150,10,43,85,41,10,100,153,52,108,78,13,10,53,45,117,11,82,149,188,10,48,81,48,11,116,77,10,891,50,129,42,14,80,10,95,56,47,112,1050,720,1222,10,43,83,10,70,45,139,93,12,10,41,10,69,99,10,48,73,123,51,30,45,13,83,43,99,41,132,10,77,10,44,13,72,42,102,10,69,48,154,16,13,46,81,38,12,91,10,63,117,11,52,40,73,11,48,11,96,51,12,13,50,80,44,14,10,81,519,10,116,53,73,48,104,1738,10,48,80,10,48,132,90,10,52,48,110,72,42,1508,12,94,148,10,49,1358,79,107,48,830,42,12,74,10,109,67,151,50,10,81,46,124,42,85,176,43,13,11,81,44,92,10,125,10,66,47,112,638,1140,47,76,41,139,83,12,54,97,41,42,10,379,11,106,175,699,74,1886,11,72,128,43,79,54,11,116,49,10,81,45,106,146,47,11,77,46,10,98,66,43,1009,135,81,43,11,1638,10,109,69,191,49,10,84,146,562,456,43,10,112,71,48,10,94,48,63,10,110,165,72,49,43,908,10,108,82,42,132,41,79,43,11,10,80,112,10,68,48,768,160,89,45],\"y\":[0.05123705839132441,0.05123678134222372,0.05123745688660622,0.05123695212591592,0.051237912309785444,0.05123664851046311,0.05123678134222372,0.05123695212591592,0.05123678134222372,0.05129852533974618,0.05129852533974618,0.051586052968752405,0.051296513887371296,0.05124248172235027,0.051248174512090496,0.05123695212591592,0.051248174512090496,0.05123831080506725,0.051421910864575884,0.05123695212591592,0.05123678134222372,0.05141487078126378,0.05125122964258441,0.05149126801957765,0.05123831080506725,0.05126593981127314,0.05123831080506725,0.05123695212591592,0.05126537053229912,0.051376501378414666,0.051237912309785444,0.051269670486149554,0.051521553660995596,0.05124117997109633,0.05124690312238184,0.05123705839132441,0.05149126801957765,0.051521553660995596,0.05123745688660622,0.05126382209348978,0.051248174512090496,0.05151743208122376,0.05127005759585189,0.05127520387777705,0.051343198558434465,0.05127066103156436,0.05124117997109633,0.05125122964258441,0.05123678134222372,0.051284255413464014,0.051248174512090496,0.05151743208122376,0.05130102257684555,0.05136659971945983,0.051343198558434465,0.051254098808613494,0.05126537053229912,0.05130000166988548,0.05123678134222372,0.05123664851046311,0.05124117997109633,0.05129815341081648,0.051329983695850644,0.05126620547479435,0.05141528445731823,0.05123695212591592,0.05126910120717553,0.0512517837407858,0.05123831080506725,0.05146412479809626,0.05123695212591592,0.05151743208122376,0.051325330789036304,0.05126321486258415,0.051270228379544106,0.05134064059824434,0.05127520387777705,0.05126382209348978,0.05135942300919394,0.05127557580670675,0.051248174512090496,0.05151743208122376,0.05150189835561936,0.05153017254466238,0.05151743208122376,0.05127116579225465,0.05135841348781336,0.05124690312238184,0.05126910120717553,0.051237912309785444,0.05137094521562818,0.05150189835561936,0.05128568620128539,0.05139393270059922,0.05146412479809626,0.0512787903353134,0.05126382209348978,0.05137094521562818,0.05123705839132441,0.05123695212591592,0.05127066103156436,0.05137705927180921,0.051295568884274424,0.05124116099513065,0.051310525740518566,0.05126888867635857,0.05124116099513065,0.0513888775033099,0.05124881589973455,0.05126680511531365,0.05128568620128539,0.051404422614493885,0.051343198558434465,0.05130172089238703,0.05127610713374917,0.05137985253397506,0.051248174512090496,0.05126537053229912,0.05140131055610255,0.05128404288264705,0.051343198558434465,0.05130074173255169,0.05126511625435737,0.051404422614493885,0.051326829890334574,0.05123678134222372,0.05127422471794174,0.05123678134222372,0.051406775634253166,0.05146412479809626,0.05126888867635857,0.05124116099513065,0.051299614560183136,0.05140131055610255,0.05127175404719447,0.051329983695850644,0.05150189835561936,0.05126348052610536,0.05128159877825191,0.05137094521562818,0.05126511625435737,0.05124116099513065,0.051402320077483146,0.051299614560183136,0.051404422614493885,0.05124116099513065,0.05129990679005648,0.05126945795533259,0.05140119290511459,0.051284255413464014,0.051326829890334574,0.05150189835561936,0.05124116099513065,0.05139707512053583,0.05140482490496884,0.05127116579225465,0.05146412479809626,0.051310525740518566,0.05126511625435737,0.05126537053229912,0.05124116099513065,0.05140131055610255,0.051311463153229125,0.05140131055610255,0.05146412479809626,0.05127690412431281,0.0513224464422346,0.05124116099513065,0.05123695212591592,0.051393382397590996,0.05127520387777705,0.05139458547382277,0.05151743208122376,0.05131815787396362,0.05124116099513065,0.05129815341081648,0.05139105594418382,0.05141487078126378,0.05128159877825191,0.05123695212591592,0.05123705839132441,0.05123695212591592,0.05124116099513065,0.051402320077483146,0.05130704934358387,0.05124116099513065,0.05134409801921324,0.05140482490496884,0.05127066103156436,0.051301159203799324,0.051343198558434465,0.05124116099513065,0.051404422614493885,0.05124116099513065,0.05136078168834528,0.05130051781615526,0.05124116099513065,0.05140131055610255,0.05133654938001771,0.05127175404719447,0.051402779295855544,0.05146916860980611,0.05140482490496884,0.05150189835561936,0.05130704934358387,0.051402320077483146,0.05130051781615526,0.051404422614493885,0.05127570863846735,0.05124116099513065,0.0513224464422346,0.05124116099513065,0.051403265080580025,0.05150189835561936,0.05133219249826986,0.05139458547382277,0.0512954094861617,0.05124116099513065,0.05136078168834528,0.05140131055610255,0.05126945795533259,0.051586052968752405,0.05150189835561936,0.051406775634253166,0.051311463153229125,0.051392961131150224,0.051343198558434465,0.05130172089238703,0.05124116099513065,0.05135841348781336,0.05127116579225465,0.05146412479809626,0.05140119290511459,0.05140614942738174,0.05133654938001771,0.05146412479809626,0.05140131055610255,0.05146412479809626,0.05130102257684555,0.051402779295855544,0.051343198558434465,0.05150189835561936,0.051393382397590996,0.05131815787396362,0.051403265080580025,0.05151743208122376,0.05124116099513065,0.051311463153229125,0.05123831080506725,0.05124116099513065,0.05127690412431281,0.05139707512053583,0.05133654938001771,0.05140131055610255,0.051295568884274424,0.05123678134222372,0.05124116099513065,0.05140131055610255,0.05131815787396362,0.05124116099513065,0.05140131055610255,0.05127570863846735,0.051296513887371296,0.05124116099513065,0.05140119290511459,0.05140131055610255,0.05128282083044949,0.05133219249826986,0.05139458547382277,0.05123678134222372,0.051343198558434465,0.05130000166988548,0.051266254812305415,0.05124116099513065,0.05139126088461448,0.05123695212591592,0.051325330789036304,0.05128547367046842,0.05140131055610255,0.05123705839132441,0.05139458547382277,0.051343198558434465,0.05134064059824434,0.05124116099513065,0.05128404288264705,0.05135919150241118,0.05126511625435737,0.051393382397590996,0.05124116099513065,0.051311463153229125,0.051406775634253166,0.05127815653805565,0.05139458547382277,0.051299614560183136,0.051266975899005855,0.051402320077483146,0.05150189835561936,0.05146412479809626,0.051311463153229125,0.051403265080580025,0.051302252219429446,0.05124116099513065,0.05127815653805565,0.05124116099513065,0.051359935360270566,0.05141487078126378,0.05128159877825191,0.05123745688660622,0.05123695212591592,0.05141487078126378,0.05132771417034087,0.051404422614493885,0.05127066103156436,0.05130704934358387,0.051343198558434465,0.05139164799431681,0.0513007037806201,0.051404422614493885,0.05139458547382277,0.05124116099513065,0.05124117997109633,0.05146412479809626,0.05128568620128539,0.051266975899005855,0.05123705839132441,0.05134064059824434,0.05123678134222372,0.05146412479809626,0.05133219249826986,0.051275659300956275,0.051402320077483146,0.051325330789036304,0.05139164799431681,0.05146412479809626,0.05127690412431281,0.05139126088461448,0.05124116099513065,0.051311463153229125,0.05140482490496884,0.05128568620128539,0.051273848993818885,0.05141487078126378,0.05146412479809626,0.0513224464422346,0.051406775634253166,0.05124116099513065,0.05129852533974618,0.051359935360270566,0.051402320077483146,0.05123695212591592,0.05127610713374917,0.051311463153229125,0.051402320077483146,0.05146412479809626,0.05123678134222372,0.05124116099513065,0.05128404288264705,0.05136078168834528,0.05126537053229912,0.05139126088461448,0.05124116099513065,0.05130155769908113,0.051273848993818885,0.051237912309785444,0.05123831080506725,0.051402320077483146,0.05124116099513065,0.05128159877825191,0.05133739950328558,0.05140131055610255,0.05124116099513065,0.05130000166988548,0.05140131055610255,0.05135841348781336,0.05124116099513065,0.05128282083044949,0.05126910120717553,0.05133219249826986,0.05139126088461448,0.051402320077483146,0.05123695212591592,0.05124116099513065,0.051284255413464014,0.051310525740518566,0.05139458547382277,0.05127570863846735,0.051404422614493885,0.051325330789036304,0.051402320077483146,0.05146412479809626,0.05124116099513065,0.05131815787396362,0.05128159877825191,0.05124116099513065,0.051362163138655575,0.05140131055610255,0.05123705839132441,0.051270228379544106,0.05129662015277978,0.05140482490496884],\"type\":\"scatter\"}],                        {\"title\":{\"text\":\"Slice Plot\"},\"template\":{\"data\":{\"histogram2dcontour\":[{\"type\":\"histogram2dcontour\",\"colorbar\":{\"outlinewidth\":0,\"ticks\":\"\"},\"colorscale\":[[0.0,\"#0d0887\"],[0.1111111111111111,\"#46039f\"],[0.2222222222222222,\"#7201a8\"],[0.3333333333333333,\"#9c179e\"],[0.4444444444444444,\"#bd3786\"],[0.5555555555555556,\"#d8576b\"],[0.6666666666666666,\"#ed7953\"],[0.7777777777777778,\"#fb9f3a\"],[0.8888888888888888,\"#fdca26\"],[1.0,\"#f0f921\"]]}],\"choropleth\":[{\"type\":\"choropleth\",\"colorbar\":{\"outlinewidth\":0,\"ticks\":\"\"}}],\"histogram2d\":[{\"type\":\"histogram2d\",\"colorbar\":{\"outlinewidth\":0,\"ticks\":\"\"},\"colorscale\":[[0.0,\"#0d0887\"],[0.1111111111111111,\"#46039f\"],[0.2222222222222222,\"#7201a8\"],[0.3333333333333333,\"#9c179e\"],[0.4444444444444444,\"#bd3786\"],[0.5555555555555556,\"#d8576b\"],[0.6666666666666666,\"#ed7953\"],[0.7777777777777778,\"#fb9f3a\"],[0.8888888888888888,\"#fdca26\"],[1.0,\"#f0f921\"]]}],\"heatmap\":[{\"type\":\"heatmap\",\"colorbar\":{\"outlinewidth\":0,\"ticks\":\"\"},\"colorscale\":[[0.0,\"#0d0887\"],[0.1111111111111111,\"#46039f\"],[0.2222222222222222,\"#7201a8\"],[0.3333333333333333,\"#9c179e\"],[0.4444444444444444,\"#bd3786\"],[0.5555555555555556,\"#d8576b\"],[0.6666666666666666,\"#ed7953\"],[0.7777777777777778,\"#fb9f3a\"],[0.8888888888888888,\"#fdca26\"],[1.0,\"#f0f921\"]]}],\"heatmapgl\":[{\"type\":\"heatmapgl\",\"colorbar\":{\"outlinewidth\":0,\"ticks\":\"\"},\"colorscale\":[[0.0,\"#0d0887\"],[0.1111111111111111,\"#46039f\"],[0.2222222222222222,\"#7201a8\"],[0.3333333333333333,\"#9c179e\"],[0.4444444444444444,\"#bd3786\"],[0.5555555555555556,\"#d8576b\"],[0.6666666666666666,\"#ed7953\"],[0.7777777777777778,\"#fb9f3a\"],[0.8888888888888888,\"#fdca26\"],[1.0,\"#f0f921\"]]}],\"contourcarpet\":[{\"type\":\"contourcarpet\",\"colorbar\":{\"outlinewidth\":0,\"ticks\":\"\"}}],\"contour\":[{\"type\":\"contour\",\"colorbar\":{\"outlinewidth\":0,\"ticks\":\"\"},\"colorscale\":[[0.0,\"#0d0887\"],[0.1111111111111111,\"#46039f\"],[0.2222222222222222,\"#7201a8\"],[0.3333333333333333,\"#9c179e\"],[0.4444444444444444,\"#bd3786\"],[0.5555555555555556,\"#d8576b\"],[0.6666666666666666,\"#ed7953\"],[0.7777777777777778,\"#fb9f3a\"],[0.8888888888888888,\"#fdca26\"],[1.0,\"#f0f921\"]]}],\"surface\":[{\"type\":\"surface\",\"colorbar\":{\"outlinewidth\":0,\"ticks\":\"\"},\"colorscale\":[[0.0,\"#0d0887\"],[0.1111111111111111,\"#46039f\"],[0.2222222222222222,\"#7201a8\"],[0.3333333333333333,\"#9c179e\"],[0.4444444444444444,\"#bd3786\"],[0.5555555555555556,\"#d8576b\"],[0.6666666666666666,\"#ed7953\"],[0.7777777777777778,\"#fb9f3a\"],[0.8888888888888888,\"#fdca26\"],[1.0,\"#f0f921\"]]}],\"mesh3d\":[{\"type\":\"mesh3d\",\"colorbar\":{\"outlinewidth\":0,\"ticks\":\"\"}}],\"scatter\":[{\"fillpattern\":{\"fillmode\":\"overlay\",\"size\":10,\"solidity\":0.2},\"type\":\"scatter\"}],\"parcoords\":[{\"type\":\"parcoords\",\"line\":{\"colorbar\":{\"outlinewidth\":0,\"ticks\":\"\"}}}],\"scatterpolargl\":[{\"type\":\"scatterpolargl\",\"marker\":{\"colorbar\":{\"outlinewidth\":0,\"ticks\":\"\"}}}],\"bar\":[{\"error_x\":{\"color\":\"#2a3f5f\"},\"error_y\":{\"color\":\"#2a3f5f\"},\"marker\":{\"line\":{\"color\":\"#E5ECF6\",\"width\":0.5},\"pattern\":{\"fillmode\":\"overlay\",\"size\":10,\"solidity\":0.2}},\"type\":\"bar\"}],\"scattergeo\":[{\"type\":\"scattergeo\",\"marker\":{\"colorbar\":{\"outlinewidth\":0,\"ticks\":\"\"}}}],\"scatterpolar\":[{\"type\":\"scatterpolar\",\"marker\":{\"colorbar\":{\"outlinewidth\":0,\"ticks\":\"\"}}}],\"histogram\":[{\"marker\":{\"pattern\":{\"fillmode\":\"overlay\",\"size\":10,\"solidity\":0.2}},\"type\":\"histogram\"}],\"scattergl\":[{\"type\":\"scattergl\",\"marker\":{\"colorbar\":{\"outlinewidth\":0,\"ticks\":\"\"}}}],\"scatter3d\":[{\"type\":\"scatter3d\",\"line\":{\"colorbar\":{\"outlinewidth\":0,\"ticks\":\"\"}},\"marker\":{\"colorbar\":{\"outlinewidth\":0,\"ticks\":\"\"}}}],\"scattermapbox\":[{\"type\":\"scattermapbox\",\"marker\":{\"colorbar\":{\"outlinewidth\":0,\"ticks\":\"\"}}}],\"scatterternary\":[{\"type\":\"scatterternary\",\"marker\":{\"colorbar\":{\"outlinewidth\":0,\"ticks\":\"\"}}}],\"scattercarpet\":[{\"type\":\"scattercarpet\",\"marker\":{\"colorbar\":{\"outlinewidth\":0,\"ticks\":\"\"}}}],\"carpet\":[{\"aaxis\":{\"endlinecolor\":\"#2a3f5f\",\"gridcolor\":\"white\",\"linecolor\":\"white\",\"minorgridcolor\":\"white\",\"startlinecolor\":\"#2a3f5f\"},\"baxis\":{\"endlinecolor\":\"#2a3f5f\",\"gridcolor\":\"white\",\"linecolor\":\"white\",\"minorgridcolor\":\"white\",\"startlinecolor\":\"#2a3f5f\"},\"type\":\"carpet\"}],\"table\":[{\"cells\":{\"fill\":{\"color\":\"#EBF0F8\"},\"line\":{\"color\":\"white\"}},\"header\":{\"fill\":{\"color\":\"#C8D4E3\"},\"line\":{\"color\":\"white\"}},\"type\":\"table\"}],\"barpolar\":[{\"marker\":{\"line\":{\"color\":\"#E5ECF6\",\"width\":0.5},\"pattern\":{\"fillmode\":\"overlay\",\"size\":10,\"solidity\":0.2}},\"type\":\"barpolar\"}],\"pie\":[{\"automargin\":true,\"type\":\"pie\"}]},\"layout\":{\"autotypenumbers\":\"strict\",\"colorway\":[\"#636efa\",\"#EF553B\",\"#00cc96\",\"#ab63fa\",\"#FFA15A\",\"#19d3f3\",\"#FF6692\",\"#B6E880\",\"#FF97FF\",\"#FECB52\"],\"font\":{\"color\":\"#2a3f5f\"},\"hovermode\":\"closest\",\"hoverlabel\":{\"align\":\"left\"},\"paper_bgcolor\":\"white\",\"plot_bgcolor\":\"#E5ECF6\",\"polar\":{\"bgcolor\":\"#E5ECF6\",\"angularaxis\":{\"gridcolor\":\"white\",\"linecolor\":\"white\",\"ticks\":\"\"},\"radialaxis\":{\"gridcolor\":\"white\",\"linecolor\":\"white\",\"ticks\":\"\"}},\"ternary\":{\"bgcolor\":\"#E5ECF6\",\"aaxis\":{\"gridcolor\":\"white\",\"linecolor\":\"white\",\"ticks\":\"\"},\"baxis\":{\"gridcolor\":\"white\",\"linecolor\":\"white\",\"ticks\":\"\"},\"caxis\":{\"gridcolor\":\"white\",\"linecolor\":\"white\",\"ticks\":\"\"}},\"coloraxis\":{\"colorbar\":{\"outlinewidth\":0,\"ticks\":\"\"}},\"colorscale\":{\"sequential\":[[0.0,\"#0d0887\"],[0.1111111111111111,\"#46039f\"],[0.2222222222222222,\"#7201a8\"],[0.3333333333333333,\"#9c179e\"],[0.4444444444444444,\"#bd3786\"],[0.5555555555555556,\"#d8576b\"],[0.6666666666666666,\"#ed7953\"],[0.7777777777777778,\"#fb9f3a\"],[0.8888888888888888,\"#fdca26\"],[1.0,\"#f0f921\"]],\"sequentialminus\":[[0.0,\"#0d0887\"],[0.1111111111111111,\"#46039f\"],[0.2222222222222222,\"#7201a8\"],[0.3333333333333333,\"#9c179e\"],[0.4444444444444444,\"#bd3786\"],[0.5555555555555556,\"#d8576b\"],[0.6666666666666666,\"#ed7953\"],[0.7777777777777778,\"#fb9f3a\"],[0.8888888888888888,\"#fdca26\"],[1.0,\"#f0f921\"]],\"diverging\":[[0,\"#8e0152\"],[0.1,\"#c51b7d\"],[0.2,\"#de77ae\"],[0.3,\"#f1b6da\"],[0.4,\"#fde0ef\"],[0.5,\"#f7f7f7\"],[0.6,\"#e6f5d0\"],[0.7,\"#b8e186\"],[0.8,\"#7fbc41\"],[0.9,\"#4d9221\"],[1,\"#276419\"]]},\"xaxis\":{\"gridcolor\":\"white\",\"linecolor\":\"white\",\"ticks\":\"\",\"title\":{\"standoff\":15},\"zerolinecolor\":\"white\",\"automargin\":true,\"zerolinewidth\":2},\"yaxis\":{\"gridcolor\":\"white\",\"linecolor\":\"white\",\"ticks\":\"\",\"title\":{\"standoff\":15},\"zerolinecolor\":\"white\",\"automargin\":true,\"zerolinewidth\":2},\"scene\":{\"xaxis\":{\"backgroundcolor\":\"#E5ECF6\",\"gridcolor\":\"white\",\"linecolor\":\"white\",\"showbackground\":true,\"ticks\":\"\",\"zerolinecolor\":\"white\",\"gridwidth\":2},\"yaxis\":{\"backgroundcolor\":\"#E5ECF6\",\"gridcolor\":\"white\",\"linecolor\":\"white\",\"showbackground\":true,\"ticks\":\"\",\"zerolinecolor\":\"white\",\"gridwidth\":2},\"zaxis\":{\"backgroundcolor\":\"#E5ECF6\",\"gridcolor\":\"white\",\"linecolor\":\"white\",\"showbackground\":true,\"ticks\":\"\",\"zerolinecolor\":\"white\",\"gridwidth\":2}},\"shapedefaults\":{\"line\":{\"color\":\"#2a3f5f\"}},\"annotationdefaults\":{\"arrowcolor\":\"#2a3f5f\",\"arrowhead\":0,\"arrowwidth\":1},\"geo\":{\"bgcolor\":\"white\",\"landcolor\":\"#E5ECF6\",\"subunitcolor\":\"white\",\"showland\":true,\"showlakes\":true,\"lakecolor\":\"white\"},\"title\":{\"x\":0.05},\"mapbox\":{\"style\":\"light\"}}},\"xaxis\":{\"title\":{\"text\":\"cutoff\"}},\"yaxis\":{\"title\":{\"text\":\"Objective Value\"}}},                        {\"responsive\": true}                    ).then(function(){\n",
       "                            \n",
       "var gd = document.getElementById('e0389498-bb6d-41be-bfda-d81c79b6fe1c');\n",
       "var x = new MutationObserver(function (mutations, observer) {{\n",
       "        var display = window.getComputedStyle(gd).display;\n",
       "        if (!display || display === 'none') {{\n",
       "            console.log([gd, 'removed!']);\n",
       "            Plotly.purge(gd);\n",
       "            observer.disconnect();\n",
       "        }}\n",
       "}});\n",
       "\n",
       "// Listen for the removal of the full notebook cells\n",
       "var notebookContainer = gd.closest('#notebook-container');\n",
       "if (notebookContainer) {{\n",
       "    x.observe(notebookContainer, {childList: true});\n",
       "}}\n",
       "\n",
       "// Listen for the clearing of the current output cell\n",
       "var outputEl = gd.closest('.output');\n",
       "if (outputEl) {{\n",
       "    x.observe(outputEl, {childList: true});\n",
       "}}\n",
       "\n",
       "                        })                };                });            </script>        </div>"
      ]
     },
     "metadata": {},
     "output_type": "display_data"
    }
   ],
   "source": [
    "if config['tune_parameters']:\n",
    "    fig = optuna.visualization.plot_slice(study)\n",
    "    fig.show()"
   ]
  },
  {
   "cell_type": "code",
   "execution_count": 35,
   "id": "0ae782b7",
   "metadata": {
    "execution": {
     "iopub.execute_input": "2023-12-04T19:02:43.942076Z",
     "iopub.status.busy": "2023-12-04T19:02:43.941213Z",
     "iopub.status.idle": "2023-12-04T19:02:44.893997Z",
     "shell.execute_reply": "2023-12-04T19:02:44.892781Z"
    },
    "papermill": {
     "duration": 1.119203,
     "end_time": "2023-12-04T19:02:44.897191",
     "exception": false,
     "start_time": "2023-12-04T19:02:43.777988",
     "status": "completed"
    },
    "tags": []
   },
   "outputs": [],
   "source": [
    "if config['tune_parameters']:\n",
    "    with open('/kaggle/working/best_params_2stage_pipeline.json', 'w') as params_file:\n",
    "        json.dump(study.best_params, params_file)\n",
    "        \n",
    "    if config['save_github']: \n",
    "        upload_file(\n",
    "            '/kaggle/working/best_params_2stage_pipeline.json', \n",
    "            'tuning_results/best_params_2stage_pipeline.json', \n",
    "            'Hybrid Pipeline tuning results (from kaggle notebook)'\n",
    "        )\n",
    "    \n",
    "elif config['copy_prev_best_params']:\n",
    "    shutil.copyfile(\n",
    "        '/kaggle/input/Recsys_Challenge_2023/tuning_results/best_params_2stage_pipeline.json', \n",
    "        '/kaggle/working/best_params_2stage_pipeline.json'\n",
    "    )"
   ]
  },
  {
   "cell_type": "code",
   "execution_count": 36,
   "id": "0a1eaba7",
   "metadata": {
    "execution": {
     "iopub.execute_input": "2023-12-04T19:02:45.230407Z",
     "iopub.status.busy": "2023-12-04T19:02:45.229845Z",
     "iopub.status.idle": "2023-12-04T19:02:46.785642Z",
     "shell.execute_reply": "2023-12-04T19:02:46.784376Z"
    },
    "papermill": {
     "duration": 1.724134,
     "end_time": "2023-12-04T19:02:46.788783",
     "exception": false,
     "start_time": "2023-12-04T19:02:45.064649",
     "status": "completed"
    },
    "tags": []
   },
   "outputs": [],
   "source": [
    "if config['save_github'] and config['tune_parameters']:\n",
    "    upload_file(\n",
    "        config['database_path'], \n",
    "        'tuning_results/tuning_hybrid.db', \n",
    "        'Pipeline hybrid recommender tuning db updated results (from kaggle notebook)'\n",
    "    )"
   ]
  },
  {
   "cell_type": "markdown",
   "id": "b2632297",
   "metadata": {
    "papermill": {
     "duration": 0.151029,
     "end_time": "2023-12-04T19:02:47.102599",
     "exception": false,
     "start_time": "2023-12-04T19:02:46.951570",
     "status": "completed"
    },
    "tags": []
   },
   "source": [
    "# Training best model"
   ]
  },
  {
   "cell_type": "code",
   "execution_count": 37,
   "id": "322ba7fe",
   "metadata": {
    "execution": {
     "iopub.execute_input": "2023-12-04T19:02:47.408030Z",
     "iopub.status.busy": "2023-12-04T19:02:47.407528Z",
     "iopub.status.idle": "2023-12-04T19:03:21.271320Z",
     "shell.execute_reply": "2023-12-04T19:03:21.269665Z"
    },
    "papermill": {
     "duration": 34.023832,
     "end_time": "2023-12-04T19:03:21.274763",
     "exception": false,
     "start_time": "2023-12-04T19:02:47.250931",
     "status": "completed"
    },
    "tags": []
   },
   "outputs": [
    {
     "name": "stdout",
     "output_type": "stream",
     "text": [
      "ItemKNNCFRecommender: URM Detected 386 ( 3.0%) users with no interactions.\n",
      "ItemKNNCFRecommender: URM Detected 125 ( 0.6%) items with no interactions.\n",
      "Similarity column 22347 (100.0%), 3887.66 column/sec. Elapsed time 5.75 sec\n",
      "RP3betaRecommender: URM Detected 386 ( 3.0%) users with no interactions.\n",
      "RP3betaRecommender: URM Detected 125 ( 0.6%) items with no interactions.\n",
      "RP3betaRecommender: Similarity column 22347 (100.0%), 2131.86 column/sec. Elapsed time 10.48 sec\n",
      "P3alphaRecommender: URM Detected 386 ( 3.0%) users with no interactions.\n",
      "P3alphaRecommender: URM Detected 125 ( 0.6%) items with no interactions.\n",
      "P3alphaRecommender: Similarity column 22347 (100.0%), 2409.98 column/sec. Elapsed time 9.27 sec\n",
      "SLIMElasticNetRecommender: URM Detected 386 ( 3.0%) users with no interactions.\n",
      "SLIMElasticNetRecommender: URM Detected 125 ( 0.6%) items with no interactions.\n",
      "SLIMElasticNetRecommender: Loading model from file '/kaggle/working/Recsys_Challenge_2023/models/slim_elastic_all.zip'\n",
      "SLIMElasticNetRecommender: Loading complete\n",
      "IALSRecommender: URM Detected 386 ( 3.0%) users with no interactions.\n",
      "IALSRecommender: URM Detected 125 ( 0.6%) items with no interactions.\n",
      "IALSRecommender: Loading model from file '/kaggle/working/ials_all.zip'\n",
      "IALSRecommender: Loading complete\n",
      "ItemKNNSimilarityHybridRecommender: URM Detected 386 ( 3.0%) users with no interactions.\n",
      "ItemKNNSimilarityHybridRecommender: URM Detected 125 ( 0.6%) items with no interactions.\n"
     ]
    }
   ],
   "source": [
    "recommender_item = ItemKNNCFRecommender(URM_all)\n",
    "recommender_item.fit(**params_item_knn)\n",
    "\n",
    "recommender_rp3 = RP3betaRecommender(URM_all)\n",
    "recommender_rp3.fit(**params_rp3)\n",
    "\n",
    "recommender_p3a = P3alphaRecommender(URM_all)\n",
    "recommender_p3a.fit(**params_p3alpha)\n",
    "\n",
    "recommender_slim = SLIMElasticNetRecommender(URM_all)\n",
    "recommender_slim.load_model('/kaggle/working/Recsys_Challenge_2023/models/', 'slim_elastic_all.zip')\n",
    "\n",
    "recommender_ials = IALSRecommender(URM_all)\n",
    "recommender_ials.load_model('/kaggle/working/', 'ials_all.zip')\n",
    "\n",
    "hybrid_similarity = ItemKNNSimilarityHybridRecommender(URM_all, recommender_item.W_sparse, recommender_rp3.W_sparse)\n",
    "hybrid_similarity.fit(**params_merging)"
   ]
  },
  {
   "cell_type": "code",
   "execution_count": 38,
   "id": "5619a897",
   "metadata": {
    "execution": {
     "iopub.execute_input": "2023-12-04T19:03:21.600121Z",
     "iopub.status.busy": "2023-12-04T19:03:21.599577Z",
     "iopub.status.idle": "2023-12-04T19:03:21.629232Z",
     "shell.execute_reply": "2023-12-04T19:03:21.627657Z"
    },
    "papermill": {
     "duration": 0.195579,
     "end_time": "2023-12-04T19:03:21.632707",
     "exception": false,
     "start_time": "2023-12-04T19:03:21.437128",
     "status": "completed"
    },
    "tags": []
   },
   "outputs": [
    {
     "name": "stdout",
     "output_type": "stream",
     "text": [
      "Recommender_Base_Class: URM Detected 386 ( 3.0%) users with no interactions.\n",
      "Recommender_Base_Class: URM Detected 125 ( 0.6%) items with no interactions.\n"
     ]
    }
   ],
   "source": [
    "with open('/kaggle/working/best_params_2stage_pipeline.json', 'r') as params_file:\n",
    "    params = json.load(params_file)\n",
    "    \n",
    "pipeline_recommender = PipelineRecommender(\n",
    "    URM_all, \n",
    "    recommenders=[hybrid_similarity, recommender_slim],\n",
    "    cutoffs=[params['cutoff'], 10]\n",
    ")"
   ]
  },
  {
   "cell_type": "code",
   "execution_count": 39,
   "id": "216398bb",
   "metadata": {
    "execution": {
     "iopub.execute_input": "2023-12-04T19:03:21.975397Z",
     "iopub.status.busy": "2023-12-04T19:03:21.974821Z",
     "iopub.status.idle": "2023-12-04T19:03:42.193957Z",
     "shell.execute_reply": "2023-12-04T19:03:42.192285Z"
    },
    "papermill": {
     "duration": 20.39701,
     "end_time": "2023-12-04T19:03:42.197462",
     "exception": false,
     "start_time": "2023-12-04T19:03:21.800452",
     "status": "completed"
    },
    "tags": []
   },
   "outputs": [
    {
     "data": {
      "text/html": [
       "<div>\n",
       "<style scoped>\n",
       "    .dataframe tbody tr th:only-of-type {\n",
       "        vertical-align: middle;\n",
       "    }\n",
       "\n",
       "    .dataframe tbody tr th {\n",
       "        vertical-align: top;\n",
       "    }\n",
       "\n",
       "    .dataframe thead th {\n",
       "        text-align: right;\n",
       "    }\n",
       "</style>\n",
       "<table border=\"1\" class=\"dataframe\">\n",
       "  <thead>\n",
       "    <tr style=\"text-align: right;\">\n",
       "      <th></th>\n",
       "      <th>user_id</th>\n",
       "      <th>item_list</th>\n",
       "    </tr>\n",
       "  </thead>\n",
       "  <tbody>\n",
       "    <tr>\n",
       "      <th>0</th>\n",
       "      <td>1</td>\n",
       "      <td>101 36 123 506 515 403 694 1546 1422 592</td>\n",
       "    </tr>\n",
       "    <tr>\n",
       "      <th>1</th>\n",
       "      <td>2</td>\n",
       "      <td>1095 12 47 1522 50 656 949 359 196 102</td>\n",
       "    </tr>\n",
       "    <tr>\n",
       "      <th>2</th>\n",
       "      <td>3</td>\n",
       "      <td>59 857 2172 1281 2748 536 259 584 970 239</td>\n",
       "    </tr>\n",
       "    <tr>\n",
       "      <th>3</th>\n",
       "      <td>4</td>\n",
       "      <td>249 28 50 314 146 139 171 5 254 7</td>\n",
       "    </tr>\n",
       "    <tr>\n",
       "      <th>4</th>\n",
       "      <td>5</td>\n",
       "      <td>1570 170 77 95 471 131 5138 135 116 7033</td>\n",
       "    </tr>\n",
       "  </tbody>\n",
       "</table>\n",
       "</div>"
      ],
      "text/plain": [
       "   user_id                                  item_list\n",
       "0        1   101 36 123 506 515 403 694 1546 1422 592\n",
       "1        2     1095 12 47 1522 50 656 949 359 196 102\n",
       "2        3  59 857 2172 1281 2748 536 259 584 970 239\n",
       "3        4          249 28 50 314 146 139 171 5 254 7\n",
       "4        5   1570 170 77 95 471 131 5138 135 116 7033"
      ]
     },
     "metadata": {},
     "output_type": "display_data"
    }
   ],
   "source": [
    "recommendations = pipeline_recommender.recommend(user_ids_test['user_id'].unique() - 1, cutoff=10, return_scores=False)\n",
    "recommendations = [' '.join([str(item + 1) for item in r]).strip() for r in recommendations]\n",
    "\n",
    "submission_df = pd.DataFrame({'user_id': user_ids_test['user_id'].unique(), 'item_list': recommendations})\n",
    "display(submission_df.head())\n",
    "submission_df.to_csv('/kaggle/working/submission.csv', index=False)"
   ]
  }
 ],
 "metadata": {
  "kaggle": {
   "accelerator": "none",
   "dataSources": [
    {
     "databundleVersionId": 6919098,
     "sourceId": 62803,
     "sourceType": "competition"
    },
    {
     "sourceId": 153423142,
     "sourceType": "kernelVersion"
    }
   ],
   "dockerImageVersionId": 30587,
   "isGpuEnabled": false,
   "isInternetEnabled": true,
   "language": "python",
   "sourceType": "notebook"
  },
  "kernelspec": {
   "display_name": "Python 3",
   "language": "python",
   "name": "python3"
  },
  "language_info": {
   "codemirror_mode": {
    "name": "ipython",
    "version": 3
   },
   "file_extension": ".py",
   "mimetype": "text/x-python",
   "name": "python",
   "nbconvert_exporter": "python",
   "pygments_lexer": "ipython3",
   "version": "3.10.12"
  },
  "papermill": {
   "default_parameters": {},
   "duration": 10055.958248,
   "end_time": "2023-12-04T19:03:45.987415",
   "environment_variables": {},
   "exception": null,
   "input_path": "__notebook__.ipynb",
   "output_path": "__notebook__.ipynb",
   "parameters": {},
   "start_time": "2023-12-04T16:16:10.029167",
   "version": "2.4.0"
  }
 },
 "nbformat": 4,
 "nbformat_minor": 5
}
