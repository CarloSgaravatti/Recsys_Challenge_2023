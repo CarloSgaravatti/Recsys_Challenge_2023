{
 "cells": [
  {
   "cell_type": "code",
   "execution_count": 1,
   "id": "07932009",
   "metadata": {
    "_cell_guid": "b1076dfc-b9ad-4769-8c92-a6c4dae69d19",
    "_uuid": "8f2839f25d086af736a60e9eeb907d3b93b6e0e5",
    "execution": {
     "iopub.execute_input": "2023-12-03T14:12:03.604695Z",
     "iopub.status.busy": "2023-12-03T14:12:03.603349Z",
     "iopub.status.idle": "2023-12-03T14:12:18.008158Z",
     "shell.execute_reply": "2023-12-03T14:12:18.006920Z"
    },
    "papermill": {
     "duration": 14.417576,
     "end_time": "2023-12-03T14:12:18.011271",
     "exception": false,
     "start_time": "2023-12-03T14:12:03.593695",
     "status": "completed"
    },
    "tags": []
   },
   "outputs": [
    {
     "name": "stdout",
     "output_type": "stream",
     "text": [
      "Cloning into 'Recsys_Challenge_2023'...\r\n",
      "remote: Enumerating objects: 1716, done.\u001b[K\r\n",
      "remote: Counting objects: 100% (565/565), done.\u001b[K\r\n",
      "remote: Compressing objects: 100% (274/274), done.\u001b[K\r\n",
      "remote: Total 1716 (delta 440), reused 369 (delta 288), pack-reused 1151\u001b[K\r\n",
      "Receiving objects: 100% (1716/1716), 157.09 MiB | 34.96 MiB/s, done.\r\n",
      "Resolving deltas: 100% (1270/1270), done.\r\n"
     ]
    }
   ],
   "source": [
    "from kaggle_secrets import UserSecretsClient\n",
    "secret_label = \"Token\"\n",
    "token = UserSecretsClient().get_secret(secret_label)\n",
    "\n",
    "! git clone https://{token}@github.com/CarloSgaravatti/Recsys_Challenge_2023.git"
   ]
  },
  {
   "cell_type": "code",
   "execution_count": 2,
   "id": "99acae73",
   "metadata": {
    "execution": {
     "iopub.execute_input": "2023-12-03T14:12:18.036734Z",
     "iopub.status.busy": "2023-12-03T14:12:18.036277Z",
     "iopub.status.idle": "2023-12-03T14:12:35.388234Z",
     "shell.execute_reply": "2023-12-03T14:12:35.386495Z"
    },
    "papermill": {
     "duration": 17.36865,
     "end_time": "2023-12-03T14:12:35.391797",
     "exception": false,
     "start_time": "2023-12-03T14:12:18.023147",
     "status": "completed"
    },
    "tags": []
   },
   "outputs": [
    {
     "name": "stdout",
     "output_type": "stream",
     "text": [
      "Collecting PyGithub\r\n",
      "  Obtaining dependency information for PyGithub from https://files.pythonhosted.org/packages/be/04/810d131be173cba445d3658a45512b2b2b3d0960d52c4a300d6ec5e00f52/PyGithub-2.1.1-py3-none-any.whl.metadata\r\n",
      "  Downloading PyGithub-2.1.1-py3-none-any.whl.metadata (2.2 kB)\r\n",
      "Requirement already satisfied: requests in /opt/conda/lib/python3.10/site-packages (2.31.0)\r\n",
      "Collecting pynacl>=1.4.0 (from PyGithub)\r\n",
      "  Downloading PyNaCl-1.5.0-cp36-abi3-manylinux_2_17_x86_64.manylinux2014_x86_64.manylinux_2_24_x86_64.whl (856 kB)\r\n",
      "\u001b[2K     \u001b[90m━━━━━━━━━━━━━━━━━━━━━━━━━━━━━━━━━━━━━━\u001b[0m \u001b[32m856.7/856.7 kB\u001b[0m \u001b[31m15.2 MB/s\u001b[0m eta \u001b[36m0:00:00\u001b[0m\r\n",
      "\u001b[?25hRequirement already satisfied: python-dateutil in /opt/conda/lib/python3.10/site-packages (from PyGithub) (2.8.2)\r\n",
      "Requirement already satisfied: pyjwt[crypto]>=2.4.0 in /opt/conda/lib/python3.10/site-packages (from PyGithub) (2.8.0)\r\n",
      "Requirement already satisfied: typing-extensions>=4.0.0 in /opt/conda/lib/python3.10/site-packages (from PyGithub) (4.5.0)\r\n",
      "Requirement already satisfied: urllib3>=1.26.0 in /opt/conda/lib/python3.10/site-packages (from PyGithub) (1.26.15)\r\n",
      "Requirement already satisfied: Deprecated in /opt/conda/lib/python3.10/site-packages (from PyGithub) (1.2.14)\r\n",
      "Requirement already satisfied: charset-normalizer<4,>=2 in /opt/conda/lib/python3.10/site-packages (from requests) (3.2.0)\r\n",
      "Requirement already satisfied: idna<4,>=2.5 in /opt/conda/lib/python3.10/site-packages (from requests) (3.4)\r\n",
      "Requirement already satisfied: certifi>=2017.4.17 in /opt/conda/lib/python3.10/site-packages (from requests) (2023.7.22)\r\n",
      "Requirement already satisfied: cryptography>=3.4.0 in /opt/conda/lib/python3.10/site-packages (from pyjwt[crypto]>=2.4.0->PyGithub) (41.0.3)\r\n",
      "Requirement already satisfied: cffi>=1.4.1 in /opt/conda/lib/python3.10/site-packages (from pynacl>=1.4.0->PyGithub) (1.15.1)\r\n",
      "Requirement already satisfied: wrapt<2,>=1.10 in /opt/conda/lib/python3.10/site-packages (from Deprecated->PyGithub) (1.15.0)\r\n",
      "Requirement already satisfied: six>=1.5 in /opt/conda/lib/python3.10/site-packages (from python-dateutil->PyGithub) (1.16.0)\r\n",
      "Requirement already satisfied: pycparser in /opt/conda/lib/python3.10/site-packages (from cffi>=1.4.1->pynacl>=1.4.0->PyGithub) (2.21)\r\n",
      "Downloading PyGithub-2.1.1-py3-none-any.whl (302 kB)\r\n",
      "\u001b[2K   \u001b[90m━━━━━━━━━━━━━━━━━━━━━━━━━━━━━━━━━━━━━━━━\u001b[0m \u001b[32m302.9/302.9 kB\u001b[0m \u001b[31m19.2 MB/s\u001b[0m eta \u001b[36m0:00:00\u001b[0m\r\n",
      "\u001b[?25hInstalling collected packages: pynacl, PyGithub\r\n",
      "Successfully installed PyGithub-2.1.1 pynacl-1.5.0\r\n"
     ]
    }
   ],
   "source": [
    "! pip install PyGithub requests"
   ]
  },
  {
   "cell_type": "code",
   "execution_count": 3,
   "id": "1e0d912e",
   "metadata": {
    "_kg_hide-output": true,
    "execution": {
     "iopub.execute_input": "2023-12-03T14:12:35.420482Z",
     "iopub.status.busy": "2023-12-03T14:12:35.420000Z",
     "iopub.status.idle": "2023-12-03T14:15:28.756608Z",
     "shell.execute_reply": "2023-12-03T14:15:28.755054Z"
    },
    "papermill": {
     "duration": 173.355382,
     "end_time": "2023-12-03T14:15:28.759976",
     "exception": false,
     "start_time": "2023-12-03T14:12:35.404594",
     "status": "completed"
    },
    "scrolled": true,
    "tags": []
   },
   "outputs": [
    {
     "name": "stdout",
     "output_type": "stream",
     "text": [
      "run_compile_all_cython: Found 10 Cython files in 4 folders...\r\n",
      "run_compile_all_cython: All files will be compiled using your current python environment: '/opt/conda/bin/python'\r\n",
      "Compiling [1/10]: MatrixFactorization_Cython_Epoch.pyx... \r\n",
      "In file included from \u001b[01m\u001b[K/opt/conda/lib/python3.10/site-packages/numpy/core/include/numpy/ndarraytypes.h:1940\u001b[m\u001b[K,\r\n",
      "                 from \u001b[01m\u001b[K/opt/conda/lib/python3.10/site-packages/numpy/core/include/numpy/ndarrayobject.h:12\u001b[m\u001b[K,\r\n",
      "                 from \u001b[01m\u001b[K/opt/conda/lib/python3.10/site-packages/numpy/core/include/numpy/arrayobject.h:5\u001b[m\u001b[K,\r\n",
      "                 from \u001b[01m\u001b[KMatrixFactorization_Cython_Epoch.c:1109\u001b[m\u001b[K:\r\n",
      "\u001b[01m\u001b[K/opt/conda/lib/python3.10/site-packages/numpy/core/include/numpy/npy_1_7_deprecated_api.h:17:2:\u001b[m\u001b[K \u001b[01;35m\u001b[Kwarning: \u001b[m\u001b[K#warning \"Using deprecated NumPy API, disable it with \" \"#define NPY_NO_DEPRECATED_API NPY_1_7_API_VERSION\" [\u001b[01;35m\u001b[K-Wcpp\u001b[m\u001b[K]\r\n",
      "   17 | #\u001b[01;35m\u001b[Kwarning\u001b[m\u001b[K \"Using deprecated NumPy API, disable it with \" \\\r\n",
      "      |  \u001b[01;35m\u001b[K^~~~~~~\u001b[m\u001b[K\r\n",
      "\u001b[01m\u001b[KMatrixFactorization_Cython_Epoch.c:\u001b[m\u001b[K In function ‘\u001b[01m\u001b[K__pyx_pf_32MatrixFactorization_Cython_Epoch_32MatrixFactorization_Cython_Epoch_10epochIteration_Cython_ASY_SVD_SGD\u001b[m\u001b[K’:\r\n",
      "\u001b[01m\u001b[KMatrixFactorization_Cython_Epoch.c:25614:9:\u001b[m\u001b[K \u001b[01;35m\u001b[Kwarning: \u001b[m\u001b[K‘\u001b[01m\u001b[K__pyx_v_end_pos_seen_items\u001b[m\u001b[K’ may be used uninitialized in this function [\u001b[01;35m\u001b[K-Wmaybe-uninitialized\u001b[m\u001b[K]\r\n",
      "25614 |         \u001b[01;35m\u001b[Kfor\u001b[m\u001b[K (__pyx_t_21 = __pyx_v_start_pos_seen_items; __pyx_t_21 < __pyx_t_20; __pyx_t_21+=1) {\r\n",
      "      |         \u001b[01;35m\u001b[K^~~\u001b[m\u001b[K\r\n",
      "\u001b[01m\u001b[KMatrixFactorization_Cython_Epoch.c:25614:9:\u001b[m\u001b[K \u001b[01;35m\u001b[Kwarning: \u001b[m\u001b[K‘\u001b[01m\u001b[K__pyx_v_start_pos_seen_items\u001b[m\u001b[K’ may be used uninitialized in this function [\u001b[01;35m\u001b[K-Wmaybe-uninitialized\u001b[m\u001b[K]\r\n",
      "/opt/conda/lib/python3.10/site-packages/Cython/Compiler/Main.py:381: FutureWarning: Cython directive 'language_level' not set, using '3str' for now (Py3). This has changed from earlier releases! File: /kaggle/working/Recsys_Challenge_2023/Recommenders/MatrixFactorization/Cython/MatrixFactorization_Cython_Epoch.pyx\r\n",
      "  tree = Parsing.p_module(s, pxd, full_module_name)\r\n",
      "Compiling [1/10]: MatrixFactorization_Cython_Epoch.pyx... PASS\r\n",
      "\r\n",
      "Compiling [2/10]: MatrixFactorizationImpressions_Cython_Epoch.pyx... \r\n",
      "In file included from \u001b[01m\u001b[K/opt/conda/lib/python3.10/site-packages/numpy/core/include/numpy/ndarraytypes.h:1940\u001b[m\u001b[K,\r\n",
      "                 from \u001b[01m\u001b[K/opt/conda/lib/python3.10/site-packages/numpy/core/include/numpy/ndarrayobject.h:12\u001b[m\u001b[K,\r\n",
      "                 from \u001b[01m\u001b[K/opt/conda/lib/python3.10/site-packages/numpy/core/include/numpy/arrayobject.h:5\u001b[m\u001b[K,\r\n",
      "                 from \u001b[01m\u001b[KMatrixFactorizationImpressions_Cython_Epoch.c:1109\u001b[m\u001b[K:\r\n",
      "\u001b[01m\u001b[K/opt/conda/lib/python3.10/site-packages/numpy/core/include/numpy/npy_1_7_deprecated_api.h:17:2:\u001b[m\u001b[K \u001b[01;35m\u001b[Kwarning: \u001b[m\u001b[K#warning \"Using deprecated NumPy API, disable it with \" \"#define NPY_NO_DEPRECATED_API NPY_1_7_API_VERSION\" [\u001b[01;35m\u001b[K-Wcpp\u001b[m\u001b[K]\r\n",
      "   17 | #\u001b[01;35m\u001b[Kwarning\u001b[m\u001b[K \"Using deprecated NumPy API, disable it with \" \\\r\n",
      "      |  \u001b[01;35m\u001b[K^~~~~~~\u001b[m\u001b[K\r\n",
      "\u001b[01m\u001b[KMatrixFactorizationImpressions_Cython_Epoch.c:\u001b[m\u001b[K In function ‘\u001b[01m\u001b[K__pyx_f_43MatrixFactorizationImpressions_Cython_Epoch_32MatrixFactorization_Cython_Epoch_sampleBPR_Cython\u001b[m\u001b[K’:\r\n",
      "\u001b[01m\u001b[KMatrixFactorizationImpressions_Cython_Epoch.c:29664:17:\u001b[m\u001b[K \u001b[01;35m\u001b[Kwarning: \u001b[m\u001b[K‘\u001b[01m\u001b[K__pyx_v_start_pos_impression_items\u001b[m\u001b[K’ may be used uninitialized in this function [\u001b[01;35m\u001b[K-Wmaybe-uninitialized\u001b[m\u001b[K]\r\n",
      "29664 |       \u001b[01;35m\u001b[K__pyx_t_4 = (__pyx_v_start_pos_impression_items + __pyx_v_index)\u001b[m\u001b[K;\r\n",
      "      |       \u001b[01;35m\u001b[K~~~~~~~~~~^~~~~~~~~~~~~~~~~~~~~~~~~~~~~~~~~~~~~~~~~~~~~~~~~~~~~~\u001b[m\u001b[K\r\n",
      "\u001b[01m\u001b[KMatrixFactorizationImpressions_Cython_Epoch.c:\u001b[m\u001b[K In function ‘\u001b[01m\u001b[K__pyx_pf_43MatrixFactorizationImpressions_Cython_Epoch_32MatrixFactorization_Cython_Epoch_10epochIteration_Cython_ASY_SVD_SGD\u001b[m\u001b[K’:\r\n",
      "\u001b[01m\u001b[KMatrixFactorizationImpressions_Cython_Epoch.c:25474:7:\u001b[m\u001b[K \u001b[01;35m\u001b[Kwarning: \u001b[m\u001b[K‘\u001b[01m\u001b[K__pyx_v_end_pos_seen_items\u001b[m\u001b[K’ may be used uninitialized in this function [\u001b[01;35m\u001b[K-Wmaybe-uninitialized\u001b[m\u001b[K]\r\n",
      "25474 |       \u001b[01;35m\u001b[Kfor\u001b[m\u001b[K (__pyx_t_21 = __pyx_v_start_pos_seen_items; __pyx_t_21 < __pyx_t_20; __pyx_t_21+=1) {\r\n",
      "      |       \u001b[01;35m\u001b[K^~~\u001b[m\u001b[K\r\n",
      "\u001b[01m\u001b[KMatrixFactorizationImpressions_Cython_Epoch.c:25474:7:\u001b[m\u001b[K \u001b[01;35m\u001b[Kwarning: \u001b[m\u001b[K‘\u001b[01m\u001b[K__pyx_v_start_pos_seen_items\u001b[m\u001b[K’ may be used uninitialized in this function [\u001b[01;35m\u001b[K-Wmaybe-uninitialized\u001b[m\u001b[K]\r\n",
      "/opt/conda/lib/python3.10/site-packages/Cython/Compiler/Main.py:381: FutureWarning: Cython directive 'language_level' not set, using '3str' for now (Py3). This has changed from earlier releases! File: /kaggle/working/Recsys_Challenge_2023/Recommenders/MatrixFactorization/Cython/MatrixFactorizationImpressions_Cython_Epoch.pyx\r\n",
      "  tree = Parsing.p_module(s, pxd, full_module_name)\r\n",
      "Compiling [2/10]: MatrixFactorizationImpressions_Cython_Epoch.pyx... PASS\r\n",
      "\r\n",
      "Compiling [3/10]: Compute_Similarity_Cython.pyx... \r\n",
      "warning: Compute_Similarity_Cython.pyx:21:0: The 'IF' statement is deprecated and will be removed in a future Cython version. Consider using runtime conditions or C macros instead. See https://github.com/cython/cython/issues/4310\r\n",
      "warning: Compute_Similarity_Cython.pyx:22:4: The 'DEF' statement is deprecated and will be removed in a future Cython version. Consider using global variables, constants, and in-place literals instead. See https://github.com/cython/cython/issues/4310\r\n",
      "warning: Compute_Similarity_Cython.pyx:24:4: The 'DEF' statement is deprecated and will be removed in a future Cython version. Consider using global variables, constants, and in-place literals instead. See https://github.com/cython/cython/issues/4310\r\n",
      "warning: Compute_Similarity_Cython.pyx:26:4: The 'DEF' statement is deprecated and will be removed in a future Cython version. Consider using global variables, constants, and in-place literals instead. See https://github.com/cython/cython/issues/4310\r\n",
      "In file included from \u001b[01m\u001b[K/opt/conda/lib/python3.10/site-packages/numpy/core/include/numpy/ndarraytypes.h:1940\u001b[m\u001b[K,\r\n",
      "                 from \u001b[01m\u001b[K/opt/conda/lib/python3.10/site-packages/numpy/core/include/numpy/ndarrayobject.h:12\u001b[m\u001b[K,\r\n",
      "                 from \u001b[01m\u001b[K/opt/conda/lib/python3.10/site-packages/numpy/core/include/numpy/arrayobject.h:5\u001b[m\u001b[K,\r\n",
      "                 from \u001b[01m\u001b[KCompute_Similarity_Cython.c:1109\u001b[m\u001b[K:\r\n",
      "\u001b[01m\u001b[K/opt/conda/lib/python3.10/site-packages/numpy/core/include/numpy/npy_1_7_deprecated_api.h:17:2:\u001b[m\u001b[K \u001b[01;35m\u001b[Kwarning: \u001b[m\u001b[K#warning \"Using deprecated NumPy API, disable it with \" \"#define NPY_NO_DEPRECATED_API NPY_1_7_API_VERSION\" [\u001b[01;35m\u001b[K-Wcpp\u001b[m\u001b[K]\r\n",
      "   17 | #\u001b[01;35m\u001b[Kwarning\u001b[m\u001b[K \"Using deprecated NumPy API, disable it with \" \\\r\n",
      "      |  \u001b[01;35m\u001b[K^~~~~~~\u001b[m\u001b[K\r\n",
      "/opt/conda/lib/python3.10/site-packages/Cython/Compiler/Main.py:381: FutureWarning: Cython directive 'language_level' not set, using '3str' for now (Py3). This has changed from earlier releases! File: /kaggle/working/Recsys_Challenge_2023/Recommenders/Similarity/Cython/Compute_Similarity_Cython.pyx\r\n",
      "  tree = Parsing.p_module(s, pxd, full_module_name)\r\n",
      "warning: Compute_Similarity_Cython.pyx:21:0: The 'IF' statement is deprecated and will be removed in a future Cython version. Consider using runtime conditions or C macros instead. See https://github.com/cython/cython/issues/4310\r\n",
      "warning: Compute_Similarity_Cython.pyx:22:4: The 'DEF' statement is deprecated and will be removed in a future Cython version. Consider using global variables, constants, and in-place literals instead. See https://github.com/cython/cython/issues/4310\r\n",
      "warning: Compute_Similarity_Cython.pyx:24:4: The 'DEF' statement is deprecated and will be removed in a future Cython version. Consider using global variables, constants, and in-place literals instead. See https://github.com/cython/cython/issues/4310\r\n",
      "warning: Compute_Similarity_Cython.pyx:26:4: The 'DEF' statement is deprecated and will be removed in a future Cython version. Consider using global variables, constants, and in-place literals instead. See https://github.com/cython/cython/issues/4310\r\n",
      "Compiling [3/10]: Compute_Similarity_Cython.pyx... PASS\r\n",
      "\r\n",
      "Compiling [4/10]: SLIM_BPR_Cython_Epoch.pyx... \r\n",
      "warning: SLIM_BPR_Cython_Epoch.pyx:24:0: The 'IF' statement is deprecated and will be removed in a future Cython version. Consider using runtime conditions or C macros instead. See https://github.com/cython/cython/issues/4310\r\n",
      "warning: SLIM_BPR_Cython_Epoch.pyx:25:4: The 'DEF' statement is deprecated and will be removed in a future Cython version. Consider using global variables, constants, and in-place literals instead. See https://github.com/cython/cython/issues/4310\r\n",
      "warning: SLIM_BPR_Cython_Epoch.pyx:27:4: The 'DEF' statement is deprecated and will be removed in a future Cython version. Consider using global variables, constants, and in-place literals instead. See https://github.com/cython/cython/issues/4310\r\n",
      "warning: SLIM_BPR_Cython_Epoch.pyx:29:4: The 'DEF' statement is deprecated and will be removed in a future Cython version. Consider using global variables, constants, and in-place literals instead. See https://github.com/cython/cython/issues/4310\r\n",
      "warning: SLIM_BPR_Cython_Epoch.pyx:632:34: Non-trivial type declarators in shared declaration (e.g. mix of pointers and values). Each pointer declaration should be on its own line.\r\n",
      "warning: SLIM_BPR_Cython_Epoch.pyx:632:66: Non-trivial type declarators in shared declaration (e.g. mix of pointers and values). Each pointer declaration should be on its own line.\r\n",
      "warning: SLIM_BPR_Cython_Epoch.pyx:817:35: Non-trivial type declarators in shared declaration (e.g. mix of pointers and values). Each pointer declaration should be on its own line.\r\n",
      "warning: SLIM_BPR_Cython_Epoch.pyx:817:52: Non-trivial type declarators in shared declaration (e.g. mix of pointers and values). Each pointer declaration should be on its own line.\r\n",
      "warning: SLIM_BPR_Cython_Epoch.pyx:916:35: Non-trivial type declarators in shared declaration (e.g. mix of pointers and values). Each pointer declaration should be on its own line.\r\n",
      "warning: SLIM_BPR_Cython_Epoch.pyx:916:53: Non-trivial type declarators in shared declaration (e.g. mix of pointers and values). Each pointer declaration should be on its own line.\r\n",
      "warning: SLIM_BPR_Cython_Epoch.pyx:916:69: Non-trivial type declarators in shared declaration (e.g. mix of pointers and values). Each pointer declaration should be on its own line.\r\n",
      "warning: SLIM_BPR_Cython_Epoch.pyx:1051:35: Non-trivial type declarators in shared declaration (e.g. mix of pointers and values). Each pointer declaration should be on its own line.\r\n",
      "warning: SLIM_BPR_Cython_Epoch.pyx:1051:42: Non-trivial type declarators in shared declaration (e.g. mix of pointers and values). Each pointer declaration should be on its own line.\r\n",
      "warning: SLIM_BPR_Cython_Epoch.pyx:1052:35: Non-trivial type declarators in shared declaration (e.g. mix of pointers and values). Each pointer declaration should be on its own line.\r\n",
      "warning: SLIM_BPR_Cython_Epoch.pyx:1052:53: Non-trivial type declarators in shared declaration (e.g. mix of pointers and values). Each pointer declaration should be on its own line.\r\n",
      "\r\n",
      "Error compiling Cython file:\r\n",
      "------------------------------------------------------------\r\n",
      "...\r\n",
      "            vector_pointer_to_list_elements[index].head = current_element\r\n",
      "            current_element = current_element.higher\r\n",
      "\r\n",
      "\r\n",
      "        # Sort array elements on their data field\r\n",
      "        qsort(vector_pointer_to_list_elements, list_length, sizeof(head_pointer_tree_s), compare_struct_on_data)\r\n",
      "                                                                                         ^\r\n",
      "------------------------------------------------------------\r\n",
      "\r\n",
      "SLIM_BPR_Cython_Epoch.pyx:990:89: Cannot assign type 'int (const void *, const void *) except? -1' to 'int (*)(const_void *, const_void *) noexcept'\r\n",
      "\r\n",
      "Error compiling Cython file:\r\n",
      "------------------------------------------------------------\r\n",
      "...\r\n",
      "        # Sort array elements on their data field\r\n",
      "        qsort(vector_pointer_to_list_elements, list_length, sizeof(head_pointer_tree_s), compare_struct_on_data)\r\n",
      "\r\n",
      "        # Sort only the TopK according to their column field\r\n",
      "        # Sort is from lower to higher, therefore the elements to be considered are from len-topK to len\r\n",
      "        qsort(&vector_pointer_to_list_elements[list_length-TopK], TopK, sizeof(head_pointer_tree_s), compare_struct_on_column)\r\n",
      "                                                                                                     ^\r\n",
      "------------------------------------------------------------\r\n",
      "\r\n",
      "SLIM_BPR_Cython_Epoch.pyx:994:101: Cannot assign type 'int (const void *, const void *) except? -1' to 'int (*)(const_void *, const_void *) noexcept'\r\n",
      "Traceback (most recent call last):\r\n",
      "  File \"/kaggle/working/Recsys_Challenge_2023/CythonCompiler/compile_script.py\", line 48, in <module>\r\n",
      "    setup(\r\n",
      "  File \"/opt/conda/lib/python3.10/site-packages/setuptools/__init__.py\", line 107, in setup\r\n",
      "    return distutils.core.setup(**attrs)\r\n",
      "  File \"/opt/conda/lib/python3.10/site-packages/setuptools/_distutils/core.py\", line 185, in setup\r\n",
      "    return run_commands(dist)\r\n",
      "  File \"/opt/conda/lib/python3.10/site-packages/setuptools/_distutils/core.py\", line 201, in run_commands\r\n",
      "    dist.run_commands()\r\n",
      "  File \"/opt/conda/lib/python3.10/site-packages/setuptools/_distutils/dist.py\", line 969, in run_commands\r\n",
      "    self.run_command(cmd)\r\n",
      "  File \"/opt/conda/lib/python3.10/site-packages/setuptools/dist.py\", line 1233, in run_command\r\n",
      "    super().run_command(command)\r\n",
      "  File \"/opt/conda/lib/python3.10/site-packages/setuptools/_distutils/dist.py\", line 988, in run_command\r\n",
      "    cmd_obj.run()\r\n",
      "  File \"/opt/conda/lib/python3.10/site-packages/setuptools/_distutils/command/build_ext.py\", line 345, in run\r\n",
      "    self.build_extensions()\r\n",
      "  File \"/opt/conda/lib/python3.10/site-packages/setuptools/_distutils/command/build_ext.py\", line 467, in build_extensions\r\n",
      "    self._build_extensions_serial()\r\n",
      "  File \"/opt/conda/lib/python3.10/site-packages/setuptools/_distutils/command/build_ext.py\", line 493, in _build_extensions_serial\r\n",
      "    self.build_extension(ext)\r\n",
      "  File \"/opt/conda/lib/python3.10/site-packages/Cython/Distutils/build_ext.py\", line 122, in build_extension\r\n",
      "    new_ext = cythonize(\r\n",
      "  File \"/opt/conda/lib/python3.10/site-packages/Cython/Build/Dependencies.py\", line 1134, in cythonize\r\n",
      "    cythonize_one(*args)\r\n",
      "  File \"/opt/conda/lib/python3.10/site-packages/Cython/Build/Dependencies.py\", line 1301, in cythonize_one\r\n",
      "    raise CompileError(None, pyx_file)\r\n",
      "Cython.Compiler.Errors.CompileError: SLIM_BPR_Cython_Epoch.pyx\r\n",
      "Traceback (most recent call last):\r\n",
      "  File \"/kaggle/working/Recsys_Challenge_2023/run_compile_all_cython.py\", line 59, in <module>\r\n",
      "    run_compile_subprocess(file_path, [file_name])\r\n",
      "  File \"/kaggle/working/Recsys_Challenge_2023/CythonCompiler/run_compile_subprocess.py\", line 51, in run_compile_subprocess\r\n",
      "    raise exc\r\n",
      "  File \"/kaggle/working/Recsys_Challenge_2023/CythonCompiler/run_compile_subprocess.py\", line 32, in run_compile_subprocess\r\n",
      "    output = subprocess.check_output(' '.join(command),\r\n",
      "  File \"/opt/conda/lib/python3.10/subprocess.py\", line 421, in check_output\r\n",
      "    return run(*popenargs, stdout=PIPE, timeout=timeout, check=True,\r\n",
      "  File \"/opt/conda/lib/python3.10/subprocess.py\", line 526, in run\r\n",
      "    raise CalledProcessError(retcode, process.args,\r\n",
      "subprocess.CalledProcessError: Command '/opt/conda/bin/python /kaggle/working/Recsys_Challenge_2023/CythonCompiler/compile_script.py SLIM_BPR_Cython_Epoch.pyx build_ext --inplace' returned non-zero exit status 1.\r\n",
      "Compiling [4/10]: SLIM_BPR_Cython_Epoch.pyx... FAIL: Command '/opt/conda/bin/python /kaggle/working/Recsys_Challenge_2023/CythonCompiler/compile_script.py SLIM_BPR_Cython_Epoch.pyx build_ext --inplace' returned non-zero exit status 1.\r\n",
      "\r\n",
      "Compiling [5/10]: Sparse_Matrix_Tree_CSR.pyx... \r\n",
      "warning: Sparse_Matrix_Tree_CSR.pyx:132:34: Non-trivial type declarators in shared declaration (e.g. mix of pointers and values). Each pointer declaration should be on its own line.\r\n",
      "warning: Sparse_Matrix_Tree_CSR.pyx:132:66: Non-trivial type declarators in shared declaration (e.g. mix of pointers and values). Each pointer declaration should be on its own line.\r\n",
      "warning: Sparse_Matrix_Tree_CSR.pyx:343:35: Non-trivial type declarators in shared declaration (e.g. mix of pointers and values). Each pointer declaration should be on its own line.\r\n",
      "warning: Sparse_Matrix_Tree_CSR.pyx:343:52: Non-trivial type declarators in shared declaration (e.g. mix of pointers and values). Each pointer declaration should be on its own line.\r\n",
      "warning: Sparse_Matrix_Tree_CSR.pyx:442:35: Non-trivial type declarators in shared declaration (e.g. mix of pointers and values). Each pointer declaration should be on its own line.\r\n",
      "warning: Sparse_Matrix_Tree_CSR.pyx:442:53: Non-trivial type declarators in shared declaration (e.g. mix of pointers and values). Each pointer declaration should be on its own line.\r\n",
      "warning: Sparse_Matrix_Tree_CSR.pyx:442:69: Non-trivial type declarators in shared declaration (e.g. mix of pointers and values). Each pointer declaration should be on its own line.\r\n",
      "warning: Sparse_Matrix_Tree_CSR.pyx:577:35: Non-trivial type declarators in shared declaration (e.g. mix of pointers and values). Each pointer declaration should be on its own line.\r\n",
      "warning: Sparse_Matrix_Tree_CSR.pyx:577:42: Non-trivial type declarators in shared declaration (e.g. mix of pointers and values). Each pointer declaration should be on its own line.\r\n",
      "warning: Sparse_Matrix_Tree_CSR.pyx:578:35: Non-trivial type declarators in shared declaration (e.g. mix of pointers and values). Each pointer declaration should be on its own line.\r\n",
      "warning: Sparse_Matrix_Tree_CSR.pyx:578:53: Non-trivial type declarators in shared declaration (e.g. mix of pointers and values). Each pointer declaration should be on its own line.\r\n",
      "\r\n",
      "Error compiling Cython file:\r\n",
      "------------------------------------------------------------\r\n",
      "...\r\n",
      "            vector_pointer_to_list_elements[index].head = current_element\r\n",
      "            current_element = current_element.higher\r\n",
      "\r\n",
      "\r\n",
      "        # Sort array elements on their data field\r\n",
      "        qsort(vector_pointer_to_list_elements, list_length, sizeof(head_pointer_tree_s), compare_struct_on_data)\r\n",
      "                                                                                         ^\r\n",
      "------------------------------------------------------------\r\n",
      "\r\n",
      "Sparse_Matrix_Tree_CSR.pyx:516:89: Cannot assign type 'int (const void *, const void *) except? -1' to 'int (*)(const_void *, const_void *) noexcept'\r\n",
      "\r\n",
      "Error compiling Cython file:\r\n",
      "------------------------------------------------------------\r\n",
      "...\r\n",
      "        # Sort array elements on their data field\r\n",
      "        qsort(vector_pointer_to_list_elements, list_length, sizeof(head_pointer_tree_s), compare_struct_on_data)\r\n",
      "\r\n",
      "        # Sort only the TopK according to their column field\r\n",
      "        # Sort is from lower to higher, therefore the elements to be considered are from len-topK to len\r\n",
      "        qsort(&vector_pointer_to_list_elements[list_length-TopK], TopK, sizeof(head_pointer_tree_s), compare_struct_on_column)\r\n",
      "                                                                                                     ^\r\n",
      "------------------------------------------------------------\r\n",
      "\r\n",
      "Sparse_Matrix_Tree_CSR.pyx:520:101: Cannot assign type 'int (const void *, const void *) except? -1' to 'int (*)(const_void *, const_void *) noexcept'\r\n",
      "Traceback (most recent call last):\r\n",
      "  File \"/kaggle/working/Recsys_Challenge_2023/CythonCompiler/compile_script.py\", line 48, in <module>\r\n",
      "    setup(\r\n",
      "  File \"/opt/conda/lib/python3.10/site-packages/setuptools/__init__.py\", line 107, in setup\r\n",
      "    return distutils.core.setup(**attrs)\r\n",
      "  File \"/opt/conda/lib/python3.10/site-packages/setuptools/_distutils/core.py\", line 185, in setup\r\n",
      "    return run_commands(dist)\r\n",
      "  File \"/opt/conda/lib/python3.10/site-packages/setuptools/_distutils/core.py\", line 201, in run_commands\r\n",
      "    dist.run_commands()\r\n",
      "  File \"/opt/conda/lib/python3.10/site-packages/setuptools/_distutils/dist.py\", line 969, in run_commands\r\n",
      "    self.run_command(cmd)\r\n",
      "  File \"/opt/conda/lib/python3.10/site-packages/setuptools/dist.py\", line 1233, in run_command\r\n",
      "    super().run_command(command)\r\n",
      "  File \"/opt/conda/lib/python3.10/site-packages/setuptools/_distutils/dist.py\", line 988, in run_command\r\n",
      "    cmd_obj.run()\r\n",
      "  File \"/opt/conda/lib/python3.10/site-packages/setuptools/_distutils/command/build_ext.py\", line 345, in run\r\n",
      "    self.build_extensions()\r\n",
      "  File \"/opt/conda/lib/python3.10/site-packages/setuptools/_distutils/command/build_ext.py\", line 467, in build_extensions\r\n",
      "    self._build_extensions_serial()\r\n",
      "  File \"/opt/conda/lib/python3.10/site-packages/setuptools/_distutils/command/build_ext.py\", line 493, in _build_extensions_serial\r\n",
      "    self.build_extension(ext)\r\n",
      "  File \"/opt/conda/lib/python3.10/site-packages/Cython/Distutils/build_ext.py\", line 122, in build_extension\r\n",
      "    new_ext = cythonize(\r\n",
      "  File \"/opt/conda/lib/python3.10/site-packages/Cython/Build/Dependencies.py\", line 1134, in cythonize\r\n",
      "    cythonize_one(*args)\r\n",
      "  File \"/opt/conda/lib/python3.10/site-packages/Cython/Build/Dependencies.py\", line 1301, in cythonize_one\r\n",
      "    raise CompileError(None, pyx_file)\r\n",
      "Cython.Compiler.Errors.CompileError: Sparse_Matrix_Tree_CSR.pyx\r\n",
      "Traceback (most recent call last):\r\n",
      "  File \"/kaggle/working/Recsys_Challenge_2023/run_compile_all_cython.py\", line 59, in <module>\r\n",
      "    run_compile_subprocess(file_path, [file_name])\r\n",
      "  File \"/kaggle/working/Recsys_Challenge_2023/CythonCompiler/run_compile_subprocess.py\", line 51, in run_compile_subprocess\r\n",
      "    raise exc\r\n",
      "  File \"/kaggle/working/Recsys_Challenge_2023/CythonCompiler/run_compile_subprocess.py\", line 32, in run_compile_subprocess\r\n",
      "    output = subprocess.check_output(' '.join(command),\r\n",
      "  File \"/opt/conda/lib/python3.10/subprocess.py\", line 421, in check_output\r\n",
      "    return run(*popenargs, stdout=PIPE, timeout=timeout, check=True,\r\n",
      "  File \"/opt/conda/lib/python3.10/subprocess.py\", line 526, in run\r\n",
      "    raise CalledProcessError(retcode, process.args,\r\n",
      "subprocess.CalledProcessError: Command '/opt/conda/bin/python /kaggle/working/Recsys_Challenge_2023/CythonCompiler/compile_script.py Sparse_Matrix_Tree_CSR.pyx build_ext --inplace' returned non-zero exit status 1.\r\n",
      "Compiling [5/10]: Sparse_Matrix_Tree_CSR.pyx... FAIL: Command '/opt/conda/bin/python /kaggle/working/Recsys_Challenge_2023/CythonCompiler/compile_script.py Sparse_Matrix_Tree_CSR.pyx build_ext --inplace' returned non-zero exit status 1.\r\n",
      "\r\n",
      "Compiling [6/10]: Triangular_Matrix.pyx... \r\n",
      "warning: Triangular_Matrix.pyx:22:0: The 'IF' statement is deprecated and will be removed in a future Cython version. Consider using runtime conditions or C macros instead. See https://github.com/cython/cython/issues/4310\r\n",
      "warning: Triangular_Matrix.pyx:23:4: The 'DEF' statement is deprecated and will be removed in a future Cython version. Consider using global variables, constants, and in-place literals instead. See https://github.com/cython/cython/issues/4310\r\n",
      "warning: Triangular_Matrix.pyx:25:4: The 'DEF' statement is deprecated and will be removed in a future Cython version. Consider using global variables, constants, and in-place literals instead. See https://github.com/cython/cython/issues/4310\r\n",
      "warning: Triangular_Matrix.pyx:27:4: The 'DEF' statement is deprecated and will be removed in a future Cython version. Consider using global variables, constants, and in-place literals instead. See https://github.com/cython/cython/issues/4310\r\n",
      "In file included from \u001b[01m\u001b[K/opt/conda/lib/python3.10/site-packages/numpy/core/include/numpy/ndarraytypes.h:1940\u001b[m\u001b[K,\r\n",
      "                 from \u001b[01m\u001b[K/opt/conda/lib/python3.10/site-packages/numpy/core/include/numpy/ndarrayobject.h:12\u001b[m\u001b[K,\r\n",
      "                 from \u001b[01m\u001b[K/opt/conda/lib/python3.10/site-packages/numpy/core/include/numpy/arrayobject.h:5\u001b[m\u001b[K,\r\n",
      "                 from \u001b[01m\u001b[KTriangular_Matrix.c:1109\u001b[m\u001b[K:\r\n",
      "\u001b[01m\u001b[K/opt/conda/lib/python3.10/site-packages/numpy/core/include/numpy/npy_1_7_deprecated_api.h:17:2:\u001b[m\u001b[K \u001b[01;35m\u001b[Kwarning: \u001b[m\u001b[K#warning \"Using deprecated NumPy API, disable it with \" \"#define NPY_NO_DEPRECATED_API NPY_1_7_API_VERSION\" [\u001b[01;35m\u001b[K-Wcpp\u001b[m\u001b[K]\r\n",
      "   17 | #\u001b[01;35m\u001b[Kwarning\u001b[m\u001b[K \"Using deprecated NumPy API, disable it with \" \\\r\n",
      "      |  \u001b[01;35m\u001b[K^~~~~~~\u001b[m\u001b[K\r\n",
      "/opt/conda/lib/python3.10/site-packages/Cython/Compiler/Main.py:381: FutureWarning: Cython directive 'language_level' not set, using '3str' for now (Py3). This has changed from earlier releases! File: /kaggle/working/Recsys_Challenge_2023/Recommenders/SLIM/Cython/Triangular_Matrix.pyx\r\n",
      "  tree = Parsing.p_module(s, pxd, full_module_name)\r\n",
      "warning: Triangular_Matrix.pyx:22:0: The 'IF' statement is deprecated and will be removed in a future Cython version. Consider using runtime conditions or C macros instead. See https://github.com/cython/cython/issues/4310\r\n",
      "warning: Triangular_Matrix.pyx:23:4: The 'DEF' statement is deprecated and will be removed in a future Cython version. Consider using global variables, constants, and in-place literals instead. See https://github.com/cython/cython/issues/4310\r\n",
      "warning: Triangular_Matrix.pyx:25:4: The 'DEF' statement is deprecated and will be removed in a future Cython version. Consider using global variables, constants, and in-place literals instead. See https://github.com/cython/cython/issues/4310\r\n",
      "warning: Triangular_Matrix.pyx:27:4: The 'DEF' statement is deprecated and will be removed in a future Cython version. Consider using global variables, constants, and in-place literals instead. See https://github.com/cython/cython/issues/4310\r\n",
      "Compiling [6/10]: Triangular_Matrix.pyx... PASS\r\n",
      "\r\n",
      "Compiling [7/10]: FBSM_Rating_Cython_SGD.pyx... \r\n",
      "In file included from \u001b[01m\u001b[K/opt/conda/lib/python3.10/site-packages/numpy/core/include/numpy/ndarraytypes.h:1940\u001b[m\u001b[K,\r\n",
      "                 from \u001b[01m\u001b[K/opt/conda/lib/python3.10/site-packages/numpy/core/include/numpy/ndarrayobject.h:12\u001b[m\u001b[K,\r\n",
      "                 from \u001b[01m\u001b[K/opt/conda/lib/python3.10/site-packages/numpy/core/include/numpy/arrayobject.h:5\u001b[m\u001b[K,\r\n",
      "                 from \u001b[01m\u001b[KFBSM_Rating_Cython_SGD.c:1109\u001b[m\u001b[K:\r\n",
      "\u001b[01m\u001b[K/opt/conda/lib/python3.10/site-packages/numpy/core/include/numpy/npy_1_7_deprecated_api.h:17:2:\u001b[m\u001b[K \u001b[01;35m\u001b[Kwarning: \u001b[m\u001b[K#warning \"Using deprecated NumPy API, disable it with \" \"#define NPY_NO_DEPRECATED_API NPY_1_7_API_VERSION\" [\u001b[01;35m\u001b[K-Wcpp\u001b[m\u001b[K]\r\n",
      "   17 | #\u001b[01;35m\u001b[Kwarning\u001b[m\u001b[K \"Using deprecated NumPy API, disable it with \" \\\r\n",
      "      |  \u001b[01;35m\u001b[K^~~~~~~\u001b[m\u001b[K\r\n",
      "\u001b[01m\u001b[KFBSM_Rating_Cython_SGD.c:\u001b[m\u001b[K In function ‘\u001b[01m\u001b[K__pyx_pf_22FBSM_Rating_Cython_SGD_22FBSM_Rating_Cython_SGD_2fit\u001b[m\u001b[K’:\r\n",
      "\u001b[01m\u001b[KFBSM_Rating_Cython_SGD.c:26038:55:\u001b[m\u001b[K \u001b[01;35m\u001b[Kwarning: \u001b[m\u001b[K‘\u001b[01m\u001b[K__pyx_v_num_sample\u001b[m\u001b[K’ may be used uninitialized in this function [\u001b[01;35m\u001b[K-Wmaybe-uninitialized\u001b[m\u001b[K]\r\n",
      "26038 |   __pyx_t_5 = PyFloat_FromDouble((__pyx_v_cum_loss / \u001b[01;35m\u001b[K((double)__pyx_v_num_sample)\u001b[m\u001b[K)); if (unlikely(!__pyx_t_5)) __PYX_ERR(0, 551, __pyx_L1_error)\r\n",
      "      |                                                      \u001b[01;35m\u001b[K~^~~~~~~~~~~~~~~~~~~~~~~~~~~\u001b[m\u001b[K\r\n",
      "/opt/conda/lib/python3.10/site-packages/Cython/Compiler/Main.py:381: FutureWarning: Cython directive 'language_level' not set, using '3str' for now (Py3). This has changed from earlier releases! File: /kaggle/working/Recsys_Challenge_2023/Recommenders/FeatureWeighting/Cython/FBSM_Rating_Cython_SGD.pyx\r\n",
      "  tree = Parsing.p_module(s, pxd, full_module_name)\r\n",
      "Compiling [7/10]: FBSM_Rating_Cython_SGD.pyx... PASS\r\n",
      "\r\n",
      "Compiling [8/10]: CFW_D_Similarity_Cython_SGD.pyx... \r\n",
      "In file included from \u001b[01m\u001b[K/opt/conda/lib/python3.10/site-packages/numpy/core/include/numpy/ndarraytypes.h:1940\u001b[m\u001b[K,\r\n",
      "                 from \u001b[01m\u001b[K/opt/conda/lib/python3.10/site-packages/numpy/core/include/numpy/ndarrayobject.h:12\u001b[m\u001b[K,\r\n",
      "                 from \u001b[01m\u001b[K/opt/conda/lib/python3.10/site-packages/numpy/core/include/numpy/arrayobject.h:5\u001b[m\u001b[K,\r\n",
      "                 from \u001b[01m\u001b[KCFW_D_Similarity_Cython_SGD.c:1109\u001b[m\u001b[K:\r\n",
      "\u001b[01m\u001b[K/opt/conda/lib/python3.10/site-packages/numpy/core/include/numpy/npy_1_7_deprecated_api.h:17:2:\u001b[m\u001b[K \u001b[01;35m\u001b[Kwarning: \u001b[m\u001b[K#warning \"Using deprecated NumPy API, disable it with \" \"#define NPY_NO_DEPRECATED_API NPY_1_7_API_VERSION\" [\u001b[01;35m\u001b[K-Wcpp\u001b[m\u001b[K]\r\n",
      "   17 | #\u001b[01;35m\u001b[Kwarning\u001b[m\u001b[K \"Using deprecated NumPy API, disable it with \" \\\r\n",
      "      |  \u001b[01;35m\u001b[K^~~~~~~\u001b[m\u001b[K\r\n",
      "\u001b[01m\u001b[KCFW_D_Similarity_Cython_SGD.c:\u001b[m\u001b[K In function ‘\u001b[01m\u001b[K__pyx_pf_27CFW_D_Similarity_Cython_SGD_27CFW_D_Similarity_Cython_SGD_6fit\u001b[m\u001b[K’:\r\n",
      "\u001b[01m\u001b[KCFW_D_Similarity_Cython_SGD.c:22766:55:\u001b[m\u001b[K \u001b[01;35m\u001b[Kwarning: \u001b[m\u001b[K‘\u001b[01m\u001b[K__pyx_v_sample_num\u001b[m\u001b[K’ may be used uninitialized in this function [\u001b[01;35m\u001b[K-Wmaybe-uninitialized\u001b[m\u001b[K]\r\n",
      "22766 |   __pyx_t_3 = PyFloat_FromDouble((__pyx_v_cum_loss / \u001b[01;35m\u001b[K((double)__pyx_v_sample_num)\u001b[m\u001b[K)); if (unlikely(!__pyx_t_3)) __PYX_ERR(0, 290, __pyx_L1_error)\r\n",
      "      |                                                      \u001b[01;35m\u001b[K~^~~~~~~~~~~~~~~~~~~~~~~~~~~\u001b[m\u001b[K\r\n",
      "/opt/conda/lib/python3.10/site-packages/Cython/Compiler/Main.py:381: FutureWarning: Cython directive 'language_level' not set, using '3str' for now (Py3). This has changed from earlier releases! File: /kaggle/working/Recsys_Challenge_2023/Recommenders/FeatureWeighting/Cython/CFW_D_Similarity_Cython_SGD.pyx\r\n",
      "  tree = Parsing.p_module(s, pxd, full_module_name)\r\n",
      "Compiling [8/10]: CFW_D_Similarity_Cython_SGD.pyx... PASS\r\n",
      "\r\n",
      "Compiling [9/10]: CFW_DVV_Similarity_Cython_SGD.pyx... \r\n",
      "In file included from \u001b[01m\u001b[K/opt/conda/lib/python3.10/site-packages/numpy/core/include/numpy/ndarraytypes.h:1940\u001b[m\u001b[K,\r\n",
      "                 from \u001b[01m\u001b[K/opt/conda/lib/python3.10/site-packages/numpy/core/include/numpy/ndarrayobject.h:12\u001b[m\u001b[K,\r\n",
      "                 from \u001b[01m\u001b[K/opt/conda/lib/python3.10/site-packages/numpy/core/include/numpy/arrayobject.h:5\u001b[m\u001b[K,\r\n",
      "                 from \u001b[01m\u001b[KCFW_DVV_Similarity_Cython_SGD.c:1109\u001b[m\u001b[K:\r\n",
      "\u001b[01m\u001b[K/opt/conda/lib/python3.10/site-packages/numpy/core/include/numpy/npy_1_7_deprecated_api.h:17:2:\u001b[m\u001b[K \u001b[01;35m\u001b[Kwarning: \u001b[m\u001b[K#warning \"Using deprecated NumPy API, disable it with \" \"#define NPY_NO_DEPRECATED_API NPY_1_7_API_VERSION\" [\u001b[01;35m\u001b[K-Wcpp\u001b[m\u001b[K]\r\n",
      "   17 | #\u001b[01;35m\u001b[Kwarning\u001b[m\u001b[K \"Using deprecated NumPy API, disable it with \" \\\r\n",
      "      |  \u001b[01;35m\u001b[K^~~~~~~\u001b[m\u001b[K\r\n",
      "/opt/conda/lib/python3.10/site-packages/Cython/Compiler/Main.py:381: FutureWarning: Cython directive 'language_level' not set, using '3str' for now (Py3). This has changed from earlier releases! File: /kaggle/working/Recsys_Challenge_2023/Recommenders/FeatureWeighting/Cython/CFW_DVV_Similarity_Cython_SGD.pyx\r\n",
      "  tree = Parsing.p_module(s, pxd, full_module_name)\r\n",
      "Compiling [9/10]: CFW_DVV_Similarity_Cython_SGD.pyx... PASS\r\n",
      "\r\n",
      "Compiling [10/10]: HP3_Similarity_Cython_SGD.pyx... \r\n",
      "warning: HP3_Similarity_Cython_SGD.pyx:113:40: Index should be typed for more efficient access\r\n",
      "In file included from \u001b[01m\u001b[K/opt/conda/lib/python3.10/site-packages/numpy/core/include/numpy/ndarraytypes.h:1940\u001b[m\u001b[K,\r\n",
      "                 from \u001b[01m\u001b[K/opt/conda/lib/python3.10/site-packages/numpy/core/include/numpy/ndarrayobject.h:12\u001b[m\u001b[K,\r\n",
      "                 from \u001b[01m\u001b[K/opt/conda/lib/python3.10/site-packages/numpy/core/include/numpy/arrayobject.h:5\u001b[m\u001b[K,\r\n",
      "                 from \u001b[01m\u001b[KHP3_Similarity_Cython_SGD.c:1109\u001b[m\u001b[K:\r\n",
      "\u001b[01m\u001b[K/opt/conda/lib/python3.10/site-packages/numpy/core/include/numpy/npy_1_7_deprecated_api.h:17:2:\u001b[m\u001b[K \u001b[01;35m\u001b[Kwarning: \u001b[m\u001b[K#warning \"Using deprecated NumPy API, disable it with \" \"#define NPY_NO_DEPRECATED_API NPY_1_7_API_VERSION\" [\u001b[01;35m\u001b[K-Wcpp\u001b[m\u001b[K]\r\n",
      "   17 | #\u001b[01;35m\u001b[Kwarning\u001b[m\u001b[K \"Using deprecated NumPy API, disable it with \" \\\r\n",
      "      |  \u001b[01;35m\u001b[K^~~~~~~\u001b[m\u001b[K\r\n",
      "\u001b[01m\u001b[KHP3_Similarity_Cython_SGD.c:\u001b[m\u001b[K In function ‘\u001b[01m\u001b[K__pyx_pf_25HP3_Similarity_Cython_SGD_25HP3_Similarity_Cython_SGD_4fit\u001b[m\u001b[K’:\r\n",
      "\u001b[01m\u001b[KHP3_Similarity_Cython_SGD.c:23035:55:\u001b[m\u001b[K \u001b[01;35m\u001b[Kwarning: \u001b[m\u001b[K‘\u001b[01m\u001b[K__pyx_v_sample_num\u001b[m\u001b[K’ may be used uninitialized in this function [\u001b[01;35m\u001b[K-Wmaybe-uninitialized\u001b[m\u001b[K]\r\n",
      "23035 |   __pyx_t_1 = PyFloat_FromDouble((__pyx_v_cum_loss / \u001b[01;35m\u001b[K((double)__pyx_v_sample_num)\u001b[m\u001b[K)); if (unlikely(!__pyx_t_1)) __PYX_ERR(0, 291, __pyx_L1_error)\r\n",
      "      |                                                      \u001b[01;35m\u001b[K~^~~~~~~~~~~~~~~~~~~~~~~~~~~\u001b[m\u001b[K\r\n",
      "/opt/conda/lib/python3.10/site-packages/Cython/Compiler/Main.py:381: FutureWarning: Cython directive 'language_level' not set, using '3str' for now (Py3). This has changed from earlier releases! File: /kaggle/working/Recsys_Challenge_2023/Recommenders/FeatureWeighting/Cython/HP3_Similarity_Cython_SGD.pyx\r\n",
      "  tree = Parsing.p_module(s, pxd, full_module_name)\r\n",
      "warning: HP3_Similarity_Cython_SGD.pyx:113:40: Index should be typed for more efficient access\r\n",
      "Compiling [10/10]: HP3_Similarity_Cython_SGD.pyx... PASS\r\n",
      "\r\n",
      "run_compile_all_cython: Compilation finished. FAILS 2/10.\r\n",
      "Compilation log can be found here: './result_experiments/run_compile_all_cython.txt'\r\n"
     ]
    }
   ],
   "source": [
    "! cd /kaggle/working/Recsys_Challenge_2023 && python run_compile_all_cython.py"
   ]
  },
  {
   "cell_type": "code",
   "execution_count": 4,
   "id": "93e64f11",
   "metadata": {
    "execution": {
     "iopub.execute_input": "2023-12-03T14:15:28.800860Z",
     "iopub.status.busy": "2023-12-03T14:15:28.799195Z",
     "iopub.status.idle": "2023-12-03T14:15:32.517018Z",
     "shell.execute_reply": "2023-12-03T14:15:32.515730Z"
    },
    "papermill": {
     "duration": 3.742223,
     "end_time": "2023-12-03T14:15:32.520749",
     "exception": false,
     "start_time": "2023-12-03T14:15:28.778526",
     "status": "completed"
    },
    "tags": []
   },
   "outputs": [
    {
     "name": "stdout",
     "output_type": "stream",
     "text": [
      "/kaggle/input/recommender-system-2023-challenge-polimi/data_train.csv\n",
      "/kaggle/input/recommender-system-2023-challenge-polimi/data_target_users_test.csv\n"
     ]
    }
   ],
   "source": [
    "import numpy as np\n",
    "import pandas as pd\n",
    "import matplotlib.pyplot as plt\n",
    "import seaborn as sns\n",
    "import joblib\n",
    "import json\n",
    "import random\n",
    "import tqdm\n",
    "import gc\n",
    "import time\n",
    "import os\n",
    "import shutil\n",
    "import optuna\n",
    "import scipy.sparse as sps\n",
    "\n",
    "for dirname, _, filenames in os.walk('/kaggle/input'):\n",
    "    for filename in filenames:\n",
    "        print(os.path.join(dirname, filename))"
   ]
  },
  {
   "cell_type": "code",
   "execution_count": 5,
   "id": "1b84445d",
   "metadata": {
    "execution": {
     "iopub.execute_input": "2023-12-03T14:15:32.562670Z",
     "iopub.status.busy": "2023-12-03T14:15:32.561579Z",
     "iopub.status.idle": "2023-12-03T14:15:32.569699Z",
     "shell.execute_reply": "2023-12-03T14:15:32.568265Z"
    },
    "papermill": {
     "duration": 0.032698,
     "end_time": "2023-12-03T14:15:32.573185",
     "exception": false,
     "start_time": "2023-12-03T14:15:32.540487",
     "status": "completed"
    },
    "tags": []
   },
   "outputs": [
    {
     "name": "stdout",
     "output_type": "stream",
     "text": [
      "/kaggle/working/Recsys_Challenge_2023\n"
     ]
    }
   ],
   "source": [
    "%cd /kaggle/working/Recsys_Challenge_2023"
   ]
  },
  {
   "cell_type": "code",
   "execution_count": 6,
   "id": "c4e99d86",
   "metadata": {
    "execution": {
     "iopub.execute_input": "2023-12-03T14:15:32.615551Z",
     "iopub.status.busy": "2023-12-03T14:15:32.614191Z",
     "iopub.status.idle": "2023-12-03T14:15:37.320753Z",
     "shell.execute_reply": "2023-12-03T14:15:37.319244Z"
    },
    "papermill": {
     "duration": 4.730725,
     "end_time": "2023-12-03T14:15:37.324876",
     "exception": false,
     "start_time": "2023-12-03T14:15:32.594151",
     "status": "completed"
    },
    "tags": []
   },
   "outputs": [],
   "source": [
    "from Recommenders.KNN.UserKNNCFRecommender import UserKNNCFRecommender\n",
    "from Data_manager.split_functions.split_train_validation_random_holdout import split_train_in_two_percentage_global_sample\n",
    "from Recommenders.SLIM.SLIMElasticNetRecommender import MultiThreadSLIM_SLIMElasticNetRecommender, SLIMElasticNetRecommender\n",
    "from Recommenders.SLIM.Cython.SLIM_BPR_Cython import SLIM_BPR_Cython\n",
    "from Recommenders.SLIM.SLIM_BPR_Python import SLIM_BPR_Python\n",
    "from Evaluation.Evaluator import EvaluatorHoldout\n",
    "from Recommenders.MatrixFactorization.IALSRecommender import IALSRecommender\n",
    "from Recommenders.MatrixFactorization.PureSVDRecommender import PureSVDRecommender\n",
    "from Recommenders.KNN.ItemKNNCFRecommender import ItemKNNCFRecommender\n",
    "from Recommenders.KNN.UserKNNCFRecommender import UserKNNCFRecommender\n",
    "from Recommenders.MatrixFactorization.Cython.MatrixFactorization_Cython import MatrixFactorization_BPR_Cython, MatrixFactorization_SVDpp_Cython, MatrixFactorization_AsySVD_Cython, MatrixFactorization_WARP_Cython\n",
    "from Recommenders.MatrixFactorization.PyTorch.MF_MSE_PyTorch import MF_MSE_PyTorch\n",
    "\n",
    "np.int = int\n",
    "np.random.seed(42)\n",
    "np.bool = bool\n",
    "np.float = float"
   ]
  },
  {
   "cell_type": "code",
   "execution_count": 7,
   "id": "511f611d",
   "metadata": {
    "execution": {
     "iopub.execute_input": "2023-12-03T14:15:37.364763Z",
     "iopub.status.busy": "2023-12-03T14:15:37.363777Z",
     "iopub.status.idle": "2023-12-03T14:15:38.181512Z",
     "shell.execute_reply": "2023-12-03T14:15:38.179867Z"
    },
    "papermill": {
     "duration": 0.840277,
     "end_time": "2023-12-03T14:15:38.184456",
     "exception": false,
     "start_time": "2023-12-03T14:15:37.344179",
     "status": "completed"
    },
    "tags": []
   },
   "outputs": [
    {
     "name": "stdout",
     "output_type": "stream",
     "text": [
      "Repository found\n"
     ]
    }
   ],
   "source": [
    "from github import Github\n",
    "from github import Auth\n",
    "\n",
    "auth = Auth.Token(token)\n",
    "g = Github(auth=auth)\n",
    "\n",
    "repo = None\n",
    "for r in g.get_user().get_repos():\n",
    "    if r.name == 'Recsys_Challenge_2023':\n",
    "        repo = r\n",
    "        print('Repository found')"
   ]
  },
  {
   "cell_type": "code",
   "execution_count": 8,
   "id": "5d750b43",
   "metadata": {
    "execution": {
     "iopub.execute_input": "2023-12-03T14:15:38.224856Z",
     "iopub.status.busy": "2023-12-03T14:15:38.223861Z",
     "iopub.status.idle": "2023-12-03T14:15:38.230433Z",
     "shell.execute_reply": "2023-12-03T14:15:38.229583Z"
    },
    "papermill": {
     "duration": 0.030381,
     "end_time": "2023-12-03T14:15:38.233384",
     "exception": false,
     "start_time": "2023-12-03T14:15:38.203003",
     "status": "completed"
    },
    "tags": []
   },
   "outputs": [],
   "source": [
    "def upload_file(filepath_kaggle, filepath_github, commit_message):\n",
    "    try:\n",
    "        contents = repo.get_contents(filepath_github)\n",
    "        with open(filepath_kaggle, \"rb\") as file:\n",
    "            repo.update_file(contents.path, commit_message, file.read(), contents.sha)\n",
    "    except Exception:\n",
    "        with open(filepath_kaggle, \"rb\") as file:\n",
    "            repo.create_file(filepath_github, commit_message, file.read())"
   ]
  },
  {
   "cell_type": "code",
   "execution_count": 9,
   "id": "c5d8b361",
   "metadata": {
    "execution": {
     "iopub.execute_input": "2023-12-03T14:15:38.273669Z",
     "iopub.status.busy": "2023-12-03T14:15:38.272875Z",
     "iopub.status.idle": "2023-12-03T14:15:38.277504Z",
     "shell.execute_reply": "2023-12-03T14:15:38.276675Z"
    },
    "papermill": {
     "duration": 0.027078,
     "end_time": "2023-12-03T14:15:38.280197",
     "exception": false,
     "start_time": "2023-12-03T14:15:38.253119",
     "status": "completed"
    },
    "tags": []
   },
   "outputs": [],
   "source": [
    "config = {\n",
    "    'tune_parameters': True,\n",
    "    'database_path': '/kaggle/working/tuning_slim_elastic.db',\n",
    "    'copy_prev_best_params': False,\n",
    "    'save_github': True\n",
    "}"
   ]
  },
  {
   "cell_type": "code",
   "execution_count": 10,
   "id": "1a408a6b",
   "metadata": {
    "execution": {
     "iopub.execute_input": "2023-12-03T14:15:38.332358Z",
     "iopub.status.busy": "2023-12-03T14:15:38.331075Z",
     "iopub.status.idle": "2023-12-03T14:15:38.340297Z",
     "shell.execute_reply": "2023-12-03T14:15:38.338479Z"
    },
    "papermill": {
     "duration": 0.042296,
     "end_time": "2023-12-03T14:15:38.345196",
     "exception": false,
     "start_time": "2023-12-03T14:15:38.302900",
     "status": "completed"
    },
    "tags": []
   },
   "outputs": [],
   "source": [
    "try:\n",
    "    shutil.copyfile(\n",
    "        '/kaggle/working/Recsys_Challenge_2023/tuning_results/tuning_slim_elastic.db', \n",
    "        config['database_path']\n",
    "    )\n",
    "except FileNotFoundError:\n",
    "    pass # if not present optuna will create it"
   ]
  },
  {
   "cell_type": "code",
   "execution_count": 11,
   "id": "b068f8c5",
   "metadata": {
    "execution": {
     "iopub.execute_input": "2023-12-03T14:15:38.393083Z",
     "iopub.status.busy": "2023-12-03T14:15:38.392606Z",
     "iopub.status.idle": "2023-12-03T14:15:38.730053Z",
     "shell.execute_reply": "2023-12-03T14:15:38.728931Z"
    },
    "papermill": {
     "duration": 0.362258,
     "end_time": "2023-12-03T14:15:38.733039",
     "exception": false,
     "start_time": "2023-12-03T14:15:38.370781",
     "status": "completed"
    },
    "tags": []
   },
   "outputs": [],
   "source": [
    "train_data = pd.read_csv('/kaggle/input/recommender-system-2023-challenge-polimi/data_train.csv')\n",
    "user_ids_test = pd.read_csv('/kaggle/input/recommender-system-2023-challenge-polimi/data_target_users_test.csv')"
   ]
  },
  {
   "cell_type": "code",
   "execution_count": 12,
   "id": "35367278",
   "metadata": {
    "execution": {
     "iopub.execute_input": "2023-12-03T14:15:38.772055Z",
     "iopub.status.busy": "2023-12-03T14:15:38.771596Z",
     "iopub.status.idle": "2023-12-03T14:15:38.818582Z",
     "shell.execute_reply": "2023-12-03T14:15:38.817534Z"
    },
    "papermill": {
     "duration": 0.069583,
     "end_time": "2023-12-03T14:15:38.821126",
     "exception": false,
     "start_time": "2023-12-03T14:15:38.751543",
     "status": "completed"
    },
    "tags": []
   },
   "outputs": [
    {
     "data": {
      "text/plain": [
       "<13024x22347 sparse matrix of type '<class 'numpy.float64'>'\n",
       "\twith 478730 stored elements in Compressed Sparse Row format>"
      ]
     },
     "execution_count": 12,
     "metadata": {},
     "output_type": "execute_result"
    }
   ],
   "source": [
    "URM_all = sps.csr_matrix((train_data.data.values,\n",
    "                          ((train_data.row - 1).values, (train_data.col - 1).values)),\n",
    "                        shape=(train_data.row.max(), train_data.col.max()))\n",
    "URM_all"
   ]
  },
  {
   "cell_type": "code",
   "execution_count": 13,
   "id": "3cc0af22",
   "metadata": {
    "execution": {
     "iopub.execute_input": "2023-12-03T14:15:38.860467Z",
     "iopub.status.busy": "2023-12-03T14:15:38.858990Z",
     "iopub.status.idle": "2023-12-03T14:15:40.574220Z",
     "shell.execute_reply": "2023-12-03T14:15:40.572755Z"
    },
    "papermill": {
     "duration": 1.737692,
     "end_time": "2023-12-03T14:15:40.577256",
     "exception": false,
     "start_time": "2023-12-03T14:15:38.839564",
     "status": "completed"
    },
    "tags": []
   },
   "outputs": [
    {
     "name": "stdout",
     "output_type": "stream",
     "text": [
      "Warning: 627 (4.81 %) of 13024 users have no train items\n",
      "Warning: 2568 (19.72 %) of 13024 users have no sampled items\n",
      "Warning: 2953 (22.67 %) of 13024 users have no train items\n",
      "Warning: 6367 (48.89 %) of 13024 users have no sampled items\n"
     ]
    }
   ],
   "source": [
    "URM_train, URM_test_complete = split_train_in_two_percentage_global_sample(URM_all, train_percentage = 0.8)\n",
    "URM_validation, URM_test = split_train_in_two_percentage_global_sample(URM_test_complete, train_percentage = 0.8)"
   ]
  },
  {
   "cell_type": "code",
   "execution_count": 14,
   "id": "1398b77a",
   "metadata": {
    "execution": {
     "iopub.execute_input": "2023-12-03T14:15:40.617167Z",
     "iopub.status.busy": "2023-12-03T14:15:40.616681Z",
     "iopub.status.idle": "2023-12-03T14:15:40.635845Z",
     "shell.execute_reply": "2023-12-03T14:15:40.634784Z"
    },
    "papermill": {
     "duration": 0.042838,
     "end_time": "2023-12-03T14:15:40.639102",
     "exception": false,
     "start_time": "2023-12-03T14:15:40.596264",
     "status": "completed"
    },
    "tags": []
   },
   "outputs": [
    {
     "name": "stdout",
     "output_type": "stream",
     "text": [
      "EvaluatorHoldout: Ignoring 2568 (19.7%) Users that have less than 1 test interactions\n"
     ]
    }
   ],
   "source": [
    "evaluator = EvaluatorHoldout(URM_test_complete, cutoff_list=[10])\n",
    "\n",
    "def objective_function_slim(trial):           \n",
    "    params = {\n",
    "        'l1_ratio': trial.suggest_float('l1_ratio', 1e-5, 1, log=True),\n",
    "        'alpha': trial.suggest_float('alpha', 1e-5, 100, log=True),\n",
    "        'topK': trial.suggest_int('topK', 5, 2000, log=True),\n",
    "        'positive_only': trial.suggest_categorical(\"positive_only\", [True, False]),\n",
    "    }\n",
    "        \n",
    "    recommender_instance = SLIMElasticNetRecommender(URM_train)\n",
    "    recommender_instance.fit(**params)\n",
    "        \n",
    "    result_df, _ = evaluator.evaluateRecommender(recommender_instance)\n",
    "    return result_df.loc[10, \"MAP\"]"
   ]
  },
  {
   "cell_type": "code",
   "execution_count": 15,
   "id": "6d6137e6",
   "metadata": {
    "execution": {
     "iopub.execute_input": "2023-12-03T14:15:40.678105Z",
     "iopub.status.busy": "2023-12-03T14:15:40.677669Z",
     "iopub.status.idle": "2023-12-03T21:01:53.117597Z",
     "shell.execute_reply": "2023-12-03T21:01:53.116212Z"
    },
    "papermill": {
     "duration": 24372.46351,
     "end_time": "2023-12-03T21:01:53.121127",
     "exception": false,
     "start_time": "2023-12-03T14:15:40.657617",
     "status": "completed"
    },
    "tags": []
   },
   "outputs": [
    {
     "name": "stderr",
     "output_type": "stream",
     "text": [
      "[I 2023-12-03 14:15:41,160] Using an existing study with name 'hyperparameters_tuning_slim' instead of creating a new one.\n"
     ]
    },
    {
     "name": "stdout",
     "output_type": "stream",
     "text": [
      "SLIMElasticNetRecommender: URM Detected 627 ( 4.8%) users with no interactions.\n",
      "SLIMElasticNetRecommender: URM Detected 247 ( 1.1%) items with no interactions.\n",
      "SLIMElasticNetRecommender: Processed 8369 (37.5%) in 5.00 min. Items per second: 27.89\n",
      "SLIMElasticNetRecommender: Processed 17063 (76.4%) in 10.00 min. Items per second: 28.44\n",
      "SLIMElasticNetRecommender: Processed 22347 (100.0%) in 13.36 min. Items per second: 27.88\n",
      "EvaluatorHoldout: Processed 10456 (100.0%) in 13.02 sec. Users per second: 803\n"
     ]
    },
    {
     "name": "stderr",
     "output_type": "stream",
     "text": [
      "[I 2023-12-03 14:29:16,361] Trial 110 finished with value: 0.050808774638394553 and parameters: {'l1_ratio': 0.049542488769629446, 'alpha': 0.0009491528940213232, 'topK': 244, 'positive_only': True}. Best is trial 89 with value: 0.05109303460608986.\n"
     ]
    },
    {
     "name": "stdout",
     "output_type": "stream",
     "text": [
      "SLIMElasticNetRecommender: URM Detected 627 ( 4.8%) users with no interactions.\n",
      "SLIMElasticNetRecommender: URM Detected 247 ( 1.1%) items with no interactions.\n",
      "SLIMElasticNetRecommender: Processed 9579 (42.9%) in 5.00 min. Items per second: 31.92\n",
      "SLIMElasticNetRecommender: Processed 20822 (93.2%) in 10.00 min. Items per second: 34.70\n",
      "SLIMElasticNetRecommender: Processed 22347 (100.0%) in 10.65 min. Items per second: 34.96\n",
      "EvaluatorHoldout: Processed 10456 (100.0%) in 13.03 sec. Users per second: 803\n"
     ]
    },
    {
     "name": "stderr",
     "output_type": "stream",
     "text": [
      "[I 2023-12-03 14:40:08,917] Trial 111 finished with value: 0.050828513438020674 and parameters: {'l1_ratio': 0.05369930069065999, 'alpha': 0.0016561146119008696, 'topK': 253, 'positive_only': True}. Best is trial 89 with value: 0.05109303460608986.\n"
     ]
    },
    {
     "name": "stdout",
     "output_type": "stream",
     "text": [
      "SLIMElasticNetRecommender: URM Detected 627 ( 4.8%) users with no interactions.\n",
      "SLIMElasticNetRecommender: URM Detected 247 ( 1.1%) items with no interactions.\n",
      "SLIMElasticNetRecommender: Processed 7941 (35.5%) in 5.00 min. Items per second: 26.46\n",
      "SLIMElasticNetRecommender: Processed 15975 (71.5%) in 10.00 min. Items per second: 26.62\n",
      "SLIMElasticNetRecommender: Processed 22347 (100.0%) in 14.23 min. Items per second: 26.17\n",
      "EvaluatorHoldout: Processed 10456 (100.0%) in 12.47 sec. Users per second: 839\n"
     ]
    },
    {
     "name": "stderr",
     "output_type": "stream",
     "text": [
      "[I 2023-12-03 14:54:35,655] Trial 112 finished with value: 0.050471302267400854 and parameters: {'l1_ratio': 0.026206987719322696, 'alpha': 0.0009466836686815082, 'topK': 278, 'positive_only': True}. Best is trial 89 with value: 0.05109303460608986.\n"
     ]
    },
    {
     "name": "stdout",
     "output_type": "stream",
     "text": [
      "SLIMElasticNetRecommender: URM Detected 627 ( 4.8%) users with no interactions.\n",
      "SLIMElasticNetRecommender: URM Detected 247 ( 1.1%) items with no interactions.\n",
      "SLIMElasticNetRecommender: Processed 8378 (37.5%) in 5.00 min. Items per second: 27.92\n",
      "SLIMElasticNetRecommender: Processed 16957 (75.9%) in 10.00 min. Items per second: 28.26\n",
      "SLIMElasticNetRecommender: Processed 22347 (100.0%) in 13.50 min. Items per second: 27.60\n",
      "EvaluatorHoldout: Processed 10456 (100.0%) in 13.36 sec. Users per second: 783\n"
     ]
    },
    {
     "name": "stderr",
     "output_type": "stream",
     "text": [
      "[I 2023-12-03 15:08:19,161] Trial 113 finished with value: 0.051008936920854175 and parameters: {'l1_ratio': 0.051717684699688495, 'alpha': 0.0009524962177498345, 'topK': 328, 'positive_only': True}. Best is trial 89 with value: 0.05109303460608986.\n"
     ]
    },
    {
     "name": "stdout",
     "output_type": "stream",
     "text": [
      "SLIMElasticNetRecommender: URM Detected 627 ( 4.8%) users with no interactions.\n",
      "SLIMElasticNetRecommender: URM Detected 247 ( 1.1%) items with no interactions.\n",
      "SLIMElasticNetRecommender: Processed 7549 (33.8%) in 5.00 min. Items per second: 25.16\n",
      "SLIMElasticNetRecommender: Processed 15487 (69.3%) in 10.00 min. Items per second: 25.81\n",
      "SLIMElasticNetRecommender: Processed 22347 (100.0%) in 14.58 min. Items per second: 25.54\n",
      "EvaluatorHoldout: Processed 10456 (100.0%) in 12.54 sec. Users per second: 834\n"
     ]
    },
    {
     "name": "stderr",
     "output_type": "stream",
     "text": [
      "[I 2023-12-03 15:23:07,051] Trial 114 finished with value: 0.04898858481801362 and parameters: {'l1_ratio': 0.04301497298472671, 'alpha': 0.0004901012131093575, 'topK': 443, 'positive_only': True}. Best is trial 89 with value: 0.05109303460608986.\n"
     ]
    },
    {
     "name": "stdout",
     "output_type": "stream",
     "text": [
      "SLIMElasticNetRecommender: URM Detected 627 ( 4.8%) users with no interactions.\n",
      "SLIMElasticNetRecommender: URM Detected 247 ( 1.1%) items with no interactions.\n",
      "SLIMElasticNetRecommender: Processed 7436 (33.3%) in 5.00 min. Items per second: 24.78\n",
      "SLIMElasticNetRecommender: Processed 15070 (67.4%) in 10.00 min. Items per second: 25.11\n",
      "SLIMElasticNetRecommender: Processed 22303 (99.8%) in 15.00 min. Items per second: 24.78\n",
      "SLIMElasticNetRecommender: Processed 22347 (100.0%) in 15.04 min. Items per second: 24.77\n",
      "EvaluatorHoldout: Processed 10456 (100.0%) in 12.27 sec. Users per second: 852\n"
     ]
    },
    {
     "name": "stderr",
     "output_type": "stream",
     "text": [
      "[I 2023-12-03 15:38:21,812] Trial 115 finished with value: 0.04692482329580718 and parameters: {'l1_ratio': 0.048295793756040505, 'alpha': 0.0003478605634003867, 'topK': 333, 'positive_only': True}. Best is trial 89 with value: 0.05109303460608986.\n"
     ]
    },
    {
     "name": "stdout",
     "output_type": "stream",
     "text": [
      "SLIMElasticNetRecommender: URM Detected 627 ( 4.8%) users with no interactions.\n",
      "SLIMElasticNetRecommender: URM Detected 247 ( 1.1%) items with no interactions.\n",
      "SLIMElasticNetRecommender: Processed 7755 (34.7%) in 5.00 min. Items per second: 25.84\n",
      "SLIMElasticNetRecommender: Processed 18473 (82.7%) in 10.00 min. Items per second: 30.78\n",
      "SLIMElasticNetRecommender: Processed 22347 (100.0%) in 11.80 min. Items per second: 31.57\n",
      "EvaluatorHoldout: Processed 10456 (100.0%) in 14.68 sec. Users per second: 712\n"
     ]
    },
    {
     "name": "stderr",
     "output_type": "stream",
     "text": [
      "[I 2023-12-03 15:50:24,483] Trial 116 finished with value: 0.04979173498014424 and parameters: {'l1_ratio': 0.0877968949238215, 'alpha': 0.001145168732028009, 'topK': 548, 'positive_only': False}. Best is trial 89 with value: 0.05109303460608986.\n"
     ]
    },
    {
     "name": "stdout",
     "output_type": "stream",
     "text": [
      "SLIMElasticNetRecommender: URM Detected 627 ( 4.8%) users with no interactions.\n",
      "SLIMElasticNetRecommender: URM Detected 247 ( 1.1%) items with no interactions.\n",
      "SLIMElasticNetRecommender: Processed 8379 (37.5%) in 5.00 min. Items per second: 27.92\n",
      "SLIMElasticNetRecommender: Processed 17211 (77.0%) in 10.00 min. Items per second: 28.68\n",
      "SLIMElasticNetRecommender: Processed 22347 (100.0%) in 13.24 min. Items per second: 28.12\n",
      "EvaluatorHoldout: Processed 10456 (100.0%) in 12.82 sec. Users per second: 815\n"
     ]
    },
    {
     "name": "stderr",
     "output_type": "stream",
     "text": [
      "[I 2023-12-03 16:03:52,301] Trial 117 finished with value: 0.05114364350688047 and parameters: {'l1_ratio': 0.024380854253870994, 'alpha': 0.0016571407679000089, 'topK': 307, 'positive_only': True}. Best is trial 117 with value: 0.05114364350688047.\n"
     ]
    },
    {
     "name": "stdout",
     "output_type": "stream",
     "text": [
      "SLIMElasticNetRecommender: URM Detected 627 ( 4.8%) users with no interactions.\n",
      "SLIMElasticNetRecommender: URM Detected 247 ( 1.1%) items with no interactions.\n",
      "SLIMElasticNetRecommender: Processed 7670 (34.3%) in 5.00 min. Items per second: 25.56\n",
      "SLIMElasticNetRecommender: Processed 15797 (70.7%) in 10.00 min. Items per second: 26.33\n",
      "SLIMElasticNetRecommender: Processed 22347 (100.0%) in 14.33 min. Items per second: 25.99\n",
      "EvaluatorHoldout: Processed 10456 (100.0%) in 12.28 sec. Users per second: 851\n"
     ]
    },
    {
     "name": "stderr",
     "output_type": "stream",
     "text": [
      "[I 2023-12-03 16:18:24,912] Trial 118 finished with value: 0.04947963347542619 and parameters: {'l1_ratio': 0.02354246033795623, 'alpha': 0.000708631030146213, 'topK': 355, 'positive_only': True}. Best is trial 117 with value: 0.05114364350688047.\n"
     ]
    },
    {
     "name": "stdout",
     "output_type": "stream",
     "text": [
      "SLIMElasticNetRecommender: URM Detected 627 ( 4.8%) users with no interactions.\n",
      "SLIMElasticNetRecommender: URM Detected 247 ( 1.1%) items with no interactions.\n",
      "SLIMElasticNetRecommender: Processed 9155 (41.0%) in 5.00 min. Items per second: 30.49\n",
      "SLIMElasticNetRecommender: Processed 18642 (83.4%) in 10.01 min. Items per second: 31.05\n",
      "SLIMElasticNetRecommender: Processed 22347 (100.0%) in 12.20 min. Items per second: 30.54\n",
      "EvaluatorHoldout: Processed 10456 (100.0%) in 13.34 sec. Users per second: 784\n"
     ]
    },
    {
     "name": "stderr",
     "output_type": "stream",
     "text": [
      "[I 2023-12-03 16:30:50,350] Trial 119 finished with value: 0.05095208492731512 and parameters: {'l1_ratio': 0.037680093149384586, 'alpha': 0.0017805531772732515, 'topK': 300, 'positive_only': True}. Best is trial 117 with value: 0.05114364350688047.\n"
     ]
    },
    {
     "name": "stdout",
     "output_type": "stream",
     "text": [
      "SLIMElasticNetRecommender: URM Detected 627 ( 4.8%) users with no interactions.\n",
      "SLIMElasticNetRecommender: URM Detected 247 ( 1.1%) items with no interactions.\n",
      "SLIMElasticNetRecommender: Processed 8429 (37.7%) in 5.00 min. Items per second: 28.09\n",
      "SLIMElasticNetRecommender: Processed 17169 (76.8%) in 10.00 min. Items per second: 28.61\n",
      "SLIMElasticNetRecommender: Processed 22347 (100.0%) in 13.23 min. Items per second: 28.14\n",
      "EvaluatorHoldout: Processed 10456 (100.0%) in 13.52 sec. Users per second: 773\n"
     ]
    },
    {
     "name": "stderr",
     "output_type": "stream",
     "text": [
      "[I 2023-12-03 16:44:18,419] Trial 120 finished with value: 0.05103669116843438 and parameters: {'l1_ratio': 0.023325763349451707, 'alpha': 0.0018464115418713723, 'topK': 392, 'positive_only': True}. Best is trial 117 with value: 0.05114364350688047.\n"
     ]
    },
    {
     "name": "stdout",
     "output_type": "stream",
     "text": [
      "SLIMElasticNetRecommender: URM Detected 627 ( 4.8%) users with no interactions.\n",
      "SLIMElasticNetRecommender: URM Detected 247 ( 1.1%) items with no interactions.\n",
      "SLIMElasticNetRecommender: Processed 8624 (38.6%) in 5.00 min. Items per second: 28.74\n",
      "SLIMElasticNetRecommender: Processed 17505 (78.3%) in 10.00 min. Items per second: 29.16\n",
      "SLIMElasticNetRecommender: Processed 22347 (100.0%) in 13.03 min. Items per second: 28.59\n",
      "EvaluatorHoldout: Processed 10456 (100.0%) in 13.52 sec. Users per second: 773\n"
     ]
    },
    {
     "name": "stderr",
     "output_type": "stream",
     "text": [
      "[I 2023-12-03 16:57:33,966] Trial 121 finished with value: 0.05104923428182865 and parameters: {'l1_ratio': 0.02784555283531971, 'alpha': 0.0018910672671190948, 'topK': 311, 'positive_only': True}. Best is trial 117 with value: 0.05114364350688047.\n"
     ]
    },
    {
     "name": "stdout",
     "output_type": "stream",
     "text": [
      "SLIMElasticNetRecommender: URM Detected 627 ( 4.8%) users with no interactions.\n",
      "SLIMElasticNetRecommender: URM Detected 247 ( 1.1%) items with no interactions.\n",
      "SLIMElasticNetRecommender: Processed 9424 (42.2%) in 5.00 min. Items per second: 31.41\n",
      "SLIMElasticNetRecommender: Processed 19132 (85.6%) in 10.00 min. Items per second: 31.88\n",
      "SLIMElasticNetRecommender: Processed 22347 (100.0%) in 11.90 min. Items per second: 31.29\n",
      "EvaluatorHoldout: Processed 10456 (100.0%) in 13.63 sec. Users per second: 767\n"
     ]
    },
    {
     "name": "stderr",
     "output_type": "stream",
     "text": [
      "[I 2023-12-03 17:09:42,013] Trial 122 finished with value: 0.05092675580816434 and parameters: {'l1_ratio': 0.0365669707804138, 'alpha': 0.0019400253860104113, 'topK': 393, 'positive_only': True}. Best is trial 117 with value: 0.05114364350688047.\n"
     ]
    },
    {
     "name": "stdout",
     "output_type": "stream",
     "text": [
      "SLIMElasticNetRecommender: URM Detected 627 ( 4.8%) users with no interactions.\n",
      "SLIMElasticNetRecommender: URM Detected 247 ( 1.1%) items with no interactions.\n",
      "SLIMElasticNetRecommender: Processed 9364 (41.9%) in 5.00 min. Items per second: 31.21\n",
      "SLIMElasticNetRecommender: Processed 19155 (85.7%) in 10.00 min. Items per second: 31.92\n",
      "SLIMElasticNetRecommender: Processed 22347 (100.0%) in 11.88 min. Items per second: 31.35\n",
      "EvaluatorHoldout: Processed 10456 (100.0%) in 13.66 sec. Users per second: 766\n"
     ]
    },
    {
     "name": "stderr",
     "output_type": "stream",
     "text": [
      "[I 2023-12-03 17:21:48,865] Trial 123 finished with value: 0.05090217434206599 and parameters: {'l1_ratio': 0.036247897119806034, 'alpha': 0.001975791857815059, 'topK': 390, 'positive_only': True}. Best is trial 117 with value: 0.05114364350688047.\n"
     ]
    },
    {
     "name": "stdout",
     "output_type": "stream",
     "text": [
      "SLIMElasticNetRecommender: URM Detected 627 ( 4.8%) users with no interactions.\n",
      "SLIMElasticNetRecommender: URM Detected 247 ( 1.1%) items with no interactions.\n",
      "SLIMElasticNetRecommender: Processed 7901 (35.4%) in 5.00 min. Items per second: 26.33\n",
      "SLIMElasticNetRecommender: Processed 16315 (73.0%) in 10.00 min. Items per second: 27.19\n",
      "SLIMElasticNetRecommender: Processed 22347 (100.0%) in 13.90 min. Items per second: 26.79\n",
      "EvaluatorHoldout: Processed 10456 (100.0%) in 13.17 sec. Users per second: 794\n"
     ]
    },
    {
     "name": "stderr",
     "output_type": "stream",
     "text": [
      "[I 2023-12-03 17:35:56,756] Trial 124 finished with value: 0.050825367222890855 and parameters: {'l1_ratio': 0.026093293102777255, 'alpha': 0.0010866462344771345, 'topK': 406, 'positive_only': True}. Best is trial 117 with value: 0.05114364350688047.\n"
     ]
    },
    {
     "name": "stdout",
     "output_type": "stream",
     "text": [
      "SLIMElasticNetRecommender: URM Detected 627 ( 4.8%) users with no interactions.\n",
      "SLIMElasticNetRecommender: URM Detected 247 ( 1.1%) items with no interactions.\n",
      "SLIMElasticNetRecommender: Processed 7518 (33.6%) in 5.00 min. Items per second: 25.05\n",
      "SLIMElasticNetRecommender: Processed 15475 (69.2%) in 10.00 min. Items per second: 25.79\n",
      "SLIMElasticNetRecommender: Processed 22347 (100.0%) in 14.64 min. Items per second: 25.45\n",
      "EvaluatorHoldout: Processed 10456 (100.0%) in 11.82 sec. Users per second: 885\n"
     ]
    },
    {
     "name": "stderr",
     "output_type": "stream",
     "text": [
      "[I 2023-12-03 17:50:47,122] Trial 125 finished with value: 0.04878954970792258 and parameters: {'l1_ratio': 0.03624269299964718, 'alpha': 0.0005286334022693473, 'topK': 311, 'positive_only': True}. Best is trial 117 with value: 0.05114364350688047.\n"
     ]
    },
    {
     "name": "stdout",
     "output_type": "stream",
     "text": [
      "SLIMElasticNetRecommender: URM Detected 627 ( 4.8%) users with no interactions.\n",
      "SLIMElasticNetRecommender: URM Detected 247 ( 1.1%) items with no interactions.\n",
      "SLIMElasticNetRecommender: Processed 8288 (37.1%) in 5.00 min. Items per second: 27.62\n",
      "SLIMElasticNetRecommender: Processed 16978 (76.0%) in 10.00 min. Items per second: 28.29\n",
      "SLIMElasticNetRecommender: Processed 22347 (100.0%) in 13.37 min. Items per second: 27.85\n",
      "EvaluatorHoldout: Processed 10456 (100.0%) in 13.47 sec. Users per second: 776\n"
     ]
    },
    {
     "name": "stderr",
     "output_type": "stream",
     "text": [
      "[I 2023-12-03 18:04:23,448] Trial 126 finished with value: 0.05097176679904364 and parameters: {'l1_ratio': 0.020670124183478248, 'alpha': 0.0018692846014479582, 'topK': 391, 'positive_only': True}. Best is trial 117 with value: 0.05114364350688047.\n"
     ]
    },
    {
     "name": "stdout",
     "output_type": "stream",
     "text": [
      "SLIMElasticNetRecommender: URM Detected 627 ( 4.8%) users with no interactions.\n",
      "SLIMElasticNetRecommender: URM Detected 247 ( 1.1%) items with no interactions.\n",
      "SLIMElasticNetRecommender: Processed 9848 (44.1%) in 5.00 min. Items per second: 32.82\n",
      "SLIMElasticNetRecommender: Processed 21390 (95.7%) in 10.00 min. Items per second: 35.64\n",
      "SLIMElasticNetRecommender: Processed 22347 (100.0%) in 10.41 min. Items per second: 35.78\n",
      "EvaluatorHoldout: Processed 10456 (100.0%) in 13.61 sec. Users per second: 768\n"
     ]
    },
    {
     "name": "stderr",
     "output_type": "stream",
     "text": [
      "[I 2023-12-03 18:15:01,867] Trial 127 finished with value: 0.048591083876805725 and parameters: {'l1_ratio': 0.022173750410448924, 'alpha': 0.004449562792776749, 'topK': 540, 'positive_only': True}. Best is trial 117 with value: 0.05114364350688047.\n"
     ]
    },
    {
     "name": "stdout",
     "output_type": "stream",
     "text": [
      "SLIMElasticNetRecommender: URM Detected 627 ( 4.8%) users with no interactions.\n",
      "SLIMElasticNetRecommender: URM Detected 247 ( 1.1%) items with no interactions.\n",
      "SLIMElasticNetRecommender: Processed 8363 (37.4%) in 5.00 min. Items per second: 27.87\n",
      "SLIMElasticNetRecommender: Processed 16979 (76.0%) in 10.00 min. Items per second: 28.29\n",
      "SLIMElasticNetRecommender: Processed 22347 (100.0%) in 13.42 min. Items per second: 27.75\n",
      "EvaluatorHoldout: Processed 10456 (100.0%) in 13.46 sec. Users per second: 777\n"
     ]
    },
    {
     "name": "stderr",
     "output_type": "stream",
     "text": [
      "[I 2023-12-03 18:28:41,032] Trial 128 finished with value: 0.05104573131854183 and parameters: {'l1_ratio': 0.020227681358069828, 'alpha': 0.0017852969388395723, 'topK': 388, 'positive_only': True}. Best is trial 117 with value: 0.05114364350688047.\n"
     ]
    },
    {
     "name": "stdout",
     "output_type": "stream",
     "text": [
      "SLIMElasticNetRecommender: URM Detected 627 ( 4.8%) users with no interactions.\n",
      "SLIMElasticNetRecommender: URM Detected 247 ( 1.1%) items with no interactions.\n",
      "SLIMElasticNetRecommender: Processed 8935 (40.0%) in 5.00 min. Items per second: 29.78\n",
      "SLIMElasticNetRecommender: Processed 18074 (80.9%) in 10.00 min. Items per second: 30.12\n",
      "SLIMElasticNetRecommender: Processed 22347 (100.0%) in 12.56 min. Items per second: 29.65\n",
      "EvaluatorHoldout: Processed 10456 (100.0%) in 13.85 sec. Users per second: 755\n"
     ]
    },
    {
     "name": "stderr",
     "output_type": "stream",
     "text": [
      "[I 2023-12-03 18:41:28,878] Trial 129 finished with value: 0.050984788106776174 and parameters: {'l1_ratio': 0.030735758223050243, 'alpha': 0.0020416797385065582, 'topK': 419, 'positive_only': True}. Best is trial 117 with value: 0.05114364350688047.\n"
     ]
    },
    {
     "name": "stdout",
     "output_type": "stream",
     "text": [
      "SLIMElasticNetRecommender: URM Detected 627 ( 4.8%) users with no interactions.\n",
      "SLIMElasticNetRecommender: URM Detected 247 ( 1.1%) items with no interactions.\n",
      "SLIMElasticNetRecommender: Processed 8511 (38.1%) in 5.00 min. Items per second: 28.37\n",
      "SLIMElasticNetRecommender: Processed 17290 (77.4%) in 10.00 min. Items per second: 28.81\n",
      "SLIMElasticNetRecommender: Processed 22347 (100.0%) in 13.21 min. Items per second: 28.20\n",
      "EvaluatorHoldout: Processed 10456 (100.0%) in 14.17 sec. Users per second: 738\n"
     ]
    },
    {
     "name": "stderr",
     "output_type": "stream",
     "text": [
      "[I 2023-12-03 18:54:55,972] Trial 130 finished with value: 0.050839697872263535 and parameters: {'l1_ratio': 0.020127305072529397, 'alpha': 0.002198917067586901, 'topK': 455, 'positive_only': True}. Best is trial 117 with value: 0.05114364350688047.\n"
     ]
    },
    {
     "name": "stdout",
     "output_type": "stream",
     "text": [
      "SLIMElasticNetRecommender: URM Detected 627 ( 4.8%) users with no interactions.\n",
      "SLIMElasticNetRecommender: URM Detected 247 ( 1.1%) items with no interactions.\n",
      "SLIMElasticNetRecommender: Processed 8894 (39.8%) in 5.00 min. Items per second: 29.64\n",
      "SLIMElasticNetRecommender: Processed 18101 (81.0%) in 10.00 min. Items per second: 30.16\n",
      "SLIMElasticNetRecommender: Processed 22347 (100.0%) in 12.57 min. Items per second: 29.63\n",
      "EvaluatorHoldout: Processed 10456 (100.0%) in 14.12 sec. Users per second: 740\n"
     ]
    },
    {
     "name": "stderr",
     "output_type": "stream",
     "text": [
      "[I 2023-12-03 19:07:44,668] Trial 131 finished with value: 0.05088735411277559 and parameters: {'l1_ratio': 0.028127459767716384, 'alpha': 0.0021840322872200423, 'topK': 400, 'positive_only': True}. Best is trial 117 with value: 0.05114364350688047.\n"
     ]
    },
    {
     "name": "stdout",
     "output_type": "stream",
     "text": [
      "SLIMElasticNetRecommender: URM Detected 627 ( 4.8%) users with no interactions.\n",
      "SLIMElasticNetRecommender: URM Detected 247 ( 1.1%) items with no interactions.\n",
      "SLIMElasticNetRecommender: Processed 8214 (36.8%) in 5.00 min. Items per second: 27.37\n",
      "SLIMElasticNetRecommender: Processed 16911 (75.7%) in 10.00 min. Items per second: 28.18\n",
      "SLIMElasticNetRecommender: Processed 22347 (100.0%) in 13.45 min. Items per second: 27.69\n",
      "EvaluatorHoldout: Processed 10456 (100.0%) in 13.85 sec. Users per second: 755\n"
     ]
    },
    {
     "name": "stderr",
     "output_type": "stream",
     "text": [
      "[I 2023-12-03 19:21:25,921] Trial 132 finished with value: 0.05119515186845002 and parameters: {'l1_ratio': 0.036267142766006066, 'alpha': 0.001247270246879362, 'topK': 388, 'positive_only': True}. Best is trial 132 with value: 0.05119515186845002.\n"
     ]
    },
    {
     "name": "stdout",
     "output_type": "stream",
     "text": [
      "SLIMElasticNetRecommender: URM Detected 627 ( 4.8%) users with no interactions.\n",
      "SLIMElasticNetRecommender: URM Detected 247 ( 1.1%) items with no interactions.\n",
      "SLIMElasticNetRecommender: Processed 10051 (45.0%) in 5.00 min. Items per second: 33.50\n",
      "SLIMElasticNetRecommender: Processed 21526 (96.3%) in 10.00 min. Items per second: 35.87\n",
      "SLIMElasticNetRecommender: Processed 22347 (100.0%) in 10.35 min. Items per second: 35.97\n",
      "EvaluatorHoldout: Processed 10456 (100.0%) in 13.39 sec. Users per second: 781\n"
     ]
    },
    {
     "name": "stderr",
     "output_type": "stream",
     "text": [
      "[I 2023-12-03 19:32:00,788] Trial 133 finished with value: 0.04902087052622712 and parameters: {'l1_ratio': 0.02996172792965665, 'alpha': 0.0036587413587432518, 'topK': 548, 'positive_only': True}. Best is trial 132 with value: 0.05119515186845002.\n"
     ]
    },
    {
     "name": "stdout",
     "output_type": "stream",
     "text": [
      "SLIMElasticNetRecommender: URM Detected 627 ( 4.8%) users with no interactions.\n",
      "SLIMElasticNetRecommender: URM Detected 247 ( 1.1%) items with no interactions.\n",
      "SLIMElasticNetRecommender: Processed 10133 (45.3%) in 5.00 min. Items per second: 33.77\n",
      "SLIMElasticNetRecommender: Processed 21688 (97.1%) in 10.00 min. Items per second: 36.14\n",
      "SLIMElasticNetRecommender: Processed 22347 (100.0%) in 10.29 min. Items per second: 36.18\n",
      "EvaluatorHoldout: Processed 10456 (100.0%) in 13.56 sec. Users per second: 771\n"
     ]
    },
    {
     "name": "stderr",
     "output_type": "stream",
     "text": [
      "[I 2023-12-03 19:42:32,178] Trial 134 finished with value: 0.04850638275585762 and parameters: {'l1_ratio': 0.019486607056352998, 'alpha': 0.005351683466819431, 'topK': 297, 'positive_only': True}. Best is trial 132 with value: 0.05119515186845002.\n"
     ]
    },
    {
     "name": "stdout",
     "output_type": "stream",
     "text": [
      "SLIMElasticNetRecommender: URM Detected 627 ( 4.8%) users with no interactions.\n",
      "SLIMElasticNetRecommender: URM Detected 247 ( 1.1%) items with no interactions.\n",
      "SLIMElasticNetRecommender: Processed 8645 (38.7%) in 5.00 min. Items per second: 28.81\n",
      "SLIMElasticNetRecommender: Processed 17571 (78.6%) in 10.00 min. Items per second: 29.28\n",
      "SLIMElasticNetRecommender: Processed 22347 (100.0%) in 13.00 min. Items per second: 28.65\n",
      "EvaluatorHoldout: Processed 10456 (100.0%) in 13.94 sec. Users per second: 750\n"
     ]
    },
    {
     "name": "stderr",
     "output_type": "stream",
     "text": [
      "[I 2023-12-03 19:55:46,408] Trial 135 finished with value: 0.05087305382494821 and parameters: {'l1_ratio': 0.038770304538934194, 'alpha': 0.001445096881901989, 'topK': 499, 'positive_only': True}. Best is trial 132 with value: 0.05119515186845002.\n"
     ]
    },
    {
     "name": "stdout",
     "output_type": "stream",
     "text": [
      "SLIMElasticNetRecommender: URM Detected 627 ( 4.8%) users with no interactions.\n",
      "SLIMElasticNetRecommender: URM Detected 247 ( 1.1%) items with no interactions.\n",
      "SLIMElasticNetRecommender: Processed 2682 (12.0%) in 5.00 min. Items per second: 8.93\n",
      "SLIMElasticNetRecommender: Processed 6615 (29.6%) in 10.00 min. Items per second: 11.02\n",
      "SLIMElasticNetRecommender: Processed 11164 (50.0%) in 15.00 min. Items per second: 12.40\n",
      "SLIMElasticNetRecommender: Processed 16068 (71.9%) in 20.00 min. Items per second: 13.39\n",
      "SLIMElasticNetRecommender: Processed 21218 (94.9%) in 25.00 min. Items per second: 14.14\n",
      "SLIMElasticNetRecommender: Processed 22347 (100.0%) in 26.11 min. Items per second: 14.26\n",
      "EvaluatorHoldout: Processed 10456 (100.0%) in 18.19 sec. Users per second: 575\n"
     ]
    },
    {
     "name": "stderr",
     "output_type": "stream",
     "text": [
      "[I 2023-12-03 20:22:11,783] Trial 136 finished with value: 0.046414779696628286 and parameters: {'l1_ratio': 0.014212044233258354, 'alpha': 0.001178173964722599, 'topK': 431, 'positive_only': False}. Best is trial 132 with value: 0.05119515186845002.\n"
     ]
    },
    {
     "name": "stdout",
     "output_type": "stream",
     "text": [
      "SLIMElasticNetRecommender: URM Detected 627 ( 4.8%) users with no interactions.\n",
      "SLIMElasticNetRecommender: URM Detected 247 ( 1.1%) items with no interactions.\n",
      "SLIMElasticNetRecommender: Processed 7913 (35.4%) in 5.00 min. Items per second: 26.37\n",
      "SLIMElasticNetRecommender: Processed 16144 (72.2%) in 10.00 min. Items per second: 26.90\n",
      "SLIMElasticNetRecommender: Processed 22347 (100.0%) in 13.97 min. Items per second: 26.65\n",
      "EvaluatorHoldout: Processed 10456 (100.0%) in 13.87 sec. Users per second: 754\n"
     ]
    },
    {
     "name": "stderr",
     "output_type": "stream",
     "text": [
      "[I 2023-12-03 20:36:24,600] Trial 137 finished with value: 0.05066022318771999 and parameters: {'l1_ratio': 0.022692344087251754, 'alpha': 0.001190233468088293, 'topK': 620, 'positive_only': True}. Best is trial 132 with value: 0.05119515186845002.\n"
     ]
    },
    {
     "name": "stdout",
     "output_type": "stream",
     "text": [
      "SLIMElasticNetRecommender: URM Detected 627 ( 4.8%) users with no interactions.\n",
      "SLIMElasticNetRecommender: URM Detected 247 ( 1.1%) items with no interactions.\n",
      "SLIMElasticNetRecommender: Processed 8754 (39.2%) in 5.00 min. Items per second: 29.17\n",
      "SLIMElasticNetRecommender: Processed 17777 (79.5%) in 10.00 min. Items per second: 29.61\n",
      "SLIMElasticNetRecommender: Processed 22347 (100.0%) in 12.80 min. Items per second: 29.10\n",
      "EvaluatorHoldout: Processed 10456 (100.0%) in 14.08 sec. Users per second: 743\n"
     ]
    },
    {
     "name": "stderr",
     "output_type": "stream",
     "text": [
      "[I 2023-12-03 20:49:26,960] Trial 138 finished with value: 0.050883596871547 and parameters: {'l1_ratio': 0.028791969083839585, 'alpha': 0.002042346048791254, 'topK': 378, 'positive_only': True}. Best is trial 132 with value: 0.05119515186845002.\n"
     ]
    },
    {
     "name": "stdout",
     "output_type": "stream",
     "text": [
      "SLIMElasticNetRecommender: URM Detected 627 ( 4.8%) users with no interactions.\n",
      "SLIMElasticNetRecommender: URM Detected 247 ( 1.1%) items with no interactions.\n",
      "SLIMElasticNetRecommender: Processed 9233 (41.3%) in 5.00 min. Items per second: 30.77\n",
      "SLIMElasticNetRecommender: Processed 18650 (83.5%) in 10.00 min. Items per second: 31.08\n",
      "SLIMElasticNetRecommender: Processed 22347 (100.0%) in 12.19 min. Items per second: 30.55\n",
      "EvaluatorHoldout: Processed 10456 (100.0%) in 14.28 sec. Users per second: 732\n"
     ]
    },
    {
     "name": "stderr",
     "output_type": "stream",
     "text": [
      "[I 2023-12-03 21:01:53,112] Trial 139 finished with value: 0.04925378912085191 and parameters: {'l1_ratio': 0.013399015919485726, 'alpha': 0.0049238098888749774, 'topK': 330, 'positive_only': True}. Best is trial 132 with value: 0.05119515186845002.\n"
     ]
    }
   ],
   "source": [
    "if config['tune_parameters']:\n",
    "    study = optuna.create_study(direction='maximize', study_name='hyperparameters_tuning_slim',\n",
    "                                storage=f'sqlite:///{config[\"database_path\"]}', load_if_exists=True)\n",
    "    study.optimize(objective_function_slim, n_trials=30)"
   ]
  },
  {
   "cell_type": "code",
   "execution_count": 16,
   "id": "f5aa3370",
   "metadata": {
    "execution": {
     "iopub.execute_input": "2023-12-03T21:01:53.201823Z",
     "iopub.status.busy": "2023-12-03T21:01:53.201341Z",
     "iopub.status.idle": "2023-12-03T21:01:54.254354Z",
     "shell.execute_reply": "2023-12-03T21:01:54.252741Z"
    },
    "papermill": {
     "duration": 1.098385,
     "end_time": "2023-12-03T21:01:54.258158",
     "exception": false,
     "start_time": "2023-12-03T21:01:53.159773",
     "status": "completed"
    },
    "tags": []
   },
   "outputs": [
    {
     "data": {
      "text/html": [
       "        <script type=\"text/javascript\">\n",
       "        window.PlotlyConfig = {MathJaxConfig: 'local'};\n",
       "        if (window.MathJax && window.MathJax.Hub && window.MathJax.Hub.Config) {window.MathJax.Hub.Config({SVG: {font: \"STIX-Web\"}});}\n",
       "        if (typeof require !== 'undefined') {\n",
       "        require.undef(\"plotly\");\n",
       "        requirejs.config({\n",
       "            paths: {\n",
       "                'plotly': ['https://cdn.plot.ly/plotly-2.25.2.min']\n",
       "            }\n",
       "        });\n",
       "        require(['plotly'], function(Plotly) {\n",
       "            window._Plotly = Plotly;\n",
       "        });\n",
       "        }\n",
       "        </script>\n",
       "        "
      ]
     },
     "metadata": {},
     "output_type": "display_data"
    },
    {
     "data": {
      "text/html": [
       "<div>                            <div id=\"4c88f2f4-fc7e-457f-8e5e-6c5524cb9c04\" class=\"plotly-graph-div\" style=\"height:525px; width:100%;\"></div>            <script type=\"text/javascript\">                require([\"plotly\"], function(Plotly) {                    window.PLOTLYENV=window.PLOTLYENV || {};                                    if (document.getElementById(\"4c88f2f4-fc7e-457f-8e5e-6c5524cb9c04\")) {                    Plotly.newPlot(                        \"4c88f2f4-fc7e-457f-8e5e-6c5524cb9c04\",                        [{\"mode\":\"markers\",\"name\":\"Objective Value\",\"x\":[0,1,2,3,4,5,6,7,8,9,10,11,12,13,14,15,16,17,18,19,20,21,22,23,24,25,26,27,28,29,30,31,32,33,34,35,36,37,38,39,40,41,42,43,44,45,46,47,48,49,50,51,52,53,54,55,56,57,58,59,60,61,62,63,64,65,66,67,68,69,70,71,72,73,74,75,76,77,78,79,80,81,82,83,84,85,86,87,88,89,90,91,92,93,94,95,96,97,98,99,100,101,102,103,104,105,106,107,108,109,110,111,112,113,114,115,116,117,118,119,120,121,122,123,124,125,126,127,128,129,130,131,132,133,134,135,136,137,138,139],\"y\":[0.026554249250069866,0.023849422675216538,0.000056677414653696226,0.03535656978297598,0.04668904692073276,0.034089157436757174,0.025285705936289406,0.034087472370994236,0.05050444189407534,0.04754402803585169,0.029783875135109106,0.03926497735028776,0.04732866220959264,0.040896523299450344,0.0476716262250891,0.011328867909060987,0.04267025995555146,0.03726981394445086,0.045557768153168504,0.048912407700903125,0.033796081235350856,0.04813308376143185,0.04807863412516322,0.044660140452509094,0.04355057398501412,0.048145755911393646,0.04682781815863372,0.04236372220400585,0.0500289307574606,0.04791242743590749,0.035939173680184164,0.050174518162277096,0.04992723096634802,0.04802436665816605,0.03566333145091797,0.049560899946564464,0.04439221879136816,0.04870549756500489,0.04981599005963067,0.047743996763459993,0.027270413584969892,0.050403865480138296,0.05034337389635861,0.04856937537192965,0.04998508868607452,0.0503710750112346,0.04670156726296822,0.04114505152354295,0.04903820317338944,0.05029509903936134,0.033001914295430285,0.050282316828797934,0.05001374239443361,0.04703165418807227,0.049606301842339336,0.04681196563680368,0.04862783652736866,0.050134619296584505,0.043693542706550265,0.04925958058561431,0.0506363324467771,0.050450534970428645,0.04908051578193198,0.04544647411374708,0.05075599109192331,0.050602452757436224,0.0501319588661792,0.048354370089020916,0.04962092092639211,0.04724605224007557,0.05047523408751493,0.0503021846649914,0.04976283837942292,0.05048116217923098,0.049320607291629494,0.05071707897645231,0.046535371959291943,0.0484559863858838,0.049973725877752825,0.04306733963031853,0.04983633988535561,0.050419607941366414,0.050493523123353784,0.04731385336588165,0.05075415421843383,0.04968144666691032,0.04828816673953512,0.050758568028078974,0.04318060717018298,0.05109303460608986,0.049273292618501704,0.05084188390352379,0.050605029693592055,0.050772473615817854,0.05080645957056702,0.05082206160964841,0.05084964507353628,0.05028910263416827,0.05085953914210478,0.04695585659027779,0.050074040423361985,0.05077442434510207,0.05100388551875797,0.050752157946831494,0.04933286576553658,0.05068926400578143,0.051023624318383975,0.05090391633572643,0.04990586402885618,0.04763842587532416,0.050808774638394553,0.050828513438020674,0.050471302267400854,0.051008936920854175,0.04898858481801362,0.04692482329580718,0.04979173498014424,0.05114364350688047,0.04947963347542619,0.05095208492731512,0.05103669116843438,0.05104923428182865,0.05092675580816434,0.05090217434206599,0.050825367222890855,0.04878954970792258,0.05097176679904364,0.048591083876805725,0.05104573131854183,0.050984788106776174,0.050839697872263535,0.05088735411277559,0.05119515186845002,0.04902087052622712,0.04850638275585762,0.05087305382494821,0.046414779696628286,0.05066022318771999,0.050883596871547,0.04925378912085191],\"type\":\"scatter\"},{\"mode\":\"lines\",\"name\":\"Best Value\",\"x\":[0,1,2,3,4,5,6,7,8,9,10,11,12,13,14,15,16,17,18,19,20,21,22,23,24,25,26,27,28,29,30,31,32,33,34,35,36,37,38,39,40,41,42,43,44,45,46,47,48,49,50,51,52,53,54,55,56,57,58,59,60,61,62,63,64,65,66,67,68,69,70,71,72,73,74,75,76,77,78,79,80,81,82,83,84,85,86,87,88,89,90,91,92,93,94,95,96,97,98,99,100,101,102,103,104,105,106,107,108,109,110,111,112,113,114,115,116,117,118,119,120,121,122,123,124,125,126,127,128,129,130,131,132,133,134,135,136,137,138,139],\"y\":[0.026554249250069866,0.026554249250069866,0.026554249250069866,0.03535656978297598,0.04668904692073276,0.04668904692073276,0.04668904692073276,0.04668904692073276,0.05050444189407534,0.05050444189407534,0.05050444189407534,0.05050444189407534,0.05050444189407534,0.05050444189407534,0.05050444189407534,0.05050444189407534,0.05050444189407534,0.05050444189407534,0.05050444189407534,0.05050444189407534,0.05050444189407534,0.05050444189407534,0.05050444189407534,0.05050444189407534,0.05050444189407534,0.05050444189407534,0.05050444189407534,0.05050444189407534,0.05050444189407534,0.05050444189407534,0.05050444189407534,0.05050444189407534,0.05050444189407534,0.05050444189407534,0.05050444189407534,0.05050444189407534,0.05050444189407534,0.05050444189407534,0.05050444189407534,0.05050444189407534,0.05050444189407534,0.05050444189407534,0.05050444189407534,0.05050444189407534,0.05050444189407534,0.05050444189407534,0.05050444189407534,0.05050444189407534,0.05050444189407534,0.05050444189407534,0.05050444189407534,0.05050444189407534,0.05050444189407534,0.05050444189407534,0.05050444189407534,0.05050444189407534,0.05050444189407534,0.05050444189407534,0.05050444189407534,0.05050444189407534,0.0506363324467771,0.0506363324467771,0.0506363324467771,0.0506363324467771,0.05075599109192331,0.05075599109192331,0.05075599109192331,0.05075599109192331,0.05075599109192331,0.05075599109192331,0.05075599109192331,0.05075599109192331,0.05075599109192331,0.05075599109192331,0.05075599109192331,0.05075599109192331,0.05075599109192331,0.05075599109192331,0.05075599109192331,0.05075599109192331,0.05075599109192331,0.05075599109192331,0.05075599109192331,0.05075599109192331,0.05075599109192331,0.05075599109192331,0.05075599109192331,0.050758568028078974,0.050758568028078974,0.05109303460608986,0.05109303460608986,0.05109303460608986,0.05109303460608986,0.05109303460608986,0.05109303460608986,0.05109303460608986,0.05109303460608986,0.05109303460608986,0.05109303460608986,0.05109303460608986,0.05109303460608986,0.05109303460608986,0.05109303460608986,0.05109303460608986,0.05109303460608986,0.05109303460608986,0.05109303460608986,0.05109303460608986,0.05109303460608986,0.05109303460608986,0.05109303460608986,0.05109303460608986,0.05109303460608986,0.05109303460608986,0.05109303460608986,0.05109303460608986,0.05109303460608986,0.05114364350688047,0.05114364350688047,0.05114364350688047,0.05114364350688047,0.05114364350688047,0.05114364350688047,0.05114364350688047,0.05114364350688047,0.05114364350688047,0.05114364350688047,0.05114364350688047,0.05114364350688047,0.05114364350688047,0.05114364350688047,0.05114364350688047,0.05119515186845002,0.05119515186845002,0.05119515186845002,0.05119515186845002,0.05119515186845002,0.05119515186845002,0.05119515186845002,0.05119515186845002],\"type\":\"scatter\"},{\"marker\":{\"color\":\"#cccccc\"},\"mode\":\"markers\",\"name\":\"Infeasible Trial\",\"showlegend\":false,\"x\":[],\"y\":[],\"type\":\"scatter\"}],                        {\"title\":{\"text\":\"Optimization History Plot\"},\"xaxis\":{\"title\":{\"text\":\"Trial\"}},\"yaxis\":{\"title\":{\"text\":\"Objective Value\"}},\"template\":{\"data\":{\"histogram2dcontour\":[{\"type\":\"histogram2dcontour\",\"colorbar\":{\"outlinewidth\":0,\"ticks\":\"\"},\"colorscale\":[[0.0,\"#0d0887\"],[0.1111111111111111,\"#46039f\"],[0.2222222222222222,\"#7201a8\"],[0.3333333333333333,\"#9c179e\"],[0.4444444444444444,\"#bd3786\"],[0.5555555555555556,\"#d8576b\"],[0.6666666666666666,\"#ed7953\"],[0.7777777777777778,\"#fb9f3a\"],[0.8888888888888888,\"#fdca26\"],[1.0,\"#f0f921\"]]}],\"choropleth\":[{\"type\":\"choropleth\",\"colorbar\":{\"outlinewidth\":0,\"ticks\":\"\"}}],\"histogram2d\":[{\"type\":\"histogram2d\",\"colorbar\":{\"outlinewidth\":0,\"ticks\":\"\"},\"colorscale\":[[0.0,\"#0d0887\"],[0.1111111111111111,\"#46039f\"],[0.2222222222222222,\"#7201a8\"],[0.3333333333333333,\"#9c179e\"],[0.4444444444444444,\"#bd3786\"],[0.5555555555555556,\"#d8576b\"],[0.6666666666666666,\"#ed7953\"],[0.7777777777777778,\"#fb9f3a\"],[0.8888888888888888,\"#fdca26\"],[1.0,\"#f0f921\"]]}],\"heatmap\":[{\"type\":\"heatmap\",\"colorbar\":{\"outlinewidth\":0,\"ticks\":\"\"},\"colorscale\":[[0.0,\"#0d0887\"],[0.1111111111111111,\"#46039f\"],[0.2222222222222222,\"#7201a8\"],[0.3333333333333333,\"#9c179e\"],[0.4444444444444444,\"#bd3786\"],[0.5555555555555556,\"#d8576b\"],[0.6666666666666666,\"#ed7953\"],[0.7777777777777778,\"#fb9f3a\"],[0.8888888888888888,\"#fdca26\"],[1.0,\"#f0f921\"]]}],\"heatmapgl\":[{\"type\":\"heatmapgl\",\"colorbar\":{\"outlinewidth\":0,\"ticks\":\"\"},\"colorscale\":[[0.0,\"#0d0887\"],[0.1111111111111111,\"#46039f\"],[0.2222222222222222,\"#7201a8\"],[0.3333333333333333,\"#9c179e\"],[0.4444444444444444,\"#bd3786\"],[0.5555555555555556,\"#d8576b\"],[0.6666666666666666,\"#ed7953\"],[0.7777777777777778,\"#fb9f3a\"],[0.8888888888888888,\"#fdca26\"],[1.0,\"#f0f921\"]]}],\"contourcarpet\":[{\"type\":\"contourcarpet\",\"colorbar\":{\"outlinewidth\":0,\"ticks\":\"\"}}],\"contour\":[{\"type\":\"contour\",\"colorbar\":{\"outlinewidth\":0,\"ticks\":\"\"},\"colorscale\":[[0.0,\"#0d0887\"],[0.1111111111111111,\"#46039f\"],[0.2222222222222222,\"#7201a8\"],[0.3333333333333333,\"#9c179e\"],[0.4444444444444444,\"#bd3786\"],[0.5555555555555556,\"#d8576b\"],[0.6666666666666666,\"#ed7953\"],[0.7777777777777778,\"#fb9f3a\"],[0.8888888888888888,\"#fdca26\"],[1.0,\"#f0f921\"]]}],\"surface\":[{\"type\":\"surface\",\"colorbar\":{\"outlinewidth\":0,\"ticks\":\"\"},\"colorscale\":[[0.0,\"#0d0887\"],[0.1111111111111111,\"#46039f\"],[0.2222222222222222,\"#7201a8\"],[0.3333333333333333,\"#9c179e\"],[0.4444444444444444,\"#bd3786\"],[0.5555555555555556,\"#d8576b\"],[0.6666666666666666,\"#ed7953\"],[0.7777777777777778,\"#fb9f3a\"],[0.8888888888888888,\"#fdca26\"],[1.0,\"#f0f921\"]]}],\"mesh3d\":[{\"type\":\"mesh3d\",\"colorbar\":{\"outlinewidth\":0,\"ticks\":\"\"}}],\"scatter\":[{\"fillpattern\":{\"fillmode\":\"overlay\",\"size\":10,\"solidity\":0.2},\"type\":\"scatter\"}],\"parcoords\":[{\"type\":\"parcoords\",\"line\":{\"colorbar\":{\"outlinewidth\":0,\"ticks\":\"\"}}}],\"scatterpolargl\":[{\"type\":\"scatterpolargl\",\"marker\":{\"colorbar\":{\"outlinewidth\":0,\"ticks\":\"\"}}}],\"bar\":[{\"error_x\":{\"color\":\"#2a3f5f\"},\"error_y\":{\"color\":\"#2a3f5f\"},\"marker\":{\"line\":{\"color\":\"#E5ECF6\",\"width\":0.5},\"pattern\":{\"fillmode\":\"overlay\",\"size\":10,\"solidity\":0.2}},\"type\":\"bar\"}],\"scattergeo\":[{\"type\":\"scattergeo\",\"marker\":{\"colorbar\":{\"outlinewidth\":0,\"ticks\":\"\"}}}],\"scatterpolar\":[{\"type\":\"scatterpolar\",\"marker\":{\"colorbar\":{\"outlinewidth\":0,\"ticks\":\"\"}}}],\"histogram\":[{\"marker\":{\"pattern\":{\"fillmode\":\"overlay\",\"size\":10,\"solidity\":0.2}},\"type\":\"histogram\"}],\"scattergl\":[{\"type\":\"scattergl\",\"marker\":{\"colorbar\":{\"outlinewidth\":0,\"ticks\":\"\"}}}],\"scatter3d\":[{\"type\":\"scatter3d\",\"line\":{\"colorbar\":{\"outlinewidth\":0,\"ticks\":\"\"}},\"marker\":{\"colorbar\":{\"outlinewidth\":0,\"ticks\":\"\"}}}],\"scattermapbox\":[{\"type\":\"scattermapbox\",\"marker\":{\"colorbar\":{\"outlinewidth\":0,\"ticks\":\"\"}}}],\"scatterternary\":[{\"type\":\"scatterternary\",\"marker\":{\"colorbar\":{\"outlinewidth\":0,\"ticks\":\"\"}}}],\"scattercarpet\":[{\"type\":\"scattercarpet\",\"marker\":{\"colorbar\":{\"outlinewidth\":0,\"ticks\":\"\"}}}],\"carpet\":[{\"aaxis\":{\"endlinecolor\":\"#2a3f5f\",\"gridcolor\":\"white\",\"linecolor\":\"white\",\"minorgridcolor\":\"white\",\"startlinecolor\":\"#2a3f5f\"},\"baxis\":{\"endlinecolor\":\"#2a3f5f\",\"gridcolor\":\"white\",\"linecolor\":\"white\",\"minorgridcolor\":\"white\",\"startlinecolor\":\"#2a3f5f\"},\"type\":\"carpet\"}],\"table\":[{\"cells\":{\"fill\":{\"color\":\"#EBF0F8\"},\"line\":{\"color\":\"white\"}},\"header\":{\"fill\":{\"color\":\"#C8D4E3\"},\"line\":{\"color\":\"white\"}},\"type\":\"table\"}],\"barpolar\":[{\"marker\":{\"line\":{\"color\":\"#E5ECF6\",\"width\":0.5},\"pattern\":{\"fillmode\":\"overlay\",\"size\":10,\"solidity\":0.2}},\"type\":\"barpolar\"}],\"pie\":[{\"automargin\":true,\"type\":\"pie\"}]},\"layout\":{\"autotypenumbers\":\"strict\",\"colorway\":[\"#636efa\",\"#EF553B\",\"#00cc96\",\"#ab63fa\",\"#FFA15A\",\"#19d3f3\",\"#FF6692\",\"#B6E880\",\"#FF97FF\",\"#FECB52\"],\"font\":{\"color\":\"#2a3f5f\"},\"hovermode\":\"closest\",\"hoverlabel\":{\"align\":\"left\"},\"paper_bgcolor\":\"white\",\"plot_bgcolor\":\"#E5ECF6\",\"polar\":{\"bgcolor\":\"#E5ECF6\",\"angularaxis\":{\"gridcolor\":\"white\",\"linecolor\":\"white\",\"ticks\":\"\"},\"radialaxis\":{\"gridcolor\":\"white\",\"linecolor\":\"white\",\"ticks\":\"\"}},\"ternary\":{\"bgcolor\":\"#E5ECF6\",\"aaxis\":{\"gridcolor\":\"white\",\"linecolor\":\"white\",\"ticks\":\"\"},\"baxis\":{\"gridcolor\":\"white\",\"linecolor\":\"white\",\"ticks\":\"\"},\"caxis\":{\"gridcolor\":\"white\",\"linecolor\":\"white\",\"ticks\":\"\"}},\"coloraxis\":{\"colorbar\":{\"outlinewidth\":0,\"ticks\":\"\"}},\"colorscale\":{\"sequential\":[[0.0,\"#0d0887\"],[0.1111111111111111,\"#46039f\"],[0.2222222222222222,\"#7201a8\"],[0.3333333333333333,\"#9c179e\"],[0.4444444444444444,\"#bd3786\"],[0.5555555555555556,\"#d8576b\"],[0.6666666666666666,\"#ed7953\"],[0.7777777777777778,\"#fb9f3a\"],[0.8888888888888888,\"#fdca26\"],[1.0,\"#f0f921\"]],\"sequentialminus\":[[0.0,\"#0d0887\"],[0.1111111111111111,\"#46039f\"],[0.2222222222222222,\"#7201a8\"],[0.3333333333333333,\"#9c179e\"],[0.4444444444444444,\"#bd3786\"],[0.5555555555555556,\"#d8576b\"],[0.6666666666666666,\"#ed7953\"],[0.7777777777777778,\"#fb9f3a\"],[0.8888888888888888,\"#fdca26\"],[1.0,\"#f0f921\"]],\"diverging\":[[0,\"#8e0152\"],[0.1,\"#c51b7d\"],[0.2,\"#de77ae\"],[0.3,\"#f1b6da\"],[0.4,\"#fde0ef\"],[0.5,\"#f7f7f7\"],[0.6,\"#e6f5d0\"],[0.7,\"#b8e186\"],[0.8,\"#7fbc41\"],[0.9,\"#4d9221\"],[1,\"#276419\"]]},\"xaxis\":{\"gridcolor\":\"white\",\"linecolor\":\"white\",\"ticks\":\"\",\"title\":{\"standoff\":15},\"zerolinecolor\":\"white\",\"automargin\":true,\"zerolinewidth\":2},\"yaxis\":{\"gridcolor\":\"white\",\"linecolor\":\"white\",\"ticks\":\"\",\"title\":{\"standoff\":15},\"zerolinecolor\":\"white\",\"automargin\":true,\"zerolinewidth\":2},\"scene\":{\"xaxis\":{\"backgroundcolor\":\"#E5ECF6\",\"gridcolor\":\"white\",\"linecolor\":\"white\",\"showbackground\":true,\"ticks\":\"\",\"zerolinecolor\":\"white\",\"gridwidth\":2},\"yaxis\":{\"backgroundcolor\":\"#E5ECF6\",\"gridcolor\":\"white\",\"linecolor\":\"white\",\"showbackground\":true,\"ticks\":\"\",\"zerolinecolor\":\"white\",\"gridwidth\":2},\"zaxis\":{\"backgroundcolor\":\"#E5ECF6\",\"gridcolor\":\"white\",\"linecolor\":\"white\",\"showbackground\":true,\"ticks\":\"\",\"zerolinecolor\":\"white\",\"gridwidth\":2}},\"shapedefaults\":{\"line\":{\"color\":\"#2a3f5f\"}},\"annotationdefaults\":{\"arrowcolor\":\"#2a3f5f\",\"arrowhead\":0,\"arrowwidth\":1},\"geo\":{\"bgcolor\":\"white\",\"landcolor\":\"#E5ECF6\",\"subunitcolor\":\"white\",\"showland\":true,\"showlakes\":true,\"lakecolor\":\"white\"},\"title\":{\"x\":0.05},\"mapbox\":{\"style\":\"light\"}}}},                        {\"responsive\": true}                    ).then(function(){\n",
       "                            \n",
       "var gd = document.getElementById('4c88f2f4-fc7e-457f-8e5e-6c5524cb9c04');\n",
       "var x = new MutationObserver(function (mutations, observer) {{\n",
       "        var display = window.getComputedStyle(gd).display;\n",
       "        if (!display || display === 'none') {{\n",
       "            console.log([gd, 'removed!']);\n",
       "            Plotly.purge(gd);\n",
       "            observer.disconnect();\n",
       "        }}\n",
       "}});\n",
       "\n",
       "// Listen for the removal of the full notebook cells\n",
       "var notebookContainer = gd.closest('#notebook-container');\n",
       "if (notebookContainer) {{\n",
       "    x.observe(notebookContainer, {childList: true});\n",
       "}}\n",
       "\n",
       "// Listen for the clearing of the current output cell\n",
       "var outputEl = gd.closest('.output');\n",
       "if (outputEl) {{\n",
       "    x.observe(outputEl, {childList: true});\n",
       "}}\n",
       "\n",
       "                        })                };                });            </script>        </div>"
      ]
     },
     "metadata": {},
     "output_type": "display_data"
    }
   ],
   "source": [
    "if config['tune_parameters']:\n",
    "    fig = optuna.visualization.plot_optimization_history(study)\n",
    "    fig.show()"
   ]
  },
  {
   "cell_type": "code",
   "execution_count": 17,
   "id": "32b48fb8",
   "metadata": {
    "execution": {
     "iopub.execute_input": "2023-12-03T21:01:54.344098Z",
     "iopub.status.busy": "2023-12-03T21:01:54.342445Z",
     "iopub.status.idle": "2023-12-03T21:01:57.627476Z",
     "shell.execute_reply": "2023-12-03T21:01:57.625882Z"
    },
    "papermill": {
     "duration": 3.328779,
     "end_time": "2023-12-03T21:01:57.630419",
     "exception": false,
     "start_time": "2023-12-03T21:01:54.301640",
     "status": "completed"
    },
    "tags": []
   },
   "outputs": [
    {
     "data": {
      "text/html": [
       "<div>                            <div id=\"5b2cf5ae-034d-4077-b8fb-2929659aae24\" class=\"plotly-graph-div\" style=\"height:525px; width:100%;\"></div>            <script type=\"text/javascript\">                require([\"plotly\"], function(Plotly) {                    window.PLOTLYENV=window.PLOTLYENV || {};                                    if (document.getElementById(\"5b2cf5ae-034d-4077-b8fb-2929659aae24\")) {                    Plotly.newPlot(                        \"5b2cf5ae-034d-4077-b8fb-2929659aae24\",                        [{\"cliponaxis\":false,\"hovertemplate\":[\"l1_ratio (FloatDistribution): 0.05762929460565229\\u003cextra\\u003e\\u003c\\u002fextra\\u003e\",\"positive_only (CategoricalDistribution): 0.17130544749925608\\u003cextra\\u003e\\u003c\\u002fextra\\u003e\",\"topK (IntDistribution): 0.26572966770739004\\u003cextra\\u003e\\u003c\\u002fextra\\u003e\",\"alpha (FloatDistribution): 0.5053355901877017\\u003cextra\\u003e\\u003c\\u002fextra\\u003e\"],\"name\":\"Objective Value\",\"orientation\":\"h\",\"text\":[\"0.06\",\"0.17\",\"0.27\",\"0.51\"],\"textposition\":\"outside\",\"x\":[0.05762929460565229,0.17130544749925608,0.26572966770739004,0.5053355901877017],\"y\":[\"l1_ratio\",\"positive_only\",\"topK\",\"alpha\"],\"type\":\"bar\"}],                        {\"title\":{\"text\":\"Hyperparameter Importances\"},\"xaxis\":{\"title\":{\"text\":\"Hyperparameter Importance\"}},\"yaxis\":{\"title\":{\"text\":\"Hyperparameter\"}},\"template\":{\"data\":{\"histogram2dcontour\":[{\"type\":\"histogram2dcontour\",\"colorbar\":{\"outlinewidth\":0,\"ticks\":\"\"},\"colorscale\":[[0.0,\"#0d0887\"],[0.1111111111111111,\"#46039f\"],[0.2222222222222222,\"#7201a8\"],[0.3333333333333333,\"#9c179e\"],[0.4444444444444444,\"#bd3786\"],[0.5555555555555556,\"#d8576b\"],[0.6666666666666666,\"#ed7953\"],[0.7777777777777778,\"#fb9f3a\"],[0.8888888888888888,\"#fdca26\"],[1.0,\"#f0f921\"]]}],\"choropleth\":[{\"type\":\"choropleth\",\"colorbar\":{\"outlinewidth\":0,\"ticks\":\"\"}}],\"histogram2d\":[{\"type\":\"histogram2d\",\"colorbar\":{\"outlinewidth\":0,\"ticks\":\"\"},\"colorscale\":[[0.0,\"#0d0887\"],[0.1111111111111111,\"#46039f\"],[0.2222222222222222,\"#7201a8\"],[0.3333333333333333,\"#9c179e\"],[0.4444444444444444,\"#bd3786\"],[0.5555555555555556,\"#d8576b\"],[0.6666666666666666,\"#ed7953\"],[0.7777777777777778,\"#fb9f3a\"],[0.8888888888888888,\"#fdca26\"],[1.0,\"#f0f921\"]]}],\"heatmap\":[{\"type\":\"heatmap\",\"colorbar\":{\"outlinewidth\":0,\"ticks\":\"\"},\"colorscale\":[[0.0,\"#0d0887\"],[0.1111111111111111,\"#46039f\"],[0.2222222222222222,\"#7201a8\"],[0.3333333333333333,\"#9c179e\"],[0.4444444444444444,\"#bd3786\"],[0.5555555555555556,\"#d8576b\"],[0.6666666666666666,\"#ed7953\"],[0.7777777777777778,\"#fb9f3a\"],[0.8888888888888888,\"#fdca26\"],[1.0,\"#f0f921\"]]}],\"heatmapgl\":[{\"type\":\"heatmapgl\",\"colorbar\":{\"outlinewidth\":0,\"ticks\":\"\"},\"colorscale\":[[0.0,\"#0d0887\"],[0.1111111111111111,\"#46039f\"],[0.2222222222222222,\"#7201a8\"],[0.3333333333333333,\"#9c179e\"],[0.4444444444444444,\"#bd3786\"],[0.5555555555555556,\"#d8576b\"],[0.6666666666666666,\"#ed7953\"],[0.7777777777777778,\"#fb9f3a\"],[0.8888888888888888,\"#fdca26\"],[1.0,\"#f0f921\"]]}],\"contourcarpet\":[{\"type\":\"contourcarpet\",\"colorbar\":{\"outlinewidth\":0,\"ticks\":\"\"}}],\"contour\":[{\"type\":\"contour\",\"colorbar\":{\"outlinewidth\":0,\"ticks\":\"\"},\"colorscale\":[[0.0,\"#0d0887\"],[0.1111111111111111,\"#46039f\"],[0.2222222222222222,\"#7201a8\"],[0.3333333333333333,\"#9c179e\"],[0.4444444444444444,\"#bd3786\"],[0.5555555555555556,\"#d8576b\"],[0.6666666666666666,\"#ed7953\"],[0.7777777777777778,\"#fb9f3a\"],[0.8888888888888888,\"#fdca26\"],[1.0,\"#f0f921\"]]}],\"surface\":[{\"type\":\"surface\",\"colorbar\":{\"outlinewidth\":0,\"ticks\":\"\"},\"colorscale\":[[0.0,\"#0d0887\"],[0.1111111111111111,\"#46039f\"],[0.2222222222222222,\"#7201a8\"],[0.3333333333333333,\"#9c179e\"],[0.4444444444444444,\"#bd3786\"],[0.5555555555555556,\"#d8576b\"],[0.6666666666666666,\"#ed7953\"],[0.7777777777777778,\"#fb9f3a\"],[0.8888888888888888,\"#fdca26\"],[1.0,\"#f0f921\"]]}],\"mesh3d\":[{\"type\":\"mesh3d\",\"colorbar\":{\"outlinewidth\":0,\"ticks\":\"\"}}],\"scatter\":[{\"fillpattern\":{\"fillmode\":\"overlay\",\"size\":10,\"solidity\":0.2},\"type\":\"scatter\"}],\"parcoords\":[{\"type\":\"parcoords\",\"line\":{\"colorbar\":{\"outlinewidth\":0,\"ticks\":\"\"}}}],\"scatterpolargl\":[{\"type\":\"scatterpolargl\",\"marker\":{\"colorbar\":{\"outlinewidth\":0,\"ticks\":\"\"}}}],\"bar\":[{\"error_x\":{\"color\":\"#2a3f5f\"},\"error_y\":{\"color\":\"#2a3f5f\"},\"marker\":{\"line\":{\"color\":\"#E5ECF6\",\"width\":0.5},\"pattern\":{\"fillmode\":\"overlay\",\"size\":10,\"solidity\":0.2}},\"type\":\"bar\"}],\"scattergeo\":[{\"type\":\"scattergeo\",\"marker\":{\"colorbar\":{\"outlinewidth\":0,\"ticks\":\"\"}}}],\"scatterpolar\":[{\"type\":\"scatterpolar\",\"marker\":{\"colorbar\":{\"outlinewidth\":0,\"ticks\":\"\"}}}],\"histogram\":[{\"marker\":{\"pattern\":{\"fillmode\":\"overlay\",\"size\":10,\"solidity\":0.2}},\"type\":\"histogram\"}],\"scattergl\":[{\"type\":\"scattergl\",\"marker\":{\"colorbar\":{\"outlinewidth\":0,\"ticks\":\"\"}}}],\"scatter3d\":[{\"type\":\"scatter3d\",\"line\":{\"colorbar\":{\"outlinewidth\":0,\"ticks\":\"\"}},\"marker\":{\"colorbar\":{\"outlinewidth\":0,\"ticks\":\"\"}}}],\"scattermapbox\":[{\"type\":\"scattermapbox\",\"marker\":{\"colorbar\":{\"outlinewidth\":0,\"ticks\":\"\"}}}],\"scatterternary\":[{\"type\":\"scatterternary\",\"marker\":{\"colorbar\":{\"outlinewidth\":0,\"ticks\":\"\"}}}],\"scattercarpet\":[{\"type\":\"scattercarpet\",\"marker\":{\"colorbar\":{\"outlinewidth\":0,\"ticks\":\"\"}}}],\"carpet\":[{\"aaxis\":{\"endlinecolor\":\"#2a3f5f\",\"gridcolor\":\"white\",\"linecolor\":\"white\",\"minorgridcolor\":\"white\",\"startlinecolor\":\"#2a3f5f\"},\"baxis\":{\"endlinecolor\":\"#2a3f5f\",\"gridcolor\":\"white\",\"linecolor\":\"white\",\"minorgridcolor\":\"white\",\"startlinecolor\":\"#2a3f5f\"},\"type\":\"carpet\"}],\"table\":[{\"cells\":{\"fill\":{\"color\":\"#EBF0F8\"},\"line\":{\"color\":\"white\"}},\"header\":{\"fill\":{\"color\":\"#C8D4E3\"},\"line\":{\"color\":\"white\"}},\"type\":\"table\"}],\"barpolar\":[{\"marker\":{\"line\":{\"color\":\"#E5ECF6\",\"width\":0.5},\"pattern\":{\"fillmode\":\"overlay\",\"size\":10,\"solidity\":0.2}},\"type\":\"barpolar\"}],\"pie\":[{\"automargin\":true,\"type\":\"pie\"}]},\"layout\":{\"autotypenumbers\":\"strict\",\"colorway\":[\"#636efa\",\"#EF553B\",\"#00cc96\",\"#ab63fa\",\"#FFA15A\",\"#19d3f3\",\"#FF6692\",\"#B6E880\",\"#FF97FF\",\"#FECB52\"],\"font\":{\"color\":\"#2a3f5f\"},\"hovermode\":\"closest\",\"hoverlabel\":{\"align\":\"left\"},\"paper_bgcolor\":\"white\",\"plot_bgcolor\":\"#E5ECF6\",\"polar\":{\"bgcolor\":\"#E5ECF6\",\"angularaxis\":{\"gridcolor\":\"white\",\"linecolor\":\"white\",\"ticks\":\"\"},\"radialaxis\":{\"gridcolor\":\"white\",\"linecolor\":\"white\",\"ticks\":\"\"}},\"ternary\":{\"bgcolor\":\"#E5ECF6\",\"aaxis\":{\"gridcolor\":\"white\",\"linecolor\":\"white\",\"ticks\":\"\"},\"baxis\":{\"gridcolor\":\"white\",\"linecolor\":\"white\",\"ticks\":\"\"},\"caxis\":{\"gridcolor\":\"white\",\"linecolor\":\"white\",\"ticks\":\"\"}},\"coloraxis\":{\"colorbar\":{\"outlinewidth\":0,\"ticks\":\"\"}},\"colorscale\":{\"sequential\":[[0.0,\"#0d0887\"],[0.1111111111111111,\"#46039f\"],[0.2222222222222222,\"#7201a8\"],[0.3333333333333333,\"#9c179e\"],[0.4444444444444444,\"#bd3786\"],[0.5555555555555556,\"#d8576b\"],[0.6666666666666666,\"#ed7953\"],[0.7777777777777778,\"#fb9f3a\"],[0.8888888888888888,\"#fdca26\"],[1.0,\"#f0f921\"]],\"sequentialminus\":[[0.0,\"#0d0887\"],[0.1111111111111111,\"#46039f\"],[0.2222222222222222,\"#7201a8\"],[0.3333333333333333,\"#9c179e\"],[0.4444444444444444,\"#bd3786\"],[0.5555555555555556,\"#d8576b\"],[0.6666666666666666,\"#ed7953\"],[0.7777777777777778,\"#fb9f3a\"],[0.8888888888888888,\"#fdca26\"],[1.0,\"#f0f921\"]],\"diverging\":[[0,\"#8e0152\"],[0.1,\"#c51b7d\"],[0.2,\"#de77ae\"],[0.3,\"#f1b6da\"],[0.4,\"#fde0ef\"],[0.5,\"#f7f7f7\"],[0.6,\"#e6f5d0\"],[0.7,\"#b8e186\"],[0.8,\"#7fbc41\"],[0.9,\"#4d9221\"],[1,\"#276419\"]]},\"xaxis\":{\"gridcolor\":\"white\",\"linecolor\":\"white\",\"ticks\":\"\",\"title\":{\"standoff\":15},\"zerolinecolor\":\"white\",\"automargin\":true,\"zerolinewidth\":2},\"yaxis\":{\"gridcolor\":\"white\",\"linecolor\":\"white\",\"ticks\":\"\",\"title\":{\"standoff\":15},\"zerolinecolor\":\"white\",\"automargin\":true,\"zerolinewidth\":2},\"scene\":{\"xaxis\":{\"backgroundcolor\":\"#E5ECF6\",\"gridcolor\":\"white\",\"linecolor\":\"white\",\"showbackground\":true,\"ticks\":\"\",\"zerolinecolor\":\"white\",\"gridwidth\":2},\"yaxis\":{\"backgroundcolor\":\"#E5ECF6\",\"gridcolor\":\"white\",\"linecolor\":\"white\",\"showbackground\":true,\"ticks\":\"\",\"zerolinecolor\":\"white\",\"gridwidth\":2},\"zaxis\":{\"backgroundcolor\":\"#E5ECF6\",\"gridcolor\":\"white\",\"linecolor\":\"white\",\"showbackground\":true,\"ticks\":\"\",\"zerolinecolor\":\"white\",\"gridwidth\":2}},\"shapedefaults\":{\"line\":{\"color\":\"#2a3f5f\"}},\"annotationdefaults\":{\"arrowcolor\":\"#2a3f5f\",\"arrowhead\":0,\"arrowwidth\":1},\"geo\":{\"bgcolor\":\"white\",\"landcolor\":\"#E5ECF6\",\"subunitcolor\":\"white\",\"showland\":true,\"showlakes\":true,\"lakecolor\":\"white\"},\"title\":{\"x\":0.05},\"mapbox\":{\"style\":\"light\"}}}},                        {\"responsive\": true}                    ).then(function(){\n",
       "                            \n",
       "var gd = document.getElementById('5b2cf5ae-034d-4077-b8fb-2929659aae24');\n",
       "var x = new MutationObserver(function (mutations, observer) {{\n",
       "        var display = window.getComputedStyle(gd).display;\n",
       "        if (!display || display === 'none') {{\n",
       "            console.log([gd, 'removed!']);\n",
       "            Plotly.purge(gd);\n",
       "            observer.disconnect();\n",
       "        }}\n",
       "}});\n",
       "\n",
       "// Listen for the removal of the full notebook cells\n",
       "var notebookContainer = gd.closest('#notebook-container');\n",
       "if (notebookContainer) {{\n",
       "    x.observe(notebookContainer, {childList: true});\n",
       "}}\n",
       "\n",
       "// Listen for the clearing of the current output cell\n",
       "var outputEl = gd.closest('.output');\n",
       "if (outputEl) {{\n",
       "    x.observe(outputEl, {childList: true});\n",
       "}}\n",
       "\n",
       "                        })                };                });            </script>        </div>"
      ]
     },
     "metadata": {},
     "output_type": "display_data"
    }
   ],
   "source": [
    "if config['tune_parameters']:\n",
    "    fig = optuna.visualization.plot_param_importances(study)\n",
    "    fig.show()"
   ]
  },
  {
   "cell_type": "code",
   "execution_count": 18,
   "id": "e1db0eda",
   "metadata": {
    "execution": {
     "iopub.execute_input": "2023-12-03T21:01:57.709730Z",
     "iopub.status.busy": "2023-12-03T21:01:57.708907Z",
     "iopub.status.idle": "2023-12-03T21:01:58.216167Z",
     "shell.execute_reply": "2023-12-03T21:01:58.211829Z"
    },
    "papermill": {
     "duration": 0.551516,
     "end_time": "2023-12-03T21:01:58.220180",
     "exception": false,
     "start_time": "2023-12-03T21:01:57.668664",
     "status": "completed"
    },
    "tags": []
   },
   "outputs": [
    {
     "data": {
      "text/html": [
       "<div>                            <div id=\"42a0ecbd-175d-433e-b3dd-a2119805314e\" class=\"plotly-graph-div\" style=\"height:525px; width:1200px;\"></div>            <script type=\"text/javascript\">                require([\"plotly\"], function(Plotly) {                    window.PLOTLYENV=window.PLOTLYENV || {};                                    if (document.getElementById(\"42a0ecbd-175d-433e-b3dd-a2119805314e\")) {                    Plotly.newPlot(                        \"42a0ecbd-175d-433e-b3dd-a2119805314e\",                        [{\"marker\":{\"color\":[0,1,2,3,4,5,6,7,8,9,10,11,12,13,14,15,16,17,18,19,20,21,22,23,24,25,26,27,28,29,30,31,32,33,34,35,36,37,38,39,40,41,42,43,44,45,46,47,48,49,50,51,52,53,54,55,56,57,58,59,60,61,62,63,64,65,66,67,68,69,70,71,72,73,74,75,76,77,78,79,80,81,82,83,84,85,86,87,88,89,90,91,92,93,94,95,96,97,98,99,100,101,102,103,104,105,106,107,108,109,110,111,112,113,114,115,116,117,118,119,120,121,122,123,124,125,126,127,128,129,130,131,132,133,134,135,136,137,138,139],\"colorbar\":{\"title\":{\"text\":\"Trial\"},\"x\":1.0,\"xpad\":40},\"colorscale\":[[0.0,\"rgb(247,251,255)\"],[0.125,\"rgb(222,235,247)\"],[0.25,\"rgb(198,219,239)\"],[0.375,\"rgb(158,202,225)\"],[0.5,\"rgb(107,174,214)\"],[0.625,\"rgb(66,146,198)\"],[0.75,\"rgb(33,113,181)\"],[0.875,\"rgb(8,81,156)\"],[1.0,\"rgb(8,48,107)\"]],\"line\":{\"color\":\"Grey\",\"width\":0.5},\"showscale\":true},\"mode\":\"markers\",\"name\":\"Feasible Trial\",\"showlegend\":false,\"x\":[0.006558904303260537,2.224855369433703,1.1938520692366215,0.00007467297988612247,0.005429845399497339,0.011706178793553894,0.00007857696631003748,0.00034155059602159583,0.002817357552746684,0.0025372088805944177,0.000011368223818297172,0.09992752712667555,0.0011375215663167587,0.07000114579367209,0.0012671043980605574,12.631652895092337,0.0006110669622502134,0.04183556417585505,0.01895755681093831,0.0018510108033711662,0.1978238655773973,0.001792135982970671,0.0035318106224274553,0.01884765947630094,0.00036557046536615323,0.0031026639952016193,0.007000652954520839,0.029247015702840048,0.003095828312540568,0.010015347274092304,0.0002906288276639785,0.003488461647210209,0.004296000743735364,0.009161818969174815,0.2827293516800527,0.005145731034378175,0.027927471448388284,0.0008704451125018333,0.004594464404650701,0.01043740280615934,0.0001435633800528471,0.0029904118502251625,0.00233323318654542,0.0008253036462826692,0.0015577305598975847,0.002429698883851225,0.0005349439804502854,0.00021643939254181683,0.0008963172880013612,0.0019171097952518214,0.00009338035803199899,0.002161036284042584,0.0018071634672969731,0.0005767107541775933,0.0013800978417766222,0.014298270029220642,0.007215221389885069,0.002173771903773276,0.0004338414736850218,0.0010891569564117096,0.0024504507293146844,0.002590948241164432,0.006568487948466307,0.017189691717572016,0.002628593949338806,0.0030417431689745283,0.0041614558040684625,0.005826651916544795,0.0008184214718963096,0.010540247466616566,0.003462766652709474,0.003480431398526927,0.0013129837216874472,0.0028326753089468735,0.005899730083911159,0.0031322891117347624,0.012523171143796996,0.0073769471410060185,0.004105596812952724,0.026526413198814894,0.0012529310618103406,0.0023405742733329273,0.0026819074179088,0.0006395549598236836,0.0031239334831671215,0.005220052786744183,0.008294307418176718,0.0013646004496441254,0.00033330130332656,0.001375627031283601,0.0011104083486481876,0.0016849682121943125,0.0017111848242553538,0.0015869972867407916,0.0015620295722919028,0.001548227967951793,0.0007209457419803617,0.0005725997960286555,0.0007051202651615848,0.0002549367127463108,0.00039987655217837536,0.000807192971643865,0.0010410122997650437,0.0007667825048835933,0.0004620758590801195,0.0008814106452189658,0.0014818995027095405,0.0015435949065747496,0.0006545183011546187,0.00019957657369175876,0.0009491528940213232,0.0016561146119008696,0.0009466836686815082,0.0009524962177498345,0.0004901012131093575,0.0003478605634003867,0.001145168732028009,0.0016571407679000089,0.000708631030146213,0.0017805531772732515,0.0018464115418713723,0.0018910672671190948,0.0019400253860104113,0.001975791857815059,0.0010866462344771345,0.0005286334022693473,0.0018692846014479582,0.004449562792776749,0.0017852969388395723,0.0020416797385065582,0.002198917067586901,0.0021840322872200423,0.001247270246879362,0.0036587413587432518,0.005351683466819431,0.001445096881901989,0.001178173964722599,0.001190233468088293,0.002042346048791254,0.0049238098888749774],\"y\":[0.026554249250069866,0.023849422675216538,0.000056677414653696226,0.03535656978297598,0.04668904692073276,0.034089157436757174,0.025285705936289406,0.034087472370994236,0.05050444189407534,0.04754402803585169,0.029783875135109106,0.03926497735028776,0.04732866220959264,0.040896523299450344,0.0476716262250891,0.011328867909060987,0.04267025995555146,0.03726981394445086,0.045557768153168504,0.048912407700903125,0.033796081235350856,0.04813308376143185,0.04807863412516322,0.044660140452509094,0.04355057398501412,0.048145755911393646,0.04682781815863372,0.04236372220400585,0.0500289307574606,0.04791242743590749,0.035939173680184164,0.050174518162277096,0.04992723096634802,0.04802436665816605,0.03566333145091797,0.049560899946564464,0.04439221879136816,0.04870549756500489,0.04981599005963067,0.047743996763459993,0.027270413584969892,0.050403865480138296,0.05034337389635861,0.04856937537192965,0.04998508868607452,0.0503710750112346,0.04670156726296822,0.04114505152354295,0.04903820317338944,0.05029509903936134,0.033001914295430285,0.050282316828797934,0.05001374239443361,0.04703165418807227,0.049606301842339336,0.04681196563680368,0.04862783652736866,0.050134619296584505,0.043693542706550265,0.04925958058561431,0.0506363324467771,0.050450534970428645,0.04908051578193198,0.04544647411374708,0.05075599109192331,0.050602452757436224,0.0501319588661792,0.048354370089020916,0.04962092092639211,0.04724605224007557,0.05047523408751493,0.0503021846649914,0.04976283837942292,0.05048116217923098,0.049320607291629494,0.05071707897645231,0.046535371959291943,0.0484559863858838,0.049973725877752825,0.04306733963031853,0.04983633988535561,0.050419607941366414,0.050493523123353784,0.04731385336588165,0.05075415421843383,0.04968144666691032,0.04828816673953512,0.050758568028078974,0.04318060717018298,0.05109303460608986,0.049273292618501704,0.05084188390352379,0.050605029693592055,0.050772473615817854,0.05080645957056702,0.05082206160964841,0.05084964507353628,0.05028910263416827,0.05085953914210478,0.04695585659027779,0.050074040423361985,0.05077442434510207,0.05100388551875797,0.050752157946831494,0.04933286576553658,0.05068926400578143,0.051023624318383975,0.05090391633572643,0.04990586402885618,0.04763842587532416,0.050808774638394553,0.050828513438020674,0.050471302267400854,0.051008936920854175,0.04898858481801362,0.04692482329580718,0.04979173498014424,0.05114364350688047,0.04947963347542619,0.05095208492731512,0.05103669116843438,0.05104923428182865,0.05092675580816434,0.05090217434206599,0.050825367222890855,0.04878954970792258,0.05097176679904364,0.048591083876805725,0.05104573131854183,0.050984788106776174,0.050839697872263535,0.05088735411277559,0.05119515186845002,0.04902087052622712,0.04850638275585762,0.05087305382494821,0.046414779696628286,0.05066022318771999,0.050883596871547,0.04925378912085191],\"type\":\"scatter\",\"xaxis\":\"x\",\"yaxis\":\"y\"},{\"marker\":{\"color\":[0,1,2,3,4,5,6,7,8,9,10,11,12,13,14,15,16,17,18,19,20,21,22,23,24,25,26,27,28,29,30,31,32,33,34,35,36,37,38,39,40,41,42,43,44,45,46,47,48,49,50,51,52,53,54,55,56,57,58,59,60,61,62,63,64,65,66,67,68,69,70,71,72,73,74,75,76,77,78,79,80,81,82,83,84,85,86,87,88,89,90,91,92,93,94,95,96,97,98,99,100,101,102,103,104,105,106,107,108,109,110,111,112,113,114,115,116,117,118,119,120,121,122,123,124,125,126,127,128,129,130,131,132,133,134,135,136,137,138,139],\"colorbar\":{\"title\":{\"text\":\"Trial\"},\"x\":1.0,\"xpad\":40},\"colorscale\":[[0.0,\"rgb(247,251,255)\"],[0.125,\"rgb(222,235,247)\"],[0.25,\"rgb(198,219,239)\"],[0.375,\"rgb(158,202,225)\"],[0.5,\"rgb(107,174,214)\"],[0.625,\"rgb(66,146,198)\"],[0.75,\"rgb(33,113,181)\"],[0.875,\"rgb(8,81,156)\"],[1.0,\"rgb(8,48,107)\"]],\"line\":{\"color\":\"Grey\",\"width\":0.5},\"showscale\":false},\"mode\":\"markers\",\"name\":\"Feasible Trial\",\"showlegend\":false,\"x\":[0.9166747975638373,0.000010649232340737321,0.02530681440672565,0.000012566999275268119,0.000027605137539250572,0.2094463194718199,0.00006497251891899874,0.0004319775830479434,0.0027659129682702562,0.00012658477684098594,0.002394622298272512,0.0005447958913716434,0.008327850642417879,0.00017037315129027916,0.001458952139482862,0.0012979599612922405,0.006852858190866609,0.025167405617942923,0.0009106183401102572,0.0024026293434420342,0.0033060312056413833,0.000598682420329667,0.0002842033233640903,0.0007506459621795076,0.0031866436437276847,0.0004887281056560131,0.00021813111208052007,0.000060879390096646816,0.000301361302139367,0.001767851946374999,0.006972232308472496,0.0003933781648933103,0.0003478330748525903,0.00031685581557784577,0.00016622881548857322,0.00008085808581127684,0.000028263512036343264,0.0002980531593003109,0.0008549243761552344,0.00009752650893167691,0.00020464606518363096,0.0008604990846883979,0.0004047998624092595,0.001021388036468886,0.0005086633512929709,0.0006863896340815628,0.001208943144911716,0.0007035432212870313,0.0019713947768053674,0.00015565151319723588,0.004347859138891219,0.00048181947862633467,0.00013374510137759659,0.0013045305960013374,0.0007273656380416096,0.0015446912956408254,0.0005541273372670589,0.00020259307184361958,0.0023574821345642098,0.0004512202351395737,0.004364255889773377,0.0011227923074692114,0.004266529138074677,0.0009985771254176115,0.015217852996714867,0.01619670877635645,0.011894629109619963,0.015589430514223894,0.030614851472369378,0.004229727994300196,0.002772045473788638,0.0024200267339734203,0.005639119571097155,0.001729655957322718,0.002601518326247756,0.009903040821995826,0.007554011601719573,0.01049341409953021,0.01801314471077741,0.005792975111740633,0.0031545561189375423,0.0016306707270646907,0.0019806971423978344,0.001929622182992557,0.009044697656260911,0.009074949018797787,0.0057134997566389645,0.032552120712714676,0.03888763229438888,0.05317903982918708,0.047621575658291955,0.05533745085991198,0.06361780767787648,0.06311549434744881,0.06091563639550477,0.05381972250563364,0.07770631066680607,0.08624481576731848,0.08932893349900478,0.11788715937638972,0.143557785855845,0.0662548008424951,0.06297160123119329,0.059778068108203554,0.08171570471312595,0.033614771947891614,0.04510399753681662,0.04680483147911926,0.04446428651705637,0.2270704407282507,0.049542488769629446,0.05369930069065999,0.026206987719322696,0.051717684699688495,0.04301497298472671,0.048295793756040505,0.0877968949238215,0.024380854253870994,0.02354246033795623,0.037680093149384586,0.023325763349451707,0.02784555283531971,0.0365669707804138,0.036247897119806034,0.026093293102777255,0.03624269299964718,0.020670124183478248,0.022173750410448924,0.020227681358069828,0.030735758223050243,0.020127305072529397,0.028127459767716384,0.036267142766006066,0.02996172792965665,0.019486607056352998,0.038770304538934194,0.014212044233258354,0.022692344087251754,0.028791969083839585,0.013399015919485726],\"y\":[0.026554249250069866,0.023849422675216538,0.000056677414653696226,0.03535656978297598,0.04668904692073276,0.034089157436757174,0.025285705936289406,0.034087472370994236,0.05050444189407534,0.04754402803585169,0.029783875135109106,0.03926497735028776,0.04732866220959264,0.040896523299450344,0.0476716262250891,0.011328867909060987,0.04267025995555146,0.03726981394445086,0.045557768153168504,0.048912407700903125,0.033796081235350856,0.04813308376143185,0.04807863412516322,0.044660140452509094,0.04355057398501412,0.048145755911393646,0.04682781815863372,0.04236372220400585,0.0500289307574606,0.04791242743590749,0.035939173680184164,0.050174518162277096,0.04992723096634802,0.04802436665816605,0.03566333145091797,0.049560899946564464,0.04439221879136816,0.04870549756500489,0.04981599005963067,0.047743996763459993,0.027270413584969892,0.050403865480138296,0.05034337389635861,0.04856937537192965,0.04998508868607452,0.0503710750112346,0.04670156726296822,0.04114505152354295,0.04903820317338944,0.05029509903936134,0.033001914295430285,0.050282316828797934,0.05001374239443361,0.04703165418807227,0.049606301842339336,0.04681196563680368,0.04862783652736866,0.050134619296584505,0.043693542706550265,0.04925958058561431,0.0506363324467771,0.050450534970428645,0.04908051578193198,0.04544647411374708,0.05075599109192331,0.050602452757436224,0.0501319588661792,0.048354370089020916,0.04962092092639211,0.04724605224007557,0.05047523408751493,0.0503021846649914,0.04976283837942292,0.05048116217923098,0.049320607291629494,0.05071707897645231,0.046535371959291943,0.0484559863858838,0.049973725877752825,0.04306733963031853,0.04983633988535561,0.050419607941366414,0.050493523123353784,0.04731385336588165,0.05075415421843383,0.04968144666691032,0.04828816673953512,0.050758568028078974,0.04318060717018298,0.05109303460608986,0.049273292618501704,0.05084188390352379,0.050605029693592055,0.050772473615817854,0.05080645957056702,0.05082206160964841,0.05084964507353628,0.05028910263416827,0.05085953914210478,0.04695585659027779,0.050074040423361985,0.05077442434510207,0.05100388551875797,0.050752157946831494,0.04933286576553658,0.05068926400578143,0.051023624318383975,0.05090391633572643,0.04990586402885618,0.04763842587532416,0.050808774638394553,0.050828513438020674,0.050471302267400854,0.051008936920854175,0.04898858481801362,0.04692482329580718,0.04979173498014424,0.05114364350688047,0.04947963347542619,0.05095208492731512,0.05103669116843438,0.05104923428182865,0.05092675580816434,0.05090217434206599,0.050825367222890855,0.04878954970792258,0.05097176679904364,0.048591083876805725,0.05104573131854183,0.050984788106776174,0.050839697872263535,0.05088735411277559,0.05119515186845002,0.04902087052622712,0.04850638275585762,0.05087305382494821,0.046414779696628286,0.05066022318771999,0.050883596871547,0.04925378912085191],\"type\":\"scatter\",\"xaxis\":\"x2\",\"yaxis\":\"y2\"},{\"marker\":{\"color\":[0,1,2,3,4,5,6,7,8,9,10,11,12,13,14,15,16,17,18,19,20,21,22,23,24,25,26,27,28,29,30,31,32,33,34,35,36,37,38,39,40,41,42,43,44,45,46,47,48,49,50,51,52,53,54,55,56,57,58,59,60,61,62,63,64,65,66,67,68,69,70,71,72,73,74,75,76,77,78,79,80,81,82,83,84,85,86,87,88,89,90,91,92,93,94,95,96,97,98,99,100,101,102,103,104,105,106,107,108,109,110,111,112,113,114,115,116,117,118,119,120,121,122,123,124,125,126,127,128,129,130,131,132,133,134,135,136,137,138,139],\"colorbar\":{\"title\":{\"text\":\"Trial\"},\"x\":1.0,\"xpad\":40},\"colorscale\":[[0.0,\"rgb(247,251,255)\"],[0.125,\"rgb(222,235,247)\"],[0.25,\"rgb(198,219,239)\"],[0.375,\"rgb(158,202,225)\"],[0.5,\"rgb(107,174,214)\"],[0.625,\"rgb(66,146,198)\"],[0.75,\"rgb(33,113,181)\"],[0.875,\"rgb(8,81,156)\"],[1.0,\"rgb(8,48,107)\"]],\"line\":{\"color\":\"Grey\",\"width\":0.5},\"showscale\":false},\"mode\":\"markers\",\"name\":\"Feasible Trial\",\"showlegend\":false,\"x\":[false,true,false,true,true,false,false,true,true,false,true,false,false,true,false,true,false,true,true,false,true,false,false,false,false,false,false,false,true,true,true,true,true,true,true,true,true,true,true,true,true,true,true,true,true,true,true,true,true,true,true,true,true,true,true,true,true,true,true,true,true,true,true,true,true,true,true,true,true,true,true,true,true,true,true,true,true,true,true,false,true,true,true,true,true,true,true,true,true,true,false,true,true,true,true,true,true,true,true,true,true,true,true,true,true,true,true,true,true,true,true,true,true,true,true,true,false,true,true,true,true,true,true,true,true,true,true,true,true,true,true,true,true,true,true,true,false,true,true,true],\"y\":[0.026554249250069866,0.023849422675216538,0.000056677414653696226,0.03535656978297598,0.04668904692073276,0.034089157436757174,0.025285705936289406,0.034087472370994236,0.05050444189407534,0.04754402803585169,0.029783875135109106,0.03926497735028776,0.04732866220959264,0.040896523299450344,0.0476716262250891,0.011328867909060987,0.04267025995555146,0.03726981394445086,0.045557768153168504,0.048912407700903125,0.033796081235350856,0.04813308376143185,0.04807863412516322,0.044660140452509094,0.04355057398501412,0.048145755911393646,0.04682781815863372,0.04236372220400585,0.0500289307574606,0.04791242743590749,0.035939173680184164,0.050174518162277096,0.04992723096634802,0.04802436665816605,0.03566333145091797,0.049560899946564464,0.04439221879136816,0.04870549756500489,0.04981599005963067,0.047743996763459993,0.027270413584969892,0.050403865480138296,0.05034337389635861,0.04856937537192965,0.04998508868607452,0.0503710750112346,0.04670156726296822,0.04114505152354295,0.04903820317338944,0.05029509903936134,0.033001914295430285,0.050282316828797934,0.05001374239443361,0.04703165418807227,0.049606301842339336,0.04681196563680368,0.04862783652736866,0.050134619296584505,0.043693542706550265,0.04925958058561431,0.0506363324467771,0.050450534970428645,0.04908051578193198,0.04544647411374708,0.05075599109192331,0.050602452757436224,0.0501319588661792,0.048354370089020916,0.04962092092639211,0.04724605224007557,0.05047523408751493,0.0503021846649914,0.04976283837942292,0.05048116217923098,0.049320607291629494,0.05071707897645231,0.046535371959291943,0.0484559863858838,0.049973725877752825,0.04306733963031853,0.04983633988535561,0.050419607941366414,0.050493523123353784,0.04731385336588165,0.05075415421843383,0.04968144666691032,0.04828816673953512,0.050758568028078974,0.04318060717018298,0.05109303460608986,0.049273292618501704,0.05084188390352379,0.050605029693592055,0.050772473615817854,0.05080645957056702,0.05082206160964841,0.05084964507353628,0.05028910263416827,0.05085953914210478,0.04695585659027779,0.050074040423361985,0.05077442434510207,0.05100388551875797,0.050752157946831494,0.04933286576553658,0.05068926400578143,0.051023624318383975,0.05090391633572643,0.04990586402885618,0.04763842587532416,0.050808774638394553,0.050828513438020674,0.050471302267400854,0.051008936920854175,0.04898858481801362,0.04692482329580718,0.04979173498014424,0.05114364350688047,0.04947963347542619,0.05095208492731512,0.05103669116843438,0.05104923428182865,0.05092675580816434,0.05090217434206599,0.050825367222890855,0.04878954970792258,0.05097176679904364,0.048591083876805725,0.05104573131854183,0.050984788106776174,0.050839697872263535,0.05088735411277559,0.05119515186845002,0.04902087052622712,0.04850638275585762,0.05087305382494821,0.046414779696628286,0.05066022318771999,0.050883596871547,0.04925378912085191],\"type\":\"scatter\",\"xaxis\":\"x3\",\"yaxis\":\"y3\"},{\"marker\":{\"color\":[0,1,2,3,4,5,6,7,8,9,10,11,12,13,14,15,16,17,18,19,20,21,22,23,24,25,26,27,28,29,30,31,32,33,34,35,36,37,38,39,40,41,42,43,44,45,46,47,48,49,50,51,52,53,54,55,56,57,58,59,60,61,62,63,64,65,66,67,68,69,70,71,72,73,74,75,76,77,78,79,80,81,82,83,84,85,86,87,88,89,90,91,92,93,94,95,96,97,98,99,100,101,102,103,104,105,106,107,108,109,110,111,112,113,114,115,116,117,118,119,120,121,122,123,124,125,126,127,128,129,130,131,132,133,134,135,136,137,138,139],\"colorbar\":{\"title\":{\"text\":\"Trial\"},\"x\":1.0,\"xpad\":40},\"colorscale\":[[0.0,\"rgb(247,251,255)\"],[0.125,\"rgb(222,235,247)\"],[0.25,\"rgb(198,219,239)\"],[0.375,\"rgb(158,202,225)\"],[0.5,\"rgb(107,174,214)\"],[0.625,\"rgb(66,146,198)\"],[0.75,\"rgb(33,113,181)\"],[0.875,\"rgb(8,81,156)\"],[1.0,\"rgb(8,48,107)\"]],\"line\":{\"color\":\"Grey\",\"width\":0.5},\"showscale\":false},\"mode\":\"markers\",\"name\":\"Feasible Trial\",\"showlegend\":false,\"x\":[87,302,45,750,5,77,194,10,81,184,1912,31,256,32,125,98,406,17,134,58,55,102,60,41,22,88,66,134,44,41,22,77,72,74,41,89,56,185,121,77,47,139,158,170,243,298,328,484,219,303,318,157,162,251,154,114,193,483,103,143,206,211,201,280,222,229,225,380,115,228,128,190,128,94,92,107,113,98,83,66,206,139,174,174,103,103,82,122,67,171,176,148,151,251,271,257,349,270,252,262,328,261,252,361,262,421,297,299,299,361,244,253,278,328,443,333,548,307,355,300,392,311,393,390,406,311,391,540,388,419,455,400,388,548,297,499,431,620,378,330],\"y\":[0.026554249250069866,0.023849422675216538,0.000056677414653696226,0.03535656978297598,0.04668904692073276,0.034089157436757174,0.025285705936289406,0.034087472370994236,0.05050444189407534,0.04754402803585169,0.029783875135109106,0.03926497735028776,0.04732866220959264,0.040896523299450344,0.0476716262250891,0.011328867909060987,0.04267025995555146,0.03726981394445086,0.045557768153168504,0.048912407700903125,0.033796081235350856,0.04813308376143185,0.04807863412516322,0.044660140452509094,0.04355057398501412,0.048145755911393646,0.04682781815863372,0.04236372220400585,0.0500289307574606,0.04791242743590749,0.035939173680184164,0.050174518162277096,0.04992723096634802,0.04802436665816605,0.03566333145091797,0.049560899946564464,0.04439221879136816,0.04870549756500489,0.04981599005963067,0.047743996763459993,0.027270413584969892,0.050403865480138296,0.05034337389635861,0.04856937537192965,0.04998508868607452,0.0503710750112346,0.04670156726296822,0.04114505152354295,0.04903820317338944,0.05029509903936134,0.033001914295430285,0.050282316828797934,0.05001374239443361,0.04703165418807227,0.049606301842339336,0.04681196563680368,0.04862783652736866,0.050134619296584505,0.043693542706550265,0.04925958058561431,0.0506363324467771,0.050450534970428645,0.04908051578193198,0.04544647411374708,0.05075599109192331,0.050602452757436224,0.0501319588661792,0.048354370089020916,0.04962092092639211,0.04724605224007557,0.05047523408751493,0.0503021846649914,0.04976283837942292,0.05048116217923098,0.049320607291629494,0.05071707897645231,0.046535371959291943,0.0484559863858838,0.049973725877752825,0.04306733963031853,0.04983633988535561,0.050419607941366414,0.050493523123353784,0.04731385336588165,0.05075415421843383,0.04968144666691032,0.04828816673953512,0.050758568028078974,0.04318060717018298,0.05109303460608986,0.049273292618501704,0.05084188390352379,0.050605029693592055,0.050772473615817854,0.05080645957056702,0.05082206160964841,0.05084964507353628,0.05028910263416827,0.05085953914210478,0.04695585659027779,0.050074040423361985,0.05077442434510207,0.05100388551875797,0.050752157946831494,0.04933286576553658,0.05068926400578143,0.051023624318383975,0.05090391633572643,0.04990586402885618,0.04763842587532416,0.050808774638394553,0.050828513438020674,0.050471302267400854,0.051008936920854175,0.04898858481801362,0.04692482329580718,0.04979173498014424,0.05114364350688047,0.04947963347542619,0.05095208492731512,0.05103669116843438,0.05104923428182865,0.05092675580816434,0.05090217434206599,0.050825367222890855,0.04878954970792258,0.05097176679904364,0.048591083876805725,0.05104573131854183,0.050984788106776174,0.050839697872263535,0.05088735411277559,0.05119515186845002,0.04902087052622712,0.04850638275585762,0.05087305382494821,0.046414779696628286,0.05066022318771999,0.050883596871547,0.04925378912085191],\"type\":\"scatter\",\"xaxis\":\"x4\",\"yaxis\":\"y4\"}],                        {\"template\":{\"data\":{\"histogram2dcontour\":[{\"type\":\"histogram2dcontour\",\"colorbar\":{\"outlinewidth\":0,\"ticks\":\"\"},\"colorscale\":[[0.0,\"#0d0887\"],[0.1111111111111111,\"#46039f\"],[0.2222222222222222,\"#7201a8\"],[0.3333333333333333,\"#9c179e\"],[0.4444444444444444,\"#bd3786\"],[0.5555555555555556,\"#d8576b\"],[0.6666666666666666,\"#ed7953\"],[0.7777777777777778,\"#fb9f3a\"],[0.8888888888888888,\"#fdca26\"],[1.0,\"#f0f921\"]]}],\"choropleth\":[{\"type\":\"choropleth\",\"colorbar\":{\"outlinewidth\":0,\"ticks\":\"\"}}],\"histogram2d\":[{\"type\":\"histogram2d\",\"colorbar\":{\"outlinewidth\":0,\"ticks\":\"\"},\"colorscale\":[[0.0,\"#0d0887\"],[0.1111111111111111,\"#46039f\"],[0.2222222222222222,\"#7201a8\"],[0.3333333333333333,\"#9c179e\"],[0.4444444444444444,\"#bd3786\"],[0.5555555555555556,\"#d8576b\"],[0.6666666666666666,\"#ed7953\"],[0.7777777777777778,\"#fb9f3a\"],[0.8888888888888888,\"#fdca26\"],[1.0,\"#f0f921\"]]}],\"heatmap\":[{\"type\":\"heatmap\",\"colorbar\":{\"outlinewidth\":0,\"ticks\":\"\"},\"colorscale\":[[0.0,\"#0d0887\"],[0.1111111111111111,\"#46039f\"],[0.2222222222222222,\"#7201a8\"],[0.3333333333333333,\"#9c179e\"],[0.4444444444444444,\"#bd3786\"],[0.5555555555555556,\"#d8576b\"],[0.6666666666666666,\"#ed7953\"],[0.7777777777777778,\"#fb9f3a\"],[0.8888888888888888,\"#fdca26\"],[1.0,\"#f0f921\"]]}],\"heatmapgl\":[{\"type\":\"heatmapgl\",\"colorbar\":{\"outlinewidth\":0,\"ticks\":\"\"},\"colorscale\":[[0.0,\"#0d0887\"],[0.1111111111111111,\"#46039f\"],[0.2222222222222222,\"#7201a8\"],[0.3333333333333333,\"#9c179e\"],[0.4444444444444444,\"#bd3786\"],[0.5555555555555556,\"#d8576b\"],[0.6666666666666666,\"#ed7953\"],[0.7777777777777778,\"#fb9f3a\"],[0.8888888888888888,\"#fdca26\"],[1.0,\"#f0f921\"]]}],\"contourcarpet\":[{\"type\":\"contourcarpet\",\"colorbar\":{\"outlinewidth\":0,\"ticks\":\"\"}}],\"contour\":[{\"type\":\"contour\",\"colorbar\":{\"outlinewidth\":0,\"ticks\":\"\"},\"colorscale\":[[0.0,\"#0d0887\"],[0.1111111111111111,\"#46039f\"],[0.2222222222222222,\"#7201a8\"],[0.3333333333333333,\"#9c179e\"],[0.4444444444444444,\"#bd3786\"],[0.5555555555555556,\"#d8576b\"],[0.6666666666666666,\"#ed7953\"],[0.7777777777777778,\"#fb9f3a\"],[0.8888888888888888,\"#fdca26\"],[1.0,\"#f0f921\"]]}],\"surface\":[{\"type\":\"surface\",\"colorbar\":{\"outlinewidth\":0,\"ticks\":\"\"},\"colorscale\":[[0.0,\"#0d0887\"],[0.1111111111111111,\"#46039f\"],[0.2222222222222222,\"#7201a8\"],[0.3333333333333333,\"#9c179e\"],[0.4444444444444444,\"#bd3786\"],[0.5555555555555556,\"#d8576b\"],[0.6666666666666666,\"#ed7953\"],[0.7777777777777778,\"#fb9f3a\"],[0.8888888888888888,\"#fdca26\"],[1.0,\"#f0f921\"]]}],\"mesh3d\":[{\"type\":\"mesh3d\",\"colorbar\":{\"outlinewidth\":0,\"ticks\":\"\"}}],\"scatter\":[{\"fillpattern\":{\"fillmode\":\"overlay\",\"size\":10,\"solidity\":0.2},\"type\":\"scatter\"}],\"parcoords\":[{\"type\":\"parcoords\",\"line\":{\"colorbar\":{\"outlinewidth\":0,\"ticks\":\"\"}}}],\"scatterpolargl\":[{\"type\":\"scatterpolargl\",\"marker\":{\"colorbar\":{\"outlinewidth\":0,\"ticks\":\"\"}}}],\"bar\":[{\"error_x\":{\"color\":\"#2a3f5f\"},\"error_y\":{\"color\":\"#2a3f5f\"},\"marker\":{\"line\":{\"color\":\"#E5ECF6\",\"width\":0.5},\"pattern\":{\"fillmode\":\"overlay\",\"size\":10,\"solidity\":0.2}},\"type\":\"bar\"}],\"scattergeo\":[{\"type\":\"scattergeo\",\"marker\":{\"colorbar\":{\"outlinewidth\":0,\"ticks\":\"\"}}}],\"scatterpolar\":[{\"type\":\"scatterpolar\",\"marker\":{\"colorbar\":{\"outlinewidth\":0,\"ticks\":\"\"}}}],\"histogram\":[{\"marker\":{\"pattern\":{\"fillmode\":\"overlay\",\"size\":10,\"solidity\":0.2}},\"type\":\"histogram\"}],\"scattergl\":[{\"type\":\"scattergl\",\"marker\":{\"colorbar\":{\"outlinewidth\":0,\"ticks\":\"\"}}}],\"scatter3d\":[{\"type\":\"scatter3d\",\"line\":{\"colorbar\":{\"outlinewidth\":0,\"ticks\":\"\"}},\"marker\":{\"colorbar\":{\"outlinewidth\":0,\"ticks\":\"\"}}}],\"scattermapbox\":[{\"type\":\"scattermapbox\",\"marker\":{\"colorbar\":{\"outlinewidth\":0,\"ticks\":\"\"}}}],\"scatterternary\":[{\"type\":\"scatterternary\",\"marker\":{\"colorbar\":{\"outlinewidth\":0,\"ticks\":\"\"}}}],\"scattercarpet\":[{\"type\":\"scattercarpet\",\"marker\":{\"colorbar\":{\"outlinewidth\":0,\"ticks\":\"\"}}}],\"carpet\":[{\"aaxis\":{\"endlinecolor\":\"#2a3f5f\",\"gridcolor\":\"white\",\"linecolor\":\"white\",\"minorgridcolor\":\"white\",\"startlinecolor\":\"#2a3f5f\"},\"baxis\":{\"endlinecolor\":\"#2a3f5f\",\"gridcolor\":\"white\",\"linecolor\":\"white\",\"minorgridcolor\":\"white\",\"startlinecolor\":\"#2a3f5f\"},\"type\":\"carpet\"}],\"table\":[{\"cells\":{\"fill\":{\"color\":\"#EBF0F8\"},\"line\":{\"color\":\"white\"}},\"header\":{\"fill\":{\"color\":\"#C8D4E3\"},\"line\":{\"color\":\"white\"}},\"type\":\"table\"}],\"barpolar\":[{\"marker\":{\"line\":{\"color\":\"#E5ECF6\",\"width\":0.5},\"pattern\":{\"fillmode\":\"overlay\",\"size\":10,\"solidity\":0.2}},\"type\":\"barpolar\"}],\"pie\":[{\"automargin\":true,\"type\":\"pie\"}]},\"layout\":{\"autotypenumbers\":\"strict\",\"colorway\":[\"#636efa\",\"#EF553B\",\"#00cc96\",\"#ab63fa\",\"#FFA15A\",\"#19d3f3\",\"#FF6692\",\"#B6E880\",\"#FF97FF\",\"#FECB52\"],\"font\":{\"color\":\"#2a3f5f\"},\"hovermode\":\"closest\",\"hoverlabel\":{\"align\":\"left\"},\"paper_bgcolor\":\"white\",\"plot_bgcolor\":\"#E5ECF6\",\"polar\":{\"bgcolor\":\"#E5ECF6\",\"angularaxis\":{\"gridcolor\":\"white\",\"linecolor\":\"white\",\"ticks\":\"\"},\"radialaxis\":{\"gridcolor\":\"white\",\"linecolor\":\"white\",\"ticks\":\"\"}},\"ternary\":{\"bgcolor\":\"#E5ECF6\",\"aaxis\":{\"gridcolor\":\"white\",\"linecolor\":\"white\",\"ticks\":\"\"},\"baxis\":{\"gridcolor\":\"white\",\"linecolor\":\"white\",\"ticks\":\"\"},\"caxis\":{\"gridcolor\":\"white\",\"linecolor\":\"white\",\"ticks\":\"\"}},\"coloraxis\":{\"colorbar\":{\"outlinewidth\":0,\"ticks\":\"\"}},\"colorscale\":{\"sequential\":[[0.0,\"#0d0887\"],[0.1111111111111111,\"#46039f\"],[0.2222222222222222,\"#7201a8\"],[0.3333333333333333,\"#9c179e\"],[0.4444444444444444,\"#bd3786\"],[0.5555555555555556,\"#d8576b\"],[0.6666666666666666,\"#ed7953\"],[0.7777777777777778,\"#fb9f3a\"],[0.8888888888888888,\"#fdca26\"],[1.0,\"#f0f921\"]],\"sequentialminus\":[[0.0,\"#0d0887\"],[0.1111111111111111,\"#46039f\"],[0.2222222222222222,\"#7201a8\"],[0.3333333333333333,\"#9c179e\"],[0.4444444444444444,\"#bd3786\"],[0.5555555555555556,\"#d8576b\"],[0.6666666666666666,\"#ed7953\"],[0.7777777777777778,\"#fb9f3a\"],[0.8888888888888888,\"#fdca26\"],[1.0,\"#f0f921\"]],\"diverging\":[[0,\"#8e0152\"],[0.1,\"#c51b7d\"],[0.2,\"#de77ae\"],[0.3,\"#f1b6da\"],[0.4,\"#fde0ef\"],[0.5,\"#f7f7f7\"],[0.6,\"#e6f5d0\"],[0.7,\"#b8e186\"],[0.8,\"#7fbc41\"],[0.9,\"#4d9221\"],[1,\"#276419\"]]},\"xaxis\":{\"gridcolor\":\"white\",\"linecolor\":\"white\",\"ticks\":\"\",\"title\":{\"standoff\":15},\"zerolinecolor\":\"white\",\"automargin\":true,\"zerolinewidth\":2},\"yaxis\":{\"gridcolor\":\"white\",\"linecolor\":\"white\",\"ticks\":\"\",\"title\":{\"standoff\":15},\"zerolinecolor\":\"white\",\"automargin\":true,\"zerolinewidth\":2},\"scene\":{\"xaxis\":{\"backgroundcolor\":\"#E5ECF6\",\"gridcolor\":\"white\",\"linecolor\":\"white\",\"showbackground\":true,\"ticks\":\"\",\"zerolinecolor\":\"white\",\"gridwidth\":2},\"yaxis\":{\"backgroundcolor\":\"#E5ECF6\",\"gridcolor\":\"white\",\"linecolor\":\"white\",\"showbackground\":true,\"ticks\":\"\",\"zerolinecolor\":\"white\",\"gridwidth\":2},\"zaxis\":{\"backgroundcolor\":\"#E5ECF6\",\"gridcolor\":\"white\",\"linecolor\":\"white\",\"showbackground\":true,\"ticks\":\"\",\"zerolinecolor\":\"white\",\"gridwidth\":2}},\"shapedefaults\":{\"line\":{\"color\":\"#2a3f5f\"}},\"annotationdefaults\":{\"arrowcolor\":\"#2a3f5f\",\"arrowhead\":0,\"arrowwidth\":1},\"geo\":{\"bgcolor\":\"white\",\"landcolor\":\"#E5ECF6\",\"subunitcolor\":\"white\",\"showland\":true,\"showlakes\":true,\"lakecolor\":\"white\"},\"title\":{\"x\":0.05},\"mapbox\":{\"style\":\"light\"}}},\"xaxis\":{\"anchor\":\"y\",\"domain\":[0.0,0.2125],\"title\":{\"text\":\"alpha\"},\"type\":\"log\"},\"yaxis\":{\"anchor\":\"x\",\"domain\":[0.0,1.0],\"title\":{\"text\":\"Objective Value\"}},\"xaxis2\":{\"anchor\":\"y2\",\"domain\":[0.2625,0.475],\"title\":{\"text\":\"l1_ratio\"},\"type\":\"log\"},\"yaxis2\":{\"anchor\":\"x2\",\"domain\":[0.0,1.0],\"matches\":\"y\",\"showticklabels\":false},\"xaxis3\":{\"anchor\":\"y3\",\"domain\":[0.525,0.7375],\"title\":{\"text\":\"positive_only\"},\"type\":\"category\",\"categoryorder\":\"array\",\"categoryarray\":[true,false]},\"yaxis3\":{\"anchor\":\"x3\",\"domain\":[0.0,1.0],\"matches\":\"y\",\"showticklabels\":false},\"xaxis4\":{\"anchor\":\"y4\",\"domain\":[0.7875,1.0],\"title\":{\"text\":\"topK\"},\"type\":\"log\"},\"yaxis4\":{\"anchor\":\"x4\",\"domain\":[0.0,1.0],\"matches\":\"y\",\"showticklabels\":false},\"title\":{\"text\":\"Slice Plot\"},\"width\":1200},                        {\"responsive\": true}                    ).then(function(){\n",
       "                            \n",
       "var gd = document.getElementById('42a0ecbd-175d-433e-b3dd-a2119805314e');\n",
       "var x = new MutationObserver(function (mutations, observer) {{\n",
       "        var display = window.getComputedStyle(gd).display;\n",
       "        if (!display || display === 'none') {{\n",
       "            console.log([gd, 'removed!']);\n",
       "            Plotly.purge(gd);\n",
       "            observer.disconnect();\n",
       "        }}\n",
       "}});\n",
       "\n",
       "// Listen for the removal of the full notebook cells\n",
       "var notebookContainer = gd.closest('#notebook-container');\n",
       "if (notebookContainer) {{\n",
       "    x.observe(notebookContainer, {childList: true});\n",
       "}}\n",
       "\n",
       "// Listen for the clearing of the current output cell\n",
       "var outputEl = gd.closest('.output');\n",
       "if (outputEl) {{\n",
       "    x.observe(outputEl, {childList: true});\n",
       "}}\n",
       "\n",
       "                        })                };                });            </script>        </div>"
      ]
     },
     "metadata": {},
     "output_type": "display_data"
    }
   ],
   "source": [
    "if config['tune_parameters']:\n",
    "    fig = optuna.visualization.plot_slice(study)\n",
    "    fig.show()"
   ]
  },
  {
   "cell_type": "code",
   "execution_count": 19,
   "id": "527dff7d",
   "metadata": {
    "execution": {
     "iopub.execute_input": "2023-12-03T21:01:58.324684Z",
     "iopub.status.busy": "2023-12-03T21:01:58.323517Z",
     "iopub.status.idle": "2023-12-03T21:01:59.177083Z",
     "shell.execute_reply": "2023-12-03T21:01:59.175777Z"
    },
    "papermill": {
     "duration": 0.910161,
     "end_time": "2023-12-03T21:01:59.180406",
     "exception": false,
     "start_time": "2023-12-03T21:01:58.270245",
     "status": "completed"
    },
    "tags": []
   },
   "outputs": [],
   "source": [
    "if config['tune_parameters']:\n",
    "    with open('/kaggle/working/best_params_slim.json', 'w') as params_file:\n",
    "        json.dump(study.best_params, params_file)\n",
    "        \n",
    "    if config['save_github']:\n",
    "        upload_file(\n",
    "            '/kaggle/working/best_params_slim.json', \n",
    "            'tuning_results/best_params_slim.json', \n",
    "            'SLIM Elastic Net tuning results (from kaggle notebook)'\n",
    "        )\n",
    "elif config['copy_prev_best_params']:\n",
    "    shutil.copyfile(\n",
    "        '/kaggle/working/Recsys_Challenge_2023/tuning_results/best_params_slim.json', \n",
    "        '/kaggle/working/best_params_slim.json'\n",
    "    )"
   ]
  },
  {
   "cell_type": "code",
   "execution_count": 20,
   "id": "0e7c64f5",
   "metadata": {
    "execution": {
     "iopub.execute_input": "2023-12-03T21:01:59.263768Z",
     "iopub.status.busy": "2023-12-03T21:01:59.263257Z",
     "iopub.status.idle": "2023-12-03T21:02:00.644514Z",
     "shell.execute_reply": "2023-12-03T21:02:00.643044Z"
    },
    "papermill": {
     "duration": 1.425403,
     "end_time": "2023-12-03T21:02:00.647730",
     "exception": false,
     "start_time": "2023-12-03T21:01:59.222327",
     "status": "completed"
    },
    "tags": []
   },
   "outputs": [],
   "source": [
    "if config['save_github'] and config['tune_parameters']:\n",
    "    upload_file(\n",
    "        config['database_path'], \n",
    "        'tuning_results/tuning_slim_elastic.db',\n",
    "        'Tuning db updated results (from kaggle notebook)'\n",
    "    )"
   ]
  }
 ],
 "metadata": {
  "kaggle": {
   "accelerator": "none",
   "dataSources": [
    {
     "databundleVersionId": 6919098,
     "sourceId": 62803,
     "sourceType": "competition"
    }
   ],
   "dockerImageVersionId": 30587,
   "isGpuEnabled": false,
   "isInternetEnabled": true,
   "language": "python",
   "sourceType": "notebook"
  },
  "kernelspec": {
   "display_name": "Python 3",
   "language": "python",
   "name": "python3"
  },
  "language_info": {
   "codemirror_mode": {
    "name": "ipython",
    "version": 3
   },
   "file_extension": ".py",
   "mimetype": "text/x-python",
   "name": "python",
   "nbconvert_exporter": "python",
   "pygments_lexer": "ipython3",
   "version": "3.10.12"
  },
  "papermill": {
   "default_parameters": {},
   "duration": 24603.239593,
   "end_time": "2023-12-03T21:02:03.003536",
   "environment_variables": {},
   "exception": null,
   "input_path": "__notebook__.ipynb",
   "output_path": "__notebook__.ipynb",
   "parameters": {},
   "start_time": "2023-12-03T14:11:59.763943",
   "version": "2.4.0"
  }
 },
 "nbformat": 4,
 "nbformat_minor": 5
}
