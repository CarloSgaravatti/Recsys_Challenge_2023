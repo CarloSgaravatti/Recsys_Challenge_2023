{
 "cells": [
  {
   "cell_type": "code",
   "execution_count": 1,
   "id": "3a64eb7a",
   "metadata": {
    "execution": {
     "iopub.execute_input": "2023-12-09T10:41:23.900334Z",
     "iopub.status.busy": "2023-12-09T10:41:23.899635Z",
     "iopub.status.idle": "2023-12-09T10:41:39.427608Z",
     "shell.execute_reply": "2023-12-09T10:41:39.426100Z"
    },
    "papermill": {
     "duration": 15.545455,
     "end_time": "2023-12-09T10:41:39.431656",
     "exception": false,
     "start_time": "2023-12-09T10:41:23.886201",
     "status": "completed"
    },
    "tags": []
   },
   "outputs": [
    {
     "name": "stdout",
     "output_type": "stream",
     "text": [
      "Cloning into 'Recsys_Challenge_2023'...\r\n",
      "remote: Enumerating objects: 2771, done.\u001b[K\r\n",
      "remote: Counting objects: 100% (889/889), done.\u001b[K\r\n",
      "remote: Compressing objects: 100% (189/189), done.\u001b[K\r\n",
      "remote: Total 2771 (delta 762), reused 804 (delta 692), pack-reused 1882\u001b[K\r\n",
      "Receiving objects: 100% (2771/2771), 399.29 MiB | 47.74 MiB/s, done.\r\n",
      "Resolving deltas: 100% (2214/2214), done.\r\n"
     ]
    }
   ],
   "source": [
    "from kaggle_secrets import UserSecretsClient\n",
    "secret_label = \"Token\"\n",
    "token = UserSecretsClient().get_secret(secret_label)\n",
    "\n",
    "! git clone https://{token}@github.com/CarloSgaravatti/Recsys_Challenge_2023.git"
   ]
  },
  {
   "cell_type": "code",
   "execution_count": 2,
   "id": "77308f55",
   "metadata": {
    "execution": {
     "iopub.execute_input": "2023-12-09T10:41:39.470446Z",
     "iopub.status.busy": "2023-12-09T10:41:39.469192Z",
     "iopub.status.idle": "2023-12-09T10:41:56.178634Z",
     "shell.execute_reply": "2023-12-09T10:41:56.177395Z"
    },
    "papermill": {
     "duration": 16.731441,
     "end_time": "2023-12-09T10:41:56.181427",
     "exception": false,
     "start_time": "2023-12-09T10:41:39.449986",
     "status": "completed"
    },
    "tags": []
   },
   "outputs": [
    {
     "name": "stdout",
     "output_type": "stream",
     "text": [
      "Collecting PyGithub\r\n",
      "  Obtaining dependency information for PyGithub from https://files.pythonhosted.org/packages/be/04/810d131be173cba445d3658a45512b2b2b3d0960d52c4a300d6ec5e00f52/PyGithub-2.1.1-py3-none-any.whl.metadata\r\n",
      "  Downloading PyGithub-2.1.1-py3-none-any.whl.metadata (2.2 kB)\r\n",
      "Requirement already satisfied: requests in /opt/conda/lib/python3.10/site-packages (2.31.0)\r\n",
      "Collecting pynacl>=1.4.0 (from PyGithub)\r\n",
      "  Downloading PyNaCl-1.5.0-cp36-abi3-manylinux_2_17_x86_64.manylinux2014_x86_64.manylinux_2_24_x86_64.whl (856 kB)\r\n",
      "\u001b[2K     \u001b[90m━━━━━━━━━━━━━━━━━━━━━━━━━━━━━━━━━━━━━━\u001b[0m \u001b[32m856.7/856.7 kB\u001b[0m \u001b[31m12.9 MB/s\u001b[0m eta \u001b[36m0:00:00\u001b[0m\r\n",
      "\u001b[?25hRequirement already satisfied: python-dateutil in /opt/conda/lib/python3.10/site-packages (from PyGithub) (2.8.2)\r\n",
      "Requirement already satisfied: pyjwt[crypto]>=2.4.0 in /opt/conda/lib/python3.10/site-packages (from PyGithub) (2.8.0)\r\n",
      "Requirement already satisfied: typing-extensions>=4.0.0 in /opt/conda/lib/python3.10/site-packages (from PyGithub) (4.5.0)\r\n",
      "Requirement already satisfied: urllib3>=1.26.0 in /opt/conda/lib/python3.10/site-packages (from PyGithub) (1.26.15)\r\n",
      "Requirement already satisfied: Deprecated in /opt/conda/lib/python3.10/site-packages (from PyGithub) (1.2.14)\r\n",
      "Requirement already satisfied: charset-normalizer<4,>=2 in /opt/conda/lib/python3.10/site-packages (from requests) (3.2.0)\r\n",
      "Requirement already satisfied: idna<4,>=2.5 in /opt/conda/lib/python3.10/site-packages (from requests) (3.4)\r\n",
      "Requirement already satisfied: certifi>=2017.4.17 in /opt/conda/lib/python3.10/site-packages (from requests) (2023.7.22)\r\n",
      "Requirement already satisfied: cryptography>=3.4.0 in /opt/conda/lib/python3.10/site-packages (from pyjwt[crypto]>=2.4.0->PyGithub) (40.0.2)\r\n",
      "Requirement already satisfied: cffi>=1.4.1 in /opt/conda/lib/python3.10/site-packages (from pynacl>=1.4.0->PyGithub) (1.15.1)\r\n",
      "Requirement already satisfied: wrapt<2,>=1.10 in /opt/conda/lib/python3.10/site-packages (from Deprecated->PyGithub) (1.15.0)\r\n",
      "Requirement already satisfied: six>=1.5 in /opt/conda/lib/python3.10/site-packages (from python-dateutil->PyGithub) (1.16.0)\r\n",
      "Requirement already satisfied: pycparser in /opt/conda/lib/python3.10/site-packages (from cffi>=1.4.1->pynacl>=1.4.0->PyGithub) (2.21)\r\n",
      "Downloading PyGithub-2.1.1-py3-none-any.whl (302 kB)\r\n",
      "\u001b[2K   \u001b[90m━━━━━━━━━━━━━━━━━━━━━━━━━━━━━━━━━━━━━━━━\u001b[0m \u001b[32m302.9/302.9 kB\u001b[0m \u001b[31m24.2 MB/s\u001b[0m eta \u001b[36m0:00:00\u001b[0m\r\n",
      "\u001b[?25hInstalling collected packages: pynacl, PyGithub\r\n",
      "Successfully installed PyGithub-2.1.1 pynacl-1.5.0\r\n"
     ]
    }
   ],
   "source": [
    "! pip install PyGithub requests"
   ]
  },
  {
   "cell_type": "code",
   "execution_count": 3,
   "id": "ca137f2c",
   "metadata": {
    "_kg_hide-output": true,
    "execution": {
     "iopub.execute_input": "2023-12-09T10:41:56.220266Z",
     "iopub.status.busy": "2023-12-09T10:41:56.219872Z",
     "iopub.status.idle": "2023-12-09T10:44:37.373814Z",
     "shell.execute_reply": "2023-12-09T10:44:37.372480Z"
    },
    "papermill": {
     "duration": 161.176626,
     "end_time": "2023-12-09T10:44:37.376477",
     "exception": false,
     "start_time": "2023-12-09T10:41:56.199851",
     "status": "completed"
    },
    "scrolled": true,
    "tags": []
   },
   "outputs": [
    {
     "name": "stdout",
     "output_type": "stream",
     "text": [
      "run_compile_all_cython: Found 10 Cython files in 4 folders...\r\n",
      "run_compile_all_cython: All files will be compiled using your current python environment: '/opt/conda/bin/python'\r\n",
      "Compiling [1/10]: MatrixFactorizationImpressions_Cython_Epoch.pyx... \r\n",
      "In file included from \u001b[01m\u001b[K/opt/conda/lib/python3.10/site-packages/numpy/core/include/numpy/ndarraytypes.h:1940\u001b[m\u001b[K,\r\n",
      "                 from \u001b[01m\u001b[K/opt/conda/lib/python3.10/site-packages/numpy/core/include/numpy/ndarrayobject.h:12\u001b[m\u001b[K,\r\n",
      "                 from \u001b[01m\u001b[K/opt/conda/lib/python3.10/site-packages/numpy/core/include/numpy/arrayobject.h:5\u001b[m\u001b[K,\r\n",
      "                 from \u001b[01m\u001b[KMatrixFactorizationImpressions_Cython_Epoch.c:1109\u001b[m\u001b[K:\r\n",
      "\u001b[01m\u001b[K/opt/conda/lib/python3.10/site-packages/numpy/core/include/numpy/npy_1_7_deprecated_api.h:17:2:\u001b[m\u001b[K \u001b[01;35m\u001b[Kwarning: \u001b[m\u001b[K#warning \"Using deprecated NumPy API, disable it with \" \"#define NPY_NO_DEPRECATED_API NPY_1_7_API_VERSION\" [\u001b[01;35m\u001b[K-Wcpp\u001b[m\u001b[K]\r\n",
      "   17 | #\u001b[01;35m\u001b[Kwarning\u001b[m\u001b[K \"Using deprecated NumPy API, disable it with \" \\\r\n",
      "      |  \u001b[01;35m\u001b[K^~~~~~~\u001b[m\u001b[K\r\n",
      "\u001b[01m\u001b[KMatrixFactorizationImpressions_Cython_Epoch.c:\u001b[m\u001b[K In function ‘\u001b[01m\u001b[K__pyx_f_43MatrixFactorizationImpressions_Cython_Epoch_32MatrixFactorization_Cython_Epoch_sampleBPR_Cython\u001b[m\u001b[K’:\r\n",
      "\u001b[01m\u001b[KMatrixFactorizationImpressions_Cython_Epoch.c:29664:17:\u001b[m\u001b[K \u001b[01;35m\u001b[Kwarning: \u001b[m\u001b[K‘\u001b[01m\u001b[K__pyx_v_start_pos_impression_items\u001b[m\u001b[K’ may be used uninitialized in this function [\u001b[01;35m\u001b[K-Wmaybe-uninitialized\u001b[m\u001b[K]\r\n",
      "29664 |       \u001b[01;35m\u001b[K__pyx_t_4 = (__pyx_v_start_pos_impression_items + __pyx_v_index)\u001b[m\u001b[K;\r\n",
      "      |       \u001b[01;35m\u001b[K~~~~~~~~~~^~~~~~~~~~~~~~~~~~~~~~~~~~~~~~~~~~~~~~~~~~~~~~~~~~~~~~\u001b[m\u001b[K\r\n",
      "\u001b[01m\u001b[KMatrixFactorizationImpressions_Cython_Epoch.c:\u001b[m\u001b[K In function ‘\u001b[01m\u001b[K__pyx_pf_43MatrixFactorizationImpressions_Cython_Epoch_32MatrixFactorization_Cython_Epoch_10epochIteration_Cython_ASY_SVD_SGD\u001b[m\u001b[K’:\r\n",
      "\u001b[01m\u001b[KMatrixFactorizationImpressions_Cython_Epoch.c:25474:7:\u001b[m\u001b[K \u001b[01;35m\u001b[Kwarning: \u001b[m\u001b[K‘\u001b[01m\u001b[K__pyx_v_end_pos_seen_items\u001b[m\u001b[K’ may be used uninitialized in this function [\u001b[01;35m\u001b[K-Wmaybe-uninitialized\u001b[m\u001b[K]\r\n",
      "25474 |       \u001b[01;35m\u001b[Kfor\u001b[m\u001b[K (__pyx_t_21 = __pyx_v_start_pos_seen_items; __pyx_t_21 < __pyx_t_20; __pyx_t_21+=1) {\r\n",
      "      |       \u001b[01;35m\u001b[K^~~\u001b[m\u001b[K\r\n",
      "\u001b[01m\u001b[KMatrixFactorizationImpressions_Cython_Epoch.c:25474:7:\u001b[m\u001b[K \u001b[01;35m\u001b[Kwarning: \u001b[m\u001b[K‘\u001b[01m\u001b[K__pyx_v_start_pos_seen_items\u001b[m\u001b[K’ may be used uninitialized in this function [\u001b[01;35m\u001b[K-Wmaybe-uninitialized\u001b[m\u001b[K]\r\n",
      "/opt/conda/lib/python3.10/site-packages/Cython/Compiler/Main.py:381: FutureWarning: Cython directive 'language_level' not set, using '3str' for now (Py3). This has changed from earlier releases! File: /kaggle/working/Recsys_Challenge_2023/Recommenders/MatrixFactorization/Cython/MatrixFactorizationImpressions_Cython_Epoch.pyx\r\n",
      "  tree = Parsing.p_module(s, pxd, full_module_name)\r\n",
      "Compiling [1/10]: MatrixFactorizationImpressions_Cython_Epoch.pyx... PASS\r\n",
      "\r\n",
      "Compiling [2/10]: MatrixFactorization_Cython_Epoch.pyx... \r\n",
      "In file included from \u001b[01m\u001b[K/opt/conda/lib/python3.10/site-packages/numpy/core/include/numpy/ndarraytypes.h:1940\u001b[m\u001b[K,\r\n",
      "                 from \u001b[01m\u001b[K/opt/conda/lib/python3.10/site-packages/numpy/core/include/numpy/ndarrayobject.h:12\u001b[m\u001b[K,\r\n",
      "                 from \u001b[01m\u001b[K/opt/conda/lib/python3.10/site-packages/numpy/core/include/numpy/arrayobject.h:5\u001b[m\u001b[K,\r\n",
      "                 from \u001b[01m\u001b[KMatrixFactorization_Cython_Epoch.c:1109\u001b[m\u001b[K:\r\n",
      "\u001b[01m\u001b[K/opt/conda/lib/python3.10/site-packages/numpy/core/include/numpy/npy_1_7_deprecated_api.h:17:2:\u001b[m\u001b[K \u001b[01;35m\u001b[Kwarning: \u001b[m\u001b[K#warning \"Using deprecated NumPy API, disable it with \" \"#define NPY_NO_DEPRECATED_API NPY_1_7_API_VERSION\" [\u001b[01;35m\u001b[K-Wcpp\u001b[m\u001b[K]\r\n",
      "   17 | #\u001b[01;35m\u001b[Kwarning\u001b[m\u001b[K \"Using deprecated NumPy API, disable it with \" \\\r\n",
      "      |  \u001b[01;35m\u001b[K^~~~~~~\u001b[m\u001b[K\r\n",
      "\u001b[01m\u001b[KMatrixFactorization_Cython_Epoch.c:\u001b[m\u001b[K In function ‘\u001b[01m\u001b[K__pyx_pf_32MatrixFactorization_Cython_Epoch_32MatrixFactorization_Cython_Epoch_10epochIteration_Cython_ASY_SVD_SGD\u001b[m\u001b[K’:\r\n",
      "\u001b[01m\u001b[KMatrixFactorization_Cython_Epoch.c:25614:9:\u001b[m\u001b[K \u001b[01;35m\u001b[Kwarning: \u001b[m\u001b[K‘\u001b[01m\u001b[K__pyx_v_end_pos_seen_items\u001b[m\u001b[K’ may be used uninitialized in this function [\u001b[01;35m\u001b[K-Wmaybe-uninitialized\u001b[m\u001b[K]\r\n",
      "25614 |         \u001b[01;35m\u001b[Kfor\u001b[m\u001b[K (__pyx_t_21 = __pyx_v_start_pos_seen_items; __pyx_t_21 < __pyx_t_20; __pyx_t_21+=1) {\r\n",
      "      |         \u001b[01;35m\u001b[K^~~\u001b[m\u001b[K\r\n",
      "\u001b[01m\u001b[KMatrixFactorization_Cython_Epoch.c:25614:9:\u001b[m\u001b[K \u001b[01;35m\u001b[Kwarning: \u001b[m\u001b[K‘\u001b[01m\u001b[K__pyx_v_start_pos_seen_items\u001b[m\u001b[K’ may be used uninitialized in this function [\u001b[01;35m\u001b[K-Wmaybe-uninitialized\u001b[m\u001b[K]\r\n",
      "/opt/conda/lib/python3.10/site-packages/Cython/Compiler/Main.py:381: FutureWarning: Cython directive 'language_level' not set, using '3str' for now (Py3). This has changed from earlier releases! File: /kaggle/working/Recsys_Challenge_2023/Recommenders/MatrixFactorization/Cython/MatrixFactorization_Cython_Epoch.pyx\r\n",
      "  tree = Parsing.p_module(s, pxd, full_module_name)\r\n",
      "Compiling [2/10]: MatrixFactorization_Cython_Epoch.pyx... PASS\r\n",
      "\r\n",
      "Compiling [3/10]: Compute_Similarity_Cython.pyx... \r\n",
      "warning: Compute_Similarity_Cython.pyx:21:0: The 'IF' statement is deprecated and will be removed in a future Cython version. Consider using runtime conditions or C macros instead. See https://github.com/cython/cython/issues/4310\r\n",
      "warning: Compute_Similarity_Cython.pyx:22:4: The 'DEF' statement is deprecated and will be removed in a future Cython version. Consider using global variables, constants, and in-place literals instead. See https://github.com/cython/cython/issues/4310\r\n",
      "warning: Compute_Similarity_Cython.pyx:24:4: The 'DEF' statement is deprecated and will be removed in a future Cython version. Consider using global variables, constants, and in-place literals instead. See https://github.com/cython/cython/issues/4310\r\n",
      "warning: Compute_Similarity_Cython.pyx:26:4: The 'DEF' statement is deprecated and will be removed in a future Cython version. Consider using global variables, constants, and in-place literals instead. See https://github.com/cython/cython/issues/4310\r\n",
      "In file included from \u001b[01m\u001b[K/opt/conda/lib/python3.10/site-packages/numpy/core/include/numpy/ndarraytypes.h:1940\u001b[m\u001b[K,\r\n",
      "                 from \u001b[01m\u001b[K/opt/conda/lib/python3.10/site-packages/numpy/core/include/numpy/ndarrayobject.h:12\u001b[m\u001b[K,\r\n",
      "                 from \u001b[01m\u001b[K/opt/conda/lib/python3.10/site-packages/numpy/core/include/numpy/arrayobject.h:5\u001b[m\u001b[K,\r\n",
      "                 from \u001b[01m\u001b[KCompute_Similarity_Cython.c:1109\u001b[m\u001b[K:\r\n",
      "\u001b[01m\u001b[K/opt/conda/lib/python3.10/site-packages/numpy/core/include/numpy/npy_1_7_deprecated_api.h:17:2:\u001b[m\u001b[K \u001b[01;35m\u001b[Kwarning: \u001b[m\u001b[K#warning \"Using deprecated NumPy API, disable it with \" \"#define NPY_NO_DEPRECATED_API NPY_1_7_API_VERSION\" [\u001b[01;35m\u001b[K-Wcpp\u001b[m\u001b[K]\r\n",
      "   17 | #\u001b[01;35m\u001b[Kwarning\u001b[m\u001b[K \"Using deprecated NumPy API, disable it with \" \\\r\n",
      "      |  \u001b[01;35m\u001b[K^~~~~~~\u001b[m\u001b[K\r\n",
      "/opt/conda/lib/python3.10/site-packages/Cython/Compiler/Main.py:381: FutureWarning: Cython directive 'language_level' not set, using '3str' for now (Py3). This has changed from earlier releases! File: /kaggle/working/Recsys_Challenge_2023/Recommenders/Similarity/Cython/Compute_Similarity_Cython.pyx\r\n",
      "  tree = Parsing.p_module(s, pxd, full_module_name)\r\n",
      "warning: Compute_Similarity_Cython.pyx:21:0: The 'IF' statement is deprecated and will be removed in a future Cython version. Consider using runtime conditions or C macros instead. See https://github.com/cython/cython/issues/4310\r\n",
      "warning: Compute_Similarity_Cython.pyx:22:4: The 'DEF' statement is deprecated and will be removed in a future Cython version. Consider using global variables, constants, and in-place literals instead. See https://github.com/cython/cython/issues/4310\r\n",
      "warning: Compute_Similarity_Cython.pyx:24:4: The 'DEF' statement is deprecated and will be removed in a future Cython version. Consider using global variables, constants, and in-place literals instead. See https://github.com/cython/cython/issues/4310\r\n",
      "warning: Compute_Similarity_Cython.pyx:26:4: The 'DEF' statement is deprecated and will be removed in a future Cython version. Consider using global variables, constants, and in-place literals instead. See https://github.com/cython/cython/issues/4310\r\n",
      "Compiling [3/10]: Compute_Similarity_Cython.pyx... PASS\r\n",
      "\r\n",
      "Compiling [4/10]: Triangular_Matrix.pyx... \r\n",
      "warning: Triangular_Matrix.pyx:22:0: The 'IF' statement is deprecated and will be removed in a future Cython version. Consider using runtime conditions or C macros instead. See https://github.com/cython/cython/issues/4310\r\n",
      "warning: Triangular_Matrix.pyx:23:4: The 'DEF' statement is deprecated and will be removed in a future Cython version. Consider using global variables, constants, and in-place literals instead. See https://github.com/cython/cython/issues/4310\r\n",
      "warning: Triangular_Matrix.pyx:25:4: The 'DEF' statement is deprecated and will be removed in a future Cython version. Consider using global variables, constants, and in-place literals instead. See https://github.com/cython/cython/issues/4310\r\n",
      "warning: Triangular_Matrix.pyx:27:4: The 'DEF' statement is deprecated and will be removed in a future Cython version. Consider using global variables, constants, and in-place literals instead. See https://github.com/cython/cython/issues/4310\r\n",
      "In file included from \u001b[01m\u001b[K/opt/conda/lib/python3.10/site-packages/numpy/core/include/numpy/ndarraytypes.h:1940\u001b[m\u001b[K,\r\n",
      "                 from \u001b[01m\u001b[K/opt/conda/lib/python3.10/site-packages/numpy/core/include/numpy/ndarrayobject.h:12\u001b[m\u001b[K,\r\n",
      "                 from \u001b[01m\u001b[K/opt/conda/lib/python3.10/site-packages/numpy/core/include/numpy/arrayobject.h:5\u001b[m\u001b[K,\r\n",
      "                 from \u001b[01m\u001b[KTriangular_Matrix.c:1109\u001b[m\u001b[K:\r\n",
      "\u001b[01m\u001b[K/opt/conda/lib/python3.10/site-packages/numpy/core/include/numpy/npy_1_7_deprecated_api.h:17:2:\u001b[m\u001b[K \u001b[01;35m\u001b[Kwarning: \u001b[m\u001b[K#warning \"Using deprecated NumPy API, disable it with \" \"#define NPY_NO_DEPRECATED_API NPY_1_7_API_VERSION\" [\u001b[01;35m\u001b[K-Wcpp\u001b[m\u001b[K]\r\n",
      "   17 | #\u001b[01;35m\u001b[Kwarning\u001b[m\u001b[K \"Using deprecated NumPy API, disable it with \" \\\r\n",
      "      |  \u001b[01;35m\u001b[K^~~~~~~\u001b[m\u001b[K\r\n",
      "/opt/conda/lib/python3.10/site-packages/Cython/Compiler/Main.py:381: FutureWarning: Cython directive 'language_level' not set, using '3str' for now (Py3). This has changed from earlier releases! File: /kaggle/working/Recsys_Challenge_2023/Recommenders/SLIM/Cython/Triangular_Matrix.pyx\r\n",
      "  tree = Parsing.p_module(s, pxd, full_module_name)\r\n",
      "warning: Triangular_Matrix.pyx:22:0: The 'IF' statement is deprecated and will be removed in a future Cython version. Consider using runtime conditions or C macros instead. See https://github.com/cython/cython/issues/4310\r\n",
      "warning: Triangular_Matrix.pyx:23:4: The 'DEF' statement is deprecated and will be removed in a future Cython version. Consider using global variables, constants, and in-place literals instead. See https://github.com/cython/cython/issues/4310\r\n",
      "warning: Triangular_Matrix.pyx:25:4: The 'DEF' statement is deprecated and will be removed in a future Cython version. Consider using global variables, constants, and in-place literals instead. See https://github.com/cython/cython/issues/4310\r\n",
      "warning: Triangular_Matrix.pyx:27:4: The 'DEF' statement is deprecated and will be removed in a future Cython version. Consider using global variables, constants, and in-place literals instead. See https://github.com/cython/cython/issues/4310\r\n",
      "Compiling [4/10]: Triangular_Matrix.pyx... PASS\r\n",
      "\r\n",
      "Compiling [5/10]: Sparse_Matrix_Tree_CSR.pyx... \r\n",
      "warning: Sparse_Matrix_Tree_CSR.pyx:132:34: Non-trivial type declarators in shared declaration (e.g. mix of pointers and values). Each pointer declaration should be on its own line.\r\n",
      "warning: Sparse_Matrix_Tree_CSR.pyx:132:66: Non-trivial type declarators in shared declaration (e.g. mix of pointers and values). Each pointer declaration should be on its own line.\r\n",
      "warning: Sparse_Matrix_Tree_CSR.pyx:343:35: Non-trivial type declarators in shared declaration (e.g. mix of pointers and values). Each pointer declaration should be on its own line.\r\n",
      "warning: Sparse_Matrix_Tree_CSR.pyx:343:52: Non-trivial type declarators in shared declaration (e.g. mix of pointers and values). Each pointer declaration should be on its own line.\r\n",
      "warning: Sparse_Matrix_Tree_CSR.pyx:442:35: Non-trivial type declarators in shared declaration (e.g. mix of pointers and values). Each pointer declaration should be on its own line.\r\n",
      "warning: Sparse_Matrix_Tree_CSR.pyx:442:53: Non-trivial type declarators in shared declaration (e.g. mix of pointers and values). Each pointer declaration should be on its own line.\r\n",
      "warning: Sparse_Matrix_Tree_CSR.pyx:442:69: Non-trivial type declarators in shared declaration (e.g. mix of pointers and values). Each pointer declaration should be on its own line.\r\n",
      "warning: Sparse_Matrix_Tree_CSR.pyx:577:35: Non-trivial type declarators in shared declaration (e.g. mix of pointers and values). Each pointer declaration should be on its own line.\r\n",
      "warning: Sparse_Matrix_Tree_CSR.pyx:577:42: Non-trivial type declarators in shared declaration (e.g. mix of pointers and values). Each pointer declaration should be on its own line.\r\n",
      "warning: Sparse_Matrix_Tree_CSR.pyx:578:35: Non-trivial type declarators in shared declaration (e.g. mix of pointers and values). Each pointer declaration should be on its own line.\r\n",
      "warning: Sparse_Matrix_Tree_CSR.pyx:578:53: Non-trivial type declarators in shared declaration (e.g. mix of pointers and values). Each pointer declaration should be on its own line.\r\n",
      "\r\n",
      "Error compiling Cython file:\r\n",
      "------------------------------------------------------------\r\n",
      "...\r\n",
      "            vector_pointer_to_list_elements[index].head = current_element\r\n",
      "            current_element = current_element.higher\r\n",
      "\r\n",
      "\r\n",
      "        # Sort array elements on their data field\r\n",
      "        qsort(vector_pointer_to_list_elements, list_length, sizeof(head_pointer_tree_s), compare_struct_on_data)\r\n",
      "                                                                                         ^\r\n",
      "------------------------------------------------------------\r\n",
      "\r\n",
      "Sparse_Matrix_Tree_CSR.pyx:516:89: Cannot assign type 'int (const void *, const void *) except? -1' to 'int (*)(const_void *, const_void *) noexcept'\r\n",
      "\r\n",
      "Error compiling Cython file:\r\n",
      "------------------------------------------------------------\r\n",
      "...\r\n",
      "        # Sort array elements on their data field\r\n",
      "        qsort(vector_pointer_to_list_elements, list_length, sizeof(head_pointer_tree_s), compare_struct_on_data)\r\n",
      "\r\n",
      "        # Sort only the TopK according to their column field\r\n",
      "        # Sort is from lower to higher, therefore the elements to be considered are from len-topK to len\r\n",
      "        qsort(&vector_pointer_to_list_elements[list_length-TopK], TopK, sizeof(head_pointer_tree_s), compare_struct_on_column)\r\n",
      "                                                                                                     ^\r\n",
      "------------------------------------------------------------\r\n",
      "\r\n",
      "Sparse_Matrix_Tree_CSR.pyx:520:101: Cannot assign type 'int (const void *, const void *) except? -1' to 'int (*)(const_void *, const_void *) noexcept'\r\n",
      "Traceback (most recent call last):\r\n",
      "  File \"/kaggle/working/Recsys_Challenge_2023/CythonCompiler/compile_script.py\", line 48, in <module>\r\n",
      "    setup(\r\n",
      "  File \"/opt/conda/lib/python3.10/site-packages/setuptools/__init__.py\", line 107, in setup\r\n",
      "    return distutils.core.setup(**attrs)\r\n",
      "  File \"/opt/conda/lib/python3.10/site-packages/setuptools/_distutils/core.py\", line 185, in setup\r\n",
      "    return run_commands(dist)\r\n",
      "  File \"/opt/conda/lib/python3.10/site-packages/setuptools/_distutils/core.py\", line 201, in run_commands\r\n",
      "    dist.run_commands()\r\n",
      "  File \"/opt/conda/lib/python3.10/site-packages/setuptools/_distutils/dist.py\", line 969, in run_commands\r\n",
      "    self.run_command(cmd)\r\n",
      "  File \"/opt/conda/lib/python3.10/site-packages/setuptools/dist.py\", line 1233, in run_command\r\n",
      "    super().run_command(command)\r\n",
      "  File \"/opt/conda/lib/python3.10/site-packages/setuptools/_distutils/dist.py\", line 988, in run_command\r\n",
      "    cmd_obj.run()\r\n",
      "  File \"/opt/conda/lib/python3.10/site-packages/setuptools/_distutils/command/build_ext.py\", line 345, in run\r\n",
      "    self.build_extensions()\r\n",
      "  File \"/opt/conda/lib/python3.10/site-packages/setuptools/_distutils/command/build_ext.py\", line 467, in build_extensions\r\n",
      "    self._build_extensions_serial()\r\n",
      "  File \"/opt/conda/lib/python3.10/site-packages/setuptools/_distutils/command/build_ext.py\", line 493, in _build_extensions_serial\r\n",
      "    self.build_extension(ext)\r\n",
      "  File \"/opt/conda/lib/python3.10/site-packages/Cython/Distutils/build_ext.py\", line 122, in build_extension\r\n",
      "    new_ext = cythonize(\r\n",
      "  File \"/opt/conda/lib/python3.10/site-packages/Cython/Build/Dependencies.py\", line 1134, in cythonize\r\n",
      "    cythonize_one(*args)\r\n",
      "  File \"/opt/conda/lib/python3.10/site-packages/Cython/Build/Dependencies.py\", line 1301, in cythonize_one\r\n",
      "    raise CompileError(None, pyx_file)\r\n",
      "Cython.Compiler.Errors.CompileError: Sparse_Matrix_Tree_CSR.pyx\r\n",
      "Traceback (most recent call last):\r\n",
      "  File \"/kaggle/working/Recsys_Challenge_2023/run_compile_all_cython.py\", line 59, in <module>\r\n",
      "    run_compile_subprocess(file_path, [file_name])\r\n",
      "  File \"/kaggle/working/Recsys_Challenge_2023/CythonCompiler/run_compile_subprocess.py\", line 51, in run_compile_subprocess\r\n",
      "    raise exc\r\n",
      "  File \"/kaggle/working/Recsys_Challenge_2023/CythonCompiler/run_compile_subprocess.py\", line 32, in run_compile_subprocess\r\n",
      "    output = subprocess.check_output(' '.join(command),\r\n",
      "  File \"/opt/conda/lib/python3.10/subprocess.py\", line 421, in check_output\r\n",
      "    return run(*popenargs, stdout=PIPE, timeout=timeout, check=True,\r\n",
      "  File \"/opt/conda/lib/python3.10/subprocess.py\", line 526, in run\r\n",
      "    raise CalledProcessError(retcode, process.args,\r\n",
      "subprocess.CalledProcessError: Command '/opt/conda/bin/python /kaggle/working/Recsys_Challenge_2023/CythonCompiler/compile_script.py Sparse_Matrix_Tree_CSR.pyx build_ext --inplace' returned non-zero exit status 1.\r\n",
      "Compiling [5/10]: Sparse_Matrix_Tree_CSR.pyx... FAIL: Command '/opt/conda/bin/python /kaggle/working/Recsys_Challenge_2023/CythonCompiler/compile_script.py Sparse_Matrix_Tree_CSR.pyx build_ext --inplace' returned non-zero exit status 1.\r\n",
      "\r\n",
      "Compiling [6/10]: SLIM_BPR_Cython_Epoch.pyx... \r\n",
      "warning: SLIM_BPR_Cython_Epoch.pyx:24:0: The 'IF' statement is deprecated and will be removed in a future Cython version. Consider using runtime conditions or C macros instead. See https://github.com/cython/cython/issues/4310\r\n",
      "warning: SLIM_BPR_Cython_Epoch.pyx:25:4: The 'DEF' statement is deprecated and will be removed in a future Cython version. Consider using global variables, constants, and in-place literals instead. See https://github.com/cython/cython/issues/4310\r\n",
      "warning: SLIM_BPR_Cython_Epoch.pyx:27:4: The 'DEF' statement is deprecated and will be removed in a future Cython version. Consider using global variables, constants, and in-place literals instead. See https://github.com/cython/cython/issues/4310\r\n",
      "warning: SLIM_BPR_Cython_Epoch.pyx:29:4: The 'DEF' statement is deprecated and will be removed in a future Cython version. Consider using global variables, constants, and in-place literals instead. See https://github.com/cython/cython/issues/4310\r\n",
      "warning: SLIM_BPR_Cython_Epoch.pyx:632:34: Non-trivial type declarators in shared declaration (e.g. mix of pointers and values). Each pointer declaration should be on its own line.\r\n",
      "warning: SLIM_BPR_Cython_Epoch.pyx:632:66: Non-trivial type declarators in shared declaration (e.g. mix of pointers and values). Each pointer declaration should be on its own line.\r\n",
      "warning: SLIM_BPR_Cython_Epoch.pyx:817:35: Non-trivial type declarators in shared declaration (e.g. mix of pointers and values). Each pointer declaration should be on its own line.\r\n",
      "warning: SLIM_BPR_Cython_Epoch.pyx:817:52: Non-trivial type declarators in shared declaration (e.g. mix of pointers and values). Each pointer declaration should be on its own line.\r\n",
      "warning: SLIM_BPR_Cython_Epoch.pyx:916:35: Non-trivial type declarators in shared declaration (e.g. mix of pointers and values). Each pointer declaration should be on its own line.\r\n",
      "warning: SLIM_BPR_Cython_Epoch.pyx:916:53: Non-trivial type declarators in shared declaration (e.g. mix of pointers and values). Each pointer declaration should be on its own line.\r\n",
      "warning: SLIM_BPR_Cython_Epoch.pyx:916:69: Non-trivial type declarators in shared declaration (e.g. mix of pointers and values). Each pointer declaration should be on its own line.\r\n",
      "warning: SLIM_BPR_Cython_Epoch.pyx:1051:35: Non-trivial type declarators in shared declaration (e.g. mix of pointers and values). Each pointer declaration should be on its own line.\r\n",
      "warning: SLIM_BPR_Cython_Epoch.pyx:1051:42: Non-trivial type declarators in shared declaration (e.g. mix of pointers and values). Each pointer declaration should be on its own line.\r\n",
      "warning: SLIM_BPR_Cython_Epoch.pyx:1052:35: Non-trivial type declarators in shared declaration (e.g. mix of pointers and values). Each pointer declaration should be on its own line.\r\n",
      "warning: SLIM_BPR_Cython_Epoch.pyx:1052:53: Non-trivial type declarators in shared declaration (e.g. mix of pointers and values). Each pointer declaration should be on its own line.\r\n",
      "\r\n",
      "Error compiling Cython file:\r\n",
      "------------------------------------------------------------\r\n",
      "...\r\n",
      "            vector_pointer_to_list_elements[index].head = current_element\r\n",
      "            current_element = current_element.higher\r\n",
      "\r\n",
      "\r\n",
      "        # Sort array elements on their data field\r\n",
      "        qsort(vector_pointer_to_list_elements, list_length, sizeof(head_pointer_tree_s), compare_struct_on_data)\r\n",
      "                                                                                         ^\r\n",
      "------------------------------------------------------------\r\n",
      "\r\n",
      "SLIM_BPR_Cython_Epoch.pyx:990:89: Cannot assign type 'int (const void *, const void *) except? -1' to 'int (*)(const_void *, const_void *) noexcept'\r\n",
      "\r\n",
      "Error compiling Cython file:\r\n",
      "------------------------------------------------------------\r\n",
      "...\r\n",
      "        # Sort array elements on their data field\r\n",
      "        qsort(vector_pointer_to_list_elements, list_length, sizeof(head_pointer_tree_s), compare_struct_on_data)\r\n",
      "\r\n",
      "        # Sort only the TopK according to their column field\r\n",
      "        # Sort is from lower to higher, therefore the elements to be considered are from len-topK to len\r\n",
      "        qsort(&vector_pointer_to_list_elements[list_length-TopK], TopK, sizeof(head_pointer_tree_s), compare_struct_on_column)\r\n",
      "                                                                                                     ^\r\n",
      "------------------------------------------------------------\r\n",
      "\r\n",
      "SLIM_BPR_Cython_Epoch.pyx:994:101: Cannot assign type 'int (const void *, const void *) except? -1' to 'int (*)(const_void *, const_void *) noexcept'\r\n",
      "Traceback (most recent call last):\r\n",
      "  File \"/kaggle/working/Recsys_Challenge_2023/CythonCompiler/compile_script.py\", line 48, in <module>\r\n",
      "    setup(\r\n",
      "  File \"/opt/conda/lib/python3.10/site-packages/setuptools/__init__.py\", line 107, in setup\r\n",
      "    return distutils.core.setup(**attrs)\r\n",
      "  File \"/opt/conda/lib/python3.10/site-packages/setuptools/_distutils/core.py\", line 185, in setup\r\n",
      "    return run_commands(dist)\r\n",
      "  File \"/opt/conda/lib/python3.10/site-packages/setuptools/_distutils/core.py\", line 201, in run_commands\r\n",
      "    dist.run_commands()\r\n",
      "  File \"/opt/conda/lib/python3.10/site-packages/setuptools/_distutils/dist.py\", line 969, in run_commands\r\n",
      "    self.run_command(cmd)\r\n",
      "  File \"/opt/conda/lib/python3.10/site-packages/setuptools/dist.py\", line 1233, in run_command\r\n",
      "    super().run_command(command)\r\n",
      "  File \"/opt/conda/lib/python3.10/site-packages/setuptools/_distutils/dist.py\", line 988, in run_command\r\n",
      "    cmd_obj.run()\r\n",
      "  File \"/opt/conda/lib/python3.10/site-packages/setuptools/_distutils/command/build_ext.py\", line 345, in run\r\n",
      "    self.build_extensions()\r\n",
      "  File \"/opt/conda/lib/python3.10/site-packages/setuptools/_distutils/command/build_ext.py\", line 467, in build_extensions\r\n",
      "    self._build_extensions_serial()\r\n",
      "  File \"/opt/conda/lib/python3.10/site-packages/setuptools/_distutils/command/build_ext.py\", line 493, in _build_extensions_serial\r\n",
      "    self.build_extension(ext)\r\n",
      "  File \"/opt/conda/lib/python3.10/site-packages/Cython/Distutils/build_ext.py\", line 122, in build_extension\r\n",
      "    new_ext = cythonize(\r\n",
      "  File \"/opt/conda/lib/python3.10/site-packages/Cython/Build/Dependencies.py\", line 1134, in cythonize\r\n",
      "    cythonize_one(*args)\r\n",
      "  File \"/opt/conda/lib/python3.10/site-packages/Cython/Build/Dependencies.py\", line 1301, in cythonize_one\r\n",
      "    raise CompileError(None, pyx_file)\r\n",
      "Cython.Compiler.Errors.CompileError: SLIM_BPR_Cython_Epoch.pyx\r\n",
      "Traceback (most recent call last):\r\n",
      "  File \"/kaggle/working/Recsys_Challenge_2023/run_compile_all_cython.py\", line 59, in <module>\r\n",
      "    run_compile_subprocess(file_path, [file_name])\r\n",
      "  File \"/kaggle/working/Recsys_Challenge_2023/CythonCompiler/run_compile_subprocess.py\", line 51, in run_compile_subprocess\r\n",
      "    raise exc\r\n",
      "  File \"/kaggle/working/Recsys_Challenge_2023/CythonCompiler/run_compile_subprocess.py\", line 32, in run_compile_subprocess\r\n",
      "    output = subprocess.check_output(' '.join(command),\r\n",
      "  File \"/opt/conda/lib/python3.10/subprocess.py\", line 421, in check_output\r\n",
      "    return run(*popenargs, stdout=PIPE, timeout=timeout, check=True,\r\n",
      "  File \"/opt/conda/lib/python3.10/subprocess.py\", line 526, in run\r\n",
      "    raise CalledProcessError(retcode, process.args,\r\n",
      "subprocess.CalledProcessError: Command '/opt/conda/bin/python /kaggle/working/Recsys_Challenge_2023/CythonCompiler/compile_script.py SLIM_BPR_Cython_Epoch.pyx build_ext --inplace' returned non-zero exit status 1.\r\n",
      "Compiling [6/10]: SLIM_BPR_Cython_Epoch.pyx... FAIL: Command '/opt/conda/bin/python /kaggle/working/Recsys_Challenge_2023/CythonCompiler/compile_script.py SLIM_BPR_Cython_Epoch.pyx build_ext --inplace' returned non-zero exit status 1.\r\n",
      "\r\n",
      "Compiling [7/10]: CFW_D_Similarity_Cython_SGD.pyx... \r\n",
      "In file included from \u001b[01m\u001b[K/opt/conda/lib/python3.10/site-packages/numpy/core/include/numpy/ndarraytypes.h:1940\u001b[m\u001b[K,\r\n",
      "                 from \u001b[01m\u001b[K/opt/conda/lib/python3.10/site-packages/numpy/core/include/numpy/ndarrayobject.h:12\u001b[m\u001b[K,\r\n",
      "                 from \u001b[01m\u001b[K/opt/conda/lib/python3.10/site-packages/numpy/core/include/numpy/arrayobject.h:5\u001b[m\u001b[K,\r\n",
      "                 from \u001b[01m\u001b[KCFW_D_Similarity_Cython_SGD.c:1109\u001b[m\u001b[K:\r\n",
      "\u001b[01m\u001b[K/opt/conda/lib/python3.10/site-packages/numpy/core/include/numpy/npy_1_7_deprecated_api.h:17:2:\u001b[m\u001b[K \u001b[01;35m\u001b[Kwarning: \u001b[m\u001b[K#warning \"Using deprecated NumPy API, disable it with \" \"#define NPY_NO_DEPRECATED_API NPY_1_7_API_VERSION\" [\u001b[01;35m\u001b[K-Wcpp\u001b[m\u001b[K]\r\n",
      "   17 | #\u001b[01;35m\u001b[Kwarning\u001b[m\u001b[K \"Using deprecated NumPy API, disable it with \" \\\r\n",
      "      |  \u001b[01;35m\u001b[K^~~~~~~\u001b[m\u001b[K\r\n",
      "\u001b[01m\u001b[KCFW_D_Similarity_Cython_SGD.c:\u001b[m\u001b[K In function ‘\u001b[01m\u001b[K__pyx_pf_27CFW_D_Similarity_Cython_SGD_27CFW_D_Similarity_Cython_SGD_6fit\u001b[m\u001b[K’:\r\n",
      "\u001b[01m\u001b[KCFW_D_Similarity_Cython_SGD.c:22766:55:\u001b[m\u001b[K \u001b[01;35m\u001b[Kwarning: \u001b[m\u001b[K‘\u001b[01m\u001b[K__pyx_v_sample_num\u001b[m\u001b[K’ may be used uninitialized in this function [\u001b[01;35m\u001b[K-Wmaybe-uninitialized\u001b[m\u001b[K]\r\n",
      "22766 |   __pyx_t_3 = PyFloat_FromDouble((__pyx_v_cum_loss / \u001b[01;35m\u001b[K((double)__pyx_v_sample_num)\u001b[m\u001b[K)); if (unlikely(!__pyx_t_3)) __PYX_ERR(0, 290, __pyx_L1_error)\r\n",
      "      |                                                      \u001b[01;35m\u001b[K~^~~~~~~~~~~~~~~~~~~~~~~~~~~\u001b[m\u001b[K\r\n",
      "/opt/conda/lib/python3.10/site-packages/Cython/Compiler/Main.py:381: FutureWarning: Cython directive 'language_level' not set, using '3str' for now (Py3). This has changed from earlier releases! File: /kaggle/working/Recsys_Challenge_2023/Recommenders/FeatureWeighting/Cython/CFW_D_Similarity_Cython_SGD.pyx\r\n",
      "  tree = Parsing.p_module(s, pxd, full_module_name)\r\n",
      "Compiling [7/10]: CFW_D_Similarity_Cython_SGD.pyx... PASS\r\n",
      "\r\n",
      "Compiling [8/10]: FBSM_Rating_Cython_SGD.pyx... \r\n",
      "In file included from \u001b[01m\u001b[K/opt/conda/lib/python3.10/site-packages/numpy/core/include/numpy/ndarraytypes.h:1940\u001b[m\u001b[K,\r\n",
      "                 from \u001b[01m\u001b[K/opt/conda/lib/python3.10/site-packages/numpy/core/include/numpy/ndarrayobject.h:12\u001b[m\u001b[K,\r\n",
      "                 from \u001b[01m\u001b[K/opt/conda/lib/python3.10/site-packages/numpy/core/include/numpy/arrayobject.h:5\u001b[m\u001b[K,\r\n",
      "                 from \u001b[01m\u001b[KFBSM_Rating_Cython_SGD.c:1109\u001b[m\u001b[K:\r\n",
      "\u001b[01m\u001b[K/opt/conda/lib/python3.10/site-packages/numpy/core/include/numpy/npy_1_7_deprecated_api.h:17:2:\u001b[m\u001b[K \u001b[01;35m\u001b[Kwarning: \u001b[m\u001b[K#warning \"Using deprecated NumPy API, disable it with \" \"#define NPY_NO_DEPRECATED_API NPY_1_7_API_VERSION\" [\u001b[01;35m\u001b[K-Wcpp\u001b[m\u001b[K]\r\n",
      "   17 | #\u001b[01;35m\u001b[Kwarning\u001b[m\u001b[K \"Using deprecated NumPy API, disable it with \" \\\r\n",
      "      |  \u001b[01;35m\u001b[K^~~~~~~\u001b[m\u001b[K\r\n",
      "\u001b[01m\u001b[KFBSM_Rating_Cython_SGD.c:\u001b[m\u001b[K In function ‘\u001b[01m\u001b[K__pyx_pf_22FBSM_Rating_Cython_SGD_22FBSM_Rating_Cython_SGD_2fit\u001b[m\u001b[K’:\r\n",
      "\u001b[01m\u001b[KFBSM_Rating_Cython_SGD.c:26038:55:\u001b[m\u001b[K \u001b[01;35m\u001b[Kwarning: \u001b[m\u001b[K‘\u001b[01m\u001b[K__pyx_v_num_sample\u001b[m\u001b[K’ may be used uninitialized in this function [\u001b[01;35m\u001b[K-Wmaybe-uninitialized\u001b[m\u001b[K]\r\n",
      "26038 |   __pyx_t_5 = PyFloat_FromDouble((__pyx_v_cum_loss / \u001b[01;35m\u001b[K((double)__pyx_v_num_sample)\u001b[m\u001b[K)); if (unlikely(!__pyx_t_5)) __PYX_ERR(0, 551, __pyx_L1_error)\r\n",
      "      |                                                      \u001b[01;35m\u001b[K~^~~~~~~~~~~~~~~~~~~~~~~~~~~\u001b[m\u001b[K\r\n",
      "/opt/conda/lib/python3.10/site-packages/Cython/Compiler/Main.py:381: FutureWarning: Cython directive 'language_level' not set, using '3str' for now (Py3). This has changed from earlier releases! File: /kaggle/working/Recsys_Challenge_2023/Recommenders/FeatureWeighting/Cython/FBSM_Rating_Cython_SGD.pyx\r\n",
      "  tree = Parsing.p_module(s, pxd, full_module_name)\r\n",
      "Compiling [8/10]: FBSM_Rating_Cython_SGD.pyx... PASS\r\n",
      "\r\n",
      "Compiling [9/10]: HP3_Similarity_Cython_SGD.pyx... \r\n",
      "warning: HP3_Similarity_Cython_SGD.pyx:113:40: Index should be typed for more efficient access\r\n",
      "In file included from \u001b[01m\u001b[K/opt/conda/lib/python3.10/site-packages/numpy/core/include/numpy/ndarraytypes.h:1940\u001b[m\u001b[K,\r\n",
      "                 from \u001b[01m\u001b[K/opt/conda/lib/python3.10/site-packages/numpy/core/include/numpy/ndarrayobject.h:12\u001b[m\u001b[K,\r\n",
      "                 from \u001b[01m\u001b[K/opt/conda/lib/python3.10/site-packages/numpy/core/include/numpy/arrayobject.h:5\u001b[m\u001b[K,\r\n",
      "                 from \u001b[01m\u001b[KHP3_Similarity_Cython_SGD.c:1109\u001b[m\u001b[K:\r\n",
      "\u001b[01m\u001b[K/opt/conda/lib/python3.10/site-packages/numpy/core/include/numpy/npy_1_7_deprecated_api.h:17:2:\u001b[m\u001b[K \u001b[01;35m\u001b[Kwarning: \u001b[m\u001b[K#warning \"Using deprecated NumPy API, disable it with \" \"#define NPY_NO_DEPRECATED_API NPY_1_7_API_VERSION\" [\u001b[01;35m\u001b[K-Wcpp\u001b[m\u001b[K]\r\n",
      "   17 | #\u001b[01;35m\u001b[Kwarning\u001b[m\u001b[K \"Using deprecated NumPy API, disable it with \" \\\r\n",
      "      |  \u001b[01;35m\u001b[K^~~~~~~\u001b[m\u001b[K\r\n",
      "\u001b[01m\u001b[KHP3_Similarity_Cython_SGD.c:\u001b[m\u001b[K In function ‘\u001b[01m\u001b[K__pyx_pf_25HP3_Similarity_Cython_SGD_25HP3_Similarity_Cython_SGD_4fit\u001b[m\u001b[K’:\r\n",
      "\u001b[01m\u001b[KHP3_Similarity_Cython_SGD.c:23035:55:\u001b[m\u001b[K \u001b[01;35m\u001b[Kwarning: \u001b[m\u001b[K‘\u001b[01m\u001b[K__pyx_v_sample_num\u001b[m\u001b[K’ may be used uninitialized in this function [\u001b[01;35m\u001b[K-Wmaybe-uninitialized\u001b[m\u001b[K]\r\n",
      "23035 |   __pyx_t_1 = PyFloat_FromDouble((__pyx_v_cum_loss / \u001b[01;35m\u001b[K((double)__pyx_v_sample_num)\u001b[m\u001b[K)); if (unlikely(!__pyx_t_1)) __PYX_ERR(0, 291, __pyx_L1_error)\r\n",
      "      |                                                      \u001b[01;35m\u001b[K~^~~~~~~~~~~~~~~~~~~~~~~~~~~\u001b[m\u001b[K\r\n",
      "/opt/conda/lib/python3.10/site-packages/Cython/Compiler/Main.py:381: FutureWarning: Cython directive 'language_level' not set, using '3str' for now (Py3). This has changed from earlier releases! File: /kaggle/working/Recsys_Challenge_2023/Recommenders/FeatureWeighting/Cython/HP3_Similarity_Cython_SGD.pyx\r\n",
      "  tree = Parsing.p_module(s, pxd, full_module_name)\r\n",
      "warning: HP3_Similarity_Cython_SGD.pyx:113:40: Index should be typed for more efficient access\r\n",
      "Compiling [9/10]: HP3_Similarity_Cython_SGD.pyx... PASS\r\n",
      "\r\n",
      "Compiling [10/10]: CFW_DVV_Similarity_Cython_SGD.pyx... \r\n",
      "In file included from \u001b[01m\u001b[K/opt/conda/lib/python3.10/site-packages/numpy/core/include/numpy/ndarraytypes.h:1940\u001b[m\u001b[K,\r\n",
      "                 from \u001b[01m\u001b[K/opt/conda/lib/python3.10/site-packages/numpy/core/include/numpy/ndarrayobject.h:12\u001b[m\u001b[K,\r\n",
      "                 from \u001b[01m\u001b[K/opt/conda/lib/python3.10/site-packages/numpy/core/include/numpy/arrayobject.h:5\u001b[m\u001b[K,\r\n",
      "                 from \u001b[01m\u001b[KCFW_DVV_Similarity_Cython_SGD.c:1109\u001b[m\u001b[K:\r\n",
      "\u001b[01m\u001b[K/opt/conda/lib/python3.10/site-packages/numpy/core/include/numpy/npy_1_7_deprecated_api.h:17:2:\u001b[m\u001b[K \u001b[01;35m\u001b[Kwarning: \u001b[m\u001b[K#warning \"Using deprecated NumPy API, disable it with \" \"#define NPY_NO_DEPRECATED_API NPY_1_7_API_VERSION\" [\u001b[01;35m\u001b[K-Wcpp\u001b[m\u001b[K]\r\n",
      "   17 | #\u001b[01;35m\u001b[Kwarning\u001b[m\u001b[K \"Using deprecated NumPy API, disable it with \" \\\r\n",
      "      |  \u001b[01;35m\u001b[K^~~~~~~\u001b[m\u001b[K\r\n",
      "/opt/conda/lib/python3.10/site-packages/Cython/Compiler/Main.py:381: FutureWarning: Cython directive 'language_level' not set, using '3str' for now (Py3). This has changed from earlier releases! File: /kaggle/working/Recsys_Challenge_2023/Recommenders/FeatureWeighting/Cython/CFW_DVV_Similarity_Cython_SGD.pyx\r\n",
      "  tree = Parsing.p_module(s, pxd, full_module_name)\r\n",
      "Compiling [10/10]: CFW_DVV_Similarity_Cython_SGD.pyx... PASS\r\n",
      "\r\n",
      "run_compile_all_cython: Compilation finished. FAILS 2/10.\r\n",
      "Compilation log can be found here: './result_experiments/run_compile_all_cython.txt'\r\n"
     ]
    }
   ],
   "source": [
    "! cd /kaggle/working/Recsys_Challenge_2023 && python run_compile_all_cython.py"
   ]
  },
  {
   "cell_type": "code",
   "execution_count": 4,
   "id": "1edbc316",
   "metadata": {
    "_cell_guid": "b1076dfc-b9ad-4769-8c92-a6c4dae69d19",
    "_kg_hide-output": true,
    "_uuid": "8f2839f25d086af736a60e9eeb907d3b93b6e0e5",
    "execution": {
     "iopub.execute_input": "2023-12-09T10:44:37.428405Z",
     "iopub.status.busy": "2023-12-09T10:44:37.427881Z",
     "iopub.status.idle": "2023-12-09T10:44:41.376701Z",
     "shell.execute_reply": "2023-12-09T10:44:41.375390Z"
    },
    "papermill": {
     "duration": 3.977866,
     "end_time": "2023-12-09T10:44:41.379220",
     "exception": false,
     "start_time": "2023-12-09T10:44:37.401354",
     "status": "completed"
    },
    "scrolled": true,
    "tags": []
   },
   "outputs": [
    {
     "name": "stdout",
     "output_type": "stream",
     "text": [
      "/kaggle/input/recommender-system-2023-challenge-polimi/data_train.csv\n",
      "/kaggle/input/recommender-system-2023-challenge-polimi/data_target_users_test.csv\n"
     ]
    }
   ],
   "source": [
    "import numpy as np\n",
    "import pandas as pd\n",
    "import matplotlib.pyplot as plt\n",
    "import seaborn as sns\n",
    "import joblib\n",
    "import json\n",
    "import random\n",
    "import tqdm\n",
    "import gc\n",
    "import time\n",
    "import os\n",
    "import shutil\n",
    "import optuna\n",
    "from optuna.distributions import FloatDistribution, IntDistribution, CategoricalDistribution\n",
    "import scipy.sparse as sps\n",
    "\n",
    "for dirname, _, filenames in os.walk('/kaggle/input'):\n",
    "    for filename in filenames:\n",
    "        print(os.path.join(dirname, filename))"
   ]
  },
  {
   "cell_type": "markdown",
   "id": "c385bae5",
   "metadata": {
    "papermill": {
     "duration": 0.023216,
     "end_time": "2023-12-09T10:44:41.426316",
     "exception": false,
     "start_time": "2023-12-09T10:44:41.403100",
     "status": "completed"
    },
    "tags": []
   },
   "source": [
    "# Configurations"
   ]
  },
  {
   "cell_type": "code",
   "execution_count": 5,
   "id": "23dc5880",
   "metadata": {
    "execution": {
     "iopub.execute_input": "2023-12-09T10:44:41.475460Z",
     "iopub.status.busy": "2023-12-09T10:44:41.474546Z",
     "iopub.status.idle": "2023-12-09T10:44:42.141680Z",
     "shell.execute_reply": "2023-12-09T10:44:42.140390Z"
    },
    "papermill": {
     "duration": 0.694459,
     "end_time": "2023-12-09T10:44:42.144268",
     "exception": false,
     "start_time": "2023-12-09T10:44:41.449809",
     "status": "completed"
    },
    "tags": []
   },
   "outputs": [
    {
     "name": "stdout",
     "output_type": "stream",
     "text": [
      "Repository found\n"
     ]
    }
   ],
   "source": [
    "from github import Github\n",
    "from github import Auth\n",
    "\n",
    "auth = Auth.Token(token)\n",
    "g = Github(auth=auth)\n",
    "\n",
    "repo = None\n",
    "for r in g.get_user().get_repos():\n",
    "    if r.name == 'Recsys_Challenge_2023':\n",
    "        repo = r\n",
    "        print('Repository found')"
   ]
  },
  {
   "cell_type": "code",
   "execution_count": 6,
   "id": "466a9a47",
   "metadata": {
    "execution": {
     "iopub.execute_input": "2023-12-09T10:44:42.192668Z",
     "iopub.status.busy": "2023-12-09T10:44:42.191690Z",
     "iopub.status.idle": "2023-12-09T10:44:42.198813Z",
     "shell.execute_reply": "2023-12-09T10:44:42.197591Z"
    },
    "papermill": {
     "duration": 0.03407,
     "end_time": "2023-12-09T10:44:42.201305",
     "exception": false,
     "start_time": "2023-12-09T10:44:42.167235",
     "status": "completed"
    },
    "tags": []
   },
   "outputs": [],
   "source": [
    "def upload_file(filepath_kaggle, filepath_github, commit_message):\n",
    "    try:\n",
    "        contents = repo.get_contents(filepath_github)\n",
    "        with open(filepath_kaggle, \"rb\") as file:\n",
    "            repo.update_file(contents.path, commit_message, file.read(), contents.sha)\n",
    "    except Exception:\n",
    "        with open(filepath_kaggle, \"rb\") as file:\n",
    "            repo.create_file(filepath_github, commit_message, file.read())"
   ]
  },
  {
   "cell_type": "code",
   "execution_count": 7,
   "id": "a4f4dd7f",
   "metadata": {
    "execution": {
     "iopub.execute_input": "2023-12-09T10:44:42.249801Z",
     "iopub.status.busy": "2023-12-09T10:44:42.249062Z",
     "iopub.status.idle": "2023-12-09T10:44:42.258408Z",
     "shell.execute_reply": "2023-12-09T10:44:42.256770Z"
    },
    "papermill": {
     "duration": 0.036839,
     "end_time": "2023-12-09T10:44:42.261202",
     "exception": false,
     "start_time": "2023-12-09T10:44:42.224363",
     "status": "completed"
    },
    "tags": []
   },
   "outputs": [
    {
     "name": "stdout",
     "output_type": "stream",
     "text": [
      "\u001b[1m\u001b[31m\n",
      "RAM memory GB usage = 0.2153\u001b[0m\n"
     ]
    }
   ],
   "source": [
    "from os import system, getpid, walk\n",
    "from psutil import Process\n",
    "from colorama import Fore, Style, init\n",
    "from IPython.display import display, HTML\n",
    "\n",
    "def PrintColor(text:str, color = Fore.BLUE, style = Style.BRIGHT):\n",
    "    print(style + color + text + Style.RESET_ALL)\n",
    "    \n",
    "def GetMemUsage():   \n",
    "    pid = getpid()\n",
    "    py = Process(pid)\n",
    "    memory_use = py.memory_info()[0] / 2. ** 30\n",
    "    return f\"RAM memory GB usage = {memory_use :.4}\"\n",
    "\n",
    "PrintColor(f\"\\n\" + GetMemUsage(), color = Fore.RED)"
   ]
  },
  {
   "cell_type": "code",
   "execution_count": 8,
   "id": "ff92a475",
   "metadata": {
    "execution": {
     "iopub.execute_input": "2023-12-09T10:44:42.310270Z",
     "iopub.status.busy": "2023-12-09T10:44:42.309845Z",
     "iopub.status.idle": "2023-12-09T10:44:42.314698Z",
     "shell.execute_reply": "2023-12-09T10:44:42.313900Z"
    },
    "papermill": {
     "duration": 0.032512,
     "end_time": "2023-12-09T10:44:42.316859",
     "exception": false,
     "start_time": "2023-12-09T10:44:42.284347",
     "status": "completed"
    },
    "tags": []
   },
   "outputs": [],
   "source": [
    "config = {\n",
    "    'tune_parameters_item_knn': True,\n",
    "    'tune_parameters_user_knn': True,\n",
    "    'database_path': '/kaggle/working/better_tuning_knn.db',\n",
    "    'copy_prev_tuning_db': True,\n",
    "    'train_best_model': False,\n",
    "    'copy_prev_best_params': True,\n",
    "    'save_github': True\n",
    "}"
   ]
  },
  {
   "cell_type": "code",
   "execution_count": 9,
   "id": "1a0a35b7",
   "metadata": {
    "execution": {
     "iopub.execute_input": "2023-12-09T10:44:42.368311Z",
     "iopub.status.busy": "2023-12-09T10:44:42.367464Z",
     "iopub.status.idle": "2023-12-09T10:44:42.375194Z",
     "shell.execute_reply": "2023-12-09T10:44:42.373935Z"
    },
    "papermill": {
     "duration": 0.036701,
     "end_time": "2023-12-09T10:44:42.377962",
     "exception": false,
     "start_time": "2023-12-09T10:44:42.341261",
     "status": "completed"
    },
    "tags": []
   },
   "outputs": [],
   "source": [
    "try:\n",
    "    shutil.copyfile(\n",
    "        '/kaggle/working/Recsys_Challenge_2023/tuning_results/better_tuning_knn.db', \n",
    "        config['database_path']\n",
    "    )\n",
    "except FileNotFoundError:\n",
    "    pass # if not present optuna will create it"
   ]
  },
  {
   "cell_type": "markdown",
   "id": "4b872ddd",
   "metadata": {
    "papermill": {
     "duration": 0.023807,
     "end_time": "2023-12-09T10:44:42.494717",
     "exception": false,
     "start_time": "2023-12-09T10:44:42.470910",
     "status": "completed"
    },
    "tags": []
   },
   "source": [
    "# Data Import"
   ]
  },
  {
   "cell_type": "code",
   "execution_count": 10,
   "id": "ec9cdfa6",
   "metadata": {
    "execution": {
     "iopub.execute_input": "2023-12-09T10:44:42.543861Z",
     "iopub.status.busy": "2023-12-09T10:44:42.543024Z",
     "iopub.status.idle": "2023-12-09T10:44:42.809063Z",
     "shell.execute_reply": "2023-12-09T10:44:42.807869Z"
    },
    "papermill": {
     "duration": 0.293682,
     "end_time": "2023-12-09T10:44:42.811793",
     "exception": false,
     "start_time": "2023-12-09T10:44:42.518111",
     "status": "completed"
    },
    "tags": []
   },
   "outputs": [],
   "source": [
    "train_data = pd.read_csv('/kaggle/input/recommender-system-2023-challenge-polimi/data_train.csv')\n",
    "user_ids_test = pd.read_csv('/kaggle/input/recommender-system-2023-challenge-polimi/data_target_users_test.csv')"
   ]
  },
  {
   "cell_type": "code",
   "execution_count": 11,
   "id": "57e9363d",
   "metadata": {
    "execution": {
     "iopub.execute_input": "2023-12-09T10:44:42.861259Z",
     "iopub.status.busy": "2023-12-09T10:44:42.860532Z",
     "iopub.status.idle": "2023-12-09T10:44:42.905680Z",
     "shell.execute_reply": "2023-12-09T10:44:42.904535Z"
    },
    "papermill": {
     "duration": 0.072449,
     "end_time": "2023-12-09T10:44:42.908126",
     "exception": false,
     "start_time": "2023-12-09T10:44:42.835677",
     "status": "completed"
    },
    "tags": []
   },
   "outputs": [
    {
     "data": {
      "text/plain": [
       "<13024x22347 sparse matrix of type '<class 'numpy.float64'>'\n",
       "\twith 478730 stored elements in Compressed Sparse Row format>"
      ]
     },
     "execution_count": 11,
     "metadata": {},
     "output_type": "execute_result"
    }
   ],
   "source": [
    "URM_all = sps.csr_matrix((train_data.data.values,\n",
    "                          ((train_data.row - 1).values, (train_data.col - 1).values)),\n",
    "                        shape=(train_data.row.max(), train_data.col.max()))\n",
    "URM_all"
   ]
  },
  {
   "cell_type": "code",
   "execution_count": 12,
   "id": "e908c502",
   "metadata": {
    "execution": {
     "iopub.execute_input": "2023-12-09T10:44:42.957297Z",
     "iopub.status.busy": "2023-12-09T10:44:42.956893Z",
     "iopub.status.idle": "2023-12-09T10:44:42.964001Z",
     "shell.execute_reply": "2023-12-09T10:44:42.962817Z"
    },
    "papermill": {
     "duration": 0.034786,
     "end_time": "2023-12-09T10:44:42.966514",
     "exception": false,
     "start_time": "2023-12-09T10:44:42.931728",
     "status": "completed"
    },
    "tags": []
   },
   "outputs": [
    {
     "name": "stdout",
     "output_type": "stream",
     "text": [
      "/kaggle/working/Recsys_Challenge_2023\n"
     ]
    }
   ],
   "source": [
    "%cd /kaggle/working/Recsys_Challenge_2023"
   ]
  },
  {
   "cell_type": "code",
   "execution_count": 13,
   "id": "7ad0deed",
   "metadata": {
    "execution": {
     "iopub.execute_input": "2023-12-09T10:44:43.017395Z",
     "iopub.status.busy": "2023-12-09T10:44:43.016942Z",
     "iopub.status.idle": "2023-12-09T10:44:43.582443Z",
     "shell.execute_reply": "2023-12-09T10:44:43.581396Z"
    },
    "papermill": {
     "duration": 0.59462,
     "end_time": "2023-12-09T10:44:43.585183",
     "exception": false,
     "start_time": "2023-12-09T10:44:42.990563",
     "status": "completed"
    },
    "tags": []
   },
   "outputs": [],
   "source": [
    "from Recommenders.KNN.UserKNNCFRecommender import UserKNNCFRecommender\n",
    "from Data_manager.split_functions.split_train_validation_random_holdout import split_train_in_two_percentage_global_sample\n",
    "from Recommenders.SLIM.SLIMElasticNetRecommender import MultiThreadSLIM_SLIMElasticNetRecommender\n",
    "from Evaluation.Evaluator import EvaluatorHoldout\n",
    "from Recommenders.KNN.ItemKNNCFRecommender import ItemKNNCFRecommender\n",
    "from Recommenders.KNN.UserKNNCFRecommender import UserKNNCFRecommender\n",
    "\n",
    "from Data_manager.CrossValidationSplitter import CrossValidationSplitter\n",
    "\n",
    "np.int = int\n",
    "np.random.seed(42)\n",
    "np.bool = bool\n",
    "np.float = float"
   ]
  },
  {
   "cell_type": "code",
   "execution_count": 14,
   "id": "3920f661",
   "metadata": {
    "execution": {
     "iopub.execute_input": "2023-12-09T10:44:43.634285Z",
     "iopub.status.busy": "2023-12-09T10:44:43.633871Z",
     "iopub.status.idle": "2023-12-09T10:44:45.009535Z",
     "shell.execute_reply": "2023-12-09T10:44:45.008626Z"
    },
    "papermill": {
     "duration": 1.404023,
     "end_time": "2023-12-09T10:44:45.012848",
     "exception": false,
     "start_time": "2023-12-09T10:44:43.608825",
     "status": "completed"
    },
    "tags": []
   },
   "outputs": [
    {
     "name": "stdout",
     "output_type": "stream",
     "text": [
      "Warning: 627 (4.81 %) of 13024 users have no train items\n",
      "Warning: 2568 (19.72 %) of 13024 users have no sampled items\n"
     ]
    }
   ],
   "source": [
    "URM_train, URM_test_complete = split_train_in_two_percentage_global_sample(URM_all, train_percentage = 0.8)"
   ]
  },
  {
   "cell_type": "markdown",
   "id": "0e6ff942",
   "metadata": {
    "papermill": {
     "duration": 0.023235,
     "end_time": "2023-12-09T10:44:45.060183",
     "exception": false,
     "start_time": "2023-12-09T10:44:45.036948",
     "status": "completed"
    },
    "tags": []
   },
   "source": [
    "# Hyperparameters tuning"
   ]
  },
  {
   "cell_type": "code",
   "execution_count": 15,
   "id": "3c3726a1",
   "metadata": {
    "execution": {
     "iopub.execute_input": "2023-12-09T10:44:45.110513Z",
     "iopub.status.busy": "2023-12-09T10:44:45.109860Z",
     "iopub.status.idle": "2023-12-09T10:44:45.118286Z",
     "shell.execute_reply": "2023-12-09T10:44:45.117021Z"
    },
    "papermill": {
     "duration": 0.03664,
     "end_time": "2023-12-09T10:44:45.120532",
     "exception": false,
     "start_time": "2023-12-09T10:44:45.083892",
     "status": "completed"
    },
    "tags": []
   },
   "outputs": [
    {
     "name": "stdout",
     "output_type": "stream",
     "text": [
      "All rows from table 'studies':\n",
      "(1, 'hyperparameters_tuning_knn_item_5folds')\n",
      "(2, 'hyperparameters_tuning_knn_user_5folds')\n"
     ]
    }
   ],
   "source": [
    "import sqlite3\n",
    "\n",
    "def print_all_rows(table_name, database_path):\n",
    "    connection = sqlite3.connect(database_path)\n",
    "    cursor = connection.cursor()\n",
    "\n",
    "    try:\n",
    "        cursor.execute(f\"SELECT * FROM {table_name};\")\n",
    "        rows = cursor.fetchall()\n",
    "\n",
    "        print(f\"All rows from table '{table_name}':\")\n",
    "        for row in rows:\n",
    "            print(row)\n",
    "\n",
    "    except sqlite3.Error as e:\n",
    "        print(f\"Error reading data from table '{table_name}': {e}\")\n",
    "\n",
    "    finally:\n",
    "        cursor.close()\n",
    "        connection.close()\n",
    "\n",
    "print_all_rows('studies', config['database_path'])"
   ]
  },
  {
   "cell_type": "markdown",
   "id": "4d3a8124",
   "metadata": {
    "papermill": {
     "duration": 0.023534,
     "end_time": "2023-12-09T10:44:45.168908",
     "exception": false,
     "start_time": "2023-12-09T10:44:45.145374",
     "status": "completed"
    },
    "tags": []
   },
   "source": [
    "## Item KNN Collaborative Filtering"
   ]
  },
  {
   "cell_type": "markdown",
   "id": "89da10b0",
   "metadata": {
    "papermill": {
     "duration": 0.023438,
     "end_time": "2023-12-09T10:44:45.216219",
     "exception": false,
     "start_time": "2023-12-09T10:44:45.192781",
     "status": "completed"
    },
    "tags": []
   },
   "source": [
    "Not considering adjusted cosine and pearson since they remove the mean of the interactions, but here there are all interactions equal to 1"
   ]
  },
  {
   "cell_type": "code",
   "execution_count": 16,
   "id": "c56143c9",
   "metadata": {
    "_kg_hide-output": false,
    "execution": {
     "iopub.execute_input": "2023-12-09T10:44:45.267698Z",
     "iopub.status.busy": "2023-12-09T10:44:45.266469Z",
     "iopub.status.idle": "2023-12-09T10:44:45.287900Z",
     "shell.execute_reply": "2023-12-09T10:44:45.286449Z"
    },
    "papermill": {
     "duration": 0.049365,
     "end_time": "2023-12-09T10:44:45.290429",
     "exception": false,
     "start_time": "2023-12-09T10:44:45.241064",
     "status": "completed"
    },
    "scrolled": true,
    "tags": []
   },
   "outputs": [
    {
     "name": "stdout",
     "output_type": "stream",
     "text": [
      "EvaluatorHoldout: Ignoring 2568 (19.7%) Users that have less than 1 test interactions\n"
     ]
    }
   ],
   "source": [
    "evaluator = EvaluatorHoldout(URM_test_complete, cutoff_list=[10])\n",
    "\n",
    "\n",
    "def objective_item_knn(trial):\n",
    "    params = {\n",
    "        'topK': trial.suggest_int('topK', 10, 1000),\n",
    "        'shrink': trial.suggest_int('shrink', 0, 500),\n",
    "        'similarity': trial.suggest_categorical('similarity', [\"cosine\", \"asymmetric\", \"dice\", \"jaccard\", \"tanimoto\", \"tversky\", \"euclidean\"]),\n",
    "        'feature_weighting': trial.suggest_categorical('feature_weighting', [\"BM25\", \"TF-IDF\", \"none\"])\n",
    "    }\n",
    "    \n",
    "    if params['similarity'] == \"asymmetric\":\n",
    "        params[\"asymmetric_alpha\"] = trial.suggest_float(\"asymmetric_alpha\", 0, 2, log=False)\n",
    "        params[\"normalize\"] = True     \n",
    "\n",
    "    elif params['similarity'] == \"tversky\":\n",
    "        params[\"tversky_alpha\"] = trial.suggest_float(\"tversky_alpha\", 0, 2, log=False)\n",
    "        params[\"tversky_beta\"] = trial.suggest_float(\"tversky_beta\", 0, 2, log=False)\n",
    "        params[\"normalize\"] = True \n",
    "\n",
    "    elif params['similarity'] == \"euclidean\":\n",
    "        params[\"normalize_avg_row\"] = trial.suggest_categorical(\"normalize_avg_row\", [True, False])\n",
    "        params[\"similarity_from_distance_mode\"] = trial.suggest_categorical(\"similarity_from_distance_mode\", [\"lin\", \"log\", \"exp\"])\n",
    "        params[\"normalize\"] = trial.suggest_categorical(\"normalize\", [True, False])\n",
    "    \n",
    "    recommender = ItemKNNCFRecommender(URM_train)\n",
    "    recommender.fit(**params)\n",
    "        \n",
    "    result_df, _ = evaluator.evaluateRecommender(recommender)\n",
    "    \n",
    "    return result_df.loc[10, 'MAP']"
   ]
  },
  {
   "cell_type": "code",
   "execution_count": 17,
   "id": "f9e471ea",
   "metadata": {
    "_kg_hide-output": true,
    "execution": {
     "iopub.execute_input": "2023-12-09T10:44:45.340322Z",
     "iopub.status.busy": "2023-12-09T10:44:45.339929Z",
     "iopub.status.idle": "2023-12-09T12:12:56.903373Z",
     "shell.execute_reply": "2023-12-09T12:12:56.902022Z"
    },
    "papermill": {
     "duration": 5291.591863,
     "end_time": "2023-12-09T12:12:56.906311",
     "exception": false,
     "start_time": "2023-12-09T10:44:45.314448",
     "status": "completed"
    },
    "scrolled": true,
    "tags": []
   },
   "outputs": [
    {
     "name": "stderr",
     "output_type": "stream",
     "text": [
      "[I 2023-12-09 10:44:45,803] A new study created in RDB with name: hyperparameters_tuning_knn_item_no_cv\n"
     ]
    },
    {
     "name": "stdout",
     "output_type": "stream",
     "text": [
      "ItemKNNCFRecommender: URM Detected 627 ( 4.8%) users with no interactions.\n",
      "ItemKNNCFRecommender: URM Detected 247 ( 1.1%) items with no interactions.\n",
      "Similarity column 22347 (100.0%), 4680.10 column/sec. Elapsed time 4.77 sec\n",
      "EvaluatorHoldout: Processed 10456 (100.0%) in 19.03 sec. Users per second: 549\n"
     ]
    },
    {
     "name": "stderr",
     "output_type": "stream",
     "text": [
      "[I 2023-12-09 10:45:10,505] Trial 0 finished with value: 0.03742553831019832 and parameters: {'topK': 937, 'shrink': 93, 'similarity': 'dice', 'feature_weighting': 'TF-IDF'}. Best is trial 0 with value: 0.03742553831019832.\n"
     ]
    },
    {
     "name": "stdout",
     "output_type": "stream",
     "text": [
      "ItemKNNCFRecommender: URM Detected 627 ( 4.8%) users with no interactions.\n",
      "ItemKNNCFRecommender: URM Detected 247 ( 1.1%) items with no interactions.\n",
      "Similarity column 22347 (100.0%), 489.74 column/sec. Elapsed time 45.63 sec\n",
      "EvaluatorHoldout: Processed 10456 (100.0%) in 8.23 sec. Users per second: 1270\n"
     ]
    },
    {
     "name": "stderr",
     "output_type": "stream",
     "text": [
      "[I 2023-12-09 10:46:04,911] Trial 1 finished with value: 0.019689644284135395 and parameters: {'topK': 516, 'shrink': 261, 'similarity': 'euclidean', 'feature_weighting': 'TF-IDF', 'normalize_avg_row': True, 'similarity_from_distance_mode': 'lin', 'normalize': False}. Best is trial 0 with value: 0.03742553831019832.\n"
     ]
    },
    {
     "name": "stdout",
     "output_type": "stream",
     "text": [
      "ItemKNNCFRecommender: URM Detected 627 ( 4.8%) users with no interactions.\n",
      "ItemKNNCFRecommender: URM Detected 247 ( 1.1%) items with no interactions.\n",
      "Similarity column 22347 (100.0%), 4205.65 column/sec. Elapsed time 5.31 sec\n",
      "EvaluatorHoldout: Processed 10456 (100.0%) in 15.24 sec. Users per second: 686\n"
     ]
    },
    {
     "name": "stderr",
     "output_type": "stream",
     "text": [
      "[I 2023-12-09 10:46:25,773] Trial 2 finished with value: 0.03653141736801885 and parameters: {'topK': 176, 'shrink': 118, 'similarity': 'cosine', 'feature_weighting': 'none'}. Best is trial 0 with value: 0.03742553831019832.\n"
     ]
    },
    {
     "name": "stdout",
     "output_type": "stream",
     "text": [
      "ItemKNNCFRecommender: URM Detected 627 ( 4.8%) users with no interactions.\n",
      "ItemKNNCFRecommender: URM Detected 247 ( 1.1%) items with no interactions.\n",
      "Similarity column 22347 (100.0%), 4258.98 column/sec. Elapsed time 5.25 sec\n",
      "EvaluatorHoldout: Processed 10456 (100.0%) in 20.02 sec. Users per second: 522\n"
     ]
    },
    {
     "name": "stderr",
     "output_type": "stream",
     "text": [
      "[I 2023-12-09 10:46:51,608] Trial 3 finished with value: 0.006844998998069001 and parameters: {'topK': 558, 'shrink': 91, 'similarity': 'asymmetric', 'feature_weighting': 'TF-IDF', 'asymmetric_alpha': 1.1082225225272972}. Best is trial 0 with value: 0.03742553831019832.\n"
     ]
    },
    {
     "name": "stdout",
     "output_type": "stream",
     "text": [
      "ItemKNNCFRecommender: URM Detected 627 ( 4.8%) users with no interactions.\n",
      "ItemKNNCFRecommender: URM Detected 247 ( 1.1%) items with no interactions.\n",
      "Similarity column 22347 (100.0%), 4465.86 column/sec. Elapsed time 5.00 sec\n",
      "EvaluatorHoldout: Processed 10456 (100.0%) in 15.37 sec. Users per second: 680\n"
     ]
    },
    {
     "name": "stderr",
     "output_type": "stream",
     "text": [
      "[I 2023-12-09 10:47:12,355] Trial 4 finished with value: 0.038312991097995346 and parameters: {'topK': 204, 'shrink': 445, 'similarity': 'asymmetric', 'feature_weighting': 'TF-IDF', 'asymmetric_alpha': 0.7276997630583495}. Best is trial 4 with value: 0.038312991097995346.\n"
     ]
    },
    {
     "name": "stdout",
     "output_type": "stream",
     "text": [
      "ItemKNNCFRecommender: URM Detected 627 ( 4.8%) users with no interactions.\n",
      "ItemKNNCFRecommender: URM Detected 247 ( 1.1%) items with no interactions.\n",
      "Similarity column 22347 (100.0%), 4168.43 column/sec. Elapsed time 5.36 sec\n",
      "EvaluatorHoldout: Processed 10456 (100.0%) in 20.79 sec. Users per second: 503\n"
     ]
    },
    {
     "name": "stderr",
     "output_type": "stream",
     "text": [
      "[I 2023-12-09 10:47:39,128] Trial 5 finished with value: 0.02770694049744375 and parameters: {'topK': 728, 'shrink': 323, 'similarity': 'asymmetric', 'feature_weighting': 'none', 'asymmetric_alpha': 1.9634627635608188}. Best is trial 4 with value: 0.038312991097995346.\n"
     ]
    },
    {
     "name": "stdout",
     "output_type": "stream",
     "text": [
      "ItemKNNCFRecommender: URM Detected 627 ( 4.8%) users with no interactions.\n",
      "ItemKNNCFRecommender: URM Detected 247 ( 1.1%) items with no interactions.\n",
      "Similarity column 22347 (100.0%), 4225.53 column/sec. Elapsed time 5.29 sec\n",
      "EvaluatorHoldout: Processed 10456 (100.0%) in 19.51 sec. Users per second: 536\n"
     ]
    },
    {
     "name": "stderr",
     "output_type": "stream",
     "text": [
      "[I 2023-12-09 10:48:04,645] Trial 6 finished with value: 0.03413762584860547 and parameters: {'topK': 946, 'shrink': 218, 'similarity': 'asymmetric', 'feature_weighting': 'none', 'asymmetric_alpha': 0.981156755734117}. Best is trial 4 with value: 0.038312991097995346.\n"
     ]
    },
    {
     "name": "stdout",
     "output_type": "stream",
     "text": [
      "ItemKNNCFRecommender: URM Detected 627 ( 4.8%) users with no interactions.\n",
      "ItemKNNCFRecommender: URM Detected 247 ( 1.1%) items with no interactions.\n",
      "Similarity column 22347 (100.0%), 4497.22 column/sec. Elapsed time 4.97 sec\n",
      "EvaluatorHoldout: Processed 10456 (100.0%) in 12.91 sec. Users per second: 810\n"
     ]
    },
    {
     "name": "stderr",
     "output_type": "stream",
     "text": [
      "[I 2023-12-09 10:48:22,945] Trial 7 finished with value: 0.02930350615124925 and parameters: {'topK': 173, 'shrink': 185, 'similarity': 'tversky', 'feature_weighting': 'none', 'tversky_alpha': 0.06445532502006679, 'tversky_beta': 0.9731195198302851}. Best is trial 4 with value: 0.038312991097995346.\n"
     ]
    },
    {
     "name": "stdout",
     "output_type": "stream",
     "text": [
      "ItemKNNCFRecommender: URM Detected 627 ( 4.8%) users with no interactions.\n",
      "ItemKNNCFRecommender: URM Detected 247 ( 1.1%) items with no interactions.\n",
      "Similarity column 22347 (100.0%), 4625.96 column/sec. Elapsed time 4.83 sec\n",
      "EvaluatorHoldout: Processed 10456 (100.0%) in 18.86 sec. Users per second: 555\n"
     ]
    },
    {
     "name": "stderr",
     "output_type": "stream",
     "text": [
      "[I 2023-12-09 10:48:47,363] Trial 8 finished with value: 0.03193876683547712 and parameters: {'topK': 763, 'shrink': 459, 'similarity': 'tanimoto', 'feature_weighting': 'TF-IDF'}. Best is trial 4 with value: 0.038312991097995346.\n"
     ]
    },
    {
     "name": "stdout",
     "output_type": "stream",
     "text": [
      "ItemKNNCFRecommender: URM Detected 627 ( 4.8%) users with no interactions.\n",
      "ItemKNNCFRecommender: URM Detected 247 ( 1.1%) items with no interactions.\n",
      "Similarity column 22347 (100.0%), 4939.20 column/sec. Elapsed time 4.52 sec\n",
      "EvaluatorHoldout: Processed 10456 (100.0%) in 12.70 sec. Users per second: 823\n"
     ]
    },
    {
     "name": "stderr",
     "output_type": "stream",
     "text": [
      "[I 2023-12-09 10:49:05,003] Trial 9 finished with value: 0.037982657485335906 and parameters: {'topK': 168, 'shrink': 148, 'similarity': 'dice', 'feature_weighting': 'none'}. Best is trial 4 with value: 0.038312991097995346.\n"
     ]
    },
    {
     "name": "stdout",
     "output_type": "stream",
     "text": [
      "ItemKNNCFRecommender: URM Detected 627 ( 4.8%) users with no interactions.\n",
      "ItemKNNCFRecommender: URM Detected 247 ( 1.1%) items with no interactions.\n",
      "Similarity column 22347 (100.0%), 4773.12 column/sec. Elapsed time 4.68 sec\n",
      "EvaluatorHoldout: Processed 10456 (100.0%) in 16.54 sec. Users per second: 632\n"
     ]
    },
    {
     "name": "stderr",
     "output_type": "stream",
     "text": [
      "[I 2023-12-09 10:49:26,762] Trial 10 finished with value: 0.04108638542767332 and parameters: {'topK': 332, 'shrink': 496, 'similarity': 'jaccard', 'feature_weighting': 'BM25'}. Best is trial 10 with value: 0.04108638542767332.\n"
     ]
    },
    {
     "name": "stdout",
     "output_type": "stream",
     "text": [
      "ItemKNNCFRecommender: URM Detected 627 ( 4.8%) users with no interactions.\n",
      "ItemKNNCFRecommender: URM Detected 247 ( 1.1%) items with no interactions.\n",
      "Similarity column 22347 (100.0%), 4780.73 column/sec. Elapsed time 4.67 sec\n",
      "EvaluatorHoldout: Processed 10456 (100.0%) in 16.60 sec. Users per second: 630\n"
     ]
    },
    {
     "name": "stderr",
     "output_type": "stream",
     "text": [
      "[I 2023-12-09 10:49:48,592] Trial 11 finished with value: 0.04097292053776418 and parameters: {'topK': 340, 'shrink': 481, 'similarity': 'jaccard', 'feature_weighting': 'BM25'}. Best is trial 10 with value: 0.04108638542767332.\n"
     ]
    },
    {
     "name": "stdout",
     "output_type": "stream",
     "text": [
      "ItemKNNCFRecommender: URM Detected 627 ( 4.8%) users with no interactions.\n",
      "ItemKNNCFRecommender: URM Detected 247 ( 1.1%) items with no interactions.\n",
      "Similarity column 22347 (100.0%), 4687.92 column/sec. Elapsed time 4.77 sec\n",
      "EvaluatorHoldout: Processed 10456 (100.0%) in 16.92 sec. Users per second: 618\n"
     ]
    },
    {
     "name": "stderr",
     "output_type": "stream",
     "text": [
      "[I 2023-12-09 10:50:10,841] Trial 12 finished with value: 0.040488035274043835 and parameters: {'topK': 386, 'shrink': 500, 'similarity': 'jaccard', 'feature_weighting': 'BM25'}. Best is trial 10 with value: 0.04108638542767332.\n"
     ]
    },
    {
     "name": "stdout",
     "output_type": "stream",
     "text": [
      "ItemKNNCFRecommender: URM Detected 627 ( 4.8%) users with no interactions.\n",
      "ItemKNNCFRecommender: URM Detected 247 ( 1.1%) items with no interactions.\n",
      "Similarity column 22347 (100.0%), 4794.47 column/sec. Elapsed time 4.66 sec\n",
      "EvaluatorHoldout: Processed 10456 (100.0%) in 16.77 sec. Users per second: 624\n"
     ]
    },
    {
     "name": "stderr",
     "output_type": "stream",
     "text": [
      "[I 2023-12-09 10:50:32,837] Trial 13 finished with value: 0.04090489549556162 and parameters: {'topK': 375, 'shrink': 363, 'similarity': 'jaccard', 'feature_weighting': 'BM25'}. Best is trial 10 with value: 0.04108638542767332.\n"
     ]
    },
    {
     "name": "stdout",
     "output_type": "stream",
     "text": [
      "ItemKNNCFRecommender: URM Detected 627 ( 4.8%) users with no interactions.\n",
      "ItemKNNCFRecommender: URM Detected 247 ( 1.1%) items with no interactions.\n",
      "Similarity column 22347 (100.0%), 4775.61 column/sec. Elapsed time 4.68 sec\n",
      "EvaluatorHoldout: Processed 10456 (100.0%) in 13.10 sec. Users per second: 798\n"
     ]
    },
    {
     "name": "stderr",
     "output_type": "stream",
     "text": [
      "[I 2023-12-09 10:50:51,142] Trial 14 finished with value: 0.030957986452678724 and parameters: {'topK': 318, 'shrink': 18, 'similarity': 'jaccard', 'feature_weighting': 'BM25'}. Best is trial 10 with value: 0.04108638542767332.\n"
     ]
    },
    {
     "name": "stdout",
     "output_type": "stream",
     "text": [
      "ItemKNNCFRecommender: URM Detected 627 ( 4.8%) users with no interactions.\n",
      "ItemKNNCFRecommender: URM Detected 247 ( 1.1%) items with no interactions.\n",
      "Similarity column 22347 (100.0%), 4643.67 column/sec. Elapsed time 4.81 sec\n",
      "EvaluatorHoldout: Processed 10456 (100.0%) in 18.04 sec. Users per second: 579\n"
     ]
    },
    {
     "name": "stderr",
     "output_type": "stream",
     "text": [
      "[I 2023-12-09 10:51:14,703] Trial 15 finished with value: 0.039939929682661704 and parameters: {'topK': 611, 'shrink': 383, 'similarity': 'jaccard', 'feature_weighting': 'BM25'}. Best is trial 10 with value: 0.04108638542767332.\n"
     ]
    },
    {
     "name": "stdout",
     "output_type": "stream",
     "text": [
      "ItemKNNCFRecommender: URM Detected 627 ( 4.8%) users with no interactions.\n",
      "ItemKNNCFRecommender: URM Detected 247 ( 1.1%) items with no interactions.\n",
      "Similarity column 22347 (100.0%), 4777.92 column/sec. Elapsed time 4.68 sec\n",
      "EvaluatorHoldout: Processed 10456 (100.0%) in 16.27 sec. Users per second: 643\n"
     ]
    },
    {
     "name": "stderr",
     "output_type": "stream",
     "text": [
      "[I 2023-12-09 10:51:36,182] Trial 16 finished with value: 0.041439345981953625 and parameters: {'topK': 311, 'shrink': 417, 'similarity': 'jaccard', 'feature_weighting': 'BM25'}. Best is trial 16 with value: 0.041439345981953625.\n"
     ]
    },
    {
     "name": "stdout",
     "output_type": "stream",
     "text": [
      "ItemKNNCFRecommender: URM Detected 627 ( 4.8%) users with no interactions.\n",
      "ItemKNNCFRecommender: URM Detected 247 ( 1.1%) items with no interactions.\n",
      "Similarity column 22347 (100.0%), 4278.75 column/sec. Elapsed time 5.22 sec\n",
      "EvaluatorHoldout: Processed 10456 (100.0%) in 9.37 sec. Users per second: 1116\n"
     ]
    },
    {
     "name": "stderr",
     "output_type": "stream",
     "text": [
      "[I 2023-12-09 10:51:51,035] Trial 17 finished with value: 0.02259664838901643 and parameters: {'topK': 51, 'shrink': 409, 'similarity': 'cosine', 'feature_weighting': 'BM25'}. Best is trial 16 with value: 0.041439345981953625.\n"
     ]
    },
    {
     "name": "stdout",
     "output_type": "stream",
     "text": [
      "ItemKNNCFRecommender: URM Detected 627 ( 4.8%) users with no interactions.\n",
      "ItemKNNCFRecommender: URM Detected 247 ( 1.1%) items with no interactions.\n",
      "Similarity column 22347 (100.0%), 4511.02 column/sec. Elapsed time 4.95 sec\n",
      "EvaluatorHoldout: Processed 10456 (100.0%) in 10.61 sec. Users per second: 985\n"
     ]
    },
    {
     "name": "stderr",
     "output_type": "stream",
     "text": [
      "[I 2023-12-09 10:52:06,981] Trial 18 finished with value: 0.040920417835586684 and parameters: {'topK': 43, 'shrink': 321, 'similarity': 'tversky', 'feature_weighting': 'BM25', 'tversky_alpha': 1.8718704384902036, 'tversky_beta': 1.9701971117292498}. Best is trial 16 with value: 0.041439345981953625.\n"
     ]
    },
    {
     "name": "stdout",
     "output_type": "stream",
     "text": [
      "ItemKNNCFRecommender: URM Detected 627 ( 4.8%) users with no interactions.\n",
      "ItemKNNCFRecommender: URM Detected 247 ( 1.1%) items with no interactions.\n",
      "Similarity column 22347 (100.0%), 4732.06 column/sec. Elapsed time 4.72 sec\n",
      "EvaluatorHoldout: Processed 10456 (100.0%) in 17.33 sec. Users per second: 604\n"
     ]
    },
    {
     "name": "stderr",
     "output_type": "stream",
     "text": [
      "[I 2023-12-09 10:52:29,652] Trial 19 finished with value: 0.04041288285908648 and parameters: {'topK': 464, 'shrink': 427, 'similarity': 'tanimoto', 'feature_weighting': 'BM25'}. Best is trial 16 with value: 0.041439345981953625.\n"
     ]
    },
    {
     "name": "stdout",
     "output_type": "stream",
     "text": [
      "ItemKNNCFRecommender: URM Detected 627 ( 4.8%) users with no interactions.\n",
      "ItemKNNCFRecommender: URM Detected 247 ( 1.1%) items with no interactions.\n",
      "Similarity column 22347 (100.0%), 580.07 column/sec. Elapsed time 38.52 sec\n",
      "EvaluatorHoldout: Processed 10456 (100.0%) in 12.37 sec. Users per second: 845\n"
     ]
    },
    {
     "name": "stderr",
     "output_type": "stream",
     "text": [
      "[I 2023-12-09 10:53:20,976] Trial 20 finished with value: 0.010682166994571333 and parameters: {'topK': 258, 'shrink': 290, 'similarity': 'euclidean', 'feature_weighting': 'BM25', 'normalize_avg_row': False, 'similarity_from_distance_mode': 'log', 'normalize': True}. Best is trial 16 with value: 0.041439345981953625.\n"
     ]
    },
    {
     "name": "stdout",
     "output_type": "stream",
     "text": [
      "ItemKNNCFRecommender: URM Detected 627 ( 4.8%) users with no interactions.\n",
      "ItemKNNCFRecommender: URM Detected 247 ( 1.1%) items with no interactions.\n",
      "Similarity column 22347 (100.0%), 4772.39 column/sec. Elapsed time 4.68 sec\n",
      "EvaluatorHoldout: Processed 10456 (100.0%) in 17.18 sec. Users per second: 609\n"
     ]
    },
    {
     "name": "stderr",
     "output_type": "stream",
     "text": [
      "[I 2023-12-09 10:53:43,436] Trial 21 finished with value: 0.040194325275379694 and parameters: {'topK': 416, 'shrink': 498, 'similarity': 'jaccard', 'feature_weighting': 'BM25'}. Best is trial 16 with value: 0.041439345981953625.\n"
     ]
    },
    {
     "name": "stdout",
     "output_type": "stream",
     "text": [
      "ItemKNNCFRecommender: URM Detected 627 ( 4.8%) users with no interactions.\n",
      "ItemKNNCFRecommender: URM Detected 247 ( 1.1%) items with no interactions.\n",
      "Similarity column 22347 (100.0%), 4793.48 column/sec. Elapsed time 4.66 sec\n",
      "EvaluatorHoldout: Processed 10456 (100.0%) in 16.07 sec. Users per second: 650\n"
     ]
    },
    {
     "name": "stderr",
     "output_type": "stream",
     "text": [
      "[I 2023-12-09 10:54:04,687] Trial 22 finished with value: 0.041287545845933984 and parameters: {'topK': 294, 'shrink': 473, 'similarity': 'jaccard', 'feature_weighting': 'BM25'}. Best is trial 16 with value: 0.041439345981953625.\n"
     ]
    },
    {
     "name": "stdout",
     "output_type": "stream",
     "text": [
      "ItemKNNCFRecommender: URM Detected 627 ( 4.8%) users with no interactions.\n",
      "ItemKNNCFRecommender: URM Detected 247 ( 1.1%) items with no interactions.\n",
      "Similarity column 22347 (100.0%), 4779.18 column/sec. Elapsed time 4.68 sec\n",
      "EvaluatorHoldout: Processed 10456 (100.0%) in 15.83 sec. Users per second: 660\n"
     ]
    },
    {
     "name": "stderr",
     "output_type": "stream",
     "text": [
      "[I 2023-12-09 10:54:25,725] Trial 23 finished with value: 0.041429159683511706 and parameters: {'topK': 288, 'shrink': 380, 'similarity': 'jaccard', 'feature_weighting': 'BM25'}. Best is trial 16 with value: 0.041439345981953625.\n"
     ]
    },
    {
     "name": "stdout",
     "output_type": "stream",
     "text": [
      "ItemKNNCFRecommender: URM Detected 627 ( 4.8%) users with no interactions.\n",
      "ItemKNNCFRecommender: URM Detected 247 ( 1.1%) items with no interactions.\n",
      "Similarity column 22347 (100.0%), 4761.53 column/sec. Elapsed time 4.69 sec\n",
      "EvaluatorHoldout: Processed 10456 (100.0%) in 15.50 sec. Users per second: 675\n"
     ]
    },
    {
     "name": "stderr",
     "output_type": "stream",
     "text": [
      "[I 2023-12-09 10:54:46,409] Trial 24 finished with value: 0.04163148902126561 and parameters: {'topK': 257, 'shrink': 364, 'similarity': 'jaccard', 'feature_weighting': 'BM25'}. Best is trial 24 with value: 0.04163148902126561.\n"
     ]
    },
    {
     "name": "stdout",
     "output_type": "stream",
     "text": [
      "ItemKNNCFRecommender: URM Detected 627 ( 4.8%) users with no interactions.\n",
      "ItemKNNCFRecommender: URM Detected 247 ( 1.1%) items with no interactions.\n",
      "Similarity column 22347 (100.0%), 4917.52 column/sec. Elapsed time 4.54 sec\n",
      "EvaluatorHoldout: Processed 10456 (100.0%) in 12.67 sec. Users per second: 825\n"
     ]
    },
    {
     "name": "stderr",
     "output_type": "stream",
     "text": [
      "[I 2023-12-09 10:55:04,042] Trial 25 finished with value: 0.042445478255061876 and parameters: {'topK': 94, 'shrink': 360, 'similarity': 'jaccard', 'feature_weighting': 'BM25'}. Best is trial 25 with value: 0.042445478255061876.\n"
     ]
    },
    {
     "name": "stdout",
     "output_type": "stream",
     "text": [
      "ItemKNNCFRecommender: URM Detected 627 ( 4.8%) users with no interactions.\n",
      "ItemKNNCFRecommender: URM Detected 247 ( 1.1%) items with no interactions.\n",
      "Similarity column 22347 (100.0%), 4923.63 column/sec. Elapsed time 4.54 sec\n",
      "EvaluatorHoldout: Processed 10456 (100.0%) in 12.01 sec. Users per second: 871\n"
     ]
    },
    {
     "name": "stderr",
     "output_type": "stream",
     "text": [
      "[I 2023-12-09 10:55:20,979] Trial 26 finished with value: 0.04226567718390651 and parameters: {'topK': 69, 'shrink': 334, 'similarity': 'jaccard', 'feature_weighting': 'BM25'}. Best is trial 25 with value: 0.042445478255061876.\n"
     ]
    },
    {
     "name": "stdout",
     "output_type": "stream",
     "text": [
      "ItemKNNCFRecommender: URM Detected 627 ( 4.8%) users with no interactions.\n",
      "ItemKNNCFRecommender: URM Detected 247 ( 1.1%) items with no interactions.\n",
      "Similarity column 22347 (100.0%), 5013.42 column/sec. Elapsed time 4.46 sec\n",
      "EvaluatorHoldout: Processed 10456 (100.0%) in 12.71 sec. Users per second: 823\n"
     ]
    },
    {
     "name": "stderr",
     "output_type": "stream",
     "text": [
      "[I 2023-12-09 10:55:38,537] Trial 27 finished with value: 0.04243210399436546 and parameters: {'topK': 95, 'shrink': 334, 'similarity': 'jaccard', 'feature_weighting': 'BM25'}. Best is trial 25 with value: 0.042445478255061876.\n"
     ]
    },
    {
     "name": "stdout",
     "output_type": "stream",
     "text": [
      "ItemKNNCFRecommender: URM Detected 627 ( 4.8%) users with no interactions.\n",
      "ItemKNNCFRecommender: URM Detected 247 ( 1.1%) items with no interactions.\n",
      "Similarity column 22347 (100.0%), 4344.45 column/sec. Elapsed time 5.14 sec\n",
      "EvaluatorHoldout: Processed 10456 (100.0%) in 8.68 sec. Users per second: 1205\n"
     ]
    },
    {
     "name": "stderr",
     "output_type": "stream",
     "text": [
      "[I 2023-12-09 10:55:52,595] Trial 28 finished with value: 0.023614545760920976 and parameters: {'topK': 11, 'shrink': 319, 'similarity': 'cosine', 'feature_weighting': 'BM25'}. Best is trial 25 with value: 0.042445478255061876.\n"
     ]
    },
    {
     "name": "stdout",
     "output_type": "stream",
     "text": [
      "ItemKNNCFRecommender: URM Detected 627 ( 4.8%) users with no interactions.\n",
      "ItemKNNCFRecommender: URM Detected 247 ( 1.1%) items with no interactions.\n",
      "Similarity column 22347 (100.0%), 4998.80 column/sec. Elapsed time 4.47 sec\n",
      "EvaluatorHoldout: Processed 10456 (100.0%) in 12.65 sec. Users per second: 826\n"
     ]
    },
    {
     "name": "stderr",
     "output_type": "stream",
     "text": [
      "[I 2023-12-09 10:56:10,128] Trial 29 finished with value: 0.04099472771766249 and parameters: {'topK': 105, 'shrink': 278, 'similarity': 'dice', 'feature_weighting': 'BM25'}. Best is trial 25 with value: 0.042445478255061876.\n"
     ]
    },
    {
     "name": "stdout",
     "output_type": "stream",
     "text": [
      "ItemKNNCFRecommender: URM Detected 627 ( 4.8%) users with no interactions.\n",
      "ItemKNNCFRecommender: URM Detected 247 ( 1.1%) items with no interactions.\n",
      "Similarity column 22347 (100.0%), 4519.28 column/sec. Elapsed time 4.94 sec\n",
      "EvaluatorHoldout: Processed 10456 (100.0%) in 14.34 sec. Users per second: 729\n"
     ]
    },
    {
     "name": "stderr",
     "output_type": "stream",
     "text": [
      "[I 2023-12-09 10:56:29,851] Trial 30 finished with value: 0.03634763513923855 and parameters: {'topK': 109, 'shrink': 246, 'similarity': 'tversky', 'feature_weighting': 'TF-IDF', 'tversky_alpha': 0.9593087966516112, 'tversky_beta': 0.14768072019191614}. Best is trial 25 with value: 0.042445478255061876.\n"
     ]
    },
    {
     "name": "stdout",
     "output_type": "stream",
     "text": [
      "ItemKNNCFRecommender: URM Detected 627 ( 4.8%) users with no interactions.\n",
      "ItemKNNCFRecommender: URM Detected 247 ( 1.1%) items with no interactions.\n",
      "Similarity column 22347 (100.0%), 4938.86 column/sec. Elapsed time 4.52 sec\n",
      "EvaluatorHoldout: Processed 10456 (100.0%) in 12.72 sec. Users per second: 822\n"
     ]
    },
    {
     "name": "stderr",
     "output_type": "stream",
     "text": [
      "[I 2023-12-09 10:56:47,517] Trial 31 finished with value: 0.04233174390643834 and parameters: {'topK': 99, 'shrink': 348, 'similarity': 'jaccard', 'feature_weighting': 'BM25'}. Best is trial 25 with value: 0.042445478255061876.\n"
     ]
    },
    {
     "name": "stdout",
     "output_type": "stream",
     "text": [
      "ItemKNNCFRecommender: URM Detected 627 ( 4.8%) users with no interactions.\n",
      "ItemKNNCFRecommender: URM Detected 247 ( 1.1%) items with no interactions.\n",
      "Similarity column 22347 (100.0%), 4944.70 column/sec. Elapsed time 4.52 sec\n",
      "EvaluatorHoldout: Processed 10456 (100.0%) in 12.55 sec. Users per second: 833\n"
     ]
    },
    {
     "name": "stderr",
     "output_type": "stream",
     "text": [
      "[I 2023-12-09 10:57:04,983] Trial 32 finished with value: 0.04231494638151161 and parameters: {'topK': 92, 'shrink': 335, 'similarity': 'jaccard', 'feature_weighting': 'BM25'}. Best is trial 25 with value: 0.042445478255061876.\n"
     ]
    },
    {
     "name": "stdout",
     "output_type": "stream",
     "text": [
      "ItemKNNCFRecommender: URM Detected 627 ( 4.8%) users with no interactions.\n",
      "ItemKNNCFRecommender: URM Detected 247 ( 1.1%) items with no interactions.\n",
      "Similarity column 22347 (100.0%), 742.76 column/sec. Elapsed time 30.09 sec\n",
      "EvaluatorHoldout: Processed 10456 (100.0%) in 10.28 sec. Users per second: 1017\n"
     ]
    },
    {
     "name": "stderr",
     "output_type": "stream",
     "text": [
      "[I 2023-12-09 10:57:45,686] Trial 33 finished with value: 0.014606905278051023 and parameters: {'topK': 114, 'shrink': 293, 'similarity': 'euclidean', 'feature_weighting': 'BM25', 'normalize_avg_row': False, 'similarity_from_distance_mode': 'exp', 'normalize': True}. Best is trial 25 with value: 0.042445478255061876.\n"
     ]
    },
    {
     "name": "stdout",
     "output_type": "stream",
     "text": [
      "ItemKNNCFRecommender: URM Detected 627 ( 4.8%) users with no interactions.\n",
      "ItemKNNCFRecommender: URM Detected 247 ( 1.1%) items with no interactions.\n",
      "Similarity column 22347 (100.0%), 4831.69 column/sec. Elapsed time 4.63 sec\n",
      "EvaluatorHoldout: Processed 10456 (100.0%) in 13.95 sec. Users per second: 750\n"
     ]
    },
    {
     "name": "stderr",
     "output_type": "stream",
     "text": [
      "[I 2023-12-09 10:58:04,725] Trial 34 finished with value: 0.041114739315772635 and parameters: {'topK': 202, 'shrink': 236, 'similarity': 'jaccard', 'feature_weighting': 'BM25'}. Best is trial 25 with value: 0.042445478255061876.\n"
     ]
    },
    {
     "name": "stdout",
     "output_type": "stream",
     "text": [
      "ItemKNNCFRecommender: URM Detected 627 ( 4.8%) users with no interactions.\n",
      "ItemKNNCFRecommender: URM Detected 247 ( 1.1%) items with no interactions.\n",
      "Similarity column 22347 (100.0%), 4914.09 column/sec. Elapsed time 4.55 sec\n",
      "EvaluatorHoldout: Processed 10456 (100.0%) in 13.72 sec. Users per second: 762\n"
     ]
    },
    {
     "name": "stderr",
     "output_type": "stream",
     "text": [
      "[I 2023-12-09 10:58:23,425] Trial 35 finished with value: 0.03572427845787681 and parameters: {'topK': 148, 'shrink': 355, 'similarity': 'tanimoto', 'feature_weighting': 'TF-IDF'}. Best is trial 25 with value: 0.042445478255061876.\n"
     ]
    },
    {
     "name": "stdout",
     "output_type": "stream",
     "text": [
      "ItemKNNCFRecommender: URM Detected 627 ( 4.8%) users with no interactions.\n",
      "ItemKNNCFRecommender: URM Detected 247 ( 1.1%) items with no interactions.\n",
      "Similarity column 22347 (100.0%), 4896.49 column/sec. Elapsed time 4.56 sec\n",
      "EvaluatorHoldout: Processed 10456 (100.0%) in 14.99 sec. Users per second: 697\n"
     ]
    },
    {
     "name": "stderr",
     "output_type": "stream",
     "text": [
      "[I 2023-12-09 10:58:43,477] Trial 36 finished with value: 0.04116894985487229 and parameters: {'topK': 223, 'shrink': 391, 'similarity': 'dice', 'feature_weighting': 'BM25'}. Best is trial 25 with value: 0.042445478255061876.\n"
     ]
    },
    {
     "name": "stdout",
     "output_type": "stream",
     "text": [
      "ItemKNNCFRecommender: URM Detected 627 ( 4.8%) users with no interactions.\n",
      "ItemKNNCFRecommender: URM Detected 247 ( 1.1%) items with no interactions.\n",
      "Similarity column 22347 (100.0%), 4981.13 column/sec. Elapsed time 4.49 sec\n",
      "EvaluatorHoldout: Processed 10456 (100.0%) in 10.01 sec. Users per second: 1044\n"
     ]
    },
    {
     "name": "stderr",
     "output_type": "stream",
     "text": [
      "[I 2023-12-09 10:58:58,289] Trial 37 finished with value: 0.03745837811661304 and parameters: {'topK': 15, 'shrink': 340, 'similarity': 'jaccard', 'feature_weighting': 'none'}. Best is trial 25 with value: 0.042445478255061876.\n"
     ]
    },
    {
     "name": "stdout",
     "output_type": "stream",
     "text": [
      "ItemKNNCFRecommender: URM Detected 627 ( 4.8%) users with no interactions.\n",
      "ItemKNNCFRecommender: URM Detected 247 ( 1.1%) items with no interactions.\n",
      "Similarity column 22347 (100.0%), 868.42 column/sec. Elapsed time 25.73 sec\n",
      "EvaluatorHoldout: Processed 10456 (100.0%) in 7.93 sec. Users per second: 1319\n"
     ]
    },
    {
     "name": "stderr",
     "output_type": "stream",
     "text": [
      "[I 2023-12-09 10:59:32,271] Trial 38 finished with value: 0.020505504548159352 and parameters: {'topK': 111, 'shrink': 303, 'similarity': 'euclidean', 'feature_weighting': 'TF-IDF', 'normalize_avg_row': True, 'similarity_from_distance_mode': 'exp', 'normalize': False}. Best is trial 25 with value: 0.042445478255061876.\n"
     ]
    },
    {
     "name": "stdout",
     "output_type": "stream",
     "text": [
      "ItemKNNCFRecommender: URM Detected 627 ( 4.8%) users with no interactions.\n",
      "ItemKNNCFRecommender: URM Detected 247 ( 1.1%) items with no interactions.\n",
      "Similarity column 22347 (100.0%), 4206.57 column/sec. Elapsed time 5.31 sec\n",
      "EvaluatorHoldout: Processed 10456 (100.0%) in 18.94 sec. Users per second: 552\n"
     ]
    },
    {
     "name": "stderr",
     "output_type": "stream",
     "text": [
      "[I 2023-12-09 10:59:57,209] Trial 39 finished with value: 0.022320768207818753 and parameters: {'topK': 837, 'shrink': 266, 'similarity': 'asymmetric', 'feature_weighting': 'none', 'asymmetric_alpha': 0.09806606149546915}. Best is trial 25 with value: 0.042445478255061876.\n"
     ]
    },
    {
     "name": "stdout",
     "output_type": "stream",
     "text": [
      "ItemKNNCFRecommender: URM Detected 627 ( 4.8%) users with no interactions.\n",
      "ItemKNNCFRecommender: URM Detected 247 ( 1.1%) items with no interactions.\n",
      "Similarity column 22347 (100.0%), 4078.73 column/sec. Elapsed time 5.48 sec\n",
      "EvaluatorHoldout: Processed 10456 (100.0%) in 15.37 sec. Users per second: 680\n"
     ]
    },
    {
     "name": "stderr",
     "output_type": "stream",
     "text": [
      "[I 2023-12-09 11:00:18,632] Trial 40 finished with value: 0.020278711395295166 and parameters: {'topK': 557, 'shrink': 190, 'similarity': 'cosine', 'feature_weighting': 'BM25'}. Best is trial 25 with value: 0.042445478255061876.\n"
     ]
    },
    {
     "name": "stdout",
     "output_type": "stream",
     "text": [
      "ItemKNNCFRecommender: URM Detected 627 ( 4.8%) users with no interactions.\n",
      "ItemKNNCFRecommender: URM Detected 247 ( 1.1%) items with no interactions.\n",
      "Similarity column 22347 (100.0%), 4994.62 column/sec. Elapsed time 4.47 sec\n",
      "EvaluatorHoldout: Processed 10456 (100.0%) in 12.02 sec. Users per second: 870\n"
     ]
    },
    {
     "name": "stderr",
     "output_type": "stream",
     "text": [
      "[I 2023-12-09 11:00:35,517] Trial 41 finished with value: 0.04217417887200844 and parameters: {'topK': 73, 'shrink': 334, 'similarity': 'jaccard', 'feature_weighting': 'BM25'}. Best is trial 25 with value: 0.042445478255061876.\n"
     ]
    },
    {
     "name": "stdout",
     "output_type": "stream",
     "text": [
      "ItemKNNCFRecommender: URM Detected 627 ( 4.8%) users with no interactions.\n",
      "ItemKNNCFRecommender: URM Detected 247 ( 1.1%) items with no interactions.\n",
      "Similarity column 22347 (100.0%), 4962.88 column/sec. Elapsed time 4.50 sec\n",
      "EvaluatorHoldout: Processed 10456 (100.0%) in 13.54 sec. Users per second: 772\n"
     ]
    },
    {
     "name": "stderr",
     "output_type": "stream",
     "text": [
      "[I 2023-12-09 11:00:53,993] Trial 42 finished with value: 0.041805862966201986 and parameters: {'topK': 149, 'shrink': 348, 'similarity': 'jaccard', 'feature_weighting': 'BM25'}. Best is trial 25 with value: 0.042445478255061876.\n"
     ]
    },
    {
     "name": "stdout",
     "output_type": "stream",
     "text": [
      "ItemKNNCFRecommender: URM Detected 627 ( 4.8%) users with no interactions.\n",
      "ItemKNNCFRecommender: URM Detected 247 ( 1.1%) items with no interactions.\n",
      "Similarity column 22347 (100.0%), 4929.13 column/sec. Elapsed time 4.53 sec\n",
      "EvaluatorHoldout: Processed 10456 (100.0%) in 11.97 sec. Users per second: 874\n"
     ]
    },
    {
     "name": "stderr",
     "output_type": "stream",
     "text": [
      "[I 2023-12-09 11:01:10,883] Trial 43 finished with value: 0.04194362088752916 and parameters: {'topK': 71, 'shrink': 310, 'similarity': 'jaccard', 'feature_weighting': 'BM25'}. Best is trial 25 with value: 0.042445478255061876.\n"
     ]
    },
    {
     "name": "stdout",
     "output_type": "stream",
     "text": [
      "ItemKNNCFRecommender: URM Detected 627 ( 4.8%) users with no interactions.\n",
      "ItemKNNCFRecommender: URM Detected 247 ( 1.1%) items with no interactions.\n",
      "Similarity column 22347 (100.0%), 4933.09 column/sec. Elapsed time 4.53 sec\n",
      "EvaluatorHoldout: Processed 10456 (100.0%) in 15.11 sec. Users per second: 692\n"
     ]
    },
    {
     "name": "stderr",
     "output_type": "stream",
     "text": [
      "[I 2023-12-09 11:01:31,014] Trial 44 finished with value: 0.04158997340328676 and parameters: {'topK': 231, 'shrink': 436, 'similarity': 'jaccard', 'feature_weighting': 'BM25'}. Best is trial 25 with value: 0.042445478255061876.\n"
     ]
    },
    {
     "name": "stdout",
     "output_type": "stream",
     "text": [
      "ItemKNNCFRecommender: URM Detected 627 ( 4.8%) users with no interactions.\n",
      "ItemKNNCFRecommender: URM Detected 247 ( 1.1%) items with no interactions.\n",
      "Similarity column 22347 (100.0%), 4937.34 column/sec. Elapsed time 4.53 sec\n",
      "EvaluatorHoldout: Processed 10456 (100.0%) in 14.33 sec. Users per second: 730\n"
     ]
    },
    {
     "name": "stderr",
     "output_type": "stream",
     "text": [
      "[I 2023-12-09 11:01:50,296] Trial 45 finished with value: 0.034987650441457414 and parameters: {'topK': 181, 'shrink': 394, 'similarity': 'jaccard', 'feature_weighting': 'none'}. Best is trial 25 with value: 0.042445478255061876.\n"
     ]
    },
    {
     "name": "stdout",
     "output_type": "stream",
     "text": [
      "ItemKNNCFRecommender: URM Detected 627 ( 4.8%) users with no interactions.\n",
      "ItemKNNCFRecommender: URM Detected 247 ( 1.1%) items with no interactions.\n",
      "Similarity column 22347 (100.0%), 4192.34 column/sec. Elapsed time 5.33 sec\n",
      "EvaluatorHoldout: Processed 10456 (100.0%) in 18.09 sec. Users per second: 578\n"
     ]
    },
    {
     "name": "stderr",
     "output_type": "stream",
     "text": [
      "[I 2023-12-09 11:02:14,489] Trial 46 finished with value: 0.013851658043987778 and parameters: {'topK': 986, 'shrink': 225, 'similarity': 'asymmetric', 'feature_weighting': 'BM25', 'asymmetric_alpha': 1.9297467383549538}. Best is trial 25 with value: 0.042445478255061876.\n"
     ]
    },
    {
     "name": "stdout",
     "output_type": "stream",
     "text": [
      "ItemKNNCFRecommender: URM Detected 627 ( 4.8%) users with no interactions.\n",
      "ItemKNNCFRecommender: URM Detected 247 ( 1.1%) items with no interactions.\n",
      "Similarity column 22347 (100.0%), 4949.99 column/sec. Elapsed time 4.51 sec\n",
      "EvaluatorHoldout: Processed 10456 (100.0%) in 13.85 sec. Users per second: 755\n"
     ]
    },
    {
     "name": "stderr",
     "output_type": "stream",
     "text": [
      "[I 2023-12-09 11:02:33,286] Trial 47 finished with value: 0.035480642237767854 and parameters: {'topK': 153, 'shrink': 366, 'similarity': 'jaccard', 'feature_weighting': 'TF-IDF'}. Best is trial 25 with value: 0.042445478255061876.\n"
     ]
    },
    {
     "name": "stdout",
     "output_type": "stream",
     "text": [
      "ItemKNNCFRecommender: URM Detected 627 ( 4.8%) users with no interactions.\n",
      "ItemKNNCFRecommender: URM Detected 247 ( 1.1%) items with no interactions.\n",
      "Similarity column 22347 (100.0%), 4518.77 column/sec. Elapsed time 4.95 sec\n",
      "EvaluatorHoldout: Processed 10456 (100.0%) in 13.54 sec. Users per second: 772\n"
     ]
    },
    {
     "name": "stderr",
     "output_type": "stream",
     "text": [
      "[I 2023-12-09 11:02:52,194] Trial 48 finished with value: 0.03843973916396491 and parameters: {'topK': 62, 'shrink': 264, 'similarity': 'tversky', 'feature_weighting': 'BM25', 'tversky_alpha': 1.903657010453373, 'tversky_beta': 0.03951246206141845}. Best is trial 25 with value: 0.042445478255061876.\n"
     ]
    },
    {
     "name": "stdout",
     "output_type": "stream",
     "text": [
      "ItemKNNCFRecommender: URM Detected 627 ( 4.8%) users with no interactions.\n",
      "ItemKNNCFRecommender: URM Detected 247 ( 1.1%) items with no interactions.\n",
      "Similarity column 22347 (100.0%), 4927.52 column/sec. Elapsed time 4.54 sec\n",
      "EvaluatorHoldout: Processed 10456 (100.0%) in 13.56 sec. Users per second: 771\n"
     ]
    },
    {
     "name": "stderr",
     "output_type": "stream",
     "text": [
      "[I 2023-12-09 11:03:10,693] Trial 49 finished with value: 0.04296053530440534 and parameters: {'topK': 108, 'shrink': 454, 'similarity': 'jaccard', 'feature_weighting': 'BM25'}. Best is trial 49 with value: 0.04296053530440534.\n"
     ]
    },
    {
     "name": "stdout",
     "output_type": "stream",
     "text": [
      "ItemKNNCFRecommender: URM Detected 627 ( 4.8%) users with no interactions.\n",
      "ItemKNNCFRecommender: URM Detected 247 ( 1.1%) items with no interactions.\n",
      "Similarity column 22347 (100.0%), 4738.28 column/sec. Elapsed time 4.72 sec\n",
      "EvaluatorHoldout: Processed 10456 (100.0%) in 18.43 sec. Users per second: 567\n"
     ]
    },
    {
     "name": "stderr",
     "output_type": "stream",
     "text": [
      "[I 2023-12-09 11:03:34,568] Trial 50 finished with value: 0.039081771990867674 and parameters: {'topK': 666, 'shrink': 453, 'similarity': 'tanimoto', 'feature_weighting': 'BM25'}. Best is trial 49 with value: 0.04296053530440534.\n"
     ]
    },
    {
     "name": "stdout",
     "output_type": "stream",
     "text": [
      "ItemKNNCFRecommender: URM Detected 627 ( 4.8%) users with no interactions.\n",
      "ItemKNNCFRecommender: URM Detected 247 ( 1.1%) items with no interactions.\n",
      "Similarity column 22347 (100.0%), 4963.05 column/sec. Elapsed time 4.50 sec\n",
      "EvaluatorHoldout: Processed 10456 (100.0%) in 12.86 sec. Users per second: 813\n"
     ]
    },
    {
     "name": "stderr",
     "output_type": "stream",
     "text": [
      "[I 2023-12-09 11:03:52,327] Trial 51 finished with value: 0.042890643027168086 and parameters: {'topK': 93, 'shrink': 407, 'similarity': 'jaccard', 'feature_weighting': 'BM25'}. Best is trial 49 with value: 0.04296053530440534.\n"
     ]
    },
    {
     "name": "stdout",
     "output_type": "stream",
     "text": [
      "ItemKNNCFRecommender: URM Detected 627 ( 4.8%) users with no interactions.\n",
      "ItemKNNCFRecommender: URM Detected 247 ( 1.1%) items with no interactions.\n",
      "Similarity column 22347 (100.0%), 4866.17 column/sec. Elapsed time 4.59 sec\n",
      "EvaluatorHoldout: Processed 10456 (100.0%) in 13.52 sec. Users per second: 773\n"
     ]
    },
    {
     "name": "stderr",
     "output_type": "stream",
     "text": [
      "[I 2023-12-09 11:04:10,865] Trial 52 finished with value: 0.0425533528254458 and parameters: {'topK': 126, 'shrink': 405, 'similarity': 'jaccard', 'feature_weighting': 'BM25'}. Best is trial 49 with value: 0.04296053530440534.\n"
     ]
    },
    {
     "name": "stdout",
     "output_type": "stream",
     "text": [
      "ItemKNNCFRecommender: URM Detected 627 ( 4.8%) users with no interactions.\n",
      "ItemKNNCFRecommender: URM Detected 247 ( 1.1%) items with no interactions.\n",
      "Similarity column 22347 (100.0%), 4938.40 column/sec. Elapsed time 4.53 sec\n",
      "EvaluatorHoldout: Processed 10456 (100.0%) in 14.09 sec. Users per second: 742\n"
     ]
    },
    {
     "name": "stderr",
     "output_type": "stream",
     "text": [
      "[I 2023-12-09 11:04:29,914] Trial 53 finished with value: 0.042698484807083215 and parameters: {'topK': 136, 'shrink': 465, 'similarity': 'jaccard', 'feature_weighting': 'BM25'}. Best is trial 49 with value: 0.04296053530440534.\n"
     ]
    },
    {
     "name": "stdout",
     "output_type": "stream",
     "text": [
      "ItemKNNCFRecommender: URM Detected 627 ( 4.8%) users with no interactions.\n",
      "ItemKNNCFRecommender: URM Detected 247 ( 1.1%) items with no interactions.\n",
      "Similarity column 22347 (100.0%), 4904.09 column/sec. Elapsed time 4.56 sec\n",
      "EvaluatorHoldout: Processed 10456 (100.0%) in 13.95 sec. Users per second: 749\n"
     ]
    },
    {
     "name": "stderr",
     "output_type": "stream",
     "text": [
      "[I 2023-12-09 11:04:48,866] Trial 54 finished with value: 0.04243500731713289 and parameters: {'topK': 144, 'shrink': 412, 'similarity': 'jaccard', 'feature_weighting': 'BM25'}. Best is trial 49 with value: 0.04296053530440534.\n"
     ]
    },
    {
     "name": "stdout",
     "output_type": "stream",
     "text": [
      "ItemKNNCFRecommender: URM Detected 627 ( 4.8%) users with no interactions.\n",
      "ItemKNNCFRecommender: URM Detected 247 ( 1.1%) items with no interactions.\n",
      "Similarity column 22347 (100.0%), 4880.02 column/sec. Elapsed time 4.58 sec\n",
      "EvaluatorHoldout: Processed 10456 (100.0%) in 14.94 sec. Users per second: 700\n"
     ]
    },
    {
     "name": "stderr",
     "output_type": "stream",
     "text": [
      "[I 2023-12-09 11:05:08,860] Trial 55 finished with value: 0.04219570141241956 and parameters: {'topK': 199, 'shrink': 467, 'similarity': 'jaccard', 'feature_weighting': 'BM25'}. Best is trial 49 with value: 0.04296053530440534.\n"
     ]
    },
    {
     "name": "stdout",
     "output_type": "stream",
     "text": [
      "ItemKNNCFRecommender: URM Detected 627 ( 4.8%) users with no interactions.\n",
      "ItemKNNCFRecommender: URM Detected 247 ( 1.1%) items with no interactions.\n",
      "Similarity column 22347 (100.0%), 5049.14 column/sec. Elapsed time 4.43 sec\n",
      "EvaluatorHoldout: Processed 10456 (100.0%) in 13.79 sec. Users per second: 758\n"
     ]
    },
    {
     "name": "stderr",
     "output_type": "stream",
     "text": [
      "[I 2023-12-09 11:05:27,481] Trial 56 finished with value: 0.035107601316477055 and parameters: {'topK': 139, 'shrink': 409, 'similarity': 'dice', 'feature_weighting': 'none'}. Best is trial 49 with value: 0.04296053530440534.\n"
     ]
    },
    {
     "name": "stdout",
     "output_type": "stream",
     "text": [
      "ItemKNNCFRecommender: URM Detected 627 ( 4.8%) users with no interactions.\n",
      "ItemKNNCFRecommender: URM Detected 247 ( 1.1%) items with no interactions.\n",
      "Similarity column 22347 (100.0%), 4765.90 column/sec. Elapsed time 4.69 sec\n",
      "EvaluatorHoldout: Processed 10456 (100.0%) in 15.37 sec. Users per second: 680\n"
     ]
    },
    {
     "name": "stderr",
     "output_type": "stream",
     "text": [
      "[I 2023-12-09 11:05:48,048] Trial 57 finished with value: 0.04132990020160117 and parameters: {'topK': 250, 'shrink': 442, 'similarity': 'jaccard', 'feature_weighting': 'BM25'}. Best is trial 49 with value: 0.04296053530440534.\n"
     ]
    },
    {
     "name": "stdout",
     "output_type": "stream",
     "text": [
      "ItemKNNCFRecommender: URM Detected 627 ( 4.8%) users with no interactions.\n",
      "ItemKNNCFRecommender: URM Detected 247 ( 1.1%) items with no interactions.\n",
      "Similarity column 22347 (100.0%), 5051.46 column/sec. Elapsed time 4.42 sec\n",
      "EvaluatorHoldout: Processed 10456 (100.0%) in 11.25 sec. Users per second: 930\n"
     ]
    },
    {
     "name": "stderr",
     "output_type": "stream",
     "text": [
      "[I 2023-12-09 11:06:04,068] Trial 58 finished with value: 0.04323487463718009 and parameters: {'topK': 33, 'shrink': 415, 'similarity': 'jaccard', 'feature_weighting': 'BM25'}. Best is trial 58 with value: 0.04323487463718009.\n"
     ]
    },
    {
     "name": "stdout",
     "output_type": "stream",
     "text": [
      "ItemKNNCFRecommender: URM Detected 627 ( 4.8%) users with no interactions.\n",
      "ItemKNNCFRecommender: URM Detected 247 ( 1.1%) items with no interactions.\n",
      "Similarity column 22347 (100.0%), 5021.23 column/sec. Elapsed time 4.45 sec\n",
      "EvaluatorHoldout: Processed 10456 (100.0%) in 11.26 sec. Users per second: 928\n"
     ]
    },
    {
     "name": "stderr",
     "output_type": "stream",
     "text": [
      "[I 2023-12-09 11:06:20,136] Trial 59 finished with value: 0.043733149342369514 and parameters: {'topK': 31, 'shrink': 478, 'similarity': 'jaccard', 'feature_weighting': 'BM25'}. Best is trial 59 with value: 0.043733149342369514.\n"
     ]
    },
    {
     "name": "stdout",
     "output_type": "stream",
     "text": [
      "ItemKNNCFRecommender: URM Detected 627 ( 4.8%) users with no interactions.\n",
      "ItemKNNCFRecommender: URM Detected 247 ( 1.1%) items with no interactions.\n",
      "Similarity column 22347 (100.0%), 4338.27 column/sec. Elapsed time 5.15 sec\n",
      "EvaluatorHoldout: Processed 10456 (100.0%) in 9.00 sec. Users per second: 1162\n"
     ]
    },
    {
     "name": "stderr",
     "output_type": "stream",
     "text": [
      "[I 2023-12-09 11:06:34,524] Trial 60 finished with value: 0.023202922905964225 and parameters: {'topK': 23, 'shrink': 482, 'similarity': 'cosine', 'feature_weighting': 'BM25'}. Best is trial 59 with value: 0.043733149342369514.\n"
     ]
    },
    {
     "name": "stdout",
     "output_type": "stream",
     "text": [
      "ItemKNNCFRecommender: URM Detected 627 ( 4.8%) users with no interactions.\n",
      "ItemKNNCFRecommender: URM Detected 247 ( 1.1%) items with no interactions.\n",
      "Similarity column 22347 (100.0%), 5034.24 column/sec. Elapsed time 4.44 sec\n",
      "EvaluatorHoldout: Processed 10456 (100.0%) in 11.22 sec. Users per second: 932\n"
     ]
    },
    {
     "name": "stderr",
     "output_type": "stream",
     "text": [
      "[I 2023-12-09 11:06:50,525] Trial 61 finished with value: 0.043301362626152834 and parameters: {'topK': 33, 'shrink': 430, 'similarity': 'jaccard', 'feature_weighting': 'BM25'}. Best is trial 59 with value: 0.043733149342369514.\n"
     ]
    },
    {
     "name": "stdout",
     "output_type": "stream",
     "text": [
      "ItemKNNCFRecommender: URM Detected 627 ( 4.8%) users with no interactions.\n",
      "ItemKNNCFRecommender: URM Detected 247 ( 1.1%) items with no interactions.\n",
      "Similarity column 22347 (100.0%), 5052.61 column/sec. Elapsed time 4.42 sec\n",
      "EvaluatorHoldout: Processed 10456 (100.0%) in 12.06 sec. Users per second: 867\n"
     ]
    },
    {
     "name": "stderr",
     "output_type": "stream",
     "text": [
      "[I 2023-12-09 11:07:07,382] Trial 62 finished with value: 0.04311514388336367 and parameters: {'topK': 52, 'shrink': 451, 'similarity': 'jaccard', 'feature_weighting': 'BM25'}. Best is trial 59 with value: 0.043733149342369514.\n"
     ]
    },
    {
     "name": "stdout",
     "output_type": "stream",
     "text": [
      "ItemKNNCFRecommender: URM Detected 627 ( 4.8%) users with no interactions.\n",
      "ItemKNNCFRecommender: URM Detected 247 ( 1.1%) items with no interactions.\n",
      "Similarity column 22347 (100.0%), 5087.41 column/sec. Elapsed time 4.39 sec\n",
      "EvaluatorHoldout: Processed 10456 (100.0%) in 11.66 sec. Users per second: 897\n"
     ]
    },
    {
     "name": "stderr",
     "output_type": "stream",
     "text": [
      "[I 2023-12-09 11:07:23,795] Trial 63 finished with value: 0.04310361408654302 and parameters: {'topK': 45, 'shrink': 429, 'similarity': 'jaccard', 'feature_weighting': 'BM25'}. Best is trial 59 with value: 0.043733149342369514.\n"
     ]
    },
    {
     "name": "stdout",
     "output_type": "stream",
     "text": [
      "ItemKNNCFRecommender: URM Detected 627 ( 4.8%) users with no interactions.\n",
      "ItemKNNCFRecommender: URM Detected 247 ( 1.1%) items with no interactions.\n",
      "Similarity column 22347 (100.0%), 5033.79 column/sec. Elapsed time 4.44 sec\n",
      "EvaluatorHoldout: Processed 10456 (100.0%) in 11.88 sec. Users per second: 880\n"
     ]
    },
    {
     "name": "stderr",
     "output_type": "stream",
     "text": [
      "[I 2023-12-09 11:07:40,470] Trial 64 finished with value: 0.04298318501718523 and parameters: {'topK': 47, 'shrink': 424, 'similarity': 'jaccard', 'feature_weighting': 'BM25'}. Best is trial 59 with value: 0.043733149342369514.\n"
     ]
    },
    {
     "name": "stdout",
     "output_type": "stream",
     "text": [
      "ItemKNNCFRecommender: URM Detected 627 ( 4.8%) users with no interactions.\n",
      "ItemKNNCFRecommender: URM Detected 247 ( 1.1%) items with no interactions.\n",
      "Similarity column 22347 (100.0%), 4535.91 column/sec. Elapsed time 4.93 sec\n",
      "EvaluatorHoldout: Processed 10456 (100.0%) in 8.75 sec. Users per second: 1195\n"
     ]
    },
    {
     "name": "stderr",
     "output_type": "stream",
     "text": [
      "[I 2023-12-09 11:07:54,407] Trial 65 finished with value: 0.024073786904458248 and parameters: {'topK': 19, 'shrink': 431, 'similarity': 'asymmetric', 'feature_weighting': 'BM25', 'asymmetric_alpha': 0.055655067274248626}. Best is trial 59 with value: 0.043733149342369514.\n"
     ]
    },
    {
     "name": "stdout",
     "output_type": "stream",
     "text": [
      "ItemKNNCFRecommender: URM Detected 627 ( 4.8%) users with no interactions.\n",
      "ItemKNNCFRecommender: URM Detected 247 ( 1.1%) items with no interactions.\n",
      "Similarity column 22347 (100.0%), 4991.74 column/sec. Elapsed time 4.48 sec\n",
      "EvaluatorHoldout: Processed 10456 (100.0%) in 11.73 sec. Users per second: 892\n"
     ]
    },
    {
     "name": "stderr",
     "output_type": "stream",
     "text": [
      "[I 2023-12-09 11:08:10,978] Trial 66 finished with value: 0.043414060887043596 and parameters: {'topK': 40, 'shrink': 449, 'similarity': 'jaccard', 'feature_weighting': 'BM25'}. Best is trial 59 with value: 0.043733149342369514.\n"
     ]
    },
    {
     "name": "stdout",
     "output_type": "stream",
     "text": [
      "ItemKNNCFRecommender: URM Detected 627 ( 4.8%) users with no interactions.\n",
      "ItemKNNCFRecommender: URM Detected 247 ( 1.1%) items with no interactions.\n",
      "Similarity column 22347 (100.0%), 980.03 column/sec. Elapsed time 22.80 sec\n",
      "EvaluatorHoldout: Processed 10456 (100.0%) in 9.39 sec. Users per second: 1113\n"
     ]
    },
    {
     "name": "stderr",
     "output_type": "stream",
     "text": [
      "[I 2023-12-09 11:08:43,472] Trial 67 finished with value: 0.0269611432943493 and parameters: {'topK': 42, 'shrink': 483, 'similarity': 'euclidean', 'feature_weighting': 'TF-IDF', 'normalize_avg_row': False, 'similarity_from_distance_mode': 'lin', 'normalize': True}. Best is trial 59 with value: 0.043733149342369514.\n"
     ]
    },
    {
     "name": "stdout",
     "output_type": "stream",
     "text": [
      "ItemKNNCFRecommender: URM Detected 627 ( 4.8%) users with no interactions.\n",
      "ItemKNNCFRecommender: URM Detected 247 ( 1.1%) items with no interactions.\n",
      "Similarity column 22347 (100.0%), 4594.58 column/sec. Elapsed time 4.86 sec\n",
      "EvaluatorHoldout: Processed 10456 (100.0%) in 10.31 sec. Users per second: 1014\n"
     ]
    },
    {
     "name": "stderr",
     "output_type": "stream",
     "text": [
      "[I 2023-12-09 11:08:59,026] Trial 68 finished with value: 0.04496086396813298 and parameters: {'topK': 32, 'shrink': 425, 'similarity': 'tversky', 'feature_weighting': 'BM25', 'tversky_alpha': 0.06599916949372164, 'tversky_beta': 1.9678809622773614}. Best is trial 68 with value: 0.04496086396813298.\n"
     ]
    },
    {
     "name": "stdout",
     "output_type": "stream",
     "text": [
      "ItemKNNCFRecommender: URM Detected 627 ( 4.8%) users with no interactions.\n",
      "ItemKNNCFRecommender: URM Detected 247 ( 1.1%) items with no interactions.\n",
      "Similarity column 22347 (100.0%), 4601.87 column/sec. Elapsed time 4.86 sec\n",
      "EvaluatorHoldout: Processed 10456 (100.0%) in 9.57 sec. Users per second: 1093\n"
     ]
    },
    {
     "name": "stderr",
     "output_type": "stream",
     "text": [
      "[I 2023-12-09 11:09:13,858] Trial 69 finished with value: 0.040196321546981925 and parameters: {'topK': 42, 'shrink': 62, 'similarity': 'tversky', 'feature_weighting': 'BM25', 'tversky_alpha': 0.09668352506258415, 'tversky_beta': 1.9767119727377647}. Best is trial 68 with value: 0.04496086396813298.\n"
     ]
    },
    {
     "name": "stdout",
     "output_type": "stream",
     "text": [
      "ItemKNNCFRecommender: URM Detected 627 ( 4.8%) users with no interactions.\n",
      "ItemKNNCFRecommender: URM Detected 247 ( 1.1%) items with no interactions.\n",
      "Similarity column 22347 (100.0%), 4601.91 column/sec. Elapsed time 4.86 sec\n",
      "EvaluatorHoldout: Processed 10456 (100.0%) in 9.82 sec. Users per second: 1065\n"
     ]
    },
    {
     "name": "stderr",
     "output_type": "stream",
     "text": [
      "[I 2023-12-09 11:09:28,915] Trial 70 finished with value: 0.04551017643094022 and parameters: {'topK': 14, 'shrink': 450, 'similarity': 'tversky', 'feature_weighting': 'BM25', 'tversky_alpha': 0.6167716807688037, 'tversky_beta': 1.4235813967923732}. Best is trial 70 with value: 0.04551017643094022.\n"
     ]
    },
    {
     "name": "stdout",
     "output_type": "stream",
     "text": [
      "ItemKNNCFRecommender: URM Detected 627 ( 4.8%) users with no interactions.\n",
      "ItemKNNCFRecommender: URM Detected 247 ( 1.1%) items with no interactions.\n",
      "Similarity column 22347 (100.0%), 4605.41 column/sec. Elapsed time 4.85 sec\n",
      "EvaluatorHoldout: Processed 10456 (100.0%) in 11.71 sec. Users per second: 893\n"
     ]
    },
    {
     "name": "stderr",
     "output_type": "stream",
     "text": [
      "[I 2023-12-09 11:09:45,895] Trial 71 finished with value: 0.043870941420435114 and parameters: {'topK': 63, 'shrink': 449, 'similarity': 'tversky', 'feature_weighting': 'BM25', 'tversky_alpha': 0.5475735576555097, 'tversky_beta': 1.489731818663786}. Best is trial 70 with value: 0.04551017643094022.\n"
     ]
    },
    {
     "name": "stdout",
     "output_type": "stream",
     "text": [
      "ItemKNNCFRecommender: URM Detected 627 ( 4.8%) users with no interactions.\n",
      "ItemKNNCFRecommender: URM Detected 247 ( 1.1%) items with no interactions.\n",
      "Similarity column 22347 (100.0%), 4577.50 column/sec. Elapsed time 4.88 sec\n",
      "EvaluatorHoldout: Processed 10456 (100.0%) in 9.79 sec. Users per second: 1068\n"
     ]
    },
    {
     "name": "stderr",
     "output_type": "stream",
     "text": [
      "[I 2023-12-09 11:10:00,956] Trial 72 finished with value: 0.04571825928152496 and parameters: {'topK': 13, 'shrink': 446, 'similarity': 'tversky', 'feature_weighting': 'BM25', 'tversky_alpha': 0.5470367009644647, 'tversky_beta': 1.5204119881599032}. Best is trial 72 with value: 0.04571825928152496.\n"
     ]
    },
    {
     "name": "stdout",
     "output_type": "stream",
     "text": [
      "ItemKNNCFRecommender: URM Detected 627 ( 4.8%) users with no interactions.\n",
      "ItemKNNCFRecommender: URM Detected 247 ( 1.1%) items with no interactions.\n",
      "Similarity column 22347 (100.0%), 4630.05 column/sec. Elapsed time 4.83 sec\n",
      "EvaluatorHoldout: Processed 10456 (100.0%) in 9.98 sec. Users per second: 1047\n"
     ]
    },
    {
     "name": "stderr",
     "output_type": "stream",
     "text": [
      "[I 2023-12-09 11:10:16,160] Trial 73 finished with value: 0.04564170264509853 and parameters: {'topK': 15, 'shrink': 486, 'similarity': 'tversky', 'feature_weighting': 'BM25', 'tversky_alpha': 0.5413900998971622, 'tversky_beta': 1.4651376406742622}. Best is trial 72 with value: 0.04571825928152496.\n"
     ]
    },
    {
     "name": "stdout",
     "output_type": "stream",
     "text": [
      "ItemKNNCFRecommender: URM Detected 627 ( 4.8%) users with no interactions.\n",
      "ItemKNNCFRecommender: URM Detected 247 ( 1.1%) items with no interactions.\n",
      "Similarity column 22347 (100.0%), 4614.66 column/sec. Elapsed time 4.84 sec\n",
      "EvaluatorHoldout: Processed 10456 (100.0%) in 9.57 sec. Users per second: 1092\n"
     ]
    },
    {
     "name": "stderr",
     "output_type": "stream",
     "text": [
      "[I 2023-12-09 11:10:30,960] Trial 74 finished with value: 0.04628549264643436 and parameters: {'topK': 10, 'shrink': 495, 'similarity': 'tversky', 'feature_weighting': 'BM25', 'tversky_alpha': 0.5488402077904831, 'tversky_beta': 1.4422422275102473}. Best is trial 74 with value: 0.04628549264643436.\n"
     ]
    },
    {
     "name": "stdout",
     "output_type": "stream",
     "text": [
      "ItemKNNCFRecommender: URM Detected 627 ( 4.8%) users with no interactions.\n",
      "ItemKNNCFRecommender: URM Detected 247 ( 1.1%) items with no interactions.\n",
      "Similarity column 22347 (100.0%), 4608.86 column/sec. Elapsed time 4.85 sec\n",
      "EvaluatorHoldout: Processed 10456 (100.0%) in 12.28 sec. Users per second: 852\n"
     ]
    },
    {
     "name": "stderr",
     "output_type": "stream",
     "text": [
      "[I 2023-12-09 11:10:48,522] Trial 75 finished with value: 0.04324570611845915 and parameters: {'topK': 81, 'shrink': 486, 'similarity': 'tversky', 'feature_weighting': 'BM25', 'tversky_alpha': 0.5422314902241622, 'tversky_beta': 1.4919603623025082}. Best is trial 74 with value: 0.04628549264643436.\n"
     ]
    },
    {
     "name": "stdout",
     "output_type": "stream",
     "text": [
      "ItemKNNCFRecommender: URM Detected 627 ( 4.8%) users with no interactions.\n",
      "ItemKNNCFRecommender: URM Detected 247 ( 1.1%) items with no interactions.\n",
      "Similarity column 22347 (100.0%), 4661.93 column/sec. Elapsed time 4.79 sec\n",
      "EvaluatorHoldout: Processed 10456 (100.0%) in 9.99 sec. Users per second: 1047\n"
     ]
    },
    {
     "name": "stderr",
     "output_type": "stream",
     "text": [
      "[I 2023-12-09 11:11:03,694] Trial 76 finished with value: 0.04563579732454135 and parameters: {'topK': 14, 'shrink': 499, 'similarity': 'tversky', 'feature_weighting': 'BM25', 'tversky_alpha': 0.5504099423142814, 'tversky_beta': 1.416812917919937}. Best is trial 74 with value: 0.04628549264643436.\n"
     ]
    },
    {
     "name": "stdout",
     "output_type": "stream",
     "text": [
      "ItemKNNCFRecommender: URM Detected 627 ( 4.8%) users with no interactions.\n",
      "ItemKNNCFRecommender: URM Detected 247 ( 1.1%) items with no interactions.\n",
      "Similarity column 22347 (100.0%), 4555.33 column/sec. Elapsed time 4.91 sec\n",
      "EvaluatorHoldout: Processed 10456 (100.0%) in 10.01 sec. Users per second: 1044\n"
     ]
    },
    {
     "name": "stderr",
     "output_type": "stream",
     "text": [
      "[I 2023-12-09 11:11:18,975] Trial 77 finished with value: 0.036710151989896044 and parameters: {'topK': 16, 'shrink': 500, 'similarity': 'tversky', 'feature_weighting': 'none', 'tversky_alpha': 0.5393254817735798, 'tversky_beta': 1.4455633352132353}. Best is trial 74 with value: 0.04628549264643436.\n"
     ]
    },
    {
     "name": "stdout",
     "output_type": "stream",
     "text": [
      "ItemKNNCFRecommender: URM Detected 627 ( 4.8%) users with no interactions.\n",
      "ItemKNNCFRecommender: URM Detected 247 ( 1.1%) items with no interactions.\n",
      "Similarity column 22347 (100.0%), 4635.44 column/sec. Elapsed time 4.82 sec\n",
      "EvaluatorHoldout: Processed 10456 (100.0%) in 9.61 sec. Users per second: 1088\n"
     ]
    },
    {
     "name": "stderr",
     "output_type": "stream",
     "text": [
      "[I 2023-12-09 11:11:33,794] Trial 78 finished with value: 0.04632226047776987 and parameters: {'topK': 10, 'shrink': 469, 'similarity': 'tversky', 'feature_weighting': 'BM25', 'tversky_alpha': 0.5392881967953681, 'tversky_beta': 1.5084445277689686}. Best is trial 78 with value: 0.04632226047776987.\n"
     ]
    },
    {
     "name": "stdout",
     "output_type": "stream",
     "text": [
      "ItemKNNCFRecommender: URM Detected 627 ( 4.8%) users with no interactions.\n",
      "ItemKNNCFRecommender: URM Detected 247 ( 1.1%) items with no interactions.\n",
      "Similarity column 22347 (100.0%), 4541.49 column/sec. Elapsed time 4.92 sec\n",
      "EvaluatorHoldout: Processed 10456 (100.0%) in 12.01 sec. Users per second: 871\n"
     ]
    },
    {
     "name": "stderr",
     "output_type": "stream",
     "text": [
      "[I 2023-12-09 11:11:51,159] Trial 79 finished with value: 0.04352006063200648 and parameters: {'topK': 72, 'shrink': 469, 'similarity': 'tversky', 'feature_weighting': 'BM25', 'tversky_alpha': 0.5588071612616814, 'tversky_beta': 1.4515497157261383}. Best is trial 78 with value: 0.04632226047776987.\n"
     ]
    },
    {
     "name": "stdout",
     "output_type": "stream",
     "text": [
      "ItemKNNCFRecommender: URM Detected 627 ( 4.8%) users with no interactions.\n",
      "ItemKNNCFRecommender: URM Detected 247 ( 1.1%) items with no interactions.\n",
      "Similarity column 22347 (100.0%), 4623.53 column/sec. Elapsed time 4.83 sec\n",
      "EvaluatorHoldout: Processed 10456 (100.0%) in 9.74 sec. Users per second: 1073\n"
     ]
    },
    {
     "name": "stderr",
     "output_type": "stream",
     "text": [
      "[I 2023-12-09 11:12:06,119] Trial 80 finished with value: 0.045957720789157955 and parameters: {'topK': 12, 'shrink': 491, 'similarity': 'tversky', 'feature_weighting': 'BM25', 'tversky_alpha': 0.5248953128626779, 'tversky_beta': 1.476141338258852}. Best is trial 78 with value: 0.04632226047776987.\n"
     ]
    },
    {
     "name": "stdout",
     "output_type": "stream",
     "text": [
      "ItemKNNCFRecommender: URM Detected 627 ( 4.8%) users with no interactions.\n",
      "ItemKNNCFRecommender: URM Detected 247 ( 1.1%) items with no interactions.\n",
      "Similarity column 22347 (100.0%), 4614.19 column/sec. Elapsed time 4.84 sec\n",
      "EvaluatorHoldout: Processed 10456 (100.0%) in 9.90 sec. Users per second: 1056\n"
     ]
    },
    {
     "name": "stderr",
     "output_type": "stream",
     "text": [
      "[I 2023-12-09 11:12:21,253] Trial 81 finished with value: 0.04570064579006891 and parameters: {'topK': 15, 'shrink': 491, 'similarity': 'tversky', 'feature_weighting': 'BM25', 'tversky_alpha': 0.5303830304736604, 'tversky_beta': 1.4773642870640062}. Best is trial 78 with value: 0.04632226047776987.\n"
     ]
    },
    {
     "name": "stdout",
     "output_type": "stream",
     "text": [
      "ItemKNNCFRecommender: URM Detected 627 ( 4.8%) users with no interactions.\n",
      "ItemKNNCFRecommender: URM Detected 247 ( 1.1%) items with no interactions.\n",
      "Similarity column 22347 (100.0%), 4620.99 column/sec. Elapsed time 4.84 sec\n",
      "EvaluatorHoldout: Processed 10456 (100.0%) in 9.63 sec. Users per second: 1085\n"
     ]
    },
    {
     "name": "stderr",
     "output_type": "stream",
     "text": [
      "[I 2023-12-09 11:12:36,101] Trial 82 finished with value: 0.04645695947340995 and parameters: {'topK': 10, 'shrink': 489, 'similarity': 'tversky', 'feature_weighting': 'BM25', 'tversky_alpha': 0.523882079489258, 'tversky_beta': 1.4619364911532038}. Best is trial 82 with value: 0.04645695947340995.\n"
     ]
    },
    {
     "name": "stdout",
     "output_type": "stream",
     "text": [
      "ItemKNNCFRecommender: URM Detected 627 ( 4.8%) users with no interactions.\n",
      "ItemKNNCFRecommender: URM Detected 247 ( 1.1%) items with no interactions.\n",
      "Similarity column 22347 (100.0%), 4611.58 column/sec. Elapsed time 4.85 sec\n",
      "EvaluatorHoldout: Processed 10456 (100.0%) in 9.61 sec. Users per second: 1088\n"
     ]
    },
    {
     "name": "stderr",
     "output_type": "stream",
     "text": [
      "[I 2023-12-09 11:12:50,930] Trial 83 finished with value: 0.04643941809062374 and parameters: {'topK': 10, 'shrink': 492, 'similarity': 'tversky', 'feature_weighting': 'BM25', 'tversky_alpha': 0.5283031758348263, 'tversky_beta': 1.467678024785217}. Best is trial 82 with value: 0.04645695947340995.\n"
     ]
    },
    {
     "name": "stdout",
     "output_type": "stream",
     "text": [
      "ItemKNNCFRecommender: URM Detected 627 ( 4.8%) users with no interactions.\n",
      "ItemKNNCFRecommender: URM Detected 247 ( 1.1%) items with no interactions.\n",
      "Similarity column 22347 (100.0%), 4643.20 column/sec. Elapsed time 4.81 sec\n",
      "EvaluatorHoldout: Processed 10456 (100.0%) in 9.84 sec. Users per second: 1063\n"
     ]
    },
    {
     "name": "stderr",
     "output_type": "stream",
     "text": [
      "[I 2023-12-09 11:13:05,964] Trial 84 finished with value: 0.045893206300628514 and parameters: {'topK': 13, 'shrink': 491, 'similarity': 'tversky', 'feature_weighting': 'BM25', 'tversky_alpha': 0.5221430822370347, 'tversky_beta': 1.4768297260626995}. Best is trial 82 with value: 0.04645695947340995.\n"
     ]
    },
    {
     "name": "stdout",
     "output_type": "stream",
     "text": [
      "ItemKNNCFRecommender: URM Detected 627 ( 4.8%) users with no interactions.\n",
      "ItemKNNCFRecommender: URM Detected 247 ( 1.1%) items with no interactions.\n",
      "Similarity column 22347 (100.0%), 4391.45 column/sec. Elapsed time 5.09 sec\n",
      "EvaluatorHoldout: Processed 10456 (100.0%) in 17.05 sec. Users per second: 613\n"
     ]
    },
    {
     "name": "stderr",
     "output_type": "stream",
     "text": [
      "[I 2023-12-09 11:13:28,760] Trial 85 finished with value: 0.027627632345976 and parameters: {'topK': 450, 'shrink': 487, 'similarity': 'tversky', 'feature_weighting': 'TF-IDF', 'tversky_alpha': 0.41269303603301744, 'tversky_beta': 1.5279573087094316}. Best is trial 82 with value: 0.04645695947340995.\n"
     ]
    },
    {
     "name": "stdout",
     "output_type": "stream",
     "text": [
      "ItemKNNCFRecommender: URM Detected 627 ( 4.8%) users with no interactions.\n",
      "ItemKNNCFRecommender: URM Detected 247 ( 1.1%) items with no interactions.\n",
      "Similarity column 22347 (100.0%), 4319.82 column/sec. Elapsed time 5.17 sec\n",
      "EvaluatorHoldout: Processed 10456 (100.0%) in 18.94 sec. Users per second: 552\n"
     ]
    },
    {
     "name": "stderr",
     "output_type": "stream",
     "text": [
      "[I 2023-12-09 11:13:53,724] Trial 86 finished with value: 0.03331625496411306 and parameters: {'topK': 838, 'shrink': 465, 'similarity': 'tversky', 'feature_weighting': 'BM25', 'tversky_alpha': 0.41381487760052993, 'tversky_beta': 1.5516330573251693}. Best is trial 82 with value: 0.04645695947340995.\n"
     ]
    },
    {
     "name": "stdout",
     "output_type": "stream",
     "text": [
      "ItemKNNCFRecommender: URM Detected 627 ( 4.8%) users with no interactions.\n",
      "ItemKNNCFRecommender: URM Detected 247 ( 1.1%) items with no interactions.\n",
      "Similarity column 22347 (100.0%), 4544.73 column/sec. Elapsed time 4.92 sec\n",
      "EvaluatorHoldout: Processed 10456 (100.0%) in 12.12 sec. Users per second: 862\n"
     ]
    },
    {
     "name": "stderr",
     "output_type": "stream",
     "text": [
      "[I 2023-12-09 11:14:11,199] Trial 87 finished with value: 0.04328113804180233 and parameters: {'topK': 83, 'shrink': 488, 'similarity': 'tversky', 'feature_weighting': 'BM25', 'tversky_alpha': 0.6793232910314292, 'tversky_beta': 1.627036628434976}. Best is trial 82 with value: 0.04645695947340995.\n"
     ]
    },
    {
     "name": "stdout",
     "output_type": "stream",
     "text": [
      "ItemKNNCFRecommender: URM Detected 627 ( 4.8%) users with no interactions.\n",
      "ItemKNNCFRecommender: URM Detected 247 ( 1.1%) items with no interactions.\n",
      "Similarity column 22347 (100.0%), 4483.51 column/sec. Elapsed time 4.98 sec\n",
      "EvaluatorHoldout: Processed 10456 (100.0%) in 14.06 sec. Users per second: 744\n"
     ]
    },
    {
     "name": "stderr",
     "output_type": "stream",
     "text": [
      "[I 2023-12-09 11:14:30,757] Trial 88 finished with value: 0.041051556940042554 and parameters: {'topK': 169, 'shrink': 469, 'similarity': 'tversky', 'feature_weighting': 'BM25', 'tversky_alpha': 0.3817271915543579, 'tversky_beta': 1.2834223276928947}. Best is trial 82 with value: 0.04645695947340995.\n"
     ]
    },
    {
     "name": "stdout",
     "output_type": "stream",
     "text": [
      "ItemKNNCFRecommender: URM Detected 627 ( 4.8%) users with no interactions.\n",
      "ItemKNNCFRecommender: URM Detected 247 ( 1.1%) items with no interactions.\n",
      "Similarity column 22347 (100.0%), 4621.68 column/sec. Elapsed time 4.84 sec\n",
      "EvaluatorHoldout: Processed 10456 (100.0%) in 9.57 sec. Users per second: 1092\n"
     ]
    },
    {
     "name": "stderr",
     "output_type": "stream",
     "text": [
      "[I 2023-12-09 11:14:45,558] Trial 89 finished with value: 0.04586286373131303 and parameters: {'topK': 10, 'shrink': 492, 'similarity': 'tversky', 'feature_weighting': 'BM25', 'tversky_alpha': 0.7381802548865501, 'tversky_beta': 1.6702301175213683}. Best is trial 82 with value: 0.04645695947340995.\n"
     ]
    },
    {
     "name": "stdout",
     "output_type": "stream",
     "text": [
      "ItemKNNCFRecommender: URM Detected 627 ( 4.8%) users with no interactions.\n",
      "ItemKNNCFRecommender: URM Detected 247 ( 1.1%) items with no interactions.\n",
      "Similarity column 22347 (100.0%), 4554.07 column/sec. Elapsed time 4.91 sec\n",
      "EvaluatorHoldout: Processed 10456 (100.0%) in 11.83 sec. Users per second: 884\n"
     ]
    },
    {
     "name": "stderr",
     "output_type": "stream",
     "text": [
      "[I 2023-12-09 11:15:02,732] Trial 90 finished with value: 0.04356950440849693 and parameters: {'topK': 64, 'shrink': 476, 'similarity': 'tversky', 'feature_weighting': 'BM25', 'tversky_alpha': 0.7493289328824846, 'tversky_beta': 1.675732341843111}. Best is trial 82 with value: 0.04645695947340995.\n"
     ]
    },
    {
     "name": "stdout",
     "output_type": "stream",
     "text": [
      "ItemKNNCFRecommender: URM Detected 627 ( 4.8%) users with no interactions.\n",
      "ItemKNNCFRecommender: URM Detected 247 ( 1.1%) items with no interactions.\n",
      "Similarity column 22347 (100.0%), 4575.09 column/sec. Elapsed time 4.88 sec\n",
      "EvaluatorHoldout: Processed 10456 (100.0%) in 12.52 sec. Users per second: 835\n"
     ]
    },
    {
     "name": "stderr",
     "output_type": "stream",
     "text": [
      "[I 2023-12-09 11:15:20,580] Trial 91 finished with value: 0.04338710742521999 and parameters: {'topK': 84, 'shrink': 491, 'similarity': 'tversky', 'feature_weighting': 'BM25', 'tversky_alpha': 0.4224369522501108, 'tversky_beta': 1.2982605408059205}. Best is trial 82 with value: 0.04645695947340995.\n"
     ]
    },
    {
     "name": "stdout",
     "output_type": "stream",
     "text": [
      "ItemKNNCFRecommender: URM Detected 627 ( 4.8%) users with no interactions.\n",
      "ItemKNNCFRecommender: URM Detected 247 ( 1.1%) items with no interactions.\n",
      "Similarity column 22347 (100.0%), 4637.19 column/sec. Elapsed time 4.82 sec\n",
      "EvaluatorHoldout: Processed 10456 (100.0%) in 9.70 sec. Users per second: 1078\n"
     ]
    },
    {
     "name": "stderr",
     "output_type": "stream",
     "text": [
      "[I 2023-12-09 11:15:35,500] Trial 92 finished with value: 0.045761714243208754 and parameters: {'topK': 12, 'shrink': 498, 'similarity': 'tversky', 'feature_weighting': 'BM25', 'tversky_alpha': 0.708320090430669, 'tversky_beta': 1.6655386285502802}. Best is trial 82 with value: 0.04645695947340995.\n"
     ]
    },
    {
     "name": "stdout",
     "output_type": "stream",
     "text": [
      "ItemKNNCFRecommender: URM Detected 627 ( 4.8%) users with no interactions.\n",
      "ItemKNNCFRecommender: URM Detected 247 ( 1.1%) items with no interactions.\n",
      "Similarity column 22347 (100.0%), 4471.74 column/sec. Elapsed time 5.00 sec\n",
      "EvaluatorHoldout: Processed 10456 (100.0%) in 12.72 sec. Users per second: 822\n"
     ]
    },
    {
     "name": "stderr",
     "output_type": "stream",
     "text": [
      "[I 2023-12-09 11:15:53,711] Trial 93 finished with value: 0.04276076772203449 and parameters: {'topK': 118, 'shrink': 463, 'similarity': 'tversky', 'feature_weighting': 'BM25', 'tversky_alpha': 0.6749072098860078, 'tversky_beta': 1.6814805931873407}. Best is trial 82 with value: 0.04645695947340995.\n"
     ]
    },
    {
     "name": "stdout",
     "output_type": "stream",
     "text": [
      "ItemKNNCFRecommender: URM Detected 627 ( 4.8%) users with no interactions.\n",
      "ItemKNNCFRecommender: URM Detected 247 ( 1.1%) items with no interactions.\n",
      "Similarity column 22347 (100.0%), 4459.88 column/sec. Elapsed time 5.01 sec\n",
      "EvaluatorHoldout: Processed 10456 (100.0%) in 9.86 sec. Users per second: 1061\n"
     ]
    },
    {
     "name": "stderr",
     "output_type": "stream",
     "text": [
      "[I 2023-12-09 11:16:08,987] Trial 94 finished with value: 0.04585388809948929 and parameters: {'topK': 10, 'shrink': 499, 'similarity': 'tversky', 'feature_weighting': 'BM25', 'tversky_alpha': 0.7496006019719456, 'tversky_beta': 1.659795855034732}. Best is trial 82 with value: 0.04645695947340995.\n"
     ]
    },
    {
     "name": "stdout",
     "output_type": "stream",
     "text": [
      "ItemKNNCFRecommender: URM Detected 627 ( 4.8%) users with no interactions.\n",
      "ItemKNNCFRecommender: URM Detected 247 ( 1.1%) items with no interactions.\n",
      "Similarity column 22347 (100.0%), 4538.81 column/sec. Elapsed time 4.92 sec\n",
      "EvaluatorHoldout: Processed 10456 (100.0%) in 11.57 sec. Users per second: 904\n"
     ]
    },
    {
     "name": "stderr",
     "output_type": "stream",
     "text": [
      "[I 2023-12-09 11:16:25,908] Trial 95 finished with value: 0.04352818234536914 and parameters: {'topK': 58, 'shrink': 475, 'similarity': 'tversky', 'feature_weighting': 'BM25', 'tversky_alpha': 0.7915780746244115, 'tversky_beta': 1.6912112615300525}. Best is trial 82 with value: 0.04645695947340995.\n"
     ]
    },
    {
     "name": "stdout",
     "output_type": "stream",
     "text": [
      "ItemKNNCFRecommender: URM Detected 627 ( 4.8%) users with no interactions.\n",
      "ItemKNNCFRecommender: URM Detected 247 ( 1.1%) items with no interactions.\n",
      "Similarity column 22347 (100.0%), 4446.64 column/sec. Elapsed time 5.03 sec\n",
      "EvaluatorHoldout: Processed 10456 (100.0%) in 12.49 sec. Users per second: 837\n"
     ]
    },
    {
     "name": "stderr",
     "output_type": "stream",
     "text": [
      "[I 2023-12-09 11:16:43,844] Trial 96 finished with value: 0.03483972140246096 and parameters: {'topK': 95, 'shrink': 500, 'similarity': 'tversky', 'feature_weighting': 'none', 'tversky_alpha': 0.7982331092930617, 'tversky_beta': 1.6664001408048954}. Best is trial 82 with value: 0.04645695947340995.\n"
     ]
    },
    {
     "name": "stdout",
     "output_type": "stream",
     "text": [
      "ItemKNNCFRecommender: URM Detected 627 ( 4.8%) users with no interactions.\n",
      "ItemKNNCFRecommender: URM Detected 247 ( 1.1%) items with no interactions.\n",
      "Similarity column 22347 (100.0%), 4530.96 column/sec. Elapsed time 4.93 sec\n",
      "EvaluatorHoldout: Processed 10456 (100.0%) in 11.42 sec. Users per second: 915\n"
     ]
    },
    {
     "name": "stderr",
     "output_type": "stream",
     "text": [
      "[I 2023-12-09 11:17:00,626] Trial 97 finished with value: 0.04361803733862896 and parameters: {'topK': 57, 'shrink': 460, 'similarity': 'tversky', 'feature_weighting': 'BM25', 'tversky_alpha': 0.7069035980458722, 'tversky_beta': 1.7581608780589422}. Best is trial 82 with value: 0.04645695947340995.\n"
     ]
    },
    {
     "name": "stdout",
     "output_type": "stream",
     "text": [
      "ItemKNNCFRecommender: URM Detected 627 ( 4.8%) users with no interactions.\n",
      "ItemKNNCFRecommender: URM Detected 247 ( 1.1%) items with no interactions.\n",
      "Similarity column 22347 (100.0%), 4543.67 column/sec. Elapsed time 4.92 sec\n",
      "EvaluatorHoldout: Processed 10456 (100.0%) in 11.61 sec. Users per second: 900\n"
     ]
    },
    {
     "name": "stderr",
     "output_type": "stream",
     "text": [
      "[I 2023-12-09 11:17:17,620] Trial 98 finished with value: 0.04051046486562013 and parameters: {'topK': 125, 'shrink': 142, 'similarity': 'tversky', 'feature_weighting': 'BM25', 'tversky_alpha': 0.7007850268431226, 'tversky_beta': 1.3233431128211812}. Best is trial 82 with value: 0.04645695947340995.\n"
     ]
    },
    {
     "name": "stdout",
     "output_type": "stream",
     "text": [
      "ItemKNNCFRecommender: URM Detected 627 ( 4.8%) users with no interactions.\n",
      "ItemKNNCFRecommender: URM Detected 247 ( 1.1%) items with no interactions.\n",
      "Similarity column 22347 (100.0%), 4569.93 column/sec. Elapsed time 4.89 sec\n",
      "EvaluatorHoldout: Processed 10456 (100.0%) in 11.80 sec. Users per second: 886\n"
     ]
    },
    {
     "name": "stderr",
     "output_type": "stream",
     "text": [
      "[I 2023-12-09 11:17:34,739] Trial 99 finished with value: 0.0435991145055325 and parameters: {'topK': 71, 'shrink': 441, 'similarity': 'tversky', 'feature_weighting': 'BM25', 'tversky_alpha': 0.376835184063426, 'tversky_beta': 1.5866783785367593}. Best is trial 82 with value: 0.04645695947340995.\n"
     ]
    },
    {
     "name": "stdout",
     "output_type": "stream",
     "text": [
      "ItemKNNCFRecommender: URM Detected 627 ( 4.8%) users with no interactions.\n",
      "ItemKNNCFRecommender: URM Detected 247 ( 1.1%) items with no interactions.\n",
      "Similarity column 22347 (100.0%), 4576.33 column/sec. Elapsed time 4.88 sec\n",
      "EvaluatorHoldout: Processed 10456 (100.0%) in 10.88 sec. Users per second: 961\n"
     ]
    },
    {
     "name": "stderr",
     "output_type": "stream",
     "text": [
      "[I 2023-12-09 11:17:50,921] Trial 100 finished with value: 0.037086046896443306 and parameters: {'topK': 41, 'shrink': 459, 'similarity': 'tversky', 'feature_weighting': 'TF-IDF', 'tversky_alpha': 0.8355079447761813, 'tversky_beta': 1.7887440275690658}. Best is trial 82 with value: 0.04645695947340995.\n"
     ]
    },
    {
     "name": "stdout",
     "output_type": "stream",
     "text": [
      "ItemKNNCFRecommender: URM Detected 627 ( 4.8%) users with no interactions.\n",
      "ItemKNNCFRecommender: URM Detected 247 ( 1.1%) items with no interactions.\n",
      "Similarity column 22347 (100.0%), 4644.16 column/sec. Elapsed time 4.81 sec\n",
      "EvaluatorHoldout: Processed 10456 (100.0%) in 10.27 sec. Users per second: 1018\n"
     ]
    },
    {
     "name": "stderr",
     "output_type": "stream",
     "text": [
      "[I 2023-12-09 11:18:06,389] Trial 101 finished with value: 0.04529912194411105 and parameters: {'topK': 22, 'shrink': 492, 'similarity': 'tversky', 'feature_weighting': 'BM25', 'tversky_alpha': 0.4879554424554066, 'tversky_beta': 1.583057074468805}. Best is trial 82 with value: 0.04645695947340995.\n"
     ]
    },
    {
     "name": "stdout",
     "output_type": "stream",
     "text": [
      "ItemKNNCFRecommender: URM Detected 627 ( 4.8%) users with no interactions.\n",
      "ItemKNNCFRecommender: URM Detected 247 ( 1.1%) items with no interactions.\n",
      "Similarity column 22347 (100.0%), 4650.25 column/sec. Elapsed time 4.81 sec\n",
      "EvaluatorHoldout: Processed 10456 (100.0%) in 9.73 sec. Users per second: 1075\n"
     ]
    },
    {
     "name": "stderr",
     "output_type": "stream",
     "text": [
      "[I 2023-12-09 11:18:21,309] Trial 102 finished with value: 0.04599361572606659 and parameters: {'topK': 11, 'shrink': 475, 'similarity': 'tversky', 'feature_weighting': 'BM25', 'tversky_alpha': 0.6177672073785689, 'tversky_beta': 1.3577125732770363}. Best is trial 82 with value: 0.04645695947340995.\n"
     ]
    },
    {
     "name": "stdout",
     "output_type": "stream",
     "text": [
      "ItemKNNCFRecommender: URM Detected 627 ( 4.8%) users with no interactions.\n",
      "ItemKNNCFRecommender: URM Detected 247 ( 1.1%) items with no interactions.\n",
      "Similarity column 22347 (100.0%), 4578.05 column/sec. Elapsed time 4.88 sec\n",
      "EvaluatorHoldout: Processed 10456 (100.0%) in 12.00 sec. Users per second: 872\n"
     ]
    },
    {
     "name": "stderr",
     "output_type": "stream",
     "text": [
      "[I 2023-12-09 11:18:38,608] Trial 103 finished with value: 0.04378834663169083 and parameters: {'topK': 59, 'shrink': 480, 'similarity': 'tversky', 'feature_weighting': 'BM25', 'tversky_alpha': 0.6375400010662395, 'tversky_beta': 1.2981658045552806}. Best is trial 82 with value: 0.04645695947340995.\n"
     ]
    },
    {
     "name": "stdout",
     "output_type": "stream",
     "text": [
      "ItemKNNCFRecommender: URM Detected 627 ( 4.8%) users with no interactions.\n",
      "ItemKNNCFRecommender: URM Detected 247 ( 1.1%) items with no interactions.\n",
      "Similarity column 22347 (100.0%), 5002.42 column/sec. Elapsed time 4.47 sec\n",
      "EvaluatorHoldout: Processed 10456 (100.0%) in 13.19 sec. Users per second: 793\n"
     ]
    },
    {
     "name": "stderr",
     "output_type": "stream",
     "text": [
      "[I 2023-12-09 11:18:56,674] Trial 104 finished with value: 0.04315405599883465 and parameters: {'topK': 102, 'shrink': 474, 'similarity': 'tanimoto', 'feature_weighting': 'BM25'}. Best is trial 82 with value: 0.04645695947340995.\n"
     ]
    },
    {
     "name": "stdout",
     "output_type": "stream",
     "text": [
      "ItemKNNCFRecommender: URM Detected 627 ( 4.8%) users with no interactions.\n",
      "ItemKNNCFRecommender: URM Detected 247 ( 1.1%) items with no interactions.\n",
      "Similarity column 22347 (100.0%), 4602.75 column/sec. Elapsed time 4.86 sec\n",
      "EvaluatorHoldout: Processed 10456 (100.0%) in 9.67 sec. Users per second: 1081\n"
     ]
    },
    {
     "name": "stderr",
     "output_type": "stream",
     "text": [
      "[I 2023-12-09 11:19:11,599] Trial 105 finished with value: 0.04611641299595638 and parameters: {'topK': 10, 'shrink': 499, 'similarity': 'tversky', 'feature_weighting': 'BM25', 'tversky_alpha': 0.6389765368709938, 'tversky_beta': 1.5786365158127411}. Best is trial 82 with value: 0.04645695947340995.\n"
     ]
    },
    {
     "name": "stdout",
     "output_type": "stream",
     "text": [
      "ItemKNNCFRecommender: URM Detected 627 ( 4.8%) users with no interactions.\n",
      "ItemKNNCFRecommender: URM Detected 247 ( 1.1%) items with no interactions.\n",
      "Similarity column 22347 (100.0%), 4543.58 column/sec. Elapsed time 4.92 sec\n",
      "EvaluatorHoldout: Processed 10456 (100.0%) in 12.24 sec. Users per second: 854\n"
     ]
    },
    {
     "name": "stderr",
     "output_type": "stream",
     "text": [
      "[I 2023-12-09 11:19:29,208] Trial 106 finished with value: 0.04331285826623481 and parameters: {'topK': 81, 'shrink': 500, 'similarity': 'tversky', 'feature_weighting': 'BM25', 'tversky_alpha': 0.9170021930985597, 'tversky_beta': 1.6058641524343888}. Best is trial 82 with value: 0.04645695947340995.\n"
     ]
    },
    {
     "name": "stdout",
     "output_type": "stream",
     "text": [
      "ItemKNNCFRecommender: URM Detected 627 ( 4.8%) users with no interactions.\n",
      "ItemKNNCFRecommender: URM Detected 247 ( 1.1%) items with no interactions.\n",
      "Similarity column 22347 (100.0%), 5069.56 column/sec. Elapsed time 4.41 sec\n",
      "EvaluatorHoldout: Processed 10456 (100.0%) in 11.86 sec. Users per second: 882\n"
     ]
    },
    {
     "name": "stderr",
     "output_type": "stream",
     "text": [
      "[I 2023-12-09 11:19:45,860] Trial 107 finished with value: 0.0427004772834925 and parameters: {'topK': 43, 'shrink': 478, 'similarity': 'dice', 'feature_weighting': 'BM25'}. Best is trial 82 with value: 0.04645695947340995.\n"
     ]
    },
    {
     "name": "stdout",
     "output_type": "stream",
     "text": [
      "ItemKNNCFRecommender: URM Detected 627 ( 4.8%) users with no interactions.\n",
      "ItemKNNCFRecommender: URM Detected 247 ( 1.1%) items with no interactions.\n",
      "Similarity column 22347 (100.0%), 4583.58 column/sec. Elapsed time 4.88 sec\n",
      "EvaluatorHoldout: Processed 10456 (100.0%) in 10.99 sec. Users per second: 951\n"
     ]
    },
    {
     "name": "stderr",
     "output_type": "stream",
     "text": [
      "[I 2023-12-09 11:20:02,126] Trial 108 finished with value: 0.04383563853365946 and parameters: {'topK': 35, 'shrink': 458, 'similarity': 'tversky', 'feature_weighting': 'BM25', 'tversky_alpha': 0.6475431971466905, 'tversky_beta': 1.3396359573256986}. Best is trial 82 with value: 0.04645695947340995.\n"
     ]
    },
    {
     "name": "stdout",
     "output_type": "stream",
     "text": [
      "ItemKNNCFRecommender: URM Detected 627 ( 4.8%) users with no interactions.\n",
      "ItemKNNCFRecommender: URM Detected 247 ( 1.1%) items with no interactions.\n",
      "Similarity column 22347 (100.0%), 4313.03 column/sec. Elapsed time 5.18 sec\n",
      "EvaluatorHoldout: Processed 10456 (100.0%) in 17.36 sec. Users per second: 602\n"
     ]
    },
    {
     "name": "stderr",
     "output_type": "stream",
     "text": [
      "[I 2023-12-09 11:20:25,381] Trial 109 finished with value: 0.040004800919348035 and parameters: {'topK': 537, 'shrink': 492, 'similarity': 'tversky', 'feature_weighting': 'BM25', 'tversky_alpha': 1.1134210393799213, 'tversky_beta': 1.799947604925356}. Best is trial 82 with value: 0.04645695947340995.\n"
     ]
    },
    {
     "name": "stdout",
     "output_type": "stream",
     "text": [
      "ItemKNNCFRecommender: URM Detected 627 ( 4.8%) users with no interactions.\n",
      "ItemKNNCFRecommender: URM Detected 247 ( 1.1%) items with no interactions.\n",
      "Similarity column 22347 (100.0%), 4073.36 column/sec. Elapsed time 5.49 sec\n",
      "EvaluatorHoldout: Processed 10456 (100.0%) in 16.22 sec. Users per second: 644\n"
     ]
    },
    {
     "name": "stderr",
     "output_type": "stream",
     "text": [
      "[I 2023-12-09 11:20:47,743] Trial 110 finished with value: 0.02113529408192757 and parameters: {'topK': 646, 'shrink': 470, 'similarity': 'cosine', 'feature_weighting': 'BM25'}. Best is trial 82 with value: 0.04645695947340995.\n"
     ]
    },
    {
     "name": "stdout",
     "output_type": "stream",
     "text": [
      "ItemKNNCFRecommender: URM Detected 627 ( 4.8%) users with no interactions.\n",
      "ItemKNNCFRecommender: URM Detected 247 ( 1.1%) items with no interactions.\n",
      "Similarity column 22347 (100.0%), 4625.77 column/sec. Elapsed time 4.83 sec\n",
      "EvaluatorHoldout: Processed 10456 (100.0%) in 9.89 sec. Users per second: 1057\n"
     ]
    },
    {
     "name": "stderr",
     "output_type": "stream",
     "text": [
      "[I 2023-12-09 11:21:02,861] Trial 111 finished with value: 0.04532321762548492 and parameters: {'topK': 15, 'shrink': 442, 'similarity': 'tversky', 'feature_weighting': 'BM25', 'tversky_alpha': 0.6249439883380048, 'tversky_beta': 1.5543617610211247}. Best is trial 82 with value: 0.04645695947340995.\n"
     ]
    },
    {
     "name": "stdout",
     "output_type": "stream",
     "text": [
      "ItemKNNCFRecommender: URM Detected 627 ( 4.8%) users with no interactions.\n",
      "ItemKNNCFRecommender: URM Detected 247 ( 1.1%) items with no interactions.\n",
      "Similarity column 22347 (100.0%), 4595.09 column/sec. Elapsed time 4.86 sec\n",
      "EvaluatorHoldout: Processed 10456 (100.0%) in 10.88 sec. Users per second: 961\n"
     ]
    },
    {
     "name": "stderr",
     "output_type": "stream",
     "text": [
      "[I 2023-12-09 11:21:19,004] Trial 112 finished with value: 0.04459452915315649 and parameters: {'topK': 32, 'shrink': 482, 'similarity': 'tversky', 'feature_weighting': 'BM25', 'tversky_alpha': 0.47132243144522884, 'tversky_beta': 1.3995410503370287}. Best is trial 82 with value: 0.04645695947340995.\n"
     ]
    },
    {
     "name": "stdout",
     "output_type": "stream",
     "text": [
      "ItemKNNCFRecommender: URM Detected 627 ( 4.8%) users with no interactions.\n",
      "ItemKNNCFRecommender: URM Detected 247 ( 1.1%) items with no interactions.\n",
      "Similarity column 22347 (100.0%), 4456.05 column/sec. Elapsed time 5.01 sec\n",
      "EvaluatorHoldout: Processed 10456 (100.0%) in 16.15 sec. Users per second: 647\n"
     ]
    },
    {
     "name": "stderr",
     "output_type": "stream",
     "text": [
      "[I 2023-12-09 11:21:40,786] Trial 113 finished with value: 0.039281687585771774 and parameters: {'topK': 357, 'shrink': 472, 'similarity': 'tversky', 'feature_weighting': 'BM25', 'tversky_alpha': 0.6177872157010063, 'tversky_beta': 1.5404156024284483}. Best is trial 82 with value: 0.04645695947340995.\n"
     ]
    },
    {
     "name": "stdout",
     "output_type": "stream",
     "text": [
      "ItemKNNCFRecommender: URM Detected 627 ( 4.8%) users with no interactions.\n",
      "ItemKNNCFRecommender: URM Detected 247 ( 1.1%) items with no interactions.\n",
      "Similarity column 22347 (100.0%), 4594.79 column/sec. Elapsed time 4.86 sec\n",
      "EvaluatorHoldout: Processed 10456 (100.0%) in 9.73 sec. Users per second: 1075\n"
     ]
    },
    {
     "name": "stderr",
     "output_type": "stream",
     "text": [
      "[I 2023-12-09 11:21:55,773] Trial 114 finished with value: 0.04601519519437529 and parameters: {'topK': 10, 'shrink': 500, 'similarity': 'tversky', 'feature_weighting': 'BM25', 'tversky_alpha': 0.6113747136951935, 'tversky_beta': 1.2136449365527255}. Best is trial 82 with value: 0.04645695947340995.\n"
     ]
    },
    {
     "name": "stdout",
     "output_type": "stream",
     "text": [
      "ItemKNNCFRecommender: URM Detected 627 ( 4.8%) users with no interactions.\n",
      "ItemKNNCFRecommender: URM Detected 247 ( 1.1%) items with no interactions.\n",
      "Similarity column 22347 (100.0%), 1261.57 column/sec. Elapsed time 17.71 sec\n",
      "EvaluatorHoldout: Processed 10456 (100.0%) in 7.78 sec. Users per second: 1343\n"
     ]
    },
    {
     "name": "stderr",
     "output_type": "stream",
     "text": [
      "[I 2023-12-09 11:22:21,571] Trial 115 finished with value: 0.015444026214158095 and parameters: {'topK': 58, 'shrink': 500, 'similarity': 'euclidean', 'feature_weighting': 'BM25', 'normalize_avg_row': True, 'similarity_from_distance_mode': 'log', 'normalize': False}. Best is trial 82 with value: 0.04645695947340995.\n"
     ]
    },
    {
     "name": "stdout",
     "output_type": "stream",
     "text": [
      "ItemKNNCFRecommender: URM Detected 627 ( 4.8%) users with no interactions.\n",
      "ItemKNNCFRecommender: URM Detected 247 ( 1.1%) items with no interactions.\n",
      "Similarity column 22347 (100.0%), 4642.78 column/sec. Elapsed time 4.81 sec\n",
      "EvaluatorHoldout: Processed 10456 (100.0%) in 9.78 sec. Users per second: 1069\n"
     ]
    },
    {
     "name": "stderr",
     "output_type": "stream",
     "text": [
      "[I 2023-12-09 11:22:36,553] Trial 116 finished with value: 0.0457780980920811 and parameters: {'topK': 10, 'shrink': 488, 'similarity': 'tversky', 'feature_weighting': 'BM25', 'tversky_alpha': 0.7004151130080324, 'tversky_beta': 1.1771806544472134}. Best is trial 82 with value: 0.04645695947340995.\n"
     ]
    },
    {
     "name": "stdout",
     "output_type": "stream",
     "text": [
      "ItemKNNCFRecommender: URM Detected 627 ( 4.8%) users with no interactions.\n",
      "ItemKNNCFRecommender: URM Detected 247 ( 1.1%) items with no interactions.\n",
      "Similarity column 22347 (100.0%), 4519.28 column/sec. Elapsed time 4.94 sec\n",
      "EvaluatorHoldout: Processed 10456 (100.0%) in 15.11 sec. Users per second: 692\n"
     ]
    },
    {
     "name": "stderr",
     "output_type": "stream",
     "text": [
      "[I 2023-12-09 11:22:56,872] Trial 117 finished with value: 0.03157588564627617 and parameters: {'topK': 45, 'shrink': 484, 'similarity': 'asymmetric', 'feature_weighting': 'none', 'asymmetric_alpha': 1.4831727715774596}. Best is trial 82 with value: 0.04645695947340995.\n"
     ]
    },
    {
     "name": "stdout",
     "output_type": "stream",
     "text": [
      "ItemKNNCFRecommender: URM Detected 627 ( 4.8%) users with no interactions.\n",
      "ItemKNNCFRecommender: URM Detected 247 ( 1.1%) items with no interactions.\n",
      "Similarity column 22347 (100.0%), 4568.23 column/sec. Elapsed time 4.89 sec\n",
      "EvaluatorHoldout: Processed 10456 (100.0%) in 12.72 sec. Users per second: 822\n"
     ]
    },
    {
     "name": "stderr",
     "output_type": "stream",
     "text": [
      "[I 2023-12-09 11:23:14,925] Trial 118 finished with value: 0.043226286115058625 and parameters: {'topK': 93, 'shrink': 460, 'similarity': 'tversky', 'feature_weighting': 'BM25', 'tversky_alpha': 0.6149924247906372, 'tversky_beta': 1.183696518241087}. Best is trial 82 with value: 0.04645695947340995.\n"
     ]
    },
    {
     "name": "stdout",
     "output_type": "stream",
     "text": [
      "ItemKNNCFRecommender: URM Detected 627 ( 4.8%) users with no interactions.\n",
      "ItemKNNCFRecommender: URM Detected 247 ( 1.1%) items with no interactions.\n",
      "Similarity column 22347 (100.0%), 4476.13 column/sec. Elapsed time 4.99 sec\n",
      "EvaluatorHoldout: Processed 10456 (100.0%) in 12.34 sec. Users per second: 847\n"
     ]
    },
    {
     "name": "stderr",
     "output_type": "stream",
     "text": [
      "[I 2023-12-09 11:23:32,711] Trial 119 finished with value: 0.04382375198868176 and parameters: {'topK': 70, 'shrink': 490, 'similarity': 'tversky', 'feature_weighting': 'BM25', 'tversky_alpha': 0.47842057926260206, 'tversky_beta': 1.1631321387602378}. Best is trial 82 with value: 0.04645695947340995.\n"
     ]
    },
    {
     "name": "stdout",
     "output_type": "stream",
     "text": [
      "ItemKNNCFRecommender: URM Detected 627 ( 4.8%) users with no interactions.\n",
      "ItemKNNCFRecommender: URM Detected 247 ( 1.1%) items with no interactions.\n",
      "Similarity column 22347 (100.0%), 4570.41 column/sec. Elapsed time 4.89 sec\n",
      "EvaluatorHoldout: Processed 10456 (100.0%) in 10.83 sec. Users per second: 965\n"
     ]
    },
    {
     "name": "stderr",
     "output_type": "stream",
     "text": [
      "[I 2023-12-09 11:23:48,841] Trial 120 finished with value: 0.044471500376483834 and parameters: {'topK': 31, 'shrink': 476, 'similarity': 'tversky', 'feature_weighting': 'BM25', 'tversky_alpha': 0.606735017095782, 'tversky_beta': 1.387876684792328}. Best is trial 82 with value: 0.04645695947340995.\n"
     ]
    },
    {
     "name": "stdout",
     "output_type": "stream",
     "text": [
      "ItemKNNCFRecommender: URM Detected 627 ( 4.8%) users with no interactions.\n",
      "ItemKNNCFRecommender: URM Detected 247 ( 1.1%) items with no interactions.\n",
      "Similarity column 22347 (100.0%), 4629.43 column/sec. Elapsed time 4.83 sec\n",
      "EvaluatorHoldout: Processed 10456 (100.0%) in 10.06 sec. Users per second: 1039\n"
     ]
    },
    {
     "name": "stderr",
     "output_type": "stream",
     "text": [
      "[I 2023-12-09 11:24:04,135] Trial 121 finished with value: 0.04535308959084847 and parameters: {'topK': 16, 'shrink': 493, 'similarity': 'tversky', 'feature_weighting': 'BM25', 'tversky_alpha': 0.7241988800737253, 'tversky_beta': 1.3908152067534265}. Best is trial 82 with value: 0.04645695947340995.\n"
     ]
    },
    {
     "name": "stdout",
     "output_type": "stream",
     "text": [
      "ItemKNNCFRecommender: URM Detected 627 ( 4.8%) users with no interactions.\n",
      "ItemKNNCFRecommender: URM Detected 247 ( 1.1%) items with no interactions.\n",
      "Similarity column 22347 (100.0%), 4570.45 column/sec. Elapsed time 4.89 sec\n",
      "EvaluatorHoldout: Processed 10456 (100.0%) in 11.64 sec. Users per second: 899\n"
     ]
    },
    {
     "name": "stderr",
     "output_type": "stream",
     "text": [
      "[I 2023-12-09 11:24:21,102] Trial 122 finished with value: 0.04394703124810298 and parameters: {'topK': 55, 'shrink': 483, 'similarity': 'tversky', 'feature_weighting': 'BM25', 'tversky_alpha': 0.5847956579296203, 'tversky_beta': 1.5071392476022887}. Best is trial 82 with value: 0.04645695947340995.\n"
     ]
    },
    {
     "name": "stdout",
     "output_type": "stream",
     "text": [
      "ItemKNNCFRecommender: URM Detected 627 ( 4.8%) users with no interactions.\n",
      "ItemKNNCFRecommender: URM Detected 247 ( 1.1%) items with no interactions.\n",
      "Similarity column 22347 (100.0%), 4653.52 column/sec. Elapsed time 4.80 sec\n",
      "EvaluatorHoldout: Processed 10456 (100.0%) in 9.67 sec. Users per second: 1082\n"
     ]
    },
    {
     "name": "stderr",
     "output_type": "stream",
     "text": [
      "[I 2023-12-09 11:24:35,963] Trial 123 finished with value: 0.04586061318176914 and parameters: {'topK': 11, 'shrink': 500, 'similarity': 'tversky', 'feature_weighting': 'BM25', 'tversky_alpha': 0.7148515821256345, 'tversky_beta': 1.4595662434973256}. Best is trial 82 with value: 0.04645695947340995.\n"
     ]
    },
    {
     "name": "stdout",
     "output_type": "stream",
     "text": [
      "ItemKNNCFRecommender: URM Detected 627 ( 4.8%) users with no interactions.\n",
      "ItemKNNCFRecommender: URM Detected 247 ( 1.1%) items with no interactions.\n",
      "Similarity column 22347 (100.0%), 4629.87 column/sec. Elapsed time 4.83 sec\n",
      "EvaluatorHoldout: Processed 10456 (100.0%) in 9.76 sec. Users per second: 1072\n"
     ]
    },
    {
     "name": "stderr",
     "output_type": "stream",
     "text": [
      "[I 2023-12-09 11:24:50,941] Trial 124 finished with value: 0.046325057535128986 and parameters: {'topK': 11, 'shrink': 465, 'similarity': 'tversky', 'feature_weighting': 'BM25', 'tversky_alpha': 0.48633139526740055, 'tversky_beta': 1.4507427942230167}. Best is trial 82 with value: 0.04645695947340995.\n"
     ]
    },
    {
     "name": "stdout",
     "output_type": "stream",
     "text": [
      "ItemKNNCFRecommender: URM Detected 627 ( 4.8%) users with no interactions.\n",
      "ItemKNNCFRecommender: URM Detected 247 ( 1.1%) items with no interactions.\n",
      "Similarity column 22347 (100.0%), 5059.97 column/sec. Elapsed time 4.42 sec\n",
      "EvaluatorHoldout: Processed 10456 (100.0%) in 11.76 sec. Users per second: 889\n"
     ]
    },
    {
     "name": "stderr",
     "output_type": "stream",
     "text": [
      "[I 2023-12-09 11:25:07,508] Trial 125 finished with value: 0.04346638901033559 and parameters: {'topK': 41, 'shrink': 468, 'similarity': 'tanimoto', 'feature_weighting': 'BM25'}. Best is trial 82 with value: 0.04645695947340995.\n"
     ]
    },
    {
     "name": "stdout",
     "output_type": "stream",
     "text": [
      "ItemKNNCFRecommender: URM Detected 627 ( 4.8%) users with no interactions.\n",
      "ItemKNNCFRecommender: URM Detected 247 ( 1.1%) items with no interactions.\n",
      "Similarity column 22347 (100.0%), 4578.29 column/sec. Elapsed time 4.88 sec\n",
      "EvaluatorHoldout: Processed 10456 (100.0%) in 12.07 sec. Users per second: 867\n"
     ]
    },
    {
     "name": "stderr",
     "output_type": "stream",
     "text": [
      "[I 2023-12-09 11:25:24,905] Trial 126 finished with value: 0.034452922905964564 and parameters: {'topK': 73, 'shrink': 460, 'similarity': 'tversky', 'feature_weighting': 'TF-IDF', 'tversky_alpha': 0.5057912311128251, 'tversky_beta': 1.4542336447176059}. Best is trial 82 with value: 0.04645695947340995.\n"
     ]
    },
    {
     "name": "stdout",
     "output_type": "stream",
     "text": [
      "ItemKNNCFRecommender: URM Detected 627 ( 4.8%) users with no interactions.\n",
      "ItemKNNCFRecommender: URM Detected 247 ( 1.1%) items with no interactions.\n",
      "Similarity column 22347 (100.0%), 4561.26 column/sec. Elapsed time 4.90 sec\n",
      "EvaluatorHoldout: Processed 10456 (100.0%) in 13.02 sec. Users per second: 803\n"
     ]
    },
    {
     "name": "stderr",
     "output_type": "stream",
     "text": [
      "[I 2023-12-09 11:25:43,313] Trial 127 finished with value: 0.04239086542548714 and parameters: {'topK': 119, 'shrink': 500, 'similarity': 'tversky', 'feature_weighting': 'BM25', 'tversky_alpha': 0.48057459500015, 'tversky_beta': 1.4700919854307988}. Best is trial 82 with value: 0.04645695947340995.\n"
     ]
    },
    {
     "name": "stdout",
     "output_type": "stream",
     "text": [
      "ItemKNNCFRecommender: URM Detected 627 ( 4.8%) users with no interactions.\n",
      "ItemKNNCFRecommender: URM Detected 247 ( 1.1%) items with no interactions.\n",
      "Similarity column 22347 (100.0%), 4567.88 column/sec. Elapsed time 4.89 sec\n",
      "EvaluatorHoldout: Processed 10456 (100.0%) in 11.02 sec. Users per second: 949\n"
     ]
    },
    {
     "name": "stderr",
     "output_type": "stream",
     "text": [
      "[I 2023-12-09 11:25:59,637] Trial 128 finished with value: 0.04404951284900655 and parameters: {'topK': 33, 'shrink': 437, 'similarity': 'tversky', 'feature_weighting': 'BM25', 'tversky_alpha': 0.5862311899481758, 'tversky_beta': 1.4083356365743194}. Best is trial 82 with value: 0.04645695947340995.\n"
     ]
    },
    {
     "name": "stdout",
     "output_type": "stream",
     "text": [
      "ItemKNNCFRecommender: URM Detected 627 ( 4.8%) users with no interactions.\n",
      "ItemKNNCFRecommender: URM Detected 247 ( 1.1%) items with no interactions.\n",
      "Similarity column 22347 (100.0%), 5023.38 column/sec. Elapsed time 4.45 sec\n",
      "EvaluatorHoldout: Processed 10456 (100.0%) in 12.26 sec. Users per second: 853\n"
     ]
    },
    {
     "name": "stderr",
     "output_type": "stream",
     "text": [
      "[I 2023-12-09 11:26:16,728] Trial 129 finished with value: 0.04261402278330406 and parameters: {'topK': 53, 'shrink': 477, 'similarity': 'dice', 'feature_weighting': 'BM25'}. Best is trial 82 with value: 0.04645695947340995.\n"
     ]
    },
    {
     "name": "stdout",
     "output_type": "stream",
     "text": [
      "ItemKNNCFRecommender: URM Detected 627 ( 4.8%) users with no interactions.\n",
      "ItemKNNCFRecommender: URM Detected 247 ( 1.1%) items with no interactions.\n",
      "Similarity column 22347 (100.0%), 4523.01 column/sec. Elapsed time 4.94 sec\n",
      "EvaluatorHoldout: Processed 10456 (100.0%) in 12.50 sec. Users per second: 836\n"
     ]
    },
    {
     "name": "stderr",
     "output_type": "stream",
     "text": [
      "[I 2023-12-09 11:26:34,630] Trial 130 finished with value: 0.043338851544188726 and parameters: {'topK': 91, 'shrink': 449, 'similarity': 'tversky', 'feature_weighting': 'BM25', 'tversky_alpha': 0.5713987983061785, 'tversky_beta': 1.5031617490399563}. Best is trial 82 with value: 0.04645695947340995.\n"
     ]
    },
    {
     "name": "stdout",
     "output_type": "stream",
     "text": [
      "ItemKNNCFRecommender: URM Detected 627 ( 4.8%) users with no interactions.\n",
      "ItemKNNCFRecommender: URM Detected 247 ( 1.1%) items with no interactions.\n",
      "Similarity column 22347 (100.0%), 4561.33 column/sec. Elapsed time 4.90 sec\n",
      "EvaluatorHoldout: Processed 10456 (100.0%) in 10.00 sec. Users per second: 1045\n"
     ]
    },
    {
     "name": "stderr",
     "output_type": "stream",
     "text": [
      "[I 2023-12-09 11:26:49,931] Trial 131 finished with value: 0.04565926300385055 and parameters: {'topK': 15, 'shrink': 486, 'similarity': 'tversky', 'feature_weighting': 'BM25', 'tversky_alpha': 0.5217409302915804, 'tversky_beta': 1.3894433976977345}. Best is trial 82 with value: 0.04645695947340995.\n"
     ]
    },
    {
     "name": "stdout",
     "output_type": "stream",
     "text": [
      "ItemKNNCFRecommender: URM Detected 627 ( 4.8%) users with no interactions.\n",
      "ItemKNNCFRecommender: URM Detected 247 ( 1.1%) items with no interactions.\n",
      "Similarity column 22347 (100.0%), 4560.18 column/sec. Elapsed time 4.90 sec\n",
      "EvaluatorHoldout: Processed 10456 (100.0%) in 9.19 sec. Users per second: 1137\n"
     ]
    },
    {
     "name": "stderr",
     "output_type": "stream",
     "text": [
      "[I 2023-12-09 11:27:04,446] Trial 132 finished with value: 0.031072354598559834 and parameters: {'topK': 34, 'shrink': 12, 'similarity': 'tversky', 'feature_weighting': 'BM25', 'tversky_alpha': 0.6730334746873651, 'tversky_beta': 1.5215408153162162}. Best is trial 82 with value: 0.04645695947340995.\n"
     ]
    },
    {
     "name": "stdout",
     "output_type": "stream",
     "text": [
      "ItemKNNCFRecommender: URM Detected 627 ( 4.8%) users with no interactions.\n",
      "ItemKNNCFRecommender: URM Detected 247 ( 1.1%) items with no interactions.\n",
      "Similarity column 22347 (100.0%), 4596.72 column/sec. Elapsed time 4.86 sec\n",
      "EvaluatorHoldout: Processed 10456 (100.0%) in 9.90 sec. Users per second: 1057\n"
     ]
    },
    {
     "name": "stderr",
     "output_type": "stream",
     "text": [
      "[I 2023-12-09 11:27:19,605] Trial 133 finished with value: 0.045913317029184234 and parameters: {'topK': 14, 'shrink': 491, 'similarity': 'tversky', 'feature_weighting': 'BM25', 'tversky_alpha': 0.4445243193144707, 'tversky_beta': 1.4546229170744207}. Best is trial 82 with value: 0.04645695947340995.\n"
     ]
    },
    {
     "name": "stdout",
     "output_type": "stream",
     "text": [
      "ItemKNNCFRecommender: URM Detected 627 ( 4.8%) users with no interactions.\n",
      "ItemKNNCFRecommender: URM Detected 247 ( 1.1%) items with no interactions.\n",
      "Similarity column 22347 (100.0%), 4596.02 column/sec. Elapsed time 4.86 sec\n",
      "EvaluatorHoldout: Processed 10456 (100.0%) in 11.74 sec. Users per second: 891\n"
     ]
    },
    {
     "name": "stderr",
     "output_type": "stream",
     "text": [
      "[I 2023-12-09 11:27:36,639] Trial 134 finished with value: 0.04404180481169836 and parameters: {'topK': 61, 'shrink': 470, 'similarity': 'tversky', 'feature_weighting': 'BM25', 'tversky_alpha': 0.37052929774651616, 'tversky_beta': 1.441571321892359}. Best is trial 82 with value: 0.04645695947340995.\n"
     ]
    },
    {
     "name": "stdout",
     "output_type": "stream",
     "text": [
      "ItemKNNCFRecommender: URM Detected 627 ( 4.8%) users with no interactions.\n",
      "ItemKNNCFRecommender: URM Detected 247 ( 1.1%) items with no interactions.\n",
      "Similarity column 22347 (100.0%), 4627.39 column/sec. Elapsed time 4.83 sec\n",
      "EvaluatorHoldout: Processed 10456 (100.0%) in 9.62 sec. Users per second: 1087\n"
     ]
    },
    {
     "name": "stderr",
     "output_type": "stream",
     "text": [
      "[I 2023-12-09 11:27:51,475] Trial 135 finished with value: 0.04640622533124506 and parameters: {'topK': 11, 'shrink': 491, 'similarity': 'tversky', 'feature_weighting': 'BM25', 'tversky_alpha': 0.445004456828976, 'tversky_beta': 1.5456503719496277}. Best is trial 82 with value: 0.04645695947340995.\n"
     ]
    },
    {
     "name": "stdout",
     "output_type": "stream",
     "text": [
      "ItemKNNCFRecommender: URM Detected 627 ( 4.8%) users with no interactions.\n",
      "ItemKNNCFRecommender: URM Detected 247 ( 1.1%) items with no interactions.\n",
      "Similarity column 22347 (100.0%), 4628.31 column/sec. Elapsed time 4.83 sec\n",
      "EvaluatorHoldout: Processed 10456 (100.0%) in 9.66 sec. Users per second: 1083\n"
     ]
    },
    {
     "name": "stderr",
     "output_type": "stream",
     "text": [
      "[I 2023-12-09 11:28:06,346] Trial 136 finished with value: 0.04647952569194015 and parameters: {'topK': 10, 'shrink': 456, 'similarity': 'tversky', 'feature_weighting': 'BM25', 'tversky_alpha': 0.4459583464837894, 'tversky_beta': 1.5607550410130349}. Best is trial 136 with value: 0.04647952569194015.\n"
     ]
    },
    {
     "name": "stdout",
     "output_type": "stream",
     "text": [
      "ItemKNNCFRecommender: URM Detected 627 ( 4.8%) users with no interactions.\n",
      "ItemKNNCFRecommender: URM Detected 247 ( 1.1%) items with no interactions.\n",
      "Similarity column 22347 (100.0%), 4319.41 column/sec. Elapsed time 5.17 sec\n",
      "EvaluatorHoldout: Processed 10456 (100.0%) in 9.08 sec. Users per second: 1152\n"
     ]
    },
    {
     "name": "stderr",
     "output_type": "stream",
     "text": [
      "[I 2023-12-09 11:28:20,858] Trial 137 finished with value: 0.022951715275500675 and parameters: {'topK': 34, 'shrink': 456, 'similarity': 'cosine', 'feature_weighting': 'BM25'}. Best is trial 136 with value: 0.04647952569194015.\n"
     ]
    },
    {
     "name": "stdout",
     "output_type": "stream",
     "text": [
      "ItemKNNCFRecommender: URM Detected 627 ( 4.8%) users with no interactions.\n",
      "ItemKNNCFRecommender: URM Detected 247 ( 1.1%) items with no interactions.\n",
      "Similarity column 22347 (100.0%), 1253.26 column/sec. Elapsed time 17.83 sec\n",
      "EvaluatorHoldout: Processed 10456 (100.0%) in 7.97 sec. Users per second: 1313\n"
     ]
    },
    {
     "name": "stderr",
     "output_type": "stream",
     "text": [
      "[I 2023-12-09 11:28:46,971] Trial 138 finished with value: 0.015405694763240569 and parameters: {'topK': 79, 'shrink': 181, 'similarity': 'euclidean', 'feature_weighting': 'BM25', 'normalize_avg_row': True, 'similarity_from_distance_mode': 'exp', 'normalize': False}. Best is trial 136 with value: 0.04647952569194015.\n"
     ]
    },
    {
     "name": "stdout",
     "output_type": "stream",
     "text": [
      "ItemKNNCFRecommender: URM Detected 627 ( 4.8%) users with no interactions.\n",
      "ItemKNNCFRecommender: URM Detected 247 ( 1.1%) items with no interactions.\n",
      "Similarity column 22347 (100.0%), 4588.14 column/sec. Elapsed time 4.87 sec\n",
      "EvaluatorHoldout: Processed 10456 (100.0%) in 11.47 sec. Users per second: 912\n"
     ]
    },
    {
     "name": "stderr",
     "output_type": "stream",
     "text": [
      "[I 2023-12-09 11:29:03,697] Trial 139 finished with value: 0.03540750507037848 and parameters: {'topK': 51, 'shrink': 466, 'similarity': 'tversky', 'feature_weighting': 'none', 'tversky_alpha': 0.44350894771270283, 'tversky_beta': 1.5602358040701203}. Best is trial 136 with value: 0.04647952569194015.\n"
     ]
    },
    {
     "name": "stdout",
     "output_type": "stream",
     "text": [
      "ItemKNNCFRecommender: URM Detected 627 ( 4.8%) users with no interactions.\n",
      "ItemKNNCFRecommender: URM Detected 247 ( 1.1%) items with no interactions.\n",
      "Similarity column 22347 (100.0%), 4597.87 column/sec. Elapsed time 4.86 sec\n",
      "EvaluatorHoldout: Processed 10456 (100.0%) in 10.74 sec. Users per second: 973\n"
     ]
    },
    {
     "name": "stderr",
     "output_type": "stream",
     "text": [
      "[I 2023-12-09 11:29:19,697] Trial 140 finished with value: 0.04463328187051467 and parameters: {'topK': 32, 'shrink': 480, 'similarity': 'tversky', 'feature_weighting': 'BM25', 'tversky_alpha': 0.33999053724221895, 'tversky_beta': 1.5081482215421325}. Best is trial 136 with value: 0.04647952569194015.\n"
     ]
    },
    {
     "name": "stdout",
     "output_type": "stream",
     "text": [
      "ItemKNNCFRecommender: URM Detected 627 ( 4.8%) users with no interactions.\n",
      "ItemKNNCFRecommender: URM Detected 247 ( 1.1%) items with no interactions.\n",
      "Similarity column 22347 (100.0%), 4660.23 column/sec. Elapsed time 4.80 sec\n",
      "EvaluatorHoldout: Processed 10456 (100.0%) in 9.75 sec. Users per second: 1072\n"
     ]
    },
    {
     "name": "stderr",
     "output_type": "stream",
     "text": [
      "[I 2023-12-09 11:29:34,637] Trial 141 finished with value: 0.04593098365334467 and parameters: {'topK': 12, 'shrink': 485, 'similarity': 'tversky', 'feature_weighting': 'BM25', 'tversky_alpha': 0.5330290359240789, 'tversky_beta': 1.4510595510367124}. Best is trial 136 with value: 0.04647952569194015.\n"
     ]
    },
    {
     "name": "stdout",
     "output_type": "stream",
     "text": [
      "ItemKNNCFRecommender: URM Detected 627 ( 4.8%) users with no interactions.\n",
      "ItemKNNCFRecommender: URM Detected 247 ( 1.1%) items with no interactions.\n",
      "Similarity column 22347 (100.0%), 4610.18 column/sec. Elapsed time 4.85 sec\n",
      "EvaluatorHoldout: Processed 10456 (100.0%) in 9.53 sec. Users per second: 1097\n"
     ]
    },
    {
     "name": "stderr",
     "output_type": "stream",
     "text": [
      "[I 2023-12-09 11:29:49,395] Trial 142 finished with value: 0.04643886019722917 and parameters: {'topK': 10, 'shrink': 490, 'similarity': 'tversky', 'feature_weighting': 'BM25', 'tversky_alpha': 0.5206654102663427, 'tversky_beta': 1.5853900303438515}. Best is trial 136 with value: 0.04647952569194015.\n"
     ]
    },
    {
     "name": "stdout",
     "output_type": "stream",
     "text": [
      "ItemKNNCFRecommender: URM Detected 627 ( 4.8%) users with no interactions.\n",
      "ItemKNNCFRecommender: URM Detected 247 ( 1.1%) items with no interactions.\n",
      "Similarity column 22347 (100.0%), 4615.09 column/sec. Elapsed time 4.84 sec\n",
      "EvaluatorHoldout: Processed 10456 (100.0%) in 11.42 sec. Users per second: 916\n"
     ]
    },
    {
     "name": "stderr",
     "output_type": "stream",
     "text": [
      "[I 2023-12-09 11:30:06,073] Trial 143 finished with value: 0.04408551784651692 and parameters: {'topK': 50, 'shrink': 475, 'similarity': 'tversky', 'feature_weighting': 'BM25', 'tversky_alpha': 0.4402068092301564, 'tversky_beta': 1.5851579950965258}. Best is trial 136 with value: 0.04647952569194015.\n"
     ]
    },
    {
     "name": "stdout",
     "output_type": "stream",
     "text": [
      "ItemKNNCFRecommender: URM Detected 627 ( 4.8%) users with no interactions.\n",
      "ItemKNNCFRecommender: URM Detected 247 ( 1.1%) items with no interactions.\n",
      "Similarity column 22347 (100.0%), 4579.10 column/sec. Elapsed time 4.88 sec\n",
      "EvaluatorHoldout: Processed 10456 (100.0%) in 9.32 sec. Users per second: 1122\n"
     ]
    },
    {
     "name": "stderr",
     "output_type": "stream",
     "text": [
      "[I 2023-12-09 11:30:20,680] Trial 144 finished with value: 0.03629260483841626 and parameters: {'topK': 31, 'shrink': 34, 'similarity': 'tversky', 'feature_weighting': 'BM25', 'tversky_alpha': 0.5271386520382778, 'tversky_beta': 1.4657875183017877}. Best is trial 136 with value: 0.04647952569194015.\n"
     ]
    },
    {
     "name": "stdout",
     "output_type": "stream",
     "text": [
      "ItemKNNCFRecommender: URM Detected 627 ( 4.8%) users with no interactions.\n",
      "ItemKNNCFRecommender: URM Detected 247 ( 1.1%) items with no interactions.\n",
      "Similarity column 22347 (100.0%), 4497.05 column/sec. Elapsed time 4.97 sec\n",
      "EvaluatorHoldout: Processed 10456 (100.0%) in 9.74 sec. Users per second: 1073\n"
     ]
    },
    {
     "name": "stderr",
     "output_type": "stream",
     "text": [
      "[I 2023-12-09 11:30:35,703] Trial 145 finished with value: 0.022506315201418464 and parameters: {'topK': 72, 'shrink': 488, 'similarity': 'asymmetric', 'feature_weighting': 'BM25', 'asymmetric_alpha': 0.48849710914948874}. Best is trial 136 with value: 0.04647952569194015.\n"
     ]
    },
    {
     "name": "stdout",
     "output_type": "stream",
     "text": [
      "ItemKNNCFRecommender: URM Detected 627 ( 4.8%) users with no interactions.\n",
      "ItemKNNCFRecommender: URM Detected 247 ( 1.1%) items with no interactions.\n",
      "Similarity column 22347 (100.0%), 4593.29 column/sec. Elapsed time 4.87 sec\n",
      "EvaluatorHoldout: Processed 10456 (100.0%) in 9.51 sec. Users per second: 1100\n"
     ]
    },
    {
     "name": "stderr",
     "output_type": "stream",
     "text": [
      "[I 2023-12-09 11:30:50,466] Trial 146 finished with value: 0.0462481099938068 and parameters: {'topK': 10, 'shrink': 453, 'similarity': 'tversky', 'feature_weighting': 'BM25', 'tversky_alpha': 0.536752251376366, 'tversky_beta': 1.5294809537384093}. Best is trial 136 with value: 0.04647952569194015.\n"
     ]
    },
    {
     "name": "stdout",
     "output_type": "stream",
     "text": [
      "ItemKNNCFRecommender: URM Detected 627 ( 4.8%) users with no interactions.\n",
      "ItemKNNCFRecommender: URM Detected 247 ( 1.1%) items with no interactions.\n",
      "Similarity column 22347 (100.0%), 4624.78 column/sec. Elapsed time 4.83 sec\n",
      "EvaluatorHoldout: Processed 10456 (100.0%) in 10.90 sec. Users per second: 960\n"
     ]
    },
    {
     "name": "stderr",
     "output_type": "stream",
     "text": [
      "[I 2023-12-09 11:31:06,604] Trial 147 finished with value: 0.044585769847342784 and parameters: {'topK': 33, 'shrink': 452, 'similarity': 'tversky', 'feature_weighting': 'BM25', 'tversky_alpha': 0.3249857217702281, 'tversky_beta': 1.3631211355534159}. Best is trial 136 with value: 0.04647952569194015.\n"
     ]
    },
    {
     "name": "stdout",
     "output_type": "stream",
     "text": [
      "ItemKNNCFRecommender: URM Detected 627 ( 4.8%) users with no interactions.\n",
      "ItemKNNCFRecommender: URM Detected 247 ( 1.1%) items with no interactions.\n",
      "Similarity column 22347 (100.0%), 4557.30 column/sec. Elapsed time 4.90 sec\n",
      "EvaluatorHoldout: Processed 10456 (100.0%) in 12.64 sec. Users per second: 827\n"
     ]
    },
    {
     "name": "stderr",
     "output_type": "stream",
     "text": [
      "[I 2023-12-09 11:31:24,613] Trial 148 finished with value: 0.04294674736765443 and parameters: {'topK': 103, 'shrink': 465, 'similarity': 'tversky', 'feature_weighting': 'BM25', 'tversky_alpha': 0.44510080686190556, 'tversky_beta': 1.5463797669009403}. Best is trial 136 with value: 0.04647952569194015.\n"
     ]
    },
    {
     "name": "stdout",
     "output_type": "stream",
     "text": [
      "ItemKNNCFRecommender: URM Detected 627 ( 4.8%) users with no interactions.\n",
      "ItemKNNCFRecommender: URM Detected 247 ( 1.1%) items with no interactions.\n",
      "Similarity column 22347 (100.0%), 4529.62 column/sec. Elapsed time 4.93 sec\n",
      "EvaluatorHoldout: Processed 10456 (100.0%) in 11.65 sec. Users per second: 897\n"
     ]
    },
    {
     "name": "stderr",
     "output_type": "stream",
     "text": [
      "[I 2023-12-09 11:31:41,632] Trial 149 finished with value: 0.0437837240864217 and parameters: {'topK': 58, 'shrink': 438, 'similarity': 'tversky', 'feature_weighting': 'BM25', 'tversky_alpha': 0.5517340878814986, 'tversky_beta': 1.4442796099872877}. Best is trial 136 with value: 0.04647952569194015.\n"
     ]
    },
    {
     "name": "stdout",
     "output_type": "stream",
     "text": [
      "ItemKNNCFRecommender: URM Detected 627 ( 4.8%) users with no interactions.\n",
      "ItemKNNCFRecommender: URM Detected 247 ( 1.1%) items with no interactions.\n",
      "Similarity column 22347 (100.0%), 4327.38 column/sec. Elapsed time 5.16 sec\n",
      "EvaluatorHoldout: Processed 10456 (100.0%) in 18.62 sec. Users per second: 562\n"
     ]
    },
    {
     "name": "stderr",
     "output_type": "stream",
     "text": [
      "[I 2023-12-09 11:32:06,280] Trial 150 finished with value: 0.027433925687081927 and parameters: {'topK': 788, 'shrink': 478, 'similarity': 'tversky', 'feature_weighting': 'TF-IDF', 'tversky_alpha': 0.5002054803674435, 'tversky_beta': 1.590006550055539}. Best is trial 136 with value: 0.04647952569194015.\n"
     ]
    },
    {
     "name": "stdout",
     "output_type": "stream",
     "text": [
      "ItemKNNCFRecommender: URM Detected 627 ( 4.8%) users with no interactions.\n",
      "ItemKNNCFRecommender: URM Detected 247 ( 1.1%) items with no interactions.\n",
      "Similarity column 22347 (100.0%), 4554.65 column/sec. Elapsed time 4.91 sec\n",
      "EvaluatorHoldout: Processed 10456 (100.0%) in 9.72 sec. Users per second: 1075\n"
     ]
    },
    {
     "name": "stderr",
     "output_type": "stream",
     "text": [
      "[I 2023-12-09 11:32:21,306] Trial 151 finished with value: 0.0459335226375688 and parameters: {'topK': 12, 'shrink': 489, 'similarity': 'tversky', 'feature_weighting': 'BM25', 'tversky_alpha': 0.5482899768588877, 'tversky_beta': 1.4909081951154268}. Best is trial 136 with value: 0.04647952569194015.\n"
     ]
    },
    {
     "name": "stdout",
     "output_type": "stream",
     "text": [
      "ItemKNNCFRecommender: URM Detected 627 ( 4.8%) users with no interactions.\n",
      "ItemKNNCFRecommender: URM Detected 247 ( 1.1%) items with no interactions.\n",
      "Similarity column 22347 (100.0%), 4587.87 column/sec. Elapsed time 4.87 sec\n",
      "EvaluatorHoldout: Processed 10456 (100.0%) in 10.71 sec. Users per second: 976\n"
     ]
    },
    {
     "name": "stderr",
     "output_type": "stream",
     "text": [
      "[I 2023-12-09 11:32:37,296] Trial 152 finished with value: 0.04452568814442449 and parameters: {'topK': 31, 'shrink': 469, 'similarity': 'tversky', 'feature_weighting': 'BM25', 'tversky_alpha': 0.5469533719759838, 'tversky_beta': 1.5234645541949914}. Best is trial 136 with value: 0.04647952569194015.\n"
     ]
    },
    {
     "name": "stdout",
     "output_type": "stream",
     "text": [
      "ItemKNNCFRecommender: URM Detected 627 ( 4.8%) users with no interactions.\n",
      "ItemKNNCFRecommender: URM Detected 247 ( 1.1%) items with no interactions.\n",
      "Similarity column 22347 (100.0%), 4584.03 column/sec. Elapsed time 4.87 sec\n",
      "EvaluatorHoldout: Processed 10456 (100.0%) in 9.68 sec. Users per second: 1081\n"
     ]
    },
    {
     "name": "stderr",
     "output_type": "stream",
     "text": [
      "[I 2023-12-09 11:32:52,268] Trial 153 finished with value: 0.046434476749129275 and parameters: {'topK': 11, 'shrink': 481, 'similarity': 'tversky', 'feature_weighting': 'BM25', 'tversky_alpha': 0.4189088435943249, 'tversky_beta': 1.4895216774139775}. Best is trial 136 with value: 0.04647952569194015.\n"
     ]
    },
    {
     "name": "stdout",
     "output_type": "stream",
     "text": [
      "ItemKNNCFRecommender: URM Detected 627 ( 4.8%) users with no interactions.\n",
      "ItemKNNCFRecommender: URM Detected 247 ( 1.1%) items with no interactions.\n",
      "Similarity column 22347 (100.0%), 4597.82 column/sec. Elapsed time 4.86 sec\n",
      "EvaluatorHoldout: Processed 10456 (100.0%) in 11.33 sec. Users per second: 923\n"
     ]
    },
    {
     "name": "stderr",
     "output_type": "stream",
     "text": [
      "[I 2023-12-09 11:33:08,892] Trial 154 finished with value: 0.04379614195844158 and parameters: {'topK': 48, 'shrink': 458, 'similarity': 'tversky', 'feature_weighting': 'BM25', 'tversky_alpha': 0.5543703332075743, 'tversky_beta': 1.5099940772965972}. Best is trial 136 with value: 0.04647952569194015.\n"
     ]
    },
    {
     "name": "stdout",
     "output_type": "stream",
     "text": [
      "ItemKNNCFRecommender: URM Detected 627 ( 4.8%) users with no interactions.\n",
      "ItemKNNCFRecommender: URM Detected 247 ( 1.1%) items with no interactions.\n",
      "Similarity column 22347 (100.0%), 4567.20 column/sec. Elapsed time 4.89 sec\n",
      "EvaluatorHoldout: Processed 10456 (100.0%) in 9.54 sec. Users per second: 1096\n"
     ]
    },
    {
     "name": "stderr",
     "output_type": "stream",
     "text": [
      "[I 2023-12-09 11:33:23,727] Trial 155 finished with value: 0.046581605002368756 and parameters: {'topK': 10, 'shrink': 480, 'similarity': 'tversky', 'feature_weighting': 'BM25', 'tversky_alpha': 0.418204656621375, 'tversky_beta': 1.6104434965398289}. Best is trial 155 with value: 0.046581605002368756.\n"
     ]
    },
    {
     "name": "stdout",
     "output_type": "stream",
     "text": [
      "ItemKNNCFRecommender: URM Detected 627 ( 4.8%) users with no interactions.\n",
      "ItemKNNCFRecommender: URM Detected 247 ( 1.1%) items with no interactions.\n",
      "Similarity column 22347 (100.0%), 5013.16 column/sec. Elapsed time 4.46 sec\n",
      "EvaluatorHoldout: Processed 10456 (100.0%) in 11.30 sec. Users per second: 925\n"
     ]
    },
    {
     "name": "stderr",
     "output_type": "stream",
     "text": [
      "[I 2023-12-09 11:33:39,869] Trial 156 finished with value: 0.043655689449970815 and parameters: {'topK': 32, 'shrink': 476, 'similarity': 'tanimoto', 'feature_weighting': 'BM25'}. Best is trial 155 with value: 0.046581605002368756.\n"
     ]
    },
    {
     "name": "stdout",
     "output_type": "stream",
     "text": [
      "ItemKNNCFRecommender: URM Detected 627 ( 4.8%) users with no interactions.\n",
      "ItemKNNCFRecommender: URM Detected 247 ( 1.1%) items with no interactions.\n",
      "Similarity column 22347 (100.0%), 4471.88 column/sec. Elapsed time 5.00 sec\n",
      "EvaluatorHoldout: Processed 10456 (100.0%) in 11.70 sec. Users per second: 894\n"
     ]
    },
    {
     "name": "stderr",
     "output_type": "stream",
     "text": [
      "[I 2023-12-09 11:33:57,010] Trial 157 finished with value: 0.04347085215749201 and parameters: {'topK': 72, 'shrink': 421, 'similarity': 'tversky', 'feature_weighting': 'BM25', 'tversky_alpha': 0.39453908442233276, 'tversky_beta': 1.6173213964019713}. Best is trial 155 with value: 0.046581605002368756.\n"
     ]
    },
    {
     "name": "stdout",
     "output_type": "stream",
     "text": [
      "ItemKNNCFRecommender: URM Detected 627 ( 4.8%) users with no interactions.\n",
      "ItemKNNCFRecommender: URM Detected 247 ( 1.1%) items with no interactions.\n",
      "Similarity column 22347 (100.0%), 4381.50 column/sec. Elapsed time 5.10 sec\n",
      "EvaluatorHoldout: Processed 10456 (100.0%) in 16.54 sec. Users per second: 632\n"
     ]
    },
    {
     "name": "stderr",
     "output_type": "stream",
     "text": [
      "[I 2023-12-09 11:34:19,311] Trial 158 finished with value: 0.03666745986203753 and parameters: {'topK': 401, 'shrink': 446, 'similarity': 'tversky', 'feature_weighting': 'BM25', 'tversky_alpha': 0.33443418835828215, 'tversky_beta': 1.6285644987770853}. Best is trial 155 with value: 0.046581605002368756.\n"
     ]
    },
    {
     "name": "stdout",
     "output_type": "stream",
     "text": [
      "ItemKNNCFRecommender: URM Detected 627 ( 4.8%) users with no interactions.\n",
      "ItemKNNCFRecommender: URM Detected 247 ( 1.1%) items with no interactions.\n",
      "Similarity column 22347 (100.0%), 4580.95 column/sec. Elapsed time 4.88 sec\n",
      "EvaluatorHoldout: Processed 10456 (100.0%) in 11.49 sec. Users per second: 910\n"
     ]
    },
    {
     "name": "stderr",
     "output_type": "stream",
     "text": [
      "[I 2023-12-09 11:34:36,117] Trial 159 finished with value: 0.04405648082364873 and parameters: {'topK': 47, 'shrink': 463, 'similarity': 'tversky', 'feature_weighting': 'BM25', 'tversky_alpha': 0.4770129986979919, 'tversky_beta': 1.3486523308382004}. Best is trial 155 with value: 0.046581605002368756.\n"
     ]
    },
    {
     "name": "stdout",
     "output_type": "stream",
     "text": [
      "ItemKNNCFRecommender: URM Detected 627 ( 4.8%) users with no interactions.\n",
      "ItemKNNCFRecommender: URM Detected 247 ( 1.1%) items with no interactions.\n",
      "Similarity column 22347 (100.0%), 5088.12 column/sec. Elapsed time 4.39 sec\n",
      "EvaluatorHoldout: Processed 10456 (100.0%) in 9.89 sec. Users per second: 1057\n"
     ]
    },
    {
     "name": "stderr",
     "output_type": "stream",
     "text": [
      "[I 2023-12-09 11:34:50,751] Trial 160 finished with value: 0.04416697028212005 and parameters: {'topK': 10, 'shrink': 482, 'similarity': 'dice', 'feature_weighting': 'BM25'}. Best is trial 155 with value: 0.046581605002368756.\n"
     ]
    },
    {
     "name": "stdout",
     "output_type": "stream",
     "text": [
      "ItemKNNCFRecommender: URM Detected 627 ( 4.8%) users with no interactions.\n",
      "ItemKNNCFRecommender: URM Detected 247 ( 1.1%) items with no interactions.\n",
      "Similarity column 22347 (100.0%), 4640.15 column/sec. Elapsed time 4.82 sec\n",
      "EvaluatorHoldout: Processed 10456 (100.0%) in 9.54 sec. Users per second: 1096\n"
     ]
    },
    {
     "name": "stderr",
     "output_type": "stream",
     "text": [
      "[I 2023-12-09 11:35:05,506] Trial 161 finished with value: 0.04642917486428447 and parameters: {'topK': 10, 'shrink': 485, 'similarity': 'tversky', 'feature_weighting': 'BM25', 'tversky_alpha': 0.5124791431884012, 'tversky_beta': 1.5685826859221408}. Best is trial 155 with value: 0.046581605002368756.\n"
     ]
    },
    {
     "name": "stdout",
     "output_type": "stream",
     "text": [
      "ItemKNNCFRecommender: URM Detected 627 ( 4.8%) users with no interactions.\n",
      "ItemKNNCFRecommender: URM Detected 247 ( 1.1%) items with no interactions.\n",
      "Similarity column 22347 (100.0%), 4610.66 column/sec. Elapsed time 4.85 sec\n",
      "EvaluatorHoldout: Processed 10456 (100.0%) in 10.66 sec. Users per second: 980\n"
     ]
    },
    {
     "name": "stderr",
     "output_type": "stream",
     "text": [
      "[I 2023-12-09 11:35:21,428] Trial 162 finished with value: 0.044922449022966174 and parameters: {'topK': 29, 'shrink': 490, 'similarity': 'tversky', 'feature_weighting': 'BM25', 'tversky_alpha': 0.42187431080546955, 'tversky_beta': 1.561541018419283}. Best is trial 155 with value: 0.046581605002368756.\n"
     ]
    },
    {
     "name": "stdout",
     "output_type": "stream",
     "text": [
      "ItemKNNCFRecommender: URM Detected 627 ( 4.8%) users with no interactions.\n",
      "ItemKNNCFRecommender: URM Detected 247 ( 1.1%) items with no interactions.\n",
      "Similarity column 22347 (100.0%), 4626.30 column/sec. Elapsed time 4.83 sec\n",
      "EvaluatorHoldout: Processed 10456 (100.0%) in 9.55 sec. Users per second: 1095\n"
     ]
    },
    {
     "name": "stderr",
     "output_type": "stream",
     "text": [
      "[I 2023-12-09 11:35:36,196] Trial 163 finished with value: 0.04654185794440247 and parameters: {'topK': 10, 'shrink': 500, 'similarity': 'tversky', 'feature_weighting': 'BM25', 'tversky_alpha': 0.4934990834446702, 'tversky_beta': 1.6098121857406498}. Best is trial 155 with value: 0.046581605002368756.\n"
     ]
    },
    {
     "name": "stdout",
     "output_type": "stream",
     "text": [
      "ItemKNNCFRecommender: URM Detected 627 ( 4.8%) users with no interactions.\n",
      "ItemKNNCFRecommender: URM Detected 247 ( 1.1%) items with no interactions.\n",
      "Similarity column 22347 (100.0%), 4312.62 column/sec. Elapsed time 5.18 sec\n",
      "EvaluatorHoldout: Processed 10456 (100.0%) in 17.14 sec. Users per second: 610\n"
     ]
    },
    {
     "name": "stderr",
     "output_type": "stream",
     "text": [
      "[I 2023-12-09 11:35:59,216] Trial 164 finished with value: 0.0371013794768104 and parameters: {'topK': 481, 'shrink': 474, 'similarity': 'tversky', 'feature_weighting': 'BM25', 'tversky_alpha': 0.4955785248962457, 'tversky_beta': 1.6354673284850125}. Best is trial 155 with value: 0.046581605002368756.\n"
     ]
    },
    {
     "name": "stdout",
     "output_type": "stream",
     "text": [
      "ItemKNNCFRecommender: URM Detected 627 ( 4.8%) users with no interactions.\n",
      "ItemKNNCFRecommender: URM Detected 247 ( 1.1%) items with no interactions.\n",
      "Similarity column 22347 (100.0%), 4560.44 column/sec. Elapsed time 4.90 sec\n",
      "EvaluatorHoldout: Processed 10456 (100.0%) in 11.47 sec. Users per second: 911\n"
     ]
    },
    {
     "name": "stderr",
     "output_type": "stream",
     "text": [
      "[I 2023-12-09 11:36:16,025] Trial 165 finished with value: 0.044049068811406814 and parameters: {'topK': 52, 'shrink': 498, 'similarity': 'tversky', 'feature_weighting': 'BM25', 'tversky_alpha': 0.5852668263400359, 'tversky_beta': 1.5879452393538442}. Best is trial 155 with value: 0.046581605002368756.\n"
     ]
    },
    {
     "name": "stdout",
     "output_type": "stream",
     "text": [
      "ItemKNNCFRecommender: URM Detected 627 ( 4.8%) users with no interactions.\n",
      "ItemKNNCFRecommender: URM Detected 247 ( 1.1%) items with no interactions.\n",
      "Similarity column 22347 (100.0%), 4547.31 column/sec. Elapsed time 4.91 sec\n",
      "EvaluatorHoldout: Processed 10456 (100.0%) in 10.73 sec. Users per second: 974\n"
     ]
    },
    {
     "name": "stderr",
     "output_type": "stream",
     "text": [
      "[I 2023-12-09 11:36:32,081] Trial 166 finished with value: 0.04469292333102655 and parameters: {'topK': 31, 'shrink': 469, 'similarity': 'tversky', 'feature_weighting': 'BM25', 'tversky_alpha': 0.40323464854470575, 'tversky_beta': 1.5460403074428697}. Best is trial 155 with value: 0.046581605002368756.\n"
     ]
    },
    {
     "name": "stdout",
     "output_type": "stream",
     "text": [
      "ItemKNNCFRecommender: URM Detected 627 ( 4.8%) users with no interactions.\n",
      "ItemKNNCFRecommender: URM Detected 247 ( 1.1%) items with no interactions.\n",
      "Similarity column 22347 (100.0%), 4559.11 column/sec. Elapsed time 4.90 sec\n",
      "EvaluatorHoldout: Processed 10456 (100.0%) in 11.87 sec. Users per second: 881\n"
     ]
    },
    {
     "name": "stderr",
     "output_type": "stream",
     "text": [
      "[I 2023-12-09 11:36:49,301] Trial 167 finished with value: 0.04328774167790109 and parameters: {'topK': 77, 'shrink': 452, 'similarity': 'tversky', 'feature_weighting': 'BM25', 'tversky_alpha': 0.6285216897019732, 'tversky_beta': 1.7169715131937566}. Best is trial 155 with value: 0.046581605002368756.\n"
     ]
    },
    {
     "name": "stdout",
     "output_type": "stream",
     "text": [
      "ItemKNNCFRecommender: URM Detected 627 ( 4.8%) users with no interactions.\n",
      "ItemKNNCFRecommender: URM Detected 247 ( 1.1%) items with no interactions.\n",
      "Similarity column 22347 (100.0%), 4306.86 column/sec. Elapsed time 5.19 sec\n",
      "EvaluatorHoldout: Processed 10456 (100.0%) in 9.39 sec. Users per second: 1114\n"
     ]
    },
    {
     "name": "stderr",
     "output_type": "stream",
     "text": [
      "[I 2023-12-09 11:37:04,158] Trial 168 finished with value: 0.02276291959655579 and parameters: {'topK': 49, 'shrink': 483, 'similarity': 'cosine', 'feature_weighting': 'BM25'}. Best is trial 155 with value: 0.046581605002368756.\n"
     ]
    },
    {
     "name": "stdout",
     "output_type": "stream",
     "text": [
      "ItemKNNCFRecommender: URM Detected 627 ( 4.8%) users with no interactions.\n",
      "ItemKNNCFRecommender: URM Detected 247 ( 1.1%) items with no interactions.\n",
      "Similarity column 22347 (100.0%), 4630.05 column/sec. Elapsed time 4.83 sec\n",
      "EvaluatorHoldout: Processed 10456 (100.0%) in 9.63 sec. Users per second: 1086\n"
     ]
    },
    {
     "name": "stderr",
     "output_type": "stream",
     "text": [
      "[I 2023-12-09 11:37:19,015] Trial 169 finished with value: 0.046358531138801465 and parameters: {'topK': 11, 'shrink': 498, 'similarity': 'tversky', 'feature_weighting': 'BM25', 'tversky_alpha': 0.4697320955068711, 'tversky_beta': 1.6076930772477507}. Best is trial 155 with value: 0.046581605002368756.\n"
     ]
    },
    {
     "name": "stdout",
     "output_type": "stream",
     "text": [
      "ItemKNNCFRecommender: URM Detected 627 ( 4.8%) users with no interactions.\n",
      "ItemKNNCFRecommender: URM Detected 247 ( 1.1%) items with no interactions.\n",
      "Similarity column 22347 (100.0%), 4534.56 column/sec. Elapsed time 4.93 sec\n",
      "EvaluatorHoldout: Processed 10456 (100.0%) in 10.71 sec. Users per second: 976\n"
     ]
    },
    {
     "name": "stderr",
     "output_type": "stream",
     "text": [
      "[I 2023-12-09 11:37:35,060] Trial 170 finished with value: 0.04483715585188489 and parameters: {'topK': 30, 'shrink': 499, 'similarity': 'tversky', 'feature_weighting': 'BM25', 'tversky_alpha': 0.4774241439887511, 'tversky_beta': 1.625726802414892}. Best is trial 155 with value: 0.046581605002368756.\n"
     ]
    },
    {
     "name": "stdout",
     "output_type": "stream",
     "text": [
      "ItemKNNCFRecommender: URM Detected 627 ( 4.8%) users with no interactions.\n",
      "ItemKNNCFRecommender: URM Detected 247 ( 1.1%) items with no interactions.\n",
      "Similarity column 22347 (100.0%), 4612.96 column/sec. Elapsed time 4.84 sec\n",
      "EvaluatorHoldout: Processed 10456 (100.0%) in 9.55 sec. Users per second: 1095\n"
     ]
    },
    {
     "name": "stderr",
     "output_type": "stream",
     "text": [
      "[I 2023-12-09 11:37:49,847] Trial 171 finished with value: 0.04642447641515219 and parameters: {'topK': 10, 'shrink': 481, 'similarity': 'tversky', 'feature_weighting': 'BM25', 'tversky_alpha': 0.4981542638702329, 'tversky_beta': 1.568898301343814}. Best is trial 155 with value: 0.046581605002368756.\n"
     ]
    },
    {
     "name": "stdout",
     "output_type": "stream",
     "text": [
      "ItemKNNCFRecommender: URM Detected 627 ( 4.8%) users with no interactions.\n",
      "ItemKNNCFRecommender: URM Detected 247 ( 1.1%) items with no interactions.\n",
      "Similarity column 22347 (100.0%), 4582.46 column/sec. Elapsed time 4.88 sec\n",
      "EvaluatorHoldout: Processed 10456 (100.0%) in 10.65 sec. Users per second: 982\n"
     ]
    },
    {
     "name": "stderr",
     "output_type": "stream",
     "text": [
      "[I 2023-12-09 11:38:05,778] Trial 172 finished with value: 0.04469948522000041 and parameters: {'topK': 31, 'shrink': 477, 'similarity': 'tversky', 'feature_weighting': 'BM25', 'tversky_alpha': 0.45228295971381427, 'tversky_beta': 1.581281625781776}. Best is trial 155 with value: 0.046581605002368756.\n"
     ]
    },
    {
     "name": "stdout",
     "output_type": "stream",
     "text": [
      "ItemKNNCFRecommender: URM Detected 627 ( 4.8%) users with no interactions.\n",
      "ItemKNNCFRecommender: URM Detected 247 ( 1.1%) items with no interactions.\n",
      "Similarity column 22347 (100.0%), 4615.81 column/sec. Elapsed time 4.84 sec\n",
      "EvaluatorHoldout: Processed 10456 (100.0%) in 9.68 sec. Users per second: 1080\n"
     ]
    },
    {
     "name": "stderr",
     "output_type": "stream",
     "text": [
      "[I 2023-12-09 11:38:20,703] Trial 173 finished with value: 0.04615080503637379 and parameters: {'topK': 12, 'shrink': 464, 'similarity': 'tversky', 'feature_weighting': 'BM25', 'tversky_alpha': 0.5017887918225827, 'tversky_beta': 1.6405981974891701}. Best is trial 155 with value: 0.046581605002368756.\n"
     ]
    },
    {
     "name": "stdout",
     "output_type": "stream",
     "text": [
      "ItemKNNCFRecommender: URM Detected 627 ( 4.8%) users with no interactions.\n",
      "ItemKNNCFRecommender: URM Detected 247 ( 1.1%) items with no interactions.\n",
      "Similarity column 22347 (100.0%), 4570.60 column/sec. Elapsed time 4.89 sec\n",
      "EvaluatorHoldout: Processed 10456 (100.0%) in 9.51 sec. Users per second: 1099\n"
     ]
    },
    {
     "name": "stderr",
     "output_type": "stream",
     "text": [
      "[I 2023-12-09 11:38:35,504] Trial 174 finished with value: 0.046412009205621 and parameters: {'topK': 10, 'shrink': 457, 'similarity': 'tversky', 'feature_weighting': 'BM25', 'tversky_alpha': 0.4971341536772978, 'tversky_beta': 1.6519117774404712}. Best is trial 155 with value: 0.046581605002368756.\n"
     ]
    },
    {
     "name": "stdout",
     "output_type": "stream",
     "text": [
      "ItemKNNCFRecommender: URM Detected 627 ( 4.8%) users with no interactions.\n",
      "ItemKNNCFRecommender: URM Detected 247 ( 1.1%) items with no interactions.\n",
      "Similarity column 22347 (100.0%), 4556.15 column/sec. Elapsed time 4.90 sec\n",
      "EvaluatorHoldout: Processed 10456 (100.0%) in 11.38 sec. Users per second: 919\n"
     ]
    },
    {
     "name": "stderr",
     "output_type": "stream",
     "text": [
      "[I 2023-12-09 11:38:52,180] Trial 175 finished with value: 0.03560913229739782 and parameters: {'topK': 55, 'shrink': 459, 'similarity': 'tversky', 'feature_weighting': 'none', 'tversky_alpha': 0.5014430110993328, 'tversky_beta': 1.7127549579677948}. Best is trial 155 with value: 0.046581605002368756.\n"
     ]
    },
    {
     "name": "stdout",
     "output_type": "stream",
     "text": [
      "ItemKNNCFRecommender: URM Detected 627 ( 4.8%) users with no interactions.\n",
      "ItemKNNCFRecommender: URM Detected 247 ( 1.1%) items with no interactions.\n",
      "Similarity column 22347 (100.0%), 4523.31 column/sec. Elapsed time 4.94 sec\n",
      "EvaluatorHoldout: Processed 10456 (100.0%) in 10.71 sec. Users per second: 976\n"
     ]
    },
    {
     "name": "stderr",
     "output_type": "stream",
     "text": [
      "[I 2023-12-09 11:39:08,250] Trial 176 finished with value: 0.0442720136384067 and parameters: {'topK': 36, 'shrink': 439, 'similarity': 'tversky', 'feature_weighting': 'BM25', 'tversky_alpha': 0.40583962710310223, 'tversky_beta': 1.6509058571980355}. Best is trial 155 with value: 0.046581605002368756.\n"
     ]
    },
    {
     "name": "stdout",
     "output_type": "stream",
     "text": [
      "ItemKNNCFRecommender: URM Detected 627 ( 4.8%) users with no interactions.\n",
      "ItemKNNCFRecommender: URM Detected 247 ( 1.1%) items with no interactions.\n",
      "Similarity column 22347 (100.0%), 860.93 column/sec. Elapsed time 25.96 sec\n",
      "EvaluatorHoldout: Processed 10456 (100.0%) in 9.53 sec. Users per second: 1097\n"
     ]
    },
    {
     "name": "stderr",
     "output_type": "stream",
     "text": [
      "[I 2023-12-09 11:39:44,054] Trial 177 finished with value: 0.017125258832173494 and parameters: {'topK': 67, 'shrink': 461, 'similarity': 'euclidean', 'feature_weighting': 'BM25', 'normalize_avg_row': False, 'similarity_from_distance_mode': 'log', 'normalize': True}. Best is trial 155 with value: 0.046581605002368756.\n"
     ]
    },
    {
     "name": "stdout",
     "output_type": "stream",
     "text": [
      "ItemKNNCFRecommender: URM Detected 627 ( 4.8%) users with no interactions.\n",
      "ItemKNNCFRecommender: URM Detected 247 ( 1.1%) items with no interactions.\n",
      "Similarity column 22347 (100.0%), 4623.27 column/sec. Elapsed time 4.83 sec\n",
      "EvaluatorHoldout: Processed 10456 (100.0%) in 9.68 sec. Users per second: 1080\n"
     ]
    },
    {
     "name": "stderr",
     "output_type": "stream",
     "text": [
      "[I 2023-12-09 11:39:58,970] Trial 178 finished with value: 0.04635524829671792 and parameters: {'topK': 11, 'shrink': 468, 'similarity': 'tversky', 'feature_weighting': 'BM25', 'tversky_alpha': 0.45235619995865917, 'tversky_beta': 1.6189676622896958}. Best is trial 155 with value: 0.046581605002368756.\n"
     ]
    },
    {
     "name": "stdout",
     "output_type": "stream",
     "text": [
      "ItemKNNCFRecommender: URM Detected 627 ( 4.8%) users with no interactions.\n",
      "ItemKNNCFRecommender: URM Detected 247 ( 1.1%) items with no interactions.\n",
      "Similarity column 22347 (100.0%), 4488.39 column/sec. Elapsed time 4.98 sec\n",
      "EvaluatorHoldout: Processed 10456 (100.0%) in 9.40 sec. Users per second: 1112\n"
     ]
    },
    {
     "name": "stderr",
     "output_type": "stream",
     "text": [
      "[I 2023-12-09 11:40:13,655] Trial 179 finished with value: 0.0204709796759816 and parameters: {'topK': 43, 'shrink': 452, 'similarity': 'asymmetric', 'feature_weighting': 'BM25', 'asymmetric_alpha': 1.4994070999577942}. Best is trial 155 with value: 0.046581605002368756.\n"
     ]
    },
    {
     "name": "stdout",
     "output_type": "stream",
     "text": [
      "ItemKNNCFRecommender: URM Detected 627 ( 4.8%) users with no interactions.\n",
      "ItemKNNCFRecommender: URM Detected 247 ( 1.1%) items with no interactions.\n",
      "Similarity column 22347 (100.0%), 4582.02 column/sec. Elapsed time 4.88 sec\n",
      "EvaluatorHoldout: Processed 10456 (100.0%) in 9.51 sec. Users per second: 1100\n"
     ]
    },
    {
     "name": "stderr",
     "output_type": "stream",
     "text": [
      "[I 2023-12-09 11:40:28,429] Trial 180 finished with value: 0.04659445932160221 and parameters: {'topK': 10, 'shrink': 469, 'similarity': 'tversky', 'feature_weighting': 'BM25', 'tversky_alpha': 0.37127033095019424, 'tversky_beta': 1.619424196083655}. Best is trial 180 with value: 0.04659445932160221.\n"
     ]
    },
    {
     "name": "stdout",
     "output_type": "stream",
     "text": [
      "ItemKNNCFRecommender: URM Detected 627 ( 4.8%) users with no interactions.\n",
      "ItemKNNCFRecommender: URM Detected 247 ( 1.1%) items with no interactions.\n",
      "Similarity column 22347 (100.0%), 4555.83 column/sec. Elapsed time 4.91 sec\n",
      "EvaluatorHoldout: Processed 10456 (100.0%) in 10.55 sec. Users per second: 991\n"
     ]
    },
    {
     "name": "stderr",
     "output_type": "stream",
     "text": [
      "[I 2023-12-09 11:40:44,296] Trial 181 finished with value: 0.044644527027848255 and parameters: {'topK': 30, 'shrink': 467, 'similarity': 'tversky', 'feature_weighting': 'BM25', 'tversky_alpha': 0.44689251097106936, 'tversky_beta': 1.6267567525712203}. Best is trial 180 with value: 0.04659445932160221.\n"
     ]
    },
    {
     "name": "stdout",
     "output_type": "stream",
     "text": [
      "ItemKNNCFRecommender: URM Detected 627 ( 4.8%) users with no interactions.\n",
      "ItemKNNCFRecommender: URM Detected 247 ( 1.1%) items with no interactions.\n",
      "Similarity column 22347 (100.0%), 4614.77 column/sec. Elapsed time 4.84 sec\n",
      "EvaluatorHoldout: Processed 10456 (100.0%) in 9.71 sec. Users per second: 1077\n"
     ]
    },
    {
     "name": "stderr",
     "output_type": "stream",
     "text": [
      "[I 2023-12-09 11:40:59,248] Trial 182 finished with value: 0.04664752750756058 and parameters: {'topK': 10, 'shrink': 481, 'similarity': 'tversky', 'feature_weighting': 'BM25', 'tversky_alpha': 0.3741975935002836, 'tversky_beta': 1.6806120752135794}. Best is trial 182 with value: 0.04664752750756058.\n"
     ]
    },
    {
     "name": "stdout",
     "output_type": "stream",
     "text": [
      "ItemKNNCFRecommender: URM Detected 627 ( 4.8%) users with no interactions.\n",
      "ItemKNNCFRecommender: URM Detected 247 ( 1.1%) items with no interactions.\n",
      "Similarity column 22347 (100.0%), 4301.39 column/sec. Elapsed time 5.20 sec\n",
      "EvaluatorHoldout: Processed 10456 (100.0%) in 17.66 sec. Users per second: 592\n"
     ]
    },
    {
     "name": "stderr",
     "output_type": "stream",
     "text": [
      "[I 2023-12-09 11:41:22,864] Trial 183 finished with value: 0.03449497744137231 and parameters: {'topK': 594, 'shrink': 482, 'similarity': 'tversky', 'feature_weighting': 'BM25', 'tversky_alpha': 0.36157503524899576, 'tversky_beta': 1.7191137509468974}. Best is trial 182 with value: 0.04664752750756058.\n"
     ]
    },
    {
     "name": "stdout",
     "output_type": "stream",
     "text": [
      "ItemKNNCFRecommender: URM Detected 627 ( 4.8%) users with no interactions.\n",
      "ItemKNNCFRecommender: URM Detected 247 ( 1.1%) items with no interactions.\n",
      "Similarity column 22347 (100.0%), 4568.69 column/sec. Elapsed time 4.89 sec\n",
      "EvaluatorHoldout: Processed 10456 (100.0%) in 10.66 sec. Users per second: 981\n"
     ]
    },
    {
     "name": "stderr",
     "output_type": "stream",
     "text": [
      "[I 2023-12-09 11:41:38,832] Trial 184 finished with value: 0.04497186623310437 and parameters: {'topK': 30, 'shrink': 480, 'similarity': 'tversky', 'feature_weighting': 'BM25', 'tversky_alpha': 0.2945127753092088, 'tversky_beta': 1.6867074750916549}. Best is trial 182 with value: 0.04664752750756058.\n"
     ]
    },
    {
     "name": "stdout",
     "output_type": "stream",
     "text": [
      "ItemKNNCFRecommender: URM Detected 627 ( 4.8%) users with no interactions.\n",
      "ItemKNNCFRecommender: URM Detected 247 ( 1.1%) items with no interactions.\n",
      "Similarity column 22347 (100.0%), 4583.90 column/sec. Elapsed time 4.88 sec\n",
      "EvaluatorHoldout: Processed 10456 (100.0%) in 11.51 sec. Users per second: 909\n"
     ]
    },
    {
     "name": "stderr",
     "output_type": "stream",
     "text": [
      "[I 2023-12-09 11:41:55,663] Trial 185 finished with value: 0.04401087019224991 and parameters: {'topK': 55, 'shrink': 430, 'similarity': 'tversky', 'feature_weighting': 'BM25', 'tversky_alpha': 0.39346188459930737, 'tversky_beta': 1.536066096061203}. Best is trial 182 with value: 0.04664752750756058.\n"
     ]
    },
    {
     "name": "stdout",
     "output_type": "stream",
     "text": [
      "ItemKNNCFRecommender: URM Detected 627 ( 4.8%) users with no interactions.\n",
      "ItemKNNCFRecommender: URM Detected 247 ( 1.1%) items with no interactions.\n",
      "Similarity column 22347 (100.0%), 4600.03 column/sec. Elapsed time 4.86 sec\n",
      "EvaluatorHoldout: Processed 10456 (100.0%) in 9.69 sec. Users per second: 1079\n"
     ]
    },
    {
     "name": "stderr",
     "output_type": "stream",
     "text": [
      "[I 2023-12-09 11:42:10,619] Trial 186 finished with value: 0.046589760872469965 and parameters: {'topK': 11, 'shrink': 471, 'similarity': 'tversky', 'feature_weighting': 'BM25', 'tversky_alpha': 0.2936976176034093, 'tversky_beta': 1.5976964998004148}. Best is trial 182 with value: 0.04664752750756058.\n"
     ]
    },
    {
     "name": "stdout",
     "output_type": "stream",
     "text": [
      "ItemKNNCFRecommender: URM Detected 627 ( 4.8%) users with no interactions.\n",
      "ItemKNNCFRecommender: URM Detected 247 ( 1.1%) items with no interactions.\n",
      "Similarity column 22347 (100.0%), 4606.68 column/sec. Elapsed time 4.85 sec\n",
      "EvaluatorHoldout: Processed 10456 (100.0%) in 11.29 sec. Users per second: 926\n"
     ]
    },
    {
     "name": "stderr",
     "output_type": "stream",
     "text": [
      "[I 2023-12-09 11:42:27,193] Trial 187 finished with value: 0.035039048742425166 and parameters: {'topK': 46, 'shrink': 472, 'similarity': 'tversky', 'feature_weighting': 'TF-IDF', 'tversky_alpha': 0.288288701804451, 'tversky_beta': 1.587363414567491}. Best is trial 182 with value: 0.04664752750756058.\n"
     ]
    },
    {
     "name": "stdout",
     "output_type": "stream",
     "text": [
      "ItemKNNCFRecommender: URM Detected 627 ( 4.8%) users with no interactions.\n",
      "ItemKNNCFRecommender: URM Detected 247 ( 1.1%) items with no interactions.\n",
      "Similarity column 22347 (100.0%), 4556.73 column/sec. Elapsed time 4.90 sec\n",
      "EvaluatorHoldout: Processed 10456 (100.0%) in 12.46 sec. Users per second: 839\n"
     ]
    },
    {
     "name": "stderr",
     "output_type": "stream",
     "text": [
      "[I 2023-12-09 11:42:45,038] Trial 188 finished with value: 0.04322397104723099 and parameters: {'topK': 86, 'shrink': 488, 'similarity': 'tversky', 'feature_weighting': 'BM25', 'tversky_alpha': 0.3734784436837963, 'tversky_beta': 1.661731197884913}. Best is trial 182 with value: 0.04664752750756058.\n"
     ]
    },
    {
     "name": "stdout",
     "output_type": "stream",
     "text": [
      "ItemKNNCFRecommender: URM Detected 627 ( 4.8%) users with no interactions.\n",
      "ItemKNNCFRecommender: URM Detected 247 ( 1.1%) items with no interactions.\n",
      "Similarity column 22347 (100.0%), 4558.81 column/sec. Elapsed time 4.90 sec\n",
      "EvaluatorHoldout: Processed 10456 (100.0%) in 10.50 sec. Users per second: 995\n"
     ]
    },
    {
     "name": "stderr",
     "output_type": "stream",
     "text": [
      "[I 2023-12-09 11:43:00,862] Trial 189 finished with value: 0.04510096731883338 and parameters: {'topK': 25, 'shrink': 484, 'similarity': 'tversky', 'feature_weighting': 'BM25', 'tversky_alpha': 0.43260522156552245, 'tversky_beta': 1.6023108277948923}. Best is trial 182 with value: 0.04664752750756058.\n"
     ]
    },
    {
     "name": "stdout",
     "output_type": "stream",
     "text": [
      "ItemKNNCFRecommender: URM Detected 627 ( 4.8%) users with no interactions.\n",
      "ItemKNNCFRecommender: URM Detected 247 ( 1.1%) items with no interactions.\n",
      "Similarity column 22347 (100.0%), 4581.98 column/sec. Elapsed time 4.88 sec\n",
      "EvaluatorHoldout: Processed 10456 (100.0%) in 11.69 sec. Users per second: 895\n"
     ]
    },
    {
     "name": "stderr",
     "output_type": "stream",
     "text": [
      "[I 2023-12-09 11:43:17,885] Trial 190 finished with value: 0.044035170814054385 and parameters: {'topK': 59, 'shrink': 473, 'similarity': 'tversky', 'feature_weighting': 'BM25', 'tversky_alpha': 0.27735425099139627, 'tversky_beta': 1.5516663912422037}. Best is trial 182 with value: 0.04664752750756058.\n"
     ]
    },
    {
     "name": "stdout",
     "output_type": "stream",
     "text": [
      "ItemKNNCFRecommender: URM Detected 627 ( 4.8%) users with no interactions.\n",
      "ItemKNNCFRecommender: URM Detected 247 ( 1.1%) items with no interactions.\n",
      "Similarity column 22347 (100.0%), 4613.10 column/sec. Elapsed time 4.84 sec\n",
      "EvaluatorHoldout: Processed 10456 (100.0%) in 9.02 sec. Users per second: 1159\n"
     ]
    },
    {
     "name": "stderr",
     "output_type": "stream",
     "text": [
      "[I 2023-12-09 11:43:32,153] Trial 191 finished with value: 0.04198750091084686 and parameters: {'topK': 10, 'shrink': 103, 'similarity': 'tversky', 'feature_weighting': 'BM25', 'tversky_alpha': 0.4691997008791352, 'tversky_beta': 1.5010127795987682}. Best is trial 182 with value: 0.04664752750756058.\n"
     ]
    },
    {
     "name": "stdout",
     "output_type": "stream",
     "text": [
      "ItemKNNCFRecommender: URM Detected 627 ( 4.8%) users with no interactions.\n",
      "ItemKNNCFRecommender: URM Detected 247 ( 1.1%) items with no interactions.\n",
      "Similarity column 22347 (100.0%), 4614.16 column/sec. Elapsed time 4.84 sec\n",
      "EvaluatorHoldout: Processed 10456 (100.0%) in 9.56 sec. Users per second: 1094\n"
     ]
    },
    {
     "name": "stderr",
     "output_type": "stream",
     "text": [
      "[I 2023-12-09 11:43:46,955] Trial 192 finished with value: 0.04637506679540017 and parameters: {'topK': 10, 'shrink': 447, 'similarity': 'tversky', 'feature_weighting': 'BM25', 'tversky_alpha': 0.5128649953385994, 'tversky_beta': 1.5443808923464866}. Best is trial 182 with value: 0.04664752750756058.\n"
     ]
    },
    {
     "name": "stdout",
     "output_type": "stream",
     "text": [
      "ItemKNNCFRecommender: URM Detected 627 ( 4.8%) users with no interactions.\n",
      "ItemKNNCFRecommender: URM Detected 247 ( 1.1%) items with no interactions.\n",
      "Similarity column 22347 (100.0%), 4595.64 column/sec. Elapsed time 4.86 sec\n",
      "EvaluatorHoldout: Processed 10456 (100.0%) in 9.59 sec. Users per second: 1090\n"
     ]
    },
    {
     "name": "stderr",
     "output_type": "stream",
     "text": [
      "[I 2023-12-09 11:44:01,809] Trial 193 finished with value: 0.046500945762136155 and parameters: {'topK': 10, 'shrink': 444, 'similarity': 'tversky', 'feature_weighting': 'BM25', 'tversky_alpha': 0.40055682985091395, 'tversky_beta': 1.6107039911559142}. Best is trial 182 with value: 0.04664752750756058.\n"
     ]
    },
    {
     "name": "stdout",
     "output_type": "stream",
     "text": [
      "ItemKNNCFRecommender: URM Detected 627 ( 4.8%) users with no interactions.\n",
      "ItemKNNCFRecommender: URM Detected 247 ( 1.1%) items with no interactions.\n",
      "Similarity column 22347 (100.0%), 4615.12 column/sec. Elapsed time 4.84 sec\n",
      "EvaluatorHoldout: Processed 10456 (100.0%) in 10.75 sec. Users per second: 973\n"
     ]
    },
    {
     "name": "stderr",
     "output_type": "stream",
     "text": [
      "[I 2023-12-09 11:44:17,811] Trial 194 finished with value: 0.04429856860494831 and parameters: {'topK': 33, 'shrink': 440, 'similarity': 'tversky', 'feature_weighting': 'BM25', 'tversky_alpha': 0.41745428763161097, 'tversky_beta': 1.6088682960589624}. Best is trial 182 with value: 0.04664752750756058.\n"
     ]
    },
    {
     "name": "stdout",
     "output_type": "stream",
     "text": [
      "ItemKNNCFRecommender: URM Detected 627 ( 4.8%) users with no interactions.\n",
      "ItemKNNCFRecommender: URM Detected 247 ( 1.1%) items with no interactions.\n",
      "Similarity column 22347 (100.0%), 4634.95 column/sec. Elapsed time 4.82 sec\n",
      "EvaluatorHoldout: Processed 10456 (100.0%) in 9.62 sec. Users per second: 1087\n"
     ]
    },
    {
     "name": "stderr",
     "output_type": "stream",
     "text": [
      "[I 2023-12-09 11:44:32,649] Trial 195 finished with value: 0.046383165737604024 and parameters: {'topK': 10, 'shrink': 457, 'similarity': 'tversky', 'feature_weighting': 'BM25', 'tversky_alpha': 0.4685288673464387, 'tversky_beta': 1.7399013147041358}. Best is trial 182 with value: 0.04664752750756058.\n"
     ]
    },
    {
     "name": "stdout",
     "output_type": "stream",
     "text": [
      "ItemKNNCFRecommender: URM Detected 627 ( 4.8%) users with no interactions.\n",
      "ItemKNNCFRecommender: URM Detected 247 ( 1.1%) items with no interactions.\n",
      "Similarity column 22347 (100.0%), 5007.27 column/sec. Elapsed time 4.46 sec\n",
      "EvaluatorHoldout: Processed 10456 (100.0%) in 11.28 sec. Users per second: 927\n"
     ]
    },
    {
     "name": "stderr",
     "output_type": "stream",
     "text": [
      "[I 2023-12-09 11:44:48,765] Trial 196 finished with value: 0.04357847624512754 and parameters: {'topK': 31, 'shrink': 458, 'similarity': 'tanimoto', 'feature_weighting': 'BM25'}. Best is trial 182 with value: 0.04664752750756058.\n"
     ]
    },
    {
     "name": "stdout",
     "output_type": "stream",
     "text": [
      "ItemKNNCFRecommender: URM Detected 627 ( 4.8%) users with no interactions.\n",
      "ItemKNNCFRecommender: URM Detected 247 ( 1.1%) items with no interactions.\n",
      "Similarity column 22347 (100.0%), 4595.57 column/sec. Elapsed time 4.86 sec\n",
      "EvaluatorHoldout: Processed 10456 (100.0%) in 11.11 sec. Users per second: 941\n"
     ]
    },
    {
     "name": "stderr",
     "output_type": "stream",
     "text": [
      "[I 2023-12-09 11:45:05,162] Trial 197 finished with value: 0.044234137610668335 and parameters: {'topK': 44, 'shrink': 447, 'similarity': 'tversky', 'feature_weighting': 'BM25', 'tversky_alpha': 0.36331945805396554, 'tversky_beta': 1.7510564760434304}. Best is trial 182 with value: 0.04664752750756058.\n"
     ]
    },
    {
     "name": "stdout",
     "output_type": "stream",
     "text": [
      "ItemKNNCFRecommender: URM Detected 627 ( 4.8%) users with no interactions.\n",
      "ItemKNNCFRecommender: URM Detected 247 ( 1.1%) items with no interactions.\n",
      "Similarity column 22347 (100.0%), 4275.73 column/sec. Elapsed time 5.23 sec\n",
      "EvaluatorHoldout: Processed 10456 (100.0%) in 19.47 sec. Users per second: 537\n"
     ]
    },
    {
     "name": "stderr",
     "output_type": "stream",
     "text": [
      "[I 2023-12-09 11:45:30,750] Trial 198 finished with value: 0.03371450735356673 and parameters: {'topK': 934, 'shrink': 445, 'similarity': 'tversky', 'feature_weighting': 'BM25', 'tversky_alpha': 0.45837464071733364, 'tversky_beta': 1.6580769532767647}. Best is trial 182 with value: 0.04664752750756058.\n"
     ]
    },
    {
     "name": "stdout",
     "output_type": "stream",
     "text": [
      "ItemKNNCFRecommender: URM Detected 627 ( 4.8%) users with no interactions.\n",
      "ItemKNNCFRecommender: URM Detected 247 ( 1.1%) items with no interactions.\n",
      "Similarity column 22347 (100.0%), 4618.13 column/sec. Elapsed time 4.84 sec\n",
      "EvaluatorHoldout: Processed 10456 (100.0%) in 10.44 sec. Users per second: 1001\n"
     ]
    },
    {
     "name": "stderr",
     "output_type": "stream",
     "text": [
      "[I 2023-12-09 11:45:46,452] Trial 199 finished with value: 0.04496790405144529 and parameters: {'topK': 27, 'shrink': 463, 'similarity': 'tversky', 'feature_weighting': 'BM25', 'tversky_alpha': 0.4230674238217851, 'tversky_beta': 1.697973240535607}. Best is trial 182 with value: 0.04664752750756058.\n"
     ]
    },
    {
     "name": "stdout",
     "output_type": "stream",
     "text": [
      "ItemKNNCFRecommender: URM Detected 627 ( 4.8%) users with no interactions.\n",
      "ItemKNNCFRecommender: URM Detected 247 ( 1.1%) items with no interactions.\n",
      "Similarity column 22347 (100.0%), 4573.28 column/sec. Elapsed time 4.89 sec\n",
      "EvaluatorHoldout: Processed 10456 (100.0%) in 11.42 sec. Users per second: 916\n"
     ]
    },
    {
     "name": "stderr",
     "output_type": "stream",
     "text": [
      "[I 2023-12-09 11:46:03,191] Trial 200 finished with value: 0.04379301092408455 and parameters: {'topK': 62, 'shrink': 428, 'similarity': 'tversky', 'feature_weighting': 'BM25', 'tversky_alpha': 0.5033542919322286, 'tversky_beta': 1.6182665664787625}. Best is trial 182 with value: 0.04664752750756058.\n"
     ]
    },
    {
     "name": "stdout",
     "output_type": "stream",
     "text": [
      "ItemKNNCFRecommender: URM Detected 627 ( 4.8%) users with no interactions.\n",
      "ItemKNNCFRecommender: URM Detected 247 ( 1.1%) items with no interactions.\n",
      "Similarity column 22347 (100.0%), 4559.53 column/sec. Elapsed time 4.90 sec\n",
      "EvaluatorHoldout: Processed 10456 (100.0%) in 10.52 sec. Users per second: 994\n"
     ]
    },
    {
     "name": "stderr",
     "output_type": "stream",
     "text": [
      "[I 2023-12-09 11:46:19,031] Trial 201 finished with value: 0.044906592705943174 and parameters: {'topK': 26, 'shrink': 471, 'similarity': 'tversky', 'feature_weighting': 'BM25', 'tversky_alpha': 0.488082322244211, 'tversky_beta': 1.568729557028997}. Best is trial 182 with value: 0.04664752750756058.\n"
     ]
    },
    {
     "name": "stdout",
     "output_type": "stream",
     "text": [
      "ItemKNNCFRecommender: URM Detected 627 ( 4.8%) users with no interactions.\n",
      "ItemKNNCFRecommender: URM Detected 247 ( 1.1%) items with no interactions.\n",
      "Similarity column 22347 (100.0%), 4613.02 column/sec. Elapsed time 4.84 sec\n",
      "EvaluatorHoldout: Processed 10456 (100.0%) in 9.78 sec. Users per second: 1070\n"
     ]
    },
    {
     "name": "stderr",
     "output_type": "stream",
     "text": [
      "[I 2023-12-09 11:46:34,068] Trial 202 finished with value: 0.045944467974642696 and parameters: {'topK': 13, 'shrink': 479, 'similarity': 'tversky', 'feature_weighting': 'BM25', 'tversky_alpha': 0.39391823211902255, 'tversky_beta': 1.6698904779586852}. Best is trial 182 with value: 0.04664752750756058.\n"
     ]
    },
    {
     "name": "stdout",
     "output_type": "stream",
     "text": [
      "ItemKNNCFRecommender: URM Detected 627 ( 4.8%) users with no interactions.\n",
      "ItemKNNCFRecommender: URM Detected 247 ( 1.1%) items with no interactions.\n",
      "Similarity column 22347 (100.0%), 4575.90 column/sec. Elapsed time 4.88 sec\n",
      "EvaluatorHoldout: Processed 10456 (100.0%) in 9.77 sec. Users per second: 1070\n"
     ]
    },
    {
     "name": "stderr",
     "output_type": "stream",
     "text": [
      "[I 2023-12-09 11:46:49,132] Trial 203 finished with value: 0.04613675902648804 and parameters: {'topK': 11, 'shrink': 461, 'similarity': 'tversky', 'feature_weighting': 'BM25', 'tversky_alpha': 0.5717965034688739, 'tversky_beta': 1.5466459375972479}. Best is trial 182 with value: 0.04664752750756058.\n"
     ]
    },
    {
     "name": "stdout",
     "output_type": "stream",
     "text": [
      "ItemKNNCFRecommender: URM Detected 627 ( 4.8%) users with no interactions.\n",
      "ItemKNNCFRecommender: URM Detected 247 ( 1.1%) items with no interactions.\n",
      "Similarity column 22347 (100.0%), 4595.39 column/sec. Elapsed time 4.86 sec\n",
      "EvaluatorHoldout: Processed 10456 (100.0%) in 9.70 sec. Users per second: 1078\n"
     ]
    },
    {
     "name": "stderr",
     "output_type": "stream",
     "text": [
      "[I 2023-12-09 11:47:04,111] Trial 204 finished with value: 0.046554473166466846 and parameters: {'topK': 10, 'shrink': 490, 'similarity': 'tversky', 'feature_weighting': 'BM25', 'tversky_alpha': 0.4630051364785958, 'tversky_beta': 1.4974889956682371}. Best is trial 182 with value: 0.04664752750756058.\n"
     ]
    },
    {
     "name": "stdout",
     "output_type": "stream",
     "text": [
      "ItemKNNCFRecommender: URM Detected 627 ( 4.8%) users with no interactions.\n",
      "ItemKNNCFRecommender: URM Detected 247 ( 1.1%) items with no interactions.\n",
      "Similarity column 22347 (100.0%), 4562.89 column/sec. Elapsed time 4.90 sec\n",
      "EvaluatorHoldout: Processed 10456 (100.0%) in 11.22 sec. Users per second: 932\n"
     ]
    },
    {
     "name": "stderr",
     "output_type": "stream",
     "text": [
      "[I 2023-12-09 11:47:20,673] Trial 205 finished with value: 0.04409026942835345 and parameters: {'topK': 43, 'shrink': 492, 'similarity': 'tversky', 'feature_weighting': 'BM25', 'tversky_alpha': 0.4632679773033542, 'tversky_beta': 1.750514586736874}. Best is trial 182 with value: 0.04664752750756058.\n"
     ]
    },
    {
     "name": "stdout",
     "output_type": "stream",
     "text": [
      "ItemKNNCFRecommender: URM Detected 627 ( 4.8%) users with no interactions.\n",
      "ItemKNNCFRecommender: URM Detected 247 ( 1.1%) items with no interactions.\n",
      "Similarity column 22347 (100.0%), 4596.48 column/sec. Elapsed time 4.86 sec\n",
      "EvaluatorHoldout: Processed 10456 (100.0%) in 10.69 sec. Users per second: 978\n"
     ]
    },
    {
     "name": "stderr",
     "output_type": "stream",
     "text": [
      "[I 2023-12-09 11:47:36,643] Trial 206 finished with value: 0.04478740466474837 and parameters: {'topK': 31, 'shrink': 485, 'similarity': 'tversky', 'feature_weighting': 'BM25', 'tversky_alpha': 0.3310931024564987, 'tversky_beta': 1.6034159609035272}. Best is trial 182 with value: 0.04664752750756058.\n"
     ]
    },
    {
     "name": "stdout",
     "output_type": "stream",
     "text": [
      "ItemKNNCFRecommender: URM Detected 627 ( 4.8%) users with no interactions.\n",
      "ItemKNNCFRecommender: URM Detected 247 ( 1.1%) items with no interactions.\n",
      "Similarity column 22347 (100.0%), 4626.92 column/sec. Elapsed time 4.83 sec\n",
      "EvaluatorHoldout: Processed 10456 (100.0%) in 9.65 sec. Users per second: 1083\n"
     ]
    },
    {
     "name": "stderr",
     "output_type": "stream",
     "text": [
      "[I 2023-12-09 11:47:51,529] Trial 207 finished with value: 0.046204169247398716 and parameters: {'topK': 11, 'shrink': 489, 'similarity': 'tversky', 'feature_weighting': 'BM25', 'tversky_alpha': 0.5193636786800166, 'tversky_beta': 1.4866513837868687}. Best is trial 182 with value: 0.04664752750756058.\n"
     ]
    },
    {
     "name": "stdout",
     "output_type": "stream",
     "text": [
      "ItemKNNCFRecommender: URM Detected 627 ( 4.8%) users with no interactions.\n",
      "ItemKNNCFRecommender: URM Detected 247 ( 1.1%) items with no interactions.\n",
      "Similarity column 22347 (100.0%), 5138.52 column/sec. Elapsed time 4.35 sec\n",
      "EvaluatorHoldout: Processed 10456 (100.0%) in 11.87 sec. Users per second: 881\n"
     ]
    },
    {
     "name": "stderr",
     "output_type": "stream",
     "text": [
      "[I 2023-12-09 11:48:08,122] Trial 208 finished with value: 0.042675497322112364 and parameters: {'topK': 43, 'shrink': 474, 'similarity': 'dice', 'feature_weighting': 'BM25'}. Best is trial 182 with value: 0.04664752750756058.\n"
     ]
    },
    {
     "name": "stdout",
     "output_type": "stream",
     "text": [
      "ItemKNNCFRecommender: URM Detected 627 ( 4.8%) users with no interactions.\n",
      "ItemKNNCFRecommender: URM Detected 247 ( 1.1%) items with no interactions.\n",
      "Similarity column 22347 (100.0%), 4423.25 column/sec. Elapsed time 5.05 sec\n",
      "EvaluatorHoldout: Processed 10456 (100.0%) in 15.56 sec. Users per second: 672\n"
     ]
    },
    {
     "name": "stderr",
     "output_type": "stream",
     "text": [
      "[I 2023-12-09 11:48:29,308] Trial 209 finished with value: 0.02929937698109101 and parameters: {'topK': 294, 'shrink': 450, 'similarity': 'tversky', 'feature_weighting': 'none', 'tversky_alpha': 0.41952055758500467, 'tversky_beta': 1.565337907001015}. Best is trial 182 with value: 0.04664752750756058.\n"
     ]
    },
    {
     "name": "stdout",
     "output_type": "stream",
     "text": [
      "ItemKNNCFRecommender: URM Detected 627 ( 4.8%) users with no interactions.\n",
      "ItemKNNCFRecommender: URM Detected 247 ( 1.1%) items with no interactions.\n",
      "Similarity column 22347 (100.0%), 4344.39 column/sec. Elapsed time 5.14 sec\n",
      "EvaluatorHoldout: Processed 10456 (100.0%) in 8.73 sec. Users per second: 1197\n"
     ]
    },
    {
     "name": "stderr",
     "output_type": "stream",
     "text": [
      "[I 2023-12-09 11:48:43,466] Trial 210 finished with value: 0.023954951816227636 and parameters: {'topK': 10, 'shrink': 500, 'similarity': 'cosine', 'feature_weighting': 'BM25'}. Best is trial 182 with value: 0.04664752750756058.\n"
     ]
    },
    {
     "name": "stdout",
     "output_type": "stream",
     "text": [
      "ItemKNNCFRecommender: URM Detected 627 ( 4.8%) users with no interactions.\n",
      "ItemKNNCFRecommender: URM Detected 247 ( 1.1%) items with no interactions.\n",
      "Similarity column 22347 (100.0%), 4565.32 column/sec. Elapsed time 4.89 sec\n",
      "EvaluatorHoldout: Processed 10456 (100.0%) in 10.68 sec. Users per second: 979\n"
     ]
    },
    {
     "name": "stderr",
     "output_type": "stream",
     "text": [
      "[I 2023-12-09 11:48:59,463] Trial 211 finished with value: 0.04486072400140945 and parameters: {'topK': 29, 'shrink': 469, 'similarity': 'tversky', 'feature_weighting': 'BM25', 'tversky_alpha': 0.46397770390959775, 'tversky_beta': 1.4983017197352788}. Best is trial 182 with value: 0.04664752750756058.\n"
     ]
    },
    {
     "name": "stdout",
     "output_type": "stream",
     "text": [
      "ItemKNNCFRecommender: URM Detected 627 ( 4.8%) users with no interactions.\n",
      "ItemKNNCFRecommender: URM Detected 247 ( 1.1%) items with no interactions.\n",
      "Similarity column 22347 (100.0%), 4596.40 column/sec. Elapsed time 4.86 sec\n",
      "EvaluatorHoldout: Processed 10456 (100.0%) in 11.34 sec. Users per second: 922\n"
     ]
    },
    {
     "name": "stderr",
     "output_type": "stream",
     "text": [
      "[I 2023-12-09 11:49:16,100] Trial 212 finished with value: 0.04399195874473292 and parameters: {'topK': 47, 'shrink': 480, 'similarity': 'tversky', 'feature_weighting': 'BM25', 'tversky_alpha': 0.5251605462712763, 'tversky_beta': 1.417415027490982}. Best is trial 182 with value: 0.04664752750756058.\n"
     ]
    },
    {
     "name": "stdout",
     "output_type": "stream",
     "text": [
      "ItemKNNCFRecommender: URM Detected 627 ( 4.8%) users with no interactions.\n",
      "ItemKNNCFRecommender: URM Detected 247 ( 1.1%) items with no interactions.\n",
      "Similarity column 22347 (100.0%), 4580.17 column/sec. Elapsed time 4.88 sec\n",
      "EvaluatorHoldout: Processed 10456 (100.0%) in 9.41 sec. Users per second: 1111\n"
     ]
    },
    {
     "name": "stderr",
     "output_type": "stream",
     "text": [
      "[I 2023-12-09 11:49:30,791] Trial 213 finished with value: 0.046145499356335856 and parameters: {'topK': 10, 'shrink': 377, 'similarity': 'tversky', 'feature_weighting': 'BM25', 'tversky_alpha': 0.37937559580472324, 'tversky_beta': 1.5249818677879512}. Best is trial 182 with value: 0.04664752750756058.\n"
     ]
    },
    {
     "name": "stdout",
     "output_type": "stream",
     "text": [
      "ItemKNNCFRecommender: URM Detected 627 ( 4.8%) users with no interactions.\n",
      "ItemKNNCFRecommender: URM Detected 247 ( 1.1%) items with no interactions.\n",
      "Similarity column 22347 (100.0%), 4607.06 column/sec. Elapsed time 4.85 sec\n",
      "EvaluatorHoldout: Processed 10456 (100.0%) in 10.56 sec. Users per second: 991\n"
     ]
    },
    {
     "name": "stderr",
     "output_type": "stream",
     "text": [
      "[I 2023-12-09 11:49:46,615] Trial 214 finished with value: 0.044592373483441416 and parameters: {'topK': 29, 'shrink': 465, 'similarity': 'tversky', 'feature_weighting': 'BM25', 'tversky_alpha': 0.5753335448443029, 'tversky_beta': 1.642784612241742}. Best is trial 182 with value: 0.04664752750756058.\n"
     ]
    },
    {
     "name": "stdout",
     "output_type": "stream",
     "text": [
      "ItemKNNCFRecommender: URM Detected 627 ( 4.8%) users with no interactions.\n",
      "ItemKNNCFRecommender: URM Detected 247 ( 1.1%) items with no interactions.\n",
      "Similarity column 22347 (100.0%), 4561.84 column/sec. Elapsed time 4.90 sec\n",
      "EvaluatorHoldout: Processed 10456 (100.0%) in 11.85 sec. Users per second: 883\n"
     ]
    },
    {
     "name": "stderr",
     "output_type": "stream",
     "text": [
      "[I 2023-12-09 11:50:03,806] Trial 215 finished with value: 0.043964857270376245 and parameters: {'topK': 66, 'shrink': 487, 'similarity': 'tversky', 'feature_weighting': 'BM25', 'tversky_alpha': 0.4947997788364553, 'tversky_beta': 1.5865370090598603}. Best is trial 182 with value: 0.04664752750756058.\n"
     ]
    },
    {
     "name": "stdout",
     "output_type": "stream",
     "text": [
      "ItemKNNCFRecommender: URM Detected 627 ( 4.8%) users with no interactions.\n",
      "ItemKNNCFRecommender: URM Detected 247 ( 1.1%) items with no interactions.\n",
      "Similarity column 22347 (100.0%), 4547.29 column/sec. Elapsed time 4.91 sec\n",
      "EvaluatorHoldout: Processed 10456 (100.0%) in 10.65 sec. Users per second: 982\n"
     ]
    },
    {
     "name": "stderr",
     "output_type": "stream",
     "text": [
      "[I 2023-12-09 11:50:19,784] Trial 216 finished with value: 0.04486877740129527 and parameters: {'topK': 30, 'shrink': 475, 'similarity': 'tversky', 'feature_weighting': 'BM25', 'tversky_alpha': 0.4404570135239795, 'tversky_beta': 1.488047754496503}. Best is trial 182 with value: 0.04664752750756058.\n"
     ]
    },
    {
     "name": "stdout",
     "output_type": "stream",
     "text": [
      "ItemKNNCFRecommender: URM Detected 627 ( 4.8%) users with no interactions.\n",
      "ItemKNNCFRecommender: URM Detected 247 ( 1.1%) items with no interactions.\n",
      "Similarity column 22347 (100.0%), 1625.39 column/sec. Elapsed time 13.75 sec\n",
      "EvaluatorHoldout: Processed 10456 (100.0%) in 7.79 sec. Users per second: 1342\n"
     ]
    },
    {
     "name": "stderr",
     "output_type": "stream",
     "text": [
      "[I 2023-12-09 11:50:41,630] Trial 217 finished with value: 0.015580535516935555 and parameters: {'topK': 11, 'shrink': 453, 'similarity': 'euclidean', 'feature_weighting': 'BM25', 'normalize_avg_row': True, 'similarity_from_distance_mode': 'lin', 'normalize': False}. Best is trial 182 with value: 0.04664752750756058.\n"
     ]
    },
    {
     "name": "stdout",
     "output_type": "stream",
     "text": [
      "ItemKNNCFRecommender: URM Detected 627 ( 4.8%) users with no interactions.\n",
      "ItemKNNCFRecommender: URM Detected 247 ( 1.1%) items with no interactions.\n",
      "Similarity column 22347 (100.0%), 4580.91 column/sec. Elapsed time 4.88 sec\n",
      "EvaluatorHoldout: Processed 10456 (100.0%) in 11.50 sec. Users per second: 909\n"
     ]
    },
    {
     "name": "stderr",
     "output_type": "stream",
     "text": [
      "[I 2023-12-09 11:50:58,436] Trial 218 finished with value: 0.04425323502265036 and parameters: {'topK': 48, 'shrink': 490, 'similarity': 'tversky', 'feature_weighting': 'BM25', 'tversky_alpha': 0.34553263725499866, 'tversky_beta': 1.5396252018731844}. Best is trial 182 with value: 0.04664752750756058.\n"
     ]
    },
    {
     "name": "stdout",
     "output_type": "stream",
     "text": [
      "ItemKNNCFRecommender: URM Detected 627 ( 4.8%) users with no interactions.\n",
      "ItemKNNCFRecommender: URM Detected 247 ( 1.1%) items with no interactions.\n",
      "Similarity column 22347 (100.0%), 4554.59 column/sec. Elapsed time 4.91 sec\n",
      "EvaluatorHoldout: Processed 10456 (100.0%) in 9.88 sec. Users per second: 1058\n"
     ]
    },
    {
     "name": "stderr",
     "output_type": "stream",
     "text": [
      "[I 2023-12-09 11:51:13,635] Trial 219 finished with value: 0.04288884031041678 and parameters: {'topK': 29, 'shrink': 203, 'similarity': 'tversky', 'feature_weighting': 'BM25', 'tversky_alpha': 0.5295884601450505, 'tversky_beta': 1.6875001188167167}. Best is trial 182 with value: 0.04664752750756058.\n"
     ]
    },
    {
     "name": "stdout",
     "output_type": "stream",
     "text": [
      "ItemKNNCFRecommender: URM Detected 627 ( 4.8%) users with no interactions.\n",
      "ItemKNNCFRecommender: URM Detected 247 ( 1.1%) items with no interactions.\n",
      "Similarity column 22347 (100.0%), 4452.51 column/sec. Elapsed time 5.02 sec\n",
      "EvaluatorHoldout: Processed 10456 (100.0%) in 9.58 sec. Users per second: 1091\n"
     ]
    },
    {
     "name": "stderr",
     "output_type": "stream",
     "text": [
      "[I 2023-12-09 11:51:28,562] Trial 220 finished with value: 0.022602940819275937 and parameters: {'topK': 68, 'shrink': 467, 'similarity': 'asymmetric', 'feature_weighting': 'BM25', 'asymmetric_alpha': 0.4502195156919706}. Best is trial 182 with value: 0.04664752750756058.\n"
     ]
    },
    {
     "name": "stdout",
     "output_type": "stream",
     "text": [
      "ItemKNNCFRecommender: URM Detected 627 ( 4.8%) users with no interactions.\n",
      "ItemKNNCFRecommender: URM Detected 247 ( 1.1%) items with no interactions.\n",
      "Similarity column 22347 (100.0%), 4639.47 column/sec. Elapsed time 4.82 sec\n",
      "EvaluatorHoldout: Processed 10456 (100.0%) in 9.60 sec. Users per second: 1089\n"
     ]
    },
    {
     "name": "stderr",
     "output_type": "stream",
     "text": [
      "[I 2023-12-09 11:51:43,389] Trial 221 finished with value: 0.0465458808491523 and parameters: {'topK': 10, 'shrink': 491, 'similarity': 'tversky', 'feature_weighting': 'BM25', 'tversky_alpha': 0.46541644389246206, 'tversky_beta': 1.4397344111984114}. Best is trial 182 with value: 0.04664752750756058.\n"
     ]
    },
    {
     "name": "stdout",
     "output_type": "stream",
     "text": [
      "ItemKNNCFRecommender: URM Detected 627 ( 4.8%) users with no interactions.\n",
      "ItemKNNCFRecommender: URM Detected 247 ( 1.1%) items with no interactions.\n",
      "Similarity column 22347 (100.0%), 4593.49 column/sec. Elapsed time 4.86 sec\n",
      "EvaluatorHoldout: Processed 10456 (100.0%) in 10.54 sec. Users per second: 992\n"
     ]
    },
    {
     "name": "stderr",
     "output_type": "stream",
     "text": [
      "[I 2023-12-09 11:51:59,201] Trial 222 finished with value: 0.04487394265918632 and parameters: {'topK': 26, 'shrink': 481, 'similarity': 'tversky', 'feature_weighting': 'BM25', 'tversky_alpha': 0.4711974159814876, 'tversky_beta': 1.4696579310002775}. Best is trial 182 with value: 0.04664752750756058.\n"
     ]
    },
    {
     "name": "stdout",
     "output_type": "stream",
     "text": [
      "ItemKNNCFRecommender: URM Detected 627 ( 4.8%) users with no interactions.\n",
      "ItemKNNCFRecommender: URM Detected 247 ( 1.1%) items with no interactions.\n",
      "Similarity column 22347 (100.0%), 4609.57 column/sec. Elapsed time 4.85 sec\n",
      "EvaluatorHoldout: Processed 10456 (100.0%) in 9.70 sec. Users per second: 1078\n"
     ]
    },
    {
     "name": "stderr",
     "output_type": "stream",
     "text": [
      "[I 2023-12-09 11:52:14,169] Trial 223 finished with value: 0.04622472021836085 and parameters: {'topK': 12, 'shrink': 494, 'similarity': 'tversky', 'feature_weighting': 'BM25', 'tversky_alpha': 0.4109228534926291, 'tversky_beta': 1.6008571492232182}. Best is trial 182 with value: 0.04664752750756058.\n"
     ]
    },
    {
     "name": "stdout",
     "output_type": "stream",
     "text": [
      "ItemKNNCFRecommender: URM Detected 627 ( 4.8%) users with no interactions.\n",
      "ItemKNNCFRecommender: URM Detected 247 ( 1.1%) items with no interactions.\n",
      "Similarity column 22347 (100.0%), 4556.82 column/sec. Elapsed time 4.90 sec\n",
      "EvaluatorHoldout: Processed 10456 (100.0%) in 10.77 sec. Users per second: 971\n"
     ]
    },
    {
     "name": "stderr",
     "output_type": "stream",
     "text": [
      "[I 2023-12-09 11:52:30,278] Trial 224 finished with value: 0.04327544145686904 and parameters: {'topK': 44, 'shrink': 278, 'similarity': 'tversky', 'feature_weighting': 'BM25', 'tversky_alpha': 0.5086610442700363, 'tversky_beta': 1.4295296593113027}. Best is trial 182 with value: 0.04664752750756058.\n"
     ]
    },
    {
     "name": "stdout",
     "output_type": "stream",
     "text": [
      "ItemKNNCFRecommender: URM Detected 627 ( 4.8%) users with no interactions.\n",
      "ItemKNNCFRecommender: URM Detected 247 ( 1.1%) items with no interactions.\n",
      "Similarity column 22347 (100.0%), 4605.24 column/sec. Elapsed time 4.85 sec\n",
      "EvaluatorHoldout: Processed 10456 (100.0%) in 9.66 sec. Users per second: 1083\n"
     ]
    },
    {
     "name": "stderr",
     "output_type": "stream",
     "text": [
      "[I 2023-12-09 11:52:45,222] Trial 225 finished with value: 0.04635612119114474 and parameters: {'topK': 11, 'shrink': 481, 'similarity': 'tversky', 'feature_weighting': 'BM25', 'tversky_alpha': 0.4473060203114518, 'tversky_beta': 1.6436818914531335}. Best is trial 182 with value: 0.04664752750756058.\n"
     ]
    },
    {
     "name": "stdout",
     "output_type": "stream",
     "text": [
      "ItemKNNCFRecommender: URM Detected 627 ( 4.8%) users with no interactions.\n",
      "ItemKNNCFRecommender: URM Detected 247 ( 1.1%) items with no interactions.\n",
      "Similarity column 22347 (100.0%), 4600.61 column/sec. Elapsed time 4.86 sec\n",
      "EvaluatorHoldout: Processed 10456 (100.0%) in 9.60 sec. Users per second: 1089\n"
     ]
    },
    {
     "name": "stderr",
     "output_type": "stream",
     "text": [
      "[I 2023-12-09 11:53:00,089] Trial 226 finished with value: 0.04640832786825581 and parameters: {'topK': 11, 'shrink': 492, 'similarity': 'tversky', 'feature_weighting': 'BM25', 'tversky_alpha': 0.43871071931895733, 'tversky_beta': 1.6425451837076845}. Best is trial 182 with value: 0.04664752750756058.\n"
     ]
    },
    {
     "name": "stdout",
     "output_type": "stream",
     "text": [
      "ItemKNNCFRecommender: URM Detected 627 ( 4.8%) users with no interactions.\n",
      "ItemKNNCFRecommender: URM Detected 247 ( 1.1%) items with no interactions.\n",
      "Similarity column 22347 (100.0%), 4491.83 column/sec. Elapsed time 4.98 sec\n",
      "EvaluatorHoldout: Processed 10456 (100.0%) in 11.43 sec. Users per second: 915\n"
     ]
    },
    {
     "name": "stderr",
     "output_type": "stream",
     "text": [
      "[I 2023-12-09 11:53:16,928] Trial 227 finished with value: 0.044137333618732476 and parameters: {'topK': 46, 'shrink': 500, 'similarity': 'tversky', 'feature_weighting': 'BM25', 'tversky_alpha': 0.43152147092408993, 'tversky_beta': 1.6536201783225977}. Best is trial 182 with value: 0.04664752750756058.\n"
     ]
    },
    {
     "name": "stdout",
     "output_type": "stream",
     "text": [
      "ItemKNNCFRecommender: URM Detected 627 ( 4.8%) users with no interactions.\n",
      "ItemKNNCFRecommender: URM Detected 247 ( 1.1%) items with no interactions.\n",
      "Similarity column 22347 (100.0%), 4595.16 column/sec. Elapsed time 4.86 sec\n",
      "EvaluatorHoldout: Processed 10456 (100.0%) in 10.54 sec. Users per second: 992\n"
     ]
    },
    {
     "name": "stderr",
     "output_type": "stream",
     "text": [
      "[I 2023-12-09 11:53:32,753] Trial 228 finished with value: 0.03665975182472936 and parameters: {'topK': 28, 'shrink': 486, 'similarity': 'tversky', 'feature_weighting': 'TF-IDF', 'tversky_alpha': 0.38987914786293637, 'tversky_beta': 1.6291500510192574}. Best is trial 182 with value: 0.04664752750756058.\n"
     ]
    },
    {
     "name": "stdout",
     "output_type": "stream",
     "text": [
      "ItemKNNCFRecommender: URM Detected 627 ( 4.8%) users with no interactions.\n",
      "ItemKNNCFRecommender: URM Detected 247 ( 1.1%) items with no interactions.\n",
      "Similarity column 22347 (100.0%), 4563.80 column/sec. Elapsed time 4.90 sec\n",
      "EvaluatorHoldout: Processed 10456 (100.0%) in 9.69 sec. Users per second: 1079\n"
     ]
    },
    {
     "name": "stderr",
     "output_type": "stream",
     "text": [
      "[I 2023-12-09 11:53:47,751] Trial 229 finished with value: 0.04673019060978189 and parameters: {'topK': 11, 'shrink': 491, 'similarity': 'tversky', 'feature_weighting': 'BM25', 'tversky_alpha': 0.24918630752971266, 'tversky_beta': 1.7270794921828143}. Best is trial 229 with value: 0.04673019060978189.\n"
     ]
    },
    {
     "name": "stdout",
     "output_type": "stream",
     "text": [
      "ItemKNNCFRecommender: URM Detected 627 ( 4.8%) users with no interactions.\n",
      "ItemKNNCFRecommender: URM Detected 247 ( 1.1%) items with no interactions.\n",
      "Similarity column 22347 (100.0%), 4623.22 column/sec. Elapsed time 4.83 sec\n",
      "EvaluatorHoldout: Processed 10456 (100.0%) in 9.67 sec. Users per second: 1082\n"
     ]
    },
    {
     "name": "stderr",
     "output_type": "stream",
     "text": [
      "[I 2023-12-09 11:54:02,663] Trial 230 finished with value: 0.04677447671876762 and parameters: {'topK': 10, 'shrink': 491, 'similarity': 'tversky', 'feature_weighting': 'BM25', 'tversky_alpha': 0.24244226046339284, 'tversky_beta': 1.81254100352671}. Best is trial 230 with value: 0.04677447671876762.\n"
     ]
    },
    {
     "name": "stdout",
     "output_type": "stream",
     "text": [
      "ItemKNNCFRecommender: URM Detected 627 ( 4.8%) users with no interactions.\n",
      "ItemKNNCFRecommender: URM Detected 247 ( 1.1%) items with no interactions.\n",
      "Similarity column 22347 (100.0%), 4477.15 column/sec. Elapsed time 4.99 sec\n",
      "EvaluatorHoldout: Processed 10456 (100.0%) in 9.60 sec. Users per second: 1089\n"
     ]
    },
    {
     "name": "stderr",
     "output_type": "stream",
     "text": [
      "[I 2023-12-09 11:54:17,664] Trial 231 finished with value: 0.046741648297932314 and parameters: {'topK': 10, 'shrink': 500, 'similarity': 'tversky', 'feature_weighting': 'BM25', 'tversky_alpha': 0.3022224675173059, 'tversky_beta': 1.769568735612645}. Best is trial 230 with value: 0.04677447671876762.\n"
     ]
    },
    {
     "name": "stdout",
     "output_type": "stream",
     "text": [
      "ItemKNNCFRecommender: URM Detected 627 ( 4.8%) users with no interactions.\n",
      "ItemKNNCFRecommender: URM Detected 247 ( 1.1%) items with no interactions.\n",
      "Similarity column 22347 (100.0%), 4632.13 column/sec. Elapsed time 4.82 sec\n",
      "EvaluatorHoldout: Processed 10456 (100.0%) in 10.43 sec. Users per second: 1002\n"
     ]
    },
    {
     "name": "stderr",
     "output_type": "stream",
     "text": [
      "[I 2023-12-09 11:54:33,339] Trial 232 finished with value: 0.045138718105197276 and parameters: {'topK': 29, 'shrink': 500, 'similarity': 'tversky', 'feature_weighting': 'BM25', 'tversky_alpha': 0.22850312601689768, 'tversky_beta': 1.8051528790889408}. Best is trial 230 with value: 0.04677447671876762.\n"
     ]
    },
    {
     "name": "stdout",
     "output_type": "stream",
     "text": [
      "ItemKNNCFRecommender: URM Detected 627 ( 4.8%) users with no interactions.\n",
      "ItemKNNCFRecommender: URM Detected 247 ( 1.1%) items with no interactions.\n",
      "Similarity column 22347 (100.0%), 4476.21 column/sec. Elapsed time 4.99 sec\n",
      "EvaluatorHoldout: Processed 10456 (100.0%) in 11.11 sec. Users per second: 941\n"
     ]
    },
    {
     "name": "stderr",
     "output_type": "stream",
     "text": [
      "[I 2023-12-09 11:54:49,870] Trial 233 finished with value: 0.04431032611335845 and parameters: {'topK': 43, 'shrink': 491, 'similarity': 'tversky', 'feature_weighting': 'BM25', 'tversky_alpha': 0.25194723575927697, 'tversky_beta': 1.728780806517842}. Best is trial 230 with value: 0.04677447671876762.\n"
     ]
    },
    {
     "name": "stdout",
     "output_type": "stream",
     "text": [
      "ItemKNNCFRecommender: URM Detected 627 ( 4.8%) users with no interactions.\n",
      "ItemKNNCFRecommender: URM Detected 247 ( 1.1%) items with no interactions.\n",
      "Similarity column 22347 (100.0%), 4619.44 column/sec. Elapsed time 4.84 sec\n",
      "EvaluatorHoldout: Processed 10456 (100.0%) in 10.67 sec. Users per second: 980\n"
     ]
    },
    {
     "name": "stderr",
     "output_type": "stream",
     "text": [
      "[I 2023-12-09 11:55:05,795] Trial 234 finished with value: 0.04483827543386706 and parameters: {'topK': 32, 'shrink': 490, 'similarity': 'tversky', 'feature_weighting': 'BM25', 'tversky_alpha': 0.20353575946397673, 'tversky_beta': 1.7696036957003316}. Best is trial 230 with value: 0.04677447671876762.\n"
     ]
    },
    {
     "name": "stdout",
     "output_type": "stream",
     "text": [
      "ItemKNNCFRecommender: URM Detected 627 ( 4.8%) users with no interactions.\n",
      "ItemKNNCFRecommender: URM Detected 247 ( 1.1%) items with no interactions.\n",
      "Similarity column 22347 (100.0%), 4479.53 column/sec. Elapsed time 4.99 sec\n",
      "EvaluatorHoldout: Processed 10456 (100.0%) in 10.48 sec. Users per second: 998\n"
     ]
    },
    {
     "name": "stderr",
     "output_type": "stream",
     "text": [
      "[I 2023-12-09 11:55:21,671] Trial 235 finished with value: 0.0449837451876956 and parameters: {'topK': 28, 'shrink': 491, 'similarity': 'tversky', 'feature_weighting': 'BM25', 'tversky_alpha': 0.32090358359380955, 'tversky_beta': 1.793888361227522}. Best is trial 230 with value: 0.04677447671876762.\n"
     ]
    },
    {
     "name": "stdout",
     "output_type": "stream",
     "text": [
      "ItemKNNCFRecommender: URM Detected 627 ( 4.8%) users with no interactions.\n",
      "ItemKNNCFRecommender: URM Detected 247 ( 1.1%) items with no interactions.\n",
      "Similarity column 22347 (100.0%), 4576.61 column/sec. Elapsed time 4.88 sec\n",
      "EvaluatorHoldout: Processed 10456 (100.0%) in 11.46 sec. Users per second: 912\n"
     ]
    },
    {
     "name": "stderr",
     "output_type": "stream",
     "text": [
      "[I 2023-12-09 11:55:38,467] Trial 236 finished with value: 0.044149235344482736 and parameters: {'topK': 57, 'shrink': 500, 'similarity': 'tversky', 'feature_weighting': 'BM25', 'tversky_alpha': 0.2080233275773316, 'tversky_beta': 1.8741633785640008}. Best is trial 230 with value: 0.04677447671876762.\n"
     ]
    },
    {
     "name": "stdout",
     "output_type": "stream",
     "text": [
      "ItemKNNCFRecommender: URM Detected 627 ( 4.8%) users with no interactions.\n",
      "ItemKNNCFRecommender: URM Detected 247 ( 1.1%) items with no interactions.\n",
      "Similarity column 22347 (100.0%), 4618.34 column/sec. Elapsed time 4.84 sec\n",
      "EvaluatorHoldout: Processed 10456 (100.0%) in 9.71 sec. Users per second: 1077\n"
     ]
    },
    {
     "name": "stderr",
     "output_type": "stream",
     "text": [
      "[I 2023-12-09 11:55:53,489] Trial 237 finished with value: 0.04645062909121889 and parameters: {'topK': 12, 'shrink': 479, 'similarity': 'tversky', 'feature_weighting': 'BM25', 'tversky_alpha': 0.2986692807498709, 'tversky_beta': 1.712038689581332}. Best is trial 230 with value: 0.04677447671876762.\n"
     ]
    },
    {
     "name": "stdout",
     "output_type": "stream",
     "text": [
      "ItemKNNCFRecommender: URM Detected 627 ( 4.8%) users with no interactions.\n",
      "ItemKNNCFRecommender: URM Detected 247 ( 1.1%) items with no interactions.\n",
      "Similarity column 22347 (100.0%), 4622.28 column/sec. Elapsed time 4.83 sec\n",
      "EvaluatorHoldout: Processed 10456 (100.0%) in 9.59 sec. Users per second: 1090\n"
     ]
    },
    {
     "name": "stderr",
     "output_type": "stream",
     "text": [
      "[I 2023-12-09 11:56:08,332] Trial 238 finished with value: 0.04650720403565716 and parameters: {'topK': 11, 'shrink': 476, 'similarity': 'tversky', 'feature_weighting': 'BM25', 'tversky_alpha': 0.29930956523987085, 'tversky_beta': 1.6952784316027956}. Best is trial 230 with value: 0.04677447671876762.\n"
     ]
    },
    {
     "name": "stdout",
     "output_type": "stream",
     "text": [
      "ItemKNNCFRecommender: URM Detected 627 ( 4.8%) users with no interactions.\n",
      "ItemKNNCFRecommender: URM Detected 247 ( 1.1%) items with no interactions.\n",
      "Similarity column 22347 (100.0%), 4545.89 column/sec. Elapsed time 4.92 sec\n",
      "EvaluatorHoldout: Processed 10456 (100.0%) in 11.07 sec. Users per second: 944\n"
     ]
    },
    {
     "name": "stderr",
     "output_type": "stream",
     "text": [
      "[I 2023-12-09 11:56:24,769] Trial 239 finished with value: 0.0443319890759166 and parameters: {'topK': 44, 'shrink': 479, 'similarity': 'tversky', 'feature_weighting': 'BM25', 'tversky_alpha': 0.2935577493502689, 'tversky_beta': 1.7037663546304913}. Best is trial 230 with value: 0.04677447671876762.\n"
     ]
    },
    {
     "name": "stdout",
     "output_type": "stream",
     "text": [
      "ItemKNNCFRecommender: URM Detected 627 ( 4.8%) users with no interactions.\n",
      "ItemKNNCFRecommender: URM Detected 247 ( 1.1%) items with no interactions.\n",
      "Similarity column 22347 (100.0%), 4585.23 column/sec. Elapsed time 4.87 sec\n",
      "EvaluatorHoldout: Processed 10456 (100.0%) in 10.56 sec. Users per second: 991\n"
     ]
    },
    {
     "name": "stderr",
     "output_type": "stream",
     "text": [
      "[I 2023-12-09 11:56:40,628] Trial 240 finished with value: 0.04499491823635913 and parameters: {'topK': 29, 'shrink': 481, 'similarity': 'tversky', 'feature_weighting': 'BM25', 'tversky_alpha': 0.26591971123256924, 'tversky_beta': 1.7294907737361627}. Best is trial 230 with value: 0.04677447671876762.\n"
     ]
    },
    {
     "name": "stdout",
     "output_type": "stream",
     "text": [
      "ItemKNNCFRecommender: URM Detected 627 ( 4.8%) users with no interactions.\n",
      "ItemKNNCFRecommender: URM Detected 247 ( 1.1%) items with no interactions.\n",
      "Similarity column 22347 (100.0%), 4534.72 column/sec. Elapsed time 4.93 sec\n",
      "EvaluatorHoldout: Processed 10456 (100.0%) in 9.69 sec. Users per second: 1079\n"
     ]
    },
    {
     "name": "stderr",
     "output_type": "stream",
     "text": [
      "[I 2023-12-09 11:56:55,676] Trial 241 finished with value: 0.04668862185909864 and parameters: {'topK': 10, 'shrink': 477, 'similarity': 'tversky', 'feature_weighting': 'BM25', 'tversky_alpha': 0.3120741687041418, 'tversky_beta': 1.681948662601948}. Best is trial 230 with value: 0.04677447671876762.\n"
     ]
    },
    {
     "name": "stdout",
     "output_type": "stream",
     "text": [
      "ItemKNNCFRecommender: URM Detected 627 ( 4.8%) users with no interactions.\n",
      "ItemKNNCFRecommender: URM Detected 247 ( 1.1%) items with no interactions.\n",
      "Similarity column 22347 (100.0%), 4532.26 column/sec. Elapsed time 4.93 sec\n",
      "EvaluatorHoldout: Processed 10456 (100.0%) in 9.75 sec. Users per second: 1072\n"
     ]
    },
    {
     "name": "stderr",
     "output_type": "stream",
     "text": [
      "[I 2023-12-09 11:57:10,786] Trial 242 finished with value: 0.046653933793614884 and parameters: {'topK': 10, 'shrink': 484, 'similarity': 'tversky', 'feature_weighting': 'BM25', 'tversky_alpha': 0.337779277623756, 'tversky_beta': 1.6860357173297535}. Best is trial 230 with value: 0.04677447671876762.\n"
     ]
    },
    {
     "name": "stdout",
     "output_type": "stream",
     "text": [
      "ItemKNNCFRecommender: URM Detected 627 ( 4.8%) users with no interactions.\n",
      "ItemKNNCFRecommender: URM Detected 247 ( 1.1%) items with no interactions.\n",
      "Similarity column 22347 (100.0%), 4511.15 column/sec. Elapsed time 4.95 sec\n",
      "EvaluatorHoldout: Processed 10456 (100.0%) in 10.61 sec. Users per second: 985\n"
     ]
    },
    {
     "name": "stderr",
     "output_type": "stream",
     "text": [
      "[I 2023-12-09 11:57:26,792] Trial 243 finished with value: 0.04484361147545016 and parameters: {'topK': 30, 'shrink': 482, 'similarity': 'tversky', 'feature_weighting': 'BM25', 'tversky_alpha': 0.30185117753306967, 'tversky_beta': 1.6690817010057495}. Best is trial 230 with value: 0.04677447671876762.\n"
     ]
    },
    {
     "name": "stdout",
     "output_type": "stream",
     "text": [
      "ItemKNNCFRecommender: URM Detected 627 ( 4.8%) users with no interactions.\n",
      "ItemKNNCFRecommender: URM Detected 247 ( 1.1%) items with no interactions.\n",
      "Similarity column 22347 (100.0%), 4917.70 column/sec. Elapsed time 4.54 sec\n",
      "EvaluatorHoldout: Processed 10456 (100.0%) in 11.28 sec. Users per second: 927\n"
     ]
    },
    {
     "name": "stderr",
     "output_type": "stream",
     "text": [
      "[I 2023-12-09 11:57:42,994] Trial 244 finished with value: 0.04394021887638043 and parameters: {'topK': 28, 'shrink': 489, 'similarity': 'tanimoto', 'feature_weighting': 'BM25'}. Best is trial 230 with value: 0.04677447671876762.\n"
     ]
    },
    {
     "name": "stdout",
     "output_type": "stream",
     "text": [
      "ItemKNNCFRecommender: URM Detected 627 ( 4.8%) users with no interactions.\n",
      "ItemKNNCFRecommender: URM Detected 247 ( 1.1%) items with no interactions.\n",
      "Similarity column 22347 (100.0%), 4465.37 column/sec. Elapsed time 5.00 sec\n",
      "EvaluatorHoldout: Processed 10456 (100.0%) in 11.42 sec. Users per second: 916\n"
     ]
    },
    {
     "name": "stderr",
     "output_type": "stream",
     "text": [
      "[I 2023-12-09 11:57:59,859] Trial 245 finished with value: 0.0442095865061154 and parameters: {'topK': 50, 'shrink': 476, 'similarity': 'tversky', 'feature_weighting': 'BM25', 'tversky_alpha': 0.3422173843235088, 'tversky_beta': 1.696413520636897}. Best is trial 230 with value: 0.04677447671876762.\n"
     ]
    },
    {
     "name": "stdout",
     "output_type": "stream",
     "text": [
      "ItemKNNCFRecommender: URM Detected 627 ( 4.8%) users with no interactions.\n",
      "ItemKNNCFRecommender: URM Detected 247 ( 1.1%) items with no interactions.\n",
      "Similarity column 22347 (100.0%), 4570.36 column/sec. Elapsed time 4.89 sec\n",
      "EvaluatorHoldout: Processed 10456 (100.0%) in 9.78 sec. Users per second: 1069\n"
     ]
    },
    {
     "name": "stderr",
     "output_type": "stream",
     "text": [
      "[I 2023-12-09 11:58:14,960] Trial 246 finished with value: 0.04672664969456347 and parameters: {'topK': 11, 'shrink': 490, 'similarity': 'tversky', 'feature_weighting': 'BM25', 'tversky_alpha': 0.2394685506298879, 'tversky_beta': 1.7058044144274025}. Best is trial 230 with value: 0.04677447671876762.\n"
     ]
    },
    {
     "name": "stdout",
     "output_type": "stream",
     "text": [
      "ItemKNNCFRecommender: URM Detected 627 ( 4.8%) users with no interactions.\n",
      "ItemKNNCFRecommender: URM Detected 247 ( 1.1%) items with no interactions.\n",
      "Similarity column 22347 (100.0%), 4531.25 column/sec. Elapsed time 4.93 sec\n",
      "EvaluatorHoldout: Processed 10456 (100.0%) in 9.72 sec. Users per second: 1076\n"
     ]
    },
    {
     "name": "stderr",
     "output_type": "stream",
     "text": [
      "[I 2023-12-09 11:58:30,047] Trial 247 finished with value: 0.046657250792436905 and parameters: {'topK': 11, 'shrink': 478, 'similarity': 'tversky', 'feature_weighting': 'BM25', 'tversky_alpha': 0.22053216777565882, 'tversky_beta': 1.823841662880605}. Best is trial 230 with value: 0.04677447671876762.\n"
     ]
    },
    {
     "name": "stdout",
     "output_type": "stream",
     "text": [
      "ItemKNNCFRecommender: URM Detected 627 ( 4.8%) users with no interactions.\n",
      "ItemKNNCFRecommender: URM Detected 247 ( 1.1%) items with no interactions.\n",
      "Similarity column 22347 (100.0%), 4562.42 column/sec. Elapsed time 4.90 sec\n",
      "EvaluatorHoldout: Processed 10456 (100.0%) in 10.75 sec. Users per second: 973\n"
     ]
    },
    {
     "name": "stderr",
     "output_type": "stream",
     "text": [
      "[I 2023-12-09 11:58:46,128] Trial 248 finished with value: 0.04481656313379783 and parameters: {'topK': 34, 'shrink': 474, 'similarity': 'tversky', 'feature_weighting': 'BM25', 'tversky_alpha': 0.21541711664145022, 'tversky_beta': 1.8221476052854997}. Best is trial 230 with value: 0.04677447671876762.\n"
     ]
    },
    {
     "name": "stdout",
     "output_type": "stream",
     "text": [
      "ItemKNNCFRecommender: URM Detected 627 ( 4.8%) users with no interactions.\n",
      "ItemKNNCFRecommender: URM Detected 247 ( 1.1%) items with no interactions.\n",
      "Similarity column 22347 (100.0%), 4458.07 column/sec. Elapsed time 5.01 sec\n",
      "EvaluatorHoldout: Processed 10456 (100.0%) in 11.51 sec. Users per second: 908\n"
     ]
    },
    {
     "name": "stderr",
     "output_type": "stream",
     "text": [
      "[I 2023-12-09 11:59:03,102] Trial 249 finished with value: 0.04399635737360553 and parameters: {'topK': 59, 'shrink': 482, 'similarity': 'tversky', 'feature_weighting': 'BM25', 'tversky_alpha': 0.26209522996566537, 'tversky_beta': 1.770763725872972}. Best is trial 230 with value: 0.04677447671876762.\n"
     ]
    },
    {
     "name": "stdout",
     "output_type": "stream",
     "text": [
      "ItemKNNCFRecommender: URM Detected 627 ( 4.8%) users with no interactions.\n",
      "ItemKNNCFRecommender: URM Detected 247 ( 1.1%) items with no interactions.\n",
      "Similarity column 22347 (100.0%), 4556.07 column/sec. Elapsed time 4.90 sec\n",
      "EvaluatorHoldout: Processed 10456 (100.0%) in 10.62 sec. Users per second: 985\n"
     ]
    },
    {
     "name": "stderr",
     "output_type": "stream",
     "text": [
      "[I 2023-12-09 11:59:19,041] Trial 250 finished with value: 0.04514001226606483 and parameters: {'topK': 29, 'shrink': 474, 'similarity': 'tversky', 'feature_weighting': 'BM25', 'tversky_alpha': 0.1735901814453985, 'tversky_beta': 1.6979813282477374}. Best is trial 230 with value: 0.04677447671876762.\n"
     ]
    },
    {
     "name": "stdout",
     "output_type": "stream",
     "text": [
      "ItemKNNCFRecommender: URM Detected 627 ( 4.8%) users with no interactions.\n",
      "ItemKNNCFRecommender: URM Detected 247 ( 1.1%) items with no interactions.\n",
      "Similarity column 22347 (100.0%), 5110.32 column/sec. Elapsed time 4.37 sec\n",
      "EvaluatorHoldout: Processed 10456 (100.0%) in 12.04 sec. Users per second: 868\n"
     ]
    },
    {
     "name": "stderr",
     "output_type": "stream",
     "text": [
      "[I 2023-12-09 11:59:35,823] Trial 251 finished with value: 0.03605231597867448 and parameters: {'topK': 47, 'shrink': 487, 'similarity': 'dice', 'feature_weighting': 'none'}. Best is trial 230 with value: 0.04677447671876762.\n"
     ]
    },
    {
     "name": "stdout",
     "output_type": "stream",
     "text": [
      "ItemKNNCFRecommender: URM Detected 627 ( 4.8%) users with no interactions.\n",
      "ItemKNNCFRecommender: URM Detected 247 ( 1.1%) items with no interactions.\n",
      "Similarity column 22347 (100.0%), 4594.21 column/sec. Elapsed time 4.86 sec\n",
      "EvaluatorHoldout: Processed 10456 (100.0%) in 10.27 sec. Users per second: 1018\n"
     ]
    },
    {
     "name": "stderr",
     "output_type": "stream",
     "text": [
      "[I 2023-12-09 11:59:51,377] Trial 252 finished with value: 0.045440022285374734 and parameters: {'topK': 25, 'shrink': 471, 'similarity': 'tversky', 'feature_weighting': 'BM25', 'tversky_alpha': 0.285930180724778, 'tversky_beta': 1.823981356145341}. Best is trial 230 with value: 0.04677447671876762.\n"
     ]
    },
    {
     "name": "stdout",
     "output_type": "stream",
     "text": [
      "ItemKNNCFRecommender: URM Detected 627 ( 4.8%) users with no interactions.\n",
      "ItemKNNCFRecommender: URM Detected 247 ( 1.1%) items with no interactions.\n",
      "Similarity column 22347 (100.0%), 4599.19 column/sec. Elapsed time 4.86 sec\n",
      "EvaluatorHoldout: Processed 10456 (100.0%) in 10.48 sec. Users per second: 998\n"
     ]
    },
    {
     "name": "stderr",
     "output_type": "stream",
     "text": [
      "[I 2023-12-09 12:00:07,121] Trial 253 finished with value: 0.04536639933326099 and parameters: {'topK': 27, 'shrink': 483, 'similarity': 'tversky', 'feature_weighting': 'BM25', 'tversky_alpha': 0.1599051601269485, 'tversky_beta': 1.7457303661124584}. Best is trial 230 with value: 0.04677447671876762.\n"
     ]
    },
    {
     "name": "stdout",
     "output_type": "stream",
     "text": [
      "ItemKNNCFRecommender: URM Detected 627 ( 4.8%) users with no interactions.\n",
      "ItemKNNCFRecommender: URM Detected 247 ( 1.1%) items with no interactions.\n",
      "Similarity column 22347 (100.0%), 4332.23 column/sec. Elapsed time 5.16 sec\n",
      "EvaluatorHoldout: Processed 10456 (100.0%) in 8.71 sec. Users per second: 1200\n"
     ]
    },
    {
     "name": "stderr",
     "output_type": "stream",
     "text": [
      "[I 2023-12-09 12:00:21,268] Trial 254 finished with value: 0.023954951816227636 and parameters: {'topK': 10, 'shrink': 500, 'similarity': 'cosine', 'feature_weighting': 'BM25'}. Best is trial 230 with value: 0.04677447671876762.\n"
     ]
    },
    {
     "name": "stdout",
     "output_type": "stream",
     "text": [
      "ItemKNNCFRecommender: URM Detected 627 ( 4.8%) users with no interactions.\n",
      "ItemKNNCFRecommender: URM Detected 247 ( 1.1%) items with no interactions.\n",
      "Similarity column 22347 (100.0%), 4605.23 column/sec. Elapsed time 4.85 sec\n",
      "EvaluatorHoldout: Processed 10456 (100.0%) in 11.09 sec. Users per second: 942\n"
     ]
    },
    {
     "name": "stderr",
     "output_type": "stream",
     "text": [
      "[I 2023-12-09 12:00:37,655] Trial 255 finished with value: 0.04433976922189487 and parameters: {'topK': 47, 'shrink': 476, 'similarity': 'tversky', 'feature_weighting': 'BM25', 'tversky_alpha': 0.33887456932605736, 'tversky_beta': 1.8676187350208764}. Best is trial 230 with value: 0.04677447671876762.\n"
     ]
    },
    {
     "name": "stdout",
     "output_type": "stream",
     "text": [
      "ItemKNNCFRecommender: URM Detected 627 ( 4.8%) users with no interactions.\n",
      "ItemKNNCFRecommender: URM Detected 247 ( 1.1%) items with no interactions.\n",
      "Similarity column 22347 (100.0%), 4599.11 column/sec. Elapsed time 4.86 sec\n",
      "EvaluatorHoldout: Processed 10456 (100.0%) in 11.73 sec. Users per second: 891\n"
     ]
    },
    {
     "name": "stderr",
     "output_type": "stream",
     "text": [
      "[I 2023-12-09 12:00:54,693] Trial 256 finished with value: 0.0436696823271524 and parameters: {'topK': 66, 'shrink': 491, 'similarity': 'tversky', 'feature_weighting': 'BM25', 'tversky_alpha': 0.26837761825083095, 'tversky_beta': 1.730966618022869}. Best is trial 230 with value: 0.04677447671876762.\n"
     ]
    },
    {
     "name": "stdout",
     "output_type": "stream",
     "text": [
      "ItemKNNCFRecommender: URM Detected 627 ( 4.8%) users with no interactions.\n",
      "ItemKNNCFRecommender: URM Detected 247 ( 1.1%) items with no interactions.\n",
      "Similarity column 22347 (100.0%), 4560.55 column/sec. Elapsed time 4.90 sec\n",
      "EvaluatorHoldout: Processed 10456 (100.0%) in 9.57 sec. Users per second: 1093\n"
     ]
    },
    {
     "name": "stderr",
     "output_type": "stream",
     "text": [
      "[I 2023-12-09 12:01:09,577] Trial 257 finished with value: 0.04667674290450739 and parameters: {'topK': 10, 'shrink': 463, 'similarity': 'tversky', 'feature_weighting': 'BM25', 'tversky_alpha': 0.3161281719364137, 'tversky_beta': 1.671544041594012}. Best is trial 230 with value: 0.04677447671876762.\n"
     ]
    },
    {
     "name": "stdout",
     "output_type": "stream",
     "text": [
      "ItemKNNCFRecommender: URM Detected 627 ( 4.8%) users with no interactions.\n",
      "ItemKNNCFRecommender: URM Detected 247 ( 1.1%) items with no interactions.\n",
      "Similarity column 22347 (100.0%), 4634.83 column/sec. Elapsed time 4.82 sec\n",
      "EvaluatorHoldout: Processed 10456 (100.0%) in 9.61 sec. Users per second: 1088\n"
     ]
    },
    {
     "name": "stderr",
     "output_type": "stream",
     "text": [
      "[I 2023-12-09 12:01:24,423] Trial 258 finished with value: 0.046761785592840076 and parameters: {'topK': 10, 'shrink': 469, 'similarity': 'tversky', 'feature_weighting': 'BM25', 'tversky_alpha': 0.24658565443441838, 'tversky_beta': 1.68426062843479}. Best is trial 230 with value: 0.04677447671876762.\n"
     ]
    },
    {
     "name": "stdout",
     "output_type": "stream",
     "text": [
      "ItemKNNCFRecommender: URM Detected 627 ( 4.8%) users with no interactions.\n",
      "ItemKNNCFRecommender: URM Detected 247 ( 1.1%) items with no interactions.\n",
      "Similarity column 22347 (100.0%), 4574.06 column/sec. Elapsed time 4.89 sec\n",
      "EvaluatorHoldout: Processed 10456 (100.0%) in 11.01 sec. Users per second: 950\n"
     ]
    },
    {
     "name": "stderr",
     "output_type": "stream",
     "text": [
      "[I 2023-12-09 12:01:40,753] Trial 259 finished with value: 0.04434469917780996 and parameters: {'topK': 41, 'shrink': 469, 'similarity': 'tversky', 'feature_weighting': 'BM25', 'tversky_alpha': 0.3061649289007343, 'tversky_beta': 1.687253599057471}. Best is trial 230 with value: 0.04677447671876762.\n"
     ]
    },
    {
     "name": "stdout",
     "output_type": "stream",
     "text": [
      "ItemKNNCFRecommender: URM Detected 627 ( 4.8%) users with no interactions.\n",
      "ItemKNNCFRecommender: URM Detected 247 ( 1.1%) items with no interactions.\n",
      "Similarity column 22347 (100.0%), 4614.40 column/sec. Elapsed time 4.84 sec\n",
      "EvaluatorHoldout: Processed 10456 (100.0%) in 9.55 sec. Users per second: 1094\n"
     ]
    },
    {
     "name": "stderr",
     "output_type": "stream",
     "text": [
      "[I 2023-12-09 12:01:55,557] Trial 260 finished with value: 0.046620350129340744 and parameters: {'topK': 10, 'shrink': 462, 'similarity': 'tversky', 'feature_weighting': 'BM25', 'tversky_alpha': 0.31483222030939034, 'tversky_beta': 1.7690977749240315}. Best is trial 230 with value: 0.04677447671876762.\n"
     ]
    },
    {
     "name": "stdout",
     "output_type": "stream",
     "text": [
      "ItemKNNCFRecommender: URM Detected 627 ( 4.8%) users with no interactions.\n",
      "ItemKNNCFRecommender: URM Detected 247 ( 1.1%) items with no interactions.\n",
      "Similarity column 22347 (100.0%), 948.81 column/sec. Elapsed time 23.55 sec\n",
      "EvaluatorHoldout: Processed 10456 (100.0%) in 8.88 sec. Users per second: 1177\n"
     ]
    },
    {
     "name": "stderr",
     "output_type": "stream",
     "text": [
      "[I 2023-12-09 12:02:28,285] Trial 261 finished with value: 0.02086811248345292 and parameters: {'topK': 10, 'shrink': 463, 'similarity': 'euclidean', 'feature_weighting': 'BM25', 'normalize_avg_row': False, 'similarity_from_distance_mode': 'log', 'normalize': True}. Best is trial 230 with value: 0.04677447671876762.\n"
     ]
    },
    {
     "name": "stdout",
     "output_type": "stream",
     "text": [
      "ItemKNNCFRecommender: URM Detected 627 ( 4.8%) users with no interactions.\n",
      "ItemKNNCFRecommender: URM Detected 247 ( 1.1%) items with no interactions.\n",
      "Similarity column 22347 (100.0%), 4556.53 column/sec. Elapsed time 4.90 sec\n",
      "EvaluatorHoldout: Processed 10456 (100.0%) in 10.63 sec. Users per second: 984\n"
     ]
    },
    {
     "name": "stderr",
     "output_type": "stream",
     "text": [
      "[I 2023-12-09 12:02:44,265] Trial 262 finished with value: 0.045004641521235546 and parameters: {'topK': 29, 'shrink': 468, 'similarity': 'tversky', 'feature_weighting': 'BM25', 'tversky_alpha': 0.2556095724847526, 'tversky_beta': 1.771170651415122}. Best is trial 230 with value: 0.04677447671876762.\n"
     ]
    },
    {
     "name": "stdout",
     "output_type": "stream",
     "text": [
      "ItemKNNCFRecommender: URM Detected 627 ( 4.8%) users with no interactions.\n",
      "ItemKNNCFRecommender: URM Detected 247 ( 1.1%) items with no interactions.\n",
      "Similarity column 22347 (100.0%), 4533.28 column/sec. Elapsed time 4.93 sec\n",
      "EvaluatorHoldout: Processed 10456 (100.0%) in 12.05 sec. Users per second: 867\n"
     ]
    },
    {
     "name": "stderr",
     "output_type": "stream",
     "text": [
      "[I 2023-12-09 12:03:01,710] Trial 263 finished with value: 0.0334635615914311 and parameters: {'topK': 74, 'shrink': 475, 'similarity': 'tversky', 'feature_weighting': 'TF-IDF', 'tversky_alpha': 0.32194421959530517, 'tversky_beta': 1.7216855262976583}. Best is trial 230 with value: 0.04677447671876762.\n"
     ]
    },
    {
     "name": "stdout",
     "output_type": "stream",
     "text": [
      "ItemKNNCFRecommender: URM Detected 627 ( 4.8%) users with no interactions.\n",
      "ItemKNNCFRecommender: URM Detected 247 ( 1.1%) items with no interactions.\n",
      "Similarity column 22347 (100.0%), 4574.29 column/sec. Elapsed time 4.89 sec\n",
      "EvaluatorHoldout: Processed 10456 (100.0%) in 11.22 sec. Users per second: 932\n"
     ]
    },
    {
     "name": "stderr",
     "output_type": "stream",
     "text": [
      "[I 2023-12-09 12:03:18,260] Trial 264 finished with value: 0.04441005240402778 and parameters: {'topK': 44, 'shrink': 493, 'similarity': 'tversky', 'feature_weighting': 'BM25', 'tversky_alpha': 0.23199872071162922, 'tversky_beta': 1.7724700137253455}. Best is trial 230 with value: 0.04677447671876762.\n"
     ]
    },
    {
     "name": "stdout",
     "output_type": "stream",
     "text": [
      "ItemKNNCFRecommender: URM Detected 627 ( 4.8%) users with no interactions.\n",
      "ItemKNNCFRecommender: URM Detected 247 ( 1.1%) items with no interactions.\n",
      "Similarity column 22347 (100.0%), 4433.55 column/sec. Elapsed time 5.04 sec\n",
      "EvaluatorHoldout: Processed 10456 (100.0%) in 9.50 sec. Users per second: 1101\n"
     ]
    },
    {
     "name": "stderr",
     "output_type": "stream",
     "text": [
      "[I 2023-12-09 12:03:33,118] Trial 265 finished with value: 0.021563118616485143 and parameters: {'topK': 30, 'shrink': 464, 'similarity': 'asymmetric', 'feature_weighting': 'BM25', 'asymmetric_alpha': 1.27747760634507}. Best is trial 230 with value: 0.04677447671876762.\n"
     ]
    },
    {
     "name": "stdout",
     "output_type": "stream",
     "text": [
      "ItemKNNCFRecommender: URM Detected 627 ( 4.8%) users with no interactions.\n",
      "ItemKNNCFRecommender: URM Detected 247 ( 1.1%) items with no interactions.\n",
      "Similarity column 22347 (100.0%), 4553.56 column/sec. Elapsed time 4.91 sec\n",
      "EvaluatorHoldout: Processed 10456 (100.0%) in 11.51 sec. Users per second: 908\n"
     ]
    },
    {
     "name": "stderr",
     "output_type": "stream",
     "text": [
      "[I 2023-12-09 12:03:49,987] Trial 266 finished with value: 0.04405331563255308 and parameters: {'topK': 58, 'shrink': 482, 'similarity': 'tversky', 'feature_weighting': 'BM25', 'tversky_alpha': 0.35996074764360453, 'tversky_beta': 1.8425040478882089}. Best is trial 230 with value: 0.04677447671876762.\n"
     ]
    },
    {
     "name": "stdout",
     "output_type": "stream",
     "text": [
      "ItemKNNCFRecommender: URM Detected 627 ( 4.8%) users with no interactions.\n",
      "ItemKNNCFRecommender: URM Detected 247 ( 1.1%) items with no interactions.\n",
      "Similarity column 22347 (100.0%), 4564.19 column/sec. Elapsed time 4.90 sec\n",
      "EvaluatorHoldout: Processed 10456 (100.0%) in 10.66 sec. Users per second: 980\n"
     ]
    },
    {
     "name": "stderr",
     "output_type": "stream",
     "text": [
      "[I 2023-12-09 12:04:05,970] Trial 267 finished with value: 0.044876011039458465 and parameters: {'topK': 29, 'shrink': 458, 'similarity': 'tversky', 'feature_weighting': 'BM25', 'tversky_alpha': 0.30680211679857267, 'tversky_beta': 1.6917887949522112}. Best is trial 230 with value: 0.04677447671876762.\n"
     ]
    },
    {
     "name": "stdout",
     "output_type": "stream",
     "text": [
      "ItemKNNCFRecommender: URM Detected 627 ( 4.8%) users with no interactions.\n",
      "ItemKNNCFRecommender: URM Detected 247 ( 1.1%) items with no interactions.\n",
      "Similarity column 22347 (100.0%), 4394.89 column/sec. Elapsed time 5.08 sec\n",
      "EvaluatorHoldout: Processed 10456 (100.0%) in 15.91 sec. Users per second: 657\n"
     ]
    },
    {
     "name": "stderr",
     "output_type": "stream",
     "text": [
      "[I 2023-12-09 12:04:27,597] Trial 268 finished with value: 0.03623821972043133 and parameters: {'topK': 329, 'shrink': 491, 'similarity': 'tversky', 'feature_weighting': 'BM25', 'tversky_alpha': 0.24438889907694758, 'tversky_beta': 1.7724557195691053}. Best is trial 230 with value: 0.04677447671876762.\n"
     ]
    },
    {
     "name": "stdout",
     "output_type": "stream",
     "text": [
      "ItemKNNCFRecommender: URM Detected 627 ( 4.8%) users with no interactions.\n",
      "ItemKNNCFRecommender: URM Detected 247 ( 1.1%) items with no interactions.\n",
      "Similarity column 22347 (100.0%), 4532.02 column/sec. Elapsed time 4.93 sec\n",
      "EvaluatorHoldout: Processed 10456 (100.0%) in 9.63 sec. Users per second: 1086\n"
     ]
    },
    {
     "name": "stderr",
     "output_type": "stream",
     "text": [
      "[I 2023-12-09 12:04:42,582] Trial 269 finished with value: 0.04674819880132673 and parameters: {'topK': 11, 'shrink': 474, 'similarity': 'tversky', 'feature_weighting': 'BM25', 'tversky_alpha': 0.17167315675995465, 'tversky_beta': 1.7281625939205392}. Best is trial 230 with value: 0.04677447671876762.\n"
     ]
    },
    {
     "name": "stdout",
     "output_type": "stream",
     "text": [
      "ItemKNNCFRecommender: URM Detected 627 ( 4.8%) users with no interactions.\n",
      "ItemKNNCFRecommender: URM Detected 247 ( 1.1%) items with no interactions.\n",
      "Similarity column 22347 (100.0%), 4534.05 column/sec. Elapsed time 4.93 sec\n",
      "EvaluatorHoldout: Processed 10456 (100.0%) in 10.49 sec. Users per second: 997\n"
     ]
    },
    {
     "name": "stderr",
     "output_type": "stream",
     "text": [
      "[I 2023-12-09 12:04:58,445] Trial 270 finished with value: 0.04355011476664184 and parameters: {'topK': 46, 'shrink': 251, 'similarity': 'tversky', 'feature_weighting': 'BM25', 'tversky_alpha': 0.23879988680282346, 'tversky_beta': 1.7286882982622767}. Best is trial 230 with value: 0.04677447671876762.\n"
     ]
    },
    {
     "name": "stdout",
     "output_type": "stream",
     "text": [
      "ItemKNNCFRecommender: URM Detected 627 ( 4.8%) users with no interactions.\n",
      "ItemKNNCFRecommender: URM Detected 247 ( 1.1%) items with no interactions.\n",
      "Similarity column 22347 (100.0%), 4550.22 column/sec. Elapsed time 4.91 sec\n",
      "EvaluatorHoldout: Processed 10456 (100.0%) in 9.78 sec. Users per second: 1069\n"
     ]
    },
    {
     "name": "stderr",
     "output_type": "stream",
     "text": [
      "[I 2023-12-09 12:05:13,553] Trial 271 finished with value: 0.04679264051323207 and parameters: {'topK': 11, 'shrink': 471, 'similarity': 'tversky', 'feature_weighting': 'BM25', 'tversky_alpha': 0.16278361399445831, 'tversky_beta': 1.8031803340780925}. Best is trial 271 with value: 0.04679264051323207.\n"
     ]
    },
    {
     "name": "stdout",
     "output_type": "stream",
     "text": [
      "ItemKNNCFRecommender: URM Detected 627 ( 4.8%) users with no interactions.\n",
      "ItemKNNCFRecommender: URM Detected 247 ( 1.1%) items with no interactions.\n",
      "Similarity column 22347 (100.0%), 4598.72 column/sec. Elapsed time 4.86 sec\n",
      "EvaluatorHoldout: Processed 10456 (100.0%) in 9.52 sec. Users per second: 1098\n"
     ]
    },
    {
     "name": "stderr",
     "output_type": "stream",
     "text": [
      "[I 2023-12-09 12:05:28,348] Trial 272 finished with value: 0.04684479785283206 and parameters: {'topK': 10, 'shrink': 459, 'similarity': 'tversky', 'feature_weighting': 'BM25', 'tversky_alpha': 0.19358831149207384, 'tversky_beta': 1.8125169805944084}. Best is trial 272 with value: 0.04684479785283206.\n"
     ]
    },
    {
     "name": "stdout",
     "output_type": "stream",
     "text": [
      "ItemKNNCFRecommender: URM Detected 627 ( 4.8%) users with no interactions.\n",
      "ItemKNNCFRecommender: URM Detected 247 ( 1.1%) items with no interactions.\n",
      "Similarity column 22347 (100.0%), 4599.10 column/sec. Elapsed time 4.86 sec\n",
      "EvaluatorHoldout: Processed 10456 (100.0%) in 10.42 sec. Users per second: 1003\n"
     ]
    },
    {
     "name": "stderr",
     "output_type": "stream",
     "text": [
      "[I 2023-12-09 12:05:44,053] Trial 273 finished with value: 0.04541465521429227 and parameters: {'topK': 27, 'shrink': 458, 'similarity': 'tversky', 'feature_weighting': 'BM25', 'tversky_alpha': 0.15807920605997866, 'tversky_beta': 1.8461155548627086}. Best is trial 272 with value: 0.04684479785283206.\n"
     ]
    },
    {
     "name": "stdout",
     "output_type": "stream",
     "text": [
      "ItemKNNCFRecommender: URM Detected 627 ( 4.8%) users with no interactions.\n",
      "ItemKNNCFRecommender: URM Detected 247 ( 1.1%) items with no interactions.\n",
      "Similarity column 22347 (100.0%), 4547.35 column/sec. Elapsed time 4.91 sec\n",
      "EvaluatorHoldout: Processed 10456 (100.0%) in 11.43 sec. Users per second: 915\n"
     ]
    },
    {
     "name": "stderr",
     "output_type": "stream",
     "text": [
      "[I 2023-12-09 12:06:00,828] Trial 274 finished with value: 0.03353248229921945 and parameters: {'topK': 62, 'shrink': 470, 'similarity': 'tversky', 'feature_weighting': 'none', 'tversky_alpha': 0.11767250566375684, 'tversky_beta': 1.8915947393208061}. Best is trial 272 with value: 0.04684479785283206.\n"
     ]
    },
    {
     "name": "stdout",
     "output_type": "stream",
     "text": [
      "ItemKNNCFRecommender: URM Detected 627 ( 4.8%) users with no interactions.\n",
      "ItemKNNCFRecommender: URM Detected 247 ( 1.1%) items with no interactions.\n",
      "Similarity column 22347 (100.0%), 5000.08 column/sec. Elapsed time 4.47 sec\n",
      "EvaluatorHoldout: Processed 10456 (100.0%) in 11.13 sec. Users per second: 939\n"
     ]
    },
    {
     "name": "stderr",
     "output_type": "stream",
     "text": [
      "[I 2023-12-09 12:06:16,808] Trial 275 finished with value: 0.04369230167838678 and parameters: {'topK': 29, 'shrink': 457, 'similarity': 'tanimoto', 'feature_weighting': 'BM25'}. Best is trial 272 with value: 0.04684479785283206.\n"
     ]
    },
    {
     "name": "stdout",
     "output_type": "stream",
     "text": [
      "ItemKNNCFRecommender: URM Detected 627 ( 4.8%) users with no interactions.\n",
      "ItemKNNCFRecommender: URM Detected 247 ( 1.1%) items with no interactions.\n",
      "Similarity column 22347 (100.0%), 4605.62 column/sec. Elapsed time 4.85 sec\n",
      "EvaluatorHoldout: Processed 10456 (100.0%) in 9.48 sec. Users per second: 1103\n"
     ]
    },
    {
     "name": "stderr",
     "output_type": "stream",
     "text": [
      "[I 2023-12-09 12:06:31,556] Trial 276 finished with value: 0.04687268493217283 and parameters: {'topK': 10, 'shrink': 444, 'similarity': 'tversky', 'feature_weighting': 'BM25', 'tversky_alpha': 0.18281839514364737, 'tversky_beta': 1.7987065742340336}. Best is trial 276 with value: 0.04687268493217283.\n"
     ]
    },
    {
     "name": "stdout",
     "output_type": "stream",
     "text": [
      "ItemKNNCFRecommender: URM Detected 627 ( 4.8%) users with no interactions.\n",
      "ItemKNNCFRecommender: URM Detected 247 ( 1.1%) items with no interactions.\n",
      "Similarity column 22347 (100.0%), 4303.84 column/sec. Elapsed time 5.19 sec\n",
      "EvaluatorHoldout: Processed 10456 (100.0%) in 18.39 sec. Users per second: 569\n"
     ]
    },
    {
     "name": "stderr",
     "output_type": "stream",
     "text": [
      "[I 2023-12-09 12:06:56,039] Trial 277 finished with value: 0.030029852989398007 and parameters: {'topK': 725, 'shrink': 437, 'similarity': 'tversky', 'feature_weighting': 'BM25', 'tversky_alpha': 0.1056908781461209, 'tversky_beta': 1.799955013754192}. Best is trial 276 with value: 0.04687268493217283.\n"
     ]
    },
    {
     "name": "stdout",
     "output_type": "stream",
     "text": [
      "ItemKNNCFRecommender: URM Detected 627 ( 4.8%) users with no interactions.\n",
      "ItemKNNCFRecommender: URM Detected 247 ( 1.1%) items with no interactions.\n",
      "Similarity column 22347 (100.0%), 4553.01 column/sec. Elapsed time 4.91 sec\n",
      "EvaluatorHoldout: Processed 10456 (100.0%) in 11.02 sec. Users per second: 949\n"
     ]
    },
    {
     "name": "stderr",
     "output_type": "stream",
     "text": [
      "[I 2023-12-09 12:07:12,398] Trial 278 finished with value: 0.044585071531801294 and parameters: {'topK': 44, 'shrink': 457, 'similarity': 'tversky', 'feature_weighting': 'BM25', 'tversky_alpha': 0.1894220922310374, 'tversky_beta': 1.8137476873115526}. Best is trial 276 with value: 0.04687268493217283.\n"
     ]
    },
    {
     "name": "stdout",
     "output_type": "stream",
     "text": [
      "ItemKNNCFRecommender: URM Detected 627 ( 4.8%) users with no interactions.\n",
      "ItemKNNCFRecommender: URM Detected 247 ( 1.1%) items with no interactions.\n",
      "Similarity column 22347 (100.0%), 4564.17 column/sec. Elapsed time 4.90 sec\n",
      "EvaluatorHoldout: Processed 10456 (100.0%) in 12.03 sec. Users per second: 869\n"
     ]
    },
    {
     "name": "stderr",
     "output_type": "stream",
     "text": [
      "[I 2023-12-09 12:07:29,793] Trial 279 finished with value: 0.04293164249887716 and parameters: {'topK': 88, 'shrink': 443, 'similarity': 'tversky', 'feature_weighting': 'BM25', 'tversky_alpha': 0.1773556842311082, 'tversky_beta': 1.793368984760384}. Best is trial 276 with value: 0.04687268493217283.\n"
     ]
    },
    {
     "name": "stdout",
     "output_type": "stream",
     "text": [
      "ItemKNNCFRecommender: URM Detected 627 ( 4.8%) users with no interactions.\n",
      "ItemKNNCFRecommender: URM Detected 247 ( 1.1%) items with no interactions.\n",
      "Similarity column 22347 (100.0%), 4594.62 column/sec. Elapsed time 4.86 sec\n",
      "EvaluatorHoldout: Processed 10456 (100.0%) in 10.43 sec. Users per second: 1002\n"
     ]
    },
    {
     "name": "stderr",
     "output_type": "stream",
     "text": [
      "[I 2023-12-09 12:07:45,547] Trial 280 finished with value: 0.04503819861915747 and parameters: {'topK': 28, 'shrink': 449, 'similarity': 'tversky', 'feature_weighting': 'BM25', 'tversky_alpha': 0.21816659108239297, 'tversky_beta': 1.8951988859299687}. Best is trial 276 with value: 0.04687268493217283.\n"
     ]
    },
    {
     "name": "stdout",
     "output_type": "stream",
     "text": [
      "ItemKNNCFRecommender: URM Detected 627 ( 4.8%) users with no interactions.\n",
      "ItemKNNCFRecommender: URM Detected 247 ( 1.1%) items with no interactions.\n",
      "Similarity column 22347 (100.0%), 4559.23 column/sec. Elapsed time 4.90 sec\n",
      "EvaluatorHoldout: Processed 10456 (100.0%) in 11.33 sec. Users per second: 923\n"
     ]
    },
    {
     "name": "stderr",
     "output_type": "stream",
     "text": [
      "[I 2023-12-09 12:08:02,223] Trial 281 finished with value: 0.044329970033155426 and parameters: {'topK': 53, 'shrink': 467, 'similarity': 'tversky', 'feature_weighting': 'BM25', 'tversky_alpha': 0.15369194468267475, 'tversky_beta': 1.7528372422205762}. Best is trial 276 with value: 0.04687268493217283.\n"
     ]
    },
    {
     "name": "stdout",
     "output_type": "stream",
     "text": [
      "ItemKNNCFRecommender: URM Detected 627 ( 4.8%) users with no interactions.\n",
      "ItemKNNCFRecommender: URM Detected 247 ( 1.1%) items with no interactions.\n",
      "Similarity column 22347 (100.0%), 5120.24 column/sec. Elapsed time 4.36 sec\n",
      "EvaluatorHoldout: Processed 10456 (100.0%) in 9.71 sec. Users per second: 1077\n"
     ]
    },
    {
     "name": "stderr",
     "output_type": "stream",
     "text": [
      "[I 2023-12-09 12:08:16,663] Trial 282 finished with value: 0.0433490871801417 and parameters: {'topK': 10, 'shrink': 317, 'similarity': 'dice', 'feature_weighting': 'BM25'}. Best is trial 276 with value: 0.04687268493217283.\n"
     ]
    },
    {
     "name": "stdout",
     "output_type": "stream",
     "text": [
      "ItemKNNCFRecommender: URM Detected 627 ( 4.8%) users with no interactions.\n",
      "ItemKNNCFRecommender: URM Detected 247 ( 1.1%) items with no interactions.\n",
      "Similarity column 22347 (100.0%), 4585.31 column/sec. Elapsed time 4.87 sec\n",
      "EvaluatorHoldout: Processed 10456 (100.0%) in 9.59 sec. Users per second: 1091\n"
     ]
    },
    {
     "name": "stderr",
     "output_type": "stream",
     "text": [
      "[I 2023-12-09 12:08:31,538] Trial 283 finished with value: 0.03835284821656334 and parameters: {'topK': 10, 'shrink': 450, 'similarity': 'tversky', 'feature_weighting': 'TF-IDF', 'tversky_alpha': 0.06783331599756916, 'tversky_beta': 1.672971047702975}. Best is trial 276 with value: 0.04687268493217283.\n"
     ]
    },
    {
     "name": "stdout",
     "output_type": "stream",
     "text": [
      "ItemKNNCFRecommender: URM Detected 627 ( 4.8%) users with no interactions.\n",
      "ItemKNNCFRecommender: URM Detected 247 ( 1.1%) items with no interactions.\n",
      "Similarity column 22347 (100.0%), 4322.68 column/sec. Elapsed time 5.17 sec\n",
      "EvaluatorHoldout: Processed 10456 (100.0%) in 9.35 sec. Users per second: 1118\n"
     ]
    },
    {
     "name": "stderr",
     "output_type": "stream",
     "text": [
      "[I 2023-12-09 12:08:46,356] Trial 284 finished with value: 0.022911657011695296 and parameters: {'topK': 41, 'shrink': 465, 'similarity': 'cosine', 'feature_weighting': 'BM25'}. Best is trial 276 with value: 0.04687268493217283.\n"
     ]
    },
    {
     "name": "stdout",
     "output_type": "stream",
     "text": [
      "ItemKNNCFRecommender: URM Detected 627 ( 4.8%) users with no interactions.\n",
      "ItemKNNCFRecommender: URM Detected 247 ( 1.1%) items with no interactions.\n",
      "Similarity column 22347 (100.0%), 4576.30 column/sec. Elapsed time 4.88 sec\n",
      "EvaluatorHoldout: Processed 10456 (100.0%) in 10.61 sec. Users per second: 985\n"
     ]
    },
    {
     "name": "stderr",
     "output_type": "stream",
     "text": [
      "[I 2023-12-09 12:09:02,289] Trial 285 finished with value: 0.044966928686803076 and parameters: {'topK': 31, 'shrink': 473, 'similarity': 'tversky', 'feature_weighting': 'BM25', 'tversky_alpha': 0.19904605821598614, 'tversky_beta': 1.8293161349351532}. Best is trial 276 with value: 0.04687268493217283.\n"
     ]
    },
    {
     "name": "stdout",
     "output_type": "stream",
     "text": [
      "ItemKNNCFRecommender: URM Detected 627 ( 4.8%) users with no interactions.\n",
      "ItemKNNCFRecommender: URM Detected 247 ( 1.1%) items with no interactions.\n",
      "Similarity column 22347 (100.0%), 4363.65 column/sec. Elapsed time 5.12 sec\n",
      "EvaluatorHoldout: Processed 10456 (100.0%) in 16.59 sec. Users per second: 630\n"
     ]
    },
    {
     "name": "stderr",
     "output_type": "stream",
     "text": [
      "[I 2023-12-09 12:09:24,677] Trial 286 finished with value: 0.033841361684944775 and parameters: {'topK': 427, 'shrink': 434, 'similarity': 'tversky', 'feature_weighting': 'BM25', 'tversky_alpha': 0.13482209413930799, 'tversky_beta': 1.7649648638372737}. Best is trial 276 with value: 0.04687268493217283.\n"
     ]
    },
    {
     "name": "stdout",
     "output_type": "stream",
     "text": [
      "ItemKNNCFRecommender: URM Detected 627 ( 4.8%) users with no interactions.\n",
      "ItemKNNCFRecommender: URM Detected 247 ( 1.1%) items with no interactions.\n",
      "Similarity column 22347 (100.0%), 4575.27 column/sec. Elapsed time 4.88 sec\n",
      "EvaluatorHoldout: Processed 10456 (100.0%) in 11.69 sec. Users per second: 895\n"
     ]
    },
    {
     "name": "stderr",
     "output_type": "stream",
     "text": [
      "[I 2023-12-09 12:09:41,711] Trial 287 finished with value: 0.04344337116381934 and parameters: {'topK': 73, 'shrink': 461, 'similarity': 'tversky', 'feature_weighting': 'BM25', 'tversky_alpha': 0.25006775305291207, 'tversky_beta': 1.7938667036288838}. Best is trial 276 with value: 0.04687268493217283.\n"
     ]
    },
    {
     "name": "stdout",
     "output_type": "stream",
     "text": [
      "ItemKNNCFRecommender: URM Detected 627 ( 4.8%) users with no interactions.\n",
      "ItemKNNCFRecommender: URM Detected 247 ( 1.1%) items with no interactions.\n",
      "Similarity column 22347 (100.0%), 4525.69 column/sec. Elapsed time 4.94 sec\n",
      "EvaluatorHoldout: Processed 10456 (100.0%) in 9.56 sec. Users per second: 1094\n"
     ]
    },
    {
     "name": "stderr",
     "output_type": "stream",
     "text": [
      "[I 2023-12-09 12:09:56,644] Trial 288 finished with value: 0.042468932548791576 and parameters: {'topK': 27, 'shrink': 153, 'similarity': 'tversky', 'feature_weighting': 'BM25', 'tversky_alpha': 0.35432708613023217, 'tversky_beta': 1.914298311802548}. Best is trial 276 with value: 0.04687268493217283.\n"
     ]
    },
    {
     "name": "stdout",
     "output_type": "stream",
     "text": [
      "ItemKNNCFRecommender: URM Detected 627 ( 4.8%) users with no interactions.\n",
      "ItemKNNCFRecommender: URM Detected 247 ( 1.1%) items with no interactions.\n",
      "Similarity column 22347 (100.0%), 1359.44 column/sec. Elapsed time 16.44 sec\n",
      "EvaluatorHoldout: Processed 10456 (100.0%) in 7.91 sec. Users per second: 1322\n"
     ]
    },
    {
     "name": "stderr",
     "output_type": "stream",
     "text": [
      "[I 2023-12-09 12:10:21,308] Trial 289 finished with value: 0.014831804629528303 and parameters: {'topK': 47, 'shrink': 476, 'similarity': 'euclidean', 'feature_weighting': 'BM25', 'normalize_avg_row': False, 'similarity_from_distance_mode': 'exp', 'normalize': False}. Best is trial 276 with value: 0.04687268493217283.\n"
     ]
    },
    {
     "name": "stdout",
     "output_type": "stream",
     "text": [
      "ItemKNNCFRecommender: URM Detected 627 ( 4.8%) users with no interactions.\n",
      "ItemKNNCFRecommender: URM Detected 247 ( 1.1%) items with no interactions.\n",
      "Similarity column 22347 (100.0%), 4640.04 column/sec. Elapsed time 4.82 sec\n",
      "EvaluatorHoldout: Processed 10456 (100.0%) in 9.59 sec. Users per second: 1091\n"
     ]
    },
    {
     "name": "stderr",
     "output_type": "stream",
     "text": [
      "[I 2023-12-09 12:10:36,127] Trial 290 finished with value: 0.04671665695097271 and parameters: {'topK': 11, 'shrink': 500, 'similarity': 'tversky', 'feature_weighting': 'BM25', 'tversky_alpha': 0.2070605448311803, 'tversky_beta': 1.8387783561428663}. Best is trial 276 with value: 0.04687268493217283.\n"
     ]
    },
    {
     "name": "stdout",
     "output_type": "stream",
     "text": [
      "ItemKNNCFRecommender: URM Detected 627 ( 4.8%) users with no interactions.\n",
      "ItemKNNCFRecommender: URM Detected 247 ( 1.1%) items with no interactions.\n",
      "Similarity column 22347 (100.0%), 4610.26 column/sec. Elapsed time 4.85 sec\n",
      "EvaluatorHoldout: Processed 10456 (100.0%) in 9.59 sec. Users per second: 1091\n"
     ]
    },
    {
     "name": "stderr",
     "output_type": "stream",
     "text": [
      "[I 2023-12-09 12:10:50,970] Trial 291 finished with value: 0.04672179943770491 and parameters: {'topK': 11, 'shrink': 452, 'similarity': 'tversky', 'feature_weighting': 'BM25', 'tversky_alpha': 0.19522989176303984, 'tversky_beta': 1.9340663527297237}. Best is trial 276 with value: 0.04687268493217283.\n"
     ]
    },
    {
     "name": "stdout",
     "output_type": "stream",
     "text": [
      "ItemKNNCFRecommender: URM Detected 627 ( 4.8%) users with no interactions.\n",
      "ItemKNNCFRecommender: URM Detected 247 ( 1.1%) items with no interactions.\n",
      "Similarity column 22347 (100.0%), 4610.33 column/sec. Elapsed time 4.85 sec\n",
      "EvaluatorHoldout: Processed 10456 (100.0%) in 11.49 sec. Users per second: 910\n"
     ]
    },
    {
     "name": "stderr",
     "output_type": "stream",
     "text": [
      "[I 2023-12-09 12:11:07,763] Trial 292 finished with value: 0.043879628617578784 and parameters: {'topK': 61, 'shrink': 500, 'similarity': 'tversky', 'feature_weighting': 'BM25', 'tversky_alpha': 0.19496741306778115, 'tversky_beta': 1.8528261213940707}. Best is trial 276 with value: 0.04687268493217283.\n"
     ]
    },
    {
     "name": "stdout",
     "output_type": "stream",
     "text": [
      "ItemKNNCFRecommender: URM Detected 627 ( 4.8%) users with no interactions.\n",
      "ItemKNNCFRecommender: URM Detected 247 ( 1.1%) items with no interactions.\n",
      "Similarity column 22347 (100.0%), 4575.88 column/sec. Elapsed time 4.88 sec\n",
      "EvaluatorHoldout: Processed 10456 (100.0%) in 10.51 sec. Users per second: 995\n"
     ]
    },
    {
     "name": "stderr",
     "output_type": "stream",
     "text": [
      "[I 2023-12-09 12:11:23,596] Trial 293 finished with value: 0.04506017278755473 and parameters: {'topK': 30, 'shrink': 443, 'similarity': 'tversky', 'feature_weighting': 'BM25', 'tversky_alpha': 0.1426034021076434, 'tversky_beta': 1.966497823575702}. Best is trial 276 with value: 0.04687268493217283.\n"
     ]
    },
    {
     "name": "stdout",
     "output_type": "stream",
     "text": [
      "ItemKNNCFRecommender: URM Detected 627 ( 4.8%) users with no interactions.\n",
      "ItemKNNCFRecommender: URM Detected 247 ( 1.1%) items with no interactions.\n",
      "Similarity column 22347 (100.0%), 4557.84 column/sec. Elapsed time 4.90 sec\n",
      "EvaluatorHoldout: Processed 10456 (100.0%) in 9.45 sec. Users per second: 1107\n"
     ]
    },
    {
     "name": "stderr",
     "output_type": "stream",
     "text": [
      "[I 2023-12-09 12:11:38,374] Trial 294 finished with value: 0.04671389405035229 and parameters: {'topK': 10, 'shrink': 396, 'similarity': 'tversky', 'feature_weighting': 'BM25', 'tversky_alpha': 0.21375709312858354, 'tversky_beta': 1.9436138880670364}. Best is trial 276 with value: 0.04687268493217283.\n"
     ]
    },
    {
     "name": "stdout",
     "output_type": "stream",
     "text": [
      "ItemKNNCFRecommender: URM Detected 627 ( 4.8%) users with no interactions.\n",
      "ItemKNNCFRecommender: URM Detected 247 ( 1.1%) items with no interactions.\n",
      "Similarity column 22347 (100.0%), 4578.80 column/sec. Elapsed time 4.88 sec\n",
      "EvaluatorHoldout: Processed 10456 (100.0%) in 11.06 sec. Users per second: 945\n"
     ]
    },
    {
     "name": "stderr",
     "output_type": "stream",
     "text": [
      "[I 2023-12-09 12:11:54,765] Trial 295 finished with value: 0.04456229278245404 and parameters: {'topK': 44, 'shrink': 484, 'similarity': 'tversky', 'feature_weighting': 'BM25', 'tversky_alpha': 0.22006609365844676, 'tversky_beta': 1.9311104514649493}. Best is trial 276 with value: 0.04687268493217283.\n"
     ]
    },
    {
     "name": "stdout",
     "output_type": "stream",
     "text": [
      "ItemKNNCFRecommender: URM Detected 627 ( 4.8%) users with no interactions.\n",
      "ItemKNNCFRecommender: URM Detected 247 ( 1.1%) items with no interactions.\n",
      "Similarity column 22347 (100.0%), 4552.26 column/sec. Elapsed time 4.91 sec\n",
      "EvaluatorHoldout: Processed 10456 (100.0%) in 9.48 sec. Users per second: 1103\n"
     ]
    },
    {
     "name": "stderr",
     "output_type": "stream",
     "text": [
      "[I 2023-12-09 12:12:09,571] Trial 296 finished with value: 0.046499769252256504 and parameters: {'topK': 10, 'shrink': 393, 'similarity': 'tversky', 'feature_weighting': 'BM25', 'tversky_alpha': 0.26766984182277237, 'tversky_beta': 1.9473541602282844}. Best is trial 276 with value: 0.04687268493217283.\n"
     ]
    },
    {
     "name": "stdout",
     "output_type": "stream",
     "text": [
      "ItemKNNCFRecommender: URM Detected 627 ( 4.8%) users with no interactions.\n",
      "ItemKNNCFRecommender: URM Detected 247 ( 1.1%) items with no interactions.\n",
      "Similarity column 22347 (100.0%), 4604.19 column/sec. Elapsed time 4.85 sec\n",
      "EvaluatorHoldout: Processed 10456 (100.0%) in 10.41 sec. Users per second: 1004\n"
     ]
    },
    {
     "name": "stderr",
     "output_type": "stream",
     "text": [
      "[I 2023-12-09 12:12:25,262] Trial 297 finished with value: 0.04521973409358694 and parameters: {'topK': 28, 'shrink': 473, 'similarity': 'tversky', 'feature_weighting': 'BM25', 'tversky_alpha': 0.17567184593091767, 'tversky_beta': 1.8760685128769274}. Best is trial 276 with value: 0.04687268493217283.\n"
     ]
    },
    {
     "name": "stdout",
     "output_type": "stream",
     "text": [
      "ItemKNNCFRecommender: URM Detected 627 ( 4.8%) users with no interactions.\n",
      "ItemKNNCFRecommender: URM Detected 247 ( 1.1%) items with no interactions.\n",
      "Similarity column 22347 (100.0%), 4536.80 column/sec. Elapsed time 4.93 sec\n",
      "EvaluatorHoldout: Processed 10456 (100.0%) in 11.53 sec. Users per second: 907\n"
     ]
    },
    {
     "name": "stderr",
     "output_type": "stream",
     "text": [
      "[I 2023-12-09 12:12:42,143] Trial 298 finished with value: 0.03311541334207781 and parameters: {'topK': 62, 'shrink': 488, 'similarity': 'tversky', 'feature_weighting': 'none', 'tversky_alpha': 0.08352542974766058, 'tversky_beta': 1.8386624360056547}. Best is trial 276 with value: 0.04687268493217283.\n"
     ]
    },
    {
     "name": "stdout",
     "output_type": "stream",
     "text": [
      "ItemKNNCFRecommender: URM Detected 627 ( 4.8%) users with no interactions.\n",
      "ItemKNNCFRecommender: URM Detected 247 ( 1.1%) items with no interactions.\n",
      "Similarity column 22347 (100.0%), 4598.01 column/sec. Elapsed time 4.86 sec\n",
      "EvaluatorHoldout: Processed 10456 (100.0%) in 9.47 sec. Users per second: 1104\n"
     ]
    },
    {
     "name": "stderr",
     "output_type": "stream",
     "text": [
      "[I 2023-12-09 12:12:56,897] Trial 299 finished with value: 0.04685008455690415 and parameters: {'topK': 10, 'shrink': 468, 'similarity': 'tversky', 'feature_weighting': 'BM25', 'tversky_alpha': 0.22296625283643304, 'tversky_beta': 1.9749601437127569}. Best is trial 276 with value: 0.04687268493217283.\n"
     ]
    },
    {
     "name": "stdout",
     "output_type": "stream",
     "text": [
      "CPU times: user 1h 20min 1s, sys: 7min 46s, total: 1h 27min 48s\n",
      "Wall time: 1h 28min 11s\n"
     ]
    }
   ],
   "source": [
    "%%time\n",
    "\n",
    "if config['tune_parameters_item_knn']:\n",
    "    study = optuna.create_study(direction='maximize', study_name='hyperparameters_tuning_knn_item_no_cv', \n",
    "                                storage=f'sqlite:///{config[\"database_path\"]}', load_if_exists=True)\n",
    "    study.optimize(objective_item_knn, n_trials=300)"
   ]
  },
  {
   "cell_type": "code",
   "execution_count": 18,
   "id": "8f867619",
   "metadata": {
    "execution": {
     "iopub.execute_input": "2023-12-09T12:12:57.184771Z",
     "iopub.status.busy": "2023-12-09T12:12:57.184006Z",
     "iopub.status.idle": "2023-12-09T12:13:07.935180Z",
     "shell.execute_reply": "2023-12-09T12:13:07.933938Z"
    },
    "papermill": {
     "duration": 10.892645,
     "end_time": "2023-12-09T12:13:07.937930",
     "exception": false,
     "start_time": "2023-12-09T12:12:57.045285",
     "status": "completed"
    },
    "tags": []
   },
   "outputs": [
    {
     "data": {
      "text/html": [
       "        <script type=\"text/javascript\">\n",
       "        window.PlotlyConfig = {MathJaxConfig: 'local'};\n",
       "        if (window.MathJax && window.MathJax.Hub && window.MathJax.Hub.Config) {window.MathJax.Hub.Config({SVG: {font: \"STIX-Web\"}});}\n",
       "        if (typeof require !== 'undefined') {\n",
       "        require.undef(\"plotly\");\n",
       "        requirejs.config({\n",
       "            paths: {\n",
       "                'plotly': ['https://cdn.plot.ly/plotly-2.25.2.min']\n",
       "            }\n",
       "        });\n",
       "        require(['plotly'], function(Plotly) {\n",
       "            window._Plotly = Plotly;\n",
       "        });\n",
       "        }\n",
       "        </script>\n",
       "        "
      ]
     },
     "metadata": {},
     "output_type": "display_data"
    },
    {
     "data": {
      "text/html": [
       "<div>                            <div id=\"418419c1-b50f-4b3f-a0b9-cc75e9b27ddc\" class=\"plotly-graph-div\" style=\"height:525px; width:100%;\"></div>            <script type=\"text/javascript\">                require([\"plotly\"], function(Plotly) {                    window.PLOTLYENV=window.PLOTLYENV || {};                                    if (document.getElementById(\"418419c1-b50f-4b3f-a0b9-cc75e9b27ddc\")) {                    Plotly.newPlot(                        \"418419c1-b50f-4b3f-a0b9-cc75e9b27ddc\",                        [{\"cliponaxis\":false,\"hovertemplate\":[\"topK (IntDistribution): 0.05335900114642153\\u003cextra\\u003e\\u003c\\u002fextra\\u003e\",\"shrink (IntDistribution): 0.05622761075259196\\u003cextra\\u003e\\u003c\\u002fextra\\u003e\",\"feature_weighting (CategoricalDistribution): 0.11451690686705482\\u003cextra\\u003e\\u003c\\u002fextra\\u003e\",\"similarity (CategoricalDistribution): 0.7758964812339317\\u003cextra\\u003e\\u003c\\u002fextra\\u003e\"],\"name\":\"Objective Value\",\"orientation\":\"h\",\"text\":[\"0.05\",\"0.06\",\"0.11\",\"0.78\"],\"textposition\":\"outside\",\"x\":[0.05335900114642153,0.05622761075259196,0.11451690686705482,0.7758964812339317],\"y\":[\"topK\",\"shrink\",\"feature_weighting\",\"similarity\"],\"type\":\"bar\"}],                        {\"title\":{\"text\":\"Hyperparameter Importances\"},\"xaxis\":{\"title\":{\"text\":\"Hyperparameter Importance\"}},\"yaxis\":{\"title\":{\"text\":\"Hyperparameter\"}},\"template\":{\"data\":{\"histogram2dcontour\":[{\"type\":\"histogram2dcontour\",\"colorbar\":{\"outlinewidth\":0,\"ticks\":\"\"},\"colorscale\":[[0.0,\"#0d0887\"],[0.1111111111111111,\"#46039f\"],[0.2222222222222222,\"#7201a8\"],[0.3333333333333333,\"#9c179e\"],[0.4444444444444444,\"#bd3786\"],[0.5555555555555556,\"#d8576b\"],[0.6666666666666666,\"#ed7953\"],[0.7777777777777778,\"#fb9f3a\"],[0.8888888888888888,\"#fdca26\"],[1.0,\"#f0f921\"]]}],\"choropleth\":[{\"type\":\"choropleth\",\"colorbar\":{\"outlinewidth\":0,\"ticks\":\"\"}}],\"histogram2d\":[{\"type\":\"histogram2d\",\"colorbar\":{\"outlinewidth\":0,\"ticks\":\"\"},\"colorscale\":[[0.0,\"#0d0887\"],[0.1111111111111111,\"#46039f\"],[0.2222222222222222,\"#7201a8\"],[0.3333333333333333,\"#9c179e\"],[0.4444444444444444,\"#bd3786\"],[0.5555555555555556,\"#d8576b\"],[0.6666666666666666,\"#ed7953\"],[0.7777777777777778,\"#fb9f3a\"],[0.8888888888888888,\"#fdca26\"],[1.0,\"#f0f921\"]]}],\"heatmap\":[{\"type\":\"heatmap\",\"colorbar\":{\"outlinewidth\":0,\"ticks\":\"\"},\"colorscale\":[[0.0,\"#0d0887\"],[0.1111111111111111,\"#46039f\"],[0.2222222222222222,\"#7201a8\"],[0.3333333333333333,\"#9c179e\"],[0.4444444444444444,\"#bd3786\"],[0.5555555555555556,\"#d8576b\"],[0.6666666666666666,\"#ed7953\"],[0.7777777777777778,\"#fb9f3a\"],[0.8888888888888888,\"#fdca26\"],[1.0,\"#f0f921\"]]}],\"heatmapgl\":[{\"type\":\"heatmapgl\",\"colorbar\":{\"outlinewidth\":0,\"ticks\":\"\"},\"colorscale\":[[0.0,\"#0d0887\"],[0.1111111111111111,\"#46039f\"],[0.2222222222222222,\"#7201a8\"],[0.3333333333333333,\"#9c179e\"],[0.4444444444444444,\"#bd3786\"],[0.5555555555555556,\"#d8576b\"],[0.6666666666666666,\"#ed7953\"],[0.7777777777777778,\"#fb9f3a\"],[0.8888888888888888,\"#fdca26\"],[1.0,\"#f0f921\"]]}],\"contourcarpet\":[{\"type\":\"contourcarpet\",\"colorbar\":{\"outlinewidth\":0,\"ticks\":\"\"}}],\"contour\":[{\"type\":\"contour\",\"colorbar\":{\"outlinewidth\":0,\"ticks\":\"\"},\"colorscale\":[[0.0,\"#0d0887\"],[0.1111111111111111,\"#46039f\"],[0.2222222222222222,\"#7201a8\"],[0.3333333333333333,\"#9c179e\"],[0.4444444444444444,\"#bd3786\"],[0.5555555555555556,\"#d8576b\"],[0.6666666666666666,\"#ed7953\"],[0.7777777777777778,\"#fb9f3a\"],[0.8888888888888888,\"#fdca26\"],[1.0,\"#f0f921\"]]}],\"surface\":[{\"type\":\"surface\",\"colorbar\":{\"outlinewidth\":0,\"ticks\":\"\"},\"colorscale\":[[0.0,\"#0d0887\"],[0.1111111111111111,\"#46039f\"],[0.2222222222222222,\"#7201a8\"],[0.3333333333333333,\"#9c179e\"],[0.4444444444444444,\"#bd3786\"],[0.5555555555555556,\"#d8576b\"],[0.6666666666666666,\"#ed7953\"],[0.7777777777777778,\"#fb9f3a\"],[0.8888888888888888,\"#fdca26\"],[1.0,\"#f0f921\"]]}],\"mesh3d\":[{\"type\":\"mesh3d\",\"colorbar\":{\"outlinewidth\":0,\"ticks\":\"\"}}],\"scatter\":[{\"fillpattern\":{\"fillmode\":\"overlay\",\"size\":10,\"solidity\":0.2},\"type\":\"scatter\"}],\"parcoords\":[{\"type\":\"parcoords\",\"line\":{\"colorbar\":{\"outlinewidth\":0,\"ticks\":\"\"}}}],\"scatterpolargl\":[{\"type\":\"scatterpolargl\",\"marker\":{\"colorbar\":{\"outlinewidth\":0,\"ticks\":\"\"}}}],\"bar\":[{\"error_x\":{\"color\":\"#2a3f5f\"},\"error_y\":{\"color\":\"#2a3f5f\"},\"marker\":{\"line\":{\"color\":\"#E5ECF6\",\"width\":0.5},\"pattern\":{\"fillmode\":\"overlay\",\"size\":10,\"solidity\":0.2}},\"type\":\"bar\"}],\"scattergeo\":[{\"type\":\"scattergeo\",\"marker\":{\"colorbar\":{\"outlinewidth\":0,\"ticks\":\"\"}}}],\"scatterpolar\":[{\"type\":\"scatterpolar\",\"marker\":{\"colorbar\":{\"outlinewidth\":0,\"ticks\":\"\"}}}],\"histogram\":[{\"marker\":{\"pattern\":{\"fillmode\":\"overlay\",\"size\":10,\"solidity\":0.2}},\"type\":\"histogram\"}],\"scattergl\":[{\"type\":\"scattergl\",\"marker\":{\"colorbar\":{\"outlinewidth\":0,\"ticks\":\"\"}}}],\"scatter3d\":[{\"type\":\"scatter3d\",\"line\":{\"colorbar\":{\"outlinewidth\":0,\"ticks\":\"\"}},\"marker\":{\"colorbar\":{\"outlinewidth\":0,\"ticks\":\"\"}}}],\"scattermapbox\":[{\"type\":\"scattermapbox\",\"marker\":{\"colorbar\":{\"outlinewidth\":0,\"ticks\":\"\"}}}],\"scatterternary\":[{\"type\":\"scatterternary\",\"marker\":{\"colorbar\":{\"outlinewidth\":0,\"ticks\":\"\"}}}],\"scattercarpet\":[{\"type\":\"scattercarpet\",\"marker\":{\"colorbar\":{\"outlinewidth\":0,\"ticks\":\"\"}}}],\"carpet\":[{\"aaxis\":{\"endlinecolor\":\"#2a3f5f\",\"gridcolor\":\"white\",\"linecolor\":\"white\",\"minorgridcolor\":\"white\",\"startlinecolor\":\"#2a3f5f\"},\"baxis\":{\"endlinecolor\":\"#2a3f5f\",\"gridcolor\":\"white\",\"linecolor\":\"white\",\"minorgridcolor\":\"white\",\"startlinecolor\":\"#2a3f5f\"},\"type\":\"carpet\"}],\"table\":[{\"cells\":{\"fill\":{\"color\":\"#EBF0F8\"},\"line\":{\"color\":\"white\"}},\"header\":{\"fill\":{\"color\":\"#C8D4E3\"},\"line\":{\"color\":\"white\"}},\"type\":\"table\"}],\"barpolar\":[{\"marker\":{\"line\":{\"color\":\"#E5ECF6\",\"width\":0.5},\"pattern\":{\"fillmode\":\"overlay\",\"size\":10,\"solidity\":0.2}},\"type\":\"barpolar\"}],\"pie\":[{\"automargin\":true,\"type\":\"pie\"}]},\"layout\":{\"autotypenumbers\":\"strict\",\"colorway\":[\"#636efa\",\"#EF553B\",\"#00cc96\",\"#ab63fa\",\"#FFA15A\",\"#19d3f3\",\"#FF6692\",\"#B6E880\",\"#FF97FF\",\"#FECB52\"],\"font\":{\"color\":\"#2a3f5f\"},\"hovermode\":\"closest\",\"hoverlabel\":{\"align\":\"left\"},\"paper_bgcolor\":\"white\",\"plot_bgcolor\":\"#E5ECF6\",\"polar\":{\"bgcolor\":\"#E5ECF6\",\"angularaxis\":{\"gridcolor\":\"white\",\"linecolor\":\"white\",\"ticks\":\"\"},\"radialaxis\":{\"gridcolor\":\"white\",\"linecolor\":\"white\",\"ticks\":\"\"}},\"ternary\":{\"bgcolor\":\"#E5ECF6\",\"aaxis\":{\"gridcolor\":\"white\",\"linecolor\":\"white\",\"ticks\":\"\"},\"baxis\":{\"gridcolor\":\"white\",\"linecolor\":\"white\",\"ticks\":\"\"},\"caxis\":{\"gridcolor\":\"white\",\"linecolor\":\"white\",\"ticks\":\"\"}},\"coloraxis\":{\"colorbar\":{\"outlinewidth\":0,\"ticks\":\"\"}},\"colorscale\":{\"sequential\":[[0.0,\"#0d0887\"],[0.1111111111111111,\"#46039f\"],[0.2222222222222222,\"#7201a8\"],[0.3333333333333333,\"#9c179e\"],[0.4444444444444444,\"#bd3786\"],[0.5555555555555556,\"#d8576b\"],[0.6666666666666666,\"#ed7953\"],[0.7777777777777778,\"#fb9f3a\"],[0.8888888888888888,\"#fdca26\"],[1.0,\"#f0f921\"]],\"sequentialminus\":[[0.0,\"#0d0887\"],[0.1111111111111111,\"#46039f\"],[0.2222222222222222,\"#7201a8\"],[0.3333333333333333,\"#9c179e\"],[0.4444444444444444,\"#bd3786\"],[0.5555555555555556,\"#d8576b\"],[0.6666666666666666,\"#ed7953\"],[0.7777777777777778,\"#fb9f3a\"],[0.8888888888888888,\"#fdca26\"],[1.0,\"#f0f921\"]],\"diverging\":[[0,\"#8e0152\"],[0.1,\"#c51b7d\"],[0.2,\"#de77ae\"],[0.3,\"#f1b6da\"],[0.4,\"#fde0ef\"],[0.5,\"#f7f7f7\"],[0.6,\"#e6f5d0\"],[0.7,\"#b8e186\"],[0.8,\"#7fbc41\"],[0.9,\"#4d9221\"],[1,\"#276419\"]]},\"xaxis\":{\"gridcolor\":\"white\",\"linecolor\":\"white\",\"ticks\":\"\",\"title\":{\"standoff\":15},\"zerolinecolor\":\"white\",\"automargin\":true,\"zerolinewidth\":2},\"yaxis\":{\"gridcolor\":\"white\",\"linecolor\":\"white\",\"ticks\":\"\",\"title\":{\"standoff\":15},\"zerolinecolor\":\"white\",\"automargin\":true,\"zerolinewidth\":2},\"scene\":{\"xaxis\":{\"backgroundcolor\":\"#E5ECF6\",\"gridcolor\":\"white\",\"linecolor\":\"white\",\"showbackground\":true,\"ticks\":\"\",\"zerolinecolor\":\"white\",\"gridwidth\":2},\"yaxis\":{\"backgroundcolor\":\"#E5ECF6\",\"gridcolor\":\"white\",\"linecolor\":\"white\",\"showbackground\":true,\"ticks\":\"\",\"zerolinecolor\":\"white\",\"gridwidth\":2},\"zaxis\":{\"backgroundcolor\":\"#E5ECF6\",\"gridcolor\":\"white\",\"linecolor\":\"white\",\"showbackground\":true,\"ticks\":\"\",\"zerolinecolor\":\"white\",\"gridwidth\":2}},\"shapedefaults\":{\"line\":{\"color\":\"#2a3f5f\"}},\"annotationdefaults\":{\"arrowcolor\":\"#2a3f5f\",\"arrowhead\":0,\"arrowwidth\":1},\"geo\":{\"bgcolor\":\"white\",\"landcolor\":\"#E5ECF6\",\"subunitcolor\":\"white\",\"showland\":true,\"showlakes\":true,\"lakecolor\":\"white\"},\"title\":{\"x\":0.05},\"mapbox\":{\"style\":\"light\"}}}},                        {\"responsive\": true}                    ).then(function(){\n",
       "                            \n",
       "var gd = document.getElementById('418419c1-b50f-4b3f-a0b9-cc75e9b27ddc');\n",
       "var x = new MutationObserver(function (mutations, observer) {{\n",
       "        var display = window.getComputedStyle(gd).display;\n",
       "        if (!display || display === 'none') {{\n",
       "            console.log([gd, 'removed!']);\n",
       "            Plotly.purge(gd);\n",
       "            observer.disconnect();\n",
       "        }}\n",
       "}});\n",
       "\n",
       "// Listen for the removal of the full notebook cells\n",
       "var notebookContainer = gd.closest('#notebook-container');\n",
       "if (notebookContainer) {{\n",
       "    x.observe(notebookContainer, {childList: true});\n",
       "}}\n",
       "\n",
       "// Listen for the clearing of the current output cell\n",
       "var outputEl = gd.closest('.output');\n",
       "if (outputEl) {{\n",
       "    x.observe(outputEl, {childList: true});\n",
       "}}\n",
       "\n",
       "                        })                };                });            </script>        </div>"
      ]
     },
     "metadata": {},
     "output_type": "display_data"
    }
   ],
   "source": [
    "if config['tune_parameters_item_knn']:\n",
    "    fig = optuna.visualization.plot_param_importances(study)\n",
    "    fig.show()"
   ]
  },
  {
   "cell_type": "code",
   "execution_count": 19,
   "id": "0c5db49d",
   "metadata": {
    "execution": {
     "iopub.execute_input": "2023-12-09T12:13:08.217786Z",
     "iopub.status.busy": "2023-12-09T12:13:08.216900Z",
     "iopub.status.idle": "2023-12-09T12:13:08.344406Z",
     "shell.execute_reply": "2023-12-09T12:13:08.342190Z"
    },
    "papermill": {
     "duration": 0.270028,
     "end_time": "2023-12-09T12:13:08.347366",
     "exception": false,
     "start_time": "2023-12-09T12:13:08.077338",
     "status": "completed"
    },
    "tags": []
   },
   "outputs": [
    {
     "data": {
      "text/html": [
       "<div>                            <div id=\"c6fda48d-4acb-42f2-86eb-6a01e9eebd49\" class=\"plotly-graph-div\" style=\"height:525px; width:100%;\"></div>            <script type=\"text/javascript\">                require([\"plotly\"], function(Plotly) {                    window.PLOTLYENV=window.PLOTLYENV || {};                                    if (document.getElementById(\"c6fda48d-4acb-42f2-86eb-6a01e9eebd49\")) {                    Plotly.newPlot(                        \"c6fda48d-4acb-42f2-86eb-6a01e9eebd49\",                        [{\"mode\":\"markers\",\"name\":\"Objective Value\",\"x\":[0,1,2,3,4,5,6,7,8,9,10,11,12,13,14,15,16,17,18,19,20,21,22,23,24,25,26,27,28,29,30,31,32,33,34,35,36,37,38,39,40,41,42,43,44,45,46,47,48,49,50,51,52,53,54,55,56,57,58,59,60,61,62,63,64,65,66,67,68,69,70,71,72,73,74,75,76,77,78,79,80,81,82,83,84,85,86,87,88,89,90,91,92,93,94,95,96,97,98,99,100,101,102,103,104,105,106,107,108,109,110,111,112,113,114,115,116,117,118,119,120,121,122,123,124,125,126,127,128,129,130,131,132,133,134,135,136,137,138,139,140,141,142,143,144,145,146,147,148,149,150,151,152,153,154,155,156,157,158,159,160,161,162,163,164,165,166,167,168,169,170,171,172,173,174,175,176,177,178,179,180,181,182,183,184,185,186,187,188,189,190,191,192,193,194,195,196,197,198,199,200,201,202,203,204,205,206,207,208,209,210,211,212,213,214,215,216,217,218,219,220,221,222,223,224,225,226,227,228,229,230,231,232,233,234,235,236,237,238,239,240,241,242,243,244,245,246,247,248,249,250,251,252,253,254,255,256,257,258,259,260,261,262,263,264,265,266,267,268,269,270,271,272,273,274,275,276,277,278,279,280,281,282,283,284,285,286,287,288,289,290,291,292,293,294,295,296,297,298,299],\"y\":[0.03742553831019832,0.019689644284135395,0.03653141736801885,0.006844998998069001,0.038312991097995346,0.02770694049744375,0.03413762584860547,0.02930350615124925,0.03193876683547712,0.037982657485335906,0.04108638542767332,0.04097292053776418,0.040488035274043835,0.04090489549556162,0.030957986452678724,0.039939929682661704,0.041439345981953625,0.02259664838901643,0.040920417835586684,0.04041288285908648,0.010682166994571333,0.040194325275379694,0.041287545845933984,0.041429159683511706,0.04163148902126561,0.042445478255061876,0.04226567718390651,0.04243210399436546,0.023614545760920976,0.04099472771766249,0.03634763513923855,0.04233174390643834,0.04231494638151161,0.014606905278051023,0.041114739315772635,0.03572427845787681,0.04116894985487229,0.03745837811661304,0.020505504548159352,0.022320768207818753,0.020278711395295166,0.04217417887200844,0.041805862966201986,0.04194362088752916,0.04158997340328676,0.034987650441457414,0.013851658043987778,0.035480642237767854,0.03843973916396491,0.04296053530440534,0.039081771990867674,0.042890643027168086,0.0425533528254458,0.042698484807083215,0.04243500731713289,0.04219570141241956,0.035107601316477055,0.04132990020160117,0.04323487463718009,0.043733149342369514,0.023202922905964225,0.043301362626152834,0.04311514388336367,0.04310361408654302,0.04298318501718523,0.024073786904458248,0.043414060887043596,0.0269611432943493,0.04496086396813298,0.040196321546981925,0.04551017643094022,0.043870941420435114,0.04571825928152496,0.04564170264509853,0.04628549264643436,0.04324570611845915,0.04563579732454135,0.036710151989896044,0.04632226047776987,0.04352006063200648,0.045957720789157955,0.04570064579006891,0.04645695947340995,0.04643941809062374,0.045893206300628514,0.027627632345976,0.03331625496411306,0.04328113804180233,0.041051556940042554,0.04586286373131303,0.04356950440849693,0.04338710742521999,0.045761714243208754,0.04276076772203449,0.04585388809948929,0.04352818234536914,0.03483972140246096,0.04361803733862896,0.04051046486562013,0.0435991145055325,0.037086046896443306,0.04529912194411105,0.04599361572606659,0.04378834663169083,0.04315405599883465,0.04611641299595638,0.04331285826623481,0.0427004772834925,0.04383563853365946,0.040004800919348035,0.02113529408192757,0.04532321762548492,0.04459452915315649,0.039281687585771774,0.04601519519437529,0.015444026214158095,0.0457780980920811,0.03157588564627617,0.043226286115058625,0.04382375198868176,0.044471500376483834,0.04535308959084847,0.04394703124810298,0.04586061318176914,0.046325057535128986,0.04346638901033559,0.034452922905964564,0.04239086542548714,0.04404951284900655,0.04261402278330406,0.043338851544188726,0.04565926300385055,0.031072354598559834,0.045913317029184234,0.04404180481169836,0.04640622533124506,0.04647952569194015,0.022951715275500675,0.015405694763240569,0.03540750507037848,0.04463328187051467,0.04593098365334467,0.04643886019722917,0.04408551784651692,0.03629260483841626,0.022506315201418464,0.0462481099938068,0.044585769847342784,0.04294674736765443,0.0437837240864217,0.027433925687081927,0.0459335226375688,0.04452568814442449,0.046434476749129275,0.04379614195844158,0.046581605002368756,0.043655689449970815,0.04347085215749201,0.03666745986203753,0.04405648082364873,0.04416697028212005,0.04642917486428447,0.044922449022966174,0.04654185794440247,0.0371013794768104,0.044049068811406814,0.04469292333102655,0.04328774167790109,0.02276291959655579,0.046358531138801465,0.04483715585188489,0.04642447641515219,0.04469948522000041,0.04615080503637379,0.046412009205621,0.03560913229739782,0.0442720136384067,0.017125258832173494,0.04635524829671792,0.0204709796759816,0.04659445932160221,0.044644527027848255,0.04664752750756058,0.03449497744137231,0.04497186623310437,0.04401087019224991,0.046589760872469965,0.035039048742425166,0.04322397104723099,0.04510096731883338,0.044035170814054385,0.04198750091084686,0.04637506679540017,0.046500945762136155,0.04429856860494831,0.046383165737604024,0.04357847624512754,0.044234137610668335,0.03371450735356673,0.04496790405144529,0.04379301092408455,0.044906592705943174,0.045944467974642696,0.04613675902648804,0.046554473166466846,0.04409026942835345,0.04478740466474837,0.046204169247398716,0.042675497322112364,0.02929937698109101,0.023954951816227636,0.04486072400140945,0.04399195874473292,0.046145499356335856,0.044592373483441416,0.043964857270376245,0.04486877740129527,0.015580535516935555,0.04425323502265036,0.04288884031041678,0.022602940819275937,0.0465458808491523,0.04487394265918632,0.04622472021836085,0.04327544145686904,0.04635612119114474,0.04640832786825581,0.044137333618732476,0.03665975182472936,0.04673019060978189,0.04677447671876762,0.046741648297932314,0.045138718105197276,0.04431032611335845,0.04483827543386706,0.0449837451876956,0.044149235344482736,0.04645062909121889,0.04650720403565716,0.0443319890759166,0.04499491823635913,0.04668862185909864,0.046653933793614884,0.04484361147545016,0.04394021887638043,0.0442095865061154,0.04672664969456347,0.046657250792436905,0.04481656313379783,0.04399635737360553,0.04514001226606483,0.03605231597867448,0.045440022285374734,0.04536639933326099,0.023954951816227636,0.04433976922189487,0.0436696823271524,0.04667674290450739,0.046761785592840076,0.04434469917780996,0.046620350129340744,0.02086811248345292,0.045004641521235546,0.0334635615914311,0.04441005240402778,0.021563118616485143,0.04405331563255308,0.044876011039458465,0.03623821972043133,0.04674819880132673,0.04355011476664184,0.04679264051323207,0.04684479785283206,0.04541465521429227,0.03353248229921945,0.04369230167838678,0.04687268493217283,0.030029852989398007,0.044585071531801294,0.04293164249887716,0.04503819861915747,0.044329970033155426,0.0433490871801417,0.03835284821656334,0.022911657011695296,0.044966928686803076,0.033841361684944775,0.04344337116381934,0.042468932548791576,0.014831804629528303,0.04671665695097271,0.04672179943770491,0.043879628617578784,0.04506017278755473,0.04671389405035229,0.04456229278245404,0.046499769252256504,0.04521973409358694,0.03311541334207781,0.04685008455690415],\"type\":\"scatter\"},{\"mode\":\"lines\",\"name\":\"Best Value\",\"x\":[0,1,2,3,4,5,6,7,8,9,10,11,12,13,14,15,16,17,18,19,20,21,22,23,24,25,26,27,28,29,30,31,32,33,34,35,36,37,38,39,40,41,42,43,44,45,46,47,48,49,50,51,52,53,54,55,56,57,58,59,60,61,62,63,64,65,66,67,68,69,70,71,72,73,74,75,76,77,78,79,80,81,82,83,84,85,86,87,88,89,90,91,92,93,94,95,96,97,98,99,100,101,102,103,104,105,106,107,108,109,110,111,112,113,114,115,116,117,118,119,120,121,122,123,124,125,126,127,128,129,130,131,132,133,134,135,136,137,138,139,140,141,142,143,144,145,146,147,148,149,150,151,152,153,154,155,156,157,158,159,160,161,162,163,164,165,166,167,168,169,170,171,172,173,174,175,176,177,178,179,180,181,182,183,184,185,186,187,188,189,190,191,192,193,194,195,196,197,198,199,200,201,202,203,204,205,206,207,208,209,210,211,212,213,214,215,216,217,218,219,220,221,222,223,224,225,226,227,228,229,230,231,232,233,234,235,236,237,238,239,240,241,242,243,244,245,246,247,248,249,250,251,252,253,254,255,256,257,258,259,260,261,262,263,264,265,266,267,268,269,270,271,272,273,274,275,276,277,278,279,280,281,282,283,284,285,286,287,288,289,290,291,292,293,294,295,296,297,298,299],\"y\":[0.03742553831019832,0.03742553831019832,0.03742553831019832,0.03742553831019832,0.038312991097995346,0.038312991097995346,0.038312991097995346,0.038312991097995346,0.038312991097995346,0.038312991097995346,0.04108638542767332,0.04108638542767332,0.04108638542767332,0.04108638542767332,0.04108638542767332,0.04108638542767332,0.041439345981953625,0.041439345981953625,0.041439345981953625,0.041439345981953625,0.041439345981953625,0.041439345981953625,0.041439345981953625,0.041439345981953625,0.04163148902126561,0.042445478255061876,0.042445478255061876,0.042445478255061876,0.042445478255061876,0.042445478255061876,0.042445478255061876,0.042445478255061876,0.042445478255061876,0.042445478255061876,0.042445478255061876,0.042445478255061876,0.042445478255061876,0.042445478255061876,0.042445478255061876,0.042445478255061876,0.042445478255061876,0.042445478255061876,0.042445478255061876,0.042445478255061876,0.042445478255061876,0.042445478255061876,0.042445478255061876,0.042445478255061876,0.042445478255061876,0.04296053530440534,0.04296053530440534,0.04296053530440534,0.04296053530440534,0.04296053530440534,0.04296053530440534,0.04296053530440534,0.04296053530440534,0.04296053530440534,0.04323487463718009,0.043733149342369514,0.043733149342369514,0.043733149342369514,0.043733149342369514,0.043733149342369514,0.043733149342369514,0.043733149342369514,0.043733149342369514,0.043733149342369514,0.04496086396813298,0.04496086396813298,0.04551017643094022,0.04551017643094022,0.04571825928152496,0.04571825928152496,0.04628549264643436,0.04628549264643436,0.04628549264643436,0.04628549264643436,0.04632226047776987,0.04632226047776987,0.04632226047776987,0.04632226047776987,0.04645695947340995,0.04645695947340995,0.04645695947340995,0.04645695947340995,0.04645695947340995,0.04645695947340995,0.04645695947340995,0.04645695947340995,0.04645695947340995,0.04645695947340995,0.04645695947340995,0.04645695947340995,0.04645695947340995,0.04645695947340995,0.04645695947340995,0.04645695947340995,0.04645695947340995,0.04645695947340995,0.04645695947340995,0.04645695947340995,0.04645695947340995,0.04645695947340995,0.04645695947340995,0.04645695947340995,0.04645695947340995,0.04645695947340995,0.04645695947340995,0.04645695947340995,0.04645695947340995,0.04645695947340995,0.04645695947340995,0.04645695947340995,0.04645695947340995,0.04645695947340995,0.04645695947340995,0.04645695947340995,0.04645695947340995,0.04645695947340995,0.04645695947340995,0.04645695947340995,0.04645695947340995,0.04645695947340995,0.04645695947340995,0.04645695947340995,0.04645695947340995,0.04645695947340995,0.04645695947340995,0.04645695947340995,0.04645695947340995,0.04645695947340995,0.04645695947340995,0.04645695947340995,0.04645695947340995,0.04645695947340995,0.04647952569194015,0.04647952569194015,0.04647952569194015,0.04647952569194015,0.04647952569194015,0.04647952569194015,0.04647952569194015,0.04647952569194015,0.04647952569194015,0.04647952569194015,0.04647952569194015,0.04647952569194015,0.04647952569194015,0.04647952569194015,0.04647952569194015,0.04647952569194015,0.04647952569194015,0.04647952569194015,0.04647952569194015,0.046581605002368756,0.046581605002368756,0.046581605002368756,0.046581605002368756,0.046581605002368756,0.046581605002368756,0.046581605002368756,0.046581605002368756,0.046581605002368756,0.046581605002368756,0.046581605002368756,0.046581605002368756,0.046581605002368756,0.046581605002368756,0.046581605002368756,0.046581605002368756,0.046581605002368756,0.046581605002368756,0.046581605002368756,0.046581605002368756,0.046581605002368756,0.046581605002368756,0.046581605002368756,0.046581605002368756,0.046581605002368756,0.04659445932160221,0.04659445932160221,0.04664752750756058,0.04664752750756058,0.04664752750756058,0.04664752750756058,0.04664752750756058,0.04664752750756058,0.04664752750756058,0.04664752750756058,0.04664752750756058,0.04664752750756058,0.04664752750756058,0.04664752750756058,0.04664752750756058,0.04664752750756058,0.04664752750756058,0.04664752750756058,0.04664752750756058,0.04664752750756058,0.04664752750756058,0.04664752750756058,0.04664752750756058,0.04664752750756058,0.04664752750756058,0.04664752750756058,0.04664752750756058,0.04664752750756058,0.04664752750756058,0.04664752750756058,0.04664752750756058,0.04664752750756058,0.04664752750756058,0.04664752750756058,0.04664752750756058,0.04664752750756058,0.04664752750756058,0.04664752750756058,0.04664752750756058,0.04664752750756058,0.04664752750756058,0.04664752750756058,0.04664752750756058,0.04664752750756058,0.04664752750756058,0.04664752750756058,0.04664752750756058,0.04664752750756058,0.04664752750756058,0.04673019060978189,0.04677447671876762,0.04677447671876762,0.04677447671876762,0.04677447671876762,0.04677447671876762,0.04677447671876762,0.04677447671876762,0.04677447671876762,0.04677447671876762,0.04677447671876762,0.04677447671876762,0.04677447671876762,0.04677447671876762,0.04677447671876762,0.04677447671876762,0.04677447671876762,0.04677447671876762,0.04677447671876762,0.04677447671876762,0.04677447671876762,0.04677447671876762,0.04677447671876762,0.04677447671876762,0.04677447671876762,0.04677447671876762,0.04677447671876762,0.04677447671876762,0.04677447671876762,0.04677447671876762,0.04677447671876762,0.04677447671876762,0.04677447671876762,0.04677447671876762,0.04677447671876762,0.04677447671876762,0.04677447671876762,0.04677447671876762,0.04677447671876762,0.04677447671876762,0.04677447671876762,0.04677447671876762,0.04679264051323207,0.04684479785283206,0.04684479785283206,0.04684479785283206,0.04684479785283206,0.04687268493217283,0.04687268493217283,0.04687268493217283,0.04687268493217283,0.04687268493217283,0.04687268493217283,0.04687268493217283,0.04687268493217283,0.04687268493217283,0.04687268493217283,0.04687268493217283,0.04687268493217283,0.04687268493217283,0.04687268493217283,0.04687268493217283,0.04687268493217283,0.04687268493217283,0.04687268493217283,0.04687268493217283,0.04687268493217283,0.04687268493217283,0.04687268493217283,0.04687268493217283,0.04687268493217283],\"type\":\"scatter\"},{\"marker\":{\"color\":\"#cccccc\"},\"mode\":\"markers\",\"name\":\"Infeasible Trial\",\"showlegend\":false,\"x\":[],\"y\":[],\"type\":\"scatter\"}],                        {\"title\":{\"text\":\"Optimization History Plot\"},\"xaxis\":{\"title\":{\"text\":\"Trial\"}},\"yaxis\":{\"title\":{\"text\":\"Objective Value\"}},\"template\":{\"data\":{\"histogram2dcontour\":[{\"type\":\"histogram2dcontour\",\"colorbar\":{\"outlinewidth\":0,\"ticks\":\"\"},\"colorscale\":[[0.0,\"#0d0887\"],[0.1111111111111111,\"#46039f\"],[0.2222222222222222,\"#7201a8\"],[0.3333333333333333,\"#9c179e\"],[0.4444444444444444,\"#bd3786\"],[0.5555555555555556,\"#d8576b\"],[0.6666666666666666,\"#ed7953\"],[0.7777777777777778,\"#fb9f3a\"],[0.8888888888888888,\"#fdca26\"],[1.0,\"#f0f921\"]]}],\"choropleth\":[{\"type\":\"choropleth\",\"colorbar\":{\"outlinewidth\":0,\"ticks\":\"\"}}],\"histogram2d\":[{\"type\":\"histogram2d\",\"colorbar\":{\"outlinewidth\":0,\"ticks\":\"\"},\"colorscale\":[[0.0,\"#0d0887\"],[0.1111111111111111,\"#46039f\"],[0.2222222222222222,\"#7201a8\"],[0.3333333333333333,\"#9c179e\"],[0.4444444444444444,\"#bd3786\"],[0.5555555555555556,\"#d8576b\"],[0.6666666666666666,\"#ed7953\"],[0.7777777777777778,\"#fb9f3a\"],[0.8888888888888888,\"#fdca26\"],[1.0,\"#f0f921\"]]}],\"heatmap\":[{\"type\":\"heatmap\",\"colorbar\":{\"outlinewidth\":0,\"ticks\":\"\"},\"colorscale\":[[0.0,\"#0d0887\"],[0.1111111111111111,\"#46039f\"],[0.2222222222222222,\"#7201a8\"],[0.3333333333333333,\"#9c179e\"],[0.4444444444444444,\"#bd3786\"],[0.5555555555555556,\"#d8576b\"],[0.6666666666666666,\"#ed7953\"],[0.7777777777777778,\"#fb9f3a\"],[0.8888888888888888,\"#fdca26\"],[1.0,\"#f0f921\"]]}],\"heatmapgl\":[{\"type\":\"heatmapgl\",\"colorbar\":{\"outlinewidth\":0,\"ticks\":\"\"},\"colorscale\":[[0.0,\"#0d0887\"],[0.1111111111111111,\"#46039f\"],[0.2222222222222222,\"#7201a8\"],[0.3333333333333333,\"#9c179e\"],[0.4444444444444444,\"#bd3786\"],[0.5555555555555556,\"#d8576b\"],[0.6666666666666666,\"#ed7953\"],[0.7777777777777778,\"#fb9f3a\"],[0.8888888888888888,\"#fdca26\"],[1.0,\"#f0f921\"]]}],\"contourcarpet\":[{\"type\":\"contourcarpet\",\"colorbar\":{\"outlinewidth\":0,\"ticks\":\"\"}}],\"contour\":[{\"type\":\"contour\",\"colorbar\":{\"outlinewidth\":0,\"ticks\":\"\"},\"colorscale\":[[0.0,\"#0d0887\"],[0.1111111111111111,\"#46039f\"],[0.2222222222222222,\"#7201a8\"],[0.3333333333333333,\"#9c179e\"],[0.4444444444444444,\"#bd3786\"],[0.5555555555555556,\"#d8576b\"],[0.6666666666666666,\"#ed7953\"],[0.7777777777777778,\"#fb9f3a\"],[0.8888888888888888,\"#fdca26\"],[1.0,\"#f0f921\"]]}],\"surface\":[{\"type\":\"surface\",\"colorbar\":{\"outlinewidth\":0,\"ticks\":\"\"},\"colorscale\":[[0.0,\"#0d0887\"],[0.1111111111111111,\"#46039f\"],[0.2222222222222222,\"#7201a8\"],[0.3333333333333333,\"#9c179e\"],[0.4444444444444444,\"#bd3786\"],[0.5555555555555556,\"#d8576b\"],[0.6666666666666666,\"#ed7953\"],[0.7777777777777778,\"#fb9f3a\"],[0.8888888888888888,\"#fdca26\"],[1.0,\"#f0f921\"]]}],\"mesh3d\":[{\"type\":\"mesh3d\",\"colorbar\":{\"outlinewidth\":0,\"ticks\":\"\"}}],\"scatter\":[{\"fillpattern\":{\"fillmode\":\"overlay\",\"size\":10,\"solidity\":0.2},\"type\":\"scatter\"}],\"parcoords\":[{\"type\":\"parcoords\",\"line\":{\"colorbar\":{\"outlinewidth\":0,\"ticks\":\"\"}}}],\"scatterpolargl\":[{\"type\":\"scatterpolargl\",\"marker\":{\"colorbar\":{\"outlinewidth\":0,\"ticks\":\"\"}}}],\"bar\":[{\"error_x\":{\"color\":\"#2a3f5f\"},\"error_y\":{\"color\":\"#2a3f5f\"},\"marker\":{\"line\":{\"color\":\"#E5ECF6\",\"width\":0.5},\"pattern\":{\"fillmode\":\"overlay\",\"size\":10,\"solidity\":0.2}},\"type\":\"bar\"}],\"scattergeo\":[{\"type\":\"scattergeo\",\"marker\":{\"colorbar\":{\"outlinewidth\":0,\"ticks\":\"\"}}}],\"scatterpolar\":[{\"type\":\"scatterpolar\",\"marker\":{\"colorbar\":{\"outlinewidth\":0,\"ticks\":\"\"}}}],\"histogram\":[{\"marker\":{\"pattern\":{\"fillmode\":\"overlay\",\"size\":10,\"solidity\":0.2}},\"type\":\"histogram\"}],\"scattergl\":[{\"type\":\"scattergl\",\"marker\":{\"colorbar\":{\"outlinewidth\":0,\"ticks\":\"\"}}}],\"scatter3d\":[{\"type\":\"scatter3d\",\"line\":{\"colorbar\":{\"outlinewidth\":0,\"ticks\":\"\"}},\"marker\":{\"colorbar\":{\"outlinewidth\":0,\"ticks\":\"\"}}}],\"scattermapbox\":[{\"type\":\"scattermapbox\",\"marker\":{\"colorbar\":{\"outlinewidth\":0,\"ticks\":\"\"}}}],\"scatterternary\":[{\"type\":\"scatterternary\",\"marker\":{\"colorbar\":{\"outlinewidth\":0,\"ticks\":\"\"}}}],\"scattercarpet\":[{\"type\":\"scattercarpet\",\"marker\":{\"colorbar\":{\"outlinewidth\":0,\"ticks\":\"\"}}}],\"carpet\":[{\"aaxis\":{\"endlinecolor\":\"#2a3f5f\",\"gridcolor\":\"white\",\"linecolor\":\"white\",\"minorgridcolor\":\"white\",\"startlinecolor\":\"#2a3f5f\"},\"baxis\":{\"endlinecolor\":\"#2a3f5f\",\"gridcolor\":\"white\",\"linecolor\":\"white\",\"minorgridcolor\":\"white\",\"startlinecolor\":\"#2a3f5f\"},\"type\":\"carpet\"}],\"table\":[{\"cells\":{\"fill\":{\"color\":\"#EBF0F8\"},\"line\":{\"color\":\"white\"}},\"header\":{\"fill\":{\"color\":\"#C8D4E3\"},\"line\":{\"color\":\"white\"}},\"type\":\"table\"}],\"barpolar\":[{\"marker\":{\"line\":{\"color\":\"#E5ECF6\",\"width\":0.5},\"pattern\":{\"fillmode\":\"overlay\",\"size\":10,\"solidity\":0.2}},\"type\":\"barpolar\"}],\"pie\":[{\"automargin\":true,\"type\":\"pie\"}]},\"layout\":{\"autotypenumbers\":\"strict\",\"colorway\":[\"#636efa\",\"#EF553B\",\"#00cc96\",\"#ab63fa\",\"#FFA15A\",\"#19d3f3\",\"#FF6692\",\"#B6E880\",\"#FF97FF\",\"#FECB52\"],\"font\":{\"color\":\"#2a3f5f\"},\"hovermode\":\"closest\",\"hoverlabel\":{\"align\":\"left\"},\"paper_bgcolor\":\"white\",\"plot_bgcolor\":\"#E5ECF6\",\"polar\":{\"bgcolor\":\"#E5ECF6\",\"angularaxis\":{\"gridcolor\":\"white\",\"linecolor\":\"white\",\"ticks\":\"\"},\"radialaxis\":{\"gridcolor\":\"white\",\"linecolor\":\"white\",\"ticks\":\"\"}},\"ternary\":{\"bgcolor\":\"#E5ECF6\",\"aaxis\":{\"gridcolor\":\"white\",\"linecolor\":\"white\",\"ticks\":\"\"},\"baxis\":{\"gridcolor\":\"white\",\"linecolor\":\"white\",\"ticks\":\"\"},\"caxis\":{\"gridcolor\":\"white\",\"linecolor\":\"white\",\"ticks\":\"\"}},\"coloraxis\":{\"colorbar\":{\"outlinewidth\":0,\"ticks\":\"\"}},\"colorscale\":{\"sequential\":[[0.0,\"#0d0887\"],[0.1111111111111111,\"#46039f\"],[0.2222222222222222,\"#7201a8\"],[0.3333333333333333,\"#9c179e\"],[0.4444444444444444,\"#bd3786\"],[0.5555555555555556,\"#d8576b\"],[0.6666666666666666,\"#ed7953\"],[0.7777777777777778,\"#fb9f3a\"],[0.8888888888888888,\"#fdca26\"],[1.0,\"#f0f921\"]],\"sequentialminus\":[[0.0,\"#0d0887\"],[0.1111111111111111,\"#46039f\"],[0.2222222222222222,\"#7201a8\"],[0.3333333333333333,\"#9c179e\"],[0.4444444444444444,\"#bd3786\"],[0.5555555555555556,\"#d8576b\"],[0.6666666666666666,\"#ed7953\"],[0.7777777777777778,\"#fb9f3a\"],[0.8888888888888888,\"#fdca26\"],[1.0,\"#f0f921\"]],\"diverging\":[[0,\"#8e0152\"],[0.1,\"#c51b7d\"],[0.2,\"#de77ae\"],[0.3,\"#f1b6da\"],[0.4,\"#fde0ef\"],[0.5,\"#f7f7f7\"],[0.6,\"#e6f5d0\"],[0.7,\"#b8e186\"],[0.8,\"#7fbc41\"],[0.9,\"#4d9221\"],[1,\"#276419\"]]},\"xaxis\":{\"gridcolor\":\"white\",\"linecolor\":\"white\",\"ticks\":\"\",\"title\":{\"standoff\":15},\"zerolinecolor\":\"white\",\"automargin\":true,\"zerolinewidth\":2},\"yaxis\":{\"gridcolor\":\"white\",\"linecolor\":\"white\",\"ticks\":\"\",\"title\":{\"standoff\":15},\"zerolinecolor\":\"white\",\"automargin\":true,\"zerolinewidth\":2},\"scene\":{\"xaxis\":{\"backgroundcolor\":\"#E5ECF6\",\"gridcolor\":\"white\",\"linecolor\":\"white\",\"showbackground\":true,\"ticks\":\"\",\"zerolinecolor\":\"white\",\"gridwidth\":2},\"yaxis\":{\"backgroundcolor\":\"#E5ECF6\",\"gridcolor\":\"white\",\"linecolor\":\"white\",\"showbackground\":true,\"ticks\":\"\",\"zerolinecolor\":\"white\",\"gridwidth\":2},\"zaxis\":{\"backgroundcolor\":\"#E5ECF6\",\"gridcolor\":\"white\",\"linecolor\":\"white\",\"showbackground\":true,\"ticks\":\"\",\"zerolinecolor\":\"white\",\"gridwidth\":2}},\"shapedefaults\":{\"line\":{\"color\":\"#2a3f5f\"}},\"annotationdefaults\":{\"arrowcolor\":\"#2a3f5f\",\"arrowhead\":0,\"arrowwidth\":1},\"geo\":{\"bgcolor\":\"white\",\"landcolor\":\"#E5ECF6\",\"subunitcolor\":\"white\",\"showland\":true,\"showlakes\":true,\"lakecolor\":\"white\"},\"title\":{\"x\":0.05},\"mapbox\":{\"style\":\"light\"}}}},                        {\"responsive\": true}                    ).then(function(){\n",
       "                            \n",
       "var gd = document.getElementById('c6fda48d-4acb-42f2-86eb-6a01e9eebd49');\n",
       "var x = new MutationObserver(function (mutations, observer) {{\n",
       "        var display = window.getComputedStyle(gd).display;\n",
       "        if (!display || display === 'none') {{\n",
       "            console.log([gd, 'removed!']);\n",
       "            Plotly.purge(gd);\n",
       "            observer.disconnect();\n",
       "        }}\n",
       "}});\n",
       "\n",
       "// Listen for the removal of the full notebook cells\n",
       "var notebookContainer = gd.closest('#notebook-container');\n",
       "if (notebookContainer) {{\n",
       "    x.observe(notebookContainer, {childList: true});\n",
       "}}\n",
       "\n",
       "// Listen for the clearing of the current output cell\n",
       "var outputEl = gd.closest('.output');\n",
       "if (outputEl) {{\n",
       "    x.observe(outputEl, {childList: true});\n",
       "}}\n",
       "\n",
       "                        })                };                });            </script>        </div>"
      ]
     },
     "metadata": {},
     "output_type": "display_data"
    }
   ],
   "source": [
    "if config['tune_parameters_item_knn']:\n",
    "    fig = optuna.visualization.plot_optimization_history(study)\n",
    "    fig.show()"
   ]
  },
  {
   "cell_type": "code",
   "execution_count": 20,
   "id": "25c13247",
   "metadata": {
    "execution": {
     "iopub.execute_input": "2023-12-09T12:13:08.639184Z",
     "iopub.status.busy": "2023-12-09T12:13:08.638358Z",
     "iopub.status.idle": "2023-12-09T12:13:09.220974Z",
     "shell.execute_reply": "2023-12-09T12:13:09.219729Z"
    },
    "papermill": {
     "duration": 0.732587,
     "end_time": "2023-12-09T12:13:09.224126",
     "exception": false,
     "start_time": "2023-12-09T12:13:08.491539",
     "status": "completed"
    },
    "tags": []
   },
   "outputs": [
    {
     "data": {
      "text/html": [
       "<div>                            <div id=\"7a2eb6e0-7638-4dce-87e3-0ab341cb01d4\" class=\"plotly-graph-div\" style=\"height:525px; width:3000px;\"></div>            <script type=\"text/javascript\">                require([\"plotly\"], function(Plotly) {                    window.PLOTLYENV=window.PLOTLYENV || {};                                    if (document.getElementById(\"7a2eb6e0-7638-4dce-87e3-0ab341cb01d4\")) {                    Plotly.newPlot(                        \"7a2eb6e0-7638-4dce-87e3-0ab341cb01d4\",                        [{\"marker\":{\"color\":[3,4,5,6,39,46,65,117,145,179,220,265],\"colorbar\":{\"title\":{\"text\":\"Trial\"},\"x\":1.0,\"xpad\":40},\"colorscale\":[[0.0,\"rgb(247,251,255)\"],[0.125,\"rgb(222,235,247)\"],[0.25,\"rgb(198,219,239)\"],[0.375,\"rgb(158,202,225)\"],[0.5,\"rgb(107,174,214)\"],[0.625,\"rgb(66,146,198)\"],[0.75,\"rgb(33,113,181)\"],[0.875,\"rgb(8,81,156)\"],[1.0,\"rgb(8,48,107)\"]],\"line\":{\"color\":\"Grey\",\"width\":0.5},\"showscale\":true},\"mode\":\"markers\",\"name\":\"Feasible Trial\",\"showlegend\":false,\"x\":[1.1082225225272972,0.7276997630583495,1.9634627635608188,0.981156755734117,0.09806606149546915,1.9297467383549538,0.055655067274248626,1.4831727715774596,0.48849710914948874,1.4994070999577942,0.4502195156919706,1.27747760634507],\"y\":[0.006844998998069001,0.038312991097995346,0.02770694049744375,0.03413762584860547,0.022320768207818753,0.013851658043987778,0.024073786904458248,0.03157588564627617,0.022506315201418464,0.0204709796759816,0.022602940819275937,0.021563118616485143],\"type\":\"scatter\",\"xaxis\":\"x\",\"yaxis\":\"y\"},{\"marker\":{\"color\":[0,1,2,3,4,5,6,7,8,9,10,11,12,13,14,15,16,17,18,19,20,21,22,23,24,25,26,27,28,29,30,31,32,33,34,35,36,37,38,39,40,41,42,43,44,45,46,47,48,49,50,51,52,53,54,55,56,57,58,59,60,61,62,63,64,65,66,67,68,69,70,71,72,73,74,75,76,77,78,79,80,81,82,83,84,85,86,87,88,89,90,91,92,93,94,95,96,97,98,99,100,101,102,103,104,105,106,107,108,109,110,111,112,113,114,115,116,117,118,119,120,121,122,123,124,125,126,127,128,129,130,131,132,133,134,135,136,137,138,139,140,141,142,143,144,145,146,147,148,149,150,151,152,153,154,155,156,157,158,159,160,161,162,163,164,165,166,167,168,169,170,171,172,173,174,175,176,177,178,179,180,181,182,183,184,185,186,187,188,189,190,191,192,193,194,195,196,197,198,199,200,201,202,203,204,205,206,207,208,209,210,211,212,213,214,215,216,217,218,219,220,221,222,223,224,225,226,227,228,229,230,231,232,233,234,235,236,237,238,239,240,241,242,243,244,245,246,247,248,249,250,251,252,253,254,255,256,257,258,259,260,261,262,263,264,265,266,267,268,269,270,271,272,273,274,275,276,277,278,279,280,281,282,283,284,285,286,287,288,289,290,291,292,293,294,295,296,297,298,299],\"colorbar\":{\"title\":{\"text\":\"Trial\"},\"x\":1.0,\"xpad\":40},\"colorscale\":[[0.0,\"rgb(247,251,255)\"],[0.125,\"rgb(222,235,247)\"],[0.25,\"rgb(198,219,239)\"],[0.375,\"rgb(158,202,225)\"],[0.5,\"rgb(107,174,214)\"],[0.625,\"rgb(66,146,198)\"],[0.75,\"rgb(33,113,181)\"],[0.875,\"rgb(8,81,156)\"],[1.0,\"rgb(8,48,107)\"]],\"line\":{\"color\":\"Grey\",\"width\":0.5},\"showscale\":false},\"mode\":\"markers\",\"name\":\"Feasible Trial\",\"showlegend\":false,\"x\":[\"TF-IDF\",\"TF-IDF\",\"none\",\"TF-IDF\",\"TF-IDF\",\"none\",\"none\",\"none\",\"TF-IDF\",\"none\",\"BM25\",\"BM25\",\"BM25\",\"BM25\",\"BM25\",\"BM25\",\"BM25\",\"BM25\",\"BM25\",\"BM25\",\"BM25\",\"BM25\",\"BM25\",\"BM25\",\"BM25\",\"BM25\",\"BM25\",\"BM25\",\"BM25\",\"BM25\",\"TF-IDF\",\"BM25\",\"BM25\",\"BM25\",\"BM25\",\"TF-IDF\",\"BM25\",\"none\",\"TF-IDF\",\"none\",\"BM25\",\"BM25\",\"BM25\",\"BM25\",\"BM25\",\"none\",\"BM25\",\"TF-IDF\",\"BM25\",\"BM25\",\"BM25\",\"BM25\",\"BM25\",\"BM25\",\"BM25\",\"BM25\",\"none\",\"BM25\",\"BM25\",\"BM25\",\"BM25\",\"BM25\",\"BM25\",\"BM25\",\"BM25\",\"BM25\",\"BM25\",\"TF-IDF\",\"BM25\",\"BM25\",\"BM25\",\"BM25\",\"BM25\",\"BM25\",\"BM25\",\"BM25\",\"BM25\",\"none\",\"BM25\",\"BM25\",\"BM25\",\"BM25\",\"BM25\",\"BM25\",\"BM25\",\"TF-IDF\",\"BM25\",\"BM25\",\"BM25\",\"BM25\",\"BM25\",\"BM25\",\"BM25\",\"BM25\",\"BM25\",\"BM25\",\"none\",\"BM25\",\"BM25\",\"BM25\",\"TF-IDF\",\"BM25\",\"BM25\",\"BM25\",\"BM25\",\"BM25\",\"BM25\",\"BM25\",\"BM25\",\"BM25\",\"BM25\",\"BM25\",\"BM25\",\"BM25\",\"BM25\",\"BM25\",\"BM25\",\"none\",\"BM25\",\"BM25\",\"BM25\",\"BM25\",\"BM25\",\"BM25\",\"BM25\",\"BM25\",\"TF-IDF\",\"BM25\",\"BM25\",\"BM25\",\"BM25\",\"BM25\",\"BM25\",\"BM25\",\"BM25\",\"BM25\",\"BM25\",\"BM25\",\"BM25\",\"none\",\"BM25\",\"BM25\",\"BM25\",\"BM25\",\"BM25\",\"BM25\",\"BM25\",\"BM25\",\"BM25\",\"BM25\",\"TF-IDF\",\"BM25\",\"BM25\",\"BM25\",\"BM25\",\"BM25\",\"BM25\",\"BM25\",\"BM25\",\"BM25\",\"BM25\",\"BM25\",\"BM25\",\"BM25\",\"BM25\",\"BM25\",\"BM25\",\"BM25\",\"BM25\",\"BM25\",\"BM25\",\"BM25\",\"BM25\",\"BM25\",\"BM25\",\"none\",\"BM25\",\"BM25\",\"BM25\",\"BM25\",\"BM25\",\"BM25\",\"BM25\",\"BM25\",\"BM25\",\"BM25\",\"BM25\",\"TF-IDF\",\"BM25\",\"BM25\",\"BM25\",\"BM25\",\"BM25\",\"BM25\",\"BM25\",\"BM25\",\"BM25\",\"BM25\",\"BM25\",\"BM25\",\"BM25\",\"BM25\",\"BM25\",\"BM25\",\"BM25\",\"BM25\",\"BM25\",\"BM25\",\"BM25\",\"none\",\"BM25\",\"BM25\",\"BM25\",\"BM25\",\"BM25\",\"BM25\",\"BM25\",\"BM25\",\"BM25\",\"BM25\",\"BM25\",\"BM25\",\"BM25\",\"BM25\",\"BM25\",\"BM25\",\"BM25\",\"BM25\",\"TF-IDF\",\"BM25\",\"BM25\",\"BM25\",\"BM25\",\"BM25\",\"BM25\",\"BM25\",\"BM25\",\"BM25\",\"BM25\",\"BM25\",\"BM25\",\"BM25\",\"BM25\",\"BM25\",\"BM25\",\"BM25\",\"BM25\",\"BM25\",\"BM25\",\"BM25\",\"BM25\",\"none\",\"BM25\",\"BM25\",\"BM25\",\"BM25\",\"BM25\",\"BM25\",\"BM25\",\"BM25\",\"BM25\",\"BM25\",\"BM25\",\"TF-IDF\",\"BM25\",\"BM25\",\"BM25\",\"BM25\",\"BM25\",\"BM25\",\"BM25\",\"BM25\",\"BM25\",\"BM25\",\"none\",\"BM25\",\"BM25\",\"BM25\",\"BM25\",\"BM25\",\"BM25\",\"BM25\",\"BM25\",\"TF-IDF\",\"BM25\",\"BM25\",\"BM25\",\"BM25\",\"BM25\",\"BM25\",\"BM25\",\"BM25\",\"BM25\",\"BM25\",\"BM25\",\"BM25\",\"BM25\",\"BM25\",\"none\",\"BM25\"],\"y\":[0.03742553831019832,0.019689644284135395,0.03653141736801885,0.006844998998069001,0.038312991097995346,0.02770694049744375,0.03413762584860547,0.02930350615124925,0.03193876683547712,0.037982657485335906,0.04108638542767332,0.04097292053776418,0.040488035274043835,0.04090489549556162,0.030957986452678724,0.039939929682661704,0.041439345981953625,0.02259664838901643,0.040920417835586684,0.04041288285908648,0.010682166994571333,0.040194325275379694,0.041287545845933984,0.041429159683511706,0.04163148902126561,0.042445478255061876,0.04226567718390651,0.04243210399436546,0.023614545760920976,0.04099472771766249,0.03634763513923855,0.04233174390643834,0.04231494638151161,0.014606905278051023,0.041114739315772635,0.03572427845787681,0.04116894985487229,0.03745837811661304,0.020505504548159352,0.022320768207818753,0.020278711395295166,0.04217417887200844,0.041805862966201986,0.04194362088752916,0.04158997340328676,0.034987650441457414,0.013851658043987778,0.035480642237767854,0.03843973916396491,0.04296053530440534,0.039081771990867674,0.042890643027168086,0.0425533528254458,0.042698484807083215,0.04243500731713289,0.04219570141241956,0.035107601316477055,0.04132990020160117,0.04323487463718009,0.043733149342369514,0.023202922905964225,0.043301362626152834,0.04311514388336367,0.04310361408654302,0.04298318501718523,0.024073786904458248,0.043414060887043596,0.0269611432943493,0.04496086396813298,0.040196321546981925,0.04551017643094022,0.043870941420435114,0.04571825928152496,0.04564170264509853,0.04628549264643436,0.04324570611845915,0.04563579732454135,0.036710151989896044,0.04632226047776987,0.04352006063200648,0.045957720789157955,0.04570064579006891,0.04645695947340995,0.04643941809062374,0.045893206300628514,0.027627632345976,0.03331625496411306,0.04328113804180233,0.041051556940042554,0.04586286373131303,0.04356950440849693,0.04338710742521999,0.045761714243208754,0.04276076772203449,0.04585388809948929,0.04352818234536914,0.03483972140246096,0.04361803733862896,0.04051046486562013,0.0435991145055325,0.037086046896443306,0.04529912194411105,0.04599361572606659,0.04378834663169083,0.04315405599883465,0.04611641299595638,0.04331285826623481,0.0427004772834925,0.04383563853365946,0.040004800919348035,0.02113529408192757,0.04532321762548492,0.04459452915315649,0.039281687585771774,0.04601519519437529,0.015444026214158095,0.0457780980920811,0.03157588564627617,0.043226286115058625,0.04382375198868176,0.044471500376483834,0.04535308959084847,0.04394703124810298,0.04586061318176914,0.046325057535128986,0.04346638901033559,0.034452922905964564,0.04239086542548714,0.04404951284900655,0.04261402278330406,0.043338851544188726,0.04565926300385055,0.031072354598559834,0.045913317029184234,0.04404180481169836,0.04640622533124506,0.04647952569194015,0.022951715275500675,0.015405694763240569,0.03540750507037848,0.04463328187051467,0.04593098365334467,0.04643886019722917,0.04408551784651692,0.03629260483841626,0.022506315201418464,0.0462481099938068,0.044585769847342784,0.04294674736765443,0.0437837240864217,0.027433925687081927,0.0459335226375688,0.04452568814442449,0.046434476749129275,0.04379614195844158,0.046581605002368756,0.043655689449970815,0.04347085215749201,0.03666745986203753,0.04405648082364873,0.04416697028212005,0.04642917486428447,0.044922449022966174,0.04654185794440247,0.0371013794768104,0.044049068811406814,0.04469292333102655,0.04328774167790109,0.02276291959655579,0.046358531138801465,0.04483715585188489,0.04642447641515219,0.04469948522000041,0.04615080503637379,0.046412009205621,0.03560913229739782,0.0442720136384067,0.017125258832173494,0.04635524829671792,0.0204709796759816,0.04659445932160221,0.044644527027848255,0.04664752750756058,0.03449497744137231,0.04497186623310437,0.04401087019224991,0.046589760872469965,0.035039048742425166,0.04322397104723099,0.04510096731883338,0.044035170814054385,0.04198750091084686,0.04637506679540017,0.046500945762136155,0.04429856860494831,0.046383165737604024,0.04357847624512754,0.044234137610668335,0.03371450735356673,0.04496790405144529,0.04379301092408455,0.044906592705943174,0.045944467974642696,0.04613675902648804,0.046554473166466846,0.04409026942835345,0.04478740466474837,0.046204169247398716,0.042675497322112364,0.02929937698109101,0.023954951816227636,0.04486072400140945,0.04399195874473292,0.046145499356335856,0.044592373483441416,0.043964857270376245,0.04486877740129527,0.015580535516935555,0.04425323502265036,0.04288884031041678,0.022602940819275937,0.0465458808491523,0.04487394265918632,0.04622472021836085,0.04327544145686904,0.04635612119114474,0.04640832786825581,0.044137333618732476,0.03665975182472936,0.04673019060978189,0.04677447671876762,0.046741648297932314,0.045138718105197276,0.04431032611335845,0.04483827543386706,0.0449837451876956,0.044149235344482736,0.04645062909121889,0.04650720403565716,0.0443319890759166,0.04499491823635913,0.04668862185909864,0.046653933793614884,0.04484361147545016,0.04394021887638043,0.0442095865061154,0.04672664969456347,0.046657250792436905,0.04481656313379783,0.04399635737360553,0.04514001226606483,0.03605231597867448,0.045440022285374734,0.04536639933326099,0.023954951816227636,0.04433976922189487,0.0436696823271524,0.04667674290450739,0.046761785592840076,0.04434469917780996,0.046620350129340744,0.02086811248345292,0.045004641521235546,0.0334635615914311,0.04441005240402778,0.021563118616485143,0.04405331563255308,0.044876011039458465,0.03623821972043133,0.04674819880132673,0.04355011476664184,0.04679264051323207,0.04684479785283206,0.04541465521429227,0.03353248229921945,0.04369230167838678,0.04687268493217283,0.030029852989398007,0.044585071531801294,0.04293164249887716,0.04503819861915747,0.044329970033155426,0.0433490871801417,0.03835284821656334,0.022911657011695296,0.044966928686803076,0.033841361684944775,0.04344337116381934,0.042468932548791576,0.014831804629528303,0.04671665695097271,0.04672179943770491,0.043879628617578784,0.04506017278755473,0.04671389405035229,0.04456229278245404,0.046499769252256504,0.04521973409358694,0.03311541334207781,0.04685008455690415],\"type\":\"scatter\",\"xaxis\":\"x2\",\"yaxis\":\"y2\"},{\"marker\":{\"color\":[1,20,33,38,67,115,138,177,217,261,289],\"colorbar\":{\"title\":{\"text\":\"Trial\"},\"x\":1.0,\"xpad\":40},\"colorscale\":[[0.0,\"rgb(247,251,255)\"],[0.125,\"rgb(222,235,247)\"],[0.25,\"rgb(198,219,239)\"],[0.375,\"rgb(158,202,225)\"],[0.5,\"rgb(107,174,214)\"],[0.625,\"rgb(66,146,198)\"],[0.75,\"rgb(33,113,181)\"],[0.875,\"rgb(8,81,156)\"],[1.0,\"rgb(8,48,107)\"]],\"line\":{\"color\":\"Grey\",\"width\":0.5},\"showscale\":false},\"mode\":\"markers\",\"name\":\"Feasible Trial\",\"showlegend\":false,\"x\":[false,true,true,false,true,false,false,true,false,true,false],\"y\":[0.019689644284135395,0.010682166994571333,0.014606905278051023,0.020505504548159352,0.0269611432943493,0.015444026214158095,0.015405694763240569,0.017125258832173494,0.015580535516935555,0.02086811248345292,0.014831804629528303],\"type\":\"scatter\",\"xaxis\":\"x3\",\"yaxis\":\"y3\"},{\"marker\":{\"color\":[1,20,33,38,67,115,138,177,217,261,289],\"colorbar\":{\"title\":{\"text\":\"Trial\"},\"x\":1.0,\"xpad\":40},\"colorscale\":[[0.0,\"rgb(247,251,255)\"],[0.125,\"rgb(222,235,247)\"],[0.25,\"rgb(198,219,239)\"],[0.375,\"rgb(158,202,225)\"],[0.5,\"rgb(107,174,214)\"],[0.625,\"rgb(66,146,198)\"],[0.75,\"rgb(33,113,181)\"],[0.875,\"rgb(8,81,156)\"],[1.0,\"rgb(8,48,107)\"]],\"line\":{\"color\":\"Grey\",\"width\":0.5},\"showscale\":false},\"mode\":\"markers\",\"name\":\"Feasible Trial\",\"showlegend\":false,\"x\":[true,false,false,true,false,true,true,false,true,false,false],\"y\":[0.019689644284135395,0.010682166994571333,0.014606905278051023,0.020505504548159352,0.0269611432943493,0.015444026214158095,0.015405694763240569,0.017125258832173494,0.015580535516935555,0.02086811248345292,0.014831804629528303],\"type\":\"scatter\",\"xaxis\":\"x4\",\"yaxis\":\"y4\"},{\"marker\":{\"color\":[0,1,2,3,4,5,6,7,8,9,10,11,12,13,14,15,16,17,18,19,20,21,22,23,24,25,26,27,28,29,30,31,32,33,34,35,36,37,38,39,40,41,42,43,44,45,46,47,48,49,50,51,52,53,54,55,56,57,58,59,60,61,62,63,64,65,66,67,68,69,70,71,72,73,74,75,76,77,78,79,80,81,82,83,84,85,86,87,88,89,90,91,92,93,94,95,96,97,98,99,100,101,102,103,104,105,106,107,108,109,110,111,112,113,114,115,116,117,118,119,120,121,122,123,124,125,126,127,128,129,130,131,132,133,134,135,136,137,138,139,140,141,142,143,144,145,146,147,148,149,150,151,152,153,154,155,156,157,158,159,160,161,162,163,164,165,166,167,168,169,170,171,172,173,174,175,176,177,178,179,180,181,182,183,184,185,186,187,188,189,190,191,192,193,194,195,196,197,198,199,200,201,202,203,204,205,206,207,208,209,210,211,212,213,214,215,216,217,218,219,220,221,222,223,224,225,226,227,228,229,230,231,232,233,234,235,236,237,238,239,240,241,242,243,244,245,246,247,248,249,250,251,252,253,254,255,256,257,258,259,260,261,262,263,264,265,266,267,268,269,270,271,272,273,274,275,276,277,278,279,280,281,282,283,284,285,286,287,288,289,290,291,292,293,294,295,296,297,298,299],\"colorbar\":{\"title\":{\"text\":\"Trial\"},\"x\":1.0,\"xpad\":40},\"colorscale\":[[0.0,\"rgb(247,251,255)\"],[0.125,\"rgb(222,235,247)\"],[0.25,\"rgb(198,219,239)\"],[0.375,\"rgb(158,202,225)\"],[0.5,\"rgb(107,174,214)\"],[0.625,\"rgb(66,146,198)\"],[0.75,\"rgb(33,113,181)\"],[0.875,\"rgb(8,81,156)\"],[1.0,\"rgb(8,48,107)\"]],\"line\":{\"color\":\"Grey\",\"width\":0.5},\"showscale\":false},\"mode\":\"markers\",\"name\":\"Feasible Trial\",\"showlegend\":false,\"x\":[93,261,118,91,445,323,218,185,459,148,496,481,500,363,18,383,417,409,321,427,290,498,473,380,364,360,334,334,319,278,246,348,335,293,236,355,391,340,303,266,190,334,348,310,436,394,225,366,264,454,453,407,405,465,412,467,409,442,415,478,482,430,451,429,424,431,449,483,425,62,450,449,446,486,495,486,499,500,469,469,491,491,489,492,491,487,465,488,469,492,476,491,498,463,499,475,500,460,142,441,459,492,475,480,474,499,500,478,458,492,470,442,482,472,500,500,488,484,460,490,476,493,483,500,465,468,460,500,437,477,449,486,12,491,470,491,456,456,181,466,480,485,490,475,34,488,453,452,465,438,478,489,469,481,458,480,476,421,446,463,482,485,490,500,474,498,469,452,483,498,499,481,477,464,457,459,439,461,468,452,469,467,481,482,480,430,471,472,488,484,473,103,447,444,440,457,458,447,445,463,428,471,479,461,490,492,485,489,474,450,500,469,480,377,465,487,475,453,490,203,467,491,481,494,278,481,492,500,486,491,491,500,500,491,490,491,500,479,476,479,481,477,484,482,489,476,490,478,474,482,474,487,471,483,500,476,491,463,469,469,462,463,468,475,493,464,482,458,491,474,251,471,459,458,470,457,444,437,457,443,449,467,317,450,465,473,434,461,153,476,500,452,500,443,396,484,393,473,488,468],\"y\":[0.03742553831019832,0.019689644284135395,0.03653141736801885,0.006844998998069001,0.038312991097995346,0.02770694049744375,0.03413762584860547,0.02930350615124925,0.03193876683547712,0.037982657485335906,0.04108638542767332,0.04097292053776418,0.040488035274043835,0.04090489549556162,0.030957986452678724,0.039939929682661704,0.041439345981953625,0.02259664838901643,0.040920417835586684,0.04041288285908648,0.010682166994571333,0.040194325275379694,0.041287545845933984,0.041429159683511706,0.04163148902126561,0.042445478255061876,0.04226567718390651,0.04243210399436546,0.023614545760920976,0.04099472771766249,0.03634763513923855,0.04233174390643834,0.04231494638151161,0.014606905278051023,0.041114739315772635,0.03572427845787681,0.04116894985487229,0.03745837811661304,0.020505504548159352,0.022320768207818753,0.020278711395295166,0.04217417887200844,0.041805862966201986,0.04194362088752916,0.04158997340328676,0.034987650441457414,0.013851658043987778,0.035480642237767854,0.03843973916396491,0.04296053530440534,0.039081771990867674,0.042890643027168086,0.0425533528254458,0.042698484807083215,0.04243500731713289,0.04219570141241956,0.035107601316477055,0.04132990020160117,0.04323487463718009,0.043733149342369514,0.023202922905964225,0.043301362626152834,0.04311514388336367,0.04310361408654302,0.04298318501718523,0.024073786904458248,0.043414060887043596,0.0269611432943493,0.04496086396813298,0.040196321546981925,0.04551017643094022,0.043870941420435114,0.04571825928152496,0.04564170264509853,0.04628549264643436,0.04324570611845915,0.04563579732454135,0.036710151989896044,0.04632226047776987,0.04352006063200648,0.045957720789157955,0.04570064579006891,0.04645695947340995,0.04643941809062374,0.045893206300628514,0.027627632345976,0.03331625496411306,0.04328113804180233,0.041051556940042554,0.04586286373131303,0.04356950440849693,0.04338710742521999,0.045761714243208754,0.04276076772203449,0.04585388809948929,0.04352818234536914,0.03483972140246096,0.04361803733862896,0.04051046486562013,0.0435991145055325,0.037086046896443306,0.04529912194411105,0.04599361572606659,0.04378834663169083,0.04315405599883465,0.04611641299595638,0.04331285826623481,0.0427004772834925,0.04383563853365946,0.040004800919348035,0.02113529408192757,0.04532321762548492,0.04459452915315649,0.039281687585771774,0.04601519519437529,0.015444026214158095,0.0457780980920811,0.03157588564627617,0.043226286115058625,0.04382375198868176,0.044471500376483834,0.04535308959084847,0.04394703124810298,0.04586061318176914,0.046325057535128986,0.04346638901033559,0.034452922905964564,0.04239086542548714,0.04404951284900655,0.04261402278330406,0.043338851544188726,0.04565926300385055,0.031072354598559834,0.045913317029184234,0.04404180481169836,0.04640622533124506,0.04647952569194015,0.022951715275500675,0.015405694763240569,0.03540750507037848,0.04463328187051467,0.04593098365334467,0.04643886019722917,0.04408551784651692,0.03629260483841626,0.022506315201418464,0.0462481099938068,0.044585769847342784,0.04294674736765443,0.0437837240864217,0.027433925687081927,0.0459335226375688,0.04452568814442449,0.046434476749129275,0.04379614195844158,0.046581605002368756,0.043655689449970815,0.04347085215749201,0.03666745986203753,0.04405648082364873,0.04416697028212005,0.04642917486428447,0.044922449022966174,0.04654185794440247,0.0371013794768104,0.044049068811406814,0.04469292333102655,0.04328774167790109,0.02276291959655579,0.046358531138801465,0.04483715585188489,0.04642447641515219,0.04469948522000041,0.04615080503637379,0.046412009205621,0.03560913229739782,0.0442720136384067,0.017125258832173494,0.04635524829671792,0.0204709796759816,0.04659445932160221,0.044644527027848255,0.04664752750756058,0.03449497744137231,0.04497186623310437,0.04401087019224991,0.046589760872469965,0.035039048742425166,0.04322397104723099,0.04510096731883338,0.044035170814054385,0.04198750091084686,0.04637506679540017,0.046500945762136155,0.04429856860494831,0.046383165737604024,0.04357847624512754,0.044234137610668335,0.03371450735356673,0.04496790405144529,0.04379301092408455,0.044906592705943174,0.045944467974642696,0.04613675902648804,0.046554473166466846,0.04409026942835345,0.04478740466474837,0.046204169247398716,0.042675497322112364,0.02929937698109101,0.023954951816227636,0.04486072400140945,0.04399195874473292,0.046145499356335856,0.044592373483441416,0.043964857270376245,0.04486877740129527,0.015580535516935555,0.04425323502265036,0.04288884031041678,0.022602940819275937,0.0465458808491523,0.04487394265918632,0.04622472021836085,0.04327544145686904,0.04635612119114474,0.04640832786825581,0.044137333618732476,0.03665975182472936,0.04673019060978189,0.04677447671876762,0.046741648297932314,0.045138718105197276,0.04431032611335845,0.04483827543386706,0.0449837451876956,0.044149235344482736,0.04645062909121889,0.04650720403565716,0.0443319890759166,0.04499491823635913,0.04668862185909864,0.046653933793614884,0.04484361147545016,0.04394021887638043,0.0442095865061154,0.04672664969456347,0.046657250792436905,0.04481656313379783,0.04399635737360553,0.04514001226606483,0.03605231597867448,0.045440022285374734,0.04536639933326099,0.023954951816227636,0.04433976922189487,0.0436696823271524,0.04667674290450739,0.046761785592840076,0.04434469917780996,0.046620350129340744,0.02086811248345292,0.045004641521235546,0.0334635615914311,0.04441005240402778,0.021563118616485143,0.04405331563255308,0.044876011039458465,0.03623821972043133,0.04674819880132673,0.04355011476664184,0.04679264051323207,0.04684479785283206,0.04541465521429227,0.03353248229921945,0.04369230167838678,0.04687268493217283,0.030029852989398007,0.044585071531801294,0.04293164249887716,0.04503819861915747,0.044329970033155426,0.0433490871801417,0.03835284821656334,0.022911657011695296,0.044966928686803076,0.033841361684944775,0.04344337116381934,0.042468932548791576,0.014831804629528303,0.04671665695097271,0.04672179943770491,0.043879628617578784,0.04506017278755473,0.04671389405035229,0.04456229278245404,0.046499769252256504,0.04521973409358694,0.03311541334207781,0.04685008455690415],\"type\":\"scatter\",\"xaxis\":\"x5\",\"yaxis\":\"y5\"},{\"marker\":{\"color\":[0,1,2,3,4,5,6,7,8,9,10,11,12,13,14,15,16,17,18,19,20,21,22,23,24,25,26,27,28,29,30,31,32,33,34,35,36,37,38,39,40,41,42,43,44,45,46,47,48,49,50,51,52,53,54,55,56,57,58,59,60,61,62,63,64,65,66,67,68,69,70,71,72,73,74,75,76,77,78,79,80,81,82,83,84,85,86,87,88,89,90,91,92,93,94,95,96,97,98,99,100,101,102,103,104,105,106,107,108,109,110,111,112,113,114,115,116,117,118,119,120,121,122,123,124,125,126,127,128,129,130,131,132,133,134,135,136,137,138,139,140,141,142,143,144,145,146,147,148,149,150,151,152,153,154,155,156,157,158,159,160,161,162,163,164,165,166,167,168,169,170,171,172,173,174,175,176,177,178,179,180,181,182,183,184,185,186,187,188,189,190,191,192,193,194,195,196,197,198,199,200,201,202,203,204,205,206,207,208,209,210,211,212,213,214,215,216,217,218,219,220,221,222,223,224,225,226,227,228,229,230,231,232,233,234,235,236,237,238,239,240,241,242,243,244,245,246,247,248,249,250,251,252,253,254,255,256,257,258,259,260,261,262,263,264,265,266,267,268,269,270,271,272,273,274,275,276,277,278,279,280,281,282,283,284,285,286,287,288,289,290,291,292,293,294,295,296,297,298,299],\"colorbar\":{\"title\":{\"text\":\"Trial\"},\"x\":1.0,\"xpad\":40},\"colorscale\":[[0.0,\"rgb(247,251,255)\"],[0.125,\"rgb(222,235,247)\"],[0.25,\"rgb(198,219,239)\"],[0.375,\"rgb(158,202,225)\"],[0.5,\"rgb(107,174,214)\"],[0.625,\"rgb(66,146,198)\"],[0.75,\"rgb(33,113,181)\"],[0.875,\"rgb(8,81,156)\"],[1.0,\"rgb(8,48,107)\"]],\"line\":{\"color\":\"Grey\",\"width\":0.5},\"showscale\":false},\"mode\":\"markers\",\"name\":\"Feasible Trial\",\"showlegend\":false,\"x\":[\"dice\",\"euclidean\",\"cosine\",\"asymmetric\",\"asymmetric\",\"asymmetric\",\"asymmetric\",\"tversky\",\"tanimoto\",\"dice\",\"jaccard\",\"jaccard\",\"jaccard\",\"jaccard\",\"jaccard\",\"jaccard\",\"jaccard\",\"cosine\",\"tversky\",\"tanimoto\",\"euclidean\",\"jaccard\",\"jaccard\",\"jaccard\",\"jaccard\",\"jaccard\",\"jaccard\",\"jaccard\",\"cosine\",\"dice\",\"tversky\",\"jaccard\",\"jaccard\",\"euclidean\",\"jaccard\",\"tanimoto\",\"dice\",\"jaccard\",\"euclidean\",\"asymmetric\",\"cosine\",\"jaccard\",\"jaccard\",\"jaccard\",\"jaccard\",\"jaccard\",\"asymmetric\",\"jaccard\",\"tversky\",\"jaccard\",\"tanimoto\",\"jaccard\",\"jaccard\",\"jaccard\",\"jaccard\",\"jaccard\",\"dice\",\"jaccard\",\"jaccard\",\"jaccard\",\"cosine\",\"jaccard\",\"jaccard\",\"jaccard\",\"jaccard\",\"asymmetric\",\"jaccard\",\"euclidean\",\"tversky\",\"tversky\",\"tversky\",\"tversky\",\"tversky\",\"tversky\",\"tversky\",\"tversky\",\"tversky\",\"tversky\",\"tversky\",\"tversky\",\"tversky\",\"tversky\",\"tversky\",\"tversky\",\"tversky\",\"tversky\",\"tversky\",\"tversky\",\"tversky\",\"tversky\",\"tversky\",\"tversky\",\"tversky\",\"tversky\",\"tversky\",\"tversky\",\"tversky\",\"tversky\",\"tversky\",\"tversky\",\"tversky\",\"tversky\",\"tversky\",\"tversky\",\"tanimoto\",\"tversky\",\"tversky\",\"dice\",\"tversky\",\"tversky\",\"cosine\",\"tversky\",\"tversky\",\"tversky\",\"tversky\",\"euclidean\",\"tversky\",\"asymmetric\",\"tversky\",\"tversky\",\"tversky\",\"tversky\",\"tversky\",\"tversky\",\"tversky\",\"tanimoto\",\"tversky\",\"tversky\",\"tversky\",\"dice\",\"tversky\",\"tversky\",\"tversky\",\"tversky\",\"tversky\",\"tversky\",\"tversky\",\"cosine\",\"euclidean\",\"tversky\",\"tversky\",\"tversky\",\"tversky\",\"tversky\",\"tversky\",\"asymmetric\",\"tversky\",\"tversky\",\"tversky\",\"tversky\",\"tversky\",\"tversky\",\"tversky\",\"tversky\",\"tversky\",\"tversky\",\"tanimoto\",\"tversky\",\"tversky\",\"tversky\",\"dice\",\"tversky\",\"tversky\",\"tversky\",\"tversky\",\"tversky\",\"tversky\",\"tversky\",\"cosine\",\"tversky\",\"tversky\",\"tversky\",\"tversky\",\"tversky\",\"tversky\",\"tversky\",\"tversky\",\"euclidean\",\"tversky\",\"asymmetric\",\"tversky\",\"tversky\",\"tversky\",\"tversky\",\"tversky\",\"tversky\",\"tversky\",\"tversky\",\"tversky\",\"tversky\",\"tversky\",\"tversky\",\"tversky\",\"tversky\",\"tversky\",\"tversky\",\"tanimoto\",\"tversky\",\"tversky\",\"tversky\",\"tversky\",\"tversky\",\"tversky\",\"tversky\",\"tversky\",\"tversky\",\"tversky\",\"tversky\",\"dice\",\"tversky\",\"cosine\",\"tversky\",\"tversky\",\"tversky\",\"tversky\",\"tversky\",\"tversky\",\"euclidean\",\"tversky\",\"tversky\",\"asymmetric\",\"tversky\",\"tversky\",\"tversky\",\"tversky\",\"tversky\",\"tversky\",\"tversky\",\"tversky\",\"tversky\",\"tversky\",\"tversky\",\"tversky\",\"tversky\",\"tversky\",\"tversky\",\"tversky\",\"tversky\",\"tversky\",\"tversky\",\"tversky\",\"tversky\",\"tversky\",\"tversky\",\"tanimoto\",\"tversky\",\"tversky\",\"tversky\",\"tversky\",\"tversky\",\"tversky\",\"dice\",\"tversky\",\"tversky\",\"cosine\",\"tversky\",\"tversky\",\"tversky\",\"tversky\",\"tversky\",\"tversky\",\"euclidean\",\"tversky\",\"tversky\",\"tversky\",\"asymmetric\",\"tversky\",\"tversky\",\"tversky\",\"tversky\",\"tversky\",\"tversky\",\"tversky\",\"tversky\",\"tversky\",\"tanimoto\",\"tversky\",\"tversky\",\"tversky\",\"tversky\",\"tversky\",\"tversky\",\"dice\",\"tversky\",\"cosine\",\"tversky\",\"tversky\",\"tversky\",\"tversky\",\"euclidean\",\"tversky\",\"tversky\",\"tversky\",\"tversky\",\"tversky\",\"tversky\",\"tversky\",\"tversky\",\"tversky\",\"tversky\"],\"y\":[0.03742553831019832,0.019689644284135395,0.03653141736801885,0.006844998998069001,0.038312991097995346,0.02770694049744375,0.03413762584860547,0.02930350615124925,0.03193876683547712,0.037982657485335906,0.04108638542767332,0.04097292053776418,0.040488035274043835,0.04090489549556162,0.030957986452678724,0.039939929682661704,0.041439345981953625,0.02259664838901643,0.040920417835586684,0.04041288285908648,0.010682166994571333,0.040194325275379694,0.041287545845933984,0.041429159683511706,0.04163148902126561,0.042445478255061876,0.04226567718390651,0.04243210399436546,0.023614545760920976,0.04099472771766249,0.03634763513923855,0.04233174390643834,0.04231494638151161,0.014606905278051023,0.041114739315772635,0.03572427845787681,0.04116894985487229,0.03745837811661304,0.020505504548159352,0.022320768207818753,0.020278711395295166,0.04217417887200844,0.041805862966201986,0.04194362088752916,0.04158997340328676,0.034987650441457414,0.013851658043987778,0.035480642237767854,0.03843973916396491,0.04296053530440534,0.039081771990867674,0.042890643027168086,0.0425533528254458,0.042698484807083215,0.04243500731713289,0.04219570141241956,0.035107601316477055,0.04132990020160117,0.04323487463718009,0.043733149342369514,0.023202922905964225,0.043301362626152834,0.04311514388336367,0.04310361408654302,0.04298318501718523,0.024073786904458248,0.043414060887043596,0.0269611432943493,0.04496086396813298,0.040196321546981925,0.04551017643094022,0.043870941420435114,0.04571825928152496,0.04564170264509853,0.04628549264643436,0.04324570611845915,0.04563579732454135,0.036710151989896044,0.04632226047776987,0.04352006063200648,0.045957720789157955,0.04570064579006891,0.04645695947340995,0.04643941809062374,0.045893206300628514,0.027627632345976,0.03331625496411306,0.04328113804180233,0.041051556940042554,0.04586286373131303,0.04356950440849693,0.04338710742521999,0.045761714243208754,0.04276076772203449,0.04585388809948929,0.04352818234536914,0.03483972140246096,0.04361803733862896,0.04051046486562013,0.0435991145055325,0.037086046896443306,0.04529912194411105,0.04599361572606659,0.04378834663169083,0.04315405599883465,0.04611641299595638,0.04331285826623481,0.0427004772834925,0.04383563853365946,0.040004800919348035,0.02113529408192757,0.04532321762548492,0.04459452915315649,0.039281687585771774,0.04601519519437529,0.015444026214158095,0.0457780980920811,0.03157588564627617,0.043226286115058625,0.04382375198868176,0.044471500376483834,0.04535308959084847,0.04394703124810298,0.04586061318176914,0.046325057535128986,0.04346638901033559,0.034452922905964564,0.04239086542548714,0.04404951284900655,0.04261402278330406,0.043338851544188726,0.04565926300385055,0.031072354598559834,0.045913317029184234,0.04404180481169836,0.04640622533124506,0.04647952569194015,0.022951715275500675,0.015405694763240569,0.03540750507037848,0.04463328187051467,0.04593098365334467,0.04643886019722917,0.04408551784651692,0.03629260483841626,0.022506315201418464,0.0462481099938068,0.044585769847342784,0.04294674736765443,0.0437837240864217,0.027433925687081927,0.0459335226375688,0.04452568814442449,0.046434476749129275,0.04379614195844158,0.046581605002368756,0.043655689449970815,0.04347085215749201,0.03666745986203753,0.04405648082364873,0.04416697028212005,0.04642917486428447,0.044922449022966174,0.04654185794440247,0.0371013794768104,0.044049068811406814,0.04469292333102655,0.04328774167790109,0.02276291959655579,0.046358531138801465,0.04483715585188489,0.04642447641515219,0.04469948522000041,0.04615080503637379,0.046412009205621,0.03560913229739782,0.0442720136384067,0.017125258832173494,0.04635524829671792,0.0204709796759816,0.04659445932160221,0.044644527027848255,0.04664752750756058,0.03449497744137231,0.04497186623310437,0.04401087019224991,0.046589760872469965,0.035039048742425166,0.04322397104723099,0.04510096731883338,0.044035170814054385,0.04198750091084686,0.04637506679540017,0.046500945762136155,0.04429856860494831,0.046383165737604024,0.04357847624512754,0.044234137610668335,0.03371450735356673,0.04496790405144529,0.04379301092408455,0.044906592705943174,0.045944467974642696,0.04613675902648804,0.046554473166466846,0.04409026942835345,0.04478740466474837,0.046204169247398716,0.042675497322112364,0.02929937698109101,0.023954951816227636,0.04486072400140945,0.04399195874473292,0.046145499356335856,0.044592373483441416,0.043964857270376245,0.04486877740129527,0.015580535516935555,0.04425323502265036,0.04288884031041678,0.022602940819275937,0.0465458808491523,0.04487394265918632,0.04622472021836085,0.04327544145686904,0.04635612119114474,0.04640832786825581,0.044137333618732476,0.03665975182472936,0.04673019060978189,0.04677447671876762,0.046741648297932314,0.045138718105197276,0.04431032611335845,0.04483827543386706,0.0449837451876956,0.044149235344482736,0.04645062909121889,0.04650720403565716,0.0443319890759166,0.04499491823635913,0.04668862185909864,0.046653933793614884,0.04484361147545016,0.04394021887638043,0.0442095865061154,0.04672664969456347,0.046657250792436905,0.04481656313379783,0.04399635737360553,0.04514001226606483,0.03605231597867448,0.045440022285374734,0.04536639933326099,0.023954951816227636,0.04433976922189487,0.0436696823271524,0.04667674290450739,0.046761785592840076,0.04434469917780996,0.046620350129340744,0.02086811248345292,0.045004641521235546,0.0334635615914311,0.04441005240402778,0.021563118616485143,0.04405331563255308,0.044876011039458465,0.03623821972043133,0.04674819880132673,0.04355011476664184,0.04679264051323207,0.04684479785283206,0.04541465521429227,0.03353248229921945,0.04369230167838678,0.04687268493217283,0.030029852989398007,0.044585071531801294,0.04293164249887716,0.04503819861915747,0.044329970033155426,0.0433490871801417,0.03835284821656334,0.022911657011695296,0.044966928686803076,0.033841361684944775,0.04344337116381934,0.042468932548791576,0.014831804629528303,0.04671665695097271,0.04672179943770491,0.043879628617578784,0.04506017278755473,0.04671389405035229,0.04456229278245404,0.046499769252256504,0.04521973409358694,0.03311541334207781,0.04685008455690415],\"type\":\"scatter\",\"xaxis\":\"x6\",\"yaxis\":\"y6\"},{\"marker\":{\"color\":[1,20,33,38,67,115,138,177,217,261,289],\"colorbar\":{\"title\":{\"text\":\"Trial\"},\"x\":1.0,\"xpad\":40},\"colorscale\":[[0.0,\"rgb(247,251,255)\"],[0.125,\"rgb(222,235,247)\"],[0.25,\"rgb(198,219,239)\"],[0.375,\"rgb(158,202,225)\"],[0.5,\"rgb(107,174,214)\"],[0.625,\"rgb(66,146,198)\"],[0.75,\"rgb(33,113,181)\"],[0.875,\"rgb(8,81,156)\"],[1.0,\"rgb(8,48,107)\"]],\"line\":{\"color\":\"Grey\",\"width\":0.5},\"showscale\":false},\"mode\":\"markers\",\"name\":\"Feasible Trial\",\"showlegend\":false,\"x\":[\"lin\",\"log\",\"exp\",\"exp\",\"lin\",\"log\",\"exp\",\"log\",\"lin\",\"log\",\"exp\"],\"y\":[0.019689644284135395,0.010682166994571333,0.014606905278051023,0.020505504548159352,0.0269611432943493,0.015444026214158095,0.015405694763240569,0.017125258832173494,0.015580535516935555,0.02086811248345292,0.014831804629528303],\"type\":\"scatter\",\"xaxis\":\"x7\",\"yaxis\":\"y7\"},{\"marker\":{\"color\":[0,1,2,3,4,5,6,7,8,9,10,11,12,13,14,15,16,17,18,19,20,21,22,23,24,25,26,27,28,29,30,31,32,33,34,35,36,37,38,39,40,41,42,43,44,45,46,47,48,49,50,51,52,53,54,55,56,57,58,59,60,61,62,63,64,65,66,67,68,69,70,71,72,73,74,75,76,77,78,79,80,81,82,83,84,85,86,87,88,89,90,91,92,93,94,95,96,97,98,99,100,101,102,103,104,105,106,107,108,109,110,111,112,113,114,115,116,117,118,119,120,121,122,123,124,125,126,127,128,129,130,131,132,133,134,135,136,137,138,139,140,141,142,143,144,145,146,147,148,149,150,151,152,153,154,155,156,157,158,159,160,161,162,163,164,165,166,167,168,169,170,171,172,173,174,175,176,177,178,179,180,181,182,183,184,185,186,187,188,189,190,191,192,193,194,195,196,197,198,199,200,201,202,203,204,205,206,207,208,209,210,211,212,213,214,215,216,217,218,219,220,221,222,223,224,225,226,227,228,229,230,231,232,233,234,235,236,237,238,239,240,241,242,243,244,245,246,247,248,249,250,251,252,253,254,255,256,257,258,259,260,261,262,263,264,265,266,267,268,269,270,271,272,273,274,275,276,277,278,279,280,281,282,283,284,285,286,287,288,289,290,291,292,293,294,295,296,297,298,299],\"colorbar\":{\"title\":{\"text\":\"Trial\"},\"x\":1.0,\"xpad\":40},\"colorscale\":[[0.0,\"rgb(247,251,255)\"],[0.125,\"rgb(222,235,247)\"],[0.25,\"rgb(198,219,239)\"],[0.375,\"rgb(158,202,225)\"],[0.5,\"rgb(107,174,214)\"],[0.625,\"rgb(66,146,198)\"],[0.75,\"rgb(33,113,181)\"],[0.875,\"rgb(8,81,156)\"],[1.0,\"rgb(8,48,107)\"]],\"line\":{\"color\":\"Grey\",\"width\":0.5},\"showscale\":false},\"mode\":\"markers\",\"name\":\"Feasible Trial\",\"showlegend\":false,\"x\":[937,516,176,558,204,728,946,173,763,168,332,340,386,375,318,611,311,51,43,464,258,416,294,288,257,94,69,95,11,105,109,99,92,114,202,148,223,15,111,837,557,73,149,71,231,181,986,153,62,108,666,93,126,136,144,199,139,250,33,31,23,33,52,45,47,19,40,42,32,42,14,63,13,15,10,81,14,16,10,72,12,15,10,10,13,450,838,83,169,10,64,84,12,118,10,58,95,57,125,71,41,22,11,59,102,10,81,43,35,537,646,15,32,357,10,58,10,45,93,70,31,16,55,11,11,41,73,119,33,53,91,15,34,14,61,11,10,34,79,51,32,12,10,50,31,72,10,33,103,58,788,12,31,11,48,10,32,72,401,47,10,10,29,10,481,52,31,77,49,11,30,10,31,12,10,55,36,67,11,43,10,30,10,594,30,55,11,46,86,25,59,10,10,10,33,10,31,44,934,27,62,26,13,11,10,43,31,11,43,294,10,29,47,10,29,66,30,11,48,29,68,10,26,12,44,11,11,46,28,11,10,10,29,43,32,28,57,12,11,44,29,10,10,30,28,50,11,11,34,59,29,47,25,27,10,47,66,10,10,41,10,10,29,74,44,30,58,29,329,11,46,11,10,27,62,29,10,725,44,88,28,53,10,10,41,31,427,73,27,47,11,11,61,30,10,44,10,28,62,10],\"y\":[0.03742553831019832,0.019689644284135395,0.03653141736801885,0.006844998998069001,0.038312991097995346,0.02770694049744375,0.03413762584860547,0.02930350615124925,0.03193876683547712,0.037982657485335906,0.04108638542767332,0.04097292053776418,0.040488035274043835,0.04090489549556162,0.030957986452678724,0.039939929682661704,0.041439345981953625,0.02259664838901643,0.040920417835586684,0.04041288285908648,0.010682166994571333,0.040194325275379694,0.041287545845933984,0.041429159683511706,0.04163148902126561,0.042445478255061876,0.04226567718390651,0.04243210399436546,0.023614545760920976,0.04099472771766249,0.03634763513923855,0.04233174390643834,0.04231494638151161,0.014606905278051023,0.041114739315772635,0.03572427845787681,0.04116894985487229,0.03745837811661304,0.020505504548159352,0.022320768207818753,0.020278711395295166,0.04217417887200844,0.041805862966201986,0.04194362088752916,0.04158997340328676,0.034987650441457414,0.013851658043987778,0.035480642237767854,0.03843973916396491,0.04296053530440534,0.039081771990867674,0.042890643027168086,0.0425533528254458,0.042698484807083215,0.04243500731713289,0.04219570141241956,0.035107601316477055,0.04132990020160117,0.04323487463718009,0.043733149342369514,0.023202922905964225,0.043301362626152834,0.04311514388336367,0.04310361408654302,0.04298318501718523,0.024073786904458248,0.043414060887043596,0.0269611432943493,0.04496086396813298,0.040196321546981925,0.04551017643094022,0.043870941420435114,0.04571825928152496,0.04564170264509853,0.04628549264643436,0.04324570611845915,0.04563579732454135,0.036710151989896044,0.04632226047776987,0.04352006063200648,0.045957720789157955,0.04570064579006891,0.04645695947340995,0.04643941809062374,0.045893206300628514,0.027627632345976,0.03331625496411306,0.04328113804180233,0.041051556940042554,0.04586286373131303,0.04356950440849693,0.04338710742521999,0.045761714243208754,0.04276076772203449,0.04585388809948929,0.04352818234536914,0.03483972140246096,0.04361803733862896,0.04051046486562013,0.0435991145055325,0.037086046896443306,0.04529912194411105,0.04599361572606659,0.04378834663169083,0.04315405599883465,0.04611641299595638,0.04331285826623481,0.0427004772834925,0.04383563853365946,0.040004800919348035,0.02113529408192757,0.04532321762548492,0.04459452915315649,0.039281687585771774,0.04601519519437529,0.015444026214158095,0.0457780980920811,0.03157588564627617,0.043226286115058625,0.04382375198868176,0.044471500376483834,0.04535308959084847,0.04394703124810298,0.04586061318176914,0.046325057535128986,0.04346638901033559,0.034452922905964564,0.04239086542548714,0.04404951284900655,0.04261402278330406,0.043338851544188726,0.04565926300385055,0.031072354598559834,0.045913317029184234,0.04404180481169836,0.04640622533124506,0.04647952569194015,0.022951715275500675,0.015405694763240569,0.03540750507037848,0.04463328187051467,0.04593098365334467,0.04643886019722917,0.04408551784651692,0.03629260483841626,0.022506315201418464,0.0462481099938068,0.044585769847342784,0.04294674736765443,0.0437837240864217,0.027433925687081927,0.0459335226375688,0.04452568814442449,0.046434476749129275,0.04379614195844158,0.046581605002368756,0.043655689449970815,0.04347085215749201,0.03666745986203753,0.04405648082364873,0.04416697028212005,0.04642917486428447,0.044922449022966174,0.04654185794440247,0.0371013794768104,0.044049068811406814,0.04469292333102655,0.04328774167790109,0.02276291959655579,0.046358531138801465,0.04483715585188489,0.04642447641515219,0.04469948522000041,0.04615080503637379,0.046412009205621,0.03560913229739782,0.0442720136384067,0.017125258832173494,0.04635524829671792,0.0204709796759816,0.04659445932160221,0.044644527027848255,0.04664752750756058,0.03449497744137231,0.04497186623310437,0.04401087019224991,0.046589760872469965,0.035039048742425166,0.04322397104723099,0.04510096731883338,0.044035170814054385,0.04198750091084686,0.04637506679540017,0.046500945762136155,0.04429856860494831,0.046383165737604024,0.04357847624512754,0.044234137610668335,0.03371450735356673,0.04496790405144529,0.04379301092408455,0.044906592705943174,0.045944467974642696,0.04613675902648804,0.046554473166466846,0.04409026942835345,0.04478740466474837,0.046204169247398716,0.042675497322112364,0.02929937698109101,0.023954951816227636,0.04486072400140945,0.04399195874473292,0.046145499356335856,0.044592373483441416,0.043964857270376245,0.04486877740129527,0.015580535516935555,0.04425323502265036,0.04288884031041678,0.022602940819275937,0.0465458808491523,0.04487394265918632,0.04622472021836085,0.04327544145686904,0.04635612119114474,0.04640832786825581,0.044137333618732476,0.03665975182472936,0.04673019060978189,0.04677447671876762,0.046741648297932314,0.045138718105197276,0.04431032611335845,0.04483827543386706,0.0449837451876956,0.044149235344482736,0.04645062909121889,0.04650720403565716,0.0443319890759166,0.04499491823635913,0.04668862185909864,0.046653933793614884,0.04484361147545016,0.04394021887638043,0.0442095865061154,0.04672664969456347,0.046657250792436905,0.04481656313379783,0.04399635737360553,0.04514001226606483,0.03605231597867448,0.045440022285374734,0.04536639933326099,0.023954951816227636,0.04433976922189487,0.0436696823271524,0.04667674290450739,0.046761785592840076,0.04434469917780996,0.046620350129340744,0.02086811248345292,0.045004641521235546,0.0334635615914311,0.04441005240402778,0.021563118616485143,0.04405331563255308,0.044876011039458465,0.03623821972043133,0.04674819880132673,0.04355011476664184,0.04679264051323207,0.04684479785283206,0.04541465521429227,0.03353248229921945,0.04369230167838678,0.04687268493217283,0.030029852989398007,0.044585071531801294,0.04293164249887716,0.04503819861915747,0.044329970033155426,0.0433490871801417,0.03835284821656334,0.022911657011695296,0.044966928686803076,0.033841361684944775,0.04344337116381934,0.042468932548791576,0.014831804629528303,0.04671665695097271,0.04672179943770491,0.043879628617578784,0.04506017278755473,0.04671389405035229,0.04456229278245404,0.046499769252256504,0.04521973409358694,0.03311541334207781,0.04685008455690415],\"type\":\"scatter\",\"xaxis\":\"x8\",\"yaxis\":\"y8\"},{\"marker\":{\"color\":[7,18,30,48,68,69,70,71,72,73,74,75,76,77,78,79,80,81,82,83,84,85,86,87,88,89,90,91,92,93,94,95,96,97,98,99,100,101,102,103,105,106,108,109,111,112,113,114,116,118,119,120,121,122,123,124,126,127,128,130,131,132,133,134,135,136,139,140,141,142,143,144,146,147,148,149,150,151,152,153,154,155,157,158,159,161,162,163,164,165,166,167,169,170,171,172,173,174,175,176,178,180,181,182,183,184,185,186,187,188,189,190,191,192,193,194,195,197,198,199,200,201,202,203,204,205,206,207,209,211,212,213,214,215,216,218,219,221,222,223,224,225,226,227,228,229,230,231,232,233,234,235,236,237,238,239,240,241,242,243,245,246,247,248,249,250,252,253,255,256,257,258,259,260,262,263,264,266,267,268,269,270,271,272,273,274,276,277,278,279,280,281,283,285,286,287,288,290,291,292,293,294,295,296,297,298,299],\"colorbar\":{\"title\":{\"text\":\"Trial\"},\"x\":1.0,\"xpad\":40},\"colorscale\":[[0.0,\"rgb(247,251,255)\"],[0.125,\"rgb(222,235,247)\"],[0.25,\"rgb(198,219,239)\"],[0.375,\"rgb(158,202,225)\"],[0.5,\"rgb(107,174,214)\"],[0.625,\"rgb(66,146,198)\"],[0.75,\"rgb(33,113,181)\"],[0.875,\"rgb(8,81,156)\"],[1.0,\"rgb(8,48,107)\"]],\"line\":{\"color\":\"Grey\",\"width\":0.5},\"showscale\":false},\"mode\":\"markers\",\"name\":\"Feasible Trial\",\"showlegend\":false,\"x\":[0.06445532502006679,1.8718704384902036,0.9593087966516112,1.903657010453373,0.06599916949372164,0.09668352506258415,0.6167716807688037,0.5475735576555097,0.5470367009644647,0.5413900998971622,0.5488402077904831,0.5422314902241622,0.5504099423142814,0.5393254817735798,0.5392881967953681,0.5588071612616814,0.5248953128626779,0.5303830304736604,0.523882079489258,0.5283031758348263,0.5221430822370347,0.41269303603301744,0.41381487760052993,0.6793232910314292,0.3817271915543579,0.7381802548865501,0.7493289328824846,0.4224369522501108,0.708320090430669,0.6749072098860078,0.7496006019719456,0.7915780746244115,0.7982331092930617,0.7069035980458722,0.7007850268431226,0.376835184063426,0.8355079447761813,0.4879554424554066,0.6177672073785689,0.6375400010662395,0.6389765368709938,0.9170021930985597,0.6475431971466905,1.1134210393799213,0.6249439883380048,0.47132243144522884,0.6177872157010063,0.6113747136951935,0.7004151130080324,0.6149924247906372,0.47842057926260206,0.606735017095782,0.7241988800737253,0.5847956579296203,0.7148515821256345,0.48633139526740055,0.5057912311128251,0.48057459500015,0.5862311899481758,0.5713987983061785,0.5217409302915804,0.6730334746873651,0.4445243193144707,0.37052929774651616,0.445004456828976,0.4459583464837894,0.44350894771270283,0.33999053724221895,0.5330290359240789,0.5206654102663427,0.4402068092301564,0.5271386520382778,0.536752251376366,0.3249857217702281,0.44510080686190556,0.5517340878814986,0.5002054803674435,0.5482899768588877,0.5469533719759838,0.4189088435943249,0.5543703332075743,0.418204656621375,0.39453908442233276,0.33443418835828215,0.4770129986979919,0.5124791431884012,0.42187431080546955,0.4934990834446702,0.4955785248962457,0.5852668263400359,0.40323464854470575,0.6285216897019732,0.4697320955068711,0.4774241439887511,0.4981542638702329,0.45228295971381427,0.5017887918225827,0.4971341536772978,0.5014430110993328,0.40583962710310223,0.45235619995865917,0.37127033095019424,0.44689251097106936,0.3741975935002836,0.36157503524899576,0.2945127753092088,0.39346188459930737,0.2936976176034093,0.288288701804451,0.3734784436837963,0.43260522156552245,0.27735425099139627,0.4691997008791352,0.5128649953385994,0.40055682985091395,0.41745428763161097,0.4685288673464387,0.36331945805396554,0.45837464071733364,0.4230674238217851,0.5033542919322286,0.488082322244211,0.39391823211902255,0.5717965034688739,0.4630051364785958,0.4632679773033542,0.3310931024564987,0.5193636786800166,0.41952055758500467,0.46397770390959775,0.5251605462712763,0.37937559580472324,0.5753335448443029,0.4947997788364553,0.4404570135239795,0.34553263725499866,0.5295884601450505,0.46541644389246206,0.4711974159814876,0.4109228534926291,0.5086610442700363,0.4473060203114518,0.43871071931895733,0.43152147092408993,0.38987914786293637,0.24918630752971266,0.24244226046339284,0.3022224675173059,0.22850312601689768,0.25194723575927697,0.20353575946397673,0.32090358359380955,0.2080233275773316,0.2986692807498709,0.29930956523987085,0.2935577493502689,0.26591971123256924,0.3120741687041418,0.337779277623756,0.30185117753306967,0.3422173843235088,0.2394685506298879,0.22053216777565882,0.21541711664145022,0.26209522996566537,0.1735901814453985,0.285930180724778,0.1599051601269485,0.33887456932605736,0.26837761825083095,0.3161281719364137,0.24658565443441838,0.3061649289007343,0.31483222030939034,0.2556095724847526,0.32194421959530517,0.23199872071162922,0.35996074764360453,0.30680211679857267,0.24438889907694758,0.17167315675995465,0.23879988680282346,0.16278361399445831,0.19358831149207384,0.15807920605997866,0.11767250566375684,0.18281839514364737,0.1056908781461209,0.1894220922310374,0.1773556842311082,0.21816659108239297,0.15369194468267475,0.06783331599756916,0.19904605821598614,0.13482209413930799,0.25006775305291207,0.35432708613023217,0.2070605448311803,0.19522989176303984,0.19496741306778115,0.1426034021076434,0.21375709312858354,0.22006609365844676,0.26766984182277237,0.17567184593091767,0.08352542974766058,0.22296625283643304],\"y\":[0.02930350615124925,0.040920417835586684,0.03634763513923855,0.03843973916396491,0.04496086396813298,0.040196321546981925,0.04551017643094022,0.043870941420435114,0.04571825928152496,0.04564170264509853,0.04628549264643436,0.04324570611845915,0.04563579732454135,0.036710151989896044,0.04632226047776987,0.04352006063200648,0.045957720789157955,0.04570064579006891,0.04645695947340995,0.04643941809062374,0.045893206300628514,0.027627632345976,0.03331625496411306,0.04328113804180233,0.041051556940042554,0.04586286373131303,0.04356950440849693,0.04338710742521999,0.045761714243208754,0.04276076772203449,0.04585388809948929,0.04352818234536914,0.03483972140246096,0.04361803733862896,0.04051046486562013,0.0435991145055325,0.037086046896443306,0.04529912194411105,0.04599361572606659,0.04378834663169083,0.04611641299595638,0.04331285826623481,0.04383563853365946,0.040004800919348035,0.04532321762548492,0.04459452915315649,0.039281687585771774,0.04601519519437529,0.0457780980920811,0.043226286115058625,0.04382375198868176,0.044471500376483834,0.04535308959084847,0.04394703124810298,0.04586061318176914,0.046325057535128986,0.034452922905964564,0.04239086542548714,0.04404951284900655,0.043338851544188726,0.04565926300385055,0.031072354598559834,0.045913317029184234,0.04404180481169836,0.04640622533124506,0.04647952569194015,0.03540750507037848,0.04463328187051467,0.04593098365334467,0.04643886019722917,0.04408551784651692,0.03629260483841626,0.0462481099938068,0.044585769847342784,0.04294674736765443,0.0437837240864217,0.027433925687081927,0.0459335226375688,0.04452568814442449,0.046434476749129275,0.04379614195844158,0.046581605002368756,0.04347085215749201,0.03666745986203753,0.04405648082364873,0.04642917486428447,0.044922449022966174,0.04654185794440247,0.0371013794768104,0.044049068811406814,0.04469292333102655,0.04328774167790109,0.046358531138801465,0.04483715585188489,0.04642447641515219,0.04469948522000041,0.04615080503637379,0.046412009205621,0.03560913229739782,0.0442720136384067,0.04635524829671792,0.04659445932160221,0.044644527027848255,0.04664752750756058,0.03449497744137231,0.04497186623310437,0.04401087019224991,0.046589760872469965,0.035039048742425166,0.04322397104723099,0.04510096731883338,0.044035170814054385,0.04198750091084686,0.04637506679540017,0.046500945762136155,0.04429856860494831,0.046383165737604024,0.044234137610668335,0.03371450735356673,0.04496790405144529,0.04379301092408455,0.044906592705943174,0.045944467974642696,0.04613675902648804,0.046554473166466846,0.04409026942835345,0.04478740466474837,0.046204169247398716,0.02929937698109101,0.04486072400140945,0.04399195874473292,0.046145499356335856,0.044592373483441416,0.043964857270376245,0.04486877740129527,0.04425323502265036,0.04288884031041678,0.0465458808491523,0.04487394265918632,0.04622472021836085,0.04327544145686904,0.04635612119114474,0.04640832786825581,0.044137333618732476,0.03665975182472936,0.04673019060978189,0.04677447671876762,0.046741648297932314,0.045138718105197276,0.04431032611335845,0.04483827543386706,0.0449837451876956,0.044149235344482736,0.04645062909121889,0.04650720403565716,0.0443319890759166,0.04499491823635913,0.04668862185909864,0.046653933793614884,0.04484361147545016,0.0442095865061154,0.04672664969456347,0.046657250792436905,0.04481656313379783,0.04399635737360553,0.04514001226606483,0.045440022285374734,0.04536639933326099,0.04433976922189487,0.0436696823271524,0.04667674290450739,0.046761785592840076,0.04434469917780996,0.046620350129340744,0.045004641521235546,0.0334635615914311,0.04441005240402778,0.04405331563255308,0.044876011039458465,0.03623821972043133,0.04674819880132673,0.04355011476664184,0.04679264051323207,0.04684479785283206,0.04541465521429227,0.03353248229921945,0.04687268493217283,0.030029852989398007,0.044585071531801294,0.04293164249887716,0.04503819861915747,0.044329970033155426,0.03835284821656334,0.044966928686803076,0.033841361684944775,0.04344337116381934,0.042468932548791576,0.04671665695097271,0.04672179943770491,0.043879628617578784,0.04506017278755473,0.04671389405035229,0.04456229278245404,0.046499769252256504,0.04521973409358694,0.03311541334207781,0.04685008455690415],\"type\":\"scatter\",\"xaxis\":\"x9\",\"yaxis\":\"y9\"},{\"marker\":{\"color\":[7,18,30,48,68,69,70,71,72,73,74,75,76,77,78,79,80,81,82,83,84,85,86,87,88,89,90,91,92,93,94,95,96,97,98,99,100,101,102,103,105,106,108,109,111,112,113,114,116,118,119,120,121,122,123,124,126,127,128,130,131,132,133,134,135,136,139,140,141,142,143,144,146,147,148,149,150,151,152,153,154,155,157,158,159,161,162,163,164,165,166,167,169,170,171,172,173,174,175,176,178,180,181,182,183,184,185,186,187,188,189,190,191,192,193,194,195,197,198,199,200,201,202,203,204,205,206,207,209,211,212,213,214,215,216,218,219,221,222,223,224,225,226,227,228,229,230,231,232,233,234,235,236,237,238,239,240,241,242,243,245,246,247,248,249,250,252,253,255,256,257,258,259,260,262,263,264,266,267,268,269,270,271,272,273,274,276,277,278,279,280,281,283,285,286,287,288,290,291,292,293,294,295,296,297,298,299],\"colorbar\":{\"title\":{\"text\":\"Trial\"},\"x\":1.0,\"xpad\":40},\"colorscale\":[[0.0,\"rgb(247,251,255)\"],[0.125,\"rgb(222,235,247)\"],[0.25,\"rgb(198,219,239)\"],[0.375,\"rgb(158,202,225)\"],[0.5,\"rgb(107,174,214)\"],[0.625,\"rgb(66,146,198)\"],[0.75,\"rgb(33,113,181)\"],[0.875,\"rgb(8,81,156)\"],[1.0,\"rgb(8,48,107)\"]],\"line\":{\"color\":\"Grey\",\"width\":0.5},\"showscale\":false},\"mode\":\"markers\",\"name\":\"Feasible Trial\",\"showlegend\":false,\"x\":[0.9731195198302851,1.9701971117292498,0.14768072019191614,0.03951246206141845,1.9678809622773614,1.9767119727377647,1.4235813967923732,1.489731818663786,1.5204119881599032,1.4651376406742622,1.4422422275102473,1.4919603623025082,1.416812917919937,1.4455633352132353,1.5084445277689686,1.4515497157261383,1.476141338258852,1.4773642870640062,1.4619364911532038,1.467678024785217,1.4768297260626995,1.5279573087094316,1.5516330573251693,1.627036628434976,1.2834223276928947,1.6702301175213683,1.675732341843111,1.2982605408059205,1.6655386285502802,1.6814805931873407,1.659795855034732,1.6912112615300525,1.6664001408048954,1.7581608780589422,1.3233431128211812,1.5866783785367593,1.7887440275690658,1.583057074468805,1.3577125732770363,1.2981658045552806,1.5786365158127411,1.6058641524343888,1.3396359573256986,1.799947604925356,1.5543617610211247,1.3995410503370287,1.5404156024284483,1.2136449365527255,1.1771806544472134,1.183696518241087,1.1631321387602378,1.387876684792328,1.3908152067534265,1.5071392476022887,1.4595662434973256,1.4507427942230167,1.4542336447176059,1.4700919854307988,1.4083356365743194,1.5031617490399563,1.3894433976977345,1.5215408153162162,1.4546229170744207,1.441571321892359,1.5456503719496277,1.5607550410130349,1.5602358040701203,1.5081482215421325,1.4510595510367124,1.5853900303438515,1.5851579950965258,1.4657875183017877,1.5294809537384093,1.3631211355534159,1.5463797669009403,1.4442796099872877,1.590006550055539,1.4909081951154268,1.5234645541949914,1.4895216774139775,1.5099940772965972,1.6104434965398289,1.6173213964019713,1.6285644987770853,1.3486523308382004,1.5685826859221408,1.561541018419283,1.6098121857406498,1.6354673284850125,1.5879452393538442,1.5460403074428697,1.7169715131937566,1.6076930772477507,1.625726802414892,1.568898301343814,1.581281625781776,1.6405981974891701,1.6519117774404712,1.7127549579677948,1.6509058571980355,1.6189676622896958,1.619424196083655,1.6267567525712203,1.6806120752135794,1.7191137509468974,1.6867074750916549,1.536066096061203,1.5976964998004148,1.587363414567491,1.661731197884913,1.6023108277948923,1.5516663912422037,1.5010127795987682,1.5443808923464866,1.6107039911559142,1.6088682960589624,1.7399013147041358,1.7510564760434304,1.6580769532767647,1.697973240535607,1.6182665664787625,1.568729557028997,1.6698904779586852,1.5466459375972479,1.4974889956682371,1.750514586736874,1.6034159609035272,1.4866513837868687,1.565337907001015,1.4983017197352788,1.417415027490982,1.5249818677879512,1.642784612241742,1.5865370090598603,1.488047754496503,1.5396252018731844,1.6875001188167167,1.4397344111984114,1.4696579310002775,1.6008571492232182,1.4295296593113027,1.6436818914531335,1.6425451837076845,1.6536201783225977,1.6291500510192574,1.7270794921828143,1.81254100352671,1.769568735612645,1.8051528790889408,1.728780806517842,1.7696036957003316,1.793888361227522,1.8741633785640008,1.712038689581332,1.6952784316027956,1.7037663546304913,1.7294907737361627,1.681948662601948,1.6860357173297535,1.6690817010057495,1.696413520636897,1.7058044144274025,1.823841662880605,1.8221476052854997,1.770763725872972,1.6979813282477374,1.823981356145341,1.7457303661124584,1.8676187350208764,1.730966618022869,1.671544041594012,1.68426062843479,1.687253599057471,1.7690977749240315,1.771170651415122,1.7216855262976583,1.7724700137253455,1.8425040478882089,1.6917887949522112,1.7724557195691053,1.7281625939205392,1.7286882982622767,1.8031803340780925,1.8125169805944084,1.8461155548627086,1.8915947393208061,1.7987065742340336,1.799955013754192,1.8137476873115526,1.793368984760384,1.8951988859299687,1.7528372422205762,1.672971047702975,1.8293161349351532,1.7649648638372737,1.7938667036288838,1.914298311802548,1.8387783561428663,1.9340663527297237,1.8528261213940707,1.966497823575702,1.9436138880670364,1.9311104514649493,1.9473541602282844,1.8760685128769274,1.8386624360056547,1.9749601437127569],\"y\":[0.02930350615124925,0.040920417835586684,0.03634763513923855,0.03843973916396491,0.04496086396813298,0.040196321546981925,0.04551017643094022,0.043870941420435114,0.04571825928152496,0.04564170264509853,0.04628549264643436,0.04324570611845915,0.04563579732454135,0.036710151989896044,0.04632226047776987,0.04352006063200648,0.045957720789157955,0.04570064579006891,0.04645695947340995,0.04643941809062374,0.045893206300628514,0.027627632345976,0.03331625496411306,0.04328113804180233,0.041051556940042554,0.04586286373131303,0.04356950440849693,0.04338710742521999,0.045761714243208754,0.04276076772203449,0.04585388809948929,0.04352818234536914,0.03483972140246096,0.04361803733862896,0.04051046486562013,0.0435991145055325,0.037086046896443306,0.04529912194411105,0.04599361572606659,0.04378834663169083,0.04611641299595638,0.04331285826623481,0.04383563853365946,0.040004800919348035,0.04532321762548492,0.04459452915315649,0.039281687585771774,0.04601519519437529,0.0457780980920811,0.043226286115058625,0.04382375198868176,0.044471500376483834,0.04535308959084847,0.04394703124810298,0.04586061318176914,0.046325057535128986,0.034452922905964564,0.04239086542548714,0.04404951284900655,0.043338851544188726,0.04565926300385055,0.031072354598559834,0.045913317029184234,0.04404180481169836,0.04640622533124506,0.04647952569194015,0.03540750507037848,0.04463328187051467,0.04593098365334467,0.04643886019722917,0.04408551784651692,0.03629260483841626,0.0462481099938068,0.044585769847342784,0.04294674736765443,0.0437837240864217,0.027433925687081927,0.0459335226375688,0.04452568814442449,0.046434476749129275,0.04379614195844158,0.046581605002368756,0.04347085215749201,0.03666745986203753,0.04405648082364873,0.04642917486428447,0.044922449022966174,0.04654185794440247,0.0371013794768104,0.044049068811406814,0.04469292333102655,0.04328774167790109,0.046358531138801465,0.04483715585188489,0.04642447641515219,0.04469948522000041,0.04615080503637379,0.046412009205621,0.03560913229739782,0.0442720136384067,0.04635524829671792,0.04659445932160221,0.044644527027848255,0.04664752750756058,0.03449497744137231,0.04497186623310437,0.04401087019224991,0.046589760872469965,0.035039048742425166,0.04322397104723099,0.04510096731883338,0.044035170814054385,0.04198750091084686,0.04637506679540017,0.046500945762136155,0.04429856860494831,0.046383165737604024,0.044234137610668335,0.03371450735356673,0.04496790405144529,0.04379301092408455,0.044906592705943174,0.045944467974642696,0.04613675902648804,0.046554473166466846,0.04409026942835345,0.04478740466474837,0.046204169247398716,0.02929937698109101,0.04486072400140945,0.04399195874473292,0.046145499356335856,0.044592373483441416,0.043964857270376245,0.04486877740129527,0.04425323502265036,0.04288884031041678,0.0465458808491523,0.04487394265918632,0.04622472021836085,0.04327544145686904,0.04635612119114474,0.04640832786825581,0.044137333618732476,0.03665975182472936,0.04673019060978189,0.04677447671876762,0.046741648297932314,0.045138718105197276,0.04431032611335845,0.04483827543386706,0.0449837451876956,0.044149235344482736,0.04645062909121889,0.04650720403565716,0.0443319890759166,0.04499491823635913,0.04668862185909864,0.046653933793614884,0.04484361147545016,0.0442095865061154,0.04672664969456347,0.046657250792436905,0.04481656313379783,0.04399635737360553,0.04514001226606483,0.045440022285374734,0.04536639933326099,0.04433976922189487,0.0436696823271524,0.04667674290450739,0.046761785592840076,0.04434469917780996,0.046620350129340744,0.045004641521235546,0.0334635615914311,0.04441005240402778,0.04405331563255308,0.044876011039458465,0.03623821972043133,0.04674819880132673,0.04355011476664184,0.04679264051323207,0.04684479785283206,0.04541465521429227,0.03353248229921945,0.04687268493217283,0.030029852989398007,0.044585071531801294,0.04293164249887716,0.04503819861915747,0.044329970033155426,0.03835284821656334,0.044966928686803076,0.033841361684944775,0.04344337116381934,0.042468932548791576,0.04671665695097271,0.04672179943770491,0.043879628617578784,0.04506017278755473,0.04671389405035229,0.04456229278245404,0.046499769252256504,0.04521973409358694,0.03311541334207781,0.04685008455690415],\"type\":\"scatter\",\"xaxis\":\"x10\",\"yaxis\":\"y10\"}],                        {\"template\":{\"data\":{\"histogram2dcontour\":[{\"type\":\"histogram2dcontour\",\"colorbar\":{\"outlinewidth\":0,\"ticks\":\"\"},\"colorscale\":[[0.0,\"#0d0887\"],[0.1111111111111111,\"#46039f\"],[0.2222222222222222,\"#7201a8\"],[0.3333333333333333,\"#9c179e\"],[0.4444444444444444,\"#bd3786\"],[0.5555555555555556,\"#d8576b\"],[0.6666666666666666,\"#ed7953\"],[0.7777777777777778,\"#fb9f3a\"],[0.8888888888888888,\"#fdca26\"],[1.0,\"#f0f921\"]]}],\"choropleth\":[{\"type\":\"choropleth\",\"colorbar\":{\"outlinewidth\":0,\"ticks\":\"\"}}],\"histogram2d\":[{\"type\":\"histogram2d\",\"colorbar\":{\"outlinewidth\":0,\"ticks\":\"\"},\"colorscale\":[[0.0,\"#0d0887\"],[0.1111111111111111,\"#46039f\"],[0.2222222222222222,\"#7201a8\"],[0.3333333333333333,\"#9c179e\"],[0.4444444444444444,\"#bd3786\"],[0.5555555555555556,\"#d8576b\"],[0.6666666666666666,\"#ed7953\"],[0.7777777777777778,\"#fb9f3a\"],[0.8888888888888888,\"#fdca26\"],[1.0,\"#f0f921\"]]}],\"heatmap\":[{\"type\":\"heatmap\",\"colorbar\":{\"outlinewidth\":0,\"ticks\":\"\"},\"colorscale\":[[0.0,\"#0d0887\"],[0.1111111111111111,\"#46039f\"],[0.2222222222222222,\"#7201a8\"],[0.3333333333333333,\"#9c179e\"],[0.4444444444444444,\"#bd3786\"],[0.5555555555555556,\"#d8576b\"],[0.6666666666666666,\"#ed7953\"],[0.7777777777777778,\"#fb9f3a\"],[0.8888888888888888,\"#fdca26\"],[1.0,\"#f0f921\"]]}],\"heatmapgl\":[{\"type\":\"heatmapgl\",\"colorbar\":{\"outlinewidth\":0,\"ticks\":\"\"},\"colorscale\":[[0.0,\"#0d0887\"],[0.1111111111111111,\"#46039f\"],[0.2222222222222222,\"#7201a8\"],[0.3333333333333333,\"#9c179e\"],[0.4444444444444444,\"#bd3786\"],[0.5555555555555556,\"#d8576b\"],[0.6666666666666666,\"#ed7953\"],[0.7777777777777778,\"#fb9f3a\"],[0.8888888888888888,\"#fdca26\"],[1.0,\"#f0f921\"]]}],\"contourcarpet\":[{\"type\":\"contourcarpet\",\"colorbar\":{\"outlinewidth\":0,\"ticks\":\"\"}}],\"contour\":[{\"type\":\"contour\",\"colorbar\":{\"outlinewidth\":0,\"ticks\":\"\"},\"colorscale\":[[0.0,\"#0d0887\"],[0.1111111111111111,\"#46039f\"],[0.2222222222222222,\"#7201a8\"],[0.3333333333333333,\"#9c179e\"],[0.4444444444444444,\"#bd3786\"],[0.5555555555555556,\"#d8576b\"],[0.6666666666666666,\"#ed7953\"],[0.7777777777777778,\"#fb9f3a\"],[0.8888888888888888,\"#fdca26\"],[1.0,\"#f0f921\"]]}],\"surface\":[{\"type\":\"surface\",\"colorbar\":{\"outlinewidth\":0,\"ticks\":\"\"},\"colorscale\":[[0.0,\"#0d0887\"],[0.1111111111111111,\"#46039f\"],[0.2222222222222222,\"#7201a8\"],[0.3333333333333333,\"#9c179e\"],[0.4444444444444444,\"#bd3786\"],[0.5555555555555556,\"#d8576b\"],[0.6666666666666666,\"#ed7953\"],[0.7777777777777778,\"#fb9f3a\"],[0.8888888888888888,\"#fdca26\"],[1.0,\"#f0f921\"]]}],\"mesh3d\":[{\"type\":\"mesh3d\",\"colorbar\":{\"outlinewidth\":0,\"ticks\":\"\"}}],\"scatter\":[{\"fillpattern\":{\"fillmode\":\"overlay\",\"size\":10,\"solidity\":0.2},\"type\":\"scatter\"}],\"parcoords\":[{\"type\":\"parcoords\",\"line\":{\"colorbar\":{\"outlinewidth\":0,\"ticks\":\"\"}}}],\"scatterpolargl\":[{\"type\":\"scatterpolargl\",\"marker\":{\"colorbar\":{\"outlinewidth\":0,\"ticks\":\"\"}}}],\"bar\":[{\"error_x\":{\"color\":\"#2a3f5f\"},\"error_y\":{\"color\":\"#2a3f5f\"},\"marker\":{\"line\":{\"color\":\"#E5ECF6\",\"width\":0.5},\"pattern\":{\"fillmode\":\"overlay\",\"size\":10,\"solidity\":0.2}},\"type\":\"bar\"}],\"scattergeo\":[{\"type\":\"scattergeo\",\"marker\":{\"colorbar\":{\"outlinewidth\":0,\"ticks\":\"\"}}}],\"scatterpolar\":[{\"type\":\"scatterpolar\",\"marker\":{\"colorbar\":{\"outlinewidth\":0,\"ticks\":\"\"}}}],\"histogram\":[{\"marker\":{\"pattern\":{\"fillmode\":\"overlay\",\"size\":10,\"solidity\":0.2}},\"type\":\"histogram\"}],\"scattergl\":[{\"type\":\"scattergl\",\"marker\":{\"colorbar\":{\"outlinewidth\":0,\"ticks\":\"\"}}}],\"scatter3d\":[{\"type\":\"scatter3d\",\"line\":{\"colorbar\":{\"outlinewidth\":0,\"ticks\":\"\"}},\"marker\":{\"colorbar\":{\"outlinewidth\":0,\"ticks\":\"\"}}}],\"scattermapbox\":[{\"type\":\"scattermapbox\",\"marker\":{\"colorbar\":{\"outlinewidth\":0,\"ticks\":\"\"}}}],\"scatterternary\":[{\"type\":\"scatterternary\",\"marker\":{\"colorbar\":{\"outlinewidth\":0,\"ticks\":\"\"}}}],\"scattercarpet\":[{\"type\":\"scattercarpet\",\"marker\":{\"colorbar\":{\"outlinewidth\":0,\"ticks\":\"\"}}}],\"carpet\":[{\"aaxis\":{\"endlinecolor\":\"#2a3f5f\",\"gridcolor\":\"white\",\"linecolor\":\"white\",\"minorgridcolor\":\"white\",\"startlinecolor\":\"#2a3f5f\"},\"baxis\":{\"endlinecolor\":\"#2a3f5f\",\"gridcolor\":\"white\",\"linecolor\":\"white\",\"minorgridcolor\":\"white\",\"startlinecolor\":\"#2a3f5f\"},\"type\":\"carpet\"}],\"table\":[{\"cells\":{\"fill\":{\"color\":\"#EBF0F8\"},\"line\":{\"color\":\"white\"}},\"header\":{\"fill\":{\"color\":\"#C8D4E3\"},\"line\":{\"color\":\"white\"}},\"type\":\"table\"}],\"barpolar\":[{\"marker\":{\"line\":{\"color\":\"#E5ECF6\",\"width\":0.5},\"pattern\":{\"fillmode\":\"overlay\",\"size\":10,\"solidity\":0.2}},\"type\":\"barpolar\"}],\"pie\":[{\"automargin\":true,\"type\":\"pie\"}]},\"layout\":{\"autotypenumbers\":\"strict\",\"colorway\":[\"#636efa\",\"#EF553B\",\"#00cc96\",\"#ab63fa\",\"#FFA15A\",\"#19d3f3\",\"#FF6692\",\"#B6E880\",\"#FF97FF\",\"#FECB52\"],\"font\":{\"color\":\"#2a3f5f\"},\"hovermode\":\"closest\",\"hoverlabel\":{\"align\":\"left\"},\"paper_bgcolor\":\"white\",\"plot_bgcolor\":\"#E5ECF6\",\"polar\":{\"bgcolor\":\"#E5ECF6\",\"angularaxis\":{\"gridcolor\":\"white\",\"linecolor\":\"white\",\"ticks\":\"\"},\"radialaxis\":{\"gridcolor\":\"white\",\"linecolor\":\"white\",\"ticks\":\"\"}},\"ternary\":{\"bgcolor\":\"#E5ECF6\",\"aaxis\":{\"gridcolor\":\"white\",\"linecolor\":\"white\",\"ticks\":\"\"},\"baxis\":{\"gridcolor\":\"white\",\"linecolor\":\"white\",\"ticks\":\"\"},\"caxis\":{\"gridcolor\":\"white\",\"linecolor\":\"white\",\"ticks\":\"\"}},\"coloraxis\":{\"colorbar\":{\"outlinewidth\":0,\"ticks\":\"\"}},\"colorscale\":{\"sequential\":[[0.0,\"#0d0887\"],[0.1111111111111111,\"#46039f\"],[0.2222222222222222,\"#7201a8\"],[0.3333333333333333,\"#9c179e\"],[0.4444444444444444,\"#bd3786\"],[0.5555555555555556,\"#d8576b\"],[0.6666666666666666,\"#ed7953\"],[0.7777777777777778,\"#fb9f3a\"],[0.8888888888888888,\"#fdca26\"],[1.0,\"#f0f921\"]],\"sequentialminus\":[[0.0,\"#0d0887\"],[0.1111111111111111,\"#46039f\"],[0.2222222222222222,\"#7201a8\"],[0.3333333333333333,\"#9c179e\"],[0.4444444444444444,\"#bd3786\"],[0.5555555555555556,\"#d8576b\"],[0.6666666666666666,\"#ed7953\"],[0.7777777777777778,\"#fb9f3a\"],[0.8888888888888888,\"#fdca26\"],[1.0,\"#f0f921\"]],\"diverging\":[[0,\"#8e0152\"],[0.1,\"#c51b7d\"],[0.2,\"#de77ae\"],[0.3,\"#f1b6da\"],[0.4,\"#fde0ef\"],[0.5,\"#f7f7f7\"],[0.6,\"#e6f5d0\"],[0.7,\"#b8e186\"],[0.8,\"#7fbc41\"],[0.9,\"#4d9221\"],[1,\"#276419\"]]},\"xaxis\":{\"gridcolor\":\"white\",\"linecolor\":\"white\",\"ticks\":\"\",\"title\":{\"standoff\":15},\"zerolinecolor\":\"white\",\"automargin\":true,\"zerolinewidth\":2},\"yaxis\":{\"gridcolor\":\"white\",\"linecolor\":\"white\",\"ticks\":\"\",\"title\":{\"standoff\":15},\"zerolinecolor\":\"white\",\"automargin\":true,\"zerolinewidth\":2},\"scene\":{\"xaxis\":{\"backgroundcolor\":\"#E5ECF6\",\"gridcolor\":\"white\",\"linecolor\":\"white\",\"showbackground\":true,\"ticks\":\"\",\"zerolinecolor\":\"white\",\"gridwidth\":2},\"yaxis\":{\"backgroundcolor\":\"#E5ECF6\",\"gridcolor\":\"white\",\"linecolor\":\"white\",\"showbackground\":true,\"ticks\":\"\",\"zerolinecolor\":\"white\",\"gridwidth\":2},\"zaxis\":{\"backgroundcolor\":\"#E5ECF6\",\"gridcolor\":\"white\",\"linecolor\":\"white\",\"showbackground\":true,\"ticks\":\"\",\"zerolinecolor\":\"white\",\"gridwidth\":2}},\"shapedefaults\":{\"line\":{\"color\":\"#2a3f5f\"}},\"annotationdefaults\":{\"arrowcolor\":\"#2a3f5f\",\"arrowhead\":0,\"arrowwidth\":1},\"geo\":{\"bgcolor\":\"white\",\"landcolor\":\"#E5ECF6\",\"subunitcolor\":\"white\",\"showland\":true,\"showlakes\":true,\"lakecolor\":\"white\"},\"title\":{\"x\":0.05},\"mapbox\":{\"style\":\"light\"}}},\"xaxis\":{\"anchor\":\"y\",\"domain\":[0.0,0.082],\"title\":{\"text\":\"asymmetric_alpha\"}},\"yaxis\":{\"anchor\":\"x\",\"domain\":[0.0,1.0],\"title\":{\"text\":\"Objective Value\"}},\"xaxis2\":{\"anchor\":\"y2\",\"domain\":[0.10200000000000001,0.184],\"title\":{\"text\":\"feature_weighting\"},\"type\":\"category\",\"categoryorder\":\"array\",\"categoryarray\":[\"BM25\",\"TF-IDF\",\"none\"]},\"yaxis2\":{\"anchor\":\"x2\",\"domain\":[0.0,1.0],\"matches\":\"y\",\"showticklabels\":false},\"xaxis3\":{\"anchor\":\"y3\",\"domain\":[0.20400000000000001,0.28600000000000003],\"title\":{\"text\":\"normalize\"},\"type\":\"category\",\"categoryorder\":\"array\",\"categoryarray\":[true,false]},\"yaxis3\":{\"anchor\":\"x3\",\"domain\":[0.0,1.0],\"matches\":\"y\",\"showticklabels\":false},\"xaxis4\":{\"anchor\":\"y4\",\"domain\":[0.306,0.388],\"title\":{\"text\":\"normalize_avg_row\"},\"type\":\"category\",\"categoryorder\":\"array\",\"categoryarray\":[true,false]},\"yaxis4\":{\"anchor\":\"x4\",\"domain\":[0.0,1.0],\"matches\":\"y\",\"showticklabels\":false},\"xaxis5\":{\"anchor\":\"y5\",\"domain\":[0.40800000000000003,0.49000000000000005],\"title\":{\"text\":\"shrink\"}},\"yaxis5\":{\"anchor\":\"x5\",\"domain\":[0.0,1.0],\"matches\":\"y\",\"showticklabels\":false},\"xaxis6\":{\"anchor\":\"y6\",\"domain\":[0.51,0.592],\"title\":{\"text\":\"similarity\"},\"type\":\"category\",\"categoryorder\":\"array\",\"categoryarray\":[\"cosine\",\"asymmetric\",\"dice\",\"jaccard\",\"tanimoto\",\"tversky\",\"euclidean\"]},\"yaxis6\":{\"anchor\":\"x6\",\"domain\":[0.0,1.0],\"matches\":\"y\",\"showticklabels\":false},\"xaxis7\":{\"anchor\":\"y7\",\"domain\":[0.6120000000000001,0.6940000000000001],\"title\":{\"text\":\"similarity_from_distance_mode\"},\"type\":\"category\",\"categoryorder\":\"array\",\"categoryarray\":[\"lin\",\"log\",\"exp\"]},\"yaxis7\":{\"anchor\":\"x7\",\"domain\":[0.0,1.0],\"matches\":\"y\",\"showticklabels\":false},\"xaxis8\":{\"anchor\":\"y8\",\"domain\":[0.7140000000000001,0.796],\"title\":{\"text\":\"topK\"}},\"yaxis8\":{\"anchor\":\"x8\",\"domain\":[0.0,1.0],\"matches\":\"y\",\"showticklabels\":false},\"xaxis9\":{\"anchor\":\"y9\",\"domain\":[0.8160000000000001,0.898],\"title\":{\"text\":\"tversky_alpha\"}},\"yaxis9\":{\"anchor\":\"x9\",\"domain\":[0.0,1.0],\"matches\":\"y\",\"showticklabels\":false},\"xaxis10\":{\"anchor\":\"y10\",\"domain\":[0.9179999999999999,0.9999999999999999],\"title\":{\"text\":\"tversky_beta\"}},\"yaxis10\":{\"anchor\":\"x10\",\"domain\":[0.0,1.0],\"matches\":\"y\",\"showticklabels\":false},\"title\":{\"text\":\"Slice Plot\"},\"width\":3000},                        {\"responsive\": true}                    ).then(function(){\n",
       "                            \n",
       "var gd = document.getElementById('7a2eb6e0-7638-4dce-87e3-0ab341cb01d4');\n",
       "var x = new MutationObserver(function (mutations, observer) {{\n",
       "        var display = window.getComputedStyle(gd).display;\n",
       "        if (!display || display === 'none') {{\n",
       "            console.log([gd, 'removed!']);\n",
       "            Plotly.purge(gd);\n",
       "            observer.disconnect();\n",
       "        }}\n",
       "}});\n",
       "\n",
       "// Listen for the removal of the full notebook cells\n",
       "var notebookContainer = gd.closest('#notebook-container');\n",
       "if (notebookContainer) {{\n",
       "    x.observe(notebookContainer, {childList: true});\n",
       "}}\n",
       "\n",
       "// Listen for the clearing of the current output cell\n",
       "var outputEl = gd.closest('.output');\n",
       "if (outputEl) {{\n",
       "    x.observe(outputEl, {childList: true});\n",
       "}}\n",
       "\n",
       "                        })                };                });            </script>        </div>"
      ]
     },
     "metadata": {},
     "output_type": "display_data"
    }
   ],
   "source": [
    "if config['tune_parameters_item_knn']:\n",
    "    fig = optuna.visualization.plot_slice(study)\n",
    "    fig.show()"
   ]
  },
  {
   "cell_type": "code",
   "execution_count": 21,
   "id": "333c2fdf",
   "metadata": {
    "execution": {
     "iopub.execute_input": "2023-12-09T12:13:09.508747Z",
     "iopub.status.busy": "2023-12-09T12:13:09.508008Z",
     "iopub.status.idle": "2023-12-09T12:13:10.239566Z",
     "shell.execute_reply": "2023-12-09T12:13:10.238319Z"
    },
    "papermill": {
     "duration": 0.877015,
     "end_time": "2023-12-09T12:13:10.242245",
     "exception": false,
     "start_time": "2023-12-09T12:13:09.365230",
     "status": "completed"
    },
    "tags": []
   },
   "outputs": [],
   "source": [
    "if config['tune_parameters_item_knn']:\n",
    "    with open('/kaggle/working/best_params_knn_item_no_cv.json', 'w') as params_file:\n",
    "        json.dump(study.best_params, params_file)\n",
    "        \n",
    "    if config['save_github']: \n",
    "        upload_file(\n",
    "            '/kaggle/working/best_params_knn_item_no_cv.json', \n",
    "            'tuning_results/best_params_knn_item_no_cv.json', \n",
    "            'Item KNN tuning results without cross validation (from kaggle notebook)'\n",
    "        )\n",
    "    \n",
    "elif config['copy_prev_best_params']:\n",
    "    shutil.copyfile(\n",
    "        '/kaggle/working/Recsys_Challenge_2023/tuning_results/best_params_knn_item_no_cv.json', \n",
    "        '/kaggle/working/best_params_knn_item_no_cv.json'\n",
    "    )"
   ]
  },
  {
   "cell_type": "markdown",
   "id": "99903d94",
   "metadata": {
    "papermill": {
     "duration": 0.141785,
     "end_time": "2023-12-09T12:13:10.524356",
     "exception": false,
     "start_time": "2023-12-09T12:13:10.382571",
     "status": "completed"
    },
    "tags": []
   },
   "source": [
    "## User KNN Collaborative Filtering"
   ]
  },
  {
   "cell_type": "code",
   "execution_count": 22,
   "id": "b165af29",
   "metadata": {
    "execution": {
     "iopub.execute_input": "2023-12-09T12:13:10.808398Z",
     "iopub.status.busy": "2023-12-09T12:13:10.807648Z",
     "iopub.status.idle": "2023-12-09T12:13:10.818656Z",
     "shell.execute_reply": "2023-12-09T12:13:10.817660Z"
    },
    "papermill": {
     "duration": 0.155912,
     "end_time": "2023-12-09T12:13:10.821473",
     "exception": false,
     "start_time": "2023-12-09T12:13:10.665561",
     "status": "completed"
    },
    "tags": []
   },
   "outputs": [],
   "source": [
    "def objective_user_knn(trial):\n",
    "    params = {\n",
    "        'topK': trial.suggest_int('topK', 10, 1000),\n",
    "        'shrink': trial.suggest_int('shrink', 0, 500),\n",
    "        'similarity': trial.suggest_categorical('similarity', [\"cosine\", \"asymmetric\", \"dice\", \"jaccard\", \"tanimoto\", \"tversky\", \"euclidean\"]),\n",
    "        'feature_weighting': trial.suggest_categorical('feature_weighting', [\"BM25\", \"TF-IDF\", \"none\"])\n",
    "    }\n",
    "    \n",
    "    if params['similarity'] == \"asymmetric\":\n",
    "        params[\"asymmetric_alpha\"] = trial.suggest_float(\"asymmetric_alpha\", 0, 2, log=False)\n",
    "        params[\"normalize\"] = True     \n",
    "\n",
    "    elif params['similarity'] == \"tversky\":\n",
    "        params[\"tversky_alpha\"] = trial.suggest_float(\"tversky_alpha\", 0, 2, log=False)\n",
    "        params[\"tversky_beta\"] = trial.suggest_float(\"tversky_beta\", 0, 2, log=False)\n",
    "        params[\"normalize\"] = True \n",
    "\n",
    "    elif params['similarity'] == \"euclidean\":\n",
    "        params[\"normalize_avg_row\"] = trial.suggest_categorical(\"normalize_avg_row\", [True, False])\n",
    "        params[\"similarity_from_distance_mode\"] = trial.suggest_categorical(\"similarity_from_distance_mode\", [\"lin\", \"log\", \"exp\"])\n",
    "        params[\"normalize\"] = trial.suggest_categorical(\"normalize\", [True, False])\n",
    "    \n",
    "    recommender = UserKNNCFRecommender(URM_train)\n",
    "    recommender.fit(**params)\n",
    "        \n",
    "    result_df, _ = evaluator.evaluateRecommender(recommender)\n",
    "    \n",
    "    return result_df.loc[10, 'MAP']"
   ]
  },
  {
   "cell_type": "code",
   "execution_count": 23,
   "id": "bbd1c027",
   "metadata": {
    "_kg_hide-output": true,
    "execution": {
     "iopub.execute_input": "2023-12-09T12:13:11.104907Z",
     "iopub.status.busy": "2023-12-09T12:13:11.104115Z",
     "iopub.status.idle": "2023-12-09T12:38:59.602677Z",
     "shell.execute_reply": "2023-12-09T12:38:59.601182Z"
    },
    "papermill": {
     "duration": 1548.642465,
     "end_time": "2023-12-09T12:38:59.605717",
     "exception": false,
     "start_time": "2023-12-09T12:13:10.963252",
     "status": "completed"
    },
    "scrolled": true,
    "tags": []
   },
   "outputs": [
    {
     "name": "stderr",
     "output_type": "stream",
     "text": [
      "[I 2023-12-09 12:13:11,178] A new study created in RDB with name: hyperparameters_tuning_knn_user_no_cv\n"
     ]
    },
    {
     "name": "stdout",
     "output_type": "stream",
     "text": [
      "UserKNNCFRecommender: URM Detected 627 ( 4.8%) users with no interactions.\n",
      "UserKNNCFRecommender: URM Detected 247 ( 1.1%) items with no interactions.\n",
      "Similarity column 13024 (100.0%), 5269.99 column/sec. Elapsed time 2.47 sec\n",
      "EvaluatorHoldout: Processed 10456 (100.0%) in 10.39 sec. Users per second: 1007\n"
     ]
    },
    {
     "name": "stderr",
     "output_type": "stream",
     "text": [
      "[I 2023-12-09 12:13:24,453] Trial 0 finished with value: 0.030309619448391733 and parameters: {'topK': 88, 'shrink': 50, 'similarity': 'jaccard', 'feature_weighting': 'TF-IDF'}. Best is trial 0 with value: 0.030309619448391733.\n"
     ]
    },
    {
     "name": "stdout",
     "output_type": "stream",
     "text": [
      "UserKNNCFRecommender: URM Detected 627 ( 4.8%) users with no interactions.\n",
      "UserKNNCFRecommender: URM Detected 247 ( 1.1%) items with no interactions.\n",
      "Similarity column 13024 (100.0%), 4725.96 column/sec. Elapsed time 2.76 sec\n",
      "EvaluatorHoldout: Processed 10456 (100.0%) in 10.73 sec. Users per second: 975\n"
     ]
    },
    {
     "name": "stderr",
     "output_type": "stream",
     "text": [
      "[I 2023-12-09 12:13:38,187] Trial 1 finished with value: 0.029586665512928156 and parameters: {'topK': 184, 'shrink': 132, 'similarity': 'cosine', 'feature_weighting': 'none'}. Best is trial 0 with value: 0.030309619448391733.\n"
     ]
    },
    {
     "name": "stdout",
     "output_type": "stream",
     "text": [
      "UserKNNCFRecommender: URM Detected 627 ( 4.8%) users with no interactions.\n",
      "UserKNNCFRecommender: URM Detected 247 ( 1.1%) items with no interactions.\n",
      "Similarity column 13024 (100.0%), 4622.64 column/sec. Elapsed time 2.82 sec\n",
      "EvaluatorHoldout: Processed 10456 (100.0%) in 11.17 sec. Users per second: 936\n"
     ]
    },
    {
     "name": "stderr",
     "output_type": "stream",
     "text": [
      "[I 2023-12-09 12:13:52,471] Trial 2 finished with value: 0.030650909783704598 and parameters: {'topK': 262, 'shrink': 307, 'similarity': 'cosine', 'feature_weighting': 'none'}. Best is trial 2 with value: 0.030650909783704598.\n"
     ]
    },
    {
     "name": "stdout",
     "output_type": "stream",
     "text": [
      "UserKNNCFRecommender: URM Detected 627 ( 4.8%) users with no interactions.\n",
      "UserKNNCFRecommender: URM Detected 247 ( 1.1%) items with no interactions.\n",
      "Similarity column 13024 (100.0%), 4829.90 column/sec. Elapsed time 2.70 sec\n",
      "EvaluatorHoldout: Processed 10456 (100.0%) in 8.75 sec. Users per second: 1195\n"
     ]
    },
    {
     "name": "stderr",
     "output_type": "stream",
     "text": [
      "[I 2023-12-09 12:14:04,163] Trial 3 finished with value: 0.013049779271565748 and parameters: {'topK': 27, 'shrink': 357, 'similarity': 'asymmetric', 'feature_weighting': 'TF-IDF', 'asymmetric_alpha': 1.6858104385814947}. Best is trial 2 with value: 0.030650909783704598.\n"
     ]
    },
    {
     "name": "stdout",
     "output_type": "stream",
     "text": [
      "UserKNNCFRecommender: URM Detected 627 ( 4.8%) users with no interactions.\n",
      "UserKNNCFRecommender: URM Detected 247 ( 1.1%) items with no interactions.\n",
      "Similarity column 13024 (100.0%), 4732.22 column/sec. Elapsed time 2.75 sec\n",
      "EvaluatorHoldout: Processed 10456 (100.0%) in 11.66 sec. Users per second: 897\n"
     ]
    },
    {
     "name": "stderr",
     "output_type": "stream",
     "text": [
      "[I 2023-12-09 12:14:19,034] Trial 4 finished with value: 0.03183519601413657 and parameters: {'topK': 300, 'shrink': 370, 'similarity': 'tversky', 'feature_weighting': 'TF-IDF', 'tversky_alpha': 0.7819840347995346, 'tversky_beta': 1.5849498523711496}. Best is trial 4 with value: 0.03183519601413657.\n"
     ]
    },
    {
     "name": "stdout",
     "output_type": "stream",
     "text": [
      "UserKNNCFRecommender: URM Detected 627 ( 4.8%) users with no interactions.\n",
      "UserKNNCFRecommender: URM Detected 247 ( 1.1%) items with no interactions.\n",
      "Similarity column 13024 (100.0%), 4624.71 column/sec. Elapsed time 2.82 sec\n",
      "EvaluatorHoldout: Processed 10456 (100.0%) in 13.09 sec. Users per second: 799\n"
     ]
    },
    {
     "name": "stderr",
     "output_type": "stream",
     "text": [
      "[I 2023-12-09 12:14:35,503] Trial 5 finished with value: 0.02371091710083679 and parameters: {'topK': 573, 'shrink': 88, 'similarity': 'tversky', 'feature_weighting': 'BM25', 'tversky_alpha': 0.34225932262734626, 'tversky_beta': 0.5754562098669098}. Best is trial 4 with value: 0.03183519601413657.\n"
     ]
    },
    {
     "name": "stdout",
     "output_type": "stream",
     "text": [
      "UserKNNCFRecommender: URM Detected 627 ( 4.8%) users with no interactions.\n",
      "UserKNNCFRecommender: URM Detected 247 ( 1.1%) items with no interactions.\n",
      "Similarity column 13024 (100.0%), 4737.36 column/sec. Elapsed time 2.75 sec\n",
      "EvaluatorHoldout: Processed 10456 (100.0%) in 9.03 sec. Users per second: 1158\n"
     ]
    },
    {
     "name": "stderr",
     "output_type": "stream",
     "text": [
      "[I 2023-12-09 12:14:47,481] Trial 6 finished with value: 0.02013872569558299 and parameters: {'topK': 36, 'shrink': 195, 'similarity': 'cosine', 'feature_weighting': 'none'}. Best is trial 4 with value: 0.03183519601413657.\n"
     ]
    },
    {
     "name": "stdout",
     "output_type": "stream",
     "text": [
      "UserKNNCFRecommender: URM Detected 627 ( 4.8%) users with no interactions.\n",
      "UserKNNCFRecommender: URM Detected 247 ( 1.1%) items with no interactions.\n",
      "Similarity column 13024 (100.0%), 5000.70 column/sec. Elapsed time 2.60 sec\n",
      "EvaluatorHoldout: Processed 10456 (100.0%) in 11.98 sec. Users per second: 873\n"
     ]
    },
    {
     "name": "stderr",
     "output_type": "stream",
     "text": [
      "[I 2023-12-09 12:15:02,492] Trial 7 finished with value: 0.031454841755626274 and parameters: {'topK': 402, 'shrink': 357, 'similarity': 'jaccard', 'feature_weighting': 'none'}. Best is trial 4 with value: 0.03183519601413657.\n"
     ]
    },
    {
     "name": "stdout",
     "output_type": "stream",
     "text": [
      "UserKNNCFRecommender: URM Detected 627 ( 4.8%) users with no interactions.\n",
      "UserKNNCFRecommender: URM Detected 247 ( 1.1%) items with no interactions.\n",
      "Similarity column 13024 (100.0%), 4908.95 column/sec. Elapsed time 2.65 sec\n",
      "EvaluatorHoldout: Processed 10456 (100.0%) in 13.39 sec. Users per second: 781\n"
     ]
    },
    {
     "name": "stderr",
     "output_type": "stream",
     "text": [
      "[I 2023-12-09 12:15:19,057] Trial 8 finished with value: 0.025340322561057067 and parameters: {'topK': 658, 'shrink': 121, 'similarity': 'dice', 'feature_weighting': 'BM25'}. Best is trial 4 with value: 0.03183519601413657.\n"
     ]
    },
    {
     "name": "stdout",
     "output_type": "stream",
     "text": [
      "UserKNNCFRecommender: URM Detected 627 ( 4.8%) users with no interactions.\n",
      "UserKNNCFRecommender: URM Detected 247 ( 1.1%) items with no interactions.\n",
      "Similarity column 13024 (100.0%), 4924.56 column/sec. Elapsed time 2.64 sec\n",
      "EvaluatorHoldout: Processed 10456 (100.0%) in 10.51 sec. Users per second: 995\n"
     ]
    },
    {
     "name": "stderr",
     "output_type": "stream",
     "text": [
      "[I 2023-12-09 12:15:32,594] Trial 9 finished with value: 0.03075911833108674 and parameters: {'topK': 142, 'shrink': 51, 'similarity': 'tversky', 'feature_weighting': 'TF-IDF', 'tversky_alpha': 0.9377929862497765, 'tversky_beta': 0.564942164830637}. Best is trial 4 with value: 0.03183519601413657.\n"
     ]
    },
    {
     "name": "stdout",
     "output_type": "stream",
     "text": [
      "UserKNNCFRecommender: URM Detected 627 ( 4.8%) users with no interactions.\n",
      "UserKNNCFRecommender: URM Detected 247 ( 1.1%) items with no interactions.\n",
      "Similarity column 13024 (100.0%), 4755.20 column/sec. Elapsed time 2.74 sec\n",
      "EvaluatorHoldout: Processed 10456 (100.0%) in 14.64 sec. Users per second: 714\n"
     ]
    },
    {
     "name": "stderr",
     "output_type": "stream",
     "text": [
      "[I 2023-12-09 12:15:50,591] Trial 10 finished with value: 0.02980186435068826 and parameters: {'topK': 954, 'shrink': 481, 'similarity': 'tanimoto', 'feature_weighting': 'TF-IDF'}. Best is trial 4 with value: 0.03183519601413657.\n"
     ]
    },
    {
     "name": "stdout",
     "output_type": "stream",
     "text": [
      "UserKNNCFRecommender: URM Detected 627 ( 4.8%) users with no interactions.\n",
      "UserKNNCFRecommender: URM Detected 247 ( 1.1%) items with no interactions.\n",
      "Similarity column 13024 (100.0%), 4990.85 column/sec. Elapsed time 2.61 sec\n",
      "EvaluatorHoldout: Processed 10456 (100.0%) in 11.96 sec. Users per second: 874\n"
     ]
    },
    {
     "name": "stderr",
     "output_type": "stream",
     "text": [
      "[I 2023-12-09 12:16:05,595] Trial 11 finished with value: 0.03149101374163567 and parameters: {'topK': 376, 'shrink': 413, 'similarity': 'jaccard', 'feature_weighting': 'none'}. Best is trial 4 with value: 0.03183519601413657.\n"
     ]
    },
    {
     "name": "stdout",
     "output_type": "stream",
     "text": [
      "UserKNNCFRecommender: URM Detected 627 ( 4.8%) users with no interactions.\n",
      "UserKNNCFRecommender: URM Detected 247 ( 1.1%) items with no interactions.\n",
      "Similarity column 13024 (100.0%), 560.97 column/sec. Elapsed time 23.22 sec\n",
      "EvaluatorHoldout: Processed 10456 (100.0%) in 12.48 sec. Users per second: 838\n"
     ]
    },
    {
     "name": "stderr",
     "output_type": "stream",
     "text": [
      "[I 2023-12-09 12:16:41,661] Trial 12 finished with value: 0.026009468247896097 and parameters: {'topK': 397, 'shrink': 488, 'similarity': 'euclidean', 'feature_weighting': 'none', 'normalize_avg_row': False, 'similarity_from_distance_mode': 'log', 'normalize': True}. Best is trial 4 with value: 0.03183519601413657.\n"
     ]
    },
    {
     "name": "stdout",
     "output_type": "stream",
     "text": [
      "UserKNNCFRecommender: URM Detected 627 ( 4.8%) users with no interactions.\n",
      "UserKNNCFRecommender: URM Detected 247 ( 1.1%) items with no interactions.\n",
      "Similarity column 13024 (100.0%), 4730.96 column/sec. Elapsed time 2.75 sec\n",
      "EvaluatorHoldout: Processed 10456 (100.0%) in 11.95 sec. Users per second: 875\n"
     ]
    },
    {
     "name": "stderr",
     "output_type": "stream",
     "text": [
      "[I 2023-12-09 12:16:56,850] Trial 13 finished with value: 0.031855591382179235 and parameters: {'topK': 344, 'shrink': 415, 'similarity': 'tversky', 'feature_weighting': 'TF-IDF', 'tversky_alpha': 1.9592659688766905, 'tversky_beta': 1.8876744214018004}. Best is trial 13 with value: 0.031855591382179235.\n"
     ]
    },
    {
     "name": "stdout",
     "output_type": "stream",
     "text": [
      "UserKNNCFRecommender: URM Detected 627 ( 4.8%) users with no interactions.\n",
      "UserKNNCFRecommender: URM Detected 247 ( 1.1%) items with no interactions.\n",
      "Similarity column 13024 (100.0%), 4530.60 column/sec. Elapsed time 2.87 sec\n",
      "EvaluatorHoldout: Processed 10456 (100.0%) in 13.86 sec. Users per second: 755\n"
     ]
    },
    {
     "name": "stderr",
     "output_type": "stream",
     "text": [
      "[I 2023-12-09 12:17:14,205] Trial 14 finished with value: 0.0311141776271848 and parameters: {'topK': 695, 'shrink': 254, 'similarity': 'tversky', 'feature_weighting': 'TF-IDF', 'tversky_alpha': 1.885715355022019, 'tversky_beta': 1.9047912085639336}. Best is trial 13 with value: 0.031855591382179235.\n"
     ]
    },
    {
     "name": "stdout",
     "output_type": "stream",
     "text": [
      "UserKNNCFRecommender: URM Detected 627 ( 4.8%) users with no interactions.\n",
      "UserKNNCFRecommender: URM Detected 247 ( 1.1%) items with no interactions.\n",
      "Similarity column 13024 (100.0%), 4736.87 column/sec. Elapsed time 2.75 sec\n",
      "EvaluatorHoldout: Processed 10456 (100.0%) in 11.81 sec. Users per second: 886\n"
     ]
    },
    {
     "name": "stderr",
     "output_type": "stream",
     "text": [
      "[I 2023-12-09 12:17:29,260] Trial 15 finished with value: 0.031821753439963345 and parameters: {'topK': 294, 'shrink': 371, 'similarity': 'tversky', 'feature_weighting': 'TF-IDF', 'tversky_alpha': 1.9037496089348156, 'tversky_beta': 1.7828438601716294}. Best is trial 13 with value: 0.031855591382179235.\n"
     ]
    },
    {
     "name": "stdout",
     "output_type": "stream",
     "text": [
      "UserKNNCFRecommender: URM Detected 627 ( 4.8%) users with no interactions.\n",
      "UserKNNCFRecommender: URM Detected 247 ( 1.1%) items with no interactions.\n",
      "Similarity column 13024 (100.0%), 4635.80 column/sec. Elapsed time 2.81 sec\n",
      "EvaluatorHoldout: Processed 10456 (100.0%) in 12.87 sec. Users per second: 813\n"
     ]
    },
    {
     "name": "stderr",
     "output_type": "stream",
     "text": [
      "[I 2023-12-09 12:17:45,505] Trial 16 finished with value: 0.03166119779332326 and parameters: {'topK': 525, 'shrink': 410, 'similarity': 'tversky', 'feature_weighting': 'TF-IDF', 'tversky_alpha': 1.085277598331024, 'tversky_beta': 1.429815840335829}. Best is trial 13 with value: 0.031855591382179235.\n"
     ]
    },
    {
     "name": "stdout",
     "output_type": "stream",
     "text": [
      "UserKNNCFRecommender: URM Detected 627 ( 4.8%) users with no interactions.\n",
      "UserKNNCFRecommender: URM Detected 247 ( 1.1%) items with no interactions.\n",
      "Similarity column 13024 (100.0%), 4720.78 column/sec. Elapsed time 2.76 sec\n",
      "EvaluatorHoldout: Processed 10456 (100.0%) in 14.26 sec. Users per second: 733\n"
     ]
    },
    {
     "name": "stderr",
     "output_type": "stream",
     "text": [
      "[I 2023-12-09 12:18:03,133] Trial 17 finished with value: 0.030394218099124664 and parameters: {'topK': 828, 'shrink': 278, 'similarity': 'tanimoto', 'feature_weighting': 'TF-IDF'}. Best is trial 13 with value: 0.031855591382179235.\n"
     ]
    },
    {
     "name": "stdout",
     "output_type": "stream",
     "text": [
      "UserKNNCFRecommender: URM Detected 627 ( 4.8%) users with no interactions.\n",
      "UserKNNCFRecommender: URM Detected 247 ( 1.1%) items with no interactions.\n",
      "Similarity column 13024 (100.0%), 4699.31 column/sec. Elapsed time 2.77 sec\n",
      "EvaluatorHoldout: Processed 10456 (100.0%) in 11.90 sec. Users per second: 879\n"
     ]
    },
    {
     "name": "stderr",
     "output_type": "stream",
     "text": [
      "[I 2023-12-09 12:18:18,177] Trial 18 finished with value: 0.020152805862207142 and parameters: {'topK': 253, 'shrink': 432, 'similarity': 'asymmetric', 'feature_weighting': 'BM25', 'asymmetric_alpha': 0.021011901836283986}. Best is trial 13 with value: 0.031855591382179235.\n"
     ]
    },
    {
     "name": "stdout",
     "output_type": "stream",
     "text": [
      "UserKNNCFRecommender: URM Detected 627 ( 4.8%) users with no interactions.\n",
      "UserKNNCFRecommender: URM Detected 247 ( 1.1%) items with no interactions.\n",
      "Similarity column 13024 (100.0%), 553.49 column/sec. Elapsed time 23.53 sec\n",
      "EvaluatorHoldout: Processed 10456 (100.0%) in 8.44 sec. Users per second: 1239\n"
     ]
    },
    {
     "name": "stderr",
     "output_type": "stream",
     "text": [
      "[I 2023-12-09 12:18:50,581] Trial 19 finished with value: 0.0010789468490788304 and parameters: {'topK': 462, 'shrink': 206, 'similarity': 'euclidean', 'feature_weighting': 'TF-IDF', 'normalize_avg_row': True, 'similarity_from_distance_mode': 'lin', 'normalize': False}. Best is trial 13 with value: 0.031855591382179235.\n"
     ]
    },
    {
     "name": "stdout",
     "output_type": "stream",
     "text": [
      "UserKNNCFRecommender: URM Detected 627 ( 4.8%) users with no interactions.\n",
      "UserKNNCFRecommender: URM Detected 247 ( 1.1%) items with no interactions.\n",
      "Similarity column 13024 (100.0%), 5165.78 column/sec. Elapsed time 2.52 sec\n",
      "EvaluatorHoldout: Processed 10456 (100.0%) in 11.55 sec. Users per second: 906\n"
     ]
    },
    {
     "name": "stderr",
     "output_type": "stream",
     "text": [
      "[I 2023-12-09 12:19:05,098] Trial 20 finished with value: 0.03176794898653198 and parameters: {'topK': 316, 'shrink': 308, 'similarity': 'dice', 'feature_weighting': 'TF-IDF'}. Best is trial 13 with value: 0.031855591382179235.\n"
     ]
    },
    {
     "name": "stdout",
     "output_type": "stream",
     "text": [
      "UserKNNCFRecommender: URM Detected 627 ( 4.8%) users with no interactions.\n",
      "UserKNNCFRecommender: URM Detected 247 ( 1.1%) items with no interactions.\n",
      "Similarity column 13024 (100.0%), 4756.13 column/sec. Elapsed time 2.74 sec\n",
      "EvaluatorHoldout: Processed 10456 (100.0%) in 11.48 sec. Users per second: 911\n"
     ]
    },
    {
     "name": "stderr",
     "output_type": "stream",
     "text": [
      "[I 2023-12-09 12:19:19,810] Trial 21 finished with value: 0.031912003133311655 and parameters: {'topK': 281, 'shrink': 338, 'similarity': 'tversky', 'feature_weighting': 'TF-IDF', 'tversky_alpha': 1.9299096847043689, 'tversky_beta': 1.9389071190632747}. Best is trial 21 with value: 0.031912003133311655.\n"
     ]
    },
    {
     "name": "stdout",
     "output_type": "stream",
     "text": [
      "UserKNNCFRecommender: URM Detected 627 ( 4.8%) users with no interactions.\n",
      "UserKNNCFRecommender: URM Detected 247 ( 1.1%) items with no interactions.\n",
      "Similarity column 13024 (100.0%), 4814.17 column/sec. Elapsed time 2.71 sec\n",
      "EvaluatorHoldout: Processed 10456 (100.0%) in 10.92 sec. Users per second: 958\n"
     ]
    },
    {
     "name": "stderr",
     "output_type": "stream",
     "text": [
      "[I 2023-12-09 12:19:33,914] Trial 22 finished with value: 0.031275275986446846 and parameters: {'topK': 203, 'shrink': 327, 'similarity': 'tversky', 'feature_weighting': 'TF-IDF', 'tversky_alpha': 1.9870605770402896, 'tversky_beta': 1.99909780854672}. Best is trial 21 with value: 0.031912003133311655.\n"
     ]
    },
    {
     "name": "stdout",
     "output_type": "stream",
     "text": [
      "UserKNNCFRecommender: URM Detected 627 ( 4.8%) users with no interactions.\n",
      "UserKNNCFRecommender: URM Detected 247 ( 1.1%) items with no interactions.\n",
      "Similarity column 13024 (100.0%), 4686.89 column/sec. Elapsed time 2.78 sec\n",
      "EvaluatorHoldout: Processed 10456 (100.0%) in 12.45 sec. Users per second: 840\n"
     ]
    },
    {
     "name": "stderr",
     "output_type": "stream",
     "text": [
      "[I 2023-12-09 12:19:49,682] Trial 23 finished with value: 0.031682185211498785 and parameters: {'topK': 459, 'shrink': 440, 'similarity': 'tversky', 'feature_weighting': 'TF-IDF', 'tversky_alpha': 1.415367881857124, 'tversky_beta': 1.4353167039881247}. Best is trial 21 with value: 0.031912003133311655.\n"
     ]
    },
    {
     "name": "stdout",
     "output_type": "stream",
     "text": [
      "UserKNNCFRecommender: URM Detected 627 ( 4.8%) users with no interactions.\n",
      "UserKNNCFRecommender: URM Detected 247 ( 1.1%) items with no interactions.\n",
      "Similarity column 13024 (100.0%), 4746.71 column/sec. Elapsed time 2.74 sec\n",
      "EvaluatorHoldout: Processed 10456 (100.0%) in 11.75 sec. Users per second: 890\n"
     ]
    },
    {
     "name": "stderr",
     "output_type": "stream",
     "text": [
      "[I 2023-12-09 12:20:04,684] Trial 24 finished with value: 0.031745306864138484 and parameters: {'topK': 336, 'shrink': 387, 'similarity': 'tversky', 'feature_weighting': 'TF-IDF', 'tversky_alpha': 1.480018212221698, 'tversky_beta': 1.5761003637709834}. Best is trial 21 with value: 0.031912003133311655.\n"
     ]
    },
    {
     "name": "stdout",
     "output_type": "stream",
     "text": [
      "UserKNNCFRecommender: URM Detected 627 ( 4.8%) users with no interactions.\n",
      "UserKNNCFRecommender: URM Detected 247 ( 1.1%) items with no interactions.\n",
      "Similarity column 13024 (100.0%), 4585.27 column/sec. Elapsed time 2.84 sec\n",
      "EvaluatorHoldout: Processed 10456 (100.0%) in 12.94 sec. Users per second: 808\n"
     ]
    },
    {
     "name": "stderr",
     "output_type": "stream",
     "text": [
      "[I 2023-12-09 12:20:21,045] Trial 25 finished with value: 0.02284282738854276 and parameters: {'topK': 591, 'shrink': 448, 'similarity': 'tversky', 'feature_weighting': 'BM25', 'tversky_alpha': 0.667235984611667, 'tversky_beta': 1.1810340292756996}. Best is trial 21 with value: 0.031912003133311655.\n"
     ]
    },
    {
     "name": "stdout",
     "output_type": "stream",
     "text": [
      "UserKNNCFRecommender: URM Detected 627 ( 4.8%) users with no interactions.\n",
      "UserKNNCFRecommender: URM Detected 247 ( 1.1%) items with no interactions.\n",
      "Similarity column 13024 (100.0%), 4915.57 column/sec. Elapsed time 2.65 sec\n",
      "EvaluatorHoldout: Processed 10456 (100.0%) in 10.44 sec. Users per second: 1002\n"
     ]
    },
    {
     "name": "stderr",
     "output_type": "stream",
     "text": [
      "[I 2023-12-09 12:20:34,550] Trial 26 finished with value: 0.030789100357051975 and parameters: {'topK': 138, 'shrink': 215, 'similarity': 'tversky', 'feature_weighting': 'TF-IDF', 'tversky_alpha': 1.5873702523810629, 'tversky_beta': 1.9617327922425323}. Best is trial 21 with value: 0.031912003133311655.\n"
     ]
    },
    {
     "name": "stdout",
     "output_type": "stream",
     "text": [
      "UserKNNCFRecommender: URM Detected 627 ( 4.8%) users with no interactions.\n",
      "UserKNNCFRecommender: URM Detected 247 ( 1.1%) items with no interactions.\n",
      "Similarity column 13024 (100.0%), 4868.52 column/sec. Elapsed time 2.68 sec\n",
      "EvaluatorHoldout: Processed 10456 (100.0%) in 11.16 sec. Users per second: 937\n"
     ]
    },
    {
     "name": "stderr",
     "output_type": "stream",
     "text": [
      "[I 2023-12-09 12:20:48,830] Trial 27 finished with value: 0.03128072208863162 and parameters: {'topK': 225, 'shrink': 333, 'similarity': 'tversky', 'feature_weighting': 'TF-IDF', 'tversky_alpha': 0.03198582018512286, 'tversky_beta': 1.6945487628646159}. Best is trial 21 with value: 0.031912003133311655.\n"
     ]
    },
    {
     "name": "stdout",
     "output_type": "stream",
     "text": [
      "UserKNNCFRecommender: URM Detected 627 ( 4.8%) users with no interactions.\n",
      "UserKNNCFRecommender: URM Detected 247 ( 1.1%) items with no interactions.\n",
      "Similarity column 13024 (100.0%), 4596.08 column/sec. Elapsed time 2.83 sec\n",
      "EvaluatorHoldout: Processed 10456 (100.0%) in 11.24 sec. Users per second: 930\n"
     ]
    },
    {
     "name": "stderr",
     "output_type": "stream",
     "text": [
      "[I 2023-12-09 12:21:03,313] Trial 28 finished with value: 0.025772777231270094 and parameters: {'topK': 437, 'shrink': 275, 'similarity': 'asymmetric', 'feature_weighting': 'TF-IDF', 'asymmetric_alpha': 1.9949201017369653}. Best is trial 21 with value: 0.031912003133311655.\n"
     ]
    },
    {
     "name": "stdout",
     "output_type": "stream",
     "text": [
      "UserKNNCFRecommender: URM Detected 627 ( 4.8%) users with no interactions.\n",
      "UserKNNCFRecommender: URM Detected 247 ( 1.1%) items with no interactions.\n"
     ]
    },
    {
     "name": "stderr",
     "output_type": "stream",
     "text": [
      "/kaggle/working/Recsys_Challenge_2023/Recommenders/Similarity/Compute_Similarity_Euclidean.py:167: RuntimeWarning:\n",
      "\n",
      "overflow encountered in exp\n",
      "\n"
     ]
    },
    {
     "name": "stdout",
     "output_type": "stream",
     "text": [
      "Similarity column 13024 (100.0%), 907.87 column/sec. Elapsed time 14.35 sec\n",
      "EvaluatorHoldout: Processed 10456 (100.0%) in 10.46 sec. Users per second: 999\n"
     ]
    },
    {
     "name": "stderr",
     "output_type": "stream",
     "text": [
      "[I 2023-12-09 12:21:28,434] Trial 29 finished with value: 0.029267337960432994 and parameters: {'topK': 113, 'shrink': 4, 'similarity': 'euclidean', 'feature_weighting': 'TF-IDF', 'normalize_avg_row': False, 'similarity_from_distance_mode': 'exp', 'normalize': True}. Best is trial 21 with value: 0.031912003133311655.\n"
     ]
    },
    {
     "name": "stdout",
     "output_type": "stream",
     "text": [
      "UserKNNCFRecommender: URM Detected 627 ( 4.8%) users with no interactions.\n",
      "UserKNNCFRecommender: URM Detected 247 ( 1.1%) items with no interactions.\n",
      "Similarity column 13024 (100.0%), 5031.27 column/sec. Elapsed time 2.59 sec\n",
      "EvaluatorHoldout: Processed 10456 (100.0%) in 11.65 sec. Users per second: 897\n"
     ]
    },
    {
     "name": "stderr",
     "output_type": "stream",
     "text": [
      "[I 2023-12-09 12:21:43,156] Trial 30 finished with value: 0.01991787961040061 and parameters: {'topK': 344, 'shrink': 400, 'similarity': 'tanimoto', 'feature_weighting': 'BM25'}. Best is trial 21 with value: 0.031912003133311655.\n"
     ]
    },
    {
     "name": "stdout",
     "output_type": "stream",
     "text": [
      "UserKNNCFRecommender: URM Detected 627 ( 4.8%) users with no interactions.\n",
      "UserKNNCFRecommender: URM Detected 247 ( 1.1%) items with no interactions.\n",
      "Similarity column 13024 (100.0%), 4637.45 column/sec. Elapsed time 2.81 sec\n",
      "EvaluatorHoldout: Processed 10456 (100.0%) in 11.36 sec. Users per second: 921\n"
     ]
    },
    {
     "name": "stderr",
     "output_type": "stream",
     "text": [
      "[I 2023-12-09 12:21:57,811] Trial 31 finished with value: 0.031727378371649836 and parameters: {'topK': 286, 'shrink': 372, 'similarity': 'tversky', 'feature_weighting': 'TF-IDF', 'tversky_alpha': 1.983021293082266, 'tversky_beta': 1.703547313048676}. Best is trial 21 with value: 0.031912003133311655.\n"
     ]
    },
    {
     "name": "stdout",
     "output_type": "stream",
     "text": [
      "UserKNNCFRecommender: URM Detected 627 ( 4.8%) users with no interactions.\n",
      "UserKNNCFRecommender: URM Detected 247 ( 1.1%) items with no interactions.\n",
      "Similarity column 13024 (100.0%), 4796.72 column/sec. Elapsed time 2.72 sec\n",
      "EvaluatorHoldout: Processed 10456 (100.0%) in 10.77 sec. Users per second: 971\n"
     ]
    },
    {
     "name": "stderr",
     "output_type": "stream",
     "text": [
      "[I 2023-12-09 12:22:11,754] Trial 32 finished with value: 0.03015677563425289 and parameters: {'topK': 180, 'shrink': 460, 'similarity': 'tversky', 'feature_weighting': 'TF-IDF', 'tversky_alpha': 1.8418682832085793, 'tversky_beta': 1.7465768975877227}. Best is trial 21 with value: 0.031912003133311655.\n"
     ]
    },
    {
     "name": "stdout",
     "output_type": "stream",
     "text": [
      "UserKNNCFRecommender: URM Detected 627 ( 4.8%) users with no interactions.\n",
      "UserKNNCFRecommender: URM Detected 247 ( 1.1%) items with no interactions.\n",
      "Similarity column 13024 (100.0%), 4769.64 column/sec. Elapsed time 2.73 sec\n",
      "EvaluatorHoldout: Processed 10456 (100.0%) in 11.49 sec. Users per second: 910\n"
     ]
    },
    {
     "name": "stderr",
     "output_type": "stream",
     "text": [
      "[I 2023-12-09 12:22:26,454] Trial 33 finished with value: 0.03186735648097566 and parameters: {'topK': 279, 'shrink': 343, 'similarity': 'tversky', 'feature_weighting': 'TF-IDF', 'tversky_alpha': 1.726091869476554, 'tversky_beta': 1.9865896333230513}. Best is trial 21 with value: 0.031912003133311655.\n"
     ]
    },
    {
     "name": "stdout",
     "output_type": "stream",
     "text": [
      "UserKNNCFRecommender: URM Detected 627 ( 4.8%) users with no interactions.\n",
      "UserKNNCFRecommender: URM Detected 247 ( 1.1%) items with no interactions.\n",
      "Similarity column 13024 (100.0%), 4547.12 column/sec. Elapsed time 2.86 sec\n",
      "EvaluatorHoldout: Processed 10456 (100.0%) in 11.43 sec. Users per second: 915\n"
     ]
    },
    {
     "name": "stderr",
     "output_type": "stream",
     "text": [
      "[I 2023-12-09 12:22:41,090] Trial 34 finished with value: 0.03461211607826022 and parameters: {'topK': 247, 'shrink': 329, 'similarity': 'cosine', 'feature_weighting': 'TF-IDF'}. Best is trial 34 with value: 0.03461211607826022.\n"
     ]
    },
    {
     "name": "stdout",
     "output_type": "stream",
     "text": [
      "UserKNNCFRecommender: URM Detected 627 ( 4.8%) users with no interactions.\n",
      "UserKNNCFRecommender: URM Detected 247 ( 1.1%) items with no interactions.\n",
      "Similarity column 13024 (100.0%), 4622.02 column/sec. Elapsed time 2.82 sec\n",
      "EvaluatorHoldout: Processed 10456 (100.0%) in 11.37 sec. Users per second: 920\n"
     ]
    },
    {
     "name": "stderr",
     "output_type": "stream",
     "text": [
      "[I 2023-12-09 12:22:55,611] Trial 35 finished with value: 0.034495827564640175 and parameters: {'topK': 227, 'shrink': 310, 'similarity': 'cosine', 'feature_weighting': 'TF-IDF'}. Best is trial 34 with value: 0.03461211607826022.\n"
     ]
    },
    {
     "name": "stdout",
     "output_type": "stream",
     "text": [
      "UserKNNCFRecommender: URM Detected 627 ( 4.8%) users with no interactions.\n",
      "UserKNNCFRecommender: URM Detected 247 ( 1.1%) items with no interactions.\n",
      "Similarity column 13024 (100.0%), 4728.07 column/sec. Elapsed time 2.75 sec\n",
      "EvaluatorHoldout: Processed 10456 (100.0%) in 9.75 sec. Users per second: 1072\n"
     ]
    },
    {
     "name": "stderr",
     "output_type": "stream",
     "text": [
      "[I 2023-12-09 12:23:08,374] Trial 36 finished with value: 0.028465664128441696 and parameters: {'topK': 62, 'shrink': 291, 'similarity': 'cosine', 'feature_weighting': 'TF-IDF'}. Best is trial 34 with value: 0.03461211607826022.\n"
     ]
    },
    {
     "name": "stdout",
     "output_type": "stream",
     "text": [
      "UserKNNCFRecommender: URM Detected 627 ( 4.8%) users with no interactions.\n",
      "UserKNNCFRecommender: URM Detected 247 ( 1.1%) items with no interactions.\n",
      "Similarity column 13024 (100.0%), 4706.14 column/sec. Elapsed time 2.77 sec\n",
      "EvaluatorHoldout: Processed 10456 (100.0%) in 11.05 sec. Users per second: 946\n"
     ]
    },
    {
     "name": "stderr",
     "output_type": "stream",
     "text": [
      "[I 2023-12-09 12:23:22,491] Trial 37 finished with value: 0.03377448658626967 and parameters: {'topK': 169, 'shrink': 248, 'similarity': 'cosine', 'feature_weighting': 'TF-IDF'}. Best is trial 34 with value: 0.03461211607826022.\n"
     ]
    },
    {
     "name": "stdout",
     "output_type": "stream",
     "text": [
      "UserKNNCFRecommender: URM Detected 627 ( 4.8%) users with no interactions.\n",
      "UserKNNCFRecommender: URM Detected 247 ( 1.1%) items with no interactions.\n",
      "Similarity column 13024 (100.0%), 4642.47 column/sec. Elapsed time 2.81 sec\n",
      "EvaluatorHoldout: Processed 10456 (100.0%) in 10.66 sec. Users per second: 981\n"
     ]
    },
    {
     "name": "stderr",
     "output_type": "stream",
     "text": [
      "[I 2023-12-09 12:23:36,247] Trial 38 finished with value: 0.029482339448148723 and parameters: {'topK': 187, 'shrink': 172, 'similarity': 'cosine', 'feature_weighting': 'none'}. Best is trial 34 with value: 0.03461211607826022.\n"
     ]
    },
    {
     "name": "stdout",
     "output_type": "stream",
     "text": [
      "UserKNNCFRecommender: URM Detected 627 ( 4.8%) users with no interactions.\n",
      "UserKNNCFRecommender: URM Detected 247 ( 1.1%) items with no interactions.\n",
      "Similarity column 13024 (100.0%), 4698.60 column/sec. Elapsed time 2.77 sec\n",
      "EvaluatorHoldout: Processed 10456 (100.0%) in 10.23 sec. Users per second: 1023\n"
     ]
    },
    {
     "name": "stderr",
     "output_type": "stream",
     "text": [
      "[I 2023-12-09 12:23:49,523] Trial 39 finished with value: 0.031792200270825265 and parameters: {'topK': 104, 'shrink': 239, 'similarity': 'cosine', 'feature_weighting': 'TF-IDF'}. Best is trial 34 with value: 0.03461211607826022.\n"
     ]
    },
    {
     "name": "stdout",
     "output_type": "stream",
     "text": [
      "UserKNNCFRecommender: URM Detected 627 ( 4.8%) users with no interactions.\n",
      "UserKNNCFRecommender: URM Detected 247 ( 1.1%) items with no interactions.\n",
      "Similarity column 13024 (100.0%), 4725.27 column/sec. Elapsed time 2.76 sec\n",
      "EvaluatorHoldout: Processed 10456 (100.0%) in 9.69 sec. Users per second: 1079\n"
     ]
    },
    {
     "name": "stderr",
     "output_type": "stream",
     "text": [
      "[I 2023-12-09 12:24:02,231] Trial 40 finished with value: 0.015680622350955117 and parameters: {'topK': 54, 'shrink': 254, 'similarity': 'cosine', 'feature_weighting': 'BM25'}. Best is trial 34 with value: 0.03461211607826022.\n"
     ]
    },
    {
     "name": "stdout",
     "output_type": "stream",
     "text": [
      "UserKNNCFRecommender: URM Detected 627 ( 4.8%) users with no interactions.\n",
      "UserKNNCFRecommender: URM Detected 247 ( 1.1%) items with no interactions.\n",
      "Similarity column 13024 (100.0%), 4710.38 column/sec. Elapsed time 2.76 sec\n",
      "EvaluatorHoldout: Processed 10456 (100.0%) in 11.50 sec. Users per second: 909\n"
     ]
    },
    {
     "name": "stderr",
     "output_type": "stream",
     "text": [
      "[I 2023-12-09 12:24:16,821] Trial 41 finished with value: 0.03457761018204815 and parameters: {'topK': 245, 'shrink': 342, 'similarity': 'cosine', 'feature_weighting': 'TF-IDF'}. Best is trial 34 with value: 0.03461211607826022.\n"
     ]
    },
    {
     "name": "stdout",
     "output_type": "stream",
     "text": [
      "UserKNNCFRecommender: URM Detected 627 ( 4.8%) users with no interactions.\n",
      "UserKNNCFRecommender: URM Detected 247 ( 1.1%) items with no interactions.\n",
      "Similarity column 13024 (100.0%), 4583.91 column/sec. Elapsed time 2.84 sec\n",
      "EvaluatorHoldout: Processed 10456 (100.0%) in 11.44 sec. Users per second: 914\n"
     ]
    },
    {
     "name": "stderr",
     "output_type": "stream",
     "text": [
      "[I 2023-12-09 12:24:31,427] Trial 42 finished with value: 0.03444682403055627 and parameters: {'topK': 217, 'shrink': 315, 'similarity': 'cosine', 'feature_weighting': 'TF-IDF'}. Best is trial 34 with value: 0.03461211607826022.\n"
     ]
    },
    {
     "name": "stdout",
     "output_type": "stream",
     "text": [
      "UserKNNCFRecommender: URM Detected 627 ( 4.8%) users with no interactions.\n",
      "UserKNNCFRecommender: URM Detected 247 ( 1.1%) items with no interactions.\n",
      "Similarity column 13024 (100.0%), 4778.82 column/sec. Elapsed time 2.73 sec\n",
      "EvaluatorHoldout: Processed 10456 (100.0%) in 8.97 sec. Users per second: 1166\n"
     ]
    },
    {
     "name": "stderr",
     "output_type": "stream",
     "text": [
      "[I 2023-12-09 12:24:43,384] Trial 43 finished with value: 0.01639231215311929 and parameters: {'topK': 15, 'shrink': 311, 'similarity': 'cosine', 'feature_weighting': 'TF-IDF'}. Best is trial 34 with value: 0.03461211607826022.\n"
     ]
    },
    {
     "name": "stdout",
     "output_type": "stream",
     "text": [
      "UserKNNCFRecommender: URM Detected 627 ( 4.8%) users with no interactions.\n",
      "UserKNNCFRecommender: URM Detected 247 ( 1.1%) items with no interactions.\n",
      "Similarity column 13024 (100.0%), 4571.54 column/sec. Elapsed time 2.85 sec\n",
      "EvaluatorHoldout: Processed 10456 (100.0%) in 10.91 sec. Users per second: 959\n"
     ]
    },
    {
     "name": "stderr",
     "output_type": "stream",
     "text": [
      "[I 2023-12-09 12:24:57,461] Trial 44 finished with value: 0.03361513781105426 and parameters: {'topK': 156, 'shrink': 170, 'similarity': 'cosine', 'feature_weighting': 'TF-IDF'}. Best is trial 34 with value: 0.03461211607826022.\n"
     ]
    },
    {
     "name": "stdout",
     "output_type": "stream",
     "text": [
      "UserKNNCFRecommender: URM Detected 627 ( 4.8%) users with no interactions.\n",
      "UserKNNCFRecommender: URM Detected 247 ( 1.1%) items with no interactions.\n",
      "Similarity column 13024 (100.0%), 4547.59 column/sec. Elapsed time 2.86 sec\n",
      "EvaluatorHoldout: Processed 10456 (100.0%) in 11.05 sec. Users per second: 946\n"
     ]
    },
    {
     "name": "stderr",
     "output_type": "stream",
     "text": [
      "[I 2023-12-09 12:25:11,716] Trial 45 finished with value: 0.03038927296243687 and parameters: {'topK': 236, 'shrink': 232, 'similarity': 'cosine', 'feature_weighting': 'none'}. Best is trial 34 with value: 0.03461211607826022.\n"
     ]
    },
    {
     "name": "stdout",
     "output_type": "stream",
     "text": [
      "UserKNNCFRecommender: URM Detected 627 ( 4.8%) users with no interactions.\n",
      "UserKNNCFRecommender: URM Detected 247 ( 1.1%) items with no interactions.\n",
      "Similarity column 13024 (100.0%), 4714.69 column/sec. Elapsed time 2.76 sec\n",
      "EvaluatorHoldout: Processed 10456 (100.0%) in 10.16 sec. Users per second: 1030\n"
     ]
    },
    {
     "name": "stderr",
     "output_type": "stream",
     "text": [
      "[I 2023-12-09 12:25:24,912] Trial 46 finished with value: 0.03157912294604176 and parameters: {'topK': 95, 'shrink': 289, 'similarity': 'cosine', 'feature_weighting': 'TF-IDF'}. Best is trial 34 with value: 0.03461211607826022.\n"
     ]
    },
    {
     "name": "stdout",
     "output_type": "stream",
     "text": [
      "UserKNNCFRecommender: URM Detected 627 ( 4.8%) users with no interactions.\n",
      "UserKNNCFRecommender: URM Detected 247 ( 1.1%) items with no interactions.\n",
      "Similarity column 13024 (100.0%), 4516.25 column/sec. Elapsed time 2.88 sec\n",
      "EvaluatorHoldout: Processed 10456 (100.0%) in 11.38 sec. Users per second: 919\n"
     ]
    },
    {
     "name": "stderr",
     "output_type": "stream",
     "text": [
      "[I 2023-12-09 12:25:39,504] Trial 47 finished with value: 0.034717819798156725 and parameters: {'topK': 242, 'shrink': 264, 'similarity': 'cosine', 'feature_weighting': 'TF-IDF'}. Best is trial 47 with value: 0.034717819798156725.\n"
     ]
    },
    {
     "name": "stdout",
     "output_type": "stream",
     "text": [
      "UserKNNCFRecommender: URM Detected 627 ( 4.8%) users with no interactions.\n",
      "UserKNNCFRecommender: URM Detected 247 ( 1.1%) items with no interactions.\n",
      "Similarity column 13024 (100.0%), 4581.20 column/sec. Elapsed time 2.84 sec\n",
      "EvaluatorHoldout: Processed 10456 (100.0%) in 12.31 sec. Users per second: 850\n"
     ]
    },
    {
     "name": "stderr",
     "output_type": "stream",
     "text": [
      "[I 2023-12-09 12:25:55,022] Trial 48 finished with value: 0.034435707909790204 and parameters: {'topK': 389, 'shrink': 309, 'similarity': 'cosine', 'feature_weighting': 'TF-IDF'}. Best is trial 47 with value: 0.034717819798156725.\n"
     ]
    },
    {
     "name": "stdout",
     "output_type": "stream",
     "text": [
      "UserKNNCFRecommender: URM Detected 627 ( 4.8%) users with no interactions.\n",
      "UserKNNCFRecommender: URM Detected 247 ( 1.1%) items with no interactions.\n",
      "Similarity column 13024 (100.0%), 4885.16 column/sec. Elapsed time 2.67 sec\n",
      "EvaluatorHoldout: Processed 10456 (100.0%) in 10.99 sec. Users per second: 951\n"
     ]
    },
    {
     "name": "stderr",
     "output_type": "stream",
     "text": [
      "[I 2023-12-09 12:26:09,078] Trial 49 finished with value: 0.030548572400141076 and parameters: {'topK': 213, 'shrink': 276, 'similarity': 'jaccard', 'feature_weighting': 'none'}. Best is trial 47 with value: 0.034717819798156725.\n"
     ]
    },
    {
     "name": "stdout",
     "output_type": "stream",
     "text": [
      "UserKNNCFRecommender: URM Detected 627 ( 4.8%) users with no interactions.\n",
      "UserKNNCFRecommender: URM Detected 247 ( 1.1%) items with no interactions.\n",
      "Similarity column 13024 (100.0%), 4624.32 column/sec. Elapsed time 2.82 sec\n",
      "EvaluatorHoldout: Processed 10456 (100.0%) in 11.53 sec. Users per second: 907\n"
     ]
    },
    {
     "name": "stderr",
     "output_type": "stream",
     "text": [
      "[I 2023-12-09 12:26:23,785] Trial 50 finished with value: 0.03453627293814781 and parameters: {'topK': 251, 'shrink': 347, 'similarity': 'cosine', 'feature_weighting': 'TF-IDF'}. Best is trial 47 with value: 0.034717819798156725.\n"
     ]
    },
    {
     "name": "stdout",
     "output_type": "stream",
     "text": [
      "UserKNNCFRecommender: URM Detected 627 ( 4.8%) users with no interactions.\n",
      "UserKNNCFRecommender: URM Detected 247 ( 1.1%) items with no interactions.\n",
      "Similarity column 13024 (100.0%), 4635.68 column/sec. Elapsed time 2.81 sec\n",
      "EvaluatorHoldout: Processed 10456 (100.0%) in 11.40 sec. Users per second: 917\n"
     ]
    },
    {
     "name": "stderr",
     "output_type": "stream",
     "text": [
      "[I 2023-12-09 12:26:38,334] Trial 51 finished with value: 0.03444842180687666 and parameters: {'topK': 224, 'shrink': 355, 'similarity': 'cosine', 'feature_weighting': 'TF-IDF'}. Best is trial 47 with value: 0.034717819798156725.\n"
     ]
    },
    {
     "name": "stdout",
     "output_type": "stream",
     "text": [
      "UserKNNCFRecommender: URM Detected 627 ( 4.8%) users with no interactions.\n",
      "UserKNNCFRecommender: URM Detected 247 ( 1.1%) items with no interactions.\n",
      "Similarity column 13024 (100.0%), 4567.50 column/sec. Elapsed time 2.85 sec\n",
      "EvaluatorHoldout: Processed 10456 (100.0%) in 11.62 sec. Users per second: 900\n"
     ]
    },
    {
     "name": "stderr",
     "output_type": "stream",
     "text": [
      "[I 2023-12-09 12:26:53,170] Trial 52 finished with value: 0.03454530549786897 and parameters: {'topK': 254, 'shrink': 355, 'similarity': 'cosine', 'feature_weighting': 'TF-IDF'}. Best is trial 47 with value: 0.034717819798156725.\n"
     ]
    },
    {
     "name": "stdout",
     "output_type": "stream",
     "text": [
      "UserKNNCFRecommender: URM Detected 627 ( 4.8%) users with no interactions.\n",
      "UserKNNCFRecommender: URM Detected 247 ( 1.1%) items with no interactions.\n",
      "Similarity column 13024 (100.0%), 4563.53 column/sec. Elapsed time 2.85 sec\n",
      "EvaluatorHoldout: Processed 10456 (100.0%) in 12.27 sec. Users per second: 852\n"
     ]
    },
    {
     "name": "stderr",
     "output_type": "stream",
     "text": [
      "[I 2023-12-09 12:27:08,671] Trial 53 finished with value: 0.03439911465734005 and parameters: {'topK': 346, 'shrink': 381, 'similarity': 'cosine', 'feature_weighting': 'TF-IDF'}. Best is trial 47 with value: 0.034717819798156725.\n"
     ]
    },
    {
     "name": "stdout",
     "output_type": "stream",
     "text": [
      "UserKNNCFRecommender: URM Detected 627 ( 4.8%) users with no interactions.\n",
      "UserKNNCFRecommender: URM Detected 247 ( 1.1%) items with no interactions.\n",
      "Similarity column 13024 (100.0%), 5021.68 column/sec. Elapsed time 2.59 sec\n",
      "EvaluatorHoldout: Processed 10456 (100.0%) in 11.15 sec. Users per second: 938\n"
     ]
    },
    {
     "name": "stderr",
     "output_type": "stream",
     "text": [
      "[I 2023-12-09 12:27:22,857] Trial 54 finished with value: 0.031212833673382834 and parameters: {'topK': 260, 'shrink': 349, 'similarity': 'dice', 'feature_weighting': 'TF-IDF'}. Best is trial 47 with value: 0.034717819798156725.\n"
     ]
    },
    {
     "name": "stdout",
     "output_type": "stream",
     "text": [
      "UserKNNCFRecommender: URM Detected 627 ( 4.8%) users with no interactions.\n",
      "UserKNNCFRecommender: URM Detected 247 ( 1.1%) items with no interactions.\n",
      "Similarity column 13024 (100.0%), 4699.28 column/sec. Elapsed time 2.77 sec\n",
      "EvaluatorHoldout: Processed 10456 (100.0%) in 10.66 sec. Users per second: 981\n"
     ]
    },
    {
     "name": "stderr",
     "output_type": "stream",
     "text": [
      "[I 2023-12-09 12:27:36,579] Trial 55 finished with value: 0.033312493927691235 and parameters: {'topK': 137, 'shrink': 291, 'similarity': 'cosine', 'feature_weighting': 'TF-IDF'}. Best is trial 47 with value: 0.034717819798156725.\n"
     ]
    },
    {
     "name": "stdout",
     "output_type": "stream",
     "text": [
      "UserKNNCFRecommender: URM Detected 627 ( 4.8%) users with no interactions.\n",
      "UserKNNCFRecommender: URM Detected 247 ( 1.1%) items with no interactions.\n",
      "Similarity column 13024 (100.0%), 4627.41 column/sec. Elapsed time 2.81 sec\n",
      "EvaluatorHoldout: Processed 10456 (100.0%) in 11.90 sec. Users per second: 878\n"
     ]
    },
    {
     "name": "stderr",
     "output_type": "stream",
     "text": [
      "[I 2023-12-09 12:27:51,651] Trial 56 finished with value: 0.02225760480805424 and parameters: {'topK': 309, 'shrink': 359, 'similarity': 'cosine', 'feature_weighting': 'BM25'}. Best is trial 47 with value: 0.034717819798156725.\n"
     ]
    },
    {
     "name": "stdout",
     "output_type": "stream",
     "text": [
      "UserKNNCFRecommender: URM Detected 627 ( 4.8%) users with no interactions.\n",
      "UserKNNCFRecommender: URM Detected 247 ( 1.1%) items with no interactions.\n",
      "Similarity column 13024 (100.0%), 4558.88 column/sec. Elapsed time 2.86 sec\n",
      "EvaluatorHoldout: Processed 10456 (100.0%) in 12.31 sec. Users per second: 849\n"
     ]
    },
    {
     "name": "stderr",
     "output_type": "stream",
     "text": [
      "[I 2023-12-09 12:28:07,199] Trial 57 finished with value: 0.0344228004578525 and parameters: {'topK': 372, 'shrink': 324, 'similarity': 'cosine', 'feature_weighting': 'TF-IDF'}. Best is trial 47 with value: 0.034717819798156725.\n"
     ]
    },
    {
     "name": "stdout",
     "output_type": "stream",
     "text": [
      "UserKNNCFRecommender: URM Detected 627 ( 4.8%) users with no interactions.\n",
      "UserKNNCFRecommender: URM Detected 247 ( 1.1%) items with no interactions.\n",
      "Similarity column 13024 (100.0%), 4969.77 column/sec. Elapsed time 2.62 sec\n",
      "EvaluatorHoldout: Processed 10456 (100.0%) in 12.00 sec. Users per second: 871\n"
     ]
    },
    {
     "name": "stderr",
     "output_type": "stream",
     "text": [
      "[I 2023-12-09 12:28:22,317] Trial 58 finished with value: 0.03169110771061837 and parameters: {'topK': 423, 'shrink': 395, 'similarity': 'jaccard', 'feature_weighting': 'TF-IDF'}. Best is trial 47 with value: 0.034717819798156725.\n"
     ]
    },
    {
     "name": "stdout",
     "output_type": "stream",
     "text": [
      "UserKNNCFRecommender: URM Detected 627 ( 4.8%) users with no interactions.\n",
      "UserKNNCFRecommender: URM Detected 247 ( 1.1%) items with no interactions.\n",
      "Similarity column 13024 (100.0%), 4626.23 column/sec. Elapsed time 2.82 sec\n",
      "EvaluatorHoldout: Processed 10456 (100.0%) in 12.94 sec. Users per second: 808\n"
     ]
    },
    {
     "name": "stderr",
     "output_type": "stream",
     "text": [
      "[I 2023-12-09 12:28:38,502] Trial 59 finished with value: 0.03274142741769009 and parameters: {'topK': 501, 'shrink': 423, 'similarity': 'asymmetric', 'feature_weighting': 'TF-IDF', 'asymmetric_alpha': 0.7705029231711649}. Best is trial 47 with value: 0.034717819798156725.\n"
     ]
    },
    {
     "name": "stdout",
     "output_type": "stream",
     "text": [
      "UserKNNCFRecommender: URM Detected 627 ( 4.8%) users with no interactions.\n",
      "UserKNNCFRecommender: URM Detected 247 ( 1.1%) items with no interactions.\n",
      "Similarity column 13024 (100.0%), 4437.07 column/sec. Elapsed time 2.94 sec\n",
      "EvaluatorHoldout: Processed 10456 (100.0%) in 13.59 sec. Users per second: 769\n"
     ]
    },
    {
     "name": "stderr",
     "output_type": "stream",
     "text": [
      "[I 2023-12-09 12:28:55,473] Trial 60 finished with value: 0.030749804927071852 and parameters: {'topK': 732, 'shrink': 368, 'similarity': 'cosine', 'feature_weighting': 'none'}. Best is trial 47 with value: 0.034717819798156725.\n"
     ]
    },
    {
     "name": "stdout",
     "output_type": "stream",
     "text": [
      "UserKNNCFRecommender: URM Detected 627 ( 4.8%) users with no interactions.\n",
      "UserKNNCFRecommender: URM Detected 247 ( 1.1%) items with no interactions.\n",
      "Similarity column 13024 (100.0%), 4641.17 column/sec. Elapsed time 2.81 sec\n",
      "EvaluatorHoldout: Processed 10456 (100.0%) in 11.59 sec. Users per second: 902\n"
     ]
    },
    {
     "name": "stderr",
     "output_type": "stream",
     "text": [
      "[I 2023-12-09 12:29:10,207] Trial 61 finished with value: 0.0344957288896179 and parameters: {'topK': 252, 'shrink': 352, 'similarity': 'cosine', 'feature_weighting': 'TF-IDF'}. Best is trial 47 with value: 0.034717819798156725.\n"
     ]
    },
    {
     "name": "stdout",
     "output_type": "stream",
     "text": [
      "UserKNNCFRecommender: URM Detected 627 ( 4.8%) users with no interactions.\n",
      "UserKNNCFRecommender: URM Detected 247 ( 1.1%) items with no interactions.\n",
      "Similarity column 13024 (100.0%), 4631.18 column/sec. Elapsed time 2.81 sec\n",
      "EvaluatorHoldout: Processed 10456 (100.0%) in 11.48 sec. Users per second: 911\n"
     ]
    },
    {
     "name": "stderr",
     "output_type": "stream",
     "text": [
      "[I 2023-12-09 12:29:24,844] Trial 62 finished with value: 0.03451574473834451 and parameters: {'topK': 257, 'shrink': 336, 'similarity': 'cosine', 'feature_weighting': 'TF-IDF'}. Best is trial 47 with value: 0.034717819798156725.\n"
     ]
    },
    {
     "name": "stdout",
     "output_type": "stream",
     "text": [
      "UserKNNCFRecommender: URM Detected 627 ( 4.8%) users with no interactions.\n",
      "UserKNNCFRecommender: URM Detected 247 ( 1.1%) items with no interactions.\n",
      "Similarity column 13024 (100.0%), 4535.82 column/sec. Elapsed time 2.87 sec\n",
      "EvaluatorHoldout: Processed 10456 (100.0%) in 12.04 sec. Users per second: 868\n"
     ]
    },
    {
     "name": "stderr",
     "output_type": "stream",
     "text": [
      "[I 2023-12-09 12:29:40,123] Trial 63 finished with value: 0.03456048627050966 and parameters: {'topK': 318, 'shrink': 332, 'similarity': 'cosine', 'feature_weighting': 'TF-IDF'}. Best is trial 47 with value: 0.034717819798156725.\n"
     ]
    },
    {
     "name": "stdout",
     "output_type": "stream",
     "text": [
      "UserKNNCFRecommender: URM Detected 627 ( 4.8%) users with no interactions.\n",
      "UserKNNCFRecommender: URM Detected 247 ( 1.1%) items with no interactions.\n",
      "Similarity column 13024 (100.0%), 4973.84 column/sec. Elapsed time 2.62 sec\n",
      "EvaluatorHoldout: Processed 10456 (100.0%) in 11.51 sec. Users per second: 909\n"
     ]
    },
    {
     "name": "stderr",
     "output_type": "stream",
     "text": [
      "[I 2023-12-09 12:29:54,711] Trial 64 finished with value: 0.03157985541832159 and parameters: {'topK': 312, 'shrink': 342, 'similarity': 'tanimoto', 'feature_weighting': 'TF-IDF'}. Best is trial 47 with value: 0.034717819798156725.\n"
     ]
    },
    {
     "name": "stdout",
     "output_type": "stream",
     "text": [
      "UserKNNCFRecommender: URM Detected 627 ( 4.8%) users with no interactions.\n",
      "UserKNNCFRecommender: URM Detected 247 ( 1.1%) items with no interactions.\n",
      "Similarity column 13024 (100.0%), 4975.82 column/sec. Elapsed time 2.62 sec\n",
      "EvaluatorHoldout: Processed 10456 (100.0%) in 12.08 sec. Users per second: 865\n"
     ]
    },
    {
     "name": "stderr",
     "output_type": "stream",
     "text": [
      "[I 2023-12-09 12:30:09,885] Trial 65 finished with value: 0.031859063983920896 and parameters: {'topK': 366, 'shrink': 269, 'similarity': 'dice', 'feature_weighting': 'TF-IDF'}. Best is trial 47 with value: 0.034717819798156725.\n"
     ]
    },
    {
     "name": "stdout",
     "output_type": "stream",
     "text": [
      "UserKNNCFRecommender: URM Detected 627 ( 4.8%) users with no interactions.\n",
      "UserKNNCFRecommender: URM Detected 247 ( 1.1%) items with no interactions.\n",
      "Similarity column 13024 (100.0%), 832.81 column/sec. Elapsed time 15.64 sec\n",
      "EvaluatorHoldout: Processed 10456 (100.0%) in 8.11 sec. Users per second: 1289\n"
     ]
    },
    {
     "name": "stderr",
     "output_type": "stream",
     "text": [
      "[I 2023-12-09 12:30:33,990] Trial 66 finished with value: 0.0010749467154880306 and parameters: {'topK': 192, 'shrink': 327, 'similarity': 'euclidean', 'feature_weighting': 'TF-IDF', 'normalize_avg_row': True, 'similarity_from_distance_mode': 'log', 'normalize': False}. Best is trial 47 with value: 0.034717819798156725.\n"
     ]
    },
    {
     "name": "stdout",
     "output_type": "stream",
     "text": [
      "UserKNNCFRecommender: URM Detected 627 ( 4.8%) users with no interactions.\n",
      "UserKNNCFRecommender: URM Detected 247 ( 1.1%) items with no interactions.\n",
      "Similarity column 13024 (100.0%), 4617.41 column/sec. Elapsed time 2.82 sec\n",
      "EvaluatorHoldout: Processed 10456 (100.0%) in 11.73 sec. Users per second: 891\n"
     ]
    },
    {
     "name": "stderr",
     "output_type": "stream",
     "text": [
      "[I 2023-12-09 12:30:48,899] Trial 67 finished with value: 0.03453680806038344 and parameters: {'topK': 281, 'shrink': 382, 'similarity': 'cosine', 'feature_weighting': 'TF-IDF'}. Best is trial 47 with value: 0.034717819798156725.\n"
     ]
    },
    {
     "name": "stdout",
     "output_type": "stream",
     "text": [
      "UserKNNCFRecommender: URM Detected 627 ( 4.8%) users with no interactions.\n",
      "UserKNNCFRecommender: URM Detected 247 ( 1.1%) items with no interactions.\n",
      "Similarity column 13024 (100.0%), 4616.68 column/sec. Elapsed time 2.82 sec\n",
      "EvaluatorHoldout: Processed 10456 (100.0%) in 11.68 sec. Users per second: 895\n"
     ]
    },
    {
     "name": "stderr",
     "output_type": "stream",
     "text": [
      "[I 2023-12-09 12:31:03,762] Trial 68 finished with value: 0.034444178780923713 and parameters: {'topK': 287, 'shrink': 399, 'similarity': 'cosine', 'feature_weighting': 'TF-IDF'}. Best is trial 47 with value: 0.034717819798156725.\n"
     ]
    },
    {
     "name": "stdout",
     "output_type": "stream",
     "text": [
      "UserKNNCFRecommender: URM Detected 627 ( 4.8%) users with no interactions.\n",
      "UserKNNCFRecommender: URM Detected 247 ( 1.1%) items with no interactions.\n",
      "Similarity column 13024 (100.0%), 4591.31 column/sec. Elapsed time 2.84 sec\n",
      "EvaluatorHoldout: Processed 10456 (100.0%) in 12.15 sec. Users per second: 861\n"
     ]
    },
    {
     "name": "stderr",
     "output_type": "stream",
     "text": [
      "[I 2023-12-09 12:31:19,124] Trial 69 finished with value: 0.02236614353724142 and parameters: {'topK': 323, 'shrink': 378, 'similarity': 'cosine', 'feature_weighting': 'BM25'}. Best is trial 47 with value: 0.034717819798156725.\n"
     ]
    },
    {
     "name": "stdout",
     "output_type": "stream",
     "text": [
      "UserKNNCFRecommender: URM Detected 627 ( 4.8%) users with no interactions.\n",
      "UserKNNCFRecommender: URM Detected 247 ( 1.1%) items with no interactions.\n",
      "Similarity column 13024 (100.0%), 4808.57 column/sec. Elapsed time 2.71 sec\n",
      "EvaluatorHoldout: Processed 10456 (100.0%) in 10.12 sec. Users per second: 1033\n"
     ]
    },
    {
     "name": "stderr",
     "output_type": "stream",
     "text": [
      "[I 2023-12-09 12:31:32,275] Trial 70 finished with value: 0.02827245084465834 and parameters: {'topK': 131, 'shrink': 414, 'similarity': 'asymmetric', 'feature_weighting': 'TF-IDF', 'asymmetric_alpha': 1.1409198648831926}. Best is trial 47 with value: 0.034717819798156725.\n"
     ]
    },
    {
     "name": "stdout",
     "output_type": "stream",
     "text": [
      "UserKNNCFRecommender: URM Detected 627 ( 4.8%) users with no interactions.\n",
      "UserKNNCFRecommender: URM Detected 247 ( 1.1%) items with no interactions.\n",
      "Similarity column 13024 (100.0%), 4698.27 column/sec. Elapsed time 2.77 sec\n",
      "EvaluatorHoldout: Processed 10456 (100.0%) in 11.58 sec. Users per second: 903\n"
     ]
    },
    {
     "name": "stderr",
     "output_type": "stream",
     "text": [
      "[I 2023-12-09 12:31:46,953] Trial 71 finished with value: 0.03448232426737626 and parameters: {'topK': 263, 'shrink': 363, 'similarity': 'cosine', 'feature_weighting': 'TF-IDF'}. Best is trial 47 with value: 0.034717819798156725.\n"
     ]
    },
    {
     "name": "stdout",
     "output_type": "stream",
     "text": [
      "UserKNNCFRecommender: URM Detected 627 ( 4.8%) users with no interactions.\n",
      "UserKNNCFRecommender: URM Detected 247 ( 1.1%) items with no interactions.\n",
      "Similarity column 13024 (100.0%), 4598.08 column/sec. Elapsed time 2.83 sec\n",
      "EvaluatorHoldout: Processed 10456 (100.0%) in 11.43 sec. Users per second: 915\n"
     ]
    },
    {
     "name": "stderr",
     "output_type": "stream",
     "text": [
      "[I 2023-12-09 12:32:01,557] Trial 72 finished with value: 0.03460478376507479 and parameters: {'topK': 250, 'shrink': 334, 'similarity': 'cosine', 'feature_weighting': 'TF-IDF'}. Best is trial 47 with value: 0.034717819798156725.\n"
     ]
    },
    {
     "name": "stdout",
     "output_type": "stream",
     "text": [
      "UserKNNCFRecommender: URM Detected 627 ( 4.8%) users with no interactions.\n",
      "UserKNNCFRecommender: URM Detected 247 ( 1.1%) items with no interactions.\n",
      "Similarity column 13024 (100.0%), 4656.94 column/sec. Elapsed time 2.80 sec\n",
      "EvaluatorHoldout: Processed 10456 (100.0%) in 10.89 sec. Users per second: 960\n"
     ]
    },
    {
     "name": "stderr",
     "output_type": "stream",
     "text": [
      "[I 2023-12-09 12:32:15,568] Trial 73 finished with value: 0.033761377989094433 and parameters: {'topK': 165, 'shrink': 390, 'similarity': 'cosine', 'feature_weighting': 'TF-IDF'}. Best is trial 47 with value: 0.034717819798156725.\n"
     ]
    },
    {
     "name": "stdout",
     "output_type": "stream",
     "text": [
      "UserKNNCFRecommender: URM Detected 627 ( 4.8%) users with no interactions.\n",
      "UserKNNCFRecommender: URM Detected 247 ( 1.1%) items with no interactions.\n",
      "Similarity column 13024 (100.0%), 4518.77 column/sec. Elapsed time 2.88 sec\n",
      "EvaluatorHoldout: Processed 10456 (100.0%) in 12.44 sec. Users per second: 840\n"
     ]
    },
    {
     "name": "stderr",
     "output_type": "stream",
     "text": [
      "[I 2023-12-09 12:32:31,277] Trial 74 finished with value: 0.034448865844476394 and parameters: {'topK': 414, 'shrink': 288, 'similarity': 'cosine', 'feature_weighting': 'TF-IDF'}. Best is trial 47 with value: 0.034717819798156725.\n"
     ]
    },
    {
     "name": "stdout",
     "output_type": "stream",
     "text": [
      "UserKNNCFRecommender: URM Detected 627 ( 4.8%) users with no interactions.\n",
      "UserKNNCFRecommender: URM Detected 247 ( 1.1%) items with no interactions.\n",
      "Similarity column 13024 (100.0%), 4600.66 column/sec. Elapsed time 2.83 sec\n",
      "EvaluatorHoldout: Processed 10456 (100.0%) in 12.32 sec. Users per second: 849\n"
     ]
    },
    {
     "name": "stderr",
     "output_type": "stream",
     "text": [
      "[I 2023-12-09 12:32:46,790] Trial 75 finished with value: 0.034518018059047494 and parameters: {'topK': 351, 'shrink': 322, 'similarity': 'cosine', 'feature_weighting': 'TF-IDF'}. Best is trial 47 with value: 0.034717819798156725.\n"
     ]
    },
    {
     "name": "stdout",
     "output_type": "stream",
     "text": [
      "UserKNNCFRecommender: URM Detected 627 ( 4.8%) users with no interactions.\n",
      "UserKNNCFRecommender: URM Detected 247 ( 1.1%) items with no interactions.\n",
      "Similarity column 13024 (100.0%), 4913.66 column/sec. Elapsed time 2.65 sec\n",
      "EvaluatorHoldout: Processed 10456 (100.0%) in 11.59 sec. Users per second: 902\n"
     ]
    },
    {
     "name": "stderr",
     "output_type": "stream",
     "text": [
      "[I 2023-12-09 12:33:01,492] Trial 76 finished with value: 0.03173739388639944 and parameters: {'topK': 293, 'shrink': 259, 'similarity': 'tanimoto', 'feature_weighting': 'TF-IDF'}. Best is trial 47 with value: 0.034717819798156725.\n"
     ]
    },
    {
     "name": "stdout",
     "output_type": "stream",
     "text": [
      "UserKNNCFRecommender: URM Detected 627 ( 4.8%) users with no interactions.\n",
      "UserKNNCFRecommender: URM Detected 247 ( 1.1%) items with no interactions.\n",
      "Similarity column 13024 (100.0%), 746.38 column/sec. Elapsed time 17.45 sec\n",
      "EvaluatorHoldout: Processed 10456 (100.0%) in 11.03 sec. Users per second: 948\n"
     ]
    },
    {
     "name": "stderr",
     "output_type": "stream",
     "text": [
      "[I 2023-12-09 12:33:30,341] Trial 77 finished with value: 0.02927558491516999 and parameters: {'topK': 207, 'shrink': 299, 'similarity': 'euclidean', 'feature_weighting': 'TF-IDF', 'normalize_avg_row': True, 'similarity_from_distance_mode': 'exp', 'normalize': True}. Best is trial 47 with value: 0.034717819798156725.\n"
     ]
    },
    {
     "name": "stdout",
     "output_type": "stream",
     "text": [
      "UserKNNCFRecommender: URM Detected 627 ( 4.8%) users with no interactions.\n",
      "UserKNNCFRecommender: URM Detected 247 ( 1.1%) items with no interactions.\n",
      "Similarity column 13024 (100.0%), 4677.03 column/sec. Elapsed time 2.78 sec\n",
      "EvaluatorHoldout: Processed 10456 (100.0%) in 11.50 sec. Users per second: 910\n"
     ]
    },
    {
     "name": "stderr",
     "output_type": "stream",
     "text": [
      "[I 2023-12-09 12:33:44,968] Trial 78 finished with value: 0.03438707250944282 and parameters: {'topK': 246, 'shrink': 469, 'similarity': 'cosine', 'feature_weighting': 'TF-IDF'}. Best is trial 47 with value: 0.034717819798156725.\n"
     ]
    },
    {
     "name": "stdout",
     "output_type": "stream",
     "text": [
      "UserKNNCFRecommender: URM Detected 627 ( 4.8%) users with no interactions.\n",
      "UserKNNCFRecommender: URM Detected 247 ( 1.1%) items with no interactions.\n",
      "Similarity column 13024 (100.0%), 4839.85 column/sec. Elapsed time 2.69 sec\n",
      "EvaluatorHoldout: Processed 10456 (100.0%) in 11.47 sec. Users per second: 912\n"
     ]
    },
    {
     "name": "stderr",
     "output_type": "stream",
     "text": [
      "[I 2023-12-09 12:33:59,583] Trial 79 finished with value: 0.031570769725896175 and parameters: {'topK': 317, 'shrink': 498, 'similarity': 'jaccard', 'feature_weighting': 'TF-IDF'}. Best is trial 47 with value: 0.034717819798156725.\n"
     ]
    },
    {
     "name": "stdout",
     "output_type": "stream",
     "text": [
      "UserKNNCFRecommender: URM Detected 627 ( 4.8%) users with no interactions.\n",
      "UserKNNCFRecommender: URM Detected 247 ( 1.1%) items with no interactions.\n",
      "Similarity column 13024 (100.0%), 4339.29 column/sec. Elapsed time 3.00 sec\n",
      "EvaluatorHoldout: Processed 10456 (100.0%) in 14.89 sec. Users per second: 702\n"
     ]
    },
    {
     "name": "stderr",
     "output_type": "stream",
     "text": [
      "[I 2023-12-09 12:34:18,014] Trial 80 finished with value: 0.030013552634775224 and parameters: {'topK': 952, 'shrink': 118, 'similarity': 'cosine', 'feature_weighting': 'none'}. Best is trial 47 with value: 0.034717819798156725.\n"
     ]
    },
    {
     "name": "stdout",
     "output_type": "stream",
     "text": [
      "UserKNNCFRecommender: URM Detected 627 ( 4.8%) users with no interactions.\n",
      "UserKNNCFRecommender: URM Detected 247 ( 1.1%) items with no interactions.\n",
      "Similarity column 13024 (100.0%), 4526.64 column/sec. Elapsed time 2.88 sec\n",
      "EvaluatorHoldout: Processed 10456 (100.0%) in 12.08 sec. Users per second: 865\n"
     ]
    },
    {
     "name": "stderr",
     "output_type": "stream",
     "text": [
      "[I 2023-12-09 12:34:33,352] Trial 81 finished with value: 0.03448931121798412 and parameters: {'topK': 350, 'shrink': 327, 'similarity': 'cosine', 'feature_weighting': 'TF-IDF'}. Best is trial 47 with value: 0.034717819798156725.\n"
     ]
    },
    {
     "name": "stdout",
     "output_type": "stream",
     "text": [
      "UserKNNCFRecommender: URM Detected 627 ( 4.8%) users with no interactions.\n",
      "UserKNNCFRecommender: URM Detected 247 ( 1.1%) items with no interactions.\n",
      "Similarity column 13024 (100.0%), 4609.16 column/sec. Elapsed time 2.83 sec\n",
      "EvaluatorHoldout: Processed 10456 (100.0%) in 11.65 sec. Users per second: 898\n"
     ]
    },
    {
     "name": "stderr",
     "output_type": "stream",
     "text": [
      "[I 2023-12-09 12:34:48,180] Trial 82 finished with value: 0.03449049911344322 and parameters: {'topK': 276, 'shrink': 373, 'similarity': 'cosine', 'feature_weighting': 'TF-IDF'}. Best is trial 47 with value: 0.034717819798156725.\n"
     ]
    },
    {
     "name": "stdout",
     "output_type": "stream",
     "text": [
      "UserKNNCFRecommender: URM Detected 627 ( 4.8%) users with no interactions.\n",
      "UserKNNCFRecommender: URM Detected 247 ( 1.1%) items with no interactions.\n",
      "Similarity column 13024 (100.0%), 4563.76 column/sec. Elapsed time 2.85 sec\n",
      "EvaluatorHoldout: Processed 10456 (100.0%) in 11.06 sec. Users per second: 945\n"
     ]
    },
    {
     "name": "stderr",
     "output_type": "stream",
     "text": [
      "[I 2023-12-09 12:35:02,419] Trial 83 finished with value: 0.03410483537970188 and parameters: {'topK': 187, 'shrink': 316, 'similarity': 'cosine', 'feature_weighting': 'TF-IDF'}. Best is trial 47 with value: 0.034717819798156725.\n"
     ]
    },
    {
     "name": "stdout",
     "output_type": "stream",
     "text": [
      "UserKNNCFRecommender: URM Detected 627 ( 4.8%) users with no interactions.\n",
      "UserKNNCFRecommender: URM Detected 247 ( 1.1%) items with no interactions.\n",
      "Similarity column 13024 (100.0%), 4523.57 column/sec. Elapsed time 2.88 sec\n",
      "EvaluatorHoldout: Processed 10456 (100.0%) in 12.75 sec. Users per second: 820\n"
     ]
    },
    {
     "name": "stderr",
     "output_type": "stream",
     "text": [
      "[I 2023-12-09 12:35:18,457] Trial 84 finished with value: 0.034324588449254116 and parameters: {'topK': 463, 'shrink': 335, 'similarity': 'cosine', 'feature_weighting': 'TF-IDF'}. Best is trial 47 with value: 0.034717819798156725.\n"
     ]
    },
    {
     "name": "stdout",
     "output_type": "stream",
     "text": [
      "UserKNNCFRecommender: URM Detected 627 ( 4.8%) users with no interactions.\n",
      "UserKNNCFRecommender: URM Detected 247 ( 1.1%) items with no interactions.\n",
      "Similarity column 13024 (100.0%), 4600.83 column/sec. Elapsed time 2.83 sec\n",
      "EvaluatorHoldout: Processed 10456 (100.0%) in 11.40 sec. Users per second: 918\n"
     ]
    },
    {
     "name": "stderr",
     "output_type": "stream",
     "text": [
      "[I 2023-12-09 12:35:33,023] Trial 85 finished with value: 0.034543130852188256 and parameters: {'topK': 229, 'shrink': 303, 'similarity': 'cosine', 'feature_weighting': 'TF-IDF'}. Best is trial 47 with value: 0.034717819798156725.\n"
     ]
    },
    {
     "name": "stdout",
     "output_type": "stream",
     "text": [
      "UserKNNCFRecommender: URM Detected 627 ( 4.8%) users with no interactions.\n",
      "UserKNNCFRecommender: URM Detected 247 ( 1.1%) items with no interactions.\n",
      "Similarity column 13024 (100.0%), 5115.43 column/sec. Elapsed time 2.55 sec\n",
      "EvaluatorHoldout: Processed 10456 (100.0%) in 11.09 sec. Users per second: 943\n"
     ]
    },
    {
     "name": "stderr",
     "output_type": "stream",
     "text": [
      "[I 2023-12-09 12:35:47,110] Trial 86 finished with value: 0.030948247987029706 and parameters: {'topK': 233, 'shrink': 303, 'similarity': 'dice', 'feature_weighting': 'TF-IDF'}. Best is trial 47 with value: 0.034717819798156725.\n"
     ]
    },
    {
     "name": "stdout",
     "output_type": "stream",
     "text": [
      "UserKNNCFRecommender: URM Detected 627 ( 4.8%) users with no interactions.\n",
      "UserKNNCFRecommender: URM Detected 247 ( 1.1%) items with no interactions.\n",
      "Similarity column 13024 (100.0%), 4709.31 column/sec. Elapsed time 2.77 sec\n",
      "EvaluatorHoldout: Processed 10456 (100.0%) in 10.83 sec. Users per second: 965\n"
     ]
    },
    {
     "name": "stderr",
     "output_type": "stream",
     "text": [
      "[I 2023-12-09 12:36:01,020] Trial 87 finished with value: 0.02020178662513205 and parameters: {'topK': 156, 'shrink': 348, 'similarity': 'cosine', 'feature_weighting': 'BM25'}. Best is trial 47 with value: 0.034717819798156725.\n"
     ]
    },
    {
     "name": "stdout",
     "output_type": "stream",
     "text": [
      "UserKNNCFRecommender: URM Detected 627 ( 4.8%) users with no interactions.\n",
      "UserKNNCFRecommender: URM Detected 247 ( 1.1%) items with no interactions.\n",
      "Similarity column 13024 (100.0%), 4677.17 column/sec. Elapsed time 2.78 sec\n",
      "EvaluatorHoldout: Processed 10456 (100.0%) in 11.08 sec. Users per second: 944\n"
     ]
    },
    {
     "name": "stderr",
     "output_type": "stream",
     "text": [
      "[I 2023-12-09 12:36:15,209] Trial 88 finished with value: 0.03418014719277183 and parameters: {'topK': 199, 'shrink': 223, 'similarity': 'cosine', 'feature_weighting': 'TF-IDF'}. Best is trial 47 with value: 0.034717819798156725.\n"
     ]
    },
    {
     "name": "stdout",
     "output_type": "stream",
     "text": [
      "UserKNNCFRecommender: URM Detected 627 ( 4.8%) users with no interactions.\n",
      "UserKNNCFRecommender: URM Detected 247 ( 1.1%) items with no interactions.\n",
      "Similarity column 13024 (100.0%), 4722.30 column/sec. Elapsed time 2.76 sec\n",
      "EvaluatorHoldout: Processed 10456 (100.0%) in 10.01 sec. Users per second: 1045\n"
     ]
    },
    {
     "name": "stderr",
     "output_type": "stream",
     "text": [
      "[I 2023-12-09 12:36:28,255] Trial 89 finished with value: 0.03040796428875064 and parameters: {'topK': 80, 'shrink': 266, 'similarity': 'cosine', 'feature_weighting': 'TF-IDF'}. Best is trial 47 with value: 0.034717819798156725.\n"
     ]
    },
    {
     "name": "stdout",
     "output_type": "stream",
     "text": [
      "UserKNNCFRecommender: URM Detected 627 ( 4.8%) users with no interactions.\n",
      "UserKNNCFRecommender: URM Detected 247 ( 1.1%) items with no interactions.\n",
      "Similarity column 13024 (100.0%), 4674.24 column/sec. Elapsed time 2.79 sec\n",
      "EvaluatorHoldout: Processed 10456 (100.0%) in 11.55 sec. Users per second: 906\n"
     ]
    },
    {
     "name": "stderr",
     "output_type": "stream",
     "text": [
      "[I 2023-12-09 12:36:42,928] Trial 90 finished with value: 0.034595588012047776 and parameters: {'topK': 272, 'shrink': 297, 'similarity': 'cosine', 'feature_weighting': 'TF-IDF'}. Best is trial 47 with value: 0.034717819798156725.\n"
     ]
    },
    {
     "name": "stdout",
     "output_type": "stream",
     "text": [
      "UserKNNCFRecommender: URM Detected 627 ( 4.8%) users with no interactions.\n",
      "UserKNNCFRecommender: URM Detected 247 ( 1.1%) items with no interactions.\n",
      "Similarity column 13024 (100.0%), 4643.97 column/sec. Elapsed time 2.80 sec\n",
      "EvaluatorHoldout: Processed 10456 (100.0%) in 11.63 sec. Users per second: 899\n"
     ]
    },
    {
     "name": "stderr",
     "output_type": "stream",
     "text": [
      "[I 2023-12-09 12:36:57,708] Trial 91 finished with value: 0.03462922101383314 and parameters: {'topK': 273, 'shrink': 285, 'similarity': 'cosine', 'feature_weighting': 'TF-IDF'}. Best is trial 47 with value: 0.034717819798156725.\n"
     ]
    },
    {
     "name": "stdout",
     "output_type": "stream",
     "text": [
      "UserKNNCFRecommender: URM Detected 627 ( 4.8%) users with no interactions.\n",
      "UserKNNCFRecommender: URM Detected 247 ( 1.1%) items with no interactions.\n",
      "Similarity column 13024 (100.0%), 4625.70 column/sec. Elapsed time 2.82 sec\n",
      "EvaluatorHoldout: Processed 10456 (100.0%) in 11.70 sec. Users per second: 894\n"
     ]
    },
    {
     "name": "stderr",
     "output_type": "stream",
     "text": [
      "[I 2023-12-09 12:37:12,579] Trial 92 finished with value: 0.03477967385628101 and parameters: {'topK': 298, 'shrink': 284, 'similarity': 'cosine', 'feature_weighting': 'TF-IDF'}. Best is trial 92 with value: 0.03477967385628101.\n"
     ]
    },
    {
     "name": "stdout",
     "output_type": "stream",
     "text": [
      "UserKNNCFRecommender: URM Detected 627 ( 4.8%) users with no interactions.\n",
      "UserKNNCFRecommender: URM Detected 247 ( 1.1%) items with no interactions.\n",
      "Similarity column 13024 (100.0%), 4601.48 column/sec. Elapsed time 2.83 sec\n",
      "EvaluatorHoldout: Processed 10456 (100.0%) in 12.03 sec. Users per second: 869\n"
     ]
    },
    {
     "name": "stderr",
     "output_type": "stream",
     "text": [
      "[I 2023-12-09 12:37:27,805] Trial 93 finished with value: 0.03476842110856114 and parameters: {'topK': 329, 'shrink': 281, 'similarity': 'cosine', 'feature_weighting': 'TF-IDF'}. Best is trial 92 with value: 0.03477967385628101.\n"
     ]
    },
    {
     "name": "stdout",
     "output_type": "stream",
     "text": [
      "UserKNNCFRecommender: URM Detected 627 ( 4.8%) users with no interactions.\n",
      "UserKNNCFRecommender: URM Detected 247 ( 1.1%) items with no interactions.\n",
      "Similarity column 13024 (100.0%), 4563.84 column/sec. Elapsed time 2.85 sec\n",
      "EvaluatorHoldout: Processed 10456 (100.0%) in 12.31 sec. Users per second: 850\n"
     ]
    },
    {
     "name": "stderr",
     "output_type": "stream",
     "text": [
      "[I 2023-12-09 12:37:43,348] Trial 94 finished with value: 0.03456115801969897 and parameters: {'topK': 388, 'shrink': 281, 'similarity': 'cosine', 'feature_weighting': 'TF-IDF'}. Best is trial 92 with value: 0.03477967385628101.\n"
     ]
    },
    {
     "name": "stdout",
     "output_type": "stream",
     "text": [
      "UserKNNCFRecommender: URM Detected 627 ( 4.8%) users with no interactions.\n",
      "UserKNNCFRecommender: URM Detected 247 ( 1.1%) items with no interactions.\n",
      "Similarity column 13024 (100.0%), 4593.50 column/sec. Elapsed time 2.84 sec\n",
      "EvaluatorHoldout: Processed 10456 (100.0%) in 12.36 sec. Users per second: 846\n"
     ]
    },
    {
     "name": "stderr",
     "output_type": "stream",
     "text": [
      "[I 2023-12-09 12:37:58,931] Trial 95 finished with value: 0.03451120948251823 and parameters: {'topK': 386, 'shrink': 282, 'similarity': 'cosine', 'feature_weighting': 'TF-IDF'}. Best is trial 92 with value: 0.03477967385628101.\n"
     ]
    },
    {
     "name": "stdout",
     "output_type": "stream",
     "text": [
      "UserKNNCFRecommender: URM Detected 627 ( 4.8%) users with no interactions.\n",
      "UserKNNCFRecommender: URM Detected 247 ( 1.1%) items with no interactions.\n",
      "Similarity column 13024 (100.0%), 4605.67 column/sec. Elapsed time 2.83 sec\n",
      "EvaluatorHoldout: Processed 10456 (100.0%) in 12.08 sec. Users per second: 866\n"
     ]
    },
    {
     "name": "stderr",
     "output_type": "stream",
     "text": [
      "[I 2023-12-09 12:38:14,206] Trial 96 finished with value: 0.03475304678106932 and parameters: {'topK': 335, 'shrink': 247, 'similarity': 'cosine', 'feature_weighting': 'TF-IDF'}. Best is trial 92 with value: 0.03477967385628101.\n"
     ]
    },
    {
     "name": "stdout",
     "output_type": "stream",
     "text": [
      "UserKNNCFRecommender: URM Detected 627 ( 4.8%) users with no interactions.\n",
      "UserKNNCFRecommender: URM Detected 247 ( 1.1%) items with no interactions.\n",
      "Similarity column 13024 (100.0%), 4708.79 column/sec. Elapsed time 2.77 sec\n",
      "EvaluatorHoldout: Processed 10456 (100.0%) in 11.65 sec. Users per second: 898\n"
     ]
    },
    {
     "name": "stderr",
     "output_type": "stream",
     "text": [
      "[I 2023-12-09 12:38:29,036] Trial 97 finished with value: 0.031820929883047626 and parameters: {'topK': 330, 'shrink': 241, 'similarity': 'asymmetric', 'feature_weighting': 'TF-IDF', 'asymmetric_alpha': 0.0394952785774787}. Best is trial 92 with value: 0.03477967385628101.\n"
     ]
    },
    {
     "name": "stdout",
     "output_type": "stream",
     "text": [
      "UserKNNCFRecommender: URM Detected 627 ( 4.8%) users with no interactions.\n",
      "UserKNNCFRecommender: URM Detected 247 ( 1.1%) items with no interactions.\n",
      "Similarity column 13024 (100.0%), 4524.20 column/sec. Elapsed time 2.88 sec\n",
      "EvaluatorHoldout: Processed 10456 (100.0%) in 11.94 sec. Users per second: 875\n"
     ]
    },
    {
     "name": "stderr",
     "output_type": "stream",
     "text": [
      "[I 2023-12-09 12:38:44,234] Trial 98 finished with value: 0.0314316569206109 and parameters: {'topK': 404, 'shrink': 260, 'similarity': 'cosine', 'feature_weighting': 'none'}. Best is trial 92 with value: 0.03477967385628101.\n"
     ]
    },
    {
     "name": "stdout",
     "output_type": "stream",
     "text": [
      "UserKNNCFRecommender: URM Detected 627 ( 4.8%) users with no interactions.\n",
      "UserKNNCFRecommender: URM Detected 247 ( 1.1%) items with no interactions.\n",
      "Similarity column 13024 (100.0%), 4978.46 column/sec. Elapsed time 2.62 sec\n",
      "EvaluatorHoldout: Processed 10456 (100.0%) in 12.27 sec. Users per second: 853\n"
     ]
    },
    {
     "name": "stderr",
     "output_type": "stream",
     "text": [
      "[I 2023-12-09 12:38:59,596] Trial 99 finished with value: 0.03195169705857381 and parameters: {'topK': 437, 'shrink': 200, 'similarity': 'tanimoto', 'feature_weighting': 'TF-IDF'}. Best is trial 92 with value: 0.03477967385628101.\n"
     ]
    },
    {
     "name": "stdout",
     "output_type": "stream",
     "text": [
      "CPU times: user 23min 5s, sys: 2min 36s, total: 25min 41s\n",
      "Wall time: 25min 48s\n"
     ]
    }
   ],
   "source": [
    "%%time\n",
    "\n",
    "if config['tune_parameters_user_knn']:\n",
    "    study = optuna.create_study(direction='maximize', study_name='hyperparameters_tuning_knn_user_no_cv',\n",
    "                                storage=f'sqlite:///{config[\"database_path\"]}', load_if_exists=True)\n",
    "    study.optimize(objective_user_knn, n_trials=100)"
   ]
  },
  {
   "cell_type": "code",
   "execution_count": 24,
   "id": "ff392a37",
   "metadata": {
    "execution": {
     "iopub.execute_input": "2023-12-09T12:38:59.963538Z",
     "iopub.status.busy": "2023-12-09T12:38:59.963101Z",
     "iopub.status.idle": "2023-12-09T12:39:03.007604Z",
     "shell.execute_reply": "2023-12-09T12:39:03.006311Z"
    },
    "papermill": {
     "duration": 3.226358,
     "end_time": "2023-12-09T12:39:03.010205",
     "exception": false,
     "start_time": "2023-12-09T12:38:59.783847",
     "status": "completed"
    },
    "tags": []
   },
   "outputs": [
    {
     "data": {
      "text/html": [
       "<div>                            <div id=\"9ea7ba93-b681-4478-8513-7db20c955aed\" class=\"plotly-graph-div\" style=\"height:525px; width:100%;\"></div>            <script type=\"text/javascript\">                require([\"plotly\"], function(Plotly) {                    window.PLOTLYENV=window.PLOTLYENV || {};                                    if (document.getElementById(\"9ea7ba93-b681-4478-8513-7db20c955aed\")) {                    Plotly.newPlot(                        \"9ea7ba93-b681-4478-8513-7db20c955aed\",                        [{\"cliponaxis\":false,\"hovertemplate\":[\"shrink (IntDistribution): 0.07852091682900895\\u003cextra\\u003e\\u003c\\u002fextra\\u003e\",\"topK (IntDistribution): 0.2134976168068163\\u003cextra\\u003e\\u003c\\u002fextra\\u003e\",\"feature_weighting (CategoricalDistribution): 0.22354730663577174\\u003cextra\\u003e\\u003c\\u002fextra\\u003e\",\"similarity (CategoricalDistribution): 0.4844341597284029\\u003cextra\\u003e\\u003c\\u002fextra\\u003e\"],\"name\":\"Objective Value\",\"orientation\":\"h\",\"text\":[\"0.08\",\"0.21\",\"0.22\",\"0.48\"],\"textposition\":\"outside\",\"x\":[0.07852091682900895,0.2134976168068163,0.22354730663577174,0.4844341597284029],\"y\":[\"shrink\",\"topK\",\"feature_weighting\",\"similarity\"],\"type\":\"bar\"}],                        {\"title\":{\"text\":\"Hyperparameter Importances\"},\"xaxis\":{\"title\":{\"text\":\"Hyperparameter Importance\"}},\"yaxis\":{\"title\":{\"text\":\"Hyperparameter\"}},\"template\":{\"data\":{\"histogram2dcontour\":[{\"type\":\"histogram2dcontour\",\"colorbar\":{\"outlinewidth\":0,\"ticks\":\"\"},\"colorscale\":[[0.0,\"#0d0887\"],[0.1111111111111111,\"#46039f\"],[0.2222222222222222,\"#7201a8\"],[0.3333333333333333,\"#9c179e\"],[0.4444444444444444,\"#bd3786\"],[0.5555555555555556,\"#d8576b\"],[0.6666666666666666,\"#ed7953\"],[0.7777777777777778,\"#fb9f3a\"],[0.8888888888888888,\"#fdca26\"],[1.0,\"#f0f921\"]]}],\"choropleth\":[{\"type\":\"choropleth\",\"colorbar\":{\"outlinewidth\":0,\"ticks\":\"\"}}],\"histogram2d\":[{\"type\":\"histogram2d\",\"colorbar\":{\"outlinewidth\":0,\"ticks\":\"\"},\"colorscale\":[[0.0,\"#0d0887\"],[0.1111111111111111,\"#46039f\"],[0.2222222222222222,\"#7201a8\"],[0.3333333333333333,\"#9c179e\"],[0.4444444444444444,\"#bd3786\"],[0.5555555555555556,\"#d8576b\"],[0.6666666666666666,\"#ed7953\"],[0.7777777777777778,\"#fb9f3a\"],[0.8888888888888888,\"#fdca26\"],[1.0,\"#f0f921\"]]}],\"heatmap\":[{\"type\":\"heatmap\",\"colorbar\":{\"outlinewidth\":0,\"ticks\":\"\"},\"colorscale\":[[0.0,\"#0d0887\"],[0.1111111111111111,\"#46039f\"],[0.2222222222222222,\"#7201a8\"],[0.3333333333333333,\"#9c179e\"],[0.4444444444444444,\"#bd3786\"],[0.5555555555555556,\"#d8576b\"],[0.6666666666666666,\"#ed7953\"],[0.7777777777777778,\"#fb9f3a\"],[0.8888888888888888,\"#fdca26\"],[1.0,\"#f0f921\"]]}],\"heatmapgl\":[{\"type\":\"heatmapgl\",\"colorbar\":{\"outlinewidth\":0,\"ticks\":\"\"},\"colorscale\":[[0.0,\"#0d0887\"],[0.1111111111111111,\"#46039f\"],[0.2222222222222222,\"#7201a8\"],[0.3333333333333333,\"#9c179e\"],[0.4444444444444444,\"#bd3786\"],[0.5555555555555556,\"#d8576b\"],[0.6666666666666666,\"#ed7953\"],[0.7777777777777778,\"#fb9f3a\"],[0.8888888888888888,\"#fdca26\"],[1.0,\"#f0f921\"]]}],\"contourcarpet\":[{\"type\":\"contourcarpet\",\"colorbar\":{\"outlinewidth\":0,\"ticks\":\"\"}}],\"contour\":[{\"type\":\"contour\",\"colorbar\":{\"outlinewidth\":0,\"ticks\":\"\"},\"colorscale\":[[0.0,\"#0d0887\"],[0.1111111111111111,\"#46039f\"],[0.2222222222222222,\"#7201a8\"],[0.3333333333333333,\"#9c179e\"],[0.4444444444444444,\"#bd3786\"],[0.5555555555555556,\"#d8576b\"],[0.6666666666666666,\"#ed7953\"],[0.7777777777777778,\"#fb9f3a\"],[0.8888888888888888,\"#fdca26\"],[1.0,\"#f0f921\"]]}],\"surface\":[{\"type\":\"surface\",\"colorbar\":{\"outlinewidth\":0,\"ticks\":\"\"},\"colorscale\":[[0.0,\"#0d0887\"],[0.1111111111111111,\"#46039f\"],[0.2222222222222222,\"#7201a8\"],[0.3333333333333333,\"#9c179e\"],[0.4444444444444444,\"#bd3786\"],[0.5555555555555556,\"#d8576b\"],[0.6666666666666666,\"#ed7953\"],[0.7777777777777778,\"#fb9f3a\"],[0.8888888888888888,\"#fdca26\"],[1.0,\"#f0f921\"]]}],\"mesh3d\":[{\"type\":\"mesh3d\",\"colorbar\":{\"outlinewidth\":0,\"ticks\":\"\"}}],\"scatter\":[{\"fillpattern\":{\"fillmode\":\"overlay\",\"size\":10,\"solidity\":0.2},\"type\":\"scatter\"}],\"parcoords\":[{\"type\":\"parcoords\",\"line\":{\"colorbar\":{\"outlinewidth\":0,\"ticks\":\"\"}}}],\"scatterpolargl\":[{\"type\":\"scatterpolargl\",\"marker\":{\"colorbar\":{\"outlinewidth\":0,\"ticks\":\"\"}}}],\"bar\":[{\"error_x\":{\"color\":\"#2a3f5f\"},\"error_y\":{\"color\":\"#2a3f5f\"},\"marker\":{\"line\":{\"color\":\"#E5ECF6\",\"width\":0.5},\"pattern\":{\"fillmode\":\"overlay\",\"size\":10,\"solidity\":0.2}},\"type\":\"bar\"}],\"scattergeo\":[{\"type\":\"scattergeo\",\"marker\":{\"colorbar\":{\"outlinewidth\":0,\"ticks\":\"\"}}}],\"scatterpolar\":[{\"type\":\"scatterpolar\",\"marker\":{\"colorbar\":{\"outlinewidth\":0,\"ticks\":\"\"}}}],\"histogram\":[{\"marker\":{\"pattern\":{\"fillmode\":\"overlay\",\"size\":10,\"solidity\":0.2}},\"type\":\"histogram\"}],\"scattergl\":[{\"type\":\"scattergl\",\"marker\":{\"colorbar\":{\"outlinewidth\":0,\"ticks\":\"\"}}}],\"scatter3d\":[{\"type\":\"scatter3d\",\"line\":{\"colorbar\":{\"outlinewidth\":0,\"ticks\":\"\"}},\"marker\":{\"colorbar\":{\"outlinewidth\":0,\"ticks\":\"\"}}}],\"scattermapbox\":[{\"type\":\"scattermapbox\",\"marker\":{\"colorbar\":{\"outlinewidth\":0,\"ticks\":\"\"}}}],\"scatterternary\":[{\"type\":\"scatterternary\",\"marker\":{\"colorbar\":{\"outlinewidth\":0,\"ticks\":\"\"}}}],\"scattercarpet\":[{\"type\":\"scattercarpet\",\"marker\":{\"colorbar\":{\"outlinewidth\":0,\"ticks\":\"\"}}}],\"carpet\":[{\"aaxis\":{\"endlinecolor\":\"#2a3f5f\",\"gridcolor\":\"white\",\"linecolor\":\"white\",\"minorgridcolor\":\"white\",\"startlinecolor\":\"#2a3f5f\"},\"baxis\":{\"endlinecolor\":\"#2a3f5f\",\"gridcolor\":\"white\",\"linecolor\":\"white\",\"minorgridcolor\":\"white\",\"startlinecolor\":\"#2a3f5f\"},\"type\":\"carpet\"}],\"table\":[{\"cells\":{\"fill\":{\"color\":\"#EBF0F8\"},\"line\":{\"color\":\"white\"}},\"header\":{\"fill\":{\"color\":\"#C8D4E3\"},\"line\":{\"color\":\"white\"}},\"type\":\"table\"}],\"barpolar\":[{\"marker\":{\"line\":{\"color\":\"#E5ECF6\",\"width\":0.5},\"pattern\":{\"fillmode\":\"overlay\",\"size\":10,\"solidity\":0.2}},\"type\":\"barpolar\"}],\"pie\":[{\"automargin\":true,\"type\":\"pie\"}]},\"layout\":{\"autotypenumbers\":\"strict\",\"colorway\":[\"#636efa\",\"#EF553B\",\"#00cc96\",\"#ab63fa\",\"#FFA15A\",\"#19d3f3\",\"#FF6692\",\"#B6E880\",\"#FF97FF\",\"#FECB52\"],\"font\":{\"color\":\"#2a3f5f\"},\"hovermode\":\"closest\",\"hoverlabel\":{\"align\":\"left\"},\"paper_bgcolor\":\"white\",\"plot_bgcolor\":\"#E5ECF6\",\"polar\":{\"bgcolor\":\"#E5ECF6\",\"angularaxis\":{\"gridcolor\":\"white\",\"linecolor\":\"white\",\"ticks\":\"\"},\"radialaxis\":{\"gridcolor\":\"white\",\"linecolor\":\"white\",\"ticks\":\"\"}},\"ternary\":{\"bgcolor\":\"#E5ECF6\",\"aaxis\":{\"gridcolor\":\"white\",\"linecolor\":\"white\",\"ticks\":\"\"},\"baxis\":{\"gridcolor\":\"white\",\"linecolor\":\"white\",\"ticks\":\"\"},\"caxis\":{\"gridcolor\":\"white\",\"linecolor\":\"white\",\"ticks\":\"\"}},\"coloraxis\":{\"colorbar\":{\"outlinewidth\":0,\"ticks\":\"\"}},\"colorscale\":{\"sequential\":[[0.0,\"#0d0887\"],[0.1111111111111111,\"#46039f\"],[0.2222222222222222,\"#7201a8\"],[0.3333333333333333,\"#9c179e\"],[0.4444444444444444,\"#bd3786\"],[0.5555555555555556,\"#d8576b\"],[0.6666666666666666,\"#ed7953\"],[0.7777777777777778,\"#fb9f3a\"],[0.8888888888888888,\"#fdca26\"],[1.0,\"#f0f921\"]],\"sequentialminus\":[[0.0,\"#0d0887\"],[0.1111111111111111,\"#46039f\"],[0.2222222222222222,\"#7201a8\"],[0.3333333333333333,\"#9c179e\"],[0.4444444444444444,\"#bd3786\"],[0.5555555555555556,\"#d8576b\"],[0.6666666666666666,\"#ed7953\"],[0.7777777777777778,\"#fb9f3a\"],[0.8888888888888888,\"#fdca26\"],[1.0,\"#f0f921\"]],\"diverging\":[[0,\"#8e0152\"],[0.1,\"#c51b7d\"],[0.2,\"#de77ae\"],[0.3,\"#f1b6da\"],[0.4,\"#fde0ef\"],[0.5,\"#f7f7f7\"],[0.6,\"#e6f5d0\"],[0.7,\"#b8e186\"],[0.8,\"#7fbc41\"],[0.9,\"#4d9221\"],[1,\"#276419\"]]},\"xaxis\":{\"gridcolor\":\"white\",\"linecolor\":\"white\",\"ticks\":\"\",\"title\":{\"standoff\":15},\"zerolinecolor\":\"white\",\"automargin\":true,\"zerolinewidth\":2},\"yaxis\":{\"gridcolor\":\"white\",\"linecolor\":\"white\",\"ticks\":\"\",\"title\":{\"standoff\":15},\"zerolinecolor\":\"white\",\"automargin\":true,\"zerolinewidth\":2},\"scene\":{\"xaxis\":{\"backgroundcolor\":\"#E5ECF6\",\"gridcolor\":\"white\",\"linecolor\":\"white\",\"showbackground\":true,\"ticks\":\"\",\"zerolinecolor\":\"white\",\"gridwidth\":2},\"yaxis\":{\"backgroundcolor\":\"#E5ECF6\",\"gridcolor\":\"white\",\"linecolor\":\"white\",\"showbackground\":true,\"ticks\":\"\",\"zerolinecolor\":\"white\",\"gridwidth\":2},\"zaxis\":{\"backgroundcolor\":\"#E5ECF6\",\"gridcolor\":\"white\",\"linecolor\":\"white\",\"showbackground\":true,\"ticks\":\"\",\"zerolinecolor\":\"white\",\"gridwidth\":2}},\"shapedefaults\":{\"line\":{\"color\":\"#2a3f5f\"}},\"annotationdefaults\":{\"arrowcolor\":\"#2a3f5f\",\"arrowhead\":0,\"arrowwidth\":1},\"geo\":{\"bgcolor\":\"white\",\"landcolor\":\"#E5ECF6\",\"subunitcolor\":\"white\",\"showland\":true,\"showlakes\":true,\"lakecolor\":\"white\"},\"title\":{\"x\":0.05},\"mapbox\":{\"style\":\"light\"}}}},                        {\"responsive\": true}                    ).then(function(){\n",
       "                            \n",
       "var gd = document.getElementById('9ea7ba93-b681-4478-8513-7db20c955aed');\n",
       "var x = new MutationObserver(function (mutations, observer) {{\n",
       "        var display = window.getComputedStyle(gd).display;\n",
       "        if (!display || display === 'none') {{\n",
       "            console.log([gd, 'removed!']);\n",
       "            Plotly.purge(gd);\n",
       "            observer.disconnect();\n",
       "        }}\n",
       "}});\n",
       "\n",
       "// Listen for the removal of the full notebook cells\n",
       "var notebookContainer = gd.closest('#notebook-container');\n",
       "if (notebookContainer) {{\n",
       "    x.observe(notebookContainer, {childList: true});\n",
       "}}\n",
       "\n",
       "// Listen for the clearing of the current output cell\n",
       "var outputEl = gd.closest('.output');\n",
       "if (outputEl) {{\n",
       "    x.observe(outputEl, {childList: true});\n",
       "}}\n",
       "\n",
       "                        })                };                });            </script>        </div>"
      ]
     },
     "metadata": {},
     "output_type": "display_data"
    }
   ],
   "source": [
    "if config['tune_parameters_user_knn']:\n",
    "    fig = optuna.visualization.plot_param_importances(study)\n",
    "    fig.show()"
   ]
  },
  {
   "cell_type": "code",
   "execution_count": 25,
   "id": "762057a4",
   "metadata": {
    "execution": {
     "iopub.execute_input": "2023-12-09T12:39:03.372527Z",
     "iopub.status.busy": "2023-12-09T12:39:03.372045Z",
     "iopub.status.idle": "2023-12-09T12:39:03.414158Z",
     "shell.execute_reply": "2023-12-09T12:39:03.412851Z"
    },
    "papermill": {
     "duration": 0.228196,
     "end_time": "2023-12-09T12:39:03.417067",
     "exception": false,
     "start_time": "2023-12-09T12:39:03.188871",
     "status": "completed"
    },
    "tags": []
   },
   "outputs": [
    {
     "data": {
      "text/html": [
       "<div>                            <div id=\"c754f119-327f-4065-a7f1-a04535a26608\" class=\"plotly-graph-div\" style=\"height:525px; width:100%;\"></div>            <script type=\"text/javascript\">                require([\"plotly\"], function(Plotly) {                    window.PLOTLYENV=window.PLOTLYENV || {};                                    if (document.getElementById(\"c754f119-327f-4065-a7f1-a04535a26608\")) {                    Plotly.newPlot(                        \"c754f119-327f-4065-a7f1-a04535a26608\",                        [{\"mode\":\"markers\",\"name\":\"Objective Value\",\"x\":[0,1,2,3,4,5,6,7,8,9,10,11,12,13,14,15,16,17,18,19,20,21,22,23,24,25,26,27,28,29,30,31,32,33,34,35,36,37,38,39,40,41,42,43,44,45,46,47,48,49,50,51,52,53,54,55,56,57,58,59,60,61,62,63,64,65,66,67,68,69,70,71,72,73,74,75,76,77,78,79,80,81,82,83,84,85,86,87,88,89,90,91,92,93,94,95,96,97,98,99],\"y\":[0.030309619448391733,0.029586665512928156,0.030650909783704598,0.013049779271565748,0.03183519601413657,0.02371091710083679,0.02013872569558299,0.031454841755626274,0.025340322561057067,0.03075911833108674,0.02980186435068826,0.03149101374163567,0.026009468247896097,0.031855591382179235,0.0311141776271848,0.031821753439963345,0.03166119779332326,0.030394218099124664,0.020152805862207142,0.0010789468490788304,0.03176794898653198,0.031912003133311655,0.031275275986446846,0.031682185211498785,0.031745306864138484,0.02284282738854276,0.030789100357051975,0.03128072208863162,0.025772777231270094,0.029267337960432994,0.01991787961040061,0.031727378371649836,0.03015677563425289,0.03186735648097566,0.03461211607826022,0.034495827564640175,0.028465664128441696,0.03377448658626967,0.029482339448148723,0.031792200270825265,0.015680622350955117,0.03457761018204815,0.03444682403055627,0.01639231215311929,0.03361513781105426,0.03038927296243687,0.03157912294604176,0.034717819798156725,0.034435707909790204,0.030548572400141076,0.03453627293814781,0.03444842180687666,0.03454530549786897,0.03439911465734005,0.031212833673382834,0.033312493927691235,0.02225760480805424,0.0344228004578525,0.03169110771061837,0.03274142741769009,0.030749804927071852,0.0344957288896179,0.03451574473834451,0.03456048627050966,0.03157985541832159,0.031859063983920896,0.0010749467154880306,0.03453680806038344,0.034444178780923713,0.02236614353724142,0.02827245084465834,0.03448232426737626,0.03460478376507479,0.033761377989094433,0.034448865844476394,0.034518018059047494,0.03173739388639944,0.02927558491516999,0.03438707250944282,0.031570769725896175,0.030013552634775224,0.03448931121798412,0.03449049911344322,0.03410483537970188,0.034324588449254116,0.034543130852188256,0.030948247987029706,0.02020178662513205,0.03418014719277183,0.03040796428875064,0.034595588012047776,0.03462922101383314,0.03477967385628101,0.03476842110856114,0.03456115801969897,0.03451120948251823,0.03475304678106932,0.031820929883047626,0.0314316569206109,0.03195169705857381],\"type\":\"scatter\"},{\"mode\":\"lines\",\"name\":\"Best Value\",\"x\":[0,1,2,3,4,5,6,7,8,9,10,11,12,13,14,15,16,17,18,19,20,21,22,23,24,25,26,27,28,29,30,31,32,33,34,35,36,37,38,39,40,41,42,43,44,45,46,47,48,49,50,51,52,53,54,55,56,57,58,59,60,61,62,63,64,65,66,67,68,69,70,71,72,73,74,75,76,77,78,79,80,81,82,83,84,85,86,87,88,89,90,91,92,93,94,95,96,97,98,99],\"y\":[0.030309619448391733,0.030309619448391733,0.030650909783704598,0.030650909783704598,0.03183519601413657,0.03183519601413657,0.03183519601413657,0.03183519601413657,0.03183519601413657,0.03183519601413657,0.03183519601413657,0.03183519601413657,0.03183519601413657,0.031855591382179235,0.031855591382179235,0.031855591382179235,0.031855591382179235,0.031855591382179235,0.031855591382179235,0.031855591382179235,0.031855591382179235,0.031912003133311655,0.031912003133311655,0.031912003133311655,0.031912003133311655,0.031912003133311655,0.031912003133311655,0.031912003133311655,0.031912003133311655,0.031912003133311655,0.031912003133311655,0.031912003133311655,0.031912003133311655,0.031912003133311655,0.03461211607826022,0.03461211607826022,0.03461211607826022,0.03461211607826022,0.03461211607826022,0.03461211607826022,0.03461211607826022,0.03461211607826022,0.03461211607826022,0.03461211607826022,0.03461211607826022,0.03461211607826022,0.03461211607826022,0.034717819798156725,0.034717819798156725,0.034717819798156725,0.034717819798156725,0.034717819798156725,0.034717819798156725,0.034717819798156725,0.034717819798156725,0.034717819798156725,0.034717819798156725,0.034717819798156725,0.034717819798156725,0.034717819798156725,0.034717819798156725,0.034717819798156725,0.034717819798156725,0.034717819798156725,0.034717819798156725,0.034717819798156725,0.034717819798156725,0.034717819798156725,0.034717819798156725,0.034717819798156725,0.034717819798156725,0.034717819798156725,0.034717819798156725,0.034717819798156725,0.034717819798156725,0.034717819798156725,0.034717819798156725,0.034717819798156725,0.034717819798156725,0.034717819798156725,0.034717819798156725,0.034717819798156725,0.034717819798156725,0.034717819798156725,0.034717819798156725,0.034717819798156725,0.034717819798156725,0.034717819798156725,0.034717819798156725,0.034717819798156725,0.034717819798156725,0.034717819798156725,0.03477967385628101,0.03477967385628101,0.03477967385628101,0.03477967385628101,0.03477967385628101,0.03477967385628101,0.03477967385628101,0.03477967385628101],\"type\":\"scatter\"},{\"marker\":{\"color\":\"#cccccc\"},\"mode\":\"markers\",\"name\":\"Infeasible Trial\",\"showlegend\":false,\"x\":[],\"y\":[],\"type\":\"scatter\"}],                        {\"title\":{\"text\":\"Optimization History Plot\"},\"xaxis\":{\"title\":{\"text\":\"Trial\"}},\"yaxis\":{\"title\":{\"text\":\"Objective Value\"}},\"template\":{\"data\":{\"histogram2dcontour\":[{\"type\":\"histogram2dcontour\",\"colorbar\":{\"outlinewidth\":0,\"ticks\":\"\"},\"colorscale\":[[0.0,\"#0d0887\"],[0.1111111111111111,\"#46039f\"],[0.2222222222222222,\"#7201a8\"],[0.3333333333333333,\"#9c179e\"],[0.4444444444444444,\"#bd3786\"],[0.5555555555555556,\"#d8576b\"],[0.6666666666666666,\"#ed7953\"],[0.7777777777777778,\"#fb9f3a\"],[0.8888888888888888,\"#fdca26\"],[1.0,\"#f0f921\"]]}],\"choropleth\":[{\"type\":\"choropleth\",\"colorbar\":{\"outlinewidth\":0,\"ticks\":\"\"}}],\"histogram2d\":[{\"type\":\"histogram2d\",\"colorbar\":{\"outlinewidth\":0,\"ticks\":\"\"},\"colorscale\":[[0.0,\"#0d0887\"],[0.1111111111111111,\"#46039f\"],[0.2222222222222222,\"#7201a8\"],[0.3333333333333333,\"#9c179e\"],[0.4444444444444444,\"#bd3786\"],[0.5555555555555556,\"#d8576b\"],[0.6666666666666666,\"#ed7953\"],[0.7777777777777778,\"#fb9f3a\"],[0.8888888888888888,\"#fdca26\"],[1.0,\"#f0f921\"]]}],\"heatmap\":[{\"type\":\"heatmap\",\"colorbar\":{\"outlinewidth\":0,\"ticks\":\"\"},\"colorscale\":[[0.0,\"#0d0887\"],[0.1111111111111111,\"#46039f\"],[0.2222222222222222,\"#7201a8\"],[0.3333333333333333,\"#9c179e\"],[0.4444444444444444,\"#bd3786\"],[0.5555555555555556,\"#d8576b\"],[0.6666666666666666,\"#ed7953\"],[0.7777777777777778,\"#fb9f3a\"],[0.8888888888888888,\"#fdca26\"],[1.0,\"#f0f921\"]]}],\"heatmapgl\":[{\"type\":\"heatmapgl\",\"colorbar\":{\"outlinewidth\":0,\"ticks\":\"\"},\"colorscale\":[[0.0,\"#0d0887\"],[0.1111111111111111,\"#46039f\"],[0.2222222222222222,\"#7201a8\"],[0.3333333333333333,\"#9c179e\"],[0.4444444444444444,\"#bd3786\"],[0.5555555555555556,\"#d8576b\"],[0.6666666666666666,\"#ed7953\"],[0.7777777777777778,\"#fb9f3a\"],[0.8888888888888888,\"#fdca26\"],[1.0,\"#f0f921\"]]}],\"contourcarpet\":[{\"type\":\"contourcarpet\",\"colorbar\":{\"outlinewidth\":0,\"ticks\":\"\"}}],\"contour\":[{\"type\":\"contour\",\"colorbar\":{\"outlinewidth\":0,\"ticks\":\"\"},\"colorscale\":[[0.0,\"#0d0887\"],[0.1111111111111111,\"#46039f\"],[0.2222222222222222,\"#7201a8\"],[0.3333333333333333,\"#9c179e\"],[0.4444444444444444,\"#bd3786\"],[0.5555555555555556,\"#d8576b\"],[0.6666666666666666,\"#ed7953\"],[0.7777777777777778,\"#fb9f3a\"],[0.8888888888888888,\"#fdca26\"],[1.0,\"#f0f921\"]]}],\"surface\":[{\"type\":\"surface\",\"colorbar\":{\"outlinewidth\":0,\"ticks\":\"\"},\"colorscale\":[[0.0,\"#0d0887\"],[0.1111111111111111,\"#46039f\"],[0.2222222222222222,\"#7201a8\"],[0.3333333333333333,\"#9c179e\"],[0.4444444444444444,\"#bd3786\"],[0.5555555555555556,\"#d8576b\"],[0.6666666666666666,\"#ed7953\"],[0.7777777777777778,\"#fb9f3a\"],[0.8888888888888888,\"#fdca26\"],[1.0,\"#f0f921\"]]}],\"mesh3d\":[{\"type\":\"mesh3d\",\"colorbar\":{\"outlinewidth\":0,\"ticks\":\"\"}}],\"scatter\":[{\"fillpattern\":{\"fillmode\":\"overlay\",\"size\":10,\"solidity\":0.2},\"type\":\"scatter\"}],\"parcoords\":[{\"type\":\"parcoords\",\"line\":{\"colorbar\":{\"outlinewidth\":0,\"ticks\":\"\"}}}],\"scatterpolargl\":[{\"type\":\"scatterpolargl\",\"marker\":{\"colorbar\":{\"outlinewidth\":0,\"ticks\":\"\"}}}],\"bar\":[{\"error_x\":{\"color\":\"#2a3f5f\"},\"error_y\":{\"color\":\"#2a3f5f\"},\"marker\":{\"line\":{\"color\":\"#E5ECF6\",\"width\":0.5},\"pattern\":{\"fillmode\":\"overlay\",\"size\":10,\"solidity\":0.2}},\"type\":\"bar\"}],\"scattergeo\":[{\"type\":\"scattergeo\",\"marker\":{\"colorbar\":{\"outlinewidth\":0,\"ticks\":\"\"}}}],\"scatterpolar\":[{\"type\":\"scatterpolar\",\"marker\":{\"colorbar\":{\"outlinewidth\":0,\"ticks\":\"\"}}}],\"histogram\":[{\"marker\":{\"pattern\":{\"fillmode\":\"overlay\",\"size\":10,\"solidity\":0.2}},\"type\":\"histogram\"}],\"scattergl\":[{\"type\":\"scattergl\",\"marker\":{\"colorbar\":{\"outlinewidth\":0,\"ticks\":\"\"}}}],\"scatter3d\":[{\"type\":\"scatter3d\",\"line\":{\"colorbar\":{\"outlinewidth\":0,\"ticks\":\"\"}},\"marker\":{\"colorbar\":{\"outlinewidth\":0,\"ticks\":\"\"}}}],\"scattermapbox\":[{\"type\":\"scattermapbox\",\"marker\":{\"colorbar\":{\"outlinewidth\":0,\"ticks\":\"\"}}}],\"scatterternary\":[{\"type\":\"scatterternary\",\"marker\":{\"colorbar\":{\"outlinewidth\":0,\"ticks\":\"\"}}}],\"scattercarpet\":[{\"type\":\"scattercarpet\",\"marker\":{\"colorbar\":{\"outlinewidth\":0,\"ticks\":\"\"}}}],\"carpet\":[{\"aaxis\":{\"endlinecolor\":\"#2a3f5f\",\"gridcolor\":\"white\",\"linecolor\":\"white\",\"minorgridcolor\":\"white\",\"startlinecolor\":\"#2a3f5f\"},\"baxis\":{\"endlinecolor\":\"#2a3f5f\",\"gridcolor\":\"white\",\"linecolor\":\"white\",\"minorgridcolor\":\"white\",\"startlinecolor\":\"#2a3f5f\"},\"type\":\"carpet\"}],\"table\":[{\"cells\":{\"fill\":{\"color\":\"#EBF0F8\"},\"line\":{\"color\":\"white\"}},\"header\":{\"fill\":{\"color\":\"#C8D4E3\"},\"line\":{\"color\":\"white\"}},\"type\":\"table\"}],\"barpolar\":[{\"marker\":{\"line\":{\"color\":\"#E5ECF6\",\"width\":0.5},\"pattern\":{\"fillmode\":\"overlay\",\"size\":10,\"solidity\":0.2}},\"type\":\"barpolar\"}],\"pie\":[{\"automargin\":true,\"type\":\"pie\"}]},\"layout\":{\"autotypenumbers\":\"strict\",\"colorway\":[\"#636efa\",\"#EF553B\",\"#00cc96\",\"#ab63fa\",\"#FFA15A\",\"#19d3f3\",\"#FF6692\",\"#B6E880\",\"#FF97FF\",\"#FECB52\"],\"font\":{\"color\":\"#2a3f5f\"},\"hovermode\":\"closest\",\"hoverlabel\":{\"align\":\"left\"},\"paper_bgcolor\":\"white\",\"plot_bgcolor\":\"#E5ECF6\",\"polar\":{\"bgcolor\":\"#E5ECF6\",\"angularaxis\":{\"gridcolor\":\"white\",\"linecolor\":\"white\",\"ticks\":\"\"},\"radialaxis\":{\"gridcolor\":\"white\",\"linecolor\":\"white\",\"ticks\":\"\"}},\"ternary\":{\"bgcolor\":\"#E5ECF6\",\"aaxis\":{\"gridcolor\":\"white\",\"linecolor\":\"white\",\"ticks\":\"\"},\"baxis\":{\"gridcolor\":\"white\",\"linecolor\":\"white\",\"ticks\":\"\"},\"caxis\":{\"gridcolor\":\"white\",\"linecolor\":\"white\",\"ticks\":\"\"}},\"coloraxis\":{\"colorbar\":{\"outlinewidth\":0,\"ticks\":\"\"}},\"colorscale\":{\"sequential\":[[0.0,\"#0d0887\"],[0.1111111111111111,\"#46039f\"],[0.2222222222222222,\"#7201a8\"],[0.3333333333333333,\"#9c179e\"],[0.4444444444444444,\"#bd3786\"],[0.5555555555555556,\"#d8576b\"],[0.6666666666666666,\"#ed7953\"],[0.7777777777777778,\"#fb9f3a\"],[0.8888888888888888,\"#fdca26\"],[1.0,\"#f0f921\"]],\"sequentialminus\":[[0.0,\"#0d0887\"],[0.1111111111111111,\"#46039f\"],[0.2222222222222222,\"#7201a8\"],[0.3333333333333333,\"#9c179e\"],[0.4444444444444444,\"#bd3786\"],[0.5555555555555556,\"#d8576b\"],[0.6666666666666666,\"#ed7953\"],[0.7777777777777778,\"#fb9f3a\"],[0.8888888888888888,\"#fdca26\"],[1.0,\"#f0f921\"]],\"diverging\":[[0,\"#8e0152\"],[0.1,\"#c51b7d\"],[0.2,\"#de77ae\"],[0.3,\"#f1b6da\"],[0.4,\"#fde0ef\"],[0.5,\"#f7f7f7\"],[0.6,\"#e6f5d0\"],[0.7,\"#b8e186\"],[0.8,\"#7fbc41\"],[0.9,\"#4d9221\"],[1,\"#276419\"]]},\"xaxis\":{\"gridcolor\":\"white\",\"linecolor\":\"white\",\"ticks\":\"\",\"title\":{\"standoff\":15},\"zerolinecolor\":\"white\",\"automargin\":true,\"zerolinewidth\":2},\"yaxis\":{\"gridcolor\":\"white\",\"linecolor\":\"white\",\"ticks\":\"\",\"title\":{\"standoff\":15},\"zerolinecolor\":\"white\",\"automargin\":true,\"zerolinewidth\":2},\"scene\":{\"xaxis\":{\"backgroundcolor\":\"#E5ECF6\",\"gridcolor\":\"white\",\"linecolor\":\"white\",\"showbackground\":true,\"ticks\":\"\",\"zerolinecolor\":\"white\",\"gridwidth\":2},\"yaxis\":{\"backgroundcolor\":\"#E5ECF6\",\"gridcolor\":\"white\",\"linecolor\":\"white\",\"showbackground\":true,\"ticks\":\"\",\"zerolinecolor\":\"white\",\"gridwidth\":2},\"zaxis\":{\"backgroundcolor\":\"#E5ECF6\",\"gridcolor\":\"white\",\"linecolor\":\"white\",\"showbackground\":true,\"ticks\":\"\",\"zerolinecolor\":\"white\",\"gridwidth\":2}},\"shapedefaults\":{\"line\":{\"color\":\"#2a3f5f\"}},\"annotationdefaults\":{\"arrowcolor\":\"#2a3f5f\",\"arrowhead\":0,\"arrowwidth\":1},\"geo\":{\"bgcolor\":\"white\",\"landcolor\":\"#E5ECF6\",\"subunitcolor\":\"white\",\"showland\":true,\"showlakes\":true,\"lakecolor\":\"white\"},\"title\":{\"x\":0.05},\"mapbox\":{\"style\":\"light\"}}}},                        {\"responsive\": true}                    ).then(function(){\n",
       "                            \n",
       "var gd = document.getElementById('c754f119-327f-4065-a7f1-a04535a26608');\n",
       "var x = new MutationObserver(function (mutations, observer) {{\n",
       "        var display = window.getComputedStyle(gd).display;\n",
       "        if (!display || display === 'none') {{\n",
       "            console.log([gd, 'removed!']);\n",
       "            Plotly.purge(gd);\n",
       "            observer.disconnect();\n",
       "        }}\n",
       "}});\n",
       "\n",
       "// Listen for the removal of the full notebook cells\n",
       "var notebookContainer = gd.closest('#notebook-container');\n",
       "if (notebookContainer) {{\n",
       "    x.observe(notebookContainer, {childList: true});\n",
       "}}\n",
       "\n",
       "// Listen for the clearing of the current output cell\n",
       "var outputEl = gd.closest('.output');\n",
       "if (outputEl) {{\n",
       "    x.observe(outputEl, {childList: true});\n",
       "}}\n",
       "\n",
       "                        })                };                });            </script>        </div>"
      ]
     },
     "metadata": {},
     "output_type": "display_data"
    }
   ],
   "source": [
    "if config['tune_parameters_user_knn']:\n",
    "    fig = optuna.visualization.plot_optimization_history(study)\n",
    "    fig.show()"
   ]
  },
  {
   "cell_type": "code",
   "execution_count": 26,
   "id": "56b90e24",
   "metadata": {
    "execution": {
     "iopub.execute_input": "2023-12-09T12:39:03.782842Z",
     "iopub.status.busy": "2023-12-09T12:39:03.782049Z",
     "iopub.status.idle": "2023-12-09T12:39:03.963079Z",
     "shell.execute_reply": "2023-12-09T12:39:03.961837Z"
    },
    "papermill": {
     "duration": 0.366001,
     "end_time": "2023-12-09T12:39:03.965666",
     "exception": false,
     "start_time": "2023-12-09T12:39:03.599665",
     "status": "completed"
    },
    "tags": []
   },
   "outputs": [
    {
     "data": {
      "text/html": [
       "<div>                            <div id=\"6b57e342-9bb8-43d6-826d-0e2b6006ff8e\" class=\"plotly-graph-div\" style=\"height:525px; width:3000px;\"></div>            <script type=\"text/javascript\">                require([\"plotly\"], function(Plotly) {                    window.PLOTLYENV=window.PLOTLYENV || {};                                    if (document.getElementById(\"6b57e342-9bb8-43d6-826d-0e2b6006ff8e\")) {                    Plotly.newPlot(                        \"6b57e342-9bb8-43d6-826d-0e2b6006ff8e\",                        [{\"marker\":{\"color\":[3,18,28,59,70,97],\"colorbar\":{\"title\":{\"text\":\"Trial\"},\"x\":1.0,\"xpad\":40},\"colorscale\":[[0.0,\"rgb(247,251,255)\"],[0.125,\"rgb(222,235,247)\"],[0.25,\"rgb(198,219,239)\"],[0.375,\"rgb(158,202,225)\"],[0.5,\"rgb(107,174,214)\"],[0.625,\"rgb(66,146,198)\"],[0.75,\"rgb(33,113,181)\"],[0.875,\"rgb(8,81,156)\"],[1.0,\"rgb(8,48,107)\"]],\"line\":{\"color\":\"Grey\",\"width\":0.5},\"showscale\":true},\"mode\":\"markers\",\"name\":\"Feasible Trial\",\"showlegend\":false,\"x\":[1.6858104385814947,0.021011901836283986,1.9949201017369653,0.7705029231711649,1.1409198648831926,0.0394952785774787],\"y\":[0.013049779271565748,0.020152805862207142,0.025772777231270094,0.03274142741769009,0.02827245084465834,0.031820929883047626],\"type\":\"scatter\",\"xaxis\":\"x\",\"yaxis\":\"y\"},{\"marker\":{\"color\":[0,1,2,3,4,5,6,7,8,9,10,11,12,13,14,15,16,17,18,19,20,21,22,23,24,25,26,27,28,29,30,31,32,33,34,35,36,37,38,39,40,41,42,43,44,45,46,47,48,49,50,51,52,53,54,55,56,57,58,59,60,61,62,63,64,65,66,67,68,69,70,71,72,73,74,75,76,77,78,79,80,81,82,83,84,85,86,87,88,89,90,91,92,93,94,95,96,97,98,99],\"colorbar\":{\"title\":{\"text\":\"Trial\"},\"x\":1.0,\"xpad\":40},\"colorscale\":[[0.0,\"rgb(247,251,255)\"],[0.125,\"rgb(222,235,247)\"],[0.25,\"rgb(198,219,239)\"],[0.375,\"rgb(158,202,225)\"],[0.5,\"rgb(107,174,214)\"],[0.625,\"rgb(66,146,198)\"],[0.75,\"rgb(33,113,181)\"],[0.875,\"rgb(8,81,156)\"],[1.0,\"rgb(8,48,107)\"]],\"line\":{\"color\":\"Grey\",\"width\":0.5},\"showscale\":false},\"mode\":\"markers\",\"name\":\"Feasible Trial\",\"showlegend\":false,\"x\":[\"TF-IDF\",\"none\",\"none\",\"TF-IDF\",\"TF-IDF\",\"BM25\",\"none\",\"none\",\"BM25\",\"TF-IDF\",\"TF-IDF\",\"none\",\"none\",\"TF-IDF\",\"TF-IDF\",\"TF-IDF\",\"TF-IDF\",\"TF-IDF\",\"BM25\",\"TF-IDF\",\"TF-IDF\",\"TF-IDF\",\"TF-IDF\",\"TF-IDF\",\"TF-IDF\",\"BM25\",\"TF-IDF\",\"TF-IDF\",\"TF-IDF\",\"TF-IDF\",\"BM25\",\"TF-IDF\",\"TF-IDF\",\"TF-IDF\",\"TF-IDF\",\"TF-IDF\",\"TF-IDF\",\"TF-IDF\",\"none\",\"TF-IDF\",\"BM25\",\"TF-IDF\",\"TF-IDF\",\"TF-IDF\",\"TF-IDF\",\"none\",\"TF-IDF\",\"TF-IDF\",\"TF-IDF\",\"none\",\"TF-IDF\",\"TF-IDF\",\"TF-IDF\",\"TF-IDF\",\"TF-IDF\",\"TF-IDF\",\"BM25\",\"TF-IDF\",\"TF-IDF\",\"TF-IDF\",\"none\",\"TF-IDF\",\"TF-IDF\",\"TF-IDF\",\"TF-IDF\",\"TF-IDF\",\"TF-IDF\",\"TF-IDF\",\"TF-IDF\",\"BM25\",\"TF-IDF\",\"TF-IDF\",\"TF-IDF\",\"TF-IDF\",\"TF-IDF\",\"TF-IDF\",\"TF-IDF\",\"TF-IDF\",\"TF-IDF\",\"TF-IDF\",\"none\",\"TF-IDF\",\"TF-IDF\",\"TF-IDF\",\"TF-IDF\",\"TF-IDF\",\"TF-IDF\",\"BM25\",\"TF-IDF\",\"TF-IDF\",\"TF-IDF\",\"TF-IDF\",\"TF-IDF\",\"TF-IDF\",\"TF-IDF\",\"TF-IDF\",\"TF-IDF\",\"TF-IDF\",\"none\",\"TF-IDF\"],\"y\":[0.030309619448391733,0.029586665512928156,0.030650909783704598,0.013049779271565748,0.03183519601413657,0.02371091710083679,0.02013872569558299,0.031454841755626274,0.025340322561057067,0.03075911833108674,0.02980186435068826,0.03149101374163567,0.026009468247896097,0.031855591382179235,0.0311141776271848,0.031821753439963345,0.03166119779332326,0.030394218099124664,0.020152805862207142,0.0010789468490788304,0.03176794898653198,0.031912003133311655,0.031275275986446846,0.031682185211498785,0.031745306864138484,0.02284282738854276,0.030789100357051975,0.03128072208863162,0.025772777231270094,0.029267337960432994,0.01991787961040061,0.031727378371649836,0.03015677563425289,0.03186735648097566,0.03461211607826022,0.034495827564640175,0.028465664128441696,0.03377448658626967,0.029482339448148723,0.031792200270825265,0.015680622350955117,0.03457761018204815,0.03444682403055627,0.01639231215311929,0.03361513781105426,0.03038927296243687,0.03157912294604176,0.034717819798156725,0.034435707909790204,0.030548572400141076,0.03453627293814781,0.03444842180687666,0.03454530549786897,0.03439911465734005,0.031212833673382834,0.033312493927691235,0.02225760480805424,0.0344228004578525,0.03169110771061837,0.03274142741769009,0.030749804927071852,0.0344957288896179,0.03451574473834451,0.03456048627050966,0.03157985541832159,0.031859063983920896,0.0010749467154880306,0.03453680806038344,0.034444178780923713,0.02236614353724142,0.02827245084465834,0.03448232426737626,0.03460478376507479,0.033761377989094433,0.034448865844476394,0.034518018059047494,0.03173739388639944,0.02927558491516999,0.03438707250944282,0.031570769725896175,0.030013552634775224,0.03448931121798412,0.03449049911344322,0.03410483537970188,0.034324588449254116,0.034543130852188256,0.030948247987029706,0.02020178662513205,0.03418014719277183,0.03040796428875064,0.034595588012047776,0.03462922101383314,0.03477967385628101,0.03476842110856114,0.03456115801969897,0.03451120948251823,0.03475304678106932,0.031820929883047626,0.0314316569206109,0.03195169705857381],\"type\":\"scatter\",\"xaxis\":\"x2\",\"yaxis\":\"y2\"},{\"marker\":{\"color\":[12,19,29,66,77],\"colorbar\":{\"title\":{\"text\":\"Trial\"},\"x\":1.0,\"xpad\":40},\"colorscale\":[[0.0,\"rgb(247,251,255)\"],[0.125,\"rgb(222,235,247)\"],[0.25,\"rgb(198,219,239)\"],[0.375,\"rgb(158,202,225)\"],[0.5,\"rgb(107,174,214)\"],[0.625,\"rgb(66,146,198)\"],[0.75,\"rgb(33,113,181)\"],[0.875,\"rgb(8,81,156)\"],[1.0,\"rgb(8,48,107)\"]],\"line\":{\"color\":\"Grey\",\"width\":0.5},\"showscale\":false},\"mode\":\"markers\",\"name\":\"Feasible Trial\",\"showlegend\":false,\"x\":[true,false,true,false,true],\"y\":[0.026009468247896097,0.0010789468490788304,0.029267337960432994,0.0010749467154880306,0.02927558491516999],\"type\":\"scatter\",\"xaxis\":\"x3\",\"yaxis\":\"y3\"},{\"marker\":{\"color\":[12,19,29,66,77],\"colorbar\":{\"title\":{\"text\":\"Trial\"},\"x\":1.0,\"xpad\":40},\"colorscale\":[[0.0,\"rgb(247,251,255)\"],[0.125,\"rgb(222,235,247)\"],[0.25,\"rgb(198,219,239)\"],[0.375,\"rgb(158,202,225)\"],[0.5,\"rgb(107,174,214)\"],[0.625,\"rgb(66,146,198)\"],[0.75,\"rgb(33,113,181)\"],[0.875,\"rgb(8,81,156)\"],[1.0,\"rgb(8,48,107)\"]],\"line\":{\"color\":\"Grey\",\"width\":0.5},\"showscale\":false},\"mode\":\"markers\",\"name\":\"Feasible Trial\",\"showlegend\":false,\"x\":[false,true,false,true,true],\"y\":[0.026009468247896097,0.0010789468490788304,0.029267337960432994,0.0010749467154880306,0.02927558491516999],\"type\":\"scatter\",\"xaxis\":\"x4\",\"yaxis\":\"y4\"},{\"marker\":{\"color\":[0,1,2,3,4,5,6,7,8,9,10,11,12,13,14,15,16,17,18,19,20,21,22,23,24,25,26,27,28,29,30,31,32,33,34,35,36,37,38,39,40,41,42,43,44,45,46,47,48,49,50,51,52,53,54,55,56,57,58,59,60,61,62,63,64,65,66,67,68,69,70,71,72,73,74,75,76,77,78,79,80,81,82,83,84,85,86,87,88,89,90,91,92,93,94,95,96,97,98,99],\"colorbar\":{\"title\":{\"text\":\"Trial\"},\"x\":1.0,\"xpad\":40},\"colorscale\":[[0.0,\"rgb(247,251,255)\"],[0.125,\"rgb(222,235,247)\"],[0.25,\"rgb(198,219,239)\"],[0.375,\"rgb(158,202,225)\"],[0.5,\"rgb(107,174,214)\"],[0.625,\"rgb(66,146,198)\"],[0.75,\"rgb(33,113,181)\"],[0.875,\"rgb(8,81,156)\"],[1.0,\"rgb(8,48,107)\"]],\"line\":{\"color\":\"Grey\",\"width\":0.5},\"showscale\":false},\"mode\":\"markers\",\"name\":\"Feasible Trial\",\"showlegend\":false,\"x\":[50,132,307,357,370,88,195,357,121,51,481,413,488,415,254,371,410,278,432,206,308,338,327,440,387,448,215,333,275,4,400,372,460,343,329,310,291,248,172,239,254,342,315,311,170,232,289,264,309,276,347,355,355,381,349,291,359,324,395,423,368,352,336,332,342,269,327,382,399,378,414,363,334,390,288,322,259,299,469,498,118,327,373,316,335,303,303,348,223,266,297,285,284,281,281,282,247,241,260,200],\"y\":[0.030309619448391733,0.029586665512928156,0.030650909783704598,0.013049779271565748,0.03183519601413657,0.02371091710083679,0.02013872569558299,0.031454841755626274,0.025340322561057067,0.03075911833108674,0.02980186435068826,0.03149101374163567,0.026009468247896097,0.031855591382179235,0.0311141776271848,0.031821753439963345,0.03166119779332326,0.030394218099124664,0.020152805862207142,0.0010789468490788304,0.03176794898653198,0.031912003133311655,0.031275275986446846,0.031682185211498785,0.031745306864138484,0.02284282738854276,0.030789100357051975,0.03128072208863162,0.025772777231270094,0.029267337960432994,0.01991787961040061,0.031727378371649836,0.03015677563425289,0.03186735648097566,0.03461211607826022,0.034495827564640175,0.028465664128441696,0.03377448658626967,0.029482339448148723,0.031792200270825265,0.015680622350955117,0.03457761018204815,0.03444682403055627,0.01639231215311929,0.03361513781105426,0.03038927296243687,0.03157912294604176,0.034717819798156725,0.034435707909790204,0.030548572400141076,0.03453627293814781,0.03444842180687666,0.03454530549786897,0.03439911465734005,0.031212833673382834,0.033312493927691235,0.02225760480805424,0.0344228004578525,0.03169110771061837,0.03274142741769009,0.030749804927071852,0.0344957288896179,0.03451574473834451,0.03456048627050966,0.03157985541832159,0.031859063983920896,0.0010749467154880306,0.03453680806038344,0.034444178780923713,0.02236614353724142,0.02827245084465834,0.03448232426737626,0.03460478376507479,0.033761377989094433,0.034448865844476394,0.034518018059047494,0.03173739388639944,0.02927558491516999,0.03438707250944282,0.031570769725896175,0.030013552634775224,0.03448931121798412,0.03449049911344322,0.03410483537970188,0.034324588449254116,0.034543130852188256,0.030948247987029706,0.02020178662513205,0.03418014719277183,0.03040796428875064,0.034595588012047776,0.03462922101383314,0.03477967385628101,0.03476842110856114,0.03456115801969897,0.03451120948251823,0.03475304678106932,0.031820929883047626,0.0314316569206109,0.03195169705857381],\"type\":\"scatter\",\"xaxis\":\"x5\",\"yaxis\":\"y5\"},{\"marker\":{\"color\":[0,1,2,3,4,5,6,7,8,9,10,11,12,13,14,15,16,17,18,19,20,21,22,23,24,25,26,27,28,29,30,31,32,33,34,35,36,37,38,39,40,41,42,43,44,45,46,47,48,49,50,51,52,53,54,55,56,57,58,59,60,61,62,63,64,65,66,67,68,69,70,71,72,73,74,75,76,77,78,79,80,81,82,83,84,85,86,87,88,89,90,91,92,93,94,95,96,97,98,99],\"colorbar\":{\"title\":{\"text\":\"Trial\"},\"x\":1.0,\"xpad\":40},\"colorscale\":[[0.0,\"rgb(247,251,255)\"],[0.125,\"rgb(222,235,247)\"],[0.25,\"rgb(198,219,239)\"],[0.375,\"rgb(158,202,225)\"],[0.5,\"rgb(107,174,214)\"],[0.625,\"rgb(66,146,198)\"],[0.75,\"rgb(33,113,181)\"],[0.875,\"rgb(8,81,156)\"],[1.0,\"rgb(8,48,107)\"]],\"line\":{\"color\":\"Grey\",\"width\":0.5},\"showscale\":false},\"mode\":\"markers\",\"name\":\"Feasible Trial\",\"showlegend\":false,\"x\":[\"jaccard\",\"cosine\",\"cosine\",\"asymmetric\",\"tversky\",\"tversky\",\"cosine\",\"jaccard\",\"dice\",\"tversky\",\"tanimoto\",\"jaccard\",\"euclidean\",\"tversky\",\"tversky\",\"tversky\",\"tversky\",\"tanimoto\",\"asymmetric\",\"euclidean\",\"dice\",\"tversky\",\"tversky\",\"tversky\",\"tversky\",\"tversky\",\"tversky\",\"tversky\",\"asymmetric\",\"euclidean\",\"tanimoto\",\"tversky\",\"tversky\",\"tversky\",\"cosine\",\"cosine\",\"cosine\",\"cosine\",\"cosine\",\"cosine\",\"cosine\",\"cosine\",\"cosine\",\"cosine\",\"cosine\",\"cosine\",\"cosine\",\"cosine\",\"cosine\",\"jaccard\",\"cosine\",\"cosine\",\"cosine\",\"cosine\",\"dice\",\"cosine\",\"cosine\",\"cosine\",\"jaccard\",\"asymmetric\",\"cosine\",\"cosine\",\"cosine\",\"cosine\",\"tanimoto\",\"dice\",\"euclidean\",\"cosine\",\"cosine\",\"cosine\",\"asymmetric\",\"cosine\",\"cosine\",\"cosine\",\"cosine\",\"cosine\",\"tanimoto\",\"euclidean\",\"cosine\",\"jaccard\",\"cosine\",\"cosine\",\"cosine\",\"cosine\",\"cosine\",\"cosine\",\"dice\",\"cosine\",\"cosine\",\"cosine\",\"cosine\",\"cosine\",\"cosine\",\"cosine\",\"cosine\",\"cosine\",\"cosine\",\"asymmetric\",\"cosine\",\"tanimoto\"],\"y\":[0.030309619448391733,0.029586665512928156,0.030650909783704598,0.013049779271565748,0.03183519601413657,0.02371091710083679,0.02013872569558299,0.031454841755626274,0.025340322561057067,0.03075911833108674,0.02980186435068826,0.03149101374163567,0.026009468247896097,0.031855591382179235,0.0311141776271848,0.031821753439963345,0.03166119779332326,0.030394218099124664,0.020152805862207142,0.0010789468490788304,0.03176794898653198,0.031912003133311655,0.031275275986446846,0.031682185211498785,0.031745306864138484,0.02284282738854276,0.030789100357051975,0.03128072208863162,0.025772777231270094,0.029267337960432994,0.01991787961040061,0.031727378371649836,0.03015677563425289,0.03186735648097566,0.03461211607826022,0.034495827564640175,0.028465664128441696,0.03377448658626967,0.029482339448148723,0.031792200270825265,0.015680622350955117,0.03457761018204815,0.03444682403055627,0.01639231215311929,0.03361513781105426,0.03038927296243687,0.03157912294604176,0.034717819798156725,0.034435707909790204,0.030548572400141076,0.03453627293814781,0.03444842180687666,0.03454530549786897,0.03439911465734005,0.031212833673382834,0.033312493927691235,0.02225760480805424,0.0344228004578525,0.03169110771061837,0.03274142741769009,0.030749804927071852,0.0344957288896179,0.03451574473834451,0.03456048627050966,0.03157985541832159,0.031859063983920896,0.0010749467154880306,0.03453680806038344,0.034444178780923713,0.02236614353724142,0.02827245084465834,0.03448232426737626,0.03460478376507479,0.033761377989094433,0.034448865844476394,0.034518018059047494,0.03173739388639944,0.02927558491516999,0.03438707250944282,0.031570769725896175,0.030013552634775224,0.03448931121798412,0.03449049911344322,0.03410483537970188,0.034324588449254116,0.034543130852188256,0.030948247987029706,0.02020178662513205,0.03418014719277183,0.03040796428875064,0.034595588012047776,0.03462922101383314,0.03477967385628101,0.03476842110856114,0.03456115801969897,0.03451120948251823,0.03475304678106932,0.031820929883047626,0.0314316569206109,0.03195169705857381],\"type\":\"scatter\",\"xaxis\":\"x6\",\"yaxis\":\"y6\"},{\"marker\":{\"color\":[12,19,29,66,77],\"colorbar\":{\"title\":{\"text\":\"Trial\"},\"x\":1.0,\"xpad\":40},\"colorscale\":[[0.0,\"rgb(247,251,255)\"],[0.125,\"rgb(222,235,247)\"],[0.25,\"rgb(198,219,239)\"],[0.375,\"rgb(158,202,225)\"],[0.5,\"rgb(107,174,214)\"],[0.625,\"rgb(66,146,198)\"],[0.75,\"rgb(33,113,181)\"],[0.875,\"rgb(8,81,156)\"],[1.0,\"rgb(8,48,107)\"]],\"line\":{\"color\":\"Grey\",\"width\":0.5},\"showscale\":false},\"mode\":\"markers\",\"name\":\"Feasible Trial\",\"showlegend\":false,\"x\":[\"log\",\"lin\",\"exp\",\"log\",\"exp\"],\"y\":[0.026009468247896097,0.0010789468490788304,0.029267337960432994,0.0010749467154880306,0.02927558491516999],\"type\":\"scatter\",\"xaxis\":\"x7\",\"yaxis\":\"y7\"},{\"marker\":{\"color\":[0,1,2,3,4,5,6,7,8,9,10,11,12,13,14,15,16,17,18,19,20,21,22,23,24,25,26,27,28,29,30,31,32,33,34,35,36,37,38,39,40,41,42,43,44,45,46,47,48,49,50,51,52,53,54,55,56,57,58,59,60,61,62,63,64,65,66,67,68,69,70,71,72,73,74,75,76,77,78,79,80,81,82,83,84,85,86,87,88,89,90,91,92,93,94,95,96,97,98,99],\"colorbar\":{\"title\":{\"text\":\"Trial\"},\"x\":1.0,\"xpad\":40},\"colorscale\":[[0.0,\"rgb(247,251,255)\"],[0.125,\"rgb(222,235,247)\"],[0.25,\"rgb(198,219,239)\"],[0.375,\"rgb(158,202,225)\"],[0.5,\"rgb(107,174,214)\"],[0.625,\"rgb(66,146,198)\"],[0.75,\"rgb(33,113,181)\"],[0.875,\"rgb(8,81,156)\"],[1.0,\"rgb(8,48,107)\"]],\"line\":{\"color\":\"Grey\",\"width\":0.5},\"showscale\":false},\"mode\":\"markers\",\"name\":\"Feasible Trial\",\"showlegend\":false,\"x\":[88,184,262,27,300,573,36,402,658,142,954,376,397,344,695,294,525,828,253,462,316,281,203,459,336,591,138,225,437,113,344,286,180,279,247,227,62,169,187,104,54,245,217,15,156,236,95,242,389,213,251,224,254,346,260,137,309,372,423,501,732,252,257,318,312,366,192,281,287,323,131,263,250,165,414,351,293,207,246,317,952,350,276,187,463,229,233,156,199,80,272,273,298,329,388,386,335,330,404,437],\"y\":[0.030309619448391733,0.029586665512928156,0.030650909783704598,0.013049779271565748,0.03183519601413657,0.02371091710083679,0.02013872569558299,0.031454841755626274,0.025340322561057067,0.03075911833108674,0.02980186435068826,0.03149101374163567,0.026009468247896097,0.031855591382179235,0.0311141776271848,0.031821753439963345,0.03166119779332326,0.030394218099124664,0.020152805862207142,0.0010789468490788304,0.03176794898653198,0.031912003133311655,0.031275275986446846,0.031682185211498785,0.031745306864138484,0.02284282738854276,0.030789100357051975,0.03128072208863162,0.025772777231270094,0.029267337960432994,0.01991787961040061,0.031727378371649836,0.03015677563425289,0.03186735648097566,0.03461211607826022,0.034495827564640175,0.028465664128441696,0.03377448658626967,0.029482339448148723,0.031792200270825265,0.015680622350955117,0.03457761018204815,0.03444682403055627,0.01639231215311929,0.03361513781105426,0.03038927296243687,0.03157912294604176,0.034717819798156725,0.034435707909790204,0.030548572400141076,0.03453627293814781,0.03444842180687666,0.03454530549786897,0.03439911465734005,0.031212833673382834,0.033312493927691235,0.02225760480805424,0.0344228004578525,0.03169110771061837,0.03274142741769009,0.030749804927071852,0.0344957288896179,0.03451574473834451,0.03456048627050966,0.03157985541832159,0.031859063983920896,0.0010749467154880306,0.03453680806038344,0.034444178780923713,0.02236614353724142,0.02827245084465834,0.03448232426737626,0.03460478376507479,0.033761377989094433,0.034448865844476394,0.034518018059047494,0.03173739388639944,0.02927558491516999,0.03438707250944282,0.031570769725896175,0.030013552634775224,0.03448931121798412,0.03449049911344322,0.03410483537970188,0.034324588449254116,0.034543130852188256,0.030948247987029706,0.02020178662513205,0.03418014719277183,0.03040796428875064,0.034595588012047776,0.03462922101383314,0.03477967385628101,0.03476842110856114,0.03456115801969897,0.03451120948251823,0.03475304678106932,0.031820929883047626,0.0314316569206109,0.03195169705857381],\"type\":\"scatter\",\"xaxis\":\"x8\",\"yaxis\":\"y8\"},{\"marker\":{\"color\":[4,5,9,13,14,15,16,21,22,23,24,25,26,27,31,32,33],\"colorbar\":{\"title\":{\"text\":\"Trial\"},\"x\":1.0,\"xpad\":40},\"colorscale\":[[0.0,\"rgb(247,251,255)\"],[0.125,\"rgb(222,235,247)\"],[0.25,\"rgb(198,219,239)\"],[0.375,\"rgb(158,202,225)\"],[0.5,\"rgb(107,174,214)\"],[0.625,\"rgb(66,146,198)\"],[0.75,\"rgb(33,113,181)\"],[0.875,\"rgb(8,81,156)\"],[1.0,\"rgb(8,48,107)\"]],\"line\":{\"color\":\"Grey\",\"width\":0.5},\"showscale\":false},\"mode\":\"markers\",\"name\":\"Feasible Trial\",\"showlegend\":false,\"x\":[0.7819840347995346,0.34225932262734626,0.9377929862497765,1.9592659688766905,1.885715355022019,1.9037496089348156,1.085277598331024,1.9299096847043689,1.9870605770402896,1.415367881857124,1.480018212221698,0.667235984611667,1.5873702523810629,0.03198582018512286,1.983021293082266,1.8418682832085793,1.726091869476554],\"y\":[0.03183519601413657,0.02371091710083679,0.03075911833108674,0.031855591382179235,0.0311141776271848,0.031821753439963345,0.03166119779332326,0.031912003133311655,0.031275275986446846,0.031682185211498785,0.031745306864138484,0.02284282738854276,0.030789100357051975,0.03128072208863162,0.031727378371649836,0.03015677563425289,0.03186735648097566],\"type\":\"scatter\",\"xaxis\":\"x9\",\"yaxis\":\"y9\"},{\"marker\":{\"color\":[4,5,9,13,14,15,16,21,22,23,24,25,26,27,31,32,33],\"colorbar\":{\"title\":{\"text\":\"Trial\"},\"x\":1.0,\"xpad\":40},\"colorscale\":[[0.0,\"rgb(247,251,255)\"],[0.125,\"rgb(222,235,247)\"],[0.25,\"rgb(198,219,239)\"],[0.375,\"rgb(158,202,225)\"],[0.5,\"rgb(107,174,214)\"],[0.625,\"rgb(66,146,198)\"],[0.75,\"rgb(33,113,181)\"],[0.875,\"rgb(8,81,156)\"],[1.0,\"rgb(8,48,107)\"]],\"line\":{\"color\":\"Grey\",\"width\":0.5},\"showscale\":false},\"mode\":\"markers\",\"name\":\"Feasible Trial\",\"showlegend\":false,\"x\":[1.5849498523711496,0.5754562098669098,0.564942164830637,1.8876744214018004,1.9047912085639336,1.7828438601716294,1.429815840335829,1.9389071190632747,1.99909780854672,1.4353167039881247,1.5761003637709834,1.1810340292756996,1.9617327922425323,1.6945487628646159,1.703547313048676,1.7465768975877227,1.9865896333230513],\"y\":[0.03183519601413657,0.02371091710083679,0.03075911833108674,0.031855591382179235,0.0311141776271848,0.031821753439963345,0.03166119779332326,0.031912003133311655,0.031275275986446846,0.031682185211498785,0.031745306864138484,0.02284282738854276,0.030789100357051975,0.03128072208863162,0.031727378371649836,0.03015677563425289,0.03186735648097566],\"type\":\"scatter\",\"xaxis\":\"x10\",\"yaxis\":\"y10\"}],                        {\"template\":{\"data\":{\"histogram2dcontour\":[{\"type\":\"histogram2dcontour\",\"colorbar\":{\"outlinewidth\":0,\"ticks\":\"\"},\"colorscale\":[[0.0,\"#0d0887\"],[0.1111111111111111,\"#46039f\"],[0.2222222222222222,\"#7201a8\"],[0.3333333333333333,\"#9c179e\"],[0.4444444444444444,\"#bd3786\"],[0.5555555555555556,\"#d8576b\"],[0.6666666666666666,\"#ed7953\"],[0.7777777777777778,\"#fb9f3a\"],[0.8888888888888888,\"#fdca26\"],[1.0,\"#f0f921\"]]}],\"choropleth\":[{\"type\":\"choropleth\",\"colorbar\":{\"outlinewidth\":0,\"ticks\":\"\"}}],\"histogram2d\":[{\"type\":\"histogram2d\",\"colorbar\":{\"outlinewidth\":0,\"ticks\":\"\"},\"colorscale\":[[0.0,\"#0d0887\"],[0.1111111111111111,\"#46039f\"],[0.2222222222222222,\"#7201a8\"],[0.3333333333333333,\"#9c179e\"],[0.4444444444444444,\"#bd3786\"],[0.5555555555555556,\"#d8576b\"],[0.6666666666666666,\"#ed7953\"],[0.7777777777777778,\"#fb9f3a\"],[0.8888888888888888,\"#fdca26\"],[1.0,\"#f0f921\"]]}],\"heatmap\":[{\"type\":\"heatmap\",\"colorbar\":{\"outlinewidth\":0,\"ticks\":\"\"},\"colorscale\":[[0.0,\"#0d0887\"],[0.1111111111111111,\"#46039f\"],[0.2222222222222222,\"#7201a8\"],[0.3333333333333333,\"#9c179e\"],[0.4444444444444444,\"#bd3786\"],[0.5555555555555556,\"#d8576b\"],[0.6666666666666666,\"#ed7953\"],[0.7777777777777778,\"#fb9f3a\"],[0.8888888888888888,\"#fdca26\"],[1.0,\"#f0f921\"]]}],\"heatmapgl\":[{\"type\":\"heatmapgl\",\"colorbar\":{\"outlinewidth\":0,\"ticks\":\"\"},\"colorscale\":[[0.0,\"#0d0887\"],[0.1111111111111111,\"#46039f\"],[0.2222222222222222,\"#7201a8\"],[0.3333333333333333,\"#9c179e\"],[0.4444444444444444,\"#bd3786\"],[0.5555555555555556,\"#d8576b\"],[0.6666666666666666,\"#ed7953\"],[0.7777777777777778,\"#fb9f3a\"],[0.8888888888888888,\"#fdca26\"],[1.0,\"#f0f921\"]]}],\"contourcarpet\":[{\"type\":\"contourcarpet\",\"colorbar\":{\"outlinewidth\":0,\"ticks\":\"\"}}],\"contour\":[{\"type\":\"contour\",\"colorbar\":{\"outlinewidth\":0,\"ticks\":\"\"},\"colorscale\":[[0.0,\"#0d0887\"],[0.1111111111111111,\"#46039f\"],[0.2222222222222222,\"#7201a8\"],[0.3333333333333333,\"#9c179e\"],[0.4444444444444444,\"#bd3786\"],[0.5555555555555556,\"#d8576b\"],[0.6666666666666666,\"#ed7953\"],[0.7777777777777778,\"#fb9f3a\"],[0.8888888888888888,\"#fdca26\"],[1.0,\"#f0f921\"]]}],\"surface\":[{\"type\":\"surface\",\"colorbar\":{\"outlinewidth\":0,\"ticks\":\"\"},\"colorscale\":[[0.0,\"#0d0887\"],[0.1111111111111111,\"#46039f\"],[0.2222222222222222,\"#7201a8\"],[0.3333333333333333,\"#9c179e\"],[0.4444444444444444,\"#bd3786\"],[0.5555555555555556,\"#d8576b\"],[0.6666666666666666,\"#ed7953\"],[0.7777777777777778,\"#fb9f3a\"],[0.8888888888888888,\"#fdca26\"],[1.0,\"#f0f921\"]]}],\"mesh3d\":[{\"type\":\"mesh3d\",\"colorbar\":{\"outlinewidth\":0,\"ticks\":\"\"}}],\"scatter\":[{\"fillpattern\":{\"fillmode\":\"overlay\",\"size\":10,\"solidity\":0.2},\"type\":\"scatter\"}],\"parcoords\":[{\"type\":\"parcoords\",\"line\":{\"colorbar\":{\"outlinewidth\":0,\"ticks\":\"\"}}}],\"scatterpolargl\":[{\"type\":\"scatterpolargl\",\"marker\":{\"colorbar\":{\"outlinewidth\":0,\"ticks\":\"\"}}}],\"bar\":[{\"error_x\":{\"color\":\"#2a3f5f\"},\"error_y\":{\"color\":\"#2a3f5f\"},\"marker\":{\"line\":{\"color\":\"#E5ECF6\",\"width\":0.5},\"pattern\":{\"fillmode\":\"overlay\",\"size\":10,\"solidity\":0.2}},\"type\":\"bar\"}],\"scattergeo\":[{\"type\":\"scattergeo\",\"marker\":{\"colorbar\":{\"outlinewidth\":0,\"ticks\":\"\"}}}],\"scatterpolar\":[{\"type\":\"scatterpolar\",\"marker\":{\"colorbar\":{\"outlinewidth\":0,\"ticks\":\"\"}}}],\"histogram\":[{\"marker\":{\"pattern\":{\"fillmode\":\"overlay\",\"size\":10,\"solidity\":0.2}},\"type\":\"histogram\"}],\"scattergl\":[{\"type\":\"scattergl\",\"marker\":{\"colorbar\":{\"outlinewidth\":0,\"ticks\":\"\"}}}],\"scatter3d\":[{\"type\":\"scatter3d\",\"line\":{\"colorbar\":{\"outlinewidth\":0,\"ticks\":\"\"}},\"marker\":{\"colorbar\":{\"outlinewidth\":0,\"ticks\":\"\"}}}],\"scattermapbox\":[{\"type\":\"scattermapbox\",\"marker\":{\"colorbar\":{\"outlinewidth\":0,\"ticks\":\"\"}}}],\"scatterternary\":[{\"type\":\"scatterternary\",\"marker\":{\"colorbar\":{\"outlinewidth\":0,\"ticks\":\"\"}}}],\"scattercarpet\":[{\"type\":\"scattercarpet\",\"marker\":{\"colorbar\":{\"outlinewidth\":0,\"ticks\":\"\"}}}],\"carpet\":[{\"aaxis\":{\"endlinecolor\":\"#2a3f5f\",\"gridcolor\":\"white\",\"linecolor\":\"white\",\"minorgridcolor\":\"white\",\"startlinecolor\":\"#2a3f5f\"},\"baxis\":{\"endlinecolor\":\"#2a3f5f\",\"gridcolor\":\"white\",\"linecolor\":\"white\",\"minorgridcolor\":\"white\",\"startlinecolor\":\"#2a3f5f\"},\"type\":\"carpet\"}],\"table\":[{\"cells\":{\"fill\":{\"color\":\"#EBF0F8\"},\"line\":{\"color\":\"white\"}},\"header\":{\"fill\":{\"color\":\"#C8D4E3\"},\"line\":{\"color\":\"white\"}},\"type\":\"table\"}],\"barpolar\":[{\"marker\":{\"line\":{\"color\":\"#E5ECF6\",\"width\":0.5},\"pattern\":{\"fillmode\":\"overlay\",\"size\":10,\"solidity\":0.2}},\"type\":\"barpolar\"}],\"pie\":[{\"automargin\":true,\"type\":\"pie\"}]},\"layout\":{\"autotypenumbers\":\"strict\",\"colorway\":[\"#636efa\",\"#EF553B\",\"#00cc96\",\"#ab63fa\",\"#FFA15A\",\"#19d3f3\",\"#FF6692\",\"#B6E880\",\"#FF97FF\",\"#FECB52\"],\"font\":{\"color\":\"#2a3f5f\"},\"hovermode\":\"closest\",\"hoverlabel\":{\"align\":\"left\"},\"paper_bgcolor\":\"white\",\"plot_bgcolor\":\"#E5ECF6\",\"polar\":{\"bgcolor\":\"#E5ECF6\",\"angularaxis\":{\"gridcolor\":\"white\",\"linecolor\":\"white\",\"ticks\":\"\"},\"radialaxis\":{\"gridcolor\":\"white\",\"linecolor\":\"white\",\"ticks\":\"\"}},\"ternary\":{\"bgcolor\":\"#E5ECF6\",\"aaxis\":{\"gridcolor\":\"white\",\"linecolor\":\"white\",\"ticks\":\"\"},\"baxis\":{\"gridcolor\":\"white\",\"linecolor\":\"white\",\"ticks\":\"\"},\"caxis\":{\"gridcolor\":\"white\",\"linecolor\":\"white\",\"ticks\":\"\"}},\"coloraxis\":{\"colorbar\":{\"outlinewidth\":0,\"ticks\":\"\"}},\"colorscale\":{\"sequential\":[[0.0,\"#0d0887\"],[0.1111111111111111,\"#46039f\"],[0.2222222222222222,\"#7201a8\"],[0.3333333333333333,\"#9c179e\"],[0.4444444444444444,\"#bd3786\"],[0.5555555555555556,\"#d8576b\"],[0.6666666666666666,\"#ed7953\"],[0.7777777777777778,\"#fb9f3a\"],[0.8888888888888888,\"#fdca26\"],[1.0,\"#f0f921\"]],\"sequentialminus\":[[0.0,\"#0d0887\"],[0.1111111111111111,\"#46039f\"],[0.2222222222222222,\"#7201a8\"],[0.3333333333333333,\"#9c179e\"],[0.4444444444444444,\"#bd3786\"],[0.5555555555555556,\"#d8576b\"],[0.6666666666666666,\"#ed7953\"],[0.7777777777777778,\"#fb9f3a\"],[0.8888888888888888,\"#fdca26\"],[1.0,\"#f0f921\"]],\"diverging\":[[0,\"#8e0152\"],[0.1,\"#c51b7d\"],[0.2,\"#de77ae\"],[0.3,\"#f1b6da\"],[0.4,\"#fde0ef\"],[0.5,\"#f7f7f7\"],[0.6,\"#e6f5d0\"],[0.7,\"#b8e186\"],[0.8,\"#7fbc41\"],[0.9,\"#4d9221\"],[1,\"#276419\"]]},\"xaxis\":{\"gridcolor\":\"white\",\"linecolor\":\"white\",\"ticks\":\"\",\"title\":{\"standoff\":15},\"zerolinecolor\":\"white\",\"automargin\":true,\"zerolinewidth\":2},\"yaxis\":{\"gridcolor\":\"white\",\"linecolor\":\"white\",\"ticks\":\"\",\"title\":{\"standoff\":15},\"zerolinecolor\":\"white\",\"automargin\":true,\"zerolinewidth\":2},\"scene\":{\"xaxis\":{\"backgroundcolor\":\"#E5ECF6\",\"gridcolor\":\"white\",\"linecolor\":\"white\",\"showbackground\":true,\"ticks\":\"\",\"zerolinecolor\":\"white\",\"gridwidth\":2},\"yaxis\":{\"backgroundcolor\":\"#E5ECF6\",\"gridcolor\":\"white\",\"linecolor\":\"white\",\"showbackground\":true,\"ticks\":\"\",\"zerolinecolor\":\"white\",\"gridwidth\":2},\"zaxis\":{\"backgroundcolor\":\"#E5ECF6\",\"gridcolor\":\"white\",\"linecolor\":\"white\",\"showbackground\":true,\"ticks\":\"\",\"zerolinecolor\":\"white\",\"gridwidth\":2}},\"shapedefaults\":{\"line\":{\"color\":\"#2a3f5f\"}},\"annotationdefaults\":{\"arrowcolor\":\"#2a3f5f\",\"arrowhead\":0,\"arrowwidth\":1},\"geo\":{\"bgcolor\":\"white\",\"landcolor\":\"#E5ECF6\",\"subunitcolor\":\"white\",\"showland\":true,\"showlakes\":true,\"lakecolor\":\"white\"},\"title\":{\"x\":0.05},\"mapbox\":{\"style\":\"light\"}}},\"xaxis\":{\"anchor\":\"y\",\"domain\":[0.0,0.082],\"title\":{\"text\":\"asymmetric_alpha\"}},\"yaxis\":{\"anchor\":\"x\",\"domain\":[0.0,1.0],\"title\":{\"text\":\"Objective Value\"}},\"xaxis2\":{\"anchor\":\"y2\",\"domain\":[0.10200000000000001,0.184],\"title\":{\"text\":\"feature_weighting\"},\"type\":\"category\",\"categoryorder\":\"array\",\"categoryarray\":[\"BM25\",\"TF-IDF\",\"none\"]},\"yaxis2\":{\"anchor\":\"x2\",\"domain\":[0.0,1.0],\"matches\":\"y\",\"showticklabels\":false},\"xaxis3\":{\"anchor\":\"y3\",\"domain\":[0.20400000000000001,0.28600000000000003],\"title\":{\"text\":\"normalize\"},\"type\":\"category\",\"categoryorder\":\"array\",\"categoryarray\":[true,false]},\"yaxis3\":{\"anchor\":\"x3\",\"domain\":[0.0,1.0],\"matches\":\"y\",\"showticklabels\":false},\"xaxis4\":{\"anchor\":\"y4\",\"domain\":[0.306,0.388],\"title\":{\"text\":\"normalize_avg_row\"},\"type\":\"category\",\"categoryorder\":\"array\",\"categoryarray\":[true,false]},\"yaxis4\":{\"anchor\":\"x4\",\"domain\":[0.0,1.0],\"matches\":\"y\",\"showticklabels\":false},\"xaxis5\":{\"anchor\":\"y5\",\"domain\":[0.40800000000000003,0.49000000000000005],\"title\":{\"text\":\"shrink\"}},\"yaxis5\":{\"anchor\":\"x5\",\"domain\":[0.0,1.0],\"matches\":\"y\",\"showticklabels\":false},\"xaxis6\":{\"anchor\":\"y6\",\"domain\":[0.51,0.592],\"title\":{\"text\":\"similarity\"},\"type\":\"category\",\"categoryorder\":\"array\",\"categoryarray\":[\"cosine\",\"asymmetric\",\"dice\",\"jaccard\",\"tanimoto\",\"tversky\",\"euclidean\"]},\"yaxis6\":{\"anchor\":\"x6\",\"domain\":[0.0,1.0],\"matches\":\"y\",\"showticklabels\":false},\"xaxis7\":{\"anchor\":\"y7\",\"domain\":[0.6120000000000001,0.6940000000000001],\"title\":{\"text\":\"similarity_from_distance_mode\"},\"type\":\"category\",\"categoryorder\":\"array\",\"categoryarray\":[\"lin\",\"log\",\"exp\"]},\"yaxis7\":{\"anchor\":\"x7\",\"domain\":[0.0,1.0],\"matches\":\"y\",\"showticklabels\":false},\"xaxis8\":{\"anchor\":\"y8\",\"domain\":[0.7140000000000001,0.796],\"title\":{\"text\":\"topK\"}},\"yaxis8\":{\"anchor\":\"x8\",\"domain\":[0.0,1.0],\"matches\":\"y\",\"showticklabels\":false},\"xaxis9\":{\"anchor\":\"y9\",\"domain\":[0.8160000000000001,0.898],\"title\":{\"text\":\"tversky_alpha\"}},\"yaxis9\":{\"anchor\":\"x9\",\"domain\":[0.0,1.0],\"matches\":\"y\",\"showticklabels\":false},\"xaxis10\":{\"anchor\":\"y10\",\"domain\":[0.9179999999999999,0.9999999999999999],\"title\":{\"text\":\"tversky_beta\"}},\"yaxis10\":{\"anchor\":\"x10\",\"domain\":[0.0,1.0],\"matches\":\"y\",\"showticklabels\":false},\"title\":{\"text\":\"Slice Plot\"},\"width\":3000},                        {\"responsive\": true}                    ).then(function(){\n",
       "                            \n",
       "var gd = document.getElementById('6b57e342-9bb8-43d6-826d-0e2b6006ff8e');\n",
       "var x = new MutationObserver(function (mutations, observer) {{\n",
       "        var display = window.getComputedStyle(gd).display;\n",
       "        if (!display || display === 'none') {{\n",
       "            console.log([gd, 'removed!']);\n",
       "            Plotly.purge(gd);\n",
       "            observer.disconnect();\n",
       "        }}\n",
       "}});\n",
       "\n",
       "// Listen for the removal of the full notebook cells\n",
       "var notebookContainer = gd.closest('#notebook-container');\n",
       "if (notebookContainer) {{\n",
       "    x.observe(notebookContainer, {childList: true});\n",
       "}}\n",
       "\n",
       "// Listen for the clearing of the current output cell\n",
       "var outputEl = gd.closest('.output');\n",
       "if (outputEl) {{\n",
       "    x.observe(outputEl, {childList: true});\n",
       "}}\n",
       "\n",
       "                        })                };                });            </script>        </div>"
      ]
     },
     "metadata": {},
     "output_type": "display_data"
    }
   ],
   "source": [
    "if config['tune_parameters_user_knn']:\n",
    "    fig = optuna.visualization.plot_slice(study)\n",
    "    fig.show()"
   ]
  },
  {
   "cell_type": "code",
   "execution_count": 27,
   "id": "a9088185",
   "metadata": {
    "execution": {
     "iopub.execute_input": "2023-12-09T12:39:04.331393Z",
     "iopub.status.busy": "2023-12-09T12:39:04.330957Z",
     "iopub.status.idle": "2023-12-09T12:39:05.047311Z",
     "shell.execute_reply": "2023-12-09T12:39:05.045844Z"
    },
    "papermill": {
     "duration": 0.903304,
     "end_time": "2023-12-09T12:39:05.050280",
     "exception": false,
     "start_time": "2023-12-09T12:39:04.146976",
     "status": "completed"
    },
    "tags": []
   },
   "outputs": [],
   "source": [
    "if config['tune_parameters_user_knn']:\n",
    "    with open('/kaggle/working/best_params_knn_user_no_cv.json', 'w') as params_file:\n",
    "        json.dump(study.best_params, params_file)\n",
    "        \n",
    "    if config['save_github']: \n",
    "        upload_file(\n",
    "            '/kaggle/working/best_params_knn_user_no_cv.json', \n",
    "            'tuning_results/best_params_knn_user_no_cv.json', \n",
    "            'User KNN tuning results without cross validation (from kaggle notebook)'\n",
    "        )\n",
    "elif config['copy_prev_best_params']:\n",
    "    shutil.copyfile(\n",
    "        '/kaggle/working/Recsys_Challenge_2023/tuning_results/best_params_knn_user_no_cv.json', \n",
    "        '/kaggle/working/best_params_knn_user_no_cv.json'\n",
    "    )"
   ]
  },
  {
   "cell_type": "code",
   "execution_count": 28,
   "id": "99d4f08f",
   "metadata": {
    "execution": {
     "iopub.execute_input": "2023-12-09T12:39:05.415926Z",
     "iopub.status.busy": "2023-12-09T12:39:05.415470Z",
     "iopub.status.idle": "2023-12-09T12:39:06.541160Z",
     "shell.execute_reply": "2023-12-09T12:39:06.539954Z"
    },
    "papermill": {
     "duration": 1.310449,
     "end_time": "2023-12-09T12:39:06.544156",
     "exception": false,
     "start_time": "2023-12-09T12:39:05.233707",
     "status": "completed"
    },
    "tags": []
   },
   "outputs": [],
   "source": [
    "if config['save_github'] and (config['tune_parameters_user_knn'] or config['tune_parameters_item_knn']):\n",
    "    upload_file(\n",
    "        config['database_path'], \n",
    "        'tuning_results/better_tuning_knn.db', \n",
    "        'Tuning db updated results (from kaggle notebook)'\n",
    "    )"
   ]
  },
  {
   "cell_type": "markdown",
   "id": "8caa20bf",
   "metadata": {
    "papermill": {
     "duration": 0.180024,
     "end_time": "2023-12-09T12:39:06.906928",
     "exception": false,
     "start_time": "2023-12-09T12:39:06.726904",
     "status": "completed"
    },
    "tags": []
   },
   "source": [
    "# Evaluating best models on the validation set"
   ]
  },
  {
   "cell_type": "code",
   "execution_count": 29,
   "id": "8f49c4f2",
   "metadata": {
    "execution": {
     "iopub.execute_input": "2023-12-09T12:39:07.270920Z",
     "iopub.status.busy": "2023-12-09T12:39:07.270476Z",
     "iopub.status.idle": "2023-12-09T12:39:07.275151Z",
     "shell.execute_reply": "2023-12-09T12:39:07.274025Z"
    },
    "papermill": {
     "duration": 0.188319,
     "end_time": "2023-12-09T12:39:07.277286",
     "exception": false,
     "start_time": "2023-12-09T12:39:07.088967",
     "status": "completed"
    },
    "tags": []
   },
   "outputs": [],
   "source": [
    "# with open('/kaggle/working/best_params_knn_user_no_cv.json', 'r') as params_file:\n",
    "#     params_user = json.load(params_file)\n",
    "    \n",
    "# with open('/kaggle/working/best_params_knn_item_no_cv.json', 'r') as params_file:\n",
    "#     params_item = json.load(params_file)"
   ]
  },
  {
   "cell_type": "code",
   "execution_count": 30,
   "id": "e33cf442",
   "metadata": {
    "execution": {
     "iopub.execute_input": "2023-12-09T12:39:07.665433Z",
     "iopub.status.busy": "2023-12-09T12:39:07.665030Z",
     "iopub.status.idle": "2023-12-09T12:39:07.669509Z",
     "shell.execute_reply": "2023-12-09T12:39:07.668646Z"
    },
    "papermill": {
     "duration": 0.208461,
     "end_time": "2023-12-09T12:39:07.671817",
     "exception": false,
     "start_time": "2023-12-09T12:39:07.463356",
     "status": "completed"
    },
    "tags": []
   },
   "outputs": [],
   "source": [
    "# evaluator = EvaluatorHoldout(URM_test_complete, cutoff_list=[10])\n",
    "\n",
    "# recommender = ItemKNNCFRecommender(URM_train)\n",
    "# recommender.fit(**params_item)\n",
    "\n",
    "# result_df, _ = evaluator.evaluateRecommender(recommender)\n",
    "# print(f'Item KNN')\n",
    "# display(result_df)\n",
    "\n",
    "# recommender = UserKNNCFRecommender(URM_train)\n",
    "# recommender.fit(**params_user)\n",
    "\n",
    "# result_df, _ = evaluator.evaluateRecommender(recommender)\n",
    "# print(f'User KNN')\n",
    "# display(result_df)"
   ]
  }
 ],
 "metadata": {
  "kaggle": {
   "accelerator": "none",
   "dataSources": [
    {
     "databundleVersionId": 6919098,
     "sourceId": 62803,
     "sourceType": "competition"
    }
   ],
   "dockerImageVersionId": 30579,
   "isGpuEnabled": false,
   "isInternetEnabled": true,
   "language": "python",
   "sourceType": "notebook"
  },
  "kernelspec": {
   "display_name": "Python 3",
   "language": "python",
   "name": "python3"
  },
  "language_info": {
   "codemirror_mode": {
    "name": "ipython",
    "version": 3
   },
   "file_extension": ".py",
   "mimetype": "text/x-python",
   "name": "python",
   "nbconvert_exporter": "python",
   "pygments_lexer": "ipython3",
   "version": "3.10.12"
  },
  "papermill": {
   "default_parameters": {},
   "duration": 7069.279026,
   "end_time": "2023-12-09T12:39:09.295210",
   "environment_variables": {},
   "exception": null,
   "input_path": "__notebook__.ipynb",
   "output_path": "__notebook__.ipynb",
   "parameters": {},
   "start_time": "2023-12-09T10:41:20.016184",
   "version": "2.4.0"
  }
 },
 "nbformat": 4,
 "nbformat_minor": 5
}
