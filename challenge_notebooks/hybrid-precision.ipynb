{
 "cells": [
  {
   "cell_type": "code",
   "execution_count": 1,
   "id": "1afd3152",
   "metadata": {
    "_cell_guid": "b1076dfc-b9ad-4769-8c92-a6c4dae69d19",
    "_uuid": "8f2839f25d086af736a60e9eeb907d3b93b6e0e5",
    "execution": {
     "iopub.execute_input": "2023-11-25T18:09:07.894399Z",
     "iopub.status.busy": "2023-11-25T18:09:07.893476Z",
     "iopub.status.idle": "2023-11-25T18:09:11.473594Z",
     "shell.execute_reply": "2023-11-25T18:09:11.472187Z"
    },
    "papermill": {
     "duration": 3.599183,
     "end_time": "2023-11-25T18:09:11.476889",
     "exception": false,
     "start_time": "2023-11-25T18:09:07.877706",
     "status": "completed"
    },
    "tags": []
   },
   "outputs": [
    {
     "name": "stdout",
     "output_type": "stream",
     "text": [
      "Cloning into 'Recsys_Challenge_2023'...\r\n",
      "remote: Enumerating objects: 684, done.\u001b[K\r\n",
      "remote: Counting objects: 100% (114/114), done.\u001b[K\r\n",
      "remote: Compressing objects: 100% (113/113), done.\u001b[K\r\n",
      "remote: Total 684 (delta 88), reused 0 (delta 0), pack-reused 570\u001b[K\r\n",
      "Receiving objects: 100% (684/684), 13.52 MiB | 20.73 MiB/s, done.\r\n",
      "Resolving deltas: 100% (428/428), done.\r\n"
     ]
    }
   ],
   "source": [
    "from kaggle_secrets import UserSecretsClient\n",
    "secret_label = \"Token\"\n",
    "token = UserSecretsClient().get_secret(secret_label)\n",
    "\n",
    "! git clone https://{token}@github.com/CarloSgaravatti/Recsys_Challenge_2023.git"
   ]
  },
  {
   "cell_type": "code",
   "execution_count": 2,
   "id": "20ff066b",
   "metadata": {
    "execution": {
     "iopub.execute_input": "2023-11-25T18:09:11.507579Z",
     "iopub.status.busy": "2023-11-25T18:09:11.507074Z",
     "iopub.status.idle": "2023-11-25T18:09:28.829456Z",
     "shell.execute_reply": "2023-11-25T18:09:28.827500Z"
    },
    "papermill": {
     "duration": 17.341476,
     "end_time": "2023-11-25T18:09:28.832444",
     "exception": false,
     "start_time": "2023-11-25T18:09:11.490968",
     "status": "completed"
    },
    "tags": []
   },
   "outputs": [
    {
     "name": "stdout",
     "output_type": "stream",
     "text": [
      "Collecting PyGithub\r\n",
      "  Obtaining dependency information for PyGithub from https://files.pythonhosted.org/packages/be/04/810d131be173cba445d3658a45512b2b2b3d0960d52c4a300d6ec5e00f52/PyGithub-2.1.1-py3-none-any.whl.metadata\r\n",
      "  Downloading PyGithub-2.1.1-py3-none-any.whl.metadata (2.2 kB)\r\n",
      "Requirement already satisfied: requests in /opt/conda/lib/python3.10/site-packages (2.31.0)\r\n",
      "Collecting pynacl>=1.4.0 (from PyGithub)\r\n",
      "  Downloading PyNaCl-1.5.0-cp36-abi3-manylinux_2_17_x86_64.manylinux2014_x86_64.manylinux_2_24_x86_64.whl (856 kB)\r\n",
      "\u001b[2K     \u001b[90m━━━━━━━━━━━━━━━━━━━━━━━━━━━━━━━━━━━━━━\u001b[0m \u001b[32m856.7/856.7 kB\u001b[0m \u001b[31m15.3 MB/s\u001b[0m eta \u001b[36m0:00:00\u001b[0m\r\n",
      "\u001b[?25hRequirement already satisfied: python-dateutil in /opt/conda/lib/python3.10/site-packages (from PyGithub) (2.8.2)\r\n",
      "Requirement already satisfied: pyjwt[crypto]>=2.4.0 in /opt/conda/lib/python3.10/site-packages (from PyGithub) (2.8.0)\r\n",
      "Requirement already satisfied: typing-extensions>=4.0.0 in /opt/conda/lib/python3.10/site-packages (from PyGithub) (4.5.0)\r\n",
      "Requirement already satisfied: urllib3>=1.26.0 in /opt/conda/lib/python3.10/site-packages (from PyGithub) (1.26.15)\r\n",
      "Requirement already satisfied: Deprecated in /opt/conda/lib/python3.10/site-packages (from PyGithub) (1.2.14)\r\n",
      "Requirement already satisfied: charset-normalizer<4,>=2 in /opt/conda/lib/python3.10/site-packages (from requests) (3.2.0)\r\n",
      "Requirement already satisfied: idna<4,>=2.5 in /opt/conda/lib/python3.10/site-packages (from requests) (3.4)\r\n",
      "Requirement already satisfied: certifi>=2017.4.17 in /opt/conda/lib/python3.10/site-packages (from requests) (2023.7.22)\r\n",
      "Requirement already satisfied: cryptography>=3.4.0 in /opt/conda/lib/python3.10/site-packages (from pyjwt[crypto]>=2.4.0->PyGithub) (41.0.3)\r\n",
      "Requirement already satisfied: cffi>=1.4.1 in /opt/conda/lib/python3.10/site-packages (from pynacl>=1.4.0->PyGithub) (1.15.1)\r\n",
      "Requirement already satisfied: wrapt<2,>=1.10 in /opt/conda/lib/python3.10/site-packages (from Deprecated->PyGithub) (1.15.0)\r\n",
      "Requirement already satisfied: six>=1.5 in /opt/conda/lib/python3.10/site-packages (from python-dateutil->PyGithub) (1.16.0)\r\n",
      "Requirement already satisfied: pycparser in /opt/conda/lib/python3.10/site-packages (from cffi>=1.4.1->pynacl>=1.4.0->PyGithub) (2.21)\r\n",
      "Downloading PyGithub-2.1.1-py3-none-any.whl (302 kB)\r\n",
      "\u001b[2K   \u001b[90m━━━━━━━━━━━━━━━━━━━━━━━━━━━━━━━━━━━━━━━━\u001b[0m \u001b[32m302.9/302.9 kB\u001b[0m \u001b[31m20.7 MB/s\u001b[0m eta \u001b[36m0:00:00\u001b[0m\r\n",
      "\u001b[?25hInstalling collected packages: pynacl, PyGithub\r\n",
      "Successfully installed PyGithub-2.1.1 pynacl-1.5.0\r\n"
     ]
    }
   ],
   "source": [
    "! pip install PyGithub requests"
   ]
  },
  {
   "cell_type": "code",
   "execution_count": 3,
   "id": "0b5ba433",
   "metadata": {
    "_kg_hide-output": true,
    "execution": {
     "iopub.execute_input": "2023-11-25T18:09:28.865012Z",
     "iopub.status.busy": "2023-11-25T18:09:28.864551Z",
     "iopub.status.idle": "2023-11-25T18:12:27.795037Z",
     "shell.execute_reply": "2023-11-25T18:12:27.793250Z"
    },
    "papermill": {
     "duration": 178.951015,
     "end_time": "2023-11-25T18:12:27.798642",
     "exception": false,
     "start_time": "2023-11-25T18:09:28.847627",
     "status": "completed"
    },
    "scrolled": true,
    "tags": []
   },
   "outputs": [
    {
     "name": "stdout",
     "output_type": "stream",
     "text": [
      "run_compile_all_cython: Found 10 Cython files in 4 folders...\r\n",
      "run_compile_all_cython: All files will be compiled using your current python environment: '/opt/conda/bin/python'\r\n",
      "Compiling [1/10]: MatrixFactorization_Cython_Epoch.pyx... \r\n",
      "In file included from \u001b[01m\u001b[K/opt/conda/lib/python3.10/site-packages/numpy/core/include/numpy/ndarraytypes.h:1940\u001b[m\u001b[K,\r\n",
      "                 from \u001b[01m\u001b[K/opt/conda/lib/python3.10/site-packages/numpy/core/include/numpy/ndarrayobject.h:12\u001b[m\u001b[K,\r\n",
      "                 from \u001b[01m\u001b[K/opt/conda/lib/python3.10/site-packages/numpy/core/include/numpy/arrayobject.h:5\u001b[m\u001b[K,\r\n",
      "                 from \u001b[01m\u001b[KMatrixFactorization_Cython_Epoch.c:1109\u001b[m\u001b[K:\r\n",
      "\u001b[01m\u001b[K/opt/conda/lib/python3.10/site-packages/numpy/core/include/numpy/npy_1_7_deprecated_api.h:17:2:\u001b[m\u001b[K \u001b[01;35m\u001b[Kwarning: \u001b[m\u001b[K#warning \"Using deprecated NumPy API, disable it with \" \"#define NPY_NO_DEPRECATED_API NPY_1_7_API_VERSION\" [\u001b[01;35m\u001b[K-Wcpp\u001b[m\u001b[K]\r\n",
      "   17 | #\u001b[01;35m\u001b[Kwarning\u001b[m\u001b[K \"Using deprecated NumPy API, disable it with \" \\\r\n",
      "      |  \u001b[01;35m\u001b[K^~~~~~~\u001b[m\u001b[K\r\n",
      "\u001b[01m\u001b[KMatrixFactorization_Cython_Epoch.c:\u001b[m\u001b[K In function ‘\u001b[01m\u001b[K__pyx_pf_32MatrixFactorization_Cython_Epoch_32MatrixFactorization_Cython_Epoch_10epochIteration_Cython_ASY_SVD_SGD\u001b[m\u001b[K’:\r\n",
      "\u001b[01m\u001b[KMatrixFactorization_Cython_Epoch.c:25614:9:\u001b[m\u001b[K \u001b[01;35m\u001b[Kwarning: \u001b[m\u001b[K‘\u001b[01m\u001b[K__pyx_v_end_pos_seen_items\u001b[m\u001b[K’ may be used uninitialized in this function [\u001b[01;35m\u001b[K-Wmaybe-uninitialized\u001b[m\u001b[K]\r\n",
      "25614 |         \u001b[01;35m\u001b[Kfor\u001b[m\u001b[K (__pyx_t_21 = __pyx_v_start_pos_seen_items; __pyx_t_21 < __pyx_t_20; __pyx_t_21+=1) {\r\n",
      "      |         \u001b[01;35m\u001b[K^~~\u001b[m\u001b[K\r\n",
      "\u001b[01m\u001b[KMatrixFactorization_Cython_Epoch.c:25614:9:\u001b[m\u001b[K \u001b[01;35m\u001b[Kwarning: \u001b[m\u001b[K‘\u001b[01m\u001b[K__pyx_v_start_pos_seen_items\u001b[m\u001b[K’ may be used uninitialized in this function [\u001b[01;35m\u001b[K-Wmaybe-uninitialized\u001b[m\u001b[K]\r\n",
      "/opt/conda/lib/python3.10/site-packages/Cython/Compiler/Main.py:381: FutureWarning: Cython directive 'language_level' not set, using '3str' for now (Py3). This has changed from earlier releases! File: /kaggle/working/Recsys_Challenge_2023/Recommenders/MatrixFactorization/Cython/MatrixFactorization_Cython_Epoch.pyx\r\n",
      "  tree = Parsing.p_module(s, pxd, full_module_name)\r\n",
      "Compiling [1/10]: MatrixFactorization_Cython_Epoch.pyx... PASS\r\n",
      "\r\n",
      "Compiling [2/10]: MatrixFactorizationImpressions_Cython_Epoch.pyx... \r\n",
      "In file included from \u001b[01m\u001b[K/opt/conda/lib/python3.10/site-packages/numpy/core/include/numpy/ndarraytypes.h:1940\u001b[m\u001b[K,\r\n",
      "                 from \u001b[01m\u001b[K/opt/conda/lib/python3.10/site-packages/numpy/core/include/numpy/ndarrayobject.h:12\u001b[m\u001b[K,\r\n",
      "                 from \u001b[01m\u001b[K/opt/conda/lib/python3.10/site-packages/numpy/core/include/numpy/arrayobject.h:5\u001b[m\u001b[K,\r\n",
      "                 from \u001b[01m\u001b[KMatrixFactorizationImpressions_Cython_Epoch.c:1109\u001b[m\u001b[K:\r\n",
      "\u001b[01m\u001b[K/opt/conda/lib/python3.10/site-packages/numpy/core/include/numpy/npy_1_7_deprecated_api.h:17:2:\u001b[m\u001b[K \u001b[01;35m\u001b[Kwarning: \u001b[m\u001b[K#warning \"Using deprecated NumPy API, disable it with \" \"#define NPY_NO_DEPRECATED_API NPY_1_7_API_VERSION\" [\u001b[01;35m\u001b[K-Wcpp\u001b[m\u001b[K]\r\n",
      "   17 | #\u001b[01;35m\u001b[Kwarning\u001b[m\u001b[K \"Using deprecated NumPy API, disable it with \" \\\r\n",
      "      |  \u001b[01;35m\u001b[K^~~~~~~\u001b[m\u001b[K\r\n",
      "\u001b[01m\u001b[KMatrixFactorizationImpressions_Cython_Epoch.c:\u001b[m\u001b[K In function ‘\u001b[01m\u001b[K__pyx_f_43MatrixFactorizationImpressions_Cython_Epoch_32MatrixFactorization_Cython_Epoch_sampleBPR_Cython\u001b[m\u001b[K’:\r\n",
      "\u001b[01m\u001b[KMatrixFactorizationImpressions_Cython_Epoch.c:29664:17:\u001b[m\u001b[K \u001b[01;35m\u001b[Kwarning: \u001b[m\u001b[K‘\u001b[01m\u001b[K__pyx_v_start_pos_impression_items\u001b[m\u001b[K’ may be used uninitialized in this function [\u001b[01;35m\u001b[K-Wmaybe-uninitialized\u001b[m\u001b[K]\r\n",
      "29664 |       \u001b[01;35m\u001b[K__pyx_t_4 = (__pyx_v_start_pos_impression_items + __pyx_v_index)\u001b[m\u001b[K;\r\n",
      "      |       \u001b[01;35m\u001b[K~~~~~~~~~~^~~~~~~~~~~~~~~~~~~~~~~~~~~~~~~~~~~~~~~~~~~~~~~~~~~~~~\u001b[m\u001b[K\r\n",
      "\u001b[01m\u001b[KMatrixFactorizationImpressions_Cython_Epoch.c:\u001b[m\u001b[K In function ‘\u001b[01m\u001b[K__pyx_pf_43MatrixFactorizationImpressions_Cython_Epoch_32MatrixFactorization_Cython_Epoch_10epochIteration_Cython_ASY_SVD_SGD\u001b[m\u001b[K’:\r\n",
      "\u001b[01m\u001b[KMatrixFactorizationImpressions_Cython_Epoch.c:25474:7:\u001b[m\u001b[K \u001b[01;35m\u001b[Kwarning: \u001b[m\u001b[K‘\u001b[01m\u001b[K__pyx_v_end_pos_seen_items\u001b[m\u001b[K’ may be used uninitialized in this function [\u001b[01;35m\u001b[K-Wmaybe-uninitialized\u001b[m\u001b[K]\r\n",
      "25474 |       \u001b[01;35m\u001b[Kfor\u001b[m\u001b[K (__pyx_t_21 = __pyx_v_start_pos_seen_items; __pyx_t_21 < __pyx_t_20; __pyx_t_21+=1) {\r\n",
      "      |       \u001b[01;35m\u001b[K^~~\u001b[m\u001b[K\r\n",
      "\u001b[01m\u001b[KMatrixFactorizationImpressions_Cython_Epoch.c:25474:7:\u001b[m\u001b[K \u001b[01;35m\u001b[Kwarning: \u001b[m\u001b[K‘\u001b[01m\u001b[K__pyx_v_start_pos_seen_items\u001b[m\u001b[K’ may be used uninitialized in this function [\u001b[01;35m\u001b[K-Wmaybe-uninitialized\u001b[m\u001b[K]\r\n",
      "/opt/conda/lib/python3.10/site-packages/Cython/Compiler/Main.py:381: FutureWarning: Cython directive 'language_level' not set, using '3str' for now (Py3). This has changed from earlier releases! File: /kaggle/working/Recsys_Challenge_2023/Recommenders/MatrixFactorization/Cython/MatrixFactorizationImpressions_Cython_Epoch.pyx\r\n",
      "  tree = Parsing.p_module(s, pxd, full_module_name)\r\n",
      "Compiling [2/10]: MatrixFactorizationImpressions_Cython_Epoch.pyx... PASS\r\n",
      "\r\n",
      "Compiling [3/10]: Compute_Similarity_Cython.pyx... \r\n",
      "warning: Compute_Similarity_Cython.pyx:21:0: The 'IF' statement is deprecated and will be removed in a future Cython version. Consider using runtime conditions or C macros instead. See https://github.com/cython/cython/issues/4310\r\n",
      "warning: Compute_Similarity_Cython.pyx:22:4: The 'DEF' statement is deprecated and will be removed in a future Cython version. Consider using global variables, constants, and in-place literals instead. See https://github.com/cython/cython/issues/4310\r\n",
      "warning: Compute_Similarity_Cython.pyx:24:4: The 'DEF' statement is deprecated and will be removed in a future Cython version. Consider using global variables, constants, and in-place literals instead. See https://github.com/cython/cython/issues/4310\r\n",
      "warning: Compute_Similarity_Cython.pyx:26:4: The 'DEF' statement is deprecated and will be removed in a future Cython version. Consider using global variables, constants, and in-place literals instead. See https://github.com/cython/cython/issues/4310\r\n",
      "In file included from \u001b[01m\u001b[K/opt/conda/lib/python3.10/site-packages/numpy/core/include/numpy/ndarraytypes.h:1940\u001b[m\u001b[K,\r\n",
      "                 from \u001b[01m\u001b[K/opt/conda/lib/python3.10/site-packages/numpy/core/include/numpy/ndarrayobject.h:12\u001b[m\u001b[K,\r\n",
      "                 from \u001b[01m\u001b[K/opt/conda/lib/python3.10/site-packages/numpy/core/include/numpy/arrayobject.h:5\u001b[m\u001b[K,\r\n",
      "                 from \u001b[01m\u001b[KCompute_Similarity_Cython.c:1109\u001b[m\u001b[K:\r\n",
      "\u001b[01m\u001b[K/opt/conda/lib/python3.10/site-packages/numpy/core/include/numpy/npy_1_7_deprecated_api.h:17:2:\u001b[m\u001b[K \u001b[01;35m\u001b[Kwarning: \u001b[m\u001b[K#warning \"Using deprecated NumPy API, disable it with \" \"#define NPY_NO_DEPRECATED_API NPY_1_7_API_VERSION\" [\u001b[01;35m\u001b[K-Wcpp\u001b[m\u001b[K]\r\n",
      "   17 | #\u001b[01;35m\u001b[Kwarning\u001b[m\u001b[K \"Using deprecated NumPy API, disable it with \" \\\r\n",
      "      |  \u001b[01;35m\u001b[K^~~~~~~\u001b[m\u001b[K\r\n",
      "/opt/conda/lib/python3.10/site-packages/Cython/Compiler/Main.py:381: FutureWarning: Cython directive 'language_level' not set, using '3str' for now (Py3). This has changed from earlier releases! File: /kaggle/working/Recsys_Challenge_2023/Recommenders/Similarity/Cython/Compute_Similarity_Cython.pyx\r\n",
      "  tree = Parsing.p_module(s, pxd, full_module_name)\r\n",
      "warning: Compute_Similarity_Cython.pyx:21:0: The 'IF' statement is deprecated and will be removed in a future Cython version. Consider using runtime conditions or C macros instead. See https://github.com/cython/cython/issues/4310\r\n",
      "warning: Compute_Similarity_Cython.pyx:22:4: The 'DEF' statement is deprecated and will be removed in a future Cython version. Consider using global variables, constants, and in-place literals instead. See https://github.com/cython/cython/issues/4310\r\n",
      "warning: Compute_Similarity_Cython.pyx:24:4: The 'DEF' statement is deprecated and will be removed in a future Cython version. Consider using global variables, constants, and in-place literals instead. See https://github.com/cython/cython/issues/4310\r\n",
      "warning: Compute_Similarity_Cython.pyx:26:4: The 'DEF' statement is deprecated and will be removed in a future Cython version. Consider using global variables, constants, and in-place literals instead. See https://github.com/cython/cython/issues/4310\r\n",
      "Compiling [3/10]: Compute_Similarity_Cython.pyx... PASS\r\n",
      "\r\n",
      "Compiling [4/10]: Sparse_Matrix_Tree_CSR.pyx... \r\n",
      "warning: Sparse_Matrix_Tree_CSR.pyx:132:34: Non-trivial type declarators in shared declaration (e.g. mix of pointers and values). Each pointer declaration should be on its own line.\r\n",
      "warning: Sparse_Matrix_Tree_CSR.pyx:132:66: Non-trivial type declarators in shared declaration (e.g. mix of pointers and values). Each pointer declaration should be on its own line.\r\n",
      "warning: Sparse_Matrix_Tree_CSR.pyx:343:35: Non-trivial type declarators in shared declaration (e.g. mix of pointers and values). Each pointer declaration should be on its own line.\r\n",
      "warning: Sparse_Matrix_Tree_CSR.pyx:343:52: Non-trivial type declarators in shared declaration (e.g. mix of pointers and values). Each pointer declaration should be on its own line.\r\n",
      "warning: Sparse_Matrix_Tree_CSR.pyx:442:35: Non-trivial type declarators in shared declaration (e.g. mix of pointers and values). Each pointer declaration should be on its own line.\r\n",
      "warning: Sparse_Matrix_Tree_CSR.pyx:442:53: Non-trivial type declarators in shared declaration (e.g. mix of pointers and values). Each pointer declaration should be on its own line.\r\n",
      "warning: Sparse_Matrix_Tree_CSR.pyx:442:69: Non-trivial type declarators in shared declaration (e.g. mix of pointers and values). Each pointer declaration should be on its own line.\r\n",
      "warning: Sparse_Matrix_Tree_CSR.pyx:577:35: Non-trivial type declarators in shared declaration (e.g. mix of pointers and values). Each pointer declaration should be on its own line.\r\n",
      "warning: Sparse_Matrix_Tree_CSR.pyx:577:42: Non-trivial type declarators in shared declaration (e.g. mix of pointers and values). Each pointer declaration should be on its own line.\r\n",
      "warning: Sparse_Matrix_Tree_CSR.pyx:578:35: Non-trivial type declarators in shared declaration (e.g. mix of pointers and values). Each pointer declaration should be on its own line.\r\n",
      "warning: Sparse_Matrix_Tree_CSR.pyx:578:53: Non-trivial type declarators in shared declaration (e.g. mix of pointers and values). Each pointer declaration should be on its own line.\r\n",
      "\r\n",
      "Error compiling Cython file:\r\n",
      "------------------------------------------------------------\r\n",
      "...\r\n",
      "            vector_pointer_to_list_elements[index].head = current_element\r\n",
      "            current_element = current_element.higher\r\n",
      "\r\n",
      "\r\n",
      "        # Sort array elements on their data field\r\n",
      "        qsort(vector_pointer_to_list_elements, list_length, sizeof(head_pointer_tree_s), compare_struct_on_data)\r\n",
      "                                                                                         ^\r\n",
      "------------------------------------------------------------\r\n",
      "\r\n",
      "Sparse_Matrix_Tree_CSR.pyx:516:89: Cannot assign type 'int (const void *, const void *) except? -1' to 'int (*)(const_void *, const_void *) noexcept'\r\n",
      "\r\n",
      "Error compiling Cython file:\r\n",
      "------------------------------------------------------------\r\n",
      "...\r\n",
      "        # Sort array elements on their data field\r\n",
      "        qsort(vector_pointer_to_list_elements, list_length, sizeof(head_pointer_tree_s), compare_struct_on_data)\r\n",
      "\r\n",
      "        # Sort only the TopK according to their column field\r\n",
      "        # Sort is from lower to higher, therefore the elements to be considered are from len-topK to len\r\n",
      "        qsort(&vector_pointer_to_list_elements[list_length-TopK], TopK, sizeof(head_pointer_tree_s), compare_struct_on_column)\r\n",
      "                                                                                                     ^\r\n",
      "------------------------------------------------------------\r\n",
      "\r\n",
      "Sparse_Matrix_Tree_CSR.pyx:520:101: Cannot assign type 'int (const void *, const void *) except? -1' to 'int (*)(const_void *, const_void *) noexcept'\r\n",
      "Traceback (most recent call last):\r\n",
      "  File \"/kaggle/working/Recsys_Challenge_2023/CythonCompiler/compile_script.py\", line 48, in <module>\r\n",
      "    setup(\r\n",
      "  File \"/opt/conda/lib/python3.10/site-packages/setuptools/__init__.py\", line 107, in setup\r\n",
      "    return distutils.core.setup(**attrs)\r\n",
      "  File \"/opt/conda/lib/python3.10/site-packages/setuptools/_distutils/core.py\", line 185, in setup\r\n",
      "    return run_commands(dist)\r\n",
      "  File \"/opt/conda/lib/python3.10/site-packages/setuptools/_distutils/core.py\", line 201, in run_commands\r\n",
      "    dist.run_commands()\r\n",
      "  File \"/opt/conda/lib/python3.10/site-packages/setuptools/_distutils/dist.py\", line 969, in run_commands\r\n",
      "    self.run_command(cmd)\r\n",
      "  File \"/opt/conda/lib/python3.10/site-packages/setuptools/dist.py\", line 1233, in run_command\r\n",
      "    super().run_command(command)\r\n",
      "  File \"/opt/conda/lib/python3.10/site-packages/setuptools/_distutils/dist.py\", line 988, in run_command\r\n",
      "    cmd_obj.run()\r\n",
      "  File \"/opt/conda/lib/python3.10/site-packages/setuptools/_distutils/command/build_ext.py\", line 345, in run\r\n",
      "    self.build_extensions()\r\n",
      "  File \"/opt/conda/lib/python3.10/site-packages/setuptools/_distutils/command/build_ext.py\", line 467, in build_extensions\r\n",
      "    self._build_extensions_serial()\r\n",
      "  File \"/opt/conda/lib/python3.10/site-packages/setuptools/_distutils/command/build_ext.py\", line 493, in _build_extensions_serial\r\n",
      "    self.build_extension(ext)\r\n",
      "  File \"/opt/conda/lib/python3.10/site-packages/Cython/Distutils/build_ext.py\", line 122, in build_extension\r\n",
      "    new_ext = cythonize(\r\n",
      "  File \"/opt/conda/lib/python3.10/site-packages/Cython/Build/Dependencies.py\", line 1134, in cythonize\r\n",
      "    cythonize_one(*args)\r\n",
      "  File \"/opt/conda/lib/python3.10/site-packages/Cython/Build/Dependencies.py\", line 1301, in cythonize_one\r\n",
      "    raise CompileError(None, pyx_file)\r\n",
      "Cython.Compiler.Errors.CompileError: Sparse_Matrix_Tree_CSR.pyx\r\n",
      "Traceback (most recent call last):\r\n",
      "  File \"/kaggle/working/Recsys_Challenge_2023/run_compile_all_cython.py\", line 59, in <module>\r\n",
      "    run_compile_subprocess(file_path, [file_name])\r\n",
      "  File \"/kaggle/working/Recsys_Challenge_2023/CythonCompiler/run_compile_subprocess.py\", line 51, in run_compile_subprocess\r\n",
      "    raise exc\r\n",
      "  File \"/kaggle/working/Recsys_Challenge_2023/CythonCompiler/run_compile_subprocess.py\", line 32, in run_compile_subprocess\r\n",
      "    output = subprocess.check_output(' '.join(command),\r\n",
      "  File \"/opt/conda/lib/python3.10/subprocess.py\", line 421, in check_output\r\n",
      "    return run(*popenargs, stdout=PIPE, timeout=timeout, check=True,\r\n",
      "  File \"/opt/conda/lib/python3.10/subprocess.py\", line 526, in run\r\n",
      "    raise CalledProcessError(retcode, process.args,\r\n",
      "subprocess.CalledProcessError: Command '/opt/conda/bin/python /kaggle/working/Recsys_Challenge_2023/CythonCompiler/compile_script.py Sparse_Matrix_Tree_CSR.pyx build_ext --inplace' returned non-zero exit status 1.\r\n",
      "Compiling [4/10]: Sparse_Matrix_Tree_CSR.pyx... FAIL: Command '/opt/conda/bin/python /kaggle/working/Recsys_Challenge_2023/CythonCompiler/compile_script.py Sparse_Matrix_Tree_CSR.pyx build_ext --inplace' returned non-zero exit status 1.\r\n",
      "\r\n",
      "Compiling [5/10]: Triangular_Matrix.pyx... \r\n",
      "warning: Triangular_Matrix.pyx:22:0: The 'IF' statement is deprecated and will be removed in a future Cython version. Consider using runtime conditions or C macros instead. See https://github.com/cython/cython/issues/4310\r\n",
      "warning: Triangular_Matrix.pyx:23:4: The 'DEF' statement is deprecated and will be removed in a future Cython version. Consider using global variables, constants, and in-place literals instead. See https://github.com/cython/cython/issues/4310\r\n",
      "warning: Triangular_Matrix.pyx:25:4: The 'DEF' statement is deprecated and will be removed in a future Cython version. Consider using global variables, constants, and in-place literals instead. See https://github.com/cython/cython/issues/4310\r\n",
      "warning: Triangular_Matrix.pyx:27:4: The 'DEF' statement is deprecated and will be removed in a future Cython version. Consider using global variables, constants, and in-place literals instead. See https://github.com/cython/cython/issues/4310\r\n",
      "In file included from \u001b[01m\u001b[K/opt/conda/lib/python3.10/site-packages/numpy/core/include/numpy/ndarraytypes.h:1940\u001b[m\u001b[K,\r\n",
      "                 from \u001b[01m\u001b[K/opt/conda/lib/python3.10/site-packages/numpy/core/include/numpy/ndarrayobject.h:12\u001b[m\u001b[K,\r\n",
      "                 from \u001b[01m\u001b[K/opt/conda/lib/python3.10/site-packages/numpy/core/include/numpy/arrayobject.h:5\u001b[m\u001b[K,\r\n",
      "                 from \u001b[01m\u001b[KTriangular_Matrix.c:1109\u001b[m\u001b[K:\r\n",
      "\u001b[01m\u001b[K/opt/conda/lib/python3.10/site-packages/numpy/core/include/numpy/npy_1_7_deprecated_api.h:17:2:\u001b[m\u001b[K \u001b[01;35m\u001b[Kwarning: \u001b[m\u001b[K#warning \"Using deprecated NumPy API, disable it with \" \"#define NPY_NO_DEPRECATED_API NPY_1_7_API_VERSION\" [\u001b[01;35m\u001b[K-Wcpp\u001b[m\u001b[K]\r\n",
      "   17 | #\u001b[01;35m\u001b[Kwarning\u001b[m\u001b[K \"Using deprecated NumPy API, disable it with \" \\\r\n",
      "      |  \u001b[01;35m\u001b[K^~~~~~~\u001b[m\u001b[K\r\n",
      "/opt/conda/lib/python3.10/site-packages/Cython/Compiler/Main.py:381: FutureWarning: Cython directive 'language_level' not set, using '3str' for now (Py3). This has changed from earlier releases! File: /kaggle/working/Recsys_Challenge_2023/Recommenders/SLIM/Cython/Triangular_Matrix.pyx\r\n",
      "  tree = Parsing.p_module(s, pxd, full_module_name)\r\n",
      "warning: Triangular_Matrix.pyx:22:0: The 'IF' statement is deprecated and will be removed in a future Cython version. Consider using runtime conditions or C macros instead. See https://github.com/cython/cython/issues/4310\r\n",
      "warning: Triangular_Matrix.pyx:23:4: The 'DEF' statement is deprecated and will be removed in a future Cython version. Consider using global variables, constants, and in-place literals instead. See https://github.com/cython/cython/issues/4310\r\n",
      "warning: Triangular_Matrix.pyx:25:4: The 'DEF' statement is deprecated and will be removed in a future Cython version. Consider using global variables, constants, and in-place literals instead. See https://github.com/cython/cython/issues/4310\r\n",
      "warning: Triangular_Matrix.pyx:27:4: The 'DEF' statement is deprecated and will be removed in a future Cython version. Consider using global variables, constants, and in-place literals instead. See https://github.com/cython/cython/issues/4310\r\n",
      "Compiling [5/10]: Triangular_Matrix.pyx... PASS\r\n",
      "\r\n",
      "Compiling [6/10]: SLIM_BPR_Cython_Epoch.pyx... \r\n",
      "warning: SLIM_BPR_Cython_Epoch.pyx:24:0: The 'IF' statement is deprecated and will be removed in a future Cython version. Consider using runtime conditions or C macros instead. See https://github.com/cython/cython/issues/4310\r\n",
      "warning: SLIM_BPR_Cython_Epoch.pyx:25:4: The 'DEF' statement is deprecated and will be removed in a future Cython version. Consider using global variables, constants, and in-place literals instead. See https://github.com/cython/cython/issues/4310\r\n",
      "warning: SLIM_BPR_Cython_Epoch.pyx:27:4: The 'DEF' statement is deprecated and will be removed in a future Cython version. Consider using global variables, constants, and in-place literals instead. See https://github.com/cython/cython/issues/4310\r\n",
      "warning: SLIM_BPR_Cython_Epoch.pyx:29:4: The 'DEF' statement is deprecated and will be removed in a future Cython version. Consider using global variables, constants, and in-place literals instead. See https://github.com/cython/cython/issues/4310\r\n",
      "warning: SLIM_BPR_Cython_Epoch.pyx:632:34: Non-trivial type declarators in shared declaration (e.g. mix of pointers and values). Each pointer declaration should be on its own line.\r\n",
      "warning: SLIM_BPR_Cython_Epoch.pyx:632:66: Non-trivial type declarators in shared declaration (e.g. mix of pointers and values). Each pointer declaration should be on its own line.\r\n",
      "warning: SLIM_BPR_Cython_Epoch.pyx:817:35: Non-trivial type declarators in shared declaration (e.g. mix of pointers and values). Each pointer declaration should be on its own line.\r\n",
      "warning: SLIM_BPR_Cython_Epoch.pyx:817:52: Non-trivial type declarators in shared declaration (e.g. mix of pointers and values). Each pointer declaration should be on its own line.\r\n",
      "warning: SLIM_BPR_Cython_Epoch.pyx:916:35: Non-trivial type declarators in shared declaration (e.g. mix of pointers and values). Each pointer declaration should be on its own line.\r\n",
      "warning: SLIM_BPR_Cython_Epoch.pyx:916:53: Non-trivial type declarators in shared declaration (e.g. mix of pointers and values). Each pointer declaration should be on its own line.\r\n",
      "warning: SLIM_BPR_Cython_Epoch.pyx:916:69: Non-trivial type declarators in shared declaration (e.g. mix of pointers and values). Each pointer declaration should be on its own line.\r\n",
      "warning: SLIM_BPR_Cython_Epoch.pyx:1051:35: Non-trivial type declarators in shared declaration (e.g. mix of pointers and values). Each pointer declaration should be on its own line.\r\n",
      "warning: SLIM_BPR_Cython_Epoch.pyx:1051:42: Non-trivial type declarators in shared declaration (e.g. mix of pointers and values). Each pointer declaration should be on its own line.\r\n",
      "warning: SLIM_BPR_Cython_Epoch.pyx:1052:35: Non-trivial type declarators in shared declaration (e.g. mix of pointers and values). Each pointer declaration should be on its own line.\r\n",
      "warning: SLIM_BPR_Cython_Epoch.pyx:1052:53: Non-trivial type declarators in shared declaration (e.g. mix of pointers and values). Each pointer declaration should be on its own line.\r\n",
      "\r\n",
      "Error compiling Cython file:\r\n",
      "------------------------------------------------------------\r\n",
      "...\r\n",
      "            vector_pointer_to_list_elements[index].head = current_element\r\n",
      "            current_element = current_element.higher\r\n",
      "\r\n",
      "\r\n",
      "        # Sort array elements on their data field\r\n",
      "        qsort(vector_pointer_to_list_elements, list_length, sizeof(head_pointer_tree_s), compare_struct_on_data)\r\n",
      "                                                                                         ^\r\n",
      "------------------------------------------------------------\r\n",
      "\r\n",
      "SLIM_BPR_Cython_Epoch.pyx:990:89: Cannot assign type 'int (const void *, const void *) except? -1' to 'int (*)(const_void *, const_void *) noexcept'\r\n",
      "\r\n",
      "Error compiling Cython file:\r\n",
      "------------------------------------------------------------\r\n",
      "...\r\n",
      "        # Sort array elements on their data field\r\n",
      "        qsort(vector_pointer_to_list_elements, list_length, sizeof(head_pointer_tree_s), compare_struct_on_data)\r\n",
      "\r\n",
      "        # Sort only the TopK according to their column field\r\n",
      "        # Sort is from lower to higher, therefore the elements to be considered are from len-topK to len\r\n",
      "        qsort(&vector_pointer_to_list_elements[list_length-TopK], TopK, sizeof(head_pointer_tree_s), compare_struct_on_column)\r\n",
      "                                                                                                     ^\r\n",
      "------------------------------------------------------------\r\n",
      "\r\n",
      "SLIM_BPR_Cython_Epoch.pyx:994:101: Cannot assign type 'int (const void *, const void *) except? -1' to 'int (*)(const_void *, const_void *) noexcept'\r\n",
      "Traceback (most recent call last):\r\n",
      "  File \"/kaggle/working/Recsys_Challenge_2023/CythonCompiler/compile_script.py\", line 48, in <module>\r\n",
      "    setup(\r\n",
      "  File \"/opt/conda/lib/python3.10/site-packages/setuptools/__init__.py\", line 107, in setup\r\n",
      "    return distutils.core.setup(**attrs)\r\n",
      "  File \"/opt/conda/lib/python3.10/site-packages/setuptools/_distutils/core.py\", line 185, in setup\r\n",
      "    return run_commands(dist)\r\n",
      "  File \"/opt/conda/lib/python3.10/site-packages/setuptools/_distutils/core.py\", line 201, in run_commands\r\n",
      "    dist.run_commands()\r\n",
      "  File \"/opt/conda/lib/python3.10/site-packages/setuptools/_distutils/dist.py\", line 969, in run_commands\r\n",
      "    self.run_command(cmd)\r\n",
      "  File \"/opt/conda/lib/python3.10/site-packages/setuptools/dist.py\", line 1233, in run_command\r\n",
      "    super().run_command(command)\r\n",
      "  File \"/opt/conda/lib/python3.10/site-packages/setuptools/_distutils/dist.py\", line 988, in run_command\r\n",
      "    cmd_obj.run()\r\n",
      "  File \"/opt/conda/lib/python3.10/site-packages/setuptools/_distutils/command/build_ext.py\", line 345, in run\r\n",
      "    self.build_extensions()\r\n",
      "  File \"/opt/conda/lib/python3.10/site-packages/setuptools/_distutils/command/build_ext.py\", line 467, in build_extensions\r\n",
      "    self._build_extensions_serial()\r\n",
      "  File \"/opt/conda/lib/python3.10/site-packages/setuptools/_distutils/command/build_ext.py\", line 493, in _build_extensions_serial\r\n",
      "    self.build_extension(ext)\r\n",
      "  File \"/opt/conda/lib/python3.10/site-packages/Cython/Distutils/build_ext.py\", line 122, in build_extension\r\n",
      "    new_ext = cythonize(\r\n",
      "  File \"/opt/conda/lib/python3.10/site-packages/Cython/Build/Dependencies.py\", line 1134, in cythonize\r\n",
      "    cythonize_one(*args)\r\n",
      "  File \"/opt/conda/lib/python3.10/site-packages/Cython/Build/Dependencies.py\", line 1301, in cythonize_one\r\n",
      "    raise CompileError(None, pyx_file)\r\n",
      "Cython.Compiler.Errors.CompileError: SLIM_BPR_Cython_Epoch.pyx\r\n",
      "Traceback (most recent call last):\r\n",
      "  File \"/kaggle/working/Recsys_Challenge_2023/run_compile_all_cython.py\", line 59, in <module>\r\n",
      "    run_compile_subprocess(file_path, [file_name])\r\n",
      "  File \"/kaggle/working/Recsys_Challenge_2023/CythonCompiler/run_compile_subprocess.py\", line 51, in run_compile_subprocess\r\n",
      "    raise exc\r\n",
      "  File \"/kaggle/working/Recsys_Challenge_2023/CythonCompiler/run_compile_subprocess.py\", line 32, in run_compile_subprocess\r\n",
      "    output = subprocess.check_output(' '.join(command),\r\n",
      "  File \"/opt/conda/lib/python3.10/subprocess.py\", line 421, in check_output\r\n",
      "    return run(*popenargs, stdout=PIPE, timeout=timeout, check=True,\r\n",
      "  File \"/opt/conda/lib/python3.10/subprocess.py\", line 526, in run\r\n",
      "    raise CalledProcessError(retcode, process.args,\r\n",
      "subprocess.CalledProcessError: Command '/opt/conda/bin/python /kaggle/working/Recsys_Challenge_2023/CythonCompiler/compile_script.py SLIM_BPR_Cython_Epoch.pyx build_ext --inplace' returned non-zero exit status 1.\r\n",
      "Compiling [6/10]: SLIM_BPR_Cython_Epoch.pyx... FAIL: Command '/opt/conda/bin/python /kaggle/working/Recsys_Challenge_2023/CythonCompiler/compile_script.py SLIM_BPR_Cython_Epoch.pyx build_ext --inplace' returned non-zero exit status 1.\r\n",
      "\r\n",
      "Compiling [7/10]: FBSM_Rating_Cython_SGD.pyx... \r\n",
      "In file included from \u001b[01m\u001b[K/opt/conda/lib/python3.10/site-packages/numpy/core/include/numpy/ndarraytypes.h:1940\u001b[m\u001b[K,\r\n",
      "                 from \u001b[01m\u001b[K/opt/conda/lib/python3.10/site-packages/numpy/core/include/numpy/ndarrayobject.h:12\u001b[m\u001b[K,\r\n",
      "                 from \u001b[01m\u001b[K/opt/conda/lib/python3.10/site-packages/numpy/core/include/numpy/arrayobject.h:5\u001b[m\u001b[K,\r\n",
      "                 from \u001b[01m\u001b[KFBSM_Rating_Cython_SGD.c:1109\u001b[m\u001b[K:\r\n",
      "\u001b[01m\u001b[K/opt/conda/lib/python3.10/site-packages/numpy/core/include/numpy/npy_1_7_deprecated_api.h:17:2:\u001b[m\u001b[K \u001b[01;35m\u001b[Kwarning: \u001b[m\u001b[K#warning \"Using deprecated NumPy API, disable it with \" \"#define NPY_NO_DEPRECATED_API NPY_1_7_API_VERSION\" [\u001b[01;35m\u001b[K-Wcpp\u001b[m\u001b[K]\r\n",
      "   17 | #\u001b[01;35m\u001b[Kwarning\u001b[m\u001b[K \"Using deprecated NumPy API, disable it with \" \\\r\n",
      "      |  \u001b[01;35m\u001b[K^~~~~~~\u001b[m\u001b[K\r\n",
      "\u001b[01m\u001b[KFBSM_Rating_Cython_SGD.c:\u001b[m\u001b[K In function ‘\u001b[01m\u001b[K__pyx_pf_22FBSM_Rating_Cython_SGD_22FBSM_Rating_Cython_SGD_2fit\u001b[m\u001b[K’:\r\n",
      "\u001b[01m\u001b[KFBSM_Rating_Cython_SGD.c:26038:55:\u001b[m\u001b[K \u001b[01;35m\u001b[Kwarning: \u001b[m\u001b[K‘\u001b[01m\u001b[K__pyx_v_num_sample\u001b[m\u001b[K’ may be used uninitialized in this function [\u001b[01;35m\u001b[K-Wmaybe-uninitialized\u001b[m\u001b[K]\r\n",
      "26038 |   __pyx_t_5 = PyFloat_FromDouble((__pyx_v_cum_loss / \u001b[01;35m\u001b[K((double)__pyx_v_num_sample)\u001b[m\u001b[K)); if (unlikely(!__pyx_t_5)) __PYX_ERR(0, 551, __pyx_L1_error)\r\n",
      "      |                                                      \u001b[01;35m\u001b[K~^~~~~~~~~~~~~~~~~~~~~~~~~~~\u001b[m\u001b[K\r\n",
      "/opt/conda/lib/python3.10/site-packages/Cython/Compiler/Main.py:381: FutureWarning: Cython directive 'language_level' not set, using '3str' for now (Py3). This has changed from earlier releases! File: /kaggle/working/Recsys_Challenge_2023/Recommenders/FeatureWeighting/Cython/FBSM_Rating_Cython_SGD.pyx\r\n",
      "  tree = Parsing.p_module(s, pxd, full_module_name)\r\n",
      "Compiling [7/10]: FBSM_Rating_Cython_SGD.pyx... PASS\r\n",
      "\r\n",
      "Compiling [8/10]: CFW_D_Similarity_Cython_SGD.pyx... \r\n",
      "In file included from \u001b[01m\u001b[K/opt/conda/lib/python3.10/site-packages/numpy/core/include/numpy/ndarraytypes.h:1940\u001b[m\u001b[K,\r\n",
      "                 from \u001b[01m\u001b[K/opt/conda/lib/python3.10/site-packages/numpy/core/include/numpy/ndarrayobject.h:12\u001b[m\u001b[K,\r\n",
      "                 from \u001b[01m\u001b[K/opt/conda/lib/python3.10/site-packages/numpy/core/include/numpy/arrayobject.h:5\u001b[m\u001b[K,\r\n",
      "                 from \u001b[01m\u001b[KCFW_D_Similarity_Cython_SGD.c:1109\u001b[m\u001b[K:\r\n",
      "\u001b[01m\u001b[K/opt/conda/lib/python3.10/site-packages/numpy/core/include/numpy/npy_1_7_deprecated_api.h:17:2:\u001b[m\u001b[K \u001b[01;35m\u001b[Kwarning: \u001b[m\u001b[K#warning \"Using deprecated NumPy API, disable it with \" \"#define NPY_NO_DEPRECATED_API NPY_1_7_API_VERSION\" [\u001b[01;35m\u001b[K-Wcpp\u001b[m\u001b[K]\r\n",
      "   17 | #\u001b[01;35m\u001b[Kwarning\u001b[m\u001b[K \"Using deprecated NumPy API, disable it with \" \\\r\n",
      "      |  \u001b[01;35m\u001b[K^~~~~~~\u001b[m\u001b[K\r\n",
      "\u001b[01m\u001b[KCFW_D_Similarity_Cython_SGD.c:\u001b[m\u001b[K In function ‘\u001b[01m\u001b[K__pyx_pf_27CFW_D_Similarity_Cython_SGD_27CFW_D_Similarity_Cython_SGD_6fit\u001b[m\u001b[K’:\r\n",
      "\u001b[01m\u001b[KCFW_D_Similarity_Cython_SGD.c:22766:55:\u001b[m\u001b[K \u001b[01;35m\u001b[Kwarning: \u001b[m\u001b[K‘\u001b[01m\u001b[K__pyx_v_sample_num\u001b[m\u001b[K’ may be used uninitialized in this function [\u001b[01;35m\u001b[K-Wmaybe-uninitialized\u001b[m\u001b[K]\r\n",
      "22766 |   __pyx_t_3 = PyFloat_FromDouble((__pyx_v_cum_loss / \u001b[01;35m\u001b[K((double)__pyx_v_sample_num)\u001b[m\u001b[K)); if (unlikely(!__pyx_t_3)) __PYX_ERR(0, 290, __pyx_L1_error)\r\n",
      "      |                                                      \u001b[01;35m\u001b[K~^~~~~~~~~~~~~~~~~~~~~~~~~~~\u001b[m\u001b[K\r\n",
      "/opt/conda/lib/python3.10/site-packages/Cython/Compiler/Main.py:381: FutureWarning: Cython directive 'language_level' not set, using '3str' for now (Py3). This has changed from earlier releases! File: /kaggle/working/Recsys_Challenge_2023/Recommenders/FeatureWeighting/Cython/CFW_D_Similarity_Cython_SGD.pyx\r\n",
      "  tree = Parsing.p_module(s, pxd, full_module_name)\r\n",
      "Compiling [8/10]: CFW_D_Similarity_Cython_SGD.pyx... PASS\r\n",
      "\r\n",
      "Compiling [9/10]: CFW_DVV_Similarity_Cython_SGD.pyx... \r\n",
      "In file included from \u001b[01m\u001b[K/opt/conda/lib/python3.10/site-packages/numpy/core/include/numpy/ndarraytypes.h:1940\u001b[m\u001b[K,\r\n",
      "                 from \u001b[01m\u001b[K/opt/conda/lib/python3.10/site-packages/numpy/core/include/numpy/ndarrayobject.h:12\u001b[m\u001b[K,\r\n",
      "                 from \u001b[01m\u001b[K/opt/conda/lib/python3.10/site-packages/numpy/core/include/numpy/arrayobject.h:5\u001b[m\u001b[K,\r\n",
      "                 from \u001b[01m\u001b[KCFW_DVV_Similarity_Cython_SGD.c:1109\u001b[m\u001b[K:\r\n",
      "\u001b[01m\u001b[K/opt/conda/lib/python3.10/site-packages/numpy/core/include/numpy/npy_1_7_deprecated_api.h:17:2:\u001b[m\u001b[K \u001b[01;35m\u001b[Kwarning: \u001b[m\u001b[K#warning \"Using deprecated NumPy API, disable it with \" \"#define NPY_NO_DEPRECATED_API NPY_1_7_API_VERSION\" [\u001b[01;35m\u001b[K-Wcpp\u001b[m\u001b[K]\r\n",
      "   17 | #\u001b[01;35m\u001b[Kwarning\u001b[m\u001b[K \"Using deprecated NumPy API, disable it with \" \\\r\n",
      "      |  \u001b[01;35m\u001b[K^~~~~~~\u001b[m\u001b[K\r\n",
      "/opt/conda/lib/python3.10/site-packages/Cython/Compiler/Main.py:381: FutureWarning: Cython directive 'language_level' not set, using '3str' for now (Py3). This has changed from earlier releases! File: /kaggle/working/Recsys_Challenge_2023/Recommenders/FeatureWeighting/Cython/CFW_DVV_Similarity_Cython_SGD.pyx\r\n",
      "  tree = Parsing.p_module(s, pxd, full_module_name)\r\n",
      "Compiling [9/10]: CFW_DVV_Similarity_Cython_SGD.pyx... PASS\r\n",
      "\r\n",
      "Compiling [10/10]: HP3_Similarity_Cython_SGD.pyx... \r\n",
      "warning: HP3_Similarity_Cython_SGD.pyx:113:40: Index should be typed for more efficient access\r\n",
      "In file included from \u001b[01m\u001b[K/opt/conda/lib/python3.10/site-packages/numpy/core/include/numpy/ndarraytypes.h:1940\u001b[m\u001b[K,\r\n",
      "                 from \u001b[01m\u001b[K/opt/conda/lib/python3.10/site-packages/numpy/core/include/numpy/ndarrayobject.h:12\u001b[m\u001b[K,\r\n",
      "                 from \u001b[01m\u001b[K/opt/conda/lib/python3.10/site-packages/numpy/core/include/numpy/arrayobject.h:5\u001b[m\u001b[K,\r\n",
      "                 from \u001b[01m\u001b[KHP3_Similarity_Cython_SGD.c:1109\u001b[m\u001b[K:\r\n",
      "\u001b[01m\u001b[K/opt/conda/lib/python3.10/site-packages/numpy/core/include/numpy/npy_1_7_deprecated_api.h:17:2:\u001b[m\u001b[K \u001b[01;35m\u001b[Kwarning: \u001b[m\u001b[K#warning \"Using deprecated NumPy API, disable it with \" \"#define NPY_NO_DEPRECATED_API NPY_1_7_API_VERSION\" [\u001b[01;35m\u001b[K-Wcpp\u001b[m\u001b[K]\r\n",
      "   17 | #\u001b[01;35m\u001b[Kwarning\u001b[m\u001b[K \"Using deprecated NumPy API, disable it with \" \\\r\n",
      "      |  \u001b[01;35m\u001b[K^~~~~~~\u001b[m\u001b[K\r\n",
      "\u001b[01m\u001b[KHP3_Similarity_Cython_SGD.c:\u001b[m\u001b[K In function ‘\u001b[01m\u001b[K__pyx_pf_25HP3_Similarity_Cython_SGD_25HP3_Similarity_Cython_SGD_4fit\u001b[m\u001b[K’:\r\n",
      "\u001b[01m\u001b[KHP3_Similarity_Cython_SGD.c:23035:55:\u001b[m\u001b[K \u001b[01;35m\u001b[Kwarning: \u001b[m\u001b[K‘\u001b[01m\u001b[K__pyx_v_sample_num\u001b[m\u001b[K’ may be used uninitialized in this function [\u001b[01;35m\u001b[K-Wmaybe-uninitialized\u001b[m\u001b[K]\r\n",
      "23035 |   __pyx_t_1 = PyFloat_FromDouble((__pyx_v_cum_loss / \u001b[01;35m\u001b[K((double)__pyx_v_sample_num)\u001b[m\u001b[K)); if (unlikely(!__pyx_t_1)) __PYX_ERR(0, 291, __pyx_L1_error)\r\n",
      "      |                                                      \u001b[01;35m\u001b[K~^~~~~~~~~~~~~~~~~~~~~~~~~~~\u001b[m\u001b[K\r\n",
      "/opt/conda/lib/python3.10/site-packages/Cython/Compiler/Main.py:381: FutureWarning: Cython directive 'language_level' not set, using '3str' for now (Py3). This has changed from earlier releases! File: /kaggle/working/Recsys_Challenge_2023/Recommenders/FeatureWeighting/Cython/HP3_Similarity_Cython_SGD.pyx\r\n",
      "  tree = Parsing.p_module(s, pxd, full_module_name)\r\n",
      "warning: HP3_Similarity_Cython_SGD.pyx:113:40: Index should be typed for more efficient access\r\n",
      "Compiling [10/10]: HP3_Similarity_Cython_SGD.pyx... PASS\r\n",
      "\r\n",
      "run_compile_all_cython: Compilation finished. FAILS 2/10.\r\n",
      "Compilation log can be found here: './result_experiments/run_compile_all_cython.txt'\r\n"
     ]
    }
   ],
   "source": [
    "! cd /kaggle/working/Recsys_Challenge_2023 && python run_compile_all_cython.py"
   ]
  },
  {
   "cell_type": "code",
   "execution_count": 4,
   "id": "1bc23051",
   "metadata": {
    "_kg_hide-output": true,
    "execution": {
     "iopub.execute_input": "2023-11-25T18:12:27.842123Z",
     "iopub.status.busy": "2023-11-25T18:12:27.841601Z",
     "iopub.status.idle": "2023-11-25T18:12:32.414207Z",
     "shell.execute_reply": "2023-11-25T18:12:32.412641Z"
    },
    "papermill": {
     "duration": 4.598444,
     "end_time": "2023-11-25T18:12:32.417413",
     "exception": false,
     "start_time": "2023-11-25T18:12:27.818969",
     "status": "completed"
    },
    "tags": []
   },
   "outputs": [
    {
     "name": "stdout",
     "output_type": "stream",
     "text": [
      "/kaggle/input/recommender-system-2023-challenge-polimi/data_train.csv\n",
      "/kaggle/input/recommender-system-2023-challenge-polimi/data_target_users_test.csv\n",
      "/kaggle/input/hybrid-precision/tuning_hybrid_precision.db\n",
      "/kaggle/input/hybrid-precision/__results__.html\n",
      "/kaggle/input/hybrid-precision/__notebook__.ipynb\n",
      "/kaggle/input/hybrid-precision/best_params_item_knn_precision.json\n",
      "/kaggle/input/hybrid-precision/__output__.json\n",
      "/kaggle/input/hybrid-precision/custom.css\n",
      "/kaggle/input/hybrid-precision/Recsys_Challenge_2023/run_all_algorithms.py\n",
      "/kaggle/input/hybrid-precision/Recsys_Challenge_2023/cython_example_FunkSVD.py\n",
      "/kaggle/input/hybrid-precision/Recsys_Challenge_2023/LICENSE\n",
      "/kaggle/input/hybrid-precision/Recsys_Challenge_2023/.gitignore\n",
      "/kaggle/input/hybrid-precision/Recsys_Challenge_2023/rp3-tuning.ipynb\n",
      "/kaggle/input/hybrid-precision/Recsys_Challenge_2023/README.md\n",
      "/kaggle/input/hybrid-precision/Recsys_Challenge_2023/run_hyperparameter_search.py\n",
      "/kaggle/input/hybrid-precision/Recsys_Challenge_2023/cython_example_SLIM_MSE.py\n",
      "/kaggle/input/hybrid-precision/Recsys_Challenge_2023/requirements.txt\n",
      "/kaggle/input/hybrid-precision/Recsys_Challenge_2023/run_test_recommenders.py\n",
      "/kaggle/input/hybrid-precision/Recsys_Challenge_2023/run_compile_all_cython.py\n",
      "/kaggle/input/hybrid-precision/Recsys_Challenge_2023/hybrid.ipynb\n",
      "/kaggle/input/hybrid-precision/Recsys_Challenge_2023/Data_manager/DataSplitter_Holdout.py\n",
      "/kaggle/input/hybrid-precision/Recsys_Challenge_2023/Data_manager/DataSplitter.py\n",
      "/kaggle/input/hybrid-precision/Recsys_Challenge_2023/Data_manager/DatasetMapperManager.py\n",
      "/kaggle/input/hybrid-precision/Recsys_Challenge_2023/Data_manager/data_consistency_check.py\n",
      "/kaggle/input/hybrid-precision/Recsys_Challenge_2023/Data_manager/README.md\n",
      "/kaggle/input/hybrid-precision/Recsys_Challenge_2023/Data_manager/TagPreprocessing.py\n",
      "/kaggle/input/hybrid-precision/Recsys_Challenge_2023/Data_manager/DataReader.py\n",
      "/kaggle/input/hybrid-precision/Recsys_Challenge_2023/Data_manager/DataReader_utils.py\n",
      "/kaggle/input/hybrid-precision/Recsys_Challenge_2023/Data_manager/IncrementalSparseMatrix.py\n",
      "/kaggle/input/hybrid-precision/Recsys_Challenge_2023/Data_manager/run_clean_split_data_files.py\n",
      "/kaggle/input/hybrid-precision/Recsys_Challenge_2023/Data_manager/Dataset.py\n",
      "/kaggle/input/hybrid-precision/Recsys_Challenge_2023/Data_manager/DataSplitter_leave_k_out.py\n",
      "/kaggle/input/hybrid-precision/Recsys_Challenge_2023/Data_manager/__init__.py\n",
      "/kaggle/input/hybrid-precision/Recsys_Challenge_2023/Data_manager/__pycache__/data_consistency_check.cpython-310.pyc\n",
      "/kaggle/input/hybrid-precision/Recsys_Challenge_2023/Data_manager/__pycache__/DatasetMapperManager.cpython-310.pyc\n",
      "/kaggle/input/hybrid-precision/Recsys_Challenge_2023/Data_manager/__pycache__/IncrementalSparseMatrix.cpython-310.pyc\n",
      "/kaggle/input/hybrid-precision/Recsys_Challenge_2023/Data_manager/__pycache__/DataReader.cpython-310.pyc\n",
      "/kaggle/input/hybrid-precision/Recsys_Challenge_2023/Data_manager/__pycache__/DataReader_utils.cpython-310.pyc\n",
      "/kaggle/input/hybrid-precision/Recsys_Challenge_2023/Data_manager/__pycache__/__init__.cpython-310.pyc\n",
      "/kaggle/input/hybrid-precision/Recsys_Challenge_2023/Data_manager/__pycache__/Dataset.cpython-310.pyc\n",
      "/kaggle/input/hybrid-precision/Recsys_Challenge_2023/Data_manager/split_functions/split_train_validation_leave_k_out.py\n",
      "/kaggle/input/hybrid-precision/Recsys_Challenge_2023/Data_manager/split_functions/split_train_validation_cold_items.py\n",
      "/kaggle/input/hybrid-precision/Recsys_Challenge_2023/Data_manager/split_functions/split_train_validation_random_holdout.py\n",
      "/kaggle/input/hybrid-precision/Recsys_Challenge_2023/Data_manager/split_functions/__pycache__/split_train_validation_random_holdout.cpython-310.pyc\n",
      "/kaggle/input/hybrid-precision/Recsys_Challenge_2023/Data_manager/Movielens/Movielens10MReader.py\n",
      "/kaggle/input/hybrid-precision/Recsys_Challenge_2023/Data_manager/Movielens/Movielens1MReader.py\n",
      "/kaggle/input/hybrid-precision/Recsys_Challenge_2023/Data_manager/Movielens/Movielens100KReader.py\n",
      "/kaggle/input/hybrid-precision/Recsys_Challenge_2023/Data_manager/Movielens/MovielensHetrec2011Reader.py\n",
      "/kaggle/input/hybrid-precision/Recsys_Challenge_2023/Data_manager/Movielens/_utils_movielens_parser.py\n",
      "/kaggle/input/hybrid-precision/Recsys_Challenge_2023/Data_manager/Movielens/Movielens20MReader.py\n",
      "/kaggle/input/hybrid-precision/Recsys_Challenge_2023/Data_manager/Movielens/__pycache__/Movielens10MReader.cpython-310.pyc\n",
      "/kaggle/input/hybrid-precision/Recsys_Challenge_2023/Data_manager/Movielens/__pycache__/Movielens1MReader.cpython-310.pyc\n",
      "/kaggle/input/hybrid-precision/Recsys_Challenge_2023/Data_manager/Movielens/__pycache__/_utils_movielens_parser.cpython-310.pyc\n",
      "/kaggle/input/hybrid-precision/Recsys_Challenge_2023/Data_manager/Movielens/__pycache__/Movielens20MReader.cpython-310.pyc\n",
      "/kaggle/input/hybrid-precision/Recsys_Challenge_2023/Data_manager/Movielens/__pycache__/Movielens100KReader.cpython-310.pyc\n",
      "/kaggle/input/hybrid-precision/Recsys_Challenge_2023/Data_manager/Movielens/__pycache__/MovielensHetrec2011Reader.cpython-310.pyc\n",
      "/kaggle/input/hybrid-precision/Recsys_Challenge_2023/Utils/seconds_to_biggest_unit.py\n",
      "/kaggle/input/hybrid-precision/Recsys_Challenge_2023/Utils/PyTorch/utils.py\n",
      "/kaggle/input/hybrid-precision/Recsys_Challenge_2023/Utils/PyTorch/DataSampler.py\n",
      "/kaggle/input/hybrid-precision/Recsys_Challenge_2023/Utils/PyTorch/DataIterator.py\n",
      "/kaggle/input/hybrid-precision/Recsys_Challenge_2023/Utils/PyTorch/Cython/DataIterator.pyx\n",
      "/kaggle/input/hybrid-precision/Recsys_Challenge_2023/Utils/__pycache__/seconds_to_biggest_unit.cpython-310.pyc\n",
      "/kaggle/input/hybrid-precision/Recsys_Challenge_2023/slides/20161219_BPR.pptx\n",
      "/kaggle/input/hybrid-precision/Recsys_Challenge_2023/slides/Felicioni - Off Policy Evaluation.pdf\n",
      "/kaggle/input/hybrid-precision/Recsys_Challenge_2023/slides/Amazon AWS.pdf\n",
      "/kaggle/input/hybrid-precision/Recsys_Challenge_2023/slides/hu_koren_volinsky.pdf\n",
      "/kaggle/input/hybrid-precision/Recsys_Challenge_2023/slides/2017_MF.pdf\n",
      "/kaggle/input/hybrid-precision/Recsys_Challenge_2023/slides/FM.pdf\n",
      "/kaggle/input/hybrid-precision/Recsys_Challenge_2023/slides/rendle_bpr.pdf\n",
      "/kaggle/input/hybrid-precision/Recsys_Challenge_2023/slides/2017_MF.pptx\n",
      "/kaggle/input/hybrid-precision/Recsys_Challenge_2023/slides/Introduction and Materials for RecSys Practice Sessions.pdf\n",
      "/kaggle/input/hybrid-precision/Recsys_Challenge_2023/slides/List_of_KNN_similarity_heuristics.pdf\n",
      "/kaggle/input/hybrid-precision/Recsys_Challenge_2023/slides/Sparse matrices.pdf\n",
      "/kaggle/input/hybrid-precision/Recsys_Challenge_2023/slides/koren_sdv++.pdf\n",
      "/kaggle/input/hybrid-precision/Recsys_Challenge_2023/slides/FunkSVD - 2006.pdf\n",
      "/kaggle/input/hybrid-precision/Recsys_Challenge_2023/Notebooks_utils/Cosine_Similarity_Cython_SLOW.cpython-36m-x86_64-linux-gnu.so\n",
      "/kaggle/input/hybrid-precision/Recsys_Challenge_2023/Notebooks_utils/Cosine_Similarity_Cython_SLOW.c\n",
      "/kaggle/input/hybrid-precision/Recsys_Challenge_2023/Notebooks_utils/compileCython.py\n",
      "/kaggle/input/hybrid-precision/Recsys_Challenge_2023/Notebooks_utils/Cosine_Similarity_Cython.pyx\n",
      "/kaggle/input/hybrid-precision/Recsys_Challenge_2023/Notebooks_utils/Cosine_Similarity_Cython.html\n",
      "/kaggle/input/hybrid-precision/Recsys_Challenge_2023/Notebooks_utils/Compute_Similarity_Python.py\n",
      "/kaggle/input/hybrid-precision/Recsys_Challenge_2023/Notebooks_utils/Cosine_Similarity_Cython.c\n",
      "/kaggle/input/hybrid-precision/Recsys_Challenge_2023/Notebooks_utils/Cosine_Similarity_Cython.cpython-36m-x86_64-linux-gnu.so\n",
      "/kaggle/input/hybrid-precision/Recsys_Challenge_2023/Notebooks_utils/Cosine_Similarity_Cython_SLOW.pyx\n",
      "/kaggle/input/hybrid-precision/Recsys_Challenge_2023/Notebooks_utils/Cosine_Similarity_Cython_SLOW.html\n",
      "/kaggle/input/hybrid-precision/Recsys_Challenge_2023/CythonCompiler/compile_script.py\n",
      "/kaggle/input/hybrid-precision/Recsys_Challenge_2023/CythonCompiler/run_compile_subprocess.py\n",
      "/kaggle/input/hybrid-precision/Recsys_Challenge_2023/CythonCompiler/__pycache__/run_compile_subprocess.cpython-310.pyc\n",
      "/kaggle/input/hybrid-precision/Recsys_Challenge_2023/Recommenders/IR_feature_weighting.py\n",
      "/kaggle/input/hybrid-precision/Recsys_Challenge_2023/Recommenders/Incremental_Training_Early_Stopping.py\n",
      "/kaggle/input/hybrid-precision/Recsys_Challenge_2023/Recommenders/BaseMatrixFactorizationRecommender.py\n",
      "/kaggle/input/hybrid-precision/Recsys_Challenge_2023/Recommenders/BaseRecommender.py\n",
      "/kaggle/input/hybrid-precision/Recsys_Challenge_2023/Recommenders/BaseCBFRecommender.py\n",
      "/kaggle/input/hybrid-precision/Recsys_Challenge_2023/Recommenders/Recommender_import_list.py\n",
      "/kaggle/input/hybrid-precision/Recsys_Challenge_2023/Recommenders/BaseTempFolder.py\n",
      "/kaggle/input/hybrid-precision/Recsys_Challenge_2023/Recommenders/Recommender_utils.py\n",
      "/kaggle/input/hybrid-precision/Recsys_Challenge_2023/Recommenders/NonPersonalizedRecommender.py\n",
      "/kaggle/input/hybrid-precision/Recsys_Challenge_2023/Recommenders/BaseSimilarityMatrixRecommender.py\n",
      "/kaggle/input/hybrid-precision/Recsys_Challenge_2023/Recommenders/DataIO.py\n",
      "/kaggle/input/hybrid-precision/Recsys_Challenge_2023/Recommenders/PredefinedListRecommender.py\n",
      "/kaggle/input/hybrid-precision/Recsys_Challenge_2023/Recommenders/Similarity/Compute_similarity_euclidean_test.py\n",
      "/kaggle/input/hybrid-precision/Recsys_Challenge_2023/Recommenders/Similarity/Compute_Similarity_Euclidean.py\n",
      "/kaggle/input/hybrid-precision/Recsys_Challenge_2023/Recommenders/Similarity/Compute_Similarity_Python.py\n",
      "/kaggle/input/hybrid-precision/Recsys_Challenge_2023/Recommenders/Similarity/Compute_Similarity.py\n",
      "/kaggle/input/hybrid-precision/Recsys_Challenge_2023/Recommenders/Similarity/Compute_similarity_test.py\n",
      "/kaggle/input/hybrid-precision/Recsys_Challenge_2023/Recommenders/Similarity/__pycache__/Compute_Similarity_Python.cpython-310.pyc\n",
      "/kaggle/input/hybrid-precision/Recsys_Challenge_2023/Recommenders/Similarity/__pycache__/Compute_Similarity.cpython-310.pyc\n",
      "/kaggle/input/hybrid-precision/Recsys_Challenge_2023/Recommenders/Similarity/__pycache__/Compute_Similarity_Euclidean.cpython-310.pyc\n",
      "/kaggle/input/hybrid-precision/Recsys_Challenge_2023/Recommenders/Similarity/Cython/Compute_Similarity_Cython.cpython-310-x86_64-linux-gnu.so\n",
      "/kaggle/input/hybrid-precision/Recsys_Challenge_2023/Recommenders/Similarity/Cython/Compute_Similarity_Cython.pyx\n",
      "/kaggle/input/hybrid-precision/Recsys_Challenge_2023/Recommenders/Similarity/Cython/Compute_Similarity_Cython.html\n",
      "/kaggle/input/hybrid-precision/Recsys_Challenge_2023/Recommenders/Similarity/Cython/Compute_Similarity_Cython.c\n",
      "/kaggle/input/hybrid-precision/Recsys_Challenge_2023/Recommenders/EASE_R/EASE_R_Recommender.py\n",
      "/kaggle/input/hybrid-precision/Recsys_Challenge_2023/Recommenders/SLIM/SLIMElasticNetRecommender.py\n",
      "/kaggle/input/hybrid-precision/Recsys_Challenge_2023/Recommenders/SLIM/SLIM_BPR_Python.py\n",
      "/kaggle/input/hybrid-precision/Recsys_Challenge_2023/Recommenders/SLIM/__pycache__/SLIMElasticNetRecommender.cpython-310.pyc\n",
      "/kaggle/input/hybrid-precision/Recsys_Challenge_2023/Recommenders/SLIM/Cython/Triangular_Matrix.cpython-310-x86_64-linux-gnu.so\n",
      "/kaggle/input/hybrid-precision/Recsys_Challenge_2023/Recommenders/SLIM/Cython/Triangular_Matrix.c\n",
      "/kaggle/input/hybrid-precision/Recsys_Challenge_2023/Recommenders/SLIM/Cython/SLIM_BPR_Cython.py\n",
      "/kaggle/input/hybrid-precision/Recsys_Challenge_2023/Recommenders/SLIM/Cython/Sparse_Matrix_Tree_CSR.pyx\n",
      "/kaggle/input/hybrid-precision/Recsys_Challenge_2023/Recommenders/SLIM/Cython/Triangular_Matrix.pyx\n",
      "/kaggle/input/hybrid-precision/Recsys_Challenge_2023/Recommenders/SLIM/Cython/SLIM_BPR_Cython_Epoch.pyx\n",
      "/kaggle/input/hybrid-precision/Recsys_Challenge_2023/Recommenders/SLIM/Cython/Triangular_Matrix.html\n",
      "/kaggle/input/hybrid-precision/Recsys_Challenge_2023/Recommenders/GraphBased/RP3betaRecommender.py\n",
      "/kaggle/input/hybrid-precision/Recsys_Challenge_2023/Recommenders/GraphBased/P3alphaRecommender.py\n",
      "/kaggle/input/hybrid-precision/Recsys_Challenge_2023/Recommenders/GraphBased/__pycache__/RP3betaRecommender.cpython-310.pyc\n",
      "/kaggle/input/hybrid-precision/Recsys_Challenge_2023/Recommenders/FactorizationMachines/LightFMRecommender.py\n",
      "/kaggle/input/hybrid-precision/Recsys_Challenge_2023/Recommenders/__pycache__/BaseRecommender.cpython-310.pyc\n",
      "/kaggle/input/hybrid-precision/Recsys_Challenge_2023/Recommenders/__pycache__/BaseSimilarityMatrixRecommender.cpython-310.pyc\n",
      "/kaggle/input/hybrid-precision/Recsys_Challenge_2023/Recommenders/__pycache__/BaseMatrixFactorizationRecommender.cpython-310.pyc\n",
      "/kaggle/input/hybrid-precision/Recsys_Challenge_2023/Recommenders/__pycache__/Incremental_Training_Early_Stopping.cpython-310.pyc\n",
      "/kaggle/input/hybrid-precision/Recsys_Challenge_2023/Recommenders/__pycache__/IR_feature_weighting.cpython-310.pyc\n",
      "/kaggle/input/hybrid-precision/Recsys_Challenge_2023/Recommenders/__pycache__/DataIO.cpython-310.pyc\n",
      "/kaggle/input/hybrid-precision/Recsys_Challenge_2023/Recommenders/__pycache__/BaseTempFolder.cpython-310.pyc\n",
      "/kaggle/input/hybrid-precision/Recsys_Challenge_2023/Recommenders/__pycache__/Recommender_utils.cpython-310.pyc\n",
      "/kaggle/input/hybrid-precision/Recsys_Challenge_2023/Recommenders/KNN/ItemKNNCustomSimilarityRecommender.py\n",
      "/kaggle/input/hybrid-precision/Recsys_Challenge_2023/Recommenders/KNN/ItemKNNCBFRecommender.py\n",
      "/kaggle/input/hybrid-precision/Recsys_Challenge_2023/Recommenders/KNN/ItemKNNSimilarityHybridRecommender.py\n",
      "/kaggle/input/hybrid-precision/Recsys_Challenge_2023/Recommenders/KNN/UserKNNCBFRecommender.py\n",
      "/kaggle/input/hybrid-precision/Recsys_Challenge_2023/Recommenders/KNN/ItemKNNCFRecommender.py\n",
      "/kaggle/input/hybrid-precision/Recsys_Challenge_2023/Recommenders/KNN/UserKNN_CFCBF_Hybrid_Recommender.py\n",
      "/kaggle/input/hybrid-precision/Recsys_Challenge_2023/Recommenders/KNN/ItemKNN_CFCBF_Hybrid_Recommender.py\n",
      "/kaggle/input/hybrid-precision/Recsys_Challenge_2023/Recommenders/KNN/UserKNNCFRecommender.py\n",
      "/kaggle/input/hybrid-precision/Recsys_Challenge_2023/Recommenders/KNN/__pycache__/UserKNNCFRecommender.cpython-310.pyc\n",
      "/kaggle/input/hybrid-precision/Recsys_Challenge_2023/Recommenders/KNN/__pycache__/ItemKNNCFRecommender.cpython-310.pyc\n",
      "/kaggle/input/hybrid-precision/Recsys_Challenge_2023/Recommenders/Neural/architecture_utils.py\n",
      "/kaggle/input/hybrid-precision/Recsys_Challenge_2023/Recommenders/Neural/MultVAERecommender.py\n",
      "/kaggle/input/hybrid-precision/Recsys_Challenge_2023/Recommenders/Neural/MultVAE_PyTorch_Recommender.py\n",
      "/kaggle/input/hybrid-precision/Recsys_Challenge_2023/Recommenders/FeatureWeighting/CFW_D_Similarity_Linalg.py\n",
      "/kaggle/input/hybrid-precision/Recsys_Challenge_2023/Recommenders/FeatureWeighting/Cython/CFW_D_Similarity_Cython_SGD.cpython-310-x86_64-linux-gnu.so\n",
      "/kaggle/input/hybrid-precision/Recsys_Challenge_2023/Recommenders/FeatureWeighting/Cython/HP3_Similarity_Cython_SGD.c\n",
      "/kaggle/input/hybrid-precision/Recsys_Challenge_2023/Recommenders/FeatureWeighting/Cython/FBSM_Rating_Cython_SGD.c\n",
      "/kaggle/input/hybrid-precision/Recsys_Challenge_2023/Recommenders/FeatureWeighting/Cython/CFW_DVV_Similarity_Cython_SGD.pyx\n",
      "/kaggle/input/hybrid-precision/Recsys_Challenge_2023/Recommenders/FeatureWeighting/Cython/FBSM_Rating_Cython_SGD.cpython-310-x86_64-linux-gnu.so\n",
      "/kaggle/input/hybrid-precision/Recsys_Challenge_2023/Recommenders/FeatureWeighting/Cython/CFW_D_Similarity_Cython_SGD.html\n",
      "/kaggle/input/hybrid-precision/Recsys_Challenge_2023/Recommenders/FeatureWeighting/Cython/FBSM_Rating_Cython.py\n",
      "/kaggle/input/hybrid-precision/Recsys_Challenge_2023/Recommenders/FeatureWeighting/Cython/CFW_DVV_Similarity_Cython_SGD.html\n",
      "/kaggle/input/hybrid-precision/Recsys_Challenge_2023/Recommenders/FeatureWeighting/Cython/CFW_DVV_Similarity_Cython_SGD.cpython-310-x86_64-linux-gnu.so\n",
      "/kaggle/input/hybrid-precision/Recsys_Challenge_2023/Recommenders/FeatureWeighting/Cython/HP3_Similarity_Cython.py\n",
      "/kaggle/input/hybrid-precision/Recsys_Challenge_2023/Recommenders/FeatureWeighting/Cython/CFW_D_Similarity_Cython_SGD.c\n",
      "/kaggle/input/hybrid-precision/Recsys_Challenge_2023/Recommenders/FeatureWeighting/Cython/CFW_D_Similarity_Cython_SGD.pyx\n",
      "/kaggle/input/hybrid-precision/Recsys_Challenge_2023/Recommenders/FeatureWeighting/Cython/CFW_D_Similarity_Cython.py\n",
      "/kaggle/input/hybrid-precision/Recsys_Challenge_2023/Recommenders/FeatureWeighting/Cython/FBSM_Rating_Cython_SGD.pyx\n",
      "/kaggle/input/hybrid-precision/Recsys_Challenge_2023/Recommenders/FeatureWeighting/Cython/CFW_DVV_Similarity_Cython_SGD.c\n",
      "/kaggle/input/hybrid-precision/Recsys_Challenge_2023/Recommenders/FeatureWeighting/Cython/HP3_Similarity_Cython_SGD.cpython-310-x86_64-linux-gnu.so\n",
      "/kaggle/input/hybrid-precision/Recsys_Challenge_2023/Recommenders/FeatureWeighting/Cython/HP3_Similarity_Cython_SGD.pyx\n",
      "/kaggle/input/hybrid-precision/Recsys_Challenge_2023/Recommenders/FeatureWeighting/Cython/CFW_DVV_Similarity_Cython.py\n",
      "/kaggle/input/hybrid-precision/Recsys_Challenge_2023/Recommenders/FeatureWeighting/Cython/FBSM_Rating_Cython_SGD.html\n",
      "/kaggle/input/hybrid-precision/Recsys_Challenge_2023/Recommenders/FeatureWeighting/Cython/HP3_Similarity_Cython_SGD.html\n",
      "/kaggle/input/hybrid-precision/Recsys_Challenge_2023/Recommenders/MatrixFactorization/IALSRecommender.py\n",
      "/kaggle/input/hybrid-precision/Recsys_Challenge_2023/Recommenders/MatrixFactorization/NMFRecommender.py\n",
      "/kaggle/input/hybrid-precision/Recsys_Challenge_2023/Recommenders/MatrixFactorization/PureSVDRecommender.py\n",
      "/kaggle/input/hybrid-precision/Recsys_Challenge_2023/Recommenders/MatrixFactorization/SVDFeatureRecommender.py\n",
      "/kaggle/input/hybrid-precision/Recsys_Challenge_2023/Recommenders/MatrixFactorization/PyTorch/MF_MSE_PyTorch.py\n",
      "/kaggle/input/hybrid-precision/Recsys_Challenge_2023/Recommenders/MatrixFactorization/PyTorch/MF_MSE_PyTorch_model.py\n",
      "/kaggle/input/hybrid-precision/Recsys_Challenge_2023/Recommenders/MatrixFactorization/__pycache__/PureSVDRecommender.cpython-310.pyc\n",
      "/kaggle/input/hybrid-precision/Recsys_Challenge_2023/Recommenders/MatrixFactorization/__pycache__/IALSRecommender.cpython-310.pyc\n",
      "/kaggle/input/hybrid-precision/Recsys_Challenge_2023/Recommenders/MatrixFactorization/Cython/MatrixFactorization_Cython.py\n",
      "/kaggle/input/hybrid-precision/Recsys_Challenge_2023/Recommenders/MatrixFactorization/Cython/MatrixFactorization_Cython_Epoch.cpython-310-x86_64-linux-gnu.so\n",
      "/kaggle/input/hybrid-precision/Recsys_Challenge_2023/Recommenders/MatrixFactorization/Cython/MatrixFactorizationImpressions_Cython_Epoch.cpython-310-x86_64-linux-gnu.so\n",
      "/kaggle/input/hybrid-precision/Recsys_Challenge_2023/Recommenders/MatrixFactorization/Cython/MatrixFactorizationImpressions_Cython.py\n",
      "/kaggle/input/hybrid-precision/Recsys_Challenge_2023/Recommenders/MatrixFactorization/Cython/MatrixFactorization_Cython_Epoch.c\n",
      "/kaggle/input/hybrid-precision/Recsys_Challenge_2023/Recommenders/MatrixFactorization/Cython/MatrixFactorization_Cython_Epoch.html\n",
      "/kaggle/input/hybrid-precision/Recsys_Challenge_2023/Recommenders/MatrixFactorization/Cython/MatrixFactorizationImpressions_Cython_Epoch.pyx\n",
      "/kaggle/input/hybrid-precision/Recsys_Challenge_2023/Recommenders/MatrixFactorization/Cython/MatrixFactorization_Cython_Epoch.pyx\n",
      "/kaggle/input/hybrid-precision/Recsys_Challenge_2023/Recommenders/MatrixFactorization/Cython/MatrixFactorizationImpressions_Cython_Epoch.c\n",
      "/kaggle/input/hybrid-precision/Recsys_Challenge_2023/Recommenders/MatrixFactorization/Cython/MatrixFactorizationImpressions_Cython_Epoch.html\n",
      "/kaggle/input/hybrid-precision/Recsys_Challenge_2023/tuning_results/tuning_hybrid_merging.db\n",
      "/kaggle/input/hybrid-precision/Recsys_Challenge_2023/tuning_results/tuning_hybrid.db\n",
      "/kaggle/input/hybrid-precision/Recsys_Challenge_2023/tuning_results/tuning_hybrid_precision.db\n",
      "/kaggle/input/hybrid-precision/Recsys_Challenge_2023/tuning_results/best_params_ials_v2.json\n",
      "/kaggle/input/hybrid-precision/Recsys_Challenge_2023/tuning_results/best_params_hybrid_merging.json\n",
      "/kaggle/input/hybrid-precision/Recsys_Challenge_2023/tuning_results/best_params_knn_item.json\n",
      "/kaggle/input/hybrid-precision/Recsys_Challenge_2023/tuning_results/tuning_RP3+ItemKNN_Hybrid.db\n",
      "/kaggle/input/hybrid-precision/Recsys_Challenge_2023/tuning_results/best_params_EASE_R.json\n",
      "/kaggle/input/hybrid-precision/Recsys_Challenge_2023/tuning_results/best_params_alpha.json\n",
      "/kaggle/input/hybrid-precision/Recsys_Challenge_2023/tuning_results/pure_svd_params.json\n",
      "/kaggle/input/hybrid-precision/Recsys_Challenge_2023/tuning_results/pure_svd_trials.csv\n",
      "/kaggle/input/hybrid-precision/Recsys_Challenge_2023/tuning_results/tuning.db\n",
      "/kaggle/input/hybrid-precision/Recsys_Challenge_2023/tuning_results/better_tuning.db\n",
      "/kaggle/input/hybrid-precision/Recsys_Challenge_2023/tuning_results/tuning_hybrid_UserKNN_RP3Hybrid.db\n",
      "/kaggle/input/hybrid-precision/Recsys_Challenge_2023/tuning_results/best_params_hybrid_UserKNN_RP3Hybrid.json\n",
      "/kaggle/input/hybrid-precision/Recsys_Challenge_2023/tuning_results/best_params_RP3+ItemKNN_Hybrid.json\n",
      "/kaggle/input/hybrid-precision/Recsys_Challenge_2023/tuning_results/best_params_hybrid.json\n",
      "/kaggle/input/hybrid-precision/Recsys_Challenge_2023/tuning_results/best_params_item_knn_precision.json\n",
      "/kaggle/input/hybrid-precision/Recsys_Challenge_2023/tuning_results/best_params_ials.json\n",
      "/kaggle/input/hybrid-precision/Recsys_Challenge_2023/tuning_results/best_params_knn_user.json\n",
      "/kaggle/input/hybrid-precision/Recsys_Challenge_2023/tuning_results/best_params_RP3.json\n",
      "/kaggle/input/hybrid-precision/Recsys_Challenge_2023/images/random_random_everywhere_meme.jpg\n",
      "/kaggle/input/hybrid-precision/Recsys_Challenge_2023/images/ive_already_seen_it_meme.png\n",
      "/kaggle/input/hybrid-precision/Recsys_Challenge_2023/images/bob_example.jpeg\n",
      "/kaggle/input/hybrid-precision/Recsys_Challenge_2023/images/hstack_example.png\n",
      "/kaggle/input/hybrid-precision/Recsys_Challenge_2023/images/FactorizationMachine.png\n",
      "/kaggle/input/hybrid-precision/Recsys_Challenge_2023/images/ive_evaluated_your_performance_meme.jpg\n",
      "/kaggle/input/hybrid-precision/Recsys_Challenge_2023/images/amongus_meme.png\n",
      "/kaggle/input/hybrid-precision/Recsys_Challenge_2023/images/toy_story_poster.png\n",
      "/kaggle/input/hybrid-precision/Recsys_Challenge_2023/images/better_than_average_on_the_first_try_meme.jpg\n",
      "/kaggle/input/hybrid-precision/Recsys_Challenge_2023/HyperparameterTuning/SearchSingleCase.py\n",
      "/kaggle/input/hybrid-precision/Recsys_Challenge_2023/HyperparameterTuning/SearchAbstractClass.py\n",
      "/kaggle/input/hybrid-precision/Recsys_Challenge_2023/HyperparameterTuning/run_hyperparameter_search.py\n",
      "/kaggle/input/hybrid-precision/Recsys_Challenge_2023/HyperparameterTuning/SearchBayesianSkopt.py\n",
      "/kaggle/input/hybrid-precision/Recsys_Challenge_2023/Cython_examples/isPrime_slow.pyx\n",
      "/kaggle/input/hybrid-precision/Recsys_Challenge_2023/Cython_examples/SLIM_MSE_fastest.pyx\n",
      "/kaggle/input/hybrid-precision/Recsys_Challenge_2023/Cython_examples/isPrime_nochecks.pyx\n",
      "/kaggle/input/hybrid-precision/Recsys_Challenge_2023/Cython_examples/isPrime.pyx\n",
      "/kaggle/input/hybrid-precision/Recsys_Challenge_2023/Cython_examples/FunkSVD_fastest.pyx\n",
      "/kaggle/input/hybrid-precision/Recsys_Challenge_2023/Cython_examples/FunkSVD_slow.pyx\n",
      "/kaggle/input/hybrid-precision/Recsys_Challenge_2023/Cython_examples/SLIM_MSE_slow.pyx\n",
      "/kaggle/input/hybrid-precision/Recsys_Challenge_2023/result_experiments/run_compile_all_cython.txt\n",
      "/kaggle/input/hybrid-precision/Recsys_Challenge_2023/.git/config\n",
      "/kaggle/input/hybrid-precision/Recsys_Challenge_2023/.git/packed-refs\n",
      "/kaggle/input/hybrid-precision/Recsys_Challenge_2023/.git/HEAD\n",
      "/kaggle/input/hybrid-precision/Recsys_Challenge_2023/.git/index\n",
      "/kaggle/input/hybrid-precision/Recsys_Challenge_2023/.git/description\n",
      "/kaggle/input/hybrid-precision/Recsys_Challenge_2023/.git/info/exclude\n",
      "/kaggle/input/hybrid-precision/Recsys_Challenge_2023/.git/refs/heads/master\n",
      "/kaggle/input/hybrid-precision/Recsys_Challenge_2023/.git/refs/remotes/origin/HEAD\n",
      "/kaggle/input/hybrid-precision/Recsys_Challenge_2023/.git/hooks/pre-merge-commit.sample\n",
      "/kaggle/input/hybrid-precision/Recsys_Challenge_2023/.git/hooks/prepare-commit-msg.sample\n",
      "/kaggle/input/hybrid-precision/Recsys_Challenge_2023/.git/hooks/update.sample\n",
      "/kaggle/input/hybrid-precision/Recsys_Challenge_2023/.git/hooks/pre-push.sample\n",
      "/kaggle/input/hybrid-precision/Recsys_Challenge_2023/.git/hooks/pre-rebase.sample\n",
      "/kaggle/input/hybrid-precision/Recsys_Challenge_2023/.git/hooks/pre-applypatch.sample\n",
      "/kaggle/input/hybrid-precision/Recsys_Challenge_2023/.git/hooks/pre-commit.sample\n",
      "/kaggle/input/hybrid-precision/Recsys_Challenge_2023/.git/hooks/commit-msg.sample\n",
      "/kaggle/input/hybrid-precision/Recsys_Challenge_2023/.git/hooks/post-update.sample\n",
      "/kaggle/input/hybrid-precision/Recsys_Challenge_2023/.git/hooks/pre-receive.sample\n",
      "/kaggle/input/hybrid-precision/Recsys_Challenge_2023/.git/hooks/fsmonitor-watchman.sample\n",
      "/kaggle/input/hybrid-precision/Recsys_Challenge_2023/.git/hooks/applypatch-msg.sample\n",
      "/kaggle/input/hybrid-precision/Recsys_Challenge_2023/.git/logs/HEAD\n",
      "/kaggle/input/hybrid-precision/Recsys_Challenge_2023/.git/logs/refs/heads/master\n",
      "/kaggle/input/hybrid-precision/Recsys_Challenge_2023/.git/logs/refs/remotes/origin/HEAD\n",
      "/kaggle/input/hybrid-precision/Recsys_Challenge_2023/.git/objects/pack/pack-a339e5434316237740fcdb0e59a1fc1490ac4b3c.pack\n",
      "/kaggle/input/hybrid-precision/Recsys_Challenge_2023/.git/objects/pack/pack-a339e5434316237740fcdb0e59a1fc1490ac4b3c.idx\n",
      "/kaggle/input/hybrid-precision/Recsys_Challenge_2023/challenge_notebooks/list-combination.ipynb\n",
      "/kaggle/input/hybrid-precision/Recsys_Challenge_2023/challenge_notebooks/hyperparameters-tuning.ipynb\n",
      "/kaggle/input/hybrid-precision/Recsys_Challenge_2023/challenge_notebooks/rp3-tuning.ipynb\n",
      "/kaggle/input/hybrid-precision/Recsys_Challenge_2023/challenge_notebooks/hybrid-precision.ipynb\n",
      "/kaggle/input/hybrid-precision/Recsys_Challenge_2023/challenge_notebooks/rp3-itemknn-hybrid.ipynb\n",
      "/kaggle/input/hybrid-precision/Recsys_Challenge_2023/challenge_notebooks/merging-models.ipynb\n",
      "/kaggle/input/hybrid-precision/Recsys_Challenge_2023/challenge_notebooks/hyperparameters-tuning-better.ipynb\n",
      "/kaggle/input/hybrid-precision/Recsys_Challenge_2023/challenge_notebooks/srecsys-challenge.ipynb\n",
      "/kaggle/input/hybrid-precision/Recsys_Challenge_2023/Evaluation/metrics.py\n",
      "/kaggle/input/hybrid-precision/Recsys_Challenge_2023/Evaluation/Evaluator.py\n",
      "/kaggle/input/hybrid-precision/Recsys_Challenge_2023/Evaluation/__pycache__/metrics.cpython-310.pyc\n",
      "/kaggle/input/hybrid-precision/Recsys_Challenge_2023/Evaluation/__pycache__/Evaluator.cpython-310.pyc\n"
     ]
    }
   ],
   "source": [
    "import numpy as np\n",
    "import pandas as pd\n",
    "import matplotlib.pyplot as plt\n",
    "import seaborn as sns\n",
    "import joblib\n",
    "import json\n",
    "import random\n",
    "import tqdm\n",
    "import gc\n",
    "import time\n",
    "import os\n",
    "import shutil\n",
    "import optuna\n",
    "import scipy.sparse as sps\n",
    "\n",
    "for dirname, _, filenames in os.walk('/kaggle/input'):\n",
    "    for filename in filenames:\n",
    "        print(os.path.join(dirname, filename))"
   ]
  },
  {
   "cell_type": "code",
   "execution_count": 5,
   "id": "fc718602",
   "metadata": {
    "execution": {
     "iopub.execute_input": "2023-11-25T18:12:32.463054Z",
     "iopub.status.busy": "2023-11-25T18:12:32.462322Z",
     "iopub.status.idle": "2023-11-25T18:12:33.268493Z",
     "shell.execute_reply": "2023-11-25T18:12:33.266879Z"
    },
    "papermill": {
     "duration": 0.832638,
     "end_time": "2023-11-25T18:12:33.271586",
     "exception": false,
     "start_time": "2023-11-25T18:12:32.438948",
     "status": "completed"
    },
    "tags": []
   },
   "outputs": [
    {
     "name": "stdout",
     "output_type": "stream",
     "text": [
      "Repository found\n"
     ]
    }
   ],
   "source": [
    "from github import Github\n",
    "from github import Auth\n",
    "\n",
    "auth = Auth.Token(token)\n",
    "g = Github(auth=auth)\n",
    "\n",
    "repo = None\n",
    "for r in g.get_user().get_repos():\n",
    "    if r.name == 'Recsys_Challenge_2023':\n",
    "        repo = r\n",
    "        print('Repository found')"
   ]
  },
  {
   "cell_type": "code",
   "execution_count": 6,
   "id": "4474a6d4",
   "metadata": {
    "execution": {
     "iopub.execute_input": "2023-11-25T18:12:33.316721Z",
     "iopub.status.busy": "2023-11-25T18:12:33.315950Z",
     "iopub.status.idle": "2023-11-25T18:12:33.325396Z",
     "shell.execute_reply": "2023-11-25T18:12:33.323759Z"
    },
    "papermill": {
     "duration": 0.035567,
     "end_time": "2023-11-25T18:12:33.328935",
     "exception": false,
     "start_time": "2023-11-25T18:12:33.293368",
     "status": "completed"
    },
    "tags": []
   },
   "outputs": [],
   "source": [
    "def upload_file(filepath_kaggle, filepath_github, commit_message):\n",
    "    try:\n",
    "        contents = repo.get_contents(filepath_github)\n",
    "        with open(filepath_kaggle, \"rb\") as file:\n",
    "            repo.update_file(contents.path, commit_message, file.read(), contents.sha)\n",
    "    except Exception:\n",
    "        with open(filepath_kaggle, \"rb\") as file:\n",
    "            repo.create_file(filepath_github, commit_message, file.read())"
   ]
  },
  {
   "cell_type": "code",
   "execution_count": 7,
   "id": "e7e18c7c",
   "metadata": {
    "execution": {
     "iopub.execute_input": "2023-11-25T18:12:33.374599Z",
     "iopub.status.busy": "2023-11-25T18:12:33.374075Z",
     "iopub.status.idle": "2023-11-25T18:12:33.381053Z",
     "shell.execute_reply": "2023-11-25T18:12:33.379630Z"
    },
    "papermill": {
     "duration": 0.031963,
     "end_time": "2023-11-25T18:12:33.383503",
     "exception": false,
     "start_time": "2023-11-25T18:12:33.351540",
     "status": "completed"
    },
    "tags": []
   },
   "outputs": [],
   "source": [
    "config = {\n",
    "    'tune_precision': False,\n",
    "    'tune_hybrid': True,\n",
    "    'database_path': '/kaggle/working/tuning_hybrid_precision.db',\n",
    "    'copy_prev_best_params': True,\n",
    "    'save_github': True\n",
    "}"
   ]
  },
  {
   "cell_type": "code",
   "execution_count": 8,
   "id": "8bd335e3",
   "metadata": {
    "execution": {
     "iopub.execute_input": "2023-11-25T18:12:33.427850Z",
     "iopub.status.busy": "2023-11-25T18:12:33.427417Z",
     "iopub.status.idle": "2023-11-25T18:12:33.434035Z",
     "shell.execute_reply": "2023-11-25T18:12:33.432764Z"
    },
    "papermill": {
     "duration": 0.032363,
     "end_time": "2023-11-25T18:12:33.436727",
     "exception": false,
     "start_time": "2023-11-25T18:12:33.404364",
     "status": "completed"
    },
    "tags": []
   },
   "outputs": [],
   "source": [
    "try:\n",
    "    shutil.copyfile(\n",
    "        '/kaggle/working/Recsys_Challenge_2023/tuning_results/tuning_hybrid_precision.db', \n",
    "        config['database_path']\n",
    "    )\n",
    "except FileNotFoundError:\n",
    "    pass # if not present optuna will create it"
   ]
  },
  {
   "cell_type": "code",
   "execution_count": 9,
   "id": "f6d21b81",
   "metadata": {
    "execution": {
     "iopub.execute_input": "2023-11-25T18:12:33.481890Z",
     "iopub.status.busy": "2023-11-25T18:12:33.481434Z",
     "iopub.status.idle": "2023-11-25T18:12:33.816684Z",
     "shell.execute_reply": "2023-11-25T18:12:33.815573Z"
    },
    "papermill": {
     "duration": 0.361376,
     "end_time": "2023-11-25T18:12:33.819967",
     "exception": false,
     "start_time": "2023-11-25T18:12:33.458591",
     "status": "completed"
    },
    "tags": []
   },
   "outputs": [],
   "source": [
    "train_data = pd.read_csv('/kaggle/input/recommender-system-2023-challenge-polimi/data_train.csv')\n",
    "user_ids_test = pd.read_csv('/kaggle/input/recommender-system-2023-challenge-polimi/data_target_users_test.csv')"
   ]
  },
  {
   "cell_type": "code",
   "execution_count": 10,
   "id": "42685e2d",
   "metadata": {
    "execution": {
     "iopub.execute_input": "2023-11-25T18:12:33.865311Z",
     "iopub.status.busy": "2023-11-25T18:12:33.864254Z",
     "iopub.status.idle": "2023-11-25T18:12:33.915318Z",
     "shell.execute_reply": "2023-11-25T18:12:33.913931Z"
    },
    "papermill": {
     "duration": 0.076361,
     "end_time": "2023-11-25T18:12:33.918143",
     "exception": false,
     "start_time": "2023-11-25T18:12:33.841782",
     "status": "completed"
    },
    "tags": []
   },
   "outputs": [
    {
     "data": {
      "text/plain": [
       "<13024x22347 sparse matrix of type '<class 'numpy.float64'>'\n",
       "\twith 478730 stored elements in Compressed Sparse Row format>"
      ]
     },
     "execution_count": 10,
     "metadata": {},
     "output_type": "execute_result"
    }
   ],
   "source": [
    "URM_all = sps.csr_matrix((train_data.data.values,\n",
    "                          ((train_data.row - 1).values, (train_data.col - 1).values)),\n",
    "                        shape=(train_data.row.max(), train_data.col.max()))\n",
    "URM_all"
   ]
  },
  {
   "cell_type": "code",
   "execution_count": 11,
   "id": "89c7a092",
   "metadata": {
    "execution": {
     "iopub.execute_input": "2023-11-25T18:12:34.037145Z",
     "iopub.status.busy": "2023-11-25T18:12:34.036638Z",
     "iopub.status.idle": "2023-11-25T18:12:34.046018Z",
     "shell.execute_reply": "2023-11-25T18:12:34.044191Z"
    },
    "papermill": {
     "duration": 0.109072,
     "end_time": "2023-11-25T18:12:34.049134",
     "exception": false,
     "start_time": "2023-11-25T18:12:33.940062",
     "status": "completed"
    },
    "tags": []
   },
   "outputs": [
    {
     "name": "stdout",
     "output_type": "stream",
     "text": [
      "/kaggle/working/Recsys_Challenge_2023\n"
     ]
    }
   ],
   "source": [
    "%cd /kaggle/working/Recsys_Challenge_2023"
   ]
  },
  {
   "cell_type": "code",
   "execution_count": 12,
   "id": "910f15c9",
   "metadata": {
    "execution": {
     "iopub.execute_input": "2023-11-25T18:12:34.095007Z",
     "iopub.status.busy": "2023-11-25T18:12:34.093790Z",
     "iopub.status.idle": "2023-11-25T18:12:34.140587Z",
     "shell.execute_reply": "2023-11-25T18:12:34.139353Z"
    },
    "papermill": {
     "duration": 0.072496,
     "end_time": "2023-11-25T18:12:34.143518",
     "exception": false,
     "start_time": "2023-11-25T18:12:34.071022",
     "status": "completed"
    },
    "tags": []
   },
   "outputs": [],
   "source": [
    "from Data_manager.IncrementalSparseMatrix import IncrementalSparseMatrix\n",
    "\n",
    "\n",
    "class CrossValidationSplitter:\n",
    "    def __init__(self, n_splits):\n",
    "        self.n_splits = n_splits\n",
    "        self.folds = []\n",
    "        \n",
    "    def split(self, URM):\n",
    "        n_int_per_split = int(URM.nnz / self.n_splits)\n",
    "        indices = np.arange(0, URM.nnz, 1)\n",
    "        np.random.shuffle(indices)\n",
    "        num_users, num_items = URM.shape\n",
    "        \n",
    "        URM_all = sps.coo_matrix(URM)\n",
    "        \n",
    "        for i in range(self.n_splits):\n",
    "            if i == self.n_splits - 1:\n",
    "                indices_valid = indices[n_int_per_split * i:]\n",
    "                indices_train = indices[:n_int_per_split * i]\n",
    "            else:\n",
    "                indices_valid = indices[n_int_per_split * i: n_int_per_split * (i + 1)]\n",
    "                indices_train_1 = indices[n_int_per_split * max(0, i - 1): n_int_per_split * i]\n",
    "                indices_train_2 = indices[n_int_per_split * (i + 1):]\n",
    "                indices_train = np.concatenate((indices_train_1, indices_train_2))\n",
    "                \n",
    "            URM_valid_builder = IncrementalSparseMatrix(\n",
    "                n_rows=num_users, n_cols=num_items, auto_create_col_mapper=False, \n",
    "                auto_create_row_mapper=False\n",
    "            )\n",
    "            \n",
    "            URM_train_builder = IncrementalSparseMatrix(\n",
    "                n_rows=num_users, n_cols=num_items, auto_create_col_mapper=False, \n",
    "                auto_create_row_mapper=False\n",
    "            )\n",
    "            \n",
    "            URM_valid_builder.add_data_lists(\n",
    "                URM_all.row[indices_valid],\n",
    "                URM_all.col[indices_valid],\n",
    "                URM_all.data[indices_valid]\n",
    "            )\n",
    "            \n",
    "            URM_train_builder.add_data_lists(\n",
    "                URM_all.row[indices_train],\n",
    "                URM_all.col[indices_train],\n",
    "                URM_all.data[indices_train]\n",
    "            )\n",
    "            \n",
    "            yield URM_train_builder.get_SparseMatrix(), URM_valid_builder.get_SparseMatrix()"
   ]
  },
  {
   "cell_type": "code",
   "execution_count": 13,
   "id": "8330beb1",
   "metadata": {
    "execution": {
     "iopub.execute_input": "2023-11-25T18:12:34.188072Z",
     "iopub.status.busy": "2023-11-25T18:12:34.187556Z",
     "iopub.status.idle": "2023-11-25T18:12:34.812770Z",
     "shell.execute_reply": "2023-11-25T18:12:34.811202Z"
    },
    "papermill": {
     "duration": 0.651292,
     "end_time": "2023-11-25T18:12:34.816090",
     "exception": false,
     "start_time": "2023-11-25T18:12:34.164798",
     "status": "completed"
    },
    "tags": []
   },
   "outputs": [],
   "source": [
    "from Recommenders.KNN.UserKNNCFRecommender import UserKNNCFRecommender\n",
    "from Data_manager.split_functions.split_train_validation_random_holdout import split_train_in_two_percentage_global_sample\n",
    "from Recommenders.SLIM.SLIMElasticNetRecommender import MultiThreadSLIM_SLIMElasticNetRecommender\n",
    "from Evaluation.Evaluator import EvaluatorHoldout\n",
    "from Recommenders.MatrixFactorization.IALSRecommender import IALSRecommender\n",
    "from Recommenders.MatrixFactorization.PureSVDRecommender import PureSVDRecommender\n",
    "from Recommenders.KNN.ItemKNNCFRecommender import ItemKNNCFRecommender\n",
    "from Recommenders.KNN.UserKNNCFRecommender import UserKNNCFRecommender\n",
    "from Recommenders.GraphBased.RP3betaRecommender import RP3betaRecommender\n",
    "\n",
    "np.int = int\n",
    "np.random.seed(42)\n",
    "np.bool = bool\n",
    "np.float = float"
   ]
  },
  {
   "cell_type": "code",
   "execution_count": 14,
   "id": "a5261f12",
   "metadata": {
    "execution": {
     "iopub.execute_input": "2023-11-25T18:12:34.863127Z",
     "iopub.status.busy": "2023-11-25T18:12:34.862597Z",
     "iopub.status.idle": "2023-11-25T18:12:36.539791Z",
     "shell.execute_reply": "2023-11-25T18:12:36.538510Z"
    },
    "papermill": {
     "duration": 1.703781,
     "end_time": "2023-11-25T18:12:36.542941",
     "exception": false,
     "start_time": "2023-11-25T18:12:34.839160",
     "status": "completed"
    },
    "tags": []
   },
   "outputs": [
    {
     "name": "stdout",
     "output_type": "stream",
     "text": [
      "Warning: 627 (4.81 %) of 13024 users have no train items\n",
      "Warning: 2568 (19.72 %) of 13024 users have no sampled items\n",
      "Warning: 2953 (22.67 %) of 13024 users have no train items\n",
      "Warning: 6367 (48.89 %) of 13024 users have no sampled items\n"
     ]
    }
   ],
   "source": [
    "URM_train, URM_test_complete = split_train_in_two_percentage_global_sample(URM_all, train_percentage = 0.8)\n",
    "URM_validation, URM_test = split_train_in_two_percentage_global_sample(URM_test_complete, train_percentage = 0.8)"
   ]
  },
  {
   "cell_type": "code",
   "execution_count": 15,
   "id": "baeddcdd",
   "metadata": {
    "execution": {
     "iopub.execute_input": "2023-11-25T18:12:36.594406Z",
     "iopub.status.busy": "2023-11-25T18:12:36.593985Z",
     "iopub.status.idle": "2023-11-25T18:12:36.611177Z",
     "shell.execute_reply": "2023-11-25T18:12:36.609983Z"
    },
    "papermill": {
     "duration": 0.045984,
     "end_time": "2023-11-25T18:12:36.613922",
     "exception": false,
     "start_time": "2023-11-25T18:12:36.567938",
     "status": "completed"
    },
    "tags": []
   },
   "outputs": [],
   "source": [
    "from concurrent.futures import ThreadPoolExecutor\n",
    "\n",
    "def evaluate_item_knn(URM_train, URM_valid, params):\n",
    "    recommender = ItemKNNCFRecommender(URM_train)\n",
    "    recommender.fit(**params)\n",
    "\n",
    "    evaluator = EvaluatorHoldout(URM_valid, cutoff_list=[100])\n",
    "    result_df, _ = evaluator.evaluateRecommender(recommender)\n",
    "    print(f'Precision is {result_df.loc[100, \"PRECISION\"]}')\n",
    "    return result_df.loc[100, 'PRECISION']\n",
    "\n",
    "\n",
    "def objective_item_knn(trial):\n",
    "    params = {\n",
    "        'topK': trial.suggest_int('topK', 10, 1000),\n",
    "        'shrink': trial.suggest_int('shrink', 0, 500),\n",
    "        'similarity': trial.suggest_categorical('similarity', [\"cosine\", \"asymmetric\", \"dice\", \"jaccard\", \"tanimoto\", \"tversky\", \"euclidean\"]),        \n",
    "    }\n",
    "    \n",
    "    if params['similarity'] == \"asymmetric\":\n",
    "        params[\"asymmetric_alpha\"] = trial.suggest_float(\"asymmetric_alpha\", 0, 2, log=False)\n",
    "        params[\"normalize\"] = True     \n",
    "\n",
    "    elif params['similarity'] == \"tversky\":\n",
    "        params[\"tversky_alpha\"] = trial.suggest_float(\"tversky_alpha\", 0, 2, log=False)\n",
    "        params[\"tversky_beta\"] = trial.suggest_float(\"tversky_beta\", 0, 2, log=False)\n",
    "        params[\"normalize\"] = True \n",
    "\n",
    "    elif params['similarity'] == \"euclidean\":\n",
    "        params[\"normalize_avg_row\"] = trial.suggest_categorical(\"normalize_avg_row\", [True, False])\n",
    "        params[\"similarity_from_distance_mode\"] = trial.suggest_categorical(\"similarity_from_distance_mode\", [\"lin\", \"log\", \"exp\"])\n",
    "        params[\"normalize\"] = trial.suggest_categorical(\"normalize\", [True, False])\n",
    "    \n",
    "    results = [None] * 10\n",
    "    with ThreadPoolExecutor(max_workers=10) as executor:\n",
    "        futures = []\n",
    "        for URM_train, URM_valid in CrossValidationSplitter(10).split(URM_all):\n",
    "            futures.append(executor.submit(evaluate_item_knn, URM_train, URM_valid, params))\n",
    "        print(len(futures))\n",
    "        for j, future in enumerate(futures):\n",
    "            results[j] = future.result()\n",
    "        \n",
    "    return np.mean(results)"
   ]
  },
  {
   "cell_type": "code",
   "execution_count": 16,
   "id": "51a40003",
   "metadata": {
    "_kg_hide-output": true,
    "execution": {
     "iopub.execute_input": "2023-11-25T18:12:36.662161Z",
     "iopub.status.busy": "2023-11-25T18:12:36.661267Z",
     "iopub.status.idle": "2023-11-25T18:12:36.667606Z",
     "shell.execute_reply": "2023-11-25T18:12:36.666601Z"
    },
    "papermill": {
     "duration": 0.033842,
     "end_time": "2023-11-25T18:12:36.670250",
     "exception": false,
     "start_time": "2023-11-25T18:12:36.636408",
     "status": "completed"
    },
    "scrolled": true,
    "tags": []
   },
   "outputs": [],
   "source": [
    "if config['tune_precision']:\n",
    "    study = optuna.create_study(direction='maximize', study_name='hyperparameters_tuning_knn_item_precision@100', \n",
    "                                storage=f'sqlite:///{config[\"database_path\"]}', load_if_exists=True)\n",
    "    study.optimize(objective_item_knn, n_trials=50)"
   ]
  },
  {
   "cell_type": "code",
   "execution_count": 17,
   "id": "a214048c",
   "metadata": {
    "execution": {
     "iopub.execute_input": "2023-11-25T18:12:36.716630Z",
     "iopub.status.busy": "2023-11-25T18:12:36.715814Z",
     "iopub.status.idle": "2023-11-25T18:12:36.721255Z",
     "shell.execute_reply": "2023-11-25T18:12:36.720439Z"
    },
    "papermill": {
     "duration": 0.031002,
     "end_time": "2023-11-25T18:12:36.723732",
     "exception": false,
     "start_time": "2023-11-25T18:12:36.692730",
     "status": "completed"
    },
    "tags": []
   },
   "outputs": [],
   "source": [
    "if config['tune_precision']:\n",
    "    fig = optuna.visualization.plot_optimization_history(study)\n",
    "    fig.show()"
   ]
  },
  {
   "cell_type": "code",
   "execution_count": 18,
   "id": "cfa8bd50",
   "metadata": {
    "execution": {
     "iopub.execute_input": "2023-11-25T18:12:36.771288Z",
     "iopub.status.busy": "2023-11-25T18:12:36.770324Z",
     "iopub.status.idle": "2023-11-25T18:12:36.776016Z",
     "shell.execute_reply": "2023-11-25T18:12:36.775164Z"
    },
    "papermill": {
     "duration": 0.033365,
     "end_time": "2023-11-25T18:12:36.778527",
     "exception": false,
     "start_time": "2023-11-25T18:12:36.745162",
     "status": "completed"
    },
    "tags": []
   },
   "outputs": [],
   "source": [
    "if config['tune_precision']:\n",
    "    fig = optuna.visualization.plot_param_importances(study)\n",
    "    fig.show()"
   ]
  },
  {
   "cell_type": "code",
   "execution_count": 19,
   "id": "9b1a8bcb",
   "metadata": {
    "execution": {
     "iopub.execute_input": "2023-11-25T18:12:36.825371Z",
     "iopub.status.busy": "2023-11-25T18:12:36.824392Z",
     "iopub.status.idle": "2023-11-25T18:12:36.830303Z",
     "shell.execute_reply": "2023-11-25T18:12:36.829306Z"
    },
    "papermill": {
     "duration": 0.032307,
     "end_time": "2023-11-25T18:12:36.832834",
     "exception": false,
     "start_time": "2023-11-25T18:12:36.800527",
     "status": "completed"
    },
    "tags": []
   },
   "outputs": [],
   "source": [
    "if config['tune_precision']:\n",
    "    fig = optuna.visualization.plot_slice(study)\n",
    "    fig.show()"
   ]
  },
  {
   "cell_type": "code",
   "execution_count": 20,
   "id": "3803a2a3",
   "metadata": {
    "execution": {
     "iopub.execute_input": "2023-11-25T18:12:36.880447Z",
     "iopub.status.busy": "2023-11-25T18:12:36.879484Z",
     "iopub.status.idle": "2023-11-25T18:12:36.889596Z",
     "shell.execute_reply": "2023-11-25T18:12:36.888604Z"
    },
    "papermill": {
     "duration": 0.037227,
     "end_time": "2023-11-25T18:12:36.892497",
     "exception": false,
     "start_time": "2023-11-25T18:12:36.855270",
     "status": "completed"
    },
    "tags": []
   },
   "outputs": [],
   "source": [
    "if config['tune_precision']:\n",
    "    with open('/kaggle/working/best_params_item_knn_precision.json', 'w') as params_file:\n",
    "        json.dump(study.best_params, params_file)\n",
    "        \n",
    "    if config['save_github']: \n",
    "        upload_file(\n",
    "            '/kaggle/working/best_params_item_knn_precision.json', \n",
    "            'tuning_results/best_params_item_knn_precision.json', \n",
    "            'Item KNN precision results (from kaggle notebook)'\n",
    "        )\n",
    "    \n",
    "elif config['copy_prev_best_params']:\n",
    "    shutil.copyfile(\n",
    "        '/kaggle/input/hybrid-precision/best_params_item_knn_precision.json', \n",
    "        '/kaggle/working/best_params_item_knn_precision.json'\n",
    "    )"
   ]
  },
  {
   "cell_type": "code",
   "execution_count": 21,
   "id": "28a08ddc",
   "metadata": {
    "execution": {
     "iopub.execute_input": "2023-11-25T18:12:36.940807Z",
     "iopub.status.busy": "2023-11-25T18:12:36.939891Z",
     "iopub.status.idle": "2023-11-25T18:12:36.949210Z",
     "shell.execute_reply": "2023-11-25T18:12:36.947924Z"
    },
    "papermill": {
     "duration": 0.036624,
     "end_time": "2023-11-25T18:12:36.951984",
     "exception": false,
     "start_time": "2023-11-25T18:12:36.915360",
     "status": "completed"
    },
    "tags": []
   },
   "outputs": [
    {
     "data": {
      "text/plain": [
       "{'topK': 32, 'shrink': 33, 'similarity': 'tanimoto'}"
      ]
     },
     "execution_count": 21,
     "metadata": {},
     "output_type": "execute_result"
    }
   ],
   "source": [
    "with open('/kaggle/working/best_params_item_knn_precision.json', 'r') as params_file:\n",
    "    params_knn = json.load(params_file)\n",
    "params_knn"
   ]
  },
  {
   "cell_type": "code",
   "execution_count": 22,
   "id": "087ba508",
   "metadata": {
    "execution": {
     "iopub.execute_input": "2023-11-25T18:12:37.000863Z",
     "iopub.status.busy": "2023-11-25T18:12:36.999907Z",
     "iopub.status.idle": "2023-11-25T18:12:52.447589Z",
     "shell.execute_reply": "2023-11-25T18:12:52.446680Z"
    },
    "papermill": {
     "duration": 15.474925,
     "end_time": "2023-11-25T18:12:52.450259",
     "exception": false,
     "start_time": "2023-11-25T18:12:36.975334",
     "status": "completed"
    },
    "tags": []
   },
   "outputs": [
    {
     "name": "stdout",
     "output_type": "stream",
     "text": [
      "ItemKNNCFRecommender: URM Detected 627 ( 4.8%) users with no interactions.\n",
      "ItemKNNCFRecommender: URM Detected 247 ( 1.1%) items with no interactions.\n",
      "Similarity column 22347 (100.0%), 4773.04 column/sec. Elapsed time 4.68 sec\n",
      "EvaluatorHoldout: Ignoring 2568 (19.7%) Users that have less than 1 test interactions\n",
      "EvaluatorHoldout: Processed 10456 (100.0%) in 10.53 sec. Users per second: 993\n"
     ]
    },
    {
     "data": {
      "text/html": [
       "<div>\n",
       "<style scoped>\n",
       "    .dataframe tbody tr th:only-of-type {\n",
       "        vertical-align: middle;\n",
       "    }\n",
       "\n",
       "    .dataframe tbody tr th {\n",
       "        vertical-align: top;\n",
       "    }\n",
       "\n",
       "    .dataframe thead th {\n",
       "        text-align: right;\n",
       "    }\n",
       "</style>\n",
       "<table border=\"1\" class=\"dataframe\">\n",
       "  <thead>\n",
       "    <tr style=\"text-align: right;\">\n",
       "      <th></th>\n",
       "      <th>PRECISION</th>\n",
       "      <th>PRECISION_RECALL_MIN_DEN</th>\n",
       "      <th>RECALL</th>\n",
       "      <th>MAP</th>\n",
       "      <th>MAP_MIN_DEN</th>\n",
       "      <th>MRR</th>\n",
       "      <th>NDCG</th>\n",
       "      <th>F1</th>\n",
       "      <th>HIT_RATE</th>\n",
       "      <th>ARHR_ALL_HITS</th>\n",
       "      <th>...</th>\n",
       "      <th>COVERAGE_USER</th>\n",
       "      <th>COVERAGE_USER_HIT</th>\n",
       "      <th>USERS_IN_GT</th>\n",
       "      <th>DIVERSITY_GINI</th>\n",
       "      <th>SHANNON_ENTROPY</th>\n",
       "      <th>RATIO_DIVERSITY_HERFINDAHL</th>\n",
       "      <th>RATIO_DIVERSITY_GINI</th>\n",
       "      <th>RATIO_SHANNON_ENTROPY</th>\n",
       "      <th>RATIO_AVERAGE_POPULARITY</th>\n",
       "      <th>RATIO_NOVELTY</th>\n",
       "    </tr>\n",
       "    <tr>\n",
       "      <th>cutoff</th>\n",
       "      <th></th>\n",
       "      <th></th>\n",
       "      <th></th>\n",
       "      <th></th>\n",
       "      <th></th>\n",
       "      <th></th>\n",
       "      <th></th>\n",
       "      <th></th>\n",
       "      <th></th>\n",
       "      <th></th>\n",
       "      <th></th>\n",
       "      <th></th>\n",
       "      <th></th>\n",
       "      <th></th>\n",
       "      <th></th>\n",
       "      <th></th>\n",
       "      <th></th>\n",
       "      <th></th>\n",
       "      <th></th>\n",
       "      <th></th>\n",
       "      <th></th>\n",
       "    </tr>\n",
       "  </thead>\n",
       "  <tbody>\n",
       "    <tr>\n",
       "      <th>10</th>\n",
       "      <td>0.085033</td>\n",
       "      <td>0.147081</td>\n",
       "      <td>0.123712</td>\n",
       "      <td>0.043282</td>\n",
       "      <td>0.0743</td>\n",
       "      <td>0.248788</td>\n",
       "      <td>0.135035</td>\n",
       "      <td>0.100789</td>\n",
       "      <td>0.482881</td>\n",
       "      <td>0.324451</td>\n",
       "      <td>...</td>\n",
       "      <td>0.802826</td>\n",
       "      <td>0.387669</td>\n",
       "      <td>0.802826</td>\n",
       "      <td>0.054251</td>\n",
       "      <td>10.03004</td>\n",
       "      <td>0.997326</td>\n",
       "      <td>0.156536</td>\n",
       "      <td>0.772675</td>\n",
       "      <td>1.925012</td>\n",
       "      <td>0.295821</td>\n",
       "    </tr>\n",
       "  </tbody>\n",
       "</table>\n",
       "<p>1 rows × 27 columns</p>\n",
       "</div>"
      ],
      "text/plain": [
       "       PRECISION PRECISION_RECALL_MIN_DEN    RECALL       MAP MAP_MIN_DEN  \\\n",
       "cutoff                                                                      \n",
       "10      0.085033                 0.147081  0.123712  0.043282      0.0743   \n",
       "\n",
       "             MRR      NDCG        F1  HIT_RATE ARHR_ALL_HITS  ...  \\\n",
       "cutoff                                                        ...   \n",
       "10      0.248788  0.135035  0.100789  0.482881      0.324451  ...   \n",
       "\n",
       "       COVERAGE_USER COVERAGE_USER_HIT USERS_IN_GT DIVERSITY_GINI  \\\n",
       "cutoff                                                              \n",
       "10          0.802826          0.387669    0.802826       0.054251   \n",
       "\n",
       "       SHANNON_ENTROPY RATIO_DIVERSITY_HERFINDAHL RATIO_DIVERSITY_GINI  \\\n",
       "cutoff                                                                   \n",
       "10            10.03004                   0.997326             0.156536   \n",
       "\n",
       "       RATIO_SHANNON_ENTROPY RATIO_AVERAGE_POPULARITY RATIO_NOVELTY  \n",
       "cutoff                                                               \n",
       "10                  0.772675                 1.925012      0.295821  \n",
       "\n",
       "[1 rows x 27 columns]"
      ]
     },
     "execution_count": 22,
     "metadata": {},
     "output_type": "execute_result"
    }
   ],
   "source": [
    "recommender = ItemKNNCFRecommender(URM_train)\n",
    "recommender.fit(**params_knn)\n",
    "\n",
    "evaluator = EvaluatorHoldout(URM_test_complete, cutoff_list=[10])\n",
    "result_df, _ = evaluator.evaluateRecommender(recommender)\n",
    "result_df"
   ]
  },
  {
   "cell_type": "code",
   "execution_count": 23,
   "id": "a6810578",
   "metadata": {
    "execution": {
     "iopub.execute_input": "2023-11-25T18:12:52.499502Z",
     "iopub.status.busy": "2023-11-25T18:12:52.498855Z",
     "iopub.status.idle": "2023-11-25T18:12:52.858300Z",
     "shell.execute_reply": "2023-11-25T18:12:52.856671Z"
    },
    "papermill": {
     "duration": 0.38777,
     "end_time": "2023-11-25T18:12:52.861163",
     "exception": false,
     "start_time": "2023-11-25T18:12:52.473393",
     "status": "completed"
    },
    "tags": []
   },
   "outputs": [
    {
     "data": {
      "text/plain": [
       "<13024x22347 sparse matrix of type '<class 'numpy.float64'>'\n",
       "\twith 9768701 stored elements in Compressed Sparse Row format>"
      ]
     },
     "execution_count": 23,
     "metadata": {},
     "output_type": "execute_result"
    }
   ],
   "source": [
    "URM_train_item_knn = URM_train.dot(recommender.W_sparse)\n",
    "URM_train_item_knn"
   ]
  },
  {
   "cell_type": "code",
   "execution_count": 24,
   "id": "4335e512",
   "metadata": {
    "execution": {
     "iopub.execute_input": "2023-11-25T18:12:52.911063Z",
     "iopub.status.busy": "2023-11-25T18:12:52.910614Z",
     "iopub.status.idle": "2023-11-25T18:12:52.920287Z",
     "shell.execute_reply": "2023-11-25T18:12:52.918727Z"
    },
    "papermill": {
     "duration": 0.038555,
     "end_time": "2023-11-25T18:12:52.923083",
     "exception": false,
     "start_time": "2023-11-25T18:12:52.884528",
     "status": "completed"
    },
    "tags": []
   },
   "outputs": [
    {
     "data": {
      "text/plain": [
       "{'alpha': 0.513297287731911, 'beta': 0.14806602610935488, 'topK': 54}"
      ]
     },
     "execution_count": 24,
     "metadata": {},
     "output_type": "execute_result"
    }
   ],
   "source": [
    "with open('/kaggle/working/Recsys_Challenge_2023/tuning_results/best_params_RP3.json', 'r') as params_file:\n",
    "    params_rp3 = json.load(params_file)\n",
    "params_rp3"
   ]
  },
  {
   "cell_type": "code",
   "execution_count": 25,
   "id": "5f60aace",
   "metadata": {
    "execution": {
     "iopub.execute_input": "2023-11-25T18:12:52.974604Z",
     "iopub.status.busy": "2023-11-25T18:12:52.973896Z",
     "iopub.status.idle": "2023-11-25T18:14:59.083183Z",
     "shell.execute_reply": "2023-11-25T18:14:59.081696Z"
    },
    "papermill": {
     "duration": 126.138922,
     "end_time": "2023-11-25T18:14:59.086363",
     "exception": false,
     "start_time": "2023-11-25T18:12:52.947441",
     "status": "completed"
    },
    "tags": []
   },
   "outputs": [
    {
     "name": "stdout",
     "output_type": "stream",
     "text": [
      "RP3betaRecommender: URM Detected 629 ( 4.8%) users with no interactions.\n",
      "RP3betaRecommender: URM Detected 248 ( 1.1%) items with no interactions.\n",
      "RP3betaRecommender: Similarity column 22347 (100.0%), 180.83 column/sec. Elapsed time 2.06 min\n"
     ]
    }
   ],
   "source": [
    "recommender_rp3 = RP3betaRecommender(URM_train_item_knn)\n",
    "recommender_rp3.fit(**params_rp3)"
   ]
  },
  {
   "cell_type": "code",
   "execution_count": 26,
   "id": "4903a1e7",
   "metadata": {
    "execution": {
     "iopub.execute_input": "2023-11-25T18:14:59.135414Z",
     "iopub.status.busy": "2023-11-25T18:14:59.134920Z",
     "iopub.status.idle": "2023-11-25T18:15:11.450329Z",
     "shell.execute_reply": "2023-11-25T18:15:11.449077Z"
    },
    "papermill": {
     "duration": 12.342956,
     "end_time": "2023-11-25T18:15:11.453001",
     "exception": false,
     "start_time": "2023-11-25T18:14:59.110045",
     "status": "completed"
    },
    "tags": []
   },
   "outputs": [
    {
     "name": "stdout",
     "output_type": "stream",
     "text": [
      "EvaluatorHoldout: Ignoring 2568 (19.7%) Users that have less than 1 test interactions\n",
      "EvaluatorHoldout: Processed 10456 (100.0%) in 12.27 sec. Users per second: 852\n"
     ]
    },
    {
     "data": {
      "text/html": [
       "<div>\n",
       "<style scoped>\n",
       "    .dataframe tbody tr th:only-of-type {\n",
       "        vertical-align: middle;\n",
       "    }\n",
       "\n",
       "    .dataframe tbody tr th {\n",
       "        vertical-align: top;\n",
       "    }\n",
       "\n",
       "    .dataframe thead th {\n",
       "        text-align: right;\n",
       "    }\n",
       "</style>\n",
       "<table border=\"1\" class=\"dataframe\">\n",
       "  <thead>\n",
       "    <tr style=\"text-align: right;\">\n",
       "      <th></th>\n",
       "      <th>PRECISION</th>\n",
       "      <th>PRECISION_RECALL_MIN_DEN</th>\n",
       "      <th>RECALL</th>\n",
       "      <th>MAP</th>\n",
       "      <th>MAP_MIN_DEN</th>\n",
       "      <th>MRR</th>\n",
       "      <th>NDCG</th>\n",
       "      <th>F1</th>\n",
       "      <th>HIT_RATE</th>\n",
       "      <th>ARHR_ALL_HITS</th>\n",
       "      <th>...</th>\n",
       "      <th>COVERAGE_USER</th>\n",
       "      <th>COVERAGE_USER_HIT</th>\n",
       "      <th>USERS_IN_GT</th>\n",
       "      <th>DIVERSITY_GINI</th>\n",
       "      <th>SHANNON_ENTROPY</th>\n",
       "      <th>RATIO_DIVERSITY_HERFINDAHL</th>\n",
       "      <th>RATIO_DIVERSITY_GINI</th>\n",
       "      <th>RATIO_SHANNON_ENTROPY</th>\n",
       "      <th>RATIO_AVERAGE_POPULARITY</th>\n",
       "      <th>RATIO_NOVELTY</th>\n",
       "    </tr>\n",
       "    <tr>\n",
       "      <th>cutoff</th>\n",
       "      <th></th>\n",
       "      <th></th>\n",
       "      <th></th>\n",
       "      <th></th>\n",
       "      <th></th>\n",
       "      <th></th>\n",
       "      <th></th>\n",
       "      <th></th>\n",
       "      <th></th>\n",
       "      <th></th>\n",
       "      <th></th>\n",
       "      <th></th>\n",
       "      <th></th>\n",
       "      <th></th>\n",
       "      <th></th>\n",
       "      <th></th>\n",
       "      <th></th>\n",
       "      <th></th>\n",
       "      <th></th>\n",
       "      <th></th>\n",
       "      <th></th>\n",
       "    </tr>\n",
       "  </thead>\n",
       "  <tbody>\n",
       "    <tr>\n",
       "      <th>10</th>\n",
       "      <td>0.040149</td>\n",
       "      <td>0.080732</td>\n",
       "      <td>0.071836</td>\n",
       "      <td>0.014701</td>\n",
       "      <td>0.029663</td>\n",
       "      <td>0.112219</td>\n",
       "      <td>0.062321</td>\n",
       "      <td>0.05151</td>\n",
       "      <td>0.309296</td>\n",
       "      <td>0.128398</td>\n",
       "      <td>...</td>\n",
       "      <td>0.802826</td>\n",
       "      <td>0.248311</td>\n",
       "      <td>0.802826</td>\n",
       "      <td>0.015741</td>\n",
       "      <td>8.70746</td>\n",
       "      <td>0.994924</td>\n",
       "      <td>0.035004</td>\n",
       "      <td>0.642622</td>\n",
       "      <td>2.024639</td>\n",
       "      <td>0.011825</td>\n",
       "    </tr>\n",
       "  </tbody>\n",
       "</table>\n",
       "<p>1 rows × 27 columns</p>\n",
       "</div>"
      ],
      "text/plain": [
       "       PRECISION PRECISION_RECALL_MIN_DEN    RECALL       MAP MAP_MIN_DEN  \\\n",
       "cutoff                                                                      \n",
       "10      0.040149                 0.080732  0.071836  0.014701    0.029663   \n",
       "\n",
       "             MRR      NDCG       F1  HIT_RATE ARHR_ALL_HITS  ...  \\\n",
       "cutoff                                                       ...   \n",
       "10      0.112219  0.062321  0.05151  0.309296      0.128398  ...   \n",
       "\n",
       "       COVERAGE_USER COVERAGE_USER_HIT USERS_IN_GT DIVERSITY_GINI  \\\n",
       "cutoff                                                              \n",
       "10          0.802826          0.248311    0.802826       0.015741   \n",
       "\n",
       "       SHANNON_ENTROPY RATIO_DIVERSITY_HERFINDAHL RATIO_DIVERSITY_GINI  \\\n",
       "cutoff                                                                   \n",
       "10             8.70746                   0.994924             0.035004   \n",
       "\n",
       "       RATIO_SHANNON_ENTROPY RATIO_AVERAGE_POPULARITY RATIO_NOVELTY  \n",
       "cutoff                                                               \n",
       "10                  0.642622                 2.024639      0.011825  \n",
       "\n",
       "[1 rows x 27 columns]"
      ]
     },
     "execution_count": 26,
     "metadata": {},
     "output_type": "execute_result"
    }
   ],
   "source": [
    "evaluator = EvaluatorHoldout(URM_test_complete, cutoff_list=[10], exclude_seen=False)\n",
    "result_df, _ = evaluator.evaluateRecommender(recommender_rp3)\n",
    "result_df"
   ]
  },
  {
   "cell_type": "code",
   "execution_count": 27,
   "id": "0713da64",
   "metadata": {
    "execution": {
     "iopub.execute_input": "2023-11-25T18:15:11.504546Z",
     "iopub.status.busy": "2023-11-25T18:15:11.504022Z",
     "iopub.status.idle": "2023-11-25T18:15:11.518123Z",
     "shell.execute_reply": "2023-11-25T18:15:11.516552Z"
    },
    "papermill": {
     "duration": 0.04275,
     "end_time": "2023-11-25T18:15:11.520684",
     "exception": false,
     "start_time": "2023-11-25T18:15:11.477934",
     "status": "completed"
    },
    "tags": []
   },
   "outputs": [],
   "source": [
    "class PipelineRecommender:\n",
    "    def __init__(self, coarse_recommender_class, fine_recommender_class, coarse_fit_params, fine_fit_params, URM_train):\n",
    "        self.URM_train = URM_train\n",
    "        self.coarse_recommender_class = coarse_recommender_class\n",
    "        self.fine_recommender_class = fine_recommender_class\n",
    "        self.coarse_fit_params = coarse_fit_params\n",
    "        self.fine_fit_params = fine_fit_params\n",
    "    \n",
    "    def fit(self):\n",
    "        self.coarse_recommender = self.coarse_recommender_class(self.URM_train)\n",
    "        self.coarse_recommender.fit(**self.coarse_fit_params)\n",
    "        URM_coarse = self.URM_train.dot(self.coarse_recommender.W_sparse)\n",
    "        self.fine_recommender = self.fine_recommender_class(URM_coarse)\n",
    "        self.fine_recommender.fit(**self.fine_fit_params)\n",
    "        \n",
    "    def recommend(self, user_ids, cutoff=10, remove_seen_flag=True, remove_top_pop_flag=False, \n",
    "                  return_scores=True, remove_custom_items_flag=True):\n",
    "        items = set(np.arange(self.URM_train.shape[1]).tolist())\n",
    "        final_recommendations = []\n",
    "        final_scores = []\n",
    "        for user_id in user_ids:\n",
    "            # custom remove seen flag, since the fine recommender is trained with much more non zero entries\n",
    "            # but the true seen items are in the original urm\n",
    "            items_to_compute = list(items - set(self.URM_train[user_id].nonzero()[1].tolist()))\n",
    "            recommendations, scores = self.fine_recommender.recommend(\n",
    "                [user_id],\n",
    "                cutoff=cutoff,\n",
    "                items_to_compute=items_to_compute, \n",
    "                remove_seen_flag=False, # if true it will remove most of the items since fine train matrix is less sparse\n",
    "                remove_top_pop_flag=remove_top_pop_flag, \n",
    "                return_scores=True, \n",
    "                remove_custom_items_flag=remove_custom_items_flag\n",
    "            )\n",
    "            final_recommendations.append(recommendations[0])\n",
    "            final_scores.append(scores[0])\n",
    "        if return_scores:\n",
    "            return np.array(final_recommendations), np.array(final_scores)\n",
    "        return np.array(final_recommendations)\n",
    "        \n",
    "    def get_URM_train(self):\n",
    "        return self.URM_train"
   ]
  },
  {
   "cell_type": "code",
   "execution_count": 28,
   "id": "feababb6",
   "metadata": {
    "execution": {
     "iopub.execute_input": "2023-11-25T18:15:11.574711Z",
     "iopub.status.busy": "2023-11-25T18:15:11.574205Z",
     "iopub.status.idle": "2023-11-25T18:17:22.607889Z",
     "shell.execute_reply": "2023-11-25T18:17:22.606432Z"
    },
    "papermill": {
     "duration": 131.06538,
     "end_time": "2023-11-25T18:17:22.611115",
     "exception": false,
     "start_time": "2023-11-25T18:15:11.545735",
     "status": "completed"
    },
    "tags": []
   },
   "outputs": [
    {
     "name": "stdout",
     "output_type": "stream",
     "text": [
      "ItemKNNCFRecommender: URM Detected 627 ( 4.8%) users with no interactions.\n",
      "ItemKNNCFRecommender: URM Detected 247 ( 1.1%) items with no interactions.\n",
      "Similarity column 22347 (100.0%), 4837.19 column/sec. Elapsed time 4.62 sec\n",
      "RP3betaRecommender: URM Detected 629 ( 4.8%) users with no interactions.\n",
      "RP3betaRecommender: URM Detected 248 ( 1.1%) items with no interactions.\n",
      "RP3betaRecommender: Similarity column 22347 (100.0%), 181.00 column/sec. Elapsed time 2.06 min\n"
     ]
    }
   ],
   "source": [
    "recommender = PipelineRecommender(ItemKNNCFRecommender, RP3betaRecommender, params_knn, params_rp3, URM_train)\n",
    "recommender.fit()"
   ]
  },
  {
   "cell_type": "code",
   "execution_count": 29,
   "id": "c709ad30",
   "metadata": {
    "execution": {
     "iopub.execute_input": "2023-11-25T18:17:22.662842Z",
     "iopub.status.busy": "2023-11-25T18:17:22.662298Z",
     "iopub.status.idle": "2023-11-25T18:18:46.203381Z",
     "shell.execute_reply": "2023-11-25T18:18:46.202075Z"
    },
    "papermill": {
     "duration": 83.571406,
     "end_time": "2023-11-25T18:18:46.206202",
     "exception": false,
     "start_time": "2023-11-25T18:17:22.634796",
     "status": "completed"
    },
    "tags": []
   },
   "outputs": [
    {
     "name": "stdout",
     "output_type": "stream",
     "text": [
      "EvaluatorHoldout: Ignoring 2568 (19.7%) Users that have less than 1 test interactions\n",
      "EvaluatorHoldout: Processed 10456 (100.0%) in 1.39 min. Users per second: 125\n"
     ]
    },
    {
     "data": {
      "text/html": [
       "<div>\n",
       "<style scoped>\n",
       "    .dataframe tbody tr th:only-of-type {\n",
       "        vertical-align: middle;\n",
       "    }\n",
       "\n",
       "    .dataframe tbody tr th {\n",
       "        vertical-align: top;\n",
       "    }\n",
       "\n",
       "    .dataframe thead th {\n",
       "        text-align: right;\n",
       "    }\n",
       "</style>\n",
       "<table border=\"1\" class=\"dataframe\">\n",
       "  <thead>\n",
       "    <tr style=\"text-align: right;\">\n",
       "      <th></th>\n",
       "      <th>PRECISION</th>\n",
       "      <th>PRECISION_RECALL_MIN_DEN</th>\n",
       "      <th>RECALL</th>\n",
       "      <th>MAP</th>\n",
       "      <th>MAP_MIN_DEN</th>\n",
       "      <th>MRR</th>\n",
       "      <th>NDCG</th>\n",
       "      <th>F1</th>\n",
       "      <th>HIT_RATE</th>\n",
       "      <th>ARHR_ALL_HITS</th>\n",
       "      <th>...</th>\n",
       "      <th>COVERAGE_USER</th>\n",
       "      <th>COVERAGE_USER_HIT</th>\n",
       "      <th>USERS_IN_GT</th>\n",
       "      <th>DIVERSITY_GINI</th>\n",
       "      <th>SHANNON_ENTROPY</th>\n",
       "      <th>RATIO_DIVERSITY_HERFINDAHL</th>\n",
       "      <th>RATIO_DIVERSITY_GINI</th>\n",
       "      <th>RATIO_SHANNON_ENTROPY</th>\n",
       "      <th>RATIO_AVERAGE_POPULARITY</th>\n",
       "      <th>RATIO_NOVELTY</th>\n",
       "    </tr>\n",
       "    <tr>\n",
       "      <th>cutoff</th>\n",
       "      <th></th>\n",
       "      <th></th>\n",
       "      <th></th>\n",
       "      <th></th>\n",
       "      <th></th>\n",
       "      <th></th>\n",
       "      <th></th>\n",
       "      <th></th>\n",
       "      <th></th>\n",
       "      <th></th>\n",
       "      <th></th>\n",
       "      <th></th>\n",
       "      <th></th>\n",
       "      <th></th>\n",
       "      <th></th>\n",
       "      <th></th>\n",
       "      <th></th>\n",
       "      <th></th>\n",
       "      <th></th>\n",
       "      <th></th>\n",
       "      <th></th>\n",
       "    </tr>\n",
       "  </thead>\n",
       "  <tbody>\n",
       "    <tr>\n",
       "      <th>10</th>\n",
       "      <td>0.057785</td>\n",
       "      <td>0.105179</td>\n",
       "      <td>0.08944</td>\n",
       "      <td>0.025882</td>\n",
       "      <td>0.045513</td>\n",
       "      <td>0.164249</td>\n",
       "      <td>0.089164</td>\n",
       "      <td>0.070209</td>\n",
       "      <td>0.374904</td>\n",
       "      <td>0.204495</td>\n",
       "      <td>...</td>\n",
       "      <td>0.802826</td>\n",
       "      <td>0.300983</td>\n",
       "      <td>0.802826</td>\n",
       "      <td>0.018422</td>\n",
       "      <td>8.910796</td>\n",
       "      <td>0.995616</td>\n",
       "      <td>0.053154</td>\n",
       "      <td>0.686453</td>\n",
       "      <td>2.002961</td>\n",
       "      <td>0.289269</td>\n",
       "    </tr>\n",
       "  </tbody>\n",
       "</table>\n",
       "<p>1 rows × 27 columns</p>\n",
       "</div>"
      ],
      "text/plain": [
       "       PRECISION PRECISION_RECALL_MIN_DEN   RECALL       MAP MAP_MIN_DEN  \\\n",
       "cutoff                                                                     \n",
       "10      0.057785                 0.105179  0.08944  0.025882    0.045513   \n",
       "\n",
       "             MRR      NDCG        F1  HIT_RATE ARHR_ALL_HITS  ...  \\\n",
       "cutoff                                                        ...   \n",
       "10      0.164249  0.089164  0.070209  0.374904      0.204495  ...   \n",
       "\n",
       "       COVERAGE_USER COVERAGE_USER_HIT USERS_IN_GT DIVERSITY_GINI  \\\n",
       "cutoff                                                              \n",
       "10          0.802826          0.300983    0.802826       0.018422   \n",
       "\n",
       "       SHANNON_ENTROPY RATIO_DIVERSITY_HERFINDAHL RATIO_DIVERSITY_GINI  \\\n",
       "cutoff                                                                   \n",
       "10            8.910796                   0.995616             0.053154   \n",
       "\n",
       "       RATIO_SHANNON_ENTROPY RATIO_AVERAGE_POPULARITY RATIO_NOVELTY  \n",
       "cutoff                                                               \n",
       "10                  0.686453                 2.002961      0.289269  \n",
       "\n",
       "[1 rows x 27 columns]"
      ]
     },
     "execution_count": 29,
     "metadata": {},
     "output_type": "execute_result"
    }
   ],
   "source": [
    "evaluator = EvaluatorHoldout(URM_test_complete, cutoff_list=[10])\n",
    "result_df, _ = evaluator.evaluateRecommender(recommender)\n",
    "result_df"
   ]
  },
  {
   "cell_type": "code",
   "execution_count": 30,
   "id": "6fc6750a",
   "metadata": {
    "_kg_hide-output": true,
    "execution": {
     "iopub.execute_input": "2023-11-25T18:18:46.258938Z",
     "iopub.status.busy": "2023-11-25T18:18:46.257532Z",
     "iopub.status.idle": "2023-11-25T18:19:14.331460Z",
     "shell.execute_reply": "2023-11-25T18:19:14.330186Z"
    },
    "papermill": {
     "duration": 28.103409,
     "end_time": "2023-11-25T18:19:14.334569",
     "exception": false,
     "start_time": "2023-11-25T18:18:46.231160",
     "status": "completed"
    },
    "scrolled": true,
    "tags": []
   },
   "outputs": [
    {
     "name": "stdout",
     "output_type": "stream",
     "text": [
      "ItemKNNCFRecommender: URM Detected 631 ( 4.8%) users with no interactions.\n",
      "ItemKNNCFRecommender: URM Detected 248 ( 1.1%) items with no interactions.\n",
      "Similarity column 22347 (100.0%), 4861.05 column/sec. Elapsed time 4.60 sec\n",
      "ItemKNNCFRecommender: URM Detected 599 ( 4.6%) users with no interactions.\n",
      "ItemKNNCFRecommender: URM Detected 228 ( 1.0%) items with no interactions.\n",
      "Similarity column 22347 (100.0%), 4941.81 column/sec. Elapsed time 4.52 sec\n",
      "ItemKNNCFRecommender: URM Detected 944 ( 7.2%) users with no interactions.\n",
      "ItemKNNCFRecommender: URM Detected 545 ( 2.4%) items with no interactions.\n",
      "Similarity column 22347 (100.0%), 5456.26 column/sec. Elapsed time 4.10 sec\n",
      "ItemKNNCFRecommender: URM Detected 1462 (11.2%) users with no interactions.\n",
      "ItemKNNCFRecommender: URM Detected 1494 ( 6.7%) items with no interactions.\n",
      "Similarity column 22347 (100.0%), 5820.38 column/sec. Elapsed time 3.84 sec\n",
      "ItemKNNCFRecommender: URM Detected 599 ( 4.6%) users with no interactions.\n",
      "ItemKNNCFRecommender: URM Detected 233 ( 1.0%) items with no interactions.\n",
      "Similarity column 22347 (100.0%), 4974.92 column/sec. Elapsed time 4.49 sec\n"
     ]
    }
   ],
   "source": [
    "folds = []\n",
    "for URM_train, URM_valid in CrossValidationSplitter(5).split(URM_all):\n",
    "    recommender = ItemKNNCFRecommender(URM_train)\n",
    "    recommender.fit(**params_knn)\n",
    "    \n",
    "    folds.append((URM_train, URM_valid, recommender))"
   ]
  },
  {
   "cell_type": "code",
   "execution_count": 31,
   "id": "d59ac2a9",
   "metadata": {
    "execution": {
     "iopub.execute_input": "2023-11-25T18:19:14.389621Z",
     "iopub.status.busy": "2023-11-25T18:19:14.389124Z",
     "iopub.status.idle": "2023-11-25T18:19:14.401813Z",
     "shell.execute_reply": "2023-11-25T18:19:14.400725Z"
    },
    "papermill": {
     "duration": 0.043516,
     "end_time": "2023-11-25T18:19:14.404228",
     "exception": false,
     "start_time": "2023-11-25T18:19:14.360712",
     "status": "completed"
    },
    "tags": []
   },
   "outputs": [],
   "source": [
    "class PrefittedPipelineRecommender:\n",
    "    def __init__(self, fine_recommender, coarse_recommender, URM_train):\n",
    "        self.URM_train = URM_train\n",
    "        self.coarse_recommender = coarse_recommender\n",
    "        self.fine_recommender = fine_recommender\n",
    "    \n",
    "    def fit(self):\n",
    "        pass\n",
    "        \n",
    "    def recommend(self, user_ids, cutoff=10, remove_seen_flag=True, remove_top_pop_flag=False, \n",
    "                  return_scores=True, remove_custom_items_flag=True):\n",
    "        items = set(np.arange(self.URM_train.shape[1]).tolist())\n",
    "        final_recommendations = []\n",
    "        final_scores = []\n",
    "        for user_id in user_ids:\n",
    "            # custom remove seen flag, since the fine recommender is trained with much more non zero entries\n",
    "            # but the true seen items are in the original urm\n",
    "            items_to_compute = list(items - set(self.URM_train[user_id].nonzero()[1].tolist()))\n",
    "            recommendations, scores = self.fine_recommender.recommend(\n",
    "                [user_id],\n",
    "                cutoff=cutoff,\n",
    "                items_to_compute=items_to_compute, \n",
    "                remove_seen_flag=False, # if true it will remove most of the items since fine train matrix is less sparse\n",
    "                remove_top_pop_flag=remove_top_pop_flag, \n",
    "                return_scores=True, \n",
    "                remove_custom_items_flag=remove_custom_items_flag\n",
    "            )\n",
    "            final_recommendations.append(recommendations[0])\n",
    "            final_scores.append(scores[0])\n",
    "        if return_scores:\n",
    "            return np.array(final_recommendations), np.array(final_scores)\n",
    "        return np.array(final_recommendations)\n",
    "        \n",
    "    def get_URM_train(self):\n",
    "        return self.URM_train"
   ]
  },
  {
   "cell_type": "code",
   "execution_count": 32,
   "id": "16c94fdd",
   "metadata": {
    "execution": {
     "iopub.execute_input": "2023-11-25T18:19:14.459782Z",
     "iopub.status.busy": "2023-11-25T18:19:14.459074Z",
     "iopub.status.idle": "2023-11-25T18:19:14.470281Z",
     "shell.execute_reply": "2023-11-25T18:19:14.469316Z"
    },
    "papermill": {
     "duration": 0.042353,
     "end_time": "2023-11-25T18:19:14.473038",
     "exception": false,
     "start_time": "2023-11-25T18:19:14.430685",
     "status": "completed"
    },
    "tags": []
   },
   "outputs": [],
   "source": [
    "from concurrent.futures import ThreadPoolExecutor\n",
    "\n",
    "def evaluate_pipeline_recommender(URM_train, URM_valid, item_knn_recommender, params):\n",
    "    recommender = RP3betaRecommender(URM_train.dot(item_knn_recommender.W_sparse))\n",
    "    recommender.fit(**params)\n",
    "    hybrid_recommender = PrefittedPipelineRecommender(recommender, item_knn_recommender, URM_train)\n",
    "\n",
    "    evaluator = EvaluatorHoldout(URM_valid, cutoff_list=[10])\n",
    "    result_df, _ = evaluator.evaluateRecommender(hybrid_recommender)\n",
    "    print(f'MAP is {result_df.loc[10, \"MAP\"]}')\n",
    "    \n",
    "    return result_df.loc[10, 'MAP']\n",
    "\n",
    "\n",
    "def objective_item_knn(trial):\n",
    "    params = {\n",
    "        'alpha': trial.suggest_float('alpha', 0.01, 10, log=True),\n",
    "        'beta': trial.suggest_float('beta', 0.01, 10, log=True),\n",
    "        'topK': trial.suggest_int('topK', 10, 5000, log=True)\n",
    "    }\n",
    "    \n",
    "    results = [None] * 5\n",
    "    with ThreadPoolExecutor(max_workers=5) as executor:\n",
    "        futures = []\n",
    "        for URM_train, URM_valid, item_knn_recommender in folds:\n",
    "            futures.append(executor.submit(evaluate_pipeline_recommender, URM_train, URM_valid, item_knn_recommender, params))\n",
    "        for j, future in enumerate(futures):\n",
    "            results[j] = future.result()\n",
    "            \n",
    "    gc.collect()\n",
    "        \n",
    "    return np.mean(results)"
   ]
  },
  {
   "cell_type": "code",
   "execution_count": 33,
   "id": "674f9409",
   "metadata": {
    "execution": {
     "iopub.execute_input": "2023-11-25T18:19:14.527900Z",
     "iopub.status.busy": "2023-11-25T18:19:14.527005Z",
     "iopub.status.idle": "2023-11-25T22:16:02.291686Z",
     "shell.execute_reply": "2023-11-25T22:16:02.290300Z"
    },
    "papermill": {
     "duration": 14207.79582,
     "end_time": "2023-11-25T22:16:02.294693",
     "exception": false,
     "start_time": "2023-11-25T18:19:14.498873",
     "status": "completed"
    },
    "tags": []
   },
   "outputs": [
    {
     "name": "stderr",
     "output_type": "stream",
     "text": [
      "[I 2023-11-25 18:19:15,201] Using an existing study with name 'hyperparameters_tuning_stag2_rp3' instead of creating a new one.\n"
     ]
    },
    {
     "name": "stdout",
     "output_type": "stream",
     "text": [
      "RP3betaRecommender: URM Detected 1482 (11.4%) users with no interactions.\n",
      "RP3betaRecommender: URM Detected 1512 ( 6.8%) items with no interactions.\n",
      "RP3betaRecommender: URM Detected 951 ( 7.3%) users with no interactions.\n",
      "RP3betaRecommender: URM Detected 602 ( 4.6%) users with no interactions.\n",
      "RP3betaRecommender: URM Detected 551 ( 2.5%) items with no interactions.\n",
      "RP3betaRecommender: URM Detected 634 ( 4.9%) users with no interactions.\n",
      "RP3betaRecommender: URM Detected 601 ( 4.6%) users with no interactions.\n",
      "RP3betaRecommender: URM Detected 231 ( 1.0%) items with no interactions.\n",
      "RP3betaRecommender: URM Detected 250 ( 1.1%) items with no interactions.\n",
      "RP3betaRecommender: URM Detected 235 ( 1.1%) items with no interactions.\n",
      "RP3betaRecommender: Similarity column 22347 (100.0%), 186.06 column/sec. Elapsed time 2.00 min\n",
      "EvaluatorHoldout: Ignoring 2539 (19.5%) Users that have less than 1 test interactions\n",
      "RP3betaRecommender: Similarity column 22347 (100.0%), 138.32 column/sec. Elapsed time 2.69 min\n",
      "EvaluatorHoldout: Ignoring 2568 (19.7%) Users that have less than 1 test interactions\n",
      "RP3betaRecommender: Similarity column 22347 (100.0%), 103.05 column/sec. Elapsed time 3.61 min\n",
      "EvaluatorHoldout: Ignoring 2555 (19.6%) Users that have less than 1 test interactions\n",
      "RP3betaRecommender: Similarity column 22347 (100.0%), 101.93 column/sec. Elapsed time 3.65 min\n",
      "EvaluatorHoldout: Ignoring 2552 (19.6%) Users that have less than 1 test interactions\n",
      "RP3betaRecommender: Similarity column 22347 (100.0%), 97.90 column/sec. Elapsed time 3.80 min\n",
      "EvaluatorHoldout: Ignoring 2534 (19.5%) Users that have less than 1 test interactions\n",
      "EvaluatorHoldout: Processed 9000 (85.8%) in 5.18 min. Users per second: 29\n",
      "EvaluatorHoldout: Processed 7000 (66.9%) in 5.05 min. Users per second: 23\n",
      "EvaluatorHoldout: Processed 10485 (100.0%) in 6.51 min. Users per second: 27\n",
      "MAP is 0.019847336709282366\n",
      "EvaluatorHoldout: Processed 6000 (57.3%) in 5.18 min. Users per second: 19\n",
      "EvaluatorHoldout: Processed 6000 (57.3%) in 5.16 min. Users per second: 19\n",
      "EvaluatorHoldout: Processed 6000 (57.2%) in 5.16 min. Users per second: 19\n",
      "EvaluatorHoldout: Processed 10456 (100.0%) in 7.64 min. Users per second: 23\n",
      "MAP is 0.024605576960445078\n",
      "EvaluatorHoldout: Processed 10472 (100.0%) in 7.88 min. Users per second: 22\n",
      "EvaluatorHoldout: Processed 10469 (100.0%) in 7.92 min. Users per second: 22\n",
      "MAP is 0.029217171717171947\n",
      "MAP is 0.03012889528722013\n",
      "EvaluatorHoldout: Processed 10490 (100.0%) in 7.75 min. Users per second: 23\n",
      "MAP is 0.029713782589616832\n"
     ]
    },
    {
     "name": "stderr",
     "output_type": "stream",
     "text": [
      "[I 2023-11-25 18:30:55,828] Trial 80 finished with value: 0.02670255265274727 and parameters: {'alpha': 1.5480629378857769, 'beta': 0.022579334969504837, 'topK': 56}. Best is trial 71 with value: 0.026971992456948108.\n"
     ]
    },
    {
     "name": "stdout",
     "output_type": "stream",
     "text": [
      "RP3betaRecommender: URM Detected 1482 (11.4%) users with no interactions.\n",
      "RP3betaRecommender: URM Detected 1512 ( 6.8%) items with no interactions.\n",
      "RP3betaRecommender: URM Detected 951 ( 7.3%) users with no interactions.\n",
      "RP3betaRecommender: URM Detected 634 ( 4.9%) users with no interactions.\n",
      "RP3betaRecommender: URM Detected 602 ( 4.6%) users with no interactions.\n",
      "RP3betaRecommender: URM Detected 601 ( 4.6%) users with no interactions.\n",
      "RP3betaRecommender: URM Detected 551 ( 2.5%) items with no interactions.\n",
      "RP3betaRecommender: URM Detected 250 ( 1.1%) items with no interactions.\n",
      "RP3betaRecommender: URM Detected 231 ( 1.0%) items with no interactions.\n",
      "RP3betaRecommender: URM Detected 235 ( 1.1%) items with no interactions.\n",
      "RP3betaRecommender: Similarity column 22347 (100.0%), 183.40 column/sec. Elapsed time 2.03 min\n",
      "EvaluatorHoldout: Ignoring 2539 (19.5%) Users that have less than 1 test interactions\n",
      "RP3betaRecommender: Similarity column 22347 (100.0%), 132.28 column/sec. Elapsed time 2.82 min\n",
      "EvaluatorHoldout: Ignoring 2568 (19.7%) Users that have less than 1 test interactions\n",
      "RP3betaRecommender: Similarity column 22347 (100.0%), 101.25 column/sec. Elapsed time 3.68 min\n",
      "EvaluatorHoldout: Ignoring 2555 (19.6%) Users that have less than 1 test interactions\n",
      "RP3betaRecommender: Similarity column 22347 (100.0%), 99.63 column/sec. Elapsed time 3.74 min\n",
      "EvaluatorHoldout: Ignoring 2552 (19.6%) Users that have less than 1 test interactions\n",
      "RP3betaRecommender: Similarity column 22347 (100.0%), 97.80 column/sec. Elapsed time 3.81 min\n",
      "EvaluatorHoldout: Ignoring 2534 (19.5%) Users that have less than 1 test interactions\n",
      "EvaluatorHoldout: Processed 9000 (85.8%) in 5.13 min. Users per second: 29\n",
      "EvaluatorHoldout: Processed 7000 (66.9%) in 5.13 min. Users per second: 23\n",
      "EvaluatorHoldout: Processed 10485 (100.0%) in 6.38 min. Users per second: 27\n",
      "MAP is 0.021014900348949005\n",
      "EvaluatorHoldout: Processed 6000 (57.3%) in 5.02 min. Users per second: 20\n",
      "EvaluatorHoldout: Processed 7000 (66.9%) in 5.65 min. Users per second: 21\n",
      "EvaluatorHoldout: Processed 7000 (66.7%) in 5.60 min. Users per second: 21\n",
      "EvaluatorHoldout: Processed 10456 (100.0%) in 7.52 min. Users per second: 23\n",
      "MAP is 0.024648147642122472\n",
      "EvaluatorHoldout: Processed 10469 (100.0%) in 7.59 min. Users per second: 23\n",
      "MAP is 0.030013850415512675\n",
      "EvaluatorHoldout: Processed 10472 (100.0%) in 7.58 min. Users per second: 23\n",
      "MAP is 0.028539703760292252\n",
      "EvaluatorHoldout: Processed 10490 (100.0%) in 7.49 min. Users per second: 23\n",
      "MAP is 0.02930737890961941\n"
     ]
    },
    {
     "name": "stderr",
     "output_type": "stream",
     "text": [
      "[I 2023-11-25 18:42:20,627] Trial 81 finished with value: 0.026704796215299163 and parameters: {'alpha': 1.2803105926626188, 'beta': 0.01945469131572659, 'topK': 71}. Best is trial 71 with value: 0.026971992456948108.\n"
     ]
    },
    {
     "name": "stdout",
     "output_type": "stream",
     "text": [
      "RP3betaRecommender: URM Detected 1482 (11.4%) users with no interactions.\n",
      "RP3betaRecommender: URM Detected 951 ( 7.3%) users with no interactions.\n",
      "RP3betaRecommender: URM Detected 1512 ( 6.8%) items with no interactions.\n",
      "RP3betaRecommender: URM Detected 602 ( 4.6%) users with no interactions.\n",
      "RP3betaRecommender: URM Detected 551 ( 2.5%) items with no interactions.\n",
      "RP3betaRecommender: URM Detected 601 ( 4.6%) users with no interactions.\n",
      "RP3betaRecommender: URM Detected 634 ( 4.9%) users with no interactions.\n",
      "RP3betaRecommender: URM Detected 231 ( 1.0%) items with no interactions.\n",
      "RP3betaRecommender: URM Detected 250 ( 1.1%) items with no interactions.\n",
      "RP3betaRecommender: URM Detected 235 ( 1.1%) items with no interactions.\n",
      "RP3betaRecommender: Similarity column 22347 (100.0%), 169.17 column/sec. Elapsed time 2.20 min\n",
      "EvaluatorHoldout: Ignoring 2539 (19.5%) Users that have less than 1 test interactions\n",
      "RP3betaRecommender: Similarity column 22347 (100.0%), 125.07 column/sec. Elapsed time 2.98 min\n",
      "EvaluatorHoldout: Ignoring 2568 (19.7%) Users that have less than 1 test interactions\n",
      "RP3betaRecommender: Similarity column 22347 (100.0%), 97.18 column/sec. Elapsed time 3.83 min\n",
      "EvaluatorHoldout: Ignoring 2555 (19.6%) Users that have less than 1 test interactions\n",
      "RP3betaRecommender: Similarity column 22347 (100.0%), 94.40 column/sec. Elapsed time 3.95 min\n",
      "RP3betaRecommender: Similarity column 22347 (100.0%), 94.04 column/sec. Elapsed time 3.96 min\n",
      "EvaluatorHoldout: Ignoring 2552 (19.6%) Users that have less than 1 test interactions\n",
      "EvaluatorHoldout: Ignoring 2534 (19.5%) Users that have less than 1 test interactions\n",
      "EvaluatorHoldout: Processed 8000 (76.3%) in 5.14 min. Users per second: 26\n",
      "EvaluatorHoldout: Processed 7000 (66.9%) in 5.52 min. Users per second: 21\n",
      "EvaluatorHoldout: Processed 6000 (57.3%) in 5.47 min. Users per second: 18\n",
      "EvaluatorHoldout: Processed 6000 (57.2%) in 5.38 min. Users per second: 19\n",
      "EvaluatorHoldout: Processed 6000 (57.3%) in 5.42 min. Users per second: 18\n",
      "EvaluatorHoldout: Processed 10485 (100.0%) in 7.40 min. Users per second: 24\n",
      "MAP is 0.018994943645873633\n",
      "EvaluatorHoldout: Processed 10456 (100.0%) in 8.13 min. Users per second: 21\n",
      "MAP is 0.024067475498232977\n",
      "EvaluatorHoldout: Processed 10469 (100.0%) in 8.20 min. Users per second: 21\n",
      "MAP is 0.02922602559029176\n",
      "EvaluatorHoldout: Processed 10472 (100.0%) in 8.12 min. Users per second: 22\n",
      "MAP is 0.027258297258297468\n",
      "EvaluatorHoldout: Processed 10490 (100.0%) in 8.08 min. Users per second: 22\n",
      "MAP is 0.02861353972793462\n"
     ]
    },
    {
     "name": "stderr",
     "output_type": "stream",
     "text": [
      "[I 2023-11-25 18:54:35,969] Trial 82 finished with value: 0.025632056344126092 and parameters: {'alpha': 2.4126458853897246, 'beta': 0.013814897725176868, 'topK': 136}. Best is trial 71 with value: 0.026971992456948108.\n"
     ]
    },
    {
     "name": "stdout",
     "output_type": "stream",
     "text": [
      "RP3betaRecommender: URM Detected 1482 (11.4%) users with no interactions.\n",
      "RP3betaRecommender: URM Detected 1512 ( 6.8%) items with no interactions.\n",
      "RP3betaRecommender: URM Detected 951 ( 7.3%) users with no interactions.\n",
      "RP3betaRecommender: URM Detected 551 ( 2.5%) items with no interactions.\n",
      "RP3betaRecommender: URM Detected 601 ( 4.6%) users with no interactions.\n",
      "RP3betaRecommender: URM Detected 634 ( 4.9%) users with no interactions.\n",
      "RP3betaRecommender: URM Detected 602 ( 4.6%) users with no interactions.\n",
      "RP3betaRecommender: URM Detected 235 ( 1.1%) items with no interactions.\n",
      "RP3betaRecommender: URM Detected 231 ( 1.0%) items with no interactions.\n",
      "RP3betaRecommender: URM Detected 250 ( 1.1%) items with no interactions.\n",
      "RP3betaRecommender: Similarity column 22347 (100.0%), 174.50 column/sec. Elapsed time 2.13 min\n",
      "EvaluatorHoldout: Ignoring 2539 (19.5%) Users that have less than 1 test interactions\n",
      "RP3betaRecommender: Similarity column 22347 (100.0%), 128.94 column/sec. Elapsed time 2.89 min\n",
      "EvaluatorHoldout: Ignoring 2568 (19.7%) Users that have less than 1 test interactions\n",
      "RP3betaRecommender: Similarity column 22347 (100.0%), 97.50 column/sec. Elapsed time 3.82 min\n",
      "RP3betaRecommender: Similarity column 22347 (100.0%), 97.59 column/sec. Elapsed time 3.82 min\n",
      "EvaluatorHoldout: Ignoring 2555 (19.6%) Users that have less than 1 test interactions\n",
      "EvaluatorHoldout: Ignoring 2552 (19.6%) Users that have less than 1 test interactions\n",
      "RP3betaRecommender: Similarity column 22347 (100.0%), 92.54 column/sec. Elapsed time 4.02 min\n",
      "EvaluatorHoldout: Ignoring 2534 (19.5%) Users that have less than 1 test interactions\n",
      "EvaluatorHoldout: Processed 9000 (85.8%) in 5.55 min. Users per second: 27\n",
      "EvaluatorHoldout: Processed 7000 (66.9%) in 5.29 min. Users per second: 22\n",
      "EvaluatorHoldout: Processed 10485 (100.0%) in 6.88 min. Users per second: 25\n",
      "MAP is 0.020560241009454198\n",
      "EvaluatorHoldout: Processed 6000 (57.3%) in 5.19 min. Users per second: 19\n",
      "EvaluatorHoldout: Processed 6000 (57.3%) in 5.22 min. Users per second: 19\n",
      "EvaluatorHoldout: Processed 6000 (57.2%) in 5.26 min. Users per second: 19\n",
      "EvaluatorHoldout: Processed 10456 (100.0%) in 7.86 min. Users per second: 22\n",
      "MAP is 0.02468091154467398\n",
      "EvaluatorHoldout: Processed 10469 (100.0%) in 7.92 min. Users per second: 22\n",
      "MAP is 0.029374028689388473\n",
      "EvaluatorHoldout: Processed 10472 (100.0%) in 7.93 min. Users per second: 22\n",
      "MAP is 0.02792161940533812\n",
      "EvaluatorHoldout: Processed 10490 (100.0%) in 7.77 min. Users per second: 22\n",
      "MAP is 0.029527380574091933\n"
     ]
    },
    {
     "name": "stderr",
     "output_type": "stream",
     "text": [
      "[I 2023-11-25 19:06:32,520] Trial 83 finished with value: 0.026412836244589344 and parameters: {'alpha': 1.5864064593388831, 'beta': 0.025666077901885385, 'topK': 105}. Best is trial 71 with value: 0.026971992456948108.\n"
     ]
    },
    {
     "name": "stdout",
     "output_type": "stream",
     "text": [
      "RP3betaRecommender: URM Detected 1482 (11.4%) users with no interactions.\n",
      "RP3betaRecommender: URM Detected 1512 ( 6.8%) items with no interactions.\n",
      "RP3betaRecommender: URM Detected 951 ( 7.3%) users with no interactions.\n",
      "RP3betaRecommender: URM Detected 634 ( 4.9%) users with no interactions.\n",
      "RP3betaRecommender: URM Detected 602 ( 4.6%) users with no interactions.\n",
      "RP3betaRecommender: URM Detected 551 ( 2.5%) items with no interactions.\n",
      "RP3betaRecommender: URM Detected 250 ( 1.1%) items with no interactions.RP3betaRecommender: URM Detected 601 ( 4.6%) users with no interactions.\n",
      "\n",
      "RP3betaRecommender: URM Detected 231 ( 1.0%) items with no interactions.\n",
      "RP3betaRecommender: URM Detected 235 ( 1.1%) items with no interactions.\n",
      "RP3betaRecommender: Similarity column 22347 (100.0%), 180.55 column/sec. Elapsed time 2.06 min\n",
      "EvaluatorHoldout: Ignoring 2539 (19.5%) Users that have less than 1 test interactions\n",
      "RP3betaRecommender: Similarity column 22347 (100.0%), 129.92 column/sec. Elapsed time 2.87 min\n",
      "EvaluatorHoldout: Ignoring 2568 (19.7%) Users that have less than 1 test interactions\n",
      "RP3betaRecommender: Similarity column 22347 (100.0%), 99.70 column/sec. Elapsed time 3.74 min\n",
      "EvaluatorHoldout: Ignoring 2555 (19.6%) Users that have less than 1 test interactions\n",
      "RP3betaRecommender: Similarity column 22347 (100.0%), 98.24 column/sec. Elapsed time 3.79 min\n",
      "RP3betaRecommender: Similarity column 22347 (100.0%), 97.80 column/sec. Elapsed time 3.81 min\n",
      "EvaluatorHoldout: Ignoring 2534 (19.5%) Users that have less than 1 test interactions\n",
      "EvaluatorHoldout: Ignoring 2552 (19.6%) Users that have less than 1 test interactions\n",
      "EvaluatorHoldout: Processed 9000 (85.8%) in 5.13 min. Users per second: 29\n",
      "EvaluatorHoldout: Processed 7000 (66.9%) in 5.14 min. Users per second: 23\n",
      "EvaluatorHoldout: Processed 10485 (100.0%) in 6.36 min. Users per second: 27\n",
      "MAP is 0.021071262044795768\n",
      "EvaluatorHoldout: Processed 6000 (57.3%) in 5.02 min. Users per second: 20\n",
      "EvaluatorHoldout: Processed 6000 (57.3%) in 5.02 min. Users per second: 20\n",
      "EvaluatorHoldout: Processed 7000 (66.7%) in 5.64 min. Users per second: 21\n",
      "EvaluatorHoldout: Processed 10456 (100.0%) in 7.48 min. Users per second: 23\n",
      "MAP is 0.024127705213684545\n",
      "EvaluatorHoldout: Processed 10490 (100.0%) in 7.53 min. Users per second: 23\n",
      "MAP is 0.0281456640489054\n",
      "EvaluatorHoldout: Processed 10469 (100.0%) in 7.59 min. Users per second: 23\n",
      "MAP is 0.028844695677487958\n",
      "EvaluatorHoldout: Processed 10472 (100.0%) in 7.53 min. Users per second: 23\n",
      "MAP is 0.027493959705094315\n"
     ]
    },
    {
     "name": "stderr",
     "output_type": "stream",
     "text": [
      "[I 2023-11-25 19:17:58,815] Trial 84 finished with value: 0.025936657337993597 and parameters: {'alpha': 1.0149054454845035, 'beta': 0.03416169424498674, 'topK': 72}. Best is trial 71 with value: 0.026971992456948108.\n"
     ]
    },
    {
     "name": "stdout",
     "output_type": "stream",
     "text": [
      "RP3betaRecommender: URM Detected 1482 (11.4%) users with no interactions.\n",
      "RP3betaRecommender: URM Detected 1512 ( 6.8%) items with no interactions.\n",
      "RP3betaRecommender: URM Detected 951 ( 7.3%) users with no interactions.\n",
      "RP3betaRecommender: URM Detected 602 ( 4.6%) users with no interactions.\n",
      "RP3betaRecommender: URM Detected 634 ( 4.9%) users with no interactions.\n",
      "RP3betaRecommender: URM Detected 551 ( 2.5%) items with no interactions.\n",
      "RP3betaRecommender: URM Detected 601 ( 4.6%) users with no interactions.\n",
      "RP3betaRecommender: URM Detected 231 ( 1.0%) items with no interactions.\n",
      "RP3betaRecommender: URM Detected 250 ( 1.1%) items with no interactions.\n",
      "RP3betaRecommender: URM Detected 235 ( 1.1%) items with no interactions.\n",
      "RP3betaRecommender: Similarity column 22347 (100.0%), 187.89 column/sec. Elapsed time 1.98 min\n",
      "EvaluatorHoldout: Ignoring 2539 (19.5%) Users that have less than 1 test interactions\n",
      "RP3betaRecommender: Similarity column 22347 (100.0%), 137.53 column/sec. Elapsed time 2.71 min\n",
      "EvaluatorHoldout: Ignoring 2568 (19.7%) Users that have less than 1 test interactions\n",
      "RP3betaRecommender: Similarity column 22347 (100.0%), 101.94 column/sec. Elapsed time 3.65 min\n",
      "RP3betaRecommender: Similarity column 22347 (100.0%), 101.59 column/sec. Elapsed time 3.67 min\n",
      "EvaluatorHoldout: Ignoring 2555 (19.6%) Users that have less than 1 test interactions\n",
      "EvaluatorHoldout: Ignoring 2552 (19.6%) Users that have less than 1 test interactions\n",
      "RP3betaRecommender: Similarity column 22347 (100.0%), 98.17 column/sec. Elapsed time 3.79 min\n",
      "EvaluatorHoldout: Ignoring 2534 (19.5%) Users that have less than 1 test interactions\n",
      "EvaluatorHoldout: Processed 9000 (85.8%) in 5.52 min. Users per second: 27\n",
      "EvaluatorHoldout: Processed 7000 (66.9%) in 5.47 min. Users per second: 21\n",
      "EvaluatorHoldout: Processed 10485 (100.0%) in 6.92 min. Users per second: 25\n",
      "MAP is 0.012469960866241211\n",
      "EvaluatorHoldout: Processed 6000 (57.3%) in 5.43 min. Users per second: 18\n",
      "EvaluatorHoldout: Processed 6000 (57.3%) in 5.47 min. Users per second: 18\n",
      "EvaluatorHoldout: Processed 6000 (57.2%) in 5.43 min. Users per second: 18\n",
      "EvaluatorHoldout: Processed 10456 (100.0%) in 8.12 min. Users per second: 21\n",
      "MAP is 0.01594972431716881\n",
      "EvaluatorHoldout: Processed 10469 (100.0%) in 8.23 min. Users per second: 21\n",
      "EvaluatorHoldout: Processed 10472 (100.0%) in 8.21 min. Users per second: 21\n",
      "MAP is 0.01976413735488147\n",
      "MAP is 0.01903614097154023\n",
      "EvaluatorHoldout: Processed 10490 (100.0%) in 8.11 min. Users per second: 22\n",
      "MAP is 0.019555903581642355\n"
     ]
    },
    {
     "name": "stderr",
     "output_type": "stream",
     "text": [
      "[I 2023-11-25 19:29:59,774] Trial 85 finished with value: 0.017355173418294817 and parameters: {'alpha': 3.329718532757632, 'beta': 0.048925640450036174, 'topK': 42}. Best is trial 71 with value: 0.026971992456948108.\n"
     ]
    },
    {
     "name": "stdout",
     "output_type": "stream",
     "text": [
      "RP3betaRecommender: URM Detected 1482 (11.4%) users with no interactions.\n",
      "RP3betaRecommender: URM Detected 951 ( 7.3%) users with no interactions.\n",
      "RP3betaRecommender: URM Detected 1512 ( 6.8%) items with no interactions.\n",
      "RP3betaRecommender: URM Detected 602 ( 4.6%) users with no interactions.RP3betaRecommender: URM Detected 551 ( 2.5%) items with no interactions.\n",
      "\n",
      "RP3betaRecommender: URM Detected 601 ( 4.6%) users with no interactions.\n",
      "RP3betaRecommender: URM Detected 634 ( 4.9%) users with no interactions.\n",
      "RP3betaRecommender: URM Detected 231 ( 1.0%) items with no interactions.\n",
      "RP3betaRecommender: URM Detected 235 ( 1.1%) items with no interactions.\n",
      "RP3betaRecommender: URM Detected 250 ( 1.1%) items with no interactions.\n",
      "RP3betaRecommender: Similarity column 22347 (100.0%), 180.36 column/sec. Elapsed time 2.07 min\n",
      "EvaluatorHoldout: Ignoring 2539 (19.5%) Users that have less than 1 test interactions\n",
      "RP3betaRecommender: Similarity column 22347 (100.0%), 127.31 column/sec. Elapsed time 2.93 min\n",
      "EvaluatorHoldout: Ignoring 2568 (19.7%) Users that have less than 1 test interactions\n",
      "RP3betaRecommender: Similarity column 22347 (100.0%), 97.77 column/sec. Elapsed time 3.81 min\n",
      "EvaluatorHoldout: Ignoring 2534 (19.5%) Users that have less than 1 test interactions\n",
      "RP3betaRecommender: Similarity column 22347 (100.0%), 96.13 column/sec. Elapsed time 3.87 min\n",
      "EvaluatorHoldout: Ignoring 2555 (19.6%) Users that have less than 1 test interactions\n",
      "RP3betaRecommender: Similarity column 22347 (100.0%), 94.72 column/sec. Elapsed time 3.93 min\n",
      "EvaluatorHoldout: Ignoring 2552 (19.6%) Users that have less than 1 test interactions\n",
      "EvaluatorHoldout: Processed 9000 (85.8%) in 5.33 min. Users per second: 28\n",
      "EvaluatorHoldout: Processed 7000 (66.9%) in 5.31 min. Users per second: 22\n",
      "EvaluatorHoldout: Processed 10485 (100.0%) in 6.61 min. Users per second: 26\n",
      "MAP is 0.02109872001574436\n",
      "EvaluatorHoldout: Processed 6000 (57.3%) in 5.10 min. Users per second: 20\n",
      "EvaluatorHoldout: Processed 6000 (57.2%) in 5.19 min. Users per second: 19\n",
      "EvaluatorHoldout: Processed 6000 (57.3%) in 5.12 min. Users per second: 20\n",
      "EvaluatorHoldout: Processed 10456 (100.0%) in 7.70 min. Users per second: 23\n",
      "MAP is 0.024430652712500542\n",
      "EvaluatorHoldout: Processed 10469 (100.0%) in 7.71 min. Users per second: 23\n",
      "MAP is 0.029386450093776703\n",
      "EvaluatorHoldout: Processed 10490 (100.0%) in 7.81 min. Users per second: 22\n",
      "MAP is 0.0289264643575894\n",
      "EvaluatorHoldout: Processed 10472 (100.0%) in 7.67 min. Users per second: 23\n",
      "MAP is 0.02792526859228565\n"
     ]
    },
    {
     "name": "stderr",
     "output_type": "stream",
     "text": [
      "[I 2023-11-25 19:41:42,671] Trial 86 finished with value: 0.02635351115437933 and parameters: {'alpha': 1.1964777778563553, 'beta': 0.01816635641891926, 'topK': 77}. Best is trial 71 with value: 0.026971992456948108.\n"
     ]
    },
    {
     "name": "stdout",
     "output_type": "stream",
     "text": [
      "RP3betaRecommender: URM Detected 1482 (11.4%) users with no interactions.\n",
      "RP3betaRecommender: URM Detected 951 ( 7.3%) users with no interactions.\n",
      "RP3betaRecommender: URM Detected 1512 ( 6.8%) items with no interactions.\n",
      "RP3betaRecommender: URM Detected 551 ( 2.5%) items with no interactions.\n",
      "RP3betaRecommender: URM Detected 634 ( 4.9%) users with no interactions.\n",
      "RP3betaRecommender: URM Detected 602 ( 4.6%) users with no interactions.\n",
      "RP3betaRecommender: URM Detected 601 ( 4.6%) users with no interactions.\n",
      "RP3betaRecommender: URM Detected 250 ( 1.1%) items with no interactions.\n",
      "RP3betaRecommender: URM Detected 231 ( 1.0%) items with no interactions.\n",
      "RP3betaRecommender: URM Detected 235 ( 1.1%) items with no interactions.\n",
      "RP3betaRecommender: Similarity column 22347 (100.0%), 185.07 column/sec. Elapsed time 2.01 min\n",
      "EvaluatorHoldout: Ignoring 2539 (19.5%) Users that have less than 1 test interactions\n",
      "RP3betaRecommender: Similarity column 22347 (100.0%), 135.03 column/sec. Elapsed time 2.76 min\n",
      "EvaluatorHoldout: Ignoring 2568 (19.7%) Users that have less than 1 test interactions\n",
      "RP3betaRecommender: Similarity column 22347 (100.0%), 98.04 column/sec. Elapsed time 3.80 min\n",
      "RP3betaRecommender: Similarity column 22347 (100.0%), 97.28 column/sec. Elapsed time 3.83 min\n",
      "EvaluatorHoldout: Ignoring 2555 (19.6%) Users that have less than 1 test interactions\n",
      "EvaluatorHoldout: Ignoring 2534 (19.5%) Users that have less than 1 test interactions\n",
      "RP3betaRecommender: Similarity column 22347 (100.0%), 95.80 column/sec. Elapsed time 3.89 min\n",
      "EvaluatorHoldout: Ignoring 2552 (19.6%) Users that have less than 1 test interactions\n",
      "EvaluatorHoldout: Processed 9000 (85.8%) in 5.15 min. Users per second: 29\n",
      "EvaluatorHoldout: Processed 7000 (66.9%) in 5.02 min. Users per second: 23\n",
      "EvaluatorHoldout: Processed 10485 (100.0%) in 6.49 min. Users per second: 27\n",
      "MAP is 0.02097309837939314\n",
      "EvaluatorHoldout: Processed 6000 (57.2%) in 5.18 min. Users per second: 19\n",
      "EvaluatorHoldout: Processed 6000 (57.3%) in 5.22 min. Users per second: 19\n",
      "EvaluatorHoldout: Processed 6000 (57.3%) in 5.16 min. Users per second: 19\n",
      "EvaluatorHoldout: Processed 10456 (100.0%) in 7.54 min. Users per second: 23\n",
      "MAP is 0.023573709482517847\n",
      "EvaluatorHoldout: Processed 10469 (100.0%) in 7.76 min. Users per second: 22\n",
      "MAP is 0.028529467953004272\n",
      "EvaluatorHoldout: Processed 10490 (100.0%) in 7.74 min. Users per second: 23\n",
      "MAP is 0.027796760331078908\n",
      "EvaluatorHoldout: Processed 10472 (100.0%) in 7.69 min. Users per second: 23\n",
      "MAP is 0.02700805322128866\n"
     ]
    },
    {
     "name": "stderr",
     "output_type": "stream",
     "text": [
      "[I 2023-11-25 19:53:22,821] Trial 87 finished with value: 0.025576217873456562 and parameters: {'alpha': 0.8869904708246388, 'beta': 0.02793014181691353, 'topK': 56}. Best is trial 71 with value: 0.026971992456948108.\n"
     ]
    },
    {
     "name": "stdout",
     "output_type": "stream",
     "text": [
      "RP3betaRecommender: URM Detected 1482 (11.4%) users with no interactions.\n",
      "RP3betaRecommender: URM Detected 951 ( 7.3%) users with no interactions.\n",
      "RP3betaRecommender: URM Detected 1512 ( 6.8%) items with no interactions.\n",
      "RP3betaRecommender: URM Detected 602 ( 4.6%) users with no interactions.\n",
      "RP3betaRecommender: URM Detected 551 ( 2.5%) items with no interactions.\n",
      "RP3betaRecommender: URM Detected 634 ( 4.9%) users with no interactions.\n",
      "RP3betaRecommender: URM Detected 601 ( 4.6%) users with no interactions.\n",
      "RP3betaRecommender: URM Detected 231 ( 1.0%) items with no interactions.\n",
      "RP3betaRecommender: URM Detected 235 ( 1.1%) items with no interactions.\n",
      "RP3betaRecommender: URM Detected 250 ( 1.1%) items with no interactions.\n",
      "RP3betaRecommender: Similarity column 22347 (100.0%), 170.61 column/sec. Elapsed time 2.18 min\n",
      "EvaluatorHoldout: Ignoring 2539 (19.5%) Users that have less than 1 test interactions\n",
      "RP3betaRecommender: Similarity column 22347 (100.0%), 123.39 column/sec. Elapsed time 3.02 min\n",
      "EvaluatorHoldout: Ignoring 2568 (19.7%) Users that have less than 1 test interactions\n",
      "RP3betaRecommender: Similarity column 22347 (100.0%), 95.38 column/sec. Elapsed time 3.91 min\n",
      "RP3betaRecommender: Similarity column 22347 (100.0%), 94.22 column/sec. Elapsed time 3.95 min\n",
      "RP3betaRecommender: Similarity column 22347 (100.0%), 93.90 column/sec. Elapsed time 3.97 min\n",
      "EvaluatorHoldout: Ignoring 2555 (19.6%) Users that have less than 1 test interactions\n",
      "EvaluatorHoldout: Ignoring 2534 (19.5%) Users that have less than 1 test interactions\n",
      "EvaluatorHoldout: Ignoring 2552 (19.6%) Users that have less than 1 test interactions\n",
      "EvaluatorHoldout: Processed 9000 (85.8%) in 5.82 min. Users per second: 26\n",
      "EvaluatorHoldout: Processed 7000 (66.9%) in 5.51 min. Users per second: 21\n",
      "EvaluatorHoldout: Processed 10485 (100.0%) in 7.19 min. Users per second: 24\n",
      "MAP is 0.019433779170546055\n",
      "EvaluatorHoldout: Processed 6000 (57.3%) in 5.46 min. Users per second: 18\n",
      "EvaluatorHoldout: Processed 6000 (57.3%) in 5.35 min. Users per second: 19\n",
      "EvaluatorHoldout: Processed 6000 (57.2%) in 5.39 min. Users per second: 19\n",
      "EvaluatorHoldout: Processed 10456 (100.0%) in 8.03 min. Users per second: 22\n",
      "MAP is 0.024642280273496773\n",
      "EvaluatorHoldout: Processed 10469 (100.0%) in 8.09 min. Users per second: 22\n",
      "MAP is 0.029636902298092828\n",
      "EvaluatorHoldout: Processed 10472 (100.0%) in 7.99 min. Users per second: 22\n",
      "MAP is 0.027959081359816874\n",
      "EvaluatorHoldout: Processed 10490 (100.0%) in 8.00 min. Users per second: 22\n",
      "MAP is 0.02929174043306568\n"
     ]
    },
    {
     "name": "stderr",
     "output_type": "stream",
     "text": [
      "[I 2023-11-25 20:05:32,281] Trial 88 finished with value: 0.02619275670700364 and parameters: {'alpha': 2.183948086023118, 'beta': 0.023698284868893103, 'topK': 125}. Best is trial 71 with value: 0.026971992456948108.\n"
     ]
    },
    {
     "name": "stdout",
     "output_type": "stream",
     "text": [
      "RP3betaRecommender: URM Detected 1482 (11.4%) users with no interactions.\n",
      "RP3betaRecommender: URM Detected 951 ( 7.3%) users with no interactions.\n",
      "RP3betaRecommender: URM Detected 1512 ( 6.8%) items with no interactions.\n",
      "RP3betaRecommender: URM Detected 551 ( 2.5%) items with no interactions.\n",
      "RP3betaRecommender: URM Detected 602 ( 4.6%) users with no interactions.\n",
      "RP3betaRecommender: URM Detected 634 ( 4.9%) users with no interactions.\n",
      "RP3betaRecommender: URM Detected 601 ( 4.6%) users with no interactions.\n",
      "RP3betaRecommender: URM Detected 250 ( 1.1%) items with no interactions.\n",
      "RP3betaRecommender: URM Detected 231 ( 1.0%) items with no interactions.\n",
      "RP3betaRecommender: URM Detected 235 ( 1.1%) items with no interactions.\n",
      "RP3betaRecommender: Similarity column 22347 (100.0%), 176.27 column/sec. Elapsed time 2.11 min\n",
      "EvaluatorHoldout: Ignoring 2539 (19.5%) Users that have less than 1 test interactions\n",
      "RP3betaRecommender: Similarity column 22347 (100.0%), 130.99 column/sec. Elapsed time 2.84 min\n",
      "EvaluatorHoldout: Ignoring 2568 (19.7%) Users that have less than 1 test interactions\n",
      "RP3betaRecommender: Similarity column 22347 (100.0%), 97.88 column/sec. Elapsed time 3.81 min\n",
      "EvaluatorHoldout: Ignoring 2534 (19.5%) Users that have less than 1 test interactions\n",
      "RP3betaRecommender: Similarity column 22347 (100.0%), 95.82 column/sec. Elapsed time 3.89 min\n",
      "RP3betaRecommender: Similarity column 22347 (100.0%), 94.90 column/sec. Elapsed time 3.92 min\n",
      "EvaluatorHoldout: Ignoring 2552 (19.6%) Users that have less than 1 test interactions\n",
      "EvaluatorHoldout: Ignoring 2555 (19.6%) Users that have less than 1 test interactions\n",
      "EvaluatorHoldout: Processed 9000 (85.8%) in 5.63 min. Users per second: 27\n",
      "EvaluatorHoldout: Processed 7000 (66.9%) in 5.31 min. Users per second: 22\n",
      "EvaluatorHoldout: Processed 10485 (100.0%) in 7.01 min. Users per second: 25\n",
      "MAP is 0.020553114426505054\n",
      "EvaluatorHoldout: Processed 6000 (57.2%) in 5.38 min. Users per second: 19\n",
      "EvaluatorHoldout: Processed 6000 (57.3%) in 5.26 min. Users per second: 19\n",
      "EvaluatorHoldout: Processed 6000 (57.3%) in 5.33 min. Users per second: 19\n",
      "EvaluatorHoldout: Processed 10456 (100.0%) in 7.94 min. Users per second: 22\n",
      "MAP is 0.02465898671378785\n",
      "EvaluatorHoldout: Processed 10469 (100.0%) in 7.90 min. Users per second: 22\n",
      "MAP is 0.029616236598756673\n",
      "EvaluatorHoldout: Processed 10472 (100.0%) in 7.96 min. Users per second: 22\n",
      "MAP is 0.028361920525786368\n",
      "EvaluatorHoldout: Processed 10490 (100.0%) in 8.06 min. Users per second: 22\n",
      "MAP is 0.029630210934072015\n"
     ]
    },
    {
     "name": "stderr",
     "output_type": "stream",
     "text": [
      "[I 2023-11-25 20:17:30,899] Trial 89 finished with value: 0.02656409383978159 and parameters: {'alpha': 1.5646467715067984, 'beta': 0.03832241060013533, 'topK': 98}. Best is trial 71 with value: 0.026971992456948108.\n"
     ]
    },
    {
     "name": "stdout",
     "output_type": "stream",
     "text": [
      "RP3betaRecommender: URM Detected 1482 (11.4%) users with no interactions.\n",
      "RP3betaRecommender: URM Detected 951 ( 7.3%) users with no interactions.\n",
      "RP3betaRecommender: URM Detected 602 ( 4.6%) users with no interactions.\n",
      "RP3betaRecommender: URM Detected 1512 ( 6.8%) items with no interactions.\n",
      "RP3betaRecommender: URM Detected 601 ( 4.6%) users with no interactions.\n",
      "RP3betaRecommender: URM Detected 634 ( 4.9%) users with no interactions.\n",
      "RP3betaRecommender: URM Detected 551 ( 2.5%) items with no interactions.\n",
      "RP3betaRecommender: URM Detected 231 ( 1.0%) items with no interactions.\n",
      "RP3betaRecommender: URM Detected 250 ( 1.1%) items with no interactions.\n",
      "RP3betaRecommender: URM Detected 235 ( 1.1%) items with no interactions.\n",
      "RP3betaRecommender: Similarity column 22347 (100.0%), 191.33 column/sec. Elapsed time 1.95 min\n",
      "EvaluatorHoldout: Ignoring 2539 (19.5%) Users that have less than 1 test interactions\n",
      "RP3betaRecommender: Similarity column 22347 (100.0%), 136.31 column/sec. Elapsed time 2.73 min\n",
      "EvaluatorHoldout: Ignoring 2568 (19.7%) Users that have less than 1 test interactions\n",
      "RP3betaRecommender: Similarity column 22347 (100.0%), 101.65 column/sec. Elapsed time 3.66 min\n",
      "EvaluatorHoldout: Ignoring 2552 (19.6%) Users that have less than 1 test interactions\n",
      "RP3betaRecommender: Similarity column 22347 (100.0%), 99.39 column/sec. Elapsed time 3.75 min\n",
      "RP3betaRecommender: Similarity column 22347 (100.0%), 99.13 column/sec. Elapsed time 3.76 min\n",
      "EvaluatorHoldout: Ignoring 2555 (19.6%) Users that have less than 1 test interactions\n",
      "EvaluatorHoldout: Ignoring 2534 (19.5%) Users that have less than 1 test interactions\n",
      "EvaluatorHoldout: Processed 9000 (85.8%) in 5.08 min. Users per second: 30\n",
      "EvaluatorHoldout: Processed 7000 (66.9%) in 5.18 min. Users per second: 23\n",
      "EvaluatorHoldout: Processed 10485 (100.0%) in 6.40 min. Users per second: 27\n",
      "MAP is 0.018646312570489976\n",
      "EvaluatorHoldout: Processed 6000 (57.3%) in 5.10 min. Users per second: 20\n",
      "EvaluatorHoldout: Processed 6000 (57.3%) in 5.21 min. Users per second: 19\n",
      "EvaluatorHoldout: Processed 6000 (57.2%) in 5.12 min. Users per second: 20\n",
      "EvaluatorHoldout: Processed 10456 (100.0%) in 7.68 min. Users per second: 23\n",
      "MAP is 0.02382775212227211\n",
      "EvaluatorHoldout: Processed 10490 (100.0%) in 7.79 min. Users per second: 22\n",
      "MAP is 0.03003638764053468\n",
      "EvaluatorHoldout: Processed 10469 (100.0%) in 7.80 min. Users per second: 22\n",
      "MAP is 0.02998373504845027\n",
      "EvaluatorHoldout: Processed 10472 (100.0%) in 7.91 min. Users per second: 22\n",
      "MAP is 0.029235758697418495\n"
     ]
    },
    {
     "name": "stderr",
     "output_type": "stream",
     "text": [
      "[I 2023-11-25 20:29:10,745] Trial 90 finished with value: 0.026345989215833105 and parameters: {'alpha': 1.7549834144838403, 'beta': 0.05029709104923187, 'topK': 47}. Best is trial 71 with value: 0.026971992456948108.\n"
     ]
    },
    {
     "name": "stdout",
     "output_type": "stream",
     "text": [
      "RP3betaRecommender: URM Detected 1482 (11.4%) users with no interactions.\n",
      "RP3betaRecommender: URM Detected 1512 ( 6.8%) items with no interactions.\n",
      "RP3betaRecommender: URM Detected 951 ( 7.3%) users with no interactions.\n",
      "RP3betaRecommender: URM Detected 602 ( 4.6%) users with no interactions.\n",
      "RP3betaRecommender: URM Detected 551 ( 2.5%) items with no interactions.\n",
      "RP3betaRecommender: URM Detected 601 ( 4.6%) users with no interactions.\n",
      "RP3betaRecommender: URM Detected 634 ( 4.9%) users with no interactions.\n",
      "RP3betaRecommender: URM Detected 231 ( 1.0%) items with no interactions.\n",
      "RP3betaRecommender: URM Detected 250 ( 1.1%) items with no interactions.\n",
      "RP3betaRecommender: URM Detected 235 ( 1.1%) items with no interactions.\n",
      "RP3betaRecommender: Similarity column 22347 (100.0%), 181.61 column/sec. Elapsed time 2.05 min\n",
      "EvaluatorHoldout: Ignoring 2539 (19.5%) Users that have less than 1 test interactions\n",
      "RP3betaRecommender: Similarity column 22347 (100.0%), 131.03 column/sec. Elapsed time 2.84 min\n",
      "EvaluatorHoldout: Ignoring 2568 (19.7%) Users that have less than 1 test interactions\n",
      "RP3betaRecommender: Similarity column 22347 (100.0%), 97.13 column/sec. Elapsed time 3.83 min\n",
      "RP3betaRecommender: Similarity column 22347 (100.0%), 96.07 column/sec. Elapsed time 3.88 min\n",
      "EvaluatorHoldout: Ignoring 2555 (19.6%) Users that have less than 1 test interactions\n",
      "RP3betaRecommender: Similarity column 22347 (100.0%), 95.36 column/sec. Elapsed time 3.91 min\n",
      "EvaluatorHoldout: Ignoring 2534 (19.5%) Users that have less than 1 test interactions\n",
      "EvaluatorHoldout: Ignoring 2552 (19.6%) Users that have less than 1 test interactions\n",
      "EvaluatorHoldout: Processed 9000 (85.8%) in 5.50 min. Users per second: 27\n",
      "EvaluatorHoldout: Processed 7000 (66.9%) in 5.35 min. Users per second: 22\n",
      "EvaluatorHoldout: Processed 10485 (100.0%) in 6.87 min. Users per second: 25\n",
      "MAP is 0.01734991408739616\n",
      "EvaluatorHoldout: Processed 6000 (57.3%) in 5.37 min. Users per second: 19\n",
      "EvaluatorHoldout: Processed 6000 (57.3%) in 5.28 min. Users per second: 19\n",
      "EvaluatorHoldout: Processed 6000 (57.2%) in 5.34 min. Users per second: 19\n",
      "EvaluatorHoldout: Processed 10456 (100.0%) in 7.88 min. Users per second: 22\n",
      "MAP is 0.022009482669629953\n",
      "EvaluatorHoldout: Processed 10469 (100.0%) in 8.05 min. Users per second: 22\n",
      "MAP is 0.027281702441221186\n",
      "EvaluatorHoldout: Processed 10472 (100.0%) in 7.96 min. Users per second: 22\n",
      "MAP is 0.026283373197763967\n",
      "EvaluatorHoldout: Processed 10490 (100.0%) in 8.00 min. Users per second: 22\n",
      "MAP is 0.027571837123791482\n"
     ]
    },
    {
     "name": "stderr",
     "output_type": "stream",
     "text": [
      "[I 2023-11-25 20:41:13,577] Trial 91 finished with value: 0.02409926190396055 and parameters: {'alpha': 2.6564913532600603, 'beta': 0.030830769242248115, 'topK': 84}. Best is trial 71 with value: 0.026971992456948108.\n"
     ]
    },
    {
     "name": "stdout",
     "output_type": "stream",
     "text": [
      "RP3betaRecommender: URM Detected 1482 (11.4%) users with no interactions.\n",
      "RP3betaRecommender: URM Detected 951 ( 7.3%) users with no interactions.\n",
      "RP3betaRecommender: URM Detected 1512 ( 6.8%) items with no interactions.\n",
      "RP3betaRecommender: URM Detected 602 ( 4.6%) users with no interactions.\n",
      "RP3betaRecommender: URM Detected 551 ( 2.5%) items with no interactions.\n",
      "RP3betaRecommender: URM Detected 601 ( 4.6%) users with no interactions.\n",
      "RP3betaRecommender: URM Detected 634 ( 4.9%) users with no interactions.\n",
      "RP3betaRecommender: URM Detected 231 ( 1.0%) items with no interactions.\n",
      "RP3betaRecommender: URM Detected 250 ( 1.1%) items with no interactions.\n",
      "RP3betaRecommender: URM Detected 235 ( 1.1%) items with no interactions.\n",
      "RP3betaRecommender: Similarity column 22347 (100.0%), 177.09 column/sec. Elapsed time 2.10 min\n",
      "EvaluatorHoldout: Ignoring 2539 (19.5%) Users that have less than 1 test interactions\n",
      "RP3betaRecommender: Similarity column 22347 (100.0%), 131.09 column/sec. Elapsed time 2.84 min\n",
      "EvaluatorHoldout: Ignoring 2568 (19.7%) Users that have less than 1 test interactions\n",
      "RP3betaRecommender: Similarity column 22347 (100.0%), 100.36 column/sec. Elapsed time 3.71 min\n",
      "EvaluatorHoldout: Ignoring 2555 (19.6%) Users that have less than 1 test interactions\n",
      "RP3betaRecommender: Similarity column 22347 (100.0%), 98.12 column/sec. Elapsed time 3.80 min\n",
      "EvaluatorHoldout: Ignoring 2552 (19.6%) Users that have less than 1 test interactions\n",
      "RP3betaRecommender: Similarity column 22347 (100.0%), 96.04 column/sec. Elapsed time 3.88 min\n",
      "EvaluatorHoldout: Ignoring 2534 (19.5%) Users that have less than 1 test interactions\n",
      "EvaluatorHoldout: Processed 9000 (85.8%) in 5.71 min. Users per second: 26\n",
      "EvaluatorHoldout: Processed 7000 (66.9%) in 5.41 min. Users per second: 22\n",
      "EvaluatorHoldout: Processed 10485 (100.0%) in 7.05 min. Users per second: 25\n",
      "MAP is 0.019405310685711313\n",
      "EvaluatorHoldout: Processed 6000 (57.3%) in 5.42 min. Users per second: 18\n",
      "EvaluatorHoldout: Processed 6000 (57.3%) in 5.38 min. Users per second: 19\n",
      "EvaluatorHoldout: Processed 6000 (57.2%) in 5.32 min. Users per second: 19\n",
      "EvaluatorHoldout: Processed 10456 (100.0%) in 7.92 min. Users per second: 22\n",
      "MAP is 0.024671928322463926\n",
      "EvaluatorHoldout: Processed 10469 (100.0%) in 8.06 min. Users per second: 22\n",
      "MAP is 0.030202870303405564\n",
      "EvaluatorHoldout: Processed 10472 (100.0%) in 7.99 min. Users per second: 22\n",
      "MAP is 0.028850608425188464\n",
      "EvaluatorHoldout: Processed 10490 (100.0%) in 7.91 min. Users per second: 22\n",
      "MAP is 0.030325037450633415\n"
     ]
    },
    {
     "name": "stderr",
     "output_type": "stream",
     "text": [
      "[I 2023-11-25 20:53:08,970] Trial 92 finished with value: 0.026691151037480536 and parameters: {'alpha': 1.9889741091636948, 'beta': 0.06129652270631881, 'topK': 89}. Best is trial 71 with value: 0.026971992456948108.\n"
     ]
    },
    {
     "name": "stdout",
     "output_type": "stream",
     "text": [
      "RP3betaRecommender: URM Detected 1482 (11.4%) users with no interactions.\n",
      "RP3betaRecommender: URM Detected 951 ( 7.3%) users with no interactions.\n",
      "RP3betaRecommender: URM Detected 602 ( 4.6%) users with no interactions.\n",
      "RP3betaRecommender: URM Detected 1512 ( 6.8%) items with no interactions.\n",
      "RP3betaRecommender: URM Detected 551 ( 2.5%) items with no interactions.\n",
      "RP3betaRecommender: URM Detected 601 ( 4.6%) users with no interactions.\n",
      "RP3betaRecommender: URM Detected 231 ( 1.0%) items with no interactions.\n",
      "RP3betaRecommender: URM Detected 634 ( 4.9%) users with no interactions.\n",
      "RP3betaRecommender: URM Detected 235 ( 1.1%) items with no interactions.\n",
      "RP3betaRecommender: URM Detected 250 ( 1.1%) items with no interactions.\n",
      "RP3betaRecommender: Similarity column 22347 (100.0%), 185.08 column/sec. Elapsed time 2.01 min\n",
      "EvaluatorHoldout: Ignoring 2539 (19.5%) Users that have less than 1 test interactions\n",
      "RP3betaRecommender: Similarity column 22347 (100.0%), 136.23 column/sec. Elapsed time 2.73 min\n",
      "EvaluatorHoldout: Ignoring 2568 (19.7%) Users that have less than 1 test interactions\n",
      "RP3betaRecommender: Similarity column 22347 (100.0%), 99.53 column/sec. Elapsed time 3.74 min\n",
      "RP3betaRecommender: Similarity column 22347 (100.0%), 99.22 column/sec. Elapsed time 3.75 min\n",
      "RP3betaRecommender: Similarity column 22347 (100.0%), 99.32 column/sec. Elapsed time 3.75 min\n",
      "EvaluatorHoldout: Ignoring 2552 (19.6%) Users that have less than 1 test interactions\n",
      "EvaluatorHoldout: Ignoring 2534 (19.5%) Users that have less than 1 test interactions\n",
      "EvaluatorHoldout: Ignoring 2555 (19.6%) Users that have less than 1 test interactions\n",
      "EvaluatorHoldout: Processed 9000 (85.8%) in 5.35 min. Users per second: 28\n",
      "EvaluatorHoldout: Processed 7000 (66.9%) in 5.15 min. Users per second: 23\n",
      "EvaluatorHoldout: Processed 10485 (100.0%) in 6.68 min. Users per second: 26\n",
      "MAP is 0.018812498580738947\n",
      "EvaluatorHoldout: Processed 6000 (57.3%) in 5.21 min. Users per second: 19\n",
      "EvaluatorHoldout: Processed 6000 (57.3%) in 5.22 min. Users per second: 19\n",
      "EvaluatorHoldout: Processed 6000 (57.2%) in 5.24 min. Users per second: 19\n",
      "EvaluatorHoldout: Processed 10456 (100.0%) in 7.71 min. Users per second: 23\n",
      "MAP is 0.023925979311643177\n",
      "EvaluatorHoldout: Processed 10472 (100.0%) in 7.86 min. Users per second: 22\n",
      "MAP is 0.02927799149963029\n",
      "EvaluatorHoldout: Processed 10469 (100.0%) in 7.84 min. Users per second: 22\n",
      "MAP is 0.030424802932922455\n",
      "EvaluatorHoldout: Processed 10490 (100.0%) in 7.86 min. Users per second: 22\n",
      "MAP is 0.030092480366789444\n"
     ]
    },
    {
     "name": "stderr",
     "output_type": "stream",
     "text": [
      "[I 2023-11-25 21:04:53,865] Trial 93 finished with value: 0.026506750538344864 and parameters: {'alpha': 1.9582207536265352, 'beta': 0.03562050336286896, 'topK': 62}. Best is trial 71 with value: 0.026971992456948108.\n"
     ]
    },
    {
     "name": "stdout",
     "output_type": "stream",
     "text": [
      "RP3betaRecommender: URM Detected 1482 (11.4%) users with no interactions.\n",
      "RP3betaRecommender: URM Detected 1512 ( 6.8%) items with no interactions.\n",
      "RP3betaRecommender: URM Detected 951 ( 7.3%) users with no interactions.\n",
      "RP3betaRecommender: URM Detected 602 ( 4.6%) users with no interactions.\n",
      "RP3betaRecommender: URM Detected 634 ( 4.9%) users with no interactions.\n",
      "RP3betaRecommender: URM Detected 601 ( 4.6%) users with no interactions.\n",
      "RP3betaRecommender: URM Detected 551 ( 2.5%) items with no interactions.\n",
      "RP3betaRecommender: URM Detected 231 ( 1.0%) items with no interactions.\n",
      "RP3betaRecommender: URM Detected 250 ( 1.1%) items with no interactions.\n",
      "RP3betaRecommender: URM Detected 235 ( 1.1%) items with no interactions.\n",
      "RP3betaRecommender: Similarity column 22347 (100.0%), 177.51 column/sec. Elapsed time 2.10 min\n",
      "EvaluatorHoldout: Ignoring 2539 (19.5%) Users that have less than 1 test interactions\n",
      "RP3betaRecommender: Similarity column 22347 (100.0%), 127.67 column/sec. Elapsed time 2.92 min\n",
      "EvaluatorHoldout: Ignoring 2568 (19.7%) Users that have less than 1 test interactions\n",
      "RP3betaRecommender: Similarity column 22347 (100.0%), 97.38 column/sec. Elapsed time 3.82 min\n",
      "RP3betaRecommender: Similarity column 22347 (100.0%), 97.12 column/sec. Elapsed time 3.83 min\n",
      "EvaluatorHoldout: Ignoring 2552 (19.6%) Users that have less than 1 test interactions\n",
      "EvaluatorHoldout: Ignoring 2555 (19.6%) Users that have less than 1 test interactions\n",
      "RP3betaRecommender: Similarity column 22347 (100.0%), 95.21 column/sec. Elapsed time 3.91 min\n",
      "EvaluatorHoldout: Ignoring 2534 (19.5%) Users that have less than 1 test interactions\n",
      "EvaluatorHoldout: Processed 9000 (85.8%) in 5.38 min. Users per second: 28\n",
      "EvaluatorHoldout: Processed 7000 (66.9%) in 5.29 min. Users per second: 22\n",
      "EvaluatorHoldout: Processed 10485 (100.0%) in 6.64 min. Users per second: 26\n",
      "MAP is 0.020883420002876397\n",
      "EvaluatorHoldout: Processed 6000 (57.3%) in 5.14 min. Users per second: 19\n",
      "EvaluatorHoldout: Processed 6000 (57.3%) in 5.12 min. Users per second: 20\n",
      "EvaluatorHoldout: Processed 6000 (57.2%) in 5.09 min. Users per second: 20\n",
      "EvaluatorHoldout: Processed 10456 (100.0%) in 7.71 min. Users per second: 23\n",
      "MAP is 0.024327666350906628\n",
      "EvaluatorHoldout: Processed 10469 (100.0%) in 7.74 min. Users per second: 23\n",
      "MAP is 0.028835007209493946\n",
      "EvaluatorHoldout: Processed 10472 (100.0%) in 7.78 min. Users per second: 22\n",
      "MAP is 0.02707371963937119\n",
      "EvaluatorHoldout: Processed 10490 (100.0%) in 7.70 min. Users per second: 23\n",
      "MAP is 0.028636452706281304\n"
     ]
    },
    {
     "name": "stderr",
     "output_type": "stream",
     "text": [
      "[I 2023-11-25 21:16:38,530] Trial 94 finished with value: 0.025951253181785892 and parameters: {'alpha': 1.420619597156368, 'beta': 0.01606368313095441, 'topK': 110}. Best is trial 71 with value: 0.026971992456948108.\n"
     ]
    },
    {
     "name": "stdout",
     "output_type": "stream",
     "text": [
      "RP3betaRecommender: URM Detected 1482 (11.4%) users with no interactions.\n",
      "RP3betaRecommender: URM Detected 1512 ( 6.8%) items with no interactions.\n",
      "RP3betaRecommender: URM Detected 951 ( 7.3%) users with no interactions.\n",
      "RP3betaRecommender: URM Detected 601 ( 4.6%) users with no interactions.\n",
      "RP3betaRecommender: URM Detected 551 ( 2.5%) items with no interactions.\n",
      "RP3betaRecommender: URM Detected 602 ( 4.6%) users with no interactions.\n",
      "RP3betaRecommender: URM Detected 634 ( 4.9%) users with no interactions.\n",
      "RP3betaRecommender: URM Detected 235 ( 1.1%) items with no interactions.\n",
      "RP3betaRecommender: URM Detected 231 ( 1.0%) items with no interactions.\n",
      "RP3betaRecommender: URM Detected 250 ( 1.1%) items with no interactions.\n",
      "RP3betaRecommender: Similarity column 22347 (100.0%), 179.87 column/sec. Elapsed time 2.07 min\n",
      "EvaluatorHoldout: Ignoring 2539 (19.5%) Users that have less than 1 test interactions\n",
      "RP3betaRecommender: Similarity column 22347 (100.0%), 131.95 column/sec. Elapsed time 2.82 min\n",
      "EvaluatorHoldout: Ignoring 2568 (19.7%) Users that have less than 1 test interactions\n",
      "RP3betaRecommender: Similarity column 22347 (100.0%), 99.66 column/sec. Elapsed time 3.74 min\n",
      "RP3betaRecommender: Similarity column 22347 (100.0%), 99.21 column/sec. Elapsed time 3.75 min\n",
      "EvaluatorHoldout: Ignoring 2552 (19.6%) Users that have less than 1 test interactions\n",
      "EvaluatorHoldout: Ignoring 2534 (19.5%) Users that have less than 1 test interactions\n",
      "RP3betaRecommender: Similarity column 22347 (100.0%), 97.76 column/sec. Elapsed time 3.81 min\n",
      "EvaluatorHoldout: Ignoring 2555 (19.6%) Users that have less than 1 test interactions\n",
      "EvaluatorHoldout: Processed 9000 (85.8%) in 5.18 min. Users per second: 29\n",
      "EvaluatorHoldout: Processed 7000 (66.9%) in 5.15 min. Users per second: 23\n",
      "EvaluatorHoldout: Processed 10485 (100.0%) in 6.40 min. Users per second: 27\n",
      "MAP is 0.021078596786036043\n",
      "EvaluatorHoldout: Processed 7000 (66.9%) in 5.54 min. Users per second: 21\n",
      "EvaluatorHoldout: Processed 7000 (66.7%) in 5.59 min. Users per second: 21\n",
      "EvaluatorHoldout: Processed 7000 (66.8%) in 5.63 min. Users per second: 21\n",
      "EvaluatorHoldout: Processed 10456 (100.0%) in 7.54 min. Users per second: 23\n",
      "MAP is 0.02447966383697068\n",
      "EvaluatorHoldout: Processed 10472 (100.0%) in 7.57 min. Users per second: 23\n",
      "MAP is 0.02779011225702423\n",
      "EvaluatorHoldout: Processed 10469 (100.0%) in 7.50 min. Users per second: 23\n",
      "MAP is 0.02924288564727024\n",
      "EvaluatorHoldout: Processed 10490 (100.0%) in 7.54 min. Users per second: 23\n",
      "MAP is 0.028731913992162014\n"
     ]
    },
    {
     "name": "stderr",
     "output_type": "stream",
     "text": [
      "[I 2023-11-25 21:28:03,398] Trial 95 finished with value: 0.02626463450389264 and parameters: {'alpha': 1.177957469480539, 'beta': 0.02114694495711887, 'topK': 78}. Best is trial 71 with value: 0.026971992456948108.\n"
     ]
    },
    {
     "name": "stdout",
     "output_type": "stream",
     "text": [
      "RP3betaRecommender: URM Detected 1482 (11.4%) users with no interactions.\n",
      "RP3betaRecommender: URM Detected 951 ( 7.3%) users with no interactions.\n",
      "RP3betaRecommender: URM Detected 1512 ( 6.8%) items with no interactions.\n",
      "RP3betaRecommender: URM Detected 601 ( 4.6%) users with no interactions.\n",
      "RP3betaRecommender: URM Detected 634 ( 4.9%) users with no interactions.\n",
      "RP3betaRecommender: URM Detected 602 ( 4.6%) users with no interactions.\n",
      "RP3betaRecommender: URM Detected 551 ( 2.5%) items with no interactions.\n",
      "RP3betaRecommender: URM Detected 250 ( 1.1%) items with no interactions.\n",
      "RP3betaRecommender: URM Detected 235 ( 1.1%) items with no interactions.\n",
      "RP3betaRecommender: URM Detected 231 ( 1.0%) items with no interactions.\n",
      "RP3betaRecommender: Similarity column 22347 (100.0%), 168.48 column/sec. Elapsed time 2.21 min\n",
      "EvaluatorHoldout: Ignoring 2539 (19.5%) Users that have less than 1 test interactions\n",
      "RP3betaRecommender: Similarity column 22347 (100.0%), 123.41 column/sec. Elapsed time 3.02 min\n",
      "EvaluatorHoldout: Ignoring 2568 (19.7%) Users that have less than 1 test interactions\n",
      "RP3betaRecommender: Similarity column 22347 (100.0%), 95.16 column/sec. Elapsed time 3.91 min\n",
      "RP3betaRecommender: Similarity column 22347 (100.0%), 94.64 column/sec. Elapsed time 3.94 min\n",
      "RP3betaRecommender: Similarity column 22347 (100.0%), 94.44 column/sec. Elapsed time 3.94 min\n",
      "EvaluatorHoldout: Ignoring 2552 (19.6%) Users that have less than 1 test interactions\n",
      "EvaluatorHoldout: Ignoring 2534 (19.5%) Users that have less than 1 test interactions\n",
      "EvaluatorHoldout: Ignoring 2555 (19.6%) Users that have less than 1 test interactions\n",
      "EvaluatorHoldout: Processed 9000 (85.8%) in 5.87 min. Users per second: 26\n",
      "EvaluatorHoldout: Processed 7000 (66.9%) in 5.38 min. Users per second: 22\n",
      "EvaluatorHoldout: Processed 6000 (57.3%) in 5.27 min. Users per second: 19\n",
      "EvaluatorHoldout: Processed 6000 (57.3%) in 5.35 min. Users per second: 19\n",
      "EvaluatorHoldout: Processed 6000 (57.2%) in 5.30 min. Users per second: 19\n",
      "EvaluatorHoldout: Processed 10485 (100.0%) in 7.19 min. Users per second: 24\n",
      "MAP is 0.020523953342265307\n",
      "EvaluatorHoldout: Processed 10456 (100.0%) in 7.96 min. Users per second: 22\n",
      "MAP is 0.024341833806973495\n",
      "EvaluatorHoldout: Processed 10469 (100.0%) in 7.94 min. Users per second: 22\n",
      "MAP is 0.028309081839505163\n",
      "EvaluatorHoldout: Processed 10472 (100.0%) in 8.02 min. Users per second: 22\n",
      "MAP is 0.02697599873282667\n",
      "EvaluatorHoldout: Processed 10490 (100.0%) in 7.96 min. Users per second: 22\n",
      "MAP is 0.028400702861379894\n"
     ]
    },
    {
     "name": "stderr",
     "output_type": "stream",
     "text": [
      "[I 2023-11-25 21:40:08,588] Trial 96 finished with value: 0.025710314116590104 and parameters: {'alpha': 1.652907417594738, 'beta': 0.0434575123630967, 'topK': 137}. Best is trial 71 with value: 0.026971992456948108.\n"
     ]
    },
    {
     "name": "stdout",
     "output_type": "stream",
     "text": [
      "RP3betaRecommender: URM Detected 1482 (11.4%) users with no interactions.\n",
      "RP3betaRecommender: URM Detected 951 ( 7.3%) users with no interactions.\n",
      "RP3betaRecommender: URM Detected 1512 ( 6.8%) items with no interactions.\n",
      "RP3betaRecommender: URM Detected 601 ( 4.6%) users with no interactions.\n",
      "RP3betaRecommender: URM Detected 634 ( 4.9%) users with no interactions.\n",
      "RP3betaRecommender: URM Detected 602 ( 4.6%) users with no interactions.\n",
      "RP3betaRecommender: URM Detected 235 ( 1.1%) items with no interactions.\n",
      "RP3betaRecommender: URM Detected 551 ( 2.5%) items with no interactions.\n",
      "RP3betaRecommender: URM Detected 250 ( 1.1%) items with no interactions.\n",
      "RP3betaRecommender: URM Detected 231 ( 1.0%) items with no interactions.\n",
      "RP3betaRecommender: Similarity column 22347 (100.0%), 174.49 column/sec. Elapsed time 2.13 min\n",
      "EvaluatorHoldout: Ignoring 2539 (19.5%) Users that have less than 1 test interactions\n",
      "RP3betaRecommender: Similarity column 22347 (100.0%), 130.01 column/sec. Elapsed time 2.86 min\n",
      "EvaluatorHoldout: Ignoring 2568 (19.7%) Users that have less than 1 test interactions\n",
      "RP3betaRecommender: Similarity column 22347 (100.0%), 98.43 column/sec. Elapsed time 3.78 min\n",
      "RP3betaRecommender: Similarity column 22347 (100.0%), 97.79 column/sec. Elapsed time 3.81 min\n",
      "EvaluatorHoldout: Ignoring 2555 (19.6%) Users that have less than 1 test interactions\n",
      "EvaluatorHoldout: Ignoring 2552 (19.6%) Users that have less than 1 test interactions\n",
      "RP3betaRecommender: Similarity column 22347 (100.0%), 94.95 column/sec. Elapsed time 3.92 min\n",
      "EvaluatorHoldout: Ignoring 2534 (19.5%) Users that have less than 1 test interactions\n",
      "EvaluatorHoldout: Processed 8000 (76.3%) in 5.03 min. Users per second: 27\n",
      "EvaluatorHoldout: Processed 7000 (66.9%) in 5.42 min. Users per second: 22\n",
      "EvaluatorHoldout: Processed 6000 (57.3%) in 5.41 min. Users per second: 18\n",
      "EvaluatorHoldout: Processed 6000 (57.3%) in 5.38 min. Users per second: 19\n",
      "EvaluatorHoldout: Processed 10485 (100.0%) in 7.28 min. Users per second: 24\n",
      "MAP is 0.01857855136968154\n",
      "EvaluatorHoldout: Processed 6000 (57.2%) in 5.46 min. Users per second: 18\n",
      "EvaluatorHoldout: Processed 10456 (100.0%) in 8.10 min. Users per second: 22\n",
      "MAP is 0.023730500297543186\n",
      "EvaluatorHoldout: Processed 10469 (100.0%) in 8.19 min. Users per second: 21\n",
      "MAP is 0.02943128010589114\n",
      "EvaluatorHoldout: Processed 10472 (100.0%) in 8.15 min. Users per second: 21\n",
      "MAP is 0.02797138552390676\n",
      "EvaluatorHoldout: Processed 10490 (100.0%) in 8.08 min. Users per second: 22\n",
      "MAP is 0.02938476553633868\n"
     ]
    },
    {
     "name": "stderr",
     "output_type": "stream",
     "text": [
      "[I 2023-11-25 21:52:16,997] Trial 97 finished with value: 0.025819296566672263 and parameters: {'alpha': 2.3506573267800626, 'beta': 0.028500893122364312, 'topK': 93}. Best is trial 71 with value: 0.026971992456948108.\n"
     ]
    },
    {
     "name": "stdout",
     "output_type": "stream",
     "text": [
      "RP3betaRecommender: URM Detected 951 ( 7.3%) users with no interactions.\n",
      "RP3betaRecommender: URM Detected 1482 (11.4%) users with no interactions.\n",
      "RP3betaRecommender: URM Detected 602 ( 4.6%) users with no interactions.\n",
      "RP3betaRecommender: URM Detected 634 ( 4.9%) users with no interactions.\n",
      "RP3betaRecommender: URM Detected 551 ( 2.5%) items with no interactions.\n",
      "RP3betaRecommender: URM Detected 601 ( 4.6%) users with no interactions.\n",
      "RP3betaRecommender: URM Detected 1512 ( 6.8%) items with no interactions.\n",
      "RP3betaRecommender: URM Detected 231 ( 1.0%) items with no interactions.\n",
      "RP3betaRecommender: URM Detected 250 ( 1.1%) items with no interactions.\n",
      "RP3betaRecommender: URM Detected 235 ( 1.1%) items with no interactions.\n",
      "RP3betaRecommender: Similarity column 22347 (100.0%), 183.80 column/sec. Elapsed time 2.03 min\n",
      "EvaluatorHoldout: Ignoring 2539 (19.5%) Users that have less than 1 test interactions\n",
      "RP3betaRecommender: Similarity column 22347 (100.0%), 135.50 column/sec. Elapsed time 2.75 min\n",
      "EvaluatorHoldout: Ignoring 2568 (19.7%) Users that have less than 1 test interactions\n",
      "RP3betaRecommender: Similarity column 22347 (100.0%), 98.63 column/sec. Elapsed time 3.78 min\n",
      "RP3betaRecommender: Similarity column 22347 (100.0%), 98.09 column/sec. Elapsed time 3.80 min\n",
      "EvaluatorHoldout: Ignoring 2555 (19.6%) Users that have less than 1 test interactions\n",
      "RP3betaRecommender: Similarity column 22347 (100.0%), 97.51 column/sec. Elapsed time 3.82 min\n",
      "EvaluatorHoldout: Ignoring 2552 (19.6%) Users that have less than 1 test interactions\n",
      "EvaluatorHoldout: Ignoring 2534 (19.5%) Users that have less than 1 test interactions\n",
      "EvaluatorHoldout: Processed 9000 (85.8%) in 5.19 min. Users per second: 29\n",
      "EvaluatorHoldout: Processed 7000 (66.9%) in 5.21 min. Users per second: 22\n",
      "EvaluatorHoldout: Processed 10485 (100.0%) in 6.54 min. Users per second: 27\n",
      "MAP is 0.02060761783651631\n",
      "EvaluatorHoldout: Processed 6000 (57.3%) in 5.27 min. Users per second: 19\n",
      "EvaluatorHoldout: Processed 6000 (57.2%) in 5.23 min. Users per second: 19\n",
      "EvaluatorHoldout: Processed 6000 (57.3%) in 5.25 min. Users per second: 19\n",
      "EvaluatorHoldout: Processed 10456 (100.0%) in 7.74 min. Users per second: 23\n",
      "MAP is 0.02349663669982152\n",
      "EvaluatorHoldout: Processed 10472 (100.0%) in 7.84 min. Users per second: 22\n",
      "MAP is 0.026957593643518137\n",
      "EvaluatorHoldout: Processed 10469 (100.0%) in 7.87 min. Users per second: 22\n",
      "MAP is 0.028355143757761207\n",
      "EvaluatorHoldout: Processed 10490 (100.0%) in 7.82 min. Users per second: 22\n",
      "MAP is 0.02782380044486825\n"
     ]
    },
    {
     "name": "stderr",
     "output_type": "stream",
     "text": [
      "[I 2023-11-25 22:04:02,300] Trial 98 finished with value: 0.025448158476497083 and parameters: {'alpha': 0.8454143895305376, 'beta': 0.08572851447862916, 'topK': 63}. Best is trial 71 with value: 0.026971992456948108.\n"
     ]
    },
    {
     "name": "stdout",
     "output_type": "stream",
     "text": [
      "RP3betaRecommender: URM Detected 1482 (11.4%) users with no interactions.\n",
      "RP3betaRecommender: URM Detected 951 ( 7.3%) users with no interactions.\n",
      "RP3betaRecommender: URM Detected 1512 ( 6.8%) items with no interactions.\n",
      "RP3betaRecommender: URM Detected 551 ( 2.5%) items with no interactions.\n",
      "RP3betaRecommender: URM Detected 602 ( 4.6%) users with no interactions.\n",
      "RP3betaRecommender: URM Detected 634 ( 4.9%) users with no interactions.\n",
      "RP3betaRecommender: URM Detected 601 ( 4.6%) users with no interactions.\n",
      "RP3betaRecommender: URM Detected 250 ( 1.1%) items with no interactions.\n",
      "RP3betaRecommender: URM Detected 231 ( 1.0%) items with no interactions.\n",
      "RP3betaRecommender: URM Detected 235 ( 1.1%) items with no interactions.\n",
      "RP3betaRecommender: Similarity column 22347 (100.0%), 186.16 column/sec. Elapsed time 2.00 min\n",
      "EvaluatorHoldout: Ignoring 2539 (19.5%) Users that have less than 1 test interactions\n",
      "RP3betaRecommender: Similarity column 22347 (100.0%), 130.20 column/sec. Elapsed time 2.86 min\n",
      "EvaluatorHoldout: Ignoring 2568 (19.7%) Users that have less than 1 test interactions\n",
      "RP3betaRecommender: Similarity column 22347 (100.0%), 104.33 column/sec. Elapsed time 3.57 min\n",
      "RP3betaRecommender: Similarity column 22347 (100.0%), 104.23 column/sec. Elapsed time 3.57 min\n",
      "EvaluatorHoldout: Ignoring 2552 (19.6%) Users that have less than 1 test interactions\n",
      "EvaluatorHoldout: Ignoring 2555 (19.6%) Users that have less than 1 test interactions\n",
      "RP3betaRecommender: Similarity column 22347 (100.0%), 99.19 column/sec. Elapsed time 3.75 min\n",
      "EvaluatorHoldout: Ignoring 2534 (19.5%) Users that have less than 1 test interactions\n",
      "EvaluatorHoldout: Processed 9000 (85.8%) in 5.41 min. Users per second: 28\n",
      "EvaluatorHoldout: Processed 7000 (66.9%) in 5.74 min. Users per second: 20\n",
      "EvaluatorHoldout: Processed 10485 (100.0%) in 6.78 min. Users per second: 26\n",
      "MAP is 0.013104998826744126\n",
      "EvaluatorHoldout: Processed 6000 (57.3%) in 5.38 min. Users per second: 19\n",
      "EvaluatorHoldout: Processed 6000 (57.3%) in 5.39 min. Users per second: 19\n",
      "EvaluatorHoldout: Processed 6000 (57.2%) in 5.38 min. Users per second: 19\n",
      "EvaluatorHoldout: Processed 10456 (100.0%) in 8.29 min. Users per second: 21\n",
      "MAP is 0.016768374048165523\n",
      "EvaluatorHoldout: Processed 10472 (100.0%) in 8.25 min. Users per second: 21\n",
      "MAP is 0.020664258127493486\n",
      "EvaluatorHoldout: Processed 10469 (100.0%) in 8.26 min. Users per second: 21\n",
      "MAP is 0.021326497580915448\n",
      "EvaluatorHoldout: Processed 10490 (100.0%) in 8.12 min. Users per second: 22\n",
      "MAP is 0.02053627415376706\n"
     ]
    },
    {
     "name": "stderr",
     "output_type": "stream",
     "text": [
      "[I 2023-11-25 22:16:02,286] Trial 99 finished with value: 0.01848008054741713 and parameters: {'alpha': 3.2458994659416227, 'beta': 0.05829268672022847, 'topK': 53}. Best is trial 71 with value: 0.026971992456948108.\n"
     ]
    }
   ],
   "source": [
    "if config['tune_hybrid']:\n",
    "    study = optuna.create_study(direction='maximize', study_name='hyperparameters_tuning_stag2_rp3', \n",
    "                                storage=f'sqlite:///{config[\"database_path\"]}', load_if_exists=True)\n",
    "    study.optimize(objective_item_knn, n_trials=20)"
   ]
  },
  {
   "cell_type": "code",
   "execution_count": 34,
   "id": "423ed3c9",
   "metadata": {
    "execution": {
     "iopub.execute_input": "2023-11-25T22:16:02.460402Z",
     "iopub.status.busy": "2023-11-25T22:16:02.459858Z",
     "iopub.status.idle": "2023-11-25T22:16:03.354219Z",
     "shell.execute_reply": "2023-11-25T22:16:03.352539Z"
    },
    "papermill": {
     "duration": 0.981294,
     "end_time": "2023-11-25T22:16:03.357177",
     "exception": false,
     "start_time": "2023-11-25T22:16:02.375883",
     "status": "completed"
    },
    "tags": []
   },
   "outputs": [
    {
     "data": {
      "text/html": [
       "        <script type=\"text/javascript\">\n",
       "        window.PlotlyConfig = {MathJaxConfig: 'local'};\n",
       "        if (window.MathJax && window.MathJax.Hub && window.MathJax.Hub.Config) {window.MathJax.Hub.Config({SVG: {font: \"STIX-Web\"}});}\n",
       "        if (typeof require !== 'undefined') {\n",
       "        require.undef(\"plotly\");\n",
       "        requirejs.config({\n",
       "            paths: {\n",
       "                'plotly': ['https://cdn.plot.ly/plotly-2.25.2.min']\n",
       "            }\n",
       "        });\n",
       "        require(['plotly'], function(Plotly) {\n",
       "            window._Plotly = Plotly;\n",
       "        });\n",
       "        }\n",
       "        </script>\n",
       "        "
      ]
     },
     "metadata": {},
     "output_type": "display_data"
    },
    {
     "data": {
      "text/html": [
       "<div>                            <div id=\"223d3240-3dbc-4050-8aff-950d8bf9e6f5\" class=\"plotly-graph-div\" style=\"height:525px; width:100%;\"></div>            <script type=\"text/javascript\">                require([\"plotly\"], function(Plotly) {                    window.PLOTLYENV=window.PLOTLYENV || {};                                    if (document.getElementById(\"223d3240-3dbc-4050-8aff-950d8bf9e6f5\")) {                    Plotly.newPlot(                        \"223d3240-3dbc-4050-8aff-950d8bf9e6f5\",                        [{\"mode\":\"markers\",\"name\":\"Objective Value\",\"x\":[0,1,2,3,4,5,6,7,8,9,10,11,12,13,14,15,16,17,18,19,20,21,22,23,24,25,26,27,28,29,30,31,32,33,34,35,36,37,38,39,40,41,42,43,44,45,46,47,48,49,50,51,52,53,54,55,56,57,58,59,60,61,62,63,64,65,66,67,68,69,70,71,72,73,74,75,76,77,78,79,80,81,82,83,84,85,86,87,88,89,90,91,92,93,94,95,96,97,98,99],\"y\":[0.023229795498854868,0.0015699140421317006,0.0192695583537155,0.01734331734550899,0.0005531901539856642,0.0012999860771192144,0.019533407191095913,0.019003510548570277,0.017553090955915195,0.02097827108381267,0.011743798750586561,0.01946871599924018,0.009381012784892617,0.017951076311156396,0.0001069744796315122,0.02203208893752385,0.02390904223420983,0.02002190186845353,0.01098668584414791,0.008965879292099748,0.02003484559152613,0.02109479540765396,0.022205981312635247,0.02367455171589989,0.013318757407102744,0.022911323778115576,0.021605864714240034,0.010914643744657247,0.0108867894692341,0.00541600066813707,0.024131362672510828,0.02529746968754869,0.02589070322951721,0.025931768854733528,0.026230814710901253,0.025654916536138044,0.022609747729973893,0.026357928893930717,0.022459209002120194,0.025676183109374313,0.024070407868607983,0.02576999582190865,0.0257403806711978,0.026760211604799106,0.02683399339464134,0.02691649729307194,0.023706725400253308,0.02353530482835474,0.02691668664189979,0.02621422582173431,0.015175715691275706,0.026635449116700443,0.02685740793279639,0.026784428963760258,0.02382158432113129,0.018213680991470475,0.026680649109178278,0.01185659789550977,0.023228638082799496,0.022373490366064445,0.02518129100213442,0.026513475581709845,0.01617480402523858,0.026864530134398,0.026954990488522217,0.02622898018184011,0.02660579203404915,0.023422362196882495,0.0258166115101377,0.0234268917470058,0.02447773572079217,0.026971992456948108,0.02624093402201554,0.02595342918637212,0.026334561937577987,0.022845500051762443,0.02303594455108545,0.02696193170482102,0.022435312198581248,0.026900663256874707,0.02670255265274727,0.026704796215299163,0.025632056344126092,0.026412836244589344,0.025936657337993597,0.017355173418294817,0.02635351115437933,0.025576217873456562,0.02619275670700364,0.02656409383978159,0.026345989215833105,0.02409926190396055,0.026691151037480536,0.026506750538344864,0.025951253181785892,0.02626463450389264,0.025710314116590104,0.025819296566672263,0.025448158476497083,0.01848008054741713],\"type\":\"scatter\"},{\"mode\":\"lines\",\"name\":\"Best Value\",\"x\":[0,1,2,3,4,5,6,7,8,9,10,11,12,13,14,15,16,17,18,19,20,21,22,23,24,25,26,27,28,29,30,31,32,33,34,35,36,37,38,39,40,41,42,43,44,45,46,47,48,49,50,51,52,53,54,55,56,57,58,59,60,61,62,63,64,65,66,67,68,69,70,71,72,73,74,75,76,77,78,79,80,81,82,83,84,85,86,87,88,89,90,91,92,93,94,95,96,97,98,99],\"y\":[0.023229795498854868,0.023229795498854868,0.023229795498854868,0.023229795498854868,0.023229795498854868,0.023229795498854868,0.023229795498854868,0.023229795498854868,0.023229795498854868,0.023229795498854868,0.023229795498854868,0.023229795498854868,0.023229795498854868,0.023229795498854868,0.023229795498854868,0.023229795498854868,0.02390904223420983,0.02390904223420983,0.02390904223420983,0.02390904223420983,0.02390904223420983,0.02390904223420983,0.02390904223420983,0.02390904223420983,0.02390904223420983,0.02390904223420983,0.02390904223420983,0.02390904223420983,0.02390904223420983,0.02390904223420983,0.024131362672510828,0.02529746968754869,0.02589070322951721,0.025931768854733528,0.026230814710901253,0.026230814710901253,0.026230814710901253,0.026357928893930717,0.026357928893930717,0.026357928893930717,0.026357928893930717,0.026357928893930717,0.026357928893930717,0.026760211604799106,0.02683399339464134,0.02691649729307194,0.02691649729307194,0.02691649729307194,0.02691668664189979,0.02691668664189979,0.02691668664189979,0.02691668664189979,0.02691668664189979,0.02691668664189979,0.02691668664189979,0.02691668664189979,0.02691668664189979,0.02691668664189979,0.02691668664189979,0.02691668664189979,0.02691668664189979,0.02691668664189979,0.02691668664189979,0.02691668664189979,0.026954990488522217,0.026954990488522217,0.026954990488522217,0.026954990488522217,0.026954990488522217,0.026954990488522217,0.026954990488522217,0.026971992456948108,0.026971992456948108,0.026971992456948108,0.026971992456948108,0.026971992456948108,0.026971992456948108,0.026971992456948108,0.026971992456948108,0.026971992456948108,0.026971992456948108,0.026971992456948108,0.026971992456948108,0.026971992456948108,0.026971992456948108,0.026971992456948108,0.026971992456948108,0.026971992456948108,0.026971992456948108,0.026971992456948108,0.026971992456948108,0.026971992456948108,0.026971992456948108,0.026971992456948108,0.026971992456948108,0.026971992456948108,0.026971992456948108,0.026971992456948108,0.026971992456948108,0.026971992456948108],\"type\":\"scatter\"},{\"marker\":{\"color\":\"#cccccc\"},\"mode\":\"markers\",\"name\":\"Infeasible Trial\",\"showlegend\":false,\"x\":[],\"y\":[],\"type\":\"scatter\"}],                        {\"title\":{\"text\":\"Optimization History Plot\"},\"xaxis\":{\"title\":{\"text\":\"Trial\"}},\"yaxis\":{\"title\":{\"text\":\"Objective Value\"}},\"template\":{\"data\":{\"histogram2dcontour\":[{\"type\":\"histogram2dcontour\",\"colorbar\":{\"outlinewidth\":0,\"ticks\":\"\"},\"colorscale\":[[0.0,\"#0d0887\"],[0.1111111111111111,\"#46039f\"],[0.2222222222222222,\"#7201a8\"],[0.3333333333333333,\"#9c179e\"],[0.4444444444444444,\"#bd3786\"],[0.5555555555555556,\"#d8576b\"],[0.6666666666666666,\"#ed7953\"],[0.7777777777777778,\"#fb9f3a\"],[0.8888888888888888,\"#fdca26\"],[1.0,\"#f0f921\"]]}],\"choropleth\":[{\"type\":\"choropleth\",\"colorbar\":{\"outlinewidth\":0,\"ticks\":\"\"}}],\"histogram2d\":[{\"type\":\"histogram2d\",\"colorbar\":{\"outlinewidth\":0,\"ticks\":\"\"},\"colorscale\":[[0.0,\"#0d0887\"],[0.1111111111111111,\"#46039f\"],[0.2222222222222222,\"#7201a8\"],[0.3333333333333333,\"#9c179e\"],[0.4444444444444444,\"#bd3786\"],[0.5555555555555556,\"#d8576b\"],[0.6666666666666666,\"#ed7953\"],[0.7777777777777778,\"#fb9f3a\"],[0.8888888888888888,\"#fdca26\"],[1.0,\"#f0f921\"]]}],\"heatmap\":[{\"type\":\"heatmap\",\"colorbar\":{\"outlinewidth\":0,\"ticks\":\"\"},\"colorscale\":[[0.0,\"#0d0887\"],[0.1111111111111111,\"#46039f\"],[0.2222222222222222,\"#7201a8\"],[0.3333333333333333,\"#9c179e\"],[0.4444444444444444,\"#bd3786\"],[0.5555555555555556,\"#d8576b\"],[0.6666666666666666,\"#ed7953\"],[0.7777777777777778,\"#fb9f3a\"],[0.8888888888888888,\"#fdca26\"],[1.0,\"#f0f921\"]]}],\"heatmapgl\":[{\"type\":\"heatmapgl\",\"colorbar\":{\"outlinewidth\":0,\"ticks\":\"\"},\"colorscale\":[[0.0,\"#0d0887\"],[0.1111111111111111,\"#46039f\"],[0.2222222222222222,\"#7201a8\"],[0.3333333333333333,\"#9c179e\"],[0.4444444444444444,\"#bd3786\"],[0.5555555555555556,\"#d8576b\"],[0.6666666666666666,\"#ed7953\"],[0.7777777777777778,\"#fb9f3a\"],[0.8888888888888888,\"#fdca26\"],[1.0,\"#f0f921\"]]}],\"contourcarpet\":[{\"type\":\"contourcarpet\",\"colorbar\":{\"outlinewidth\":0,\"ticks\":\"\"}}],\"contour\":[{\"type\":\"contour\",\"colorbar\":{\"outlinewidth\":0,\"ticks\":\"\"},\"colorscale\":[[0.0,\"#0d0887\"],[0.1111111111111111,\"#46039f\"],[0.2222222222222222,\"#7201a8\"],[0.3333333333333333,\"#9c179e\"],[0.4444444444444444,\"#bd3786\"],[0.5555555555555556,\"#d8576b\"],[0.6666666666666666,\"#ed7953\"],[0.7777777777777778,\"#fb9f3a\"],[0.8888888888888888,\"#fdca26\"],[1.0,\"#f0f921\"]]}],\"surface\":[{\"type\":\"surface\",\"colorbar\":{\"outlinewidth\":0,\"ticks\":\"\"},\"colorscale\":[[0.0,\"#0d0887\"],[0.1111111111111111,\"#46039f\"],[0.2222222222222222,\"#7201a8\"],[0.3333333333333333,\"#9c179e\"],[0.4444444444444444,\"#bd3786\"],[0.5555555555555556,\"#d8576b\"],[0.6666666666666666,\"#ed7953\"],[0.7777777777777778,\"#fb9f3a\"],[0.8888888888888888,\"#fdca26\"],[1.0,\"#f0f921\"]]}],\"mesh3d\":[{\"type\":\"mesh3d\",\"colorbar\":{\"outlinewidth\":0,\"ticks\":\"\"}}],\"scatter\":[{\"fillpattern\":{\"fillmode\":\"overlay\",\"size\":10,\"solidity\":0.2},\"type\":\"scatter\"}],\"parcoords\":[{\"type\":\"parcoords\",\"line\":{\"colorbar\":{\"outlinewidth\":0,\"ticks\":\"\"}}}],\"scatterpolargl\":[{\"type\":\"scatterpolargl\",\"marker\":{\"colorbar\":{\"outlinewidth\":0,\"ticks\":\"\"}}}],\"bar\":[{\"error_x\":{\"color\":\"#2a3f5f\"},\"error_y\":{\"color\":\"#2a3f5f\"},\"marker\":{\"line\":{\"color\":\"#E5ECF6\",\"width\":0.5},\"pattern\":{\"fillmode\":\"overlay\",\"size\":10,\"solidity\":0.2}},\"type\":\"bar\"}],\"scattergeo\":[{\"type\":\"scattergeo\",\"marker\":{\"colorbar\":{\"outlinewidth\":0,\"ticks\":\"\"}}}],\"scatterpolar\":[{\"type\":\"scatterpolar\",\"marker\":{\"colorbar\":{\"outlinewidth\":0,\"ticks\":\"\"}}}],\"histogram\":[{\"marker\":{\"pattern\":{\"fillmode\":\"overlay\",\"size\":10,\"solidity\":0.2}},\"type\":\"histogram\"}],\"scattergl\":[{\"type\":\"scattergl\",\"marker\":{\"colorbar\":{\"outlinewidth\":0,\"ticks\":\"\"}}}],\"scatter3d\":[{\"type\":\"scatter3d\",\"line\":{\"colorbar\":{\"outlinewidth\":0,\"ticks\":\"\"}},\"marker\":{\"colorbar\":{\"outlinewidth\":0,\"ticks\":\"\"}}}],\"scattermapbox\":[{\"type\":\"scattermapbox\",\"marker\":{\"colorbar\":{\"outlinewidth\":0,\"ticks\":\"\"}}}],\"scatterternary\":[{\"type\":\"scatterternary\",\"marker\":{\"colorbar\":{\"outlinewidth\":0,\"ticks\":\"\"}}}],\"scattercarpet\":[{\"type\":\"scattercarpet\",\"marker\":{\"colorbar\":{\"outlinewidth\":0,\"ticks\":\"\"}}}],\"carpet\":[{\"aaxis\":{\"endlinecolor\":\"#2a3f5f\",\"gridcolor\":\"white\",\"linecolor\":\"white\",\"minorgridcolor\":\"white\",\"startlinecolor\":\"#2a3f5f\"},\"baxis\":{\"endlinecolor\":\"#2a3f5f\",\"gridcolor\":\"white\",\"linecolor\":\"white\",\"minorgridcolor\":\"white\",\"startlinecolor\":\"#2a3f5f\"},\"type\":\"carpet\"}],\"table\":[{\"cells\":{\"fill\":{\"color\":\"#EBF0F8\"},\"line\":{\"color\":\"white\"}},\"header\":{\"fill\":{\"color\":\"#C8D4E3\"},\"line\":{\"color\":\"white\"}},\"type\":\"table\"}],\"barpolar\":[{\"marker\":{\"line\":{\"color\":\"#E5ECF6\",\"width\":0.5},\"pattern\":{\"fillmode\":\"overlay\",\"size\":10,\"solidity\":0.2}},\"type\":\"barpolar\"}],\"pie\":[{\"automargin\":true,\"type\":\"pie\"}]},\"layout\":{\"autotypenumbers\":\"strict\",\"colorway\":[\"#636efa\",\"#EF553B\",\"#00cc96\",\"#ab63fa\",\"#FFA15A\",\"#19d3f3\",\"#FF6692\",\"#B6E880\",\"#FF97FF\",\"#FECB52\"],\"font\":{\"color\":\"#2a3f5f\"},\"hovermode\":\"closest\",\"hoverlabel\":{\"align\":\"left\"},\"paper_bgcolor\":\"white\",\"plot_bgcolor\":\"#E5ECF6\",\"polar\":{\"bgcolor\":\"#E5ECF6\",\"angularaxis\":{\"gridcolor\":\"white\",\"linecolor\":\"white\",\"ticks\":\"\"},\"radialaxis\":{\"gridcolor\":\"white\",\"linecolor\":\"white\",\"ticks\":\"\"}},\"ternary\":{\"bgcolor\":\"#E5ECF6\",\"aaxis\":{\"gridcolor\":\"white\",\"linecolor\":\"white\",\"ticks\":\"\"},\"baxis\":{\"gridcolor\":\"white\",\"linecolor\":\"white\",\"ticks\":\"\"},\"caxis\":{\"gridcolor\":\"white\",\"linecolor\":\"white\",\"ticks\":\"\"}},\"coloraxis\":{\"colorbar\":{\"outlinewidth\":0,\"ticks\":\"\"}},\"colorscale\":{\"sequential\":[[0.0,\"#0d0887\"],[0.1111111111111111,\"#46039f\"],[0.2222222222222222,\"#7201a8\"],[0.3333333333333333,\"#9c179e\"],[0.4444444444444444,\"#bd3786\"],[0.5555555555555556,\"#d8576b\"],[0.6666666666666666,\"#ed7953\"],[0.7777777777777778,\"#fb9f3a\"],[0.8888888888888888,\"#fdca26\"],[1.0,\"#f0f921\"]],\"sequentialminus\":[[0.0,\"#0d0887\"],[0.1111111111111111,\"#46039f\"],[0.2222222222222222,\"#7201a8\"],[0.3333333333333333,\"#9c179e\"],[0.4444444444444444,\"#bd3786\"],[0.5555555555555556,\"#d8576b\"],[0.6666666666666666,\"#ed7953\"],[0.7777777777777778,\"#fb9f3a\"],[0.8888888888888888,\"#fdca26\"],[1.0,\"#f0f921\"]],\"diverging\":[[0,\"#8e0152\"],[0.1,\"#c51b7d\"],[0.2,\"#de77ae\"],[0.3,\"#f1b6da\"],[0.4,\"#fde0ef\"],[0.5,\"#f7f7f7\"],[0.6,\"#e6f5d0\"],[0.7,\"#b8e186\"],[0.8,\"#7fbc41\"],[0.9,\"#4d9221\"],[1,\"#276419\"]]},\"xaxis\":{\"gridcolor\":\"white\",\"linecolor\":\"white\",\"ticks\":\"\",\"title\":{\"standoff\":15},\"zerolinecolor\":\"white\",\"automargin\":true,\"zerolinewidth\":2},\"yaxis\":{\"gridcolor\":\"white\",\"linecolor\":\"white\",\"ticks\":\"\",\"title\":{\"standoff\":15},\"zerolinecolor\":\"white\",\"automargin\":true,\"zerolinewidth\":2},\"scene\":{\"xaxis\":{\"backgroundcolor\":\"#E5ECF6\",\"gridcolor\":\"white\",\"linecolor\":\"white\",\"showbackground\":true,\"ticks\":\"\",\"zerolinecolor\":\"white\",\"gridwidth\":2},\"yaxis\":{\"backgroundcolor\":\"#E5ECF6\",\"gridcolor\":\"white\",\"linecolor\":\"white\",\"showbackground\":true,\"ticks\":\"\",\"zerolinecolor\":\"white\",\"gridwidth\":2},\"zaxis\":{\"backgroundcolor\":\"#E5ECF6\",\"gridcolor\":\"white\",\"linecolor\":\"white\",\"showbackground\":true,\"ticks\":\"\",\"zerolinecolor\":\"white\",\"gridwidth\":2}},\"shapedefaults\":{\"line\":{\"color\":\"#2a3f5f\"}},\"annotationdefaults\":{\"arrowcolor\":\"#2a3f5f\",\"arrowhead\":0,\"arrowwidth\":1},\"geo\":{\"bgcolor\":\"white\",\"landcolor\":\"#E5ECF6\",\"subunitcolor\":\"white\",\"showland\":true,\"showlakes\":true,\"lakecolor\":\"white\"},\"title\":{\"x\":0.05},\"mapbox\":{\"style\":\"light\"}}}},                        {\"responsive\": true}                    ).then(function(){\n",
       "                            \n",
       "var gd = document.getElementById('223d3240-3dbc-4050-8aff-950d8bf9e6f5');\n",
       "var x = new MutationObserver(function (mutations, observer) {{\n",
       "        var display = window.getComputedStyle(gd).display;\n",
       "        if (!display || display === 'none') {{\n",
       "            console.log([gd, 'removed!']);\n",
       "            Plotly.purge(gd);\n",
       "            observer.disconnect();\n",
       "        }}\n",
       "}});\n",
       "\n",
       "// Listen for the removal of the full notebook cells\n",
       "var notebookContainer = gd.closest('#notebook-container');\n",
       "if (notebookContainer) {{\n",
       "    x.observe(notebookContainer, {childList: true});\n",
       "}}\n",
       "\n",
       "// Listen for the clearing of the current output cell\n",
       "var outputEl = gd.closest('.output');\n",
       "if (outputEl) {{\n",
       "    x.observe(outputEl, {childList: true});\n",
       "}}\n",
       "\n",
       "                        })                };                });            </script>        </div>"
      ]
     },
     "metadata": {},
     "output_type": "display_data"
    }
   ],
   "source": [
    "if config['tune_hybrid']:\n",
    "    fig = optuna.visualization.plot_optimization_history(study)\n",
    "    fig.show()"
   ]
  },
  {
   "cell_type": "code",
   "execution_count": 35,
   "id": "8eac4011",
   "metadata": {
    "execution": {
     "iopub.execute_input": "2023-11-25T22:16:03.528502Z",
     "iopub.status.busy": "2023-11-25T22:16:03.528062Z",
     "iopub.status.idle": "2023-11-25T22:16:05.544032Z",
     "shell.execute_reply": "2023-11-25T22:16:05.542509Z"
    },
    "papermill": {
     "duration": 2.105147,
     "end_time": "2023-11-25T22:16:05.547034",
     "exception": false,
     "start_time": "2023-11-25T22:16:03.441887",
     "status": "completed"
    },
    "tags": []
   },
   "outputs": [
    {
     "data": {
      "text/html": [
       "<div>                            <div id=\"7c7f3d88-9394-4552-b2c9-7c8a8a198e7f\" class=\"plotly-graph-div\" style=\"height:525px; width:100%;\"></div>            <script type=\"text/javascript\">                require([\"plotly\"], function(Plotly) {                    window.PLOTLYENV=window.PLOTLYENV || {};                                    if (document.getElementById(\"7c7f3d88-9394-4552-b2c9-7c8a8a198e7f\")) {                    Plotly.newPlot(                        \"7c7f3d88-9394-4552-b2c9-7c8a8a198e7f\",                        [{\"cliponaxis\":false,\"hovertemplate\":[\"topK (IntDistribution): 0.03978959249254228\\u003cextra\\u003e\\u003c\\u002fextra\\u003e\",\"alpha (FloatDistribution): 0.15819086476770003\\u003cextra\\u003e\\u003c\\u002fextra\\u003e\",\"beta (FloatDistribution): 0.8020195427397576\\u003cextra\\u003e\\u003c\\u002fextra\\u003e\"],\"name\":\"Objective Value\",\"orientation\":\"h\",\"text\":[\"0.04\",\"0.16\",\"0.80\"],\"textposition\":\"outside\",\"x\":[0.03978959249254228,0.15819086476770003,0.8020195427397576],\"y\":[\"topK\",\"alpha\",\"beta\"],\"type\":\"bar\"}],                        {\"title\":{\"text\":\"Hyperparameter Importances\"},\"xaxis\":{\"title\":{\"text\":\"Hyperparameter Importance\"}},\"yaxis\":{\"title\":{\"text\":\"Hyperparameter\"}},\"template\":{\"data\":{\"histogram2dcontour\":[{\"type\":\"histogram2dcontour\",\"colorbar\":{\"outlinewidth\":0,\"ticks\":\"\"},\"colorscale\":[[0.0,\"#0d0887\"],[0.1111111111111111,\"#46039f\"],[0.2222222222222222,\"#7201a8\"],[0.3333333333333333,\"#9c179e\"],[0.4444444444444444,\"#bd3786\"],[0.5555555555555556,\"#d8576b\"],[0.6666666666666666,\"#ed7953\"],[0.7777777777777778,\"#fb9f3a\"],[0.8888888888888888,\"#fdca26\"],[1.0,\"#f0f921\"]]}],\"choropleth\":[{\"type\":\"choropleth\",\"colorbar\":{\"outlinewidth\":0,\"ticks\":\"\"}}],\"histogram2d\":[{\"type\":\"histogram2d\",\"colorbar\":{\"outlinewidth\":0,\"ticks\":\"\"},\"colorscale\":[[0.0,\"#0d0887\"],[0.1111111111111111,\"#46039f\"],[0.2222222222222222,\"#7201a8\"],[0.3333333333333333,\"#9c179e\"],[0.4444444444444444,\"#bd3786\"],[0.5555555555555556,\"#d8576b\"],[0.6666666666666666,\"#ed7953\"],[0.7777777777777778,\"#fb9f3a\"],[0.8888888888888888,\"#fdca26\"],[1.0,\"#f0f921\"]]}],\"heatmap\":[{\"type\":\"heatmap\",\"colorbar\":{\"outlinewidth\":0,\"ticks\":\"\"},\"colorscale\":[[0.0,\"#0d0887\"],[0.1111111111111111,\"#46039f\"],[0.2222222222222222,\"#7201a8\"],[0.3333333333333333,\"#9c179e\"],[0.4444444444444444,\"#bd3786\"],[0.5555555555555556,\"#d8576b\"],[0.6666666666666666,\"#ed7953\"],[0.7777777777777778,\"#fb9f3a\"],[0.8888888888888888,\"#fdca26\"],[1.0,\"#f0f921\"]]}],\"heatmapgl\":[{\"type\":\"heatmapgl\",\"colorbar\":{\"outlinewidth\":0,\"ticks\":\"\"},\"colorscale\":[[0.0,\"#0d0887\"],[0.1111111111111111,\"#46039f\"],[0.2222222222222222,\"#7201a8\"],[0.3333333333333333,\"#9c179e\"],[0.4444444444444444,\"#bd3786\"],[0.5555555555555556,\"#d8576b\"],[0.6666666666666666,\"#ed7953\"],[0.7777777777777778,\"#fb9f3a\"],[0.8888888888888888,\"#fdca26\"],[1.0,\"#f0f921\"]]}],\"contourcarpet\":[{\"type\":\"contourcarpet\",\"colorbar\":{\"outlinewidth\":0,\"ticks\":\"\"}}],\"contour\":[{\"type\":\"contour\",\"colorbar\":{\"outlinewidth\":0,\"ticks\":\"\"},\"colorscale\":[[0.0,\"#0d0887\"],[0.1111111111111111,\"#46039f\"],[0.2222222222222222,\"#7201a8\"],[0.3333333333333333,\"#9c179e\"],[0.4444444444444444,\"#bd3786\"],[0.5555555555555556,\"#d8576b\"],[0.6666666666666666,\"#ed7953\"],[0.7777777777777778,\"#fb9f3a\"],[0.8888888888888888,\"#fdca26\"],[1.0,\"#f0f921\"]]}],\"surface\":[{\"type\":\"surface\",\"colorbar\":{\"outlinewidth\":0,\"ticks\":\"\"},\"colorscale\":[[0.0,\"#0d0887\"],[0.1111111111111111,\"#46039f\"],[0.2222222222222222,\"#7201a8\"],[0.3333333333333333,\"#9c179e\"],[0.4444444444444444,\"#bd3786\"],[0.5555555555555556,\"#d8576b\"],[0.6666666666666666,\"#ed7953\"],[0.7777777777777778,\"#fb9f3a\"],[0.8888888888888888,\"#fdca26\"],[1.0,\"#f0f921\"]]}],\"mesh3d\":[{\"type\":\"mesh3d\",\"colorbar\":{\"outlinewidth\":0,\"ticks\":\"\"}}],\"scatter\":[{\"fillpattern\":{\"fillmode\":\"overlay\",\"size\":10,\"solidity\":0.2},\"type\":\"scatter\"}],\"parcoords\":[{\"type\":\"parcoords\",\"line\":{\"colorbar\":{\"outlinewidth\":0,\"ticks\":\"\"}}}],\"scatterpolargl\":[{\"type\":\"scatterpolargl\",\"marker\":{\"colorbar\":{\"outlinewidth\":0,\"ticks\":\"\"}}}],\"bar\":[{\"error_x\":{\"color\":\"#2a3f5f\"},\"error_y\":{\"color\":\"#2a3f5f\"},\"marker\":{\"line\":{\"color\":\"#E5ECF6\",\"width\":0.5},\"pattern\":{\"fillmode\":\"overlay\",\"size\":10,\"solidity\":0.2}},\"type\":\"bar\"}],\"scattergeo\":[{\"type\":\"scattergeo\",\"marker\":{\"colorbar\":{\"outlinewidth\":0,\"ticks\":\"\"}}}],\"scatterpolar\":[{\"type\":\"scatterpolar\",\"marker\":{\"colorbar\":{\"outlinewidth\":0,\"ticks\":\"\"}}}],\"histogram\":[{\"marker\":{\"pattern\":{\"fillmode\":\"overlay\",\"size\":10,\"solidity\":0.2}},\"type\":\"histogram\"}],\"scattergl\":[{\"type\":\"scattergl\",\"marker\":{\"colorbar\":{\"outlinewidth\":0,\"ticks\":\"\"}}}],\"scatter3d\":[{\"type\":\"scatter3d\",\"line\":{\"colorbar\":{\"outlinewidth\":0,\"ticks\":\"\"}},\"marker\":{\"colorbar\":{\"outlinewidth\":0,\"ticks\":\"\"}}}],\"scattermapbox\":[{\"type\":\"scattermapbox\",\"marker\":{\"colorbar\":{\"outlinewidth\":0,\"ticks\":\"\"}}}],\"scatterternary\":[{\"type\":\"scatterternary\",\"marker\":{\"colorbar\":{\"outlinewidth\":0,\"ticks\":\"\"}}}],\"scattercarpet\":[{\"type\":\"scattercarpet\",\"marker\":{\"colorbar\":{\"outlinewidth\":0,\"ticks\":\"\"}}}],\"carpet\":[{\"aaxis\":{\"endlinecolor\":\"#2a3f5f\",\"gridcolor\":\"white\",\"linecolor\":\"white\",\"minorgridcolor\":\"white\",\"startlinecolor\":\"#2a3f5f\"},\"baxis\":{\"endlinecolor\":\"#2a3f5f\",\"gridcolor\":\"white\",\"linecolor\":\"white\",\"minorgridcolor\":\"white\",\"startlinecolor\":\"#2a3f5f\"},\"type\":\"carpet\"}],\"table\":[{\"cells\":{\"fill\":{\"color\":\"#EBF0F8\"},\"line\":{\"color\":\"white\"}},\"header\":{\"fill\":{\"color\":\"#C8D4E3\"},\"line\":{\"color\":\"white\"}},\"type\":\"table\"}],\"barpolar\":[{\"marker\":{\"line\":{\"color\":\"#E5ECF6\",\"width\":0.5},\"pattern\":{\"fillmode\":\"overlay\",\"size\":10,\"solidity\":0.2}},\"type\":\"barpolar\"}],\"pie\":[{\"automargin\":true,\"type\":\"pie\"}]},\"layout\":{\"autotypenumbers\":\"strict\",\"colorway\":[\"#636efa\",\"#EF553B\",\"#00cc96\",\"#ab63fa\",\"#FFA15A\",\"#19d3f3\",\"#FF6692\",\"#B6E880\",\"#FF97FF\",\"#FECB52\"],\"font\":{\"color\":\"#2a3f5f\"},\"hovermode\":\"closest\",\"hoverlabel\":{\"align\":\"left\"},\"paper_bgcolor\":\"white\",\"plot_bgcolor\":\"#E5ECF6\",\"polar\":{\"bgcolor\":\"#E5ECF6\",\"angularaxis\":{\"gridcolor\":\"white\",\"linecolor\":\"white\",\"ticks\":\"\"},\"radialaxis\":{\"gridcolor\":\"white\",\"linecolor\":\"white\",\"ticks\":\"\"}},\"ternary\":{\"bgcolor\":\"#E5ECF6\",\"aaxis\":{\"gridcolor\":\"white\",\"linecolor\":\"white\",\"ticks\":\"\"},\"baxis\":{\"gridcolor\":\"white\",\"linecolor\":\"white\",\"ticks\":\"\"},\"caxis\":{\"gridcolor\":\"white\",\"linecolor\":\"white\",\"ticks\":\"\"}},\"coloraxis\":{\"colorbar\":{\"outlinewidth\":0,\"ticks\":\"\"}},\"colorscale\":{\"sequential\":[[0.0,\"#0d0887\"],[0.1111111111111111,\"#46039f\"],[0.2222222222222222,\"#7201a8\"],[0.3333333333333333,\"#9c179e\"],[0.4444444444444444,\"#bd3786\"],[0.5555555555555556,\"#d8576b\"],[0.6666666666666666,\"#ed7953\"],[0.7777777777777778,\"#fb9f3a\"],[0.8888888888888888,\"#fdca26\"],[1.0,\"#f0f921\"]],\"sequentialminus\":[[0.0,\"#0d0887\"],[0.1111111111111111,\"#46039f\"],[0.2222222222222222,\"#7201a8\"],[0.3333333333333333,\"#9c179e\"],[0.4444444444444444,\"#bd3786\"],[0.5555555555555556,\"#d8576b\"],[0.6666666666666666,\"#ed7953\"],[0.7777777777777778,\"#fb9f3a\"],[0.8888888888888888,\"#fdca26\"],[1.0,\"#f0f921\"]],\"diverging\":[[0,\"#8e0152\"],[0.1,\"#c51b7d\"],[0.2,\"#de77ae\"],[0.3,\"#f1b6da\"],[0.4,\"#fde0ef\"],[0.5,\"#f7f7f7\"],[0.6,\"#e6f5d0\"],[0.7,\"#b8e186\"],[0.8,\"#7fbc41\"],[0.9,\"#4d9221\"],[1,\"#276419\"]]},\"xaxis\":{\"gridcolor\":\"white\",\"linecolor\":\"white\",\"ticks\":\"\",\"title\":{\"standoff\":15},\"zerolinecolor\":\"white\",\"automargin\":true,\"zerolinewidth\":2},\"yaxis\":{\"gridcolor\":\"white\",\"linecolor\":\"white\",\"ticks\":\"\",\"title\":{\"standoff\":15},\"zerolinecolor\":\"white\",\"automargin\":true,\"zerolinewidth\":2},\"scene\":{\"xaxis\":{\"backgroundcolor\":\"#E5ECF6\",\"gridcolor\":\"white\",\"linecolor\":\"white\",\"showbackground\":true,\"ticks\":\"\",\"zerolinecolor\":\"white\",\"gridwidth\":2},\"yaxis\":{\"backgroundcolor\":\"#E5ECF6\",\"gridcolor\":\"white\",\"linecolor\":\"white\",\"showbackground\":true,\"ticks\":\"\",\"zerolinecolor\":\"white\",\"gridwidth\":2},\"zaxis\":{\"backgroundcolor\":\"#E5ECF6\",\"gridcolor\":\"white\",\"linecolor\":\"white\",\"showbackground\":true,\"ticks\":\"\",\"zerolinecolor\":\"white\",\"gridwidth\":2}},\"shapedefaults\":{\"line\":{\"color\":\"#2a3f5f\"}},\"annotationdefaults\":{\"arrowcolor\":\"#2a3f5f\",\"arrowhead\":0,\"arrowwidth\":1},\"geo\":{\"bgcolor\":\"white\",\"landcolor\":\"#E5ECF6\",\"subunitcolor\":\"white\",\"showland\":true,\"showlakes\":true,\"lakecolor\":\"white\"},\"title\":{\"x\":0.05},\"mapbox\":{\"style\":\"light\"}}}},                        {\"responsive\": true}                    ).then(function(){\n",
       "                            \n",
       "var gd = document.getElementById('7c7f3d88-9394-4552-b2c9-7c8a8a198e7f');\n",
       "var x = new MutationObserver(function (mutations, observer) {{\n",
       "        var display = window.getComputedStyle(gd).display;\n",
       "        if (!display || display === 'none') {{\n",
       "            console.log([gd, 'removed!']);\n",
       "            Plotly.purge(gd);\n",
       "            observer.disconnect();\n",
       "        }}\n",
       "}});\n",
       "\n",
       "// Listen for the removal of the full notebook cells\n",
       "var notebookContainer = gd.closest('#notebook-container');\n",
       "if (notebookContainer) {{\n",
       "    x.observe(notebookContainer, {childList: true});\n",
       "}}\n",
       "\n",
       "// Listen for the clearing of the current output cell\n",
       "var outputEl = gd.closest('.output');\n",
       "if (outputEl) {{\n",
       "    x.observe(outputEl, {childList: true});\n",
       "}}\n",
       "\n",
       "                        })                };                });            </script>        </div>"
      ]
     },
     "metadata": {},
     "output_type": "display_data"
    }
   ],
   "source": [
    "if config['tune_hybrid']:\n",
    "    fig = optuna.visualization.plot_param_importances(study)\n",
    "    fig.show()"
   ]
  },
  {
   "cell_type": "code",
   "execution_count": 36,
   "id": "fb48e002",
   "metadata": {
    "execution": {
     "iopub.execute_input": "2023-11-25T22:16:05.717975Z",
     "iopub.status.busy": "2023-11-25T22:16:05.717466Z",
     "iopub.status.idle": "2023-11-25T22:16:06.105559Z",
     "shell.execute_reply": "2023-11-25T22:16:06.103878Z"
    },
    "papermill": {
     "duration": 0.476735,
     "end_time": "2023-11-25T22:16:06.108395",
     "exception": false,
     "start_time": "2023-11-25T22:16:05.631660",
     "status": "completed"
    },
    "tags": []
   },
   "outputs": [
    {
     "data": {
      "text/html": [
       "<div>                            <div id=\"b0fceeeb-6efc-43ab-a4dd-0a2afdc9840f\" class=\"plotly-graph-div\" style=\"height:525px; width:100%;\"></div>            <script type=\"text/javascript\">                require([\"plotly\"], function(Plotly) {                    window.PLOTLYENV=window.PLOTLYENV || {};                                    if (document.getElementById(\"b0fceeeb-6efc-43ab-a4dd-0a2afdc9840f\")) {                    Plotly.newPlot(                        \"b0fceeeb-6efc-43ab-a4dd-0a2afdc9840f\",                        [{\"marker\":{\"color\":[0,1,2,3,4,5,6,7,8,9,10,11,12,13,14,15,16,17,18,19,20,21,22,23,24,25,26,27,28,29,30,31,32,33,34,35,36,37,38,39,40,41,42,43,44,45,46,47,48,49,50,51,52,53,54,55,56,57,58,59,60,61,62,63,64,65,66,67,68,69,70,71,72,73,74,75,76,77,78,79,80,81,82,83,84,85,86,87,88,89,90,91,92,93,94,95,96,97,98,99],\"colorbar\":{\"title\":{\"text\":\"Trial\"},\"x\":1.0,\"xpad\":40},\"colorscale\":[[0.0,\"rgb(247,251,255)\"],[0.125,\"rgb(222,235,247)\"],[0.25,\"rgb(198,219,239)\"],[0.375,\"rgb(158,202,225)\"],[0.5,\"rgb(107,174,214)\"],[0.625,\"rgb(66,146,198)\"],[0.75,\"rgb(33,113,181)\"],[0.875,\"rgb(8,81,156)\"],[1.0,\"rgb(8,48,107)\"]],\"line\":{\"color\":\"Grey\",\"width\":0.5},\"showscale\":true},\"mode\":\"markers\",\"name\":\"Feasible Trial\",\"showlegend\":false,\"x\":[2.534006571935572,1.60726651686522,0.20650762929003805,0.14286176052650307,0.07499414407132154,0.03213822089872851,0.4626526111478515,0.015920330181811968,0.06428318796844314,0.10205711860232548,5.927147357422654,0.7819313527270387,8.460169263354524,2.150493669603723,0.3568683515928344,0.8300840282125741,2.677751535207708,3.1091350742757458,4.352649530119464,9.566801029047626,1.5072481762745642,1.0885467519334953,3.0720348006409015,2.8587222464307396,4.330584887075255,2.3186880007704627,0.521751992229,1.5401971387972957,5.879347456913347,1.1086549428286545,2.2043541319954834,2.4977222487908515,2.0951727264159836,1.6282140165975085,1.756631468134464,1.430118428103625,0.6380399967828632,1.1876629687865083,0.2633508648823209,0.8976455376362996,0.5433304483377858,0.9765765707233557,1.151798633186386,1.6720860632171772,1.6985703744707032,1.7418934287731591,0.6684160259317707,0.45365148145286777,1.7408162798814562,1.1840630131005527,3.9084637801109094,1.7982236647234462,1.7976910912022257,1.900749731821763,0.7356701985021952,3.4331949508399187,1.8808736852368535,5.21543568308186,2.9381019142041604,0.8922838617172529,2.5077780395174196,1.8855201339724068,3.7390170859448957,1.3843539691461346,1.4653280695393687,1.4423314242940761,1.3063124892050528,2.326439219423669,0.981476978974326,2.9583525199862843,1.3050303581739655,1.7009500090061302,2.1839759603445623,1.3960700012898193,1.945669858768864,2.7550005765888494,0.7639949714517443,1.5995320840351777,1.0274594840070916,1.478362292085135,1.5480629378857769,1.2803105926626188,2.4126458853897246,1.5864064593388831,1.0149054454845035,3.329718532757632,1.1964777778563553,0.8869904708246388,2.183948086023118,1.5646467715067984,1.7549834144838403,2.6564913532600603,1.9889741091636948,1.9582207536265352,1.420619597156368,1.177957469480539,1.652907417594738,2.3506573267800626,0.8454143895305376,3.2458994659416227],\"y\":[0.023229795498854868,0.0015699140421317006,0.0192695583537155,0.01734331734550899,0.0005531901539856642,0.0012999860771192144,0.019533407191095913,0.019003510548570277,0.017553090955915195,0.02097827108381267,0.011743798750586561,0.01946871599924018,0.009381012784892617,0.017951076311156396,0.0001069744796315122,0.02203208893752385,0.02390904223420983,0.02002190186845353,0.01098668584414791,0.008965879292099748,0.02003484559152613,0.02109479540765396,0.022205981312635247,0.02367455171589989,0.013318757407102744,0.022911323778115576,0.021605864714240034,0.010914643744657247,0.0108867894692341,0.00541600066813707,0.024131362672510828,0.02529746968754869,0.02589070322951721,0.025931768854733528,0.026230814710901253,0.025654916536138044,0.022609747729973893,0.026357928893930717,0.022459209002120194,0.025676183109374313,0.024070407868607983,0.02576999582190865,0.0257403806711978,0.026760211604799106,0.02683399339464134,0.02691649729307194,0.023706725400253308,0.02353530482835474,0.02691668664189979,0.02621422582173431,0.015175715691275706,0.026635449116700443,0.02685740793279639,0.026784428963760258,0.02382158432113129,0.018213680991470475,0.026680649109178278,0.01185659789550977,0.023228638082799496,0.022373490366064445,0.02518129100213442,0.026513475581709845,0.01617480402523858,0.026864530134398,0.026954990488522217,0.02622898018184011,0.02660579203404915,0.023422362196882495,0.0258166115101377,0.0234268917470058,0.02447773572079217,0.026971992456948108,0.02624093402201554,0.02595342918637212,0.026334561937577987,0.022845500051762443,0.02303594455108545,0.02696193170482102,0.022435312198581248,0.026900663256874707,0.02670255265274727,0.026704796215299163,0.025632056344126092,0.026412836244589344,0.025936657337993597,0.017355173418294817,0.02635351115437933,0.025576217873456562,0.02619275670700364,0.02656409383978159,0.026345989215833105,0.02409926190396055,0.026691151037480536,0.026506750538344864,0.025951253181785892,0.02626463450389264,0.025710314116590104,0.025819296566672263,0.025448158476497083,0.01848008054741713],\"type\":\"scatter\",\"xaxis\":\"x\",\"yaxis\":\"y\"},{\"marker\":{\"color\":[0,1,2,3,4,5,6,7,8,9,10,11,12,13,14,15,16,17,18,19,20,21,22,23,24,25,26,27,28,29,30,31,32,33,34,35,36,37,38,39,40,41,42,43,44,45,46,47,48,49,50,51,52,53,54,55,56,57,58,59,60,61,62,63,64,65,66,67,68,69,70,71,72,73,74,75,76,77,78,79,80,81,82,83,84,85,86,87,88,89,90,91,92,93,94,95,96,97,98,99],\"colorbar\":{\"title\":{\"text\":\"Trial\"},\"x\":1.0,\"xpad\":40},\"colorscale\":[[0.0,\"rgb(247,251,255)\"],[0.125,\"rgb(222,235,247)\"],[0.25,\"rgb(198,219,239)\"],[0.375,\"rgb(158,202,225)\"],[0.5,\"rgb(107,174,214)\"],[0.625,\"rgb(66,146,198)\"],[0.75,\"rgb(33,113,181)\"],[0.875,\"rgb(8,81,156)\"],[1.0,\"rgb(8,48,107)\"]],\"line\":{\"color\":\"Grey\",\"width\":0.5},\"showscale\":false},\"mode\":\"markers\",\"name\":\"Feasible Trial\",\"showlegend\":false,\"x\":[0.2850493891688343,2.550402096047494,0.10309044322484287,0.4029015178917358,4.236133394793039,2.308344711348702,0.7666519605786984,0.04403441194539544,0.09286321993275304,0.09087668088380901,0.018542336545588737,0.2152886136489878,0.01186152017666455,0.6658626780227561,9.583148750489965,0.18766334330858936,0.2586780679778975,0.531270825669978,1.105741323369299,0.3231454532611822,0.1774261898771404,0.21669033106336902,0.4033945976853559,0.42464281527683817,0.9312423463997782,0.3367193436159145,0.48872489291274906,1.305244702145567,0.6632547825194492,1.552959078273106,0.15281127581171283,0.14167903765043044,0.13316015723607844,0.11208976775306737,0.13036453941611875,0.057644205968699146,0.06395018765811977,0.055133716599833016,0.03197096464383144,0.10015758339050174,0.0747657571728402,0.10647572577145355,0.11237396416803878,0.13015961514309718,0.0448168216527532,0.038085587075450976,0.03762453205225121,0.050443981996935984,0.027547466435618086,0.03173641690470671,0.024724314398947903,0.07395332595519669,0.04669402514047523,0.07414845170437462,0.04395765667008495,0.021807222134907298,0.016368893672987772,0.07305958512668612,0.043784401598764996,0.02815528610621245,0.03750351241030074,0.015132435975832692,0.02203698997714388,0.017106934061789963,0.012336939791100178,0.010134895836577545,0.013889958462567915,0.018836095379247592,0.026204809163391043,0.017718270663214665,0.012521343948942158,0.03482805587507859,0.02027070242353983,0.03221302844302773,0.02780688030236791,0.015553021541029553,0.041851112863226375,0.022952937181763326,0.011362018918467685,0.022784405043288943,0.022579334969504837,0.01945469131572659,0.013814897725176868,0.025666077901885385,0.03416169424498674,0.048925640450036174,0.01816635641891926,0.02793014181691353,0.023698284868893103,0.03832241060013533,0.05029709104923187,0.030830769242248115,0.06129652270631881,0.03562050336286896,0.01606368313095441,0.02114694495711887,0.0434575123630967,0.028500893122364312,0.08572851447862916,0.05829268672022847],\"y\":[0.023229795498854868,0.0015699140421317006,0.0192695583537155,0.01734331734550899,0.0005531901539856642,0.0012999860771192144,0.019533407191095913,0.019003510548570277,0.017553090955915195,0.02097827108381267,0.011743798750586561,0.01946871599924018,0.009381012784892617,0.017951076311156396,0.0001069744796315122,0.02203208893752385,0.02390904223420983,0.02002190186845353,0.01098668584414791,0.008965879292099748,0.02003484559152613,0.02109479540765396,0.022205981312635247,0.02367455171589989,0.013318757407102744,0.022911323778115576,0.021605864714240034,0.010914643744657247,0.0108867894692341,0.00541600066813707,0.024131362672510828,0.02529746968754869,0.02589070322951721,0.025931768854733528,0.026230814710901253,0.025654916536138044,0.022609747729973893,0.026357928893930717,0.022459209002120194,0.025676183109374313,0.024070407868607983,0.02576999582190865,0.0257403806711978,0.026760211604799106,0.02683399339464134,0.02691649729307194,0.023706725400253308,0.02353530482835474,0.02691668664189979,0.02621422582173431,0.015175715691275706,0.026635449116700443,0.02685740793279639,0.026784428963760258,0.02382158432113129,0.018213680991470475,0.026680649109178278,0.01185659789550977,0.023228638082799496,0.022373490366064445,0.02518129100213442,0.026513475581709845,0.01617480402523858,0.026864530134398,0.026954990488522217,0.02622898018184011,0.02660579203404915,0.023422362196882495,0.0258166115101377,0.0234268917470058,0.02447773572079217,0.026971992456948108,0.02624093402201554,0.02595342918637212,0.026334561937577987,0.022845500051762443,0.02303594455108545,0.02696193170482102,0.022435312198581248,0.026900663256874707,0.02670255265274727,0.026704796215299163,0.025632056344126092,0.026412836244589344,0.025936657337993597,0.017355173418294817,0.02635351115437933,0.025576217873456562,0.02619275670700364,0.02656409383978159,0.026345989215833105,0.02409926190396055,0.026691151037480536,0.026506750538344864,0.025951253181785892,0.02626463450389264,0.025710314116590104,0.025819296566672263,0.025448158476497083,0.01848008054741713],\"type\":\"scatter\",\"xaxis\":\"x2\",\"yaxis\":\"y2\"},{\"marker\":{\"color\":[0,1,2,3,4,5,6,7,8,9,10,11,12,13,14,15,16,17,18,19,20,21,22,23,24,25,26,27,28,29,30,31,32,33,34,35,36,37,38,39,40,41,42,43,44,45,46,47,48,49,50,51,52,53,54,55,56,57,58,59,60,61,62,63,64,65,66,67,68,69,70,71,72,73,74,75,76,77,78,79,80,81,82,83,84,85,86,87,88,89,90,91,92,93,94,95,96,97,98,99],\"colorbar\":{\"title\":{\"text\":\"Trial\"},\"x\":1.0,\"xpad\":40},\"colorscale\":[[0.0,\"rgb(247,251,255)\"],[0.125,\"rgb(222,235,247)\"],[0.25,\"rgb(198,219,239)\"],[0.375,\"rgb(158,202,225)\"],[0.5,\"rgb(107,174,214)\"],[0.625,\"rgb(66,146,198)\"],[0.75,\"rgb(33,113,181)\"],[0.875,\"rgb(8,81,156)\"],[1.0,\"rgb(8,48,107)\"]],\"line\":{\"color\":\"Grey\",\"width\":0.5},\"showscale\":false},\"mode\":\"markers\",\"name\":\"Feasible Trial\",\"showlegend\":false,\"x\":[919,71,283,2705,74,21,20,84,320,76,1492,787,639,2946,4524,183,711,912,1425,516,1383,407,179,212,536,920,319,184,563,251,410,133,137,125,117,122,115,48,46,50,42,41,30,89,93,87,87,61,83,81,62,104,91,89,94,74,62,90,160,152,95,56,66,72,74,103,80,33,68,227,145,73,79,108,53,67,119,73,169,75,56,71,136,105,72,42,77,56,125,98,47,84,89,62,110,78,137,93,63,53],\"y\":[0.023229795498854868,0.0015699140421317006,0.0192695583537155,0.01734331734550899,0.0005531901539856642,0.0012999860771192144,0.019533407191095913,0.019003510548570277,0.017553090955915195,0.02097827108381267,0.011743798750586561,0.01946871599924018,0.009381012784892617,0.017951076311156396,0.0001069744796315122,0.02203208893752385,0.02390904223420983,0.02002190186845353,0.01098668584414791,0.008965879292099748,0.02003484559152613,0.02109479540765396,0.022205981312635247,0.02367455171589989,0.013318757407102744,0.022911323778115576,0.021605864714240034,0.010914643744657247,0.0108867894692341,0.00541600066813707,0.024131362672510828,0.02529746968754869,0.02589070322951721,0.025931768854733528,0.026230814710901253,0.025654916536138044,0.022609747729973893,0.026357928893930717,0.022459209002120194,0.025676183109374313,0.024070407868607983,0.02576999582190865,0.0257403806711978,0.026760211604799106,0.02683399339464134,0.02691649729307194,0.023706725400253308,0.02353530482835474,0.02691668664189979,0.02621422582173431,0.015175715691275706,0.026635449116700443,0.02685740793279639,0.026784428963760258,0.02382158432113129,0.018213680991470475,0.026680649109178278,0.01185659789550977,0.023228638082799496,0.022373490366064445,0.02518129100213442,0.026513475581709845,0.01617480402523858,0.026864530134398,0.026954990488522217,0.02622898018184011,0.02660579203404915,0.023422362196882495,0.0258166115101377,0.0234268917470058,0.02447773572079217,0.026971992456948108,0.02624093402201554,0.02595342918637212,0.026334561937577987,0.022845500051762443,0.02303594455108545,0.02696193170482102,0.022435312198581248,0.026900663256874707,0.02670255265274727,0.026704796215299163,0.025632056344126092,0.026412836244589344,0.025936657337993597,0.017355173418294817,0.02635351115437933,0.025576217873456562,0.02619275670700364,0.02656409383978159,0.026345989215833105,0.02409926190396055,0.026691151037480536,0.026506750538344864,0.025951253181785892,0.02626463450389264,0.025710314116590104,0.025819296566672263,0.025448158476497083,0.01848008054741713],\"type\":\"scatter\",\"xaxis\":\"x3\",\"yaxis\":\"y3\"}],                        {\"template\":{\"data\":{\"histogram2dcontour\":[{\"type\":\"histogram2dcontour\",\"colorbar\":{\"outlinewidth\":0,\"ticks\":\"\"},\"colorscale\":[[0.0,\"#0d0887\"],[0.1111111111111111,\"#46039f\"],[0.2222222222222222,\"#7201a8\"],[0.3333333333333333,\"#9c179e\"],[0.4444444444444444,\"#bd3786\"],[0.5555555555555556,\"#d8576b\"],[0.6666666666666666,\"#ed7953\"],[0.7777777777777778,\"#fb9f3a\"],[0.8888888888888888,\"#fdca26\"],[1.0,\"#f0f921\"]]}],\"choropleth\":[{\"type\":\"choropleth\",\"colorbar\":{\"outlinewidth\":0,\"ticks\":\"\"}}],\"histogram2d\":[{\"type\":\"histogram2d\",\"colorbar\":{\"outlinewidth\":0,\"ticks\":\"\"},\"colorscale\":[[0.0,\"#0d0887\"],[0.1111111111111111,\"#46039f\"],[0.2222222222222222,\"#7201a8\"],[0.3333333333333333,\"#9c179e\"],[0.4444444444444444,\"#bd3786\"],[0.5555555555555556,\"#d8576b\"],[0.6666666666666666,\"#ed7953\"],[0.7777777777777778,\"#fb9f3a\"],[0.8888888888888888,\"#fdca26\"],[1.0,\"#f0f921\"]]}],\"heatmap\":[{\"type\":\"heatmap\",\"colorbar\":{\"outlinewidth\":0,\"ticks\":\"\"},\"colorscale\":[[0.0,\"#0d0887\"],[0.1111111111111111,\"#46039f\"],[0.2222222222222222,\"#7201a8\"],[0.3333333333333333,\"#9c179e\"],[0.4444444444444444,\"#bd3786\"],[0.5555555555555556,\"#d8576b\"],[0.6666666666666666,\"#ed7953\"],[0.7777777777777778,\"#fb9f3a\"],[0.8888888888888888,\"#fdca26\"],[1.0,\"#f0f921\"]]}],\"heatmapgl\":[{\"type\":\"heatmapgl\",\"colorbar\":{\"outlinewidth\":0,\"ticks\":\"\"},\"colorscale\":[[0.0,\"#0d0887\"],[0.1111111111111111,\"#46039f\"],[0.2222222222222222,\"#7201a8\"],[0.3333333333333333,\"#9c179e\"],[0.4444444444444444,\"#bd3786\"],[0.5555555555555556,\"#d8576b\"],[0.6666666666666666,\"#ed7953\"],[0.7777777777777778,\"#fb9f3a\"],[0.8888888888888888,\"#fdca26\"],[1.0,\"#f0f921\"]]}],\"contourcarpet\":[{\"type\":\"contourcarpet\",\"colorbar\":{\"outlinewidth\":0,\"ticks\":\"\"}}],\"contour\":[{\"type\":\"contour\",\"colorbar\":{\"outlinewidth\":0,\"ticks\":\"\"},\"colorscale\":[[0.0,\"#0d0887\"],[0.1111111111111111,\"#46039f\"],[0.2222222222222222,\"#7201a8\"],[0.3333333333333333,\"#9c179e\"],[0.4444444444444444,\"#bd3786\"],[0.5555555555555556,\"#d8576b\"],[0.6666666666666666,\"#ed7953\"],[0.7777777777777778,\"#fb9f3a\"],[0.8888888888888888,\"#fdca26\"],[1.0,\"#f0f921\"]]}],\"surface\":[{\"type\":\"surface\",\"colorbar\":{\"outlinewidth\":0,\"ticks\":\"\"},\"colorscale\":[[0.0,\"#0d0887\"],[0.1111111111111111,\"#46039f\"],[0.2222222222222222,\"#7201a8\"],[0.3333333333333333,\"#9c179e\"],[0.4444444444444444,\"#bd3786\"],[0.5555555555555556,\"#d8576b\"],[0.6666666666666666,\"#ed7953\"],[0.7777777777777778,\"#fb9f3a\"],[0.8888888888888888,\"#fdca26\"],[1.0,\"#f0f921\"]]}],\"mesh3d\":[{\"type\":\"mesh3d\",\"colorbar\":{\"outlinewidth\":0,\"ticks\":\"\"}}],\"scatter\":[{\"fillpattern\":{\"fillmode\":\"overlay\",\"size\":10,\"solidity\":0.2},\"type\":\"scatter\"}],\"parcoords\":[{\"type\":\"parcoords\",\"line\":{\"colorbar\":{\"outlinewidth\":0,\"ticks\":\"\"}}}],\"scatterpolargl\":[{\"type\":\"scatterpolargl\",\"marker\":{\"colorbar\":{\"outlinewidth\":0,\"ticks\":\"\"}}}],\"bar\":[{\"error_x\":{\"color\":\"#2a3f5f\"},\"error_y\":{\"color\":\"#2a3f5f\"},\"marker\":{\"line\":{\"color\":\"#E5ECF6\",\"width\":0.5},\"pattern\":{\"fillmode\":\"overlay\",\"size\":10,\"solidity\":0.2}},\"type\":\"bar\"}],\"scattergeo\":[{\"type\":\"scattergeo\",\"marker\":{\"colorbar\":{\"outlinewidth\":0,\"ticks\":\"\"}}}],\"scatterpolar\":[{\"type\":\"scatterpolar\",\"marker\":{\"colorbar\":{\"outlinewidth\":0,\"ticks\":\"\"}}}],\"histogram\":[{\"marker\":{\"pattern\":{\"fillmode\":\"overlay\",\"size\":10,\"solidity\":0.2}},\"type\":\"histogram\"}],\"scattergl\":[{\"type\":\"scattergl\",\"marker\":{\"colorbar\":{\"outlinewidth\":0,\"ticks\":\"\"}}}],\"scatter3d\":[{\"type\":\"scatter3d\",\"line\":{\"colorbar\":{\"outlinewidth\":0,\"ticks\":\"\"}},\"marker\":{\"colorbar\":{\"outlinewidth\":0,\"ticks\":\"\"}}}],\"scattermapbox\":[{\"type\":\"scattermapbox\",\"marker\":{\"colorbar\":{\"outlinewidth\":0,\"ticks\":\"\"}}}],\"scatterternary\":[{\"type\":\"scatterternary\",\"marker\":{\"colorbar\":{\"outlinewidth\":0,\"ticks\":\"\"}}}],\"scattercarpet\":[{\"type\":\"scattercarpet\",\"marker\":{\"colorbar\":{\"outlinewidth\":0,\"ticks\":\"\"}}}],\"carpet\":[{\"aaxis\":{\"endlinecolor\":\"#2a3f5f\",\"gridcolor\":\"white\",\"linecolor\":\"white\",\"minorgridcolor\":\"white\",\"startlinecolor\":\"#2a3f5f\"},\"baxis\":{\"endlinecolor\":\"#2a3f5f\",\"gridcolor\":\"white\",\"linecolor\":\"white\",\"minorgridcolor\":\"white\",\"startlinecolor\":\"#2a3f5f\"},\"type\":\"carpet\"}],\"table\":[{\"cells\":{\"fill\":{\"color\":\"#EBF0F8\"},\"line\":{\"color\":\"white\"}},\"header\":{\"fill\":{\"color\":\"#C8D4E3\"},\"line\":{\"color\":\"white\"}},\"type\":\"table\"}],\"barpolar\":[{\"marker\":{\"line\":{\"color\":\"#E5ECF6\",\"width\":0.5},\"pattern\":{\"fillmode\":\"overlay\",\"size\":10,\"solidity\":0.2}},\"type\":\"barpolar\"}],\"pie\":[{\"automargin\":true,\"type\":\"pie\"}]},\"layout\":{\"autotypenumbers\":\"strict\",\"colorway\":[\"#636efa\",\"#EF553B\",\"#00cc96\",\"#ab63fa\",\"#FFA15A\",\"#19d3f3\",\"#FF6692\",\"#B6E880\",\"#FF97FF\",\"#FECB52\"],\"font\":{\"color\":\"#2a3f5f\"},\"hovermode\":\"closest\",\"hoverlabel\":{\"align\":\"left\"},\"paper_bgcolor\":\"white\",\"plot_bgcolor\":\"#E5ECF6\",\"polar\":{\"bgcolor\":\"#E5ECF6\",\"angularaxis\":{\"gridcolor\":\"white\",\"linecolor\":\"white\",\"ticks\":\"\"},\"radialaxis\":{\"gridcolor\":\"white\",\"linecolor\":\"white\",\"ticks\":\"\"}},\"ternary\":{\"bgcolor\":\"#E5ECF6\",\"aaxis\":{\"gridcolor\":\"white\",\"linecolor\":\"white\",\"ticks\":\"\"},\"baxis\":{\"gridcolor\":\"white\",\"linecolor\":\"white\",\"ticks\":\"\"},\"caxis\":{\"gridcolor\":\"white\",\"linecolor\":\"white\",\"ticks\":\"\"}},\"coloraxis\":{\"colorbar\":{\"outlinewidth\":0,\"ticks\":\"\"}},\"colorscale\":{\"sequential\":[[0.0,\"#0d0887\"],[0.1111111111111111,\"#46039f\"],[0.2222222222222222,\"#7201a8\"],[0.3333333333333333,\"#9c179e\"],[0.4444444444444444,\"#bd3786\"],[0.5555555555555556,\"#d8576b\"],[0.6666666666666666,\"#ed7953\"],[0.7777777777777778,\"#fb9f3a\"],[0.8888888888888888,\"#fdca26\"],[1.0,\"#f0f921\"]],\"sequentialminus\":[[0.0,\"#0d0887\"],[0.1111111111111111,\"#46039f\"],[0.2222222222222222,\"#7201a8\"],[0.3333333333333333,\"#9c179e\"],[0.4444444444444444,\"#bd3786\"],[0.5555555555555556,\"#d8576b\"],[0.6666666666666666,\"#ed7953\"],[0.7777777777777778,\"#fb9f3a\"],[0.8888888888888888,\"#fdca26\"],[1.0,\"#f0f921\"]],\"diverging\":[[0,\"#8e0152\"],[0.1,\"#c51b7d\"],[0.2,\"#de77ae\"],[0.3,\"#f1b6da\"],[0.4,\"#fde0ef\"],[0.5,\"#f7f7f7\"],[0.6,\"#e6f5d0\"],[0.7,\"#b8e186\"],[0.8,\"#7fbc41\"],[0.9,\"#4d9221\"],[1,\"#276419\"]]},\"xaxis\":{\"gridcolor\":\"white\",\"linecolor\":\"white\",\"ticks\":\"\",\"title\":{\"standoff\":15},\"zerolinecolor\":\"white\",\"automargin\":true,\"zerolinewidth\":2},\"yaxis\":{\"gridcolor\":\"white\",\"linecolor\":\"white\",\"ticks\":\"\",\"title\":{\"standoff\":15},\"zerolinecolor\":\"white\",\"automargin\":true,\"zerolinewidth\":2},\"scene\":{\"xaxis\":{\"backgroundcolor\":\"#E5ECF6\",\"gridcolor\":\"white\",\"linecolor\":\"white\",\"showbackground\":true,\"ticks\":\"\",\"zerolinecolor\":\"white\",\"gridwidth\":2},\"yaxis\":{\"backgroundcolor\":\"#E5ECF6\",\"gridcolor\":\"white\",\"linecolor\":\"white\",\"showbackground\":true,\"ticks\":\"\",\"zerolinecolor\":\"white\",\"gridwidth\":2},\"zaxis\":{\"backgroundcolor\":\"#E5ECF6\",\"gridcolor\":\"white\",\"linecolor\":\"white\",\"showbackground\":true,\"ticks\":\"\",\"zerolinecolor\":\"white\",\"gridwidth\":2}},\"shapedefaults\":{\"line\":{\"color\":\"#2a3f5f\"}},\"annotationdefaults\":{\"arrowcolor\":\"#2a3f5f\",\"arrowhead\":0,\"arrowwidth\":1},\"geo\":{\"bgcolor\":\"white\",\"landcolor\":\"#E5ECF6\",\"subunitcolor\":\"white\",\"showland\":true,\"showlakes\":true,\"lakecolor\":\"white\"},\"title\":{\"x\":0.05},\"mapbox\":{\"style\":\"light\"}}},\"xaxis\":{\"anchor\":\"y\",\"domain\":[0.0,0.2888888888888889],\"title\":{\"text\":\"alpha\"},\"type\":\"log\"},\"yaxis\":{\"anchor\":\"x\",\"domain\":[0.0,1.0],\"title\":{\"text\":\"Objective Value\"}},\"xaxis2\":{\"anchor\":\"y2\",\"domain\":[0.35555555555555557,0.6444444444444445],\"title\":{\"text\":\"beta\"},\"type\":\"log\"},\"yaxis2\":{\"anchor\":\"x2\",\"domain\":[0.0,1.0],\"matches\":\"y\",\"showticklabels\":false},\"xaxis3\":{\"anchor\":\"y3\",\"domain\":[0.7111111111111111,1.0],\"title\":{\"text\":\"topK\"},\"type\":\"log\"},\"yaxis3\":{\"anchor\":\"x3\",\"domain\":[0.0,1.0],\"matches\":\"y\",\"showticklabels\":false},\"title\":{\"text\":\"Slice Plot\"}},                        {\"responsive\": true}                    ).then(function(){\n",
       "                            \n",
       "var gd = document.getElementById('b0fceeeb-6efc-43ab-a4dd-0a2afdc9840f');\n",
       "var x = new MutationObserver(function (mutations, observer) {{\n",
       "        var display = window.getComputedStyle(gd).display;\n",
       "        if (!display || display === 'none') {{\n",
       "            console.log([gd, 'removed!']);\n",
       "            Plotly.purge(gd);\n",
       "            observer.disconnect();\n",
       "        }}\n",
       "}});\n",
       "\n",
       "// Listen for the removal of the full notebook cells\n",
       "var notebookContainer = gd.closest('#notebook-container');\n",
       "if (notebookContainer) {{\n",
       "    x.observe(notebookContainer, {childList: true});\n",
       "}}\n",
       "\n",
       "// Listen for the clearing of the current output cell\n",
       "var outputEl = gd.closest('.output');\n",
       "if (outputEl) {{\n",
       "    x.observe(outputEl, {childList: true});\n",
       "}}\n",
       "\n",
       "                        })                };                });            </script>        </div>"
      ]
     },
     "metadata": {},
     "output_type": "display_data"
    }
   ],
   "source": [
    "if config['tune_hybrid']:\n",
    "    fig = optuna.visualization.plot_slice(study)\n",
    "    fig.show()"
   ]
  },
  {
   "cell_type": "code",
   "execution_count": 37,
   "id": "edb6643d",
   "metadata": {
    "execution": {
     "iopub.execute_input": "2023-11-25T22:16:06.278141Z",
     "iopub.status.busy": "2023-11-25T22:16:06.277021Z",
     "iopub.status.idle": "2023-11-25T22:16:07.485093Z",
     "shell.execute_reply": "2023-11-25T22:16:07.483547Z"
    },
    "papermill": {
     "duration": 1.295355,
     "end_time": "2023-11-25T22:16:07.488281",
     "exception": false,
     "start_time": "2023-11-25T22:16:06.192926",
     "status": "completed"
    },
    "tags": []
   },
   "outputs": [],
   "source": [
    "if config['save_github'] and (config['tune_precision'] or config['tune_hybrid']):\n",
    "    upload_file(\n",
    "        config['database_path'],\n",
    "        'tuning_results/tuning_hybrid_precision.db', \n",
    "        'Hybrid pipeline results(from kaggle notebook)'\n",
    "    )"
   ]
  }
 ],
 "metadata": {
  "kaggle": {
   "accelerator": "none",
   "dataSources": [
    {
     "databundleVersionId": 6919098,
     "sourceId": 62803,
     "sourceType": "competition"
    },
    {
     "sourceId": 152024796,
     "sourceType": "kernelVersion"
    }
   ],
   "dockerImageVersionId": 30587,
   "isGpuEnabled": false,
   "isInternetEnabled": true,
   "language": "python",
   "sourceType": "notebook"
  },
  "kernelspec": {
   "display_name": "Python 3",
   "language": "python",
   "name": "python3"
  },
  "language_info": {
   "codemirror_mode": {
    "name": "ipython",
    "version": 3
   },
   "file_extension": ".py",
   "mimetype": "text/x-python",
   "name": "python",
   "nbconvert_exporter": "python",
   "pygments_lexer": "ipython3",
   "version": "3.10.12"
  },
  "papermill": {
   "default_parameters": {},
   "duration": 14826.276328,
   "end_time": "2023-11-25T22:16:09.039496",
   "environment_variables": {},
   "exception": null,
   "input_path": "__notebook__.ipynb",
   "output_path": "__notebook__.ipynb",
   "parameters": {},
   "start_time": "2023-11-25T18:09:02.763168",
   "version": "2.4.0"
  }
 },
 "nbformat": 4,
 "nbformat_minor": 5
}
