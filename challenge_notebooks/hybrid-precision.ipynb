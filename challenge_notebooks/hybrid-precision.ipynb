{
 "cells": [
  {
   "cell_type": "code",
   "execution_count": 1,
   "id": "d63b22c5",
   "metadata": {
    "_cell_guid": "b1076dfc-b9ad-4769-8c92-a6c4dae69d19",
    "_uuid": "8f2839f25d086af736a60e9eeb907d3b93b6e0e5",
    "execution": {
     "iopub.execute_input": "2023-11-24T23:59:19.212386Z",
     "iopub.status.busy": "2023-11-24T23:59:19.211897Z",
     "iopub.status.idle": "2023-11-24T23:59:21.187013Z",
     "shell.execute_reply": "2023-11-24T23:59:21.184732Z"
    },
    "papermill": {
     "duration": 1.988038,
     "end_time": "2023-11-24T23:59:21.189484",
     "exception": false,
     "start_time": "2023-11-24T23:59:19.201446",
     "status": "completed"
    },
    "tags": []
   },
   "outputs": [
    {
     "name": "stdout",
     "output_type": "stream",
     "text": [
      "Cloning into 'Recsys_Challenge_2023'...\r\n",
      "remote: Enumerating objects: 635, done.\u001b[K\r\n",
      "remote: Counting objects: 100% (65/65), done.\u001b[K\r\n",
      "remote: Compressing objects: 100% (64/64), done.\u001b[K\r\n",
      "remote: Total 635 (delta 44), reused 0 (delta 0), pack-reused 570\u001b[K\r\n",
      "Receiving objects: 100% (635/635), 13.41 MiB | 29.29 MiB/s, done.\r\n",
      "Resolving deltas: 100% (384/384), done.\r\n"
     ]
    }
   ],
   "source": [
    "from kaggle_secrets import UserSecretsClient\n",
    "secret_label = \"Token\"\n",
    "token = UserSecretsClient().get_secret(secret_label)\n",
    "\n",
    "! git clone https://{token}@github.com/CarloSgaravatti/Recsys_Challenge_2023.git"
   ]
  },
  {
   "cell_type": "code",
   "execution_count": 2,
   "id": "3ed16a56",
   "metadata": {
    "execution": {
     "iopub.execute_input": "2023-11-24T23:59:21.208408Z",
     "iopub.status.busy": "2023-11-24T23:59:21.208018Z",
     "iopub.status.idle": "2023-11-24T23:59:33.800736Z",
     "shell.execute_reply": "2023-11-24T23:59:33.799317Z"
    },
    "papermill": {
     "duration": 12.605466,
     "end_time": "2023-11-24T23:59:33.803585",
     "exception": false,
     "start_time": "2023-11-24T23:59:21.198119",
     "status": "completed"
    },
    "tags": []
   },
   "outputs": [
    {
     "name": "stdout",
     "output_type": "stream",
     "text": [
      "Collecting PyGithub\r\n",
      "  Obtaining dependency information for PyGithub from https://files.pythonhosted.org/packages/be/04/810d131be173cba445d3658a45512b2b2b3d0960d52c4a300d6ec5e00f52/PyGithub-2.1.1-py3-none-any.whl.metadata\r\n",
      "  Downloading PyGithub-2.1.1-py3-none-any.whl.metadata (2.2 kB)\r\n",
      "Requirement already satisfied: requests in /opt/conda/lib/python3.10/site-packages (2.31.0)\r\n",
      "Collecting pynacl>=1.4.0 (from PyGithub)\r\n",
      "  Downloading PyNaCl-1.5.0-cp36-abi3-manylinux_2_17_x86_64.manylinux2014_x86_64.manylinux_2_24_x86_64.whl (856 kB)\r\n",
      "\u001b[2K     \u001b[90m━━━━━━━━━━━━━━━━━━━━━━━━━━━━━━━━━━━━━━\u001b[0m \u001b[32m856.7/856.7 kB\u001b[0m \u001b[31m11.2 MB/s\u001b[0m eta \u001b[36m0:00:00\u001b[0m\r\n",
      "\u001b[?25hRequirement already satisfied: python-dateutil in /opt/conda/lib/python3.10/site-packages (from PyGithub) (2.8.2)\r\n",
      "Requirement already satisfied: pyjwt[crypto]>=2.4.0 in /opt/conda/lib/python3.10/site-packages (from PyGithub) (2.8.0)\r\n",
      "Requirement already satisfied: typing-extensions>=4.0.0 in /opt/conda/lib/python3.10/site-packages (from PyGithub) (4.5.0)\r\n",
      "Requirement already satisfied: urllib3>=1.26.0 in /opt/conda/lib/python3.10/site-packages (from PyGithub) (1.26.15)\r\n",
      "Requirement already satisfied: Deprecated in /opt/conda/lib/python3.10/site-packages (from PyGithub) (1.2.14)\r\n",
      "Requirement already satisfied: charset-normalizer<4,>=2 in /opt/conda/lib/python3.10/site-packages (from requests) (3.2.0)\r\n",
      "Requirement already satisfied: idna<4,>=2.5 in /opt/conda/lib/python3.10/site-packages (from requests) (3.4)\r\n",
      "Requirement already satisfied: certifi>=2017.4.17 in /opt/conda/lib/python3.10/site-packages (from requests) (2023.7.22)\r\n",
      "Requirement already satisfied: cryptography>=3.4.0 in /opt/conda/lib/python3.10/site-packages (from pyjwt[crypto]>=2.4.0->PyGithub) (41.0.3)\r\n",
      "Requirement already satisfied: cffi>=1.4.1 in /opt/conda/lib/python3.10/site-packages (from pynacl>=1.4.0->PyGithub) (1.15.1)\r\n",
      "Requirement already satisfied: wrapt<2,>=1.10 in /opt/conda/lib/python3.10/site-packages (from Deprecated->PyGithub) (1.15.0)\r\n",
      "Requirement already satisfied: six>=1.5 in /opt/conda/lib/python3.10/site-packages (from python-dateutil->PyGithub) (1.16.0)\r\n",
      "Requirement already satisfied: pycparser in /opt/conda/lib/python3.10/site-packages (from cffi>=1.4.1->pynacl>=1.4.0->PyGithub) (2.21)\r\n",
      "Downloading PyGithub-2.1.1-py3-none-any.whl (302 kB)\r\n",
      "\u001b[2K   \u001b[90m━━━━━━━━━━━━━━━━━━━━━━━━━━━━━━━━━━━━━━━━\u001b[0m \u001b[32m302.9/302.9 kB\u001b[0m \u001b[31m22.3 MB/s\u001b[0m eta \u001b[36m0:00:00\u001b[0m\r\n",
      "\u001b[?25hInstalling collected packages: pynacl, PyGithub\r\n",
      "Successfully installed PyGithub-2.1.1 pynacl-1.5.0\r\n"
     ]
    }
   ],
   "source": [
    "! pip install PyGithub requests"
   ]
  },
  {
   "cell_type": "code",
   "execution_count": 3,
   "id": "c27e5462",
   "metadata": {
    "_kg_hide-output": true,
    "execution": {
     "iopub.execute_input": "2023-11-24T23:59:33.823949Z",
     "iopub.status.busy": "2023-11-24T23:59:33.823594Z",
     "iopub.status.idle": "2023-11-25T00:01:26.781497Z",
     "shell.execute_reply": "2023-11-25T00:01:26.780645Z"
    },
    "papermill": {
     "duration": 112.970847,
     "end_time": "2023-11-25T00:01:26.783736",
     "exception": false,
     "start_time": "2023-11-24T23:59:33.812889",
     "status": "completed"
    },
    "scrolled": true,
    "tags": []
   },
   "outputs": [
    {
     "name": "stdout",
     "output_type": "stream",
     "text": [
      "run_compile_all_cython: Found 10 Cython files in 4 folders...\r\n",
      "run_compile_all_cython: All files will be compiled using your current python environment: '/opt/conda/bin/python'\r\n",
      "Compiling [1/10]: MatrixFactorization_Cython_Epoch.pyx... \r\n",
      "In file included from \u001b[01m\u001b[K/opt/conda/lib/python3.10/site-packages/numpy/core/include/numpy/ndarraytypes.h:1940\u001b[m\u001b[K,\r\n",
      "                 from \u001b[01m\u001b[K/opt/conda/lib/python3.10/site-packages/numpy/core/include/numpy/ndarrayobject.h:12\u001b[m\u001b[K,\r\n",
      "                 from \u001b[01m\u001b[K/opt/conda/lib/python3.10/site-packages/numpy/core/include/numpy/arrayobject.h:5\u001b[m\u001b[K,\r\n",
      "                 from \u001b[01m\u001b[KMatrixFactorization_Cython_Epoch.c:1109\u001b[m\u001b[K:\r\n",
      "\u001b[01m\u001b[K/opt/conda/lib/python3.10/site-packages/numpy/core/include/numpy/npy_1_7_deprecated_api.h:17:2:\u001b[m\u001b[K \u001b[01;35m\u001b[Kwarning: \u001b[m\u001b[K#warning \"Using deprecated NumPy API, disable it with \" \"#define NPY_NO_DEPRECATED_API NPY_1_7_API_VERSION\" [\u001b[01;35m\u001b[K-Wcpp\u001b[m\u001b[K]\r\n",
      "   17 | #\u001b[01;35m\u001b[Kwarning\u001b[m\u001b[K \"Using deprecated NumPy API, disable it with \" \\\r\n",
      "      |  \u001b[01;35m\u001b[K^~~~~~~\u001b[m\u001b[K\r\n",
      "\u001b[01m\u001b[KMatrixFactorization_Cython_Epoch.c:\u001b[m\u001b[K In function ‘\u001b[01m\u001b[K__pyx_pf_32MatrixFactorization_Cython_Epoch_32MatrixFactorization_Cython_Epoch_10epochIteration_Cython_ASY_SVD_SGD\u001b[m\u001b[K’:\r\n",
      "\u001b[01m\u001b[KMatrixFactorization_Cython_Epoch.c:25614:9:\u001b[m\u001b[K \u001b[01;35m\u001b[Kwarning: \u001b[m\u001b[K‘\u001b[01m\u001b[K__pyx_v_end_pos_seen_items\u001b[m\u001b[K’ may be used uninitialized in this function [\u001b[01;35m\u001b[K-Wmaybe-uninitialized\u001b[m\u001b[K]\r\n",
      "25614 |         \u001b[01;35m\u001b[Kfor\u001b[m\u001b[K (__pyx_t_21 = __pyx_v_start_pos_seen_items; __pyx_t_21 < __pyx_t_20; __pyx_t_21+=1) {\r\n",
      "      |         \u001b[01;35m\u001b[K^~~\u001b[m\u001b[K\r\n",
      "\u001b[01m\u001b[KMatrixFactorization_Cython_Epoch.c:25614:9:\u001b[m\u001b[K \u001b[01;35m\u001b[Kwarning: \u001b[m\u001b[K‘\u001b[01m\u001b[K__pyx_v_start_pos_seen_items\u001b[m\u001b[K’ may be used uninitialized in this function [\u001b[01;35m\u001b[K-Wmaybe-uninitialized\u001b[m\u001b[K]\r\n",
      "/opt/conda/lib/python3.10/site-packages/Cython/Compiler/Main.py:381: FutureWarning: Cython directive 'language_level' not set, using '3str' for now (Py3). This has changed from earlier releases! File: /kaggle/working/Recsys_Challenge_2023/Recommenders/MatrixFactorization/Cython/MatrixFactorization_Cython_Epoch.pyx\r\n",
      "  tree = Parsing.p_module(s, pxd, full_module_name)\r\n",
      "Compiling [1/10]: MatrixFactorization_Cython_Epoch.pyx... PASS\r\n",
      "\r\n",
      "Compiling [2/10]: MatrixFactorizationImpressions_Cython_Epoch.pyx... \r\n",
      "In file included from \u001b[01m\u001b[K/opt/conda/lib/python3.10/site-packages/numpy/core/include/numpy/ndarraytypes.h:1940\u001b[m\u001b[K,\r\n",
      "                 from \u001b[01m\u001b[K/opt/conda/lib/python3.10/site-packages/numpy/core/include/numpy/ndarrayobject.h:12\u001b[m\u001b[K,\r\n",
      "                 from \u001b[01m\u001b[K/opt/conda/lib/python3.10/site-packages/numpy/core/include/numpy/arrayobject.h:5\u001b[m\u001b[K,\r\n",
      "                 from \u001b[01m\u001b[KMatrixFactorizationImpressions_Cython_Epoch.c:1109\u001b[m\u001b[K:\r\n",
      "\u001b[01m\u001b[K/opt/conda/lib/python3.10/site-packages/numpy/core/include/numpy/npy_1_7_deprecated_api.h:17:2:\u001b[m\u001b[K \u001b[01;35m\u001b[Kwarning: \u001b[m\u001b[K#warning \"Using deprecated NumPy API, disable it with \" \"#define NPY_NO_DEPRECATED_API NPY_1_7_API_VERSION\" [\u001b[01;35m\u001b[K-Wcpp\u001b[m\u001b[K]\r\n",
      "   17 | #\u001b[01;35m\u001b[Kwarning\u001b[m\u001b[K \"Using deprecated NumPy API, disable it with \" \\\r\n",
      "      |  \u001b[01;35m\u001b[K^~~~~~~\u001b[m\u001b[K\r\n",
      "\u001b[01m\u001b[KMatrixFactorizationImpressions_Cython_Epoch.c:\u001b[m\u001b[K In function ‘\u001b[01m\u001b[K__pyx_f_43MatrixFactorizationImpressions_Cython_Epoch_32MatrixFactorization_Cython_Epoch_sampleBPR_Cython\u001b[m\u001b[K’:\r\n",
      "\u001b[01m\u001b[KMatrixFactorizationImpressions_Cython_Epoch.c:29664:17:\u001b[m\u001b[K \u001b[01;35m\u001b[Kwarning: \u001b[m\u001b[K‘\u001b[01m\u001b[K__pyx_v_start_pos_impression_items\u001b[m\u001b[K’ may be used uninitialized in this function [\u001b[01;35m\u001b[K-Wmaybe-uninitialized\u001b[m\u001b[K]\r\n",
      "29664 |       \u001b[01;35m\u001b[K__pyx_t_4 = (__pyx_v_start_pos_impression_items + __pyx_v_index)\u001b[m\u001b[K;\r\n",
      "      |       \u001b[01;35m\u001b[K~~~~~~~~~~^~~~~~~~~~~~~~~~~~~~~~~~~~~~~~~~~~~~~~~~~~~~~~~~~~~~~~\u001b[m\u001b[K\r\n",
      "\u001b[01m\u001b[KMatrixFactorizationImpressions_Cython_Epoch.c:\u001b[m\u001b[K In function ‘\u001b[01m\u001b[K__pyx_pf_43MatrixFactorizationImpressions_Cython_Epoch_32MatrixFactorization_Cython_Epoch_10epochIteration_Cython_ASY_SVD_SGD\u001b[m\u001b[K’:\r\n",
      "\u001b[01m\u001b[KMatrixFactorizationImpressions_Cython_Epoch.c:25474:7:\u001b[m\u001b[K \u001b[01;35m\u001b[Kwarning: \u001b[m\u001b[K‘\u001b[01m\u001b[K__pyx_v_end_pos_seen_items\u001b[m\u001b[K’ may be used uninitialized in this function [\u001b[01;35m\u001b[K-Wmaybe-uninitialized\u001b[m\u001b[K]\r\n",
      "25474 |       \u001b[01;35m\u001b[Kfor\u001b[m\u001b[K (__pyx_t_21 = __pyx_v_start_pos_seen_items; __pyx_t_21 < __pyx_t_20; __pyx_t_21+=1) {\r\n",
      "      |       \u001b[01;35m\u001b[K^~~\u001b[m\u001b[K\r\n",
      "\u001b[01m\u001b[KMatrixFactorizationImpressions_Cython_Epoch.c:25474:7:\u001b[m\u001b[K \u001b[01;35m\u001b[Kwarning: \u001b[m\u001b[K‘\u001b[01m\u001b[K__pyx_v_start_pos_seen_items\u001b[m\u001b[K’ may be used uninitialized in this function [\u001b[01;35m\u001b[K-Wmaybe-uninitialized\u001b[m\u001b[K]\r\n",
      "/opt/conda/lib/python3.10/site-packages/Cython/Compiler/Main.py:381: FutureWarning: Cython directive 'language_level' not set, using '3str' for now (Py3). This has changed from earlier releases! File: /kaggle/working/Recsys_Challenge_2023/Recommenders/MatrixFactorization/Cython/MatrixFactorizationImpressions_Cython_Epoch.pyx\r\n",
      "  tree = Parsing.p_module(s, pxd, full_module_name)\r\n",
      "Compiling [2/10]: MatrixFactorizationImpressions_Cython_Epoch.pyx... PASS\r\n",
      "\r\n",
      "Compiling [3/10]: Compute_Similarity_Cython.pyx... \r\n",
      "warning: Compute_Similarity_Cython.pyx:21:0: The 'IF' statement is deprecated and will be removed in a future Cython version. Consider using runtime conditions or C macros instead. See https://github.com/cython/cython/issues/4310\r\n",
      "warning: Compute_Similarity_Cython.pyx:22:4: The 'DEF' statement is deprecated and will be removed in a future Cython version. Consider using global variables, constants, and in-place literals instead. See https://github.com/cython/cython/issues/4310\r\n",
      "warning: Compute_Similarity_Cython.pyx:24:4: The 'DEF' statement is deprecated and will be removed in a future Cython version. Consider using global variables, constants, and in-place literals instead. See https://github.com/cython/cython/issues/4310\r\n",
      "warning: Compute_Similarity_Cython.pyx:26:4: The 'DEF' statement is deprecated and will be removed in a future Cython version. Consider using global variables, constants, and in-place literals instead. See https://github.com/cython/cython/issues/4310\r\n",
      "In file included from \u001b[01m\u001b[K/opt/conda/lib/python3.10/site-packages/numpy/core/include/numpy/ndarraytypes.h:1940\u001b[m\u001b[K,\r\n",
      "                 from \u001b[01m\u001b[K/opt/conda/lib/python3.10/site-packages/numpy/core/include/numpy/ndarrayobject.h:12\u001b[m\u001b[K,\r\n",
      "                 from \u001b[01m\u001b[K/opt/conda/lib/python3.10/site-packages/numpy/core/include/numpy/arrayobject.h:5\u001b[m\u001b[K,\r\n",
      "                 from \u001b[01m\u001b[KCompute_Similarity_Cython.c:1109\u001b[m\u001b[K:\r\n",
      "\u001b[01m\u001b[K/opt/conda/lib/python3.10/site-packages/numpy/core/include/numpy/npy_1_7_deprecated_api.h:17:2:\u001b[m\u001b[K \u001b[01;35m\u001b[Kwarning: \u001b[m\u001b[K#warning \"Using deprecated NumPy API, disable it with \" \"#define NPY_NO_DEPRECATED_API NPY_1_7_API_VERSION\" [\u001b[01;35m\u001b[K-Wcpp\u001b[m\u001b[K]\r\n",
      "   17 | #\u001b[01;35m\u001b[Kwarning\u001b[m\u001b[K \"Using deprecated NumPy API, disable it with \" \\\r\n",
      "      |  \u001b[01;35m\u001b[K^~~~~~~\u001b[m\u001b[K\r\n",
      "/opt/conda/lib/python3.10/site-packages/Cython/Compiler/Main.py:381: FutureWarning: Cython directive 'language_level' not set, using '3str' for now (Py3). This has changed from earlier releases! File: /kaggle/working/Recsys_Challenge_2023/Recommenders/Similarity/Cython/Compute_Similarity_Cython.pyx\r\n",
      "  tree = Parsing.p_module(s, pxd, full_module_name)\r\n",
      "warning: Compute_Similarity_Cython.pyx:21:0: The 'IF' statement is deprecated and will be removed in a future Cython version. Consider using runtime conditions or C macros instead. See https://github.com/cython/cython/issues/4310\r\n",
      "warning: Compute_Similarity_Cython.pyx:22:4: The 'DEF' statement is deprecated and will be removed in a future Cython version. Consider using global variables, constants, and in-place literals instead. See https://github.com/cython/cython/issues/4310\r\n",
      "warning: Compute_Similarity_Cython.pyx:24:4: The 'DEF' statement is deprecated and will be removed in a future Cython version. Consider using global variables, constants, and in-place literals instead. See https://github.com/cython/cython/issues/4310\r\n",
      "warning: Compute_Similarity_Cython.pyx:26:4: The 'DEF' statement is deprecated and will be removed in a future Cython version. Consider using global variables, constants, and in-place literals instead. See https://github.com/cython/cython/issues/4310\r\n",
      "Compiling [3/10]: Compute_Similarity_Cython.pyx... PASS\r\n",
      "\r\n",
      "Compiling [4/10]: Triangular_Matrix.pyx... \r\n",
      "warning: Triangular_Matrix.pyx:22:0: The 'IF' statement is deprecated and will be removed in a future Cython version. Consider using runtime conditions or C macros instead. See https://github.com/cython/cython/issues/4310\r\n",
      "warning: Triangular_Matrix.pyx:23:4: The 'DEF' statement is deprecated and will be removed in a future Cython version. Consider using global variables, constants, and in-place literals instead. See https://github.com/cython/cython/issues/4310\r\n",
      "warning: Triangular_Matrix.pyx:25:4: The 'DEF' statement is deprecated and will be removed in a future Cython version. Consider using global variables, constants, and in-place literals instead. See https://github.com/cython/cython/issues/4310\r\n",
      "warning: Triangular_Matrix.pyx:27:4: The 'DEF' statement is deprecated and will be removed in a future Cython version. Consider using global variables, constants, and in-place literals instead. See https://github.com/cython/cython/issues/4310\r\n",
      "In file included from \u001b[01m\u001b[K/opt/conda/lib/python3.10/site-packages/numpy/core/include/numpy/ndarraytypes.h:1940\u001b[m\u001b[K,\r\n",
      "                 from \u001b[01m\u001b[K/opt/conda/lib/python3.10/site-packages/numpy/core/include/numpy/ndarrayobject.h:12\u001b[m\u001b[K,\r\n",
      "                 from \u001b[01m\u001b[K/opt/conda/lib/python3.10/site-packages/numpy/core/include/numpy/arrayobject.h:5\u001b[m\u001b[K,\r\n",
      "                 from \u001b[01m\u001b[KTriangular_Matrix.c:1109\u001b[m\u001b[K:\r\n",
      "\u001b[01m\u001b[K/opt/conda/lib/python3.10/site-packages/numpy/core/include/numpy/npy_1_7_deprecated_api.h:17:2:\u001b[m\u001b[K \u001b[01;35m\u001b[Kwarning: \u001b[m\u001b[K#warning \"Using deprecated NumPy API, disable it with \" \"#define NPY_NO_DEPRECATED_API NPY_1_7_API_VERSION\" [\u001b[01;35m\u001b[K-Wcpp\u001b[m\u001b[K]\r\n",
      "   17 | #\u001b[01;35m\u001b[Kwarning\u001b[m\u001b[K \"Using deprecated NumPy API, disable it with \" \\\r\n",
      "      |  \u001b[01;35m\u001b[K^~~~~~~\u001b[m\u001b[K\r\n",
      "/opt/conda/lib/python3.10/site-packages/Cython/Compiler/Main.py:381: FutureWarning: Cython directive 'language_level' not set, using '3str' for now (Py3). This has changed from earlier releases! File: /kaggle/working/Recsys_Challenge_2023/Recommenders/SLIM/Cython/Triangular_Matrix.pyx\r\n",
      "  tree = Parsing.p_module(s, pxd, full_module_name)\r\n",
      "warning: Triangular_Matrix.pyx:22:0: The 'IF' statement is deprecated and will be removed in a future Cython version. Consider using runtime conditions or C macros instead. See https://github.com/cython/cython/issues/4310\r\n",
      "warning: Triangular_Matrix.pyx:23:4: The 'DEF' statement is deprecated and will be removed in a future Cython version. Consider using global variables, constants, and in-place literals instead. See https://github.com/cython/cython/issues/4310\r\n",
      "warning: Triangular_Matrix.pyx:25:4: The 'DEF' statement is deprecated and will be removed in a future Cython version. Consider using global variables, constants, and in-place literals instead. See https://github.com/cython/cython/issues/4310\r\n",
      "warning: Triangular_Matrix.pyx:27:4: The 'DEF' statement is deprecated and will be removed in a future Cython version. Consider using global variables, constants, and in-place literals instead. See https://github.com/cython/cython/issues/4310\r\n",
      "Compiling [4/10]: Triangular_Matrix.pyx... PASS\r\n",
      "\r\n",
      "Compiling [5/10]: Sparse_Matrix_Tree_CSR.pyx... \r\n",
      "warning: Sparse_Matrix_Tree_CSR.pyx:132:34: Non-trivial type declarators in shared declaration (e.g. mix of pointers and values). Each pointer declaration should be on its own line.\r\n",
      "warning: Sparse_Matrix_Tree_CSR.pyx:132:66: Non-trivial type declarators in shared declaration (e.g. mix of pointers and values). Each pointer declaration should be on its own line.\r\n",
      "warning: Sparse_Matrix_Tree_CSR.pyx:343:35: Non-trivial type declarators in shared declaration (e.g. mix of pointers and values). Each pointer declaration should be on its own line.\r\n",
      "warning: Sparse_Matrix_Tree_CSR.pyx:343:52: Non-trivial type declarators in shared declaration (e.g. mix of pointers and values). Each pointer declaration should be on its own line.\r\n",
      "warning: Sparse_Matrix_Tree_CSR.pyx:442:35: Non-trivial type declarators in shared declaration (e.g. mix of pointers and values). Each pointer declaration should be on its own line.\r\n",
      "warning: Sparse_Matrix_Tree_CSR.pyx:442:53: Non-trivial type declarators in shared declaration (e.g. mix of pointers and values). Each pointer declaration should be on its own line.\r\n",
      "warning: Sparse_Matrix_Tree_CSR.pyx:442:69: Non-trivial type declarators in shared declaration (e.g. mix of pointers and values). Each pointer declaration should be on its own line.\r\n",
      "warning: Sparse_Matrix_Tree_CSR.pyx:577:35: Non-trivial type declarators in shared declaration (e.g. mix of pointers and values). Each pointer declaration should be on its own line.\r\n",
      "warning: Sparse_Matrix_Tree_CSR.pyx:577:42: Non-trivial type declarators in shared declaration (e.g. mix of pointers and values). Each pointer declaration should be on its own line.\r\n",
      "warning: Sparse_Matrix_Tree_CSR.pyx:578:35: Non-trivial type declarators in shared declaration (e.g. mix of pointers and values). Each pointer declaration should be on its own line.\r\n",
      "warning: Sparse_Matrix_Tree_CSR.pyx:578:53: Non-trivial type declarators in shared declaration (e.g. mix of pointers and values). Each pointer declaration should be on its own line.\r\n",
      "\r\n",
      "Error compiling Cython file:\r\n",
      "------------------------------------------------------------\r\n",
      "...\r\n",
      "            vector_pointer_to_list_elements[index].head = current_element\r\n",
      "            current_element = current_element.higher\r\n",
      "\r\n",
      "\r\n",
      "        # Sort array elements on their data field\r\n",
      "        qsort(vector_pointer_to_list_elements, list_length, sizeof(head_pointer_tree_s), compare_struct_on_data)\r\n",
      "                                                                                         ^\r\n",
      "------------------------------------------------------------\r\n",
      "\r\n",
      "Sparse_Matrix_Tree_CSR.pyx:516:89: Cannot assign type 'int (const void *, const void *) except? -1' to 'int (*)(const_void *, const_void *) noexcept'\r\n",
      "\r\n",
      "Error compiling Cython file:\r\n",
      "------------------------------------------------------------\r\n",
      "...\r\n",
      "        # Sort array elements on their data field\r\n",
      "        qsort(vector_pointer_to_list_elements, list_length, sizeof(head_pointer_tree_s), compare_struct_on_data)\r\n",
      "\r\n",
      "        # Sort only the TopK according to their column field\r\n",
      "        # Sort is from lower to higher, therefore the elements to be considered are from len-topK to len\r\n",
      "        qsort(&vector_pointer_to_list_elements[list_length-TopK], TopK, sizeof(head_pointer_tree_s), compare_struct_on_column)\r\n",
      "                                                                                                     ^\r\n",
      "------------------------------------------------------------\r\n",
      "\r\n",
      "Sparse_Matrix_Tree_CSR.pyx:520:101: Cannot assign type 'int (const void *, const void *) except? -1' to 'int (*)(const_void *, const_void *) noexcept'\r\n",
      "Traceback (most recent call last):\r\n",
      "  File \"/kaggle/working/Recsys_Challenge_2023/CythonCompiler/compile_script.py\", line 48, in <module>\r\n",
      "    setup(\r\n",
      "  File \"/opt/conda/lib/python3.10/site-packages/setuptools/__init__.py\", line 107, in setup\r\n",
      "    return distutils.core.setup(**attrs)\r\n",
      "  File \"/opt/conda/lib/python3.10/site-packages/setuptools/_distutils/core.py\", line 185, in setup\r\n",
      "    return run_commands(dist)\r\n",
      "  File \"/opt/conda/lib/python3.10/site-packages/setuptools/_distutils/core.py\", line 201, in run_commands\r\n",
      "    dist.run_commands()\r\n",
      "  File \"/opt/conda/lib/python3.10/site-packages/setuptools/_distutils/dist.py\", line 969, in run_commands\r\n",
      "    self.run_command(cmd)\r\n",
      "  File \"/opt/conda/lib/python3.10/site-packages/setuptools/dist.py\", line 1233, in run_command\r\n",
      "    super().run_command(command)\r\n",
      "  File \"/opt/conda/lib/python3.10/site-packages/setuptools/_distutils/dist.py\", line 988, in run_command\r\n",
      "    cmd_obj.run()\r\n",
      "  File \"/opt/conda/lib/python3.10/site-packages/setuptools/_distutils/command/build_ext.py\", line 345, in run\r\n",
      "    self.build_extensions()\r\n",
      "  File \"/opt/conda/lib/python3.10/site-packages/setuptools/_distutils/command/build_ext.py\", line 467, in build_extensions\r\n",
      "    self._build_extensions_serial()\r\n",
      "  File \"/opt/conda/lib/python3.10/site-packages/setuptools/_distutils/command/build_ext.py\", line 493, in _build_extensions_serial\r\n",
      "    self.build_extension(ext)\r\n",
      "  File \"/opt/conda/lib/python3.10/site-packages/Cython/Distutils/build_ext.py\", line 122, in build_extension\r\n",
      "    new_ext = cythonize(\r\n",
      "  File \"/opt/conda/lib/python3.10/site-packages/Cython/Build/Dependencies.py\", line 1134, in cythonize\r\n",
      "    cythonize_one(*args)\r\n",
      "  File \"/opt/conda/lib/python3.10/site-packages/Cython/Build/Dependencies.py\", line 1301, in cythonize_one\r\n",
      "    raise CompileError(None, pyx_file)\r\n",
      "Cython.Compiler.Errors.CompileError: Sparse_Matrix_Tree_CSR.pyx\r\n",
      "Traceback (most recent call last):\r\n",
      "  File \"/kaggle/working/Recsys_Challenge_2023/run_compile_all_cython.py\", line 59, in <module>\r\n",
      "    run_compile_subprocess(file_path, [file_name])\r\n",
      "  File \"/kaggle/working/Recsys_Challenge_2023/CythonCompiler/run_compile_subprocess.py\", line 51, in run_compile_subprocess\r\n",
      "    raise exc\r\n",
      "  File \"/kaggle/working/Recsys_Challenge_2023/CythonCompiler/run_compile_subprocess.py\", line 32, in run_compile_subprocess\r\n",
      "    output = subprocess.check_output(' '.join(command),\r\n",
      "  File \"/opt/conda/lib/python3.10/subprocess.py\", line 421, in check_output\r\n",
      "    return run(*popenargs, stdout=PIPE, timeout=timeout, check=True,\r\n",
      "  File \"/opt/conda/lib/python3.10/subprocess.py\", line 526, in run\r\n",
      "    raise CalledProcessError(retcode, process.args,\r\n",
      "subprocess.CalledProcessError: Command '/opt/conda/bin/python /kaggle/working/Recsys_Challenge_2023/CythonCompiler/compile_script.py Sparse_Matrix_Tree_CSR.pyx build_ext --inplace' returned non-zero exit status 1.\r\n",
      "Compiling [5/10]: Sparse_Matrix_Tree_CSR.pyx... FAIL: Command '/opt/conda/bin/python /kaggle/working/Recsys_Challenge_2023/CythonCompiler/compile_script.py Sparse_Matrix_Tree_CSR.pyx build_ext --inplace' returned non-zero exit status 1.\r\n",
      "\r\n",
      "Compiling [6/10]: SLIM_BPR_Cython_Epoch.pyx... \r\n",
      "warning: SLIM_BPR_Cython_Epoch.pyx:24:0: The 'IF' statement is deprecated and will be removed in a future Cython version. Consider using runtime conditions or C macros instead. See https://github.com/cython/cython/issues/4310\r\n",
      "warning: SLIM_BPR_Cython_Epoch.pyx:25:4: The 'DEF' statement is deprecated and will be removed in a future Cython version. Consider using global variables, constants, and in-place literals instead. See https://github.com/cython/cython/issues/4310\r\n",
      "warning: SLIM_BPR_Cython_Epoch.pyx:27:4: The 'DEF' statement is deprecated and will be removed in a future Cython version. Consider using global variables, constants, and in-place literals instead. See https://github.com/cython/cython/issues/4310\r\n",
      "warning: SLIM_BPR_Cython_Epoch.pyx:29:4: The 'DEF' statement is deprecated and will be removed in a future Cython version. Consider using global variables, constants, and in-place literals instead. See https://github.com/cython/cython/issues/4310\r\n",
      "warning: SLIM_BPR_Cython_Epoch.pyx:632:34: Non-trivial type declarators in shared declaration (e.g. mix of pointers and values). Each pointer declaration should be on its own line.\r\n",
      "warning: SLIM_BPR_Cython_Epoch.pyx:632:66: Non-trivial type declarators in shared declaration (e.g. mix of pointers and values). Each pointer declaration should be on its own line.\r\n",
      "warning: SLIM_BPR_Cython_Epoch.pyx:817:35: Non-trivial type declarators in shared declaration (e.g. mix of pointers and values). Each pointer declaration should be on its own line.\r\n",
      "warning: SLIM_BPR_Cython_Epoch.pyx:817:52: Non-trivial type declarators in shared declaration (e.g. mix of pointers and values). Each pointer declaration should be on its own line.\r\n",
      "warning: SLIM_BPR_Cython_Epoch.pyx:916:35: Non-trivial type declarators in shared declaration (e.g. mix of pointers and values). Each pointer declaration should be on its own line.\r\n",
      "warning: SLIM_BPR_Cython_Epoch.pyx:916:53: Non-trivial type declarators in shared declaration (e.g. mix of pointers and values). Each pointer declaration should be on its own line.\r\n",
      "warning: SLIM_BPR_Cython_Epoch.pyx:916:69: Non-trivial type declarators in shared declaration (e.g. mix of pointers and values). Each pointer declaration should be on its own line.\r\n",
      "warning: SLIM_BPR_Cython_Epoch.pyx:1051:35: Non-trivial type declarators in shared declaration (e.g. mix of pointers and values). Each pointer declaration should be on its own line.\r\n",
      "warning: SLIM_BPR_Cython_Epoch.pyx:1051:42: Non-trivial type declarators in shared declaration (e.g. mix of pointers and values). Each pointer declaration should be on its own line.\r\n",
      "warning: SLIM_BPR_Cython_Epoch.pyx:1052:35: Non-trivial type declarators in shared declaration (e.g. mix of pointers and values). Each pointer declaration should be on its own line.\r\n",
      "warning: SLIM_BPR_Cython_Epoch.pyx:1052:53: Non-trivial type declarators in shared declaration (e.g. mix of pointers and values). Each pointer declaration should be on its own line.\r\n",
      "\r\n",
      "Error compiling Cython file:\r\n",
      "------------------------------------------------------------\r\n",
      "...\r\n",
      "            vector_pointer_to_list_elements[index].head = current_element\r\n",
      "            current_element = current_element.higher\r\n",
      "\r\n",
      "\r\n",
      "        # Sort array elements on their data field\r\n",
      "        qsort(vector_pointer_to_list_elements, list_length, sizeof(head_pointer_tree_s), compare_struct_on_data)\r\n",
      "                                                                                         ^\r\n",
      "------------------------------------------------------------\r\n",
      "\r\n",
      "SLIM_BPR_Cython_Epoch.pyx:990:89: Cannot assign type 'int (const void *, const void *) except? -1' to 'int (*)(const_void *, const_void *) noexcept'\r\n",
      "\r\n",
      "Error compiling Cython file:\r\n",
      "------------------------------------------------------------\r\n",
      "...\r\n",
      "        # Sort array elements on their data field\r\n",
      "        qsort(vector_pointer_to_list_elements, list_length, sizeof(head_pointer_tree_s), compare_struct_on_data)\r\n",
      "\r\n",
      "        # Sort only the TopK according to their column field\r\n",
      "        # Sort is from lower to higher, therefore the elements to be considered are from len-topK to len\r\n",
      "        qsort(&vector_pointer_to_list_elements[list_length-TopK], TopK, sizeof(head_pointer_tree_s), compare_struct_on_column)\r\n",
      "                                                                                                     ^\r\n",
      "------------------------------------------------------------\r\n",
      "\r\n",
      "SLIM_BPR_Cython_Epoch.pyx:994:101: Cannot assign type 'int (const void *, const void *) except? -1' to 'int (*)(const_void *, const_void *) noexcept'\r\n",
      "Traceback (most recent call last):\r\n",
      "  File \"/kaggle/working/Recsys_Challenge_2023/CythonCompiler/compile_script.py\", line 48, in <module>\r\n",
      "    setup(\r\n",
      "  File \"/opt/conda/lib/python3.10/site-packages/setuptools/__init__.py\", line 107, in setup\r\n",
      "    return distutils.core.setup(**attrs)\r\n",
      "  File \"/opt/conda/lib/python3.10/site-packages/setuptools/_distutils/core.py\", line 185, in setup\r\n",
      "    return run_commands(dist)\r\n",
      "  File \"/opt/conda/lib/python3.10/site-packages/setuptools/_distutils/core.py\", line 201, in run_commands\r\n",
      "    dist.run_commands()\r\n",
      "  File \"/opt/conda/lib/python3.10/site-packages/setuptools/_distutils/dist.py\", line 969, in run_commands\r\n",
      "    self.run_command(cmd)\r\n",
      "  File \"/opt/conda/lib/python3.10/site-packages/setuptools/dist.py\", line 1233, in run_command\r\n",
      "    super().run_command(command)\r\n",
      "  File \"/opt/conda/lib/python3.10/site-packages/setuptools/_distutils/dist.py\", line 988, in run_command\r\n",
      "    cmd_obj.run()\r\n",
      "  File \"/opt/conda/lib/python3.10/site-packages/setuptools/_distutils/command/build_ext.py\", line 345, in run\r\n",
      "    self.build_extensions()\r\n",
      "  File \"/opt/conda/lib/python3.10/site-packages/setuptools/_distutils/command/build_ext.py\", line 467, in build_extensions\r\n",
      "    self._build_extensions_serial()\r\n",
      "  File \"/opt/conda/lib/python3.10/site-packages/setuptools/_distutils/command/build_ext.py\", line 493, in _build_extensions_serial\r\n",
      "    self.build_extension(ext)\r\n",
      "  File \"/opt/conda/lib/python3.10/site-packages/Cython/Distutils/build_ext.py\", line 122, in build_extension\r\n",
      "    new_ext = cythonize(\r\n",
      "  File \"/opt/conda/lib/python3.10/site-packages/Cython/Build/Dependencies.py\", line 1134, in cythonize\r\n",
      "    cythonize_one(*args)\r\n",
      "  File \"/opt/conda/lib/python3.10/site-packages/Cython/Build/Dependencies.py\", line 1301, in cythonize_one\r\n",
      "    raise CompileError(None, pyx_file)\r\n",
      "Cython.Compiler.Errors.CompileError: SLIM_BPR_Cython_Epoch.pyx\r\n",
      "Traceback (most recent call last):\r\n",
      "  File \"/kaggle/working/Recsys_Challenge_2023/run_compile_all_cython.py\", line 59, in <module>\r\n",
      "    run_compile_subprocess(file_path, [file_name])\r\n",
      "  File \"/kaggle/working/Recsys_Challenge_2023/CythonCompiler/run_compile_subprocess.py\", line 51, in run_compile_subprocess\r\n",
      "    raise exc\r\n",
      "  File \"/kaggle/working/Recsys_Challenge_2023/CythonCompiler/run_compile_subprocess.py\", line 32, in run_compile_subprocess\r\n",
      "    output = subprocess.check_output(' '.join(command),\r\n",
      "  File \"/opt/conda/lib/python3.10/subprocess.py\", line 421, in check_output\r\n",
      "    return run(*popenargs, stdout=PIPE, timeout=timeout, check=True,\r\n",
      "  File \"/opt/conda/lib/python3.10/subprocess.py\", line 526, in run\r\n",
      "    raise CalledProcessError(retcode, process.args,\r\n",
      "subprocess.CalledProcessError: Command '/opt/conda/bin/python /kaggle/working/Recsys_Challenge_2023/CythonCompiler/compile_script.py SLIM_BPR_Cython_Epoch.pyx build_ext --inplace' returned non-zero exit status 1.\r\n",
      "Compiling [6/10]: SLIM_BPR_Cython_Epoch.pyx... FAIL: Command '/opt/conda/bin/python /kaggle/working/Recsys_Challenge_2023/CythonCompiler/compile_script.py SLIM_BPR_Cython_Epoch.pyx build_ext --inplace' returned non-zero exit status 1.\r\n",
      "\r\n",
      "Compiling [7/10]: CFW_D_Similarity_Cython_SGD.pyx... \r\n",
      "In file included from \u001b[01m\u001b[K/opt/conda/lib/python3.10/site-packages/numpy/core/include/numpy/ndarraytypes.h:1940\u001b[m\u001b[K,\r\n",
      "                 from \u001b[01m\u001b[K/opt/conda/lib/python3.10/site-packages/numpy/core/include/numpy/ndarrayobject.h:12\u001b[m\u001b[K,\r\n",
      "                 from \u001b[01m\u001b[K/opt/conda/lib/python3.10/site-packages/numpy/core/include/numpy/arrayobject.h:5\u001b[m\u001b[K,\r\n",
      "                 from \u001b[01m\u001b[KCFW_D_Similarity_Cython_SGD.c:1109\u001b[m\u001b[K:\r\n",
      "\u001b[01m\u001b[K/opt/conda/lib/python3.10/site-packages/numpy/core/include/numpy/npy_1_7_deprecated_api.h:17:2:\u001b[m\u001b[K \u001b[01;35m\u001b[Kwarning: \u001b[m\u001b[K#warning \"Using deprecated NumPy API, disable it with \" \"#define NPY_NO_DEPRECATED_API NPY_1_7_API_VERSION\" [\u001b[01;35m\u001b[K-Wcpp\u001b[m\u001b[K]\r\n",
      "   17 | #\u001b[01;35m\u001b[Kwarning\u001b[m\u001b[K \"Using deprecated NumPy API, disable it with \" \\\r\n",
      "      |  \u001b[01;35m\u001b[K^~~~~~~\u001b[m\u001b[K\r\n",
      "\u001b[01m\u001b[KCFW_D_Similarity_Cython_SGD.c:\u001b[m\u001b[K In function ‘\u001b[01m\u001b[K__pyx_pf_27CFW_D_Similarity_Cython_SGD_27CFW_D_Similarity_Cython_SGD_6fit\u001b[m\u001b[K’:\r\n",
      "\u001b[01m\u001b[KCFW_D_Similarity_Cython_SGD.c:22766:55:\u001b[m\u001b[K \u001b[01;35m\u001b[Kwarning: \u001b[m\u001b[K‘\u001b[01m\u001b[K__pyx_v_sample_num\u001b[m\u001b[K’ may be used uninitialized in this function [\u001b[01;35m\u001b[K-Wmaybe-uninitialized\u001b[m\u001b[K]\r\n",
      "22766 |   __pyx_t_3 = PyFloat_FromDouble((__pyx_v_cum_loss / \u001b[01;35m\u001b[K((double)__pyx_v_sample_num)\u001b[m\u001b[K)); if (unlikely(!__pyx_t_3)) __PYX_ERR(0, 290, __pyx_L1_error)\r\n",
      "      |                                                      \u001b[01;35m\u001b[K~^~~~~~~~~~~~~~~~~~~~~~~~~~~\u001b[m\u001b[K\r\n",
      "/opt/conda/lib/python3.10/site-packages/Cython/Compiler/Main.py:381: FutureWarning: Cython directive 'language_level' not set, using '3str' for now (Py3). This has changed from earlier releases! File: /kaggle/working/Recsys_Challenge_2023/Recommenders/FeatureWeighting/Cython/CFW_D_Similarity_Cython_SGD.pyx\r\n",
      "  tree = Parsing.p_module(s, pxd, full_module_name)\r\n",
      "Compiling [7/10]: CFW_D_Similarity_Cython_SGD.pyx... PASS\r\n",
      "\r\n",
      "Compiling [8/10]: CFW_DVV_Similarity_Cython_SGD.pyx... \r\n",
      "In file included from \u001b[01m\u001b[K/opt/conda/lib/python3.10/site-packages/numpy/core/include/numpy/ndarraytypes.h:1940\u001b[m\u001b[K,\r\n",
      "                 from \u001b[01m\u001b[K/opt/conda/lib/python3.10/site-packages/numpy/core/include/numpy/ndarrayobject.h:12\u001b[m\u001b[K,\r\n",
      "                 from \u001b[01m\u001b[K/opt/conda/lib/python3.10/site-packages/numpy/core/include/numpy/arrayobject.h:5\u001b[m\u001b[K,\r\n",
      "                 from \u001b[01m\u001b[KCFW_DVV_Similarity_Cython_SGD.c:1109\u001b[m\u001b[K:\r\n",
      "\u001b[01m\u001b[K/opt/conda/lib/python3.10/site-packages/numpy/core/include/numpy/npy_1_7_deprecated_api.h:17:2:\u001b[m\u001b[K \u001b[01;35m\u001b[Kwarning: \u001b[m\u001b[K#warning \"Using deprecated NumPy API, disable it with \" \"#define NPY_NO_DEPRECATED_API NPY_1_7_API_VERSION\" [\u001b[01;35m\u001b[K-Wcpp\u001b[m\u001b[K]\r\n",
      "   17 | #\u001b[01;35m\u001b[Kwarning\u001b[m\u001b[K \"Using deprecated NumPy API, disable it with \" \\\r\n",
      "      |  \u001b[01;35m\u001b[K^~~~~~~\u001b[m\u001b[K\r\n",
      "/opt/conda/lib/python3.10/site-packages/Cython/Compiler/Main.py:381: FutureWarning: Cython directive 'language_level' not set, using '3str' for now (Py3). This has changed from earlier releases! File: /kaggle/working/Recsys_Challenge_2023/Recommenders/FeatureWeighting/Cython/CFW_DVV_Similarity_Cython_SGD.pyx\r\n",
      "  tree = Parsing.p_module(s, pxd, full_module_name)\r\n",
      "Compiling [8/10]: CFW_DVV_Similarity_Cython_SGD.pyx... PASS\r\n",
      "\r\n",
      "Compiling [9/10]: FBSM_Rating_Cython_SGD.pyx... \r\n",
      "In file included from \u001b[01m\u001b[K/opt/conda/lib/python3.10/site-packages/numpy/core/include/numpy/ndarraytypes.h:1940\u001b[m\u001b[K,\r\n",
      "                 from \u001b[01m\u001b[K/opt/conda/lib/python3.10/site-packages/numpy/core/include/numpy/ndarrayobject.h:12\u001b[m\u001b[K,\r\n",
      "                 from \u001b[01m\u001b[K/opt/conda/lib/python3.10/site-packages/numpy/core/include/numpy/arrayobject.h:5\u001b[m\u001b[K,\r\n",
      "                 from \u001b[01m\u001b[KFBSM_Rating_Cython_SGD.c:1109\u001b[m\u001b[K:\r\n",
      "\u001b[01m\u001b[K/opt/conda/lib/python3.10/site-packages/numpy/core/include/numpy/npy_1_7_deprecated_api.h:17:2:\u001b[m\u001b[K \u001b[01;35m\u001b[Kwarning: \u001b[m\u001b[K#warning \"Using deprecated NumPy API, disable it with \" \"#define NPY_NO_DEPRECATED_API NPY_1_7_API_VERSION\" [\u001b[01;35m\u001b[K-Wcpp\u001b[m\u001b[K]\r\n",
      "   17 | #\u001b[01;35m\u001b[Kwarning\u001b[m\u001b[K \"Using deprecated NumPy API, disable it with \" \\\r\n",
      "      |  \u001b[01;35m\u001b[K^~~~~~~\u001b[m\u001b[K\r\n",
      "\u001b[01m\u001b[KFBSM_Rating_Cython_SGD.c:\u001b[m\u001b[K In function ‘\u001b[01m\u001b[K__pyx_pf_22FBSM_Rating_Cython_SGD_22FBSM_Rating_Cython_SGD_2fit\u001b[m\u001b[K’:\r\n",
      "\u001b[01m\u001b[KFBSM_Rating_Cython_SGD.c:26038:55:\u001b[m\u001b[K \u001b[01;35m\u001b[Kwarning: \u001b[m\u001b[K‘\u001b[01m\u001b[K__pyx_v_num_sample\u001b[m\u001b[K’ may be used uninitialized in this function [\u001b[01;35m\u001b[K-Wmaybe-uninitialized\u001b[m\u001b[K]\r\n",
      "26038 |   __pyx_t_5 = PyFloat_FromDouble((__pyx_v_cum_loss / \u001b[01;35m\u001b[K((double)__pyx_v_num_sample)\u001b[m\u001b[K)); if (unlikely(!__pyx_t_5)) __PYX_ERR(0, 551, __pyx_L1_error)\r\n",
      "      |                                                      \u001b[01;35m\u001b[K~^~~~~~~~~~~~~~~~~~~~~~~~~~~\u001b[m\u001b[K\r\n",
      "/opt/conda/lib/python3.10/site-packages/Cython/Compiler/Main.py:381: FutureWarning: Cython directive 'language_level' not set, using '3str' for now (Py3). This has changed from earlier releases! File: /kaggle/working/Recsys_Challenge_2023/Recommenders/FeatureWeighting/Cython/FBSM_Rating_Cython_SGD.pyx\r\n",
      "  tree = Parsing.p_module(s, pxd, full_module_name)\r\n",
      "Compiling [9/10]: FBSM_Rating_Cython_SGD.pyx... PASS\r\n",
      "\r\n",
      "Compiling [10/10]: HP3_Similarity_Cython_SGD.pyx... \r\n",
      "warning: HP3_Similarity_Cython_SGD.pyx:113:40: Index should be typed for more efficient access\r\n",
      "In file included from \u001b[01m\u001b[K/opt/conda/lib/python3.10/site-packages/numpy/core/include/numpy/ndarraytypes.h:1940\u001b[m\u001b[K,\r\n",
      "                 from \u001b[01m\u001b[K/opt/conda/lib/python3.10/site-packages/numpy/core/include/numpy/ndarrayobject.h:12\u001b[m\u001b[K,\r\n",
      "                 from \u001b[01m\u001b[K/opt/conda/lib/python3.10/site-packages/numpy/core/include/numpy/arrayobject.h:5\u001b[m\u001b[K,\r\n",
      "                 from \u001b[01m\u001b[KHP3_Similarity_Cython_SGD.c:1109\u001b[m\u001b[K:\r\n",
      "\u001b[01m\u001b[K/opt/conda/lib/python3.10/site-packages/numpy/core/include/numpy/npy_1_7_deprecated_api.h:17:2:\u001b[m\u001b[K \u001b[01;35m\u001b[Kwarning: \u001b[m\u001b[K#warning \"Using deprecated NumPy API, disable it with \" \"#define NPY_NO_DEPRECATED_API NPY_1_7_API_VERSION\" [\u001b[01;35m\u001b[K-Wcpp\u001b[m\u001b[K]\r\n",
      "   17 | #\u001b[01;35m\u001b[Kwarning\u001b[m\u001b[K \"Using deprecated NumPy API, disable it with \" \\\r\n",
      "      |  \u001b[01;35m\u001b[K^~~~~~~\u001b[m\u001b[K\r\n",
      "\u001b[01m\u001b[KHP3_Similarity_Cython_SGD.c:\u001b[m\u001b[K In function ‘\u001b[01m\u001b[K__pyx_pf_25HP3_Similarity_Cython_SGD_25HP3_Similarity_Cython_SGD_4fit\u001b[m\u001b[K’:\r\n",
      "\u001b[01m\u001b[KHP3_Similarity_Cython_SGD.c:23035:55:\u001b[m\u001b[K \u001b[01;35m\u001b[Kwarning: \u001b[m\u001b[K‘\u001b[01m\u001b[K__pyx_v_sample_num\u001b[m\u001b[K’ may be used uninitialized in this function [\u001b[01;35m\u001b[K-Wmaybe-uninitialized\u001b[m\u001b[K]\r\n",
      "23035 |   __pyx_t_1 = PyFloat_FromDouble((__pyx_v_cum_loss / \u001b[01;35m\u001b[K((double)__pyx_v_sample_num)\u001b[m\u001b[K)); if (unlikely(!__pyx_t_1)) __PYX_ERR(0, 291, __pyx_L1_error)\r\n",
      "      |                                                      \u001b[01;35m\u001b[K~^~~~~~~~~~~~~~~~~~~~~~~~~~~\u001b[m\u001b[K\r\n",
      "/opt/conda/lib/python3.10/site-packages/Cython/Compiler/Main.py:381: FutureWarning: Cython directive 'language_level' not set, using '3str' for now (Py3). This has changed from earlier releases! File: /kaggle/working/Recsys_Challenge_2023/Recommenders/FeatureWeighting/Cython/HP3_Similarity_Cython_SGD.pyx\r\n",
      "  tree = Parsing.p_module(s, pxd, full_module_name)\r\n",
      "warning: HP3_Similarity_Cython_SGD.pyx:113:40: Index should be typed for more efficient access\r\n",
      "Compiling [10/10]: HP3_Similarity_Cython_SGD.pyx... PASS\r\n",
      "\r\n",
      "run_compile_all_cython: Compilation finished. FAILS 2/10.\r\n",
      "Compilation log can be found here: './result_experiments/run_compile_all_cython.txt'\r\n"
     ]
    }
   ],
   "source": [
    "! cd /kaggle/working/Recsys_Challenge_2023 && python run_compile_all_cython.py"
   ]
  },
  {
   "cell_type": "code",
   "execution_count": 4,
   "id": "7ec697c7",
   "metadata": {
    "_kg_hide-output": true,
    "execution": {
     "iopub.execute_input": "2023-11-25T00:01:26.810348Z",
     "iopub.status.busy": "2023-11-25T00:01:26.809931Z",
     "iopub.status.idle": "2023-11-25T00:01:30.019425Z",
     "shell.execute_reply": "2023-11-25T00:01:30.017996Z"
    },
    "papermill": {
     "duration": 3.225945,
     "end_time": "2023-11-25T00:01:30.022114",
     "exception": false,
     "start_time": "2023-11-25T00:01:26.796169",
     "status": "completed"
    },
    "tags": []
   },
   "outputs": [
    {
     "name": "stdout",
     "output_type": "stream",
     "text": [
      "/kaggle/input/recommender-system-2023-challenge-polimi/data_train.csv\n",
      "/kaggle/input/recommender-system-2023-challenge-polimi/data_target_users_test.csv\n",
      "/kaggle/input/hybrid-precision/tuning_hybrid_precision.db\n",
      "/kaggle/input/hybrid-precision/__results__.html\n",
      "/kaggle/input/hybrid-precision/__notebook__.ipynb\n",
      "/kaggle/input/hybrid-precision/best_params_item_knn_precision.json\n",
      "/kaggle/input/hybrid-precision/__output__.json\n",
      "/kaggle/input/hybrid-precision/custom.css\n",
      "/kaggle/input/hybrid-precision/Recsys_Challenge_2023/run_all_algorithms.py\n",
      "/kaggle/input/hybrid-precision/Recsys_Challenge_2023/cython_example_FunkSVD.py\n",
      "/kaggle/input/hybrid-precision/Recsys_Challenge_2023/LICENSE\n",
      "/kaggle/input/hybrid-precision/Recsys_Challenge_2023/.gitignore\n",
      "/kaggle/input/hybrid-precision/Recsys_Challenge_2023/rp3-tuning.ipynb\n",
      "/kaggle/input/hybrid-precision/Recsys_Challenge_2023/README.md\n",
      "/kaggle/input/hybrid-precision/Recsys_Challenge_2023/run_hyperparameter_search.py\n",
      "/kaggle/input/hybrid-precision/Recsys_Challenge_2023/cython_example_SLIM_MSE.py\n",
      "/kaggle/input/hybrid-precision/Recsys_Challenge_2023/requirements.txt\n",
      "/kaggle/input/hybrid-precision/Recsys_Challenge_2023/run_test_recommenders.py\n",
      "/kaggle/input/hybrid-precision/Recsys_Challenge_2023/run_compile_all_cython.py\n",
      "/kaggle/input/hybrid-precision/Recsys_Challenge_2023/hybrid.ipynb\n",
      "/kaggle/input/hybrid-precision/Recsys_Challenge_2023/Data_manager/DataSplitter_Holdout.py\n",
      "/kaggle/input/hybrid-precision/Recsys_Challenge_2023/Data_manager/DataSplitter.py\n",
      "/kaggle/input/hybrid-precision/Recsys_Challenge_2023/Data_manager/DatasetMapperManager.py\n",
      "/kaggle/input/hybrid-precision/Recsys_Challenge_2023/Data_manager/data_consistency_check.py\n",
      "/kaggle/input/hybrid-precision/Recsys_Challenge_2023/Data_manager/README.md\n",
      "/kaggle/input/hybrid-precision/Recsys_Challenge_2023/Data_manager/TagPreprocessing.py\n",
      "/kaggle/input/hybrid-precision/Recsys_Challenge_2023/Data_manager/DataReader.py\n",
      "/kaggle/input/hybrid-precision/Recsys_Challenge_2023/Data_manager/DataReader_utils.py\n",
      "/kaggle/input/hybrid-precision/Recsys_Challenge_2023/Data_manager/IncrementalSparseMatrix.py\n",
      "/kaggle/input/hybrid-precision/Recsys_Challenge_2023/Data_manager/run_clean_split_data_files.py\n",
      "/kaggle/input/hybrid-precision/Recsys_Challenge_2023/Data_manager/Dataset.py\n",
      "/kaggle/input/hybrid-precision/Recsys_Challenge_2023/Data_manager/DataSplitter_leave_k_out.py\n",
      "/kaggle/input/hybrid-precision/Recsys_Challenge_2023/Data_manager/__init__.py\n",
      "/kaggle/input/hybrid-precision/Recsys_Challenge_2023/Data_manager/__pycache__/data_consistency_check.cpython-310.pyc\n",
      "/kaggle/input/hybrid-precision/Recsys_Challenge_2023/Data_manager/__pycache__/DatasetMapperManager.cpython-310.pyc\n",
      "/kaggle/input/hybrid-precision/Recsys_Challenge_2023/Data_manager/__pycache__/IncrementalSparseMatrix.cpython-310.pyc\n",
      "/kaggle/input/hybrid-precision/Recsys_Challenge_2023/Data_manager/__pycache__/DataReader.cpython-310.pyc\n",
      "/kaggle/input/hybrid-precision/Recsys_Challenge_2023/Data_manager/__pycache__/DataReader_utils.cpython-310.pyc\n",
      "/kaggle/input/hybrid-precision/Recsys_Challenge_2023/Data_manager/__pycache__/__init__.cpython-310.pyc\n",
      "/kaggle/input/hybrid-precision/Recsys_Challenge_2023/Data_manager/__pycache__/Dataset.cpython-310.pyc\n",
      "/kaggle/input/hybrid-precision/Recsys_Challenge_2023/Data_manager/split_functions/split_train_validation_leave_k_out.py\n",
      "/kaggle/input/hybrid-precision/Recsys_Challenge_2023/Data_manager/split_functions/split_train_validation_cold_items.py\n",
      "/kaggle/input/hybrid-precision/Recsys_Challenge_2023/Data_manager/split_functions/split_train_validation_random_holdout.py\n",
      "/kaggle/input/hybrid-precision/Recsys_Challenge_2023/Data_manager/split_functions/__pycache__/split_train_validation_random_holdout.cpython-310.pyc\n",
      "/kaggle/input/hybrid-precision/Recsys_Challenge_2023/Data_manager/Movielens/Movielens10MReader.py\n",
      "/kaggle/input/hybrid-precision/Recsys_Challenge_2023/Data_manager/Movielens/Movielens1MReader.py\n",
      "/kaggle/input/hybrid-precision/Recsys_Challenge_2023/Data_manager/Movielens/Movielens100KReader.py\n",
      "/kaggle/input/hybrid-precision/Recsys_Challenge_2023/Data_manager/Movielens/MovielensHetrec2011Reader.py\n",
      "/kaggle/input/hybrid-precision/Recsys_Challenge_2023/Data_manager/Movielens/_utils_movielens_parser.py\n",
      "/kaggle/input/hybrid-precision/Recsys_Challenge_2023/Data_manager/Movielens/Movielens20MReader.py\n",
      "/kaggle/input/hybrid-precision/Recsys_Challenge_2023/Data_manager/Movielens/__pycache__/Movielens10MReader.cpython-310.pyc\n",
      "/kaggle/input/hybrid-precision/Recsys_Challenge_2023/Data_manager/Movielens/__pycache__/Movielens1MReader.cpython-310.pyc\n",
      "/kaggle/input/hybrid-precision/Recsys_Challenge_2023/Data_manager/Movielens/__pycache__/_utils_movielens_parser.cpython-310.pyc\n",
      "/kaggle/input/hybrid-precision/Recsys_Challenge_2023/Data_manager/Movielens/__pycache__/Movielens20MReader.cpython-310.pyc\n",
      "/kaggle/input/hybrid-precision/Recsys_Challenge_2023/Data_manager/Movielens/__pycache__/Movielens100KReader.cpython-310.pyc\n",
      "/kaggle/input/hybrid-precision/Recsys_Challenge_2023/Data_manager/Movielens/__pycache__/MovielensHetrec2011Reader.cpython-310.pyc\n",
      "/kaggle/input/hybrid-precision/Recsys_Challenge_2023/Utils/seconds_to_biggest_unit.py\n",
      "/kaggle/input/hybrid-precision/Recsys_Challenge_2023/Utils/PyTorch/utils.py\n",
      "/kaggle/input/hybrid-precision/Recsys_Challenge_2023/Utils/PyTorch/DataSampler.py\n",
      "/kaggle/input/hybrid-precision/Recsys_Challenge_2023/Utils/PyTorch/DataIterator.py\n",
      "/kaggle/input/hybrid-precision/Recsys_Challenge_2023/Utils/PyTorch/Cython/DataIterator.pyx\n",
      "/kaggle/input/hybrid-precision/Recsys_Challenge_2023/Utils/__pycache__/seconds_to_biggest_unit.cpython-310.pyc\n",
      "/kaggle/input/hybrid-precision/Recsys_Challenge_2023/slides/20161219_BPR.pptx\n",
      "/kaggle/input/hybrid-precision/Recsys_Challenge_2023/slides/Felicioni - Off Policy Evaluation.pdf\n",
      "/kaggle/input/hybrid-precision/Recsys_Challenge_2023/slides/Amazon AWS.pdf\n",
      "/kaggle/input/hybrid-precision/Recsys_Challenge_2023/slides/hu_koren_volinsky.pdf\n",
      "/kaggle/input/hybrid-precision/Recsys_Challenge_2023/slides/2017_MF.pdf\n",
      "/kaggle/input/hybrid-precision/Recsys_Challenge_2023/slides/FM.pdf\n",
      "/kaggle/input/hybrid-precision/Recsys_Challenge_2023/slides/rendle_bpr.pdf\n",
      "/kaggle/input/hybrid-precision/Recsys_Challenge_2023/slides/2017_MF.pptx\n",
      "/kaggle/input/hybrid-precision/Recsys_Challenge_2023/slides/Introduction and Materials for RecSys Practice Sessions.pdf\n",
      "/kaggle/input/hybrid-precision/Recsys_Challenge_2023/slides/List_of_KNN_similarity_heuristics.pdf\n",
      "/kaggle/input/hybrid-precision/Recsys_Challenge_2023/slides/Sparse matrices.pdf\n",
      "/kaggle/input/hybrid-precision/Recsys_Challenge_2023/slides/koren_sdv++.pdf\n",
      "/kaggle/input/hybrid-precision/Recsys_Challenge_2023/slides/FunkSVD - 2006.pdf\n",
      "/kaggle/input/hybrid-precision/Recsys_Challenge_2023/Notebooks_utils/Cosine_Similarity_Cython_SLOW.cpython-36m-x86_64-linux-gnu.so\n",
      "/kaggle/input/hybrid-precision/Recsys_Challenge_2023/Notebooks_utils/Cosine_Similarity_Cython_SLOW.c\n",
      "/kaggle/input/hybrid-precision/Recsys_Challenge_2023/Notebooks_utils/compileCython.py\n",
      "/kaggle/input/hybrid-precision/Recsys_Challenge_2023/Notebooks_utils/Cosine_Similarity_Cython.pyx\n",
      "/kaggle/input/hybrid-precision/Recsys_Challenge_2023/Notebooks_utils/Cosine_Similarity_Cython.html\n",
      "/kaggle/input/hybrid-precision/Recsys_Challenge_2023/Notebooks_utils/Compute_Similarity_Python.py\n",
      "/kaggle/input/hybrid-precision/Recsys_Challenge_2023/Notebooks_utils/Cosine_Similarity_Cython.c\n",
      "/kaggle/input/hybrid-precision/Recsys_Challenge_2023/Notebooks_utils/Cosine_Similarity_Cython.cpython-36m-x86_64-linux-gnu.so\n",
      "/kaggle/input/hybrid-precision/Recsys_Challenge_2023/Notebooks_utils/Cosine_Similarity_Cython_SLOW.pyx\n",
      "/kaggle/input/hybrid-precision/Recsys_Challenge_2023/Notebooks_utils/Cosine_Similarity_Cython_SLOW.html\n",
      "/kaggle/input/hybrid-precision/Recsys_Challenge_2023/CythonCompiler/compile_script.py\n",
      "/kaggle/input/hybrid-precision/Recsys_Challenge_2023/CythonCompiler/run_compile_subprocess.py\n",
      "/kaggle/input/hybrid-precision/Recsys_Challenge_2023/CythonCompiler/__pycache__/run_compile_subprocess.cpython-310.pyc\n",
      "/kaggle/input/hybrid-precision/Recsys_Challenge_2023/Recommenders/IR_feature_weighting.py\n",
      "/kaggle/input/hybrid-precision/Recsys_Challenge_2023/Recommenders/Incremental_Training_Early_Stopping.py\n",
      "/kaggle/input/hybrid-precision/Recsys_Challenge_2023/Recommenders/BaseMatrixFactorizationRecommender.py\n",
      "/kaggle/input/hybrid-precision/Recsys_Challenge_2023/Recommenders/BaseRecommender.py\n",
      "/kaggle/input/hybrid-precision/Recsys_Challenge_2023/Recommenders/BaseCBFRecommender.py\n",
      "/kaggle/input/hybrid-precision/Recsys_Challenge_2023/Recommenders/Recommender_import_list.py\n",
      "/kaggle/input/hybrid-precision/Recsys_Challenge_2023/Recommenders/BaseTempFolder.py\n",
      "/kaggle/input/hybrid-precision/Recsys_Challenge_2023/Recommenders/Recommender_utils.py\n",
      "/kaggle/input/hybrid-precision/Recsys_Challenge_2023/Recommenders/NonPersonalizedRecommender.py\n",
      "/kaggle/input/hybrid-precision/Recsys_Challenge_2023/Recommenders/BaseSimilarityMatrixRecommender.py\n",
      "/kaggle/input/hybrid-precision/Recsys_Challenge_2023/Recommenders/DataIO.py\n",
      "/kaggle/input/hybrid-precision/Recsys_Challenge_2023/Recommenders/PredefinedListRecommender.py\n",
      "/kaggle/input/hybrid-precision/Recsys_Challenge_2023/Recommenders/Similarity/Compute_similarity_euclidean_test.py\n",
      "/kaggle/input/hybrid-precision/Recsys_Challenge_2023/Recommenders/Similarity/Compute_Similarity_Euclidean.py\n",
      "/kaggle/input/hybrid-precision/Recsys_Challenge_2023/Recommenders/Similarity/Compute_Similarity_Python.py\n",
      "/kaggle/input/hybrid-precision/Recsys_Challenge_2023/Recommenders/Similarity/Compute_Similarity.py\n",
      "/kaggle/input/hybrid-precision/Recsys_Challenge_2023/Recommenders/Similarity/Compute_similarity_test.py\n",
      "/kaggle/input/hybrid-precision/Recsys_Challenge_2023/Recommenders/Similarity/__pycache__/Compute_Similarity_Python.cpython-310.pyc\n",
      "/kaggle/input/hybrid-precision/Recsys_Challenge_2023/Recommenders/Similarity/__pycache__/Compute_Similarity.cpython-310.pyc\n",
      "/kaggle/input/hybrid-precision/Recsys_Challenge_2023/Recommenders/Similarity/__pycache__/Compute_Similarity_Euclidean.cpython-310.pyc\n",
      "/kaggle/input/hybrid-precision/Recsys_Challenge_2023/Recommenders/Similarity/Cython/Compute_Similarity_Cython.cpython-310-x86_64-linux-gnu.so\n",
      "/kaggle/input/hybrid-precision/Recsys_Challenge_2023/Recommenders/Similarity/Cython/Compute_Similarity_Cython.pyx\n",
      "/kaggle/input/hybrid-precision/Recsys_Challenge_2023/Recommenders/Similarity/Cython/Compute_Similarity_Cython.html\n",
      "/kaggle/input/hybrid-precision/Recsys_Challenge_2023/Recommenders/Similarity/Cython/Compute_Similarity_Cython.c\n",
      "/kaggle/input/hybrid-precision/Recsys_Challenge_2023/Recommenders/EASE_R/EASE_R_Recommender.py\n",
      "/kaggle/input/hybrid-precision/Recsys_Challenge_2023/Recommenders/SLIM/SLIMElasticNetRecommender.py\n",
      "/kaggle/input/hybrid-precision/Recsys_Challenge_2023/Recommenders/SLIM/SLIM_BPR_Python.py\n",
      "/kaggle/input/hybrid-precision/Recsys_Challenge_2023/Recommenders/SLIM/__pycache__/SLIMElasticNetRecommender.cpython-310.pyc\n",
      "/kaggle/input/hybrid-precision/Recsys_Challenge_2023/Recommenders/SLIM/Cython/Triangular_Matrix.cpython-310-x86_64-linux-gnu.so\n",
      "/kaggle/input/hybrid-precision/Recsys_Challenge_2023/Recommenders/SLIM/Cython/Triangular_Matrix.c\n",
      "/kaggle/input/hybrid-precision/Recsys_Challenge_2023/Recommenders/SLIM/Cython/SLIM_BPR_Cython.py\n",
      "/kaggle/input/hybrid-precision/Recsys_Challenge_2023/Recommenders/SLIM/Cython/Sparse_Matrix_Tree_CSR.pyx\n",
      "/kaggle/input/hybrid-precision/Recsys_Challenge_2023/Recommenders/SLIM/Cython/Triangular_Matrix.pyx\n",
      "/kaggle/input/hybrid-precision/Recsys_Challenge_2023/Recommenders/SLIM/Cython/SLIM_BPR_Cython_Epoch.pyx\n",
      "/kaggle/input/hybrid-precision/Recsys_Challenge_2023/Recommenders/SLIM/Cython/Triangular_Matrix.html\n",
      "/kaggle/input/hybrid-precision/Recsys_Challenge_2023/Recommenders/GraphBased/RP3betaRecommender.py\n",
      "/kaggle/input/hybrid-precision/Recsys_Challenge_2023/Recommenders/GraphBased/P3alphaRecommender.py\n",
      "/kaggle/input/hybrid-precision/Recsys_Challenge_2023/Recommenders/GraphBased/__pycache__/RP3betaRecommender.cpython-310.pyc\n",
      "/kaggle/input/hybrid-precision/Recsys_Challenge_2023/Recommenders/FactorizationMachines/LightFMRecommender.py\n",
      "/kaggle/input/hybrid-precision/Recsys_Challenge_2023/Recommenders/__pycache__/BaseRecommender.cpython-310.pyc\n",
      "/kaggle/input/hybrid-precision/Recsys_Challenge_2023/Recommenders/__pycache__/BaseSimilarityMatrixRecommender.cpython-310.pyc\n",
      "/kaggle/input/hybrid-precision/Recsys_Challenge_2023/Recommenders/__pycache__/BaseMatrixFactorizationRecommender.cpython-310.pyc\n",
      "/kaggle/input/hybrid-precision/Recsys_Challenge_2023/Recommenders/__pycache__/Incremental_Training_Early_Stopping.cpython-310.pyc\n",
      "/kaggle/input/hybrid-precision/Recsys_Challenge_2023/Recommenders/__pycache__/IR_feature_weighting.cpython-310.pyc\n",
      "/kaggle/input/hybrid-precision/Recsys_Challenge_2023/Recommenders/__pycache__/DataIO.cpython-310.pyc\n",
      "/kaggle/input/hybrid-precision/Recsys_Challenge_2023/Recommenders/__pycache__/BaseTempFolder.cpython-310.pyc\n",
      "/kaggle/input/hybrid-precision/Recsys_Challenge_2023/Recommenders/__pycache__/Recommender_utils.cpython-310.pyc\n",
      "/kaggle/input/hybrid-precision/Recsys_Challenge_2023/Recommenders/KNN/ItemKNNCustomSimilarityRecommender.py\n",
      "/kaggle/input/hybrid-precision/Recsys_Challenge_2023/Recommenders/KNN/ItemKNNCBFRecommender.py\n",
      "/kaggle/input/hybrid-precision/Recsys_Challenge_2023/Recommenders/KNN/ItemKNNSimilarityHybridRecommender.py\n",
      "/kaggle/input/hybrid-precision/Recsys_Challenge_2023/Recommenders/KNN/UserKNNCBFRecommender.py\n",
      "/kaggle/input/hybrid-precision/Recsys_Challenge_2023/Recommenders/KNN/ItemKNNCFRecommender.py\n",
      "/kaggle/input/hybrid-precision/Recsys_Challenge_2023/Recommenders/KNN/UserKNN_CFCBF_Hybrid_Recommender.py\n",
      "/kaggle/input/hybrid-precision/Recsys_Challenge_2023/Recommenders/KNN/ItemKNN_CFCBF_Hybrid_Recommender.py\n",
      "/kaggle/input/hybrid-precision/Recsys_Challenge_2023/Recommenders/KNN/UserKNNCFRecommender.py\n",
      "/kaggle/input/hybrid-precision/Recsys_Challenge_2023/Recommenders/KNN/__pycache__/UserKNNCFRecommender.cpython-310.pyc\n",
      "/kaggle/input/hybrid-precision/Recsys_Challenge_2023/Recommenders/KNN/__pycache__/ItemKNNCFRecommender.cpython-310.pyc\n",
      "/kaggle/input/hybrid-precision/Recsys_Challenge_2023/Recommenders/Neural/architecture_utils.py\n",
      "/kaggle/input/hybrid-precision/Recsys_Challenge_2023/Recommenders/Neural/MultVAERecommender.py\n",
      "/kaggle/input/hybrid-precision/Recsys_Challenge_2023/Recommenders/Neural/MultVAE_PyTorch_Recommender.py\n",
      "/kaggle/input/hybrid-precision/Recsys_Challenge_2023/Recommenders/FeatureWeighting/CFW_D_Similarity_Linalg.py\n",
      "/kaggle/input/hybrid-precision/Recsys_Challenge_2023/Recommenders/FeatureWeighting/Cython/CFW_D_Similarity_Cython_SGD.cpython-310-x86_64-linux-gnu.so\n",
      "/kaggle/input/hybrid-precision/Recsys_Challenge_2023/Recommenders/FeatureWeighting/Cython/HP3_Similarity_Cython_SGD.c\n",
      "/kaggle/input/hybrid-precision/Recsys_Challenge_2023/Recommenders/FeatureWeighting/Cython/FBSM_Rating_Cython_SGD.c\n",
      "/kaggle/input/hybrid-precision/Recsys_Challenge_2023/Recommenders/FeatureWeighting/Cython/CFW_DVV_Similarity_Cython_SGD.pyx\n",
      "/kaggle/input/hybrid-precision/Recsys_Challenge_2023/Recommenders/FeatureWeighting/Cython/FBSM_Rating_Cython_SGD.cpython-310-x86_64-linux-gnu.so\n",
      "/kaggle/input/hybrid-precision/Recsys_Challenge_2023/Recommenders/FeatureWeighting/Cython/CFW_D_Similarity_Cython_SGD.html\n",
      "/kaggle/input/hybrid-precision/Recsys_Challenge_2023/Recommenders/FeatureWeighting/Cython/FBSM_Rating_Cython.py\n",
      "/kaggle/input/hybrid-precision/Recsys_Challenge_2023/Recommenders/FeatureWeighting/Cython/CFW_DVV_Similarity_Cython_SGD.html\n",
      "/kaggle/input/hybrid-precision/Recsys_Challenge_2023/Recommenders/FeatureWeighting/Cython/CFW_DVV_Similarity_Cython_SGD.cpython-310-x86_64-linux-gnu.so\n",
      "/kaggle/input/hybrid-precision/Recsys_Challenge_2023/Recommenders/FeatureWeighting/Cython/HP3_Similarity_Cython.py\n",
      "/kaggle/input/hybrid-precision/Recsys_Challenge_2023/Recommenders/FeatureWeighting/Cython/CFW_D_Similarity_Cython_SGD.c\n",
      "/kaggle/input/hybrid-precision/Recsys_Challenge_2023/Recommenders/FeatureWeighting/Cython/CFW_D_Similarity_Cython_SGD.pyx\n",
      "/kaggle/input/hybrid-precision/Recsys_Challenge_2023/Recommenders/FeatureWeighting/Cython/CFW_D_Similarity_Cython.py\n",
      "/kaggle/input/hybrid-precision/Recsys_Challenge_2023/Recommenders/FeatureWeighting/Cython/FBSM_Rating_Cython_SGD.pyx\n",
      "/kaggle/input/hybrid-precision/Recsys_Challenge_2023/Recommenders/FeatureWeighting/Cython/CFW_DVV_Similarity_Cython_SGD.c\n",
      "/kaggle/input/hybrid-precision/Recsys_Challenge_2023/Recommenders/FeatureWeighting/Cython/HP3_Similarity_Cython_SGD.cpython-310-x86_64-linux-gnu.so\n",
      "/kaggle/input/hybrid-precision/Recsys_Challenge_2023/Recommenders/FeatureWeighting/Cython/HP3_Similarity_Cython_SGD.pyx\n",
      "/kaggle/input/hybrid-precision/Recsys_Challenge_2023/Recommenders/FeatureWeighting/Cython/CFW_DVV_Similarity_Cython.py\n",
      "/kaggle/input/hybrid-precision/Recsys_Challenge_2023/Recommenders/FeatureWeighting/Cython/FBSM_Rating_Cython_SGD.html\n",
      "/kaggle/input/hybrid-precision/Recsys_Challenge_2023/Recommenders/FeatureWeighting/Cython/HP3_Similarity_Cython_SGD.html\n",
      "/kaggle/input/hybrid-precision/Recsys_Challenge_2023/Recommenders/MatrixFactorization/IALSRecommender.py\n",
      "/kaggle/input/hybrid-precision/Recsys_Challenge_2023/Recommenders/MatrixFactorization/NMFRecommender.py\n",
      "/kaggle/input/hybrid-precision/Recsys_Challenge_2023/Recommenders/MatrixFactorization/PureSVDRecommender.py\n",
      "/kaggle/input/hybrid-precision/Recsys_Challenge_2023/Recommenders/MatrixFactorization/SVDFeatureRecommender.py\n",
      "/kaggle/input/hybrid-precision/Recsys_Challenge_2023/Recommenders/MatrixFactorization/PyTorch/MF_MSE_PyTorch.py\n",
      "/kaggle/input/hybrid-precision/Recsys_Challenge_2023/Recommenders/MatrixFactorization/PyTorch/MF_MSE_PyTorch_model.py\n",
      "/kaggle/input/hybrid-precision/Recsys_Challenge_2023/Recommenders/MatrixFactorization/__pycache__/PureSVDRecommender.cpython-310.pyc\n",
      "/kaggle/input/hybrid-precision/Recsys_Challenge_2023/Recommenders/MatrixFactorization/__pycache__/IALSRecommender.cpython-310.pyc\n",
      "/kaggle/input/hybrid-precision/Recsys_Challenge_2023/Recommenders/MatrixFactorization/Cython/MatrixFactorization_Cython.py\n",
      "/kaggle/input/hybrid-precision/Recsys_Challenge_2023/Recommenders/MatrixFactorization/Cython/MatrixFactorization_Cython_Epoch.cpython-310-x86_64-linux-gnu.so\n",
      "/kaggle/input/hybrid-precision/Recsys_Challenge_2023/Recommenders/MatrixFactorization/Cython/MatrixFactorizationImpressions_Cython_Epoch.cpython-310-x86_64-linux-gnu.so\n",
      "/kaggle/input/hybrid-precision/Recsys_Challenge_2023/Recommenders/MatrixFactorization/Cython/MatrixFactorizationImpressions_Cython.py\n",
      "/kaggle/input/hybrid-precision/Recsys_Challenge_2023/Recommenders/MatrixFactorization/Cython/MatrixFactorization_Cython_Epoch.c\n",
      "/kaggle/input/hybrid-precision/Recsys_Challenge_2023/Recommenders/MatrixFactorization/Cython/MatrixFactorization_Cython_Epoch.html\n",
      "/kaggle/input/hybrid-precision/Recsys_Challenge_2023/Recommenders/MatrixFactorization/Cython/MatrixFactorizationImpressions_Cython_Epoch.pyx\n",
      "/kaggle/input/hybrid-precision/Recsys_Challenge_2023/Recommenders/MatrixFactorization/Cython/MatrixFactorization_Cython_Epoch.pyx\n",
      "/kaggle/input/hybrid-precision/Recsys_Challenge_2023/Recommenders/MatrixFactorization/Cython/MatrixFactorizationImpressions_Cython_Epoch.c\n",
      "/kaggle/input/hybrid-precision/Recsys_Challenge_2023/Recommenders/MatrixFactorization/Cython/MatrixFactorizationImpressions_Cython_Epoch.html\n",
      "/kaggle/input/hybrid-precision/Recsys_Challenge_2023/tuning_results/tuning_hybrid_merging.db\n",
      "/kaggle/input/hybrid-precision/Recsys_Challenge_2023/tuning_results/tuning_hybrid.db\n",
      "/kaggle/input/hybrid-precision/Recsys_Challenge_2023/tuning_results/tuning_hybrid_precision.db\n",
      "/kaggle/input/hybrid-precision/Recsys_Challenge_2023/tuning_results/best_params_ials_v2.json\n",
      "/kaggle/input/hybrid-precision/Recsys_Challenge_2023/tuning_results/best_params_hybrid_merging.json\n",
      "/kaggle/input/hybrid-precision/Recsys_Challenge_2023/tuning_results/best_params_knn_item.json\n",
      "/kaggle/input/hybrid-precision/Recsys_Challenge_2023/tuning_results/tuning_RP3+ItemKNN_Hybrid.db\n",
      "/kaggle/input/hybrid-precision/Recsys_Challenge_2023/tuning_results/best_params_EASE_R.json\n",
      "/kaggle/input/hybrid-precision/Recsys_Challenge_2023/tuning_results/pure_svd_params.json\n",
      "/kaggle/input/hybrid-precision/Recsys_Challenge_2023/tuning_results/pure_svd_trials.csv\n",
      "/kaggle/input/hybrid-precision/Recsys_Challenge_2023/tuning_results/tuning.db\n",
      "/kaggle/input/hybrid-precision/Recsys_Challenge_2023/tuning_results/better_tuning.db\n",
      "/kaggle/input/hybrid-precision/Recsys_Challenge_2023/tuning_results/tuning_hybrid_UserKNN_RP3Hybrid.db\n",
      "/kaggle/input/hybrid-precision/Recsys_Challenge_2023/tuning_results/best_params_hybrid_UserKNN_RP3Hybrid.json\n",
      "/kaggle/input/hybrid-precision/Recsys_Challenge_2023/tuning_results/best_params_RP3+ItemKNN_Hybrid.json\n",
      "/kaggle/input/hybrid-precision/Recsys_Challenge_2023/tuning_results/best_params_hybrid.json\n",
      "/kaggle/input/hybrid-precision/Recsys_Challenge_2023/tuning_results/best_params_item_knn_precision.json\n",
      "/kaggle/input/hybrid-precision/Recsys_Challenge_2023/tuning_results/best_params_ials.json\n",
      "/kaggle/input/hybrid-precision/Recsys_Challenge_2023/tuning_results/best_params_knn_user.json\n",
      "/kaggle/input/hybrid-precision/Recsys_Challenge_2023/tuning_results/best_params_RP3.json\n",
      "/kaggle/input/hybrid-precision/Recsys_Challenge_2023/images/random_random_everywhere_meme.jpg\n",
      "/kaggle/input/hybrid-precision/Recsys_Challenge_2023/images/ive_already_seen_it_meme.png\n",
      "/kaggle/input/hybrid-precision/Recsys_Challenge_2023/images/bob_example.jpeg\n",
      "/kaggle/input/hybrid-precision/Recsys_Challenge_2023/images/hstack_example.png\n",
      "/kaggle/input/hybrid-precision/Recsys_Challenge_2023/images/FactorizationMachine.png\n",
      "/kaggle/input/hybrid-precision/Recsys_Challenge_2023/images/ive_evaluated_your_performance_meme.jpg\n",
      "/kaggle/input/hybrid-precision/Recsys_Challenge_2023/images/amongus_meme.png\n",
      "/kaggle/input/hybrid-precision/Recsys_Challenge_2023/images/toy_story_poster.png\n",
      "/kaggle/input/hybrid-precision/Recsys_Challenge_2023/images/better_than_average_on_the_first_try_meme.jpg\n",
      "/kaggle/input/hybrid-precision/Recsys_Challenge_2023/HyperparameterTuning/SearchSingleCase.py\n",
      "/kaggle/input/hybrid-precision/Recsys_Challenge_2023/HyperparameterTuning/SearchAbstractClass.py\n",
      "/kaggle/input/hybrid-precision/Recsys_Challenge_2023/HyperparameterTuning/run_hyperparameter_search.py\n",
      "/kaggle/input/hybrid-precision/Recsys_Challenge_2023/HyperparameterTuning/SearchBayesianSkopt.py\n",
      "/kaggle/input/hybrid-precision/Recsys_Challenge_2023/Cython_examples/isPrime_slow.pyx\n",
      "/kaggle/input/hybrid-precision/Recsys_Challenge_2023/Cython_examples/SLIM_MSE_fastest.pyx\n",
      "/kaggle/input/hybrid-precision/Recsys_Challenge_2023/Cython_examples/isPrime_nochecks.pyx\n",
      "/kaggle/input/hybrid-precision/Recsys_Challenge_2023/Cython_examples/isPrime.pyx\n",
      "/kaggle/input/hybrid-precision/Recsys_Challenge_2023/Cython_examples/FunkSVD_fastest.pyx\n",
      "/kaggle/input/hybrid-precision/Recsys_Challenge_2023/Cython_examples/FunkSVD_slow.pyx\n",
      "/kaggle/input/hybrid-precision/Recsys_Challenge_2023/Cython_examples/SLIM_MSE_slow.pyx\n",
      "/kaggle/input/hybrid-precision/Recsys_Challenge_2023/result_experiments/run_compile_all_cython.txt\n",
      "/kaggle/input/hybrid-precision/Recsys_Challenge_2023/.git/config\n",
      "/kaggle/input/hybrid-precision/Recsys_Challenge_2023/.git/packed-refs\n",
      "/kaggle/input/hybrid-precision/Recsys_Challenge_2023/.git/HEAD\n",
      "/kaggle/input/hybrid-precision/Recsys_Challenge_2023/.git/index\n",
      "/kaggle/input/hybrid-precision/Recsys_Challenge_2023/.git/description\n",
      "/kaggle/input/hybrid-precision/Recsys_Challenge_2023/.git/info/exclude\n",
      "/kaggle/input/hybrid-precision/Recsys_Challenge_2023/.git/refs/heads/master\n",
      "/kaggle/input/hybrid-precision/Recsys_Challenge_2023/.git/refs/remotes/origin/HEAD\n",
      "/kaggle/input/hybrid-precision/Recsys_Challenge_2023/.git/hooks/pre-merge-commit.sample\n",
      "/kaggle/input/hybrid-precision/Recsys_Challenge_2023/.git/hooks/prepare-commit-msg.sample\n",
      "/kaggle/input/hybrid-precision/Recsys_Challenge_2023/.git/hooks/update.sample\n",
      "/kaggle/input/hybrid-precision/Recsys_Challenge_2023/.git/hooks/pre-push.sample\n",
      "/kaggle/input/hybrid-precision/Recsys_Challenge_2023/.git/hooks/pre-rebase.sample\n",
      "/kaggle/input/hybrid-precision/Recsys_Challenge_2023/.git/hooks/pre-applypatch.sample\n",
      "/kaggle/input/hybrid-precision/Recsys_Challenge_2023/.git/hooks/pre-commit.sample\n",
      "/kaggle/input/hybrid-precision/Recsys_Challenge_2023/.git/hooks/commit-msg.sample\n",
      "/kaggle/input/hybrid-precision/Recsys_Challenge_2023/.git/hooks/post-update.sample\n",
      "/kaggle/input/hybrid-precision/Recsys_Challenge_2023/.git/hooks/pre-receive.sample\n",
      "/kaggle/input/hybrid-precision/Recsys_Challenge_2023/.git/hooks/fsmonitor-watchman.sample\n",
      "/kaggle/input/hybrid-precision/Recsys_Challenge_2023/.git/hooks/applypatch-msg.sample\n",
      "/kaggle/input/hybrid-precision/Recsys_Challenge_2023/.git/logs/HEAD\n",
      "/kaggle/input/hybrid-precision/Recsys_Challenge_2023/.git/logs/refs/heads/master\n",
      "/kaggle/input/hybrid-precision/Recsys_Challenge_2023/.git/logs/refs/remotes/origin/HEAD\n",
      "/kaggle/input/hybrid-precision/Recsys_Challenge_2023/.git/objects/pack/pack-7a1d1f48b09092000496722631253b31a7c85210.idx\n",
      "/kaggle/input/hybrid-precision/Recsys_Challenge_2023/.git/objects/pack/pack-7a1d1f48b09092000496722631253b31a7c85210.pack\n",
      "/kaggle/input/hybrid-precision/Recsys_Challenge_2023/challenge_notebooks/hyperparameters-tuning.ipynb\n",
      "/kaggle/input/hybrid-precision/Recsys_Challenge_2023/challenge_notebooks/rp3-tuning.ipynb\n",
      "/kaggle/input/hybrid-precision/Recsys_Challenge_2023/challenge_notebooks/hybrid-precision.ipynb\n",
      "/kaggle/input/hybrid-precision/Recsys_Challenge_2023/challenge_notebooks/rp3-itemknn-hybrid.ipynb\n",
      "/kaggle/input/hybrid-precision/Recsys_Challenge_2023/challenge_notebooks/merging-models.ipynb\n",
      "/kaggle/input/hybrid-precision/Recsys_Challenge_2023/challenge_notebooks/hyperparameters-tuning-better.ipynb\n",
      "/kaggle/input/hybrid-precision/Recsys_Challenge_2023/challenge_notebooks/srecsys-challenge.ipynb\n",
      "/kaggle/input/hybrid-precision/Recsys_Challenge_2023/Evaluation/metrics.py\n",
      "/kaggle/input/hybrid-precision/Recsys_Challenge_2023/Evaluation/Evaluator.py\n",
      "/kaggle/input/hybrid-precision/Recsys_Challenge_2023/Evaluation/__pycache__/metrics.cpython-310.pyc\n",
      "/kaggle/input/hybrid-precision/Recsys_Challenge_2023/Evaluation/__pycache__/Evaluator.cpython-310.pyc\n"
     ]
    }
   ],
   "source": [
    "import numpy as np\n",
    "import pandas as pd\n",
    "import matplotlib.pyplot as plt\n",
    "import seaborn as sns\n",
    "import joblib\n",
    "import json\n",
    "import random\n",
    "import tqdm\n",
    "import gc\n",
    "import time\n",
    "import os\n",
    "import shutil\n",
    "import optuna\n",
    "import scipy.sparse as sps\n",
    "\n",
    "for dirname, _, filenames in os.walk('/kaggle/input'):\n",
    "    for filename in filenames:\n",
    "        print(os.path.join(dirname, filename))"
   ]
  },
  {
   "cell_type": "code",
   "execution_count": 5,
   "id": "63cf6095",
   "metadata": {
    "execution": {
     "iopub.execute_input": "2023-11-25T00:01:30.050627Z",
     "iopub.status.busy": "2023-11-25T00:01:30.049545Z",
     "iopub.status.idle": "2023-11-25T00:01:30.683510Z",
     "shell.execute_reply": "2023-11-25T00:01:30.682475Z"
    },
    "papermill": {
     "duration": 0.650887,
     "end_time": "2023-11-25T00:01:30.685989",
     "exception": false,
     "start_time": "2023-11-25T00:01:30.035102",
     "status": "completed"
    },
    "tags": []
   },
   "outputs": [
    {
     "name": "stdout",
     "output_type": "stream",
     "text": [
      "Repository found\n"
     ]
    }
   ],
   "source": [
    "from github import Github\n",
    "from github import Auth\n",
    "\n",
    "auth = Auth.Token(token)\n",
    "g = Github(auth=auth)\n",
    "\n",
    "repo = None\n",
    "for r in g.get_user().get_repos():\n",
    "    if r.name == 'Recsys_Challenge_2023':\n",
    "        repo = r\n",
    "        print('Repository found')"
   ]
  },
  {
   "cell_type": "code",
   "execution_count": 6,
   "id": "d46a62ea",
   "metadata": {
    "execution": {
     "iopub.execute_input": "2023-11-25T00:01:30.714046Z",
     "iopub.status.busy": "2023-11-25T00:01:30.713373Z",
     "iopub.status.idle": "2023-11-25T00:01:30.719839Z",
     "shell.execute_reply": "2023-11-25T00:01:30.718414Z"
    },
    "papermill": {
     "duration": 0.023347,
     "end_time": "2023-11-25T00:01:30.722479",
     "exception": false,
     "start_time": "2023-11-25T00:01:30.699132",
     "status": "completed"
    },
    "tags": []
   },
   "outputs": [],
   "source": [
    "def upload_file(filepath_kaggle, filepath_github, commit_message):\n",
    "    try:\n",
    "        contents = repo.get_contents(filepath_github)\n",
    "        with open(filepath_kaggle, \"rb\") as file:\n",
    "            repo.update_file(contents.path, commit_message, file.read(), contents.sha)\n",
    "    except Exception:\n",
    "        with open(filepath_kaggle, \"rb\") as file:\n",
    "            repo.create_file(filepath_github, commit_message, file.read())"
   ]
  },
  {
   "cell_type": "code",
   "execution_count": 7,
   "id": "1373ae89",
   "metadata": {
    "execution": {
     "iopub.execute_input": "2023-11-25T00:01:30.751378Z",
     "iopub.status.busy": "2023-11-25T00:01:30.750978Z",
     "iopub.status.idle": "2023-11-25T00:01:30.755431Z",
     "shell.execute_reply": "2023-11-25T00:01:30.754601Z"
    },
    "papermill": {
     "duration": 0.022031,
     "end_time": "2023-11-25T00:01:30.757767",
     "exception": false,
     "start_time": "2023-11-25T00:01:30.735736",
     "status": "completed"
    },
    "tags": []
   },
   "outputs": [],
   "source": [
    "config = {\n",
    "    'tune_precision': False,\n",
    "    'tune_hybrid': True,\n",
    "    'database_path': '/kaggle/working/tuning_hybrid_precision.db',\n",
    "    'copy_prev_best_params': True,\n",
    "    'save_github': True\n",
    "}"
   ]
  },
  {
   "cell_type": "code",
   "execution_count": 8,
   "id": "11c8aabf",
   "metadata": {
    "execution": {
     "iopub.execute_input": "2023-11-25T00:01:30.786320Z",
     "iopub.status.busy": "2023-11-25T00:01:30.785294Z",
     "iopub.status.idle": "2023-11-25T00:01:30.791534Z",
     "shell.execute_reply": "2023-11-25T00:01:30.789871Z"
    },
    "papermill": {
     "duration": 0.023069,
     "end_time": "2023-11-25T00:01:30.794125",
     "exception": false,
     "start_time": "2023-11-25T00:01:30.771056",
     "status": "completed"
    },
    "tags": []
   },
   "outputs": [],
   "source": [
    "try:\n",
    "    shutil.copyfile(\n",
    "        '/kaggle/working/Recsys_Challenge_2023/tuning_results/tuning_hybrid_precision.db', \n",
    "        config['database_path']\n",
    "    )\n",
    "except FileNotFoundError:\n",
    "    pass # if not present optuna will create it"
   ]
  },
  {
   "cell_type": "code",
   "execution_count": 9,
   "id": "948d6ec0",
   "metadata": {
    "execution": {
     "iopub.execute_input": "2023-11-25T00:01:30.823379Z",
     "iopub.status.busy": "2023-11-25T00:01:30.821963Z",
     "iopub.status.idle": "2023-11-25T00:01:31.000745Z",
     "shell.execute_reply": "2023-11-25T00:01:30.999575Z"
    },
    "papermill": {
     "duration": 0.195373,
     "end_time": "2023-11-25T00:01:31.003097",
     "exception": false,
     "start_time": "2023-11-25T00:01:30.807724",
     "status": "completed"
    },
    "tags": []
   },
   "outputs": [],
   "source": [
    "train_data = pd.read_csv('/kaggle/input/recommender-system-2023-challenge-polimi/data_train.csv')\n",
    "user_ids_test = pd.read_csv('/kaggle/input/recommender-system-2023-challenge-polimi/data_target_users_test.csv')"
   ]
  },
  {
   "cell_type": "code",
   "execution_count": 10,
   "id": "4c55a818",
   "metadata": {
    "execution": {
     "iopub.execute_input": "2023-11-25T00:01:31.031667Z",
     "iopub.status.busy": "2023-11-25T00:01:31.031310Z",
     "iopub.status.idle": "2023-11-25T00:01:31.064383Z",
     "shell.execute_reply": "2023-11-25T00:01:31.063484Z"
    },
    "papermill": {
     "duration": 0.049925,
     "end_time": "2023-11-25T00:01:31.066649",
     "exception": false,
     "start_time": "2023-11-25T00:01:31.016724",
     "status": "completed"
    },
    "tags": []
   },
   "outputs": [
    {
     "data": {
      "text/plain": [
       "<13024x22347 sparse matrix of type '<class 'numpy.float64'>'\n",
       "\twith 478730 stored elements in Compressed Sparse Row format>"
      ]
     },
     "execution_count": 10,
     "metadata": {},
     "output_type": "execute_result"
    }
   ],
   "source": [
    "URM_all = sps.csr_matrix((train_data.data.values,\n",
    "                          ((train_data.row - 1).values, (train_data.col - 1).values)),\n",
    "                        shape=(train_data.row.max(), train_data.col.max()))\n",
    "URM_all"
   ]
  },
  {
   "cell_type": "code",
   "execution_count": 11,
   "id": "1b8dcd7e",
   "metadata": {
    "execution": {
     "iopub.execute_input": "2023-11-25T00:01:31.096090Z",
     "iopub.status.busy": "2023-11-25T00:01:31.094664Z",
     "iopub.status.idle": "2023-11-25T00:01:31.102522Z",
     "shell.execute_reply": "2023-11-25T00:01:31.101046Z"
    },
    "papermill": {
     "duration": 0.02534,
     "end_time": "2023-11-25T00:01:31.104854",
     "exception": false,
     "start_time": "2023-11-25T00:01:31.079514",
     "status": "completed"
    },
    "tags": []
   },
   "outputs": [
    {
     "name": "stdout",
     "output_type": "stream",
     "text": [
      "/kaggle/working/Recsys_Challenge_2023\n"
     ]
    }
   ],
   "source": [
    "%cd /kaggle/working/Recsys_Challenge_2023"
   ]
  },
  {
   "cell_type": "code",
   "execution_count": 12,
   "id": "6b3d08d9",
   "metadata": {
    "execution": {
     "iopub.execute_input": "2023-11-25T00:01:31.195474Z",
     "iopub.status.busy": "2023-11-25T00:01:31.195083Z",
     "iopub.status.idle": "2023-11-25T00:01:31.227928Z",
     "shell.execute_reply": "2023-11-25T00:01:31.226826Z"
    },
    "papermill": {
     "duration": 0.11217,
     "end_time": "2023-11-25T00:01:31.230344",
     "exception": false,
     "start_time": "2023-11-25T00:01:31.118174",
     "status": "completed"
    },
    "tags": []
   },
   "outputs": [],
   "source": [
    "from Data_manager.IncrementalSparseMatrix import IncrementalSparseMatrix\n",
    "\n",
    "\n",
    "class CrossValidationSplitter:\n",
    "    def __init__(self, n_splits):\n",
    "        self.n_splits = n_splits\n",
    "        self.folds = []\n",
    "        \n",
    "    def split(self, URM):\n",
    "        n_int_per_split = int(URM.nnz / self.n_splits)\n",
    "        indices = np.arange(0, URM.nnz, 1)\n",
    "        np.random.shuffle(indices)\n",
    "        num_users, num_items = URM.shape\n",
    "        \n",
    "        URM_all = sps.coo_matrix(URM)\n",
    "        \n",
    "        for i in range(self.n_splits):\n",
    "            if i == self.n_splits - 1:\n",
    "                indices_valid = indices[n_int_per_split * i:]\n",
    "                indices_train = indices[:n_int_per_split * i]\n",
    "            else:\n",
    "                indices_valid = indices[n_int_per_split * i: n_int_per_split * (i + 1)]\n",
    "                indices_train_1 = indices[n_int_per_split * max(0, i - 1): n_int_per_split * i]\n",
    "                indices_train_2 = indices[n_int_per_split * (i + 1):]\n",
    "                indices_train = np.concatenate((indices_train_1, indices_train_2))\n",
    "                \n",
    "            URM_valid_builder = IncrementalSparseMatrix(\n",
    "                n_rows=num_users, n_cols=num_items, auto_create_col_mapper=False, \n",
    "                auto_create_row_mapper=False\n",
    "            )\n",
    "            \n",
    "            URM_train_builder = IncrementalSparseMatrix(\n",
    "                n_rows=num_users, n_cols=num_items, auto_create_col_mapper=False, \n",
    "                auto_create_row_mapper=False\n",
    "            )\n",
    "            \n",
    "            URM_valid_builder.add_data_lists(\n",
    "                URM_all.row[indices_valid],\n",
    "                URM_all.col[indices_valid],\n",
    "                URM_all.data[indices_valid]\n",
    "            )\n",
    "            \n",
    "            URM_train_builder.add_data_lists(\n",
    "                URM_all.row[indices_train],\n",
    "                URM_all.col[indices_train],\n",
    "                URM_all.data[indices_train]\n",
    "            )\n",
    "            \n",
    "            yield URM_train_builder.get_SparseMatrix(), URM_valid_builder.get_SparseMatrix()"
   ]
  },
  {
   "cell_type": "code",
   "execution_count": 13,
   "id": "b700323e",
   "metadata": {
    "execution": {
     "iopub.execute_input": "2023-11-25T00:01:31.260542Z",
     "iopub.status.busy": "2023-11-25T00:01:31.260176Z",
     "iopub.status.idle": "2023-11-25T00:01:31.808725Z",
     "shell.execute_reply": "2023-11-25T00:01:31.807736Z"
    },
    "papermill": {
     "duration": 0.566637,
     "end_time": "2023-11-25T00:01:31.811185",
     "exception": false,
     "start_time": "2023-11-25T00:01:31.244548",
     "status": "completed"
    },
    "tags": []
   },
   "outputs": [],
   "source": [
    "from Recommenders.KNN.UserKNNCFRecommender import UserKNNCFRecommender\n",
    "from Data_manager.split_functions.split_train_validation_random_holdout import split_train_in_two_percentage_global_sample\n",
    "from Recommenders.SLIM.SLIMElasticNetRecommender import MultiThreadSLIM_SLIMElasticNetRecommender\n",
    "from Evaluation.Evaluator import EvaluatorHoldout\n",
    "from Recommenders.MatrixFactorization.IALSRecommender import IALSRecommender\n",
    "from Recommenders.MatrixFactorization.PureSVDRecommender import PureSVDRecommender\n",
    "from Recommenders.KNN.ItemKNNCFRecommender import ItemKNNCFRecommender\n",
    "from Recommenders.KNN.UserKNNCFRecommender import UserKNNCFRecommender\n",
    "from Recommenders.GraphBased.RP3betaRecommender import RP3betaRecommender\n",
    "\n",
    "np.int = int\n",
    "np.random.seed(42)\n",
    "np.bool = bool\n",
    "np.float = float"
   ]
  },
  {
   "cell_type": "code",
   "execution_count": 14,
   "id": "ec5f0d99",
   "metadata": {
    "execution": {
     "iopub.execute_input": "2023-11-25T00:01:31.839662Z",
     "iopub.status.busy": "2023-11-25T00:01:31.839307Z",
     "iopub.status.idle": "2023-11-25T00:01:32.694816Z",
     "shell.execute_reply": "2023-11-25T00:01:32.693085Z"
    },
    "papermill": {
     "duration": 0.873364,
     "end_time": "2023-11-25T00:01:32.697831",
     "exception": false,
     "start_time": "2023-11-25T00:01:31.824467",
     "status": "completed"
    },
    "tags": []
   },
   "outputs": [
    {
     "name": "stdout",
     "output_type": "stream",
     "text": [
      "Warning: 627 (4.81 %) of 13024 users have no train items\n",
      "Warning: 2568 (19.72 %) of 13024 users have no sampled items\n",
      "Warning: 2953 (22.67 %) of 13024 users have no train items\n",
      "Warning: 6367 (48.89 %) of 13024 users have no sampled items\n"
     ]
    }
   ],
   "source": [
    "URM_train, URM_test_complete = split_train_in_two_percentage_global_sample(URM_all, train_percentage = 0.8)\n",
    "URM_validation, URM_test = split_train_in_two_percentage_global_sample(URM_test_complete, train_percentage = 0.8)"
   ]
  },
  {
   "cell_type": "code",
   "execution_count": 15,
   "id": "4719554c",
   "metadata": {
    "execution": {
     "iopub.execute_input": "2023-11-25T00:01:32.728452Z",
     "iopub.status.busy": "2023-11-25T00:01:32.727413Z",
     "iopub.status.idle": "2023-11-25T00:01:32.739779Z",
     "shell.execute_reply": "2023-11-25T00:01:32.738332Z"
    },
    "papermill": {
     "duration": 0.029578,
     "end_time": "2023-11-25T00:01:32.741695",
     "exception": false,
     "start_time": "2023-11-25T00:01:32.712117",
     "status": "completed"
    },
    "tags": []
   },
   "outputs": [],
   "source": [
    "from concurrent.futures import ThreadPoolExecutor\n",
    "\n",
    "def evaluate_item_knn(URM_train, URM_valid, params):\n",
    "    recommender = ItemKNNCFRecommender(URM_train)\n",
    "    recommender.fit(**params)\n",
    "\n",
    "    evaluator = EvaluatorHoldout(URM_valid, cutoff_list=[100])\n",
    "    result_df, _ = evaluator.evaluateRecommender(recommender)\n",
    "    print(f'Precision is {result_df.loc[100, \"PRECISION\"]}')\n",
    "    return result_df.loc[100, 'PRECISION']\n",
    "\n",
    "\n",
    "def objective_item_knn(trial):\n",
    "    params = {\n",
    "        'topK': trial.suggest_int('topK', 10, 1000),\n",
    "        'shrink': trial.suggest_int('shrink', 0, 500),\n",
    "        'similarity': trial.suggest_categorical('similarity', [\"cosine\", \"asymmetric\", \"dice\", \"jaccard\", \"tanimoto\", \"tversky\", \"euclidean\"]),        \n",
    "    }\n",
    "    \n",
    "    if params['similarity'] == \"asymmetric\":\n",
    "        params[\"asymmetric_alpha\"] = trial.suggest_float(\"asymmetric_alpha\", 0, 2, log=False)\n",
    "        params[\"normalize\"] = True     \n",
    "\n",
    "    elif params['similarity'] == \"tversky\":\n",
    "        params[\"tversky_alpha\"] = trial.suggest_float(\"tversky_alpha\", 0, 2, log=False)\n",
    "        params[\"tversky_beta\"] = trial.suggest_float(\"tversky_beta\", 0, 2, log=False)\n",
    "        params[\"normalize\"] = True \n",
    "\n",
    "    elif params['similarity'] == \"euclidean\":\n",
    "        params[\"normalize_avg_row\"] = trial.suggest_categorical(\"normalize_avg_row\", [True, False])\n",
    "        params[\"similarity_from_distance_mode\"] = trial.suggest_categorical(\"similarity_from_distance_mode\", [\"lin\", \"log\", \"exp\"])\n",
    "        params[\"normalize\"] = trial.suggest_categorical(\"normalize\", [True, False])\n",
    "    \n",
    "    results = [None] * 10\n",
    "    with ThreadPoolExecutor(max_workers=10) as executor:\n",
    "        futures = []\n",
    "        for URM_train, URM_valid in CrossValidationSplitter(10).split(URM_all):\n",
    "            futures.append(executor.submit(evaluate_item_knn, URM_train, URM_valid, params))\n",
    "        print(len(futures))\n",
    "        for j, future in enumerate(futures):\n",
    "            results[j] = future.result()\n",
    "        \n",
    "    return np.mean(results)"
   ]
  },
  {
   "cell_type": "code",
   "execution_count": 16,
   "id": "d334527b",
   "metadata": {
    "_kg_hide-output": true,
    "execution": {
     "iopub.execute_input": "2023-11-25T00:01:32.769925Z",
     "iopub.status.busy": "2023-11-25T00:01:32.769397Z",
     "iopub.status.idle": "2023-11-25T00:01:32.773708Z",
     "shell.execute_reply": "2023-11-25T00:01:32.772772Z"
    },
    "papermill": {
     "duration": 0.021284,
     "end_time": "2023-11-25T00:01:32.776272",
     "exception": false,
     "start_time": "2023-11-25T00:01:32.754988",
     "status": "completed"
    },
    "scrolled": true,
    "tags": []
   },
   "outputs": [],
   "source": [
    "if config['tune_precision']:\n",
    "    study = optuna.create_study(direction='maximize', study_name='hyperparameters_tuning_knn_item_precision@100', \n",
    "                                storage=f'sqlite:///{config[\"database_path\"]}', load_if_exists=True)\n",
    "    study.optimize(objective_item_knn, n_trials=50)"
   ]
  },
  {
   "cell_type": "code",
   "execution_count": 17,
   "id": "c52153a0",
   "metadata": {
    "execution": {
     "iopub.execute_input": "2023-11-25T00:01:32.804935Z",
     "iopub.status.busy": "2023-11-25T00:01:32.804509Z",
     "iopub.status.idle": "2023-11-25T00:01:32.809878Z",
     "shell.execute_reply": "2023-11-25T00:01:32.808670Z"
    },
    "papermill": {
     "duration": 0.02237,
     "end_time": "2023-11-25T00:01:32.812059",
     "exception": false,
     "start_time": "2023-11-25T00:01:32.789689",
     "status": "completed"
    },
    "tags": []
   },
   "outputs": [],
   "source": [
    "if config['tune_precision']:\n",
    "    fig = optuna.visualization.plot_optimization_history(study)\n",
    "    fig.show()"
   ]
  },
  {
   "cell_type": "code",
   "execution_count": 18,
   "id": "8b1f102f",
   "metadata": {
    "execution": {
     "iopub.execute_input": "2023-11-25T00:01:32.841392Z",
     "iopub.status.busy": "2023-11-25T00:01:32.840921Z",
     "iopub.status.idle": "2023-11-25T00:01:32.846931Z",
     "shell.execute_reply": "2023-11-25T00:01:32.845510Z"
    },
    "papermill": {
     "duration": 0.023821,
     "end_time": "2023-11-25T00:01:32.849641",
     "exception": false,
     "start_time": "2023-11-25T00:01:32.825820",
     "status": "completed"
    },
    "tags": []
   },
   "outputs": [],
   "source": [
    "if config['tune_precision']:\n",
    "    fig = optuna.visualization.plot_param_importances(study)\n",
    "    fig.show()"
   ]
  },
  {
   "cell_type": "code",
   "execution_count": 19,
   "id": "6988a0d0",
   "metadata": {
    "execution": {
     "iopub.execute_input": "2023-11-25T00:01:32.877626Z",
     "iopub.status.busy": "2023-11-25T00:01:32.877260Z",
     "iopub.status.idle": "2023-11-25T00:01:32.881486Z",
     "shell.execute_reply": "2023-11-25T00:01:32.880790Z"
    },
    "papermill": {
     "duration": 0.02067,
     "end_time": "2023-11-25T00:01:32.883842",
     "exception": false,
     "start_time": "2023-11-25T00:01:32.863172",
     "status": "completed"
    },
    "tags": []
   },
   "outputs": [],
   "source": [
    "if config['tune_precision']:\n",
    "    fig = optuna.visualization.plot_slice(study)\n",
    "    fig.show()"
   ]
  },
  {
   "cell_type": "code",
   "execution_count": 20,
   "id": "0b26069d",
   "metadata": {
    "execution": {
     "iopub.execute_input": "2023-11-25T00:01:32.912381Z",
     "iopub.status.busy": "2023-11-25T00:01:32.911937Z",
     "iopub.status.idle": "2023-11-25T00:01:32.924999Z",
     "shell.execute_reply": "2023-11-25T00:01:32.923451Z"
    },
    "papermill": {
     "duration": 0.029905,
     "end_time": "2023-11-25T00:01:32.927372",
     "exception": false,
     "start_time": "2023-11-25T00:01:32.897467",
     "status": "completed"
    },
    "tags": []
   },
   "outputs": [],
   "source": [
    "if config['tune_precision']:\n",
    "    with open('/kaggle/working/best_params_item_knn_precision.json', 'w') as params_file:\n",
    "        json.dump(study.best_params, params_file)\n",
    "        \n",
    "    if config['save_github']: \n",
    "        upload_file(\n",
    "            '/kaggle/working/best_params_item_knn_precision.json', \n",
    "            'tuning_results/best_params_item_knn_precision.json', \n",
    "            'Item KNN precision results (from kaggle notebook)'\n",
    "        )\n",
    "    \n",
    "elif config['copy_prev_best_params']:\n",
    "    shutil.copyfile(\n",
    "        '/kaggle/input/hybrid-precision/best_params_item_knn_precision.json', \n",
    "        '/kaggle/working/best_params_item_knn_precision.json'\n",
    "    )"
   ]
  },
  {
   "cell_type": "code",
   "execution_count": 21,
   "id": "1343ea0a",
   "metadata": {
    "execution": {
     "iopub.execute_input": "2023-11-25T00:01:32.955976Z",
     "iopub.status.busy": "2023-11-25T00:01:32.955597Z",
     "iopub.status.idle": "2023-11-25T00:01:32.963737Z",
     "shell.execute_reply": "2023-11-25T00:01:32.962572Z"
    },
    "papermill": {
     "duration": 0.025417,
     "end_time": "2023-11-25T00:01:32.966267",
     "exception": false,
     "start_time": "2023-11-25T00:01:32.940850",
     "status": "completed"
    },
    "tags": []
   },
   "outputs": [
    {
     "data": {
      "text/plain": [
       "{'topK': 32, 'shrink': 33, 'similarity': 'tanimoto'}"
      ]
     },
     "execution_count": 21,
     "metadata": {},
     "output_type": "execute_result"
    }
   ],
   "source": [
    "with open('/kaggle/working/best_params_item_knn_precision.json', 'r') as params_file:\n",
    "    params_knn = json.load(params_file)\n",
    "params_knn"
   ]
  },
  {
   "cell_type": "code",
   "execution_count": 22,
   "id": "3487969c",
   "metadata": {
    "execution": {
     "iopub.execute_input": "2023-11-25T00:01:32.995803Z",
     "iopub.status.busy": "2023-11-25T00:01:32.995417Z",
     "iopub.status.idle": "2023-11-25T00:01:42.025653Z",
     "shell.execute_reply": "2023-11-25T00:01:42.024311Z"
    },
    "papermill": {
     "duration": 9.048056,
     "end_time": "2023-11-25T00:01:42.027871",
     "exception": false,
     "start_time": "2023-11-25T00:01:32.979815",
     "status": "completed"
    },
    "tags": []
   },
   "outputs": [
    {
     "name": "stdout",
     "output_type": "stream",
     "text": [
      "ItemKNNCFRecommender: URM Detected 627 ( 4.8%) users with no interactions.\n",
      "ItemKNNCFRecommender: URM Detected 247 ( 1.1%) items with no interactions.\n",
      "Similarity column 22347 (100.0%), 7030.09 column/sec. Elapsed time 3.18 sec\n",
      "EvaluatorHoldout: Ignoring 2568 (19.7%) Users that have less than 1 test interactions\n",
      "EvaluatorHoldout: Processed 10456 (100.0%) in 5.72 sec. Users per second: 1829\n"
     ]
    },
    {
     "data": {
      "text/html": [
       "<div>\n",
       "<style scoped>\n",
       "    .dataframe tbody tr th:only-of-type {\n",
       "        vertical-align: middle;\n",
       "    }\n",
       "\n",
       "    .dataframe tbody tr th {\n",
       "        vertical-align: top;\n",
       "    }\n",
       "\n",
       "    .dataframe thead th {\n",
       "        text-align: right;\n",
       "    }\n",
       "</style>\n",
       "<table border=\"1\" class=\"dataframe\">\n",
       "  <thead>\n",
       "    <tr style=\"text-align: right;\">\n",
       "      <th></th>\n",
       "      <th>PRECISION</th>\n",
       "      <th>PRECISION_RECALL_MIN_DEN</th>\n",
       "      <th>RECALL</th>\n",
       "      <th>MAP</th>\n",
       "      <th>MAP_MIN_DEN</th>\n",
       "      <th>MRR</th>\n",
       "      <th>NDCG</th>\n",
       "      <th>F1</th>\n",
       "      <th>HIT_RATE</th>\n",
       "      <th>ARHR_ALL_HITS</th>\n",
       "      <th>...</th>\n",
       "      <th>COVERAGE_USER</th>\n",
       "      <th>COVERAGE_USER_HIT</th>\n",
       "      <th>USERS_IN_GT</th>\n",
       "      <th>DIVERSITY_GINI</th>\n",
       "      <th>SHANNON_ENTROPY</th>\n",
       "      <th>RATIO_DIVERSITY_HERFINDAHL</th>\n",
       "      <th>RATIO_DIVERSITY_GINI</th>\n",
       "      <th>RATIO_SHANNON_ENTROPY</th>\n",
       "      <th>RATIO_AVERAGE_POPULARITY</th>\n",
       "      <th>RATIO_NOVELTY</th>\n",
       "    </tr>\n",
       "    <tr>\n",
       "      <th>cutoff</th>\n",
       "      <th></th>\n",
       "      <th></th>\n",
       "      <th></th>\n",
       "      <th></th>\n",
       "      <th></th>\n",
       "      <th></th>\n",
       "      <th></th>\n",
       "      <th></th>\n",
       "      <th></th>\n",
       "      <th></th>\n",
       "      <th></th>\n",
       "      <th></th>\n",
       "      <th></th>\n",
       "      <th></th>\n",
       "      <th></th>\n",
       "      <th></th>\n",
       "      <th></th>\n",
       "      <th></th>\n",
       "      <th></th>\n",
       "      <th></th>\n",
       "      <th></th>\n",
       "    </tr>\n",
       "  </thead>\n",
       "  <tbody>\n",
       "    <tr>\n",
       "      <th>10</th>\n",
       "      <td>0.085033</td>\n",
       "      <td>0.147081</td>\n",
       "      <td>0.123712</td>\n",
       "      <td>0.043282</td>\n",
       "      <td>0.0743</td>\n",
       "      <td>0.248788</td>\n",
       "      <td>0.135035</td>\n",
       "      <td>0.100789</td>\n",
       "      <td>0.482881</td>\n",
       "      <td>0.324451</td>\n",
       "      <td>...</td>\n",
       "      <td>0.802826</td>\n",
       "      <td>0.387669</td>\n",
       "      <td>0.802826</td>\n",
       "      <td>0.054251</td>\n",
       "      <td>10.03004</td>\n",
       "      <td>0.997326</td>\n",
       "      <td>0.156536</td>\n",
       "      <td>0.772675</td>\n",
       "      <td>1.925012</td>\n",
       "      <td>0.295821</td>\n",
       "    </tr>\n",
       "  </tbody>\n",
       "</table>\n",
       "<p>1 rows × 27 columns</p>\n",
       "</div>"
      ],
      "text/plain": [
       "       PRECISION PRECISION_RECALL_MIN_DEN    RECALL       MAP MAP_MIN_DEN  \\\n",
       "cutoff                                                                      \n",
       "10      0.085033                 0.147081  0.123712  0.043282      0.0743   \n",
       "\n",
       "             MRR      NDCG        F1  HIT_RATE ARHR_ALL_HITS  ...  \\\n",
       "cutoff                                                        ...   \n",
       "10      0.248788  0.135035  0.100789  0.482881      0.324451  ...   \n",
       "\n",
       "       COVERAGE_USER COVERAGE_USER_HIT USERS_IN_GT DIVERSITY_GINI  \\\n",
       "cutoff                                                              \n",
       "10          0.802826          0.387669    0.802826       0.054251   \n",
       "\n",
       "       SHANNON_ENTROPY RATIO_DIVERSITY_HERFINDAHL RATIO_DIVERSITY_GINI  \\\n",
       "cutoff                                                                   \n",
       "10            10.03004                   0.997326             0.156536   \n",
       "\n",
       "       RATIO_SHANNON_ENTROPY RATIO_AVERAGE_POPULARITY RATIO_NOVELTY  \n",
       "cutoff                                                               \n",
       "10                  0.772675                 1.925012      0.295821  \n",
       "\n",
       "[1 rows x 27 columns]"
      ]
     },
     "execution_count": 22,
     "metadata": {},
     "output_type": "execute_result"
    }
   ],
   "source": [
    "recommender = ItemKNNCFRecommender(URM_train)\n",
    "recommender.fit(**params_knn)\n",
    "\n",
    "evaluator = EvaluatorHoldout(URM_test_complete, cutoff_list=[10])\n",
    "result_df, _ = evaluator.evaluateRecommender(recommender)\n",
    "result_df"
   ]
  },
  {
   "cell_type": "code",
   "execution_count": 23,
   "id": "d1ded870",
   "metadata": {
    "execution": {
     "iopub.execute_input": "2023-11-25T00:01:42.059560Z",
     "iopub.status.busy": "2023-11-25T00:01:42.058981Z",
     "iopub.status.idle": "2023-11-25T00:01:42.357984Z",
     "shell.execute_reply": "2023-11-25T00:01:42.357092Z"
    },
    "papermill": {
     "duration": 0.317195,
     "end_time": "2023-11-25T00:01:42.360092",
     "exception": false,
     "start_time": "2023-11-25T00:01:42.042897",
     "status": "completed"
    },
    "tags": []
   },
   "outputs": [
    {
     "data": {
      "text/plain": [
       "<13024x22347 sparse matrix of type '<class 'numpy.float64'>'\n",
       "\twith 9768701 stored elements in Compressed Sparse Row format>"
      ]
     },
     "execution_count": 23,
     "metadata": {},
     "output_type": "execute_result"
    }
   ],
   "source": [
    "URM_train_item_knn = URM_train.dot(recommender.W_sparse)\n",
    "URM_train_item_knn"
   ]
  },
  {
   "cell_type": "code",
   "execution_count": 24,
   "id": "53fadd90",
   "metadata": {
    "execution": {
     "iopub.execute_input": "2023-11-25T00:01:42.390038Z",
     "iopub.status.busy": "2023-11-25T00:01:42.389652Z",
     "iopub.status.idle": "2023-11-25T00:01:42.397977Z",
     "shell.execute_reply": "2023-11-25T00:01:42.396598Z"
    },
    "papermill": {
     "duration": 0.026159,
     "end_time": "2023-11-25T00:01:42.400722",
     "exception": false,
     "start_time": "2023-11-25T00:01:42.374563",
     "status": "completed"
    },
    "tags": []
   },
   "outputs": [
    {
     "data": {
      "text/plain": [
       "{'alpha': 0.513297287731911, 'beta': 0.14806602610935488, 'topK': 54}"
      ]
     },
     "execution_count": 24,
     "metadata": {},
     "output_type": "execute_result"
    }
   ],
   "source": [
    "with open('/kaggle/working/Recsys_Challenge_2023/tuning_results/best_params_RP3.json', 'r') as params_file:\n",
    "    params_rp3 = json.load(params_file)\n",
    "params_rp3"
   ]
  },
  {
   "cell_type": "code",
   "execution_count": 25,
   "id": "730850c3",
   "metadata": {
    "execution": {
     "iopub.execute_input": "2023-11-25T00:01:42.430437Z",
     "iopub.status.busy": "2023-11-25T00:01:42.430045Z",
     "iopub.status.idle": "2023-11-25T00:03:39.437531Z",
     "shell.execute_reply": "2023-11-25T00:03:39.435979Z"
    },
    "papermill": {
     "duration": 117.025213,
     "end_time": "2023-11-25T00:03:39.439959",
     "exception": false,
     "start_time": "2023-11-25T00:01:42.414746",
     "status": "completed"
    },
    "tags": []
   },
   "outputs": [
    {
     "name": "stdout",
     "output_type": "stream",
     "text": [
      "RP3betaRecommender: URM Detected 629 ( 4.8%) users with no interactions.\n",
      "RP3betaRecommender: URM Detected 248 ( 1.1%) items with no interactions.\n",
      "RP3betaRecommender: Similarity column 22347 (100.0%), 193.37 column/sec. Elapsed time 1.93 min\n"
     ]
    }
   ],
   "source": [
    "recommender_rp3 = RP3betaRecommender(URM_train_item_knn)\n",
    "recommender_rp3.fit(**params_rp3)"
   ]
  },
  {
   "cell_type": "code",
   "execution_count": 26,
   "id": "57548eaf",
   "metadata": {
    "execution": {
     "iopub.execute_input": "2023-11-25T00:03:39.470756Z",
     "iopub.status.busy": "2023-11-25T00:03:39.470389Z",
     "iopub.status.idle": "2023-11-25T00:03:46.356179Z",
     "shell.execute_reply": "2023-11-25T00:03:46.354961Z"
    },
    "papermill": {
     "duration": 6.903504,
     "end_time": "2023-11-25T00:03:46.358617",
     "exception": false,
     "start_time": "2023-11-25T00:03:39.455113",
     "status": "completed"
    },
    "tags": []
   },
   "outputs": [
    {
     "name": "stdout",
     "output_type": "stream",
     "text": [
      "EvaluatorHoldout: Ignoring 2568 (19.7%) Users that have less than 1 test interactions\n",
      "EvaluatorHoldout: Processed 10456 (100.0%) in 6.85 sec. Users per second: 1527\n"
     ]
    },
    {
     "data": {
      "text/html": [
       "<div>\n",
       "<style scoped>\n",
       "    .dataframe tbody tr th:only-of-type {\n",
       "        vertical-align: middle;\n",
       "    }\n",
       "\n",
       "    .dataframe tbody tr th {\n",
       "        vertical-align: top;\n",
       "    }\n",
       "\n",
       "    .dataframe thead th {\n",
       "        text-align: right;\n",
       "    }\n",
       "</style>\n",
       "<table border=\"1\" class=\"dataframe\">\n",
       "  <thead>\n",
       "    <tr style=\"text-align: right;\">\n",
       "      <th></th>\n",
       "      <th>PRECISION</th>\n",
       "      <th>PRECISION_RECALL_MIN_DEN</th>\n",
       "      <th>RECALL</th>\n",
       "      <th>MAP</th>\n",
       "      <th>MAP_MIN_DEN</th>\n",
       "      <th>MRR</th>\n",
       "      <th>NDCG</th>\n",
       "      <th>F1</th>\n",
       "      <th>HIT_RATE</th>\n",
       "      <th>ARHR_ALL_HITS</th>\n",
       "      <th>...</th>\n",
       "      <th>COVERAGE_USER</th>\n",
       "      <th>COVERAGE_USER_HIT</th>\n",
       "      <th>USERS_IN_GT</th>\n",
       "      <th>DIVERSITY_GINI</th>\n",
       "      <th>SHANNON_ENTROPY</th>\n",
       "      <th>RATIO_DIVERSITY_HERFINDAHL</th>\n",
       "      <th>RATIO_DIVERSITY_GINI</th>\n",
       "      <th>RATIO_SHANNON_ENTROPY</th>\n",
       "      <th>RATIO_AVERAGE_POPULARITY</th>\n",
       "      <th>RATIO_NOVELTY</th>\n",
       "    </tr>\n",
       "    <tr>\n",
       "      <th>cutoff</th>\n",
       "      <th></th>\n",
       "      <th></th>\n",
       "      <th></th>\n",
       "      <th></th>\n",
       "      <th></th>\n",
       "      <th></th>\n",
       "      <th></th>\n",
       "      <th></th>\n",
       "      <th></th>\n",
       "      <th></th>\n",
       "      <th></th>\n",
       "      <th></th>\n",
       "      <th></th>\n",
       "      <th></th>\n",
       "      <th></th>\n",
       "      <th></th>\n",
       "      <th></th>\n",
       "      <th></th>\n",
       "      <th></th>\n",
       "      <th></th>\n",
       "      <th></th>\n",
       "    </tr>\n",
       "  </thead>\n",
       "  <tbody>\n",
       "    <tr>\n",
       "      <th>10</th>\n",
       "      <td>0.040149</td>\n",
       "      <td>0.080732</td>\n",
       "      <td>0.071836</td>\n",
       "      <td>0.014701</td>\n",
       "      <td>0.029663</td>\n",
       "      <td>0.112219</td>\n",
       "      <td>0.062321</td>\n",
       "      <td>0.05151</td>\n",
       "      <td>0.309296</td>\n",
       "      <td>0.128398</td>\n",
       "      <td>...</td>\n",
       "      <td>0.802826</td>\n",
       "      <td>0.248311</td>\n",
       "      <td>0.802826</td>\n",
       "      <td>0.015741</td>\n",
       "      <td>8.70746</td>\n",
       "      <td>0.994924</td>\n",
       "      <td>0.035004</td>\n",
       "      <td>0.642622</td>\n",
       "      <td>2.024639</td>\n",
       "      <td>0.011825</td>\n",
       "    </tr>\n",
       "  </tbody>\n",
       "</table>\n",
       "<p>1 rows × 27 columns</p>\n",
       "</div>"
      ],
      "text/plain": [
       "       PRECISION PRECISION_RECALL_MIN_DEN    RECALL       MAP MAP_MIN_DEN  \\\n",
       "cutoff                                                                      \n",
       "10      0.040149                 0.080732  0.071836  0.014701    0.029663   \n",
       "\n",
       "             MRR      NDCG       F1  HIT_RATE ARHR_ALL_HITS  ...  \\\n",
       "cutoff                                                       ...   \n",
       "10      0.112219  0.062321  0.05151  0.309296      0.128398  ...   \n",
       "\n",
       "       COVERAGE_USER COVERAGE_USER_HIT USERS_IN_GT DIVERSITY_GINI  \\\n",
       "cutoff                                                              \n",
       "10          0.802826          0.248311    0.802826       0.015741   \n",
       "\n",
       "       SHANNON_ENTROPY RATIO_DIVERSITY_HERFINDAHL RATIO_DIVERSITY_GINI  \\\n",
       "cutoff                                                                   \n",
       "10             8.70746                   0.994924             0.035004   \n",
       "\n",
       "       RATIO_SHANNON_ENTROPY RATIO_AVERAGE_POPULARITY RATIO_NOVELTY  \n",
       "cutoff                                                               \n",
       "10                  0.642622                 2.024639      0.011825  \n",
       "\n",
       "[1 rows x 27 columns]"
      ]
     },
     "execution_count": 26,
     "metadata": {},
     "output_type": "execute_result"
    }
   ],
   "source": [
    "evaluator = EvaluatorHoldout(URM_test_complete, cutoff_list=[10], exclude_seen=False)\n",
    "result_df, _ = evaluator.evaluateRecommender(recommender_rp3)\n",
    "result_df"
   ]
  },
  {
   "cell_type": "code",
   "execution_count": 27,
   "id": "234a08b9",
   "metadata": {
    "execution": {
     "iopub.execute_input": "2023-11-25T00:03:46.390021Z",
     "iopub.status.busy": "2023-11-25T00:03:46.389427Z",
     "iopub.status.idle": "2023-11-25T00:03:46.400183Z",
     "shell.execute_reply": "2023-11-25T00:03:46.399115Z"
    },
    "papermill": {
     "duration": 0.028922,
     "end_time": "2023-11-25T00:03:46.402619",
     "exception": false,
     "start_time": "2023-11-25T00:03:46.373697",
     "status": "completed"
    },
    "tags": []
   },
   "outputs": [],
   "source": [
    "class PipelineRecommender:\n",
    "    def __init__(self, coarse_recommender_class, fine_recommender_class, coarse_fit_params, fine_fit_params, URM_train):\n",
    "        self.URM_train = URM_train\n",
    "        self.coarse_recommender_class = coarse_recommender_class\n",
    "        self.fine_recommender_class = fine_recommender_class\n",
    "        self.coarse_fit_params = coarse_fit_params\n",
    "        self.fine_fit_params = fine_fit_params\n",
    "    \n",
    "    def fit(self):\n",
    "        self.coarse_recommender = self.coarse_recommender_class(self.URM_train)\n",
    "        self.coarse_recommender.fit(**self.coarse_fit_params)\n",
    "        URM_coarse = self.URM_train.dot(self.coarse_recommender.W_sparse)\n",
    "        self.fine_recommender = self.fine_recommender_class(URM_coarse)\n",
    "        self.fine_recommender.fit(**self.fine_fit_params)\n",
    "        \n",
    "    def recommend(self, user_ids, cutoff=10, remove_seen_flag=True, remove_top_pop_flag=False, \n",
    "                  return_scores=True, remove_custom_items_flag=True):\n",
    "        items = set(np.arange(self.URM_train.shape[1]).tolist())\n",
    "        final_recommendations = []\n",
    "        final_scores = []\n",
    "        for user_id in user_ids:\n",
    "            # custom remove seen flag, since the fine recommender is trained with much more non zero entries\n",
    "            # but the true seen items are in the original urm\n",
    "            items_to_compute = list(items - set(self.URM_train[user_id].nonzero()[1].tolist()))\n",
    "            recommendations, scores = self.fine_recommender.recommend(\n",
    "                [user_id],\n",
    "                cutoff=cutoff,\n",
    "                items_to_compute=items_to_compute, \n",
    "                remove_seen_flag=False, # if true it will remove most of the items since fine train matrix is less sparse\n",
    "                remove_top_pop_flag=remove_top_pop_flag, \n",
    "                return_scores=True, \n",
    "                remove_custom_items_flag=remove_custom_items_flag\n",
    "            )\n",
    "            final_recommendations.append(recommendations[0])\n",
    "            final_scores.append(scores[0])\n",
    "        if return_scores:\n",
    "            return np.array(final_recommendations), np.array(final_scores)\n",
    "        return np.array(final_recommendations)\n",
    "        \n",
    "    def get_URM_train(self):\n",
    "        return self.URM_train"
   ]
  },
  {
   "cell_type": "code",
   "execution_count": 28,
   "id": "33cebea5",
   "metadata": {
    "execution": {
     "iopub.execute_input": "2023-11-25T00:03:46.434660Z",
     "iopub.status.busy": "2023-11-25T00:03:46.434286Z",
     "iopub.status.idle": "2023-11-25T00:05:46.516224Z",
     "shell.execute_reply": "2023-11-25T00:05:46.514394Z"
    },
    "papermill": {
     "duration": 120.10162,
     "end_time": "2023-11-25T00:05:46.518988",
     "exception": false,
     "start_time": "2023-11-25T00:03:46.417368",
     "status": "completed"
    },
    "tags": []
   },
   "outputs": [
    {
     "name": "stdout",
     "output_type": "stream",
     "text": [
      "ItemKNNCFRecommender: URM Detected 627 ( 4.8%) users with no interactions.\n",
      "ItemKNNCFRecommender: URM Detected 247 ( 1.1%) items with no interactions.\n",
      "Similarity column 22347 (100.0%), 7119.09 column/sec. Elapsed time 3.14 sec\n",
      "RP3betaRecommender: URM Detected 629 ( 4.8%) users with no interactions.\n",
      "RP3betaRecommender: URM Detected 248 ( 1.1%) items with no interactions.\n",
      "RP3betaRecommender: Similarity column 22347 (100.0%), 194.08 column/sec. Elapsed time 1.92 min\n"
     ]
    }
   ],
   "source": [
    "recommender = PipelineRecommender(ItemKNNCFRecommender, RP3betaRecommender, params_knn, params_rp3, URM_train)\n",
    "recommender.fit()"
   ]
  },
  {
   "cell_type": "code",
   "execution_count": 29,
   "id": "d7fea230",
   "metadata": {
    "execution": {
     "iopub.execute_input": "2023-11-25T00:05:46.550468Z",
     "iopub.status.busy": "2023-11-25T00:05:46.550096Z",
     "iopub.status.idle": "2023-11-25T00:06:28.465613Z",
     "shell.execute_reply": "2023-11-25T00:06:28.464130Z"
    },
    "papermill": {
     "duration": 41.933878,
     "end_time": "2023-11-25T00:06:28.467793",
     "exception": false,
     "start_time": "2023-11-25T00:05:46.533915",
     "status": "completed"
    },
    "tags": []
   },
   "outputs": [
    {
     "name": "stdout",
     "output_type": "stream",
     "text": [
      "EvaluatorHoldout: Ignoring 2568 (19.7%) Users that have less than 1 test interactions\n",
      "EvaluatorHoldout: Processed 10456 (100.0%) in 41.88 sec. Users per second: 250\n"
     ]
    },
    {
     "data": {
      "text/html": [
       "<div>\n",
       "<style scoped>\n",
       "    .dataframe tbody tr th:only-of-type {\n",
       "        vertical-align: middle;\n",
       "    }\n",
       "\n",
       "    .dataframe tbody tr th {\n",
       "        vertical-align: top;\n",
       "    }\n",
       "\n",
       "    .dataframe thead th {\n",
       "        text-align: right;\n",
       "    }\n",
       "</style>\n",
       "<table border=\"1\" class=\"dataframe\">\n",
       "  <thead>\n",
       "    <tr style=\"text-align: right;\">\n",
       "      <th></th>\n",
       "      <th>PRECISION</th>\n",
       "      <th>PRECISION_RECALL_MIN_DEN</th>\n",
       "      <th>RECALL</th>\n",
       "      <th>MAP</th>\n",
       "      <th>MAP_MIN_DEN</th>\n",
       "      <th>MRR</th>\n",
       "      <th>NDCG</th>\n",
       "      <th>F1</th>\n",
       "      <th>HIT_RATE</th>\n",
       "      <th>ARHR_ALL_HITS</th>\n",
       "      <th>...</th>\n",
       "      <th>COVERAGE_USER</th>\n",
       "      <th>COVERAGE_USER_HIT</th>\n",
       "      <th>USERS_IN_GT</th>\n",
       "      <th>DIVERSITY_GINI</th>\n",
       "      <th>SHANNON_ENTROPY</th>\n",
       "      <th>RATIO_DIVERSITY_HERFINDAHL</th>\n",
       "      <th>RATIO_DIVERSITY_GINI</th>\n",
       "      <th>RATIO_SHANNON_ENTROPY</th>\n",
       "      <th>RATIO_AVERAGE_POPULARITY</th>\n",
       "      <th>RATIO_NOVELTY</th>\n",
       "    </tr>\n",
       "    <tr>\n",
       "      <th>cutoff</th>\n",
       "      <th></th>\n",
       "      <th></th>\n",
       "      <th></th>\n",
       "      <th></th>\n",
       "      <th></th>\n",
       "      <th></th>\n",
       "      <th></th>\n",
       "      <th></th>\n",
       "      <th></th>\n",
       "      <th></th>\n",
       "      <th></th>\n",
       "      <th></th>\n",
       "      <th></th>\n",
       "      <th></th>\n",
       "      <th></th>\n",
       "      <th></th>\n",
       "      <th></th>\n",
       "      <th></th>\n",
       "      <th></th>\n",
       "      <th></th>\n",
       "      <th></th>\n",
       "    </tr>\n",
       "  </thead>\n",
       "  <tbody>\n",
       "    <tr>\n",
       "      <th>10</th>\n",
       "      <td>0.057785</td>\n",
       "      <td>0.105179</td>\n",
       "      <td>0.08944</td>\n",
       "      <td>0.025882</td>\n",
       "      <td>0.045513</td>\n",
       "      <td>0.164249</td>\n",
       "      <td>0.089164</td>\n",
       "      <td>0.070209</td>\n",
       "      <td>0.374904</td>\n",
       "      <td>0.204495</td>\n",
       "      <td>...</td>\n",
       "      <td>0.802826</td>\n",
       "      <td>0.300983</td>\n",
       "      <td>0.802826</td>\n",
       "      <td>0.018422</td>\n",
       "      <td>8.910796</td>\n",
       "      <td>0.995616</td>\n",
       "      <td>0.053154</td>\n",
       "      <td>0.686453</td>\n",
       "      <td>2.002961</td>\n",
       "      <td>0.289269</td>\n",
       "    </tr>\n",
       "  </tbody>\n",
       "</table>\n",
       "<p>1 rows × 27 columns</p>\n",
       "</div>"
      ],
      "text/plain": [
       "       PRECISION PRECISION_RECALL_MIN_DEN   RECALL       MAP MAP_MIN_DEN  \\\n",
       "cutoff                                                                     \n",
       "10      0.057785                 0.105179  0.08944  0.025882    0.045513   \n",
       "\n",
       "             MRR      NDCG        F1  HIT_RATE ARHR_ALL_HITS  ...  \\\n",
       "cutoff                                                        ...   \n",
       "10      0.164249  0.089164  0.070209  0.374904      0.204495  ...   \n",
       "\n",
       "       COVERAGE_USER COVERAGE_USER_HIT USERS_IN_GT DIVERSITY_GINI  \\\n",
       "cutoff                                                              \n",
       "10          0.802826          0.300983    0.802826       0.018422   \n",
       "\n",
       "       SHANNON_ENTROPY RATIO_DIVERSITY_HERFINDAHL RATIO_DIVERSITY_GINI  \\\n",
       "cutoff                                                                   \n",
       "10            8.910796                   0.995616             0.053154   \n",
       "\n",
       "       RATIO_SHANNON_ENTROPY RATIO_AVERAGE_POPULARITY RATIO_NOVELTY  \n",
       "cutoff                                                               \n",
       "10                  0.686453                 2.002961      0.289269  \n",
       "\n",
       "[1 rows x 27 columns]"
      ]
     },
     "execution_count": 29,
     "metadata": {},
     "output_type": "execute_result"
    }
   ],
   "source": [
    "evaluator = EvaluatorHoldout(URM_test_complete, cutoff_list=[10])\n",
    "result_df, _ = evaluator.evaluateRecommender(recommender)\n",
    "result_df"
   ]
  },
  {
   "cell_type": "code",
   "execution_count": 30,
   "id": "35d4c913",
   "metadata": {
    "_kg_hide-output": true,
    "execution": {
     "iopub.execute_input": "2023-11-25T00:06:28.500712Z",
     "iopub.status.busy": "2023-11-25T00:06:28.499914Z",
     "iopub.status.idle": "2023-11-25T00:06:46.539960Z",
     "shell.execute_reply": "2023-11-25T00:06:46.538578Z"
    },
    "papermill": {
     "duration": 18.059132,
     "end_time": "2023-11-25T00:06:46.542372",
     "exception": false,
     "start_time": "2023-11-25T00:06:28.483240",
     "status": "completed"
    },
    "scrolled": true,
    "tags": []
   },
   "outputs": [
    {
     "name": "stdout",
     "output_type": "stream",
     "text": [
      "ItemKNNCFRecommender: URM Detected 631 ( 4.8%) users with no interactions.\n",
      "ItemKNNCFRecommender: URM Detected 248 ( 1.1%) items with no interactions.\n",
      "Similarity column 22347 (100.0%), 7197.29 column/sec. Elapsed time 3.10 sec\n",
      "ItemKNNCFRecommender: URM Detected 599 ( 4.6%) users with no interactions.\n",
      "ItemKNNCFRecommender: URM Detected 228 ( 1.0%) items with no interactions.\n",
      "Similarity column 22347 (100.0%), 7130.02 column/sec. Elapsed time 3.13 sec\n",
      "ItemKNNCFRecommender: URM Detected 944 ( 7.2%) users with no interactions.\n",
      "ItemKNNCFRecommender: URM Detected 545 ( 2.4%) items with no interactions.\n",
      "Similarity column 22347 (100.0%), 8164.82 column/sec. Elapsed time 2.74 sec\n",
      "ItemKNNCFRecommender: URM Detected 1462 (11.2%) users with no interactions.\n",
      "ItemKNNCFRecommender: URM Detected 1494 ( 6.7%) items with no interactions.\n",
      "Similarity column 22347 (100.0%), 8940.83 column/sec. Elapsed time 2.50 sec\n",
      "ItemKNNCFRecommender: URM Detected 599 ( 4.6%) users with no interactions.\n",
      "ItemKNNCFRecommender: URM Detected 233 ( 1.0%) items with no interactions.\n",
      "Similarity column 22347 (100.0%), 7165.10 column/sec. Elapsed time 3.12 sec\n"
     ]
    }
   ],
   "source": [
    "folds = []\n",
    "for URM_train, URM_valid in CrossValidationSplitter(5).split(URM_all):\n",
    "    recommender = ItemKNNCFRecommender(URM_train)\n",
    "    recommender.fit(**params_knn)\n",
    "    \n",
    "    folds.append((URM_train, URM_valid, recommender))"
   ]
  },
  {
   "cell_type": "code",
   "execution_count": 31,
   "id": "98f02db2",
   "metadata": {
    "execution": {
     "iopub.execute_input": "2023-11-25T00:06:46.575958Z",
     "iopub.status.busy": "2023-11-25T00:06:46.575576Z",
     "iopub.status.idle": "2023-11-25T00:06:46.584482Z",
     "shell.execute_reply": "2023-11-25T00:06:46.583066Z"
    },
    "papermill": {
     "duration": 0.028063,
     "end_time": "2023-11-25T00:06:46.587111",
     "exception": false,
     "start_time": "2023-11-25T00:06:46.559048",
     "status": "completed"
    },
    "tags": []
   },
   "outputs": [],
   "source": [
    "class PrefittedPipelineRecommender:\n",
    "    def __init__(self, fine_recommender, coarse_recommender, URM_train):\n",
    "        self.URM_train = URM_train\n",
    "        self.coarse_recommender = coarse_recommender\n",
    "        self.fine_recommender = fine_recommender\n",
    "    \n",
    "    def fit(self):\n",
    "        pass\n",
    "        \n",
    "    def recommend(self, user_ids, cutoff=10, remove_seen_flag=True, remove_top_pop_flag=False, \n",
    "                  return_scores=True, remove_custom_items_flag=True):\n",
    "        items = set(np.arange(self.URM_train.shape[1]).tolist())\n",
    "        final_recommendations = []\n",
    "        final_scores = []\n",
    "        for user_id in user_ids:\n",
    "            # custom remove seen flag, since the fine recommender is trained with much more non zero entries\n",
    "            # but the true seen items are in the original urm\n",
    "            items_to_compute = list(items - set(self.URM_train[user_id].nonzero()[1].tolist()))\n",
    "            recommendations, scores = self.fine_recommender.recommend(\n",
    "                [user_id],\n",
    "                cutoff=cutoff,\n",
    "                items_to_compute=items_to_compute, \n",
    "                remove_seen_flag=False, # if true it will remove most of the items since fine train matrix is less sparse\n",
    "                remove_top_pop_flag=remove_top_pop_flag, \n",
    "                return_scores=True, \n",
    "                remove_custom_items_flag=remove_custom_items_flag\n",
    "            )\n",
    "            final_recommendations.append(recommendations[0])\n",
    "            final_scores.append(scores[0])\n",
    "        if return_scores:\n",
    "            return np.array(final_recommendations), np.array(final_scores)\n",
    "        return np.array(final_recommendations)\n",
    "        \n",
    "    def get_URM_train(self):\n",
    "        return self.URM_train"
   ]
  },
  {
   "cell_type": "code",
   "execution_count": 32,
   "id": "968c95da",
   "metadata": {
    "execution": {
     "iopub.execute_input": "2023-11-25T00:06:46.620522Z",
     "iopub.status.busy": "2023-11-25T00:06:46.620134Z",
     "iopub.status.idle": "2023-11-25T00:06:46.628463Z",
     "shell.execute_reply": "2023-11-25T00:06:46.627462Z"
    },
    "papermill": {
     "duration": 0.027398,
     "end_time": "2023-11-25T00:06:46.630431",
     "exception": false,
     "start_time": "2023-11-25T00:06:46.603033",
     "status": "completed"
    },
    "tags": []
   },
   "outputs": [],
   "source": [
    "from concurrent.futures import ThreadPoolExecutor\n",
    "\n",
    "def evaluate_pipeline_recommender(URM_train, URM_valid, item_knn_recommender, params):\n",
    "    recommender = RP3betaRecommender(URM_train.dot(item_knn_recommender.W_sparse))\n",
    "    recommender.fit(**params)\n",
    "    hybrid_recommender = PrefittedPipelineRecommender(recommender, item_knn_recommender, URM_train)\n",
    "\n",
    "    evaluator = EvaluatorHoldout(URM_valid, cutoff_list=[10])\n",
    "    result_df, _ = evaluator.evaluateRecommender(hybrid_recommender)\n",
    "    print(f'MAP is {result_df.loc[10, \"MAP\"]}')\n",
    "    \n",
    "    return result_df.loc[10, 'MAP']\n",
    "\n",
    "\n",
    "def objective_item_knn(trial):\n",
    "    params = {\n",
    "        'alpha': trial.suggest_float('alpha', 0.01, 10, log=True),\n",
    "        'beta': trial.suggest_float('beta', 0.01, 10, log=True),\n",
    "        'topK': trial.suggest_int('topK', 10, 5000, log=True)\n",
    "    }\n",
    "    \n",
    "    results = [None] * 5\n",
    "    with ThreadPoolExecutor(max_workers=5) as executor:\n",
    "        futures = []\n",
    "        for URM_train, URM_valid, item_knn_recommender in folds:\n",
    "            futures.append(executor.submit(evaluate_pipeline_recommender, URM_train, URM_valid, item_knn_recommender, params))\n",
    "        for j, future in enumerate(futures):\n",
    "            results[j] = future.result()\n",
    "            \n",
    "    gc.collect()\n",
    "        \n",
    "    return np.mean(results)"
   ]
  },
  {
   "cell_type": "code",
   "execution_count": 33,
   "id": "173766f2",
   "metadata": {
    "execution": {
     "iopub.execute_input": "2023-11-25T00:06:46.663925Z",
     "iopub.status.busy": "2023-11-25T00:06:46.663567Z",
     "iopub.status.idle": "2023-11-25T03:23:28.167053Z",
     "shell.execute_reply": "2023-11-25T03:23:28.165612Z"
    },
    "papermill": {
     "duration": 11801.523241,
     "end_time": "2023-11-25T03:23:28.169828",
     "exception": false,
     "start_time": "2023-11-25T00:06:46.646587",
     "status": "completed"
    },
    "tags": []
   },
   "outputs": [
    {
     "name": "stderr",
     "output_type": "stream",
     "text": [
      "[I 2023-11-25 00:06:47,174] Using an existing study with name 'hyperparameters_tuning_stag2_rp3' instead of creating a new one.\n"
     ]
    },
    {
     "name": "stdout",
     "output_type": "stream",
     "text": [
      "RP3betaRecommender: URM Detected 1482 (11.4%) users with no interactions.\n",
      "RP3betaRecommender: URM Detected 951 ( 7.3%) users with no interactions.\n",
      "RP3betaRecommender: URM Detected 551 ( 2.5%) items with no interactions.\n",
      "RP3betaRecommender: URM Detected 1512 ( 6.8%) items with no interactions.\n",
      "RP3betaRecommender: URM Detected 634 ( 4.9%) users with no interactions.\n",
      "RP3betaRecommender: URM Detected 602 ( 4.6%) users with no interactions.\n",
      "RP3betaRecommender: URM Detected 601 ( 4.6%) users with no interactions.\n",
      "RP3betaRecommender: URM Detected 250 ( 1.1%) items with no interactions.\n",
      "RP3betaRecommender: URM Detected 235 ( 1.1%) items with no interactions.\n",
      "RP3betaRecommender: URM Detected 231 ( 1.0%) items with no interactions.\n",
      "RP3betaRecommender: Similarity column 22347 (100.0%), 89.28 column/sec. Elapsed time 4.17 min\n",
      "RP3betaRecommender: Similarity column 22347 (100.0%), 79.60 column/sec. Elapsed time 4.68 min\n",
      "EvaluatorHoldout: Ignoring 2539 (19.5%) Users that have less than 1 test interactions\n",
      "RP3betaRecommender: Similarity column 19200 (85.9%), 63.93 column/sec. Elapsed time 5.01 min\n",
      "RP3betaRecommender: Similarity column 21200 (94.9%), 70.26 column/sec. Elapsed time 5.03 min\n",
      "RP3betaRecommender: Similarity column 20600 (92.2%), 68.11 column/sec. Elapsed time 5.04 min\n",
      "EvaluatorHoldout: Ignoring 2568 (19.7%) Users that have less than 1 test interactions\n",
      "RP3betaRecommender: Similarity column 22347 (100.0%), 69.20 column/sec. Elapsed time 5.38 min\n",
      "RP3betaRecommender: Similarity column 22347 (100.0%), 67.46 column/sec. Elapsed time 5.52 min\n",
      "RP3betaRecommender: Similarity column 22347 (100.0%), 63.40 column/sec. Elapsed time 5.87 min\n",
      "EvaluatorHoldout: Ignoring 2552 (19.6%) Users that have less than 1 test interactions\n",
      "EvaluatorHoldout: Ignoring 2555 (19.6%) Users that have less than 1 test interactions\n",
      "EvaluatorHoldout: Ignoring 2534 (19.5%) Users that have less than 1 test interactions\n",
      "EvaluatorHoldout: Processed 8000 (76.3%) in 5.49 min. Users per second: 24\n",
      "EvaluatorHoldout: Processed 8000 (76.5%) in 5.21 min. Users per second: 26\n",
      "EvaluatorHoldout: Processed 8000 (76.4%) in 5.30 min. Users per second: 25\n",
      "EvaluatorHoldout: Processed 8000 (76.4%) in 5.24 min. Users per second: 25\n",
      "EvaluatorHoldout: Processed 8000 (76.3%) in 5.15 min. Users per second: 26\n",
      "EvaluatorHoldout: Processed 10485 (100.0%) in 7.22 min. Users per second: 24\n",
      "MAP is 0.016772702500170263\n",
      "EvaluatorHoldout: Processed 10456 (100.0%) in 6.84 min. Users per second: 25\n",
      "MAP is 0.01856614945774277\n",
      "EvaluatorHoldout: Processed 10472 (100.0%) in 6.63 min. Users per second: 26\n",
      "MAP is 0.0214389316332594\n",
      "EvaluatorHoldout: Processed 10469 (100.0%) in 6.43 min. Users per second: 27\n",
      "MAP is 0.021882606546614634\n",
      "EvaluatorHoldout: Processed 10490 (100.0%) in 6.14 min. Users per second: 28\n"
     ]
    },
    {
     "name": "stderr",
     "output_type": "stream",
     "text": [
      "[I 2023-11-25 00:19:31,019] Trial 20 finished with value: 0.02003484559152613 and parameters: {'alpha': 1.5072481762745642, 'beta': 0.1774261898771404, 'topK': 1383}. Best is trial 16 with value: 0.02390904223420983.\n"
     ]
    },
    {
     "name": "stdout",
     "output_type": "stream",
     "text": [
      "MAP is 0.021513837819843572\n",
      "RP3betaRecommender: URM Detected 1482 (11.4%) users with no interactions.\n",
      "RP3betaRecommender: URM Detected 951 ( 7.3%) users with no interactions.\n",
      "RP3betaRecommender: URM Detected 1512 ( 6.8%) items with no interactions.\n",
      "RP3betaRecommender: URM Detected 551 ( 2.5%) items with no interactions.\n",
      "RP3betaRecommender: URM Detected 602 ( 4.6%) users with no interactions.\n",
      "RP3betaRecommender: URM Detected 634 ( 4.9%) users with no interactions.\n",
      "RP3betaRecommender: URM Detected 601 ( 4.6%) users with no interactions.\n",
      "RP3betaRecommender: URM Detected 231 ( 1.0%) items with no interactions.\n",
      "RP3betaRecommender: URM Detected 250 ( 1.1%) items with no interactions.\n",
      "RP3betaRecommender: URM Detected 235 ( 1.1%) items with no interactions.\n",
      "RP3betaRecommender: Similarity column 22347 (100.0%), 163.05 column/sec. Elapsed time 2.28 min\n",
      "EvaluatorHoldout: Ignoring 2539 (19.5%) Users that have less than 1 test interactions\n",
      "RP3betaRecommender: Similarity column 22347 (100.0%), 123.27 column/sec. Elapsed time 3.02 min\n",
      "EvaluatorHoldout: Ignoring 2568 (19.7%) Users that have less than 1 test interactions\n",
      "RP3betaRecommender: Similarity column 22347 (100.0%), 101.99 column/sec. Elapsed time 3.65 min\n",
      "RP3betaRecommender: Similarity column 22347 (100.0%), 101.10 column/sec. Elapsed time 3.68 min\n",
      "EvaluatorHoldout: Ignoring 2555 (19.6%) Users that have less than 1 test interactions\n",
      "RP3betaRecommender: Similarity column 22347 (100.0%), 98.51 column/sec. Elapsed time 3.78 min\n",
      "EvaluatorHoldout: Ignoring 2552 (19.6%) Users that have less than 1 test interactions\n",
      "EvaluatorHoldout: Ignoring 2534 (19.5%) Users that have less than 1 test interactions\n",
      "EvaluatorHoldout: Processed 10000 (95.4%) in 5.08 min. Users per second: 33\n",
      "EvaluatorHoldout: Processed 10485 (100.0%) in 5.41 min. Users per second: 32\n",
      "MAP is 0.019911150471951654\n",
      "EvaluatorHoldout: Processed 9000 (86.1%) in 5.25 min. Users per second: 29\n",
      "EvaluatorHoldout: Processed 8000 (76.4%) in 5.01 min. Users per second: 27\n",
      "EvaluatorHoldout: Processed 8000 (76.4%) in 5.02 min. Users per second: 27\n",
      "EvaluatorHoldout: Processed 10456 (100.0%) in 6.06 min. Users per second: 29\n",
      "MAP is 0.02028232441918368\n",
      "EvaluatorHoldout: Processed 9000 (85.8%) in 5.46 min. Users per second: 27\n",
      "EvaluatorHoldout: Processed 10469 (100.0%) in 6.08 min. Users per second: 29\n",
      "MAP is 0.022281819946114577\n",
      "EvaluatorHoldout: Processed 10472 (100.0%) in 6.07 min. Users per second: 29\n",
      "MAP is 0.0213682594249822\n",
      "EvaluatorHoldout: Processed 10490 (100.0%) in 5.98 min. Users per second: 29\n"
     ]
    },
    {
     "name": "stderr",
     "output_type": "stream",
     "text": [
      "[I 2023-11-25 00:29:28,588] Trial 21 finished with value: 0.02109479540765396 and parameters: {'alpha': 1.0885467519334953, 'beta': 0.21669033106336902, 'topK': 407}. Best is trial 16 with value: 0.02390904223420983.\n"
     ]
    },
    {
     "name": "stdout",
     "output_type": "stream",
     "text": [
      "MAP is 0.021630422776037682\n",
      "RP3betaRecommender: URM Detected 1482 (11.4%) users with no interactions.\n",
      "RP3betaRecommender: URM Detected 1512 ( 6.8%) items with no interactions.\n",
      "RP3betaRecommender: URM Detected 951 ( 7.3%) users with no interactions.\n",
      "RP3betaRecommender: URM Detected 634 ( 4.9%) users with no interactions.\n",
      "RP3betaRecommender: URM Detected 551 ( 2.5%) items with no interactions.\n",
      "RP3betaRecommender: URM Detected 602 ( 4.6%) users with no interactions.\n",
      "RP3betaRecommender: URM Detected 601 ( 4.6%) users with no interactions.\n",
      "RP3betaRecommender: URM Detected 250 ( 1.1%) items with no interactions.\n",
      "RP3betaRecommender: URM Detected 235 ( 1.1%) items with no interactions.\n",
      "RP3betaRecommender: URM Detected 231 ( 1.0%) items with no interactions.\n",
      "RP3betaRecommender: Similarity column 22347 (100.0%), 182.99 column/sec. Elapsed time 2.04 min\n",
      "EvaluatorHoldout: Ignoring 2539 (19.5%) Users that have less than 1 test interactions\n",
      "RP3betaRecommender: Similarity column 22347 (100.0%), 134.80 column/sec. Elapsed time 2.76 min\n",
      "EvaluatorHoldout: Ignoring 2568 (19.7%) Users that have less than 1 test interactions\n",
      "RP3betaRecommender: Similarity column 22347 (100.0%), 105.48 column/sec. Elapsed time 3.53 min\n",
      "RP3betaRecommender: Similarity column 22347 (100.0%), 105.29 column/sec. Elapsed time 3.54 min\n",
      "RP3betaRecommender: Similarity column 22347 (100.0%), 104.10 column/sec. Elapsed time 3.58 min\n",
      "EvaluatorHoldout: Ignoring 2552 (19.6%) Users that have less than 1 test interactions\n",
      "EvaluatorHoldout: Ignoring 2555 (19.6%) Users that have less than 1 test interactions\n",
      "EvaluatorHoldout: Ignoring 2534 (19.5%) Users that have less than 1 test interactions\n",
      "EvaluatorHoldout: Processed 10485 (100.0%) in 5.08 min. Users per second: 34\n",
      "MAP is 0.01615514605142647\n",
      "EvaluatorHoldout: Processed 9000 (86.1%) in 5.32 min. Users per second: 28\n",
      "EvaluatorHoldout: Processed 8000 (76.4%) in 5.20 min. Users per second: 26\n",
      "EvaluatorHoldout: Processed 8000 (76.4%) in 5.19 min. Users per second: 26\n",
      "EvaluatorHoldout: Processed 8000 (76.3%) in 5.15 min. Users per second: 26\n",
      "EvaluatorHoldout: Processed 10456 (100.0%) in 6.12 min. Users per second: 28\n",
      "MAP is 0.02150458535237614\n",
      "EvaluatorHoldout: Processed 10469 (100.0%) in 6.10 min. Users per second: 29\n",
      "MAP is 0.02442495000356313\n",
      "EvaluatorHoldout: Processed 10472 (100.0%) in 6.13 min. Users per second: 28\n",
      "MAP is 0.024046251076188116\n",
      "EvaluatorHoldout: Processed 10490 (100.0%) in 6.05 min. Users per second: 29\n"
     ]
    },
    {
     "name": "stderr",
     "output_type": "stream",
     "text": [
      "[I 2023-11-25 00:39:17,802] Trial 22 finished with value: 0.022205981312635247 and parameters: {'alpha': 3.0720348006409015, 'beta': 0.4033945976853559, 'topK': 179}. Best is trial 16 with value: 0.02390904223420983.\n"
     ]
    },
    {
     "name": "stdout",
     "output_type": "stream",
     "text": [
      "MAP is 0.024898974079622375\n",
      "RP3betaRecommender: URM Detected 1482 (11.4%) users with no interactions.\n",
      "RP3betaRecommender: URM Detected 951 ( 7.3%) users with no interactions.\n",
      "RP3betaRecommender: URM Detected 1512 ( 6.8%) items with no interactions.\n",
      "RP3betaRecommender: URM Detected 551 ( 2.5%) items with no interactions.\n",
      "RP3betaRecommender: URM Detected 602 ( 4.6%) users with no interactions.\n",
      "RP3betaRecommender: URM Detected 601 ( 4.6%) users with no interactions.\n",
      "RP3betaRecommender: URM Detected 634 ( 4.9%) users with no interactions.\n",
      "RP3betaRecommender: URM Detected 231 ( 1.0%) items with no interactions.\n",
      "RP3betaRecommender: URM Detected 235 ( 1.1%) items with no interactions.\n",
      "RP3betaRecommender: URM Detected 250 ( 1.1%) items with no interactions.\n",
      "RP3betaRecommender: Similarity column 22347 (100.0%), 184.06 column/sec. Elapsed time 2.02 min\n",
      "EvaluatorHoldout: Ignoring 2539 (19.5%) Users that have less than 1 test interactions\n",
      "RP3betaRecommender: Similarity column 22347 (100.0%), 135.68 column/sec. Elapsed time 2.75 min\n",
      "EvaluatorHoldout: Ignoring 2568 (19.7%) Users that have less than 1 test interactions\n",
      "RP3betaRecommender: Similarity column 22347 (100.0%), 107.34 column/sec. Elapsed time 3.47 min\n",
      "RP3betaRecommender: Similarity column 22347 (100.0%), 105.81 column/sec. Elapsed time 3.52 min\n",
      "EvaluatorHoldout: Ignoring 2552 (19.6%) Users that have less than 1 test interactions\n",
      "RP3betaRecommender: Similarity column 22347 (100.0%), 103.20 column/sec. Elapsed time 3.61 min\n",
      "EvaluatorHoldout: Ignoring 2555 (19.6%) Users that have less than 1 test interactions\n",
      "EvaluatorHoldout: Ignoring 2534 (19.5%) Users that have less than 1 test interactions\n",
      "EvaluatorHoldout: Processed 10485 (100.0%) in 4.90 min. Users per second: 36\n",
      "MAP is 0.01687581276350948\n",
      "EvaluatorHoldout: Processed 9000 (86.1%) in 5.18 min. Users per second: 29\n",
      "EvaluatorHoldout: Processed 8000 (76.4%) in 5.04 min. Users per second: 26\n",
      "EvaluatorHoldout: Processed 8000 (76.3%) in 5.01 min. Users per second: 27\n",
      "EvaluatorHoldout: Processed 10456 (100.0%) in 5.97 min. Users per second: 29\n",
      "MAP is 0.022664350839800382\n",
      "EvaluatorHoldout: Processed 9000 (86.0%) in 5.41 min. Users per second: 28\n",
      "EvaluatorHoldout: Processed 10472 (100.0%) in 6.01 min. Users per second: 29\n",
      "MAP is 0.025607936356360734\n",
      "EvaluatorHoldout: Processed 10469 (100.0%) in 5.94 min. Users per second: 29\n",
      "MAP is 0.02636254125937965\n",
      "EvaluatorHoldout: Processed 10490 (100.0%) in 5.87 min. Users per second: 30\n"
     ]
    },
    {
     "name": "stderr",
     "output_type": "stream",
     "text": [
      "[I 2023-11-25 00:48:57,096] Trial 23 finished with value: 0.02367455171589989 and parameters: {'alpha': 2.8587222464307396, 'beta': 0.42464281527683817, 'topK': 212}. Best is trial 16 with value: 0.02390904223420983.\n"
     ]
    },
    {
     "name": "stdout",
     "output_type": "stream",
     "text": [
      "MAP is 0.026862117360449203\n",
      "RP3betaRecommender: URM Detected 1482 (11.4%) users with no interactions.\n",
      "RP3betaRecommender: URM Detected 951 ( 7.3%) users with no interactions.\n",
      "RP3betaRecommender: URM Detected 1512 ( 6.8%) items with no interactions.\n",
      "RP3betaRecommender: URM Detected 634 ( 4.9%) users with no interactions.\n",
      "RP3betaRecommender: URM Detected 602 ( 4.6%) users with no interactions.\n",
      "RP3betaRecommender: URM Detected 551 ( 2.5%) items with no interactions.\n",
      "RP3betaRecommender: URM Detected 601 ( 4.6%) users with no interactions.\n",
      "RP3betaRecommender: URM Detected 231 ( 1.0%) items with no interactions.\n",
      "RP3betaRecommender: URM Detected 250 ( 1.1%) items with no interactions.\n",
      "RP3betaRecommender: URM Detected 235 ( 1.1%) items with no interactions.\n",
      "RP3betaRecommender: Similarity column 22347 (100.0%), 153.73 column/sec. Elapsed time 2.42 min\n",
      "EvaluatorHoldout: Ignoring 2539 (19.5%) Users that have less than 1 test interactions\n",
      "RP3betaRecommender: Similarity column 22347 (100.0%), 120.18 column/sec. Elapsed time 3.10 min\n",
      "EvaluatorHoldout: Ignoring 2568 (19.7%) Users that have less than 1 test interactions\n",
      "RP3betaRecommender: Similarity column 22347 (100.0%), 95.54 column/sec. Elapsed time 3.90 min\n",
      "RP3betaRecommender: Similarity column 22347 (100.0%), 95.01 column/sec. Elapsed time 3.92 min\n",
      "EvaluatorHoldout: Ignoring 2555 (19.6%) Users that have less than 1 test interactions\n",
      "EvaluatorHoldout: Ignoring 2534 (19.5%) Users that have less than 1 test interactions\n",
      "RP3betaRecommender: Similarity column 17800 (79.7%), 59.10 column/sec. Elapsed time 5.02 min\n",
      "RP3betaRecommender: Similarity column 22347 (100.0%), 62.24 column/sec. Elapsed time 5.98 min\n",
      "EvaluatorHoldout: Ignoring 2552 (19.6%) Users that have less than 1 test interactions\n",
      "EvaluatorHoldout: Processed 10000 (95.4%) in 5.67 min. Users per second: 29\n",
      "EvaluatorHoldout: Processed 10485 (100.0%) in 6.01 min. Users per second: 29\n",
      "MAP is 0.008821865703839924\n",
      "EvaluatorHoldout: Processed 9000 (86.1%) in 5.42 min. Users per second: 28\n",
      "EvaluatorHoldout: Processed 8000 (76.4%) in 5.05 min. Users per second: 26\n",
      "EvaluatorHoldout: Processed 8000 (76.3%) in 5.05 min. Users per second: 26\n",
      "EvaluatorHoldout: Processed 10456 (100.0%) in 6.22 min. Users per second: 28\n",
      "MAP is 0.013069734397201858\n",
      "EvaluatorHoldout: Processed 10469 (100.0%) in 6.12 min. Users per second: 29\n",
      "MAP is 0.014507108667009343\n",
      "EvaluatorHoldout: Processed 10490 (100.0%) in 6.12 min. Users per second: 29\n",
      "MAP is 0.014113619168671552\n",
      "EvaluatorHoldout: Processed 10472 (100.0%) in 4.35 min. Users per second: 40\n"
     ]
    },
    {
     "name": "stderr",
     "output_type": "stream",
     "text": [
      "[I 2023-11-25 00:59:45,389] Trial 24 finished with value: 0.013318757407102744 and parameters: {'alpha': 4.330584887075255, 'beta': 0.9312423463997782, 'topK': 536}. Best is trial 16 with value: 0.02390904223420983.\n"
     ]
    },
    {
     "name": "stdout",
     "output_type": "stream",
     "text": [
      "MAP is 0.016081459098791034\n",
      "RP3betaRecommender: URM Detected 1482 (11.4%) users with no interactions.\n",
      "RP3betaRecommender: URM Detected 951 ( 7.3%) users with no interactions.\n",
      "RP3betaRecommender: URM Detected 1512 ( 6.8%) items with no interactions.\n",
      "RP3betaRecommender: URM Detected 551 ( 2.5%) items with no interactions.\n",
      "RP3betaRecommender: URM Detected 602 ( 4.6%) users with no interactions.\n",
      "RP3betaRecommender: URM Detected 634 ( 4.9%) users with no interactions.\n",
      "RP3betaRecommender: URM Detected 250 ( 1.1%) items with no interactions.\n",
      "RP3betaRecommender: URM Detected 231 ( 1.0%) items with no interactions.\n",
      "RP3betaRecommender: URM Detected 601 ( 4.6%) users with no interactions.\n",
      "RP3betaRecommender: URM Detected 235 ( 1.1%) items with no interactions.\n",
      "RP3betaRecommender: Similarity column 22347 (100.0%), 100.05 column/sec. Elapsed time 3.72 min\n",
      "EvaluatorHoldout: Ignoring 2568 (19.7%) Users that have less than 1 test interactions\n",
      "RP3betaRecommender: Similarity column 22347 (100.0%), 88.67 column/sec. Elapsed time 4.20 min\n",
      "RP3betaRecommender: Similarity column 22347 (100.0%), 84.02 column/sec. Elapsed time 4.43 min\n",
      "RP3betaRecommender: Similarity column 22347 (100.0%), 83.47 column/sec. Elapsed time 4.46 min\n",
      "RP3betaRecommender: Similarity column 22347 (100.0%), 81.34 column/sec. Elapsed time 4.58 min\n",
      "EvaluatorHoldout: Ignoring 2539 (19.5%) Users that have less than 1 test interactions\n",
      "EvaluatorHoldout: Ignoring 2555 (19.6%) Users that have less than 1 test interactions\n",
      "EvaluatorHoldout: Ignoring 2534 (19.5%) Users that have less than 1 test interactions\n",
      "EvaluatorHoldout: Ignoring 2552 (19.6%) Users that have less than 1 test interactions\n",
      "EvaluatorHoldout: Processed 8000 (76.5%) in 5.52 min. Users per second: 24\n",
      "EvaluatorHoldout: Processed 8000 (76.4%) in 5.34 min. Users per second: 25\n",
      "EvaluatorHoldout: Processed 8000 (76.4%) in 5.21 min. Users per second: 26\n",
      "EvaluatorHoldout: Processed 8000 (76.3%) in 5.33 min. Users per second: 25\n",
      "EvaluatorHoldout: Processed 8000 (76.3%) in 5.62 min. Users per second: 24\n",
      "EvaluatorHoldout: Processed 10456 (100.0%) in 7.17 min. Users per second: 24\n",
      "MAP is 0.020467844846431264\n",
      "EvaluatorHoldout: Processed 10469 (100.0%) in 6.77 min. Users per second: 26\n",
      "MAP is 0.02562555056728337\n",
      "EvaluatorHoldout: Processed 10472 (100.0%) in 6.61 min. Users per second: 26\n",
      "MAP is 0.025728946881783146\n",
      "EvaluatorHoldout: Processed 10490 (100.0%) in 6.74 min. Users per second: 26\n",
      "MAP is 0.025714043609181867\n",
      "EvaluatorHoldout: Processed 10485 (100.0%) in 7.02 min. Users per second: 25\n"
     ]
    },
    {
     "name": "stderr",
     "output_type": "stream",
     "text": [
      "[I 2023-11-25 01:11:41,352] Trial 25 finished with value: 0.022911323778115576 and parameters: {'alpha': 2.3186880007704627, 'beta': 0.3367193436159145, 'topK': 920}. Best is trial 16 with value: 0.02390904223420983.\n"
     ]
    },
    {
     "name": "stdout",
     "output_type": "stream",
     "text": [
      "MAP is 0.01702023298589822\n",
      "RP3betaRecommender: URM Detected 1482 (11.4%) users with no interactions.\n",
      "RP3betaRecommender: URM Detected 1512 ( 6.8%) items with no interactions.\n",
      "RP3betaRecommender: URM Detected 951 ( 7.3%) users with no interactions.\n",
      "RP3betaRecommender: URM Detected 601 ( 4.6%) users with no interactions.\n",
      "RP3betaRecommender: URM Detected 634 ( 4.9%) users with no interactions.\n",
      "RP3betaRecommender: URM Detected 602 ( 4.6%) users with no interactions.\n",
      "RP3betaRecommender: URM Detected 551 ( 2.5%) items with no interactions.\n",
      "RP3betaRecommender: URM Detected 235 ( 1.1%) items with no interactions.\n",
      "RP3betaRecommender: URM Detected 231 ( 1.0%) items with no interactions.\n",
      "RP3betaRecommender: URM Detected 250 ( 1.1%) items with no interactions.\n",
      "RP3betaRecommender: Similarity column 22347 (100.0%), 179.55 column/sec. Elapsed time 2.07 min\n",
      "EvaluatorHoldout: Ignoring 2539 (19.5%) Users that have less than 1 test interactions\n",
      "RP3betaRecommender: Similarity column 22347 (100.0%), 127.92 column/sec. Elapsed time 2.91 min\n",
      "EvaluatorHoldout: Ignoring 2568 (19.7%) Users that have less than 1 test interactions\n",
      "RP3betaRecommender: Similarity column 22347 (100.0%), 101.11 column/sec. Elapsed time 3.68 min\n",
      "RP3betaRecommender: Similarity column 22347 (100.0%), 100.44 column/sec. Elapsed time 3.71 min\n",
      "EvaluatorHoldout: Ignoring 2534 (19.5%) Users that have less than 1 test interactions\n",
      "EvaluatorHoldout: Ignoring 2555 (19.6%) Users that have less than 1 test interactions\n",
      "RP3betaRecommender: Similarity column 19000 (85.0%), 63.32 column/sec. Elapsed time 5.00 min\n",
      "RP3betaRecommender: Similarity column 22347 (100.0%), 65.75 column/sec. Elapsed time 5.66 min\n",
      "EvaluatorHoldout: Ignoring 2552 (19.6%) Users that have less than 1 test interactions\n",
      "EvaluatorHoldout: Processed 10485 (100.0%) in 4.33 min. Users per second: 40\n",
      "MAP is 0.017551244786580985\n",
      "EvaluatorHoldout: Processed 10000 (95.6%) in 5.07 min. Users per second: 33\n",
      "EvaluatorHoldout: Processed 10456 (100.0%) in 5.31 min. Users per second: 33\n",
      "MAP is 0.02065024562490137\n",
      "EvaluatorHoldout: Processed 10000 (95.5%) in 5.13 min. Users per second: 33\n",
      "EvaluatorHoldout: Processed 10000 (95.3%) in 5.19 min. Users per second: 32\n",
      "EvaluatorHoldout: Processed 10469 (100.0%) in 5.30 min. Users per second: 33\n",
      "MAP is 0.023399458264536172\n",
      "EvaluatorHoldout: Processed 10490 (100.0%) in 5.36 min. Users per second: 33\n",
      "MAP is 0.023370511598347684\n",
      "EvaluatorHoldout: Processed 10472 (100.0%) in 3.65 min. Users per second: 48\n"
     ]
    },
    {
     "name": "stderr",
     "output_type": "stream",
     "text": [
      "[I 2023-11-25 01:21:13,014] Trial 26 finished with value: 0.021605864714240034 and parameters: {'alpha': 0.521751992229, 'beta': 0.48872489291274906, 'topK': 319}. Best is trial 16 with value: 0.02390904223420983.\n"
     ]
    },
    {
     "name": "stdout",
     "output_type": "stream",
     "text": [
      "MAP is 0.023057863296833955\n",
      "RP3betaRecommender: URM Detected 1482 (11.4%) users with no interactions.\n",
      "RP3betaRecommender: URM Detected 951 ( 7.3%) users with no interactions.\n",
      "RP3betaRecommender: URM Detected 1512 ( 6.8%) items with no interactions.\n",
      "RP3betaRecommender: URM Detected 602 ( 4.6%) users with no interactions.\n",
      "RP3betaRecommender: URM Detected 551 ( 2.5%) items with no interactions.\n",
      "RP3betaRecommender: URM Detected 601 ( 4.6%) users with no interactions.\n",
      "RP3betaRecommender: URM Detected 634 ( 4.9%) users with no interactions.\n",
      "RP3betaRecommender: URM Detected 231 ( 1.0%) items with no interactions.\n",
      "RP3betaRecommender: URM Detected 235 ( 1.1%) items with no interactions.\n",
      "RP3betaRecommender: URM Detected 250 ( 1.1%) items with no interactions.\n",
      "RP3betaRecommender: Similarity column 22347 (100.0%), 189.90 column/sec. Elapsed time 1.96 min\n",
      "EvaluatorHoldout: Ignoring 2539 (19.5%) Users that have less than 1 test interactions\n",
      "RP3betaRecommender: Similarity column 22347 (100.0%), 142.18 column/sec. Elapsed time 2.62 min\n",
      "EvaluatorHoldout: Ignoring 2568 (19.7%) Users that have less than 1 test interactions\n",
      "RP3betaRecommender: Similarity column 22347 (100.0%), 109.34 column/sec. Elapsed time 3.41 min\n",
      "EvaluatorHoldout: Ignoring 2552 (19.6%) Users that have less than 1 test interactions\n",
      "RP3betaRecommender: Similarity column 22347 (100.0%), 107.17 column/sec. Elapsed time 3.48 min\n",
      "RP3betaRecommender: Similarity column 22347 (100.0%), 106.73 column/sec. Elapsed time 3.49 min\n",
      "EvaluatorHoldout: Ignoring 2534 (19.5%) Users that have less than 1 test interactions\n",
      "EvaluatorHoldout: Ignoring 2555 (19.6%) Users that have less than 1 test interactions\n",
      "EvaluatorHoldout: Processed 10485 (100.0%) in 5.11 min. Users per second: 34\n",
      "MAP is 0.004386133630053534\n",
      "EvaluatorHoldout: Processed 9000 (86.1%) in 5.14 min. Users per second: 29\n",
      "EvaluatorHoldout: Processed 8000 (76.4%) in 5.04 min. Users per second: 26\n",
      "EvaluatorHoldout: Processed 10456 (100.0%) in 5.92 min. Users per second: 29\n",
      "MAP is 0.013576817745715963\n",
      "EvaluatorHoldout: Processed 9000 (85.8%) in 5.37 min. Users per second: 28\n",
      "EvaluatorHoldout: Processed 9000 (86.0%) in 5.35 min. Users per second: 28\n",
      "EvaluatorHoldout: Processed 10472 (100.0%) in 5.92 min. Users per second: 30\n",
      "MAP is 0.012553153837292457\n",
      "EvaluatorHoldout: Processed 10469 (100.0%) in 5.83 min. Users per second: 30\n",
      "MAP is 0.01283038964622684\n",
      "EvaluatorHoldout: Processed 10490 (100.0%) in 5.86 min. Users per second: 30\n",
      "MAP is 0.011226723863997434\n"
     ]
    },
    {
     "name": "stderr",
     "output_type": "stream",
     "text": [
      "[I 2023-11-25 01:30:40,677] Trial 27 finished with value: 0.010914643744657247 and parameters: {'alpha': 1.5401971387972957, 'beta': 1.305244702145567, 'topK': 184}. Best is trial 16 with value: 0.02390904223420983.\n"
     ]
    },
    {
     "name": "stdout",
     "output_type": "stream",
     "text": [
      "RP3betaRecommender: URM Detected 1482 (11.4%) users with no interactions.\n",
      "RP3betaRecommender: URM Detected 1512 ( 6.8%) items with no interactions.\n",
      "RP3betaRecommender: URM Detected 951 ( 7.3%) users with no interactions.\n",
      "RP3betaRecommender: URM Detected 602 ( 4.6%) users with no interactions.\n",
      "RP3betaRecommender: URM Detected 634 ( 4.9%) users with no interactions.\n",
      "RP3betaRecommender: URM Detected 601 ( 4.6%) users with no interactions.\n",
      "RP3betaRecommender: URM Detected 551 ( 2.5%) items with no interactions.\n",
      "RP3betaRecommender: URM Detected 231 ( 1.0%) items with no interactions.RP3betaRecommender: URM Detected 250 ( 1.1%) items with no interactions.\n",
      "\n",
      "RP3betaRecommender: URM Detected 235 ( 1.1%) items with no interactions.\n",
      "RP3betaRecommender: Similarity column 22347 (100.0%), 153.39 column/sec. Elapsed time 2.43 min\n",
      "EvaluatorHoldout: Ignoring 2539 (19.5%) Users that have less than 1 test interactions\n",
      "RP3betaRecommender: Similarity column 22347 (100.0%), 91.75 column/sec. Elapsed time 4.06 min\n",
      "RP3betaRecommender: Similarity column 22347 (100.0%), 88.18 column/sec. Elapsed time 4.22 min\n",
      "RP3betaRecommender: Similarity column 22347 (100.0%), 87.54 column/sec. Elapsed time 4.25 min\n",
      "EvaluatorHoldout: Ignoring 2555 (19.6%) Users that have less than 1 test interactions\n",
      "EvaluatorHoldout: Ignoring 2534 (19.5%) Users that have less than 1 test interactions\n",
      "EvaluatorHoldout: Ignoring 2552 (19.6%) Users that have less than 1 test interactions\n",
      "RP3betaRecommender: Similarity column 22347 (100.0%), 78.66 column/sec. Elapsed time 4.73 min\n",
      "EvaluatorHoldout: Ignoring 2568 (19.7%) Users that have less than 1 test interactions\n",
      "EvaluatorHoldout: Processed 10485 (100.0%) in 5.27 min. Users per second: 33\n",
      "MAP is 0.008601426073529041\n",
      "EvaluatorHoldout: Processed 8000 (76.4%) in 5.11 min. Users per second: 26\n",
      "EvaluatorHoldout: Processed 8000 (76.3%) in 5.09 min. Users per second: 26\n",
      "EvaluatorHoldout: Processed 8000 (76.4%) in 5.22 min. Users per second: 26\n",
      "EvaluatorHoldout: Processed 8000 (76.5%) in 5.07 min. Users per second: 26\n",
      "EvaluatorHoldout: Processed 10469 (100.0%) in 6.54 min. Users per second: 27\n",
      "MAP is 0.01151016151995229\n",
      "EvaluatorHoldout: Processed 10490 (100.0%) in 6.47 min. Users per second: 27\n",
      "MAP is 0.011084687608758104\n",
      "EvaluatorHoldout: Processed 10472 (100.0%) in 6.52 min. Users per second: 27\n",
      "MAP is 0.01254186902033535\n",
      "EvaluatorHoldout: Processed 10456 (100.0%) in 6.06 min. Users per second: 29\n"
     ]
    },
    {
     "name": "stderr",
     "output_type": "stream",
     "text": [
      "[I 2023-11-25 01:41:57,885] Trial 28 finished with value: 0.0108867894692341 and parameters: {'alpha': 5.879347456913347, 'beta': 0.6632547825194492, 'topK': 563}. Best is trial 16 with value: 0.02390904223420983.\n"
     ]
    },
    {
     "name": "stdout",
     "output_type": "stream",
     "text": [
      "MAP is 0.010695803123595724\n",
      "RP3betaRecommender: URM Detected 951 ( 7.3%) users with no interactions.\n",
      "RP3betaRecommender: URM Detected 1482 (11.4%) users with no interactions.\n",
      "RP3betaRecommender: URM Detected 1512 ( 6.8%) items with no interactions.\n",
      "RP3betaRecommender: URM Detected 634 ( 4.9%) users with no interactions.\n",
      "RP3betaRecommender: URM Detected 551 ( 2.5%) items with no interactions.\n",
      "RP3betaRecommender: URM Detected 601 ( 4.6%) users with no interactions.\n",
      "RP3betaRecommender: URM Detected 602 ( 4.6%) users with no interactions.\n",
      "RP3betaRecommender: URM Detected 250 ( 1.1%) items with no interactions.\n",
      "RP3betaRecommender: URM Detected 235 ( 1.1%) items with no interactions.\n",
      "RP3betaRecommender: URM Detected 231 ( 1.0%) items with no interactions.\n",
      "RP3betaRecommender: Similarity column 22347 (100.0%), 178.00 column/sec. Elapsed time 2.09 min\n",
      "EvaluatorHoldout: Ignoring 2539 (19.5%) Users that have less than 1 test interactions\n",
      "RP3betaRecommender: Similarity column 22347 (100.0%), 136.09 column/sec. Elapsed time 2.74 min\n",
      "EvaluatorHoldout: Ignoring 2568 (19.7%) Users that have less than 1 test interactions\n",
      "RP3betaRecommender: Similarity column 22347 (100.0%), 105.88 column/sec. Elapsed time 3.52 min\n",
      "RP3betaRecommender: Similarity column 22347 (100.0%), 104.97 column/sec. Elapsed time 3.55 min\n",
      "EvaluatorHoldout: Ignoring 2552 (19.6%) Users that have less than 1 test interactions\n",
      "RP3betaRecommender: Similarity column 22347 (100.0%), 102.32 column/sec. Elapsed time 3.64 min\n",
      "EvaluatorHoldout: Ignoring 2555 (19.6%) Users that have less than 1 test interactions\n",
      "EvaluatorHoldout: Ignoring 2534 (19.5%) Users that have less than 1 test interactions\n",
      "EvaluatorHoldout: Processed 10485 (100.0%) in 5.15 min. Users per second: 34\n",
      "MAP is 0.0014505870063809964\n",
      "EvaluatorHoldout: Processed 9000 (86.1%) in 5.27 min. Users per second: 28\n",
      "EvaluatorHoldout: Processed 8000 (76.4%) in 5.04 min. Users per second: 26\n",
      "EvaluatorHoldout: Processed 8000 (76.4%) in 5.07 min. Users per second: 26\n",
      "EvaluatorHoldout: Processed 8000 (76.3%) in 5.10 min. Users per second: 26\n",
      "EvaluatorHoldout: Processed 10456 (100.0%) in 6.09 min. Users per second: 29\n",
      "MAP is 0.005233529620723581\n",
      "EvaluatorHoldout: Processed 10469 (100.0%) in 6.05 min. Users per second: 29\n",
      "MAP is 0.0075201501939967845\n",
      "EvaluatorHoldout: Processed 10472 (100.0%) in 6.10 min. Users per second: 29\n",
      "MAP is 0.006636237828464716\n",
      "EvaluatorHoldout: Processed 10490 (100.0%) in 5.99 min. Users per second: 29\n"
     ]
    },
    {
     "name": "stderr",
     "output_type": "stream",
     "text": [
      "[I 2023-11-25 01:51:44,011] Trial 29 finished with value: 0.00541600066813707 and parameters: {'alpha': 1.1086549428286545, 'beta': 1.552959078273106, 'topK': 251}. Best is trial 16 with value: 0.02390904223420983.\n"
     ]
    },
    {
     "name": "stdout",
     "output_type": "stream",
     "text": [
      "MAP is 0.006239498691119274\n",
      "RP3betaRecommender: URM Detected 1482 (11.4%) users with no interactions.\n",
      "RP3betaRecommender: URM Detected 951 ( 7.3%) users with no interactions.\n",
      "RP3betaRecommender: URM Detected 1512 ( 6.8%) items with no interactions.\n",
      "RP3betaRecommender: URM Detected 602 ( 4.6%) users with no interactions.\n",
      "RP3betaRecommender: URM Detected 634 ( 4.9%) users with no interactions.\n",
      "RP3betaRecommender: URM Detected 551 ( 2.5%) items with no interactions.\n",
      "RP3betaRecommender: URM Detected 601 ( 4.6%) users with no interactions.\n",
      "RP3betaRecommender: URM Detected 231 ( 1.0%) items with no interactions.\n",
      "RP3betaRecommender: URM Detected 235 ( 1.1%) items with no interactions.\n",
      "RP3betaRecommender: URM Detected 250 ( 1.1%) items with no interactions.\n",
      "RP3betaRecommender: Similarity column 22347 (100.0%), 159.32 column/sec. Elapsed time 2.34 min\n",
      "EvaluatorHoldout: Ignoring 2539 (19.5%) Users that have less than 1 test interactions\n",
      "RP3betaRecommender: Similarity column 22347 (100.0%), 121.32 column/sec. Elapsed time 3.07 min\n",
      "EvaluatorHoldout: Ignoring 2568 (19.7%) Users that have less than 1 test interactions\n",
      "RP3betaRecommender: Similarity column 22347 (100.0%), 96.46 column/sec. Elapsed time 3.86 min\n",
      "RP3betaRecommender: Similarity column 22347 (100.0%), 95.27 column/sec. Elapsed time 3.91 min\n",
      "RP3betaRecommender: Similarity column 22347 (100.0%), 94.69 column/sec. Elapsed time 3.93 min\n",
      "EvaluatorHoldout: Ignoring 2555 (19.6%) Users that have less than 1 test interactions\n",
      "EvaluatorHoldout: Ignoring 2534 (19.5%) Users that have less than 1 test interactions\n",
      "EvaluatorHoldout: Ignoring 2552 (19.6%) Users that have less than 1 test interactions\n",
      "EvaluatorHoldout: Processed 10000 (95.4%) in 5.44 min. Users per second: 31\n",
      "EvaluatorHoldout: Processed 10485 (100.0%) in 5.77 min. Users per second: 30\n",
      "MAP is 0.019682339093640946\n",
      "EvaluatorHoldout: Processed 9000 (86.1%) in 5.45 min. Users per second: 28\n",
      "EvaluatorHoldout: Processed 8000 (76.4%) in 5.10 min. Users per second: 26\n",
      "EvaluatorHoldout: Processed 8000 (76.3%) in 5.05 min. Users per second: 26\n",
      "EvaluatorHoldout: Processed 8000 (76.4%) in 5.02 min. Users per second: 27\n",
      "EvaluatorHoldout: Processed 10456 (100.0%) in 6.17 min. Users per second: 28\n",
      "MAP is 0.023035490369317846\n",
      "EvaluatorHoldout: Processed 10469 (100.0%) in 6.05 min. Users per second: 29\n",
      "MAP is 0.026357647749137084\n",
      "EvaluatorHoldout: Processed 10490 (100.0%) in 6.00 min. Users per second: 29\n",
      "EvaluatorHoldout: Processed 10472 (100.0%) in 5.95 min. Users per second: 29\n",
      "MAP is 0.025509366625438106\n",
      "MAP is 0.026071969525020163\n"
     ]
    },
    {
     "name": "stderr",
     "output_type": "stream",
     "text": [
      "[I 2023-11-25 02:01:54,459] Trial 30 finished with value: 0.024131362672510828 and parameters: {'alpha': 2.2043541319954834, 'beta': 0.15281127581171283, 'topK': 410}. Best is trial 30 with value: 0.024131362672510828.\n"
     ]
    },
    {
     "name": "stdout",
     "output_type": "stream",
     "text": [
      "RP3betaRecommender: URM Detected 1482 (11.4%) users with no interactions.\n",
      "RP3betaRecommender: URM Detected 1512 ( 6.8%) items with no interactions.\n",
      "RP3betaRecommender: URM Detected 951 ( 7.3%) users with no interactions.\n",
      "RP3betaRecommender: URM Detected 634 ( 4.9%) users with no interactions.\n",
      "RP3betaRecommender: URM Detected 601 ( 4.6%) users with no interactions.\n",
      "RP3betaRecommender: URM Detected 551 ( 2.5%) items with no interactions.\n",
      "RP3betaRecommender: URM Detected 250 ( 1.1%) items with no interactions.\n",
      "RP3betaRecommender: URM Detected 602 ( 4.6%) users with no interactions.\n",
      "RP3betaRecommender: URM Detected 235 ( 1.1%) items with no interactions.\n",
      "RP3betaRecommender: URM Detected 231 ( 1.0%) items with no interactions.\n",
      "RP3betaRecommender: Similarity column 22347 (100.0%), 188.57 column/sec. Elapsed time 1.98 min\n",
      "EvaluatorHoldout: Ignoring 2539 (19.5%) Users that have less than 1 test interactions\n",
      "RP3betaRecommender: Similarity column 22347 (100.0%), 134.47 column/sec. Elapsed time 2.77 min\n",
      "EvaluatorHoldout: Ignoring 2568 (19.7%) Users that have less than 1 test interactions\n",
      "RP3betaRecommender: Similarity column 22347 (100.0%), 107.15 column/sec. Elapsed time 3.48 min\n",
      "RP3betaRecommender: Similarity column 22347 (100.0%), 106.33 column/sec. Elapsed time 3.50 min\n",
      "EvaluatorHoldout: Ignoring 2555 (19.6%) Users that have less than 1 test interactions\n",
      "EvaluatorHoldout: Ignoring 2552 (19.6%) Users that have less than 1 test interactions\n",
      "RP3betaRecommender: Similarity column 22347 (100.0%), 97.79 column/sec. Elapsed time 3.81 min\n",
      "EvaluatorHoldout: Ignoring 2534 (19.5%) Users that have less than 1 test interactions\n",
      "EvaluatorHoldout: Processed 10485 (100.0%) in 4.58 min. Users per second: 38\n",
      "MAP is 0.01840817570073653\n",
      "EvaluatorHoldout: Processed 9000 (86.1%) in 5.10 min. Users per second: 29\n",
      "EvaluatorHoldout: Processed 10456 (100.0%) in 5.89 min. Users per second: 30\n",
      "MAP is 0.023963456844099566\n",
      "EvaluatorHoldout: Processed 9000 (86.0%) in 5.42 min. Users per second: 28\n",
      "EvaluatorHoldout: Processed 9000 (85.9%) in 5.40 min. Users per second: 28\n",
      "EvaluatorHoldout: Processed 9000 (85.8%) in 5.35 min. Users per second: 28\n",
      "EvaluatorHoldout: Processed 10469 (100.0%) in 5.99 min. Users per second: 29\n",
      "MAP is 0.028615894697421315\n",
      "EvaluatorHoldout: Processed 10472 (100.0%) in 5.95 min. Users per second: 29\n",
      "MAP is 0.027170928977651828\n",
      "EvaluatorHoldout: Processed 10490 (100.0%) in 5.69 min. Users per second: 31\n"
     ]
    },
    {
     "name": "stderr",
     "output_type": "stream",
     "text": [
      "[I 2023-11-25 02:11:31,731] Trial 31 finished with value: 0.02529746968754869 and parameters: {'alpha': 2.4977222487908515, 'beta': 0.14167903765043044, 'topK': 133}. Best is trial 31 with value: 0.02529746968754869.\n"
     ]
    },
    {
     "name": "stdout",
     "output_type": "stream",
     "text": [
      "MAP is 0.0283288922178342\n",
      "RP3betaRecommender: URM Detected 1482 (11.4%) users with no interactions.\n",
      "RP3betaRecommender: URM Detected 1512 ( 6.8%) items with no interactions.\n",
      "RP3betaRecommender: URM Detected 951 ( 7.3%) users with no interactions.\n",
      "RP3betaRecommender: URM Detected 551 ( 2.5%) items with no interactions.\n",
      "RP3betaRecommender: URM Detected 634 ( 4.9%) users with no interactions.\n",
      "RP3betaRecommender: URM Detected 602 ( 4.6%) users with no interactions.\n",
      "RP3betaRecommender: URM Detected 601 ( 4.6%) users with no interactions.\n",
      "RP3betaRecommender: URM Detected 250 ( 1.1%) items with no interactions.\n",
      "RP3betaRecommender: URM Detected 231 ( 1.0%) items with no interactions.\n",
      "RP3betaRecommender: URM Detected 235 ( 1.1%) items with no interactions.\n",
      "RP3betaRecommender: Similarity column 22347 (100.0%), 186.68 column/sec. Elapsed time 2.00 min\n",
      "EvaluatorHoldout: Ignoring 2539 (19.5%) Users that have less than 1 test interactions\n",
      "RP3betaRecommender: Similarity column 22347 (100.0%), 138.45 column/sec. Elapsed time 2.69 min\n",
      "EvaluatorHoldout: Ignoring 2568 (19.7%) Users that have less than 1 test interactions\n",
      "RP3betaRecommender: Similarity column 22347 (100.0%), 107.01 column/sec. Elapsed time 3.48 min\n",
      "RP3betaRecommender: Similarity column 22347 (100.0%), 106.78 column/sec. Elapsed time 3.49 min\n",
      "EvaluatorHoldout: Ignoring 2555 (19.6%) Users that have less than 1 test interactions\n",
      "EvaluatorHoldout: Ignoring 2552 (19.6%) Users that have less than 1 test interactions\n",
      "RP3betaRecommender: Similarity column 22347 (100.0%), 104.33 column/sec. Elapsed time 3.57 min\n",
      "EvaluatorHoldout: Ignoring 2534 (19.5%) Users that have less than 1 test interactions\n",
      "EvaluatorHoldout: Processed 10485 (100.0%) in 4.35 min. Users per second: 40\n",
      "MAP is 0.01941944652602738\n",
      "EvaluatorHoldout: Processed 10000 (95.6%) in 5.26 min. Users per second: 32\n",
      "EvaluatorHoldout: Processed 10456 (100.0%) in 5.51 min. Users per second: 32\n",
      "MAP is 0.024669484218068836\n",
      "EvaluatorHoldout: Processed 9000 (86.0%) in 5.15 min. Users per second: 29\n",
      "EvaluatorHoldout: Processed 9000 (85.8%) in 5.10 min. Users per second: 29\n",
      "EvaluatorHoldout: Processed 9000 (85.9%) in 5.17 min. Users per second: 29\n",
      "EvaluatorHoldout: Processed 10469 (100.0%) in 5.66 min. Users per second: 31\n",
      "MAP is 0.028908864720785868\n",
      "EvaluatorHoldout: Processed 10472 (100.0%) in 5.66 min. Users per second: 31\n",
      "MAP is 0.02753274036887504\n",
      "EvaluatorHoldout: Processed 10490 (100.0%) in 5.60 min. Users per second: 31\n",
      "MAP is 0.028922980313828915\n"
     ]
    },
    {
     "name": "stderr",
     "output_type": "stream",
     "text": [
      "[I 2023-11-25 02:20:48,201] Trial 32 finished with value: 0.02589070322951721 and parameters: {'alpha': 2.0951727264159836, 'beta': 0.13316015723607844, 'topK': 137}. Best is trial 32 with value: 0.02589070322951721.\n"
     ]
    },
    {
     "name": "stdout",
     "output_type": "stream",
     "text": [
      "RP3betaRecommender: URM Detected 1482 (11.4%) users with no interactions.\n",
      "RP3betaRecommender: URM Detected 1512 ( 6.8%) items with no interactions.\n",
      "RP3betaRecommender: URM Detected 951 ( 7.3%) users with no interactions.\n",
      "RP3betaRecommender: URM Detected 602 ( 4.6%) users with no interactions.\n",
      "RP3betaRecommender: URM Detected 551 ( 2.5%) items with no interactions.\n",
      "RP3betaRecommender: URM Detected 634 ( 4.9%) users with no interactions.\n",
      "RP3betaRecommender: URM Detected 601 ( 4.6%) users with no interactions.\n",
      "RP3betaRecommender: URM Detected 250 ( 1.1%) items with no interactions.\n",
      "RP3betaRecommender: URM Detected 231 ( 1.0%) items with no interactions.\n",
      "RP3betaRecommender: URM Detected 235 ( 1.1%) items with no interactions.\n",
      "RP3betaRecommender: Similarity column 22347 (100.0%), 188.72 column/sec. Elapsed time 1.97 min\n",
      "EvaluatorHoldout: Ignoring 2539 (19.5%) Users that have less than 1 test interactions\n",
      "RP3betaRecommender: Similarity column 22347 (100.0%), 137.29 column/sec. Elapsed time 2.71 min\n",
      "EvaluatorHoldout: Ignoring 2568 (19.7%) Users that have less than 1 test interactions\n",
      "RP3betaRecommender: Similarity column 22347 (100.0%), 108.37 column/sec. Elapsed time 3.44 min\n",
      "EvaluatorHoldout: Ignoring 2555 (19.6%) Users that have less than 1 test interactions\n",
      "RP3betaRecommender: Similarity column 22347 (100.0%), 107.06 column/sec. Elapsed time 3.48 min\n",
      "EvaluatorHoldout: Ignoring 2534 (19.5%) Users that have less than 1 test interactions\n",
      "RP3betaRecommender: Similarity column 22347 (100.0%), 105.34 column/sec. Elapsed time 3.54 min\n",
      "EvaluatorHoldout: Ignoring 2552 (19.6%) Users that have less than 1 test interactions\n",
      "EvaluatorHoldout: Processed 10485 (100.0%) in 4.03 min. Users per second: 43\n",
      "MAP is 0.020387140359243446\n",
      "EvaluatorHoldout: Processed 10000 (95.6%) in 5.07 min. Users per second: 33\n",
      "EvaluatorHoldout: Processed 10456 (100.0%) in 5.32 min. Users per second: 33\n",
      "MAP is 0.02447171290730014\n",
      "EvaluatorHoldout: Processed 10000 (95.5%) in 5.30 min. Users per second: 31\n",
      "EvaluatorHoldout: Processed 10000 (95.5%) in 5.28 min. Users per second: 32\n",
      "EvaluatorHoldout: Processed 10000 (95.3%) in 5.36 min. Users per second: 31\n",
      "EvaluatorHoldout: Processed 10469 (100.0%) in 5.46 min. Users per second: 32\n",
      "MAP is 0.028566546432627484\n",
      "EvaluatorHoldout: Processed 10472 (100.0%) in 5.43 min. Users per second: 32\n",
      "MAP is 0.027360243339760348\n",
      "EvaluatorHoldout: Processed 10490 (100.0%) in 5.49 min. Users per second: 32\n",
      "MAP is 0.028873201234736214\n"
     ]
    },
    {
     "name": "stderr",
     "output_type": "stream",
     "text": [
      "[I 2023-11-25 02:29:51,266] Trial 33 finished with value: 0.025931768854733528 and parameters: {'alpha': 1.6282140165975085, 'beta': 0.11208976775306737, 'topK': 125}. Best is trial 33 with value: 0.025931768854733528.\n"
     ]
    },
    {
     "name": "stdout",
     "output_type": "stream",
     "text": [
      "RP3betaRecommender: URM Detected 1482 (11.4%) users with no interactions.\n",
      "RP3betaRecommender: URM Detected 951 ( 7.3%) users with no interactions.\n",
      "RP3betaRecommender: URM Detected 1512 ( 6.8%) items with no interactions.\n",
      "RP3betaRecommender: URM Detected 551 ( 2.5%) items with no interactions.\n",
      "RP3betaRecommender: URM Detected 601 ( 4.6%) users with no interactions.\n",
      "RP3betaRecommender: URM Detected 634 ( 4.9%) users with no interactions.\n",
      "RP3betaRecommender: URM Detected 235 ( 1.1%) items with no interactions.\n",
      "RP3betaRecommender: URM Detected 602 ( 4.6%) users with no interactions.\n",
      "RP3betaRecommender: URM Detected 250 ( 1.1%) items with no interactions.\n",
      "RP3betaRecommender: URM Detected 231 ( 1.0%) items with no interactions.\n",
      "RP3betaRecommender: Similarity column 22347 (100.0%), 193.67 column/sec. Elapsed time 1.92 min\n",
      "EvaluatorHoldout: Ignoring 2539 (19.5%) Users that have less than 1 test interactions\n",
      "RP3betaRecommender: Similarity column 22347 (100.0%), 142.77 column/sec. Elapsed time 2.61 min\n",
      "EvaluatorHoldout: Ignoring 2568 (19.7%) Users that have less than 1 test interactions\n",
      "RP3betaRecommender: Similarity column 22347 (100.0%), 109.96 column/sec. Elapsed time 3.39 min\n",
      "EvaluatorHoldout: Ignoring 2552 (19.6%) Users that have less than 1 test interactions\n",
      "RP3betaRecommender: Similarity column 22347 (100.0%), 106.68 column/sec. Elapsed time 3.49 min\n",
      "EvaluatorHoldout: Ignoring 2555 (19.6%) Users that have less than 1 test interactions\n",
      "RP3betaRecommender: Similarity column 22347 (100.0%), 103.53 column/sec. Elapsed time 3.60 min\n",
      "EvaluatorHoldout: Ignoring 2534 (19.5%) Users that have less than 1 test interactions\n",
      "EvaluatorHoldout: Processed 10485 (100.0%) in 4.33 min. Users per second: 40\n",
      "MAP is 0.019886322864863724\n",
      "EvaluatorHoldout: Processed 10000 (95.6%) in 5.32 min. Users per second: 31\n",
      "EvaluatorHoldout: Processed 10456 (100.0%) in 5.56 min. Users per second: 31\n",
      "MAP is 0.024703227280455757\n",
      "EvaluatorHoldout: Processed 9000 (85.9%) in 5.21 min. Users per second: 29\n",
      "EvaluatorHoldout: Processed 9000 (86.0%) in 5.24 min. Users per second: 29\n",
      "EvaluatorHoldout: Processed 9000 (85.8%) in 5.20 min. Users per second: 29\n",
      "EvaluatorHoldout: Processed 10472 (100.0%) in 5.76 min. Users per second: 30\n",
      "MAP is 0.02787173581553855\n",
      "EvaluatorHoldout: Processed 10469 (100.0%) in 5.73 min. Users per second: 30\n",
      "MAP is 0.02925550794712147\n",
      "EvaluatorHoldout: Processed 10490 (100.0%) in 5.64 min. Users per second: 31\n"
     ]
    },
    {
     "name": "stderr",
     "output_type": "stream",
     "text": [
      "[I 2023-11-25 02:39:10,955] Trial 34 finished with value: 0.026230814710901253 and parameters: {'alpha': 1.756631468134464, 'beta': 0.13036453941611875, 'topK': 117}. Best is trial 34 with value: 0.026230814710901253.\n"
     ]
    },
    {
     "name": "stdout",
     "output_type": "stream",
     "text": [
      "MAP is 0.029437279646526746\n",
      "RP3betaRecommender: URM Detected 1482 (11.4%) users with no interactions.\n",
      "RP3betaRecommender: URM Detected 1512 ( 6.8%) items with no interactions.\n",
      "RP3betaRecommender: URM Detected 951 ( 7.3%) users with no interactions.\n",
      "RP3betaRecommender: URM Detected 602 ( 4.6%) users with no interactions.\n",
      "RP3betaRecommender: URM Detected 634 ( 4.9%) users with no interactions.\n",
      "RP3betaRecommender: URM Detected 551 ( 2.5%) items with no interactions.\n",
      "RP3betaRecommender: URM Detected 601 ( 4.6%) users with no interactions.\n",
      "RP3betaRecommender: URM Detected 250 ( 1.1%) items with no interactions.\n",
      "RP3betaRecommender: URM Detected 231 ( 1.0%) items with no interactions.\n",
      "RP3betaRecommender: URM Detected 235 ( 1.1%) items with no interactions.\n",
      "RP3betaRecommender: Similarity column 22347 (100.0%), 187.76 column/sec. Elapsed time 1.98 min\n",
      "EvaluatorHoldout: Ignoring 2539 (19.5%) Users that have less than 1 test interactions\n",
      "RP3betaRecommender: Similarity column 22347 (100.0%), 138.75 column/sec. Elapsed time 2.68 min\n",
      "EvaluatorHoldout: Ignoring 2568 (19.7%) Users that have less than 1 test interactions\n",
      "RP3betaRecommender: Similarity column 22347 (100.0%), 106.77 column/sec. Elapsed time 3.49 min\n",
      "EvaluatorHoldout: Ignoring 2555 (19.6%) Users that have less than 1 test interactions\n",
      "RP3betaRecommender: Similarity column 22347 (100.0%), 103.87 column/sec. Elapsed time 3.59 min\n",
      "EvaluatorHoldout: Ignoring 2534 (19.5%) Users that have less than 1 test interactions\n",
      "RP3betaRecommender: Similarity column 22347 (100.0%), 101.93 column/sec. Elapsed time 3.65 min\n",
      "EvaluatorHoldout: Ignoring 2552 (19.6%) Users that have less than 1 test interactions\n",
      "EvaluatorHoldout: Processed 10485 (100.0%) in 4.29 min. Users per second: 41\n",
      "MAP is 0.02086645699449712\n",
      "EvaluatorHoldout: Processed 10000 (95.6%) in 5.15 min. Users per second: 32\n",
      "EvaluatorHoldout: Processed 10456 (100.0%) in 5.41 min. Users per second: 32\n",
      "MAP is 0.024397224651145893\n",
      "EvaluatorHoldout: Processed 9000 (86.0%) in 5.05 min. Users per second: 30\n",
      "EvaluatorHoldout: Processed 9000 (85.8%) in 5.08 min. Users per second: 30\n",
      "EvaluatorHoldout: Processed 9000 (85.9%) in 5.06 min. Users per second: 30\n",
      "EvaluatorHoldout: Processed 10469 (100.0%) in 5.64 min. Users per second: 31\n",
      "MAP is 0.028250731183676183\n",
      "EvaluatorHoldout: Processed 10490 (100.0%) in 5.62 min. Users per second: 31\n",
      "MAP is 0.028033141918985763\n",
      "EvaluatorHoldout: Processed 10472 (100.0%) in 5.56 min. Users per second: 31\n"
     ]
    },
    {
     "name": "stderr",
     "output_type": "stream",
     "text": [
      "[I 2023-11-25 02:48:28,827] Trial 35 finished with value: 0.025654916536138044 and parameters: {'alpha': 1.430118428103625, 'beta': 0.057644205968699146, 'topK': 122}. Best is trial 34 with value: 0.026230814710901253.\n"
     ]
    },
    {
     "name": "stdout",
     "output_type": "stream",
     "text": [
      "MAP is 0.026727027932385263\n",
      "RP3betaRecommender: URM Detected 951 ( 7.3%) users with no interactions.\n",
      "RP3betaRecommender: URM Detected 1482 (11.4%) users with no interactions.\n",
      "RP3betaRecommender: URM Detected 551 ( 2.5%) items with no interactions.\n",
      "RP3betaRecommender: URM Detected 1512 ( 6.8%) items with no interactions.\n",
      "RP3betaRecommender: URM Detected 602 ( 4.6%) users with no interactions.\n",
      "RP3betaRecommender: URM Detected 601 ( 4.6%) users with no interactions.\n",
      "RP3betaRecommender: URM Detected 634 ( 4.9%) users with no interactions.\n",
      "RP3betaRecommender: URM Detected 231 ( 1.0%) items with no interactions.\n",
      "RP3betaRecommender: URM Detected 235 ( 1.1%) items with no interactions.\n",
      "RP3betaRecommender: URM Detected 250 ( 1.1%) items with no interactions.\n",
      "RP3betaRecommender: Similarity column 22347 (100.0%), 185.65 column/sec. Elapsed time 2.01 min\n",
      "EvaluatorHoldout: Ignoring 2539 (19.5%) Users that have less than 1 test interactions\n",
      "RP3betaRecommender: Similarity column 22347 (100.0%), 133.89 column/sec. Elapsed time 2.78 min\n",
      "EvaluatorHoldout: Ignoring 2568 (19.7%) Users that have less than 1 test interactions\n",
      "RP3betaRecommender: Similarity column 22347 (100.0%), 104.76 column/sec. Elapsed time 3.56 min\n",
      "EvaluatorHoldout: Ignoring 2555 (19.6%) Users that have less than 1 test interactions\n",
      "RP3betaRecommender: Similarity column 22347 (100.0%), 99.06 column/sec. Elapsed time 3.76 min\n",
      "EvaluatorHoldout: Ignoring 2552 (19.6%) Users that have less than 1 test interactions\n",
      "RP3betaRecommender: Similarity column 19400 (86.8%), 64.22 column/sec. Elapsed time 5.03 min\n",
      "EvaluatorHoldout: Processed 10485 (100.0%) in 3.33 min. Users per second: 52\n",
      "MAP is 0.020742731490943217\n",
      "RP3betaRecommender: Similarity column 22347 (100.0%), 66.56 column/sec. Elapsed time 5.60 min\n",
      "EvaluatorHoldout: Ignoring 2534 (19.5%) Users that have less than 1 test interactions\n",
      "EvaluatorHoldout: Processed 10456 (100.0%) in 4.78 min. Users per second: 36\n",
      "MAP is 0.02126000792436337\n",
      "EvaluatorHoldout: Processed 10469 (100.0%) in 5.00 min. Users per second: 35\n",
      "MAP is 0.024298219080672073\n",
      "EvaluatorHoldout: Processed 10472 (100.0%) in 4.92 min. Users per second: 35\n",
      "MAP is 0.02298101437544721\n",
      "EvaluatorHoldout: Processed 10490 (100.0%) in 3.34 min. Users per second: 52\n"
     ]
    },
    {
     "name": "stderr",
     "output_type": "stream",
     "text": [
      "[I 2023-11-25 02:57:29,505] Trial 36 finished with value: 0.022609747729973893 and parameters: {'alpha': 0.6380399967828632, 'beta': 0.06395018765811977, 'topK': 115}. Best is trial 34 with value: 0.026230814710901253.\n"
     ]
    },
    {
     "name": "stdout",
     "output_type": "stream",
     "text": [
      "MAP is 0.0237667657784436\n",
      "RP3betaRecommender: URM Detected 951 ( 7.3%) users with no interactions.\n",
      "RP3betaRecommender: URM Detected 1482 (11.4%) users with no interactions.\n",
      "RP3betaRecommender: URM Detected 1512 ( 6.8%) items with no interactions.\n",
      "RP3betaRecommender: URM Detected 602 ( 4.6%) users with no interactions.\n",
      "RP3betaRecommender: URM Detected 551 ( 2.5%) items with no interactions.\n",
      "RP3betaRecommender: URM Detected 634 ( 4.9%) users with no interactions.\n",
      "RP3betaRecommender: URM Detected 601 ( 4.6%) users with no interactions.\n",
      "RP3betaRecommender: URM Detected 231 ( 1.0%) items with no interactions.\n",
      "RP3betaRecommender: URM Detected 235 ( 1.1%) items with no interactions.\n",
      "RP3betaRecommender: URM Detected 250 ( 1.1%) items with no interactions.\n",
      "RP3betaRecommender: Similarity column 22347 (100.0%), 198.04 column/sec. Elapsed time 1.88 min\n",
      "EvaluatorHoldout: Ignoring 2539 (19.5%) Users that have less than 1 test interactions\n",
      "RP3betaRecommender: Similarity column 22347 (100.0%), 142.85 column/sec. Elapsed time 2.61 min\n",
      "EvaluatorHoldout: Ignoring 2568 (19.7%) Users that have less than 1 test interactions\n",
      "RP3betaRecommender: Similarity column 22347 (100.0%), 112.24 column/sec. Elapsed time 3.32 min\n",
      "EvaluatorHoldout: Ignoring 2555 (19.6%) Users that have less than 1 test interactions\n",
      "RP3betaRecommender: Similarity column 22347 (100.0%), 109.94 column/sec. Elapsed time 3.39 min\n",
      "EvaluatorHoldout: Ignoring 2552 (19.6%) Users that have less than 1 test interactions\n",
      "RP3betaRecommender: Similarity column 22347 (100.0%), 104.48 column/sec. Elapsed time 3.56 min\n",
      "EvaluatorHoldout: Ignoring 2534 (19.5%) Users that have less than 1 test interactions\n",
      "EvaluatorHoldout: Processed 10485 (100.0%) in 3.71 min. Users per second: 47\n",
      "MAP is 0.02038832496915473\n",
      "EvaluatorHoldout: Processed 10000 (95.6%) in 5.02 min. Users per second: 33\n",
      "EvaluatorHoldout: Processed 10456 (100.0%) in 5.28 min. Users per second: 33\n",
      "MAP is 0.024325734597588078\n",
      "EvaluatorHoldout: Processed 10000 (95.5%) in 5.32 min. Users per second: 31\n",
      "EvaluatorHoldout: Processed 10000 (95.5%) in 5.30 min. Users per second: 31\n",
      "EvaluatorHoldout: Processed 10469 (100.0%) in 5.49 min. Users per second: 32\n",
      "MAP is 0.02957735005996552\n",
      "EvaluatorHoldout: Processed 10000 (95.3%) in 5.25 min. Users per second: 32\n",
      "EvaluatorHoldout: Processed 10472 (100.0%) in 5.45 min. Users per second: 32\n",
      "MAP is 0.02829008876277802\n",
      "EvaluatorHoldout: Processed 10490 (100.0%) in 5.30 min. Users per second: 33\n"
     ]
    },
    {
     "name": "stderr",
     "output_type": "stream",
     "text": [
      "[I 2023-11-25 03:06:25,008] Trial 37 finished with value: 0.026357928893930717 and parameters: {'alpha': 1.1876629687865083, 'beta': 0.055133716599833016, 'topK': 48}. Best is trial 37 with value: 0.026357928893930717.\n"
     ]
    },
    {
     "name": "stdout",
     "output_type": "stream",
     "text": [
      "MAP is 0.029208146080167228\n",
      "RP3betaRecommender: URM Detected 1482 (11.4%) users with no interactions.\n",
      "RP3betaRecommender: URM Detected 951 ( 7.3%) users with no interactions.\n",
      "RP3betaRecommender: URM Detected 1512 ( 6.8%) items with no interactions.\n",
      "RP3betaRecommender: URM Detected 602 ( 4.6%) users with no interactions.\n",
      "RP3betaRecommender: URM Detected 551 ( 2.5%) items with no interactions.\n",
      "RP3betaRecommender: URM Detected 634 ( 4.9%) users with no interactions.\n",
      "RP3betaRecommender: URM Detected 601 ( 4.6%) users with no interactions.\n",
      "RP3betaRecommender: URM Detected 231 ( 1.0%) items with no interactions.\n",
      "RP3betaRecommender: URM Detected 250 ( 1.1%) items with no interactions.\n",
      "RP3betaRecommender: URM Detected 235 ( 1.1%) items with no interactions.\n",
      "RP3betaRecommender: Similarity column 22347 (100.0%), 197.03 column/sec. Elapsed time 1.89 min\n",
      "EvaluatorHoldout: Ignoring 2539 (19.5%) Users that have less than 1 test interactions\n",
      "RP3betaRecommender: Similarity column 22347 (100.0%), 141.78 column/sec. Elapsed time 2.63 min\n",
      "EvaluatorHoldout: Ignoring 2568 (19.7%) Users that have less than 1 test interactions\n",
      "RP3betaRecommender: Similarity column 22347 (100.0%), 109.72 column/sec. Elapsed time 3.39 min\n",
      "EvaluatorHoldout: Ignoring 2534 (19.5%) Users that have less than 1 test interactions\n",
      "RP3betaRecommender: Similarity column 22347 (100.0%), 106.95 column/sec. Elapsed time 3.48 min\n",
      "RP3betaRecommender: Similarity column 22347 (100.0%), 106.80 column/sec. Elapsed time 3.49 min\n",
      "EvaluatorHoldout: Ignoring 2555 (19.6%) Users that have less than 1 test interactions\n",
      "EvaluatorHoldout: Ignoring 2552 (19.6%) Users that have less than 1 test interactions\n",
      "EvaluatorHoldout: Processed 10485 (100.0%) in 3.39 min. Users per second: 52\n",
      "MAP is 0.018119005987389376\n",
      "EvaluatorHoldout: Processed 10456 (100.0%) in 4.95 min. Users per second: 35\n",
      "MAP is 0.02050539069236464\n",
      "EvaluatorHoldout: Processed 10490 (100.0%) in 5.09 min. Users per second: 34\n",
      "MAP is 0.024271857551409558\n",
      "EvaluatorHoldout: Processed 10472 (100.0%) in 5.06 min. Users per second: 34\n",
      "MAP is 0.023842279335976903\n",
      "EvaluatorHoldout: Processed 10469 (100.0%) in 5.07 min. Users per second: 34\n",
      "MAP is 0.025557511443460506\n"
     ]
    },
    {
     "name": "stderr",
     "output_type": "stream",
     "text": [
      "[I 2023-11-25 03:15:01,861] Trial 38 finished with value: 0.022459209002120194 and parameters: {'alpha': 0.2633508648823209, 'beta': 0.03197096464383144, 'topK': 46}. Best is trial 37 with value: 0.026357928893930717.\n"
     ]
    },
    {
     "name": "stdout",
     "output_type": "stream",
     "text": [
      "RP3betaRecommender: URM Detected 1482 (11.4%) users with no interactions.\n",
      "RP3betaRecommender: URM Detected 1512 ( 6.8%) items with no interactions.\n",
      "RP3betaRecommender: URM Detected 951 ( 7.3%) users with no interactions.\n",
      "RP3betaRecommender: URM Detected 551 ( 2.5%) items with no interactions.\n",
      "RP3betaRecommender: URM Detected 634 ( 4.9%) users with no interactions.\n",
      "RP3betaRecommender: URM Detected 601 ( 4.6%) users with no interactions.\n",
      "RP3betaRecommender: URM Detected 602 ( 4.6%) users with no interactions.\n",
      "RP3betaRecommender: URM Detected 235 ( 1.1%) items with no interactions.\n",
      "RP3betaRecommender: URM Detected 231 ( 1.0%) items with no interactions.\n",
      "RP3betaRecommender: URM Detected 250 ( 1.1%) items with no interactions.\n",
      "RP3betaRecommender: Similarity column 22347 (100.0%), 201.40 column/sec. Elapsed time 1.85 min\n",
      "EvaluatorHoldout: Ignoring 2539 (19.5%) Users that have less than 1 test interactions\n",
      "RP3betaRecommender: Similarity column 22347 (100.0%), 148.02 column/sec. Elapsed time 2.52 min\n",
      "EvaluatorHoldout: Ignoring 2568 (19.7%) Users that have less than 1 test interactions\n",
      "RP3betaRecommender: Similarity column 22347 (100.0%), 113.33 column/sec. Elapsed time 3.29 min\n",
      "EvaluatorHoldout: Ignoring 2555 (19.6%) Users that have less than 1 test interactions\n",
      "RP3betaRecommender: Similarity column 22347 (100.0%), 111.08 column/sec. Elapsed time 3.35 min\n",
      "EvaluatorHoldout: Ignoring 2534 (19.5%) Users that have less than 1 test interactions\n",
      "RP3betaRecommender: Similarity column 22347 (100.0%), 108.72 column/sec. Elapsed time 3.43 min\n",
      "EvaluatorHoldout: Ignoring 2552 (19.6%) Users that have less than 1 test interactions\n",
      "EvaluatorHoldout: Processed 10485 (100.0%) in 3.47 min. Users per second: 50\n",
      "MAP is 0.02047388181150706\n",
      "EvaluatorHoldout: Processed 10456 (100.0%) in 4.76 min. Users per second: 37\n",
      "MAP is 0.023490386016686744\n",
      "EvaluatorHoldout: Processed 10469 (100.0%) in 5.09 min. Users per second: 34\n",
      "MAP is 0.028846173964857936\n",
      "EvaluatorHoldout: Processed 10490 (100.0%) in 5.03 min. Users per second: 35\n",
      "MAP is 0.028260959038842827\n",
      "EvaluatorHoldout: Processed 10472 (100.0%) in 4.96 min. Users per second: 35\n",
      "MAP is 0.027309514714976977\n"
     ]
    },
    {
     "name": "stderr",
     "output_type": "stream",
     "text": [
      "[I 2023-11-25 03:23:28,161] Trial 39 finished with value: 0.025676183109374313 and parameters: {'alpha': 0.8976455376362996, 'beta': 0.10015758339050174, 'topK': 50}. Best is trial 37 with value: 0.026357928893930717.\n"
     ]
    }
   ],
   "source": [
    "if config['tune_hybrid']:\n",
    "    study = optuna.create_study(direction='maximize', study_name='hyperparameters_tuning_stag2_rp3', \n",
    "                                storage=f'sqlite:///{config[\"database_path\"]}', load_if_exists=True)\n",
    "    study.optimize(objective_item_knn, n_trials=20)"
   ]
  },
  {
   "cell_type": "code",
   "execution_count": 34,
   "id": "7dac5898",
   "metadata": {
    "execution": {
     "iopub.execute_input": "2023-11-25T03:23:28.268326Z",
     "iopub.status.busy": "2023-11-25T03:23:28.267949Z",
     "iopub.status.idle": "2023-11-25T03:23:29.103878Z",
     "shell.execute_reply": "2023-11-25T03:23:29.102603Z"
    },
    "papermill": {
     "duration": 0.887622,
     "end_time": "2023-11-25T03:23:29.106808",
     "exception": false,
     "start_time": "2023-11-25T03:23:28.219186",
     "status": "completed"
    },
    "tags": []
   },
   "outputs": [
    {
     "data": {
      "text/html": [
       "        <script type=\"text/javascript\">\n",
       "        window.PlotlyConfig = {MathJaxConfig: 'local'};\n",
       "        if (window.MathJax && window.MathJax.Hub && window.MathJax.Hub.Config) {window.MathJax.Hub.Config({SVG: {font: \"STIX-Web\"}});}\n",
       "        if (typeof require !== 'undefined') {\n",
       "        require.undef(\"plotly\");\n",
       "        requirejs.config({\n",
       "            paths: {\n",
       "                'plotly': ['https://cdn.plot.ly/plotly-2.25.2.min']\n",
       "            }\n",
       "        });\n",
       "        require(['plotly'], function(Plotly) {\n",
       "            window._Plotly = Plotly;\n",
       "        });\n",
       "        }\n",
       "        </script>\n",
       "        "
      ]
     },
     "metadata": {},
     "output_type": "display_data"
    },
    {
     "data": {
      "text/html": [
       "<div>                            <div id=\"e0c05539-57da-457e-91e3-cfd2cd7097aa\" class=\"plotly-graph-div\" style=\"height:525px; width:100%;\"></div>            <script type=\"text/javascript\">                require([\"plotly\"], function(Plotly) {                    window.PLOTLYENV=window.PLOTLYENV || {};                                    if (document.getElementById(\"e0c05539-57da-457e-91e3-cfd2cd7097aa\")) {                    Plotly.newPlot(                        \"e0c05539-57da-457e-91e3-cfd2cd7097aa\",                        [{\"mode\":\"markers\",\"name\":\"Objective Value\",\"x\":[0,1,2,3,4,5,6,7,8,9,10,11,12,13,14,15,16,17,18,19,20,21,22,23,24,25,26,27,28,29,30,31,32,33,34,35,36,37,38,39],\"y\":[0.023229795498854868,0.0015699140421317006,0.0192695583537155,0.01734331734550899,0.0005531901539856642,0.0012999860771192144,0.019533407191095913,0.019003510548570277,0.017553090955915195,0.02097827108381267,0.011743798750586561,0.01946871599924018,0.009381012784892617,0.017951076311156396,0.0001069744796315122,0.02203208893752385,0.02390904223420983,0.02002190186845353,0.01098668584414791,0.008965879292099748,0.02003484559152613,0.02109479540765396,0.022205981312635247,0.02367455171589989,0.013318757407102744,0.022911323778115576,0.021605864714240034,0.010914643744657247,0.0108867894692341,0.00541600066813707,0.024131362672510828,0.02529746968754869,0.02589070322951721,0.025931768854733528,0.026230814710901253,0.025654916536138044,0.022609747729973893,0.026357928893930717,0.022459209002120194,0.025676183109374313],\"type\":\"scatter\"},{\"mode\":\"lines\",\"name\":\"Best Value\",\"x\":[0,1,2,3,4,5,6,7,8,9,10,11,12,13,14,15,16,17,18,19,20,21,22,23,24,25,26,27,28,29,30,31,32,33,34,35,36,37,38,39],\"y\":[0.023229795498854868,0.023229795498854868,0.023229795498854868,0.023229795498854868,0.023229795498854868,0.023229795498854868,0.023229795498854868,0.023229795498854868,0.023229795498854868,0.023229795498854868,0.023229795498854868,0.023229795498854868,0.023229795498854868,0.023229795498854868,0.023229795498854868,0.023229795498854868,0.02390904223420983,0.02390904223420983,0.02390904223420983,0.02390904223420983,0.02390904223420983,0.02390904223420983,0.02390904223420983,0.02390904223420983,0.02390904223420983,0.02390904223420983,0.02390904223420983,0.02390904223420983,0.02390904223420983,0.02390904223420983,0.024131362672510828,0.02529746968754869,0.02589070322951721,0.025931768854733528,0.026230814710901253,0.026230814710901253,0.026230814710901253,0.026357928893930717,0.026357928893930717,0.026357928893930717],\"type\":\"scatter\"},{\"marker\":{\"color\":\"#cccccc\"},\"mode\":\"markers\",\"name\":\"Infeasible Trial\",\"showlegend\":false,\"x\":[],\"y\":[],\"type\":\"scatter\"}],                        {\"title\":{\"text\":\"Optimization History Plot\"},\"xaxis\":{\"title\":{\"text\":\"Trial\"}},\"yaxis\":{\"title\":{\"text\":\"Objective Value\"}},\"template\":{\"data\":{\"histogram2dcontour\":[{\"type\":\"histogram2dcontour\",\"colorbar\":{\"outlinewidth\":0,\"ticks\":\"\"},\"colorscale\":[[0.0,\"#0d0887\"],[0.1111111111111111,\"#46039f\"],[0.2222222222222222,\"#7201a8\"],[0.3333333333333333,\"#9c179e\"],[0.4444444444444444,\"#bd3786\"],[0.5555555555555556,\"#d8576b\"],[0.6666666666666666,\"#ed7953\"],[0.7777777777777778,\"#fb9f3a\"],[0.8888888888888888,\"#fdca26\"],[1.0,\"#f0f921\"]]}],\"choropleth\":[{\"type\":\"choropleth\",\"colorbar\":{\"outlinewidth\":0,\"ticks\":\"\"}}],\"histogram2d\":[{\"type\":\"histogram2d\",\"colorbar\":{\"outlinewidth\":0,\"ticks\":\"\"},\"colorscale\":[[0.0,\"#0d0887\"],[0.1111111111111111,\"#46039f\"],[0.2222222222222222,\"#7201a8\"],[0.3333333333333333,\"#9c179e\"],[0.4444444444444444,\"#bd3786\"],[0.5555555555555556,\"#d8576b\"],[0.6666666666666666,\"#ed7953\"],[0.7777777777777778,\"#fb9f3a\"],[0.8888888888888888,\"#fdca26\"],[1.0,\"#f0f921\"]]}],\"heatmap\":[{\"type\":\"heatmap\",\"colorbar\":{\"outlinewidth\":0,\"ticks\":\"\"},\"colorscale\":[[0.0,\"#0d0887\"],[0.1111111111111111,\"#46039f\"],[0.2222222222222222,\"#7201a8\"],[0.3333333333333333,\"#9c179e\"],[0.4444444444444444,\"#bd3786\"],[0.5555555555555556,\"#d8576b\"],[0.6666666666666666,\"#ed7953\"],[0.7777777777777778,\"#fb9f3a\"],[0.8888888888888888,\"#fdca26\"],[1.0,\"#f0f921\"]]}],\"heatmapgl\":[{\"type\":\"heatmapgl\",\"colorbar\":{\"outlinewidth\":0,\"ticks\":\"\"},\"colorscale\":[[0.0,\"#0d0887\"],[0.1111111111111111,\"#46039f\"],[0.2222222222222222,\"#7201a8\"],[0.3333333333333333,\"#9c179e\"],[0.4444444444444444,\"#bd3786\"],[0.5555555555555556,\"#d8576b\"],[0.6666666666666666,\"#ed7953\"],[0.7777777777777778,\"#fb9f3a\"],[0.8888888888888888,\"#fdca26\"],[1.0,\"#f0f921\"]]}],\"contourcarpet\":[{\"type\":\"contourcarpet\",\"colorbar\":{\"outlinewidth\":0,\"ticks\":\"\"}}],\"contour\":[{\"type\":\"contour\",\"colorbar\":{\"outlinewidth\":0,\"ticks\":\"\"},\"colorscale\":[[0.0,\"#0d0887\"],[0.1111111111111111,\"#46039f\"],[0.2222222222222222,\"#7201a8\"],[0.3333333333333333,\"#9c179e\"],[0.4444444444444444,\"#bd3786\"],[0.5555555555555556,\"#d8576b\"],[0.6666666666666666,\"#ed7953\"],[0.7777777777777778,\"#fb9f3a\"],[0.8888888888888888,\"#fdca26\"],[1.0,\"#f0f921\"]]}],\"surface\":[{\"type\":\"surface\",\"colorbar\":{\"outlinewidth\":0,\"ticks\":\"\"},\"colorscale\":[[0.0,\"#0d0887\"],[0.1111111111111111,\"#46039f\"],[0.2222222222222222,\"#7201a8\"],[0.3333333333333333,\"#9c179e\"],[0.4444444444444444,\"#bd3786\"],[0.5555555555555556,\"#d8576b\"],[0.6666666666666666,\"#ed7953\"],[0.7777777777777778,\"#fb9f3a\"],[0.8888888888888888,\"#fdca26\"],[1.0,\"#f0f921\"]]}],\"mesh3d\":[{\"type\":\"mesh3d\",\"colorbar\":{\"outlinewidth\":0,\"ticks\":\"\"}}],\"scatter\":[{\"fillpattern\":{\"fillmode\":\"overlay\",\"size\":10,\"solidity\":0.2},\"type\":\"scatter\"}],\"parcoords\":[{\"type\":\"parcoords\",\"line\":{\"colorbar\":{\"outlinewidth\":0,\"ticks\":\"\"}}}],\"scatterpolargl\":[{\"type\":\"scatterpolargl\",\"marker\":{\"colorbar\":{\"outlinewidth\":0,\"ticks\":\"\"}}}],\"bar\":[{\"error_x\":{\"color\":\"#2a3f5f\"},\"error_y\":{\"color\":\"#2a3f5f\"},\"marker\":{\"line\":{\"color\":\"#E5ECF6\",\"width\":0.5},\"pattern\":{\"fillmode\":\"overlay\",\"size\":10,\"solidity\":0.2}},\"type\":\"bar\"}],\"scattergeo\":[{\"type\":\"scattergeo\",\"marker\":{\"colorbar\":{\"outlinewidth\":0,\"ticks\":\"\"}}}],\"scatterpolar\":[{\"type\":\"scatterpolar\",\"marker\":{\"colorbar\":{\"outlinewidth\":0,\"ticks\":\"\"}}}],\"histogram\":[{\"marker\":{\"pattern\":{\"fillmode\":\"overlay\",\"size\":10,\"solidity\":0.2}},\"type\":\"histogram\"}],\"scattergl\":[{\"type\":\"scattergl\",\"marker\":{\"colorbar\":{\"outlinewidth\":0,\"ticks\":\"\"}}}],\"scatter3d\":[{\"type\":\"scatter3d\",\"line\":{\"colorbar\":{\"outlinewidth\":0,\"ticks\":\"\"}},\"marker\":{\"colorbar\":{\"outlinewidth\":0,\"ticks\":\"\"}}}],\"scattermapbox\":[{\"type\":\"scattermapbox\",\"marker\":{\"colorbar\":{\"outlinewidth\":0,\"ticks\":\"\"}}}],\"scatterternary\":[{\"type\":\"scatterternary\",\"marker\":{\"colorbar\":{\"outlinewidth\":0,\"ticks\":\"\"}}}],\"scattercarpet\":[{\"type\":\"scattercarpet\",\"marker\":{\"colorbar\":{\"outlinewidth\":0,\"ticks\":\"\"}}}],\"carpet\":[{\"aaxis\":{\"endlinecolor\":\"#2a3f5f\",\"gridcolor\":\"white\",\"linecolor\":\"white\",\"minorgridcolor\":\"white\",\"startlinecolor\":\"#2a3f5f\"},\"baxis\":{\"endlinecolor\":\"#2a3f5f\",\"gridcolor\":\"white\",\"linecolor\":\"white\",\"minorgridcolor\":\"white\",\"startlinecolor\":\"#2a3f5f\"},\"type\":\"carpet\"}],\"table\":[{\"cells\":{\"fill\":{\"color\":\"#EBF0F8\"},\"line\":{\"color\":\"white\"}},\"header\":{\"fill\":{\"color\":\"#C8D4E3\"},\"line\":{\"color\":\"white\"}},\"type\":\"table\"}],\"barpolar\":[{\"marker\":{\"line\":{\"color\":\"#E5ECF6\",\"width\":0.5},\"pattern\":{\"fillmode\":\"overlay\",\"size\":10,\"solidity\":0.2}},\"type\":\"barpolar\"}],\"pie\":[{\"automargin\":true,\"type\":\"pie\"}]},\"layout\":{\"autotypenumbers\":\"strict\",\"colorway\":[\"#636efa\",\"#EF553B\",\"#00cc96\",\"#ab63fa\",\"#FFA15A\",\"#19d3f3\",\"#FF6692\",\"#B6E880\",\"#FF97FF\",\"#FECB52\"],\"font\":{\"color\":\"#2a3f5f\"},\"hovermode\":\"closest\",\"hoverlabel\":{\"align\":\"left\"},\"paper_bgcolor\":\"white\",\"plot_bgcolor\":\"#E5ECF6\",\"polar\":{\"bgcolor\":\"#E5ECF6\",\"angularaxis\":{\"gridcolor\":\"white\",\"linecolor\":\"white\",\"ticks\":\"\"},\"radialaxis\":{\"gridcolor\":\"white\",\"linecolor\":\"white\",\"ticks\":\"\"}},\"ternary\":{\"bgcolor\":\"#E5ECF6\",\"aaxis\":{\"gridcolor\":\"white\",\"linecolor\":\"white\",\"ticks\":\"\"},\"baxis\":{\"gridcolor\":\"white\",\"linecolor\":\"white\",\"ticks\":\"\"},\"caxis\":{\"gridcolor\":\"white\",\"linecolor\":\"white\",\"ticks\":\"\"}},\"coloraxis\":{\"colorbar\":{\"outlinewidth\":0,\"ticks\":\"\"}},\"colorscale\":{\"sequential\":[[0.0,\"#0d0887\"],[0.1111111111111111,\"#46039f\"],[0.2222222222222222,\"#7201a8\"],[0.3333333333333333,\"#9c179e\"],[0.4444444444444444,\"#bd3786\"],[0.5555555555555556,\"#d8576b\"],[0.6666666666666666,\"#ed7953\"],[0.7777777777777778,\"#fb9f3a\"],[0.8888888888888888,\"#fdca26\"],[1.0,\"#f0f921\"]],\"sequentialminus\":[[0.0,\"#0d0887\"],[0.1111111111111111,\"#46039f\"],[0.2222222222222222,\"#7201a8\"],[0.3333333333333333,\"#9c179e\"],[0.4444444444444444,\"#bd3786\"],[0.5555555555555556,\"#d8576b\"],[0.6666666666666666,\"#ed7953\"],[0.7777777777777778,\"#fb9f3a\"],[0.8888888888888888,\"#fdca26\"],[1.0,\"#f0f921\"]],\"diverging\":[[0,\"#8e0152\"],[0.1,\"#c51b7d\"],[0.2,\"#de77ae\"],[0.3,\"#f1b6da\"],[0.4,\"#fde0ef\"],[0.5,\"#f7f7f7\"],[0.6,\"#e6f5d0\"],[0.7,\"#b8e186\"],[0.8,\"#7fbc41\"],[0.9,\"#4d9221\"],[1,\"#276419\"]]},\"xaxis\":{\"gridcolor\":\"white\",\"linecolor\":\"white\",\"ticks\":\"\",\"title\":{\"standoff\":15},\"zerolinecolor\":\"white\",\"automargin\":true,\"zerolinewidth\":2},\"yaxis\":{\"gridcolor\":\"white\",\"linecolor\":\"white\",\"ticks\":\"\",\"title\":{\"standoff\":15},\"zerolinecolor\":\"white\",\"automargin\":true,\"zerolinewidth\":2},\"scene\":{\"xaxis\":{\"backgroundcolor\":\"#E5ECF6\",\"gridcolor\":\"white\",\"linecolor\":\"white\",\"showbackground\":true,\"ticks\":\"\",\"zerolinecolor\":\"white\",\"gridwidth\":2},\"yaxis\":{\"backgroundcolor\":\"#E5ECF6\",\"gridcolor\":\"white\",\"linecolor\":\"white\",\"showbackground\":true,\"ticks\":\"\",\"zerolinecolor\":\"white\",\"gridwidth\":2},\"zaxis\":{\"backgroundcolor\":\"#E5ECF6\",\"gridcolor\":\"white\",\"linecolor\":\"white\",\"showbackground\":true,\"ticks\":\"\",\"zerolinecolor\":\"white\",\"gridwidth\":2}},\"shapedefaults\":{\"line\":{\"color\":\"#2a3f5f\"}},\"annotationdefaults\":{\"arrowcolor\":\"#2a3f5f\",\"arrowhead\":0,\"arrowwidth\":1},\"geo\":{\"bgcolor\":\"white\",\"landcolor\":\"#E5ECF6\",\"subunitcolor\":\"white\",\"showland\":true,\"showlakes\":true,\"lakecolor\":\"white\"},\"title\":{\"x\":0.05},\"mapbox\":{\"style\":\"light\"}}}},                        {\"responsive\": true}                    ).then(function(){\n",
       "                            \n",
       "var gd = document.getElementById('e0c05539-57da-457e-91e3-cfd2cd7097aa');\n",
       "var x = new MutationObserver(function (mutations, observer) {{\n",
       "        var display = window.getComputedStyle(gd).display;\n",
       "        if (!display || display === 'none') {{\n",
       "            console.log([gd, 'removed!']);\n",
       "            Plotly.purge(gd);\n",
       "            observer.disconnect();\n",
       "        }}\n",
       "}});\n",
       "\n",
       "// Listen for the removal of the full notebook cells\n",
       "var notebookContainer = gd.closest('#notebook-container');\n",
       "if (notebookContainer) {{\n",
       "    x.observe(notebookContainer, {childList: true});\n",
       "}}\n",
       "\n",
       "// Listen for the clearing of the current output cell\n",
       "var outputEl = gd.closest('.output');\n",
       "if (outputEl) {{\n",
       "    x.observe(outputEl, {childList: true});\n",
       "}}\n",
       "\n",
       "                        })                };                });            </script>        </div>"
      ]
     },
     "metadata": {},
     "output_type": "display_data"
    }
   ],
   "source": [
    "if config['tune_hybrid']:\n",
    "    fig = optuna.visualization.plot_optimization_history(study)\n",
    "    fig.show()"
   ]
  },
  {
   "cell_type": "code",
   "execution_count": 35,
   "id": "9254d11b",
   "metadata": {
    "execution": {
     "iopub.execute_input": "2023-11-25T03:23:29.211556Z",
     "iopub.status.busy": "2023-11-25T03:23:29.211137Z",
     "iopub.status.idle": "2023-11-25T03:23:29.681705Z",
     "shell.execute_reply": "2023-11-25T03:23:29.680293Z"
    },
    "papermill": {
     "duration": 0.524941,
     "end_time": "2023-11-25T03:23:29.683673",
     "exception": false,
     "start_time": "2023-11-25T03:23:29.158732",
     "status": "completed"
    },
    "tags": []
   },
   "outputs": [
    {
     "data": {
      "text/html": [
       "<div>                            <div id=\"4ddcde32-1a76-428e-9324-5388183cbbc4\" class=\"plotly-graph-div\" style=\"height:525px; width:100%;\"></div>            <script type=\"text/javascript\">                require([\"plotly\"], function(Plotly) {                    window.PLOTLYENV=window.PLOTLYENV || {};                                    if (document.getElementById(\"4ddcde32-1a76-428e-9324-5388183cbbc4\")) {                    Plotly.newPlot(                        \"4ddcde32-1a76-428e-9324-5388183cbbc4\",                        [{\"cliponaxis\":false,\"hovertemplate\":[\"topK (IntDistribution): 0.05789817462335238\\u003cextra\\u003e\\u003c\\u002fextra\\u003e\",\"alpha (FloatDistribution): 0.14372832627941395\\u003cextra\\u003e\\u003c\\u002fextra\\u003e\",\"beta (FloatDistribution): 0.7983734990972338\\u003cextra\\u003e\\u003c\\u002fextra\\u003e\"],\"name\":\"Objective Value\",\"orientation\":\"h\",\"text\":[\"0.06\",\"0.14\",\"0.80\"],\"textposition\":\"outside\",\"x\":[0.05789817462335238,0.14372832627941395,0.7983734990972338],\"y\":[\"topK\",\"alpha\",\"beta\"],\"type\":\"bar\"}],                        {\"title\":{\"text\":\"Hyperparameter Importances\"},\"xaxis\":{\"title\":{\"text\":\"Hyperparameter Importance\"}},\"yaxis\":{\"title\":{\"text\":\"Hyperparameter\"}},\"template\":{\"data\":{\"histogram2dcontour\":[{\"type\":\"histogram2dcontour\",\"colorbar\":{\"outlinewidth\":0,\"ticks\":\"\"},\"colorscale\":[[0.0,\"#0d0887\"],[0.1111111111111111,\"#46039f\"],[0.2222222222222222,\"#7201a8\"],[0.3333333333333333,\"#9c179e\"],[0.4444444444444444,\"#bd3786\"],[0.5555555555555556,\"#d8576b\"],[0.6666666666666666,\"#ed7953\"],[0.7777777777777778,\"#fb9f3a\"],[0.8888888888888888,\"#fdca26\"],[1.0,\"#f0f921\"]]}],\"choropleth\":[{\"type\":\"choropleth\",\"colorbar\":{\"outlinewidth\":0,\"ticks\":\"\"}}],\"histogram2d\":[{\"type\":\"histogram2d\",\"colorbar\":{\"outlinewidth\":0,\"ticks\":\"\"},\"colorscale\":[[0.0,\"#0d0887\"],[0.1111111111111111,\"#46039f\"],[0.2222222222222222,\"#7201a8\"],[0.3333333333333333,\"#9c179e\"],[0.4444444444444444,\"#bd3786\"],[0.5555555555555556,\"#d8576b\"],[0.6666666666666666,\"#ed7953\"],[0.7777777777777778,\"#fb9f3a\"],[0.8888888888888888,\"#fdca26\"],[1.0,\"#f0f921\"]]}],\"heatmap\":[{\"type\":\"heatmap\",\"colorbar\":{\"outlinewidth\":0,\"ticks\":\"\"},\"colorscale\":[[0.0,\"#0d0887\"],[0.1111111111111111,\"#46039f\"],[0.2222222222222222,\"#7201a8\"],[0.3333333333333333,\"#9c179e\"],[0.4444444444444444,\"#bd3786\"],[0.5555555555555556,\"#d8576b\"],[0.6666666666666666,\"#ed7953\"],[0.7777777777777778,\"#fb9f3a\"],[0.8888888888888888,\"#fdca26\"],[1.0,\"#f0f921\"]]}],\"heatmapgl\":[{\"type\":\"heatmapgl\",\"colorbar\":{\"outlinewidth\":0,\"ticks\":\"\"},\"colorscale\":[[0.0,\"#0d0887\"],[0.1111111111111111,\"#46039f\"],[0.2222222222222222,\"#7201a8\"],[0.3333333333333333,\"#9c179e\"],[0.4444444444444444,\"#bd3786\"],[0.5555555555555556,\"#d8576b\"],[0.6666666666666666,\"#ed7953\"],[0.7777777777777778,\"#fb9f3a\"],[0.8888888888888888,\"#fdca26\"],[1.0,\"#f0f921\"]]}],\"contourcarpet\":[{\"type\":\"contourcarpet\",\"colorbar\":{\"outlinewidth\":0,\"ticks\":\"\"}}],\"contour\":[{\"type\":\"contour\",\"colorbar\":{\"outlinewidth\":0,\"ticks\":\"\"},\"colorscale\":[[0.0,\"#0d0887\"],[0.1111111111111111,\"#46039f\"],[0.2222222222222222,\"#7201a8\"],[0.3333333333333333,\"#9c179e\"],[0.4444444444444444,\"#bd3786\"],[0.5555555555555556,\"#d8576b\"],[0.6666666666666666,\"#ed7953\"],[0.7777777777777778,\"#fb9f3a\"],[0.8888888888888888,\"#fdca26\"],[1.0,\"#f0f921\"]]}],\"surface\":[{\"type\":\"surface\",\"colorbar\":{\"outlinewidth\":0,\"ticks\":\"\"},\"colorscale\":[[0.0,\"#0d0887\"],[0.1111111111111111,\"#46039f\"],[0.2222222222222222,\"#7201a8\"],[0.3333333333333333,\"#9c179e\"],[0.4444444444444444,\"#bd3786\"],[0.5555555555555556,\"#d8576b\"],[0.6666666666666666,\"#ed7953\"],[0.7777777777777778,\"#fb9f3a\"],[0.8888888888888888,\"#fdca26\"],[1.0,\"#f0f921\"]]}],\"mesh3d\":[{\"type\":\"mesh3d\",\"colorbar\":{\"outlinewidth\":0,\"ticks\":\"\"}}],\"scatter\":[{\"fillpattern\":{\"fillmode\":\"overlay\",\"size\":10,\"solidity\":0.2},\"type\":\"scatter\"}],\"parcoords\":[{\"type\":\"parcoords\",\"line\":{\"colorbar\":{\"outlinewidth\":0,\"ticks\":\"\"}}}],\"scatterpolargl\":[{\"type\":\"scatterpolargl\",\"marker\":{\"colorbar\":{\"outlinewidth\":0,\"ticks\":\"\"}}}],\"bar\":[{\"error_x\":{\"color\":\"#2a3f5f\"},\"error_y\":{\"color\":\"#2a3f5f\"},\"marker\":{\"line\":{\"color\":\"#E5ECF6\",\"width\":0.5},\"pattern\":{\"fillmode\":\"overlay\",\"size\":10,\"solidity\":0.2}},\"type\":\"bar\"}],\"scattergeo\":[{\"type\":\"scattergeo\",\"marker\":{\"colorbar\":{\"outlinewidth\":0,\"ticks\":\"\"}}}],\"scatterpolar\":[{\"type\":\"scatterpolar\",\"marker\":{\"colorbar\":{\"outlinewidth\":0,\"ticks\":\"\"}}}],\"histogram\":[{\"marker\":{\"pattern\":{\"fillmode\":\"overlay\",\"size\":10,\"solidity\":0.2}},\"type\":\"histogram\"}],\"scattergl\":[{\"type\":\"scattergl\",\"marker\":{\"colorbar\":{\"outlinewidth\":0,\"ticks\":\"\"}}}],\"scatter3d\":[{\"type\":\"scatter3d\",\"line\":{\"colorbar\":{\"outlinewidth\":0,\"ticks\":\"\"}},\"marker\":{\"colorbar\":{\"outlinewidth\":0,\"ticks\":\"\"}}}],\"scattermapbox\":[{\"type\":\"scattermapbox\",\"marker\":{\"colorbar\":{\"outlinewidth\":0,\"ticks\":\"\"}}}],\"scatterternary\":[{\"type\":\"scatterternary\",\"marker\":{\"colorbar\":{\"outlinewidth\":0,\"ticks\":\"\"}}}],\"scattercarpet\":[{\"type\":\"scattercarpet\",\"marker\":{\"colorbar\":{\"outlinewidth\":0,\"ticks\":\"\"}}}],\"carpet\":[{\"aaxis\":{\"endlinecolor\":\"#2a3f5f\",\"gridcolor\":\"white\",\"linecolor\":\"white\",\"minorgridcolor\":\"white\",\"startlinecolor\":\"#2a3f5f\"},\"baxis\":{\"endlinecolor\":\"#2a3f5f\",\"gridcolor\":\"white\",\"linecolor\":\"white\",\"minorgridcolor\":\"white\",\"startlinecolor\":\"#2a3f5f\"},\"type\":\"carpet\"}],\"table\":[{\"cells\":{\"fill\":{\"color\":\"#EBF0F8\"},\"line\":{\"color\":\"white\"}},\"header\":{\"fill\":{\"color\":\"#C8D4E3\"},\"line\":{\"color\":\"white\"}},\"type\":\"table\"}],\"barpolar\":[{\"marker\":{\"line\":{\"color\":\"#E5ECF6\",\"width\":0.5},\"pattern\":{\"fillmode\":\"overlay\",\"size\":10,\"solidity\":0.2}},\"type\":\"barpolar\"}],\"pie\":[{\"automargin\":true,\"type\":\"pie\"}]},\"layout\":{\"autotypenumbers\":\"strict\",\"colorway\":[\"#636efa\",\"#EF553B\",\"#00cc96\",\"#ab63fa\",\"#FFA15A\",\"#19d3f3\",\"#FF6692\",\"#B6E880\",\"#FF97FF\",\"#FECB52\"],\"font\":{\"color\":\"#2a3f5f\"},\"hovermode\":\"closest\",\"hoverlabel\":{\"align\":\"left\"},\"paper_bgcolor\":\"white\",\"plot_bgcolor\":\"#E5ECF6\",\"polar\":{\"bgcolor\":\"#E5ECF6\",\"angularaxis\":{\"gridcolor\":\"white\",\"linecolor\":\"white\",\"ticks\":\"\"},\"radialaxis\":{\"gridcolor\":\"white\",\"linecolor\":\"white\",\"ticks\":\"\"}},\"ternary\":{\"bgcolor\":\"#E5ECF6\",\"aaxis\":{\"gridcolor\":\"white\",\"linecolor\":\"white\",\"ticks\":\"\"},\"baxis\":{\"gridcolor\":\"white\",\"linecolor\":\"white\",\"ticks\":\"\"},\"caxis\":{\"gridcolor\":\"white\",\"linecolor\":\"white\",\"ticks\":\"\"}},\"coloraxis\":{\"colorbar\":{\"outlinewidth\":0,\"ticks\":\"\"}},\"colorscale\":{\"sequential\":[[0.0,\"#0d0887\"],[0.1111111111111111,\"#46039f\"],[0.2222222222222222,\"#7201a8\"],[0.3333333333333333,\"#9c179e\"],[0.4444444444444444,\"#bd3786\"],[0.5555555555555556,\"#d8576b\"],[0.6666666666666666,\"#ed7953\"],[0.7777777777777778,\"#fb9f3a\"],[0.8888888888888888,\"#fdca26\"],[1.0,\"#f0f921\"]],\"sequentialminus\":[[0.0,\"#0d0887\"],[0.1111111111111111,\"#46039f\"],[0.2222222222222222,\"#7201a8\"],[0.3333333333333333,\"#9c179e\"],[0.4444444444444444,\"#bd3786\"],[0.5555555555555556,\"#d8576b\"],[0.6666666666666666,\"#ed7953\"],[0.7777777777777778,\"#fb9f3a\"],[0.8888888888888888,\"#fdca26\"],[1.0,\"#f0f921\"]],\"diverging\":[[0,\"#8e0152\"],[0.1,\"#c51b7d\"],[0.2,\"#de77ae\"],[0.3,\"#f1b6da\"],[0.4,\"#fde0ef\"],[0.5,\"#f7f7f7\"],[0.6,\"#e6f5d0\"],[0.7,\"#b8e186\"],[0.8,\"#7fbc41\"],[0.9,\"#4d9221\"],[1,\"#276419\"]]},\"xaxis\":{\"gridcolor\":\"white\",\"linecolor\":\"white\",\"ticks\":\"\",\"title\":{\"standoff\":15},\"zerolinecolor\":\"white\",\"automargin\":true,\"zerolinewidth\":2},\"yaxis\":{\"gridcolor\":\"white\",\"linecolor\":\"white\",\"ticks\":\"\",\"title\":{\"standoff\":15},\"zerolinecolor\":\"white\",\"automargin\":true,\"zerolinewidth\":2},\"scene\":{\"xaxis\":{\"backgroundcolor\":\"#E5ECF6\",\"gridcolor\":\"white\",\"linecolor\":\"white\",\"showbackground\":true,\"ticks\":\"\",\"zerolinecolor\":\"white\",\"gridwidth\":2},\"yaxis\":{\"backgroundcolor\":\"#E5ECF6\",\"gridcolor\":\"white\",\"linecolor\":\"white\",\"showbackground\":true,\"ticks\":\"\",\"zerolinecolor\":\"white\",\"gridwidth\":2},\"zaxis\":{\"backgroundcolor\":\"#E5ECF6\",\"gridcolor\":\"white\",\"linecolor\":\"white\",\"showbackground\":true,\"ticks\":\"\",\"zerolinecolor\":\"white\",\"gridwidth\":2}},\"shapedefaults\":{\"line\":{\"color\":\"#2a3f5f\"}},\"annotationdefaults\":{\"arrowcolor\":\"#2a3f5f\",\"arrowhead\":0,\"arrowwidth\":1},\"geo\":{\"bgcolor\":\"white\",\"landcolor\":\"#E5ECF6\",\"subunitcolor\":\"white\",\"showland\":true,\"showlakes\":true,\"lakecolor\":\"white\"},\"title\":{\"x\":0.05},\"mapbox\":{\"style\":\"light\"}}}},                        {\"responsive\": true}                    ).then(function(){\n",
       "                            \n",
       "var gd = document.getElementById('4ddcde32-1a76-428e-9324-5388183cbbc4');\n",
       "var x = new MutationObserver(function (mutations, observer) {{\n",
       "        var display = window.getComputedStyle(gd).display;\n",
       "        if (!display || display === 'none') {{\n",
       "            console.log([gd, 'removed!']);\n",
       "            Plotly.purge(gd);\n",
       "            observer.disconnect();\n",
       "        }}\n",
       "}});\n",
       "\n",
       "// Listen for the removal of the full notebook cells\n",
       "var notebookContainer = gd.closest('#notebook-container');\n",
       "if (notebookContainer) {{\n",
       "    x.observe(notebookContainer, {childList: true});\n",
       "}}\n",
       "\n",
       "// Listen for the clearing of the current output cell\n",
       "var outputEl = gd.closest('.output');\n",
       "if (outputEl) {{\n",
       "    x.observe(outputEl, {childList: true});\n",
       "}}\n",
       "\n",
       "                        })                };                });            </script>        </div>"
      ]
     },
     "metadata": {},
     "output_type": "display_data"
    }
   ],
   "source": [
    "if config['tune_hybrid']:\n",
    "    fig = optuna.visualization.plot_param_importances(study)\n",
    "    fig.show()"
   ]
  },
  {
   "cell_type": "code",
   "execution_count": 36,
   "id": "e29b92d7",
   "metadata": {
    "execution": {
     "iopub.execute_input": "2023-11-25T03:23:29.781105Z",
     "iopub.status.busy": "2023-11-25T03:23:29.780708Z",
     "iopub.status.idle": "2023-11-25T03:23:30.149883Z",
     "shell.execute_reply": "2023-11-25T03:23:30.149017Z"
    },
    "papermill": {
     "duration": 0.42123,
     "end_time": "2023-11-25T03:23:30.152785",
     "exception": false,
     "start_time": "2023-11-25T03:23:29.731555",
     "status": "completed"
    },
    "tags": []
   },
   "outputs": [
    {
     "data": {
      "text/html": [
       "<div>                            <div id=\"2b9a2b3c-9f26-4a7f-b3aa-7994f718dff3\" class=\"plotly-graph-div\" style=\"height:525px; width:100%;\"></div>            <script type=\"text/javascript\">                require([\"plotly\"], function(Plotly) {                    window.PLOTLYENV=window.PLOTLYENV || {};                                    if (document.getElementById(\"2b9a2b3c-9f26-4a7f-b3aa-7994f718dff3\")) {                    Plotly.newPlot(                        \"2b9a2b3c-9f26-4a7f-b3aa-7994f718dff3\",                        [{\"marker\":{\"color\":[0,1,2,3,4,5,6,7,8,9,10,11,12,13,14,15,16,17,18,19,20,21,22,23,24,25,26,27,28,29,30,31,32,33,34,35,36,37,38,39],\"colorbar\":{\"title\":{\"text\":\"Trial\"},\"x\":1.0,\"xpad\":40},\"colorscale\":[[0.0,\"rgb(247,251,255)\"],[0.125,\"rgb(222,235,247)\"],[0.25,\"rgb(198,219,239)\"],[0.375,\"rgb(158,202,225)\"],[0.5,\"rgb(107,174,214)\"],[0.625,\"rgb(66,146,198)\"],[0.75,\"rgb(33,113,181)\"],[0.875,\"rgb(8,81,156)\"],[1.0,\"rgb(8,48,107)\"]],\"line\":{\"color\":\"Grey\",\"width\":0.5},\"showscale\":true},\"mode\":\"markers\",\"name\":\"Feasible Trial\",\"showlegend\":false,\"x\":[2.534006571935572,1.60726651686522,0.20650762929003805,0.14286176052650307,0.07499414407132154,0.03213822089872851,0.4626526111478515,0.015920330181811968,0.06428318796844314,0.10205711860232548,5.927147357422654,0.7819313527270387,8.460169263354524,2.150493669603723,0.3568683515928344,0.8300840282125741,2.677751535207708,3.1091350742757458,4.352649530119464,9.566801029047626,1.5072481762745642,1.0885467519334953,3.0720348006409015,2.8587222464307396,4.330584887075255,2.3186880007704627,0.521751992229,1.5401971387972957,5.879347456913347,1.1086549428286545,2.2043541319954834,2.4977222487908515,2.0951727264159836,1.6282140165975085,1.756631468134464,1.430118428103625,0.6380399967828632,1.1876629687865083,0.2633508648823209,0.8976455376362996],\"y\":[0.023229795498854868,0.0015699140421317006,0.0192695583537155,0.01734331734550899,0.0005531901539856642,0.0012999860771192144,0.019533407191095913,0.019003510548570277,0.017553090955915195,0.02097827108381267,0.011743798750586561,0.01946871599924018,0.009381012784892617,0.017951076311156396,0.0001069744796315122,0.02203208893752385,0.02390904223420983,0.02002190186845353,0.01098668584414791,0.008965879292099748,0.02003484559152613,0.02109479540765396,0.022205981312635247,0.02367455171589989,0.013318757407102744,0.022911323778115576,0.021605864714240034,0.010914643744657247,0.0108867894692341,0.00541600066813707,0.024131362672510828,0.02529746968754869,0.02589070322951721,0.025931768854733528,0.026230814710901253,0.025654916536138044,0.022609747729973893,0.026357928893930717,0.022459209002120194,0.025676183109374313],\"type\":\"scatter\",\"xaxis\":\"x\",\"yaxis\":\"y\"},{\"marker\":{\"color\":[0,1,2,3,4,5,6,7,8,9,10,11,12,13,14,15,16,17,18,19,20,21,22,23,24,25,26,27,28,29,30,31,32,33,34,35,36,37,38,39],\"colorbar\":{\"title\":{\"text\":\"Trial\"},\"x\":1.0,\"xpad\":40},\"colorscale\":[[0.0,\"rgb(247,251,255)\"],[0.125,\"rgb(222,235,247)\"],[0.25,\"rgb(198,219,239)\"],[0.375,\"rgb(158,202,225)\"],[0.5,\"rgb(107,174,214)\"],[0.625,\"rgb(66,146,198)\"],[0.75,\"rgb(33,113,181)\"],[0.875,\"rgb(8,81,156)\"],[1.0,\"rgb(8,48,107)\"]],\"line\":{\"color\":\"Grey\",\"width\":0.5},\"showscale\":false},\"mode\":\"markers\",\"name\":\"Feasible Trial\",\"showlegend\":false,\"x\":[0.2850493891688343,2.550402096047494,0.10309044322484287,0.4029015178917358,4.236133394793039,2.308344711348702,0.7666519605786984,0.04403441194539544,0.09286321993275304,0.09087668088380901,0.018542336545588737,0.2152886136489878,0.01186152017666455,0.6658626780227561,9.583148750489965,0.18766334330858936,0.2586780679778975,0.531270825669978,1.105741323369299,0.3231454532611822,0.1774261898771404,0.21669033106336902,0.4033945976853559,0.42464281527683817,0.9312423463997782,0.3367193436159145,0.48872489291274906,1.305244702145567,0.6632547825194492,1.552959078273106,0.15281127581171283,0.14167903765043044,0.13316015723607844,0.11208976775306737,0.13036453941611875,0.057644205968699146,0.06395018765811977,0.055133716599833016,0.03197096464383144,0.10015758339050174],\"y\":[0.023229795498854868,0.0015699140421317006,0.0192695583537155,0.01734331734550899,0.0005531901539856642,0.0012999860771192144,0.019533407191095913,0.019003510548570277,0.017553090955915195,0.02097827108381267,0.011743798750586561,0.01946871599924018,0.009381012784892617,0.017951076311156396,0.0001069744796315122,0.02203208893752385,0.02390904223420983,0.02002190186845353,0.01098668584414791,0.008965879292099748,0.02003484559152613,0.02109479540765396,0.022205981312635247,0.02367455171589989,0.013318757407102744,0.022911323778115576,0.021605864714240034,0.010914643744657247,0.0108867894692341,0.00541600066813707,0.024131362672510828,0.02529746968754869,0.02589070322951721,0.025931768854733528,0.026230814710901253,0.025654916536138044,0.022609747729973893,0.026357928893930717,0.022459209002120194,0.025676183109374313],\"type\":\"scatter\",\"xaxis\":\"x2\",\"yaxis\":\"y2\"},{\"marker\":{\"color\":[0,1,2,3,4,5,6,7,8,9,10,11,12,13,14,15,16,17,18,19,20,21,22,23,24,25,26,27,28,29,30,31,32,33,34,35,36,37,38,39],\"colorbar\":{\"title\":{\"text\":\"Trial\"},\"x\":1.0,\"xpad\":40},\"colorscale\":[[0.0,\"rgb(247,251,255)\"],[0.125,\"rgb(222,235,247)\"],[0.25,\"rgb(198,219,239)\"],[0.375,\"rgb(158,202,225)\"],[0.5,\"rgb(107,174,214)\"],[0.625,\"rgb(66,146,198)\"],[0.75,\"rgb(33,113,181)\"],[0.875,\"rgb(8,81,156)\"],[1.0,\"rgb(8,48,107)\"]],\"line\":{\"color\":\"Grey\",\"width\":0.5},\"showscale\":false},\"mode\":\"markers\",\"name\":\"Feasible Trial\",\"showlegend\":false,\"x\":[919,71,283,2705,74,21,20,84,320,76,1492,787,639,2946,4524,183,711,912,1425,516,1383,407,179,212,536,920,319,184,563,251,410,133,137,125,117,122,115,48,46,50],\"y\":[0.023229795498854868,0.0015699140421317006,0.0192695583537155,0.01734331734550899,0.0005531901539856642,0.0012999860771192144,0.019533407191095913,0.019003510548570277,0.017553090955915195,0.02097827108381267,0.011743798750586561,0.01946871599924018,0.009381012784892617,0.017951076311156396,0.0001069744796315122,0.02203208893752385,0.02390904223420983,0.02002190186845353,0.01098668584414791,0.008965879292099748,0.02003484559152613,0.02109479540765396,0.022205981312635247,0.02367455171589989,0.013318757407102744,0.022911323778115576,0.021605864714240034,0.010914643744657247,0.0108867894692341,0.00541600066813707,0.024131362672510828,0.02529746968754869,0.02589070322951721,0.025931768854733528,0.026230814710901253,0.025654916536138044,0.022609747729973893,0.026357928893930717,0.022459209002120194,0.025676183109374313],\"type\":\"scatter\",\"xaxis\":\"x3\",\"yaxis\":\"y3\"}],                        {\"template\":{\"data\":{\"histogram2dcontour\":[{\"type\":\"histogram2dcontour\",\"colorbar\":{\"outlinewidth\":0,\"ticks\":\"\"},\"colorscale\":[[0.0,\"#0d0887\"],[0.1111111111111111,\"#46039f\"],[0.2222222222222222,\"#7201a8\"],[0.3333333333333333,\"#9c179e\"],[0.4444444444444444,\"#bd3786\"],[0.5555555555555556,\"#d8576b\"],[0.6666666666666666,\"#ed7953\"],[0.7777777777777778,\"#fb9f3a\"],[0.8888888888888888,\"#fdca26\"],[1.0,\"#f0f921\"]]}],\"choropleth\":[{\"type\":\"choropleth\",\"colorbar\":{\"outlinewidth\":0,\"ticks\":\"\"}}],\"histogram2d\":[{\"type\":\"histogram2d\",\"colorbar\":{\"outlinewidth\":0,\"ticks\":\"\"},\"colorscale\":[[0.0,\"#0d0887\"],[0.1111111111111111,\"#46039f\"],[0.2222222222222222,\"#7201a8\"],[0.3333333333333333,\"#9c179e\"],[0.4444444444444444,\"#bd3786\"],[0.5555555555555556,\"#d8576b\"],[0.6666666666666666,\"#ed7953\"],[0.7777777777777778,\"#fb9f3a\"],[0.8888888888888888,\"#fdca26\"],[1.0,\"#f0f921\"]]}],\"heatmap\":[{\"type\":\"heatmap\",\"colorbar\":{\"outlinewidth\":0,\"ticks\":\"\"},\"colorscale\":[[0.0,\"#0d0887\"],[0.1111111111111111,\"#46039f\"],[0.2222222222222222,\"#7201a8\"],[0.3333333333333333,\"#9c179e\"],[0.4444444444444444,\"#bd3786\"],[0.5555555555555556,\"#d8576b\"],[0.6666666666666666,\"#ed7953\"],[0.7777777777777778,\"#fb9f3a\"],[0.8888888888888888,\"#fdca26\"],[1.0,\"#f0f921\"]]}],\"heatmapgl\":[{\"type\":\"heatmapgl\",\"colorbar\":{\"outlinewidth\":0,\"ticks\":\"\"},\"colorscale\":[[0.0,\"#0d0887\"],[0.1111111111111111,\"#46039f\"],[0.2222222222222222,\"#7201a8\"],[0.3333333333333333,\"#9c179e\"],[0.4444444444444444,\"#bd3786\"],[0.5555555555555556,\"#d8576b\"],[0.6666666666666666,\"#ed7953\"],[0.7777777777777778,\"#fb9f3a\"],[0.8888888888888888,\"#fdca26\"],[1.0,\"#f0f921\"]]}],\"contourcarpet\":[{\"type\":\"contourcarpet\",\"colorbar\":{\"outlinewidth\":0,\"ticks\":\"\"}}],\"contour\":[{\"type\":\"contour\",\"colorbar\":{\"outlinewidth\":0,\"ticks\":\"\"},\"colorscale\":[[0.0,\"#0d0887\"],[0.1111111111111111,\"#46039f\"],[0.2222222222222222,\"#7201a8\"],[0.3333333333333333,\"#9c179e\"],[0.4444444444444444,\"#bd3786\"],[0.5555555555555556,\"#d8576b\"],[0.6666666666666666,\"#ed7953\"],[0.7777777777777778,\"#fb9f3a\"],[0.8888888888888888,\"#fdca26\"],[1.0,\"#f0f921\"]]}],\"surface\":[{\"type\":\"surface\",\"colorbar\":{\"outlinewidth\":0,\"ticks\":\"\"},\"colorscale\":[[0.0,\"#0d0887\"],[0.1111111111111111,\"#46039f\"],[0.2222222222222222,\"#7201a8\"],[0.3333333333333333,\"#9c179e\"],[0.4444444444444444,\"#bd3786\"],[0.5555555555555556,\"#d8576b\"],[0.6666666666666666,\"#ed7953\"],[0.7777777777777778,\"#fb9f3a\"],[0.8888888888888888,\"#fdca26\"],[1.0,\"#f0f921\"]]}],\"mesh3d\":[{\"type\":\"mesh3d\",\"colorbar\":{\"outlinewidth\":0,\"ticks\":\"\"}}],\"scatter\":[{\"fillpattern\":{\"fillmode\":\"overlay\",\"size\":10,\"solidity\":0.2},\"type\":\"scatter\"}],\"parcoords\":[{\"type\":\"parcoords\",\"line\":{\"colorbar\":{\"outlinewidth\":0,\"ticks\":\"\"}}}],\"scatterpolargl\":[{\"type\":\"scatterpolargl\",\"marker\":{\"colorbar\":{\"outlinewidth\":0,\"ticks\":\"\"}}}],\"bar\":[{\"error_x\":{\"color\":\"#2a3f5f\"},\"error_y\":{\"color\":\"#2a3f5f\"},\"marker\":{\"line\":{\"color\":\"#E5ECF6\",\"width\":0.5},\"pattern\":{\"fillmode\":\"overlay\",\"size\":10,\"solidity\":0.2}},\"type\":\"bar\"}],\"scattergeo\":[{\"type\":\"scattergeo\",\"marker\":{\"colorbar\":{\"outlinewidth\":0,\"ticks\":\"\"}}}],\"scatterpolar\":[{\"type\":\"scatterpolar\",\"marker\":{\"colorbar\":{\"outlinewidth\":0,\"ticks\":\"\"}}}],\"histogram\":[{\"marker\":{\"pattern\":{\"fillmode\":\"overlay\",\"size\":10,\"solidity\":0.2}},\"type\":\"histogram\"}],\"scattergl\":[{\"type\":\"scattergl\",\"marker\":{\"colorbar\":{\"outlinewidth\":0,\"ticks\":\"\"}}}],\"scatter3d\":[{\"type\":\"scatter3d\",\"line\":{\"colorbar\":{\"outlinewidth\":0,\"ticks\":\"\"}},\"marker\":{\"colorbar\":{\"outlinewidth\":0,\"ticks\":\"\"}}}],\"scattermapbox\":[{\"type\":\"scattermapbox\",\"marker\":{\"colorbar\":{\"outlinewidth\":0,\"ticks\":\"\"}}}],\"scatterternary\":[{\"type\":\"scatterternary\",\"marker\":{\"colorbar\":{\"outlinewidth\":0,\"ticks\":\"\"}}}],\"scattercarpet\":[{\"type\":\"scattercarpet\",\"marker\":{\"colorbar\":{\"outlinewidth\":0,\"ticks\":\"\"}}}],\"carpet\":[{\"aaxis\":{\"endlinecolor\":\"#2a3f5f\",\"gridcolor\":\"white\",\"linecolor\":\"white\",\"minorgridcolor\":\"white\",\"startlinecolor\":\"#2a3f5f\"},\"baxis\":{\"endlinecolor\":\"#2a3f5f\",\"gridcolor\":\"white\",\"linecolor\":\"white\",\"minorgridcolor\":\"white\",\"startlinecolor\":\"#2a3f5f\"},\"type\":\"carpet\"}],\"table\":[{\"cells\":{\"fill\":{\"color\":\"#EBF0F8\"},\"line\":{\"color\":\"white\"}},\"header\":{\"fill\":{\"color\":\"#C8D4E3\"},\"line\":{\"color\":\"white\"}},\"type\":\"table\"}],\"barpolar\":[{\"marker\":{\"line\":{\"color\":\"#E5ECF6\",\"width\":0.5},\"pattern\":{\"fillmode\":\"overlay\",\"size\":10,\"solidity\":0.2}},\"type\":\"barpolar\"}],\"pie\":[{\"automargin\":true,\"type\":\"pie\"}]},\"layout\":{\"autotypenumbers\":\"strict\",\"colorway\":[\"#636efa\",\"#EF553B\",\"#00cc96\",\"#ab63fa\",\"#FFA15A\",\"#19d3f3\",\"#FF6692\",\"#B6E880\",\"#FF97FF\",\"#FECB52\"],\"font\":{\"color\":\"#2a3f5f\"},\"hovermode\":\"closest\",\"hoverlabel\":{\"align\":\"left\"},\"paper_bgcolor\":\"white\",\"plot_bgcolor\":\"#E5ECF6\",\"polar\":{\"bgcolor\":\"#E5ECF6\",\"angularaxis\":{\"gridcolor\":\"white\",\"linecolor\":\"white\",\"ticks\":\"\"},\"radialaxis\":{\"gridcolor\":\"white\",\"linecolor\":\"white\",\"ticks\":\"\"}},\"ternary\":{\"bgcolor\":\"#E5ECF6\",\"aaxis\":{\"gridcolor\":\"white\",\"linecolor\":\"white\",\"ticks\":\"\"},\"baxis\":{\"gridcolor\":\"white\",\"linecolor\":\"white\",\"ticks\":\"\"},\"caxis\":{\"gridcolor\":\"white\",\"linecolor\":\"white\",\"ticks\":\"\"}},\"coloraxis\":{\"colorbar\":{\"outlinewidth\":0,\"ticks\":\"\"}},\"colorscale\":{\"sequential\":[[0.0,\"#0d0887\"],[0.1111111111111111,\"#46039f\"],[0.2222222222222222,\"#7201a8\"],[0.3333333333333333,\"#9c179e\"],[0.4444444444444444,\"#bd3786\"],[0.5555555555555556,\"#d8576b\"],[0.6666666666666666,\"#ed7953\"],[0.7777777777777778,\"#fb9f3a\"],[0.8888888888888888,\"#fdca26\"],[1.0,\"#f0f921\"]],\"sequentialminus\":[[0.0,\"#0d0887\"],[0.1111111111111111,\"#46039f\"],[0.2222222222222222,\"#7201a8\"],[0.3333333333333333,\"#9c179e\"],[0.4444444444444444,\"#bd3786\"],[0.5555555555555556,\"#d8576b\"],[0.6666666666666666,\"#ed7953\"],[0.7777777777777778,\"#fb9f3a\"],[0.8888888888888888,\"#fdca26\"],[1.0,\"#f0f921\"]],\"diverging\":[[0,\"#8e0152\"],[0.1,\"#c51b7d\"],[0.2,\"#de77ae\"],[0.3,\"#f1b6da\"],[0.4,\"#fde0ef\"],[0.5,\"#f7f7f7\"],[0.6,\"#e6f5d0\"],[0.7,\"#b8e186\"],[0.8,\"#7fbc41\"],[0.9,\"#4d9221\"],[1,\"#276419\"]]},\"xaxis\":{\"gridcolor\":\"white\",\"linecolor\":\"white\",\"ticks\":\"\",\"title\":{\"standoff\":15},\"zerolinecolor\":\"white\",\"automargin\":true,\"zerolinewidth\":2},\"yaxis\":{\"gridcolor\":\"white\",\"linecolor\":\"white\",\"ticks\":\"\",\"title\":{\"standoff\":15},\"zerolinecolor\":\"white\",\"automargin\":true,\"zerolinewidth\":2},\"scene\":{\"xaxis\":{\"backgroundcolor\":\"#E5ECF6\",\"gridcolor\":\"white\",\"linecolor\":\"white\",\"showbackground\":true,\"ticks\":\"\",\"zerolinecolor\":\"white\",\"gridwidth\":2},\"yaxis\":{\"backgroundcolor\":\"#E5ECF6\",\"gridcolor\":\"white\",\"linecolor\":\"white\",\"showbackground\":true,\"ticks\":\"\",\"zerolinecolor\":\"white\",\"gridwidth\":2},\"zaxis\":{\"backgroundcolor\":\"#E5ECF6\",\"gridcolor\":\"white\",\"linecolor\":\"white\",\"showbackground\":true,\"ticks\":\"\",\"zerolinecolor\":\"white\",\"gridwidth\":2}},\"shapedefaults\":{\"line\":{\"color\":\"#2a3f5f\"}},\"annotationdefaults\":{\"arrowcolor\":\"#2a3f5f\",\"arrowhead\":0,\"arrowwidth\":1},\"geo\":{\"bgcolor\":\"white\",\"landcolor\":\"#E5ECF6\",\"subunitcolor\":\"white\",\"showland\":true,\"showlakes\":true,\"lakecolor\":\"white\"},\"title\":{\"x\":0.05},\"mapbox\":{\"style\":\"light\"}}},\"xaxis\":{\"anchor\":\"y\",\"domain\":[0.0,0.2888888888888889],\"title\":{\"text\":\"alpha\"},\"type\":\"log\"},\"yaxis\":{\"anchor\":\"x\",\"domain\":[0.0,1.0],\"title\":{\"text\":\"Objective Value\"}},\"xaxis2\":{\"anchor\":\"y2\",\"domain\":[0.35555555555555557,0.6444444444444445],\"title\":{\"text\":\"beta\"},\"type\":\"log\"},\"yaxis2\":{\"anchor\":\"x2\",\"domain\":[0.0,1.0],\"matches\":\"y\",\"showticklabels\":false},\"xaxis3\":{\"anchor\":\"y3\",\"domain\":[0.7111111111111111,1.0],\"title\":{\"text\":\"topK\"},\"type\":\"log\"},\"yaxis3\":{\"anchor\":\"x3\",\"domain\":[0.0,1.0],\"matches\":\"y\",\"showticklabels\":false},\"title\":{\"text\":\"Slice Plot\"}},                        {\"responsive\": true}                    ).then(function(){\n",
       "                            \n",
       "var gd = document.getElementById('2b9a2b3c-9f26-4a7f-b3aa-7994f718dff3');\n",
       "var x = new MutationObserver(function (mutations, observer) {{\n",
       "        var display = window.getComputedStyle(gd).display;\n",
       "        if (!display || display === 'none') {{\n",
       "            console.log([gd, 'removed!']);\n",
       "            Plotly.purge(gd);\n",
       "            observer.disconnect();\n",
       "        }}\n",
       "}});\n",
       "\n",
       "// Listen for the removal of the full notebook cells\n",
       "var notebookContainer = gd.closest('#notebook-container');\n",
       "if (notebookContainer) {{\n",
       "    x.observe(notebookContainer, {childList: true});\n",
       "}}\n",
       "\n",
       "// Listen for the clearing of the current output cell\n",
       "var outputEl = gd.closest('.output');\n",
       "if (outputEl) {{\n",
       "    x.observe(outputEl, {childList: true});\n",
       "}}\n",
       "\n",
       "                        })                };                });            </script>        </div>"
      ]
     },
     "metadata": {},
     "output_type": "display_data"
    }
   ],
   "source": [
    "if config['tune_hybrid']:\n",
    "    fig = optuna.visualization.plot_slice(study)\n",
    "    fig.show()"
   ]
  },
  {
   "cell_type": "code",
   "execution_count": 37,
   "id": "760a3ce1",
   "metadata": {
    "execution": {
     "iopub.execute_input": "2023-11-25T03:23:30.255515Z",
     "iopub.status.busy": "2023-11-25T03:23:30.255122Z",
     "iopub.status.idle": "2023-11-25T03:23:31.120777Z",
     "shell.execute_reply": "2023-11-25T03:23:31.119643Z"
    },
    "papermill": {
     "duration": 0.920023,
     "end_time": "2023-11-25T03:23:31.123783",
     "exception": false,
     "start_time": "2023-11-25T03:23:30.203760",
     "status": "completed"
    },
    "tags": []
   },
   "outputs": [],
   "source": [
    "if config['save_github'] and (config['tune_precision'] or config['tune_hybrid']):\n",
    "    upload_file(\n",
    "        config['database_path'],\n",
    "        'tuning_results/tuning_hybrid_precision.db', \n",
    "        'Hybrid pipeline results(from kaggle notebook)'\n",
    "    )"
   ]
  }
 ],
 "metadata": {
  "kaggle": {
   "accelerator": "none",
   "dataSources": [
    {
     "databundleVersionId": 6919098,
     "sourceId": 62803,
     "sourceType": "competition"
    },
    {
     "sourceId": 152024796,
     "sourceType": "kernelVersion"
    }
   ],
   "dockerImageVersionId": 30587,
   "isGpuEnabled": false,
   "isInternetEnabled": true,
   "language": "python",
   "sourceType": "notebook"
  },
  "kernelspec": {
   "display_name": "Python 3",
   "language": "python",
   "name": "python3"
  },
  "language_info": {
   "codemirror_mode": {
    "name": "ipython",
    "version": 3
   },
   "file_extension": ".py",
   "mimetype": "text/x-python",
   "name": "python",
   "nbconvert_exporter": "python",
   "pygments_lexer": "ipython3",
   "version": "3.10.12"
  },
  "papermill": {
   "default_parameters": {},
   "duration": 12255.945352,
   "end_time": "2023-11-25T03:23:32.420751",
   "environment_variables": {},
   "exception": null,
   "input_path": "__notebook__.ipynb",
   "output_path": "__notebook__.ipynb",
   "parameters": {},
   "start_time": "2023-11-24T23:59:16.475399",
   "version": "2.4.0"
  }
 },
 "nbformat": 4,
 "nbformat_minor": 5
}
