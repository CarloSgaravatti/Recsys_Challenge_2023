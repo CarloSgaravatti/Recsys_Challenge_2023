{
 "cells": [
  {
   "cell_type": "code",
   "execution_count": 1,
   "id": "49e1631e",
   "metadata": {
    "_cell_guid": "b1076dfc-b9ad-4769-8c92-a6c4dae69d19",
    "_uuid": "8f2839f25d086af736a60e9eeb907d3b93b6e0e5",
    "execution": {
     "iopub.execute_input": "2023-11-24T14:19:56.315884Z",
     "iopub.status.busy": "2023-11-24T14:19:56.314833Z",
     "iopub.status.idle": "2023-11-24T14:19:58.981417Z",
     "shell.execute_reply": "2023-11-24T14:19:58.980410Z"
    },
    "papermill": {
     "duration": 2.679922,
     "end_time": "2023-11-24T14:19:58.984235",
     "exception": false,
     "start_time": "2023-11-24T14:19:56.304313",
     "status": "completed"
    },
    "tags": []
   },
   "outputs": [
    {
     "name": "stdout",
     "output_type": "stream",
     "text": [
      "Cloning into 'Recsys_Challenge_2023'...\r\n",
      "remote: Enumerating objects: 587, done.\u001b[K\r\n",
      "remote: Counting objects: 100% (17/17), done.\u001b[K\r\n",
      "remote: Compressing objects: 100% (17/17), done.\u001b[K\r\n",
      "remote: Total 587 (delta 7), reused 0 (delta 0), pack-reused 570\u001b[K\r\n",
      "Receiving objects: 100% (587/587), 13.21 MiB | 23.60 MiB/s, done.\r\n",
      "Resolving deltas: 100% (347/347), done.\r\n"
     ]
    }
   ],
   "source": [
    "from kaggle_secrets import UserSecretsClient\n",
    "secret_label = \"Token\"\n",
    "token = UserSecretsClient().get_secret(secret_label)\n",
    "\n",
    "! git clone https://{token}@github.com/CarloSgaravatti/Recsys_Challenge_2023.git"
   ]
  },
  {
   "cell_type": "code",
   "execution_count": 2,
   "id": "8b47d166",
   "metadata": {
    "execution": {
     "iopub.execute_input": "2023-11-24T14:19:59.004744Z",
     "iopub.status.busy": "2023-11-24T14:19:59.004322Z",
     "iopub.status.idle": "2023-11-24T14:20:12.593613Z",
     "shell.execute_reply": "2023-11-24T14:20:12.592523Z"
    },
    "papermill": {
     "duration": 13.602854,
     "end_time": "2023-11-24T14:20:12.596594",
     "exception": false,
     "start_time": "2023-11-24T14:19:58.993740",
     "status": "completed"
    },
    "tags": []
   },
   "outputs": [
    {
     "name": "stdout",
     "output_type": "stream",
     "text": [
      "Collecting PyGithub\r\n",
      "  Obtaining dependency information for PyGithub from https://files.pythonhosted.org/packages/be/04/810d131be173cba445d3658a45512b2b2b3d0960d52c4a300d6ec5e00f52/PyGithub-2.1.1-py3-none-any.whl.metadata\r\n",
      "  Downloading PyGithub-2.1.1-py3-none-any.whl.metadata (2.2 kB)\r\n",
      "Requirement already satisfied: requests in /opt/conda/lib/python3.10/site-packages (2.31.0)\r\n",
      "Collecting pynacl>=1.4.0 (from PyGithub)\r\n",
      "  Downloading PyNaCl-1.5.0-cp36-abi3-manylinux_2_17_x86_64.manylinux2014_x86_64.manylinux_2_24_x86_64.whl (856 kB)\r\n",
      "\u001b[2K     \u001b[90m━━━━━━━━━━━━━━━━━━━━━━━━━━━━━━━━━━━━━━\u001b[0m \u001b[32m856.7/856.7 kB\u001b[0m \u001b[31m11.6 MB/s\u001b[0m eta \u001b[36m0:00:00\u001b[0m\r\n",
      "\u001b[?25hRequirement already satisfied: python-dateutil in /opt/conda/lib/python3.10/site-packages (from PyGithub) (2.8.2)\r\n",
      "Requirement already satisfied: pyjwt[crypto]>=2.4.0 in /opt/conda/lib/python3.10/site-packages (from PyGithub) (2.8.0)\r\n",
      "Requirement already satisfied: typing-extensions>=4.0.0 in /opt/conda/lib/python3.10/site-packages (from PyGithub) (4.5.0)\r\n",
      "Requirement already satisfied: urllib3>=1.26.0 in /opt/conda/lib/python3.10/site-packages (from PyGithub) (1.26.15)\r\n",
      "Requirement already satisfied: Deprecated in /opt/conda/lib/python3.10/site-packages (from PyGithub) (1.2.14)\r\n",
      "Requirement already satisfied: charset-normalizer<4,>=2 in /opt/conda/lib/python3.10/site-packages (from requests) (3.2.0)\r\n",
      "Requirement already satisfied: idna<4,>=2.5 in /opt/conda/lib/python3.10/site-packages (from requests) (3.4)\r\n",
      "Requirement already satisfied: certifi>=2017.4.17 in /opt/conda/lib/python3.10/site-packages (from requests) (2023.7.22)\r\n",
      "Requirement already satisfied: cryptography>=3.4.0 in /opt/conda/lib/python3.10/site-packages (from pyjwt[crypto]>=2.4.0->PyGithub) (41.0.3)\r\n",
      "Requirement already satisfied: cffi>=1.4.1 in /opt/conda/lib/python3.10/site-packages (from pynacl>=1.4.0->PyGithub) (1.15.1)\r\n",
      "Requirement already satisfied: wrapt<2,>=1.10 in /opt/conda/lib/python3.10/site-packages (from Deprecated->PyGithub) (1.15.0)\r\n",
      "Requirement already satisfied: six>=1.5 in /opt/conda/lib/python3.10/site-packages (from python-dateutil->PyGithub) (1.16.0)\r\n",
      "Requirement already satisfied: pycparser in /opt/conda/lib/python3.10/site-packages (from cffi>=1.4.1->pynacl>=1.4.0->PyGithub) (2.21)\r\n",
      "Downloading PyGithub-2.1.1-py3-none-any.whl (302 kB)\r\n",
      "\u001b[2K   \u001b[90m━━━━━━━━━━━━━━━━━━━━━━━━━━━━━━━━━━━━━━━━\u001b[0m \u001b[32m302.9/302.9 kB\u001b[0m \u001b[31m27.9 MB/s\u001b[0m eta \u001b[36m0:00:00\u001b[0m\r\n",
      "\u001b[?25hInstalling collected packages: pynacl, PyGithub\r\n",
      "Successfully installed PyGithub-2.1.1 pynacl-1.5.0\r\n"
     ]
    }
   ],
   "source": [
    "! pip install PyGithub requests"
   ]
  },
  {
   "cell_type": "code",
   "execution_count": 3,
   "id": "e9723a5f",
   "metadata": {
    "_kg_hide-output": true,
    "execution": {
     "iopub.execute_input": "2023-11-24T14:20:12.618463Z",
     "iopub.status.busy": "2023-11-24T14:20:12.618063Z",
     "iopub.status.idle": "2023-11-24T14:22:32.652480Z",
     "shell.execute_reply": "2023-11-24T14:22:32.651123Z"
    },
    "papermill": {
     "duration": 140.048843,
     "end_time": "2023-11-24T14:22:32.655492",
     "exception": false,
     "start_time": "2023-11-24T14:20:12.606649",
     "status": "completed"
    },
    "scrolled": true,
    "tags": []
   },
   "outputs": [
    {
     "name": "stdout",
     "output_type": "stream",
     "text": [
      "run_compile_all_cython: Found 10 Cython files in 4 folders...\r\n",
      "run_compile_all_cython: All files will be compiled using your current python environment: '/opt/conda/bin/python'\r\n",
      "Compiling [1/10]: MatrixFactorization_Cython_Epoch.pyx... \r\n",
      "In file included from \u001b[01m\u001b[K/opt/conda/lib/python3.10/site-packages/numpy/core/include/numpy/ndarraytypes.h:1940\u001b[m\u001b[K,\r\n",
      "                 from \u001b[01m\u001b[K/opt/conda/lib/python3.10/site-packages/numpy/core/include/numpy/ndarrayobject.h:12\u001b[m\u001b[K,\r\n",
      "                 from \u001b[01m\u001b[K/opt/conda/lib/python3.10/site-packages/numpy/core/include/numpy/arrayobject.h:5\u001b[m\u001b[K,\r\n",
      "                 from \u001b[01m\u001b[KMatrixFactorization_Cython_Epoch.c:1109\u001b[m\u001b[K:\r\n",
      "\u001b[01m\u001b[K/opt/conda/lib/python3.10/site-packages/numpy/core/include/numpy/npy_1_7_deprecated_api.h:17:2:\u001b[m\u001b[K \u001b[01;35m\u001b[Kwarning: \u001b[m\u001b[K#warning \"Using deprecated NumPy API, disable it with \" \"#define NPY_NO_DEPRECATED_API NPY_1_7_API_VERSION\" [\u001b[01;35m\u001b[K-Wcpp\u001b[m\u001b[K]\r\n",
      "   17 | #\u001b[01;35m\u001b[Kwarning\u001b[m\u001b[K \"Using deprecated NumPy API, disable it with \" \\\r\n",
      "      |  \u001b[01;35m\u001b[K^~~~~~~\u001b[m\u001b[K\r\n",
      "\u001b[01m\u001b[KMatrixFactorization_Cython_Epoch.c:\u001b[m\u001b[K In function ‘\u001b[01m\u001b[K__pyx_pf_32MatrixFactorization_Cython_Epoch_32MatrixFactorization_Cython_Epoch_10epochIteration_Cython_ASY_SVD_SGD\u001b[m\u001b[K’:\r\n",
      "\u001b[01m\u001b[KMatrixFactorization_Cython_Epoch.c:25614:9:\u001b[m\u001b[K \u001b[01;35m\u001b[Kwarning: \u001b[m\u001b[K‘\u001b[01m\u001b[K__pyx_v_end_pos_seen_items\u001b[m\u001b[K’ may be used uninitialized in this function [\u001b[01;35m\u001b[K-Wmaybe-uninitialized\u001b[m\u001b[K]\r\n",
      "25614 |         \u001b[01;35m\u001b[Kfor\u001b[m\u001b[K (__pyx_t_21 = __pyx_v_start_pos_seen_items; __pyx_t_21 < __pyx_t_20; __pyx_t_21+=1) {\r\n",
      "      |         \u001b[01;35m\u001b[K^~~\u001b[m\u001b[K\r\n",
      "\u001b[01m\u001b[KMatrixFactorization_Cython_Epoch.c:25614:9:\u001b[m\u001b[K \u001b[01;35m\u001b[Kwarning: \u001b[m\u001b[K‘\u001b[01m\u001b[K__pyx_v_start_pos_seen_items\u001b[m\u001b[K’ may be used uninitialized in this function [\u001b[01;35m\u001b[K-Wmaybe-uninitialized\u001b[m\u001b[K]\r\n",
      "/opt/conda/lib/python3.10/site-packages/Cython/Compiler/Main.py:381: FutureWarning: Cython directive 'language_level' not set, using '3str' for now (Py3). This has changed from earlier releases! File: /kaggle/working/Recsys_Challenge_2023/Recommenders/MatrixFactorization/Cython/MatrixFactorization_Cython_Epoch.pyx\r\n",
      "  tree = Parsing.p_module(s, pxd, full_module_name)\r\n",
      "Compiling [1/10]: MatrixFactorization_Cython_Epoch.pyx... PASS\r\n",
      "\r\n",
      "Compiling [2/10]: MatrixFactorizationImpressions_Cython_Epoch.pyx... \r\n",
      "In file included from \u001b[01m\u001b[K/opt/conda/lib/python3.10/site-packages/numpy/core/include/numpy/ndarraytypes.h:1940\u001b[m\u001b[K,\r\n",
      "                 from \u001b[01m\u001b[K/opt/conda/lib/python3.10/site-packages/numpy/core/include/numpy/ndarrayobject.h:12\u001b[m\u001b[K,\r\n",
      "                 from \u001b[01m\u001b[K/opt/conda/lib/python3.10/site-packages/numpy/core/include/numpy/arrayobject.h:5\u001b[m\u001b[K,\r\n",
      "                 from \u001b[01m\u001b[KMatrixFactorizationImpressions_Cython_Epoch.c:1109\u001b[m\u001b[K:\r\n",
      "\u001b[01m\u001b[K/opt/conda/lib/python3.10/site-packages/numpy/core/include/numpy/npy_1_7_deprecated_api.h:17:2:\u001b[m\u001b[K \u001b[01;35m\u001b[Kwarning: \u001b[m\u001b[K#warning \"Using deprecated NumPy API, disable it with \" \"#define NPY_NO_DEPRECATED_API NPY_1_7_API_VERSION\" [\u001b[01;35m\u001b[K-Wcpp\u001b[m\u001b[K]\r\n",
      "   17 | #\u001b[01;35m\u001b[Kwarning\u001b[m\u001b[K \"Using deprecated NumPy API, disable it with \" \\\r\n",
      "      |  \u001b[01;35m\u001b[K^~~~~~~\u001b[m\u001b[K\r\n",
      "\u001b[01m\u001b[KMatrixFactorizationImpressions_Cython_Epoch.c:\u001b[m\u001b[K In function ‘\u001b[01m\u001b[K__pyx_f_43MatrixFactorizationImpressions_Cython_Epoch_32MatrixFactorization_Cython_Epoch_sampleBPR_Cython\u001b[m\u001b[K’:\r\n",
      "\u001b[01m\u001b[KMatrixFactorizationImpressions_Cython_Epoch.c:29664:17:\u001b[m\u001b[K \u001b[01;35m\u001b[Kwarning: \u001b[m\u001b[K‘\u001b[01m\u001b[K__pyx_v_start_pos_impression_items\u001b[m\u001b[K’ may be used uninitialized in this function [\u001b[01;35m\u001b[K-Wmaybe-uninitialized\u001b[m\u001b[K]\r\n",
      "29664 |       \u001b[01;35m\u001b[K__pyx_t_4 = (__pyx_v_start_pos_impression_items + __pyx_v_index)\u001b[m\u001b[K;\r\n",
      "      |       \u001b[01;35m\u001b[K~~~~~~~~~~^~~~~~~~~~~~~~~~~~~~~~~~~~~~~~~~~~~~~~~~~~~~~~~~~~~~~~\u001b[m\u001b[K\r\n",
      "\u001b[01m\u001b[KMatrixFactorizationImpressions_Cython_Epoch.c:\u001b[m\u001b[K In function ‘\u001b[01m\u001b[K__pyx_pf_43MatrixFactorizationImpressions_Cython_Epoch_32MatrixFactorization_Cython_Epoch_10epochIteration_Cython_ASY_SVD_SGD\u001b[m\u001b[K’:\r\n",
      "\u001b[01m\u001b[KMatrixFactorizationImpressions_Cython_Epoch.c:25474:7:\u001b[m\u001b[K \u001b[01;35m\u001b[Kwarning: \u001b[m\u001b[K‘\u001b[01m\u001b[K__pyx_v_end_pos_seen_items\u001b[m\u001b[K’ may be used uninitialized in this function [\u001b[01;35m\u001b[K-Wmaybe-uninitialized\u001b[m\u001b[K]\r\n",
      "25474 |       \u001b[01;35m\u001b[Kfor\u001b[m\u001b[K (__pyx_t_21 = __pyx_v_start_pos_seen_items; __pyx_t_21 < __pyx_t_20; __pyx_t_21+=1) {\r\n",
      "      |       \u001b[01;35m\u001b[K^~~\u001b[m\u001b[K\r\n",
      "\u001b[01m\u001b[KMatrixFactorizationImpressions_Cython_Epoch.c:25474:7:\u001b[m\u001b[K \u001b[01;35m\u001b[Kwarning: \u001b[m\u001b[K‘\u001b[01m\u001b[K__pyx_v_start_pos_seen_items\u001b[m\u001b[K’ may be used uninitialized in this function [\u001b[01;35m\u001b[K-Wmaybe-uninitialized\u001b[m\u001b[K]\r\n",
      "/opt/conda/lib/python3.10/site-packages/Cython/Compiler/Main.py:381: FutureWarning: Cython directive 'language_level' not set, using '3str' for now (Py3). This has changed from earlier releases! File: /kaggle/working/Recsys_Challenge_2023/Recommenders/MatrixFactorization/Cython/MatrixFactorizationImpressions_Cython_Epoch.pyx\r\n",
      "  tree = Parsing.p_module(s, pxd, full_module_name)\r\n",
      "Compiling [2/10]: MatrixFactorizationImpressions_Cython_Epoch.pyx... PASS\r\n",
      "\r\n",
      "Compiling [3/10]: Compute_Similarity_Cython.pyx... \r\n",
      "warning: Compute_Similarity_Cython.pyx:21:0: The 'IF' statement is deprecated and will be removed in a future Cython version. Consider using runtime conditions or C macros instead. See https://github.com/cython/cython/issues/4310\r\n",
      "warning: Compute_Similarity_Cython.pyx:22:4: The 'DEF' statement is deprecated and will be removed in a future Cython version. Consider using global variables, constants, and in-place literals instead. See https://github.com/cython/cython/issues/4310\r\n",
      "warning: Compute_Similarity_Cython.pyx:24:4: The 'DEF' statement is deprecated and will be removed in a future Cython version. Consider using global variables, constants, and in-place literals instead. See https://github.com/cython/cython/issues/4310\r\n",
      "warning: Compute_Similarity_Cython.pyx:26:4: The 'DEF' statement is deprecated and will be removed in a future Cython version. Consider using global variables, constants, and in-place literals instead. See https://github.com/cython/cython/issues/4310\r\n",
      "In file included from \u001b[01m\u001b[K/opt/conda/lib/python3.10/site-packages/numpy/core/include/numpy/ndarraytypes.h:1940\u001b[m\u001b[K,\r\n",
      "                 from \u001b[01m\u001b[K/opt/conda/lib/python3.10/site-packages/numpy/core/include/numpy/ndarrayobject.h:12\u001b[m\u001b[K,\r\n",
      "                 from \u001b[01m\u001b[K/opt/conda/lib/python3.10/site-packages/numpy/core/include/numpy/arrayobject.h:5\u001b[m\u001b[K,\r\n",
      "                 from \u001b[01m\u001b[KCompute_Similarity_Cython.c:1109\u001b[m\u001b[K:\r\n",
      "\u001b[01m\u001b[K/opt/conda/lib/python3.10/site-packages/numpy/core/include/numpy/npy_1_7_deprecated_api.h:17:2:\u001b[m\u001b[K \u001b[01;35m\u001b[Kwarning: \u001b[m\u001b[K#warning \"Using deprecated NumPy API, disable it with \" \"#define NPY_NO_DEPRECATED_API NPY_1_7_API_VERSION\" [\u001b[01;35m\u001b[K-Wcpp\u001b[m\u001b[K]\r\n",
      "   17 | #\u001b[01;35m\u001b[Kwarning\u001b[m\u001b[K \"Using deprecated NumPy API, disable it with \" \\\r\n",
      "      |  \u001b[01;35m\u001b[K^~~~~~~\u001b[m\u001b[K\r\n",
      "/opt/conda/lib/python3.10/site-packages/Cython/Compiler/Main.py:381: FutureWarning: Cython directive 'language_level' not set, using '3str' for now (Py3). This has changed from earlier releases! File: /kaggle/working/Recsys_Challenge_2023/Recommenders/Similarity/Cython/Compute_Similarity_Cython.pyx\r\n",
      "  tree = Parsing.p_module(s, pxd, full_module_name)\r\n",
      "warning: Compute_Similarity_Cython.pyx:21:0: The 'IF' statement is deprecated and will be removed in a future Cython version. Consider using runtime conditions or C macros instead. See https://github.com/cython/cython/issues/4310\r\n",
      "warning: Compute_Similarity_Cython.pyx:22:4: The 'DEF' statement is deprecated and will be removed in a future Cython version. Consider using global variables, constants, and in-place literals instead. See https://github.com/cython/cython/issues/4310\r\n",
      "warning: Compute_Similarity_Cython.pyx:24:4: The 'DEF' statement is deprecated and will be removed in a future Cython version. Consider using global variables, constants, and in-place literals instead. See https://github.com/cython/cython/issues/4310\r\n",
      "warning: Compute_Similarity_Cython.pyx:26:4: The 'DEF' statement is deprecated and will be removed in a future Cython version. Consider using global variables, constants, and in-place literals instead. See https://github.com/cython/cython/issues/4310\r\n",
      "Compiling [3/10]: Compute_Similarity_Cython.pyx... PASS\r\n",
      "\r\n",
      "Compiling [4/10]: Sparse_Matrix_Tree_CSR.pyx... \r\n",
      "warning: Sparse_Matrix_Tree_CSR.pyx:132:34: Non-trivial type declarators in shared declaration (e.g. mix of pointers and values). Each pointer declaration should be on its own line.\r\n",
      "warning: Sparse_Matrix_Tree_CSR.pyx:132:66: Non-trivial type declarators in shared declaration (e.g. mix of pointers and values). Each pointer declaration should be on its own line.\r\n",
      "warning: Sparse_Matrix_Tree_CSR.pyx:343:35: Non-trivial type declarators in shared declaration (e.g. mix of pointers and values). Each pointer declaration should be on its own line.\r\n",
      "warning: Sparse_Matrix_Tree_CSR.pyx:343:52: Non-trivial type declarators in shared declaration (e.g. mix of pointers and values). Each pointer declaration should be on its own line.\r\n",
      "warning: Sparse_Matrix_Tree_CSR.pyx:442:35: Non-trivial type declarators in shared declaration (e.g. mix of pointers and values). Each pointer declaration should be on its own line.\r\n",
      "warning: Sparse_Matrix_Tree_CSR.pyx:442:53: Non-trivial type declarators in shared declaration (e.g. mix of pointers and values). Each pointer declaration should be on its own line.\r\n",
      "warning: Sparse_Matrix_Tree_CSR.pyx:442:69: Non-trivial type declarators in shared declaration (e.g. mix of pointers and values). Each pointer declaration should be on its own line.\r\n",
      "warning: Sparse_Matrix_Tree_CSR.pyx:577:35: Non-trivial type declarators in shared declaration (e.g. mix of pointers and values). Each pointer declaration should be on its own line.\r\n",
      "warning: Sparse_Matrix_Tree_CSR.pyx:577:42: Non-trivial type declarators in shared declaration (e.g. mix of pointers and values). Each pointer declaration should be on its own line.\r\n",
      "warning: Sparse_Matrix_Tree_CSR.pyx:578:35: Non-trivial type declarators in shared declaration (e.g. mix of pointers and values). Each pointer declaration should be on its own line.\r\n",
      "warning: Sparse_Matrix_Tree_CSR.pyx:578:53: Non-trivial type declarators in shared declaration (e.g. mix of pointers and values). Each pointer declaration should be on its own line.\r\n",
      "\r\n",
      "Error compiling Cython file:\r\n",
      "------------------------------------------------------------\r\n",
      "...\r\n",
      "            vector_pointer_to_list_elements[index].head = current_element\r\n",
      "            current_element = current_element.higher\r\n",
      "\r\n",
      "\r\n",
      "        # Sort array elements on their data field\r\n",
      "        qsort(vector_pointer_to_list_elements, list_length, sizeof(head_pointer_tree_s), compare_struct_on_data)\r\n",
      "                                                                                         ^\r\n",
      "------------------------------------------------------------\r\n",
      "\r\n",
      "Sparse_Matrix_Tree_CSR.pyx:516:89: Cannot assign type 'int (const void *, const void *) except? -1' to 'int (*)(const_void *, const_void *) noexcept'\r\n",
      "\r\n",
      "Error compiling Cython file:\r\n",
      "------------------------------------------------------------\r\n",
      "...\r\n",
      "        # Sort array elements on their data field\r\n",
      "        qsort(vector_pointer_to_list_elements, list_length, sizeof(head_pointer_tree_s), compare_struct_on_data)\r\n",
      "\r\n",
      "        # Sort only the TopK according to their column field\r\n",
      "        # Sort is from lower to higher, therefore the elements to be considered are from len-topK to len\r\n",
      "        qsort(&vector_pointer_to_list_elements[list_length-TopK], TopK, sizeof(head_pointer_tree_s), compare_struct_on_column)\r\n",
      "                                                                                                     ^\r\n",
      "------------------------------------------------------------\r\n",
      "\r\n",
      "Sparse_Matrix_Tree_CSR.pyx:520:101: Cannot assign type 'int (const void *, const void *) except? -1' to 'int (*)(const_void *, const_void *) noexcept'\r\n",
      "Traceback (most recent call last):\r\n",
      "  File \"/kaggle/working/Recsys_Challenge_2023/CythonCompiler/compile_script.py\", line 48, in <module>\r\n",
      "    setup(\r\n",
      "  File \"/opt/conda/lib/python3.10/site-packages/setuptools/__init__.py\", line 107, in setup\r\n",
      "    return distutils.core.setup(**attrs)\r\n",
      "  File \"/opt/conda/lib/python3.10/site-packages/setuptools/_distutils/core.py\", line 185, in setup\r\n",
      "    return run_commands(dist)\r\n",
      "  File \"/opt/conda/lib/python3.10/site-packages/setuptools/_distutils/core.py\", line 201, in run_commands\r\n",
      "    dist.run_commands()\r\n",
      "  File \"/opt/conda/lib/python3.10/site-packages/setuptools/_distutils/dist.py\", line 969, in run_commands\r\n",
      "    self.run_command(cmd)\r\n",
      "  File \"/opt/conda/lib/python3.10/site-packages/setuptools/dist.py\", line 1233, in run_command\r\n",
      "    super().run_command(command)\r\n",
      "  File \"/opt/conda/lib/python3.10/site-packages/setuptools/_distutils/dist.py\", line 988, in run_command\r\n",
      "    cmd_obj.run()\r\n",
      "  File \"/opt/conda/lib/python3.10/site-packages/setuptools/_distutils/command/build_ext.py\", line 345, in run\r\n",
      "    self.build_extensions()\r\n",
      "  File \"/opt/conda/lib/python3.10/site-packages/setuptools/_distutils/command/build_ext.py\", line 467, in build_extensions\r\n",
      "    self._build_extensions_serial()\r\n",
      "  File \"/opt/conda/lib/python3.10/site-packages/setuptools/_distutils/command/build_ext.py\", line 493, in _build_extensions_serial\r\n",
      "    self.build_extension(ext)\r\n",
      "  File \"/opt/conda/lib/python3.10/site-packages/Cython/Distutils/build_ext.py\", line 122, in build_extension\r\n",
      "    new_ext = cythonize(\r\n",
      "  File \"/opt/conda/lib/python3.10/site-packages/Cython/Build/Dependencies.py\", line 1134, in cythonize\r\n",
      "    cythonize_one(*args)\r\n",
      "  File \"/opt/conda/lib/python3.10/site-packages/Cython/Build/Dependencies.py\", line 1301, in cythonize_one\r\n",
      "    raise CompileError(None, pyx_file)\r\n",
      "Cython.Compiler.Errors.CompileError: Sparse_Matrix_Tree_CSR.pyx\r\n",
      "Traceback (most recent call last):\r\n",
      "  File \"/kaggle/working/Recsys_Challenge_2023/run_compile_all_cython.py\", line 59, in <module>\r\n",
      "    run_compile_subprocess(file_path, [file_name])\r\n",
      "  File \"/kaggle/working/Recsys_Challenge_2023/CythonCompiler/run_compile_subprocess.py\", line 51, in run_compile_subprocess\r\n",
      "    raise exc\r\n",
      "  File \"/kaggle/working/Recsys_Challenge_2023/CythonCompiler/run_compile_subprocess.py\", line 32, in run_compile_subprocess\r\n",
      "    output = subprocess.check_output(' '.join(command),\r\n",
      "  File \"/opt/conda/lib/python3.10/subprocess.py\", line 421, in check_output\r\n",
      "    return run(*popenargs, stdout=PIPE, timeout=timeout, check=True,\r\n",
      "  File \"/opt/conda/lib/python3.10/subprocess.py\", line 526, in run\r\n",
      "    raise CalledProcessError(retcode, process.args,\r\n",
      "subprocess.CalledProcessError: Command '/opt/conda/bin/python /kaggle/working/Recsys_Challenge_2023/CythonCompiler/compile_script.py Sparse_Matrix_Tree_CSR.pyx build_ext --inplace' returned non-zero exit status 1.\r\n",
      "Compiling [4/10]: Sparse_Matrix_Tree_CSR.pyx... FAIL: Command '/opt/conda/bin/python /kaggle/working/Recsys_Challenge_2023/CythonCompiler/compile_script.py Sparse_Matrix_Tree_CSR.pyx build_ext --inplace' returned non-zero exit status 1.\r\n",
      "\r\n",
      "Compiling [5/10]: Triangular_Matrix.pyx... \r\n",
      "warning: Triangular_Matrix.pyx:22:0: The 'IF' statement is deprecated and will be removed in a future Cython version. Consider using runtime conditions or C macros instead. See https://github.com/cython/cython/issues/4310\r\n",
      "warning: Triangular_Matrix.pyx:23:4: The 'DEF' statement is deprecated and will be removed in a future Cython version. Consider using global variables, constants, and in-place literals instead. See https://github.com/cython/cython/issues/4310\r\n",
      "warning: Triangular_Matrix.pyx:25:4: The 'DEF' statement is deprecated and will be removed in a future Cython version. Consider using global variables, constants, and in-place literals instead. See https://github.com/cython/cython/issues/4310\r\n",
      "warning: Triangular_Matrix.pyx:27:4: The 'DEF' statement is deprecated and will be removed in a future Cython version. Consider using global variables, constants, and in-place literals instead. See https://github.com/cython/cython/issues/4310\r\n",
      "In file included from \u001b[01m\u001b[K/opt/conda/lib/python3.10/site-packages/numpy/core/include/numpy/ndarraytypes.h:1940\u001b[m\u001b[K,\r\n",
      "                 from \u001b[01m\u001b[K/opt/conda/lib/python3.10/site-packages/numpy/core/include/numpy/ndarrayobject.h:12\u001b[m\u001b[K,\r\n",
      "                 from \u001b[01m\u001b[K/opt/conda/lib/python3.10/site-packages/numpy/core/include/numpy/arrayobject.h:5\u001b[m\u001b[K,\r\n",
      "                 from \u001b[01m\u001b[KTriangular_Matrix.c:1109\u001b[m\u001b[K:\r\n",
      "\u001b[01m\u001b[K/opt/conda/lib/python3.10/site-packages/numpy/core/include/numpy/npy_1_7_deprecated_api.h:17:2:\u001b[m\u001b[K \u001b[01;35m\u001b[Kwarning: \u001b[m\u001b[K#warning \"Using deprecated NumPy API, disable it with \" \"#define NPY_NO_DEPRECATED_API NPY_1_7_API_VERSION\" [\u001b[01;35m\u001b[K-Wcpp\u001b[m\u001b[K]\r\n",
      "   17 | #\u001b[01;35m\u001b[Kwarning\u001b[m\u001b[K \"Using deprecated NumPy API, disable it with \" \\\r\n",
      "      |  \u001b[01;35m\u001b[K^~~~~~~\u001b[m\u001b[K\r\n",
      "/opt/conda/lib/python3.10/site-packages/Cython/Compiler/Main.py:381: FutureWarning: Cython directive 'language_level' not set, using '3str' for now (Py3). This has changed from earlier releases! File: /kaggle/working/Recsys_Challenge_2023/Recommenders/SLIM/Cython/Triangular_Matrix.pyx\r\n",
      "  tree = Parsing.p_module(s, pxd, full_module_name)\r\n",
      "warning: Triangular_Matrix.pyx:22:0: The 'IF' statement is deprecated and will be removed in a future Cython version. Consider using runtime conditions or C macros instead. See https://github.com/cython/cython/issues/4310\r\n",
      "warning: Triangular_Matrix.pyx:23:4: The 'DEF' statement is deprecated and will be removed in a future Cython version. Consider using global variables, constants, and in-place literals instead. See https://github.com/cython/cython/issues/4310\r\n",
      "warning: Triangular_Matrix.pyx:25:4: The 'DEF' statement is deprecated and will be removed in a future Cython version. Consider using global variables, constants, and in-place literals instead. See https://github.com/cython/cython/issues/4310\r\n",
      "warning: Triangular_Matrix.pyx:27:4: The 'DEF' statement is deprecated and will be removed in a future Cython version. Consider using global variables, constants, and in-place literals instead. See https://github.com/cython/cython/issues/4310\r\n",
      "Compiling [5/10]: Triangular_Matrix.pyx... PASS\r\n",
      "\r\n",
      "Compiling [6/10]: SLIM_BPR_Cython_Epoch.pyx... \r\n",
      "warning: SLIM_BPR_Cython_Epoch.pyx:24:0: The 'IF' statement is deprecated and will be removed in a future Cython version. Consider using runtime conditions or C macros instead. See https://github.com/cython/cython/issues/4310\r\n",
      "warning: SLIM_BPR_Cython_Epoch.pyx:25:4: The 'DEF' statement is deprecated and will be removed in a future Cython version. Consider using global variables, constants, and in-place literals instead. See https://github.com/cython/cython/issues/4310\r\n",
      "warning: SLIM_BPR_Cython_Epoch.pyx:27:4: The 'DEF' statement is deprecated and will be removed in a future Cython version. Consider using global variables, constants, and in-place literals instead. See https://github.com/cython/cython/issues/4310\r\n",
      "warning: SLIM_BPR_Cython_Epoch.pyx:29:4: The 'DEF' statement is deprecated and will be removed in a future Cython version. Consider using global variables, constants, and in-place literals instead. See https://github.com/cython/cython/issues/4310\r\n",
      "warning: SLIM_BPR_Cython_Epoch.pyx:632:34: Non-trivial type declarators in shared declaration (e.g. mix of pointers and values). Each pointer declaration should be on its own line.\r\n",
      "warning: SLIM_BPR_Cython_Epoch.pyx:632:66: Non-trivial type declarators in shared declaration (e.g. mix of pointers and values). Each pointer declaration should be on its own line.\r\n",
      "warning: SLIM_BPR_Cython_Epoch.pyx:817:35: Non-trivial type declarators in shared declaration (e.g. mix of pointers and values). Each pointer declaration should be on its own line.\r\n",
      "warning: SLIM_BPR_Cython_Epoch.pyx:817:52: Non-trivial type declarators in shared declaration (e.g. mix of pointers and values). Each pointer declaration should be on its own line.\r\n",
      "warning: SLIM_BPR_Cython_Epoch.pyx:916:35: Non-trivial type declarators in shared declaration (e.g. mix of pointers and values). Each pointer declaration should be on its own line.\r\n",
      "warning: SLIM_BPR_Cython_Epoch.pyx:916:53: Non-trivial type declarators in shared declaration (e.g. mix of pointers and values). Each pointer declaration should be on its own line.\r\n",
      "warning: SLIM_BPR_Cython_Epoch.pyx:916:69: Non-trivial type declarators in shared declaration (e.g. mix of pointers and values). Each pointer declaration should be on its own line.\r\n",
      "warning: SLIM_BPR_Cython_Epoch.pyx:1051:35: Non-trivial type declarators in shared declaration (e.g. mix of pointers and values). Each pointer declaration should be on its own line.\r\n",
      "warning: SLIM_BPR_Cython_Epoch.pyx:1051:42: Non-trivial type declarators in shared declaration (e.g. mix of pointers and values). Each pointer declaration should be on its own line.\r\n",
      "warning: SLIM_BPR_Cython_Epoch.pyx:1052:35: Non-trivial type declarators in shared declaration (e.g. mix of pointers and values). Each pointer declaration should be on its own line.\r\n",
      "warning: SLIM_BPR_Cython_Epoch.pyx:1052:53: Non-trivial type declarators in shared declaration (e.g. mix of pointers and values). Each pointer declaration should be on its own line.\r\n",
      "\r\n",
      "Error compiling Cython file:\r\n",
      "------------------------------------------------------------\r\n",
      "...\r\n",
      "            vector_pointer_to_list_elements[index].head = current_element\r\n",
      "            current_element = current_element.higher\r\n",
      "\r\n",
      "\r\n",
      "        # Sort array elements on their data field\r\n",
      "        qsort(vector_pointer_to_list_elements, list_length, sizeof(head_pointer_tree_s), compare_struct_on_data)\r\n",
      "                                                                                         ^\r\n",
      "------------------------------------------------------------\r\n",
      "\r\n",
      "SLIM_BPR_Cython_Epoch.pyx:990:89: Cannot assign type 'int (const void *, const void *) except? -1' to 'int (*)(const_void *, const_void *) noexcept'\r\n",
      "\r\n",
      "Error compiling Cython file:\r\n",
      "------------------------------------------------------------\r\n",
      "...\r\n",
      "        # Sort array elements on their data field\r\n",
      "        qsort(vector_pointer_to_list_elements, list_length, sizeof(head_pointer_tree_s), compare_struct_on_data)\r\n",
      "\r\n",
      "        # Sort only the TopK according to their column field\r\n",
      "        # Sort is from lower to higher, therefore the elements to be considered are from len-topK to len\r\n",
      "        qsort(&vector_pointer_to_list_elements[list_length-TopK], TopK, sizeof(head_pointer_tree_s), compare_struct_on_column)\r\n",
      "                                                                                                     ^\r\n",
      "------------------------------------------------------------\r\n",
      "\r\n",
      "SLIM_BPR_Cython_Epoch.pyx:994:101: Cannot assign type 'int (const void *, const void *) except? -1' to 'int (*)(const_void *, const_void *) noexcept'\r\n",
      "Traceback (most recent call last):\r\n",
      "  File \"/kaggle/working/Recsys_Challenge_2023/CythonCompiler/compile_script.py\", line 48, in <module>\r\n",
      "    setup(\r\n",
      "  File \"/opt/conda/lib/python3.10/site-packages/setuptools/__init__.py\", line 107, in setup\r\n",
      "    return distutils.core.setup(**attrs)\r\n",
      "  File \"/opt/conda/lib/python3.10/site-packages/setuptools/_distutils/core.py\", line 185, in setup\r\n",
      "    return run_commands(dist)\r\n",
      "  File \"/opt/conda/lib/python3.10/site-packages/setuptools/_distutils/core.py\", line 201, in run_commands\r\n",
      "    dist.run_commands()\r\n",
      "  File \"/opt/conda/lib/python3.10/site-packages/setuptools/_distutils/dist.py\", line 969, in run_commands\r\n",
      "    self.run_command(cmd)\r\n",
      "  File \"/opt/conda/lib/python3.10/site-packages/setuptools/dist.py\", line 1233, in run_command\r\n",
      "    super().run_command(command)\r\n",
      "  File \"/opt/conda/lib/python3.10/site-packages/setuptools/_distutils/dist.py\", line 988, in run_command\r\n",
      "    cmd_obj.run()\r\n",
      "  File \"/opt/conda/lib/python3.10/site-packages/setuptools/_distutils/command/build_ext.py\", line 345, in run\r\n",
      "    self.build_extensions()\r\n",
      "  File \"/opt/conda/lib/python3.10/site-packages/setuptools/_distutils/command/build_ext.py\", line 467, in build_extensions\r\n",
      "    self._build_extensions_serial()\r\n",
      "  File \"/opt/conda/lib/python3.10/site-packages/setuptools/_distutils/command/build_ext.py\", line 493, in _build_extensions_serial\r\n",
      "    self.build_extension(ext)\r\n",
      "  File \"/opt/conda/lib/python3.10/site-packages/Cython/Distutils/build_ext.py\", line 122, in build_extension\r\n",
      "    new_ext = cythonize(\r\n",
      "  File \"/opt/conda/lib/python3.10/site-packages/Cython/Build/Dependencies.py\", line 1134, in cythonize\r\n",
      "    cythonize_one(*args)\r\n",
      "  File \"/opt/conda/lib/python3.10/site-packages/Cython/Build/Dependencies.py\", line 1301, in cythonize_one\r\n",
      "    raise CompileError(None, pyx_file)\r\n",
      "Cython.Compiler.Errors.CompileError: SLIM_BPR_Cython_Epoch.pyx\r\n",
      "Traceback (most recent call last):\r\n",
      "  File \"/kaggle/working/Recsys_Challenge_2023/run_compile_all_cython.py\", line 59, in <module>\r\n",
      "    run_compile_subprocess(file_path, [file_name])\r\n",
      "  File \"/kaggle/working/Recsys_Challenge_2023/CythonCompiler/run_compile_subprocess.py\", line 51, in run_compile_subprocess\r\n",
      "    raise exc\r\n",
      "  File \"/kaggle/working/Recsys_Challenge_2023/CythonCompiler/run_compile_subprocess.py\", line 32, in run_compile_subprocess\r\n",
      "    output = subprocess.check_output(' '.join(command),\r\n",
      "  File \"/opt/conda/lib/python3.10/subprocess.py\", line 421, in check_output\r\n",
      "    return run(*popenargs, stdout=PIPE, timeout=timeout, check=True,\r\n",
      "  File \"/opt/conda/lib/python3.10/subprocess.py\", line 526, in run\r\n",
      "    raise CalledProcessError(retcode, process.args,\r\n",
      "subprocess.CalledProcessError: Command '/opt/conda/bin/python /kaggle/working/Recsys_Challenge_2023/CythonCompiler/compile_script.py SLIM_BPR_Cython_Epoch.pyx build_ext --inplace' returned non-zero exit status 1.\r\n",
      "Compiling [6/10]: SLIM_BPR_Cython_Epoch.pyx... FAIL: Command '/opt/conda/bin/python /kaggle/working/Recsys_Challenge_2023/CythonCompiler/compile_script.py SLIM_BPR_Cython_Epoch.pyx build_ext --inplace' returned non-zero exit status 1.\r\n",
      "\r\n",
      "Compiling [7/10]: CFW_DVV_Similarity_Cython_SGD.pyx... \r\n",
      "In file included from \u001b[01m\u001b[K/opt/conda/lib/python3.10/site-packages/numpy/core/include/numpy/ndarraytypes.h:1940\u001b[m\u001b[K,\r\n",
      "                 from \u001b[01m\u001b[K/opt/conda/lib/python3.10/site-packages/numpy/core/include/numpy/ndarrayobject.h:12\u001b[m\u001b[K,\r\n",
      "                 from \u001b[01m\u001b[K/opt/conda/lib/python3.10/site-packages/numpy/core/include/numpy/arrayobject.h:5\u001b[m\u001b[K,\r\n",
      "                 from \u001b[01m\u001b[KCFW_DVV_Similarity_Cython_SGD.c:1109\u001b[m\u001b[K:\r\n",
      "\u001b[01m\u001b[K/opt/conda/lib/python3.10/site-packages/numpy/core/include/numpy/npy_1_7_deprecated_api.h:17:2:\u001b[m\u001b[K \u001b[01;35m\u001b[Kwarning: \u001b[m\u001b[K#warning \"Using deprecated NumPy API, disable it with \" \"#define NPY_NO_DEPRECATED_API NPY_1_7_API_VERSION\" [\u001b[01;35m\u001b[K-Wcpp\u001b[m\u001b[K]\r\n",
      "   17 | #\u001b[01;35m\u001b[Kwarning\u001b[m\u001b[K \"Using deprecated NumPy API, disable it with \" \\\r\n",
      "      |  \u001b[01;35m\u001b[K^~~~~~~\u001b[m\u001b[K\r\n",
      "/opt/conda/lib/python3.10/site-packages/Cython/Compiler/Main.py:381: FutureWarning: Cython directive 'language_level' not set, using '3str' for now (Py3). This has changed from earlier releases! File: /kaggle/working/Recsys_Challenge_2023/Recommenders/FeatureWeighting/Cython/CFW_DVV_Similarity_Cython_SGD.pyx\r\n",
      "  tree = Parsing.p_module(s, pxd, full_module_name)\r\n",
      "Compiling [7/10]: CFW_DVV_Similarity_Cython_SGD.pyx... PASS\r\n",
      "\r\n",
      "Compiling [8/10]: CFW_D_Similarity_Cython_SGD.pyx... \r\n",
      "In file included from \u001b[01m\u001b[K/opt/conda/lib/python3.10/site-packages/numpy/core/include/numpy/ndarraytypes.h:1940\u001b[m\u001b[K,\r\n",
      "                 from \u001b[01m\u001b[K/opt/conda/lib/python3.10/site-packages/numpy/core/include/numpy/ndarrayobject.h:12\u001b[m\u001b[K,\r\n",
      "                 from \u001b[01m\u001b[K/opt/conda/lib/python3.10/site-packages/numpy/core/include/numpy/arrayobject.h:5\u001b[m\u001b[K,\r\n",
      "                 from \u001b[01m\u001b[KCFW_D_Similarity_Cython_SGD.c:1109\u001b[m\u001b[K:\r\n",
      "\u001b[01m\u001b[K/opt/conda/lib/python3.10/site-packages/numpy/core/include/numpy/npy_1_7_deprecated_api.h:17:2:\u001b[m\u001b[K \u001b[01;35m\u001b[Kwarning: \u001b[m\u001b[K#warning \"Using deprecated NumPy API, disable it with \" \"#define NPY_NO_DEPRECATED_API NPY_1_7_API_VERSION\" [\u001b[01;35m\u001b[K-Wcpp\u001b[m\u001b[K]\r\n",
      "   17 | #\u001b[01;35m\u001b[Kwarning\u001b[m\u001b[K \"Using deprecated NumPy API, disable it with \" \\\r\n",
      "      |  \u001b[01;35m\u001b[K^~~~~~~\u001b[m\u001b[K\r\n",
      "\u001b[01m\u001b[KCFW_D_Similarity_Cython_SGD.c:\u001b[m\u001b[K In function ‘\u001b[01m\u001b[K__pyx_pf_27CFW_D_Similarity_Cython_SGD_27CFW_D_Similarity_Cython_SGD_6fit\u001b[m\u001b[K’:\r\n",
      "\u001b[01m\u001b[KCFW_D_Similarity_Cython_SGD.c:22766:55:\u001b[m\u001b[K \u001b[01;35m\u001b[Kwarning: \u001b[m\u001b[K‘\u001b[01m\u001b[K__pyx_v_sample_num\u001b[m\u001b[K’ may be used uninitialized in this function [\u001b[01;35m\u001b[K-Wmaybe-uninitialized\u001b[m\u001b[K]\r\n",
      "22766 |   __pyx_t_3 = PyFloat_FromDouble((__pyx_v_cum_loss / \u001b[01;35m\u001b[K((double)__pyx_v_sample_num)\u001b[m\u001b[K)); if (unlikely(!__pyx_t_3)) __PYX_ERR(0, 290, __pyx_L1_error)\r\n",
      "      |                                                      \u001b[01;35m\u001b[K~^~~~~~~~~~~~~~~~~~~~~~~~~~~\u001b[m\u001b[K\r\n",
      "/opt/conda/lib/python3.10/site-packages/Cython/Compiler/Main.py:381: FutureWarning: Cython directive 'language_level' not set, using '3str' for now (Py3). This has changed from earlier releases! File: /kaggle/working/Recsys_Challenge_2023/Recommenders/FeatureWeighting/Cython/CFW_D_Similarity_Cython_SGD.pyx\r\n",
      "  tree = Parsing.p_module(s, pxd, full_module_name)\r\n",
      "Compiling [8/10]: CFW_D_Similarity_Cython_SGD.pyx... PASS\r\n",
      "\r\n",
      "Compiling [9/10]: HP3_Similarity_Cython_SGD.pyx... \r\n",
      "warning: HP3_Similarity_Cython_SGD.pyx:113:40: Index should be typed for more efficient access\r\n",
      "In file included from \u001b[01m\u001b[K/opt/conda/lib/python3.10/site-packages/numpy/core/include/numpy/ndarraytypes.h:1940\u001b[m\u001b[K,\r\n",
      "                 from \u001b[01m\u001b[K/opt/conda/lib/python3.10/site-packages/numpy/core/include/numpy/ndarrayobject.h:12\u001b[m\u001b[K,\r\n",
      "                 from \u001b[01m\u001b[K/opt/conda/lib/python3.10/site-packages/numpy/core/include/numpy/arrayobject.h:5\u001b[m\u001b[K,\r\n",
      "                 from \u001b[01m\u001b[KHP3_Similarity_Cython_SGD.c:1109\u001b[m\u001b[K:\r\n",
      "\u001b[01m\u001b[K/opt/conda/lib/python3.10/site-packages/numpy/core/include/numpy/npy_1_7_deprecated_api.h:17:2:\u001b[m\u001b[K \u001b[01;35m\u001b[Kwarning: \u001b[m\u001b[K#warning \"Using deprecated NumPy API, disable it with \" \"#define NPY_NO_DEPRECATED_API NPY_1_7_API_VERSION\" [\u001b[01;35m\u001b[K-Wcpp\u001b[m\u001b[K]\r\n",
      "   17 | #\u001b[01;35m\u001b[Kwarning\u001b[m\u001b[K \"Using deprecated NumPy API, disable it with \" \\\r\n",
      "      |  \u001b[01;35m\u001b[K^~~~~~~\u001b[m\u001b[K\r\n",
      "\u001b[01m\u001b[KHP3_Similarity_Cython_SGD.c:\u001b[m\u001b[K In function ‘\u001b[01m\u001b[K__pyx_pf_25HP3_Similarity_Cython_SGD_25HP3_Similarity_Cython_SGD_4fit\u001b[m\u001b[K’:\r\n",
      "\u001b[01m\u001b[KHP3_Similarity_Cython_SGD.c:23035:55:\u001b[m\u001b[K \u001b[01;35m\u001b[Kwarning: \u001b[m\u001b[K‘\u001b[01m\u001b[K__pyx_v_sample_num\u001b[m\u001b[K’ may be used uninitialized in this function [\u001b[01;35m\u001b[K-Wmaybe-uninitialized\u001b[m\u001b[K]\r\n",
      "23035 |   __pyx_t_1 = PyFloat_FromDouble((__pyx_v_cum_loss / \u001b[01;35m\u001b[K((double)__pyx_v_sample_num)\u001b[m\u001b[K)); if (unlikely(!__pyx_t_1)) __PYX_ERR(0, 291, __pyx_L1_error)\r\n",
      "      |                                                      \u001b[01;35m\u001b[K~^~~~~~~~~~~~~~~~~~~~~~~~~~~\u001b[m\u001b[K\r\n",
      "/opt/conda/lib/python3.10/site-packages/Cython/Compiler/Main.py:381: FutureWarning: Cython directive 'language_level' not set, using '3str' for now (Py3). This has changed from earlier releases! File: /kaggle/working/Recsys_Challenge_2023/Recommenders/FeatureWeighting/Cython/HP3_Similarity_Cython_SGD.pyx\r\n",
      "  tree = Parsing.p_module(s, pxd, full_module_name)\r\n",
      "warning: HP3_Similarity_Cython_SGD.pyx:113:40: Index should be typed for more efficient access\r\n",
      "Compiling [9/10]: HP3_Similarity_Cython_SGD.pyx... PASS\r\n",
      "\r\n",
      "Compiling [10/10]: FBSM_Rating_Cython_SGD.pyx... \r\n",
      "In file included from \u001b[01m\u001b[K/opt/conda/lib/python3.10/site-packages/numpy/core/include/numpy/ndarraytypes.h:1940\u001b[m\u001b[K,\r\n",
      "                 from \u001b[01m\u001b[K/opt/conda/lib/python3.10/site-packages/numpy/core/include/numpy/ndarrayobject.h:12\u001b[m\u001b[K,\r\n",
      "                 from \u001b[01m\u001b[K/opt/conda/lib/python3.10/site-packages/numpy/core/include/numpy/arrayobject.h:5\u001b[m\u001b[K,\r\n",
      "                 from \u001b[01m\u001b[KFBSM_Rating_Cython_SGD.c:1109\u001b[m\u001b[K:\r\n",
      "\u001b[01m\u001b[K/opt/conda/lib/python3.10/site-packages/numpy/core/include/numpy/npy_1_7_deprecated_api.h:17:2:\u001b[m\u001b[K \u001b[01;35m\u001b[Kwarning: \u001b[m\u001b[K#warning \"Using deprecated NumPy API, disable it with \" \"#define NPY_NO_DEPRECATED_API NPY_1_7_API_VERSION\" [\u001b[01;35m\u001b[K-Wcpp\u001b[m\u001b[K]\r\n",
      "   17 | #\u001b[01;35m\u001b[Kwarning\u001b[m\u001b[K \"Using deprecated NumPy API, disable it with \" \\\r\n",
      "      |  \u001b[01;35m\u001b[K^~~~~~~\u001b[m\u001b[K\r\n",
      "\u001b[01m\u001b[KFBSM_Rating_Cython_SGD.c:\u001b[m\u001b[K In function ‘\u001b[01m\u001b[K__pyx_pf_22FBSM_Rating_Cython_SGD_22FBSM_Rating_Cython_SGD_2fit\u001b[m\u001b[K’:\r\n",
      "\u001b[01m\u001b[KFBSM_Rating_Cython_SGD.c:26038:55:\u001b[m\u001b[K \u001b[01;35m\u001b[Kwarning: \u001b[m\u001b[K‘\u001b[01m\u001b[K__pyx_v_num_sample\u001b[m\u001b[K’ may be used uninitialized in this function [\u001b[01;35m\u001b[K-Wmaybe-uninitialized\u001b[m\u001b[K]\r\n",
      "26038 |   __pyx_t_5 = PyFloat_FromDouble((__pyx_v_cum_loss / \u001b[01;35m\u001b[K((double)__pyx_v_num_sample)\u001b[m\u001b[K)); if (unlikely(!__pyx_t_5)) __PYX_ERR(0, 551, __pyx_L1_error)\r\n",
      "      |                                                      \u001b[01;35m\u001b[K~^~~~~~~~~~~~~~~~~~~~~~~~~~~\u001b[m\u001b[K\r\n",
      "/opt/conda/lib/python3.10/site-packages/Cython/Compiler/Main.py:381: FutureWarning: Cython directive 'language_level' not set, using '3str' for now (Py3). This has changed from earlier releases! File: /kaggle/working/Recsys_Challenge_2023/Recommenders/FeatureWeighting/Cython/FBSM_Rating_Cython_SGD.pyx\r\n",
      "  tree = Parsing.p_module(s, pxd, full_module_name)\r\n",
      "Compiling [10/10]: FBSM_Rating_Cython_SGD.pyx... PASS\r\n",
      "\r\n",
      "run_compile_all_cython: Compilation finished. FAILS 2/10.\r\n",
      "Compilation log can be found here: './result_experiments/run_compile_all_cython.txt'\r\n"
     ]
    }
   ],
   "source": [
    "! cd /kaggle/working/Recsys_Challenge_2023 && python run_compile_all_cython.py"
   ]
  },
  {
   "cell_type": "code",
   "execution_count": 4,
   "id": "1c3afd81",
   "metadata": {
    "_kg_hide-output": true,
    "execution": {
     "iopub.execute_input": "2023-11-24T14:22:32.684775Z",
     "iopub.status.busy": "2023-11-24T14:22:32.684357Z",
     "iopub.status.idle": "2023-11-24T14:22:36.030172Z",
     "shell.execute_reply": "2023-11-24T14:22:36.028989Z"
    },
    "papermill": {
     "duration": 3.363704,
     "end_time": "2023-11-24T14:22:36.032734",
     "exception": false,
     "start_time": "2023-11-24T14:22:32.669030",
     "status": "completed"
    },
    "tags": []
   },
   "outputs": [
    {
     "name": "stdout",
     "output_type": "stream",
     "text": [
      "/kaggle/input/hybrid-precision/tuning_hybrid_precision.db\n",
      "/kaggle/input/hybrid-precision/__results__.html\n",
      "/kaggle/input/hybrid-precision/__notebook__.ipynb\n",
      "/kaggle/input/hybrid-precision/best_params_item_knn_precision.json\n",
      "/kaggle/input/hybrid-precision/__output__.json\n",
      "/kaggle/input/hybrid-precision/custom.css\n",
      "/kaggle/input/hybrid-precision/Recsys_Challenge_2023/run_all_algorithms.py\n",
      "/kaggle/input/hybrid-precision/Recsys_Challenge_2023/cython_example_FunkSVD.py\n",
      "/kaggle/input/hybrid-precision/Recsys_Challenge_2023/LICENSE\n",
      "/kaggle/input/hybrid-precision/Recsys_Challenge_2023/.gitignore\n",
      "/kaggle/input/hybrid-precision/Recsys_Challenge_2023/rp3-tuning.ipynb\n",
      "/kaggle/input/hybrid-precision/Recsys_Challenge_2023/README.md\n",
      "/kaggle/input/hybrid-precision/Recsys_Challenge_2023/run_hyperparameter_search.py\n",
      "/kaggle/input/hybrid-precision/Recsys_Challenge_2023/cython_example_SLIM_MSE.py\n",
      "/kaggle/input/hybrid-precision/Recsys_Challenge_2023/requirements.txt\n",
      "/kaggle/input/hybrid-precision/Recsys_Challenge_2023/run_test_recommenders.py\n",
      "/kaggle/input/hybrid-precision/Recsys_Challenge_2023/run_compile_all_cython.py\n",
      "/kaggle/input/hybrid-precision/Recsys_Challenge_2023/hybrid.ipynb\n",
      "/kaggle/input/hybrid-precision/Recsys_Challenge_2023/Data_manager/DataSplitter_Holdout.py\n",
      "/kaggle/input/hybrid-precision/Recsys_Challenge_2023/Data_manager/DataSplitter.py\n",
      "/kaggle/input/hybrid-precision/Recsys_Challenge_2023/Data_manager/DatasetMapperManager.py\n",
      "/kaggle/input/hybrid-precision/Recsys_Challenge_2023/Data_manager/data_consistency_check.py\n",
      "/kaggle/input/hybrid-precision/Recsys_Challenge_2023/Data_manager/README.md\n",
      "/kaggle/input/hybrid-precision/Recsys_Challenge_2023/Data_manager/TagPreprocessing.py\n",
      "/kaggle/input/hybrid-precision/Recsys_Challenge_2023/Data_manager/DataReader.py\n",
      "/kaggle/input/hybrid-precision/Recsys_Challenge_2023/Data_manager/DataReader_utils.py\n",
      "/kaggle/input/hybrid-precision/Recsys_Challenge_2023/Data_manager/IncrementalSparseMatrix.py\n",
      "/kaggle/input/hybrid-precision/Recsys_Challenge_2023/Data_manager/run_clean_split_data_files.py\n",
      "/kaggle/input/hybrid-precision/Recsys_Challenge_2023/Data_manager/Dataset.py\n",
      "/kaggle/input/hybrid-precision/Recsys_Challenge_2023/Data_manager/DataSplitter_leave_k_out.py\n",
      "/kaggle/input/hybrid-precision/Recsys_Challenge_2023/Data_manager/__init__.py\n",
      "/kaggle/input/hybrid-precision/Recsys_Challenge_2023/Data_manager/__pycache__/data_consistency_check.cpython-310.pyc\n",
      "/kaggle/input/hybrid-precision/Recsys_Challenge_2023/Data_manager/__pycache__/DatasetMapperManager.cpython-310.pyc\n",
      "/kaggle/input/hybrid-precision/Recsys_Challenge_2023/Data_manager/__pycache__/IncrementalSparseMatrix.cpython-310.pyc\n",
      "/kaggle/input/hybrid-precision/Recsys_Challenge_2023/Data_manager/__pycache__/DataReader.cpython-310.pyc\n",
      "/kaggle/input/hybrid-precision/Recsys_Challenge_2023/Data_manager/__pycache__/DataReader_utils.cpython-310.pyc\n",
      "/kaggle/input/hybrid-precision/Recsys_Challenge_2023/Data_manager/__pycache__/__init__.cpython-310.pyc\n",
      "/kaggle/input/hybrid-precision/Recsys_Challenge_2023/Data_manager/__pycache__/Dataset.cpython-310.pyc\n",
      "/kaggle/input/hybrid-precision/Recsys_Challenge_2023/Data_manager/split_functions/split_train_validation_leave_k_out.py\n",
      "/kaggle/input/hybrid-precision/Recsys_Challenge_2023/Data_manager/split_functions/split_train_validation_cold_items.py\n",
      "/kaggle/input/hybrid-precision/Recsys_Challenge_2023/Data_manager/split_functions/split_train_validation_random_holdout.py\n",
      "/kaggle/input/hybrid-precision/Recsys_Challenge_2023/Data_manager/split_functions/__pycache__/split_train_validation_random_holdout.cpython-310.pyc\n",
      "/kaggle/input/hybrid-precision/Recsys_Challenge_2023/Data_manager/Movielens/Movielens10MReader.py\n",
      "/kaggle/input/hybrid-precision/Recsys_Challenge_2023/Data_manager/Movielens/Movielens1MReader.py\n",
      "/kaggle/input/hybrid-precision/Recsys_Challenge_2023/Data_manager/Movielens/Movielens100KReader.py\n",
      "/kaggle/input/hybrid-precision/Recsys_Challenge_2023/Data_manager/Movielens/MovielensHetrec2011Reader.py\n",
      "/kaggle/input/hybrid-precision/Recsys_Challenge_2023/Data_manager/Movielens/_utils_movielens_parser.py\n",
      "/kaggle/input/hybrid-precision/Recsys_Challenge_2023/Data_manager/Movielens/Movielens20MReader.py\n",
      "/kaggle/input/hybrid-precision/Recsys_Challenge_2023/Data_manager/Movielens/__pycache__/Movielens10MReader.cpython-310.pyc\n",
      "/kaggle/input/hybrid-precision/Recsys_Challenge_2023/Data_manager/Movielens/__pycache__/Movielens1MReader.cpython-310.pyc\n",
      "/kaggle/input/hybrid-precision/Recsys_Challenge_2023/Data_manager/Movielens/__pycache__/_utils_movielens_parser.cpython-310.pyc\n",
      "/kaggle/input/hybrid-precision/Recsys_Challenge_2023/Data_manager/Movielens/__pycache__/Movielens20MReader.cpython-310.pyc\n",
      "/kaggle/input/hybrid-precision/Recsys_Challenge_2023/Data_manager/Movielens/__pycache__/Movielens100KReader.cpython-310.pyc\n",
      "/kaggle/input/hybrid-precision/Recsys_Challenge_2023/Data_manager/Movielens/__pycache__/MovielensHetrec2011Reader.cpython-310.pyc\n",
      "/kaggle/input/hybrid-precision/Recsys_Challenge_2023/Utils/seconds_to_biggest_unit.py\n",
      "/kaggle/input/hybrid-precision/Recsys_Challenge_2023/Utils/PyTorch/utils.py\n",
      "/kaggle/input/hybrid-precision/Recsys_Challenge_2023/Utils/PyTorch/DataSampler.py\n",
      "/kaggle/input/hybrid-precision/Recsys_Challenge_2023/Utils/PyTorch/DataIterator.py\n",
      "/kaggle/input/hybrid-precision/Recsys_Challenge_2023/Utils/PyTorch/Cython/DataIterator.pyx\n",
      "/kaggle/input/hybrid-precision/Recsys_Challenge_2023/Utils/__pycache__/seconds_to_biggest_unit.cpython-310.pyc\n",
      "/kaggle/input/hybrid-precision/Recsys_Challenge_2023/slides/20161219_BPR.pptx\n",
      "/kaggle/input/hybrid-precision/Recsys_Challenge_2023/slides/Felicioni - Off Policy Evaluation.pdf\n",
      "/kaggle/input/hybrid-precision/Recsys_Challenge_2023/slides/Amazon AWS.pdf\n",
      "/kaggle/input/hybrid-precision/Recsys_Challenge_2023/slides/hu_koren_volinsky.pdf\n",
      "/kaggle/input/hybrid-precision/Recsys_Challenge_2023/slides/2017_MF.pdf\n",
      "/kaggle/input/hybrid-precision/Recsys_Challenge_2023/slides/FM.pdf\n",
      "/kaggle/input/hybrid-precision/Recsys_Challenge_2023/slides/rendle_bpr.pdf\n",
      "/kaggle/input/hybrid-precision/Recsys_Challenge_2023/slides/2017_MF.pptx\n",
      "/kaggle/input/hybrid-precision/Recsys_Challenge_2023/slides/Introduction and Materials for RecSys Practice Sessions.pdf\n",
      "/kaggle/input/hybrid-precision/Recsys_Challenge_2023/slides/List_of_KNN_similarity_heuristics.pdf\n",
      "/kaggle/input/hybrid-precision/Recsys_Challenge_2023/slides/Sparse matrices.pdf\n",
      "/kaggle/input/hybrid-precision/Recsys_Challenge_2023/slides/koren_sdv++.pdf\n",
      "/kaggle/input/hybrid-precision/Recsys_Challenge_2023/slides/FunkSVD - 2006.pdf\n",
      "/kaggle/input/hybrid-precision/Recsys_Challenge_2023/Notebooks_utils/Cosine_Similarity_Cython_SLOW.cpython-36m-x86_64-linux-gnu.so\n",
      "/kaggle/input/hybrid-precision/Recsys_Challenge_2023/Notebooks_utils/Cosine_Similarity_Cython_SLOW.c\n",
      "/kaggle/input/hybrid-precision/Recsys_Challenge_2023/Notebooks_utils/compileCython.py\n",
      "/kaggle/input/hybrid-precision/Recsys_Challenge_2023/Notebooks_utils/Cosine_Similarity_Cython.pyx\n",
      "/kaggle/input/hybrid-precision/Recsys_Challenge_2023/Notebooks_utils/Cosine_Similarity_Cython.html\n",
      "/kaggle/input/hybrid-precision/Recsys_Challenge_2023/Notebooks_utils/Compute_Similarity_Python.py\n",
      "/kaggle/input/hybrid-precision/Recsys_Challenge_2023/Notebooks_utils/Cosine_Similarity_Cython.c\n",
      "/kaggle/input/hybrid-precision/Recsys_Challenge_2023/Notebooks_utils/Cosine_Similarity_Cython.cpython-36m-x86_64-linux-gnu.so\n",
      "/kaggle/input/hybrid-precision/Recsys_Challenge_2023/Notebooks_utils/Cosine_Similarity_Cython_SLOW.pyx\n",
      "/kaggle/input/hybrid-precision/Recsys_Challenge_2023/Notebooks_utils/Cosine_Similarity_Cython_SLOW.html\n",
      "/kaggle/input/hybrid-precision/Recsys_Challenge_2023/CythonCompiler/compile_script.py\n",
      "/kaggle/input/hybrid-precision/Recsys_Challenge_2023/CythonCompiler/run_compile_subprocess.py\n",
      "/kaggle/input/hybrid-precision/Recsys_Challenge_2023/CythonCompiler/__pycache__/run_compile_subprocess.cpython-310.pyc\n",
      "/kaggle/input/hybrid-precision/Recsys_Challenge_2023/Recommenders/IR_feature_weighting.py\n",
      "/kaggle/input/hybrid-precision/Recsys_Challenge_2023/Recommenders/Incremental_Training_Early_Stopping.py\n",
      "/kaggle/input/hybrid-precision/Recsys_Challenge_2023/Recommenders/BaseMatrixFactorizationRecommender.py\n",
      "/kaggle/input/hybrid-precision/Recsys_Challenge_2023/Recommenders/BaseRecommender.py\n",
      "/kaggle/input/hybrid-precision/Recsys_Challenge_2023/Recommenders/BaseCBFRecommender.py\n",
      "/kaggle/input/hybrid-precision/Recsys_Challenge_2023/Recommenders/Recommender_import_list.py\n",
      "/kaggle/input/hybrid-precision/Recsys_Challenge_2023/Recommenders/BaseTempFolder.py\n",
      "/kaggle/input/hybrid-precision/Recsys_Challenge_2023/Recommenders/Recommender_utils.py\n",
      "/kaggle/input/hybrid-precision/Recsys_Challenge_2023/Recommenders/NonPersonalizedRecommender.py\n",
      "/kaggle/input/hybrid-precision/Recsys_Challenge_2023/Recommenders/BaseSimilarityMatrixRecommender.py\n",
      "/kaggle/input/hybrid-precision/Recsys_Challenge_2023/Recommenders/DataIO.py\n",
      "/kaggle/input/hybrid-precision/Recsys_Challenge_2023/Recommenders/PredefinedListRecommender.py\n",
      "/kaggle/input/hybrid-precision/Recsys_Challenge_2023/Recommenders/Similarity/Compute_similarity_euclidean_test.py\n",
      "/kaggle/input/hybrid-precision/Recsys_Challenge_2023/Recommenders/Similarity/Compute_Similarity_Euclidean.py\n",
      "/kaggle/input/hybrid-precision/Recsys_Challenge_2023/Recommenders/Similarity/Compute_Similarity_Python.py\n",
      "/kaggle/input/hybrid-precision/Recsys_Challenge_2023/Recommenders/Similarity/Compute_Similarity.py\n",
      "/kaggle/input/hybrid-precision/Recsys_Challenge_2023/Recommenders/Similarity/Compute_similarity_test.py\n",
      "/kaggle/input/hybrid-precision/Recsys_Challenge_2023/Recommenders/Similarity/__pycache__/Compute_Similarity_Python.cpython-310.pyc\n",
      "/kaggle/input/hybrid-precision/Recsys_Challenge_2023/Recommenders/Similarity/__pycache__/Compute_Similarity.cpython-310.pyc\n",
      "/kaggle/input/hybrid-precision/Recsys_Challenge_2023/Recommenders/Similarity/__pycache__/Compute_Similarity_Euclidean.cpython-310.pyc\n",
      "/kaggle/input/hybrid-precision/Recsys_Challenge_2023/Recommenders/Similarity/Cython/Compute_Similarity_Cython.cpython-310-x86_64-linux-gnu.so\n",
      "/kaggle/input/hybrid-precision/Recsys_Challenge_2023/Recommenders/Similarity/Cython/Compute_Similarity_Cython.pyx\n",
      "/kaggle/input/hybrid-precision/Recsys_Challenge_2023/Recommenders/Similarity/Cython/Compute_Similarity_Cython.html\n",
      "/kaggle/input/hybrid-precision/Recsys_Challenge_2023/Recommenders/Similarity/Cython/Compute_Similarity_Cython.c\n",
      "/kaggle/input/hybrid-precision/Recsys_Challenge_2023/Recommenders/EASE_R/EASE_R_Recommender.py\n",
      "/kaggle/input/hybrid-precision/Recsys_Challenge_2023/Recommenders/SLIM/SLIMElasticNetRecommender.py\n",
      "/kaggle/input/hybrid-precision/Recsys_Challenge_2023/Recommenders/SLIM/SLIM_BPR_Python.py\n",
      "/kaggle/input/hybrid-precision/Recsys_Challenge_2023/Recommenders/SLIM/__pycache__/SLIMElasticNetRecommender.cpython-310.pyc\n",
      "/kaggle/input/hybrid-precision/Recsys_Challenge_2023/Recommenders/SLIM/Cython/Triangular_Matrix.cpython-310-x86_64-linux-gnu.so\n",
      "/kaggle/input/hybrid-precision/Recsys_Challenge_2023/Recommenders/SLIM/Cython/Triangular_Matrix.c\n",
      "/kaggle/input/hybrid-precision/Recsys_Challenge_2023/Recommenders/SLIM/Cython/SLIM_BPR_Cython.py\n",
      "/kaggle/input/hybrid-precision/Recsys_Challenge_2023/Recommenders/SLIM/Cython/Sparse_Matrix_Tree_CSR.pyx\n",
      "/kaggle/input/hybrid-precision/Recsys_Challenge_2023/Recommenders/SLIM/Cython/Triangular_Matrix.pyx\n",
      "/kaggle/input/hybrid-precision/Recsys_Challenge_2023/Recommenders/SLIM/Cython/SLIM_BPR_Cython_Epoch.pyx\n",
      "/kaggle/input/hybrid-precision/Recsys_Challenge_2023/Recommenders/SLIM/Cython/Triangular_Matrix.html\n",
      "/kaggle/input/hybrid-precision/Recsys_Challenge_2023/Recommenders/GraphBased/RP3betaRecommender.py\n",
      "/kaggle/input/hybrid-precision/Recsys_Challenge_2023/Recommenders/GraphBased/P3alphaRecommender.py\n",
      "/kaggle/input/hybrid-precision/Recsys_Challenge_2023/Recommenders/FactorizationMachines/LightFMRecommender.py\n",
      "/kaggle/input/hybrid-precision/Recsys_Challenge_2023/Recommenders/__pycache__/BaseRecommender.cpython-310.pyc\n",
      "/kaggle/input/hybrid-precision/Recsys_Challenge_2023/Recommenders/__pycache__/BaseSimilarityMatrixRecommender.cpython-310.pyc\n",
      "/kaggle/input/hybrid-precision/Recsys_Challenge_2023/Recommenders/__pycache__/BaseMatrixFactorizationRecommender.cpython-310.pyc\n",
      "/kaggle/input/hybrid-precision/Recsys_Challenge_2023/Recommenders/__pycache__/Incremental_Training_Early_Stopping.cpython-310.pyc\n",
      "/kaggle/input/hybrid-precision/Recsys_Challenge_2023/Recommenders/__pycache__/IR_feature_weighting.cpython-310.pyc\n",
      "/kaggle/input/hybrid-precision/Recsys_Challenge_2023/Recommenders/__pycache__/DataIO.cpython-310.pyc\n",
      "/kaggle/input/hybrid-precision/Recsys_Challenge_2023/Recommenders/__pycache__/BaseTempFolder.cpython-310.pyc\n",
      "/kaggle/input/hybrid-precision/Recsys_Challenge_2023/Recommenders/__pycache__/Recommender_utils.cpython-310.pyc\n",
      "/kaggle/input/hybrid-precision/Recsys_Challenge_2023/Recommenders/KNN/ItemKNNCustomSimilarityRecommender.py\n",
      "/kaggle/input/hybrid-precision/Recsys_Challenge_2023/Recommenders/KNN/ItemKNNCBFRecommender.py\n",
      "/kaggle/input/hybrid-precision/Recsys_Challenge_2023/Recommenders/KNN/ItemKNNSimilarityHybridRecommender.py\n",
      "/kaggle/input/hybrid-precision/Recsys_Challenge_2023/Recommenders/KNN/UserKNNCBFRecommender.py\n",
      "/kaggle/input/hybrid-precision/Recsys_Challenge_2023/Recommenders/KNN/ItemKNNCFRecommender.py\n",
      "/kaggle/input/hybrid-precision/Recsys_Challenge_2023/Recommenders/KNN/UserKNN_CFCBF_Hybrid_Recommender.py\n",
      "/kaggle/input/hybrid-precision/Recsys_Challenge_2023/Recommenders/KNN/ItemKNN_CFCBF_Hybrid_Recommender.py\n",
      "/kaggle/input/hybrid-precision/Recsys_Challenge_2023/Recommenders/KNN/UserKNNCFRecommender.py\n",
      "/kaggle/input/hybrid-precision/Recsys_Challenge_2023/Recommenders/KNN/__pycache__/UserKNNCFRecommender.cpython-310.pyc\n",
      "/kaggle/input/hybrid-precision/Recsys_Challenge_2023/Recommenders/KNN/__pycache__/ItemKNNCFRecommender.cpython-310.pyc\n",
      "/kaggle/input/hybrid-precision/Recsys_Challenge_2023/Recommenders/Neural/architecture_utils.py\n",
      "/kaggle/input/hybrid-precision/Recsys_Challenge_2023/Recommenders/Neural/MultVAERecommender.py\n",
      "/kaggle/input/hybrid-precision/Recsys_Challenge_2023/Recommenders/Neural/MultVAE_PyTorch_Recommender.py\n",
      "/kaggle/input/hybrid-precision/Recsys_Challenge_2023/Recommenders/FeatureWeighting/CFW_D_Similarity_Linalg.py\n",
      "/kaggle/input/hybrid-precision/Recsys_Challenge_2023/Recommenders/FeatureWeighting/Cython/CFW_D_Similarity_Cython_SGD.cpython-310-x86_64-linux-gnu.so\n",
      "/kaggle/input/hybrid-precision/Recsys_Challenge_2023/Recommenders/FeatureWeighting/Cython/HP3_Similarity_Cython_SGD.c\n",
      "/kaggle/input/hybrid-precision/Recsys_Challenge_2023/Recommenders/FeatureWeighting/Cython/FBSM_Rating_Cython_SGD.c\n",
      "/kaggle/input/hybrid-precision/Recsys_Challenge_2023/Recommenders/FeatureWeighting/Cython/CFW_DVV_Similarity_Cython_SGD.pyx\n",
      "/kaggle/input/hybrid-precision/Recsys_Challenge_2023/Recommenders/FeatureWeighting/Cython/FBSM_Rating_Cython_SGD.cpython-310-x86_64-linux-gnu.so\n",
      "/kaggle/input/hybrid-precision/Recsys_Challenge_2023/Recommenders/FeatureWeighting/Cython/CFW_D_Similarity_Cython_SGD.html\n",
      "/kaggle/input/hybrid-precision/Recsys_Challenge_2023/Recommenders/FeatureWeighting/Cython/FBSM_Rating_Cython.py\n",
      "/kaggle/input/hybrid-precision/Recsys_Challenge_2023/Recommenders/FeatureWeighting/Cython/CFW_DVV_Similarity_Cython_SGD.html\n",
      "/kaggle/input/hybrid-precision/Recsys_Challenge_2023/Recommenders/FeatureWeighting/Cython/CFW_DVV_Similarity_Cython_SGD.cpython-310-x86_64-linux-gnu.so\n",
      "/kaggle/input/hybrid-precision/Recsys_Challenge_2023/Recommenders/FeatureWeighting/Cython/HP3_Similarity_Cython.py\n",
      "/kaggle/input/hybrid-precision/Recsys_Challenge_2023/Recommenders/FeatureWeighting/Cython/CFW_D_Similarity_Cython_SGD.c\n",
      "/kaggle/input/hybrid-precision/Recsys_Challenge_2023/Recommenders/FeatureWeighting/Cython/CFW_D_Similarity_Cython_SGD.pyx\n",
      "/kaggle/input/hybrid-precision/Recsys_Challenge_2023/Recommenders/FeatureWeighting/Cython/CFW_D_Similarity_Cython.py\n",
      "/kaggle/input/hybrid-precision/Recsys_Challenge_2023/Recommenders/FeatureWeighting/Cython/FBSM_Rating_Cython_SGD.pyx\n",
      "/kaggle/input/hybrid-precision/Recsys_Challenge_2023/Recommenders/FeatureWeighting/Cython/CFW_DVV_Similarity_Cython_SGD.c\n",
      "/kaggle/input/hybrid-precision/Recsys_Challenge_2023/Recommenders/FeatureWeighting/Cython/HP3_Similarity_Cython_SGD.cpython-310-x86_64-linux-gnu.so\n",
      "/kaggle/input/hybrid-precision/Recsys_Challenge_2023/Recommenders/FeatureWeighting/Cython/HP3_Similarity_Cython_SGD.pyx\n",
      "/kaggle/input/hybrid-precision/Recsys_Challenge_2023/Recommenders/FeatureWeighting/Cython/CFW_DVV_Similarity_Cython.py\n",
      "/kaggle/input/hybrid-precision/Recsys_Challenge_2023/Recommenders/FeatureWeighting/Cython/FBSM_Rating_Cython_SGD.html\n",
      "/kaggle/input/hybrid-precision/Recsys_Challenge_2023/Recommenders/FeatureWeighting/Cython/HP3_Similarity_Cython_SGD.html\n",
      "/kaggle/input/hybrid-precision/Recsys_Challenge_2023/Recommenders/MatrixFactorization/IALSRecommender.py\n",
      "/kaggle/input/hybrid-precision/Recsys_Challenge_2023/Recommenders/MatrixFactorization/NMFRecommender.py\n",
      "/kaggle/input/hybrid-precision/Recsys_Challenge_2023/Recommenders/MatrixFactorization/PureSVDRecommender.py\n",
      "/kaggle/input/hybrid-precision/Recsys_Challenge_2023/Recommenders/MatrixFactorization/SVDFeatureRecommender.py\n",
      "/kaggle/input/hybrid-precision/Recsys_Challenge_2023/Recommenders/MatrixFactorization/PyTorch/MF_MSE_PyTorch.py\n",
      "/kaggle/input/hybrid-precision/Recsys_Challenge_2023/Recommenders/MatrixFactorization/PyTorch/MF_MSE_PyTorch_model.py\n",
      "/kaggle/input/hybrid-precision/Recsys_Challenge_2023/Recommenders/MatrixFactorization/__pycache__/PureSVDRecommender.cpython-310.pyc\n",
      "/kaggle/input/hybrid-precision/Recsys_Challenge_2023/Recommenders/MatrixFactorization/__pycache__/IALSRecommender.cpython-310.pyc\n",
      "/kaggle/input/hybrid-precision/Recsys_Challenge_2023/Recommenders/MatrixFactorization/Cython/MatrixFactorization_Cython.py\n",
      "/kaggle/input/hybrid-precision/Recsys_Challenge_2023/Recommenders/MatrixFactorization/Cython/MatrixFactorization_Cython_Epoch.cpython-310-x86_64-linux-gnu.so\n",
      "/kaggle/input/hybrid-precision/Recsys_Challenge_2023/Recommenders/MatrixFactorization/Cython/MatrixFactorizationImpressions_Cython_Epoch.cpython-310-x86_64-linux-gnu.so\n",
      "/kaggle/input/hybrid-precision/Recsys_Challenge_2023/Recommenders/MatrixFactorization/Cython/MatrixFactorizationImpressions_Cython.py\n",
      "/kaggle/input/hybrid-precision/Recsys_Challenge_2023/Recommenders/MatrixFactorization/Cython/MatrixFactorization_Cython_Epoch.c\n",
      "/kaggle/input/hybrid-precision/Recsys_Challenge_2023/Recommenders/MatrixFactorization/Cython/MatrixFactorization_Cython_Epoch.html\n",
      "/kaggle/input/hybrid-precision/Recsys_Challenge_2023/Recommenders/MatrixFactorization/Cython/MatrixFactorizationImpressions_Cython_Epoch.pyx\n",
      "/kaggle/input/hybrid-precision/Recsys_Challenge_2023/Recommenders/MatrixFactorization/Cython/MatrixFactorization_Cython_Epoch.pyx\n",
      "/kaggle/input/hybrid-precision/Recsys_Challenge_2023/Recommenders/MatrixFactorization/Cython/MatrixFactorizationImpressions_Cython_Epoch.c\n",
      "/kaggle/input/hybrid-precision/Recsys_Challenge_2023/Recommenders/MatrixFactorization/Cython/MatrixFactorizationImpressions_Cython_Epoch.html\n",
      "/kaggle/input/hybrid-precision/Recsys_Challenge_2023/tuning_results/tuning_hybrid_merging.db\n",
      "/kaggle/input/hybrid-precision/Recsys_Challenge_2023/tuning_results/tuning_hybrid.db\n",
      "/kaggle/input/hybrid-precision/Recsys_Challenge_2023/tuning_results/best_params_ials_v2.json\n",
      "/kaggle/input/hybrid-precision/Recsys_Challenge_2023/tuning_results/best_params_hybrid_merging.json\n",
      "/kaggle/input/hybrid-precision/Recsys_Challenge_2023/tuning_results/best_params_knn_item.json\n",
      "/kaggle/input/hybrid-precision/Recsys_Challenge_2023/tuning_results/tuning_RP3+ItemKNN_Hybrid.db\n",
      "/kaggle/input/hybrid-precision/Recsys_Challenge_2023/tuning_results/best_params_EASE_R.json\n",
      "/kaggle/input/hybrid-precision/Recsys_Challenge_2023/tuning_results/pure_svd_params.json\n",
      "/kaggle/input/hybrid-precision/Recsys_Challenge_2023/tuning_results/pure_svd_trials.csv\n",
      "/kaggle/input/hybrid-precision/Recsys_Challenge_2023/tuning_results/tuning.db\n",
      "/kaggle/input/hybrid-precision/Recsys_Challenge_2023/tuning_results/tuning_hybrid_UserKNN_RP3Hybrid.db\n",
      "/kaggle/input/hybrid-precision/Recsys_Challenge_2023/tuning_results/best_params_hybrid_UserKNN_RP3Hybrid.json\n",
      "/kaggle/input/hybrid-precision/Recsys_Challenge_2023/tuning_results/best_params_RP3+ItemKNN_Hybrid.json\n",
      "/kaggle/input/hybrid-precision/Recsys_Challenge_2023/tuning_results/best_params_hybrid.json\n",
      "/kaggle/input/hybrid-precision/Recsys_Challenge_2023/tuning_results/best_params_item_knn_precision.json\n",
      "/kaggle/input/hybrid-precision/Recsys_Challenge_2023/tuning_results/best_params_ials.json\n",
      "/kaggle/input/hybrid-precision/Recsys_Challenge_2023/tuning_results/best_params_knn_user.json\n",
      "/kaggle/input/hybrid-precision/Recsys_Challenge_2023/tuning_results/best_params_RP3.json\n",
      "/kaggle/input/hybrid-precision/Recsys_Challenge_2023/images/random_random_everywhere_meme.jpg\n",
      "/kaggle/input/hybrid-precision/Recsys_Challenge_2023/images/ive_already_seen_it_meme.png\n",
      "/kaggle/input/hybrid-precision/Recsys_Challenge_2023/images/bob_example.jpeg\n",
      "/kaggle/input/hybrid-precision/Recsys_Challenge_2023/images/hstack_example.png\n",
      "/kaggle/input/hybrid-precision/Recsys_Challenge_2023/images/FactorizationMachine.png\n",
      "/kaggle/input/hybrid-precision/Recsys_Challenge_2023/images/ive_evaluated_your_performance_meme.jpg\n",
      "/kaggle/input/hybrid-precision/Recsys_Challenge_2023/images/amongus_meme.png\n",
      "/kaggle/input/hybrid-precision/Recsys_Challenge_2023/images/toy_story_poster.png\n",
      "/kaggle/input/hybrid-precision/Recsys_Challenge_2023/images/better_than_average_on_the_first_try_meme.jpg\n",
      "/kaggle/input/hybrid-precision/Recsys_Challenge_2023/HyperparameterTuning/SearchSingleCase.py\n",
      "/kaggle/input/hybrid-precision/Recsys_Challenge_2023/HyperparameterTuning/SearchAbstractClass.py\n",
      "/kaggle/input/hybrid-precision/Recsys_Challenge_2023/HyperparameterTuning/run_hyperparameter_search.py\n",
      "/kaggle/input/hybrid-precision/Recsys_Challenge_2023/HyperparameterTuning/SearchBayesianSkopt.py\n",
      "/kaggle/input/hybrid-precision/Recsys_Challenge_2023/Cython_examples/isPrime_slow.pyx\n",
      "/kaggle/input/hybrid-precision/Recsys_Challenge_2023/Cython_examples/SLIM_MSE_fastest.pyx\n",
      "/kaggle/input/hybrid-precision/Recsys_Challenge_2023/Cython_examples/isPrime_nochecks.pyx\n",
      "/kaggle/input/hybrid-precision/Recsys_Challenge_2023/Cython_examples/isPrime.pyx\n",
      "/kaggle/input/hybrid-precision/Recsys_Challenge_2023/Cython_examples/FunkSVD_fastest.pyx\n",
      "/kaggle/input/hybrid-precision/Recsys_Challenge_2023/Cython_examples/FunkSVD_slow.pyx\n",
      "/kaggle/input/hybrid-precision/Recsys_Challenge_2023/Cython_examples/SLIM_MSE_slow.pyx\n",
      "/kaggle/input/hybrid-precision/Recsys_Challenge_2023/result_experiments/run_compile_all_cython.txt\n",
      "/kaggle/input/hybrid-precision/Recsys_Challenge_2023/.git/config\n",
      "/kaggle/input/hybrid-precision/Recsys_Challenge_2023/.git/packed-refs\n",
      "/kaggle/input/hybrid-precision/Recsys_Challenge_2023/.git/HEAD\n",
      "/kaggle/input/hybrid-precision/Recsys_Challenge_2023/.git/index\n",
      "/kaggle/input/hybrid-precision/Recsys_Challenge_2023/.git/description\n",
      "/kaggle/input/hybrid-precision/Recsys_Challenge_2023/.git/info/exclude\n",
      "/kaggle/input/hybrid-precision/Recsys_Challenge_2023/.git/refs/heads/master\n",
      "/kaggle/input/hybrid-precision/Recsys_Challenge_2023/.git/refs/remotes/origin/HEAD\n",
      "/kaggle/input/hybrid-precision/Recsys_Challenge_2023/.git/hooks/pre-merge-commit.sample\n",
      "/kaggle/input/hybrid-precision/Recsys_Challenge_2023/.git/hooks/prepare-commit-msg.sample\n",
      "/kaggle/input/hybrid-precision/Recsys_Challenge_2023/.git/hooks/update.sample\n",
      "/kaggle/input/hybrid-precision/Recsys_Challenge_2023/.git/hooks/pre-push.sample\n",
      "/kaggle/input/hybrid-precision/Recsys_Challenge_2023/.git/hooks/pre-rebase.sample\n",
      "/kaggle/input/hybrid-precision/Recsys_Challenge_2023/.git/hooks/pre-applypatch.sample\n",
      "/kaggle/input/hybrid-precision/Recsys_Challenge_2023/.git/hooks/pre-commit.sample\n",
      "/kaggle/input/hybrid-precision/Recsys_Challenge_2023/.git/hooks/commit-msg.sample\n",
      "/kaggle/input/hybrid-precision/Recsys_Challenge_2023/.git/hooks/post-update.sample\n",
      "/kaggle/input/hybrid-precision/Recsys_Challenge_2023/.git/hooks/pre-receive.sample\n",
      "/kaggle/input/hybrid-precision/Recsys_Challenge_2023/.git/hooks/fsmonitor-watchman.sample\n",
      "/kaggle/input/hybrid-precision/Recsys_Challenge_2023/.git/hooks/applypatch-msg.sample\n",
      "/kaggle/input/hybrid-precision/Recsys_Challenge_2023/.git/logs/HEAD\n",
      "/kaggle/input/hybrid-precision/Recsys_Challenge_2023/.git/logs/refs/heads/master\n",
      "/kaggle/input/hybrid-precision/Recsys_Challenge_2023/.git/logs/refs/remotes/origin/HEAD\n",
      "/kaggle/input/hybrid-precision/Recsys_Challenge_2023/.git/objects/pack/pack-d17632896c4c5dfbed5a97c31d047d7109f665fe.idx\n",
      "/kaggle/input/hybrid-precision/Recsys_Challenge_2023/.git/objects/pack/pack-d17632896c4c5dfbed5a97c31d047d7109f665fe.pack\n",
      "/kaggle/input/hybrid-precision/Recsys_Challenge_2023/challenge_notebooks/hyperparameters-tuning.ipynb\n",
      "/kaggle/input/hybrid-precision/Recsys_Challenge_2023/challenge_notebooks/rp3-tuning.ipynb\n",
      "/kaggle/input/hybrid-precision/Recsys_Challenge_2023/challenge_notebooks/rp3-itemknn-hybrid.ipynb\n",
      "/kaggle/input/hybrid-precision/Recsys_Challenge_2023/challenge_notebooks/merging-models.ipynb\n",
      "/kaggle/input/hybrid-precision/Recsys_Challenge_2023/challenge_notebooks/srecsys-challenge.ipynb\n",
      "/kaggle/input/hybrid-precision/Recsys_Challenge_2023/Evaluation/metrics.py\n",
      "/kaggle/input/hybrid-precision/Recsys_Challenge_2023/Evaluation/Evaluator.py\n",
      "/kaggle/input/hybrid-precision/Recsys_Challenge_2023/Evaluation/__pycache__/metrics.cpython-310.pyc\n",
      "/kaggle/input/hybrid-precision/Recsys_Challenge_2023/Evaluation/__pycache__/Evaluator.cpython-310.pyc\n",
      "/kaggle/input/recommender-system-2023-challenge-polimi/data_train.csv\n",
      "/kaggle/input/recommender-system-2023-challenge-polimi/data_target_users_test.csv\n"
     ]
    }
   ],
   "source": [
    "import numpy as np\n",
    "import pandas as pd\n",
    "import matplotlib.pyplot as plt\n",
    "import seaborn as sns\n",
    "import joblib\n",
    "import json\n",
    "import random\n",
    "import tqdm\n",
    "import gc\n",
    "import time\n",
    "import os\n",
    "import shutil\n",
    "import optuna\n",
    "import scipy.sparse as sps\n",
    "\n",
    "for dirname, _, filenames in os.walk('/kaggle/input'):\n",
    "    for filename in filenames:\n",
    "        print(os.path.join(dirname, filename))"
   ]
  },
  {
   "cell_type": "code",
   "execution_count": 5,
   "id": "6db6a3d4",
   "metadata": {
    "execution": {
     "iopub.execute_input": "2023-11-24T14:22:36.064003Z",
     "iopub.status.busy": "2023-11-24T14:22:36.063432Z",
     "iopub.status.idle": "2023-11-24T14:22:36.746675Z",
     "shell.execute_reply": "2023-11-24T14:22:36.745559Z"
    },
    "papermill": {
     "duration": 0.70202,
     "end_time": "2023-11-24T14:22:36.749226",
     "exception": false,
     "start_time": "2023-11-24T14:22:36.047206",
     "status": "completed"
    },
    "tags": []
   },
   "outputs": [
    {
     "name": "stdout",
     "output_type": "stream",
     "text": [
      "Repository found\n"
     ]
    }
   ],
   "source": [
    "from github import Github\n",
    "from github import Auth\n",
    "\n",
    "auth = Auth.Token(token)\n",
    "g = Github(auth=auth)\n",
    "\n",
    "repo = None\n",
    "for r in g.get_user().get_repos():\n",
    "    if r.name == 'Recsys_Challenge_2023':\n",
    "        repo = r\n",
    "        print('Repository found')"
   ]
  },
  {
   "cell_type": "code",
   "execution_count": 6,
   "id": "3d7e60ec",
   "metadata": {
    "execution": {
     "iopub.execute_input": "2023-11-24T14:22:36.780237Z",
     "iopub.status.busy": "2023-11-24T14:22:36.779612Z",
     "iopub.status.idle": "2023-11-24T14:22:36.786537Z",
     "shell.execute_reply": "2023-11-24T14:22:36.785189Z"
    },
    "papermill": {
     "duration": 0.025606,
     "end_time": "2023-11-24T14:22:36.789036",
     "exception": false,
     "start_time": "2023-11-24T14:22:36.763430",
     "status": "completed"
    },
    "tags": []
   },
   "outputs": [],
   "source": [
    "def upload_file(filepath_kaggle, filepath_github, commit_message):\n",
    "    try:\n",
    "        contents = repo.get_contents(filepath_github)\n",
    "        with open(filepath_kaggle, \"rb\") as file:\n",
    "            repo.update_file(contents.path, commit_message, file.read(), contents.sha)\n",
    "    except Exception:\n",
    "        with open(filepath_kaggle, \"rb\") as file:\n",
    "            repo.create_file(filepath_github, commit_message, file.read())"
   ]
  },
  {
   "cell_type": "code",
   "execution_count": 7,
   "id": "400c886c",
   "metadata": {
    "execution": {
     "iopub.execute_input": "2023-11-24T14:22:36.819864Z",
     "iopub.status.busy": "2023-11-24T14:22:36.819448Z",
     "iopub.status.idle": "2023-11-24T14:22:36.824526Z",
     "shell.execute_reply": "2023-11-24T14:22:36.823408Z"
    },
    "papermill": {
     "duration": 0.023505,
     "end_time": "2023-11-24T14:22:36.826682",
     "exception": false,
     "start_time": "2023-11-24T14:22:36.803177",
     "status": "completed"
    },
    "tags": []
   },
   "outputs": [],
   "source": [
    "config = {\n",
    "    'tune_precision': False,\n",
    "    'tune_hybrid': True,\n",
    "    'database_path': '/kaggle/working/tuning_hybrid_precision.db',\n",
    "    'copy_prev_best_params': True,\n",
    "    'save_github': True\n",
    "}"
   ]
  },
  {
   "cell_type": "code",
   "execution_count": 8,
   "id": "e7f67fdc",
   "metadata": {
    "execution": {
     "iopub.execute_input": "2023-11-24T14:22:36.859865Z",
     "iopub.status.busy": "2023-11-24T14:22:36.859438Z",
     "iopub.status.idle": "2023-11-24T14:22:36.865202Z",
     "shell.execute_reply": "2023-11-24T14:22:36.864067Z"
    },
    "papermill": {
     "duration": 0.024984,
     "end_time": "2023-11-24T14:22:36.867575",
     "exception": false,
     "start_time": "2023-11-24T14:22:36.842591",
     "status": "completed"
    },
    "tags": []
   },
   "outputs": [],
   "source": [
    "try:\n",
    "    shutil.copyfile(\n",
    "        '/kaggle/working/Recsys_Challenge_2023/tuning_results/tuning_hybrid_precision.db', \n",
    "        config['database_path']\n",
    "    )\n",
    "except FileNotFoundError:\n",
    "    pass # if not present optuna will create it"
   ]
  },
  {
   "cell_type": "code",
   "execution_count": 9,
   "id": "7425ceac",
   "metadata": {
    "execution": {
     "iopub.execute_input": "2023-11-24T14:22:36.901222Z",
     "iopub.status.busy": "2023-11-24T14:22:36.900754Z",
     "iopub.status.idle": "2023-11-24T14:22:37.124216Z",
     "shell.execute_reply": "2023-11-24T14:22:37.122965Z"
    },
    "papermill": {
     "duration": 0.243278,
     "end_time": "2023-11-24T14:22:37.126977",
     "exception": false,
     "start_time": "2023-11-24T14:22:36.883699",
     "status": "completed"
    },
    "tags": []
   },
   "outputs": [],
   "source": [
    "train_data = pd.read_csv('/kaggle/input/recommender-system-2023-challenge-polimi/data_train.csv')\n",
    "user_ids_test = pd.read_csv('/kaggle/input/recommender-system-2023-challenge-polimi/data_target_users_test.csv')"
   ]
  },
  {
   "cell_type": "code",
   "execution_count": 10,
   "id": "0ae3e6c5",
   "metadata": {
    "execution": {
     "iopub.execute_input": "2023-11-24T14:22:37.158497Z",
     "iopub.status.busy": "2023-11-24T14:22:37.158097Z",
     "iopub.status.idle": "2023-11-24T14:22:37.197883Z",
     "shell.execute_reply": "2023-11-24T14:22:37.196984Z"
    },
    "papermill": {
     "duration": 0.059051,
     "end_time": "2023-11-24T14:22:37.200341",
     "exception": false,
     "start_time": "2023-11-24T14:22:37.141290",
     "status": "completed"
    },
    "tags": []
   },
   "outputs": [
    {
     "data": {
      "text/plain": [
       "<13024x22347 sparse matrix of type '<class 'numpy.float64'>'\n",
       "\twith 478730 stored elements in Compressed Sparse Row format>"
      ]
     },
     "execution_count": 10,
     "metadata": {},
     "output_type": "execute_result"
    }
   ],
   "source": [
    "URM_all = sps.csr_matrix((train_data.data.values,\n",
    "                          ((train_data.row - 1).values, (train_data.col - 1).values)),\n",
    "                        shape=(train_data.row.max(), train_data.col.max()))\n",
    "URM_all"
   ]
  },
  {
   "cell_type": "code",
   "execution_count": 11,
   "id": "4dbc4eb5",
   "metadata": {
    "execution": {
     "iopub.execute_input": "2023-11-24T14:22:37.232018Z",
     "iopub.status.busy": "2023-11-24T14:22:37.231394Z",
     "iopub.status.idle": "2023-11-24T14:22:37.237727Z",
     "shell.execute_reply": "2023-11-24T14:22:37.236929Z"
    },
    "papermill": {
     "duration": 0.025055,
     "end_time": "2023-11-24T14:22:37.240143",
     "exception": false,
     "start_time": "2023-11-24T14:22:37.215088",
     "status": "completed"
    },
    "tags": []
   },
   "outputs": [
    {
     "name": "stdout",
     "output_type": "stream",
     "text": [
      "/kaggle/working/Recsys_Challenge_2023\n"
     ]
    }
   ],
   "source": [
    "%cd /kaggle/working/Recsys_Challenge_2023"
   ]
  },
  {
   "cell_type": "code",
   "execution_count": 12,
   "id": "7fbc9c2e",
   "metadata": {
    "execution": {
     "iopub.execute_input": "2023-11-24T14:22:37.341644Z",
     "iopub.status.busy": "2023-11-24T14:22:37.341212Z",
     "iopub.status.idle": "2023-11-24T14:22:37.382289Z",
     "shell.execute_reply": "2023-11-24T14:22:37.381171Z"
    },
    "papermill": {
     "duration": 0.060071,
     "end_time": "2023-11-24T14:22:37.385444",
     "exception": false,
     "start_time": "2023-11-24T14:22:37.325373",
     "status": "completed"
    },
    "tags": []
   },
   "outputs": [],
   "source": [
    "from Data_manager.IncrementalSparseMatrix import IncrementalSparseMatrix\n",
    "\n",
    "\n",
    "class CrossValidationSplitter:\n",
    "    def __init__(self, n_splits):\n",
    "        self.n_splits = n_splits\n",
    "        self.folds = []\n",
    "        \n",
    "    def split(self, URM):\n",
    "        n_int_per_split = int(URM.nnz / self.n_splits)\n",
    "        indices = np.arange(0, URM.nnz, 1)\n",
    "        np.random.shuffle(indices)\n",
    "        num_users, num_items = URM.shape\n",
    "        \n",
    "        URM_all = sps.coo_matrix(URM)\n",
    "        \n",
    "        for i in range(self.n_splits):\n",
    "            if i == self.n_splits - 1:\n",
    "                indices_valid = indices[n_int_per_split * i:]\n",
    "                indices_train = indices[:n_int_per_split * i]\n",
    "            else:\n",
    "                indices_valid = indices[n_int_per_split * i: n_int_per_split * (i + 1)]\n",
    "                indices_train_1 = indices[n_int_per_split * max(0, i - 1): n_int_per_split * i]\n",
    "                indices_train_2 = indices[n_int_per_split * (i + 1):]\n",
    "                indices_train = np.concatenate((indices_train_1, indices_train_2))\n",
    "                \n",
    "            URM_valid_builder = IncrementalSparseMatrix(\n",
    "                n_rows=num_users, n_cols=num_items, auto_create_col_mapper=False, \n",
    "                auto_create_row_mapper=False\n",
    "            )\n",
    "            \n",
    "            URM_train_builder = IncrementalSparseMatrix(\n",
    "                n_rows=num_users, n_cols=num_items, auto_create_col_mapper=False, \n",
    "                auto_create_row_mapper=False\n",
    "            )\n",
    "            \n",
    "            URM_valid_builder.add_data_lists(\n",
    "                URM_all.row[indices_valid],\n",
    "                URM_all.col[indices_valid],\n",
    "                URM_all.data[indices_valid]\n",
    "            )\n",
    "            \n",
    "            URM_train_builder.add_data_lists(\n",
    "                URM_all.row[indices_train],\n",
    "                URM_all.col[indices_train],\n",
    "                URM_all.data[indices_train]\n",
    "            )\n",
    "            \n",
    "            yield URM_train_builder.get_SparseMatrix(), URM_valid_builder.get_SparseMatrix()"
   ]
  },
  {
   "cell_type": "code",
   "execution_count": 13,
   "id": "9d5c13e0",
   "metadata": {
    "execution": {
     "iopub.execute_input": "2023-11-24T14:22:37.417113Z",
     "iopub.status.busy": "2023-11-24T14:22:37.416328Z",
     "iopub.status.idle": "2023-11-24T14:22:37.942481Z",
     "shell.execute_reply": "2023-11-24T14:22:37.941379Z"
    },
    "papermill": {
     "duration": 0.544606,
     "end_time": "2023-11-24T14:22:37.945132",
     "exception": false,
     "start_time": "2023-11-24T14:22:37.400526",
     "status": "completed"
    },
    "tags": []
   },
   "outputs": [],
   "source": [
    "from Recommenders.KNN.UserKNNCFRecommender import UserKNNCFRecommender\n",
    "from Data_manager.split_functions.split_train_validation_random_holdout import split_train_in_two_percentage_global_sample\n",
    "from Recommenders.SLIM.SLIMElasticNetRecommender import MultiThreadSLIM_SLIMElasticNetRecommender\n",
    "from Evaluation.Evaluator import EvaluatorHoldout\n",
    "from Recommenders.MatrixFactorization.IALSRecommender import IALSRecommender\n",
    "from Recommenders.MatrixFactorization.PureSVDRecommender import PureSVDRecommender\n",
    "from Recommenders.KNN.ItemKNNCFRecommender import ItemKNNCFRecommender\n",
    "from Recommenders.KNN.UserKNNCFRecommender import UserKNNCFRecommender\n",
    "from Recommenders.GraphBased.RP3betaRecommender import RP3betaRecommender\n",
    "\n",
    "np.int = int\n",
    "np.random.seed(42)\n",
    "np.bool = bool\n",
    "np.float = float"
   ]
  },
  {
   "cell_type": "code",
   "execution_count": 14,
   "id": "3234240a",
   "metadata": {
    "execution": {
     "iopub.execute_input": "2023-11-24T14:22:37.976103Z",
     "iopub.status.busy": "2023-11-24T14:22:37.975517Z",
     "iopub.status.idle": "2023-11-24T14:22:39.066234Z",
     "shell.execute_reply": "2023-11-24T14:22:39.064712Z"
    },
    "papermill": {
     "duration": 1.109261,
     "end_time": "2023-11-24T14:22:39.069157",
     "exception": false,
     "start_time": "2023-11-24T14:22:37.959896",
     "status": "completed"
    },
    "tags": []
   },
   "outputs": [
    {
     "name": "stdout",
     "output_type": "stream",
     "text": [
      "Warning: 627 (4.81 %) of 13024 users have no train items\n",
      "Warning: 2568 (19.72 %) of 13024 users have no sampled items\n",
      "Warning: 2953 (22.67 %) of 13024 users have no train items\n",
      "Warning: 6367 (48.89 %) of 13024 users have no sampled items\n"
     ]
    }
   ],
   "source": [
    "URM_train, URM_test_complete = split_train_in_two_percentage_global_sample(URM_all, train_percentage = 0.8)\n",
    "URM_validation, URM_test = split_train_in_two_percentage_global_sample(URM_test_complete, train_percentage = 0.8)"
   ]
  },
  {
   "cell_type": "code",
   "execution_count": 15,
   "id": "2bdb487f",
   "metadata": {
    "execution": {
     "iopub.execute_input": "2023-11-24T14:22:39.101404Z",
     "iopub.status.busy": "2023-11-24T14:22:39.100972Z",
     "iopub.status.idle": "2023-11-24T14:22:39.114119Z",
     "shell.execute_reply": "2023-11-24T14:22:39.112842Z"
    },
    "papermill": {
     "duration": 0.031844,
     "end_time": "2023-11-24T14:22:39.116552",
     "exception": false,
     "start_time": "2023-11-24T14:22:39.084708",
     "status": "completed"
    },
    "tags": []
   },
   "outputs": [],
   "source": [
    "from concurrent.futures import ThreadPoolExecutor\n",
    "\n",
    "def evaluate_item_knn(URM_train, URM_valid, params):\n",
    "    recommender = ItemKNNCFRecommender(URM_train)\n",
    "    recommender.fit(**params)\n",
    "\n",
    "    evaluator = EvaluatorHoldout(URM_valid, cutoff_list=[100])\n",
    "    result_df, _ = evaluator.evaluateRecommender(recommender)\n",
    "    print(f'Precision is {result_df.loc[100, \"PRECISION\"]}')\n",
    "    return result_df.loc[100, 'PRECISION']\n",
    "\n",
    "\n",
    "def objective_item_knn(trial):\n",
    "    params = {\n",
    "        'topK': trial.suggest_int('topK', 10, 1000),\n",
    "        'shrink': trial.suggest_int('shrink', 0, 500),\n",
    "        'similarity': trial.suggest_categorical('similarity', [\"cosine\", \"asymmetric\", \"dice\", \"jaccard\", \"tanimoto\", \"tversky\", \"euclidean\"]),        \n",
    "    }\n",
    "    \n",
    "    if params['similarity'] == \"asymmetric\":\n",
    "        params[\"asymmetric_alpha\"] = trial.suggest_float(\"asymmetric_alpha\", 0, 2, log=False)\n",
    "        params[\"normalize\"] = True     \n",
    "\n",
    "    elif params['similarity'] == \"tversky\":\n",
    "        params[\"tversky_alpha\"] = trial.suggest_float(\"tversky_alpha\", 0, 2, log=False)\n",
    "        params[\"tversky_beta\"] = trial.suggest_float(\"tversky_beta\", 0, 2, log=False)\n",
    "        params[\"normalize\"] = True \n",
    "\n",
    "    elif params['similarity'] == \"euclidean\":\n",
    "        params[\"normalize_avg_row\"] = trial.suggest_categorical(\"normalize_avg_row\", [True, False])\n",
    "        params[\"similarity_from_distance_mode\"] = trial.suggest_categorical(\"similarity_from_distance_mode\", [\"lin\", \"log\", \"exp\"])\n",
    "        params[\"normalize\"] = trial.suggest_categorical(\"normalize\", [True, False])\n",
    "    \n",
    "    results = [None] * 10\n",
    "    with ThreadPoolExecutor(max_workers=10) as executor:\n",
    "        futures = []\n",
    "        for URM_train, URM_valid in CrossValidationSplitter(10).split(URM_all):\n",
    "            futures.append(executor.submit(evaluate_item_knn, URM_train, URM_valid, params))\n",
    "        print(len(futures))\n",
    "        for j, future in enumerate(futures):\n",
    "            results[j] = future.result()\n",
    "        \n",
    "    return np.mean(results)"
   ]
  },
  {
   "cell_type": "code",
   "execution_count": 16,
   "id": "9c2721c2",
   "metadata": {
    "_kg_hide-output": true,
    "execution": {
     "iopub.execute_input": "2023-11-24T14:22:39.156409Z",
     "iopub.status.busy": "2023-11-24T14:22:39.155222Z",
     "iopub.status.idle": "2023-11-24T14:22:39.161587Z",
     "shell.execute_reply": "2023-11-24T14:22:39.160444Z"
    },
    "papermill": {
     "duration": 0.032463,
     "end_time": "2023-11-24T14:22:39.163800",
     "exception": false,
     "start_time": "2023-11-24T14:22:39.131337",
     "status": "completed"
    },
    "scrolled": true,
    "tags": []
   },
   "outputs": [],
   "source": [
    "if config['tune_precision']:\n",
    "    study = optuna.create_study(direction='maximize', study_name='hyperparameters_tuning_knn_item_precision@100', \n",
    "                                storage=f'sqlite:///{config[\"database_path\"]}', load_if_exists=True)\n",
    "    study.optimize(objective_item_knn, n_trials=50)"
   ]
  },
  {
   "cell_type": "code",
   "execution_count": 17,
   "id": "c0e2d892",
   "metadata": {
    "execution": {
     "iopub.execute_input": "2023-11-24T14:22:39.197746Z",
     "iopub.status.busy": "2023-11-24T14:22:39.196438Z",
     "iopub.status.idle": "2023-11-24T14:22:39.202744Z",
     "shell.execute_reply": "2023-11-24T14:22:39.201626Z"
    },
    "papermill": {
     "duration": 0.027043,
     "end_time": "2023-11-24T14:22:39.205619",
     "exception": false,
     "start_time": "2023-11-24T14:22:39.178576",
     "status": "completed"
    },
    "tags": []
   },
   "outputs": [],
   "source": [
    "if config['tune_precision']:\n",
    "    fig = optuna.visualization.plot_optimization_history(study)\n",
    "    fig.show()"
   ]
  },
  {
   "cell_type": "code",
   "execution_count": 18,
   "id": "50f20f21",
   "metadata": {
    "execution": {
     "iopub.execute_input": "2023-11-24T14:22:39.238593Z",
     "iopub.status.busy": "2023-11-24T14:22:39.237778Z",
     "iopub.status.idle": "2023-11-24T14:22:39.242982Z",
     "shell.execute_reply": "2023-11-24T14:22:39.242116Z"
    },
    "papermill": {
     "duration": 0.024483,
     "end_time": "2023-11-24T14:22:39.245719",
     "exception": false,
     "start_time": "2023-11-24T14:22:39.221236",
     "status": "completed"
    },
    "tags": []
   },
   "outputs": [],
   "source": [
    "if config['tune_precision']:\n",
    "    fig = optuna.visualization.plot_param_importances(study)\n",
    "    fig.show()"
   ]
  },
  {
   "cell_type": "code",
   "execution_count": 19,
   "id": "ee89011d",
   "metadata": {
    "execution": {
     "iopub.execute_input": "2023-11-24T14:22:39.278695Z",
     "iopub.status.busy": "2023-11-24T14:22:39.277921Z",
     "iopub.status.idle": "2023-11-24T14:22:39.282965Z",
     "shell.execute_reply": "2023-11-24T14:22:39.282167Z"
    },
    "papermill": {
     "duration": 0.02465,
     "end_time": "2023-11-24T14:22:39.285249",
     "exception": false,
     "start_time": "2023-11-24T14:22:39.260599",
     "status": "completed"
    },
    "tags": []
   },
   "outputs": [],
   "source": [
    "if config['tune_precision']:\n",
    "    fig = optuna.visualization.plot_slice(study)\n",
    "    fig.show()"
   ]
  },
  {
   "cell_type": "code",
   "execution_count": 20,
   "id": "9bda7ce7",
   "metadata": {
    "execution": {
     "iopub.execute_input": "2023-11-24T14:22:39.323169Z",
     "iopub.status.busy": "2023-11-24T14:22:39.322318Z",
     "iopub.status.idle": "2023-11-24T14:22:39.331721Z",
     "shell.execute_reply": "2023-11-24T14:22:39.330803Z"
    },
    "papermill": {
     "duration": 0.030495,
     "end_time": "2023-11-24T14:22:39.334281",
     "exception": false,
     "start_time": "2023-11-24T14:22:39.303786",
     "status": "completed"
    },
    "tags": []
   },
   "outputs": [],
   "source": [
    "if config['tune_precision']:\n",
    "    with open('/kaggle/working/best_params_item_knn_precision.json', 'w') as params_file:\n",
    "        json.dump(study.best_params, params_file)\n",
    "        \n",
    "    if config['save_github']: \n",
    "        upload_file(\n",
    "            '/kaggle/working/best_params_item_knn_precision.json', \n",
    "            'tuning_results/best_params_item_knn_precision.json', \n",
    "            'Item KNN precision results (from kaggle notebook)'\n",
    "        )\n",
    "    \n",
    "elif config['copy_prev_best_params']:\n",
    "    shutil.copyfile(\n",
    "        '/kaggle/input/hybrid-precision/best_params_item_knn_precision.json', \n",
    "        '/kaggle/working/best_params_item_knn_precision.json'\n",
    "    )"
   ]
  },
  {
   "cell_type": "code",
   "execution_count": 21,
   "id": "01b3952e",
   "metadata": {
    "execution": {
     "iopub.execute_input": "2023-11-24T14:22:39.366128Z",
     "iopub.status.busy": "2023-11-24T14:22:39.365380Z",
     "iopub.status.idle": "2023-11-24T14:22:39.372633Z",
     "shell.execute_reply": "2023-11-24T14:22:39.371728Z"
    },
    "papermill": {
     "duration": 0.025674,
     "end_time": "2023-11-24T14:22:39.374740",
     "exception": false,
     "start_time": "2023-11-24T14:22:39.349066",
     "status": "completed"
    },
    "tags": []
   },
   "outputs": [
    {
     "data": {
      "text/plain": [
       "{'topK': 32, 'shrink': 33, 'similarity': 'tanimoto'}"
      ]
     },
     "execution_count": 21,
     "metadata": {},
     "output_type": "execute_result"
    }
   ],
   "source": [
    "with open('/kaggle/working/best_params_item_knn_precision.json', 'r') as params_file:\n",
    "    params_knn = json.load(params_file)\n",
    "params_knn"
   ]
  },
  {
   "cell_type": "code",
   "execution_count": 22,
   "id": "7e916e85",
   "metadata": {
    "execution": {
     "iopub.execute_input": "2023-11-24T14:22:39.408989Z",
     "iopub.status.busy": "2023-11-24T14:22:39.408218Z",
     "iopub.status.idle": "2023-11-24T14:22:52.336295Z",
     "shell.execute_reply": "2023-11-24T14:22:52.334888Z"
    },
    "papermill": {
     "duration": 12.950062,
     "end_time": "2023-11-24T14:22:52.339469",
     "exception": false,
     "start_time": "2023-11-24T14:22:39.389407",
     "status": "completed"
    },
    "tags": []
   },
   "outputs": [
    {
     "name": "stdout",
     "output_type": "stream",
     "text": [
      "ItemKNNCFRecommender: URM Detected 627 ( 4.8%) users with no interactions.\n",
      "ItemKNNCFRecommender: URM Detected 247 ( 1.1%) items with no interactions.\n",
      "Similarity column 22347 (100.0%), 4915.70 column/sec. Elapsed time 4.55 sec\n",
      "EvaluatorHoldout: Ignoring 2568 (19.7%) Users that have less than 1 test interactions\n",
      "EvaluatorHoldout: Processed 10456 (100.0%) in 8.20 sec. Users per second: 1274\n"
     ]
    },
    {
     "data": {
      "text/html": [
       "<div>\n",
       "<style scoped>\n",
       "    .dataframe tbody tr th:only-of-type {\n",
       "        vertical-align: middle;\n",
       "    }\n",
       "\n",
       "    .dataframe tbody tr th {\n",
       "        vertical-align: top;\n",
       "    }\n",
       "\n",
       "    .dataframe thead th {\n",
       "        text-align: right;\n",
       "    }\n",
       "</style>\n",
       "<table border=\"1\" class=\"dataframe\">\n",
       "  <thead>\n",
       "    <tr style=\"text-align: right;\">\n",
       "      <th></th>\n",
       "      <th>PRECISION</th>\n",
       "      <th>PRECISION_RECALL_MIN_DEN</th>\n",
       "      <th>RECALL</th>\n",
       "      <th>MAP</th>\n",
       "      <th>MAP_MIN_DEN</th>\n",
       "      <th>MRR</th>\n",
       "      <th>NDCG</th>\n",
       "      <th>F1</th>\n",
       "      <th>HIT_RATE</th>\n",
       "      <th>ARHR_ALL_HITS</th>\n",
       "      <th>...</th>\n",
       "      <th>COVERAGE_USER</th>\n",
       "      <th>COVERAGE_USER_HIT</th>\n",
       "      <th>USERS_IN_GT</th>\n",
       "      <th>DIVERSITY_GINI</th>\n",
       "      <th>SHANNON_ENTROPY</th>\n",
       "      <th>RATIO_DIVERSITY_HERFINDAHL</th>\n",
       "      <th>RATIO_DIVERSITY_GINI</th>\n",
       "      <th>RATIO_SHANNON_ENTROPY</th>\n",
       "      <th>RATIO_AVERAGE_POPULARITY</th>\n",
       "      <th>RATIO_NOVELTY</th>\n",
       "    </tr>\n",
       "    <tr>\n",
       "      <th>cutoff</th>\n",
       "      <th></th>\n",
       "      <th></th>\n",
       "      <th></th>\n",
       "      <th></th>\n",
       "      <th></th>\n",
       "      <th></th>\n",
       "      <th></th>\n",
       "      <th></th>\n",
       "      <th></th>\n",
       "      <th></th>\n",
       "      <th></th>\n",
       "      <th></th>\n",
       "      <th></th>\n",
       "      <th></th>\n",
       "      <th></th>\n",
       "      <th></th>\n",
       "      <th></th>\n",
       "      <th></th>\n",
       "      <th></th>\n",
       "      <th></th>\n",
       "      <th></th>\n",
       "    </tr>\n",
       "  </thead>\n",
       "  <tbody>\n",
       "    <tr>\n",
       "      <th>10</th>\n",
       "      <td>0.085033</td>\n",
       "      <td>0.147081</td>\n",
       "      <td>0.123712</td>\n",
       "      <td>0.043282</td>\n",
       "      <td>0.0743</td>\n",
       "      <td>0.248788</td>\n",
       "      <td>0.135035</td>\n",
       "      <td>0.100789</td>\n",
       "      <td>0.482881</td>\n",
       "      <td>0.324451</td>\n",
       "      <td>...</td>\n",
       "      <td>0.802826</td>\n",
       "      <td>0.387669</td>\n",
       "      <td>0.802826</td>\n",
       "      <td>0.054251</td>\n",
       "      <td>10.03004</td>\n",
       "      <td>0.997326</td>\n",
       "      <td>0.156536</td>\n",
       "      <td>0.772675</td>\n",
       "      <td>1.925012</td>\n",
       "      <td>0.295821</td>\n",
       "    </tr>\n",
       "  </tbody>\n",
       "</table>\n",
       "<p>1 rows × 27 columns</p>\n",
       "</div>"
      ],
      "text/plain": [
       "       PRECISION PRECISION_RECALL_MIN_DEN    RECALL       MAP MAP_MIN_DEN  \\\n",
       "cutoff                                                                      \n",
       "10      0.085033                 0.147081  0.123712  0.043282      0.0743   \n",
       "\n",
       "             MRR      NDCG        F1  HIT_RATE ARHR_ALL_HITS  ...  \\\n",
       "cutoff                                                        ...   \n",
       "10      0.248788  0.135035  0.100789  0.482881      0.324451  ...   \n",
       "\n",
       "       COVERAGE_USER COVERAGE_USER_HIT USERS_IN_GT DIVERSITY_GINI  \\\n",
       "cutoff                                                              \n",
       "10          0.802826          0.387669    0.802826       0.054251   \n",
       "\n",
       "       SHANNON_ENTROPY RATIO_DIVERSITY_HERFINDAHL RATIO_DIVERSITY_GINI  \\\n",
       "cutoff                                                                   \n",
       "10            10.03004                   0.997326             0.156536   \n",
       "\n",
       "       RATIO_SHANNON_ENTROPY RATIO_AVERAGE_POPULARITY RATIO_NOVELTY  \n",
       "cutoff                                                               \n",
       "10                  0.772675                 1.925012      0.295821  \n",
       "\n",
       "[1 rows x 27 columns]"
      ]
     },
     "execution_count": 22,
     "metadata": {},
     "output_type": "execute_result"
    }
   ],
   "source": [
    "recommender = ItemKNNCFRecommender(URM_train)\n",
    "recommender.fit(**params_knn)\n",
    "\n",
    "evaluator = EvaluatorHoldout(URM_test_complete, cutoff_list=[10])\n",
    "result_df, _ = evaluator.evaluateRecommender(recommender)\n",
    "result_df"
   ]
  },
  {
   "cell_type": "code",
   "execution_count": 23,
   "id": "ef7e945c",
   "metadata": {
    "execution": {
     "iopub.execute_input": "2023-11-24T14:22:52.377825Z",
     "iopub.status.busy": "2023-11-24T14:22:52.377303Z",
     "iopub.status.idle": "2023-11-24T14:22:52.729061Z",
     "shell.execute_reply": "2023-11-24T14:22:52.727911Z"
    },
    "papermill": {
     "duration": 0.375565,
     "end_time": "2023-11-24T14:22:52.732053",
     "exception": false,
     "start_time": "2023-11-24T14:22:52.356488",
     "status": "completed"
    },
    "tags": []
   },
   "outputs": [
    {
     "data": {
      "text/plain": [
       "<13024x22347 sparse matrix of type '<class 'numpy.float64'>'\n",
       "\twith 9768701 stored elements in Compressed Sparse Row format>"
      ]
     },
     "execution_count": 23,
     "metadata": {},
     "output_type": "execute_result"
    }
   ],
   "source": [
    "URM_train_item_knn = URM_train.dot(recommender.W_sparse)\n",
    "URM_train_item_knn"
   ]
  },
  {
   "cell_type": "code",
   "execution_count": 24,
   "id": "711a2255",
   "metadata": {
    "execution": {
     "iopub.execute_input": "2023-11-24T14:22:52.766126Z",
     "iopub.status.busy": "2023-11-24T14:22:52.765716Z",
     "iopub.status.idle": "2023-11-24T14:22:52.772977Z",
     "shell.execute_reply": "2023-11-24T14:22:52.771950Z"
    },
    "papermill": {
     "duration": 0.026518,
     "end_time": "2023-11-24T14:22:52.775091",
     "exception": false,
     "start_time": "2023-11-24T14:22:52.748573",
     "status": "completed"
    },
    "tags": []
   },
   "outputs": [
    {
     "data": {
      "text/plain": [
       "{'alpha': 0.513297287731911, 'beta': 0.14806602610935488, 'topK': 54}"
      ]
     },
     "execution_count": 24,
     "metadata": {},
     "output_type": "execute_result"
    }
   ],
   "source": [
    "with open('/kaggle/working/Recsys_Challenge_2023/tuning_results/best_params_RP3.json', 'r') as params_file:\n",
    "    params_rp3 = json.load(params_file)\n",
    "params_rp3"
   ]
  },
  {
   "cell_type": "code",
   "execution_count": 25,
   "id": "5139dbf9",
   "metadata": {
    "execution": {
     "iopub.execute_input": "2023-11-24T14:22:52.808634Z",
     "iopub.status.busy": "2023-11-24T14:22:52.807860Z",
     "iopub.status.idle": "2023-11-24T14:24:50.939213Z",
     "shell.execute_reply": "2023-11-24T14:24:50.937975Z"
    },
    "papermill": {
     "duration": 118.151401,
     "end_time": "2023-11-24T14:24:50.942421",
     "exception": false,
     "start_time": "2023-11-24T14:22:52.791020",
     "status": "completed"
    },
    "tags": []
   },
   "outputs": [
    {
     "name": "stdout",
     "output_type": "stream",
     "text": [
      "RP3betaRecommender: URM Detected 629 ( 4.8%) users with no interactions.\n",
      "RP3betaRecommender: URM Detected 248 ( 1.1%) items with no interactions.\n",
      "RP3betaRecommender: Similarity column 22347 (100.0%), 192.53 column/sec. Elapsed time 1.93 min\n"
     ]
    }
   ],
   "source": [
    "recommender_rp3 = RP3betaRecommender(URM_train_item_knn)\n",
    "recommender_rp3.fit(**params_rp3)"
   ]
  },
  {
   "cell_type": "code",
   "execution_count": 26,
   "id": "a1e1bc52",
   "metadata": {
    "execution": {
     "iopub.execute_input": "2023-11-24T14:24:50.978935Z",
     "iopub.status.busy": "2023-11-24T14:24:50.978507Z",
     "iopub.status.idle": "2023-11-24T14:25:00.862572Z",
     "shell.execute_reply": "2023-11-24T14:25:00.861512Z"
    },
    "papermill": {
     "duration": 9.904508,
     "end_time": "2023-11-24T14:25:00.864969",
     "exception": false,
     "start_time": "2023-11-24T14:24:50.960461",
     "status": "completed"
    },
    "tags": []
   },
   "outputs": [
    {
     "name": "stdout",
     "output_type": "stream",
     "text": [
      "EvaluatorHoldout: Ignoring 2568 (19.7%) Users that have less than 1 test interactions\n",
      "EvaluatorHoldout: Processed 10456 (100.0%) in 9.84 sec. Users per second: 1062\n"
     ]
    },
    {
     "data": {
      "text/html": [
       "<div>\n",
       "<style scoped>\n",
       "    .dataframe tbody tr th:only-of-type {\n",
       "        vertical-align: middle;\n",
       "    }\n",
       "\n",
       "    .dataframe tbody tr th {\n",
       "        vertical-align: top;\n",
       "    }\n",
       "\n",
       "    .dataframe thead th {\n",
       "        text-align: right;\n",
       "    }\n",
       "</style>\n",
       "<table border=\"1\" class=\"dataframe\">\n",
       "  <thead>\n",
       "    <tr style=\"text-align: right;\">\n",
       "      <th></th>\n",
       "      <th>PRECISION</th>\n",
       "      <th>PRECISION_RECALL_MIN_DEN</th>\n",
       "      <th>RECALL</th>\n",
       "      <th>MAP</th>\n",
       "      <th>MAP_MIN_DEN</th>\n",
       "      <th>MRR</th>\n",
       "      <th>NDCG</th>\n",
       "      <th>F1</th>\n",
       "      <th>HIT_RATE</th>\n",
       "      <th>ARHR_ALL_HITS</th>\n",
       "      <th>...</th>\n",
       "      <th>COVERAGE_USER</th>\n",
       "      <th>COVERAGE_USER_HIT</th>\n",
       "      <th>USERS_IN_GT</th>\n",
       "      <th>DIVERSITY_GINI</th>\n",
       "      <th>SHANNON_ENTROPY</th>\n",
       "      <th>RATIO_DIVERSITY_HERFINDAHL</th>\n",
       "      <th>RATIO_DIVERSITY_GINI</th>\n",
       "      <th>RATIO_SHANNON_ENTROPY</th>\n",
       "      <th>RATIO_AVERAGE_POPULARITY</th>\n",
       "      <th>RATIO_NOVELTY</th>\n",
       "    </tr>\n",
       "    <tr>\n",
       "      <th>cutoff</th>\n",
       "      <th></th>\n",
       "      <th></th>\n",
       "      <th></th>\n",
       "      <th></th>\n",
       "      <th></th>\n",
       "      <th></th>\n",
       "      <th></th>\n",
       "      <th></th>\n",
       "      <th></th>\n",
       "      <th></th>\n",
       "      <th></th>\n",
       "      <th></th>\n",
       "      <th></th>\n",
       "      <th></th>\n",
       "      <th></th>\n",
       "      <th></th>\n",
       "      <th></th>\n",
       "      <th></th>\n",
       "      <th></th>\n",
       "      <th></th>\n",
       "      <th></th>\n",
       "    </tr>\n",
       "  </thead>\n",
       "  <tbody>\n",
       "    <tr>\n",
       "      <th>10</th>\n",
       "      <td>0.040149</td>\n",
       "      <td>0.080732</td>\n",
       "      <td>0.071836</td>\n",
       "      <td>0.014701</td>\n",
       "      <td>0.029663</td>\n",
       "      <td>0.112219</td>\n",
       "      <td>0.062321</td>\n",
       "      <td>0.05151</td>\n",
       "      <td>0.309296</td>\n",
       "      <td>0.128398</td>\n",
       "      <td>...</td>\n",
       "      <td>0.802826</td>\n",
       "      <td>0.248311</td>\n",
       "      <td>0.802826</td>\n",
       "      <td>0.015741</td>\n",
       "      <td>8.70746</td>\n",
       "      <td>0.994924</td>\n",
       "      <td>0.035004</td>\n",
       "      <td>0.642622</td>\n",
       "      <td>2.024639</td>\n",
       "      <td>0.011825</td>\n",
       "    </tr>\n",
       "  </tbody>\n",
       "</table>\n",
       "<p>1 rows × 27 columns</p>\n",
       "</div>"
      ],
      "text/plain": [
       "       PRECISION PRECISION_RECALL_MIN_DEN    RECALL       MAP MAP_MIN_DEN  \\\n",
       "cutoff                                                                      \n",
       "10      0.040149                 0.080732  0.071836  0.014701    0.029663   \n",
       "\n",
       "             MRR      NDCG       F1  HIT_RATE ARHR_ALL_HITS  ...  \\\n",
       "cutoff                                                       ...   \n",
       "10      0.112219  0.062321  0.05151  0.309296      0.128398  ...   \n",
       "\n",
       "       COVERAGE_USER COVERAGE_USER_HIT USERS_IN_GT DIVERSITY_GINI  \\\n",
       "cutoff                                                              \n",
       "10          0.802826          0.248311    0.802826       0.015741   \n",
       "\n",
       "       SHANNON_ENTROPY RATIO_DIVERSITY_HERFINDAHL RATIO_DIVERSITY_GINI  \\\n",
       "cutoff                                                                   \n",
       "10             8.70746                   0.994924             0.035004   \n",
       "\n",
       "       RATIO_SHANNON_ENTROPY RATIO_AVERAGE_POPULARITY RATIO_NOVELTY  \n",
       "cutoff                                                               \n",
       "10                  0.642622                 2.024639      0.011825  \n",
       "\n",
       "[1 rows x 27 columns]"
      ]
     },
     "execution_count": 26,
     "metadata": {},
     "output_type": "execute_result"
    }
   ],
   "source": [
    "evaluator = EvaluatorHoldout(URM_test_complete, cutoff_list=[10], exclude_seen=False)\n",
    "result_df, _ = evaluator.evaluateRecommender(recommender_rp3)\n",
    "result_df"
   ]
  },
  {
   "cell_type": "code",
   "execution_count": 27,
   "id": "47922c79",
   "metadata": {
    "execution": {
     "iopub.execute_input": "2023-11-24T14:25:00.898903Z",
     "iopub.status.busy": "2023-11-24T14:25:00.898495Z",
     "iopub.status.idle": "2023-11-24T14:25:00.909375Z",
     "shell.execute_reply": "2023-11-24T14:25:00.908273Z"
    },
    "papermill": {
     "duration": 0.030756,
     "end_time": "2023-11-24T14:25:00.911994",
     "exception": false,
     "start_time": "2023-11-24T14:25:00.881238",
     "status": "completed"
    },
    "tags": []
   },
   "outputs": [],
   "source": [
    "class PipelineRecommender:\n",
    "    def __init__(self, coarse_recommender_class, fine_recommender_class, coarse_fit_params, fine_fit_params, URM_train):\n",
    "        self.URM_train = URM_train\n",
    "        self.coarse_recommender_class = coarse_recommender_class\n",
    "        self.fine_recommender_class = fine_recommender_class\n",
    "        self.coarse_fit_params = coarse_fit_params\n",
    "        self.fine_fit_params = fine_fit_params\n",
    "    \n",
    "    def fit(self):\n",
    "        self.coarse_recommender = self.coarse_recommender_class(self.URM_train)\n",
    "        self.coarse_recommender.fit(**self.coarse_fit_params)\n",
    "        URM_coarse = self.URM_train.dot(self.coarse_recommender.W_sparse)\n",
    "        self.fine_recommender = self.fine_recommender_class(URM_coarse)\n",
    "        self.fine_recommender.fit(**self.fine_fit_params)\n",
    "        \n",
    "    def recommend(self, user_ids, cutoff=10, remove_seen_flag=True, remove_top_pop_flag=False, \n",
    "                  return_scores=True, remove_custom_items_flag=True):\n",
    "        items = set(np.arange(self.URM_train.shape[1]).tolist())\n",
    "        final_recommendations = []\n",
    "        final_scores = []\n",
    "        for user_id in user_ids:\n",
    "            # custom remove seen flag, since the fine recommender is trained with much more non zero entries\n",
    "            # but the true seen items are in the original urm\n",
    "            items_to_compute = list(items - set(self.URM_train[user_id].nonzero()[1].tolist()))\n",
    "            recommendations, scores = self.fine_recommender.recommend(\n",
    "                [user_id],\n",
    "                cutoff=cutoff,\n",
    "                items_to_compute=items_to_compute, \n",
    "                remove_seen_flag=False, # if true it will remove most of the items since fine train matrix is less sparse\n",
    "                remove_top_pop_flag=remove_top_pop_flag, \n",
    "                return_scores=True, \n",
    "                remove_custom_items_flag=remove_custom_items_flag\n",
    "            )\n",
    "            final_recommendations.append(recommendations[0])\n",
    "            final_scores.append(scores[0])\n",
    "        if return_scores:\n",
    "            return np.array(final_recommendations), np.array(final_scores)\n",
    "        return np.array(final_recommendations)\n",
    "        \n",
    "    def get_URM_train(self):\n",
    "        return self.URM_train"
   ]
  },
  {
   "cell_type": "code",
   "execution_count": 28,
   "id": "2222f9f3",
   "metadata": {
    "execution": {
     "iopub.execute_input": "2023-11-24T14:25:00.946028Z",
     "iopub.status.busy": "2023-11-24T14:25:00.945222Z",
     "iopub.status.idle": "2023-11-24T14:27:04.488512Z",
     "shell.execute_reply": "2023-11-24T14:27:04.487524Z"
    },
    "papermill": {
     "duration": 123.563303,
     "end_time": "2023-11-24T14:27:04.491103",
     "exception": false,
     "start_time": "2023-11-24T14:25:00.927800",
     "status": "completed"
    },
    "tags": []
   },
   "outputs": [
    {
     "name": "stdout",
     "output_type": "stream",
     "text": [
      "ItemKNNCFRecommender: URM Detected 627 ( 4.8%) users with no interactions.\n",
      "ItemKNNCFRecommender: URM Detected 247 ( 1.1%) items with no interactions.\n",
      "Similarity column 22347 (100.0%), 5027.78 column/sec. Elapsed time 4.44 sec\n",
      "RP3betaRecommender: URM Detected 629 ( 4.8%) users with no interactions.\n",
      "RP3betaRecommender: URM Detected 248 ( 1.1%) items with no interactions.\n",
      "RP3betaRecommender: Similarity column 22347 (100.0%), 191.69 column/sec. Elapsed time 1.94 min\n"
     ]
    }
   ],
   "source": [
    "recommender = PipelineRecommender(ItemKNNCFRecommender, RP3betaRecommender, params_knn, params_rp3, URM_train)\n",
    "recommender.fit()"
   ]
  },
  {
   "cell_type": "code",
   "execution_count": 29,
   "id": "53f607a9",
   "metadata": {
    "execution": {
     "iopub.execute_input": "2023-11-24T14:27:04.527090Z",
     "iopub.status.busy": "2023-11-24T14:27:04.525835Z",
     "iopub.status.idle": "2023-11-24T14:27:58.902502Z",
     "shell.execute_reply": "2023-11-24T14:27:58.901249Z"
    },
    "papermill": {
     "duration": 54.397237,
     "end_time": "2023-11-24T14:27:58.904970",
     "exception": false,
     "start_time": "2023-11-24T14:27:04.507733",
     "status": "completed"
    },
    "tags": []
   },
   "outputs": [
    {
     "name": "stdout",
     "output_type": "stream",
     "text": [
      "EvaluatorHoldout: Ignoring 2568 (19.7%) Users that have less than 1 test interactions\n",
      "EvaluatorHoldout: Processed 10456 (100.0%) in 54.33 sec. Users per second: 192\n"
     ]
    },
    {
     "data": {
      "text/html": [
       "<div>\n",
       "<style scoped>\n",
       "    .dataframe tbody tr th:only-of-type {\n",
       "        vertical-align: middle;\n",
       "    }\n",
       "\n",
       "    .dataframe tbody tr th {\n",
       "        vertical-align: top;\n",
       "    }\n",
       "\n",
       "    .dataframe thead th {\n",
       "        text-align: right;\n",
       "    }\n",
       "</style>\n",
       "<table border=\"1\" class=\"dataframe\">\n",
       "  <thead>\n",
       "    <tr style=\"text-align: right;\">\n",
       "      <th></th>\n",
       "      <th>PRECISION</th>\n",
       "      <th>PRECISION_RECALL_MIN_DEN</th>\n",
       "      <th>RECALL</th>\n",
       "      <th>MAP</th>\n",
       "      <th>MAP_MIN_DEN</th>\n",
       "      <th>MRR</th>\n",
       "      <th>NDCG</th>\n",
       "      <th>F1</th>\n",
       "      <th>HIT_RATE</th>\n",
       "      <th>ARHR_ALL_HITS</th>\n",
       "      <th>...</th>\n",
       "      <th>COVERAGE_USER</th>\n",
       "      <th>COVERAGE_USER_HIT</th>\n",
       "      <th>USERS_IN_GT</th>\n",
       "      <th>DIVERSITY_GINI</th>\n",
       "      <th>SHANNON_ENTROPY</th>\n",
       "      <th>RATIO_DIVERSITY_HERFINDAHL</th>\n",
       "      <th>RATIO_DIVERSITY_GINI</th>\n",
       "      <th>RATIO_SHANNON_ENTROPY</th>\n",
       "      <th>RATIO_AVERAGE_POPULARITY</th>\n",
       "      <th>RATIO_NOVELTY</th>\n",
       "    </tr>\n",
       "    <tr>\n",
       "      <th>cutoff</th>\n",
       "      <th></th>\n",
       "      <th></th>\n",
       "      <th></th>\n",
       "      <th></th>\n",
       "      <th></th>\n",
       "      <th></th>\n",
       "      <th></th>\n",
       "      <th></th>\n",
       "      <th></th>\n",
       "      <th></th>\n",
       "      <th></th>\n",
       "      <th></th>\n",
       "      <th></th>\n",
       "      <th></th>\n",
       "      <th></th>\n",
       "      <th></th>\n",
       "      <th></th>\n",
       "      <th></th>\n",
       "      <th></th>\n",
       "      <th></th>\n",
       "      <th></th>\n",
       "    </tr>\n",
       "  </thead>\n",
       "  <tbody>\n",
       "    <tr>\n",
       "      <th>10</th>\n",
       "      <td>0.057785</td>\n",
       "      <td>0.105179</td>\n",
       "      <td>0.08944</td>\n",
       "      <td>0.025882</td>\n",
       "      <td>0.045513</td>\n",
       "      <td>0.164249</td>\n",
       "      <td>0.089164</td>\n",
       "      <td>0.070209</td>\n",
       "      <td>0.374904</td>\n",
       "      <td>0.204495</td>\n",
       "      <td>...</td>\n",
       "      <td>0.802826</td>\n",
       "      <td>0.300983</td>\n",
       "      <td>0.802826</td>\n",
       "      <td>0.018422</td>\n",
       "      <td>8.910796</td>\n",
       "      <td>0.995616</td>\n",
       "      <td>0.053154</td>\n",
       "      <td>0.686453</td>\n",
       "      <td>2.002961</td>\n",
       "      <td>0.289269</td>\n",
       "    </tr>\n",
       "  </tbody>\n",
       "</table>\n",
       "<p>1 rows × 27 columns</p>\n",
       "</div>"
      ],
      "text/plain": [
       "       PRECISION PRECISION_RECALL_MIN_DEN   RECALL       MAP MAP_MIN_DEN  \\\n",
       "cutoff                                                                     \n",
       "10      0.057785                 0.105179  0.08944  0.025882    0.045513   \n",
       "\n",
       "             MRR      NDCG        F1  HIT_RATE ARHR_ALL_HITS  ...  \\\n",
       "cutoff                                                        ...   \n",
       "10      0.164249  0.089164  0.070209  0.374904      0.204495  ...   \n",
       "\n",
       "       COVERAGE_USER COVERAGE_USER_HIT USERS_IN_GT DIVERSITY_GINI  \\\n",
       "cutoff                                                              \n",
       "10          0.802826          0.300983    0.802826       0.018422   \n",
       "\n",
       "       SHANNON_ENTROPY RATIO_DIVERSITY_HERFINDAHL RATIO_DIVERSITY_GINI  \\\n",
       "cutoff                                                                   \n",
       "10            8.910796                   0.995616             0.053154   \n",
       "\n",
       "       RATIO_SHANNON_ENTROPY RATIO_AVERAGE_POPULARITY RATIO_NOVELTY  \n",
       "cutoff                                                               \n",
       "10                  0.686453                 2.002961      0.289269  \n",
       "\n",
       "[1 rows x 27 columns]"
      ]
     },
     "execution_count": 29,
     "metadata": {},
     "output_type": "execute_result"
    }
   ],
   "source": [
    "evaluator = EvaluatorHoldout(URM_test_complete, cutoff_list=[10])\n",
    "result_df, _ = evaluator.evaluateRecommender(recommender)\n",
    "result_df"
   ]
  },
  {
   "cell_type": "code",
   "execution_count": 30,
   "id": "8031fe01",
   "metadata": {
    "_kg_hide-output": true,
    "execution": {
     "iopub.execute_input": "2023-11-24T14:27:58.940100Z",
     "iopub.status.busy": "2023-11-24T14:27:58.939432Z",
     "iopub.status.idle": "2023-11-24T14:28:24.515170Z",
     "shell.execute_reply": "2023-11-24T14:28:24.513977Z"
    },
    "papermill": {
     "duration": 25.596325,
     "end_time": "2023-11-24T14:28:24.517719",
     "exception": false,
     "start_time": "2023-11-24T14:27:58.921394",
     "status": "completed"
    },
    "scrolled": true,
    "tags": []
   },
   "outputs": [
    {
     "name": "stdout",
     "output_type": "stream",
     "text": [
      "ItemKNNCFRecommender: URM Detected 631 ( 4.8%) users with no interactions.\n",
      "ItemKNNCFRecommender: URM Detected 248 ( 1.1%) items with no interactions.\n",
      "Similarity column 22347 (100.0%), 5027.23 column/sec. Elapsed time 4.45 sec\n",
      "ItemKNNCFRecommender: URM Detected 599 ( 4.6%) users with no interactions.\n",
      "ItemKNNCFRecommender: URM Detected 228 ( 1.0%) items with no interactions.\n",
      "Similarity column 22347 (100.0%), 5084.25 column/sec. Elapsed time 4.40 sec\n",
      "ItemKNNCFRecommender: URM Detected 944 ( 7.2%) users with no interactions.\n",
      "ItemKNNCFRecommender: URM Detected 545 ( 2.4%) items with no interactions.\n",
      "Similarity column 22347 (100.0%), 5501.97 column/sec. Elapsed time 4.06 sec\n",
      "ItemKNNCFRecommender: URM Detected 1462 (11.2%) users with no interactions.\n",
      "ItemKNNCFRecommender: URM Detected 1494 ( 6.7%) items with no interactions.\n",
      "Similarity column 22347 (100.0%), 5725.55 column/sec. Elapsed time 3.90 sec\n",
      "ItemKNNCFRecommender: URM Detected 599 ( 4.6%) users with no interactions.\n",
      "ItemKNNCFRecommender: URM Detected 233 ( 1.0%) items with no interactions.\n",
      "Similarity column 22347 (100.0%), 4903.23 column/sec. Elapsed time 4.56 sec\n"
     ]
    }
   ],
   "source": [
    "folds = []\n",
    "for URM_train, URM_valid in CrossValidationSplitter(5).split(URM_all):\n",
    "    recommender = ItemKNNCFRecommender(URM_train)\n",
    "    recommender.fit(**params_knn)\n",
    "    \n",
    "    folds.append((URM_train, URM_valid, recommender))"
   ]
  },
  {
   "cell_type": "code",
   "execution_count": 31,
   "id": "60f90758",
   "metadata": {
    "execution": {
     "iopub.execute_input": "2023-11-24T14:28:24.555564Z",
     "iopub.status.busy": "2023-11-24T14:28:24.554685Z",
     "iopub.status.idle": "2023-11-24T14:28:24.564827Z",
     "shell.execute_reply": "2023-11-24T14:28:24.563637Z"
    },
    "papermill": {
     "duration": 0.03234,
     "end_time": "2023-11-24T14:28:24.567706",
     "exception": false,
     "start_time": "2023-11-24T14:28:24.535366",
     "status": "completed"
    },
    "tags": []
   },
   "outputs": [],
   "source": [
    "class PrefittedPipelineRecommender:\n",
    "    def __init__(self, fine_recommender, coarse_recommender, URM_train):\n",
    "        self.URM_train = URM_train\n",
    "        self.coarse_recommender = coarse_recommender\n",
    "        self.fine_recommender = fine_recommender\n",
    "    \n",
    "    def fit(self):\n",
    "        pass\n",
    "        \n",
    "    def recommend(self, user_ids, cutoff=10, remove_seen_flag=True, remove_top_pop_flag=False, \n",
    "                  return_scores=True, remove_custom_items_flag=True):\n",
    "        items = set(np.arange(self.URM_train.shape[1]).tolist())\n",
    "        final_recommendations = []\n",
    "        final_scores = []\n",
    "        for user_id in user_ids:\n",
    "            # custom remove seen flag, since the fine recommender is trained with much more non zero entries\n",
    "            # but the true seen items are in the original urm\n",
    "            items_to_compute = list(items - set(self.URM_train[user_id].nonzero()[1].tolist()))\n",
    "            recommendations, scores = self.fine_recommender.recommend(\n",
    "                [user_id],\n",
    "                cutoff=cutoff,\n",
    "                items_to_compute=items_to_compute, \n",
    "                remove_seen_flag=False, # if true it will remove most of the items since fine train matrix is less sparse\n",
    "                remove_top_pop_flag=remove_top_pop_flag, \n",
    "                return_scores=True, \n",
    "                remove_custom_items_flag=remove_custom_items_flag\n",
    "            )\n",
    "            final_recommendations.append(recommendations[0])\n",
    "            final_scores.append(scores[0])\n",
    "        if return_scores:\n",
    "            return np.array(final_recommendations), np.array(final_scores)\n",
    "        return np.array(final_recommendations)\n",
    "        \n",
    "    def get_URM_train(self):\n",
    "        return self.URM_train"
   ]
  },
  {
   "cell_type": "code",
   "execution_count": 32,
   "id": "1dff276f",
   "metadata": {
    "execution": {
     "iopub.execute_input": "2023-11-24T14:28:24.604551Z",
     "iopub.status.busy": "2023-11-24T14:28:24.604129Z",
     "iopub.status.idle": "2023-11-24T14:28:24.614027Z",
     "shell.execute_reply": "2023-11-24T14:28:24.613060Z"
    },
    "papermill": {
     "duration": 0.03114,
     "end_time": "2023-11-24T14:28:24.616349",
     "exception": false,
     "start_time": "2023-11-24T14:28:24.585209",
     "status": "completed"
    },
    "tags": []
   },
   "outputs": [],
   "source": [
    "from concurrent.futures import ThreadPoolExecutor\n",
    "\n",
    "def evaluate_pipeline_recommender(URM_train, URM_valid, item_knn_recommender, params):\n",
    "    recommender = RP3betaRecommender(URM_train.dot(item_knn_recommender.W_sparse))\n",
    "    recommender.fit(**params)\n",
    "    hybrid_recommender = PrefittedPipelineRecommender(recommender, item_knn_recommender, URM_train)\n",
    "\n",
    "    evaluator = EvaluatorHoldout(URM_valid, cutoff_list=[10])\n",
    "    result_df, _ = evaluator.evaluateRecommender(hybrid_recommender)\n",
    "    print(f'MAP is {result_df.loc[10, \"MAP\"]}')\n",
    "    \n",
    "    return result_df.loc[10, 'MAP']\n",
    "\n",
    "\n",
    "def objective_item_knn(trial):\n",
    "    params = {\n",
    "        'alpha': trial.suggest_float('alpha', 0.01, 10, log=True),\n",
    "        'beta': trial.suggest_float('beta', 0.01, 10, log=True),\n",
    "        'topK': trial.suggest_int('topK', 10, 5000, log=True)\n",
    "    }\n",
    "    \n",
    "    results = [None] * 5\n",
    "    with ThreadPoolExecutor(max_workers=5) as executor:\n",
    "        futures = []\n",
    "        for URM_train, URM_valid, item_knn_recommender in folds:\n",
    "            futures.append(executor.submit(evaluate_pipeline_recommender, URM_train, URM_valid, item_knn_recommender, params))\n",
    "        for j, future in enumerate(futures):\n",
    "            results[j] = future.result()\n",
    "            \n",
    "    gc.collect()\n",
    "        \n",
    "    return np.mean(results)"
   ]
  },
  {
   "cell_type": "code",
   "execution_count": 33,
   "id": "a348ecce",
   "metadata": {
    "execution": {
     "iopub.execute_input": "2023-11-24T14:28:24.652537Z",
     "iopub.status.busy": "2023-11-24T14:28:24.652173Z",
     "iopub.status.idle": "2023-11-24T18:40:15.473481Z",
     "shell.execute_reply": "2023-11-24T18:40:15.472365Z"
    },
    "papermill": {
     "duration": 15110.843209,
     "end_time": "2023-11-24T18:40:15.476936",
     "exception": false,
     "start_time": "2023-11-24T14:28:24.633727",
     "status": "completed"
    },
    "tags": []
   },
   "outputs": [
    {
     "name": "stderr",
     "output_type": "stream",
     "text": [
      "[I 2023-11-24 14:28:25,235] A new study created in RDB with name: hyperparameters_tuning_stag2_rp3\n"
     ]
    },
    {
     "name": "stdout",
     "output_type": "stream",
     "text": [
      "RP3betaRecommender: URM Detected 1482 (11.4%) users with no interactions.\n",
      "RP3betaRecommender: URM Detected 951 ( 7.3%) users with no interactions.\n",
      "RP3betaRecommender: URM Detected 1512 ( 6.8%) items with no interactions.\n",
      "RP3betaRecommender: URM Detected 551 ( 2.5%) items with no interactions.\n",
      "RP3betaRecommender: URM Detected 634 ( 4.9%) users with no interactions.\n",
      "RP3betaRecommender: URM Detected 602 ( 4.6%) users with no interactions.\n",
      "RP3betaRecommender: URM Detected 250 ( 1.1%) items with no interactions.\n",
      "RP3betaRecommender: URM Detected 601 ( 4.6%) users with no interactions.\n",
      "RP3betaRecommender: URM Detected 231 ( 1.0%) items with no interactions.\n",
      "RP3betaRecommender: URM Detected 235 ( 1.1%) items with no interactions.\n",
      "RP3betaRecommender: Similarity column 22347 (100.0%), 95.64 column/sec. Elapsed time 3.89 min\n",
      "RP3betaRecommender: Similarity column 22347 (100.0%), 83.23 column/sec. Elapsed time 4.47 min\n",
      "EvaluatorHoldout: Ignoring 2539 (19.5%) Users that have less than 1 test interactions\n",
      "RP3betaRecommender: Similarity column 22347 (100.0%), 74.30 column/sec. Elapsed time 5.01 min\n",
      "RP3betaRecommender: Similarity column 22000 (98.4%), 72.97 column/sec. Elapsed time 5.02 min\n",
      "RP3betaRecommender: Similarity column 22200 (99.3%), 73.41 column/sec. Elapsed time 5.04 min\n",
      "RP3betaRecommender: Similarity column 22347 (100.0%), 73.16 column/sec. Elapsed time 5.09 min\n",
      "EvaluatorHoldout: Ignoring 2568 (19.7%) Users that have less than 1 test interactions\n",
      "RP3betaRecommender: Similarity column 22347 (100.0%), 72.80 column/sec. Elapsed time 5.12 min\n",
      "EvaluatorHoldout: Ignoring 2552 (19.6%) Users that have less than 1 test interactions\n",
      "EvaluatorHoldout: Ignoring 2555 (19.6%) Users that have less than 1 test interactions\n",
      "EvaluatorHoldout: Ignoring 2534 (19.5%) Users that have less than 1 test interactions\n",
      "EvaluatorHoldout: Processed 8000 (76.3%) in 5.37 min. Users per second: 25\n",
      "EvaluatorHoldout: Processed 8000 (76.5%) in 5.18 min. Users per second: 26\n",
      "EvaluatorHoldout: Processed 8000 (76.4%) in 5.14 min. Users per second: 26\n",
      "EvaluatorHoldout: Processed 8000 (76.3%) in 5.02 min. Users per second: 27\n",
      "EvaluatorHoldout: Processed 8000 (76.4%) in 5.06 min. Users per second: 26\n",
      "EvaluatorHoldout: Processed 10485 (100.0%) in 6.97 min. Users per second: 25\n",
      "MAP is 0.01688650453028134\n",
      "EvaluatorHoldout: Processed 10456 (100.0%) in 6.71 min. Users per second: 26\n",
      "MAP is 0.020908565447347004\n",
      "EvaluatorHoldout: Processed 10472 (100.0%) in 6.43 min. Users per second: 27\n",
      "MAP is 0.026302809002388922\n",
      "EvaluatorHoldout: Processed 10469 (100.0%) in 6.28 min. Users per second: 28\n",
      "MAP is 0.026004894268338786\n",
      "EvaluatorHoldout: Processed 10490 (100.0%) in 6.25 min. Users per second: 28\n"
     ]
    },
    {
     "name": "stderr",
     "output_type": "stream",
     "text": [
      "[I 2023-11-24 14:40:36,282] Trial 0 finished with value: 0.023229795498854868 and parameters: {'alpha': 2.534006571935572, 'beta': 0.2850493891688343, 'topK': 919}. Best is trial 0 with value: 0.023229795498854868.\n"
     ]
    },
    {
     "name": "stdout",
     "output_type": "stream",
     "text": [
      "MAP is 0.026046204245918286\n",
      "RP3betaRecommender: URM Detected 1482 (11.4%) users with no interactions.\n",
      "RP3betaRecommender: URM Detected 951 ( 7.3%) users with no interactions.\n",
      "RP3betaRecommender: URM Detected 1512 ( 6.8%) items with no interactions.\n",
      "RP3betaRecommender: URM Detected 551 ( 2.5%) items with no interactions.\n",
      "RP3betaRecommender: URM Detected 634 ( 4.9%) users with no interactions.\n",
      "RP3betaRecommender: URM Detected 601 ( 4.6%) users with no interactions.\n",
      "RP3betaRecommender: URM Detected 602 ( 4.6%) users with no interactions.\n",
      "RP3betaRecommender: URM Detected 250 ( 1.1%) items with no interactions.\n",
      "RP3betaRecommender: URM Detected 235 ( 1.1%) items with no interactions.\n",
      "RP3betaRecommender: URM Detected 231 ( 1.0%) items with no interactions.\n",
      "RP3betaRecommender: Similarity column 22347 (100.0%), 192.39 column/sec. Elapsed time 1.94 min\n",
      "EvaluatorHoldout: Ignoring 2539 (19.5%) Users that have less than 1 test interactions\n",
      "RP3betaRecommender: Similarity column 22347 (100.0%), 140.66 column/sec. Elapsed time 2.65 min\n",
      "EvaluatorHoldout: Ignoring 2568 (19.7%) Users that have less than 1 test interactions\n",
      "RP3betaRecommender: Similarity column 22347 (100.0%), 110.84 column/sec. Elapsed time 3.36 min\n",
      "RP3betaRecommender: Similarity column 22347 (100.0%), 110.22 column/sec. Elapsed time 3.38 min\n",
      "EvaluatorHoldout: Ignoring 2552 (19.6%) Users that have less than 1 test interactions\n",
      "EvaluatorHoldout: Ignoring 2555 (19.6%) Users that have less than 1 test interactions\n",
      "RP3betaRecommender: Similarity column 22347 (100.0%), 107.33 column/sec. Elapsed time 3.47 min\n",
      "EvaluatorHoldout: Ignoring 2534 (19.5%) Users that have less than 1 test interactions\n",
      "EvaluatorHoldout: Processed 10485 (100.0%) in 3.91 min. Users per second: 45\n",
      "MAP is 0.0005079365079365074\n",
      "EvaluatorHoldout: Processed 10456 (100.0%) in 5.10 min. Users per second: 34\n",
      "MAP is 0.0014598476154042321\n",
      "EvaluatorHoldout: Processed 10469 (100.0%) in 4.96 min. Users per second: 35\n",
      "MAP is 0.0023252247375850415\n",
      "EvaluatorHoldout: Processed 10472 (100.0%) in 4.99 min. Users per second: 35\n",
      "MAP is 0.001904496647143708\n",
      "EvaluatorHoldout: Processed 10490 (100.0%) in 4.90 min. Users per second: 36\n"
     ]
    },
    {
     "name": "stderr",
     "output_type": "stream",
     "text": [
      "[I 2023-11-24 14:49:04,037] Trial 1 finished with value: 0.0015699140421317006 and parameters: {'alpha': 1.60726651686522, 'beta': 2.550402096047494, 'topK': 71}. Best is trial 0 with value: 0.023229795498854868.\n"
     ]
    },
    {
     "name": "stdout",
     "output_type": "stream",
     "text": [
      "MAP is 0.0016520647025890134\n",
      "RP3betaRecommender: URM Detected 1482 (11.4%) users with no interactions.\n",
      "RP3betaRecommender: URM Detected 1512 ( 6.8%) items with no interactions.\n",
      "RP3betaRecommender: URM Detected 951 ( 7.3%) users with no interactions.\n",
      "RP3betaRecommender: URM Detected 551 ( 2.5%) items with no interactions.\n",
      "RP3betaRecommender: URM Detected 602 ( 4.6%) users with no interactions.\n",
      "RP3betaRecommender: URM Detected 634 ( 4.9%) users with no interactions.\n",
      "RP3betaRecommender: URM Detected 601 ( 4.6%) users with no interactions.\n",
      "RP3betaRecommender: URM Detected 231 ( 1.0%) items with no interactions.\n",
      "RP3betaRecommender: URM Detected 250 ( 1.1%) items with no interactions.\n",
      "RP3betaRecommender: URM Detected 235 ( 1.1%) items with no interactions.\n",
      "RP3betaRecommender: Similarity column 22347 (100.0%), 165.12 column/sec. Elapsed time 2.26 min\n",
      "EvaluatorHoldout: Ignoring 2539 (19.5%) Users that have less than 1 test interactions\n",
      "RP3betaRecommender: Similarity column 22347 (100.0%), 127.13 column/sec. Elapsed time 2.93 min\n",
      "EvaluatorHoldout: Ignoring 2568 (19.7%) Users that have less than 1 test interactions\n",
      "RP3betaRecommender: Similarity column 22347 (100.0%), 101.96 column/sec. Elapsed time 3.65 min\n",
      "EvaluatorHoldout: Ignoring 2534 (19.5%) Users that have less than 1 test interactions\n",
      "RP3betaRecommender: Similarity column 22347 (100.0%), 99.55 column/sec. Elapsed time 3.74 min\n",
      "RP3betaRecommender: Similarity column 22347 (100.0%), 98.55 column/sec. Elapsed time 3.78 min\n",
      "EvaluatorHoldout: Ignoring 2552 (19.6%) Users that have less than 1 test interactions\n",
      "EvaluatorHoldout: Ignoring 2555 (19.6%) Users that have less than 1 test interactions\n",
      "EvaluatorHoldout: Processed 10485 (100.0%) in 4.82 min. Users per second: 36\n",
      "MAP is 0.017235854697943417\n",
      "EvaluatorHoldout: Processed 10000 (95.6%) in 5.05 min. Users per second: 33\n",
      "EvaluatorHoldout: Processed 10456 (100.0%) in 5.29 min. Users per second: 33\n",
      "MAP is 0.01788816476603393\n",
      "EvaluatorHoldout: Processed 10000 (95.3%) in 5.10 min. Users per second: 33\n",
      "EvaluatorHoldout: Processed 10000 (95.5%) in 5.03 min. Users per second: 33\n",
      "EvaluatorHoldout: Processed 10000 (95.5%) in 5.09 min. Users per second: 33\n",
      "EvaluatorHoldout: Processed 10490 (100.0%) in 5.28 min. Users per second: 33\n",
      "MAP is 0.020388450073388145\n",
      "EvaluatorHoldout: Processed 10469 (100.0%) in 5.17 min. Users per second: 34\n",
      "MAP is 0.020791785877276436\n",
      "EvaluatorHoldout: Processed 10472 (100.0%) in 5.23 min. Users per second: 33\n",
      "MAP is 0.020043536353935573\n"
     ]
    },
    {
     "name": "stderr",
     "output_type": "stream",
     "text": [
      "[I 2023-11-24 14:58:10,622] Trial 2 finished with value: 0.0192695583537155 and parameters: {'alpha': 0.20650762929003805, 'beta': 0.10309044322484287, 'topK': 283}. Best is trial 0 with value: 0.023229795498854868.\n"
     ]
    },
    {
     "name": "stdout",
     "output_type": "stream",
     "text": [
      "RP3betaRecommender: URM Detected 951 ( 7.3%) users with no interactions.\n",
      "RP3betaRecommender: URM Detected 1482 (11.4%) users with no interactions.\n",
      "RP3betaRecommender: URM Detected 1512 ( 6.8%) items with no interactions.\n",
      "RP3betaRecommender: URM Detected 602 ( 4.6%) users with no interactions.\n",
      "RP3betaRecommender: URM Detected 601 ( 4.6%) users with no interactions.\n",
      "RP3betaRecommender: URM Detected 634 ( 4.9%) users with no interactions.\n",
      "RP3betaRecommender: URM Detected 551 ( 2.5%) items with no interactions.\n",
      "RP3betaRecommender: URM Detected 231 ( 1.0%) items with no interactions.\n",
      "RP3betaRecommender: URM Detected 250 ( 1.1%) items with no interactions.\n",
      "RP3betaRecommender: URM Detected 235 ( 1.1%) items with no interactions.\n",
      "RP3betaRecommender: Similarity column 11600 (51.9%), 38.64 column/sec. Elapsed time 5.00 min\n",
      "RP3betaRecommender: Similarity column 11200 (50.1%), 37.18 column/sec. Elapsed time 5.02 min\n",
      "RP3betaRecommender: Similarity column 14000 (62.6%), 46.17 column/sec. Elapsed time 5.05 min\n",
      "RP3betaRecommender: Similarity column 11800 (52.8%), 39.04 column/sec. Elapsed time 5.04 min\n",
      "RP3betaRecommender: Similarity column 12800 (57.3%), 42.17 column/sec. Elapsed time 5.06 min\n",
      "RP3betaRecommender: Similarity column 22347 (100.0%), 47.74 column/sec. Elapsed time 7.80 min\n",
      "RP3betaRecommender: Similarity column 22347 (100.0%), 44.81 column/sec. Elapsed time 8.31 min\n",
      "RP3betaRecommender: Similarity column 22347 (100.0%), 42.16 column/sec. Elapsed time 8.83 min\n",
      "RP3betaRecommender: Similarity column 22347 (100.0%), 41.97 column/sec. Elapsed time 8.87 min\n",
      "RP3betaRecommender: Similarity column 22347 (100.0%), 40.21 column/sec. Elapsed time 9.26 min\n",
      "EvaluatorHoldout: Ignoring 2539 (19.5%) Users that have less than 1 test interactions\n",
      "EvaluatorHoldout: Ignoring 2568 (19.7%) Users that have less than 1 test interactions\n",
      "EvaluatorHoldout: Ignoring 2534 (19.5%) Users that have less than 1 test interactions\n",
      "EvaluatorHoldout: Ignoring 2555 (19.6%) Users that have less than 1 test interactions\n",
      "EvaluatorHoldout: Ignoring 2552 (19.6%) Users that have less than 1 test interactions\n",
      "EvaluatorHoldout: Processed 6000 (57.2%) in 5.08 min. Users per second: 20\n",
      "EvaluatorHoldout: Processed 7000 (66.9%) in 5.33 min. Users per second: 22\n",
      "EvaluatorHoldout: Processed 7000 (66.7%) in 5.11 min. Users per second: 23\n",
      "EvaluatorHoldout: Processed 7000 (66.9%) in 5.10 min. Users per second: 23\n",
      "EvaluatorHoldout: Processed 8000 (76.4%) in 5.58 min. Users per second: 24\n",
      "EvaluatorHoldout: Processed 10485 (100.0%) in 8.03 min. Users per second: 22\n",
      "MAP is 0.015124789003186681\n",
      "EvaluatorHoldout: Processed 10456 (100.0%) in 7.56 min. Users per second: 23\n",
      "MAP is 0.015851094837322912\n",
      "EvaluatorHoldout: Processed 10490 (100.0%) in 7.14 min. Users per second: 24\n",
      "MAP is 0.018214478641790457\n",
      "EvaluatorHoldout: Processed 10469 (100.0%) in 7.12 min. Users per second: 24\n",
      "MAP is 0.018643273337609043\n",
      "EvaluatorHoldout: Processed 10472 (100.0%) in 6.80 min. Users per second: 26\n"
     ]
    },
    {
     "name": "stderr",
     "output_type": "stream",
     "text": [
      "[I 2023-11-24 15:17:11,455] Trial 3 finished with value: 0.01734331734550899 and parameters: {'alpha': 0.14286176052650307, 'beta': 0.4029015178917358, 'topK': 2705}. Best is trial 0 with value: 0.023229795498854868.\n"
     ]
    },
    {
     "name": "stdout",
     "output_type": "stream",
     "text": [
      "MAP is 0.01888295090763585\n",
      "RP3betaRecommender: URM Detected 1482 (11.4%) users with no interactions.\n",
      "RP3betaRecommender: URM Detected 1512 ( 6.8%) items with no interactions.\n",
      "RP3betaRecommender: URM Detected 951 ( 7.3%) users with no interactions.\n",
      "RP3betaRecommender: URM Detected 551 ( 2.5%) items with no interactions.\n",
      "RP3betaRecommender: URM Detected 602 ( 4.6%) users with no interactions.\n",
      "RP3betaRecommender: URM Detected 634 ( 4.9%) users with no interactions.\n",
      "RP3betaRecommender: URM Detected 601 ( 4.6%) users with no interactions.\n",
      "RP3betaRecommender: URM Detected 250 ( 1.1%) items with no interactions.\n",
      "RP3betaRecommender: URM Detected 231 ( 1.0%) items with no interactions.\n",
      "RP3betaRecommender: URM Detected 235 ( 1.1%) items with no interactions.\n",
      "RP3betaRecommender: Similarity column 22347 (100.0%), 197.57 column/sec. Elapsed time 1.89 min\n",
      "EvaluatorHoldout: Ignoring 2539 (19.5%) Users that have less than 1 test interactions\n",
      "RP3betaRecommender: Similarity column 22347 (100.0%), 141.30 column/sec. Elapsed time 2.64 min\n",
      "EvaluatorHoldout: Ignoring 2568 (19.7%) Users that have less than 1 test interactions\n",
      "RP3betaRecommender: Similarity column 22347 (100.0%), 112.84 column/sec. Elapsed time 3.30 min\n",
      "EvaluatorHoldout: Ignoring 2552 (19.6%) Users that have less than 1 test interactions\n",
      "RP3betaRecommender: Similarity column 22347 (100.0%), 109.87 column/sec. Elapsed time 3.39 min\n",
      "EvaluatorHoldout: Ignoring 2555 (19.6%) Users that have less than 1 test interactions\n",
      "RP3betaRecommender: Similarity column 22347 (100.0%), 108.36 column/sec. Elapsed time 3.44 min\n",
      "EvaluatorHoldout: Ignoring 2534 (19.5%) Users that have less than 1 test interactions\n",
      "EvaluatorHoldout: Processed 10485 (100.0%) in 4.30 min. Users per second: 41\n",
      "MAP is 5.9839831656712925e-05\n",
      "EvaluatorHoldout: Processed 10000 (95.6%) in 5.08 min. Users per second: 33\n",
      "EvaluatorHoldout: Processed 10456 (100.0%) in 5.32 min. Users per second: 33\n",
      "MAP is 0.0006733090137355628\n",
      "EvaluatorHoldout: Processed 10000 (95.5%) in 5.27 min. Users per second: 32\n",
      "EvaluatorHoldout: Processed 10000 (95.5%) in 5.25 min. Users per second: 32\n",
      "EvaluatorHoldout: Processed 10000 (95.3%) in 5.21 min. Users per second: 32\n",
      "EvaluatorHoldout: Processed 10472 (100.0%) in 5.41 min. Users per second: 32\n",
      "MAP is 0.0007008902045666748\n",
      "EvaluatorHoldout: Processed 10469 (100.0%) in 5.37 min. Users per second: 32\n",
      "MAP is 0.0008034757189404241\n",
      "EvaluatorHoldout: Processed 10490 (100.0%) in 5.32 min. Users per second: 33\n",
      "MAP is 0.0005284360010289465\n"
     ]
    },
    {
     "name": "stderr",
     "output_type": "stream",
     "text": [
      "[I 2023-11-24 15:26:02,495] Trial 4 finished with value: 0.0005531901539856642 and parameters: {'alpha': 0.07499414407132154, 'beta': 4.236133394793039, 'topK': 74}. Best is trial 0 with value: 0.023229795498854868.\n"
     ]
    },
    {
     "name": "stdout",
     "output_type": "stream",
     "text": [
      "RP3betaRecommender: URM Detected 1482 (11.4%) users with no interactions.\n",
      "RP3betaRecommender: URM Detected 1512 ( 6.8%) items with no interactions.\n",
      "RP3betaRecommender: URM Detected 951 ( 7.3%) users with no interactions.\n",
      "RP3betaRecommender: URM Detected 602 ( 4.6%) users with no interactions.\n",
      "RP3betaRecommender: URM Detected 551 ( 2.5%) items with no interactions.\n",
      "RP3betaRecommender: URM Detected 601 ( 4.6%) users with no interactions.\n",
      "RP3betaRecommender: URM Detected 634 ( 4.9%) users with no interactions.\n",
      "RP3betaRecommender: URM Detected 231 ( 1.0%) items with no interactions.\n",
      "RP3betaRecommender: URM Detected 250 ( 1.1%) items with no interactions.\n",
      "RP3betaRecommender: URM Detected 235 ( 1.1%) items with no interactions.\n",
      "RP3betaRecommender: Similarity column 22347 (100.0%), 202.81 column/sec. Elapsed time 1.84 min\n",
      "EvaluatorHoldout: Ignoring 2539 (19.5%) Users that have less than 1 test interactions\n",
      "RP3betaRecommender: Similarity column 22347 (100.0%), 142.08 column/sec. Elapsed time 2.62 min\n",
      "EvaluatorHoldout: Ignoring 2568 (19.7%) Users that have less than 1 test interactions\n",
      "RP3betaRecommender: Similarity column 22347 (100.0%), 112.06 column/sec. Elapsed time 3.32 min\n",
      "EvaluatorHoldout: Ignoring 2552 (19.6%) Users that have less than 1 test interactions\n",
      "RP3betaRecommender: Similarity column 22347 (100.0%), 110.68 column/sec. Elapsed time 3.37 min\n",
      "EvaluatorHoldout: Ignoring 2555 (19.6%) Users that have less than 1 test interactions\n",
      "RP3betaRecommender: Similarity column 22347 (100.0%), 109.96 column/sec. Elapsed time 3.39 min\n",
      "EvaluatorHoldout: Ignoring 2534 (19.5%) Users that have less than 1 test interactions\n",
      "EvaluatorHoldout: Processed 10485 (100.0%) in 3.57 min. Users per second: 49\n",
      "MAP is 0.0006163037143008526\n",
      "EvaluatorHoldout: Processed 10456 (100.0%) in 4.99 min. Users per second: 35\n",
      "MAP is 0.0009729433089226504\n",
      "EvaluatorHoldout: Processed 10469 (100.0%) in 4.97 min. Users per second: 35\n",
      "MAP is 0.001516370326906194\n",
      "EvaluatorHoldout: Processed 10472 (100.0%) in 5.01 min. Users per second: 35\n",
      "MAP is 0.0016354988965283088\n",
      "EvaluatorHoldout: Processed 10490 (100.0%) in 4.95 min. Users per second: 35\n",
      "MAP is 0.0017588141389380662\n"
     ]
    },
    {
     "name": "stderr",
     "output_type": "stream",
     "text": [
      "[I 2023-11-24 15:34:27,708] Trial 5 finished with value: 0.0012999860771192144 and parameters: {'alpha': 0.03213822089872851, 'beta': 2.308344711348702, 'topK': 21}. Best is trial 0 with value: 0.023229795498854868.\n"
     ]
    },
    {
     "name": "stdout",
     "output_type": "stream",
     "text": [
      "RP3betaRecommender: URM Detected 1482 (11.4%) users with no interactions.\n",
      "RP3betaRecommender: URM Detected 951 ( 7.3%) users with no interactions.\n",
      "RP3betaRecommender: URM Detected 1512 ( 6.8%) items with no interactions.\n",
      "RP3betaRecommender: URM Detected 634 ( 4.9%) users with no interactions.\n",
      "RP3betaRecommender: URM Detected 601 ( 4.6%) users with no interactions.\n",
      "RP3betaRecommender: URM Detected 551 ( 2.5%) items with no interactions.\n",
      "RP3betaRecommender: URM Detected 602 ( 4.6%) users with no interactions.\n",
      "RP3betaRecommender: URM Detected 250 ( 1.1%) items with no interactions.\n",
      "RP3betaRecommender: URM Detected 235 ( 1.1%) items with no interactions.\n",
      "RP3betaRecommender: URM Detected 231 ( 1.0%) items with no interactions.\n",
      "RP3betaRecommender: Similarity column 22347 (100.0%), 202.98 column/sec. Elapsed time 1.83 min\n",
      "EvaluatorHoldout: Ignoring 2539 (19.5%) Users that have less than 1 test interactions\n",
      "RP3betaRecommender: Similarity column 22347 (100.0%), 153.14 column/sec. Elapsed time 2.43 min\n",
      "EvaluatorHoldout: Ignoring 2568 (19.7%) Users that have less than 1 test interactions\n",
      "RP3betaRecommender: Similarity column 22347 (100.0%), 113.86 column/sec. Elapsed time 3.27 min\n",
      "EvaluatorHoldout: Ignoring 2555 (19.6%) Users that have less than 1 test interactions\n",
      "RP3betaRecommender: Similarity column 22347 (100.0%), 112.69 column/sec. Elapsed time 3.31 min\n",
      "EvaluatorHoldout: Ignoring 2552 (19.6%) Users that have less than 1 test interactions\n",
      "RP3betaRecommender: Similarity column 22347 (100.0%), 111.34 column/sec. Elapsed time 3.35 min\n",
      "EvaluatorHoldout: Ignoring 2534 (19.5%) Users that have less than 1 test interactions\n",
      "EvaluatorHoldout: Processed 10485 (100.0%) in 4.17 min. Users per second: 42\n",
      "MAP is 0.010971713180582968\n",
      "EvaluatorHoldout: Processed 10456 (100.0%) in 5.19 min. Users per second: 34\n",
      "MAP is 0.018305427278026764\n",
      "EvaluatorHoldout: Processed 10000 (95.5%) in 5.07 min. Users per second: 33\n",
      "EvaluatorHoldout: Processed 10000 (95.5%) in 5.05 min. Users per second: 33\n",
      "EvaluatorHoldout: Processed 10000 (95.3%) in 5.02 min. Users per second: 33\n",
      "EvaluatorHoldout: Processed 10469 (100.0%) in 5.24 min. Users per second: 33\n",
      "MAP is 0.022799076487346644\n",
      "EvaluatorHoldout: Processed 10472 (100.0%) in 5.21 min. Users per second: 34\n",
      "MAP is 0.023048552754435122\n",
      "EvaluatorHoldout: Processed 10490 (100.0%) in 5.18 min. Users per second: 34\n",
      "MAP is 0.022542266255088053\n"
     ]
    },
    {
     "name": "stderr",
     "output_type": "stream",
     "text": [
      "[I 2023-11-24 15:43:04,166] Trial 6 finished with value: 0.019533407191095913 and parameters: {'alpha': 0.4626526111478515, 'beta': 0.7666519605786984, 'topK': 20}. Best is trial 0 with value: 0.023229795498854868.\n"
     ]
    },
    {
     "name": "stdout",
     "output_type": "stream",
     "text": [
      "RP3betaRecommender: URM Detected 1482 (11.4%) users with no interactions.\n",
      "RP3betaRecommender: URM Detected 1512 ( 6.8%) items with no interactions.\n",
      "RP3betaRecommender: URM Detected 951 ( 7.3%) users with no interactions.\n",
      "RP3betaRecommender: URM Detected 634 ( 4.9%) users with no interactions.\n",
      "RP3betaRecommender: URM Detected 602 ( 4.6%) users with no interactions.\n",
      "RP3betaRecommender: URM Detected 551 ( 2.5%) items with no interactions.\n",
      "RP3betaRecommender: URM Detected 601 ( 4.6%) users with no interactions.\n",
      "RP3betaRecommender: URM Detected 250 ( 1.1%) items with no interactions.\n",
      "RP3betaRecommender: URM Detected 231 ( 1.0%) items with no interactions.\n",
      "RP3betaRecommender: URM Detected 235 ( 1.1%) items with no interactions.\n",
      "RP3betaRecommender: Similarity column 22347 (100.0%), 186.47 column/sec. Elapsed time 2.00 min\n",
      "EvaluatorHoldout: Ignoring 2539 (19.5%) Users that have less than 1 test interactions\n",
      "RP3betaRecommender: Similarity column 22347 (100.0%), 132.81 column/sec. Elapsed time 2.80 min\n",
      "EvaluatorHoldout: Ignoring 2568 (19.7%) Users that have less than 1 test interactions\n",
      "RP3betaRecommender: Similarity column 22347 (100.0%), 106.47 column/sec. Elapsed time 3.50 min\n",
      "EvaluatorHoldout: Ignoring 2534 (19.5%) Users that have less than 1 test interactions\n",
      "RP3betaRecommender: Similarity column 22347 (100.0%), 102.52 column/sec. Elapsed time 3.63 min\n",
      "EvaluatorHoldout: Ignoring 2555 (19.6%) Users that have less than 1 test interactions\n",
      "RP3betaRecommender: Similarity column 22347 (100.0%), 100.11 column/sec. Elapsed time 3.72 min\n",
      "EvaluatorHoldout: Ignoring 2552 (19.6%) Users that have less than 1 test interactions\n",
      "EvaluatorHoldout: Processed 10485 (100.0%) in 4.25 min. Users per second: 41\n",
      "MAP is 0.01629393086116976\n",
      "EvaluatorHoldout: Processed 10456 (100.0%) in 4.91 min. Users per second: 35\n",
      "MAP is 0.017654646530889894\n",
      "EvaluatorHoldout: Processed 10490 (100.0%) in 4.89 min. Users per second: 36\n",
      "MAP is 0.020130978861198155\n",
      "EvaluatorHoldout: Processed 10469 (100.0%) in 4.86 min. Users per second: 36\n",
      "MAP is 0.021256889198192158\n",
      "EvaluatorHoldout: Processed 10472 (100.0%) in 4.78 min. Users per second: 36\n"
     ]
    },
    {
     "name": "stderr",
     "output_type": "stream",
     "text": [
      "[I 2023-11-24 15:51:39,926] Trial 7 finished with value: 0.019003510548570277 and parameters: {'alpha': 0.015920330181811968, 'beta': 0.04403441194539544, 'topK': 84}. Best is trial 0 with value: 0.023229795498854868.\n"
     ]
    },
    {
     "name": "stdout",
     "output_type": "stream",
     "text": [
      "MAP is 0.019681107291401413\n",
      "RP3betaRecommender: URM Detected 1482 (11.4%) users with no interactions.\n",
      "RP3betaRecommender: URM Detected 951 ( 7.3%) users with no interactions.\n",
      "RP3betaRecommender: URM Detected 1512 ( 6.8%) items with no interactions.\n",
      "RP3betaRecommender: URM Detected 602 ( 4.6%) users with no interactions.\n",
      "RP3betaRecommender: URM Detected 601 ( 4.6%) users with no interactions.\n",
      "RP3betaRecommender: URM Detected 634 ( 4.9%) users with no interactions.\n",
      "RP3betaRecommender: URM Detected 551 ( 2.5%) items with no interactions.\n",
      "RP3betaRecommender: URM Detected 231 ( 1.0%) items with no interactions.\n",
      "RP3betaRecommender: URM Detected 250 ( 1.1%) items with no interactions.\n",
      "RP3betaRecommender: URM Detected 235 ( 1.1%) items with no interactions.\n",
      "RP3betaRecommender: Similarity column 22347 (100.0%), 158.84 column/sec. Elapsed time 2.34 min\n",
      "EvaluatorHoldout: Ignoring 2539 (19.5%) Users that have less than 1 test interactions\n",
      "RP3betaRecommender: Similarity column 22347 (100.0%), 121.92 column/sec. Elapsed time 3.05 min\n",
      "EvaluatorHoldout: Ignoring 2568 (19.7%) Users that have less than 1 test interactions\n",
      "RP3betaRecommender: Similarity column 22347 (100.0%), 97.66 column/sec. Elapsed time 3.81 min\n",
      "EvaluatorHoldout: Ignoring 2534 (19.5%) Users that have less than 1 test interactions\n",
      "RP3betaRecommender: Similarity column 22347 (100.0%), 94.76 column/sec. Elapsed time 3.93 min\n",
      "RP3betaRecommender: Similarity column 22347 (100.0%), 93.71 column/sec. Elapsed time 3.97 min\n",
      "EvaluatorHoldout: Ignoring 2555 (19.6%) Users that have less than 1 test interactions\n",
      "EvaluatorHoldout: Ignoring 2552 (19.6%) Users that have less than 1 test interactions\n",
      "EvaluatorHoldout: Processed 10485 (100.0%) in 4.94 min. Users per second: 35\n",
      "MAP is 0.015510120277645324\n",
      "EvaluatorHoldout: Processed 10000 (95.6%) in 5.02 min. Users per second: 33\n",
      "EvaluatorHoldout: Processed 10456 (100.0%) in 5.22 min. Users per second: 33\n",
      "MAP is 0.015967880521247032\n",
      "EvaluatorHoldout: Processed 10490 (100.0%) in 5.10 min. Users per second: 34\n",
      "MAP is 0.01884833628398933\n",
      "EvaluatorHoldout: Processed 10472 (100.0%) in 4.95 min. Users per second: 35\n",
      "MAP is 0.018358415335831362\n",
      "EvaluatorHoldout: Processed 10469 (100.0%) in 5.01 min. Users per second: 35\n",
      "MAP is 0.01908070236086292\n"
     ]
    },
    {
     "name": "stderr",
     "output_type": "stream",
     "text": [
      "[I 2023-11-24 16:00:46,296] Trial 8 finished with value: 0.017553090955915195 and parameters: {'alpha': 0.06428318796844314, 'beta': 0.09286321993275304, 'topK': 320}. Best is trial 0 with value: 0.023229795498854868.\n"
     ]
    },
    {
     "name": "stdout",
     "output_type": "stream",
     "text": [
      "RP3betaRecommender: URM Detected 1482 (11.4%) users with no interactions.\n",
      "RP3betaRecommender: URM Detected 1512 ( 6.8%) items with no interactions.\n",
      "RP3betaRecommender: URM Detected 951 ( 7.3%) users with no interactions.\n",
      "RP3betaRecommender: URM Detected 602 ( 4.6%) users with no interactions.\n",
      "RP3betaRecommender: URM Detected 601 ( 4.6%) users with no interactions.\n",
      "RP3betaRecommender: URM Detected 634 ( 4.9%) users with no interactions.\n",
      "RP3betaRecommender: URM Detected 551 ( 2.5%) items with no interactions.\n",
      "RP3betaRecommender: URM Detected 231 ( 1.0%) items with no interactions.\n",
      "RP3betaRecommender: URM Detected 235 ( 1.1%) items with no interactions.\n",
      "RP3betaRecommender: URM Detected 250 ( 1.1%) items with no interactions.\n",
      "RP3betaRecommender: Similarity column 22347 (100.0%), 190.32 column/sec. Elapsed time 1.96 min\n",
      "EvaluatorHoldout: Ignoring 2539 (19.5%) Users that have less than 1 test interactions\n",
      "RP3betaRecommender: Similarity column 22347 (100.0%), 134.50 column/sec. Elapsed time 2.77 min\n",
      "EvaluatorHoldout: Ignoring 2568 (19.7%) Users that have less than 1 test interactions\n",
      "RP3betaRecommender: Similarity column 22347 (100.0%), 108.66 column/sec. Elapsed time 3.43 min\n",
      "EvaluatorHoldout: Ignoring 2534 (19.5%) Users that have less than 1 test interactions\n",
      "RP3betaRecommender: Similarity column 22347 (100.0%), 101.60 column/sec. Elapsed time 3.67 min\n",
      "EvaluatorHoldout: Ignoring 2555 (19.6%) Users that have less than 1 test interactions\n",
      "RP3betaRecommender: Similarity column 22347 (100.0%), 99.75 column/sec. Elapsed time 3.73 min\n",
      "EvaluatorHoldout: Ignoring 2552 (19.6%) Users that have less than 1 test interactions\n",
      "EvaluatorHoldout: Processed 10485 (100.0%) in 4.41 min. Users per second: 40\n",
      "MAP is 0.017348097433219006\n",
      "EvaluatorHoldout: Processed 10000 (95.6%) in 5.05 min. Users per second: 33\n",
      "EvaluatorHoldout: Processed 10456 (100.0%) in 5.26 min. Users per second: 33\n",
      "MAP is 0.019380134896345713\n",
      "EvaluatorHoldout: Processed 10490 (100.0%) in 5.14 min. Users per second: 34\n",
      "MAP is 0.022611031670373954\n",
      "EvaluatorHoldout: Processed 10469 (100.0%) in 5.01 min. Users per second: 35\n",
      "MAP is 0.02329145231499809\n",
      "EvaluatorHoldout: Processed 10472 (100.0%) in 4.95 min. Users per second: 35\n",
      "MAP is 0.022260639104126585\n"
     ]
    },
    {
     "name": "stderr",
     "output_type": "stream",
     "text": [
      "[I 2023-11-24 16:09:33,169] Trial 9 finished with value: 0.02097827108381267 and parameters: {'alpha': 0.10205711860232548, 'beta': 0.09087668088380901, 'topK': 76}. Best is trial 0 with value: 0.023229795498854868.\n"
     ]
    },
    {
     "name": "stdout",
     "output_type": "stream",
     "text": [
      "RP3betaRecommender: URM Detected 1482 (11.4%) users with no interactions.\n",
      "RP3betaRecommender: URM Detected 951 ( 7.3%) users with no interactions.\n",
      "RP3betaRecommender: URM Detected 1512 ( 6.8%) items with no interactions.\n",
      "RP3betaRecommender: URM Detected 551 ( 2.5%) items with no interactions.\n",
      "RP3betaRecommender: URM Detected 602 ( 4.6%) users with no interactions.\n",
      "RP3betaRecommender: URM Detected 601 ( 4.6%) users with no interactions.\n",
      "RP3betaRecommender: URM Detected 634 ( 4.9%) users with no interactions.\n",
      "RP3betaRecommender: URM Detected 231 ( 1.0%) items with no interactions.\n",
      "RP3betaRecommender: URM Detected 235 ( 1.1%) items with no interactions.\n",
      "RP3betaRecommender: URM Detected 250 ( 1.1%) items with no interactions.\n",
      "RP3betaRecommender: Similarity column 12400 (55.5%), 40.98 column/sec. Elapsed time 5.04 min\n",
      "RP3betaRecommender: Similarity column 2800 (12.5%), 9.14 column/sec. Elapsed time 5.11 min\n",
      "RP3betaRecommender: Similarity column 1200 ( 5.4%), 3.81 column/sec. Elapsed time 5.24 min\n",
      "RP3betaRecommender: Similarity column 1200 ( 5.4%), 3.80 column/sec. Elapsed time 5.27 min\n",
      "RP3betaRecommender: Similarity column 1200 ( 5.4%), 3.75 column/sec. Elapsed time 5.34 min\n",
      "RP3betaRecommender: Similarity column 22347 (100.0%), 44.77 column/sec. Elapsed time 8.32 min\n",
      "EvaluatorHoldout: Ignoring 2539 (19.5%) Users that have less than 1 test interactions\n",
      "RP3betaRecommender: Similarity column 16000 (71.6%), 26.26 column/sec. Elapsed time 10.15 min\n",
      "RP3betaRecommender: Similarity column 5800 (26.0%), 9.42 column/sec. Elapsed time 10.26 min\n",
      "RP3betaRecommender: Similarity column 5800 (26.0%), 9.40 column/sec. Elapsed time 10.29 min\n",
      "RP3betaRecommender: Similarity column 5800 (26.0%), 9.26 column/sec. Elapsed time 10.44 min\n",
      "RP3betaRecommender: Similarity column 22347 (100.0%), 29.70 column/sec. Elapsed time 12.54 min\n",
      "EvaluatorHoldout: Ignoring 2568 (19.7%) Users that have less than 1 test interactions\n",
      "EvaluatorHoldout: Processed 10485 (100.0%) in 4.87 min. Users per second: 36\n",
      "MAP is 0.009926486060963836\n",
      "RP3betaRecommender: Similarity column 16200 (72.5%), 17.66 column/sec. Elapsed time 15.29 min\n",
      "RP3betaRecommender: Similarity column 16200 (72.5%), 17.63 column/sec. Elapsed time 15.31 min\n",
      "RP3betaRecommender: Similarity column 16400 (73.4%), 17.63 column/sec. Elapsed time 15.50 min\n",
      "EvaluatorHoldout: Processed 10456 (100.0%) in 3.56 min. Users per second: 49\n",
      "MAP is 0.01173524580707053\n",
      "RP3betaRecommender: Similarity column 22347 (100.0%), 21.48 column/sec. Elapsed time 17.34 min\n",
      "RP3betaRecommender: Similarity column 22347 (100.0%), 21.46 column/sec. Elapsed time 17.35 min\n",
      "RP3betaRecommender: Similarity column 22347 (100.0%), 21.22 column/sec. Elapsed time 17.55 min\n",
      "EvaluatorHoldout: Ignoring 2534 (19.5%) Users that have less than 1 test interactions\n",
      "EvaluatorHoldout: Ignoring 2555 (19.6%) Users that have less than 1 test interactions\n",
      "EvaluatorHoldout: Ignoring 2552 (19.6%) Users that have less than 1 test interactions\n",
      "EvaluatorHoldout: Processed 10469 (100.0%) in 4.21 min. Users per second: 41\n",
      "MAP is 0.012273276203212169\n",
      "EvaluatorHoldout: Processed 10490 (100.0%) in 4.27 min. Users per second: 41\n",
      "MAP is 0.012032559353579312\n",
      "EvaluatorHoldout: Processed 10472 (100.0%) in 3.97 min. Users per second: 44\n",
      "MAP is 0.012751426328106951\n"
     ]
    },
    {
     "name": "stderr",
     "output_type": "stream",
     "text": [
      "[I 2023-11-24 16:32:05,526] Trial 10 finished with value: 0.011743798750586561 and parameters: {'alpha': 5.927147357422654, 'beta': 0.018542336545588737, 'topK': 1492}. Best is trial 0 with value: 0.023229795498854868.\n"
     ]
    },
    {
     "name": "stdout",
     "output_type": "stream",
     "text": [
      "RP3betaRecommender: URM Detected 1482 (11.4%) users with no interactions.\n",
      "RP3betaRecommender: URM Detected 951 ( 7.3%) users with no interactions.\n",
      "RP3betaRecommender: URM Detected 1512 ( 6.8%) items with no interactions.\n",
      "RP3betaRecommender: URM Detected 601 ( 4.6%) users with no interactions.\n",
      "RP3betaRecommender: URM Detected 602 ( 4.6%) users with no interactions.\n",
      "RP3betaRecommender: URM Detected 634 ( 4.9%) users with no interactions.\n",
      "RP3betaRecommender: URM Detected 551 ( 2.5%) items with no interactions.\n",
      "RP3betaRecommender: URM Detected 235 ( 1.1%) items with no interactions.\n",
      "RP3betaRecommender: URM Detected 250 ( 1.1%) items with no interactions.\n",
      "RP3betaRecommender: URM Detected 231 ( 1.0%) items with no interactions.\n",
      "RP3betaRecommender: Similarity column 22347 (100.0%), 105.24 column/sec. Elapsed time 3.54 min\n",
      "EvaluatorHoldout: Ignoring 2539 (19.5%) Users that have less than 1 test interactions\n",
      "RP3betaRecommender: Similarity column 22347 (100.0%), 88.94 column/sec. Elapsed time 4.19 min\n",
      "EvaluatorHoldout: Ignoring 2568 (19.7%) Users that have less than 1 test interactions\n",
      "RP3betaRecommender: Similarity column 22347 (100.0%), 76.19 column/sec. Elapsed time 4.89 min\n",
      "RP3betaRecommender: Similarity column 22347 (100.0%), 76.03 column/sec. Elapsed time 4.90 min\n",
      "RP3betaRecommender: Similarity column 22347 (100.0%), 75.70 column/sec. Elapsed time 4.92 min\n",
      "EvaluatorHoldout: Ignoring 2555 (19.6%) Users that have less than 1 test interactions\n",
      "EvaluatorHoldout: Ignoring 2552 (19.6%) Users that have less than 1 test interactions\n",
      "EvaluatorHoldout: Ignoring 2534 (19.5%) Users that have less than 1 test interactions\n",
      "EvaluatorHoldout: Processed 9000 (85.8%) in 5.48 min. Users per second: 27\n",
      "EvaluatorHoldout: Processed 9000 (86.1%) in 5.55 min. Users per second: 27\n",
      "EvaluatorHoldout: Processed 10485 (100.0%) in 6.38 min. Users per second: 27\n",
      "MAP is 0.017685060290210452\n",
      "EvaluatorHoldout: Processed 9000 (85.8%) in 5.31 min. Users per second: 28\n",
      "EvaluatorHoldout: Processed 9000 (86.0%) in 5.39 min. Users per second: 28\n",
      "EvaluatorHoldout: Processed 9000 (85.9%) in 5.35 min. Users per second: 28\n",
      "EvaluatorHoldout: Processed 10456 (100.0%) in 6.25 min. Users per second: 28\n",
      "MAP is 0.01839289888998188\n",
      "EvaluatorHoldout: Processed 10469 (100.0%) in 5.86 min. Users per second: 30\n",
      "MAP is 0.020667772728857867\n",
      "EvaluatorHoldout: Processed 10490 (100.0%) in 5.79 min. Users per second: 30\n",
      "MAP is 0.020392940366486607\n",
      "EvaluatorHoldout: Processed 10472 (100.0%) in 5.82 min. Users per second: 30\n",
      "MAP is 0.020204907720664092\n"
     ]
    },
    {
     "name": "stderr",
     "output_type": "stream",
     "text": [
      "[I 2023-11-24 16:43:23,924] Trial 11 finished with value: 0.01946871599924018 and parameters: {'alpha': 0.7819313527270387, 'beta': 0.2152886136489878, 'topK': 787}. Best is trial 0 with value: 0.023229795498854868.\n"
     ]
    },
    {
     "name": "stdout",
     "output_type": "stream",
     "text": [
      "RP3betaRecommender: URM Detected 1482 (11.4%) users with no interactions.\n",
      "RP3betaRecommender: URM Detected 951 ( 7.3%) users with no interactions.\n",
      "RP3betaRecommender: URM Detected 551 ( 2.5%) items with no interactions.\n",
      "RP3betaRecommender: URM Detected 602 ( 4.6%) users with no interactions.\n",
      "RP3betaRecommender: URM Detected 1512 ( 6.8%) items with no interactions.\n",
      "RP3betaRecommender: URM Detected 634 ( 4.9%) users with no interactions.\n",
      "RP3betaRecommender: URM Detected 601 ( 4.6%) users with no interactions.\n",
      "RP3betaRecommender: URM Detected 231 ( 1.0%) items with no interactions.\n",
      "RP3betaRecommender: URM Detected 250 ( 1.1%) items with no interactions.\n",
      "RP3betaRecommender: URM Detected 235 ( 1.1%) items with no interactions.\n",
      "RP3betaRecommender: Similarity column 22347 (100.0%), 74.53 column/sec. Elapsed time 5.00 min\n",
      "RP3betaRecommender: Similarity column 18600 (83.2%), 61.81 column/sec. Elapsed time 5.02 min\n",
      "RP3betaRecommender: Similarity column 16600 (74.3%), 55.21 column/sec. Elapsed time 5.01 min\n",
      "RP3betaRecommender: Similarity column 16400 (73.4%), 54.43 column/sec. Elapsed time 5.02 min\n",
      "RP3betaRecommender: Similarity column 16400 (73.4%), 54.23 column/sec. Elapsed time 5.04 min\n",
      "EvaluatorHoldout: Ignoring 2539 (19.5%) Users that have less than 1 test interactions\n",
      "RP3betaRecommender: Similarity column 22347 (100.0%), 62.83 column/sec. Elapsed time 5.93 min\n",
      "EvaluatorHoldout: Ignoring 2568 (19.7%) Users that have less than 1 test interactions\n",
      "RP3betaRecommender: Similarity column 22347 (100.0%), 57.08 column/sec. Elapsed time 6.53 min\n",
      "RP3betaRecommender: Similarity column 22347 (100.0%), 56.57 column/sec. Elapsed time 6.58 min\n",
      "RP3betaRecommender: Similarity column 22347 (100.0%), 56.28 column/sec. Elapsed time 6.62 min\n",
      "EvaluatorHoldout: Ignoring 2555 (19.6%) Users that have less than 1 test interactions\n",
      "EvaluatorHoldout: Ignoring 2552 (19.6%) Users that have less than 1 test interactions\n",
      "EvaluatorHoldout: Ignoring 2534 (19.5%) Users that have less than 1 test interactions\n",
      "EvaluatorHoldout: Processed 9000 (85.8%) in 5.26 min. Users per second: 29\n",
      "EvaluatorHoldout: Processed 8000 (76.5%) in 5.23 min. Users per second: 26\n",
      "EvaluatorHoldout: Processed 10485 (100.0%) in 6.25 min. Users per second: 28\n",
      "MAP is 0.007906979736736512\n",
      "EvaluatorHoldout: Processed 8000 (76.4%) in 5.22 min. Users per second: 26\n",
      "EvaluatorHoldout: Processed 8000 (76.4%) in 5.18 min. Users per second: 26\n",
      "EvaluatorHoldout: Processed 8000 (76.3%) in 5.13 min. Users per second: 26\n",
      "EvaluatorHoldout: Processed 10456 (100.0%) in 6.53 min. Users per second: 27\n",
      "MAP is 0.009634002957214475\n",
      "EvaluatorHoldout: Processed 10469 (100.0%) in 6.30 min. Users per second: 28\n",
      "MAP is 0.009820945285172977\n",
      "EvaluatorHoldout: Processed 10490 (100.0%) in 6.16 min. Users per second: 28\n",
      "MAP is 0.009252349176086028\n",
      "EvaluatorHoldout: Processed 10472 (100.0%) in 6.21 min. Users per second: 28\n",
      "MAP is 0.010290786769253098\n"
     ]
    },
    {
     "name": "stderr",
     "output_type": "stream",
     "text": [
      "[I 2023-11-24 16:56:50,150] Trial 12 finished with value: 0.009381012784892617 and parameters: {'alpha': 8.460169263354524, 'beta': 0.01186152017666455, 'topK': 639}. Best is trial 0 with value: 0.023229795498854868.\n"
     ]
    },
    {
     "name": "stdout",
     "output_type": "stream",
     "text": [
      "RP3betaRecommender: URM Detected 1482 (11.4%) users with no interactions.\n",
      "RP3betaRecommender: URM Detected 951 ( 7.3%) users with no interactions.\n",
      "RP3betaRecommender: URM Detected 1512 ( 6.8%) items with no interactions.\n",
      "RP3betaRecommender: URM Detected 602 ( 4.6%) users with no interactions.\n",
      "RP3betaRecommender: URM Detected 551 ( 2.5%) items with no interactions.\n",
      "RP3betaRecommender: URM Detected 601 ( 4.6%) users with no interactions.\n",
      "RP3betaRecommender: URM Detected 634 ( 4.9%) users with no interactions.\n",
      "RP3betaRecommender: URM Detected 231 ( 1.0%) items with no interactions.\n",
      "RP3betaRecommender: URM Detected 250 ( 1.1%) items with no interactions.\n",
      "RP3betaRecommender: URM Detected 235 ( 1.1%) items with no interactions.\n",
      "RP3betaRecommender: Similarity column 12000 (53.7%), 39.79 column/sec. Elapsed time 5.03 min\n",
      "RP3betaRecommender: Similarity column 10800 (48.3%), 35.86 column/sec. Elapsed time 5.02 min\n",
      "RP3betaRecommender: Similarity column 13400 (60.0%), 44.32 column/sec. Elapsed time 5.04 min\n",
      "RP3betaRecommender: Similarity column 10800 (48.3%), 35.73 column/sec. Elapsed time 5.04 min\n",
      "RP3betaRecommender: Similarity column 10800 (48.3%), 35.60 column/sec. Elapsed time 5.06 min\n",
      "RP3betaRecommender: Similarity column 22347 (100.0%), 44.89 column/sec. Elapsed time 8.30 min\n",
      "RP3betaRecommender: Similarity column 22347 (100.0%), 41.21 column/sec. Elapsed time 9.04 min\n",
      "RP3betaRecommender: Similarity column 22347 (100.0%), 38.15 column/sec. Elapsed time 9.76 min\n",
      "RP3betaRecommender: Similarity column 22347 (100.0%), 38.09 column/sec. Elapsed time 9.78 min\n",
      "RP3betaRecommender: Similarity column 22347 (100.0%), 37.74 column/sec. Elapsed time 9.87 min\n",
      "EvaluatorHoldout: Ignoring 2539 (19.5%) Users that have less than 1 test interactions\n",
      "EvaluatorHoldout: Ignoring 2568 (19.7%) Users that have less than 1 test interactions\n",
      "EvaluatorHoldout: Ignoring 2552 (19.6%) Users that have less than 1 test interactions\n",
      "EvaluatorHoldout: Ignoring 2555 (19.6%) Users that have less than 1 test interactions\n",
      "EvaluatorHoldout: Ignoring 2534 (19.5%) Users that have less than 1 test interactions\n",
      "EvaluatorHoldout: Processed 6000 (57.2%) in 5.54 min. Users per second: 18\n",
      "EvaluatorHoldout: Processed 7000 (66.9%) in 5.40 min. Users per second: 22\n",
      "EvaluatorHoldout: Processed 8000 (76.4%) in 5.54 min. Users per second: 24\n",
      "EvaluatorHoldout: Processed 8000 (76.4%) in 5.61 min. Users per second: 24\n",
      "EvaluatorHoldout: Processed 8000 (76.3%) in 5.56 min. Users per second: 24\n",
      "EvaluatorHoldout: Processed 10485 (100.0%) in 9.13 min. Users per second: 19\n",
      "MAP is 0.014048841504492425\n",
      "EvaluatorHoldout: Processed 10456 (100.0%) in 8.17 min. Users per second: 21\n",
      "MAP is 0.015292746019601374\n",
      "EvaluatorHoldout: Processed 10469 (100.0%) in 7.39 min. Users per second: 24\n",
      "MAP is 0.02033934276101625\n",
      "EvaluatorHoldout: Processed 10472 (100.0%) in 7.43 min. Users per second: 23\n",
      "MAP is 0.020544630731080243\n",
      "EvaluatorHoldout: Processed 10490 (100.0%) in 7.35 min. Users per second: 24\n",
      "MAP is 0.019529820539591698\n"
     ]
    },
    {
     "name": "stderr",
     "output_type": "stream",
     "text": [
      "[I 2023-11-24 17:17:52,530] Trial 13 finished with value: 0.017951076311156396 and parameters: {'alpha': 2.150493669603723, 'beta': 0.6658626780227561, 'topK': 2946}. Best is trial 0 with value: 0.023229795498854868.\n"
     ]
    },
    {
     "name": "stdout",
     "output_type": "stream",
     "text": [
      "RP3betaRecommender: URM Detected 1482 (11.4%) users with no interactions.\n",
      "RP3betaRecommender: URM Detected 951 ( 7.3%) users with no interactions.\n",
      "RP3betaRecommender: URM Detected 1512 ( 6.8%) items with no interactions.\n",
      "RP3betaRecommender: URM Detected 634 ( 4.9%) users with no interactions.\n",
      "RP3betaRecommender: URM Detected 601 ( 4.6%) users with no interactions.\n",
      "RP3betaRecommender: URM Detected 602 ( 4.6%) users with no interactions.\n",
      "RP3betaRecommender: URM Detected 250 ( 1.1%) items with no interactions.\n",
      "RP3betaRecommender: URM Detected 551 ( 2.5%) items with no interactions.\n",
      "RP3betaRecommender: URM Detected 235 ( 1.1%) items with no interactions.\n",
      "RP3betaRecommender: URM Detected 231 ( 1.0%) items with no interactions.\n",
      "RP3betaRecommender: Similarity column 7800 (34.9%), 25.86 column/sec. Elapsed time 5.03 min\n",
      "RP3betaRecommender: Similarity column 7400 (33.1%), 24.41 column/sec. Elapsed time 5.05 min\n",
      "RP3betaRecommender: Similarity column 7600 (34.0%), 24.96 column/sec. Elapsed time 5.08 min\n",
      "RP3betaRecommender: Similarity column 8400 (37.6%), 27.42 column/sec. Elapsed time 5.10 min\n",
      "RP3betaRecommender: Similarity column 7200 (32.2%), 23.54 column/sec. Elapsed time 5.10 min\n",
      "RP3betaRecommender: Similarity column 16800 (75.2%), 27.78 column/sec. Elapsed time 10.08 min\n",
      "RP3betaRecommender: Similarity column 17400 (77.9%), 28.68 column/sec. Elapsed time 10.11 min\n",
      "RP3betaRecommender: Similarity column 16200 (72.5%), 26.74 column/sec. Elapsed time 10.10 min\n",
      "RP3betaRecommender: Similarity column 15600 (69.8%), 25.64 column/sec. Elapsed time 10.14 min\n",
      "RP3betaRecommender: Similarity column 16600 (74.3%), 27.20 column/sec. Elapsed time 10.17 min\n",
      "RP3betaRecommender: Similarity column 22347 (100.0%), 29.29 column/sec. Elapsed time 12.72 min\n",
      "RP3betaRecommender: Similarity column 22347 (100.0%), 28.36 column/sec. Elapsed time 13.13 min\n",
      "RP3betaRecommender: Similarity column 22347 (100.0%), 27.99 column/sec. Elapsed time 13.31 min\n",
      "RP3betaRecommender: Similarity column 22347 (100.0%), 27.57 column/sec. Elapsed time 13.51 min\n",
      "RP3betaRecommender: Similarity column 22347 (100.0%), 26.52 column/sec. Elapsed time 14.04 min\n",
      "EvaluatorHoldout: Ignoring 2539 (19.5%) Users that have less than 1 test interactions\n",
      "EvaluatorHoldout: Ignoring 2568 (19.7%) Users that have less than 1 test interactions\n",
      "EvaluatorHoldout: Ignoring 2555 (19.6%) Users that have less than 1 test interactions\n",
      "EvaluatorHoldout: Ignoring 2552 (19.6%) Users that have less than 1 test interactions\n",
      "EvaluatorHoldout: Ignoring 2534 (19.5%) Users that have less than 1 test interactions\n",
      "EvaluatorHoldout: Processed 7000 (66.9%) in 5.05 min. Users per second: 23\n",
      "EvaluatorHoldout: Processed 7000 (66.9%) in 5.25 min. Users per second: 22\n",
      "EvaluatorHoldout: Processed 7000 (66.8%) in 5.16 min. Users per second: 23\n",
      "EvaluatorHoldout: Processed 8000 (76.3%) in 5.58 min. Users per second: 24\n",
      "EvaluatorHoldout: Processed 7000 (66.7%) in 5.06 min. Users per second: 23\n",
      "EvaluatorHoldout: Processed 10485 (100.0%) in 7.27 min. Users per second: 24\n",
      "MAP is 2.4119868898123547e-05\n",
      "EvaluatorHoldout: Processed 10456 (100.0%) in 7.32 min. Users per second: 24\n",
      "MAP is 3.60505398282751e-05\n",
      "EvaluatorHoldout: Processed 10472 (100.0%) in 7.33 min. Users per second: 24\n",
      "MAP is 0.00015314080177525555\n",
      "EvaluatorHoldout: Processed 10469 (100.0%) in 7.47 min. Users per second: 23\n",
      "MAP is 0.000211747608585893\n",
      "EvaluatorHoldout: Processed 10490 (100.0%) in 7.03 min. Users per second: 25\n",
      "MAP is 0.00010981357907001377\n"
     ]
    },
    {
     "name": "stderr",
     "output_type": "stream",
     "text": [
      "[I 2023-11-24 17:41:44,152] Trial 14 finished with value: 0.0001069744796315122 and parameters: {'alpha': 0.3568683515928344, 'beta': 9.583148750489965, 'topK': 4524}. Best is trial 0 with value: 0.023229795498854868.\n"
     ]
    },
    {
     "name": "stdout",
     "output_type": "stream",
     "text": [
      "RP3betaRecommender: URM Detected 1482 (11.4%) users with no interactions.\n",
      "RP3betaRecommender: URM Detected 1512 ( 6.8%) items with no interactions.\n",
      "RP3betaRecommender: URM Detected 951 ( 7.3%) users with no interactions.\n",
      "RP3betaRecommender: URM Detected 634 ( 4.9%) users with no interactions.\n",
      "RP3betaRecommender: URM Detected 601 ( 4.6%) users with no interactions.\n",
      "RP3betaRecommender: URM Detected 602 ( 4.6%) users with no interactions.\n",
      "RP3betaRecommender: URM Detected 551 ( 2.5%) items with no interactions.\n",
      "RP3betaRecommender: URM Detected 250 ( 1.1%) items with no interactions.\n",
      "RP3betaRecommender: URM Detected 235 ( 1.1%) items with no interactions.\n",
      "RP3betaRecommender: URM Detected 231 ( 1.0%) items with no interactions.\n",
      "RP3betaRecommender: Similarity column 22347 (100.0%), 174.78 column/sec. Elapsed time 2.13 min\n",
      "EvaluatorHoldout: Ignoring 2539 (19.5%) Users that have less than 1 test interactions\n",
      "RP3betaRecommender: Similarity column 22347 (100.0%), 124.95 column/sec. Elapsed time 2.98 min\n",
      "EvaluatorHoldout: Ignoring 2568 (19.7%) Users that have less than 1 test interactions\n",
      "RP3betaRecommender: Similarity column 22347 (100.0%), 101.04 column/sec. Elapsed time 3.69 min\n",
      "RP3betaRecommender: Similarity column 22347 (100.0%), 100.94 column/sec. Elapsed time 3.69 min\n",
      "RP3betaRecommender: Similarity column 22347 (100.0%), 100.59 column/sec. Elapsed time 3.70 min\n",
      "EvaluatorHoldout: Ignoring 2534 (19.5%) Users that have less than 1 test interactions\n",
      "EvaluatorHoldout: Ignoring 2552 (19.6%) Users that have less than 1 test interactions\n",
      "EvaluatorHoldout: Ignoring 2555 (19.6%) Users that have less than 1 test interactions\n",
      "EvaluatorHoldout: Processed 10485 (100.0%) in 4.61 min. Users per second: 38\n",
      "MAP is 0.020990621522810404\n",
      "EvaluatorHoldout: Processed 10456 (100.0%) in 4.91 min. Users per second: 36\n",
      "MAP is 0.02114180283819729\n",
      "EvaluatorHoldout: Processed 10469 (100.0%) in 4.82 min. Users per second: 36\n",
      "MAP is 0.023055149974149\n",
      "EvaluatorHoldout: Processed 10472 (100.0%) in 4.83 min. Users per second: 36\n",
      "MAP is 0.022134770574896677\n",
      "EvaluatorHoldout: Processed 10490 (100.0%) in 4.88 min. Users per second: 36\n",
      "MAP is 0.022838099777565866\n"
     ]
    },
    {
     "name": "stderr",
     "output_type": "stream",
     "text": [
      "[I 2023-11-24 17:50:26,257] Trial 15 finished with value: 0.02203208893752385 and parameters: {'alpha': 0.8300840282125741, 'beta': 0.18766334330858936, 'topK': 183}. Best is trial 0 with value: 0.023229795498854868.\n"
     ]
    },
    {
     "name": "stdout",
     "output_type": "stream",
     "text": [
      "RP3betaRecommender: URM Detected 1482 (11.4%) users with no interactions.\n",
      "RP3betaRecommender: URM Detected 951 ( 7.3%) users with no interactions.\n",
      "RP3betaRecommender: URM Detected 1512 ( 6.8%) items with no interactions.\n",
      "RP3betaRecommender: URM Detected 551 ( 2.5%) items with no interactions.\n",
      "RP3betaRecommender: URM Detected 601 ( 4.6%) users with no interactions.RP3betaRecommender: URM Detected 602 ( 4.6%) users with no interactions.\n",
      "\n",
      "RP3betaRecommender: URM Detected 634 ( 4.9%) users with no interactions.\n",
      "RP3betaRecommender: URM Detected 231 ( 1.0%) items with no interactions.\n",
      "RP3betaRecommender: URM Detected 250 ( 1.1%) items with no interactions.\n",
      "RP3betaRecommender: URM Detected 235 ( 1.1%) items with no interactions.\n",
      "RP3betaRecommender: Similarity column 22347 (100.0%), 112.16 column/sec. Elapsed time 3.32 min\n",
      "EvaluatorHoldout: Ignoring 2539 (19.5%) Users that have less than 1 test interactions\n",
      "RP3betaRecommender: Similarity column 22347 (100.0%), 94.54 column/sec. Elapsed time 3.94 min\n",
      "EvaluatorHoldout: Ignoring 2568 (19.7%) Users that have less than 1 test interactions\n",
      "RP3betaRecommender: Similarity column 22347 (100.0%), 81.01 column/sec. Elapsed time 4.60 min\n",
      "RP3betaRecommender: Similarity column 22347 (100.0%), 80.80 column/sec. Elapsed time 4.61 min\n",
      "RP3betaRecommender: Similarity column 22347 (100.0%), 80.42 column/sec. Elapsed time 4.63 min\n",
      "EvaluatorHoldout: Ignoring 2552 (19.6%) Users that have less than 1 test interactions\n",
      "EvaluatorHoldout: Ignoring 2534 (19.5%) Users that have less than 1 test interactions\n",
      "EvaluatorHoldout: Ignoring 2555 (19.6%) Users that have less than 1 test interactions\n",
      "EvaluatorHoldout: Processed 9000 (85.8%) in 5.42 min. Users per second: 28\n",
      "EvaluatorHoldout: Processed 9000 (86.1%) in 5.44 min. Users per second: 28\n",
      "EvaluatorHoldout: Processed 10485 (100.0%) in 6.31 min. Users per second: 28\n",
      "MAP is 0.01687502176200318\n",
      "EvaluatorHoldout: Processed 9000 (85.9%) in 5.28 min. Users per second: 28\n",
      "EvaluatorHoldout: Processed 9000 (85.8%) in 5.27 min. Users per second: 28\n",
      "EvaluatorHoldout: Processed 9000 (86.0%) in 5.26 min. Users per second: 29\n",
      "EvaluatorHoldout: Processed 10456 (100.0%) in 6.23 min. Users per second: 28\n",
      "MAP is 0.022259616260429268\n",
      "EvaluatorHoldout: Processed 10472 (100.0%) in 5.86 min. Users per second: 30\n",
      "MAP is 0.02683911064425785\n",
      "EvaluatorHoldout: Processed 10490 (100.0%) in 5.85 min. Users per second: 30\n",
      "MAP is 0.02695209345257019\n",
      "EvaluatorHoldout: Processed 10469 (100.0%) in 5.81 min. Users per second: 30\n",
      "MAP is 0.02661936905178866\n"
     ]
    },
    {
     "name": "stderr",
     "output_type": "stream",
     "text": [
      "[I 2023-11-24 18:01:32,410] Trial 16 finished with value: 0.02390904223420983 and parameters: {'alpha': 2.677751535207708, 'beta': 0.2586780679778975, 'topK': 711}. Best is trial 16 with value: 0.02390904223420983.\n"
     ]
    },
    {
     "name": "stdout",
     "output_type": "stream",
     "text": [
      "RP3betaRecommender: URM Detected 951 ( 7.3%) users with no interactions.\n",
      "RP3betaRecommender: URM Detected 1482 (11.4%) users with no interactions.\n",
      "RP3betaRecommender: URM Detected 602 ( 4.6%) users with no interactions.\n",
      "RP3betaRecommender: URM Detected 1512 ( 6.8%) items with no interactions.\n",
      "RP3betaRecommender: URM Detected 634 ( 4.9%) users with no interactions.\n",
      "RP3betaRecommender: URM Detected 601 ( 4.6%) users with no interactions.\n",
      "RP3betaRecommender: URM Detected 551 ( 2.5%) items with no interactions.\n",
      "RP3betaRecommender: URM Detected 231 ( 1.0%) items with no interactions.\n",
      "RP3betaRecommender: URM Detected 250 ( 1.1%) items with no interactions.\n",
      "RP3betaRecommender: URM Detected 235 ( 1.1%) items with no interactions.\n",
      "RP3betaRecommender: Similarity column 22347 (100.0%), 97.08 column/sec. Elapsed time 3.84 min\n",
      "RP3betaRecommender: Similarity column 22347 (100.0%), 86.04 column/sec. Elapsed time 4.33 min\n",
      "EvaluatorHoldout: Ignoring 2539 (19.5%) Users that have less than 1 test interactions\n",
      "RP3betaRecommender: Similarity column 22200 (99.3%), 73.76 column/sec. Elapsed time 5.02 min\n",
      "RP3betaRecommender: Similarity column 22347 (100.0%), 74.15 column/sec. Elapsed time 5.02 min\n",
      "RP3betaRecommender: Similarity column 22347 (100.0%), 74.14 column/sec. Elapsed time 5.02 min\n",
      "RP3betaRecommender: Similarity column 22347 (100.0%), 73.52 column/sec. Elapsed time 5.07 min\n",
      "EvaluatorHoldout: Ignoring 2568 (19.7%) Users that have less than 1 test interactions\n",
      "EvaluatorHoldout: Ignoring 2555 (19.6%) Users that have less than 1 test interactions\n",
      "EvaluatorHoldout: Ignoring 2552 (19.6%) Users that have less than 1 test interactions\n",
      "EvaluatorHoldout: Ignoring 2534 (19.5%) Users that have less than 1 test interactions\n",
      "EvaluatorHoldout: Processed 8000 (76.3%) in 5.40 min. Users per second: 25\n",
      "EvaluatorHoldout: Processed 8000 (76.5%) in 5.30 min. Users per second: 25\n",
      "EvaluatorHoldout: Processed 8000 (76.4%) in 5.04 min. Users per second: 26\n",
      "EvaluatorHoldout: Processed 8000 (76.4%) in 5.05 min. Users per second: 26\n",
      "EvaluatorHoldout: Processed 9000 (85.8%) in 5.72 min. Users per second: 26\n",
      "EvaluatorHoldout: Processed 10485 (100.0%) in 7.14 min. Users per second: 24\n",
      "MAP is 0.014030455450340972\n",
      "EvaluatorHoldout: Processed 10456 (100.0%) in 6.99 min. Users per second: 25\n",
      "MAP is 0.01781210909510447\n",
      "EvaluatorHoldout: Processed 10469 (100.0%) in 6.45 min. Users per second: 27\n",
      "MAP is 0.02246726541095634\n",
      "EvaluatorHoldout: Processed 10472 (100.0%) in 6.45 min. Users per second: 27\n",
      "MAP is 0.023037139098063396\n",
      "EvaluatorHoldout: Processed 10490 (100.0%) in 6.41 min. Users per second: 27\n",
      "MAP is 0.022762540287802464\n"
     ]
    },
    {
     "name": "stderr",
     "output_type": "stream",
     "text": [
      "[I 2023-11-24 18:13:57,673] Trial 17 finished with value: 0.02002190186845353 and parameters: {'alpha': 3.1091350742757458, 'beta': 0.531270825669978, 'topK': 912}. Best is trial 16 with value: 0.02390904223420983.\n"
     ]
    },
    {
     "name": "stdout",
     "output_type": "stream",
     "text": [
      "RP3betaRecommender: URM Detected 1482 (11.4%) users with no interactions.\n",
      "RP3betaRecommender: URM Detected 951 ( 7.3%) users with no interactions.\n",
      "RP3betaRecommender: URM Detected 1512 ( 6.8%) items with no interactions.\n",
      "RP3betaRecommender: URM Detected 602 ( 4.6%) users with no interactions.\n",
      "RP3betaRecommender: URM Detected 634 ( 4.9%) users with no interactions.\n",
      "RP3betaRecommender: URM Detected 601 ( 4.6%) users with no interactions.\n",
      "RP3betaRecommender: URM Detected 551 ( 2.5%) items with no interactions.\n",
      "RP3betaRecommender: URM Detected 231 ( 1.0%) items with no interactions.\n",
      "RP3betaRecommender: URM Detected 235 ( 1.1%) items with no interactions.\n",
      "RP3betaRecommender: URM Detected 250 ( 1.1%) items with no interactions.\n",
      "RP3betaRecommender: Similarity column 22347 (100.0%), 74.51 column/sec. Elapsed time 5.00 min\n",
      "RP3betaRecommender: Similarity column 17400 (77.9%), 58.00 column/sec. Elapsed time 5.00 min\n",
      "RP3betaRecommender: Similarity column 17800 (79.7%), 59.21 column/sec. Elapsed time 5.01 min\n",
      "RP3betaRecommender: Similarity column 20200 (90.4%), 67.01 column/sec. Elapsed time 5.02 min\n",
      "RP3betaRecommender: Similarity column 17400 (77.9%), 57.86 column/sec. Elapsed time 5.01 min\n",
      "RP3betaRecommender: Similarity column 22347 (100.0%), 66.63 column/sec. Elapsed time 5.59 min\n",
      "RP3betaRecommender: Similarity column 22347 (100.0%), 59.02 column/sec. Elapsed time 6.31 min\n",
      "RP3betaRecommender: Similarity column 22347 (100.0%), 58.01 column/sec. Elapsed time 6.42 min\n",
      "RP3betaRecommender: Similarity column 22347 (100.0%), 57.38 column/sec. Elapsed time 6.49 min\n",
      "EvaluatorHoldout: Ignoring 2539 (19.5%) Users that have less than 1 test interactions\n",
      "EvaluatorHoldout: Ignoring 2568 (19.7%) Users that have less than 1 test interactions\n",
      "EvaluatorHoldout: Ignoring 2555 (19.6%) Users that have less than 1 test interactions\n",
      "EvaluatorHoldout: Ignoring 2552 (19.6%) Users that have less than 1 test interactions\n",
      "EvaluatorHoldout: Ignoring 2534 (19.5%) Users that have less than 1 test interactions\n",
      "EvaluatorHoldout: Processed 7000 (66.8%) in 5.59 min. Users per second: 21\n",
      "EvaluatorHoldout: Processed 7000 (66.9%) in 5.46 min. Users per second: 21\n",
      "EvaluatorHoldout: Processed 7000 (66.9%) in 5.08 min. Users per second: 23\n",
      "EvaluatorHoldout: Processed 8000 (76.3%) in 5.59 min. Users per second: 24\n",
      "EvaluatorHoldout: Processed 8000 (76.4%) in 5.66 min. Users per second: 24\n",
      "EvaluatorHoldout: Processed 10485 (100.0%) in 8.04 min. Users per second: 22\n",
      "MAP is 0.006920241312229864\n",
      "EvaluatorHoldout: Processed 10456 (100.0%) in 7.85 min. Users per second: 22\n",
      "MAP is 0.010970529566072742\n",
      "EvaluatorHoldout: Processed 10469 (100.0%) in 7.29 min. Users per second: 24\n",
      "MAP is 0.011420186885847373\n",
      "EvaluatorHoldout: Processed 10472 (100.0%) in 7.14 min. Users per second: 24\n",
      "MAP is 0.01329604190160906\n",
      "EvaluatorHoldout: Processed 10490 (100.0%) in 7.07 min. Users per second: 25\n",
      "MAP is 0.012326429554980515\n"
     ]
    },
    {
     "name": "stderr",
     "output_type": "stream",
     "text": [
      "[I 2023-11-24 18:29:12,066] Trial 18 finished with value: 0.01098668584414791 and parameters: {'alpha': 4.352649530119464, 'beta': 1.105741323369299, 'topK': 1425}. Best is trial 16 with value: 0.02390904223420983.\n"
     ]
    },
    {
     "name": "stdout",
     "output_type": "stream",
     "text": [
      "RP3betaRecommender: URM Detected 951 ( 7.3%) users with no interactions.\n",
      "RP3betaRecommender: URM Detected 1482 (11.4%) users with no interactions.\n",
      "RP3betaRecommender: URM Detected 551 ( 2.5%) items with no interactions.\n",
      "RP3betaRecommender: URM Detected 1512 ( 6.8%) items with no interactions.\n",
      "RP3betaRecommender: URM Detected 602 ( 4.6%) users with no interactions.\n",
      "RP3betaRecommender: URM Detected 601 ( 4.6%) users with no interactions.\n",
      "RP3betaRecommender: URM Detected 634 ( 4.9%) users with no interactions.\n",
      "RP3betaRecommender: URM Detected 250 ( 1.1%) items with no interactions.\n",
      "RP3betaRecommender: URM Detected 231 ( 1.0%) items with no interactions.\n",
      "RP3betaRecommender: URM Detected 235 ( 1.1%) items with no interactions.\n",
      "RP3betaRecommender: Similarity column 22347 (100.0%), 108.10 column/sec. Elapsed time 3.45 min\n",
      "EvaluatorHoldout: Ignoring 2539 (19.5%) Users that have less than 1 test interactions\n",
      "RP3betaRecommender: Similarity column 22347 (100.0%), 91.66 column/sec. Elapsed time 4.06 min\n",
      "EvaluatorHoldout: Ignoring 2568 (19.7%) Users that have less than 1 test interactions\n",
      "RP3betaRecommender: Similarity column 22347 (100.0%), 81.86 column/sec. Elapsed time 4.55 min\n",
      "RP3betaRecommender: Similarity column 22347 (100.0%), 81.23 column/sec. Elapsed time 4.59 min\n",
      "RP3betaRecommender: Similarity column 22347 (100.0%), 80.72 column/sec. Elapsed time 4.61 min\n",
      "EvaluatorHoldout: Ignoring 2555 (19.6%) Users that have less than 1 test interactions\n",
      "EvaluatorHoldout: Ignoring 2552 (19.6%) Users that have less than 1 test interactions\n",
      "EvaluatorHoldout: Ignoring 2534 (19.5%) Users that have less than 1 test interactions\n",
      "EvaluatorHoldout: Processed 9000 (85.8%) in 5.44 min. Users per second: 28\n",
      "EvaluatorHoldout: Processed 9000 (86.1%) in 5.54 min. Users per second: 27\n",
      "EvaluatorHoldout: Processed 8000 (76.4%) in 5.04 min. Users per second: 26\n",
      "EvaluatorHoldout: Processed 10485 (100.0%) in 6.31 min. Users per second: 28\n",
      "MAP is 0.006977072310405647\n",
      "EvaluatorHoldout: Processed 9000 (85.9%) in 5.46 min. Users per second: 27\n",
      "EvaluatorHoldout: Processed 9000 (85.8%) in 5.42 min. Users per second: 28\n",
      "EvaluatorHoldout: Processed 10456 (100.0%) in 6.23 min. Users per second: 28\n",
      "MAP is 0.009329954852382137\n",
      "EvaluatorHoldout: Processed 10469 (100.0%) in 6.02 min. Users per second: 29\n",
      "MAP is 0.009055715513829903\n",
      "EvaluatorHoldout: Processed 10472 (100.0%) in 5.95 min. Users per second: 29\n",
      "MAP is 0.009938259394666906\n",
      "EvaluatorHoldout: Processed 10490 (100.0%) in 5.91 min. Users per second: 30\n",
      "MAP is 0.009528394389214153\n"
     ]
    },
    {
     "name": "stderr",
     "output_type": "stream",
     "text": [
      "[I 2023-11-24 18:40:15,469] Trial 19 finished with value: 0.008965879292099748 and parameters: {'alpha': 9.566801029047626, 'beta': 0.3231454532611822, 'topK': 516}. Best is trial 16 with value: 0.02390904223420983.\n"
     ]
    }
   ],
   "source": [
    "if config['tune_hybrid']:\n",
    "    study = optuna.create_study(direction='maximize', study_name='hyperparameters_tuning_stag2_rp3', \n",
    "                                storage=f'sqlite:///{config[\"database_path\"]}', load_if_exists=True)\n",
    "    study.optimize(objective_item_knn, n_trials=20)"
   ]
  },
  {
   "cell_type": "code",
   "execution_count": 34,
   "id": "f8e1c71b",
   "metadata": {
    "execution": {
     "iopub.execute_input": "2023-11-24T18:40:15.793110Z",
     "iopub.status.busy": "2023-11-24T18:40:15.792693Z",
     "iopub.status.idle": "2023-11-24T18:40:16.598805Z",
     "shell.execute_reply": "2023-11-24T18:40:16.597670Z"
    },
    "papermill": {
     "duration": 0.867686,
     "end_time": "2023-11-24T18:40:16.601652",
     "exception": false,
     "start_time": "2023-11-24T18:40:15.733966",
     "status": "completed"
    },
    "tags": []
   },
   "outputs": [
    {
     "data": {
      "text/html": [
       "        <script type=\"text/javascript\">\n",
       "        window.PlotlyConfig = {MathJaxConfig: 'local'};\n",
       "        if (window.MathJax && window.MathJax.Hub && window.MathJax.Hub.Config) {window.MathJax.Hub.Config({SVG: {font: \"STIX-Web\"}});}\n",
       "        if (typeof require !== 'undefined') {\n",
       "        require.undef(\"plotly\");\n",
       "        requirejs.config({\n",
       "            paths: {\n",
       "                'plotly': ['https://cdn.plot.ly/plotly-2.25.2.min']\n",
       "            }\n",
       "        });\n",
       "        require(['plotly'], function(Plotly) {\n",
       "            window._Plotly = Plotly;\n",
       "        });\n",
       "        }\n",
       "        </script>\n",
       "        "
      ]
     },
     "metadata": {},
     "output_type": "display_data"
    },
    {
     "data": {
      "text/html": [
       "<div>                            <div id=\"0106a85c-37ba-4eb4-bff3-d1abb4f0ebdb\" class=\"plotly-graph-div\" style=\"height:525px; width:100%;\"></div>            <script type=\"text/javascript\">                require([\"plotly\"], function(Plotly) {                    window.PLOTLYENV=window.PLOTLYENV || {};                                    if (document.getElementById(\"0106a85c-37ba-4eb4-bff3-d1abb4f0ebdb\")) {                    Plotly.newPlot(                        \"0106a85c-37ba-4eb4-bff3-d1abb4f0ebdb\",                        [{\"mode\":\"markers\",\"name\":\"Objective Value\",\"x\":[0,1,2,3,4,5,6,7,8,9,10,11,12,13,14,15,16,17,18,19],\"y\":[0.023229795498854868,0.0015699140421317006,0.0192695583537155,0.01734331734550899,0.0005531901539856642,0.0012999860771192144,0.019533407191095913,0.019003510548570277,0.017553090955915195,0.02097827108381267,0.011743798750586561,0.01946871599924018,0.009381012784892617,0.017951076311156396,0.0001069744796315122,0.02203208893752385,0.02390904223420983,0.02002190186845353,0.01098668584414791,0.008965879292099748],\"type\":\"scatter\"},{\"mode\":\"lines\",\"name\":\"Best Value\",\"x\":[0,1,2,3,4,5,6,7,8,9,10,11,12,13,14,15,16,17,18,19],\"y\":[0.023229795498854868,0.023229795498854868,0.023229795498854868,0.023229795498854868,0.023229795498854868,0.023229795498854868,0.023229795498854868,0.023229795498854868,0.023229795498854868,0.023229795498854868,0.023229795498854868,0.023229795498854868,0.023229795498854868,0.023229795498854868,0.023229795498854868,0.023229795498854868,0.02390904223420983,0.02390904223420983,0.02390904223420983,0.02390904223420983],\"type\":\"scatter\"},{\"marker\":{\"color\":\"#cccccc\"},\"mode\":\"markers\",\"name\":\"Infeasible Trial\",\"showlegend\":false,\"x\":[],\"y\":[],\"type\":\"scatter\"}],                        {\"title\":{\"text\":\"Optimization History Plot\"},\"xaxis\":{\"title\":{\"text\":\"Trial\"}},\"yaxis\":{\"title\":{\"text\":\"Objective Value\"}},\"template\":{\"data\":{\"histogram2dcontour\":[{\"type\":\"histogram2dcontour\",\"colorbar\":{\"outlinewidth\":0,\"ticks\":\"\"},\"colorscale\":[[0.0,\"#0d0887\"],[0.1111111111111111,\"#46039f\"],[0.2222222222222222,\"#7201a8\"],[0.3333333333333333,\"#9c179e\"],[0.4444444444444444,\"#bd3786\"],[0.5555555555555556,\"#d8576b\"],[0.6666666666666666,\"#ed7953\"],[0.7777777777777778,\"#fb9f3a\"],[0.8888888888888888,\"#fdca26\"],[1.0,\"#f0f921\"]]}],\"choropleth\":[{\"type\":\"choropleth\",\"colorbar\":{\"outlinewidth\":0,\"ticks\":\"\"}}],\"histogram2d\":[{\"type\":\"histogram2d\",\"colorbar\":{\"outlinewidth\":0,\"ticks\":\"\"},\"colorscale\":[[0.0,\"#0d0887\"],[0.1111111111111111,\"#46039f\"],[0.2222222222222222,\"#7201a8\"],[0.3333333333333333,\"#9c179e\"],[0.4444444444444444,\"#bd3786\"],[0.5555555555555556,\"#d8576b\"],[0.6666666666666666,\"#ed7953\"],[0.7777777777777778,\"#fb9f3a\"],[0.8888888888888888,\"#fdca26\"],[1.0,\"#f0f921\"]]}],\"heatmap\":[{\"type\":\"heatmap\",\"colorbar\":{\"outlinewidth\":0,\"ticks\":\"\"},\"colorscale\":[[0.0,\"#0d0887\"],[0.1111111111111111,\"#46039f\"],[0.2222222222222222,\"#7201a8\"],[0.3333333333333333,\"#9c179e\"],[0.4444444444444444,\"#bd3786\"],[0.5555555555555556,\"#d8576b\"],[0.6666666666666666,\"#ed7953\"],[0.7777777777777778,\"#fb9f3a\"],[0.8888888888888888,\"#fdca26\"],[1.0,\"#f0f921\"]]}],\"heatmapgl\":[{\"type\":\"heatmapgl\",\"colorbar\":{\"outlinewidth\":0,\"ticks\":\"\"},\"colorscale\":[[0.0,\"#0d0887\"],[0.1111111111111111,\"#46039f\"],[0.2222222222222222,\"#7201a8\"],[0.3333333333333333,\"#9c179e\"],[0.4444444444444444,\"#bd3786\"],[0.5555555555555556,\"#d8576b\"],[0.6666666666666666,\"#ed7953\"],[0.7777777777777778,\"#fb9f3a\"],[0.8888888888888888,\"#fdca26\"],[1.0,\"#f0f921\"]]}],\"contourcarpet\":[{\"type\":\"contourcarpet\",\"colorbar\":{\"outlinewidth\":0,\"ticks\":\"\"}}],\"contour\":[{\"type\":\"contour\",\"colorbar\":{\"outlinewidth\":0,\"ticks\":\"\"},\"colorscale\":[[0.0,\"#0d0887\"],[0.1111111111111111,\"#46039f\"],[0.2222222222222222,\"#7201a8\"],[0.3333333333333333,\"#9c179e\"],[0.4444444444444444,\"#bd3786\"],[0.5555555555555556,\"#d8576b\"],[0.6666666666666666,\"#ed7953\"],[0.7777777777777778,\"#fb9f3a\"],[0.8888888888888888,\"#fdca26\"],[1.0,\"#f0f921\"]]}],\"surface\":[{\"type\":\"surface\",\"colorbar\":{\"outlinewidth\":0,\"ticks\":\"\"},\"colorscale\":[[0.0,\"#0d0887\"],[0.1111111111111111,\"#46039f\"],[0.2222222222222222,\"#7201a8\"],[0.3333333333333333,\"#9c179e\"],[0.4444444444444444,\"#bd3786\"],[0.5555555555555556,\"#d8576b\"],[0.6666666666666666,\"#ed7953\"],[0.7777777777777778,\"#fb9f3a\"],[0.8888888888888888,\"#fdca26\"],[1.0,\"#f0f921\"]]}],\"mesh3d\":[{\"type\":\"mesh3d\",\"colorbar\":{\"outlinewidth\":0,\"ticks\":\"\"}}],\"scatter\":[{\"fillpattern\":{\"fillmode\":\"overlay\",\"size\":10,\"solidity\":0.2},\"type\":\"scatter\"}],\"parcoords\":[{\"type\":\"parcoords\",\"line\":{\"colorbar\":{\"outlinewidth\":0,\"ticks\":\"\"}}}],\"scatterpolargl\":[{\"type\":\"scatterpolargl\",\"marker\":{\"colorbar\":{\"outlinewidth\":0,\"ticks\":\"\"}}}],\"bar\":[{\"error_x\":{\"color\":\"#2a3f5f\"},\"error_y\":{\"color\":\"#2a3f5f\"},\"marker\":{\"line\":{\"color\":\"#E5ECF6\",\"width\":0.5},\"pattern\":{\"fillmode\":\"overlay\",\"size\":10,\"solidity\":0.2}},\"type\":\"bar\"}],\"scattergeo\":[{\"type\":\"scattergeo\",\"marker\":{\"colorbar\":{\"outlinewidth\":0,\"ticks\":\"\"}}}],\"scatterpolar\":[{\"type\":\"scatterpolar\",\"marker\":{\"colorbar\":{\"outlinewidth\":0,\"ticks\":\"\"}}}],\"histogram\":[{\"marker\":{\"pattern\":{\"fillmode\":\"overlay\",\"size\":10,\"solidity\":0.2}},\"type\":\"histogram\"}],\"scattergl\":[{\"type\":\"scattergl\",\"marker\":{\"colorbar\":{\"outlinewidth\":0,\"ticks\":\"\"}}}],\"scatter3d\":[{\"type\":\"scatter3d\",\"line\":{\"colorbar\":{\"outlinewidth\":0,\"ticks\":\"\"}},\"marker\":{\"colorbar\":{\"outlinewidth\":0,\"ticks\":\"\"}}}],\"scattermapbox\":[{\"type\":\"scattermapbox\",\"marker\":{\"colorbar\":{\"outlinewidth\":0,\"ticks\":\"\"}}}],\"scatterternary\":[{\"type\":\"scatterternary\",\"marker\":{\"colorbar\":{\"outlinewidth\":0,\"ticks\":\"\"}}}],\"scattercarpet\":[{\"type\":\"scattercarpet\",\"marker\":{\"colorbar\":{\"outlinewidth\":0,\"ticks\":\"\"}}}],\"carpet\":[{\"aaxis\":{\"endlinecolor\":\"#2a3f5f\",\"gridcolor\":\"white\",\"linecolor\":\"white\",\"minorgridcolor\":\"white\",\"startlinecolor\":\"#2a3f5f\"},\"baxis\":{\"endlinecolor\":\"#2a3f5f\",\"gridcolor\":\"white\",\"linecolor\":\"white\",\"minorgridcolor\":\"white\",\"startlinecolor\":\"#2a3f5f\"},\"type\":\"carpet\"}],\"table\":[{\"cells\":{\"fill\":{\"color\":\"#EBF0F8\"},\"line\":{\"color\":\"white\"}},\"header\":{\"fill\":{\"color\":\"#C8D4E3\"},\"line\":{\"color\":\"white\"}},\"type\":\"table\"}],\"barpolar\":[{\"marker\":{\"line\":{\"color\":\"#E5ECF6\",\"width\":0.5},\"pattern\":{\"fillmode\":\"overlay\",\"size\":10,\"solidity\":0.2}},\"type\":\"barpolar\"}],\"pie\":[{\"automargin\":true,\"type\":\"pie\"}]},\"layout\":{\"autotypenumbers\":\"strict\",\"colorway\":[\"#636efa\",\"#EF553B\",\"#00cc96\",\"#ab63fa\",\"#FFA15A\",\"#19d3f3\",\"#FF6692\",\"#B6E880\",\"#FF97FF\",\"#FECB52\"],\"font\":{\"color\":\"#2a3f5f\"},\"hovermode\":\"closest\",\"hoverlabel\":{\"align\":\"left\"},\"paper_bgcolor\":\"white\",\"plot_bgcolor\":\"#E5ECF6\",\"polar\":{\"bgcolor\":\"#E5ECF6\",\"angularaxis\":{\"gridcolor\":\"white\",\"linecolor\":\"white\",\"ticks\":\"\"},\"radialaxis\":{\"gridcolor\":\"white\",\"linecolor\":\"white\",\"ticks\":\"\"}},\"ternary\":{\"bgcolor\":\"#E5ECF6\",\"aaxis\":{\"gridcolor\":\"white\",\"linecolor\":\"white\",\"ticks\":\"\"},\"baxis\":{\"gridcolor\":\"white\",\"linecolor\":\"white\",\"ticks\":\"\"},\"caxis\":{\"gridcolor\":\"white\",\"linecolor\":\"white\",\"ticks\":\"\"}},\"coloraxis\":{\"colorbar\":{\"outlinewidth\":0,\"ticks\":\"\"}},\"colorscale\":{\"sequential\":[[0.0,\"#0d0887\"],[0.1111111111111111,\"#46039f\"],[0.2222222222222222,\"#7201a8\"],[0.3333333333333333,\"#9c179e\"],[0.4444444444444444,\"#bd3786\"],[0.5555555555555556,\"#d8576b\"],[0.6666666666666666,\"#ed7953\"],[0.7777777777777778,\"#fb9f3a\"],[0.8888888888888888,\"#fdca26\"],[1.0,\"#f0f921\"]],\"sequentialminus\":[[0.0,\"#0d0887\"],[0.1111111111111111,\"#46039f\"],[0.2222222222222222,\"#7201a8\"],[0.3333333333333333,\"#9c179e\"],[0.4444444444444444,\"#bd3786\"],[0.5555555555555556,\"#d8576b\"],[0.6666666666666666,\"#ed7953\"],[0.7777777777777778,\"#fb9f3a\"],[0.8888888888888888,\"#fdca26\"],[1.0,\"#f0f921\"]],\"diverging\":[[0,\"#8e0152\"],[0.1,\"#c51b7d\"],[0.2,\"#de77ae\"],[0.3,\"#f1b6da\"],[0.4,\"#fde0ef\"],[0.5,\"#f7f7f7\"],[0.6,\"#e6f5d0\"],[0.7,\"#b8e186\"],[0.8,\"#7fbc41\"],[0.9,\"#4d9221\"],[1,\"#276419\"]]},\"xaxis\":{\"gridcolor\":\"white\",\"linecolor\":\"white\",\"ticks\":\"\",\"title\":{\"standoff\":15},\"zerolinecolor\":\"white\",\"automargin\":true,\"zerolinewidth\":2},\"yaxis\":{\"gridcolor\":\"white\",\"linecolor\":\"white\",\"ticks\":\"\",\"title\":{\"standoff\":15},\"zerolinecolor\":\"white\",\"automargin\":true,\"zerolinewidth\":2},\"scene\":{\"xaxis\":{\"backgroundcolor\":\"#E5ECF6\",\"gridcolor\":\"white\",\"linecolor\":\"white\",\"showbackground\":true,\"ticks\":\"\",\"zerolinecolor\":\"white\",\"gridwidth\":2},\"yaxis\":{\"backgroundcolor\":\"#E5ECF6\",\"gridcolor\":\"white\",\"linecolor\":\"white\",\"showbackground\":true,\"ticks\":\"\",\"zerolinecolor\":\"white\",\"gridwidth\":2},\"zaxis\":{\"backgroundcolor\":\"#E5ECF6\",\"gridcolor\":\"white\",\"linecolor\":\"white\",\"showbackground\":true,\"ticks\":\"\",\"zerolinecolor\":\"white\",\"gridwidth\":2}},\"shapedefaults\":{\"line\":{\"color\":\"#2a3f5f\"}},\"annotationdefaults\":{\"arrowcolor\":\"#2a3f5f\",\"arrowhead\":0,\"arrowwidth\":1},\"geo\":{\"bgcolor\":\"white\",\"landcolor\":\"#E5ECF6\",\"subunitcolor\":\"white\",\"showland\":true,\"showlakes\":true,\"lakecolor\":\"white\"},\"title\":{\"x\":0.05},\"mapbox\":{\"style\":\"light\"}}}},                        {\"responsive\": true}                    ).then(function(){\n",
       "                            \n",
       "var gd = document.getElementById('0106a85c-37ba-4eb4-bff3-d1abb4f0ebdb');\n",
       "var x = new MutationObserver(function (mutations, observer) {{\n",
       "        var display = window.getComputedStyle(gd).display;\n",
       "        if (!display || display === 'none') {{\n",
       "            console.log([gd, 'removed!']);\n",
       "            Plotly.purge(gd);\n",
       "            observer.disconnect();\n",
       "        }}\n",
       "}});\n",
       "\n",
       "// Listen for the removal of the full notebook cells\n",
       "var notebookContainer = gd.closest('#notebook-container');\n",
       "if (notebookContainer) {{\n",
       "    x.observe(notebookContainer, {childList: true});\n",
       "}}\n",
       "\n",
       "// Listen for the clearing of the current output cell\n",
       "var outputEl = gd.closest('.output');\n",
       "if (outputEl) {{\n",
       "    x.observe(outputEl, {childList: true});\n",
       "}}\n",
       "\n",
       "                        })                };                });            </script>        </div>"
      ]
     },
     "metadata": {},
     "output_type": "display_data"
    }
   ],
   "source": [
    "if config['tune_hybrid']:\n",
    "    fig = optuna.visualization.plot_optimization_history(study)\n",
    "    fig.show()"
   ]
  },
  {
   "cell_type": "code",
   "execution_count": 35,
   "id": "1a22ff00",
   "metadata": {
    "execution": {
     "iopub.execute_input": "2023-11-24T18:40:16.719193Z",
     "iopub.status.busy": "2023-11-24T18:40:16.718185Z",
     "iopub.status.idle": "2023-11-24T18:40:17.065422Z",
     "shell.execute_reply": "2023-11-24T18:40:17.064326Z"
    },
    "papermill": {
     "duration": 0.40774,
     "end_time": "2023-11-24T18:40:17.067748",
     "exception": false,
     "start_time": "2023-11-24T18:40:16.660008",
     "status": "completed"
    },
    "tags": []
   },
   "outputs": [
    {
     "data": {
      "text/html": [
       "<div>                            <div id=\"ce78ab33-0826-42dd-a65e-278da174f853\" class=\"plotly-graph-div\" style=\"height:525px; width:100%;\"></div>            <script type=\"text/javascript\">                require([\"plotly\"], function(Plotly) {                    window.PLOTLYENV=window.PLOTLYENV || {};                                    if (document.getElementById(\"ce78ab33-0826-42dd-a65e-278da174f853\")) {                    Plotly.newPlot(                        \"ce78ab33-0826-42dd-a65e-278da174f853\",                        [{\"cliponaxis\":false,\"hovertemplate\":[\"topK (IntDistribution): 0.04189725730888876\\u003cextra\\u003e\\u003c\\u002fextra\\u003e\",\"alpha (FloatDistribution): 0.1052761293532582\\u003cextra\\u003e\\u003c\\u002fextra\\u003e\",\"beta (FloatDistribution): 0.852826613337853\\u003cextra\\u003e\\u003c\\u002fextra\\u003e\"],\"name\":\"Objective Value\",\"orientation\":\"h\",\"text\":[\"0.04\",\"0.11\",\"0.85\"],\"textposition\":\"outside\",\"x\":[0.04189725730888876,0.1052761293532582,0.852826613337853],\"y\":[\"topK\",\"alpha\",\"beta\"],\"type\":\"bar\"}],                        {\"title\":{\"text\":\"Hyperparameter Importances\"},\"xaxis\":{\"title\":{\"text\":\"Hyperparameter Importance\"}},\"yaxis\":{\"title\":{\"text\":\"Hyperparameter\"}},\"template\":{\"data\":{\"histogram2dcontour\":[{\"type\":\"histogram2dcontour\",\"colorbar\":{\"outlinewidth\":0,\"ticks\":\"\"},\"colorscale\":[[0.0,\"#0d0887\"],[0.1111111111111111,\"#46039f\"],[0.2222222222222222,\"#7201a8\"],[0.3333333333333333,\"#9c179e\"],[0.4444444444444444,\"#bd3786\"],[0.5555555555555556,\"#d8576b\"],[0.6666666666666666,\"#ed7953\"],[0.7777777777777778,\"#fb9f3a\"],[0.8888888888888888,\"#fdca26\"],[1.0,\"#f0f921\"]]}],\"choropleth\":[{\"type\":\"choropleth\",\"colorbar\":{\"outlinewidth\":0,\"ticks\":\"\"}}],\"histogram2d\":[{\"type\":\"histogram2d\",\"colorbar\":{\"outlinewidth\":0,\"ticks\":\"\"},\"colorscale\":[[0.0,\"#0d0887\"],[0.1111111111111111,\"#46039f\"],[0.2222222222222222,\"#7201a8\"],[0.3333333333333333,\"#9c179e\"],[0.4444444444444444,\"#bd3786\"],[0.5555555555555556,\"#d8576b\"],[0.6666666666666666,\"#ed7953\"],[0.7777777777777778,\"#fb9f3a\"],[0.8888888888888888,\"#fdca26\"],[1.0,\"#f0f921\"]]}],\"heatmap\":[{\"type\":\"heatmap\",\"colorbar\":{\"outlinewidth\":0,\"ticks\":\"\"},\"colorscale\":[[0.0,\"#0d0887\"],[0.1111111111111111,\"#46039f\"],[0.2222222222222222,\"#7201a8\"],[0.3333333333333333,\"#9c179e\"],[0.4444444444444444,\"#bd3786\"],[0.5555555555555556,\"#d8576b\"],[0.6666666666666666,\"#ed7953\"],[0.7777777777777778,\"#fb9f3a\"],[0.8888888888888888,\"#fdca26\"],[1.0,\"#f0f921\"]]}],\"heatmapgl\":[{\"type\":\"heatmapgl\",\"colorbar\":{\"outlinewidth\":0,\"ticks\":\"\"},\"colorscale\":[[0.0,\"#0d0887\"],[0.1111111111111111,\"#46039f\"],[0.2222222222222222,\"#7201a8\"],[0.3333333333333333,\"#9c179e\"],[0.4444444444444444,\"#bd3786\"],[0.5555555555555556,\"#d8576b\"],[0.6666666666666666,\"#ed7953\"],[0.7777777777777778,\"#fb9f3a\"],[0.8888888888888888,\"#fdca26\"],[1.0,\"#f0f921\"]]}],\"contourcarpet\":[{\"type\":\"contourcarpet\",\"colorbar\":{\"outlinewidth\":0,\"ticks\":\"\"}}],\"contour\":[{\"type\":\"contour\",\"colorbar\":{\"outlinewidth\":0,\"ticks\":\"\"},\"colorscale\":[[0.0,\"#0d0887\"],[0.1111111111111111,\"#46039f\"],[0.2222222222222222,\"#7201a8\"],[0.3333333333333333,\"#9c179e\"],[0.4444444444444444,\"#bd3786\"],[0.5555555555555556,\"#d8576b\"],[0.6666666666666666,\"#ed7953\"],[0.7777777777777778,\"#fb9f3a\"],[0.8888888888888888,\"#fdca26\"],[1.0,\"#f0f921\"]]}],\"surface\":[{\"type\":\"surface\",\"colorbar\":{\"outlinewidth\":0,\"ticks\":\"\"},\"colorscale\":[[0.0,\"#0d0887\"],[0.1111111111111111,\"#46039f\"],[0.2222222222222222,\"#7201a8\"],[0.3333333333333333,\"#9c179e\"],[0.4444444444444444,\"#bd3786\"],[0.5555555555555556,\"#d8576b\"],[0.6666666666666666,\"#ed7953\"],[0.7777777777777778,\"#fb9f3a\"],[0.8888888888888888,\"#fdca26\"],[1.0,\"#f0f921\"]]}],\"mesh3d\":[{\"type\":\"mesh3d\",\"colorbar\":{\"outlinewidth\":0,\"ticks\":\"\"}}],\"scatter\":[{\"fillpattern\":{\"fillmode\":\"overlay\",\"size\":10,\"solidity\":0.2},\"type\":\"scatter\"}],\"parcoords\":[{\"type\":\"parcoords\",\"line\":{\"colorbar\":{\"outlinewidth\":0,\"ticks\":\"\"}}}],\"scatterpolargl\":[{\"type\":\"scatterpolargl\",\"marker\":{\"colorbar\":{\"outlinewidth\":0,\"ticks\":\"\"}}}],\"bar\":[{\"error_x\":{\"color\":\"#2a3f5f\"},\"error_y\":{\"color\":\"#2a3f5f\"},\"marker\":{\"line\":{\"color\":\"#E5ECF6\",\"width\":0.5},\"pattern\":{\"fillmode\":\"overlay\",\"size\":10,\"solidity\":0.2}},\"type\":\"bar\"}],\"scattergeo\":[{\"type\":\"scattergeo\",\"marker\":{\"colorbar\":{\"outlinewidth\":0,\"ticks\":\"\"}}}],\"scatterpolar\":[{\"type\":\"scatterpolar\",\"marker\":{\"colorbar\":{\"outlinewidth\":0,\"ticks\":\"\"}}}],\"histogram\":[{\"marker\":{\"pattern\":{\"fillmode\":\"overlay\",\"size\":10,\"solidity\":0.2}},\"type\":\"histogram\"}],\"scattergl\":[{\"type\":\"scattergl\",\"marker\":{\"colorbar\":{\"outlinewidth\":0,\"ticks\":\"\"}}}],\"scatter3d\":[{\"type\":\"scatter3d\",\"line\":{\"colorbar\":{\"outlinewidth\":0,\"ticks\":\"\"}},\"marker\":{\"colorbar\":{\"outlinewidth\":0,\"ticks\":\"\"}}}],\"scattermapbox\":[{\"type\":\"scattermapbox\",\"marker\":{\"colorbar\":{\"outlinewidth\":0,\"ticks\":\"\"}}}],\"scatterternary\":[{\"type\":\"scatterternary\",\"marker\":{\"colorbar\":{\"outlinewidth\":0,\"ticks\":\"\"}}}],\"scattercarpet\":[{\"type\":\"scattercarpet\",\"marker\":{\"colorbar\":{\"outlinewidth\":0,\"ticks\":\"\"}}}],\"carpet\":[{\"aaxis\":{\"endlinecolor\":\"#2a3f5f\",\"gridcolor\":\"white\",\"linecolor\":\"white\",\"minorgridcolor\":\"white\",\"startlinecolor\":\"#2a3f5f\"},\"baxis\":{\"endlinecolor\":\"#2a3f5f\",\"gridcolor\":\"white\",\"linecolor\":\"white\",\"minorgridcolor\":\"white\",\"startlinecolor\":\"#2a3f5f\"},\"type\":\"carpet\"}],\"table\":[{\"cells\":{\"fill\":{\"color\":\"#EBF0F8\"},\"line\":{\"color\":\"white\"}},\"header\":{\"fill\":{\"color\":\"#C8D4E3\"},\"line\":{\"color\":\"white\"}},\"type\":\"table\"}],\"barpolar\":[{\"marker\":{\"line\":{\"color\":\"#E5ECF6\",\"width\":0.5},\"pattern\":{\"fillmode\":\"overlay\",\"size\":10,\"solidity\":0.2}},\"type\":\"barpolar\"}],\"pie\":[{\"automargin\":true,\"type\":\"pie\"}]},\"layout\":{\"autotypenumbers\":\"strict\",\"colorway\":[\"#636efa\",\"#EF553B\",\"#00cc96\",\"#ab63fa\",\"#FFA15A\",\"#19d3f3\",\"#FF6692\",\"#B6E880\",\"#FF97FF\",\"#FECB52\"],\"font\":{\"color\":\"#2a3f5f\"},\"hovermode\":\"closest\",\"hoverlabel\":{\"align\":\"left\"},\"paper_bgcolor\":\"white\",\"plot_bgcolor\":\"#E5ECF6\",\"polar\":{\"bgcolor\":\"#E5ECF6\",\"angularaxis\":{\"gridcolor\":\"white\",\"linecolor\":\"white\",\"ticks\":\"\"},\"radialaxis\":{\"gridcolor\":\"white\",\"linecolor\":\"white\",\"ticks\":\"\"}},\"ternary\":{\"bgcolor\":\"#E5ECF6\",\"aaxis\":{\"gridcolor\":\"white\",\"linecolor\":\"white\",\"ticks\":\"\"},\"baxis\":{\"gridcolor\":\"white\",\"linecolor\":\"white\",\"ticks\":\"\"},\"caxis\":{\"gridcolor\":\"white\",\"linecolor\":\"white\",\"ticks\":\"\"}},\"coloraxis\":{\"colorbar\":{\"outlinewidth\":0,\"ticks\":\"\"}},\"colorscale\":{\"sequential\":[[0.0,\"#0d0887\"],[0.1111111111111111,\"#46039f\"],[0.2222222222222222,\"#7201a8\"],[0.3333333333333333,\"#9c179e\"],[0.4444444444444444,\"#bd3786\"],[0.5555555555555556,\"#d8576b\"],[0.6666666666666666,\"#ed7953\"],[0.7777777777777778,\"#fb9f3a\"],[0.8888888888888888,\"#fdca26\"],[1.0,\"#f0f921\"]],\"sequentialminus\":[[0.0,\"#0d0887\"],[0.1111111111111111,\"#46039f\"],[0.2222222222222222,\"#7201a8\"],[0.3333333333333333,\"#9c179e\"],[0.4444444444444444,\"#bd3786\"],[0.5555555555555556,\"#d8576b\"],[0.6666666666666666,\"#ed7953\"],[0.7777777777777778,\"#fb9f3a\"],[0.8888888888888888,\"#fdca26\"],[1.0,\"#f0f921\"]],\"diverging\":[[0,\"#8e0152\"],[0.1,\"#c51b7d\"],[0.2,\"#de77ae\"],[0.3,\"#f1b6da\"],[0.4,\"#fde0ef\"],[0.5,\"#f7f7f7\"],[0.6,\"#e6f5d0\"],[0.7,\"#b8e186\"],[0.8,\"#7fbc41\"],[0.9,\"#4d9221\"],[1,\"#276419\"]]},\"xaxis\":{\"gridcolor\":\"white\",\"linecolor\":\"white\",\"ticks\":\"\",\"title\":{\"standoff\":15},\"zerolinecolor\":\"white\",\"automargin\":true,\"zerolinewidth\":2},\"yaxis\":{\"gridcolor\":\"white\",\"linecolor\":\"white\",\"ticks\":\"\",\"title\":{\"standoff\":15},\"zerolinecolor\":\"white\",\"automargin\":true,\"zerolinewidth\":2},\"scene\":{\"xaxis\":{\"backgroundcolor\":\"#E5ECF6\",\"gridcolor\":\"white\",\"linecolor\":\"white\",\"showbackground\":true,\"ticks\":\"\",\"zerolinecolor\":\"white\",\"gridwidth\":2},\"yaxis\":{\"backgroundcolor\":\"#E5ECF6\",\"gridcolor\":\"white\",\"linecolor\":\"white\",\"showbackground\":true,\"ticks\":\"\",\"zerolinecolor\":\"white\",\"gridwidth\":2},\"zaxis\":{\"backgroundcolor\":\"#E5ECF6\",\"gridcolor\":\"white\",\"linecolor\":\"white\",\"showbackground\":true,\"ticks\":\"\",\"zerolinecolor\":\"white\",\"gridwidth\":2}},\"shapedefaults\":{\"line\":{\"color\":\"#2a3f5f\"}},\"annotationdefaults\":{\"arrowcolor\":\"#2a3f5f\",\"arrowhead\":0,\"arrowwidth\":1},\"geo\":{\"bgcolor\":\"white\",\"landcolor\":\"#E5ECF6\",\"subunitcolor\":\"white\",\"showland\":true,\"showlakes\":true,\"lakecolor\":\"white\"},\"title\":{\"x\":0.05},\"mapbox\":{\"style\":\"light\"}}}},                        {\"responsive\": true}                    ).then(function(){\n",
       "                            \n",
       "var gd = document.getElementById('ce78ab33-0826-42dd-a65e-278da174f853');\n",
       "var x = new MutationObserver(function (mutations, observer) {{\n",
       "        var display = window.getComputedStyle(gd).display;\n",
       "        if (!display || display === 'none') {{\n",
       "            console.log([gd, 'removed!']);\n",
       "            Plotly.purge(gd);\n",
       "            observer.disconnect();\n",
       "        }}\n",
       "}});\n",
       "\n",
       "// Listen for the removal of the full notebook cells\n",
       "var notebookContainer = gd.closest('#notebook-container');\n",
       "if (notebookContainer) {{\n",
       "    x.observe(notebookContainer, {childList: true});\n",
       "}}\n",
       "\n",
       "// Listen for the clearing of the current output cell\n",
       "var outputEl = gd.closest('.output');\n",
       "if (outputEl) {{\n",
       "    x.observe(outputEl, {childList: true});\n",
       "}}\n",
       "\n",
       "                        })                };                });            </script>        </div>"
      ]
     },
     "metadata": {},
     "output_type": "display_data"
    }
   ],
   "source": [
    "if config['tune_hybrid']:\n",
    "    fig = optuna.visualization.plot_param_importances(study)\n",
    "    fig.show()"
   ]
  },
  {
   "cell_type": "code",
   "execution_count": 36,
   "id": "45053748",
   "metadata": {
    "execution": {
     "iopub.execute_input": "2023-11-24T18:40:17.184471Z",
     "iopub.status.busy": "2023-11-24T18:40:17.183459Z",
     "iopub.status.idle": "2023-11-24T18:40:17.525523Z",
     "shell.execute_reply": "2023-11-24T18:40:17.524467Z"
    },
    "papermill": {
     "duration": 0.402093,
     "end_time": "2023-11-24T18:40:17.528348",
     "exception": false,
     "start_time": "2023-11-24T18:40:17.126255",
     "status": "completed"
    },
    "tags": []
   },
   "outputs": [
    {
     "data": {
      "text/html": [
       "<div>                            <div id=\"d89cfeb2-40f0-441a-b7d8-41dd087e01d0\" class=\"plotly-graph-div\" style=\"height:525px; width:100%;\"></div>            <script type=\"text/javascript\">                require([\"plotly\"], function(Plotly) {                    window.PLOTLYENV=window.PLOTLYENV || {};                                    if (document.getElementById(\"d89cfeb2-40f0-441a-b7d8-41dd087e01d0\")) {                    Plotly.newPlot(                        \"d89cfeb2-40f0-441a-b7d8-41dd087e01d0\",                        [{\"marker\":{\"color\":[0,1,2,3,4,5,6,7,8,9,10,11,12,13,14,15,16,17,18,19],\"colorbar\":{\"title\":{\"text\":\"Trial\"},\"x\":1.0,\"xpad\":40},\"colorscale\":[[0.0,\"rgb(247,251,255)\"],[0.125,\"rgb(222,235,247)\"],[0.25,\"rgb(198,219,239)\"],[0.375,\"rgb(158,202,225)\"],[0.5,\"rgb(107,174,214)\"],[0.625,\"rgb(66,146,198)\"],[0.75,\"rgb(33,113,181)\"],[0.875,\"rgb(8,81,156)\"],[1.0,\"rgb(8,48,107)\"]],\"line\":{\"color\":\"Grey\",\"width\":0.5},\"showscale\":true},\"mode\":\"markers\",\"name\":\"Feasible Trial\",\"showlegend\":false,\"x\":[2.534006571935572,1.60726651686522,0.20650762929003805,0.14286176052650307,0.07499414407132154,0.03213822089872851,0.4626526111478515,0.015920330181811968,0.06428318796844314,0.10205711860232548,5.927147357422654,0.7819313527270387,8.460169263354524,2.150493669603723,0.3568683515928344,0.8300840282125741,2.677751535207708,3.1091350742757458,4.352649530119464,9.566801029047626],\"y\":[0.023229795498854868,0.0015699140421317006,0.0192695583537155,0.01734331734550899,0.0005531901539856642,0.0012999860771192144,0.019533407191095913,0.019003510548570277,0.017553090955915195,0.02097827108381267,0.011743798750586561,0.01946871599924018,0.009381012784892617,0.017951076311156396,0.0001069744796315122,0.02203208893752385,0.02390904223420983,0.02002190186845353,0.01098668584414791,0.008965879292099748],\"type\":\"scatter\",\"xaxis\":\"x\",\"yaxis\":\"y\"},{\"marker\":{\"color\":[0,1,2,3,4,5,6,7,8,9,10,11,12,13,14,15,16,17,18,19],\"colorbar\":{\"title\":{\"text\":\"Trial\"},\"x\":1.0,\"xpad\":40},\"colorscale\":[[0.0,\"rgb(247,251,255)\"],[0.125,\"rgb(222,235,247)\"],[0.25,\"rgb(198,219,239)\"],[0.375,\"rgb(158,202,225)\"],[0.5,\"rgb(107,174,214)\"],[0.625,\"rgb(66,146,198)\"],[0.75,\"rgb(33,113,181)\"],[0.875,\"rgb(8,81,156)\"],[1.0,\"rgb(8,48,107)\"]],\"line\":{\"color\":\"Grey\",\"width\":0.5},\"showscale\":false},\"mode\":\"markers\",\"name\":\"Feasible Trial\",\"showlegend\":false,\"x\":[0.2850493891688343,2.550402096047494,0.10309044322484287,0.4029015178917358,4.236133394793039,2.308344711348702,0.7666519605786984,0.04403441194539544,0.09286321993275304,0.09087668088380901,0.018542336545588737,0.2152886136489878,0.01186152017666455,0.6658626780227561,9.583148750489965,0.18766334330858936,0.2586780679778975,0.531270825669978,1.105741323369299,0.3231454532611822],\"y\":[0.023229795498854868,0.0015699140421317006,0.0192695583537155,0.01734331734550899,0.0005531901539856642,0.0012999860771192144,0.019533407191095913,0.019003510548570277,0.017553090955915195,0.02097827108381267,0.011743798750586561,0.01946871599924018,0.009381012784892617,0.017951076311156396,0.0001069744796315122,0.02203208893752385,0.02390904223420983,0.02002190186845353,0.01098668584414791,0.008965879292099748],\"type\":\"scatter\",\"xaxis\":\"x2\",\"yaxis\":\"y2\"},{\"marker\":{\"color\":[0,1,2,3,4,5,6,7,8,9,10,11,12,13,14,15,16,17,18,19],\"colorbar\":{\"title\":{\"text\":\"Trial\"},\"x\":1.0,\"xpad\":40},\"colorscale\":[[0.0,\"rgb(247,251,255)\"],[0.125,\"rgb(222,235,247)\"],[0.25,\"rgb(198,219,239)\"],[0.375,\"rgb(158,202,225)\"],[0.5,\"rgb(107,174,214)\"],[0.625,\"rgb(66,146,198)\"],[0.75,\"rgb(33,113,181)\"],[0.875,\"rgb(8,81,156)\"],[1.0,\"rgb(8,48,107)\"]],\"line\":{\"color\":\"Grey\",\"width\":0.5},\"showscale\":false},\"mode\":\"markers\",\"name\":\"Feasible Trial\",\"showlegend\":false,\"x\":[919,71,283,2705,74,21,20,84,320,76,1492,787,639,2946,4524,183,711,912,1425,516],\"y\":[0.023229795498854868,0.0015699140421317006,0.0192695583537155,0.01734331734550899,0.0005531901539856642,0.0012999860771192144,0.019533407191095913,0.019003510548570277,0.017553090955915195,0.02097827108381267,0.011743798750586561,0.01946871599924018,0.009381012784892617,0.017951076311156396,0.0001069744796315122,0.02203208893752385,0.02390904223420983,0.02002190186845353,0.01098668584414791,0.008965879292099748],\"type\":\"scatter\",\"xaxis\":\"x3\",\"yaxis\":\"y3\"}],                        {\"template\":{\"data\":{\"histogram2dcontour\":[{\"type\":\"histogram2dcontour\",\"colorbar\":{\"outlinewidth\":0,\"ticks\":\"\"},\"colorscale\":[[0.0,\"#0d0887\"],[0.1111111111111111,\"#46039f\"],[0.2222222222222222,\"#7201a8\"],[0.3333333333333333,\"#9c179e\"],[0.4444444444444444,\"#bd3786\"],[0.5555555555555556,\"#d8576b\"],[0.6666666666666666,\"#ed7953\"],[0.7777777777777778,\"#fb9f3a\"],[0.8888888888888888,\"#fdca26\"],[1.0,\"#f0f921\"]]}],\"choropleth\":[{\"type\":\"choropleth\",\"colorbar\":{\"outlinewidth\":0,\"ticks\":\"\"}}],\"histogram2d\":[{\"type\":\"histogram2d\",\"colorbar\":{\"outlinewidth\":0,\"ticks\":\"\"},\"colorscale\":[[0.0,\"#0d0887\"],[0.1111111111111111,\"#46039f\"],[0.2222222222222222,\"#7201a8\"],[0.3333333333333333,\"#9c179e\"],[0.4444444444444444,\"#bd3786\"],[0.5555555555555556,\"#d8576b\"],[0.6666666666666666,\"#ed7953\"],[0.7777777777777778,\"#fb9f3a\"],[0.8888888888888888,\"#fdca26\"],[1.0,\"#f0f921\"]]}],\"heatmap\":[{\"type\":\"heatmap\",\"colorbar\":{\"outlinewidth\":0,\"ticks\":\"\"},\"colorscale\":[[0.0,\"#0d0887\"],[0.1111111111111111,\"#46039f\"],[0.2222222222222222,\"#7201a8\"],[0.3333333333333333,\"#9c179e\"],[0.4444444444444444,\"#bd3786\"],[0.5555555555555556,\"#d8576b\"],[0.6666666666666666,\"#ed7953\"],[0.7777777777777778,\"#fb9f3a\"],[0.8888888888888888,\"#fdca26\"],[1.0,\"#f0f921\"]]}],\"heatmapgl\":[{\"type\":\"heatmapgl\",\"colorbar\":{\"outlinewidth\":0,\"ticks\":\"\"},\"colorscale\":[[0.0,\"#0d0887\"],[0.1111111111111111,\"#46039f\"],[0.2222222222222222,\"#7201a8\"],[0.3333333333333333,\"#9c179e\"],[0.4444444444444444,\"#bd3786\"],[0.5555555555555556,\"#d8576b\"],[0.6666666666666666,\"#ed7953\"],[0.7777777777777778,\"#fb9f3a\"],[0.8888888888888888,\"#fdca26\"],[1.0,\"#f0f921\"]]}],\"contourcarpet\":[{\"type\":\"contourcarpet\",\"colorbar\":{\"outlinewidth\":0,\"ticks\":\"\"}}],\"contour\":[{\"type\":\"contour\",\"colorbar\":{\"outlinewidth\":0,\"ticks\":\"\"},\"colorscale\":[[0.0,\"#0d0887\"],[0.1111111111111111,\"#46039f\"],[0.2222222222222222,\"#7201a8\"],[0.3333333333333333,\"#9c179e\"],[0.4444444444444444,\"#bd3786\"],[0.5555555555555556,\"#d8576b\"],[0.6666666666666666,\"#ed7953\"],[0.7777777777777778,\"#fb9f3a\"],[0.8888888888888888,\"#fdca26\"],[1.0,\"#f0f921\"]]}],\"surface\":[{\"type\":\"surface\",\"colorbar\":{\"outlinewidth\":0,\"ticks\":\"\"},\"colorscale\":[[0.0,\"#0d0887\"],[0.1111111111111111,\"#46039f\"],[0.2222222222222222,\"#7201a8\"],[0.3333333333333333,\"#9c179e\"],[0.4444444444444444,\"#bd3786\"],[0.5555555555555556,\"#d8576b\"],[0.6666666666666666,\"#ed7953\"],[0.7777777777777778,\"#fb9f3a\"],[0.8888888888888888,\"#fdca26\"],[1.0,\"#f0f921\"]]}],\"mesh3d\":[{\"type\":\"mesh3d\",\"colorbar\":{\"outlinewidth\":0,\"ticks\":\"\"}}],\"scatter\":[{\"fillpattern\":{\"fillmode\":\"overlay\",\"size\":10,\"solidity\":0.2},\"type\":\"scatter\"}],\"parcoords\":[{\"type\":\"parcoords\",\"line\":{\"colorbar\":{\"outlinewidth\":0,\"ticks\":\"\"}}}],\"scatterpolargl\":[{\"type\":\"scatterpolargl\",\"marker\":{\"colorbar\":{\"outlinewidth\":0,\"ticks\":\"\"}}}],\"bar\":[{\"error_x\":{\"color\":\"#2a3f5f\"},\"error_y\":{\"color\":\"#2a3f5f\"},\"marker\":{\"line\":{\"color\":\"#E5ECF6\",\"width\":0.5},\"pattern\":{\"fillmode\":\"overlay\",\"size\":10,\"solidity\":0.2}},\"type\":\"bar\"}],\"scattergeo\":[{\"type\":\"scattergeo\",\"marker\":{\"colorbar\":{\"outlinewidth\":0,\"ticks\":\"\"}}}],\"scatterpolar\":[{\"type\":\"scatterpolar\",\"marker\":{\"colorbar\":{\"outlinewidth\":0,\"ticks\":\"\"}}}],\"histogram\":[{\"marker\":{\"pattern\":{\"fillmode\":\"overlay\",\"size\":10,\"solidity\":0.2}},\"type\":\"histogram\"}],\"scattergl\":[{\"type\":\"scattergl\",\"marker\":{\"colorbar\":{\"outlinewidth\":0,\"ticks\":\"\"}}}],\"scatter3d\":[{\"type\":\"scatter3d\",\"line\":{\"colorbar\":{\"outlinewidth\":0,\"ticks\":\"\"}},\"marker\":{\"colorbar\":{\"outlinewidth\":0,\"ticks\":\"\"}}}],\"scattermapbox\":[{\"type\":\"scattermapbox\",\"marker\":{\"colorbar\":{\"outlinewidth\":0,\"ticks\":\"\"}}}],\"scatterternary\":[{\"type\":\"scatterternary\",\"marker\":{\"colorbar\":{\"outlinewidth\":0,\"ticks\":\"\"}}}],\"scattercarpet\":[{\"type\":\"scattercarpet\",\"marker\":{\"colorbar\":{\"outlinewidth\":0,\"ticks\":\"\"}}}],\"carpet\":[{\"aaxis\":{\"endlinecolor\":\"#2a3f5f\",\"gridcolor\":\"white\",\"linecolor\":\"white\",\"minorgridcolor\":\"white\",\"startlinecolor\":\"#2a3f5f\"},\"baxis\":{\"endlinecolor\":\"#2a3f5f\",\"gridcolor\":\"white\",\"linecolor\":\"white\",\"minorgridcolor\":\"white\",\"startlinecolor\":\"#2a3f5f\"},\"type\":\"carpet\"}],\"table\":[{\"cells\":{\"fill\":{\"color\":\"#EBF0F8\"},\"line\":{\"color\":\"white\"}},\"header\":{\"fill\":{\"color\":\"#C8D4E3\"},\"line\":{\"color\":\"white\"}},\"type\":\"table\"}],\"barpolar\":[{\"marker\":{\"line\":{\"color\":\"#E5ECF6\",\"width\":0.5},\"pattern\":{\"fillmode\":\"overlay\",\"size\":10,\"solidity\":0.2}},\"type\":\"barpolar\"}],\"pie\":[{\"automargin\":true,\"type\":\"pie\"}]},\"layout\":{\"autotypenumbers\":\"strict\",\"colorway\":[\"#636efa\",\"#EF553B\",\"#00cc96\",\"#ab63fa\",\"#FFA15A\",\"#19d3f3\",\"#FF6692\",\"#B6E880\",\"#FF97FF\",\"#FECB52\"],\"font\":{\"color\":\"#2a3f5f\"},\"hovermode\":\"closest\",\"hoverlabel\":{\"align\":\"left\"},\"paper_bgcolor\":\"white\",\"plot_bgcolor\":\"#E5ECF6\",\"polar\":{\"bgcolor\":\"#E5ECF6\",\"angularaxis\":{\"gridcolor\":\"white\",\"linecolor\":\"white\",\"ticks\":\"\"},\"radialaxis\":{\"gridcolor\":\"white\",\"linecolor\":\"white\",\"ticks\":\"\"}},\"ternary\":{\"bgcolor\":\"#E5ECF6\",\"aaxis\":{\"gridcolor\":\"white\",\"linecolor\":\"white\",\"ticks\":\"\"},\"baxis\":{\"gridcolor\":\"white\",\"linecolor\":\"white\",\"ticks\":\"\"},\"caxis\":{\"gridcolor\":\"white\",\"linecolor\":\"white\",\"ticks\":\"\"}},\"coloraxis\":{\"colorbar\":{\"outlinewidth\":0,\"ticks\":\"\"}},\"colorscale\":{\"sequential\":[[0.0,\"#0d0887\"],[0.1111111111111111,\"#46039f\"],[0.2222222222222222,\"#7201a8\"],[0.3333333333333333,\"#9c179e\"],[0.4444444444444444,\"#bd3786\"],[0.5555555555555556,\"#d8576b\"],[0.6666666666666666,\"#ed7953\"],[0.7777777777777778,\"#fb9f3a\"],[0.8888888888888888,\"#fdca26\"],[1.0,\"#f0f921\"]],\"sequentialminus\":[[0.0,\"#0d0887\"],[0.1111111111111111,\"#46039f\"],[0.2222222222222222,\"#7201a8\"],[0.3333333333333333,\"#9c179e\"],[0.4444444444444444,\"#bd3786\"],[0.5555555555555556,\"#d8576b\"],[0.6666666666666666,\"#ed7953\"],[0.7777777777777778,\"#fb9f3a\"],[0.8888888888888888,\"#fdca26\"],[1.0,\"#f0f921\"]],\"diverging\":[[0,\"#8e0152\"],[0.1,\"#c51b7d\"],[0.2,\"#de77ae\"],[0.3,\"#f1b6da\"],[0.4,\"#fde0ef\"],[0.5,\"#f7f7f7\"],[0.6,\"#e6f5d0\"],[0.7,\"#b8e186\"],[0.8,\"#7fbc41\"],[0.9,\"#4d9221\"],[1,\"#276419\"]]},\"xaxis\":{\"gridcolor\":\"white\",\"linecolor\":\"white\",\"ticks\":\"\",\"title\":{\"standoff\":15},\"zerolinecolor\":\"white\",\"automargin\":true,\"zerolinewidth\":2},\"yaxis\":{\"gridcolor\":\"white\",\"linecolor\":\"white\",\"ticks\":\"\",\"title\":{\"standoff\":15},\"zerolinecolor\":\"white\",\"automargin\":true,\"zerolinewidth\":2},\"scene\":{\"xaxis\":{\"backgroundcolor\":\"#E5ECF6\",\"gridcolor\":\"white\",\"linecolor\":\"white\",\"showbackground\":true,\"ticks\":\"\",\"zerolinecolor\":\"white\",\"gridwidth\":2},\"yaxis\":{\"backgroundcolor\":\"#E5ECF6\",\"gridcolor\":\"white\",\"linecolor\":\"white\",\"showbackground\":true,\"ticks\":\"\",\"zerolinecolor\":\"white\",\"gridwidth\":2},\"zaxis\":{\"backgroundcolor\":\"#E5ECF6\",\"gridcolor\":\"white\",\"linecolor\":\"white\",\"showbackground\":true,\"ticks\":\"\",\"zerolinecolor\":\"white\",\"gridwidth\":2}},\"shapedefaults\":{\"line\":{\"color\":\"#2a3f5f\"}},\"annotationdefaults\":{\"arrowcolor\":\"#2a3f5f\",\"arrowhead\":0,\"arrowwidth\":1},\"geo\":{\"bgcolor\":\"white\",\"landcolor\":\"#E5ECF6\",\"subunitcolor\":\"white\",\"showland\":true,\"showlakes\":true,\"lakecolor\":\"white\"},\"title\":{\"x\":0.05},\"mapbox\":{\"style\":\"light\"}}},\"xaxis\":{\"anchor\":\"y\",\"domain\":[0.0,0.2888888888888889],\"title\":{\"text\":\"alpha\"},\"type\":\"log\"},\"yaxis\":{\"anchor\":\"x\",\"domain\":[0.0,1.0],\"title\":{\"text\":\"Objective Value\"}},\"xaxis2\":{\"anchor\":\"y2\",\"domain\":[0.35555555555555557,0.6444444444444445],\"title\":{\"text\":\"beta\"},\"type\":\"log\"},\"yaxis2\":{\"anchor\":\"x2\",\"domain\":[0.0,1.0],\"matches\":\"y\",\"showticklabels\":false},\"xaxis3\":{\"anchor\":\"y3\",\"domain\":[0.7111111111111111,1.0],\"title\":{\"text\":\"topK\"},\"type\":\"log\"},\"yaxis3\":{\"anchor\":\"x3\",\"domain\":[0.0,1.0],\"matches\":\"y\",\"showticklabels\":false},\"title\":{\"text\":\"Slice Plot\"}},                        {\"responsive\": true}                    ).then(function(){\n",
       "                            \n",
       "var gd = document.getElementById('d89cfeb2-40f0-441a-b7d8-41dd087e01d0');\n",
       "var x = new MutationObserver(function (mutations, observer) {{\n",
       "        var display = window.getComputedStyle(gd).display;\n",
       "        if (!display || display === 'none') {{\n",
       "            console.log([gd, 'removed!']);\n",
       "            Plotly.purge(gd);\n",
       "            observer.disconnect();\n",
       "        }}\n",
       "}});\n",
       "\n",
       "// Listen for the removal of the full notebook cells\n",
       "var notebookContainer = gd.closest('#notebook-container');\n",
       "if (notebookContainer) {{\n",
       "    x.observe(notebookContainer, {childList: true});\n",
       "}}\n",
       "\n",
       "// Listen for the clearing of the current output cell\n",
       "var outputEl = gd.closest('.output');\n",
       "if (outputEl) {{\n",
       "    x.observe(outputEl, {childList: true});\n",
       "}}\n",
       "\n",
       "                        })                };                });            </script>        </div>"
      ]
     },
     "metadata": {},
     "output_type": "display_data"
    }
   ],
   "source": [
    "if config['tune_hybrid']:\n",
    "    fig = optuna.visualization.plot_slice(study)\n",
    "    fig.show()"
   ]
  },
  {
   "cell_type": "code",
   "execution_count": 37,
   "id": "601c2166",
   "metadata": {
    "execution": {
     "iopub.execute_input": "2023-11-24T18:40:17.668041Z",
     "iopub.status.busy": "2023-11-24T18:40:17.667417Z",
     "iopub.status.idle": "2023-11-24T18:40:18.525654Z",
     "shell.execute_reply": "2023-11-24T18:40:18.524358Z"
    },
    "papermill": {
     "duration": 0.927275,
     "end_time": "2023-11-24T18:40:18.528678",
     "exception": false,
     "start_time": "2023-11-24T18:40:17.601403",
     "status": "completed"
    },
    "tags": []
   },
   "outputs": [],
   "source": [
    "if config['save_github'] and (config['tune_precision'] or config['tune_hybrid']):\n",
    "    upload_file(\n",
    "        config['database_path'],\n",
    "        'tuning_results/tuning_hybrid_precision.db', \n",
    "        'Hybrid pipeline results(from kaggle notebook)'\n",
    "    )"
   ]
  }
 ],
 "metadata": {
  "kaggle": {
   "accelerator": "none",
   "dataSources": [
    {
     "databundleVersionId": 6919098,
     "sourceId": 62803,
     "sourceType": "competition"
    },
    {
     "sourceId": 152024796,
     "sourceType": "kernelVersion"
    }
   ],
   "dockerImageVersionId": 30587,
   "isGpuEnabled": false,
   "isInternetEnabled": true,
   "language": "python",
   "sourceType": "notebook"
  },
  "kernelspec": {
   "display_name": "Python 3",
   "language": "python",
   "name": "python3"
  },
  "language_info": {
   "codemirror_mode": {
    "name": "ipython",
    "version": 3
   },
   "file_extension": ".py",
   "mimetype": "text/x-python",
   "name": "python",
   "nbconvert_exporter": "python",
   "pygments_lexer": "ipython3",
   "version": "3.10.12"
  },
  "papermill": {
   "default_parameters": {},
   "duration": 15626.373773,
   "end_time": "2023-11-24T18:40:19.734302",
   "environment_variables": {},
   "exception": null,
   "input_path": "__notebook__.ipynb",
   "output_path": "__notebook__.ipynb",
   "parameters": {},
   "start_time": "2023-11-24T14:19:53.360529",
   "version": "2.4.0"
  }
 },
 "nbformat": 4,
 "nbformat_minor": 5
}
