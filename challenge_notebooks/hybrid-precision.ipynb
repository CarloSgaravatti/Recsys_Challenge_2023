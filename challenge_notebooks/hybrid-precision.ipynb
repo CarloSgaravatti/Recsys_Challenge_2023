{
 "cells": [
  {
   "cell_type": "code",
   "execution_count": 1,
   "id": "dad1bdb5",
   "metadata": {
    "_cell_guid": "b1076dfc-b9ad-4769-8c92-a6c4dae69d19",
    "_uuid": "8f2839f25d086af736a60e9eeb907d3b93b6e0e5",
    "execution": {
     "iopub.execute_input": "2023-11-25T10:54:11.532067Z",
     "iopub.status.busy": "2023-11-25T10:54:11.531325Z",
     "iopub.status.idle": "2023-11-25T10:54:13.748387Z",
     "shell.execute_reply": "2023-11-25T10:54:13.746608Z"
    },
    "papermill": {
     "duration": 2.2307,
     "end_time": "2023-11-25T10:54:13.751253",
     "exception": false,
     "start_time": "2023-11-25T10:54:11.520553",
     "status": "completed"
    },
    "tags": []
   },
   "outputs": [
    {
     "name": "stdout",
     "output_type": "stream",
     "text": [
      "Cloning into 'Recsys_Challenge_2023'...\r\n",
      "remote: Enumerating objects: 656, done.\u001b[K\r\n",
      "remote: Counting objects: 100% (86/86), done.\u001b[K\r\n",
      "remote: Compressing objects: 100% (85/85), done.\u001b[K\r\n",
      "remote: Total 656 (delta 63), reused 0 (delta 0), pack-reused 570\u001b[K\r\n",
      "Receiving objects: 100% (656/656), 13.46 MiB | 30.04 MiB/s, done.\r\n",
      "Resolving deltas: 100% (403/403), done.\r\n"
     ]
    }
   ],
   "source": [
    "from kaggle_secrets import UserSecretsClient\n",
    "secret_label = \"Token\"\n",
    "token = UserSecretsClient().get_secret(secret_label)\n",
    "\n",
    "! git clone https://{token}@github.com/CarloSgaravatti/Recsys_Challenge_2023.git"
   ]
  },
  {
   "cell_type": "code",
   "execution_count": 2,
   "id": "0a8425be",
   "metadata": {
    "execution": {
     "iopub.execute_input": "2023-11-25T10:54:13.769723Z",
     "iopub.status.busy": "2023-11-25T10:54:13.769339Z",
     "iopub.status.idle": "2023-11-25T10:54:25.452794Z",
     "shell.execute_reply": "2023-11-25T10:54:25.451728Z"
    },
    "papermill": {
     "duration": 11.695765,
     "end_time": "2023-11-25T10:54:25.455737",
     "exception": false,
     "start_time": "2023-11-25T10:54:13.759972",
     "status": "completed"
    },
    "tags": []
   },
   "outputs": [
    {
     "name": "stdout",
     "output_type": "stream",
     "text": [
      "Collecting PyGithub\r\n",
      "  Obtaining dependency information for PyGithub from https://files.pythonhosted.org/packages/be/04/810d131be173cba445d3658a45512b2b2b3d0960d52c4a300d6ec5e00f52/PyGithub-2.1.1-py3-none-any.whl.metadata\r\n",
      "  Downloading PyGithub-2.1.1-py3-none-any.whl.metadata (2.2 kB)\r\n",
      "Requirement already satisfied: requests in /opt/conda/lib/python3.10/site-packages (2.31.0)\r\n",
      "Collecting pynacl>=1.4.0 (from PyGithub)\r\n",
      "  Downloading PyNaCl-1.5.0-cp36-abi3-manylinux_2_17_x86_64.manylinux2014_x86_64.manylinux_2_24_x86_64.whl (856 kB)\r\n",
      "\u001b[2K     \u001b[90m━━━━━━━━━━━━━━━━━━━━━━━━━━━━━━━━━━━━━━\u001b[0m \u001b[32m856.7/856.7 kB\u001b[0m \u001b[31m16.8 MB/s\u001b[0m eta \u001b[36m0:00:00\u001b[0m\r\n",
      "\u001b[?25hRequirement already satisfied: python-dateutil in /opt/conda/lib/python3.10/site-packages (from PyGithub) (2.8.2)\r\n",
      "Requirement already satisfied: pyjwt[crypto]>=2.4.0 in /opt/conda/lib/python3.10/site-packages (from PyGithub) (2.8.0)\r\n",
      "Requirement already satisfied: typing-extensions>=4.0.0 in /opt/conda/lib/python3.10/site-packages (from PyGithub) (4.5.0)\r\n",
      "Requirement already satisfied: urllib3>=1.26.0 in /opt/conda/lib/python3.10/site-packages (from PyGithub) (1.26.15)\r\n",
      "Requirement already satisfied: Deprecated in /opt/conda/lib/python3.10/site-packages (from PyGithub) (1.2.14)\r\n",
      "Requirement already satisfied: charset-normalizer<4,>=2 in /opt/conda/lib/python3.10/site-packages (from requests) (3.2.0)\r\n",
      "Requirement already satisfied: idna<4,>=2.5 in /opt/conda/lib/python3.10/site-packages (from requests) (3.4)\r\n",
      "Requirement already satisfied: certifi>=2017.4.17 in /opt/conda/lib/python3.10/site-packages (from requests) (2023.7.22)\r\n",
      "Requirement already satisfied: cryptography>=3.4.0 in /opt/conda/lib/python3.10/site-packages (from pyjwt[crypto]>=2.4.0->PyGithub) (41.0.3)\r\n",
      "Requirement already satisfied: cffi>=1.4.1 in /opt/conda/lib/python3.10/site-packages (from pynacl>=1.4.0->PyGithub) (1.15.1)\r\n",
      "Requirement already satisfied: wrapt<2,>=1.10 in /opt/conda/lib/python3.10/site-packages (from Deprecated->PyGithub) (1.15.0)\r\n",
      "Requirement already satisfied: six>=1.5 in /opt/conda/lib/python3.10/site-packages (from python-dateutil->PyGithub) (1.16.0)\r\n",
      "Requirement already satisfied: pycparser in /opt/conda/lib/python3.10/site-packages (from cffi>=1.4.1->pynacl>=1.4.0->PyGithub) (2.21)\r\n",
      "Downloading PyGithub-2.1.1-py3-none-any.whl (302 kB)\r\n",
      "\u001b[2K   \u001b[90m━━━━━━━━━━━━━━━━━━━━━━━━━━━━━━━━━━━━━━━━\u001b[0m \u001b[32m302.9/302.9 kB\u001b[0m \u001b[31m25.8 MB/s\u001b[0m eta \u001b[36m0:00:00\u001b[0m\r\n",
      "\u001b[?25hInstalling collected packages: pynacl, PyGithub\r\n",
      "Successfully installed PyGithub-2.1.1 pynacl-1.5.0\r\n"
     ]
    }
   ],
   "source": [
    "! pip install PyGithub requests"
   ]
  },
  {
   "cell_type": "code",
   "execution_count": 3,
   "id": "3341967b",
   "metadata": {
    "_kg_hide-output": true,
    "execution": {
     "iopub.execute_input": "2023-11-25T10:54:25.477159Z",
     "iopub.status.busy": "2023-11-25T10:54:25.476742Z",
     "iopub.status.idle": "2023-11-25T10:56:11.923734Z",
     "shell.execute_reply": "2023-11-25T10:56:11.922981Z"
    },
    "papermill": {
     "duration": 106.460724,
     "end_time": "2023-11-25T10:56:11.926385",
     "exception": false,
     "start_time": "2023-11-25T10:54:25.465661",
     "status": "completed"
    },
    "scrolled": true,
    "tags": []
   },
   "outputs": [
    {
     "name": "stdout",
     "output_type": "stream",
     "text": [
      "run_compile_all_cython: Found 10 Cython files in 4 folders...\r\n",
      "run_compile_all_cython: All files will be compiled using your current python environment: '/opt/conda/bin/python'\r\n",
      "Compiling [1/10]: MatrixFactorizationImpressions_Cython_Epoch.pyx... \r\n",
      "In file included from \u001b[01m\u001b[K/opt/conda/lib/python3.10/site-packages/numpy/core/include/numpy/ndarraytypes.h:1940\u001b[m\u001b[K,\r\n",
      "                 from \u001b[01m\u001b[K/opt/conda/lib/python3.10/site-packages/numpy/core/include/numpy/ndarrayobject.h:12\u001b[m\u001b[K,\r\n",
      "                 from \u001b[01m\u001b[K/opt/conda/lib/python3.10/site-packages/numpy/core/include/numpy/arrayobject.h:5\u001b[m\u001b[K,\r\n",
      "                 from \u001b[01m\u001b[KMatrixFactorizationImpressions_Cython_Epoch.c:1109\u001b[m\u001b[K:\r\n",
      "\u001b[01m\u001b[K/opt/conda/lib/python3.10/site-packages/numpy/core/include/numpy/npy_1_7_deprecated_api.h:17:2:\u001b[m\u001b[K \u001b[01;35m\u001b[Kwarning: \u001b[m\u001b[K#warning \"Using deprecated NumPy API, disable it with \" \"#define NPY_NO_DEPRECATED_API NPY_1_7_API_VERSION\" [\u001b[01;35m\u001b[K-Wcpp\u001b[m\u001b[K]\r\n",
      "   17 | #\u001b[01;35m\u001b[Kwarning\u001b[m\u001b[K \"Using deprecated NumPy API, disable it with \" \\\r\n",
      "      |  \u001b[01;35m\u001b[K^~~~~~~\u001b[m\u001b[K\r\n",
      "\u001b[01m\u001b[KMatrixFactorizationImpressions_Cython_Epoch.c:\u001b[m\u001b[K In function ‘\u001b[01m\u001b[K__pyx_f_43MatrixFactorizationImpressions_Cython_Epoch_32MatrixFactorization_Cython_Epoch_sampleBPR_Cython\u001b[m\u001b[K’:\r\n",
      "\u001b[01m\u001b[KMatrixFactorizationImpressions_Cython_Epoch.c:29664:17:\u001b[m\u001b[K \u001b[01;35m\u001b[Kwarning: \u001b[m\u001b[K‘\u001b[01m\u001b[K__pyx_v_start_pos_impression_items\u001b[m\u001b[K’ may be used uninitialized in this function [\u001b[01;35m\u001b[K-Wmaybe-uninitialized\u001b[m\u001b[K]\r\n",
      "29664 |       \u001b[01;35m\u001b[K__pyx_t_4 = (__pyx_v_start_pos_impression_items + __pyx_v_index)\u001b[m\u001b[K;\r\n",
      "      |       \u001b[01;35m\u001b[K~~~~~~~~~~^~~~~~~~~~~~~~~~~~~~~~~~~~~~~~~~~~~~~~~~~~~~~~~~~~~~~~\u001b[m\u001b[K\r\n",
      "\u001b[01m\u001b[KMatrixFactorizationImpressions_Cython_Epoch.c:\u001b[m\u001b[K In function ‘\u001b[01m\u001b[K__pyx_pf_43MatrixFactorizationImpressions_Cython_Epoch_32MatrixFactorization_Cython_Epoch_10epochIteration_Cython_ASY_SVD_SGD\u001b[m\u001b[K’:\r\n",
      "\u001b[01m\u001b[KMatrixFactorizationImpressions_Cython_Epoch.c:25474:7:\u001b[m\u001b[K \u001b[01;35m\u001b[Kwarning: \u001b[m\u001b[K‘\u001b[01m\u001b[K__pyx_v_end_pos_seen_items\u001b[m\u001b[K’ may be used uninitialized in this function [\u001b[01;35m\u001b[K-Wmaybe-uninitialized\u001b[m\u001b[K]\r\n",
      "25474 |       \u001b[01;35m\u001b[Kfor\u001b[m\u001b[K (__pyx_t_21 = __pyx_v_start_pos_seen_items; __pyx_t_21 < __pyx_t_20; __pyx_t_21+=1) {\r\n",
      "      |       \u001b[01;35m\u001b[K^~~\u001b[m\u001b[K\r\n",
      "\u001b[01m\u001b[KMatrixFactorizationImpressions_Cython_Epoch.c:25474:7:\u001b[m\u001b[K \u001b[01;35m\u001b[Kwarning: \u001b[m\u001b[K‘\u001b[01m\u001b[K__pyx_v_start_pos_seen_items\u001b[m\u001b[K’ may be used uninitialized in this function [\u001b[01;35m\u001b[K-Wmaybe-uninitialized\u001b[m\u001b[K]\r\n",
      "/opt/conda/lib/python3.10/site-packages/Cython/Compiler/Main.py:381: FutureWarning: Cython directive 'language_level' not set, using '3str' for now (Py3). This has changed from earlier releases! File: /kaggle/working/Recsys_Challenge_2023/Recommenders/MatrixFactorization/Cython/MatrixFactorizationImpressions_Cython_Epoch.pyx\r\n",
      "  tree = Parsing.p_module(s, pxd, full_module_name)\r\n",
      "Compiling [1/10]: MatrixFactorizationImpressions_Cython_Epoch.pyx... PASS\r\n",
      "\r\n",
      "Compiling [2/10]: MatrixFactorization_Cython_Epoch.pyx... \r\n",
      "In file included from \u001b[01m\u001b[K/opt/conda/lib/python3.10/site-packages/numpy/core/include/numpy/ndarraytypes.h:1940\u001b[m\u001b[K,\r\n",
      "                 from \u001b[01m\u001b[K/opt/conda/lib/python3.10/site-packages/numpy/core/include/numpy/ndarrayobject.h:12\u001b[m\u001b[K,\r\n",
      "                 from \u001b[01m\u001b[K/opt/conda/lib/python3.10/site-packages/numpy/core/include/numpy/arrayobject.h:5\u001b[m\u001b[K,\r\n",
      "                 from \u001b[01m\u001b[KMatrixFactorization_Cython_Epoch.c:1109\u001b[m\u001b[K:\r\n",
      "\u001b[01m\u001b[K/opt/conda/lib/python3.10/site-packages/numpy/core/include/numpy/npy_1_7_deprecated_api.h:17:2:\u001b[m\u001b[K \u001b[01;35m\u001b[Kwarning: \u001b[m\u001b[K#warning \"Using deprecated NumPy API, disable it with \" \"#define NPY_NO_DEPRECATED_API NPY_1_7_API_VERSION\" [\u001b[01;35m\u001b[K-Wcpp\u001b[m\u001b[K]\r\n",
      "   17 | #\u001b[01;35m\u001b[Kwarning\u001b[m\u001b[K \"Using deprecated NumPy API, disable it with \" \\\r\n",
      "      |  \u001b[01;35m\u001b[K^~~~~~~\u001b[m\u001b[K\r\n",
      "\u001b[01m\u001b[KMatrixFactorization_Cython_Epoch.c:\u001b[m\u001b[K In function ‘\u001b[01m\u001b[K__pyx_pf_32MatrixFactorization_Cython_Epoch_32MatrixFactorization_Cython_Epoch_10epochIteration_Cython_ASY_SVD_SGD\u001b[m\u001b[K’:\r\n",
      "\u001b[01m\u001b[KMatrixFactorization_Cython_Epoch.c:25614:9:\u001b[m\u001b[K \u001b[01;35m\u001b[Kwarning: \u001b[m\u001b[K‘\u001b[01m\u001b[K__pyx_v_end_pos_seen_items\u001b[m\u001b[K’ may be used uninitialized in this function [\u001b[01;35m\u001b[K-Wmaybe-uninitialized\u001b[m\u001b[K]\r\n",
      "25614 |         \u001b[01;35m\u001b[Kfor\u001b[m\u001b[K (__pyx_t_21 = __pyx_v_start_pos_seen_items; __pyx_t_21 < __pyx_t_20; __pyx_t_21+=1) {\r\n",
      "      |         \u001b[01;35m\u001b[K^~~\u001b[m\u001b[K\r\n",
      "\u001b[01m\u001b[KMatrixFactorization_Cython_Epoch.c:25614:9:\u001b[m\u001b[K \u001b[01;35m\u001b[Kwarning: \u001b[m\u001b[K‘\u001b[01m\u001b[K__pyx_v_start_pos_seen_items\u001b[m\u001b[K’ may be used uninitialized in this function [\u001b[01;35m\u001b[K-Wmaybe-uninitialized\u001b[m\u001b[K]\r\n",
      "/opt/conda/lib/python3.10/site-packages/Cython/Compiler/Main.py:381: FutureWarning: Cython directive 'language_level' not set, using '3str' for now (Py3). This has changed from earlier releases! File: /kaggle/working/Recsys_Challenge_2023/Recommenders/MatrixFactorization/Cython/MatrixFactorization_Cython_Epoch.pyx\r\n",
      "  tree = Parsing.p_module(s, pxd, full_module_name)\r\n",
      "Compiling [2/10]: MatrixFactorization_Cython_Epoch.pyx... PASS\r\n",
      "\r\n",
      "Compiling [3/10]: Compute_Similarity_Cython.pyx... \r\n",
      "warning: Compute_Similarity_Cython.pyx:21:0: The 'IF' statement is deprecated and will be removed in a future Cython version. Consider using runtime conditions or C macros instead. See https://github.com/cython/cython/issues/4310\r\n",
      "warning: Compute_Similarity_Cython.pyx:22:4: The 'DEF' statement is deprecated and will be removed in a future Cython version. Consider using global variables, constants, and in-place literals instead. See https://github.com/cython/cython/issues/4310\r\n",
      "warning: Compute_Similarity_Cython.pyx:24:4: The 'DEF' statement is deprecated and will be removed in a future Cython version. Consider using global variables, constants, and in-place literals instead. See https://github.com/cython/cython/issues/4310\r\n",
      "warning: Compute_Similarity_Cython.pyx:26:4: The 'DEF' statement is deprecated and will be removed in a future Cython version. Consider using global variables, constants, and in-place literals instead. See https://github.com/cython/cython/issues/4310\r\n",
      "In file included from \u001b[01m\u001b[K/opt/conda/lib/python3.10/site-packages/numpy/core/include/numpy/ndarraytypes.h:1940\u001b[m\u001b[K,\r\n",
      "                 from \u001b[01m\u001b[K/opt/conda/lib/python3.10/site-packages/numpy/core/include/numpy/ndarrayobject.h:12\u001b[m\u001b[K,\r\n",
      "                 from \u001b[01m\u001b[K/opt/conda/lib/python3.10/site-packages/numpy/core/include/numpy/arrayobject.h:5\u001b[m\u001b[K,\r\n",
      "                 from \u001b[01m\u001b[KCompute_Similarity_Cython.c:1109\u001b[m\u001b[K:\r\n",
      "\u001b[01m\u001b[K/opt/conda/lib/python3.10/site-packages/numpy/core/include/numpy/npy_1_7_deprecated_api.h:17:2:\u001b[m\u001b[K \u001b[01;35m\u001b[Kwarning: \u001b[m\u001b[K#warning \"Using deprecated NumPy API, disable it with \" \"#define NPY_NO_DEPRECATED_API NPY_1_7_API_VERSION\" [\u001b[01;35m\u001b[K-Wcpp\u001b[m\u001b[K]\r\n",
      "   17 | #\u001b[01;35m\u001b[Kwarning\u001b[m\u001b[K \"Using deprecated NumPy API, disable it with \" \\\r\n",
      "      |  \u001b[01;35m\u001b[K^~~~~~~\u001b[m\u001b[K\r\n",
      "/opt/conda/lib/python3.10/site-packages/Cython/Compiler/Main.py:381: FutureWarning: Cython directive 'language_level' not set, using '3str' for now (Py3). This has changed from earlier releases! File: /kaggle/working/Recsys_Challenge_2023/Recommenders/Similarity/Cython/Compute_Similarity_Cython.pyx\r\n",
      "  tree = Parsing.p_module(s, pxd, full_module_name)\r\n",
      "warning: Compute_Similarity_Cython.pyx:21:0: The 'IF' statement is deprecated and will be removed in a future Cython version. Consider using runtime conditions or C macros instead. See https://github.com/cython/cython/issues/4310\r\n",
      "warning: Compute_Similarity_Cython.pyx:22:4: The 'DEF' statement is deprecated and will be removed in a future Cython version. Consider using global variables, constants, and in-place literals instead. See https://github.com/cython/cython/issues/4310\r\n",
      "warning: Compute_Similarity_Cython.pyx:24:4: The 'DEF' statement is deprecated and will be removed in a future Cython version. Consider using global variables, constants, and in-place literals instead. See https://github.com/cython/cython/issues/4310\r\n",
      "warning: Compute_Similarity_Cython.pyx:26:4: The 'DEF' statement is deprecated and will be removed in a future Cython version. Consider using global variables, constants, and in-place literals instead. See https://github.com/cython/cython/issues/4310\r\n",
      "Compiling [3/10]: Compute_Similarity_Cython.pyx... PASS\r\n",
      "\r\n",
      "Compiling [4/10]: SLIM_BPR_Cython_Epoch.pyx... \r\n",
      "warning: SLIM_BPR_Cython_Epoch.pyx:24:0: The 'IF' statement is deprecated and will be removed in a future Cython version. Consider using runtime conditions or C macros instead. See https://github.com/cython/cython/issues/4310\r\n",
      "warning: SLIM_BPR_Cython_Epoch.pyx:25:4: The 'DEF' statement is deprecated and will be removed in a future Cython version. Consider using global variables, constants, and in-place literals instead. See https://github.com/cython/cython/issues/4310\r\n",
      "warning: SLIM_BPR_Cython_Epoch.pyx:27:4: The 'DEF' statement is deprecated and will be removed in a future Cython version. Consider using global variables, constants, and in-place literals instead. See https://github.com/cython/cython/issues/4310\r\n",
      "warning: SLIM_BPR_Cython_Epoch.pyx:29:4: The 'DEF' statement is deprecated and will be removed in a future Cython version. Consider using global variables, constants, and in-place literals instead. See https://github.com/cython/cython/issues/4310\r\n",
      "warning: SLIM_BPR_Cython_Epoch.pyx:632:34: Non-trivial type declarators in shared declaration (e.g. mix of pointers and values). Each pointer declaration should be on its own line.\r\n",
      "warning: SLIM_BPR_Cython_Epoch.pyx:632:66: Non-trivial type declarators in shared declaration (e.g. mix of pointers and values). Each pointer declaration should be on its own line.\r\n",
      "warning: SLIM_BPR_Cython_Epoch.pyx:817:35: Non-trivial type declarators in shared declaration (e.g. mix of pointers and values). Each pointer declaration should be on its own line.\r\n",
      "warning: SLIM_BPR_Cython_Epoch.pyx:817:52: Non-trivial type declarators in shared declaration (e.g. mix of pointers and values). Each pointer declaration should be on its own line.\r\n",
      "warning: SLIM_BPR_Cython_Epoch.pyx:916:35: Non-trivial type declarators in shared declaration (e.g. mix of pointers and values). Each pointer declaration should be on its own line.\r\n",
      "warning: SLIM_BPR_Cython_Epoch.pyx:916:53: Non-trivial type declarators in shared declaration (e.g. mix of pointers and values). Each pointer declaration should be on its own line.\r\n",
      "warning: SLIM_BPR_Cython_Epoch.pyx:916:69: Non-trivial type declarators in shared declaration (e.g. mix of pointers and values). Each pointer declaration should be on its own line.\r\n",
      "warning: SLIM_BPR_Cython_Epoch.pyx:1051:35: Non-trivial type declarators in shared declaration (e.g. mix of pointers and values). Each pointer declaration should be on its own line.\r\n",
      "warning: SLIM_BPR_Cython_Epoch.pyx:1051:42: Non-trivial type declarators in shared declaration (e.g. mix of pointers and values). Each pointer declaration should be on its own line.\r\n",
      "warning: SLIM_BPR_Cython_Epoch.pyx:1052:35: Non-trivial type declarators in shared declaration (e.g. mix of pointers and values). Each pointer declaration should be on its own line.\r\n",
      "warning: SLIM_BPR_Cython_Epoch.pyx:1052:53: Non-trivial type declarators in shared declaration (e.g. mix of pointers and values). Each pointer declaration should be on its own line.\r\n",
      "\r\n",
      "Error compiling Cython file:\r\n",
      "------------------------------------------------------------\r\n",
      "...\r\n",
      "            vector_pointer_to_list_elements[index].head = current_element\r\n",
      "            current_element = current_element.higher\r\n",
      "\r\n",
      "\r\n",
      "        # Sort array elements on their data field\r\n",
      "        qsort(vector_pointer_to_list_elements, list_length, sizeof(head_pointer_tree_s), compare_struct_on_data)\r\n",
      "                                                                                         ^\r\n",
      "------------------------------------------------------------\r\n",
      "\r\n",
      "SLIM_BPR_Cython_Epoch.pyx:990:89: Cannot assign type 'int (const void *, const void *) except? -1' to 'int (*)(const_void *, const_void *) noexcept'\r\n",
      "\r\n",
      "Error compiling Cython file:\r\n",
      "------------------------------------------------------------\r\n",
      "...\r\n",
      "        # Sort array elements on their data field\r\n",
      "        qsort(vector_pointer_to_list_elements, list_length, sizeof(head_pointer_tree_s), compare_struct_on_data)\r\n",
      "\r\n",
      "        # Sort only the TopK according to their column field\r\n",
      "        # Sort is from lower to higher, therefore the elements to be considered are from len-topK to len\r\n",
      "        qsort(&vector_pointer_to_list_elements[list_length-TopK], TopK, sizeof(head_pointer_tree_s), compare_struct_on_column)\r\n",
      "                                                                                                     ^\r\n",
      "------------------------------------------------------------\r\n",
      "\r\n",
      "SLIM_BPR_Cython_Epoch.pyx:994:101: Cannot assign type 'int (const void *, const void *) except? -1' to 'int (*)(const_void *, const_void *) noexcept'\r\n",
      "Traceback (most recent call last):\r\n",
      "  File \"/kaggle/working/Recsys_Challenge_2023/CythonCompiler/compile_script.py\", line 48, in <module>\r\n",
      "    setup(\r\n",
      "  File \"/opt/conda/lib/python3.10/site-packages/setuptools/__init__.py\", line 107, in setup\r\n",
      "    return distutils.core.setup(**attrs)\r\n",
      "  File \"/opt/conda/lib/python3.10/site-packages/setuptools/_distutils/core.py\", line 185, in setup\r\n",
      "    return run_commands(dist)\r\n",
      "  File \"/opt/conda/lib/python3.10/site-packages/setuptools/_distutils/core.py\", line 201, in run_commands\r\n",
      "    dist.run_commands()\r\n",
      "  File \"/opt/conda/lib/python3.10/site-packages/setuptools/_distutils/dist.py\", line 969, in run_commands\r\n",
      "    self.run_command(cmd)\r\n",
      "  File \"/opt/conda/lib/python3.10/site-packages/setuptools/dist.py\", line 1233, in run_command\r\n",
      "    super().run_command(command)\r\n",
      "  File \"/opt/conda/lib/python3.10/site-packages/setuptools/_distutils/dist.py\", line 988, in run_command\r\n",
      "    cmd_obj.run()\r\n",
      "  File \"/opt/conda/lib/python3.10/site-packages/setuptools/_distutils/command/build_ext.py\", line 345, in run\r\n",
      "    self.build_extensions()\r\n",
      "  File \"/opt/conda/lib/python3.10/site-packages/setuptools/_distutils/command/build_ext.py\", line 467, in build_extensions\r\n",
      "    self._build_extensions_serial()\r\n",
      "  File \"/opt/conda/lib/python3.10/site-packages/setuptools/_distutils/command/build_ext.py\", line 493, in _build_extensions_serial\r\n",
      "    self.build_extension(ext)\r\n",
      "  File \"/opt/conda/lib/python3.10/site-packages/Cython/Distutils/build_ext.py\", line 122, in build_extension\r\n",
      "    new_ext = cythonize(\r\n",
      "  File \"/opt/conda/lib/python3.10/site-packages/Cython/Build/Dependencies.py\", line 1134, in cythonize\r\n",
      "    cythonize_one(*args)\r\n",
      "  File \"/opt/conda/lib/python3.10/site-packages/Cython/Build/Dependencies.py\", line 1301, in cythonize_one\r\n",
      "    raise CompileError(None, pyx_file)\r\n",
      "Cython.Compiler.Errors.CompileError: SLIM_BPR_Cython_Epoch.pyx\r\n",
      "Traceback (most recent call last):\r\n",
      "  File \"/kaggle/working/Recsys_Challenge_2023/run_compile_all_cython.py\", line 59, in <module>\r\n",
      "    run_compile_subprocess(file_path, [file_name])\r\n",
      "  File \"/kaggle/working/Recsys_Challenge_2023/CythonCompiler/run_compile_subprocess.py\", line 51, in run_compile_subprocess\r\n",
      "    raise exc\r\n",
      "  File \"/kaggle/working/Recsys_Challenge_2023/CythonCompiler/run_compile_subprocess.py\", line 32, in run_compile_subprocess\r\n",
      "    output = subprocess.check_output(' '.join(command),\r\n",
      "  File \"/opt/conda/lib/python3.10/subprocess.py\", line 421, in check_output\r\n",
      "    return run(*popenargs, stdout=PIPE, timeout=timeout, check=True,\r\n",
      "  File \"/opt/conda/lib/python3.10/subprocess.py\", line 526, in run\r\n",
      "    raise CalledProcessError(retcode, process.args,\r\n",
      "subprocess.CalledProcessError: Command '/opt/conda/bin/python /kaggle/working/Recsys_Challenge_2023/CythonCompiler/compile_script.py SLIM_BPR_Cython_Epoch.pyx build_ext --inplace' returned non-zero exit status 1.\r\n",
      "Compiling [4/10]: SLIM_BPR_Cython_Epoch.pyx... FAIL: Command '/opt/conda/bin/python /kaggle/working/Recsys_Challenge_2023/CythonCompiler/compile_script.py SLIM_BPR_Cython_Epoch.pyx build_ext --inplace' returned non-zero exit status 1.\r\n",
      "\r\n",
      "Compiling [5/10]: Triangular_Matrix.pyx... \r\n",
      "warning: Triangular_Matrix.pyx:22:0: The 'IF' statement is deprecated and will be removed in a future Cython version. Consider using runtime conditions or C macros instead. See https://github.com/cython/cython/issues/4310\r\n",
      "warning: Triangular_Matrix.pyx:23:4: The 'DEF' statement is deprecated and will be removed in a future Cython version. Consider using global variables, constants, and in-place literals instead. See https://github.com/cython/cython/issues/4310\r\n",
      "warning: Triangular_Matrix.pyx:25:4: The 'DEF' statement is deprecated and will be removed in a future Cython version. Consider using global variables, constants, and in-place literals instead. See https://github.com/cython/cython/issues/4310\r\n",
      "warning: Triangular_Matrix.pyx:27:4: The 'DEF' statement is deprecated and will be removed in a future Cython version. Consider using global variables, constants, and in-place literals instead. See https://github.com/cython/cython/issues/4310\r\n",
      "In file included from \u001b[01m\u001b[K/opt/conda/lib/python3.10/site-packages/numpy/core/include/numpy/ndarraytypes.h:1940\u001b[m\u001b[K,\r\n",
      "                 from \u001b[01m\u001b[K/opt/conda/lib/python3.10/site-packages/numpy/core/include/numpy/ndarrayobject.h:12\u001b[m\u001b[K,\r\n",
      "                 from \u001b[01m\u001b[K/opt/conda/lib/python3.10/site-packages/numpy/core/include/numpy/arrayobject.h:5\u001b[m\u001b[K,\r\n",
      "                 from \u001b[01m\u001b[KTriangular_Matrix.c:1109\u001b[m\u001b[K:\r\n",
      "\u001b[01m\u001b[K/opt/conda/lib/python3.10/site-packages/numpy/core/include/numpy/npy_1_7_deprecated_api.h:17:2:\u001b[m\u001b[K \u001b[01;35m\u001b[Kwarning: \u001b[m\u001b[K#warning \"Using deprecated NumPy API, disable it with \" \"#define NPY_NO_DEPRECATED_API NPY_1_7_API_VERSION\" [\u001b[01;35m\u001b[K-Wcpp\u001b[m\u001b[K]\r\n",
      "   17 | #\u001b[01;35m\u001b[Kwarning\u001b[m\u001b[K \"Using deprecated NumPy API, disable it with \" \\\r\n",
      "      |  \u001b[01;35m\u001b[K^~~~~~~\u001b[m\u001b[K\r\n",
      "/opt/conda/lib/python3.10/site-packages/Cython/Compiler/Main.py:381: FutureWarning: Cython directive 'language_level' not set, using '3str' for now (Py3). This has changed from earlier releases! File: /kaggle/working/Recsys_Challenge_2023/Recommenders/SLIM/Cython/Triangular_Matrix.pyx\r\n",
      "  tree = Parsing.p_module(s, pxd, full_module_name)\r\n",
      "warning: Triangular_Matrix.pyx:22:0: The 'IF' statement is deprecated and will be removed in a future Cython version. Consider using runtime conditions or C macros instead. See https://github.com/cython/cython/issues/4310\r\n",
      "warning: Triangular_Matrix.pyx:23:4: The 'DEF' statement is deprecated and will be removed in a future Cython version. Consider using global variables, constants, and in-place literals instead. See https://github.com/cython/cython/issues/4310\r\n",
      "warning: Triangular_Matrix.pyx:25:4: The 'DEF' statement is deprecated and will be removed in a future Cython version. Consider using global variables, constants, and in-place literals instead. See https://github.com/cython/cython/issues/4310\r\n",
      "warning: Triangular_Matrix.pyx:27:4: The 'DEF' statement is deprecated and will be removed in a future Cython version. Consider using global variables, constants, and in-place literals instead. See https://github.com/cython/cython/issues/4310\r\n",
      "Compiling [5/10]: Triangular_Matrix.pyx... PASS\r\n",
      "\r\n",
      "Compiling [6/10]: Sparse_Matrix_Tree_CSR.pyx... \r\n",
      "warning: Sparse_Matrix_Tree_CSR.pyx:132:34: Non-trivial type declarators in shared declaration (e.g. mix of pointers and values). Each pointer declaration should be on its own line.\r\n",
      "warning: Sparse_Matrix_Tree_CSR.pyx:132:66: Non-trivial type declarators in shared declaration (e.g. mix of pointers and values). Each pointer declaration should be on its own line.\r\n",
      "warning: Sparse_Matrix_Tree_CSR.pyx:343:35: Non-trivial type declarators in shared declaration (e.g. mix of pointers and values). Each pointer declaration should be on its own line.\r\n",
      "warning: Sparse_Matrix_Tree_CSR.pyx:343:52: Non-trivial type declarators in shared declaration (e.g. mix of pointers and values). Each pointer declaration should be on its own line.\r\n",
      "warning: Sparse_Matrix_Tree_CSR.pyx:442:35: Non-trivial type declarators in shared declaration (e.g. mix of pointers and values). Each pointer declaration should be on its own line.\r\n",
      "warning: Sparse_Matrix_Tree_CSR.pyx:442:53: Non-trivial type declarators in shared declaration (e.g. mix of pointers and values). Each pointer declaration should be on its own line.\r\n",
      "warning: Sparse_Matrix_Tree_CSR.pyx:442:69: Non-trivial type declarators in shared declaration (e.g. mix of pointers and values). Each pointer declaration should be on its own line.\r\n",
      "warning: Sparse_Matrix_Tree_CSR.pyx:577:35: Non-trivial type declarators in shared declaration (e.g. mix of pointers and values). Each pointer declaration should be on its own line.\r\n",
      "warning: Sparse_Matrix_Tree_CSR.pyx:577:42: Non-trivial type declarators in shared declaration (e.g. mix of pointers and values). Each pointer declaration should be on its own line.\r\n",
      "warning: Sparse_Matrix_Tree_CSR.pyx:578:35: Non-trivial type declarators in shared declaration (e.g. mix of pointers and values). Each pointer declaration should be on its own line.\r\n",
      "warning: Sparse_Matrix_Tree_CSR.pyx:578:53: Non-trivial type declarators in shared declaration (e.g. mix of pointers and values). Each pointer declaration should be on its own line.\r\n",
      "\r\n",
      "Error compiling Cython file:\r\n",
      "------------------------------------------------------------\r\n",
      "...\r\n",
      "            vector_pointer_to_list_elements[index].head = current_element\r\n",
      "            current_element = current_element.higher\r\n",
      "\r\n",
      "\r\n",
      "        # Sort array elements on their data field\r\n",
      "        qsort(vector_pointer_to_list_elements, list_length, sizeof(head_pointer_tree_s), compare_struct_on_data)\r\n",
      "                                                                                         ^\r\n",
      "------------------------------------------------------------\r\n",
      "\r\n",
      "Sparse_Matrix_Tree_CSR.pyx:516:89: Cannot assign type 'int (const void *, const void *) except? -1' to 'int (*)(const_void *, const_void *) noexcept'\r\n",
      "\r\n",
      "Error compiling Cython file:\r\n",
      "------------------------------------------------------------\r\n",
      "...\r\n",
      "        # Sort array elements on their data field\r\n",
      "        qsort(vector_pointer_to_list_elements, list_length, sizeof(head_pointer_tree_s), compare_struct_on_data)\r\n",
      "\r\n",
      "        # Sort only the TopK according to their column field\r\n",
      "        # Sort is from lower to higher, therefore the elements to be considered are from len-topK to len\r\n",
      "        qsort(&vector_pointer_to_list_elements[list_length-TopK], TopK, sizeof(head_pointer_tree_s), compare_struct_on_column)\r\n",
      "                                                                                                     ^\r\n",
      "------------------------------------------------------------\r\n",
      "\r\n",
      "Sparse_Matrix_Tree_CSR.pyx:520:101: Cannot assign type 'int (const void *, const void *) except? -1' to 'int (*)(const_void *, const_void *) noexcept'\r\n",
      "Traceback (most recent call last):\r\n",
      "  File \"/kaggle/working/Recsys_Challenge_2023/CythonCompiler/compile_script.py\", line 48, in <module>\r\n",
      "    setup(\r\n",
      "  File \"/opt/conda/lib/python3.10/site-packages/setuptools/__init__.py\", line 107, in setup\r\n",
      "    return distutils.core.setup(**attrs)\r\n",
      "  File \"/opt/conda/lib/python3.10/site-packages/setuptools/_distutils/core.py\", line 185, in setup\r\n",
      "    return run_commands(dist)\r\n",
      "  File \"/opt/conda/lib/python3.10/site-packages/setuptools/_distutils/core.py\", line 201, in run_commands\r\n",
      "    dist.run_commands()\r\n",
      "  File \"/opt/conda/lib/python3.10/site-packages/setuptools/_distutils/dist.py\", line 969, in run_commands\r\n",
      "    self.run_command(cmd)\r\n",
      "  File \"/opt/conda/lib/python3.10/site-packages/setuptools/dist.py\", line 1233, in run_command\r\n",
      "    super().run_command(command)\r\n",
      "  File \"/opt/conda/lib/python3.10/site-packages/setuptools/_distutils/dist.py\", line 988, in run_command\r\n",
      "    cmd_obj.run()\r\n",
      "  File \"/opt/conda/lib/python3.10/site-packages/setuptools/_distutils/command/build_ext.py\", line 345, in run\r\n",
      "    self.build_extensions()\r\n",
      "  File \"/opt/conda/lib/python3.10/site-packages/setuptools/_distutils/command/build_ext.py\", line 467, in build_extensions\r\n",
      "    self._build_extensions_serial()\r\n",
      "  File \"/opt/conda/lib/python3.10/site-packages/setuptools/_distutils/command/build_ext.py\", line 493, in _build_extensions_serial\r\n",
      "    self.build_extension(ext)\r\n",
      "  File \"/opt/conda/lib/python3.10/site-packages/Cython/Distutils/build_ext.py\", line 122, in build_extension\r\n",
      "    new_ext = cythonize(\r\n",
      "  File \"/opt/conda/lib/python3.10/site-packages/Cython/Build/Dependencies.py\", line 1134, in cythonize\r\n",
      "    cythonize_one(*args)\r\n",
      "  File \"/opt/conda/lib/python3.10/site-packages/Cython/Build/Dependencies.py\", line 1301, in cythonize_one\r\n",
      "    raise CompileError(None, pyx_file)\r\n",
      "Cython.Compiler.Errors.CompileError: Sparse_Matrix_Tree_CSR.pyx\r\n",
      "Traceback (most recent call last):\r\n",
      "  File \"/kaggle/working/Recsys_Challenge_2023/run_compile_all_cython.py\", line 59, in <module>\r\n",
      "    run_compile_subprocess(file_path, [file_name])\r\n",
      "  File \"/kaggle/working/Recsys_Challenge_2023/CythonCompiler/run_compile_subprocess.py\", line 51, in run_compile_subprocess\r\n",
      "    raise exc\r\n",
      "  File \"/kaggle/working/Recsys_Challenge_2023/CythonCompiler/run_compile_subprocess.py\", line 32, in run_compile_subprocess\r\n",
      "    output = subprocess.check_output(' '.join(command),\r\n",
      "  File \"/opt/conda/lib/python3.10/subprocess.py\", line 421, in check_output\r\n",
      "    return run(*popenargs, stdout=PIPE, timeout=timeout, check=True,\r\n",
      "  File \"/opt/conda/lib/python3.10/subprocess.py\", line 526, in run\r\n",
      "    raise CalledProcessError(retcode, process.args,\r\n",
      "subprocess.CalledProcessError: Command '/opt/conda/bin/python /kaggle/working/Recsys_Challenge_2023/CythonCompiler/compile_script.py Sparse_Matrix_Tree_CSR.pyx build_ext --inplace' returned non-zero exit status 1.\r\n",
      "Compiling [6/10]: Sparse_Matrix_Tree_CSR.pyx... FAIL: Command '/opt/conda/bin/python /kaggle/working/Recsys_Challenge_2023/CythonCompiler/compile_script.py Sparse_Matrix_Tree_CSR.pyx build_ext --inplace' returned non-zero exit status 1.\r\n",
      "\r\n",
      "Compiling [7/10]: FBSM_Rating_Cython_SGD.pyx... \r\n",
      "In file included from \u001b[01m\u001b[K/opt/conda/lib/python3.10/site-packages/numpy/core/include/numpy/ndarraytypes.h:1940\u001b[m\u001b[K,\r\n",
      "                 from \u001b[01m\u001b[K/opt/conda/lib/python3.10/site-packages/numpy/core/include/numpy/ndarrayobject.h:12\u001b[m\u001b[K,\r\n",
      "                 from \u001b[01m\u001b[K/opt/conda/lib/python3.10/site-packages/numpy/core/include/numpy/arrayobject.h:5\u001b[m\u001b[K,\r\n",
      "                 from \u001b[01m\u001b[KFBSM_Rating_Cython_SGD.c:1109\u001b[m\u001b[K:\r\n",
      "\u001b[01m\u001b[K/opt/conda/lib/python3.10/site-packages/numpy/core/include/numpy/npy_1_7_deprecated_api.h:17:2:\u001b[m\u001b[K \u001b[01;35m\u001b[Kwarning: \u001b[m\u001b[K#warning \"Using deprecated NumPy API, disable it with \" \"#define NPY_NO_DEPRECATED_API NPY_1_7_API_VERSION\" [\u001b[01;35m\u001b[K-Wcpp\u001b[m\u001b[K]\r\n",
      "   17 | #\u001b[01;35m\u001b[Kwarning\u001b[m\u001b[K \"Using deprecated NumPy API, disable it with \" \\\r\n",
      "      |  \u001b[01;35m\u001b[K^~~~~~~\u001b[m\u001b[K\r\n",
      "\u001b[01m\u001b[KFBSM_Rating_Cython_SGD.c:\u001b[m\u001b[K In function ‘\u001b[01m\u001b[K__pyx_pf_22FBSM_Rating_Cython_SGD_22FBSM_Rating_Cython_SGD_2fit\u001b[m\u001b[K’:\r\n",
      "\u001b[01m\u001b[KFBSM_Rating_Cython_SGD.c:26038:55:\u001b[m\u001b[K \u001b[01;35m\u001b[Kwarning: \u001b[m\u001b[K‘\u001b[01m\u001b[K__pyx_v_num_sample\u001b[m\u001b[K’ may be used uninitialized in this function [\u001b[01;35m\u001b[K-Wmaybe-uninitialized\u001b[m\u001b[K]\r\n",
      "26038 |   __pyx_t_5 = PyFloat_FromDouble((__pyx_v_cum_loss / \u001b[01;35m\u001b[K((double)__pyx_v_num_sample)\u001b[m\u001b[K)); if (unlikely(!__pyx_t_5)) __PYX_ERR(0, 551, __pyx_L1_error)\r\n",
      "      |                                                      \u001b[01;35m\u001b[K~^~~~~~~~~~~~~~~~~~~~~~~~~~~\u001b[m\u001b[K\r\n",
      "/opt/conda/lib/python3.10/site-packages/Cython/Compiler/Main.py:381: FutureWarning: Cython directive 'language_level' not set, using '3str' for now (Py3). This has changed from earlier releases! File: /kaggle/working/Recsys_Challenge_2023/Recommenders/FeatureWeighting/Cython/FBSM_Rating_Cython_SGD.pyx\r\n",
      "  tree = Parsing.p_module(s, pxd, full_module_name)\r\n",
      "Compiling [7/10]: FBSM_Rating_Cython_SGD.pyx... PASS\r\n",
      "\r\n",
      "Compiling [8/10]: CFW_D_Similarity_Cython_SGD.pyx... \r\n",
      "In file included from \u001b[01m\u001b[K/opt/conda/lib/python3.10/site-packages/numpy/core/include/numpy/ndarraytypes.h:1940\u001b[m\u001b[K,\r\n",
      "                 from \u001b[01m\u001b[K/opt/conda/lib/python3.10/site-packages/numpy/core/include/numpy/ndarrayobject.h:12\u001b[m\u001b[K,\r\n",
      "                 from \u001b[01m\u001b[K/opt/conda/lib/python3.10/site-packages/numpy/core/include/numpy/arrayobject.h:5\u001b[m\u001b[K,\r\n",
      "                 from \u001b[01m\u001b[KCFW_D_Similarity_Cython_SGD.c:1109\u001b[m\u001b[K:\r\n",
      "\u001b[01m\u001b[K/opt/conda/lib/python3.10/site-packages/numpy/core/include/numpy/npy_1_7_deprecated_api.h:17:2:\u001b[m\u001b[K \u001b[01;35m\u001b[Kwarning: \u001b[m\u001b[K#warning \"Using deprecated NumPy API, disable it with \" \"#define NPY_NO_DEPRECATED_API NPY_1_7_API_VERSION\" [\u001b[01;35m\u001b[K-Wcpp\u001b[m\u001b[K]\r\n",
      "   17 | #\u001b[01;35m\u001b[Kwarning\u001b[m\u001b[K \"Using deprecated NumPy API, disable it with \" \\\r\n",
      "      |  \u001b[01;35m\u001b[K^~~~~~~\u001b[m\u001b[K\r\n",
      "\u001b[01m\u001b[KCFW_D_Similarity_Cython_SGD.c:\u001b[m\u001b[K In function ‘\u001b[01m\u001b[K__pyx_pf_27CFW_D_Similarity_Cython_SGD_27CFW_D_Similarity_Cython_SGD_6fit\u001b[m\u001b[K’:\r\n",
      "\u001b[01m\u001b[KCFW_D_Similarity_Cython_SGD.c:22766:55:\u001b[m\u001b[K \u001b[01;35m\u001b[Kwarning: \u001b[m\u001b[K‘\u001b[01m\u001b[K__pyx_v_sample_num\u001b[m\u001b[K’ may be used uninitialized in this function [\u001b[01;35m\u001b[K-Wmaybe-uninitialized\u001b[m\u001b[K]\r\n",
      "22766 |   __pyx_t_3 = PyFloat_FromDouble((__pyx_v_cum_loss / \u001b[01;35m\u001b[K((double)__pyx_v_sample_num)\u001b[m\u001b[K)); if (unlikely(!__pyx_t_3)) __PYX_ERR(0, 290, __pyx_L1_error)\r\n",
      "      |                                                      \u001b[01;35m\u001b[K~^~~~~~~~~~~~~~~~~~~~~~~~~~~\u001b[m\u001b[K\r\n",
      "/opt/conda/lib/python3.10/site-packages/Cython/Compiler/Main.py:381: FutureWarning: Cython directive 'language_level' not set, using '3str' for now (Py3). This has changed from earlier releases! File: /kaggle/working/Recsys_Challenge_2023/Recommenders/FeatureWeighting/Cython/CFW_D_Similarity_Cython_SGD.pyx\r\n",
      "  tree = Parsing.p_module(s, pxd, full_module_name)\r\n",
      "Compiling [8/10]: CFW_D_Similarity_Cython_SGD.pyx... PASS\r\n",
      "\r\n",
      "Compiling [9/10]: CFW_DVV_Similarity_Cython_SGD.pyx... \r\n",
      "In file included from \u001b[01m\u001b[K/opt/conda/lib/python3.10/site-packages/numpy/core/include/numpy/ndarraytypes.h:1940\u001b[m\u001b[K,\r\n",
      "                 from \u001b[01m\u001b[K/opt/conda/lib/python3.10/site-packages/numpy/core/include/numpy/ndarrayobject.h:12\u001b[m\u001b[K,\r\n",
      "                 from \u001b[01m\u001b[K/opt/conda/lib/python3.10/site-packages/numpy/core/include/numpy/arrayobject.h:5\u001b[m\u001b[K,\r\n",
      "                 from \u001b[01m\u001b[KCFW_DVV_Similarity_Cython_SGD.c:1109\u001b[m\u001b[K:\r\n",
      "\u001b[01m\u001b[K/opt/conda/lib/python3.10/site-packages/numpy/core/include/numpy/npy_1_7_deprecated_api.h:17:2:\u001b[m\u001b[K \u001b[01;35m\u001b[Kwarning: \u001b[m\u001b[K#warning \"Using deprecated NumPy API, disable it with \" \"#define NPY_NO_DEPRECATED_API NPY_1_7_API_VERSION\" [\u001b[01;35m\u001b[K-Wcpp\u001b[m\u001b[K]\r\n",
      "   17 | #\u001b[01;35m\u001b[Kwarning\u001b[m\u001b[K \"Using deprecated NumPy API, disable it with \" \\\r\n",
      "      |  \u001b[01;35m\u001b[K^~~~~~~\u001b[m\u001b[K\r\n",
      "/opt/conda/lib/python3.10/site-packages/Cython/Compiler/Main.py:381: FutureWarning: Cython directive 'language_level' not set, using '3str' for now (Py3). This has changed from earlier releases! File: /kaggle/working/Recsys_Challenge_2023/Recommenders/FeatureWeighting/Cython/CFW_DVV_Similarity_Cython_SGD.pyx\r\n",
      "  tree = Parsing.p_module(s, pxd, full_module_name)\r\n",
      "Compiling [9/10]: CFW_DVV_Similarity_Cython_SGD.pyx... PASS\r\n",
      "\r\n",
      "Compiling [10/10]: HP3_Similarity_Cython_SGD.pyx... \r\n",
      "warning: HP3_Similarity_Cython_SGD.pyx:113:40: Index should be typed for more efficient access\r\n",
      "In file included from \u001b[01m\u001b[K/opt/conda/lib/python3.10/site-packages/numpy/core/include/numpy/ndarraytypes.h:1940\u001b[m\u001b[K,\r\n",
      "                 from \u001b[01m\u001b[K/opt/conda/lib/python3.10/site-packages/numpy/core/include/numpy/ndarrayobject.h:12\u001b[m\u001b[K,\r\n",
      "                 from \u001b[01m\u001b[K/opt/conda/lib/python3.10/site-packages/numpy/core/include/numpy/arrayobject.h:5\u001b[m\u001b[K,\r\n",
      "                 from \u001b[01m\u001b[KHP3_Similarity_Cython_SGD.c:1109\u001b[m\u001b[K:\r\n",
      "\u001b[01m\u001b[K/opt/conda/lib/python3.10/site-packages/numpy/core/include/numpy/npy_1_7_deprecated_api.h:17:2:\u001b[m\u001b[K \u001b[01;35m\u001b[Kwarning: \u001b[m\u001b[K#warning \"Using deprecated NumPy API, disable it with \" \"#define NPY_NO_DEPRECATED_API NPY_1_7_API_VERSION\" [\u001b[01;35m\u001b[K-Wcpp\u001b[m\u001b[K]\r\n",
      "   17 | #\u001b[01;35m\u001b[Kwarning\u001b[m\u001b[K \"Using deprecated NumPy API, disable it with \" \\\r\n",
      "      |  \u001b[01;35m\u001b[K^~~~~~~\u001b[m\u001b[K\r\n",
      "\u001b[01m\u001b[KHP3_Similarity_Cython_SGD.c:\u001b[m\u001b[K In function ‘\u001b[01m\u001b[K__pyx_pf_25HP3_Similarity_Cython_SGD_25HP3_Similarity_Cython_SGD_4fit\u001b[m\u001b[K’:\r\n",
      "\u001b[01m\u001b[KHP3_Similarity_Cython_SGD.c:23035:55:\u001b[m\u001b[K \u001b[01;35m\u001b[Kwarning: \u001b[m\u001b[K‘\u001b[01m\u001b[K__pyx_v_sample_num\u001b[m\u001b[K’ may be used uninitialized in this function [\u001b[01;35m\u001b[K-Wmaybe-uninitialized\u001b[m\u001b[K]\r\n",
      "23035 |   __pyx_t_1 = PyFloat_FromDouble((__pyx_v_cum_loss / \u001b[01;35m\u001b[K((double)__pyx_v_sample_num)\u001b[m\u001b[K)); if (unlikely(!__pyx_t_1)) __PYX_ERR(0, 291, __pyx_L1_error)\r\n",
      "      |                                                      \u001b[01;35m\u001b[K~^~~~~~~~~~~~~~~~~~~~~~~~~~~\u001b[m\u001b[K\r\n",
      "/opt/conda/lib/python3.10/site-packages/Cython/Compiler/Main.py:381: FutureWarning: Cython directive 'language_level' not set, using '3str' for now (Py3). This has changed from earlier releases! File: /kaggle/working/Recsys_Challenge_2023/Recommenders/FeatureWeighting/Cython/HP3_Similarity_Cython_SGD.pyx\r\n",
      "  tree = Parsing.p_module(s, pxd, full_module_name)\r\n",
      "warning: HP3_Similarity_Cython_SGD.pyx:113:40: Index should be typed for more efficient access\r\n",
      "Compiling [10/10]: HP3_Similarity_Cython_SGD.pyx... PASS\r\n",
      "\r\n",
      "run_compile_all_cython: Compilation finished. FAILS 2/10.\r\n",
      "Compilation log can be found here: './result_experiments/run_compile_all_cython.txt'\r\n"
     ]
    }
   ],
   "source": [
    "! cd /kaggle/working/Recsys_Challenge_2023 && python run_compile_all_cython.py"
   ]
  },
  {
   "cell_type": "code",
   "execution_count": 4,
   "id": "0130cd2b",
   "metadata": {
    "_kg_hide-output": true,
    "execution": {
     "iopub.execute_input": "2023-11-25T10:56:11.953841Z",
     "iopub.status.busy": "2023-11-25T10:56:11.953470Z",
     "iopub.status.idle": "2023-11-25T10:56:15.294501Z",
     "shell.execute_reply": "2023-11-25T10:56:15.293187Z"
    },
    "papermill": {
     "duration": 3.357495,
     "end_time": "2023-11-25T10:56:15.297178",
     "exception": false,
     "start_time": "2023-11-25T10:56:11.939683",
     "status": "completed"
    },
    "tags": []
   },
   "outputs": [
    {
     "name": "stdout",
     "output_type": "stream",
     "text": [
      "/kaggle/input/hybrid-precision/tuning_hybrid_precision.db\n",
      "/kaggle/input/hybrid-precision/__results__.html\n",
      "/kaggle/input/hybrid-precision/__notebook__.ipynb\n",
      "/kaggle/input/hybrid-precision/best_params_item_knn_precision.json\n",
      "/kaggle/input/hybrid-precision/__output__.json\n",
      "/kaggle/input/hybrid-precision/custom.css\n",
      "/kaggle/input/hybrid-precision/Recsys_Challenge_2023/run_all_algorithms.py\n",
      "/kaggle/input/hybrid-precision/Recsys_Challenge_2023/cython_example_FunkSVD.py\n",
      "/kaggle/input/hybrid-precision/Recsys_Challenge_2023/LICENSE\n",
      "/kaggle/input/hybrid-precision/Recsys_Challenge_2023/.gitignore\n",
      "/kaggle/input/hybrid-precision/Recsys_Challenge_2023/rp3-tuning.ipynb\n",
      "/kaggle/input/hybrid-precision/Recsys_Challenge_2023/README.md\n",
      "/kaggle/input/hybrid-precision/Recsys_Challenge_2023/run_hyperparameter_search.py\n",
      "/kaggle/input/hybrid-precision/Recsys_Challenge_2023/cython_example_SLIM_MSE.py\n",
      "/kaggle/input/hybrid-precision/Recsys_Challenge_2023/requirements.txt\n",
      "/kaggle/input/hybrid-precision/Recsys_Challenge_2023/run_test_recommenders.py\n",
      "/kaggle/input/hybrid-precision/Recsys_Challenge_2023/run_compile_all_cython.py\n",
      "/kaggle/input/hybrid-precision/Recsys_Challenge_2023/hybrid.ipynb\n",
      "/kaggle/input/hybrid-precision/Recsys_Challenge_2023/Data_manager/DataSplitter_Holdout.py\n",
      "/kaggle/input/hybrid-precision/Recsys_Challenge_2023/Data_manager/DataSplitter.py\n",
      "/kaggle/input/hybrid-precision/Recsys_Challenge_2023/Data_manager/DatasetMapperManager.py\n",
      "/kaggle/input/hybrid-precision/Recsys_Challenge_2023/Data_manager/data_consistency_check.py\n",
      "/kaggle/input/hybrid-precision/Recsys_Challenge_2023/Data_manager/README.md\n",
      "/kaggle/input/hybrid-precision/Recsys_Challenge_2023/Data_manager/TagPreprocessing.py\n",
      "/kaggle/input/hybrid-precision/Recsys_Challenge_2023/Data_manager/DataReader.py\n",
      "/kaggle/input/hybrid-precision/Recsys_Challenge_2023/Data_manager/DataReader_utils.py\n",
      "/kaggle/input/hybrid-precision/Recsys_Challenge_2023/Data_manager/IncrementalSparseMatrix.py\n",
      "/kaggle/input/hybrid-precision/Recsys_Challenge_2023/Data_manager/run_clean_split_data_files.py\n",
      "/kaggle/input/hybrid-precision/Recsys_Challenge_2023/Data_manager/Dataset.py\n",
      "/kaggle/input/hybrid-precision/Recsys_Challenge_2023/Data_manager/DataSplitter_leave_k_out.py\n",
      "/kaggle/input/hybrid-precision/Recsys_Challenge_2023/Data_manager/__init__.py\n",
      "/kaggle/input/hybrid-precision/Recsys_Challenge_2023/Data_manager/__pycache__/data_consistency_check.cpython-310.pyc\n",
      "/kaggle/input/hybrid-precision/Recsys_Challenge_2023/Data_manager/__pycache__/DatasetMapperManager.cpython-310.pyc\n",
      "/kaggle/input/hybrid-precision/Recsys_Challenge_2023/Data_manager/__pycache__/IncrementalSparseMatrix.cpython-310.pyc\n",
      "/kaggle/input/hybrid-precision/Recsys_Challenge_2023/Data_manager/__pycache__/DataReader.cpython-310.pyc\n",
      "/kaggle/input/hybrid-precision/Recsys_Challenge_2023/Data_manager/__pycache__/DataReader_utils.cpython-310.pyc\n",
      "/kaggle/input/hybrid-precision/Recsys_Challenge_2023/Data_manager/__pycache__/__init__.cpython-310.pyc\n",
      "/kaggle/input/hybrid-precision/Recsys_Challenge_2023/Data_manager/__pycache__/Dataset.cpython-310.pyc\n",
      "/kaggle/input/hybrid-precision/Recsys_Challenge_2023/Data_manager/split_functions/split_train_validation_leave_k_out.py\n",
      "/kaggle/input/hybrid-precision/Recsys_Challenge_2023/Data_manager/split_functions/split_train_validation_cold_items.py\n",
      "/kaggle/input/hybrid-precision/Recsys_Challenge_2023/Data_manager/split_functions/split_train_validation_random_holdout.py\n",
      "/kaggle/input/hybrid-precision/Recsys_Challenge_2023/Data_manager/split_functions/__pycache__/split_train_validation_random_holdout.cpython-310.pyc\n",
      "/kaggle/input/hybrid-precision/Recsys_Challenge_2023/Data_manager/Movielens/Movielens10MReader.py\n",
      "/kaggle/input/hybrid-precision/Recsys_Challenge_2023/Data_manager/Movielens/Movielens1MReader.py\n",
      "/kaggle/input/hybrid-precision/Recsys_Challenge_2023/Data_manager/Movielens/Movielens100KReader.py\n",
      "/kaggle/input/hybrid-precision/Recsys_Challenge_2023/Data_manager/Movielens/MovielensHetrec2011Reader.py\n",
      "/kaggle/input/hybrid-precision/Recsys_Challenge_2023/Data_manager/Movielens/_utils_movielens_parser.py\n",
      "/kaggle/input/hybrid-precision/Recsys_Challenge_2023/Data_manager/Movielens/Movielens20MReader.py\n",
      "/kaggle/input/hybrid-precision/Recsys_Challenge_2023/Data_manager/Movielens/__pycache__/Movielens10MReader.cpython-310.pyc\n",
      "/kaggle/input/hybrid-precision/Recsys_Challenge_2023/Data_manager/Movielens/__pycache__/Movielens1MReader.cpython-310.pyc\n",
      "/kaggle/input/hybrid-precision/Recsys_Challenge_2023/Data_manager/Movielens/__pycache__/_utils_movielens_parser.cpython-310.pyc\n",
      "/kaggle/input/hybrid-precision/Recsys_Challenge_2023/Data_manager/Movielens/__pycache__/Movielens20MReader.cpython-310.pyc\n",
      "/kaggle/input/hybrid-precision/Recsys_Challenge_2023/Data_manager/Movielens/__pycache__/Movielens100KReader.cpython-310.pyc\n",
      "/kaggle/input/hybrid-precision/Recsys_Challenge_2023/Data_manager/Movielens/__pycache__/MovielensHetrec2011Reader.cpython-310.pyc\n",
      "/kaggle/input/hybrid-precision/Recsys_Challenge_2023/Utils/seconds_to_biggest_unit.py\n",
      "/kaggle/input/hybrid-precision/Recsys_Challenge_2023/Utils/PyTorch/utils.py\n",
      "/kaggle/input/hybrid-precision/Recsys_Challenge_2023/Utils/PyTorch/DataSampler.py\n",
      "/kaggle/input/hybrid-precision/Recsys_Challenge_2023/Utils/PyTorch/DataIterator.py\n",
      "/kaggle/input/hybrid-precision/Recsys_Challenge_2023/Utils/PyTorch/Cython/DataIterator.pyx\n",
      "/kaggle/input/hybrid-precision/Recsys_Challenge_2023/Utils/__pycache__/seconds_to_biggest_unit.cpython-310.pyc\n",
      "/kaggle/input/hybrid-precision/Recsys_Challenge_2023/slides/20161219_BPR.pptx\n",
      "/kaggle/input/hybrid-precision/Recsys_Challenge_2023/slides/Felicioni - Off Policy Evaluation.pdf\n",
      "/kaggle/input/hybrid-precision/Recsys_Challenge_2023/slides/Amazon AWS.pdf\n",
      "/kaggle/input/hybrid-precision/Recsys_Challenge_2023/slides/hu_koren_volinsky.pdf\n",
      "/kaggle/input/hybrid-precision/Recsys_Challenge_2023/slides/2017_MF.pdf\n",
      "/kaggle/input/hybrid-precision/Recsys_Challenge_2023/slides/FM.pdf\n",
      "/kaggle/input/hybrid-precision/Recsys_Challenge_2023/slides/rendle_bpr.pdf\n",
      "/kaggle/input/hybrid-precision/Recsys_Challenge_2023/slides/2017_MF.pptx\n",
      "/kaggle/input/hybrid-precision/Recsys_Challenge_2023/slides/Introduction and Materials for RecSys Practice Sessions.pdf\n",
      "/kaggle/input/hybrid-precision/Recsys_Challenge_2023/slides/List_of_KNN_similarity_heuristics.pdf\n",
      "/kaggle/input/hybrid-precision/Recsys_Challenge_2023/slides/Sparse matrices.pdf\n",
      "/kaggle/input/hybrid-precision/Recsys_Challenge_2023/slides/koren_sdv++.pdf\n",
      "/kaggle/input/hybrid-precision/Recsys_Challenge_2023/slides/FunkSVD - 2006.pdf\n",
      "/kaggle/input/hybrid-precision/Recsys_Challenge_2023/Notebooks_utils/Cosine_Similarity_Cython_SLOW.cpython-36m-x86_64-linux-gnu.so\n",
      "/kaggle/input/hybrid-precision/Recsys_Challenge_2023/Notebooks_utils/Cosine_Similarity_Cython_SLOW.c\n",
      "/kaggle/input/hybrid-precision/Recsys_Challenge_2023/Notebooks_utils/compileCython.py\n",
      "/kaggle/input/hybrid-precision/Recsys_Challenge_2023/Notebooks_utils/Cosine_Similarity_Cython.pyx\n",
      "/kaggle/input/hybrid-precision/Recsys_Challenge_2023/Notebooks_utils/Cosine_Similarity_Cython.html\n",
      "/kaggle/input/hybrid-precision/Recsys_Challenge_2023/Notebooks_utils/Compute_Similarity_Python.py\n",
      "/kaggle/input/hybrid-precision/Recsys_Challenge_2023/Notebooks_utils/Cosine_Similarity_Cython.c\n",
      "/kaggle/input/hybrid-precision/Recsys_Challenge_2023/Notebooks_utils/Cosine_Similarity_Cython.cpython-36m-x86_64-linux-gnu.so\n",
      "/kaggle/input/hybrid-precision/Recsys_Challenge_2023/Notebooks_utils/Cosine_Similarity_Cython_SLOW.pyx\n",
      "/kaggle/input/hybrid-precision/Recsys_Challenge_2023/Notebooks_utils/Cosine_Similarity_Cython_SLOW.html\n",
      "/kaggle/input/hybrid-precision/Recsys_Challenge_2023/CythonCompiler/compile_script.py\n",
      "/kaggle/input/hybrid-precision/Recsys_Challenge_2023/CythonCompiler/run_compile_subprocess.py\n",
      "/kaggle/input/hybrid-precision/Recsys_Challenge_2023/CythonCompiler/__pycache__/run_compile_subprocess.cpython-310.pyc\n",
      "/kaggle/input/hybrid-precision/Recsys_Challenge_2023/Recommenders/IR_feature_weighting.py\n",
      "/kaggle/input/hybrid-precision/Recsys_Challenge_2023/Recommenders/Incremental_Training_Early_Stopping.py\n",
      "/kaggle/input/hybrid-precision/Recsys_Challenge_2023/Recommenders/BaseMatrixFactorizationRecommender.py\n",
      "/kaggle/input/hybrid-precision/Recsys_Challenge_2023/Recommenders/BaseRecommender.py\n",
      "/kaggle/input/hybrid-precision/Recsys_Challenge_2023/Recommenders/BaseCBFRecommender.py\n",
      "/kaggle/input/hybrid-precision/Recsys_Challenge_2023/Recommenders/Recommender_import_list.py\n",
      "/kaggle/input/hybrid-precision/Recsys_Challenge_2023/Recommenders/BaseTempFolder.py\n",
      "/kaggle/input/hybrid-precision/Recsys_Challenge_2023/Recommenders/Recommender_utils.py\n",
      "/kaggle/input/hybrid-precision/Recsys_Challenge_2023/Recommenders/NonPersonalizedRecommender.py\n",
      "/kaggle/input/hybrid-precision/Recsys_Challenge_2023/Recommenders/BaseSimilarityMatrixRecommender.py\n",
      "/kaggle/input/hybrid-precision/Recsys_Challenge_2023/Recommenders/DataIO.py\n",
      "/kaggle/input/hybrid-precision/Recsys_Challenge_2023/Recommenders/PredefinedListRecommender.py\n",
      "/kaggle/input/hybrid-precision/Recsys_Challenge_2023/Recommenders/Similarity/Compute_similarity_euclidean_test.py\n",
      "/kaggle/input/hybrid-precision/Recsys_Challenge_2023/Recommenders/Similarity/Compute_Similarity_Euclidean.py\n",
      "/kaggle/input/hybrid-precision/Recsys_Challenge_2023/Recommenders/Similarity/Compute_Similarity_Python.py\n",
      "/kaggle/input/hybrid-precision/Recsys_Challenge_2023/Recommenders/Similarity/Compute_Similarity.py\n",
      "/kaggle/input/hybrid-precision/Recsys_Challenge_2023/Recommenders/Similarity/Compute_similarity_test.py\n",
      "/kaggle/input/hybrid-precision/Recsys_Challenge_2023/Recommenders/Similarity/__pycache__/Compute_Similarity_Python.cpython-310.pyc\n",
      "/kaggle/input/hybrid-precision/Recsys_Challenge_2023/Recommenders/Similarity/__pycache__/Compute_Similarity.cpython-310.pyc\n",
      "/kaggle/input/hybrid-precision/Recsys_Challenge_2023/Recommenders/Similarity/__pycache__/Compute_Similarity_Euclidean.cpython-310.pyc\n",
      "/kaggle/input/hybrid-precision/Recsys_Challenge_2023/Recommenders/Similarity/Cython/Compute_Similarity_Cython.cpython-310-x86_64-linux-gnu.so\n",
      "/kaggle/input/hybrid-precision/Recsys_Challenge_2023/Recommenders/Similarity/Cython/Compute_Similarity_Cython.pyx\n",
      "/kaggle/input/hybrid-precision/Recsys_Challenge_2023/Recommenders/Similarity/Cython/Compute_Similarity_Cython.html\n",
      "/kaggle/input/hybrid-precision/Recsys_Challenge_2023/Recommenders/Similarity/Cython/Compute_Similarity_Cython.c\n",
      "/kaggle/input/hybrid-precision/Recsys_Challenge_2023/Recommenders/EASE_R/EASE_R_Recommender.py\n",
      "/kaggle/input/hybrid-precision/Recsys_Challenge_2023/Recommenders/SLIM/SLIMElasticNetRecommender.py\n",
      "/kaggle/input/hybrid-precision/Recsys_Challenge_2023/Recommenders/SLIM/SLIM_BPR_Python.py\n",
      "/kaggle/input/hybrid-precision/Recsys_Challenge_2023/Recommenders/SLIM/__pycache__/SLIMElasticNetRecommender.cpython-310.pyc\n",
      "/kaggle/input/hybrid-precision/Recsys_Challenge_2023/Recommenders/SLIM/Cython/Triangular_Matrix.cpython-310-x86_64-linux-gnu.so\n",
      "/kaggle/input/hybrid-precision/Recsys_Challenge_2023/Recommenders/SLIM/Cython/Triangular_Matrix.c\n",
      "/kaggle/input/hybrid-precision/Recsys_Challenge_2023/Recommenders/SLIM/Cython/SLIM_BPR_Cython.py\n",
      "/kaggle/input/hybrid-precision/Recsys_Challenge_2023/Recommenders/SLIM/Cython/Sparse_Matrix_Tree_CSR.pyx\n",
      "/kaggle/input/hybrid-precision/Recsys_Challenge_2023/Recommenders/SLIM/Cython/Triangular_Matrix.pyx\n",
      "/kaggle/input/hybrid-precision/Recsys_Challenge_2023/Recommenders/SLIM/Cython/SLIM_BPR_Cython_Epoch.pyx\n",
      "/kaggle/input/hybrid-precision/Recsys_Challenge_2023/Recommenders/SLIM/Cython/Triangular_Matrix.html\n",
      "/kaggle/input/hybrid-precision/Recsys_Challenge_2023/Recommenders/GraphBased/RP3betaRecommender.py\n",
      "/kaggle/input/hybrid-precision/Recsys_Challenge_2023/Recommenders/GraphBased/P3alphaRecommender.py\n",
      "/kaggle/input/hybrid-precision/Recsys_Challenge_2023/Recommenders/GraphBased/__pycache__/RP3betaRecommender.cpython-310.pyc\n",
      "/kaggle/input/hybrid-precision/Recsys_Challenge_2023/Recommenders/FactorizationMachines/LightFMRecommender.py\n",
      "/kaggle/input/hybrid-precision/Recsys_Challenge_2023/Recommenders/__pycache__/BaseRecommender.cpython-310.pyc\n",
      "/kaggle/input/hybrid-precision/Recsys_Challenge_2023/Recommenders/__pycache__/BaseSimilarityMatrixRecommender.cpython-310.pyc\n",
      "/kaggle/input/hybrid-precision/Recsys_Challenge_2023/Recommenders/__pycache__/BaseMatrixFactorizationRecommender.cpython-310.pyc\n",
      "/kaggle/input/hybrid-precision/Recsys_Challenge_2023/Recommenders/__pycache__/Incremental_Training_Early_Stopping.cpython-310.pyc\n",
      "/kaggle/input/hybrid-precision/Recsys_Challenge_2023/Recommenders/__pycache__/IR_feature_weighting.cpython-310.pyc\n",
      "/kaggle/input/hybrid-precision/Recsys_Challenge_2023/Recommenders/__pycache__/DataIO.cpython-310.pyc\n",
      "/kaggle/input/hybrid-precision/Recsys_Challenge_2023/Recommenders/__pycache__/BaseTempFolder.cpython-310.pyc\n",
      "/kaggle/input/hybrid-precision/Recsys_Challenge_2023/Recommenders/__pycache__/Recommender_utils.cpython-310.pyc\n",
      "/kaggle/input/hybrid-precision/Recsys_Challenge_2023/Recommenders/KNN/ItemKNNCustomSimilarityRecommender.py\n",
      "/kaggle/input/hybrid-precision/Recsys_Challenge_2023/Recommenders/KNN/ItemKNNCBFRecommender.py\n",
      "/kaggle/input/hybrid-precision/Recsys_Challenge_2023/Recommenders/KNN/ItemKNNSimilarityHybridRecommender.py\n",
      "/kaggle/input/hybrid-precision/Recsys_Challenge_2023/Recommenders/KNN/UserKNNCBFRecommender.py\n",
      "/kaggle/input/hybrid-precision/Recsys_Challenge_2023/Recommenders/KNN/ItemKNNCFRecommender.py\n",
      "/kaggle/input/hybrid-precision/Recsys_Challenge_2023/Recommenders/KNN/UserKNN_CFCBF_Hybrid_Recommender.py\n",
      "/kaggle/input/hybrid-precision/Recsys_Challenge_2023/Recommenders/KNN/ItemKNN_CFCBF_Hybrid_Recommender.py\n",
      "/kaggle/input/hybrid-precision/Recsys_Challenge_2023/Recommenders/KNN/UserKNNCFRecommender.py\n",
      "/kaggle/input/hybrid-precision/Recsys_Challenge_2023/Recommenders/KNN/__pycache__/UserKNNCFRecommender.cpython-310.pyc\n",
      "/kaggle/input/hybrid-precision/Recsys_Challenge_2023/Recommenders/KNN/__pycache__/ItemKNNCFRecommender.cpython-310.pyc\n",
      "/kaggle/input/hybrid-precision/Recsys_Challenge_2023/Recommenders/Neural/architecture_utils.py\n",
      "/kaggle/input/hybrid-precision/Recsys_Challenge_2023/Recommenders/Neural/MultVAERecommender.py\n",
      "/kaggle/input/hybrid-precision/Recsys_Challenge_2023/Recommenders/Neural/MultVAE_PyTorch_Recommender.py\n",
      "/kaggle/input/hybrid-precision/Recsys_Challenge_2023/Recommenders/FeatureWeighting/CFW_D_Similarity_Linalg.py\n",
      "/kaggle/input/hybrid-precision/Recsys_Challenge_2023/Recommenders/FeatureWeighting/Cython/CFW_D_Similarity_Cython_SGD.cpython-310-x86_64-linux-gnu.so\n",
      "/kaggle/input/hybrid-precision/Recsys_Challenge_2023/Recommenders/FeatureWeighting/Cython/HP3_Similarity_Cython_SGD.c\n",
      "/kaggle/input/hybrid-precision/Recsys_Challenge_2023/Recommenders/FeatureWeighting/Cython/FBSM_Rating_Cython_SGD.c\n",
      "/kaggle/input/hybrid-precision/Recsys_Challenge_2023/Recommenders/FeatureWeighting/Cython/CFW_DVV_Similarity_Cython_SGD.pyx\n",
      "/kaggle/input/hybrid-precision/Recsys_Challenge_2023/Recommenders/FeatureWeighting/Cython/FBSM_Rating_Cython_SGD.cpython-310-x86_64-linux-gnu.so\n",
      "/kaggle/input/hybrid-precision/Recsys_Challenge_2023/Recommenders/FeatureWeighting/Cython/CFW_D_Similarity_Cython_SGD.html\n",
      "/kaggle/input/hybrid-precision/Recsys_Challenge_2023/Recommenders/FeatureWeighting/Cython/FBSM_Rating_Cython.py\n",
      "/kaggle/input/hybrid-precision/Recsys_Challenge_2023/Recommenders/FeatureWeighting/Cython/CFW_DVV_Similarity_Cython_SGD.html\n",
      "/kaggle/input/hybrid-precision/Recsys_Challenge_2023/Recommenders/FeatureWeighting/Cython/CFW_DVV_Similarity_Cython_SGD.cpython-310-x86_64-linux-gnu.so\n",
      "/kaggle/input/hybrid-precision/Recsys_Challenge_2023/Recommenders/FeatureWeighting/Cython/HP3_Similarity_Cython.py\n",
      "/kaggle/input/hybrid-precision/Recsys_Challenge_2023/Recommenders/FeatureWeighting/Cython/CFW_D_Similarity_Cython_SGD.c\n",
      "/kaggle/input/hybrid-precision/Recsys_Challenge_2023/Recommenders/FeatureWeighting/Cython/CFW_D_Similarity_Cython_SGD.pyx\n",
      "/kaggle/input/hybrid-precision/Recsys_Challenge_2023/Recommenders/FeatureWeighting/Cython/CFW_D_Similarity_Cython.py\n",
      "/kaggle/input/hybrid-precision/Recsys_Challenge_2023/Recommenders/FeatureWeighting/Cython/FBSM_Rating_Cython_SGD.pyx\n",
      "/kaggle/input/hybrid-precision/Recsys_Challenge_2023/Recommenders/FeatureWeighting/Cython/CFW_DVV_Similarity_Cython_SGD.c\n",
      "/kaggle/input/hybrid-precision/Recsys_Challenge_2023/Recommenders/FeatureWeighting/Cython/HP3_Similarity_Cython_SGD.cpython-310-x86_64-linux-gnu.so\n",
      "/kaggle/input/hybrid-precision/Recsys_Challenge_2023/Recommenders/FeatureWeighting/Cython/HP3_Similarity_Cython_SGD.pyx\n",
      "/kaggle/input/hybrid-precision/Recsys_Challenge_2023/Recommenders/FeatureWeighting/Cython/CFW_DVV_Similarity_Cython.py\n",
      "/kaggle/input/hybrid-precision/Recsys_Challenge_2023/Recommenders/FeatureWeighting/Cython/FBSM_Rating_Cython_SGD.html\n",
      "/kaggle/input/hybrid-precision/Recsys_Challenge_2023/Recommenders/FeatureWeighting/Cython/HP3_Similarity_Cython_SGD.html\n",
      "/kaggle/input/hybrid-precision/Recsys_Challenge_2023/Recommenders/MatrixFactorization/IALSRecommender.py\n",
      "/kaggle/input/hybrid-precision/Recsys_Challenge_2023/Recommenders/MatrixFactorization/NMFRecommender.py\n",
      "/kaggle/input/hybrid-precision/Recsys_Challenge_2023/Recommenders/MatrixFactorization/PureSVDRecommender.py\n",
      "/kaggle/input/hybrid-precision/Recsys_Challenge_2023/Recommenders/MatrixFactorization/SVDFeatureRecommender.py\n",
      "/kaggle/input/hybrid-precision/Recsys_Challenge_2023/Recommenders/MatrixFactorization/PyTorch/MF_MSE_PyTorch.py\n",
      "/kaggle/input/hybrid-precision/Recsys_Challenge_2023/Recommenders/MatrixFactorization/PyTorch/MF_MSE_PyTorch_model.py\n",
      "/kaggle/input/hybrid-precision/Recsys_Challenge_2023/Recommenders/MatrixFactorization/__pycache__/PureSVDRecommender.cpython-310.pyc\n",
      "/kaggle/input/hybrid-precision/Recsys_Challenge_2023/Recommenders/MatrixFactorization/__pycache__/IALSRecommender.cpython-310.pyc\n",
      "/kaggle/input/hybrid-precision/Recsys_Challenge_2023/Recommenders/MatrixFactorization/Cython/MatrixFactorization_Cython.py\n",
      "/kaggle/input/hybrid-precision/Recsys_Challenge_2023/Recommenders/MatrixFactorization/Cython/MatrixFactorization_Cython_Epoch.cpython-310-x86_64-linux-gnu.so\n",
      "/kaggle/input/hybrid-precision/Recsys_Challenge_2023/Recommenders/MatrixFactorization/Cython/MatrixFactorizationImpressions_Cython_Epoch.cpython-310-x86_64-linux-gnu.so\n",
      "/kaggle/input/hybrid-precision/Recsys_Challenge_2023/Recommenders/MatrixFactorization/Cython/MatrixFactorizationImpressions_Cython.py\n",
      "/kaggle/input/hybrid-precision/Recsys_Challenge_2023/Recommenders/MatrixFactorization/Cython/MatrixFactorization_Cython_Epoch.c\n",
      "/kaggle/input/hybrid-precision/Recsys_Challenge_2023/Recommenders/MatrixFactorization/Cython/MatrixFactorization_Cython_Epoch.html\n",
      "/kaggle/input/hybrid-precision/Recsys_Challenge_2023/Recommenders/MatrixFactorization/Cython/MatrixFactorizationImpressions_Cython_Epoch.pyx\n",
      "/kaggle/input/hybrid-precision/Recsys_Challenge_2023/Recommenders/MatrixFactorization/Cython/MatrixFactorization_Cython_Epoch.pyx\n",
      "/kaggle/input/hybrid-precision/Recsys_Challenge_2023/Recommenders/MatrixFactorization/Cython/MatrixFactorizationImpressions_Cython_Epoch.c\n",
      "/kaggle/input/hybrid-precision/Recsys_Challenge_2023/Recommenders/MatrixFactorization/Cython/MatrixFactorizationImpressions_Cython_Epoch.html\n",
      "/kaggle/input/hybrid-precision/Recsys_Challenge_2023/tuning_results/tuning_hybrid_merging.db\n",
      "/kaggle/input/hybrid-precision/Recsys_Challenge_2023/tuning_results/tuning_hybrid.db\n",
      "/kaggle/input/hybrid-precision/Recsys_Challenge_2023/tuning_results/tuning_hybrid_precision.db\n",
      "/kaggle/input/hybrid-precision/Recsys_Challenge_2023/tuning_results/best_params_ials_v2.json\n",
      "/kaggle/input/hybrid-precision/Recsys_Challenge_2023/tuning_results/best_params_hybrid_merging.json\n",
      "/kaggle/input/hybrid-precision/Recsys_Challenge_2023/tuning_results/best_params_knn_item.json\n",
      "/kaggle/input/hybrid-precision/Recsys_Challenge_2023/tuning_results/tuning_RP3+ItemKNN_Hybrid.db\n",
      "/kaggle/input/hybrid-precision/Recsys_Challenge_2023/tuning_results/best_params_EASE_R.json\n",
      "/kaggle/input/hybrid-precision/Recsys_Challenge_2023/tuning_results/best_params_alpha.json\n",
      "/kaggle/input/hybrid-precision/Recsys_Challenge_2023/tuning_results/pure_svd_params.json\n",
      "/kaggle/input/hybrid-precision/Recsys_Challenge_2023/tuning_results/pure_svd_trials.csv\n",
      "/kaggle/input/hybrid-precision/Recsys_Challenge_2023/tuning_results/tuning.db\n",
      "/kaggle/input/hybrid-precision/Recsys_Challenge_2023/tuning_results/better_tuning.db\n",
      "/kaggle/input/hybrid-precision/Recsys_Challenge_2023/tuning_results/tuning_hybrid_UserKNN_RP3Hybrid.db\n",
      "/kaggle/input/hybrid-precision/Recsys_Challenge_2023/tuning_results/best_params_hybrid_UserKNN_RP3Hybrid.json\n",
      "/kaggle/input/hybrid-precision/Recsys_Challenge_2023/tuning_results/best_params_RP3+ItemKNN_Hybrid.json\n",
      "/kaggle/input/hybrid-precision/Recsys_Challenge_2023/tuning_results/best_params_hybrid.json\n",
      "/kaggle/input/hybrid-precision/Recsys_Challenge_2023/tuning_results/best_params_item_knn_precision.json\n",
      "/kaggle/input/hybrid-precision/Recsys_Challenge_2023/tuning_results/best_params_ials.json\n",
      "/kaggle/input/hybrid-precision/Recsys_Challenge_2023/tuning_results/best_params_knn_user.json\n",
      "/kaggle/input/hybrid-precision/Recsys_Challenge_2023/tuning_results/best_params_RP3.json\n",
      "/kaggle/input/hybrid-precision/Recsys_Challenge_2023/images/random_random_everywhere_meme.jpg\n",
      "/kaggle/input/hybrid-precision/Recsys_Challenge_2023/images/ive_already_seen_it_meme.png\n",
      "/kaggle/input/hybrid-precision/Recsys_Challenge_2023/images/bob_example.jpeg\n",
      "/kaggle/input/hybrid-precision/Recsys_Challenge_2023/images/hstack_example.png\n",
      "/kaggle/input/hybrid-precision/Recsys_Challenge_2023/images/FactorizationMachine.png\n",
      "/kaggle/input/hybrid-precision/Recsys_Challenge_2023/images/ive_evaluated_your_performance_meme.jpg\n",
      "/kaggle/input/hybrid-precision/Recsys_Challenge_2023/images/amongus_meme.png\n",
      "/kaggle/input/hybrid-precision/Recsys_Challenge_2023/images/toy_story_poster.png\n",
      "/kaggle/input/hybrid-precision/Recsys_Challenge_2023/images/better_than_average_on_the_first_try_meme.jpg\n",
      "/kaggle/input/hybrid-precision/Recsys_Challenge_2023/HyperparameterTuning/SearchSingleCase.py\n",
      "/kaggle/input/hybrid-precision/Recsys_Challenge_2023/HyperparameterTuning/SearchAbstractClass.py\n",
      "/kaggle/input/hybrid-precision/Recsys_Challenge_2023/HyperparameterTuning/run_hyperparameter_search.py\n",
      "/kaggle/input/hybrid-precision/Recsys_Challenge_2023/HyperparameterTuning/SearchBayesianSkopt.py\n",
      "/kaggle/input/hybrid-precision/Recsys_Challenge_2023/Cython_examples/isPrime_slow.pyx\n",
      "/kaggle/input/hybrid-precision/Recsys_Challenge_2023/Cython_examples/SLIM_MSE_fastest.pyx\n",
      "/kaggle/input/hybrid-precision/Recsys_Challenge_2023/Cython_examples/isPrime_nochecks.pyx\n",
      "/kaggle/input/hybrid-precision/Recsys_Challenge_2023/Cython_examples/isPrime.pyx\n",
      "/kaggle/input/hybrid-precision/Recsys_Challenge_2023/Cython_examples/FunkSVD_fastest.pyx\n",
      "/kaggle/input/hybrid-precision/Recsys_Challenge_2023/Cython_examples/FunkSVD_slow.pyx\n",
      "/kaggle/input/hybrid-precision/Recsys_Challenge_2023/Cython_examples/SLIM_MSE_slow.pyx\n",
      "/kaggle/input/hybrid-precision/Recsys_Challenge_2023/result_experiments/run_compile_all_cython.txt\n",
      "/kaggle/input/hybrid-precision/Recsys_Challenge_2023/.git/config\n",
      "/kaggle/input/hybrid-precision/Recsys_Challenge_2023/.git/packed-refs\n",
      "/kaggle/input/hybrid-precision/Recsys_Challenge_2023/.git/HEAD\n",
      "/kaggle/input/hybrid-precision/Recsys_Challenge_2023/.git/index\n",
      "/kaggle/input/hybrid-precision/Recsys_Challenge_2023/.git/description\n",
      "/kaggle/input/hybrid-precision/Recsys_Challenge_2023/.git/info/exclude\n",
      "/kaggle/input/hybrid-precision/Recsys_Challenge_2023/.git/refs/heads/master\n",
      "/kaggle/input/hybrid-precision/Recsys_Challenge_2023/.git/refs/remotes/origin/HEAD\n",
      "/kaggle/input/hybrid-precision/Recsys_Challenge_2023/.git/hooks/pre-merge-commit.sample\n",
      "/kaggle/input/hybrid-precision/Recsys_Challenge_2023/.git/hooks/prepare-commit-msg.sample\n",
      "/kaggle/input/hybrid-precision/Recsys_Challenge_2023/.git/hooks/update.sample\n",
      "/kaggle/input/hybrid-precision/Recsys_Challenge_2023/.git/hooks/pre-push.sample\n",
      "/kaggle/input/hybrid-precision/Recsys_Challenge_2023/.git/hooks/pre-rebase.sample\n",
      "/kaggle/input/hybrid-precision/Recsys_Challenge_2023/.git/hooks/pre-applypatch.sample\n",
      "/kaggle/input/hybrid-precision/Recsys_Challenge_2023/.git/hooks/pre-commit.sample\n",
      "/kaggle/input/hybrid-precision/Recsys_Challenge_2023/.git/hooks/commit-msg.sample\n",
      "/kaggle/input/hybrid-precision/Recsys_Challenge_2023/.git/hooks/post-update.sample\n",
      "/kaggle/input/hybrid-precision/Recsys_Challenge_2023/.git/hooks/pre-receive.sample\n",
      "/kaggle/input/hybrid-precision/Recsys_Challenge_2023/.git/hooks/fsmonitor-watchman.sample\n",
      "/kaggle/input/hybrid-precision/Recsys_Challenge_2023/.git/hooks/applypatch-msg.sample\n",
      "/kaggle/input/hybrid-precision/Recsys_Challenge_2023/.git/logs/HEAD\n",
      "/kaggle/input/hybrid-precision/Recsys_Challenge_2023/.git/logs/refs/heads/master\n",
      "/kaggle/input/hybrid-precision/Recsys_Challenge_2023/.git/logs/refs/remotes/origin/HEAD\n",
      "/kaggle/input/hybrid-precision/Recsys_Challenge_2023/.git/objects/pack/pack-05eac3862645cfaea2fbe8457275b4351f5fa0e0.idx\n",
      "/kaggle/input/hybrid-precision/Recsys_Challenge_2023/.git/objects/pack/pack-05eac3862645cfaea2fbe8457275b4351f5fa0e0.pack\n",
      "/kaggle/input/hybrid-precision/Recsys_Challenge_2023/challenge_notebooks/list-combination.ipynb\n",
      "/kaggle/input/hybrid-precision/Recsys_Challenge_2023/challenge_notebooks/hyperparameters-tuning.ipynb\n",
      "/kaggle/input/hybrid-precision/Recsys_Challenge_2023/challenge_notebooks/rp3-tuning.ipynb\n",
      "/kaggle/input/hybrid-precision/Recsys_Challenge_2023/challenge_notebooks/hybrid-precision.ipynb\n",
      "/kaggle/input/hybrid-precision/Recsys_Challenge_2023/challenge_notebooks/rp3-itemknn-hybrid.ipynb\n",
      "/kaggle/input/hybrid-precision/Recsys_Challenge_2023/challenge_notebooks/merging-models.ipynb\n",
      "/kaggle/input/hybrid-precision/Recsys_Challenge_2023/challenge_notebooks/hyperparameters-tuning-better.ipynb\n",
      "/kaggle/input/hybrid-precision/Recsys_Challenge_2023/challenge_notebooks/srecsys-challenge.ipynb\n",
      "/kaggle/input/hybrid-precision/Recsys_Challenge_2023/Evaluation/metrics.py\n",
      "/kaggle/input/hybrid-precision/Recsys_Challenge_2023/Evaluation/Evaluator.py\n",
      "/kaggle/input/hybrid-precision/Recsys_Challenge_2023/Evaluation/__pycache__/metrics.cpython-310.pyc\n",
      "/kaggle/input/hybrid-precision/Recsys_Challenge_2023/Evaluation/__pycache__/Evaluator.cpython-310.pyc\n",
      "/kaggle/input/recommender-system-2023-challenge-polimi/data_train.csv\n",
      "/kaggle/input/recommender-system-2023-challenge-polimi/data_target_users_test.csv\n"
     ]
    }
   ],
   "source": [
    "import numpy as np\n",
    "import pandas as pd\n",
    "import matplotlib.pyplot as plt\n",
    "import seaborn as sns\n",
    "import joblib\n",
    "import json\n",
    "import random\n",
    "import tqdm\n",
    "import gc\n",
    "import time\n",
    "import os\n",
    "import shutil\n",
    "import optuna\n",
    "import scipy.sparse as sps\n",
    "\n",
    "for dirname, _, filenames in os.walk('/kaggle/input'):\n",
    "    for filename in filenames:\n",
    "        print(os.path.join(dirname, filename))"
   ]
  },
  {
   "cell_type": "code",
   "execution_count": 5,
   "id": "d09c0a84",
   "metadata": {
    "execution": {
     "iopub.execute_input": "2023-11-25T10:56:15.327987Z",
     "iopub.status.busy": "2023-11-25T10:56:15.327260Z",
     "iopub.status.idle": "2023-11-25T10:56:16.049672Z",
     "shell.execute_reply": "2023-11-25T10:56:16.047912Z"
    },
    "papermill": {
     "duration": 0.74009,
     "end_time": "2023-11-25T10:56:16.051755",
     "exception": false,
     "start_time": "2023-11-25T10:56:15.311665",
     "status": "completed"
    },
    "tags": []
   },
   "outputs": [
    {
     "name": "stdout",
     "output_type": "stream",
     "text": [
      "Repository found\n"
     ]
    }
   ],
   "source": [
    "from github import Github\n",
    "from github import Auth\n",
    "\n",
    "auth = Auth.Token(token)\n",
    "g = Github(auth=auth)\n",
    "\n",
    "repo = None\n",
    "for r in g.get_user().get_repos():\n",
    "    if r.name == 'Recsys_Challenge_2023':\n",
    "        repo = r\n",
    "        print('Repository found')"
   ]
  },
  {
   "cell_type": "code",
   "execution_count": 6,
   "id": "06490b31",
   "metadata": {
    "execution": {
     "iopub.execute_input": "2023-11-25T10:56:16.079726Z",
     "iopub.status.busy": "2023-11-25T10:56:16.077815Z",
     "iopub.status.idle": "2023-11-25T10:56:16.084604Z",
     "shell.execute_reply": "2023-11-25T10:56:16.083766Z"
    },
    "papermill": {
     "duration": 0.022555,
     "end_time": "2023-11-25T10:56:16.087144",
     "exception": false,
     "start_time": "2023-11-25T10:56:16.064589",
     "status": "completed"
    },
    "tags": []
   },
   "outputs": [],
   "source": [
    "def upload_file(filepath_kaggle, filepath_github, commit_message):\n",
    "    try:\n",
    "        contents = repo.get_contents(filepath_github)\n",
    "        with open(filepath_kaggle, \"rb\") as file:\n",
    "            repo.update_file(contents.path, commit_message, file.read(), contents.sha)\n",
    "    except Exception:\n",
    "        with open(filepath_kaggle, \"rb\") as file:\n",
    "            repo.create_file(filepath_github, commit_message, file.read())"
   ]
  },
  {
   "cell_type": "code",
   "execution_count": 7,
   "id": "96f4ef8e",
   "metadata": {
    "execution": {
     "iopub.execute_input": "2023-11-25T10:56:16.115086Z",
     "iopub.status.busy": "2023-11-25T10:56:16.114714Z",
     "iopub.status.idle": "2023-11-25T10:56:16.120285Z",
     "shell.execute_reply": "2023-11-25T10:56:16.119272Z"
    },
    "papermill": {
     "duration": 0.021335,
     "end_time": "2023-11-25T10:56:16.122182",
     "exception": false,
     "start_time": "2023-11-25T10:56:16.100847",
     "status": "completed"
    },
    "tags": []
   },
   "outputs": [],
   "source": [
    "config = {\n",
    "    'tune_precision': False,\n",
    "    'tune_hybrid': True,\n",
    "    'database_path': '/kaggle/working/tuning_hybrid_precision.db',\n",
    "    'copy_prev_best_params': True,\n",
    "    'save_github': True\n",
    "}"
   ]
  },
  {
   "cell_type": "code",
   "execution_count": 8,
   "id": "524aaafb",
   "metadata": {
    "execution": {
     "iopub.execute_input": "2023-11-25T10:56:16.149985Z",
     "iopub.status.busy": "2023-11-25T10:56:16.149328Z",
     "iopub.status.idle": "2023-11-25T10:56:16.155047Z",
     "shell.execute_reply": "2023-11-25T10:56:16.153767Z"
    },
    "papermill": {
     "duration": 0.022424,
     "end_time": "2023-11-25T10:56:16.157761",
     "exception": false,
     "start_time": "2023-11-25T10:56:16.135337",
     "status": "completed"
    },
    "tags": []
   },
   "outputs": [],
   "source": [
    "try:\n",
    "    shutil.copyfile(\n",
    "        '/kaggle/working/Recsys_Challenge_2023/tuning_results/tuning_hybrid_precision.db', \n",
    "        config['database_path']\n",
    "    )\n",
    "except FileNotFoundError:\n",
    "    pass # if not present optuna will create it"
   ]
  },
  {
   "cell_type": "code",
   "execution_count": 9,
   "id": "7c4fc3ad",
   "metadata": {
    "execution": {
     "iopub.execute_input": "2023-11-25T10:56:16.187136Z",
     "iopub.status.busy": "2023-11-25T10:56:16.186564Z",
     "iopub.status.idle": "2023-11-25T10:56:16.375371Z",
     "shell.execute_reply": "2023-11-25T10:56:16.374451Z"
    },
    "papermill": {
     "duration": 0.206593,
     "end_time": "2023-11-25T10:56:16.378366",
     "exception": false,
     "start_time": "2023-11-25T10:56:16.171773",
     "status": "completed"
    },
    "tags": []
   },
   "outputs": [],
   "source": [
    "train_data = pd.read_csv('/kaggle/input/recommender-system-2023-challenge-polimi/data_train.csv')\n",
    "user_ids_test = pd.read_csv('/kaggle/input/recommender-system-2023-challenge-polimi/data_target_users_test.csv')"
   ]
  },
  {
   "cell_type": "code",
   "execution_count": 10,
   "id": "4b31db0e",
   "metadata": {
    "execution": {
     "iopub.execute_input": "2023-11-25T10:56:16.407357Z",
     "iopub.status.busy": "2023-11-25T10:56:16.407008Z",
     "iopub.status.idle": "2023-11-25T10:56:16.437645Z",
     "shell.execute_reply": "2023-11-25T10:56:16.436704Z"
    },
    "papermill": {
     "duration": 0.047703,
     "end_time": "2023-11-25T10:56:16.439789",
     "exception": false,
     "start_time": "2023-11-25T10:56:16.392086",
     "status": "completed"
    },
    "tags": []
   },
   "outputs": [
    {
     "data": {
      "text/plain": [
       "<13024x22347 sparse matrix of type '<class 'numpy.float64'>'\n",
       "\twith 478730 stored elements in Compressed Sparse Row format>"
      ]
     },
     "execution_count": 10,
     "metadata": {},
     "output_type": "execute_result"
    }
   ],
   "source": [
    "URM_all = sps.csr_matrix((train_data.data.values,\n",
    "                          ((train_data.row - 1).values, (train_data.col - 1).values)),\n",
    "                        shape=(train_data.row.max(), train_data.col.max()))\n",
    "URM_all"
   ]
  },
  {
   "cell_type": "code",
   "execution_count": 11,
   "id": "4318b1a9",
   "metadata": {
    "execution": {
     "iopub.execute_input": "2023-11-25T10:56:16.467004Z",
     "iopub.status.busy": "2023-11-25T10:56:16.466168Z",
     "iopub.status.idle": "2023-11-25T10:56:16.471463Z",
     "shell.execute_reply": "2023-11-25T10:56:16.470858Z"
    },
    "papermill": {
     "duration": 0.020909,
     "end_time": "2023-11-25T10:56:16.473667",
     "exception": false,
     "start_time": "2023-11-25T10:56:16.452758",
     "status": "completed"
    },
    "tags": []
   },
   "outputs": [
    {
     "name": "stdout",
     "output_type": "stream",
     "text": [
      "/kaggle/working/Recsys_Challenge_2023\n"
     ]
    }
   ],
   "source": [
    "%cd /kaggle/working/Recsys_Challenge_2023"
   ]
  },
  {
   "cell_type": "code",
   "execution_count": 12,
   "id": "2a2fa2a9",
   "metadata": {
    "execution": {
     "iopub.execute_input": "2023-11-25T10:56:16.580099Z",
     "iopub.status.busy": "2023-11-25T10:56:16.579520Z",
     "iopub.status.idle": "2023-11-25T10:56:16.610531Z",
     "shell.execute_reply": "2023-11-25T10:56:16.609508Z"
    },
    "papermill": {
     "duration": 0.125399,
     "end_time": "2023-11-25T10:56:16.612832",
     "exception": false,
     "start_time": "2023-11-25T10:56:16.487433",
     "status": "completed"
    },
    "tags": []
   },
   "outputs": [],
   "source": [
    "from Data_manager.IncrementalSparseMatrix import IncrementalSparseMatrix\n",
    "\n",
    "\n",
    "class CrossValidationSplitter:\n",
    "    def __init__(self, n_splits):\n",
    "        self.n_splits = n_splits\n",
    "        self.folds = []\n",
    "        \n",
    "    def split(self, URM):\n",
    "        n_int_per_split = int(URM.nnz / self.n_splits)\n",
    "        indices = np.arange(0, URM.nnz, 1)\n",
    "        np.random.shuffle(indices)\n",
    "        num_users, num_items = URM.shape\n",
    "        \n",
    "        URM_all = sps.coo_matrix(URM)\n",
    "        \n",
    "        for i in range(self.n_splits):\n",
    "            if i == self.n_splits - 1:\n",
    "                indices_valid = indices[n_int_per_split * i:]\n",
    "                indices_train = indices[:n_int_per_split * i]\n",
    "            else:\n",
    "                indices_valid = indices[n_int_per_split * i: n_int_per_split * (i + 1)]\n",
    "                indices_train_1 = indices[n_int_per_split * max(0, i - 1): n_int_per_split * i]\n",
    "                indices_train_2 = indices[n_int_per_split * (i + 1):]\n",
    "                indices_train = np.concatenate((indices_train_1, indices_train_2))\n",
    "                \n",
    "            URM_valid_builder = IncrementalSparseMatrix(\n",
    "                n_rows=num_users, n_cols=num_items, auto_create_col_mapper=False, \n",
    "                auto_create_row_mapper=False\n",
    "            )\n",
    "            \n",
    "            URM_train_builder = IncrementalSparseMatrix(\n",
    "                n_rows=num_users, n_cols=num_items, auto_create_col_mapper=False, \n",
    "                auto_create_row_mapper=False\n",
    "            )\n",
    "            \n",
    "            URM_valid_builder.add_data_lists(\n",
    "                URM_all.row[indices_valid],\n",
    "                URM_all.col[indices_valid],\n",
    "                URM_all.data[indices_valid]\n",
    "            )\n",
    "            \n",
    "            URM_train_builder.add_data_lists(\n",
    "                URM_all.row[indices_train],\n",
    "                URM_all.col[indices_train],\n",
    "                URM_all.data[indices_train]\n",
    "            )\n",
    "            \n",
    "            yield URM_train_builder.get_SparseMatrix(), URM_valid_builder.get_SparseMatrix()"
   ]
  },
  {
   "cell_type": "code",
   "execution_count": 13,
   "id": "615d7b63",
   "metadata": {
    "execution": {
     "iopub.execute_input": "2023-11-25T10:56:16.640846Z",
     "iopub.status.busy": "2023-11-25T10:56:16.640184Z",
     "iopub.status.idle": "2023-11-25T10:56:17.087876Z",
     "shell.execute_reply": "2023-11-25T10:56:17.087124Z"
    },
    "papermill": {
     "duration": 0.464274,
     "end_time": "2023-11-25T10:56:17.090557",
     "exception": false,
     "start_time": "2023-11-25T10:56:16.626283",
     "status": "completed"
    },
    "tags": []
   },
   "outputs": [],
   "source": [
    "from Recommenders.KNN.UserKNNCFRecommender import UserKNNCFRecommender\n",
    "from Data_manager.split_functions.split_train_validation_random_holdout import split_train_in_two_percentage_global_sample\n",
    "from Recommenders.SLIM.SLIMElasticNetRecommender import MultiThreadSLIM_SLIMElasticNetRecommender\n",
    "from Evaluation.Evaluator import EvaluatorHoldout\n",
    "from Recommenders.MatrixFactorization.IALSRecommender import IALSRecommender\n",
    "from Recommenders.MatrixFactorization.PureSVDRecommender import PureSVDRecommender\n",
    "from Recommenders.KNN.ItemKNNCFRecommender import ItemKNNCFRecommender\n",
    "from Recommenders.KNN.UserKNNCFRecommender import UserKNNCFRecommender\n",
    "from Recommenders.GraphBased.RP3betaRecommender import RP3betaRecommender\n",
    "\n",
    "np.int = int\n",
    "np.random.seed(42)\n",
    "np.bool = bool\n",
    "np.float = float"
   ]
  },
  {
   "cell_type": "code",
   "execution_count": 14,
   "id": "20db85e6",
   "metadata": {
    "execution": {
     "iopub.execute_input": "2023-11-25T10:56:17.119792Z",
     "iopub.status.busy": "2023-11-25T10:56:17.119254Z",
     "iopub.status.idle": "2023-11-25T10:56:17.986862Z",
     "shell.execute_reply": "2023-11-25T10:56:17.985290Z"
    },
    "papermill": {
     "duration": 0.885652,
     "end_time": "2023-11-25T10:56:17.990097",
     "exception": false,
     "start_time": "2023-11-25T10:56:17.104445",
     "status": "completed"
    },
    "tags": []
   },
   "outputs": [
    {
     "name": "stdout",
     "output_type": "stream",
     "text": [
      "Warning: 627 (4.81 %) of 13024 users have no train items\n",
      "Warning: 2568 (19.72 %) of 13024 users have no sampled items\n",
      "Warning: 2953 (22.67 %) of 13024 users have no train items\n",
      "Warning: 6367 (48.89 %) of 13024 users have no sampled items\n"
     ]
    }
   ],
   "source": [
    "URM_train, URM_test_complete = split_train_in_two_percentage_global_sample(URM_all, train_percentage = 0.8)\n",
    "URM_validation, URM_test = split_train_in_two_percentage_global_sample(URM_test_complete, train_percentage = 0.8)"
   ]
  },
  {
   "cell_type": "code",
   "execution_count": 15,
   "id": "d70ba162",
   "metadata": {
    "execution": {
     "iopub.execute_input": "2023-11-25T10:56:18.022079Z",
     "iopub.status.busy": "2023-11-25T10:56:18.021695Z",
     "iopub.status.idle": "2023-11-25T10:56:18.031730Z",
     "shell.execute_reply": "2023-11-25T10:56:18.030891Z"
    },
    "papermill": {
     "duration": 0.028143,
     "end_time": "2023-11-25T10:56:18.033560",
     "exception": false,
     "start_time": "2023-11-25T10:56:18.005417",
     "status": "completed"
    },
    "tags": []
   },
   "outputs": [],
   "source": [
    "from concurrent.futures import ThreadPoolExecutor\n",
    "\n",
    "def evaluate_item_knn(URM_train, URM_valid, params):\n",
    "    recommender = ItemKNNCFRecommender(URM_train)\n",
    "    recommender.fit(**params)\n",
    "\n",
    "    evaluator = EvaluatorHoldout(URM_valid, cutoff_list=[100])\n",
    "    result_df, _ = evaluator.evaluateRecommender(recommender)\n",
    "    print(f'Precision is {result_df.loc[100, \"PRECISION\"]}')\n",
    "    return result_df.loc[100, 'PRECISION']\n",
    "\n",
    "\n",
    "def objective_item_knn(trial):\n",
    "    params = {\n",
    "        'topK': trial.suggest_int('topK', 10, 1000),\n",
    "        'shrink': trial.suggest_int('shrink', 0, 500),\n",
    "        'similarity': trial.suggest_categorical('similarity', [\"cosine\", \"asymmetric\", \"dice\", \"jaccard\", \"tanimoto\", \"tversky\", \"euclidean\"]),        \n",
    "    }\n",
    "    \n",
    "    if params['similarity'] == \"asymmetric\":\n",
    "        params[\"asymmetric_alpha\"] = trial.suggest_float(\"asymmetric_alpha\", 0, 2, log=False)\n",
    "        params[\"normalize\"] = True     \n",
    "\n",
    "    elif params['similarity'] == \"tversky\":\n",
    "        params[\"tversky_alpha\"] = trial.suggest_float(\"tversky_alpha\", 0, 2, log=False)\n",
    "        params[\"tversky_beta\"] = trial.suggest_float(\"tversky_beta\", 0, 2, log=False)\n",
    "        params[\"normalize\"] = True \n",
    "\n",
    "    elif params['similarity'] == \"euclidean\":\n",
    "        params[\"normalize_avg_row\"] = trial.suggest_categorical(\"normalize_avg_row\", [True, False])\n",
    "        params[\"similarity_from_distance_mode\"] = trial.suggest_categorical(\"similarity_from_distance_mode\", [\"lin\", \"log\", \"exp\"])\n",
    "        params[\"normalize\"] = trial.suggest_categorical(\"normalize\", [True, False])\n",
    "    \n",
    "    results = [None] * 10\n",
    "    with ThreadPoolExecutor(max_workers=10) as executor:\n",
    "        futures = []\n",
    "        for URM_train, URM_valid in CrossValidationSplitter(10).split(URM_all):\n",
    "            futures.append(executor.submit(evaluate_item_knn, URM_train, URM_valid, params))\n",
    "        print(len(futures))\n",
    "        for j, future in enumerate(futures):\n",
    "            results[j] = future.result()\n",
    "        \n",
    "    return np.mean(results)"
   ]
  },
  {
   "cell_type": "code",
   "execution_count": 16,
   "id": "cee8b3b8",
   "metadata": {
    "_kg_hide-output": true,
    "execution": {
     "iopub.execute_input": "2023-11-25T10:56:18.060906Z",
     "iopub.status.busy": "2023-11-25T10:56:18.060268Z",
     "iopub.status.idle": "2023-11-25T10:56:18.065839Z",
     "shell.execute_reply": "2023-11-25T10:56:18.064838Z"
    },
    "papermill": {
     "duration": 0.021169,
     "end_time": "2023-11-25T10:56:18.067622",
     "exception": false,
     "start_time": "2023-11-25T10:56:18.046453",
     "status": "completed"
    },
    "scrolled": true,
    "tags": []
   },
   "outputs": [],
   "source": [
    "if config['tune_precision']:\n",
    "    study = optuna.create_study(direction='maximize', study_name='hyperparameters_tuning_knn_item_precision@100', \n",
    "                                storage=f'sqlite:///{config[\"database_path\"]}', load_if_exists=True)\n",
    "    study.optimize(objective_item_knn, n_trials=50)"
   ]
  },
  {
   "cell_type": "code",
   "execution_count": 17,
   "id": "168517c2",
   "metadata": {
    "execution": {
     "iopub.execute_input": "2023-11-25T10:56:18.098750Z",
     "iopub.status.busy": "2023-11-25T10:56:18.097726Z",
     "iopub.status.idle": "2023-11-25T10:56:18.103173Z",
     "shell.execute_reply": "2023-11-25T10:56:18.101562Z"
    },
    "papermill": {
     "duration": 0.023176,
     "end_time": "2023-11-25T10:56:18.105174",
     "exception": false,
     "start_time": "2023-11-25T10:56:18.081998",
     "status": "completed"
    },
    "tags": []
   },
   "outputs": [],
   "source": [
    "if config['tune_precision']:\n",
    "    fig = optuna.visualization.plot_optimization_history(study)\n",
    "    fig.show()"
   ]
  },
  {
   "cell_type": "code",
   "execution_count": 18,
   "id": "d31ac604",
   "metadata": {
    "execution": {
     "iopub.execute_input": "2023-11-25T10:56:18.132103Z",
     "iopub.status.busy": "2023-11-25T10:56:18.131658Z",
     "iopub.status.idle": "2023-11-25T10:56:18.136970Z",
     "shell.execute_reply": "2023-11-25T10:56:18.135654Z"
    },
    "papermill": {
     "duration": 0.020909,
     "end_time": "2023-11-25T10:56:18.138769",
     "exception": false,
     "start_time": "2023-11-25T10:56:18.117860",
     "status": "completed"
    },
    "tags": []
   },
   "outputs": [],
   "source": [
    "if config['tune_precision']:\n",
    "    fig = optuna.visualization.plot_param_importances(study)\n",
    "    fig.show()"
   ]
  },
  {
   "cell_type": "code",
   "execution_count": 19,
   "id": "2b50da24",
   "metadata": {
    "execution": {
     "iopub.execute_input": "2023-11-25T10:56:18.165493Z",
     "iopub.status.busy": "2023-11-25T10:56:18.164705Z",
     "iopub.status.idle": "2023-11-25T10:56:18.169064Z",
     "shell.execute_reply": "2023-11-25T10:56:18.168383Z"
    },
    "papermill": {
     "duration": 0.020742,
     "end_time": "2023-11-25T10:56:18.171661",
     "exception": false,
     "start_time": "2023-11-25T10:56:18.150919",
     "status": "completed"
    },
    "tags": []
   },
   "outputs": [],
   "source": [
    "if config['tune_precision']:\n",
    "    fig = optuna.visualization.plot_slice(study)\n",
    "    fig.show()"
   ]
  },
  {
   "cell_type": "code",
   "execution_count": 20,
   "id": "f7b8e8f2",
   "metadata": {
    "execution": {
     "iopub.execute_input": "2023-11-25T10:56:18.201278Z",
     "iopub.status.busy": "2023-11-25T10:56:18.200781Z",
     "iopub.status.idle": "2023-11-25T10:56:18.210055Z",
     "shell.execute_reply": "2023-11-25T10:56:18.208987Z"
    },
    "papermill": {
     "duration": 0.026027,
     "end_time": "2023-11-25T10:56:18.211818",
     "exception": false,
     "start_time": "2023-11-25T10:56:18.185791",
     "status": "completed"
    },
    "tags": []
   },
   "outputs": [],
   "source": [
    "if config['tune_precision']:\n",
    "    with open('/kaggle/working/best_params_item_knn_precision.json', 'w') as params_file:\n",
    "        json.dump(study.best_params, params_file)\n",
    "        \n",
    "    if config['save_github']: \n",
    "        upload_file(\n",
    "            '/kaggle/working/best_params_item_knn_precision.json', \n",
    "            'tuning_results/best_params_item_knn_precision.json', \n",
    "            'Item KNN precision results (from kaggle notebook)'\n",
    "        )\n",
    "    \n",
    "elif config['copy_prev_best_params']:\n",
    "    shutil.copyfile(\n",
    "        '/kaggle/input/hybrid-precision/best_params_item_knn_precision.json', \n",
    "        '/kaggle/working/best_params_item_knn_precision.json'\n",
    "    )"
   ]
  },
  {
   "cell_type": "code",
   "execution_count": 21,
   "id": "a61fb989",
   "metadata": {
    "execution": {
     "iopub.execute_input": "2023-11-25T10:56:18.238780Z",
     "iopub.status.busy": "2023-11-25T10:56:18.238335Z",
     "iopub.status.idle": "2023-11-25T10:56:18.244969Z",
     "shell.execute_reply": "2023-11-25T10:56:18.244313Z"
    },
    "papermill": {
     "duration": 0.02176,
     "end_time": "2023-11-25T10:56:18.246490",
     "exception": false,
     "start_time": "2023-11-25T10:56:18.224730",
     "status": "completed"
    },
    "tags": []
   },
   "outputs": [
    {
     "data": {
      "text/plain": [
       "{'topK': 32, 'shrink': 33, 'similarity': 'tanimoto'}"
      ]
     },
     "execution_count": 21,
     "metadata": {},
     "output_type": "execute_result"
    }
   ],
   "source": [
    "with open('/kaggle/working/best_params_item_knn_precision.json', 'r') as params_file:\n",
    "    params_knn = json.load(params_file)\n",
    "params_knn"
   ]
  },
  {
   "cell_type": "code",
   "execution_count": 22,
   "id": "1adc339c",
   "metadata": {
    "execution": {
     "iopub.execute_input": "2023-11-25T10:56:18.273620Z",
     "iopub.status.busy": "2023-11-25T10:56:18.272516Z",
     "iopub.status.idle": "2023-11-25T10:56:27.203949Z",
     "shell.execute_reply": "2023-11-25T10:56:27.203294Z"
    },
    "papermill": {
     "duration": 8.947704,
     "end_time": "2023-11-25T10:56:27.206342",
     "exception": false,
     "start_time": "2023-11-25T10:56:18.258638",
     "status": "completed"
    },
    "tags": []
   },
   "outputs": [
    {
     "name": "stdout",
     "output_type": "stream",
     "text": [
      "ItemKNNCFRecommender: URM Detected 627 ( 4.8%) users with no interactions.\n",
      "ItemKNNCFRecommender: URM Detected 247 ( 1.1%) items with no interactions.\n",
      "Similarity column 22347 (100.0%), 7316.96 column/sec. Elapsed time 3.05 sec\n",
      "EvaluatorHoldout: Ignoring 2568 (19.7%) Users that have less than 1 test interactions\n",
      "EvaluatorHoldout: Processed 10456 (100.0%) in 5.75 sec. Users per second: 1818\n"
     ]
    },
    {
     "data": {
      "text/html": [
       "<div>\n",
       "<style scoped>\n",
       "    .dataframe tbody tr th:only-of-type {\n",
       "        vertical-align: middle;\n",
       "    }\n",
       "\n",
       "    .dataframe tbody tr th {\n",
       "        vertical-align: top;\n",
       "    }\n",
       "\n",
       "    .dataframe thead th {\n",
       "        text-align: right;\n",
       "    }\n",
       "</style>\n",
       "<table border=\"1\" class=\"dataframe\">\n",
       "  <thead>\n",
       "    <tr style=\"text-align: right;\">\n",
       "      <th></th>\n",
       "      <th>PRECISION</th>\n",
       "      <th>PRECISION_RECALL_MIN_DEN</th>\n",
       "      <th>RECALL</th>\n",
       "      <th>MAP</th>\n",
       "      <th>MAP_MIN_DEN</th>\n",
       "      <th>MRR</th>\n",
       "      <th>NDCG</th>\n",
       "      <th>F1</th>\n",
       "      <th>HIT_RATE</th>\n",
       "      <th>ARHR_ALL_HITS</th>\n",
       "      <th>...</th>\n",
       "      <th>COVERAGE_USER</th>\n",
       "      <th>COVERAGE_USER_HIT</th>\n",
       "      <th>USERS_IN_GT</th>\n",
       "      <th>DIVERSITY_GINI</th>\n",
       "      <th>SHANNON_ENTROPY</th>\n",
       "      <th>RATIO_DIVERSITY_HERFINDAHL</th>\n",
       "      <th>RATIO_DIVERSITY_GINI</th>\n",
       "      <th>RATIO_SHANNON_ENTROPY</th>\n",
       "      <th>RATIO_AVERAGE_POPULARITY</th>\n",
       "      <th>RATIO_NOVELTY</th>\n",
       "    </tr>\n",
       "    <tr>\n",
       "      <th>cutoff</th>\n",
       "      <th></th>\n",
       "      <th></th>\n",
       "      <th></th>\n",
       "      <th></th>\n",
       "      <th></th>\n",
       "      <th></th>\n",
       "      <th></th>\n",
       "      <th></th>\n",
       "      <th></th>\n",
       "      <th></th>\n",
       "      <th></th>\n",
       "      <th></th>\n",
       "      <th></th>\n",
       "      <th></th>\n",
       "      <th></th>\n",
       "      <th></th>\n",
       "      <th></th>\n",
       "      <th></th>\n",
       "      <th></th>\n",
       "      <th></th>\n",
       "      <th></th>\n",
       "    </tr>\n",
       "  </thead>\n",
       "  <tbody>\n",
       "    <tr>\n",
       "      <th>10</th>\n",
       "      <td>0.085033</td>\n",
       "      <td>0.147081</td>\n",
       "      <td>0.123712</td>\n",
       "      <td>0.043282</td>\n",
       "      <td>0.0743</td>\n",
       "      <td>0.248788</td>\n",
       "      <td>0.135035</td>\n",
       "      <td>0.100789</td>\n",
       "      <td>0.482881</td>\n",
       "      <td>0.324451</td>\n",
       "      <td>...</td>\n",
       "      <td>0.802826</td>\n",
       "      <td>0.387669</td>\n",
       "      <td>0.802826</td>\n",
       "      <td>0.054251</td>\n",
       "      <td>10.03004</td>\n",
       "      <td>0.997326</td>\n",
       "      <td>0.156536</td>\n",
       "      <td>0.772675</td>\n",
       "      <td>1.925012</td>\n",
       "      <td>0.295821</td>\n",
       "    </tr>\n",
       "  </tbody>\n",
       "</table>\n",
       "<p>1 rows × 27 columns</p>\n",
       "</div>"
      ],
      "text/plain": [
       "       PRECISION PRECISION_RECALL_MIN_DEN    RECALL       MAP MAP_MIN_DEN  \\\n",
       "cutoff                                                                      \n",
       "10      0.085033                 0.147081  0.123712  0.043282      0.0743   \n",
       "\n",
       "             MRR      NDCG        F1  HIT_RATE ARHR_ALL_HITS  ...  \\\n",
       "cutoff                                                        ...   \n",
       "10      0.248788  0.135035  0.100789  0.482881      0.324451  ...   \n",
       "\n",
       "       COVERAGE_USER COVERAGE_USER_HIT USERS_IN_GT DIVERSITY_GINI  \\\n",
       "cutoff                                                              \n",
       "10          0.802826          0.387669    0.802826       0.054251   \n",
       "\n",
       "       SHANNON_ENTROPY RATIO_DIVERSITY_HERFINDAHL RATIO_DIVERSITY_GINI  \\\n",
       "cutoff                                                                   \n",
       "10            10.03004                   0.997326             0.156536   \n",
       "\n",
       "       RATIO_SHANNON_ENTROPY RATIO_AVERAGE_POPULARITY RATIO_NOVELTY  \n",
       "cutoff                                                               \n",
       "10                  0.772675                 1.925012      0.295821  \n",
       "\n",
       "[1 rows x 27 columns]"
      ]
     },
     "execution_count": 22,
     "metadata": {},
     "output_type": "execute_result"
    }
   ],
   "source": [
    "recommender = ItemKNNCFRecommender(URM_train)\n",
    "recommender.fit(**params_knn)\n",
    "\n",
    "evaluator = EvaluatorHoldout(URM_test_complete, cutoff_list=[10])\n",
    "result_df, _ = evaluator.evaluateRecommender(recommender)\n",
    "result_df"
   ]
  },
  {
   "cell_type": "code",
   "execution_count": 23,
   "id": "b248a1ae",
   "metadata": {
    "execution": {
     "iopub.execute_input": "2023-11-25T10:56:27.237128Z",
     "iopub.status.busy": "2023-11-25T10:56:27.236467Z",
     "iopub.status.idle": "2023-11-25T10:56:27.524247Z",
     "shell.execute_reply": "2023-11-25T10:56:27.523025Z"
    },
    "papermill": {
     "duration": 0.305901,
     "end_time": "2023-11-25T10:56:27.526409",
     "exception": false,
     "start_time": "2023-11-25T10:56:27.220508",
     "status": "completed"
    },
    "tags": []
   },
   "outputs": [
    {
     "data": {
      "text/plain": [
       "<13024x22347 sparse matrix of type '<class 'numpy.float64'>'\n",
       "\twith 9768701 stored elements in Compressed Sparse Row format>"
      ]
     },
     "execution_count": 23,
     "metadata": {},
     "output_type": "execute_result"
    }
   ],
   "source": [
    "URM_train_item_knn = URM_train.dot(recommender.W_sparse)\n",
    "URM_train_item_knn"
   ]
  },
  {
   "cell_type": "code",
   "execution_count": 24,
   "id": "70d72b92",
   "metadata": {
    "execution": {
     "iopub.execute_input": "2023-11-25T10:56:27.554729Z",
     "iopub.status.busy": "2023-11-25T10:56:27.554382Z",
     "iopub.status.idle": "2023-11-25T10:56:27.562062Z",
     "shell.execute_reply": "2023-11-25T10:56:27.560344Z"
    },
    "papermill": {
     "duration": 0.024551,
     "end_time": "2023-11-25T10:56:27.564537",
     "exception": false,
     "start_time": "2023-11-25T10:56:27.539986",
     "status": "completed"
    },
    "tags": []
   },
   "outputs": [
    {
     "data": {
      "text/plain": [
       "{'alpha': 0.513297287731911, 'beta': 0.14806602610935488, 'topK': 54}"
      ]
     },
     "execution_count": 24,
     "metadata": {},
     "output_type": "execute_result"
    }
   ],
   "source": [
    "with open('/kaggle/working/Recsys_Challenge_2023/tuning_results/best_params_RP3.json', 'r') as params_file:\n",
    "    params_rp3 = json.load(params_file)\n",
    "params_rp3"
   ]
  },
  {
   "cell_type": "code",
   "execution_count": 25,
   "id": "cff95aa7",
   "metadata": {
    "execution": {
     "iopub.execute_input": "2023-11-25T10:56:27.597548Z",
     "iopub.status.busy": "2023-11-25T10:56:27.596814Z",
     "iopub.status.idle": "2023-11-25T10:58:24.053059Z",
     "shell.execute_reply": "2023-11-25T10:58:24.051685Z"
    },
    "papermill": {
     "duration": 116.475725,
     "end_time": "2023-11-25T10:58:24.056269",
     "exception": false,
     "start_time": "2023-11-25T10:56:27.580544",
     "status": "completed"
    },
    "tags": []
   },
   "outputs": [
    {
     "name": "stdout",
     "output_type": "stream",
     "text": [
      "RP3betaRecommender: URM Detected 629 ( 4.8%) users with no interactions.\n",
      "RP3betaRecommender: URM Detected 248 ( 1.1%) items with no interactions.\n",
      "RP3betaRecommender: Similarity column 22347 (100.0%), 194.33 column/sec. Elapsed time 1.92 min\n"
     ]
    }
   ],
   "source": [
    "recommender_rp3 = RP3betaRecommender(URM_train_item_knn)\n",
    "recommender_rp3.fit(**params_rp3)"
   ]
  },
  {
   "cell_type": "code",
   "execution_count": 26,
   "id": "a69d05b9",
   "metadata": {
    "execution": {
     "iopub.execute_input": "2023-11-25T10:58:24.088414Z",
     "iopub.status.busy": "2023-11-25T10:58:24.086823Z",
     "iopub.status.idle": "2023-11-25T10:58:31.208570Z",
     "shell.execute_reply": "2023-11-25T10:58:31.207489Z"
    },
    "papermill": {
     "duration": 7.139487,
     "end_time": "2023-11-25T10:58:31.210776",
     "exception": false,
     "start_time": "2023-11-25T10:58:24.071289",
     "status": "completed"
    },
    "tags": []
   },
   "outputs": [
    {
     "name": "stdout",
     "output_type": "stream",
     "text": [
      "EvaluatorHoldout: Ignoring 2568 (19.7%) Users that have less than 1 test interactions\n",
      "EvaluatorHoldout: Processed 10456 (100.0%) in 7.09 sec. Users per second: 1476\n"
     ]
    },
    {
     "data": {
      "text/html": [
       "<div>\n",
       "<style scoped>\n",
       "    .dataframe tbody tr th:only-of-type {\n",
       "        vertical-align: middle;\n",
       "    }\n",
       "\n",
       "    .dataframe tbody tr th {\n",
       "        vertical-align: top;\n",
       "    }\n",
       "\n",
       "    .dataframe thead th {\n",
       "        text-align: right;\n",
       "    }\n",
       "</style>\n",
       "<table border=\"1\" class=\"dataframe\">\n",
       "  <thead>\n",
       "    <tr style=\"text-align: right;\">\n",
       "      <th></th>\n",
       "      <th>PRECISION</th>\n",
       "      <th>PRECISION_RECALL_MIN_DEN</th>\n",
       "      <th>RECALL</th>\n",
       "      <th>MAP</th>\n",
       "      <th>MAP_MIN_DEN</th>\n",
       "      <th>MRR</th>\n",
       "      <th>NDCG</th>\n",
       "      <th>F1</th>\n",
       "      <th>HIT_RATE</th>\n",
       "      <th>ARHR_ALL_HITS</th>\n",
       "      <th>...</th>\n",
       "      <th>COVERAGE_USER</th>\n",
       "      <th>COVERAGE_USER_HIT</th>\n",
       "      <th>USERS_IN_GT</th>\n",
       "      <th>DIVERSITY_GINI</th>\n",
       "      <th>SHANNON_ENTROPY</th>\n",
       "      <th>RATIO_DIVERSITY_HERFINDAHL</th>\n",
       "      <th>RATIO_DIVERSITY_GINI</th>\n",
       "      <th>RATIO_SHANNON_ENTROPY</th>\n",
       "      <th>RATIO_AVERAGE_POPULARITY</th>\n",
       "      <th>RATIO_NOVELTY</th>\n",
       "    </tr>\n",
       "    <tr>\n",
       "      <th>cutoff</th>\n",
       "      <th></th>\n",
       "      <th></th>\n",
       "      <th></th>\n",
       "      <th></th>\n",
       "      <th></th>\n",
       "      <th></th>\n",
       "      <th></th>\n",
       "      <th></th>\n",
       "      <th></th>\n",
       "      <th></th>\n",
       "      <th></th>\n",
       "      <th></th>\n",
       "      <th></th>\n",
       "      <th></th>\n",
       "      <th></th>\n",
       "      <th></th>\n",
       "      <th></th>\n",
       "      <th></th>\n",
       "      <th></th>\n",
       "      <th></th>\n",
       "      <th></th>\n",
       "    </tr>\n",
       "  </thead>\n",
       "  <tbody>\n",
       "    <tr>\n",
       "      <th>10</th>\n",
       "      <td>0.040149</td>\n",
       "      <td>0.080732</td>\n",
       "      <td>0.071836</td>\n",
       "      <td>0.014701</td>\n",
       "      <td>0.029663</td>\n",
       "      <td>0.112219</td>\n",
       "      <td>0.062321</td>\n",
       "      <td>0.05151</td>\n",
       "      <td>0.309296</td>\n",
       "      <td>0.128398</td>\n",
       "      <td>...</td>\n",
       "      <td>0.802826</td>\n",
       "      <td>0.248311</td>\n",
       "      <td>0.802826</td>\n",
       "      <td>0.015741</td>\n",
       "      <td>8.70746</td>\n",
       "      <td>0.994924</td>\n",
       "      <td>0.035004</td>\n",
       "      <td>0.642622</td>\n",
       "      <td>2.024639</td>\n",
       "      <td>0.011825</td>\n",
       "    </tr>\n",
       "  </tbody>\n",
       "</table>\n",
       "<p>1 rows × 27 columns</p>\n",
       "</div>"
      ],
      "text/plain": [
       "       PRECISION PRECISION_RECALL_MIN_DEN    RECALL       MAP MAP_MIN_DEN  \\\n",
       "cutoff                                                                      \n",
       "10      0.040149                 0.080732  0.071836  0.014701    0.029663   \n",
       "\n",
       "             MRR      NDCG       F1  HIT_RATE ARHR_ALL_HITS  ...  \\\n",
       "cutoff                                                       ...   \n",
       "10      0.112219  0.062321  0.05151  0.309296      0.128398  ...   \n",
       "\n",
       "       COVERAGE_USER COVERAGE_USER_HIT USERS_IN_GT DIVERSITY_GINI  \\\n",
       "cutoff                                                              \n",
       "10          0.802826          0.248311    0.802826       0.015741   \n",
       "\n",
       "       SHANNON_ENTROPY RATIO_DIVERSITY_HERFINDAHL RATIO_DIVERSITY_GINI  \\\n",
       "cutoff                                                                   \n",
       "10             8.70746                   0.994924             0.035004   \n",
       "\n",
       "       RATIO_SHANNON_ENTROPY RATIO_AVERAGE_POPULARITY RATIO_NOVELTY  \n",
       "cutoff                                                               \n",
       "10                  0.642622                 2.024639      0.011825  \n",
       "\n",
       "[1 rows x 27 columns]"
      ]
     },
     "execution_count": 26,
     "metadata": {},
     "output_type": "execute_result"
    }
   ],
   "source": [
    "evaluator = EvaluatorHoldout(URM_test_complete, cutoff_list=[10], exclude_seen=False)\n",
    "result_df, _ = evaluator.evaluateRecommender(recommender_rp3)\n",
    "result_df"
   ]
  },
  {
   "cell_type": "code",
   "execution_count": 27,
   "id": "8706eef0",
   "metadata": {
    "execution": {
     "iopub.execute_input": "2023-11-25T10:58:31.244116Z",
     "iopub.status.busy": "2023-11-25T10:58:31.243657Z",
     "iopub.status.idle": "2023-11-25T10:58:31.253324Z",
     "shell.execute_reply": "2023-11-25T10:58:31.252456Z"
    },
    "papermill": {
     "duration": 0.029664,
     "end_time": "2023-11-25T10:58:31.255584",
     "exception": false,
     "start_time": "2023-11-25T10:58:31.225920",
     "status": "completed"
    },
    "tags": []
   },
   "outputs": [],
   "source": [
    "class PipelineRecommender:\n",
    "    def __init__(self, coarse_recommender_class, fine_recommender_class, coarse_fit_params, fine_fit_params, URM_train):\n",
    "        self.URM_train = URM_train\n",
    "        self.coarse_recommender_class = coarse_recommender_class\n",
    "        self.fine_recommender_class = fine_recommender_class\n",
    "        self.coarse_fit_params = coarse_fit_params\n",
    "        self.fine_fit_params = fine_fit_params\n",
    "    \n",
    "    def fit(self):\n",
    "        self.coarse_recommender = self.coarse_recommender_class(self.URM_train)\n",
    "        self.coarse_recommender.fit(**self.coarse_fit_params)\n",
    "        URM_coarse = self.URM_train.dot(self.coarse_recommender.W_sparse)\n",
    "        self.fine_recommender = self.fine_recommender_class(URM_coarse)\n",
    "        self.fine_recommender.fit(**self.fine_fit_params)\n",
    "        \n",
    "    def recommend(self, user_ids, cutoff=10, remove_seen_flag=True, remove_top_pop_flag=False, \n",
    "                  return_scores=True, remove_custom_items_flag=True):\n",
    "        items = set(np.arange(self.URM_train.shape[1]).tolist())\n",
    "        final_recommendations = []\n",
    "        final_scores = []\n",
    "        for user_id in user_ids:\n",
    "            # custom remove seen flag, since the fine recommender is trained with much more non zero entries\n",
    "            # but the true seen items are in the original urm\n",
    "            items_to_compute = list(items - set(self.URM_train[user_id].nonzero()[1].tolist()))\n",
    "            recommendations, scores = self.fine_recommender.recommend(\n",
    "                [user_id],\n",
    "                cutoff=cutoff,\n",
    "                items_to_compute=items_to_compute, \n",
    "                remove_seen_flag=False, # if true it will remove most of the items since fine train matrix is less sparse\n",
    "                remove_top_pop_flag=remove_top_pop_flag, \n",
    "                return_scores=True, \n",
    "                remove_custom_items_flag=remove_custom_items_flag\n",
    "            )\n",
    "            final_recommendations.append(recommendations[0])\n",
    "            final_scores.append(scores[0])\n",
    "        if return_scores:\n",
    "            return np.array(final_recommendations), np.array(final_scores)\n",
    "        return np.array(final_recommendations)\n",
    "        \n",
    "    def get_URM_train(self):\n",
    "        return self.URM_train"
   ]
  },
  {
   "cell_type": "code",
   "execution_count": 28,
   "id": "06013cd7",
   "metadata": {
    "execution": {
     "iopub.execute_input": "2023-11-25T10:58:31.288813Z",
     "iopub.status.busy": "2023-11-25T10:58:31.288355Z",
     "iopub.status.idle": "2023-11-25T11:00:31.102462Z",
     "shell.execute_reply": "2023-11-25T11:00:31.101294Z"
    },
    "papermill": {
     "duration": 119.8335,
     "end_time": "2023-11-25T11:00:31.105325",
     "exception": false,
     "start_time": "2023-11-25T10:58:31.271825",
     "status": "completed"
    },
    "tags": []
   },
   "outputs": [
    {
     "name": "stdout",
     "output_type": "stream",
     "text": [
      "ItemKNNCFRecommender: URM Detected 627 ( 4.8%) users with no interactions.\n",
      "ItemKNNCFRecommender: URM Detected 247 ( 1.1%) items with no interactions.\n",
      "Similarity column 22347 (100.0%), 7311.02 column/sec. Elapsed time 3.06 sec\n",
      "RP3betaRecommender: URM Detected 629 ( 4.8%) users with no interactions.\n",
      "RP3betaRecommender: URM Detected 248 ( 1.1%) items with no interactions.\n",
      "RP3betaRecommender: Similarity column 22347 (100.0%), 194.50 column/sec. Elapsed time 1.91 min\n"
     ]
    }
   ],
   "source": [
    "recommender = PipelineRecommender(ItemKNNCFRecommender, RP3betaRecommender, params_knn, params_rp3, URM_train)\n",
    "recommender.fit()"
   ]
  },
  {
   "cell_type": "code",
   "execution_count": 29,
   "id": "273ded6a",
   "metadata": {
    "execution": {
     "iopub.execute_input": "2023-11-25T11:00:31.135964Z",
     "iopub.status.busy": "2023-11-25T11:00:31.135630Z",
     "iopub.status.idle": "2023-11-25T11:01:12.326319Z",
     "shell.execute_reply": "2023-11-25T11:01:12.325198Z"
    },
    "papermill": {
     "duration": 41.207707,
     "end_time": "2023-11-25T11:01:12.328102",
     "exception": false,
     "start_time": "2023-11-25T11:00:31.120395",
     "status": "completed"
    },
    "tags": []
   },
   "outputs": [
    {
     "name": "stdout",
     "output_type": "stream",
     "text": [
      "EvaluatorHoldout: Ignoring 2568 (19.7%) Users that have less than 1 test interactions\n",
      "EvaluatorHoldout: Processed 10456 (100.0%) in 41.16 sec. Users per second: 254\n"
     ]
    },
    {
     "data": {
      "text/html": [
       "<div>\n",
       "<style scoped>\n",
       "    .dataframe tbody tr th:only-of-type {\n",
       "        vertical-align: middle;\n",
       "    }\n",
       "\n",
       "    .dataframe tbody tr th {\n",
       "        vertical-align: top;\n",
       "    }\n",
       "\n",
       "    .dataframe thead th {\n",
       "        text-align: right;\n",
       "    }\n",
       "</style>\n",
       "<table border=\"1\" class=\"dataframe\">\n",
       "  <thead>\n",
       "    <tr style=\"text-align: right;\">\n",
       "      <th></th>\n",
       "      <th>PRECISION</th>\n",
       "      <th>PRECISION_RECALL_MIN_DEN</th>\n",
       "      <th>RECALL</th>\n",
       "      <th>MAP</th>\n",
       "      <th>MAP_MIN_DEN</th>\n",
       "      <th>MRR</th>\n",
       "      <th>NDCG</th>\n",
       "      <th>F1</th>\n",
       "      <th>HIT_RATE</th>\n",
       "      <th>ARHR_ALL_HITS</th>\n",
       "      <th>...</th>\n",
       "      <th>COVERAGE_USER</th>\n",
       "      <th>COVERAGE_USER_HIT</th>\n",
       "      <th>USERS_IN_GT</th>\n",
       "      <th>DIVERSITY_GINI</th>\n",
       "      <th>SHANNON_ENTROPY</th>\n",
       "      <th>RATIO_DIVERSITY_HERFINDAHL</th>\n",
       "      <th>RATIO_DIVERSITY_GINI</th>\n",
       "      <th>RATIO_SHANNON_ENTROPY</th>\n",
       "      <th>RATIO_AVERAGE_POPULARITY</th>\n",
       "      <th>RATIO_NOVELTY</th>\n",
       "    </tr>\n",
       "    <tr>\n",
       "      <th>cutoff</th>\n",
       "      <th></th>\n",
       "      <th></th>\n",
       "      <th></th>\n",
       "      <th></th>\n",
       "      <th></th>\n",
       "      <th></th>\n",
       "      <th></th>\n",
       "      <th></th>\n",
       "      <th></th>\n",
       "      <th></th>\n",
       "      <th></th>\n",
       "      <th></th>\n",
       "      <th></th>\n",
       "      <th></th>\n",
       "      <th></th>\n",
       "      <th></th>\n",
       "      <th></th>\n",
       "      <th></th>\n",
       "      <th></th>\n",
       "      <th></th>\n",
       "      <th></th>\n",
       "    </tr>\n",
       "  </thead>\n",
       "  <tbody>\n",
       "    <tr>\n",
       "      <th>10</th>\n",
       "      <td>0.057785</td>\n",
       "      <td>0.105179</td>\n",
       "      <td>0.08944</td>\n",
       "      <td>0.025882</td>\n",
       "      <td>0.045513</td>\n",
       "      <td>0.164249</td>\n",
       "      <td>0.089164</td>\n",
       "      <td>0.070209</td>\n",
       "      <td>0.374904</td>\n",
       "      <td>0.204495</td>\n",
       "      <td>...</td>\n",
       "      <td>0.802826</td>\n",
       "      <td>0.300983</td>\n",
       "      <td>0.802826</td>\n",
       "      <td>0.018422</td>\n",
       "      <td>8.910796</td>\n",
       "      <td>0.995616</td>\n",
       "      <td>0.053154</td>\n",
       "      <td>0.686453</td>\n",
       "      <td>2.002961</td>\n",
       "      <td>0.289269</td>\n",
       "    </tr>\n",
       "  </tbody>\n",
       "</table>\n",
       "<p>1 rows × 27 columns</p>\n",
       "</div>"
      ],
      "text/plain": [
       "       PRECISION PRECISION_RECALL_MIN_DEN   RECALL       MAP MAP_MIN_DEN  \\\n",
       "cutoff                                                                     \n",
       "10      0.057785                 0.105179  0.08944  0.025882    0.045513   \n",
       "\n",
       "             MRR      NDCG        F1  HIT_RATE ARHR_ALL_HITS  ...  \\\n",
       "cutoff                                                        ...   \n",
       "10      0.164249  0.089164  0.070209  0.374904      0.204495  ...   \n",
       "\n",
       "       COVERAGE_USER COVERAGE_USER_HIT USERS_IN_GT DIVERSITY_GINI  \\\n",
       "cutoff                                                              \n",
       "10          0.802826          0.300983    0.802826       0.018422   \n",
       "\n",
       "       SHANNON_ENTROPY RATIO_DIVERSITY_HERFINDAHL RATIO_DIVERSITY_GINI  \\\n",
       "cutoff                                                                   \n",
       "10            8.910796                   0.995616             0.053154   \n",
       "\n",
       "       RATIO_SHANNON_ENTROPY RATIO_AVERAGE_POPULARITY RATIO_NOVELTY  \n",
       "cutoff                                                               \n",
       "10                  0.686453                 2.002961      0.289269  \n",
       "\n",
       "[1 rows x 27 columns]"
      ]
     },
     "execution_count": 29,
     "metadata": {},
     "output_type": "execute_result"
    }
   ],
   "source": [
    "evaluator = EvaluatorHoldout(URM_test_complete, cutoff_list=[10])\n",
    "result_df, _ = evaluator.evaluateRecommender(recommender)\n",
    "result_df"
   ]
  },
  {
   "cell_type": "code",
   "execution_count": 30,
   "id": "046e3129",
   "metadata": {
    "_kg_hide-output": true,
    "execution": {
     "iopub.execute_input": "2023-11-25T11:01:12.357535Z",
     "iopub.status.busy": "2023-11-25T11:01:12.357195Z",
     "iopub.status.idle": "2023-11-25T11:01:30.032328Z",
     "shell.execute_reply": "2023-11-25T11:01:30.030993Z"
    },
    "papermill": {
     "duration": 17.693811,
     "end_time": "2023-11-25T11:01:30.035840",
     "exception": false,
     "start_time": "2023-11-25T11:01:12.342029",
     "status": "completed"
    },
    "scrolled": true,
    "tags": []
   },
   "outputs": [
    {
     "name": "stdout",
     "output_type": "stream",
     "text": [
      "ItemKNNCFRecommender: URM Detected 631 ( 4.8%) users with no interactions.\n",
      "ItemKNNCFRecommender: URM Detected 248 ( 1.1%) items with no interactions.\n",
      "Similarity column 22347 (100.0%), 7386.78 column/sec. Elapsed time 3.03 sec\n",
      "ItemKNNCFRecommender: URM Detected 599 ( 4.6%) users with no interactions.\n",
      "ItemKNNCFRecommender: URM Detected 228 ( 1.0%) items with no interactions.\n",
      "Similarity column 22347 (100.0%), 7396.44 column/sec. Elapsed time 3.02 sec\n",
      "ItemKNNCFRecommender: URM Detected 944 ( 7.2%) users with no interactions.\n",
      "ItemKNNCFRecommender: URM Detected 545 ( 2.4%) items with no interactions.\n",
      "Similarity column 22347 (100.0%), 8385.27 column/sec. Elapsed time 2.67 sec\n",
      "ItemKNNCFRecommender: URM Detected 1462 (11.2%) users with no interactions.\n",
      "ItemKNNCFRecommender: URM Detected 1494 ( 6.7%) items with no interactions.\n",
      "Similarity column 22347 (100.0%), 9349.91 column/sec. Elapsed time 2.39 sec\n",
      "ItemKNNCFRecommender: URM Detected 599 ( 4.6%) users with no interactions.\n",
      "ItemKNNCFRecommender: URM Detected 233 ( 1.0%) items with no interactions.\n",
      "Similarity column 22347 (100.0%), 7223.18 column/sec. Elapsed time 3.09 sec\n"
     ]
    }
   ],
   "source": [
    "folds = []\n",
    "for URM_train, URM_valid in CrossValidationSplitter(5).split(URM_all):\n",
    "    recommender = ItemKNNCFRecommender(URM_train)\n",
    "    recommender.fit(**params_knn)\n",
    "    \n",
    "    folds.append((URM_train, URM_valid, recommender))"
   ]
  },
  {
   "cell_type": "code",
   "execution_count": 31,
   "id": "e2759c6b",
   "metadata": {
    "execution": {
     "iopub.execute_input": "2023-11-25T11:01:30.068539Z",
     "iopub.status.busy": "2023-11-25T11:01:30.068125Z",
     "iopub.status.idle": "2023-11-25T11:01:30.077589Z",
     "shell.execute_reply": "2023-11-25T11:01:30.076532Z"
    },
    "papermill": {
     "duration": 0.02893,
     "end_time": "2023-11-25T11:01:30.081022",
     "exception": false,
     "start_time": "2023-11-25T11:01:30.052092",
     "status": "completed"
    },
    "tags": []
   },
   "outputs": [],
   "source": [
    "class PrefittedPipelineRecommender:\n",
    "    def __init__(self, fine_recommender, coarse_recommender, URM_train):\n",
    "        self.URM_train = URM_train\n",
    "        self.coarse_recommender = coarse_recommender\n",
    "        self.fine_recommender = fine_recommender\n",
    "    \n",
    "    def fit(self):\n",
    "        pass\n",
    "        \n",
    "    def recommend(self, user_ids, cutoff=10, remove_seen_flag=True, remove_top_pop_flag=False, \n",
    "                  return_scores=True, remove_custom_items_flag=True):\n",
    "        items = set(np.arange(self.URM_train.shape[1]).tolist())\n",
    "        final_recommendations = []\n",
    "        final_scores = []\n",
    "        for user_id in user_ids:\n",
    "            # custom remove seen flag, since the fine recommender is trained with much more non zero entries\n",
    "            # but the true seen items are in the original urm\n",
    "            items_to_compute = list(items - set(self.URM_train[user_id].nonzero()[1].tolist()))\n",
    "            recommendations, scores = self.fine_recommender.recommend(\n",
    "                [user_id],\n",
    "                cutoff=cutoff,\n",
    "                items_to_compute=items_to_compute, \n",
    "                remove_seen_flag=False, # if true it will remove most of the items since fine train matrix is less sparse\n",
    "                remove_top_pop_flag=remove_top_pop_flag, \n",
    "                return_scores=True, \n",
    "                remove_custom_items_flag=remove_custom_items_flag\n",
    "            )\n",
    "            final_recommendations.append(recommendations[0])\n",
    "            final_scores.append(scores[0])\n",
    "        if return_scores:\n",
    "            return np.array(final_recommendations), np.array(final_scores)\n",
    "        return np.array(final_recommendations)\n",
    "        \n",
    "    def get_URM_train(self):\n",
    "        return self.URM_train"
   ]
  },
  {
   "cell_type": "code",
   "execution_count": 32,
   "id": "6e5441e0",
   "metadata": {
    "execution": {
     "iopub.execute_input": "2023-11-25T11:01:30.114449Z",
     "iopub.status.busy": "2023-11-25T11:01:30.114047Z",
     "iopub.status.idle": "2023-11-25T11:01:30.122905Z",
     "shell.execute_reply": "2023-11-25T11:01:30.121878Z"
    },
    "papermill": {
     "duration": 0.027205,
     "end_time": "2023-11-25T11:01:30.124656",
     "exception": false,
     "start_time": "2023-11-25T11:01:30.097451",
     "status": "completed"
    },
    "tags": []
   },
   "outputs": [],
   "source": [
    "from concurrent.futures import ThreadPoolExecutor\n",
    "\n",
    "def evaluate_pipeline_recommender(URM_train, URM_valid, item_knn_recommender, params):\n",
    "    recommender = RP3betaRecommender(URM_train.dot(item_knn_recommender.W_sparse))\n",
    "    recommender.fit(**params)\n",
    "    hybrid_recommender = PrefittedPipelineRecommender(recommender, item_knn_recommender, URM_train)\n",
    "\n",
    "    evaluator = EvaluatorHoldout(URM_valid, cutoff_list=[10])\n",
    "    result_df, _ = evaluator.evaluateRecommender(hybrid_recommender)\n",
    "    print(f'MAP is {result_df.loc[10, \"MAP\"]}')\n",
    "    \n",
    "    return result_df.loc[10, 'MAP']\n",
    "\n",
    "\n",
    "def objective_item_knn(trial):\n",
    "    params = {\n",
    "        'alpha': trial.suggest_float('alpha', 0.01, 10, log=True),\n",
    "        'beta': trial.suggest_float('beta', 0.01, 10, log=True),\n",
    "        'topK': trial.suggest_int('topK', 10, 5000, log=True)\n",
    "    }\n",
    "    \n",
    "    results = [None] * 5\n",
    "    with ThreadPoolExecutor(max_workers=5) as executor:\n",
    "        futures = []\n",
    "        for URM_train, URM_valid, item_knn_recommender in folds:\n",
    "            futures.append(executor.submit(evaluate_pipeline_recommender, URM_train, URM_valid, item_knn_recommender, params))\n",
    "        for j, future in enumerate(futures):\n",
    "            results[j] = future.result()\n",
    "            \n",
    "    gc.collect()\n",
    "        \n",
    "    return np.mean(results)"
   ]
  },
  {
   "cell_type": "code",
   "execution_count": 33,
   "id": "d8b68d9d",
   "metadata": {
    "execution": {
     "iopub.execute_input": "2023-11-25T11:01:30.155722Z",
     "iopub.status.busy": "2023-11-25T11:01:30.155385Z",
     "iopub.status.idle": "2023-11-25T13:45:38.317851Z",
     "shell.execute_reply": "2023-11-25T13:45:38.316252Z"
    },
    "papermill": {
     "duration": 9848.180995,
     "end_time": "2023-11-25T13:45:38.320706",
     "exception": false,
     "start_time": "2023-11-25T11:01:30.139711",
     "status": "completed"
    },
    "tags": []
   },
   "outputs": [
    {
     "name": "stderr",
     "output_type": "stream",
     "text": [
      "[I 2023-11-25 11:01:30,600] Using an existing study with name 'hyperparameters_tuning_stag2_rp3' instead of creating a new one.\n"
     ]
    },
    {
     "name": "stdout",
     "output_type": "stream",
     "text": [
      "RP3betaRecommender: URM Detected 1482 (11.4%) users with no interactions.\n",
      "RP3betaRecommender: URM Detected 1512 ( 6.8%) items with no interactions.\n",
      "RP3betaRecommender: URM Detected 951 ( 7.3%) users with no interactions.\n",
      "RP3betaRecommender: URM Detected 602 ( 4.6%) users with no interactions.\n",
      "RP3betaRecommender: URM Detected 634 ( 4.9%) users with no interactions.\n",
      "RP3betaRecommender: URM Detected 601 ( 4.6%) users with no interactions.\n",
      "RP3betaRecommender: URM Detected 551 ( 2.5%) items with no interactions.\n",
      "RP3betaRecommender: URM Detected 250 ( 1.1%) items with no interactions.\n",
      "RP3betaRecommender: URM Detected 231 ( 1.0%) items with no interactions.\n",
      "RP3betaRecommender: URM Detected 235 ( 1.1%) items with no interactions.\n",
      "RP3betaRecommender: Similarity column 22347 (100.0%), 204.24 column/sec. Elapsed time 1.82 min\n",
      "EvaluatorHoldout: Ignoring 2539 (19.5%) Users that have less than 1 test interactions\n",
      "RP3betaRecommender: Similarity column 22347 (100.0%), 146.38 column/sec. Elapsed time 2.54 min\n",
      "EvaluatorHoldout: Ignoring 2568 (19.7%) Users that have less than 1 test interactions\n",
      "RP3betaRecommender: Similarity column 22347 (100.0%), 114.70 column/sec. Elapsed time 3.25 min\n",
      "EvaluatorHoldout: Ignoring 2555 (19.6%) Users that have less than 1 test interactions\n",
      "RP3betaRecommender: Similarity column 22347 (100.0%), 112.92 column/sec. Elapsed time 3.30 min\n",
      "RP3betaRecommender: Similarity column 22347 (100.0%), 112.48 column/sec. Elapsed time 3.31 min\n",
      "EvaluatorHoldout: Ignoring 2552 (19.6%) Users that have less than 1 test interactions\n",
      "EvaluatorHoldout: Ignoring 2534 (19.5%) Users that have less than 1 test interactions\n",
      "EvaluatorHoldout: Processed 10485 (100.0%) in 2.65 min. Users per second: 66\n",
      "MAP is 0.019187425725336996\n",
      "EvaluatorHoldout: Processed 10456 (100.0%) in 4.32 min. Users per second: 40\n",
      "MAP is 0.021830512745776735\n",
      "EvaluatorHoldout: Processed 10469 (100.0%) in 4.68 min. Users per second: 37\n",
      "MAP is 0.027063139548811645\n",
      "EvaluatorHoldout: Processed 10472 (100.0%) in 4.67 min. Users per second: 37\n",
      "MAP is 0.025692424697151682\n",
      "EvaluatorHoldout: Processed 10490 (100.0%) in 4.66 min. Users per second: 37\n",
      "MAP is 0.02657853662596285\n"
     ]
    },
    {
     "name": "stderr",
     "output_type": "stream",
     "text": [
      "[I 2023-11-25 11:09:32,335] Trial 40 finished with value: 0.024070407868607983 and parameters: {'alpha': 0.5433304483377858, 'beta': 0.0747657571728402, 'topK': 42}. Best is trial 37 with value: 0.026357928893930717.\n"
     ]
    },
    {
     "name": "stdout",
     "output_type": "stream",
     "text": [
      "RP3betaRecommender: URM Detected 951 ( 7.3%) users with no interactions.\n",
      "RP3betaRecommender: URM Detected 1482 (11.4%) users with no interactions.\n",
      "RP3betaRecommender: URM Detected 551 ( 2.5%) items with no interactions.\n",
      "RP3betaRecommender: URM Detected 1512 ( 6.8%) items with no interactions.\n",
      "RP3betaRecommender: URM Detected 602 ( 4.6%) users with no interactions.\n",
      "RP3betaRecommender: URM Detected 634 ( 4.9%) users with no interactions.\n",
      "RP3betaRecommender: URM Detected 601 ( 4.6%) users with no interactions.\n",
      "RP3betaRecommender: URM Detected 231 ( 1.0%) items with no interactions.\n",
      "RP3betaRecommender: URM Detected 235 ( 1.1%) items with no interactions.\n",
      "RP3betaRecommender: URM Detected 250 ( 1.1%) items with no interactions.\n",
      "RP3betaRecommender: Similarity column 22347 (100.0%), 205.21 column/sec. Elapsed time 1.81 min\n",
      "EvaluatorHoldout: Ignoring 2539 (19.5%) Users that have less than 1 test interactions\n",
      "RP3betaRecommender: Similarity column 22347 (100.0%), 149.76 column/sec. Elapsed time 2.49 min\n",
      "EvaluatorHoldout: Ignoring 2568 (19.7%) Users that have less than 1 test interactions\n",
      "RP3betaRecommender: Similarity column 22347 (100.0%), 114.67 column/sec. Elapsed time 3.25 min\n",
      "EvaluatorHoldout: Ignoring 2534 (19.5%) Users that have less than 1 test interactions\n",
      "RP3betaRecommender: Similarity column 22347 (100.0%), 113.95 column/sec. Elapsed time 3.27 min\n",
      "EvaluatorHoldout: Ignoring 2555 (19.6%) Users that have less than 1 test interactions\n",
      "RP3betaRecommender: Similarity column 22347 (100.0%), 113.18 column/sec. Elapsed time 3.29 min\n",
      "EvaluatorHoldout: Ignoring 2552 (19.6%) Users that have less than 1 test interactions\n",
      "EvaluatorHoldout: Processed 10485 (100.0%) in 3.27 min. Users per second: 53\n",
      "MAP is 0.019837477575675062\n",
      "EvaluatorHoldout: Processed 10456 (100.0%) in 4.60 min. Users per second: 38\n",
      "MAP is 0.023563542160041827\n",
      "EvaluatorHoldout: Processed 10490 (100.0%) in 4.82 min. Users per second: 36\n",
      "EvaluatorHoldout: Processed 10472 (100.0%) in 4.77 min. Users per second: 37\n",
      "MAP is 0.02888555994371066\n",
      "MAP is 0.027339132622746162\n",
      "EvaluatorHoldout: Processed 10469 (100.0%) in 4.80 min. Users per second: 36\n",
      "MAP is 0.02922426680736952\n"
     ]
    },
    {
     "name": "stderr",
     "output_type": "stream",
     "text": [
      "[I 2023-11-25 11:17:40,052] Trial 41 finished with value: 0.02576999582190865 and parameters: {'alpha': 0.9765765707233557, 'beta': 0.10647572577145355, 'topK': 41}. Best is trial 37 with value: 0.026357928893930717.\n"
     ]
    },
    {
     "name": "stdout",
     "output_type": "stream",
     "text": [
      "RP3betaRecommender: URM Detected 1482 (11.4%) users with no interactions.\n",
      "RP3betaRecommender: URM Detected 1512 ( 6.8%) items with no interactions.\n",
      "RP3betaRecommender: URM Detected 951 ( 7.3%) users with no interactions.\n",
      "RP3betaRecommender: URM Detected 551 ( 2.5%) items with no interactions.\n",
      "RP3betaRecommender: URM Detected 634 ( 4.9%) users with no interactions.\n",
      "RP3betaRecommender: URM Detected 601 ( 4.6%) users with no interactions.\n",
      "RP3betaRecommender: URM Detected 602 ( 4.6%) users with no interactions.\n",
      "RP3betaRecommender: URM Detected 235 ( 1.1%) items with no interactions.\n",
      "RP3betaRecommender: URM Detected 250 ( 1.1%) items with no interactions.\n",
      "RP3betaRecommender: URM Detected 231 ( 1.0%) items with no interactions.\n",
      "RP3betaRecommender: Similarity column 22347 (100.0%), 206.74 column/sec. Elapsed time 1.80 min\n",
      "EvaluatorHoldout: Ignoring 2539 (19.5%) Users that have less than 1 test interactions\n",
      "RP3betaRecommender: Similarity column 22347 (100.0%), 151.94 column/sec. Elapsed time 2.45 min\n",
      "EvaluatorHoldout: Ignoring 2568 (19.7%) Users that have less than 1 test interactions\n",
      "RP3betaRecommender: Similarity column 22347 (100.0%), 115.63 column/sec. Elapsed time 3.22 min\n",
      "EvaluatorHoldout: Ignoring 2555 (19.6%) Users that have less than 1 test interactions\n",
      "RP3betaRecommender: Similarity column 22347 (100.0%), 114.36 column/sec. Elapsed time 3.26 min\n",
      "RP3betaRecommender: Similarity column 22347 (100.0%), 114.20 column/sec. Elapsed time 3.26 min\n",
      "EvaluatorHoldout: Ignoring 2552 (19.6%) Users that have less than 1 test interactions\n",
      "EvaluatorHoldout: Ignoring 2534 (19.5%) Users that have less than 1 test interactions\n",
      "EvaluatorHoldout: Processed 10485 (100.0%) in 3.36 min. Users per second: 52\n",
      "MAP is 0.018503160221329078\n",
      "EvaluatorHoldout: Processed 10456 (100.0%) in 4.70 min. Users per second: 37\n",
      "MAP is 0.023809595918193933\n",
      "EvaluatorHoldout: Processed 10469 (100.0%) in 4.89 min. Users per second: 36\n",
      "MAP is 0.028997793182290402\n",
      "EvaluatorHoldout: Processed 10472 (100.0%) in 4.85 min. Users per second: 36\n",
      "MAP is 0.028173845295694267\n",
      "EvaluatorHoldout: Processed 10490 (100.0%) in 4.85 min. Users per second: 36\n",
      "MAP is 0.029217508738481304\n"
     ]
    },
    {
     "name": "stderr",
     "output_type": "stream",
     "text": [
      "[I 2023-11-25 11:25:50,521] Trial 42 finished with value: 0.0257403806711978 and parameters: {'alpha': 1.151798633186386, 'beta': 0.11237396416803878, 'topK': 30}. Best is trial 37 with value: 0.026357928893930717.\n"
     ]
    },
    {
     "name": "stdout",
     "output_type": "stream",
     "text": [
      "RP3betaRecommender: URM Detected 951 ( 7.3%) users with no interactions.RP3betaRecommender: URM Detected 1482 (11.4%) users with no interactions.\n",
      "\n",
      "RP3betaRecommender: URM Detected 1512 ( 6.8%) items with no interactions.\n",
      "RP3betaRecommender: URM Detected 551 ( 2.5%) items with no interactions.\n",
      "RP3betaRecommender: URM Detected 634 ( 4.9%) users with no interactions.\n",
      "RP3betaRecommender: URM Detected 602 ( 4.6%) users with no interactions.\n",
      "RP3betaRecommender: URM Detected 601 ( 4.6%) users with no interactions.\n",
      "RP3betaRecommender: URM Detected 250 ( 1.1%) items with no interactions.\n",
      "RP3betaRecommender: URM Detected 231 ( 1.0%) items with no interactions.\n",
      "RP3betaRecommender: URM Detected 235 ( 1.1%) items with no interactions.\n",
      "RP3betaRecommender: Similarity column 22347 (100.0%), 197.82 column/sec. Elapsed time 1.88 min\n",
      "EvaluatorHoldout: Ignoring 2539 (19.5%) Users that have less than 1 test interactions\n",
      "RP3betaRecommender: Similarity column 22347 (100.0%), 148.51 column/sec. Elapsed time 2.51 min\n",
      "EvaluatorHoldout: Ignoring 2568 (19.7%) Users that have less than 1 test interactions\n",
      "RP3betaRecommender: Similarity column 22347 (100.0%), 114.67 column/sec. Elapsed time 3.25 min\n",
      "RP3betaRecommender: Similarity column 22347 (100.0%), 114.00 column/sec. Elapsed time 3.27 min\n",
      "EvaluatorHoldout: Ignoring 2555 (19.6%) Users that have less than 1 test interactions\n",
      "EvaluatorHoldout: Ignoring 2552 (19.6%) Users that have less than 1 test interactions\n",
      "RP3betaRecommender: Similarity column 22347 (100.0%), 112.63 column/sec. Elapsed time 3.31 min\n",
      "EvaluatorHoldout: Ignoring 2534 (19.5%) Users that have less than 1 test interactions\n",
      "EvaluatorHoldout: Processed 10485 (100.0%) in 3.94 min. Users per second: 44\n",
      "MAP is 0.019759876164740287\n",
      "EvaluatorHoldout: Processed 10456 (100.0%) in 4.95 min. Users per second: 35\n",
      "MAP is 0.024751612198054426\n",
      "EvaluatorHoldout: Processed 10472 (100.0%) in 5.06 min. Users per second: 35\n",
      "MAP is 0.02899514730134502\n",
      "EvaluatorHoldout: Processed 10469 (100.0%) in 5.09 min. Users per second: 34\n",
      "MAP is 0.030115196490925197\n",
      "EvaluatorHoldout: Processed 10490 (100.0%) in 5.03 min. Users per second: 35\n",
      "MAP is 0.030179225868930588\n"
     ]
    },
    {
     "name": "stderr",
     "output_type": "stream",
     "text": [
      "[I 2023-11-25 11:34:15,424] Trial 43 finished with value: 0.026760211604799106 and parameters: {'alpha': 1.6720860632171772, 'beta': 0.13015961514309718, 'topK': 89}. Best is trial 43 with value: 0.026760211604799106.\n"
     ]
    },
    {
     "name": "stdout",
     "output_type": "stream",
     "text": [
      "RP3betaRecommender: URM Detected 1482 (11.4%) users with no interactions.\n",
      "RP3betaRecommender: URM Detected 1512 ( 6.8%) items with no interactions.\n",
      "RP3betaRecommender: URM Detected 951 ( 7.3%) users with no interactions.\n",
      "RP3betaRecommender: URM Detected 634 ( 4.9%) users with no interactions.\n",
      "RP3betaRecommender: URM Detected 601 ( 4.6%) users with no interactions.\n",
      "RP3betaRecommender: URM Detected 551 ( 2.5%) items with no interactions.\n",
      "RP3betaRecommender: URM Detected 250 ( 1.1%) items with no interactions.\n",
      "RP3betaRecommender: URM Detected 602 ( 4.6%) users with no interactions.\n",
      "RP3betaRecommender: URM Detected 235 ( 1.1%) items with no interactions.\n",
      "RP3betaRecommender: URM Detected 231 ( 1.0%) items with no interactions.\n",
      "RP3betaRecommender: Similarity column 22347 (100.0%), 194.87 column/sec. Elapsed time 1.91 min\n",
      "EvaluatorHoldout: Ignoring 2539 (19.5%) Users that have less than 1 test interactions\n",
      "RP3betaRecommender: Similarity column 22347 (100.0%), 147.07 column/sec. Elapsed time 2.53 min\n",
      "EvaluatorHoldout: Ignoring 2568 (19.7%) Users that have less than 1 test interactions\n",
      "RP3betaRecommender: Similarity column 22347 (100.0%), 115.98 column/sec. Elapsed time 3.21 min\n",
      "EvaluatorHoldout: Ignoring 2555 (19.6%) Users that have less than 1 test interactions\n",
      "RP3betaRecommender: Similarity column 22347 (100.0%), 113.48 column/sec. Elapsed time 3.28 min\n",
      "EvaluatorHoldout: Ignoring 2552 (19.6%) Users that have less than 1 test interactions\n",
      "RP3betaRecommender: Similarity column 22347 (100.0%), 111.89 column/sec. Elapsed time 3.33 min\n",
      "EvaluatorHoldout: Ignoring 2534 (19.5%) Users that have less than 1 test interactions\n",
      "EvaluatorHoldout: Processed 10485 (100.0%) in 3.86 min. Users per second: 45\n",
      "MAP is 0.020242118370158504\n",
      "EvaluatorHoldout: Processed 10456 (100.0%) in 5.05 min. Users per second: 35\n",
      "MAP is 0.024708510189334683\n",
      "EvaluatorHoldout: Processed 10000 (95.5%) in 5.07 min. Users per second: 33\n",
      "EvaluatorHoldout: Processed 10000 (95.5%) in 5.08 min. Users per second: 33\n",
      "EvaluatorHoldout: Processed 10469 (100.0%) in 5.23 min. Users per second: 33\n",
      "MAP is 0.030149651958086825\n",
      "EvaluatorHoldout: Processed 10000 (95.3%) in 5.12 min. Users per second: 33\n",
      "EvaluatorHoldout: Processed 10472 (100.0%) in 5.21 min. Users per second: 33\n",
      "MAP is 0.02889434561703491\n",
      "EvaluatorHoldout: Processed 10490 (100.0%) in 5.18 min. Users per second: 34\n"
     ]
    },
    {
     "name": "stderr",
     "output_type": "stream",
     "text": [
      "[I 2023-11-25 11:42:50,244] Trial 44 finished with value: 0.02683399339464134 and parameters: {'alpha': 1.6985703744707032, 'beta': 0.0448168216527532, 'topK': 93}. Best is trial 44 with value: 0.02683399339464134.\n"
     ]
    },
    {
     "name": "stdout",
     "output_type": "stream",
     "text": [
      "MAP is 0.0301753408385918\n",
      "RP3betaRecommender: URM Detected 1482 (11.4%) users with no interactions.\n",
      "RP3betaRecommender: URM Detected 951 ( 7.3%) users with no interactions.\n",
      "RP3betaRecommender: URM Detected 551 ( 2.5%) items with no interactions.\n",
      "RP3betaRecommender: URM Detected 1512 ( 6.8%) items with no interactions.\n",
      "RP3betaRecommender: URM Detected 602 ( 4.6%) users with no interactions.\n",
      "RP3betaRecommender: URM Detected 634 ( 4.9%) users with no interactions.\n",
      "RP3betaRecommender: URM Detected 601 ( 4.6%) users with no interactions.\n",
      "RP3betaRecommender: URM Detected 250 ( 1.1%) items with no interactions.\n",
      "RP3betaRecommender: URM Detected 231 ( 1.0%) items with no interactions.\n",
      "RP3betaRecommender: URM Detected 235 ( 1.1%) items with no interactions.\n",
      "RP3betaRecommender: Similarity column 22347 (100.0%), 204.12 column/sec. Elapsed time 1.82 min\n",
      "EvaluatorHoldout: Ignoring 2539 (19.5%) Users that have less than 1 test interactions\n",
      "RP3betaRecommender: Similarity column 22347 (100.0%), 149.03 column/sec. Elapsed time 2.50 min\n",
      "EvaluatorHoldout: Ignoring 2568 (19.7%) Users that have less than 1 test interactions\n",
      "RP3betaRecommender: Similarity column 22347 (100.0%), 114.96 column/sec. Elapsed time 3.24 min\n",
      "RP3betaRecommender: Similarity column 22347 (100.0%), 115.02 column/sec. Elapsed time 3.24 min\n",
      "EvaluatorHoldout: Ignoring 2552 (19.6%) Users that have less than 1 test interactions\n",
      "EvaluatorHoldout: Ignoring 2555 (19.6%) Users that have less than 1 test interactions\n",
      "RP3betaRecommender: Similarity column 22347 (100.0%), 112.57 column/sec. Elapsed time 3.31 min\n",
      "EvaluatorHoldout: Ignoring 2534 (19.5%) Users that have less than 1 test interactions\n",
      "EvaluatorHoldout: Processed 10485 (100.0%) in 3.41 min. Users per second: 51\n",
      "MAP is 0.02006865817380846\n",
      "EvaluatorHoldout: Processed 10456 (100.0%) in 4.37 min. Users per second: 40\n",
      "MAP is 0.024617698807398596\n",
      "EvaluatorHoldout: Processed 10472 (100.0%) in 4.47 min. Users per second: 39\n",
      "MAP is 0.02916882662155795\n",
      "EvaluatorHoldout: Processed 10469 (100.0%) in 4.46 min. Users per second: 39\n",
      "MAP is 0.030398822980015377\n",
      "EvaluatorHoldout: Processed 10490 (100.0%) in 4.41 min. Users per second: 40\n"
     ]
    },
    {
     "name": "stderr",
     "output_type": "stream",
     "text": [
      "[I 2023-11-25 11:50:37,453] Trial 45 finished with value: 0.02691649729307194 and parameters: {'alpha': 1.7418934287731591, 'beta': 0.038085587075450976, 'topK': 87}. Best is trial 45 with value: 0.02691649729307194.\n"
     ]
    },
    {
     "name": "stdout",
     "output_type": "stream",
     "text": [
      "MAP is 0.030328479882579324\n",
      "RP3betaRecommender: URM Detected 1482 (11.4%) users with no interactions.\n",
      "RP3betaRecommender: URM Detected 951 ( 7.3%) users with no interactions.\n",
      "RP3betaRecommender: URM Detected 1512 ( 6.8%) items with no interactions.\n",
      "RP3betaRecommender: URM Detected 551 ( 2.5%) items with no interactions.\n",
      "RP3betaRecommender: URM Detected 634 ( 4.9%) users with no interactions.\n",
      "RP3betaRecommender: URM Detected 602 ( 4.6%) users with no interactions.\n",
      "RP3betaRecommender: URM Detected 601 ( 4.6%) users with no interactions.\n",
      "RP3betaRecommender: URM Detected 250 ( 1.1%) items with no interactions.\n",
      "RP3betaRecommender: URM Detected 231 ( 1.0%) items with no interactions.\n",
      "RP3betaRecommender: URM Detected 235 ( 1.1%) items with no interactions.\n",
      "RP3betaRecommender: Similarity column 22347 (100.0%), 203.38 column/sec. Elapsed time 1.83 min\n",
      "EvaluatorHoldout: Ignoring 2539 (19.5%) Users that have less than 1 test interactions\n",
      "RP3betaRecommender: Similarity column 22347 (100.0%), 145.33 column/sec. Elapsed time 2.56 min\n",
      "EvaluatorHoldout: Ignoring 2568 (19.7%) Users that have less than 1 test interactions\n",
      "RP3betaRecommender: Similarity column 22347 (100.0%), 113.47 column/sec. Elapsed time 3.28 min\n",
      "EvaluatorHoldout: Ignoring 2534 (19.5%) Users that have less than 1 test interactions\n",
      "RP3betaRecommender: Similarity column 22347 (100.0%), 111.40 column/sec. Elapsed time 3.34 min\n",
      "EvaluatorHoldout: Ignoring 2555 (19.6%) Users that have less than 1 test interactions\n",
      "RP3betaRecommender: Similarity column 22347 (100.0%), 109.88 column/sec. Elapsed time 3.39 min\n",
      "EvaluatorHoldout: Ignoring 2552 (19.6%) Users that have less than 1 test interactions\n",
      "EvaluatorHoldout: Processed 10485 (100.0%) in 2.88 min. Users per second: 61\n",
      "MAP is 0.02046720182270971\n",
      "EvaluatorHoldout: Processed 10456 (100.0%) in 4.26 min. Users per second: 41\n",
      "MAP is 0.022351103186747864\n",
      "EvaluatorHoldout: Processed 10490 (100.0%) in 4.47 min. Users per second: 39\n",
      "MAP is 0.025573902582958885\n",
      "EvaluatorHoldout: Processed 10469 (100.0%) in 4.46 min. Users per second: 39\n",
      "MAP is 0.025962831306942543\n",
      "EvaluatorHoldout: Processed 10472 (100.0%) in 4.42 min. Users per second: 40\n",
      "MAP is 0.02417858810190753\n"
     ]
    },
    {
     "name": "stderr",
     "output_type": "stream",
     "text": [
      "[I 2023-11-25 11:58:29,677] Trial 46 finished with value: 0.023706725400253308 and parameters: {'alpha': 0.6684160259317707, 'beta': 0.03762453205225121, 'topK': 87}. Best is trial 45 with value: 0.02691649729307194.\n"
     ]
    },
    {
     "name": "stdout",
     "output_type": "stream",
     "text": [
      "RP3betaRecommender: URM Detected 1482 (11.4%) users with no interactions.\n",
      "RP3betaRecommender: URM Detected 1512 ( 6.8%) items with no interactions.\n",
      "RP3betaRecommender: URM Detected 951 ( 7.3%) users with no interactions.\n",
      "RP3betaRecommender: URM Detected 601 ( 4.6%) users with no interactions.\n",
      "RP3betaRecommender: URM Detected 602 ( 4.6%) users with no interactions.\n",
      "RP3betaRecommender: URM Detected 551 ( 2.5%) items with no interactions.\n",
      "RP3betaRecommender: URM Detected 634 ( 4.9%) users with no interactions.\n",
      "RP3betaRecommender: URM Detected 235 ( 1.1%) items with no interactions.\n",
      "RP3betaRecommender: URM Detected 231 ( 1.0%) items with no interactions.\n",
      "RP3betaRecommender: URM Detected 250 ( 1.1%) items with no interactions.\n",
      "RP3betaRecommender: Similarity column 22347 (100.0%), 202.48 column/sec. Elapsed time 1.84 min\n",
      "EvaluatorHoldout: Ignoring 2539 (19.5%) Users that have less than 1 test interactions\n",
      "RP3betaRecommender: Similarity column 22347 (100.0%), 145.57 column/sec. Elapsed time 2.56 min\n",
      "EvaluatorHoldout: Ignoring 2568 (19.7%) Users that have less than 1 test interactions\n",
      "RP3betaRecommender: Similarity column 22347 (100.0%), 114.33 column/sec. Elapsed time 3.26 min\n",
      "EvaluatorHoldout: Ignoring 2534 (19.5%) Users that have less than 1 test interactions\n",
      "RP3betaRecommender: Similarity column 22347 (100.0%), 112.98 column/sec. Elapsed time 3.30 min\n",
      "EvaluatorHoldout: Ignoring 2555 (19.6%) Users that have less than 1 test interactions\n",
      "RP3betaRecommender: Similarity column 22347 (100.0%), 111.05 column/sec. Elapsed time 3.35 min\n",
      "EvaluatorHoldout: Ignoring 2552 (19.6%) Users that have less than 1 test interactions\n",
      "EvaluatorHoldout: Processed 10485 (100.0%) in 3.01 min. Users per second: 58\n",
      "MAP is 0.01947901764425368\n",
      "EvaluatorHoldout: Processed 10456 (100.0%) in 4.40 min. Users per second: 40\n",
      "MAP is 0.02173288899211817\n",
      "EvaluatorHoldout: Processed 10490 (100.0%) in 4.56 min. Users per second: 38\n",
      "MAP is 0.025536028265770967\n",
      "EvaluatorHoldout: Processed 10469 (100.0%) in 4.53 min. Users per second: 38\n",
      "MAP is 0.026183865592596226\n",
      "EvaluatorHoldout: Processed 10472 (100.0%) in 4.48 min. Users per second: 39\n",
      "MAP is 0.024744723647034655\n"
     ]
    },
    {
     "name": "stderr",
     "output_type": "stream",
     "text": [
      "[I 2023-11-25 12:06:23,056] Trial 47 finished with value: 0.02353530482835474 and parameters: {'alpha': 0.45365148145286777, 'beta': 0.050443981996935984, 'topK': 61}. Best is trial 45 with value: 0.02691649729307194.\n"
     ]
    },
    {
     "name": "stdout",
     "output_type": "stream",
     "text": [
      "RP3betaRecommender: URM Detected 1482 (11.4%) users with no interactions.\n",
      "RP3betaRecommender: URM Detected 951 ( 7.3%) users with no interactions.\n",
      "RP3betaRecommender: URM Detected 1512 ( 6.8%) items with no interactions.\n",
      "RP3betaRecommender: URM Detected 551 ( 2.5%) items with no interactions.\n",
      "RP3betaRecommender: URM Detected 602 ( 4.6%) users with no interactions.\n",
      "RP3betaRecommender: URM Detected 634 ( 4.9%) users with no interactions.\n",
      "RP3betaRecommender: URM Detected 601 ( 4.6%) users with no interactions.\n",
      "RP3betaRecommender: URM Detected 250 ( 1.1%) items with no interactions.\n",
      "RP3betaRecommender: URM Detected 231 ( 1.0%) items with no interactions.\n",
      "RP3betaRecommender: URM Detected 235 ( 1.1%) items with no interactions.\n",
      "RP3betaRecommender: Similarity column 22347 (100.0%), 201.52 column/sec. Elapsed time 1.85 min\n",
      "EvaluatorHoldout: Ignoring 2539 (19.5%) Users that have less than 1 test interactions\n",
      "RP3betaRecommender: Similarity column 22347 (100.0%), 150.26 column/sec. Elapsed time 2.48 min\n",
      "EvaluatorHoldout: Ignoring 2568 (19.7%) Users that have less than 1 test interactions\n",
      "RP3betaRecommender: Similarity column 22347 (100.0%), 115.19 column/sec. Elapsed time 3.23 min\n",
      "EvaluatorHoldout: Ignoring 2555 (19.6%) Users that have less than 1 test interactions\n",
      "RP3betaRecommender: Similarity column 22347 (100.0%), 112.84 column/sec. Elapsed time 3.30 min\n",
      "RP3betaRecommender: Similarity column 22347 (100.0%), 112.63 column/sec. Elapsed time 3.31 min\n",
      "EvaluatorHoldout: Ignoring 2552 (19.6%) Users that have less than 1 test interactions\n",
      "EvaluatorHoldout: Ignoring 2534 (19.5%) Users that have less than 1 test interactions\n",
      "EvaluatorHoldout: Processed 10485 (100.0%) in 3.60 min. Users per second: 49\n",
      "MAP is 0.02009056399542813\n",
      "EvaluatorHoldout: Processed 10456 (100.0%) in 4.69 min. Users per second: 37\n",
      "MAP is 0.024653946697271167\n",
      "EvaluatorHoldout: Processed 10469 (100.0%) in 4.83 min. Users per second: 36\n",
      "MAP is 0.030435082715864457\n",
      "EvaluatorHoldout: Processed 10472 (100.0%) in 4.81 min. Users per second: 36\n",
      "MAP is 0.02930388822195574\n",
      "EvaluatorHoldout: Processed 10490 (100.0%) in 4.80 min. Users per second: 36\n",
      "MAP is 0.030099951578979444\n"
     ]
    },
    {
     "name": "stderr",
     "output_type": "stream",
     "text": [
      "[I 2023-11-25 12:14:34,038] Trial 48 finished with value: 0.02691668664189979 and parameters: {'alpha': 1.7408162798814562, 'beta': 0.027547466435618086, 'topK': 83}. Best is trial 48 with value: 0.02691668664189979.\n"
     ]
    },
    {
     "name": "stdout",
     "output_type": "stream",
     "text": [
      "RP3betaRecommender: URM Detected 1482 (11.4%) users with no interactions.\n",
      "RP3betaRecommender: URM Detected 1512 ( 6.8%) items with no interactions.\n",
      "RP3betaRecommender: URM Detected 951 ( 7.3%) users with no interactions.\n",
      "RP3betaRecommender: URM Detected 551 ( 2.5%) items with no interactions.\n",
      "RP3betaRecommender: URM Detected 601 ( 4.6%) users with no interactions.\n",
      "RP3betaRecommender: URM Detected 634 ( 4.9%) users with no interactions.\n",
      "RP3betaRecommender: URM Detected 602 ( 4.6%) users with no interactions.\n",
      "RP3betaRecommender: URM Detected 250 ( 1.1%) items with no interactions.\n",
      "RP3betaRecommender: URM Detected 231 ( 1.0%) items with no interactions.\n",
      "RP3betaRecommender: URM Detected 235 ( 1.1%) items with no interactions.\n",
      "RP3betaRecommender: Similarity column 22347 (100.0%), 196.80 column/sec. Elapsed time 1.89 min\n",
      "EvaluatorHoldout: Ignoring 2539 (19.5%) Users that have less than 1 test interactions\n",
      "RP3betaRecommender: Similarity column 22347 (100.0%), 147.09 column/sec. Elapsed time 2.53 min\n",
      "EvaluatorHoldout: Ignoring 2568 (19.7%) Users that have less than 1 test interactions\n",
      "RP3betaRecommender: Similarity column 22347 (100.0%), 114.68 column/sec. Elapsed time 3.25 min\n",
      "EvaluatorHoldout: Ignoring 2555 (19.6%) Users that have less than 1 test interactions\n",
      "RP3betaRecommender: Similarity column 22347 (100.0%), 113.07 column/sec. Elapsed time 3.29 min\n",
      "EvaluatorHoldout: Ignoring 2534 (19.5%) Users that have less than 1 test interactions\n",
      "RP3betaRecommender: Similarity column 22347 (100.0%), 111.35 column/sec. Elapsed time 3.34 min\n",
      "EvaluatorHoldout: Ignoring 2552 (19.6%) Users that have less than 1 test interactions\n",
      "EvaluatorHoldout: Processed 10485 (100.0%) in 3.48 min. Users per second: 50\n",
      "MAP is 0.02110262582222527\n",
      "EvaluatorHoldout: Processed 10456 (100.0%) in 4.72 min. Users per second: 37\n",
      "MAP is 0.024525016395234498\n",
      "EvaluatorHoldout: Processed 10469 (100.0%) in 4.87 min. Users per second: 36\n",
      "MAP is 0.029224679969737\n",
      "EvaluatorHoldout: Processed 10472 (100.0%) in 4.82 min. Users per second: 36\n",
      "MAP is 0.027809021335807243\n",
      "EvaluatorHoldout: Processed 10490 (100.0%) in 4.88 min. Users per second: 36\n",
      "MAP is 0.028409785585667553\n"
     ]
    },
    {
     "name": "stderr",
     "output_type": "stream",
     "text": [
      "[I 2023-11-25 12:22:48,114] Trial 49 finished with value: 0.02621422582173431 and parameters: {'alpha': 1.1840630131005527, 'beta': 0.03173641690470671, 'topK': 81}. Best is trial 48 with value: 0.02691668664189979.\n"
     ]
    },
    {
     "name": "stdout",
     "output_type": "stream",
     "text": [
      "RP3betaRecommender: URM Detected 1482 (11.4%) users with no interactions.\n",
      "RP3betaRecommender: URM Detected 1512 ( 6.8%) items with no interactions.\n",
      "RP3betaRecommender: URM Detected 951 ( 7.3%) users with no interactions.\n",
      "RP3betaRecommender: URM Detected 634 ( 4.9%) users with no interactions.\n",
      "RP3betaRecommender: URM Detected 551 ( 2.5%) items with no interactions.\n",
      "RP3betaRecommender: URM Detected 602 ( 4.6%) users with no interactions.\n",
      "RP3betaRecommender: URM Detected 250 ( 1.1%) items with no interactions.\n",
      "RP3betaRecommender: URM Detected 601 ( 4.6%) users with no interactions.\n",
      "RP3betaRecommender: URM Detected 231 ( 1.0%) items with no interactions.\n",
      "RP3betaRecommender: URM Detected 235 ( 1.1%) items with no interactions.\n",
      "RP3betaRecommender: Similarity column 22347 (100.0%), 202.54 column/sec. Elapsed time 1.84 min\n",
      "EvaluatorHoldout: Ignoring 2539 (19.5%) Users that have less than 1 test interactions\n",
      "RP3betaRecommender: Similarity column 22347 (100.0%), 149.99 column/sec. Elapsed time 2.48 min\n",
      "EvaluatorHoldout: Ignoring 2568 (19.7%) Users that have less than 1 test interactions\n",
      "RP3betaRecommender: Similarity column 22347 (100.0%), 116.89 column/sec. Elapsed time 3.19 min\n",
      "EvaluatorHoldout: Ignoring 2555 (19.6%) Users that have less than 1 test interactions\n",
      "RP3betaRecommender: Similarity column 22347 (100.0%), 114.35 column/sec. Elapsed time 3.26 min\n",
      "EvaluatorHoldout: Ignoring 2534 (19.5%) Users that have less than 1 test interactions\n",
      "RP3betaRecommender: Similarity column 22347 (100.0%), 112.06 column/sec. Elapsed time 3.32 min\n",
      "EvaluatorHoldout: Ignoring 2552 (19.6%) Users that have less than 1 test interactions\n",
      "EvaluatorHoldout: Processed 10485 (100.0%) in 3.50 min. Users per second: 50\n",
      "MAP is 0.011255569180461857\n",
      "EvaluatorHoldout: Processed 10456 (100.0%) in 4.76 min. Users per second: 37\n",
      "MAP is 0.014316948725422293\n",
      "EvaluatorHoldout: Processed 10469 (100.0%) in 4.93 min. Users per second: 35\n",
      "MAP is 0.017399457506440022\n",
      "EvaluatorHoldout: Processed 10472 (100.0%) in 4.86 min. Users per second: 36\n",
      "MAP is 0.017135585294723924\n",
      "EvaluatorHoldout: Processed 10490 (100.0%) in 4.93 min. Users per second: 35\n",
      "MAP is 0.015771017749330436\n"
     ]
    },
    {
     "name": "stderr",
     "output_type": "stream",
     "text": [
      "[I 2023-11-25 12:31:04,022] Trial 50 finished with value: 0.015175715691275706 and parameters: {'alpha': 3.9084637801109094, 'beta': 0.024724314398947903, 'topK': 62}. Best is trial 48 with value: 0.02691668664189979.\n"
     ]
    },
    {
     "name": "stdout",
     "output_type": "stream",
     "text": [
      "RP3betaRecommender: URM Detected 951 ( 7.3%) users with no interactions.\n",
      "RP3betaRecommender: URM Detected 1482 (11.4%) users with no interactions.\n",
      "RP3betaRecommender: URM Detected 1512 ( 6.8%) items with no interactions.\n",
      "RP3betaRecommender: URM Detected 551 ( 2.5%) items with no interactions.\n",
      "RP3betaRecommender: URM Detected 602 ( 4.6%) users with no interactions.\n",
      "RP3betaRecommender: URM Detected 634 ( 4.9%) users with no interactions.\n",
      "RP3betaRecommender: URM Detected 601 ( 4.6%) users with no interactions.\n",
      "RP3betaRecommender: URM Detected 231 ( 1.0%) items with no interactions.\n",
      "RP3betaRecommender: URM Detected 250 ( 1.1%) items with no interactions.\n",
      "RP3betaRecommender: URM Detected 235 ( 1.1%) items with no interactions.\n",
      "RP3betaRecommender: Similarity column 22347 (100.0%), 194.19 column/sec. Elapsed time 1.92 min\n",
      "EvaluatorHoldout: Ignoring 2539 (19.5%) Users that have less than 1 test interactions\n",
      "RP3betaRecommender: Similarity column 22347 (100.0%), 147.72 column/sec. Elapsed time 2.52 min\n",
      "EvaluatorHoldout: Ignoring 2568 (19.7%) Users that have less than 1 test interactions\n",
      "RP3betaRecommender: Similarity column 22347 (100.0%), 113.08 column/sec. Elapsed time 3.29 min\n",
      "RP3betaRecommender: Similarity column 22347 (100.0%), 112.46 column/sec. Elapsed time 3.31 min\n",
      "EvaluatorHoldout: Ignoring 2555 (19.6%) Users that have less than 1 test interactions\n",
      "RP3betaRecommender: Similarity column 22347 (100.0%), 111.67 column/sec. Elapsed time 3.34 min\n",
      "EvaluatorHoldout: Ignoring 2552 (19.6%) Users that have less than 1 test interactions\n",
      "EvaluatorHoldout: Ignoring 2534 (19.5%) Users that have less than 1 test interactions\n",
      "EvaluatorHoldout: Processed 10485 (100.0%) in 4.00 min. Users per second: 44\n",
      "MAP is 0.01995819424574794\n",
      "EvaluatorHoldout: Processed 10456 (100.0%) in 4.80 min. Users per second: 36\n",
      "MAP is 0.024747099713387063\n",
      "EvaluatorHoldout: Processed 10472 (100.0%) in 4.87 min. Users per second: 36\n",
      "MAP is 0.028378548389052845\n",
      "EvaluatorHoldout: Processed 10469 (100.0%) in 4.91 min. Users per second: 36\n",
      "MAP is 0.029977245745944035\n",
      "EvaluatorHoldout: Processed 10490 (100.0%) in 4.86 min. Users per second: 36\n"
     ]
    },
    {
     "name": "stderr",
     "output_type": "stream",
     "text": [
      "[I 2023-11-25 12:39:21,051] Trial 51 finished with value: 0.026635449116700443 and parameters: {'alpha': 1.7982236647234462, 'beta': 0.07395332595519669, 'topK': 104}. Best is trial 48 with value: 0.02691668664189979.\n"
     ]
    },
    {
     "name": "stdout",
     "output_type": "stream",
     "text": [
      "MAP is 0.030116157489370337\n",
      "RP3betaRecommender: URM Detected 1482 (11.4%) users with no interactions.\n",
      "RP3betaRecommender: URM Detected 1512 ( 6.8%) items with no interactions.\n",
      "RP3betaRecommender: URM Detected 951 ( 7.3%) users with no interactions.\n",
      "RP3betaRecommender: URM Detected 601 ( 4.6%) users with no interactions.\n",
      "RP3betaRecommender: URM Detected 634 ( 4.9%) users with no interactions.\n",
      "RP3betaRecommender: URM Detected 602 ( 4.6%) users with no interactions.\n",
      "RP3betaRecommender: URM Detected 551 ( 2.5%) items with no interactions.\n",
      "RP3betaRecommender: URM Detected 250 ( 1.1%) items with no interactions.\n",
      "RP3betaRecommender: URM Detected 235 ( 1.1%) items with no interactions.\n",
      "RP3betaRecommender: URM Detected 231 ( 1.0%) items with no interactions.\n",
      "RP3betaRecommender: Similarity column 22347 (100.0%), 195.77 column/sec. Elapsed time 1.90 min\n",
      "EvaluatorHoldout: Ignoring 2539 (19.5%) Users that have less than 1 test interactions\n",
      "RP3betaRecommender: Similarity column 22347 (100.0%), 150.38 column/sec. Elapsed time 2.48 min\n",
      "EvaluatorHoldout: Ignoring 2568 (19.7%) Users that have less than 1 test interactions\n",
      "RP3betaRecommender: Similarity column 22347 (100.0%), 114.68 column/sec. Elapsed time 3.25 min\n",
      "EvaluatorHoldout: Ignoring 2555 (19.6%) Users that have less than 1 test interactions\n",
      "RP3betaRecommender: Similarity column 22347 (100.0%), 113.52 column/sec. Elapsed time 3.28 min\n",
      "RP3betaRecommender: Similarity column 22347 (100.0%), 112.63 column/sec. Elapsed time 3.31 min\n",
      "EvaluatorHoldout: Ignoring 2552 (19.6%) Users that have less than 1 test interactions\n",
      "EvaluatorHoldout: Ignoring 2534 (19.5%) Users that have less than 1 test interactions\n",
      "EvaluatorHoldout: Processed 10485 (100.0%) in 3.84 min. Users per second: 46\n",
      "MAP is 0.01993503947438146\n",
      "EvaluatorHoldout: Processed 10456 (100.0%) in 4.81 min. Users per second: 36\n",
      "MAP is 0.024715170753330722\n",
      "EvaluatorHoldout: Processed 10469 (100.0%) in 4.90 min. Users per second: 36\n",
      "MAP is 0.030346207321085897\n",
      "EvaluatorHoldout: Processed 10472 (100.0%) in 4.87 min. Users per second: 36\n",
      "MAP is 0.02892057959547476\n",
      "EvaluatorHoldout: Processed 10490 (100.0%) in 4.85 min. Users per second: 36\n"
     ]
    },
    {
     "name": "stderr",
     "output_type": "stream",
     "text": [
      "[I 2023-11-25 12:47:34,881] Trial 52 finished with value: 0.02685740793279639 and parameters: {'alpha': 1.7976910912022257, 'beta': 0.04669402514047523, 'topK': 91}. Best is trial 48 with value: 0.02691668664189979.\n"
     ]
    },
    {
     "name": "stdout",
     "output_type": "stream",
     "text": [
      "MAP is 0.030370042519709123\n",
      "RP3betaRecommender: URM Detected 951 ( 7.3%) users with no interactions.\n",
      "RP3betaRecommender: URM Detected 1482 (11.4%) users with no interactions.\n",
      "RP3betaRecommender: URM Detected 1512 ( 6.8%) items with no interactions.\n",
      "RP3betaRecommender: URM Detected 551 ( 2.5%) items with no interactions.\n",
      "RP3betaRecommender: URM Detected 602 ( 4.6%) users with no interactions.\n",
      "RP3betaRecommender: URM Detected 634 ( 4.9%) users with no interactions.\n",
      "RP3betaRecommender: URM Detected 601 ( 4.6%) users with no interactions.\n",
      "RP3betaRecommender: URM Detected 235 ( 1.1%) items with no interactions.\n",
      "RP3betaRecommender: URM Detected 250 ( 1.1%) items with no interactions.\n",
      "RP3betaRecommender: URM Detected 231 ( 1.0%) items with no interactions.\n",
      "RP3betaRecommender: Similarity column 22347 (100.0%), 199.75 column/sec. Elapsed time 1.86 min\n",
      "EvaluatorHoldout: Ignoring 2539 (19.5%) Users that have less than 1 test interactions\n",
      "RP3betaRecommender: Similarity column 22347 (100.0%), 152.16 column/sec. Elapsed time 2.45 min\n",
      "EvaluatorHoldout: Ignoring 2568 (19.7%) Users that have less than 1 test interactions\n",
      "RP3betaRecommender: Similarity column 22347 (100.0%), 115.15 column/sec. Elapsed time 3.23 min\n",
      "EvaluatorHoldout: Ignoring 2555 (19.6%) Users that have less than 1 test interactions\n",
      "RP3betaRecommender: Similarity column 22347 (100.0%), 112.73 column/sec. Elapsed time 3.30 min\n",
      "RP3betaRecommender: Similarity column 22347 (100.0%), 112.49 column/sec. Elapsed time 3.31 min\n",
      "EvaluatorHoldout: Ignoring 2534 (19.5%) Users that have less than 1 test interactions\n",
      "EvaluatorHoldout: Ignoring 2552 (19.6%) Users that have less than 1 test interactions\n",
      "EvaluatorHoldout: Processed 10485 (100.0%) in 3.95 min. Users per second: 44\n",
      "MAP is 0.019652288605793683\n",
      "EvaluatorHoldout: Processed 10456 (100.0%) in 4.99 min. Users per second: 35\n",
      "MAP is 0.024727971939859896\n",
      "EvaluatorHoldout: Processed 10000 (95.5%) in 5.03 min. Users per second: 33\n",
      "EvaluatorHoldout: Processed 10000 (95.5%) in 5.04 min. Users per second: 33\n",
      "EvaluatorHoldout: Processed 10000 (95.3%) in 5.07 min. Users per second: 33\n",
      "EvaluatorHoldout: Processed 10469 (100.0%) in 5.18 min. Users per second: 34\n",
      "MAP is 0.030290142324959753\n",
      "EvaluatorHoldout: Processed 10472 (100.0%) in 5.15 min. Users per second: 34\n",
      "MAP is 0.02882601525458686\n",
      "EvaluatorHoldout: Processed 10490 (100.0%) in 5.17 min. Users per second: 34\n",
      "MAP is 0.0304257266936011\n"
     ]
    },
    {
     "name": "stderr",
     "output_type": "stream",
     "text": [
      "[I 2023-11-25 12:56:07,768] Trial 53 finished with value: 0.026784428963760258 and parameters: {'alpha': 1.900749731821763, 'beta': 0.07414845170437462, 'topK': 89}. Best is trial 48 with value: 0.02691668664189979.\n"
     ]
    },
    {
     "name": "stdout",
     "output_type": "stream",
     "text": [
      "RP3betaRecommender: URM Detected 951 ( 7.3%) users with no interactions.\n",
      "RP3betaRecommender: URM Detected 1482 (11.4%) users with no interactions.\n",
      "RP3betaRecommender: URM Detected 551 ( 2.5%) items with no interactions.\n",
      "RP3betaRecommender: URM Detected 1512 ( 6.8%) items with no interactions.\n",
      "RP3betaRecommender: URM Detected 634 ( 4.9%) users with no interactions.\n",
      "RP3betaRecommender: URM Detected 602 ( 4.6%) users with no interactions.\n",
      "RP3betaRecommender: URM Detected 601 ( 4.6%) users with no interactions.\n",
      "RP3betaRecommender: URM Detected 250 ( 1.1%) items with no interactions.\n",
      "RP3betaRecommender: URM Detected 235 ( 1.1%) items with no interactions.\n",
      "RP3betaRecommender: URM Detected 231 ( 1.0%) items with no interactions.\n",
      "RP3betaRecommender: Similarity column 22347 (100.0%), 199.31 column/sec. Elapsed time 1.87 min\n",
      "EvaluatorHoldout: Ignoring 2539 (19.5%) Users that have less than 1 test interactions\n",
      "RP3betaRecommender: Similarity column 22347 (100.0%), 146.46 column/sec. Elapsed time 2.54 min\n",
      "EvaluatorHoldout: Ignoring 2568 (19.7%) Users that have less than 1 test interactions\n",
      "RP3betaRecommender: Similarity column 22347 (100.0%), 112.49 column/sec. Elapsed time 3.31 min\n",
      "RP3betaRecommender: Similarity column 22347 (100.0%), 112.37 column/sec. Elapsed time 3.31 min\n",
      "EvaluatorHoldout: Ignoring 2555 (19.6%) Users that have less than 1 test interactions\n",
      "EvaluatorHoldout: Ignoring 2534 (19.5%) Users that have less than 1 test interactions\n",
      "RP3betaRecommender: Similarity column 22347 (100.0%), 110.55 column/sec. Elapsed time 3.37 min\n",
      "EvaluatorHoldout: Ignoring 2552 (19.6%) Users that have less than 1 test interactions\n",
      "EvaluatorHoldout: Processed 10485 (100.0%) in 3.29 min. Users per second: 53\n",
      "MAP is 0.020616103125402165\n",
      "EvaluatorHoldout: Processed 10456 (100.0%) in 4.54 min. Users per second: 38\n",
      "MAP is 0.022526008458726557\n",
      "EvaluatorHoldout: Processed 10469 (100.0%) in 4.63 min. Users per second: 38\n",
      "MAP is 0.026055027162582886\n",
      "EvaluatorHoldout: Processed 10472 (100.0%) in 4.58 min. Users per second: 38\n",
      "MAP is 0.02429591533583136\n",
      "EvaluatorHoldout: Processed 10490 (100.0%) in 4.63 min. Users per second: 38\n",
      "MAP is 0.025614867523113496\n"
     ]
    },
    {
     "name": "stderr",
     "output_type": "stream",
     "text": [
      "[I 2023-11-25 13:04:08,680] Trial 54 finished with value: 0.02382158432113129 and parameters: {'alpha': 0.7356701985021952, 'beta': 0.04395765667008495, 'topK': 94}. Best is trial 48 with value: 0.02691668664189979.\n"
     ]
    },
    {
     "name": "stdout",
     "output_type": "stream",
     "text": [
      "RP3betaRecommender: URM Detected 1482 (11.4%) users with no interactions.\n",
      "RP3betaRecommender: URM Detected 1512 ( 6.8%) items with no interactions.\n",
      "RP3betaRecommender: URM Detected 951 ( 7.3%) users with no interactions.\n",
      "RP3betaRecommender: URM Detected 602 ( 4.6%) users with no interactions.\n",
      "RP3betaRecommender: URM Detected 551 ( 2.5%) items with no interactions.\n",
      "RP3betaRecommender: URM Detected 231 ( 1.0%) items with no interactions.\n",
      "RP3betaRecommender: URM Detected 601 ( 4.6%) users with no interactions.\n",
      "RP3betaRecommender: URM Detected 634 ( 4.9%) users with no interactions.\n",
      "RP3betaRecommender: URM Detected 250 ( 1.1%) items with no interactions.\n",
      "RP3betaRecommender: URM Detected 235 ( 1.1%) items with no interactions.\n",
      "RP3betaRecommender: Similarity column 22347 (100.0%), 199.00 column/sec. Elapsed time 1.87 min\n",
      "EvaluatorHoldout: Ignoring 2539 (19.5%) Users that have less than 1 test interactions\n",
      "RP3betaRecommender: Similarity column 22347 (100.0%), 151.99 column/sec. Elapsed time 2.45 min\n",
      "EvaluatorHoldout: Ignoring 2568 (19.7%) Users that have less than 1 test interactions\n",
      "RP3betaRecommender: Similarity column 22347 (100.0%), 116.07 column/sec. Elapsed time 3.21 min\n",
      "RP3betaRecommender: Similarity column 22347 (100.0%), 115.38 column/sec. Elapsed time 3.23 min\n",
      "EvaluatorHoldout: Ignoring 2552 (19.6%) Users that have less than 1 test interactions\n",
      "EvaluatorHoldout: Ignoring 2555 (19.6%) Users that have less than 1 test interactions\n",
      "RP3betaRecommender: Similarity column 22347 (100.0%), 112.67 column/sec. Elapsed time 3.31 min\n",
      "EvaluatorHoldout: Ignoring 2534 (19.5%) Users that have less than 1 test interactions\n",
      "EvaluatorHoldout: Processed 10485 (100.0%) in 4.00 min. Users per second: 44\n",
      "MAP is 0.01330122775544802\n",
      "EvaluatorHoldout: Processed 10456 (100.0%) in 4.93 min. Users per second: 35\n",
      "MAP is 0.016833806973439693\n",
      "EvaluatorHoldout: Processed 10472 (100.0%) in 5.07 min. Users per second: 34\n",
      "MAP is 0.020294701213818905\n",
      "EvaluatorHoldout: Processed 10469 (100.0%) in 5.05 min. Users per second: 35\n",
      "MAP is 0.021148670981749638\n",
      "EvaluatorHoldout: Processed 10490 (100.0%) in 4.99 min. Users per second: 35\n",
      "MAP is 0.019489998032896114\n"
     ]
    },
    {
     "name": "stderr",
     "output_type": "stream",
     "text": [
      "[I 2023-11-25 13:12:30,971] Trial 55 finished with value: 0.018213680991470475 and parameters: {'alpha': 3.4331949508399187, 'beta': 0.021807222134907298, 'topK': 74}. Best is trial 48 with value: 0.02691668664189979.\n"
     ]
    },
    {
     "name": "stdout",
     "output_type": "stream",
     "text": [
      "RP3betaRecommender: URM Detected 1482 (11.4%) users with no interactions.\n",
      "RP3betaRecommender: URM Detected 951 ( 7.3%) users with no interactions.\n",
      "RP3betaRecommender: URM Detected 1512 ( 6.8%) items with no interactions.\n",
      "RP3betaRecommender: URM Detected 551 ( 2.5%) items with no interactions.\n",
      "RP3betaRecommender: URM Detected 634 ( 4.9%) users with no interactions.\n",
      "RP3betaRecommender: URM Detected 601 ( 4.6%) users with no interactions.\n",
      "RP3betaRecommender: URM Detected 602 ( 4.6%) users with no interactions.\n",
      "RP3betaRecommender: URM Detected 231 ( 1.0%) items with no interactions.\n",
      "RP3betaRecommender: URM Detected 235 ( 1.1%) items with no interactions.\n",
      "RP3betaRecommender: URM Detected 250 ( 1.1%) items with no interactions.\n",
      "RP3betaRecommender: Similarity column 22347 (100.0%), 202.44 column/sec. Elapsed time 1.84 min\n",
      "EvaluatorHoldout: Ignoring 2539 (19.5%) Users that have less than 1 test interactions\n",
      "RP3betaRecommender: Similarity column 22347 (100.0%), 151.48 column/sec. Elapsed time 2.46 min\n",
      "EvaluatorHoldout: Ignoring 2568 (19.7%) Users that have less than 1 test interactions\n",
      "RP3betaRecommender: Similarity column 22347 (100.0%), 116.58 column/sec. Elapsed time 3.19 min\n",
      "EvaluatorHoldout: Ignoring 2555 (19.6%) Users that have less than 1 test interactions\n",
      "RP3betaRecommender: Similarity column 22347 (100.0%), 114.30 column/sec. Elapsed time 3.26 min\n",
      "RP3betaRecommender: Similarity column 22347 (100.0%), 114.13 column/sec. Elapsed time 3.26 min\n",
      "EvaluatorHoldout: Ignoring 2552 (19.6%) Users that have less than 1 test interactions\n",
      "EvaluatorHoldout: Ignoring 2534 (19.5%) Users that have less than 1 test interactions\n",
      "EvaluatorHoldout: Processed 10485 (100.0%) in 3.50 min. Users per second: 50\n",
      "MAP is 0.019171007713210873\n",
      "EvaluatorHoldout: Processed 10456 (100.0%) in 4.84 min. Users per second: 36\n",
      "MAP is 0.02419757092456981\n",
      "EvaluatorHoldout: Processed 10469 (100.0%) in 4.96 min. Users per second: 35\n",
      "MAP is 0.03057356033762595\n",
      "EvaluatorHoldout: Processed 10472 (100.0%) in 4.96 min. Users per second: 35\n",
      "MAP is 0.02937521978488381\n",
      "EvaluatorHoldout: Processed 10490 (100.0%) in 4.94 min. Users per second: 35\n",
      "MAP is 0.030085886785600945\n"
     ]
    },
    {
     "name": "stderr",
     "output_type": "stream",
     "text": [
      "[I 2023-11-25 13:20:47,736] Trial 56 finished with value: 0.026680649109178278 and parameters: {'alpha': 1.8808736852368535, 'beta': 0.016368893672987772, 'topK': 62}. Best is trial 48 with value: 0.02691668664189979.\n"
     ]
    },
    {
     "name": "stdout",
     "output_type": "stream",
     "text": [
      "RP3betaRecommender: URM Detected 951 ( 7.3%) users with no interactions.\n",
      "RP3betaRecommender: URM Detected 1482 (11.4%) users with no interactions.\n",
      "RP3betaRecommender: URM Detected 551 ( 2.5%) items with no interactions.\n",
      "RP3betaRecommender: URM Detected 1512 ( 6.8%) items with no interactions.\n",
      "RP3betaRecommender: URM Detected 634 ( 4.9%) users with no interactions.\n",
      "RP3betaRecommender: URM Detected 602 ( 4.6%) users with no interactions.\n",
      "RP3betaRecommender: URM Detected 601 ( 4.6%) users with no interactions.\n",
      "RP3betaRecommender: URM Detected 250 ( 1.1%) items with no interactions.\n",
      "RP3betaRecommender: URM Detected 235 ( 1.1%) items with no interactions.\n",
      "RP3betaRecommender: URM Detected 231 ( 1.0%) items with no interactions.\n",
      "RP3betaRecommender: Similarity column 22347 (100.0%), 197.98 column/sec. Elapsed time 1.88 min\n",
      "EvaluatorHoldout: Ignoring 2539 (19.5%) Users that have less than 1 test interactions\n",
      "RP3betaRecommender: Similarity column 22347 (100.0%), 145.13 column/sec. Elapsed time 2.57 min\n",
      "EvaluatorHoldout: Ignoring 2568 (19.7%) Users that have less than 1 test interactions\n",
      "RP3betaRecommender: Similarity column 22347 (100.0%), 113.29 column/sec. Elapsed time 3.29 min\n",
      "EvaluatorHoldout: Ignoring 2555 (19.6%) Users that have less than 1 test interactions\n",
      "RP3betaRecommender: Similarity column 22347 (100.0%), 111.88 column/sec. Elapsed time 3.33 min\n",
      "EvaluatorHoldout: Ignoring 2534 (19.5%) Users that have less than 1 test interactions\n",
      "RP3betaRecommender: Similarity column 22347 (100.0%), 109.59 column/sec. Elapsed time 3.40 min\n",
      "EvaluatorHoldout: Ignoring 2552 (19.6%) Users that have less than 1 test interactions\n",
      "EvaluatorHoldout: Processed 10485 (100.0%) in 3.53 min. Users per second: 49\n",
      "MAP is 0.009360564222509827\n",
      "EvaluatorHoldout: Processed 10456 (100.0%) in 4.60 min. Users per second: 38\n",
      "MAP is 0.011421709719337815\n",
      "EvaluatorHoldout: Processed 10469 (100.0%) in 4.79 min. Users per second: 36\n",
      "MAP is 0.012600982189290502\n",
      "EvaluatorHoldout: Processed 10472 (100.0%) in 4.70 min. Users per second: 37\n",
      "MAP is 0.014192483811706484\n",
      "EvaluatorHoldout: Processed 10490 (100.0%) in 4.77 min. Users per second: 37\n",
      "MAP is 0.011707249534704228\n"
     ]
    },
    {
     "name": "stderr",
     "output_type": "stream",
     "text": [
      "[I 2023-11-25 13:28:59,081] Trial 57 finished with value: 0.01185659789550977 and parameters: {'alpha': 5.21543568308186, 'beta': 0.07305958512668612, 'topK': 90}. Best is trial 48 with value: 0.02691668664189979.\n"
     ]
    },
    {
     "name": "stdout",
     "output_type": "stream",
     "text": [
      "RP3betaRecommender: URM Detected 1482 (11.4%) users with no interactions.\n",
      "RP3betaRecommender: URM Detected 951 ( 7.3%) users with no interactions.\n",
      "RP3betaRecommender: URM Detected 1512 ( 6.8%) items with no interactions.\n",
      "RP3betaRecommender: URM Detected 601 ( 4.6%) users with no interactions.\n",
      "RP3betaRecommender: URM Detected 551 ( 2.5%) items with no interactions.\n",
      "RP3betaRecommender: URM Detected 634 ( 4.9%) users with no interactions.\n",
      "RP3betaRecommender: URM Detected 602 ( 4.6%) users with no interactions.\n",
      "RP3betaRecommender: URM Detected 235 ( 1.1%) items with no interactions.\n",
      "RP3betaRecommender: URM Detected 250 ( 1.1%) items with no interactions.RP3betaRecommender: URM Detected 231 ( 1.0%) items with no interactions.\n",
      "\n",
      "RP3betaRecommender: Similarity column 22347 (100.0%), 192.36 column/sec. Elapsed time 1.94 min\n",
      "EvaluatorHoldout: Ignoring 2539 (19.5%) Users that have less than 1 test interactions\n",
      "RP3betaRecommender: Similarity column 22347 (100.0%), 144.98 column/sec. Elapsed time 2.57 min\n",
      "EvaluatorHoldout: Ignoring 2568 (19.7%) Users that have less than 1 test interactions\n",
      "RP3betaRecommender: Similarity column 22347 (100.0%), 111.43 column/sec. Elapsed time 3.34 min\n",
      "RP3betaRecommender: Similarity column 22347 (100.0%), 111.22 column/sec. Elapsed time 3.35 min\n",
      "RP3betaRecommender: Similarity column 22347 (100.0%), 109.49 column/sec. Elapsed time 3.40 min\n",
      "EvaluatorHoldout: Ignoring 2555 (19.6%) Users that have less than 1 test interactions\n",
      "EvaluatorHoldout: Ignoring 2552 (19.6%) Users that have less than 1 test interactions\n",
      "EvaluatorHoldout: Ignoring 2534 (19.5%) Users that have less than 1 test interactions\n",
      "EvaluatorHoldout: Processed 10485 (100.0%) in 4.08 min. Users per second: 43\n",
      "MAP is 0.017437102133811708\n",
      "EvaluatorHoldout: Processed 10456 (100.0%) in 4.76 min. Users per second: 37\n",
      "MAP is 0.022318859225659213\n",
      "EvaluatorHoldout: Processed 10469 (100.0%) in 4.90 min. Users per second: 36\n",
      "MAP is 0.025755090236177343\n",
      "EvaluatorHoldout: Processed 10472 (100.0%) in 4.88 min. Users per second: 36\n",
      "MAP is 0.025168942577030878\n",
      "EvaluatorHoldout: Processed 10490 (100.0%) in 4.83 min. Users per second: 36\n",
      "MAP is 0.025463196241318334\n"
     ]
    },
    {
     "name": "stderr",
     "output_type": "stream",
     "text": [
      "[I 2023-11-25 13:37:20,963] Trial 58 finished with value: 0.023228638082799496 and parameters: {'alpha': 2.9381019142041604, 'beta': 0.043784401598764996, 'topK': 160}. Best is trial 48 with value: 0.02691668664189979.\n"
     ]
    },
    {
     "name": "stdout",
     "output_type": "stream",
     "text": [
      "RP3betaRecommender: URM Detected 1482 (11.4%) users with no interactions.\n",
      "RP3betaRecommender: URM Detected 951 ( 7.3%) users with no interactions.\n",
      "RP3betaRecommender: URM Detected 1512 ( 6.8%) items with no interactions.\n",
      "RP3betaRecommender: URM Detected 551 ( 2.5%) items with no interactions.\n",
      "RP3betaRecommender: URM Detected 601 ( 4.6%) users with no interactions.\n",
      "RP3betaRecommender: URM Detected 602 ( 4.6%) users with no interactions.\n",
      "RP3betaRecommender: URM Detected 634 ( 4.9%) users with no interactions.\n",
      "RP3betaRecommender: URM Detected 235 ( 1.1%) items with no interactions.\n",
      "RP3betaRecommender: URM Detected 250 ( 1.1%) items with no interactions.\n",
      "RP3betaRecommender: URM Detected 231 ( 1.0%) items with no interactions.\n",
      "RP3betaRecommender: Similarity column 22347 (100.0%), 195.40 column/sec. Elapsed time 1.91 min\n",
      "EvaluatorHoldout: Ignoring 2539 (19.5%) Users that have less than 1 test interactions\n",
      "RP3betaRecommender: Similarity column 22347 (100.0%), 144.38 column/sec. Elapsed time 2.58 min\n",
      "EvaluatorHoldout: Ignoring 2568 (19.7%) Users that have less than 1 test interactions\n",
      "RP3betaRecommender: Similarity column 22347 (100.0%), 110.13 column/sec. Elapsed time 3.38 min\n",
      "EvaluatorHoldout: Ignoring 2555 (19.6%) Users that have less than 1 test interactions\n",
      "RP3betaRecommender: Similarity column 22347 (100.0%), 108.75 column/sec. Elapsed time 3.42 min\n",
      "RP3betaRecommender: Similarity column 22347 (100.0%), 108.12 column/sec. Elapsed time 3.44 min\n",
      "EvaluatorHoldout: Ignoring 2534 (19.5%) Users that have less than 1 test interactions\n",
      "EvaluatorHoldout: Ignoring 2552 (19.6%) Users that have less than 1 test interactions\n",
      "EvaluatorHoldout: Processed 10485 (100.0%) in 3.42 min. Users per second: 51\n",
      "MAP is 0.021453955386001207\n",
      "EvaluatorHoldout: Processed 10456 (100.0%) in 4.56 min. Users per second: 38\n",
      "MAP is 0.021409792812815034\n",
      "EvaluatorHoldout: Processed 10469 (100.0%) in 4.78 min. Users per second: 36\n",
      "MAP is 0.023747966407246242\n",
      "EvaluatorHoldout: Processed 10472 (100.0%) in 4.75 min. Users per second: 37\n",
      "MAP is 0.022291939503073982\n",
      "EvaluatorHoldout: Processed 10490 (100.0%) in 4.78 min. Users per second: 37\n",
      "MAP is 0.022963797721185775\n"
     ]
    },
    {
     "name": "stderr",
     "output_type": "stream",
     "text": [
      "[I 2023-11-25 13:45:38,312] Trial 59 finished with value: 0.022373490366064445 and parameters: {'alpha': 0.8922838617172529, 'beta': 0.02815528610621245, 'topK': 152}. Best is trial 48 with value: 0.02691668664189979.\n"
     ]
    }
   ],
   "source": [
    "if config['tune_hybrid']:\n",
    "    study = optuna.create_study(direction='maximize', study_name='hyperparameters_tuning_stag2_rp3', \n",
    "                                storage=f'sqlite:///{config[\"database_path\"]}', load_if_exists=True)\n",
    "    study.optimize(objective_item_knn, n_trials=20)"
   ]
  },
  {
   "cell_type": "code",
   "execution_count": 34,
   "id": "34c4bafd",
   "metadata": {
    "execution": {
     "iopub.execute_input": "2023-11-25T13:45:38.411936Z",
     "iopub.status.busy": "2023-11-25T13:45:38.411578Z",
     "iopub.status.idle": "2023-11-25T13:45:39.069559Z",
     "shell.execute_reply": "2023-11-25T13:45:39.068694Z"
    },
    "papermill": {
     "duration": 0.70589,
     "end_time": "2023-11-25T13:45:39.071437",
     "exception": false,
     "start_time": "2023-11-25T13:45:38.365547",
     "status": "completed"
    },
    "tags": []
   },
   "outputs": [
    {
     "data": {
      "text/html": [
       "        <script type=\"text/javascript\">\n",
       "        window.PlotlyConfig = {MathJaxConfig: 'local'};\n",
       "        if (window.MathJax && window.MathJax.Hub && window.MathJax.Hub.Config) {window.MathJax.Hub.Config({SVG: {font: \"STIX-Web\"}});}\n",
       "        if (typeof require !== 'undefined') {\n",
       "        require.undef(\"plotly\");\n",
       "        requirejs.config({\n",
       "            paths: {\n",
       "                'plotly': ['https://cdn.plot.ly/plotly-2.25.2.min']\n",
       "            }\n",
       "        });\n",
       "        require(['plotly'], function(Plotly) {\n",
       "            window._Plotly = Plotly;\n",
       "        });\n",
       "        }\n",
       "        </script>\n",
       "        "
      ]
     },
     "metadata": {},
     "output_type": "display_data"
    },
    {
     "data": {
      "text/html": [
       "<div>                            <div id=\"73415a1c-dbc1-4969-8a38-314cc65572b4\" class=\"plotly-graph-div\" style=\"height:525px; width:100%;\"></div>            <script type=\"text/javascript\">                require([\"plotly\"], function(Plotly) {                    window.PLOTLYENV=window.PLOTLYENV || {};                                    if (document.getElementById(\"73415a1c-dbc1-4969-8a38-314cc65572b4\")) {                    Plotly.newPlot(                        \"73415a1c-dbc1-4969-8a38-314cc65572b4\",                        [{\"mode\":\"markers\",\"name\":\"Objective Value\",\"x\":[0,1,2,3,4,5,6,7,8,9,10,11,12,13,14,15,16,17,18,19,20,21,22,23,24,25,26,27,28,29,30,31,32,33,34,35,36,37,38,39,40,41,42,43,44,45,46,47,48,49,50,51,52,53,54,55,56,57,58,59],\"y\":[0.023229795498854868,0.0015699140421317006,0.0192695583537155,0.01734331734550899,0.0005531901539856642,0.0012999860771192144,0.019533407191095913,0.019003510548570277,0.017553090955915195,0.02097827108381267,0.011743798750586561,0.01946871599924018,0.009381012784892617,0.017951076311156396,0.0001069744796315122,0.02203208893752385,0.02390904223420983,0.02002190186845353,0.01098668584414791,0.008965879292099748,0.02003484559152613,0.02109479540765396,0.022205981312635247,0.02367455171589989,0.013318757407102744,0.022911323778115576,0.021605864714240034,0.010914643744657247,0.0108867894692341,0.00541600066813707,0.024131362672510828,0.02529746968754869,0.02589070322951721,0.025931768854733528,0.026230814710901253,0.025654916536138044,0.022609747729973893,0.026357928893930717,0.022459209002120194,0.025676183109374313,0.024070407868607983,0.02576999582190865,0.0257403806711978,0.026760211604799106,0.02683399339464134,0.02691649729307194,0.023706725400253308,0.02353530482835474,0.02691668664189979,0.02621422582173431,0.015175715691275706,0.026635449116700443,0.02685740793279639,0.026784428963760258,0.02382158432113129,0.018213680991470475,0.026680649109178278,0.01185659789550977,0.023228638082799496,0.022373490366064445],\"type\":\"scatter\"},{\"mode\":\"lines\",\"name\":\"Best Value\",\"x\":[0,1,2,3,4,5,6,7,8,9,10,11,12,13,14,15,16,17,18,19,20,21,22,23,24,25,26,27,28,29,30,31,32,33,34,35,36,37,38,39,40,41,42,43,44,45,46,47,48,49,50,51,52,53,54,55,56,57,58,59],\"y\":[0.023229795498854868,0.023229795498854868,0.023229795498854868,0.023229795498854868,0.023229795498854868,0.023229795498854868,0.023229795498854868,0.023229795498854868,0.023229795498854868,0.023229795498854868,0.023229795498854868,0.023229795498854868,0.023229795498854868,0.023229795498854868,0.023229795498854868,0.023229795498854868,0.02390904223420983,0.02390904223420983,0.02390904223420983,0.02390904223420983,0.02390904223420983,0.02390904223420983,0.02390904223420983,0.02390904223420983,0.02390904223420983,0.02390904223420983,0.02390904223420983,0.02390904223420983,0.02390904223420983,0.02390904223420983,0.024131362672510828,0.02529746968754869,0.02589070322951721,0.025931768854733528,0.026230814710901253,0.026230814710901253,0.026230814710901253,0.026357928893930717,0.026357928893930717,0.026357928893930717,0.026357928893930717,0.026357928893930717,0.026357928893930717,0.026760211604799106,0.02683399339464134,0.02691649729307194,0.02691649729307194,0.02691649729307194,0.02691668664189979,0.02691668664189979,0.02691668664189979,0.02691668664189979,0.02691668664189979,0.02691668664189979,0.02691668664189979,0.02691668664189979,0.02691668664189979,0.02691668664189979,0.02691668664189979,0.02691668664189979],\"type\":\"scatter\"},{\"marker\":{\"color\":\"#cccccc\"},\"mode\":\"markers\",\"name\":\"Infeasible Trial\",\"showlegend\":false,\"x\":[],\"y\":[],\"type\":\"scatter\"}],                        {\"title\":{\"text\":\"Optimization History Plot\"},\"xaxis\":{\"title\":{\"text\":\"Trial\"}},\"yaxis\":{\"title\":{\"text\":\"Objective Value\"}},\"template\":{\"data\":{\"histogram2dcontour\":[{\"type\":\"histogram2dcontour\",\"colorbar\":{\"outlinewidth\":0,\"ticks\":\"\"},\"colorscale\":[[0.0,\"#0d0887\"],[0.1111111111111111,\"#46039f\"],[0.2222222222222222,\"#7201a8\"],[0.3333333333333333,\"#9c179e\"],[0.4444444444444444,\"#bd3786\"],[0.5555555555555556,\"#d8576b\"],[0.6666666666666666,\"#ed7953\"],[0.7777777777777778,\"#fb9f3a\"],[0.8888888888888888,\"#fdca26\"],[1.0,\"#f0f921\"]]}],\"choropleth\":[{\"type\":\"choropleth\",\"colorbar\":{\"outlinewidth\":0,\"ticks\":\"\"}}],\"histogram2d\":[{\"type\":\"histogram2d\",\"colorbar\":{\"outlinewidth\":0,\"ticks\":\"\"},\"colorscale\":[[0.0,\"#0d0887\"],[0.1111111111111111,\"#46039f\"],[0.2222222222222222,\"#7201a8\"],[0.3333333333333333,\"#9c179e\"],[0.4444444444444444,\"#bd3786\"],[0.5555555555555556,\"#d8576b\"],[0.6666666666666666,\"#ed7953\"],[0.7777777777777778,\"#fb9f3a\"],[0.8888888888888888,\"#fdca26\"],[1.0,\"#f0f921\"]]}],\"heatmap\":[{\"type\":\"heatmap\",\"colorbar\":{\"outlinewidth\":0,\"ticks\":\"\"},\"colorscale\":[[0.0,\"#0d0887\"],[0.1111111111111111,\"#46039f\"],[0.2222222222222222,\"#7201a8\"],[0.3333333333333333,\"#9c179e\"],[0.4444444444444444,\"#bd3786\"],[0.5555555555555556,\"#d8576b\"],[0.6666666666666666,\"#ed7953\"],[0.7777777777777778,\"#fb9f3a\"],[0.8888888888888888,\"#fdca26\"],[1.0,\"#f0f921\"]]}],\"heatmapgl\":[{\"type\":\"heatmapgl\",\"colorbar\":{\"outlinewidth\":0,\"ticks\":\"\"},\"colorscale\":[[0.0,\"#0d0887\"],[0.1111111111111111,\"#46039f\"],[0.2222222222222222,\"#7201a8\"],[0.3333333333333333,\"#9c179e\"],[0.4444444444444444,\"#bd3786\"],[0.5555555555555556,\"#d8576b\"],[0.6666666666666666,\"#ed7953\"],[0.7777777777777778,\"#fb9f3a\"],[0.8888888888888888,\"#fdca26\"],[1.0,\"#f0f921\"]]}],\"contourcarpet\":[{\"type\":\"contourcarpet\",\"colorbar\":{\"outlinewidth\":0,\"ticks\":\"\"}}],\"contour\":[{\"type\":\"contour\",\"colorbar\":{\"outlinewidth\":0,\"ticks\":\"\"},\"colorscale\":[[0.0,\"#0d0887\"],[0.1111111111111111,\"#46039f\"],[0.2222222222222222,\"#7201a8\"],[0.3333333333333333,\"#9c179e\"],[0.4444444444444444,\"#bd3786\"],[0.5555555555555556,\"#d8576b\"],[0.6666666666666666,\"#ed7953\"],[0.7777777777777778,\"#fb9f3a\"],[0.8888888888888888,\"#fdca26\"],[1.0,\"#f0f921\"]]}],\"surface\":[{\"type\":\"surface\",\"colorbar\":{\"outlinewidth\":0,\"ticks\":\"\"},\"colorscale\":[[0.0,\"#0d0887\"],[0.1111111111111111,\"#46039f\"],[0.2222222222222222,\"#7201a8\"],[0.3333333333333333,\"#9c179e\"],[0.4444444444444444,\"#bd3786\"],[0.5555555555555556,\"#d8576b\"],[0.6666666666666666,\"#ed7953\"],[0.7777777777777778,\"#fb9f3a\"],[0.8888888888888888,\"#fdca26\"],[1.0,\"#f0f921\"]]}],\"mesh3d\":[{\"type\":\"mesh3d\",\"colorbar\":{\"outlinewidth\":0,\"ticks\":\"\"}}],\"scatter\":[{\"fillpattern\":{\"fillmode\":\"overlay\",\"size\":10,\"solidity\":0.2},\"type\":\"scatter\"}],\"parcoords\":[{\"type\":\"parcoords\",\"line\":{\"colorbar\":{\"outlinewidth\":0,\"ticks\":\"\"}}}],\"scatterpolargl\":[{\"type\":\"scatterpolargl\",\"marker\":{\"colorbar\":{\"outlinewidth\":0,\"ticks\":\"\"}}}],\"bar\":[{\"error_x\":{\"color\":\"#2a3f5f\"},\"error_y\":{\"color\":\"#2a3f5f\"},\"marker\":{\"line\":{\"color\":\"#E5ECF6\",\"width\":0.5},\"pattern\":{\"fillmode\":\"overlay\",\"size\":10,\"solidity\":0.2}},\"type\":\"bar\"}],\"scattergeo\":[{\"type\":\"scattergeo\",\"marker\":{\"colorbar\":{\"outlinewidth\":0,\"ticks\":\"\"}}}],\"scatterpolar\":[{\"type\":\"scatterpolar\",\"marker\":{\"colorbar\":{\"outlinewidth\":0,\"ticks\":\"\"}}}],\"histogram\":[{\"marker\":{\"pattern\":{\"fillmode\":\"overlay\",\"size\":10,\"solidity\":0.2}},\"type\":\"histogram\"}],\"scattergl\":[{\"type\":\"scattergl\",\"marker\":{\"colorbar\":{\"outlinewidth\":0,\"ticks\":\"\"}}}],\"scatter3d\":[{\"type\":\"scatter3d\",\"line\":{\"colorbar\":{\"outlinewidth\":0,\"ticks\":\"\"}},\"marker\":{\"colorbar\":{\"outlinewidth\":0,\"ticks\":\"\"}}}],\"scattermapbox\":[{\"type\":\"scattermapbox\",\"marker\":{\"colorbar\":{\"outlinewidth\":0,\"ticks\":\"\"}}}],\"scatterternary\":[{\"type\":\"scatterternary\",\"marker\":{\"colorbar\":{\"outlinewidth\":0,\"ticks\":\"\"}}}],\"scattercarpet\":[{\"type\":\"scattercarpet\",\"marker\":{\"colorbar\":{\"outlinewidth\":0,\"ticks\":\"\"}}}],\"carpet\":[{\"aaxis\":{\"endlinecolor\":\"#2a3f5f\",\"gridcolor\":\"white\",\"linecolor\":\"white\",\"minorgridcolor\":\"white\",\"startlinecolor\":\"#2a3f5f\"},\"baxis\":{\"endlinecolor\":\"#2a3f5f\",\"gridcolor\":\"white\",\"linecolor\":\"white\",\"minorgridcolor\":\"white\",\"startlinecolor\":\"#2a3f5f\"},\"type\":\"carpet\"}],\"table\":[{\"cells\":{\"fill\":{\"color\":\"#EBF0F8\"},\"line\":{\"color\":\"white\"}},\"header\":{\"fill\":{\"color\":\"#C8D4E3\"},\"line\":{\"color\":\"white\"}},\"type\":\"table\"}],\"barpolar\":[{\"marker\":{\"line\":{\"color\":\"#E5ECF6\",\"width\":0.5},\"pattern\":{\"fillmode\":\"overlay\",\"size\":10,\"solidity\":0.2}},\"type\":\"barpolar\"}],\"pie\":[{\"automargin\":true,\"type\":\"pie\"}]},\"layout\":{\"autotypenumbers\":\"strict\",\"colorway\":[\"#636efa\",\"#EF553B\",\"#00cc96\",\"#ab63fa\",\"#FFA15A\",\"#19d3f3\",\"#FF6692\",\"#B6E880\",\"#FF97FF\",\"#FECB52\"],\"font\":{\"color\":\"#2a3f5f\"},\"hovermode\":\"closest\",\"hoverlabel\":{\"align\":\"left\"},\"paper_bgcolor\":\"white\",\"plot_bgcolor\":\"#E5ECF6\",\"polar\":{\"bgcolor\":\"#E5ECF6\",\"angularaxis\":{\"gridcolor\":\"white\",\"linecolor\":\"white\",\"ticks\":\"\"},\"radialaxis\":{\"gridcolor\":\"white\",\"linecolor\":\"white\",\"ticks\":\"\"}},\"ternary\":{\"bgcolor\":\"#E5ECF6\",\"aaxis\":{\"gridcolor\":\"white\",\"linecolor\":\"white\",\"ticks\":\"\"},\"baxis\":{\"gridcolor\":\"white\",\"linecolor\":\"white\",\"ticks\":\"\"},\"caxis\":{\"gridcolor\":\"white\",\"linecolor\":\"white\",\"ticks\":\"\"}},\"coloraxis\":{\"colorbar\":{\"outlinewidth\":0,\"ticks\":\"\"}},\"colorscale\":{\"sequential\":[[0.0,\"#0d0887\"],[0.1111111111111111,\"#46039f\"],[0.2222222222222222,\"#7201a8\"],[0.3333333333333333,\"#9c179e\"],[0.4444444444444444,\"#bd3786\"],[0.5555555555555556,\"#d8576b\"],[0.6666666666666666,\"#ed7953\"],[0.7777777777777778,\"#fb9f3a\"],[0.8888888888888888,\"#fdca26\"],[1.0,\"#f0f921\"]],\"sequentialminus\":[[0.0,\"#0d0887\"],[0.1111111111111111,\"#46039f\"],[0.2222222222222222,\"#7201a8\"],[0.3333333333333333,\"#9c179e\"],[0.4444444444444444,\"#bd3786\"],[0.5555555555555556,\"#d8576b\"],[0.6666666666666666,\"#ed7953\"],[0.7777777777777778,\"#fb9f3a\"],[0.8888888888888888,\"#fdca26\"],[1.0,\"#f0f921\"]],\"diverging\":[[0,\"#8e0152\"],[0.1,\"#c51b7d\"],[0.2,\"#de77ae\"],[0.3,\"#f1b6da\"],[0.4,\"#fde0ef\"],[0.5,\"#f7f7f7\"],[0.6,\"#e6f5d0\"],[0.7,\"#b8e186\"],[0.8,\"#7fbc41\"],[0.9,\"#4d9221\"],[1,\"#276419\"]]},\"xaxis\":{\"gridcolor\":\"white\",\"linecolor\":\"white\",\"ticks\":\"\",\"title\":{\"standoff\":15},\"zerolinecolor\":\"white\",\"automargin\":true,\"zerolinewidth\":2},\"yaxis\":{\"gridcolor\":\"white\",\"linecolor\":\"white\",\"ticks\":\"\",\"title\":{\"standoff\":15},\"zerolinecolor\":\"white\",\"automargin\":true,\"zerolinewidth\":2},\"scene\":{\"xaxis\":{\"backgroundcolor\":\"#E5ECF6\",\"gridcolor\":\"white\",\"linecolor\":\"white\",\"showbackground\":true,\"ticks\":\"\",\"zerolinecolor\":\"white\",\"gridwidth\":2},\"yaxis\":{\"backgroundcolor\":\"#E5ECF6\",\"gridcolor\":\"white\",\"linecolor\":\"white\",\"showbackground\":true,\"ticks\":\"\",\"zerolinecolor\":\"white\",\"gridwidth\":2},\"zaxis\":{\"backgroundcolor\":\"#E5ECF6\",\"gridcolor\":\"white\",\"linecolor\":\"white\",\"showbackground\":true,\"ticks\":\"\",\"zerolinecolor\":\"white\",\"gridwidth\":2}},\"shapedefaults\":{\"line\":{\"color\":\"#2a3f5f\"}},\"annotationdefaults\":{\"arrowcolor\":\"#2a3f5f\",\"arrowhead\":0,\"arrowwidth\":1},\"geo\":{\"bgcolor\":\"white\",\"landcolor\":\"#E5ECF6\",\"subunitcolor\":\"white\",\"showland\":true,\"showlakes\":true,\"lakecolor\":\"white\"},\"title\":{\"x\":0.05},\"mapbox\":{\"style\":\"light\"}}}},                        {\"responsive\": true}                    ).then(function(){\n",
       "                            \n",
       "var gd = document.getElementById('73415a1c-dbc1-4969-8a38-314cc65572b4');\n",
       "var x = new MutationObserver(function (mutations, observer) {{\n",
       "        var display = window.getComputedStyle(gd).display;\n",
       "        if (!display || display === 'none') {{\n",
       "            console.log([gd, 'removed!']);\n",
       "            Plotly.purge(gd);\n",
       "            observer.disconnect();\n",
       "        }}\n",
       "}});\n",
       "\n",
       "// Listen for the removal of the full notebook cells\n",
       "var notebookContainer = gd.closest('#notebook-container');\n",
       "if (notebookContainer) {{\n",
       "    x.observe(notebookContainer, {childList: true});\n",
       "}}\n",
       "\n",
       "// Listen for the clearing of the current output cell\n",
       "var outputEl = gd.closest('.output');\n",
       "if (outputEl) {{\n",
       "    x.observe(outputEl, {childList: true});\n",
       "}}\n",
       "\n",
       "                        })                };                });            </script>        </div>"
      ]
     },
     "metadata": {},
     "output_type": "display_data"
    }
   ],
   "source": [
    "if config['tune_hybrid']:\n",
    "    fig = optuna.visualization.plot_optimization_history(study)\n",
    "    fig.show()"
   ]
  },
  {
   "cell_type": "code",
   "execution_count": 35,
   "id": "e8e89b39",
   "metadata": {
    "execution": {
     "iopub.execute_input": "2023-11-25T13:45:39.161035Z",
     "iopub.status.busy": "2023-11-25T13:45:39.160679Z",
     "iopub.status.idle": "2023-11-25T13:45:39.789552Z",
     "shell.execute_reply": "2023-11-25T13:45:39.787993Z"
    },
    "papermill": {
     "duration": 0.676939,
     "end_time": "2023-11-25T13:45:39.792257",
     "exception": false,
     "start_time": "2023-11-25T13:45:39.115318",
     "status": "completed"
    },
    "tags": []
   },
   "outputs": [
    {
     "data": {
      "text/html": [
       "<div>                            <div id=\"4b66fc59-9a33-4896-8534-23706e2274e5\" class=\"plotly-graph-div\" style=\"height:525px; width:100%;\"></div>            <script type=\"text/javascript\">                require([\"plotly\"], function(Plotly) {                    window.PLOTLYENV=window.PLOTLYENV || {};                                    if (document.getElementById(\"4b66fc59-9a33-4896-8534-23706e2274e5\")) {                    Plotly.newPlot(                        \"4b66fc59-9a33-4896-8534-23706e2274e5\",                        [{\"cliponaxis\":false,\"hovertemplate\":[\"topK (IntDistribution): 0.03546988211031876\\u003cextra\\u003e\\u003c\\u002fextra\\u003e\",\"alpha (FloatDistribution): 0.1940651648653631\\u003cextra\\u003e\\u003c\\u002fextra\\u003e\",\"beta (FloatDistribution): 0.770464953024318\\u003cextra\\u003e\\u003c\\u002fextra\\u003e\"],\"name\":\"Objective Value\",\"orientation\":\"h\",\"text\":[\"0.04\",\"0.19\",\"0.77\"],\"textposition\":\"outside\",\"x\":[0.03546988211031876,0.1940651648653631,0.770464953024318],\"y\":[\"topK\",\"alpha\",\"beta\"],\"type\":\"bar\"}],                        {\"title\":{\"text\":\"Hyperparameter Importances\"},\"xaxis\":{\"title\":{\"text\":\"Hyperparameter Importance\"}},\"yaxis\":{\"title\":{\"text\":\"Hyperparameter\"}},\"template\":{\"data\":{\"histogram2dcontour\":[{\"type\":\"histogram2dcontour\",\"colorbar\":{\"outlinewidth\":0,\"ticks\":\"\"},\"colorscale\":[[0.0,\"#0d0887\"],[0.1111111111111111,\"#46039f\"],[0.2222222222222222,\"#7201a8\"],[0.3333333333333333,\"#9c179e\"],[0.4444444444444444,\"#bd3786\"],[0.5555555555555556,\"#d8576b\"],[0.6666666666666666,\"#ed7953\"],[0.7777777777777778,\"#fb9f3a\"],[0.8888888888888888,\"#fdca26\"],[1.0,\"#f0f921\"]]}],\"choropleth\":[{\"type\":\"choropleth\",\"colorbar\":{\"outlinewidth\":0,\"ticks\":\"\"}}],\"histogram2d\":[{\"type\":\"histogram2d\",\"colorbar\":{\"outlinewidth\":0,\"ticks\":\"\"},\"colorscale\":[[0.0,\"#0d0887\"],[0.1111111111111111,\"#46039f\"],[0.2222222222222222,\"#7201a8\"],[0.3333333333333333,\"#9c179e\"],[0.4444444444444444,\"#bd3786\"],[0.5555555555555556,\"#d8576b\"],[0.6666666666666666,\"#ed7953\"],[0.7777777777777778,\"#fb9f3a\"],[0.8888888888888888,\"#fdca26\"],[1.0,\"#f0f921\"]]}],\"heatmap\":[{\"type\":\"heatmap\",\"colorbar\":{\"outlinewidth\":0,\"ticks\":\"\"},\"colorscale\":[[0.0,\"#0d0887\"],[0.1111111111111111,\"#46039f\"],[0.2222222222222222,\"#7201a8\"],[0.3333333333333333,\"#9c179e\"],[0.4444444444444444,\"#bd3786\"],[0.5555555555555556,\"#d8576b\"],[0.6666666666666666,\"#ed7953\"],[0.7777777777777778,\"#fb9f3a\"],[0.8888888888888888,\"#fdca26\"],[1.0,\"#f0f921\"]]}],\"heatmapgl\":[{\"type\":\"heatmapgl\",\"colorbar\":{\"outlinewidth\":0,\"ticks\":\"\"},\"colorscale\":[[0.0,\"#0d0887\"],[0.1111111111111111,\"#46039f\"],[0.2222222222222222,\"#7201a8\"],[0.3333333333333333,\"#9c179e\"],[0.4444444444444444,\"#bd3786\"],[0.5555555555555556,\"#d8576b\"],[0.6666666666666666,\"#ed7953\"],[0.7777777777777778,\"#fb9f3a\"],[0.8888888888888888,\"#fdca26\"],[1.0,\"#f0f921\"]]}],\"contourcarpet\":[{\"type\":\"contourcarpet\",\"colorbar\":{\"outlinewidth\":0,\"ticks\":\"\"}}],\"contour\":[{\"type\":\"contour\",\"colorbar\":{\"outlinewidth\":0,\"ticks\":\"\"},\"colorscale\":[[0.0,\"#0d0887\"],[0.1111111111111111,\"#46039f\"],[0.2222222222222222,\"#7201a8\"],[0.3333333333333333,\"#9c179e\"],[0.4444444444444444,\"#bd3786\"],[0.5555555555555556,\"#d8576b\"],[0.6666666666666666,\"#ed7953\"],[0.7777777777777778,\"#fb9f3a\"],[0.8888888888888888,\"#fdca26\"],[1.0,\"#f0f921\"]]}],\"surface\":[{\"type\":\"surface\",\"colorbar\":{\"outlinewidth\":0,\"ticks\":\"\"},\"colorscale\":[[0.0,\"#0d0887\"],[0.1111111111111111,\"#46039f\"],[0.2222222222222222,\"#7201a8\"],[0.3333333333333333,\"#9c179e\"],[0.4444444444444444,\"#bd3786\"],[0.5555555555555556,\"#d8576b\"],[0.6666666666666666,\"#ed7953\"],[0.7777777777777778,\"#fb9f3a\"],[0.8888888888888888,\"#fdca26\"],[1.0,\"#f0f921\"]]}],\"mesh3d\":[{\"type\":\"mesh3d\",\"colorbar\":{\"outlinewidth\":0,\"ticks\":\"\"}}],\"scatter\":[{\"fillpattern\":{\"fillmode\":\"overlay\",\"size\":10,\"solidity\":0.2},\"type\":\"scatter\"}],\"parcoords\":[{\"type\":\"parcoords\",\"line\":{\"colorbar\":{\"outlinewidth\":0,\"ticks\":\"\"}}}],\"scatterpolargl\":[{\"type\":\"scatterpolargl\",\"marker\":{\"colorbar\":{\"outlinewidth\":0,\"ticks\":\"\"}}}],\"bar\":[{\"error_x\":{\"color\":\"#2a3f5f\"},\"error_y\":{\"color\":\"#2a3f5f\"},\"marker\":{\"line\":{\"color\":\"#E5ECF6\",\"width\":0.5},\"pattern\":{\"fillmode\":\"overlay\",\"size\":10,\"solidity\":0.2}},\"type\":\"bar\"}],\"scattergeo\":[{\"type\":\"scattergeo\",\"marker\":{\"colorbar\":{\"outlinewidth\":0,\"ticks\":\"\"}}}],\"scatterpolar\":[{\"type\":\"scatterpolar\",\"marker\":{\"colorbar\":{\"outlinewidth\":0,\"ticks\":\"\"}}}],\"histogram\":[{\"marker\":{\"pattern\":{\"fillmode\":\"overlay\",\"size\":10,\"solidity\":0.2}},\"type\":\"histogram\"}],\"scattergl\":[{\"type\":\"scattergl\",\"marker\":{\"colorbar\":{\"outlinewidth\":0,\"ticks\":\"\"}}}],\"scatter3d\":[{\"type\":\"scatter3d\",\"line\":{\"colorbar\":{\"outlinewidth\":0,\"ticks\":\"\"}},\"marker\":{\"colorbar\":{\"outlinewidth\":0,\"ticks\":\"\"}}}],\"scattermapbox\":[{\"type\":\"scattermapbox\",\"marker\":{\"colorbar\":{\"outlinewidth\":0,\"ticks\":\"\"}}}],\"scatterternary\":[{\"type\":\"scatterternary\",\"marker\":{\"colorbar\":{\"outlinewidth\":0,\"ticks\":\"\"}}}],\"scattercarpet\":[{\"type\":\"scattercarpet\",\"marker\":{\"colorbar\":{\"outlinewidth\":0,\"ticks\":\"\"}}}],\"carpet\":[{\"aaxis\":{\"endlinecolor\":\"#2a3f5f\",\"gridcolor\":\"white\",\"linecolor\":\"white\",\"minorgridcolor\":\"white\",\"startlinecolor\":\"#2a3f5f\"},\"baxis\":{\"endlinecolor\":\"#2a3f5f\",\"gridcolor\":\"white\",\"linecolor\":\"white\",\"minorgridcolor\":\"white\",\"startlinecolor\":\"#2a3f5f\"},\"type\":\"carpet\"}],\"table\":[{\"cells\":{\"fill\":{\"color\":\"#EBF0F8\"},\"line\":{\"color\":\"white\"}},\"header\":{\"fill\":{\"color\":\"#C8D4E3\"},\"line\":{\"color\":\"white\"}},\"type\":\"table\"}],\"barpolar\":[{\"marker\":{\"line\":{\"color\":\"#E5ECF6\",\"width\":0.5},\"pattern\":{\"fillmode\":\"overlay\",\"size\":10,\"solidity\":0.2}},\"type\":\"barpolar\"}],\"pie\":[{\"automargin\":true,\"type\":\"pie\"}]},\"layout\":{\"autotypenumbers\":\"strict\",\"colorway\":[\"#636efa\",\"#EF553B\",\"#00cc96\",\"#ab63fa\",\"#FFA15A\",\"#19d3f3\",\"#FF6692\",\"#B6E880\",\"#FF97FF\",\"#FECB52\"],\"font\":{\"color\":\"#2a3f5f\"},\"hovermode\":\"closest\",\"hoverlabel\":{\"align\":\"left\"},\"paper_bgcolor\":\"white\",\"plot_bgcolor\":\"#E5ECF6\",\"polar\":{\"bgcolor\":\"#E5ECF6\",\"angularaxis\":{\"gridcolor\":\"white\",\"linecolor\":\"white\",\"ticks\":\"\"},\"radialaxis\":{\"gridcolor\":\"white\",\"linecolor\":\"white\",\"ticks\":\"\"}},\"ternary\":{\"bgcolor\":\"#E5ECF6\",\"aaxis\":{\"gridcolor\":\"white\",\"linecolor\":\"white\",\"ticks\":\"\"},\"baxis\":{\"gridcolor\":\"white\",\"linecolor\":\"white\",\"ticks\":\"\"},\"caxis\":{\"gridcolor\":\"white\",\"linecolor\":\"white\",\"ticks\":\"\"}},\"coloraxis\":{\"colorbar\":{\"outlinewidth\":0,\"ticks\":\"\"}},\"colorscale\":{\"sequential\":[[0.0,\"#0d0887\"],[0.1111111111111111,\"#46039f\"],[0.2222222222222222,\"#7201a8\"],[0.3333333333333333,\"#9c179e\"],[0.4444444444444444,\"#bd3786\"],[0.5555555555555556,\"#d8576b\"],[0.6666666666666666,\"#ed7953\"],[0.7777777777777778,\"#fb9f3a\"],[0.8888888888888888,\"#fdca26\"],[1.0,\"#f0f921\"]],\"sequentialminus\":[[0.0,\"#0d0887\"],[0.1111111111111111,\"#46039f\"],[0.2222222222222222,\"#7201a8\"],[0.3333333333333333,\"#9c179e\"],[0.4444444444444444,\"#bd3786\"],[0.5555555555555556,\"#d8576b\"],[0.6666666666666666,\"#ed7953\"],[0.7777777777777778,\"#fb9f3a\"],[0.8888888888888888,\"#fdca26\"],[1.0,\"#f0f921\"]],\"diverging\":[[0,\"#8e0152\"],[0.1,\"#c51b7d\"],[0.2,\"#de77ae\"],[0.3,\"#f1b6da\"],[0.4,\"#fde0ef\"],[0.5,\"#f7f7f7\"],[0.6,\"#e6f5d0\"],[0.7,\"#b8e186\"],[0.8,\"#7fbc41\"],[0.9,\"#4d9221\"],[1,\"#276419\"]]},\"xaxis\":{\"gridcolor\":\"white\",\"linecolor\":\"white\",\"ticks\":\"\",\"title\":{\"standoff\":15},\"zerolinecolor\":\"white\",\"automargin\":true,\"zerolinewidth\":2},\"yaxis\":{\"gridcolor\":\"white\",\"linecolor\":\"white\",\"ticks\":\"\",\"title\":{\"standoff\":15},\"zerolinecolor\":\"white\",\"automargin\":true,\"zerolinewidth\":2},\"scene\":{\"xaxis\":{\"backgroundcolor\":\"#E5ECF6\",\"gridcolor\":\"white\",\"linecolor\":\"white\",\"showbackground\":true,\"ticks\":\"\",\"zerolinecolor\":\"white\",\"gridwidth\":2},\"yaxis\":{\"backgroundcolor\":\"#E5ECF6\",\"gridcolor\":\"white\",\"linecolor\":\"white\",\"showbackground\":true,\"ticks\":\"\",\"zerolinecolor\":\"white\",\"gridwidth\":2},\"zaxis\":{\"backgroundcolor\":\"#E5ECF6\",\"gridcolor\":\"white\",\"linecolor\":\"white\",\"showbackground\":true,\"ticks\":\"\",\"zerolinecolor\":\"white\",\"gridwidth\":2}},\"shapedefaults\":{\"line\":{\"color\":\"#2a3f5f\"}},\"annotationdefaults\":{\"arrowcolor\":\"#2a3f5f\",\"arrowhead\":0,\"arrowwidth\":1},\"geo\":{\"bgcolor\":\"white\",\"landcolor\":\"#E5ECF6\",\"subunitcolor\":\"white\",\"showland\":true,\"showlakes\":true,\"lakecolor\":\"white\"},\"title\":{\"x\":0.05},\"mapbox\":{\"style\":\"light\"}}}},                        {\"responsive\": true}                    ).then(function(){\n",
       "                            \n",
       "var gd = document.getElementById('4b66fc59-9a33-4896-8534-23706e2274e5');\n",
       "var x = new MutationObserver(function (mutations, observer) {{\n",
       "        var display = window.getComputedStyle(gd).display;\n",
       "        if (!display || display === 'none') {{\n",
       "            console.log([gd, 'removed!']);\n",
       "            Plotly.purge(gd);\n",
       "            observer.disconnect();\n",
       "        }}\n",
       "}});\n",
       "\n",
       "// Listen for the removal of the full notebook cells\n",
       "var notebookContainer = gd.closest('#notebook-container');\n",
       "if (notebookContainer) {{\n",
       "    x.observe(notebookContainer, {childList: true});\n",
       "}}\n",
       "\n",
       "// Listen for the clearing of the current output cell\n",
       "var outputEl = gd.closest('.output');\n",
       "if (outputEl) {{\n",
       "    x.observe(outputEl, {childList: true});\n",
       "}}\n",
       "\n",
       "                        })                };                });            </script>        </div>"
      ]
     },
     "metadata": {},
     "output_type": "display_data"
    }
   ],
   "source": [
    "if config['tune_hybrid']:\n",
    "    fig = optuna.visualization.plot_param_importances(study)\n",
    "    fig.show()"
   ]
  },
  {
   "cell_type": "code",
   "execution_count": 36,
   "id": "f556bcb7",
   "metadata": {
    "execution": {
     "iopub.execute_input": "2023-11-25T13:45:39.882151Z",
     "iopub.status.busy": "2023-11-25T13:45:39.881609Z",
     "iopub.status.idle": "2023-11-25T13:45:40.137648Z",
     "shell.execute_reply": "2023-11-25T13:45:40.136965Z"
    },
    "papermill": {
     "duration": 0.302498,
     "end_time": "2023-11-25T13:45:40.139334",
     "exception": false,
     "start_time": "2023-11-25T13:45:39.836836",
     "status": "completed"
    },
    "tags": []
   },
   "outputs": [
    {
     "data": {
      "text/html": [
       "<div>                            <div id=\"9acd2502-8518-4f1f-ab5a-6285bbb371b8\" class=\"plotly-graph-div\" style=\"height:525px; width:100%;\"></div>            <script type=\"text/javascript\">                require([\"plotly\"], function(Plotly) {                    window.PLOTLYENV=window.PLOTLYENV || {};                                    if (document.getElementById(\"9acd2502-8518-4f1f-ab5a-6285bbb371b8\")) {                    Plotly.newPlot(                        \"9acd2502-8518-4f1f-ab5a-6285bbb371b8\",                        [{\"marker\":{\"color\":[0,1,2,3,4,5,6,7,8,9,10,11,12,13,14,15,16,17,18,19,20,21,22,23,24,25,26,27,28,29,30,31,32,33,34,35,36,37,38,39,40,41,42,43,44,45,46,47,48,49,50,51,52,53,54,55,56,57,58,59],\"colorbar\":{\"title\":{\"text\":\"Trial\"},\"x\":1.0,\"xpad\":40},\"colorscale\":[[0.0,\"rgb(247,251,255)\"],[0.125,\"rgb(222,235,247)\"],[0.25,\"rgb(198,219,239)\"],[0.375,\"rgb(158,202,225)\"],[0.5,\"rgb(107,174,214)\"],[0.625,\"rgb(66,146,198)\"],[0.75,\"rgb(33,113,181)\"],[0.875,\"rgb(8,81,156)\"],[1.0,\"rgb(8,48,107)\"]],\"line\":{\"color\":\"Grey\",\"width\":0.5},\"showscale\":true},\"mode\":\"markers\",\"name\":\"Feasible Trial\",\"showlegend\":false,\"x\":[2.534006571935572,1.60726651686522,0.20650762929003805,0.14286176052650307,0.07499414407132154,0.03213822089872851,0.4626526111478515,0.015920330181811968,0.06428318796844314,0.10205711860232548,5.927147357422654,0.7819313527270387,8.460169263354524,2.150493669603723,0.3568683515928344,0.8300840282125741,2.677751535207708,3.1091350742757458,4.352649530119464,9.566801029047626,1.5072481762745642,1.0885467519334953,3.0720348006409015,2.8587222464307396,4.330584887075255,2.3186880007704627,0.521751992229,1.5401971387972957,5.879347456913347,1.1086549428286545,2.2043541319954834,2.4977222487908515,2.0951727264159836,1.6282140165975085,1.756631468134464,1.430118428103625,0.6380399967828632,1.1876629687865083,0.2633508648823209,0.8976455376362996,0.5433304483377858,0.9765765707233557,1.151798633186386,1.6720860632171772,1.6985703744707032,1.7418934287731591,0.6684160259317707,0.45365148145286777,1.7408162798814562,1.1840630131005527,3.9084637801109094,1.7982236647234462,1.7976910912022257,1.900749731821763,0.7356701985021952,3.4331949508399187,1.8808736852368535,5.21543568308186,2.9381019142041604,0.8922838617172529],\"y\":[0.023229795498854868,0.0015699140421317006,0.0192695583537155,0.01734331734550899,0.0005531901539856642,0.0012999860771192144,0.019533407191095913,0.019003510548570277,0.017553090955915195,0.02097827108381267,0.011743798750586561,0.01946871599924018,0.009381012784892617,0.017951076311156396,0.0001069744796315122,0.02203208893752385,0.02390904223420983,0.02002190186845353,0.01098668584414791,0.008965879292099748,0.02003484559152613,0.02109479540765396,0.022205981312635247,0.02367455171589989,0.013318757407102744,0.022911323778115576,0.021605864714240034,0.010914643744657247,0.0108867894692341,0.00541600066813707,0.024131362672510828,0.02529746968754869,0.02589070322951721,0.025931768854733528,0.026230814710901253,0.025654916536138044,0.022609747729973893,0.026357928893930717,0.022459209002120194,0.025676183109374313,0.024070407868607983,0.02576999582190865,0.0257403806711978,0.026760211604799106,0.02683399339464134,0.02691649729307194,0.023706725400253308,0.02353530482835474,0.02691668664189979,0.02621422582173431,0.015175715691275706,0.026635449116700443,0.02685740793279639,0.026784428963760258,0.02382158432113129,0.018213680991470475,0.026680649109178278,0.01185659789550977,0.023228638082799496,0.022373490366064445],\"type\":\"scatter\",\"xaxis\":\"x\",\"yaxis\":\"y\"},{\"marker\":{\"color\":[0,1,2,3,4,5,6,7,8,9,10,11,12,13,14,15,16,17,18,19,20,21,22,23,24,25,26,27,28,29,30,31,32,33,34,35,36,37,38,39,40,41,42,43,44,45,46,47,48,49,50,51,52,53,54,55,56,57,58,59],\"colorbar\":{\"title\":{\"text\":\"Trial\"},\"x\":1.0,\"xpad\":40},\"colorscale\":[[0.0,\"rgb(247,251,255)\"],[0.125,\"rgb(222,235,247)\"],[0.25,\"rgb(198,219,239)\"],[0.375,\"rgb(158,202,225)\"],[0.5,\"rgb(107,174,214)\"],[0.625,\"rgb(66,146,198)\"],[0.75,\"rgb(33,113,181)\"],[0.875,\"rgb(8,81,156)\"],[1.0,\"rgb(8,48,107)\"]],\"line\":{\"color\":\"Grey\",\"width\":0.5},\"showscale\":false},\"mode\":\"markers\",\"name\":\"Feasible Trial\",\"showlegend\":false,\"x\":[0.2850493891688343,2.550402096047494,0.10309044322484287,0.4029015178917358,4.236133394793039,2.308344711348702,0.7666519605786984,0.04403441194539544,0.09286321993275304,0.09087668088380901,0.018542336545588737,0.2152886136489878,0.01186152017666455,0.6658626780227561,9.583148750489965,0.18766334330858936,0.2586780679778975,0.531270825669978,1.105741323369299,0.3231454532611822,0.1774261898771404,0.21669033106336902,0.4033945976853559,0.42464281527683817,0.9312423463997782,0.3367193436159145,0.48872489291274906,1.305244702145567,0.6632547825194492,1.552959078273106,0.15281127581171283,0.14167903765043044,0.13316015723607844,0.11208976775306737,0.13036453941611875,0.057644205968699146,0.06395018765811977,0.055133716599833016,0.03197096464383144,0.10015758339050174,0.0747657571728402,0.10647572577145355,0.11237396416803878,0.13015961514309718,0.0448168216527532,0.038085587075450976,0.03762453205225121,0.050443981996935984,0.027547466435618086,0.03173641690470671,0.024724314398947903,0.07395332595519669,0.04669402514047523,0.07414845170437462,0.04395765667008495,0.021807222134907298,0.016368893672987772,0.07305958512668612,0.043784401598764996,0.02815528610621245],\"y\":[0.023229795498854868,0.0015699140421317006,0.0192695583537155,0.01734331734550899,0.0005531901539856642,0.0012999860771192144,0.019533407191095913,0.019003510548570277,0.017553090955915195,0.02097827108381267,0.011743798750586561,0.01946871599924018,0.009381012784892617,0.017951076311156396,0.0001069744796315122,0.02203208893752385,0.02390904223420983,0.02002190186845353,0.01098668584414791,0.008965879292099748,0.02003484559152613,0.02109479540765396,0.022205981312635247,0.02367455171589989,0.013318757407102744,0.022911323778115576,0.021605864714240034,0.010914643744657247,0.0108867894692341,0.00541600066813707,0.024131362672510828,0.02529746968754869,0.02589070322951721,0.025931768854733528,0.026230814710901253,0.025654916536138044,0.022609747729973893,0.026357928893930717,0.022459209002120194,0.025676183109374313,0.024070407868607983,0.02576999582190865,0.0257403806711978,0.026760211604799106,0.02683399339464134,0.02691649729307194,0.023706725400253308,0.02353530482835474,0.02691668664189979,0.02621422582173431,0.015175715691275706,0.026635449116700443,0.02685740793279639,0.026784428963760258,0.02382158432113129,0.018213680991470475,0.026680649109178278,0.01185659789550977,0.023228638082799496,0.022373490366064445],\"type\":\"scatter\",\"xaxis\":\"x2\",\"yaxis\":\"y2\"},{\"marker\":{\"color\":[0,1,2,3,4,5,6,7,8,9,10,11,12,13,14,15,16,17,18,19,20,21,22,23,24,25,26,27,28,29,30,31,32,33,34,35,36,37,38,39,40,41,42,43,44,45,46,47,48,49,50,51,52,53,54,55,56,57,58,59],\"colorbar\":{\"title\":{\"text\":\"Trial\"},\"x\":1.0,\"xpad\":40},\"colorscale\":[[0.0,\"rgb(247,251,255)\"],[0.125,\"rgb(222,235,247)\"],[0.25,\"rgb(198,219,239)\"],[0.375,\"rgb(158,202,225)\"],[0.5,\"rgb(107,174,214)\"],[0.625,\"rgb(66,146,198)\"],[0.75,\"rgb(33,113,181)\"],[0.875,\"rgb(8,81,156)\"],[1.0,\"rgb(8,48,107)\"]],\"line\":{\"color\":\"Grey\",\"width\":0.5},\"showscale\":false},\"mode\":\"markers\",\"name\":\"Feasible Trial\",\"showlegend\":false,\"x\":[919,71,283,2705,74,21,20,84,320,76,1492,787,639,2946,4524,183,711,912,1425,516,1383,407,179,212,536,920,319,184,563,251,410,133,137,125,117,122,115,48,46,50,42,41,30,89,93,87,87,61,83,81,62,104,91,89,94,74,62,90,160,152],\"y\":[0.023229795498854868,0.0015699140421317006,0.0192695583537155,0.01734331734550899,0.0005531901539856642,0.0012999860771192144,0.019533407191095913,0.019003510548570277,0.017553090955915195,0.02097827108381267,0.011743798750586561,0.01946871599924018,0.009381012784892617,0.017951076311156396,0.0001069744796315122,0.02203208893752385,0.02390904223420983,0.02002190186845353,0.01098668584414791,0.008965879292099748,0.02003484559152613,0.02109479540765396,0.022205981312635247,0.02367455171589989,0.013318757407102744,0.022911323778115576,0.021605864714240034,0.010914643744657247,0.0108867894692341,0.00541600066813707,0.024131362672510828,0.02529746968754869,0.02589070322951721,0.025931768854733528,0.026230814710901253,0.025654916536138044,0.022609747729973893,0.026357928893930717,0.022459209002120194,0.025676183109374313,0.024070407868607983,0.02576999582190865,0.0257403806711978,0.026760211604799106,0.02683399339464134,0.02691649729307194,0.023706725400253308,0.02353530482835474,0.02691668664189979,0.02621422582173431,0.015175715691275706,0.026635449116700443,0.02685740793279639,0.026784428963760258,0.02382158432113129,0.018213680991470475,0.026680649109178278,0.01185659789550977,0.023228638082799496,0.022373490366064445],\"type\":\"scatter\",\"xaxis\":\"x3\",\"yaxis\":\"y3\"}],                        {\"template\":{\"data\":{\"histogram2dcontour\":[{\"type\":\"histogram2dcontour\",\"colorbar\":{\"outlinewidth\":0,\"ticks\":\"\"},\"colorscale\":[[0.0,\"#0d0887\"],[0.1111111111111111,\"#46039f\"],[0.2222222222222222,\"#7201a8\"],[0.3333333333333333,\"#9c179e\"],[0.4444444444444444,\"#bd3786\"],[0.5555555555555556,\"#d8576b\"],[0.6666666666666666,\"#ed7953\"],[0.7777777777777778,\"#fb9f3a\"],[0.8888888888888888,\"#fdca26\"],[1.0,\"#f0f921\"]]}],\"choropleth\":[{\"type\":\"choropleth\",\"colorbar\":{\"outlinewidth\":0,\"ticks\":\"\"}}],\"histogram2d\":[{\"type\":\"histogram2d\",\"colorbar\":{\"outlinewidth\":0,\"ticks\":\"\"},\"colorscale\":[[0.0,\"#0d0887\"],[0.1111111111111111,\"#46039f\"],[0.2222222222222222,\"#7201a8\"],[0.3333333333333333,\"#9c179e\"],[0.4444444444444444,\"#bd3786\"],[0.5555555555555556,\"#d8576b\"],[0.6666666666666666,\"#ed7953\"],[0.7777777777777778,\"#fb9f3a\"],[0.8888888888888888,\"#fdca26\"],[1.0,\"#f0f921\"]]}],\"heatmap\":[{\"type\":\"heatmap\",\"colorbar\":{\"outlinewidth\":0,\"ticks\":\"\"},\"colorscale\":[[0.0,\"#0d0887\"],[0.1111111111111111,\"#46039f\"],[0.2222222222222222,\"#7201a8\"],[0.3333333333333333,\"#9c179e\"],[0.4444444444444444,\"#bd3786\"],[0.5555555555555556,\"#d8576b\"],[0.6666666666666666,\"#ed7953\"],[0.7777777777777778,\"#fb9f3a\"],[0.8888888888888888,\"#fdca26\"],[1.0,\"#f0f921\"]]}],\"heatmapgl\":[{\"type\":\"heatmapgl\",\"colorbar\":{\"outlinewidth\":0,\"ticks\":\"\"},\"colorscale\":[[0.0,\"#0d0887\"],[0.1111111111111111,\"#46039f\"],[0.2222222222222222,\"#7201a8\"],[0.3333333333333333,\"#9c179e\"],[0.4444444444444444,\"#bd3786\"],[0.5555555555555556,\"#d8576b\"],[0.6666666666666666,\"#ed7953\"],[0.7777777777777778,\"#fb9f3a\"],[0.8888888888888888,\"#fdca26\"],[1.0,\"#f0f921\"]]}],\"contourcarpet\":[{\"type\":\"contourcarpet\",\"colorbar\":{\"outlinewidth\":0,\"ticks\":\"\"}}],\"contour\":[{\"type\":\"contour\",\"colorbar\":{\"outlinewidth\":0,\"ticks\":\"\"},\"colorscale\":[[0.0,\"#0d0887\"],[0.1111111111111111,\"#46039f\"],[0.2222222222222222,\"#7201a8\"],[0.3333333333333333,\"#9c179e\"],[0.4444444444444444,\"#bd3786\"],[0.5555555555555556,\"#d8576b\"],[0.6666666666666666,\"#ed7953\"],[0.7777777777777778,\"#fb9f3a\"],[0.8888888888888888,\"#fdca26\"],[1.0,\"#f0f921\"]]}],\"surface\":[{\"type\":\"surface\",\"colorbar\":{\"outlinewidth\":0,\"ticks\":\"\"},\"colorscale\":[[0.0,\"#0d0887\"],[0.1111111111111111,\"#46039f\"],[0.2222222222222222,\"#7201a8\"],[0.3333333333333333,\"#9c179e\"],[0.4444444444444444,\"#bd3786\"],[0.5555555555555556,\"#d8576b\"],[0.6666666666666666,\"#ed7953\"],[0.7777777777777778,\"#fb9f3a\"],[0.8888888888888888,\"#fdca26\"],[1.0,\"#f0f921\"]]}],\"mesh3d\":[{\"type\":\"mesh3d\",\"colorbar\":{\"outlinewidth\":0,\"ticks\":\"\"}}],\"scatter\":[{\"fillpattern\":{\"fillmode\":\"overlay\",\"size\":10,\"solidity\":0.2},\"type\":\"scatter\"}],\"parcoords\":[{\"type\":\"parcoords\",\"line\":{\"colorbar\":{\"outlinewidth\":0,\"ticks\":\"\"}}}],\"scatterpolargl\":[{\"type\":\"scatterpolargl\",\"marker\":{\"colorbar\":{\"outlinewidth\":0,\"ticks\":\"\"}}}],\"bar\":[{\"error_x\":{\"color\":\"#2a3f5f\"},\"error_y\":{\"color\":\"#2a3f5f\"},\"marker\":{\"line\":{\"color\":\"#E5ECF6\",\"width\":0.5},\"pattern\":{\"fillmode\":\"overlay\",\"size\":10,\"solidity\":0.2}},\"type\":\"bar\"}],\"scattergeo\":[{\"type\":\"scattergeo\",\"marker\":{\"colorbar\":{\"outlinewidth\":0,\"ticks\":\"\"}}}],\"scatterpolar\":[{\"type\":\"scatterpolar\",\"marker\":{\"colorbar\":{\"outlinewidth\":0,\"ticks\":\"\"}}}],\"histogram\":[{\"marker\":{\"pattern\":{\"fillmode\":\"overlay\",\"size\":10,\"solidity\":0.2}},\"type\":\"histogram\"}],\"scattergl\":[{\"type\":\"scattergl\",\"marker\":{\"colorbar\":{\"outlinewidth\":0,\"ticks\":\"\"}}}],\"scatter3d\":[{\"type\":\"scatter3d\",\"line\":{\"colorbar\":{\"outlinewidth\":0,\"ticks\":\"\"}},\"marker\":{\"colorbar\":{\"outlinewidth\":0,\"ticks\":\"\"}}}],\"scattermapbox\":[{\"type\":\"scattermapbox\",\"marker\":{\"colorbar\":{\"outlinewidth\":0,\"ticks\":\"\"}}}],\"scatterternary\":[{\"type\":\"scatterternary\",\"marker\":{\"colorbar\":{\"outlinewidth\":0,\"ticks\":\"\"}}}],\"scattercarpet\":[{\"type\":\"scattercarpet\",\"marker\":{\"colorbar\":{\"outlinewidth\":0,\"ticks\":\"\"}}}],\"carpet\":[{\"aaxis\":{\"endlinecolor\":\"#2a3f5f\",\"gridcolor\":\"white\",\"linecolor\":\"white\",\"minorgridcolor\":\"white\",\"startlinecolor\":\"#2a3f5f\"},\"baxis\":{\"endlinecolor\":\"#2a3f5f\",\"gridcolor\":\"white\",\"linecolor\":\"white\",\"minorgridcolor\":\"white\",\"startlinecolor\":\"#2a3f5f\"},\"type\":\"carpet\"}],\"table\":[{\"cells\":{\"fill\":{\"color\":\"#EBF0F8\"},\"line\":{\"color\":\"white\"}},\"header\":{\"fill\":{\"color\":\"#C8D4E3\"},\"line\":{\"color\":\"white\"}},\"type\":\"table\"}],\"barpolar\":[{\"marker\":{\"line\":{\"color\":\"#E5ECF6\",\"width\":0.5},\"pattern\":{\"fillmode\":\"overlay\",\"size\":10,\"solidity\":0.2}},\"type\":\"barpolar\"}],\"pie\":[{\"automargin\":true,\"type\":\"pie\"}]},\"layout\":{\"autotypenumbers\":\"strict\",\"colorway\":[\"#636efa\",\"#EF553B\",\"#00cc96\",\"#ab63fa\",\"#FFA15A\",\"#19d3f3\",\"#FF6692\",\"#B6E880\",\"#FF97FF\",\"#FECB52\"],\"font\":{\"color\":\"#2a3f5f\"},\"hovermode\":\"closest\",\"hoverlabel\":{\"align\":\"left\"},\"paper_bgcolor\":\"white\",\"plot_bgcolor\":\"#E5ECF6\",\"polar\":{\"bgcolor\":\"#E5ECF6\",\"angularaxis\":{\"gridcolor\":\"white\",\"linecolor\":\"white\",\"ticks\":\"\"},\"radialaxis\":{\"gridcolor\":\"white\",\"linecolor\":\"white\",\"ticks\":\"\"}},\"ternary\":{\"bgcolor\":\"#E5ECF6\",\"aaxis\":{\"gridcolor\":\"white\",\"linecolor\":\"white\",\"ticks\":\"\"},\"baxis\":{\"gridcolor\":\"white\",\"linecolor\":\"white\",\"ticks\":\"\"},\"caxis\":{\"gridcolor\":\"white\",\"linecolor\":\"white\",\"ticks\":\"\"}},\"coloraxis\":{\"colorbar\":{\"outlinewidth\":0,\"ticks\":\"\"}},\"colorscale\":{\"sequential\":[[0.0,\"#0d0887\"],[0.1111111111111111,\"#46039f\"],[0.2222222222222222,\"#7201a8\"],[0.3333333333333333,\"#9c179e\"],[0.4444444444444444,\"#bd3786\"],[0.5555555555555556,\"#d8576b\"],[0.6666666666666666,\"#ed7953\"],[0.7777777777777778,\"#fb9f3a\"],[0.8888888888888888,\"#fdca26\"],[1.0,\"#f0f921\"]],\"sequentialminus\":[[0.0,\"#0d0887\"],[0.1111111111111111,\"#46039f\"],[0.2222222222222222,\"#7201a8\"],[0.3333333333333333,\"#9c179e\"],[0.4444444444444444,\"#bd3786\"],[0.5555555555555556,\"#d8576b\"],[0.6666666666666666,\"#ed7953\"],[0.7777777777777778,\"#fb9f3a\"],[0.8888888888888888,\"#fdca26\"],[1.0,\"#f0f921\"]],\"diverging\":[[0,\"#8e0152\"],[0.1,\"#c51b7d\"],[0.2,\"#de77ae\"],[0.3,\"#f1b6da\"],[0.4,\"#fde0ef\"],[0.5,\"#f7f7f7\"],[0.6,\"#e6f5d0\"],[0.7,\"#b8e186\"],[0.8,\"#7fbc41\"],[0.9,\"#4d9221\"],[1,\"#276419\"]]},\"xaxis\":{\"gridcolor\":\"white\",\"linecolor\":\"white\",\"ticks\":\"\",\"title\":{\"standoff\":15},\"zerolinecolor\":\"white\",\"automargin\":true,\"zerolinewidth\":2},\"yaxis\":{\"gridcolor\":\"white\",\"linecolor\":\"white\",\"ticks\":\"\",\"title\":{\"standoff\":15},\"zerolinecolor\":\"white\",\"automargin\":true,\"zerolinewidth\":2},\"scene\":{\"xaxis\":{\"backgroundcolor\":\"#E5ECF6\",\"gridcolor\":\"white\",\"linecolor\":\"white\",\"showbackground\":true,\"ticks\":\"\",\"zerolinecolor\":\"white\",\"gridwidth\":2},\"yaxis\":{\"backgroundcolor\":\"#E5ECF6\",\"gridcolor\":\"white\",\"linecolor\":\"white\",\"showbackground\":true,\"ticks\":\"\",\"zerolinecolor\":\"white\",\"gridwidth\":2},\"zaxis\":{\"backgroundcolor\":\"#E5ECF6\",\"gridcolor\":\"white\",\"linecolor\":\"white\",\"showbackground\":true,\"ticks\":\"\",\"zerolinecolor\":\"white\",\"gridwidth\":2}},\"shapedefaults\":{\"line\":{\"color\":\"#2a3f5f\"}},\"annotationdefaults\":{\"arrowcolor\":\"#2a3f5f\",\"arrowhead\":0,\"arrowwidth\":1},\"geo\":{\"bgcolor\":\"white\",\"landcolor\":\"#E5ECF6\",\"subunitcolor\":\"white\",\"showland\":true,\"showlakes\":true,\"lakecolor\":\"white\"},\"title\":{\"x\":0.05},\"mapbox\":{\"style\":\"light\"}}},\"xaxis\":{\"anchor\":\"y\",\"domain\":[0.0,0.2888888888888889],\"title\":{\"text\":\"alpha\"},\"type\":\"log\"},\"yaxis\":{\"anchor\":\"x\",\"domain\":[0.0,1.0],\"title\":{\"text\":\"Objective Value\"}},\"xaxis2\":{\"anchor\":\"y2\",\"domain\":[0.35555555555555557,0.6444444444444445],\"title\":{\"text\":\"beta\"},\"type\":\"log\"},\"yaxis2\":{\"anchor\":\"x2\",\"domain\":[0.0,1.0],\"matches\":\"y\",\"showticklabels\":false},\"xaxis3\":{\"anchor\":\"y3\",\"domain\":[0.7111111111111111,1.0],\"title\":{\"text\":\"topK\"},\"type\":\"log\"},\"yaxis3\":{\"anchor\":\"x3\",\"domain\":[0.0,1.0],\"matches\":\"y\",\"showticklabels\":false},\"title\":{\"text\":\"Slice Plot\"}},                        {\"responsive\": true}                    ).then(function(){\n",
       "                            \n",
       "var gd = document.getElementById('9acd2502-8518-4f1f-ab5a-6285bbb371b8');\n",
       "var x = new MutationObserver(function (mutations, observer) {{\n",
       "        var display = window.getComputedStyle(gd).display;\n",
       "        if (!display || display === 'none') {{\n",
       "            console.log([gd, 'removed!']);\n",
       "            Plotly.purge(gd);\n",
       "            observer.disconnect();\n",
       "        }}\n",
       "}});\n",
       "\n",
       "// Listen for the removal of the full notebook cells\n",
       "var notebookContainer = gd.closest('#notebook-container');\n",
       "if (notebookContainer) {{\n",
       "    x.observe(notebookContainer, {childList: true});\n",
       "}}\n",
       "\n",
       "// Listen for the clearing of the current output cell\n",
       "var outputEl = gd.closest('.output');\n",
       "if (outputEl) {{\n",
       "    x.observe(outputEl, {childList: true});\n",
       "}}\n",
       "\n",
       "                        })                };                });            </script>        </div>"
      ]
     },
     "metadata": {},
     "output_type": "display_data"
    }
   ],
   "source": [
    "if config['tune_hybrid']:\n",
    "    fig = optuna.visualization.plot_slice(study)\n",
    "    fig.show()"
   ]
  },
  {
   "cell_type": "code",
   "execution_count": 37,
   "id": "033270a7",
   "metadata": {
    "execution": {
     "iopub.execute_input": "2023-11-25T13:45:40.229636Z",
     "iopub.status.busy": "2023-11-25T13:45:40.229041Z",
     "iopub.status.idle": "2023-11-25T13:45:41.406720Z",
     "shell.execute_reply": "2023-11-25T13:45:41.405396Z"
    },
    "papermill": {
     "duration": 1.225258,
     "end_time": "2023-11-25T13:45:41.409456",
     "exception": false,
     "start_time": "2023-11-25T13:45:40.184198",
     "status": "completed"
    },
    "tags": []
   },
   "outputs": [],
   "source": [
    "if config['save_github'] and (config['tune_precision'] or config['tune_hybrid']):\n",
    "    upload_file(\n",
    "        config['database_path'],\n",
    "        'tuning_results/tuning_hybrid_precision.db', \n",
    "        'Hybrid pipeline results(from kaggle notebook)'\n",
    "    )"
   ]
  }
 ],
 "metadata": {
  "kaggle": {
   "accelerator": "none",
   "dataSources": [
    {
     "databundleVersionId": 6919098,
     "sourceId": 62803,
     "sourceType": "competition"
    },
    {
     "sourceId": 152024796,
     "sourceType": "kernelVersion"
    }
   ],
   "dockerImageVersionId": 30587,
   "isGpuEnabled": false,
   "isInternetEnabled": true,
   "language": "python",
   "sourceType": "notebook"
  },
  "kernelspec": {
   "display_name": "Python 3",
   "language": "python",
   "name": "python3"
  },
  "language_info": {
   "codemirror_mode": {
    "name": "ipython",
    "version": 3
   },
   "file_extension": ".py",
   "mimetype": "text/x-python",
   "name": "python",
   "nbconvert_exporter": "python",
   "pygments_lexer": "ipython3",
   "version": "3.10.12"
  },
  "papermill": {
   "default_parameters": {},
   "duration": 10294.165465,
   "end_time": "2023-11-25T13:45:42.996579",
   "environment_variables": {},
   "exception": null,
   "input_path": "__notebook__.ipynb",
   "output_path": "__notebook__.ipynb",
   "parameters": {},
   "start_time": "2023-11-25T10:54:08.831114",
   "version": "2.4.0"
  }
 },
 "nbformat": 4,
 "nbformat_minor": 5
}
