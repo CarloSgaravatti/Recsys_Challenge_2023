{
 "cells": [
  {
   "cell_type": "code",
   "execution_count": 1,
   "id": "8abfc9ff",
   "metadata": {
    "_cell_guid": "b1076dfc-b9ad-4769-8c92-a6c4dae69d19",
    "_uuid": "8f2839f25d086af736a60e9eeb907d3b93b6e0e5",
    "execution": {
     "iopub.execute_input": "2023-12-04T17:25:19.355510Z",
     "iopub.status.busy": "2023-12-04T17:25:19.354184Z",
     "iopub.status.idle": "2023-12-04T17:25:49.901940Z",
     "shell.execute_reply": "2023-12-04T17:25:49.900783Z"
    },
    "papermill": {
     "duration": 30.563857,
     "end_time": "2023-12-04T17:25:49.905055",
     "exception": false,
     "start_time": "2023-12-04T17:25:19.341198",
     "status": "completed"
    },
    "tags": []
   },
   "outputs": [
    {
     "name": "stdout",
     "output_type": "stream",
     "text": [
      "Cloning into 'Recsys_Challenge_2023'...\r\n",
      "remote: Enumerating objects: 1995, done.\u001b[K\r\n",
      "remote: Counting objects: 100% (113/113), done.\u001b[K\r\n",
      "remote: Compressing objects: 100% (108/108), done.\u001b[K\r\n",
      "remote: Total 1995 (delta 72), reused 4 (delta 4), pack-reused 1882\u001b[K\r\n",
      "Receiving objects: 100% (1995/1995), 270.29 MiB | 13.44 MiB/s, done.\r\n",
      "Resolving deltas: 100% (1524/1524), done.\r\n"
     ]
    }
   ],
   "source": [
    "from kaggle_secrets import UserSecretsClient\n",
    "secret_label = \"Token\"\n",
    "token = UserSecretsClient().get_secret(secret_label)\n",
    "\n",
    "! git clone https://{token}@github.com/CarloSgaravatti/Recsys_Challenge_2023.git"
   ]
  },
  {
   "cell_type": "code",
   "execution_count": 2,
   "id": "939718bc",
   "metadata": {
    "execution": {
     "iopub.execute_input": "2023-12-04T17:25:49.936843Z",
     "iopub.status.busy": "2023-12-04T17:25:49.936321Z",
     "iopub.status.idle": "2023-12-04T17:26:07.090222Z",
     "shell.execute_reply": "2023-12-04T17:26:07.088621Z"
    },
    "papermill": {
     "duration": 17.174334,
     "end_time": "2023-12-04T17:26:07.093471",
     "exception": false,
     "start_time": "2023-12-04T17:25:49.919137",
     "status": "completed"
    },
    "tags": []
   },
   "outputs": [
    {
     "name": "stdout",
     "output_type": "stream",
     "text": [
      "Collecting PyGithub\r\n",
      "  Obtaining dependency information for PyGithub from https://files.pythonhosted.org/packages/be/04/810d131be173cba445d3658a45512b2b2b3d0960d52c4a300d6ec5e00f52/PyGithub-2.1.1-py3-none-any.whl.metadata\r\n",
      "  Downloading PyGithub-2.1.1-py3-none-any.whl.metadata (2.2 kB)\r\n",
      "Requirement already satisfied: requests in /opt/conda/lib/python3.10/site-packages (2.31.0)\r\n",
      "Collecting pynacl>=1.4.0 (from PyGithub)\r\n",
      "  Downloading PyNaCl-1.5.0-cp36-abi3-manylinux_2_17_x86_64.manylinux2014_x86_64.manylinux_2_24_x86_64.whl (856 kB)\r\n",
      "\u001b[2K     \u001b[90m━━━━━━━━━━━━━━━━━━━━━━━━━━━━━━━━━━━━━━\u001b[0m \u001b[32m856.7/856.7 kB\u001b[0m \u001b[31m12.6 MB/s\u001b[0m eta \u001b[36m0:00:00\u001b[0m\r\n",
      "\u001b[?25hRequirement already satisfied: python-dateutil in /opt/conda/lib/python3.10/site-packages (from PyGithub) (2.8.2)\r\n",
      "Requirement already satisfied: pyjwt[crypto]>=2.4.0 in /opt/conda/lib/python3.10/site-packages (from PyGithub) (2.8.0)\r\n",
      "Requirement already satisfied: typing-extensions>=4.0.0 in /opt/conda/lib/python3.10/site-packages (from PyGithub) (4.5.0)\r\n",
      "Requirement already satisfied: urllib3>=1.26.0 in /opt/conda/lib/python3.10/site-packages (from PyGithub) (1.26.15)\r\n",
      "Requirement already satisfied: Deprecated in /opt/conda/lib/python3.10/site-packages (from PyGithub) (1.2.14)\r\n",
      "Requirement already satisfied: charset-normalizer<4,>=2 in /opt/conda/lib/python3.10/site-packages (from requests) (3.2.0)\r\n",
      "Requirement already satisfied: idna<4,>=2.5 in /opt/conda/lib/python3.10/site-packages (from requests) (3.4)\r\n",
      "Requirement already satisfied: certifi>=2017.4.17 in /opt/conda/lib/python3.10/site-packages (from requests) (2023.7.22)\r\n",
      "Requirement already satisfied: cryptography>=3.4.0 in /opt/conda/lib/python3.10/site-packages (from pyjwt[crypto]>=2.4.0->PyGithub) (41.0.3)\r\n",
      "Requirement already satisfied: cffi>=1.4.1 in /opt/conda/lib/python3.10/site-packages (from pynacl>=1.4.0->PyGithub) (1.15.1)\r\n",
      "Requirement already satisfied: wrapt<2,>=1.10 in /opt/conda/lib/python3.10/site-packages (from Deprecated->PyGithub) (1.15.0)\r\n",
      "Requirement already satisfied: six>=1.5 in /opt/conda/lib/python3.10/site-packages (from python-dateutil->PyGithub) (1.16.0)\r\n",
      "Requirement already satisfied: pycparser in /opt/conda/lib/python3.10/site-packages (from cffi>=1.4.1->pynacl>=1.4.0->PyGithub) (2.21)\r\n",
      "Downloading PyGithub-2.1.1-py3-none-any.whl (302 kB)\r\n",
      "\u001b[2K   \u001b[90m━━━━━━━━━━━━━━━━━━━━━━━━━━━━━━━━━━━━━━━━\u001b[0m \u001b[32m302.9/302.9 kB\u001b[0m \u001b[31m20.1 MB/s\u001b[0m eta \u001b[36m0:00:00\u001b[0m\r\n",
      "\u001b[?25hInstalling collected packages: pynacl, PyGithub\r\n",
      "Successfully installed PyGithub-2.1.1 pynacl-1.5.0\r\n"
     ]
    }
   ],
   "source": [
    "! pip install PyGithub requests"
   ]
  },
  {
   "cell_type": "code",
   "execution_count": 3,
   "id": "93ea7791",
   "metadata": {
    "_kg_hide-output": true,
    "execution": {
     "iopub.execute_input": "2023-12-04T17:26:07.129338Z",
     "iopub.status.busy": "2023-12-04T17:26:07.128824Z",
     "iopub.status.idle": "2023-12-04T17:28:54.496429Z",
     "shell.execute_reply": "2023-12-04T17:28:54.494722Z"
    },
    "papermill": {
     "duration": 167.388583,
     "end_time": "2023-12-04T17:28:54.500021",
     "exception": false,
     "start_time": "2023-12-04T17:26:07.111438",
     "status": "completed"
    },
    "scrolled": true,
    "tags": []
   },
   "outputs": [
    {
     "name": "stdout",
     "output_type": "stream",
     "text": [
      "run_compile_all_cython: Found 10 Cython files in 4 folders...\r\n",
      "run_compile_all_cython: All files will be compiled using your current python environment: '/opt/conda/bin/python'\r\n",
      "Compiling [1/10]: MatrixFactorizationImpressions_Cython_Epoch.pyx... \r\n",
      "In file included from \u001b[01m\u001b[K/opt/conda/lib/python3.10/site-packages/numpy/core/include/numpy/ndarraytypes.h:1940\u001b[m\u001b[K,\r\n",
      "                 from \u001b[01m\u001b[K/opt/conda/lib/python3.10/site-packages/numpy/core/include/numpy/ndarrayobject.h:12\u001b[m\u001b[K,\r\n",
      "                 from \u001b[01m\u001b[K/opt/conda/lib/python3.10/site-packages/numpy/core/include/numpy/arrayobject.h:5\u001b[m\u001b[K,\r\n",
      "                 from \u001b[01m\u001b[KMatrixFactorizationImpressions_Cython_Epoch.c:1109\u001b[m\u001b[K:\r\n",
      "\u001b[01m\u001b[K/opt/conda/lib/python3.10/site-packages/numpy/core/include/numpy/npy_1_7_deprecated_api.h:17:2:\u001b[m\u001b[K \u001b[01;35m\u001b[Kwarning: \u001b[m\u001b[K#warning \"Using deprecated NumPy API, disable it with \" \"#define NPY_NO_DEPRECATED_API NPY_1_7_API_VERSION\" [\u001b[01;35m\u001b[K-Wcpp\u001b[m\u001b[K]\r\n",
      "   17 | #\u001b[01;35m\u001b[Kwarning\u001b[m\u001b[K \"Using deprecated NumPy API, disable it with \" \\\r\n",
      "      |  \u001b[01;35m\u001b[K^~~~~~~\u001b[m\u001b[K\r\n",
      "\u001b[01m\u001b[KMatrixFactorizationImpressions_Cython_Epoch.c:\u001b[m\u001b[K In function ‘\u001b[01m\u001b[K__pyx_f_43MatrixFactorizationImpressions_Cython_Epoch_32MatrixFactorization_Cython_Epoch_sampleBPR_Cython\u001b[m\u001b[K’:\r\n",
      "\u001b[01m\u001b[KMatrixFactorizationImpressions_Cython_Epoch.c:29664:17:\u001b[m\u001b[K \u001b[01;35m\u001b[Kwarning: \u001b[m\u001b[K‘\u001b[01m\u001b[K__pyx_v_start_pos_impression_items\u001b[m\u001b[K’ may be used uninitialized in this function [\u001b[01;35m\u001b[K-Wmaybe-uninitialized\u001b[m\u001b[K]\r\n",
      "29664 |       \u001b[01;35m\u001b[K__pyx_t_4 = (__pyx_v_start_pos_impression_items + __pyx_v_index)\u001b[m\u001b[K;\r\n",
      "      |       \u001b[01;35m\u001b[K~~~~~~~~~~^~~~~~~~~~~~~~~~~~~~~~~~~~~~~~~~~~~~~~~~~~~~~~~~~~~~~~\u001b[m\u001b[K\r\n",
      "\u001b[01m\u001b[KMatrixFactorizationImpressions_Cython_Epoch.c:\u001b[m\u001b[K In function ‘\u001b[01m\u001b[K__pyx_pf_43MatrixFactorizationImpressions_Cython_Epoch_32MatrixFactorization_Cython_Epoch_10epochIteration_Cython_ASY_SVD_SGD\u001b[m\u001b[K’:\r\n",
      "\u001b[01m\u001b[KMatrixFactorizationImpressions_Cython_Epoch.c:25474:7:\u001b[m\u001b[K \u001b[01;35m\u001b[Kwarning: \u001b[m\u001b[K‘\u001b[01m\u001b[K__pyx_v_end_pos_seen_items\u001b[m\u001b[K’ may be used uninitialized in this function [\u001b[01;35m\u001b[K-Wmaybe-uninitialized\u001b[m\u001b[K]\r\n",
      "25474 |       \u001b[01;35m\u001b[Kfor\u001b[m\u001b[K (__pyx_t_21 = __pyx_v_start_pos_seen_items; __pyx_t_21 < __pyx_t_20; __pyx_t_21+=1) {\r\n",
      "      |       \u001b[01;35m\u001b[K^~~\u001b[m\u001b[K\r\n",
      "\u001b[01m\u001b[KMatrixFactorizationImpressions_Cython_Epoch.c:25474:7:\u001b[m\u001b[K \u001b[01;35m\u001b[Kwarning: \u001b[m\u001b[K‘\u001b[01m\u001b[K__pyx_v_start_pos_seen_items\u001b[m\u001b[K’ may be used uninitialized in this function [\u001b[01;35m\u001b[K-Wmaybe-uninitialized\u001b[m\u001b[K]\r\n",
      "/opt/conda/lib/python3.10/site-packages/Cython/Compiler/Main.py:381: FutureWarning: Cython directive 'language_level' not set, using '3str' for now (Py3). This has changed from earlier releases! File: /kaggle/working/Recsys_Challenge_2023/Recommenders/MatrixFactorization/Cython/MatrixFactorizationImpressions_Cython_Epoch.pyx\r\n",
      "  tree = Parsing.p_module(s, pxd, full_module_name)\r\n",
      "Compiling [1/10]: MatrixFactorizationImpressions_Cython_Epoch.pyx... PASS\r\n",
      "\r\n",
      "Compiling [2/10]: MatrixFactorization_Cython_Epoch.pyx... \r\n",
      "In file included from \u001b[01m\u001b[K/opt/conda/lib/python3.10/site-packages/numpy/core/include/numpy/ndarraytypes.h:1940\u001b[m\u001b[K,\r\n",
      "                 from \u001b[01m\u001b[K/opt/conda/lib/python3.10/site-packages/numpy/core/include/numpy/ndarrayobject.h:12\u001b[m\u001b[K,\r\n",
      "                 from \u001b[01m\u001b[K/opt/conda/lib/python3.10/site-packages/numpy/core/include/numpy/arrayobject.h:5\u001b[m\u001b[K,\r\n",
      "                 from \u001b[01m\u001b[KMatrixFactorization_Cython_Epoch.c:1109\u001b[m\u001b[K:\r\n",
      "\u001b[01m\u001b[K/opt/conda/lib/python3.10/site-packages/numpy/core/include/numpy/npy_1_7_deprecated_api.h:17:2:\u001b[m\u001b[K \u001b[01;35m\u001b[Kwarning: \u001b[m\u001b[K#warning \"Using deprecated NumPy API, disable it with \" \"#define NPY_NO_DEPRECATED_API NPY_1_7_API_VERSION\" [\u001b[01;35m\u001b[K-Wcpp\u001b[m\u001b[K]\r\n",
      "   17 | #\u001b[01;35m\u001b[Kwarning\u001b[m\u001b[K \"Using deprecated NumPy API, disable it with \" \\\r\n",
      "      |  \u001b[01;35m\u001b[K^~~~~~~\u001b[m\u001b[K\r\n",
      "\u001b[01m\u001b[KMatrixFactorization_Cython_Epoch.c:\u001b[m\u001b[K In function ‘\u001b[01m\u001b[K__pyx_pf_32MatrixFactorization_Cython_Epoch_32MatrixFactorization_Cython_Epoch_10epochIteration_Cython_ASY_SVD_SGD\u001b[m\u001b[K’:\r\n",
      "\u001b[01m\u001b[KMatrixFactorization_Cython_Epoch.c:25614:9:\u001b[m\u001b[K \u001b[01;35m\u001b[Kwarning: \u001b[m\u001b[K‘\u001b[01m\u001b[K__pyx_v_end_pos_seen_items\u001b[m\u001b[K’ may be used uninitialized in this function [\u001b[01;35m\u001b[K-Wmaybe-uninitialized\u001b[m\u001b[K]\r\n",
      "25614 |         \u001b[01;35m\u001b[Kfor\u001b[m\u001b[K (__pyx_t_21 = __pyx_v_start_pos_seen_items; __pyx_t_21 < __pyx_t_20; __pyx_t_21+=1) {\r\n",
      "      |         \u001b[01;35m\u001b[K^~~\u001b[m\u001b[K\r\n",
      "\u001b[01m\u001b[KMatrixFactorization_Cython_Epoch.c:25614:9:\u001b[m\u001b[K \u001b[01;35m\u001b[Kwarning: \u001b[m\u001b[K‘\u001b[01m\u001b[K__pyx_v_start_pos_seen_items\u001b[m\u001b[K’ may be used uninitialized in this function [\u001b[01;35m\u001b[K-Wmaybe-uninitialized\u001b[m\u001b[K]\r\n",
      "/opt/conda/lib/python3.10/site-packages/Cython/Compiler/Main.py:381: FutureWarning: Cython directive 'language_level' not set, using '3str' for now (Py3). This has changed from earlier releases! File: /kaggle/working/Recsys_Challenge_2023/Recommenders/MatrixFactorization/Cython/MatrixFactorization_Cython_Epoch.pyx\r\n",
      "  tree = Parsing.p_module(s, pxd, full_module_name)\r\n",
      "Compiling [2/10]: MatrixFactorization_Cython_Epoch.pyx... PASS\r\n",
      "\r\n",
      "Compiling [3/10]: Compute_Similarity_Cython.pyx... \r\n",
      "warning: Compute_Similarity_Cython.pyx:21:0: The 'IF' statement is deprecated and will be removed in a future Cython version. Consider using runtime conditions or C macros instead. See https://github.com/cython/cython/issues/4310\r\n",
      "warning: Compute_Similarity_Cython.pyx:22:4: The 'DEF' statement is deprecated and will be removed in a future Cython version. Consider using global variables, constants, and in-place literals instead. See https://github.com/cython/cython/issues/4310\r\n",
      "warning: Compute_Similarity_Cython.pyx:24:4: The 'DEF' statement is deprecated and will be removed in a future Cython version. Consider using global variables, constants, and in-place literals instead. See https://github.com/cython/cython/issues/4310\r\n",
      "warning: Compute_Similarity_Cython.pyx:26:4: The 'DEF' statement is deprecated and will be removed in a future Cython version. Consider using global variables, constants, and in-place literals instead. See https://github.com/cython/cython/issues/4310\r\n",
      "In file included from \u001b[01m\u001b[K/opt/conda/lib/python3.10/site-packages/numpy/core/include/numpy/ndarraytypes.h:1940\u001b[m\u001b[K,\r\n",
      "                 from \u001b[01m\u001b[K/opt/conda/lib/python3.10/site-packages/numpy/core/include/numpy/ndarrayobject.h:12\u001b[m\u001b[K,\r\n",
      "                 from \u001b[01m\u001b[K/opt/conda/lib/python3.10/site-packages/numpy/core/include/numpy/arrayobject.h:5\u001b[m\u001b[K,\r\n",
      "                 from \u001b[01m\u001b[KCompute_Similarity_Cython.c:1109\u001b[m\u001b[K:\r\n",
      "\u001b[01m\u001b[K/opt/conda/lib/python3.10/site-packages/numpy/core/include/numpy/npy_1_7_deprecated_api.h:17:2:\u001b[m\u001b[K \u001b[01;35m\u001b[Kwarning: \u001b[m\u001b[K#warning \"Using deprecated NumPy API, disable it with \" \"#define NPY_NO_DEPRECATED_API NPY_1_7_API_VERSION\" [\u001b[01;35m\u001b[K-Wcpp\u001b[m\u001b[K]\r\n",
      "   17 | #\u001b[01;35m\u001b[Kwarning\u001b[m\u001b[K \"Using deprecated NumPy API, disable it with \" \\\r\n",
      "      |  \u001b[01;35m\u001b[K^~~~~~~\u001b[m\u001b[K\r\n",
      "/opt/conda/lib/python3.10/site-packages/Cython/Compiler/Main.py:381: FutureWarning: Cython directive 'language_level' not set, using '3str' for now (Py3). This has changed from earlier releases! File: /kaggle/working/Recsys_Challenge_2023/Recommenders/Similarity/Cython/Compute_Similarity_Cython.pyx\r\n",
      "  tree = Parsing.p_module(s, pxd, full_module_name)\r\n",
      "warning: Compute_Similarity_Cython.pyx:21:0: The 'IF' statement is deprecated and will be removed in a future Cython version. Consider using runtime conditions or C macros instead. See https://github.com/cython/cython/issues/4310\r\n",
      "warning: Compute_Similarity_Cython.pyx:22:4: The 'DEF' statement is deprecated and will be removed in a future Cython version. Consider using global variables, constants, and in-place literals instead. See https://github.com/cython/cython/issues/4310\r\n",
      "warning: Compute_Similarity_Cython.pyx:24:4: The 'DEF' statement is deprecated and will be removed in a future Cython version. Consider using global variables, constants, and in-place literals instead. See https://github.com/cython/cython/issues/4310\r\n",
      "warning: Compute_Similarity_Cython.pyx:26:4: The 'DEF' statement is deprecated and will be removed in a future Cython version. Consider using global variables, constants, and in-place literals instead. See https://github.com/cython/cython/issues/4310\r\n",
      "Compiling [3/10]: Compute_Similarity_Cython.pyx... PASS\r\n",
      "\r\n",
      "Compiling [4/10]: SLIM_BPR_Cython_Epoch.pyx... \r\n",
      "warning: SLIM_BPR_Cython_Epoch.pyx:24:0: The 'IF' statement is deprecated and will be removed in a future Cython version. Consider using runtime conditions or C macros instead. See https://github.com/cython/cython/issues/4310\r\n",
      "warning: SLIM_BPR_Cython_Epoch.pyx:25:4: The 'DEF' statement is deprecated and will be removed in a future Cython version. Consider using global variables, constants, and in-place literals instead. See https://github.com/cython/cython/issues/4310\r\n",
      "warning: SLIM_BPR_Cython_Epoch.pyx:27:4: The 'DEF' statement is deprecated and will be removed in a future Cython version. Consider using global variables, constants, and in-place literals instead. See https://github.com/cython/cython/issues/4310\r\n",
      "warning: SLIM_BPR_Cython_Epoch.pyx:29:4: The 'DEF' statement is deprecated and will be removed in a future Cython version. Consider using global variables, constants, and in-place literals instead. See https://github.com/cython/cython/issues/4310\r\n",
      "warning: SLIM_BPR_Cython_Epoch.pyx:632:34: Non-trivial type declarators in shared declaration (e.g. mix of pointers and values). Each pointer declaration should be on its own line.\r\n",
      "warning: SLIM_BPR_Cython_Epoch.pyx:632:66: Non-trivial type declarators in shared declaration (e.g. mix of pointers and values). Each pointer declaration should be on its own line.\r\n",
      "warning: SLIM_BPR_Cython_Epoch.pyx:817:35: Non-trivial type declarators in shared declaration (e.g. mix of pointers and values). Each pointer declaration should be on its own line.\r\n",
      "warning: SLIM_BPR_Cython_Epoch.pyx:817:52: Non-trivial type declarators in shared declaration (e.g. mix of pointers and values). Each pointer declaration should be on its own line.\r\n",
      "warning: SLIM_BPR_Cython_Epoch.pyx:916:35: Non-trivial type declarators in shared declaration (e.g. mix of pointers and values). Each pointer declaration should be on its own line.\r\n",
      "warning: SLIM_BPR_Cython_Epoch.pyx:916:53: Non-trivial type declarators in shared declaration (e.g. mix of pointers and values). Each pointer declaration should be on its own line.\r\n",
      "warning: SLIM_BPR_Cython_Epoch.pyx:916:69: Non-trivial type declarators in shared declaration (e.g. mix of pointers and values). Each pointer declaration should be on its own line.\r\n",
      "warning: SLIM_BPR_Cython_Epoch.pyx:1051:35: Non-trivial type declarators in shared declaration (e.g. mix of pointers and values). Each pointer declaration should be on its own line.\r\n",
      "warning: SLIM_BPR_Cython_Epoch.pyx:1051:42: Non-trivial type declarators in shared declaration (e.g. mix of pointers and values). Each pointer declaration should be on its own line.\r\n",
      "warning: SLIM_BPR_Cython_Epoch.pyx:1052:35: Non-trivial type declarators in shared declaration (e.g. mix of pointers and values). Each pointer declaration should be on its own line.\r\n",
      "warning: SLIM_BPR_Cython_Epoch.pyx:1052:53: Non-trivial type declarators in shared declaration (e.g. mix of pointers and values). Each pointer declaration should be on its own line.\r\n",
      "\r\n",
      "Error compiling Cython file:\r\n",
      "------------------------------------------------------------\r\n",
      "...\r\n",
      "            vector_pointer_to_list_elements[index].head = current_element\r\n",
      "            current_element = current_element.higher\r\n",
      "\r\n",
      "\r\n",
      "        # Sort array elements on their data field\r\n",
      "        qsort(vector_pointer_to_list_elements, list_length, sizeof(head_pointer_tree_s), compare_struct_on_data)\r\n",
      "                                                                                         ^\r\n",
      "------------------------------------------------------------\r\n",
      "\r\n",
      "SLIM_BPR_Cython_Epoch.pyx:990:89: Cannot assign type 'int (const void *, const void *) except? -1' to 'int (*)(const_void *, const_void *) noexcept'\r\n",
      "\r\n",
      "Error compiling Cython file:\r\n",
      "------------------------------------------------------------\r\n",
      "...\r\n",
      "        # Sort array elements on their data field\r\n",
      "        qsort(vector_pointer_to_list_elements, list_length, sizeof(head_pointer_tree_s), compare_struct_on_data)\r\n",
      "\r\n",
      "        # Sort only the TopK according to their column field\r\n",
      "        # Sort is from lower to higher, therefore the elements to be considered are from len-topK to len\r\n",
      "        qsort(&vector_pointer_to_list_elements[list_length-TopK], TopK, sizeof(head_pointer_tree_s), compare_struct_on_column)\r\n",
      "                                                                                                     ^\r\n",
      "------------------------------------------------------------\r\n",
      "\r\n",
      "SLIM_BPR_Cython_Epoch.pyx:994:101: Cannot assign type 'int (const void *, const void *) except? -1' to 'int (*)(const_void *, const_void *) noexcept'\r\n",
      "Traceback (most recent call last):\r\n",
      "  File \"/kaggle/working/Recsys_Challenge_2023/CythonCompiler/compile_script.py\", line 48, in <module>\r\n",
      "    setup(\r\n",
      "  File \"/opt/conda/lib/python3.10/site-packages/setuptools/__init__.py\", line 107, in setup\r\n",
      "    return distutils.core.setup(**attrs)\r\n",
      "  File \"/opt/conda/lib/python3.10/site-packages/setuptools/_distutils/core.py\", line 185, in setup\r\n",
      "    return run_commands(dist)\r\n",
      "  File \"/opt/conda/lib/python3.10/site-packages/setuptools/_distutils/core.py\", line 201, in run_commands\r\n",
      "    dist.run_commands()\r\n",
      "  File \"/opt/conda/lib/python3.10/site-packages/setuptools/_distutils/dist.py\", line 969, in run_commands\r\n",
      "    self.run_command(cmd)\r\n",
      "  File \"/opt/conda/lib/python3.10/site-packages/setuptools/dist.py\", line 1233, in run_command\r\n",
      "    super().run_command(command)\r\n",
      "  File \"/opt/conda/lib/python3.10/site-packages/setuptools/_distutils/dist.py\", line 988, in run_command\r\n",
      "    cmd_obj.run()\r\n",
      "  File \"/opt/conda/lib/python3.10/site-packages/setuptools/_distutils/command/build_ext.py\", line 345, in run\r\n",
      "    self.build_extensions()\r\n",
      "  File \"/opt/conda/lib/python3.10/site-packages/setuptools/_distutils/command/build_ext.py\", line 467, in build_extensions\r\n",
      "    self._build_extensions_serial()\r\n",
      "  File \"/opt/conda/lib/python3.10/site-packages/setuptools/_distutils/command/build_ext.py\", line 493, in _build_extensions_serial\r\n",
      "    self.build_extension(ext)\r\n",
      "  File \"/opt/conda/lib/python3.10/site-packages/Cython/Distutils/build_ext.py\", line 122, in build_extension\r\n",
      "    new_ext = cythonize(\r\n",
      "  File \"/opt/conda/lib/python3.10/site-packages/Cython/Build/Dependencies.py\", line 1134, in cythonize\r\n",
      "    cythonize_one(*args)\r\n",
      "  File \"/opt/conda/lib/python3.10/site-packages/Cython/Build/Dependencies.py\", line 1301, in cythonize_one\r\n",
      "    raise CompileError(None, pyx_file)\r\n",
      "Cython.Compiler.Errors.CompileError: SLIM_BPR_Cython_Epoch.pyx\r\n",
      "Traceback (most recent call last):\r\n",
      "  File \"/kaggle/working/Recsys_Challenge_2023/run_compile_all_cython.py\", line 59, in <module>\r\n",
      "    run_compile_subprocess(file_path, [file_name])\r\n",
      "  File \"/kaggle/working/Recsys_Challenge_2023/CythonCompiler/run_compile_subprocess.py\", line 51, in run_compile_subprocess\r\n",
      "    raise exc\r\n",
      "  File \"/kaggle/working/Recsys_Challenge_2023/CythonCompiler/run_compile_subprocess.py\", line 32, in run_compile_subprocess\r\n",
      "    output = subprocess.check_output(' '.join(command),\r\n",
      "  File \"/opt/conda/lib/python3.10/subprocess.py\", line 421, in check_output\r\n",
      "    return run(*popenargs, stdout=PIPE, timeout=timeout, check=True,\r\n",
      "  File \"/opt/conda/lib/python3.10/subprocess.py\", line 526, in run\r\n",
      "    raise CalledProcessError(retcode, process.args,\r\n",
      "subprocess.CalledProcessError: Command '/opt/conda/bin/python /kaggle/working/Recsys_Challenge_2023/CythonCompiler/compile_script.py SLIM_BPR_Cython_Epoch.pyx build_ext --inplace' returned non-zero exit status 1.\r\n",
      "Compiling [4/10]: SLIM_BPR_Cython_Epoch.pyx... FAIL: Command '/opt/conda/bin/python /kaggle/working/Recsys_Challenge_2023/CythonCompiler/compile_script.py SLIM_BPR_Cython_Epoch.pyx build_ext --inplace' returned non-zero exit status 1.\r\n",
      "\r\n",
      "Compiling [5/10]: Sparse_Matrix_Tree_CSR.pyx... \r\n",
      "warning: Sparse_Matrix_Tree_CSR.pyx:132:34: Non-trivial type declarators in shared declaration (e.g. mix of pointers and values). Each pointer declaration should be on its own line.\r\n",
      "warning: Sparse_Matrix_Tree_CSR.pyx:132:66: Non-trivial type declarators in shared declaration (e.g. mix of pointers and values). Each pointer declaration should be on its own line.\r\n",
      "warning: Sparse_Matrix_Tree_CSR.pyx:343:35: Non-trivial type declarators in shared declaration (e.g. mix of pointers and values). Each pointer declaration should be on its own line.\r\n",
      "warning: Sparse_Matrix_Tree_CSR.pyx:343:52: Non-trivial type declarators in shared declaration (e.g. mix of pointers and values). Each pointer declaration should be on its own line.\r\n",
      "warning: Sparse_Matrix_Tree_CSR.pyx:442:35: Non-trivial type declarators in shared declaration (e.g. mix of pointers and values). Each pointer declaration should be on its own line.\r\n",
      "warning: Sparse_Matrix_Tree_CSR.pyx:442:53: Non-trivial type declarators in shared declaration (e.g. mix of pointers and values). Each pointer declaration should be on its own line.\r\n",
      "warning: Sparse_Matrix_Tree_CSR.pyx:442:69: Non-trivial type declarators in shared declaration (e.g. mix of pointers and values). Each pointer declaration should be on its own line.\r\n",
      "warning: Sparse_Matrix_Tree_CSR.pyx:577:35: Non-trivial type declarators in shared declaration (e.g. mix of pointers and values). Each pointer declaration should be on its own line.\r\n",
      "warning: Sparse_Matrix_Tree_CSR.pyx:577:42: Non-trivial type declarators in shared declaration (e.g. mix of pointers and values). Each pointer declaration should be on its own line.\r\n",
      "warning: Sparse_Matrix_Tree_CSR.pyx:578:35: Non-trivial type declarators in shared declaration (e.g. mix of pointers and values). Each pointer declaration should be on its own line.\r\n",
      "warning: Sparse_Matrix_Tree_CSR.pyx:578:53: Non-trivial type declarators in shared declaration (e.g. mix of pointers and values). Each pointer declaration should be on its own line.\r\n",
      "\r\n",
      "Error compiling Cython file:\r\n",
      "------------------------------------------------------------\r\n",
      "...\r\n",
      "            vector_pointer_to_list_elements[index].head = current_element\r\n",
      "            current_element = current_element.higher\r\n",
      "\r\n",
      "\r\n",
      "        # Sort array elements on their data field\r\n",
      "        qsort(vector_pointer_to_list_elements, list_length, sizeof(head_pointer_tree_s), compare_struct_on_data)\r\n",
      "                                                                                         ^\r\n",
      "------------------------------------------------------------\r\n",
      "\r\n",
      "Sparse_Matrix_Tree_CSR.pyx:516:89: Cannot assign type 'int (const void *, const void *) except? -1' to 'int (*)(const_void *, const_void *) noexcept'\r\n",
      "\r\n",
      "Error compiling Cython file:\r\n",
      "------------------------------------------------------------\r\n",
      "...\r\n",
      "        # Sort array elements on their data field\r\n",
      "        qsort(vector_pointer_to_list_elements, list_length, sizeof(head_pointer_tree_s), compare_struct_on_data)\r\n",
      "\r\n",
      "        # Sort only the TopK according to their column field\r\n",
      "        # Sort is from lower to higher, therefore the elements to be considered are from len-topK to len\r\n",
      "        qsort(&vector_pointer_to_list_elements[list_length-TopK], TopK, sizeof(head_pointer_tree_s), compare_struct_on_column)\r\n",
      "                                                                                                     ^\r\n",
      "------------------------------------------------------------\r\n",
      "\r\n",
      "Sparse_Matrix_Tree_CSR.pyx:520:101: Cannot assign type 'int (const void *, const void *) except? -1' to 'int (*)(const_void *, const_void *) noexcept'\r\n",
      "Traceback (most recent call last):\r\n",
      "  File \"/kaggle/working/Recsys_Challenge_2023/CythonCompiler/compile_script.py\", line 48, in <module>\r\n",
      "    setup(\r\n",
      "  File \"/opt/conda/lib/python3.10/site-packages/setuptools/__init__.py\", line 107, in setup\r\n",
      "    return distutils.core.setup(**attrs)\r\n",
      "  File \"/opt/conda/lib/python3.10/site-packages/setuptools/_distutils/core.py\", line 185, in setup\r\n",
      "    return run_commands(dist)\r\n",
      "  File \"/opt/conda/lib/python3.10/site-packages/setuptools/_distutils/core.py\", line 201, in run_commands\r\n",
      "    dist.run_commands()\r\n",
      "  File \"/opt/conda/lib/python3.10/site-packages/setuptools/_distutils/dist.py\", line 969, in run_commands\r\n",
      "    self.run_command(cmd)\r\n",
      "  File \"/opt/conda/lib/python3.10/site-packages/setuptools/dist.py\", line 1233, in run_command\r\n",
      "    super().run_command(command)\r\n",
      "  File \"/opt/conda/lib/python3.10/site-packages/setuptools/_distutils/dist.py\", line 988, in run_command\r\n",
      "    cmd_obj.run()\r\n",
      "  File \"/opt/conda/lib/python3.10/site-packages/setuptools/_distutils/command/build_ext.py\", line 345, in run\r\n",
      "    self.build_extensions()\r\n",
      "  File \"/opt/conda/lib/python3.10/site-packages/setuptools/_distutils/command/build_ext.py\", line 467, in build_extensions\r\n",
      "    self._build_extensions_serial()\r\n",
      "  File \"/opt/conda/lib/python3.10/site-packages/setuptools/_distutils/command/build_ext.py\", line 493, in _build_extensions_serial\r\n",
      "    self.build_extension(ext)\r\n",
      "  File \"/opt/conda/lib/python3.10/site-packages/Cython/Distutils/build_ext.py\", line 122, in build_extension\r\n",
      "    new_ext = cythonize(\r\n",
      "  File \"/opt/conda/lib/python3.10/site-packages/Cython/Build/Dependencies.py\", line 1134, in cythonize\r\n",
      "    cythonize_one(*args)\r\n",
      "  File \"/opt/conda/lib/python3.10/site-packages/Cython/Build/Dependencies.py\", line 1301, in cythonize_one\r\n",
      "    raise CompileError(None, pyx_file)\r\n",
      "Cython.Compiler.Errors.CompileError: Sparse_Matrix_Tree_CSR.pyx\r\n",
      "Traceback (most recent call last):\r\n",
      "  File \"/kaggle/working/Recsys_Challenge_2023/run_compile_all_cython.py\", line 59, in <module>\r\n",
      "    run_compile_subprocess(file_path, [file_name])\r\n",
      "  File \"/kaggle/working/Recsys_Challenge_2023/CythonCompiler/run_compile_subprocess.py\", line 51, in run_compile_subprocess\r\n",
      "    raise exc\r\n",
      "  File \"/kaggle/working/Recsys_Challenge_2023/CythonCompiler/run_compile_subprocess.py\", line 32, in run_compile_subprocess\r\n",
      "    output = subprocess.check_output(' '.join(command),\r\n",
      "  File \"/opt/conda/lib/python3.10/subprocess.py\", line 421, in check_output\r\n",
      "    return run(*popenargs, stdout=PIPE, timeout=timeout, check=True,\r\n",
      "  File \"/opt/conda/lib/python3.10/subprocess.py\", line 526, in run\r\n",
      "    raise CalledProcessError(retcode, process.args,\r\n",
      "subprocess.CalledProcessError: Command '/opt/conda/bin/python /kaggle/working/Recsys_Challenge_2023/CythonCompiler/compile_script.py Sparse_Matrix_Tree_CSR.pyx build_ext --inplace' returned non-zero exit status 1.\r\n",
      "Compiling [5/10]: Sparse_Matrix_Tree_CSR.pyx... FAIL: Command '/opt/conda/bin/python /kaggle/working/Recsys_Challenge_2023/CythonCompiler/compile_script.py Sparse_Matrix_Tree_CSR.pyx build_ext --inplace' returned non-zero exit status 1.\r\n",
      "\r\n",
      "Compiling [6/10]: Triangular_Matrix.pyx... \r\n",
      "warning: Triangular_Matrix.pyx:22:0: The 'IF' statement is deprecated and will be removed in a future Cython version. Consider using runtime conditions or C macros instead. See https://github.com/cython/cython/issues/4310\r\n",
      "warning: Triangular_Matrix.pyx:23:4: The 'DEF' statement is deprecated and will be removed in a future Cython version. Consider using global variables, constants, and in-place literals instead. See https://github.com/cython/cython/issues/4310\r\n",
      "warning: Triangular_Matrix.pyx:25:4: The 'DEF' statement is deprecated and will be removed in a future Cython version. Consider using global variables, constants, and in-place literals instead. See https://github.com/cython/cython/issues/4310\r\n",
      "warning: Triangular_Matrix.pyx:27:4: The 'DEF' statement is deprecated and will be removed in a future Cython version. Consider using global variables, constants, and in-place literals instead. See https://github.com/cython/cython/issues/4310\r\n",
      "In file included from \u001b[01m\u001b[K/opt/conda/lib/python3.10/site-packages/numpy/core/include/numpy/ndarraytypes.h:1940\u001b[m\u001b[K,\r\n",
      "                 from \u001b[01m\u001b[K/opt/conda/lib/python3.10/site-packages/numpy/core/include/numpy/ndarrayobject.h:12\u001b[m\u001b[K,\r\n",
      "                 from \u001b[01m\u001b[K/opt/conda/lib/python3.10/site-packages/numpy/core/include/numpy/arrayobject.h:5\u001b[m\u001b[K,\r\n",
      "                 from \u001b[01m\u001b[KTriangular_Matrix.c:1109\u001b[m\u001b[K:\r\n",
      "\u001b[01m\u001b[K/opt/conda/lib/python3.10/site-packages/numpy/core/include/numpy/npy_1_7_deprecated_api.h:17:2:\u001b[m\u001b[K \u001b[01;35m\u001b[Kwarning: \u001b[m\u001b[K#warning \"Using deprecated NumPy API, disable it with \" \"#define NPY_NO_DEPRECATED_API NPY_1_7_API_VERSION\" [\u001b[01;35m\u001b[K-Wcpp\u001b[m\u001b[K]\r\n",
      "   17 | #\u001b[01;35m\u001b[Kwarning\u001b[m\u001b[K \"Using deprecated NumPy API, disable it with \" \\\r\n",
      "      |  \u001b[01;35m\u001b[K^~~~~~~\u001b[m\u001b[K\r\n",
      "/opt/conda/lib/python3.10/site-packages/Cython/Compiler/Main.py:381: FutureWarning: Cython directive 'language_level' not set, using '3str' for now (Py3). This has changed from earlier releases! File: /kaggle/working/Recsys_Challenge_2023/Recommenders/SLIM/Cython/Triangular_Matrix.pyx\r\n",
      "  tree = Parsing.p_module(s, pxd, full_module_name)\r\n",
      "warning: Triangular_Matrix.pyx:22:0: The 'IF' statement is deprecated and will be removed in a future Cython version. Consider using runtime conditions or C macros instead. See https://github.com/cython/cython/issues/4310\r\n",
      "warning: Triangular_Matrix.pyx:23:4: The 'DEF' statement is deprecated and will be removed in a future Cython version. Consider using global variables, constants, and in-place literals instead. See https://github.com/cython/cython/issues/4310\r\n",
      "warning: Triangular_Matrix.pyx:25:4: The 'DEF' statement is deprecated and will be removed in a future Cython version. Consider using global variables, constants, and in-place literals instead. See https://github.com/cython/cython/issues/4310\r\n",
      "warning: Triangular_Matrix.pyx:27:4: The 'DEF' statement is deprecated and will be removed in a future Cython version. Consider using global variables, constants, and in-place literals instead. See https://github.com/cython/cython/issues/4310\r\n",
      "Compiling [6/10]: Triangular_Matrix.pyx... PASS\r\n",
      "\r\n",
      "Compiling [7/10]: HP3_Similarity_Cython_SGD.pyx... \r\n",
      "warning: HP3_Similarity_Cython_SGD.pyx:113:40: Index should be typed for more efficient access\r\n",
      "In file included from \u001b[01m\u001b[K/opt/conda/lib/python3.10/site-packages/numpy/core/include/numpy/ndarraytypes.h:1940\u001b[m\u001b[K,\r\n",
      "                 from \u001b[01m\u001b[K/opt/conda/lib/python3.10/site-packages/numpy/core/include/numpy/ndarrayobject.h:12\u001b[m\u001b[K,\r\n",
      "                 from \u001b[01m\u001b[K/opt/conda/lib/python3.10/site-packages/numpy/core/include/numpy/arrayobject.h:5\u001b[m\u001b[K,\r\n",
      "                 from \u001b[01m\u001b[KHP3_Similarity_Cython_SGD.c:1109\u001b[m\u001b[K:\r\n",
      "\u001b[01m\u001b[K/opt/conda/lib/python3.10/site-packages/numpy/core/include/numpy/npy_1_7_deprecated_api.h:17:2:\u001b[m\u001b[K \u001b[01;35m\u001b[Kwarning: \u001b[m\u001b[K#warning \"Using deprecated NumPy API, disable it with \" \"#define NPY_NO_DEPRECATED_API NPY_1_7_API_VERSION\" [\u001b[01;35m\u001b[K-Wcpp\u001b[m\u001b[K]\r\n",
      "   17 | #\u001b[01;35m\u001b[Kwarning\u001b[m\u001b[K \"Using deprecated NumPy API, disable it with \" \\\r\n",
      "      |  \u001b[01;35m\u001b[K^~~~~~~\u001b[m\u001b[K\r\n",
      "\u001b[01m\u001b[KHP3_Similarity_Cython_SGD.c:\u001b[m\u001b[K In function ‘\u001b[01m\u001b[K__pyx_pf_25HP3_Similarity_Cython_SGD_25HP3_Similarity_Cython_SGD_4fit\u001b[m\u001b[K’:\r\n",
      "\u001b[01m\u001b[KHP3_Similarity_Cython_SGD.c:23035:55:\u001b[m\u001b[K \u001b[01;35m\u001b[Kwarning: \u001b[m\u001b[K‘\u001b[01m\u001b[K__pyx_v_sample_num\u001b[m\u001b[K’ may be used uninitialized in this function [\u001b[01;35m\u001b[K-Wmaybe-uninitialized\u001b[m\u001b[K]\r\n",
      "23035 |   __pyx_t_1 = PyFloat_FromDouble((__pyx_v_cum_loss / \u001b[01;35m\u001b[K((double)__pyx_v_sample_num)\u001b[m\u001b[K)); if (unlikely(!__pyx_t_1)) __PYX_ERR(0, 291, __pyx_L1_error)\r\n",
      "      |                                                      \u001b[01;35m\u001b[K~^~~~~~~~~~~~~~~~~~~~~~~~~~~\u001b[m\u001b[K\r\n",
      "/opt/conda/lib/python3.10/site-packages/Cython/Compiler/Main.py:381: FutureWarning: Cython directive 'language_level' not set, using '3str' for now (Py3). This has changed from earlier releases! File: /kaggle/working/Recsys_Challenge_2023/Recommenders/FeatureWeighting/Cython/HP3_Similarity_Cython_SGD.pyx\r\n",
      "  tree = Parsing.p_module(s, pxd, full_module_name)\r\n",
      "warning: HP3_Similarity_Cython_SGD.pyx:113:40: Index should be typed for more efficient access\r\n",
      "Compiling [7/10]: HP3_Similarity_Cython_SGD.pyx... PASS\r\n",
      "\r\n",
      "Compiling [8/10]: CFW_D_Similarity_Cython_SGD.pyx... \r\n",
      "In file included from \u001b[01m\u001b[K/opt/conda/lib/python3.10/site-packages/numpy/core/include/numpy/ndarraytypes.h:1940\u001b[m\u001b[K,\r\n",
      "                 from \u001b[01m\u001b[K/opt/conda/lib/python3.10/site-packages/numpy/core/include/numpy/ndarrayobject.h:12\u001b[m\u001b[K,\r\n",
      "                 from \u001b[01m\u001b[K/opt/conda/lib/python3.10/site-packages/numpy/core/include/numpy/arrayobject.h:5\u001b[m\u001b[K,\r\n",
      "                 from \u001b[01m\u001b[KCFW_D_Similarity_Cython_SGD.c:1109\u001b[m\u001b[K:\r\n",
      "\u001b[01m\u001b[K/opt/conda/lib/python3.10/site-packages/numpy/core/include/numpy/npy_1_7_deprecated_api.h:17:2:\u001b[m\u001b[K \u001b[01;35m\u001b[Kwarning: \u001b[m\u001b[K#warning \"Using deprecated NumPy API, disable it with \" \"#define NPY_NO_DEPRECATED_API NPY_1_7_API_VERSION\" [\u001b[01;35m\u001b[K-Wcpp\u001b[m\u001b[K]\r\n",
      "   17 | #\u001b[01;35m\u001b[Kwarning\u001b[m\u001b[K \"Using deprecated NumPy API, disable it with \" \\\r\n",
      "      |  \u001b[01;35m\u001b[K^~~~~~~\u001b[m\u001b[K\r\n",
      "\u001b[01m\u001b[KCFW_D_Similarity_Cython_SGD.c:\u001b[m\u001b[K In function ‘\u001b[01m\u001b[K__pyx_pf_27CFW_D_Similarity_Cython_SGD_27CFW_D_Similarity_Cython_SGD_6fit\u001b[m\u001b[K’:\r\n",
      "\u001b[01m\u001b[KCFW_D_Similarity_Cython_SGD.c:22766:55:\u001b[m\u001b[K \u001b[01;35m\u001b[Kwarning: \u001b[m\u001b[K‘\u001b[01m\u001b[K__pyx_v_sample_num\u001b[m\u001b[K’ may be used uninitialized in this function [\u001b[01;35m\u001b[K-Wmaybe-uninitialized\u001b[m\u001b[K]\r\n",
      "22766 |   __pyx_t_3 = PyFloat_FromDouble((__pyx_v_cum_loss / \u001b[01;35m\u001b[K((double)__pyx_v_sample_num)\u001b[m\u001b[K)); if (unlikely(!__pyx_t_3)) __PYX_ERR(0, 290, __pyx_L1_error)\r\n",
      "      |                                                      \u001b[01;35m\u001b[K~^~~~~~~~~~~~~~~~~~~~~~~~~~~\u001b[m\u001b[K\r\n",
      "/opt/conda/lib/python3.10/site-packages/Cython/Compiler/Main.py:381: FutureWarning: Cython directive 'language_level' not set, using '3str' for now (Py3). This has changed from earlier releases! File: /kaggle/working/Recsys_Challenge_2023/Recommenders/FeatureWeighting/Cython/CFW_D_Similarity_Cython_SGD.pyx\r\n",
      "  tree = Parsing.p_module(s, pxd, full_module_name)\r\n",
      "Compiling [8/10]: CFW_D_Similarity_Cython_SGD.pyx... PASS\r\n",
      "\r\n",
      "Compiling [9/10]: CFW_DVV_Similarity_Cython_SGD.pyx... \r\n",
      "In file included from \u001b[01m\u001b[K/opt/conda/lib/python3.10/site-packages/numpy/core/include/numpy/ndarraytypes.h:1940\u001b[m\u001b[K,\r\n",
      "                 from \u001b[01m\u001b[K/opt/conda/lib/python3.10/site-packages/numpy/core/include/numpy/ndarrayobject.h:12\u001b[m\u001b[K,\r\n",
      "                 from \u001b[01m\u001b[K/opt/conda/lib/python3.10/site-packages/numpy/core/include/numpy/arrayobject.h:5\u001b[m\u001b[K,\r\n",
      "                 from \u001b[01m\u001b[KCFW_DVV_Similarity_Cython_SGD.c:1109\u001b[m\u001b[K:\r\n",
      "\u001b[01m\u001b[K/opt/conda/lib/python3.10/site-packages/numpy/core/include/numpy/npy_1_7_deprecated_api.h:17:2:\u001b[m\u001b[K \u001b[01;35m\u001b[Kwarning: \u001b[m\u001b[K#warning \"Using deprecated NumPy API, disable it with \" \"#define NPY_NO_DEPRECATED_API NPY_1_7_API_VERSION\" [\u001b[01;35m\u001b[K-Wcpp\u001b[m\u001b[K]\r\n",
      "   17 | #\u001b[01;35m\u001b[Kwarning\u001b[m\u001b[K \"Using deprecated NumPy API, disable it with \" \\\r\n",
      "      |  \u001b[01;35m\u001b[K^~~~~~~\u001b[m\u001b[K\r\n",
      "/opt/conda/lib/python3.10/site-packages/Cython/Compiler/Main.py:381: FutureWarning: Cython directive 'language_level' not set, using '3str' for now (Py3). This has changed from earlier releases! File: /kaggle/working/Recsys_Challenge_2023/Recommenders/FeatureWeighting/Cython/CFW_DVV_Similarity_Cython_SGD.pyx\r\n",
      "  tree = Parsing.p_module(s, pxd, full_module_name)\r\n",
      "Compiling [9/10]: CFW_DVV_Similarity_Cython_SGD.pyx... PASS\r\n",
      "\r\n",
      "Compiling [10/10]: FBSM_Rating_Cython_SGD.pyx... \r\n",
      "In file included from \u001b[01m\u001b[K/opt/conda/lib/python3.10/site-packages/numpy/core/include/numpy/ndarraytypes.h:1940\u001b[m\u001b[K,\r\n",
      "                 from \u001b[01m\u001b[K/opt/conda/lib/python3.10/site-packages/numpy/core/include/numpy/ndarrayobject.h:12\u001b[m\u001b[K,\r\n",
      "                 from \u001b[01m\u001b[K/opt/conda/lib/python3.10/site-packages/numpy/core/include/numpy/arrayobject.h:5\u001b[m\u001b[K,\r\n",
      "                 from \u001b[01m\u001b[KFBSM_Rating_Cython_SGD.c:1109\u001b[m\u001b[K:\r\n",
      "\u001b[01m\u001b[K/opt/conda/lib/python3.10/site-packages/numpy/core/include/numpy/npy_1_7_deprecated_api.h:17:2:\u001b[m\u001b[K \u001b[01;35m\u001b[Kwarning: \u001b[m\u001b[K#warning \"Using deprecated NumPy API, disable it with \" \"#define NPY_NO_DEPRECATED_API NPY_1_7_API_VERSION\" [\u001b[01;35m\u001b[K-Wcpp\u001b[m\u001b[K]\r\n",
      "   17 | #\u001b[01;35m\u001b[Kwarning\u001b[m\u001b[K \"Using deprecated NumPy API, disable it with \" \\\r\n",
      "      |  \u001b[01;35m\u001b[K^~~~~~~\u001b[m\u001b[K\r\n",
      "\u001b[01m\u001b[KFBSM_Rating_Cython_SGD.c:\u001b[m\u001b[K In function ‘\u001b[01m\u001b[K__pyx_pf_22FBSM_Rating_Cython_SGD_22FBSM_Rating_Cython_SGD_2fit\u001b[m\u001b[K’:\r\n",
      "\u001b[01m\u001b[KFBSM_Rating_Cython_SGD.c:26038:55:\u001b[m\u001b[K \u001b[01;35m\u001b[Kwarning: \u001b[m\u001b[K‘\u001b[01m\u001b[K__pyx_v_num_sample\u001b[m\u001b[K’ may be used uninitialized in this function [\u001b[01;35m\u001b[K-Wmaybe-uninitialized\u001b[m\u001b[K]\r\n",
      "26038 |   __pyx_t_5 = PyFloat_FromDouble((__pyx_v_cum_loss / \u001b[01;35m\u001b[K((double)__pyx_v_num_sample)\u001b[m\u001b[K)); if (unlikely(!__pyx_t_5)) __PYX_ERR(0, 551, __pyx_L1_error)\r\n",
      "      |                                                      \u001b[01;35m\u001b[K~^~~~~~~~~~~~~~~~~~~~~~~~~~~\u001b[m\u001b[K\r\n",
      "/opt/conda/lib/python3.10/site-packages/Cython/Compiler/Main.py:381: FutureWarning: Cython directive 'language_level' not set, using '3str' for now (Py3). This has changed from earlier releases! File: /kaggle/working/Recsys_Challenge_2023/Recommenders/FeatureWeighting/Cython/FBSM_Rating_Cython_SGD.pyx\r\n",
      "  tree = Parsing.p_module(s, pxd, full_module_name)\r\n",
      "Compiling [10/10]: FBSM_Rating_Cython_SGD.pyx... PASS\r\n",
      "\r\n",
      "run_compile_all_cython: Compilation finished. FAILS 2/10.\r\n",
      "Compilation log can be found here: './result_experiments/run_compile_all_cython.txt'\r\n"
     ]
    }
   ],
   "source": [
    "! cd /kaggle/working/Recsys_Challenge_2023 && python run_compile_all_cython.py"
   ]
  },
  {
   "cell_type": "code",
   "execution_count": 4,
   "id": "a2449bc9",
   "metadata": {
    "execution": {
     "iopub.execute_input": "2023-12-04T17:28:54.544575Z",
     "iopub.status.busy": "2023-12-04T17:28:54.544038Z",
     "iopub.status.idle": "2023-12-04T17:28:58.566084Z",
     "shell.execute_reply": "2023-12-04T17:28:58.564586Z"
    },
    "papermill": {
     "duration": 4.048249,
     "end_time": "2023-12-04T17:28:58.569049",
     "exception": false,
     "start_time": "2023-12-04T17:28:54.520800",
     "status": "completed"
    },
    "tags": []
   },
   "outputs": [
    {
     "name": "stdout",
     "output_type": "stream",
     "text": [
      "/kaggle/input/recommender-system-2023-challenge-polimi/data_train.csv\n",
      "/kaggle/input/recommender-system-2023-challenge-polimi/data_target_users_test.csv\n"
     ]
    }
   ],
   "source": [
    "import numpy as np\n",
    "import pandas as pd\n",
    "import matplotlib.pyplot as plt\n",
    "import seaborn as sns\n",
    "import joblib\n",
    "import json\n",
    "import random\n",
    "import tqdm\n",
    "import gc\n",
    "import time\n",
    "import os\n",
    "import shutil\n",
    "import optuna\n",
    "import scipy.sparse as sps\n",
    "\n",
    "for dirname, _, filenames in os.walk('/kaggle/input'):\n",
    "    for filename in filenames:\n",
    "        print(os.path.join(dirname, filename))"
   ]
  },
  {
   "cell_type": "code",
   "execution_count": 5,
   "id": "2558f703",
   "metadata": {
    "execution": {
     "iopub.execute_input": "2023-12-04T17:28:58.612326Z",
     "iopub.status.busy": "2023-12-04T17:28:58.611617Z",
     "iopub.status.idle": "2023-12-04T17:28:58.619704Z",
     "shell.execute_reply": "2023-12-04T17:28:58.618416Z"
    },
    "papermill": {
     "duration": 0.032897,
     "end_time": "2023-12-04T17:28:58.622261",
     "exception": false,
     "start_time": "2023-12-04T17:28:58.589364",
     "status": "completed"
    },
    "tags": []
   },
   "outputs": [
    {
     "name": "stdout",
     "output_type": "stream",
     "text": [
      "/kaggle/working/Recsys_Challenge_2023\n"
     ]
    }
   ],
   "source": [
    "%cd /kaggle/working/Recsys_Challenge_2023"
   ]
  },
  {
   "cell_type": "code",
   "execution_count": 6,
   "id": "fa8c913b",
   "metadata": {
    "execution": {
     "iopub.execute_input": "2023-12-04T17:28:58.665880Z",
     "iopub.status.busy": "2023-12-04T17:28:58.665434Z",
     "iopub.status.idle": "2023-12-04T17:29:03.239584Z",
     "shell.execute_reply": "2023-12-04T17:29:03.238282Z"
    },
    "papermill": {
     "duration": 4.600582,
     "end_time": "2023-12-04T17:29:03.243230",
     "exception": false,
     "start_time": "2023-12-04T17:28:58.642648",
     "status": "completed"
    },
    "tags": []
   },
   "outputs": [],
   "source": [
    "from Recommenders.KNN.UserKNNCFRecommender import UserKNNCFRecommender\n",
    "from Data_manager.split_functions.split_train_validation_random_holdout import split_train_in_two_percentage_global_sample\n",
    "from Recommenders.SLIM.SLIMElasticNetRecommender import MultiThreadSLIM_SLIMElasticNetRecommender\n",
    "from Evaluation.Evaluator import EvaluatorHoldout\n",
    "from Recommenders.MatrixFactorization.IALSRecommender import IALSRecommender\n",
    "from Recommenders.MatrixFactorization.PureSVDRecommender import PureSVDRecommender, PureSVDItemRecommender, ScaledPureSVDRecommender\n",
    "from Recommenders.KNN.ItemKNNCFRecommender import ItemKNNCFRecommender\n",
    "from Recommenders.KNN.UserKNNCFRecommender import UserKNNCFRecommender\n",
    "from Recommenders.MatrixFactorization.Cython.MatrixFactorization_Cython import MatrixFactorization_BPR_Cython, MatrixFactorization_SVDpp_Cython, MatrixFactorization_AsySVD_Cython, MatrixFactorization_WARP_Cython\n",
    "from Recommenders.MatrixFactorization.PyTorch.MF_MSE_PyTorch import MF_MSE_PyTorch\n",
    "\n",
    "np.int = int\n",
    "np.random.seed(42)\n",
    "np.bool = bool\n",
    "np.float = float"
   ]
  },
  {
   "cell_type": "code",
   "execution_count": 7,
   "id": "dc2dfd01",
   "metadata": {
    "execution": {
     "iopub.execute_input": "2023-12-04T17:29:03.286967Z",
     "iopub.status.busy": "2023-12-04T17:29:03.286313Z",
     "iopub.status.idle": "2023-12-04T17:29:04.196528Z",
     "shell.execute_reply": "2023-12-04T17:29:04.195195Z"
    },
    "papermill": {
     "duration": 0.934492,
     "end_time": "2023-12-04T17:29:04.199138",
     "exception": false,
     "start_time": "2023-12-04T17:29:03.264646",
     "status": "completed"
    },
    "tags": []
   },
   "outputs": [
    {
     "name": "stdout",
     "output_type": "stream",
     "text": [
      "Repository found\n"
     ]
    }
   ],
   "source": [
    "from github import Github\n",
    "from github import Auth\n",
    "\n",
    "auth = Auth.Token(token)\n",
    "g = Github(auth=auth)\n",
    "\n",
    "repo = None\n",
    "for r in g.get_user().get_repos():\n",
    "    if r.name == 'Recsys_Challenge_2023':\n",
    "        repo = r\n",
    "        print('Repository found')"
   ]
  },
  {
   "cell_type": "code",
   "execution_count": 8,
   "id": "8e02d473",
   "metadata": {
    "execution": {
     "iopub.execute_input": "2023-12-04T17:29:04.245075Z",
     "iopub.status.busy": "2023-12-04T17:29:04.243884Z",
     "iopub.status.idle": "2023-12-04T17:29:04.251985Z",
     "shell.execute_reply": "2023-12-04T17:29:04.250961Z"
    },
    "papermill": {
     "duration": 0.033852,
     "end_time": "2023-12-04T17:29:04.254734",
     "exception": false,
     "start_time": "2023-12-04T17:29:04.220882",
     "status": "completed"
    },
    "tags": []
   },
   "outputs": [],
   "source": [
    "def upload_file(filepath_kaggle, filepath_github, commit_message):\n",
    "    try:\n",
    "        contents = repo.get_contents(filepath_github)\n",
    "        with open(filepath_kaggle, \"rb\") as file:\n",
    "            repo.update_file(contents.path, commit_message, file.read(), contents.sha)\n",
    "    except Exception:\n",
    "        with open(filepath_kaggle, \"rb\") as file:\n",
    "            repo.create_file(filepath_github, commit_message, file.read())"
   ]
  },
  {
   "cell_type": "code",
   "execution_count": 9,
   "id": "58c661f2",
   "metadata": {
    "execution": {
     "iopub.execute_input": "2023-12-04T17:29:04.296013Z",
     "iopub.status.busy": "2023-12-04T17:29:04.295496Z",
     "iopub.status.idle": "2023-12-04T17:29:04.301920Z",
     "shell.execute_reply": "2023-12-04T17:29:04.300534Z"
    },
    "papermill": {
     "duration": 0.030459,
     "end_time": "2023-12-04T17:29:04.304832",
     "exception": false,
     "start_time": "2023-12-04T17:29:04.274373",
     "status": "completed"
    },
    "tags": []
   },
   "outputs": [],
   "source": [
    "config = {\n",
    "    'tune_parameters': True,\n",
    "    'database_path': '/kaggle/working/tuning_puresvd_scaled.db',\n",
    "    'copy_prev_best_params': True,\n",
    "    'save_github': True\n",
    "}"
   ]
  },
  {
   "cell_type": "code",
   "execution_count": 10,
   "id": "3c819d68",
   "metadata": {
    "execution": {
     "iopub.execute_input": "2023-12-04T17:29:04.352239Z",
     "iopub.status.busy": "2023-12-04T17:29:04.351795Z",
     "iopub.status.idle": "2023-12-04T17:29:04.358485Z",
     "shell.execute_reply": "2023-12-04T17:29:04.357009Z"
    },
    "papermill": {
     "duration": 0.033297,
     "end_time": "2023-12-04T17:29:04.361380",
     "exception": false,
     "start_time": "2023-12-04T17:29:04.328083",
     "status": "completed"
    },
    "tags": []
   },
   "outputs": [],
   "source": [
    "try:\n",
    "    shutil.copyfile(\n",
    "        '/kaggle/working/Recsys_Challenge_2023/tuning_results/tuning_puresvd_scaled.db', \n",
    "        config['database_path']\n",
    "    )\n",
    "except FileNotFoundError:\n",
    "    pass # if not present optuna will create it"
   ]
  },
  {
   "cell_type": "code",
   "execution_count": 11,
   "id": "38f40e36",
   "metadata": {
    "execution": {
     "iopub.execute_input": "2023-12-04T17:29:04.405877Z",
     "iopub.status.busy": "2023-12-04T17:29:04.405401Z",
     "iopub.status.idle": "2023-12-04T17:29:04.736876Z",
     "shell.execute_reply": "2023-12-04T17:29:04.735360Z"
    },
    "papermill": {
     "duration": 0.357498,
     "end_time": "2023-12-04T17:29:04.740136",
     "exception": false,
     "start_time": "2023-12-04T17:29:04.382638",
     "status": "completed"
    },
    "tags": []
   },
   "outputs": [],
   "source": [
    "train_data = pd.read_csv('/kaggle/input/recommender-system-2023-challenge-polimi/data_train.csv')\n",
    "user_ids_test = pd.read_csv('/kaggle/input/recommender-system-2023-challenge-polimi/data_target_users_test.csv')"
   ]
  },
  {
   "cell_type": "code",
   "execution_count": 12,
   "id": "4ffcedd6",
   "metadata": {
    "execution": {
     "iopub.execute_input": "2023-12-04T17:29:04.783330Z",
     "iopub.status.busy": "2023-12-04T17:29:04.782347Z",
     "iopub.status.idle": "2023-12-04T17:29:04.829223Z",
     "shell.execute_reply": "2023-12-04T17:29:04.827793Z"
    },
    "papermill": {
     "duration": 0.071543,
     "end_time": "2023-12-04T17:29:04.832332",
     "exception": false,
     "start_time": "2023-12-04T17:29:04.760789",
     "status": "completed"
    },
    "tags": []
   },
   "outputs": [
    {
     "data": {
      "text/plain": [
       "<13024x22347 sparse matrix of type '<class 'numpy.float64'>'\n",
       "\twith 478730 stored elements in Compressed Sparse Row format>"
      ]
     },
     "execution_count": 12,
     "metadata": {},
     "output_type": "execute_result"
    }
   ],
   "source": [
    "URM_all = sps.csr_matrix((train_data.data.values,\n",
    "                          ((train_data.row - 1).values, (train_data.col - 1).values)),\n",
    "                        shape=(train_data.row.max(), train_data.col.max()))\n",
    "URM_all"
   ]
  },
  {
   "cell_type": "code",
   "execution_count": 13,
   "id": "4b2c4382",
   "metadata": {
    "execution": {
     "iopub.execute_input": "2023-12-04T17:29:04.877731Z",
     "iopub.status.busy": "2023-12-04T17:29:04.877298Z",
     "iopub.status.idle": "2023-12-04T17:29:06.465219Z",
     "shell.execute_reply": "2023-12-04T17:29:06.463117Z"
    },
    "papermill": {
     "duration": 1.614615,
     "end_time": "2023-12-04T17:29:06.467998",
     "exception": false,
     "start_time": "2023-12-04T17:29:04.853383",
     "status": "completed"
    },
    "tags": []
   },
   "outputs": [
    {
     "name": "stdout",
     "output_type": "stream",
     "text": [
      "Warning: 627 (4.81 %) of 13024 users have no train items\n",
      "Warning: 2568 (19.72 %) of 13024 users have no sampled items\n",
      "Warning: 2953 (22.67 %) of 13024 users have no train items\n",
      "Warning: 6367 (48.89 %) of 13024 users have no sampled items\n"
     ]
    }
   ],
   "source": [
    "URM_train, URM_test_complete = split_train_in_two_percentage_global_sample(URM_all, train_percentage = 0.8)\n",
    "URM_validation, URM_test = split_train_in_two_percentage_global_sample(URM_test_complete, train_percentage = 0.8)"
   ]
  },
  {
   "cell_type": "code",
   "execution_count": 14,
   "id": "cea10716",
   "metadata": {
    "execution": {
     "iopub.execute_input": "2023-12-04T17:29:06.510250Z",
     "iopub.status.busy": "2023-12-04T17:29:06.509714Z",
     "iopub.status.idle": "2023-12-04T17:29:06.530181Z",
     "shell.execute_reply": "2023-12-04T17:29:06.528984Z"
    },
    "papermill": {
     "duration": 0.044773,
     "end_time": "2023-12-04T17:29:06.532766",
     "exception": false,
     "start_time": "2023-12-04T17:29:06.487993",
     "status": "completed"
    },
    "tags": []
   },
   "outputs": [
    {
     "name": "stdout",
     "output_type": "stream",
     "text": [
      "EvaluatorHoldout: Ignoring 2568 (19.7%) Users that have less than 1 test interactions\n"
     ]
    }
   ],
   "source": [
    "evaluator = EvaluatorHoldout(URM_test_complete, cutoff_list=[10])\n",
    "\n",
    "def objective_function_pure_svd_item(trial):\n",
    "    params = {\n",
    "        'num_factors': trial.suggest_int('num_factors', 1, 2000, log=True),\n",
    "        'scaling_items': trial.suggest_float('scaling_items', 1e-2, 1, log=True),\n",
    "        'scaling_users': trial.suggest_float('scaling_users', 1e-2, 1, log=True),\n",
    "    }\n",
    "                          \n",
    "    recommender_instance = ScaledPureSVDRecommender(URM_train)\n",
    "    recommender_instance.fit(**params)       \n",
    "    result_df, _ = evaluator.evaluateRecommender(recommender_instance)\n",
    "    return result_df.loc[10, \"MAP\"]"
   ]
  },
  {
   "cell_type": "code",
   "execution_count": 15,
   "id": "a6a20644",
   "metadata": {
    "_kg_hide-output": true,
    "execution": {
     "iopub.execute_input": "2023-12-04T17:29:06.575981Z",
     "iopub.status.busy": "2023-12-04T17:29:06.575471Z",
     "iopub.status.idle": "2023-12-04T18:41:34.856476Z",
     "shell.execute_reply": "2023-12-04T18:41:34.854577Z"
    },
    "papermill": {
     "duration": 4348.306835,
     "end_time": "2023-12-04T18:41:34.859688",
     "exception": false,
     "start_time": "2023-12-04T17:29:06.552853",
     "status": "completed"
    },
    "scrolled": true,
    "tags": []
   },
   "outputs": [
    {
     "name": "stderr",
     "output_type": "stream",
     "text": [
      "[I 2023-12-04 17:29:07,403] A new study created in RDB with name: hyperparameters_tuning_puresvd_scaled\n"
     ]
    },
    {
     "name": "stdout",
     "output_type": "stream",
     "text": [
      "ScaledPureSVDRecommender: URM Detected 627 ( 4.8%) users with no interactions.\n",
      "ScaledPureSVDRecommender: URM Detected 247 ( 1.1%) items with no interactions.\n",
      "ScaledPureSVDRecommender: Computing SVD decomposition...\n",
      "ScaledPureSVDRecommender: Computing SVD decomposition... done in 9.86 sec\n",
      "EvaluatorHoldout: Processed 10456 (100.0%) in 15.02 sec. Users per second: 696\n"
     ]
    },
    {
     "name": "stderr",
     "output_type": "stream",
     "text": [
      "[I 2023-12-04 17:29:32,541] Trial 0 finished with value: 0.028051722410463983 and parameters: {'num_factors': 290, 'scaling_items': 0.09911837114373374, 'scaling_users': 0.3784975715037821}. Best is trial 0 with value: 0.028051722410463983.\n"
     ]
    },
    {
     "name": "stdout",
     "output_type": "stream",
     "text": [
      "ScaledPureSVDRecommender: URM Detected 627 ( 4.8%) users with no interactions.\n",
      "ScaledPureSVDRecommender: URM Detected 247 ( 1.1%) items with no interactions.\n",
      "ScaledPureSVDRecommender: Computing SVD decomposition...\n",
      "ScaledPureSVDRecommender: Computing SVD decomposition... done in 0.17 sec\n",
      "EvaluatorHoldout: Processed 10456 (100.0%) in 10.83 sec. Users per second: 966\n"
     ]
    },
    {
     "name": "stderr",
     "output_type": "stream",
     "text": [
      "[I 2023-12-04 17:29:43,734] Trial 1 finished with value: 0.011563255243438849 and parameters: {'num_factors': 1, 'scaling_items': 0.07217924669542175, 'scaling_users': 0.018397615855916767}. Best is trial 0 with value: 0.028051722410463983.\n"
     ]
    },
    {
     "name": "stdout",
     "output_type": "stream",
     "text": [
      "ScaledPureSVDRecommender: URM Detected 627 ( 4.8%) users with no interactions.\n",
      "ScaledPureSVDRecommender: URM Detected 247 ( 1.1%) items with no interactions.\n",
      "ScaledPureSVDRecommender: Computing SVD decomposition...\n",
      "ScaledPureSVDRecommender: Computing SVD decomposition... done in 11.52 sec\n",
      "EvaluatorHoldout: Processed 10456 (100.0%) in 15.68 sec. Users per second: 667\n"
     ]
    },
    {
     "name": "stderr",
     "output_type": "stream",
     "text": [
      "[I 2023-12-04 17:30:11,130] Trial 2 finished with value: 0.021002450935742822 and parameters: {'num_factors': 346, 'scaling_items': 0.24178299615947324, 'scaling_users': 0.14562716191554662}. Best is trial 0 with value: 0.028051722410463983.\n"
     ]
    },
    {
     "name": "stdout",
     "output_type": "stream",
     "text": [
      "ScaledPureSVDRecommender: URM Detected 627 ( 4.8%) users with no interactions.\n",
      "ScaledPureSVDRecommender: URM Detected 247 ( 1.1%) items with no interactions.\n",
      "ScaledPureSVDRecommender: Computing SVD decomposition...\n",
      "ScaledPureSVDRecommender: Computing SVD decomposition... done in 0.21 sec\n",
      "EvaluatorHoldout: Processed 10456 (100.0%) in 11.50 sec. Users per second: 909\n"
     ]
    },
    {
     "name": "stderr",
     "output_type": "stream",
     "text": [
      "[I 2023-12-04 17:30:23,047] Trial 3 finished with value: 0.0164111818535116 and parameters: {'num_factors': 3, 'scaling_items': 0.017886987682524037, 'scaling_users': 0.06790274735375214}. Best is trial 0 with value: 0.028051722410463983.\n"
     ]
    },
    {
     "name": "stdout",
     "output_type": "stream",
     "text": [
      "ScaledPureSVDRecommender: URM Detected 627 ( 4.8%) users with no interactions.\n",
      "ScaledPureSVDRecommender: URM Detected 247 ( 1.1%) items with no interactions.\n",
      "ScaledPureSVDRecommender: Computing SVD decomposition...\n",
      "ScaledPureSVDRecommender: Computing SVD decomposition... done in 1.88 sec\n",
      "EvaluatorHoldout: Processed 10456 (100.0%) in 11.54 sec. Users per second: 906\n"
     ]
    },
    {
     "name": "stderr",
     "output_type": "stream",
     "text": [
      "[I 2023-12-04 17:30:36,661] Trial 4 finished with value: 0.017733506849564536 and parameters: {'num_factors': 36, 'scaling_items': 0.9260333070099159, 'scaling_users': 0.8262020510332457}. Best is trial 0 with value: 0.028051722410463983.\n"
     ]
    },
    {
     "name": "stdout",
     "output_type": "stream",
     "text": [
      "ScaledPureSVDRecommender: URM Detected 627 ( 4.8%) users with no interactions.\n",
      "ScaledPureSVDRecommender: URM Detected 247 ( 1.1%) items with no interactions.\n",
      "ScaledPureSVDRecommender: Computing SVD decomposition...\n",
      "ScaledPureSVDRecommender: Computing SVD decomposition... done in 0.14 sec\n",
      "EvaluatorHoldout: Processed 10456 (100.0%) in 10.88 sec. Users per second: 961\n"
     ]
    },
    {
     "name": "stderr",
     "output_type": "stream",
     "text": [
      "[I 2023-12-04 17:30:47,859] Trial 5 finished with value: 0.011574386544977566 and parameters: {'num_factors': 1, 'scaling_items': 0.022522831376865775, 'scaling_users': 0.01183605585132389}. Best is trial 0 with value: 0.028051722410463983.\n"
     ]
    },
    {
     "name": "stdout",
     "output_type": "stream",
     "text": [
      "ScaledPureSVDRecommender: URM Detected 627 ( 4.8%) users with no interactions.\n",
      "ScaledPureSVDRecommender: URM Detected 247 ( 1.1%) items with no interactions.\n",
      "ScaledPureSVDRecommender: Computing SVD decomposition...\n",
      "ScaledPureSVDRecommender: Computing SVD decomposition... done in 0.47 sec\n",
      "EvaluatorHoldout: Processed 10456 (100.0%) in 11.44 sec. Users per second: 914\n"
     ]
    },
    {
     "name": "stderr",
     "output_type": "stream",
     "text": [
      "[I 2023-12-04 17:30:59,951] Trial 6 finished with value: 0.022245426033203418 and parameters: {'num_factors': 9, 'scaling_items': 0.02749449547630996, 'scaling_users': 0.21878067091825468}. Best is trial 0 with value: 0.028051722410463983.\n"
     ]
    },
    {
     "name": "stdout",
     "output_type": "stream",
     "text": [
      "ScaledPureSVDRecommender: URM Detected 627 ( 4.8%) users with no interactions.\n",
      "ScaledPureSVDRecommender: URM Detected 247 ( 1.1%) items with no interactions.\n",
      "ScaledPureSVDRecommender: Computing SVD decomposition...\n",
      "ScaledPureSVDRecommender: Computing SVD decomposition... done in 0.36 sec\n",
      "EvaluatorHoldout: Processed 10456 (100.0%) in 11.68 sec. Users per second: 895\n"
     ]
    },
    {
     "name": "stderr",
     "output_type": "stream",
     "text": [
      "[I 2023-12-04 17:31:12,198] Trial 7 finished with value: 0.019628196311679474 and parameters: {'num_factors': 7, 'scaling_items': 0.118890235281323, 'scaling_users': 0.07696866606512878}. Best is trial 0 with value: 0.028051722410463983.\n"
     ]
    },
    {
     "name": "stdout",
     "output_type": "stream",
     "text": [
      "ScaledPureSVDRecommender: URM Detected 627 ( 4.8%) users with no interactions.\n",
      "ScaledPureSVDRecommender: URM Detected 247 ( 1.1%) items with no interactions.\n",
      "ScaledPureSVDRecommender: Computing SVD decomposition...\n",
      "ScaledPureSVDRecommender: Computing SVD decomposition... done in 13.40 sec\n",
      "EvaluatorHoldout: Processed 10456 (100.0%) in 16.63 sec. Users per second: 629\n"
     ]
    },
    {
     "name": "stderr",
     "output_type": "stream",
     "text": [
      "[I 2023-12-04 17:31:42,429] Trial 8 finished with value: 0.022114408374928594 and parameters: {'num_factors': 397, 'scaling_items': 0.1795330648378654, 'scaling_users': 0.050429095206017495}. Best is trial 0 with value: 0.028051722410463983.\n"
     ]
    },
    {
     "name": "stdout",
     "output_type": "stream",
     "text": [
      "ScaledPureSVDRecommender: URM Detected 627 ( 4.8%) users with no interactions.\n",
      "ScaledPureSVDRecommender: URM Detected 247 ( 1.1%) items with no interactions.\n",
      "ScaledPureSVDRecommender: Computing SVD decomposition...\n",
      "ScaledPureSVDRecommender: Computing SVD decomposition... done in 0.18 sec\n",
      "EvaluatorHoldout: Processed 10456 (100.0%) in 11.31 sec. Users per second: 924\n"
     ]
    },
    {
     "name": "stderr",
     "output_type": "stream",
     "text": [
      "[I 2023-12-04 17:31:54,110] Trial 9 finished with value: 0.010586554693287632 and parameters: {'num_factors': 4, 'scaling_items': 0.9022117658614536, 'scaling_users': 0.17819910754252302}. Best is trial 0 with value: 0.028051722410463983.\n"
     ]
    },
    {
     "name": "stdout",
     "output_type": "stream",
     "text": [
      "ScaledPureSVDRecommender: URM Detected 627 ( 4.8%) users with no interactions.\n",
      "ScaledPureSVDRecommender: URM Detected 247 ( 1.1%) items with no interactions.\n",
      "ScaledPureSVDRecommender: Computing SVD decomposition...\n",
      "ScaledPureSVDRecommender: Computing SVD decomposition... done in 43.24 sec\n",
      "EvaluatorHoldout: Processed 10456 (100.0%) in 31.07 sec. Users per second: 336\n"
     ]
    },
    {
     "name": "stderr",
     "output_type": "stream",
     "text": [
      "[I 2023-12-04 17:33:08,650] Trial 10 finished with value: 0.022675740214473925 and parameters: {'num_factors': 1508, 'scaling_items': 0.06046862802162751, 'scaling_users': 0.7655622050065557}. Best is trial 0 with value: 0.028051722410463983.\n"
     ]
    },
    {
     "name": "stdout",
     "output_type": "stream",
     "text": [
      "ScaledPureSVDRecommender: URM Detected 627 ( 4.8%) users with no interactions.\n",
      "ScaledPureSVDRecommender: URM Detected 247 ( 1.1%) items with no interactions.\n",
      "ScaledPureSVDRecommender: Computing SVD decomposition...\n",
      "ScaledPureSVDRecommender: Computing SVD decomposition... done in 49.26 sec\n",
      "EvaluatorHoldout: Processed 10456 (100.0%) in 28.32 sec. Users per second: 369\n"
     ]
    },
    {
     "name": "stderr",
     "output_type": "stream",
     "text": [
      "[I 2023-12-04 17:34:26,437] Trial 11 finished with value: 0.023982888233079494 and parameters: {'num_factors': 1288, 'scaling_items': 0.05223764122674396, 'scaling_users': 0.8102964983636187}. Best is trial 0 with value: 0.028051722410463983.\n"
     ]
    },
    {
     "name": "stdout",
     "output_type": "stream",
     "text": [
      "ScaledPureSVDRecommender: URM Detected 627 ( 4.8%) users with no interactions.\n",
      "ScaledPureSVDRecommender: URM Detected 247 ( 1.1%) items with no interactions.\n",
      "ScaledPureSVDRecommender: Computing SVD decomposition...\n",
      "ScaledPureSVDRecommender: Computing SVD decomposition... done in 51.67 sec\n",
      "EvaluatorHoldout: Processed 10456 (100.0%) in 35.18 sec. Users per second: 297\n"
     ]
    },
    {
     "name": "stderr",
     "output_type": "stream",
     "text": [
      "[I 2023-12-04 17:35:53,552] Trial 12 finished with value: 0.02273616727996986 and parameters: {'num_factors': 1613, 'scaling_items': 0.0445440790585296, 'scaling_users': 0.41066344867488364}. Best is trial 0 with value: 0.028051722410463983.\n"
     ]
    },
    {
     "name": "stdout",
     "output_type": "stream",
     "text": [
      "ScaledPureSVDRecommender: URM Detected 627 ( 4.8%) users with no interactions.\n",
      "ScaledPureSVDRecommender: URM Detected 247 ( 1.1%) items with no interactions.\n",
      "ScaledPureSVDRecommender: Computing SVD decomposition...\n",
      "ScaledPureSVDRecommender: Computing SVD decomposition... done in 5.76 sec\n",
      "EvaluatorHoldout: Processed 10456 (100.0%) in 13.42 sec. Users per second: 779\n"
     ]
    },
    {
     "name": "stderr",
     "output_type": "stream",
     "text": [
      "[I 2023-12-04 17:36:12,962] Trial 13 finished with value: 0.03216429239382602 and parameters: {'num_factors': 172, 'scaling_items': 0.011986926261636522, 'scaling_users': 0.35919536001377006}. Best is trial 13 with value: 0.03216429239382602.\n"
     ]
    },
    {
     "name": "stdout",
     "output_type": "stream",
     "text": [
      "ScaledPureSVDRecommender: URM Detected 627 ( 4.8%) users with no interactions.\n",
      "ScaledPureSVDRecommender: URM Detected 247 ( 1.1%) items with no interactions.\n",
      "ScaledPureSVDRecommender: Computing SVD decomposition...\n",
      "ScaledPureSVDRecommender: Computing SVD decomposition... done in 3.54 sec\n",
      "EvaluatorHoldout: Processed 10456 (100.0%) in 13.11 sec. Users per second: 798\n"
     ]
    },
    {
     "name": "stderr",
     "output_type": "stream",
     "text": [
      "[I 2023-12-04 17:36:29,853] Trial 14 finished with value: 0.03114601550260525 and parameters: {'num_factors': 110, 'scaling_items': 0.010516755328153635, 'scaling_users': 0.3586408282865677}. Best is trial 13 with value: 0.03216429239382602.\n"
     ]
    },
    {
     "name": "stdout",
     "output_type": "stream",
     "text": [
      "ScaledPureSVDRecommender: URM Detected 627 ( 4.8%) users with no interactions.\n",
      "ScaledPureSVDRecommender: URM Detected 247 ( 1.1%) items with no interactions.\n",
      "ScaledPureSVDRecommender: Computing SVD decomposition...\n",
      "ScaledPureSVDRecommender: Computing SVD decomposition... done in 2.41 sec\n",
      "EvaluatorHoldout: Processed 10456 (100.0%) in 12.25 sec. Users per second: 853\n"
     ]
    },
    {
     "name": "stderr",
     "output_type": "stream",
     "text": [
      "[I 2023-12-04 17:36:44,747] Trial 15 finished with value: 0.02897478549568284 and parameters: {'num_factors': 58, 'scaling_items': 0.011834726195850204, 'scaling_users': 0.36058714668181535}. Best is trial 13 with value: 0.03216429239382602.\n"
     ]
    },
    {
     "name": "stdout",
     "output_type": "stream",
     "text": [
      "ScaledPureSVDRecommender: URM Detected 627 ( 4.8%) users with no interactions.\n",
      "ScaledPureSVDRecommender: URM Detected 247 ( 1.1%) items with no interactions.\n",
      "ScaledPureSVDRecommender: Computing SVD decomposition...\n",
      "ScaledPureSVDRecommender: Computing SVD decomposition... done in 3.49 sec\n",
      "EvaluatorHoldout: Processed 10456 (100.0%) in 13.16 sec. Users per second: 795\n"
     ]
    },
    {
     "name": "stderr",
     "output_type": "stream",
     "text": [
      "[I 2023-12-04 17:37:01,636] Trial 16 finished with value: 0.03113112316464479 and parameters: {'num_factors': 93, 'scaling_items': 0.011094416642145331, 'scaling_users': 0.278779190492716}. Best is trial 13 with value: 0.03216429239382602.\n"
     ]
    },
    {
     "name": "stdout",
     "output_type": "stream",
     "text": [
      "ScaledPureSVDRecommender: URM Detected 627 ( 4.8%) users with no interactions.\n",
      "ScaledPureSVDRecommender: URM Detected 247 ( 1.1%) items with no interactions.\n",
      "ScaledPureSVDRecommender: Computing SVD decomposition...\n",
      "ScaledPureSVDRecommender: Computing SVD decomposition... done in 3.51 sec\n",
      "EvaluatorHoldout: Processed 10456 (100.0%) in 12.18 sec. Users per second: 858\n"
     ]
    },
    {
     "name": "stderr",
     "output_type": "stream",
     "text": [
      "[I 2023-12-04 17:37:17,559] Trial 17 finished with value: 0.031407435997862734 and parameters: {'num_factors': 97, 'scaling_items': 0.010647665437399088, 'scaling_users': 0.11142019127396355}. Best is trial 13 with value: 0.03216429239382602.\n"
     ]
    },
    {
     "name": "stdout",
     "output_type": "stream",
     "text": [
      "ScaledPureSVDRecommender: URM Detected 627 ( 4.8%) users with no interactions.\n",
      "ScaledPureSVDRecommender: URM Detected 247 ( 1.1%) items with no interactions.\n",
      "ScaledPureSVDRecommender: Computing SVD decomposition...\n",
      "ScaledPureSVDRecommender: Computing SVD decomposition... done in 1.36 sec\n",
      "EvaluatorHoldout: Processed 10456 (100.0%) in 11.64 sec. Users per second: 898\n"
     ]
    },
    {
     "name": "stderr",
     "output_type": "stream",
     "text": [
      "[I 2023-12-04 17:37:30,775] Trial 18 finished with value: 0.027878608469656802 and parameters: {'num_factors': 24, 'scaling_items': 0.03023377527574395, 'scaling_users': 0.11565895351198735}. Best is trial 13 with value: 0.03216429239382602.\n"
     ]
    },
    {
     "name": "stdout",
     "output_type": "stream",
     "text": [
      "ScaledPureSVDRecommender: URM Detected 627 ( 4.8%) users with no interactions.\n",
      "ScaledPureSVDRecommender: URM Detected 247 ( 1.1%) items with no interactions.\n",
      "ScaledPureSVDRecommender: Computing SVD decomposition...\n",
      "ScaledPureSVDRecommender: Computing SVD decomposition... done in 5.92 sec\n",
      "EvaluatorHoldout: Processed 10456 (100.0%) in 13.24 sec. Users per second: 790\n"
     ]
    },
    {
     "name": "stderr",
     "output_type": "stream",
     "text": [
      "[I 2023-12-04 17:37:50,154] Trial 19 finished with value: 0.0308921056946117 and parameters: {'num_factors': 175, 'scaling_items': 0.017441237017714953, 'scaling_users': 0.11887729065906487}. Best is trial 13 with value: 0.03216429239382602.\n"
     ]
    },
    {
     "name": "stdout",
     "output_type": "stream",
     "text": [
      "ScaledPureSVDRecommender: URM Detected 627 ( 4.8%) users with no interactions.\n",
      "ScaledPureSVDRecommender: URM Detected 247 ( 1.1%) items with no interactions.\n",
      "ScaledPureSVDRecommender: Computing SVD decomposition...\n",
      "ScaledPureSVDRecommender: Computing SVD decomposition... done in 1.16 sec\n",
      "EvaluatorHoldout: Processed 10456 (100.0%) in 11.88 sec. Users per second: 880\n"
     ]
    },
    {
     "name": "stderr",
     "output_type": "stream",
     "text": [
      "[I 2023-12-04 17:38:03,424] Trial 20 finished with value: 0.02803108794525218 and parameters: {'num_factors': 23, 'scaling_items': 0.03345353343667484, 'scaling_users': 0.04316774492272223}. Best is trial 13 with value: 0.03216429239382602.\n"
     ]
    },
    {
     "name": "stdout",
     "output_type": "stream",
     "text": [
      "ScaledPureSVDRecommender: URM Detected 627 ( 4.8%) users with no interactions.\n",
      "ScaledPureSVDRecommender: URM Detected 247 ( 1.1%) items with no interactions.\n",
      "ScaledPureSVDRecommender: Computing SVD decomposition...\n",
      "ScaledPureSVDRecommender: Computing SVD decomposition... done in 3.57 sec\n",
      "EvaluatorHoldout: Processed 10456 (100.0%) in 12.40 sec. Users per second: 843\n"
     ]
    },
    {
     "name": "stderr",
     "output_type": "stream",
     "text": [
      "[I 2023-12-04 17:38:19,598] Trial 21 finished with value: 0.0298296110078821 and parameters: {'num_factors': 99, 'scaling_items': 0.010377499183821692, 'scaling_users': 0.5114100497596981}. Best is trial 13 with value: 0.03216429239382602.\n"
     ]
    },
    {
     "name": "stdout",
     "output_type": "stream",
     "text": [
      "ScaledPureSVDRecommender: URM Detected 627 ( 4.8%) users with no interactions.\n",
      "ScaledPureSVDRecommender: URM Detected 247 ( 1.1%) items with no interactions.\n",
      "ScaledPureSVDRecommender: Computing SVD decomposition...\n",
      "ScaledPureSVDRecommender: Computing SVD decomposition... done in 5.42 sec\n",
      "EvaluatorHoldout: Processed 10456 (100.0%) in 13.20 sec. Users per second: 792\n"
     ]
    },
    {
     "name": "stderr",
     "output_type": "stream",
     "text": [
      "[I 2023-12-04 17:38:38,444] Trial 22 finished with value: 0.031756973287912806 and parameters: {'num_factors': 158, 'scaling_items': 0.01591023366828904, 'scaling_users': 0.22280858442731177}. Best is trial 13 with value: 0.03216429239382602.\n"
     ]
    },
    {
     "name": "stdout",
     "output_type": "stream",
     "text": [
      "ScaledPureSVDRecommender: URM Detected 627 ( 4.8%) users with no interactions.\n",
      "ScaledPureSVDRecommender: URM Detected 247 ( 1.1%) items with no interactions.\n",
      "ScaledPureSVDRecommender: Computing SVD decomposition...\n",
      "ScaledPureSVDRecommender: Computing SVD decomposition... done in 21.87 sec\n",
      "EvaluatorHoldout: Processed 10456 (100.0%) in 19.40 sec. Users per second: 539\n"
     ]
    },
    {
     "name": "stderr",
     "output_type": "stream",
     "text": [
      "[I 2023-12-04 17:39:19,940] Trial 23 finished with value: 0.028434365170450008 and parameters: {'num_factors': 607, 'scaling_items': 0.017769326572683132, 'scaling_users': 0.21250305803568645}. Best is trial 13 with value: 0.03216429239382602.\n"
     ]
    },
    {
     "name": "stdout",
     "output_type": "stream",
     "text": [
      "ScaledPureSVDRecommender: URM Detected 627 ( 4.8%) users with no interactions.\n",
      "ScaledPureSVDRecommender: URM Detected 247 ( 1.1%) items with no interactions.\n",
      "ScaledPureSVDRecommender: Computing SVD decomposition...\n",
      "ScaledPureSVDRecommender: Computing SVD decomposition... done in 6.46 sec\n",
      "EvaluatorHoldout: Processed 10456 (100.0%) in 13.66 sec. Users per second: 765\n"
     ]
    },
    {
     "name": "stderr",
     "output_type": "stream",
     "text": [
      "[I 2023-12-04 17:39:40,286] Trial 24 finished with value: 0.031058236480004157 and parameters: {'num_factors': 192, 'scaling_items': 0.014671145337201437, 'scaling_users': 0.15297317334720575}. Best is trial 13 with value: 0.03216429239382602.\n"
     ]
    },
    {
     "name": "stdout",
     "output_type": "stream",
     "text": [
      "ScaledPureSVDRecommender: URM Detected 627 ( 4.8%) users with no interactions.\n",
      "ScaledPureSVDRecommender: URM Detected 247 ( 1.1%) items with no interactions.\n",
      "ScaledPureSVDRecommender: Computing SVD decomposition...\n",
      "ScaledPureSVDRecommender: Computing SVD decomposition... done in 2.16 sec\n",
      "EvaluatorHoldout: Processed 10456 (100.0%) in 11.94 sec. Users per second: 876\n"
     ]
    },
    {
     "name": "stderr",
     "output_type": "stream",
     "text": [
      "[I 2023-12-04 17:39:54,609] Trial 25 finished with value: 0.029592863063358715 and parameters: {'num_factors': 49, 'scaling_items': 0.02190558614115241, 'scaling_users': 0.2303653602180532}. Best is trial 13 with value: 0.03216429239382602.\n"
     ]
    },
    {
     "name": "stdout",
     "output_type": "stream",
     "text": [
      "ScaledPureSVDRecommender: URM Detected 627 ( 4.8%) users with no interactions.\n",
      "ScaledPureSVDRecommender: URM Detected 247 ( 1.1%) items with no interactions.\n",
      "ScaledPureSVDRecommender: Computing SVD decomposition...\n",
      "ScaledPureSVDRecommender: Computing SVD decomposition... done in 23.37 sec\n",
      "EvaluatorHoldout: Processed 10456 (100.0%) in 20.26 sec. Users per second: 516\n"
     ]
    },
    {
     "name": "stderr",
     "output_type": "stream",
     "text": [
      "[I 2023-12-04 17:40:38,476] Trial 26 finished with value: 0.029627304441287052 and parameters: {'num_factors': 656, 'scaling_items': 0.0138786769140176, 'scaling_users': 0.5309824314878822}. Best is trial 13 with value: 0.03216429239382602.\n"
     ]
    },
    {
     "name": "stdout",
     "output_type": "stream",
     "text": [
      "ScaledPureSVDRecommender: URM Detected 627 ( 4.8%) users with no interactions.\n",
      "ScaledPureSVDRecommender: URM Detected 247 ( 1.1%) items with no interactions.\n",
      "ScaledPureSVDRecommender: Computing SVD decomposition...\n",
      "ScaledPureSVDRecommender: Computing SVD decomposition... done in 5.70 sec\n",
      "EvaluatorHoldout: Processed 10456 (100.0%) in 12.93 sec. Users per second: 808\n"
     ]
    },
    {
     "name": "stderr",
     "output_type": "stream",
     "text": [
      "[I 2023-12-04 17:40:57,328] Trial 27 finished with value: 0.03201985493253694 and parameters: {'num_factors': 170, 'scaling_items': 0.01447822586183707, 'scaling_users': 0.2864429030517428}. Best is trial 13 with value: 0.03216429239382602.\n"
     ]
    },
    {
     "name": "stdout",
     "output_type": "stream",
     "text": [
      "ScaledPureSVDRecommender: URM Detected 627 ( 4.8%) users with no interactions.\n",
      "ScaledPureSVDRecommender: URM Detected 247 ( 1.1%) items with no interactions.\n",
      "ScaledPureSVDRecommender: Computing SVD decomposition...\n",
      "ScaledPureSVDRecommender: Computing SVD decomposition... done in 6.61 sec\n",
      "EvaluatorHoldout: Processed 10456 (100.0%) in 13.36 sec. Users per second: 783\n"
     ]
    },
    {
     "name": "stderr",
     "output_type": "stream",
     "text": [
      "[I 2023-12-04 17:41:17,509] Trial 28 finished with value: 0.03146990487727891 and parameters: {'num_factors': 195, 'scaling_items': 0.022878603740856186, 'scaling_users': 0.26878170527811956}. Best is trial 13 with value: 0.03216429239382602.\n"
     ]
    },
    {
     "name": "stdout",
     "output_type": "stream",
     "text": [
      "ScaledPureSVDRecommender: URM Detected 627 ( 4.8%) users with no interactions.\n",
      "ScaledPureSVDRecommender: URM Detected 247 ( 1.1%) items with no interactions.\n",
      "ScaledPureSVDRecommender: Computing SVD decomposition...\n",
      "ScaledPureSVDRecommender: Computing SVD decomposition... done in 9.67 sec\n",
      "EvaluatorHoldout: Processed 10456 (100.0%) in 14.42 sec. Users per second: 725\n"
     ]
    },
    {
     "name": "stderr",
     "output_type": "stream",
     "text": [
      "[I 2023-12-04 17:41:41,800] Trial 29 finished with value: 0.030767741009946756 and parameters: {'num_factors': 274, 'scaling_items': 0.0372903146254398, 'scaling_users': 0.5827178850122174}. Best is trial 13 with value: 0.03216429239382602.\n"
     ]
    },
    {
     "name": "stdout",
     "output_type": "stream",
     "text": [
      "ScaledPureSVDRecommender: URM Detected 627 ( 4.8%) users with no interactions.\n",
      "ScaledPureSVDRecommender: URM Detected 247 ( 1.1%) items with no interactions.\n",
      "ScaledPureSVDRecommender: Computing SVD decomposition...\n",
      "ScaledPureSVDRecommender: Computing SVD decomposition... done in 21.78 sec\n",
      "EvaluatorHoldout: Processed 10456 (100.0%) in 19.37 sec. Users per second: 540\n"
     ]
    },
    {
     "name": "stderr",
     "output_type": "stream",
     "text": [
      "[I 2023-12-04 17:42:23,158] Trial 30 finished with value: 0.02900642602105899 and parameters: {'num_factors': 618, 'scaling_items': 0.014857816822497441, 'scaling_users': 0.31766694459009515}. Best is trial 13 with value: 0.03216429239382602.\n"
     ]
    },
    {
     "name": "stdout",
     "output_type": "stream",
     "text": [
      "ScaledPureSVDRecommender: URM Detected 627 ( 4.8%) users with no interactions.\n",
      "ScaledPureSVDRecommender: URM Detected 247 ( 1.1%) items with no interactions.\n",
      "ScaledPureSVDRecommender: Computing SVD decomposition...\n",
      "ScaledPureSVDRecommender: Computing SVD decomposition... done in 6.21 sec\n",
      "EvaluatorHoldout: Processed 10456 (100.0%) in 13.37 sec. Users per second: 782\n"
     ]
    },
    {
     "name": "stderr",
     "output_type": "stream",
     "text": [
      "[I 2023-12-04 17:42:42,952] Trial 31 finished with value: 0.03186385731288201 and parameters: {'num_factors': 184, 'scaling_items': 0.021792792402572515, 'scaling_users': 0.2640279356688288}. Best is trial 13 with value: 0.03216429239382602.\n"
     ]
    },
    {
     "name": "stdout",
     "output_type": "stream",
     "text": [
      "ScaledPureSVDRecommender: URM Detected 627 ( 4.8%) users with no interactions.\n",
      "ScaledPureSVDRecommender: URM Detected 247 ( 1.1%) items with no interactions.\n",
      "ScaledPureSVDRecommender: Computing SVD decomposition...\n",
      "ScaledPureSVDRecommender: Computing SVD decomposition... done in 5.44 sec\n",
      "EvaluatorHoldout: Processed 10456 (100.0%) in 12.65 sec. Users per second: 826\n"
     ]
    },
    {
     "name": "stderr",
     "output_type": "stream",
     "text": [
      "[I 2023-12-04 17:43:01,275] Trial 32 finished with value: 0.031395815116406475 and parameters: {'num_factors': 147, 'scaling_items': 0.026209526854958972, 'scaling_users': 0.18454674982107894}. Best is trial 13 with value: 0.03216429239382602.\n"
     ]
    },
    {
     "name": "stdout",
     "output_type": "stream",
     "text": [
      "ScaledPureSVDRecommender: URM Detected 627 ( 4.8%) users with no interactions.\n",
      "ScaledPureSVDRecommender: URM Detected 247 ( 1.1%) items with no interactions.\n",
      "ScaledPureSVDRecommender: Computing SVD decomposition...\n",
      "ScaledPureSVDRecommender: Computing SVD decomposition... done in 9.70 sec\n",
      "EvaluatorHoldout: Processed 10456 (100.0%) in 14.52 sec. Users per second: 720\n"
     ]
    },
    {
     "name": "stderr",
     "output_type": "stream",
     "text": [
      "[I 2023-12-04 17:43:25,720] Trial 33 finished with value: 0.031045021617420492 and parameters: {'num_factors': 294, 'scaling_items': 0.01914167380803529, 'scaling_users': 0.28463749577060926}. Best is trial 13 with value: 0.03216429239382602.\n"
     ]
    },
    {
     "name": "stdout",
     "output_type": "stream",
     "text": [
      "ScaledPureSVDRecommender: URM Detected 627 ( 4.8%) users with no interactions.\n",
      "ScaledPureSVDRecommender: URM Detected 247 ( 1.1%) items with no interactions.\n",
      "ScaledPureSVDRecommender: Computing SVD decomposition...\n",
      "ScaledPureSVDRecommender: Computing SVD decomposition... done in 2.56 sec\n",
      "EvaluatorHoldout: Processed 10456 (100.0%) in 11.83 sec. Users per second: 884\n"
     ]
    },
    {
     "name": "stderr",
     "output_type": "stream",
     "text": [
      "[I 2023-12-04 17:43:40,313] Trial 34 finished with value: 0.02902674548523837 and parameters: {'num_factors': 64, 'scaling_items': 0.014610595495143089, 'scaling_users': 0.3785358850716327}. Best is trial 13 with value: 0.03216429239382602.\n"
     ]
    },
    {
     "name": "stdout",
     "output_type": "stream",
     "text": [
      "ScaledPureSVDRecommender: URM Detected 627 ( 4.8%) users with no interactions.\n",
      "ScaledPureSVDRecommender: URM Detected 247 ( 1.1%) items with no interactions.\n",
      "ScaledPureSVDRecommender: Computing SVD decomposition...\n",
      "ScaledPureSVDRecommender: Computing SVD decomposition... done in 12.73 sec\n",
      "EvaluatorHoldout: Processed 10456 (100.0%) in 15.94 sec. Users per second: 656\n"
     ]
    },
    {
     "name": "stderr",
     "output_type": "stream",
     "text": [
      "[I 2023-12-04 17:44:09,197] Trial 35 finished with value: 0.02796886575339154 and parameters: {'num_factors': 391, 'scaling_items': 0.039262658066332876, 'scaling_users': 0.14937760523912086}. Best is trial 13 with value: 0.03216429239382602.\n"
     ]
    },
    {
     "name": "stdout",
     "output_type": "stream",
     "text": [
      "ScaledPureSVDRecommender: URM Detected 627 ( 4.8%) users with no interactions.\n",
      "ScaledPureSVDRecommender: URM Detected 247 ( 1.1%) items with no interactions.\n",
      "ScaledPureSVDRecommender: Computing SVD decomposition...\n",
      "ScaledPureSVDRecommender: Computing SVD decomposition... done in 4.54 sec\n",
      "EvaluatorHoldout: Processed 10456 (100.0%) in 12.68 sec. Users per second: 825\n"
     ]
    },
    {
     "name": "stderr",
     "output_type": "stream",
     "text": [
      "[I 2023-12-04 17:44:26,635] Trial 36 finished with value: 0.031057189006691976 and parameters: {'num_factors': 136, 'scaling_items': 0.02842894080605645, 'scaling_users': 0.44234883467645963}. Best is trial 13 with value: 0.03216429239382602.\n"
     ]
    },
    {
     "name": "stdout",
     "output_type": "stream",
     "text": [
      "ScaledPureSVDRecommender: URM Detected 627 ( 4.8%) users with no interactions.\n",
      "ScaledPureSVDRecommender: URM Detected 247 ( 1.1%) items with no interactions.\n",
      "ScaledPureSVDRecommender: Computing SVD decomposition...\n",
      "ScaledPureSVDRecommender: Computing SVD decomposition... done in 8.36 sec\n",
      "EvaluatorHoldout: Processed 10456 (100.0%) in 14.22 sec. Users per second: 735\n"
     ]
    },
    {
     "name": "stderr",
     "output_type": "stream",
     "text": [
      "[I 2023-12-04 17:44:49,437] Trial 37 finished with value: 0.031483449921667496 and parameters: {'num_factors': 228, 'scaling_items': 0.020483941687739458, 'scaling_users': 0.25070332960148844}. Best is trial 13 with value: 0.03216429239382602.\n"
     ]
    },
    {
     "name": "stdout",
     "output_type": "stream",
     "text": [
      "ScaledPureSVDRecommender: URM Detected 627 ( 4.8%) users with no interactions.\n",
      "ScaledPureSVDRecommender: URM Detected 247 ( 1.1%) items with no interactions.\n",
      "ScaledPureSVDRecommender: Computing SVD decomposition...\n",
      "ScaledPureSVDRecommender: Computing SVD decomposition... done in 3.12 sec\n",
      "EvaluatorHoldout: Processed 10456 (100.0%) in 11.90 sec. Users per second: 879\n"
     ]
    },
    {
     "name": "stderr",
     "output_type": "stream",
     "text": [
      "[I 2023-12-04 17:45:04,655] Trial 38 finished with value: 0.026783103192820196 and parameters: {'num_factors': 74, 'scaling_items': 0.01336374003727551, 'scaling_users': 0.6166921963601751}. Best is trial 13 with value: 0.03216429239382602.\n"
     ]
    },
    {
     "name": "stdout",
     "output_type": "stream",
     "text": [
      "ScaledPureSVDRecommender: URM Detected 627 ( 4.8%) users with no interactions.\n",
      "ScaledPureSVDRecommender: URM Detected 247 ( 1.1%) items with no interactions.\n",
      "ScaledPureSVDRecommender: Computing SVD decomposition...\n",
      "ScaledPureSVDRecommender: Computing SVD decomposition... done in 1.95 sec\n",
      "EvaluatorHoldout: Processed 10456 (100.0%) in 11.80 sec. Users per second: 886\n"
     ]
    },
    {
     "name": "stderr",
     "output_type": "stream",
     "text": [
      "[I 2023-12-04 17:45:18,614] Trial 39 finished with value: 0.027972072691611886 and parameters: {'num_factors': 41, 'scaling_items': 0.017368929826491675, 'scaling_users': 0.3211323894633329}. Best is trial 13 with value: 0.03216429239382602.\n"
     ]
    },
    {
     "name": "stdout",
     "output_type": "stream",
     "text": [
      "ScaledPureSVDRecommender: URM Detected 627 ( 4.8%) users with no interactions.\n",
      "ScaledPureSVDRecommender: URM Detected 247 ( 1.1%) items with no interactions.\n",
      "ScaledPureSVDRecommender: Computing SVD decomposition...\n",
      "ScaledPureSVDRecommender: Computing SVD decomposition... done in 5.52 sec\n",
      "EvaluatorHoldout: Processed 10456 (100.0%) in 12.61 sec. Users per second: 829\n"
     ]
    },
    {
     "name": "stderr",
     "output_type": "stream",
     "text": [
      "[I 2023-12-04 17:45:36,959] Trial 40 finished with value: 0.03116345061998317 and parameters: {'num_factors': 143, 'scaling_items': 0.02458043873695481, 'scaling_users': 0.18702009036369513}. Best is trial 13 with value: 0.03216429239382602.\n"
     ]
    },
    {
     "name": "stdout",
     "output_type": "stream",
     "text": [
      "ScaledPureSVDRecommender: URM Detected 627 ( 4.8%) users with no interactions.\n",
      "ScaledPureSVDRecommender: URM Detected 247 ( 1.1%) items with no interactions.\n",
      "ScaledPureSVDRecommender: Computing SVD decomposition...\n",
      "ScaledPureSVDRecommender: Computing SVD decomposition... done in 8.18 sec\n",
      "EvaluatorHoldout: Processed 10456 (100.0%) in 14.30 sec. Users per second: 731\n"
     ]
    },
    {
     "name": "stderr",
     "output_type": "stream",
     "text": [
      "[I 2023-12-04 17:45:59,690] Trial 41 finished with value: 0.031171959443048004 and parameters: {'num_factors': 236, 'scaling_items': 0.020536622757240462, 'scaling_users': 0.23733965549129307}. Best is trial 13 with value: 0.03216429239382602.\n"
     ]
    },
    {
     "name": "stdout",
     "output_type": "stream",
     "text": [
      "ScaledPureSVDRecommender: URM Detected 627 ( 4.8%) users with no interactions.\n",
      "ScaledPureSVDRecommender: URM Detected 247 ( 1.1%) items with no interactions.\n",
      "ScaledPureSVDRecommender: Computing SVD decomposition...\n",
      "ScaledPureSVDRecommender: Computing SVD decomposition... done in 11.41 sec\n",
      "EvaluatorHoldout: Processed 10456 (100.0%) in 15.83 sec. Users per second: 660\n"
     ]
    },
    {
     "name": "stderr",
     "output_type": "stream",
     "text": [
      "[I 2023-12-04 17:46:27,144] Trial 42 finished with value: 0.030477784457318014 and parameters: {'num_factors': 362, 'scaling_items': 0.01579569124100464, 'scaling_users': 0.27085730425573307}. Best is trial 13 with value: 0.03216429239382602.\n"
     ]
    },
    {
     "name": "stdout",
     "output_type": "stream",
     "text": [
      "ScaledPureSVDRecommender: URM Detected 627 ( 4.8%) users with no interactions.\n",
      "ScaledPureSVDRecommender: URM Detected 247 ( 1.1%) items with no interactions.\n",
      "ScaledPureSVDRecommender: Computing SVD decomposition...\n",
      "ScaledPureSVDRecommender: Computing SVD decomposition... done in 7.49 sec\n",
      "EvaluatorHoldout: Processed 10456 (100.0%) in 13.67 sec. Users per second: 765\n"
     ]
    },
    {
     "name": "stderr",
     "output_type": "stream",
     "text": [
      "[I 2023-12-04 17:46:48,511] Trial 43 finished with value: 0.031541402521222985 and parameters: {'num_factors': 225, 'scaling_items': 0.021646453374556063, 'scaling_users': 0.41426910588912935}. Best is trial 13 with value: 0.03216429239382602.\n"
     ]
    },
    {
     "name": "stdout",
     "output_type": "stream",
     "text": [
      "ScaledPureSVDRecommender: URM Detected 627 ( 4.8%) users with no interactions.\n",
      "ScaledPureSVDRecommender: URM Detected 247 ( 1.1%) items with no interactions.\n",
      "ScaledPureSVDRecommender: Computing SVD decomposition...\n",
      "ScaledPureSVDRecommender: Computing SVD decomposition... done in 5.63 sec\n",
      "EvaluatorHoldout: Processed 10456 (100.0%) in 13.13 sec. Users per second: 796\n"
     ]
    },
    {
     "name": "stderr",
     "output_type": "stream",
     "text": [
      "[I 2023-12-04 17:47:07,491] Trial 44 finished with value: 0.03141408897147258 and parameters: {'num_factors': 145, 'scaling_items': 0.012887589515073652, 'scaling_users': 0.4332111028824401}. Best is trial 13 with value: 0.03216429239382602.\n"
     ]
    },
    {
     "name": "stdout",
     "output_type": "stream",
     "text": [
      "ScaledPureSVDRecommender: URM Detected 627 ( 4.8%) users with no interactions.\n",
      "ScaledPureSVDRecommender: URM Detected 247 ( 1.1%) items with no interactions.\n",
      "ScaledPureSVDRecommender: Computing SVD decomposition...\n",
      "ScaledPureSVDRecommender: Computing SVD decomposition... done in 17.46 sec\n",
      "EvaluatorHoldout: Processed 10456 (100.0%) in 17.76 sec. Users per second: 589\n"
     ]
    },
    {
     "name": "stderr",
     "output_type": "stream",
     "text": [
      "[I 2023-12-04 17:47:42,939] Trial 45 finished with value: 0.030330477829999893 and parameters: {'num_factors': 498, 'scaling_items': 0.02789339760795372, 'scaling_users': 0.9606278377881233}. Best is trial 13 with value: 0.03216429239382602.\n"
     ]
    },
    {
     "name": "stdout",
     "output_type": "stream",
     "text": [
      "ScaledPureSVDRecommender: URM Detected 627 ( 4.8%) users with no interactions.\n",
      "ScaledPureSVDRecommender: URM Detected 247 ( 1.1%) items with no interactions.\n",
      "ScaledPureSVDRecommender: Computing SVD decomposition...\n",
      "ScaledPureSVDRecommender: Computing SVD decomposition... done in 29.60 sec\n",
      "EvaluatorHoldout: Processed 10456 (100.0%) in 22.72 sec. Users per second: 460\n"
     ]
    },
    {
     "name": "stderr",
     "output_type": "stream",
     "text": [
      "[I 2023-12-04 17:48:35,497] Trial 46 finished with value: 0.02740861174870366 and parameters: {'num_factors': 836, 'scaling_items': 0.0343284267755288, 'scaling_users': 0.6727392427308986}. Best is trial 13 with value: 0.03216429239382602.\n"
     ]
    },
    {
     "name": "stdout",
     "output_type": "stream",
     "text": [
      "ScaledPureSVDRecommender: URM Detected 627 ( 4.8%) users with no interactions.\n",
      "ScaledPureSVDRecommender: URM Detected 247 ( 1.1%) items with no interactions.\n",
      "ScaledPureSVDRecommender: Computing SVD decomposition...\n",
      "ScaledPureSVDRecommender: Computing SVD decomposition... done in 10.81 sec\n",
      "EvaluatorHoldout: Processed 10456 (100.0%) in 15.71 sec. Users per second: 665\n"
     ]
    },
    {
     "name": "stderr",
     "output_type": "stream",
     "text": [
      "[I 2023-12-04 17:49:02,252] Trial 47 finished with value: 0.029748040921290887 and parameters: {'num_factors': 311, 'scaling_items': 0.05759537146463876, 'scaling_users': 0.4808900081919164}. Best is trial 13 with value: 0.03216429239382602.\n"
     ]
    },
    {
     "name": "stdout",
     "output_type": "stream",
     "text": [
      "ScaledPureSVDRecommender: URM Detected 627 ( 4.8%) users with no interactions.\n",
      "ScaledPureSVDRecommender: URM Detected 247 ( 1.1%) items with no interactions.\n",
      "ScaledPureSVDRecommender: Computing SVD decomposition...\n",
      "ScaledPureSVDRecommender: Computing SVD decomposition... done in 34.16 sec\n",
      "EvaluatorHoldout: Processed 10456 (100.0%) in 23.14 sec. Users per second: 452\n"
     ]
    },
    {
     "name": "stderr",
     "output_type": "stream",
     "text": [
      "[I 2023-12-04 17:49:59,765] Trial 48 finished with value: 0.027247953631848093 and parameters: {'num_factors': 925, 'scaling_items': 0.010095440720526691, 'scaling_users': 0.3618549341598366}. Best is trial 13 with value: 0.03216429239382602.\n"
     ]
    },
    {
     "name": "stdout",
     "output_type": "stream",
     "text": [
      "ScaledPureSVDRecommender: URM Detected 627 ( 4.8%) users with no interactions.\n",
      "ScaledPureSVDRecommender: URM Detected 247 ( 1.1%) items with no interactions.\n",
      "ScaledPureSVDRecommender: Computing SVD decomposition...\n",
      "ScaledPureSVDRecommender: Computing SVD decomposition... done in 2.67 sec\n",
      "EvaluatorHoldout: Processed 10456 (100.0%) in 12.54 sec. Users per second: 834\n"
     ]
    },
    {
     "name": "stderr",
     "output_type": "stream",
     "text": [
      "[I 2023-12-04 17:50:15,190] Trial 49 finished with value: 0.028533666399485198 and parameters: {'num_factors': 70, 'scaling_items': 0.044269261644126756, 'scaling_users': 0.45218845813580627}. Best is trial 13 with value: 0.03216429239382602.\n"
     ]
    },
    {
     "name": "stdout",
     "output_type": "stream",
     "text": [
      "ScaledPureSVDRecommender: URM Detected 627 ( 4.8%) users with no interactions.\n",
      "ScaledPureSVDRecommender: URM Detected 247 ( 1.1%) items with no interactions.\n",
      "ScaledPureSVDRecommender: Computing SVD decomposition...\n",
      "ScaledPureSVDRecommender: Computing SVD decomposition... done in 13.74 sec\n",
      "EvaluatorHoldout: Processed 10456 (100.0%) in 17.43 sec. Users per second: 600\n"
     ]
    },
    {
     "name": "stderr",
     "output_type": "stream",
     "text": [
      "[I 2023-12-04 17:50:46,586] Trial 50 finished with value: 0.030343715463742458 and parameters: {'num_factors': 434, 'scaling_items': 0.012659434829116396, 'scaling_users': 0.32167241872691876}. Best is trial 13 with value: 0.03216429239382602.\n"
     ]
    },
    {
     "name": "stdout",
     "output_type": "stream",
     "text": [
      "ScaledPureSVDRecommender: URM Detected 627 ( 4.8%) users with no interactions.\n",
      "ScaledPureSVDRecommender: URM Detected 247 ( 1.1%) items with no interactions.\n",
      "ScaledPureSVDRecommender: Computing SVD decomposition...\n",
      "ScaledPureSVDRecommender: Computing SVD decomposition... done in 6.24 sec\n",
      "EvaluatorHoldout: Processed 10456 (100.0%) in 13.13 sec. Users per second: 796\n"
     ]
    },
    {
     "name": "stderr",
     "output_type": "stream",
     "text": [
      "[I 2023-12-04 17:51:06,175] Trial 51 finished with value: 0.03119170962825355 and parameters: {'num_factors': 189, 'scaling_items': 0.02057784422833515, 'scaling_users': 0.23194303732921756}. Best is trial 13 with value: 0.03216429239382602.\n"
     ]
    },
    {
     "name": "stdout",
     "output_type": "stream",
     "text": [
      "ScaledPureSVDRecommender: URM Detected 627 ( 4.8%) users with no interactions.\n",
      "ScaledPureSVDRecommender: URM Detected 247 ( 1.1%) items with no interactions.\n",
      "ScaledPureSVDRecommender: Computing SVD decomposition...\n",
      "ScaledPureSVDRecommender: Computing SVD decomposition... done in 9.12 sec\n",
      "EvaluatorHoldout: Processed 10456 (100.0%) in 13.98 sec. Users per second: 748\n"
     ]
    },
    {
     "name": "stderr",
     "output_type": "stream",
     "text": [
      "[I 2023-12-04 17:51:29,480] Trial 52 finished with value: 0.031882825688296534 and parameters: {'num_factors': 253, 'scaling_items': 0.01799908771797379, 'scaling_users': 0.3926604490319101}. Best is trial 13 with value: 0.03216429239382602.\n"
     ]
    },
    {
     "name": "stdout",
     "output_type": "stream",
     "text": [
      "ScaledPureSVDRecommender: URM Detected 627 ( 4.8%) users with no interactions.\n",
      "ScaledPureSVDRecommender: URM Detected 247 ( 1.1%) items with no interactions.\n",
      "ScaledPureSVDRecommender: Computing SVD decomposition...\n",
      "ScaledPureSVDRecommender: Computing SVD decomposition... done in 9.00 sec\n",
      "EvaluatorHoldout: Processed 10456 (100.0%) in 14.64 sec. Users per second: 714\n"
     ]
    },
    {
     "name": "stderr",
     "output_type": "stream",
     "text": [
      "[I 2023-12-04 17:51:53,340] Trial 53 finished with value: 0.031139396685734 and parameters: {'num_factors': 279, 'scaling_items': 0.02511099669903749, 'scaling_users': 0.3688886464360465}. Best is trial 13 with value: 0.03216429239382602.\n"
     ]
    },
    {
     "name": "stdout",
     "output_type": "stream",
     "text": [
      "ScaledPureSVDRecommender: URM Detected 627 ( 4.8%) users with no interactions.\n",
      "ScaledPureSVDRecommender: URM Detected 247 ( 1.1%) items with no interactions.\n",
      "ScaledPureSVDRecommender: Computing SVD decomposition...\n",
      "ScaledPureSVDRecommender: Computing SVD decomposition... done in 3.62 sec\n",
      "EvaluatorHoldout: Processed 10456 (100.0%) in 12.36 sec. Users per second: 846\n"
     ]
    },
    {
     "name": "stderr",
     "output_type": "stream",
     "text": [
      "[I 2023-12-04 17:52:09,530] Trial 54 finished with value: 0.029499618962606944 and parameters: {'num_factors': 110, 'scaling_items': 0.01722404292985269, 'scaling_users': 0.5498681491226061}. Best is trial 13 with value: 0.03216429239382602.\n"
     ]
    },
    {
     "name": "stdout",
     "output_type": "stream",
     "text": [
      "ScaledPureSVDRecommender: URM Detected 627 ( 4.8%) users with no interactions.\n",
      "ScaledPureSVDRecommender: URM Detected 247 ( 1.1%) items with no interactions.\n",
      "ScaledPureSVDRecommender: Computing SVD decomposition...\n",
      "ScaledPureSVDRecommender: Computing SVD decomposition... done in 9.18 sec\n",
      "EvaluatorHoldout: Processed 10456 (100.0%) in 13.94 sec. Users per second: 750\n"
     ]
    },
    {
     "name": "stderr",
     "output_type": "stream",
     "text": [
      "[I 2023-12-04 17:52:32,853] Trial 55 finished with value: 0.0308509809815283 and parameters: {'num_factors': 266, 'scaling_items': 0.011703080515479814, 'scaling_users': 0.7326457862542872}. Best is trial 13 with value: 0.03216429239382602.\n"
     ]
    },
    {
     "name": "stdout",
     "output_type": "stream",
     "text": [
      "ScaledPureSVDRecommender: URM Detected 627 ( 4.8%) users with no interactions.\n",
      "ScaledPureSVDRecommender: URM Detected 247 ( 1.1%) items with no interactions.\n",
      "ScaledPureSVDRecommender: Computing SVD decomposition...\n",
      "ScaledPureSVDRecommender: Computing SVD decomposition... done in 13.70 sec\n",
      "EvaluatorHoldout: Processed 10456 (100.0%) in 16.45 sec. Users per second: 636\n"
     ]
    },
    {
     "name": "stderr",
     "output_type": "stream",
     "text": [
      "[I 2023-12-04 17:53:03,216] Trial 56 finished with value: 0.03097407048129154 and parameters: {'num_factors': 409, 'scaling_items': 0.015786463360057186, 'scaling_users': 0.417797365378169}. Best is trial 13 with value: 0.03216429239382602.\n"
     ]
    },
    {
     "name": "stdout",
     "output_type": "stream",
     "text": [
      "ScaledPureSVDRecommender: URM Detected 627 ( 4.8%) users with no interactions.\n",
      "ScaledPureSVDRecommender: URM Detected 247 ( 1.1%) items with no interactions.\n",
      "ScaledPureSVDRecommender: Computing SVD decomposition...\n",
      "ScaledPureSVDRecommender: Computing SVD decomposition... done in 3.72 sec\n",
      "EvaluatorHoldout: Processed 10456 (100.0%) in 12.69 sec. Users per second: 824\n"
     ]
    },
    {
     "name": "stderr",
     "output_type": "stream",
     "text": [
      "[I 2023-12-04 17:53:19,840] Trial 57 finished with value: 0.03135944578035262 and parameters: {'num_factors': 112, 'scaling_items': 0.030466257194064438, 'scaling_users': 0.18675217351212686}. Best is trial 13 with value: 0.03216429239382602.\n"
     ]
    },
    {
     "name": "stdout",
     "output_type": "stream",
     "text": [
      "ScaledPureSVDRecommender: URM Detected 627 ( 4.8%) users with no interactions.\n",
      "ScaledPureSVDRecommender: URM Detected 247 ( 1.1%) items with no interactions.\n",
      "ScaledPureSVDRecommender: Computing SVD decomposition...\n",
      "ScaledPureSVDRecommender: Computing SVD decomposition... done in 3.09 sec\n",
      "EvaluatorHoldout: Processed 10456 (100.0%) in 12.16 sec. Users per second: 860\n"
     ]
    },
    {
     "name": "stderr",
     "output_type": "stream",
     "text": [
      "[I 2023-12-04 17:53:35,303] Trial 58 finished with value: 0.030695696858187505 and parameters: {'num_factors': 84, 'scaling_items': 0.011813456382896497, 'scaling_users': 0.32201067784142856}. Best is trial 13 with value: 0.03216429239382602.\n"
     ]
    },
    {
     "name": "stdout",
     "output_type": "stream",
     "text": [
      "ScaledPureSVDRecommender: URM Detected 627 ( 4.8%) users with no interactions.\n",
      "ScaledPureSVDRecommender: URM Detected 247 ( 1.1%) items with no interactions.\n",
      "ScaledPureSVDRecommender: Computing SVD decomposition...\n",
      "ScaledPureSVDRecommender: Computing SVD decomposition... done in 7.09 sec\n",
      "EvaluatorHoldout: Processed 10456 (100.0%) in 13.63 sec. Users per second: 767\n"
     ]
    },
    {
     "name": "stderr",
     "output_type": "stream",
     "text": [
      "[I 2023-12-04 17:53:56,254] Trial 59 finished with value: 0.03129626719981565 and parameters: {'num_factors': 207, 'scaling_items': 0.023325352507132305, 'scaling_users': 0.21121018050188728}. Best is trial 13 with value: 0.03216429239382602.\n"
     ]
    },
    {
     "name": "stdout",
     "output_type": "stream",
     "text": [
      "ScaledPureSVDRecommender: URM Detected 627 ( 4.8%) users with no interactions.\n",
      "ScaledPureSVDRecommender: URM Detected 247 ( 1.1%) items with no interactions.\n",
      "ScaledPureSVDRecommender: Computing SVD decomposition...\n",
      "ScaledPureSVDRecommender: Computing SVD decomposition... done in 2.10 sec\n",
      "EvaluatorHoldout: Processed 10456 (100.0%) in 11.78 sec. Users per second: 888\n"
     ]
    },
    {
     "name": "stderr",
     "output_type": "stream",
     "text": [
      "[I 2023-12-04 17:54:10,346] Trial 60 finished with value: 0.02512164732636238 and parameters: {'num_factors': 51, 'scaling_items': 0.01875996257338042, 'scaling_users': 0.6047135702122174}. Best is trial 13 with value: 0.03216429239382602.\n"
     ]
    },
    {
     "name": "stdout",
     "output_type": "stream",
     "text": [
      "ScaledPureSVDRecommender: URM Detected 627 ( 4.8%) users with no interactions.\n",
      "ScaledPureSVDRecommender: URM Detected 247 ( 1.1%) items with no interactions.\n",
      "ScaledPureSVDRecommender: Computing SVD decomposition...\n",
      "ScaledPureSVDRecommender: Computing SVD decomposition... done in 6.41 sec\n",
      "EvaluatorHoldout: Processed 10456 (100.0%) in 14.24 sec. Users per second: 734\n"
     ]
    },
    {
     "name": "stderr",
     "output_type": "stream",
     "text": [
      "[I 2023-12-04 17:54:31,221] Trial 61 finished with value: 0.03134753646421615 and parameters: {'num_factors': 224, 'scaling_items': 0.01946761354304132, 'scaling_users': 0.2555024875258945}. Best is trial 13 with value: 0.03216429239382602.\n"
     ]
    },
    {
     "name": "stdout",
     "output_type": "stream",
     "text": [
      "ScaledPureSVDRecommender: URM Detected 627 ( 4.8%) users with no interactions.\n",
      "ScaledPureSVDRecommender: URM Detected 247 ( 1.1%) items with no interactions.\n",
      "ScaledPureSVDRecommender: Computing SVD decomposition...\n",
      "ScaledPureSVDRecommender: Computing SVD decomposition... done in 5.79 sec\n",
      "EvaluatorHoldout: Processed 10456 (100.0%) in 12.92 sec. Users per second: 809\n"
     ]
    },
    {
     "name": "stderr",
     "output_type": "stream",
     "text": [
      "[I 2023-12-04 17:54:50,168] Trial 62 finished with value: 0.03210196014136362 and parameters: {'num_factors': 173, 'scaling_items': 0.015788656286499732, 'scaling_users': 0.2916636612900727}. Best is trial 13 with value: 0.03216429239382602.\n"
     ]
    },
    {
     "name": "stdout",
     "output_type": "stream",
     "text": [
      "ScaledPureSVDRecommender: URM Detected 627 ( 4.8%) users with no interactions.\n",
      "ScaledPureSVDRecommender: URM Detected 247 ( 1.1%) items with no interactions.\n",
      "ScaledPureSVDRecommender: Computing SVD decomposition...\n",
      "ScaledPureSVDRecommender: Computing SVD decomposition... done in 5.94 sec\n",
      "EvaluatorHoldout: Processed 10456 (100.0%) in 13.13 sec. Users per second: 796\n"
     ]
    },
    {
     "name": "stderr",
     "output_type": "stream",
     "text": [
      "[I 2023-12-04 17:55:09,475] Trial 63 finished with value: 0.032161681300931756 and parameters: {'num_factors': 168, 'scaling_items': 0.013684680382687137, 'scaling_users': 0.28945829140085255}. Best is trial 13 with value: 0.03216429239382602.\n"
     ]
    },
    {
     "name": "stdout",
     "output_type": "stream",
     "text": [
      "ScaledPureSVDRecommender: URM Detected 627 ( 4.8%) users with no interactions.\n",
      "ScaledPureSVDRecommender: URM Detected 247 ( 1.1%) items with no interactions.\n",
      "ScaledPureSVDRecommender: Computing SVD decomposition...\n",
      "ScaledPureSVDRecommender: Computing SVD decomposition... done in 5.43 sec\n",
      "EvaluatorHoldout: Processed 10456 (100.0%) in 12.98 sec. Users per second: 806\n"
     ]
    },
    {
     "name": "stderr",
     "output_type": "stream",
     "text": [
      "[I 2023-12-04 17:55:28,090] Trial 64 finished with value: 0.03181055382494783 and parameters: {'num_factors': 161, 'scaling_items': 0.012911472685675699, 'scaling_users': 0.16739840853649268}. Best is trial 13 with value: 0.03216429239382602.\n"
     ]
    },
    {
     "name": "stdout",
     "output_type": "stream",
     "text": [
      "ScaledPureSVDRecommender: URM Detected 627 ( 4.8%) users with no interactions.\n",
      "ScaledPureSVDRecommender: URM Detected 247 ( 1.1%) items with no interactions.\n",
      "ScaledPureSVDRecommender: Computing SVD decomposition...\n",
      "ScaledPureSVDRecommender: Computing SVD decomposition... done in 3.08 sec\n",
      "EvaluatorHoldout: Processed 10456 (100.0%) in 12.13 sec. Users per second: 862\n"
     ]
    },
    {
     "name": "stderr",
     "output_type": "stream",
     "text": [
      "[I 2023-12-04 17:55:43,567] Trial 65 finished with value: 0.03069849391554653 and parameters: {'num_factors': 93, 'scaling_items': 0.012983727075230597, 'scaling_users': 0.3003255153475361}. Best is trial 13 with value: 0.03216429239382602.\n"
     ]
    },
    {
     "name": "stdout",
     "output_type": "stream",
     "text": [
      "ScaledPureSVDRecommender: URM Detected 627 ( 4.8%) users with no interactions.\n",
      "ScaledPureSVDRecommender: URM Detected 247 ( 1.1%) items with no interactions.\n",
      "ScaledPureSVDRecommender: Computing SVD decomposition...\n",
      "ScaledPureSVDRecommender: Computing SVD decomposition... done in 3.69 sec\n",
      "EvaluatorHoldout: Processed 10456 (100.0%) in 12.64 sec. Users per second: 827\n"
     ]
    },
    {
     "name": "stderr",
     "output_type": "stream",
     "text": [
      "[I 2023-12-04 17:56:00,097] Trial 66 finished with value: 0.03160584110588924 and parameters: {'num_factors': 124, 'scaling_items': 0.014465113254940163, 'scaling_users': 0.16840824995056702}. Best is trial 13 with value: 0.03216429239382602.\n"
     ]
    },
    {
     "name": "stdout",
     "output_type": "stream",
     "text": [
      "ScaledPureSVDRecommender: URM Detected 627 ( 4.8%) users with no interactions.\n",
      "ScaledPureSVDRecommender: URM Detected 247 ( 1.1%) items with no interactions.\n",
      "ScaledPureSVDRecommender: Computing SVD decomposition...\n",
      "ScaledPureSVDRecommender: Computing SVD decomposition... done in 10.94 sec\n",
      "EvaluatorHoldout: Processed 10456 (100.0%) in 15.31 sec. Users per second: 683\n"
     ]
    },
    {
     "name": "stderr",
     "output_type": "stream",
     "text": [
      "[I 2023-12-04 17:56:26,548] Trial 67 finished with value: 0.03019589648534769 and parameters: {'num_factors': 334, 'scaling_items': 0.010335916060990486, 'scaling_users': 0.12858089924236238}. Best is trial 13 with value: 0.03216429239382602.\n"
     ]
    },
    {
     "name": "stdout",
     "output_type": "stream",
     "text": [
      "ScaledPureSVDRecommender: URM Detected 627 ( 4.8%) users with no interactions.\n",
      "ScaledPureSVDRecommender: URM Detected 247 ( 1.1%) items with no interactions.\n",
      "ScaledPureSVDRecommender: Computing SVD decomposition...\n",
      "ScaledPureSVDRecommender: Computing SVD decomposition... done in 5.31 sec\n",
      "EvaluatorHoldout: Processed 10456 (100.0%) in 12.93 sec. Users per second: 809\n"
     ]
    },
    {
     "name": "stderr",
     "output_type": "stream",
     "text": [
      "[I 2023-12-04 17:56:44,990] Trial 68 finished with value: 0.03201182430381019 and parameters: {'num_factors': 160, 'scaling_items': 0.011647026974402655, 'scaling_users': 0.20558850419642993}. Best is trial 13 with value: 0.03216429239382602.\n"
     ]
    },
    {
     "name": "stdout",
     "output_type": "stream",
     "text": [
      "ScaledPureSVDRecommender: URM Detected 627 ( 4.8%) users with no interactions.\n",
      "ScaledPureSVDRecommender: URM Detected 247 ( 1.1%) items with no interactions.\n",
      "ScaledPureSVDRecommender: Computing SVD decomposition...\n",
      "ScaledPureSVDRecommender: Computing SVD decomposition... done in 2.83 sec\n",
      "EvaluatorHoldout: Processed 10456 (100.0%) in 12.64 sec. Users per second: 828\n"
     ]
    },
    {
     "name": "stderr",
     "output_type": "stream",
     "text": [
      "[I 2023-12-04 17:57:00,663] Trial 69 finished with value: 0.030776754593701952 and parameters: {'num_factors': 80, 'scaling_items': 0.011212659119126098, 'scaling_users': 0.2841921416929733}. Best is trial 13 with value: 0.03216429239382602.\n"
     ]
    },
    {
     "name": "stdout",
     "output_type": "stream",
     "text": [
      "ScaledPureSVDRecommender: URM Detected 627 ( 4.8%) users with no interactions.\n",
      "ScaledPureSVDRecommender: URM Detected 247 ( 1.1%) items with no interactions.\n",
      "ScaledPureSVDRecommender: Computing SVD decomposition...\n",
      "ScaledPureSVDRecommender: Computing SVD decomposition... done in 4.20 sec\n",
      "EvaluatorHoldout: Processed 10456 (100.0%) in 12.72 sec. Users per second: 822\n"
     ]
    },
    {
     "name": "stderr",
     "output_type": "stream",
     "text": [
      "[I 2023-12-04 17:57:17,792] Trial 70 finished with value: 0.03179557040235146 and parameters: {'num_factors': 128, 'scaling_items': 0.01672306118070225, 'scaling_users': 0.211264862223096}. Best is trial 13 with value: 0.03216429239382602.\n"
     ]
    },
    {
     "name": "stdout",
     "output_type": "stream",
     "text": [
      "ScaledPureSVDRecommender: URM Detected 627 ( 4.8%) users with no interactions.\n",
      "ScaledPureSVDRecommender: URM Detected 247 ( 1.1%) items with no interactions.\n",
      "ScaledPureSVDRecommender: Computing SVD decomposition...\n",
      "ScaledPureSVDRecommender: Computing SVD decomposition... done in 5.43 sec\n",
      "EvaluatorHoldout: Processed 10456 (100.0%) in 13.02 sec. Users per second: 803\n"
     ]
    },
    {
     "name": "stderr",
     "output_type": "stream",
     "text": [
      "[I 2023-12-04 17:57:36,465] Trial 71 finished with value: 0.032135574167183094 and parameters: {'num_factors': 157, 'scaling_items': 0.013354016805827516, 'scaling_users': 0.33655059429069945}. Best is trial 13 with value: 0.03216429239382602.\n"
     ]
    },
    {
     "name": "stdout",
     "output_type": "stream",
     "text": [
      "ScaledPureSVDRecommender: URM Detected 627 ( 4.8%) users with no interactions.\n",
      "ScaledPureSVDRecommender: URM Detected 247 ( 1.1%) items with no interactions.\n",
      "ScaledPureSVDRecommender: Computing SVD decomposition...\n",
      "ScaledPureSVDRecommender: Computing SVD decomposition... done in 6.42 sec\n",
      "EvaluatorHoldout: Processed 10456 (100.0%) in 13.18 sec. Users per second: 793\n"
     ]
    },
    {
     "name": "stderr",
     "output_type": "stream",
     "text": [
      "[I 2023-12-04 17:57:56,296] Trial 72 finished with value: 0.0319172480902591 and parameters: {'num_factors': 186, 'scaling_items': 0.014572748366523633, 'scaling_users': 0.33929525657664844}. Best is trial 13 with value: 0.03216429239382602.\n"
     ]
    },
    {
     "name": "stdout",
     "output_type": "stream",
     "text": [
      "ScaledPureSVDRecommender: URM Detected 627 ( 4.8%) users with no interactions.\n",
      "ScaledPureSVDRecommender: URM Detected 247 ( 1.1%) items with no interactions.\n",
      "ScaledPureSVDRecommender: Computing SVD decomposition...\n",
      "ScaledPureSVDRecommender: Computing SVD decomposition... done in 7.07 sec\n",
      "EvaluatorHoldout: Processed 10456 (100.0%) in 13.28 sec. Users per second: 787\n"
     ]
    },
    {
     "name": "stderr",
     "output_type": "stream",
     "text": [
      "[I 2023-12-04 17:58:16,893] Trial 73 finished with value: 0.031349407494444155 and parameters: {'num_factors': 177, 'scaling_items': 0.011993312870481726, 'scaling_users': 0.49307030043170397}. Best is trial 13 with value: 0.03216429239382602.\n"
     ]
    },
    {
     "name": "stdout",
     "output_type": "stream",
     "text": [
      "ScaledPureSVDRecommender: URM Detected 627 ( 4.8%) users with no interactions.\n",
      "ScaledPureSVDRecommender: URM Detected 247 ( 1.1%) items with no interactions.\n",
      "ScaledPureSVDRecommender: Computing SVD decomposition...\n",
      "ScaledPureSVDRecommender: Computing SVD decomposition... done in 3.51 sec\n",
      "EvaluatorHoldout: Processed 10456 (100.0%) in 12.30 sec. Users per second: 850\n"
     ]
    },
    {
     "name": "stderr",
     "output_type": "stream",
     "text": [
      "[I 2023-12-04 17:58:32,942] Trial 74 finished with value: 0.030493587641636854 and parameters: {'num_factors': 96, 'scaling_items': 0.014576183474461971, 'scaling_users': 0.38373926647568213}. Best is trial 13 with value: 0.03216429239382602.\n"
     ]
    },
    {
     "name": "stdout",
     "output_type": "stream",
     "text": [
      "ScaledPureSVDRecommender: URM Detected 627 ( 4.8%) users with no interactions.\n",
      "ScaledPureSVDRecommender: URM Detected 247 ( 1.1%) items with no interactions.\n",
      "ScaledPureSVDRecommender: Computing SVD decomposition...\n",
      "ScaledPureSVDRecommender: Computing SVD decomposition... done in 10.08 sec\n",
      "EvaluatorHoldout: Processed 10456 (100.0%) in 15.16 sec. Users per second: 690\n"
     ]
    },
    {
     "name": "stderr",
     "output_type": "stream",
     "text": [
      "[I 2023-12-04 17:58:58,442] Trial 75 finished with value: 0.03154042715658076 and parameters: {'num_factors': 306, 'scaling_items': 0.010258900107450784, 'scaling_users': 0.3357229303952435}. Best is trial 13 with value: 0.03216429239382602.\n"
     ]
    },
    {
     "name": "stdout",
     "output_type": "stream",
     "text": [
      "ScaledPureSVDRecommender: URM Detected 627 ( 4.8%) users with no interactions.\n",
      "ScaledPureSVDRecommender: URM Detected 247 ( 1.1%) items with no interactions.\n",
      "ScaledPureSVDRecommender: Computing SVD decomposition...\n",
      "ScaledPureSVDRecommender: Computing SVD decomposition... done in 2.47 sec\n",
      "EvaluatorHoldout: Processed 10456 (100.0%) in 11.98 sec. Users per second: 872\n"
     ]
    },
    {
     "name": "stderr",
     "output_type": "stream",
     "text": [
      "[I 2023-12-04 17:59:13,118] Trial 76 finished with value: 0.029896861830679886 and parameters: {'num_factors': 61, 'scaling_items': 0.01603412184107389, 'scaling_users': 0.295585038301063}. Best is trial 13 with value: 0.03216429239382602.\n"
     ]
    },
    {
     "name": "stdout",
     "output_type": "stream",
     "text": [
      "ScaledPureSVDRecommender: URM Detected 627 ( 4.8%) users with no interactions.\n",
      "ScaledPureSVDRecommender: URM Detected 247 ( 1.1%) items with no interactions.\n",
      "ScaledPureSVDRecommender: Computing SVD decomposition...\n",
      "ScaledPureSVDRecommender: Computing SVD decomposition... done in 5.69 sec\n",
      "EvaluatorHoldout: Processed 10456 (100.0%) in 12.89 sec. Users per second: 811\n"
     ]
    },
    {
     "name": "stderr",
     "output_type": "stream",
     "text": [
      "[I 2023-12-04 17:59:31,906] Trial 77 finished with value: 0.03208123838670911 and parameters: {'num_factors': 163, 'scaling_items': 0.01420487423794006, 'scaling_users': 0.35300292587216253}. Best is trial 13 with value: 0.03216429239382602.\n"
     ]
    },
    {
     "name": "stdout",
     "output_type": "stream",
     "text": [
      "ScaledPureSVDRecommender: URM Detected 627 ( 4.8%) users with no interactions.\n",
      "ScaledPureSVDRecommender: URM Detected 247 ( 1.1%) items with no interactions.\n",
      "ScaledPureSVDRecommender: Computing SVD decomposition...\n",
      "ScaledPureSVDRecommender: Computing SVD decomposition... done in 6.09 sec\n",
      "EvaluatorHoldout: Processed 10456 (100.0%) in 12.87 sec. Users per second: 813\n"
     ]
    },
    {
     "name": "stderr",
     "output_type": "stream",
     "text": [
      "[I 2023-12-04 17:59:51,096] Trial 78 finished with value: 0.03204121807483543 and parameters: {'num_factors': 159, 'scaling_items': 0.013687411073911073, 'scaling_users': 0.3456409613499651}. Best is trial 13 with value: 0.03216429239382602.\n"
     ]
    },
    {
     "name": "stdout",
     "output_type": "stream",
     "text": [
      "ScaledPureSVDRecommender: URM Detected 627 ( 4.8%) users with no interactions.\n",
      "ScaledPureSVDRecommender: URM Detected 247 ( 1.1%) items with no interactions.\n",
      "ScaledPureSVDRecommender: Computing SVD decomposition...\n",
      "ScaledPureSVDRecommender: Computing SVD decomposition... done in 5.64 sec\n",
      "EvaluatorHoldout: Processed 10456 (100.0%) in 13.19 sec. Users per second: 793\n"
     ]
    },
    {
     "name": "stderr",
     "output_type": "stream",
     "text": [
      "[I 2023-12-04 18:00:10,152] Trial 79 finished with value: 0.03162786081660446 and parameters: {'num_factors': 158, 'scaling_items': 0.011633598055255948, 'scaling_users': 0.4554614659029994}. Best is trial 13 with value: 0.03216429239382602.\n"
     ]
    },
    {
     "name": "stdout",
     "output_type": "stream",
     "text": [
      "ScaledPureSVDRecommender: URM Detected 627 ( 4.8%) users with no interactions.\n",
      "ScaledPureSVDRecommender: URM Detected 247 ( 1.1%) items with no interactions.\n",
      "ScaledPureSVDRecommender: Computing SVD decomposition...\n",
      "ScaledPureSVDRecommender: Computing SVD decomposition... done in 3.75 sec\n",
      "EvaluatorHoldout: Processed 10456 (100.0%) in 12.36 sec. Users per second: 846\n"
     ]
    },
    {
     "name": "stderr",
     "output_type": "stream",
     "text": [
      "[I 2023-12-04 18:00:26,484] Trial 80 finished with value: 0.03172007642000978 and parameters: {'num_factors': 107, 'scaling_items': 0.013576467546857587, 'scaling_users': 0.2551312564778373}. Best is trial 13 with value: 0.03216429239382602.\n"
     ]
    },
    {
     "name": "stdout",
     "output_type": "stream",
     "text": [
      "ScaledPureSVDRecommender: URM Detected 627 ( 4.8%) users with no interactions.\n",
      "ScaledPureSVDRecommender: URM Detected 247 ( 1.1%) items with no interactions.\n",
      "ScaledPureSVDRecommender: Computing SVD decomposition...\n",
      "ScaledPureSVDRecommender: Computing SVD decomposition... done in 4.07 sec\n",
      "EvaluatorHoldout: Processed 10456 (100.0%) in 12.65 sec. Users per second: 827\n"
     ]
    },
    {
     "name": "stderr",
     "output_type": "stream",
     "text": [
      "[I 2023-12-04 18:00:43,405] Trial 81 finished with value: 0.03169499019322108 and parameters: {'num_factors': 124, 'scaling_items': 0.015033278809029523, 'scaling_users': 0.3303605237115736}. Best is trial 13 with value: 0.03216429239382602.\n"
     ]
    },
    {
     "name": "stdout",
     "output_type": "stream",
     "text": [
      "ScaledPureSVDRecommender: URM Detected 627 ( 4.8%) users with no interactions.\n",
      "ScaledPureSVDRecommender: URM Detected 247 ( 1.1%) items with no interactions.\n",
      "ScaledPureSVDRecommender: Computing SVD decomposition...\n",
      "ScaledPureSVDRecommender: Computing SVD decomposition... done in 5.75 sec\n",
      "EvaluatorHoldout: Processed 10456 (100.0%) in 12.98 sec. Users per second: 806\n"
     ]
    },
    {
     "name": "stderr",
     "output_type": "stream",
     "text": [
      "[I 2023-12-04 18:01:02,364] Trial 82 finished with value: 0.0321392137574237 and parameters: {'num_factors': 181, 'scaling_items': 0.012973728095632507, 'scaling_users': 0.35973425129134395}. Best is trial 13 with value: 0.03216429239382602.\n"
     ]
    },
    {
     "name": "stdout",
     "output_type": "stream",
     "text": [
      "ScaledPureSVDRecommender: URM Detected 627 ( 4.8%) users with no interactions.\n",
      "ScaledPureSVDRecommender: URM Detected 247 ( 1.1%) items with no interactions.\n",
      "ScaledPureSVDRecommender: Computing SVD decomposition...\n",
      "ScaledPureSVDRecommender: Computing SVD decomposition... done in 2.94 sec\n",
      "EvaluatorHoldout: Processed 10456 (100.0%) in 12.30 sec. Users per second: 850\n"
     ]
    },
    {
     "name": "stderr",
     "output_type": "stream",
     "text": [
      "[I 2023-12-04 18:01:17,824] Trial 83 finished with value: 0.030649334778543126 and parameters: {'num_factors': 82, 'scaling_items': 0.011250895497302772, 'scaling_users': 0.28978154253287364}. Best is trial 13 with value: 0.03216429239382602.\n"
     ]
    },
    {
     "name": "stdout",
     "output_type": "stream",
     "text": [
      "ScaledPureSVDRecommender: URM Detected 627 ( 4.8%) users with no interactions.\n",
      "ScaledPureSVDRecommender: URM Detected 247 ( 1.1%) items with no interactions.\n",
      "ScaledPureSVDRecommender: Computing SVD decomposition...\n",
      "ScaledPureSVDRecommender: Computing SVD decomposition... done in 4.53 sec\n",
      "EvaluatorHoldout: Processed 10456 (100.0%) in 12.66 sec. Users per second: 826\n"
     ]
    },
    {
     "name": "stderr",
     "output_type": "stream",
     "text": [
      "[I 2023-12-04 18:01:35,265] Trial 84 finished with value: 0.03079472483331542 and parameters: {'num_factors': 144, 'scaling_items': 0.01267133759247722, 'scaling_users': 0.5212866202567986}. Best is trial 13 with value: 0.03216429239382602.\n"
     ]
    },
    {
     "name": "stdout",
     "output_type": "stream",
     "text": [
      "ScaledPureSVDRecommender: URM Detected 627 ( 4.8%) users with no interactions.\n",
      "ScaledPureSVDRecommender: URM Detected 247 ( 1.1%) items with no interactions.\n",
      "ScaledPureSVDRecommender: Computing SVD decomposition...\n",
      "ScaledPureSVDRecommender: Computing SVD decomposition... done in 7.28 sec\n",
      "EvaluatorHoldout: Processed 10456 (100.0%) in 14.10 sec. Users per second: 741\n"
     ]
    },
    {
     "name": "stderr",
     "output_type": "stream",
     "text": [
      "[I 2023-12-04 18:01:56,892] Trial 85 finished with value: 0.032076942228051956 and parameters: {'num_factors': 226, 'scaling_items': 0.01012725438969286, 'scaling_users': 0.3826520778474342}. Best is trial 13 with value: 0.03216429239382602.\n"
     ]
    },
    {
     "name": "stdout",
     "output_type": "stream",
     "text": [
      "ScaledPureSVDRecommender: URM Detected 627 ( 4.8%) users with no interactions.\n",
      "ScaledPureSVDRecommender: URM Detected 247 ( 1.1%) items with no interactions.\n",
      "ScaledPureSVDRecommender: Computing SVD decomposition...\n",
      "ScaledPureSVDRecommender: Computing SVD decomposition... done in 7.77 sec\n",
      "EvaluatorHoldout: Processed 10456 (100.0%) in 13.72 sec. Users per second: 762\n"
     ]
    },
    {
     "name": "stderr",
     "output_type": "stream",
     "text": [
      "[I 2023-12-04 18:02:18,611] Trial 86 finished with value: 0.03183988687288262 and parameters: {'num_factors': 245, 'scaling_items': 0.01817916791282528, 'scaling_users': 0.3729566372751163}. Best is trial 13 with value: 0.03216429239382602.\n"
     ]
    },
    {
     "name": "stdout",
     "output_type": "stream",
     "text": [
      "ScaledPureSVDRecommender: URM Detected 627 ( 4.8%) users with no interactions.\n",
      "ScaledPureSVDRecommender: URM Detected 247 ( 1.1%) items with no interactions.\n",
      "ScaledPureSVDRecommender: Computing SVD decomposition...\n",
      "ScaledPureSVDRecommender: Computing SVD decomposition... done in 10.45 sec\n",
      "EvaluatorHoldout: Processed 10456 (100.0%) in 15.12 sec. Users per second: 692\n"
     ]
    },
    {
     "name": "stderr",
     "output_type": "stream",
     "text": [
      "[I 2023-12-04 18:02:44,385] Trial 87 finished with value: 0.031710474581314506 and parameters: {'num_factors': 329, 'scaling_items': 0.010078268606277297, 'scaling_users': 0.4150721200174657}. Best is trial 13 with value: 0.03216429239382602.\n"
     ]
    },
    {
     "name": "stdout",
     "output_type": "stream",
     "text": [
      "ScaledPureSVDRecommender: URM Detected 627 ( 4.8%) users with no interactions.\n",
      "ScaledPureSVDRecommender: URM Detected 247 ( 1.1%) items with no interactions.\n",
      "ScaledPureSVDRecommender: Computing SVD decomposition...\n",
      "ScaledPureSVDRecommender: Computing SVD decomposition... done in 4.17 sec\n",
      "EvaluatorHoldout: Processed 10456 (100.0%) in 12.05 sec. Users per second: 868\n"
     ]
    },
    {
     "name": "stderr",
     "output_type": "stream",
     "text": [
      "[I 2023-12-04 18:03:00,844] Trial 88 finished with value: 0.030290666253749758 and parameters: {'num_factors': 114, 'scaling_items': 0.014095236518703867, 'scaling_users': 0.4874717046853626}. Best is trial 13 with value: 0.03216429239382602.\n"
     ]
    },
    {
     "name": "stdout",
     "output_type": "stream",
     "text": [
      "ScaledPureSVDRecommender: URM Detected 627 ( 4.8%) users with no interactions.\n",
      "ScaledPureSVDRecommender: URM Detected 247 ( 1.1%) items with no interactions.\n",
      "ScaledPureSVDRecommender: Computing SVD decomposition...\n",
      "ScaledPureSVDRecommender: Computing SVD decomposition... done in 6.02 sec\n",
      "EvaluatorHoldout: Processed 10456 (100.0%) in 13.87 sec. Users per second: 754\n"
     ]
    },
    {
     "name": "stderr",
     "output_type": "stream",
     "text": [
      "[I 2023-12-04 18:03:20,967] Trial 89 finished with value: 0.03168793492913643 and parameters: {'num_factors': 207, 'scaling_items': 0.015815451940833104, 'scaling_users': 0.23957147007071994}. Best is trial 13 with value: 0.03216429239382602.\n"
     ]
    },
    {
     "name": "stdout",
     "output_type": "stream",
     "text": [
      "ScaledPureSVDRecommender: URM Detected 627 ( 4.8%) users with no interactions.\n",
      "ScaledPureSVDRecommender: URM Detected 247 ( 1.1%) items with no interactions.\n",
      "ScaledPureSVDRecommender: Computing SVD decomposition...\n",
      "ScaledPureSVDRecommender: Computing SVD decomposition... done in 8.43 sec\n",
      "EvaluatorHoldout: Processed 10456 (100.0%) in 14.71 sec. Users per second: 711\n"
     ]
    },
    {
     "name": "stderr",
     "output_type": "stream",
     "text": [
      "[I 2023-12-04 18:03:44,329] Trial 90 finished with value: 0.031836729272173306 and parameters: {'num_factors': 256, 'scaling_items': 0.013330653684065377, 'scaling_users': 0.35475409518319206}. Best is trial 13 with value: 0.03216429239382602.\n"
     ]
    },
    {
     "name": "stdout",
     "output_type": "stream",
     "text": [
      "ScaledPureSVDRecommender: URM Detected 627 ( 4.8%) users with no interactions.\n",
      "ScaledPureSVDRecommender: URM Detected 247 ( 1.1%) items with no interactions.\n",
      "ScaledPureSVDRecommender: Computing SVD decomposition...\n",
      "ScaledPureSVDRecommender: Computing SVD decomposition... done in 6.53 sec\n",
      "EvaluatorHoldout: Processed 10456 (100.0%) in 13.19 sec. Users per second: 793\n"
     ]
    },
    {
     "name": "stderr",
     "output_type": "stream",
     "text": [
      "[I 2023-12-04 18:04:04,282] Trial 91 finished with value: 0.03204999256142169 and parameters: {'num_factors': 169, 'scaling_items': 0.011398040227904933, 'scaling_users': 0.29128563839228905}. Best is trial 13 with value: 0.03216429239382602.\n"
     ]
    },
    {
     "name": "stdout",
     "output_type": "stream",
     "text": [
      "ScaledPureSVDRecommender: URM Detected 627 ( 4.8%) users with no interactions.\n",
      "ScaledPureSVDRecommender: URM Detected 247 ( 1.1%) items with no interactions.\n",
      "ScaledPureSVDRecommender: Computing SVD decomposition...\n",
      "ScaledPureSVDRecommender: Computing SVD decomposition... done in 16.72 sec\n",
      "EvaluatorHoldout: Processed 10456 (100.0%) in 17.43 sec. Users per second: 600\n"
     ]
    },
    {
     "name": "stderr",
     "output_type": "stream",
     "text": [
      "[I 2023-12-04 18:04:38,641] Trial 92 finished with value: 0.03026375074385816 and parameters: {'num_factors': 486, 'scaling_items': 0.01100021307622313, 'scaling_users': 0.3022107216758219}. Best is trial 13 with value: 0.03216429239382602.\n"
     ]
    },
    {
     "name": "stdout",
     "output_type": "stream",
     "text": [
      "ScaledPureSVDRecommender: URM Detected 627 ( 4.8%) users with no interactions.\n",
      "ScaledPureSVDRecommender: URM Detected 247 ( 1.1%) items with no interactions.\n",
      "ScaledPureSVDRecommender: Computing SVD decomposition...\n",
      "ScaledPureSVDRecommender: Computing SVD decomposition... done in 5.78 sec\n",
      "EvaluatorHoldout: Processed 10456 (100.0%) in 13.16 sec. Users per second: 795\n"
     ]
    },
    {
     "name": "stderr",
     "output_type": "stream",
     "text": [
      "[I 2023-12-04 18:04:57,790] Trial 93 finished with value: 0.031997660642936375 and parameters: {'num_factors': 176, 'scaling_items': 0.016542600707054298, 'scaling_users': 0.27001710030820997}. Best is trial 13 with value: 0.03216429239382602.\n"
     ]
    },
    {
     "name": "stdout",
     "output_type": "stream",
     "text": [
      "ScaledPureSVDRecommender: URM Detected 627 ( 4.8%) users with no interactions.\n",
      "ScaledPureSVDRecommender: URM Detected 247 ( 1.1%) items with no interactions.\n",
      "ScaledPureSVDRecommender: Computing SVD decomposition...\n",
      "ScaledPureSVDRecommender: Computing SVD decomposition... done in 11.53 sec\n",
      "EvaluatorHoldout: Processed 10456 (100.0%) in 15.77 sec. Users per second: 663\n"
     ]
    },
    {
     "name": "stderr",
     "output_type": "stream",
     "text": [
      "[I 2023-12-04 18:05:25,299] Trial 94 finished with value: 0.031281788537909604 and parameters: {'num_factors': 373, 'scaling_items': 0.01230065218010341, 'scaling_users': 0.4076231797378049}. Best is trial 13 with value: 0.03216429239382602.\n"
     ]
    },
    {
     "name": "stdout",
     "output_type": "stream",
     "text": [
      "ScaledPureSVDRecommender: URM Detected 627 ( 4.8%) users with no interactions.\n",
      "ScaledPureSVDRecommender: URM Detected 247 ( 1.1%) items with no interactions.\n",
      "ScaledPureSVDRecommender: Computing SVD decomposition...\n",
      "ScaledPureSVDRecommender: Computing SVD decomposition... done in 3.80 sec\n",
      "EvaluatorHoldout: Processed 10456 (100.0%) in 12.29 sec. Users per second: 851\n"
     ]
    },
    {
     "name": "stderr",
     "output_type": "stream",
     "text": [
      "[I 2023-12-04 18:05:41,597] Trial 95 finished with value: 0.030824748606405307 and parameters: {'num_factors': 126, 'scaling_items': 0.01890853267937223, 'scaling_users': 0.4548124855783159}. Best is trial 13 with value: 0.03216429239382602.\n"
     ]
    },
    {
     "name": "stdout",
     "output_type": "stream",
     "text": [
      "ScaledPureSVDRecommender: URM Detected 627 ( 4.8%) users with no interactions.\n",
      "ScaledPureSVDRecommender: URM Detected 247 ( 1.1%) items with no interactions.\n",
      "ScaledPureSVDRecommender: Computing SVD decomposition...\n",
      "ScaledPureSVDRecommender: Computing SVD decomposition... done in 6.01 sec\n",
      "EvaluatorHoldout: Processed 10456 (100.0%) in 13.40 sec. Users per second: 780\n"
     ]
    },
    {
     "name": "stderr",
     "output_type": "stream",
     "text": [
      "[I 2023-12-04 18:06:01,235] Trial 96 finished with value: 0.03224059095711774 and parameters: {'num_factors': 202, 'scaling_items': 0.0100784776753464, 'scaling_users': 0.35480205590361524}. Best is trial 96 with value: 0.03224059095711774.\n"
     ]
    },
    {
     "name": "stdout",
     "output_type": "stream",
     "text": [
      "ScaledPureSVDRecommender: URM Detected 627 ( 4.8%) users with no interactions.\n",
      "ScaledPureSVDRecommender: URM Detected 247 ( 1.1%) items with no interactions.\n",
      "ScaledPureSVDRecommender: Computing SVD decomposition...\n",
      "ScaledPureSVDRecommender: Computing SVD decomposition... done in 6.51 sec\n",
      "EvaluatorHoldout: Processed 10456 (100.0%) in 14.03 sec. Users per second: 745\n"
     ]
    },
    {
     "name": "stderr",
     "output_type": "stream",
     "text": [
      "[I 2023-12-04 18:06:21,992] Trial 97 finished with value: 0.031342712773709674 and parameters: {'num_factors': 222, 'scaling_items': 0.010257084989179703, 'scaling_users': 0.5563125437972972}. Best is trial 96 with value: 0.03224059095711774.\n"
     ]
    },
    {
     "name": "stdout",
     "output_type": "stream",
     "text": [
      "ScaledPureSVDRecommender: URM Detected 627 ( 4.8%) users with no interactions.\n",
      "ScaledPureSVDRecommender: URM Detected 247 ( 1.1%) items with no interactions.\n",
      "ScaledPureSVDRecommender: Computing SVD decomposition...\n",
      "ScaledPureSVDRecommender: Computing SVD decomposition... done in 9.68 sec\n",
      "EvaluatorHoldout: Processed 10456 (100.0%) in 14.66 sec. Users per second: 713\n"
     ]
    },
    {
     "name": "stderr",
     "output_type": "stream",
     "text": [
      "[I 2023-12-04 18:06:46,557] Trial 98 finished with value: 0.031763637647101994 and parameters: {'num_factors': 286, 'scaling_items': 0.013724694457195818, 'scaling_users': 0.3498188746889513}. Best is trial 96 with value: 0.03224059095711774.\n"
     ]
    },
    {
     "name": "stdout",
     "output_type": "stream",
     "text": [
      "ScaledPureSVDRecommender: URM Detected 627 ( 4.8%) users with no interactions.\n",
      "ScaledPureSVDRecommender: URM Detected 247 ( 1.1%) items with no interactions.\n",
      "ScaledPureSVDRecommender: Computing SVD decomposition...\n",
      "ScaledPureSVDRecommender: Computing SVD decomposition... done in 5.10 sec\n",
      "EvaluatorHoldout: Processed 10456 (100.0%) in 12.75 sec. Users per second: 820\n"
     ]
    },
    {
     "name": "stderr",
     "output_type": "stream",
     "text": [
      "[I 2023-12-04 18:07:04,620] Trial 99 finished with value: 0.031995523949187255 and parameters: {'num_factors': 151, 'scaling_items': 0.011174803926914206, 'scaling_users': 0.3888074975980803}. Best is trial 96 with value: 0.03224059095711774.\n"
     ]
    },
    {
     "name": "stdout",
     "output_type": "stream",
     "text": [
      "ScaledPureSVDRecommender: URM Detected 627 ( 4.8%) users with no interactions.\n",
      "ScaledPureSVDRecommender: URM Detected 247 ( 1.1%) items with no interactions.\n",
      "ScaledPureSVDRecommender: Computing SVD decomposition...\n",
      "ScaledPureSVDRecommender: Computing SVD decomposition... done in 6.60 sec\n",
      "EvaluatorHoldout: Processed 10456 (100.0%) in 12.97 sec. Users per second: 806\n"
     ]
    },
    {
     "name": "stderr",
     "output_type": "stream",
     "text": [
      "[I 2023-12-04 18:07:24,397] Trial 100 finished with value: 0.031908708905648814 and parameters: {'num_factors': 198, 'scaling_items': 0.012467721047222739, 'scaling_users': 0.24130445313690602}. Best is trial 96 with value: 0.03224059095711774.\n"
     ]
    },
    {
     "name": "stdout",
     "output_type": "stream",
     "text": [
      "ScaledPureSVDRecommender: URM Detected 627 ( 4.8%) users with no interactions.\n",
      "ScaledPureSVDRecommender: URM Detected 247 ( 1.1%) items with no interactions.\n",
      "ScaledPureSVDRecommender: Computing SVD decomposition...\n",
      "ScaledPureSVDRecommender: Computing SVD decomposition... done in 4.17 sec\n",
      "EvaluatorHoldout: Processed 10456 (100.0%) in 12.51 sec. Users per second: 836\n"
     ]
    },
    {
     "name": "stderr",
     "output_type": "stream",
     "text": [
      "[I 2023-12-04 18:07:41,285] Trial 101 finished with value: 0.031480527622934205 and parameters: {'num_factors': 135, 'scaling_items': 0.01676812543154053, 'scaling_users': 0.32403901642457256}. Best is trial 96 with value: 0.03224059095711774.\n"
     ]
    },
    {
     "name": "stdout",
     "output_type": "stream",
     "text": [
      "ScaledPureSVDRecommender: URM Detected 627 ( 4.8%) users with no interactions.\n",
      "ScaledPureSVDRecommender: URM Detected 247 ( 1.1%) items with no interactions.\n",
      "ScaledPureSVDRecommender: Computing SVD decomposition...\n",
      "ScaledPureSVDRecommender: Computing SVD decomposition... done in 3.10 sec\n",
      "EvaluatorHoldout: Processed 10456 (100.0%) in 11.95 sec. Users per second: 875\n"
     ]
    },
    {
     "name": "stderr",
     "output_type": "stream",
     "text": [
      "[I 2023-12-04 18:07:56,558] Trial 102 finished with value: 0.030567802643883615 and parameters: {'num_factors': 90, 'scaling_items': 0.01515966561552211, 'scaling_users': 0.2739463332370428}. Best is trial 96 with value: 0.03224059095711774.\n"
     ]
    },
    {
     "name": "stdout",
     "output_type": "stream",
     "text": [
      "ScaledPureSVDRecommender: URM Detected 627 ( 4.8%) users with no interactions.\n",
      "ScaledPureSVDRecommender: URM Detected 247 ( 1.1%) items with no interactions.\n",
      "ScaledPureSVDRecommender: Computing SVD decomposition...\n",
      "ScaledPureSVDRecommender: Computing SVD decomposition... done in 5.77 sec\n",
      "EvaluatorHoldout: Processed 10456 (100.0%) in 13.03 sec. Users per second: 803\n"
     ]
    },
    {
     "name": "stderr",
     "output_type": "stream",
     "text": [
      "[I 2023-12-04 18:08:15,576] Trial 103 finished with value: 0.032023536269902314 and parameters: {'num_factors': 179, 'scaling_items': 0.013740194447619331, 'scaling_users': 0.30585470379641994}. Best is trial 96 with value: 0.03224059095711774.\n"
     ]
    },
    {
     "name": "stdout",
     "output_type": "stream",
     "text": [
      "ScaledPureSVDRecommender: URM Detected 627 ( 4.8%) users with no interactions.\n",
      "ScaledPureSVDRecommender: URM Detected 247 ( 1.1%) items with no interactions.\n",
      "ScaledPureSVDRecommender: Computing SVD decomposition...\n",
      "ScaledPureSVDRecommender: Computing SVD decomposition... done in 6.54 sec\n",
      "EvaluatorHoldout: Processed 10456 (100.0%) in 14.04 sec. Users per second: 745\n"
     ]
    },
    {
     "name": "stderr",
     "output_type": "stream",
     "text": [
      "[I 2023-12-04 18:08:36,383] Trial 104 finished with value: 0.03224373337705435 and parameters: {'num_factors': 232, 'scaling_items': 0.010046318208207953, 'scaling_users': 0.357293302739396}. Best is trial 104 with value: 0.03224373337705435.\n"
     ]
    },
    {
     "name": "stdout",
     "output_type": "stream",
     "text": [
      "ScaledPureSVDRecommender: URM Detected 627 ( 4.8%) users with no interactions.\n",
      "ScaledPureSVDRecommender: URM Detected 247 ( 1.1%) items with no interactions.\n",
      "ScaledPureSVDRecommender: Computing SVD decomposition...\n",
      "ScaledPureSVDRecommender: Computing SVD decomposition... done in 6.87 sec\n",
      "EvaluatorHoldout: Processed 10456 (100.0%) in 14.08 sec. Users per second: 743\n"
     ]
    },
    {
     "name": "stderr",
     "output_type": "stream",
     "text": [
      "[I 2023-12-04 18:08:57,536] Trial 105 finished with value: 0.03209512879367551 and parameters: {'num_factors': 237, 'scaling_items': 0.011014169624101715, 'scaling_users': 0.4223756918937848}. Best is trial 104 with value: 0.03224373337705435.\n"
     ]
    },
    {
     "name": "stdout",
     "output_type": "stream",
     "text": [
      "ScaledPureSVDRecommender: URM Detected 627 ( 4.8%) users with no interactions.\n",
      "ScaledPureSVDRecommender: URM Detected 247 ( 1.1%) items with no interactions.\n",
      "ScaledPureSVDRecommender: Computing SVD decomposition...\n",
      "ScaledPureSVDRecommender: Computing SVD decomposition... done in 10.91 sec\n",
      "EvaluatorHoldout: Processed 10456 (100.0%) in 15.21 sec. Users per second: 688\n"
     ]
    },
    {
     "name": "stderr",
     "output_type": "stream",
     "text": [
      "[I 2023-12-04 18:09:23,878] Trial 106 finished with value: 0.031975637137027925 and parameters: {'num_factors': 327, 'scaling_items': 0.010986647164365265, 'scaling_users': 0.43853055244475475}. Best is trial 104 with value: 0.03224373337705435.\n"
     ]
    },
    {
     "name": "stdout",
     "output_type": "stream",
     "text": [
      "ScaledPureSVDRecommender: URM Detected 627 ( 4.8%) users with no interactions.\n",
      "ScaledPureSVDRecommender: URM Detected 247 ( 1.1%) items with no interactions.\n",
      "ScaledPureSVDRecommender: Computing SVD decomposition...\n",
      "ScaledPureSVDRecommender: Computing SVD decomposition... done in 8.26 sec\n",
      "EvaluatorHoldout: Processed 10456 (100.0%) in 13.94 sec. Users per second: 750\n"
     ]
    },
    {
     "name": "stderr",
     "output_type": "stream",
     "text": [
      "[I 2023-12-04 18:09:46,292] Trial 107 finished with value: 0.03202175632431022 and parameters: {'num_factors': 245, 'scaling_items': 0.010059088299291549, 'scaling_users': 0.48450188288047197}. Best is trial 104 with value: 0.03224373337705435.\n"
     ]
    },
    {
     "name": "stdout",
     "output_type": "stream",
     "text": [
      "ScaledPureSVDRecommender: URM Detected 627 ( 4.8%) users with no interactions.\n",
      "ScaledPureSVDRecommender: URM Detected 247 ( 1.1%) items with no interactions.\n",
      "ScaledPureSVDRecommender: Computing SVD decomposition...\n",
      "ScaledPureSVDRecommender: Computing SVD decomposition... done in 12.62 sec\n",
      "EvaluatorHoldout: Processed 10456 (100.0%) in 16.44 sec. Users per second: 636\n"
     ]
    },
    {
     "name": "stderr",
     "output_type": "stream",
     "text": [
      "[I 2023-12-04 18:10:15,573] Trial 108 finished with value: 0.031015589894463493 and parameters: {'num_factors': 401, 'scaling_items': 0.012295589283159674, 'scaling_users': 0.38916271905947275}. Best is trial 104 with value: 0.03224373337705435.\n"
     ]
    },
    {
     "name": "stdout",
     "output_type": "stream",
     "text": [
      "ScaledPureSVDRecommender: URM Detected 627 ( 4.8%) users with no interactions.\n",
      "ScaledPureSVDRecommender: URM Detected 247 ( 1.1%) items with no interactions.\n",
      "ScaledPureSVDRecommender: Computing SVD decomposition...\n",
      "ScaledPureSVDRecommender: Computing SVD decomposition... done in 5.99 sec\n",
      "EvaluatorHoldout: Processed 10456 (100.0%) in 13.69 sec. Users per second: 764\n"
     ]
    },
    {
     "name": "stderr",
     "output_type": "stream",
     "text": [
      "[I 2023-12-04 18:10:35,465] Trial 109 finished with value: 0.031489138916214604 and parameters: {'num_factors': 219, 'scaling_items': 0.011156778759499938, 'scaling_users': 0.5585243114451084}. Best is trial 104 with value: 0.03224373337705435.\n"
     ]
    },
    {
     "name": "stdout",
     "output_type": "stream",
     "text": [
      "ScaledPureSVDRecommender: URM Detected 627 ( 4.8%) users with no interactions.\n",
      "ScaledPureSVDRecommender: URM Detected 247 ( 1.1%) items with no interactions.\n",
      "ScaledPureSVDRecommender: Computing SVD decomposition...\n",
      "ScaledPureSVDRecommender: Computing SVD decomposition... done in 8.96 sec\n",
      "EvaluatorHoldout: Processed 10456 (100.0%) in 14.55 sec. Users per second: 719\n"
     ]
    },
    {
     "name": "stderr",
     "output_type": "stream",
     "text": [
      "[I 2023-12-04 18:10:59,173] Trial 110 finished with value: 0.031204267922420537 and parameters: {'num_factors': 284, 'scaling_items': 0.012241671230599866, 'scaling_users': 0.6589110547455642}. Best is trial 104 with value: 0.03224373337705435.\n"
     ]
    },
    {
     "name": "stdout",
     "output_type": "stream",
     "text": [
      "ScaledPureSVDRecommender: URM Detected 627 ( 4.8%) users with no interactions.\n",
      "ScaledPureSVDRecommender: URM Detected 247 ( 1.1%) items with no interactions.\n",
      "ScaledPureSVDRecommender: Computing SVD decomposition...\n",
      "ScaledPureSVDRecommender: Computing SVD decomposition... done in 3.52 sec\n",
      "EvaluatorHoldout: Processed 10456 (100.0%) in 12.55 sec. Users per second: 833\n"
     ]
    },
    {
     "name": "stderr",
     "output_type": "stream",
     "text": [
      "[I 2023-12-04 18:11:15,464] Trial 111 finished with value: 0.03113284997753268 and parameters: {'num_factors': 106, 'scaling_items': 0.01094015543905533, 'scaling_users': 0.3508338421018349}. Best is trial 104 with value: 0.03224373337705435.\n"
     ]
    },
    {
     "name": "stdout",
     "output_type": "stream",
     "text": [
      "ScaledPureSVDRecommender: URM Detected 627 ( 4.8%) users with no interactions.\n",
      "ScaledPureSVDRecommender: URM Detected 247 ( 1.1%) items with no interactions.\n",
      "ScaledPureSVDRecommender: Computing SVD decomposition...\n",
      "ScaledPureSVDRecommender: Computing SVD decomposition... done in 5.81 sec\n",
      "EvaluatorHoldout: Processed 10456 (100.0%) in 12.86 sec. Users per second: 813\n"
     ]
    },
    {
     "name": "stderr",
     "output_type": "stream",
     "text": [
      "[I 2023-12-04 18:11:34,374] Trial 112 finished with value: 0.0319668019273512 and parameters: {'num_factors': 165, 'scaling_items': 0.013182932230407665, 'scaling_users': 0.3558008907226925}. Best is trial 104 with value: 0.03224373337705435.\n"
     ]
    },
    {
     "name": "stdout",
     "output_type": "stream",
     "text": [
      "ScaledPureSVDRecommender: URM Detected 627 ( 4.8%) users with no interactions.\n",
      "ScaledPureSVDRecommender: URM Detected 247 ( 1.1%) items with no interactions.\n",
      "ScaledPureSVDRecommender: Computing SVD decomposition...\n",
      "ScaledPureSVDRecommender: Computing SVD decomposition... done in 7.30 sec\n",
      "EvaluatorHoldout: Processed 10456 (100.0%) in 13.75 sec. Users per second: 760\n"
     ]
    },
    {
     "name": "stderr",
     "output_type": "stream",
     "text": [
      "[I 2023-12-04 18:11:55,654] Trial 113 finished with value: 0.03191578694089242 and parameters: {'num_factors': 199, 'scaling_items': 0.015430766104561885, 'scaling_users': 0.4163426956203785}. Best is trial 104 with value: 0.03224373337705435.\n"
     ]
    },
    {
     "name": "stdout",
     "output_type": "stream",
     "text": [
      "ScaledPureSVDRecommender: URM Detected 627 ( 4.8%) users with no interactions.\n",
      "ScaledPureSVDRecommender: URM Detected 247 ( 1.1%) items with no interactions.\n",
      "ScaledPureSVDRecommender: Computing SVD decomposition...\n",
      "ScaledPureSVDRecommender: Computing SVD decomposition... done in 4.20 sec\n",
      "EvaluatorHoldout: Processed 10456 (100.0%) in 13.38 sec. Users per second: 782\n"
     ]
    },
    {
     "name": "stderr",
     "output_type": "stream",
     "text": [
      "[I 2023-12-04 18:12:13,468] Trial 114 finished with value: 0.03183570457002013 and parameters: {'num_factors': 135, 'scaling_items': 0.013821201620939945, 'scaling_users': 0.30737665797091007}. Best is trial 104 with value: 0.03224373337705435.\n"
     ]
    },
    {
     "name": "stdout",
     "output_type": "stream",
     "text": [
      "ScaledPureSVDRecommender: URM Detected 627 ( 4.8%) users with no interactions.\n",
      "ScaledPureSVDRecommender: URM Detected 247 ( 1.1%) items with no interactions.\n",
      "ScaledPureSVDRecommender: Computing SVD decomposition...\n",
      "ScaledPureSVDRecommender: Computing SVD decomposition... done in 8.96 sec\n",
      "EvaluatorHoldout: Processed 10456 (100.0%) in 15.03 sec. Users per second: 696\n"
     ]
    },
    {
     "name": "stderr",
     "output_type": "stream",
     "text": [
      "[I 2023-12-04 18:12:37,711] Trial 115 finished with value: 0.031574720521975935 and parameters: {'num_factors': 256, 'scaling_items': 0.012096730137590375, 'scaling_users': 0.2723528861331483}. Best is trial 104 with value: 0.03224373337705435.\n"
     ]
    },
    {
     "name": "stdout",
     "output_type": "stream",
     "text": [
      "ScaledPureSVDRecommender: URM Detected 627 ( 4.8%) users with no interactions.\n",
      "ScaledPureSVDRecommender: URM Detected 247 ( 1.1%) items with no interactions.\n",
      "ScaledPureSVDRecommender: Computing SVD decomposition...\n",
      "ScaledPureSVDRecommender: Computing SVD decomposition... done in 5.59 sec\n",
      "EvaluatorHoldout: Processed 10456 (100.0%) in 13.54 sec. Users per second: 772\n"
     ]
    },
    {
     "name": "stderr",
     "output_type": "stream",
     "text": [
      "[I 2023-12-04 18:12:57,097] Trial 116 finished with value: 0.031873109993806464 and parameters: {'num_factors': 158, 'scaling_items': 0.017084105687965073, 'scaling_users': 0.3896081193210665}. Best is trial 104 with value: 0.03224373337705435.\n"
     ]
    },
    {
     "name": "stdout",
     "output_type": "stream",
     "text": [
      "ScaledPureSVDRecommender: URM Detected 627 ( 4.8%) users with no interactions.\n",
      "ScaledPureSVDRecommender: URM Detected 247 ( 1.1%) items with no interactions.\n",
      "ScaledPureSVDRecommender: Computing SVD decomposition...\n",
      "ScaledPureSVDRecommender: Computing SVD decomposition... done in 11.85 sec\n",
      "EvaluatorHoldout: Processed 10456 (100.0%) in 16.30 sec. Users per second: 641\n"
     ]
    },
    {
     "name": "stderr",
     "output_type": "stream",
     "text": [
      "[I 2023-12-04 18:13:25,477] Trial 117 finished with value: 0.031886628471842995 and parameters: {'num_factors': 351, 'scaling_items': 0.01006108237981766, 'scaling_users': 0.5090467933540409}. Best is trial 104 with value: 0.03224373337705435.\n"
     ]
    },
    {
     "name": "stdout",
     "output_type": "stream",
     "text": [
      "ScaledPureSVDRecommender: URM Detected 627 ( 4.8%) users with no interactions.\n",
      "ScaledPureSVDRecommender: URM Detected 247 ( 1.1%) items with no interactions.\n",
      "ScaledPureSVDRecommender: Computing SVD decomposition...\n",
      "ScaledPureSVDRecommender: Computing SVD decomposition... done in 3.04 sec\n",
      "EvaluatorHoldout: Processed 10456 (100.0%) in 15.61 sec. Users per second: 670\n"
     ]
    },
    {
     "name": "stderr",
     "output_type": "stream",
     "text": [
      "[I 2023-12-04 18:13:44,348] Trial 118 finished with value: 0.03070513550357684 and parameters: {'num_factors': 73, 'scaling_items': 0.020030177824214505, 'scaling_users': 0.22628886708168705}. Best is trial 104 with value: 0.03224373337705435.\n"
     ]
    },
    {
     "name": "stdout",
     "output_type": "stream",
     "text": [
      "ScaledPureSVDRecommender: URM Detected 627 ( 4.8%) users with no interactions.\n",
      "ScaledPureSVDRecommender: URM Detected 247 ( 1.1%) items with no interactions.\n",
      "ScaledPureSVDRecommender: Computing SVD decomposition...\n",
      "ScaledPureSVDRecommender: Computing SVD decomposition... done in 8.26 sec\n",
      "EvaluatorHoldout: Processed 10456 (100.0%) in 14.52 sec. Users per second: 720\n"
     ]
    },
    {
     "name": "stderr",
     "output_type": "stream",
     "text": [
      "[I 2023-12-04 18:14:07,369] Trial 119 finished with value: 0.03218200076511134 and parameters: {'num_factors': 210, 'scaling_items': 0.011379362854157634, 'scaling_users': 0.32967432211857195}. Best is trial 104 with value: 0.03224373337705435.\n"
     ]
    },
    {
     "name": "stdout",
     "output_type": "stream",
     "text": [
      "ScaledPureSVDRecommender: URM Detected 627 ( 4.8%) users with no interactions.\n",
      "ScaledPureSVDRecommender: URM Detected 247 ( 1.1%) items with no interactions.\n",
      "ScaledPureSVDRecommender: Computing SVD decomposition...\n",
      "ScaledPureSVDRecommender: Computing SVD decomposition... done in 16.63 sec\n",
      "EvaluatorHoldout: Processed 10456 (100.0%) in 18.48 sec. Users per second: 566\n"
     ]
    },
    {
     "name": "stderr",
     "output_type": "stream",
     "text": [
      "[I 2023-12-04 18:14:42,748] Trial 120 finished with value: 0.031067386690713357 and parameters: {'num_factors': 452, 'scaling_items': 0.010003877743527534, 'scaling_users': 0.44816744864149904}. Best is trial 104 with value: 0.03224373337705435.\n"
     ]
    },
    {
     "name": "stdout",
     "output_type": "stream",
     "text": [
      "ScaledPureSVDRecommender: URM Detected 627 ( 4.8%) users with no interactions.\n",
      "ScaledPureSVDRecommender: URM Detected 247 ( 1.1%) items with no interactions.\n",
      "ScaledPureSVDRecommender: Computing SVD decomposition...\n",
      "ScaledPureSVDRecommender: Computing SVD decomposition... done in 7.87 sec\n",
      "EvaluatorHoldout: Processed 10456 (100.0%) in 15.61 sec. Users per second: 670\n"
     ]
    },
    {
     "name": "stderr",
     "output_type": "stream",
     "text": [
      "[I 2023-12-04 18:15:06,526] Trial 121 finished with value: 0.03205448986531657 and parameters: {'num_factors': 215, 'scaling_items': 0.011259701056215462, 'scaling_users': 0.33149360869712774}. Best is trial 104 with value: 0.03224373337705435.\n"
     ]
    },
    {
     "name": "stdout",
     "output_type": "stream",
     "text": [
      "ScaledPureSVDRecommender: URM Detected 627 ( 4.8%) users with no interactions.\n",
      "ScaledPureSVDRecommender: URM Detected 247 ( 1.1%) items with no interactions.\n",
      "ScaledPureSVDRecommender: Computing SVD decomposition...\n",
      "ScaledPureSVDRecommender: Computing SVD decomposition... done in 6.64 sec\n",
      "EvaluatorHoldout: Processed 10456 (100.0%) in 14.28 sec. Users per second: 732\n"
     ]
    },
    {
     "name": "stderr",
     "output_type": "stream",
     "text": [
      "[I 2023-12-04 18:15:27,661] Trial 122 finished with value: 0.03188077628399016 and parameters: {'num_factors': 214, 'scaling_items': 0.011691220121218173, 'scaling_users': 0.3212167561737005}. Best is trial 104 with value: 0.03224373337705435.\n"
     ]
    },
    {
     "name": "stdout",
     "output_type": "stream",
     "text": [
      "ScaledPureSVDRecommender: URM Detected 627 ( 4.8%) users with no interactions.\n",
      "ScaledPureSVDRecommender: URM Detected 247 ( 1.1%) items with no interactions.\n",
      "ScaledPureSVDRecommender: Computing SVD decomposition...\n",
      "ScaledPureSVDRecommender: Computing SVD decomposition... done in 9.26 sec\n",
      "EvaluatorHoldout: Processed 10456 (100.0%) in 14.79 sec. Users per second: 707\n"
     ]
    },
    {
     "name": "stderr",
     "output_type": "stream",
     "text": [
      "[I 2023-12-04 18:15:51,924] Trial 123 finished with value: 0.03121342951870904 and parameters: {'num_factors': 289, 'scaling_items': 0.012606291034816444, 'scaling_users': 0.2619544942358381}. Best is trial 104 with value: 0.03224373337705435.\n"
     ]
    },
    {
     "name": "stdout",
     "output_type": "stream",
     "text": [
      "ScaledPureSVDRecommender: URM Detected 627 ( 4.8%) users with no interactions.\n",
      "ScaledPureSVDRecommender: URM Detected 247 ( 1.1%) items with no interactions.\n",
      "ScaledPureSVDRecommender: Computing SVD decomposition...\n",
      "ScaledPureSVDRecommender: Computing SVD decomposition... done in 6.17 sec\n",
      "EvaluatorHoldout: Processed 10456 (100.0%) in 12.89 sec. Users per second: 811\n"
     ]
    },
    {
     "name": "stderr",
     "output_type": "stream",
     "text": [
      "[I 2023-12-04 18:16:11,187] Trial 124 finished with value: 0.03213924032377591 and parameters: {'num_factors': 193, 'scaling_items': 0.011021286812343416, 'scaling_users': 0.37537345101909075}. Best is trial 104 with value: 0.03224373337705435.\n"
     ]
    },
    {
     "name": "stdout",
     "output_type": "stream",
     "text": [
      "ScaledPureSVDRecommender: URM Detected 627 ( 4.8%) users with no interactions.\n",
      "ScaledPureSVDRecommender: URM Detected 247 ( 1.1%) items with no interactions.\n",
      "ScaledPureSVDRecommender: Computing SVD decomposition...\n",
      "ScaledPureSVDRecommender: Computing SVD decomposition... done in 8.15 sec\n",
      "EvaluatorHoldout: Processed 10456 (100.0%) in 14.09 sec. Users per second: 742\n"
     ]
    },
    {
     "name": "stderr",
     "output_type": "stream",
     "text": [
      "[I 2023-12-04 18:16:33,663] Trial 125 finished with value: 0.03189299301077263 and parameters: {'num_factors': 245, 'scaling_items': 0.015160736930938981, 'scaling_users': 0.3885734252065891}. Best is trial 104 with value: 0.03224373337705435.\n"
     ]
    },
    {
     "name": "stdout",
     "output_type": "stream",
     "text": [
      "ScaledPureSVDRecommender: URM Detected 627 ( 4.8%) users with no interactions.\n",
      "ScaledPureSVDRecommender: URM Detected 247 ( 1.1%) items with no interactions.\n",
      "ScaledPureSVDRecommender: Computing SVD decomposition...\n",
      "ScaledPureSVDRecommender: Computing SVD decomposition... done in 5.85 sec\n",
      "EvaluatorHoldout: Processed 10456 (100.0%) in 13.07 sec. Users per second: 800\n"
     ]
    },
    {
     "name": "stderr",
     "output_type": "stream",
     "text": [
      "[I 2023-12-04 18:16:52,811] Trial 126 finished with value: 0.032370747106545014 and parameters: {'num_factors': 197, 'scaling_items': 0.010707442323886741, 'scaling_users': 0.362117771622556}. Best is trial 126 with value: 0.032370747106545014.\n"
     ]
    },
    {
     "name": "stdout",
     "output_type": "stream",
     "text": [
      "ScaledPureSVDRecommender: URM Detected 627 ( 4.8%) users with no interactions.\n",
      "ScaledPureSVDRecommender: URM Detected 247 ( 1.1%) items with no interactions.\n",
      "ScaledPureSVDRecommender: Computing SVD decomposition...\n",
      "ScaledPureSVDRecommender: Computing SVD decomposition... done in 3.36 sec\n",
      "EvaluatorHoldout: Processed 10456 (100.0%) in 12.55 sec. Users per second: 833\n"
     ]
    },
    {
     "name": "stderr",
     "output_type": "stream",
     "text": [
      "[I 2023-12-04 18:17:08,938] Trial 127 finished with value: 0.03036605017548998 and parameters: {'num_factors': 104, 'scaling_items': 0.013264306253001127, 'scaling_users': 0.42285154006531966}. Best is trial 126 with value: 0.032370747106545014.\n"
     ]
    },
    {
     "name": "stdout",
     "output_type": "stream",
     "text": [
      "ScaledPureSVDRecommender: URM Detected 627 ( 4.8%) users with no interactions.\n",
      "ScaledPureSVDRecommender: URM Detected 247 ( 1.1%) items with no interactions.\n",
      "ScaledPureSVDRecommender: Computing SVD decomposition...\n",
      "ScaledPureSVDRecommender: Computing SVD decomposition... done in 4.27 sec\n",
      "EvaluatorHoldout: Processed 10456 (100.0%) in 12.26 sec. Users per second: 853\n"
     ]
    },
    {
     "name": "stderr",
     "output_type": "stream",
     "text": [
      "[I 2023-12-04 18:17:25,719] Trial 128 finished with value: 0.03067232605870743 and parameters: {'num_factors': 123, 'scaling_items': 0.010871238750683427, 'scaling_users': 0.4740952713306777}. Best is trial 126 with value: 0.032370747106545014.\n"
     ]
    },
    {
     "name": "stdout",
     "output_type": "stream",
     "text": [
      "ScaledPureSVDRecommender: URM Detected 627 ( 4.8%) users with no interactions.\n",
      "ScaledPureSVDRecommender: URM Detected 247 ( 1.1%) items with no interactions.\n",
      "ScaledPureSVDRecommender: Computing SVD decomposition...\n",
      "ScaledPureSVDRecommender: Computing SVD decomposition... done in 18.66 sec\n",
      "EvaluatorHoldout: Processed 10456 (100.0%) in 17.54 sec. Users per second: 596\n"
     ]
    },
    {
     "name": "stderr",
     "output_type": "stream",
     "text": [
      "[I 2023-12-04 18:18:02,132] Trial 129 finished with value: 0.029826491359104562 and parameters: {'num_factors': 524, 'scaling_items': 0.014416259947959122, 'scaling_users': 0.3558954422493168}. Best is trial 126 with value: 0.032370747106545014.\n"
     ]
    },
    {
     "name": "stdout",
     "output_type": "stream",
     "text": [
      "ScaledPureSVDRecommender: URM Detected 627 ( 4.8%) users with no interactions.\n",
      "ScaledPureSVDRecommender: URM Detected 247 ( 1.1%) items with no interactions.\n",
      "ScaledPureSVDRecommender: Computing SVD decomposition...\n",
      "ScaledPureSVDRecommender: Computing SVD decomposition... done in 12.65 sec\n",
      "EvaluatorHoldout: Processed 10456 (100.0%) in 15.46 sec. Users per second: 676\n"
     ]
    },
    {
     "name": "stderr",
     "output_type": "stream",
     "text": [
      "[I 2023-12-04 18:18:30,457] Trial 130 finished with value: 0.03176484451852686 and parameters: {'num_factors': 358, 'scaling_items': 0.010016944191678076, 'scaling_users': 0.5288566829927878}. Best is trial 126 with value: 0.032370747106545014.\n"
     ]
    },
    {
     "name": "stdout",
     "output_type": "stream",
     "text": [
      "ScaledPureSVDRecommender: URM Detected 627 ( 4.8%) users with no interactions.\n",
      "ScaledPureSVDRecommender: URM Detected 247 ( 1.1%) items with no interactions.\n",
      "ScaledPureSVDRecommender: Computing SVD decomposition...\n",
      "ScaledPureSVDRecommender: Computing SVD decomposition... done in 7.28 sec\n",
      "EvaluatorHoldout: Processed 10456 (100.0%) in 13.86 sec. Users per second: 755\n"
     ]
    },
    {
     "name": "stderr",
     "output_type": "stream",
     "text": [
      "[I 2023-12-04 18:18:51,807] Trial 131 finished with value: 0.03219231230492735 and parameters: {'num_factors': 219, 'scaling_items': 0.011809356441810005, 'scaling_users': 0.33064915335615835}. Best is trial 126 with value: 0.032370747106545014.\n"
     ]
    },
    {
     "name": "stdout",
     "output_type": "stream",
     "text": [
      "ScaledPureSVDRecommender: URM Detected 627 ( 4.8%) users with no interactions.\n",
      "ScaledPureSVDRecommender: URM Detected 247 ( 1.1%) items with no interactions.\n",
      "ScaledPureSVDRecommender: Computing SVD decomposition...\n",
      "ScaledPureSVDRecommender: Computing SVD decomposition... done in 6.83 sec\n",
      "EvaluatorHoldout: Processed 10456 (100.0%) in 13.34 sec. Users per second: 784\n"
     ]
    },
    {
     "name": "stderr",
     "output_type": "stream",
     "text": [
      "[I 2023-12-04 18:19:12,195] Trial 132 finished with value: 0.032080585613485674 and parameters: {'num_factors': 203, 'scaling_items': 0.01231956997185363, 'scaling_users': 0.37545213513822195}. Best is trial 126 with value: 0.032370747106545014.\n"
     ]
    },
    {
     "name": "stdout",
     "output_type": "stream",
     "text": [
      "ScaledPureSVDRecommender: URM Detected 627 ( 4.8%) users with no interactions.\n",
      "ScaledPureSVDRecommender: URM Detected 247 ( 1.1%) items with no interactions.\n",
      "ScaledPureSVDRecommender: Computing SVD decomposition...\n",
      "ScaledPureSVDRecommender: Computing SVD decomposition... done in 5.58 sec\n",
      "EvaluatorHoldout: Processed 10456 (100.0%) in 12.85 sec. Users per second: 814\n"
     ]
    },
    {
     "name": "stderr",
     "output_type": "stream",
     "text": [
      "[I 2023-12-04 18:19:30,828] Trial 133 finished with value: 0.03208953467895734 and parameters: {'num_factors': 186, 'scaling_items': 0.012417592730398575, 'scaling_users': 0.3002920440858148}. Best is trial 126 with value: 0.032370747106545014.\n"
     ]
    },
    {
     "name": "stdout",
     "output_type": "stream",
     "text": [
      "ScaledPureSVDRecommender: URM Detected 627 ( 4.8%) users with no interactions.\n",
      "ScaledPureSVDRecommender: URM Detected 247 ( 1.1%) items with no interactions.\n",
      "ScaledPureSVDRecommender: Computing SVD decomposition...\n",
      "ScaledPureSVDRecommender: Computing SVD decomposition... done in 4.39 sec\n",
      "EvaluatorHoldout: Processed 10456 (100.0%) in 12.64 sec. Users per second: 827\n"
     ]
    },
    {
     "name": "stderr",
     "output_type": "stream",
     "text": [
      "[I 2023-12-04 18:19:48,066] Trial 134 finished with value: 0.031738995457913 and parameters: {'num_factors': 143, 'scaling_items': 0.016147350661818768, 'scaling_users': 0.2989688494295843}. Best is trial 126 with value: 0.032370747106545014.\n"
     ]
    },
    {
     "name": "stdout",
     "output_type": "stream",
     "text": [
      "ScaledPureSVDRecommender: URM Detected 627 ( 4.8%) users with no interactions.\n",
      "ScaledPureSVDRecommender: URM Detected 247 ( 1.1%) items with no interactions.\n",
      "ScaledPureSVDRecommender: Computing SVD decomposition...\n",
      "ScaledPureSVDRecommender: Computing SVD decomposition... done in 6.19 sec\n",
      "EvaluatorHoldout: Processed 10456 (100.0%) in 12.95 sec. Users per second: 807\n"
     ]
    },
    {
     "name": "stderr",
     "output_type": "stream",
     "text": [
      "[I 2023-12-04 18:20:07,426] Trial 135 finished with value: 0.031496057553345426 and parameters: {'num_factors': 193, 'scaling_items': 0.01752186870085731, 'scaling_users': 0.2454674868505365}. Best is trial 126 with value: 0.032370747106545014.\n"
     ]
    },
    {
     "name": "stdout",
     "output_type": "stream",
     "text": [
      "ScaledPureSVDRecommender: URM Detected 627 ( 4.8%) users with no interactions.\n",
      "ScaledPureSVDRecommender: URM Detected 247 ( 1.1%) items with no interactions.\n",
      "ScaledPureSVDRecommender: Computing SVD decomposition...\n",
      "ScaledPureSVDRecommender: Computing SVD decomposition... done in 10.00 sec\n",
      "EvaluatorHoldout: Processed 10456 (100.0%) in 14.81 sec. Users per second: 706\n"
     ]
    },
    {
     "name": "stderr",
     "output_type": "stream",
     "text": [
      "[I 2023-12-04 18:20:32,460] Trial 136 finished with value: 0.03152234685636575 and parameters: {'num_factors': 300, 'scaling_items': 0.013609320824613634, 'scaling_users': 0.3154896613973089}. Best is trial 126 with value: 0.032370747106545014.\n"
     ]
    },
    {
     "name": "stdout",
     "output_type": "stream",
     "text": [
      "ScaledPureSVDRecommender: URM Detected 627 ( 4.8%) users with no interactions.\n",
      "ScaledPureSVDRecommender: URM Detected 247 ( 1.1%) items with no interactions.\n",
      "ScaledPureSVDRecommender: Computing SVD decomposition...\n",
      "ScaledPureSVDRecommender: Computing SVD decomposition... done in 5.16 sec\n",
      "EvaluatorHoldout: Processed 10456 (100.0%) in 13.14 sec. Users per second: 796\n"
     ]
    },
    {
     "name": "stderr",
     "output_type": "stream",
     "text": [
      "[I 2023-12-04 18:20:50,965] Trial 137 finished with value: 0.0320441062168303 and parameters: {'num_factors': 182, 'scaling_items': 0.012033194831838021, 'scaling_users': 0.2782119479648879}. Best is trial 126 with value: 0.032370747106545014.\n"
     ]
    },
    {
     "name": "stdout",
     "output_type": "stream",
     "text": [
      "ScaledPureSVDRecommender: URM Detected 627 ( 4.8%) users with no interactions.\n",
      "ScaledPureSVDRecommender: URM Detected 247 ( 1.1%) items with no interactions.\n",
      "ScaledPureSVDRecommender: Computing SVD decomposition...\n",
      "ScaledPureSVDRecommender: Computing SVD decomposition... done in 4.37 sec\n",
      "EvaluatorHoldout: Processed 10456 (100.0%) in 12.46 sec. Users per second: 839\n"
     ]
    },
    {
     "name": "stderr",
     "output_type": "stream",
     "text": [
      "[I 2023-12-04 18:21:08,022] Trial 138 finished with value: 0.031105008440509844 and parameters: {'num_factors': 137, 'scaling_items': 0.014672137166773146, 'scaling_users': 0.4464826209761819}. Best is trial 126 with value: 0.032370747106545014.\n"
     ]
    },
    {
     "name": "stdout",
     "output_type": "stream",
     "text": [
      "ScaledPureSVDRecommender: URM Detected 627 ( 4.8%) users with no interactions.\n",
      "ScaledPureSVDRecommender: URM Detected 247 ( 1.1%) items with no interactions.\n",
      "ScaledPureSVDRecommender: Computing SVD decomposition...\n",
      "ScaledPureSVDRecommender: Computing SVD decomposition... done in 8.51 sec\n",
      "EvaluatorHoldout: Processed 10456 (100.0%) in 13.39 sec. Users per second: 781\n"
     ]
    },
    {
     "name": "stderr",
     "output_type": "stream",
     "text": [
      "[I 2023-12-04 18:21:30,117] Trial 139 finished with value: 0.03143444259239036 and parameters: {'num_factors': 249, 'scaling_items': 0.023058731119329427, 'scaling_users': 0.34443175588589425}. Best is trial 126 with value: 0.032370747106545014.\n"
     ]
    },
    {
     "name": "stdout",
     "output_type": "stream",
     "text": [
      "ScaledPureSVDRecommender: URM Detected 627 ( 4.8%) users with no interactions.\n",
      "ScaledPureSVDRecommender: URM Detected 247 ( 1.1%) items with no interactions.\n",
      "ScaledPureSVDRecommender: Computing SVD decomposition...\n",
      "ScaledPureSVDRecommender: Computing SVD decomposition... done in 2.99 sec\n",
      "EvaluatorHoldout: Processed 10456 (100.0%) in 12.25 sec. Users per second: 853\n"
     ]
    },
    {
     "name": "stderr",
     "output_type": "stream",
     "text": [
      "[I 2023-12-04 18:21:45,583] Trial 140 finished with value: 0.031079106247191898 and parameters: {'num_factors': 90, 'scaling_items': 0.011097214037808101, 'scaling_users': 0.25913532099551306}. Best is trial 126 with value: 0.032370747106545014.\n"
     ]
    },
    {
     "name": "stdout",
     "output_type": "stream",
     "text": [
      "ScaledPureSVDRecommender: URM Detected 627 ( 4.8%) users with no interactions.\n",
      "ScaledPureSVDRecommender: URM Detected 247 ( 1.1%) items with no interactions.\n",
      "ScaledPureSVDRecommender: Computing SVD decomposition...\n",
      "ScaledPureSVDRecommender: Computing SVD decomposition... done in 6.17 sec\n",
      "EvaluatorHoldout: Processed 10456 (100.0%) in 13.72 sec. Users per second: 762\n"
     ]
    },
    {
     "name": "stderr",
     "output_type": "stream",
     "text": [
      "[I 2023-12-04 18:22:05,690] Trial 141 finished with value: 0.0321091672131748 and parameters: {'num_factors': 187, 'scaling_items': 0.012605389686535991, 'scaling_users': 0.3731791388420514}. Best is trial 126 with value: 0.032370747106545014.\n"
     ]
    },
    {
     "name": "stdout",
     "output_type": "stream",
     "text": [
      "ScaledPureSVDRecommender: URM Detected 627 ( 4.8%) users with no interactions.\n",
      "ScaledPureSVDRecommender: URM Detected 247 ( 1.1%) items with no interactions.\n",
      "ScaledPureSVDRecommender: Computing SVD decomposition...\n",
      "ScaledPureSVDRecommender: Computing SVD decomposition... done in 6.19 sec\n",
      "EvaluatorHoldout: Processed 10456 (100.0%) in 12.79 sec. Users per second: 817\n"
     ]
    },
    {
     "name": "stderr",
     "output_type": "stream",
     "text": [
      "[I 2023-12-04 18:22:24,880] Trial 142 finished with value: 0.0316657102779906 and parameters: {'num_factors': 172, 'scaling_items': 0.013038166789184033, 'scaling_users': 0.4118144035322968}. Best is trial 126 with value: 0.032370747106545014.\n"
     ]
    },
    {
     "name": "stdout",
     "output_type": "stream",
     "text": [
      "ScaledPureSVDRecommender: URM Detected 627 ( 4.8%) users with no interactions.\n",
      "ScaledPureSVDRecommender: URM Detected 247 ( 1.1%) items with no interactions.\n",
      "ScaledPureSVDRecommender: Computing SVD decomposition...\n",
      "ScaledPureSVDRecommender: Computing SVD decomposition... done in 8.44 sec\n",
      "EvaluatorHoldout: Processed 10456 (100.0%) in 14.29 sec. Users per second: 732\n"
     ]
    },
    {
     "name": "stderr",
     "output_type": "stream",
     "text": [
      "[I 2023-12-04 18:22:47,832] Trial 143 finished with value: 0.0315236599931992 and parameters: {'num_factors': 276, 'scaling_items': 0.011876510325048516, 'scaling_users': 0.3186863208389647}. Best is trial 126 with value: 0.032370747106545014.\n"
     ]
    },
    {
     "name": "stdout",
     "output_type": "stream",
     "text": [
      "ScaledPureSVDRecommender: URM Detected 627 ( 4.8%) users with no interactions.\n",
      "ScaledPureSVDRecommender: URM Detected 247 ( 1.1%) items with no interactions.\n",
      "ScaledPureSVDRecommender: Computing SVD decomposition...\n",
      "ScaledPureSVDRecommender: Computing SVD decomposition... done in 4.39 sec\n",
      "EvaluatorHoldout: Processed 10456 (100.0%) in 12.10 sec. Users per second: 864\n"
     ]
    },
    {
     "name": "stderr",
     "output_type": "stream",
     "text": [
      "[I 2023-12-04 18:23:04,533] Trial 144 finished with value: 0.031160334766398467 and parameters: {'num_factors': 114, 'scaling_items': 0.015170839342904254, 'scaling_users': 0.3666919521830483}. Best is trial 126 with value: 0.032370747106545014.\n"
     ]
    },
    {
     "name": "stdout",
     "output_type": "stream",
     "text": [
      "ScaledPureSVDRecommender: URM Detected 627 ( 4.8%) users with no interactions.\n",
      "ScaledPureSVDRecommender: URM Detected 247 ( 1.1%) items with no interactions.\n",
      "ScaledPureSVDRecommender: Computing SVD decomposition...\n",
      "ScaledPureSVDRecommender: Computing SVD decomposition... done in 4.96 sec\n",
      "EvaluatorHoldout: Processed 10456 (100.0%) in 12.92 sec. Users per second: 809\n"
     ]
    },
    {
     "name": "stderr",
     "output_type": "stream",
     "text": [
      "[I 2023-12-04 18:23:22,644] Trial 145 finished with value: 0.032363346479882836 and parameters: {'num_factors': 151, 'scaling_items': 0.010881635365713328, 'scaling_users': 0.289953034532728}. Best is trial 126 with value: 0.032370747106545014.\n"
     ]
    },
    {
     "name": "stdout",
     "output_type": "stream",
     "text": [
      "ScaledPureSVDRecommender: URM Detected 627 ( 4.8%) users with no interactions.\n",
      "ScaledPureSVDRecommender: URM Detected 247 ( 1.1%) items with no interactions.\n",
      "ScaledPureSVDRecommender: Computing SVD decomposition...\n",
      "ScaledPureSVDRecommender: Computing SVD decomposition... done in 4.48 sec\n",
      "EvaluatorHoldout: Processed 10456 (100.0%) in 12.46 sec. Users per second: 839\n"
     ]
    },
    {
     "name": "stderr",
     "output_type": "stream",
     "text": [
      "[I 2023-12-04 18:23:39,799] Trial 146 finished with value: 0.03196698409662277 and parameters: {'num_factors': 137, 'scaling_items': 0.010837539840184984, 'scaling_users': 0.20131891705085656}. Best is trial 126 with value: 0.032370747106545014.\n"
     ]
    },
    {
     "name": "stdout",
     "output_type": "stream",
     "text": [
      "ScaledPureSVDRecommender: URM Detected 627 ( 4.8%) users with no interactions.\n",
      "ScaledPureSVDRecommender: URM Detected 247 ( 1.1%) items with no interactions.\n",
      "ScaledPureSVDRecommender: Computing SVD decomposition...\n",
      "ScaledPureSVDRecommender: Computing SVD decomposition... done in 6.37 sec\n",
      "EvaluatorHoldout: Processed 10456 (100.0%) in 13.43 sec. Users per second: 779\n"
     ]
    },
    {
     "name": "stderr",
     "output_type": "stream",
     "text": [
      "[I 2023-12-04 18:23:59,819] Trial 147 finished with value: 0.029369868898847757 and parameters: {'num_factors': 191, 'scaling_items': 0.0781725323476441, 'scaling_users': 0.2912933950802036}. Best is trial 126 with value: 0.032370747106545014.\n"
     ]
    },
    {
     "name": "stdout",
     "output_type": "stream",
     "text": [
      "ScaledPureSVDRecommender: URM Detected 627 ( 4.8%) users with no interactions.\n",
      "ScaledPureSVDRecommender: URM Detected 247 ( 1.1%) items with no interactions.\n",
      "ScaledPureSVDRecommender: Computing SVD decomposition...\n",
      "ScaledPureSVDRecommender: Computing SVD decomposition... done in 10.45 sec\n",
      "EvaluatorHoldout: Processed 10456 (100.0%) in 15.85 sec. Users per second: 660\n"
     ]
    },
    {
     "name": "stderr",
     "output_type": "stream",
     "text": [
      "[I 2023-12-04 18:24:26,327] Trial 148 finished with value: 0.030479708620250196 and parameters: {'num_factors': 340, 'scaling_items': 0.012848860781318833, 'scaling_users': 0.21871698838573592}. Best is trial 126 with value: 0.032370747106545014.\n"
     ]
    },
    {
     "name": "stdout",
     "output_type": "stream",
     "text": [
      "ScaledPureSVDRecommender: URM Detected 627 ( 4.8%) users with no interactions.\n",
      "ScaledPureSVDRecommender: URM Detected 247 ( 1.1%) items with no interactions.\n",
      "ScaledPureSVDRecommender: Computing SVD decomposition...\n",
      "ScaledPureSVDRecommender: Computing SVD decomposition... done in 6.91 sec\n",
      "EvaluatorHoldout: Processed 10456 (100.0%) in 14.02 sec. Users per second: 746\n"
     ]
    },
    {
     "name": "stderr",
     "output_type": "stream",
     "text": [
      "[I 2023-12-04 18:24:47,470] Trial 149 finished with value: 0.032189473500443676 and parameters: {'num_factors': 237, 'scaling_items': 0.010975526825062502, 'scaling_users': 0.42172597149657837}. Best is trial 126 with value: 0.032370747106545014.\n"
     ]
    },
    {
     "name": "stdout",
     "output_type": "stream",
     "text": [
      "ScaledPureSVDRecommender: URM Detected 627 ( 4.8%) users with no interactions.\n",
      "ScaledPureSVDRecommender: URM Detected 247 ( 1.1%) items with no interactions.\n",
      "ScaledPureSVDRecommender: Computing SVD decomposition...\n",
      "ScaledPureSVDRecommender: Computing SVD decomposition... done in 8.25 sec\n",
      "EvaluatorHoldout: Processed 10456 (100.0%) in 15.04 sec. Users per second: 695\n"
     ]
    },
    {
     "name": "stderr",
     "output_type": "stream",
     "text": [
      "[I 2023-12-04 18:25:10,957] Trial 150 finished with value: 0.03178358518235177 and parameters: {'num_factors': 264, 'scaling_items': 0.010959112356920389, 'scaling_users': 0.48821357273732974}. Best is trial 126 with value: 0.032370747106545014.\n"
     ]
    },
    {
     "name": "stdout",
     "output_type": "stream",
     "text": [
      "ScaledPureSVDRecommender: URM Detected 627 ( 4.8%) users with no interactions.\n",
      "ScaledPureSVDRecommender: URM Detected 247 ( 1.1%) items with no interactions.\n",
      "ScaledPureSVDRecommender: Computing SVD decomposition...\n",
      "ScaledPureSVDRecommender: Computing SVD decomposition... done in 6.55 sec\n",
      "EvaluatorHoldout: Processed 10456 (100.0%) in 14.31 sec. Users per second: 730\n"
     ]
    },
    {
     "name": "stderr",
     "output_type": "stream",
     "text": [
      "[I 2023-12-04 18:25:32,031] Trial 151 finished with value: 0.031785626996271917 and parameters: {'num_factors': 237, 'scaling_items': 0.011764105844222904, 'scaling_users': 0.4004972294040711}. Best is trial 126 with value: 0.032370747106545014.\n"
     ]
    },
    {
     "name": "stdout",
     "output_type": "stream",
     "text": [
      "ScaledPureSVDRecommender: URM Detected 627 ( 4.8%) users with no interactions.\n",
      "ScaledPureSVDRecommender: URM Detected 247 ( 1.1%) items with no interactions.\n",
      "ScaledPureSVDRecommender: Computing SVD decomposition...\n",
      "ScaledPureSVDRecommender: Computing SVD decomposition... done in 6.10 sec\n",
      "EvaluatorHoldout: Processed 10456 (100.0%) in 13.69 sec. Users per second: 764\n"
     ]
    },
    {
     "name": "stderr",
     "output_type": "stream",
     "text": [
      "[I 2023-12-04 18:25:52,050] Trial 152 finished with value: 0.03190957800488237 and parameters: {'num_factors': 208, 'scaling_items': 0.01273974340156771, 'scaling_users': 0.3373668859855431}. Best is trial 126 with value: 0.032370747106545014.\n"
     ]
    },
    {
     "name": "stdout",
     "output_type": "stream",
     "text": [
      "ScaledPureSVDRecommender: URM Detected 627 ( 4.8%) users with no interactions.\n",
      "ScaledPureSVDRecommender: URM Detected 247 ( 1.1%) items with no interactions.\n",
      "ScaledPureSVDRecommender: Computing SVD decomposition...\n",
      "ScaledPureSVDRecommender: Computing SVD decomposition... done in 5.37 sec\n",
      "EvaluatorHoldout: Processed 10456 (100.0%) in 13.03 sec. Users per second: 802\n"
     ]
    },
    {
     "name": "stderr",
     "output_type": "stream",
     "text": [
      "[I 2023-12-04 18:26:10,681] Trial 153 finished with value: 0.03156683790578234 and parameters: {'num_factors': 159, 'scaling_items': 0.010845415155281521, 'scaling_users': 0.4275188947707198}. Best is trial 126 with value: 0.032370747106545014.\n"
     ]
    },
    {
     "name": "stdout",
     "output_type": "stream",
     "text": [
      "ScaledPureSVDRecommender: URM Detected 627 ( 4.8%) users with no interactions.\n",
      "ScaledPureSVDRecommender: URM Detected 247 ( 1.1%) items with no interactions.\n",
      "ScaledPureSVDRecommender: Computing SVD decomposition...\n",
      "ScaledPureSVDRecommender: Computing SVD decomposition... done in 5.18 sec\n",
      "EvaluatorHoldout: Processed 10456 (100.0%) in 12.89 sec. Users per second: 811\n"
     ]
    },
    {
     "name": "stderr",
     "output_type": "stream",
     "text": [
      "[I 2023-12-04 18:26:28,947] Trial 154 finished with value: 0.032150963675447536 and parameters: {'num_factors': 153, 'scaling_items': 0.011746861216922259, 'scaling_users': 0.3099685466407253}. Best is trial 126 with value: 0.032370747106545014.\n"
     ]
    },
    {
     "name": "stdout",
     "output_type": "stream",
     "text": [
      "ScaledPureSVDRecommender: URM Detected 627 ( 4.8%) users with no interactions.\n",
      "ScaledPureSVDRecommender: URM Detected 247 ( 1.1%) items with no interactions.\n",
      "ScaledPureSVDRecommender: Computing SVD decomposition...\n",
      "ScaledPureSVDRecommender: Computing SVD decomposition... done in 4.79 sec\n",
      "EvaluatorHoldout: Processed 10456 (100.0%) in 12.26 sec. Users per second: 853\n"
     ]
    },
    {
     "name": "stderr",
     "output_type": "stream",
     "text": [
      "[I 2023-12-04 18:26:46,210] Trial 155 finished with value: 0.03123997309967124 and parameters: {'num_factors': 118, 'scaling_items': 0.013837707455819326, 'scaling_users': 0.3678821642407931}. Best is trial 126 with value: 0.032370747106545014.\n"
     ]
    },
    {
     "name": "stdout",
     "output_type": "stream",
     "text": [
      "ScaledPureSVDRecommender: URM Detected 627 ( 4.8%) users with no interactions.\n",
      "ScaledPureSVDRecommender: URM Detected 247 ( 1.1%) items with no interactions.\n",
      "ScaledPureSVDRecommender: Computing SVD decomposition...\n",
      "ScaledPureSVDRecommender: Computing SVD decomposition... done in 4.47 sec\n",
      "EvaluatorHoldout: Processed 10456 (100.0%) in 12.48 sec. Users per second: 838\n"
     ]
    },
    {
     "name": "stderr",
     "output_type": "stream",
     "text": [
      "[I 2023-12-04 18:27:03,363] Trial 156 finished with value: 0.030383546015958315 and parameters: {'num_factors': 143, 'scaling_items': 0.011569162004390262, 'scaling_users': 0.5909363663070683}. Best is trial 126 with value: 0.032370747106545014.\n"
     ]
    },
    {
     "name": "stdout",
     "output_type": "stream",
     "text": [
      "ScaledPureSVDRecommender: URM Detected 627 ( 4.8%) users with no interactions.\n",
      "ScaledPureSVDRecommender: URM Detected 247 ( 1.1%) items with no interactions.\n",
      "ScaledPureSVDRecommender: Computing SVD decomposition...\n",
      "ScaledPureSVDRecommender: Computing SVD decomposition... done in 9.93 sec\n",
      "EvaluatorHoldout: Processed 10456 (100.0%) in 15.23 sec. Users per second: 686\n"
     ]
    },
    {
     "name": "stderr",
     "output_type": "stream",
     "text": [
      "[I 2023-12-04 18:27:28,762] Trial 157 finished with value: 0.030885672842205236 and parameters: {'num_factors': 310, 'scaling_items': 0.01003859326981667, 'scaling_users': 0.24823809770751884}. Best is trial 126 with value: 0.032370747106545014.\n"
     ]
    },
    {
     "name": "stdout",
     "output_type": "stream",
     "text": [
      "ScaledPureSVDRecommender: URM Detected 627 ( 4.8%) users with no interactions.\n",
      "ScaledPureSVDRecommender: URM Detected 247 ( 1.1%) items with no interactions.\n",
      "ScaledPureSVDRecommender: Computing SVD decomposition...\n",
      "ScaledPureSVDRecommender: Computing SVD decomposition... done in 3.32 sec\n",
      "EvaluatorHoldout: Processed 10456 (100.0%) in 12.36 sec. Users per second: 846\n"
     ]
    },
    {
     "name": "stderr",
     "output_type": "stream",
     "text": [
      "[I 2023-12-04 18:27:44,658] Trial 158 finished with value: 0.03090048927630255 and parameters: {'num_factors': 99, 'scaling_items': 0.01641918608852658, 'scaling_users': 0.3253908320839597}. Best is trial 126 with value: 0.032370747106545014.\n"
     ]
    },
    {
     "name": "stdout",
     "output_type": "stream",
     "text": [
      "ScaledPureSVDRecommender: URM Detected 627 ( 4.8%) users with no interactions.\n",
      "ScaledPureSVDRecommender: URM Detected 247 ( 1.1%) items with no interactions.\n",
      "ScaledPureSVDRecommender: Computing SVD decomposition...\n",
      "ScaledPureSVDRecommender: Computing SVD decomposition... done in 6.72 sec\n",
      "EvaluatorHoldout: Processed 10456 (100.0%) in 13.81 sec. Users per second: 757\n"
     ]
    },
    {
     "name": "stderr",
     "output_type": "stream",
     "text": [
      "[I 2023-12-04 18:28:05,406] Trial 159 finished with value: 0.03198231288179677 and parameters: {'num_factors': 224, 'scaling_items': 0.010859770901865459, 'scaling_users': 0.2793624695991876}. Best is trial 126 with value: 0.032370747106545014.\n"
     ]
    },
    {
     "name": "stdout",
     "output_type": "stream",
     "text": [
      "ScaledPureSVDRecommender: URM Detected 627 ( 4.8%) users with no interactions.\n",
      "ScaledPureSVDRecommender: URM Detected 247 ( 1.1%) items with no interactions.\n",
      "ScaledPureSVDRecommender: Computing SVD decomposition...\n",
      "ScaledPureSVDRecommender: Computing SVD decomposition... done in 13.02 sec\n",
      "EvaluatorHoldout: Processed 10456 (100.0%) in 15.98 sec. Users per second: 654\n"
     ]
    },
    {
     "name": "stderr",
     "output_type": "stream",
     "text": [
      "[I 2023-12-04 18:28:34,635] Trial 160 finished with value: 0.031137161316962706 and parameters: {'num_factors': 414, 'scaling_items': 0.01380355510186333, 'scaling_users': 0.4597302553653818}. Best is trial 126 with value: 0.032370747106545014.\n"
     ]
    },
    {
     "name": "stdout",
     "output_type": "stream",
     "text": [
      "ScaledPureSVDRecommender: URM Detected 627 ( 4.8%) users with no interactions.\n",
      "ScaledPureSVDRecommender: URM Detected 247 ( 1.1%) items with no interactions.\n",
      "ScaledPureSVDRecommender: Computing SVD decomposition...\n",
      "ScaledPureSVDRecommender: Computing SVD decomposition... done in 6.70 sec\n",
      "EvaluatorHoldout: Processed 10456 (100.0%) in 12.75 sec. Users per second: 820\n"
     ]
    },
    {
     "name": "stderr",
     "output_type": "stream",
     "text": [
      "[I 2023-12-04 18:28:54,290] Trial 161 finished with value: 0.03246891357282551 and parameters: {'num_factors': 177, 'scaling_items': 0.012617702531093247, 'scaling_users': 0.3028728175676322}. Best is trial 161 with value: 0.03246891357282551.\n"
     ]
    },
    {
     "name": "stdout",
     "output_type": "stream",
     "text": [
      "ScaledPureSVDRecommender: URM Detected 627 ( 4.8%) users with no interactions.\n",
      "ScaledPureSVDRecommender: URM Detected 247 ( 1.1%) items with no interactions.\n",
      "ScaledPureSVDRecommender: Computing SVD decomposition...\n",
      "ScaledPureSVDRecommender: Computing SVD decomposition... done in 5.35 sec\n",
      "EvaluatorHoldout: Processed 10456 (100.0%) in 12.96 sec. Users per second: 807\n"
     ]
    },
    {
     "name": "stderr",
     "output_type": "stream",
     "text": [
      "[I 2023-12-04 18:29:12,802] Trial 162 finished with value: 0.03209150817940065 and parameters: {'num_factors': 163, 'scaling_items': 0.011958579655518987, 'scaling_users': 0.38017014146816885}. Best is trial 161 with value: 0.03246891357282551.\n"
     ]
    },
    {
     "name": "stdout",
     "output_type": "stream",
     "text": [
      "ScaledPureSVDRecommender: URM Detected 627 ( 4.8%) users with no interactions.\n",
      "ScaledPureSVDRecommender: URM Detected 247 ( 1.1%) items with no interactions.\n",
      "ScaledPureSVDRecommender: Computing SVD decomposition...\n",
      "ScaledPureSVDRecommender: Computing SVD decomposition... done in 6.02 sec\n",
      "EvaluatorHoldout: Processed 10456 (100.0%) in 12.96 sec. Users per second: 807\n"
     ]
    },
    {
     "name": "stderr",
     "output_type": "stream",
     "text": [
      "[I 2023-12-04 18:29:31,996] Trial 163 finished with value: 0.03222358090137388 and parameters: {'num_factors': 193, 'scaling_items': 0.012920774263113045, 'scaling_users': 0.31602038256909937}. Best is trial 161 with value: 0.03246891357282551.\n"
     ]
    },
    {
     "name": "stdout",
     "output_type": "stream",
     "text": [
      "ScaledPureSVDRecommender: URM Detected 627 ( 4.8%) users with no interactions.\n",
      "ScaledPureSVDRecommender: URM Detected 247 ( 1.1%) items with no interactions.\n",
      "ScaledPureSVDRecommender: Computing SVD decomposition...\n",
      "ScaledPureSVDRecommender: Computing SVD decomposition... done in 5.35 sec\n",
      "EvaluatorHoldout: Processed 10456 (100.0%) in 13.44 sec. Users per second: 778\n"
     ]
    },
    {
     "name": "stderr",
     "output_type": "stream",
     "text": [
      "[I 2023-12-04 18:29:51,014] Trial 164 finished with value: 0.03226073584241183 and parameters: {'num_factors': 184, 'scaling_items': 0.014673141672865082, 'scaling_users': 0.30964001753581266}. Best is trial 161 with value: 0.03246891357282551.\n"
     ]
    },
    {
     "name": "stdout",
     "output_type": "stream",
     "text": [
      "ScaledPureSVDRecommender: URM Detected 627 ( 4.8%) users with no interactions.\n",
      "ScaledPureSVDRecommender: URM Detected 247 ( 1.1%) items with no interactions.\n",
      "ScaledPureSVDRecommender: Computing SVD decomposition...\n",
      "ScaledPureSVDRecommender: Computing SVD decomposition... done in 3.88 sec\n",
      "EvaluatorHoldout: Processed 10456 (100.0%) in 13.46 sec. Users per second: 777\n"
     ]
    },
    {
     "name": "stderr",
     "output_type": "stream",
     "text": [
      "[I 2023-12-04 18:30:08,565] Trial 165 finished with value: 0.03151842262663838 and parameters: {'num_factors': 122, 'scaling_items': 0.018763633470643228, 'scaling_users': 0.3390047355849592}. Best is trial 161 with value: 0.03246891357282551.\n"
     ]
    },
    {
     "name": "stdout",
     "output_type": "stream",
     "text": [
      "ScaledPureSVDRecommender: URM Detected 627 ( 4.8%) users with no interactions.\n",
      "ScaledPureSVDRecommender: URM Detected 247 ( 1.1%) items with no interactions.\n",
      "ScaledPureSVDRecommender: Computing SVD decomposition...\n",
      "ScaledPureSVDRecommender: Computing SVD decomposition... done in 6.25 sec\n",
      "EvaluatorHoldout: Processed 10456 (100.0%) in 13.25 sec. Users per second: 789\n"
     ]
    },
    {
     "name": "stderr",
     "output_type": "stream",
     "text": [
      "[I 2023-12-04 18:30:28,272] Trial 166 finished with value: 0.03208818738538552 and parameters: {'num_factors': 192, 'scaling_items': 0.013206012995106289, 'scaling_users': 0.30079166752145986}. Best is trial 161 with value: 0.03246891357282551.\n"
     ]
    },
    {
     "name": "stdout",
     "output_type": "stream",
     "text": [
      "ScaledPureSVDRecommender: URM Detected 627 ( 4.8%) users with no interactions.\n",
      "ScaledPureSVDRecommender: URM Detected 247 ( 1.1%) items with no interactions.\n",
      "ScaledPureSVDRecommender: Computing SVD decomposition...\n",
      "ScaledPureSVDRecommender: Computing SVD decomposition... done in 4.54 sec\n",
      "EvaluatorHoldout: Processed 10456 (100.0%) in 12.96 sec. Users per second: 807\n"
     ]
    },
    {
     "name": "stderr",
     "output_type": "stream",
     "text": [
      "[I 2023-12-04 18:30:45,972] Trial 167 finished with value: 0.031666556606065224 and parameters: {'num_factors': 148, 'scaling_items': 0.010013402310195695, 'scaling_users': 0.3267208780456535}. Best is trial 161 with value: 0.03246891357282551.\n"
     ]
    },
    {
     "name": "stdout",
     "output_type": "stream",
     "text": [
      "ScaledPureSVDRecommender: URM Detected 627 ( 4.8%) users with no interactions.\n",
      "ScaledPureSVDRecommender: URM Detected 247 ( 1.1%) items with no interactions.\n",
      "ScaledPureSVDRecommender: Computing SVD decomposition...\n",
      "ScaledPureSVDRecommender: Computing SVD decomposition... done in 9.13 sec\n",
      "EvaluatorHoldout: Processed 10456 (100.0%) in 14.65 sec. Users per second: 714\n"
     ]
    },
    {
     "name": "stderr",
     "output_type": "stream",
     "text": [
      "[I 2023-12-04 18:31:09,975] Trial 168 finished with value: 0.031087197599009225 and parameters: {'num_factors': 278, 'scaling_items': 0.014738683011330862, 'scaling_users': 0.2611664692192}. Best is trial 161 with value: 0.03246891357282551.\n"
     ]
    },
    {
     "name": "stdout",
     "output_type": "stream",
     "text": [
      "ScaledPureSVDRecommender: URM Detected 627 ( 4.8%) users with no interactions.\n",
      "ScaledPureSVDRecommender: URM Detected 247 ( 1.1%) items with no interactions.\n",
      "ScaledPureSVDRecommender: Computing SVD decomposition...\n",
      "ScaledPureSVDRecommender: Computing SVD decomposition... done in 7.31 sec\n",
      "EvaluatorHoldout: Processed 10456 (100.0%) in 14.16 sec. Users per second: 738\n"
     ]
    },
    {
     "name": "stderr",
     "output_type": "stream",
     "text": [
      "[I 2023-12-04 18:31:31,657] Trial 169 finished with value: 0.03211458674900766 and parameters: {'num_factors': 223, 'scaling_items': 0.012695665005150717, 'scaling_users': 0.36518231311821925}. Best is trial 161 with value: 0.03246891357282551.\n"
     ]
    },
    {
     "name": "stdout",
     "output_type": "stream",
     "text": [
      "ScaledPureSVDRecommender: URM Detected 627 ( 4.8%) users with no interactions.\n",
      "ScaledPureSVDRecommender: URM Detected 247 ( 1.1%) items with no interactions.\n",
      "ScaledPureSVDRecommender: Computing SVD decomposition...\n",
      "ScaledPureSVDRecommender: Computing SVD decomposition... done in 6.38 sec\n",
      "EvaluatorHoldout: Processed 10456 (100.0%) in 14.17 sec. Users per second: 738\n"
     ]
    },
    {
     "name": "stderr",
     "output_type": "stream",
     "text": [
      "[I 2023-12-04 18:31:52,416] Trial 170 finished with value: 0.03145560838464459 and parameters: {'num_factors': 224, 'scaling_items': 0.011633450969924878, 'scaling_users': 0.23172912892645336}. Best is trial 161 with value: 0.03246891357282551.\n"
     ]
    },
    {
     "name": "stdout",
     "output_type": "stream",
     "text": [
      "ScaledPureSVDRecommender: URM Detected 627 ( 4.8%) users with no interactions.\n",
      "ScaledPureSVDRecommender: URM Detected 247 ( 1.1%) items with no interactions.\n",
      "ScaledPureSVDRecommender: Computing SVD decomposition...\n",
      "ScaledPureSVDRecommender: Computing SVD decomposition... done in 6.08 sec\n",
      "EvaluatorHoldout: Processed 10456 (100.0%) in 13.04 sec. Users per second: 802\n"
     ]
    },
    {
     "name": "stderr",
     "output_type": "stream",
     "text": [
      "[I 2023-12-04 18:32:11,750] Trial 171 finished with value: 0.027167601802261482 and parameters: {'num_factors': 176, 'scaling_items': 0.14212025635400644, 'scaling_users': 0.3600611299788208}. Best is trial 161 with value: 0.03246891357282551.\n"
     ]
    },
    {
     "name": "stdout",
     "output_type": "stream",
     "text": [
      "ScaledPureSVDRecommender: URM Detected 627 ( 4.8%) users with no interactions.\n",
      "ScaledPureSVDRecommender: URM Detected 247 ( 1.1%) items with no interactions.\n",
      "ScaledPureSVDRecommender: Computing SVD decomposition...\n",
      "ScaledPureSVDRecommender: Computing SVD decomposition... done in 7.20 sec\n",
      "EvaluatorHoldout: Processed 10456 (100.0%) in 13.39 sec. Users per second: 781\n"
     ]
    },
    {
     "name": "stderr",
     "output_type": "stream",
     "text": [
      "[I 2023-12-04 18:32:32,554] Trial 172 finished with value: 0.03193743472267799 and parameters: {'num_factors': 205, 'scaling_items': 0.012710245119350854, 'scaling_users': 0.3126502464725934}. Best is trial 161 with value: 0.03246891357282551.\n"
     ]
    },
    {
     "name": "stdout",
     "output_type": "stream",
     "text": [
      "ScaledPureSVDRecommender: URM Detected 627 ( 4.8%) users with no interactions.\n",
      "ScaledPureSVDRecommender: URM Detected 247 ( 1.1%) items with no interactions.\n",
      "ScaledPureSVDRecommender: Computing SVD decomposition...\n",
      "ScaledPureSVDRecommender: Computing SVD decomposition... done in 5.58 sec\n",
      "EvaluatorHoldout: Processed 10456 (100.0%) in 12.89 sec. Users per second: 811\n"
     ]
    },
    {
     "name": "stderr",
     "output_type": "stream",
     "text": [
      "[I 2023-12-04 18:32:51,269] Trial 173 finished with value: 0.031812364132085165 and parameters: {'num_factors': 150, 'scaling_items': 0.014240938272500763, 'scaling_users': 0.4000921832266274}. Best is trial 161 with value: 0.03246891357282551.\n"
     ]
    },
    {
     "name": "stdout",
     "output_type": "stream",
     "text": [
      "ScaledPureSVDRecommender: URM Detected 627 ( 4.8%) users with no interactions.\n",
      "ScaledPureSVDRecommender: URM Detected 247 ( 1.1%) items with no interactions.\n",
      "ScaledPureSVDRecommender: Computing SVD decomposition...\n",
      "ScaledPureSVDRecommender: Computing SVD decomposition... done in 8.24 sec\n",
      "EvaluatorHoldout: Processed 10456 (100.0%) in 14.49 sec. Users per second: 722\n"
     ]
    },
    {
     "name": "stderr",
     "output_type": "stream",
     "text": [
      "[I 2023-12-04 18:33:14,255] Trial 174 finished with value: 0.03152211155438991 and parameters: {'num_factors': 256, 'scaling_items': 0.012372217409823272, 'scaling_users': 0.283525060265219}. Best is trial 161 with value: 0.03246891357282551.\n"
     ]
    },
    {
     "name": "stdout",
     "output_type": "stream",
     "text": [
      "ScaledPureSVDRecommender: URM Detected 627 ( 4.8%) users with no interactions.\n",
      "ScaledPureSVDRecommender: URM Detected 247 ( 1.1%) items with no interactions.\n",
      "ScaledPureSVDRecommender: Computing SVD decomposition...\n",
      "ScaledPureSVDRecommender: Computing SVD decomposition... done in 5.37 sec\n",
      "EvaluatorHoldout: Processed 10456 (100.0%) in 13.49 sec. Users per second: 775\n"
     ]
    },
    {
     "name": "stderr",
     "output_type": "stream",
     "text": [
      "[I 2023-12-04 18:33:33,343] Trial 175 finished with value: 0.0316437778567181 and parameters: {'num_factors': 181, 'scaling_items': 0.026335640892928728, 'scaling_users': 0.3516909684730898}. Best is trial 161 with value: 0.03246891357282551.\n"
     ]
    },
    {
     "name": "stdout",
     "output_type": "stream",
     "text": [
      "ScaledPureSVDRecommender: URM Detected 627 ( 4.8%) users with no interactions.\n",
      "ScaledPureSVDRecommender: URM Detected 247 ( 1.1%) items with no interactions.\n",
      "ScaledPureSVDRecommender: Computing SVD decomposition...\n",
      "ScaledPureSVDRecommender: Computing SVD decomposition... done in 4.04 sec\n",
      "EvaluatorHoldout: Processed 10456 (100.0%) in 12.66 sec. Users per second: 826\n"
     ]
    },
    {
     "name": "stderr",
     "output_type": "stream",
     "text": [
      "[I 2023-12-04 18:33:50,265] Trial 176 finished with value: 0.031482983112908806 and parameters: {'num_factors': 129, 'scaling_items': 0.010919967367899065, 'scaling_users': 0.3855772547278946}. Best is trial 161 with value: 0.03246891357282551.\n"
     ]
    },
    {
     "name": "stdout",
     "output_type": "stream",
     "text": [
      "ScaledPureSVDRecommender: URM Detected 627 ( 4.8%) users with no interactions.\n",
      "ScaledPureSVDRecommender: URM Detected 247 ( 1.1%) items with no interactions.\n",
      "ScaledPureSVDRecommender: Computing SVD decomposition...\n",
      "ScaledPureSVDRecommender: Computing SVD decomposition... done in 10.71 sec\n",
      "EvaluatorHoldout: Processed 10456 (100.0%) in 15.18 sec. Users per second: 689\n"
     ]
    },
    {
     "name": "stderr",
     "output_type": "stream",
     "text": [
      "[I 2023-12-04 18:34:16,385] Trial 177 finished with value: 0.03107169803014325 and parameters: {'num_factors': 313, 'scaling_items': 0.01550943556575801, 'scaling_users': 0.3191453169878693}. Best is trial 161 with value: 0.03246891357282551.\n"
     ]
    },
    {
     "name": "stdout",
     "output_type": "stream",
     "text": [
      "ScaledPureSVDRecommender: URM Detected 627 ( 4.8%) users with no interactions.\n",
      "ScaledPureSVDRecommender: URM Detected 247 ( 1.1%) items with no interactions.\n",
      "ScaledPureSVDRecommender: Computing SVD decomposition...\n",
      "ScaledPureSVDRecommender: Computing SVD decomposition... done in 6.43 sec\n",
      "EvaluatorHoldout: Processed 10456 (100.0%) in 14.46 sec. Users per second: 723\n"
     ]
    },
    {
     "name": "stderr",
     "output_type": "stream",
     "text": [
      "[I 2023-12-04 18:34:37,501] Trial 178 finished with value: 0.031932011391652144 and parameters: {'num_factors': 216, 'scaling_items': 0.013168641728611603, 'scaling_users': 0.26799128370138303}. Best is trial 161 with value: 0.03246891357282551.\n"
     ]
    },
    {
     "name": "stdout",
     "output_type": "stream",
     "text": [
      "ScaledPureSVDRecommender: URM Detected 627 ( 4.8%) users with no interactions.\n",
      "ScaledPureSVDRecommender: URM Detected 247 ( 1.1%) items with no interactions.\n",
      "ScaledPureSVDRecommender: Computing SVD decomposition...\n",
      "ScaledPureSVDRecommender: Computing SVD decomposition... done in 5.58 sec\n",
      "EvaluatorHoldout: Processed 10456 (100.0%) in 12.93 sec. Users per second: 809\n"
     ]
    },
    {
     "name": "stderr",
     "output_type": "stream",
     "text": [
      "[I 2023-12-04 18:34:56,263] Trial 179 finished with value: 0.03166159628860503 and parameters: {'num_factors': 160, 'scaling_items': 0.032241323255611555, 'scaling_users': 0.4197344331497065}. Best is trial 161 with value: 0.03246891357282551.\n"
     ]
    },
    {
     "name": "stdout",
     "output_type": "stream",
     "text": [
      "ScaledPureSVDRecommender: URM Detected 627 ( 4.8%) users with no interactions.\n",
      "ScaledPureSVDRecommender: URM Detected 247 ( 1.1%) items with no interactions.\n",
      "ScaledPureSVDRecommender: Computing SVD decomposition...\n",
      "ScaledPureSVDRecommender: Computing SVD decomposition... done in 8.94 sec\n",
      "EvaluatorHoldout: Processed 10456 (100.0%) in 14.78 sec. Users per second: 707\n"
     ]
    },
    {
     "name": "stderr",
     "output_type": "stream",
     "text": [
      "[I 2023-12-04 18:35:20,203] Trial 180 finished with value: 0.03158499790505368 and parameters: {'num_factors': 259, 'scaling_items': 0.017421666830722052, 'scaling_users': 0.35626488675520546}. Best is trial 161 with value: 0.03246891357282551.\n"
     ]
    },
    {
     "name": "stdout",
     "output_type": "stream",
     "text": [
      "ScaledPureSVDRecommender: URM Detected 627 ( 4.8%) users with no interactions.\n",
      "ScaledPureSVDRecommender: URM Detected 247 ( 1.1%) items with no interactions.\n",
      "ScaledPureSVDRecommender: Computing SVD decomposition...\n",
      "ScaledPureSVDRecommender: Computing SVD decomposition... done in 5.84 sec\n",
      "EvaluatorHoldout: Processed 10456 (100.0%) in 13.57 sec. Users per second: 771\n"
     ]
    },
    {
     "name": "stderr",
     "output_type": "stream",
     "text": [
      "[I 2023-12-04 18:35:39,822] Trial 181 finished with value: 0.03197590659574237 and parameters: {'num_factors': 175, 'scaling_items': 0.012086113888604755, 'scaling_users': 0.2928938984180744}. Best is trial 161 with value: 0.03246891357282551.\n"
     ]
    },
    {
     "name": "stdout",
     "output_type": "stream",
     "text": [
      "ScaledPureSVDRecommender: URM Detected 627 ( 4.8%) users with no interactions.\n",
      "ScaledPureSVDRecommender: URM Detected 247 ( 1.1%) items with no interactions.\n",
      "ScaledPureSVDRecommender: Computing SVD decomposition...\n",
      "ScaledPureSVDRecommender: Computing SVD decomposition... done in 1.10 sec\n",
      "EvaluatorHoldout: Processed 10456 (100.0%) in 11.49 sec. Users per second: 910\n"
     ]
    },
    {
     "name": "stderr",
     "output_type": "stream",
     "text": [
      "[I 2023-12-04 18:35:52,625] Trial 182 finished with value: 0.026133335762257025 and parameters: {'num_factors': 28, 'scaling_items': 0.04152752427302201, 'scaling_users': 0.3326200343538391}. Best is trial 161 with value: 0.03246891357282551.\n"
     ]
    },
    {
     "name": "stdout",
     "output_type": "stream",
     "text": [
      "ScaledPureSVDRecommender: URM Detected 627 ( 4.8%) users with no interactions.\n",
      "ScaledPureSVDRecommender: URM Detected 247 ( 1.1%) items with no interactions.\n",
      "ScaledPureSVDRecommender: Computing SVD decomposition...\n",
      "ScaledPureSVDRecommender: Computing SVD decomposition... done in 6.16 sec\n",
      "EvaluatorHoldout: Processed 10456 (100.0%) in 14.42 sec. Users per second: 725\n"
     ]
    },
    {
     "name": "stderr",
     "output_type": "stream",
     "text": [
      "[I 2023-12-04 18:36:13,426] Trial 183 finished with value: 0.030142980107115806 and parameters: {'num_factors': 213, 'scaling_items': 0.052061655895738294, 'scaling_users': 0.301130654087927}. Best is trial 161 with value: 0.03246891357282551.\n"
     ]
    },
    {
     "name": "stdout",
     "output_type": "stream",
     "text": [
      "ScaledPureSVDRecommender: URM Detected 627 ( 4.8%) users with no interactions.\n",
      "ScaledPureSVDRecommender: URM Detected 247 ( 1.1%) items with no interactions.\n",
      "ScaledPureSVDRecommender: Computing SVD decomposition...\n",
      "ScaledPureSVDRecommender: Computing SVD decomposition... done in 3.99 sec\n",
      "EvaluatorHoldout: Processed 10456 (100.0%) in 12.63 sec. Users per second: 828\n"
     ]
    },
    {
     "name": "stderr",
     "output_type": "stream",
     "text": [
      "[I 2023-12-04 18:36:30,262] Trial 184 finished with value: 0.03205548420592446 and parameters: {'num_factors': 138, 'scaling_items': 0.015527258539422639, 'scaling_users': 0.24792616415474386}. Best is trial 161 with value: 0.03246891357282551.\n"
     ]
    },
    {
     "name": "stdout",
     "output_type": "stream",
     "text": [
      "ScaledPureSVDRecommender: URM Detected 627 ( 4.8%) users with no interactions.\n",
      "ScaledPureSVDRecommender: URM Detected 247 ( 1.1%) items with no interactions.\n",
      "ScaledPureSVDRecommender: Computing SVD decomposition...\n",
      "ScaledPureSVDRecommender: Computing SVD decomposition... done in 7.09 sec\n",
      "EvaluatorHoldout: Processed 10456 (100.0%) in 13.47 sec. Users per second: 776\n"
     ]
    },
    {
     "name": "stderr",
     "output_type": "stream",
     "text": [
      "[I 2023-12-04 18:36:51,088] Trial 185 finished with value: 0.03187710253701105 and parameters: {'num_factors': 187, 'scaling_items': 0.014040561328016303, 'scaling_users': 0.3671194188386475}. Best is trial 161 with value: 0.03246891357282551.\n"
     ]
    },
    {
     "name": "stdout",
     "output_type": "stream",
     "text": [
      "ScaledPureSVDRecommender: URM Detected 627 ( 4.8%) users with no interactions.\n",
      "ScaledPureSVDRecommender: URM Detected 247 ( 1.1%) items with no interactions.\n",
      "ScaledPureSVDRecommender: Computing SVD decomposition...\n",
      "ScaledPureSVDRecommender: Computing SVD decomposition... done in 3.70 sec\n",
      "EvaluatorHoldout: Processed 10456 (100.0%) in 12.36 sec. Users per second: 846\n"
     ]
    },
    {
     "name": "stderr",
     "output_type": "stream",
     "text": [
      "[I 2023-12-04 18:37:07,370] Trial 186 finished with value: 0.031637443679333827 and parameters: {'num_factors': 110, 'scaling_items': 0.010043709813138957, 'scaling_users': 0.09327701785529213}. Best is trial 161 with value: 0.03246891357282551.\n"
     ]
    },
    {
     "name": "stdout",
     "output_type": "stream",
     "text": [
      "ScaledPureSVDRecommender: URM Detected 627 ( 4.8%) users with no interactions.\n",
      "ScaledPureSVDRecommender: URM Detected 247 ( 1.1%) items with no interactions.\n",
      "ScaledPureSVDRecommender: Computing SVD decomposition...\n",
      "ScaledPureSVDRecommender: Computing SVD decomposition... done in 7.69 sec\n",
      "EvaluatorHoldout: Processed 10456 (100.0%) in 13.56 sec. Users per second: 771\n"
     ]
    },
    {
     "name": "stderr",
     "output_type": "stream",
     "text": [
      "[I 2023-12-04 18:37:28,845] Trial 187 finished with value: 0.03152014943952612 and parameters: {'num_factors': 244, 'scaling_items': 0.01164265096261957, 'scaling_users': 0.28160740365349235}. Best is trial 161 with value: 0.03246891357282551.\n"
     ]
    },
    {
     "name": "stdout",
     "output_type": "stream",
     "text": [
      "ScaledPureSVDRecommender: URM Detected 627 ( 4.8%) users with no interactions.\n",
      "ScaledPureSVDRecommender: URM Detected 247 ( 1.1%) items with no interactions.\n",
      "ScaledPureSVDRecommender: Computing SVD decomposition...\n",
      "ScaledPureSVDRecommender: Computing SVD decomposition... done in 5.33 sec\n",
      "EvaluatorHoldout: Processed 10456 (100.0%) in 12.72 sec. Users per second: 822\n"
     ]
    },
    {
     "name": "stderr",
     "output_type": "stream",
     "text": [
      "[I 2023-12-04 18:37:47,121] Trial 188 finished with value: 0.031941142626395344 and parameters: {'num_factors': 153, 'scaling_items': 0.013380100610294775, 'scaling_users': 0.39217892745114974}. Best is trial 161 with value: 0.03246891357282551.\n"
     ]
    },
    {
     "name": "stdout",
     "output_type": "stream",
     "text": [
      "ScaledPureSVDRecommender: URM Detected 627 ( 4.8%) users with no interactions.\n",
      "ScaledPureSVDRecommender: URM Detected 247 ( 1.1%) items with no interactions.\n",
      "ScaledPureSVDRecommender: Computing SVD decomposition...\n",
      "ScaledPureSVDRecommender: Computing SVD decomposition... done in 11.49 sec\n",
      "EvaluatorHoldout: Processed 10456 (100.0%) in 15.91 sec. Users per second: 657\n"
     ]
    },
    {
     "name": "stderr",
     "output_type": "stream",
     "text": [
      "[I 2023-12-04 18:38:14,748] Trial 189 finished with value: 0.03191942273593984 and parameters: {'num_factors': 355, 'scaling_items': 0.011058580043592505, 'scaling_users': 0.46287888581852704}. Best is trial 161 with value: 0.03246891357282551.\n"
     ]
    },
    {
     "name": "stdout",
     "output_type": "stream",
     "text": [
      "ScaledPureSVDRecommender: URM Detected 627 ( 4.8%) users with no interactions.\n",
      "ScaledPureSVDRecommender: URM Detected 247 ( 1.1%) items with no interactions.\n",
      "ScaledPureSVDRecommender: Computing SVD decomposition...\n",
      "ScaledPureSVDRecommender: Computing SVD decomposition... done in 6.79 sec\n",
      "EvaluatorHoldout: Processed 10456 (100.0%) in 12.93 sec. Users per second: 809\n"
     ]
    },
    {
     "name": "stderr",
     "output_type": "stream",
     "text": [
      "[I 2023-12-04 18:38:34,668] Trial 190 finished with value: 0.03125088048481346 and parameters: {'num_factors': 192, 'scaling_items': 0.03530581333336594, 'scaling_users': 0.3315373439668287}. Best is trial 161 with value: 0.03246891357282551.\n"
     ]
    },
    {
     "name": "stdout",
     "output_type": "stream",
     "text": [
      "ScaledPureSVDRecommender: URM Detected 627 ( 4.8%) users with no interactions.\n",
      "ScaledPureSVDRecommender: URM Detected 247 ( 1.1%) items with no interactions.\n",
      "ScaledPureSVDRecommender: Computing SVD decomposition...\n",
      "ScaledPureSVDRecommender: Computing SVD decomposition... done in 7.06 sec\n",
      "EvaluatorHoldout: Processed 10456 (100.0%) in 14.22 sec. Users per second: 735\n"
     ]
    },
    {
     "name": "stderr",
     "output_type": "stream",
     "text": [
      "[I 2023-12-04 18:38:56,170] Trial 191 finished with value: 0.03214455738939328 and parameters: {'num_factors': 227, 'scaling_items': 0.010841200158576154, 'scaling_users': 0.42473798796425977}. Best is trial 161 with value: 0.03246891357282551.\n"
     ]
    },
    {
     "name": "stdout",
     "output_type": "stream",
     "text": [
      "ScaledPureSVDRecommender: URM Detected 627 ( 4.8%) users with no interactions.\n",
      "ScaledPureSVDRecommender: URM Detected 247 ( 1.1%) items with no interactions.\n",
      "ScaledPureSVDRecommender: Computing SVD decomposition...\n",
      "ScaledPureSVDRecommender: Computing SVD decomposition... done in 9.39 sec\n",
      "EvaluatorHoldout: Processed 10456 (100.0%) in 15.39 sec. Users per second: 680\n"
     ]
    },
    {
     "name": "stderr",
     "output_type": "stream",
     "text": [
      "[I 2023-12-04 18:39:21,177] Trial 192 finished with value: 0.031629739437218744 and parameters: {'num_factors': 293, 'scaling_items': 0.012265017781831873, 'scaling_users': 0.4312297885770632}. Best is trial 161 with value: 0.03246891357282551.\n"
     ]
    },
    {
     "name": "stdout",
     "output_type": "stream",
     "text": [
      "ScaledPureSVDRecommender: URM Detected 627 ( 4.8%) users with no interactions.\n",
      "ScaledPureSVDRecommender: URM Detected 247 ( 1.1%) items with no interactions.\n",
      "ScaledPureSVDRecommender: Computing SVD decomposition...\n",
      "ScaledPureSVDRecommender: Computing SVD decomposition... done in 6.75 sec\n",
      "EvaluatorHoldout: Processed 10456 (100.0%) in 14.34 sec. Users per second: 729\n"
     ]
    },
    {
     "name": "stderr",
     "output_type": "stream",
     "text": [
      "[I 2023-12-04 18:39:42,523] Trial 193 finished with value: 0.03193655803305802 and parameters: {'num_factors': 225, 'scaling_items': 0.010844948906947174, 'scaling_users': 0.3079978703486292}. Best is trial 161 with value: 0.03246891357282551.\n"
     ]
    },
    {
     "name": "stdout",
     "output_type": "stream",
     "text": [
      "ScaledPureSVDRecommender: URM Detected 627 ( 4.8%) users with no interactions.\n",
      "ScaledPureSVDRecommender: URM Detected 247 ( 1.1%) items with no interactions.\n",
      "ScaledPureSVDRecommender: Computing SVD decomposition...\n",
      "ScaledPureSVDRecommender: Computing SVD decomposition... done in 6.28 sec\n",
      "EvaluatorHoldout: Processed 10456 (100.0%) in 13.54 sec. Users per second: 772\n"
     ]
    },
    {
     "name": "stderr",
     "output_type": "stream",
     "text": [
      "[I 2023-12-04 18:40:02,584] Trial 194 finished with value: 0.03199539870781298 and parameters: {'num_factors': 166, 'scaling_items': 0.012797475407295686, 'scaling_users': 0.37025231811728615}. Best is trial 161 with value: 0.03246891357282551.\n"
     ]
    },
    {
     "name": "stdout",
     "output_type": "stream",
     "text": [
      "ScaledPureSVDRecommender: URM Detected 627 ( 4.8%) users with no interactions.\n",
      "ScaledPureSVDRecommender: URM Detected 247 ( 1.1%) items with no interactions.\n",
      "ScaledPureSVDRecommender: Computing SVD decomposition...\n",
      "ScaledPureSVDRecommender: Computing SVD decomposition... done in 4.02 sec\n",
      "EvaluatorHoldout: Processed 10456 (100.0%) in 12.94 sec. Users per second: 808\n"
     ]
    },
    {
     "name": "stderr",
     "output_type": "stream",
     "text": [
      "[I 2023-12-04 18:40:19,769] Trial 195 finished with value: 0.031529694350323906 and parameters: {'num_factors': 127, 'scaling_items': 0.011520671722028088, 'scaling_users': 0.4142428557432945}. Best is trial 161 with value: 0.03246891357282551.\n"
     ]
    },
    {
     "name": "stdout",
     "output_type": "stream",
     "text": [
      "ScaledPureSVDRecommender: URM Detected 627 ( 4.8%) users with no interactions.\n",
      "ScaledPureSVDRecommender: URM Detected 247 ( 1.1%) items with no interactions.\n",
      "ScaledPureSVDRecommender: Computing SVD decomposition...\n",
      "ScaledPureSVDRecommender: Computing SVD decomposition... done in 6.30 sec\n",
      "EvaluatorHoldout: Processed 10456 (100.0%) in 13.85 sec. Users per second: 755\n"
     ]
    },
    {
     "name": "stderr",
     "output_type": "stream",
     "text": [
      "[I 2023-12-04 18:40:40,164] Trial 196 finished with value: 0.03160804231792209 and parameters: {'num_factors': 199, 'scaling_items': 0.029225241931299387, 'scaling_users': 0.3503547903312466}. Best is trial 161 with value: 0.03246891357282551.\n"
     ]
    },
    {
     "name": "stdout",
     "output_type": "stream",
     "text": [
      "ScaledPureSVDRecommender: URM Detected 627 ( 4.8%) users with no interactions.\n",
      "ScaledPureSVDRecommender: URM Detected 247 ( 1.1%) items with no interactions.\n",
      "ScaledPureSVDRecommender: Computing SVD decomposition...\n",
      "ScaledPureSVDRecommender: Computing SVD decomposition... done in 0.71 sec\n",
      "EvaluatorHoldout: Processed 10456 (100.0%) in 11.74 sec. Users per second: 891\n"
     ]
    },
    {
     "name": "stderr",
     "output_type": "stream",
     "text": [
      "[I 2023-12-04 18:40:52,851] Trial 197 finished with value: 0.016663159908186703 and parameters: {'num_factors': 14, 'scaling_items': 0.010019974994190826, 'scaling_users': 0.5180459634207049}. Best is trial 161 with value: 0.03246891357282551.\n"
     ]
    },
    {
     "name": "stdout",
     "output_type": "stream",
     "text": [
      "ScaledPureSVDRecommender: URM Detected 627 ( 4.8%) users with no interactions.\n",
      "ScaledPureSVDRecommender: URM Detected 247 ( 1.1%) items with no interactions.\n",
      "ScaledPureSVDRecommender: Computing SVD decomposition...\n",
      "ScaledPureSVDRecommender: Computing SVD decomposition... done in 7.95 sec\n",
      "EvaluatorHoldout: Processed 10456 (100.0%) in 13.99 sec. Users per second: 747\n"
     ]
    },
    {
     "name": "stderr",
     "output_type": "stream",
     "text": [
      "[I 2023-12-04 18:41:15,027] Trial 198 finished with value: 0.03176496596470793 and parameters: {'num_factors': 250, 'scaling_items': 0.014614456176816061, 'scaling_users': 0.31412581983513166}. Best is trial 161 with value: 0.03246891357282551.\n"
     ]
    },
    {
     "name": "stdout",
     "output_type": "stream",
     "text": [
      "ScaledPureSVDRecommender: URM Detected 627 ( 4.8%) users with no interactions.\n",
      "ScaledPureSVDRecommender: URM Detected 247 ( 1.1%) items with no interactions.\n",
      "ScaledPureSVDRecommender: Computing SVD decomposition...\n",
      "ScaledPureSVDRecommender: Computing SVD decomposition... done in 6.18 sec\n",
      "EvaluatorHoldout: Processed 10456 (100.0%) in 13.40 sec. Users per second: 780\n"
     ]
    },
    {
     "name": "stderr",
     "output_type": "stream",
     "text": [
      "[I 2023-12-04 18:41:34,850] Trial 199 finished with value: 0.02829313085218812 and parameters: {'num_factors': 158, 'scaling_items': 0.01353790640518, 'scaling_users': 0.8644833853651296}. Best is trial 161 with value: 0.03246891357282551.\n"
     ]
    }
   ],
   "source": [
    "if config['tune_parameters']:\n",
    "    study = optuna.create_study(direction='maximize', study_name='hyperparameters_tuning_puresvd_scaled',\n",
    "                                storage=f'sqlite:///{config[\"database_path\"]}', load_if_exists=True)\n",
    "    study.optimize(objective_function_pure_svd_item, n_trials=200)"
   ]
  },
  {
   "cell_type": "code",
   "execution_count": 16,
   "id": "7290b40d",
   "metadata": {
    "execution": {
     "iopub.execute_input": "2023-12-04T18:41:35.094769Z",
     "iopub.status.busy": "2023-12-04T18:41:35.094304Z",
     "iopub.status.idle": "2023-12-04T18:41:36.189456Z",
     "shell.execute_reply": "2023-12-04T18:41:36.188310Z"
    },
    "papermill": {
     "duration": 1.217607,
     "end_time": "2023-12-04T18:41:36.192191",
     "exception": false,
     "start_time": "2023-12-04T18:41:34.974584",
     "status": "completed"
    },
    "tags": []
   },
   "outputs": [
    {
     "data": {
      "text/html": [
       "        <script type=\"text/javascript\">\n",
       "        window.PlotlyConfig = {MathJaxConfig: 'local'};\n",
       "        if (window.MathJax && window.MathJax.Hub && window.MathJax.Hub.Config) {window.MathJax.Hub.Config({SVG: {font: \"STIX-Web\"}});}\n",
       "        if (typeof require !== 'undefined') {\n",
       "        require.undef(\"plotly\");\n",
       "        requirejs.config({\n",
       "            paths: {\n",
       "                'plotly': ['https://cdn.plot.ly/plotly-2.25.2.min']\n",
       "            }\n",
       "        });\n",
       "        require(['plotly'], function(Plotly) {\n",
       "            window._Plotly = Plotly;\n",
       "        });\n",
       "        }\n",
       "        </script>\n",
       "        "
      ]
     },
     "metadata": {},
     "output_type": "display_data"
    },
    {
     "data": {
      "text/html": [
       "<div>                            <div id=\"8d3cf93b-ff70-4279-95d5-38245d37c4be\" class=\"plotly-graph-div\" style=\"height:525px; width:100%;\"></div>            <script type=\"text/javascript\">                require([\"plotly\"], function(Plotly) {                    window.PLOTLYENV=window.PLOTLYENV || {};                                    if (document.getElementById(\"8d3cf93b-ff70-4279-95d5-38245d37c4be\")) {                    Plotly.newPlot(                        \"8d3cf93b-ff70-4279-95d5-38245d37c4be\",                        [{\"mode\":\"markers\",\"name\":\"Objective Value\",\"x\":[0,1,2,3,4,5,6,7,8,9,10,11,12,13,14,15,16,17,18,19,20,21,22,23,24,25,26,27,28,29,30,31,32,33,34,35,36,37,38,39,40,41,42,43,44,45,46,47,48,49,50,51,52,53,54,55,56,57,58,59,60,61,62,63,64,65,66,67,68,69,70,71,72,73,74,75,76,77,78,79,80,81,82,83,84,85,86,87,88,89,90,91,92,93,94,95,96,97,98,99,100,101,102,103,104,105,106,107,108,109,110,111,112,113,114,115,116,117,118,119,120,121,122,123,124,125,126,127,128,129,130,131,132,133,134,135,136,137,138,139,140,141,142,143,144,145,146,147,148,149,150,151,152,153,154,155,156,157,158,159,160,161,162,163,164,165,166,167,168,169,170,171,172,173,174,175,176,177,178,179,180,181,182,183,184,185,186,187,188,189,190,191,192,193,194,195,196,197,198,199],\"y\":[0.028051722410463983,0.011563255243438849,0.021002450935742822,0.0164111818535116,0.017733506849564536,0.011574386544977566,0.022245426033203418,0.019628196311679474,0.022114408374928594,0.010586554693287632,0.022675740214473925,0.023982888233079494,0.02273616727996986,0.03216429239382602,0.03114601550260525,0.02897478549568284,0.03113112316464479,0.031407435997862734,0.027878608469656802,0.0308921056946117,0.02803108794525218,0.0298296110078821,0.031756973287912806,0.028434365170450008,0.031058236480004157,0.029592863063358715,0.029627304441287052,0.03201985493253694,0.03146990487727891,0.030767741009946756,0.02900642602105899,0.03186385731288201,0.031395815116406475,0.031045021617420492,0.02902674548523837,0.02796886575339154,0.031057189006691976,0.031483449921667496,0.026783103192820196,0.027972072691611886,0.03116345061998317,0.031171959443048004,0.030477784457318014,0.031541402521222985,0.03141408897147258,0.030330477829999893,0.02740861174870366,0.029748040921290887,0.027247953631848093,0.028533666399485198,0.030343715463742458,0.03119170962825355,0.031882825688296534,0.031139396685734,0.029499618962606944,0.0308509809815283,0.03097407048129154,0.03135944578035262,0.030695696858187505,0.03129626719981565,0.02512164732636238,0.03134753646421615,0.03210196014136362,0.032161681300931756,0.03181055382494783,0.03069849391554653,0.03160584110588924,0.03019589648534769,0.03201182430381019,0.030776754593701952,0.03179557040235146,0.032135574167183094,0.0319172480902591,0.031349407494444155,0.030493587641636854,0.03154042715658076,0.029896861830679886,0.03208123838670911,0.03204121807483543,0.03162786081660446,0.03172007642000978,0.03169499019322108,0.0321392137574237,0.030649334778543126,0.03079472483331542,0.032076942228051956,0.03183988687288262,0.031710474581314506,0.030290666253749758,0.03168793492913643,0.031836729272173306,0.03204999256142169,0.03026375074385816,0.031997660642936375,0.031281788537909604,0.030824748606405307,0.03224059095711774,0.031342712773709674,0.031763637647101994,0.031995523949187255,0.031908708905648814,0.031480527622934205,0.030567802643883615,0.032023536269902314,0.03224373337705435,0.03209512879367551,0.031975637137027925,0.03202175632431022,0.031015589894463493,0.031489138916214604,0.031204267922420537,0.03113284997753268,0.0319668019273512,0.03191578694089242,0.03183570457002013,0.031574720521975935,0.031873109993806464,0.031886628471842995,0.03070513550357684,0.03218200076511134,0.031067386690713357,0.03205448986531657,0.03188077628399016,0.03121342951870904,0.03213924032377591,0.03189299301077263,0.032370747106545014,0.03036605017548998,0.03067232605870743,0.029826491359104562,0.03176484451852686,0.03219231230492735,0.032080585613485674,0.03208953467895734,0.031738995457913,0.031496057553345426,0.03152234685636575,0.0320441062168303,0.031105008440509844,0.03143444259239036,0.031079106247191898,0.0321091672131748,0.0316657102779906,0.0315236599931992,0.031160334766398467,0.032363346479882836,0.03196698409662277,0.029369868898847757,0.030479708620250196,0.032189473500443676,0.03178358518235177,0.031785626996271917,0.03190957800488237,0.03156683790578234,0.032150963675447536,0.03123997309967124,0.030383546015958315,0.030885672842205236,0.03090048927630255,0.03198231288179677,0.031137161316962706,0.03246891357282551,0.03209150817940065,0.03222358090137388,0.03226073584241183,0.03151842262663838,0.03208818738538552,0.031666556606065224,0.031087197599009225,0.03211458674900766,0.03145560838464459,0.027167601802261482,0.03193743472267799,0.031812364132085165,0.03152211155438991,0.0316437778567181,0.031482983112908806,0.03107169803014325,0.031932011391652144,0.03166159628860503,0.03158499790505368,0.03197590659574237,0.026133335762257025,0.030142980107115806,0.03205548420592446,0.03187710253701105,0.031637443679333827,0.03152014943952612,0.031941142626395344,0.03191942273593984,0.03125088048481346,0.03214455738939328,0.031629739437218744,0.03193655803305802,0.03199539870781298,0.031529694350323906,0.03160804231792209,0.016663159908186703,0.03176496596470793,0.02829313085218812],\"type\":\"scatter\"},{\"mode\":\"lines\",\"name\":\"Best Value\",\"x\":[0,1,2,3,4,5,6,7,8,9,10,11,12,13,14,15,16,17,18,19,20,21,22,23,24,25,26,27,28,29,30,31,32,33,34,35,36,37,38,39,40,41,42,43,44,45,46,47,48,49,50,51,52,53,54,55,56,57,58,59,60,61,62,63,64,65,66,67,68,69,70,71,72,73,74,75,76,77,78,79,80,81,82,83,84,85,86,87,88,89,90,91,92,93,94,95,96,97,98,99,100,101,102,103,104,105,106,107,108,109,110,111,112,113,114,115,116,117,118,119,120,121,122,123,124,125,126,127,128,129,130,131,132,133,134,135,136,137,138,139,140,141,142,143,144,145,146,147,148,149,150,151,152,153,154,155,156,157,158,159,160,161,162,163,164,165,166,167,168,169,170,171,172,173,174,175,176,177,178,179,180,181,182,183,184,185,186,187,188,189,190,191,192,193,194,195,196,197,198,199],\"y\":[0.028051722410463983,0.028051722410463983,0.028051722410463983,0.028051722410463983,0.028051722410463983,0.028051722410463983,0.028051722410463983,0.028051722410463983,0.028051722410463983,0.028051722410463983,0.028051722410463983,0.028051722410463983,0.028051722410463983,0.03216429239382602,0.03216429239382602,0.03216429239382602,0.03216429239382602,0.03216429239382602,0.03216429239382602,0.03216429239382602,0.03216429239382602,0.03216429239382602,0.03216429239382602,0.03216429239382602,0.03216429239382602,0.03216429239382602,0.03216429239382602,0.03216429239382602,0.03216429239382602,0.03216429239382602,0.03216429239382602,0.03216429239382602,0.03216429239382602,0.03216429239382602,0.03216429239382602,0.03216429239382602,0.03216429239382602,0.03216429239382602,0.03216429239382602,0.03216429239382602,0.03216429239382602,0.03216429239382602,0.03216429239382602,0.03216429239382602,0.03216429239382602,0.03216429239382602,0.03216429239382602,0.03216429239382602,0.03216429239382602,0.03216429239382602,0.03216429239382602,0.03216429239382602,0.03216429239382602,0.03216429239382602,0.03216429239382602,0.03216429239382602,0.03216429239382602,0.03216429239382602,0.03216429239382602,0.03216429239382602,0.03216429239382602,0.03216429239382602,0.03216429239382602,0.03216429239382602,0.03216429239382602,0.03216429239382602,0.03216429239382602,0.03216429239382602,0.03216429239382602,0.03216429239382602,0.03216429239382602,0.03216429239382602,0.03216429239382602,0.03216429239382602,0.03216429239382602,0.03216429239382602,0.03216429239382602,0.03216429239382602,0.03216429239382602,0.03216429239382602,0.03216429239382602,0.03216429239382602,0.03216429239382602,0.03216429239382602,0.03216429239382602,0.03216429239382602,0.03216429239382602,0.03216429239382602,0.03216429239382602,0.03216429239382602,0.03216429239382602,0.03216429239382602,0.03216429239382602,0.03216429239382602,0.03216429239382602,0.03216429239382602,0.03224059095711774,0.03224059095711774,0.03224059095711774,0.03224059095711774,0.03224059095711774,0.03224059095711774,0.03224059095711774,0.03224059095711774,0.03224373337705435,0.03224373337705435,0.03224373337705435,0.03224373337705435,0.03224373337705435,0.03224373337705435,0.03224373337705435,0.03224373337705435,0.03224373337705435,0.03224373337705435,0.03224373337705435,0.03224373337705435,0.03224373337705435,0.03224373337705435,0.03224373337705435,0.03224373337705435,0.03224373337705435,0.03224373337705435,0.03224373337705435,0.03224373337705435,0.03224373337705435,0.03224373337705435,0.032370747106545014,0.032370747106545014,0.032370747106545014,0.032370747106545014,0.032370747106545014,0.032370747106545014,0.032370747106545014,0.032370747106545014,0.032370747106545014,0.032370747106545014,0.032370747106545014,0.032370747106545014,0.032370747106545014,0.032370747106545014,0.032370747106545014,0.032370747106545014,0.032370747106545014,0.032370747106545014,0.032370747106545014,0.032370747106545014,0.032370747106545014,0.032370747106545014,0.032370747106545014,0.032370747106545014,0.032370747106545014,0.032370747106545014,0.032370747106545014,0.032370747106545014,0.032370747106545014,0.032370747106545014,0.032370747106545014,0.032370747106545014,0.032370747106545014,0.032370747106545014,0.032370747106545014,0.03246891357282551,0.03246891357282551,0.03246891357282551,0.03246891357282551,0.03246891357282551,0.03246891357282551,0.03246891357282551,0.03246891357282551,0.03246891357282551,0.03246891357282551,0.03246891357282551,0.03246891357282551,0.03246891357282551,0.03246891357282551,0.03246891357282551,0.03246891357282551,0.03246891357282551,0.03246891357282551,0.03246891357282551,0.03246891357282551,0.03246891357282551,0.03246891357282551,0.03246891357282551,0.03246891357282551,0.03246891357282551,0.03246891357282551,0.03246891357282551,0.03246891357282551,0.03246891357282551,0.03246891357282551,0.03246891357282551,0.03246891357282551,0.03246891357282551,0.03246891357282551,0.03246891357282551,0.03246891357282551,0.03246891357282551,0.03246891357282551,0.03246891357282551],\"type\":\"scatter\"},{\"marker\":{\"color\":\"#cccccc\"},\"mode\":\"markers\",\"name\":\"Infeasible Trial\",\"showlegend\":false,\"x\":[],\"y\":[],\"type\":\"scatter\"}],                        {\"title\":{\"text\":\"Optimization History Plot\"},\"xaxis\":{\"title\":{\"text\":\"Trial\"}},\"yaxis\":{\"title\":{\"text\":\"Objective Value\"}},\"template\":{\"data\":{\"histogram2dcontour\":[{\"type\":\"histogram2dcontour\",\"colorbar\":{\"outlinewidth\":0,\"ticks\":\"\"},\"colorscale\":[[0.0,\"#0d0887\"],[0.1111111111111111,\"#46039f\"],[0.2222222222222222,\"#7201a8\"],[0.3333333333333333,\"#9c179e\"],[0.4444444444444444,\"#bd3786\"],[0.5555555555555556,\"#d8576b\"],[0.6666666666666666,\"#ed7953\"],[0.7777777777777778,\"#fb9f3a\"],[0.8888888888888888,\"#fdca26\"],[1.0,\"#f0f921\"]]}],\"choropleth\":[{\"type\":\"choropleth\",\"colorbar\":{\"outlinewidth\":0,\"ticks\":\"\"}}],\"histogram2d\":[{\"type\":\"histogram2d\",\"colorbar\":{\"outlinewidth\":0,\"ticks\":\"\"},\"colorscale\":[[0.0,\"#0d0887\"],[0.1111111111111111,\"#46039f\"],[0.2222222222222222,\"#7201a8\"],[0.3333333333333333,\"#9c179e\"],[0.4444444444444444,\"#bd3786\"],[0.5555555555555556,\"#d8576b\"],[0.6666666666666666,\"#ed7953\"],[0.7777777777777778,\"#fb9f3a\"],[0.8888888888888888,\"#fdca26\"],[1.0,\"#f0f921\"]]}],\"heatmap\":[{\"type\":\"heatmap\",\"colorbar\":{\"outlinewidth\":0,\"ticks\":\"\"},\"colorscale\":[[0.0,\"#0d0887\"],[0.1111111111111111,\"#46039f\"],[0.2222222222222222,\"#7201a8\"],[0.3333333333333333,\"#9c179e\"],[0.4444444444444444,\"#bd3786\"],[0.5555555555555556,\"#d8576b\"],[0.6666666666666666,\"#ed7953\"],[0.7777777777777778,\"#fb9f3a\"],[0.8888888888888888,\"#fdca26\"],[1.0,\"#f0f921\"]]}],\"heatmapgl\":[{\"type\":\"heatmapgl\",\"colorbar\":{\"outlinewidth\":0,\"ticks\":\"\"},\"colorscale\":[[0.0,\"#0d0887\"],[0.1111111111111111,\"#46039f\"],[0.2222222222222222,\"#7201a8\"],[0.3333333333333333,\"#9c179e\"],[0.4444444444444444,\"#bd3786\"],[0.5555555555555556,\"#d8576b\"],[0.6666666666666666,\"#ed7953\"],[0.7777777777777778,\"#fb9f3a\"],[0.8888888888888888,\"#fdca26\"],[1.0,\"#f0f921\"]]}],\"contourcarpet\":[{\"type\":\"contourcarpet\",\"colorbar\":{\"outlinewidth\":0,\"ticks\":\"\"}}],\"contour\":[{\"type\":\"contour\",\"colorbar\":{\"outlinewidth\":0,\"ticks\":\"\"},\"colorscale\":[[0.0,\"#0d0887\"],[0.1111111111111111,\"#46039f\"],[0.2222222222222222,\"#7201a8\"],[0.3333333333333333,\"#9c179e\"],[0.4444444444444444,\"#bd3786\"],[0.5555555555555556,\"#d8576b\"],[0.6666666666666666,\"#ed7953\"],[0.7777777777777778,\"#fb9f3a\"],[0.8888888888888888,\"#fdca26\"],[1.0,\"#f0f921\"]]}],\"surface\":[{\"type\":\"surface\",\"colorbar\":{\"outlinewidth\":0,\"ticks\":\"\"},\"colorscale\":[[0.0,\"#0d0887\"],[0.1111111111111111,\"#46039f\"],[0.2222222222222222,\"#7201a8\"],[0.3333333333333333,\"#9c179e\"],[0.4444444444444444,\"#bd3786\"],[0.5555555555555556,\"#d8576b\"],[0.6666666666666666,\"#ed7953\"],[0.7777777777777778,\"#fb9f3a\"],[0.8888888888888888,\"#fdca26\"],[1.0,\"#f0f921\"]]}],\"mesh3d\":[{\"type\":\"mesh3d\",\"colorbar\":{\"outlinewidth\":0,\"ticks\":\"\"}}],\"scatter\":[{\"fillpattern\":{\"fillmode\":\"overlay\",\"size\":10,\"solidity\":0.2},\"type\":\"scatter\"}],\"parcoords\":[{\"type\":\"parcoords\",\"line\":{\"colorbar\":{\"outlinewidth\":0,\"ticks\":\"\"}}}],\"scatterpolargl\":[{\"type\":\"scatterpolargl\",\"marker\":{\"colorbar\":{\"outlinewidth\":0,\"ticks\":\"\"}}}],\"bar\":[{\"error_x\":{\"color\":\"#2a3f5f\"},\"error_y\":{\"color\":\"#2a3f5f\"},\"marker\":{\"line\":{\"color\":\"#E5ECF6\",\"width\":0.5},\"pattern\":{\"fillmode\":\"overlay\",\"size\":10,\"solidity\":0.2}},\"type\":\"bar\"}],\"scattergeo\":[{\"type\":\"scattergeo\",\"marker\":{\"colorbar\":{\"outlinewidth\":0,\"ticks\":\"\"}}}],\"scatterpolar\":[{\"type\":\"scatterpolar\",\"marker\":{\"colorbar\":{\"outlinewidth\":0,\"ticks\":\"\"}}}],\"histogram\":[{\"marker\":{\"pattern\":{\"fillmode\":\"overlay\",\"size\":10,\"solidity\":0.2}},\"type\":\"histogram\"}],\"scattergl\":[{\"type\":\"scattergl\",\"marker\":{\"colorbar\":{\"outlinewidth\":0,\"ticks\":\"\"}}}],\"scatter3d\":[{\"type\":\"scatter3d\",\"line\":{\"colorbar\":{\"outlinewidth\":0,\"ticks\":\"\"}},\"marker\":{\"colorbar\":{\"outlinewidth\":0,\"ticks\":\"\"}}}],\"scattermapbox\":[{\"type\":\"scattermapbox\",\"marker\":{\"colorbar\":{\"outlinewidth\":0,\"ticks\":\"\"}}}],\"scatterternary\":[{\"type\":\"scatterternary\",\"marker\":{\"colorbar\":{\"outlinewidth\":0,\"ticks\":\"\"}}}],\"scattercarpet\":[{\"type\":\"scattercarpet\",\"marker\":{\"colorbar\":{\"outlinewidth\":0,\"ticks\":\"\"}}}],\"carpet\":[{\"aaxis\":{\"endlinecolor\":\"#2a3f5f\",\"gridcolor\":\"white\",\"linecolor\":\"white\",\"minorgridcolor\":\"white\",\"startlinecolor\":\"#2a3f5f\"},\"baxis\":{\"endlinecolor\":\"#2a3f5f\",\"gridcolor\":\"white\",\"linecolor\":\"white\",\"minorgridcolor\":\"white\",\"startlinecolor\":\"#2a3f5f\"},\"type\":\"carpet\"}],\"table\":[{\"cells\":{\"fill\":{\"color\":\"#EBF0F8\"},\"line\":{\"color\":\"white\"}},\"header\":{\"fill\":{\"color\":\"#C8D4E3\"},\"line\":{\"color\":\"white\"}},\"type\":\"table\"}],\"barpolar\":[{\"marker\":{\"line\":{\"color\":\"#E5ECF6\",\"width\":0.5},\"pattern\":{\"fillmode\":\"overlay\",\"size\":10,\"solidity\":0.2}},\"type\":\"barpolar\"}],\"pie\":[{\"automargin\":true,\"type\":\"pie\"}]},\"layout\":{\"autotypenumbers\":\"strict\",\"colorway\":[\"#636efa\",\"#EF553B\",\"#00cc96\",\"#ab63fa\",\"#FFA15A\",\"#19d3f3\",\"#FF6692\",\"#B6E880\",\"#FF97FF\",\"#FECB52\"],\"font\":{\"color\":\"#2a3f5f\"},\"hovermode\":\"closest\",\"hoverlabel\":{\"align\":\"left\"},\"paper_bgcolor\":\"white\",\"plot_bgcolor\":\"#E5ECF6\",\"polar\":{\"bgcolor\":\"#E5ECF6\",\"angularaxis\":{\"gridcolor\":\"white\",\"linecolor\":\"white\",\"ticks\":\"\"},\"radialaxis\":{\"gridcolor\":\"white\",\"linecolor\":\"white\",\"ticks\":\"\"}},\"ternary\":{\"bgcolor\":\"#E5ECF6\",\"aaxis\":{\"gridcolor\":\"white\",\"linecolor\":\"white\",\"ticks\":\"\"},\"baxis\":{\"gridcolor\":\"white\",\"linecolor\":\"white\",\"ticks\":\"\"},\"caxis\":{\"gridcolor\":\"white\",\"linecolor\":\"white\",\"ticks\":\"\"}},\"coloraxis\":{\"colorbar\":{\"outlinewidth\":0,\"ticks\":\"\"}},\"colorscale\":{\"sequential\":[[0.0,\"#0d0887\"],[0.1111111111111111,\"#46039f\"],[0.2222222222222222,\"#7201a8\"],[0.3333333333333333,\"#9c179e\"],[0.4444444444444444,\"#bd3786\"],[0.5555555555555556,\"#d8576b\"],[0.6666666666666666,\"#ed7953\"],[0.7777777777777778,\"#fb9f3a\"],[0.8888888888888888,\"#fdca26\"],[1.0,\"#f0f921\"]],\"sequentialminus\":[[0.0,\"#0d0887\"],[0.1111111111111111,\"#46039f\"],[0.2222222222222222,\"#7201a8\"],[0.3333333333333333,\"#9c179e\"],[0.4444444444444444,\"#bd3786\"],[0.5555555555555556,\"#d8576b\"],[0.6666666666666666,\"#ed7953\"],[0.7777777777777778,\"#fb9f3a\"],[0.8888888888888888,\"#fdca26\"],[1.0,\"#f0f921\"]],\"diverging\":[[0,\"#8e0152\"],[0.1,\"#c51b7d\"],[0.2,\"#de77ae\"],[0.3,\"#f1b6da\"],[0.4,\"#fde0ef\"],[0.5,\"#f7f7f7\"],[0.6,\"#e6f5d0\"],[0.7,\"#b8e186\"],[0.8,\"#7fbc41\"],[0.9,\"#4d9221\"],[1,\"#276419\"]]},\"xaxis\":{\"gridcolor\":\"white\",\"linecolor\":\"white\",\"ticks\":\"\",\"title\":{\"standoff\":15},\"zerolinecolor\":\"white\",\"automargin\":true,\"zerolinewidth\":2},\"yaxis\":{\"gridcolor\":\"white\",\"linecolor\":\"white\",\"ticks\":\"\",\"title\":{\"standoff\":15},\"zerolinecolor\":\"white\",\"automargin\":true,\"zerolinewidth\":2},\"scene\":{\"xaxis\":{\"backgroundcolor\":\"#E5ECF6\",\"gridcolor\":\"white\",\"linecolor\":\"white\",\"showbackground\":true,\"ticks\":\"\",\"zerolinecolor\":\"white\",\"gridwidth\":2},\"yaxis\":{\"backgroundcolor\":\"#E5ECF6\",\"gridcolor\":\"white\",\"linecolor\":\"white\",\"showbackground\":true,\"ticks\":\"\",\"zerolinecolor\":\"white\",\"gridwidth\":2},\"zaxis\":{\"backgroundcolor\":\"#E5ECF6\",\"gridcolor\":\"white\",\"linecolor\":\"white\",\"showbackground\":true,\"ticks\":\"\",\"zerolinecolor\":\"white\",\"gridwidth\":2}},\"shapedefaults\":{\"line\":{\"color\":\"#2a3f5f\"}},\"annotationdefaults\":{\"arrowcolor\":\"#2a3f5f\",\"arrowhead\":0,\"arrowwidth\":1},\"geo\":{\"bgcolor\":\"white\",\"landcolor\":\"#E5ECF6\",\"subunitcolor\":\"white\",\"showland\":true,\"showlakes\":true,\"lakecolor\":\"white\"},\"title\":{\"x\":0.05},\"mapbox\":{\"style\":\"light\"}}}},                        {\"responsive\": true}                    ).then(function(){\n",
       "                            \n",
       "var gd = document.getElementById('8d3cf93b-ff70-4279-95d5-38245d37c4be');\n",
       "var x = new MutationObserver(function (mutations, observer) {{\n",
       "        var display = window.getComputedStyle(gd).display;\n",
       "        if (!display || display === 'none') {{\n",
       "            console.log([gd, 'removed!']);\n",
       "            Plotly.purge(gd);\n",
       "            observer.disconnect();\n",
       "        }}\n",
       "}});\n",
       "\n",
       "// Listen for the removal of the full notebook cells\n",
       "var notebookContainer = gd.closest('#notebook-container');\n",
       "if (notebookContainer) {{\n",
       "    x.observe(notebookContainer, {childList: true});\n",
       "}}\n",
       "\n",
       "// Listen for the clearing of the current output cell\n",
       "var outputEl = gd.closest('.output');\n",
       "if (outputEl) {{\n",
       "    x.observe(outputEl, {childList: true});\n",
       "}}\n",
       "\n",
       "                        })                };                });            </script>        </div>"
      ]
     },
     "metadata": {},
     "output_type": "display_data"
    }
   ],
   "source": [
    "if config['tune_parameters']:\n",
    "    fig = optuna.visualization.plot_optimization_history(study)\n",
    "    fig.show()"
   ]
  },
  {
   "cell_type": "code",
   "execution_count": 17,
   "id": "f9692864",
   "metadata": {
    "execution": {
     "iopub.execute_input": "2023-12-04T18:41:36.423678Z",
     "iopub.status.busy": "2023-12-04T18:41:36.423143Z",
     "iopub.status.idle": "2023-12-04T18:41:42.046922Z",
     "shell.execute_reply": "2023-12-04T18:41:42.045758Z"
    },
    "papermill": {
     "duration": 5.743183,
     "end_time": "2023-12-04T18:41:42.049436",
     "exception": false,
     "start_time": "2023-12-04T18:41:36.306253",
     "status": "completed"
    },
    "tags": []
   },
   "outputs": [
    {
     "data": {
      "text/html": [
       "<div>                            <div id=\"8ae74566-3b5a-4eb9-8cfb-9f3e46497ead\" class=\"plotly-graph-div\" style=\"height:525px; width:100%;\"></div>            <script type=\"text/javascript\">                require([\"plotly\"], function(Plotly) {                    window.PLOTLYENV=window.PLOTLYENV || {};                                    if (document.getElementById(\"8ae74566-3b5a-4eb9-8cfb-9f3e46497ead\")) {                    Plotly.newPlot(                        \"8ae74566-3b5a-4eb9-8cfb-9f3e46497ead\",                        [{\"cliponaxis\":false,\"hovertemplate\":[\"scaling_users (FloatDistribution): 0.08221879661262453\\u003cextra\\u003e\\u003c\\u002fextra\\u003e\",\"scaling_items (FloatDistribution): 0.37738181068259063\\u003cextra\\u003e\\u003c\\u002fextra\\u003e\",\"num_factors (IntDistribution): 0.5403993927047849\\u003cextra\\u003e\\u003c\\u002fextra\\u003e\"],\"name\":\"Objective Value\",\"orientation\":\"h\",\"text\":[\"0.08\",\"0.38\",\"0.54\"],\"textposition\":\"outside\",\"x\":[0.08221879661262453,0.37738181068259063,0.5403993927047849],\"y\":[\"scaling_users\",\"scaling_items\",\"num_factors\"],\"type\":\"bar\"}],                        {\"title\":{\"text\":\"Hyperparameter Importances\"},\"xaxis\":{\"title\":{\"text\":\"Hyperparameter Importance\"}},\"yaxis\":{\"title\":{\"text\":\"Hyperparameter\"}},\"template\":{\"data\":{\"histogram2dcontour\":[{\"type\":\"histogram2dcontour\",\"colorbar\":{\"outlinewidth\":0,\"ticks\":\"\"},\"colorscale\":[[0.0,\"#0d0887\"],[0.1111111111111111,\"#46039f\"],[0.2222222222222222,\"#7201a8\"],[0.3333333333333333,\"#9c179e\"],[0.4444444444444444,\"#bd3786\"],[0.5555555555555556,\"#d8576b\"],[0.6666666666666666,\"#ed7953\"],[0.7777777777777778,\"#fb9f3a\"],[0.8888888888888888,\"#fdca26\"],[1.0,\"#f0f921\"]]}],\"choropleth\":[{\"type\":\"choropleth\",\"colorbar\":{\"outlinewidth\":0,\"ticks\":\"\"}}],\"histogram2d\":[{\"type\":\"histogram2d\",\"colorbar\":{\"outlinewidth\":0,\"ticks\":\"\"},\"colorscale\":[[0.0,\"#0d0887\"],[0.1111111111111111,\"#46039f\"],[0.2222222222222222,\"#7201a8\"],[0.3333333333333333,\"#9c179e\"],[0.4444444444444444,\"#bd3786\"],[0.5555555555555556,\"#d8576b\"],[0.6666666666666666,\"#ed7953\"],[0.7777777777777778,\"#fb9f3a\"],[0.8888888888888888,\"#fdca26\"],[1.0,\"#f0f921\"]]}],\"heatmap\":[{\"type\":\"heatmap\",\"colorbar\":{\"outlinewidth\":0,\"ticks\":\"\"},\"colorscale\":[[0.0,\"#0d0887\"],[0.1111111111111111,\"#46039f\"],[0.2222222222222222,\"#7201a8\"],[0.3333333333333333,\"#9c179e\"],[0.4444444444444444,\"#bd3786\"],[0.5555555555555556,\"#d8576b\"],[0.6666666666666666,\"#ed7953\"],[0.7777777777777778,\"#fb9f3a\"],[0.8888888888888888,\"#fdca26\"],[1.0,\"#f0f921\"]]}],\"heatmapgl\":[{\"type\":\"heatmapgl\",\"colorbar\":{\"outlinewidth\":0,\"ticks\":\"\"},\"colorscale\":[[0.0,\"#0d0887\"],[0.1111111111111111,\"#46039f\"],[0.2222222222222222,\"#7201a8\"],[0.3333333333333333,\"#9c179e\"],[0.4444444444444444,\"#bd3786\"],[0.5555555555555556,\"#d8576b\"],[0.6666666666666666,\"#ed7953\"],[0.7777777777777778,\"#fb9f3a\"],[0.8888888888888888,\"#fdca26\"],[1.0,\"#f0f921\"]]}],\"contourcarpet\":[{\"type\":\"contourcarpet\",\"colorbar\":{\"outlinewidth\":0,\"ticks\":\"\"}}],\"contour\":[{\"type\":\"contour\",\"colorbar\":{\"outlinewidth\":0,\"ticks\":\"\"},\"colorscale\":[[0.0,\"#0d0887\"],[0.1111111111111111,\"#46039f\"],[0.2222222222222222,\"#7201a8\"],[0.3333333333333333,\"#9c179e\"],[0.4444444444444444,\"#bd3786\"],[0.5555555555555556,\"#d8576b\"],[0.6666666666666666,\"#ed7953\"],[0.7777777777777778,\"#fb9f3a\"],[0.8888888888888888,\"#fdca26\"],[1.0,\"#f0f921\"]]}],\"surface\":[{\"type\":\"surface\",\"colorbar\":{\"outlinewidth\":0,\"ticks\":\"\"},\"colorscale\":[[0.0,\"#0d0887\"],[0.1111111111111111,\"#46039f\"],[0.2222222222222222,\"#7201a8\"],[0.3333333333333333,\"#9c179e\"],[0.4444444444444444,\"#bd3786\"],[0.5555555555555556,\"#d8576b\"],[0.6666666666666666,\"#ed7953\"],[0.7777777777777778,\"#fb9f3a\"],[0.8888888888888888,\"#fdca26\"],[1.0,\"#f0f921\"]]}],\"mesh3d\":[{\"type\":\"mesh3d\",\"colorbar\":{\"outlinewidth\":0,\"ticks\":\"\"}}],\"scatter\":[{\"fillpattern\":{\"fillmode\":\"overlay\",\"size\":10,\"solidity\":0.2},\"type\":\"scatter\"}],\"parcoords\":[{\"type\":\"parcoords\",\"line\":{\"colorbar\":{\"outlinewidth\":0,\"ticks\":\"\"}}}],\"scatterpolargl\":[{\"type\":\"scatterpolargl\",\"marker\":{\"colorbar\":{\"outlinewidth\":0,\"ticks\":\"\"}}}],\"bar\":[{\"error_x\":{\"color\":\"#2a3f5f\"},\"error_y\":{\"color\":\"#2a3f5f\"},\"marker\":{\"line\":{\"color\":\"#E5ECF6\",\"width\":0.5},\"pattern\":{\"fillmode\":\"overlay\",\"size\":10,\"solidity\":0.2}},\"type\":\"bar\"}],\"scattergeo\":[{\"type\":\"scattergeo\",\"marker\":{\"colorbar\":{\"outlinewidth\":0,\"ticks\":\"\"}}}],\"scatterpolar\":[{\"type\":\"scatterpolar\",\"marker\":{\"colorbar\":{\"outlinewidth\":0,\"ticks\":\"\"}}}],\"histogram\":[{\"marker\":{\"pattern\":{\"fillmode\":\"overlay\",\"size\":10,\"solidity\":0.2}},\"type\":\"histogram\"}],\"scattergl\":[{\"type\":\"scattergl\",\"marker\":{\"colorbar\":{\"outlinewidth\":0,\"ticks\":\"\"}}}],\"scatter3d\":[{\"type\":\"scatter3d\",\"line\":{\"colorbar\":{\"outlinewidth\":0,\"ticks\":\"\"}},\"marker\":{\"colorbar\":{\"outlinewidth\":0,\"ticks\":\"\"}}}],\"scattermapbox\":[{\"type\":\"scattermapbox\",\"marker\":{\"colorbar\":{\"outlinewidth\":0,\"ticks\":\"\"}}}],\"scatterternary\":[{\"type\":\"scatterternary\",\"marker\":{\"colorbar\":{\"outlinewidth\":0,\"ticks\":\"\"}}}],\"scattercarpet\":[{\"type\":\"scattercarpet\",\"marker\":{\"colorbar\":{\"outlinewidth\":0,\"ticks\":\"\"}}}],\"carpet\":[{\"aaxis\":{\"endlinecolor\":\"#2a3f5f\",\"gridcolor\":\"white\",\"linecolor\":\"white\",\"minorgridcolor\":\"white\",\"startlinecolor\":\"#2a3f5f\"},\"baxis\":{\"endlinecolor\":\"#2a3f5f\",\"gridcolor\":\"white\",\"linecolor\":\"white\",\"minorgridcolor\":\"white\",\"startlinecolor\":\"#2a3f5f\"},\"type\":\"carpet\"}],\"table\":[{\"cells\":{\"fill\":{\"color\":\"#EBF0F8\"},\"line\":{\"color\":\"white\"}},\"header\":{\"fill\":{\"color\":\"#C8D4E3\"},\"line\":{\"color\":\"white\"}},\"type\":\"table\"}],\"barpolar\":[{\"marker\":{\"line\":{\"color\":\"#E5ECF6\",\"width\":0.5},\"pattern\":{\"fillmode\":\"overlay\",\"size\":10,\"solidity\":0.2}},\"type\":\"barpolar\"}],\"pie\":[{\"automargin\":true,\"type\":\"pie\"}]},\"layout\":{\"autotypenumbers\":\"strict\",\"colorway\":[\"#636efa\",\"#EF553B\",\"#00cc96\",\"#ab63fa\",\"#FFA15A\",\"#19d3f3\",\"#FF6692\",\"#B6E880\",\"#FF97FF\",\"#FECB52\"],\"font\":{\"color\":\"#2a3f5f\"},\"hovermode\":\"closest\",\"hoverlabel\":{\"align\":\"left\"},\"paper_bgcolor\":\"white\",\"plot_bgcolor\":\"#E5ECF6\",\"polar\":{\"bgcolor\":\"#E5ECF6\",\"angularaxis\":{\"gridcolor\":\"white\",\"linecolor\":\"white\",\"ticks\":\"\"},\"radialaxis\":{\"gridcolor\":\"white\",\"linecolor\":\"white\",\"ticks\":\"\"}},\"ternary\":{\"bgcolor\":\"#E5ECF6\",\"aaxis\":{\"gridcolor\":\"white\",\"linecolor\":\"white\",\"ticks\":\"\"},\"baxis\":{\"gridcolor\":\"white\",\"linecolor\":\"white\",\"ticks\":\"\"},\"caxis\":{\"gridcolor\":\"white\",\"linecolor\":\"white\",\"ticks\":\"\"}},\"coloraxis\":{\"colorbar\":{\"outlinewidth\":0,\"ticks\":\"\"}},\"colorscale\":{\"sequential\":[[0.0,\"#0d0887\"],[0.1111111111111111,\"#46039f\"],[0.2222222222222222,\"#7201a8\"],[0.3333333333333333,\"#9c179e\"],[0.4444444444444444,\"#bd3786\"],[0.5555555555555556,\"#d8576b\"],[0.6666666666666666,\"#ed7953\"],[0.7777777777777778,\"#fb9f3a\"],[0.8888888888888888,\"#fdca26\"],[1.0,\"#f0f921\"]],\"sequentialminus\":[[0.0,\"#0d0887\"],[0.1111111111111111,\"#46039f\"],[0.2222222222222222,\"#7201a8\"],[0.3333333333333333,\"#9c179e\"],[0.4444444444444444,\"#bd3786\"],[0.5555555555555556,\"#d8576b\"],[0.6666666666666666,\"#ed7953\"],[0.7777777777777778,\"#fb9f3a\"],[0.8888888888888888,\"#fdca26\"],[1.0,\"#f0f921\"]],\"diverging\":[[0,\"#8e0152\"],[0.1,\"#c51b7d\"],[0.2,\"#de77ae\"],[0.3,\"#f1b6da\"],[0.4,\"#fde0ef\"],[0.5,\"#f7f7f7\"],[0.6,\"#e6f5d0\"],[0.7,\"#b8e186\"],[0.8,\"#7fbc41\"],[0.9,\"#4d9221\"],[1,\"#276419\"]]},\"xaxis\":{\"gridcolor\":\"white\",\"linecolor\":\"white\",\"ticks\":\"\",\"title\":{\"standoff\":15},\"zerolinecolor\":\"white\",\"automargin\":true,\"zerolinewidth\":2},\"yaxis\":{\"gridcolor\":\"white\",\"linecolor\":\"white\",\"ticks\":\"\",\"title\":{\"standoff\":15},\"zerolinecolor\":\"white\",\"automargin\":true,\"zerolinewidth\":2},\"scene\":{\"xaxis\":{\"backgroundcolor\":\"#E5ECF6\",\"gridcolor\":\"white\",\"linecolor\":\"white\",\"showbackground\":true,\"ticks\":\"\",\"zerolinecolor\":\"white\",\"gridwidth\":2},\"yaxis\":{\"backgroundcolor\":\"#E5ECF6\",\"gridcolor\":\"white\",\"linecolor\":\"white\",\"showbackground\":true,\"ticks\":\"\",\"zerolinecolor\":\"white\",\"gridwidth\":2},\"zaxis\":{\"backgroundcolor\":\"#E5ECF6\",\"gridcolor\":\"white\",\"linecolor\":\"white\",\"showbackground\":true,\"ticks\":\"\",\"zerolinecolor\":\"white\",\"gridwidth\":2}},\"shapedefaults\":{\"line\":{\"color\":\"#2a3f5f\"}},\"annotationdefaults\":{\"arrowcolor\":\"#2a3f5f\",\"arrowhead\":0,\"arrowwidth\":1},\"geo\":{\"bgcolor\":\"white\",\"landcolor\":\"#E5ECF6\",\"subunitcolor\":\"white\",\"showland\":true,\"showlakes\":true,\"lakecolor\":\"white\"},\"title\":{\"x\":0.05},\"mapbox\":{\"style\":\"light\"}}}},                        {\"responsive\": true}                    ).then(function(){\n",
       "                            \n",
       "var gd = document.getElementById('8ae74566-3b5a-4eb9-8cfb-9f3e46497ead');\n",
       "var x = new MutationObserver(function (mutations, observer) {{\n",
       "        var display = window.getComputedStyle(gd).display;\n",
       "        if (!display || display === 'none') {{\n",
       "            console.log([gd, 'removed!']);\n",
       "            Plotly.purge(gd);\n",
       "            observer.disconnect();\n",
       "        }}\n",
       "}});\n",
       "\n",
       "// Listen for the removal of the full notebook cells\n",
       "var notebookContainer = gd.closest('#notebook-container');\n",
       "if (notebookContainer) {{\n",
       "    x.observe(notebookContainer, {childList: true});\n",
       "}}\n",
       "\n",
       "// Listen for the clearing of the current output cell\n",
       "var outputEl = gd.closest('.output');\n",
       "if (outputEl) {{\n",
       "    x.observe(outputEl, {childList: true});\n",
       "}}\n",
       "\n",
       "                        })                };                });            </script>        </div>"
      ]
     },
     "metadata": {},
     "output_type": "display_data"
    }
   ],
   "source": [
    "if config['tune_parameters']:\n",
    "    fig = optuna.visualization.plot_param_importances(study)\n",
    "    fig.show()"
   ]
  },
  {
   "cell_type": "code",
   "execution_count": 18,
   "id": "c7ce6c79",
   "metadata": {
    "execution": {
     "iopub.execute_input": "2023-12-04T18:41:42.282672Z",
     "iopub.status.busy": "2023-12-04T18:41:42.281905Z",
     "iopub.status.idle": "2023-12-04T18:41:42.737406Z",
     "shell.execute_reply": "2023-12-04T18:41:42.736093Z"
    },
    "papermill": {
     "duration": 0.57788,
     "end_time": "2023-12-04T18:41:42.740174",
     "exception": false,
     "start_time": "2023-12-04T18:41:42.162294",
     "status": "completed"
    },
    "tags": []
   },
   "outputs": [
    {
     "data": {
      "text/html": [
       "<div>                            <div id=\"e6f08820-f8fe-4ed1-996b-31b3ee0cfc57\" class=\"plotly-graph-div\" style=\"height:525px; width:100%;\"></div>            <script type=\"text/javascript\">                require([\"plotly\"], function(Plotly) {                    window.PLOTLYENV=window.PLOTLYENV || {};                                    if (document.getElementById(\"e6f08820-f8fe-4ed1-996b-31b3ee0cfc57\")) {                    Plotly.newPlot(                        \"e6f08820-f8fe-4ed1-996b-31b3ee0cfc57\",                        [{\"marker\":{\"color\":[0,1,2,3,4,5,6,7,8,9,10,11,12,13,14,15,16,17,18,19,20,21,22,23,24,25,26,27,28,29,30,31,32,33,34,35,36,37,38,39,40,41,42,43,44,45,46,47,48,49,50,51,52,53,54,55,56,57,58,59,60,61,62,63,64,65,66,67,68,69,70,71,72,73,74,75,76,77,78,79,80,81,82,83,84,85,86,87,88,89,90,91,92,93,94,95,96,97,98,99,100,101,102,103,104,105,106,107,108,109,110,111,112,113,114,115,116,117,118,119,120,121,122,123,124,125,126,127,128,129,130,131,132,133,134,135,136,137,138,139,140,141,142,143,144,145,146,147,148,149,150,151,152,153,154,155,156,157,158,159,160,161,162,163,164,165,166,167,168,169,170,171,172,173,174,175,176,177,178,179,180,181,182,183,184,185,186,187,188,189,190,191,192,193,194,195,196,197,198,199],\"colorbar\":{\"title\":{\"text\":\"Trial\"},\"x\":1.0,\"xpad\":40},\"colorscale\":[[0.0,\"rgb(247,251,255)\"],[0.125,\"rgb(222,235,247)\"],[0.25,\"rgb(198,219,239)\"],[0.375,\"rgb(158,202,225)\"],[0.5,\"rgb(107,174,214)\"],[0.625,\"rgb(66,146,198)\"],[0.75,\"rgb(33,113,181)\"],[0.875,\"rgb(8,81,156)\"],[1.0,\"rgb(8,48,107)\"]],\"line\":{\"color\":\"Grey\",\"width\":0.5},\"showscale\":true},\"mode\":\"markers\",\"name\":\"Feasible Trial\",\"showlegend\":false,\"x\":[290,1,346,3,36,1,9,7,397,4,1508,1288,1613,172,110,58,93,97,24,175,23,99,158,607,192,49,656,170,195,274,618,184,147,294,64,391,136,228,74,41,143,236,362,225,145,498,836,311,925,70,434,189,253,279,110,266,409,112,84,207,51,224,173,168,161,93,124,334,160,80,128,157,186,177,96,306,61,163,159,158,107,124,181,82,144,226,245,329,114,207,256,169,486,176,373,126,202,222,286,151,198,135,90,179,232,237,327,245,401,219,284,106,165,199,135,256,158,351,73,210,452,215,214,289,193,245,197,104,123,524,358,219,203,186,143,193,300,182,137,249,90,187,172,276,114,151,137,191,340,237,264,237,208,159,153,118,143,310,99,224,414,177,163,193,184,122,192,148,278,223,224,176,205,150,256,181,129,313,216,160,259,175,28,213,138,187,110,244,153,355,192,227,293,225,166,127,199,14,250,158],\"y\":[0.028051722410463983,0.011563255243438849,0.021002450935742822,0.0164111818535116,0.017733506849564536,0.011574386544977566,0.022245426033203418,0.019628196311679474,0.022114408374928594,0.010586554693287632,0.022675740214473925,0.023982888233079494,0.02273616727996986,0.03216429239382602,0.03114601550260525,0.02897478549568284,0.03113112316464479,0.031407435997862734,0.027878608469656802,0.0308921056946117,0.02803108794525218,0.0298296110078821,0.031756973287912806,0.028434365170450008,0.031058236480004157,0.029592863063358715,0.029627304441287052,0.03201985493253694,0.03146990487727891,0.030767741009946756,0.02900642602105899,0.03186385731288201,0.031395815116406475,0.031045021617420492,0.02902674548523837,0.02796886575339154,0.031057189006691976,0.031483449921667496,0.026783103192820196,0.027972072691611886,0.03116345061998317,0.031171959443048004,0.030477784457318014,0.031541402521222985,0.03141408897147258,0.030330477829999893,0.02740861174870366,0.029748040921290887,0.027247953631848093,0.028533666399485198,0.030343715463742458,0.03119170962825355,0.031882825688296534,0.031139396685734,0.029499618962606944,0.0308509809815283,0.03097407048129154,0.03135944578035262,0.030695696858187505,0.03129626719981565,0.02512164732636238,0.03134753646421615,0.03210196014136362,0.032161681300931756,0.03181055382494783,0.03069849391554653,0.03160584110588924,0.03019589648534769,0.03201182430381019,0.030776754593701952,0.03179557040235146,0.032135574167183094,0.0319172480902591,0.031349407494444155,0.030493587641636854,0.03154042715658076,0.029896861830679886,0.03208123838670911,0.03204121807483543,0.03162786081660446,0.03172007642000978,0.03169499019322108,0.0321392137574237,0.030649334778543126,0.03079472483331542,0.032076942228051956,0.03183988687288262,0.031710474581314506,0.030290666253749758,0.03168793492913643,0.031836729272173306,0.03204999256142169,0.03026375074385816,0.031997660642936375,0.031281788537909604,0.030824748606405307,0.03224059095711774,0.031342712773709674,0.031763637647101994,0.031995523949187255,0.031908708905648814,0.031480527622934205,0.030567802643883615,0.032023536269902314,0.03224373337705435,0.03209512879367551,0.031975637137027925,0.03202175632431022,0.031015589894463493,0.031489138916214604,0.031204267922420537,0.03113284997753268,0.0319668019273512,0.03191578694089242,0.03183570457002013,0.031574720521975935,0.031873109993806464,0.031886628471842995,0.03070513550357684,0.03218200076511134,0.031067386690713357,0.03205448986531657,0.03188077628399016,0.03121342951870904,0.03213924032377591,0.03189299301077263,0.032370747106545014,0.03036605017548998,0.03067232605870743,0.029826491359104562,0.03176484451852686,0.03219231230492735,0.032080585613485674,0.03208953467895734,0.031738995457913,0.031496057553345426,0.03152234685636575,0.0320441062168303,0.031105008440509844,0.03143444259239036,0.031079106247191898,0.0321091672131748,0.0316657102779906,0.0315236599931992,0.031160334766398467,0.032363346479882836,0.03196698409662277,0.029369868898847757,0.030479708620250196,0.032189473500443676,0.03178358518235177,0.031785626996271917,0.03190957800488237,0.03156683790578234,0.032150963675447536,0.03123997309967124,0.030383546015958315,0.030885672842205236,0.03090048927630255,0.03198231288179677,0.031137161316962706,0.03246891357282551,0.03209150817940065,0.03222358090137388,0.03226073584241183,0.03151842262663838,0.03208818738538552,0.031666556606065224,0.031087197599009225,0.03211458674900766,0.03145560838464459,0.027167601802261482,0.03193743472267799,0.031812364132085165,0.03152211155438991,0.0316437778567181,0.031482983112908806,0.03107169803014325,0.031932011391652144,0.03166159628860503,0.03158499790505368,0.03197590659574237,0.026133335762257025,0.030142980107115806,0.03205548420592446,0.03187710253701105,0.031637443679333827,0.03152014943952612,0.031941142626395344,0.03191942273593984,0.03125088048481346,0.03214455738939328,0.031629739437218744,0.03193655803305802,0.03199539870781298,0.031529694350323906,0.03160804231792209,0.016663159908186703,0.03176496596470793,0.02829313085218812],\"type\":\"scatter\",\"xaxis\":\"x\",\"yaxis\":\"y\"},{\"marker\":{\"color\":[0,1,2,3,4,5,6,7,8,9,10,11,12,13,14,15,16,17,18,19,20,21,22,23,24,25,26,27,28,29,30,31,32,33,34,35,36,37,38,39,40,41,42,43,44,45,46,47,48,49,50,51,52,53,54,55,56,57,58,59,60,61,62,63,64,65,66,67,68,69,70,71,72,73,74,75,76,77,78,79,80,81,82,83,84,85,86,87,88,89,90,91,92,93,94,95,96,97,98,99,100,101,102,103,104,105,106,107,108,109,110,111,112,113,114,115,116,117,118,119,120,121,122,123,124,125,126,127,128,129,130,131,132,133,134,135,136,137,138,139,140,141,142,143,144,145,146,147,148,149,150,151,152,153,154,155,156,157,158,159,160,161,162,163,164,165,166,167,168,169,170,171,172,173,174,175,176,177,178,179,180,181,182,183,184,185,186,187,188,189,190,191,192,193,194,195,196,197,198,199],\"colorbar\":{\"title\":{\"text\":\"Trial\"},\"x\":1.0,\"xpad\":40},\"colorscale\":[[0.0,\"rgb(247,251,255)\"],[0.125,\"rgb(222,235,247)\"],[0.25,\"rgb(198,219,239)\"],[0.375,\"rgb(158,202,225)\"],[0.5,\"rgb(107,174,214)\"],[0.625,\"rgb(66,146,198)\"],[0.75,\"rgb(33,113,181)\"],[0.875,\"rgb(8,81,156)\"],[1.0,\"rgb(8,48,107)\"]],\"line\":{\"color\":\"Grey\",\"width\":0.5},\"showscale\":false},\"mode\":\"markers\",\"name\":\"Feasible Trial\",\"showlegend\":false,\"x\":[0.09911837114373374,0.07217924669542175,0.24178299615947324,0.017886987682524037,0.9260333070099159,0.022522831376865775,0.02749449547630996,0.118890235281323,0.1795330648378654,0.9022117658614536,0.06046862802162751,0.05223764122674396,0.0445440790585296,0.011986926261636522,0.010516755328153635,0.011834726195850204,0.011094416642145331,0.010647665437399088,0.03023377527574395,0.017441237017714953,0.03345353343667484,0.010377499183821692,0.01591023366828904,0.017769326572683132,0.014671145337201437,0.02190558614115241,0.0138786769140176,0.01447822586183707,0.022878603740856186,0.0372903146254398,0.014857816822497441,0.021792792402572515,0.026209526854958972,0.01914167380803529,0.014610595495143089,0.039262658066332876,0.02842894080605645,0.020483941687739458,0.01336374003727551,0.017368929826491675,0.02458043873695481,0.020536622757240462,0.01579569124100464,0.021646453374556063,0.012887589515073652,0.02789339760795372,0.0343284267755288,0.05759537146463876,0.010095440720526691,0.044269261644126756,0.012659434829116396,0.02057784422833515,0.01799908771797379,0.02511099669903749,0.01722404292985269,0.011703080515479814,0.015786463360057186,0.030466257194064438,0.011813456382896497,0.023325352507132305,0.01875996257338042,0.01946761354304132,0.015788656286499732,0.013684680382687137,0.012911472685675699,0.012983727075230597,0.014465113254940163,0.010335916060990486,0.011647026974402655,0.011212659119126098,0.01672306118070225,0.013354016805827516,0.014572748366523633,0.011993312870481726,0.014576183474461971,0.010258900107450784,0.01603412184107389,0.01420487423794006,0.013687411073911073,0.011633598055255948,0.013576467546857587,0.015033278809029523,0.012973728095632507,0.011250895497302772,0.01267133759247722,0.01012725438969286,0.01817916791282528,0.010078268606277297,0.014095236518703867,0.015815451940833104,0.013330653684065377,0.011398040227904933,0.01100021307622313,0.016542600707054298,0.01230065218010341,0.01890853267937223,0.0100784776753464,0.010257084989179703,0.013724694457195818,0.011174803926914206,0.012467721047222739,0.01676812543154053,0.01515966561552211,0.013740194447619331,0.010046318208207953,0.011014169624101715,0.010986647164365265,0.010059088299291549,0.012295589283159674,0.011156778759499938,0.012241671230599866,0.01094015543905533,0.013182932230407665,0.015430766104561885,0.013821201620939945,0.012096730137590375,0.017084105687965073,0.01006108237981766,0.020030177824214505,0.011379362854157634,0.010003877743527534,0.011259701056215462,0.011691220121218173,0.012606291034816444,0.011021286812343416,0.015160736930938981,0.010707442323886741,0.013264306253001127,0.010871238750683427,0.014416259947959122,0.010016944191678076,0.011809356441810005,0.01231956997185363,0.012417592730398575,0.016147350661818768,0.01752186870085731,0.013609320824613634,0.012033194831838021,0.014672137166773146,0.023058731119329427,0.011097214037808101,0.012605389686535991,0.013038166789184033,0.011876510325048516,0.015170839342904254,0.010881635365713328,0.010837539840184984,0.0781725323476441,0.012848860781318833,0.010975526825062502,0.010959112356920389,0.011764105844222904,0.01273974340156771,0.010845415155281521,0.011746861216922259,0.013837707455819326,0.011569162004390262,0.01003859326981667,0.01641918608852658,0.010859770901865459,0.01380355510186333,0.012617702531093247,0.011958579655518987,0.012920774263113045,0.014673141672865082,0.018763633470643228,0.013206012995106289,0.010013402310195695,0.014738683011330862,0.012695665005150717,0.011633450969924878,0.14212025635400644,0.012710245119350854,0.014240938272500763,0.012372217409823272,0.026335640892928728,0.010919967367899065,0.01550943556575801,0.013168641728611603,0.032241323255611555,0.017421666830722052,0.012086113888604755,0.04152752427302201,0.052061655895738294,0.015527258539422639,0.014040561328016303,0.010043709813138957,0.01164265096261957,0.013380100610294775,0.011058580043592505,0.03530581333336594,0.010841200158576154,0.012265017781831873,0.010844948906947174,0.012797475407295686,0.011520671722028088,0.029225241931299387,0.010019974994190826,0.014614456176816061,0.01353790640518],\"y\":[0.028051722410463983,0.011563255243438849,0.021002450935742822,0.0164111818535116,0.017733506849564536,0.011574386544977566,0.022245426033203418,0.019628196311679474,0.022114408374928594,0.010586554693287632,0.022675740214473925,0.023982888233079494,0.02273616727996986,0.03216429239382602,0.03114601550260525,0.02897478549568284,0.03113112316464479,0.031407435997862734,0.027878608469656802,0.0308921056946117,0.02803108794525218,0.0298296110078821,0.031756973287912806,0.028434365170450008,0.031058236480004157,0.029592863063358715,0.029627304441287052,0.03201985493253694,0.03146990487727891,0.030767741009946756,0.02900642602105899,0.03186385731288201,0.031395815116406475,0.031045021617420492,0.02902674548523837,0.02796886575339154,0.031057189006691976,0.031483449921667496,0.026783103192820196,0.027972072691611886,0.03116345061998317,0.031171959443048004,0.030477784457318014,0.031541402521222985,0.03141408897147258,0.030330477829999893,0.02740861174870366,0.029748040921290887,0.027247953631848093,0.028533666399485198,0.030343715463742458,0.03119170962825355,0.031882825688296534,0.031139396685734,0.029499618962606944,0.0308509809815283,0.03097407048129154,0.03135944578035262,0.030695696858187505,0.03129626719981565,0.02512164732636238,0.03134753646421615,0.03210196014136362,0.032161681300931756,0.03181055382494783,0.03069849391554653,0.03160584110588924,0.03019589648534769,0.03201182430381019,0.030776754593701952,0.03179557040235146,0.032135574167183094,0.0319172480902591,0.031349407494444155,0.030493587641636854,0.03154042715658076,0.029896861830679886,0.03208123838670911,0.03204121807483543,0.03162786081660446,0.03172007642000978,0.03169499019322108,0.0321392137574237,0.030649334778543126,0.03079472483331542,0.032076942228051956,0.03183988687288262,0.031710474581314506,0.030290666253749758,0.03168793492913643,0.031836729272173306,0.03204999256142169,0.03026375074385816,0.031997660642936375,0.031281788537909604,0.030824748606405307,0.03224059095711774,0.031342712773709674,0.031763637647101994,0.031995523949187255,0.031908708905648814,0.031480527622934205,0.030567802643883615,0.032023536269902314,0.03224373337705435,0.03209512879367551,0.031975637137027925,0.03202175632431022,0.031015589894463493,0.031489138916214604,0.031204267922420537,0.03113284997753268,0.0319668019273512,0.03191578694089242,0.03183570457002013,0.031574720521975935,0.031873109993806464,0.031886628471842995,0.03070513550357684,0.03218200076511134,0.031067386690713357,0.03205448986531657,0.03188077628399016,0.03121342951870904,0.03213924032377591,0.03189299301077263,0.032370747106545014,0.03036605017548998,0.03067232605870743,0.029826491359104562,0.03176484451852686,0.03219231230492735,0.032080585613485674,0.03208953467895734,0.031738995457913,0.031496057553345426,0.03152234685636575,0.0320441062168303,0.031105008440509844,0.03143444259239036,0.031079106247191898,0.0321091672131748,0.0316657102779906,0.0315236599931992,0.031160334766398467,0.032363346479882836,0.03196698409662277,0.029369868898847757,0.030479708620250196,0.032189473500443676,0.03178358518235177,0.031785626996271917,0.03190957800488237,0.03156683790578234,0.032150963675447536,0.03123997309967124,0.030383546015958315,0.030885672842205236,0.03090048927630255,0.03198231288179677,0.031137161316962706,0.03246891357282551,0.03209150817940065,0.03222358090137388,0.03226073584241183,0.03151842262663838,0.03208818738538552,0.031666556606065224,0.031087197599009225,0.03211458674900766,0.03145560838464459,0.027167601802261482,0.03193743472267799,0.031812364132085165,0.03152211155438991,0.0316437778567181,0.031482983112908806,0.03107169803014325,0.031932011391652144,0.03166159628860503,0.03158499790505368,0.03197590659574237,0.026133335762257025,0.030142980107115806,0.03205548420592446,0.03187710253701105,0.031637443679333827,0.03152014943952612,0.031941142626395344,0.03191942273593984,0.03125088048481346,0.03214455738939328,0.031629739437218744,0.03193655803305802,0.03199539870781298,0.031529694350323906,0.03160804231792209,0.016663159908186703,0.03176496596470793,0.02829313085218812],\"type\":\"scatter\",\"xaxis\":\"x2\",\"yaxis\":\"y2\"},{\"marker\":{\"color\":[0,1,2,3,4,5,6,7,8,9,10,11,12,13,14,15,16,17,18,19,20,21,22,23,24,25,26,27,28,29,30,31,32,33,34,35,36,37,38,39,40,41,42,43,44,45,46,47,48,49,50,51,52,53,54,55,56,57,58,59,60,61,62,63,64,65,66,67,68,69,70,71,72,73,74,75,76,77,78,79,80,81,82,83,84,85,86,87,88,89,90,91,92,93,94,95,96,97,98,99,100,101,102,103,104,105,106,107,108,109,110,111,112,113,114,115,116,117,118,119,120,121,122,123,124,125,126,127,128,129,130,131,132,133,134,135,136,137,138,139,140,141,142,143,144,145,146,147,148,149,150,151,152,153,154,155,156,157,158,159,160,161,162,163,164,165,166,167,168,169,170,171,172,173,174,175,176,177,178,179,180,181,182,183,184,185,186,187,188,189,190,191,192,193,194,195,196,197,198,199],\"colorbar\":{\"title\":{\"text\":\"Trial\"},\"x\":1.0,\"xpad\":40},\"colorscale\":[[0.0,\"rgb(247,251,255)\"],[0.125,\"rgb(222,235,247)\"],[0.25,\"rgb(198,219,239)\"],[0.375,\"rgb(158,202,225)\"],[0.5,\"rgb(107,174,214)\"],[0.625,\"rgb(66,146,198)\"],[0.75,\"rgb(33,113,181)\"],[0.875,\"rgb(8,81,156)\"],[1.0,\"rgb(8,48,107)\"]],\"line\":{\"color\":\"Grey\",\"width\":0.5},\"showscale\":false},\"mode\":\"markers\",\"name\":\"Feasible Trial\",\"showlegend\":false,\"x\":[0.3784975715037821,0.018397615855916767,0.14562716191554662,0.06790274735375214,0.8262020510332457,0.01183605585132389,0.21878067091825468,0.07696866606512878,0.050429095206017495,0.17819910754252302,0.7655622050065557,0.8102964983636187,0.41066344867488364,0.35919536001377006,0.3586408282865677,0.36058714668181535,0.278779190492716,0.11142019127396355,0.11565895351198735,0.11887729065906487,0.04316774492272223,0.5114100497596981,0.22280858442731177,0.21250305803568645,0.15297317334720575,0.2303653602180532,0.5309824314878822,0.2864429030517428,0.26878170527811956,0.5827178850122174,0.31766694459009515,0.2640279356688288,0.18454674982107894,0.28463749577060926,0.3785358850716327,0.14937760523912086,0.44234883467645963,0.25070332960148844,0.6166921963601751,0.3211323894633329,0.18702009036369513,0.23733965549129307,0.27085730425573307,0.41426910588912935,0.4332111028824401,0.9606278377881233,0.6727392427308986,0.4808900081919164,0.3618549341598366,0.45218845813580627,0.32167241872691876,0.23194303732921756,0.3926604490319101,0.3688886464360465,0.5498681491226061,0.7326457862542872,0.417797365378169,0.18675217351212686,0.32201067784142856,0.21121018050188728,0.6047135702122174,0.2555024875258945,0.2916636612900727,0.28945829140085255,0.16739840853649268,0.3003255153475361,0.16840824995056702,0.12858089924236238,0.20558850419642993,0.2841921416929733,0.211264862223096,0.33655059429069945,0.33929525657664844,0.49307030043170397,0.38373926647568213,0.3357229303952435,0.295585038301063,0.35300292587216253,0.3456409613499651,0.4554614659029994,0.2551312564778373,0.3303605237115736,0.35973425129134395,0.28978154253287364,0.5212866202567986,0.3826520778474342,0.3729566372751163,0.4150721200174657,0.4874717046853626,0.23957147007071994,0.35475409518319206,0.29128563839228905,0.3022107216758219,0.27001710030820997,0.4076231797378049,0.4548124855783159,0.35480205590361524,0.5563125437972972,0.3498188746889513,0.3888074975980803,0.24130445313690602,0.32403901642457256,0.2739463332370428,0.30585470379641994,0.357293302739396,0.4223756918937848,0.43853055244475475,0.48450188288047197,0.38916271905947275,0.5585243114451084,0.6589110547455642,0.3508338421018349,0.3558008907226925,0.4163426956203785,0.30737665797091007,0.2723528861331483,0.3896081193210665,0.5090467933540409,0.22628886708168705,0.32967432211857195,0.44816744864149904,0.33149360869712774,0.3212167561737005,0.2619544942358381,0.37537345101909075,0.3885734252065891,0.362117771622556,0.42285154006531966,0.4740952713306777,0.3558954422493168,0.5288566829927878,0.33064915335615835,0.37545213513822195,0.3002920440858148,0.2989688494295843,0.2454674868505365,0.3154896613973089,0.2782119479648879,0.4464826209761819,0.34443175588589425,0.25913532099551306,0.3731791388420514,0.4118144035322968,0.3186863208389647,0.3666919521830483,0.289953034532728,0.20131891705085656,0.2912933950802036,0.21871698838573592,0.42172597149657837,0.48821357273732974,0.4004972294040711,0.3373668859855431,0.4275188947707198,0.3099685466407253,0.3678821642407931,0.5909363663070683,0.24823809770751884,0.3253908320839597,0.2793624695991876,0.4597302553653818,0.3028728175676322,0.38017014146816885,0.31602038256909937,0.30964001753581266,0.3390047355849592,0.30079166752145986,0.3267208780456535,0.2611664692192,0.36518231311821925,0.23172912892645336,0.3600611299788208,0.3126502464725934,0.4000921832266274,0.283525060265219,0.3516909684730898,0.3855772547278946,0.3191453169878693,0.26799128370138303,0.4197344331497065,0.35626488675520546,0.2928938984180744,0.3326200343538391,0.301130654087927,0.24792616415474386,0.3671194188386475,0.09327701785529213,0.28160740365349235,0.39217892745114974,0.46287888581852704,0.3315373439668287,0.42473798796425977,0.4312297885770632,0.3079978703486292,0.37025231811728615,0.4142428557432945,0.3503547903312466,0.5180459634207049,0.31412581983513166,0.8644833853651296],\"y\":[0.028051722410463983,0.011563255243438849,0.021002450935742822,0.0164111818535116,0.017733506849564536,0.011574386544977566,0.022245426033203418,0.019628196311679474,0.022114408374928594,0.010586554693287632,0.022675740214473925,0.023982888233079494,0.02273616727996986,0.03216429239382602,0.03114601550260525,0.02897478549568284,0.03113112316464479,0.031407435997862734,0.027878608469656802,0.0308921056946117,0.02803108794525218,0.0298296110078821,0.031756973287912806,0.028434365170450008,0.031058236480004157,0.029592863063358715,0.029627304441287052,0.03201985493253694,0.03146990487727891,0.030767741009946756,0.02900642602105899,0.03186385731288201,0.031395815116406475,0.031045021617420492,0.02902674548523837,0.02796886575339154,0.031057189006691976,0.031483449921667496,0.026783103192820196,0.027972072691611886,0.03116345061998317,0.031171959443048004,0.030477784457318014,0.031541402521222985,0.03141408897147258,0.030330477829999893,0.02740861174870366,0.029748040921290887,0.027247953631848093,0.028533666399485198,0.030343715463742458,0.03119170962825355,0.031882825688296534,0.031139396685734,0.029499618962606944,0.0308509809815283,0.03097407048129154,0.03135944578035262,0.030695696858187505,0.03129626719981565,0.02512164732636238,0.03134753646421615,0.03210196014136362,0.032161681300931756,0.03181055382494783,0.03069849391554653,0.03160584110588924,0.03019589648534769,0.03201182430381019,0.030776754593701952,0.03179557040235146,0.032135574167183094,0.0319172480902591,0.031349407494444155,0.030493587641636854,0.03154042715658076,0.029896861830679886,0.03208123838670911,0.03204121807483543,0.03162786081660446,0.03172007642000978,0.03169499019322108,0.0321392137574237,0.030649334778543126,0.03079472483331542,0.032076942228051956,0.03183988687288262,0.031710474581314506,0.030290666253749758,0.03168793492913643,0.031836729272173306,0.03204999256142169,0.03026375074385816,0.031997660642936375,0.031281788537909604,0.030824748606405307,0.03224059095711774,0.031342712773709674,0.031763637647101994,0.031995523949187255,0.031908708905648814,0.031480527622934205,0.030567802643883615,0.032023536269902314,0.03224373337705435,0.03209512879367551,0.031975637137027925,0.03202175632431022,0.031015589894463493,0.031489138916214604,0.031204267922420537,0.03113284997753268,0.0319668019273512,0.03191578694089242,0.03183570457002013,0.031574720521975935,0.031873109993806464,0.031886628471842995,0.03070513550357684,0.03218200076511134,0.031067386690713357,0.03205448986531657,0.03188077628399016,0.03121342951870904,0.03213924032377591,0.03189299301077263,0.032370747106545014,0.03036605017548998,0.03067232605870743,0.029826491359104562,0.03176484451852686,0.03219231230492735,0.032080585613485674,0.03208953467895734,0.031738995457913,0.031496057553345426,0.03152234685636575,0.0320441062168303,0.031105008440509844,0.03143444259239036,0.031079106247191898,0.0321091672131748,0.0316657102779906,0.0315236599931992,0.031160334766398467,0.032363346479882836,0.03196698409662277,0.029369868898847757,0.030479708620250196,0.032189473500443676,0.03178358518235177,0.031785626996271917,0.03190957800488237,0.03156683790578234,0.032150963675447536,0.03123997309967124,0.030383546015958315,0.030885672842205236,0.03090048927630255,0.03198231288179677,0.031137161316962706,0.03246891357282551,0.03209150817940065,0.03222358090137388,0.03226073584241183,0.03151842262663838,0.03208818738538552,0.031666556606065224,0.031087197599009225,0.03211458674900766,0.03145560838464459,0.027167601802261482,0.03193743472267799,0.031812364132085165,0.03152211155438991,0.0316437778567181,0.031482983112908806,0.03107169803014325,0.031932011391652144,0.03166159628860503,0.03158499790505368,0.03197590659574237,0.026133335762257025,0.030142980107115806,0.03205548420592446,0.03187710253701105,0.031637443679333827,0.03152014943952612,0.031941142626395344,0.03191942273593984,0.03125088048481346,0.03214455738939328,0.031629739437218744,0.03193655803305802,0.03199539870781298,0.031529694350323906,0.03160804231792209,0.016663159908186703,0.03176496596470793,0.02829313085218812],\"type\":\"scatter\",\"xaxis\":\"x3\",\"yaxis\":\"y3\"}],                        {\"template\":{\"data\":{\"histogram2dcontour\":[{\"type\":\"histogram2dcontour\",\"colorbar\":{\"outlinewidth\":0,\"ticks\":\"\"},\"colorscale\":[[0.0,\"#0d0887\"],[0.1111111111111111,\"#46039f\"],[0.2222222222222222,\"#7201a8\"],[0.3333333333333333,\"#9c179e\"],[0.4444444444444444,\"#bd3786\"],[0.5555555555555556,\"#d8576b\"],[0.6666666666666666,\"#ed7953\"],[0.7777777777777778,\"#fb9f3a\"],[0.8888888888888888,\"#fdca26\"],[1.0,\"#f0f921\"]]}],\"choropleth\":[{\"type\":\"choropleth\",\"colorbar\":{\"outlinewidth\":0,\"ticks\":\"\"}}],\"histogram2d\":[{\"type\":\"histogram2d\",\"colorbar\":{\"outlinewidth\":0,\"ticks\":\"\"},\"colorscale\":[[0.0,\"#0d0887\"],[0.1111111111111111,\"#46039f\"],[0.2222222222222222,\"#7201a8\"],[0.3333333333333333,\"#9c179e\"],[0.4444444444444444,\"#bd3786\"],[0.5555555555555556,\"#d8576b\"],[0.6666666666666666,\"#ed7953\"],[0.7777777777777778,\"#fb9f3a\"],[0.8888888888888888,\"#fdca26\"],[1.0,\"#f0f921\"]]}],\"heatmap\":[{\"type\":\"heatmap\",\"colorbar\":{\"outlinewidth\":0,\"ticks\":\"\"},\"colorscale\":[[0.0,\"#0d0887\"],[0.1111111111111111,\"#46039f\"],[0.2222222222222222,\"#7201a8\"],[0.3333333333333333,\"#9c179e\"],[0.4444444444444444,\"#bd3786\"],[0.5555555555555556,\"#d8576b\"],[0.6666666666666666,\"#ed7953\"],[0.7777777777777778,\"#fb9f3a\"],[0.8888888888888888,\"#fdca26\"],[1.0,\"#f0f921\"]]}],\"heatmapgl\":[{\"type\":\"heatmapgl\",\"colorbar\":{\"outlinewidth\":0,\"ticks\":\"\"},\"colorscale\":[[0.0,\"#0d0887\"],[0.1111111111111111,\"#46039f\"],[0.2222222222222222,\"#7201a8\"],[0.3333333333333333,\"#9c179e\"],[0.4444444444444444,\"#bd3786\"],[0.5555555555555556,\"#d8576b\"],[0.6666666666666666,\"#ed7953\"],[0.7777777777777778,\"#fb9f3a\"],[0.8888888888888888,\"#fdca26\"],[1.0,\"#f0f921\"]]}],\"contourcarpet\":[{\"type\":\"contourcarpet\",\"colorbar\":{\"outlinewidth\":0,\"ticks\":\"\"}}],\"contour\":[{\"type\":\"contour\",\"colorbar\":{\"outlinewidth\":0,\"ticks\":\"\"},\"colorscale\":[[0.0,\"#0d0887\"],[0.1111111111111111,\"#46039f\"],[0.2222222222222222,\"#7201a8\"],[0.3333333333333333,\"#9c179e\"],[0.4444444444444444,\"#bd3786\"],[0.5555555555555556,\"#d8576b\"],[0.6666666666666666,\"#ed7953\"],[0.7777777777777778,\"#fb9f3a\"],[0.8888888888888888,\"#fdca26\"],[1.0,\"#f0f921\"]]}],\"surface\":[{\"type\":\"surface\",\"colorbar\":{\"outlinewidth\":0,\"ticks\":\"\"},\"colorscale\":[[0.0,\"#0d0887\"],[0.1111111111111111,\"#46039f\"],[0.2222222222222222,\"#7201a8\"],[0.3333333333333333,\"#9c179e\"],[0.4444444444444444,\"#bd3786\"],[0.5555555555555556,\"#d8576b\"],[0.6666666666666666,\"#ed7953\"],[0.7777777777777778,\"#fb9f3a\"],[0.8888888888888888,\"#fdca26\"],[1.0,\"#f0f921\"]]}],\"mesh3d\":[{\"type\":\"mesh3d\",\"colorbar\":{\"outlinewidth\":0,\"ticks\":\"\"}}],\"scatter\":[{\"fillpattern\":{\"fillmode\":\"overlay\",\"size\":10,\"solidity\":0.2},\"type\":\"scatter\"}],\"parcoords\":[{\"type\":\"parcoords\",\"line\":{\"colorbar\":{\"outlinewidth\":0,\"ticks\":\"\"}}}],\"scatterpolargl\":[{\"type\":\"scatterpolargl\",\"marker\":{\"colorbar\":{\"outlinewidth\":0,\"ticks\":\"\"}}}],\"bar\":[{\"error_x\":{\"color\":\"#2a3f5f\"},\"error_y\":{\"color\":\"#2a3f5f\"},\"marker\":{\"line\":{\"color\":\"#E5ECF6\",\"width\":0.5},\"pattern\":{\"fillmode\":\"overlay\",\"size\":10,\"solidity\":0.2}},\"type\":\"bar\"}],\"scattergeo\":[{\"type\":\"scattergeo\",\"marker\":{\"colorbar\":{\"outlinewidth\":0,\"ticks\":\"\"}}}],\"scatterpolar\":[{\"type\":\"scatterpolar\",\"marker\":{\"colorbar\":{\"outlinewidth\":0,\"ticks\":\"\"}}}],\"histogram\":[{\"marker\":{\"pattern\":{\"fillmode\":\"overlay\",\"size\":10,\"solidity\":0.2}},\"type\":\"histogram\"}],\"scattergl\":[{\"type\":\"scattergl\",\"marker\":{\"colorbar\":{\"outlinewidth\":0,\"ticks\":\"\"}}}],\"scatter3d\":[{\"type\":\"scatter3d\",\"line\":{\"colorbar\":{\"outlinewidth\":0,\"ticks\":\"\"}},\"marker\":{\"colorbar\":{\"outlinewidth\":0,\"ticks\":\"\"}}}],\"scattermapbox\":[{\"type\":\"scattermapbox\",\"marker\":{\"colorbar\":{\"outlinewidth\":0,\"ticks\":\"\"}}}],\"scatterternary\":[{\"type\":\"scatterternary\",\"marker\":{\"colorbar\":{\"outlinewidth\":0,\"ticks\":\"\"}}}],\"scattercarpet\":[{\"type\":\"scattercarpet\",\"marker\":{\"colorbar\":{\"outlinewidth\":0,\"ticks\":\"\"}}}],\"carpet\":[{\"aaxis\":{\"endlinecolor\":\"#2a3f5f\",\"gridcolor\":\"white\",\"linecolor\":\"white\",\"minorgridcolor\":\"white\",\"startlinecolor\":\"#2a3f5f\"},\"baxis\":{\"endlinecolor\":\"#2a3f5f\",\"gridcolor\":\"white\",\"linecolor\":\"white\",\"minorgridcolor\":\"white\",\"startlinecolor\":\"#2a3f5f\"},\"type\":\"carpet\"}],\"table\":[{\"cells\":{\"fill\":{\"color\":\"#EBF0F8\"},\"line\":{\"color\":\"white\"}},\"header\":{\"fill\":{\"color\":\"#C8D4E3\"},\"line\":{\"color\":\"white\"}},\"type\":\"table\"}],\"barpolar\":[{\"marker\":{\"line\":{\"color\":\"#E5ECF6\",\"width\":0.5},\"pattern\":{\"fillmode\":\"overlay\",\"size\":10,\"solidity\":0.2}},\"type\":\"barpolar\"}],\"pie\":[{\"automargin\":true,\"type\":\"pie\"}]},\"layout\":{\"autotypenumbers\":\"strict\",\"colorway\":[\"#636efa\",\"#EF553B\",\"#00cc96\",\"#ab63fa\",\"#FFA15A\",\"#19d3f3\",\"#FF6692\",\"#B6E880\",\"#FF97FF\",\"#FECB52\"],\"font\":{\"color\":\"#2a3f5f\"},\"hovermode\":\"closest\",\"hoverlabel\":{\"align\":\"left\"},\"paper_bgcolor\":\"white\",\"plot_bgcolor\":\"#E5ECF6\",\"polar\":{\"bgcolor\":\"#E5ECF6\",\"angularaxis\":{\"gridcolor\":\"white\",\"linecolor\":\"white\",\"ticks\":\"\"},\"radialaxis\":{\"gridcolor\":\"white\",\"linecolor\":\"white\",\"ticks\":\"\"}},\"ternary\":{\"bgcolor\":\"#E5ECF6\",\"aaxis\":{\"gridcolor\":\"white\",\"linecolor\":\"white\",\"ticks\":\"\"},\"baxis\":{\"gridcolor\":\"white\",\"linecolor\":\"white\",\"ticks\":\"\"},\"caxis\":{\"gridcolor\":\"white\",\"linecolor\":\"white\",\"ticks\":\"\"}},\"coloraxis\":{\"colorbar\":{\"outlinewidth\":0,\"ticks\":\"\"}},\"colorscale\":{\"sequential\":[[0.0,\"#0d0887\"],[0.1111111111111111,\"#46039f\"],[0.2222222222222222,\"#7201a8\"],[0.3333333333333333,\"#9c179e\"],[0.4444444444444444,\"#bd3786\"],[0.5555555555555556,\"#d8576b\"],[0.6666666666666666,\"#ed7953\"],[0.7777777777777778,\"#fb9f3a\"],[0.8888888888888888,\"#fdca26\"],[1.0,\"#f0f921\"]],\"sequentialminus\":[[0.0,\"#0d0887\"],[0.1111111111111111,\"#46039f\"],[0.2222222222222222,\"#7201a8\"],[0.3333333333333333,\"#9c179e\"],[0.4444444444444444,\"#bd3786\"],[0.5555555555555556,\"#d8576b\"],[0.6666666666666666,\"#ed7953\"],[0.7777777777777778,\"#fb9f3a\"],[0.8888888888888888,\"#fdca26\"],[1.0,\"#f0f921\"]],\"diverging\":[[0,\"#8e0152\"],[0.1,\"#c51b7d\"],[0.2,\"#de77ae\"],[0.3,\"#f1b6da\"],[0.4,\"#fde0ef\"],[0.5,\"#f7f7f7\"],[0.6,\"#e6f5d0\"],[0.7,\"#b8e186\"],[0.8,\"#7fbc41\"],[0.9,\"#4d9221\"],[1,\"#276419\"]]},\"xaxis\":{\"gridcolor\":\"white\",\"linecolor\":\"white\",\"ticks\":\"\",\"title\":{\"standoff\":15},\"zerolinecolor\":\"white\",\"automargin\":true,\"zerolinewidth\":2},\"yaxis\":{\"gridcolor\":\"white\",\"linecolor\":\"white\",\"ticks\":\"\",\"title\":{\"standoff\":15},\"zerolinecolor\":\"white\",\"automargin\":true,\"zerolinewidth\":2},\"scene\":{\"xaxis\":{\"backgroundcolor\":\"#E5ECF6\",\"gridcolor\":\"white\",\"linecolor\":\"white\",\"showbackground\":true,\"ticks\":\"\",\"zerolinecolor\":\"white\",\"gridwidth\":2},\"yaxis\":{\"backgroundcolor\":\"#E5ECF6\",\"gridcolor\":\"white\",\"linecolor\":\"white\",\"showbackground\":true,\"ticks\":\"\",\"zerolinecolor\":\"white\",\"gridwidth\":2},\"zaxis\":{\"backgroundcolor\":\"#E5ECF6\",\"gridcolor\":\"white\",\"linecolor\":\"white\",\"showbackground\":true,\"ticks\":\"\",\"zerolinecolor\":\"white\",\"gridwidth\":2}},\"shapedefaults\":{\"line\":{\"color\":\"#2a3f5f\"}},\"annotationdefaults\":{\"arrowcolor\":\"#2a3f5f\",\"arrowhead\":0,\"arrowwidth\":1},\"geo\":{\"bgcolor\":\"white\",\"landcolor\":\"#E5ECF6\",\"subunitcolor\":\"white\",\"showland\":true,\"showlakes\":true,\"lakecolor\":\"white\"},\"title\":{\"x\":0.05},\"mapbox\":{\"style\":\"light\"}}},\"xaxis\":{\"anchor\":\"y\",\"domain\":[0.0,0.2888888888888889],\"title\":{\"text\":\"num_factors\"},\"type\":\"log\"},\"yaxis\":{\"anchor\":\"x\",\"domain\":[0.0,1.0],\"title\":{\"text\":\"Objective Value\"}},\"xaxis2\":{\"anchor\":\"y2\",\"domain\":[0.35555555555555557,0.6444444444444445],\"title\":{\"text\":\"scaling_items\"},\"type\":\"log\"},\"yaxis2\":{\"anchor\":\"x2\",\"domain\":[0.0,1.0],\"matches\":\"y\",\"showticklabels\":false},\"xaxis3\":{\"anchor\":\"y3\",\"domain\":[0.7111111111111111,1.0],\"title\":{\"text\":\"scaling_users\"},\"type\":\"log\"},\"yaxis3\":{\"anchor\":\"x3\",\"domain\":[0.0,1.0],\"matches\":\"y\",\"showticklabels\":false},\"title\":{\"text\":\"Slice Plot\"}},                        {\"responsive\": true}                    ).then(function(){\n",
       "                            \n",
       "var gd = document.getElementById('e6f08820-f8fe-4ed1-996b-31b3ee0cfc57');\n",
       "var x = new MutationObserver(function (mutations, observer) {{\n",
       "        var display = window.getComputedStyle(gd).display;\n",
       "        if (!display || display === 'none') {{\n",
       "            console.log([gd, 'removed!']);\n",
       "            Plotly.purge(gd);\n",
       "            observer.disconnect();\n",
       "        }}\n",
       "}});\n",
       "\n",
       "// Listen for the removal of the full notebook cells\n",
       "var notebookContainer = gd.closest('#notebook-container');\n",
       "if (notebookContainer) {{\n",
       "    x.observe(notebookContainer, {childList: true});\n",
       "}}\n",
       "\n",
       "// Listen for the clearing of the current output cell\n",
       "var outputEl = gd.closest('.output');\n",
       "if (outputEl) {{\n",
       "    x.observe(outputEl, {childList: true});\n",
       "}}\n",
       "\n",
       "                        })                };                });            </script>        </div>"
      ]
     },
     "metadata": {},
     "output_type": "display_data"
    }
   ],
   "source": [
    "if config['tune_parameters']:\n",
    "    fig = optuna.visualization.plot_slice(study)\n",
    "    fig.show()"
   ]
  },
  {
   "cell_type": "code",
   "execution_count": 19,
   "id": "7ee75d04",
   "metadata": {
    "execution": {
     "iopub.execute_input": "2023-12-04T18:41:42.976963Z",
     "iopub.status.busy": "2023-12-04T18:41:42.976207Z",
     "iopub.status.idle": "2023-12-04T18:41:43.875677Z",
     "shell.execute_reply": "2023-12-04T18:41:43.874090Z"
    },
    "papermill": {
     "duration": 1.018455,
     "end_time": "2023-12-04T18:41:43.879010",
     "exception": false,
     "start_time": "2023-12-04T18:41:42.860555",
     "status": "completed"
    },
    "tags": []
   },
   "outputs": [],
   "source": [
    "if config['tune_parameters']:\n",
    "    with open('/kaggle/working/best_params_puresvd_scaled.json', 'w') as params_file:\n",
    "        json.dump(study.best_params, params_file)\n",
    "        \n",
    "    if config['save_github']: \n",
    "        upload_file(\n",
    "            '/kaggle/working/best_params_puresvd_scaled.json', \n",
    "            'tuning_results/best_params_puresvd_scaled.json', \n",
    "            'User KNN tuning results (from kaggle notebook)'\n",
    "        )\n",
    "elif config['copy_prev_best_params']:\n",
    "    shutil.copyfile(\n",
    "        '/kaggle/working/Recsys_Challenge_2023/tuning_results/best_params_puresvd_scaled.json', \n",
    "        '/kaggle/working/best_params_puresvd_scaled.json'\n",
    "    )"
   ]
  },
  {
   "cell_type": "code",
   "execution_count": 20,
   "id": "303f1235",
   "metadata": {
    "execution": {
     "iopub.execute_input": "2023-12-04T18:41:44.114970Z",
     "iopub.status.busy": "2023-12-04T18:41:44.114459Z",
     "iopub.status.idle": "2023-12-04T18:41:45.413422Z",
     "shell.execute_reply": "2023-12-04T18:41:45.411850Z"
    },
    "papermill": {
     "duration": 1.424822,
     "end_time": "2023-12-04T18:41:45.416489",
     "exception": false,
     "start_time": "2023-12-04T18:41:43.991667",
     "status": "completed"
    },
    "tags": []
   },
   "outputs": [],
   "source": [
    "if config['save_github'] and config['tune_parameters']:\n",
    "    upload_file(\n",
    "        config['database_path'], \n",
    "        'tuning_results/tuning_puresvd_scaled.db',\n",
    "        'Tuning db updated results (from kaggle notebook)'\n",
    "    )"
   ]
  }
 ],
 "metadata": {
  "kaggle": {
   "accelerator": "none",
   "dataSources": [
    {
     "databundleVersionId": 6919098,
     "sourceId": 62803,
     "sourceType": "competition"
    }
   ],
   "dockerImageVersionId": 30587,
   "isGpuEnabled": false,
   "isInternetEnabled": true,
   "language": "python",
   "sourceType": "notebook"
  },
  "kernelspec": {
   "display_name": "Python 3",
   "language": "python",
   "name": "python3"
  },
  "language_info": {
   "codemirror_mode": {
    "name": "ipython",
    "version": 3
   },
   "file_extension": ".py",
   "mimetype": "text/x-python",
   "name": "python",
   "nbconvert_exporter": "python",
   "pygments_lexer": "ipython3",
   "version": "3.10.12"
  },
  "papermill": {
   "default_parameters": {},
   "duration": 4593.592937,
   "end_time": "2023-12-04T18:41:47.682600",
   "environment_variables": {},
   "exception": null,
   "input_path": "__notebook__.ipynb",
   "output_path": "__notebook__.ipynb",
   "parameters": {},
   "start_time": "2023-12-04T17:25:14.089663",
   "version": "2.4.0"
  }
 },
 "nbformat": 4,
 "nbformat_minor": 5
}
