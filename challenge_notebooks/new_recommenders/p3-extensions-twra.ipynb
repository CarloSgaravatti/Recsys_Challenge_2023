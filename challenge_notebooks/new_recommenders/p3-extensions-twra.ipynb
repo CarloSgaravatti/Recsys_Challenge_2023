{
 "cells": [
  {
   "cell_type": "code",
   "execution_count": 1,
   "id": "d23f670f",
   "metadata": {
    "execution": {
     "iopub.execute_input": "2023-12-24T17:22:05.559611Z",
     "iopub.status.busy": "2023-12-24T17:22:05.559078Z",
     "iopub.status.idle": "2023-12-24T17:24:15.409928Z",
     "shell.execute_reply": "2023-12-24T17:24:15.407037Z"
    },
    "papermill": {
     "duration": 129.869588,
     "end_time": "2023-12-24T17:24:15.416370",
     "exception": false,
     "start_time": "2023-12-24T17:22:05.546782",
     "status": "completed"
    },
    "tags": []
   },
   "outputs": [
    {
     "name": "stdout",
     "output_type": "stream",
     "text": [
      "Cloning into 'Recsys_Challenge_2023'...\r\n",
      "remote: Enumerating objects: 5860, done.\u001b[K\r\n",
      "remote: Counting objects: 100% (1049/1049), done.\u001b[K\r\n",
      "remote: Compressing objects: 100% (337/337), done.\u001b[K\r\n",
      "remote: Total 5860 (delta 879), reused 834 (delta 706), pack-reused 4811\u001b[K\r\n",
      "Receiving objects: 100% (5860/5860), 2.94 GiB | 31.58 MiB/s, done.\r\n",
      "Resolving deltas: 100% (4705/4705), done.\r\n",
      "Updating files: 100% (496/496), done.\r\n"
     ]
    }
   ],
   "source": [
    "from kaggle_secrets import UserSecretsClient\n",
    "secret_label = \"Token\"\n",
    "token = UserSecretsClient().get_secret(secret_label)\n",
    "\n",
    "! git clone https://{token}@github.com/CarloSgaravatti/Recsys_Challenge_2023.git"
   ]
  },
  {
   "cell_type": "code",
   "execution_count": 2,
   "id": "17d04ea6",
   "metadata": {
    "execution": {
     "iopub.execute_input": "2023-12-24T17:24:15.888649Z",
     "iopub.status.busy": "2023-12-24T17:24:15.887931Z",
     "iopub.status.idle": "2023-12-24T17:24:39.081695Z",
     "shell.execute_reply": "2023-12-24T17:24:39.080009Z"
    },
    "papermill": {
     "duration": 23.412775,
     "end_time": "2023-12-24T17:24:39.084805",
     "exception": false,
     "start_time": "2023-12-24T17:24:15.672030",
     "status": "completed"
    },
    "tags": []
   },
   "outputs": [
    {
     "name": "stdout",
     "output_type": "stream",
     "text": [
      "Collecting PyGithub\r\n",
      "  Obtaining dependency information for PyGithub from https://files.pythonhosted.org/packages/be/04/810d131be173cba445d3658a45512b2b2b3d0960d52c4a300d6ec5e00f52/PyGithub-2.1.1-py3-none-any.whl.metadata\r\n",
      "  Downloading PyGithub-2.1.1-py3-none-any.whl.metadata (2.2 kB)\r\n",
      "Requirement already satisfied: requests in /opt/conda/lib/python3.10/site-packages (2.31.0)\r\n",
      "Collecting pynacl>=1.4.0 (from PyGithub)\r\n",
      "  Downloading PyNaCl-1.5.0-cp36-abi3-manylinux_2_17_x86_64.manylinux2014_x86_64.manylinux_2_24_x86_64.whl (856 kB)\r\n",
      "\u001b[2K     \u001b[90m━━━━━━━━━━━━━━━━━━━━━━━━━━━━━━━━━━━━━━━\u001b[0m \u001b[32m856.7/856.7 kB\u001b[0m \u001b[31m5.0 MB/s\u001b[0m eta \u001b[36m0:00:00\u001b[0m\r\n",
      "\u001b[?25hRequirement already satisfied: python-dateutil in /opt/conda/lib/python3.10/site-packages (from PyGithub) (2.8.2)\r\n",
      "Requirement already satisfied: pyjwt[crypto]>=2.4.0 in /opt/conda/lib/python3.10/site-packages (from PyGithub) (2.8.0)\r\n",
      "Requirement already satisfied: typing-extensions>=4.0.0 in /opt/conda/lib/python3.10/site-packages (from PyGithub) (4.5.0)\r\n",
      "Requirement already satisfied: urllib3>=1.26.0 in /opt/conda/lib/python3.10/site-packages (from PyGithub) (1.26.15)\r\n",
      "Requirement already satisfied: Deprecated in /opt/conda/lib/python3.10/site-packages (from PyGithub) (1.2.14)\r\n",
      "Requirement already satisfied: charset-normalizer<4,>=2 in /opt/conda/lib/python3.10/site-packages (from requests) (3.2.0)\r\n",
      "Requirement already satisfied: idna<4,>=2.5 in /opt/conda/lib/python3.10/site-packages (from requests) (3.4)\r\n",
      "Requirement already satisfied: certifi>=2017.4.17 in /opt/conda/lib/python3.10/site-packages (from requests) (2023.7.22)\r\n",
      "Requirement already satisfied: cryptography>=3.4.0 in /opt/conda/lib/python3.10/site-packages (from pyjwt[crypto]>=2.4.0->PyGithub) (41.0.3)\r\n",
      "Requirement already satisfied: cffi>=1.4.1 in /opt/conda/lib/python3.10/site-packages (from pynacl>=1.4.0->PyGithub) (1.15.1)\r\n",
      "Requirement already satisfied: wrapt<2,>=1.10 in /opt/conda/lib/python3.10/site-packages (from Deprecated->PyGithub) (1.15.0)\r\n",
      "Requirement already satisfied: six>=1.5 in /opt/conda/lib/python3.10/site-packages (from python-dateutil->PyGithub) (1.16.0)\r\n",
      "Requirement already satisfied: pycparser in /opt/conda/lib/python3.10/site-packages (from cffi>=1.4.1->pynacl>=1.4.0->PyGithub) (2.21)\r\n",
      "Downloading PyGithub-2.1.1-py3-none-any.whl (302 kB)\r\n",
      "\u001b[2K   \u001b[90m━━━━━━━━━━━━━━━━━━━━━━━━━━━━━━━━━━━━━━━━\u001b[0m \u001b[32m302.9/302.9 kB\u001b[0m \u001b[31m6.9 MB/s\u001b[0m eta \u001b[36m0:00:00\u001b[0m\r\n",
      "\u001b[?25hInstalling collected packages: pynacl, PyGithub\r\n",
      "Successfully installed PyGithub-2.1.1 pynacl-1.5.0\r\n"
     ]
    }
   ],
   "source": [
    "! pip install PyGithub requests"
   ]
  },
  {
   "cell_type": "code",
   "execution_count": 3,
   "id": "12bb1a4d",
   "metadata": {
    "_kg_hide-output": true,
    "execution": {
     "iopub.execute_input": "2023-12-24T17:24:39.153869Z",
     "iopub.status.busy": "2023-12-24T17:24:39.153368Z",
     "iopub.status.idle": "2023-12-24T17:24:39.159998Z",
     "shell.execute_reply": "2023-12-24T17:24:39.158889Z"
    },
    "papermill": {
     "duration": 0.042848,
     "end_time": "2023-12-24T17:24:39.162356",
     "exception": false,
     "start_time": "2023-12-24T17:24:39.119508",
     "status": "completed"
    },
    "scrolled": true,
    "tags": []
   },
   "outputs": [],
   "source": [
    "# ! cd /kaggle/working/Recsys_Challenge_2023 && python run_compile_all_cython.py"
   ]
  },
  {
   "cell_type": "code",
   "execution_count": 4,
   "id": "620a9350",
   "metadata": {
    "execution": {
     "iopub.execute_input": "2023-12-24T17:24:39.227475Z",
     "iopub.status.busy": "2023-12-24T17:24:39.227066Z",
     "iopub.status.idle": "2023-12-24T17:24:43.576132Z",
     "shell.execute_reply": "2023-12-24T17:24:43.573139Z"
    },
    "papermill": {
     "duration": 4.385182,
     "end_time": "2023-12-24T17:24:43.579309",
     "exception": false,
     "start_time": "2023-12-24T17:24:39.194127",
     "status": "completed"
    },
    "tags": []
   },
   "outputs": [
    {
     "name": "stdout",
     "output_type": "stream",
     "text": [
      "/kaggle/input/recommender-system-2023-challenge-polimi/data_train.csv\n",
      "/kaggle/input/recommender-system-2023-challenge-polimi/data_target_users_test.csv\n"
     ]
    }
   ],
   "source": [
    "import numpy as np\n",
    "import pandas as pd\n",
    "import matplotlib.pyplot as plt\n",
    "import seaborn as sns\n",
    "import joblib\n",
    "import json\n",
    "import random\n",
    "import tqdm\n",
    "import gc\n",
    "import time\n",
    "import os\n",
    "import shutil\n",
    "import optuna\n",
    "import scipy.sparse as sps\n",
    "\n",
    "for dirname, _, filenames in os.walk('/kaggle/input'):\n",
    "    for filename in filenames:\n",
    "        print(os.path.join(dirname, filename))"
   ]
  },
  {
   "cell_type": "code",
   "execution_count": 5,
   "id": "f8fd869f",
   "metadata": {
    "execution": {
     "iopub.execute_input": "2023-12-24T17:24:43.646377Z",
     "iopub.status.busy": "2023-12-24T17:24:43.645416Z",
     "iopub.status.idle": "2023-12-24T17:24:43.652753Z",
     "shell.execute_reply": "2023-12-24T17:24:43.651494Z"
    },
    "papermill": {
     "duration": 0.042563,
     "end_time": "2023-12-24T17:24:43.655046",
     "exception": false,
     "start_time": "2023-12-24T17:24:43.612483",
     "status": "completed"
    },
    "tags": []
   },
   "outputs": [
    {
     "name": "stdout",
     "output_type": "stream",
     "text": [
      "/kaggle/working/Recsys_Challenge_2023\n"
     ]
    }
   ],
   "source": [
    "%cd /kaggle/working/Recsys_Challenge_2023"
   ]
  },
  {
   "cell_type": "code",
   "execution_count": 6,
   "id": "fba59df4",
   "metadata": {
    "execution": {
     "iopub.execute_input": "2023-12-24T17:24:43.720782Z",
     "iopub.status.busy": "2023-12-24T17:24:43.720005Z",
     "iopub.status.idle": "2023-12-24T17:25:04.702690Z",
     "shell.execute_reply": "2023-12-24T17:25:04.701183Z"
    },
    "papermill": {
     "duration": 21.019482,
     "end_time": "2023-12-24T17:25:04.706121",
     "exception": false,
     "start_time": "2023-12-24T17:24:43.686639",
     "status": "completed"
    },
    "tags": []
   },
   "outputs": [],
   "source": [
    "from Recommenders.KNN.UserKNNCFRecommender import UserKNNCFRecommender\n",
    "from Data_manager.split_functions.split_train_validation_random_holdout import split_train_in_two_percentage_global_sample\n",
    "from Recommenders.SLIM.SLIMElasticNetRecommender import MultiThreadSLIM_SLIMElasticNetRecommender\n",
    "from Evaluation.Evaluator import EvaluatorHoldout\n",
    "from Recommenders.MatrixFactorization.IALSRecommender import IALSRecommender\n",
    "from Recommenders.MatrixFactorization.PureSVDRecommender import PureSVDRecommender\n",
    "from Recommenders.Neural.MultVAERecommender import MultVAERecommender\n",
    "from Recommenders.KNN.ItemKNNCFRecommender import ItemKNNCFRecommender\n",
    "from Recommenders.KNN.UserKNNCFRecommender import UserKNNCFRecommender\n",
    "from Recommenders.MatrixFactorization.Cython.MatrixFactorization_Cython import MatrixFactorization_BPR_Cython, MatrixFactorization_SVDpp_Cython, MatrixFactorization_AsySVD_Cython, MatrixFactorization_WARP_Cython\n",
    "from Recommenders.MatrixFactorization.PyTorch.MF_MSE_PyTorch import MF_MSE_PyTorch\n",
    "from Recommenders.BaseMatrixFactorizationRecommender import BaseMatrixFactorizationRecommender\n",
    "from Recommenders.Incremental_Training_Early_Stopping import Incremental_Training_Early_Stopping\n",
    "\n",
    "from Recommenders.GraphBased.RP3betaRecommender import RP3betaRecommender\n",
    "from Recommenders.GraphBased.P3alphaRecommender import P3alphaRecommender\n",
    "from Recommenders.GraphBased.HHPRecommender import HHPRecommender\n",
    "\n",
    "from Recommenders.BaseRecommender import BaseRecommender\n",
    "\n",
    "np.int = int\n",
    "np.random.seed(42)\n",
    "np.bool = bool\n",
    "np.float = float"
   ]
  },
  {
   "cell_type": "code",
   "execution_count": 7,
   "id": "75d59b96",
   "metadata": {
    "execution": {
     "iopub.execute_input": "2023-12-24T17:25:04.772159Z",
     "iopub.status.busy": "2023-12-24T17:25:04.771349Z",
     "iopub.status.idle": "2023-12-24T17:25:05.397669Z",
     "shell.execute_reply": "2023-12-24T17:25:05.396342Z"
    },
    "papermill": {
     "duration": 0.662337,
     "end_time": "2023-12-24T17:25:05.400301",
     "exception": false,
     "start_time": "2023-12-24T17:25:04.737964",
     "status": "completed"
    },
    "tags": []
   },
   "outputs": [
    {
     "name": "stdout",
     "output_type": "stream",
     "text": [
      "Repository found\n"
     ]
    }
   ],
   "source": [
    "from github import Github\n",
    "from github import Auth\n",
    "\n",
    "auth = Auth.Token(token)\n",
    "g = Github(auth=auth)\n",
    "\n",
    "repo = None\n",
    "for r in g.get_user().get_repos():\n",
    "    if r.name == 'Recsys_Challenge_2023':\n",
    "        repo = r\n",
    "        print('Repository found')"
   ]
  },
  {
   "cell_type": "code",
   "execution_count": 8,
   "id": "6b15e294",
   "metadata": {
    "execution": {
     "iopub.execute_input": "2023-12-24T17:25:05.467520Z",
     "iopub.status.busy": "2023-12-24T17:25:05.466803Z",
     "iopub.status.idle": "2023-12-24T17:25:05.473385Z",
     "shell.execute_reply": "2023-12-24T17:25:05.472225Z"
    },
    "papermill": {
     "duration": 0.043147,
     "end_time": "2023-12-24T17:25:05.475875",
     "exception": false,
     "start_time": "2023-12-24T17:25:05.432728",
     "status": "completed"
    },
    "tags": []
   },
   "outputs": [],
   "source": [
    "def upload_file(filepath_kaggle, filepath_github, commit_message):\n",
    "    try:\n",
    "        contents = repo.get_contents(filepath_github)\n",
    "        with open(filepath_kaggle, \"rb\") as file:\n",
    "            repo.update_file(contents.path, commit_message, file.read(), contents.sha)\n",
    "    except Exception:\n",
    "        with open(filepath_kaggle, \"rb\") as file:\n",
    "            repo.create_file(filepath_github, commit_message, file.read())"
   ]
  },
  {
   "cell_type": "code",
   "execution_count": 9,
   "id": "d4aee003",
   "metadata": {
    "execution": {
     "iopub.execute_input": "2023-12-24T17:25:05.541403Z",
     "iopub.status.busy": "2023-12-24T17:25:05.540954Z",
     "iopub.status.idle": "2023-12-24T17:25:05.545981Z",
     "shell.execute_reply": "2023-12-24T17:25:05.545049Z"
    },
    "papermill": {
     "duration": 0.040702,
     "end_time": "2023-12-24T17:25:05.548255",
     "exception": false,
     "start_time": "2023-12-24T17:25:05.507553",
     "status": "completed"
    },
    "tags": []
   },
   "outputs": [],
   "source": [
    "config = {\n",
    "    'tune_parameters': True,\n",
    "    'database_path': '/kaggle/working/tuning_twra.db',\n",
    "    'copy_prev_best_params': False,\n",
    "    'save_github': True\n",
    "}"
   ]
  },
  {
   "cell_type": "code",
   "execution_count": 10,
   "id": "216ffba3",
   "metadata": {
    "execution": {
     "iopub.execute_input": "2023-12-24T17:25:05.722765Z",
     "iopub.status.busy": "2023-12-24T17:25:05.722029Z",
     "iopub.status.idle": "2023-12-24T17:25:05.727507Z",
     "shell.execute_reply": "2023-12-24T17:25:05.726531Z"
    },
    "papermill": {
     "duration": 0.150194,
     "end_time": "2023-12-24T17:25:05.729964",
     "exception": false,
     "start_time": "2023-12-24T17:25:05.579770",
     "status": "completed"
    },
    "tags": []
   },
   "outputs": [],
   "source": [
    "try:\n",
    "    shutil.copyfile(\n",
    "        '/kaggle/working/Recsys_Challenge_2023/tuning_results/tuning_twra.db', \n",
    "        config['database_path']\n",
    "    )\n",
    "except FileNotFoundError:\n",
    "    pass # if not present optuna will create it"
   ]
  },
  {
   "cell_type": "code",
   "execution_count": 11,
   "id": "3e30724e",
   "metadata": {
    "execution": {
     "iopub.execute_input": "2023-12-24T17:25:05.796870Z",
     "iopub.status.busy": "2023-12-24T17:25:05.796405Z",
     "iopub.status.idle": "2023-12-24T17:25:06.173279Z",
     "shell.execute_reply": "2023-12-24T17:25:06.172055Z"
    },
    "papermill": {
     "duration": 0.413668,
     "end_time": "2023-12-24T17:25:06.176213",
     "exception": false,
     "start_time": "2023-12-24T17:25:05.762545",
     "status": "completed"
    },
    "tags": []
   },
   "outputs": [],
   "source": [
    "train_data = pd.read_csv('/kaggle/input/recommender-system-2023-challenge-polimi/data_train.csv')\n",
    "user_ids_test = pd.read_csv('/kaggle/input/recommender-system-2023-challenge-polimi/data_target_users_test.csv')"
   ]
  },
  {
   "cell_type": "code",
   "execution_count": 12,
   "id": "49cc4644",
   "metadata": {
    "execution": {
     "iopub.execute_input": "2023-12-24T17:25:06.247427Z",
     "iopub.status.busy": "2023-12-24T17:25:06.246799Z",
     "iopub.status.idle": "2023-12-24T17:25:06.289298Z",
     "shell.execute_reply": "2023-12-24T17:25:06.288386Z"
    },
    "papermill": {
     "duration": 0.081672,
     "end_time": "2023-12-24T17:25:06.291781",
     "exception": false,
     "start_time": "2023-12-24T17:25:06.210109",
     "status": "completed"
    },
    "tags": []
   },
   "outputs": [
    {
     "data": {
      "text/plain": [
       "<13024x22347 sparse matrix of type '<class 'numpy.float64'>'\n",
       "\twith 478730 stored elements in Compressed Sparse Row format>"
      ]
     },
     "execution_count": 12,
     "metadata": {},
     "output_type": "execute_result"
    }
   ],
   "source": [
    "URM_all = sps.csr_matrix((train_data.data.values,\n",
    "                          ((train_data.row - 1).values, (train_data.col - 1).values)),\n",
    "                        shape=(train_data.row.max(), train_data.col.max()))\n",
    "URM_all"
   ]
  },
  {
   "cell_type": "code",
   "execution_count": 13,
   "id": "b36ec818",
   "metadata": {
    "execution": {
     "iopub.execute_input": "2023-12-24T17:25:06.359390Z",
     "iopub.status.busy": "2023-12-24T17:25:06.358269Z",
     "iopub.status.idle": "2023-12-24T17:25:08.047752Z",
     "shell.execute_reply": "2023-12-24T17:25:08.046091Z"
    },
    "papermill": {
     "duration": 1.726166,
     "end_time": "2023-12-24T17:25:08.050565",
     "exception": false,
     "start_time": "2023-12-24T17:25:06.324399",
     "status": "completed"
    },
    "tags": []
   },
   "outputs": [
    {
     "name": "stdout",
     "output_type": "stream",
     "text": [
      "Warning: 627 (4.81 %) of 13024 users have no train items\n",
      "Warning: 2568 (19.72 %) of 13024 users have no sampled items\n",
      "Warning: 2953 (22.67 %) of 13024 users have no train items\n",
      "Warning: 6367 (48.89 %) of 13024 users have no sampled items\n"
     ]
    }
   ],
   "source": [
    "URM_train, URM_test_complete = split_train_in_two_percentage_global_sample(URM_all, train_percentage = 0.8)\n",
    "URM_validation, URM_test = split_train_in_two_percentage_global_sample(URM_test_complete, train_percentage = 0.8)"
   ]
  },
  {
   "cell_type": "markdown",
   "id": "82fb11bd",
   "metadata": {
    "papermill": {
     "duration": 0.033405,
     "end_time": "2023-12-24T17:25:08.116528",
     "exception": false,
     "start_time": "2023-12-24T17:25:08.083123",
     "status": "completed"
    },
    "tags": []
   },
   "source": [
    "https://arxiv.org/pdf/2004.10393.pdf"
   ]
  },
  {
   "cell_type": "code",
   "execution_count": 14,
   "id": "44d891e9",
   "metadata": {
    "execution": {
     "iopub.execute_input": "2023-12-24T17:25:08.185359Z",
     "iopub.status.busy": "2023-12-24T17:25:08.184555Z",
     "iopub.status.idle": "2023-12-24T17:25:08.207067Z",
     "shell.execute_reply": "2023-12-24T17:25:08.205726Z"
    },
    "papermill": {
     "duration": 0.060699,
     "end_time": "2023-12-24T17:25:08.210127",
     "exception": false,
     "start_time": "2023-12-24T17:25:08.149428",
     "status": "completed"
    },
    "tags": []
   },
   "outputs": [],
   "source": [
    "class TwoWayRankAggregationRecommender(BaseRecommender):\n",
    "    '''\n",
    "    TWRA (Two Way Rank Aggregation) is an algorithm designed to work with graph algorithms that computes\n",
    "    score of user u and item i as a convex combination of type:\n",
    "    \n",
    "    score(u, i) = (1 - lambda) * f-score(u, i) + lambda * b-score(u, i)\n",
    "    \n",
    "    where f-score is obtained by apply a graph based algorithm (ProbS, HeatS, P3alpha, RP3beta, HHP, ...)\n",
    "    in the usual way and b-score is obtained by applying the same (or another) algorithm but with the role \n",
    "    of users and items reversed. For example, with ProbS (P3), the 3 step random walk starts from an item \n",
    "    and not from a user.\n",
    "    \n",
    "    In principle, this idea can be extended also to algorithm that do not work with graphs.\n",
    "    \n",
    "    Original Paper: https://arxiv.org/pdf/2004.10393.pdf\n",
    "    '''\n",
    "    \n",
    "    RECOMMENDER_NAME = \"TwoWayRankAggregationRecommender\"\n",
    "    AVAILABLE_ALGORITHMS = ['p3', 'p3alpha', 'rp3beta', 'hhp']\n",
    "    \n",
    "    def __init__(self, URM_train):\n",
    "        super(TwoWayRankAggregationRecommender, self).__init__(URM_train)\n",
    "        \n",
    "        self.bURM_train = self.URM_train.transpose(copy=True).tocsr()\n",
    "        \n",
    "    def fit(\n",
    "        self, \n",
    "        base_f_algorithm: str = 'p3', \n",
    "        base_b_algorithm: str = 'p3', \n",
    "        convex_lambda: float = 0.5, # must be between 0 and 1\n",
    "        f_params: dict = None, \n",
    "        b_params: dict = None\n",
    "    ):\n",
    "        \n",
    "        if base_f_algorithm not in self.AVAILABLE_ALGORITHMS:\n",
    "            raise ValueError(\"Value for 'base_f_algorithm' not recognized. Acceptable values are {}, provided was '{}'\".format(self.AVAILABLE_ALGORITHMS, base_f_algorithm))\n",
    "            \n",
    "        if base_b_algorithm not in self.AVAILABLE_ALGORITHMS:\n",
    "            raise ValueError(\"Value for 'base_b_algorithm' not recognized. Acceptable values are {}, provided was '{}'\".format(self.AVAILABLE_ALGORITHMS, base_b_algorithm))\n",
    "            \n",
    "        if convex_lambda < 0.0 or convex_lambda > 1.0:\n",
    "            raise ValueError(\"Value for 'convex_lambda' not valid. Must be inside [0, 1]\")\n",
    "        \n",
    "        self.base_f_algorithm = base_f_algorithm\n",
    "        self.base_b_algorithm = base_b_algorithm\n",
    "        self.convex_lambda = convex_lambda\n",
    "        self.f_params = f_params if f_params is not None else {}\n",
    "        self.b_params = b_params if b_params is not None else {}\n",
    "\n",
    "        if self.base_f_algorithm == 'p3':\n",
    "            if 'alpha' in self.f_params:\n",
    "                self.f_params['alpha'] = 1.0\n",
    "            self.f_recommender = P3alphaRecommender(self.URM_train)\n",
    "        elif self.base_f_algorithm == 'p3alpha':\n",
    "            self.f_recommender = P3alphaRecommender(self.URM_train)\n",
    "        elif self.base_f_algorithm == 'rp3beta':\n",
    "            self.f_recommender = RP3betaRecommender(self.URM_train)\n",
    "        else:\n",
    "            self.f_recommender = HHPRecommender(self.URM_train)\n",
    "            \n",
    "        if self.base_b_algorithm == 'p3':\n",
    "            if 'alpha' in self.b_params:\n",
    "                self.b_params['alpha'] = 1.0\n",
    "            self.b_recommender = P3alphaRecommender(self.bURM_train)\n",
    "        elif self.base_b_algorithm == 'p3alpha':\n",
    "            self.b_recommender = P3alphaRecommender(self.bURM_train)\n",
    "        elif self.base_b_algorithm == 'rp3beta':\n",
    "            self.b_recommender = RP3betaRecommender(self.bURM_train)\n",
    "        else:\n",
    "            self.b_recommender = HHPRecommender(self.bURM_train)\n",
    "            \n",
    "        self.f_recommender.fit(**self.f_params)\n",
    "        self.b_recommender.fit(**self.b_params)\n",
    "        \n",
    "    def _compute_item_score(self, user_id_array, items_to_compute=None):\n",
    "        \n",
    "        f_scores = self.f_recommender._compute_item_score(user_id_array, items_to_compute)\n",
    "        \n",
    "        if items_to_compute:\n",
    "            b_scores = -np.inf * np.ones((self.n_items, len(user_id_array)))\n",
    "            b_scores[items_to_compute, :] = self.b_recommender._compute_item_score(items_to_compute, items_to_compute=user_id_array)[:, user_id_array]\n",
    "        else:\n",
    "            b_scores = self.b_recommender._compute_item_score(np.arange(self.n_items), items_to_compute=user_id_array)[:, user_id_array]\n",
    "        \n",
    "        return (1 - self.convex_lambda) * f_scores + self.convex_lambda * b_scores.T"
   ]
  },
  {
   "cell_type": "code",
   "execution_count": 15,
   "id": "c13abff7",
   "metadata": {
    "execution": {
     "iopub.execute_input": "2023-12-24T17:25:08.278720Z",
     "iopub.status.busy": "2023-12-24T17:25:08.278284Z",
     "iopub.status.idle": "2023-12-24T17:26:25.434721Z",
     "shell.execute_reply": "2023-12-24T17:26:25.433553Z"
    },
    "papermill": {
     "duration": 77.192316,
     "end_time": "2023-12-24T17:26:25.437252",
     "exception": false,
     "start_time": "2023-12-24T17:25:08.244936",
     "status": "completed"
    },
    "tags": []
   },
   "outputs": [
    {
     "name": "stdout",
     "output_type": "stream",
     "text": [
      "EvaluatorHoldout: Ignoring 2568 (19.7%) Users that have less than 1 test interactions\n",
      "TwoWayRankAggregationRecommender: URM Detected 627 ( 4.8%) users with no interactions.\n",
      "TwoWayRankAggregationRecommender: URM Detected 247 ( 1.1%) items with no interactions.\n",
      "P3alphaRecommender: URM Detected 627 ( 4.8%) users with no interactions.\n",
      "P3alphaRecommender: URM Detected 247 ( 1.1%) items with no interactions.\n",
      "P3alphaRecommender: URM Detected 247 ( 1.1%) users with no interactions.\n",
      "P3alphaRecommender: URM Detected 627 ( 4.8%) items with no interactions.\n",
      "P3alphaRecommender: Similarity column 22347 (100.0%), 2080.06 column/sec. Elapsed time 10.74 sec\n",
      "P3alphaRecommender: Similarity column 13024 (100.0%), 2234.14 column/sec. Elapsed time 5.83 sec\n",
      "EvaluatorHoldout: Processed 10456 (100.0%) in 55.53 sec. Users per second: 188\n"
     ]
    },
    {
     "data": {
      "text/html": [
       "<div>\n",
       "<style scoped>\n",
       "    .dataframe tbody tr th:only-of-type {\n",
       "        vertical-align: middle;\n",
       "    }\n",
       "\n",
       "    .dataframe tbody tr th {\n",
       "        vertical-align: top;\n",
       "    }\n",
       "\n",
       "    .dataframe thead th {\n",
       "        text-align: right;\n",
       "    }\n",
       "</style>\n",
       "<table border=\"1\" class=\"dataframe\">\n",
       "  <thead>\n",
       "    <tr style=\"text-align: right;\">\n",
       "      <th></th>\n",
       "      <th>PRECISION</th>\n",
       "      <th>PRECISION_RECALL_MIN_DEN</th>\n",
       "      <th>RECALL</th>\n",
       "      <th>MAP</th>\n",
       "      <th>MAP_MIN_DEN</th>\n",
       "      <th>MRR</th>\n",
       "      <th>NDCG</th>\n",
       "      <th>F1</th>\n",
       "      <th>HIT_RATE</th>\n",
       "      <th>ARHR_ALL_HITS</th>\n",
       "      <th>...</th>\n",
       "      <th>COVERAGE_USER</th>\n",
       "      <th>COVERAGE_USER_HIT</th>\n",
       "      <th>USERS_IN_GT</th>\n",
       "      <th>DIVERSITY_GINI</th>\n",
       "      <th>SHANNON_ENTROPY</th>\n",
       "      <th>RATIO_DIVERSITY_HERFINDAHL</th>\n",
       "      <th>RATIO_DIVERSITY_GINI</th>\n",
       "      <th>RATIO_SHANNON_ENTROPY</th>\n",
       "      <th>RATIO_AVERAGE_POPULARITY</th>\n",
       "      <th>RATIO_NOVELTY</th>\n",
       "    </tr>\n",
       "    <tr>\n",
       "      <th>cutoff</th>\n",
       "      <th></th>\n",
       "      <th></th>\n",
       "      <th></th>\n",
       "      <th></th>\n",
       "      <th></th>\n",
       "      <th></th>\n",
       "      <th></th>\n",
       "      <th></th>\n",
       "      <th></th>\n",
       "      <th></th>\n",
       "      <th></th>\n",
       "      <th></th>\n",
       "      <th></th>\n",
       "      <th></th>\n",
       "      <th></th>\n",
       "      <th></th>\n",
       "      <th></th>\n",
       "      <th></th>\n",
       "      <th></th>\n",
       "      <th></th>\n",
       "      <th></th>\n",
       "    </tr>\n",
       "  </thead>\n",
       "  <tbody>\n",
       "    <tr>\n",
       "      <th>10</th>\n",
       "      <td>0.038437</td>\n",
       "      <td>0.065467</td>\n",
       "      <td>0.054482</td>\n",
       "      <td>0.017245</td>\n",
       "      <td>0.030039</td>\n",
       "      <td>0.113719</td>\n",
       "      <td>0.058606</td>\n",
       "      <td>0.045075</td>\n",
       "      <td>0.259468</td>\n",
       "      <td>0.138378</td>\n",
       "      <td>...</td>\n",
       "      <td>0.802826</td>\n",
       "      <td>0.208308</td>\n",
       "      <td>0.802826</td>\n",
       "      <td>0.17669</td>\n",
       "      <td>12.028736</td>\n",
       "      <td>0.999566</td>\n",
       "      <td>0.509822</td>\n",
       "      <td>0.926647</td>\n",
       "      <td>0.990597</td>\n",
       "      <td>0.337237</td>\n",
       "    </tr>\n",
       "  </tbody>\n",
       "</table>\n",
       "<p>1 rows × 27 columns</p>\n",
       "</div>"
      ],
      "text/plain": [
       "       PRECISION PRECISION_RECALL_MIN_DEN    RECALL       MAP MAP_MIN_DEN  \\\n",
       "cutoff                                                                      \n",
       "10      0.038437                 0.065467  0.054482  0.017245    0.030039   \n",
       "\n",
       "             MRR      NDCG        F1  HIT_RATE ARHR_ALL_HITS  ...  \\\n",
       "cutoff                                                        ...   \n",
       "10      0.113719  0.058606  0.045075  0.259468      0.138378  ...   \n",
       "\n",
       "       COVERAGE_USER COVERAGE_USER_HIT USERS_IN_GT DIVERSITY_GINI  \\\n",
       "cutoff                                                              \n",
       "10          0.802826          0.208308    0.802826        0.17669   \n",
       "\n",
       "       SHANNON_ENTROPY RATIO_DIVERSITY_HERFINDAHL RATIO_DIVERSITY_GINI  \\\n",
       "cutoff                                                                   \n",
       "10           12.028736                   0.999566             0.509822   \n",
       "\n",
       "       RATIO_SHANNON_ENTROPY RATIO_AVERAGE_POPULARITY RATIO_NOVELTY  \n",
       "cutoff                                                               \n",
       "10                  0.926647                 0.990597      0.337237  \n",
       "\n",
       "[1 rows x 27 columns]"
      ]
     },
     "execution_count": 15,
     "metadata": {},
     "output_type": "execute_result"
    }
   ],
   "source": [
    "evaluator = EvaluatorHoldout(URM_test_complete, cutoff_list=[10]) \n",
    "\n",
    "recommender = TwoWayRankAggregationRecommender(URM_train)\n",
    "recommender.fit()\n",
    "result_df, _ = evaluator.evaluateRecommender(recommender)\n",
    "result_df"
   ]
  },
  {
   "cell_type": "code",
   "execution_count": 16,
   "id": "5a541122",
   "metadata": {
    "execution": {
     "iopub.execute_input": "2023-12-24T17:26:25.505234Z",
     "iopub.status.busy": "2023-12-24T17:26:25.504801Z",
     "iopub.status.idle": "2023-12-24T17:26:25.521568Z",
     "shell.execute_reply": "2023-12-24T17:26:25.520415Z"
    },
    "papermill": {
     "duration": 0.053864,
     "end_time": "2023-12-24T17:26:25.524194",
     "exception": false,
     "start_time": "2023-12-24T17:26:25.470330",
     "status": "completed"
    },
    "tags": []
   },
   "outputs": [],
   "source": [
    "def objective_function(trial):\n",
    "    params = {\n",
    "        'base_f_algorithm': trial.suggest_categorical('base_f_algorithm', ['p3', 'p3alpha', 'rp3beta', 'hhp']), \n",
    "        'base_b_algorithm': trial.suggest_categorical('base_b_algorithm', ['p3', 'p3alpha', 'rp3beta', 'hhp']), \n",
    "        'convex_lambda': trial.suggest_float('convex_lambda', 0.01, 0.99),\n",
    "    }\n",
    "    \n",
    "    if params['base_f_algorithm'] == 'p3':\n",
    "        params['f_params'] = {\n",
    "            'topK': trial.suggest_int('f_p3_topK', 5, 2000, log=True),\n",
    "            'implicit': True, \n",
    "            'normalize_similarity': True\n",
    "        }\n",
    "    elif params['base_f_algorithm'] == 'p3alpha':\n",
    "        params['f_params'] = {\n",
    "            'alpha': trial.suggest_float('f_p3a_alpha', 1e-5, 100, log=True),\n",
    "            'topK': trial.suggest_int('f_p3a_topK', 5, 2000, log=True),\n",
    "            'implicit': True, \n",
    "            'normalize_similarity': True\n",
    "        }\n",
    "    elif params['base_f_algorithm'] == 'rp3beta':\n",
    "        params['f_params'] = {\n",
    "            'alpha': trial.suggest_float('f_rp3_alpha', 1e-5, 100, log=True),\n",
    "            'beta': trial.suggest_float('f_rp3_beta', 1e-5, 100, log=True),\n",
    "            'topK': trial.suggest_int('f_rp3_topK', 5, 2000, log=True),\n",
    "            'implicit': True, \n",
    "            'normalize_similarity': True\n",
    "        }\n",
    "    else:\n",
    "        params['f_params'] = {\n",
    "            'hybrid_lambda': trial.suggest_float('f_hhp_hybrid_lambda', 0.01, 0.99),\n",
    "            'topK': trial.suggest_int('f_hhp_topK', 5, 2000, log=True),\n",
    "        }\n",
    "        \n",
    "    if params['base_b_algorithm'] == 'p3':\n",
    "        params['b_params'] = {\n",
    "            'topK': trial.suggest_int('b_p3_topK', 5, 2000, log=True),\n",
    "            'implicit': True, \n",
    "            'normalize_similarity': True\n",
    "        }\n",
    "    elif params['base_b_algorithm'] == 'p3alpha':\n",
    "        params['b_params'] = {\n",
    "            'alpha': trial.suggest_float('b_p3a_alpha', 1e-5, 100, log=True),\n",
    "            'topK': trial.suggest_int('b_p3a_topK', 5, 2000, log=True),\n",
    "            'implicit': True, \n",
    "            'normalize_similarity': True\n",
    "        }\n",
    "    elif params['base_b_algorithm'] == 'rp3beta':\n",
    "        params['b_params'] = {\n",
    "            'alpha': trial.suggest_float('b_rp3_alpha', 1e-5, 100, log=True),\n",
    "            'beta': trial.suggest_float('b_rp3_beta', 1e-5, 100, log=True),\n",
    "            'topK': trial.suggest_int('b_rp3_topK', 5, 2000, log=True),\n",
    "            'implicit': True, \n",
    "            'normalize_similarity': True\n",
    "        }\n",
    "    else:\n",
    "        params['b_params'] = {\n",
    "            'hybrid_lambda': trial.suggest_float('b_hhp_hybrid_lambda', 0.01, 0.99),\n",
    "            'topK': trial.suggest_int('b_hhp_topK', 5, 2000, log=True),\n",
    "        }\n",
    "\n",
    "    recommender_instance = TwoWayRankAggregationRecommender(URM_train)\n",
    "    recommender_instance.fit(**params) \n",
    "        \n",
    "    result_df, _ = evaluator.evaluateRecommender(recommender_instance)\n",
    "    \n",
    "    return result_df.loc[10, \"MAP\"]"
   ]
  },
  {
   "cell_type": "code",
   "execution_count": 17,
   "id": "ce0efaba",
   "metadata": {
    "_kg_hide-output": true,
    "execution": {
     "iopub.execute_input": "2023-12-24T17:26:25.591607Z",
     "iopub.status.busy": "2023-12-24T17:26:25.591163Z",
     "iopub.status.idle": "2023-12-24T21:42:10.922546Z",
     "shell.execute_reply": "2023-12-24T21:42:10.921330Z"
    },
    "papermill": {
     "duration": 15345.456544,
     "end_time": "2023-12-24T21:42:11.013381",
     "exception": false,
     "start_time": "2023-12-24T17:26:25.556837",
     "status": "completed"
    },
    "scrolled": true,
    "tags": []
   },
   "outputs": [
    {
     "name": "stderr",
     "output_type": "stream",
     "text": [
      "[I 2023-12-24 17:26:26,660] A new study created in RDB with name: tuning\n"
     ]
    },
    {
     "name": "stdout",
     "output_type": "stream",
     "text": [
      "TwoWayRankAggregationRecommender: URM Detected 627 ( 4.8%) users with no interactions.\n",
      "TwoWayRankAggregationRecommender: URM Detected 247 ( 1.1%) items with no interactions.\n",
      "P3alphaRecommender: URM Detected 627 ( 4.8%) users with no interactions.\n",
      "P3alphaRecommender: URM Detected 247 ( 1.1%) items with no interactions.\n",
      "P3alphaRecommender: URM Detected 247 ( 1.1%) users with no interactions.\n",
      "P3alphaRecommender: URM Detected 627 ( 4.8%) items with no interactions.\n",
      "P3alphaRecommender: Similarity column 22347 (100.0%), 1780.28 column/sec. Elapsed time 12.55 sec\n",
      "P3alphaRecommender: Similarity column 13024 (100.0%), 3858.91 column/sec. Elapsed time 3.38 sec\n",
      "EvaluatorHoldout: Processed 10456 (100.0%) in 41.82 sec. Users per second: 250\n"
     ]
    },
    {
     "name": "stderr",
     "output_type": "stream",
     "text": [
      "[I 2023-12-24 17:27:29,309] Trial 0 finished with value: 0.04044604146172684 and parameters: {'base_f_algorithm': 'p3alpha', 'base_b_algorithm': 'p3alpha', 'convex_lambda': 0.1637295332308224, 'f_p3a_alpha': 0.9901301652504116, 'f_p3a_topK': 143, 'b_p3a_alpha': 0.0005967050287171578, 'b_p3a_topK': 15}. Best is trial 0 with value: 0.04044604146172684.\n"
     ]
    },
    {
     "name": "stdout",
     "output_type": "stream",
     "text": [
      "TwoWayRankAggregationRecommender: URM Detected 627 ( 4.8%) users with no interactions.\n",
      "TwoWayRankAggregationRecommender: URM Detected 247 ( 1.1%) items with no interactions.\n",
      "RP3betaRecommender: URM Detected 627 ( 4.8%) users with no interactions.\n",
      "RP3betaRecommender: URM Detected 247 ( 1.1%) items with no interactions.\n",
      "P3alphaRecommender: URM Detected 247 ( 1.1%) users with no interactions.\n",
      "P3alphaRecommender: URM Detected 627 ( 4.8%) items with no interactions.\n",
      "RP3betaRecommender: Similarity column 22347 (100.0%), 1739.05 column/sec. Elapsed time 12.85 sec\n",
      "P3alphaRecommender: Similarity column 13024 (100.0%), 437.97 column/sec. Elapsed time 29.74 sec\n",
      "EvaluatorHoldout: Processed 10456 (100.0%) in 1.73 min. Users per second: 100\n"
     ]
    },
    {
     "name": "stderr",
     "output_type": "stream",
     "text": [
      "[I 2023-12-24 17:30:21,530] Trial 1 finished with value: 0.04509172222829511 and parameters: {'base_f_algorithm': 'rp3beta', 'base_b_algorithm': 'p3', 'convex_lambda': 0.14957521692815676, 'f_rp3_alpha': 9.68369085372405e-05, 'f_rp3_beta': 0.0007991828703043603, 'f_rp3_topK': 112, 'b_p3_topK': 1439}. Best is trial 1 with value: 0.04509172222829511.\n"
     ]
    },
    {
     "name": "stdout",
     "output_type": "stream",
     "text": [
      "TwoWayRankAggregationRecommender: URM Detected 627 ( 4.8%) users with no interactions.\n",
      "TwoWayRankAggregationRecommender: URM Detected 247 ( 1.1%) items with no interactions.\n",
      "RP3betaRecommender: URM Detected 627 ( 4.8%) users with no interactions.\n",
      "RP3betaRecommender: URM Detected 247 ( 1.1%) items with no interactions.\n",
      "P3alphaRecommender: URM Detected 247 ( 1.1%) users with no interactions.\n",
      "P3alphaRecommender: URM Detected 627 ( 4.8%) items with no interactions.\n",
      "RP3betaRecommender: Similarity column 22347 (100.0%), 2333.57 column/sec. Elapsed time 9.58 sec\n",
      "P3alphaRecommender: Similarity column 13024 (100.0%), 3904.87 column/sec. Elapsed time 3.34 sec\n",
      "EvaluatorHoldout: Processed 10456 (100.0%) in 37.03 sec. Users per second: 282\n"
     ]
    },
    {
     "name": "stderr",
     "output_type": "stream",
     "text": [
      "[I 2023-12-24 17:31:13,808] Trial 2 finished with value: 0.026432328669800075 and parameters: {'base_f_algorithm': 'rp3beta', 'base_b_algorithm': 'p3alpha', 'convex_lambda': 0.6796209652217118, 'f_rp3_alpha': 0.0018809006665185999, 'f_rp3_beta': 0.06629343760085982, 'f_rp3_topK': 41, 'b_p3a_alpha': 2.6063796768132538e-05, 'b_p3a_topK': 7}. Best is trial 1 with value: 0.04509172222829511.\n"
     ]
    },
    {
     "name": "stdout",
     "output_type": "stream",
     "text": [
      "TwoWayRankAggregationRecommender: URM Detected 627 ( 4.8%) users with no interactions.\n",
      "TwoWayRankAggregationRecommender: URM Detected 247 ( 1.1%) items with no interactions.\n",
      "RP3betaRecommender: URM Detected 627 ( 4.8%) users with no interactions.\n",
      "RP3betaRecommender: URM Detected 247 ( 1.1%) items with no interactions.\n",
      "RP3betaRecommender: URM Detected 247 ( 1.1%) users with no interactions.\n",
      "RP3betaRecommender: URM Detected 627 ( 4.8%) items with no interactions.\n",
      "RP3betaRecommender: Similarity column 22347 (100.0%), 2064.79 column/sec. Elapsed time 10.82 sec\n",
      "RP3betaRecommender: Similarity column 13024 (100.0%), 3047.68 column/sec. Elapsed time 4.27 sec\n",
      "EvaluatorHoldout: Processed 10456 (100.0%) in 43.31 sec. Users per second: 241\n"
     ]
    },
    {
     "name": "stderr",
     "output_type": "stream",
     "text": [
      "[I 2023-12-24 17:32:15,284] Trial 3 finished with value: 0.030766245703841528 and parameters: {'base_f_algorithm': 'rp3beta', 'base_b_algorithm': 'rp3beta', 'convex_lambda': 0.6302484113475272, 'f_rp3_alpha': 0.01118488338452253, 'f_rp3_beta': 0.0016298922761268445, 'f_rp3_topK': 70, 'b_rp3_alpha': 0.0009365233615258673, 'b_rp3_beta': 0.0002396033435028966, 'b_rp3_topK': 18}. Best is trial 1 with value: 0.04509172222829511.\n"
     ]
    },
    {
     "name": "stdout",
     "output_type": "stream",
     "text": [
      "TwoWayRankAggregationRecommender: URM Detected 627 ( 4.8%) users with no interactions.\n",
      "TwoWayRankAggregationRecommender: URM Detected 247 ( 1.1%) items with no interactions.\n",
      "P3alphaRecommender: URM Detected 627 ( 4.8%) users with no interactions.\n",
      "P3alphaRecommender: URM Detected 247 ( 1.1%) items with no interactions.\n",
      "HHPRecommender: URM Detected 247 ( 1.1%) users with no interactions.\n",
      "HHPRecommender: URM Detected 627 ( 4.8%) items with no interactions.\n",
      "P3alphaRecommender: Similarity column 22347 (100.0%), 2360.44 column/sec. Elapsed time 9.47 sec\n",
      "HHPRecommender: Similarity column 13024 (100.0%), 628.69 column/sec. Elapsed time 20.72 sec\n",
      "EvaluatorHoldout: Processed 10456 (100.0%) in 1.39 min. Users per second: 125\n"
     ]
    },
    {
     "name": "stderr",
     "output_type": "stream",
     "text": [
      "[I 2023-12-24 17:34:24,076] Trial 4 finished with value: 0.04222622235581363 and parameters: {'base_f_algorithm': 'p3alpha', 'base_b_algorithm': 'hhp', 'convex_lambda': 0.47040776788326466, 'f_p3a_alpha': 0.00142965124883046, 'f_p3a_topK': 81, 'b_hhp_hybrid_lambda': 0.6792555471184365, 'b_hhp_topK': 693}. Best is trial 1 with value: 0.04509172222829511.\n"
     ]
    },
    {
     "name": "stdout",
     "output_type": "stream",
     "text": [
      "TwoWayRankAggregationRecommender: URM Detected 627 ( 4.8%) users with no interactions.\n",
      "TwoWayRankAggregationRecommender: URM Detected 247 ( 1.1%) items with no interactions.\n",
      "RP3betaRecommender: URM Detected 627 ( 4.8%) users with no interactions.\n",
      "RP3betaRecommender: URM Detected 247 ( 1.1%) items with no interactions.\n",
      "P3alphaRecommender: URM Detected 247 ( 1.1%) users with no interactions.\n",
      "P3alphaRecommender: URM Detected 627 ( 4.8%) items with no interactions.\n",
      "RP3betaRecommender: Similarity column 22347 (100.0%), 379.33 column/sec. Elapsed time 58.91 sec\n",
      "P3alphaRecommender: Similarity column 13024 (100.0%), 3414.54 column/sec. Elapsed time 3.81 sec\n",
      "EvaluatorHoldout: Processed 10456 (100.0%) in 58.08 sec. Users per second: 180\n"
     ]
    },
    {
     "name": "stderr",
     "output_type": "stream",
     "text": [
      "[I 2023-12-24 17:37:01,151] Trial 5 finished with value: 0.014500313482954977 and parameters: {'base_f_algorithm': 'rp3beta', 'base_b_algorithm': 'p3', 'convex_lambda': 0.6752699048727163, 'f_rp3_alpha': 2.4515784895812547, 'f_rp3_beta': 0.003111491113639118, 'f_rp3_topK': 1747, 'b_p3_topK': 35}. Best is trial 1 with value: 0.04509172222829511.\n"
     ]
    },
    {
     "name": "stdout",
     "output_type": "stream",
     "text": [
      "TwoWayRankAggregationRecommender: URM Detected 627 ( 4.8%) users with no interactions.\n",
      "TwoWayRankAggregationRecommender: URM Detected 247 ( 1.1%) items with no interactions.\n",
      "RP3betaRecommender: URM Detected 627 ( 4.8%) users with no interactions.\n",
      "RP3betaRecommender: URM Detected 247 ( 1.1%) items with no interactions.\n",
      "P3alphaRecommender: URM Detected 247 ( 1.1%) users with no interactions.\n",
      "P3alphaRecommender: URM Detected 627 ( 4.8%) items with no interactions.\n",
      "RP3betaRecommender: Similarity column 22347 (100.0%), 3051.98 column/sec. Elapsed time 7.32 sec\n",
      "P3alphaRecommender: Similarity column 13024 (100.0%), 3340.27 column/sec. Elapsed time 3.90 sec\n",
      "EvaluatorHoldout: Processed 10456 (100.0%) in 46.77 sec. Users per second: 224\n"
     ]
    },
    {
     "name": "stderr",
     "output_type": "stream",
     "text": [
      "[I 2023-12-24 17:38:00,767] Trial 6 finished with value: 0.033413947031248545 and parameters: {'base_f_algorithm': 'rp3beta', 'base_b_algorithm': 'p3alpha', 'convex_lambda': 0.18149262632481408, 'f_rp3_alpha': 0.03195617120263177, 'f_rp3_beta': 0.005785628767937443, 'f_rp3_topK': 6, 'b_p3a_alpha': 0.016306329183563124, 'b_p3a_topK': 39}. Best is trial 1 with value: 0.04509172222829511.\n"
     ]
    },
    {
     "name": "stdout",
     "output_type": "stream",
     "text": [
      "TwoWayRankAggregationRecommender: URM Detected 627 ( 4.8%) users with no interactions.\n",
      "TwoWayRankAggregationRecommender: URM Detected 247 ( 1.1%) items with no interactions.\n",
      "RP3betaRecommender: URM Detected 627 ( 4.8%) users with no interactions.\n",
      "RP3betaRecommender: URM Detected 247 ( 1.1%) items with no interactions.\n",
      "HHPRecommender: URM Detected 247 ( 1.1%) users with no interactions.\n",
      "HHPRecommender: URM Detected 627 ( 4.8%) items with no interactions.\n",
      "RP3betaRecommender: Similarity column 22347 (100.0%), 2755.49 column/sec. Elapsed time 8.11 sec\n",
      "HHPRecommender: Similarity column 13024 (100.0%), 3085.41 column/sec. Elapsed time 4.22 sec\n",
      "EvaluatorHoldout: Processed 10456 (100.0%) in 47.66 sec. Users per second: 219\n"
     ]
    },
    {
     "name": "stderr",
     "output_type": "stream",
     "text": [
      "[I 2023-12-24 17:39:02,957] Trial 7 finished with value: 0.0032431367726892027 and parameters: {'base_f_algorithm': 'rp3beta', 'base_b_algorithm': 'hhp', 'convex_lambda': 0.6848965144249151, 'f_rp3_alpha': 4.2016493482006403e-05, 'f_rp3_beta': 60.675119243413945, 'f_rp3_topK': 47, 'b_hhp_hybrid_lambda': 0.6686594979113007, 'b_hhp_topK': 10}. Best is trial 1 with value: 0.04509172222829511.\n"
     ]
    },
    {
     "name": "stdout",
     "output_type": "stream",
     "text": [
      "TwoWayRankAggregationRecommender: URM Detected 627 ( 4.8%) users with no interactions.\n",
      "TwoWayRankAggregationRecommender: URM Detected 247 ( 1.1%) items with no interactions.\n",
      "HHPRecommender: URM Detected 627 ( 4.8%) users with no interactions.\n",
      "HHPRecommender: URM Detected 247 ( 1.1%) items with no interactions.\n",
      "P3alphaRecommender: URM Detected 247 ( 1.1%) users with no interactions.\n",
      "P3alphaRecommender: URM Detected 627 ( 4.8%) items with no interactions.\n",
      "HHPRecommender: Similarity column 22347 (100.0%), 2630.19 column/sec. Elapsed time 8.50 sec\n",
      "P3alphaRecommender: Similarity column 13024 (100.0%), 3126.54 column/sec. Elapsed time 4.17 sec\n",
      "EvaluatorHoldout: Processed 10456 (100.0%) in 48.32 sec. Users per second: 216\n"
     ]
    },
    {
     "name": "stderr",
     "output_type": "stream",
     "text": [
      "[I 2023-12-24 17:40:06,030] Trial 8 finished with value: 0.03850775661578129 and parameters: {'base_f_algorithm': 'hhp', 'base_b_algorithm': 'p3alpha', 'convex_lambda': 0.5163232476610012, 'f_hhp_hybrid_lambda': 0.8140354999041813, 'f_hhp_topK': 14, 'b_p3a_alpha': 0.024184180978712166, 'b_p3a_topK': 48}. Best is trial 1 with value: 0.04509172222829511.\n"
     ]
    },
    {
     "name": "stdout",
     "output_type": "stream",
     "text": [
      "TwoWayRankAggregationRecommender: URM Detected 627 ( 4.8%) users with no interactions.\n",
      "TwoWayRankAggregationRecommender: URM Detected 247 ( 1.1%) items with no interactions.\n",
      "HHPRecommender: URM Detected 627 ( 4.8%) users with no interactions.\n",
      "HHPRecommender: URM Detected 247 ( 1.1%) items with no interactions.\n",
      "RP3betaRecommender: URM Detected 247 ( 1.1%) users with no interactions.\n",
      "RP3betaRecommender: URM Detected 627 ( 4.8%) items with no interactions.\n",
      "HHPRecommender: Similarity column 22347 (100.0%), 2525.40 column/sec. Elapsed time 8.85 sec\n",
      "RP3betaRecommender: Similarity column 13024 (100.0%), 3055.00 column/sec. Elapsed time 4.26 sec\n",
      "EvaluatorHoldout: Processed 10456 (100.0%) in 46.15 sec. Users per second: 227\n"
     ]
    },
    {
     "name": "stderr",
     "output_type": "stream",
     "text": [
      "[I 2023-12-24 17:41:07,588] Trial 9 finished with value: 0.04040824133785161 and parameters: {'base_f_algorithm': 'hhp', 'base_b_algorithm': 'rp3beta', 'convex_lambda': 0.09652334443331527, 'f_hhp_hybrid_lambda': 0.7898623167959327, 'f_hhp_topK': 25, 'b_rp3_alpha': 0.05471071858316495, 'b_rp3_beta': 0.012888884733017832, 'b_rp3_topK': 26}. Best is trial 1 with value: 0.04509172222829511.\n"
     ]
    },
    {
     "name": "stdout",
     "output_type": "stream",
     "text": [
      "TwoWayRankAggregationRecommender: URM Detected 627 ( 4.8%) users with no interactions.\n",
      "TwoWayRankAggregationRecommender: URM Detected 247 ( 1.1%) items with no interactions.\n",
      "P3alphaRecommender: URM Detected 627 ( 4.8%) users with no interactions.\n",
      "P3alphaRecommender: URM Detected 247 ( 1.1%) items with no interactions.\n",
      "P3alphaRecommender: URM Detected 247 ( 1.1%) users with no interactions.\n",
      "P3alphaRecommender: URM Detected 627 ( 4.8%) items with no interactions.\n",
      "P3alphaRecommender: Similarity column 22347 (100.0%), 636.55 column/sec. Elapsed time 35.11 sec\n",
      "P3alphaRecommender: Similarity column 13024 (100.0%), 389.19 column/sec. Elapsed time 33.46 sec\n",
      "EvaluatorHoldout: Processed 10456 (100.0%) in 1.86 min. Users per second: 93\n"
     ]
    },
    {
     "name": "stderr",
     "output_type": "stream",
     "text": [
      "[I 2023-12-24 17:44:54,283] Trial 10 finished with value: 0.022460325050703778 and parameters: {'base_f_algorithm': 'p3', 'base_b_algorithm': 'p3', 'convex_lambda': 0.8893089594833765, 'f_p3_topK': 903, 'b_p3_topK': 1642}. Best is trial 1 with value: 0.04509172222829511.\n"
     ]
    },
    {
     "name": "stdout",
     "output_type": "stream",
     "text": [
      "TwoWayRankAggregationRecommender: URM Detected 627 ( 4.8%) users with no interactions.\n",
      "TwoWayRankAggregationRecommender: URM Detected 247 ( 1.1%) items with no interactions.\n",
      "P3alphaRecommender: URM Detected 627 ( 4.8%) users with no interactions.\n",
      "P3alphaRecommender: URM Detected 247 ( 1.1%) items with no interactions.\n",
      "HHPRecommender: URM Detected 247 ( 1.1%) users with no interactions.\n",
      "HHPRecommender: URM Detected 627 ( 4.8%) items with no interactions.\n",
      "P3alphaRecommender: Similarity column 22347 (100.0%), 3962.22 column/sec. Elapsed time 5.64 sec\n",
      "HHPRecommender: Similarity column 13024 (100.0%), 374.35 column/sec. Elapsed time 34.79 sec\n",
      "EvaluatorHoldout: Processed 10456 (100.0%) in 1.78 min. Users per second: 98\n"
     ]
    },
    {
     "name": "stderr",
     "output_type": "stream",
     "text": [
      "[I 2023-12-24 17:47:46,710] Trial 11 finished with value: 0.040311854817163366 and parameters: {'base_f_algorithm': 'p3alpha', 'base_b_algorithm': 'hhp', 'convex_lambda': 0.32623629060747383, 'f_p3a_alpha': 5.012633057482007e-05, 'f_p3a_topK': 10, 'b_hhp_hybrid_lambda': 0.9640127674073007, 'b_hhp_topK': 1527}. Best is trial 1 with value: 0.04509172222829511.\n"
     ]
    },
    {
     "name": "stdout",
     "output_type": "stream",
     "text": [
      "TwoWayRankAggregationRecommender: URM Detected 627 ( 4.8%) users with no interactions.\n",
      "TwoWayRankAggregationRecommender: URM Detected 247 ( 1.1%) items with no interactions.\n",
      "P3alphaRecommender: URM Detected 627 ( 4.8%) users with no interactions.\n",
      "P3alphaRecommender: URM Detected 247 ( 1.1%) items with no interactions.\n",
      "HHPRecommender: URM Detected 247 ( 1.1%) users with no interactions.\n",
      "HHPRecommender: URM Detected 627 ( 4.8%) items with no interactions.\n",
      "P3alphaRecommender: Similarity column 22347 (100.0%), 494.60 column/sec. Elapsed time 45.18 sec\n",
      "HHPRecommender: Similarity column 13024 (100.0%), 636.71 column/sec. Elapsed time 20.46 sec\n",
      "EvaluatorHoldout: Processed 10456 (100.0%) in 1.66 min. Users per second: 105\n"
     ]
    },
    {
     "name": "stderr",
     "output_type": "stream",
     "text": [
      "[I 2023-12-24 17:51:20,762] Trial 12 finished with value: 0.02723760414010048 and parameters: {'base_f_algorithm': 'p3alpha', 'base_b_algorithm': 'hhp', 'convex_lambda': 0.3352304265776856, 'f_p3a_alpha': 0.002842744086212802, 'f_p3a_topK': 1725, 'b_hhp_hybrid_lambda': 0.023783196293310827, 'b_hhp_topK': 693}. Best is trial 1 with value: 0.04509172222829511.\n"
     ]
    },
    {
     "name": "stdout",
     "output_type": "stream",
     "text": [
      "TwoWayRankAggregationRecommender: URM Detected 627 ( 4.8%) users with no interactions.\n",
      "TwoWayRankAggregationRecommender: URM Detected 247 ( 1.1%) items with no interactions.\n",
      "P3alphaRecommender: URM Detected 627 ( 4.8%) users with no interactions.\n",
      "P3alphaRecommender: URM Detected 247 ( 1.1%) items with no interactions.\n",
      "P3alphaRecommender: URM Detected 247 ( 1.1%) users with no interactions.\n",
      "P3alphaRecommender: URM Detected 627 ( 4.8%) items with no interactions.\n",
      "P3alphaRecommender: Similarity column 22347 (100.0%), 4115.98 column/sec. Elapsed time 5.43 sec\n",
      "P3alphaRecommender: Similarity column 13024 (100.0%), 520.48 column/sec. Elapsed time 25.02 sec\n",
      "EvaluatorHoldout: Processed 10456 (100.0%) in 1.56 min. Users per second: 111\n"
     ]
    },
    {
     "name": "stderr",
     "output_type": "stream",
     "text": [
      "[I 2023-12-24 17:53:42,473] Trial 13 finished with value: 0.02537274489622431 and parameters: {'base_f_algorithm': 'p3', 'base_b_algorithm': 'p3', 'convex_lambda': 0.01804152398272807, 'f_p3_topK': 5, 'b_p3_topK': 1118}. Best is trial 1 with value: 0.04509172222829511.\n"
     ]
    },
    {
     "name": "stdout",
     "output_type": "stream",
     "text": [
      "TwoWayRankAggregationRecommender: URM Detected 627 ( 4.8%) users with no interactions.\n",
      "TwoWayRankAggregationRecommender: URM Detected 247 ( 1.1%) items with no interactions.\n",
      "P3alphaRecommender: URM Detected 627 ( 4.8%) users with no interactions.\n",
      "P3alphaRecommender: URM Detected 247 ( 1.1%) items with no interactions.\n",
      "P3alphaRecommender: URM Detected 247 ( 1.1%) users with no interactions.\n",
      "P3alphaRecommender: URM Detected 627 ( 4.8%) items with no interactions.\n",
      "P3alphaRecommender: Similarity column 22347 (100.0%), 5207.39 column/sec. Elapsed time 4.29 sec\n",
      "P3alphaRecommender: Similarity column 13024 (100.0%), 4094.36 column/sec. Elapsed time 3.18 sec\n",
      "EvaluatorHoldout: Processed 10456 (100.0%) in 47.64 sec. Users per second: 219\n"
     ]
    },
    {
     "name": "stderr",
     "output_type": "stream",
     "text": [
      "[I 2023-12-24 17:54:39,968] Trial 14 finished with value: 0.003935649463815118 and parameters: {'base_f_algorithm': 'p3alpha', 'base_b_algorithm': 'p3', 'convex_lambda': 0.39124111644565884, 'f_p3a_alpha': 38.621212381733145, 'f_p3a_topK': 52, 'b_p3_topK': 5}. Best is trial 1 with value: 0.04509172222829511.\n"
     ]
    },
    {
     "name": "stdout",
     "output_type": "stream",
     "text": [
      "TwoWayRankAggregationRecommender: URM Detected 627 ( 4.8%) users with no interactions.\n",
      "TwoWayRankAggregationRecommender: URM Detected 247 ( 1.1%) items with no interactions.\n",
      "P3alphaRecommender: URM Detected 627 ( 4.8%) users with no interactions.\n",
      "P3alphaRecommender: URM Detected 247 ( 1.1%) items with no interactions.\n",
      "HHPRecommender: URM Detected 247 ( 1.1%) users with no interactions.\n",
      "HHPRecommender: URM Detected 627 ( 4.8%) items with no interactions.\n",
      "P3alphaRecommender: Similarity column 22347 (100.0%), 4114.59 column/sec. Elapsed time 5.43 sec\n",
      "HHPRecommender: Similarity column 13024 (100.0%), 1454.87 column/sec. Elapsed time 8.95 sec\n",
      "EvaluatorHoldout: Processed 10456 (100.0%) in 1.06 min. Users per second: 164\n"
     ]
    },
    {
     "name": "stderr",
     "output_type": "stream",
     "text": [
      "[I 2023-12-24 17:56:03,094] Trial 15 finished with value: 0.03421702887990229 and parameters: {'base_f_algorithm': 'p3alpha', 'base_b_algorithm': 'hhp', 'convex_lambda': 0.2357489219422958, 'f_p3a_alpha': 0.00290128441991367, 'f_p3a_topK': 5, 'b_hhp_hybrid_lambda': 0.5069161524779796, 'b_hhp_topK': 178}. Best is trial 1 with value: 0.04509172222829511.\n"
     ]
    },
    {
     "name": "stdout",
     "output_type": "stream",
     "text": [
      "TwoWayRankAggregationRecommender: URM Detected 627 ( 4.8%) users with no interactions.\n",
      "TwoWayRankAggregationRecommender: URM Detected 247 ( 1.1%) items with no interactions.\n",
      "P3alphaRecommender: URM Detected 627 ( 4.8%) users with no interactions.\n",
      "P3alphaRecommender: URM Detected 247 ( 1.1%) items with no interactions.\n",
      "HHPRecommender: URM Detected 247 ( 1.1%) users with no interactions.\n",
      "HHPRecommender: URM Detected 627 ( 4.8%) items with no interactions.\n",
      "P3alphaRecommender: Similarity column 22347 (100.0%), 537.45 column/sec. Elapsed time 41.58 sec\n",
      "HHPRecommender: Similarity column 13024 (100.0%), 1487.04 column/sec. Elapsed time 8.76 sec\n",
      "EvaluatorHoldout: Processed 10456 (100.0%) in 1.06 min. Users per second: 164\n"
     ]
    },
    {
     "name": "stderr",
     "output_type": "stream",
     "text": [
      "[I 2023-12-24 17:58:36,348] Trial 16 finished with value: 0.032846159568137745 and parameters: {'base_f_algorithm': 'p3', 'base_b_algorithm': 'hhp', 'convex_lambda': 0.016950541452507184, 'f_p3_topK': 1351, 'b_hhp_hybrid_lambda': 0.8459297596812332, 'b_hhp_topK': 164}. Best is trial 1 with value: 0.04509172222829511.\n"
     ]
    },
    {
     "name": "stdout",
     "output_type": "stream",
     "text": [
      "TwoWayRankAggregationRecommender: URM Detected 627 ( 4.8%) users with no interactions.\n",
      "TwoWayRankAggregationRecommender: URM Detected 247 ( 1.1%) items with no interactions.\n",
      "HHPRecommender: URM Detected 627 ( 4.8%) users with no interactions.\n",
      "HHPRecommender: URM Detected 247 ( 1.1%) items with no interactions.\n",
      "P3alphaRecommender: URM Detected 247 ( 1.1%) users with no interactions.\n",
      "P3alphaRecommender: URM Detected 627 ( 4.8%) items with no interactions.\n",
      "HHPRecommender: Similarity column 22347 (100.0%), 426.21 column/sec. Elapsed time 52.43 sec\n",
      "P3alphaRecommender: Similarity column 13024 (100.0%), 1235.66 column/sec. Elapsed time 10.54 sec\n",
      "EvaluatorHoldout: Processed 10456 (100.0%) in 1.17 min. Users per second: 148\n"
     ]
    },
    {
     "name": "stderr",
     "output_type": "stream",
     "text": [
      "[I 2023-12-24 18:01:33,795] Trial 17 finished with value: 0.015036593252450218 and parameters: {'base_f_algorithm': 'hhp', 'base_b_algorithm': 'p3', 'convex_lambda': 0.45899831626568943, 'f_hhp_hybrid_lambda': 0.04194949796559133, 'f_hhp_topK': 1832, 'b_p3_topK': 289}. Best is trial 1 with value: 0.04509172222829511.\n"
     ]
    },
    {
     "name": "stdout",
     "output_type": "stream",
     "text": [
      "TwoWayRankAggregationRecommender: URM Detected 627 ( 4.8%) users with no interactions.\n",
      "TwoWayRankAggregationRecommender: URM Detected 247 ( 1.1%) items with no interactions.\n",
      "RP3betaRecommender: URM Detected 627 ( 4.8%) users with no interactions.\n",
      "RP3betaRecommender: URM Detected 247 ( 1.1%) items with no interactions.\n",
      "RP3betaRecommender: URM Detected 247 ( 1.1%) users with no interactions.\n",
      "RP3betaRecommender: URM Detected 627 ( 4.8%) items with no interactions.\n",
      "RP3betaRecommender: Similarity column 22347 (100.0%), 722.66 column/sec. Elapsed time 30.92 sec\n",
      "RP3betaRecommender: Similarity column 13024 (100.0%), 4567.06 column/sec. Elapsed time 2.85 sec\n",
      "EvaluatorHoldout: Processed 10456 (100.0%) in 30.86 sec. Users per second: 339\n"
     ]
    },
    {
     "name": "stderr",
     "output_type": "stream",
     "text": [
      "[I 2023-12-24 18:02:55,842] Trial 18 finished with value: 0.036124140009230254 and parameters: {'base_f_algorithm': 'rp3beta', 'base_b_algorithm': 'rp3beta', 'convex_lambda': 0.26171174764552296, 'f_rp3_alpha': 1.084420566649007e-05, 'f_rp3_beta': 1.162027105524798e-05, 'f_rp3_topK': 511, 'b_rp3_alpha': 51.46945450453685, 'b_rp3_beta': 73.77414463159138, 'b_rp3_topK': 1398}. Best is trial 1 with value: 0.04509172222829511.\n"
     ]
    },
    {
     "name": "stdout",
     "output_type": "stream",
     "text": [
      "TwoWayRankAggregationRecommender: URM Detected 627 ( 4.8%) users with no interactions.\n",
      "TwoWayRankAggregationRecommender: URM Detected 247 ( 1.1%) items with no interactions.\n",
      "P3alphaRecommender: URM Detected 627 ( 4.8%) users with no interactions.\n",
      "P3alphaRecommender: URM Detected 247 ( 1.1%) items with no interactions.\n",
      "P3alphaRecommender: URM Detected 247 ( 1.1%) users with no interactions.\n",
      "P3alphaRecommender: URM Detected 627 ( 4.8%) items with no interactions.\n",
      "P3alphaRecommender: Similarity column 22347 (100.0%), 2329.84 column/sec. Elapsed time 9.59 sec\n",
      "P3alphaRecommender: Similarity column 13024 (100.0%), 1391.33 column/sec. Elapsed time 9.36 sec\n",
      "EvaluatorHoldout: Processed 10456 (100.0%) in 1.26 min. Users per second: 139\n"
     ]
    },
    {
     "name": "stderr",
     "output_type": "stream",
     "text": [
      "[I 2023-12-24 18:04:36,986] Trial 19 finished with value: 0.04605244501524226 and parameters: {'base_f_algorithm': 'p3alpha', 'base_b_algorithm': 'p3', 'convex_lambda': 0.12367399208134977, 'f_p3a_alpha': 1.0207853839448337e-05, 'f_p3a_topK': 82, 'b_p3_topK': 250}. Best is trial 19 with value: 0.04605244501524226.\n"
     ]
    },
    {
     "name": "stdout",
     "output_type": "stream",
     "text": [
      "TwoWayRankAggregationRecommender: URM Detected 627 ( 4.8%) users with no interactions.\n",
      "TwoWayRankAggregationRecommender: URM Detected 247 ( 1.1%) items with no interactions.\n",
      "P3alphaRecommender: URM Detected 627 ( 4.8%) users with no interactions.\n",
      "P3alphaRecommender: URM Detected 247 ( 1.1%) items with no interactions.\n",
      "P3alphaRecommender: URM Detected 247 ( 1.1%) users with no interactions.\n",
      "P3alphaRecommender: URM Detected 627 ( 4.8%) items with no interactions.\n",
      "P3alphaRecommender: Similarity column 22347 (100.0%), 930.94 column/sec. Elapsed time 24.00 sec\n",
      "P3alphaRecommender: Similarity column 13024 (100.0%), 1284.65 column/sec. Elapsed time 10.14 sec\n",
      "EvaluatorHoldout: Processed 10456 (100.0%) in 1.09 min. Users per second: 161\n"
     ]
    },
    {
     "name": "stderr",
     "output_type": "stream",
     "text": [
      "[I 2023-12-24 18:06:32,104] Trial 20 finished with value: 0.037450218451318754 and parameters: {'base_f_algorithm': 'p3alpha', 'base_b_algorithm': 'p3', 'convex_lambda': 0.11087103007928947, 'f_p3a_alpha': 1.0584502879455458e-05, 'f_p3a_topK': 389, 'b_p3_topK': 290}. Best is trial 19 with value: 0.04605244501524226.\n"
     ]
    },
    {
     "name": "stdout",
     "output_type": "stream",
     "text": [
      "TwoWayRankAggregationRecommender: URM Detected 627 ( 4.8%) users with no interactions.\n",
      "TwoWayRankAggregationRecommender: URM Detected 247 ( 1.1%) items with no interactions.\n",
      "P3alphaRecommender: URM Detected 627 ( 4.8%) users with no interactions.\n",
      "P3alphaRecommender: URM Detected 247 ( 1.1%) items with no interactions.\n",
      "P3alphaRecommender: URM Detected 247 ( 1.1%) users with no interactions.\n",
      "P3alphaRecommender: URM Detected 627 ( 4.8%) items with no interactions.\n",
      "P3alphaRecommender: Similarity column 22347 (100.0%), 3172.49 column/sec. Elapsed time 7.04 sec\n",
      "P3alphaRecommender: Similarity column 13024 (100.0%), 976.88 column/sec. Elapsed time 13.33 sec\n",
      "EvaluatorHoldout: Processed 10456 (100.0%) in 1.12 min. Users per second: 155\n"
     ]
    },
    {
     "name": "stderr",
     "output_type": "stream",
     "text": [
      "[I 2023-12-24 18:08:08,327] Trial 21 finished with value: 0.046480971660534276 and parameters: {'base_f_algorithm': 'p3alpha', 'base_b_algorithm': 'p3', 'convex_lambda': 0.25919279840703413, 'f_p3a_alpha': 0.00023749293246350022, 'f_p3a_topK': 41, 'b_p3_topK': 434}. Best is trial 21 with value: 0.046480971660534276.\n"
     ]
    },
    {
     "name": "stdout",
     "output_type": "stream",
     "text": [
      "TwoWayRankAggregationRecommender: URM Detected 627 ( 4.8%) users with no interactions.\n",
      "TwoWayRankAggregationRecommender: URM Detected 247 ( 1.1%) items with no interactions.\n",
      "P3alphaRecommender: URM Detected 627 ( 4.8%) users with no interactions.\n",
      "P3alphaRecommender: URM Detected 247 ( 1.1%) items with no interactions.\n",
      "P3alphaRecommender: URM Detected 247 ( 1.1%) users with no interactions.\n",
      "P3alphaRecommender: URM Detected 627 ( 4.8%) items with no interactions.\n",
      "P3alphaRecommender: Similarity column 22347 (100.0%), 3496.52 column/sec. Elapsed time 6.39 sec\n",
      "P3alphaRecommender: Similarity column 13024 (100.0%), 878.05 column/sec. Elapsed time 14.83 sec\n",
      "EvaluatorHoldout: Processed 10456 (100.0%) in 1.16 min. Users per second: 150\n"
     ]
    },
    {
     "name": "stderr",
     "output_type": "stream",
     "text": [
      "[I 2023-12-24 18:09:48,275] Trial 22 finished with value: 0.04607979317715426 and parameters: {'base_f_algorithm': 'p3alpha', 'base_b_algorithm': 'p3', 'convex_lambda': 0.21409118514957814, 'f_p3a_alpha': 1.1279532450529783e-05, 'f_p3a_topK': 26, 'b_p3_topK': 499}. Best is trial 21 with value: 0.046480971660534276.\n"
     ]
    },
    {
     "name": "stdout",
     "output_type": "stream",
     "text": [
      "TwoWayRankAggregationRecommender: URM Detected 627 ( 4.8%) users with no interactions.\n",
      "TwoWayRankAggregationRecommender: URM Detected 247 ( 1.1%) items with no interactions.\n",
      "P3alphaRecommender: URM Detected 627 ( 4.8%) users with no interactions.\n",
      "P3alphaRecommender: URM Detected 247 ( 1.1%) items with no interactions.\n",
      "P3alphaRecommender: URM Detected 247 ( 1.1%) users with no interactions.\n",
      "P3alphaRecommender: URM Detected 627 ( 4.8%) items with no interactions.\n",
      "P3alphaRecommender: Similarity column 22347 (100.0%), 3547.20 column/sec. Elapsed time 6.30 sec\n",
      "P3alphaRecommender: Similarity column 13024 (100.0%), 1295.74 column/sec. Elapsed time 10.05 sec\n",
      "EvaluatorHoldout: Processed 10456 (100.0%) in 1.02 min. Users per second: 171\n"
     ]
    },
    {
     "name": "stderr",
     "output_type": "stream",
     "text": [
      "[I 2023-12-24 18:11:11,440] Trial 23 finished with value: 0.045455977277420144 and parameters: {'base_f_algorithm': 'p3alpha', 'base_b_algorithm': 'p3', 'convex_lambda': 0.2558588149965352, 'f_p3a_alpha': 1.554252809021845e-05, 'f_p3a_topK': 23, 'b_p3_topK': 277}. Best is trial 21 with value: 0.046480971660534276.\n"
     ]
    },
    {
     "name": "stdout",
     "output_type": "stream",
     "text": [
      "TwoWayRankAggregationRecommender: URM Detected 627 ( 4.8%) users with no interactions.\n",
      "TwoWayRankAggregationRecommender: URM Detected 247 ( 1.1%) items with no interactions.\n",
      "P3alphaRecommender: URM Detected 627 ( 4.8%) users with no interactions.\n",
      "P3alphaRecommender: URM Detected 247 ( 1.1%) items with no interactions.\n",
      "P3alphaRecommender: URM Detected 247 ( 1.1%) users with no interactions.\n",
      "P3alphaRecommender: URM Detected 627 ( 4.8%) items with no interactions.\n",
      "P3alphaRecommender: Similarity column 22347 (100.0%), 3387.34 column/sec. Elapsed time 6.60 sec\n",
      "P3alphaRecommender: Similarity column 13024 (100.0%), 969.46 column/sec. Elapsed time 13.43 sec\n",
      "EvaluatorHoldout: Processed 10456 (100.0%) in 1.12 min. Users per second: 155\n"
     ]
    },
    {
     "name": "stderr",
     "output_type": "stream",
     "text": [
      "[I 2023-12-24 18:12:47,275] Trial 24 finished with value: 0.046490539342491026 and parameters: {'base_f_algorithm': 'p3alpha', 'base_b_algorithm': 'p3', 'convex_lambda': 0.2233792190189055, 'f_p3a_alpha': 9.711637095462682e-05, 'f_p3a_topK': 31, 'b_p3_topK': 436}. Best is trial 24 with value: 0.046490539342491026.\n"
     ]
    },
    {
     "name": "stdout",
     "output_type": "stream",
     "text": [
      "TwoWayRankAggregationRecommender: URM Detected 627 ( 4.8%) users with no interactions.\n",
      "TwoWayRankAggregationRecommender: URM Detected 247 ( 1.1%) items with no interactions.\n",
      "P3alphaRecommender: URM Detected 627 ( 4.8%) users with no interactions.\n",
      "P3alphaRecommender: URM Detected 247 ( 1.1%) items with no interactions.\n",
      "P3alphaRecommender: URM Detected 247 ( 1.1%) users with no interactions.\n",
      "P3alphaRecommender: URM Detected 627 ( 4.8%) items with no interactions.\n",
      "P3alphaRecommender: Similarity column 22347 (100.0%), 3527.92 column/sec. Elapsed time 6.33 sec\n",
      "P3alphaRecommender: Similarity column 13024 (100.0%), 844.93 column/sec. Elapsed time 15.41 sec\n",
      "EvaluatorHoldout: Processed 10456 (100.0%) in 1.19 min. Users per second: 146\n"
     ]
    },
    {
     "name": "stderr",
     "output_type": "stream",
     "text": [
      "[I 2023-12-24 18:14:30,267] Trial 25 finished with value: 0.04562692036773972 and parameters: {'base_f_algorithm': 'p3alpha', 'base_b_algorithm': 'p3', 'convex_lambda': 0.30632878644946704, 'f_p3a_alpha': 0.00019895732194336318, 'f_p3a_topK': 24, 'b_p3_topK': 541}. Best is trial 24 with value: 0.046490539342491026.\n"
     ]
    },
    {
     "name": "stdout",
     "output_type": "stream",
     "text": [
      "TwoWayRankAggregationRecommender: URM Detected 627 ( 4.8%) users with no interactions.\n",
      "TwoWayRankAggregationRecommender: URM Detected 247 ( 1.1%) items with no interactions.\n",
      "P3alphaRecommender: URM Detected 627 ( 4.8%) users with no interactions.\n",
      "P3alphaRecommender: URM Detected 247 ( 1.1%) items with no interactions.\n",
      "P3alphaRecommender: URM Detected 247 ( 1.1%) users with no interactions.\n",
      "P3alphaRecommender: URM Detected 627 ( 4.8%) items with no interactions.\n",
      "P3alphaRecommender: Similarity column 22347 (100.0%), 3623.04 column/sec. Elapsed time 6.17 sec\n",
      "P3alphaRecommender: Similarity column 13024 (100.0%), 2130.76 column/sec. Elapsed time 6.11 sec\n",
      "EvaluatorHoldout: Processed 10456 (100.0%) in 54.72 sec. Users per second: 191\n"
     ]
    },
    {
     "name": "stderr",
     "output_type": "stream",
     "text": [
      "[I 2023-12-24 18:15:40,451] Trial 26 finished with value: 0.04491981136371991 and parameters: {'base_f_algorithm': 'p3alpha', 'base_b_algorithm': 'p3', 'convex_lambda': 0.2124549911610228, 'f_p3a_alpha': 0.00015896183566494853, 'f_p3a_topK': 21, 'b_p3_topK': 111}. Best is trial 24 with value: 0.046490539342491026.\n"
     ]
    },
    {
     "name": "stdout",
     "output_type": "stream",
     "text": [
      "TwoWayRankAggregationRecommender: URM Detected 627 ( 4.8%) users with no interactions.\n",
      "TwoWayRankAggregationRecommender: URM Detected 247 ( 1.1%) items with no interactions.\n",
      "P3alphaRecommender: URM Detected 627 ( 4.8%) users with no interactions.\n",
      "P3alphaRecommender: URM Detected 247 ( 1.1%) items with no interactions.\n",
      "P3alphaRecommender: URM Detected 247 ( 1.1%) users with no interactions.\n",
      "P3alphaRecommender: URM Detected 627 ( 4.8%) items with no interactions.\n",
      "P3alphaRecommender: Similarity column 22347 (100.0%), 3331.26 column/sec. Elapsed time 6.71 sec\n",
      "P3alphaRecommender: Similarity column 13024 (100.0%), 743.64 column/sec. Elapsed time 17.51 sec\n",
      "EvaluatorHoldout: Processed 10456 (100.0%) in 1.26 min. Users per second: 138\n"
     ]
    },
    {
     "name": "stderr",
     "output_type": "stream",
     "text": [
      "[I 2023-12-24 18:17:32,140] Trial 27 finished with value: 0.04582529131902761 and parameters: {'base_f_algorithm': 'p3alpha', 'base_b_algorithm': 'p3', 'convex_lambda': 0.389216945798301, 'f_p3a_alpha': 0.0003174290716710153, 'f_p3a_topK': 34, 'b_p3_topK': 653}. Best is trial 24 with value: 0.046490539342491026.\n"
     ]
    },
    {
     "name": "stdout",
     "output_type": "stream",
     "text": [
      "TwoWayRankAggregationRecommender: URM Detected 627 ( 4.8%) users with no interactions.\n",
      "TwoWayRankAggregationRecommender: URM Detected 247 ( 1.1%) items with no interactions.\n",
      "P3alphaRecommender: URM Detected 627 ( 4.8%) users with no interactions.\n",
      "P3alphaRecommender: URM Detected 247 ( 1.1%) items with no interactions.\n",
      "P3alphaRecommender: URM Detected 247 ( 1.1%) users with no interactions.\n",
      "P3alphaRecommender: URM Detected 627 ( 4.8%) items with no interactions.\n",
      "P3alphaRecommender: Similarity column 22347 (100.0%), 3860.29 column/sec. Elapsed time 5.79 sec\n",
      "P3alphaRecommender: Similarity column 13024 (100.0%), 725.83 column/sec. Elapsed time 17.94 sec\n",
      "EvaluatorHoldout: Processed 10456 (100.0%) in 1.28 min. Users per second: 136\n"
     ]
    },
    {
     "name": "stderr",
     "output_type": "stream",
     "text": [
      "[I 2023-12-24 18:19:24,082] Trial 28 finished with value: 0.04214051171348476 and parameters: {'base_f_algorithm': 'p3alpha', 'base_b_algorithm': 'p3', 'convex_lambda': 0.22257641557097954, 'f_p3a_alpha': 9.19491128152898e-05, 'f_p3a_topK': 13, 'b_p3_topK': 683}. Best is trial 24 with value: 0.046490539342491026.\n"
     ]
    },
    {
     "name": "stdout",
     "output_type": "stream",
     "text": [
      "TwoWayRankAggregationRecommender: URM Detected 627 ( 4.8%) users with no interactions.\n",
      "TwoWayRankAggregationRecommender: URM Detected 247 ( 1.1%) items with no interactions.\n",
      "P3alphaRecommender: URM Detected 627 ( 4.8%) users with no interactions.\n",
      "P3alphaRecommender: URM Detected 247 ( 1.1%) items with no interactions.\n",
      "P3alphaRecommender: URM Detected 247 ( 1.1%) users with no interactions.\n",
      "P3alphaRecommender: URM Detected 627 ( 4.8%) items with no interactions.\n",
      "P3alphaRecommender: Similarity column 22347 (100.0%), 3061.73 column/sec. Elapsed time 7.30 sec\n",
      "P3alphaRecommender: Similarity column 13024 (100.0%), 2004.03 column/sec. Elapsed time 6.50 sec\n",
      "EvaluatorHoldout: Processed 10456 (100.0%) in 55.74 sec. Users per second: 188\n"
     ]
    },
    {
     "name": "stderr",
     "output_type": "stream",
     "text": [
      "[I 2023-12-24 18:20:37,513] Trial 29 finished with value: 0.04658781773357208 and parameters: {'base_f_algorithm': 'p3alpha', 'base_b_algorithm': 'p3', 'convex_lambda': 0.17568741889737868, 'f_p3a_alpha': 0.027502764374814328, 'f_p3a_topK': 46, 'b_p3_topK': 129}. Best is trial 29 with value: 0.04658781773357208.\n"
     ]
    },
    {
     "name": "stdout",
     "output_type": "stream",
     "text": [
      "TwoWayRankAggregationRecommender: URM Detected 627 ( 4.8%) users with no interactions.\n",
      "TwoWayRankAggregationRecommender: URM Detected 247 ( 1.1%) items with no interactions.\n",
      "P3alphaRecommender: URM Detected 627 ( 4.8%) users with no interactions.\n",
      "P3alphaRecommender: URM Detected 247 ( 1.1%) items with no interactions.\n",
      "RP3betaRecommender: URM Detected 247 ( 1.1%) users with no interactions.\n",
      "RP3betaRecommender: URM Detected 627 ( 4.8%) items with no interactions.\n",
      "P3alphaRecommender: Similarity column 22347 (100.0%), 2909.72 column/sec. Elapsed time 7.68 sec\n",
      "RP3betaRecommender: Similarity column 13024 (100.0%), 1020.22 column/sec. Elapsed time 12.77 sec\n",
      "EvaluatorHoldout: Processed 10456 (100.0%) in 1.05 min. Users per second: 166\n"
     ]
    },
    {
     "name": "stderr",
     "output_type": "stream",
     "text": [
      "[I 2023-12-24 18:22:08,320] Trial 30 finished with value: 0.04697658214012542 and parameters: {'base_f_algorithm': 'p3alpha', 'base_b_algorithm': 'rp3beta', 'convex_lambda': 0.07621878473494459, 'f_p3a_alpha': 0.02805096079468379, 'f_p3a_topK': 50, 'b_rp3_alpha': 2.258419207136494e-05, 'b_rp3_beta': 1.9361920908103406e-05, 'b_rp3_topK': 328}. Best is trial 30 with value: 0.04697658214012542.\n"
     ]
    },
    {
     "name": "stdout",
     "output_type": "stream",
     "text": [
      "TwoWayRankAggregationRecommender: URM Detected 627 ( 4.8%) users with no interactions.\n",
      "TwoWayRankAggregationRecommender: URM Detected 247 ( 1.1%) items with no interactions.\n",
      "P3alphaRecommender: URM Detected 627 ( 4.8%) users with no interactions.\n",
      "P3alphaRecommender: URM Detected 247 ( 1.1%) items with no interactions.\n",
      "RP3betaRecommender: URM Detected 247 ( 1.1%) users with no interactions.\n",
      "RP3betaRecommender: URM Detected 627 ( 4.8%) items with no interactions.\n",
      "P3alphaRecommender: Similarity column 22347 (100.0%), 3062.36 column/sec. Elapsed time 7.30 sec\n",
      "RP3betaRecommender: Similarity column 13024 (100.0%), 962.32 column/sec. Elapsed time 13.53 sec\n",
      "EvaluatorHoldout: Processed 10456 (100.0%) in 1.00 min. Users per second: 174\n"
     ]
    },
    {
     "name": "stderr",
     "output_type": "stream",
     "text": [
      "[I 2023-12-24 18:23:37,092] Trial 31 finished with value: 0.0471829609489812 and parameters: {'base_f_algorithm': 'p3alpha', 'base_b_algorithm': 'rp3beta', 'convex_lambda': 0.0829081295069643, 'f_p3a_alpha': 0.034745534952301184, 'f_p3a_topK': 47, 'b_rp3_alpha': 1.2610398722296761e-05, 'b_rp3_beta': 1.1121986663129888e-05, 'b_rp3_topK': 370}. Best is trial 31 with value: 0.0471829609489812.\n"
     ]
    },
    {
     "name": "stdout",
     "output_type": "stream",
     "text": [
      "TwoWayRankAggregationRecommender: URM Detected 627 ( 4.8%) users with no interactions.\n",
      "TwoWayRankAggregationRecommender: URM Detected 247 ( 1.1%) items with no interactions.\n",
      "P3alphaRecommender: URM Detected 627 ( 4.8%) users with no interactions.\n",
      "P3alphaRecommender: URM Detected 247 ( 1.1%) items with no interactions.\n",
      "RP3betaRecommender: URM Detected 247 ( 1.1%) users with no interactions.\n",
      "RP3betaRecommender: URM Detected 627 ( 4.8%) items with no interactions.\n",
      "P3alphaRecommender: Similarity column 22347 (100.0%), 2769.57 column/sec. Elapsed time 8.07 sec\n",
      "RP3betaRecommender: Similarity column 13024 (100.0%), 1011.35 column/sec. Elapsed time 12.88 sec\n",
      "EvaluatorHoldout: Processed 10456 (100.0%) in 1.02 min. Users per second: 172\n"
     ]
    },
    {
     "name": "stderr",
     "output_type": "stream",
     "text": [
      "[I 2023-12-24 18:25:06,444] Trial 32 finished with value: 0.04687766802079231 and parameters: {'base_f_algorithm': 'p3alpha', 'base_b_algorithm': 'rp3beta', 'convex_lambda': 0.06889444243131557, 'f_p3a_alpha': 0.034668033489594005, 'f_p3a_topK': 57, 'b_rp3_alpha': 3.104605513302773e-05, 'b_rp3_beta': 1.0701861260873185e-05, 'b_rp3_topK': 348}. Best is trial 31 with value: 0.0471829609489812.\n"
     ]
    },
    {
     "name": "stdout",
     "output_type": "stream",
     "text": [
      "TwoWayRankAggregationRecommender: URM Detected 627 ( 4.8%) users with no interactions.\n",
      "TwoWayRankAggregationRecommender: URM Detected 247 ( 1.1%) items with no interactions.\n",
      "P3alphaRecommender: URM Detected 627 ( 4.8%) users with no interactions.\n",
      "P3alphaRecommender: URM Detected 247 ( 1.1%) items with no interactions.\n",
      "RP3betaRecommender: URM Detected 247 ( 1.1%) users with no interactions.\n",
      "RP3betaRecommender: URM Detected 627 ( 4.8%) items with no interactions.\n",
      "P3alphaRecommender: Similarity column 22347 (100.0%), 2661.83 column/sec. Elapsed time 8.40 sec\n",
      "RP3betaRecommender: Similarity column 13024 (100.0%), 1005.10 column/sec. Elapsed time 12.96 sec\n",
      "EvaluatorHoldout: Processed 10456 (100.0%) in 1.02 min. Users per second: 171\n"
     ]
    },
    {
     "name": "stderr",
     "output_type": "stream",
     "text": [
      "[I 2023-12-24 18:26:36,920] Trial 33 finished with value: 0.046760320648280396 and parameters: {'base_f_algorithm': 'p3alpha', 'base_b_algorithm': 'rp3beta', 'convex_lambda': 0.07798086266575575, 'f_p3a_alpha': 0.04016436268066158, 'f_p3a_topK': 60, 'b_rp3_alpha': 1.0933642380781337e-05, 'b_rp3_beta': 1.2082778371088262e-05, 'b_rp3_topK': 351}. Best is trial 31 with value: 0.0471829609489812.\n"
     ]
    },
    {
     "name": "stdout",
     "output_type": "stream",
     "text": [
      "TwoWayRankAggregationRecommender: URM Detected 627 ( 4.8%) users with no interactions.\n",
      "TwoWayRankAggregationRecommender: URM Detected 247 ( 1.1%) items with no interactions.\n",
      "P3alphaRecommender: URM Detected 627 ( 4.8%) users with no interactions.\n",
      "P3alphaRecommender: URM Detected 247 ( 1.1%) items with no interactions.\n",
      "RP3betaRecommender: URM Detected 247 ( 1.1%) users with no interactions.\n",
      "RP3betaRecommender: URM Detected 627 ( 4.8%) items with no interactions.\n",
      "P3alphaRecommender: Similarity column 22347 (100.0%), 2064.96 column/sec. Elapsed time 10.82 sec\n",
      "RP3betaRecommender: Similarity column 13024 (100.0%), 1026.71 column/sec. Elapsed time 12.69 sec\n",
      "EvaluatorHoldout: Processed 10456 (100.0%) in 59.76 sec. Users per second: 175\n"
     ]
    },
    {
     "name": "stderr",
     "output_type": "stream",
     "text": [
      "[I 2023-12-24 18:28:09,102] Trial 34 finished with value: 0.04571548120013182 and parameters: {'base_f_algorithm': 'p3alpha', 'base_b_algorithm': 'rp3beta', 'convex_lambda': 0.07317046440165384, 'f_p3a_alpha': 0.06734054863508628, 'f_p3a_topK': 109, 'b_rp3_alpha': 1.0331372655995402e-05, 'b_rp3_beta': 1.1008199950540271e-05, 'b_rp3_topK': 330}. Best is trial 31 with value: 0.0471829609489812.\n"
     ]
    },
    {
     "name": "stdout",
     "output_type": "stream",
     "text": [
      "TwoWayRankAggregationRecommender: URM Detected 627 ( 4.8%) users with no interactions.\n",
      "TwoWayRankAggregationRecommender: URM Detected 247 ( 1.1%) items with no interactions.\n",
      "P3alphaRecommender: URM Detected 627 ( 4.8%) users with no interactions.\n",
      "P3alphaRecommender: URM Detected 247 ( 1.1%) items with no interactions.\n",
      "RP3betaRecommender: URM Detected 247 ( 1.1%) users with no interactions.\n",
      "RP3betaRecommender: URM Detected 627 ( 4.8%) items with no interactions.\n",
      "P3alphaRecommender: Similarity column 22347 (100.0%), 3162.85 column/sec. Elapsed time 7.07 sec\n",
      "RP3betaRecommender: Similarity column 13024 (100.0%), 1089.34 column/sec. Elapsed time 11.96 sec\n",
      "EvaluatorHoldout: Processed 10456 (100.0%) in 59.70 sec. Users per second: 175\n"
     ]
    },
    {
     "name": "stderr",
     "output_type": "stream",
     "text": [
      "[I 2023-12-24 18:29:34,626] Trial 35 finished with value: 0.04068718803512278 and parameters: {'base_f_algorithm': 'p3', 'base_b_algorithm': 'rp3beta', 'convex_lambda': 0.07029423717626515, 'f_p3_topK': 41, 'b_rp3_alpha': 1.0265091093017333e-05, 'b_rp3_beta': 1.1012448581068454e-05, 'b_rp3_topK': 303}. Best is trial 31 with value: 0.0471829609489812.\n"
     ]
    },
    {
     "name": "stdout",
     "output_type": "stream",
     "text": [
      "TwoWayRankAggregationRecommender: URM Detected 627 ( 4.8%) users with no interactions.\n",
      "TwoWayRankAggregationRecommender: URM Detected 247 ( 1.1%) items with no interactions.\n",
      "HHPRecommender: URM Detected 627 ( 4.8%) users with no interactions.\n",
      "HHPRecommender: URM Detected 247 ( 1.1%) items with no interactions.\n",
      "RP3betaRecommender: URM Detected 247 ( 1.1%) users with no interactions.\n",
      "RP3betaRecommender: URM Detected 627 ( 4.8%) items with no interactions.\n",
      "HHPRecommender: Similarity column 22347 (100.0%), 1050.12 column/sec. Elapsed time 21.28 sec\n",
      "RP3betaRecommender: Similarity column 13024 (100.0%), 1069.11 column/sec. Elapsed time 12.18 sec\n",
      "EvaluatorHoldout: Processed 10456 (100.0%) in 1.02 min. Users per second: 171\n"
     ]
    },
    {
     "name": "stderr",
     "output_type": "stream",
     "text": [
      "[I 2023-12-24 18:31:27,254] Trial 36 finished with value: 0.014733243463159339 and parameters: {'base_f_algorithm': 'hhp', 'base_b_algorithm': 'rp3beta', 'convex_lambda': 0.13709495583420545, 'f_hhp_hybrid_lambda': 0.30951751616842393, 'f_hhp_topK': 275, 'b_rp3_alpha': 1.2127492752988107e-05, 'b_rp3_beta': 1.2317523889582781e-05, 'b_rp3_topK': 299}. Best is trial 31 with value: 0.0471829609489812.\n"
     ]
    },
    {
     "name": "stdout",
     "output_type": "stream",
     "text": [
      "TwoWayRankAggregationRecommender: URM Detected 627 ( 4.8%) users with no interactions.\n",
      "TwoWayRankAggregationRecommender: URM Detected 247 ( 1.1%) items with no interactions.\n",
      "P3alphaRecommender: URM Detected 627 ( 4.8%) users with no interactions.\n",
      "P3alphaRecommender: URM Detected 247 ( 1.1%) items with no interactions.\n",
      "RP3betaRecommender: URM Detected 247 ( 1.1%) users with no interactions.\n",
      "RP3betaRecommender: URM Detected 627 ( 4.8%) items with no interactions.\n",
      "P3alphaRecommender: Similarity column 22347 (100.0%), 2625.48 column/sec. Elapsed time 8.51 sec\n",
      "RP3betaRecommender: Similarity column 13024 (100.0%), 1044.39 column/sec. Elapsed time 12.47 sec\n",
      "EvaluatorHoldout: Processed 10456 (100.0%) in 1.00 min. Users per second: 174\n"
     ]
    },
    {
     "name": "stderr",
     "output_type": "stream",
     "text": [
      "[I 2023-12-24 18:32:55,520] Trial 37 finished with value: 0.046692918017756185 and parameters: {'base_f_algorithm': 'p3alpha', 'base_b_algorithm': 'rp3beta', 'convex_lambda': 0.03872988310714524, 'f_p3a_alpha': 0.050898412306119196, 'f_p3a_topK': 65, 'b_rp3_alpha': 7.338973651116206e-05, 'b_rp3_beta': 1.2766903982310255e-05, 'b_rp3_topK': 319}. Best is trial 31 with value: 0.0471829609489812.\n"
     ]
    },
    {
     "name": "stdout",
     "output_type": "stream",
     "text": [
      "TwoWayRankAggregationRecommender: URM Detected 627 ( 4.8%) users with no interactions.\n",
      "TwoWayRankAggregationRecommender: URM Detected 247 ( 1.1%) items with no interactions.\n",
      "P3alphaRecommender: URM Detected 627 ( 4.8%) users with no interactions.\n",
      "P3alphaRecommender: URM Detected 247 ( 1.1%) items with no interactions.\n",
      "RP3betaRecommender: URM Detected 247 ( 1.1%) users with no interactions.\n",
      "RP3betaRecommender: URM Detected 627 ( 4.8%) items with no interactions.\n",
      "P3alphaRecommender: Similarity column 22347 (100.0%), 1774.82 column/sec. Elapsed time 12.59 sec\n",
      "RP3betaRecommender: Similarity column 13024 (100.0%), 705.87 column/sec. Elapsed time 18.45 sec\n",
      "EvaluatorHoldout: Processed 10456 (100.0%) in 1.17 min. Users per second: 149\n"
     ]
    },
    {
     "name": "stderr",
     "output_type": "stream",
     "text": [
      "[I 2023-12-24 18:34:50,666] Trial 38 finished with value: 0.044877699900414694 and parameters: {'base_f_algorithm': 'p3alpha', 'base_b_algorithm': 'rp3beta', 'convex_lambda': 0.1576292149905047, 'f_p3a_alpha': 0.01601147870319766, 'f_p3a_topK': 145, 'b_rp3_alpha': 0.00017546140916541042, 'b_rp3_beta': 0.0001824208210400545, 'b_rp3_topK': 587}. Best is trial 31 with value: 0.0471829609489812.\n"
     ]
    },
    {
     "name": "stdout",
     "output_type": "stream",
     "text": [
      "TwoWayRankAggregationRecommender: URM Detected 627 ( 4.8%) users with no interactions.\n",
      "TwoWayRankAggregationRecommender: URM Detected 247 ( 1.1%) items with no interactions.\n",
      "P3alphaRecommender: URM Detected 627 ( 4.8%) users with no interactions.\n",
      "P3alphaRecommender: URM Detected 247 ( 1.1%) items with no interactions.\n",
      "RP3betaRecommender: URM Detected 247 ( 1.1%) users with no interactions.\n",
      "RP3betaRecommender: URM Detected 627 ( 4.8%) items with no interactions.\n",
      "P3alphaRecommender: Similarity column 22347 (100.0%), 2661.91 column/sec. Elapsed time 8.40 sec\n",
      "RP3betaRecommender: Similarity column 13024 (100.0%), 1861.87 column/sec. Elapsed time 7.00 sec\n",
      "EvaluatorHoldout: Processed 10456 (100.0%) in 52.82 sec. Users per second: 198\n"
     ]
    },
    {
     "name": "stderr",
     "output_type": "stream",
     "text": [
      "[I 2023-12-24 18:36:03,107] Trial 39 finished with value: 0.047063939896285524 and parameters: {'base_f_algorithm': 'p3alpha', 'base_b_algorithm': 'rp3beta', 'convex_lambda': 0.0740610919032886, 'f_p3a_alpha': 0.17744996714571912, 'f_p3a_topK': 63, 'b_rp3_alpha': 0.00019548952913679184, 'b_rp3_beta': 0.00017099573377236317, 'b_rp3_topK': 114}. Best is trial 31 with value: 0.0471829609489812.\n"
     ]
    },
    {
     "name": "stdout",
     "output_type": "stream",
     "text": [
      "TwoWayRankAggregationRecommender: URM Detected 627 ( 4.8%) users with no interactions.\n",
      "TwoWayRankAggregationRecommender: URM Detected 247 ( 1.1%) items with no interactions.\n",
      "RP3betaRecommender: URM Detected 627 ( 4.8%) users with no interactions.\n",
      "RP3betaRecommender: URM Detected 247 ( 1.1%) items with no interactions.\n",
      "RP3betaRecommender: URM Detected 247 ( 1.1%) users with no interactions.\n",
      "RP3betaRecommender: URM Detected 627 ( 4.8%) items with no interactions.\n",
      "RP3betaRecommender: Similarity column 22347 (100.0%), 3941.26 column/sec. Elapsed time 5.67 sec\n",
      "RP3betaRecommender: Similarity column 13024 (100.0%), 2083.10 column/sec. Elapsed time 6.25 sec\n",
      "EvaluatorHoldout: Processed 10456 (100.0%) in 50.93 sec. Users per second: 205\n"
     ]
    },
    {
     "name": "stderr",
     "output_type": "stream",
     "text": [
      "[I 2023-12-24 18:37:08,346] Trial 40 finished with value: 0.023369034715390917 and parameters: {'base_f_algorithm': 'rp3beta', 'base_b_algorithm': 'rp3beta', 'convex_lambda': 0.015251642175893698, 'f_rp3_alpha': 45.59757783894987, 'f_rp3_beta': 48.615105617886734, 'f_rp3_topK': 5, 'b_rp3_alpha': 0.00043098579522577753, 'b_rp3_beta': 0.0001976218300305474, 'b_rp3_topK': 87}. Best is trial 31 with value: 0.0471829609489812.\n"
     ]
    },
    {
     "name": "stdout",
     "output_type": "stream",
     "text": [
      "TwoWayRankAggregationRecommender: URM Detected 627 ( 4.8%) users with no interactions.\n",
      "TwoWayRankAggregationRecommender: URM Detected 247 ( 1.1%) items with no interactions.\n",
      "P3alphaRecommender: URM Detected 627 ( 4.8%) users with no interactions.\n",
      "P3alphaRecommender: URM Detected 247 ( 1.1%) items with no interactions.\n",
      "RP3betaRecommender: URM Detected 247 ( 1.1%) users with no interactions.\n",
      "RP3betaRecommender: URM Detected 627 ( 4.8%) items with no interactions.\n",
      "P3alphaRecommender: Similarity column 22347 (100.0%), 2749.01 column/sec. Elapsed time 8.13 sec\n",
      "RP3betaRecommender: Similarity column 13024 (100.0%), 1805.79 column/sec. Elapsed time 7.21 sec\n",
      "EvaluatorHoldout: Processed 10456 (100.0%) in 53.73 sec. Users per second: 195\n"
     ]
    },
    {
     "name": "stderr",
     "output_type": "stream",
     "text": [
      "[I 2023-12-24 18:38:21,699] Trial 41 finished with value: 0.047193530561932075 and parameters: {'base_f_algorithm': 'p3alpha', 'base_b_algorithm': 'rp3beta', 'convex_lambda': 0.07928533223955683, 'f_p3a_alpha': 0.16285951701913226, 'f_p3a_topK': 59, 'b_rp3_alpha': 1.0113128102648077e-05, 'b_rp3_beta': 6.77198295929171e-05, 'b_rp3_topK': 120}. Best is trial 41 with value: 0.047193530561932075.\n"
     ]
    },
    {
     "name": "stdout",
     "output_type": "stream",
     "text": [
      "TwoWayRankAggregationRecommender: URM Detected 627 ( 4.8%) users with no interactions.\n",
      "TwoWayRankAggregationRecommender: URM Detected 247 ( 1.1%) items with no interactions.\n",
      "P3alphaRecommender: URM Detected 627 ( 4.8%) users with no interactions.\n",
      "P3alphaRecommender: URM Detected 247 ( 1.1%) items with no interactions.\n",
      "RP3betaRecommender: URM Detected 247 ( 1.1%) users with no interactions.\n",
      "RP3betaRecommender: URM Detected 627 ( 4.8%) items with no interactions.\n",
      "P3alphaRecommender: Similarity column 22347 (100.0%), 2920.60 column/sec. Elapsed time 7.65 sec\n",
      "RP3betaRecommender: Similarity column 13024 (100.0%), 2022.44 column/sec. Elapsed time 6.44 sec\n",
      "EvaluatorHoldout: Processed 10456 (100.0%) in 52.40 sec. Users per second: 200\n"
     ]
    },
    {
     "name": "stderr",
     "output_type": "stream",
     "text": [
      "[I 2023-12-24 18:39:31,847] Trial 42 finished with value: 0.04759304295551486 and parameters: {'base_f_algorithm': 'p3alpha', 'base_b_algorithm': 'rp3beta', 'convex_lambda': 0.12154614257124319, 'f_p3a_alpha': 0.21941804853260358, 'f_p3a_topK': 53, 'b_rp3_alpha': 7.683082064471747e-05, 'b_rp3_beta': 9.260251322813019e-05, 'b_rp3_topK': 96}. Best is trial 42 with value: 0.04759304295551486.\n"
     ]
    },
    {
     "name": "stdout",
     "output_type": "stream",
     "text": [
      "TwoWayRankAggregationRecommender: URM Detected 627 ( 4.8%) users with no interactions.\n",
      "TwoWayRankAggregationRecommender: URM Detected 247 ( 1.1%) items with no interactions.\n",
      "P3alphaRecommender: URM Detected 627 ( 4.8%) users with no interactions.\n",
      "P3alphaRecommender: URM Detected 247 ( 1.1%) items with no interactions.\n",
      "RP3betaRecommender: URM Detected 247 ( 1.1%) users with no interactions.\n",
      "RP3betaRecommender: URM Detected 627 ( 4.8%) items with no interactions.\n",
      "P3alphaRecommender: Similarity column 22347 (100.0%), 2045.37 column/sec. Elapsed time 10.93 sec\n",
      "RP3betaRecommender: Similarity column 13024 (100.0%), 1968.99 column/sec. Elapsed time 6.61 sec\n",
      "EvaluatorHoldout: Processed 10456 (100.0%) in 53.11 sec. Users per second: 197\n"
     ]
    },
    {
     "name": "stderr",
     "output_type": "stream",
     "text": [
      "[I 2023-12-24 18:40:47,720] Trial 43 finished with value: 0.045862620838950784 and parameters: {'base_f_algorithm': 'p3alpha', 'base_b_algorithm': 'rp3beta', 'convex_lambda': 0.14142023540963314, 'f_p3a_alpha': 0.19205755697973106, 'f_p3a_topK': 111, 'b_rp3_alpha': 0.0001350269239476997, 'b_rp3_beta': 0.0001326105011975672, 'b_rp3_topK': 103}. Best is trial 42 with value: 0.04759304295551486.\n"
     ]
    },
    {
     "name": "stdout",
     "output_type": "stream",
     "text": [
      "TwoWayRankAggregationRecommender: URM Detected 627 ( 4.8%) users with no interactions.\n",
      "TwoWayRankAggregationRecommender: URM Detected 247 ( 1.1%) items with no interactions.\n",
      "HHPRecommender: URM Detected 627 ( 4.8%) users with no interactions.\n",
      "HHPRecommender: URM Detected 247 ( 1.1%) items with no interactions.\n",
      "P3alphaRecommender: URM Detected 247 ( 1.1%) users with no interactions.\n",
      "P3alphaRecommender: URM Detected 627 ( 4.8%) items with no interactions.\n",
      "HHPRecommender: Similarity column 22347 (100.0%), 2990.48 column/sec. Elapsed time 7.47 sec\n",
      "P3alphaRecommender: Similarity column 13024 (100.0%), 1704.47 column/sec. Elapsed time 7.64 sec\n",
      "EvaluatorHoldout: Processed 10456 (100.0%) in 1.02 min. Users per second: 170\n"
     ]
    },
    {
     "name": "stderr",
     "output_type": "stream",
     "text": [
      "[I 2023-12-24 18:42:10,429] Trial 44 finished with value: 0.026286680541892912 and parameters: {'base_f_algorithm': 'hhp', 'base_b_algorithm': 'p3alpha', 'convex_lambda': 0.10971416301303695, 'f_hhp_hybrid_lambda': 0.9680356900031486, 'f_hhp_topK': 6, 'b_p3a_alpha': 14.661003324572896, 'b_p3a_topK': 1941}. Best is trial 42 with value: 0.04759304295551486.\n"
     ]
    },
    {
     "name": "stdout",
     "output_type": "stream",
     "text": [
      "TwoWayRankAggregationRecommender: URM Detected 627 ( 4.8%) users with no interactions.\n",
      "TwoWayRankAggregationRecommender: URM Detected 247 ( 1.1%) items with no interactions.\n",
      "P3alphaRecommender: URM Detected 627 ( 4.8%) users with no interactions.\n",
      "P3alphaRecommender: URM Detected 247 ( 1.1%) items with no interactions.\n",
      "RP3betaRecommender: URM Detected 247 ( 1.1%) users with no interactions.\n",
      "RP3betaRecommender: URM Detected 627 ( 4.8%) items with no interactions.\n",
      "P3alphaRecommender: Similarity column 22347 (100.0%), 3139.25 column/sec. Elapsed time 7.12 sec\n",
      "RP3betaRecommender: Similarity column 13024 (100.0%), 1995.35 column/sec. Elapsed time 6.53 sec\n",
      "EvaluatorHoldout: Processed 10456 (100.0%) in 52.54 sec. Users per second: 199\n"
     ]
    },
    {
     "name": "stderr",
     "output_type": "stream",
     "text": [
      "[I 2023-12-24 18:43:20,040] Trial 45 finished with value: 0.04763941642073884 and parameters: {'base_f_algorithm': 'p3alpha', 'base_b_algorithm': 'rp3beta', 'convex_lambda': 0.1668776442249459, 'f_p3a_alpha': 0.29898208628240774, 'f_p3a_topK': 41, 'b_rp3_alpha': 9.33191268427354e-05, 'b_rp3_beta': 0.00014632378885297303, 'b_rp3_topK': 94}. Best is trial 45 with value: 0.04763941642073884.\n"
     ]
    },
    {
     "name": "stdout",
     "output_type": "stream",
     "text": [
      "TwoWayRankAggregationRecommender: URM Detected 627 ( 4.8%) users with no interactions.\n",
      "TwoWayRankAggregationRecommender: URM Detected 247 ( 1.1%) items with no interactions.\n",
      "P3alphaRecommender: URM Detected 627 ( 4.8%) users with no interactions.\n",
      "P3alphaRecommender: URM Detected 247 ( 1.1%) items with no interactions.\n",
      "RP3betaRecommender: URM Detected 247 ( 1.1%) users with no interactions.\n",
      "RP3betaRecommender: URM Detected 627 ( 4.8%) items with no interactions.\n",
      "P3alphaRecommender: Similarity column 22347 (100.0%), 3187.25 column/sec. Elapsed time 7.01 sec\n",
      "RP3betaRecommender: Similarity column 13024 (100.0%), 2112.93 column/sec. Elapsed time 6.16 sec\n",
      "EvaluatorHoldout: Processed 10456 (100.0%) in 52.14 sec. Users per second: 201\n"
     ]
    },
    {
     "name": "stderr",
     "output_type": "stream",
     "text": [
      "[I 2023-12-24 18:44:28,555] Trial 46 finished with value: 0.04780026429725233 and parameters: {'base_f_algorithm': 'p3alpha', 'base_b_algorithm': 'rp3beta', 'convex_lambda': 0.16815203202217036, 'f_p3a_alpha': 0.3119995948716741, 'f_p3a_topK': 38, 'b_rp3_alpha': 0.00015679242744683514, 'b_rp3_beta': 0.0007883427149145793, 'b_rp3_topK': 86}. Best is trial 46 with value: 0.04780026429725233.\n"
     ]
    },
    {
     "name": "stdout",
     "output_type": "stream",
     "text": [
      "TwoWayRankAggregationRecommender: URM Detected 627 ( 4.8%) users with no interactions.\n",
      "TwoWayRankAggregationRecommender: URM Detected 247 ( 1.1%) items with no interactions.\n",
      "P3alphaRecommender: URM Detected 627 ( 4.8%) users with no interactions.\n",
      "P3alphaRecommender: URM Detected 247 ( 1.1%) items with no interactions.\n",
      "RP3betaRecommender: URM Detected 247 ( 1.1%) users with no interactions.\n",
      "RP3betaRecommender: URM Detected 627 ( 4.8%) items with no interactions.\n",
      "P3alphaRecommender: Similarity column 22347 (100.0%), 1722.16 column/sec. Elapsed time 12.98 sec\n",
      "RP3betaRecommender: Similarity column 13024 (100.0%), 2408.58 column/sec. Elapsed time 5.41 sec\n",
      "EvaluatorHoldout: Processed 10456 (100.0%) in 51.16 sec. Users per second: 204\n"
     ]
    },
    {
     "name": "stderr",
     "output_type": "stream",
     "text": [
      "[I 2023-12-24 18:45:44,014] Trial 47 finished with value: 0.04099618127664286 and parameters: {'base_f_algorithm': 'p3', 'base_b_algorithm': 'rp3beta', 'convex_lambda': 0.16710865878130096, 'f_p3_topK': 153, 'b_rp3_alpha': 0.0012972342546129628, 'b_rp3_beta': 0.0013753073386961832, 'b_rp3_topK': 59}. Best is trial 46 with value: 0.04780026429725233.\n"
     ]
    },
    {
     "name": "stdout",
     "output_type": "stream",
     "text": [
      "TwoWayRankAggregationRecommender: URM Detected 627 ( 4.8%) users with no interactions.\n",
      "TwoWayRankAggregationRecommender: URM Detected 247 ( 1.1%) items with no interactions.\n",
      "RP3betaRecommender: URM Detected 627 ( 4.8%) users with no interactions.\n",
      "RP3betaRecommender: URM Detected 247 ( 1.1%) items with no interactions.\n",
      "RP3betaRecommender: URM Detected 247 ( 1.1%) users with no interactions.\n",
      "RP3betaRecommender: URM Detected 627 ( 4.8%) items with no interactions.\n",
      "RP3betaRecommender: Similarity column 22347 (100.0%), 427.68 column/sec. Elapsed time 52.25 sec\n",
      "RP3betaRecommender: Similarity column 13024 (100.0%), 2432.82 column/sec. Elapsed time 5.35 sec\n",
      "EvaluatorHoldout: Processed 10456 (100.0%) in 59.26 sec. Users per second: 176\n"
     ]
    },
    {
     "name": "stderr",
     "output_type": "stream",
     "text": [
      "[I 2023-12-24 18:48:21,554] Trial 48 finished with value: 0.008248761248952541 and parameters: {'base_f_algorithm': 'rp3beta', 'base_b_algorithm': 'rp3beta', 'convex_lambda': 0.17822595803101043, 'f_rp3_alpha': 0.5359406274922515, 'f_rp3_beta': 0.903999787829373, 'f_rp3_topK': 1797, 'b_rp3_alpha': 6.617814920580483e-05, 'b_rp3_beta': 0.0009387871744649662, 'b_rp3_topK': 65}. Best is trial 46 with value: 0.04780026429725233.\n"
     ]
    },
    {
     "name": "stdout",
     "output_type": "stream",
     "text": [
      "TwoWayRankAggregationRecommender: URM Detected 627 ( 4.8%) users with no interactions.\n",
      "TwoWayRankAggregationRecommender: URM Detected 247 ( 1.1%) items with no interactions.\n",
      "P3alphaRecommender: URM Detected 627 ( 4.8%) users with no interactions.\n",
      "P3alphaRecommender: URM Detected 247 ( 1.1%) items with no interactions.\n",
      "P3alphaRecommender: URM Detected 247 ( 1.1%) users with no interactions.\n",
      "P3alphaRecommender: URM Detected 627 ( 4.8%) items with no interactions.\n",
      "P3alphaRecommender: Similarity column 22347 (100.0%), 3275.29 column/sec. Elapsed time 6.82 sec\n",
      "P3alphaRecommender: Similarity column 13024 (100.0%), 5522.03 column/sec. Elapsed time 2.36 sec\n",
      "EvaluatorHoldout: Processed 10456 (100.0%) in 28.30 sec. Users per second: 369\n"
     ]
    },
    {
     "name": "stderr",
     "output_type": "stream",
     "text": [
      "[I 2023-12-24 18:49:00,968] Trial 49 finished with value: 0.044488483865875464 and parameters: {'base_f_algorithm': 'p3alpha', 'base_b_algorithm': 'p3alpha', 'convex_lambda': 0.1377105595248449, 'f_p3a_alpha': 0.8136609731697326, 'f_p3a_topK': 36, 'b_p3a_alpha': 75.20728273983102, 'b_p3a_topK': 335}. Best is trial 46 with value: 0.04780026429725233.\n"
     ]
    },
    {
     "name": "stdout",
     "output_type": "stream",
     "text": [
      "TwoWayRankAggregationRecommender: URM Detected 627 ( 4.8%) users with no interactions.\n",
      "TwoWayRankAggregationRecommender: URM Detected 247 ( 1.1%) items with no interactions.\n",
      "P3alphaRecommender: URM Detected 627 ( 4.8%) users with no interactions.\n",
      "P3alphaRecommender: URM Detected 247 ( 1.1%) items with no interactions.\n",
      "RP3betaRecommender: URM Detected 247 ( 1.1%) users with no interactions.\n",
      "RP3betaRecommender: URM Detected 627 ( 4.8%) items with no interactions.\n",
      "P3alphaRecommender: Similarity column 22347 (100.0%), 1728.30 column/sec. Elapsed time 12.93 sec\n",
      "RP3betaRecommender: Similarity column 13024 (100.0%), 1664.31 column/sec. Elapsed time 7.83 sec\n",
      "EvaluatorHoldout: Processed 10456 (100.0%) in 54.69 sec. Users per second: 191\n"
     ]
    },
    {
     "name": "stderr",
     "output_type": "stream",
     "text": [
      "[I 2023-12-24 18:50:23,516] Trial 50 finished with value: 0.04561208875286977 and parameters: {'base_f_algorithm': 'p3alpha', 'base_b_algorithm': 'rp3beta', 'convex_lambda': 0.19002339166295062, 'f_p3a_alpha': 0.537099587116307, 'f_p3a_topK': 154, 'b_rp3_alpha': 7.981749152792626e-05, 'b_rp3_beta': 7.531242752749182e-05, 'b_rp3_topK': 144}. Best is trial 46 with value: 0.04780026429725233.\n"
     ]
    },
    {
     "name": "stdout",
     "output_type": "stream",
     "text": [
      "TwoWayRankAggregationRecommender: URM Detected 627 ( 4.8%) users with no interactions.\n",
      "TwoWayRankAggregationRecommender: URM Detected 247 ( 1.1%) items with no interactions.\n",
      "P3alphaRecommender: URM Detected 627 ( 4.8%) users with no interactions.\n",
      "P3alphaRecommender: URM Detected 247 ( 1.1%) items with no interactions.\n",
      "RP3betaRecommender: URM Detected 247 ( 1.1%) users with no interactions.\n",
      "RP3betaRecommender: URM Detected 627 ( 4.8%) items with no interactions.\n",
      "P3alphaRecommender: Similarity column 22347 (100.0%), 2433.56 column/sec. Elapsed time 9.18 sec\n",
      "RP3betaRecommender: Similarity column 13024 (100.0%), 1618.15 column/sec. Elapsed time 8.05 sec\n",
      "EvaluatorHoldout: Processed 10456 (100.0%) in 54.12 sec. Users per second: 193\n"
     ]
    },
    {
     "name": "stderr",
     "output_type": "stream",
     "text": [
      "[I 2023-12-24 18:51:39,738] Trial 51 finished with value: 0.046891641922007794 and parameters: {'base_f_algorithm': 'p3alpha', 'base_b_algorithm': 'rp3beta', 'convex_lambda': 0.04496956589806094, 'f_p3a_alpha': 0.15220514098168744, 'f_p3a_topK': 74, 'b_rp3_alpha': 0.00018354636722679412, 'b_rp3_beta': 6.98226504968414e-05, 'b_rp3_topK': 147}. Best is trial 46 with value: 0.04780026429725233.\n"
     ]
    },
    {
     "name": "stdout",
     "output_type": "stream",
     "text": [
      "TwoWayRankAggregationRecommender: URM Detected 627 ( 4.8%) users with no interactions.\n",
      "TwoWayRankAggregationRecommender: URM Detected 247 ( 1.1%) items with no interactions.\n",
      "P3alphaRecommender: URM Detected 627 ( 4.8%) users with no interactions.\n",
      "P3alphaRecommender: URM Detected 247 ( 1.1%) items with no interactions.\n",
      "RP3betaRecommender: URM Detected 247 ( 1.1%) users with no interactions.\n",
      "RP3betaRecommender: URM Detected 627 ( 4.8%) items with no interactions.\n",
      "P3alphaRecommender: Similarity column 22347 (100.0%), 3195.15 column/sec. Elapsed time 6.99 sec\n",
      "RP3betaRecommender: Similarity column 13024 (100.0%), 2461.36 column/sec. Elapsed time 5.29 sec\n",
      "EvaluatorHoldout: Processed 10456 (100.0%) in 50.57 sec. Users per second: 207\n"
     ]
    },
    {
     "name": "stderr",
     "output_type": "stream",
     "text": [
      "[I 2023-12-24 18:52:45,327] Trial 52 finished with value: 0.04767627913190331 and parameters: {'base_f_algorithm': 'p3alpha', 'base_b_algorithm': 'rp3beta', 'convex_lambda': 0.10744559804632728, 'f_p3a_alpha': 0.31194093717941096, 'f_p3a_topK': 41, 'b_rp3_alpha': 4.734782733311465e-05, 'b_rp3_beta': 0.0007400972757265921, 'b_rp3_topK': 55}. Best is trial 46 with value: 0.04780026429725233.\n"
     ]
    },
    {
     "name": "stdout",
     "output_type": "stream",
     "text": [
      "TwoWayRankAggregationRecommender: URM Detected 627 ( 4.8%) users with no interactions.\n",
      "TwoWayRankAggregationRecommender: URM Detected 247 ( 1.1%) items with no interactions.\n",
      "P3alphaRecommender: URM Detected 627 ( 4.8%) users with no interactions.\n",
      "P3alphaRecommender: URM Detected 247 ( 1.1%) items with no interactions.\n",
      "RP3betaRecommender: URM Detected 247 ( 1.1%) users with no interactions.\n",
      "RP3betaRecommender: URM Detected 627 ( 4.8%) items with no interactions.\n",
      "P3alphaRecommender: Similarity column 22347 (100.0%), 3184.57 column/sec. Elapsed time 7.02 sec\n",
      "RP3betaRecommender: Similarity column 13024 (100.0%), 2646.67 column/sec. Elapsed time 4.92 sec\n",
      "EvaluatorHoldout: Processed 10456 (100.0%) in 50.15 sec. Users per second: 208\n"
     ]
    },
    {
     "name": "stderr",
     "output_type": "stream",
     "text": [
      "[I 2023-12-24 18:53:50,235] Trial 53 finished with value: 0.015258972595669211 and parameters: {'base_f_algorithm': 'p3alpha', 'base_b_algorithm': 'rp3beta', 'convex_lambda': 0.11309461318255455, 'f_p3a_alpha': 2.01565483257806, 'f_p3a_topK': 39, 'b_rp3_alpha': 4.8661505290449856e-05, 'b_rp3_beta': 0.0012207794843290855, 'b_rp3_topK': 51}. Best is trial 46 with value: 0.04780026429725233.\n"
     ]
    },
    {
     "name": "stdout",
     "output_type": "stream",
     "text": [
      "TwoWayRankAggregationRecommender: URM Detected 627 ( 4.8%) users with no interactions.\n",
      "TwoWayRankAggregationRecommender: URM Detected 247 ( 1.1%) items with no interactions.\n",
      "P3alphaRecommender: URM Detected 627 ( 4.8%) users with no interactions.\n",
      "P3alphaRecommender: URM Detected 247 ( 1.1%) items with no interactions.\n",
      "RP3betaRecommender: URM Detected 247 ( 1.1%) users with no interactions.\n",
      "RP3betaRecommender: URM Detected 627 ( 4.8%) items with no interactions.\n",
      "P3alphaRecommender: Similarity column 22347 (100.0%), 3273.57 column/sec. Elapsed time 6.83 sec\n",
      "RP3betaRecommender: Similarity column 13024 (100.0%), 2559.14 column/sec. Elapsed time 5.09 sec\n",
      "EvaluatorHoldout: Processed 10456 (100.0%) in 49.69 sec. Users per second: 210\n"
     ]
    },
    {
     "name": "stderr",
     "output_type": "stream",
     "text": [
      "[I 2023-12-24 18:54:54,382] Trial 54 finished with value: 0.04783760899794815 and parameters: {'base_f_algorithm': 'p3alpha', 'base_b_algorithm': 'rp3beta', 'convex_lambda': 0.012806333916289964, 'f_p3a_alpha': 0.48217477380337354, 'f_p3a_topK': 36, 'b_rp3_alpha': 3.4649807720727806e-05, 'b_rp3_beta': 6.296201363041045e-05, 'b_rp3_topK': 51}. Best is trial 54 with value: 0.04783760899794815.\n"
     ]
    },
    {
     "name": "stdout",
     "output_type": "stream",
     "text": [
      "TwoWayRankAggregationRecommender: URM Detected 627 ( 4.8%) users with no interactions.\n",
      "TwoWayRankAggregationRecommender: URM Detected 247 ( 1.1%) items with no interactions.\n",
      "HHPRecommender: URM Detected 627 ( 4.8%) users with no interactions.\n",
      "HHPRecommender: URM Detected 247 ( 1.1%) items with no interactions.\n",
      "RP3betaRecommender: URM Detected 247 ( 1.1%) users with no interactions.\n",
      "RP3betaRecommender: URM Detected 627 ( 4.8%) items with no interactions.\n",
      "HHPRecommender: Similarity column 22347 (100.0%), 1516.42 column/sec. Elapsed time 14.74 sec\n",
      "RP3betaRecommender: Similarity column 13024 (100.0%), 2992.77 column/sec. Elapsed time 4.35 sec\n",
      "EvaluatorHoldout: Processed 10456 (100.0%) in 49.84 sec. Users per second: 210\n"
     ]
    },
    {
     "name": "stderr",
     "output_type": "stream",
     "text": [
      "[I 2023-12-24 18:56:11,028] Trial 55 finished with value: 0.03169977593179608 and parameters: {'base_f_algorithm': 'hhp', 'base_b_algorithm': 'rp3beta', 'convex_lambda': 0.017939182257360502, 'f_hhp_hybrid_lambda': 0.5011082337249774, 'f_hhp_topK': 134, 'b_rp3_alpha': 5.227640860342165e-05, 'b_rp3_beta': 0.0005311174359751636, 'b_rp3_topK': 33}. Best is trial 54 with value: 0.04783760899794815.\n"
     ]
    },
    {
     "name": "stdout",
     "output_type": "stream",
     "text": [
      "TwoWayRankAggregationRecommender: URM Detected 627 ( 4.8%) users with no interactions.\n",
      "TwoWayRankAggregationRecommender: URM Detected 247 ( 1.1%) items with no interactions.\n",
      "P3alphaRecommender: URM Detected 627 ( 4.8%) users with no interactions.\n",
      "P3alphaRecommender: URM Detected 247 ( 1.1%) items with no interactions.\n",
      "RP3betaRecommender: URM Detected 247 ( 1.1%) users with no interactions.\n",
      "RP3betaRecommender: URM Detected 627 ( 4.8%) items with no interactions.\n",
      "P3alphaRecommender: Similarity column 22347 (100.0%), 3708.82 column/sec. Elapsed time 6.03 sec\n",
      "RP3betaRecommender: Similarity column 13024 (100.0%), 2616.85 column/sec. Elapsed time 4.98 sec\n",
      "EvaluatorHoldout: Processed 10456 (100.0%) in 49.06 sec. Users per second: 213\n"
     ]
    },
    {
     "name": "stderr",
     "output_type": "stream",
     "text": [
      "[I 2023-12-24 18:57:13,158] Trial 56 finished with value: 0.04585456743906504 and parameters: {'base_f_algorithm': 'p3alpha', 'base_b_algorithm': 'rp3beta', 'convex_lambda': 0.11718695339147867, 'f_p3a_alpha': 0.45621325921585293, 'f_p3a_topK': 17, 'b_rp3_alpha': 4.53171519961708e-05, 'b_rp3_beta': 6.18147043900186e-05, 'b_rp3_topK': 44}. Best is trial 54 with value: 0.04783760899794815.\n"
     ]
    },
    {
     "name": "stdout",
     "output_type": "stream",
     "text": [
      "TwoWayRankAggregationRecommender: URM Detected 627 ( 4.8%) users with no interactions.\n",
      "TwoWayRankAggregationRecommender: URM Detected 247 ( 1.1%) items with no interactions.\n",
      "P3alphaRecommender: URM Detected 627 ( 4.8%) users with no interactions.\n",
      "P3alphaRecommender: URM Detected 247 ( 1.1%) items with no interactions.\n",
      "RP3betaRecommender: URM Detected 247 ( 1.1%) users with no interactions.\n",
      "RP3betaRecommender: URM Detected 627 ( 4.8%) items with no interactions.\n",
      "P3alphaRecommender: Similarity column 22347 (100.0%), 4083.47 column/sec. Elapsed time 5.47 sec\n",
      "RP3betaRecommender: Similarity column 13024 (100.0%), 2169.20 column/sec. Elapsed time 6.00 sec\n",
      "EvaluatorHoldout: Processed 10456 (100.0%) in 51.23 sec. Users per second: 204\n"
     ]
    },
    {
     "name": "stderr",
     "output_type": "stream",
     "text": [
      "[I 2023-12-24 18:58:18,311] Trial 57 finished with value: 0.024019344858575934 and parameters: {'base_f_algorithm': 'p3', 'base_b_algorithm': 'rp3beta', 'convex_lambda': 0.14952460997603592, 'f_p3_topK': 5, 'b_rp3_alpha': 0.0006413576116757238, 'b_rp3_beta': 0.0005070352334846422, 'b_rp3_topK': 81}. Best is trial 54 with value: 0.04783760899794815.\n"
     ]
    },
    {
     "name": "stdout",
     "output_type": "stream",
     "text": [
      "TwoWayRankAggregationRecommender: URM Detected 627 ( 4.8%) users with no interactions.\n",
      "TwoWayRankAggregationRecommender: URM Detected 247 ( 1.1%) items with no interactions.\n",
      "P3alphaRecommender: URM Detected 627 ( 4.8%) users with no interactions.\n",
      "P3alphaRecommender: URM Detected 247 ( 1.1%) items with no interactions.\n",
      "HHPRecommender: URM Detected 247 ( 1.1%) users with no interactions.\n",
      "HHPRecommender: URM Detected 627 ( 4.8%) items with no interactions.\n",
      "P3alphaRecommender: Similarity column 22347 (100.0%), 3416.12 column/sec. Elapsed time 6.54 sec\n",
      "HHPRecommender: Similarity column 13024 (100.0%), 3221.65 column/sec. Elapsed time 4.04 sec\n",
      "EvaluatorHoldout: Processed 10456 (100.0%) in 43.63 sec. Users per second: 240\n"
     ]
    },
    {
     "name": "stderr",
     "output_type": "stream",
     "text": [
      "[I 2023-12-24 18:59:14,497] Trial 58 finished with value: 0.008975654594916237 and parameters: {'base_f_algorithm': 'p3alpha', 'base_b_algorithm': 'hhp', 'convex_lambda': 0.048393466885288575, 'f_p3a_alpha': 2.799440843876027, 'f_p3a_topK': 31, 'b_hhp_hybrid_lambda': 0.1534898528019918, 'b_hhp_topK': 5}. Best is trial 54 with value: 0.04783760899794815.\n"
     ]
    },
    {
     "name": "stdout",
     "output_type": "stream",
     "text": [
      "TwoWayRankAggregationRecommender: URM Detected 627 ( 4.8%) users with no interactions.\n",
      "TwoWayRankAggregationRecommender: URM Detected 247 ( 1.1%) items with no interactions.\n",
      "RP3betaRecommender: URM Detected 627 ( 4.8%) users with no interactions.\n",
      "RP3betaRecommender: URM Detected 247 ( 1.1%) items with no interactions.\n",
      "P3alphaRecommender: URM Detected 247 ( 1.1%) users with no interactions.\n",
      "P3alphaRecommender: URM Detected 627 ( 4.8%) items with no interactions.\n",
      "RP3betaRecommender: Similarity column 22347 (100.0%), 4013.68 column/sec. Elapsed time 5.57 sec\n",
      "P3alphaRecommender: Similarity column 13024 (100.0%), 4148.97 column/sec. Elapsed time 3.14 sec\n",
      "EvaluatorHoldout: Processed 10456 (100.0%) in 39.90 sec. Users per second: 262\n"
     ]
    },
    {
     "name": "stderr",
     "output_type": "stream",
     "text": [
      "[I 2023-12-24 19:00:04,297] Trial 59 finished with value: 0.003961547861939995 and parameters: {'base_f_algorithm': 'rp3beta', 'base_b_algorithm': 'p3alpha', 'convex_lambda': 0.1997518685704256, 'f_rp3_alpha': 47.43717220331627, 'f_rp3_beta': 1.4013192371380215e-05, 'f_rp3_topK': 375, 'b_p3a_alpha': 1.5320273610849366, 'b_p3a_topK': 5}. Best is trial 54 with value: 0.04783760899794815.\n"
     ]
    },
    {
     "name": "stdout",
     "output_type": "stream",
     "text": [
      "TwoWayRankAggregationRecommender: URM Detected 627 ( 4.8%) users with no interactions.\n",
      "TwoWayRankAggregationRecommender: URM Detected 247 ( 1.1%) items with no interactions.\n",
      "P3alphaRecommender: URM Detected 627 ( 4.8%) users with no interactions.\n",
      "P3alphaRecommender: URM Detected 247 ( 1.1%) items with no interactions.\n",
      "RP3betaRecommender: URM Detected 247 ( 1.1%) users with no interactions.\n",
      "RP3betaRecommender: URM Detected 627 ( 4.8%) items with no interactions.\n",
      "P3alphaRecommender: Similarity column 22347 (100.0%), 3645.46 column/sec. Elapsed time 6.13 sec\n",
      "RP3betaRecommender: Similarity column 13024 (100.0%), 2705.75 column/sec. Elapsed time 4.81 sec\n",
      "EvaluatorHoldout: Processed 10456 (100.0%) in 49.70 sec. Users per second: 210\n"
     ]
    },
    {
     "name": "stderr",
     "output_type": "stream",
     "text": [
      "[I 2023-12-24 19:01:07,119] Trial 60 finished with value: 0.04664144381292496 and parameters: {'base_f_algorithm': 'p3alpha', 'base_b_algorithm': 'rp3beta', 'convex_lambda': 0.10463371863843902, 'f_p3a_alpha': 0.3715041762472978, 'f_p3a_topK': 19, 'b_rp3_alpha': 3.8425404174764504e-05, 'b_rp3_beta': 6.077184654876345e-05, 'b_rp3_topK': 42}. Best is trial 54 with value: 0.04783760899794815.\n"
     ]
    },
    {
     "name": "stdout",
     "output_type": "stream",
     "text": [
      "TwoWayRankAggregationRecommender: URM Detected 627 ( 4.8%) users with no interactions.\n",
      "TwoWayRankAggregationRecommender: URM Detected 247 ( 1.1%) items with no interactions.\n",
      "P3alphaRecommender: URM Detected 627 ( 4.8%) users with no interactions.\n",
      "P3alphaRecommender: URM Detected 247 ( 1.1%) items with no interactions.\n",
      "RP3betaRecommender: URM Detected 247 ( 1.1%) users with no interactions.\n",
      "RP3betaRecommender: URM Detected 627 ( 4.8%) items with no interactions.\n",
      "P3alphaRecommender: Similarity column 22347 (100.0%), 3142.17 column/sec. Elapsed time 7.11 sec\n",
      "RP3betaRecommender: Similarity column 13024 (100.0%), 2191.05 column/sec. Elapsed time 5.94 sec\n",
      "EvaluatorHoldout: Processed 10456 (100.0%) in 51.75 sec. Users per second: 202\n"
     ]
    },
    {
     "name": "stderr",
     "output_type": "stream",
     "text": [
      "[I 2023-12-24 19:02:15,025] Trial 61 finished with value: 0.04755344011488881 and parameters: {'base_f_algorithm': 'p3alpha', 'base_b_algorithm': 'rp3beta', 'convex_lambda': 0.041573883050500304, 'f_p3a_alpha': 0.16451904734220513, 'f_p3a_topK': 41, 'b_rp3_alpha': 2.6269056399050546e-05, 'b_rp3_beta': 5.230171301067381e-05, 'b_rp3_topK': 77}. Best is trial 54 with value: 0.04783760899794815.\n"
     ]
    },
    {
     "name": "stdout",
     "output_type": "stream",
     "text": [
      "TwoWayRankAggregationRecommender: URM Detected 627 ( 4.8%) users with no interactions.\n",
      "TwoWayRankAggregationRecommender: URM Detected 247 ( 1.1%) items with no interactions.\n",
      "P3alphaRecommender: URM Detected 627 ( 4.8%) users with no interactions.\n",
      "P3alphaRecommender: URM Detected 247 ( 1.1%) items with no interactions.\n",
      "RP3betaRecommender: URM Detected 247 ( 1.1%) users with no interactions.\n",
      "RP3betaRecommender: URM Detected 627 ( 4.8%) items with no interactions.\n",
      "P3alphaRecommender: Similarity column 22347 (100.0%), 3347.20 column/sec. Elapsed time 6.68 sec\n",
      "RP3betaRecommender: Similarity column 13024 (100.0%), 2209.52 column/sec. Elapsed time 5.89 sec\n",
      "EvaluatorHoldout: Processed 10456 (100.0%) in 51.70 sec. Users per second: 202\n"
     ]
    },
    {
     "name": "stderr",
     "output_type": "stream",
     "text": [
      "[I 2023-12-24 19:03:22,269] Trial 62 finished with value: 0.035008186231646796 and parameters: {'base_f_algorithm': 'p3alpha', 'base_b_algorithm': 'rp3beta', 'convex_lambda': 0.011192446965307079, 'f_p3a_alpha': 1.179355955016609, 'f_p3a_topK': 33, 'b_rp3_alpha': 3.322932910850335e-05, 'b_rp3_beta': 7.091469135857886e-05, 'b_rp3_topK': 71}. Best is trial 54 with value: 0.04783760899794815.\n"
     ]
    },
    {
     "name": "stdout",
     "output_type": "stream",
     "text": [
      "TwoWayRankAggregationRecommender: URM Detected 627 ( 4.8%) users with no interactions.\n",
      "TwoWayRankAggregationRecommender: URM Detected 247 ( 1.1%) items with no interactions.\n",
      "P3alphaRecommender: URM Detected 627 ( 4.8%) users with no interactions.\n",
      "P3alphaRecommender: URM Detected 247 ( 1.1%) items with no interactions.\n",
      "RP3betaRecommender: URM Detected 247 ( 1.1%) users with no interactions.\n",
      "RP3betaRecommender: URM Detected 627 ( 4.8%) items with no interactions.\n",
      "P3alphaRecommender: Similarity column 22347 (100.0%), 3213.00 column/sec. Elapsed time 6.96 sec\n",
      "RP3betaRecommender: Similarity column 13024 (100.0%), 1736.28 column/sec. Elapsed time 7.50 sec\n",
      "EvaluatorHoldout: Processed 10456 (100.0%) in 53.18 sec. Users per second: 197\n"
     ]
    },
    {
     "name": "stderr",
     "output_type": "stream",
     "text": [
      "[I 2023-12-24 19:04:33,655] Trial 63 finished with value: 0.047539101875129816 and parameters: {'base_f_algorithm': 'p3alpha', 'base_b_algorithm': 'rp3beta', 'convex_lambda': 0.041160215413222956, 'f_p3a_alpha': 0.12881324677937755, 'f_p3a_topK': 37, 'b_rp3_alpha': 0.00019319728498010583, 'b_rp3_beta': 4.679134780921599e-05, 'b_rp3_topK': 132}. Best is trial 54 with value: 0.04783760899794815.\n"
     ]
    },
    {
     "name": "stdout",
     "output_type": "stream",
     "text": [
      "TwoWayRankAggregationRecommender: URM Detected 627 ( 4.8%) users with no interactions.\n",
      "TwoWayRankAggregationRecommender: URM Detected 247 ( 1.1%) items with no interactions.\n",
      "P3alphaRecommender: URM Detected 627 ( 4.8%) users with no interactions.\n",
      "P3alphaRecommender: URM Detected 247 ( 1.1%) items with no interactions.\n",
      "RP3betaRecommender: URM Detected 247 ( 1.1%) users with no interactions.\n",
      "RP3betaRecommender: URM Detected 627 ( 4.8%) items with no interactions.\n",
      "P3alphaRecommender: Similarity column 22347 (100.0%), 3205.04 column/sec. Elapsed time 6.97 sec\n",
      "RP3betaRecommender: Similarity column 13024 (100.0%), 2287.21 column/sec. Elapsed time 5.69 sec\n",
      "EvaluatorHoldout: Processed 10456 (100.0%) in 51.15 sec. Users per second: 204\n"
     ]
    },
    {
     "name": "stderr",
     "output_type": "stream",
     "text": [
      "[I 2023-12-24 19:05:40,472] Trial 64 finished with value: 0.047677178592682196 and parameters: {'base_f_algorithm': 'p3alpha', 'base_b_algorithm': 'rp3beta', 'convex_lambda': 0.04214589652309669, 'f_p3a_alpha': 0.41164885127611656, 'f_p3a_topK': 41, 'b_rp3_alpha': 0.0003381881463956842, 'b_rp3_beta': 0.0003333879994157532, 'b_rp3_topK': 71}. Best is trial 54 with value: 0.04783760899794815.\n"
     ]
    },
    {
     "name": "stdout",
     "output_type": "stream",
     "text": [
      "TwoWayRankAggregationRecommender: URM Detected 627 ( 4.8%) users with no interactions.\n",
      "TwoWayRankAggregationRecommender: URM Detected 247 ( 1.1%) items with no interactions.\n",
      "P3alphaRecommender: URM Detected 627 ( 4.8%) users with no interactions.\n",
      "P3alphaRecommender: URM Detected 247 ( 1.1%) items with no interactions.\n",
      "RP3betaRecommender: URM Detected 247 ( 1.1%) users with no interactions.\n",
      "RP3betaRecommender: URM Detected 627 ( 4.8%) items with no interactions.\n",
      "P3alphaRecommender: Similarity column 22347 (100.0%), 3530.65 column/sec. Elapsed time 6.33 sec\n",
      "RP3betaRecommender: Similarity column 13024 (100.0%), 2259.44 column/sec. Elapsed time 5.76 sec\n",
      "EvaluatorHoldout: Processed 10456 (100.0%) in 51.30 sec. Users per second: 204\n"
     ]
    },
    {
     "name": "stderr",
     "output_type": "stream",
     "text": [
      "[I 2023-12-24 19:06:46,489] Trial 65 finished with value: 0.04770068601911633 and parameters: {'base_f_algorithm': 'p3alpha', 'base_b_algorithm': 'rp3beta', 'convex_lambda': 0.15685379261095483, 'f_p3a_alpha': 0.39177081059990965, 'f_p3a_topK': 26, 'b_rp3_alpha': 0.00039539652411085645, 'b_rp3_beta': 0.0002536624444457504, 'b_rp3_topK': 72}. Best is trial 54 with value: 0.04783760899794815.\n"
     ]
    },
    {
     "name": "stdout",
     "output_type": "stream",
     "text": [
      "TwoWayRankAggregationRecommender: URM Detected 627 ( 4.8%) users with no interactions.\n",
      "TwoWayRankAggregationRecommender: URM Detected 247 ( 1.1%) items with no interactions.\n",
      "P3alphaRecommender: URM Detected 627 ( 4.8%) users with no interactions.\n",
      "P3alphaRecommender: URM Detected 247 ( 1.1%) items with no interactions.\n",
      "HHPRecommender: URM Detected 247 ( 1.1%) users with no interactions.\n",
      "HHPRecommender: URM Detected 627 ( 4.8%) items with no interactions.\n",
      "P3alphaRecommender: Similarity column 22347 (100.0%), 3496.74 column/sec. Elapsed time 6.39 sec\n",
      "HHPRecommender: Similarity column 13024 (100.0%), 2710.26 column/sec. Elapsed time 4.81 sec\n",
      "EvaluatorHoldout: Processed 10456 (100.0%) in 52.95 sec. Users per second: 197\n"
     ]
    },
    {
     "name": "stderr",
     "output_type": "stream",
     "text": [
      "[I 2023-12-24 19:07:53,206] Trial 66 finished with value: 0.019599147903231705 and parameters: {'base_f_algorithm': 'p3alpha', 'base_b_algorithm': 'hhp', 'convex_lambda': 0.16696294200965459, 'f_p3a_alpha': 1.751969020300078, 'f_p3a_topK': 25, 'b_hhp_hybrid_lambda': 0.28894419403303845, 'b_hhp_topK': 31}. Best is trial 54 with value: 0.04783760899794815.\n"
     ]
    },
    {
     "name": "stdout",
     "output_type": "stream",
     "text": [
      "TwoWayRankAggregationRecommender: URM Detected 627 ( 4.8%) users with no interactions.\n",
      "TwoWayRankAggregationRecommender: URM Detected 247 ( 1.1%) items with no interactions.\n",
      "P3alphaRecommender: URM Detected 627 ( 4.8%) users with no interactions.\n",
      "P3alphaRecommender: URM Detected 247 ( 1.1%) items with no interactions.\n",
      "RP3betaRecommender: URM Detected 247 ( 1.1%) users with no interactions.\n",
      "RP3betaRecommender: URM Detected 627 ( 4.8%) items with no interactions.\n",
      "P3alphaRecommender: Similarity column 22347 (100.0%), 2297.14 column/sec. Elapsed time 9.73 sec\n",
      "RP3betaRecommender: Similarity column 13024 (100.0%), 2991.48 column/sec. Elapsed time 4.35 sec\n",
      "EvaluatorHoldout: Processed 10456 (100.0%) in 45.71 sec. Users per second: 229\n"
     ]
    },
    {
     "name": "stderr",
     "output_type": "stream",
     "text": [
      "[I 2023-12-24 19:08:56,599] Trial 67 finished with value: 0.007758186990685051 and parameters: {'base_f_algorithm': 'p3alpha', 'base_b_algorithm': 'rp3beta', 'convex_lambda': 0.24283549497980667, 'f_p3a_alpha': 4.148045465093663, 'f_p3a_topK': 83, 'b_rp3_alpha': 0.0016515706292169617, 'b_rp3_beta': 0.0003366880129810905, 'b_rp3_topK': 22}. Best is trial 54 with value: 0.04783760899794815.\n"
     ]
    },
    {
     "name": "stdout",
     "output_type": "stream",
     "text": [
      "TwoWayRankAggregationRecommender: URM Detected 627 ( 4.8%) users with no interactions.\n",
      "TwoWayRankAggregationRecommender: URM Detected 247 ( 1.1%) items with no interactions.\n",
      "P3alphaRecommender: URM Detected 627 ( 4.8%) users with no interactions.\n",
      "P3alphaRecommender: URM Detected 247 ( 1.1%) items with no interactions.\n",
      "RP3betaRecommender: URM Detected 247 ( 1.1%) users with no interactions.\n",
      "RP3betaRecommender: URM Detected 627 ( 4.8%) items with no interactions.\n",
      "P3alphaRecommender: Similarity column 22347 (100.0%), 3422.86 column/sec. Elapsed time 6.53 sec\n",
      "RP3betaRecommender: Similarity column 13024 (100.0%), 2963.66 column/sec. Elapsed time 4.39 sec\n",
      "EvaluatorHoldout: Processed 10456 (100.0%) in 47.76 sec. Users per second: 219\n"
     ]
    },
    {
     "name": "stderr",
     "output_type": "stream",
     "text": [
      "[I 2023-12-24 19:09:57,438] Trial 68 finished with value: 0.045094177718269894 and parameters: {'base_f_algorithm': 'p3alpha', 'base_b_algorithm': 'rp3beta', 'convex_lambda': 0.2819451753077922, 'f_p3a_alpha': 0.7320869847102525, 'f_p3a_topK': 28, 'b_rp3_alpha': 0.00044365562048083673, 'b_rp3_beta': 0.0026671268722156275, 'b_rp3_topK': 31}. Best is trial 54 with value: 0.04783760899794815.\n"
     ]
    },
    {
     "name": "stdout",
     "output_type": "stream",
     "text": [
      "TwoWayRankAggregationRecommender: URM Detected 627 ( 4.8%) users with no interactions.\n",
      "TwoWayRankAggregationRecommender: URM Detected 247 ( 1.1%) items with no interactions.\n",
      "P3alphaRecommender: URM Detected 627 ( 4.8%) users with no interactions.\n",
      "P3alphaRecommender: URM Detected 247 ( 1.1%) items with no interactions.\n",
      "RP3betaRecommender: URM Detected 247 ( 1.1%) users with no interactions.\n",
      "RP3betaRecommender: URM Detected 627 ( 4.8%) items with no interactions.\n",
      "P3alphaRecommender: Similarity column 22347 (100.0%), 3722.90 column/sec. Elapsed time 6.00 sec\n",
      "RP3betaRecommender: Similarity column 13024 (100.0%), 2505.90 column/sec. Elapsed time 5.20 sec\n",
      "EvaluatorHoldout: Processed 10456 (100.0%) in 49.49 sec. Users per second: 211\n"
     ]
    },
    {
     "name": "stderr",
     "output_type": "stream",
     "text": [
      "[I 2023-12-24 19:11:00,266] Trial 69 finished with value: 0.04591985994219217 and parameters: {'base_f_algorithm': 'p3alpha', 'base_b_algorithm': 'rp3beta', 'convex_lambda': 0.19668487272536553, 'f_p3a_alpha': 0.430258487810988, 'f_p3a_topK': 17, 'b_rp3_alpha': 0.0017435651040087266, 'b_rp3_beta': 0.0034965519776428396, 'b_rp3_topK': 50}. Best is trial 54 with value: 0.04783760899794815.\n"
     ]
    },
    {
     "name": "stdout",
     "output_type": "stream",
     "text": [
      "TwoWayRankAggregationRecommender: URM Detected 627 ( 4.8%) users with no interactions.\n",
      "TwoWayRankAggregationRecommender: URM Detected 247 ( 1.1%) items with no interactions.\n",
      "HHPRecommender: URM Detected 627 ( 4.8%) users with no interactions.\n",
      "HHPRecommender: URM Detected 247 ( 1.1%) items with no interactions.\n",
      "RP3betaRecommender: URM Detected 247 ( 1.1%) users with no interactions.\n",
      "RP3betaRecommender: URM Detected 627 ( 4.8%) items with no interactions.\n",
      "HHPRecommender: Similarity column 22347 (100.0%), 2411.45 column/sec. Elapsed time 9.27 sec\n",
      "RP3betaRecommender: Similarity column 13024 (100.0%), 2373.64 column/sec. Elapsed time 5.49 sec\n",
      "EvaluatorHoldout: Processed 10456 (100.0%) in 50.94 sec. Users per second: 205\n"
     ]
    },
    {
     "name": "stderr",
     "output_type": "stream",
     "text": [
      "[I 2023-12-24 19:12:09,625] Trial 70 finished with value: 0.002938117098407853 and parameters: {'base_f_algorithm': 'hhp', 'base_b_algorithm': 'rp3beta', 'convex_lambda': 0.09954371943112372, 'f_hhp_hybrid_lambda': 0.0420425918377475, 'f_hhp_topK': 43, 'b_rp3_alpha': 0.00042625334635734973, 'b_rp3_beta': 0.00031959018775550675, 'b_rp3_topK': 62}. Best is trial 54 with value: 0.04783760899794815.\n"
     ]
    },
    {
     "name": "stdout",
     "output_type": "stream",
     "text": [
      "TwoWayRankAggregationRecommender: URM Detected 627 ( 4.8%) users with no interactions.\n",
      "TwoWayRankAggregationRecommender: URM Detected 247 ( 1.1%) items with no interactions.\n",
      "P3alphaRecommender: URM Detected 627 ( 4.8%) users with no interactions.\n",
      "P3alphaRecommender: URM Detected 247 ( 1.1%) items with no interactions.\n",
      "RP3betaRecommender: URM Detected 247 ( 1.1%) users with no interactions.\n",
      "RP3betaRecommender: URM Detected 627 ( 4.8%) items with no interactions.\n",
      "P3alphaRecommender: Similarity column 22347 (100.0%), 3035.64 column/sec. Elapsed time 7.36 sec\n",
      "RP3betaRecommender: Similarity column 13024 (100.0%), 2181.01 column/sec. Elapsed time 5.97 sec\n",
      "EvaluatorHoldout: Processed 10456 (100.0%) in 51.64 sec. Users per second: 202\n"
     ]
    },
    {
     "name": "stderr",
     "output_type": "stream",
     "text": [
      "[I 2023-12-24 19:13:17,772] Trial 71 finished with value: 0.04769377497237163 and parameters: {'base_f_algorithm': 'p3alpha', 'base_b_algorithm': 'rp3beta', 'convex_lambda': 0.13433040070087965, 'f_p3a_alpha': 0.292245295895222, 'f_p3a_topK': 45, 'b_rp3_alpha': 0.00011286066164048779, 'b_rp3_beta': 0.0003550111322538852, 'b_rp3_topK': 77}. Best is trial 54 with value: 0.04783760899794815.\n"
     ]
    },
    {
     "name": "stdout",
     "output_type": "stream",
     "text": [
      "TwoWayRankAggregationRecommender: URM Detected 627 ( 4.8%) users with no interactions.\n",
      "TwoWayRankAggregationRecommender: URM Detected 247 ( 1.1%) items with no interactions.\n",
      "P3alphaRecommender: URM Detected 627 ( 4.8%) users with no interactions.\n",
      "P3alphaRecommender: URM Detected 247 ( 1.1%) items with no interactions.\n",
      "RP3betaRecommender: URM Detected 247 ( 1.1%) users with no interactions.\n",
      "RP3betaRecommender: URM Detected 627 ( 4.8%) items with no interactions.\n",
      "P3alphaRecommender: Similarity column 22347 (100.0%), 3128.70 column/sec. Elapsed time 7.14 sec\n",
      "RP3betaRecommender: Similarity column 13024 (100.0%), 2061.61 column/sec. Elapsed time 6.32 sec\n",
      "EvaluatorHoldout: Processed 10456 (100.0%) in 52.47 sec. Users per second: 199\n"
     ]
    },
    {
     "name": "stderr",
     "output_type": "stream",
     "text": [
      "[I 2023-12-24 19:14:27,279] Trial 72 finished with value: 0.040926103034940604 and parameters: {'base_f_algorithm': 'p3alpha', 'base_b_algorithm': 'rp3beta', 'convex_lambda': 0.13389457967541535, 'f_p3a_alpha': 0.9901994208127738, 'f_p3a_topK': 46, 'b_rp3_alpha': 0.0001237318117097322, 'b_rp3_beta': 0.00048320116276228374, 'b_rp3_topK': 92}. Best is trial 54 with value: 0.04783760899794815.\n"
     ]
    },
    {
     "name": "stdout",
     "output_type": "stream",
     "text": [
      "TwoWayRankAggregationRecommender: URM Detected 627 ( 4.8%) users with no interactions.\n",
      "TwoWayRankAggregationRecommender: URM Detected 247 ( 1.1%) items with no interactions.\n",
      "P3alphaRecommender: URM Detected 627 ( 4.8%) users with no interactions.\n",
      "P3alphaRecommender: URM Detected 247 ( 1.1%) items with no interactions.\n",
      "RP3betaRecommender: URM Detected 247 ( 1.1%) users with no interactions.\n",
      "RP3betaRecommender: URM Detected 627 ( 4.8%) items with no interactions.\n",
      "P3alphaRecommender: Similarity column 22347 (100.0%), 3411.72 column/sec. Elapsed time 6.55 sec\n",
      "RP3betaRecommender: Similarity column 13024 (100.0%), 2699.73 column/sec. Elapsed time 4.82 sec\n",
      "EvaluatorHoldout: Processed 10456 (100.0%) in 48.74 sec. Users per second: 215\n"
     ]
    },
    {
     "name": "stderr",
     "output_type": "stream",
     "text": [
      "[I 2023-12-24 19:15:29,580] Trial 73 finished with value: 0.0478453436016085 and parameters: {'base_f_algorithm': 'p3alpha', 'base_b_algorithm': 'rp3beta', 'convex_lambda': 0.22108246995084363, 'f_p3a_alpha': 0.3203965322729633, 'f_p3a_topK': 29, 'b_rp3_alpha': 0.0002804452201061046, 'b_rp3_beta': 0.000188313495201157, 'b_rp3_topK': 40}. Best is trial 73 with value: 0.0478453436016085.\n"
     ]
    },
    {
     "name": "stdout",
     "output_type": "stream",
     "text": [
      "TwoWayRankAggregationRecommender: URM Detected 627 ( 4.8%) users with no interactions.\n",
      "TwoWayRankAggregationRecommender: URM Detected 247 ( 1.1%) items with no interactions.\n",
      "P3alphaRecommender: URM Detected 627 ( 4.8%) users with no interactions.\n",
      "P3alphaRecommender: URM Detected 247 ( 1.1%) items with no interactions.\n",
      "RP3betaRecommender: URM Detected 247 ( 1.1%) users with no interactions.\n",
      "RP3betaRecommender: URM Detected 627 ( 4.8%) items with no interactions.\n",
      "P3alphaRecommender: Similarity column 22347 (100.0%), 3505.31 column/sec. Elapsed time 6.38 sec\n",
      "RP3betaRecommender: Similarity column 13024 (100.0%), 2626.20 column/sec. Elapsed time 4.96 sec\n",
      "EvaluatorHoldout: Processed 10456 (100.0%) in 49.73 sec. Users per second: 210\n"
     ]
    },
    {
     "name": "stderr",
     "output_type": "stream",
     "text": [
      "[I 2023-12-24 19:16:32,878] Trial 74 finished with value: 0.04785989816737771 and parameters: {'base_f_algorithm': 'p3alpha', 'base_b_algorithm': 'rp3beta', 'convex_lambda': 0.21044112662941344, 'f_p3a_alpha': 0.345466617947407, 'f_p3a_topK': 28, 'b_rp3_alpha': 0.0002874541139991352, 'b_rp3_beta': 0.00028392905675346926, 'b_rp3_topK': 43}. Best is trial 74 with value: 0.04785989816737771.\n"
     ]
    },
    {
     "name": "stdout",
     "output_type": "stream",
     "text": [
      "TwoWayRankAggregationRecommender: URM Detected 627 ( 4.8%) users with no interactions.\n",
      "TwoWayRankAggregationRecommender: URM Detected 247 ( 1.1%) items with no interactions.\n",
      "P3alphaRecommender: URM Detected 627 ( 4.8%) users with no interactions.\n",
      "P3alphaRecommender: URM Detected 247 ( 1.1%) items with no interactions.\n",
      "RP3betaRecommender: URM Detected 247 ( 1.1%) users with no interactions.\n",
      "RP3betaRecommender: URM Detected 627 ( 4.8%) items with no interactions.\n",
      "P3alphaRecommender: Similarity column 22347 (100.0%), 3463.98 column/sec. Elapsed time 6.45 sec\n",
      "RP3betaRecommender: Similarity column 13024 (100.0%), 2615.43 column/sec. Elapsed time 4.98 sec\n",
      "EvaluatorHoldout: Processed 10456 (100.0%) in 48.64 sec. Users per second: 215\n"
     ]
    },
    {
     "name": "stderr",
     "output_type": "stream",
     "text": [
      "[I 2023-12-24 19:17:35,100] Trial 75 finished with value: 0.04668065954384894 and parameters: {'base_f_algorithm': 'p3alpha', 'base_b_algorithm': 'rp3beta', 'convex_lambda': 0.23017626966573446, 'f_p3a_alpha': 0.08989171489361188, 'f_p3a_topK': 27, 'b_rp3_alpha': 0.00573274351676921, 'b_rp3_beta': 0.0007841354954985945, 'b_rp3_topK': 41}. Best is trial 74 with value: 0.04785989816737771.\n"
     ]
    },
    {
     "name": "stdout",
     "output_type": "stream",
     "text": [
      "TwoWayRankAggregationRecommender: URM Detected 627 ( 4.8%) users with no interactions.\n",
      "TwoWayRankAggregationRecommender: URM Detected 247 ( 1.1%) items with no interactions.\n",
      "P3alphaRecommender: URM Detected 627 ( 4.8%) users with no interactions.\n",
      "P3alphaRecommender: URM Detected 247 ( 1.1%) items with no interactions.\n",
      "P3alphaRecommender: URM Detected 247 ( 1.1%) users with no interactions.\n",
      "P3alphaRecommender: URM Detected 627 ( 4.8%) items with no interactions.\n",
      "P3alphaRecommender: Similarity column 22347 (100.0%), 1511.44 column/sec. Elapsed time 14.79 sec\n",
      "P3alphaRecommender: Similarity column 13024 (100.0%), 1372.78 column/sec. Elapsed time 9.49 sec\n",
      "EvaluatorHoldout: Processed 10456 (100.0%) in 1.04 min. Users per second: 168\n"
     ]
    },
    {
     "name": "stderr",
     "output_type": "stream",
     "text": [
      "[I 2023-12-24 19:19:11,750] Trial 76 finished with value: 0.03629731846832115 and parameters: {'base_f_algorithm': 'p3', 'base_b_algorithm': 'p3alpha', 'convex_lambda': 0.28571925552620214, 'f_p3_topK': 198, 'b_p3a_alpha': 1.5075363323659252, 'b_p3a_topK': 249}. Best is trial 74 with value: 0.04785989816737771.\n"
     ]
    },
    {
     "name": "stdout",
     "output_type": "stream",
     "text": [
      "TwoWayRankAggregationRecommender: URM Detected 627 ( 4.8%) users with no interactions.\n",
      "TwoWayRankAggregationRecommender: URM Detected 247 ( 1.1%) items with no interactions.\n",
      "P3alphaRecommender: URM Detected 627 ( 4.8%) users with no interactions.\n",
      "P3alphaRecommender: URM Detected 247 ( 1.1%) items with no interactions.\n",
      "RP3betaRecommender: URM Detected 247 ( 1.1%) users with no interactions.\n",
      "RP3betaRecommender: URM Detected 627 ( 4.8%) items with no interactions.\n",
      "P3alphaRecommender: Similarity column 22347 (100.0%), 3617.99 column/sec. Elapsed time 6.18 sec\n",
      "RP3betaRecommender: Similarity column 13024 (100.0%), 2854.62 column/sec. Elapsed time 4.56 sec\n",
      "EvaluatorHoldout: Processed 10456 (100.0%) in 47.02 sec. Users per second: 222\n"
     ]
    },
    {
     "name": "stderr",
     "output_type": "stream",
     "text": [
      "[I 2023-12-24 19:20:11,416] Trial 77 finished with value: 0.04662751165883406 and parameters: {'base_f_algorithm': 'p3alpha', 'base_b_algorithm': 'rp3beta', 'convex_lambda': 0.190016528385326, 'f_p3a_alpha': 0.38695108139380147, 'f_p3a_topK': 20, 'b_rp3_alpha': 0.000327005040626492, 'b_rp3_beta': 0.00031464329763498076, 'b_rp3_topK': 29}. Best is trial 74 with value: 0.04785989816737771.\n"
     ]
    },
    {
     "name": "stdout",
     "output_type": "stream",
     "text": [
      "TwoWayRankAggregationRecommender: URM Detected 627 ( 4.8%) users with no interactions.\n",
      "TwoWayRankAggregationRecommender: URM Detected 247 ( 1.1%) items with no interactions.\n",
      "P3alphaRecommender: URM Detected 627 ( 4.8%) users with no interactions.\n",
      "P3alphaRecommender: URM Detected 247 ( 1.1%) items with no interactions.\n",
      "HHPRecommender: URM Detected 247 ( 1.1%) users with no interactions.\n",
      "HHPRecommender: URM Detected 627 ( 4.8%) items with no interactions.\n",
      "P3alphaRecommender: Similarity column 22347 (100.0%), 3829.84 column/sec. Elapsed time 5.83 sec\n",
      "HHPRecommender: Similarity column 13024 (100.0%), 2545.80 column/sec. Elapsed time 5.12 sec\n",
      "EvaluatorHoldout: Processed 10456 (100.0%) in 54.29 sec. Users per second: 193\n"
     ]
    },
    {
     "name": "stderr",
     "output_type": "stream",
     "text": [
      "[I 2023-12-24 19:21:19,141] Trial 78 finished with value: 0.03586836676139518 and parameters: {'base_f_algorithm': 'p3alpha', 'base_b_algorithm': 'hhp', 'convex_lambda': 0.22290807957117537, 'f_p3a_alpha': 0.9806500723436794, 'f_p3a_topK': 14, 'b_hhp_hybrid_lambda': 0.35228921118147527, 'b_hhp_topK': 45}. Best is trial 74 with value: 0.04785989816737771.\n"
     ]
    },
    {
     "name": "stdout",
     "output_type": "stream",
     "text": [
      "TwoWayRankAggregationRecommender: URM Detected 627 ( 4.8%) users with no interactions.\n",
      "TwoWayRankAggregationRecommender: URM Detected 247 ( 1.1%) items with no interactions.\n",
      "RP3betaRecommender: URM Detected 627 ( 4.8%) users with no interactions.\n",
      "RP3betaRecommender: URM Detected 247 ( 1.1%) items with no interactions.\n",
      "RP3betaRecommender: URM Detected 247 ( 1.1%) users with no interactions.\n",
      "RP3betaRecommender: URM Detected 627 ( 4.8%) items with no interactions.\n",
      "RP3betaRecommender: Similarity column 22347 (100.0%), 2865.67 column/sec. Elapsed time 7.80 sec\n",
      "RP3betaRecommender: Similarity column 13024 (100.0%), 3045.98 column/sec. Elapsed time 4.28 sec\n",
      "EvaluatorHoldout: Processed 10456 (100.0%) in 44.44 sec. Users per second: 235\n"
     ]
    },
    {
     "name": "stderr",
     "output_type": "stream",
     "text": [
      "[I 2023-12-24 19:22:17,448] Trial 79 finished with value: 0.03885556329774994 and parameters: {'base_f_algorithm': 'rp3beta', 'base_b_algorithm': 'rp3beta', 'convex_lambda': 0.09924593875606705, 'f_rp3_alpha': 0.00034577204434131436, 'f_rp3_beta': 0.58104505053762, 'f_rp3_topK': 15, 'b_rp3_alpha': 0.0008214780125682355, 'b_rp3_beta': 3.041967566039933e-05, 'b_rp3_topK': 19}. Best is trial 74 with value: 0.04785989816737771.\n"
     ]
    },
    {
     "name": "stdout",
     "output_type": "stream",
     "text": [
      "TwoWayRankAggregationRecommender: URM Detected 627 ( 4.8%) users with no interactions.\n",
      "TwoWayRankAggregationRecommender: URM Detected 247 ( 1.1%) items with no interactions.\n",
      "P3alphaRecommender: URM Detected 627 ( 4.8%) users with no interactions.\n",
      "P3alphaRecommender: URM Detected 247 ( 1.1%) items with no interactions.\n",
      "RP3betaRecommender: URM Detected 247 ( 1.1%) users with no interactions.\n",
      "RP3betaRecommender: URM Detected 627 ( 4.8%) items with no interactions.\n",
      "P3alphaRecommender: Similarity column 22347 (100.0%), 3581.98 column/sec. Elapsed time 6.24 sec\n",
      "RP3betaRecommender: Similarity column 13024 (100.0%), 2755.56 column/sec. Elapsed time 4.73 sec\n",
      "EvaluatorHoldout: Processed 10456 (100.0%) in 48.84 sec. Users per second: 214\n"
     ]
    },
    {
     "name": "stderr",
     "output_type": "stream",
     "text": [
      "[I 2023-12-24 19:23:19,380] Trial 80 finished with value: 0.04749229196269241 and parameters: {'base_f_algorithm': 'p3alpha', 'base_b_algorithm': 'rp3beta', 'convex_lambda': 0.143732950429787, 'f_p3a_alpha': 0.3151652052349615, 'f_p3a_topK': 25, 'b_rp3_alpha': 0.00028257890677636663, 'b_rp3_beta': 0.0025819425955506395, 'b_rp3_topK': 38}. Best is trial 74 with value: 0.04785989816737771.\n"
     ]
    },
    {
     "name": "stdout",
     "output_type": "stream",
     "text": [
      "TwoWayRankAggregationRecommender: URM Detected 627 ( 4.8%) users with no interactions.\n",
      "TwoWayRankAggregationRecommender: URM Detected 247 ( 1.1%) items with no interactions.\n",
      "P3alphaRecommender: URM Detected 627 ( 4.8%) users with no interactions.\n",
      "P3alphaRecommender: URM Detected 247 ( 1.1%) items with no interactions.\n",
      "RP3betaRecommender: URM Detected 247 ( 1.1%) users with no interactions.\n",
      "RP3betaRecommender: URM Detected 627 ( 4.8%) items with no interactions.\n",
      "P3alphaRecommender: Similarity column 22347 (100.0%), 3343.04 column/sec. Elapsed time 6.68 sec\n",
      "RP3betaRecommender: Similarity column 13024 (100.0%), 2458.64 column/sec. Elapsed time 5.30 sec\n",
      "EvaluatorHoldout: Processed 10456 (100.0%) in 50.80 sec. Users per second: 206\n"
     ]
    },
    {
     "name": "stderr",
     "output_type": "stream",
     "text": [
      "[I 2023-12-24 19:24:24,711] Trial 81 finished with value: 0.04780205562842406 and parameters: {'base_f_algorithm': 'p3alpha', 'base_b_algorithm': 'rp3beta', 'convex_lambda': 0.16449073115290938, 'f_p3a_alpha': 0.2793916340853292, 'f_p3a_topK': 32, 'b_rp3_alpha': 0.0001246835964262789, 'b_rp3_beta': 0.00023466467869112133, 'b_rp3_topK': 57}. Best is trial 74 with value: 0.04785989816737771.\n"
     ]
    },
    {
     "name": "stdout",
     "output_type": "stream",
     "text": [
      "TwoWayRankAggregationRecommender: URM Detected 627 ( 4.8%) users with no interactions.\n",
      "TwoWayRankAggregationRecommender: URM Detected 247 ( 1.1%) items with no interactions.\n",
      "P3alphaRecommender: URM Detected 627 ( 4.8%) users with no interactions.\n",
      "P3alphaRecommender: URM Detected 247 ( 1.1%) items with no interactions.\n",
      "RP3betaRecommender: URM Detected 247 ( 1.1%) users with no interactions.\n",
      "RP3betaRecommender: URM Detected 627 ( 4.8%) items with no interactions.\n",
      "P3alphaRecommender: Similarity column 22347 (100.0%), 3367.31 column/sec. Elapsed time 6.64 sec\n",
      "RP3betaRecommender: Similarity column 13024 (100.0%), 2489.28 column/sec. Elapsed time 5.23 sec\n",
      "EvaluatorHoldout: Processed 10456 (100.0%) in 49.83 sec. Users per second: 210\n"
     ]
    },
    {
     "name": "stderr",
     "output_type": "stream",
     "text": [
      "[I 2023-12-24 19:25:28,871] Trial 82 finished with value: 0.04715654260939337 and parameters: {'base_f_algorithm': 'p3alpha', 'base_b_algorithm': 'rp3beta', 'convex_lambda': 0.055810984746289115, 'f_p3a_alpha': 0.09476359858539475, 'f_p3a_topK': 31, 'b_rp3_alpha': 0.00013439340615699455, 'b_rp3_beta': 0.00022792459008911758, 'b_rp3_topK': 52}. Best is trial 74 with value: 0.04785989816737771.\n"
     ]
    },
    {
     "name": "stdout",
     "output_type": "stream",
     "text": [
      "TwoWayRankAggregationRecommender: URM Detected 627 ( 4.8%) users with no interactions.\n",
      "TwoWayRankAggregationRecommender: URM Detected 247 ( 1.1%) items with no interactions.\n",
      "P3alphaRecommender: URM Detected 627 ( 4.8%) users with no interactions.\n",
      "P3alphaRecommender: URM Detected 247 ( 1.1%) items with no interactions.\n",
      "RP3betaRecommender: URM Detected 247 ( 1.1%) users with no interactions.\n",
      "RP3betaRecommender: URM Detected 627 ( 4.8%) items with no interactions.\n",
      "P3alphaRecommender: Similarity column 22347 (100.0%), 3609.92 column/sec. Elapsed time 6.19 sec\n",
      "RP3betaRecommender: Similarity column 13024 (100.0%), 2391.44 column/sec. Elapsed time 5.45 sec\n",
      "EvaluatorHoldout: Processed 10456 (100.0%) in 50.58 sec. Users per second: 207\n"
     ]
    },
    {
     "name": "stderr",
     "output_type": "stream",
     "text": [
      "[I 2023-12-24 19:26:33,593] Trial 83 finished with value: 0.04661932163199452 and parameters: {'base_f_algorithm': 'p3alpha', 'base_b_algorithm': 'rp3beta', 'convex_lambda': 0.20134200992984536, 'f_p3a_alpha': 0.5206262870493659, 'f_p3a_topK': 23, 'b_rp3_alpha': 2.4317688749389835e-05, 'b_rp3_beta': 0.0002740808668486369, 'b_rp3_topK': 62}. Best is trial 74 with value: 0.04785989816737771.\n"
     ]
    },
    {
     "name": "stdout",
     "output_type": "stream",
     "text": [
      "TwoWayRankAggregationRecommender: URM Detected 627 ( 4.8%) users with no interactions.\n",
      "TwoWayRankAggregationRecommender: URM Detected 247 ( 1.1%) items with no interactions.\n",
      "P3alphaRecommender: URM Detected 627 ( 4.8%) users with no interactions.\n",
      "P3alphaRecommender: URM Detected 247 ( 1.1%) items with no interactions.\n",
      "RP3betaRecommender: URM Detected 247 ( 1.1%) users with no interactions.\n",
      "RP3betaRecommender: URM Detected 627 ( 4.8%) items with no interactions.\n",
      "P3alphaRecommender: Similarity column 22347 (100.0%), 3403.84 column/sec. Elapsed time 6.57 sec\n",
      "RP3betaRecommender: Similarity column 13024 (100.0%), 2825.73 column/sec. Elapsed time 4.61 sec\n",
      "EvaluatorHoldout: Processed 10456 (100.0%) in 48.68 sec. Users per second: 215\n"
     ]
    },
    {
     "name": "stderr",
     "output_type": "stream",
     "text": [
      "[I 2023-12-24 19:27:35,656] Trial 84 finished with value: 0.04772694496059141 and parameters: {'base_f_algorithm': 'p3alpha', 'base_b_algorithm': 'rp3beta', 'convex_lambda': 0.09639854678727401, 'f_p3a_alpha': 0.27400399232690853, 'f_p3a_topK': 30, 'b_rp3_alpha': 0.0002858526732937135, 'b_rp3_beta': 0.0006357864771889035, 'b_rp3_topK': 39}. Best is trial 74 with value: 0.04785989816737771.\n"
     ]
    },
    {
     "name": "stdout",
     "output_type": "stream",
     "text": [
      "TwoWayRankAggregationRecommender: URM Detected 627 ( 4.8%) users with no interactions.\n",
      "TwoWayRankAggregationRecommender: URM Detected 247 ( 1.1%) items with no interactions.\n",
      "P3alphaRecommender: URM Detected 627 ( 4.8%) users with no interactions.\n",
      "P3alphaRecommender: URM Detected 247 ( 1.1%) items with no interactions.\n",
      "RP3betaRecommender: URM Detected 247 ( 1.1%) users with no interactions.\n",
      "RP3betaRecommender: URM Detected 627 ( 4.8%) items with no interactions.\n",
      "P3alphaRecommender: Similarity column 22347 (100.0%), 3361.09 column/sec. Elapsed time 6.65 sec\n",
      "RP3betaRecommender: Similarity column 13024 (100.0%), 2921.25 column/sec. Elapsed time 4.46 sec\n",
      "EvaluatorHoldout: Processed 10456 (100.0%) in 46.19 sec. Users per second: 226\n"
     ]
    },
    {
     "name": "stderr",
     "output_type": "stream",
     "text": [
      "[I 2023-12-24 19:28:34,984] Trial 85 finished with value: 0.04722363023888531 and parameters: {'base_f_algorithm': 'p3alpha', 'base_b_algorithm': 'rp3beta', 'convex_lambda': 0.1586197583245234, 'f_p3a_alpha': 0.10342395500365788, 'f_p3a_topK': 31, 'b_rp3_alpha': 0.0002714326237522739, 'b_rp3_beta': 0.00014491435492210356, 'b_rp3_topK': 26}. Best is trial 74 with value: 0.04785989816737771.\n"
     ]
    },
    {
     "name": "stdout",
     "output_type": "stream",
     "text": [
      "TwoWayRankAggregationRecommender: URM Detected 627 ( 4.8%) users with no interactions.\n",
      "TwoWayRankAggregationRecommender: URM Detected 247 ( 1.1%) items with no interactions.\n",
      "P3alphaRecommender: URM Detected 627 ( 4.8%) users with no interactions.\n",
      "P3alphaRecommender: URM Detected 247 ( 1.1%) items with no interactions.\n",
      "RP3betaRecommender: URM Detected 247 ( 1.1%) users with no interactions.\n",
      "RP3betaRecommender: URM Detected 627 ( 4.8%) items with no interactions.\n",
      "P3alphaRecommender: Similarity column 22347 (100.0%), 3608.08 column/sec. Elapsed time 6.19 sec\n",
      "RP3betaRecommender: Similarity column 13024 (100.0%), 2767.98 column/sec. Elapsed time 4.71 sec\n",
      "EvaluatorHoldout: Processed 10456 (100.0%) in 47.53 sec. Users per second: 220\n"
     ]
    },
    {
     "name": "stderr",
     "output_type": "stream",
     "text": [
      "[I 2023-12-24 19:29:35,391] Trial 86 finished with value: 0.045593249414022895 and parameters: {'base_f_algorithm': 'p3alpha', 'base_b_algorithm': 'rp3beta', 'convex_lambda': 0.251996560228988, 'f_p3a_alpha': 0.6081164811097614, 'f_p3a_topK': 21, 'b_rp3_alpha': 0.0006753495674973285, 'b_rp3_beta': 2.512928934578102e-05, 'b_rp3_topK': 35}. Best is trial 74 with value: 0.04785989816737771.\n"
     ]
    },
    {
     "name": "stdout",
     "output_type": "stream",
     "text": [
      "TwoWayRankAggregationRecommender: URM Detected 627 ( 4.8%) users with no interactions.\n",
      "TwoWayRankAggregationRecommender: URM Detected 247 ( 1.1%) items with no interactions.\n",
      "P3alphaRecommender: URM Detected 627 ( 4.8%) users with no interactions.\n",
      "P3alphaRecommender: URM Detected 247 ( 1.1%) items with no interactions.\n",
      "RP3betaRecommender: URM Detected 247 ( 1.1%) users with no interactions.\n",
      "RP3betaRecommender: URM Detected 627 ( 4.8%) items with no interactions.\n",
      "P3alphaRecommender: Similarity column 22347 (100.0%), 3463.23 column/sec. Elapsed time 6.45 sec\n",
      "RP3betaRecommender: Similarity column 13024 (100.0%), 2702.82 column/sec. Elapsed time 4.82 sec\n",
      "EvaluatorHoldout: Processed 10456 (100.0%) in 49.39 sec. Users per second: 212\n"
     ]
    },
    {
     "name": "stderr",
     "output_type": "stream",
     "text": [
      "[I 2023-12-24 19:30:38,284] Trial 87 finished with value: 0.04646506221080704 and parameters: {'base_f_algorithm': 'p3alpha', 'base_b_algorithm': 'rp3beta', 'convex_lambda': 0.0902384899994285, 'f_p3a_alpha': 0.067916790486877, 'f_p3a_topK': 28, 'b_rp3_alpha': 0.00014363727124495633, 'b_rp3_beta': 0.0002040513842929922, 'b_rp3_topK': 44}. Best is trial 74 with value: 0.04785989816737771.\n"
     ]
    },
    {
     "name": "stdout",
     "output_type": "stream",
     "text": [
      "TwoWayRankAggregationRecommender: URM Detected 627 ( 4.8%) users with no interactions.\n",
      "TwoWayRankAggregationRecommender: URM Detected 247 ( 1.1%) items with no interactions.\n",
      "P3alphaRecommender: URM Detected 627 ( 4.8%) users with no interactions.\n",
      "P3alphaRecommender: URM Detected 247 ( 1.1%) items with no interactions.\n",
      "RP3betaRecommender: URM Detected 247 ( 1.1%) users with no interactions.\n",
      "RP3betaRecommender: URM Detected 627 ( 4.8%) items with no interactions.\n",
      "P3alphaRecommender: Similarity column 22347 (100.0%), 3028.20 column/sec. Elapsed time 7.38 sec\n",
      "RP3betaRecommender: Similarity column 13024 (100.0%), 3363.26 column/sec. Elapsed time 3.87 sec\n",
      "EvaluatorHoldout: Processed 10456 (100.0%) in 42.81 sec. Users per second: 244\n"
     ]
    },
    {
     "name": "stderr",
     "output_type": "stream",
     "text": [
      "[I 2023-12-24 19:31:34,828] Trial 88 finished with value: 0.026965739273266193 and parameters: {'base_f_algorithm': 'p3alpha', 'base_b_algorithm': 'rp3beta', 'convex_lambda': 0.12867030984855732, 'f_p3a_alpha': 1.4674043165093704, 'f_p3a_topK': 48, 'b_rp3_alpha': 0.000304131999979779, 'b_rp3_beta': 0.00011377921466252701, 'b_rp3_topK': 15}. Best is trial 74 with value: 0.04785989816737771.\n"
     ]
    },
    {
     "name": "stdout",
     "output_type": "stream",
     "text": [
      "TwoWayRankAggregationRecommender: URM Detected 627 ( 4.8%) users with no interactions.\n",
      "TwoWayRankAggregationRecommender: URM Detected 247 ( 1.1%) items with no interactions.\n",
      "P3alphaRecommender: URM Detected 627 ( 4.8%) users with no interactions.\n",
      "P3alphaRecommender: URM Detected 247 ( 1.1%) items with no interactions.\n",
      "RP3betaRecommender: URM Detected 247 ( 1.1%) users with no interactions.\n",
      "RP3betaRecommender: URM Detected 627 ( 4.8%) items with no interactions.\n",
      "P3alphaRecommender: Similarity column 22347 (100.0%), 3326.40 column/sec. Elapsed time 6.72 sec\n",
      "RP3betaRecommender: Similarity column 13024 (100.0%), 2239.41 column/sec. Elapsed time 5.82 sec\n",
      "EvaluatorHoldout: Processed 10456 (100.0%) in 51.80 sec. Users per second: 202\n"
     ]
    },
    {
     "name": "stderr",
     "output_type": "stream",
     "text": [
      "[I 2023-12-24 19:32:42,103] Trial 89 finished with value: 0.047866953431462606 and parameters: {'base_f_algorithm': 'p3alpha', 'base_b_algorithm': 'rp3beta', 'convex_lambda': 0.060346015616373615, 'f_p3a_alpha': 0.2319122136504428, 'f_p3a_topK': 34, 'b_rp3_alpha': 9.376184810165303e-05, 'b_rp3_beta': 0.000541770506584683, 'b_rp3_topK': 75}. Best is trial 89 with value: 0.047866953431462606.\n"
     ]
    },
    {
     "name": "stdout",
     "output_type": "stream",
     "text": [
      "TwoWayRankAggregationRecommender: URM Detected 627 ( 4.8%) users with no interactions.\n",
      "TwoWayRankAggregationRecommender: URM Detected 247 ( 1.1%) items with no interactions.\n",
      "HHPRecommender: URM Detected 627 ( 4.8%) users with no interactions.\n",
      "HHPRecommender: URM Detected 247 ( 1.1%) items with no interactions.\n",
      "RP3betaRecommender: URM Detected 247 ( 1.1%) users with no interactions.\n",
      "RP3betaRecommender: URM Detected 627 ( 4.8%) items with no interactions.\n",
      "HHPRecommender: Similarity column 22347 (100.0%), 3026.27 column/sec. Elapsed time 7.38 sec\n",
      "RP3betaRecommender: Similarity column 13024 (100.0%), 2941.35 column/sec. Elapsed time 4.43 sec\n",
      "EvaluatorHoldout: Processed 10456 (100.0%) in 49.40 sec. Users per second: 212\n"
     ]
    },
    {
     "name": "stderr",
     "output_type": "stream",
     "text": [
      "[I 2023-12-24 19:33:45,172] Trial 90 finished with value: 0.023923975449654505 and parameters: {'base_f_algorithm': 'hhp', 'base_b_algorithm': 'rp3beta', 'convex_lambda': 0.06463497901914607, 'f_hhp_hybrid_lambda': 0.5139427987545792, 'f_hhp_topK': 5, 'b_rp3_alpha': 2.038561840831526e-05, 'b_rp3_beta': 0.0006445775027918723, 'b_rp3_topK': 34}. Best is trial 89 with value: 0.047866953431462606.\n"
     ]
    },
    {
     "name": "stdout",
     "output_type": "stream",
     "text": [
      "TwoWayRankAggregationRecommender: URM Detected 627 ( 4.8%) users with no interactions.\n",
      "TwoWayRankAggregationRecommender: URM Detected 247 ( 1.1%) items with no interactions.\n",
      "P3alphaRecommender: URM Detected 627 ( 4.8%) users with no interactions.\n",
      "P3alphaRecommender: URM Detected 247 ( 1.1%) items with no interactions.\n",
      "RP3betaRecommender: URM Detected 247 ( 1.1%) users with no interactions.\n",
      "RP3betaRecommender: URM Detected 627 ( 4.8%) items with no interactions.\n",
      "P3alphaRecommender: Similarity column 22347 (100.0%), 3283.10 column/sec. Elapsed time 6.81 sec\n",
      "RP3betaRecommender: Similarity column 13024 (100.0%), 2265.78 column/sec. Elapsed time 5.75 sec\n",
      "EvaluatorHoldout: Processed 10456 (100.0%) in 51.24 sec. Users per second: 204\n"
     ]
    },
    {
     "name": "stderr",
     "output_type": "stream",
     "text": [
      "[I 2023-12-24 19:34:51,829] Trial 91 finished with value: 0.047810814934237576 and parameters: {'base_f_algorithm': 'p3alpha', 'base_b_algorithm': 'rp3beta', 'convex_lambda': 0.05991316777952108, 'f_p3a_alpha': 0.2744649962591839, 'f_p3a_topK': 35, 'b_rp3_alpha': 9.941809629324503e-05, 'b_rp3_beta': 0.0003773129348336736, 'b_rp3_topK': 72}. Best is trial 89 with value: 0.047866953431462606.\n"
     ]
    },
    {
     "name": "stdout",
     "output_type": "stream",
     "text": [
      "TwoWayRankAggregationRecommender: URM Detected 627 ( 4.8%) users with no interactions.\n",
      "TwoWayRankAggregationRecommender: URM Detected 247 ( 1.1%) items with no interactions.\n",
      "P3alphaRecommender: URM Detected 627 ( 4.8%) users with no interactions.\n",
      "P3alphaRecommender: URM Detected 247 ( 1.1%) items with no interactions.\n",
      "RP3betaRecommender: URM Detected 247 ( 1.1%) users with no interactions.\n",
      "RP3betaRecommender: URM Detected 627 ( 4.8%) items with no interactions.\n",
      "P3alphaRecommender: Similarity column 22347 (100.0%), 3610.51 column/sec. Elapsed time 6.19 sec\n",
      "RP3betaRecommender: Similarity column 13024 (100.0%), 2266.77 column/sec. Elapsed time 5.75 sec\n",
      "EvaluatorHoldout: Processed 10456 (100.0%) in 50.94 sec. Users per second: 205\n"
     ]
    },
    {
     "name": "stderr",
     "output_type": "stream",
     "text": [
      "[I 2023-12-24 19:35:57,349] Trial 92 finished with value: 0.04742591782951458 and parameters: {'base_f_algorithm': 'p3alpha', 'base_b_algorithm': 'rp3beta', 'convex_lambda': 0.17450257296376334, 'f_p3a_alpha': 0.23918379488705208, 'f_p3a_topK': 24, 'b_rp3_alpha': 0.00010623097563477351, 'b_rp3_beta': 0.0016360086547459864, 'b_rp3_topK': 72}. Best is trial 89 with value: 0.047866953431462606.\n"
     ]
    },
    {
     "name": "stdout",
     "output_type": "stream",
     "text": [
      "TwoWayRankAggregationRecommender: URM Detected 627 ( 4.8%) users with no interactions.\n",
      "TwoWayRankAggregationRecommender: URM Detected 247 ( 1.1%) items with no interactions.\n",
      "P3alphaRecommender: URM Detected 627 ( 4.8%) users with no interactions.\n",
      "P3alphaRecommender: URM Detected 247 ( 1.1%) items with no interactions.\n",
      "RP3betaRecommender: URM Detected 247 ( 1.1%) users with no interactions.\n",
      "RP3betaRecommender: URM Detected 627 ( 4.8%) items with no interactions.\n",
      "P3alphaRecommender: Similarity column 22347 (100.0%), 3304.13 column/sec. Elapsed time 6.76 sec\n",
      "RP3betaRecommender: Similarity column 13024 (100.0%), 2528.23 column/sec. Elapsed time 5.15 sec\n",
      "EvaluatorHoldout: Processed 10456 (100.0%) in 50.04 sec. Users per second: 209\n"
     ]
    },
    {
     "name": "stderr",
     "output_type": "stream",
     "text": [
      "[I 2023-12-24 19:37:01,837] Trial 93 finished with value: 0.04784006448792296 and parameters: {'base_f_algorithm': 'p3alpha', 'base_b_algorithm': 'rp3beta', 'convex_lambda': 0.0917781311081925, 'f_p3a_alpha': 0.2417690262082607, 'f_p3a_topK': 35, 'b_rp3_alpha': 0.00010502176052299142, 'b_rp3_beta': 0.00014100864271298947, 'b_rp3_topK': 54}. Best is trial 89 with value: 0.047866953431462606.\n"
     ]
    },
    {
     "name": "stdout",
     "output_type": "stream",
     "text": [
      "TwoWayRankAggregationRecommender: URM Detected 627 ( 4.8%) users with no interactions.\n",
      "TwoWayRankAggregationRecommender: URM Detected 247 ( 1.1%) items with no interactions.\n",
      "P3alphaRecommender: URM Detected 627 ( 4.8%) users with no interactions.\n",
      "P3alphaRecommender: URM Detected 247 ( 1.1%) items with no interactions.\n",
      "RP3betaRecommender: URM Detected 247 ( 1.1%) users with no interactions.\n",
      "RP3betaRecommender: URM Detected 627 ( 4.8%) items with no interactions.\n",
      "P3alphaRecommender: Similarity column 22347 (100.0%), 3278.71 column/sec. Elapsed time 6.82 sec\n",
      "RP3betaRecommender: Similarity column 13024 (100.0%), 2577.15 column/sec. Elapsed time 5.05 sec\n",
      "EvaluatorHoldout: Processed 10456 (100.0%) in 49.88 sec. Users per second: 210\n"
     ]
    },
    {
     "name": "stderr",
     "output_type": "stream",
     "text": [
      "[I 2023-12-24 19:38:06,057] Trial 94 finished with value: 0.04764540144035239 and parameters: {'base_f_algorithm': 'p3alpha', 'base_b_algorithm': 'rp3beta', 'convex_lambda': 0.08261101883808382, 'f_p3a_alpha': 0.18302459166835194, 'f_p3a_topK': 36, 'b_rp3_alpha': 6.86356888961927e-05, 'b_rp3_beta': 0.00012767737083151223, 'b_rp3_topK': 47}. Best is trial 89 with value: 0.047866953431462606.\n"
     ]
    },
    {
     "name": "stdout",
     "output_type": "stream",
     "text": [
      "TwoWayRankAggregationRecommender: URM Detected 627 ( 4.8%) users with no interactions.\n",
      "TwoWayRankAggregationRecommender: URM Detected 247 ( 1.1%) items with no interactions.\n",
      "P3alphaRecommender: URM Detected 627 ( 4.8%) users with no interactions.\n",
      "P3alphaRecommender: URM Detected 247 ( 1.1%) items with no interactions.\n",
      "RP3betaRecommender: URM Detected 247 ( 1.1%) users with no interactions.\n",
      "RP3betaRecommender: URM Detected 627 ( 4.8%) items with no interactions.\n",
      "P3alphaRecommender: Similarity column 22347 (100.0%), 3432.24 column/sec. Elapsed time 6.51 sec\n",
      "RP3betaRecommender: Similarity column 13024 (100.0%), 2541.76 column/sec. Elapsed time 5.12 sec\n",
      "EvaluatorHoldout: Processed 10456 (100.0%) in 49.88 sec. Users per second: 210\n"
     ]
    },
    {
     "name": "stderr",
     "output_type": "stream",
     "text": [
      "[I 2023-12-24 19:39:10,131] Trial 95 finished with value: 0.04544194265311392 and parameters: {'base_f_algorithm': 'p3alpha', 'base_b_algorithm': 'rp3beta', 'convex_lambda': 0.010444137935688248, 'f_p3a_alpha': 0.72905346474373, 'f_p3a_topK': 30, 'b_rp3_alpha': 0.00020242799337655225, 'b_rp3_beta': 0.00016353752309145446, 'b_rp3_topK': 58}. Best is trial 89 with value: 0.047866953431462606.\n"
     ]
    },
    {
     "name": "stdout",
     "output_type": "stream",
     "text": [
      "TwoWayRankAggregationRecommender: URM Detected 627 ( 4.8%) users with no interactions.\n",
      "TwoWayRankAggregationRecommender: URM Detected 247 ( 1.1%) items with no interactions.\n",
      "P3alphaRecommender: URM Detected 627 ( 4.8%) users with no interactions.\n",
      "P3alphaRecommender: URM Detected 247 ( 1.1%) items with no interactions.\n",
      "P3alphaRecommender: URM Detected 247 ( 1.1%) users with no interactions.\n",
      "P3alphaRecommender: URM Detected 627 ( 4.8%) items with no interactions.\n",
      "P3alphaRecommender: Similarity column 22347 (100.0%), 3448.62 column/sec. Elapsed time 6.48 sec\n",
      "P3alphaRecommender: Similarity column 13024 (100.0%), 348.38 column/sec. Elapsed time 37.38 sec\n",
      "EvaluatorHoldout: Processed 10456 (100.0%) in 1.85 min. Users per second: 94\n"
     ]
    },
    {
     "name": "stderr",
     "output_type": "stream",
     "text": [
      "[I 2023-12-24 19:42:13,536] Trial 96 finished with value: 0.03966300202815175 and parameters: {'base_f_algorithm': 'p3', 'base_b_algorithm': 'p3alpha', 'convex_lambda': 0.06033678518231996, 'f_p3_topK': 27, 'b_p3a_alpha': 1.2330473101649516e-05, 'b_p3a_topK': 1947}. Best is trial 89 with value: 0.047866953431462606.\n"
     ]
    },
    {
     "name": "stdout",
     "output_type": "stream",
     "text": [
      "TwoWayRankAggregationRecommender: URM Detected 627 ( 4.8%) users with no interactions.\n",
      "TwoWayRankAggregationRecommender: URM Detected 247 ( 1.1%) items with no interactions.\n",
      "P3alphaRecommender: URM Detected 627 ( 4.8%) users with no interactions.\n",
      "P3alphaRecommender: URM Detected 247 ( 1.1%) items with no interactions.\n",
      "RP3betaRecommender: URM Detected 247 ( 1.1%) users with no interactions.\n",
      "RP3betaRecommender: URM Detected 627 ( 4.8%) items with no interactions.\n",
      "P3alphaRecommender: Similarity column 22347 (100.0%), 3575.75 column/sec. Elapsed time 6.25 sec\n",
      "RP3betaRecommender: Similarity column 13024 (100.0%), 1902.65 column/sec. Elapsed time 6.85 sec\n",
      "EvaluatorHoldout: Processed 10456 (100.0%) in 52.75 sec. Users per second: 198\n"
     ]
    },
    {
     "name": "stderr",
     "output_type": "stream",
     "text": [
      "[I 2023-12-24 19:43:22,723] Trial 97 finished with value: 0.04615415239674104 and parameters: {'base_f_algorithm': 'p3alpha', 'base_b_algorithm': 'rp3beta', 'convex_lambda': 0.09160935414065212, 'f_p3a_alpha': 0.11116998504489786, 'f_p3a_topK': 22, 'b_rp3_alpha': 9.117450488756117e-05, 'b_rp3_beta': 0.0009377589884083399, 'b_rp3_topK': 112}. Best is trial 89 with value: 0.047866953431462606.\n"
     ]
    },
    {
     "name": "stdout",
     "output_type": "stream",
     "text": [
      "TwoWayRankAggregationRecommender: URM Detected 627 ( 4.8%) users with no interactions.\n",
      "TwoWayRankAggregationRecommender: URM Detected 247 ( 1.1%) items with no interactions.\n",
      "P3alphaRecommender: URM Detected 627 ( 4.8%) users with no interactions.\n",
      "P3alphaRecommender: URM Detected 247 ( 1.1%) items with no interactions.\n",
      "RP3betaRecommender: URM Detected 247 ( 1.1%) users with no interactions.\n",
      "RP3betaRecommender: URM Detected 627 ( 4.8%) items with no interactions.\n",
      "P3alphaRecommender: Similarity column 22347 (100.0%), 3291.45 column/sec. Elapsed time 6.79 sec\n",
      "RP3betaRecommender: Similarity column 13024 (100.0%), 2465.88 column/sec. Elapsed time 5.28 sec\n",
      "EvaluatorHoldout: Processed 10456 (100.0%) in 50.14 sec. Users per second: 209\n"
     ]
    },
    {
     "name": "stderr",
     "output_type": "stream",
     "text": [
      "[I 2023-12-24 19:44:27,426] Trial 98 finished with value: 0.047610584338301225 and parameters: {'base_f_algorithm': 'p3alpha', 'base_b_algorithm': 'rp3beta', 'convex_lambda': 0.03089981332990057, 'f_p3a_alpha': 0.23693918634013622, 'f_p3a_topK': 33, 'b_rp3_alpha': 1.823244695581312e-05, 'b_rp3_beta': 3.351363986642014e-05, 'b_rp3_topK': 54}. Best is trial 89 with value: 0.047866953431462606.\n"
     ]
    },
    {
     "name": "stdout",
     "output_type": "stream",
     "text": [
      "TwoWayRankAggregationRecommender: URM Detected 627 ( 4.8%) users with no interactions.\n",
      "TwoWayRankAggregationRecommender: URM Detected 247 ( 1.1%) items with no interactions.\n",
      "RP3betaRecommender: URM Detected 627 ( 4.8%) users with no interactions.\n",
      "RP3betaRecommender: URM Detected 247 ( 1.1%) items with no interactions.\n",
      "HHPRecommender: URM Detected 247 ( 1.1%) users with no interactions.\n",
      "HHPRecommender: URM Detected 627 ( 4.8%) items with no interactions.\n",
      "RP3betaRecommender: Similarity column 22347 (100.0%), 2732.10 column/sec. Elapsed time 8.18 sec\n",
      "HHPRecommender: Similarity column 13024 (100.0%), 2967.95 column/sec. Elapsed time 4.39 sec\n",
      "EvaluatorHoldout: Processed 10456 (100.0%) in 50.49 sec. Users per second: 207\n"
     ]
    },
    {
     "name": "stderr",
     "output_type": "stream",
     "text": [
      "[I 2023-12-24 19:45:32,505] Trial 99 finished with value: 0.044584213818147145 and parameters: {'base_f_algorithm': 'rp3beta', 'base_b_algorithm': 'hhp', 'convex_lambda': 0.11735357148468811, 'f_rp3_alpha': 0.001006883622901014, 'f_rp3_beta': 0.0001487159147461958, 'f_rp3_topK': 20, 'b_hhp_hybrid_lambda': 0.015137042767844111, 'b_hhp_topK': 18}. Best is trial 89 with value: 0.047866953431462606.\n"
     ]
    },
    {
     "name": "stdout",
     "output_type": "stream",
     "text": [
      "TwoWayRankAggregationRecommender: URM Detected 627 ( 4.8%) users with no interactions.\n",
      "TwoWayRankAggregationRecommender: URM Detected 247 ( 1.1%) items with no interactions.\n",
      "P3alphaRecommender: URM Detected 627 ( 4.8%) users with no interactions.\n",
      "P3alphaRecommender: URM Detected 247 ( 1.1%) items with no interactions.\n",
      "RP3betaRecommender: URM Detected 247 ( 1.1%) users with no interactions.\n",
      "RP3betaRecommender: URM Detected 627 ( 4.8%) items with no interactions.\n",
      "P3alphaRecommender: Similarity column 22347 (100.0%), 2748.49 column/sec. Elapsed time 8.13 sec\n",
      "RP3betaRecommender: Similarity column 13024 (100.0%), 2662.66 column/sec. Elapsed time 4.89 sec\n",
      "EvaluatorHoldout: Processed 10456 (100.0%) in 48.88 sec. Users per second: 214\n"
     ]
    },
    {
     "name": "stderr",
     "output_type": "stream",
     "text": [
      "[I 2023-12-24 19:46:37,230] Trial 100 finished with value: 0.04712987758225014 and parameters: {'base_f_algorithm': 'p3alpha', 'base_b_algorithm': 'rp3beta', 'convex_lambda': 0.1547128997172667, 'f_p3a_alpha': 0.060346417620299735, 'f_p3a_topK': 57, 'b_rp3_alpha': 7.175012101047188e-05, 'b_rp3_beta': 0.00011582105186456839, 'b_rp3_topK': 39}. Best is trial 89 with value: 0.047866953431462606.\n"
     ]
    },
    {
     "name": "stdout",
     "output_type": "stream",
     "text": [
      "TwoWayRankAggregationRecommender: URM Detected 627 ( 4.8%) users with no interactions.\n",
      "TwoWayRankAggregationRecommender: URM Detected 247 ( 1.1%) items with no interactions.\n",
      "P3alphaRecommender: URM Detected 627 ( 4.8%) users with no interactions.\n",
      "P3alphaRecommender: URM Detected 247 ( 1.1%) items with no interactions.\n",
      "RP3betaRecommender: URM Detected 247 ( 1.1%) users with no interactions.\n",
      "RP3betaRecommender: URM Detected 627 ( 4.8%) items with no interactions.\n",
      "P3alphaRecommender: Similarity column 22347 (100.0%), 3056.02 column/sec. Elapsed time 7.31 sec\n",
      "RP3betaRecommender: Similarity column 13024 (100.0%), 2098.97 column/sec. Elapsed time 6.20 sec\n",
      "EvaluatorHoldout: Processed 10456 (100.0%) in 52.17 sec. Users per second: 200\n"
     ]
    },
    {
     "name": "stderr",
     "output_type": "stream",
     "text": [
      "[I 2023-12-24 19:47:46,238] Trial 101 finished with value: 0.047698401312833864 and parameters: {'base_f_algorithm': 'p3alpha', 'base_b_algorithm': 'rp3beta', 'convex_lambda': 0.13417190808777119, 'f_p3a_alpha': 0.25190518334803014, 'f_p3a_topK': 46, 'b_rp3_alpha': 0.00014289441304876264, 'b_rp3_beta': 0.0004838532793365623, 'b_rp3_topK': 85}. Best is trial 89 with value: 0.047866953431462606.\n"
     ]
    },
    {
     "name": "stdout",
     "output_type": "stream",
     "text": [
      "TwoWayRankAggregationRecommender: URM Detected 627 ( 4.8%) users with no interactions.\n",
      "TwoWayRankAggregationRecommender: URM Detected 247 ( 1.1%) items with no interactions.\n",
      "P3alphaRecommender: URM Detected 627 ( 4.8%) users with no interactions.\n",
      "P3alphaRecommender: URM Detected 247 ( 1.1%) items with no interactions.\n",
      "RP3betaRecommender: URM Detected 247 ( 1.1%) users with no interactions.\n",
      "RP3betaRecommender: URM Detected 627 ( 4.8%) items with no interactions.\n",
      "P3alphaRecommender: Similarity column 22347 (100.0%), 3204.96 column/sec. Elapsed time 6.97 sec\n",
      "RP3betaRecommender: Similarity column 13024 (100.0%), 2060.07 column/sec. Elapsed time 6.32 sec\n",
      "EvaluatorHoldout: Processed 10456 (100.0%) in 52.14 sec. Users per second: 201\n"
     ]
    },
    {
     "name": "stderr",
     "output_type": "stream",
     "text": [
      "[I 2023-12-24 19:48:54,903] Trial 102 finished with value: 0.047766794488773 and parameters: {'base_f_algorithm': 'p3alpha', 'base_b_algorithm': 'rp3beta', 'convex_lambda': 0.21184503149531209, 'f_p3a_alpha': 0.22631545160513247, 'f_p3a_topK': 37, 'b_rp3_alpha': 0.00021392031392950068, 'b_rp3_beta': 0.0004736230782631378, 'b_rp3_topK': 91}. Best is trial 89 with value: 0.047866953431462606.\n"
     ]
    },
    {
     "name": "stdout",
     "output_type": "stream",
     "text": [
      "TwoWayRankAggregationRecommender: URM Detected 627 ( 4.8%) users with no interactions.\n",
      "TwoWayRankAggregationRecommender: URM Detected 247 ( 1.1%) items with no interactions.\n",
      "P3alphaRecommender: URM Detected 627 ( 4.8%) users with no interactions.\n",
      "P3alphaRecommender: URM Detected 247 ( 1.1%) items with no interactions.\n",
      "RP3betaRecommender: URM Detected 247 ( 1.1%) users with no interactions.\n",
      "RP3betaRecommender: URM Detected 627 ( 4.8%) items with no interactions.\n",
      "P3alphaRecommender: Similarity column 22347 (100.0%), 3171.84 column/sec. Elapsed time 7.05 sec\n",
      "RP3betaRecommender: Similarity column 13024 (100.0%), 1982.05 column/sec. Elapsed time 6.57 sec\n",
      "EvaluatorHoldout: Processed 10456 (100.0%) in 52.45 sec. Users per second: 199\n"
     ]
    },
    {
     "name": "stderr",
     "output_type": "stream",
     "text": [
      "[I 2023-12-24 19:50:04,364] Trial 103 finished with value: 0.04704989768159297 and parameters: {'base_f_algorithm': 'p3alpha', 'base_b_algorithm': 'rp3beta', 'convex_lambda': 0.18594791572730784, 'f_p3a_alpha': 0.6238764091377956, 'f_p3a_topK': 36, 'b_rp3_alpha': 0.00021253164675616432, 'b_rp3_beta': 0.0002160516789738852, 'b_rp3_topK': 99}. Best is trial 89 with value: 0.047866953431462606.\n"
     ]
    },
    {
     "name": "stdout",
     "output_type": "stream",
     "text": [
      "TwoWayRankAggregationRecommender: URM Detected 627 ( 4.8%) users with no interactions.\n",
      "TwoWayRankAggregationRecommender: URM Detected 247 ( 1.1%) items with no interactions.\n",
      "P3alphaRecommender: URM Detected 627 ( 4.8%) users with no interactions.\n",
      "P3alphaRecommender: URM Detected 247 ( 1.1%) items with no interactions.\n",
      "RP3betaRecommender: URM Detected 247 ( 1.1%) users with no interactions.\n",
      "RP3betaRecommender: URM Detected 627 ( 4.8%) items with no interactions.\n",
      "P3alphaRecommender: Similarity column 22347 (100.0%), 3410.62 column/sec. Elapsed time 6.55 sec\n",
      "RP3betaRecommender: Similarity column 13024 (100.0%), 2446.64 column/sec. Elapsed time 5.32 sec\n",
      "EvaluatorHoldout: Processed 10456 (100.0%) in 50.62 sec. Users per second: 207\n"
     ]
    },
    {
     "name": "stderr",
     "output_type": "stream",
     "text": [
      "[I 2023-12-24 19:51:09,409] Trial 104 finished with value: 0.047597399837262765 and parameters: {'base_f_algorithm': 'p3alpha', 'base_b_algorithm': 'rp3beta', 'convex_lambda': 0.2213515969089011, 'f_p3a_alpha': 0.14600715077185503, 'f_p3a_topK': 29, 'b_rp3_alpha': 3.8110861993300245e-05, 'b_rp3_beta': 0.0006673307199297099, 'b_rp3_topK': 63}. Best is trial 89 with value: 0.047866953431462606.\n"
     ]
    },
    {
     "name": "stdout",
     "output_type": "stream",
     "text": [
      "TwoWayRankAggregationRecommender: URM Detected 627 ( 4.8%) users with no interactions.\n",
      "TwoWayRankAggregationRecommender: URM Detected 247 ( 1.1%) items with no interactions.\n",
      "P3alphaRecommender: URM Detected 627 ( 4.8%) users with no interactions.\n",
      "P3alphaRecommender: URM Detected 247 ( 1.1%) items with no interactions.\n",
      "RP3betaRecommender: URM Detected 247 ( 1.1%) users with no interactions.\n",
      "RP3betaRecommender: URM Detected 627 ( 4.8%) items with no interactions.\n",
      "P3alphaRecommender: Similarity column 22347 (100.0%), 3457.60 column/sec. Elapsed time 6.46 sec\n",
      "RP3betaRecommender: Similarity column 13024 (100.0%), 2667.91 column/sec. Elapsed time 4.88 sec\n",
      "EvaluatorHoldout: Processed 10456 (100.0%) in 49.59 sec. Users per second: 211\n"
     ]
    },
    {
     "name": "stderr",
     "output_type": "stream",
     "text": [
      "[I 2023-12-24 19:52:12,609] Trial 105 finished with value: 0.04776951943746205 and parameters: {'base_f_algorithm': 'p3alpha', 'base_b_algorithm': 'rp3beta', 'convex_lambda': 0.20839731974065503, 'f_p3a_alpha': 0.254302956818412, 'f_p3a_topK': 27, 'b_rp3_alpha': 6.450235063417893e-05, 'b_rp3_beta': 0.00010207655445178527, 'b_rp3_topK': 46}. Best is trial 89 with value: 0.047866953431462606.\n"
     ]
    },
    {
     "name": "stdout",
     "output_type": "stream",
     "text": [
      "TwoWayRankAggregationRecommender: URM Detected 627 ( 4.8%) users with no interactions.\n",
      "TwoWayRankAggregationRecommender: URM Detected 247 ( 1.1%) items with no interactions.\n",
      "P3alphaRecommender: URM Detected 627 ( 4.8%) users with no interactions.\n",
      "P3alphaRecommender: URM Detected 247 ( 1.1%) items with no interactions.\n",
      "RP3betaRecommender: URM Detected 247 ( 1.1%) users with no interactions.\n",
      "RP3betaRecommender: URM Detected 627 ( 4.8%) items with no interactions.\n",
      "P3alphaRecommender: Similarity column 22347 (100.0%), 3284.05 column/sec. Elapsed time 6.80 sec\n",
      "RP3betaRecommender: Similarity column 13024 (100.0%), 2814.16 column/sec. Elapsed time 4.63 sec\n",
      "EvaluatorHoldout: Processed 10456 (100.0%) in 49.83 sec. Users per second: 210\n"
     ]
    },
    {
     "name": "stderr",
     "output_type": "stream",
     "text": [
      "[I 2023-12-24 19:53:16,333] Trial 106 finished with value: 0.04749346847257208 and parameters: {'base_f_algorithm': 'p3alpha', 'base_b_algorithm': 'rp3beta', 'convex_lambda': 0.2112069426236481, 'f_p3a_alpha': 0.12439354109533418, 'f_p3a_topK': 36, 'b_rp3_alpha': 6.615181195658036e-05, 'b_rp3_beta': 9.94414343943813e-05, 'b_rp3_topK': 45}. Best is trial 89 with value: 0.047866953431462606.\n"
     ]
    },
    {
     "name": "stdout",
     "output_type": "stream",
     "text": [
      "TwoWayRankAggregationRecommender: URM Detected 627 ( 4.8%) users with no interactions.\n",
      "TwoWayRankAggregationRecommender: URM Detected 247 ( 1.1%) items with no interactions.\n",
      "P3alphaRecommender: URM Detected 627 ( 4.8%) users with no interactions.\n",
      "P3alphaRecommender: URM Detected 247 ( 1.1%) items with no interactions.\n",
      "RP3betaRecommender: URM Detected 247 ( 1.1%) users with no interactions.\n",
      "RP3betaRecommender: URM Detected 627 ( 4.8%) items with no interactions.\n",
      "P3alphaRecommender: Similarity column 22347 (100.0%), 2848.79 column/sec. Elapsed time 7.84 sec\n",
      "RP3betaRecommender: Similarity column 13024 (100.0%), 2558.61 column/sec. Elapsed time 5.09 sec\n",
      "EvaluatorHoldout: Processed 10456 (100.0%) in 50.76 sec. Users per second: 206\n"
     ]
    },
    {
     "name": "stderr",
     "output_type": "stream",
     "text": [
      "[I 2023-12-24 19:54:22,993] Trial 107 finished with value: 0.04750286916602971 and parameters: {'base_f_algorithm': 'p3alpha', 'base_b_algorithm': 'rp3beta', 'convex_lambda': 0.030366890403549285, 'f_p3a_alpha': 0.23088283978754168, 'f_p3a_topK': 54, 'b_rp3_alpha': 4.3599929818110304e-05, 'b_rp3_beta': 0.00010941471977380994, 'b_rp3_topK': 52}. Best is trial 89 with value: 0.047866953431462606.\n"
     ]
    },
    {
     "name": "stdout",
     "output_type": "stream",
     "text": [
      "TwoWayRankAggregationRecommender: URM Detected 627 ( 4.8%) users with no interactions.\n",
      "TwoWayRankAggregationRecommender: URM Detected 247 ( 1.1%) items with no interactions.\n",
      "P3alphaRecommender: URM Detected 627 ( 4.8%) users with no interactions.\n",
      "P3alphaRecommender: URM Detected 247 ( 1.1%) items with no interactions.\n",
      "RP3betaRecommender: URM Detected 247 ( 1.1%) users with no interactions.\n",
      "RP3betaRecommender: URM Detected 627 ( 4.8%) items with no interactions.\n",
      "P3alphaRecommender: Similarity column 22347 (100.0%), 3667.70 column/sec. Elapsed time 6.09 sec\n",
      "RP3betaRecommender: Similarity column 13024 (100.0%), 2809.65 column/sec. Elapsed time 4.64 sec\n",
      "EvaluatorHoldout: Processed 10456 (100.0%) in 48.82 sec. Users per second: 214\n"
     ]
    },
    {
     "name": "stderr",
     "output_type": "stream",
     "text": [
      "[I 2023-12-24 19:55:24,587] Trial 108 finished with value: 0.04040377060030912 and parameters: {'base_f_algorithm': 'p3alpha', 'base_b_algorithm': 'rp3beta', 'convex_lambda': 0.2653484922442313, 'f_p3a_alpha': 0.8714880758403659, 'f_p3a_topK': 18, 'b_rp3_alpha': 1.815220898120111e-05, 'b_rp3_beta': 4.198391312928085e-05, 'b_rp3_topK': 37}. Best is trial 89 with value: 0.047866953431462606.\n"
     ]
    },
    {
     "name": "stdout",
     "output_type": "stream",
     "text": [
      "TwoWayRankAggregationRecommender: URM Detected 627 ( 4.8%) users with no interactions.\n",
      "TwoWayRankAggregationRecommender: URM Detected 247 ( 1.1%) items with no interactions.\n",
      "P3alphaRecommender: URM Detected 627 ( 4.8%) users with no interactions.\n",
      "P3alphaRecommender: URM Detected 247 ( 1.1%) items with no interactions.\n",
      "RP3betaRecommender: URM Detected 247 ( 1.1%) users with no interactions.\n",
      "RP3betaRecommender: URM Detected 627 ( 4.8%) items with no interactions.\n",
      "P3alphaRecommender: Similarity column 22347 (100.0%), 3531.10 column/sec. Elapsed time 6.33 sec\n",
      "RP3betaRecommender: Similarity column 13024 (100.0%), 3005.94 column/sec. Elapsed time 4.33 sec\n",
      "EvaluatorHoldout: Processed 10456 (100.0%) in 46.39 sec. Users per second: 225\n"
     ]
    },
    {
     "name": "stderr",
     "output_type": "stream",
     "text": [
      "[I 2023-12-24 19:56:23,543] Trial 109 finished with value: 0.04666577479627478 and parameters: {'base_f_algorithm': 'p3alpha', 'base_b_algorithm': 'rp3beta', 'convex_lambda': 0.0619314215343621, 'f_p3a_alpha': 0.5251923142864718, 'f_p3a_topK': 24, 'b_rp3_alpha': 8.401329528172023e-05, 'b_rp3_beta': 1.9508468166954985e-05, 'b_rp3_topK': 26}. Best is trial 89 with value: 0.047866953431462606.\n"
     ]
    },
    {
     "name": "stdout",
     "output_type": "stream",
     "text": [
      "TwoWayRankAggregationRecommender: URM Detected 627 ( 4.8%) users with no interactions.\n",
      "TwoWayRankAggregationRecommender: URM Detected 247 ( 1.1%) items with no interactions.\n",
      "P3alphaRecommender: URM Detected 627 ( 4.8%) users with no interactions.\n",
      "P3alphaRecommender: URM Detected 247 ( 1.1%) items with no interactions.\n",
      "RP3betaRecommender: URM Detected 247 ( 1.1%) users with no interactions.\n",
      "RP3betaRecommender: URM Detected 627 ( 4.8%) items with no interactions.\n",
      "P3alphaRecommender: Similarity column 22347 (100.0%), 3157.19 column/sec. Elapsed time 7.08 sec\n",
      "RP3betaRecommender: Similarity column 13024 (100.0%), 2437.42 column/sec. Elapsed time 5.34 sec\n",
      "EvaluatorHoldout: Processed 10456 (100.0%) in 51.07 sec. Users per second: 205\n"
     ]
    },
    {
     "name": "stderr",
     "output_type": "stream",
     "text": [
      "[I 2023-12-24 19:57:29,804] Trial 110 finished with value: 0.04729468384522967 and parameters: {'base_f_algorithm': 'p3alpha', 'base_b_algorithm': 'rp3beta', 'convex_lambda': 0.1767496189215653, 'f_p3a_alpha': 0.07548691102848407, 'f_p3a_topK': 39, 'b_rp3_alpha': 0.00019394695523318613, 'b_rp3_beta': 0.001377777939807044, 'b_rp3_topK': 60}. Best is trial 89 with value: 0.047866953431462606.\n"
     ]
    },
    {
     "name": "stdout",
     "output_type": "stream",
     "text": [
      "TwoWayRankAggregationRecommender: URM Detected 627 ( 4.8%) users with no interactions.\n",
      "TwoWayRankAggregationRecommender: URM Detected 247 ( 1.1%) items with no interactions.\n",
      "P3alphaRecommender: URM Detected 627 ( 4.8%) users with no interactions.\n",
      "P3alphaRecommender: URM Detected 247 ( 1.1%) items with no interactions.\n",
      "RP3betaRecommender: URM Detected 247 ( 1.1%) users with no interactions.\n",
      "RP3betaRecommender: URM Detected 627 ( 4.8%) items with no interactions.\n",
      "P3alphaRecommender: Similarity column 22347 (100.0%), 3487.99 column/sec. Elapsed time 6.41 sec\n",
      "RP3betaRecommender: Similarity column 13024 (100.0%), 2177.48 column/sec. Elapsed time 5.98 sec\n",
      "EvaluatorHoldout: Processed 10456 (100.0%) in 51.28 sec. Users per second: 204\n"
     ]
    },
    {
     "name": "stderr",
     "output_type": "stream",
     "text": [
      "[I 2023-12-24 19:58:36,235] Trial 111 finished with value: 0.04795321817199273 and parameters: {'base_f_algorithm': 'p3alpha', 'base_b_algorithm': 'rp3beta', 'convex_lambda': 0.15363159155747544, 'f_p3a_alpha': 0.33366744909595936, 'f_p3a_topK': 27, 'b_rp3_alpha': 0.0004175668492433344, 'b_rp3_beta': 0.00019708614080262446, 'b_rp3_topK': 81}. Best is trial 111 with value: 0.04795321817199273.\n"
     ]
    },
    {
     "name": "stdout",
     "output_type": "stream",
     "text": [
      "TwoWayRankAggregationRecommender: URM Detected 627 ( 4.8%) users with no interactions.\n",
      "TwoWayRankAggregationRecommender: URM Detected 247 ( 1.1%) items with no interactions.\n",
      "P3alphaRecommender: URM Detected 627 ( 4.8%) users with no interactions.\n",
      "P3alphaRecommender: URM Detected 247 ( 1.1%) items with no interactions.\n",
      "RP3betaRecommender: URM Detected 247 ( 1.1%) users with no interactions.\n",
      "RP3betaRecommender: URM Detected 627 ( 4.8%) items with no interactions.\n",
      "P3alphaRecommender: Similarity column 22347 (100.0%), 3358.28 column/sec. Elapsed time 6.65 sec\n",
      "RP3betaRecommender: Similarity column 13024 (100.0%), 2130.65 column/sec. Elapsed time 6.11 sec\n",
      "EvaluatorHoldout: Processed 10456 (100.0%) in 51.74 sec. Users per second: 202\n"
     ]
    },
    {
     "name": "stderr",
     "output_type": "stream",
     "text": [
      "[I 2023-12-24 19:59:43,794] Trial 112 finished with value: 0.0479328228039501 and parameters: {'base_f_algorithm': 'p3alpha', 'base_b_algorithm': 'rp3beta', 'convex_lambda': 0.2394109802526866, 'f_p3a_alpha': 0.18056754613245124, 'f_p3a_topK': 33, 'b_rp3_alpha': 0.00011998004001875315, 'b_rp3_beta': 0.0004386232140812529, 'b_rp3_topK': 85}. Best is trial 111 with value: 0.04795321817199273.\n"
     ]
    },
    {
     "name": "stdout",
     "output_type": "stream",
     "text": [
      "TwoWayRankAggregationRecommender: URM Detected 627 ( 4.8%) users with no interactions.\n",
      "TwoWayRankAggregationRecommender: URM Detected 247 ( 1.1%) items with no interactions.\n",
      "P3alphaRecommender: URM Detected 627 ( 4.8%) users with no interactions.\n",
      "P3alphaRecommender: URM Detected 247 ( 1.1%) items with no interactions.\n",
      "RP3betaRecommender: URM Detected 247 ( 1.1%) users with no interactions.\n",
      "RP3betaRecommender: URM Detected 627 ( 4.8%) items with no interactions.\n",
      "P3alphaRecommender: Similarity column 22347 (100.0%), 3292.44 column/sec. Elapsed time 6.79 sec\n",
      "RP3betaRecommender: Similarity column 13024 (100.0%), 2085.53 column/sec. Elapsed time 6.24 sec\n",
      "EvaluatorHoldout: Processed 10456 (100.0%) in 52.67 sec. Users per second: 199\n"
     ]
    },
    {
     "name": "stderr",
     "output_type": "stream",
     "text": [
      "[I 2023-12-24 20:00:52,635] Trial 113 finished with value: 0.04776865413342156 and parameters: {'base_f_algorithm': 'p3alpha', 'base_b_algorithm': 'rp3beta', 'convex_lambda': 0.23877166066333624, 'f_p3a_alpha': 0.13535883154603756, 'f_p3a_topK': 33, 'b_rp3_alpha': 5.3777941574084635e-05, 'b_rp3_beta': 0.00020056393535484846, 'b_rp3_topK': 88}. Best is trial 111 with value: 0.04795321817199273.\n"
     ]
    },
    {
     "name": "stdout",
     "output_type": "stream",
     "text": [
      "TwoWayRankAggregationRecommender: URM Detected 627 ( 4.8%) users with no interactions.\n",
      "TwoWayRankAggregationRecommender: URM Detected 247 ( 1.1%) items with no interactions.\n",
      "P3alphaRecommender: URM Detected 627 ( 4.8%) users with no interactions.\n",
      "P3alphaRecommender: URM Detected 247 ( 1.1%) items with no interactions.\n",
      "RP3betaRecommender: URM Detected 247 ( 1.1%) users with no interactions.\n",
      "RP3betaRecommender: URM Detected 627 ( 4.8%) items with no interactions.\n",
      "P3alphaRecommender: Similarity column 22347 (100.0%), 3509.81 column/sec. Elapsed time 6.37 sec\n",
      "RP3betaRecommender: Similarity column 13024 (100.0%), 2160.08 column/sec. Elapsed time 6.03 sec\n",
      "EvaluatorHoldout: Processed 10456 (100.0%) in 52.03 sec. Users per second: 201\n"
     ]
    },
    {
     "name": "stderr",
     "output_type": "stream",
     "text": [
      "[I 2023-12-24 20:01:59,835] Trial 114 finished with value: 0.046595605469936706 and parameters: {'base_f_algorithm': 'p3alpha', 'base_b_algorithm': 'rp3beta', 'convex_lambda': 0.1915957530597642, 'f_p3a_alpha': 0.14595729630053428, 'f_p3a_topK': 21, 'b_rp3_alpha': 3.1864624129960935e-05, 'b_rp3_beta': 7.020497626483858e-05, 'b_rp3_topK': 80}. Best is trial 111 with value: 0.04795321817199273.\n"
     ]
    },
    {
     "name": "stdout",
     "output_type": "stream",
     "text": [
      "TwoWayRankAggregationRecommender: URM Detected 627 ( 4.8%) users with no interactions.\n",
      "TwoWayRankAggregationRecommender: URM Detected 247 ( 1.1%) items with no interactions.\n",
      "P3alphaRecommender: URM Detected 627 ( 4.8%) users with no interactions.\n",
      "P3alphaRecommender: URM Detected 247 ( 1.1%) items with no interactions.\n",
      "RP3betaRecommender: URM Detected 247 ( 1.1%) users with no interactions.\n",
      "RP3betaRecommender: URM Detected 627 ( 4.8%) items with no interactions.\n",
      "P3alphaRecommender: Similarity column 22347 (100.0%), 3473.31 column/sec. Elapsed time 6.43 sec\n",
      "RP3betaRecommender: Similarity column 13024 (100.0%), 1837.43 column/sec. Elapsed time 7.09 sec\n",
      "EvaluatorHoldout: Processed 10456 (100.0%) in 53.08 sec. Users per second: 197\n"
     ]
    },
    {
     "name": "stderr",
     "output_type": "stream",
     "text": [
      "[I 2023-12-24 20:03:09,817] Trial 115 finished with value: 0.046453543799565976 and parameters: {'base_f_algorithm': 'p3alpha', 'base_b_algorithm': 'rp3beta', 'convex_lambda': 0.24645953892636174, 'f_p3a_alpha': 0.045496818061313414, 'f_p3a_topK': 25, 'b_rp3_alpha': 4.878110689339497e-05, 'b_rp3_beta': 0.00023355701744199697, 'b_rp3_topK': 114}. Best is trial 111 with value: 0.04795321817199273.\n"
     ]
    },
    {
     "name": "stdout",
     "output_type": "stream",
     "text": [
      "TwoWayRankAggregationRecommender: URM Detected 627 ( 4.8%) users with no interactions.\n",
      "TwoWayRankAggregationRecommender: URM Detected 247 ( 1.1%) items with no interactions.\n",
      "HHPRecommender: URM Detected 627 ( 4.8%) users with no interactions.\n",
      "HHPRecommender: URM Detected 247 ( 1.1%) items with no interactions.\n",
      "P3alphaRecommender: URM Detected 247 ( 1.1%) users with no interactions.\n",
      "P3alphaRecommender: URM Detected 627 ( 4.8%) items with no interactions.\n",
      "HHPRecommender: Similarity column 22347 (100.0%), 759.95 column/sec. Elapsed time 29.41 sec\n",
      "P3alphaRecommender: Similarity column 13024 (100.0%), 2003.01 column/sec. Elapsed time 6.50 sec\n",
      "EvaluatorHoldout: Processed 10456 (100.0%) in 56.77 sec. Users per second: 184\n"
     ]
    },
    {
     "name": "stderr",
     "output_type": "stream",
     "text": [
      "[I 2023-12-24 20:05:03,306] Trial 116 finished with value: 0.016794359735733122 and parameters: {'base_f_algorithm': 'hhp', 'base_b_algorithm': 'p3alpha', 'convex_lambda': 0.3015708675738864, 'f_hhp_hybrid_lambda': 0.2969338500880122, 'f_hhp_topK': 481, 'b_p3a_alpha': 0.0009957121228970937, 'b_p3a_topK': 124}. Best is trial 111 with value: 0.04795321817199273.\n"
     ]
    },
    {
     "name": "stdout",
     "output_type": "stream",
     "text": [
      "TwoWayRankAggregationRecommender: URM Detected 627 ( 4.8%) users with no interactions.\n",
      "TwoWayRankAggregationRecommender: URM Detected 247 ( 1.1%) items with no interactions.\n",
      "P3alphaRecommender: URM Detected 627 ( 4.8%) users with no interactions.\n",
      "P3alphaRecommender: URM Detected 247 ( 1.1%) items with no interactions.\n",
      "RP3betaRecommender: URM Detected 247 ( 1.1%) users with no interactions.\n",
      "RP3betaRecommender: URM Detected 627 ( 4.8%) items with no interactions.\n",
      "P3alphaRecommender: Similarity column 22347 (100.0%), 3324.50 column/sec. Elapsed time 6.72 sec\n",
      "RP3betaRecommender: Similarity column 13024 (100.0%), 2322.92 column/sec. Elapsed time 5.61 sec\n",
      "EvaluatorHoldout: Processed 10456 (100.0%) in 51.14 sec. Users per second: 204\n"
     ]
    },
    {
     "name": "stderr",
     "output_type": "stream",
     "text": [
      "[I 2023-12-24 20:06:09,505] Trial 117 finished with value: 0.04783649321115909 and parameters: {'base_f_algorithm': 'p3alpha', 'base_b_algorithm': 'rp3beta', 'convex_lambda': 0.24225717963733978, 'f_p3a_alpha': 0.3606485588262865, 'f_p3a_topK': 32, 'b_rp3_alpha': 0.00010908336097659281, 'b_rp3_beta': 0.0001732182360161648, 'b_rp3_topK': 67}. Best is trial 111 with value: 0.04795321817199273.\n"
     ]
    },
    {
     "name": "stdout",
     "output_type": "stream",
     "text": [
      "TwoWayRankAggregationRecommender: URM Detected 627 ( 4.8%) users with no interactions.\n",
      "TwoWayRankAggregationRecommender: URM Detected 247 ( 1.1%) items with no interactions.\n",
      "P3alphaRecommender: URM Detected 627 ( 4.8%) users with no interactions.\n",
      "P3alphaRecommender: URM Detected 247 ( 1.1%) items with no interactions.\n",
      "RP3betaRecommender: URM Detected 247 ( 1.1%) users with no interactions.\n",
      "RP3betaRecommender: URM Detected 627 ( 4.8%) items with no interactions.\n",
      "P3alphaRecommender: Similarity column 22347 (100.0%), 937.19 column/sec. Elapsed time 23.84 sec\n",
      "RP3betaRecommender: Similarity column 13024 (100.0%), 2358.16 column/sec. Elapsed time 5.52 sec\n",
      "EvaluatorHoldout: Processed 10456 (100.0%) in 53.07 sec. Users per second: 197\n"
     ]
    },
    {
     "name": "stderr",
     "output_type": "stream",
     "text": [
      "[I 2023-12-24 20:07:46,112] Trial 118 finished with value: 0.03847789983119028 and parameters: {'base_f_algorithm': 'p3', 'base_b_algorithm': 'rp3beta', 'convex_lambda': 0.2655734253307717, 'f_p3_topK': 448, 'b_rp3_alpha': 0.00010747048265074405, 'b_rp3_beta': 8.356155956342468e-05, 'b_rp3_topK': 64}. Best is trial 111 with value: 0.04795321817199273.\n"
     ]
    },
    {
     "name": "stdout",
     "output_type": "stream",
     "text": [
      "TwoWayRankAggregationRecommender: URM Detected 627 ( 4.8%) users with no interactions.\n",
      "TwoWayRankAggregationRecommender: URM Detected 247 ( 1.1%) items with no interactions.\n",
      "P3alphaRecommender: URM Detected 627 ( 4.8%) users with no interactions.\n",
      "P3alphaRecommender: URM Detected 247 ( 1.1%) items with no interactions.\n",
      "P3alphaRecommender: URM Detected 247 ( 1.1%) users with no interactions.\n",
      "P3alphaRecommender: URM Detected 627 ( 4.8%) items with no interactions.\n",
      "P3alphaRecommender: Similarity column 22347 (100.0%), 3090.33 column/sec. Elapsed time 7.23 sec\n",
      "P3alphaRecommender: Similarity column 13024 (100.0%), 3397.62 column/sec. Elapsed time 3.83 sec\n",
      "EvaluatorHoldout: Processed 10456 (100.0%) in 50.61 sec. Users per second: 207\n"
     ]
    },
    {
     "name": "stderr",
     "output_type": "stream",
     "text": [
      "[I 2023-12-24 20:08:50,239] Trial 119 finished with value: 0.04694980705238036 and parameters: {'base_f_algorithm': 'p3alpha', 'base_b_algorithm': 'p3', 'convex_lambda': 0.15320590098919085, 'f_p3a_alpha': 0.41803943001657695, 'f_p3a_topK': 45, 'b_p3_topK': 35}. Best is trial 111 with value: 0.04795321817199273.\n"
     ]
    },
    {
     "name": "stdout",
     "output_type": "stream",
     "text": [
      "TwoWayRankAggregationRecommender: URM Detected 627 ( 4.8%) users with no interactions.\n",
      "TwoWayRankAggregationRecommender: URM Detected 247 ( 1.1%) items with no interactions.\n",
      "P3alphaRecommender: URM Detected 627 ( 4.8%) users with no interactions.\n",
      "P3alphaRecommender: URM Detected 247 ( 1.1%) items with no interactions.\n",
      "RP3betaRecommender: URM Detected 247 ( 1.1%) users with no interactions.\n",
      "RP3betaRecommender: URM Detected 627 ( 4.8%) items with no interactions.\n",
      "P3alphaRecommender: Similarity column 22347 (100.0%), 3465.41 column/sec. Elapsed time 6.45 sec\n",
      "RP3betaRecommender: Similarity column 13024 (100.0%), 2670.35 column/sec. Elapsed time 4.88 sec\n",
      "EvaluatorHoldout: Processed 10456 (100.0%) in 49.70 sec. Users per second: 210\n"
     ]
    },
    {
     "name": "stderr",
     "output_type": "stream",
     "text": [
      "[I 2023-12-24 20:09:53,683] Trial 120 finished with value: 0.04554172207648763 and parameters: {'base_f_algorithm': 'p3alpha', 'base_b_algorithm': 'rp3beta', 'convex_lambda': 0.3483154253854528, 'f_p3a_alpha': 0.7092608674635376, 'f_p3a_topK': 28, 'b_rp3_alpha': 0.00010615213112648251, 'b_rp3_beta': 0.0003794178094544674, 'b_rp3_topK': 50}. Best is trial 111 with value: 0.04795321817199273.\n"
     ]
    },
    {
     "name": "stdout",
     "output_type": "stream",
     "text": [
      "TwoWayRankAggregationRecommender: URM Detected 627 ( 4.8%) users with no interactions.\n",
      "TwoWayRankAggregationRecommender: URM Detected 247 ( 1.1%) items with no interactions.\n",
      "P3alphaRecommender: URM Detected 627 ( 4.8%) users with no interactions.\n",
      "P3alphaRecommender: URM Detected 247 ( 1.1%) items with no interactions.\n",
      "RP3betaRecommender: URM Detected 247 ( 1.1%) users with no interactions.\n",
      "RP3betaRecommender: URM Detected 627 ( 4.8%) items with no interactions.\n",
      "P3alphaRecommender: Similarity column 22347 (100.0%), 3379.75 column/sec. Elapsed time 6.61 sec\n",
      "RP3betaRecommender: Similarity column 13024 (100.0%), 2286.95 column/sec. Elapsed time 5.69 sec\n",
      "EvaluatorHoldout: Processed 10456 (100.0%) in 51.05 sec. Users per second: 205\n"
     ]
    },
    {
     "name": "stderr",
     "output_type": "stream",
     "text": [
      "[I 2023-12-24 20:10:59,826] Trial 121 finished with value: 0.047919702821195544 and parameters: {'base_f_algorithm': 'p3alpha', 'base_b_algorithm': 'rp3beta', 'convex_lambda': 0.2309121452698622, 'f_p3a_alpha': 0.16783720477641245, 'f_p3a_topK': 31, 'b_rp3_alpha': 5.823733687777284e-05, 'b_rp3_beta': 0.00016980242758893392, 'b_rp3_topK': 73}. Best is trial 111 with value: 0.04795321817199273.\n"
     ]
    },
    {
     "name": "stdout",
     "output_type": "stream",
     "text": [
      "TwoWayRankAggregationRecommender: URM Detected 627 ( 4.8%) users with no interactions.\n",
      "TwoWayRankAggregationRecommender: URM Detected 247 ( 1.1%) items with no interactions.\n",
      "P3alphaRecommender: URM Detected 627 ( 4.8%) users with no interactions.\n",
      "P3alphaRecommender: URM Detected 247 ( 1.1%) items with no interactions.\n",
      "RP3betaRecommender: URM Detected 247 ( 1.1%) users with no interactions.\n",
      "RP3betaRecommender: URM Detected 627 ( 4.8%) items with no interactions.\n",
      "P3alphaRecommender: Similarity column 22347 (100.0%), 3365.25 column/sec. Elapsed time 6.64 sec\n",
      "RP3betaRecommender: Similarity column 13024 (100.0%), 2334.41 column/sec. Elapsed time 5.58 sec\n",
      "EvaluatorHoldout: Processed 10456 (100.0%) in 51.06 sec. Users per second: 205\n"
     ]
    },
    {
     "name": "stderr",
     "output_type": "stream",
     "text": [
      "[I 2023-12-24 20:12:05,914] Trial 122 finished with value: 0.04787943202657295 and parameters: {'base_f_algorithm': 'p3alpha', 'base_b_algorithm': 'rp3beta', 'convex_lambda': 0.22069410667046985, 'f_p3a_alpha': 0.3251303022963157, 'f_p3a_topK': 34, 'b_rp3_alpha': 6.578547312871495e-05, 'b_rp3_beta': 0.00016303727346827005, 'b_rp3_topK': 69}. Best is trial 111 with value: 0.04795321817199273.\n"
     ]
    },
    {
     "name": "stdout",
     "output_type": "stream",
     "text": [
      "TwoWayRankAggregationRecommender: URM Detected 627 ( 4.8%) users with no interactions.\n",
      "TwoWayRankAggregationRecommender: URM Detected 247 ( 1.1%) items with no interactions.\n",
      "P3alphaRecommender: URM Detected 627 ( 4.8%) users with no interactions.\n",
      "P3alphaRecommender: URM Detected 247 ( 1.1%) items with no interactions.\n",
      "RP3betaRecommender: URM Detected 247 ( 1.1%) users with no interactions.\n",
      "RP3betaRecommender: URM Detected 627 ( 4.8%) items with no interactions.\n",
      "P3alphaRecommender: Similarity column 22347 (100.0%), 3311.48 column/sec. Elapsed time 6.75 sec\n",
      "RP3betaRecommender: Similarity column 13024 (100.0%), 2264.59 column/sec. Elapsed time 5.75 sec\n",
      "EvaluatorHoldout: Processed 10456 (100.0%) in 51.49 sec. Users per second: 203\n"
     ]
    },
    {
     "name": "stderr",
     "output_type": "stream",
     "text": [
      "[I 2023-12-24 20:13:12,771] Trial 123 finished with value: 0.047847681440595265 and parameters: {'base_f_algorithm': 'p3alpha', 'base_b_algorithm': 'rp3beta', 'convex_lambda': 0.22907159395289567, 'f_p3a_alpha': 0.35826214041044174, 'f_p3a_topK': 34, 'b_rp3_alpha': 0.00015233452308404343, 'b_rp3_beta': 0.00016868925959861279, 'b_rp3_topK': 72}. Best is trial 111 with value: 0.04795321817199273.\n"
     ]
    },
    {
     "name": "stdout",
     "output_type": "stream",
     "text": [
      "TwoWayRankAggregationRecommender: URM Detected 627 ( 4.8%) users with no interactions.\n",
      "TwoWayRankAggregationRecommender: URM Detected 247 ( 1.1%) items with no interactions.\n",
      "P3alphaRecommender: URM Detected 627 ( 4.8%) users with no interactions.\n",
      "P3alphaRecommender: URM Detected 247 ( 1.1%) items with no interactions.\n",
      "RP3betaRecommender: URM Detected 247 ( 1.1%) users with no interactions.\n",
      "RP3betaRecommender: URM Detected 627 ( 4.8%) items with no interactions.\n",
      "P3alphaRecommender: Similarity column 22347 (100.0%), 3338.07 column/sec. Elapsed time 6.69 sec\n",
      "RP3betaRecommender: Similarity column 13024 (100.0%), 2279.46 column/sec. Elapsed time 5.71 sec\n",
      "EvaluatorHoldout: Processed 10456 (100.0%) in 52.11 sec. Users per second: 201\n"
     ]
    },
    {
     "name": "stderr",
     "output_type": "stream",
     "text": [
      "[I 2023-12-24 20:14:20,061] Trial 124 finished with value: 0.04785076693263444 and parameters: {'base_f_algorithm': 'p3alpha', 'base_b_algorithm': 'rp3beta', 'convex_lambda': 0.23860477768008662, 'f_p3a_alpha': 0.3537485905189098, 'f_p3a_topK': 32, 'b_rp3_alpha': 3.131607261536713e-05, 'b_rp3_beta': 0.0001547848144440663, 'b_rp3_topK': 70}. Best is trial 111 with value: 0.04795321817199273.\n"
     ]
    },
    {
     "name": "stdout",
     "output_type": "stream",
     "text": [
      "TwoWayRankAggregationRecommender: URM Detected 627 ( 4.8%) users with no interactions.\n",
      "TwoWayRankAggregationRecommender: URM Detected 247 ( 1.1%) items with no interactions.\n",
      "P3alphaRecommender: URM Detected 627 ( 4.8%) users with no interactions.\n",
      "P3alphaRecommender: URM Detected 247 ( 1.1%) items with no interactions.\n",
      "RP3betaRecommender: URM Detected 247 ( 1.1%) users with no interactions.\n",
      "RP3betaRecommender: URM Detected 627 ( 4.8%) items with no interactions.\n",
      "P3alphaRecommender: Similarity column 22347 (100.0%), 3230.61 column/sec. Elapsed time 6.92 sec\n",
      "RP3betaRecommender: Similarity column 13024 (100.0%), 2272.18 column/sec. Elapsed time 5.73 sec\n",
      "EvaluatorHoldout: Processed 10456 (100.0%) in 51.61 sec. Users per second: 203\n"
     ]
    },
    {
     "name": "stderr",
     "output_type": "stream",
     "text": [
      "[I 2023-12-24 20:15:27,348] Trial 125 finished with value: 0.0475623436380424 and parameters: {'base_f_algorithm': 'p3alpha', 'base_b_algorithm': 'rp3beta', 'convex_lambda': 0.27874617188475004, 'f_p3a_alpha': 0.48056178997043947, 'f_p3a_topK': 41, 'b_rp3_alpha': 3.203256257067051e-05, 'b_rp3_beta': 0.00017627118528287374, 'b_rp3_topK': 72}. Best is trial 111 with value: 0.04795321817199273.\n"
     ]
    },
    {
     "name": "stdout",
     "output_type": "stream",
     "text": [
      "TwoWayRankAggregationRecommender: URM Detected 627 ( 4.8%) users with no interactions.\n",
      "TwoWayRankAggregationRecommender: URM Detected 247 ( 1.1%) items with no interactions.\n",
      "P3alphaRecommender: URM Detected 627 ( 4.8%) users with no interactions.\n",
      "P3alphaRecommender: URM Detected 247 ( 1.1%) items with no interactions.\n",
      "HHPRecommender: URM Detected 247 ( 1.1%) users with no interactions.\n",
      "HHPRecommender: URM Detected 627 ( 4.8%) items with no interactions.\n",
      "P3alphaRecommender: Similarity column 22347 (100.0%), 2924.42 column/sec. Elapsed time 7.64 sec\n",
      "HHPRecommender: Similarity column 13024 (100.0%), 2141.16 column/sec. Elapsed time 6.08 sec\n",
      "EvaluatorHoldout: Processed 10456 (100.0%) in 57.18 sec. Users per second: 183\n"
     ]
    },
    {
     "name": "stderr",
     "output_type": "stream",
     "text": [
      "[I 2023-12-24 20:16:42,307] Trial 126 finished with value: 0.03672534794330944 and parameters: {'base_f_algorithm': 'p3alpha', 'base_b_algorithm': 'hhp', 'convex_lambda': 0.23436325022277527, 'f_p3a_alpha': 1.146470739664593, 'f_p3a_topK': 51, 'b_hhp_hybrid_lambda': 0.4954326253873095, 'b_hhp_topK': 74}. Best is trial 111 with value: 0.04795321817199273.\n"
     ]
    },
    {
     "name": "stdout",
     "output_type": "stream",
     "text": [
      "TwoWayRankAggregationRecommender: URM Detected 627 ( 4.8%) users with no interactions.\n",
      "TwoWayRankAggregationRecommender: URM Detected 247 ( 1.1%) items with no interactions.\n",
      "RP3betaRecommender: URM Detected 627 ( 4.8%) users with no interactions.\n",
      "RP3betaRecommender: URM Detected 247 ( 1.1%) items with no interactions.\n",
      "RP3betaRecommender: URM Detected 247 ( 1.1%) users with no interactions.\n",
      "RP3betaRecommender: URM Detected 627 ( 4.8%) items with no interactions.\n",
      "RP3betaRecommender: Similarity column 22347 (100.0%), 1515.47 column/sec. Elapsed time 14.75 sec\n",
      "RP3betaRecommender: Similarity column 13024 (100.0%), 2326.40 column/sec. Elapsed time 5.60 sec\n",
      "EvaluatorHoldout: Processed 10456 (100.0%) in 50.82 sec. Users per second: 206\n"
     ]
    },
    {
     "name": "stderr",
     "output_type": "stream",
     "text": [
      "[I 2023-12-24 20:18:00,233] Trial 127 finished with value: 0.04499388214862633 and parameters: {'base_f_algorithm': 'rp3beta', 'base_b_algorithm': 'rp3beta', 'convex_lambda': 0.24830229659337794, 'f_rp3_alpha': 0.10833734617657555, 'f_rp3_beta': 0.04572018715071453, 'f_rp3_topK': 143, 'b_rp3_alpha': 1.5309672045998263e-05, 'b_rp3_beta': 5.077514180549514e-05, 'b_rp3_topK': 68}. Best is trial 111 with value: 0.04795321817199273.\n"
     ]
    },
    {
     "name": "stdout",
     "output_type": "stream",
     "text": [
      "TwoWayRankAggregationRecommender: URM Detected 627 ( 4.8%) users with no interactions.\n",
      "TwoWayRankAggregationRecommender: URM Detected 247 ( 1.1%) items with no interactions.\n",
      "P3alphaRecommender: URM Detected 627 ( 4.8%) users with no interactions.\n",
      "P3alphaRecommender: URM Detected 247 ( 1.1%) items with no interactions.\n",
      "RP3betaRecommender: URM Detected 247 ( 1.1%) users with no interactions.\n",
      "RP3betaRecommender: URM Detected 627 ( 4.8%) items with no interactions.\n",
      "P3alphaRecommender: Similarity column 22347 (100.0%), 3298.06 column/sec. Elapsed time 6.78 sec\n",
      "RP3betaRecommender: Similarity column 13024 (100.0%), 1929.21 column/sec. Elapsed time 6.75 sec\n",
      "EvaluatorHoldout: Processed 10456 (100.0%) in 52.49 sec. Users per second: 199\n"
     ]
    },
    {
     "name": "stderr",
     "output_type": "stream",
     "text": [
      "[I 2023-12-24 20:19:09,610] Trial 128 finished with value: 0.04787768244252635 and parameters: {'base_f_algorithm': 'p3alpha', 'base_b_algorithm': 'rp3beta', 'convex_lambda': 0.22900025778030542, 'f_p3a_alpha': 0.18869675349129894, 'f_p3a_topK': 33, 'b_rp3_alpha': 3.1909670273011806e-05, 'b_rp3_beta': 0.00031552723258934364, 'b_rp3_topK': 102}. Best is trial 111 with value: 0.04795321817199273.\n"
     ]
    },
    {
     "name": "stdout",
     "output_type": "stream",
     "text": [
      "TwoWayRankAggregationRecommender: URM Detected 627 ( 4.8%) users with no interactions.\n",
      "TwoWayRankAggregationRecommender: URM Detected 247 ( 1.1%) items with no interactions.\n",
      "P3alphaRecommender: URM Detected 627 ( 4.8%) users with no interactions.\n",
      "P3alphaRecommender: URM Detected 247 ( 1.1%) items with no interactions.\n",
      "RP3betaRecommender: URM Detected 247 ( 1.1%) users with no interactions.\n",
      "RP3betaRecommender: URM Detected 627 ( 4.8%) items with no interactions.\n",
      "P3alphaRecommender: Similarity column 22347 (100.0%), 3604.32 column/sec. Elapsed time 6.20 sec\n",
      "RP3betaRecommender: Similarity column 13024 (100.0%), 1711.84 column/sec. Elapsed time 7.61 sec\n",
      "EvaluatorHoldout: Processed 10456 (100.0%) in 53.76 sec. Users per second: 194\n"
     ]
    },
    {
     "name": "stderr",
     "output_type": "stream",
     "text": [
      "[I 2023-12-24 20:20:20,795] Trial 129 finished with value: 0.04702096692413335 and parameters: {'base_f_algorithm': 'p3alpha', 'base_b_algorithm': 'rp3beta', 'convex_lambda': 0.3044285540978216, 'f_p3a_alpha': 0.17435582689518184, 'f_p3a_topK': 19, 'b_rp3_alpha': 2.4178868082005904e-05, 'b_rp3_beta': 0.00014924021619243258, 'b_rp3_topK': 133}. Best is trial 111 with value: 0.04795321817199273.\n"
     ]
    },
    {
     "name": "stdout",
     "output_type": "stream",
     "text": [
      "TwoWayRankAggregationRecommender: URM Detected 627 ( 4.8%) users with no interactions.\n",
      "TwoWayRankAggregationRecommender: URM Detected 247 ( 1.1%) items with no interactions.\n",
      "P3alphaRecommender: URM Detected 627 ( 4.8%) users with no interactions.\n",
      "P3alphaRecommender: URM Detected 247 ( 1.1%) items with no interactions.\n",
      "RP3betaRecommender: URM Detected 247 ( 1.1%) users with no interactions.\n",
      "RP3betaRecommender: URM Detected 627 ( 4.8%) items with no interactions.\n",
      "P3alphaRecommender: Similarity column 22347 (100.0%), 3747.48 column/sec. Elapsed time 5.96 sec\n",
      "RP3betaRecommender: Similarity column 13024 (100.0%), 2104.32 column/sec. Elapsed time 6.19 sec\n",
      "EvaluatorHoldout: Processed 10456 (100.0%) in 51.76 sec. Users per second: 202\n"
     ]
    },
    {
     "name": "stderr",
     "output_type": "stream",
     "text": [
      "[I 2023-12-24 20:21:27,449] Trial 130 finished with value: 0.045863740420933066 and parameters: {'base_f_algorithm': 'p3alpha', 'base_b_algorithm': 'rp3beta', 'convex_lambda': 0.2310309690634991, 'f_p3a_alpha': 0.3788065238942606, 'f_p3a_topK': 16, 'b_rp3_alpha': 1.3161233828210487e-05, 'b_rp3_beta': 7.378082532478542e-05, 'b_rp3_topK': 84}. Best is trial 111 with value: 0.04795321817199273.\n"
     ]
    },
    {
     "name": "stdout",
     "output_type": "stream",
     "text": [
      "TwoWayRankAggregationRecommender: URM Detected 627 ( 4.8%) users with no interactions.\n",
      "TwoWayRankAggregationRecommender: URM Detected 247 ( 1.1%) items with no interactions.\n",
      "P3alphaRecommender: URM Detected 627 ( 4.8%) users with no interactions.\n",
      "P3alphaRecommender: URM Detected 247 ( 1.1%) items with no interactions.\n",
      "RP3betaRecommender: URM Detected 247 ( 1.1%) users with no interactions.\n",
      "RP3betaRecommender: URM Detected 627 ( 4.8%) items with no interactions.\n",
      "P3alphaRecommender: Similarity column 22347 (100.0%), 3326.85 column/sec. Elapsed time 6.72 sec\n",
      "RP3betaRecommender: Similarity column 13024 (100.0%), 1928.64 column/sec. Elapsed time 6.75 sec\n",
      "EvaluatorHoldout: Processed 10456 (100.0%) in 52.52 sec. Users per second: 199\n"
     ]
    },
    {
     "name": "stderr",
     "output_type": "stream",
     "text": [
      "[I 2023-12-24 20:22:36,871] Trial 131 finished with value: 0.04779259800706898 and parameters: {'base_f_algorithm': 'p3alpha', 'base_b_algorithm': 'rp3beta', 'convex_lambda': 0.27593694391082996, 'f_p3a_alpha': 0.0940605304580353, 'f_p3a_topK': 33, 'b_rp3_alpha': 4.909592477977475e-05, 'b_rp3_beta': 0.0003614870379146684, 'b_rp3_topK': 107}. Best is trial 111 with value: 0.04795321817199273.\n"
     ]
    },
    {
     "name": "stdout",
     "output_type": "stream",
     "text": [
      "TwoWayRankAggregationRecommender: URM Detected 627 ( 4.8%) users with no interactions.\n",
      "TwoWayRankAggregationRecommender: URM Detected 247 ( 1.1%) items with no interactions.\n",
      "P3alphaRecommender: URM Detected 627 ( 4.8%) users with no interactions.\n",
      "P3alphaRecommender: URM Detected 247 ( 1.1%) items with no interactions.\n",
      "RP3betaRecommender: URM Detected 247 ( 1.1%) users with no interactions.\n",
      "RP3betaRecommender: URM Detected 627 ( 4.8%) items with no interactions.\n",
      "P3alphaRecommender: Similarity column 22347 (100.0%), 3443.23 column/sec. Elapsed time 6.49 sec\n",
      "RP3betaRecommender: Similarity column 13024 (100.0%), 2256.55 column/sec. Elapsed time 5.77 sec\n",
      "EvaluatorHoldout: Processed 10456 (100.0%) in 51.24 sec. Users per second: 204\n"
     ]
    },
    {
     "name": "stderr",
     "output_type": "stream",
     "text": [
      "[I 2023-12-24 20:23:43,118] Trial 132 finished with value: 0.04762717692279737 and parameters: {'base_f_algorithm': 'p3alpha', 'base_b_algorithm': 'rp3beta', 'convex_lambda': 0.256060466128755, 'f_p3a_alpha': 0.19148884753618892, 'f_p3a_topK': 27, 'b_rp3_alpha': 8.068628158600422e-05, 'b_rp3_beta': 0.00028469224141136965, 'b_rp3_topK': 73}. Best is trial 111 with value: 0.04795321817199273.\n"
     ]
    },
    {
     "name": "stdout",
     "output_type": "stream",
     "text": [
      "TwoWayRankAggregationRecommender: URM Detected 627 ( 4.8%) users with no interactions.\n",
      "TwoWayRankAggregationRecommender: URM Detected 247 ( 1.1%) items with no interactions.\n",
      "P3alphaRecommender: URM Detected 627 ( 4.8%) users with no interactions.\n",
      "P3alphaRecommender: URM Detected 247 ( 1.1%) items with no interactions.\n",
      "RP3betaRecommender: URM Detected 247 ( 1.1%) users with no interactions.\n",
      "RP3betaRecommender: URM Detected 627 ( 4.8%) items with no interactions.\n",
      "P3alphaRecommender: Similarity column 22347 (100.0%), 3145.08 column/sec. Elapsed time 7.11 sec\n",
      "RP3betaRecommender: Similarity column 13024 (100.0%), 1932.47 column/sec. Elapsed time 6.74 sec\n",
      "EvaluatorHoldout: Processed 10456 (100.0%) in 53.03 sec. Users per second: 197\n"
     ]
    },
    {
     "name": "stderr",
     "output_type": "stream",
     "text": [
      "[I 2023-12-24 20:24:53,566] Trial 133 finished with value: 0.04772633013929933 and parameters: {'base_f_algorithm': 'p3alpha', 'base_b_algorithm': 'rp3beta', 'convex_lambda': 0.20971980486414687, 'f_p3a_alpha': 0.36891717053676415, 'f_p3a_topK': 43, 'b_rp3_alpha': 2.8082276518187352e-05, 'b_rp3_beta': 0.00014246433976504747, 'b_rp3_topK': 101}. Best is trial 111 with value: 0.04795321817199273.\n"
     ]
    },
    {
     "name": "stdout",
     "output_type": "stream",
     "text": [
      "TwoWayRankAggregationRecommender: URM Detected 627 ( 4.8%) users with no interactions.\n",
      "TwoWayRankAggregationRecommender: URM Detected 247 ( 1.1%) items with no interactions.\n",
      "P3alphaRecommender: URM Detected 627 ( 4.8%) users with no interactions.\n",
      "P3alphaRecommender: URM Detected 247 ( 1.1%) items with no interactions.\n",
      "RP3betaRecommender: URM Detected 247 ( 1.1%) users with no interactions.\n",
      "RP3betaRecommender: URM Detected 627 ( 4.8%) items with no interactions.\n",
      "P3alphaRecommender: Similarity column 22347 (100.0%), 3573.70 column/sec. Elapsed time 6.25 sec\n",
      "RP3betaRecommender: Similarity column 13024 (100.0%), 2345.17 column/sec. Elapsed time 5.55 sec\n",
      "EvaluatorHoldout: Processed 10456 (100.0%) in 50.68 sec. Users per second: 206\n"
     ]
    },
    {
     "name": "stderr",
     "output_type": "stream",
     "text": [
      "[I 2023-12-24 20:25:58,689] Trial 134 finished with value: 0.046180096337184 and parameters: {'base_f_algorithm': 'p3alpha', 'base_b_algorithm': 'rp3beta', 'convex_lambda': 0.2263809887921152, 'f_p3a_alpha': 0.5771088221043358, 'f_p3a_topK': 22, 'b_rp3_alpha': 0.0001594478838538272, 'b_rp3_beta': 0.0004327095348060975, 'b_rp3_topK': 64}. Best is trial 111 with value: 0.04795321817199273.\n"
     ]
    },
    {
     "name": "stdout",
     "output_type": "stream",
     "text": [
      "TwoWayRankAggregationRecommender: URM Detected 627 ( 4.8%) users with no interactions.\n",
      "TwoWayRankAggregationRecommender: URM Detected 247 ( 1.1%) items with no interactions.\n",
      "P3alphaRecommender: URM Detected 627 ( 4.8%) users with no interactions.\n",
      "P3alphaRecommender: URM Detected 247 ( 1.1%) items with no interactions.\n",
      "RP3betaRecommender: URM Detected 247 ( 1.1%) users with no interactions.\n",
      "RP3betaRecommender: URM Detected 627 ( 4.8%) items with no interactions.\n",
      "P3alphaRecommender: Similarity column 22347 (100.0%), 3259.00 column/sec. Elapsed time 6.86 sec\n",
      "RP3betaRecommender: Similarity column 13024 (100.0%), 2140.89 column/sec. Elapsed time 6.08 sec\n",
      "EvaluatorHoldout: Processed 10456 (100.0%) in 51.72 sec. Users per second: 202\n"
     ]
    },
    {
     "name": "stderr",
     "output_type": "stream",
     "text": [
      "[I 2023-12-24 20:27:06,448] Trial 135 finished with value: 0.04786104431571223 and parameters: {'base_f_algorithm': 'p3alpha', 'base_b_algorithm': 'rp3beta', 'convex_lambda': 0.19576534010585178, 'f_p3a_alpha': 0.19239532529461223, 'f_p3a_topK': 35, 'b_rp3_alpha': 8.819690238422464e-05, 'b_rp3_beta': 0.00017787889762420413, 'b_rp3_topK': 82}. Best is trial 111 with value: 0.04795321817199273.\n"
     ]
    },
    {
     "name": "stdout",
     "output_type": "stream",
     "text": [
      "TwoWayRankAggregationRecommender: URM Detected 627 ( 4.8%) users with no interactions.\n",
      "TwoWayRankAggregationRecommender: URM Detected 247 ( 1.1%) items with no interactions.\n",
      "P3alphaRecommender: URM Detected 627 ( 4.8%) users with no interactions.\n",
      "P3alphaRecommender: URM Detected 247 ( 1.1%) items with no interactions.\n",
      "RP3betaRecommender: URM Detected 247 ( 1.1%) users with no interactions.\n",
      "RP3betaRecommender: URM Detected 627 ( 4.8%) items with no interactions.\n",
      "P3alphaRecommender: Similarity column 22347 (100.0%), 3377.54 column/sec. Elapsed time 6.62 sec\n",
      "RP3betaRecommender: Similarity column 13024 (100.0%), 2197.08 column/sec. Elapsed time 5.93 sec\n",
      "EvaluatorHoldout: Processed 10456 (100.0%) in 51.53 sec. Users per second: 203\n"
     ]
    },
    {
     "name": "stderr",
     "output_type": "stream",
     "text": [
      "[I 2023-12-24 20:28:13,513] Trial 136 finished with value: 0.047869928862900174 and parameters: {'base_f_algorithm': 'p3alpha', 'base_b_algorithm': 'rp3beta', 'convex_lambda': 0.19267829281637133, 'f_p3a_alpha': 0.16391249794206286, 'f_p3a_topK': 32, 'b_rp3_alpha': 4.161189586959302e-05, 'b_rp3_beta': 0.00017176959553229918, 'b_rp3_topK': 82}. Best is trial 111 with value: 0.04795321817199273.\n"
     ]
    },
    {
     "name": "stdout",
     "output_type": "stream",
     "text": [
      "TwoWayRankAggregationRecommender: URM Detected 627 ( 4.8%) users with no interactions.\n",
      "TwoWayRankAggregationRecommender: URM Detected 247 ( 1.1%) items with no interactions.\n",
      "P3alphaRecommender: URM Detected 627 ( 4.8%) users with no interactions.\n",
      "P3alphaRecommender: URM Detected 247 ( 1.1%) items with no interactions.\n",
      "RP3betaRecommender: URM Detected 247 ( 1.1%) users with no interactions.\n",
      "RP3betaRecommender: URM Detected 627 ( 4.8%) items with no interactions.\n",
      "P3alphaRecommender: Similarity column 22347 (100.0%), 3205.18 column/sec. Elapsed time 6.97 sec\n",
      "RP3betaRecommender: Similarity column 13024 (100.0%), 2035.47 column/sec. Elapsed time 6.40 sec\n",
      "EvaluatorHoldout: Processed 10456 (100.0%) in 52.29 sec. Users per second: 200\n"
     ]
    },
    {
     "name": "stderr",
     "output_type": "stream",
     "text": [
      "[I 2023-12-24 20:29:22,590] Trial 137 finished with value: 0.04763833479068823 and parameters: {'base_f_algorithm': 'p3alpha', 'base_b_algorithm': 'rp3beta', 'convex_lambda': 0.2027068916635949, 'f_p3a_alpha': 0.11141484354543943, 'f_p3a_topK': 40, 'b_rp3_alpha': 3.5165049665676085e-05, 'b_rp3_beta': 8.650749744480031e-05, 'b_rp3_topK': 95}. Best is trial 111 with value: 0.04795321817199273.\n"
     ]
    },
    {
     "name": "stdout",
     "output_type": "stream",
     "text": [
      "TwoWayRankAggregationRecommender: URM Detected 627 ( 4.8%) users with no interactions.\n",
      "TwoWayRankAggregationRecommender: URM Detected 247 ( 1.1%) items with no interactions.\n",
      "P3alphaRecommender: URM Detected 627 ( 4.8%) users with no interactions.\n",
      "P3alphaRecommender: URM Detected 247 ( 1.1%) items with no interactions.\n",
      "RP3betaRecommender: URM Detected 247 ( 1.1%) users with no interactions.\n",
      "RP3betaRecommender: URM Detected 627 ( 4.8%) items with no interactions.\n",
      "P3alphaRecommender: Similarity column 22347 (100.0%), 2946.32 column/sec. Elapsed time 7.58 sec\n",
      "RP3betaRecommender: Similarity column 13024 (100.0%), 1812.31 column/sec. Elapsed time 7.19 sec\n",
      "EvaluatorHoldout: Processed 10456 (100.0%) in 53.96 sec. Users per second: 194\n"
     ]
    },
    {
     "name": "stderr",
     "output_type": "stream",
     "text": [
      "[I 2023-12-24 20:30:35,291] Trial 138 finished with value: 0.047441356675289925 and parameters: {'base_f_algorithm': 'p3alpha', 'base_b_algorithm': 'rp3beta', 'convex_lambda': 0.2922765425638066, 'f_p3a_alpha': 0.16851125072380874, 'f_p3a_topK': 50, 'b_rp3_alpha': 5.024065769132005e-05, 'b_rp3_beta': 5.054725627368571e-05, 'b_rp3_topK': 123}. Best is trial 111 with value: 0.04795321817199273.\n"
     ]
    },
    {
     "name": "stdout",
     "output_type": "stream",
     "text": [
      "TwoWayRankAggregationRecommender: URM Detected 627 ( 4.8%) users with no interactions.\n",
      "TwoWayRankAggregationRecommender: URM Detected 247 ( 1.1%) items with no interactions.\n",
      "P3alphaRecommender: URM Detected 627 ( 4.8%) users with no interactions.\n",
      "P3alphaRecommender: URM Detected 247 ( 1.1%) items with no interactions.\n",
      "RP3betaRecommender: URM Detected 247 ( 1.1%) users with no interactions.\n",
      "RP3betaRecommender: URM Detected 627 ( 4.8%) items with no interactions.\n",
      "P3alphaRecommender: Similarity column 22347 (100.0%), 3431.27 column/sec. Elapsed time 6.51 sec\n",
      "RP3betaRecommender: Similarity column 13024 (100.0%), 2182.63 column/sec. Elapsed time 5.97 sec\n",
      "EvaluatorHoldout: Processed 10456 (100.0%) in 51.60 sec. Users per second: 203\n"
     ]
    },
    {
     "name": "stderr",
     "output_type": "stream",
     "text": [
      "[I 2023-12-24 20:31:42,200] Trial 139 finished with value: 0.0468491699153529 and parameters: {'base_f_algorithm': 'p3alpha', 'base_b_algorithm': 'rp3beta', 'convex_lambda': 0.18587164871497935, 'f_p3a_alpha': 0.07483620351196849, 'f_p3a_topK': 27, 'b_rp3_alpha': 2.663512585543846e-05, 'b_rp3_beta': 0.0002622737891966819, 'b_rp3_topK': 79}. Best is trial 111 with value: 0.04795321817199273.\n"
     ]
    },
    {
     "name": "stdout",
     "output_type": "stream",
     "text": [
      "TwoWayRankAggregationRecommender: URM Detected 627 ( 4.8%) users with no interactions.\n",
      "TwoWayRankAggregationRecommender: URM Detected 247 ( 1.1%) items with no interactions.\n",
      "P3alphaRecommender: URM Detected 627 ( 4.8%) users with no interactions.\n",
      "P3alphaRecommender: URM Detected 247 ( 1.1%) items with no interactions.\n",
      "RP3betaRecommender: URM Detected 247 ( 1.1%) users with no interactions.\n",
      "RP3betaRecommender: URM Detected 627 ( 4.8%) items with no interactions.\n",
      "P3alphaRecommender: Similarity column 22347 (100.0%), 3588.60 column/sec. Elapsed time 6.23 sec\n",
      "RP3betaRecommender: Similarity column 13024 (100.0%), 2567.20 column/sec. Elapsed time 5.07 sec\n",
      "EvaluatorHoldout: Processed 10456 (100.0%) in 50.65 sec. Users per second: 206\n"
     ]
    },
    {
     "name": "stderr",
     "output_type": "stream",
     "text": [
      "[I 2023-12-24 20:32:46,602] Trial 140 finished with value: 0.04708170519546841 and parameters: {'base_f_algorithm': 'p3alpha', 'base_b_algorithm': 'rp3beta', 'convex_lambda': 0.2687728998072515, 'f_p3a_alpha': 0.18228975571904008, 'f_p3a_topK': 23, 'b_rp3_alpha': 1.0328768065635764e-05, 'b_rp3_beta': 0.00013057777412192132, 'b_rp3_topK': 56}. Best is trial 111 with value: 0.04795321817199273.\n"
     ]
    },
    {
     "name": "stdout",
     "output_type": "stream",
     "text": [
      "TwoWayRankAggregationRecommender: URM Detected 627 ( 4.8%) users with no interactions.\n",
      "TwoWayRankAggregationRecommender: URM Detected 247 ( 1.1%) items with no interactions.\n",
      "P3alphaRecommender: URM Detected 627 ( 4.8%) users with no interactions.\n",
      "P3alphaRecommender: URM Detected 247 ( 1.1%) items with no interactions.\n",
      "RP3betaRecommender: URM Detected 247 ( 1.1%) users with no interactions.\n",
      "RP3betaRecommender: URM Detected 627 ( 4.8%) items with no interactions.\n",
      "P3alphaRecommender: Similarity column 22347 (100.0%), 3300.67 column/sec. Elapsed time 6.77 sec\n",
      "RP3betaRecommender: Similarity column 13024 (100.0%), 2219.48 column/sec. Elapsed time 5.87 sec\n",
      "EvaluatorHoldout: Processed 10456 (100.0%) in 52.01 sec. Users per second: 201\n"
     ]
    },
    {
     "name": "stderr",
     "output_type": "stream",
     "text": [
      "[I 2023-12-24 20:33:54,158] Trial 141 finished with value: 0.04782795023135563 and parameters: {'base_f_algorithm': 'p3alpha', 'base_b_algorithm': 'rp3beta', 'convex_lambda': 0.24162747251018815, 'f_p3a_alpha': 0.348051872770464, 'f_p3a_topK': 31, 'b_rp3_alpha': 7.094180765722706e-05, 'b_rp3_beta': 0.00018701357529966642, 'b_rp3_topK': 77}. Best is trial 111 with value: 0.04795321817199273.\n"
     ]
    },
    {
     "name": "stdout",
     "output_type": "stream",
     "text": [
      "TwoWayRankAggregationRecommender: URM Detected 627 ( 4.8%) users with no interactions.\n",
      "TwoWayRankAggregationRecommender: URM Detected 247 ( 1.1%) items with no interactions.\n",
      "P3alphaRecommender: URM Detected 627 ( 4.8%) users with no interactions.\n",
      "P3alphaRecommender: URM Detected 247 ( 1.1%) items with no interactions.\n",
      "RP3betaRecommender: URM Detected 247 ( 1.1%) users with no interactions.\n",
      "RP3betaRecommender: URM Detected 627 ( 4.8%) items with no interactions.\n",
      "P3alphaRecommender: Similarity column 22347 (100.0%), 3284.20 column/sec. Elapsed time 6.80 sec\n",
      "RP3betaRecommender: Similarity column 13024 (100.0%), 2458.91 column/sec. Elapsed time 5.30 sec\n",
      "EvaluatorHoldout: Processed 10456 (100.0%) in 50.57 sec. Users per second: 207\n"
     ]
    },
    {
     "name": "stderr",
     "output_type": "stream",
     "text": [
      "[I 2023-12-24 20:34:59,476] Trial 142 finished with value: 0.047455793590071356 and parameters: {'base_f_algorithm': 'p3alpha', 'base_b_algorithm': 'rp3beta', 'convex_lambda': 0.31562849292631123, 'f_p3a_alpha': 0.5086217150684097, 'f_p3a_topK': 34, 'b_rp3_alpha': 0.00015175656031595118, 'b_rp3_beta': 0.0001725221828817289, 'b_rp3_topK': 57}. Best is trial 111 with value: 0.04795321817199273.\n"
     ]
    },
    {
     "name": "stdout",
     "output_type": "stream",
     "text": [
      "TwoWayRankAggregationRecommender: URM Detected 627 ( 4.8%) users with no interactions.\n",
      "TwoWayRankAggregationRecommender: URM Detected 247 ( 1.1%) items with no interactions.\n",
      "P3alphaRecommender: URM Detected 627 ( 4.8%) users with no interactions.\n",
      "P3alphaRecommender: URM Detected 247 ( 1.1%) items with no interactions.\n",
      "RP3betaRecommender: URM Detected 247 ( 1.1%) users with no interactions.\n",
      "RP3betaRecommender: URM Detected 627 ( 4.8%) items with no interactions.\n",
      "P3alphaRecommender: Similarity column 22347 (100.0%), 3421.51 column/sec. Elapsed time 6.53 sec\n",
      "RP3betaRecommender: Similarity column 13024 (100.0%), 2109.47 column/sec. Elapsed time 6.17 sec\n",
      "EvaluatorHoldout: Processed 10456 (100.0%) in 51.80 sec. Users per second: 202\n"
     ]
    },
    {
     "name": "stderr",
     "output_type": "stream",
     "text": [
      "[I 2023-12-24 20:36:06,931] Trial 143 finished with value: 0.04795083858588135 and parameters: {'base_f_algorithm': 'p3alpha', 'base_b_algorithm': 'rp3beta', 'convex_lambda': 0.22218107666125714, 'f_p3a_alpha': 0.3140946185268036, 'f_p3a_topK': 30, 'b_rp3_alpha': 0.0004559153954107377, 'b_rp3_beta': 0.0002782455373172546, 'b_rp3_topK': 87}. Best is trial 111 with value: 0.04795321817199273.\n"
     ]
    },
    {
     "name": "stdout",
     "output_type": "stream",
     "text": [
      "TwoWayRankAggregationRecommender: URM Detected 627 ( 4.8%) users with no interactions.\n",
      "TwoWayRankAggregationRecommender: URM Detected 247 ( 1.1%) items with no interactions.\n",
      "P3alphaRecommender: URM Detected 627 ( 4.8%) users with no interactions.\n",
      "P3alphaRecommender: URM Detected 247 ( 1.1%) items with no interactions.\n",
      "RP3betaRecommender: URM Detected 247 ( 1.1%) users with no interactions.\n",
      "RP3betaRecommender: URM Detected 627 ( 4.8%) items with no interactions.\n",
      "P3alphaRecommender: Similarity column 22347 (100.0%), 3232.58 column/sec. Elapsed time 6.91 sec\n",
      "RP3betaRecommender: Similarity column 13024 (100.0%), 1979.87 column/sec. Elapsed time 6.58 sec\n",
      "EvaluatorHoldout: Processed 10456 (100.0%) in 52.28 sec. Users per second: 200\n"
     ]
    },
    {
     "name": "stderr",
     "output_type": "stream",
     "text": [
      "[I 2023-12-24 20:37:16,166] Trial 144 finished with value: 0.04559057759803802 and parameters: {'base_f_algorithm': 'p3alpha', 'base_b_algorithm': 'rp3beta', 'convex_lambda': 0.1857519846272073, 'f_p3a_alpha': 0.746443848043343, 'f_p3a_topK': 38, 'b_rp3_alpha': 0.0005760966616441996, 'b_rp3_beta': 0.0002597845107954468, 'b_rp3_topK': 100}. Best is trial 111 with value: 0.04795321817199273.\n"
     ]
    },
    {
     "name": "stdout",
     "output_type": "stream",
     "text": [
      "TwoWayRankAggregationRecommender: URM Detected 627 ( 4.8%) users with no interactions.\n",
      "TwoWayRankAggregationRecommender: URM Detected 247 ( 1.1%) items with no interactions.\n",
      "HHPRecommender: URM Detected 627 ( 4.8%) users with no interactions.\n",
      "HHPRecommender: URM Detected 247 ( 1.1%) items with no interactions.\n",
      "RP3betaRecommender: URM Detected 247 ( 1.1%) users with no interactions.\n",
      "RP3betaRecommender: URM Detected 627 ( 4.8%) items with no interactions.\n",
      "HHPRecommender: Similarity column 22347 (100.0%), 2033.99 column/sec. Elapsed time 10.99 sec\n",
      "RP3betaRecommender: Similarity column 13024 (100.0%), 2050.37 column/sec. Elapsed time 6.35 sec\n",
      "EvaluatorHoldout: Processed 10456 (100.0%) in 53.40 sec. Users per second: 196\n"
     ]
    },
    {
     "name": "stderr",
     "output_type": "stream",
     "text": [
      "[I 2023-12-24 20:38:32,118] Trial 145 finished with value: 0.03909876307064565 and parameters: {'base_f_algorithm': 'hhp', 'base_b_algorithm': 'rp3beta', 'convex_lambda': 0.2079200322504023, 'f_hhp_hybrid_lambda': 0.6731211222941486, 'f_hhp_topK': 69, 'b_rp3_alpha': 0.0004685454218500105, 'b_rp3_beta': 0.00011254721950748958, 'b_rp3_topK': 89}. Best is trial 111 with value: 0.04795321817199273.\n"
     ]
    },
    {
     "name": "stdout",
     "output_type": "stream",
     "text": [
      "TwoWayRankAggregationRecommender: URM Detected 627 ( 4.8%) users with no interactions.\n",
      "TwoWayRankAggregationRecommender: URM Detected 247 ( 1.1%) items with no interactions.\n",
      "P3alphaRecommender: URM Detected 627 ( 4.8%) users with no interactions.\n",
      "P3alphaRecommender: URM Detected 247 ( 1.1%) items with no interactions.\n",
      "P3alphaRecommender: URM Detected 247 ( 1.1%) users with no interactions.\n",
      "P3alphaRecommender: URM Detected 627 ( 4.8%) items with no interactions.\n",
      "P3alphaRecommender: Similarity column 22347 (100.0%), 3507.98 column/sec. Elapsed time 6.37 sec\n",
      "P3alphaRecommender: Similarity column 13024 (100.0%), 4095.86 column/sec. Elapsed time 3.18 sec\n",
      "EvaluatorHoldout: Processed 10456 (100.0%) in 41.64 sec. Users per second: 251\n"
     ]
    },
    {
     "name": "stderr",
     "output_type": "stream",
     "text": [
      "[I 2023-12-24 20:39:24,937] Trial 146 finished with value: 0.04366608068884334 and parameters: {'base_f_algorithm': 'p3alpha', 'base_b_algorithm': 'p3', 'convex_lambda': 0.22686507978763581, 'f_p3a_alpha': 0.2124165419516009, 'f_p3a_topK': 24, 'b_p3_topK': 7}. Best is trial 111 with value: 0.04795321817199273.\n"
     ]
    },
    {
     "name": "stdout",
     "output_type": "stream",
     "text": [
      "TwoWayRankAggregationRecommender: URM Detected 627 ( 4.8%) users with no interactions.\n",
      "TwoWayRankAggregationRecommender: URM Detected 247 ( 1.1%) items with no interactions.\n",
      "P3alphaRecommender: URM Detected 627 ( 4.8%) users with no interactions.\n",
      "P3alphaRecommender: URM Detected 247 ( 1.1%) items with no interactions.\n",
      "RP3betaRecommender: URM Detected 247 ( 1.1%) users with no interactions.\n",
      "RP3betaRecommender: URM Detected 627 ( 4.8%) items with no interactions.\n",
      "P3alphaRecommender: Similarity column 22347 (100.0%), 3422.76 column/sec. Elapsed time 6.53 sec\n",
      "RP3betaRecommender: Similarity column 13024 (100.0%), 2148.83 column/sec. Elapsed time 6.06 sec\n",
      "EvaluatorHoldout: Processed 10456 (100.0%) in 51.73 sec. Users per second: 202\n"
     ]
    },
    {
     "name": "stderr",
     "output_type": "stream",
     "text": [
      "[I 2023-12-24 20:40:32,160] Trial 147 finished with value: 0.04765660864575437 and parameters: {'base_f_algorithm': 'p3alpha', 'base_b_algorithm': 'rp3beta', 'convex_lambda': 0.2620058228901485, 'f_p3a_alpha': 0.13409569541878724, 'f_p3a_topK': 29, 'b_rp3_alpha': 0.00025103378405494614, 'b_rp3_beta': 0.0004871865101364362, 'b_rp3_topK': 81}. Best is trial 111 with value: 0.04795321817199273.\n"
     ]
    },
    {
     "name": "stdout",
     "output_type": "stream",
     "text": [
      "TwoWayRankAggregationRecommender: URM Detected 627 ( 4.8%) users with no interactions.\n",
      "TwoWayRankAggregationRecommender: URM Detected 247 ( 1.1%) items with no interactions.\n",
      "P3alphaRecommender: URM Detected 627 ( 4.8%) users with no interactions.\n",
      "P3alphaRecommender: URM Detected 247 ( 1.1%) items with no interactions.\n",
      "RP3betaRecommender: URM Detected 247 ( 1.1%) users with no interactions.\n",
      "RP3betaRecommender: URM Detected 627 ( 4.8%) items with no interactions.\n",
      "P3alphaRecommender: Similarity column 22347 (100.0%), 536.19 column/sec. Elapsed time 41.68 sec\n",
      "RP3betaRecommender: Similarity column 13024 (100.0%), 2502.19 column/sec. Elapsed time 5.21 sec\n",
      "EvaluatorHoldout: Processed 10456 (100.0%) in 55.09 sec. Users per second: 190\n"
     ]
    },
    {
     "name": "stderr",
     "output_type": "stream",
     "text": [
      "[I 2023-12-24 20:42:44,739] Trial 148 finished with value: 0.03357286694963653 and parameters: {'base_f_algorithm': 'p3', 'base_b_algorithm': 'rp3beta', 'convex_lambda': 0.1741928571629439, 'f_p3_topK': 1360, 'b_rp3_alpha': 5.6641347409182506e-05, 'b_rp3_beta': 0.00031957790772368835, 'b_rp3_topK': 49}. Best is trial 111 with value: 0.04795321817199273.\n"
     ]
    },
    {
     "name": "stdout",
     "output_type": "stream",
     "text": [
      "TwoWayRankAggregationRecommender: URM Detected 627 ( 4.8%) users with no interactions.\n",
      "TwoWayRankAggregationRecommender: URM Detected 247 ( 1.1%) items with no interactions.\n",
      "P3alphaRecommender: URM Detected 627 ( 4.8%) users with no interactions.\n",
      "P3alphaRecommender: URM Detected 247 ( 1.1%) items with no interactions.\n",
      "P3alphaRecommender: URM Detected 247 ( 1.1%) users with no interactions.\n",
      "P3alphaRecommender: URM Detected 627 ( 4.8%) items with no interactions.\n",
      "P3alphaRecommender: Similarity column 22347 (100.0%), 3121.14 column/sec. Elapsed time 7.16 sec\n",
      "P3alphaRecommender: Similarity column 13024 (100.0%), 3535.68 column/sec. Elapsed time 3.68 sec\n",
      "EvaluatorHoldout: Processed 10456 (100.0%) in 45.98 sec. Users per second: 227\n"
     ]
    },
    {
     "name": "stderr",
     "output_type": "stream",
     "text": [
      "[I 2023-12-24 20:43:43,743] Trial 149 finished with value: 0.0477362166174816 and parameters: {'base_f_algorithm': 'p3alpha', 'base_b_algorithm': 'p3alpha', 'convex_lambda': 0.14441578889847695, 'f_p3a_alpha': 0.3041305815902095, 'f_p3a_topK': 40, 'b_p3a_alpha': 0.15569899668863177, 'b_p3a_topK': 26}. Best is trial 111 with value: 0.04795321817199273.\n"
     ]
    },
    {
     "name": "stdout",
     "output_type": "stream",
     "text": [
      "TwoWayRankAggregationRecommender: URM Detected 627 ( 4.8%) users with no interactions.\n",
      "TwoWayRankAggregationRecommender: URM Detected 247 ( 1.1%) items with no interactions.\n",
      "P3alphaRecommender: URM Detected 627 ( 4.8%) users with no interactions.\n",
      "P3alphaRecommender: URM Detected 247 ( 1.1%) items with no interactions.\n",
      "RP3betaRecommender: URM Detected 247 ( 1.1%) users with no interactions.\n",
      "RP3betaRecommender: URM Detected 627 ( 4.8%) items with no interactions.\n",
      "P3alphaRecommender: Similarity column 22347 (100.0%), 3631.16 column/sec. Elapsed time 6.15 sec\n",
      "RP3betaRecommender: Similarity column 13024 (100.0%), 1839.03 column/sec. Elapsed time 7.08 sec\n",
      "EvaluatorHoldout: Processed 10456 (100.0%) in 52.73 sec. Users per second: 198\n"
     ]
    },
    {
     "name": "stderr",
     "output_type": "stream",
     "text": [
      "[I 2023-12-24 20:44:53,044] Trial 150 finished with value: 0.046256007790773164 and parameters: {'base_f_algorithm': 'p3alpha', 'base_b_algorithm': 'rp3beta', 'convex_lambda': 0.20013062075345853, 'f_p3a_alpha': 0.09296351402819501, 'f_p3a_topK': 20, 'b_rp3_alpha': 3.879911288093041e-05, 'b_rp3_beta': 8.36111541145549e-05, 'b_rp3_topK': 114}. Best is trial 111 with value: 0.04795321817199273.\n"
     ]
    },
    {
     "name": "stdout",
     "output_type": "stream",
     "text": [
      "TwoWayRankAggregationRecommender: URM Detected 627 ( 4.8%) users with no interactions.\n",
      "TwoWayRankAggregationRecommender: URM Detected 247 ( 1.1%) items with no interactions.\n",
      "P3alphaRecommender: URM Detected 627 ( 4.8%) users with no interactions.\n",
      "P3alphaRecommender: URM Detected 247 ( 1.1%) items with no interactions.\n",
      "RP3betaRecommender: URM Detected 247 ( 1.1%) users with no interactions.\n",
      "RP3betaRecommender: URM Detected 627 ( 4.8%) items with no interactions.\n",
      "P3alphaRecommender: Similarity column 22347 (100.0%), 3371.24 column/sec. Elapsed time 6.63 sec\n",
      "RP3betaRecommender: Similarity column 13024 (100.0%), 2423.71 column/sec. Elapsed time 5.37 sec\n",
      "EvaluatorHoldout: Processed 10456 (100.0%) in 51.20 sec. Users per second: 204\n"
     ]
    },
    {
     "name": "stderr",
     "output_type": "stream",
     "text": [
      "[I 2023-12-24 20:45:59,027] Trial 151 finished with value: 0.047778085188424295 and parameters: {'base_f_algorithm': 'p3alpha', 'base_b_algorithm': 'rp3beta', 'convex_lambda': 0.22449875863178254, 'f_p3a_alpha': 0.3584256783965099, 'f_p3a_topK': 32, 'b_rp3_alpha': 9.405238180762114e-05, 'b_rp3_beta': 0.00016542276964998004, 'b_rp3_topK': 66}. Best is trial 111 with value: 0.04795321817199273.\n"
     ]
    },
    {
     "name": "stdout",
     "output_type": "stream",
     "text": [
      "TwoWayRankAggregationRecommender: URM Detected 627 ( 4.8%) users with no interactions.\n",
      "TwoWayRankAggregationRecommender: URM Detected 247 ( 1.1%) items with no interactions.\n",
      "P3alphaRecommender: URM Detected 627 ( 4.8%) users with no interactions.\n",
      "P3alphaRecommender: URM Detected 247 ( 1.1%) items with no interactions.\n",
      "RP3betaRecommender: URM Detected 247 ( 1.1%) users with no interactions.\n",
      "RP3betaRecommender: URM Detected 627 ( 4.8%) items with no interactions.\n",
      "P3alphaRecommender: Similarity column 22347 (100.0%), 3359.06 column/sec. Elapsed time 6.65 sec\n",
      "RP3betaRecommender: Similarity column 13024 (100.0%), 2311.24 column/sec. Elapsed time 5.64 sec\n",
      "EvaluatorHoldout: Processed 10456 (100.0%) in 51.37 sec. Users per second: 204\n"
     ]
    },
    {
     "name": "stderr",
     "output_type": "stream",
     "text": [
      "[I 2023-12-24 20:47:05,423] Trial 152 finished with value: 0.04767755052161198 and parameters: {'base_f_algorithm': 'p3alpha', 'base_b_algorithm': 'rp3beta', 'convex_lambda': 0.26078021271055596, 'f_p3a_alpha': 0.4830699445610759, 'f_p3a_topK': 30, 'b_rp3_alpha': 0.00015126152996581643, 'b_rp3_beta': 0.00021208341483846204, 'b_rp3_topK': 67}. Best is trial 111 with value: 0.04795321817199273.\n"
     ]
    },
    {
     "name": "stdout",
     "output_type": "stream",
     "text": [
      "TwoWayRankAggregationRecommender: URM Detected 627 ( 4.8%) users with no interactions.\n",
      "TwoWayRankAggregationRecommender: URM Detected 247 ( 1.1%) items with no interactions.\n",
      "P3alphaRecommender: URM Detected 627 ( 4.8%) users with no interactions.\n",
      "P3alphaRecommender: URM Detected 247 ( 1.1%) items with no interactions.\n",
      "RP3betaRecommender: URM Detected 247 ( 1.1%) users with no interactions.\n",
      "RP3betaRecommender: URM Detected 627 ( 4.8%) items with no interactions.\n",
      "P3alphaRecommender: Similarity column 22347 (100.0%), 3270.72 column/sec. Elapsed time 6.83 sec\n",
      "RP3betaRecommender: Similarity column 13024 (100.0%), 2453.57 column/sec. Elapsed time 5.31 sec\n",
      "EvaluatorHoldout: Processed 10456 (100.0%) in 50.26 sec. Users per second: 208\n"
     ]
    },
    {
     "name": "stderr",
     "output_type": "stream",
     "text": [
      "[I 2023-12-24 20:48:10,415] Trial 153 finished with value: 0.04765515129158089 and parameters: {'base_f_algorithm': 'p3alpha', 'base_b_algorithm': 'rp3beta', 'convex_lambda': 0.2395021549769404, 'f_p3a_alpha': 0.20008647070903995, 'f_p3a_topK': 36, 'b_rp3_alpha': 0.00035721179734670756, 'b_rp3_beta': 0.0001303569679522924, 'b_rp3_topK': 57}. Best is trial 111 with value: 0.04795321817199273.\n"
     ]
    },
    {
     "name": "stdout",
     "output_type": "stream",
     "text": [
      "TwoWayRankAggregationRecommender: URM Detected 627 ( 4.8%) users with no interactions.\n",
      "TwoWayRankAggregationRecommender: URM Detected 247 ( 1.1%) items with no interactions.\n",
      "P3alphaRecommender: URM Detected 627 ( 4.8%) users with no interactions.\n",
      "P3alphaRecommender: URM Detected 247 ( 1.1%) items with no interactions.\n",
      "RP3betaRecommender: URM Detected 247 ( 1.1%) users with no interactions.\n",
      "RP3betaRecommender: URM Detected 627 ( 4.8%) items with no interactions.\n",
      "P3alphaRecommender: Similarity column 22347 (100.0%), 3476.22 column/sec. Elapsed time 6.43 sec\n",
      "RP3betaRecommender: Similarity column 13024 (100.0%), 2073.94 column/sec. Elapsed time 6.28 sec\n",
      "EvaluatorHoldout: Processed 10456 (100.0%) in 51.62 sec. Users per second: 203\n"
     ]
    },
    {
     "name": "stderr",
     "output_type": "stream",
     "text": [
      "[I 2023-12-24 20:49:17,721] Trial 154 finished with value: 0.047795842897220664 and parameters: {'base_f_algorithm': 'p3alpha', 'base_b_algorithm': 'rp3beta', 'convex_lambda': 0.19098002702900183, 'f_p3a_alpha': 0.2991993095141972, 'f_p3a_topK': 26, 'b_rp3_alpha': 0.00022545097997780933, 'b_rp3_beta': 0.00028748771679180566, 'b_rp3_topK': 90}. Best is trial 111 with value: 0.04795321817199273.\n"
     ]
    },
    {
     "name": "stdout",
     "output_type": "stream",
     "text": [
      "TwoWayRankAggregationRecommender: URM Detected 627 ( 4.8%) users with no interactions.\n",
      "TwoWayRankAggregationRecommender: URM Detected 247 ( 1.1%) items with no interactions.\n",
      "P3alphaRecommender: URM Detected 627 ( 4.8%) users with no interactions.\n",
      "P3alphaRecommender: URM Detected 247 ( 1.1%) items with no interactions.\n",
      "RP3betaRecommender: URM Detected 247 ( 1.1%) users with no interactions.\n",
      "RP3betaRecommender: URM Detected 627 ( 4.8%) items with no interactions.\n",
      "P3alphaRecommender: Similarity column 22347 (100.0%), 3102.03 column/sec. Elapsed time 7.20 sec\n",
      "RP3betaRecommender: Similarity column 13024 (100.0%), 2591.62 column/sec. Elapsed time 5.03 sec\n",
      "EvaluatorHoldout: Processed 10456 (100.0%) in 49.05 sec. Users per second: 213\n"
     ]
    },
    {
     "name": "stderr",
     "output_type": "stream",
     "text": [
      "[I 2023-12-24 20:50:21,637] Trial 155 finished with value: 0.04647370386563261 and parameters: {'base_f_algorithm': 'p3alpha', 'base_b_algorithm': 'rp3beta', 'convex_lambda': 0.2910375816965233, 'f_p3a_alpha': 0.6231136367650673, 'f_p3a_topK': 45, 'b_rp3_alpha': 0.00012183875839841495, 'b_rp3_beta': 6.452337267857559e-05, 'b_rp3_topK': 43}. Best is trial 111 with value: 0.04795321817199273.\n"
     ]
    },
    {
     "name": "stdout",
     "output_type": "stream",
     "text": [
      "TwoWayRankAggregationRecommender: URM Detected 627 ( 4.8%) users with no interactions.\n",
      "TwoWayRankAggregationRecommender: URM Detected 247 ( 1.1%) items with no interactions.\n",
      "P3alphaRecommender: URM Detected 627 ( 4.8%) users with no interactions.\n",
      "P3alphaRecommender: URM Detected 247 ( 1.1%) items with no interactions.\n",
      "HHPRecommender: URM Detected 247 ( 1.1%) users with no interactions.\n",
      "HHPRecommender: URM Detected 627 ( 4.8%) items with no interactions.\n",
      "P3alphaRecommender: Similarity column 22347 (100.0%), 3378.19 column/sec. Elapsed time 6.62 sec\n",
      "HHPRecommender: Similarity column 13024 (100.0%), 3227.28 column/sec. Elapsed time 4.04 sec\n",
      "EvaluatorHoldout: Processed 10456 (100.0%) in 43.83 sec. Users per second: 239\n"
     ]
    },
    {
     "name": "stderr",
     "output_type": "stream",
     "text": [
      "[I 2023-12-24 20:51:17,951] Trial 156 finished with value: 0.04382569133238663 and parameters: {'base_f_algorithm': 'p3alpha', 'base_b_algorithm': 'hhp', 'convex_lambda': 0.21561089244086123, 'f_p3a_alpha': 0.23458309156364834, 'f_p3a_topK': 29, 'b_hhp_hybrid_lambda': 0.22722008752429151, 'b_hhp_topK': 5}. Best is trial 111 with value: 0.04795321817199273.\n"
     ]
    },
    {
     "name": "stdout",
     "output_type": "stream",
     "text": [
      "TwoWayRankAggregationRecommender: URM Detected 627 ( 4.8%) users with no interactions.\n",
      "TwoWayRankAggregationRecommender: URM Detected 247 ( 1.1%) items with no interactions.\n",
      "P3alphaRecommender: URM Detected 627 ( 4.8%) users with no interactions.\n",
      "P3alphaRecommender: URM Detected 247 ( 1.1%) items with no interactions.\n",
      "RP3betaRecommender: URM Detected 247 ( 1.1%) users with no interactions.\n",
      "RP3betaRecommender: URM Detected 627 ( 4.8%) items with no interactions.\n",
      "P3alphaRecommender: Similarity column 22347 (100.0%), 3357.13 column/sec. Elapsed time 6.66 sec\n",
      "RP3betaRecommender: Similarity column 13024 (100.0%), 2256.14 column/sec. Elapsed time 5.77 sec\n",
      "EvaluatorHoldout: Processed 10456 (100.0%) in 51.73 sec. Users per second: 202\n"
     ]
    },
    {
     "name": "stderr",
     "output_type": "stream",
     "text": [
      "[I 2023-12-24 20:52:25,045] Trial 157 finished with value: 0.04782273563595363 and parameters: {'base_f_algorithm': 'p3alpha', 'base_b_algorithm': 'rp3beta', 'convex_lambda': 0.3346275144448729, 'f_p3a_alpha': 0.14109256716437288, 'f_p3a_topK': 34, 'b_rp3_alpha': 6.799432994862684e-05, 'b_rp3_beta': 0.0005954001554624841, 'b_rp3_topK': 77}. Best is trial 111 with value: 0.04795321817199273.\n"
     ]
    },
    {
     "name": "stdout",
     "output_type": "stream",
     "text": [
      "TwoWayRankAggregationRecommender: URM Detected 627 ( 4.8%) users with no interactions.\n",
      "TwoWayRankAggregationRecommender: URM Detected 247 ( 1.1%) items with no interactions.\n",
      "RP3betaRecommender: URM Detected 627 ( 4.8%) users with no interactions.\n",
      "RP3betaRecommender: URM Detected 247 ( 1.1%) items with no interactions.\n",
      "RP3betaRecommender: URM Detected 247 ( 1.1%) users with no interactions.\n",
      "RP3betaRecommender: URM Detected 627 ( 4.8%) items with no interactions.\n",
      "RP3betaRecommender: Similarity column 22347 (100.0%), 1061.85 column/sec. Elapsed time 21.05 sec\n",
      "RP3betaRecommender: Similarity column 13024 (100.0%), 1931.61 column/sec. Elapsed time 6.74 sec\n",
      "EvaluatorHoldout: Processed 10456 (100.0%) in 54.86 sec. Users per second: 191\n"
     ]
    },
    {
     "name": "stderr",
     "output_type": "stream",
     "text": [
      "[I 2023-12-24 20:54:02,574] Trial 158 finished with value: 0.0005463484169490285 and parameters: {'base_f_algorithm': 'rp3beta', 'base_b_algorithm': 'rp3beta', 'convex_lambda': 0.1721781135988682, 'f_rp3_alpha': 4.271361460984511, 'f_rp3_beta': 4.86890600929809, 'f_rp3_topK': 268, 'b_rp3_alpha': 2.3957351945095816e-05, 'b_rp3_beta': 9.077556382170685e-05, 'b_rp3_topK': 106}. Best is trial 111 with value: 0.04795321817199273.\n"
     ]
    },
    {
     "name": "stdout",
     "output_type": "stream",
     "text": [
      "TwoWayRankAggregationRecommender: URM Detected 627 ( 4.8%) users with no interactions.\n",
      "TwoWayRankAggregationRecommender: URM Detected 247 ( 1.1%) items with no interactions.\n",
      "P3alphaRecommender: URM Detected 627 ( 4.8%) users with no interactions.\n",
      "P3alphaRecommender: URM Detected 247 ( 1.1%) items with no interactions.\n",
      "RP3betaRecommender: URM Detected 247 ( 1.1%) users with no interactions.\n",
      "RP3betaRecommender: URM Detected 627 ( 4.8%) items with no interactions.\n",
      "P3alphaRecommender: Similarity column 22347 (100.0%), 3515.48 column/sec. Elapsed time 6.36 sec\n",
      "RP3betaRecommender: Similarity column 13024 (100.0%), 2313.47 column/sec. Elapsed time 5.63 sec\n",
      "EvaluatorHoldout: Processed 10456 (100.0%) in 52.09 sec. Users per second: 201\n"
     ]
    },
    {
     "name": "stderr",
     "output_type": "stream",
     "text": [
      "[I 2023-12-24 20:55:09,244] Trial 159 finished with value: 0.047075488669072074 and parameters: {'base_f_algorithm': 'p3alpha', 'base_b_algorithm': 'rp3beta', 'convex_lambda': 0.24597539660463463, 'f_p3a_alpha': 0.44773817154255224, 'f_p3a_topK': 25, 'b_rp3_alpha': 8.954911039213622e-05, 'b_rp3_beta': 0.00040047570637263786, 'b_rp3_topK': 67}. Best is trial 111 with value: 0.04795321817199273.\n"
     ]
    },
    {
     "name": "stdout",
     "output_type": "stream",
     "text": [
      "TwoWayRankAggregationRecommender: URM Detected 627 ( 4.8%) users with no interactions.\n",
      "TwoWayRankAggregationRecommender: URM Detected 247 ( 1.1%) items with no interactions.\n",
      "P3alphaRecommender: URM Detected 627 ( 4.8%) users with no interactions.\n",
      "P3alphaRecommender: URM Detected 247 ( 1.1%) items with no interactions.\n",
      "RP3betaRecommender: URM Detected 247 ( 1.1%) users with no interactions.\n",
      "RP3betaRecommender: URM Detected 627 ( 4.8%) items with no interactions.\n",
      "P3alphaRecommender: Similarity column 22347 (100.0%), 3182.60 column/sec. Elapsed time 7.02 sec\n",
      "RP3betaRecommender: Similarity column 13024 (100.0%), 2520.05 column/sec. Elapsed time 5.17 sec\n",
      "EvaluatorHoldout: Processed 10456 (100.0%) in 50.35 sec. Users per second: 208\n"
     ]
    },
    {
     "name": "stderr",
     "output_type": "stream",
     "text": [
      "[I 2023-12-24 20:56:14,537] Trial 160 finished with value: 0.04259185126486262 and parameters: {'base_f_algorithm': 'p3alpha', 'base_b_algorithm': 'rp3beta', 'convex_lambda': 0.11365396442214937, 'f_p3a_alpha': 0.9063876811434783, 'f_p3a_topK': 41, 'b_rp3_alpha': 1.661200319709395e-05, 'b_rp3_beta': 0.00015360577582309578, 'b_rp3_topK': 50}. Best is trial 111 with value: 0.04795321817199273.\n"
     ]
    },
    {
     "name": "stdout",
     "output_type": "stream",
     "text": [
      "TwoWayRankAggregationRecommender: URM Detected 627 ( 4.8%) users with no interactions.\n",
      "TwoWayRankAggregationRecommender: URM Detected 247 ( 1.1%) items with no interactions.\n",
      "P3alphaRecommender: URM Detected 627 ( 4.8%) users with no interactions.\n",
      "P3alphaRecommender: URM Detected 247 ( 1.1%) items with no interactions.\n",
      "RP3betaRecommender: URM Detected 247 ( 1.1%) users with no interactions.\n",
      "RP3betaRecommender: URM Detected 627 ( 4.8%) items with no interactions.\n",
      "P3alphaRecommender: Similarity column 22347 (100.0%), 3344.03 column/sec. Elapsed time 6.68 sec\n",
      "RP3betaRecommender: Similarity column 13024 (100.0%), 2116.70 column/sec. Elapsed time 6.15 sec\n",
      "EvaluatorHoldout: Processed 10456 (100.0%) in 51.96 sec. Users per second: 201\n"
     ]
    },
    {
     "name": "stderr",
     "output_type": "stream",
     "text": [
      "[I 2023-12-24 20:57:22,332] Trial 161 finished with value: 0.047858987321019314 and parameters: {'base_f_algorithm': 'p3alpha', 'base_b_algorithm': 'rp3beta', 'convex_lambda': 0.24401037978827847, 'f_p3a_alpha': 0.3765790531958691, 'f_p3a_topK': 33, 'b_rp3_alpha': 6.552898752845417e-05, 'b_rp3_beta': 0.00018112458269994898, 'b_rp3_topK': 80}. Best is trial 111 with value: 0.04795321817199273.\n"
     ]
    },
    {
     "name": "stdout",
     "output_type": "stream",
     "text": [
      "TwoWayRankAggregationRecommender: URM Detected 627 ( 4.8%) users with no interactions.\n",
      "TwoWayRankAggregationRecommender: URM Detected 247 ( 1.1%) items with no interactions.\n",
      "P3alphaRecommender: URM Detected 627 ( 4.8%) users with no interactions.\n",
      "P3alphaRecommender: URM Detected 247 ( 1.1%) items with no interactions.\n",
      "RP3betaRecommender: URM Detected 247 ( 1.1%) users with no interactions.\n",
      "RP3betaRecommender: URM Detected 627 ( 4.8%) items with no interactions.\n",
      "P3alphaRecommender: Similarity column 22347 (100.0%), 3312.76 column/sec. Elapsed time 6.75 sec\n",
      "RP3betaRecommender: Similarity column 13024 (100.0%), 2061.80 column/sec. Elapsed time 6.32 sec\n",
      "EvaluatorHoldout: Processed 10456 (100.0%) in 52.24 sec. Users per second: 200\n"
     ]
    },
    {
     "name": "stderr",
     "output_type": "stream",
     "text": [
      "[I 2023-12-24 20:58:30,791] Trial 162 finished with value: 0.047921414453310635 and parameters: {'base_f_algorithm': 'p3alpha', 'base_b_algorithm': 'rp3beta', 'convex_lambda': 0.22105530685217212, 'f_p3a_alpha': 0.3163167553400517, 'f_p3a_topK': 34, 'b_rp3_alpha': 3.9814123268343567e-05, 'b_rp3_beta': 0.00023275827750481932, 'b_rp3_topK': 92}. Best is trial 111 with value: 0.04795321817199273.\n"
     ]
    },
    {
     "name": "stdout",
     "output_type": "stream",
     "text": [
      "TwoWayRankAggregationRecommender: URM Detected 627 ( 4.8%) users with no interactions.\n",
      "TwoWayRankAggregationRecommender: URM Detected 247 ( 1.1%) items with no interactions.\n",
      "P3alphaRecommender: URM Detected 627 ( 4.8%) users with no interactions.\n",
      "P3alphaRecommender: URM Detected 247 ( 1.1%) items with no interactions.\n",
      "RP3betaRecommender: URM Detected 247 ( 1.1%) users with no interactions.\n",
      "RP3betaRecommender: URM Detected 627 ( 4.8%) items with no interactions.\n",
      "P3alphaRecommender: Similarity column 22347 (100.0%), 3242.71 column/sec. Elapsed time 6.89 sec\n",
      "RP3betaRecommender: Similarity column 13024 (100.0%), 2118.94 column/sec. Elapsed time 6.15 sec\n",
      "EvaluatorHoldout: Processed 10456 (100.0%) in 51.65 sec. Users per second: 202\n"
     ]
    },
    {
     "name": "stderr",
     "output_type": "stream",
     "text": [
      "[I 2023-12-24 20:59:38,630] Trial 163 finished with value: 0.04786112401476851 and parameters: {'base_f_algorithm': 'p3alpha', 'base_b_algorithm': 'rp3beta', 'convex_lambda': 0.20597993745204113, 'f_p3a_alpha': 0.2885988161072937, 'f_p3a_topK': 37, 'b_rp3_alpha': 4.021948424369078e-05, 'b_rp3_beta': 0.00023586053735897867, 'b_rp3_topK': 85}. Best is trial 111 with value: 0.04795321817199273.\n"
     ]
    },
    {
     "name": "stdout",
     "output_type": "stream",
     "text": [
      "TwoWayRankAggregationRecommender: URM Detected 627 ( 4.8%) users with no interactions.\n",
      "TwoWayRankAggregationRecommender: URM Detected 247 ( 1.1%) items with no interactions.\n",
      "P3alphaRecommender: URM Detected 627 ( 4.8%) users with no interactions.\n",
      "P3alphaRecommender: URM Detected 247 ( 1.1%) items with no interactions.\n",
      "RP3betaRecommender: URM Detected 247 ( 1.1%) users with no interactions.\n",
      "RP3betaRecommender: URM Detected 627 ( 4.8%) items with no interactions.\n",
      "P3alphaRecommender: Similarity column 22347 (100.0%), 3237.46 column/sec. Elapsed time 6.90 sec\n",
      "RP3betaRecommender: Similarity column 13024 (100.0%), 2013.38 column/sec. Elapsed time 6.47 sec\n",
      "EvaluatorHoldout: Processed 10456 (100.0%) in 53.04 sec. Users per second: 197\n"
     ]
    },
    {
     "name": "stderr",
     "output_type": "stream",
     "text": [
      "[I 2023-12-24 21:00:48,288] Trial 164 finished with value: 0.047815441274699826 and parameters: {'base_f_algorithm': 'p3alpha', 'base_b_algorithm': 'rp3beta', 'convex_lambda': 0.21863646089921415, 'f_p3a_alpha': 0.271012678645547, 'f_p3a_topK': 36, 'b_rp3_alpha': 5.018195200866084e-05, 'b_rp3_beta': 0.0002578342438087888, 'b_rp3_topK': 93}. Best is trial 111 with value: 0.04795321817199273.\n"
     ]
    },
    {
     "name": "stdout",
     "output_type": "stream",
     "text": [
      "TwoWayRankAggregationRecommender: URM Detected 627 ( 4.8%) users with no interactions.\n",
      "TwoWayRankAggregationRecommender: URM Detected 247 ( 1.1%) items with no interactions.\n",
      "P3alphaRecommender: URM Detected 627 ( 4.8%) users with no interactions.\n",
      "P3alphaRecommender: URM Detected 247 ( 1.1%) items with no interactions.\n",
      "RP3betaRecommender: URM Detected 247 ( 1.1%) users with no interactions.\n",
      "RP3betaRecommender: URM Detected 627 ( 4.8%) items with no interactions.\n",
      "P3alphaRecommender: Similarity column 22347 (100.0%), 3404.08 column/sec. Elapsed time 6.56 sec\n",
      "RP3betaRecommender: Similarity column 13024 (100.0%), 2131.51 column/sec. Elapsed time 6.11 sec\n",
      "EvaluatorHoldout: Processed 10456 (100.0%) in 51.60 sec. Users per second: 203\n"
     ]
    },
    {
     "name": "stderr",
     "output_type": "stream",
     "text": [
      "[I 2023-12-24 21:01:55,533] Trial 165 finished with value: 0.04781108059775881 and parameters: {'base_f_algorithm': 'p3alpha', 'base_b_algorithm': 'rp3beta', 'convex_lambda': 0.19267808564558736, 'f_p3a_alpha': 0.18578092115891814, 'f_p3a_topK': 28, 'b_rp3_alpha': 3.982415652037843e-05, 'b_rp3_beta': 0.00020843004478260474, 'b_rp3_topK': 83}. Best is trial 111 with value: 0.04795321817199273.\n"
     ]
    },
    {
     "name": "stdout",
     "output_type": "stream",
     "text": [
      "TwoWayRankAggregationRecommender: URM Detected 627 ( 4.8%) users with no interactions.\n",
      "TwoWayRankAggregationRecommender: URM Detected 247 ( 1.1%) items with no interactions.\n",
      "P3alphaRecommender: URM Detected 627 ( 4.8%) users with no interactions.\n",
      "P3alphaRecommender: URM Detected 247 ( 1.1%) items with no interactions.\n",
      "RP3betaRecommender: URM Detected 247 ( 1.1%) users with no interactions.\n",
      "RP3betaRecommender: URM Detected 627 ( 4.8%) items with no interactions.\n",
      "P3alphaRecommender: Similarity column 22347 (100.0%), 3017.34 column/sec. Elapsed time 7.41 sec\n",
      "RP3betaRecommender: Similarity column 13024 (100.0%), 1945.42 column/sec. Elapsed time 6.69 sec\n",
      "EvaluatorHoldout: Processed 10456 (100.0%) in 53.05 sec. Users per second: 197\n"
     ]
    },
    {
     "name": "stderr",
     "output_type": "stream",
     "text": [
      "[I 2023-12-24 21:03:06,373] Trial 166 finished with value: 0.047644676558458755 and parameters: {'base_f_algorithm': 'p3alpha', 'base_b_algorithm': 'rp3beta', 'convex_lambda': 0.27675074049488024, 'f_p3a_alpha': 0.1008798310358268, 'f_p3a_topK': 47, 'b_rp3_alpha': 6.22162076877842e-05, 'b_rp3_beta': 0.0007686359472524319, 'b_rp3_topK': 102}. Best is trial 111 with value: 0.04795321817199273.\n"
     ]
    },
    {
     "name": "stdout",
     "output_type": "stream",
     "text": [
      "TwoWayRankAggregationRecommender: URM Detected 627 ( 4.8%) users with no interactions.\n",
      "TwoWayRankAggregationRecommender: URM Detected 247 ( 1.1%) items with no interactions.\n",
      "P3alphaRecommender: URM Detected 627 ( 4.8%) users with no interactions.\n",
      "P3alphaRecommender: URM Detected 247 ( 1.1%) items with no interactions.\n",
      "RP3betaRecommender: URM Detected 247 ( 1.1%) users with no interactions.\n",
      "RP3betaRecommender: URM Detected 627 ( 4.8%) items with no interactions.\n",
      "P3alphaRecommender: Similarity column 22347 (100.0%), 3501.42 column/sec. Elapsed time 6.38 sec\n",
      "RP3betaRecommender: Similarity column 13024 (100.0%), 1616.19 column/sec. Elapsed time 8.06 sec\n",
      "EvaluatorHoldout: Processed 10456 (100.0%) in 54.10 sec. Users per second: 193\n"
     ]
    },
    {
     "name": "stderr",
     "output_type": "stream",
     "text": [
      "[I 2023-12-24 21:04:18,770] Trial 167 finished with value: 0.046368531472778536 and parameters: {'base_f_algorithm': 'p3alpha', 'base_b_algorithm': 'rp3beta', 'convex_lambda': 0.20776359918370238, 'f_p3a_alpha': 0.05286887554479897, 'f_p3a_topK': 23, 'b_rp3_alpha': 0.0001710198755356159, 'b_rp3_beta': 0.00036554479158397354, 'b_rp3_topK': 144}. Best is trial 111 with value: 0.04795321817199273.\n"
     ]
    },
    {
     "name": "stdout",
     "output_type": "stream",
     "text": [
      "TwoWayRankAggregationRecommender: URM Detected 627 ( 4.8%) users with no interactions.\n",
      "TwoWayRankAggregationRecommender: URM Detected 247 ( 1.1%) items with no interactions.\n",
      "P3alphaRecommender: URM Detected 627 ( 4.8%) users with no interactions.\n",
      "P3alphaRecommender: URM Detected 247 ( 1.1%) items with no interactions.\n",
      "RP3betaRecommender: URM Detected 247 ( 1.1%) users with no interactions.\n",
      "RP3betaRecommender: URM Detected 627 ( 4.8%) items with no interactions.\n",
      "P3alphaRecommender: Similarity column 22347 (100.0%), 3318.75 column/sec. Elapsed time 6.73 sec\n",
      "RP3betaRecommender: Similarity column 13024 (100.0%), 1766.06 column/sec. Elapsed time 7.37 sec\n",
      "EvaluatorHoldout: Processed 10456 (100.0%) in 53.52 sec. Users per second: 195\n"
     ]
    },
    {
     "name": "stderr",
     "output_type": "stream",
     "text": [
      "[I 2023-12-24 21:05:30,096] Trial 168 finished with value: 0.047656024186007735 and parameters: {'base_f_algorithm': 'p3alpha', 'base_b_algorithm': 'rp3beta', 'convex_lambda': 0.15924071116414157, 'f_p3a_alpha': 0.1330852543411763, 'f_p3a_topK': 32, 'b_rp3_alpha': 2.160655400179105e-05, 'b_rp3_beta': 0.0005324267975567623, 'b_rp3_topK': 125}. Best is trial 111 with value: 0.04795321817199273.\n"
     ]
    },
    {
     "name": "stdout",
     "output_type": "stream",
     "text": [
      "TwoWayRankAggregationRecommender: URM Detected 627 ( 4.8%) users with no interactions.\n",
      "TwoWayRankAggregationRecommender: URM Detected 247 ( 1.1%) items with no interactions.\n",
      "P3alphaRecommender: URM Detected 627 ( 4.8%) users with no interactions.\n",
      "P3alphaRecommender: URM Detected 247 ( 1.1%) items with no interactions.\n",
      "RP3betaRecommender: URM Detected 247 ( 1.1%) users with no interactions.\n",
      "RP3betaRecommender: URM Detected 627 ( 4.8%) items with no interactions.\n",
      "P3alphaRecommender: Similarity column 22347 (100.0%), 2747.97 column/sec. Elapsed time 8.13 sec\n",
      "RP3betaRecommender: Similarity column 13024 (100.0%), 2199.73 column/sec. Elapsed time 5.92 sec\n",
      "EvaluatorHoldout: Processed 10456 (100.0%) in 51.74 sec. Users per second: 202\n"
     ]
    },
    {
     "name": "stderr",
     "output_type": "stream",
     "text": [
      "[I 2023-12-24 21:06:39,297] Trial 169 finished with value: 0.04769210888257448 and parameters: {'base_f_algorithm': 'p3alpha', 'base_b_algorithm': 'rp3beta', 'convex_lambda': 0.22838943668193365, 'f_p3a_alpha': 0.3030349086272991, 'f_p3a_topK': 58, 'b_rp3_alpha': 0.00026894082174898815, 'b_rp3_beta': 0.0001003719131407836, 'b_rp3_topK': 78}. Best is trial 111 with value: 0.04795321817199273.\n"
     ]
    },
    {
     "name": "stdout",
     "output_type": "stream",
     "text": [
      "TwoWayRankAggregationRecommender: URM Detected 627 ( 4.8%) users with no interactions.\n",
      "TwoWayRankAggregationRecommender: URM Detected 247 ( 1.1%) items with no interactions.\n",
      "P3alphaRecommender: URM Detected 627 ( 4.8%) users with no interactions.\n",
      "P3alphaRecommender: URM Detected 247 ( 1.1%) items with no interactions.\n",
      "RP3betaRecommender: URM Detected 247 ( 1.1%) users with no interactions.\n",
      "RP3betaRecommender: URM Detected 627 ( 4.8%) items with no interactions.\n",
      "P3alphaRecommender: Similarity column 22347 (100.0%), 3138.51 column/sec. Elapsed time 7.12 sec\n",
      "RP3betaRecommender: Similarity column 13024 (100.0%), 2058.94 column/sec. Elapsed time 6.33 sec\n",
      "EvaluatorHoldout: Processed 10456 (100.0%) in 51.98 sec. Users per second: 201\n"
     ]
    },
    {
     "name": "stderr",
     "output_type": "stream",
     "text": [
      "[I 2023-12-24 21:07:48,125] Trial 170 finished with value: 0.04713188523943188 and parameters: {'base_f_algorithm': 'p3alpha', 'base_b_algorithm': 'rp3beta', 'convex_lambda': 0.1771097899327219, 'f_p3a_alpha': 0.5990558548823911, 'f_p3a_topK': 42, 'b_rp3_alpha': 8.392348026146095e-05, 'b_rp3_beta': 0.00026975762899329704, 'b_rp3_topK': 87}. Best is trial 111 with value: 0.04795321817199273.\n"
     ]
    },
    {
     "name": "stdout",
     "output_type": "stream",
     "text": [
      "TwoWayRankAggregationRecommender: URM Detected 627 ( 4.8%) users with no interactions.\n",
      "TwoWayRankAggregationRecommender: URM Detected 247 ( 1.1%) items with no interactions.\n",
      "P3alphaRecommender: URM Detected 627 ( 4.8%) users with no interactions.\n",
      "P3alphaRecommender: URM Detected 247 ( 1.1%) items with no interactions.\n",
      "RP3betaRecommender: URM Detected 247 ( 1.1%) users with no interactions.\n",
      "RP3betaRecommender: URM Detected 627 ( 4.8%) items with no interactions.\n",
      "P3alphaRecommender: Similarity column 22347 (100.0%), 3235.93 column/sec. Elapsed time 6.91 sec\n",
      "RP3betaRecommender: Similarity column 13024 (100.0%), 2353.34 column/sec. Elapsed time 5.53 sec\n",
      "EvaluatorHoldout: Processed 10456 (100.0%) in 50.54 sec. Users per second: 207\n"
     ]
    },
    {
     "name": "stderr",
     "output_type": "stream",
     "text": [
      "[I 2023-12-24 21:08:53,870] Trial 171 finished with value: 0.04785010277383148 and parameters: {'base_f_algorithm': 'p3alpha', 'base_b_algorithm': 'rp3beta', 'convex_lambda': 0.25872227717848945, 'f_p3a_alpha': 0.22724837773637704, 'f_p3a_topK': 37, 'b_rp3_alpha': 3.7581663678800175e-05, 'b_rp3_beta': 0.00012747219567419807, 'b_rp3_topK': 61}. Best is trial 111 with value: 0.04795321817199273.\n"
     ]
    },
    {
     "name": "stdout",
     "output_type": "stream",
     "text": [
      "TwoWayRankAggregationRecommender: URM Detected 627 ( 4.8%) users with no interactions.\n",
      "TwoWayRankAggregationRecommender: URM Detected 247 ( 1.1%) items with no interactions.\n",
      "P3alphaRecommender: URM Detected 627 ( 4.8%) users with no interactions.\n",
      "P3alphaRecommender: URM Detected 247 ( 1.1%) items with no interactions.\n",
      "RP3betaRecommender: URM Detected 247 ( 1.1%) users with no interactions.\n",
      "RP3betaRecommender: URM Detected 627 ( 4.8%) items with no interactions.\n",
      "P3alphaRecommender: Similarity column 22347 (100.0%), 3209.58 column/sec. Elapsed time 6.96 sec\n",
      "RP3betaRecommender: Similarity column 13024 (100.0%), 2437.47 column/sec. Elapsed time 5.34 sec\n",
      "EvaluatorHoldout: Processed 10456 (100.0%) in 50.11 sec. Users per second: 209\n"
     ]
    },
    {
     "name": "stderr",
     "output_type": "stream",
     "text": [
      "[I 2023-12-24 21:09:58,952] Trial 172 finished with value: 0.04783660327176083 and parameters: {'base_f_algorithm': 'p3alpha', 'base_b_algorithm': 'rp3beta', 'convex_lambda': 0.2546026564398955, 'f_p3a_alpha': 0.23462842717669014, 'f_p3a_topK': 37, 'b_rp3_alpha': 3.4387079184013955e-05, 'b_rp3_beta': 0.0001237562910228651, 'b_rp3_topK': 60}. Best is trial 111 with value: 0.04795321817199273.\n"
     ]
    },
    {
     "name": "stdout",
     "output_type": "stream",
     "text": [
      "TwoWayRankAggregationRecommender: URM Detected 627 ( 4.8%) users with no interactions.\n",
      "TwoWayRankAggregationRecommender: URM Detected 247 ( 1.1%) items with no interactions.\n",
      "P3alphaRecommender: URM Detected 627 ( 4.8%) users with no interactions.\n",
      "P3alphaRecommender: URM Detected 247 ( 1.1%) items with no interactions.\n",
      "RP3betaRecommender: URM Detected 247 ( 1.1%) users with no interactions.\n",
      "RP3betaRecommender: URM Detected 627 ( 4.8%) items with no interactions.\n",
      "P3alphaRecommender: Similarity column 22347 (100.0%), 3419.03 column/sec. Elapsed time 6.54 sec\n",
      "RP3betaRecommender: Similarity column 13024 (100.0%), 2256.86 column/sec. Elapsed time 5.77 sec\n",
      "EvaluatorHoldout: Processed 10456 (100.0%) in 51.58 sec. Users per second: 203\n"
     ]
    },
    {
     "name": "stderr",
     "output_type": "stream",
     "text": [
      "[I 2023-12-24 21:11:05,605] Trial 173 finished with value: 0.04779795302461775 and parameters: {'base_f_algorithm': 'p3alpha', 'base_b_algorithm': 'rp3beta', 'convex_lambda': 0.20050501963430373, 'f_p3a_alpha': 0.17722790263860383, 'f_p3a_topK': 29, 'b_rp3_alpha': 5.52444119448761e-05, 'b_rp3_beta': 0.0002035197672587955, 'b_rp3_topK': 72}. Best is trial 111 with value: 0.04795321817199273.\n"
     ]
    },
    {
     "name": "stdout",
     "output_type": "stream",
     "text": [
      "TwoWayRankAggregationRecommender: URM Detected 627 ( 4.8%) users with no interactions.\n",
      "TwoWayRankAggregationRecommender: URM Detected 247 ( 1.1%) items with no interactions.\n",
      "P3alphaRecommender: URM Detected 627 ( 4.8%) users with no interactions.\n",
      "P3alphaRecommender: URM Detected 247 ( 1.1%) items with no interactions.\n",
      "RP3betaRecommender: URM Detected 247 ( 1.1%) users with no interactions.\n",
      "RP3betaRecommender: URM Detected 627 ( 4.8%) items with no interactions.\n",
      "P3alphaRecommender: Similarity column 22347 (100.0%), 3513.36 column/sec. Elapsed time 6.36 sec\n",
      "RP3betaRecommender: Similarity column 13024 (100.0%), 2017.73 column/sec. Elapsed time 6.45 sec\n",
      "EvaluatorHoldout: Processed 10456 (100.0%) in 51.99 sec. Users per second: 201\n"
     ]
    },
    {
     "name": "stderr",
     "output_type": "stream",
     "text": [
      "[I 2023-12-24 21:12:13,561] Trial 174 finished with value: 0.04781482645340794 and parameters: {'base_f_algorithm': 'p3alpha', 'base_b_algorithm': 'rp3beta', 'convex_lambda': 0.23629106521475426, 'f_p3a_alpha': 0.39689068233274594, 'f_p3a_topK': 26, 'b_rp3_alpha': 3.667663026569584e-05, 'b_rp3_beta': 0.00014693353506310672, 'b_rp3_topK': 97}. Best is trial 111 with value: 0.04795321817199273.\n"
     ]
    },
    {
     "name": "stdout",
     "output_type": "stream",
     "text": [
      "TwoWayRankAggregationRecommender: URM Detected 627 ( 4.8%) users with no interactions.\n",
      "TwoWayRankAggregationRecommender: URM Detected 247 ( 1.1%) items with no interactions.\n",
      "P3alphaRecommender: URM Detected 627 ( 4.8%) users with no interactions.\n",
      "P3alphaRecommender: URM Detected 247 ( 1.1%) items with no interactions.\n",
      "RP3betaRecommender: URM Detected 247 ( 1.1%) users with no interactions.\n",
      "RP3betaRecommender: URM Detected 627 ( 4.8%) items with no interactions.\n",
      "P3alphaRecommender: Similarity column 22347 (100.0%), 3271.02 column/sec. Elapsed time 6.83 sec\n",
      "RP3betaRecommender: Similarity column 13024 (100.0%), 2309.66 column/sec. Elapsed time 5.64 sec\n",
      "EvaluatorHoldout: Processed 10456 (100.0%) in 51.29 sec. Users per second: 204\n"
     ]
    },
    {
     "name": "stderr",
     "output_type": "stream",
     "text": [
      "[I 2023-12-24 21:13:20,135] Trial 175 finished with value: 0.047955552215786255 and parameters: {'base_f_algorithm': 'p3alpha', 'base_b_algorithm': 'rp3beta', 'convex_lambda': 0.28380878278304894, 'f_p3a_alpha': 0.31617504341695, 'f_p3a_topK': 34, 'b_rp3_alpha': 0.0010059909551330087, 'b_rp3_beta': 0.00029497185128196716, 'b_rp3_topK': 74}. Best is trial 175 with value: 0.047955552215786255.\n"
     ]
    },
    {
     "name": "stdout",
     "output_type": "stream",
     "text": [
      "TwoWayRankAggregationRecommender: URM Detected 627 ( 4.8%) users with no interactions.\n",
      "TwoWayRankAggregationRecommender: URM Detected 247 ( 1.1%) items with no interactions.\n",
      "P3alphaRecommender: URM Detected 627 ( 4.8%) users with no interactions.\n",
      "P3alphaRecommender: URM Detected 247 ( 1.1%) items with no interactions.\n",
      "RP3betaRecommender: URM Detected 247 ( 1.1%) users with no interactions.\n",
      "RP3betaRecommender: URM Detected 627 ( 4.8%) items with no interactions.\n",
      "P3alphaRecommender: Similarity column 22347 (100.0%), 2830.68 column/sec. Elapsed time 7.89 sec\n",
      "RP3betaRecommender: Similarity column 13024 (100.0%), 2109.34 column/sec. Elapsed time 6.17 sec\n",
      "EvaluatorHoldout: Processed 10456 (100.0%) in 52.25 sec. Users per second: 200\n"
     ]
    },
    {
     "name": "stderr",
     "output_type": "stream",
     "text": [
      "[I 2023-12-24 21:14:29,943] Trial 176 finished with value: 0.0477545777619905 and parameters: {'base_f_algorithm': 'p3alpha', 'base_b_algorithm': 'rp3beta', 'convex_lambda': 0.26380005358142533, 'f_p3a_alpha': 0.3630287535730448, 'f_p3a_topK': 53, 'b_rp3_alpha': 0.0006597042036966303, 'b_rp3_beta': 0.0003826973728549255, 'b_rp3_topK': 84}. Best is trial 175 with value: 0.047955552215786255.\n"
     ]
    },
    {
     "name": "stdout",
     "output_type": "stream",
     "text": [
      "TwoWayRankAggregationRecommender: URM Detected 627 ( 4.8%) users with no interactions.\n",
      "TwoWayRankAggregationRecommender: URM Detected 247 ( 1.1%) items with no interactions.\n",
      "P3alphaRecommender: URM Detected 627 ( 4.8%) users with no interactions.\n",
      "P3alphaRecommender: URM Detected 247 ( 1.1%) items with no interactions.\n",
      "RP3betaRecommender: URM Detected 247 ( 1.1%) users with no interactions.\n",
      "RP3betaRecommender: URM Detected 627 ( 4.8%) items with no interactions.\n",
      "P3alphaRecommender: Similarity column 22347 (100.0%), 3394.61 column/sec. Elapsed time 6.58 sec\n",
      "RP3betaRecommender: Similarity column 13024 (100.0%), 1906.01 column/sec. Elapsed time 6.83 sec\n",
      "EvaluatorHoldout: Processed 10456 (100.0%) in 52.55 sec. Users per second: 199\n"
     ]
    },
    {
     "name": "stderr",
     "output_type": "stream",
     "text": [
      "[I 2023-12-24 21:15:39,258] Trial 177 finished with value: 0.047777443800780535 and parameters: {'base_f_algorithm': 'p3alpha', 'base_b_algorithm': 'rp3beta', 'convex_lambda': 0.2859577212192571, 'f_p3a_alpha': 0.12145086096503084, 'f_p3a_topK': 33, 'b_rp3_alpha': 0.0009012991124143496, 'b_rp3_beta': 0.0002707404521498907, 'b_rp3_topK': 112}. Best is trial 175 with value: 0.047955552215786255.\n"
     ]
    },
    {
     "name": "stdout",
     "output_type": "stream",
     "text": [
      "TwoWayRankAggregationRecommender: URM Detected 627 ( 4.8%) users with no interactions.\n",
      "TwoWayRankAggregationRecommender: URM Detected 247 ( 1.1%) items with no interactions.\n",
      "P3alphaRecommender: URM Detected 627 ( 4.8%) users with no interactions.\n",
      "P3alphaRecommender: URM Detected 247 ( 1.1%) items with no interactions.\n",
      "P3alphaRecommender: URM Detected 247 ( 1.1%) users with no interactions.\n",
      "P3alphaRecommender: URM Detected 627 ( 4.8%) items with no interactions.\n",
      "P3alphaRecommender: Similarity column 22347 (100.0%), 3198.07 column/sec. Elapsed time 6.99 sec\n",
      "P3alphaRecommender: Similarity column 13024 (100.0%), 3850.00 column/sec. Elapsed time 3.38 sec\n",
      "EvaluatorHoldout: Processed 10456 (100.0%) in 44.91 sec. Users per second: 233\n"
     ]
    },
    {
     "name": "stderr",
     "output_type": "stream",
     "text": [
      "[I 2023-12-24 21:16:36,635] Trial 178 finished with value: 0.042249004900353944 and parameters: {'base_f_algorithm': 'p3alpha', 'base_b_algorithm': 'p3', 'convex_lambda': 0.22010975175660202, 'f_p3a_alpha': 0.7473273371826461, 'f_p3a_topK': 41, 'b_p3_topK': 11}. Best is trial 175 with value: 0.047955552215786255.\n"
     ]
    },
    {
     "name": "stdout",
     "output_type": "stream",
     "text": [
      "TwoWayRankAggregationRecommender: URM Detected 627 ( 4.8%) users with no interactions.\n",
      "TwoWayRankAggregationRecommender: URM Detected 247 ( 1.1%) items with no interactions.\n",
      "HHPRecommender: URM Detected 627 ( 4.8%) users with no interactions.\n",
      "HHPRecommender: URM Detected 247 ( 1.1%) items with no interactions.\n",
      "P3alphaRecommender: URM Detected 247 ( 1.1%) users with no interactions.\n",
      "P3alphaRecommender: URM Detected 627 ( 4.8%) items with no interactions.\n",
      "HHPRecommender: Similarity column 22347 (100.0%), 430.20 column/sec. Elapsed time 51.95 sec\n",
      "P3alphaRecommender: Similarity column 13024 (100.0%), 5327.02 column/sec. Elapsed time 2.44 sec\n",
      "EvaluatorHoldout: Processed 10456 (100.0%) in 35.94 sec. Users per second: 291\n"
     ]
    },
    {
     "name": "stderr",
     "output_type": "stream",
     "text": [
      "[I 2023-12-24 21:18:42,317] Trial 179 finished with value: 0.031623021945325194 and parameters: {'base_f_algorithm': 'hhp', 'base_b_algorithm': 'p3alpha', 'convex_lambda': 0.2514983005709818, 'f_hhp_hybrid_lambda': 0.959679526014563, 'f_hhp_topK': 1788, 'b_p3a_alpha': 56.738706729969856, 'b_p3a_topK': 617}. Best is trial 175 with value: 0.047955552215786255.\n"
     ]
    },
    {
     "name": "stdout",
     "output_type": "stream",
     "text": [
      "TwoWayRankAggregationRecommender: URM Detected 627 ( 4.8%) users with no interactions.\n",
      "TwoWayRankAggregationRecommender: URM Detected 247 ( 1.1%) items with no interactions.\n",
      "P3alphaRecommender: URM Detected 627 ( 4.8%) users with no interactions.\n",
      "P3alphaRecommender: URM Detected 247 ( 1.1%) items with no interactions.\n",
      "RP3betaRecommender: URM Detected 247 ( 1.1%) users with no interactions.\n",
      "RP3betaRecommender: URM Detected 627 ( 4.8%) items with no interactions.\n",
      "P3alphaRecommender: Similarity column 22347 (100.0%), 3579.92 column/sec. Elapsed time 6.24 sec\n",
      "RP3betaRecommender: Similarity column 13024 (100.0%), 2263.89 column/sec. Elapsed time 5.75 sec\n",
      "EvaluatorHoldout: Processed 10456 (100.0%) in 51.39 sec. Users per second: 203\n"
     ]
    },
    {
     "name": "stderr",
     "output_type": "stream",
     "text": [
      "[I 2023-12-24 21:19:48,319] Trial 180 finished with value: 0.04747002935961502 and parameters: {'base_f_algorithm': 'p3alpha', 'base_b_algorithm': 'rp3beta', 'convex_lambda': 0.3079164971140652, 'f_p3a_alpha': 0.28244245574691407, 'f_p3a_topK': 22, 'b_rp3_alpha': 0.00045329985294792187, 'b_rp3_beta': 0.0008928014155378466, 'b_rp3_topK': 73}. Best is trial 175 with value: 0.047955552215786255.\n"
     ]
    },
    {
     "name": "stdout",
     "output_type": "stream",
     "text": [
      "TwoWayRankAggregationRecommender: URM Detected 627 ( 4.8%) users with no interactions.\n",
      "TwoWayRankAggregationRecommender: URM Detected 247 ( 1.1%) items with no interactions.\n",
      "P3alphaRecommender: URM Detected 627 ( 4.8%) users with no interactions.\n",
      "P3alphaRecommender: URM Detected 247 ( 1.1%) items with no interactions.\n",
      "RP3betaRecommender: URM Detected 247 ( 1.1%) users with no interactions.\n",
      "RP3betaRecommender: URM Detected 627 ( 4.8%) items with no interactions.\n",
      "P3alphaRecommender: Similarity column 22347 (100.0%), 3313.39 column/sec. Elapsed time 6.74 sec\n",
      "RP3betaRecommender: Similarity column 13024 (100.0%), 2435.12 column/sec. Elapsed time 5.35 sec\n",
      "EvaluatorHoldout: Processed 10456 (100.0%) in 50.46 sec. Users per second: 207\n"
     ]
    },
    {
     "name": "stderr",
     "output_type": "stream",
     "text": [
      "[I 2023-12-24 21:20:53,583] Trial 181 finished with value: 0.04774045964343472 and parameters: {'base_f_algorithm': 'p3alpha', 'base_b_algorithm': 'rp3beta', 'convex_lambda': 0.21913112039851254, 'f_p3a_alpha': 0.19660220016115748, 'f_p3a_topK': 35, 'b_rp3_alpha': 0.00012210192173602112, 'b_rp3_beta': 0.00018073144906211592, 'b_rp3_topK': 62}. Best is trial 175 with value: 0.047955552215786255.\n"
     ]
    },
    {
     "name": "stdout",
     "output_type": "stream",
     "text": [
      "TwoWayRankAggregationRecommender: URM Detected 627 ( 4.8%) users with no interactions.\n",
      "TwoWayRankAggregationRecommender: URM Detected 247 ( 1.1%) items with no interactions.\n",
      "P3alphaRecommender: URM Detected 627 ( 4.8%) users with no interactions.\n",
      "P3alphaRecommender: URM Detected 247 ( 1.1%) items with no interactions.\n",
      "RP3betaRecommender: URM Detected 247 ( 1.1%) users with no interactions.\n",
      "RP3betaRecommender: URM Detected 627 ( 4.8%) items with no interactions.\n",
      "P3alphaRecommender: Similarity column 22347 (100.0%), 3396.24 column/sec. Elapsed time 6.58 sec\n",
      "RP3betaRecommender: Similarity column 13024 (100.0%), 2242.95 column/sec. Elapsed time 5.81 sec\n",
      "EvaluatorHoldout: Processed 10456 (100.0%) in 50.94 sec. Users per second: 205\n"
     ]
    },
    {
     "name": "stderr",
     "output_type": "stream",
     "text": [
      "[I 2023-12-24 21:21:59,634] Trial 182 finished with value: 0.04762587896673658 and parameters: {'base_f_algorithm': 'p3alpha', 'base_b_algorithm': 'rp3beta', 'convex_lambda': 0.18182762607726063, 'f_p3a_alpha': 0.4643488626127557, 'f_p3a_topK': 30, 'b_rp3_alpha': 0.00018678825844954994, 'b_rp3_beta': 0.00011540743914136094, 'b_rp3_topK': 72}. Best is trial 175 with value: 0.047955552215786255.\n"
     ]
    },
    {
     "name": "stdout",
     "output_type": "stream",
     "text": [
      "TwoWayRankAggregationRecommender: URM Detected 627 ( 4.8%) users with no interactions.\n",
      "TwoWayRankAggregationRecommender: URM Detected 247 ( 1.1%) items with no interactions.\n",
      "P3alphaRecommender: URM Detected 627 ( 4.8%) users with no interactions.\n",
      "P3alphaRecommender: URM Detected 247 ( 1.1%) items with no interactions.\n",
      "RP3betaRecommender: URM Detected 247 ( 1.1%) users with no interactions.\n",
      "RP3betaRecommender: URM Detected 627 ( 4.8%) items with no interactions.\n",
      "P3alphaRecommender: Similarity column 22347 (100.0%), 3335.87 column/sec. Elapsed time 6.70 sec\n",
      "RP3betaRecommender: Similarity column 13024 (100.0%), 2092.76 column/sec. Elapsed time 6.22 sec\n",
      "EvaluatorHoldout: Processed 10456 (100.0%) in 52.24 sec. Users per second: 200\n"
     ]
    },
    {
     "name": "stderr",
     "output_type": "stream",
     "text": [
      "[I 2023-12-24 21:23:07,887] Trial 183 finished with value: 0.047703862595791374 and parameters: {'base_f_algorithm': 'p3alpha', 'base_b_algorithm': 'rp3beta', 'convex_lambda': 0.24391241865383942, 'f_p3a_alpha': 0.2630124731775741, 'f_p3a_topK': 36, 'b_rp3_alpha': 0.0003388154573313265, 'b_rp3_beta': 0.0002268822713644231, 'b_rp3_topK': 91}. Best is trial 175 with value: 0.047955552215786255.\n"
     ]
    },
    {
     "name": "stdout",
     "output_type": "stream",
     "text": [
      "TwoWayRankAggregationRecommender: URM Detected 627 ( 4.8%) users with no interactions.\n",
      "TwoWayRankAggregationRecommender: URM Detected 247 ( 1.1%) items with no interactions.\n",
      "P3alphaRecommender: URM Detected 627 ( 4.8%) users with no interactions.\n",
      "P3alphaRecommender: URM Detected 247 ( 1.1%) items with no interactions.\n",
      "RP3betaRecommender: URM Detected 247 ( 1.1%) users with no interactions.\n",
      "RP3betaRecommender: URM Detected 627 ( 4.8%) items with no interactions.\n",
      "P3alphaRecommender: Similarity column 22347 (100.0%), 3400.84 column/sec. Elapsed time 6.57 sec\n",
      "RP3betaRecommender: Similarity column 13024 (100.0%), 2514.86 column/sec. Elapsed time 5.18 sec\n",
      "EvaluatorHoldout: Processed 10456 (100.0%) in 50.19 sec. Users per second: 208\n"
     ]
    },
    {
     "name": "stderr",
     "output_type": "stream",
     "text": [
      "[I 2023-12-24 21:24:12,247] Trial 184 finished with value: 0.04725263310501526 and parameters: {'base_f_algorithm': 'p3alpha', 'base_b_algorithm': 'rp3beta', 'convex_lambda': 0.27073226258368016, 'f_p3a_alpha': 0.15697474642843642, 'f_p3a_topK': 27, 'b_rp3_alpha': 8.967665262120195e-05, 'b_rp3_beta': 0.00039430766957059617, 'b_rp3_topK': 55}. Best is trial 175 with value: 0.047955552215786255.\n"
     ]
    },
    {
     "name": "stdout",
     "output_type": "stream",
     "text": [
      "TwoWayRankAggregationRecommender: URM Detected 627 ( 4.8%) users with no interactions.\n",
      "TwoWayRankAggregationRecommender: URM Detected 247 ( 1.1%) items with no interactions.\n",
      "P3alphaRecommender: URM Detected 627 ( 4.8%) users with no interactions.\n",
      "P3alphaRecommender: URM Detected 247 ( 1.1%) items with no interactions.\n",
      "RP3betaRecommender: URM Detected 247 ( 1.1%) users with no interactions.\n",
      "RP3betaRecommender: URM Detected 627 ( 4.8%) items with no interactions.\n",
      "P3alphaRecommender: Similarity column 22347 (100.0%), 990.10 column/sec. Elapsed time 22.57 sec\n",
      "RP3betaRecommender: Similarity column 13024 (100.0%), 2139.61 column/sec. Elapsed time 6.09 sec\n",
      "EvaluatorHoldout: Processed 10456 (100.0%) in 52.12 sec. Users per second: 201\n"
     ]
    },
    {
     "name": "stderr",
     "output_type": "stream",
     "text": [
      "[I 2023-12-24 21:25:46,001] Trial 185 finished with value: 0.03962038580415646 and parameters: {'base_f_algorithm': 'p3', 'base_b_algorithm': 'rp3beta', 'convex_lambda': 0.19716060913496447, 'f_p3_topK': 397, 'b_rp3_alpha': 4.590557167137604e-05, 'b_rp3_beta': 0.0005598314199460453, 'b_rp3_topK': 83}. Best is trial 175 with value: 0.047955552215786255.\n"
     ]
    },
    {
     "name": "stdout",
     "output_type": "stream",
     "text": [
      "TwoWayRankAggregationRecommender: URM Detected 627 ( 4.8%) users with no interactions.\n",
      "TwoWayRankAggregationRecommender: URM Detected 247 ( 1.1%) items with no interactions.\n",
      "P3alphaRecommender: URM Detected 627 ( 4.8%) users with no interactions.\n",
      "P3alphaRecommender: URM Detected 247 ( 1.1%) items with no interactions.\n",
      "RP3betaRecommender: URM Detected 247 ( 1.1%) users with no interactions.\n",
      "RP3betaRecommender: URM Detected 627 ( 4.8%) items with no interactions.\n",
      "P3alphaRecommender: Similarity column 22347 (100.0%), 3129.60 column/sec. Elapsed time 7.14 sec\n",
      "RP3betaRecommender: Similarity column 13024 (100.0%), 2327.34 column/sec. Elapsed time 5.60 sec\n",
      "EvaluatorHoldout: Processed 10456 (100.0%) in 50.65 sec. Users per second: 206\n"
     ]
    },
    {
     "name": "stderr",
     "output_type": "stream",
     "text": [
      "[I 2023-12-24 21:26:52,245] Trial 186 finished with value: 0.04766197504888269 and parameters: {'base_f_algorithm': 'p3alpha', 'base_b_algorithm': 'rp3beta', 'convex_lambda': 0.15483366408929167, 'f_p3a_alpha': 0.35376566996298375, 'f_p3a_topK': 45, 'b_rp3_alpha': 0.001197714146249389, 'b_rp3_beta': 0.0003024512495977622, 'b_rp3_topK': 65}. Best is trial 175 with value: 0.047955552215786255.\n"
     ]
    },
    {
     "name": "stdout",
     "output_type": "stream",
     "text": [
      "TwoWayRankAggregationRecommender: URM Detected 627 ( 4.8%) users with no interactions.\n",
      "TwoWayRankAggregationRecommender: URM Detected 247 ( 1.1%) items with no interactions.\n",
      "P3alphaRecommender: URM Detected 627 ( 4.8%) users with no interactions.\n",
      "P3alphaRecommender: URM Detected 247 ( 1.1%) items with no interactions.\n",
      "RP3betaRecommender: URM Detected 247 ( 1.1%) users with no interactions.\n",
      "RP3betaRecommender: URM Detected 627 ( 4.8%) items with no interactions.\n",
      "P3alphaRecommender: Similarity column 22347 (100.0%), 3300.43 column/sec. Elapsed time 6.77 sec\n",
      "RP3betaRecommender: Similarity column 13024 (100.0%), 1964.84 column/sec. Elapsed time 6.63 sec\n",
      "EvaluatorHoldout: Processed 10456 (100.0%) in 51.98 sec. Users per second: 201\n"
     ]
    },
    {
     "name": "stderr",
     "output_type": "stream",
     "text": [
      "[I 2023-12-24 21:28:00,960] Trial 187 finished with value: 0.04782964668269824 and parameters: {'base_f_algorithm': 'p3alpha', 'base_b_algorithm': 'rp3beta', 'convex_lambda': 0.22903420264368193, 'f_p3a_alpha': 0.22643825319573008, 'f_p3a_topK': 32, 'b_rp3_alpha': 2.7082467474004164e-05, 'b_rp3_beta': 0.00015377799931668617, 'b_rp3_topK': 102}. Best is trial 175 with value: 0.047955552215786255.\n"
     ]
    },
    {
     "name": "stdout",
     "output_type": "stream",
     "text": [
      "TwoWayRankAggregationRecommender: URM Detected 627 ( 4.8%) users with no interactions.\n",
      "TwoWayRankAggregationRecommender: URM Detected 247 ( 1.1%) items with no interactions.\n",
      "P3alphaRecommender: URM Detected 627 ( 4.8%) users with no interactions.\n",
      "P3alphaRecommender: URM Detected 247 ( 1.1%) items with no interactions.\n",
      "RP3betaRecommender: URM Detected 247 ( 1.1%) users with no interactions.\n",
      "RP3betaRecommender: URM Detected 627 ( 4.8%) items with no interactions.\n",
      "P3alphaRecommender: Similarity column 22347 (100.0%), 3238.32 column/sec. Elapsed time 6.90 sec\n",
      "RP3betaRecommender: Similarity column 13024 (100.0%), 2214.38 column/sec. Elapsed time 5.88 sec\n",
      "EvaluatorHoldout: Processed 10456 (100.0%) in 51.29 sec. Users per second: 204\n"
     ]
    },
    {
     "name": "stderr",
     "output_type": "stream",
     "text": [
      "[I 2023-12-24 21:29:08,112] Trial 188 finished with value: 0.047811877588322345 and parameters: {'base_f_algorithm': 'p3alpha', 'base_b_algorithm': 'rp3beta', 'convex_lambda': 0.20676071800183016, 'f_p3a_alpha': 0.5039593451996245, 'f_p3a_topK': 39, 'b_rp3_alpha': 6.590277184368423e-05, 'b_rp3_beta': 8.632739515138963e-05, 'b_rp3_topK': 76}. Best is trial 175 with value: 0.047955552215786255.\n"
     ]
    },
    {
     "name": "stdout",
     "output_type": "stream",
     "text": [
      "TwoWayRankAggregationRecommender: URM Detected 627 ( 4.8%) users with no interactions.\n",
      "TwoWayRankAggregationRecommender: URM Detected 247 ( 1.1%) items with no interactions.\n",
      "P3alphaRecommender: URM Detected 627 ( 4.8%) users with no interactions.\n",
      "P3alphaRecommender: URM Detected 247 ( 1.1%) items with no interactions.\n",
      "HHPRecommender: URM Detected 247 ( 1.1%) users with no interactions.\n",
      "HHPRecommender: URM Detected 627 ( 4.8%) items with no interactions.\n",
      "P3alphaRecommender: Similarity column 22347 (100.0%), 3583.26 column/sec. Elapsed time 6.24 sec\n",
      "HHPRecommender: Similarity column 13024 (100.0%), 1805.05 column/sec. Elapsed time 7.22 sec\n",
      "EvaluatorHoldout: Processed 10456 (100.0%) in 59.88 sec. Users per second: 175\n"
     ]
    },
    {
     "name": "stderr",
     "output_type": "stream",
     "text": [
      "[I 2023-12-24 21:30:25,722] Trial 189 finished with value: 0.0463002521526342 and parameters: {'base_f_algorithm': 'p3alpha', 'base_b_algorithm': 'hhp', 'convex_lambda': 0.2839054674742007, 'f_p3a_alpha': 0.08410783815676191, 'f_p3a_topK': 25, 'b_hhp_hybrid_lambda': 0.41297054577939696, 'b_hhp_topK': 113}. Best is trial 175 with value: 0.047955552215786255.\n"
     ]
    },
    {
     "name": "stdout",
     "output_type": "stream",
     "text": [
      "TwoWayRankAggregationRecommender: URM Detected 627 ( 4.8%) users with no interactions.\n",
      "TwoWayRankAggregationRecommender: URM Detected 247 ( 1.1%) items with no interactions.\n",
      "RP3betaRecommender: URM Detected 627 ( 4.8%) users with no interactions.\n",
      "RP3betaRecommender: URM Detected 247 ( 1.1%) items with no interactions.\n",
      "RP3betaRecommender: URM Detected 247 ( 1.1%) users with no interactions.\n",
      "RP3betaRecommender: URM Detected 627 ( 4.8%) items with no interactions.\n",
      "RP3betaRecommender: Similarity column 22347 (100.0%), 646.84 column/sec. Elapsed time 34.55 sec\n",
      "RP3betaRecommender: Similarity column 13024 (100.0%), 2596.77 column/sec. Elapsed time 5.02 sec\n",
      "EvaluatorHoldout: Processed 10456 (100.0%) in 53.22 sec. Users per second: 196\n"
     ]
    },
    {
     "name": "stderr",
     "output_type": "stream",
     "text": [
      "[I 2023-12-24 21:32:20,120] Trial 190 finished with value: 0.03489367766361874 and parameters: {'base_f_algorithm': 'rp3beta', 'base_b_algorithm': 'rp3beta', 'convex_lambda': 0.12826469575291022, 'f_rp3_alpha': 0.006398802862196803, 'f_rp3_beta': 0.01630884069010333, 'f_rp3_topK': 664, 'b_rp3_alpha': 0.00024294445219491046, 'b_rp3_beta': 0.0001996727540571312, 'b_rp3_topK': 55}. Best is trial 175 with value: 0.047955552215786255.\n"
     ]
    },
    {
     "name": "stdout",
     "output_type": "stream",
     "text": [
      "TwoWayRankAggregationRecommender: URM Detected 627 ( 4.8%) users with no interactions.\n",
      "TwoWayRankAggregationRecommender: URM Detected 247 ( 1.1%) items with no interactions.\n",
      "P3alphaRecommender: URM Detected 627 ( 4.8%) users with no interactions.\n",
      "P3alphaRecommender: URM Detected 247 ( 1.1%) items with no interactions.\n",
      "RP3betaRecommender: URM Detected 247 ( 1.1%) users with no interactions.\n",
      "RP3betaRecommender: URM Detected 627 ( 4.8%) items with no interactions.\n",
      "P3alphaRecommender: Similarity column 22347 (100.0%), 3330.97 column/sec. Elapsed time 6.71 sec\n",
      "RP3betaRecommender: Similarity column 13024 (100.0%), 2701.21 column/sec. Elapsed time 4.82 sec\n",
      "EvaluatorHoldout: Processed 10456 (100.0%) in 49.39 sec. Users per second: 212\n"
     ]
    },
    {
     "name": "stderr",
     "output_type": "stream",
     "text": [
      "[I 2023-12-24 21:33:23,477] Trial 191 finished with value: 0.04734406310343636 and parameters: {'base_f_algorithm': 'p3alpha', 'base_b_algorithm': 'rp3beta', 'convex_lambda': 0.029084050504132666, 'f_p3a_alpha': 0.581916616472022, 'f_p3a_topK': 34, 'b_rp3_alpha': 1.8847103378908886e-05, 'b_rp3_beta': 5.986259100119017e-05, 'b_rp3_topK': 44}. Best is trial 175 with value: 0.047955552215786255.\n"
     ]
    },
    {
     "name": "stdout",
     "output_type": "stream",
     "text": [
      "TwoWayRankAggregationRecommender: URM Detected 627 ( 4.8%) users with no interactions.\n",
      "TwoWayRankAggregationRecommender: URM Detected 247 ( 1.1%) items with no interactions.\n",
      "P3alphaRecommender: URM Detected 627 ( 4.8%) users with no interactions.\n",
      "P3alphaRecommender: URM Detected 247 ( 1.1%) items with no interactions.\n",
      "RP3betaRecommender: URM Detected 247 ( 1.1%) users with no interactions.\n",
      "RP3betaRecommender: URM Detected 627 ( 4.8%) items with no interactions.\n",
      "P3alphaRecommender: Similarity column 22347 (100.0%), 3397.85 column/sec. Elapsed time 6.58 sec\n",
      "RP3betaRecommender: Similarity column 13024 (100.0%), 2664.84 column/sec. Elapsed time 4.89 sec\n",
      "EvaluatorHoldout: Processed 10456 (100.0%) in 49.74 sec. Users per second: 210\n"
     ]
    },
    {
     "name": "stderr",
     "output_type": "stream",
     "text": [
      "[I 2023-12-24 21:34:27,139] Trial 192 finished with value: 0.047751275943941185 and parameters: {'base_f_algorithm': 'p3alpha', 'base_b_algorithm': 'rp3beta', 'convex_lambda': 0.2492820429948561, 'f_p3a_alpha': 0.343942566346532, 'f_p3a_topK': 30, 'b_rp3_alpha': 3.0905639280935205e-05, 'b_rp3_beta': 0.00012062482138214949, 'b_rp3_topK': 49}. Best is trial 175 with value: 0.047955552215786255.\n"
     ]
    },
    {
     "name": "stdout",
     "output_type": "stream",
     "text": [
      "TwoWayRankAggregationRecommender: URM Detected 627 ( 4.8%) users with no interactions.\n",
      "TwoWayRankAggregationRecommender: URM Detected 247 ( 1.1%) items with no interactions.\n",
      "P3alphaRecommender: URM Detected 627 ( 4.8%) users with no interactions.\n",
      "P3alphaRecommender: URM Detected 247 ( 1.1%) items with no interactions.\n",
      "RP3betaRecommender: URM Detected 247 ( 1.1%) users with no interactions.\n",
      "RP3betaRecommender: URM Detected 627 ( 4.8%) items with no interactions.\n",
      "P3alphaRecommender: Similarity column 22347 (100.0%), 3288.23 column/sec. Elapsed time 6.80 sec\n",
      "RP3betaRecommender: Similarity column 13024 (100.0%), 2378.19 column/sec. Elapsed time 5.48 sec\n",
      "EvaluatorHoldout: Processed 10456 (100.0%) in 50.48 sec. Users per second: 207\n"
     ]
    },
    {
     "name": "stderr",
     "output_type": "stream",
     "text": [
      "[I 2023-12-24 21:35:32,608] Trial 193 finished with value: 0.047705274407646915 and parameters: {'base_f_algorithm': 'p3alpha', 'base_b_algorithm': 'rp3beta', 'convex_lambda': 0.08502348632484946, 'f_p3a_alpha': 0.2396708176563394, 'f_p3a_topK': 38, 'b_rp3_alpha': 3.891491069026579e-05, 'b_rp3_beta': 0.000312479000837656, 'b_rp3_topK': 61}. Best is trial 175 with value: 0.047955552215786255.\n"
     ]
    },
    {
     "name": "stdout",
     "output_type": "stream",
     "text": [
      "TwoWayRankAggregationRecommender: URM Detected 627 ( 4.8%) users with no interactions.\n",
      "TwoWayRankAggregationRecommender: URM Detected 247 ( 1.1%) items with no interactions.\n",
      "P3alphaRecommender: URM Detected 627 ( 4.8%) users with no interactions.\n",
      "P3alphaRecommender: URM Detected 247 ( 1.1%) items with no interactions.\n",
      "RP3betaRecommender: URM Detected 247 ( 1.1%) users with no interactions.\n",
      "RP3betaRecommender: URM Detected 627 ( 4.8%) items with no interactions.\n",
      "P3alphaRecommender: Similarity column 22347 (100.0%), 3462.64 column/sec. Elapsed time 6.45 sec\n",
      "RP3betaRecommender: Similarity column 13024 (100.0%), 2287.14 column/sec. Elapsed time 5.69 sec\n",
      "EvaluatorHoldout: Processed 10456 (100.0%) in 50.99 sec. Users per second: 205\n"
     ]
    },
    {
     "name": "stderr",
     "output_type": "stream",
     "text": [
      "[I 2023-12-24 21:36:38,534] Trial 194 finished with value: 0.03469309031952524 and parameters: {'base_f_algorithm': 'p3alpha', 'base_b_algorithm': 'rp3beta', 'convex_lambda': 0.04674702648919467, 'f_p3a_alpha': 1.1667622561140538, 'f_p3a_topK': 29, 'b_rp3_alpha': 0.0001279330780486556, 'b_rp3_beta': 0.0001738651222495486, 'b_rp3_topK': 69}. Best is trial 175 with value: 0.047955552215786255.\n"
     ]
    },
    {
     "name": "stdout",
     "output_type": "stream",
     "text": [
      "TwoWayRankAggregationRecommender: URM Detected 627 ( 4.8%) users with no interactions.\n",
      "TwoWayRankAggregationRecommender: URM Detected 247 ( 1.1%) items with no interactions.\n",
      "P3alphaRecommender: URM Detected 627 ( 4.8%) users with no interactions.\n",
      "P3alphaRecommender: URM Detected 247 ( 1.1%) items with no interactions.\n",
      "RP3betaRecommender: URM Detected 247 ( 1.1%) users with no interactions.\n",
      "RP3betaRecommender: URM Detected 627 ( 4.8%) items with no interactions.\n",
      "P3alphaRecommender: Similarity column 22347 (100.0%), 3010.66 column/sec. Elapsed time 7.42 sec\n",
      "RP3betaRecommender: Similarity column 13024 (100.0%), 2746.15 column/sec. Elapsed time 4.74 sec\n",
      "EvaluatorHoldout: Processed 10456 (100.0%) in 48.55 sec. Users per second: 215\n"
     ]
    },
    {
     "name": "stderr",
     "output_type": "stream",
     "text": [
      "[I 2023-12-24 21:37:41,854] Trial 195 finished with value: 0.04682635700926702 and parameters: {'base_f_algorithm': 'p3alpha', 'base_b_algorithm': 'rp3beta', 'convex_lambda': 0.43288499105931855, 'f_p3a_alpha': 0.17111379792140055, 'f_p3a_topK': 49, 'b_rp3_alpha': 6.061539529134054e-05, 'b_rp3_beta': 3.73138764991753e-05, 'b_rp3_topK': 40}. Best is trial 175 with value: 0.047955552215786255.\n"
     ]
    },
    {
     "name": "stdout",
     "output_type": "stream",
     "text": [
      "TwoWayRankAggregationRecommender: URM Detected 627 ( 4.8%) users with no interactions.\n",
      "TwoWayRankAggregationRecommender: URM Detected 247 ( 1.1%) items with no interactions.\n",
      "P3alphaRecommender: URM Detected 627 ( 4.8%) users with no interactions.\n",
      "P3alphaRecommender: URM Detected 247 ( 1.1%) items with no interactions.\n",
      "RP3betaRecommender: URM Detected 247 ( 1.1%) users with no interactions.\n",
      "RP3betaRecommender: URM Detected 627 ( 4.8%) items with no interactions.\n",
      "P3alphaRecommender: Similarity column 22347 (100.0%), 3115.13 column/sec. Elapsed time 7.17 sec\n",
      "RP3betaRecommender: Similarity column 13024 (100.0%), 2168.49 column/sec. Elapsed time 6.01 sec\n",
      "EvaluatorHoldout: Processed 10456 (100.0%) in 52.89 sec. Users per second: 198\n"
     ]
    },
    {
     "name": "stderr",
     "output_type": "stream",
     "text": [
      "[I 2023-12-24 21:38:51,137] Trial 196 finished with value: 0.04764399721888298 and parameters: {'base_f_algorithm': 'p3alpha', 'base_b_algorithm': 'rp3beta', 'convex_lambda': 0.22797401942075934, 'f_p3a_alpha': 0.4391444942707174, 'f_p3a_topK': 43, 'b_rp3_alpha': 7.797503472960405e-05, 'b_rp3_beta': 6.920670679454414e-05, 'b_rp3_topK': 82}. Best is trial 175 with value: 0.047955552215786255.\n"
     ]
    },
    {
     "name": "stdout",
     "output_type": "stream",
     "text": [
      "TwoWayRankAggregationRecommender: URM Detected 627 ( 4.8%) users with no interactions.\n",
      "TwoWayRankAggregationRecommender: URM Detected 247 ( 1.1%) items with no interactions.\n",
      "P3alphaRecommender: URM Detected 627 ( 4.8%) users with no interactions.\n",
      "P3alphaRecommender: URM Detected 247 ( 1.1%) items with no interactions.\n",
      "RP3betaRecommender: URM Detected 247 ( 1.1%) users with no interactions.\n",
      "RP3betaRecommender: URM Detected 627 ( 4.8%) items with no interactions.\n",
      "P3alphaRecommender: Similarity column 22347 (100.0%), 3325.17 column/sec. Elapsed time 6.72 sec\n",
      "RP3betaRecommender: Similarity column 13024 (100.0%), 2023.37 column/sec. Elapsed time 6.44 sec\n",
      "EvaluatorHoldout: Processed 10456 (100.0%) in 52.29 sec. Users per second: 200\n"
     ]
    },
    {
     "name": "stderr",
     "output_type": "stream",
     "text": [
      "[I 2023-12-24 21:40:00,055] Trial 197 finished with value: 0.0438476768863635 and parameters: {'base_f_algorithm': 'p3alpha', 'base_b_algorithm': 'rp3beta', 'convex_lambda': 0.5048444007254986, 'f_p3a_alpha': 0.8344857911634194, 'f_p3a_topK': 34, 'b_rp3_alpha': 4.4398101789746375e-05, 'b_rp3_beta': 0.00010484621841866483, 'b_rp3_topK': 97}. Best is trial 175 with value: 0.047955552215786255.\n"
     ]
    },
    {
     "name": "stdout",
     "output_type": "stream",
     "text": [
      "TwoWayRankAggregationRecommender: URM Detected 627 ( 4.8%) users with no interactions.\n",
      "TwoWayRankAggregationRecommender: URM Detected 247 ( 1.1%) items with no interactions.\n",
      "P3alphaRecommender: URM Detected 627 ( 4.8%) users with no interactions.\n",
      "P3alphaRecommender: URM Detected 247 ( 1.1%) items with no interactions.\n",
      "RP3betaRecommender: URM Detected 247 ( 1.1%) users with no interactions.\n",
      "RP3betaRecommender: URM Detected 627 ( 4.8%) items with no interactions.\n",
      "P3alphaRecommender: Similarity column 22347 (100.0%), 3504.94 column/sec. Elapsed time 6.38 sec\n",
      "RP3betaRecommender: Similarity column 13024 (100.0%), 2548.14 column/sec. Elapsed time 5.11 sec\n",
      "EvaluatorHoldout: Processed 10456 (100.0%) in 50.23 sec. Users per second: 208\n"
     ]
    },
    {
     "name": "stderr",
     "output_type": "stream",
     "text": [
      "[I 2023-12-24 21:41:04,156] Trial 198 finished with value: 0.04777443421260425 and parameters: {'base_f_algorithm': 'p3alpha', 'base_b_algorithm': 'rp3beta', 'convex_lambda': 0.18676371478724568, 'f_p3a_alpha': 0.3174452864649511, 'f_p3a_topK': 26, 'b_rp3_alpha': 1.3641596596280279e-05, 'b_rp3_beta': 0.0004612977023763224, 'b_rp3_topK': 52}. Best is trial 175 with value: 0.047955552215786255.\n"
     ]
    },
    {
     "name": "stdout",
     "output_type": "stream",
     "text": [
      "TwoWayRankAggregationRecommender: URM Detected 627 ( 4.8%) users with no interactions.\n",
      "TwoWayRankAggregationRecommender: URM Detected 247 ( 1.1%) items with no interactions.\n",
      "P3alphaRecommender: URM Detected 627 ( 4.8%) users with no interactions.\n",
      "P3alphaRecommender: URM Detected 247 ( 1.1%) items with no interactions.\n",
      "RP3betaRecommender: URM Detected 247 ( 1.1%) users with no interactions.\n",
      "RP3betaRecommender: URM Detected 627 ( 4.8%) items with no interactions.\n",
      "P3alphaRecommender: Similarity column 22347 (100.0%), 3275.11 column/sec. Elapsed time 6.82 sec\n",
      "RP3betaRecommender: Similarity column 13024 (100.0%), 2301.39 column/sec. Elapsed time 5.66 sec\n",
      "EvaluatorHoldout: Processed 10456 (100.0%) in 51.37 sec. Users per second: 204\n"
     ]
    },
    {
     "name": "stderr",
     "output_type": "stream",
     "text": [
      "[I 2023-12-24 21:42:10,917] Trial 199 finished with value: 0.04748083047934876 and parameters: {'base_f_algorithm': 'p3alpha', 'base_b_algorithm': 'rp3beta', 'convex_lambda': 0.26253419050222054, 'f_p3a_alpha': 0.11249995967876879, 'f_p3a_topK': 38, 'b_rp3_alpha': 0.0005356720889595254, 'b_rp3_beta': 0.00022802608800654843, 'b_rp3_topK': 75}. Best is trial 175 with value: 0.047955552215786255.\n"
     ]
    }
   ],
   "source": [
    "if config['tune_parameters']:\n",
    "    study = optuna.create_study(direction='maximize', study_name='tuning',\n",
    "                                storage=f'sqlite:///{config[\"database_path\"]}', load_if_exists=True)\n",
    "    study.optimize(objective_function, n_trials=200)"
   ]
  },
  {
   "cell_type": "code",
   "execution_count": 18,
   "id": "109d681b",
   "metadata": {
    "execution": {
     "iopub.execute_input": "2023-12-24T21:42:11.277580Z",
     "iopub.status.busy": "2023-12-24T21:42:11.277139Z",
     "iopub.status.idle": "2023-12-24T21:42:12.261098Z",
     "shell.execute_reply": "2023-12-24T21:42:12.259880Z"
    },
    "papermill": {
     "duration": 1.118301,
     "end_time": "2023-12-24T21:42:12.263628",
     "exception": false,
     "start_time": "2023-12-24T21:42:11.145327",
     "status": "completed"
    },
    "tags": []
   },
   "outputs": [
    {
     "data": {
      "text/html": [
       "        <script type=\"text/javascript\">\n",
       "        window.PlotlyConfig = {MathJaxConfig: 'local'};\n",
       "        if (window.MathJax && window.MathJax.Hub && window.MathJax.Hub.Config) {window.MathJax.Hub.Config({SVG: {font: \"STIX-Web\"}});}\n",
       "        if (typeof require !== 'undefined') {\n",
       "        require.undef(\"plotly\");\n",
       "        requirejs.config({\n",
       "            paths: {\n",
       "                'plotly': ['https://cdn.plot.ly/plotly-2.25.2.min']\n",
       "            }\n",
       "        });\n",
       "        require(['plotly'], function(Plotly) {\n",
       "            window._Plotly = Plotly;\n",
       "        });\n",
       "        }\n",
       "        </script>\n",
       "        "
      ]
     },
     "metadata": {},
     "output_type": "display_data"
    },
    {
     "data": {
      "text/html": [
       "<div>                            <div id=\"ea6877e3-6fed-41c0-bf18-aee7037662de\" class=\"plotly-graph-div\" style=\"height:525px; width:100%;\"></div>            <script type=\"text/javascript\">                require([\"plotly\"], function(Plotly) {                    window.PLOTLYENV=window.PLOTLYENV || {};                                    if (document.getElementById(\"ea6877e3-6fed-41c0-bf18-aee7037662de\")) {                    Plotly.newPlot(                        \"ea6877e3-6fed-41c0-bf18-aee7037662de\",                        [{\"mode\":\"markers\",\"name\":\"Objective Value\",\"x\":[0,1,2,3,4,5,6,7,8,9,10,11,12,13,14,15,16,17,18,19,20,21,22,23,24,25,26,27,28,29,30,31,32,33,34,35,36,37,38,39,40,41,42,43,44,45,46,47,48,49,50,51,52,53,54,55,56,57,58,59,60,61,62,63,64,65,66,67,68,69,70,71,72,73,74,75,76,77,78,79,80,81,82,83,84,85,86,87,88,89,90,91,92,93,94,95,96,97,98,99,100,101,102,103,104,105,106,107,108,109,110,111,112,113,114,115,116,117,118,119,120,121,122,123,124,125,126,127,128,129,130,131,132,133,134,135,136,137,138,139,140,141,142,143,144,145,146,147,148,149,150,151,152,153,154,155,156,157,158,159,160,161,162,163,164,165,166,167,168,169,170,171,172,173,174,175,176,177,178,179,180,181,182,183,184,185,186,187,188,189,190,191,192,193,194,195,196,197,198,199],\"y\":[0.04044604146172684,0.04509172222829511,0.026432328669800075,0.030766245703841528,0.04222622235581363,0.014500313482954977,0.033413947031248545,0.0032431367726892027,0.03850775661578129,0.04040824133785161,0.022460325050703778,0.040311854817163366,0.02723760414010048,0.02537274489622431,0.003935649463815118,0.03421702887990229,0.032846159568137745,0.015036593252450218,0.036124140009230254,0.04605244501524226,0.037450218451318754,0.046480971660534276,0.04607979317715426,0.045455977277420144,0.046490539342491026,0.04562692036773972,0.04491981136371991,0.04582529131902761,0.04214051171348476,0.04658781773357208,0.04697658214012542,0.0471829609489812,0.04687766802079231,0.046760320648280396,0.04571548120013182,0.04068718803512278,0.014733243463159339,0.046692918017756185,0.044877699900414694,0.047063939896285524,0.023369034715390917,0.047193530561932075,0.04759304295551486,0.045862620838950784,0.026286680541892912,0.04763941642073884,0.04780026429725233,0.04099618127664286,0.008248761248952541,0.044488483865875464,0.04561208875286977,0.046891641922007794,0.04767627913190331,0.015258972595669211,0.04783760899794815,0.03169977593179608,0.04585456743906504,0.024019344858575934,0.008975654594916237,0.003961547861939995,0.04664144381292496,0.04755344011488881,0.035008186231646796,0.047539101875129816,0.047677178592682196,0.04770068601911633,0.019599147903231705,0.007758186990685051,0.045094177718269894,0.04591985994219217,0.002938117098407853,0.04769377497237163,0.040926103034940604,0.0478453436016085,0.04785989816737771,0.04668065954384894,0.03629731846832115,0.04662751165883406,0.03586836676139518,0.03885556329774994,0.04749229196269241,0.04780205562842406,0.04715654260939337,0.04661932163199452,0.04772694496059141,0.04722363023888531,0.045593249414022895,0.04646506221080704,0.026965739273266193,0.047866953431462606,0.023923975449654505,0.047810814934237576,0.04742591782951458,0.04784006448792296,0.04764540144035239,0.04544194265311392,0.03966300202815175,0.04615415239674104,0.047610584338301225,0.044584213818147145,0.04712987758225014,0.047698401312833864,0.047766794488773,0.04704989768159297,0.047597399837262765,0.04776951943746205,0.04749346847257208,0.04750286916602971,0.04040377060030912,0.04666577479627478,0.04729468384522967,0.04795321817199273,0.0479328228039501,0.04776865413342156,0.046595605469936706,0.046453543799565976,0.016794359735733122,0.04783649321115909,0.03847789983119028,0.04694980705238036,0.04554172207648763,0.047919702821195544,0.04787943202657295,0.047847681440595265,0.04785076693263444,0.0475623436380424,0.03672534794330944,0.04499388214862633,0.04787768244252635,0.04702096692413335,0.045863740420933066,0.04779259800706898,0.04762717692279737,0.04772633013929933,0.046180096337184,0.04786104431571223,0.047869928862900174,0.04763833479068823,0.047441356675289925,0.0468491699153529,0.04708170519546841,0.04782795023135563,0.047455793590071356,0.04795083858588135,0.04559057759803802,0.03909876307064565,0.04366608068884334,0.04765660864575437,0.03357286694963653,0.0477362166174816,0.046256007790773164,0.047778085188424295,0.04767755052161198,0.04765515129158089,0.047795842897220664,0.04647370386563261,0.04382569133238663,0.04782273563595363,0.0005463484169490285,0.047075488669072074,0.04259185126486262,0.047858987321019314,0.047921414453310635,0.04786112401476851,0.047815441274699826,0.04781108059775881,0.047644676558458755,0.046368531472778536,0.047656024186007735,0.04769210888257448,0.04713188523943188,0.04785010277383148,0.04783660327176083,0.04779795302461775,0.04781482645340794,0.047955552215786255,0.0477545777619905,0.047777443800780535,0.042249004900353944,0.031623021945325194,0.04747002935961502,0.04774045964343472,0.04762587896673658,0.047703862595791374,0.04725263310501526,0.03962038580415646,0.04766197504888269,0.04782964668269824,0.047811877588322345,0.0463002521526342,0.03489367766361874,0.04734406310343636,0.047751275943941185,0.047705274407646915,0.03469309031952524,0.04682635700926702,0.04764399721888298,0.0438476768863635,0.04777443421260425,0.04748083047934876],\"type\":\"scatter\"},{\"mode\":\"lines\",\"name\":\"Best Value\",\"x\":[0,1,2,3,4,5,6,7,8,9,10,11,12,13,14,15,16,17,18,19,20,21,22,23,24,25,26,27,28,29,30,31,32,33,34,35,36,37,38,39,40,41,42,43,44,45,46,47,48,49,50,51,52,53,54,55,56,57,58,59,60,61,62,63,64,65,66,67,68,69,70,71,72,73,74,75,76,77,78,79,80,81,82,83,84,85,86,87,88,89,90,91,92,93,94,95,96,97,98,99,100,101,102,103,104,105,106,107,108,109,110,111,112,113,114,115,116,117,118,119,120,121,122,123,124,125,126,127,128,129,130,131,132,133,134,135,136,137,138,139,140,141,142,143,144,145,146,147,148,149,150,151,152,153,154,155,156,157,158,159,160,161,162,163,164,165,166,167,168,169,170,171,172,173,174,175,176,177,178,179,180,181,182,183,184,185,186,187,188,189,190,191,192,193,194,195,196,197,198,199],\"y\":[0.04044604146172684,0.04509172222829511,0.04509172222829511,0.04509172222829511,0.04509172222829511,0.04509172222829511,0.04509172222829511,0.04509172222829511,0.04509172222829511,0.04509172222829511,0.04509172222829511,0.04509172222829511,0.04509172222829511,0.04509172222829511,0.04509172222829511,0.04509172222829511,0.04509172222829511,0.04509172222829511,0.04509172222829511,0.04605244501524226,0.04605244501524226,0.046480971660534276,0.046480971660534276,0.046480971660534276,0.046490539342491026,0.046490539342491026,0.046490539342491026,0.046490539342491026,0.046490539342491026,0.04658781773357208,0.04697658214012542,0.0471829609489812,0.0471829609489812,0.0471829609489812,0.0471829609489812,0.0471829609489812,0.0471829609489812,0.0471829609489812,0.0471829609489812,0.0471829609489812,0.0471829609489812,0.047193530561932075,0.04759304295551486,0.04759304295551486,0.04759304295551486,0.04763941642073884,0.04780026429725233,0.04780026429725233,0.04780026429725233,0.04780026429725233,0.04780026429725233,0.04780026429725233,0.04780026429725233,0.04780026429725233,0.04783760899794815,0.04783760899794815,0.04783760899794815,0.04783760899794815,0.04783760899794815,0.04783760899794815,0.04783760899794815,0.04783760899794815,0.04783760899794815,0.04783760899794815,0.04783760899794815,0.04783760899794815,0.04783760899794815,0.04783760899794815,0.04783760899794815,0.04783760899794815,0.04783760899794815,0.04783760899794815,0.04783760899794815,0.0478453436016085,0.04785989816737771,0.04785989816737771,0.04785989816737771,0.04785989816737771,0.04785989816737771,0.04785989816737771,0.04785989816737771,0.04785989816737771,0.04785989816737771,0.04785989816737771,0.04785989816737771,0.04785989816737771,0.04785989816737771,0.04785989816737771,0.04785989816737771,0.047866953431462606,0.047866953431462606,0.047866953431462606,0.047866953431462606,0.047866953431462606,0.047866953431462606,0.047866953431462606,0.047866953431462606,0.047866953431462606,0.047866953431462606,0.047866953431462606,0.047866953431462606,0.047866953431462606,0.047866953431462606,0.047866953431462606,0.047866953431462606,0.047866953431462606,0.047866953431462606,0.047866953431462606,0.047866953431462606,0.047866953431462606,0.047866953431462606,0.04795321817199273,0.04795321817199273,0.04795321817199273,0.04795321817199273,0.04795321817199273,0.04795321817199273,0.04795321817199273,0.04795321817199273,0.04795321817199273,0.04795321817199273,0.04795321817199273,0.04795321817199273,0.04795321817199273,0.04795321817199273,0.04795321817199273,0.04795321817199273,0.04795321817199273,0.04795321817199273,0.04795321817199273,0.04795321817199273,0.04795321817199273,0.04795321817199273,0.04795321817199273,0.04795321817199273,0.04795321817199273,0.04795321817199273,0.04795321817199273,0.04795321817199273,0.04795321817199273,0.04795321817199273,0.04795321817199273,0.04795321817199273,0.04795321817199273,0.04795321817199273,0.04795321817199273,0.04795321817199273,0.04795321817199273,0.04795321817199273,0.04795321817199273,0.04795321817199273,0.04795321817199273,0.04795321817199273,0.04795321817199273,0.04795321817199273,0.04795321817199273,0.04795321817199273,0.04795321817199273,0.04795321817199273,0.04795321817199273,0.04795321817199273,0.04795321817199273,0.04795321817199273,0.04795321817199273,0.04795321817199273,0.04795321817199273,0.04795321817199273,0.04795321817199273,0.04795321817199273,0.04795321817199273,0.04795321817199273,0.04795321817199273,0.04795321817199273,0.04795321817199273,0.04795321817199273,0.047955552215786255,0.047955552215786255,0.047955552215786255,0.047955552215786255,0.047955552215786255,0.047955552215786255,0.047955552215786255,0.047955552215786255,0.047955552215786255,0.047955552215786255,0.047955552215786255,0.047955552215786255,0.047955552215786255,0.047955552215786255,0.047955552215786255,0.047955552215786255,0.047955552215786255,0.047955552215786255,0.047955552215786255,0.047955552215786255,0.047955552215786255,0.047955552215786255,0.047955552215786255,0.047955552215786255,0.047955552215786255],\"type\":\"scatter\"},{\"marker\":{\"color\":\"#cccccc\"},\"mode\":\"markers\",\"name\":\"Infeasible Trial\",\"showlegend\":false,\"x\":[],\"y\":[],\"type\":\"scatter\"}],                        {\"title\":{\"text\":\"Optimization History Plot\"},\"xaxis\":{\"title\":{\"text\":\"Trial\"}},\"yaxis\":{\"title\":{\"text\":\"Objective Value\"}},\"template\":{\"data\":{\"histogram2dcontour\":[{\"type\":\"histogram2dcontour\",\"colorbar\":{\"outlinewidth\":0,\"ticks\":\"\"},\"colorscale\":[[0.0,\"#0d0887\"],[0.1111111111111111,\"#46039f\"],[0.2222222222222222,\"#7201a8\"],[0.3333333333333333,\"#9c179e\"],[0.4444444444444444,\"#bd3786\"],[0.5555555555555556,\"#d8576b\"],[0.6666666666666666,\"#ed7953\"],[0.7777777777777778,\"#fb9f3a\"],[0.8888888888888888,\"#fdca26\"],[1.0,\"#f0f921\"]]}],\"choropleth\":[{\"type\":\"choropleth\",\"colorbar\":{\"outlinewidth\":0,\"ticks\":\"\"}}],\"histogram2d\":[{\"type\":\"histogram2d\",\"colorbar\":{\"outlinewidth\":0,\"ticks\":\"\"},\"colorscale\":[[0.0,\"#0d0887\"],[0.1111111111111111,\"#46039f\"],[0.2222222222222222,\"#7201a8\"],[0.3333333333333333,\"#9c179e\"],[0.4444444444444444,\"#bd3786\"],[0.5555555555555556,\"#d8576b\"],[0.6666666666666666,\"#ed7953\"],[0.7777777777777778,\"#fb9f3a\"],[0.8888888888888888,\"#fdca26\"],[1.0,\"#f0f921\"]]}],\"heatmap\":[{\"type\":\"heatmap\",\"colorbar\":{\"outlinewidth\":0,\"ticks\":\"\"},\"colorscale\":[[0.0,\"#0d0887\"],[0.1111111111111111,\"#46039f\"],[0.2222222222222222,\"#7201a8\"],[0.3333333333333333,\"#9c179e\"],[0.4444444444444444,\"#bd3786\"],[0.5555555555555556,\"#d8576b\"],[0.6666666666666666,\"#ed7953\"],[0.7777777777777778,\"#fb9f3a\"],[0.8888888888888888,\"#fdca26\"],[1.0,\"#f0f921\"]]}],\"heatmapgl\":[{\"type\":\"heatmapgl\",\"colorbar\":{\"outlinewidth\":0,\"ticks\":\"\"},\"colorscale\":[[0.0,\"#0d0887\"],[0.1111111111111111,\"#46039f\"],[0.2222222222222222,\"#7201a8\"],[0.3333333333333333,\"#9c179e\"],[0.4444444444444444,\"#bd3786\"],[0.5555555555555556,\"#d8576b\"],[0.6666666666666666,\"#ed7953\"],[0.7777777777777778,\"#fb9f3a\"],[0.8888888888888888,\"#fdca26\"],[1.0,\"#f0f921\"]]}],\"contourcarpet\":[{\"type\":\"contourcarpet\",\"colorbar\":{\"outlinewidth\":0,\"ticks\":\"\"}}],\"contour\":[{\"type\":\"contour\",\"colorbar\":{\"outlinewidth\":0,\"ticks\":\"\"},\"colorscale\":[[0.0,\"#0d0887\"],[0.1111111111111111,\"#46039f\"],[0.2222222222222222,\"#7201a8\"],[0.3333333333333333,\"#9c179e\"],[0.4444444444444444,\"#bd3786\"],[0.5555555555555556,\"#d8576b\"],[0.6666666666666666,\"#ed7953\"],[0.7777777777777778,\"#fb9f3a\"],[0.8888888888888888,\"#fdca26\"],[1.0,\"#f0f921\"]]}],\"surface\":[{\"type\":\"surface\",\"colorbar\":{\"outlinewidth\":0,\"ticks\":\"\"},\"colorscale\":[[0.0,\"#0d0887\"],[0.1111111111111111,\"#46039f\"],[0.2222222222222222,\"#7201a8\"],[0.3333333333333333,\"#9c179e\"],[0.4444444444444444,\"#bd3786\"],[0.5555555555555556,\"#d8576b\"],[0.6666666666666666,\"#ed7953\"],[0.7777777777777778,\"#fb9f3a\"],[0.8888888888888888,\"#fdca26\"],[1.0,\"#f0f921\"]]}],\"mesh3d\":[{\"type\":\"mesh3d\",\"colorbar\":{\"outlinewidth\":0,\"ticks\":\"\"}}],\"scatter\":[{\"fillpattern\":{\"fillmode\":\"overlay\",\"size\":10,\"solidity\":0.2},\"type\":\"scatter\"}],\"parcoords\":[{\"type\":\"parcoords\",\"line\":{\"colorbar\":{\"outlinewidth\":0,\"ticks\":\"\"}}}],\"scatterpolargl\":[{\"type\":\"scatterpolargl\",\"marker\":{\"colorbar\":{\"outlinewidth\":0,\"ticks\":\"\"}}}],\"bar\":[{\"error_x\":{\"color\":\"#2a3f5f\"},\"error_y\":{\"color\":\"#2a3f5f\"},\"marker\":{\"line\":{\"color\":\"#E5ECF6\",\"width\":0.5},\"pattern\":{\"fillmode\":\"overlay\",\"size\":10,\"solidity\":0.2}},\"type\":\"bar\"}],\"scattergeo\":[{\"type\":\"scattergeo\",\"marker\":{\"colorbar\":{\"outlinewidth\":0,\"ticks\":\"\"}}}],\"scatterpolar\":[{\"type\":\"scatterpolar\",\"marker\":{\"colorbar\":{\"outlinewidth\":0,\"ticks\":\"\"}}}],\"histogram\":[{\"marker\":{\"pattern\":{\"fillmode\":\"overlay\",\"size\":10,\"solidity\":0.2}},\"type\":\"histogram\"}],\"scattergl\":[{\"type\":\"scattergl\",\"marker\":{\"colorbar\":{\"outlinewidth\":0,\"ticks\":\"\"}}}],\"scatter3d\":[{\"type\":\"scatter3d\",\"line\":{\"colorbar\":{\"outlinewidth\":0,\"ticks\":\"\"}},\"marker\":{\"colorbar\":{\"outlinewidth\":0,\"ticks\":\"\"}}}],\"scattermapbox\":[{\"type\":\"scattermapbox\",\"marker\":{\"colorbar\":{\"outlinewidth\":0,\"ticks\":\"\"}}}],\"scatterternary\":[{\"type\":\"scatterternary\",\"marker\":{\"colorbar\":{\"outlinewidth\":0,\"ticks\":\"\"}}}],\"scattercarpet\":[{\"type\":\"scattercarpet\",\"marker\":{\"colorbar\":{\"outlinewidth\":0,\"ticks\":\"\"}}}],\"carpet\":[{\"aaxis\":{\"endlinecolor\":\"#2a3f5f\",\"gridcolor\":\"white\",\"linecolor\":\"white\",\"minorgridcolor\":\"white\",\"startlinecolor\":\"#2a3f5f\"},\"baxis\":{\"endlinecolor\":\"#2a3f5f\",\"gridcolor\":\"white\",\"linecolor\":\"white\",\"minorgridcolor\":\"white\",\"startlinecolor\":\"#2a3f5f\"},\"type\":\"carpet\"}],\"table\":[{\"cells\":{\"fill\":{\"color\":\"#EBF0F8\"},\"line\":{\"color\":\"white\"}},\"header\":{\"fill\":{\"color\":\"#C8D4E3\"},\"line\":{\"color\":\"white\"}},\"type\":\"table\"}],\"barpolar\":[{\"marker\":{\"line\":{\"color\":\"#E5ECF6\",\"width\":0.5},\"pattern\":{\"fillmode\":\"overlay\",\"size\":10,\"solidity\":0.2}},\"type\":\"barpolar\"}],\"pie\":[{\"automargin\":true,\"type\":\"pie\"}]},\"layout\":{\"autotypenumbers\":\"strict\",\"colorway\":[\"#636efa\",\"#EF553B\",\"#00cc96\",\"#ab63fa\",\"#FFA15A\",\"#19d3f3\",\"#FF6692\",\"#B6E880\",\"#FF97FF\",\"#FECB52\"],\"font\":{\"color\":\"#2a3f5f\"},\"hovermode\":\"closest\",\"hoverlabel\":{\"align\":\"left\"},\"paper_bgcolor\":\"white\",\"plot_bgcolor\":\"#E5ECF6\",\"polar\":{\"bgcolor\":\"#E5ECF6\",\"angularaxis\":{\"gridcolor\":\"white\",\"linecolor\":\"white\",\"ticks\":\"\"},\"radialaxis\":{\"gridcolor\":\"white\",\"linecolor\":\"white\",\"ticks\":\"\"}},\"ternary\":{\"bgcolor\":\"#E5ECF6\",\"aaxis\":{\"gridcolor\":\"white\",\"linecolor\":\"white\",\"ticks\":\"\"},\"baxis\":{\"gridcolor\":\"white\",\"linecolor\":\"white\",\"ticks\":\"\"},\"caxis\":{\"gridcolor\":\"white\",\"linecolor\":\"white\",\"ticks\":\"\"}},\"coloraxis\":{\"colorbar\":{\"outlinewidth\":0,\"ticks\":\"\"}},\"colorscale\":{\"sequential\":[[0.0,\"#0d0887\"],[0.1111111111111111,\"#46039f\"],[0.2222222222222222,\"#7201a8\"],[0.3333333333333333,\"#9c179e\"],[0.4444444444444444,\"#bd3786\"],[0.5555555555555556,\"#d8576b\"],[0.6666666666666666,\"#ed7953\"],[0.7777777777777778,\"#fb9f3a\"],[0.8888888888888888,\"#fdca26\"],[1.0,\"#f0f921\"]],\"sequentialminus\":[[0.0,\"#0d0887\"],[0.1111111111111111,\"#46039f\"],[0.2222222222222222,\"#7201a8\"],[0.3333333333333333,\"#9c179e\"],[0.4444444444444444,\"#bd3786\"],[0.5555555555555556,\"#d8576b\"],[0.6666666666666666,\"#ed7953\"],[0.7777777777777778,\"#fb9f3a\"],[0.8888888888888888,\"#fdca26\"],[1.0,\"#f0f921\"]],\"diverging\":[[0,\"#8e0152\"],[0.1,\"#c51b7d\"],[0.2,\"#de77ae\"],[0.3,\"#f1b6da\"],[0.4,\"#fde0ef\"],[0.5,\"#f7f7f7\"],[0.6,\"#e6f5d0\"],[0.7,\"#b8e186\"],[0.8,\"#7fbc41\"],[0.9,\"#4d9221\"],[1,\"#276419\"]]},\"xaxis\":{\"gridcolor\":\"white\",\"linecolor\":\"white\",\"ticks\":\"\",\"title\":{\"standoff\":15},\"zerolinecolor\":\"white\",\"automargin\":true,\"zerolinewidth\":2},\"yaxis\":{\"gridcolor\":\"white\",\"linecolor\":\"white\",\"ticks\":\"\",\"title\":{\"standoff\":15},\"zerolinecolor\":\"white\",\"automargin\":true,\"zerolinewidth\":2},\"scene\":{\"xaxis\":{\"backgroundcolor\":\"#E5ECF6\",\"gridcolor\":\"white\",\"linecolor\":\"white\",\"showbackground\":true,\"ticks\":\"\",\"zerolinecolor\":\"white\",\"gridwidth\":2},\"yaxis\":{\"backgroundcolor\":\"#E5ECF6\",\"gridcolor\":\"white\",\"linecolor\":\"white\",\"showbackground\":true,\"ticks\":\"\",\"zerolinecolor\":\"white\",\"gridwidth\":2},\"zaxis\":{\"backgroundcolor\":\"#E5ECF6\",\"gridcolor\":\"white\",\"linecolor\":\"white\",\"showbackground\":true,\"ticks\":\"\",\"zerolinecolor\":\"white\",\"gridwidth\":2}},\"shapedefaults\":{\"line\":{\"color\":\"#2a3f5f\"}},\"annotationdefaults\":{\"arrowcolor\":\"#2a3f5f\",\"arrowhead\":0,\"arrowwidth\":1},\"geo\":{\"bgcolor\":\"white\",\"landcolor\":\"#E5ECF6\",\"subunitcolor\":\"white\",\"showland\":true,\"showlakes\":true,\"lakecolor\":\"white\"},\"title\":{\"x\":0.05},\"mapbox\":{\"style\":\"light\"}}}},                        {\"responsive\": true}                    ).then(function(){\n",
       "                            \n",
       "var gd = document.getElementById('ea6877e3-6fed-41c0-bf18-aee7037662de');\n",
       "var x = new MutationObserver(function (mutations, observer) {{\n",
       "        var display = window.getComputedStyle(gd).display;\n",
       "        if (!display || display === 'none') {{\n",
       "            console.log([gd, 'removed!']);\n",
       "            Plotly.purge(gd);\n",
       "            observer.disconnect();\n",
       "        }}\n",
       "}});\n",
       "\n",
       "// Listen for the removal of the full notebook cells\n",
       "var notebookContainer = gd.closest('#notebook-container');\n",
       "if (notebookContainer) {{\n",
       "    x.observe(notebookContainer, {childList: true});\n",
       "}}\n",
       "\n",
       "// Listen for the clearing of the current output cell\n",
       "var outputEl = gd.closest('.output');\n",
       "if (outputEl) {{\n",
       "    x.observe(outputEl, {childList: true});\n",
       "}}\n",
       "\n",
       "                        })                };                });            </script>        </div>"
      ]
     },
     "metadata": {},
     "output_type": "display_data"
    }
   ],
   "source": [
    "if config['tune_parameters']:\n",
    "    fig = optuna.visualization.plot_optimization_history(study)\n",
    "    fig.show()"
   ]
  },
  {
   "cell_type": "code",
   "execution_count": 19,
   "id": "c948baaf",
   "metadata": {
    "execution": {
     "iopub.execute_input": "2023-12-24T21:42:12.546175Z",
     "iopub.status.busy": "2023-12-24T21:42:12.545679Z",
     "iopub.status.idle": "2023-12-24T21:42:16.627279Z",
     "shell.execute_reply": "2023-12-24T21:42:16.625858Z"
    },
    "papermill": {
     "duration": 4.22164,
     "end_time": "2023-12-24T21:42:16.629939",
     "exception": false,
     "start_time": "2023-12-24T21:42:12.408299",
     "status": "completed"
    },
    "tags": []
   },
   "outputs": [
    {
     "data": {
      "text/html": [
       "<div>                            <div id=\"eadeef30-b881-45c8-a83a-2996b89fffed\" class=\"plotly-graph-div\" style=\"height:525px; width:100%;\"></div>            <script type=\"text/javascript\">                require([\"plotly\"], function(Plotly) {                    window.PLOTLYENV=window.PLOTLYENV || {};                                    if (document.getElementById(\"eadeef30-b881-45c8-a83a-2996b89fffed\")) {                    Plotly.newPlot(                        \"eadeef30-b881-45c8-a83a-2996b89fffed\",                        [{\"cliponaxis\":false,\"hovertemplate\":[\"convex_lambda (FloatDistribution): 0.2368929976159677\\u003cextra\\u003e\\u003c\\u002fextra\\u003e\",\"base_b_algorithm (CategoricalDistribution): 0.2650507858055977\\u003cextra\\u003e\\u003c\\u002fextra\\u003e\",\"base_f_algorithm (CategoricalDistribution): 0.4980562165784347\\u003cextra\\u003e\\u003c\\u002fextra\\u003e\"],\"name\":\"Objective Value\",\"orientation\":\"h\",\"text\":[\"0.24\",\"0.27\",\"0.50\"],\"textposition\":\"outside\",\"x\":[0.2368929976159677,0.2650507858055977,0.4980562165784347],\"y\":[\"convex_lambda\",\"base_b_algorithm\",\"base_f_algorithm\"],\"type\":\"bar\"}],                        {\"title\":{\"text\":\"Hyperparameter Importances\"},\"xaxis\":{\"title\":{\"text\":\"Hyperparameter Importance\"}},\"yaxis\":{\"title\":{\"text\":\"Hyperparameter\"}},\"template\":{\"data\":{\"histogram2dcontour\":[{\"type\":\"histogram2dcontour\",\"colorbar\":{\"outlinewidth\":0,\"ticks\":\"\"},\"colorscale\":[[0.0,\"#0d0887\"],[0.1111111111111111,\"#46039f\"],[0.2222222222222222,\"#7201a8\"],[0.3333333333333333,\"#9c179e\"],[0.4444444444444444,\"#bd3786\"],[0.5555555555555556,\"#d8576b\"],[0.6666666666666666,\"#ed7953\"],[0.7777777777777778,\"#fb9f3a\"],[0.8888888888888888,\"#fdca26\"],[1.0,\"#f0f921\"]]}],\"choropleth\":[{\"type\":\"choropleth\",\"colorbar\":{\"outlinewidth\":0,\"ticks\":\"\"}}],\"histogram2d\":[{\"type\":\"histogram2d\",\"colorbar\":{\"outlinewidth\":0,\"ticks\":\"\"},\"colorscale\":[[0.0,\"#0d0887\"],[0.1111111111111111,\"#46039f\"],[0.2222222222222222,\"#7201a8\"],[0.3333333333333333,\"#9c179e\"],[0.4444444444444444,\"#bd3786\"],[0.5555555555555556,\"#d8576b\"],[0.6666666666666666,\"#ed7953\"],[0.7777777777777778,\"#fb9f3a\"],[0.8888888888888888,\"#fdca26\"],[1.0,\"#f0f921\"]]}],\"heatmap\":[{\"type\":\"heatmap\",\"colorbar\":{\"outlinewidth\":0,\"ticks\":\"\"},\"colorscale\":[[0.0,\"#0d0887\"],[0.1111111111111111,\"#46039f\"],[0.2222222222222222,\"#7201a8\"],[0.3333333333333333,\"#9c179e\"],[0.4444444444444444,\"#bd3786\"],[0.5555555555555556,\"#d8576b\"],[0.6666666666666666,\"#ed7953\"],[0.7777777777777778,\"#fb9f3a\"],[0.8888888888888888,\"#fdca26\"],[1.0,\"#f0f921\"]]}],\"heatmapgl\":[{\"type\":\"heatmapgl\",\"colorbar\":{\"outlinewidth\":0,\"ticks\":\"\"},\"colorscale\":[[0.0,\"#0d0887\"],[0.1111111111111111,\"#46039f\"],[0.2222222222222222,\"#7201a8\"],[0.3333333333333333,\"#9c179e\"],[0.4444444444444444,\"#bd3786\"],[0.5555555555555556,\"#d8576b\"],[0.6666666666666666,\"#ed7953\"],[0.7777777777777778,\"#fb9f3a\"],[0.8888888888888888,\"#fdca26\"],[1.0,\"#f0f921\"]]}],\"contourcarpet\":[{\"type\":\"contourcarpet\",\"colorbar\":{\"outlinewidth\":0,\"ticks\":\"\"}}],\"contour\":[{\"type\":\"contour\",\"colorbar\":{\"outlinewidth\":0,\"ticks\":\"\"},\"colorscale\":[[0.0,\"#0d0887\"],[0.1111111111111111,\"#46039f\"],[0.2222222222222222,\"#7201a8\"],[0.3333333333333333,\"#9c179e\"],[0.4444444444444444,\"#bd3786\"],[0.5555555555555556,\"#d8576b\"],[0.6666666666666666,\"#ed7953\"],[0.7777777777777778,\"#fb9f3a\"],[0.8888888888888888,\"#fdca26\"],[1.0,\"#f0f921\"]]}],\"surface\":[{\"type\":\"surface\",\"colorbar\":{\"outlinewidth\":0,\"ticks\":\"\"},\"colorscale\":[[0.0,\"#0d0887\"],[0.1111111111111111,\"#46039f\"],[0.2222222222222222,\"#7201a8\"],[0.3333333333333333,\"#9c179e\"],[0.4444444444444444,\"#bd3786\"],[0.5555555555555556,\"#d8576b\"],[0.6666666666666666,\"#ed7953\"],[0.7777777777777778,\"#fb9f3a\"],[0.8888888888888888,\"#fdca26\"],[1.0,\"#f0f921\"]]}],\"mesh3d\":[{\"type\":\"mesh3d\",\"colorbar\":{\"outlinewidth\":0,\"ticks\":\"\"}}],\"scatter\":[{\"fillpattern\":{\"fillmode\":\"overlay\",\"size\":10,\"solidity\":0.2},\"type\":\"scatter\"}],\"parcoords\":[{\"type\":\"parcoords\",\"line\":{\"colorbar\":{\"outlinewidth\":0,\"ticks\":\"\"}}}],\"scatterpolargl\":[{\"type\":\"scatterpolargl\",\"marker\":{\"colorbar\":{\"outlinewidth\":0,\"ticks\":\"\"}}}],\"bar\":[{\"error_x\":{\"color\":\"#2a3f5f\"},\"error_y\":{\"color\":\"#2a3f5f\"},\"marker\":{\"line\":{\"color\":\"#E5ECF6\",\"width\":0.5},\"pattern\":{\"fillmode\":\"overlay\",\"size\":10,\"solidity\":0.2}},\"type\":\"bar\"}],\"scattergeo\":[{\"type\":\"scattergeo\",\"marker\":{\"colorbar\":{\"outlinewidth\":0,\"ticks\":\"\"}}}],\"scatterpolar\":[{\"type\":\"scatterpolar\",\"marker\":{\"colorbar\":{\"outlinewidth\":0,\"ticks\":\"\"}}}],\"histogram\":[{\"marker\":{\"pattern\":{\"fillmode\":\"overlay\",\"size\":10,\"solidity\":0.2}},\"type\":\"histogram\"}],\"scattergl\":[{\"type\":\"scattergl\",\"marker\":{\"colorbar\":{\"outlinewidth\":0,\"ticks\":\"\"}}}],\"scatter3d\":[{\"type\":\"scatter3d\",\"line\":{\"colorbar\":{\"outlinewidth\":0,\"ticks\":\"\"}},\"marker\":{\"colorbar\":{\"outlinewidth\":0,\"ticks\":\"\"}}}],\"scattermapbox\":[{\"type\":\"scattermapbox\",\"marker\":{\"colorbar\":{\"outlinewidth\":0,\"ticks\":\"\"}}}],\"scatterternary\":[{\"type\":\"scatterternary\",\"marker\":{\"colorbar\":{\"outlinewidth\":0,\"ticks\":\"\"}}}],\"scattercarpet\":[{\"type\":\"scattercarpet\",\"marker\":{\"colorbar\":{\"outlinewidth\":0,\"ticks\":\"\"}}}],\"carpet\":[{\"aaxis\":{\"endlinecolor\":\"#2a3f5f\",\"gridcolor\":\"white\",\"linecolor\":\"white\",\"minorgridcolor\":\"white\",\"startlinecolor\":\"#2a3f5f\"},\"baxis\":{\"endlinecolor\":\"#2a3f5f\",\"gridcolor\":\"white\",\"linecolor\":\"white\",\"minorgridcolor\":\"white\",\"startlinecolor\":\"#2a3f5f\"},\"type\":\"carpet\"}],\"table\":[{\"cells\":{\"fill\":{\"color\":\"#EBF0F8\"},\"line\":{\"color\":\"white\"}},\"header\":{\"fill\":{\"color\":\"#C8D4E3\"},\"line\":{\"color\":\"white\"}},\"type\":\"table\"}],\"barpolar\":[{\"marker\":{\"line\":{\"color\":\"#E5ECF6\",\"width\":0.5},\"pattern\":{\"fillmode\":\"overlay\",\"size\":10,\"solidity\":0.2}},\"type\":\"barpolar\"}],\"pie\":[{\"automargin\":true,\"type\":\"pie\"}]},\"layout\":{\"autotypenumbers\":\"strict\",\"colorway\":[\"#636efa\",\"#EF553B\",\"#00cc96\",\"#ab63fa\",\"#FFA15A\",\"#19d3f3\",\"#FF6692\",\"#B6E880\",\"#FF97FF\",\"#FECB52\"],\"font\":{\"color\":\"#2a3f5f\"},\"hovermode\":\"closest\",\"hoverlabel\":{\"align\":\"left\"},\"paper_bgcolor\":\"white\",\"plot_bgcolor\":\"#E5ECF6\",\"polar\":{\"bgcolor\":\"#E5ECF6\",\"angularaxis\":{\"gridcolor\":\"white\",\"linecolor\":\"white\",\"ticks\":\"\"},\"radialaxis\":{\"gridcolor\":\"white\",\"linecolor\":\"white\",\"ticks\":\"\"}},\"ternary\":{\"bgcolor\":\"#E5ECF6\",\"aaxis\":{\"gridcolor\":\"white\",\"linecolor\":\"white\",\"ticks\":\"\"},\"baxis\":{\"gridcolor\":\"white\",\"linecolor\":\"white\",\"ticks\":\"\"},\"caxis\":{\"gridcolor\":\"white\",\"linecolor\":\"white\",\"ticks\":\"\"}},\"coloraxis\":{\"colorbar\":{\"outlinewidth\":0,\"ticks\":\"\"}},\"colorscale\":{\"sequential\":[[0.0,\"#0d0887\"],[0.1111111111111111,\"#46039f\"],[0.2222222222222222,\"#7201a8\"],[0.3333333333333333,\"#9c179e\"],[0.4444444444444444,\"#bd3786\"],[0.5555555555555556,\"#d8576b\"],[0.6666666666666666,\"#ed7953\"],[0.7777777777777778,\"#fb9f3a\"],[0.8888888888888888,\"#fdca26\"],[1.0,\"#f0f921\"]],\"sequentialminus\":[[0.0,\"#0d0887\"],[0.1111111111111111,\"#46039f\"],[0.2222222222222222,\"#7201a8\"],[0.3333333333333333,\"#9c179e\"],[0.4444444444444444,\"#bd3786\"],[0.5555555555555556,\"#d8576b\"],[0.6666666666666666,\"#ed7953\"],[0.7777777777777778,\"#fb9f3a\"],[0.8888888888888888,\"#fdca26\"],[1.0,\"#f0f921\"]],\"diverging\":[[0,\"#8e0152\"],[0.1,\"#c51b7d\"],[0.2,\"#de77ae\"],[0.3,\"#f1b6da\"],[0.4,\"#fde0ef\"],[0.5,\"#f7f7f7\"],[0.6,\"#e6f5d0\"],[0.7,\"#b8e186\"],[0.8,\"#7fbc41\"],[0.9,\"#4d9221\"],[1,\"#276419\"]]},\"xaxis\":{\"gridcolor\":\"white\",\"linecolor\":\"white\",\"ticks\":\"\",\"title\":{\"standoff\":15},\"zerolinecolor\":\"white\",\"automargin\":true,\"zerolinewidth\":2},\"yaxis\":{\"gridcolor\":\"white\",\"linecolor\":\"white\",\"ticks\":\"\",\"title\":{\"standoff\":15},\"zerolinecolor\":\"white\",\"automargin\":true,\"zerolinewidth\":2},\"scene\":{\"xaxis\":{\"backgroundcolor\":\"#E5ECF6\",\"gridcolor\":\"white\",\"linecolor\":\"white\",\"showbackground\":true,\"ticks\":\"\",\"zerolinecolor\":\"white\",\"gridwidth\":2},\"yaxis\":{\"backgroundcolor\":\"#E5ECF6\",\"gridcolor\":\"white\",\"linecolor\":\"white\",\"showbackground\":true,\"ticks\":\"\",\"zerolinecolor\":\"white\",\"gridwidth\":2},\"zaxis\":{\"backgroundcolor\":\"#E5ECF6\",\"gridcolor\":\"white\",\"linecolor\":\"white\",\"showbackground\":true,\"ticks\":\"\",\"zerolinecolor\":\"white\",\"gridwidth\":2}},\"shapedefaults\":{\"line\":{\"color\":\"#2a3f5f\"}},\"annotationdefaults\":{\"arrowcolor\":\"#2a3f5f\",\"arrowhead\":0,\"arrowwidth\":1},\"geo\":{\"bgcolor\":\"white\",\"landcolor\":\"#E5ECF6\",\"subunitcolor\":\"white\",\"showland\":true,\"showlakes\":true,\"lakecolor\":\"white\"},\"title\":{\"x\":0.05},\"mapbox\":{\"style\":\"light\"}}}},                        {\"responsive\": true}                    ).then(function(){\n",
       "                            \n",
       "var gd = document.getElementById('eadeef30-b881-45c8-a83a-2996b89fffed');\n",
       "var x = new MutationObserver(function (mutations, observer) {{\n",
       "        var display = window.getComputedStyle(gd).display;\n",
       "        if (!display || display === 'none') {{\n",
       "            console.log([gd, 'removed!']);\n",
       "            Plotly.purge(gd);\n",
       "            observer.disconnect();\n",
       "        }}\n",
       "}});\n",
       "\n",
       "// Listen for the removal of the full notebook cells\n",
       "var notebookContainer = gd.closest('#notebook-container');\n",
       "if (notebookContainer) {{\n",
       "    x.observe(notebookContainer, {childList: true});\n",
       "}}\n",
       "\n",
       "// Listen for the clearing of the current output cell\n",
       "var outputEl = gd.closest('.output');\n",
       "if (outputEl) {{\n",
       "    x.observe(outputEl, {childList: true});\n",
       "}}\n",
       "\n",
       "                        })                };                });            </script>        </div>"
      ]
     },
     "metadata": {},
     "output_type": "display_data"
    }
   ],
   "source": [
    "if config['tune_parameters']:\n",
    "    fig = optuna.visualization.plot_param_importances(study)\n",
    "    fig.show()"
   ]
  },
  {
   "cell_type": "code",
   "execution_count": 20,
   "id": "e5e2db36",
   "metadata": {
    "execution": {
     "iopub.execute_input": "2023-12-24T21:42:16.902306Z",
     "iopub.status.busy": "2023-12-24T21:42:16.901907Z",
     "iopub.status.idle": "2023-12-24T21:42:17.597767Z",
     "shell.execute_reply": "2023-12-24T21:42:17.596625Z"
    },
    "papermill": {
     "duration": 0.83417,
     "end_time": "2023-12-24T21:42:17.601066",
     "exception": false,
     "start_time": "2023-12-24T21:42:16.766896",
     "status": "completed"
    },
    "tags": []
   },
   "outputs": [
    {
     "data": {
      "text/html": [
       "<div>                            <div id=\"9a321d79-613a-4c87-8e18-3fed6c06af3f\" class=\"plotly-graph-div\" style=\"height:525px; width:5700px;\"></div>            <script type=\"text/javascript\">                require([\"plotly\"], function(Plotly) {                    window.PLOTLYENV=window.PLOTLYENV || {};                                    if (document.getElementById(\"9a321d79-613a-4c87-8e18-3fed6c06af3f\")) {                    Plotly.newPlot(                        \"9a321d79-613a-4c87-8e18-3fed6c06af3f\",                        [{\"marker\":{\"color\":[4,7,11,12,15,16,58,66,78,99,126,156,189],\"colorbar\":{\"title\":{\"text\":\"Trial\"},\"x\":1.0,\"xpad\":40},\"colorscale\":[[0.0,\"rgb(247,251,255)\"],[0.125,\"rgb(222,235,247)\"],[0.25,\"rgb(198,219,239)\"],[0.375,\"rgb(158,202,225)\"],[0.5,\"rgb(107,174,214)\"],[0.625,\"rgb(66,146,198)\"],[0.75,\"rgb(33,113,181)\"],[0.875,\"rgb(8,81,156)\"],[1.0,\"rgb(8,48,107)\"]],\"line\":{\"color\":\"Grey\",\"width\":0.5},\"showscale\":true},\"mode\":\"markers\",\"name\":\"Feasible Trial\",\"showlegend\":false,\"x\":[0.6792555471184365,0.6686594979113007,0.9640127674073007,0.023783196293310827,0.5069161524779796,0.8459297596812332,0.1534898528019918,0.28894419403303845,0.35228921118147527,0.015137042767844111,0.4954326253873095,0.22722008752429151,0.41297054577939696],\"y\":[0.04222622235581363,0.0032431367726892027,0.040311854817163366,0.02723760414010048,0.03421702887990229,0.032846159568137745,0.008975654594916237,0.019599147903231705,0.03586836676139518,0.044584213818147145,0.03672534794330944,0.04382569133238663,0.0463002521526342],\"type\":\"scatter\",\"xaxis\":\"x\",\"yaxis\":\"y\"},{\"marker\":{\"color\":[4,7,11,12,15,16,58,66,78,99,126,156,189],\"colorbar\":{\"title\":{\"text\":\"Trial\"},\"x\":1.0,\"xpad\":40},\"colorscale\":[[0.0,\"rgb(247,251,255)\"],[0.125,\"rgb(222,235,247)\"],[0.25,\"rgb(198,219,239)\"],[0.375,\"rgb(158,202,225)\"],[0.5,\"rgb(107,174,214)\"],[0.625,\"rgb(66,146,198)\"],[0.75,\"rgb(33,113,181)\"],[0.875,\"rgb(8,81,156)\"],[1.0,\"rgb(8,48,107)\"]],\"line\":{\"color\":\"Grey\",\"width\":0.5},\"showscale\":false},\"mode\":\"markers\",\"name\":\"Feasible Trial\",\"showlegend\":false,\"x\":[693,10,1527,693,178,164,5,31,45,18,74,5,113],\"y\":[0.04222622235581363,0.0032431367726892027,0.040311854817163366,0.02723760414010048,0.03421702887990229,0.032846159568137745,0.008975654594916237,0.019599147903231705,0.03586836676139518,0.044584213818147145,0.03672534794330944,0.04382569133238663,0.0463002521526342],\"type\":\"scatter\",\"xaxis\":\"x2\",\"yaxis\":\"y2\"},{\"marker\":{\"color\":[1,5,10,13,14,17,19,20,21,22,23,24,25,26,27,28,29,119,146,178],\"colorbar\":{\"title\":{\"text\":\"Trial\"},\"x\":1.0,\"xpad\":40},\"colorscale\":[[0.0,\"rgb(247,251,255)\"],[0.125,\"rgb(222,235,247)\"],[0.25,\"rgb(198,219,239)\"],[0.375,\"rgb(158,202,225)\"],[0.5,\"rgb(107,174,214)\"],[0.625,\"rgb(66,146,198)\"],[0.75,\"rgb(33,113,181)\"],[0.875,\"rgb(8,81,156)\"],[1.0,\"rgb(8,48,107)\"]],\"line\":{\"color\":\"Grey\",\"width\":0.5},\"showscale\":false},\"mode\":\"markers\",\"name\":\"Feasible Trial\",\"showlegend\":false,\"x\":[1439,35,1642,1118,5,289,250,290,434,499,277,436,541,111,653,683,129,35,7,11],\"y\":[0.04509172222829511,0.014500313482954977,0.022460325050703778,0.02537274489622431,0.003935649463815118,0.015036593252450218,0.04605244501524226,0.037450218451318754,0.046480971660534276,0.04607979317715426,0.045455977277420144,0.046490539342491026,0.04562692036773972,0.04491981136371991,0.04582529131902761,0.04214051171348476,0.04658781773357208,0.04694980705238036,0.04366608068884334,0.042249004900353944],\"type\":\"scatter\",\"xaxis\":\"x3\",\"yaxis\":\"y3\"},{\"marker\":{\"color\":[0,2,6,8,44,49,59,76,96,116,149,179],\"colorbar\":{\"title\":{\"text\":\"Trial\"},\"x\":1.0,\"xpad\":40},\"colorscale\":[[0.0,\"rgb(247,251,255)\"],[0.125,\"rgb(222,235,247)\"],[0.25,\"rgb(198,219,239)\"],[0.375,\"rgb(158,202,225)\"],[0.5,\"rgb(107,174,214)\"],[0.625,\"rgb(66,146,198)\"],[0.75,\"rgb(33,113,181)\"],[0.875,\"rgb(8,81,156)\"],[1.0,\"rgb(8,48,107)\"]],\"line\":{\"color\":\"Grey\",\"width\":0.5},\"showscale\":false},\"mode\":\"markers\",\"name\":\"Feasible Trial\",\"showlegend\":false,\"x\":[0.0005967050287171578,0.000026063796768132538,0.016306329183563124,0.024184180978712166,14.661003324572896,75.20728273983102,1.5320273610849366,1.5075363323659252,0.000012330473101649516,0.0009957121228970937,0.15569899668863177,56.738706729969856],\"y\":[0.04044604146172684,0.026432328669800075,0.033413947031248545,0.03850775661578129,0.026286680541892912,0.044488483865875464,0.003961547861939995,0.03629731846832115,0.03966300202815175,0.016794359735733122,0.0477362166174816,0.031623021945325194],\"type\":\"scatter\",\"xaxis\":\"x4\",\"yaxis\":\"y4\"},{\"marker\":{\"color\":[0,2,6,8,44,49,59,76,96,116,149,179],\"colorbar\":{\"title\":{\"text\":\"Trial\"},\"x\":1.0,\"xpad\":40},\"colorscale\":[[0.0,\"rgb(247,251,255)\"],[0.125,\"rgb(222,235,247)\"],[0.25,\"rgb(198,219,239)\"],[0.375,\"rgb(158,202,225)\"],[0.5,\"rgb(107,174,214)\"],[0.625,\"rgb(66,146,198)\"],[0.75,\"rgb(33,113,181)\"],[0.875,\"rgb(8,81,156)\"],[1.0,\"rgb(8,48,107)\"]],\"line\":{\"color\":\"Grey\",\"width\":0.5},\"showscale\":false},\"mode\":\"markers\",\"name\":\"Feasible Trial\",\"showlegend\":false,\"x\":[15,7,39,48,1941,335,5,249,1947,124,26,617],\"y\":[0.04044604146172684,0.026432328669800075,0.033413947031248545,0.03850775661578129,0.026286680541892912,0.044488483865875464,0.003961547861939995,0.03629731846832115,0.03966300202815175,0.016794359735733122,0.0477362166174816,0.031623021945325194],\"type\":\"scatter\",\"xaxis\":\"x5\",\"yaxis\":\"y5\"},{\"marker\":{\"color\":[3,9,18,30,31,32,33,34,35,36,37,38,39,40,41,42,43,45,46,47,48,50,51,52,53,54,55,56,57,60,61,62,63,64,65,67,68,69,70,71,72,73,74,75,77,79,80,81,82,83,84,85,86,87,88,89,90,91,92,93,94,95,97,98,100,101,102,103,104,105,106,107,108,109,110,111,112,113,114,115,117,118,120,121,122,123,124,125,127,128,129,130,131,132,133,134,135,136,137,138,139,140,141,142,143,144,145,147,148,150,151,152,153,154,155,157,158,159,160,161,162,163,164,165,166,167,168,169,170,171,172,173,174,175,176,177,180,181,182,183,184,185,186,187,188,190,191,192,193,194,195,196,197,198,199],\"colorbar\":{\"title\":{\"text\":\"Trial\"},\"x\":1.0,\"xpad\":40},\"colorscale\":[[0.0,\"rgb(247,251,255)\"],[0.125,\"rgb(222,235,247)\"],[0.25,\"rgb(198,219,239)\"],[0.375,\"rgb(158,202,225)\"],[0.5,\"rgb(107,174,214)\"],[0.625,\"rgb(66,146,198)\"],[0.75,\"rgb(33,113,181)\"],[0.875,\"rgb(8,81,156)\"],[1.0,\"rgb(8,48,107)\"]],\"line\":{\"color\":\"Grey\",\"width\":0.5},\"showscale\":false},\"mode\":\"markers\",\"name\":\"Feasible Trial\",\"showlegend\":false,\"x\":[0.0009365233615258673,0.05471071858316495,51.46945450453685,0.00002258419207136494,0.000012610398722296761,0.00003104605513302773,0.000010933642380781337,0.000010331372655995402,0.000010265091093017333,0.000012127492752988107,0.00007338973651116206,0.00017546140916541042,0.00019548952913679184,0.00043098579522577753,0.000010113128102648077,0.00007683082064471747,0.0001350269239476997,0.0000933191268427354,0.00015679242744683514,0.0012972342546129628,0.00006617814920580483,0.00007981749152792626,0.00018354636722679412,0.00004734782733311465,0.000048661505290449856,0.000034649807720727806,0.00005227640860342165,0.0000453171519961708,0.0006413576116757238,0.000038425404174764504,0.000026269056399050546,0.00003322932910850335,0.00019319728498010583,0.0003381881463956842,0.00039539652411085645,0.0016515706292169617,0.00044365562048083673,0.0017435651040087266,0.00042625334635734973,0.00011286066164048779,0.0001237318117097322,0.0002804452201061046,0.0002874541139991352,0.00573274351676921,0.000327005040626492,0.0008214780125682355,0.00028257890677636663,0.0001246835964262789,0.00013439340615699455,0.000024317688749389835,0.0002858526732937135,0.0002714326237522739,0.0006753495674973285,0.00014363727124495633,0.000304131999979779,0.00009376184810165303,0.00002038561840831526,0.00009941809629324503,0.00010623097563477351,0.00010502176052299142,0.0000686356888961927,0.00020242799337655225,0.00009117450488756117,0.00001823244695581312,0.00007175012101047188,0.00014289441304876264,0.00021392031392950068,0.00021253164675616432,0.000038110861993300245,0.00006450235063417893,0.00006615181195658036,0.000043599929818110304,0.00001815220898120111,0.00008401329528172023,0.00019394695523318613,0.0004175668492433344,0.00011998004001875315,0.000053777941574084635,0.000031864624129960935,0.00004878110689339497,0.00010908336097659281,0.00010747048265074405,0.00010615213112648251,0.00005823733687777284,0.00006578547312871495,0.00015233452308404343,0.00003131607261536713,0.00003203256257067051,0.000015309672045998263,0.000031909670273011806,0.000024178868082005904,0.000013161233828210487,0.00004909592477977475,0.00008068628158600422,0.000028082276518187352,0.0001594478838538272,0.00008819690238422464,0.00004161189586959302,0.000035165049665676085,0.00005024065769132005,0.00002663512585543846,0.000010328768065635764,0.00007094180765722706,0.00015175656031595118,0.0004559153954107377,0.0005760966616441996,0.0004685454218500105,0.00025103378405494614,0.000056641347409182506,0.00003879911288093041,0.00009405238180762114,0.00015126152996581643,0.00035721179734670756,0.00022545097997780933,0.00012183875839841495,0.00006799432994862684,0.000023957351945095816,0.00008954911039213622,0.00001661200319709395,0.00006552898752845417,0.000039814123268343567,0.00004021948424369078,0.00005018195200866084,0.00003982415652037843,0.0000622162076877842,0.0001710198755356159,0.00002160655400179105,0.00026894082174898815,0.00008392348026146095,0.000037581663678800175,0.000034387079184013955,0.0000552444119448761,0.00003667663026569584,0.0010059909551330087,0.0006597042036966303,0.0009012991124143496,0.00045329985294792187,0.00012210192173602112,0.00018678825844954994,0.0003388154573313265,0.00008967665262120195,0.00004590557167137604,0.001197714146249389,0.000027082467474004164,0.00006590277184368423,0.00024294445219491046,0.000018847103378908886,0.000030905639280935205,0.00003891491069026579,0.0001279330780486556,0.00006061539529134054,0.00007797503472960405,0.000044398101789746375,0.000013641596596280279,0.0005356720889595254],\"y\":[0.030766245703841528,0.04040824133785161,0.036124140009230254,0.04697658214012542,0.0471829609489812,0.04687766802079231,0.046760320648280396,0.04571548120013182,0.04068718803512278,0.014733243463159339,0.046692918017756185,0.044877699900414694,0.047063939896285524,0.023369034715390917,0.047193530561932075,0.04759304295551486,0.045862620838950784,0.04763941642073884,0.04780026429725233,0.04099618127664286,0.008248761248952541,0.04561208875286977,0.046891641922007794,0.04767627913190331,0.015258972595669211,0.04783760899794815,0.03169977593179608,0.04585456743906504,0.024019344858575934,0.04664144381292496,0.04755344011488881,0.035008186231646796,0.047539101875129816,0.047677178592682196,0.04770068601911633,0.007758186990685051,0.045094177718269894,0.04591985994219217,0.002938117098407853,0.04769377497237163,0.040926103034940604,0.0478453436016085,0.04785989816737771,0.04668065954384894,0.04662751165883406,0.03885556329774994,0.04749229196269241,0.04780205562842406,0.04715654260939337,0.04661932163199452,0.04772694496059141,0.04722363023888531,0.045593249414022895,0.04646506221080704,0.026965739273266193,0.047866953431462606,0.023923975449654505,0.047810814934237576,0.04742591782951458,0.04784006448792296,0.04764540144035239,0.04544194265311392,0.04615415239674104,0.047610584338301225,0.04712987758225014,0.047698401312833864,0.047766794488773,0.04704989768159297,0.047597399837262765,0.04776951943746205,0.04749346847257208,0.04750286916602971,0.04040377060030912,0.04666577479627478,0.04729468384522967,0.04795321817199273,0.0479328228039501,0.04776865413342156,0.046595605469936706,0.046453543799565976,0.04783649321115909,0.03847789983119028,0.04554172207648763,0.047919702821195544,0.04787943202657295,0.047847681440595265,0.04785076693263444,0.0475623436380424,0.04499388214862633,0.04787768244252635,0.04702096692413335,0.045863740420933066,0.04779259800706898,0.04762717692279737,0.04772633013929933,0.046180096337184,0.04786104431571223,0.047869928862900174,0.04763833479068823,0.047441356675289925,0.0468491699153529,0.04708170519546841,0.04782795023135563,0.047455793590071356,0.04795083858588135,0.04559057759803802,0.03909876307064565,0.04765660864575437,0.03357286694963653,0.046256007790773164,0.047778085188424295,0.04767755052161198,0.04765515129158089,0.047795842897220664,0.04647370386563261,0.04782273563595363,0.0005463484169490285,0.047075488669072074,0.04259185126486262,0.047858987321019314,0.047921414453310635,0.04786112401476851,0.047815441274699826,0.04781108059775881,0.047644676558458755,0.046368531472778536,0.047656024186007735,0.04769210888257448,0.04713188523943188,0.04785010277383148,0.04783660327176083,0.04779795302461775,0.04781482645340794,0.047955552215786255,0.0477545777619905,0.047777443800780535,0.04747002935961502,0.04774045964343472,0.04762587896673658,0.047703862595791374,0.04725263310501526,0.03962038580415646,0.04766197504888269,0.04782964668269824,0.047811877588322345,0.03489367766361874,0.04734406310343636,0.047751275943941185,0.047705274407646915,0.03469309031952524,0.04682635700926702,0.04764399721888298,0.0438476768863635,0.04777443421260425,0.04748083047934876],\"type\":\"scatter\",\"xaxis\":\"x6\",\"yaxis\":\"y6\"},{\"marker\":{\"color\":[3,9,18,30,31,32,33,34,35,36,37,38,39,40,41,42,43,45,46,47,48,50,51,52,53,54,55,56,57,60,61,62,63,64,65,67,68,69,70,71,72,73,74,75,77,79,80,81,82,83,84,85,86,87,88,89,90,91,92,93,94,95,97,98,100,101,102,103,104,105,106,107,108,109,110,111,112,113,114,115,117,118,120,121,122,123,124,125,127,128,129,130,131,132,133,134,135,136,137,138,139,140,141,142,143,144,145,147,148,150,151,152,153,154,155,157,158,159,160,161,162,163,164,165,166,167,168,169,170,171,172,173,174,175,176,177,180,181,182,183,184,185,186,187,188,190,191,192,193,194,195,196,197,198,199],\"colorbar\":{\"title\":{\"text\":\"Trial\"},\"x\":1.0,\"xpad\":40},\"colorscale\":[[0.0,\"rgb(247,251,255)\"],[0.125,\"rgb(222,235,247)\"],[0.25,\"rgb(198,219,239)\"],[0.375,\"rgb(158,202,225)\"],[0.5,\"rgb(107,174,214)\"],[0.625,\"rgb(66,146,198)\"],[0.75,\"rgb(33,113,181)\"],[0.875,\"rgb(8,81,156)\"],[1.0,\"rgb(8,48,107)\"]],\"line\":{\"color\":\"Grey\",\"width\":0.5},\"showscale\":false},\"mode\":\"markers\",\"name\":\"Feasible Trial\",\"showlegend\":false,\"x\":[0.0002396033435028966,0.012888884733017832,73.77414463159138,0.000019361920908103406,0.000011121986663129888,0.000010701861260873185,0.000012082778371088262,0.000011008199950540271,0.000011012448581068454,0.000012317523889582781,0.000012766903982310255,0.0001824208210400545,0.00017099573377236317,0.0001976218300305474,0.0000677198295929171,0.00009260251322813019,0.0001326105011975672,0.00014632378885297303,0.0007883427149145793,0.0013753073386961832,0.0009387871744649662,0.00007531242752749182,0.0000698226504968414,0.0007400972757265921,0.0012207794843290855,0.00006296201363041045,0.0005311174359751636,0.0000618147043900186,0.0005070352334846422,0.00006077184654876345,0.00005230171301067381,0.00007091469135857886,0.00004679134780921599,0.0003333879994157532,0.0002536624444457504,0.0003366880129810905,0.0026671268722156275,0.0034965519776428396,0.00031959018775550675,0.0003550111322538852,0.00048320116276228374,0.000188313495201157,0.00028392905675346926,0.0007841354954985945,0.00031464329763498076,0.00003041967566039933,0.0025819425955506395,0.00023466467869112133,0.00022792459008911758,0.0002740808668486369,0.0006357864771889035,0.00014491435492210356,0.00002512928934578102,0.0002040513842929922,0.00011377921466252701,0.000541770506584683,0.0006445775027918723,0.0003773129348336736,0.0016360086547459864,0.00014100864271298947,0.00012767737083151223,0.00016353752309145446,0.0009377589884083399,0.00003351363986642014,0.00011582105186456839,0.0004838532793365623,0.0004736230782631378,0.0002160516789738852,0.0006673307199297099,0.00010207655445178527,0.0000994414343943813,0.00010941471977380994,0.00004198391312928085,0.000019508468166954985,0.001377777939807044,0.00019708614080262446,0.0004386232140812529,0.00020056393535484846,0.00007020497626483858,0.00023355701744199697,0.0001732182360161648,0.00008356155956342468,0.0003794178094544674,0.00016980242758893392,0.00016303727346827005,0.00016868925959861279,0.0001547848144440663,0.00017627118528287374,0.00005077514180549514,0.00031552723258934364,0.00014924021619243258,0.00007378082532478542,0.0003614870379146684,0.00028469224141136965,0.00014246433976504747,0.0004327095348060975,0.00017787889762420413,0.00017176959553229918,0.00008650749744480031,0.00005054725627368571,0.0002622737891966819,0.00013057777412192132,0.00018701357529966642,0.0001725221828817289,0.0002782455373172546,0.0002597845107954468,0.00011254721950748958,0.0004871865101364362,0.00031957790772368835,0.0000836111541145549,0.00016542276964998004,0.00021208341483846204,0.0001303569679522924,0.00028748771679180566,0.00006452337267857559,0.0005954001554624841,0.00009077556382170685,0.00040047570637263786,0.00015360577582309578,0.00018112458269994898,0.00023275827750481932,0.00023586053735897867,0.0002578342438087888,0.00020843004478260474,0.0007686359472524319,0.00036554479158397354,0.0005324267975567623,0.0001003719131407836,0.00026975762899329704,0.00012747219567419807,0.0001237562910228651,0.0002035197672587955,0.00014693353506310672,0.00029497185128196716,0.0003826973728549255,0.0002707404521498907,0.0008928014155378466,0.00018073144906211592,0.00011540743914136094,0.0002268822713644231,0.00039430766957059617,0.0005598314199460453,0.0003024512495977622,0.00015377799931668617,0.00008632739515138963,0.0001996727540571312,0.00005986259100119017,0.00012062482138214949,0.000312479000837656,0.0001738651222495486,0.0000373138764991753,0.00006920670679454414,0.00010484621841866483,0.0004612977023763224,0.00022802608800654843],\"y\":[0.030766245703841528,0.04040824133785161,0.036124140009230254,0.04697658214012542,0.0471829609489812,0.04687766802079231,0.046760320648280396,0.04571548120013182,0.04068718803512278,0.014733243463159339,0.046692918017756185,0.044877699900414694,0.047063939896285524,0.023369034715390917,0.047193530561932075,0.04759304295551486,0.045862620838950784,0.04763941642073884,0.04780026429725233,0.04099618127664286,0.008248761248952541,0.04561208875286977,0.046891641922007794,0.04767627913190331,0.015258972595669211,0.04783760899794815,0.03169977593179608,0.04585456743906504,0.024019344858575934,0.04664144381292496,0.04755344011488881,0.035008186231646796,0.047539101875129816,0.047677178592682196,0.04770068601911633,0.007758186990685051,0.045094177718269894,0.04591985994219217,0.002938117098407853,0.04769377497237163,0.040926103034940604,0.0478453436016085,0.04785989816737771,0.04668065954384894,0.04662751165883406,0.03885556329774994,0.04749229196269241,0.04780205562842406,0.04715654260939337,0.04661932163199452,0.04772694496059141,0.04722363023888531,0.045593249414022895,0.04646506221080704,0.026965739273266193,0.047866953431462606,0.023923975449654505,0.047810814934237576,0.04742591782951458,0.04784006448792296,0.04764540144035239,0.04544194265311392,0.04615415239674104,0.047610584338301225,0.04712987758225014,0.047698401312833864,0.047766794488773,0.04704989768159297,0.047597399837262765,0.04776951943746205,0.04749346847257208,0.04750286916602971,0.04040377060030912,0.04666577479627478,0.04729468384522967,0.04795321817199273,0.0479328228039501,0.04776865413342156,0.046595605469936706,0.046453543799565976,0.04783649321115909,0.03847789983119028,0.04554172207648763,0.047919702821195544,0.04787943202657295,0.047847681440595265,0.04785076693263444,0.0475623436380424,0.04499388214862633,0.04787768244252635,0.04702096692413335,0.045863740420933066,0.04779259800706898,0.04762717692279737,0.04772633013929933,0.046180096337184,0.04786104431571223,0.047869928862900174,0.04763833479068823,0.047441356675289925,0.0468491699153529,0.04708170519546841,0.04782795023135563,0.047455793590071356,0.04795083858588135,0.04559057759803802,0.03909876307064565,0.04765660864575437,0.03357286694963653,0.046256007790773164,0.047778085188424295,0.04767755052161198,0.04765515129158089,0.047795842897220664,0.04647370386563261,0.04782273563595363,0.0005463484169490285,0.047075488669072074,0.04259185126486262,0.047858987321019314,0.047921414453310635,0.04786112401476851,0.047815441274699826,0.04781108059775881,0.047644676558458755,0.046368531472778536,0.047656024186007735,0.04769210888257448,0.04713188523943188,0.04785010277383148,0.04783660327176083,0.04779795302461775,0.04781482645340794,0.047955552215786255,0.0477545777619905,0.047777443800780535,0.04747002935961502,0.04774045964343472,0.04762587896673658,0.047703862595791374,0.04725263310501526,0.03962038580415646,0.04766197504888269,0.04782964668269824,0.047811877588322345,0.03489367766361874,0.04734406310343636,0.047751275943941185,0.047705274407646915,0.03469309031952524,0.04682635700926702,0.04764399721888298,0.0438476768863635,0.04777443421260425,0.04748083047934876],\"type\":\"scatter\",\"xaxis\":\"x7\",\"yaxis\":\"y7\"},{\"marker\":{\"color\":[3,9,18,30,31,32,33,34,35,36,37,38,39,40,41,42,43,45,46,47,48,50,51,52,53,54,55,56,57,60,61,62,63,64,65,67,68,69,70,71,72,73,74,75,77,79,80,81,82,83,84,85,86,87,88,89,90,91,92,93,94,95,97,98,100,101,102,103,104,105,106,107,108,109,110,111,112,113,114,115,117,118,120,121,122,123,124,125,127,128,129,130,131,132,133,134,135,136,137,138,139,140,141,142,143,144,145,147,148,150,151,152,153,154,155,157,158,159,160,161,162,163,164,165,166,167,168,169,170,171,172,173,174,175,176,177,180,181,182,183,184,185,186,187,188,190,191,192,193,194,195,196,197,198,199],\"colorbar\":{\"title\":{\"text\":\"Trial\"},\"x\":1.0,\"xpad\":40},\"colorscale\":[[0.0,\"rgb(247,251,255)\"],[0.125,\"rgb(222,235,247)\"],[0.25,\"rgb(198,219,239)\"],[0.375,\"rgb(158,202,225)\"],[0.5,\"rgb(107,174,214)\"],[0.625,\"rgb(66,146,198)\"],[0.75,\"rgb(33,113,181)\"],[0.875,\"rgb(8,81,156)\"],[1.0,\"rgb(8,48,107)\"]],\"line\":{\"color\":\"Grey\",\"width\":0.5},\"showscale\":false},\"mode\":\"markers\",\"name\":\"Feasible Trial\",\"showlegend\":false,\"x\":[18,26,1398,328,370,348,351,330,303,299,319,587,114,87,120,96,103,94,86,59,65,144,147,55,51,51,33,44,81,42,77,71,132,71,72,22,31,50,62,77,92,40,43,41,29,19,38,57,52,62,39,26,35,44,15,75,34,72,72,54,47,58,112,54,39,85,91,99,63,46,45,52,37,26,60,81,85,88,80,114,67,64,50,73,69,72,70,72,68,102,133,84,107,73,101,64,82,82,95,123,79,56,77,57,87,100,89,81,49,114,66,67,57,90,43,77,106,67,50,80,92,85,93,83,102,144,125,78,87,61,60,72,97,74,84,112,73,62,72,91,55,83,65,102,76,55,44,49,61,69,40,82,97,52,75],\"y\":[0.030766245703841528,0.04040824133785161,0.036124140009230254,0.04697658214012542,0.0471829609489812,0.04687766802079231,0.046760320648280396,0.04571548120013182,0.04068718803512278,0.014733243463159339,0.046692918017756185,0.044877699900414694,0.047063939896285524,0.023369034715390917,0.047193530561932075,0.04759304295551486,0.045862620838950784,0.04763941642073884,0.04780026429725233,0.04099618127664286,0.008248761248952541,0.04561208875286977,0.046891641922007794,0.04767627913190331,0.015258972595669211,0.04783760899794815,0.03169977593179608,0.04585456743906504,0.024019344858575934,0.04664144381292496,0.04755344011488881,0.035008186231646796,0.047539101875129816,0.047677178592682196,0.04770068601911633,0.007758186990685051,0.045094177718269894,0.04591985994219217,0.002938117098407853,0.04769377497237163,0.040926103034940604,0.0478453436016085,0.04785989816737771,0.04668065954384894,0.04662751165883406,0.03885556329774994,0.04749229196269241,0.04780205562842406,0.04715654260939337,0.04661932163199452,0.04772694496059141,0.04722363023888531,0.045593249414022895,0.04646506221080704,0.026965739273266193,0.047866953431462606,0.023923975449654505,0.047810814934237576,0.04742591782951458,0.04784006448792296,0.04764540144035239,0.04544194265311392,0.04615415239674104,0.047610584338301225,0.04712987758225014,0.047698401312833864,0.047766794488773,0.04704989768159297,0.047597399837262765,0.04776951943746205,0.04749346847257208,0.04750286916602971,0.04040377060030912,0.04666577479627478,0.04729468384522967,0.04795321817199273,0.0479328228039501,0.04776865413342156,0.046595605469936706,0.046453543799565976,0.04783649321115909,0.03847789983119028,0.04554172207648763,0.047919702821195544,0.04787943202657295,0.047847681440595265,0.04785076693263444,0.0475623436380424,0.04499388214862633,0.04787768244252635,0.04702096692413335,0.045863740420933066,0.04779259800706898,0.04762717692279737,0.04772633013929933,0.046180096337184,0.04786104431571223,0.047869928862900174,0.04763833479068823,0.047441356675289925,0.0468491699153529,0.04708170519546841,0.04782795023135563,0.047455793590071356,0.04795083858588135,0.04559057759803802,0.03909876307064565,0.04765660864575437,0.03357286694963653,0.046256007790773164,0.047778085188424295,0.04767755052161198,0.04765515129158089,0.047795842897220664,0.04647370386563261,0.04782273563595363,0.0005463484169490285,0.047075488669072074,0.04259185126486262,0.047858987321019314,0.047921414453310635,0.04786112401476851,0.047815441274699826,0.04781108059775881,0.047644676558458755,0.046368531472778536,0.047656024186007735,0.04769210888257448,0.04713188523943188,0.04785010277383148,0.04783660327176083,0.04779795302461775,0.04781482645340794,0.047955552215786255,0.0477545777619905,0.047777443800780535,0.04747002935961502,0.04774045964343472,0.04762587896673658,0.047703862595791374,0.04725263310501526,0.03962038580415646,0.04766197504888269,0.04782964668269824,0.047811877588322345,0.03489367766361874,0.04734406310343636,0.047751275943941185,0.047705274407646915,0.03469309031952524,0.04682635700926702,0.04764399721888298,0.0438476768863635,0.04777443421260425,0.04748083047934876],\"type\":\"scatter\",\"xaxis\":\"x8\",\"yaxis\":\"y8\"},{\"marker\":{\"color\":[0,1,2,3,4,5,6,7,8,9,10,11,12,13,14,15,16,17,18,19,20,21,22,23,24,25,26,27,28,29,30,31,32,33,34,35,36,37,38,39,40,41,42,43,44,45,46,47,48,49,50,51,52,53,54,55,56,57,58,59,60,61,62,63,64,65,66,67,68,69,70,71,72,73,74,75,76,77,78,79,80,81,82,83,84,85,86,87,88,89,90,91,92,93,94,95,96,97,98,99,100,101,102,103,104,105,106,107,108,109,110,111,112,113,114,115,116,117,118,119,120,121,122,123,124,125,126,127,128,129,130,131,132,133,134,135,136,137,138,139,140,141,142,143,144,145,146,147,148,149,150,151,152,153,154,155,156,157,158,159,160,161,162,163,164,165,166,167,168,169,170,171,172,173,174,175,176,177,178,179,180,181,182,183,184,185,186,187,188,189,190,191,192,193,194,195,196,197,198,199],\"colorbar\":{\"title\":{\"text\":\"Trial\"},\"x\":1.0,\"xpad\":40},\"colorscale\":[[0.0,\"rgb(247,251,255)\"],[0.125,\"rgb(222,235,247)\"],[0.25,\"rgb(198,219,239)\"],[0.375,\"rgb(158,202,225)\"],[0.5,\"rgb(107,174,214)\"],[0.625,\"rgb(66,146,198)\"],[0.75,\"rgb(33,113,181)\"],[0.875,\"rgb(8,81,156)\"],[1.0,\"rgb(8,48,107)\"]],\"line\":{\"color\":\"Grey\",\"width\":0.5},\"showscale\":false},\"mode\":\"markers\",\"name\":\"Feasible Trial\",\"showlegend\":false,\"x\":[\"p3alpha\",\"p3\",\"p3alpha\",\"rp3beta\",\"hhp\",\"p3\",\"p3alpha\",\"hhp\",\"p3alpha\",\"rp3beta\",\"p3\",\"hhp\",\"hhp\",\"p3\",\"p3\",\"hhp\",\"hhp\",\"p3\",\"rp3beta\",\"p3\",\"p3\",\"p3\",\"p3\",\"p3\",\"p3\",\"p3\",\"p3\",\"p3\",\"p3\",\"p3\",\"rp3beta\",\"rp3beta\",\"rp3beta\",\"rp3beta\",\"rp3beta\",\"rp3beta\",\"rp3beta\",\"rp3beta\",\"rp3beta\",\"rp3beta\",\"rp3beta\",\"rp3beta\",\"rp3beta\",\"rp3beta\",\"p3alpha\",\"rp3beta\",\"rp3beta\",\"rp3beta\",\"rp3beta\",\"p3alpha\",\"rp3beta\",\"rp3beta\",\"rp3beta\",\"rp3beta\",\"rp3beta\",\"rp3beta\",\"rp3beta\",\"rp3beta\",\"hhp\",\"p3alpha\",\"rp3beta\",\"rp3beta\",\"rp3beta\",\"rp3beta\",\"rp3beta\",\"rp3beta\",\"hhp\",\"rp3beta\",\"rp3beta\",\"rp3beta\",\"rp3beta\",\"rp3beta\",\"rp3beta\",\"rp3beta\",\"rp3beta\",\"rp3beta\",\"p3alpha\",\"rp3beta\",\"hhp\",\"rp3beta\",\"rp3beta\",\"rp3beta\",\"rp3beta\",\"rp3beta\",\"rp3beta\",\"rp3beta\",\"rp3beta\",\"rp3beta\",\"rp3beta\",\"rp3beta\",\"rp3beta\",\"rp3beta\",\"rp3beta\",\"rp3beta\",\"rp3beta\",\"rp3beta\",\"p3alpha\",\"rp3beta\",\"rp3beta\",\"hhp\",\"rp3beta\",\"rp3beta\",\"rp3beta\",\"rp3beta\",\"rp3beta\",\"rp3beta\",\"rp3beta\",\"rp3beta\",\"rp3beta\",\"rp3beta\",\"rp3beta\",\"rp3beta\",\"rp3beta\",\"rp3beta\",\"rp3beta\",\"rp3beta\",\"p3alpha\",\"rp3beta\",\"rp3beta\",\"p3\",\"rp3beta\",\"rp3beta\",\"rp3beta\",\"rp3beta\",\"rp3beta\",\"rp3beta\",\"hhp\",\"rp3beta\",\"rp3beta\",\"rp3beta\",\"rp3beta\",\"rp3beta\",\"rp3beta\",\"rp3beta\",\"rp3beta\",\"rp3beta\",\"rp3beta\",\"rp3beta\",\"rp3beta\",\"rp3beta\",\"rp3beta\",\"rp3beta\",\"rp3beta\",\"rp3beta\",\"rp3beta\",\"rp3beta\",\"p3\",\"rp3beta\",\"rp3beta\",\"p3alpha\",\"rp3beta\",\"rp3beta\",\"rp3beta\",\"rp3beta\",\"rp3beta\",\"rp3beta\",\"hhp\",\"rp3beta\",\"rp3beta\",\"rp3beta\",\"rp3beta\",\"rp3beta\",\"rp3beta\",\"rp3beta\",\"rp3beta\",\"rp3beta\",\"rp3beta\",\"rp3beta\",\"rp3beta\",\"rp3beta\",\"rp3beta\",\"rp3beta\",\"rp3beta\",\"rp3beta\",\"rp3beta\",\"rp3beta\",\"rp3beta\",\"rp3beta\",\"p3\",\"p3alpha\",\"rp3beta\",\"rp3beta\",\"rp3beta\",\"rp3beta\",\"rp3beta\",\"rp3beta\",\"rp3beta\",\"rp3beta\",\"rp3beta\",\"hhp\",\"rp3beta\",\"rp3beta\",\"rp3beta\",\"rp3beta\",\"rp3beta\",\"rp3beta\",\"rp3beta\",\"rp3beta\",\"rp3beta\",\"rp3beta\"],\"y\":[0.04044604146172684,0.04509172222829511,0.026432328669800075,0.030766245703841528,0.04222622235581363,0.014500313482954977,0.033413947031248545,0.0032431367726892027,0.03850775661578129,0.04040824133785161,0.022460325050703778,0.040311854817163366,0.02723760414010048,0.02537274489622431,0.003935649463815118,0.03421702887990229,0.032846159568137745,0.015036593252450218,0.036124140009230254,0.04605244501524226,0.037450218451318754,0.046480971660534276,0.04607979317715426,0.045455977277420144,0.046490539342491026,0.04562692036773972,0.04491981136371991,0.04582529131902761,0.04214051171348476,0.04658781773357208,0.04697658214012542,0.0471829609489812,0.04687766802079231,0.046760320648280396,0.04571548120013182,0.04068718803512278,0.014733243463159339,0.046692918017756185,0.044877699900414694,0.047063939896285524,0.023369034715390917,0.047193530561932075,0.04759304295551486,0.045862620838950784,0.026286680541892912,0.04763941642073884,0.04780026429725233,0.04099618127664286,0.008248761248952541,0.044488483865875464,0.04561208875286977,0.046891641922007794,0.04767627913190331,0.015258972595669211,0.04783760899794815,0.03169977593179608,0.04585456743906504,0.024019344858575934,0.008975654594916237,0.003961547861939995,0.04664144381292496,0.04755344011488881,0.035008186231646796,0.047539101875129816,0.047677178592682196,0.04770068601911633,0.019599147903231705,0.007758186990685051,0.045094177718269894,0.04591985994219217,0.002938117098407853,0.04769377497237163,0.040926103034940604,0.0478453436016085,0.04785989816737771,0.04668065954384894,0.03629731846832115,0.04662751165883406,0.03586836676139518,0.03885556329774994,0.04749229196269241,0.04780205562842406,0.04715654260939337,0.04661932163199452,0.04772694496059141,0.04722363023888531,0.045593249414022895,0.04646506221080704,0.026965739273266193,0.047866953431462606,0.023923975449654505,0.047810814934237576,0.04742591782951458,0.04784006448792296,0.04764540144035239,0.04544194265311392,0.03966300202815175,0.04615415239674104,0.047610584338301225,0.044584213818147145,0.04712987758225014,0.047698401312833864,0.047766794488773,0.04704989768159297,0.047597399837262765,0.04776951943746205,0.04749346847257208,0.04750286916602971,0.04040377060030912,0.04666577479627478,0.04729468384522967,0.04795321817199273,0.0479328228039501,0.04776865413342156,0.046595605469936706,0.046453543799565976,0.016794359735733122,0.04783649321115909,0.03847789983119028,0.04694980705238036,0.04554172207648763,0.047919702821195544,0.04787943202657295,0.047847681440595265,0.04785076693263444,0.0475623436380424,0.03672534794330944,0.04499388214862633,0.04787768244252635,0.04702096692413335,0.045863740420933066,0.04779259800706898,0.04762717692279737,0.04772633013929933,0.046180096337184,0.04786104431571223,0.047869928862900174,0.04763833479068823,0.047441356675289925,0.0468491699153529,0.04708170519546841,0.04782795023135563,0.047455793590071356,0.04795083858588135,0.04559057759803802,0.03909876307064565,0.04366608068884334,0.04765660864575437,0.03357286694963653,0.0477362166174816,0.046256007790773164,0.047778085188424295,0.04767755052161198,0.04765515129158089,0.047795842897220664,0.04647370386563261,0.04382569133238663,0.04782273563595363,0.0005463484169490285,0.047075488669072074,0.04259185126486262,0.047858987321019314,0.047921414453310635,0.04786112401476851,0.047815441274699826,0.04781108059775881,0.047644676558458755,0.046368531472778536,0.047656024186007735,0.04769210888257448,0.04713188523943188,0.04785010277383148,0.04783660327176083,0.04779795302461775,0.04781482645340794,0.047955552215786255,0.0477545777619905,0.047777443800780535,0.042249004900353944,0.031623021945325194,0.04747002935961502,0.04774045964343472,0.04762587896673658,0.047703862595791374,0.04725263310501526,0.03962038580415646,0.04766197504888269,0.04782964668269824,0.047811877588322345,0.0463002521526342,0.03489367766361874,0.04734406310343636,0.047751275943941185,0.047705274407646915,0.03469309031952524,0.04682635700926702,0.04764399721888298,0.0438476768863635,0.04777443421260425,0.04748083047934876],\"type\":\"scatter\",\"xaxis\":\"x9\",\"yaxis\":\"y9\"},{\"marker\":{\"color\":[0,1,2,3,4,5,6,7,8,9,10,11,12,13,14,15,16,17,18,19,20,21,22,23,24,25,26,27,28,29,30,31,32,33,34,35,36,37,38,39,40,41,42,43,44,45,46,47,48,49,50,51,52,53,54,55,56,57,58,59,60,61,62,63,64,65,66,67,68,69,70,71,72,73,74,75,76,77,78,79,80,81,82,83,84,85,86,87,88,89,90,91,92,93,94,95,96,97,98,99,100,101,102,103,104,105,106,107,108,109,110,111,112,113,114,115,116,117,118,119,120,121,122,123,124,125,126,127,128,129,130,131,132,133,134,135,136,137,138,139,140,141,142,143,144,145,146,147,148,149,150,151,152,153,154,155,156,157,158,159,160,161,162,163,164,165,166,167,168,169,170,171,172,173,174,175,176,177,178,179,180,181,182,183,184,185,186,187,188,189,190,191,192,193,194,195,196,197,198,199],\"colorbar\":{\"title\":{\"text\":\"Trial\"},\"x\":1.0,\"xpad\":40},\"colorscale\":[[0.0,\"rgb(247,251,255)\"],[0.125,\"rgb(222,235,247)\"],[0.25,\"rgb(198,219,239)\"],[0.375,\"rgb(158,202,225)\"],[0.5,\"rgb(107,174,214)\"],[0.625,\"rgb(66,146,198)\"],[0.75,\"rgb(33,113,181)\"],[0.875,\"rgb(8,81,156)\"],[1.0,\"rgb(8,48,107)\"]],\"line\":{\"color\":\"Grey\",\"width\":0.5},\"showscale\":false},\"mode\":\"markers\",\"name\":\"Feasible Trial\",\"showlegend\":false,\"x\":[\"p3alpha\",\"rp3beta\",\"rp3beta\",\"rp3beta\",\"p3alpha\",\"rp3beta\",\"rp3beta\",\"rp3beta\",\"hhp\",\"hhp\",\"p3\",\"p3alpha\",\"p3alpha\",\"p3\",\"p3alpha\",\"p3alpha\",\"p3\",\"hhp\",\"rp3beta\",\"p3alpha\",\"p3alpha\",\"p3alpha\",\"p3alpha\",\"p3alpha\",\"p3alpha\",\"p3alpha\",\"p3alpha\",\"p3alpha\",\"p3alpha\",\"p3alpha\",\"p3alpha\",\"p3alpha\",\"p3alpha\",\"p3alpha\",\"p3alpha\",\"p3\",\"hhp\",\"p3alpha\",\"p3alpha\",\"p3alpha\",\"rp3beta\",\"p3alpha\",\"p3alpha\",\"p3alpha\",\"hhp\",\"p3alpha\",\"p3alpha\",\"p3\",\"rp3beta\",\"p3alpha\",\"p3alpha\",\"p3alpha\",\"p3alpha\",\"p3alpha\",\"p3alpha\",\"hhp\",\"p3alpha\",\"p3\",\"p3alpha\",\"rp3beta\",\"p3alpha\",\"p3alpha\",\"p3alpha\",\"p3alpha\",\"p3alpha\",\"p3alpha\",\"p3alpha\",\"p3alpha\",\"p3alpha\",\"p3alpha\",\"hhp\",\"p3alpha\",\"p3alpha\",\"p3alpha\",\"p3alpha\",\"p3alpha\",\"p3\",\"p3alpha\",\"p3alpha\",\"rp3beta\",\"p3alpha\",\"p3alpha\",\"p3alpha\",\"p3alpha\",\"p3alpha\",\"p3alpha\",\"p3alpha\",\"p3alpha\",\"p3alpha\",\"p3alpha\",\"hhp\",\"p3alpha\",\"p3alpha\",\"p3alpha\",\"p3alpha\",\"p3alpha\",\"p3\",\"p3alpha\",\"p3alpha\",\"rp3beta\",\"p3alpha\",\"p3alpha\",\"p3alpha\",\"p3alpha\",\"p3alpha\",\"p3alpha\",\"p3alpha\",\"p3alpha\",\"p3alpha\",\"p3alpha\",\"p3alpha\",\"p3alpha\",\"p3alpha\",\"p3alpha\",\"p3alpha\",\"p3alpha\",\"hhp\",\"p3alpha\",\"p3\",\"p3alpha\",\"p3alpha\",\"p3alpha\",\"p3alpha\",\"p3alpha\",\"p3alpha\",\"p3alpha\",\"p3alpha\",\"rp3beta\",\"p3alpha\",\"p3alpha\",\"p3alpha\",\"p3alpha\",\"p3alpha\",\"p3alpha\",\"p3alpha\",\"p3alpha\",\"p3alpha\",\"p3alpha\",\"p3alpha\",\"p3alpha\",\"p3alpha\",\"p3alpha\",\"p3alpha\",\"p3alpha\",\"p3alpha\",\"hhp\",\"p3alpha\",\"p3alpha\",\"p3\",\"p3alpha\",\"p3alpha\",\"p3alpha\",\"p3alpha\",\"p3alpha\",\"p3alpha\",\"p3alpha\",\"p3alpha\",\"p3alpha\",\"rp3beta\",\"p3alpha\",\"p3alpha\",\"p3alpha\",\"p3alpha\",\"p3alpha\",\"p3alpha\",\"p3alpha\",\"p3alpha\",\"p3alpha\",\"p3alpha\",\"p3alpha\",\"p3alpha\",\"p3alpha\",\"p3alpha\",\"p3alpha\",\"p3alpha\",\"p3alpha\",\"p3alpha\",\"p3alpha\",\"p3alpha\",\"hhp\",\"p3alpha\",\"p3alpha\",\"p3alpha\",\"p3alpha\",\"p3alpha\",\"p3\",\"p3alpha\",\"p3alpha\",\"p3alpha\",\"p3alpha\",\"rp3beta\",\"p3alpha\",\"p3alpha\",\"p3alpha\",\"p3alpha\",\"p3alpha\",\"p3alpha\",\"p3alpha\",\"p3alpha\",\"p3alpha\"],\"y\":[0.04044604146172684,0.04509172222829511,0.026432328669800075,0.030766245703841528,0.04222622235581363,0.014500313482954977,0.033413947031248545,0.0032431367726892027,0.03850775661578129,0.04040824133785161,0.022460325050703778,0.040311854817163366,0.02723760414010048,0.02537274489622431,0.003935649463815118,0.03421702887990229,0.032846159568137745,0.015036593252450218,0.036124140009230254,0.04605244501524226,0.037450218451318754,0.046480971660534276,0.04607979317715426,0.045455977277420144,0.046490539342491026,0.04562692036773972,0.04491981136371991,0.04582529131902761,0.04214051171348476,0.04658781773357208,0.04697658214012542,0.0471829609489812,0.04687766802079231,0.046760320648280396,0.04571548120013182,0.04068718803512278,0.014733243463159339,0.046692918017756185,0.044877699900414694,0.047063939896285524,0.023369034715390917,0.047193530561932075,0.04759304295551486,0.045862620838950784,0.026286680541892912,0.04763941642073884,0.04780026429725233,0.04099618127664286,0.008248761248952541,0.044488483865875464,0.04561208875286977,0.046891641922007794,0.04767627913190331,0.015258972595669211,0.04783760899794815,0.03169977593179608,0.04585456743906504,0.024019344858575934,0.008975654594916237,0.003961547861939995,0.04664144381292496,0.04755344011488881,0.035008186231646796,0.047539101875129816,0.047677178592682196,0.04770068601911633,0.019599147903231705,0.007758186990685051,0.045094177718269894,0.04591985994219217,0.002938117098407853,0.04769377497237163,0.040926103034940604,0.0478453436016085,0.04785989816737771,0.04668065954384894,0.03629731846832115,0.04662751165883406,0.03586836676139518,0.03885556329774994,0.04749229196269241,0.04780205562842406,0.04715654260939337,0.04661932163199452,0.04772694496059141,0.04722363023888531,0.045593249414022895,0.04646506221080704,0.026965739273266193,0.047866953431462606,0.023923975449654505,0.047810814934237576,0.04742591782951458,0.04784006448792296,0.04764540144035239,0.04544194265311392,0.03966300202815175,0.04615415239674104,0.047610584338301225,0.044584213818147145,0.04712987758225014,0.047698401312833864,0.047766794488773,0.04704989768159297,0.047597399837262765,0.04776951943746205,0.04749346847257208,0.04750286916602971,0.04040377060030912,0.04666577479627478,0.04729468384522967,0.04795321817199273,0.0479328228039501,0.04776865413342156,0.046595605469936706,0.046453543799565976,0.016794359735733122,0.04783649321115909,0.03847789983119028,0.04694980705238036,0.04554172207648763,0.047919702821195544,0.04787943202657295,0.047847681440595265,0.04785076693263444,0.0475623436380424,0.03672534794330944,0.04499388214862633,0.04787768244252635,0.04702096692413335,0.045863740420933066,0.04779259800706898,0.04762717692279737,0.04772633013929933,0.046180096337184,0.04786104431571223,0.047869928862900174,0.04763833479068823,0.047441356675289925,0.0468491699153529,0.04708170519546841,0.04782795023135563,0.047455793590071356,0.04795083858588135,0.04559057759803802,0.03909876307064565,0.04366608068884334,0.04765660864575437,0.03357286694963653,0.0477362166174816,0.046256007790773164,0.047778085188424295,0.04767755052161198,0.04765515129158089,0.047795842897220664,0.04647370386563261,0.04382569133238663,0.04782273563595363,0.0005463484169490285,0.047075488669072074,0.04259185126486262,0.047858987321019314,0.047921414453310635,0.04786112401476851,0.047815441274699826,0.04781108059775881,0.047644676558458755,0.046368531472778536,0.047656024186007735,0.04769210888257448,0.04713188523943188,0.04785010277383148,0.04783660327176083,0.04779795302461775,0.04781482645340794,0.047955552215786255,0.0477545777619905,0.047777443800780535,0.042249004900353944,0.031623021945325194,0.04747002935961502,0.04774045964343472,0.04762587896673658,0.047703862595791374,0.04725263310501526,0.03962038580415646,0.04766197504888269,0.04782964668269824,0.047811877588322345,0.0463002521526342,0.03489367766361874,0.04734406310343636,0.047751275943941185,0.047705274407646915,0.03469309031952524,0.04682635700926702,0.04764399721888298,0.0438476768863635,0.04777443421260425,0.04748083047934876],\"type\":\"scatter\",\"xaxis\":\"x10\",\"yaxis\":\"y10\"},{\"marker\":{\"color\":[0,1,2,3,4,5,6,7,8,9,10,11,12,13,14,15,16,17,18,19,20,21,22,23,24,25,26,27,28,29,30,31,32,33,34,35,36,37,38,39,40,41,42,43,44,45,46,47,48,49,50,51,52,53,54,55,56,57,58,59,60,61,62,63,64,65,66,67,68,69,70,71,72,73,74,75,76,77,78,79,80,81,82,83,84,85,86,87,88,89,90,91,92,93,94,95,96,97,98,99,100,101,102,103,104,105,106,107,108,109,110,111,112,113,114,115,116,117,118,119,120,121,122,123,124,125,126,127,128,129,130,131,132,133,134,135,136,137,138,139,140,141,142,143,144,145,146,147,148,149,150,151,152,153,154,155,156,157,158,159,160,161,162,163,164,165,166,167,168,169,170,171,172,173,174,175,176,177,178,179,180,181,182,183,184,185,186,187,188,189,190,191,192,193,194,195,196,197,198,199],\"colorbar\":{\"title\":{\"text\":\"Trial\"},\"x\":1.0,\"xpad\":40},\"colorscale\":[[0.0,\"rgb(247,251,255)\"],[0.125,\"rgb(222,235,247)\"],[0.25,\"rgb(198,219,239)\"],[0.375,\"rgb(158,202,225)\"],[0.5,\"rgb(107,174,214)\"],[0.625,\"rgb(66,146,198)\"],[0.75,\"rgb(33,113,181)\"],[0.875,\"rgb(8,81,156)\"],[1.0,\"rgb(8,48,107)\"]],\"line\":{\"color\":\"Grey\",\"width\":0.5},\"showscale\":false},\"mode\":\"markers\",\"name\":\"Feasible Trial\",\"showlegend\":false,\"x\":[0.1637295332308224,0.14957521692815676,0.6796209652217118,0.6302484113475272,0.47040776788326466,0.6752699048727163,0.18149262632481408,0.6848965144249151,0.5163232476610012,0.09652334443331527,0.8893089594833765,0.32623629060747383,0.3352304265776856,0.01804152398272807,0.39124111644565884,0.2357489219422958,0.016950541452507184,0.45899831626568943,0.26171174764552296,0.12367399208134977,0.11087103007928947,0.25919279840703413,0.21409118514957814,0.2558588149965352,0.2233792190189055,0.30632878644946704,0.2124549911610228,0.389216945798301,0.22257641557097954,0.17568741889737868,0.07621878473494459,0.0829081295069643,0.06889444243131557,0.07798086266575575,0.07317046440165384,0.07029423717626515,0.13709495583420545,0.03872988310714524,0.1576292149905047,0.0740610919032886,0.015251642175893698,0.07928533223955683,0.12154614257124319,0.14142023540963314,0.10971416301303695,0.1668776442249459,0.16815203202217036,0.16710865878130096,0.17822595803101043,0.1377105595248449,0.19002339166295062,0.04496956589806094,0.10744559804632728,0.11309461318255455,0.012806333916289964,0.017939182257360502,0.11718695339147867,0.14952460997603592,0.048393466885288575,0.1997518685704256,0.10463371863843902,0.041573883050500304,0.011192446965307079,0.041160215413222956,0.04214589652309669,0.15685379261095483,0.16696294200965459,0.24283549497980667,0.2819451753077922,0.19668487272536553,0.09954371943112372,0.13433040070087965,0.13389457967541535,0.22108246995084363,0.21044112662941344,0.23017626966573446,0.28571925552620214,0.190016528385326,0.22290807957117537,0.09924593875606705,0.143732950429787,0.16449073115290938,0.055810984746289115,0.20134200992984536,0.09639854678727401,0.1586197583245234,0.251996560228988,0.0902384899994285,0.12867030984855732,0.060346015616373615,0.06463497901914607,0.05991316777952108,0.17450257296376334,0.0917781311081925,0.08261101883808382,0.010444137935688248,0.06033678518231996,0.09160935414065212,0.03089981332990057,0.11735357148468811,0.1547128997172667,0.13417190808777119,0.21184503149531209,0.18594791572730784,0.2213515969089011,0.20839731974065503,0.2112069426236481,0.030366890403549285,0.2653484922442313,0.0619314215343621,0.1767496189215653,0.15363159155747544,0.2394109802526866,0.23877166066333624,0.1915957530597642,0.24645953892636174,0.3015708675738864,0.24225717963733978,0.2655734253307717,0.15320590098919085,0.3483154253854528,0.2309121452698622,0.22069410667046985,0.22907159395289567,0.23860477768008662,0.27874617188475004,0.23436325022277527,0.24830229659337794,0.22900025778030542,0.3044285540978216,0.2310309690634991,0.27593694391082996,0.256060466128755,0.20971980486414687,0.2263809887921152,0.19576534010585178,0.19267829281637133,0.2027068916635949,0.2922765425638066,0.18587164871497935,0.2687728998072515,0.24162747251018815,0.31562849292631123,0.22218107666125714,0.1857519846272073,0.2079200322504023,0.22686507978763581,0.2620058228901485,0.1741928571629439,0.14441578889847695,0.20013062075345853,0.22449875863178254,0.26078021271055596,0.2395021549769404,0.19098002702900183,0.2910375816965233,0.21561089244086123,0.3346275144448729,0.1721781135988682,0.24597539660463463,0.11365396442214937,0.24401037978827847,0.22105530685217212,0.20597993745204113,0.21863646089921415,0.19267808564558736,0.27675074049488024,0.20776359918370238,0.15924071116414157,0.22838943668193365,0.1771097899327219,0.25872227717848945,0.2546026564398955,0.20050501963430373,0.23629106521475426,0.28380878278304894,0.26380005358142533,0.2859577212192571,0.22010975175660202,0.2514983005709818,0.3079164971140652,0.21913112039851254,0.18182762607726063,0.24391241865383942,0.27073226258368016,0.19716060913496447,0.15483366408929167,0.22903420264368193,0.20676071800183016,0.2839054674742007,0.12826469575291022,0.029084050504132666,0.2492820429948561,0.08502348632484946,0.04674702648919467,0.43288499105931855,0.22797401942075934,0.5048444007254986,0.18676371478724568,0.26253419050222054],\"y\":[0.04044604146172684,0.04509172222829511,0.026432328669800075,0.030766245703841528,0.04222622235581363,0.014500313482954977,0.033413947031248545,0.0032431367726892027,0.03850775661578129,0.04040824133785161,0.022460325050703778,0.040311854817163366,0.02723760414010048,0.02537274489622431,0.003935649463815118,0.03421702887990229,0.032846159568137745,0.015036593252450218,0.036124140009230254,0.04605244501524226,0.037450218451318754,0.046480971660534276,0.04607979317715426,0.045455977277420144,0.046490539342491026,0.04562692036773972,0.04491981136371991,0.04582529131902761,0.04214051171348476,0.04658781773357208,0.04697658214012542,0.0471829609489812,0.04687766802079231,0.046760320648280396,0.04571548120013182,0.04068718803512278,0.014733243463159339,0.046692918017756185,0.044877699900414694,0.047063939896285524,0.023369034715390917,0.047193530561932075,0.04759304295551486,0.045862620838950784,0.026286680541892912,0.04763941642073884,0.04780026429725233,0.04099618127664286,0.008248761248952541,0.044488483865875464,0.04561208875286977,0.046891641922007794,0.04767627913190331,0.015258972595669211,0.04783760899794815,0.03169977593179608,0.04585456743906504,0.024019344858575934,0.008975654594916237,0.003961547861939995,0.04664144381292496,0.04755344011488881,0.035008186231646796,0.047539101875129816,0.047677178592682196,0.04770068601911633,0.019599147903231705,0.007758186990685051,0.045094177718269894,0.04591985994219217,0.002938117098407853,0.04769377497237163,0.040926103034940604,0.0478453436016085,0.04785989816737771,0.04668065954384894,0.03629731846832115,0.04662751165883406,0.03586836676139518,0.03885556329774994,0.04749229196269241,0.04780205562842406,0.04715654260939337,0.04661932163199452,0.04772694496059141,0.04722363023888531,0.045593249414022895,0.04646506221080704,0.026965739273266193,0.047866953431462606,0.023923975449654505,0.047810814934237576,0.04742591782951458,0.04784006448792296,0.04764540144035239,0.04544194265311392,0.03966300202815175,0.04615415239674104,0.047610584338301225,0.044584213818147145,0.04712987758225014,0.047698401312833864,0.047766794488773,0.04704989768159297,0.047597399837262765,0.04776951943746205,0.04749346847257208,0.04750286916602971,0.04040377060030912,0.04666577479627478,0.04729468384522967,0.04795321817199273,0.0479328228039501,0.04776865413342156,0.046595605469936706,0.046453543799565976,0.016794359735733122,0.04783649321115909,0.03847789983119028,0.04694980705238036,0.04554172207648763,0.047919702821195544,0.04787943202657295,0.047847681440595265,0.04785076693263444,0.0475623436380424,0.03672534794330944,0.04499388214862633,0.04787768244252635,0.04702096692413335,0.045863740420933066,0.04779259800706898,0.04762717692279737,0.04772633013929933,0.046180096337184,0.04786104431571223,0.047869928862900174,0.04763833479068823,0.047441356675289925,0.0468491699153529,0.04708170519546841,0.04782795023135563,0.047455793590071356,0.04795083858588135,0.04559057759803802,0.03909876307064565,0.04366608068884334,0.04765660864575437,0.03357286694963653,0.0477362166174816,0.046256007790773164,0.047778085188424295,0.04767755052161198,0.04765515129158089,0.047795842897220664,0.04647370386563261,0.04382569133238663,0.04782273563595363,0.0005463484169490285,0.047075488669072074,0.04259185126486262,0.047858987321019314,0.047921414453310635,0.04786112401476851,0.047815441274699826,0.04781108059775881,0.047644676558458755,0.046368531472778536,0.047656024186007735,0.04769210888257448,0.04713188523943188,0.04785010277383148,0.04783660327176083,0.04779795302461775,0.04781482645340794,0.047955552215786255,0.0477545777619905,0.047777443800780535,0.042249004900353944,0.031623021945325194,0.04747002935961502,0.04774045964343472,0.04762587896673658,0.047703862595791374,0.04725263310501526,0.03962038580415646,0.04766197504888269,0.04782964668269824,0.047811877588322345,0.0463002521526342,0.03489367766361874,0.04734406310343636,0.047751275943941185,0.047705274407646915,0.03469309031952524,0.04682635700926702,0.04764399721888298,0.0438476768863635,0.04777443421260425,0.04748083047934876],\"type\":\"scatter\",\"xaxis\":\"x11\",\"yaxis\":\"y11\"},{\"marker\":{\"color\":[8,9,17,36,44,55,70,90,116,145,179],\"colorbar\":{\"title\":{\"text\":\"Trial\"},\"x\":1.0,\"xpad\":40},\"colorscale\":[[0.0,\"rgb(247,251,255)\"],[0.125,\"rgb(222,235,247)\"],[0.25,\"rgb(198,219,239)\"],[0.375,\"rgb(158,202,225)\"],[0.5,\"rgb(107,174,214)\"],[0.625,\"rgb(66,146,198)\"],[0.75,\"rgb(33,113,181)\"],[0.875,\"rgb(8,81,156)\"],[1.0,\"rgb(8,48,107)\"]],\"line\":{\"color\":\"Grey\",\"width\":0.5},\"showscale\":false},\"mode\":\"markers\",\"name\":\"Feasible Trial\",\"showlegend\":false,\"x\":[0.8140354999041813,0.7898623167959327,0.04194949796559133,0.30951751616842393,0.9680356900031486,0.5011082337249774,0.0420425918377475,0.5139427987545792,0.2969338500880122,0.6731211222941486,0.959679526014563],\"y\":[0.03850775661578129,0.04040824133785161,0.015036593252450218,0.014733243463159339,0.026286680541892912,0.03169977593179608,0.002938117098407853,0.023923975449654505,0.016794359735733122,0.03909876307064565,0.031623021945325194],\"type\":\"scatter\",\"xaxis\":\"x12\",\"yaxis\":\"y12\"},{\"marker\":{\"color\":[8,9,17,36,44,55,70,90,116,145,179],\"colorbar\":{\"title\":{\"text\":\"Trial\"},\"x\":1.0,\"xpad\":40},\"colorscale\":[[0.0,\"rgb(247,251,255)\"],[0.125,\"rgb(222,235,247)\"],[0.25,\"rgb(198,219,239)\"],[0.375,\"rgb(158,202,225)\"],[0.5,\"rgb(107,174,214)\"],[0.625,\"rgb(66,146,198)\"],[0.75,\"rgb(33,113,181)\"],[0.875,\"rgb(8,81,156)\"],[1.0,\"rgb(8,48,107)\"]],\"line\":{\"color\":\"Grey\",\"width\":0.5},\"showscale\":false},\"mode\":\"markers\",\"name\":\"Feasible Trial\",\"showlegend\":false,\"x\":[14,25,1832,275,6,134,43,5,481,69,1788],\"y\":[0.03850775661578129,0.04040824133785161,0.015036593252450218,0.014733243463159339,0.026286680541892912,0.03169977593179608,0.002938117098407853,0.023923975449654505,0.016794359735733122,0.03909876307064565,0.031623021945325194],\"type\":\"scatter\",\"xaxis\":\"x13\",\"yaxis\":\"y13\"},{\"marker\":{\"color\":[10,13,16,35,47,57,76,96,118,148,185],\"colorbar\":{\"title\":{\"text\":\"Trial\"},\"x\":1.0,\"xpad\":40},\"colorscale\":[[0.0,\"rgb(247,251,255)\"],[0.125,\"rgb(222,235,247)\"],[0.25,\"rgb(198,219,239)\"],[0.375,\"rgb(158,202,225)\"],[0.5,\"rgb(107,174,214)\"],[0.625,\"rgb(66,146,198)\"],[0.75,\"rgb(33,113,181)\"],[0.875,\"rgb(8,81,156)\"],[1.0,\"rgb(8,48,107)\"]],\"line\":{\"color\":\"Grey\",\"width\":0.5},\"showscale\":false},\"mode\":\"markers\",\"name\":\"Feasible Trial\",\"showlegend\":false,\"x\":[903,5,1351,41,153,5,198,27,448,1360,397],\"y\":[0.022460325050703778,0.02537274489622431,0.032846159568137745,0.04068718803512278,0.04099618127664286,0.024019344858575934,0.03629731846832115,0.03966300202815175,0.03847789983119028,0.03357286694963653,0.03962038580415646],\"type\":\"scatter\",\"xaxis\":\"x14\",\"yaxis\":\"y14\"},{\"marker\":{\"color\":[0,4,11,12,14,15,19,20,21,22,23,24,25,26,27,28,29,30,31,32,33,34,37,38,39,41,42,43,45,46,49,50,51,52,53,54,56,58,60,61,62,63,64,65,66,67,68,69,71,72,73,74,75,77,78,80,81,82,83,84,85,86,87,88,89,91,92,93,94,95,97,98,100,101,102,103,104,105,106,107,108,109,110,111,112,113,114,115,117,119,120,121,122,123,124,125,126,128,129,130,131,132,133,134,135,136,137,138,139,140,141,142,143,144,146,147,149,150,151,152,153,154,155,156,157,159,160,161,162,163,164,165,166,167,168,169,170,171,172,173,174,175,176,177,178,180,181,182,183,184,186,187,188,189,191,192,193,194,195,196,197,198,199],\"colorbar\":{\"title\":{\"text\":\"Trial\"},\"x\":1.0,\"xpad\":40},\"colorscale\":[[0.0,\"rgb(247,251,255)\"],[0.125,\"rgb(222,235,247)\"],[0.25,\"rgb(198,219,239)\"],[0.375,\"rgb(158,202,225)\"],[0.5,\"rgb(107,174,214)\"],[0.625,\"rgb(66,146,198)\"],[0.75,\"rgb(33,113,181)\"],[0.875,\"rgb(8,81,156)\"],[1.0,\"rgb(8,48,107)\"]],\"line\":{\"color\":\"Grey\",\"width\":0.5},\"showscale\":false},\"mode\":\"markers\",\"name\":\"Feasible Trial\",\"showlegend\":false,\"x\":[0.9901301652504116,0.00142965124883046,0.00005012633057482007,0.002842744086212802,38.621212381733145,0.00290128441991367,0.000010207853839448337,0.000010584502879455458,0.00023749293246350022,0.000011279532450529783,0.00001554252809021845,0.00009711637095462682,0.00019895732194336318,0.00015896183566494853,0.0003174290716710153,0.0000919491128152898,0.027502764374814328,0.02805096079468379,0.034745534952301184,0.034668033489594005,0.04016436268066158,0.06734054863508628,0.050898412306119196,0.01601147870319766,0.17744996714571912,0.16285951701913226,0.21941804853260358,0.19205755697973106,0.29898208628240774,0.3119995948716741,0.8136609731697326,0.537099587116307,0.15220514098168744,0.31194093717941096,2.01565483257806,0.48217477380337354,0.45621325921585293,2.799440843876027,0.3715041762472978,0.16451904734220513,1.179355955016609,0.12881324677937755,0.41164885127611656,0.39177081059990965,1.751969020300078,4.148045465093663,0.7320869847102525,0.430258487810988,0.292245295895222,0.9901994208127738,0.3203965322729633,0.345466617947407,0.08989171489361188,0.38695108139380147,0.9806500723436794,0.3151652052349615,0.2793916340853292,0.09476359858539475,0.5206262870493659,0.27400399232690853,0.10342395500365788,0.6081164811097614,0.067916790486877,1.4674043165093704,0.2319122136504428,0.2744649962591839,0.23918379488705208,0.2417690262082607,0.18302459166835194,0.72905346474373,0.11116998504489786,0.23693918634013622,0.060346417620299735,0.25190518334803014,0.22631545160513247,0.6238764091377956,0.14600715077185503,0.254302956818412,0.12439354109533418,0.23088283978754168,0.8714880758403659,0.5251923142864718,0.07548691102848407,0.33366744909595936,0.18056754613245124,0.13535883154603756,0.14595729630053428,0.045496818061313414,0.3606485588262865,0.41803943001657695,0.7092608674635376,0.16783720477641245,0.3251303022963157,0.35826214041044174,0.3537485905189098,0.48056178997043947,1.146470739664593,0.18869675349129894,0.17435582689518184,0.3788065238942606,0.0940605304580353,0.19148884753618892,0.36891717053676415,0.5771088221043358,0.19239532529461223,0.16391249794206286,0.11141484354543943,0.16851125072380874,0.07483620351196849,0.18228975571904008,0.348051872770464,0.5086217150684097,0.3140946185268036,0.746443848043343,0.2124165419516009,0.13409569541878724,0.3041305815902095,0.09296351402819501,0.3584256783965099,0.4830699445610759,0.20008647070903995,0.2991993095141972,0.6231136367650673,0.23458309156364834,0.14109256716437288,0.44773817154255224,0.9063876811434783,0.3765790531958691,0.3163167553400517,0.2885988161072937,0.271012678645547,0.18578092115891814,0.1008798310358268,0.05286887554479897,0.1330852543411763,0.3030349086272991,0.5990558548823911,0.22724837773637704,0.23462842717669014,0.17722790263860383,0.39689068233274594,0.31617504341695,0.3630287535730448,0.12145086096503084,0.7473273371826461,0.28244245574691407,0.19660220016115748,0.4643488626127557,0.2630124731775741,0.15697474642843642,0.35376566996298375,0.22643825319573008,0.5039593451996245,0.08410783815676191,0.581916616472022,0.343942566346532,0.2396708176563394,1.1667622561140538,0.17111379792140055,0.4391444942707174,0.8344857911634194,0.3174452864649511,0.11249995967876879],\"y\":[0.04044604146172684,0.04222622235581363,0.040311854817163366,0.02723760414010048,0.003935649463815118,0.03421702887990229,0.04605244501524226,0.037450218451318754,0.046480971660534276,0.04607979317715426,0.045455977277420144,0.046490539342491026,0.04562692036773972,0.04491981136371991,0.04582529131902761,0.04214051171348476,0.04658781773357208,0.04697658214012542,0.0471829609489812,0.04687766802079231,0.046760320648280396,0.04571548120013182,0.046692918017756185,0.044877699900414694,0.047063939896285524,0.047193530561932075,0.04759304295551486,0.045862620838950784,0.04763941642073884,0.04780026429725233,0.044488483865875464,0.04561208875286977,0.046891641922007794,0.04767627913190331,0.015258972595669211,0.04783760899794815,0.04585456743906504,0.008975654594916237,0.04664144381292496,0.04755344011488881,0.035008186231646796,0.047539101875129816,0.047677178592682196,0.04770068601911633,0.019599147903231705,0.007758186990685051,0.045094177718269894,0.04591985994219217,0.04769377497237163,0.040926103034940604,0.0478453436016085,0.04785989816737771,0.04668065954384894,0.04662751165883406,0.03586836676139518,0.04749229196269241,0.04780205562842406,0.04715654260939337,0.04661932163199452,0.04772694496059141,0.04722363023888531,0.045593249414022895,0.04646506221080704,0.026965739273266193,0.047866953431462606,0.047810814934237576,0.04742591782951458,0.04784006448792296,0.04764540144035239,0.04544194265311392,0.04615415239674104,0.047610584338301225,0.04712987758225014,0.047698401312833864,0.047766794488773,0.04704989768159297,0.047597399837262765,0.04776951943746205,0.04749346847257208,0.04750286916602971,0.04040377060030912,0.04666577479627478,0.04729468384522967,0.04795321817199273,0.0479328228039501,0.04776865413342156,0.046595605469936706,0.046453543799565976,0.04783649321115909,0.04694980705238036,0.04554172207648763,0.047919702821195544,0.04787943202657295,0.047847681440595265,0.04785076693263444,0.0475623436380424,0.03672534794330944,0.04787768244252635,0.04702096692413335,0.045863740420933066,0.04779259800706898,0.04762717692279737,0.04772633013929933,0.046180096337184,0.04786104431571223,0.047869928862900174,0.04763833479068823,0.047441356675289925,0.0468491699153529,0.04708170519546841,0.04782795023135563,0.047455793590071356,0.04795083858588135,0.04559057759803802,0.04366608068884334,0.04765660864575437,0.0477362166174816,0.046256007790773164,0.047778085188424295,0.04767755052161198,0.04765515129158089,0.047795842897220664,0.04647370386563261,0.04382569133238663,0.04782273563595363,0.047075488669072074,0.04259185126486262,0.047858987321019314,0.047921414453310635,0.04786112401476851,0.047815441274699826,0.04781108059775881,0.047644676558458755,0.046368531472778536,0.047656024186007735,0.04769210888257448,0.04713188523943188,0.04785010277383148,0.04783660327176083,0.04779795302461775,0.04781482645340794,0.047955552215786255,0.0477545777619905,0.047777443800780535,0.042249004900353944,0.04747002935961502,0.04774045964343472,0.04762587896673658,0.047703862595791374,0.04725263310501526,0.04766197504888269,0.04782964668269824,0.047811877588322345,0.0463002521526342,0.04734406310343636,0.047751275943941185,0.047705274407646915,0.03469309031952524,0.04682635700926702,0.04764399721888298,0.0438476768863635,0.04777443421260425,0.04748083047934876],\"type\":\"scatter\",\"xaxis\":\"x15\",\"yaxis\":\"y15\"},{\"marker\":{\"color\":[0,4,11,12,14,15,19,20,21,22,23,24,25,26,27,28,29,30,31,32,33,34,37,38,39,41,42,43,45,46,49,50,51,52,53,54,56,58,60,61,62,63,64,65,66,67,68,69,71,72,73,74,75,77,78,80,81,82,83,84,85,86,87,88,89,91,92,93,94,95,97,98,100,101,102,103,104,105,106,107,108,109,110,111,112,113,114,115,117,119,120,121,122,123,124,125,126,128,129,130,131,132,133,134,135,136,137,138,139,140,141,142,143,144,146,147,149,150,151,152,153,154,155,156,157,159,160,161,162,163,164,165,166,167,168,169,170,171,172,173,174,175,176,177,178,180,181,182,183,184,186,187,188,189,191,192,193,194,195,196,197,198,199],\"colorbar\":{\"title\":{\"text\":\"Trial\"},\"x\":1.0,\"xpad\":40},\"colorscale\":[[0.0,\"rgb(247,251,255)\"],[0.125,\"rgb(222,235,247)\"],[0.25,\"rgb(198,219,239)\"],[0.375,\"rgb(158,202,225)\"],[0.5,\"rgb(107,174,214)\"],[0.625,\"rgb(66,146,198)\"],[0.75,\"rgb(33,113,181)\"],[0.875,\"rgb(8,81,156)\"],[1.0,\"rgb(8,48,107)\"]],\"line\":{\"color\":\"Grey\",\"width\":0.5},\"showscale\":false},\"mode\":\"markers\",\"name\":\"Feasible Trial\",\"showlegend\":false,\"x\":[143,81,10,1725,52,5,82,389,41,26,23,31,24,21,34,13,46,50,47,57,60,109,65,145,63,59,53,111,41,38,36,154,74,41,39,36,17,31,19,41,33,37,41,26,25,83,28,17,45,46,29,28,27,20,14,25,32,31,23,30,31,21,28,48,34,35,24,35,36,30,22,33,57,46,37,36,29,27,36,54,18,24,39,27,33,33,21,25,32,45,28,31,34,34,32,41,51,33,19,16,33,27,43,22,35,32,40,50,27,23,31,34,30,38,24,29,40,20,32,30,36,26,45,29,34,25,41,33,34,37,36,28,47,23,32,58,42,37,37,29,26,34,53,33,41,22,35,30,36,27,45,32,39,25,34,30,38,29,49,43,34,26,38],\"y\":[0.04044604146172684,0.04222622235581363,0.040311854817163366,0.02723760414010048,0.003935649463815118,0.03421702887990229,0.04605244501524226,0.037450218451318754,0.046480971660534276,0.04607979317715426,0.045455977277420144,0.046490539342491026,0.04562692036773972,0.04491981136371991,0.04582529131902761,0.04214051171348476,0.04658781773357208,0.04697658214012542,0.0471829609489812,0.04687766802079231,0.046760320648280396,0.04571548120013182,0.046692918017756185,0.044877699900414694,0.047063939896285524,0.047193530561932075,0.04759304295551486,0.045862620838950784,0.04763941642073884,0.04780026429725233,0.044488483865875464,0.04561208875286977,0.046891641922007794,0.04767627913190331,0.015258972595669211,0.04783760899794815,0.04585456743906504,0.008975654594916237,0.04664144381292496,0.04755344011488881,0.035008186231646796,0.047539101875129816,0.047677178592682196,0.04770068601911633,0.019599147903231705,0.007758186990685051,0.045094177718269894,0.04591985994219217,0.04769377497237163,0.040926103034940604,0.0478453436016085,0.04785989816737771,0.04668065954384894,0.04662751165883406,0.03586836676139518,0.04749229196269241,0.04780205562842406,0.04715654260939337,0.04661932163199452,0.04772694496059141,0.04722363023888531,0.045593249414022895,0.04646506221080704,0.026965739273266193,0.047866953431462606,0.047810814934237576,0.04742591782951458,0.04784006448792296,0.04764540144035239,0.04544194265311392,0.04615415239674104,0.047610584338301225,0.04712987758225014,0.047698401312833864,0.047766794488773,0.04704989768159297,0.047597399837262765,0.04776951943746205,0.04749346847257208,0.04750286916602971,0.04040377060030912,0.04666577479627478,0.04729468384522967,0.04795321817199273,0.0479328228039501,0.04776865413342156,0.046595605469936706,0.046453543799565976,0.04783649321115909,0.04694980705238036,0.04554172207648763,0.047919702821195544,0.04787943202657295,0.047847681440595265,0.04785076693263444,0.0475623436380424,0.03672534794330944,0.04787768244252635,0.04702096692413335,0.045863740420933066,0.04779259800706898,0.04762717692279737,0.04772633013929933,0.046180096337184,0.04786104431571223,0.047869928862900174,0.04763833479068823,0.047441356675289925,0.0468491699153529,0.04708170519546841,0.04782795023135563,0.047455793590071356,0.04795083858588135,0.04559057759803802,0.04366608068884334,0.04765660864575437,0.0477362166174816,0.046256007790773164,0.047778085188424295,0.04767755052161198,0.04765515129158089,0.047795842897220664,0.04647370386563261,0.04382569133238663,0.04782273563595363,0.047075488669072074,0.04259185126486262,0.047858987321019314,0.047921414453310635,0.04786112401476851,0.047815441274699826,0.04781108059775881,0.047644676558458755,0.046368531472778536,0.047656024186007735,0.04769210888257448,0.04713188523943188,0.04785010277383148,0.04783660327176083,0.04779795302461775,0.04781482645340794,0.047955552215786255,0.0477545777619905,0.047777443800780535,0.042249004900353944,0.04747002935961502,0.04774045964343472,0.04762587896673658,0.047703862595791374,0.04725263310501526,0.04766197504888269,0.04782964668269824,0.047811877588322345,0.0463002521526342,0.04734406310343636,0.047751275943941185,0.047705274407646915,0.03469309031952524,0.04682635700926702,0.04764399721888298,0.0438476768863635,0.04777443421260425,0.04748083047934876],\"type\":\"scatter\",\"xaxis\":\"x16\",\"yaxis\":\"y16\"},{\"marker\":{\"color\":[1,2,3,5,6,7,18,40,48,59,79,99,127,158,190],\"colorbar\":{\"title\":{\"text\":\"Trial\"},\"x\":1.0,\"xpad\":40},\"colorscale\":[[0.0,\"rgb(247,251,255)\"],[0.125,\"rgb(222,235,247)\"],[0.25,\"rgb(198,219,239)\"],[0.375,\"rgb(158,202,225)\"],[0.5,\"rgb(107,174,214)\"],[0.625,\"rgb(66,146,198)\"],[0.75,\"rgb(33,113,181)\"],[0.875,\"rgb(8,81,156)\"],[1.0,\"rgb(8,48,107)\"]],\"line\":{\"color\":\"Grey\",\"width\":0.5},\"showscale\":false},\"mode\":\"markers\",\"name\":\"Feasible Trial\",\"showlegend\":false,\"x\":[0.0000968369085372405,0.0018809006665185999,0.01118488338452253,2.4515784895812547,0.03195617120263177,0.000042016493482006403,0.00001084420566649007,45.59757783894987,0.5359406274922515,47.43717220331627,0.00034577204434131436,0.001006883622901014,0.10833734617657555,4.271361460984511,0.006398802862196803],\"y\":[0.04509172222829511,0.026432328669800075,0.030766245703841528,0.014500313482954977,0.033413947031248545,0.0032431367726892027,0.036124140009230254,0.023369034715390917,0.008248761248952541,0.003961547861939995,0.03885556329774994,0.044584213818147145,0.04499388214862633,0.0005463484169490285,0.03489367766361874],\"type\":\"scatter\",\"xaxis\":\"x17\",\"yaxis\":\"y17\"},{\"marker\":{\"color\":[1,2,3,5,6,7,18,40,48,59,79,99,127,158,190],\"colorbar\":{\"title\":{\"text\":\"Trial\"},\"x\":1.0,\"xpad\":40},\"colorscale\":[[0.0,\"rgb(247,251,255)\"],[0.125,\"rgb(222,235,247)\"],[0.25,\"rgb(198,219,239)\"],[0.375,\"rgb(158,202,225)\"],[0.5,\"rgb(107,174,214)\"],[0.625,\"rgb(66,146,198)\"],[0.75,\"rgb(33,113,181)\"],[0.875,\"rgb(8,81,156)\"],[1.0,\"rgb(8,48,107)\"]],\"line\":{\"color\":\"Grey\",\"width\":0.5},\"showscale\":false},\"mode\":\"markers\",\"name\":\"Feasible Trial\",\"showlegend\":false,\"x\":[0.0007991828703043603,0.06629343760085982,0.0016298922761268445,0.003111491113639118,0.005785628767937443,60.675119243413945,0.00001162027105524798,48.615105617886734,0.903999787829373,0.000014013192371380215,0.58104505053762,0.0001487159147461958,0.04572018715071453,4.86890600929809,0.01630884069010333],\"y\":[0.04509172222829511,0.026432328669800075,0.030766245703841528,0.014500313482954977,0.033413947031248545,0.0032431367726892027,0.036124140009230254,0.023369034715390917,0.008248761248952541,0.003961547861939995,0.03885556329774994,0.044584213818147145,0.04499388214862633,0.0005463484169490285,0.03489367766361874],\"type\":\"scatter\",\"xaxis\":\"x18\",\"yaxis\":\"y18\"},{\"marker\":{\"color\":[1,2,3,5,6,7,18,40,48,59,79,99,127,158,190],\"colorbar\":{\"title\":{\"text\":\"Trial\"},\"x\":1.0,\"xpad\":40},\"colorscale\":[[0.0,\"rgb(247,251,255)\"],[0.125,\"rgb(222,235,247)\"],[0.25,\"rgb(198,219,239)\"],[0.375,\"rgb(158,202,225)\"],[0.5,\"rgb(107,174,214)\"],[0.625,\"rgb(66,146,198)\"],[0.75,\"rgb(33,113,181)\"],[0.875,\"rgb(8,81,156)\"],[1.0,\"rgb(8,48,107)\"]],\"line\":{\"color\":\"Grey\",\"width\":0.5},\"showscale\":false},\"mode\":\"markers\",\"name\":\"Feasible Trial\",\"showlegend\":false,\"x\":[112,41,70,1747,6,47,511,5,1797,375,15,20,143,268,664],\"y\":[0.04509172222829511,0.026432328669800075,0.030766245703841528,0.014500313482954977,0.033413947031248545,0.0032431367726892027,0.036124140009230254,0.023369034715390917,0.008248761248952541,0.003961547861939995,0.03885556329774994,0.044584213818147145,0.04499388214862633,0.0005463484169490285,0.03489367766361874],\"type\":\"scatter\",\"xaxis\":\"x19\",\"yaxis\":\"y19\"}],                        {\"template\":{\"data\":{\"histogram2dcontour\":[{\"type\":\"histogram2dcontour\",\"colorbar\":{\"outlinewidth\":0,\"ticks\":\"\"},\"colorscale\":[[0.0,\"#0d0887\"],[0.1111111111111111,\"#46039f\"],[0.2222222222222222,\"#7201a8\"],[0.3333333333333333,\"#9c179e\"],[0.4444444444444444,\"#bd3786\"],[0.5555555555555556,\"#d8576b\"],[0.6666666666666666,\"#ed7953\"],[0.7777777777777778,\"#fb9f3a\"],[0.8888888888888888,\"#fdca26\"],[1.0,\"#f0f921\"]]}],\"choropleth\":[{\"type\":\"choropleth\",\"colorbar\":{\"outlinewidth\":0,\"ticks\":\"\"}}],\"histogram2d\":[{\"type\":\"histogram2d\",\"colorbar\":{\"outlinewidth\":0,\"ticks\":\"\"},\"colorscale\":[[0.0,\"#0d0887\"],[0.1111111111111111,\"#46039f\"],[0.2222222222222222,\"#7201a8\"],[0.3333333333333333,\"#9c179e\"],[0.4444444444444444,\"#bd3786\"],[0.5555555555555556,\"#d8576b\"],[0.6666666666666666,\"#ed7953\"],[0.7777777777777778,\"#fb9f3a\"],[0.8888888888888888,\"#fdca26\"],[1.0,\"#f0f921\"]]}],\"heatmap\":[{\"type\":\"heatmap\",\"colorbar\":{\"outlinewidth\":0,\"ticks\":\"\"},\"colorscale\":[[0.0,\"#0d0887\"],[0.1111111111111111,\"#46039f\"],[0.2222222222222222,\"#7201a8\"],[0.3333333333333333,\"#9c179e\"],[0.4444444444444444,\"#bd3786\"],[0.5555555555555556,\"#d8576b\"],[0.6666666666666666,\"#ed7953\"],[0.7777777777777778,\"#fb9f3a\"],[0.8888888888888888,\"#fdca26\"],[1.0,\"#f0f921\"]]}],\"heatmapgl\":[{\"type\":\"heatmapgl\",\"colorbar\":{\"outlinewidth\":0,\"ticks\":\"\"},\"colorscale\":[[0.0,\"#0d0887\"],[0.1111111111111111,\"#46039f\"],[0.2222222222222222,\"#7201a8\"],[0.3333333333333333,\"#9c179e\"],[0.4444444444444444,\"#bd3786\"],[0.5555555555555556,\"#d8576b\"],[0.6666666666666666,\"#ed7953\"],[0.7777777777777778,\"#fb9f3a\"],[0.8888888888888888,\"#fdca26\"],[1.0,\"#f0f921\"]]}],\"contourcarpet\":[{\"type\":\"contourcarpet\",\"colorbar\":{\"outlinewidth\":0,\"ticks\":\"\"}}],\"contour\":[{\"type\":\"contour\",\"colorbar\":{\"outlinewidth\":0,\"ticks\":\"\"},\"colorscale\":[[0.0,\"#0d0887\"],[0.1111111111111111,\"#46039f\"],[0.2222222222222222,\"#7201a8\"],[0.3333333333333333,\"#9c179e\"],[0.4444444444444444,\"#bd3786\"],[0.5555555555555556,\"#d8576b\"],[0.6666666666666666,\"#ed7953\"],[0.7777777777777778,\"#fb9f3a\"],[0.8888888888888888,\"#fdca26\"],[1.0,\"#f0f921\"]]}],\"surface\":[{\"type\":\"surface\",\"colorbar\":{\"outlinewidth\":0,\"ticks\":\"\"},\"colorscale\":[[0.0,\"#0d0887\"],[0.1111111111111111,\"#46039f\"],[0.2222222222222222,\"#7201a8\"],[0.3333333333333333,\"#9c179e\"],[0.4444444444444444,\"#bd3786\"],[0.5555555555555556,\"#d8576b\"],[0.6666666666666666,\"#ed7953\"],[0.7777777777777778,\"#fb9f3a\"],[0.8888888888888888,\"#fdca26\"],[1.0,\"#f0f921\"]]}],\"mesh3d\":[{\"type\":\"mesh3d\",\"colorbar\":{\"outlinewidth\":0,\"ticks\":\"\"}}],\"scatter\":[{\"fillpattern\":{\"fillmode\":\"overlay\",\"size\":10,\"solidity\":0.2},\"type\":\"scatter\"}],\"parcoords\":[{\"type\":\"parcoords\",\"line\":{\"colorbar\":{\"outlinewidth\":0,\"ticks\":\"\"}}}],\"scatterpolargl\":[{\"type\":\"scatterpolargl\",\"marker\":{\"colorbar\":{\"outlinewidth\":0,\"ticks\":\"\"}}}],\"bar\":[{\"error_x\":{\"color\":\"#2a3f5f\"},\"error_y\":{\"color\":\"#2a3f5f\"},\"marker\":{\"line\":{\"color\":\"#E5ECF6\",\"width\":0.5},\"pattern\":{\"fillmode\":\"overlay\",\"size\":10,\"solidity\":0.2}},\"type\":\"bar\"}],\"scattergeo\":[{\"type\":\"scattergeo\",\"marker\":{\"colorbar\":{\"outlinewidth\":0,\"ticks\":\"\"}}}],\"scatterpolar\":[{\"type\":\"scatterpolar\",\"marker\":{\"colorbar\":{\"outlinewidth\":0,\"ticks\":\"\"}}}],\"histogram\":[{\"marker\":{\"pattern\":{\"fillmode\":\"overlay\",\"size\":10,\"solidity\":0.2}},\"type\":\"histogram\"}],\"scattergl\":[{\"type\":\"scattergl\",\"marker\":{\"colorbar\":{\"outlinewidth\":0,\"ticks\":\"\"}}}],\"scatter3d\":[{\"type\":\"scatter3d\",\"line\":{\"colorbar\":{\"outlinewidth\":0,\"ticks\":\"\"}},\"marker\":{\"colorbar\":{\"outlinewidth\":0,\"ticks\":\"\"}}}],\"scattermapbox\":[{\"type\":\"scattermapbox\",\"marker\":{\"colorbar\":{\"outlinewidth\":0,\"ticks\":\"\"}}}],\"scatterternary\":[{\"type\":\"scatterternary\",\"marker\":{\"colorbar\":{\"outlinewidth\":0,\"ticks\":\"\"}}}],\"scattercarpet\":[{\"type\":\"scattercarpet\",\"marker\":{\"colorbar\":{\"outlinewidth\":0,\"ticks\":\"\"}}}],\"carpet\":[{\"aaxis\":{\"endlinecolor\":\"#2a3f5f\",\"gridcolor\":\"white\",\"linecolor\":\"white\",\"minorgridcolor\":\"white\",\"startlinecolor\":\"#2a3f5f\"},\"baxis\":{\"endlinecolor\":\"#2a3f5f\",\"gridcolor\":\"white\",\"linecolor\":\"white\",\"minorgridcolor\":\"white\",\"startlinecolor\":\"#2a3f5f\"},\"type\":\"carpet\"}],\"table\":[{\"cells\":{\"fill\":{\"color\":\"#EBF0F8\"},\"line\":{\"color\":\"white\"}},\"header\":{\"fill\":{\"color\":\"#C8D4E3\"},\"line\":{\"color\":\"white\"}},\"type\":\"table\"}],\"barpolar\":[{\"marker\":{\"line\":{\"color\":\"#E5ECF6\",\"width\":0.5},\"pattern\":{\"fillmode\":\"overlay\",\"size\":10,\"solidity\":0.2}},\"type\":\"barpolar\"}],\"pie\":[{\"automargin\":true,\"type\":\"pie\"}]},\"layout\":{\"autotypenumbers\":\"strict\",\"colorway\":[\"#636efa\",\"#EF553B\",\"#00cc96\",\"#ab63fa\",\"#FFA15A\",\"#19d3f3\",\"#FF6692\",\"#B6E880\",\"#FF97FF\",\"#FECB52\"],\"font\":{\"color\":\"#2a3f5f\"},\"hovermode\":\"closest\",\"hoverlabel\":{\"align\":\"left\"},\"paper_bgcolor\":\"white\",\"plot_bgcolor\":\"#E5ECF6\",\"polar\":{\"bgcolor\":\"#E5ECF6\",\"angularaxis\":{\"gridcolor\":\"white\",\"linecolor\":\"white\",\"ticks\":\"\"},\"radialaxis\":{\"gridcolor\":\"white\",\"linecolor\":\"white\",\"ticks\":\"\"}},\"ternary\":{\"bgcolor\":\"#E5ECF6\",\"aaxis\":{\"gridcolor\":\"white\",\"linecolor\":\"white\",\"ticks\":\"\"},\"baxis\":{\"gridcolor\":\"white\",\"linecolor\":\"white\",\"ticks\":\"\"},\"caxis\":{\"gridcolor\":\"white\",\"linecolor\":\"white\",\"ticks\":\"\"}},\"coloraxis\":{\"colorbar\":{\"outlinewidth\":0,\"ticks\":\"\"}},\"colorscale\":{\"sequential\":[[0.0,\"#0d0887\"],[0.1111111111111111,\"#46039f\"],[0.2222222222222222,\"#7201a8\"],[0.3333333333333333,\"#9c179e\"],[0.4444444444444444,\"#bd3786\"],[0.5555555555555556,\"#d8576b\"],[0.6666666666666666,\"#ed7953\"],[0.7777777777777778,\"#fb9f3a\"],[0.8888888888888888,\"#fdca26\"],[1.0,\"#f0f921\"]],\"sequentialminus\":[[0.0,\"#0d0887\"],[0.1111111111111111,\"#46039f\"],[0.2222222222222222,\"#7201a8\"],[0.3333333333333333,\"#9c179e\"],[0.4444444444444444,\"#bd3786\"],[0.5555555555555556,\"#d8576b\"],[0.6666666666666666,\"#ed7953\"],[0.7777777777777778,\"#fb9f3a\"],[0.8888888888888888,\"#fdca26\"],[1.0,\"#f0f921\"]],\"diverging\":[[0,\"#8e0152\"],[0.1,\"#c51b7d\"],[0.2,\"#de77ae\"],[0.3,\"#f1b6da\"],[0.4,\"#fde0ef\"],[0.5,\"#f7f7f7\"],[0.6,\"#e6f5d0\"],[0.7,\"#b8e186\"],[0.8,\"#7fbc41\"],[0.9,\"#4d9221\"],[1,\"#276419\"]]},\"xaxis\":{\"gridcolor\":\"white\",\"linecolor\":\"white\",\"ticks\":\"\",\"title\":{\"standoff\":15},\"zerolinecolor\":\"white\",\"automargin\":true,\"zerolinewidth\":2},\"yaxis\":{\"gridcolor\":\"white\",\"linecolor\":\"white\",\"ticks\":\"\",\"title\":{\"standoff\":15},\"zerolinecolor\":\"white\",\"automargin\":true,\"zerolinewidth\":2},\"scene\":{\"xaxis\":{\"backgroundcolor\":\"#E5ECF6\",\"gridcolor\":\"white\",\"linecolor\":\"white\",\"showbackground\":true,\"ticks\":\"\",\"zerolinecolor\":\"white\",\"gridwidth\":2},\"yaxis\":{\"backgroundcolor\":\"#E5ECF6\",\"gridcolor\":\"white\",\"linecolor\":\"white\",\"showbackground\":true,\"ticks\":\"\",\"zerolinecolor\":\"white\",\"gridwidth\":2},\"zaxis\":{\"backgroundcolor\":\"#E5ECF6\",\"gridcolor\":\"white\",\"linecolor\":\"white\",\"showbackground\":true,\"ticks\":\"\",\"zerolinecolor\":\"white\",\"gridwidth\":2}},\"shapedefaults\":{\"line\":{\"color\":\"#2a3f5f\"}},\"annotationdefaults\":{\"arrowcolor\":\"#2a3f5f\",\"arrowhead\":0,\"arrowwidth\":1},\"geo\":{\"bgcolor\":\"white\",\"landcolor\":\"#E5ECF6\",\"subunitcolor\":\"white\",\"showland\":true,\"showlakes\":true,\"lakecolor\":\"white\"},\"title\":{\"x\":0.05},\"mapbox\":{\"style\":\"light\"}}},\"xaxis\":{\"anchor\":\"y\",\"domain\":[0.0,0.04265927977839335],\"title\":{\"text\":\"b_hhp_hybrid_lambda\"}},\"yaxis\":{\"anchor\":\"x\",\"domain\":[0.0,1.0],\"title\":{\"text\":\"Objective Value\"}},\"xaxis2\":{\"anchor\":\"y2\",\"domain\":[0.05318559556786703,0.09584487534626038],\"title\":{\"text\":\"b_hhp_topK\"},\"type\":\"log\"},\"yaxis2\":{\"anchor\":\"x2\",\"domain\":[0.0,1.0],\"matches\":\"y\",\"showticklabels\":false},\"xaxis3\":{\"anchor\":\"y3\",\"domain\":[0.10637119113573407,0.1490304709141274],\"title\":{\"text\":\"b_p3_topK\"},\"type\":\"log\"},\"yaxis3\":{\"anchor\":\"x3\",\"domain\":[0.0,1.0],\"matches\":\"y\",\"showticklabels\":false},\"xaxis4\":{\"anchor\":\"y4\",\"domain\":[0.15955678670360113,0.20221606648199447],\"title\":{\"text\":\"b_p3a_alpha\"},\"type\":\"log\"},\"yaxis4\":{\"anchor\":\"x4\",\"domain\":[0.0,1.0],\"matches\":\"y\",\"showticklabels\":false},\"xaxis5\":{\"anchor\":\"y5\",\"domain\":[0.21274238227146813,0.2554016620498615],\"title\":{\"text\":\"b_p3a_topK\"},\"type\":\"log\"},\"yaxis5\":{\"anchor\":\"x5\",\"domain\":[0.0,1.0],\"matches\":\"y\",\"showticklabels\":false},\"xaxis6\":{\"anchor\":\"y6\",\"domain\":[0.2659279778393352,0.30858725761772854],\"title\":{\"text\":\"b_rp3_alpha\"},\"type\":\"log\"},\"yaxis6\":{\"anchor\":\"x6\",\"domain\":[0.0,1.0],\"matches\":\"y\",\"showticklabels\":false},\"xaxis7\":{\"anchor\":\"y7\",\"domain\":[0.31911357340720226,0.3617728531855956],\"title\":{\"text\":\"b_rp3_beta\"},\"type\":\"log\"},\"yaxis7\":{\"anchor\":\"x7\",\"domain\":[0.0,1.0],\"matches\":\"y\",\"showticklabels\":false},\"xaxis8\":{\"anchor\":\"y8\",\"domain\":[0.37229916897506926,0.4149584487534626],\"title\":{\"text\":\"b_rp3_topK\"},\"type\":\"log\"},\"yaxis8\":{\"anchor\":\"x8\",\"domain\":[0.0,1.0],\"matches\":\"y\",\"showticklabels\":false},\"xaxis9\":{\"anchor\":\"y9\",\"domain\":[0.42548476454293627,0.4681440443213296],\"title\":{\"text\":\"base_b_algorithm\"},\"type\":\"category\",\"categoryorder\":\"array\",\"categoryarray\":[\"p3\",\"p3alpha\",\"rp3beta\",\"hhp\"]},\"yaxis9\":{\"anchor\":\"x9\",\"domain\":[0.0,1.0],\"matches\":\"y\",\"showticklabels\":false},\"xaxis10\":{\"anchor\":\"y10\",\"domain\":[0.47867036011080333,0.5213296398891967],\"title\":{\"text\":\"base_f_algorithm\"},\"type\":\"category\",\"categoryorder\":\"array\",\"categoryarray\":[\"p3\",\"p3alpha\",\"rp3beta\",\"hhp\"]},\"yaxis10\":{\"anchor\":\"x10\",\"domain\":[0.0,1.0],\"matches\":\"y\",\"showticklabels\":false},\"xaxis11\":{\"anchor\":\"y11\",\"domain\":[0.5318559556786704,0.5745152354570637],\"title\":{\"text\":\"convex_lambda\"}},\"yaxis11\":{\"anchor\":\"x11\",\"domain\":[0.0,1.0],\"matches\":\"y\",\"showticklabels\":false},\"xaxis12\":{\"anchor\":\"y12\",\"domain\":[0.5850415512465373,0.6277008310249307],\"title\":{\"text\":\"f_hhp_hybrid_lambda\"}},\"yaxis12\":{\"anchor\":\"x12\",\"domain\":[0.0,1.0],\"matches\":\"y\",\"showticklabels\":false},\"xaxis13\":{\"anchor\":\"y13\",\"domain\":[0.6382271468144045,0.6808864265927979],\"title\":{\"text\":\"f_hhp_topK\"},\"type\":\"log\"},\"yaxis13\":{\"anchor\":\"x13\",\"domain\":[0.0,1.0],\"matches\":\"y\",\"showticklabels\":false},\"xaxis14\":{\"anchor\":\"y14\",\"domain\":[0.6914127423822715,0.7340720221606648],\"title\":{\"text\":\"f_p3_topK\"},\"type\":\"log\"},\"yaxis14\":{\"anchor\":\"x14\",\"domain\":[0.0,1.0],\"matches\":\"y\",\"showticklabels\":false},\"xaxis15\":{\"anchor\":\"y15\",\"domain\":[0.7445983379501385,0.7872576177285319],\"title\":{\"text\":\"f_p3a_alpha\"},\"type\":\"log\"},\"yaxis15\":{\"anchor\":\"x15\",\"domain\":[0.0,1.0],\"matches\":\"y\",\"showticklabels\":false},\"xaxis16\":{\"anchor\":\"y16\",\"domain\":[0.7977839335180055,0.8404432132963988],\"title\":{\"text\":\"f_p3a_topK\"},\"type\":\"log\"},\"yaxis16\":{\"anchor\":\"x16\",\"domain\":[0.0,1.0],\"matches\":\"y\",\"showticklabels\":false},\"xaxis17\":{\"anchor\":\"y17\",\"domain\":[0.8509695290858725,0.8936288088642659],\"title\":{\"text\":\"f_rp3_alpha\"},\"type\":\"log\"},\"yaxis17\":{\"anchor\":\"x17\",\"domain\":[0.0,1.0],\"matches\":\"y\",\"showticklabels\":false},\"xaxis18\":{\"anchor\":\"y18\",\"domain\":[0.9041551246537396,0.9468144044321329],\"title\":{\"text\":\"f_rp3_beta\"},\"type\":\"log\"},\"yaxis18\":{\"anchor\":\"x18\",\"domain\":[0.0,1.0],\"matches\":\"y\",\"showticklabels\":false},\"xaxis19\":{\"anchor\":\"y19\",\"domain\":[0.9573407202216067,1.0],\"title\":{\"text\":\"f_rp3_topK\"},\"type\":\"log\"},\"yaxis19\":{\"anchor\":\"x19\",\"domain\":[0.0,1.0],\"matches\":\"y\",\"showticklabels\":false},\"title\":{\"text\":\"Slice Plot\"},\"width\":5700},                        {\"responsive\": true}                    ).then(function(){\n",
       "                            \n",
       "var gd = document.getElementById('9a321d79-613a-4c87-8e18-3fed6c06af3f');\n",
       "var x = new MutationObserver(function (mutations, observer) {{\n",
       "        var display = window.getComputedStyle(gd).display;\n",
       "        if (!display || display === 'none') {{\n",
       "            console.log([gd, 'removed!']);\n",
       "            Plotly.purge(gd);\n",
       "            observer.disconnect();\n",
       "        }}\n",
       "}});\n",
       "\n",
       "// Listen for the removal of the full notebook cells\n",
       "var notebookContainer = gd.closest('#notebook-container');\n",
       "if (notebookContainer) {{\n",
       "    x.observe(notebookContainer, {childList: true});\n",
       "}}\n",
       "\n",
       "// Listen for the clearing of the current output cell\n",
       "var outputEl = gd.closest('.output');\n",
       "if (outputEl) {{\n",
       "    x.observe(outputEl, {childList: true});\n",
       "}}\n",
       "\n",
       "                        })                };                });            </script>        </div>"
      ]
     },
     "metadata": {},
     "output_type": "display_data"
    }
   ],
   "source": [
    "if config['tune_parameters']:\n",
    "    fig = optuna.visualization.plot_slice(study)\n",
    "    fig.show()"
   ]
  },
  {
   "cell_type": "code",
   "execution_count": 21,
   "id": "d7c04368",
   "metadata": {
    "execution": {
     "iopub.execute_input": "2023-12-24T21:42:17.870743Z",
     "iopub.status.busy": "2023-12-24T21:42:17.870318Z",
     "iopub.status.idle": "2023-12-24T21:42:18.702790Z",
     "shell.execute_reply": "2023-12-24T21:42:18.701455Z"
    },
    "papermill": {
     "duration": 0.968406,
     "end_time": "2023-12-24T21:42:18.705710",
     "exception": false,
     "start_time": "2023-12-24T21:42:17.737304",
     "status": "completed"
    },
    "tags": []
   },
   "outputs": [],
   "source": [
    "if config['tune_parameters']:\n",
    "    with open('/kaggle/working/best_params_twra.json', 'w') as params_file:\n",
    "        params = study.best_params\n",
    "        json.dump(params, params_file)\n",
    "        \n",
    "    if config['save_github']: \n",
    "        upload_file(\n",
    "            '/kaggle/working/best_params_twra.json', \n",
    "            'tuning_results/best_params_twra.json', \n",
    "            'TWRA tuning results (from kaggle notebook)'\n",
    "        )\n",
    "elif config['copy_prev_best_params']:\n",
    "    shutil.copyfile(\n",
    "        '/kaggle/working/Recsys_Challenge_2023/best_params_twra.json',\n",
    "        '/kaggle/working/best_params_twra.json'\n",
    "    )"
   ]
  },
  {
   "cell_type": "code",
   "execution_count": 22,
   "id": "c8b5e21b",
   "metadata": {
    "execution": {
     "iopub.execute_input": "2023-12-24T21:42:18.985039Z",
     "iopub.status.busy": "2023-12-24T21:42:18.984073Z",
     "iopub.status.idle": "2023-12-24T21:42:20.216708Z",
     "shell.execute_reply": "2023-12-24T21:42:20.215735Z"
    },
    "papermill": {
     "duration": 1.374832,
     "end_time": "2023-12-24T21:42:20.219514",
     "exception": false,
     "start_time": "2023-12-24T21:42:18.844682",
     "status": "completed"
    },
    "tags": []
   },
   "outputs": [],
   "source": [
    "if config['save_github'] and config['tune_parameters']:\n",
    "    upload_file(\n",
    "        config['database_path'], \n",
    "        'tuning_results/tuning_twra.db',\n",
    "        'TWRA tuning db updated results (from kaggle notebook)'\n",
    "    )"
   ]
  }
 ],
 "metadata": {
  "kaggle": {
   "accelerator": "none",
   "dataSources": [
    {
     "databundleVersionId": 6919098,
     "sourceId": 62803,
     "sourceType": "competition"
    }
   ],
   "dockerImageVersionId": 30587,
   "isGpuEnabled": false,
   "isInternetEnabled": true,
   "language": "python",
   "sourceType": "notebook"
  },
  "kernelspec": {
   "display_name": "Python 3",
   "language": "python",
   "name": "python3"
  },
  "language_info": {
   "codemirror_mode": {
    "name": "ipython",
    "version": 3
   },
   "file_extension": ".py",
   "mimetype": "text/x-python",
   "name": "python",
   "nbconvert_exporter": "python",
   "pygments_lexer": "ipython3",
   "version": "3.10.12"
  },
  "papermill": {
   "default_parameters": {},
   "duration": 15621.740306,
   "end_time": "2023-12-24T21:42:23.428436",
   "environment_variables": {},
   "exception": null,
   "input_path": "__notebook__.ipynb",
   "output_path": "__notebook__.ipynb",
   "parameters": {},
   "start_time": "2023-12-24T17:22:01.688130",
   "version": "2.4.0"
  }
 },
 "nbformat": 4,
 "nbformat_minor": 5
}
