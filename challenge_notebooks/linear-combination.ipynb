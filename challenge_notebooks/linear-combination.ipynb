{
 "cells": [
  {
   "cell_type": "code",
   "execution_count": 1,
   "id": "e3edcf2f",
   "metadata": {
    "_cell_guid": "b1076dfc-b9ad-4769-8c92-a6c4dae69d19",
    "_uuid": "8f2839f25d086af736a60e9eeb907d3b93b6e0e5",
    "execution": {
     "iopub.execute_input": "2023-12-01T20:58:01.576961Z",
     "iopub.status.busy": "2023-12-01T20:58:01.575269Z",
     "iopub.status.idle": "2023-12-01T20:58:07.381517Z",
     "shell.execute_reply": "2023-12-01T20:58:07.380202Z"
    },
    "papermill": {
     "duration": 5.825623,
     "end_time": "2023-12-01T20:58:07.385438",
     "exception": false,
     "start_time": "2023-12-01T20:58:01.559815",
     "status": "completed"
    },
    "tags": []
   },
   "outputs": [
    {
     "name": "stdout",
     "output_type": "stream",
     "text": [
      "Cloning into 'Recsys_Challenge_2023'...\r\n",
      "remote: Enumerating objects: 1404, done.\u001b[K\r\n",
      "remote: Counting objects: 100% (253/253), done.\u001b[K\r\n",
      "remote: Compressing objects: 100% (107/107), done.\u001b[K\r\n",
      "remote: Total 1404 (delta 184), reused 193 (delta 143), pack-reused 1151\u001b[K\r\n",
      "Receiving objects: 100% (1404/1404), 78.85 MiB | 29.48 MiB/s, done.\r\n",
      "Resolving deltas: 100% (1014/1014), done.\r\n"
     ]
    }
   ],
   "source": [
    "from kaggle_secrets import UserSecretsClient\n",
    "secret_label = \"Token\"\n",
    "token = UserSecretsClient().get_secret(secret_label)\n",
    "\n",
    "! git clone https://{token}@github.com/CarloSgaravatti/Recsys_Challenge_2023.git"
   ]
  },
  {
   "cell_type": "code",
   "execution_count": 2,
   "id": "464b08d4",
   "metadata": {
    "execution": {
     "iopub.execute_input": "2023-12-01T20:58:07.420742Z",
     "iopub.status.busy": "2023-12-01T20:58:07.420269Z",
     "iopub.status.idle": "2023-12-01T20:58:24.794251Z",
     "shell.execute_reply": "2023-12-01T20:58:24.792849Z"
    },
    "papermill": {
     "duration": 17.395217,
     "end_time": "2023-12-01T20:58:24.797071",
     "exception": false,
     "start_time": "2023-12-01T20:58:07.401854",
     "status": "completed"
    },
    "tags": []
   },
   "outputs": [
    {
     "name": "stdout",
     "output_type": "stream",
     "text": [
      "Collecting PyGithub\r\n",
      "  Obtaining dependency information for PyGithub from https://files.pythonhosted.org/packages/be/04/810d131be173cba445d3658a45512b2b2b3d0960d52c4a300d6ec5e00f52/PyGithub-2.1.1-py3-none-any.whl.metadata\r\n",
      "  Downloading PyGithub-2.1.1-py3-none-any.whl.metadata (2.2 kB)\r\n",
      "Requirement already satisfied: requests in /opt/conda/lib/python3.10/site-packages (2.31.0)\r\n",
      "Collecting pynacl>=1.4.0 (from PyGithub)\r\n",
      "  Downloading PyNaCl-1.5.0-cp36-abi3-manylinux_2_17_x86_64.manylinux2014_x86_64.manylinux_2_24_x86_64.whl (856 kB)\r\n",
      "\u001b[2K     \u001b[90m━━━━━━━━━━━━━━━━━━━━━━━━━━━━━━━━━━━━━━\u001b[0m \u001b[32m856.7/856.7 kB\u001b[0m \u001b[31m15.5 MB/s\u001b[0m eta \u001b[36m0:00:00\u001b[0m\r\n",
      "\u001b[?25hRequirement already satisfied: python-dateutil in /opt/conda/lib/python3.10/site-packages (from PyGithub) (2.8.2)\r\n",
      "Requirement already satisfied: pyjwt[crypto]>=2.4.0 in /opt/conda/lib/python3.10/site-packages (from PyGithub) (2.8.0)\r\n",
      "Requirement already satisfied: typing-extensions>=4.0.0 in /opt/conda/lib/python3.10/site-packages (from PyGithub) (4.5.0)\r\n",
      "Requirement already satisfied: urllib3>=1.26.0 in /opt/conda/lib/python3.10/site-packages (from PyGithub) (1.26.15)\r\n",
      "Requirement already satisfied: Deprecated in /opt/conda/lib/python3.10/site-packages (from PyGithub) (1.2.14)\r\n",
      "Requirement already satisfied: charset-normalizer<4,>=2 in /opt/conda/lib/python3.10/site-packages (from requests) (3.2.0)\r\n",
      "Requirement already satisfied: idna<4,>=2.5 in /opt/conda/lib/python3.10/site-packages (from requests) (3.4)\r\n",
      "Requirement already satisfied: certifi>=2017.4.17 in /opt/conda/lib/python3.10/site-packages (from requests) (2023.7.22)\r\n",
      "Requirement already satisfied: cryptography>=3.4.0 in /opt/conda/lib/python3.10/site-packages (from pyjwt[crypto]>=2.4.0->PyGithub) (41.0.3)\r\n",
      "Requirement already satisfied: cffi>=1.4.1 in /opt/conda/lib/python3.10/site-packages (from pynacl>=1.4.0->PyGithub) (1.15.1)\r\n",
      "Requirement already satisfied: wrapt<2,>=1.10 in /opt/conda/lib/python3.10/site-packages (from Deprecated->PyGithub) (1.15.0)\r\n",
      "Requirement already satisfied: six>=1.5 in /opt/conda/lib/python3.10/site-packages (from python-dateutil->PyGithub) (1.16.0)\r\n",
      "Requirement already satisfied: pycparser in /opt/conda/lib/python3.10/site-packages (from cffi>=1.4.1->pynacl>=1.4.0->PyGithub) (2.21)\r\n",
      "Downloading PyGithub-2.1.1-py3-none-any.whl (302 kB)\r\n",
      "\u001b[2K   \u001b[90m━━━━━━━━━━━━━━━━━━━━━━━━━━━━━━━━━━━━━━━━\u001b[0m \u001b[32m302.9/302.9 kB\u001b[0m \u001b[31m20.9 MB/s\u001b[0m eta \u001b[36m0:00:00\u001b[0m\r\n",
      "\u001b[?25hInstalling collected packages: pynacl, PyGithub\r\n",
      "Successfully installed PyGithub-2.1.1 pynacl-1.5.0\r\n"
     ]
    }
   ],
   "source": [
    "! pip install PyGithub requests"
   ]
  },
  {
   "cell_type": "code",
   "execution_count": 3,
   "id": "ff79142f",
   "metadata": {
    "_kg_hide-output": true,
    "execution": {
     "iopub.execute_input": "2023-12-01T20:58:24.830217Z",
     "iopub.status.busy": "2023-12-01T20:58:24.829459Z",
     "iopub.status.idle": "2023-12-01T21:01:12.863072Z",
     "shell.execute_reply": "2023-12-01T21:01:12.861570Z"
    },
    "papermill": {
     "duration": 168.053743,
     "end_time": "2023-12-01T21:01:12.866038",
     "exception": false,
     "start_time": "2023-12-01T20:58:24.812295",
     "status": "completed"
    },
    "scrolled": true,
    "tags": []
   },
   "outputs": [
    {
     "name": "stdout",
     "output_type": "stream",
     "text": [
      "run_compile_all_cython: Found 10 Cython files in 4 folders...\r\n",
      "run_compile_all_cython: All files will be compiled using your current python environment: '/opt/conda/bin/python'\r\n",
      "Compiling [1/10]: MatrixFactorization_Cython_Epoch.pyx... \r\n",
      "In file included from \u001b[01m\u001b[K/opt/conda/lib/python3.10/site-packages/numpy/core/include/numpy/ndarraytypes.h:1940\u001b[m\u001b[K,\r\n",
      "                 from \u001b[01m\u001b[K/opt/conda/lib/python3.10/site-packages/numpy/core/include/numpy/ndarrayobject.h:12\u001b[m\u001b[K,\r\n",
      "                 from \u001b[01m\u001b[K/opt/conda/lib/python3.10/site-packages/numpy/core/include/numpy/arrayobject.h:5\u001b[m\u001b[K,\r\n",
      "                 from \u001b[01m\u001b[KMatrixFactorization_Cython_Epoch.c:1109\u001b[m\u001b[K:\r\n",
      "\u001b[01m\u001b[K/opt/conda/lib/python3.10/site-packages/numpy/core/include/numpy/npy_1_7_deprecated_api.h:17:2:\u001b[m\u001b[K \u001b[01;35m\u001b[Kwarning: \u001b[m\u001b[K#warning \"Using deprecated NumPy API, disable it with \" \"#define NPY_NO_DEPRECATED_API NPY_1_7_API_VERSION\" [\u001b[01;35m\u001b[K-Wcpp\u001b[m\u001b[K]\r\n",
      "   17 | #\u001b[01;35m\u001b[Kwarning\u001b[m\u001b[K \"Using deprecated NumPy API, disable it with \" \\\r\n",
      "      |  \u001b[01;35m\u001b[K^~~~~~~\u001b[m\u001b[K\r\n",
      "\u001b[01m\u001b[KMatrixFactorization_Cython_Epoch.c:\u001b[m\u001b[K In function ‘\u001b[01m\u001b[K__pyx_pf_32MatrixFactorization_Cython_Epoch_32MatrixFactorization_Cython_Epoch_10epochIteration_Cython_ASY_SVD_SGD\u001b[m\u001b[K’:\r\n",
      "\u001b[01m\u001b[KMatrixFactorization_Cython_Epoch.c:25614:9:\u001b[m\u001b[K \u001b[01;35m\u001b[Kwarning: \u001b[m\u001b[K‘\u001b[01m\u001b[K__pyx_v_end_pos_seen_items\u001b[m\u001b[K’ may be used uninitialized in this function [\u001b[01;35m\u001b[K-Wmaybe-uninitialized\u001b[m\u001b[K]\r\n",
      "25614 |         \u001b[01;35m\u001b[Kfor\u001b[m\u001b[K (__pyx_t_21 = __pyx_v_start_pos_seen_items; __pyx_t_21 < __pyx_t_20; __pyx_t_21+=1) {\r\n",
      "      |         \u001b[01;35m\u001b[K^~~\u001b[m\u001b[K\r\n",
      "\u001b[01m\u001b[KMatrixFactorization_Cython_Epoch.c:25614:9:\u001b[m\u001b[K \u001b[01;35m\u001b[Kwarning: \u001b[m\u001b[K‘\u001b[01m\u001b[K__pyx_v_start_pos_seen_items\u001b[m\u001b[K’ may be used uninitialized in this function [\u001b[01;35m\u001b[K-Wmaybe-uninitialized\u001b[m\u001b[K]\r\n",
      "/opt/conda/lib/python3.10/site-packages/Cython/Compiler/Main.py:381: FutureWarning: Cython directive 'language_level' not set, using '3str' for now (Py3). This has changed from earlier releases! File: /kaggle/working/Recsys_Challenge_2023/Recommenders/MatrixFactorization/Cython/MatrixFactorization_Cython_Epoch.pyx\r\n",
      "  tree = Parsing.p_module(s, pxd, full_module_name)\r\n",
      "Compiling [1/10]: MatrixFactorization_Cython_Epoch.pyx... PASS\r\n",
      "\r\n",
      "Compiling [2/10]: MatrixFactorizationImpressions_Cython_Epoch.pyx... \r\n",
      "In file included from \u001b[01m\u001b[K/opt/conda/lib/python3.10/site-packages/numpy/core/include/numpy/ndarraytypes.h:1940\u001b[m\u001b[K,\r\n",
      "                 from \u001b[01m\u001b[K/opt/conda/lib/python3.10/site-packages/numpy/core/include/numpy/ndarrayobject.h:12\u001b[m\u001b[K,\r\n",
      "                 from \u001b[01m\u001b[K/opt/conda/lib/python3.10/site-packages/numpy/core/include/numpy/arrayobject.h:5\u001b[m\u001b[K,\r\n",
      "                 from \u001b[01m\u001b[KMatrixFactorizationImpressions_Cython_Epoch.c:1109\u001b[m\u001b[K:\r\n",
      "\u001b[01m\u001b[K/opt/conda/lib/python3.10/site-packages/numpy/core/include/numpy/npy_1_7_deprecated_api.h:17:2:\u001b[m\u001b[K \u001b[01;35m\u001b[Kwarning: \u001b[m\u001b[K#warning \"Using deprecated NumPy API, disable it with \" \"#define NPY_NO_DEPRECATED_API NPY_1_7_API_VERSION\" [\u001b[01;35m\u001b[K-Wcpp\u001b[m\u001b[K]\r\n",
      "   17 | #\u001b[01;35m\u001b[Kwarning\u001b[m\u001b[K \"Using deprecated NumPy API, disable it with \" \\\r\n",
      "      |  \u001b[01;35m\u001b[K^~~~~~~\u001b[m\u001b[K\r\n",
      "\u001b[01m\u001b[KMatrixFactorizationImpressions_Cython_Epoch.c:\u001b[m\u001b[K In function ‘\u001b[01m\u001b[K__pyx_f_43MatrixFactorizationImpressions_Cython_Epoch_32MatrixFactorization_Cython_Epoch_sampleBPR_Cython\u001b[m\u001b[K’:\r\n",
      "\u001b[01m\u001b[KMatrixFactorizationImpressions_Cython_Epoch.c:29664:17:\u001b[m\u001b[K \u001b[01;35m\u001b[Kwarning: \u001b[m\u001b[K‘\u001b[01m\u001b[K__pyx_v_start_pos_impression_items\u001b[m\u001b[K’ may be used uninitialized in this function [\u001b[01;35m\u001b[K-Wmaybe-uninitialized\u001b[m\u001b[K]\r\n",
      "29664 |       \u001b[01;35m\u001b[K__pyx_t_4 = (__pyx_v_start_pos_impression_items + __pyx_v_index)\u001b[m\u001b[K;\r\n",
      "      |       \u001b[01;35m\u001b[K~~~~~~~~~~^~~~~~~~~~~~~~~~~~~~~~~~~~~~~~~~~~~~~~~~~~~~~~~~~~~~~~\u001b[m\u001b[K\r\n",
      "\u001b[01m\u001b[KMatrixFactorizationImpressions_Cython_Epoch.c:\u001b[m\u001b[K In function ‘\u001b[01m\u001b[K__pyx_pf_43MatrixFactorizationImpressions_Cython_Epoch_32MatrixFactorization_Cython_Epoch_10epochIteration_Cython_ASY_SVD_SGD\u001b[m\u001b[K’:\r\n",
      "\u001b[01m\u001b[KMatrixFactorizationImpressions_Cython_Epoch.c:25474:7:\u001b[m\u001b[K \u001b[01;35m\u001b[Kwarning: \u001b[m\u001b[K‘\u001b[01m\u001b[K__pyx_v_end_pos_seen_items\u001b[m\u001b[K’ may be used uninitialized in this function [\u001b[01;35m\u001b[K-Wmaybe-uninitialized\u001b[m\u001b[K]\r\n",
      "25474 |       \u001b[01;35m\u001b[Kfor\u001b[m\u001b[K (__pyx_t_21 = __pyx_v_start_pos_seen_items; __pyx_t_21 < __pyx_t_20; __pyx_t_21+=1) {\r\n",
      "      |       \u001b[01;35m\u001b[K^~~\u001b[m\u001b[K\r\n",
      "\u001b[01m\u001b[KMatrixFactorizationImpressions_Cython_Epoch.c:25474:7:\u001b[m\u001b[K \u001b[01;35m\u001b[Kwarning: \u001b[m\u001b[K‘\u001b[01m\u001b[K__pyx_v_start_pos_seen_items\u001b[m\u001b[K’ may be used uninitialized in this function [\u001b[01;35m\u001b[K-Wmaybe-uninitialized\u001b[m\u001b[K]\r\n",
      "/opt/conda/lib/python3.10/site-packages/Cython/Compiler/Main.py:381: FutureWarning: Cython directive 'language_level' not set, using '3str' for now (Py3). This has changed from earlier releases! File: /kaggle/working/Recsys_Challenge_2023/Recommenders/MatrixFactorization/Cython/MatrixFactorizationImpressions_Cython_Epoch.pyx\r\n",
      "  tree = Parsing.p_module(s, pxd, full_module_name)\r\n",
      "Compiling [2/10]: MatrixFactorizationImpressions_Cython_Epoch.pyx... PASS\r\n",
      "\r\n",
      "Compiling [3/10]: Compute_Similarity_Cython.pyx... \r\n",
      "warning: Compute_Similarity_Cython.pyx:21:0: The 'IF' statement is deprecated and will be removed in a future Cython version. Consider using runtime conditions or C macros instead. See https://github.com/cython/cython/issues/4310\r\n",
      "warning: Compute_Similarity_Cython.pyx:22:4: The 'DEF' statement is deprecated and will be removed in a future Cython version. Consider using global variables, constants, and in-place literals instead. See https://github.com/cython/cython/issues/4310\r\n",
      "warning: Compute_Similarity_Cython.pyx:24:4: The 'DEF' statement is deprecated and will be removed in a future Cython version. Consider using global variables, constants, and in-place literals instead. See https://github.com/cython/cython/issues/4310\r\n",
      "warning: Compute_Similarity_Cython.pyx:26:4: The 'DEF' statement is deprecated and will be removed in a future Cython version. Consider using global variables, constants, and in-place literals instead. See https://github.com/cython/cython/issues/4310\r\n",
      "In file included from \u001b[01m\u001b[K/opt/conda/lib/python3.10/site-packages/numpy/core/include/numpy/ndarraytypes.h:1940\u001b[m\u001b[K,\r\n",
      "                 from \u001b[01m\u001b[K/opt/conda/lib/python3.10/site-packages/numpy/core/include/numpy/ndarrayobject.h:12\u001b[m\u001b[K,\r\n",
      "                 from \u001b[01m\u001b[K/opt/conda/lib/python3.10/site-packages/numpy/core/include/numpy/arrayobject.h:5\u001b[m\u001b[K,\r\n",
      "                 from \u001b[01m\u001b[KCompute_Similarity_Cython.c:1109\u001b[m\u001b[K:\r\n",
      "\u001b[01m\u001b[K/opt/conda/lib/python3.10/site-packages/numpy/core/include/numpy/npy_1_7_deprecated_api.h:17:2:\u001b[m\u001b[K \u001b[01;35m\u001b[Kwarning: \u001b[m\u001b[K#warning \"Using deprecated NumPy API, disable it with \" \"#define NPY_NO_DEPRECATED_API NPY_1_7_API_VERSION\" [\u001b[01;35m\u001b[K-Wcpp\u001b[m\u001b[K]\r\n",
      "   17 | #\u001b[01;35m\u001b[Kwarning\u001b[m\u001b[K \"Using deprecated NumPy API, disable it with \" \\\r\n",
      "      |  \u001b[01;35m\u001b[K^~~~~~~\u001b[m\u001b[K\r\n",
      "/opt/conda/lib/python3.10/site-packages/Cython/Compiler/Main.py:381: FutureWarning: Cython directive 'language_level' not set, using '3str' for now (Py3). This has changed from earlier releases! File: /kaggle/working/Recsys_Challenge_2023/Recommenders/Similarity/Cython/Compute_Similarity_Cython.pyx\r\n",
      "  tree = Parsing.p_module(s, pxd, full_module_name)\r\n",
      "warning: Compute_Similarity_Cython.pyx:21:0: The 'IF' statement is deprecated and will be removed in a future Cython version. Consider using runtime conditions or C macros instead. See https://github.com/cython/cython/issues/4310\r\n",
      "warning: Compute_Similarity_Cython.pyx:22:4: The 'DEF' statement is deprecated and will be removed in a future Cython version. Consider using global variables, constants, and in-place literals instead. See https://github.com/cython/cython/issues/4310\r\n",
      "warning: Compute_Similarity_Cython.pyx:24:4: The 'DEF' statement is deprecated and will be removed in a future Cython version. Consider using global variables, constants, and in-place literals instead. See https://github.com/cython/cython/issues/4310\r\n",
      "warning: Compute_Similarity_Cython.pyx:26:4: The 'DEF' statement is deprecated and will be removed in a future Cython version. Consider using global variables, constants, and in-place literals instead. See https://github.com/cython/cython/issues/4310\r\n",
      "Compiling [3/10]: Compute_Similarity_Cython.pyx... PASS\r\n",
      "\r\n",
      "Compiling [4/10]: Sparse_Matrix_Tree_CSR.pyx... \r\n",
      "warning: Sparse_Matrix_Tree_CSR.pyx:132:34: Non-trivial type declarators in shared declaration (e.g. mix of pointers and values). Each pointer declaration should be on its own line.\r\n",
      "warning: Sparse_Matrix_Tree_CSR.pyx:132:66: Non-trivial type declarators in shared declaration (e.g. mix of pointers and values). Each pointer declaration should be on its own line.\r\n",
      "warning: Sparse_Matrix_Tree_CSR.pyx:343:35: Non-trivial type declarators in shared declaration (e.g. mix of pointers and values). Each pointer declaration should be on its own line.\r\n",
      "warning: Sparse_Matrix_Tree_CSR.pyx:343:52: Non-trivial type declarators in shared declaration (e.g. mix of pointers and values). Each pointer declaration should be on its own line.\r\n",
      "warning: Sparse_Matrix_Tree_CSR.pyx:442:35: Non-trivial type declarators in shared declaration (e.g. mix of pointers and values). Each pointer declaration should be on its own line.\r\n",
      "warning: Sparse_Matrix_Tree_CSR.pyx:442:53: Non-trivial type declarators in shared declaration (e.g. mix of pointers and values). Each pointer declaration should be on its own line.\r\n",
      "warning: Sparse_Matrix_Tree_CSR.pyx:442:69: Non-trivial type declarators in shared declaration (e.g. mix of pointers and values). Each pointer declaration should be on its own line.\r\n",
      "warning: Sparse_Matrix_Tree_CSR.pyx:577:35: Non-trivial type declarators in shared declaration (e.g. mix of pointers and values). Each pointer declaration should be on its own line.\r\n",
      "warning: Sparse_Matrix_Tree_CSR.pyx:577:42: Non-trivial type declarators in shared declaration (e.g. mix of pointers and values). Each pointer declaration should be on its own line.\r\n",
      "warning: Sparse_Matrix_Tree_CSR.pyx:578:35: Non-trivial type declarators in shared declaration (e.g. mix of pointers and values). Each pointer declaration should be on its own line.\r\n",
      "warning: Sparse_Matrix_Tree_CSR.pyx:578:53: Non-trivial type declarators in shared declaration (e.g. mix of pointers and values). Each pointer declaration should be on its own line.\r\n",
      "\r\n",
      "Error compiling Cython file:\r\n",
      "------------------------------------------------------------\r\n",
      "...\r\n",
      "            vector_pointer_to_list_elements[index].head = current_element\r\n",
      "            current_element = current_element.higher\r\n",
      "\r\n",
      "\r\n",
      "        # Sort array elements on their data field\r\n",
      "        qsort(vector_pointer_to_list_elements, list_length, sizeof(head_pointer_tree_s), compare_struct_on_data)\r\n",
      "                                                                                         ^\r\n",
      "------------------------------------------------------------\r\n",
      "\r\n",
      "Sparse_Matrix_Tree_CSR.pyx:516:89: Cannot assign type 'int (const void *, const void *) except? -1' to 'int (*)(const_void *, const_void *) noexcept'\r\n",
      "\r\n",
      "Error compiling Cython file:\r\n",
      "------------------------------------------------------------\r\n",
      "...\r\n",
      "        # Sort array elements on their data field\r\n",
      "        qsort(vector_pointer_to_list_elements, list_length, sizeof(head_pointer_tree_s), compare_struct_on_data)\r\n",
      "\r\n",
      "        # Sort only the TopK according to their column field\r\n",
      "        # Sort is from lower to higher, therefore the elements to be considered are from len-topK to len\r\n",
      "        qsort(&vector_pointer_to_list_elements[list_length-TopK], TopK, sizeof(head_pointer_tree_s), compare_struct_on_column)\r\n",
      "                                                                                                     ^\r\n",
      "------------------------------------------------------------\r\n",
      "\r\n",
      "Sparse_Matrix_Tree_CSR.pyx:520:101: Cannot assign type 'int (const void *, const void *) except? -1' to 'int (*)(const_void *, const_void *) noexcept'\r\n",
      "Traceback (most recent call last):\r\n",
      "  File \"/kaggle/working/Recsys_Challenge_2023/CythonCompiler/compile_script.py\", line 48, in <module>\r\n",
      "    setup(\r\n",
      "  File \"/opt/conda/lib/python3.10/site-packages/setuptools/__init__.py\", line 107, in setup\r\n",
      "    return distutils.core.setup(**attrs)\r\n",
      "  File \"/opt/conda/lib/python3.10/site-packages/setuptools/_distutils/core.py\", line 185, in setup\r\n",
      "    return run_commands(dist)\r\n",
      "  File \"/opt/conda/lib/python3.10/site-packages/setuptools/_distutils/core.py\", line 201, in run_commands\r\n",
      "    dist.run_commands()\r\n",
      "  File \"/opt/conda/lib/python3.10/site-packages/setuptools/_distutils/dist.py\", line 969, in run_commands\r\n",
      "    self.run_command(cmd)\r\n",
      "  File \"/opt/conda/lib/python3.10/site-packages/setuptools/dist.py\", line 1233, in run_command\r\n",
      "    super().run_command(command)\r\n",
      "  File \"/opt/conda/lib/python3.10/site-packages/setuptools/_distutils/dist.py\", line 988, in run_command\r\n",
      "    cmd_obj.run()\r\n",
      "  File \"/opt/conda/lib/python3.10/site-packages/setuptools/_distutils/command/build_ext.py\", line 345, in run\r\n",
      "    self.build_extensions()\r\n",
      "  File \"/opt/conda/lib/python3.10/site-packages/setuptools/_distutils/command/build_ext.py\", line 467, in build_extensions\r\n",
      "    self._build_extensions_serial()\r\n",
      "  File \"/opt/conda/lib/python3.10/site-packages/setuptools/_distutils/command/build_ext.py\", line 493, in _build_extensions_serial\r\n",
      "    self.build_extension(ext)\r\n",
      "  File \"/opt/conda/lib/python3.10/site-packages/Cython/Distutils/build_ext.py\", line 122, in build_extension\r\n",
      "    new_ext = cythonize(\r\n",
      "  File \"/opt/conda/lib/python3.10/site-packages/Cython/Build/Dependencies.py\", line 1134, in cythonize\r\n",
      "    cythonize_one(*args)\r\n",
      "  File \"/opt/conda/lib/python3.10/site-packages/Cython/Build/Dependencies.py\", line 1301, in cythonize_one\r\n",
      "    raise CompileError(None, pyx_file)\r\n",
      "Cython.Compiler.Errors.CompileError: Sparse_Matrix_Tree_CSR.pyx\r\n",
      "Traceback (most recent call last):\r\n",
      "  File \"/kaggle/working/Recsys_Challenge_2023/run_compile_all_cython.py\", line 59, in <module>\r\n",
      "    run_compile_subprocess(file_path, [file_name])\r\n",
      "  File \"/kaggle/working/Recsys_Challenge_2023/CythonCompiler/run_compile_subprocess.py\", line 51, in run_compile_subprocess\r\n",
      "    raise exc\r\n",
      "  File \"/kaggle/working/Recsys_Challenge_2023/CythonCompiler/run_compile_subprocess.py\", line 32, in run_compile_subprocess\r\n",
      "    output = subprocess.check_output(' '.join(command),\r\n",
      "  File \"/opt/conda/lib/python3.10/subprocess.py\", line 421, in check_output\r\n",
      "    return run(*popenargs, stdout=PIPE, timeout=timeout, check=True,\r\n",
      "  File \"/opt/conda/lib/python3.10/subprocess.py\", line 526, in run\r\n",
      "    raise CalledProcessError(retcode, process.args,\r\n",
      "subprocess.CalledProcessError: Command '/opt/conda/bin/python /kaggle/working/Recsys_Challenge_2023/CythonCompiler/compile_script.py Sparse_Matrix_Tree_CSR.pyx build_ext --inplace' returned non-zero exit status 1.\r\n",
      "Compiling [4/10]: Sparse_Matrix_Tree_CSR.pyx... FAIL: Command '/opt/conda/bin/python /kaggle/working/Recsys_Challenge_2023/CythonCompiler/compile_script.py Sparse_Matrix_Tree_CSR.pyx build_ext --inplace' returned non-zero exit status 1.\r\n",
      "\r\n",
      "Compiling [5/10]: Triangular_Matrix.pyx... \r\n",
      "warning: Triangular_Matrix.pyx:22:0: The 'IF' statement is deprecated and will be removed in a future Cython version. Consider using runtime conditions or C macros instead. See https://github.com/cython/cython/issues/4310\r\n",
      "warning: Triangular_Matrix.pyx:23:4: The 'DEF' statement is deprecated and will be removed in a future Cython version. Consider using global variables, constants, and in-place literals instead. See https://github.com/cython/cython/issues/4310\r\n",
      "warning: Triangular_Matrix.pyx:25:4: The 'DEF' statement is deprecated and will be removed in a future Cython version. Consider using global variables, constants, and in-place literals instead. See https://github.com/cython/cython/issues/4310\r\n",
      "warning: Triangular_Matrix.pyx:27:4: The 'DEF' statement is deprecated and will be removed in a future Cython version. Consider using global variables, constants, and in-place literals instead. See https://github.com/cython/cython/issues/4310\r\n",
      "In file included from \u001b[01m\u001b[K/opt/conda/lib/python3.10/site-packages/numpy/core/include/numpy/ndarraytypes.h:1940\u001b[m\u001b[K,\r\n",
      "                 from \u001b[01m\u001b[K/opt/conda/lib/python3.10/site-packages/numpy/core/include/numpy/ndarrayobject.h:12\u001b[m\u001b[K,\r\n",
      "                 from \u001b[01m\u001b[K/opt/conda/lib/python3.10/site-packages/numpy/core/include/numpy/arrayobject.h:5\u001b[m\u001b[K,\r\n",
      "                 from \u001b[01m\u001b[KTriangular_Matrix.c:1109\u001b[m\u001b[K:\r\n",
      "\u001b[01m\u001b[K/opt/conda/lib/python3.10/site-packages/numpy/core/include/numpy/npy_1_7_deprecated_api.h:17:2:\u001b[m\u001b[K \u001b[01;35m\u001b[Kwarning: \u001b[m\u001b[K#warning \"Using deprecated NumPy API, disable it with \" \"#define NPY_NO_DEPRECATED_API NPY_1_7_API_VERSION\" [\u001b[01;35m\u001b[K-Wcpp\u001b[m\u001b[K]\r\n",
      "   17 | #\u001b[01;35m\u001b[Kwarning\u001b[m\u001b[K \"Using deprecated NumPy API, disable it with \" \\\r\n",
      "      |  \u001b[01;35m\u001b[K^~~~~~~\u001b[m\u001b[K\r\n",
      "/opt/conda/lib/python3.10/site-packages/Cython/Compiler/Main.py:381: FutureWarning: Cython directive 'language_level' not set, using '3str' for now (Py3). This has changed from earlier releases! File: /kaggle/working/Recsys_Challenge_2023/Recommenders/SLIM/Cython/Triangular_Matrix.pyx\r\n",
      "  tree = Parsing.p_module(s, pxd, full_module_name)\r\n",
      "warning: Triangular_Matrix.pyx:22:0: The 'IF' statement is deprecated and will be removed in a future Cython version. Consider using runtime conditions or C macros instead. See https://github.com/cython/cython/issues/4310\r\n",
      "warning: Triangular_Matrix.pyx:23:4: The 'DEF' statement is deprecated and will be removed in a future Cython version. Consider using global variables, constants, and in-place literals instead. See https://github.com/cython/cython/issues/4310\r\n",
      "warning: Triangular_Matrix.pyx:25:4: The 'DEF' statement is deprecated and will be removed in a future Cython version. Consider using global variables, constants, and in-place literals instead. See https://github.com/cython/cython/issues/4310\r\n",
      "warning: Triangular_Matrix.pyx:27:4: The 'DEF' statement is deprecated and will be removed in a future Cython version. Consider using global variables, constants, and in-place literals instead. See https://github.com/cython/cython/issues/4310\r\n",
      "Compiling [5/10]: Triangular_Matrix.pyx... PASS\r\n",
      "\r\n",
      "Compiling [6/10]: SLIM_BPR_Cython_Epoch.pyx... \r\n",
      "warning: SLIM_BPR_Cython_Epoch.pyx:24:0: The 'IF' statement is deprecated and will be removed in a future Cython version. Consider using runtime conditions or C macros instead. See https://github.com/cython/cython/issues/4310\r\n",
      "warning: SLIM_BPR_Cython_Epoch.pyx:25:4: The 'DEF' statement is deprecated and will be removed in a future Cython version. Consider using global variables, constants, and in-place literals instead. See https://github.com/cython/cython/issues/4310\r\n",
      "warning: SLIM_BPR_Cython_Epoch.pyx:27:4: The 'DEF' statement is deprecated and will be removed in a future Cython version. Consider using global variables, constants, and in-place literals instead. See https://github.com/cython/cython/issues/4310\r\n",
      "warning: SLIM_BPR_Cython_Epoch.pyx:29:4: The 'DEF' statement is deprecated and will be removed in a future Cython version. Consider using global variables, constants, and in-place literals instead. See https://github.com/cython/cython/issues/4310\r\n",
      "warning: SLIM_BPR_Cython_Epoch.pyx:632:34: Non-trivial type declarators in shared declaration (e.g. mix of pointers and values). Each pointer declaration should be on its own line.\r\n",
      "warning: SLIM_BPR_Cython_Epoch.pyx:632:66: Non-trivial type declarators in shared declaration (e.g. mix of pointers and values). Each pointer declaration should be on its own line.\r\n",
      "warning: SLIM_BPR_Cython_Epoch.pyx:817:35: Non-trivial type declarators in shared declaration (e.g. mix of pointers and values). Each pointer declaration should be on its own line.\r\n",
      "warning: SLIM_BPR_Cython_Epoch.pyx:817:52: Non-trivial type declarators in shared declaration (e.g. mix of pointers and values). Each pointer declaration should be on its own line.\r\n",
      "warning: SLIM_BPR_Cython_Epoch.pyx:916:35: Non-trivial type declarators in shared declaration (e.g. mix of pointers and values). Each pointer declaration should be on its own line.\r\n",
      "warning: SLIM_BPR_Cython_Epoch.pyx:916:53: Non-trivial type declarators in shared declaration (e.g. mix of pointers and values). Each pointer declaration should be on its own line.\r\n",
      "warning: SLIM_BPR_Cython_Epoch.pyx:916:69: Non-trivial type declarators in shared declaration (e.g. mix of pointers and values). Each pointer declaration should be on its own line.\r\n",
      "warning: SLIM_BPR_Cython_Epoch.pyx:1051:35: Non-trivial type declarators in shared declaration (e.g. mix of pointers and values). Each pointer declaration should be on its own line.\r\n",
      "warning: SLIM_BPR_Cython_Epoch.pyx:1051:42: Non-trivial type declarators in shared declaration (e.g. mix of pointers and values). Each pointer declaration should be on its own line.\r\n",
      "warning: SLIM_BPR_Cython_Epoch.pyx:1052:35: Non-trivial type declarators in shared declaration (e.g. mix of pointers and values). Each pointer declaration should be on its own line.\r\n",
      "warning: SLIM_BPR_Cython_Epoch.pyx:1052:53: Non-trivial type declarators in shared declaration (e.g. mix of pointers and values). Each pointer declaration should be on its own line.\r\n",
      "\r\n",
      "Error compiling Cython file:\r\n",
      "------------------------------------------------------------\r\n",
      "...\r\n",
      "            vector_pointer_to_list_elements[index].head = current_element\r\n",
      "            current_element = current_element.higher\r\n",
      "\r\n",
      "\r\n",
      "        # Sort array elements on their data field\r\n",
      "        qsort(vector_pointer_to_list_elements, list_length, sizeof(head_pointer_tree_s), compare_struct_on_data)\r\n",
      "                                                                                         ^\r\n",
      "------------------------------------------------------------\r\n",
      "\r\n",
      "SLIM_BPR_Cython_Epoch.pyx:990:89: Cannot assign type 'int (const void *, const void *) except? -1' to 'int (*)(const_void *, const_void *) noexcept'\r\n",
      "\r\n",
      "Error compiling Cython file:\r\n",
      "------------------------------------------------------------\r\n",
      "...\r\n",
      "        # Sort array elements on their data field\r\n",
      "        qsort(vector_pointer_to_list_elements, list_length, sizeof(head_pointer_tree_s), compare_struct_on_data)\r\n",
      "\r\n",
      "        # Sort only the TopK according to their column field\r\n",
      "        # Sort is from lower to higher, therefore the elements to be considered are from len-topK to len\r\n",
      "        qsort(&vector_pointer_to_list_elements[list_length-TopK], TopK, sizeof(head_pointer_tree_s), compare_struct_on_column)\r\n",
      "                                                                                                     ^\r\n",
      "------------------------------------------------------------\r\n",
      "\r\n",
      "SLIM_BPR_Cython_Epoch.pyx:994:101: Cannot assign type 'int (const void *, const void *) except? -1' to 'int (*)(const_void *, const_void *) noexcept'\r\n",
      "Traceback (most recent call last):\r\n",
      "  File \"/kaggle/working/Recsys_Challenge_2023/CythonCompiler/compile_script.py\", line 48, in <module>\r\n",
      "    setup(\r\n",
      "  File \"/opt/conda/lib/python3.10/site-packages/setuptools/__init__.py\", line 107, in setup\r\n",
      "    return distutils.core.setup(**attrs)\r\n",
      "  File \"/opt/conda/lib/python3.10/site-packages/setuptools/_distutils/core.py\", line 185, in setup\r\n",
      "    return run_commands(dist)\r\n",
      "  File \"/opt/conda/lib/python3.10/site-packages/setuptools/_distutils/core.py\", line 201, in run_commands\r\n",
      "    dist.run_commands()\r\n",
      "  File \"/opt/conda/lib/python3.10/site-packages/setuptools/_distutils/dist.py\", line 969, in run_commands\r\n",
      "    self.run_command(cmd)\r\n",
      "  File \"/opt/conda/lib/python3.10/site-packages/setuptools/dist.py\", line 1233, in run_command\r\n",
      "    super().run_command(command)\r\n",
      "  File \"/opt/conda/lib/python3.10/site-packages/setuptools/_distutils/dist.py\", line 988, in run_command\r\n",
      "    cmd_obj.run()\r\n",
      "  File \"/opt/conda/lib/python3.10/site-packages/setuptools/_distutils/command/build_ext.py\", line 345, in run\r\n",
      "    self.build_extensions()\r\n",
      "  File \"/opt/conda/lib/python3.10/site-packages/setuptools/_distutils/command/build_ext.py\", line 467, in build_extensions\r\n",
      "    self._build_extensions_serial()\r\n",
      "  File \"/opt/conda/lib/python3.10/site-packages/setuptools/_distutils/command/build_ext.py\", line 493, in _build_extensions_serial\r\n",
      "    self.build_extension(ext)\r\n",
      "  File \"/opt/conda/lib/python3.10/site-packages/Cython/Distutils/build_ext.py\", line 122, in build_extension\r\n",
      "    new_ext = cythonize(\r\n",
      "  File \"/opt/conda/lib/python3.10/site-packages/Cython/Build/Dependencies.py\", line 1134, in cythonize\r\n",
      "    cythonize_one(*args)\r\n",
      "  File \"/opt/conda/lib/python3.10/site-packages/Cython/Build/Dependencies.py\", line 1301, in cythonize_one\r\n",
      "    raise CompileError(None, pyx_file)\r\n",
      "Cython.Compiler.Errors.CompileError: SLIM_BPR_Cython_Epoch.pyx\r\n",
      "Traceback (most recent call last):\r\n",
      "  File \"/kaggle/working/Recsys_Challenge_2023/run_compile_all_cython.py\", line 59, in <module>\r\n",
      "    run_compile_subprocess(file_path, [file_name])\r\n",
      "  File \"/kaggle/working/Recsys_Challenge_2023/CythonCompiler/run_compile_subprocess.py\", line 51, in run_compile_subprocess\r\n",
      "    raise exc\r\n",
      "  File \"/kaggle/working/Recsys_Challenge_2023/CythonCompiler/run_compile_subprocess.py\", line 32, in run_compile_subprocess\r\n",
      "    output = subprocess.check_output(' '.join(command),\r\n",
      "  File \"/opt/conda/lib/python3.10/subprocess.py\", line 421, in check_output\r\n",
      "    return run(*popenargs, stdout=PIPE, timeout=timeout, check=True,\r\n",
      "  File \"/opt/conda/lib/python3.10/subprocess.py\", line 526, in run\r\n",
      "    raise CalledProcessError(retcode, process.args,\r\n",
      "subprocess.CalledProcessError: Command '/opt/conda/bin/python /kaggle/working/Recsys_Challenge_2023/CythonCompiler/compile_script.py SLIM_BPR_Cython_Epoch.pyx build_ext --inplace' returned non-zero exit status 1.\r\n",
      "Compiling [6/10]: SLIM_BPR_Cython_Epoch.pyx... FAIL: Command '/opt/conda/bin/python /kaggle/working/Recsys_Challenge_2023/CythonCompiler/compile_script.py SLIM_BPR_Cython_Epoch.pyx build_ext --inplace' returned non-zero exit status 1.\r\n",
      "\r\n",
      "Compiling [7/10]: CFW_D_Similarity_Cython_SGD.pyx... \r\n",
      "In file included from \u001b[01m\u001b[K/opt/conda/lib/python3.10/site-packages/numpy/core/include/numpy/ndarraytypes.h:1940\u001b[m\u001b[K,\r\n",
      "                 from \u001b[01m\u001b[K/opt/conda/lib/python3.10/site-packages/numpy/core/include/numpy/ndarrayobject.h:12\u001b[m\u001b[K,\r\n",
      "                 from \u001b[01m\u001b[K/opt/conda/lib/python3.10/site-packages/numpy/core/include/numpy/arrayobject.h:5\u001b[m\u001b[K,\r\n",
      "                 from \u001b[01m\u001b[KCFW_D_Similarity_Cython_SGD.c:1109\u001b[m\u001b[K:\r\n",
      "\u001b[01m\u001b[K/opt/conda/lib/python3.10/site-packages/numpy/core/include/numpy/npy_1_7_deprecated_api.h:17:2:\u001b[m\u001b[K \u001b[01;35m\u001b[Kwarning: \u001b[m\u001b[K#warning \"Using deprecated NumPy API, disable it with \" \"#define NPY_NO_DEPRECATED_API NPY_1_7_API_VERSION\" [\u001b[01;35m\u001b[K-Wcpp\u001b[m\u001b[K]\r\n",
      "   17 | #\u001b[01;35m\u001b[Kwarning\u001b[m\u001b[K \"Using deprecated NumPy API, disable it with \" \\\r\n",
      "      |  \u001b[01;35m\u001b[K^~~~~~~\u001b[m\u001b[K\r\n",
      "\u001b[01m\u001b[KCFW_D_Similarity_Cython_SGD.c:\u001b[m\u001b[K In function ‘\u001b[01m\u001b[K__pyx_pf_27CFW_D_Similarity_Cython_SGD_27CFW_D_Similarity_Cython_SGD_6fit\u001b[m\u001b[K’:\r\n",
      "\u001b[01m\u001b[KCFW_D_Similarity_Cython_SGD.c:22766:55:\u001b[m\u001b[K \u001b[01;35m\u001b[Kwarning: \u001b[m\u001b[K‘\u001b[01m\u001b[K__pyx_v_sample_num\u001b[m\u001b[K’ may be used uninitialized in this function [\u001b[01;35m\u001b[K-Wmaybe-uninitialized\u001b[m\u001b[K]\r\n",
      "22766 |   __pyx_t_3 = PyFloat_FromDouble((__pyx_v_cum_loss / \u001b[01;35m\u001b[K((double)__pyx_v_sample_num)\u001b[m\u001b[K)); if (unlikely(!__pyx_t_3)) __PYX_ERR(0, 290, __pyx_L1_error)\r\n",
      "      |                                                      \u001b[01;35m\u001b[K~^~~~~~~~~~~~~~~~~~~~~~~~~~~\u001b[m\u001b[K\r\n",
      "/opt/conda/lib/python3.10/site-packages/Cython/Compiler/Main.py:381: FutureWarning: Cython directive 'language_level' not set, using '3str' for now (Py3). This has changed from earlier releases! File: /kaggle/working/Recsys_Challenge_2023/Recommenders/FeatureWeighting/Cython/CFW_D_Similarity_Cython_SGD.pyx\r\n",
      "  tree = Parsing.p_module(s, pxd, full_module_name)\r\n",
      "Compiling [7/10]: CFW_D_Similarity_Cython_SGD.pyx... PASS\r\n",
      "\r\n",
      "Compiling [8/10]: CFW_DVV_Similarity_Cython_SGD.pyx... \r\n",
      "In file included from \u001b[01m\u001b[K/opt/conda/lib/python3.10/site-packages/numpy/core/include/numpy/ndarraytypes.h:1940\u001b[m\u001b[K,\r\n",
      "                 from \u001b[01m\u001b[K/opt/conda/lib/python3.10/site-packages/numpy/core/include/numpy/ndarrayobject.h:12\u001b[m\u001b[K,\r\n",
      "                 from \u001b[01m\u001b[K/opt/conda/lib/python3.10/site-packages/numpy/core/include/numpy/arrayobject.h:5\u001b[m\u001b[K,\r\n",
      "                 from \u001b[01m\u001b[KCFW_DVV_Similarity_Cython_SGD.c:1109\u001b[m\u001b[K:\r\n",
      "\u001b[01m\u001b[K/opt/conda/lib/python3.10/site-packages/numpy/core/include/numpy/npy_1_7_deprecated_api.h:17:2:\u001b[m\u001b[K \u001b[01;35m\u001b[Kwarning: \u001b[m\u001b[K#warning \"Using deprecated NumPy API, disable it with \" \"#define NPY_NO_DEPRECATED_API NPY_1_7_API_VERSION\" [\u001b[01;35m\u001b[K-Wcpp\u001b[m\u001b[K]\r\n",
      "   17 | #\u001b[01;35m\u001b[Kwarning\u001b[m\u001b[K \"Using deprecated NumPy API, disable it with \" \\\r\n",
      "      |  \u001b[01;35m\u001b[K^~~~~~~\u001b[m\u001b[K\r\n",
      "/opt/conda/lib/python3.10/site-packages/Cython/Compiler/Main.py:381: FutureWarning: Cython directive 'language_level' not set, using '3str' for now (Py3). This has changed from earlier releases! File: /kaggle/working/Recsys_Challenge_2023/Recommenders/FeatureWeighting/Cython/CFW_DVV_Similarity_Cython_SGD.pyx\r\n",
      "  tree = Parsing.p_module(s, pxd, full_module_name)\r\n",
      "Compiling [8/10]: CFW_DVV_Similarity_Cython_SGD.pyx... PASS\r\n",
      "\r\n",
      "Compiling [9/10]: HP3_Similarity_Cython_SGD.pyx... \r\n",
      "warning: HP3_Similarity_Cython_SGD.pyx:113:40: Index should be typed for more efficient access\r\n",
      "In file included from \u001b[01m\u001b[K/opt/conda/lib/python3.10/site-packages/numpy/core/include/numpy/ndarraytypes.h:1940\u001b[m\u001b[K,\r\n",
      "                 from \u001b[01m\u001b[K/opt/conda/lib/python3.10/site-packages/numpy/core/include/numpy/ndarrayobject.h:12\u001b[m\u001b[K,\r\n",
      "                 from \u001b[01m\u001b[K/opt/conda/lib/python3.10/site-packages/numpy/core/include/numpy/arrayobject.h:5\u001b[m\u001b[K,\r\n",
      "                 from \u001b[01m\u001b[KHP3_Similarity_Cython_SGD.c:1109\u001b[m\u001b[K:\r\n",
      "\u001b[01m\u001b[K/opt/conda/lib/python3.10/site-packages/numpy/core/include/numpy/npy_1_7_deprecated_api.h:17:2:\u001b[m\u001b[K \u001b[01;35m\u001b[Kwarning: \u001b[m\u001b[K#warning \"Using deprecated NumPy API, disable it with \" \"#define NPY_NO_DEPRECATED_API NPY_1_7_API_VERSION\" [\u001b[01;35m\u001b[K-Wcpp\u001b[m\u001b[K]\r\n",
      "   17 | #\u001b[01;35m\u001b[Kwarning\u001b[m\u001b[K \"Using deprecated NumPy API, disable it with \" \\\r\n",
      "      |  \u001b[01;35m\u001b[K^~~~~~~\u001b[m\u001b[K\r\n",
      "\u001b[01m\u001b[KHP3_Similarity_Cython_SGD.c:\u001b[m\u001b[K In function ‘\u001b[01m\u001b[K__pyx_pf_25HP3_Similarity_Cython_SGD_25HP3_Similarity_Cython_SGD_4fit\u001b[m\u001b[K’:\r\n",
      "\u001b[01m\u001b[KHP3_Similarity_Cython_SGD.c:23035:55:\u001b[m\u001b[K \u001b[01;35m\u001b[Kwarning: \u001b[m\u001b[K‘\u001b[01m\u001b[K__pyx_v_sample_num\u001b[m\u001b[K’ may be used uninitialized in this function [\u001b[01;35m\u001b[K-Wmaybe-uninitialized\u001b[m\u001b[K]\r\n",
      "23035 |   __pyx_t_1 = PyFloat_FromDouble((__pyx_v_cum_loss / \u001b[01;35m\u001b[K((double)__pyx_v_sample_num)\u001b[m\u001b[K)); if (unlikely(!__pyx_t_1)) __PYX_ERR(0, 291, __pyx_L1_error)\r\n",
      "      |                                                      \u001b[01;35m\u001b[K~^~~~~~~~~~~~~~~~~~~~~~~~~~~\u001b[m\u001b[K\r\n",
      "/opt/conda/lib/python3.10/site-packages/Cython/Compiler/Main.py:381: FutureWarning: Cython directive 'language_level' not set, using '3str' for now (Py3). This has changed from earlier releases! File: /kaggle/working/Recsys_Challenge_2023/Recommenders/FeatureWeighting/Cython/HP3_Similarity_Cython_SGD.pyx\r\n",
      "  tree = Parsing.p_module(s, pxd, full_module_name)\r\n",
      "warning: HP3_Similarity_Cython_SGD.pyx:113:40: Index should be typed for more efficient access\r\n",
      "Compiling [9/10]: HP3_Similarity_Cython_SGD.pyx... PASS\r\n",
      "\r\n",
      "Compiling [10/10]: FBSM_Rating_Cython_SGD.pyx... \r\n",
      "In file included from \u001b[01m\u001b[K/opt/conda/lib/python3.10/site-packages/numpy/core/include/numpy/ndarraytypes.h:1940\u001b[m\u001b[K,\r\n",
      "                 from \u001b[01m\u001b[K/opt/conda/lib/python3.10/site-packages/numpy/core/include/numpy/ndarrayobject.h:12\u001b[m\u001b[K,\r\n",
      "                 from \u001b[01m\u001b[K/opt/conda/lib/python3.10/site-packages/numpy/core/include/numpy/arrayobject.h:5\u001b[m\u001b[K,\r\n",
      "                 from \u001b[01m\u001b[KFBSM_Rating_Cython_SGD.c:1109\u001b[m\u001b[K:\r\n",
      "\u001b[01m\u001b[K/opt/conda/lib/python3.10/site-packages/numpy/core/include/numpy/npy_1_7_deprecated_api.h:17:2:\u001b[m\u001b[K \u001b[01;35m\u001b[Kwarning: \u001b[m\u001b[K#warning \"Using deprecated NumPy API, disable it with \" \"#define NPY_NO_DEPRECATED_API NPY_1_7_API_VERSION\" [\u001b[01;35m\u001b[K-Wcpp\u001b[m\u001b[K]\r\n",
      "   17 | #\u001b[01;35m\u001b[Kwarning\u001b[m\u001b[K \"Using deprecated NumPy API, disable it with \" \\\r\n",
      "      |  \u001b[01;35m\u001b[K^~~~~~~\u001b[m\u001b[K\r\n",
      "\u001b[01m\u001b[KFBSM_Rating_Cython_SGD.c:\u001b[m\u001b[K In function ‘\u001b[01m\u001b[K__pyx_pf_22FBSM_Rating_Cython_SGD_22FBSM_Rating_Cython_SGD_2fit\u001b[m\u001b[K’:\r\n",
      "\u001b[01m\u001b[KFBSM_Rating_Cython_SGD.c:26038:55:\u001b[m\u001b[K \u001b[01;35m\u001b[Kwarning: \u001b[m\u001b[K‘\u001b[01m\u001b[K__pyx_v_num_sample\u001b[m\u001b[K’ may be used uninitialized in this function [\u001b[01;35m\u001b[K-Wmaybe-uninitialized\u001b[m\u001b[K]\r\n",
      "26038 |   __pyx_t_5 = PyFloat_FromDouble((__pyx_v_cum_loss / \u001b[01;35m\u001b[K((double)__pyx_v_num_sample)\u001b[m\u001b[K)); if (unlikely(!__pyx_t_5)) __PYX_ERR(0, 551, __pyx_L1_error)\r\n",
      "      |                                                      \u001b[01;35m\u001b[K~^~~~~~~~~~~~~~~~~~~~~~~~~~~\u001b[m\u001b[K\r\n",
      "/opt/conda/lib/python3.10/site-packages/Cython/Compiler/Main.py:381: FutureWarning: Cython directive 'language_level' not set, using '3str' for now (Py3). This has changed from earlier releases! File: /kaggle/working/Recsys_Challenge_2023/Recommenders/FeatureWeighting/Cython/FBSM_Rating_Cython_SGD.pyx\r\n",
      "  tree = Parsing.p_module(s, pxd, full_module_name)\r\n",
      "Compiling [10/10]: FBSM_Rating_Cython_SGD.pyx... PASS\r\n",
      "\r\n",
      "run_compile_all_cython: Compilation finished. FAILS 2/10.\r\n",
      "Compilation log can be found here: './result_experiments/run_compile_all_cython.txt'\r\n"
     ]
    }
   ],
   "source": [
    "! cd /kaggle/working/Recsys_Challenge_2023 && python run_compile_all_cython.py"
   ]
  },
  {
   "cell_type": "code",
   "execution_count": 4,
   "id": "154502c2",
   "metadata": {
    "execution": {
     "iopub.execute_input": "2023-12-01T21:01:12.909025Z",
     "iopub.status.busy": "2023-12-01T21:01:12.908569Z",
     "iopub.status.idle": "2023-12-01T21:01:16.757246Z",
     "shell.execute_reply": "2023-12-01T21:01:16.756160Z"
    },
    "papermill": {
     "duration": 3.873756,
     "end_time": "2023-12-01T21:01:16.760254",
     "exception": false,
     "start_time": "2023-12-01T21:01:12.886498",
     "status": "completed"
    },
    "tags": []
   },
   "outputs": [
    {
     "name": "stdout",
     "output_type": "stream",
     "text": [
      "/kaggle/input/recommender-system-2023-challenge-polimi/data_train.csv\n",
      "/kaggle/input/recommender-system-2023-challenge-polimi/data_target_users_test.csv\n",
      "/kaggle/input/training-tuned-models/__results__.html\n",
      "/kaggle/input/training-tuned-models/__notebook__.ipynb\n",
      "/kaggle/input/training-tuned-models/ials_xgboost_train_validation.zip\n",
      "/kaggle/input/training-tuned-models/ials_train_validation.zip\n",
      "/kaggle/input/training-tuned-models/__output__.json\n",
      "/kaggle/input/training-tuned-models/ials_all.zip\n",
      "/kaggle/input/training-tuned-models/custom.css\n",
      "/kaggle/input/training-tuned-models/Recsys_Challenge_2023/run_all_algorithms.py\n",
      "/kaggle/input/training-tuned-models/Recsys_Challenge_2023/cython_example_FunkSVD.py\n",
      "/kaggle/input/training-tuned-models/Recsys_Challenge_2023/LICENSE\n",
      "/kaggle/input/training-tuned-models/Recsys_Challenge_2023/.gitignore\n",
      "/kaggle/input/training-tuned-models/Recsys_Challenge_2023/rp3-tuning.ipynb\n",
      "/kaggle/input/training-tuned-models/Recsys_Challenge_2023/README.md\n",
      "/kaggle/input/training-tuned-models/Recsys_Challenge_2023/run_hyperparameter_search.py\n",
      "/kaggle/input/training-tuned-models/Recsys_Challenge_2023/cython_example_SLIM_MSE.py\n",
      "/kaggle/input/training-tuned-models/Recsys_Challenge_2023/requirements.txt\n",
      "/kaggle/input/training-tuned-models/Recsys_Challenge_2023/run_test_recommenders.py\n",
      "/kaggle/input/training-tuned-models/Recsys_Challenge_2023/run_compile_all_cython.py\n",
      "/kaggle/input/training-tuned-models/Recsys_Challenge_2023/hybrid.ipynb\n",
      "/kaggle/input/training-tuned-models/Recsys_Challenge_2023/Data_manager/DataSplitter_Holdout.py\n",
      "/kaggle/input/training-tuned-models/Recsys_Challenge_2023/Data_manager/DataSplitter.py\n",
      "/kaggle/input/training-tuned-models/Recsys_Challenge_2023/Data_manager/DatasetMapperManager.py\n",
      "/kaggle/input/training-tuned-models/Recsys_Challenge_2023/Data_manager/data_consistency_check.py\n",
      "/kaggle/input/training-tuned-models/Recsys_Challenge_2023/Data_manager/README.md\n",
      "/kaggle/input/training-tuned-models/Recsys_Challenge_2023/Data_manager/TagPreprocessing.py\n",
      "/kaggle/input/training-tuned-models/Recsys_Challenge_2023/Data_manager/DataReader.py\n",
      "/kaggle/input/training-tuned-models/Recsys_Challenge_2023/Data_manager/DataReader_utils.py\n",
      "/kaggle/input/training-tuned-models/Recsys_Challenge_2023/Data_manager/IncrementalSparseMatrix.py\n",
      "/kaggle/input/training-tuned-models/Recsys_Challenge_2023/Data_manager/run_clean_split_data_files.py\n",
      "/kaggle/input/training-tuned-models/Recsys_Challenge_2023/Data_manager/Dataset.py\n",
      "/kaggle/input/training-tuned-models/Recsys_Challenge_2023/Data_manager/DataSplitter_leave_k_out.py\n",
      "/kaggle/input/training-tuned-models/Recsys_Challenge_2023/Data_manager/CrossValidationSplitter.py\n",
      "/kaggle/input/training-tuned-models/Recsys_Challenge_2023/Data_manager/__init__.py\n",
      "/kaggle/input/training-tuned-models/Recsys_Challenge_2023/Data_manager/__pycache__/data_consistency_check.cpython-310.pyc\n",
      "/kaggle/input/training-tuned-models/Recsys_Challenge_2023/Data_manager/__pycache__/DatasetMapperManager.cpython-310.pyc\n",
      "/kaggle/input/training-tuned-models/Recsys_Challenge_2023/Data_manager/__pycache__/IncrementalSparseMatrix.cpython-310.pyc\n",
      "/kaggle/input/training-tuned-models/Recsys_Challenge_2023/Data_manager/__pycache__/DataReader.cpython-310.pyc\n",
      "/kaggle/input/training-tuned-models/Recsys_Challenge_2023/Data_manager/__pycache__/DataReader_utils.cpython-310.pyc\n",
      "/kaggle/input/training-tuned-models/Recsys_Challenge_2023/Data_manager/__pycache__/__init__.cpython-310.pyc\n",
      "/kaggle/input/training-tuned-models/Recsys_Challenge_2023/Data_manager/__pycache__/Dataset.cpython-310.pyc\n",
      "/kaggle/input/training-tuned-models/Recsys_Challenge_2023/Data_manager/split_functions/split_train_validation_leave_k_out.py\n",
      "/kaggle/input/training-tuned-models/Recsys_Challenge_2023/Data_manager/split_functions/split_train_validation_cold_items.py\n",
      "/kaggle/input/training-tuned-models/Recsys_Challenge_2023/Data_manager/split_functions/split_train_validation_random_holdout.py\n",
      "/kaggle/input/training-tuned-models/Recsys_Challenge_2023/Data_manager/split_functions/__pycache__/split_train_validation_random_holdout.cpython-310.pyc\n",
      "/kaggle/input/training-tuned-models/Recsys_Challenge_2023/Data_manager/Movielens/Movielens10MReader.py\n",
      "/kaggle/input/training-tuned-models/Recsys_Challenge_2023/Data_manager/Movielens/Movielens1MReader.py\n",
      "/kaggle/input/training-tuned-models/Recsys_Challenge_2023/Data_manager/Movielens/Movielens100KReader.py\n",
      "/kaggle/input/training-tuned-models/Recsys_Challenge_2023/Data_manager/Movielens/MovielensHetrec2011Reader.py\n",
      "/kaggle/input/training-tuned-models/Recsys_Challenge_2023/Data_manager/Movielens/_utils_movielens_parser.py\n",
      "/kaggle/input/training-tuned-models/Recsys_Challenge_2023/Data_manager/Movielens/Movielens20MReader.py\n",
      "/kaggle/input/training-tuned-models/Recsys_Challenge_2023/Data_manager/Movielens/__pycache__/Movielens10MReader.cpython-310.pyc\n",
      "/kaggle/input/training-tuned-models/Recsys_Challenge_2023/Data_manager/Movielens/__pycache__/Movielens1MReader.cpython-310.pyc\n",
      "/kaggle/input/training-tuned-models/Recsys_Challenge_2023/Data_manager/Movielens/__pycache__/_utils_movielens_parser.cpython-310.pyc\n",
      "/kaggle/input/training-tuned-models/Recsys_Challenge_2023/Data_manager/Movielens/__pycache__/Movielens20MReader.cpython-310.pyc\n",
      "/kaggle/input/training-tuned-models/Recsys_Challenge_2023/Data_manager/Movielens/__pycache__/Movielens100KReader.cpython-310.pyc\n",
      "/kaggle/input/training-tuned-models/Recsys_Challenge_2023/Data_manager/Movielens/__pycache__/MovielensHetrec2011Reader.cpython-310.pyc\n",
      "/kaggle/input/training-tuned-models/Recsys_Challenge_2023/Utils/seconds_to_biggest_unit.py\n",
      "/kaggle/input/training-tuned-models/Recsys_Challenge_2023/Utils/PyTorch/utils.py\n",
      "/kaggle/input/training-tuned-models/Recsys_Challenge_2023/Utils/PyTorch/DataSampler.py\n",
      "/kaggle/input/training-tuned-models/Recsys_Challenge_2023/Utils/PyTorch/DataIterator.py\n",
      "/kaggle/input/training-tuned-models/Recsys_Challenge_2023/Utils/PyTorch/Cython/DataIterator.pyx\n",
      "/kaggle/input/training-tuned-models/Recsys_Challenge_2023/Utils/__pycache__/seconds_to_biggest_unit.cpython-310.pyc\n",
      "/kaggle/input/training-tuned-models/Recsys_Challenge_2023/Notebooks_utils/Cosine_Similarity_Cython_SLOW.cpython-36m-x86_64-linux-gnu.so\n",
      "/kaggle/input/training-tuned-models/Recsys_Challenge_2023/Notebooks_utils/Cosine_Similarity_Cython_SLOW.c\n",
      "/kaggle/input/training-tuned-models/Recsys_Challenge_2023/Notebooks_utils/compileCython.py\n",
      "/kaggle/input/training-tuned-models/Recsys_Challenge_2023/Notebooks_utils/Cosine_Similarity_Cython.pyx\n",
      "/kaggle/input/training-tuned-models/Recsys_Challenge_2023/Notebooks_utils/Cosine_Similarity_Cython.html\n",
      "/kaggle/input/training-tuned-models/Recsys_Challenge_2023/Notebooks_utils/Compute_Similarity_Python.py\n",
      "/kaggle/input/training-tuned-models/Recsys_Challenge_2023/Notebooks_utils/Cosine_Similarity_Cython.c\n",
      "/kaggle/input/training-tuned-models/Recsys_Challenge_2023/Notebooks_utils/Cosine_Similarity_Cython.cpython-36m-x86_64-linux-gnu.so\n",
      "/kaggle/input/training-tuned-models/Recsys_Challenge_2023/Notebooks_utils/Cosine_Similarity_Cython_SLOW.pyx\n",
      "/kaggle/input/training-tuned-models/Recsys_Challenge_2023/Notebooks_utils/Cosine_Similarity_Cython_SLOW.html\n",
      "/kaggle/input/training-tuned-models/Recsys_Challenge_2023/CythonCompiler/compile_script.py\n",
      "/kaggle/input/training-tuned-models/Recsys_Challenge_2023/CythonCompiler/run_compile_subprocess.py\n",
      "/kaggle/input/training-tuned-models/Recsys_Challenge_2023/CythonCompiler/__pycache__/run_compile_subprocess.cpython-310.pyc\n",
      "/kaggle/input/training-tuned-models/Recsys_Challenge_2023/Recommenders/IR_feature_weighting.py\n",
      "/kaggle/input/training-tuned-models/Recsys_Challenge_2023/Recommenders/Incremental_Training_Early_Stopping.py\n",
      "/kaggle/input/training-tuned-models/Recsys_Challenge_2023/Recommenders/BaseMatrixFactorizationRecommender.py\n",
      "/kaggle/input/training-tuned-models/Recsys_Challenge_2023/Recommenders/BaseRecommender.py\n",
      "/kaggle/input/training-tuned-models/Recsys_Challenge_2023/Recommenders/BaseCBFRecommender.py\n",
      "/kaggle/input/training-tuned-models/Recsys_Challenge_2023/Recommenders/Recommender_import_list.py\n",
      "/kaggle/input/training-tuned-models/Recsys_Challenge_2023/Recommenders/BaseTempFolder.py\n",
      "/kaggle/input/training-tuned-models/Recsys_Challenge_2023/Recommenders/Recommender_utils.py\n",
      "/kaggle/input/training-tuned-models/Recsys_Challenge_2023/Recommenders/NonPersonalizedRecommender.py\n",
      "/kaggle/input/training-tuned-models/Recsys_Challenge_2023/Recommenders/BaseSimilarityMatrixRecommender.py\n",
      "/kaggle/input/training-tuned-models/Recsys_Challenge_2023/Recommenders/DataIO.py\n",
      "/kaggle/input/training-tuned-models/Recsys_Challenge_2023/Recommenders/PredefinedListRecommender.py\n",
      "/kaggle/input/training-tuned-models/Recsys_Challenge_2023/Recommenders/Similarity/Compute_similarity_euclidean_test.py\n",
      "/kaggle/input/training-tuned-models/Recsys_Challenge_2023/Recommenders/Similarity/Compute_Similarity_Euclidean.py\n",
      "/kaggle/input/training-tuned-models/Recsys_Challenge_2023/Recommenders/Similarity/Compute_Similarity_Python.py\n",
      "/kaggle/input/training-tuned-models/Recsys_Challenge_2023/Recommenders/Similarity/Compute_Similarity.py\n",
      "/kaggle/input/training-tuned-models/Recsys_Challenge_2023/Recommenders/Similarity/Compute_similarity_test.py\n",
      "/kaggle/input/training-tuned-models/Recsys_Challenge_2023/Recommenders/Similarity/__pycache__/Compute_Similarity_Python.cpython-310.pyc\n",
      "/kaggle/input/training-tuned-models/Recsys_Challenge_2023/Recommenders/Similarity/__pycache__/Compute_Similarity.cpython-310.pyc\n",
      "/kaggle/input/training-tuned-models/Recsys_Challenge_2023/Recommenders/Similarity/__pycache__/Compute_Similarity_Euclidean.cpython-310.pyc\n",
      "/kaggle/input/training-tuned-models/Recsys_Challenge_2023/Recommenders/Similarity/Cython/Compute_Similarity_Cython.cpython-310-x86_64-linux-gnu.so\n",
      "/kaggle/input/training-tuned-models/Recsys_Challenge_2023/Recommenders/Similarity/Cython/Compute_Similarity_Cython.pyx\n",
      "/kaggle/input/training-tuned-models/Recsys_Challenge_2023/Recommenders/Similarity/Cython/Compute_Similarity_Cython.html\n",
      "/kaggle/input/training-tuned-models/Recsys_Challenge_2023/Recommenders/Similarity/Cython/Compute_Similarity_Cython.c\n",
      "/kaggle/input/training-tuned-models/Recsys_Challenge_2023/Recommenders/EASE_R/EASE_R_Recommender.py\n",
      "/kaggle/input/training-tuned-models/Recsys_Challenge_2023/Recommenders/EASE_R/__pycache__/EASE_R_Recommender.cpython-310.pyc\n",
      "/kaggle/input/training-tuned-models/Recsys_Challenge_2023/Recommenders/SLIM/SLIMElasticNetRecommender.py\n",
      "/kaggle/input/training-tuned-models/Recsys_Challenge_2023/Recommenders/SLIM/SLIM_BPR_Python.py\n",
      "/kaggle/input/training-tuned-models/Recsys_Challenge_2023/Recommenders/SLIM/__pycache__/SLIMElasticNetRecommender.cpython-310.pyc\n",
      "/kaggle/input/training-tuned-models/Recsys_Challenge_2023/Recommenders/SLIM/__pycache__/SLIM_BPR_Python.cpython-310.pyc\n",
      "/kaggle/input/training-tuned-models/Recsys_Challenge_2023/Recommenders/SLIM/Cython/Triangular_Matrix.cpython-310-x86_64-linux-gnu.so\n",
      "/kaggle/input/training-tuned-models/Recsys_Challenge_2023/Recommenders/SLIM/Cython/Triangular_Matrix.c\n",
      "/kaggle/input/training-tuned-models/Recsys_Challenge_2023/Recommenders/SLIM/Cython/SLIM_BPR_Cython.py\n",
      "/kaggle/input/training-tuned-models/Recsys_Challenge_2023/Recommenders/SLIM/Cython/Sparse_Matrix_Tree_CSR.pyx\n",
      "/kaggle/input/training-tuned-models/Recsys_Challenge_2023/Recommenders/SLIM/Cython/Triangular_Matrix.pyx\n",
      "/kaggle/input/training-tuned-models/Recsys_Challenge_2023/Recommenders/SLIM/Cython/SLIM_BPR_Cython_Epoch.pyx\n",
      "/kaggle/input/training-tuned-models/Recsys_Challenge_2023/Recommenders/SLIM/Cython/Triangular_Matrix.html\n",
      "/kaggle/input/training-tuned-models/Recsys_Challenge_2023/Recommenders/GraphBased/RP3betaRecommender.py\n",
      "/kaggle/input/training-tuned-models/Recsys_Challenge_2023/Recommenders/GraphBased/P3alphaRecommender.py\n",
      "/kaggle/input/training-tuned-models/Recsys_Challenge_2023/Recommenders/GraphBased/__pycache__/RP3betaRecommender.cpython-310.pyc\n",
      "/kaggle/input/training-tuned-models/Recsys_Challenge_2023/Recommenders/GraphBased/__pycache__/P3alphaRecommender.cpython-310.pyc\n",
      "/kaggle/input/training-tuned-models/Recsys_Challenge_2023/Recommenders/FactorizationMachines/LightFMRecommender.py\n",
      "/kaggle/input/training-tuned-models/Recsys_Challenge_2023/Recommenders/__pycache__/BaseRecommender.cpython-310.pyc\n",
      "/kaggle/input/training-tuned-models/Recsys_Challenge_2023/Recommenders/__pycache__/BaseSimilarityMatrixRecommender.cpython-310.pyc\n",
      "/kaggle/input/training-tuned-models/Recsys_Challenge_2023/Recommenders/__pycache__/BaseMatrixFactorizationRecommender.cpython-310.pyc\n",
      "/kaggle/input/training-tuned-models/Recsys_Challenge_2023/Recommenders/__pycache__/Incremental_Training_Early_Stopping.cpython-310.pyc\n",
      "/kaggle/input/training-tuned-models/Recsys_Challenge_2023/Recommenders/__pycache__/IR_feature_weighting.cpython-310.pyc\n",
      "/kaggle/input/training-tuned-models/Recsys_Challenge_2023/Recommenders/__pycache__/DataIO.cpython-310.pyc\n",
      "/kaggle/input/training-tuned-models/Recsys_Challenge_2023/Recommenders/__pycache__/BaseTempFolder.cpython-310.pyc\n",
      "/kaggle/input/training-tuned-models/Recsys_Challenge_2023/Recommenders/__pycache__/Recommender_utils.cpython-310.pyc\n",
      "/kaggle/input/training-tuned-models/Recsys_Challenge_2023/Recommenders/KNN/ItemKNNCustomSimilarityRecommender.py\n",
      "/kaggle/input/training-tuned-models/Recsys_Challenge_2023/Recommenders/KNN/ItemKNNCBFRecommender.py\n",
      "/kaggle/input/training-tuned-models/Recsys_Challenge_2023/Recommenders/KNN/ItemKNNSimilarityHybridRecommender.py\n",
      "/kaggle/input/training-tuned-models/Recsys_Challenge_2023/Recommenders/KNN/UserKNNCBFRecommender.py\n",
      "/kaggle/input/training-tuned-models/Recsys_Challenge_2023/Recommenders/KNN/ItemKNNCFRecommender.py\n",
      "/kaggle/input/training-tuned-models/Recsys_Challenge_2023/Recommenders/KNN/UserKNN_CFCBF_Hybrid_Recommender.py\n",
      "/kaggle/input/training-tuned-models/Recsys_Challenge_2023/Recommenders/KNN/ItemKNN_CFCBF_Hybrid_Recommender.py\n",
      "/kaggle/input/training-tuned-models/Recsys_Challenge_2023/Recommenders/KNN/UserKNNCFRecommender.py\n",
      "/kaggle/input/training-tuned-models/Recsys_Challenge_2023/Recommenders/KNN/__pycache__/UserKNNCFRecommender.cpython-310.pyc\n",
      "/kaggle/input/training-tuned-models/Recsys_Challenge_2023/Recommenders/KNN/__pycache__/ItemKNNCFRecommender.cpython-310.pyc\n",
      "/kaggle/input/training-tuned-models/Recsys_Challenge_2023/Recommenders/Neural/architecture_utils.py\n",
      "/kaggle/input/training-tuned-models/Recsys_Challenge_2023/Recommenders/Neural/MultVAERecommender.py\n",
      "/kaggle/input/training-tuned-models/Recsys_Challenge_2023/Recommenders/Neural/MultVAE_PyTorch_Recommender.py\n",
      "/kaggle/input/training-tuned-models/Recsys_Challenge_2023/Recommenders/Neural/__pycache__/MultVAERecommender.cpython-310.pyc\n",
      "/kaggle/input/training-tuned-models/Recsys_Challenge_2023/Recommenders/Neural/__pycache__/architecture_utils.cpython-310.pyc\n",
      "/kaggle/input/training-tuned-models/Recsys_Challenge_2023/Recommenders/Hybrid/LinearCombinationRecommender.py\n",
      "/kaggle/input/training-tuned-models/Recsys_Challenge_2023/Recommenders/Hybrid/RoundRobinListCombinationRecommender.py\n",
      "/kaggle/input/training-tuned-models/Recsys_Challenge_2023/Recommenders/FeatureWeighting/CFW_D_Similarity_Linalg.py\n",
      "/kaggle/input/training-tuned-models/Recsys_Challenge_2023/Recommenders/FeatureWeighting/Cython/CFW_D_Similarity_Cython_SGD.cpython-310-x86_64-linux-gnu.so\n",
      "/kaggle/input/training-tuned-models/Recsys_Challenge_2023/Recommenders/FeatureWeighting/Cython/HP3_Similarity_Cython_SGD.c\n",
      "/kaggle/input/training-tuned-models/Recsys_Challenge_2023/Recommenders/FeatureWeighting/Cython/FBSM_Rating_Cython_SGD.c\n",
      "/kaggle/input/training-tuned-models/Recsys_Challenge_2023/Recommenders/FeatureWeighting/Cython/CFW_DVV_Similarity_Cython_SGD.pyx\n",
      "/kaggle/input/training-tuned-models/Recsys_Challenge_2023/Recommenders/FeatureWeighting/Cython/FBSM_Rating_Cython_SGD.cpython-310-x86_64-linux-gnu.so\n",
      "/kaggle/input/training-tuned-models/Recsys_Challenge_2023/Recommenders/FeatureWeighting/Cython/CFW_D_Similarity_Cython_SGD.html\n",
      "/kaggle/input/training-tuned-models/Recsys_Challenge_2023/Recommenders/FeatureWeighting/Cython/FBSM_Rating_Cython.py\n",
      "/kaggle/input/training-tuned-models/Recsys_Challenge_2023/Recommenders/FeatureWeighting/Cython/CFW_DVV_Similarity_Cython_SGD.html\n",
      "/kaggle/input/training-tuned-models/Recsys_Challenge_2023/Recommenders/FeatureWeighting/Cython/CFW_DVV_Similarity_Cython_SGD.cpython-310-x86_64-linux-gnu.so\n",
      "/kaggle/input/training-tuned-models/Recsys_Challenge_2023/Recommenders/FeatureWeighting/Cython/HP3_Similarity_Cython.py\n",
      "/kaggle/input/training-tuned-models/Recsys_Challenge_2023/Recommenders/FeatureWeighting/Cython/CFW_D_Similarity_Cython_SGD.c\n",
      "/kaggle/input/training-tuned-models/Recsys_Challenge_2023/Recommenders/FeatureWeighting/Cython/CFW_D_Similarity_Cython_SGD.pyx\n",
      "/kaggle/input/training-tuned-models/Recsys_Challenge_2023/Recommenders/FeatureWeighting/Cython/CFW_D_Similarity_Cython.py\n",
      "/kaggle/input/training-tuned-models/Recsys_Challenge_2023/Recommenders/FeatureWeighting/Cython/FBSM_Rating_Cython_SGD.pyx\n",
      "/kaggle/input/training-tuned-models/Recsys_Challenge_2023/Recommenders/FeatureWeighting/Cython/CFW_DVV_Similarity_Cython_SGD.c\n",
      "/kaggle/input/training-tuned-models/Recsys_Challenge_2023/Recommenders/FeatureWeighting/Cython/HP3_Similarity_Cython_SGD.cpython-310-x86_64-linux-gnu.so\n",
      "/kaggle/input/training-tuned-models/Recsys_Challenge_2023/Recommenders/FeatureWeighting/Cython/HP3_Similarity_Cython_SGD.pyx\n",
      "/kaggle/input/training-tuned-models/Recsys_Challenge_2023/Recommenders/FeatureWeighting/Cython/CFW_DVV_Similarity_Cython.py\n",
      "/kaggle/input/training-tuned-models/Recsys_Challenge_2023/Recommenders/FeatureWeighting/Cython/FBSM_Rating_Cython_SGD.html\n",
      "/kaggle/input/training-tuned-models/Recsys_Challenge_2023/Recommenders/FeatureWeighting/Cython/HP3_Similarity_Cython_SGD.html\n",
      "/kaggle/input/training-tuned-models/Recsys_Challenge_2023/Recommenders/MatrixFactorization/IALSRecommender.py\n",
      "/kaggle/input/training-tuned-models/Recsys_Challenge_2023/Recommenders/MatrixFactorization/NMFRecommender.py\n",
      "/kaggle/input/training-tuned-models/Recsys_Challenge_2023/Recommenders/MatrixFactorization/PureSVDRecommender.py\n",
      "/kaggle/input/training-tuned-models/Recsys_Challenge_2023/Recommenders/MatrixFactorization/SVDFeatureRecommender.py\n",
      "/kaggle/input/training-tuned-models/Recsys_Challenge_2023/Recommenders/MatrixFactorization/PyTorch/MF_MSE_PyTorch.py\n",
      "/kaggle/input/training-tuned-models/Recsys_Challenge_2023/Recommenders/MatrixFactorization/PyTorch/MF_MSE_PyTorch_model.py\n",
      "/kaggle/input/training-tuned-models/Recsys_Challenge_2023/Recommenders/MatrixFactorization/__pycache__/NMFRecommender.cpython-310.pyc\n",
      "/kaggle/input/training-tuned-models/Recsys_Challenge_2023/Recommenders/MatrixFactorization/__pycache__/PureSVDRecommender.cpython-310.pyc\n",
      "/kaggle/input/training-tuned-models/Recsys_Challenge_2023/Recommenders/MatrixFactorization/__pycache__/IALSRecommender.cpython-310.pyc\n",
      "/kaggle/input/training-tuned-models/Recsys_Challenge_2023/Recommenders/MatrixFactorization/Cython/MatrixFactorization_Cython.py\n",
      "/kaggle/input/training-tuned-models/Recsys_Challenge_2023/Recommenders/MatrixFactorization/Cython/MatrixFactorization_Cython_Epoch.cpython-310-x86_64-linux-gnu.so\n",
      "/kaggle/input/training-tuned-models/Recsys_Challenge_2023/Recommenders/MatrixFactorization/Cython/MatrixFactorizationImpressions_Cython_Epoch.cpython-310-x86_64-linux-gnu.so\n",
      "/kaggle/input/training-tuned-models/Recsys_Challenge_2023/Recommenders/MatrixFactorization/Cython/MatrixFactorizationImpressions_Cython.py\n",
      "/kaggle/input/training-tuned-models/Recsys_Challenge_2023/Recommenders/MatrixFactorization/Cython/MatrixFactorization_Cython_Epoch.c\n",
      "/kaggle/input/training-tuned-models/Recsys_Challenge_2023/Recommenders/MatrixFactorization/Cython/MatrixFactorization_Cython_Epoch.html\n",
      "/kaggle/input/training-tuned-models/Recsys_Challenge_2023/Recommenders/MatrixFactorization/Cython/MatrixFactorizationImpressions_Cython_Epoch.pyx\n",
      "/kaggle/input/training-tuned-models/Recsys_Challenge_2023/Recommenders/MatrixFactorization/Cython/MatrixFactorization_Cython_Epoch.pyx\n",
      "/kaggle/input/training-tuned-models/Recsys_Challenge_2023/Recommenders/MatrixFactorization/Cython/MatrixFactorizationImpressions_Cython_Epoch.c\n",
      "/kaggle/input/training-tuned-models/Recsys_Challenge_2023/Recommenders/MatrixFactorization/Cython/MatrixFactorizationImpressions_Cython_Epoch.html\n",
      "/kaggle/input/training-tuned-models/Recsys_Challenge_2023/tuning_results/tuning_hybrid_merging.db\n",
      "/kaggle/input/training-tuned-models/Recsys_Challenge_2023/tuning_results/tuning_hybrid.db\n",
      "/kaggle/input/training-tuned-models/Recsys_Challenge_2023/tuning_results/tuning_mf.db\n",
      "/kaggle/input/training-tuned-models/Recsys_Challenge_2023/tuning_results/tuning_hybrid_precision.db\n",
      "/kaggle/input/training-tuned-models/Recsys_Challenge_2023/tuning_results/best_params_ials_v2.json\n",
      "/kaggle/input/training-tuned-models/Recsys_Challenge_2023/tuning_results/best_params_NMF.json\n",
      "/kaggle/input/training-tuned-models/Recsys_Challenge_2023/tuning_results/best_params_allLinearHyb.json\n",
      "/kaggle/input/training-tuned-models/Recsys_Challenge_2023/tuning_results/best_params_hybrid_merging.json\n",
      "/kaggle/input/training-tuned-models/Recsys_Challenge_2023/tuning_results/best_params_knn_item.json\n",
      "/kaggle/input/training-tuned-models/Recsys_Challenge_2023/tuning_results/better_tuning_EASE_R.db\n",
      "/kaggle/input/training-tuned-models/Recsys_Challenge_2023/tuning_results/tuning_RP3+ItemKNN_Hybrid.db\n",
      "/kaggle/input/training-tuned-models/Recsys_Challenge_2023/tuning_results/best_params_light.json\n",
      "/kaggle/input/training-tuned-models/Recsys_Challenge_2023/tuning_results/tuning_BPR.db\n",
      "/kaggle/input/training-tuned-models/Recsys_Challenge_2023/tuning_results/best_params_EASE_R.json\n",
      "/kaggle/input/training-tuned-models/Recsys_Challenge_2023/tuning_results/best_params_alpha.json\n",
      "/kaggle/input/training-tuned-models/Recsys_Challenge_2023/tuning_results/best_params_hybrid_xgboost.json\n",
      "/kaggle/input/training-tuned-models/Recsys_Challenge_2023/tuning_results/pure_svd_params.json\n",
      "/kaggle/input/training-tuned-models/Recsys_Challenge_2023/tuning_results/pure_svd_trials.csv\n",
      "/kaggle/input/training-tuned-models/Recsys_Challenge_2023/tuning_results/tuning_puresvd.db\n",
      "/kaggle/input/training-tuned-models/Recsys_Challenge_2023/tuning_results/tuning.db\n",
      "/kaggle/input/training-tuned-models/Recsys_Challenge_2023/tuning_results/better_tuning.db\n",
      "/kaggle/input/training-tuned-models/Recsys_Challenge_2023/tuning_results/tuning_hybrid_UserKNN_RP3Hybrid.db\n",
      "/kaggle/input/training-tuned-models/Recsys_Challenge_2023/tuning_results/matrix-factorization-item-puresvd.ipynb\n",
      "/kaggle/input/training-tuned-models/Recsys_Challenge_2023/tuning_results/best_params_hybrid_UserKNN_RP3Hybrid.json\n",
      "/kaggle/input/training-tuned-models/Recsys_Challenge_2023/tuning_results/best_params_RP3+ItemKNN_Hybrid.json\n",
      "/kaggle/input/training-tuned-models/Recsys_Challenge_2023/tuning_results/best_params_Slim_BPR.json\n",
      "/kaggle/input/training-tuned-models/Recsys_Challenge_2023/tuning_results/best_params_hybrid_lr_comb.json\n",
      "/kaggle/input/training-tuned-models/Recsys_Challenge_2023/tuning_results/light.db\n",
      "/kaggle/input/training-tuned-models/Recsys_Challenge_2023/tuning_results/best_params_hybrid.json\n",
      "/kaggle/input/training-tuned-models/Recsys_Challenge_2023/tuning_results/best_params_item_knn_precision.json\n",
      "/kaggle/input/training-tuned-models/Recsys_Challenge_2023/tuning_results/tuning_rp3.db\n",
      "/kaggle/input/training-tuned-models/Recsys_Challenge_2023/tuning_results/tuning_hybrid_xgboost.db\n",
      "/kaggle/input/training-tuned-models/Recsys_Challenge_2023/tuning_results/best_params_ials.json\n",
      "/kaggle/input/training-tuned-models/Recsys_Challenge_2023/tuning_results/best_params_knn_user.json\n",
      "/kaggle/input/training-tuned-models/Recsys_Challenge_2023/tuning_results/best_params_puresvd_item.json\n",
      "/kaggle/input/training-tuned-models/Recsys_Challenge_2023/tuning_results/best_params_hybrid_lr_comb_rp3_p3a_item.json\n",
      "/kaggle/input/training-tuned-models/Recsys_Challenge_2023/tuning_results/best_params_RP3.json\n",
      "/kaggle/input/training-tuned-models/Recsys_Challenge_2023/tuning_results/parameters_NMF.db\n",
      "/kaggle/input/training-tuned-models/Recsys_Challenge_2023/tuning_results/tuning_best_params_allLinearHyb.db\n",
      "/kaggle/input/training-tuned-models/Recsys_Challenge_2023/models/slim_bpr_xgboost_train_validation.zip\n",
      "/kaggle/input/training-tuned-models/Recsys_Challenge_2023/models/ease_r_all.zip\n",
      "/kaggle/input/training-tuned-models/Recsys_Challenge_2023/models/slim_bpr_all.zip\n",
      "/kaggle/input/training-tuned-models/Recsys_Challenge_2023/models/nmf_all.zip\n",
      "/kaggle/input/training-tuned-models/Recsys_Challenge_2023/models/ease_r_train_validation.zip\n",
      "/kaggle/input/training-tuned-models/Recsys_Challenge_2023/models/nmf_train_validation.zip\n",
      "/kaggle/input/training-tuned-models/Recsys_Challenge_2023/models/nmf_xgboost_train_validation.zip\n",
      "/kaggle/input/training-tuned-models/Recsys_Challenge_2023/models/ease_r_xgboost_train_validation.zip\n",
      "/kaggle/input/training-tuned-models/Recsys_Challenge_2023/models/slim_bpr_train_validation.zip\n",
      "/kaggle/input/training-tuned-models/Recsys_Challenge_2023/images/random_random_everywhere_meme.jpg\n",
      "/kaggle/input/training-tuned-models/Recsys_Challenge_2023/images/ive_already_seen_it_meme.png\n",
      "/kaggle/input/training-tuned-models/Recsys_Challenge_2023/images/bob_example.jpeg\n",
      "/kaggle/input/training-tuned-models/Recsys_Challenge_2023/images/hstack_example.png\n",
      "/kaggle/input/training-tuned-models/Recsys_Challenge_2023/images/FactorizationMachine.png\n",
      "/kaggle/input/training-tuned-models/Recsys_Challenge_2023/images/ive_evaluated_your_performance_meme.jpg\n",
      "/kaggle/input/training-tuned-models/Recsys_Challenge_2023/images/amongus_meme.png\n",
      "/kaggle/input/training-tuned-models/Recsys_Challenge_2023/images/toy_story_poster.png\n",
      "/kaggle/input/training-tuned-models/Recsys_Challenge_2023/images/better_than_average_on_the_first_try_meme.jpg\n",
      "/kaggle/input/training-tuned-models/Recsys_Challenge_2023/HyperparameterTuning/SearchSingleCase.py\n",
      "/kaggle/input/training-tuned-models/Recsys_Challenge_2023/HyperparameterTuning/SearchAbstractClass.py\n",
      "/kaggle/input/training-tuned-models/Recsys_Challenge_2023/HyperparameterTuning/run_hyperparameter_search.py\n",
      "/kaggle/input/training-tuned-models/Recsys_Challenge_2023/HyperparameterTuning/SearchBayesianSkopt.py\n",
      "/kaggle/input/training-tuned-models/Recsys_Challenge_2023/Cython_examples/isPrime_slow.pyx\n",
      "/kaggle/input/training-tuned-models/Recsys_Challenge_2023/Cython_examples/SLIM_MSE_fastest.pyx\n",
      "/kaggle/input/training-tuned-models/Recsys_Challenge_2023/Cython_examples/isPrime_nochecks.pyx\n",
      "/kaggle/input/training-tuned-models/Recsys_Challenge_2023/Cython_examples/isPrime.pyx\n",
      "/kaggle/input/training-tuned-models/Recsys_Challenge_2023/Cython_examples/FunkSVD_fastest.pyx\n",
      "/kaggle/input/training-tuned-models/Recsys_Challenge_2023/Cython_examples/FunkSVD_slow.pyx\n",
      "/kaggle/input/training-tuned-models/Recsys_Challenge_2023/Cython_examples/SLIM_MSE_slow.pyx\n",
      "/kaggle/input/training-tuned-models/Recsys_Challenge_2023/result_experiments/run_compile_all_cython.txt\n",
      "/kaggle/input/training-tuned-models/Recsys_Challenge_2023/.git/config\n",
      "/kaggle/input/training-tuned-models/Recsys_Challenge_2023/.git/packed-refs\n",
      "/kaggle/input/training-tuned-models/Recsys_Challenge_2023/.git/HEAD\n",
      "/kaggle/input/training-tuned-models/Recsys_Challenge_2023/.git/index\n",
      "/kaggle/input/training-tuned-models/Recsys_Challenge_2023/.git/description\n",
      "/kaggle/input/training-tuned-models/Recsys_Challenge_2023/.git/info/exclude\n",
      "/kaggle/input/training-tuned-models/Recsys_Challenge_2023/.git/refs/heads/master\n",
      "/kaggle/input/training-tuned-models/Recsys_Challenge_2023/.git/refs/remotes/origin/HEAD\n",
      "/kaggle/input/training-tuned-models/Recsys_Challenge_2023/.git/hooks/pre-merge-commit.sample\n",
      "/kaggle/input/training-tuned-models/Recsys_Challenge_2023/.git/hooks/prepare-commit-msg.sample\n",
      "/kaggle/input/training-tuned-models/Recsys_Challenge_2023/.git/hooks/update.sample\n",
      "/kaggle/input/training-tuned-models/Recsys_Challenge_2023/.git/hooks/pre-push.sample\n",
      "/kaggle/input/training-tuned-models/Recsys_Challenge_2023/.git/hooks/pre-rebase.sample\n",
      "/kaggle/input/training-tuned-models/Recsys_Challenge_2023/.git/hooks/pre-applypatch.sample\n",
      "/kaggle/input/training-tuned-models/Recsys_Challenge_2023/.git/hooks/pre-commit.sample\n",
      "/kaggle/input/training-tuned-models/Recsys_Challenge_2023/.git/hooks/commit-msg.sample\n",
      "/kaggle/input/training-tuned-models/Recsys_Challenge_2023/.git/hooks/post-update.sample\n",
      "/kaggle/input/training-tuned-models/Recsys_Challenge_2023/.git/hooks/pre-receive.sample\n",
      "/kaggle/input/training-tuned-models/Recsys_Challenge_2023/.git/hooks/fsmonitor-watchman.sample\n",
      "/kaggle/input/training-tuned-models/Recsys_Challenge_2023/.git/hooks/applypatch-msg.sample\n",
      "/kaggle/input/training-tuned-models/Recsys_Challenge_2023/.git/logs/HEAD\n",
      "/kaggle/input/training-tuned-models/Recsys_Challenge_2023/.git/logs/refs/heads/master\n",
      "/kaggle/input/training-tuned-models/Recsys_Challenge_2023/.git/logs/refs/remotes/origin/HEAD\n",
      "/kaggle/input/training-tuned-models/Recsys_Challenge_2023/.git/objects/pack/pack-d65ca294d7017a36eff2e1370f0b04a6d002ed65.pack\n",
      "/kaggle/input/training-tuned-models/Recsys_Challenge_2023/.git/objects/pack/pack-d65ca294d7017a36eff2e1370f0b04a6d002ed65.idx\n",
      "/kaggle/input/training-tuned-models/Recsys_Challenge_2023/challenge_notebooks/training-tuned-models.ipynb\n",
      "/kaggle/input/training-tuned-models/Recsys_Challenge_2023/challenge_notebooks/list-combination.ipynb\n",
      "/kaggle/input/training-tuned-models/Recsys_Challenge_2023/challenge_notebooks/hyperparameters-tuning.ipynb\n",
      "/kaggle/input/training-tuned-models/Recsys_Challenge_2023/challenge_notebooks/rp3-tuning.ipynb\n",
      "/kaggle/input/training-tuned-models/Recsys_Challenge_2023/challenge_notebooks/hybrid-precision.ipynb\n",
      "/kaggle/input/training-tuned-models/Recsys_Challenge_2023/challenge_notebooks/linear-combination.ipynb\n",
      "/kaggle/input/training-tuned-models/Recsys_Challenge_2023/challenge_notebooks/rp3-itemknn-hybrid.ipynb\n",
      "/kaggle/input/training-tuned-models/Recsys_Challenge_2023/challenge_notebooks/merging-models.ipynb\n",
      "/kaggle/input/training-tuned-models/Recsys_Challenge_2023/challenge_notebooks/matrix-factorization-item-puresvd.ipynb\n",
      "/kaggle/input/training-tuned-models/Recsys_Challenge_2023/challenge_notebooks/hyperparameters-tuning-better.ipynb\n",
      "/kaggle/input/training-tuned-models/Recsys_Challenge_2023/challenge_notebooks/xgboost.ipynb\n",
      "/kaggle/input/training-tuned-models/Recsys_Challenge_2023/challenge_notebooks/srecsys-challenge.ipynb\n",
      "/kaggle/input/training-tuned-models/Recsys_Challenge_2023/Evaluation/metrics.py\n",
      "/kaggle/input/training-tuned-models/Recsys_Challenge_2023/Evaluation/Evaluator.py\n",
      "/kaggle/input/training-tuned-models/Recsys_Challenge_2023/Evaluation/__pycache__/metrics.cpython-310.pyc\n",
      "/kaggle/input/training-tuned-models/Recsys_Challenge_2023/Evaluation/__pycache__/Evaluator.cpython-310.pyc\n"
     ]
    }
   ],
   "source": [
    "import numpy as np\n",
    "import pandas as pd\n",
    "import matplotlib.pyplot as plt\n",
    "import seaborn as sns\n",
    "import joblib\n",
    "import json\n",
    "import random\n",
    "import tqdm\n",
    "import gc\n",
    "import time\n",
    "import os\n",
    "import shutil\n",
    "import optuna\n",
    "import scipy.sparse as sps\n",
    "from concurrent.futures import ThreadPoolExecutor\n",
    "\n",
    "for dirname, _, filenames in os.walk('/kaggle/input'):\n",
    "    for filename in filenames:\n",
    "        print(os.path.join(dirname, filename))"
   ]
  },
  {
   "cell_type": "code",
   "execution_count": 5,
   "id": "9c01fac6",
   "metadata": {
    "execution": {
     "iopub.execute_input": "2023-12-01T21:01:16.805557Z",
     "iopub.status.busy": "2023-12-01T21:01:16.804884Z",
     "iopub.status.idle": "2023-12-01T21:01:16.812911Z",
     "shell.execute_reply": "2023-12-01T21:01:16.811881Z"
    },
    "papermill": {
     "duration": 0.03309,
     "end_time": "2023-12-01T21:01:16.815174",
     "exception": false,
     "start_time": "2023-12-01T21:01:16.782084",
     "status": "completed"
    },
    "tags": []
   },
   "outputs": [
    {
     "name": "stdout",
     "output_type": "stream",
     "text": [
      "/kaggle/working/Recsys_Challenge_2023\n"
     ]
    }
   ],
   "source": [
    "%cd /kaggle/working/Recsys_Challenge_2023"
   ]
  },
  {
   "cell_type": "code",
   "execution_count": 6,
   "id": "0dbf022c",
   "metadata": {
    "execution": {
     "iopub.execute_input": "2023-12-01T21:01:16.861418Z",
     "iopub.status.busy": "2023-12-01T21:01:16.860650Z",
     "iopub.status.idle": "2023-12-01T21:01:32.059212Z",
     "shell.execute_reply": "2023-12-01T21:01:32.057977Z"
    },
    "papermill": {
     "duration": 15.225044,
     "end_time": "2023-12-01T21:01:32.062241",
     "exception": false,
     "start_time": "2023-12-01T21:01:16.837197",
     "status": "completed"
    },
    "tags": []
   },
   "outputs": [],
   "source": [
    "from Recommenders.KNN.UserKNNCFRecommender import UserKNNCFRecommender\n",
    "from Data_manager.split_functions.split_train_validation_random_holdout import split_train_in_two_percentage_global_sample\n",
    "from Recommenders.SLIM.SLIMElasticNetRecommender import MultiThreadSLIM_SLIMElasticNetRecommender\n",
    "from Evaluation.Evaluator import EvaluatorHoldout\n",
    "from Recommenders.MatrixFactorization.IALSRecommender import IALSRecommender\n",
    "from Recommenders.MatrixFactorization.PureSVDRecommender import PureSVDRecommender, PureSVDItemRecommender\n",
    "from Recommenders.KNN.ItemKNNCFRecommender import ItemKNNCFRecommender\n",
    "from Recommenders.KNN.UserKNNCFRecommender import UserKNNCFRecommender\n",
    "from Recommenders.KNN.ItemKNNSimilarityHybridRecommender import ItemKNNSimilarityHybridRecommender\n",
    "from Recommenders.KNN.ItemKNNCustomSimilarityRecommender import ItemKNNCustomSimilarityRecommender\n",
    "from Recommenders.EASE_R.EASE_R_Recommender import EASE_R_Recommender\n",
    "from Recommenders.Neural.MultVAERecommender import MultVAERecommender\n",
    "from Recommenders.GraphBased.RP3betaRecommender import RP3betaRecommender\n",
    "from Recommenders.GraphBased.P3alphaRecommender import P3alphaRecommender\n",
    "from Recommenders.SLIM.SLIM_BPR_Python import SLIM_BPR_Python\n",
    "from Recommenders.MatrixFactorization.NMFRecommender import NMFRecommender\n",
    "from Recommenders.BaseRecommender import BaseRecommender\n",
    "\n",
    "from Recommenders.Hybrid.LinearCombinationRecommender import LinearCombinationRecommender\n",
    "from Data_manager.CrossValidationSplitter import CrossValidationSplitter\n",
    "\n",
    "np.int = int\n",
    "np.random.seed(42)\n",
    "np.bool = bool\n",
    "np.float = float"
   ]
  },
  {
   "cell_type": "code",
   "execution_count": 7,
   "id": "65ffe5a2",
   "metadata": {
    "execution": {
     "iopub.execute_input": "2023-12-01T21:01:32.110180Z",
     "iopub.status.busy": "2023-12-01T21:01:32.108799Z",
     "iopub.status.idle": "2023-12-01T21:01:32.933127Z",
     "shell.execute_reply": "2023-12-01T21:01:32.931446Z"
    },
    "papermill": {
     "duration": 0.851098,
     "end_time": "2023-12-01T21:01:32.936260",
     "exception": false,
     "start_time": "2023-12-01T21:01:32.085162",
     "status": "completed"
    },
    "tags": []
   },
   "outputs": [
    {
     "name": "stdout",
     "output_type": "stream",
     "text": [
      "Repository found\n"
     ]
    }
   ],
   "source": [
    "from github import Github\n",
    "from github import Auth\n",
    "\n",
    "auth = Auth.Token(token)\n",
    "g = Github(auth=auth)\n",
    "\n",
    "repo = None\n",
    "for r in g.get_user().get_repos():\n",
    "    if r.name == 'Recsys_Challenge_2023':\n",
    "        repo = r\n",
    "        print('Repository found')"
   ]
  },
  {
   "cell_type": "code",
   "execution_count": 8,
   "id": "45e32ea5",
   "metadata": {
    "execution": {
     "iopub.execute_input": "2023-12-01T21:01:32.980559Z",
     "iopub.status.busy": "2023-12-01T21:01:32.980142Z",
     "iopub.status.idle": "2023-12-01T21:01:32.987209Z",
     "shell.execute_reply": "2023-12-01T21:01:32.986007Z"
    },
    "papermill": {
     "duration": 0.032479,
     "end_time": "2023-12-01T21:01:32.989713",
     "exception": false,
     "start_time": "2023-12-01T21:01:32.957234",
     "status": "completed"
    },
    "tags": []
   },
   "outputs": [],
   "source": [
    "def upload_file(filepath_kaggle, filepath_github, commit_message):\n",
    "    try:\n",
    "        contents = repo.get_contents(filepath_github)\n",
    "        with open(filepath_kaggle, \"rb\") as file:\n",
    "            repo.update_file(contents.path, commit_message, file.read(), contents.sha)\n",
    "    except Exception:\n",
    "        with open(filepath_kaggle, \"rb\") as file:\n",
    "            repo.create_file(filepath_github, commit_message, file.read())"
   ]
  },
  {
   "cell_type": "code",
   "execution_count": 9,
   "id": "711336c7",
   "metadata": {
    "execution": {
     "iopub.execute_input": "2023-12-01T21:01:33.033499Z",
     "iopub.status.busy": "2023-12-01T21:01:33.033108Z",
     "iopub.status.idle": "2023-12-01T21:01:33.039218Z",
     "shell.execute_reply": "2023-12-01T21:01:33.037671Z"
    },
    "papermill": {
     "duration": 0.031165,
     "end_time": "2023-12-01T21:01:33.041914",
     "exception": false,
     "start_time": "2023-12-01T21:01:33.010749",
     "status": "completed"
    },
    "tags": []
   },
   "outputs": [],
   "source": [
    "config = {\n",
    "    'tune_parameters': True,\n",
    "    'database_path': '/kaggle/working/tuning_hybrid_linear_comb.db',\n",
    "    'copy_prev_tuning_db': True,\n",
    "    'copy_prev_best_params': True,\n",
    "    'save_github': True\n",
    "}"
   ]
  },
  {
   "cell_type": "code",
   "execution_count": 10,
   "id": "227fe50f",
   "metadata": {
    "execution": {
     "iopub.execute_input": "2023-12-01T21:01:33.085823Z",
     "iopub.status.busy": "2023-12-01T21:01:33.085329Z",
     "iopub.status.idle": "2023-12-01T21:01:33.377164Z",
     "shell.execute_reply": "2023-12-01T21:01:33.375931Z"
    },
    "papermill": {
     "duration": 0.317116,
     "end_time": "2023-12-01T21:01:33.379871",
     "exception": false,
     "start_time": "2023-12-01T21:01:33.062755",
     "status": "completed"
    },
    "tags": []
   },
   "outputs": [],
   "source": [
    "train_data = pd.read_csv('/kaggle/input/recommender-system-2023-challenge-polimi/data_train.csv')\n",
    "user_ids_test = pd.read_csv('/kaggle/input/recommender-system-2023-challenge-polimi/data_target_users_test.csv')"
   ]
  },
  {
   "cell_type": "code",
   "execution_count": 11,
   "id": "9daa1c12",
   "metadata": {
    "execution": {
     "iopub.execute_input": "2023-12-01T21:01:33.496096Z",
     "iopub.status.busy": "2023-12-01T21:01:33.495195Z",
     "iopub.status.idle": "2023-12-01T21:01:33.538145Z",
     "shell.execute_reply": "2023-12-01T21:01:33.536895Z"
    },
    "papermill": {
     "duration": 0.069745,
     "end_time": "2023-12-01T21:01:33.540807",
     "exception": false,
     "start_time": "2023-12-01T21:01:33.471062",
     "status": "completed"
    },
    "tags": []
   },
   "outputs": [
    {
     "data": {
      "text/plain": [
       "<13024x22347 sparse matrix of type '<class 'numpy.float64'>'\n",
       "\twith 478730 stored elements in Compressed Sparse Row format>"
      ]
     },
     "execution_count": 11,
     "metadata": {},
     "output_type": "execute_result"
    }
   ],
   "source": [
    "URM_all = sps.csr_matrix((train_data.data.values,\n",
    "                          ((train_data.row - 1).values, (train_data.col - 1).values)),\n",
    "                        shape=(train_data.row.max(), train_data.col.max()))\n",
    "URM_all"
   ]
  },
  {
   "cell_type": "code",
   "execution_count": 12,
   "id": "5285a858",
   "metadata": {
    "execution": {
     "iopub.execute_input": "2023-12-01T21:01:33.588930Z",
     "iopub.status.busy": "2023-12-01T21:01:33.588076Z",
     "iopub.status.idle": "2023-12-01T21:01:35.238906Z",
     "shell.execute_reply": "2023-12-01T21:01:35.237437Z"
    },
    "papermill": {
     "duration": 1.677759,
     "end_time": "2023-12-01T21:01:35.241597",
     "exception": false,
     "start_time": "2023-12-01T21:01:33.563838",
     "status": "completed"
    },
    "tags": []
   },
   "outputs": [
    {
     "name": "stdout",
     "output_type": "stream",
     "text": [
      "Warning: 627 (4.81 %) of 13024 users have no train items\n",
      "Warning: 2568 (19.72 %) of 13024 users have no sampled items\n",
      "Warning: 2953 (22.67 %) of 13024 users have no train items\n",
      "Warning: 6367 (48.89 %) of 13024 users have no sampled items\n"
     ]
    }
   ],
   "source": [
    "URM_train, URM_test_complete = split_train_in_two_percentage_global_sample(URM_all, train_percentage = 0.8)\n",
    "URM_validation, URM_test = split_train_in_two_percentage_global_sample(URM_test_complete, train_percentage = 0.8)"
   ]
  },
  {
   "cell_type": "code",
   "execution_count": 13,
   "id": "ed784065",
   "metadata": {
    "execution": {
     "iopub.execute_input": "2023-12-01T21:01:35.287793Z",
     "iopub.status.busy": "2023-12-01T21:01:35.287353Z",
     "iopub.status.idle": "2023-12-01T21:01:35.297173Z",
     "shell.execute_reply": "2023-12-01T21:01:35.296040Z"
    },
    "papermill": {
     "duration": 0.036004,
     "end_time": "2023-12-01T21:01:35.299710",
     "exception": false,
     "start_time": "2023-12-01T21:01:35.263706",
     "status": "completed"
    },
    "tags": []
   },
   "outputs": [
    {
     "data": {
      "text/plain": [
       "{'topK': 14,\n",
       " 'shrink': 25,\n",
       " 'similarity': 'tversky',\n",
       " 'tversky_alpha': 0.18163095712123836,\n",
       " 'tversky_beta': 1.8529812241698465}"
      ]
     },
     "execution_count": 13,
     "metadata": {},
     "output_type": "execute_result"
    }
   ],
   "source": [
    "with open('/kaggle/working/Recsys_Challenge_2023/tuning_results/best_params_knn_item.json', 'r') as params_file:\n",
    "    params_item_knn = json.load(params_file)\n",
    "params_item_knn"
   ]
  },
  {
   "cell_type": "code",
   "execution_count": 14,
   "id": "c3e93970",
   "metadata": {
    "execution": {
     "iopub.execute_input": "2023-12-01T21:01:35.345981Z",
     "iopub.status.busy": "2023-12-01T21:01:35.344765Z",
     "iopub.status.idle": "2023-12-01T21:01:35.353608Z",
     "shell.execute_reply": "2023-12-01T21:01:35.352359Z"
    },
    "papermill": {
     "duration": 0.034311,
     "end_time": "2023-12-01T21:01:35.356006",
     "exception": false,
     "start_time": "2023-12-01T21:01:35.321695",
     "status": "completed"
    },
    "tags": []
   },
   "outputs": [
    {
     "data": {
      "text/plain": [
       "{'alpha': 0.26348679053501006, 'beta': 0.17536156577039744, 'topK': 27}"
      ]
     },
     "execution_count": 14,
     "metadata": {},
     "output_type": "execute_result"
    }
   ],
   "source": [
    "with open('/kaggle/working/Recsys_Challenge_2023/tuning_results/best_params_RP3.json', 'r') as params_file:\n",
    "    params_rp3 = json.load(params_file)\n",
    "params_rp3"
   ]
  },
  {
   "cell_type": "code",
   "execution_count": 15,
   "id": "15b5e696",
   "metadata": {
    "execution": {
     "iopub.execute_input": "2023-12-01T21:01:35.402534Z",
     "iopub.status.busy": "2023-12-01T21:01:35.401687Z",
     "iopub.status.idle": "2023-12-01T21:01:35.409683Z",
     "shell.execute_reply": "2023-12-01T21:01:35.408724Z"
    },
    "papermill": {
     "duration": 0.033704,
     "end_time": "2023-12-01T21:01:35.411907",
     "exception": false,
     "start_time": "2023-12-01T21:01:35.378203",
     "status": "completed"
    },
    "tags": []
   },
   "outputs": [
    {
     "data": {
      "text/plain": [
       "{'topK': 498,\n",
       " 'shrink': 0,\n",
       " 'similarity': 'asymmetric',\n",
       " 'asymmetric_alpha': 0.39792525383867455}"
      ]
     },
     "execution_count": 15,
     "metadata": {},
     "output_type": "execute_result"
    }
   ],
   "source": [
    "with open('/kaggle/working/Recsys_Challenge_2023/tuning_results/best_params_knn_user.json', 'r') as params_file:\n",
    "    params_user_knn = json.load(params_file)\n",
    "params_user_knn"
   ]
  },
  {
   "cell_type": "code",
   "execution_count": 16,
   "id": "02dbf621",
   "metadata": {
    "execution": {
     "iopub.execute_input": "2023-12-01T21:01:35.460586Z",
     "iopub.status.busy": "2023-12-01T21:01:35.459829Z",
     "iopub.status.idle": "2023-12-01T21:01:35.466834Z",
     "shell.execute_reply": "2023-12-01T21:01:35.465992Z"
    },
    "papermill": {
     "duration": 0.035444,
     "end_time": "2023-12-01T21:01:35.469290",
     "exception": false,
     "start_time": "2023-12-01T21:01:35.433846",
     "status": "completed"
    },
    "tags": []
   },
   "outputs": [
    {
     "data": {
      "text/plain": [
       "{'normalize_similarity': 'True',\n",
       " 'implicit': 'True',\n",
       " 'alpha': 0.3014708045867471,\n",
       " 'topK': 36}"
      ]
     },
     "execution_count": 16,
     "metadata": {},
     "output_type": "execute_result"
    }
   ],
   "source": [
    "with open('/kaggle/working/Recsys_Challenge_2023/tuning_results/best_params_alpha.json', 'r') as params_file:\n",
    "    params_p3alpha = json.load(params_file)\n",
    "params_p3alpha"
   ]
  },
  {
   "cell_type": "code",
   "execution_count": 17,
   "id": "d9444ff7",
   "metadata": {
    "execution": {
     "iopub.execute_input": "2023-12-01T21:01:35.515335Z",
     "iopub.status.busy": "2023-12-01T21:01:35.514582Z",
     "iopub.status.idle": "2023-12-01T21:01:35.521535Z",
     "shell.execute_reply": "2023-12-01T21:01:35.520698Z"
    },
    "papermill": {
     "duration": 0.032354,
     "end_time": "2023-12-01T21:01:35.523731",
     "exception": false,
     "start_time": "2023-12-01T21:01:35.491377",
     "status": "completed"
    },
    "tags": []
   },
   "outputs": [
    {
     "data": {
      "text/plain": [
       "{'alpha': 0.3375591188839621, 'topK': 86}"
      ]
     },
     "execution_count": 17,
     "metadata": {},
     "output_type": "execute_result"
    }
   ],
   "source": [
    "with open('/kaggle/working/Recsys_Challenge_2023/tuning_results/best_params_hybrid_merging.json', 'r') as params_file:\n",
    "    params_merging = json.load(params_file)\n",
    "params_merging"
   ]
  },
  {
   "cell_type": "code",
   "execution_count": 18,
   "id": "714dcda1",
   "metadata": {
    "execution": {
     "iopub.execute_input": "2023-12-01T21:01:35.572277Z",
     "iopub.status.busy": "2023-12-01T21:01:35.571543Z",
     "iopub.status.idle": "2023-12-01T21:01:35.578985Z",
     "shell.execute_reply": "2023-12-01T21:01:35.577920Z"
    },
    "papermill": {
     "duration": 0.034542,
     "end_time": "2023-12-01T21:01:35.581392",
     "exception": false,
     "start_time": "2023-12-01T21:01:35.546850",
     "status": "completed"
    },
    "tags": []
   },
   "outputs": [
    {
     "data": {
      "text/plain": [
       "{'factors': 30}"
      ]
     },
     "execution_count": 18,
     "metadata": {},
     "output_type": "execute_result"
    }
   ],
   "source": [
    "with open('/kaggle/working/Recsys_Challenge_2023/tuning_results/pure_svd_params.json', 'r') as params_file:\n",
    "    params_pure_svd = json.load(params_file)\n",
    "params_pure_svd"
   ]
  },
  {
   "cell_type": "code",
   "execution_count": 19,
   "id": "cac43581",
   "metadata": {
    "execution": {
     "iopub.execute_input": "2023-12-01T21:01:35.628042Z",
     "iopub.status.busy": "2023-12-01T21:01:35.627609Z",
     "iopub.status.idle": "2023-12-01T21:01:35.632382Z",
     "shell.execute_reply": "2023-12-01T21:01:35.631351Z"
    },
    "papermill": {
     "duration": 0.031007,
     "end_time": "2023-12-01T21:01:35.634606",
     "exception": false,
     "start_time": "2023-12-01T21:01:35.603599",
     "status": "completed"
    },
    "tags": []
   },
   "outputs": [],
   "source": [
    "# with open('/kaggle/working/Recsys_Challenge_2023/tuning_results/best_params_puresvd_item.json', 'r') as params_file:\n",
    "#     params_pure_svd_item = json.load(params_file)\n",
    "params_pure_svd_item = {\"topK\": 43, \"num_factors\": 171}"
   ]
  },
  {
   "cell_type": "code",
   "execution_count": 20,
   "id": "002bb7c7",
   "metadata": {
    "execution": {
     "iopub.execute_input": "2023-12-01T21:01:35.681980Z",
     "iopub.status.busy": "2023-12-01T21:01:35.681282Z",
     "iopub.status.idle": "2023-12-01T21:01:37.548934Z",
     "shell.execute_reply": "2023-12-01T21:01:37.547717Z"
    },
    "papermill": {
     "duration": 1.89414,
     "end_time": "2023-12-01T21:01:37.551598",
     "exception": false,
     "start_time": "2023-12-01T21:01:35.657458",
     "status": "completed"
    },
    "tags": []
   },
   "outputs": [
    {
     "data": {
      "text/plain": [
       "'/kaggle/working/ials_all.zip'"
      ]
     },
     "execution_count": 20,
     "metadata": {},
     "output_type": "execute_result"
    }
   ],
   "source": [
    "shutil.copyfile(\n",
    "    '/kaggle/input/training-tuned-models/ials_train_validation.zip', \n",
    "    '/kaggle/working/ials_train_validation.zip', \n",
    ")\n",
    "shutil.copyfile(\n",
    "    '/kaggle/input/training-tuned-models/ials_train_validation.zip', \n",
    "    '/kaggle/working/ials_all.zip', \n",
    ")"
   ]
  },
  {
   "cell_type": "code",
   "execution_count": 21,
   "id": "13dc6c94",
   "metadata": {
    "execution": {
     "iopub.execute_input": "2023-12-01T21:01:37.600121Z",
     "iopub.status.busy": "2023-12-01T21:01:37.599120Z",
     "iopub.status.idle": "2023-12-01T21:02:50.838645Z",
     "shell.execute_reply": "2023-12-01T21:02:50.837502Z"
    },
    "papermill": {
     "duration": 73.266916,
     "end_time": "2023-12-01T21:02:50.842124",
     "exception": false,
     "start_time": "2023-12-01T21:01:37.575208",
     "status": "completed"
    },
    "tags": []
   },
   "outputs": [
    {
     "name": "stdout",
     "output_type": "stream",
     "text": [
      "ItemKNNCFRecommender: URM Detected 627 ( 4.8%) users with no interactions.\n",
      "ItemKNNCFRecommender: URM Detected 247 ( 1.1%) items with no interactions.\n",
      "Similarity column 22347 (100.0%), 4565.05 column/sec. Elapsed time 4.90 sec\n",
      "UserKNNCFRecommender: URM Detected 627 ( 4.8%) users with no interactions.\n",
      "UserKNNCFRecommender: URM Detected 247 ( 1.1%) items with no interactions.\n",
      "Similarity column 13024 (100.0%), 4603.53 column/sec. Elapsed time 2.83 sec\n",
      "RP3betaRecommender: URM Detected 627 ( 4.8%) users with no interactions.\n",
      "RP3betaRecommender: URM Detected 247 ( 1.1%) items with no interactions.\n",
      "RP3betaRecommender: Similarity column 22347 (100.0%), 2664.23 column/sec. Elapsed time 8.39 sec\n",
      "P3alphaRecommender: URM Detected 627 ( 4.8%) users with no interactions.\n",
      "P3alphaRecommender: URM Detected 247 ( 1.1%) items with no interactions.\n",
      "P3alphaRecommender: Similarity column 22347 (100.0%), 3235.46 column/sec. Elapsed time 6.91 sec\n",
      "PureSVDRecommender: URM Detected 627 ( 4.8%) users with no interactions.\n",
      "PureSVDRecommender: URM Detected 247 ( 1.1%) items with no interactions.\n",
      "PureSVDRecommender: Computing SVD decomposition...\n",
      "PureSVDRecommender: Computing SVD decomposition... done in 0.64 sec\n",
      "PureSVDItemRecommender: URM Detected 627 ( 4.8%) users with no interactions.\n",
      "PureSVDItemRecommender: URM Detected 247 ( 1.1%) items with no interactions.\n",
      "PureSVDItemRecommender: Computing SVD decomposition...\n",
      "PureSVDItemRecommender: Computing SVD decomposition... Done!\n",
      "NMFRecommender: URM Detected 627 ( 4.8%) users with no interactions.\n",
      "NMFRecommender: URM Detected 247 ( 1.1%) items with no interactions.\n",
      "NMFRecommender: Loading model from file '/kaggle/working/Recsys_Challenge_2023/models/nmf_train_validation.zip'\n",
      "NMFRecommender: Loading complete\n",
      "Recommender_Base_Class: URM Detected 627 ( 4.8%) users with no interactions.\n",
      "Recommender_Base_Class: URM Detected 247 ( 1.1%) items with no interactions.\n",
      "Recommender_Base_Class: Loading model from file '/kaggle/working/Recsys_Challenge_2023/models/slim_bpr_train_validation.zip'\n",
      "Recommender_Base_Class: Loading complete\n",
      "EASE_R_Recommender: URM Detected 627 ( 4.8%) users with no interactions.\n",
      "EASE_R_Recommender: URM Detected 247 ( 1.1%) items with no interactions.\n",
      "EASE_R_Recommender: Loading model from file '/kaggle/working/Recsys_Challenge_2023/models/ease_r_train_validation.zip'\n",
      "EASE_R_Recommender: Loading complete\n",
      "IALSRecommender: URM Detected 627 ( 4.8%) users with no interactions.\n",
      "IALSRecommender: URM Detected 247 ( 1.1%) items with no interactions.\n",
      "IALSRecommender: Loading model from file '/kaggle/working/ials_train_validation.zip'\n",
      "IALSRecommender: Loading complete\n",
      "ItemKNNSimilarityHybridRecommender: URM Detected 627 ( 4.8%) users with no interactions.\n",
      "ItemKNNSimilarityHybridRecommender: URM Detected 247 ( 1.1%) items with no interactions.\n"
     ]
    }
   ],
   "source": [
    "recommender_item = ItemKNNCFRecommender(URM_train)\n",
    "recommender_item.fit(**params_item_knn)\n",
    "\n",
    "recommender_user = UserKNNCFRecommender(URM_train)\n",
    "recommender_user.fit(**params_user_knn)\n",
    "\n",
    "recommender_rp3 = RP3betaRecommender(URM_train)\n",
    "recommender_rp3.fit(**params_rp3)\n",
    "\n",
    "recommender_p3a = P3alphaRecommender(URM_train)\n",
    "recommender_p3a.fit(**params_p3alpha)\n",
    "\n",
    "recommender_pure_svd = PureSVDRecommender(URM_train)\n",
    "recommender_pure_svd.fit(num_factors=params_pure_svd['factors'])\n",
    "\n",
    "recommender_pure_svd_item = PureSVDItemRecommender(URM_train)\n",
    "recommender_pure_svd_item.fit(**params_pure_svd_item)\n",
    "\n",
    "recommender_nmf = NMFRecommender(URM_train)\n",
    "recommender_nmf.load_model('/kaggle/working/Recsys_Challenge_2023/models/', 'nmf_train_validation.zip')\n",
    "\n",
    "recommender_slim_bpr = SLIM_BPR_Python(URM_train)\n",
    "recommender_slim_bpr.load_model('/kaggle/working/Recsys_Challenge_2023/models/', 'slim_bpr_train_validation.zip')\n",
    "\n",
    "recommender_ease_r = EASE_R_Recommender(URM_train)\n",
    "recommender_ease_r.load_model('/kaggle/working/Recsys_Challenge_2023/models/', 'ease_r_train_validation.zip')\n",
    "\n",
    "recommender_ials = IALSRecommender(URM_train)\n",
    "recommender_ials.load_model('/kaggle/working/', 'ials_train_validation.zip')\n",
    "\n",
    "hybrid_similarity = ItemKNNSimilarityHybridRecommender(URM_train, recommender_item.W_sparse, recommender_rp3.W_sparse)\n",
    "hybrid_similarity.fit(**params_merging)"
   ]
  },
  {
   "cell_type": "code",
   "execution_count": 22,
   "id": "24171d6d",
   "metadata": {
    "execution": {
     "iopub.execute_input": "2023-12-01T21:02:50.893023Z",
     "iopub.status.busy": "2023-12-01T21:02:50.891955Z",
     "iopub.status.idle": "2023-12-01T21:05:12.511920Z",
     "shell.execute_reply": "2023-12-01T21:05:12.510706Z"
    },
    "papermill": {
     "duration": 141.652062,
     "end_time": "2023-12-01T21:05:12.518209",
     "exception": false,
     "start_time": "2023-12-01T21:02:50.866147",
     "status": "completed"
    },
    "tags": []
   },
   "outputs": [
    {
     "name": "stdout",
     "output_type": "stream",
     "text": [
      "Recommender_Base_Class: URM Detected 627 ( 4.8%) users with no interactions.\n",
      "Recommender_Base_Class: URM Detected 247 ( 1.1%) items with no interactions.\n",
      "EvaluatorHoldout: Ignoring 2568 (19.7%) Users that have less than 1 test interactions\n",
      "Linear Combinator\n",
      "EvaluatorHoldout: Processed 10456 (100.0%) in 16.93 sec. Users per second: 618\n"
     ]
    },
    {
     "data": {
      "text/html": [
       "<div>\n",
       "<style scoped>\n",
       "    .dataframe tbody tr th:only-of-type {\n",
       "        vertical-align: middle;\n",
       "    }\n",
       "\n",
       "    .dataframe tbody tr th {\n",
       "        vertical-align: top;\n",
       "    }\n",
       "\n",
       "    .dataframe thead th {\n",
       "        text-align: right;\n",
       "    }\n",
       "</style>\n",
       "<table border=\"1\" class=\"dataframe\">\n",
       "  <thead>\n",
       "    <tr style=\"text-align: right;\">\n",
       "      <th></th>\n",
       "      <th>PRECISION</th>\n",
       "      <th>PRECISION_RECALL_MIN_DEN</th>\n",
       "      <th>RECALL</th>\n",
       "      <th>MAP</th>\n",
       "      <th>MAP_MIN_DEN</th>\n",
       "      <th>MRR</th>\n",
       "      <th>NDCG</th>\n",
       "      <th>F1</th>\n",
       "      <th>HIT_RATE</th>\n",
       "      <th>ARHR_ALL_HITS</th>\n",
       "      <th>...</th>\n",
       "      <th>COVERAGE_USER</th>\n",
       "      <th>COVERAGE_USER_HIT</th>\n",
       "      <th>USERS_IN_GT</th>\n",
       "      <th>DIVERSITY_GINI</th>\n",
       "      <th>SHANNON_ENTROPY</th>\n",
       "      <th>RATIO_DIVERSITY_HERFINDAHL</th>\n",
       "      <th>RATIO_DIVERSITY_GINI</th>\n",
       "      <th>RATIO_SHANNON_ENTROPY</th>\n",
       "      <th>RATIO_AVERAGE_POPULARITY</th>\n",
       "      <th>RATIO_NOVELTY</th>\n",
       "    </tr>\n",
       "    <tr>\n",
       "      <th>cutoff</th>\n",
       "      <th></th>\n",
       "      <th></th>\n",
       "      <th></th>\n",
       "      <th></th>\n",
       "      <th></th>\n",
       "      <th></th>\n",
       "      <th></th>\n",
       "      <th></th>\n",
       "      <th></th>\n",
       "      <th></th>\n",
       "      <th></th>\n",
       "      <th></th>\n",
       "      <th></th>\n",
       "      <th></th>\n",
       "      <th></th>\n",
       "      <th></th>\n",
       "      <th></th>\n",
       "      <th></th>\n",
       "      <th></th>\n",
       "      <th></th>\n",
       "      <th></th>\n",
       "    </tr>\n",
       "  </thead>\n",
       "  <tbody>\n",
       "    <tr>\n",
       "      <th>10</th>\n",
       "      <td>0.096739</td>\n",
       "      <td>0.165159</td>\n",
       "      <td>0.138933</td>\n",
       "      <td>0.050207</td>\n",
       "      <td>0.085675</td>\n",
       "      <td>0.27459</td>\n",
       "      <td>0.152722</td>\n",
       "      <td>0.114059</td>\n",
       "      <td>0.518076</td>\n",
       "      <td>0.366351</td>\n",
       "      <td>...</td>\n",
       "      <td>0.802826</td>\n",
       "      <td>0.415924</td>\n",
       "      <td>0.802826</td>\n",
       "      <td>0.08285</td>\n",
       "      <td>10.654673</td>\n",
       "      <td>0.998407</td>\n",
       "      <td>0.239054</td>\n",
       "      <td>0.820795</td>\n",
       "      <td>1.522478</td>\n",
       "      <td>0.308761</td>\n",
       "    </tr>\n",
       "  </tbody>\n",
       "</table>\n",
       "<p>1 rows × 27 columns</p>\n",
       "</div>"
      ],
      "text/plain": [
       "       PRECISION PRECISION_RECALL_MIN_DEN    RECALL       MAP MAP_MIN_DEN  \\\n",
       "cutoff                                                                      \n",
       "10      0.096739                 0.165159  0.138933  0.050207    0.085675   \n",
       "\n",
       "            MRR      NDCG        F1  HIT_RATE ARHR_ALL_HITS  ...  \\\n",
       "cutoff                                                       ...   \n",
       "10      0.27459  0.152722  0.114059  0.518076      0.366351  ...   \n",
       "\n",
       "       COVERAGE_USER COVERAGE_USER_HIT USERS_IN_GT DIVERSITY_GINI  \\\n",
       "cutoff                                                              \n",
       "10          0.802826          0.415924    0.802826        0.08285   \n",
       "\n",
       "       SHANNON_ENTROPY RATIO_DIVERSITY_HERFINDAHL RATIO_DIVERSITY_GINI  \\\n",
       "cutoff                                                                   \n",
       "10           10.654673                   0.998407             0.239054   \n",
       "\n",
       "       RATIO_SHANNON_ENTROPY RATIO_AVERAGE_POPULARITY RATIO_NOVELTY  \n",
       "cutoff                                                               \n",
       "10                  0.820795                 1.522478      0.308761  \n",
       "\n",
       "[1 rows x 27 columns]"
      ]
     },
     "metadata": {},
     "output_type": "display_data"
    },
    {
     "name": "stdout",
     "output_type": "stream",
     "text": [
      "Merging Models\n",
      "EvaluatorHoldout: Processed 10456 (100.0%) in 9.09 sec. Users per second: 1150\n"
     ]
    },
    {
     "data": {
      "text/html": [
       "<div>\n",
       "<style scoped>\n",
       "    .dataframe tbody tr th:only-of-type {\n",
       "        vertical-align: middle;\n",
       "    }\n",
       "\n",
       "    .dataframe tbody tr th {\n",
       "        vertical-align: top;\n",
       "    }\n",
       "\n",
       "    .dataframe thead th {\n",
       "        text-align: right;\n",
       "    }\n",
       "</style>\n",
       "<table border=\"1\" class=\"dataframe\">\n",
       "  <thead>\n",
       "    <tr style=\"text-align: right;\">\n",
       "      <th></th>\n",
       "      <th>PRECISION</th>\n",
       "      <th>PRECISION_RECALL_MIN_DEN</th>\n",
       "      <th>RECALL</th>\n",
       "      <th>MAP</th>\n",
       "      <th>MAP_MIN_DEN</th>\n",
       "      <th>MRR</th>\n",
       "      <th>NDCG</th>\n",
       "      <th>F1</th>\n",
       "      <th>HIT_RATE</th>\n",
       "      <th>ARHR_ALL_HITS</th>\n",
       "      <th>...</th>\n",
       "      <th>COVERAGE_USER</th>\n",
       "      <th>COVERAGE_USER_HIT</th>\n",
       "      <th>USERS_IN_GT</th>\n",
       "      <th>DIVERSITY_GINI</th>\n",
       "      <th>SHANNON_ENTROPY</th>\n",
       "      <th>RATIO_DIVERSITY_HERFINDAHL</th>\n",
       "      <th>RATIO_DIVERSITY_GINI</th>\n",
       "      <th>RATIO_SHANNON_ENTROPY</th>\n",
       "      <th>RATIO_AVERAGE_POPULARITY</th>\n",
       "      <th>RATIO_NOVELTY</th>\n",
       "    </tr>\n",
       "    <tr>\n",
       "      <th>cutoff</th>\n",
       "      <th></th>\n",
       "      <th></th>\n",
       "      <th></th>\n",
       "      <th></th>\n",
       "      <th></th>\n",
       "      <th></th>\n",
       "      <th></th>\n",
       "      <th></th>\n",
       "      <th></th>\n",
       "      <th></th>\n",
       "      <th></th>\n",
       "      <th></th>\n",
       "      <th></th>\n",
       "      <th></th>\n",
       "      <th></th>\n",
       "      <th></th>\n",
       "      <th></th>\n",
       "      <th></th>\n",
       "      <th></th>\n",
       "      <th></th>\n",
       "      <th></th>\n",
       "    </tr>\n",
       "  </thead>\n",
       "  <tbody>\n",
       "    <tr>\n",
       "      <th>10</th>\n",
       "      <td>0.097102</td>\n",
       "      <td>0.165756</td>\n",
       "      <td>0.139351</td>\n",
       "      <td>0.050173</td>\n",
       "      <td>0.085482</td>\n",
       "      <td>0.27428</td>\n",
       "      <td>0.152762</td>\n",
       "      <td>0.114452</td>\n",
       "      <td>0.520658</td>\n",
       "      <td>0.365828</td>\n",
       "      <td>...</td>\n",
       "      <td>0.802826</td>\n",
       "      <td>0.417998</td>\n",
       "      <td>0.802826</td>\n",
       "      <td>0.087463</td>\n",
       "      <td>10.729146</td>\n",
       "      <td>0.998493</td>\n",
       "      <td>0.252365</td>\n",
       "      <td>0.826532</td>\n",
       "      <td>1.477653</td>\n",
       "      <td>0.310478</td>\n",
       "    </tr>\n",
       "  </tbody>\n",
       "</table>\n",
       "<p>1 rows × 27 columns</p>\n",
       "</div>"
      ],
      "text/plain": [
       "       PRECISION PRECISION_RECALL_MIN_DEN    RECALL       MAP MAP_MIN_DEN  \\\n",
       "cutoff                                                                      \n",
       "10      0.097102                 0.165756  0.139351  0.050173    0.085482   \n",
       "\n",
       "            MRR      NDCG        F1  HIT_RATE ARHR_ALL_HITS  ...  \\\n",
       "cutoff                                                       ...   \n",
       "10      0.27428  0.152762  0.114452  0.520658      0.365828  ...   \n",
       "\n",
       "       COVERAGE_USER COVERAGE_USER_HIT USERS_IN_GT DIVERSITY_GINI  \\\n",
       "cutoff                                                              \n",
       "10          0.802826          0.417998    0.802826       0.087463   \n",
       "\n",
       "       SHANNON_ENTROPY RATIO_DIVERSITY_HERFINDAHL RATIO_DIVERSITY_GINI  \\\n",
       "cutoff                                                                   \n",
       "10           10.729146                   0.998493             0.252365   \n",
       "\n",
       "       RATIO_SHANNON_ENTROPY RATIO_AVERAGE_POPULARITY RATIO_NOVELTY  \n",
       "cutoff                                                               \n",
       "10                  0.826532                 1.477653      0.310478  \n",
       "\n",
       "[1 rows x 27 columns]"
      ]
     },
     "metadata": {},
     "output_type": "display_data"
    },
    {
     "name": "stdout",
     "output_type": "stream",
     "text": [
      "Item KNN\n",
      "EvaluatorHoldout: Processed 10456 (100.0%) in 9.00 sec. Users per second: 1162\n"
     ]
    },
    {
     "data": {
      "text/html": [
       "<div>\n",
       "<style scoped>\n",
       "    .dataframe tbody tr th:only-of-type {\n",
       "        vertical-align: middle;\n",
       "    }\n",
       "\n",
       "    .dataframe tbody tr th {\n",
       "        vertical-align: top;\n",
       "    }\n",
       "\n",
       "    .dataframe thead th {\n",
       "        text-align: right;\n",
       "    }\n",
       "</style>\n",
       "<table border=\"1\" class=\"dataframe\">\n",
       "  <thead>\n",
       "    <tr style=\"text-align: right;\">\n",
       "      <th></th>\n",
       "      <th>PRECISION</th>\n",
       "      <th>PRECISION_RECALL_MIN_DEN</th>\n",
       "      <th>RECALL</th>\n",
       "      <th>MAP</th>\n",
       "      <th>MAP_MIN_DEN</th>\n",
       "      <th>MRR</th>\n",
       "      <th>NDCG</th>\n",
       "      <th>F1</th>\n",
       "      <th>HIT_RATE</th>\n",
       "      <th>ARHR_ALL_HITS</th>\n",
       "      <th>...</th>\n",
       "      <th>COVERAGE_USER</th>\n",
       "      <th>COVERAGE_USER_HIT</th>\n",
       "      <th>USERS_IN_GT</th>\n",
       "      <th>DIVERSITY_GINI</th>\n",
       "      <th>SHANNON_ENTROPY</th>\n",
       "      <th>RATIO_DIVERSITY_HERFINDAHL</th>\n",
       "      <th>RATIO_DIVERSITY_GINI</th>\n",
       "      <th>RATIO_SHANNON_ENTROPY</th>\n",
       "      <th>RATIO_AVERAGE_POPULARITY</th>\n",
       "      <th>RATIO_NOVELTY</th>\n",
       "    </tr>\n",
       "    <tr>\n",
       "      <th>cutoff</th>\n",
       "      <th></th>\n",
       "      <th></th>\n",
       "      <th></th>\n",
       "      <th></th>\n",
       "      <th></th>\n",
       "      <th></th>\n",
       "      <th></th>\n",
       "      <th></th>\n",
       "      <th></th>\n",
       "      <th></th>\n",
       "      <th></th>\n",
       "      <th></th>\n",
       "      <th></th>\n",
       "      <th></th>\n",
       "      <th></th>\n",
       "      <th></th>\n",
       "      <th></th>\n",
       "      <th></th>\n",
       "      <th></th>\n",
       "      <th></th>\n",
       "      <th></th>\n",
       "    </tr>\n",
       "  </thead>\n",
       "  <tbody>\n",
       "    <tr>\n",
       "      <th>10</th>\n",
       "      <td>0.09451</td>\n",
       "      <td>0.161146</td>\n",
       "      <td>0.135378</td>\n",
       "      <td>0.048719</td>\n",
       "      <td>0.082976</td>\n",
       "      <td>0.267977</td>\n",
       "      <td>0.148683</td>\n",
       "      <td>0.111312</td>\n",
       "      <td>0.511572</td>\n",
       "      <td>0.356662</td>\n",
       "      <td>...</td>\n",
       "      <td>0.802826</td>\n",
       "      <td>0.410703</td>\n",
       "      <td>0.802826</td>\n",
       "      <td>0.066309</td>\n",
       "      <td>10.283111</td>\n",
       "      <td>0.997789</td>\n",
       "      <td>0.191329</td>\n",
       "      <td>0.792171</td>\n",
       "      <td>1.734564</td>\n",
       "      <td>0.30426</td>\n",
       "    </tr>\n",
       "  </tbody>\n",
       "</table>\n",
       "<p>1 rows × 27 columns</p>\n",
       "</div>"
      ],
      "text/plain": [
       "       PRECISION PRECISION_RECALL_MIN_DEN    RECALL       MAP MAP_MIN_DEN  \\\n",
       "cutoff                                                                      \n",
       "10       0.09451                 0.161146  0.135378  0.048719    0.082976   \n",
       "\n",
       "             MRR      NDCG        F1  HIT_RATE ARHR_ALL_HITS  ...  \\\n",
       "cutoff                                                        ...   \n",
       "10      0.267977  0.148683  0.111312  0.511572      0.356662  ...   \n",
       "\n",
       "       COVERAGE_USER COVERAGE_USER_HIT USERS_IN_GT DIVERSITY_GINI  \\\n",
       "cutoff                                                              \n",
       "10          0.802826          0.410703    0.802826       0.066309   \n",
       "\n",
       "       SHANNON_ENTROPY RATIO_DIVERSITY_HERFINDAHL RATIO_DIVERSITY_GINI  \\\n",
       "cutoff                                                                   \n",
       "10           10.283111                   0.997789             0.191329   \n",
       "\n",
       "       RATIO_SHANNON_ENTROPY RATIO_AVERAGE_POPULARITY RATIO_NOVELTY  \n",
       "cutoff                                                               \n",
       "10                  0.792171                 1.734564       0.30426  \n",
       "\n",
       "[1 rows x 27 columns]"
      ]
     },
     "metadata": {},
     "output_type": "display_data"
    },
    {
     "name": "stdout",
     "output_type": "stream",
     "text": [
      "RP3 beta\n",
      "EvaluatorHoldout: Processed 10456 (100.0%) in 9.02 sec. Users per second: 1159\n"
     ]
    },
    {
     "data": {
      "text/html": [
       "<div>\n",
       "<style scoped>\n",
       "    .dataframe tbody tr th:only-of-type {\n",
       "        vertical-align: middle;\n",
       "    }\n",
       "\n",
       "    .dataframe tbody tr th {\n",
       "        vertical-align: top;\n",
       "    }\n",
       "\n",
       "    .dataframe thead th {\n",
       "        text-align: right;\n",
       "    }\n",
       "</style>\n",
       "<table border=\"1\" class=\"dataframe\">\n",
       "  <thead>\n",
       "    <tr style=\"text-align: right;\">\n",
       "      <th></th>\n",
       "      <th>PRECISION</th>\n",
       "      <th>PRECISION_RECALL_MIN_DEN</th>\n",
       "      <th>RECALL</th>\n",
       "      <th>MAP</th>\n",
       "      <th>MAP_MIN_DEN</th>\n",
       "      <th>MRR</th>\n",
       "      <th>NDCG</th>\n",
       "      <th>F1</th>\n",
       "      <th>HIT_RATE</th>\n",
       "      <th>ARHR_ALL_HITS</th>\n",
       "      <th>...</th>\n",
       "      <th>COVERAGE_USER</th>\n",
       "      <th>COVERAGE_USER_HIT</th>\n",
       "      <th>USERS_IN_GT</th>\n",
       "      <th>DIVERSITY_GINI</th>\n",
       "      <th>SHANNON_ENTROPY</th>\n",
       "      <th>RATIO_DIVERSITY_HERFINDAHL</th>\n",
       "      <th>RATIO_DIVERSITY_GINI</th>\n",
       "      <th>RATIO_SHANNON_ENTROPY</th>\n",
       "      <th>RATIO_AVERAGE_POPULARITY</th>\n",
       "      <th>RATIO_NOVELTY</th>\n",
       "    </tr>\n",
       "    <tr>\n",
       "      <th>cutoff</th>\n",
       "      <th></th>\n",
       "      <th></th>\n",
       "      <th></th>\n",
       "      <th></th>\n",
       "      <th></th>\n",
       "      <th></th>\n",
       "      <th></th>\n",
       "      <th></th>\n",
       "      <th></th>\n",
       "      <th></th>\n",
       "      <th></th>\n",
       "      <th></th>\n",
       "      <th></th>\n",
       "      <th></th>\n",
       "      <th></th>\n",
       "      <th></th>\n",
       "      <th></th>\n",
       "      <th></th>\n",
       "      <th></th>\n",
       "      <th></th>\n",
       "      <th></th>\n",
       "    </tr>\n",
       "  </thead>\n",
       "  <tbody>\n",
       "    <tr>\n",
       "      <th>10</th>\n",
       "      <td>0.095142</td>\n",
       "      <td>0.162942</td>\n",
       "      <td>0.137028</td>\n",
       "      <td>0.049128</td>\n",
       "      <td>0.084213</td>\n",
       "      <td>0.272898</td>\n",
       "      <td>0.150737</td>\n",
       "      <td>0.112306</td>\n",
       "      <td>0.516928</td>\n",
       "      <td>0.361499</td>\n",
       "      <td>...</td>\n",
       "      <td>0.802826</td>\n",
       "      <td>0.415003</td>\n",
       "      <td>0.802826</td>\n",
       "      <td>0.101166</td>\n",
       "      <td>10.971423</td>\n",
       "      <td>0.998795</td>\n",
       "      <td>0.291905</td>\n",
       "      <td>0.845196</td>\n",
       "      <td>1.298409</td>\n",
       "      <td>0.317386</td>\n",
       "    </tr>\n",
       "  </tbody>\n",
       "</table>\n",
       "<p>1 rows × 27 columns</p>\n",
       "</div>"
      ],
      "text/plain": [
       "       PRECISION PRECISION_RECALL_MIN_DEN    RECALL       MAP MAP_MIN_DEN  \\\n",
       "cutoff                                                                      \n",
       "10      0.095142                 0.162942  0.137028  0.049128    0.084213   \n",
       "\n",
       "             MRR      NDCG        F1  HIT_RATE ARHR_ALL_HITS  ...  \\\n",
       "cutoff                                                        ...   \n",
       "10      0.272898  0.150737  0.112306  0.516928      0.361499  ...   \n",
       "\n",
       "       COVERAGE_USER COVERAGE_USER_HIT USERS_IN_GT DIVERSITY_GINI  \\\n",
       "cutoff                                                              \n",
       "10          0.802826          0.415003    0.802826       0.101166   \n",
       "\n",
       "       SHANNON_ENTROPY RATIO_DIVERSITY_HERFINDAHL RATIO_DIVERSITY_GINI  \\\n",
       "cutoff                                                                   \n",
       "10           10.971423                   0.998795             0.291905   \n",
       "\n",
       "       RATIO_SHANNON_ENTROPY RATIO_AVERAGE_POPULARITY RATIO_NOVELTY  \n",
       "cutoff                                                               \n",
       "10                  0.845196                 1.298409      0.317386  \n",
       "\n",
       "[1 rows x 27 columns]"
      ]
     },
     "metadata": {},
     "output_type": "display_data"
    },
    {
     "name": "stdout",
     "output_type": "stream",
     "text": [
      "P3 alpha\n",
      "EvaluatorHoldout: Processed 10456 (100.0%) in 8.74 sec. Users per second: 1197\n"
     ]
    },
    {
     "data": {
      "text/html": [
       "<div>\n",
       "<style scoped>\n",
       "    .dataframe tbody tr th:only-of-type {\n",
       "        vertical-align: middle;\n",
       "    }\n",
       "\n",
       "    .dataframe tbody tr th {\n",
       "        vertical-align: top;\n",
       "    }\n",
       "\n",
       "    .dataframe thead th {\n",
       "        text-align: right;\n",
       "    }\n",
       "</style>\n",
       "<table border=\"1\" class=\"dataframe\">\n",
       "  <thead>\n",
       "    <tr style=\"text-align: right;\">\n",
       "      <th></th>\n",
       "      <th>PRECISION</th>\n",
       "      <th>PRECISION_RECALL_MIN_DEN</th>\n",
       "      <th>RECALL</th>\n",
       "      <th>MAP</th>\n",
       "      <th>MAP_MIN_DEN</th>\n",
       "      <th>MRR</th>\n",
       "      <th>NDCG</th>\n",
       "      <th>F1</th>\n",
       "      <th>HIT_RATE</th>\n",
       "      <th>ARHR_ALL_HITS</th>\n",
       "      <th>...</th>\n",
       "      <th>COVERAGE_USER</th>\n",
       "      <th>COVERAGE_USER_HIT</th>\n",
       "      <th>USERS_IN_GT</th>\n",
       "      <th>DIVERSITY_GINI</th>\n",
       "      <th>SHANNON_ENTROPY</th>\n",
       "      <th>RATIO_DIVERSITY_HERFINDAHL</th>\n",
       "      <th>RATIO_DIVERSITY_GINI</th>\n",
       "      <th>RATIO_SHANNON_ENTROPY</th>\n",
       "      <th>RATIO_AVERAGE_POPULARITY</th>\n",
       "      <th>RATIO_NOVELTY</th>\n",
       "    </tr>\n",
       "    <tr>\n",
       "      <th>cutoff</th>\n",
       "      <th></th>\n",
       "      <th></th>\n",
       "      <th></th>\n",
       "      <th></th>\n",
       "      <th></th>\n",
       "      <th></th>\n",
       "      <th></th>\n",
       "      <th></th>\n",
       "      <th></th>\n",
       "      <th></th>\n",
       "      <th></th>\n",
       "      <th></th>\n",
       "      <th></th>\n",
       "      <th></th>\n",
       "      <th></th>\n",
       "      <th></th>\n",
       "      <th></th>\n",
       "      <th></th>\n",
       "      <th></th>\n",
       "      <th></th>\n",
       "      <th></th>\n",
       "    </tr>\n",
       "  </thead>\n",
       "  <tbody>\n",
       "    <tr>\n",
       "      <th>10</th>\n",
       "      <td>0.091593</td>\n",
       "      <td>0.152423</td>\n",
       "      <td>0.12698</td>\n",
       "      <td>0.047773</td>\n",
       "      <td>0.080793</td>\n",
       "      <td>0.267431</td>\n",
       "      <td>0.144597</td>\n",
       "      <td>0.106422</td>\n",
       "      <td>0.502295</td>\n",
       "      <td>0.352573</td>\n",
       "      <td>...</td>\n",
       "      <td>0.802826</td>\n",
       "      <td>0.403256</td>\n",
       "      <td>0.802826</td>\n",
       "      <td>0.078427</td>\n",
       "      <td>10.652307</td>\n",
       "      <td>0.998415</td>\n",
       "      <td>0.226293</td>\n",
       "      <td>0.820612</td>\n",
       "      <td>1.222502</td>\n",
       "      <td>0.317643</td>\n",
       "    </tr>\n",
       "  </tbody>\n",
       "</table>\n",
       "<p>1 rows × 27 columns</p>\n",
       "</div>"
      ],
      "text/plain": [
       "       PRECISION PRECISION_RECALL_MIN_DEN   RECALL       MAP MAP_MIN_DEN  \\\n",
       "cutoff                                                                     \n",
       "10      0.091593                 0.152423  0.12698  0.047773    0.080793   \n",
       "\n",
       "             MRR      NDCG        F1  HIT_RATE ARHR_ALL_HITS  ...  \\\n",
       "cutoff                                                        ...   \n",
       "10      0.267431  0.144597  0.106422  0.502295      0.352573  ...   \n",
       "\n",
       "       COVERAGE_USER COVERAGE_USER_HIT USERS_IN_GT DIVERSITY_GINI  \\\n",
       "cutoff                                                              \n",
       "10          0.802826          0.403256    0.802826       0.078427   \n",
       "\n",
       "       SHANNON_ENTROPY RATIO_DIVERSITY_HERFINDAHL RATIO_DIVERSITY_GINI  \\\n",
       "cutoff                                                                   \n",
       "10           10.652307                   0.998415             0.226293   \n",
       "\n",
       "       RATIO_SHANNON_ENTROPY RATIO_AVERAGE_POPULARITY RATIO_NOVELTY  \n",
       "cutoff                                                               \n",
       "10                  0.820612                 1.222502      0.317643  \n",
       "\n",
       "[1 rows x 27 columns]"
      ]
     },
     "metadata": {},
     "output_type": "display_data"
    },
    {
     "name": "stdout",
     "output_type": "stream",
     "text": [
      "User KNN\n",
      "EvaluatorHoldout: Processed 10456 (100.0%) in 12.95 sec. Users per second: 808\n"
     ]
    },
    {
     "data": {
      "text/html": [
       "<div>\n",
       "<style scoped>\n",
       "    .dataframe tbody tr th:only-of-type {\n",
       "        vertical-align: middle;\n",
       "    }\n",
       "\n",
       "    .dataframe tbody tr th {\n",
       "        vertical-align: top;\n",
       "    }\n",
       "\n",
       "    .dataframe thead th {\n",
       "        text-align: right;\n",
       "    }\n",
       "</style>\n",
       "<table border=\"1\" class=\"dataframe\">\n",
       "  <thead>\n",
       "    <tr style=\"text-align: right;\">\n",
       "      <th></th>\n",
       "      <th>PRECISION</th>\n",
       "      <th>PRECISION_RECALL_MIN_DEN</th>\n",
       "      <th>RECALL</th>\n",
       "      <th>MAP</th>\n",
       "      <th>MAP_MIN_DEN</th>\n",
       "      <th>MRR</th>\n",
       "      <th>NDCG</th>\n",
       "      <th>F1</th>\n",
       "      <th>HIT_RATE</th>\n",
       "      <th>ARHR_ALL_HITS</th>\n",
       "      <th>...</th>\n",
       "      <th>COVERAGE_USER</th>\n",
       "      <th>COVERAGE_USER_HIT</th>\n",
       "      <th>USERS_IN_GT</th>\n",
       "      <th>DIVERSITY_GINI</th>\n",
       "      <th>SHANNON_ENTROPY</th>\n",
       "      <th>RATIO_DIVERSITY_HERFINDAHL</th>\n",
       "      <th>RATIO_DIVERSITY_GINI</th>\n",
       "      <th>RATIO_SHANNON_ENTROPY</th>\n",
       "      <th>RATIO_AVERAGE_POPULARITY</th>\n",
       "      <th>RATIO_NOVELTY</th>\n",
       "    </tr>\n",
       "    <tr>\n",
       "      <th>cutoff</th>\n",
       "      <th></th>\n",
       "      <th></th>\n",
       "      <th></th>\n",
       "      <th></th>\n",
       "      <th></th>\n",
       "      <th></th>\n",
       "      <th></th>\n",
       "      <th></th>\n",
       "      <th></th>\n",
       "      <th></th>\n",
       "      <th></th>\n",
       "      <th></th>\n",
       "      <th></th>\n",
       "      <th></th>\n",
       "      <th></th>\n",
       "      <th></th>\n",
       "      <th></th>\n",
       "      <th></th>\n",
       "      <th></th>\n",
       "      <th></th>\n",
       "      <th></th>\n",
       "    </tr>\n",
       "  </thead>\n",
       "  <tbody>\n",
       "    <tr>\n",
       "      <th>10</th>\n",
       "      <td>0.07172</td>\n",
       "      <td>0.128756</td>\n",
       "      <td>0.110157</td>\n",
       "      <td>0.035281</td>\n",
       "      <td>0.062836</td>\n",
       "      <td>0.223137</td>\n",
       "      <td>0.116955</td>\n",
       "      <td>0.086877</td>\n",
       "      <td>0.446251</td>\n",
       "      <td>0.278756</td>\n",
       "      <td>...</td>\n",
       "      <td>0.802826</td>\n",
       "      <td>0.358262</td>\n",
       "      <td>0.802826</td>\n",
       "      <td>0.012513</td>\n",
       "      <td>7.842357</td>\n",
       "      <td>0.986392</td>\n",
       "      <td>0.036106</td>\n",
       "      <td>0.604145</td>\n",
       "      <td>3.565726</td>\n",
       "      <td>0.26052</td>\n",
       "    </tr>\n",
       "  </tbody>\n",
       "</table>\n",
       "<p>1 rows × 27 columns</p>\n",
       "</div>"
      ],
      "text/plain": [
       "       PRECISION PRECISION_RECALL_MIN_DEN    RECALL       MAP MAP_MIN_DEN  \\\n",
       "cutoff                                                                      \n",
       "10       0.07172                 0.128756  0.110157  0.035281    0.062836   \n",
       "\n",
       "             MRR      NDCG        F1  HIT_RATE ARHR_ALL_HITS  ...  \\\n",
       "cutoff                                                        ...   \n",
       "10      0.223137  0.116955  0.086877  0.446251      0.278756  ...   \n",
       "\n",
       "       COVERAGE_USER COVERAGE_USER_HIT USERS_IN_GT DIVERSITY_GINI  \\\n",
       "cutoff                                                              \n",
       "10          0.802826          0.358262    0.802826       0.012513   \n",
       "\n",
       "       SHANNON_ENTROPY RATIO_DIVERSITY_HERFINDAHL RATIO_DIVERSITY_GINI  \\\n",
       "cutoff                                                                   \n",
       "10            7.842357                   0.986392             0.036106   \n",
       "\n",
       "       RATIO_SHANNON_ENTROPY RATIO_AVERAGE_POPULARITY RATIO_NOVELTY  \n",
       "cutoff                                                               \n",
       "10                  0.604145                 3.565726       0.26052  \n",
       "\n",
       "[1 rows x 27 columns]"
      ]
     },
     "metadata": {},
     "output_type": "display_data"
    },
    {
     "name": "stdout",
     "output_type": "stream",
     "text": [
      "NMF\n",
      "EvaluatorHoldout: Processed 10456 (100.0%) in 11.05 sec. Users per second: 946\n"
     ]
    },
    {
     "data": {
      "text/html": [
       "<div>\n",
       "<style scoped>\n",
       "    .dataframe tbody tr th:only-of-type {\n",
       "        vertical-align: middle;\n",
       "    }\n",
       "\n",
       "    .dataframe tbody tr th {\n",
       "        vertical-align: top;\n",
       "    }\n",
       "\n",
       "    .dataframe thead th {\n",
       "        text-align: right;\n",
       "    }\n",
       "</style>\n",
       "<table border=\"1\" class=\"dataframe\">\n",
       "  <thead>\n",
       "    <tr style=\"text-align: right;\">\n",
       "      <th></th>\n",
       "      <th>PRECISION</th>\n",
       "      <th>PRECISION_RECALL_MIN_DEN</th>\n",
       "      <th>RECALL</th>\n",
       "      <th>MAP</th>\n",
       "      <th>MAP_MIN_DEN</th>\n",
       "      <th>MRR</th>\n",
       "      <th>NDCG</th>\n",
       "      <th>F1</th>\n",
       "      <th>HIT_RATE</th>\n",
       "      <th>ARHR_ALL_HITS</th>\n",
       "      <th>...</th>\n",
       "      <th>COVERAGE_USER</th>\n",
       "      <th>COVERAGE_USER_HIT</th>\n",
       "      <th>USERS_IN_GT</th>\n",
       "      <th>DIVERSITY_GINI</th>\n",
       "      <th>SHANNON_ENTROPY</th>\n",
       "      <th>RATIO_DIVERSITY_HERFINDAHL</th>\n",
       "      <th>RATIO_DIVERSITY_GINI</th>\n",
       "      <th>RATIO_SHANNON_ENTROPY</th>\n",
       "      <th>RATIO_AVERAGE_POPULARITY</th>\n",
       "      <th>RATIO_NOVELTY</th>\n",
       "    </tr>\n",
       "    <tr>\n",
       "      <th>cutoff</th>\n",
       "      <th></th>\n",
       "      <th></th>\n",
       "      <th></th>\n",
       "      <th></th>\n",
       "      <th></th>\n",
       "      <th></th>\n",
       "      <th></th>\n",
       "      <th></th>\n",
       "      <th></th>\n",
       "      <th></th>\n",
       "      <th></th>\n",
       "      <th></th>\n",
       "      <th></th>\n",
       "      <th></th>\n",
       "      <th></th>\n",
       "      <th></th>\n",
       "      <th></th>\n",
       "      <th></th>\n",
       "      <th></th>\n",
       "      <th></th>\n",
       "      <th></th>\n",
       "    </tr>\n",
       "  </thead>\n",
       "  <tbody>\n",
       "    <tr>\n",
       "      <th>10</th>\n",
       "      <td>0.057967</td>\n",
       "      <td>0.097731</td>\n",
       "      <td>0.081555</td>\n",
       "      <td>0.028482</td>\n",
       "      <td>0.048181</td>\n",
       "      <td>0.186399</td>\n",
       "      <td>0.092178</td>\n",
       "      <td>0.067767</td>\n",
       "      <td>0.373661</td>\n",
       "      <td>0.229016</td>\n",
       "      <td>...</td>\n",
       "      <td>0.802826</td>\n",
       "      <td>0.299985</td>\n",
       "      <td>0.802826</td>\n",
       "      <td>0.014192</td>\n",
       "      <td>8.742706</td>\n",
       "      <td>0.997172</td>\n",
       "      <td>0.040949</td>\n",
       "      <td>0.673504</td>\n",
       "      <td>1.565582</td>\n",
       "      <td>0.283618</td>\n",
       "    </tr>\n",
       "  </tbody>\n",
       "</table>\n",
       "<p>1 rows × 27 columns</p>\n",
       "</div>"
      ],
      "text/plain": [
       "       PRECISION PRECISION_RECALL_MIN_DEN    RECALL       MAP MAP_MIN_DEN  \\\n",
       "cutoff                                                                      \n",
       "10      0.057967                 0.097731  0.081555  0.028482    0.048181   \n",
       "\n",
       "             MRR      NDCG        F1  HIT_RATE ARHR_ALL_HITS  ...  \\\n",
       "cutoff                                                        ...   \n",
       "10      0.186399  0.092178  0.067767  0.373661      0.229016  ...   \n",
       "\n",
       "       COVERAGE_USER COVERAGE_USER_HIT USERS_IN_GT DIVERSITY_GINI  \\\n",
       "cutoff                                                              \n",
       "10          0.802826          0.299985    0.802826       0.014192   \n",
       "\n",
       "       SHANNON_ENTROPY RATIO_DIVERSITY_HERFINDAHL RATIO_DIVERSITY_GINI  \\\n",
       "cutoff                                                                   \n",
       "10            8.742706                   0.997172             0.040949   \n",
       "\n",
       "       RATIO_SHANNON_ENTROPY RATIO_AVERAGE_POPULARITY RATIO_NOVELTY  \n",
       "cutoff                                                               \n",
       "10                  0.673504                 1.565582      0.283618  \n",
       "\n",
       "[1 rows x 27 columns]"
      ]
     },
     "metadata": {},
     "output_type": "display_data"
    },
    {
     "name": "stdout",
     "output_type": "stream",
     "text": [
      "Pure SVD\n",
      "EvaluatorHoldout: Processed 10456 (100.0%) in 10.63 sec. Users per second: 984\n"
     ]
    },
    {
     "data": {
      "text/html": [
       "<div>\n",
       "<style scoped>\n",
       "    .dataframe tbody tr th:only-of-type {\n",
       "        vertical-align: middle;\n",
       "    }\n",
       "\n",
       "    .dataframe tbody tr th {\n",
       "        vertical-align: top;\n",
       "    }\n",
       "\n",
       "    .dataframe thead th {\n",
       "        text-align: right;\n",
       "    }\n",
       "</style>\n",
       "<table border=\"1\" class=\"dataframe\">\n",
       "  <thead>\n",
       "    <tr style=\"text-align: right;\">\n",
       "      <th></th>\n",
       "      <th>PRECISION</th>\n",
       "      <th>PRECISION_RECALL_MIN_DEN</th>\n",
       "      <th>RECALL</th>\n",
       "      <th>MAP</th>\n",
       "      <th>MAP_MIN_DEN</th>\n",
       "      <th>MRR</th>\n",
       "      <th>NDCG</th>\n",
       "      <th>F1</th>\n",
       "      <th>HIT_RATE</th>\n",
       "      <th>ARHR_ALL_HITS</th>\n",
       "      <th>...</th>\n",
       "      <th>COVERAGE_USER</th>\n",
       "      <th>COVERAGE_USER_HIT</th>\n",
       "      <th>USERS_IN_GT</th>\n",
       "      <th>DIVERSITY_GINI</th>\n",
       "      <th>SHANNON_ENTROPY</th>\n",
       "      <th>RATIO_DIVERSITY_HERFINDAHL</th>\n",
       "      <th>RATIO_DIVERSITY_GINI</th>\n",
       "      <th>RATIO_SHANNON_ENTROPY</th>\n",
       "      <th>RATIO_AVERAGE_POPULARITY</th>\n",
       "      <th>RATIO_NOVELTY</th>\n",
       "    </tr>\n",
       "    <tr>\n",
       "      <th>cutoff</th>\n",
       "      <th></th>\n",
       "      <th></th>\n",
       "      <th></th>\n",
       "      <th></th>\n",
       "      <th></th>\n",
       "      <th></th>\n",
       "      <th></th>\n",
       "      <th></th>\n",
       "      <th></th>\n",
       "      <th></th>\n",
       "      <th></th>\n",
       "      <th></th>\n",
       "      <th></th>\n",
       "      <th></th>\n",
       "      <th></th>\n",
       "      <th></th>\n",
       "      <th></th>\n",
       "      <th></th>\n",
       "      <th></th>\n",
       "      <th></th>\n",
       "      <th></th>\n",
       "    </tr>\n",
       "  </thead>\n",
       "  <tbody>\n",
       "    <tr>\n",
       "      <th>10</th>\n",
       "      <td>0.058655</td>\n",
       "      <td>0.100586</td>\n",
       "      <td>0.084556</td>\n",
       "      <td>0.029356</td>\n",
       "      <td>0.049861</td>\n",
       "      <td>0.191304</td>\n",
       "      <td>0.094675</td>\n",
       "      <td>0.069264</td>\n",
       "      <td>0.379112</td>\n",
       "      <td>0.235505</td>\n",
       "      <td>...</td>\n",
       "      <td>0.802826</td>\n",
       "      <td>0.304361</td>\n",
       "      <td>0.802826</td>\n",
       "      <td>0.006201</td>\n",
       "      <td>7.529534</td>\n",
       "      <td>0.992933</td>\n",
       "      <td>0.017892</td>\n",
       "      <td>0.580046</td>\n",
       "      <td>2.618313</td>\n",
       "      <td>0.263304</td>\n",
       "    </tr>\n",
       "  </tbody>\n",
       "</table>\n",
       "<p>1 rows × 27 columns</p>\n",
       "</div>"
      ],
      "text/plain": [
       "       PRECISION PRECISION_RECALL_MIN_DEN    RECALL       MAP MAP_MIN_DEN  \\\n",
       "cutoff                                                                      \n",
       "10      0.058655                 0.100586  0.084556  0.029356    0.049861   \n",
       "\n",
       "             MRR      NDCG        F1  HIT_RATE ARHR_ALL_HITS  ...  \\\n",
       "cutoff                                                        ...   \n",
       "10      0.191304  0.094675  0.069264  0.379112      0.235505  ...   \n",
       "\n",
       "       COVERAGE_USER COVERAGE_USER_HIT USERS_IN_GT DIVERSITY_GINI  \\\n",
       "cutoff                                                              \n",
       "10          0.802826          0.304361    0.802826       0.006201   \n",
       "\n",
       "       SHANNON_ENTROPY RATIO_DIVERSITY_HERFINDAHL RATIO_DIVERSITY_GINI  \\\n",
       "cutoff                                                                   \n",
       "10            7.529534                   0.992933             0.017892   \n",
       "\n",
       "       RATIO_SHANNON_ENTROPY RATIO_AVERAGE_POPULARITY RATIO_NOVELTY  \n",
       "cutoff                                                               \n",
       "10                  0.580046                 2.618313      0.263304  \n",
       "\n",
       "[1 rows x 27 columns]"
      ]
     },
     "metadata": {},
     "output_type": "display_data"
    },
    {
     "name": "stdout",
     "output_type": "stream",
     "text": [
      "Item Pure SVD\n",
      "EvaluatorHoldout: Processed 10456 (100.0%) in 14.55 sec. Users per second: 719\n"
     ]
    },
    {
     "data": {
      "text/html": [
       "<div>\n",
       "<style scoped>\n",
       "    .dataframe tbody tr th:only-of-type {\n",
       "        vertical-align: middle;\n",
       "    }\n",
       "\n",
       "    .dataframe tbody tr th {\n",
       "        vertical-align: top;\n",
       "    }\n",
       "\n",
       "    .dataframe thead th {\n",
       "        text-align: right;\n",
       "    }\n",
       "</style>\n",
       "<table border=\"1\" class=\"dataframe\">\n",
       "  <thead>\n",
       "    <tr style=\"text-align: right;\">\n",
       "      <th></th>\n",
       "      <th>PRECISION</th>\n",
       "      <th>PRECISION_RECALL_MIN_DEN</th>\n",
       "      <th>RECALL</th>\n",
       "      <th>MAP</th>\n",
       "      <th>MAP_MIN_DEN</th>\n",
       "      <th>MRR</th>\n",
       "      <th>NDCG</th>\n",
       "      <th>F1</th>\n",
       "      <th>HIT_RATE</th>\n",
       "      <th>ARHR_ALL_HITS</th>\n",
       "      <th>...</th>\n",
       "      <th>COVERAGE_USER</th>\n",
       "      <th>COVERAGE_USER_HIT</th>\n",
       "      <th>USERS_IN_GT</th>\n",
       "      <th>DIVERSITY_GINI</th>\n",
       "      <th>SHANNON_ENTROPY</th>\n",
       "      <th>RATIO_DIVERSITY_HERFINDAHL</th>\n",
       "      <th>RATIO_DIVERSITY_GINI</th>\n",
       "      <th>RATIO_SHANNON_ENTROPY</th>\n",
       "      <th>RATIO_AVERAGE_POPULARITY</th>\n",
       "      <th>RATIO_NOVELTY</th>\n",
       "    </tr>\n",
       "    <tr>\n",
       "      <th>cutoff</th>\n",
       "      <th></th>\n",
       "      <th></th>\n",
       "      <th></th>\n",
       "      <th></th>\n",
       "      <th></th>\n",
       "      <th></th>\n",
       "      <th></th>\n",
       "      <th></th>\n",
       "      <th></th>\n",
       "      <th></th>\n",
       "      <th></th>\n",
       "      <th></th>\n",
       "      <th></th>\n",
       "      <th></th>\n",
       "      <th></th>\n",
       "      <th></th>\n",
       "      <th></th>\n",
       "      <th></th>\n",
       "      <th></th>\n",
       "      <th></th>\n",
       "      <th></th>\n",
       "    </tr>\n",
       "  </thead>\n",
       "  <tbody>\n",
       "    <tr>\n",
       "      <th>10</th>\n",
       "      <td>0.065599</td>\n",
       "      <td>0.109738</td>\n",
       "      <td>0.091334</td>\n",
       "      <td>0.033326</td>\n",
       "      <td>0.055165</td>\n",
       "      <td>0.209391</td>\n",
       "      <td>0.104188</td>\n",
       "      <td>0.076356</td>\n",
       "      <td>0.402831</td>\n",
       "      <td>0.262119</td>\n",
       "      <td>...</td>\n",
       "      <td>0.802826</td>\n",
       "      <td>0.323403</td>\n",
       "      <td>0.802826</td>\n",
       "      <td>0.019058</td>\n",
       "      <td>9.121761</td>\n",
       "      <td>0.997687</td>\n",
       "      <td>0.054991</td>\n",
       "      <td>0.702705</td>\n",
       "      <td>1.408899</td>\n",
       "      <td>0.291045</td>\n",
       "    </tr>\n",
       "  </tbody>\n",
       "</table>\n",
       "<p>1 rows × 27 columns</p>\n",
       "</div>"
      ],
      "text/plain": [
       "       PRECISION PRECISION_RECALL_MIN_DEN    RECALL       MAP MAP_MIN_DEN  \\\n",
       "cutoff                                                                      \n",
       "10      0.065599                 0.109738  0.091334  0.033326    0.055165   \n",
       "\n",
       "             MRR      NDCG        F1  HIT_RATE ARHR_ALL_HITS  ...  \\\n",
       "cutoff                                                        ...   \n",
       "10      0.209391  0.104188  0.076356  0.402831      0.262119  ...   \n",
       "\n",
       "       COVERAGE_USER COVERAGE_USER_HIT USERS_IN_GT DIVERSITY_GINI  \\\n",
       "cutoff                                                              \n",
       "10          0.802826          0.323403    0.802826       0.019058   \n",
       "\n",
       "       SHANNON_ENTROPY RATIO_DIVERSITY_HERFINDAHL RATIO_DIVERSITY_GINI  \\\n",
       "cutoff                                                                   \n",
       "10            9.121761                   0.997687             0.054991   \n",
       "\n",
       "       RATIO_SHANNON_ENTROPY RATIO_AVERAGE_POPULARITY RATIO_NOVELTY  \n",
       "cutoff                                                               \n",
       "10                  0.702705                 1.408899      0.291045  \n",
       "\n",
       "[1 rows x 27 columns]"
      ]
     },
     "metadata": {},
     "output_type": "display_data"
    },
    {
     "name": "stdout",
     "output_type": "stream",
     "text": [
      "SLIM BPR\n",
      "EvaluatorHoldout: Processed 10456 (100.0%) in 10.46 sec. Users per second: 999\n"
     ]
    },
    {
     "data": {
      "text/html": [
       "<div>\n",
       "<style scoped>\n",
       "    .dataframe tbody tr th:only-of-type {\n",
       "        vertical-align: middle;\n",
       "    }\n",
       "\n",
       "    .dataframe tbody tr th {\n",
       "        vertical-align: top;\n",
       "    }\n",
       "\n",
       "    .dataframe thead th {\n",
       "        text-align: right;\n",
       "    }\n",
       "</style>\n",
       "<table border=\"1\" class=\"dataframe\">\n",
       "  <thead>\n",
       "    <tr style=\"text-align: right;\">\n",
       "      <th></th>\n",
       "      <th>PRECISION</th>\n",
       "      <th>PRECISION_RECALL_MIN_DEN</th>\n",
       "      <th>RECALL</th>\n",
       "      <th>MAP</th>\n",
       "      <th>MAP_MIN_DEN</th>\n",
       "      <th>MRR</th>\n",
       "      <th>NDCG</th>\n",
       "      <th>F1</th>\n",
       "      <th>HIT_RATE</th>\n",
       "      <th>ARHR_ALL_HITS</th>\n",
       "      <th>...</th>\n",
       "      <th>COVERAGE_USER</th>\n",
       "      <th>COVERAGE_USER_HIT</th>\n",
       "      <th>USERS_IN_GT</th>\n",
       "      <th>DIVERSITY_GINI</th>\n",
       "      <th>SHANNON_ENTROPY</th>\n",
       "      <th>RATIO_DIVERSITY_HERFINDAHL</th>\n",
       "      <th>RATIO_DIVERSITY_GINI</th>\n",
       "      <th>RATIO_SHANNON_ENTROPY</th>\n",
       "      <th>RATIO_AVERAGE_POPULARITY</th>\n",
       "      <th>RATIO_NOVELTY</th>\n",
       "    </tr>\n",
       "    <tr>\n",
       "      <th>cutoff</th>\n",
       "      <th></th>\n",
       "      <th></th>\n",
       "      <th></th>\n",
       "      <th></th>\n",
       "      <th></th>\n",
       "      <th></th>\n",
       "      <th></th>\n",
       "      <th></th>\n",
       "      <th></th>\n",
       "      <th></th>\n",
       "      <th></th>\n",
       "      <th></th>\n",
       "      <th></th>\n",
       "      <th></th>\n",
       "      <th></th>\n",
       "      <th></th>\n",
       "      <th></th>\n",
       "      <th></th>\n",
       "      <th></th>\n",
       "      <th></th>\n",
       "      <th></th>\n",
       "    </tr>\n",
       "  </thead>\n",
       "  <tbody>\n",
       "    <tr>\n",
       "      <th>10</th>\n",
       "      <td>0.054524</td>\n",
       "      <td>0.094253</td>\n",
       "      <td>0.079452</td>\n",
       "      <td>0.0259</td>\n",
       "      <td>0.044669</td>\n",
       "      <td>0.176272</td>\n",
       "      <td>0.086926</td>\n",
       "      <td>0.064669</td>\n",
       "      <td>0.36754</td>\n",
       "      <td>0.212465</td>\n",
       "      <td>...</td>\n",
       "      <td>0.802826</td>\n",
       "      <td>0.295071</td>\n",
       "      <td>0.802826</td>\n",
       "      <td>0.034099</td>\n",
       "      <td>9.527262</td>\n",
       "      <td>0.996677</td>\n",
       "      <td>0.098389</td>\n",
       "      <td>0.733943</td>\n",
       "      <td>2.03833</td>\n",
       "      <td>0.294086</td>\n",
       "    </tr>\n",
       "  </tbody>\n",
       "</table>\n",
       "<p>1 rows × 27 columns</p>\n",
       "</div>"
      ],
      "text/plain": [
       "       PRECISION PRECISION_RECALL_MIN_DEN    RECALL     MAP MAP_MIN_DEN  \\\n",
       "cutoff                                                                    \n",
       "10      0.054524                 0.094253  0.079452  0.0259    0.044669   \n",
       "\n",
       "             MRR      NDCG        F1 HIT_RATE ARHR_ALL_HITS  ...  \\\n",
       "cutoff                                                       ...   \n",
       "10      0.176272  0.086926  0.064669  0.36754      0.212465  ...   \n",
       "\n",
       "       COVERAGE_USER COVERAGE_USER_HIT USERS_IN_GT DIVERSITY_GINI  \\\n",
       "cutoff                                                              \n",
       "10          0.802826          0.295071    0.802826       0.034099   \n",
       "\n",
       "       SHANNON_ENTROPY RATIO_DIVERSITY_HERFINDAHL RATIO_DIVERSITY_GINI  \\\n",
       "cutoff                                                                   \n",
       "10            9.527262                   0.996677             0.098389   \n",
       "\n",
       "       RATIO_SHANNON_ENTROPY RATIO_AVERAGE_POPULARITY RATIO_NOVELTY  \n",
       "cutoff                                                               \n",
       "10                  0.733943                  2.03833      0.294086  \n",
       "\n",
       "[1 rows x 27 columns]"
      ]
     },
     "metadata": {},
     "output_type": "display_data"
    },
    {
     "name": "stdout",
     "output_type": "stream",
     "text": [
      "EASE R\n",
      "EvaluatorHoldout: Processed 10456 (100.0%) in 14.20 sec. Users per second: 736\n"
     ]
    },
    {
     "data": {
      "text/html": [
       "<div>\n",
       "<style scoped>\n",
       "    .dataframe tbody tr th:only-of-type {\n",
       "        vertical-align: middle;\n",
       "    }\n",
       "\n",
       "    .dataframe tbody tr th {\n",
       "        vertical-align: top;\n",
       "    }\n",
       "\n",
       "    .dataframe thead th {\n",
       "        text-align: right;\n",
       "    }\n",
       "</style>\n",
       "<table border=\"1\" class=\"dataframe\">\n",
       "  <thead>\n",
       "    <tr style=\"text-align: right;\">\n",
       "      <th></th>\n",
       "      <th>PRECISION</th>\n",
       "      <th>PRECISION_RECALL_MIN_DEN</th>\n",
       "      <th>RECALL</th>\n",
       "      <th>MAP</th>\n",
       "      <th>MAP_MIN_DEN</th>\n",
       "      <th>MRR</th>\n",
       "      <th>NDCG</th>\n",
       "      <th>F1</th>\n",
       "      <th>HIT_RATE</th>\n",
       "      <th>ARHR_ALL_HITS</th>\n",
       "      <th>...</th>\n",
       "      <th>COVERAGE_USER</th>\n",
       "      <th>COVERAGE_USER_HIT</th>\n",
       "      <th>USERS_IN_GT</th>\n",
       "      <th>DIVERSITY_GINI</th>\n",
       "      <th>SHANNON_ENTROPY</th>\n",
       "      <th>RATIO_DIVERSITY_HERFINDAHL</th>\n",
       "      <th>RATIO_DIVERSITY_GINI</th>\n",
       "      <th>RATIO_SHANNON_ENTROPY</th>\n",
       "      <th>RATIO_AVERAGE_POPULARITY</th>\n",
       "      <th>RATIO_NOVELTY</th>\n",
       "    </tr>\n",
       "    <tr>\n",
       "      <th>cutoff</th>\n",
       "      <th></th>\n",
       "      <th></th>\n",
       "      <th></th>\n",
       "      <th></th>\n",
       "      <th></th>\n",
       "      <th></th>\n",
       "      <th></th>\n",
       "      <th></th>\n",
       "      <th></th>\n",
       "      <th></th>\n",
       "      <th></th>\n",
       "      <th></th>\n",
       "      <th></th>\n",
       "      <th></th>\n",
       "      <th></th>\n",
       "      <th></th>\n",
       "      <th></th>\n",
       "      <th></th>\n",
       "      <th></th>\n",
       "      <th></th>\n",
       "      <th></th>\n",
       "    </tr>\n",
       "  </thead>\n",
       "  <tbody>\n",
       "    <tr>\n",
       "      <th>10</th>\n",
       "      <td>0.074857</td>\n",
       "      <td>0.135323</td>\n",
       "      <td>0.116287</td>\n",
       "      <td>0.037511</td>\n",
       "      <td>0.067475</td>\n",
       "      <td>0.233553</td>\n",
       "      <td>0.123573</td>\n",
       "      <td>0.091082</td>\n",
       "      <td>0.459353</td>\n",
       "      <td>0.293884</td>\n",
       "      <td>...</td>\n",
       "      <td>0.802826</td>\n",
       "      <td>0.368781</td>\n",
       "      <td>0.802826</td>\n",
       "      <td>0.019069</td>\n",
       "      <td>8.350538</td>\n",
       "      <td>0.991242</td>\n",
       "      <td>0.055022</td>\n",
       "      <td>0.643293</td>\n",
       "      <td>3.089786</td>\n",
       "      <td>0.267475</td>\n",
       "    </tr>\n",
       "  </tbody>\n",
       "</table>\n",
       "<p>1 rows × 27 columns</p>\n",
       "</div>"
      ],
      "text/plain": [
       "       PRECISION PRECISION_RECALL_MIN_DEN    RECALL       MAP MAP_MIN_DEN  \\\n",
       "cutoff                                                                      \n",
       "10      0.074857                 0.135323  0.116287  0.037511    0.067475   \n",
       "\n",
       "             MRR      NDCG        F1  HIT_RATE ARHR_ALL_HITS  ...  \\\n",
       "cutoff                                                        ...   \n",
       "10      0.233553  0.123573  0.091082  0.459353      0.293884  ...   \n",
       "\n",
       "       COVERAGE_USER COVERAGE_USER_HIT USERS_IN_GT DIVERSITY_GINI  \\\n",
       "cutoff                                                              \n",
       "10          0.802826          0.368781    0.802826       0.019069   \n",
       "\n",
       "       SHANNON_ENTROPY RATIO_DIVERSITY_HERFINDAHL RATIO_DIVERSITY_GINI  \\\n",
       "cutoff                                                                   \n",
       "10            8.350538                   0.991242             0.055022   \n",
       "\n",
       "       RATIO_SHANNON_ENTROPY RATIO_AVERAGE_POPULARITY RATIO_NOVELTY  \n",
       "cutoff                                                               \n",
       "10                  0.643293                 3.089786      0.267475  \n",
       "\n",
       "[1 rows x 27 columns]"
      ]
     },
     "metadata": {},
     "output_type": "display_data"
    },
    {
     "name": "stdout",
     "output_type": "stream",
     "text": [
      "IALS\n",
      "EvaluatorHoldout: Processed 10456 (100.0%) in 14.59 sec. Users per second: 717\n"
     ]
    },
    {
     "data": {
      "text/html": [
       "<div>\n",
       "<style scoped>\n",
       "    .dataframe tbody tr th:only-of-type {\n",
       "        vertical-align: middle;\n",
       "    }\n",
       "\n",
       "    .dataframe tbody tr th {\n",
       "        vertical-align: top;\n",
       "    }\n",
       "\n",
       "    .dataframe thead th {\n",
       "        text-align: right;\n",
       "    }\n",
       "</style>\n",
       "<table border=\"1\" class=\"dataframe\">\n",
       "  <thead>\n",
       "    <tr style=\"text-align: right;\">\n",
       "      <th></th>\n",
       "      <th>PRECISION</th>\n",
       "      <th>PRECISION_RECALL_MIN_DEN</th>\n",
       "      <th>RECALL</th>\n",
       "      <th>MAP</th>\n",
       "      <th>MAP_MIN_DEN</th>\n",
       "      <th>MRR</th>\n",
       "      <th>NDCG</th>\n",
       "      <th>F1</th>\n",
       "      <th>HIT_RATE</th>\n",
       "      <th>ARHR_ALL_HITS</th>\n",
       "      <th>...</th>\n",
       "      <th>COVERAGE_USER</th>\n",
       "      <th>COVERAGE_USER_HIT</th>\n",
       "      <th>USERS_IN_GT</th>\n",
       "      <th>DIVERSITY_GINI</th>\n",
       "      <th>SHANNON_ENTROPY</th>\n",
       "      <th>RATIO_DIVERSITY_HERFINDAHL</th>\n",
       "      <th>RATIO_DIVERSITY_GINI</th>\n",
       "      <th>RATIO_SHANNON_ENTROPY</th>\n",
       "      <th>RATIO_AVERAGE_POPULARITY</th>\n",
       "      <th>RATIO_NOVELTY</th>\n",
       "    </tr>\n",
       "    <tr>\n",
       "      <th>cutoff</th>\n",
       "      <th></th>\n",
       "      <th></th>\n",
       "      <th></th>\n",
       "      <th></th>\n",
       "      <th></th>\n",
       "      <th></th>\n",
       "      <th></th>\n",
       "      <th></th>\n",
       "      <th></th>\n",
       "      <th></th>\n",
       "      <th></th>\n",
       "      <th></th>\n",
       "      <th></th>\n",
       "      <th></th>\n",
       "      <th></th>\n",
       "      <th></th>\n",
       "      <th></th>\n",
       "      <th></th>\n",
       "      <th></th>\n",
       "      <th></th>\n",
       "      <th></th>\n",
       "    </tr>\n",
       "  </thead>\n",
       "  <tbody>\n",
       "    <tr>\n",
       "      <th>10</th>\n",
       "      <td>0.08224</td>\n",
       "      <td>0.144123</td>\n",
       "      <td>0.122645</td>\n",
       "      <td>0.041501</td>\n",
       "      <td>0.071584</td>\n",
       "      <td>0.246255</td>\n",
       "      <td>0.131701</td>\n",
       "      <td>0.098458</td>\n",
       "      <td>0.479055</td>\n",
       "      <td>0.316769</td>\n",
       "      <td>...</td>\n",
       "      <td>0.802826</td>\n",
       "      <td>0.384598</td>\n",
       "      <td>0.802826</td>\n",
       "      <td>0.029074</td>\n",
       "      <td>9.74689</td>\n",
       "      <td>0.998532</td>\n",
       "      <td>0.08389</td>\n",
       "      <td>0.750862</td>\n",
       "      <td>1.599865</td>\n",
       "      <td>0.289534</td>\n",
       "    </tr>\n",
       "  </tbody>\n",
       "</table>\n",
       "<p>1 rows × 27 columns</p>\n",
       "</div>"
      ],
      "text/plain": [
       "       PRECISION PRECISION_RECALL_MIN_DEN    RECALL       MAP MAP_MIN_DEN  \\\n",
       "cutoff                                                                      \n",
       "10       0.08224                 0.144123  0.122645  0.041501    0.071584   \n",
       "\n",
       "             MRR      NDCG        F1  HIT_RATE ARHR_ALL_HITS  ...  \\\n",
       "cutoff                                                        ...   \n",
       "10      0.246255  0.131701  0.098458  0.479055      0.316769  ...   \n",
       "\n",
       "       COVERAGE_USER COVERAGE_USER_HIT USERS_IN_GT DIVERSITY_GINI  \\\n",
       "cutoff                                                              \n",
       "10          0.802826          0.384598    0.802826       0.029074   \n",
       "\n",
       "       SHANNON_ENTROPY RATIO_DIVERSITY_HERFINDAHL RATIO_DIVERSITY_GINI  \\\n",
       "cutoff                                                                   \n",
       "10             9.74689                   0.998532              0.08389   \n",
       "\n",
       "       RATIO_SHANNON_ENTROPY RATIO_AVERAGE_POPULARITY RATIO_NOVELTY  \n",
       "cutoff                                                               \n",
       "10                  0.750862                 1.599865      0.289534  \n",
       "\n",
       "[1 rows x 27 columns]"
      ]
     },
     "metadata": {},
     "output_type": "display_data"
    }
   ],
   "source": [
    "weights = [0.4, 0.4, 0.2]\n",
    "linear_combinator = LinearCombinationRecommender(URM_train, [recommender_item, recommender_rp3, recommender_p3a], weights)\n",
    "evaluator = EvaluatorHoldout(URM_test_complete, cutoff_list=[10])\n",
    "\n",
    "print('Linear Combinator')\n",
    "result_df, _ = evaluator.evaluateRecommender(linear_combinator)\n",
    "display(result_df)\n",
    "print('Merging Models')\n",
    "result_df, _ = evaluator.evaluateRecommender(hybrid_similarity)\n",
    "display(result_df)\n",
    "print('Item KNN')\n",
    "result_df, _ = evaluator.evaluateRecommender(recommender_item)\n",
    "display(result_df)\n",
    "print('RP3 beta')\n",
    "result_df, _ = evaluator.evaluateRecommender(recommender_rp3)\n",
    "display(result_df)\n",
    "print('P3 alpha')\n",
    "result_df, _ = evaluator.evaluateRecommender(recommender_p3a)\n",
    "display(result_df)\n",
    "print('User KNN')\n",
    "result_df, _ = evaluator.evaluateRecommender(recommender_user)\n",
    "display(result_df)\n",
    "print('NMF')\n",
    "result_df, _ = evaluator.evaluateRecommender(recommender_nmf)\n",
    "display(result_df)\n",
    "print('Pure SVD')\n",
    "result_df, _ = evaluator.evaluateRecommender(recommender_pure_svd)\n",
    "display(result_df)\n",
    "print('Item Pure SVD')\n",
    "result_df, _ = evaluator.evaluateRecommender(recommender_pure_svd_item)\n",
    "display(result_df)\n",
    "print('SLIM BPR')\n",
    "result_df, _ = evaluator.evaluateRecommender(recommender_slim_bpr)\n",
    "display(result_df)\n",
    "print('EASE R')\n",
    "result_df, _ = evaluator.evaluateRecommender(recommender_ease_r)\n",
    "display(result_df)\n",
    "print('IALS')\n",
    "result_df, _ = evaluator.evaluateRecommender(recommender_ials)\n",
    "display(result_df)"
   ]
  },
  {
   "cell_type": "code",
   "execution_count": 23,
   "id": "7a9c240f",
   "metadata": {
    "execution": {
     "iopub.execute_input": "2023-12-01T21:05:12.580615Z",
     "iopub.status.busy": "2023-12-01T21:05:12.580212Z",
     "iopub.status.idle": "2023-12-01T21:05:57.165890Z",
     "shell.execute_reply": "2023-12-01T21:05:57.164529Z"
    },
    "papermill": {
     "duration": 44.620732,
     "end_time": "2023-12-01T21:05:57.168728",
     "exception": false,
     "start_time": "2023-12-01T21:05:12.547996",
     "status": "completed"
    },
    "tags": []
   },
   "outputs": [
    {
     "name": "stdout",
     "output_type": "stream",
     "text": [
      "Recommender_Base_Class: URM Detected 627 ( 4.8%) users with no interactions.\n",
      "Recommender_Base_Class: URM Detected 247 ( 1.1%) items with no interactions.\n",
      "EvaluatorHoldout: Ignoring 2568 (19.7%) Users that have less than 1 test interactions\n",
      "EvaluatorHoldout: Processed 10456 (100.0%) in 44.52 sec. Users per second: 235\n"
     ]
    },
    {
     "data": {
      "text/html": [
       "<div>\n",
       "<style scoped>\n",
       "    .dataframe tbody tr th:only-of-type {\n",
       "        vertical-align: middle;\n",
       "    }\n",
       "\n",
       "    .dataframe tbody tr th {\n",
       "        vertical-align: top;\n",
       "    }\n",
       "\n",
       "    .dataframe thead th {\n",
       "        text-align: right;\n",
       "    }\n",
       "</style>\n",
       "<table border=\"1\" class=\"dataframe\">\n",
       "  <thead>\n",
       "    <tr style=\"text-align: right;\">\n",
       "      <th></th>\n",
       "      <th>PRECISION</th>\n",
       "      <th>PRECISION_RECALL_MIN_DEN</th>\n",
       "      <th>RECALL</th>\n",
       "      <th>MAP</th>\n",
       "      <th>MAP_MIN_DEN</th>\n",
       "      <th>MRR</th>\n",
       "      <th>NDCG</th>\n",
       "      <th>F1</th>\n",
       "      <th>HIT_RATE</th>\n",
       "      <th>ARHR_ALL_HITS</th>\n",
       "      <th>...</th>\n",
       "      <th>COVERAGE_USER</th>\n",
       "      <th>COVERAGE_USER_HIT</th>\n",
       "      <th>USERS_IN_GT</th>\n",
       "      <th>DIVERSITY_GINI</th>\n",
       "      <th>SHANNON_ENTROPY</th>\n",
       "      <th>RATIO_DIVERSITY_HERFINDAHL</th>\n",
       "      <th>RATIO_DIVERSITY_GINI</th>\n",
       "      <th>RATIO_SHANNON_ENTROPY</th>\n",
       "      <th>RATIO_AVERAGE_POPULARITY</th>\n",
       "      <th>RATIO_NOVELTY</th>\n",
       "    </tr>\n",
       "    <tr>\n",
       "      <th>cutoff</th>\n",
       "      <th></th>\n",
       "      <th></th>\n",
       "      <th></th>\n",
       "      <th></th>\n",
       "      <th></th>\n",
       "      <th></th>\n",
       "      <th></th>\n",
       "      <th></th>\n",
       "      <th></th>\n",
       "      <th></th>\n",
       "      <th></th>\n",
       "      <th></th>\n",
       "      <th></th>\n",
       "      <th></th>\n",
       "      <th></th>\n",
       "      <th></th>\n",
       "      <th></th>\n",
       "      <th></th>\n",
       "      <th></th>\n",
       "      <th></th>\n",
       "      <th></th>\n",
       "    </tr>\n",
       "  </thead>\n",
       "  <tbody>\n",
       "    <tr>\n",
       "      <th>10</th>\n",
       "      <td>0.098336</td>\n",
       "      <td>0.170432</td>\n",
       "      <td>0.14415</td>\n",
       "      <td>0.050739</td>\n",
       "      <td>0.087288</td>\n",
       "      <td>0.278079</td>\n",
       "      <td>0.155784</td>\n",
       "      <td>0.116915</td>\n",
       "      <td>0.52764</td>\n",
       "      <td>0.370649</td>\n",
       "      <td>...</td>\n",
       "      <td>0.802826</td>\n",
       "      <td>0.423603</td>\n",
       "      <td>0.802826</td>\n",
       "      <td>0.066581</td>\n",
       "      <td>10.320409</td>\n",
       "      <td>0.997785</td>\n",
       "      <td>0.192112</td>\n",
       "      <td>0.795044</td>\n",
       "      <td>1.78556</td>\n",
       "      <td>0.300156</td>\n",
       "    </tr>\n",
       "  </tbody>\n",
       "</table>\n",
       "<p>1 rows × 27 columns</p>\n",
       "</div>"
      ],
      "text/plain": [
       "       PRECISION PRECISION_RECALL_MIN_DEN   RECALL       MAP MAP_MIN_DEN  \\\n",
       "cutoff                                                                     \n",
       "10      0.098336                 0.170432  0.14415  0.050739    0.087288   \n",
       "\n",
       "             MRR      NDCG        F1 HIT_RATE ARHR_ALL_HITS  ...  \\\n",
       "cutoff                                                       ...   \n",
       "10      0.278079  0.155784  0.116915  0.52764      0.370649  ...   \n",
       "\n",
       "       COVERAGE_USER COVERAGE_USER_HIT USERS_IN_GT DIVERSITY_GINI  \\\n",
       "cutoff                                                              \n",
       "10          0.802826          0.423603    0.802826       0.066581   \n",
       "\n",
       "       SHANNON_ENTROPY RATIO_DIVERSITY_HERFINDAHL RATIO_DIVERSITY_GINI  \\\n",
       "cutoff                                                                   \n",
       "10           10.320409                   0.997785             0.192112   \n",
       "\n",
       "       RATIO_SHANNON_ENTROPY RATIO_AVERAGE_POPULARITY RATIO_NOVELTY  \n",
       "cutoff                                                               \n",
       "10                  0.795044                  1.78556      0.300156  \n",
       "\n",
       "[1 rows x 27 columns]"
      ]
     },
     "metadata": {},
     "output_type": "display_data"
    }
   ],
   "source": [
    "weights = [0.5, 0.8, 0.8, 0.1, 0.05, 0.01, 0.005, 0.005, 0.005]\n",
    "recommenders = [recommender_item, recommender_rp3, recommender_p3a, recommender_ials, recommender_ease_r, recommender_user, recommender_pure_svd_item, recommender_nmf, recommender_slim_bpr]\n",
    "linear_combinator = LinearCombinationRecommender(URM_train, recommenders, weights)\n",
    "evaluator = EvaluatorHoldout(URM_test_complete, cutoff_list=[10])\n",
    "result_df, _ = evaluator.evaluateRecommender(linear_combinator)\n",
    "display(result_df)"
   ]
  },
  {
   "cell_type": "code",
   "execution_count": 24,
   "id": "31044c97",
   "metadata": {
    "execution": {
     "iopub.execute_input": "2023-12-01T21:05:57.234348Z",
     "iopub.status.busy": "2023-12-01T21:05:57.233347Z",
     "iopub.status.idle": "2023-12-01T21:05:57.252102Z",
     "shell.execute_reply": "2023-12-01T21:05:57.250154Z"
    },
    "papermill": {
     "duration": 0.055504,
     "end_time": "2023-12-01T21:05:57.254996",
     "exception": false,
     "start_time": "2023-12-01T21:05:57.199492",
     "status": "completed"
    },
    "tags": []
   },
   "outputs": [
    {
     "name": "stdout",
     "output_type": "stream",
     "text": [
      "EvaluatorHoldout: Ignoring 2568 (19.7%) Users that have less than 1 test interactions\n"
     ]
    }
   ],
   "source": [
    "evaluator = EvaluatorHoldout(URM_test_complete, cutoff_list=[10])\n",
    "\n",
    "def objective(trial):\n",
    "    weights = [\n",
    "        trial.suggest_float('item_knn', 1e-2, 1, log=True),\n",
    "        trial.suggest_float('rp3', 1e-2, 1, log=True),\n",
    "        trial.suggest_float('p3alpha', 1e-2, 1, log=True),\n",
    "        trial.suggest_float('ials', 5e-3, 1, log=True),\n",
    "        trial.suggest_float('ease_r', 1e-3, 1, log=True),\n",
    "        trial.suggest_float('user_knn', 1e-3, 1, log=True),\n",
    "        trial.suggest_float('svd_item', 1e-4, 1, log=True),\n",
    "        trial.suggest_float('nmf', 1e-5, 1, log=True),\n",
    "        trial.suggest_float('slim_bpr', 1e-5, 1, log=True)\n",
    "    ]\n",
    "    \n",
    "    recommenders = [\n",
    "        recommender_item, recommender_rp3, recommender_p3a, recommender_ials, recommender_ease_r, \n",
    "        recommender_user, recommender_pure_svd_item, recommender_nmf, recommender_slim_bpr\n",
    "    ]\n",
    "    \n",
    "    linear_combinator = LinearCombinationRecommender(URM_train, recommenders, weights)\n",
    "    evaluator = EvaluatorHoldout(URM_test_complete, cutoff_list=[10])\n",
    "    result_df, _ = evaluator.evaluateRecommender(linear_combinator)\n",
    "\n",
    "    return result_df.loc[10, 'MAP']"
   ]
  },
  {
   "cell_type": "code",
   "execution_count": 25,
   "id": "79fa3bce",
   "metadata": {
    "execution": {
     "iopub.execute_input": "2023-12-01T21:05:57.325878Z",
     "iopub.status.busy": "2023-12-01T21:05:57.325044Z",
     "iopub.status.idle": "2023-12-01T21:05:57.331030Z",
     "shell.execute_reply": "2023-12-01T21:05:57.330203Z"
    },
    "papermill": {
     "duration": 0.046052,
     "end_time": "2023-12-01T21:05:57.333437",
     "exception": false,
     "start_time": "2023-12-01T21:05:57.287385",
     "status": "completed"
    },
    "tags": []
   },
   "outputs": [],
   "source": [
    "# def evaluate_linear_model(URM_train, URM_valid, weights):\n",
    "#     recommender_item = ItemKNNCFRecommender(URM_train)\n",
    "#     recommender_item.fit(**params_item_knn)\n",
    "\n",
    "#     recommender_rp3 = RP3betaRecommender(URM_train)\n",
    "#     recommender_rp3.fit(**params_rp3)\n",
    "    \n",
    "#     recommender_p3a = P3alphaRecommender(URM_train)\n",
    "#     recommender_p3a.fit(**params_p3alpha)\n",
    "    \n",
    "#     linear_combinator = LinearCombinationRecommender(URM_train, [recommender_item, recommender_rp3, recommender_p3a], weights)    \n",
    "#     evaluator = EvaluatorHoldout(URM_valid, cutoff_list=[10])\n",
    "#     result_df, _ = evaluator.evaluateRecommender(linear_combinator)\n",
    "#     return result_df.loc[10, 'MAP']\n",
    "\n",
    "# def objective(trial):\n",
    "#     w1 = trial.suggest_float('w1', 0.01, 0.99)\n",
    "#     w2 = trial.suggest_float('w2', 0.01, 0.99)\n",
    "#     w3 = trial.suggest_float('w3', 0.01, 0.99)\n",
    "    \n",
    "#     results = [None] * 10\n",
    "#     with ThreadPoolExecutor(max_workers=10) as executor:\n",
    "#         futures = []\n",
    "#         for URM_train, URM_valid in CrossValidationSplitter(10).split(URM_all):\n",
    "#             futures.append(\n",
    "#                 executor.submit(evaluate_linear_model, URM_train, URM_valid, [w1, w2, w3])\n",
    "#             )\n",
    "#         for i, future in enumerate(futures):\n",
    "#             results[i] = future.result()\n",
    "#     return np.mean(results)"
   ]
  },
  {
   "cell_type": "code",
   "execution_count": 26,
   "id": "381c4242",
   "metadata": {
    "execution": {
     "iopub.execute_input": "2023-12-01T21:05:57.397749Z",
     "iopub.status.busy": "2023-12-01T21:05:57.396934Z",
     "iopub.status.idle": "2023-12-01T21:05:57.403348Z",
     "shell.execute_reply": "2023-12-01T21:05:57.402425Z"
    },
    "papermill": {
     "duration": 0.042252,
     "end_time": "2023-12-01T21:05:57.406184",
     "exception": false,
     "start_time": "2023-12-01T21:05:57.363932",
     "status": "completed"
    },
    "tags": []
   },
   "outputs": [],
   "source": [
    "try:\n",
    "    shutil.copyfile(\n",
    "        '/kaggle/working/Recsys_Challenge_2023/tuning_results/tuning_hybrid_merging.db', \n",
    "        config['database_path']\n",
    "    )\n",
    "except FileNotFoundError:\n",
    "    pass"
   ]
  },
  {
   "cell_type": "code",
   "execution_count": 27,
   "id": "6da8b42a",
   "metadata": {
    "execution": {
     "iopub.execute_input": "2023-12-01T21:05:57.473233Z",
     "iopub.status.busy": "2023-12-01T21:05:57.472482Z",
     "iopub.status.idle": "2023-12-01T22:21:21.589979Z",
     "shell.execute_reply": "2023-12-01T22:21:21.588358Z"
    },
    "papermill": {
     "duration": 4524.155479,
     "end_time": "2023-12-01T22:21:21.594571",
     "exception": false,
     "start_time": "2023-12-01T21:05:57.439092",
     "status": "completed"
    },
    "tags": []
   },
   "outputs": [
    {
     "name": "stderr",
     "output_type": "stream",
     "text": [
      "[I 2023-12-01 21:05:57,964] A new study created in RDB with name: hyperparameters_tuning_linear_9models_no_cv\n"
     ]
    },
    {
     "name": "stdout",
     "output_type": "stream",
     "text": [
      "Recommender_Base_Class: URM Detected 627 ( 4.8%) users with no interactions.\n",
      "Recommender_Base_Class: URM Detected 247 ( 1.1%) items with no interactions.\n",
      "EvaluatorHoldout: Ignoring 2568 (19.7%) Users that have less than 1 test interactions\n",
      "EvaluatorHoldout: Processed 10456 (100.0%) in 45.44 sec. Users per second: 230\n"
     ]
    },
    {
     "name": "stderr",
     "output_type": "stream",
     "text": [
      "[I 2023-12-01 21:06:43,712] Trial 0 finished with value: 0.04836037787979314 and parameters: {'item_knn': 0.03572328178995846, 'rp3': 0.02390615690774205, 'p3alpha': 0.6081818561861205, 'ials': 0.5617459182259633, 'ease_r': 0.0028037839986746775, 'user_knn': 0.010765016394012578, 'svd_item': 0.003065813794054327, 'nmf': 0.02326120304160313, 'slim_bpr': 0.001670813746134162}. Best is trial 0 with value: 0.04836037787979314.\n"
     ]
    },
    {
     "name": "stdout",
     "output_type": "stream",
     "text": [
      "Recommender_Base_Class: URM Detected 627 ( 4.8%) users with no interactions.\n",
      "Recommender_Base_Class: URM Detected 247 ( 1.1%) items with no interactions.\n",
      "EvaluatorHoldout: Ignoring 2568 (19.7%) Users that have less than 1 test interactions\n",
      "EvaluatorHoldout: Processed 10456 (100.0%) in 44.93 sec. Users per second: 233\n"
     ]
    },
    {
     "name": "stderr",
     "output_type": "stream",
     "text": [
      "[I 2023-12-01 21:07:28,900] Trial 1 finished with value: 0.048550334887845256 and parameters: {'item_knn': 0.011422927419032808, 'rp3': 0.6468714333418365, 'p3alpha': 0.09019859693246099, 'ials': 0.7968942755605112, 'ease_r': 0.08521752402240347, 'user_knn': 0.00251313736056368, 'svd_item': 0.007170132846352929, 'nmf': 0.0010787764557911843, 'slim_bpr': 6.953173797203158e-05}. Best is trial 1 with value: 0.048550334887845256.\n"
     ]
    },
    {
     "name": "stdout",
     "output_type": "stream",
     "text": [
      "Recommender_Base_Class: URM Detected 627 ( 4.8%) users with no interactions.\n",
      "Recommender_Base_Class: URM Detected 247 ( 1.1%) items with no interactions.\n",
      "EvaluatorHoldout: Ignoring 2568 (19.7%) Users that have less than 1 test interactions\n",
      "EvaluatorHoldout: Processed 10456 (100.0%) in 44.76 sec. Users per second: 234\n"
     ]
    },
    {
     "name": "stderr",
     "output_type": "stream",
     "text": [
      "[I 2023-12-01 21:08:13,911] Trial 2 finished with value: 0.04552857173218748 and parameters: {'item_knn': 0.5568077248147941, 'rp3': 0.03150651402877223, 'p3alpha': 0.012569388249672917, 'ials': 0.012092978925546328, 'ease_r': 0.060165846881777556, 'user_knn': 0.018713266014041437, 'svd_item': 0.00021121959195984316, 'nmf': 0.5943587263972969, 'slim_bpr': 0.006210821497820431}. Best is trial 1 with value: 0.048550334887845256.\n"
     ]
    },
    {
     "name": "stdout",
     "output_type": "stream",
     "text": [
      "Recommender_Base_Class: URM Detected 627 ( 4.8%) users with no interactions.\n",
      "Recommender_Base_Class: URM Detected 247 ( 1.1%) items with no interactions.\n",
      "EvaluatorHoldout: Ignoring 2568 (19.7%) Users that have less than 1 test interactions\n",
      "EvaluatorHoldout: Processed 10456 (100.0%) in 44.63 sec. Users per second: 234\n"
     ]
    },
    {
     "name": "stderr",
     "output_type": "stream",
     "text": [
      "[I 2023-12-01 21:08:58,791] Trial 3 finished with value: 0.04965483097727802 and parameters: {'item_knn': 0.038906694850623195, 'rp3': 0.17432262714608476, 'p3alpha': 0.6948684118452363, 'ials': 0.0158335102294291, 'ease_r': 0.0017216032358426895, 'user_knn': 0.0012119792254833227, 'svd_item': 0.00010374823617082924, 'nmf': 0.002318723672084805, 'slim_bpr': 0.00018290881757613347}. Best is trial 3 with value: 0.04965483097727802.\n"
     ]
    },
    {
     "name": "stdout",
     "output_type": "stream",
     "text": [
      "Recommender_Base_Class: URM Detected 627 ( 4.8%) users with no interactions.\n",
      "Recommender_Base_Class: URM Detected 247 ( 1.1%) items with no interactions.\n",
      "EvaluatorHoldout: Ignoring 2568 (19.7%) Users that have less than 1 test interactions\n",
      "EvaluatorHoldout: Processed 10456 (100.0%) in 44.83 sec. Users per second: 233\n"
     ]
    },
    {
     "name": "stderr",
     "output_type": "stream",
     "text": [
      "[I 2023-12-01 21:09:43,874] Trial 4 finished with value: 0.0504466486926325 and parameters: {'item_knn': 0.19729236116552198, 'rp3': 0.368048588377516, 'p3alpha': 0.07869134486925304, 'ials': 0.006654688133233021, 'ease_r': 0.001848876455080731, 'user_knn': 0.0020000160320504277, 'svd_item': 0.003717052601565515, 'nmf': 4.2793348850119624e-05, 'slim_bpr': 0.0016738181924930116}. Best is trial 4 with value: 0.0504466486926325.\n"
     ]
    },
    {
     "name": "stdout",
     "output_type": "stream",
     "text": [
      "Recommender_Base_Class: URM Detected 627 ( 4.8%) users with no interactions.\n",
      "Recommender_Base_Class: URM Detected 247 ( 1.1%) items with no interactions.\n",
      "EvaluatorHoldout: Ignoring 2568 (19.7%) Users that have less than 1 test interactions\n",
      "EvaluatorHoldout: Processed 10456 (100.0%) in 44.35 sec. Users per second: 236\n"
     ]
    },
    {
     "name": "stderr",
     "output_type": "stream",
     "text": [
      "[I 2023-12-01 21:10:28,475] Trial 5 finished with value: 0.028193749924096293 and parameters: {'item_knn': 0.1977075284101452, 'rp3': 0.030914597871730266, 'p3alpha': 0.03809614785375388, 'ials': 0.47517565659461286, 'ease_r': 0.1748216115221295, 'user_knn': 0.0034287117519856826, 'svd_item': 0.00034050554583806865, 'nmf': 0.00020519025620129199, 'slim_bpr': 0.7819971055093987}. Best is trial 4 with value: 0.0504466486926325.\n"
     ]
    },
    {
     "name": "stdout",
     "output_type": "stream",
     "text": [
      "Recommender_Base_Class: URM Detected 627 ( 4.8%) users with no interactions.\n",
      "Recommender_Base_Class: URM Detected 247 ( 1.1%) items with no interactions.\n",
      "EvaluatorHoldout: Ignoring 2568 (19.7%) Users that have less than 1 test interactions\n",
      "EvaluatorHoldout: Processed 10456 (100.0%) in 44.31 sec. Users per second: 236\n"
     ]
    },
    {
     "name": "stderr",
     "output_type": "stream",
     "text": [
      "[I 2023-12-01 21:11:13,042] Trial 6 finished with value: 0.048468924199366714 and parameters: {'item_knn': 0.7485501856759903, 'rp3': 0.08675096867865317, 'p3alpha': 0.26566769450227595, 'ials': 0.7658434077036226, 'ease_r': 0.029393582856725897, 'user_knn': 0.007962245606100952, 'svd_item': 0.6953425748164306, 'nmf': 5.98320082673058e-05, 'slim_bpr': 0.000654378659132168}. Best is trial 4 with value: 0.0504466486926325.\n"
     ]
    },
    {
     "name": "stdout",
     "output_type": "stream",
     "text": [
      "Recommender_Base_Class: URM Detected 627 ( 4.8%) users with no interactions.\n",
      "Recommender_Base_Class: URM Detected 247 ( 1.1%) items with no interactions.\n",
      "EvaluatorHoldout: Ignoring 2568 (19.7%) Users that have less than 1 test interactions\n",
      "EvaluatorHoldout: Processed 10456 (100.0%) in 43.87 sec. Users per second: 238\n"
     ]
    },
    {
     "name": "stderr",
     "output_type": "stream",
     "text": [
      "[I 2023-12-01 21:11:57,174] Trial 7 finished with value: 0.043035368923137196 and parameters: {'item_knn': 0.23817852973661127, 'rp3': 0.7853822831644891, 'p3alpha': 0.07286494919031004, 'ials': 0.11921934400761526, 'ease_r': 0.01743182807474192, 'user_knn': 0.43402708064884743, 'svd_item': 0.044943946406415136, 'nmf': 0.0075563959589482095, 'slim_bpr': 0.02774374928694109}. Best is trial 4 with value: 0.0504466486926325.\n"
     ]
    },
    {
     "name": "stdout",
     "output_type": "stream",
     "text": [
      "Recommender_Base_Class: URM Detected 627 ( 4.8%) users with no interactions.\n",
      "Recommender_Base_Class: URM Detected 247 ( 1.1%) items with no interactions.\n",
      "EvaluatorHoldout: Ignoring 2568 (19.7%) Users that have less than 1 test interactions\n",
      "EvaluatorHoldout: Processed 10456 (100.0%) in 44.16 sec. Users per second: 237\n"
     ]
    },
    {
     "name": "stderr",
     "output_type": "stream",
     "text": [
      "[I 2023-12-01 21:12:41,582] Trial 8 finished with value: 0.043514637300980555 and parameters: {'item_knn': 0.09442147896553992, 'rp3': 0.5223434158880157, 'p3alpha': 0.49439041170339243, 'ials': 0.014705635385199773, 'ease_r': 0.8083684826032506, 'user_knn': 0.292819398663698, 'svd_item': 0.0001281325724667092, 'nmf': 0.00039533903846034643, 'slim_bpr': 1.6179667884845694e-05}. Best is trial 4 with value: 0.0504466486926325.\n"
     ]
    },
    {
     "name": "stdout",
     "output_type": "stream",
     "text": [
      "Recommender_Base_Class: URM Detected 627 ( 4.8%) users with no interactions.\n",
      "Recommender_Base_Class: URM Detected 247 ( 1.1%) items with no interactions.\n",
      "EvaluatorHoldout: Ignoring 2568 (19.7%) Users that have less than 1 test interactions\n",
      "EvaluatorHoldout: Processed 10456 (100.0%) in 44.04 sec. Users per second: 237\n"
     ]
    },
    {
     "name": "stderr",
     "output_type": "stream",
     "text": [
      "[I 2023-12-01 21:13:25,874] Trial 9 finished with value: 0.04124737372633372 and parameters: {'item_knn': 0.019448982422504466, 'rp3': 0.049153088938949305, 'p3alpha': 0.011543460285160269, 'ials': 0.15951647212186162, 'ease_r': 0.7207797643247482, 'user_knn': 0.09283580539215723, 'svd_item': 0.057764243911033145, 'nmf': 0.09202587815796921, 'slim_bpr': 0.0003896680493536347}. Best is trial 4 with value: 0.0504466486926325.\n"
     ]
    },
    {
     "name": "stdout",
     "output_type": "stream",
     "text": [
      "Recommender_Base_Class: URM Detected 627 ( 4.8%) users with no interactions.\n",
      "Recommender_Base_Class: URM Detected 247 ( 1.1%) items with no interactions.\n",
      "EvaluatorHoldout: Ignoring 2568 (19.7%) Users that have less than 1 test interactions\n",
      "EvaluatorHoldout: Processed 10456 (100.0%) in 43.95 sec. Users per second: 238\n"
     ]
    },
    {
     "name": "stderr",
     "output_type": "stream",
     "text": [
      "[I 2023-12-01 21:14:10,165] Trial 10 finished with value: 0.048018172902928806 and parameters: {'item_knn': 0.11516077986686629, 'rp3': 0.2634385599644888, 'p3alpha': 0.20336669081339062, 'ials': 0.006908855696165005, 'ease_r': 0.006173676514503098, 'user_knn': 0.0010810136867795022, 'svd_item': 0.0016204775898565511, 'nmf': 1.0797648941085435e-05, 'slim_bpr': 0.01934445426352195}. Best is trial 4 with value: 0.0504466486926325.\n"
     ]
    },
    {
     "name": "stdout",
     "output_type": "stream",
     "text": [
      "Recommender_Base_Class: URM Detected 627 ( 4.8%) users with no interactions.\n",
      "Recommender_Base_Class: URM Detected 247 ( 1.1%) items with no interactions.\n",
      "EvaluatorHoldout: Ignoring 2568 (19.7%) Users that have less than 1 test interactions\n",
      "EvaluatorHoldout: Processed 10456 (100.0%) in 44.16 sec. Users per second: 237\n"
     ]
    },
    {
     "name": "stderr",
     "output_type": "stream",
     "text": [
      "[I 2023-12-01 21:14:54,647] Trial 11 finished with value: 0.049475978704412706 and parameters: {'item_knn': 0.045987365111383016, 'rp3': 0.2137456526220226, 'p3alpha': 0.9938709721128799, 'ials': 0.025641266967899486, 'ease_r': 0.0014845170520272257, 'user_knn': 0.001251112101846414, 'svd_item': 0.0010000594225859935, 'nmf': 0.0026887919317844845, 'slim_bpr': 0.00012706636078203064}. Best is trial 4 with value: 0.0504466486926325.\n"
     ]
    },
    {
     "name": "stdout",
     "output_type": "stream",
     "text": [
      "Recommender_Base_Class: URM Detected 627 ( 4.8%) users with no interactions.\n",
      "Recommender_Base_Class: URM Detected 247 ( 1.1%) items with no interactions.\n",
      "EvaluatorHoldout: Ignoring 2568 (19.7%) Users that have less than 1 test interactions\n",
      "EvaluatorHoldout: Processed 10456 (100.0%) in 45.26 sec. Users per second: 231\n"
     ]
    },
    {
     "name": "stderr",
     "output_type": "stream",
     "text": [
      "[I 2023-12-01 21:15:40,210] Trial 12 finished with value: 0.05035116163272319 and parameters: {'item_knn': 0.05222968815841211, 'rp3': 0.20140204248288843, 'p3alpha': 0.19012101877047521, 'ials': 0.0050478806393681646, 'ease_r': 0.0014308380316874398, 'user_knn': 0.0047344030440810425, 'svd_item': 0.0006516310749184617, 'nmf': 8.554503915498649e-05, 'slim_bpr': 2.237996037726439e-05}. Best is trial 4 with value: 0.0504466486926325.\n"
     ]
    },
    {
     "name": "stdout",
     "output_type": "stream",
     "text": [
      "Recommender_Base_Class: URM Detected 627 ( 4.8%) users with no interactions.\n",
      "Recommender_Base_Class: URM Detected 247 ( 1.1%) items with no interactions.\n",
      "EvaluatorHoldout: Ignoring 2568 (19.7%) Users that have less than 1 test interactions\n",
      "EvaluatorHoldout: Processed 10456 (100.0%) in 44.48 sec. Users per second: 235\n"
     ]
    },
    {
     "name": "stderr",
     "output_type": "stream",
     "text": [
      "[I 2023-12-01 21:16:25,011] Trial 13 finished with value: 0.0503336923586069 and parameters: {'item_knn': 0.34604968294241056, 'rp3': 0.3489129090001232, 'p3alpha': 0.1579564312906556, 'ials': 0.005975441930471273, 'ease_r': 0.004892367008465382, 'user_knn': 0.0047584773076287945, 'svd_item': 0.0008425072832320042, 'nmf': 3.0656569653139065e-05, 'slim_bpr': 1.1661084958287237e-05}. Best is trial 4 with value: 0.0504466486926325.\n"
     ]
    },
    {
     "name": "stdout",
     "output_type": "stream",
     "text": [
      "Recommender_Base_Class: URM Detected 627 ( 4.8%) users with no interactions.\n",
      "Recommender_Base_Class: URM Detected 247 ( 1.1%) items with no interactions.\n",
      "EvaluatorHoldout: Ignoring 2568 (19.7%) Users that have less than 1 test interactions\n",
      "EvaluatorHoldout: Processed 10456 (100.0%) in 44.03 sec. Users per second: 237\n"
     ]
    },
    {
     "name": "stderr",
     "output_type": "stream",
     "text": [
      "[I 2023-12-01 21:17:09,363] Trial 14 finished with value: 0.04580949572509504 and parameters: {'item_knn': 0.08125694723508639, 'rp3': 0.010911738631905627, 'p3alpha': 0.05083659992642716, 'ials': 0.005393718294246396, 'ease_r': 0.0010325878713135237, 'user_knn': 0.026316602597949833, 'svd_item': 0.003946904924530753, 'nmf': 0.00014307254495593707, 'slim_bpr': 5.498017231336054e-05}. Best is trial 4 with value: 0.0504466486926325.\n"
     ]
    },
    {
     "name": "stdout",
     "output_type": "stream",
     "text": [
      "Recommender_Base_Class: URM Detected 627 ( 4.8%) users with no interactions.\n",
      "Recommender_Base_Class: URM Detected 247 ( 1.1%) items with no interactions.\n",
      "EvaluatorHoldout: Ignoring 2568 (19.7%) Users that have less than 1 test interactions\n",
      "EvaluatorHoldout: Processed 10456 (100.0%) in 44.38 sec. Users per second: 236\n"
     ]
    },
    {
     "name": "stderr",
     "output_type": "stream",
     "text": [
      "[I 2023-12-01 21:17:54,074] Trial 15 finished with value: 0.04937136040976006 and parameters: {'item_knn': 0.9884054097913756, 'rp3': 0.12650714505505573, 'p3alpha': 0.13887513625719425, 'ials': 0.031901428079877676, 'ease_r': 0.00777533402144088, 'user_knn': 0.0066189012467939515, 'svd_item': 0.0006347204871570359, 'nmf': 1.1518791813515954e-05, 'slim_bpr': 0.0007283763793435053}. Best is trial 4 with value: 0.0504466486926325.\n"
     ]
    },
    {
     "name": "stdout",
     "output_type": "stream",
     "text": [
      "Recommender_Base_Class: URM Detected 627 ( 4.8%) users with no interactions.\n",
      "Recommender_Base_Class: URM Detected 247 ( 1.1%) items with no interactions.\n",
      "EvaluatorHoldout: Ignoring 2568 (19.7%) Users that have less than 1 test interactions\n",
      "EvaluatorHoldout: Processed 10456 (100.0%) in 45.25 sec. Users per second: 231\n"
     ]
    },
    {
     "name": "stderr",
     "output_type": "stream",
     "text": [
      "[I 2023-12-01 21:18:39,648] Trial 16 finished with value: 0.05053245421479036 and parameters: {'item_knn': 0.11487798422148394, 'rp3': 0.34695329378385176, 'p3alpha': 0.3122084368491042, 'ials': 0.005038874388549965, 'ease_r': 0.0031110904791475133, 'user_knn': 0.0032651854029106834, 'svd_item': 0.011934205188986287, 'nmf': 6.085742133842953e-05, 'slim_bpr': 2.931947277559952e-05}. Best is trial 16 with value: 0.05053245421479036.\n"
     ]
    },
    {
     "name": "stdout",
     "output_type": "stream",
     "text": [
      "Recommender_Base_Class: URM Detected 627 ( 4.8%) users with no interactions.\n",
      "Recommender_Base_Class: URM Detected 247 ( 1.1%) items with no interactions.\n",
      "EvaluatorHoldout: Ignoring 2568 (19.7%) Users that have less than 1 test interactions\n",
      "EvaluatorHoldout: Processed 10456 (100.0%) in 45.50 sec. Users per second: 230\n"
     ]
    },
    {
     "name": "stderr",
     "output_type": "stream",
     "text": [
      "[I 2023-12-01 21:19:25,487] Trial 17 finished with value: 0.05061446454378802 and parameters: {'item_knn': 0.16595175829838388, 'rp3': 0.9455101034915003, 'p3alpha': 0.32130625865641166, 'ials': 0.044303398550844114, 'ease_r': 0.003527470702540023, 'user_knn': 0.0022172967504409747, 'svd_item': 0.01561229047124326, 'nmf': 0.0004578096203291563, 'slim_bpr': 0.0023509485736140185}. Best is trial 17 with value: 0.05061446454378802.\n"
     ]
    },
    {
     "name": "stdout",
     "output_type": "stream",
     "text": [
      "Recommender_Base_Class: URM Detected 627 ( 4.8%) users with no interactions.\n",
      "Recommender_Base_Class: URM Detected 247 ( 1.1%) items with no interactions.\n",
      "EvaluatorHoldout: Ignoring 2568 (19.7%) Users that have less than 1 test interactions\n",
      "EvaluatorHoldout: Processed 10456 (100.0%) in 46.57 sec. Users per second: 225\n"
     ]
    },
    {
     "name": "stderr",
     "output_type": "stream",
     "text": [
      "[I 2023-12-01 21:20:12,385] Trial 18 finished with value: 0.05076714516462097 and parameters: {'item_knn': 0.13801979794374702, 'rp3': 0.8546771803711388, 'p3alpha': 0.3485514223778769, 'ials': 0.04932385625519124, 'ease_r': 0.00958660180051854, 'user_knn': 0.011302067705846885, 'svd_item': 0.013859871487171571, 'nmf': 0.00037979275288964624, 'slim_bpr': 0.00019505698803331192}. Best is trial 18 with value: 0.05076714516462097.\n"
     ]
    },
    {
     "name": "stdout",
     "output_type": "stream",
     "text": [
      "Recommender_Base_Class: URM Detected 627 ( 4.8%) users with no interactions.\n",
      "Recommender_Base_Class: URM Detected 247 ( 1.1%) items with no interactions.\n",
      "EvaluatorHoldout: Ignoring 2568 (19.7%) Users that have less than 1 test interactions\n",
      "EvaluatorHoldout: Processed 10456 (100.0%) in 45.59 sec. Users per second: 229\n"
     ]
    },
    {
     "name": "stderr",
     "output_type": "stream",
     "text": [
      "[I 2023-12-01 21:20:58,315] Trial 19 finished with value: 0.04949516340583736 and parameters: {'item_knn': 0.41025185608733966, 'rp3': 0.8177624823252577, 'p3alpha': 0.36037868220200486, 'ials': 0.07427715025711071, 'ease_r': 0.011629565084109108, 'user_knn': 0.05421965051510264, 'svd_item': 0.024943359561467413, 'nmf': 0.0004688428889614842, 'slim_bpr': 0.00027287163210446295}. Best is trial 18 with value: 0.05076714516462097.\n"
     ]
    },
    {
     "name": "stdout",
     "output_type": "stream",
     "text": [
      "Recommender_Base_Class: URM Detected 627 ( 4.8%) users with no interactions.\n",
      "Recommender_Base_Class: URM Detected 247 ( 1.1%) items with no interactions.\n",
      "EvaluatorHoldout: Ignoring 2568 (19.7%) Users that have less than 1 test interactions\n",
      "EvaluatorHoldout: Processed 10456 (100.0%) in 43.96 sec. Users per second: 238\n"
     ]
    },
    {
     "name": "stderr",
     "output_type": "stream",
     "text": [
      "[I 2023-12-01 21:21:42,581] Trial 20 finished with value: 0.05056379491990688 and parameters: {'item_knn': 0.1490971300042616, 'rp3': 0.8889596564583896, 'p3alpha': 0.39976578014234265, 'ials': 0.048180974355559285, 'ease_r': 0.01182209727324611, 'user_knn': 0.013562260679860765, 'svd_item': 0.09762208439608988, 'nmf': 0.0007434077589480364, 'slim_bpr': 0.00010454494570452076}. Best is trial 18 with value: 0.05076714516462097.\n"
     ]
    },
    {
     "name": "stdout",
     "output_type": "stream",
     "text": [
      "Recommender_Base_Class: URM Detected 627 ( 4.8%) users with no interactions.\n",
      "Recommender_Base_Class: URM Detected 247 ( 1.1%) items with no interactions.\n",
      "EvaluatorHoldout: Ignoring 2568 (19.7%) Users that have less than 1 test interactions\n",
      "EvaluatorHoldout: Processed 10456 (100.0%) in 44.90 sec. Users per second: 233\n"
     ]
    },
    {
     "name": "stderr",
     "output_type": "stream",
     "text": [
      "[I 2023-12-01 21:22:27,787] Trial 21 finished with value: 0.05055704706646814 and parameters: {'item_knn': 0.1591180264639304, 'rp3': 0.9844050273532136, 'p3alpha': 0.43626850324126953, 'ials': 0.04841236385085427, 'ease_r': 0.012809947481697948, 'user_knn': 0.015563443225250242, 'svd_item': 0.09341225105069033, 'nmf': 0.0006487491932411668, 'slim_bpr': 0.00010389209096380755}. Best is trial 18 with value: 0.05076714516462097.\n"
     ]
    },
    {
     "name": "stdout",
     "output_type": "stream",
     "text": [
      "Recommender_Base_Class: URM Detected 627 ( 4.8%) users with no interactions.\n",
      "Recommender_Base_Class: URM Detected 247 ( 1.1%) items with no interactions.\n",
      "EvaluatorHoldout: Ignoring 2568 (19.7%) Users that have less than 1 test interactions\n",
      "EvaluatorHoldout: Processed 10456 (100.0%) in 44.83 sec. Users per second: 233\n"
     ]
    },
    {
     "name": "stderr",
     "output_type": "stream",
     "text": [
      "[I 2023-12-01 21:23:12,951] Trial 22 finished with value: 0.05053870110273202 and parameters: {'item_knn': 0.3175186814260564, 'rp3': 0.5506829012204458, 'p3alpha': 0.2846205728318213, 'ials': 0.052068783652582176, 'ease_r': 0.004712381691464852, 'user_knn': 0.01018337566306546, 'svd_item': 0.01808529990598086, 'nmf': 0.0009794310673594741, 'slim_bpr': 0.00024492803580515967}. Best is trial 18 with value: 0.05076714516462097.\n"
     ]
    },
    {
     "name": "stdout",
     "output_type": "stream",
     "text": [
      "Recommender_Base_Class: URM Detected 627 ( 4.8%) users with no interactions.\n",
      "Recommender_Base_Class: URM Detected 247 ( 1.1%) items with no interactions.\n",
      "EvaluatorHoldout: Ignoring 2568 (19.7%) Users that have less than 1 test interactions\n",
      "EvaluatorHoldout: Processed 10456 (100.0%) in 44.33 sec. Users per second: 236\n"
     ]
    },
    {
     "name": "stderr",
     "output_type": "stream",
     "text": [
      "[I 2023-12-01 21:23:57,604] Trial 23 finished with value: 0.049756189201006114 and parameters: {'item_knn': 0.15153246225222905, 'rp3': 0.9188457292746266, 'p3alpha': 0.4214548312534101, 'ials': 0.02794731925303576, 'ease_r': 0.009549485545377163, 'user_knn': 0.03646733213126757, 'svd_item': 0.1407005226111326, 'nmf': 0.0003144169596112093, 'slim_bpr': 5.563918625061598e-05}. Best is trial 18 with value: 0.05076714516462097.\n"
     ]
    },
    {
     "name": "stdout",
     "output_type": "stream",
     "text": [
      "Recommender_Base_Class: URM Detected 627 ( 4.8%) users with no interactions.\n",
      "Recommender_Base_Class: URM Detected 247 ( 1.1%) items with no interactions.\n",
      "EvaluatorHoldout: Ignoring 2568 (19.7%) Users that have less than 1 test interactions\n",
      "EvaluatorHoldout: Processed 10456 (100.0%) in 45.13 sec. Users per second: 232\n"
     ]
    },
    {
     "name": "stderr",
     "output_type": "stream",
     "text": [
      "[I 2023-12-01 21:24:43,042] Trial 24 finished with value: 0.05063045369257177 and parameters: {'item_knn': 0.27335574557878234, 'rp3': 0.5449584908095544, 'p3alpha': 0.7618885014910809, 'ials': 0.07588326394612908, 'ease_r': 0.020334375555982418, 'user_knn': 0.005776488666122771, 'svd_item': 0.008382098224702369, 'nmf': 0.0014540524030609283, 'slim_bpr': 0.0006861086162660205}. Best is trial 18 with value: 0.05076714516462097.\n"
     ]
    },
    {
     "name": "stdout",
     "output_type": "stream",
     "text": [
      "Recommender_Base_Class: URM Detected 627 ( 4.8%) users with no interactions.\n",
      "Recommender_Base_Class: URM Detected 247 ( 1.1%) items with no interactions.\n",
      "EvaluatorHoldout: Ignoring 2568 (19.7%) Users that have less than 1 test interactions\n",
      "EvaluatorHoldout: Processed 10456 (100.0%) in 45.04 sec. Users per second: 232\n"
     ]
    },
    {
     "name": "stderr",
     "output_type": "stream",
     "text": [
      "[I 2023-12-01 21:25:28,425] Trial 25 finished with value: 0.05056520673176253 and parameters: {'item_knn': 0.3095361331088876, 'rp3': 0.509056436452174, 'p3alpha': 0.9600219123951489, 'ials': 0.12342907146843533, 'ease_r': 0.02038145725908545, 'user_knn': 0.006104911469719299, 'svd_item': 0.008836619889164128, 'nmf': 0.00019935735255085678, 'slim_bpr': 0.0007926065755886553}. Best is trial 18 with value: 0.05076714516462097.\n"
     ]
    },
    {
     "name": "stdout",
     "output_type": "stream",
     "text": [
      "Recommender_Base_Class: URM Detected 627 ( 4.8%) users with no interactions.\n",
      "Recommender_Base_Class: URM Detected 247 ( 1.1%) items with no interactions.\n",
      "EvaluatorHoldout: Ignoring 2568 (19.7%) Users that have less than 1 test interactions\n",
      "EvaluatorHoldout: Processed 10456 (100.0%) in 44.65 sec. Users per second: 234\n"
     ]
    },
    {
     "name": "stderr",
     "output_type": "stream",
     "text": [
      "[I 2023-12-01 21:26:13,392] Trial 26 finished with value: 0.05045917662525422 and parameters: {'item_knn': 0.2582520851886695, 'rp3': 0.607937830441637, 'p3alpha': 0.6625969485270825, 'ials': 0.08143876403797737, 'ease_r': 0.0035855208137048227, 'user_knn': 0.0021506730222691493, 'svd_item': 0.026534592600570384, 'nmf': 0.0049737392850614315, 'slim_bpr': 0.003227412927578887}. Best is trial 18 with value: 0.05076714516462097.\n"
     ]
    },
    {
     "name": "stdout",
     "output_type": "stream",
     "text": [
      "Recommender_Base_Class: URM Detected 627 ( 4.8%) users with no interactions.\n",
      "Recommender_Base_Class: URM Detected 247 ( 1.1%) items with no interactions.\n",
      "EvaluatorHoldout: Ignoring 2568 (19.7%) Users that have less than 1 test interactions\n",
      "EvaluatorHoldout: Processed 10456 (100.0%) in 44.78 sec. Users per second: 233\n"
     ]
    },
    {
     "name": "stderr",
     "output_type": "stream",
     "text": [
      "[I 2023-12-01 21:26:58,492] Trial 27 finished with value: 0.05052538376993294 and parameters: {'item_knn': 0.3959053032025338, 'rp3': 0.45378189115640494, 'p3alpha': 0.2602185565497773, 'ials': 0.1749488986574704, 'ease_r': 0.006596216918908849, 'user_knn': 0.008531392512417083, 'svd_item': 0.0070750457483098345, 'nmf': 0.002122695496510588, 'slim_bpr': 0.0004300476730259182}. Best is trial 18 with value: 0.05076714516462097.\n"
     ]
    },
    {
     "name": "stdout",
     "output_type": "stream",
     "text": [
      "Recommender_Base_Class: URM Detected 627 ( 4.8%) users with no interactions.\n",
      "Recommender_Base_Class: URM Detected 247 ( 1.1%) items with no interactions.\n",
      "EvaluatorHoldout: Ignoring 2568 (19.7%) Users that have less than 1 test interactions\n",
      "EvaluatorHoldout: Processed 10456 (100.0%) in 45.45 sec. Users per second: 230\n"
     ]
    },
    {
     "name": "stderr",
     "output_type": "stream",
     "text": [
      "[I 2023-12-01 21:27:44,262] Trial 28 finished with value: 0.05077432567007987 and parameters: {'item_knn': 0.07506503977861918, 'rp3': 0.6929657020486945, 'p3alpha': 0.5775419050039181, 'ials': 0.24150598861790976, 'ease_r': 0.02319963284700009, 'user_knn': 0.004276930950782454, 'svd_item': 0.017114341987282466, 'nmf': 0.00013729928302981434, 'slim_bpr': 0.0014923488255953275}. Best is trial 28 with value: 0.05077432567007987.\n"
     ]
    },
    {
     "name": "stdout",
     "output_type": "stream",
     "text": [
      "Recommender_Base_Class: URM Detected 627 ( 4.8%) users with no interactions.\n",
      "Recommender_Base_Class: URM Detected 247 ( 1.1%) items with no interactions.\n",
      "EvaluatorHoldout: Ignoring 2568 (19.7%) Users that have less than 1 test interactions\n",
      "EvaluatorHoldout: Processed 10456 (100.0%) in 45.10 sec. Users per second: 232\n"
     ]
    },
    {
     "name": "stderr",
     "output_type": "stream",
     "text": [
      "[I 2023-12-01 21:28:29,699] Trial 29 finished with value: 0.05011138132886482 and parameters: {'item_knn': 0.06143416730297417, 'rp3': 0.40163198019978413, 'p3alpha': 0.5426592303937967, 'ials': 0.35796779078587526, 'ease_r': 0.03734955006437882, 'user_knn': 0.011393473634477295, 'svd_item': 0.001756725378775649, 'nmf': 0.01638528449038832, 'slim_bpr': 0.0015054418483795148}. Best is trial 28 with value: 0.05077432567007987.\n"
     ]
    },
    {
     "name": "stdout",
     "output_type": "stream",
     "text": [
      "Recommender_Base_Class: URM Detected 627 ( 4.8%) users with no interactions.\n",
      "Recommender_Base_Class: URM Detected 247 ( 1.1%) items with no interactions.\n",
      "EvaluatorHoldout: Ignoring 2568 (19.7%) Users that have less than 1 test interactions\n",
      "EvaluatorHoldout: Processed 10456 (100.0%) in 44.93 sec. Users per second: 233\n"
     ]
    },
    {
     "name": "stderr",
     "output_type": "stream",
     "text": [
      "[I 2023-12-01 21:29:14,964] Trial 30 finished with value: 0.04974629892763078 and parameters: {'item_knn': 0.06927917763506823, 'rp3': 0.2779878643427945, 'p3alpha': 0.71771079866253, 'ials': 0.3682519390049436, 'ease_r': 0.02038918202512036, 'user_knn': 0.019710314275101604, 'svd_item': 0.005437316289701973, 'nmf': 0.0013507370465128303, 'slim_bpr': 0.00021373894430739074}. Best is trial 28 with value: 0.05077432567007987.\n"
     ]
    },
    {
     "name": "stdout",
     "output_type": "stream",
     "text": [
      "Recommender_Base_Class: URM Detected 627 ( 4.8%) users with no interactions.\n",
      "Recommender_Base_Class: URM Detected 247 ( 1.1%) items with no interactions.\n",
      "EvaluatorHoldout: Ignoring 2568 (19.7%) Users that have less than 1 test interactions\n",
      "EvaluatorHoldout: Processed 10456 (100.0%) in 45.13 sec. Users per second: 232\n"
     ]
    },
    {
     "name": "stderr",
     "output_type": "stream",
     "text": [
      "[I 2023-12-01 21:30:00,427] Trial 31 finished with value: 0.05082341269841329 and parameters: {'item_knn': 0.09954991395171191, 'rp3': 0.6812893163230013, 'p3alpha': 0.5454889331907867, 'ials': 0.25902336895554673, 'ease_r': 0.0026355829658056378, 'user_knn': 0.005405913002633395, 'svd_item': 0.012095996233572767, 'nmf': 0.0001402666917865099, 'slim_bpr': 0.0013133493844556718}. Best is trial 31 with value: 0.05082341269841329.\n"
     ]
    },
    {
     "name": "stdout",
     "output_type": "stream",
     "text": [
      "Recommender_Base_Class: URM Detected 627 ( 4.8%) users with no interactions.\n",
      "Recommender_Base_Class: URM Detected 247 ( 1.1%) items with no interactions.\n",
      "EvaluatorHoldout: Ignoring 2568 (19.7%) Users that have less than 1 test interactions\n",
      "EvaluatorHoldout: Processed 10456 (100.0%) in 44.90 sec. Users per second: 233\n"
     ]
    },
    {
     "name": "stderr",
     "output_type": "stream",
     "text": [
      "[I 2023-12-01 21:30:45,686] Trial 32 finished with value: 0.05082203124810296 and parameters: {'item_knn': 0.08326689368036672, 'rp3': 0.6623068748271781, 'p3alpha': 0.5571249660011889, 'ials': 0.25513726780498197, 'ease_r': 0.007893235120569133, 'user_knn': 0.00520873050580472, 'svd_item': 0.010318903107626948, 'nmf': 0.000146397509377698, 'slim_bpr': 0.0011601829742313601}. Best is trial 31 with value: 0.05082341269841329.\n"
     ]
    },
    {
     "name": "stdout",
     "output_type": "stream",
     "text": [
      "Recommender_Base_Class: URM Detected 627 ( 4.8%) users with no interactions.\n",
      "Recommender_Base_Class: URM Detected 247 ( 1.1%) items with no interactions.\n",
      "EvaluatorHoldout: Ignoring 2568 (19.7%) Users that have less than 1 test interactions\n",
      "EvaluatorHoldout: Processed 10456 (100.0%) in 45.36 sec. Users per second: 231\n"
     ]
    },
    {
     "name": "stderr",
     "output_type": "stream",
     "text": [
      "[I 2023-12-01 21:31:31,366] Trial 33 finished with value: 0.05082792897827374 and parameters: {'item_knn': 0.08658680311999635, 'rp3': 0.6640728282579278, 'p3alpha': 0.5403015775436025, 'ials': 0.26348417496712195, 'ease_r': 0.002386734259182003, 'user_knn': 0.00348257298603146, 'svd_item': 0.012400327574681663, 'nmf': 0.00010935622729378931, 'slim_bpr': 0.00441746597203642}. Best is trial 33 with value: 0.05082792897827374.\n"
     ]
    },
    {
     "name": "stdout",
     "output_type": "stream",
     "text": [
      "Recommender_Base_Class: URM Detected 627 ( 4.8%) users with no interactions.\n",
      "Recommender_Base_Class: URM Detected 247 ( 1.1%) items with no interactions.\n",
      "EvaluatorHoldout: Ignoring 2568 (19.7%) Users that have less than 1 test interactions\n",
      "EvaluatorHoldout: Processed 10456 (100.0%) in 44.89 sec. Users per second: 233\n"
     ]
    },
    {
     "name": "stderr",
     "output_type": "stream",
     "text": [
      "[I 2023-12-01 21:32:16,597] Trial 34 finished with value: 0.05084234691708917 and parameters: {'item_knn': 0.07670810942467976, 'rp3': 0.6619790938934859, 'p3alpha': 0.5545910488245904, 'ials': 0.25608077405771557, 'ease_r': 0.002262063151259124, 'user_knn': 0.0036320085458134985, 'svd_item': 0.004703777416848785, 'nmf': 0.00011945048428965886, 'slim_bpr': 0.005073280698549298}. Best is trial 34 with value: 0.05084234691708917.\n"
     ]
    },
    {
     "name": "stdout",
     "output_type": "stream",
     "text": [
      "Recommender_Base_Class: URM Detected 627 ( 4.8%) users with no interactions.\n",
      "Recommender_Base_Class: URM Detected 247 ( 1.1%) items with no interactions.\n",
      "EvaluatorHoldout: Ignoring 2568 (19.7%) Users that have less than 1 test interactions\n",
      "EvaluatorHoldout: Processed 10456 (100.0%) in 45.27 sec. Users per second: 231\n"
     ]
    },
    {
     "name": "stderr",
     "output_type": "stream",
     "text": [
      "[I 2023-12-01 21:33:02,206] Trial 35 finished with value: 0.05081450917525944 and parameters: {'item_knn': 0.09435863142647559, 'rp3': 0.6613354697135888, 'p3alpha': 0.5035964500134279, 'ials': 0.2539500281857502, 'ease_r': 0.002510424864475054, 'user_knn': 0.0028052684922022387, 'svd_item': 0.0027558069039371855, 'nmf': 2.747427535512308e-05, 'slim_bpr': 0.005333344513196318}. Best is trial 34 with value: 0.05084234691708917.\n"
     ]
    },
    {
     "name": "stdout",
     "output_type": "stream",
     "text": [
      "Recommender_Base_Class: URM Detected 627 ( 4.8%) users with no interactions.\n",
      "Recommender_Base_Class: URM Detected 247 ( 1.1%) items with no interactions.\n",
      "EvaluatorHoldout: Ignoring 2568 (19.7%) Users that have less than 1 test interactions\n",
      "EvaluatorHoldout: Processed 10456 (100.0%) in 45.79 sec. Users per second: 228\n"
     ]
    },
    {
     "name": "stderr",
     "output_type": "stream",
     "text": [
      "[I 2023-12-01 21:33:48,350] Trial 36 finished with value: 0.049871980544322465 and parameters: {'item_knn': 0.034816353997407, 'rp3': 0.42807268770390516, 'p3alpha': 0.7679515815455404, 'ials': 0.5768554556124086, 'ease_r': 0.002388309200387334, 'user_knn': 0.003879340532462632, 'svd_item': 0.0047840294258804745, 'nmf': 0.00010469920570351825, 'slim_bpr': 0.00644402232509144}. Best is trial 34 with value: 0.05084234691708917.\n"
     ]
    },
    {
     "name": "stdout",
     "output_type": "stream",
     "text": [
      "Recommender_Base_Class: URM Detected 627 ( 4.8%) users with no interactions.\n",
      "Recommender_Base_Class: URM Detected 247 ( 1.1%) items with no interactions.\n",
      "EvaluatorHoldout: Ignoring 2568 (19.7%) Users that have less than 1 test interactions\n",
      "EvaluatorHoldout: Processed 10456 (100.0%) in 45.43 sec. Users per second: 230\n"
     ]
    },
    {
     "name": "stderr",
     "output_type": "stream",
     "text": [
      "[I 2023-12-01 21:34:34,100] Trial 37 finished with value: 0.04946923464616723 and parameters: {'item_knn': 0.05893902502908006, 'rp3': 0.6796508504233871, 'p3alpha': 0.5790171212144588, 'ials': 0.9314566222004023, 'ease_r': 0.002009856191237673, 'user_knn': 0.001711160234147408, 'svd_item': 0.0026365704511865044, 'nmf': 0.00023411485211001395, 'slim_bpr': 0.015287701488874591}. Best is trial 34 with value: 0.05084234691708917.\n"
     ]
    },
    {
     "name": "stdout",
     "output_type": "stream",
     "text": [
      "Recommender_Base_Class: URM Detected 627 ( 4.8%) users with no interactions.\n",
      "Recommender_Base_Class: URM Detected 247 ( 1.1%) items with no interactions.\n",
      "EvaluatorHoldout: Ignoring 2568 (19.7%) Users that have less than 1 test interactions\n",
      "EvaluatorHoldout: Processed 10456 (100.0%) in 46.97 sec. Users per second: 223\n"
     ]
    },
    {
     "name": "stderr",
     "output_type": "stream",
     "text": [
      "[I 2023-12-01 21:35:21,405] Trial 38 finished with value: 0.05087312593361811 and parameters: {'item_knn': 0.10606746034752666, 'rp3': 0.6524543546135668, 'p3alpha': 0.4819948464983571, 'ials': 0.29394880491941017, 'ease_r': 0.0038612122733897134, 'user_knn': 0.002991863109944445, 'svd_item': 0.006106026580983542, 'nmf': 7.951099235190034e-05, 'slim_bpr': 0.004051649349516389}. Best is trial 38 with value: 0.05087312593361811.\n"
     ]
    },
    {
     "name": "stdout",
     "output_type": "stream",
     "text": [
      "Recommender_Base_Class: URM Detected 627 ( 4.8%) users with no interactions.\n",
      "Recommender_Base_Class: URM Detected 247 ( 1.1%) items with no interactions.\n",
      "EvaluatorHoldout: Ignoring 2568 (19.7%) Users that have less than 1 test interactions\n",
      "EvaluatorHoldout: Processed 10456 (100.0%) in 45.17 sec. Users per second: 231\n"
     ]
    },
    {
     "name": "stderr",
     "output_type": "stream",
     "text": [
      "[I 2023-12-01 21:36:06,937] Trial 39 finished with value: 0.05002370098128571 and parameters: {'item_knn': 0.1160194440397756, 'rp3': 0.4481764629440769, 'p3alpha': 0.41068548085808715, 'ials': 0.5629414305701234, 'ease_r': 0.0025718007144005734, 'user_knn': 0.0016373441207106563, 'svd_item': 0.0056268285878453604, 'nmf': 8.113800216462004e-05, 'slim_bpr': 0.003536414359229603}. Best is trial 38 with value: 0.05087312593361811.\n"
     ]
    },
    {
     "name": "stdout",
     "output_type": "stream",
     "text": [
      "Recommender_Base_Class: URM Detected 627 ( 4.8%) users with no interactions.\n",
      "Recommender_Base_Class: URM Detected 247 ( 1.1%) items with no interactions.\n",
      "EvaluatorHoldout: Ignoring 2568 (19.7%) Users that have less than 1 test interactions\n",
      "EvaluatorHoldout: Processed 10456 (100.0%) in 45.71 sec. Users per second: 229\n"
     ]
    },
    {
     "name": "stderr",
     "output_type": "stream",
     "text": [
      "[I 2023-12-01 21:36:53,020] Trial 40 finished with value: 0.05061764871084951 and parameters: {'item_knn': 0.20235387704177474, 'rp3': 0.33049704407554414, 'p3alpha': 0.8712199748552838, 'ials': 0.3945806357517191, 'ease_r': 0.0011984824159828092, 'user_knn': 0.0027685778776085435, 'svd_item': 0.0030114373196248783, 'nmf': 4.790571347464415e-05, 'slim_bpr': 0.010137536297670044}. Best is trial 38 with value: 0.05087312593361811.\n"
     ]
    },
    {
     "name": "stdout",
     "output_type": "stream",
     "text": [
      "Recommender_Base_Class: URM Detected 627 ( 4.8%) users with no interactions.\n",
      "Recommender_Base_Class: URM Detected 247 ( 1.1%) items with no interactions.\n",
      "EvaluatorHoldout: Ignoring 2568 (19.7%) Users that have less than 1 test interactions\n",
      "EvaluatorHoldout: Processed 10456 (100.0%) in 45.30 sec. Users per second: 231\n"
     ]
    },
    {
     "name": "stderr",
     "output_type": "stream",
     "text": [
      "[I 2023-12-01 21:37:38,665] Trial 41 finished with value: 0.05084366384911578 and parameters: {'item_knn': 0.08234707566772308, 'rp3': 0.6449473667095046, 'p3alpha': 0.6551528498611334, 'ials': 0.2646671411997173, 'ease_r': 0.0017750132032686979, 'user_knn': 0.0027407234063672806, 'svd_item': 0.009844731173103523, 'nmf': 0.00016388635919833546, 'slim_bpr': 0.0013511610489974266}. Best is trial 38 with value: 0.05087312593361811.\n"
     ]
    },
    {
     "name": "stdout",
     "output_type": "stream",
     "text": [
      "Recommender_Base_Class: URM Detected 627 ( 4.8%) users with no interactions.\n",
      "Recommender_Base_Class: URM Detected 247 ( 1.1%) items with no interactions.\n",
      "EvaluatorHoldout: Ignoring 2568 (19.7%) Users that have less than 1 test interactions\n",
      "EvaluatorHoldout: Processed 10456 (100.0%) in 45.47 sec. Users per second: 230\n"
     ]
    },
    {
     "name": "stderr",
     "output_type": "stream",
     "text": [
      "[I 2023-12-01 21:38:24,452] Trial 42 finished with value: 0.050795092967052244 and parameters: {'item_knn': 0.09722701760502117, 'rp3': 0.5549134075184218, 'p3alpha': 0.6628861556798306, 'ials': 0.29989260555979186, 'ease_r': 0.0016048985144665622, 'user_knn': 0.002983955867127681, 'svd_item': 0.007713693795305887, 'nmf': 0.00022807444857748607, 'slim_bpr': 0.002858353971948505}. Best is trial 38 with value: 0.05087312593361811.\n"
     ]
    },
    {
     "name": "stdout",
     "output_type": "stream",
     "text": [
      "Recommender_Base_Class: URM Detected 627 ( 4.8%) users with no interactions.\n",
      "Recommender_Base_Class: URM Detected 247 ( 1.1%) items with no interactions.\n",
      "EvaluatorHoldout: Ignoring 2568 (19.7%) Users that have less than 1 test interactions\n",
      "EvaluatorHoldout: Processed 10456 (100.0%) in 44.38 sec. Users per second: 236\n"
     ]
    },
    {
     "name": "stderr",
     "output_type": "stream",
     "text": [
      "[I 2023-12-01 21:39:09,163] Trial 43 finished with value: 0.05070749231852968 and parameters: {'item_knn': 0.06431826602496798, 'rp3': 0.7245534171627174, 'p3alpha': 0.47711785146004815, 'ials': 0.19529606092412408, 'ease_r': 0.001988020130318146, 'user_knn': 0.0013269618213338384, 'svd_item': 0.00533557431022987, 'nmf': 2.524650755204666e-05, 'slim_bpr': 0.0057016438331635765}. Best is trial 38 with value: 0.05087312593361811.\n"
     ]
    },
    {
     "name": "stdout",
     "output_type": "stream",
     "text": [
      "Recommender_Base_Class: URM Detected 627 ( 4.8%) users with no interactions.\n",
      "Recommender_Base_Class: URM Detected 247 ( 1.1%) items with no interactions.\n",
      "EvaluatorHoldout: Ignoring 2568 (19.7%) Users that have less than 1 test interactions\n",
      "EvaluatorHoldout: Processed 10456 (100.0%) in 45.79 sec. Users per second: 228\n"
     ]
    },
    {
     "name": "stderr",
     "output_type": "stream",
     "text": [
      "[I 2023-12-01 21:39:55,279] Trial 44 finished with value: 0.04991162133688028 and parameters: {'item_knn': 0.042232110359568274, 'rp3': 0.46286909912908397, 'p3alpha': 0.7749817836059815, 'ials': 0.5096474930283587, 'ease_r': 0.0011314705576601187, 'user_knn': 0.0010028050417714754, 'svd_item': 0.010474846301175494, 'nmf': 8.940809500285628e-05, 'slim_bpr': 0.0021286132923148383}. Best is trial 38 with value: 0.05087312593361811.\n"
     ]
    },
    {
     "name": "stdout",
     "output_type": "stream",
     "text": [
      "Recommender_Base_Class: URM Detected 627 ( 4.8%) users with no interactions.\n",
      "Recommender_Base_Class: URM Detected 247 ( 1.1%) items with no interactions.\n",
      "EvaluatorHoldout: Ignoring 2568 (19.7%) Users that have less than 1 test interactions\n",
      "EvaluatorHoldout: Processed 10456 (100.0%) in 46.00 sec. Users per second: 227\n"
     ]
    },
    {
     "name": "stderr",
     "output_type": "stream",
     "text": [
      "[I 2023-12-01 21:40:41,618] Trial 45 finished with value: 0.04893278409297989 and parameters: {'item_knn': 0.11392520927360611, 'rp3': 0.2890424610458399, 'p3alpha': 0.9659724539308884, 'ials': 0.20016080344563467, 'ease_r': 0.004180508923367486, 'user_knn': 0.0036694595977907613, 'svd_item': 0.03144058885401464, 'nmf': 4.895469391528572e-05, 'slim_bpr': 0.03372062930723287}. Best is trial 38 with value: 0.05087312593361811.\n"
     ]
    },
    {
     "name": "stdout",
     "output_type": "stream",
     "text": [
      "Recommender_Base_Class: URM Detected 627 ( 4.8%) users with no interactions.\n",
      "Recommender_Base_Class: URM Detected 247 ( 1.1%) items with no interactions.\n",
      "EvaluatorHoldout: Ignoring 2568 (19.7%) Users that have less than 1 test interactions\n",
      "EvaluatorHoldout: Processed 10456 (100.0%) in 45.67 sec. Users per second: 229\n"
     ]
    },
    {
     "name": "stderr",
     "output_type": "stream",
     "text": [
      "[I 2023-12-01 21:41:27,606] Trial 46 finished with value: 0.050799662379617076 and parameters: {'item_knn': 0.08028546607497627, 'rp3': 0.761947642387448, 'p3alpha': 0.23669621515318431, 'ials': 0.1416092245434487, 'ease_r': 0.0029025627937265173, 'user_knn': 0.007944957780505484, 'svd_item': 0.0035832367338595353, 'nmf': 0.0002526185046587064, 'slim_bpr': 0.004206922620987795}. Best is trial 38 with value: 0.05087312593361811.\n"
     ]
    },
    {
     "name": "stdout",
     "output_type": "stream",
     "text": [
      "Recommender_Base_Class: URM Detected 627 ( 4.8%) users with no interactions.\n",
      "Recommender_Base_Class: URM Detected 247 ( 1.1%) items with no interactions.\n",
      "EvaluatorHoldout: Ignoring 2568 (19.7%) Users that have less than 1 test interactions\n",
      "EvaluatorHoldout: Processed 10456 (100.0%) in 44.98 sec. Users per second: 232\n"
     ]
    },
    {
     "name": "stderr",
     "output_type": "stream",
     "text": [
      "[I 2023-12-01 21:42:12,903] Trial 47 finished with value: 0.0503972428680736 and parameters: {'item_knn': 0.051667883089892175, 'rp3': 0.3808343395260025, 'p3alpha': 0.6188551358121024, 'ials': 0.3140677108374911, 'ease_r': 0.001726982170391518, 'user_knn': 0.0022210884508368036, 'svd_item': 0.001737510153316624, 'nmf': 0.00013573071778891666, 'slim_bpr': 0.0011595763720957902}. Best is trial 38 with value: 0.05087312593361811.\n"
     ]
    },
    {
     "name": "stdout",
     "output_type": "stream",
     "text": [
      "Recommender_Base_Class: URM Detected 627 ( 4.8%) users with no interactions.\n",
      "Recommender_Base_Class: URM Detected 247 ( 1.1%) items with no interactions.\n",
      "EvaluatorHoldout: Ignoring 2568 (19.7%) Users that have less than 1 test interactions\n",
      "EvaluatorHoldout: Processed 10456 (100.0%) in 46.12 sec. Users per second: 227\n"
     ]
    },
    {
     "name": "stderr",
     "output_type": "stream",
     "text": [
      "[I 2023-12-01 21:42:59,356] Trial 48 finished with value: 0.05021621594952767 and parameters: {'item_knn': 0.03612843978450499, 'rp3': 0.5819908247366606, 'p3alpha': 0.47880248140044435, 'ials': 0.43316266223131994, 'ease_r': 0.005044312088471259, 'user_knn': 0.0016678906819645764, 'svd_item': 0.0072907890138009775, 'nmf': 1.665509633086686e-05, 'slim_bpr': 0.009385214385964798}. Best is trial 38 with value: 0.05087312593361811.\n"
     ]
    },
    {
     "name": "stdout",
     "output_type": "stream",
     "text": [
      "Recommender_Base_Class: URM Detected 627 ( 4.8%) users with no interactions.\n",
      "Recommender_Base_Class: URM Detected 247 ( 1.1%) items with no interactions.\n",
      "EvaluatorHoldout: Ignoring 2568 (19.7%) Users that have less than 1 test interactions\n",
      "EvaluatorHoldout: Processed 10456 (100.0%) in 45.02 sec. Users per second: 232\n"
     ]
    },
    {
     "name": "stderr",
     "output_type": "stream",
     "text": [
      "[I 2023-12-01 21:43:44,698] Trial 49 finished with value: 0.04961143673868484 and parameters: {'item_knn': 0.13112382955063712, 'rp3': 0.2155104242120399, 'p3alpha': 0.8107756546166119, 'ials': 0.6735208605053303, 'ease_r': 0.001358105545026255, 'user_knn': 0.003341358219722099, 'svd_item': 0.01939100777885523, 'nmf': 3.317646267938235e-05, 'slim_bpr': 0.0022627088285835846}. Best is trial 38 with value: 0.05087312593361811.\n"
     ]
    },
    {
     "name": "stdout",
     "output_type": "stream",
     "text": [
      "Recommender_Base_Class: URM Detected 627 ( 4.8%) users with no interactions.\n",
      "Recommender_Base_Class: URM Detected 247 ( 1.1%) items with no interactions.\n",
      "EvaluatorHoldout: Ignoring 2568 (19.7%) Users that have less than 1 test interactions\n",
      "EvaluatorHoldout: Processed 10456 (100.0%) in 47.77 sec. Users per second: 219\n"
     ]
    },
    {
     "name": "stderr",
     "output_type": "stream",
     "text": [
      "[I 2023-12-01 21:44:32,795] Trial 50 finished with value: 0.04936012663800593 and parameters: {'item_knn': 0.09722437237457283, 'rp3': 0.7283672340510688, 'p3alpha': 0.3373025001522687, 'ials': 0.10464581060014146, 'ease_r': 0.0037199263346270723, 'user_knn': 0.006983078259440226, 'svd_item': 0.011581984944502044, 'nmf': 7.252121367350985e-05, 'slim_bpr': 0.027408077169200015}. Best is trial 38 with value: 0.05087312593361811.\n"
     ]
    },
    {
     "name": "stdout",
     "output_type": "stream",
     "text": [
      "Recommender_Base_Class: URM Detected 627 ( 4.8%) users with no interactions.\n",
      "Recommender_Base_Class: URM Detected 247 ( 1.1%) items with no interactions.\n",
      "EvaluatorHoldout: Ignoring 2568 (19.7%) Users that have less than 1 test interactions\n",
      "EvaluatorHoldout: Processed 10456 (100.0%) in 47.65 sec. Users per second: 219\n"
     ]
    },
    {
     "name": "stderr",
     "output_type": "stream",
     "text": [
      "[I 2023-12-01 21:45:20,812] Trial 51 finished with value: 0.050835337195322385 and parameters: {'item_knn': 0.08263435474453512, 'rp3': 0.6135453792649338, 'p3alpha': 0.5486261869286232, 'ials': 0.2501025280926228, 'ease_r': 0.0021487315745569546, 'user_knn': 0.00435097597231445, 'svd_item': 0.010097592725071979, 'nmf': 0.00015383612889874603, 'slim_bpr': 0.0011332770901239634}. Best is trial 38 with value: 0.05087312593361811.\n"
     ]
    },
    {
     "name": "stdout",
     "output_type": "stream",
     "text": [
      "Recommender_Base_Class: URM Detected 627 ( 4.8%) users with no interactions.\n",
      "Recommender_Base_Class: URM Detected 247 ( 1.1%) items with no interactions.\n",
      "EvaluatorHoldout: Ignoring 2568 (19.7%) Users that have less than 1 test interactions\n",
      "EvaluatorHoldout: Processed 10456 (100.0%) in 45.10 sec. Users per second: 232\n"
     ]
    },
    {
     "name": "stderr",
     "output_type": "stream",
     "text": [
      "[I 2023-12-01 21:46:06,276] Trial 52 finished with value: 0.050710608172114015 and parameters: {'item_knn': 0.07309377967685293, 'rp3': 0.9944266766145028, 'p3alpha': 0.3797744605752086, 'ials': 0.21492408544824596, 'ease_r': 0.002134162516671539, 'user_knn': 0.004473157428136434, 'svd_item': 0.005014793101305679, 'nmf': 4.414816983638417e-05, 'slim_bpr': 0.0009922751662831805}. Best is trial 38 with value: 0.05087312593361811.\n"
     ]
    },
    {
     "name": "stdout",
     "output_type": "stream",
     "text": [
      "Recommender_Base_Class: URM Detected 627 ( 4.8%) users with no interactions.\n",
      "Recommender_Base_Class: URM Detected 247 ( 1.1%) items with no interactions.\n",
      "EvaluatorHoldout: Ignoring 2568 (19.7%) Users that have less than 1 test interactions\n",
      "EvaluatorHoldout: Processed 10456 (100.0%) in 44.79 sec. Users per second: 233\n"
     ]
    },
    {
     "name": "stderr",
     "output_type": "stream",
     "text": [
      "[I 2023-12-01 21:46:51,431] Trial 53 finished with value: 0.05064109541419269 and parameters: {'item_knn': 0.08956100885829606, 'rp3': 0.4935756829276327, 'p3alpha': 0.6347345372808386, 'ials': 0.3192441812630129, 'ease_r': 0.0029966795670356198, 'user_knn': 0.002788641700769141, 'svd_item': 0.013987004568905987, 'nmf': 7.611144360685877e-05, 'slim_bpr': 0.0005272650374586167}. Best is trial 38 with value: 0.05087312593361811.\n"
     ]
    },
    {
     "name": "stdout",
     "output_type": "stream",
     "text": [
      "Recommender_Base_Class: URM Detected 627 ( 4.8%) users with no interactions.\n",
      "Recommender_Base_Class: URM Detected 247 ( 1.1%) items with no interactions.\n",
      "EvaluatorHoldout: Ignoring 2568 (19.7%) Users that have less than 1 test interactions\n",
      "EvaluatorHoldout: Processed 10456 (100.0%) in 45.66 sec. Users per second: 229\n"
     ]
    },
    {
     "name": "stderr",
     "output_type": "stream",
     "text": [
      "[I 2023-12-01 21:47:37,432] Trial 54 finished with value: 0.050760385925602676 and parameters: {'item_knn': 0.1232118841911047, 'rp3': 0.7823556029307804, 'p3alpha': 0.5019109828409041, 'ials': 0.16033617581745213, 'ease_r': 0.0015448798852823727, 'user_knn': 0.005393057097175936, 'svd_item': 0.033410552934852546, 'nmf': 0.00014957187792378904, 'slim_bpr': 0.0016945551104985295}. Best is trial 38 with value: 0.05087312593361811.\n"
     ]
    },
    {
     "name": "stdout",
     "output_type": "stream",
     "text": [
      "Recommender_Base_Class: URM Detected 627 ( 4.8%) users with no interactions.\n",
      "Recommender_Base_Class: URM Detected 247 ( 1.1%) items with no interactions.\n",
      "EvaluatorHoldout: Ignoring 2568 (19.7%) Users that have less than 1 test interactions\n",
      "EvaluatorHoldout: Processed 10456 (100.0%) in 45.36 sec. Users per second: 230\n"
     ]
    },
    {
     "name": "stderr",
     "output_type": "stream",
     "text": [
      "[I 2023-12-01 21:48:23,138] Trial 55 finished with value: 0.0503744071908289 and parameters: {'item_knn': 0.10457305694425308, 'rp3': 0.595027130755403, 'p3alpha': 0.3171820342070921, 'ials': 0.425272520981856, 'ease_r': 0.0019763049485339115, 'user_knn': 0.0022368053885397665, 'svd_item': 0.00687687563020602, 'nmf': 0.00048400128686892273, 'slim_bpr': 0.003092747044306786}. Best is trial 38 with value: 0.05087312593361811.\n"
     ]
    },
    {
     "name": "stdout",
     "output_type": "stream",
     "text": [
      "Recommender_Base_Class: URM Detected 627 ( 4.8%) users with no interactions.\n",
      "Recommender_Base_Class: URM Detected 247 ( 1.1%) items with no interactions.\n",
      "EvaluatorHoldout: Ignoring 2568 (19.7%) Users that have less than 1 test interactions\n",
      "EvaluatorHoldout: Processed 10456 (100.0%) in 44.71 sec. Users per second: 234\n"
     ]
    },
    {
     "name": "stderr",
     "output_type": "stream",
     "text": [
      "[I 2023-12-01 21:49:08,190] Trial 56 finished with value: 0.05083479068750748 and parameters: {'item_knn': 0.18179368216508004, 'rp3': 0.3853134266106784, 'p3alpha': 0.43293633001670917, 'ials': 0.2572670382793677, 'ease_r': 0.0055426272469962234, 'user_knn': 0.003958491453320112, 'svd_item': 0.0036395404579196147, 'nmf': 0.0003382347739017481, 'slim_bpr': 0.00040031077808076716}. Best is trial 38 with value: 0.05087312593361811.\n"
     ]
    },
    {
     "name": "stdout",
     "output_type": "stream",
     "text": [
      "Recommender_Base_Class: URM Detected 627 ( 4.8%) users with no interactions.\n",
      "Recommender_Base_Class: URM Detected 247 ( 1.1%) items with no interactions.\n",
      "EvaluatorHoldout: Ignoring 2568 (19.7%) Users that have less than 1 test interactions\n",
      "EvaluatorHoldout: Processed 10456 (100.0%) in 44.58 sec. Users per second: 235\n"
     ]
    },
    {
     "name": "stderr",
     "output_type": "stream",
     "text": [
      "[I 2023-12-01 21:49:53,107] Trial 57 finished with value: 0.05088541476907067 and parameters: {'item_knn': 0.18055206906487717, 'rp3': 0.3534345930405204, 'p3alpha': 0.44637657005409814, 'ials': 0.18337386043262582, 'ease_r': 0.005402783746039927, 'user_knn': 0.0036021304846366744, 'svd_item': 0.004241435331650417, 'nmf': 0.00032694029810536945, 'slim_bpr': 0.0003981306030260816}. Best is trial 57 with value: 0.05088541476907067.\n"
     ]
    },
    {
     "name": "stdout",
     "output_type": "stream",
     "text": [
      "Recommender_Base_Class: URM Detected 627 ( 4.8%) users with no interactions.\n",
      "Recommender_Base_Class: URM Detected 247 ( 1.1%) items with no interactions.\n",
      "EvaluatorHoldout: Ignoring 2568 (19.7%) Users that have less than 1 test interactions\n",
      "EvaluatorHoldout: Processed 10456 (100.0%) in 44.78 sec. Users per second: 234\n"
     ]
    },
    {
     "name": "stderr",
     "output_type": "stream",
     "text": [
      "[I 2023-12-01 21:50:38,193] Trial 58 finished with value: 0.05086435524222495 and parameters: {'item_knn': 0.21419072366083677, 'rp3': 0.42235884562843085, 'p3alpha': 0.40577744338635285, 'ials': 0.17641357499427593, 'ease_r': 0.006075792681725443, 'user_knn': 0.0014435388672807917, 'svd_item': 0.00401778434184062, 'nmf': 0.0003534494638212356, 'slim_bpr': 0.0004025775050663406}. Best is trial 57 with value: 0.05088541476907067.\n"
     ]
    },
    {
     "name": "stdout",
     "output_type": "stream",
     "text": [
      "Recommender_Base_Class: URM Detected 627 ( 4.8%) users with no interactions.\n",
      "Recommender_Base_Class: URM Detected 247 ( 1.1%) items with no interactions.\n",
      "EvaluatorHoldout: Ignoring 2568 (19.7%) Users that have less than 1 test interactions\n",
      "EvaluatorHoldout: Processed 10456 (100.0%) in 44.16 sec. Users per second: 237\n"
     ]
    },
    {
     "name": "stderr",
     "output_type": "stream",
     "text": [
      "[I 2023-12-01 21:51:22,692] Trial 59 finished with value: 0.05083364453917301 and parameters: {'item_knn': 0.1853224219594991, 'rp3': 0.30609793606348124, 'p3alpha': 0.28534880168020216, 'ials': 0.1729772666040408, 'ease_r': 0.004250923819951963, 'user_knn': 0.0014867529734372232, 'svd_item': 0.0023491270726121094, 'nmf': 0.0008076263599367927, 'slim_bpr': 0.0005353215142545437}. Best is trial 57 with value: 0.05088541476907067.\n"
     ]
    },
    {
     "name": "stdout",
     "output_type": "stream",
     "text": [
      "Recommender_Base_Class: URM Detected 627 ( 4.8%) users with no interactions.\n",
      "Recommender_Base_Class: URM Detected 247 ( 1.1%) items with no interactions.\n",
      "EvaluatorHoldout: Ignoring 2568 (19.7%) Users that have less than 1 test interactions\n",
      "EvaluatorHoldout: Processed 10456 (100.0%) in 43.98 sec. Users per second: 238\n"
     ]
    },
    {
     "name": "stderr",
     "output_type": "stream",
     "text": [
      "[I 2023-12-01 21:52:07,007] Trial 60 finished with value: 0.05060698801326245 and parameters: {'item_knn': 0.22237872791338395, 'rp3': 0.24137877543099742, 'p3alpha': 0.2163789689039395, 'ials': 0.14456802215337475, 'ease_r': 0.001029491733946529, 'user_knn': 0.00115350445252423, 'svd_item': 0.0043422595870378005, 'nmf': 0.0003563203739654718, 'slim_bpr': 0.00035340225801018077}. Best is trial 57 with value: 0.05088541476907067.\n"
     ]
    },
    {
     "name": "stdout",
     "output_type": "stream",
     "text": [
      "Recommender_Base_Class: URM Detected 627 ( 4.8%) users with no interactions.\n",
      "Recommender_Base_Class: URM Detected 247 ( 1.1%) items with no interactions.\n",
      "EvaluatorHoldout: Ignoring 2568 (19.7%) Users that have less than 1 test interactions\n",
      "EvaluatorHoldout: Processed 10456 (100.0%) in 43.78 sec. Users per second: 239\n"
     ]
    },
    {
     "name": "stderr",
     "output_type": "stream",
     "text": [
      "[I 2023-12-01 21:52:51,103] Trial 61 finished with value: 0.05087072737154087 and parameters: {'item_knn': 0.17755021219887318, 'rp3': 0.37544009197110445, 'p3alpha': 0.4499843873449273, 'ials': 0.20827489629722004, 'ease_r': 0.006623380982323497, 'user_knn': 0.0021124829574457014, 'svd_item': 0.0033760651692281264, 'nmf': 0.0002911707088368454, 'slim_bpr': 0.00031767484801675246}. Best is trial 57 with value: 0.05088541476907067.\n"
     ]
    },
    {
     "name": "stdout",
     "output_type": "stream",
     "text": [
      "Recommender_Base_Class: URM Detected 627 ( 4.8%) users with no interactions.\n",
      "Recommender_Base_Class: URM Detected 247 ( 1.1%) items with no interactions.\n",
      "EvaluatorHoldout: Ignoring 2568 (19.7%) Users that have less than 1 test interactions\n",
      "EvaluatorHoldout: Processed 10456 (100.0%) in 44.33 sec. Users per second: 236\n"
     ]
    },
    {
     "name": "stderr",
     "output_type": "stream",
     "text": [
      "[I 2023-12-01 21:53:35,746] Trial 62 finished with value: 0.050871896291034224 and parameters: {'item_knn': 0.15058220148607523, 'rp3': 0.33746701797692247, 'p3alpha': 0.38493169504819613, 'ials': 0.21608214428644723, 'ease_r': 0.003427929149353669, 'user_knn': 0.001957668574190108, 'svd_item': 0.0023271323035951104, 'nmf': 0.0005876952996139876, 'slim_bpr': 0.0007861719568166903}. Best is trial 57 with value: 0.05088541476907067.\n"
     ]
    },
    {
     "name": "stdout",
     "output_type": "stream",
     "text": [
      "Recommender_Base_Class: URM Detected 627 ( 4.8%) users with no interactions.\n",
      "Recommender_Base_Class: URM Detected 247 ( 1.1%) items with no interactions.\n",
      "EvaluatorHoldout: Ignoring 2568 (19.7%) Users that have less than 1 test interactions\n",
      "EvaluatorHoldout: Processed 10456 (100.0%) in 44.92 sec. Users per second: 233\n"
     ]
    },
    {
     "name": "stderr",
     "output_type": "stream",
     "text": [
      "[I 2023-12-01 21:54:20,988] Trial 63 finished with value: 0.05091994343644169 and parameters: {'item_knn': 0.16691048386385735, 'rp3': 0.4065451627341492, 'p3alpha': 0.37559759590171216, 'ials': 0.20323371093578546, 'ease_r': 0.006105186991775706, 'user_knn': 0.001876803636584391, 'svd_item': 0.0013236592903635993, 'nmf': 0.0006704511189745537, 'slim_bpr': 0.0001388908581780149}. Best is trial 63 with value: 0.05091994343644169.\n"
     ]
    },
    {
     "name": "stdout",
     "output_type": "stream",
     "text": [
      "Recommender_Base_Class: URM Detected 627 ( 4.8%) users with no interactions.\n",
      "Recommender_Base_Class: URM Detected 247 ( 1.1%) items with no interactions.\n",
      "EvaluatorHoldout: Ignoring 2568 (19.7%) Users that have less than 1 test interactions\n",
      "EvaluatorHoldout: Processed 10456 (100.0%) in 44.77 sec. Users per second: 234\n"
     ]
    },
    {
     "name": "stderr",
     "output_type": "stream",
     "text": [
      "[I 2023-12-01 21:55:06,092] Trial 64 finished with value: 0.05092488857312937 and parameters: {'item_knn': 0.1612907586465204, 'rp3': 0.3518025991031747, 'p3alpha': 0.3603072238529624, 'ials': 0.19780951217538684, 'ease_r': 0.0061821025655499065, 'user_knn': 0.0019150760256094377, 'svd_item': 0.0013513662511145247, 'nmf': 0.0006700724655154301, 'slim_bpr': 0.0001400196318834339}. Best is trial 64 with value: 0.05092488857312937.\n"
     ]
    },
    {
     "name": "stdout",
     "output_type": "stream",
     "text": [
      "Recommender_Base_Class: URM Detected 627 ( 4.8%) users with no interactions.\n",
      "Recommender_Base_Class: URM Detected 247 ( 1.1%) items with no interactions.\n",
      "EvaluatorHoldout: Ignoring 2568 (19.7%) Users that have less than 1 test interactions\n",
      "EvaluatorHoldout: Processed 10456 (100.0%) in 44.87 sec. Users per second: 233\n"
     ]
    },
    {
     "name": "stderr",
     "output_type": "stream",
     "text": [
      "[I 2023-12-01 21:55:51,288] Trial 65 finished with value: 0.050811017597552265 and parameters: {'item_knn': 0.16364827630022918, 'rp3': 0.3429798751845311, 'p3alpha': 0.3729929424112248, 'ials': 0.12259942573472926, 'ease_r': 0.0062664927993502685, 'user_knn': 0.0017936683895338574, 'svd_item': 0.0012759477029672523, 'nmf': 0.0005987166268801852, 'slim_bpr': 0.00012898391926172427}. Best is trial 64 with value: 0.05092488857312937.\n"
     ]
    },
    {
     "name": "stdout",
     "output_type": "stream",
     "text": [
      "Recommender_Base_Class: URM Detected 627 ( 4.8%) users with no interactions.\n",
      "Recommender_Base_Class: URM Detected 247 ( 1.1%) items with no interactions.\n",
      "EvaluatorHoldout: Ignoring 2568 (19.7%) Users that have less than 1 test interactions\n",
      "EvaluatorHoldout: Processed 10456 (100.0%) in 45.22 sec. Users per second: 231\n"
     ]
    },
    {
     "name": "stderr",
     "output_type": "stream",
     "text": [
      "[I 2023-12-01 21:56:36,841] Trial 66 finished with value: 0.0506653884456109 and parameters: {'item_knn': 0.14038219484691591, 'rp3': 0.23983577613999646, 'p3alpha': 0.2699115362628204, 'ials': 0.21163864535977228, 'ease_r': 0.007356845789131758, 'user_knn': 0.00143174673214024, 'svd_item': 0.002156224263541058, 'nmf': 0.0009006038101862583, 'slim_bpr': 0.00016261096392190076}. Best is trial 64 with value: 0.05092488857312937.\n"
     ]
    },
    {
     "name": "stdout",
     "output_type": "stream",
     "text": [
      "Recommender_Base_Class: URM Detected 627 ( 4.8%) users with no interactions.\n",
      "Recommender_Base_Class: URM Detected 247 ( 1.1%) items with no interactions.\n",
      "EvaluatorHoldout: Ignoring 2568 (19.7%) Users that have less than 1 test interactions\n",
      "EvaluatorHoldout: Processed 10456 (100.0%) in 45.15 sec. Users per second: 232\n"
     ]
    },
    {
     "name": "stderr",
     "output_type": "stream",
     "text": [
      "[I 2023-12-01 21:57:22,317] Trial 67 finished with value: 0.05086914857118618 and parameters: {'item_knn': 0.22856668154387266, 'rp3': 0.3870598062851109, 'p3alpha': 0.3516583877493206, 'ials': 0.18688885149061635, 'ease_r': 0.006118405321900647, 'user_knn': 0.0012219292962553508, 'svd_item': 0.0011634711459482974, 'nmf': 0.0005372469068659176, 'slim_bpr': 0.00028964306811739824}. Best is trial 64 with value: 0.05092488857312937.\n"
     ]
    },
    {
     "name": "stdout",
     "output_type": "stream",
     "text": [
      "Recommender_Base_Class: URM Detected 627 ( 4.8%) users with no interactions.\n",
      "Recommender_Base_Class: URM Detected 247 ( 1.1%) items with no interactions.\n",
      "EvaluatorHoldout: Ignoring 2568 (19.7%) Users that have less than 1 test interactions\n",
      "EvaluatorHoldout: Processed 10456 (100.0%) in 44.99 sec. Users per second: 232\n"
     ]
    },
    {
     "name": "stderr",
     "output_type": "stream",
     "text": [
      "[I 2023-12-01 21:58:07,638] Trial 68 finished with value: 0.050603936677961744 and parameters: {'item_knn': 0.24127257247754935, 'rp3': 0.18374634194883493, 'p3alpha': 0.31870766374717774, 'ials': 0.10004532740276971, 'ease_r': 0.004907605105457117, 'user_knn': 0.002006253373135997, 'svd_item': 0.0011437157468507041, 'nmf': 0.0020541157513995554, 'slim_bpr': 0.00023281440086248646}. Best is trial 64 with value: 0.05092488857312937.\n"
     ]
    },
    {
     "name": "stdout",
     "output_type": "stream",
     "text": [
      "Recommender_Base_Class: URM Detected 627 ( 4.8%) users with no interactions.\n",
      "Recommender_Base_Class: URM Detected 247 ( 1.1%) items with no interactions.\n",
      "EvaluatorHoldout: Ignoring 2568 (19.7%) Users that have less than 1 test interactions\n",
      "EvaluatorHoldout: Processed 10456 (100.0%) in 45.52 sec. Users per second: 230\n"
     ]
    },
    {
     "name": "stderr",
     "output_type": "stream",
     "text": [
      "[I 2023-12-01 21:58:53,492] Trial 69 finished with value: 0.050710725823102085 and parameters: {'item_knn': 0.1760651096616782, 'rp3': 0.3210941265429731, 'p3alpha': 0.17476224694901954, 'ials': 0.1435454440714714, 'ease_r': 0.008064825746693106, 'user_knn': 0.0010033575729986892, 'svd_item': 0.0006156118528621263, 'nmf': 0.0005708349122623352, 'slim_bpr': 7.673048034797558e-05}. Best is trial 64 with value: 0.05092488857312937.\n"
     ]
    },
    {
     "name": "stdout",
     "output_type": "stream",
     "text": [
      "Recommender_Base_Class: URM Detected 627 ( 4.8%) users with no interactions.\n",
      "Recommender_Base_Class: URM Detected 247 ( 1.1%) items with no interactions.\n",
      "EvaluatorHoldout: Ignoring 2568 (19.7%) Users that have less than 1 test interactions\n",
      "EvaluatorHoldout: Processed 10456 (100.0%) in 44.29 sec. Users per second: 236\n"
     ]
    },
    {
     "name": "stderr",
     "output_type": "stream",
     "text": [
      "[I 2023-12-01 21:59:38,107] Trial 70 finished with value: 0.050484388093417064 and parameters: {'item_knn': 0.26389533986361663, 'rp3': 0.26721435593257087, 'p3alpha': 0.24813667087273256, 'ials': 0.20052348480494714, 'ease_r': 0.009559954671111823, 'user_knn': 0.0011904925616252249, 'svd_item': 0.0008791189582192835, 'nmf': 0.0009824096764762176, 'slim_bpr': 0.00029477570278148616}. Best is trial 64 with value: 0.05092488857312937.\n"
     ]
    },
    {
     "name": "stdout",
     "output_type": "stream",
     "text": [
      "Recommender_Base_Class: URM Detected 627 ( 4.8%) users with no interactions.\n",
      "Recommender_Base_Class: URM Detected 247 ( 1.1%) items with no interactions.\n",
      "EvaluatorHoldout: Ignoring 2568 (19.7%) Users that have less than 1 test interactions\n",
      "EvaluatorHoldout: Processed 10456 (100.0%) in 44.43 sec. Users per second: 235\n"
     ]
    },
    {
     "name": "stderr",
     "output_type": "stream",
     "text": [
      "[I 2023-12-01 22:00:22,872] Trial 71 finished with value: 0.050887680499387196 and parameters: {'item_knn': 0.22019366987324782, 'rp3': 0.39805391343652596, 'p3alpha': 0.3703011031136951, 'ials': 0.1668279707586251, 'ease_r': 0.005525339255593269, 'user_knn': 0.0013470354220695968, 'svd_item': 0.0014181071172959727, 'nmf': 0.0002936635853333744, 'slim_bpr': 0.0001781486797553354}. Best is trial 64 with value: 0.05092488857312937.\n"
     ]
    },
    {
     "name": "stdout",
     "output_type": "stream",
     "text": [
      "Recommender_Base_Class: URM Detected 627 ( 4.8%) users with no interactions.\n",
      "Recommender_Base_Class: URM Detected 247 ( 1.1%) items with no interactions.\n",
      "EvaluatorHoldout: Ignoring 2568 (19.7%) Users that have less than 1 test interactions\n",
      "EvaluatorHoldout: Processed 10456 (100.0%) in 44.40 sec. Users per second: 235\n"
     ]
    },
    {
     "name": "stderr",
     "output_type": "stream",
     "text": [
      "[I 2023-12-01 22:01:07,596] Trial 72 finished with value: 0.050831511640617125 and parameters: {'item_knn': 0.15031928424507407, 'rp3': 0.371224529736414, 'p3alpha': 0.35518261790276223, 'ials': 0.21731452544770077, 'ease_r': 0.0035415134487359755, 'user_knn': 0.0019344491439179162, 'svd_item': 0.0016224760068228612, 'nmf': 0.0005238841634328687, 'slim_bpr': 0.00016596587216653242}. Best is trial 64 with value: 0.05092488857312937.\n"
     ]
    },
    {
     "name": "stdout",
     "output_type": "stream",
     "text": [
      "Recommender_Base_Class: URM Detected 627 ( 4.8%) users with no interactions.\n",
      "Recommender_Base_Class: URM Detected 247 ( 1.1%) items with no interactions.\n",
      "EvaluatorHoldout: Ignoring 2568 (19.7%) Users that have less than 1 test interactions\n",
      "EvaluatorHoldout: Processed 10456 (100.0%) in 44.77 sec. Users per second: 234\n"
     ]
    },
    {
     "name": "stderr",
     "output_type": "stream",
     "text": [
      "[I 2023-12-01 22:01:52,683] Trial 73 finished with value: 0.0508624500552585 and parameters: {'item_knn': 0.20092618522663874, 'rp3': 0.30925630621574823, 'p3alpha': 0.44447398276302197, 'ials': 0.17321202685438625, 'ease_r': 0.005031870822796349, 'user_knn': 0.0023829178714150686, 'svd_item': 0.0013453398030405983, 'nmf': 0.0014696233791598584, 'slim_bpr': 7.545840753386596e-05}. Best is trial 64 with value: 0.05092488857312937.\n"
     ]
    },
    {
     "name": "stdout",
     "output_type": "stream",
     "text": [
      "Recommender_Base_Class: URM Detected 627 ( 4.8%) users with no interactions.\n",
      "Recommender_Base_Class: URM Detected 247 ( 1.1%) items with no interactions.\n",
      "EvaluatorHoldout: Ignoring 2568 (19.7%) Users that have less than 1 test interactions\n",
      "EvaluatorHoldout: Processed 10456 (100.0%) in 45.07 sec. Users per second: 232\n"
     ]
    },
    {
     "name": "stderr",
     "output_type": "stream",
     "text": [
      "[I 2023-12-01 22:02:38,068] Trial 74 finished with value: 0.05061813829076702 and parameters: {'item_knn': 0.16342788333752684, 'rp3': 0.48791337322838424, 'p3alpha': 0.30815174768391246, 'ials': 0.32751402047594874, 'ease_r': 0.014368481972298909, 'user_knn': 0.0013076338196083075, 'svd_item': 0.0021601527343639627, 'nmf': 0.0002738414319278307, 'slim_bpr': 0.00027934159930089413}. Best is trial 64 with value: 0.05092488857312937.\n"
     ]
    },
    {
     "name": "stdout",
     "output_type": "stream",
     "text": [
      "Recommender_Base_Class: URM Detected 627 ( 4.8%) users with no interactions.\n",
      "Recommender_Base_Class: URM Detected 247 ( 1.1%) items with no interactions.\n",
      "EvaluatorHoldout: Ignoring 2568 (19.7%) Users that have less than 1 test interactions\n",
      "EvaluatorHoldout: Processed 10456 (100.0%) in 44.01 sec. Users per second: 238\n"
     ]
    },
    {
     "name": "stderr",
     "output_type": "stream",
     "text": [
      "[I 2023-12-01 22:03:22,404] Trial 75 finished with value: 0.050866526092712604 and parameters: {'item_knn': 0.14052750438116246, 'rp3': 0.4002928786228977, 'p3alpha': 0.368641550838748, 'ials': 0.14187371016891043, 'ease_r': 0.006286553289094914, 'user_knn': 0.0018609725329245897, 'svd_item': 0.0007994676417215829, 'nmf': 0.0006306112513280677, 'slim_bpr': 0.00012154635272470049}. Best is trial 64 with value: 0.05092488857312937.\n"
     ]
    },
    {
     "name": "stdout",
     "output_type": "stream",
     "text": [
      "Recommender_Base_Class: URM Detected 627 ( 4.8%) users with no interactions.\n",
      "Recommender_Base_Class: URM Detected 247 ( 1.1%) items with no interactions.\n",
      "EvaluatorHoldout: Ignoring 2568 (19.7%) Users that have less than 1 test interactions\n",
      "EvaluatorHoldout: Processed 10456 (100.0%) in 44.16 sec. Users per second: 237\n"
     ]
    },
    {
     "name": "stderr",
     "output_type": "stream",
     "text": [
      "[I 2023-12-01 22:04:06,905] Trial 76 finished with value: 0.0508440737299772 and parameters: {'item_knn': 0.21702042545297937, 'rp3': 0.5013442617210686, 'p3alpha': 0.46675782149503636, 'ials': 0.29248272062040254, 'ease_r': 0.004104534916922778, 'user_knn': 0.0024425648520881335, 'svd_item': 0.003201403079310391, 'nmf': 0.0004284397857981248, 'slim_bpr': 0.00019377604850336246}. Best is trial 64 with value: 0.05092488857312937.\n"
     ]
    },
    {
     "name": "stdout",
     "output_type": "stream",
     "text": [
      "Recommender_Base_Class: URM Detected 627 ( 4.8%) users with no interactions.\n",
      "Recommender_Base_Class: URM Detected 247 ( 1.1%) items with no interactions.\n",
      "EvaluatorHoldout: Ignoring 2568 (19.7%) Users that have less than 1 test interactions\n",
      "EvaluatorHoldout: Processed 10456 (100.0%) in 44.24 sec. Users per second: 236\n"
     ]
    },
    {
     "name": "stderr",
     "output_type": "stream",
     "text": [
      "[I 2023-12-01 22:04:51,477] Trial 77 finished with value: 0.050385257648073924 and parameters: {'item_knn': 0.19017240540643404, 'rp3': 0.3570014028701367, 'p3alpha': 0.21583804836722145, 'ials': 0.35734556199022105, 'ease_r': 0.00325357506595775, 'user_knn': 0.0015840194878724493, 'svd_item': 0.0014138725774225948, 'nmf': 0.00020198731429365142, 'slim_bpr': 3.860909077796008e-05}. Best is trial 64 with value: 0.05092488857312937.\n"
     ]
    },
    {
     "name": "stdout",
     "output_type": "stream",
     "text": [
      "Recommender_Base_Class: URM Detected 627 ( 4.8%) users with no interactions.\n",
      "Recommender_Base_Class: URM Detected 247 ( 1.1%) items with no interactions.\n",
      "EvaluatorHoldout: Ignoring 2568 (19.7%) Users that have less than 1 test interactions\n",
      "EvaluatorHoldout: Processed 10456 (100.0%) in 44.51 sec. Users per second: 235\n"
     ]
    },
    {
     "name": "stderr",
     "output_type": "stream",
     "text": [
      "[I 2023-12-01 22:05:36,313] Trial 78 finished with value: 0.050644226448549906 and parameters: {'item_knn': 0.24577532662944285, 'rp3': 0.3115726056375431, 'p3alpha': 0.3006492578895736, 'ials': 0.22742815631856408, 'ease_r': 0.008493847817631857, 'user_knn': 0.0012135020591534731, 'svd_item': 0.0005037274954787486, 'nmf': 0.0007694812177516388, 'slim_bpr': 0.000695003299071299}. Best is trial 64 with value: 0.05092488857312937.\n"
     ]
    },
    {
     "name": "stdout",
     "output_type": "stream",
     "text": [
      "Recommender_Base_Class: URM Detected 627 ( 4.8%) users with no interactions.\n",
      "Recommender_Base_Class: URM Detected 247 ( 1.1%) items with no interactions.\n",
      "EvaluatorHoldout: Ignoring 2568 (19.7%) Users that have less than 1 test interactions\n",
      "EvaluatorHoldout: Processed 10456 (100.0%) in 44.25 sec. Users per second: 236\n"
     ]
    },
    {
     "name": "stderr",
     "output_type": "stream",
     "text": [
      "[I 2023-12-01 22:06:20,916] Trial 79 finished with value: 0.05081335923173197 and parameters: {'item_knn': 0.12577017212947023, 'rp3': 0.45297818691156233, 'p3alpha': 0.42413409930632, 'ials': 0.19062113228652644, 'ease_r': 0.010626197708775422, 'user_knn': 0.001997395745270594, 'svd_item': 0.002015365705194968, 'nmf': 0.0002612251018076374, 'slim_bpr': 0.00013710237769927022}. Best is trial 64 with value: 0.05092488857312937.\n"
     ]
    },
    {
     "name": "stdout",
     "output_type": "stream",
     "text": [
      "Recommender_Base_Class: URM Detected 627 ( 4.8%) users with no interactions.\n",
      "Recommender_Base_Class: URM Detected 247 ( 1.1%) items with no interactions.\n",
      "EvaluatorHoldout: Ignoring 2568 (19.7%) Users that have less than 1 test interactions\n",
      "EvaluatorHoldout: Processed 10456 (100.0%) in 44.21 sec. Users per second: 237\n"
     ]
    },
    {
     "name": "stderr",
     "output_type": "stream",
     "text": [
      "[I 2023-12-01 22:07:05,482] Trial 80 finished with value: 0.050395144126256036 and parameters: {'item_knn': 0.3006494122825335, 'rp3': 0.14787440421276504, 'p3alpha': 0.34980561244628977, 'ials': 0.15560015950089692, 'ease_r': 0.007282211888160836, 'user_knn': 0.003114995172713559, 'svd_item': 0.0010826231399906129, 'nmf': 0.0014416566456481395, 'slim_bpr': 9.586405214965885e-05}. Best is trial 64 with value: 0.05092488857312937.\n"
     ]
    },
    {
     "name": "stdout",
     "output_type": "stream",
     "text": [
      "Recommender_Base_Class: URM Detected 627 ( 4.8%) users with no interactions.\n",
      "Recommender_Base_Class: URM Detected 247 ( 1.1%) items with no interactions.\n",
      "EvaluatorHoldout: Ignoring 2568 (19.7%) Users that have less than 1 test interactions\n",
      "EvaluatorHoldout: Processed 10456 (100.0%) in 44.96 sec. Users per second: 233\n"
     ]
    },
    {
     "name": "stderr",
     "output_type": "stream",
     "text": [
      "[I 2023-12-01 22:07:50,764] Trial 81 finished with value: 0.05075438572521648 and parameters: {'item_knn': 0.14215385267006675, 'rp3': 0.3984802861872052, 'p3alpha': 0.39961444653483047, 'ials': 0.13004917721683298, 'ease_r': 0.00638787996509006, 'user_knn': 0.0018285130450856842, 'svd_item': 0.0026983061057280506, 'nmf': 0.0006600109033661919, 'slim_bpr': 0.00022988411267874293}. Best is trial 64 with value: 0.05092488857312937.\n"
     ]
    },
    {
     "name": "stdout",
     "output_type": "stream",
     "text": [
      "Recommender_Base_Class: URM Detected 627 ( 4.8%) users with no interactions.\n",
      "Recommender_Base_Class: URM Detected 247 ( 1.1%) items with no interactions.\n",
      "EvaluatorHoldout: Ignoring 2568 (19.7%) Users that have less than 1 test interactions\n",
      "EvaluatorHoldout: Processed 10456 (100.0%) in 44.22 sec. Users per second: 236\n"
     ]
    },
    {
     "name": "stderr",
     "output_type": "stream",
     "text": [
      "[I 2023-12-01 22:08:35,313] Trial 82 finished with value: 0.0508749058792102 and parameters: {'item_knn': 0.15424629681705498, 'rp3': 0.41471492332828186, 'p3alpha': 0.27329166993228077, 'ials': 0.10923674529471071, 'ease_r': 0.0056412466139459765, 'user_knn': 0.0022901091755907943, 'svd_item': 0.0008068342937980917, 'nmf': 0.0011057227475273635, 'slim_bpr': 0.0001057988178827229}. Best is trial 64 with value: 0.05092488857312937.\n"
     ]
    },
    {
     "name": "stdout",
     "output_type": "stream",
     "text": [
      "Recommender_Base_Class: URM Detected 627 ( 4.8%) users with no interactions.\n",
      "Recommender_Base_Class: URM Detected 247 ( 1.1%) items with no interactions.\n",
      "EvaluatorHoldout: Ignoring 2568 (19.7%) Users that have less than 1 test interactions\n",
      "EvaluatorHoldout: Processed 10456 (100.0%) in 44.50 sec. Users per second: 235\n"
     ]
    },
    {
     "name": "stderr",
     "output_type": "stream",
     "text": [
      "[I 2023-12-01 22:09:20,142] Trial 83 finished with value: 0.0508313256761521 and parameters: {'item_knn': 0.16921922959381303, 'rp3': 0.5388290536509712, 'p3alpha': 0.27729306349336175, 'ials': 0.10478169777335429, 'ease_r': 0.004653245607797347, 'user_knn': 0.002470678616400133, 'svd_item': 0.0009770822675190078, 'nmf': 0.0010240028216874325, 'slim_bpr': 0.00016807835980976824}. Best is trial 64 with value: 0.05092488857312937.\n"
     ]
    },
    {
     "name": "stdout",
     "output_type": "stream",
     "text": [
      "Recommender_Base_Class: URM Detected 627 ( 4.8%) users with no interactions.\n",
      "Recommender_Base_Class: URM Detected 247 ( 1.1%) items with no interactions.\n",
      "EvaluatorHoldout: Ignoring 2568 (19.7%) Users that have less than 1 test interactions\n",
      "EvaluatorHoldout: Processed 10456 (100.0%) in 44.64 sec. Users per second: 234\n"
     ]
    },
    {
     "name": "stderr",
     "output_type": "stream",
     "text": [
      "[I 2023-12-01 22:10:05,120] Trial 84 finished with value: 0.050758780558895884 and parameters: {'item_knn': 0.22894947497172147, 'rp3': 0.27858910247382157, 'p3alpha': 0.461142969843647, 'ials': 0.17018211878889303, 'ease_r': 0.0054614771275150594, 'user_knn': 0.0012693444241069075, 'svd_item': 0.0014720066287611856, 'nmf': 0.00043642351022005974, 'slim_bpr': 0.00010249647656580187}. Best is trial 64 with value: 0.05092488857312937.\n"
     ]
    },
    {
     "name": "stdout",
     "output_type": "stream",
     "text": [
      "Recommender_Base_Class: URM Detected 627 ( 4.8%) users with no interactions.\n",
      "Recommender_Base_Class: URM Detected 247 ( 1.1%) items with no interactions.\n",
      "EvaluatorHoldout: Ignoring 2568 (19.7%) Users that have less than 1 test interactions\n",
      "EvaluatorHoldout: Processed 10456 (100.0%) in 44.22 sec. Users per second: 236\n"
     ]
    },
    {
     "name": "stderr",
     "output_type": "stream",
     "text": [
      "[I 2023-12-01 22:10:49,671] Trial 85 finished with value: 0.05077660658116915 and parameters: {'item_knn': 0.1981248927576975, 'rp3': 0.34854546333886516, 'p3alpha': 0.23969434382918936, 'ials': 0.22701621242078704, 'ease_r': 0.0038814221501280214, 'user_knn': 0.002396394578735078, 'svd_item': 0.0020406712622200542, 'nmf': 0.0003423453314550967, 'slim_bpr': 5.694172034775032e-05}. Best is trial 64 with value: 0.05092488857312937.\n"
     ]
    },
    {
     "name": "stdout",
     "output_type": "stream",
     "text": [
      "Recommender_Base_Class: URM Detected 627 ( 4.8%) users with no interactions.\n",
      "Recommender_Base_Class: URM Detected 247 ( 1.1%) items with no interactions.\n",
      "EvaluatorHoldout: Ignoring 2568 (19.7%) Users that have less than 1 test interactions\n",
      "EvaluatorHoldout: Processed 10456 (100.0%) in 44.74 sec. Users per second: 234\n"
     ]
    },
    {
     "name": "stderr",
     "output_type": "stream",
     "text": [
      "[I 2023-12-01 22:11:34,747] Trial 86 finished with value: 0.050937632831761136 and parameters: {'item_knn': 0.15778573055111927, 'rp3': 0.4537190593745236, 'p3alpha': 0.3332076925657023, 'ials': 0.18873926545901815, 'ease_r': 0.008958947376370386, 'user_knn': 0.001454667740908643, 'svd_item': 0.00041976516416371556, 'nmf': 0.0011209447523190098, 'slim_bpr': 0.00031747086938584915}. Best is trial 86 with value: 0.050937632831761136.\n"
     ]
    },
    {
     "name": "stdout",
     "output_type": "stream",
     "text": [
      "Recommender_Base_Class: URM Detected 627 ( 4.8%) users with no interactions.\n",
      "Recommender_Base_Class: URM Detected 247 ( 1.1%) items with no interactions.\n",
      "EvaluatorHoldout: Ignoring 2568 (19.7%) Users that have less than 1 test interactions\n",
      "EvaluatorHoldout: Processed 10456 (100.0%) in 44.93 sec. Users per second: 233\n"
     ]
    },
    {
     "name": "stderr",
     "output_type": "stream",
     "text": [
      "[I 2023-12-01 22:12:20,017] Trial 87 finished with value: 0.05075418837517212 and parameters: {'item_knn': 0.14971041095746476, 'rp3': 0.4475614870299622, 'p3alpha': 0.2896937912393387, 'ials': 0.29137454532418083, 'ease_r': 0.00927985165864946, 'user_knn': 0.0031342766264927896, 'svd_item': 0.00025779282991478535, 'nmf': 0.0007535516722357767, 'slim_bpr': 0.0005428414088216047}. Best is trial 86 with value: 0.050937632831761136.\n"
     ]
    },
    {
     "name": "stdout",
     "output_type": "stream",
     "text": [
      "Recommender_Base_Class: URM Detected 627 ( 4.8%) users with no interactions.\n",
      "Recommender_Base_Class: URM Detected 247 ( 1.1%) items with no interactions.\n",
      "EvaluatorHoldout: Ignoring 2568 (19.7%) Users that have less than 1 test interactions\n",
      "EvaluatorHoldout: Processed 10456 (100.0%) in 45.00 sec. Users per second: 232\n"
     ]
    },
    {
     "name": "stderr",
     "output_type": "stream",
     "text": [
      "[I 2023-12-01 22:13:05,374] Trial 88 finished with value: 0.05059890804702464 and parameters: {'item_knn': 0.12697123942235955, 'rp3': 0.5393339792293912, 'p3alpha': 0.49948753806670265, 'ials': 0.11733718443403518, 'ease_r': 0.012386652452907826, 'user_knn': 0.001576298937428242, 'svd_item': 0.00042480150338096233, 'nmf': 0.0011725564006694609, 'slim_bpr': 0.00033792416230193353}. Best is trial 86 with value: 0.050937632831761136.\n"
     ]
    },
    {
     "name": "stdout",
     "output_type": "stream",
     "text": [
      "Recommender_Base_Class: URM Detected 627 ( 4.8%) users with no interactions.\n",
      "Recommender_Base_Class: URM Detected 247 ( 1.1%) items with no interactions.\n",
      "EvaluatorHoldout: Ignoring 2568 (19.7%) Users that have less than 1 test interactions\n",
      "EvaluatorHoldout: Processed 10456 (100.0%) in 44.48 sec. Users per second: 235\n"
     ]
    },
    {
     "name": "stderr",
     "output_type": "stream",
     "text": [
      "[I 2023-12-01 22:13:50,215] Trial 89 finished with value: 0.050747687209288836 and parameters: {'item_knn': 0.10765965452604455, 'rp3': 0.2493601895404883, 'p3alpha': 0.33707536769274316, 'ials': 0.1581058862274273, 'ease_r': 0.0032945700834401694, 'user_knn': 0.0016154939488831565, 'svd_item': 0.0030839356078936507, 'nmf': 0.002879076140551719, 'slim_bpr': 0.00019176636207797265}. Best is trial 86 with value: 0.050937632831761136.\n"
     ]
    },
    {
     "name": "stdout",
     "output_type": "stream",
     "text": [
      "Recommender_Base_Class: URM Detected 627 ( 4.8%) users with no interactions.\n",
      "Recommender_Base_Class: URM Detected 247 ( 1.1%) items with no interactions.\n",
      "EvaluatorHoldout: Ignoring 2568 (19.7%) Users that have less than 1 test interactions\n",
      "EvaluatorHoldout: Processed 10456 (100.0%) in 44.00 sec. Users per second: 238\n"
     ]
    },
    {
     "name": "stderr",
     "output_type": "stream",
     "text": [
      "[I 2023-12-01 22:14:34,563] Trial 90 finished with value: 0.05075218830837674 and parameters: {'item_knn': 0.16595911148968778, 'rp3': 0.8322502576781393, 'p3alpha': 0.6144059249862881, 'ials': 0.22021942418547266, 'ease_r': 0.007084208506729054, 'user_knn': 0.002044414876430518, 'svd_item': 0.000645818694641449, 'nmf': 0.001804819451380678, 'slim_bpr': 0.000882956584278034}. Best is trial 86 with value: 0.050937632831761136.\n"
     ]
    },
    {
     "name": "stdout",
     "output_type": "stream",
     "text": [
      "Recommender_Base_Class: URM Detected 627 ( 4.8%) users with no interactions.\n",
      "Recommender_Base_Class: URM Detected 247 ( 1.1%) items with no interactions.\n",
      "EvaluatorHoldout: Ignoring 2568 (19.7%) Users that have less than 1 test interactions\n",
      "EvaluatorHoldout: Processed 10456 (100.0%) in 44.58 sec. Users per second: 235\n"
     ]
    },
    {
     "name": "stderr",
     "output_type": "stream",
     "text": [
      "[I 2023-12-01 22:15:19,470] Trial 91 finished with value: 0.05084469993684848 and parameters: {'item_knn': 0.19566566313164888, 'rp3': 0.407895568369341, 'p3alpha': 0.38116549086450474, 'ials': 0.18136395396063512, 'ease_r': 0.005519533459074336, 'user_knn': 0.0010135006134553972, 'svd_item': 0.000798976608619266, 'nmf': 0.0010886449590385976, 'slim_bpr': 0.00029070137598483456}. Best is trial 86 with value: 0.050937632831761136.\n"
     ]
    },
    {
     "name": "stdout",
     "output_type": "stream",
     "text": [
      "Recommender_Base_Class: URM Detected 627 ( 4.8%) users with no interactions.\n",
      "Recommender_Base_Class: URM Detected 247 ( 1.1%) items with no interactions.\n",
      "EvaluatorHoldout: Ignoring 2568 (19.7%) Users that have less than 1 test interactions\n",
      "EvaluatorHoldout: Processed 10456 (100.0%) in 44.79 sec. Users per second: 233\n"
     ]
    },
    {
     "name": "stderr",
     "output_type": "stream",
     "text": [
      "[I 2023-12-01 22:16:04,586] Trial 92 finished with value: 0.05087082225136993 and parameters: {'item_knn': 0.1558834073777581, 'rp3': 0.3623040973635866, 'p3alpha': 0.4219202994096801, 'ials': 0.19373174668521154, 'ease_r': 0.004333690227598013, 'user_knn': 0.0013429206471030307, 'svd_item': 0.0017558362453364733, 'nmf': 0.00019024948586091677, 'slim_bpr': 0.00023238034623151052}. Best is trial 86 with value: 0.050937632831761136.\n"
     ]
    },
    {
     "name": "stdout",
     "output_type": "stream",
     "text": [
      "Recommender_Base_Class: URM Detected 627 ( 4.8%) users with no interactions.\n",
      "Recommender_Base_Class: URM Detected 247 ( 1.1%) items with no interactions.\n",
      "EvaluatorHoldout: Ignoring 2568 (19.7%) Users that have less than 1 test interactions\n",
      "EvaluatorHoldout: Processed 10456 (100.0%) in 44.55 sec. Users per second: 235\n"
     ]
    },
    {
     "name": "stderr",
     "output_type": "stream",
     "text": [
      "[I 2023-12-01 22:16:49,470] Trial 93 finished with value: 0.05080701746396148 and parameters: {'item_knn': 0.13410476653049833, 'rp3': 0.29172773345054215, 'p3alpha': 0.42510136200445625, 'ials': 0.19652961362126833, 'ease_r': 0.0044950302942901735, 'user_knn': 0.002552870468612889, 'svd_item': 0.0017527850293247952, 'nmf': 0.0002907826957556391, 'slim_bpr': 0.0004673533629852814}. Best is trial 86 with value: 0.050937632831761136.\n"
     ]
    },
    {
     "name": "stdout",
     "output_type": "stream",
     "text": [
      "Recommender_Base_Class: URM Detected 627 ( 4.8%) users with no interactions.\n",
      "Recommender_Base_Class: URM Detected 247 ( 1.1%) items with no interactions.\n",
      "EvaluatorHoldout: Ignoring 2568 (19.7%) Users that have less than 1 test interactions\n",
      "EvaluatorHoldout: Processed 10456 (100.0%) in 45.91 sec. Users per second: 228\n"
     ]
    },
    {
     "name": "stderr",
     "output_type": "stream",
     "text": [
      "[I 2023-12-01 22:17:35,726] Trial 94 finished with value: 0.050677016917453646 and parameters: {'item_knn': 0.11443023579150728, 'rp3': 0.33956691609404244, 'p3alpha': 0.5046797249572221, 'ials': 0.15547539713663355, 'ease_r': 0.002921591517511567, 'user_knn': 0.0014328466750483477, 'svd_item': 0.0028099126594721105, 'nmf': 0.0001694088659672945, 'slim_bpr': 0.0001352974649075475}. Best is trial 86 with value: 0.050937632831761136.\n"
     ]
    },
    {
     "name": "stdout",
     "output_type": "stream",
     "text": [
      "Recommender_Base_Class: URM Detected 627 ( 4.8%) users with no interactions.\n",
      "Recommender_Base_Class: URM Detected 247 ( 1.1%) items with no interactions.\n",
      "EvaluatorHoldout: Ignoring 2568 (19.7%) Users that have less than 1 test interactions\n",
      "EvaluatorHoldout: Processed 10456 (100.0%) in 46.22 sec. Users per second: 226\n"
     ]
    },
    {
     "name": "stderr",
     "output_type": "stream",
     "text": [
      "[I 2023-12-01 22:18:22,320] Trial 95 finished with value: 0.050680125180651854 and parameters: {'item_knn': 0.15954994126438785, 'rp3': 0.4872253809006231, 'p3alpha': 0.7013149049000275, 'ials': 0.22808589555384728, 'ease_r': 0.004032089209291697, 'user_knn': 0.0021396536264158966, 'svd_item': 0.00099129851377886, 'nmf': 0.00020357058597996047, 'slim_bpr': 0.00022502375091405257}. Best is trial 86 with value: 0.050937632831761136.\n"
     ]
    },
    {
     "name": "stdout",
     "output_type": "stream",
     "text": [
      "Recommender_Base_Class: URM Detected 627 ( 4.8%) users with no interactions.\n",
      "Recommender_Base_Class: URM Detected 247 ( 1.1%) items with no interactions.\n",
      "EvaluatorHoldout: Ignoring 2568 (19.7%) Users that have less than 1 test interactions\n",
      "EvaluatorHoldout: Processed 10456 (100.0%) in 45.03 sec. Users per second: 232\n"
     ]
    },
    {
     "name": "stderr",
     "output_type": "stream",
     "text": [
      "[I 2023-12-01 22:19:07,695] Trial 96 finished with value: 0.05091998518356643 and parameters: {'item_knn': 0.18060258729568932, 'rp3': 0.44351333736886234, 'p3alpha': 0.25672183957122946, 'ials': 0.13367150792649293, 'ease_r': 0.00826801010469125, 'user_knn': 0.002915931098007266, 'svd_item': 0.0015649644357201978, 'nmf': 0.00044363601566918504, 'slim_bpr': 0.0006435817825731078}. Best is trial 86 with value: 0.050937632831761136.\n"
     ]
    },
    {
     "name": "stdout",
     "output_type": "stream",
     "text": [
      "Recommender_Base_Class: URM Detected 627 ( 4.8%) users with no interactions.\n",
      "Recommender_Base_Class: URM Detected 247 ( 1.1%) items with no interactions.\n",
      "EvaluatorHoldout: Ignoring 2568 (19.7%) Users that have less than 1 test interactions\n",
      "EvaluatorHoldout: Processed 10456 (100.0%) in 44.13 sec. Users per second: 237\n"
     ]
    },
    {
     "name": "stderr",
     "output_type": "stream",
     "text": [
      "[I 2023-12-01 22:19:52,139] Trial 97 finished with value: 0.050717492652506566 and parameters: {'item_knn': 0.14817703804382895, 'rp3': 0.5684234754069224, 'p3alpha': 0.33236673107338727, 'ials': 0.0890167903938447, 'ease_r': 0.008037095717725672, 'user_knn': 0.0029640051712122376, 'svd_item': 0.0015258616744238888, 'nmf': 0.00042849309113878435, 'slim_bpr': 0.0006442411578370319}. Best is trial 86 with value: 0.050937632831761136.\n"
     ]
    },
    {
     "name": "stdout",
     "output_type": "stream",
     "text": [
      "Recommender_Base_Class: URM Detected 627 ( 4.8%) users with no interactions.\n",
      "Recommender_Base_Class: URM Detected 247 ( 1.1%) items with no interactions.\n",
      "EvaluatorHoldout: Ignoring 2568 (19.7%) Users that have less than 1 test interactions\n",
      "EvaluatorHoldout: Processed 10456 (100.0%) in 44.49 sec. Users per second: 235\n"
     ]
    },
    {
     "name": "stderr",
     "output_type": "stream",
     "text": [
      "[I 2023-12-01 22:20:36,957] Trial 98 finished with value: 0.05091222021836074 and parameters: {'item_knn': 0.12203514542071603, 'rp3': 0.421623790326846, 'p3alpha': 0.2399253833635816, 'ials': 0.1255440554289545, 'ease_r': 0.01013095362853584, 'user_knn': 0.0017054512835934503, 'svd_item': 0.0012652638616248847, 'nmf': 0.0008451908219133294, 'slim_bpr': 0.00039700080278407554}. Best is trial 86 with value: 0.050937632831761136.\n"
     ]
    },
    {
     "name": "stdout",
     "output_type": "stream",
     "text": [
      "Recommender_Base_Class: URM Detected 627 ( 4.8%) users with no interactions.\n",
      "Recommender_Base_Class: URM Detected 247 ( 1.1%) items with no interactions.\n",
      "EvaluatorHoldout: Ignoring 2568 (19.7%) Users that have less than 1 test interactions\n",
      "EvaluatorHoldout: Processed 10456 (100.0%) in 44.30 sec. Users per second: 236\n"
     ]
    },
    {
     "name": "stderr",
     "output_type": "stream",
     "text": [
      "[I 2023-12-01 22:21:21,584] Trial 99 finished with value: 0.05092542749055816 and parameters: {'item_knn': 0.12364252503955349, 'rp3': 0.4716041632695916, 'p3alpha': 0.2620858555741696, 'ials': 0.10916993785659324, 'ease_r': 0.010839268969788743, 'user_knn': 0.003920110313046692, 'svd_item': 0.0007538167342390345, 'nmf': 0.000805177350133551, 'slim_bpr': 0.0007482372077394788}. Best is trial 86 with value: 0.050937632831761136.\n"
     ]
    }
   ],
   "source": [
    "if config['tune_parameters']:\n",
    "    study = optuna.create_study(direction='maximize', study_name='hyperparameters_tuning_linear_9models_no_cv', \n",
    "                                storage=f'sqlite:///{config[\"database_path\"]}', load_if_exists=True)\n",
    "    study.optimize(objective, n_trials=100)"
   ]
  },
  {
   "cell_type": "code",
   "execution_count": 28,
   "id": "24f2233e",
   "metadata": {
    "execution": {
     "iopub.execute_input": "2023-12-01T22:21:21.722100Z",
     "iopub.status.busy": "2023-12-01T22:21:21.720996Z",
     "iopub.status.idle": "2023-12-01T22:21:22.605004Z",
     "shell.execute_reply": "2023-12-01T22:21:22.603691Z"
    },
    "papermill": {
     "duration": 0.950608,
     "end_time": "2023-12-01T22:21:22.608045",
     "exception": false,
     "start_time": "2023-12-01T22:21:21.657437",
     "status": "completed"
    },
    "tags": []
   },
   "outputs": [
    {
     "data": {
      "text/html": [
       "        <script type=\"text/javascript\">\n",
       "        window.PlotlyConfig = {MathJaxConfig: 'local'};\n",
       "        if (window.MathJax && window.MathJax.Hub && window.MathJax.Hub.Config) {window.MathJax.Hub.Config({SVG: {font: \"STIX-Web\"}});}\n",
       "        if (typeof require !== 'undefined') {\n",
       "        require.undef(\"plotly\");\n",
       "        requirejs.config({\n",
       "            paths: {\n",
       "                'plotly': ['https://cdn.plot.ly/plotly-2.25.2.min']\n",
       "            }\n",
       "        });\n",
       "        require(['plotly'], function(Plotly) {\n",
       "            window._Plotly = Plotly;\n",
       "        });\n",
       "        }\n",
       "        </script>\n",
       "        "
      ]
     },
     "metadata": {},
     "output_type": "display_data"
    },
    {
     "data": {
      "text/html": [
       "<div>                            <div id=\"ecd88027-933d-4a39-8efe-af6bac01854b\" class=\"plotly-graph-div\" style=\"height:525px; width:100%;\"></div>            <script type=\"text/javascript\">                require([\"plotly\"], function(Plotly) {                    window.PLOTLYENV=window.PLOTLYENV || {};                                    if (document.getElementById(\"ecd88027-933d-4a39-8efe-af6bac01854b\")) {                    Plotly.newPlot(                        \"ecd88027-933d-4a39-8efe-af6bac01854b\",                        [{\"mode\":\"markers\",\"name\":\"Objective Value\",\"x\":[0,1,2,3,4,5,6,7,8,9,10,11,12,13,14,15,16,17,18,19,20,21,22,23,24,25,26,27,28,29,30,31,32,33,34,35,36,37,38,39,40,41,42,43,44,45,46,47,48,49,50,51,52,53,54,55,56,57,58,59,60,61,62,63,64,65,66,67,68,69,70,71,72,73,74,75,76,77,78,79,80,81,82,83,84,85,86,87,88,89,90,91,92,93,94,95,96,97,98,99],\"y\":[0.04836037787979314,0.048550334887845256,0.04552857173218748,0.04965483097727802,0.0504466486926325,0.028193749924096293,0.048468924199366714,0.043035368923137196,0.043514637300980555,0.04124737372633372,0.048018172902928806,0.049475978704412706,0.05035116163272319,0.0503336923586069,0.04580949572509504,0.04937136040976006,0.05053245421479036,0.05061446454378802,0.05076714516462097,0.04949516340583736,0.05056379491990688,0.05055704706646814,0.05053870110273202,0.049756189201006114,0.05063045369257177,0.05056520673176253,0.05045917662525422,0.05052538376993294,0.05077432567007987,0.05011138132886482,0.04974629892763078,0.05082341269841329,0.05082203124810296,0.05082792897827374,0.05084234691708917,0.05081450917525944,0.049871980544322465,0.04946923464616723,0.05087312593361811,0.05002370098128571,0.05061764871084951,0.05084366384911578,0.050795092967052244,0.05070749231852968,0.04991162133688028,0.04893278409297989,0.050799662379617076,0.0503972428680736,0.05021621594952767,0.04961143673868484,0.04936012663800593,0.050835337195322385,0.050710608172114015,0.05064109541419269,0.050760385925602676,0.0503744071908289,0.05083479068750748,0.05088541476907067,0.05086435524222495,0.05083364453917301,0.05060698801326245,0.05087072737154087,0.050871896291034224,0.05091994343644169,0.05092488857312937,0.050811017597552265,0.0506653884456109,0.05086914857118618,0.050603936677961744,0.050710725823102085,0.050484388093417064,0.050887680499387196,0.050831511640617125,0.0508624500552585,0.05061813829076702,0.050866526092712604,0.0508440737299772,0.050385257648073924,0.050644226448549906,0.05081335923173197,0.050395144126256036,0.05075438572521648,0.0508749058792102,0.0508313256761521,0.050758780558895884,0.05077660658116915,0.050937632831761136,0.05075418837517212,0.05059890804702464,0.050747687209288836,0.05075218830837674,0.05084469993684848,0.05087082225136993,0.05080701746396148,0.050677016917453646,0.050680125180651854,0.05091998518356643,0.050717492652506566,0.05091222021836074,0.05092542749055816],\"type\":\"scatter\"},{\"mode\":\"lines\",\"name\":\"Best Value\",\"x\":[0,1,2,3,4,5,6,7,8,9,10,11,12,13,14,15,16,17,18,19,20,21,22,23,24,25,26,27,28,29,30,31,32,33,34,35,36,37,38,39,40,41,42,43,44,45,46,47,48,49,50,51,52,53,54,55,56,57,58,59,60,61,62,63,64,65,66,67,68,69,70,71,72,73,74,75,76,77,78,79,80,81,82,83,84,85,86,87,88,89,90,91,92,93,94,95,96,97,98,99],\"y\":[0.04836037787979314,0.048550334887845256,0.048550334887845256,0.04965483097727802,0.0504466486926325,0.0504466486926325,0.0504466486926325,0.0504466486926325,0.0504466486926325,0.0504466486926325,0.0504466486926325,0.0504466486926325,0.0504466486926325,0.0504466486926325,0.0504466486926325,0.0504466486926325,0.05053245421479036,0.05061446454378802,0.05076714516462097,0.05076714516462097,0.05076714516462097,0.05076714516462097,0.05076714516462097,0.05076714516462097,0.05076714516462097,0.05076714516462097,0.05076714516462097,0.05076714516462097,0.05077432567007987,0.05077432567007987,0.05077432567007987,0.05082341269841329,0.05082341269841329,0.05082792897827374,0.05084234691708917,0.05084234691708917,0.05084234691708917,0.05084234691708917,0.05087312593361811,0.05087312593361811,0.05087312593361811,0.05087312593361811,0.05087312593361811,0.05087312593361811,0.05087312593361811,0.05087312593361811,0.05087312593361811,0.05087312593361811,0.05087312593361811,0.05087312593361811,0.05087312593361811,0.05087312593361811,0.05087312593361811,0.05087312593361811,0.05087312593361811,0.05087312593361811,0.05087312593361811,0.05088541476907067,0.05088541476907067,0.05088541476907067,0.05088541476907067,0.05088541476907067,0.05088541476907067,0.05091994343644169,0.05092488857312937,0.05092488857312937,0.05092488857312937,0.05092488857312937,0.05092488857312937,0.05092488857312937,0.05092488857312937,0.05092488857312937,0.05092488857312937,0.05092488857312937,0.05092488857312937,0.05092488857312937,0.05092488857312937,0.05092488857312937,0.05092488857312937,0.05092488857312937,0.05092488857312937,0.05092488857312937,0.05092488857312937,0.05092488857312937,0.05092488857312937,0.05092488857312937,0.050937632831761136,0.050937632831761136,0.050937632831761136,0.050937632831761136,0.050937632831761136,0.050937632831761136,0.050937632831761136,0.050937632831761136,0.050937632831761136,0.050937632831761136,0.050937632831761136,0.050937632831761136,0.050937632831761136,0.050937632831761136],\"type\":\"scatter\"},{\"marker\":{\"color\":\"#cccccc\"},\"mode\":\"markers\",\"name\":\"Infeasible Trial\",\"showlegend\":false,\"x\":[],\"y\":[],\"type\":\"scatter\"}],                        {\"title\":{\"text\":\"Optimization History Plot\"},\"xaxis\":{\"title\":{\"text\":\"Trial\"}},\"yaxis\":{\"title\":{\"text\":\"Objective Value\"}},\"template\":{\"data\":{\"histogram2dcontour\":[{\"type\":\"histogram2dcontour\",\"colorbar\":{\"outlinewidth\":0,\"ticks\":\"\"},\"colorscale\":[[0.0,\"#0d0887\"],[0.1111111111111111,\"#46039f\"],[0.2222222222222222,\"#7201a8\"],[0.3333333333333333,\"#9c179e\"],[0.4444444444444444,\"#bd3786\"],[0.5555555555555556,\"#d8576b\"],[0.6666666666666666,\"#ed7953\"],[0.7777777777777778,\"#fb9f3a\"],[0.8888888888888888,\"#fdca26\"],[1.0,\"#f0f921\"]]}],\"choropleth\":[{\"type\":\"choropleth\",\"colorbar\":{\"outlinewidth\":0,\"ticks\":\"\"}}],\"histogram2d\":[{\"type\":\"histogram2d\",\"colorbar\":{\"outlinewidth\":0,\"ticks\":\"\"},\"colorscale\":[[0.0,\"#0d0887\"],[0.1111111111111111,\"#46039f\"],[0.2222222222222222,\"#7201a8\"],[0.3333333333333333,\"#9c179e\"],[0.4444444444444444,\"#bd3786\"],[0.5555555555555556,\"#d8576b\"],[0.6666666666666666,\"#ed7953\"],[0.7777777777777778,\"#fb9f3a\"],[0.8888888888888888,\"#fdca26\"],[1.0,\"#f0f921\"]]}],\"heatmap\":[{\"type\":\"heatmap\",\"colorbar\":{\"outlinewidth\":0,\"ticks\":\"\"},\"colorscale\":[[0.0,\"#0d0887\"],[0.1111111111111111,\"#46039f\"],[0.2222222222222222,\"#7201a8\"],[0.3333333333333333,\"#9c179e\"],[0.4444444444444444,\"#bd3786\"],[0.5555555555555556,\"#d8576b\"],[0.6666666666666666,\"#ed7953\"],[0.7777777777777778,\"#fb9f3a\"],[0.8888888888888888,\"#fdca26\"],[1.0,\"#f0f921\"]]}],\"heatmapgl\":[{\"type\":\"heatmapgl\",\"colorbar\":{\"outlinewidth\":0,\"ticks\":\"\"},\"colorscale\":[[0.0,\"#0d0887\"],[0.1111111111111111,\"#46039f\"],[0.2222222222222222,\"#7201a8\"],[0.3333333333333333,\"#9c179e\"],[0.4444444444444444,\"#bd3786\"],[0.5555555555555556,\"#d8576b\"],[0.6666666666666666,\"#ed7953\"],[0.7777777777777778,\"#fb9f3a\"],[0.8888888888888888,\"#fdca26\"],[1.0,\"#f0f921\"]]}],\"contourcarpet\":[{\"type\":\"contourcarpet\",\"colorbar\":{\"outlinewidth\":0,\"ticks\":\"\"}}],\"contour\":[{\"type\":\"contour\",\"colorbar\":{\"outlinewidth\":0,\"ticks\":\"\"},\"colorscale\":[[0.0,\"#0d0887\"],[0.1111111111111111,\"#46039f\"],[0.2222222222222222,\"#7201a8\"],[0.3333333333333333,\"#9c179e\"],[0.4444444444444444,\"#bd3786\"],[0.5555555555555556,\"#d8576b\"],[0.6666666666666666,\"#ed7953\"],[0.7777777777777778,\"#fb9f3a\"],[0.8888888888888888,\"#fdca26\"],[1.0,\"#f0f921\"]]}],\"surface\":[{\"type\":\"surface\",\"colorbar\":{\"outlinewidth\":0,\"ticks\":\"\"},\"colorscale\":[[0.0,\"#0d0887\"],[0.1111111111111111,\"#46039f\"],[0.2222222222222222,\"#7201a8\"],[0.3333333333333333,\"#9c179e\"],[0.4444444444444444,\"#bd3786\"],[0.5555555555555556,\"#d8576b\"],[0.6666666666666666,\"#ed7953\"],[0.7777777777777778,\"#fb9f3a\"],[0.8888888888888888,\"#fdca26\"],[1.0,\"#f0f921\"]]}],\"mesh3d\":[{\"type\":\"mesh3d\",\"colorbar\":{\"outlinewidth\":0,\"ticks\":\"\"}}],\"scatter\":[{\"fillpattern\":{\"fillmode\":\"overlay\",\"size\":10,\"solidity\":0.2},\"type\":\"scatter\"}],\"parcoords\":[{\"type\":\"parcoords\",\"line\":{\"colorbar\":{\"outlinewidth\":0,\"ticks\":\"\"}}}],\"scatterpolargl\":[{\"type\":\"scatterpolargl\",\"marker\":{\"colorbar\":{\"outlinewidth\":0,\"ticks\":\"\"}}}],\"bar\":[{\"error_x\":{\"color\":\"#2a3f5f\"},\"error_y\":{\"color\":\"#2a3f5f\"},\"marker\":{\"line\":{\"color\":\"#E5ECF6\",\"width\":0.5},\"pattern\":{\"fillmode\":\"overlay\",\"size\":10,\"solidity\":0.2}},\"type\":\"bar\"}],\"scattergeo\":[{\"type\":\"scattergeo\",\"marker\":{\"colorbar\":{\"outlinewidth\":0,\"ticks\":\"\"}}}],\"scatterpolar\":[{\"type\":\"scatterpolar\",\"marker\":{\"colorbar\":{\"outlinewidth\":0,\"ticks\":\"\"}}}],\"histogram\":[{\"marker\":{\"pattern\":{\"fillmode\":\"overlay\",\"size\":10,\"solidity\":0.2}},\"type\":\"histogram\"}],\"scattergl\":[{\"type\":\"scattergl\",\"marker\":{\"colorbar\":{\"outlinewidth\":0,\"ticks\":\"\"}}}],\"scatter3d\":[{\"type\":\"scatter3d\",\"line\":{\"colorbar\":{\"outlinewidth\":0,\"ticks\":\"\"}},\"marker\":{\"colorbar\":{\"outlinewidth\":0,\"ticks\":\"\"}}}],\"scattermapbox\":[{\"type\":\"scattermapbox\",\"marker\":{\"colorbar\":{\"outlinewidth\":0,\"ticks\":\"\"}}}],\"scatterternary\":[{\"type\":\"scatterternary\",\"marker\":{\"colorbar\":{\"outlinewidth\":0,\"ticks\":\"\"}}}],\"scattercarpet\":[{\"type\":\"scattercarpet\",\"marker\":{\"colorbar\":{\"outlinewidth\":0,\"ticks\":\"\"}}}],\"carpet\":[{\"aaxis\":{\"endlinecolor\":\"#2a3f5f\",\"gridcolor\":\"white\",\"linecolor\":\"white\",\"minorgridcolor\":\"white\",\"startlinecolor\":\"#2a3f5f\"},\"baxis\":{\"endlinecolor\":\"#2a3f5f\",\"gridcolor\":\"white\",\"linecolor\":\"white\",\"minorgridcolor\":\"white\",\"startlinecolor\":\"#2a3f5f\"},\"type\":\"carpet\"}],\"table\":[{\"cells\":{\"fill\":{\"color\":\"#EBF0F8\"},\"line\":{\"color\":\"white\"}},\"header\":{\"fill\":{\"color\":\"#C8D4E3\"},\"line\":{\"color\":\"white\"}},\"type\":\"table\"}],\"barpolar\":[{\"marker\":{\"line\":{\"color\":\"#E5ECF6\",\"width\":0.5},\"pattern\":{\"fillmode\":\"overlay\",\"size\":10,\"solidity\":0.2}},\"type\":\"barpolar\"}],\"pie\":[{\"automargin\":true,\"type\":\"pie\"}]},\"layout\":{\"autotypenumbers\":\"strict\",\"colorway\":[\"#636efa\",\"#EF553B\",\"#00cc96\",\"#ab63fa\",\"#FFA15A\",\"#19d3f3\",\"#FF6692\",\"#B6E880\",\"#FF97FF\",\"#FECB52\"],\"font\":{\"color\":\"#2a3f5f\"},\"hovermode\":\"closest\",\"hoverlabel\":{\"align\":\"left\"},\"paper_bgcolor\":\"white\",\"plot_bgcolor\":\"#E5ECF6\",\"polar\":{\"bgcolor\":\"#E5ECF6\",\"angularaxis\":{\"gridcolor\":\"white\",\"linecolor\":\"white\",\"ticks\":\"\"},\"radialaxis\":{\"gridcolor\":\"white\",\"linecolor\":\"white\",\"ticks\":\"\"}},\"ternary\":{\"bgcolor\":\"#E5ECF6\",\"aaxis\":{\"gridcolor\":\"white\",\"linecolor\":\"white\",\"ticks\":\"\"},\"baxis\":{\"gridcolor\":\"white\",\"linecolor\":\"white\",\"ticks\":\"\"},\"caxis\":{\"gridcolor\":\"white\",\"linecolor\":\"white\",\"ticks\":\"\"}},\"coloraxis\":{\"colorbar\":{\"outlinewidth\":0,\"ticks\":\"\"}},\"colorscale\":{\"sequential\":[[0.0,\"#0d0887\"],[0.1111111111111111,\"#46039f\"],[0.2222222222222222,\"#7201a8\"],[0.3333333333333333,\"#9c179e\"],[0.4444444444444444,\"#bd3786\"],[0.5555555555555556,\"#d8576b\"],[0.6666666666666666,\"#ed7953\"],[0.7777777777777778,\"#fb9f3a\"],[0.8888888888888888,\"#fdca26\"],[1.0,\"#f0f921\"]],\"sequentialminus\":[[0.0,\"#0d0887\"],[0.1111111111111111,\"#46039f\"],[0.2222222222222222,\"#7201a8\"],[0.3333333333333333,\"#9c179e\"],[0.4444444444444444,\"#bd3786\"],[0.5555555555555556,\"#d8576b\"],[0.6666666666666666,\"#ed7953\"],[0.7777777777777778,\"#fb9f3a\"],[0.8888888888888888,\"#fdca26\"],[1.0,\"#f0f921\"]],\"diverging\":[[0,\"#8e0152\"],[0.1,\"#c51b7d\"],[0.2,\"#de77ae\"],[0.3,\"#f1b6da\"],[0.4,\"#fde0ef\"],[0.5,\"#f7f7f7\"],[0.6,\"#e6f5d0\"],[0.7,\"#b8e186\"],[0.8,\"#7fbc41\"],[0.9,\"#4d9221\"],[1,\"#276419\"]]},\"xaxis\":{\"gridcolor\":\"white\",\"linecolor\":\"white\",\"ticks\":\"\",\"title\":{\"standoff\":15},\"zerolinecolor\":\"white\",\"automargin\":true,\"zerolinewidth\":2},\"yaxis\":{\"gridcolor\":\"white\",\"linecolor\":\"white\",\"ticks\":\"\",\"title\":{\"standoff\":15},\"zerolinecolor\":\"white\",\"automargin\":true,\"zerolinewidth\":2},\"scene\":{\"xaxis\":{\"backgroundcolor\":\"#E5ECF6\",\"gridcolor\":\"white\",\"linecolor\":\"white\",\"showbackground\":true,\"ticks\":\"\",\"zerolinecolor\":\"white\",\"gridwidth\":2},\"yaxis\":{\"backgroundcolor\":\"#E5ECF6\",\"gridcolor\":\"white\",\"linecolor\":\"white\",\"showbackground\":true,\"ticks\":\"\",\"zerolinecolor\":\"white\",\"gridwidth\":2},\"zaxis\":{\"backgroundcolor\":\"#E5ECF6\",\"gridcolor\":\"white\",\"linecolor\":\"white\",\"showbackground\":true,\"ticks\":\"\",\"zerolinecolor\":\"white\",\"gridwidth\":2}},\"shapedefaults\":{\"line\":{\"color\":\"#2a3f5f\"}},\"annotationdefaults\":{\"arrowcolor\":\"#2a3f5f\",\"arrowhead\":0,\"arrowwidth\":1},\"geo\":{\"bgcolor\":\"white\",\"landcolor\":\"#E5ECF6\",\"subunitcolor\":\"white\",\"showland\":true,\"showlakes\":true,\"lakecolor\":\"white\"},\"title\":{\"x\":0.05},\"mapbox\":{\"style\":\"light\"}}}},                        {\"responsive\": true}                    ).then(function(){\n",
       "                            \n",
       "var gd = document.getElementById('ecd88027-933d-4a39-8efe-af6bac01854b');\n",
       "var x = new MutationObserver(function (mutations, observer) {{\n",
       "        var display = window.getComputedStyle(gd).display;\n",
       "        if (!display || display === 'none') {{\n",
       "            console.log([gd, 'removed!']);\n",
       "            Plotly.purge(gd);\n",
       "            observer.disconnect();\n",
       "        }}\n",
       "}});\n",
       "\n",
       "// Listen for the removal of the full notebook cells\n",
       "var notebookContainer = gd.closest('#notebook-container');\n",
       "if (notebookContainer) {{\n",
       "    x.observe(notebookContainer, {childList: true});\n",
       "}}\n",
       "\n",
       "// Listen for the clearing of the current output cell\n",
       "var outputEl = gd.closest('.output');\n",
       "if (outputEl) {{\n",
       "    x.observe(outputEl, {childList: true});\n",
       "}}\n",
       "\n",
       "                        })                };                });            </script>        </div>"
      ]
     },
     "metadata": {},
     "output_type": "display_data"
    }
   ],
   "source": [
    "if config['tune_parameters']:\n",
    "    fig = optuna.visualization.plot_optimization_history(study)\n",
    "    fig.show()"
   ]
  },
  {
   "cell_type": "code",
   "execution_count": 29,
   "id": "410d6bdd",
   "metadata": {
    "execution": {
     "iopub.execute_input": "2023-12-01T22:21:22.734412Z",
     "iopub.status.busy": "2023-12-01T22:21:22.733994Z",
     "iopub.status.idle": "2023-12-01T22:21:25.614275Z",
     "shell.execute_reply": "2023-12-01T22:21:25.613100Z"
    },
    "papermill": {
     "duration": 2.946171,
     "end_time": "2023-12-01T22:21:25.616979",
     "exception": false,
     "start_time": "2023-12-01T22:21:22.670808",
     "status": "completed"
    },
    "tags": []
   },
   "outputs": [
    {
     "data": {
      "text/html": [
       "<div>                            <div id=\"fd03233d-d331-48a2-991d-a14c88af2d70\" class=\"plotly-graph-div\" style=\"height:525px; width:100%;\"></div>            <script type=\"text/javascript\">                require([\"plotly\"], function(Plotly) {                    window.PLOTLYENV=window.PLOTLYENV || {};                                    if (document.getElementById(\"fd03233d-d331-48a2-991d-a14c88af2d70\")) {                    Plotly.newPlot(                        \"fd03233d-d331-48a2-991d-a14c88af2d70\",                        [{\"cliponaxis\":false,\"hovertemplate\":[\"nmf (FloatDistribution): 0.0008097025180727557\\u003cextra\\u003e\\u003c\\u002fextra\\u003e\",\"svd_item (FloatDistribution): 0.001980269102677514\\u003cextra\\u003e\\u003c\\u002fextra\\u003e\",\"ials (FloatDistribution): 0.014405636828682412\\u003cextra\\u003e\\u003c\\u002fextra\\u003e\",\"item_knn (FloatDistribution): 0.01957420436654352\\u003cextra\\u003e\\u003c\\u002fextra\\u003e\",\"rp3 (FloatDistribution): 0.03970070171773743\\u003cextra\\u003e\\u003c\\u002fextra\\u003e\",\"ease_r (FloatDistribution): 0.13474526332552406\\u003cextra\\u003e\\u003c\\u002fextra\\u003e\",\"p3alpha (FloatDistribution): 0.18263390474021934\\u003cextra\\u003e\\u003c\\u002fextra\\u003e\",\"user_knn (FloatDistribution): 0.24748961987686593\\u003cextra\\u003e\\u003c\\u002fextra\\u003e\",\"slim_bpr (FloatDistribution): 0.358660697523677\\u003cextra\\u003e\\u003c\\u002fextra\\u003e\"],\"name\":\"Objective Value\",\"orientation\":\"h\",\"text\":[\"\\u003c0.01\",\"\\u003c0.01\",\"0.01\",\"0.02\",\"0.04\",\"0.13\",\"0.18\",\"0.25\",\"0.36\"],\"textposition\":\"outside\",\"x\":[0.0008097025180727557,0.001980269102677514,0.014405636828682412,0.01957420436654352,0.03970070171773743,0.13474526332552406,0.18263390474021934,0.24748961987686593,0.358660697523677],\"y\":[\"nmf\",\"svd_item\",\"ials\",\"item_knn\",\"rp3\",\"ease_r\",\"p3alpha\",\"user_knn\",\"slim_bpr\"],\"type\":\"bar\"}],                        {\"title\":{\"text\":\"Hyperparameter Importances\"},\"xaxis\":{\"title\":{\"text\":\"Hyperparameter Importance\"}},\"yaxis\":{\"title\":{\"text\":\"Hyperparameter\"}},\"template\":{\"data\":{\"histogram2dcontour\":[{\"type\":\"histogram2dcontour\",\"colorbar\":{\"outlinewidth\":0,\"ticks\":\"\"},\"colorscale\":[[0.0,\"#0d0887\"],[0.1111111111111111,\"#46039f\"],[0.2222222222222222,\"#7201a8\"],[0.3333333333333333,\"#9c179e\"],[0.4444444444444444,\"#bd3786\"],[0.5555555555555556,\"#d8576b\"],[0.6666666666666666,\"#ed7953\"],[0.7777777777777778,\"#fb9f3a\"],[0.8888888888888888,\"#fdca26\"],[1.0,\"#f0f921\"]]}],\"choropleth\":[{\"type\":\"choropleth\",\"colorbar\":{\"outlinewidth\":0,\"ticks\":\"\"}}],\"histogram2d\":[{\"type\":\"histogram2d\",\"colorbar\":{\"outlinewidth\":0,\"ticks\":\"\"},\"colorscale\":[[0.0,\"#0d0887\"],[0.1111111111111111,\"#46039f\"],[0.2222222222222222,\"#7201a8\"],[0.3333333333333333,\"#9c179e\"],[0.4444444444444444,\"#bd3786\"],[0.5555555555555556,\"#d8576b\"],[0.6666666666666666,\"#ed7953\"],[0.7777777777777778,\"#fb9f3a\"],[0.8888888888888888,\"#fdca26\"],[1.0,\"#f0f921\"]]}],\"heatmap\":[{\"type\":\"heatmap\",\"colorbar\":{\"outlinewidth\":0,\"ticks\":\"\"},\"colorscale\":[[0.0,\"#0d0887\"],[0.1111111111111111,\"#46039f\"],[0.2222222222222222,\"#7201a8\"],[0.3333333333333333,\"#9c179e\"],[0.4444444444444444,\"#bd3786\"],[0.5555555555555556,\"#d8576b\"],[0.6666666666666666,\"#ed7953\"],[0.7777777777777778,\"#fb9f3a\"],[0.8888888888888888,\"#fdca26\"],[1.0,\"#f0f921\"]]}],\"heatmapgl\":[{\"type\":\"heatmapgl\",\"colorbar\":{\"outlinewidth\":0,\"ticks\":\"\"},\"colorscale\":[[0.0,\"#0d0887\"],[0.1111111111111111,\"#46039f\"],[0.2222222222222222,\"#7201a8\"],[0.3333333333333333,\"#9c179e\"],[0.4444444444444444,\"#bd3786\"],[0.5555555555555556,\"#d8576b\"],[0.6666666666666666,\"#ed7953\"],[0.7777777777777778,\"#fb9f3a\"],[0.8888888888888888,\"#fdca26\"],[1.0,\"#f0f921\"]]}],\"contourcarpet\":[{\"type\":\"contourcarpet\",\"colorbar\":{\"outlinewidth\":0,\"ticks\":\"\"}}],\"contour\":[{\"type\":\"contour\",\"colorbar\":{\"outlinewidth\":0,\"ticks\":\"\"},\"colorscale\":[[0.0,\"#0d0887\"],[0.1111111111111111,\"#46039f\"],[0.2222222222222222,\"#7201a8\"],[0.3333333333333333,\"#9c179e\"],[0.4444444444444444,\"#bd3786\"],[0.5555555555555556,\"#d8576b\"],[0.6666666666666666,\"#ed7953\"],[0.7777777777777778,\"#fb9f3a\"],[0.8888888888888888,\"#fdca26\"],[1.0,\"#f0f921\"]]}],\"surface\":[{\"type\":\"surface\",\"colorbar\":{\"outlinewidth\":0,\"ticks\":\"\"},\"colorscale\":[[0.0,\"#0d0887\"],[0.1111111111111111,\"#46039f\"],[0.2222222222222222,\"#7201a8\"],[0.3333333333333333,\"#9c179e\"],[0.4444444444444444,\"#bd3786\"],[0.5555555555555556,\"#d8576b\"],[0.6666666666666666,\"#ed7953\"],[0.7777777777777778,\"#fb9f3a\"],[0.8888888888888888,\"#fdca26\"],[1.0,\"#f0f921\"]]}],\"mesh3d\":[{\"type\":\"mesh3d\",\"colorbar\":{\"outlinewidth\":0,\"ticks\":\"\"}}],\"scatter\":[{\"fillpattern\":{\"fillmode\":\"overlay\",\"size\":10,\"solidity\":0.2},\"type\":\"scatter\"}],\"parcoords\":[{\"type\":\"parcoords\",\"line\":{\"colorbar\":{\"outlinewidth\":0,\"ticks\":\"\"}}}],\"scatterpolargl\":[{\"type\":\"scatterpolargl\",\"marker\":{\"colorbar\":{\"outlinewidth\":0,\"ticks\":\"\"}}}],\"bar\":[{\"error_x\":{\"color\":\"#2a3f5f\"},\"error_y\":{\"color\":\"#2a3f5f\"},\"marker\":{\"line\":{\"color\":\"#E5ECF6\",\"width\":0.5},\"pattern\":{\"fillmode\":\"overlay\",\"size\":10,\"solidity\":0.2}},\"type\":\"bar\"}],\"scattergeo\":[{\"type\":\"scattergeo\",\"marker\":{\"colorbar\":{\"outlinewidth\":0,\"ticks\":\"\"}}}],\"scatterpolar\":[{\"type\":\"scatterpolar\",\"marker\":{\"colorbar\":{\"outlinewidth\":0,\"ticks\":\"\"}}}],\"histogram\":[{\"marker\":{\"pattern\":{\"fillmode\":\"overlay\",\"size\":10,\"solidity\":0.2}},\"type\":\"histogram\"}],\"scattergl\":[{\"type\":\"scattergl\",\"marker\":{\"colorbar\":{\"outlinewidth\":0,\"ticks\":\"\"}}}],\"scatter3d\":[{\"type\":\"scatter3d\",\"line\":{\"colorbar\":{\"outlinewidth\":0,\"ticks\":\"\"}},\"marker\":{\"colorbar\":{\"outlinewidth\":0,\"ticks\":\"\"}}}],\"scattermapbox\":[{\"type\":\"scattermapbox\",\"marker\":{\"colorbar\":{\"outlinewidth\":0,\"ticks\":\"\"}}}],\"scatterternary\":[{\"type\":\"scatterternary\",\"marker\":{\"colorbar\":{\"outlinewidth\":0,\"ticks\":\"\"}}}],\"scattercarpet\":[{\"type\":\"scattercarpet\",\"marker\":{\"colorbar\":{\"outlinewidth\":0,\"ticks\":\"\"}}}],\"carpet\":[{\"aaxis\":{\"endlinecolor\":\"#2a3f5f\",\"gridcolor\":\"white\",\"linecolor\":\"white\",\"minorgridcolor\":\"white\",\"startlinecolor\":\"#2a3f5f\"},\"baxis\":{\"endlinecolor\":\"#2a3f5f\",\"gridcolor\":\"white\",\"linecolor\":\"white\",\"minorgridcolor\":\"white\",\"startlinecolor\":\"#2a3f5f\"},\"type\":\"carpet\"}],\"table\":[{\"cells\":{\"fill\":{\"color\":\"#EBF0F8\"},\"line\":{\"color\":\"white\"}},\"header\":{\"fill\":{\"color\":\"#C8D4E3\"},\"line\":{\"color\":\"white\"}},\"type\":\"table\"}],\"barpolar\":[{\"marker\":{\"line\":{\"color\":\"#E5ECF6\",\"width\":0.5},\"pattern\":{\"fillmode\":\"overlay\",\"size\":10,\"solidity\":0.2}},\"type\":\"barpolar\"}],\"pie\":[{\"automargin\":true,\"type\":\"pie\"}]},\"layout\":{\"autotypenumbers\":\"strict\",\"colorway\":[\"#636efa\",\"#EF553B\",\"#00cc96\",\"#ab63fa\",\"#FFA15A\",\"#19d3f3\",\"#FF6692\",\"#B6E880\",\"#FF97FF\",\"#FECB52\"],\"font\":{\"color\":\"#2a3f5f\"},\"hovermode\":\"closest\",\"hoverlabel\":{\"align\":\"left\"},\"paper_bgcolor\":\"white\",\"plot_bgcolor\":\"#E5ECF6\",\"polar\":{\"bgcolor\":\"#E5ECF6\",\"angularaxis\":{\"gridcolor\":\"white\",\"linecolor\":\"white\",\"ticks\":\"\"},\"radialaxis\":{\"gridcolor\":\"white\",\"linecolor\":\"white\",\"ticks\":\"\"}},\"ternary\":{\"bgcolor\":\"#E5ECF6\",\"aaxis\":{\"gridcolor\":\"white\",\"linecolor\":\"white\",\"ticks\":\"\"},\"baxis\":{\"gridcolor\":\"white\",\"linecolor\":\"white\",\"ticks\":\"\"},\"caxis\":{\"gridcolor\":\"white\",\"linecolor\":\"white\",\"ticks\":\"\"}},\"coloraxis\":{\"colorbar\":{\"outlinewidth\":0,\"ticks\":\"\"}},\"colorscale\":{\"sequential\":[[0.0,\"#0d0887\"],[0.1111111111111111,\"#46039f\"],[0.2222222222222222,\"#7201a8\"],[0.3333333333333333,\"#9c179e\"],[0.4444444444444444,\"#bd3786\"],[0.5555555555555556,\"#d8576b\"],[0.6666666666666666,\"#ed7953\"],[0.7777777777777778,\"#fb9f3a\"],[0.8888888888888888,\"#fdca26\"],[1.0,\"#f0f921\"]],\"sequentialminus\":[[0.0,\"#0d0887\"],[0.1111111111111111,\"#46039f\"],[0.2222222222222222,\"#7201a8\"],[0.3333333333333333,\"#9c179e\"],[0.4444444444444444,\"#bd3786\"],[0.5555555555555556,\"#d8576b\"],[0.6666666666666666,\"#ed7953\"],[0.7777777777777778,\"#fb9f3a\"],[0.8888888888888888,\"#fdca26\"],[1.0,\"#f0f921\"]],\"diverging\":[[0,\"#8e0152\"],[0.1,\"#c51b7d\"],[0.2,\"#de77ae\"],[0.3,\"#f1b6da\"],[0.4,\"#fde0ef\"],[0.5,\"#f7f7f7\"],[0.6,\"#e6f5d0\"],[0.7,\"#b8e186\"],[0.8,\"#7fbc41\"],[0.9,\"#4d9221\"],[1,\"#276419\"]]},\"xaxis\":{\"gridcolor\":\"white\",\"linecolor\":\"white\",\"ticks\":\"\",\"title\":{\"standoff\":15},\"zerolinecolor\":\"white\",\"automargin\":true,\"zerolinewidth\":2},\"yaxis\":{\"gridcolor\":\"white\",\"linecolor\":\"white\",\"ticks\":\"\",\"title\":{\"standoff\":15},\"zerolinecolor\":\"white\",\"automargin\":true,\"zerolinewidth\":2},\"scene\":{\"xaxis\":{\"backgroundcolor\":\"#E5ECF6\",\"gridcolor\":\"white\",\"linecolor\":\"white\",\"showbackground\":true,\"ticks\":\"\",\"zerolinecolor\":\"white\",\"gridwidth\":2},\"yaxis\":{\"backgroundcolor\":\"#E5ECF6\",\"gridcolor\":\"white\",\"linecolor\":\"white\",\"showbackground\":true,\"ticks\":\"\",\"zerolinecolor\":\"white\",\"gridwidth\":2},\"zaxis\":{\"backgroundcolor\":\"#E5ECF6\",\"gridcolor\":\"white\",\"linecolor\":\"white\",\"showbackground\":true,\"ticks\":\"\",\"zerolinecolor\":\"white\",\"gridwidth\":2}},\"shapedefaults\":{\"line\":{\"color\":\"#2a3f5f\"}},\"annotationdefaults\":{\"arrowcolor\":\"#2a3f5f\",\"arrowhead\":0,\"arrowwidth\":1},\"geo\":{\"bgcolor\":\"white\",\"landcolor\":\"#E5ECF6\",\"subunitcolor\":\"white\",\"showland\":true,\"showlakes\":true,\"lakecolor\":\"white\"},\"title\":{\"x\":0.05},\"mapbox\":{\"style\":\"light\"}}}},                        {\"responsive\": true}                    ).then(function(){\n",
       "                            \n",
       "var gd = document.getElementById('fd03233d-d331-48a2-991d-a14c88af2d70');\n",
       "var x = new MutationObserver(function (mutations, observer) {{\n",
       "        var display = window.getComputedStyle(gd).display;\n",
       "        if (!display || display === 'none') {{\n",
       "            console.log([gd, 'removed!']);\n",
       "            Plotly.purge(gd);\n",
       "            observer.disconnect();\n",
       "        }}\n",
       "}});\n",
       "\n",
       "// Listen for the removal of the full notebook cells\n",
       "var notebookContainer = gd.closest('#notebook-container');\n",
       "if (notebookContainer) {{\n",
       "    x.observe(notebookContainer, {childList: true});\n",
       "}}\n",
       "\n",
       "// Listen for the clearing of the current output cell\n",
       "var outputEl = gd.closest('.output');\n",
       "if (outputEl) {{\n",
       "    x.observe(outputEl, {childList: true});\n",
       "}}\n",
       "\n",
       "                        })                };                });            </script>        </div>"
      ]
     },
     "metadata": {},
     "output_type": "display_data"
    }
   ],
   "source": [
    "if config['tune_parameters']:\n",
    "    fig = optuna.visualization.plot_param_importances(study)\n",
    "    fig.show()"
   ]
  },
  {
   "cell_type": "code",
   "execution_count": 30,
   "id": "28298e86",
   "metadata": {
    "execution": {
     "iopub.execute_input": "2023-12-01T22:21:25.742521Z",
     "iopub.status.busy": "2023-12-01T22:21:25.742074Z",
     "iopub.status.idle": "2023-12-01T22:21:26.252248Z",
     "shell.execute_reply": "2023-12-01T22:21:26.250985Z"
    },
    "papermill": {
     "duration": 0.573936,
     "end_time": "2023-12-01T22:21:26.254751",
     "exception": false,
     "start_time": "2023-12-01T22:21:25.680815",
     "status": "completed"
    },
    "tags": []
   },
   "outputs": [
    {
     "data": {
      "text/html": [
       "<div>                            <div id=\"8a827fbd-bb0e-4943-a2a6-fd893e9b857d\" class=\"plotly-graph-div\" style=\"height:525px; width:2700px;\"></div>            <script type=\"text/javascript\">                require([\"plotly\"], function(Plotly) {                    window.PLOTLYENV=window.PLOTLYENV || {};                                    if (document.getElementById(\"8a827fbd-bb0e-4943-a2a6-fd893e9b857d\")) {                    Plotly.newPlot(                        \"8a827fbd-bb0e-4943-a2a6-fd893e9b857d\",                        [{\"marker\":{\"color\":[0,1,2,3,4,5,6,7,8,9,10,11,12,13,14,15,16,17,18,19,20,21,22,23,24,25,26,27,28,29,30,31,32,33,34,35,36,37,38,39,40,41,42,43,44,45,46,47,48,49,50,51,52,53,54,55,56,57,58,59,60,61,62,63,64,65,66,67,68,69,70,71,72,73,74,75,76,77,78,79,80,81,82,83,84,85,86,87,88,89,90,91,92,93,94,95,96,97,98,99],\"colorbar\":{\"title\":{\"text\":\"Trial\"},\"x\":1.0,\"xpad\":40},\"colorscale\":[[0.0,\"rgb(247,251,255)\"],[0.125,\"rgb(222,235,247)\"],[0.25,\"rgb(198,219,239)\"],[0.375,\"rgb(158,202,225)\"],[0.5,\"rgb(107,174,214)\"],[0.625,\"rgb(66,146,198)\"],[0.75,\"rgb(33,113,181)\"],[0.875,\"rgb(8,81,156)\"],[1.0,\"rgb(8,48,107)\"]],\"line\":{\"color\":\"Grey\",\"width\":0.5},\"showscale\":true},\"mode\":\"markers\",\"name\":\"Feasible Trial\",\"showlegend\":false,\"x\":[0.0028037839986746775,0.08521752402240347,0.060165846881777556,0.0017216032358426895,0.001848876455080731,0.1748216115221295,0.029393582856725897,0.01743182807474192,0.8083684826032506,0.7207797643247482,0.006173676514503098,0.0014845170520272257,0.0014308380316874398,0.004892367008465382,0.0010325878713135237,0.00777533402144088,0.0031110904791475133,0.003527470702540023,0.00958660180051854,0.011629565084109108,0.01182209727324611,0.012809947481697948,0.004712381691464852,0.009549485545377163,0.020334375555982418,0.02038145725908545,0.0035855208137048227,0.006596216918908849,0.02319963284700009,0.03734955006437882,0.02038918202512036,0.0026355829658056378,0.007893235120569133,0.002386734259182003,0.002262063151259124,0.002510424864475054,0.002388309200387334,0.002009856191237673,0.0038612122733897134,0.0025718007144005734,0.0011984824159828092,0.0017750132032686979,0.0016048985144665622,0.001988020130318146,0.0011314705576601187,0.004180508923367486,0.0029025627937265173,0.001726982170391518,0.005044312088471259,0.001358105545026255,0.0037199263346270723,0.0021487315745569546,0.002134162516671539,0.0029966795670356198,0.0015448798852823727,0.0019763049485339115,0.0055426272469962234,0.005402783746039927,0.006075792681725443,0.004250923819951963,0.001029491733946529,0.006623380982323497,0.003427929149353669,0.006105186991775706,0.0061821025655499065,0.0062664927993502685,0.007356845789131758,0.006118405321900647,0.004907605105457117,0.008064825746693106,0.009559954671111823,0.005525339255593269,0.0035415134487359755,0.005031870822796349,0.014368481972298909,0.006286553289094914,0.004104534916922778,0.00325357506595775,0.008493847817631857,0.010626197708775422,0.007282211888160836,0.00638787996509006,0.0056412466139459765,0.004653245607797347,0.0054614771275150594,0.0038814221501280214,0.008958947376370386,0.00927985165864946,0.012386652452907826,0.0032945700834401694,0.007084208506729054,0.005519533459074336,0.004333690227598013,0.0044950302942901735,0.002921591517511567,0.004032089209291697,0.00826801010469125,0.008037095717725672,0.01013095362853584,0.010839268969788743],\"y\":[0.04836037787979314,0.048550334887845256,0.04552857173218748,0.04965483097727802,0.0504466486926325,0.028193749924096293,0.048468924199366714,0.043035368923137196,0.043514637300980555,0.04124737372633372,0.048018172902928806,0.049475978704412706,0.05035116163272319,0.0503336923586069,0.04580949572509504,0.04937136040976006,0.05053245421479036,0.05061446454378802,0.05076714516462097,0.04949516340583736,0.05056379491990688,0.05055704706646814,0.05053870110273202,0.049756189201006114,0.05063045369257177,0.05056520673176253,0.05045917662525422,0.05052538376993294,0.05077432567007987,0.05011138132886482,0.04974629892763078,0.05082341269841329,0.05082203124810296,0.05082792897827374,0.05084234691708917,0.05081450917525944,0.049871980544322465,0.04946923464616723,0.05087312593361811,0.05002370098128571,0.05061764871084951,0.05084366384911578,0.050795092967052244,0.05070749231852968,0.04991162133688028,0.04893278409297989,0.050799662379617076,0.0503972428680736,0.05021621594952767,0.04961143673868484,0.04936012663800593,0.050835337195322385,0.050710608172114015,0.05064109541419269,0.050760385925602676,0.0503744071908289,0.05083479068750748,0.05088541476907067,0.05086435524222495,0.05083364453917301,0.05060698801326245,0.05087072737154087,0.050871896291034224,0.05091994343644169,0.05092488857312937,0.050811017597552265,0.0506653884456109,0.05086914857118618,0.050603936677961744,0.050710725823102085,0.050484388093417064,0.050887680499387196,0.050831511640617125,0.0508624500552585,0.05061813829076702,0.050866526092712604,0.0508440737299772,0.050385257648073924,0.050644226448549906,0.05081335923173197,0.050395144126256036,0.05075438572521648,0.0508749058792102,0.0508313256761521,0.050758780558895884,0.05077660658116915,0.050937632831761136,0.05075418837517212,0.05059890804702464,0.050747687209288836,0.05075218830837674,0.05084469993684848,0.05087082225136993,0.05080701746396148,0.050677016917453646,0.050680125180651854,0.05091998518356643,0.050717492652506566,0.05091222021836074,0.05092542749055816],\"type\":\"scatter\",\"xaxis\":\"x\",\"yaxis\":\"y\"},{\"marker\":{\"color\":[0,1,2,3,4,5,6,7,8,9,10,11,12,13,14,15,16,17,18,19,20,21,22,23,24,25,26,27,28,29,30,31,32,33,34,35,36,37,38,39,40,41,42,43,44,45,46,47,48,49,50,51,52,53,54,55,56,57,58,59,60,61,62,63,64,65,66,67,68,69,70,71,72,73,74,75,76,77,78,79,80,81,82,83,84,85,86,87,88,89,90,91,92,93,94,95,96,97,98,99],\"colorbar\":{\"title\":{\"text\":\"Trial\"},\"x\":1.0,\"xpad\":40},\"colorscale\":[[0.0,\"rgb(247,251,255)\"],[0.125,\"rgb(222,235,247)\"],[0.25,\"rgb(198,219,239)\"],[0.375,\"rgb(158,202,225)\"],[0.5,\"rgb(107,174,214)\"],[0.625,\"rgb(66,146,198)\"],[0.75,\"rgb(33,113,181)\"],[0.875,\"rgb(8,81,156)\"],[1.0,\"rgb(8,48,107)\"]],\"line\":{\"color\":\"Grey\",\"width\":0.5},\"showscale\":false},\"mode\":\"markers\",\"name\":\"Feasible Trial\",\"showlegend\":false,\"x\":[0.5617459182259633,0.7968942755605112,0.012092978925546328,0.0158335102294291,0.006654688133233021,0.47517565659461286,0.7658434077036226,0.11921934400761526,0.014705635385199773,0.15951647212186162,0.006908855696165005,0.025641266967899486,0.0050478806393681646,0.005975441930471273,0.005393718294246396,0.031901428079877676,0.005038874388549965,0.044303398550844114,0.04932385625519124,0.07427715025711071,0.048180974355559285,0.04841236385085427,0.052068783652582176,0.02794731925303576,0.07588326394612908,0.12342907146843533,0.08143876403797737,0.1749488986574704,0.24150598861790976,0.35796779078587526,0.3682519390049436,0.25902336895554673,0.25513726780498197,0.26348417496712195,0.25608077405771557,0.2539500281857502,0.5768554556124086,0.9314566222004023,0.29394880491941017,0.5629414305701234,0.3945806357517191,0.2646671411997173,0.29989260555979186,0.19529606092412408,0.5096474930283587,0.20016080344563467,0.1416092245434487,0.3140677108374911,0.43316266223131994,0.6735208605053303,0.10464581060014146,0.2501025280926228,0.21492408544824596,0.3192441812630129,0.16033617581745213,0.425272520981856,0.2572670382793677,0.18337386043262582,0.17641357499427593,0.1729772666040408,0.14456802215337475,0.20827489629722004,0.21608214428644723,0.20323371093578546,0.19780951217538684,0.12259942573472926,0.21163864535977228,0.18688885149061635,0.10004532740276971,0.1435454440714714,0.20052348480494714,0.1668279707586251,0.21731452544770077,0.17321202685438625,0.32751402047594874,0.14187371016891043,0.29248272062040254,0.35734556199022105,0.22742815631856408,0.19062113228652644,0.15560015950089692,0.13004917721683298,0.10923674529471071,0.10478169777335429,0.17018211878889303,0.22701621242078704,0.18873926545901815,0.29137454532418083,0.11733718443403518,0.1581058862274273,0.22021942418547266,0.18136395396063512,0.19373174668521154,0.19652961362126833,0.15547539713663355,0.22808589555384728,0.13367150792649293,0.0890167903938447,0.1255440554289545,0.10916993785659324],\"y\":[0.04836037787979314,0.048550334887845256,0.04552857173218748,0.04965483097727802,0.0504466486926325,0.028193749924096293,0.048468924199366714,0.043035368923137196,0.043514637300980555,0.04124737372633372,0.048018172902928806,0.049475978704412706,0.05035116163272319,0.0503336923586069,0.04580949572509504,0.04937136040976006,0.05053245421479036,0.05061446454378802,0.05076714516462097,0.04949516340583736,0.05056379491990688,0.05055704706646814,0.05053870110273202,0.049756189201006114,0.05063045369257177,0.05056520673176253,0.05045917662525422,0.05052538376993294,0.05077432567007987,0.05011138132886482,0.04974629892763078,0.05082341269841329,0.05082203124810296,0.05082792897827374,0.05084234691708917,0.05081450917525944,0.049871980544322465,0.04946923464616723,0.05087312593361811,0.05002370098128571,0.05061764871084951,0.05084366384911578,0.050795092967052244,0.05070749231852968,0.04991162133688028,0.04893278409297989,0.050799662379617076,0.0503972428680736,0.05021621594952767,0.04961143673868484,0.04936012663800593,0.050835337195322385,0.050710608172114015,0.05064109541419269,0.050760385925602676,0.0503744071908289,0.05083479068750748,0.05088541476907067,0.05086435524222495,0.05083364453917301,0.05060698801326245,0.05087072737154087,0.050871896291034224,0.05091994343644169,0.05092488857312937,0.050811017597552265,0.0506653884456109,0.05086914857118618,0.050603936677961744,0.050710725823102085,0.050484388093417064,0.050887680499387196,0.050831511640617125,0.0508624500552585,0.05061813829076702,0.050866526092712604,0.0508440737299772,0.050385257648073924,0.050644226448549906,0.05081335923173197,0.050395144126256036,0.05075438572521648,0.0508749058792102,0.0508313256761521,0.050758780558895884,0.05077660658116915,0.050937632831761136,0.05075418837517212,0.05059890804702464,0.050747687209288836,0.05075218830837674,0.05084469993684848,0.05087082225136993,0.05080701746396148,0.050677016917453646,0.050680125180651854,0.05091998518356643,0.050717492652506566,0.05091222021836074,0.05092542749055816],\"type\":\"scatter\",\"xaxis\":\"x2\",\"yaxis\":\"y2\"},{\"marker\":{\"color\":[0,1,2,3,4,5,6,7,8,9,10,11,12,13,14,15,16,17,18,19,20,21,22,23,24,25,26,27,28,29,30,31,32,33,34,35,36,37,38,39,40,41,42,43,44,45,46,47,48,49,50,51,52,53,54,55,56,57,58,59,60,61,62,63,64,65,66,67,68,69,70,71,72,73,74,75,76,77,78,79,80,81,82,83,84,85,86,87,88,89,90,91,92,93,94,95,96,97,98,99],\"colorbar\":{\"title\":{\"text\":\"Trial\"},\"x\":1.0,\"xpad\":40},\"colorscale\":[[0.0,\"rgb(247,251,255)\"],[0.125,\"rgb(222,235,247)\"],[0.25,\"rgb(198,219,239)\"],[0.375,\"rgb(158,202,225)\"],[0.5,\"rgb(107,174,214)\"],[0.625,\"rgb(66,146,198)\"],[0.75,\"rgb(33,113,181)\"],[0.875,\"rgb(8,81,156)\"],[1.0,\"rgb(8,48,107)\"]],\"line\":{\"color\":\"Grey\",\"width\":0.5},\"showscale\":false},\"mode\":\"markers\",\"name\":\"Feasible Trial\",\"showlegend\":false,\"x\":[0.03572328178995846,0.011422927419032808,0.5568077248147941,0.038906694850623195,0.19729236116552198,0.1977075284101452,0.7485501856759903,0.23817852973661127,0.09442147896553992,0.019448982422504466,0.11516077986686629,0.045987365111383016,0.05222968815841211,0.34604968294241056,0.08125694723508639,0.9884054097913756,0.11487798422148394,0.16595175829838388,0.13801979794374702,0.41025185608733966,0.1490971300042616,0.1591180264639304,0.3175186814260564,0.15153246225222905,0.27335574557878234,0.3095361331088876,0.2582520851886695,0.3959053032025338,0.07506503977861918,0.06143416730297417,0.06927917763506823,0.09954991395171191,0.08326689368036672,0.08658680311999635,0.07670810942467976,0.09435863142647559,0.034816353997407,0.05893902502908006,0.10606746034752666,0.1160194440397756,0.20235387704177474,0.08234707566772308,0.09722701760502117,0.06431826602496798,0.042232110359568274,0.11392520927360611,0.08028546607497627,0.051667883089892175,0.03612843978450499,0.13112382955063712,0.09722437237457283,0.08263435474453512,0.07309377967685293,0.08956100885829606,0.1232118841911047,0.10457305694425308,0.18179368216508004,0.18055206906487717,0.21419072366083677,0.1853224219594991,0.22237872791338395,0.17755021219887318,0.15058220148607523,0.16691048386385735,0.1612907586465204,0.16364827630022918,0.14038219484691591,0.22856668154387266,0.24127257247754935,0.1760651096616782,0.26389533986361663,0.22019366987324782,0.15031928424507407,0.20092618522663874,0.16342788333752684,0.14052750438116246,0.21702042545297937,0.19017240540643404,0.24577532662944285,0.12577017212947023,0.3006494122825335,0.14215385267006675,0.15424629681705498,0.16921922959381303,0.22894947497172147,0.1981248927576975,0.15778573055111927,0.14971041095746476,0.12697123942235955,0.10765965452604455,0.16595911148968778,0.19566566313164888,0.1558834073777581,0.13410476653049833,0.11443023579150728,0.15954994126438785,0.18060258729568932,0.14817703804382895,0.12203514542071603,0.12364252503955349],\"y\":[0.04836037787979314,0.048550334887845256,0.04552857173218748,0.04965483097727802,0.0504466486926325,0.028193749924096293,0.048468924199366714,0.043035368923137196,0.043514637300980555,0.04124737372633372,0.048018172902928806,0.049475978704412706,0.05035116163272319,0.0503336923586069,0.04580949572509504,0.04937136040976006,0.05053245421479036,0.05061446454378802,0.05076714516462097,0.04949516340583736,0.05056379491990688,0.05055704706646814,0.05053870110273202,0.049756189201006114,0.05063045369257177,0.05056520673176253,0.05045917662525422,0.05052538376993294,0.05077432567007987,0.05011138132886482,0.04974629892763078,0.05082341269841329,0.05082203124810296,0.05082792897827374,0.05084234691708917,0.05081450917525944,0.049871980544322465,0.04946923464616723,0.05087312593361811,0.05002370098128571,0.05061764871084951,0.05084366384911578,0.050795092967052244,0.05070749231852968,0.04991162133688028,0.04893278409297989,0.050799662379617076,0.0503972428680736,0.05021621594952767,0.04961143673868484,0.04936012663800593,0.050835337195322385,0.050710608172114015,0.05064109541419269,0.050760385925602676,0.0503744071908289,0.05083479068750748,0.05088541476907067,0.05086435524222495,0.05083364453917301,0.05060698801326245,0.05087072737154087,0.050871896291034224,0.05091994343644169,0.05092488857312937,0.050811017597552265,0.0506653884456109,0.05086914857118618,0.050603936677961744,0.050710725823102085,0.050484388093417064,0.050887680499387196,0.050831511640617125,0.0508624500552585,0.05061813829076702,0.050866526092712604,0.0508440737299772,0.050385257648073924,0.050644226448549906,0.05081335923173197,0.050395144126256036,0.05075438572521648,0.0508749058792102,0.0508313256761521,0.050758780558895884,0.05077660658116915,0.050937632831761136,0.05075418837517212,0.05059890804702464,0.050747687209288836,0.05075218830837674,0.05084469993684848,0.05087082225136993,0.05080701746396148,0.050677016917453646,0.050680125180651854,0.05091998518356643,0.050717492652506566,0.05091222021836074,0.05092542749055816],\"type\":\"scatter\",\"xaxis\":\"x3\",\"yaxis\":\"y3\"},{\"marker\":{\"color\":[0,1,2,3,4,5,6,7,8,9,10,11,12,13,14,15,16,17,18,19,20,21,22,23,24,25,26,27,28,29,30,31,32,33,34,35,36,37,38,39,40,41,42,43,44,45,46,47,48,49,50,51,52,53,54,55,56,57,58,59,60,61,62,63,64,65,66,67,68,69,70,71,72,73,74,75,76,77,78,79,80,81,82,83,84,85,86,87,88,89,90,91,92,93,94,95,96,97,98,99],\"colorbar\":{\"title\":{\"text\":\"Trial\"},\"x\":1.0,\"xpad\":40},\"colorscale\":[[0.0,\"rgb(247,251,255)\"],[0.125,\"rgb(222,235,247)\"],[0.25,\"rgb(198,219,239)\"],[0.375,\"rgb(158,202,225)\"],[0.5,\"rgb(107,174,214)\"],[0.625,\"rgb(66,146,198)\"],[0.75,\"rgb(33,113,181)\"],[0.875,\"rgb(8,81,156)\"],[1.0,\"rgb(8,48,107)\"]],\"line\":{\"color\":\"Grey\",\"width\":0.5},\"showscale\":false},\"mode\":\"markers\",\"name\":\"Feasible Trial\",\"showlegend\":false,\"x\":[0.02326120304160313,0.0010787764557911843,0.5943587263972969,0.002318723672084805,0.000042793348850119624,0.00020519025620129199,0.0000598320082673058,0.0075563959589482095,0.00039533903846034643,0.09202587815796921,0.000010797648941085435,0.0026887919317844845,0.00008554503915498649,0.000030656569653139065,0.00014307254495593707,0.000011518791813515954,0.00006085742133842953,0.0004578096203291563,0.00037979275288964624,0.0004688428889614842,0.0007434077589480364,0.0006487491932411668,0.0009794310673594741,0.0003144169596112093,0.0014540524030609283,0.00019935735255085678,0.0049737392850614315,0.002122695496510588,0.00013729928302981434,0.01638528449038832,0.0013507370465128303,0.0001402666917865099,0.000146397509377698,0.00010935622729378931,0.00011945048428965886,0.00002747427535512308,0.00010469920570351825,0.00023411485211001395,0.00007951099235190034,0.00008113800216462004,0.00004790571347464415,0.00016388635919833546,0.00022807444857748607,0.00002524650755204666,0.00008940809500285628,0.00004895469391528572,0.0002526185046587064,0.00013573071778891666,0.00001665509633086686,0.00003317646267938235,0.00007252121367350985,0.00015383612889874603,0.00004414816983638417,0.00007611144360685877,0.00014957187792378904,0.00048400128686892273,0.0003382347739017481,0.00032694029810536945,0.0003534494638212356,0.0008076263599367927,0.0003563203739654718,0.0002911707088368454,0.0005876952996139876,0.0006704511189745537,0.0006700724655154301,0.0005987166268801852,0.0009006038101862583,0.0005372469068659176,0.0020541157513995554,0.0005708349122623352,0.0009824096764762176,0.0002936635853333744,0.0005238841634328687,0.0014696233791598584,0.0002738414319278307,0.0006306112513280677,0.0004284397857981248,0.00020198731429365142,0.0007694812177516388,0.0002612251018076374,0.0014416566456481395,0.0006600109033661919,0.0011057227475273635,0.0010240028216874325,0.00043642351022005974,0.0003423453314550967,0.0011209447523190098,0.0007535516722357767,0.0011725564006694609,0.002879076140551719,0.001804819451380678,0.0010886449590385976,0.00019024948586091677,0.0002907826957556391,0.0001694088659672945,0.00020357058597996047,0.00044363601566918504,0.00042849309113878435,0.0008451908219133294,0.000805177350133551],\"y\":[0.04836037787979314,0.048550334887845256,0.04552857173218748,0.04965483097727802,0.0504466486926325,0.028193749924096293,0.048468924199366714,0.043035368923137196,0.043514637300980555,0.04124737372633372,0.048018172902928806,0.049475978704412706,0.05035116163272319,0.0503336923586069,0.04580949572509504,0.04937136040976006,0.05053245421479036,0.05061446454378802,0.05076714516462097,0.04949516340583736,0.05056379491990688,0.05055704706646814,0.05053870110273202,0.049756189201006114,0.05063045369257177,0.05056520673176253,0.05045917662525422,0.05052538376993294,0.05077432567007987,0.05011138132886482,0.04974629892763078,0.05082341269841329,0.05082203124810296,0.05082792897827374,0.05084234691708917,0.05081450917525944,0.049871980544322465,0.04946923464616723,0.05087312593361811,0.05002370098128571,0.05061764871084951,0.05084366384911578,0.050795092967052244,0.05070749231852968,0.04991162133688028,0.04893278409297989,0.050799662379617076,0.0503972428680736,0.05021621594952767,0.04961143673868484,0.04936012663800593,0.050835337195322385,0.050710608172114015,0.05064109541419269,0.050760385925602676,0.0503744071908289,0.05083479068750748,0.05088541476907067,0.05086435524222495,0.05083364453917301,0.05060698801326245,0.05087072737154087,0.050871896291034224,0.05091994343644169,0.05092488857312937,0.050811017597552265,0.0506653884456109,0.05086914857118618,0.050603936677961744,0.050710725823102085,0.050484388093417064,0.050887680499387196,0.050831511640617125,0.0508624500552585,0.05061813829076702,0.050866526092712604,0.0508440737299772,0.050385257648073924,0.050644226448549906,0.05081335923173197,0.050395144126256036,0.05075438572521648,0.0508749058792102,0.0508313256761521,0.050758780558895884,0.05077660658116915,0.050937632831761136,0.05075418837517212,0.05059890804702464,0.050747687209288836,0.05075218830837674,0.05084469993684848,0.05087082225136993,0.05080701746396148,0.050677016917453646,0.050680125180651854,0.05091998518356643,0.050717492652506566,0.05091222021836074,0.05092542749055816],\"type\":\"scatter\",\"xaxis\":\"x4\",\"yaxis\":\"y4\"},{\"marker\":{\"color\":[0,1,2,3,4,5,6,7,8,9,10,11,12,13,14,15,16,17,18,19,20,21,22,23,24,25,26,27,28,29,30,31,32,33,34,35,36,37,38,39,40,41,42,43,44,45,46,47,48,49,50,51,52,53,54,55,56,57,58,59,60,61,62,63,64,65,66,67,68,69,70,71,72,73,74,75,76,77,78,79,80,81,82,83,84,85,86,87,88,89,90,91,92,93,94,95,96,97,98,99],\"colorbar\":{\"title\":{\"text\":\"Trial\"},\"x\":1.0,\"xpad\":40},\"colorscale\":[[0.0,\"rgb(247,251,255)\"],[0.125,\"rgb(222,235,247)\"],[0.25,\"rgb(198,219,239)\"],[0.375,\"rgb(158,202,225)\"],[0.5,\"rgb(107,174,214)\"],[0.625,\"rgb(66,146,198)\"],[0.75,\"rgb(33,113,181)\"],[0.875,\"rgb(8,81,156)\"],[1.0,\"rgb(8,48,107)\"]],\"line\":{\"color\":\"Grey\",\"width\":0.5},\"showscale\":false},\"mode\":\"markers\",\"name\":\"Feasible Trial\",\"showlegend\":false,\"x\":[0.6081818561861205,0.09019859693246099,0.012569388249672917,0.6948684118452363,0.07869134486925304,0.03809614785375388,0.26566769450227595,0.07286494919031004,0.49439041170339243,0.011543460285160269,0.20336669081339062,0.9938709721128799,0.19012101877047521,0.1579564312906556,0.05083659992642716,0.13887513625719425,0.3122084368491042,0.32130625865641166,0.3485514223778769,0.36037868220200486,0.39976578014234265,0.43626850324126953,0.2846205728318213,0.4214548312534101,0.7618885014910809,0.9600219123951489,0.6625969485270825,0.2602185565497773,0.5775419050039181,0.5426592303937967,0.71771079866253,0.5454889331907867,0.5571249660011889,0.5403015775436025,0.5545910488245904,0.5035964500134279,0.7679515815455404,0.5790171212144588,0.4819948464983571,0.41068548085808715,0.8712199748552838,0.6551528498611334,0.6628861556798306,0.47711785146004815,0.7749817836059815,0.9659724539308884,0.23669621515318431,0.6188551358121024,0.47880248140044435,0.8107756546166119,0.3373025001522687,0.5486261869286232,0.3797744605752086,0.6347345372808386,0.5019109828409041,0.3171820342070921,0.43293633001670917,0.44637657005409814,0.40577744338635285,0.28534880168020216,0.2163789689039395,0.4499843873449273,0.38493169504819613,0.37559759590171216,0.3603072238529624,0.3729929424112248,0.2699115362628204,0.3516583877493206,0.31870766374717774,0.17476224694901954,0.24813667087273256,0.3703011031136951,0.35518261790276223,0.44447398276302197,0.30815174768391246,0.368641550838748,0.46675782149503636,0.21583804836722145,0.3006492578895736,0.42413409930632,0.34980561244628977,0.39961444653483047,0.27329166993228077,0.27729306349336175,0.461142969843647,0.23969434382918936,0.3332076925657023,0.2896937912393387,0.49948753806670265,0.33707536769274316,0.6144059249862881,0.38116549086450474,0.4219202994096801,0.42510136200445625,0.5046797249572221,0.7013149049000275,0.25672183957122946,0.33236673107338727,0.2399253833635816,0.2620858555741696],\"y\":[0.04836037787979314,0.048550334887845256,0.04552857173218748,0.04965483097727802,0.0504466486926325,0.028193749924096293,0.048468924199366714,0.043035368923137196,0.043514637300980555,0.04124737372633372,0.048018172902928806,0.049475978704412706,0.05035116163272319,0.0503336923586069,0.04580949572509504,0.04937136040976006,0.05053245421479036,0.05061446454378802,0.05076714516462097,0.04949516340583736,0.05056379491990688,0.05055704706646814,0.05053870110273202,0.049756189201006114,0.05063045369257177,0.05056520673176253,0.05045917662525422,0.05052538376993294,0.05077432567007987,0.05011138132886482,0.04974629892763078,0.05082341269841329,0.05082203124810296,0.05082792897827374,0.05084234691708917,0.05081450917525944,0.049871980544322465,0.04946923464616723,0.05087312593361811,0.05002370098128571,0.05061764871084951,0.05084366384911578,0.050795092967052244,0.05070749231852968,0.04991162133688028,0.04893278409297989,0.050799662379617076,0.0503972428680736,0.05021621594952767,0.04961143673868484,0.04936012663800593,0.050835337195322385,0.050710608172114015,0.05064109541419269,0.050760385925602676,0.0503744071908289,0.05083479068750748,0.05088541476907067,0.05086435524222495,0.05083364453917301,0.05060698801326245,0.05087072737154087,0.050871896291034224,0.05091994343644169,0.05092488857312937,0.050811017597552265,0.0506653884456109,0.05086914857118618,0.050603936677961744,0.050710725823102085,0.050484388093417064,0.050887680499387196,0.050831511640617125,0.0508624500552585,0.05061813829076702,0.050866526092712604,0.0508440737299772,0.050385257648073924,0.050644226448549906,0.05081335923173197,0.050395144126256036,0.05075438572521648,0.0508749058792102,0.0508313256761521,0.050758780558895884,0.05077660658116915,0.050937632831761136,0.05075418837517212,0.05059890804702464,0.050747687209288836,0.05075218830837674,0.05084469993684848,0.05087082225136993,0.05080701746396148,0.050677016917453646,0.050680125180651854,0.05091998518356643,0.050717492652506566,0.05091222021836074,0.05092542749055816],\"type\":\"scatter\",\"xaxis\":\"x5\",\"yaxis\":\"y5\"},{\"marker\":{\"color\":[0,1,2,3,4,5,6,7,8,9,10,11,12,13,14,15,16,17,18,19,20,21,22,23,24,25,26,27,28,29,30,31,32,33,34,35,36,37,38,39,40,41,42,43,44,45,46,47,48,49,50,51,52,53,54,55,56,57,58,59,60,61,62,63,64,65,66,67,68,69,70,71,72,73,74,75,76,77,78,79,80,81,82,83,84,85,86,87,88,89,90,91,92,93,94,95,96,97,98,99],\"colorbar\":{\"title\":{\"text\":\"Trial\"},\"x\":1.0,\"xpad\":40},\"colorscale\":[[0.0,\"rgb(247,251,255)\"],[0.125,\"rgb(222,235,247)\"],[0.25,\"rgb(198,219,239)\"],[0.375,\"rgb(158,202,225)\"],[0.5,\"rgb(107,174,214)\"],[0.625,\"rgb(66,146,198)\"],[0.75,\"rgb(33,113,181)\"],[0.875,\"rgb(8,81,156)\"],[1.0,\"rgb(8,48,107)\"]],\"line\":{\"color\":\"Grey\",\"width\":0.5},\"showscale\":false},\"mode\":\"markers\",\"name\":\"Feasible Trial\",\"showlegend\":false,\"x\":[0.02390615690774205,0.6468714333418365,0.03150651402877223,0.17432262714608476,0.368048588377516,0.030914597871730266,0.08675096867865317,0.7853822831644891,0.5223434158880157,0.049153088938949305,0.2634385599644888,0.2137456526220226,0.20140204248288843,0.3489129090001232,0.010911738631905627,0.12650714505505573,0.34695329378385176,0.9455101034915003,0.8546771803711388,0.8177624823252577,0.8889596564583896,0.9844050273532136,0.5506829012204458,0.9188457292746266,0.5449584908095544,0.509056436452174,0.607937830441637,0.45378189115640494,0.6929657020486945,0.40163198019978413,0.2779878643427945,0.6812893163230013,0.6623068748271781,0.6640728282579278,0.6619790938934859,0.6613354697135888,0.42807268770390516,0.6796508504233871,0.6524543546135668,0.4481764629440769,0.33049704407554414,0.6449473667095046,0.5549134075184218,0.7245534171627174,0.46286909912908397,0.2890424610458399,0.761947642387448,0.3808343395260025,0.5819908247366606,0.2155104242120399,0.7283672340510688,0.6135453792649338,0.9944266766145028,0.4935756829276327,0.7823556029307804,0.595027130755403,0.3853134266106784,0.3534345930405204,0.42235884562843085,0.30609793606348124,0.24137877543099742,0.37544009197110445,0.33746701797692247,0.4065451627341492,0.3518025991031747,0.3429798751845311,0.23983577613999646,0.3870598062851109,0.18374634194883493,0.3210941265429731,0.26721435593257087,0.39805391343652596,0.371224529736414,0.30925630621574823,0.48791337322838424,0.4002928786228977,0.5013442617210686,0.3570014028701367,0.3115726056375431,0.45297818691156233,0.14787440421276504,0.3984802861872052,0.41471492332828186,0.5388290536509712,0.27858910247382157,0.34854546333886516,0.4537190593745236,0.4475614870299622,0.5393339792293912,0.2493601895404883,0.8322502576781393,0.407895568369341,0.3623040973635866,0.29172773345054215,0.33956691609404244,0.4872253809006231,0.44351333736886234,0.5684234754069224,0.421623790326846,0.4716041632695916],\"y\":[0.04836037787979314,0.048550334887845256,0.04552857173218748,0.04965483097727802,0.0504466486926325,0.028193749924096293,0.048468924199366714,0.043035368923137196,0.043514637300980555,0.04124737372633372,0.048018172902928806,0.049475978704412706,0.05035116163272319,0.0503336923586069,0.04580949572509504,0.04937136040976006,0.05053245421479036,0.05061446454378802,0.05076714516462097,0.04949516340583736,0.05056379491990688,0.05055704706646814,0.05053870110273202,0.049756189201006114,0.05063045369257177,0.05056520673176253,0.05045917662525422,0.05052538376993294,0.05077432567007987,0.05011138132886482,0.04974629892763078,0.05082341269841329,0.05082203124810296,0.05082792897827374,0.05084234691708917,0.05081450917525944,0.049871980544322465,0.04946923464616723,0.05087312593361811,0.05002370098128571,0.05061764871084951,0.05084366384911578,0.050795092967052244,0.05070749231852968,0.04991162133688028,0.04893278409297989,0.050799662379617076,0.0503972428680736,0.05021621594952767,0.04961143673868484,0.04936012663800593,0.050835337195322385,0.050710608172114015,0.05064109541419269,0.050760385925602676,0.0503744071908289,0.05083479068750748,0.05088541476907067,0.05086435524222495,0.05083364453917301,0.05060698801326245,0.05087072737154087,0.050871896291034224,0.05091994343644169,0.05092488857312937,0.050811017597552265,0.0506653884456109,0.05086914857118618,0.050603936677961744,0.050710725823102085,0.050484388093417064,0.050887680499387196,0.050831511640617125,0.0508624500552585,0.05061813829076702,0.050866526092712604,0.0508440737299772,0.050385257648073924,0.050644226448549906,0.05081335923173197,0.050395144126256036,0.05075438572521648,0.0508749058792102,0.0508313256761521,0.050758780558895884,0.05077660658116915,0.050937632831761136,0.05075418837517212,0.05059890804702464,0.050747687209288836,0.05075218830837674,0.05084469993684848,0.05087082225136993,0.05080701746396148,0.050677016917453646,0.050680125180651854,0.05091998518356643,0.050717492652506566,0.05091222021836074,0.05092542749055816],\"type\":\"scatter\",\"xaxis\":\"x6\",\"yaxis\":\"y6\"},{\"marker\":{\"color\":[0,1,2,3,4,5,6,7,8,9,10,11,12,13,14,15,16,17,18,19,20,21,22,23,24,25,26,27,28,29,30,31,32,33,34,35,36,37,38,39,40,41,42,43,44,45,46,47,48,49,50,51,52,53,54,55,56,57,58,59,60,61,62,63,64,65,66,67,68,69,70,71,72,73,74,75,76,77,78,79,80,81,82,83,84,85,86,87,88,89,90,91,92,93,94,95,96,97,98,99],\"colorbar\":{\"title\":{\"text\":\"Trial\"},\"x\":1.0,\"xpad\":40},\"colorscale\":[[0.0,\"rgb(247,251,255)\"],[0.125,\"rgb(222,235,247)\"],[0.25,\"rgb(198,219,239)\"],[0.375,\"rgb(158,202,225)\"],[0.5,\"rgb(107,174,214)\"],[0.625,\"rgb(66,146,198)\"],[0.75,\"rgb(33,113,181)\"],[0.875,\"rgb(8,81,156)\"],[1.0,\"rgb(8,48,107)\"]],\"line\":{\"color\":\"Grey\",\"width\":0.5},\"showscale\":false},\"mode\":\"markers\",\"name\":\"Feasible Trial\",\"showlegend\":false,\"x\":[0.001670813746134162,0.00006953173797203158,0.006210821497820431,0.00018290881757613347,0.0016738181924930116,0.7819971055093987,0.000654378659132168,0.02774374928694109,0.000016179667884845694,0.0003896680493536347,0.01934445426352195,0.00012706636078203064,0.00002237996037726439,0.000011661084958287237,0.00005498017231336054,0.0007283763793435053,0.00002931947277559952,0.0023509485736140185,0.00019505698803331192,0.00027287163210446295,0.00010454494570452076,0.00010389209096380755,0.00024492803580515967,0.00005563918625061598,0.0006861086162660205,0.0007926065755886553,0.003227412927578887,0.0004300476730259182,0.0014923488255953275,0.0015054418483795148,0.00021373894430739074,0.0013133493844556718,0.0011601829742313601,0.00441746597203642,0.005073280698549298,0.005333344513196318,0.00644402232509144,0.015287701488874591,0.004051649349516389,0.003536414359229603,0.010137536297670044,0.0013511610489974266,0.002858353971948505,0.0057016438331635765,0.0021286132923148383,0.03372062930723287,0.004206922620987795,0.0011595763720957902,0.009385214385964798,0.0022627088285835846,0.027408077169200015,0.0011332770901239634,0.0009922751662831805,0.0005272650374586167,0.0016945551104985295,0.003092747044306786,0.00040031077808076716,0.0003981306030260816,0.0004025775050663406,0.0005353215142545437,0.00035340225801018077,0.00031767484801675246,0.0007861719568166903,0.0001388908581780149,0.0001400196318834339,0.00012898391926172427,0.00016261096392190076,0.00028964306811739824,0.00023281440086248646,0.00007673048034797558,0.00029477570278148616,0.0001781486797553354,0.00016596587216653242,0.00007545840753386596,0.00027934159930089413,0.00012154635272470049,0.00019377604850336246,0.00003860909077796008,0.000695003299071299,0.00013710237769927022,0.00009586405214965885,0.00022988411267874293,0.0001057988178827229,0.00016807835980976824,0.00010249647656580187,0.00005694172034775032,0.00031747086938584915,0.0005428414088216047,0.00033792416230193353,0.00019176636207797265,0.000882956584278034,0.00029070137598483456,0.00023238034623151052,0.0004673533629852814,0.0001352974649075475,0.00022502375091405257,0.0006435817825731078,0.0006442411578370319,0.00039700080278407554,0.0007482372077394788],\"y\":[0.04836037787979314,0.048550334887845256,0.04552857173218748,0.04965483097727802,0.0504466486926325,0.028193749924096293,0.048468924199366714,0.043035368923137196,0.043514637300980555,0.04124737372633372,0.048018172902928806,0.049475978704412706,0.05035116163272319,0.0503336923586069,0.04580949572509504,0.04937136040976006,0.05053245421479036,0.05061446454378802,0.05076714516462097,0.04949516340583736,0.05056379491990688,0.05055704706646814,0.05053870110273202,0.049756189201006114,0.05063045369257177,0.05056520673176253,0.05045917662525422,0.05052538376993294,0.05077432567007987,0.05011138132886482,0.04974629892763078,0.05082341269841329,0.05082203124810296,0.05082792897827374,0.05084234691708917,0.05081450917525944,0.049871980544322465,0.04946923464616723,0.05087312593361811,0.05002370098128571,0.05061764871084951,0.05084366384911578,0.050795092967052244,0.05070749231852968,0.04991162133688028,0.04893278409297989,0.050799662379617076,0.0503972428680736,0.05021621594952767,0.04961143673868484,0.04936012663800593,0.050835337195322385,0.050710608172114015,0.05064109541419269,0.050760385925602676,0.0503744071908289,0.05083479068750748,0.05088541476907067,0.05086435524222495,0.05083364453917301,0.05060698801326245,0.05087072737154087,0.050871896291034224,0.05091994343644169,0.05092488857312937,0.050811017597552265,0.0506653884456109,0.05086914857118618,0.050603936677961744,0.050710725823102085,0.050484388093417064,0.050887680499387196,0.050831511640617125,0.0508624500552585,0.05061813829076702,0.050866526092712604,0.0508440737299772,0.050385257648073924,0.050644226448549906,0.05081335923173197,0.050395144126256036,0.05075438572521648,0.0508749058792102,0.0508313256761521,0.050758780558895884,0.05077660658116915,0.050937632831761136,0.05075418837517212,0.05059890804702464,0.050747687209288836,0.05075218830837674,0.05084469993684848,0.05087082225136993,0.05080701746396148,0.050677016917453646,0.050680125180651854,0.05091998518356643,0.050717492652506566,0.05091222021836074,0.05092542749055816],\"type\":\"scatter\",\"xaxis\":\"x7\",\"yaxis\":\"y7\"},{\"marker\":{\"color\":[0,1,2,3,4,5,6,7,8,9,10,11,12,13,14,15,16,17,18,19,20,21,22,23,24,25,26,27,28,29,30,31,32,33,34,35,36,37,38,39,40,41,42,43,44,45,46,47,48,49,50,51,52,53,54,55,56,57,58,59,60,61,62,63,64,65,66,67,68,69,70,71,72,73,74,75,76,77,78,79,80,81,82,83,84,85,86,87,88,89,90,91,92,93,94,95,96,97,98,99],\"colorbar\":{\"title\":{\"text\":\"Trial\"},\"x\":1.0,\"xpad\":40},\"colorscale\":[[0.0,\"rgb(247,251,255)\"],[0.125,\"rgb(222,235,247)\"],[0.25,\"rgb(198,219,239)\"],[0.375,\"rgb(158,202,225)\"],[0.5,\"rgb(107,174,214)\"],[0.625,\"rgb(66,146,198)\"],[0.75,\"rgb(33,113,181)\"],[0.875,\"rgb(8,81,156)\"],[1.0,\"rgb(8,48,107)\"]],\"line\":{\"color\":\"Grey\",\"width\":0.5},\"showscale\":false},\"mode\":\"markers\",\"name\":\"Feasible Trial\",\"showlegend\":false,\"x\":[0.003065813794054327,0.007170132846352929,0.00021121959195984316,0.00010374823617082924,0.003717052601565515,0.00034050554583806865,0.6953425748164306,0.044943946406415136,0.0001281325724667092,0.057764243911033145,0.0016204775898565511,0.0010000594225859935,0.0006516310749184617,0.0008425072832320042,0.003946904924530753,0.0006347204871570359,0.011934205188986287,0.01561229047124326,0.013859871487171571,0.024943359561467413,0.09762208439608988,0.09341225105069033,0.01808529990598086,0.1407005226111326,0.008382098224702369,0.008836619889164128,0.026534592600570384,0.0070750457483098345,0.017114341987282466,0.001756725378775649,0.005437316289701973,0.012095996233572767,0.010318903107626948,0.012400327574681663,0.004703777416848785,0.0027558069039371855,0.0047840294258804745,0.0026365704511865044,0.006106026580983542,0.0056268285878453604,0.0030114373196248783,0.009844731173103523,0.007713693795305887,0.00533557431022987,0.010474846301175494,0.03144058885401464,0.0035832367338595353,0.001737510153316624,0.0072907890138009775,0.01939100777885523,0.011581984944502044,0.010097592725071979,0.005014793101305679,0.013987004568905987,0.033410552934852546,0.00687687563020602,0.0036395404579196147,0.004241435331650417,0.00401778434184062,0.0023491270726121094,0.0043422595870378005,0.0033760651692281264,0.0023271323035951104,0.0013236592903635993,0.0013513662511145247,0.0012759477029672523,0.002156224263541058,0.0011634711459482974,0.0011437157468507041,0.0006156118528621263,0.0008791189582192835,0.0014181071172959727,0.0016224760068228612,0.0013453398030405983,0.0021601527343639627,0.0007994676417215829,0.003201403079310391,0.0014138725774225948,0.0005037274954787486,0.002015365705194968,0.0010826231399906129,0.0026983061057280506,0.0008068342937980917,0.0009770822675190078,0.0014720066287611856,0.0020406712622200542,0.00041976516416371556,0.00025779282991478535,0.00042480150338096233,0.0030839356078936507,0.000645818694641449,0.000798976608619266,0.0017558362453364733,0.0017527850293247952,0.0028099126594721105,0.00099129851377886,0.0015649644357201978,0.0015258616744238888,0.0012652638616248847,0.0007538167342390345],\"y\":[0.04836037787979314,0.048550334887845256,0.04552857173218748,0.04965483097727802,0.0504466486926325,0.028193749924096293,0.048468924199366714,0.043035368923137196,0.043514637300980555,0.04124737372633372,0.048018172902928806,0.049475978704412706,0.05035116163272319,0.0503336923586069,0.04580949572509504,0.04937136040976006,0.05053245421479036,0.05061446454378802,0.05076714516462097,0.04949516340583736,0.05056379491990688,0.05055704706646814,0.05053870110273202,0.049756189201006114,0.05063045369257177,0.05056520673176253,0.05045917662525422,0.05052538376993294,0.05077432567007987,0.05011138132886482,0.04974629892763078,0.05082341269841329,0.05082203124810296,0.05082792897827374,0.05084234691708917,0.05081450917525944,0.049871980544322465,0.04946923464616723,0.05087312593361811,0.05002370098128571,0.05061764871084951,0.05084366384911578,0.050795092967052244,0.05070749231852968,0.04991162133688028,0.04893278409297989,0.050799662379617076,0.0503972428680736,0.05021621594952767,0.04961143673868484,0.04936012663800593,0.050835337195322385,0.050710608172114015,0.05064109541419269,0.050760385925602676,0.0503744071908289,0.05083479068750748,0.05088541476907067,0.05086435524222495,0.05083364453917301,0.05060698801326245,0.05087072737154087,0.050871896291034224,0.05091994343644169,0.05092488857312937,0.050811017597552265,0.0506653884456109,0.05086914857118618,0.050603936677961744,0.050710725823102085,0.050484388093417064,0.050887680499387196,0.050831511640617125,0.0508624500552585,0.05061813829076702,0.050866526092712604,0.0508440737299772,0.050385257648073924,0.050644226448549906,0.05081335923173197,0.050395144126256036,0.05075438572521648,0.0508749058792102,0.0508313256761521,0.050758780558895884,0.05077660658116915,0.050937632831761136,0.05075418837517212,0.05059890804702464,0.050747687209288836,0.05075218830837674,0.05084469993684848,0.05087082225136993,0.05080701746396148,0.050677016917453646,0.050680125180651854,0.05091998518356643,0.050717492652506566,0.05091222021836074,0.05092542749055816],\"type\":\"scatter\",\"xaxis\":\"x8\",\"yaxis\":\"y8\"},{\"marker\":{\"color\":[0,1,2,3,4,5,6,7,8,9,10,11,12,13,14,15,16,17,18,19,20,21,22,23,24,25,26,27,28,29,30,31,32,33,34,35,36,37,38,39,40,41,42,43,44,45,46,47,48,49,50,51,52,53,54,55,56,57,58,59,60,61,62,63,64,65,66,67,68,69,70,71,72,73,74,75,76,77,78,79,80,81,82,83,84,85,86,87,88,89,90,91,92,93,94,95,96,97,98,99],\"colorbar\":{\"title\":{\"text\":\"Trial\"},\"x\":1.0,\"xpad\":40},\"colorscale\":[[0.0,\"rgb(247,251,255)\"],[0.125,\"rgb(222,235,247)\"],[0.25,\"rgb(198,219,239)\"],[0.375,\"rgb(158,202,225)\"],[0.5,\"rgb(107,174,214)\"],[0.625,\"rgb(66,146,198)\"],[0.75,\"rgb(33,113,181)\"],[0.875,\"rgb(8,81,156)\"],[1.0,\"rgb(8,48,107)\"]],\"line\":{\"color\":\"Grey\",\"width\":0.5},\"showscale\":false},\"mode\":\"markers\",\"name\":\"Feasible Trial\",\"showlegend\":false,\"x\":[0.010765016394012578,0.00251313736056368,0.018713266014041437,0.0012119792254833227,0.0020000160320504277,0.0034287117519856826,0.007962245606100952,0.43402708064884743,0.292819398663698,0.09283580539215723,0.0010810136867795022,0.001251112101846414,0.0047344030440810425,0.0047584773076287945,0.026316602597949833,0.0066189012467939515,0.0032651854029106834,0.0022172967504409747,0.011302067705846885,0.05421965051510264,0.013562260679860765,0.015563443225250242,0.01018337566306546,0.03646733213126757,0.005776488666122771,0.006104911469719299,0.0021506730222691493,0.008531392512417083,0.004276930950782454,0.011393473634477295,0.019710314275101604,0.005405913002633395,0.00520873050580472,0.00348257298603146,0.0036320085458134985,0.0028052684922022387,0.003879340532462632,0.001711160234147408,0.002991863109944445,0.0016373441207106563,0.0027685778776085435,0.0027407234063672806,0.002983955867127681,0.0013269618213338384,0.0010028050417714754,0.0036694595977907613,0.007944957780505484,0.0022210884508368036,0.0016678906819645764,0.003341358219722099,0.006983078259440226,0.00435097597231445,0.004473157428136434,0.002788641700769141,0.005393057097175936,0.0022368053885397665,0.003958491453320112,0.0036021304846366744,0.0014435388672807917,0.0014867529734372232,0.00115350445252423,0.0021124829574457014,0.001957668574190108,0.001876803636584391,0.0019150760256094377,0.0017936683895338574,0.00143174673214024,0.0012219292962553508,0.002006253373135997,0.0010033575729986892,0.0011904925616252249,0.0013470354220695968,0.0019344491439179162,0.0023829178714150686,0.0013076338196083075,0.0018609725329245897,0.0024425648520881335,0.0015840194878724493,0.0012135020591534731,0.001997395745270594,0.003114995172713559,0.0018285130450856842,0.0022901091755907943,0.002470678616400133,0.0012693444241069075,0.002396394578735078,0.001454667740908643,0.0031342766264927896,0.001576298937428242,0.0016154939488831565,0.002044414876430518,0.0010135006134553972,0.0013429206471030307,0.002552870468612889,0.0014328466750483477,0.0021396536264158966,0.002915931098007266,0.0029640051712122376,0.0017054512835934503,0.003920110313046692],\"y\":[0.04836037787979314,0.048550334887845256,0.04552857173218748,0.04965483097727802,0.0504466486926325,0.028193749924096293,0.048468924199366714,0.043035368923137196,0.043514637300980555,0.04124737372633372,0.048018172902928806,0.049475978704412706,0.05035116163272319,0.0503336923586069,0.04580949572509504,0.04937136040976006,0.05053245421479036,0.05061446454378802,0.05076714516462097,0.04949516340583736,0.05056379491990688,0.05055704706646814,0.05053870110273202,0.049756189201006114,0.05063045369257177,0.05056520673176253,0.05045917662525422,0.05052538376993294,0.05077432567007987,0.05011138132886482,0.04974629892763078,0.05082341269841329,0.05082203124810296,0.05082792897827374,0.05084234691708917,0.05081450917525944,0.049871980544322465,0.04946923464616723,0.05087312593361811,0.05002370098128571,0.05061764871084951,0.05084366384911578,0.050795092967052244,0.05070749231852968,0.04991162133688028,0.04893278409297989,0.050799662379617076,0.0503972428680736,0.05021621594952767,0.04961143673868484,0.04936012663800593,0.050835337195322385,0.050710608172114015,0.05064109541419269,0.050760385925602676,0.0503744071908289,0.05083479068750748,0.05088541476907067,0.05086435524222495,0.05083364453917301,0.05060698801326245,0.05087072737154087,0.050871896291034224,0.05091994343644169,0.05092488857312937,0.050811017597552265,0.0506653884456109,0.05086914857118618,0.050603936677961744,0.050710725823102085,0.050484388093417064,0.050887680499387196,0.050831511640617125,0.0508624500552585,0.05061813829076702,0.050866526092712604,0.0508440737299772,0.050385257648073924,0.050644226448549906,0.05081335923173197,0.050395144126256036,0.05075438572521648,0.0508749058792102,0.0508313256761521,0.050758780558895884,0.05077660658116915,0.050937632831761136,0.05075418837517212,0.05059890804702464,0.050747687209288836,0.05075218830837674,0.05084469993684848,0.05087082225136993,0.05080701746396148,0.050677016917453646,0.050680125180651854,0.05091998518356643,0.050717492652506566,0.05091222021836074,0.05092542749055816],\"type\":\"scatter\",\"xaxis\":\"x9\",\"yaxis\":\"y9\"}],                        {\"template\":{\"data\":{\"histogram2dcontour\":[{\"type\":\"histogram2dcontour\",\"colorbar\":{\"outlinewidth\":0,\"ticks\":\"\"},\"colorscale\":[[0.0,\"#0d0887\"],[0.1111111111111111,\"#46039f\"],[0.2222222222222222,\"#7201a8\"],[0.3333333333333333,\"#9c179e\"],[0.4444444444444444,\"#bd3786\"],[0.5555555555555556,\"#d8576b\"],[0.6666666666666666,\"#ed7953\"],[0.7777777777777778,\"#fb9f3a\"],[0.8888888888888888,\"#fdca26\"],[1.0,\"#f0f921\"]]}],\"choropleth\":[{\"type\":\"choropleth\",\"colorbar\":{\"outlinewidth\":0,\"ticks\":\"\"}}],\"histogram2d\":[{\"type\":\"histogram2d\",\"colorbar\":{\"outlinewidth\":0,\"ticks\":\"\"},\"colorscale\":[[0.0,\"#0d0887\"],[0.1111111111111111,\"#46039f\"],[0.2222222222222222,\"#7201a8\"],[0.3333333333333333,\"#9c179e\"],[0.4444444444444444,\"#bd3786\"],[0.5555555555555556,\"#d8576b\"],[0.6666666666666666,\"#ed7953\"],[0.7777777777777778,\"#fb9f3a\"],[0.8888888888888888,\"#fdca26\"],[1.0,\"#f0f921\"]]}],\"heatmap\":[{\"type\":\"heatmap\",\"colorbar\":{\"outlinewidth\":0,\"ticks\":\"\"},\"colorscale\":[[0.0,\"#0d0887\"],[0.1111111111111111,\"#46039f\"],[0.2222222222222222,\"#7201a8\"],[0.3333333333333333,\"#9c179e\"],[0.4444444444444444,\"#bd3786\"],[0.5555555555555556,\"#d8576b\"],[0.6666666666666666,\"#ed7953\"],[0.7777777777777778,\"#fb9f3a\"],[0.8888888888888888,\"#fdca26\"],[1.0,\"#f0f921\"]]}],\"heatmapgl\":[{\"type\":\"heatmapgl\",\"colorbar\":{\"outlinewidth\":0,\"ticks\":\"\"},\"colorscale\":[[0.0,\"#0d0887\"],[0.1111111111111111,\"#46039f\"],[0.2222222222222222,\"#7201a8\"],[0.3333333333333333,\"#9c179e\"],[0.4444444444444444,\"#bd3786\"],[0.5555555555555556,\"#d8576b\"],[0.6666666666666666,\"#ed7953\"],[0.7777777777777778,\"#fb9f3a\"],[0.8888888888888888,\"#fdca26\"],[1.0,\"#f0f921\"]]}],\"contourcarpet\":[{\"type\":\"contourcarpet\",\"colorbar\":{\"outlinewidth\":0,\"ticks\":\"\"}}],\"contour\":[{\"type\":\"contour\",\"colorbar\":{\"outlinewidth\":0,\"ticks\":\"\"},\"colorscale\":[[0.0,\"#0d0887\"],[0.1111111111111111,\"#46039f\"],[0.2222222222222222,\"#7201a8\"],[0.3333333333333333,\"#9c179e\"],[0.4444444444444444,\"#bd3786\"],[0.5555555555555556,\"#d8576b\"],[0.6666666666666666,\"#ed7953\"],[0.7777777777777778,\"#fb9f3a\"],[0.8888888888888888,\"#fdca26\"],[1.0,\"#f0f921\"]]}],\"surface\":[{\"type\":\"surface\",\"colorbar\":{\"outlinewidth\":0,\"ticks\":\"\"},\"colorscale\":[[0.0,\"#0d0887\"],[0.1111111111111111,\"#46039f\"],[0.2222222222222222,\"#7201a8\"],[0.3333333333333333,\"#9c179e\"],[0.4444444444444444,\"#bd3786\"],[0.5555555555555556,\"#d8576b\"],[0.6666666666666666,\"#ed7953\"],[0.7777777777777778,\"#fb9f3a\"],[0.8888888888888888,\"#fdca26\"],[1.0,\"#f0f921\"]]}],\"mesh3d\":[{\"type\":\"mesh3d\",\"colorbar\":{\"outlinewidth\":0,\"ticks\":\"\"}}],\"scatter\":[{\"fillpattern\":{\"fillmode\":\"overlay\",\"size\":10,\"solidity\":0.2},\"type\":\"scatter\"}],\"parcoords\":[{\"type\":\"parcoords\",\"line\":{\"colorbar\":{\"outlinewidth\":0,\"ticks\":\"\"}}}],\"scatterpolargl\":[{\"type\":\"scatterpolargl\",\"marker\":{\"colorbar\":{\"outlinewidth\":0,\"ticks\":\"\"}}}],\"bar\":[{\"error_x\":{\"color\":\"#2a3f5f\"},\"error_y\":{\"color\":\"#2a3f5f\"},\"marker\":{\"line\":{\"color\":\"#E5ECF6\",\"width\":0.5},\"pattern\":{\"fillmode\":\"overlay\",\"size\":10,\"solidity\":0.2}},\"type\":\"bar\"}],\"scattergeo\":[{\"type\":\"scattergeo\",\"marker\":{\"colorbar\":{\"outlinewidth\":0,\"ticks\":\"\"}}}],\"scatterpolar\":[{\"type\":\"scatterpolar\",\"marker\":{\"colorbar\":{\"outlinewidth\":0,\"ticks\":\"\"}}}],\"histogram\":[{\"marker\":{\"pattern\":{\"fillmode\":\"overlay\",\"size\":10,\"solidity\":0.2}},\"type\":\"histogram\"}],\"scattergl\":[{\"type\":\"scattergl\",\"marker\":{\"colorbar\":{\"outlinewidth\":0,\"ticks\":\"\"}}}],\"scatter3d\":[{\"type\":\"scatter3d\",\"line\":{\"colorbar\":{\"outlinewidth\":0,\"ticks\":\"\"}},\"marker\":{\"colorbar\":{\"outlinewidth\":0,\"ticks\":\"\"}}}],\"scattermapbox\":[{\"type\":\"scattermapbox\",\"marker\":{\"colorbar\":{\"outlinewidth\":0,\"ticks\":\"\"}}}],\"scatterternary\":[{\"type\":\"scatterternary\",\"marker\":{\"colorbar\":{\"outlinewidth\":0,\"ticks\":\"\"}}}],\"scattercarpet\":[{\"type\":\"scattercarpet\",\"marker\":{\"colorbar\":{\"outlinewidth\":0,\"ticks\":\"\"}}}],\"carpet\":[{\"aaxis\":{\"endlinecolor\":\"#2a3f5f\",\"gridcolor\":\"white\",\"linecolor\":\"white\",\"minorgridcolor\":\"white\",\"startlinecolor\":\"#2a3f5f\"},\"baxis\":{\"endlinecolor\":\"#2a3f5f\",\"gridcolor\":\"white\",\"linecolor\":\"white\",\"minorgridcolor\":\"white\",\"startlinecolor\":\"#2a3f5f\"},\"type\":\"carpet\"}],\"table\":[{\"cells\":{\"fill\":{\"color\":\"#EBF0F8\"},\"line\":{\"color\":\"white\"}},\"header\":{\"fill\":{\"color\":\"#C8D4E3\"},\"line\":{\"color\":\"white\"}},\"type\":\"table\"}],\"barpolar\":[{\"marker\":{\"line\":{\"color\":\"#E5ECF6\",\"width\":0.5},\"pattern\":{\"fillmode\":\"overlay\",\"size\":10,\"solidity\":0.2}},\"type\":\"barpolar\"}],\"pie\":[{\"automargin\":true,\"type\":\"pie\"}]},\"layout\":{\"autotypenumbers\":\"strict\",\"colorway\":[\"#636efa\",\"#EF553B\",\"#00cc96\",\"#ab63fa\",\"#FFA15A\",\"#19d3f3\",\"#FF6692\",\"#B6E880\",\"#FF97FF\",\"#FECB52\"],\"font\":{\"color\":\"#2a3f5f\"},\"hovermode\":\"closest\",\"hoverlabel\":{\"align\":\"left\"},\"paper_bgcolor\":\"white\",\"plot_bgcolor\":\"#E5ECF6\",\"polar\":{\"bgcolor\":\"#E5ECF6\",\"angularaxis\":{\"gridcolor\":\"white\",\"linecolor\":\"white\",\"ticks\":\"\"},\"radialaxis\":{\"gridcolor\":\"white\",\"linecolor\":\"white\",\"ticks\":\"\"}},\"ternary\":{\"bgcolor\":\"#E5ECF6\",\"aaxis\":{\"gridcolor\":\"white\",\"linecolor\":\"white\",\"ticks\":\"\"},\"baxis\":{\"gridcolor\":\"white\",\"linecolor\":\"white\",\"ticks\":\"\"},\"caxis\":{\"gridcolor\":\"white\",\"linecolor\":\"white\",\"ticks\":\"\"}},\"coloraxis\":{\"colorbar\":{\"outlinewidth\":0,\"ticks\":\"\"}},\"colorscale\":{\"sequential\":[[0.0,\"#0d0887\"],[0.1111111111111111,\"#46039f\"],[0.2222222222222222,\"#7201a8\"],[0.3333333333333333,\"#9c179e\"],[0.4444444444444444,\"#bd3786\"],[0.5555555555555556,\"#d8576b\"],[0.6666666666666666,\"#ed7953\"],[0.7777777777777778,\"#fb9f3a\"],[0.8888888888888888,\"#fdca26\"],[1.0,\"#f0f921\"]],\"sequentialminus\":[[0.0,\"#0d0887\"],[0.1111111111111111,\"#46039f\"],[0.2222222222222222,\"#7201a8\"],[0.3333333333333333,\"#9c179e\"],[0.4444444444444444,\"#bd3786\"],[0.5555555555555556,\"#d8576b\"],[0.6666666666666666,\"#ed7953\"],[0.7777777777777778,\"#fb9f3a\"],[0.8888888888888888,\"#fdca26\"],[1.0,\"#f0f921\"]],\"diverging\":[[0,\"#8e0152\"],[0.1,\"#c51b7d\"],[0.2,\"#de77ae\"],[0.3,\"#f1b6da\"],[0.4,\"#fde0ef\"],[0.5,\"#f7f7f7\"],[0.6,\"#e6f5d0\"],[0.7,\"#b8e186\"],[0.8,\"#7fbc41\"],[0.9,\"#4d9221\"],[1,\"#276419\"]]},\"xaxis\":{\"gridcolor\":\"white\",\"linecolor\":\"white\",\"ticks\":\"\",\"title\":{\"standoff\":15},\"zerolinecolor\":\"white\",\"automargin\":true,\"zerolinewidth\":2},\"yaxis\":{\"gridcolor\":\"white\",\"linecolor\":\"white\",\"ticks\":\"\",\"title\":{\"standoff\":15},\"zerolinecolor\":\"white\",\"automargin\":true,\"zerolinewidth\":2},\"scene\":{\"xaxis\":{\"backgroundcolor\":\"#E5ECF6\",\"gridcolor\":\"white\",\"linecolor\":\"white\",\"showbackground\":true,\"ticks\":\"\",\"zerolinecolor\":\"white\",\"gridwidth\":2},\"yaxis\":{\"backgroundcolor\":\"#E5ECF6\",\"gridcolor\":\"white\",\"linecolor\":\"white\",\"showbackground\":true,\"ticks\":\"\",\"zerolinecolor\":\"white\",\"gridwidth\":2},\"zaxis\":{\"backgroundcolor\":\"#E5ECF6\",\"gridcolor\":\"white\",\"linecolor\":\"white\",\"showbackground\":true,\"ticks\":\"\",\"zerolinecolor\":\"white\",\"gridwidth\":2}},\"shapedefaults\":{\"line\":{\"color\":\"#2a3f5f\"}},\"annotationdefaults\":{\"arrowcolor\":\"#2a3f5f\",\"arrowhead\":0,\"arrowwidth\":1},\"geo\":{\"bgcolor\":\"white\",\"landcolor\":\"#E5ECF6\",\"subunitcolor\":\"white\",\"showland\":true,\"showlakes\":true,\"lakecolor\":\"white\"},\"title\":{\"x\":0.05},\"mapbox\":{\"style\":\"light\"}}},\"xaxis\":{\"anchor\":\"y\",\"domain\":[0.0,0.09135802469135802],\"title\":{\"text\":\"ease_r\"},\"type\":\"log\"},\"yaxis\":{\"anchor\":\"x\",\"domain\":[0.0,1.0],\"title\":{\"text\":\"Objective Value\"}},\"xaxis2\":{\"anchor\":\"y2\",\"domain\":[0.11358024691358025,0.20493827160493827],\"title\":{\"text\":\"ials\"},\"type\":\"log\"},\"yaxis2\":{\"anchor\":\"x2\",\"domain\":[0.0,1.0],\"matches\":\"y\",\"showticklabels\":false},\"xaxis3\":{\"anchor\":\"y3\",\"domain\":[0.2271604938271605,0.31851851851851853],\"title\":{\"text\":\"item_knn\"},\"type\":\"log\"},\"yaxis3\":{\"anchor\":\"x3\",\"domain\":[0.0,1.0],\"matches\":\"y\",\"showticklabels\":false},\"xaxis4\":{\"anchor\":\"y4\",\"domain\":[0.34074074074074073,0.43209876543209874],\"title\":{\"text\":\"nmf\"},\"type\":\"log\"},\"yaxis4\":{\"anchor\":\"x4\",\"domain\":[0.0,1.0],\"matches\":\"y\",\"showticklabels\":false},\"xaxis5\":{\"anchor\":\"y5\",\"domain\":[0.454320987654321,0.5456790123456791],\"title\":{\"text\":\"p3alpha\"},\"type\":\"log\"},\"yaxis5\":{\"anchor\":\"x5\",\"domain\":[0.0,1.0],\"matches\":\"y\",\"showticklabels\":false},\"xaxis6\":{\"anchor\":\"y6\",\"domain\":[0.5679012345679012,0.6592592592592592],\"title\":{\"text\":\"rp3\"},\"type\":\"log\"},\"yaxis6\":{\"anchor\":\"x6\",\"domain\":[0.0,1.0],\"matches\":\"y\",\"showticklabels\":false},\"xaxis7\":{\"anchor\":\"y7\",\"domain\":[0.6814814814814815,0.7728395061728395],\"title\":{\"text\":\"slim_bpr\"},\"type\":\"log\"},\"yaxis7\":{\"anchor\":\"x7\",\"domain\":[0.0,1.0],\"matches\":\"y\",\"showticklabels\":false},\"xaxis8\":{\"anchor\":\"y8\",\"domain\":[0.7950617283950617,0.8864197530864197],\"title\":{\"text\":\"svd_item\"},\"type\":\"log\"},\"yaxis8\":{\"anchor\":\"x8\",\"domain\":[0.0,1.0],\"matches\":\"y\",\"showticklabels\":false},\"xaxis9\":{\"anchor\":\"y9\",\"domain\":[0.908641975308642,1.0],\"title\":{\"text\":\"user_knn\"},\"type\":\"log\"},\"yaxis9\":{\"anchor\":\"x9\",\"domain\":[0.0,1.0],\"matches\":\"y\",\"showticklabels\":false},\"title\":{\"text\":\"Slice Plot\"},\"width\":2700},                        {\"responsive\": true}                    ).then(function(){\n",
       "                            \n",
       "var gd = document.getElementById('8a827fbd-bb0e-4943-a2a6-fd893e9b857d');\n",
       "var x = new MutationObserver(function (mutations, observer) {{\n",
       "        var display = window.getComputedStyle(gd).display;\n",
       "        if (!display || display === 'none') {{\n",
       "            console.log([gd, 'removed!']);\n",
       "            Plotly.purge(gd);\n",
       "            observer.disconnect();\n",
       "        }}\n",
       "}});\n",
       "\n",
       "// Listen for the removal of the full notebook cells\n",
       "var notebookContainer = gd.closest('#notebook-container');\n",
       "if (notebookContainer) {{\n",
       "    x.observe(notebookContainer, {childList: true});\n",
       "}}\n",
       "\n",
       "// Listen for the clearing of the current output cell\n",
       "var outputEl = gd.closest('.output');\n",
       "if (outputEl) {{\n",
       "    x.observe(outputEl, {childList: true});\n",
       "}}\n",
       "\n",
       "                        })                };                });            </script>        </div>"
      ]
     },
     "metadata": {},
     "output_type": "display_data"
    }
   ],
   "source": [
    "if config['tune_parameters']:\n",
    "    fig = optuna.visualization.plot_slice(study)\n",
    "    fig.show()"
   ]
  },
  {
   "cell_type": "code",
   "execution_count": 31,
   "id": "4f4bace5",
   "metadata": {
    "execution": {
     "iopub.execute_input": "2023-12-01T22:21:26.384317Z",
     "iopub.status.busy": "2023-12-01T22:21:26.383873Z",
     "iopub.status.idle": "2023-12-01T22:21:27.223866Z",
     "shell.execute_reply": "2023-12-01T22:21:27.222872Z"
    },
    "papermill": {
     "duration": 0.906891,
     "end_time": "2023-12-01T22:21:27.226744",
     "exception": false,
     "start_time": "2023-12-01T22:21:26.319853",
     "status": "completed"
    },
    "tags": []
   },
   "outputs": [],
   "source": [
    "if config['tune_parameters']:\n",
    "    with open('/kaggle/working/best_params_hybrid_lr_comb_9models.json', 'w') as params_file:\n",
    "        json.dump(study.best_params, params_file)\n",
    "        \n",
    "    if config['save_github']: \n",
    "        upload_file(\n",
    "            '/kaggle/working/best_params_hybrid_lr_comb_9models.json', \n",
    "            'tuning_results/best_params_hybrid_lr_comb_9models.json', \n",
    "            'Linear combination of 9 models tuning results (from kaggle notebook)'\n",
    "        )\n",
    "    \n",
    "elif config['copy_prev_best_params']:\n",
    "    shutil.copyfile(\n",
    "        '/kaggle/input/linear-combination/best_params_hybrid_lr_comb_9models.json', \n",
    "        '/kaggle/working/best_params_hybrid_lr_comb_9models.json'\n",
    "    )"
   ]
  },
  {
   "cell_type": "code",
   "execution_count": 32,
   "id": "dd574134",
   "metadata": {
    "execution": {
     "iopub.execute_input": "2023-12-01T22:21:27.355674Z",
     "iopub.status.busy": "2023-12-01T22:21:27.354472Z",
     "iopub.status.idle": "2023-12-01T22:21:28.755122Z",
     "shell.execute_reply": "2023-12-01T22:21:28.753753Z"
    },
    "papermill": {
     "duration": 1.466957,
     "end_time": "2023-12-01T22:21:28.758283",
     "exception": false,
     "start_time": "2023-12-01T22:21:27.291326",
     "status": "completed"
    },
    "tags": []
   },
   "outputs": [],
   "source": [
    "if config['save_github'] and config['tune_parameters']:\n",
    "    upload_file(\n",
    "        config['database_path'],\n",
    "        'tuning_results/tuning_hybrid_merging.db', \n",
    "        'Linear combination tuning db updated results (from kaggle notebook)'\n",
    "    )"
   ]
  },
  {
   "cell_type": "code",
   "execution_count": 33,
   "id": "0121b0cc",
   "metadata": {
    "execution": {
     "iopub.execute_input": "2023-12-01T22:21:28.886930Z",
     "iopub.status.busy": "2023-12-01T22:21:28.886127Z",
     "iopub.status.idle": "2023-12-01T22:21:28.893950Z",
     "shell.execute_reply": "2023-12-01T22:21:28.893037Z"
    },
    "papermill": {
     "duration": 0.073142,
     "end_time": "2023-12-01T22:21:28.896196",
     "exception": false,
     "start_time": "2023-12-01T22:21:28.823054",
     "status": "completed"
    },
    "tags": []
   },
   "outputs": [
    {
     "data": {
      "text/plain": [
       "{'item_knn': 0.15778573055111927,\n",
       " 'rp3': 0.4537190593745236,\n",
       " 'p3alpha': 0.3332076925657023,\n",
       " 'ials': 0.18873926545901815,\n",
       " 'ease_r': 0.008958947376370386,\n",
       " 'user_knn': 0.001454667740908643,\n",
       " 'svd_item': 0.00041976516416371556,\n",
       " 'nmf': 0.0011209447523190098,\n",
       " 'slim_bpr': 0.00031747086938584915}"
      ]
     },
     "execution_count": 33,
     "metadata": {},
     "output_type": "execute_result"
    }
   ],
   "source": [
    "with open('/kaggle/working/best_params_hybrid_lr_comb_9models.json', 'r') as params_file:\n",
    "    params = json.load(params_file)\n",
    "params"
   ]
  },
  {
   "cell_type": "code",
   "execution_count": 34,
   "id": "3220feb0",
   "metadata": {
    "execution": {
     "iopub.execute_input": "2023-12-01T22:21:29.023933Z",
     "iopub.status.busy": "2023-12-01T22:21:29.023128Z",
     "iopub.status.idle": "2023-12-01T22:22:47.408587Z",
     "shell.execute_reply": "2023-12-01T22:22:47.407162Z"
    },
    "papermill": {
     "duration": 78.452426,
     "end_time": "2023-12-01T22:22:47.411116",
     "exception": false,
     "start_time": "2023-12-01T22:21:28.958690",
     "status": "completed"
    },
    "tags": []
   },
   "outputs": [
    {
     "name": "stdout",
     "output_type": "stream",
     "text": [
      "ItemKNNCFRecommender: URM Detected 386 ( 3.0%) users with no interactions.\n",
      "ItemKNNCFRecommender: URM Detected 125 ( 0.6%) items with no interactions.\n",
      "Similarity column 22347 (100.0%), 4158.99 column/sec. Elapsed time 5.37 sec\n",
      "UserKNNCFRecommender: URM Detected 386 ( 3.0%) users with no interactions.\n",
      "UserKNNCFRecommender: URM Detected 125 ( 0.6%) items with no interactions.\n",
      "Similarity column 13024 (100.0%), 3909.59 column/sec. Elapsed time 3.33 sec\n",
      "RP3betaRecommender: URM Detected 386 ( 3.0%) users with no interactions.\n",
      "RP3betaRecommender: URM Detected 125 ( 0.6%) items with no interactions.\n",
      "RP3betaRecommender: Similarity column 22347 (100.0%), 2362.70 column/sec. Elapsed time 9.46 sec\n",
      "P3alphaRecommender: URM Detected 386 ( 3.0%) users with no interactions.\n",
      "P3alphaRecommender: URM Detected 125 ( 0.6%) items with no interactions.\n",
      "P3alphaRecommender: Similarity column 22347 (100.0%), 2960.30 column/sec. Elapsed time 7.55 sec\n",
      "PureSVDRecommender: URM Detected 386 ( 3.0%) users with no interactions.\n",
      "PureSVDRecommender: URM Detected 125 ( 0.6%) items with no interactions.\n",
      "PureSVDRecommender: Computing SVD decomposition...\n",
      "PureSVDRecommender: Computing SVD decomposition... done in 0.63 sec\n",
      "PureSVDItemRecommender: URM Detected 386 ( 3.0%) users with no interactions.\n",
      "PureSVDItemRecommender: URM Detected 125 ( 0.6%) items with no interactions.\n",
      "PureSVDItemRecommender: Computing SVD decomposition...\n",
      "PureSVDItemRecommender: Computing SVD decomposition... Done!\n",
      "NMFRecommender: URM Detected 386 ( 3.0%) users with no interactions.\n",
      "NMFRecommender: URM Detected 125 ( 0.6%) items with no interactions.\n",
      "NMFRecommender: Loading model from file '/kaggle/working/Recsys_Challenge_2023/models/nmf_all.zip'\n",
      "NMFRecommender: Loading complete\n",
      "Recommender_Base_Class: URM Detected 386 ( 3.0%) users with no interactions.\n",
      "Recommender_Base_Class: URM Detected 125 ( 0.6%) items with no interactions.\n",
      "Recommender_Base_Class: Loading model from file '/kaggle/working/Recsys_Challenge_2023/models/slim_bpr_all.zip'\n",
      "Recommender_Base_Class: Loading complete\n",
      "EASE_R_Recommender: URM Detected 386 ( 3.0%) users with no interactions.\n",
      "EASE_R_Recommender: URM Detected 125 ( 0.6%) items with no interactions.\n",
      "EASE_R_Recommender: Loading model from file '/kaggle/working/Recsys_Challenge_2023/models/ease_r_all.zip'\n",
      "EASE_R_Recommender: Loading complete\n",
      "IALSRecommender: URM Detected 386 ( 3.0%) users with no interactions.\n",
      "IALSRecommender: URM Detected 125 ( 0.6%) items with no interactions.\n",
      "IALSRecommender: Loading model from file '/kaggle/working/ials_all.zip'\n",
      "IALSRecommender: Loading complete\n"
     ]
    }
   ],
   "source": [
    "recommender_item = ItemKNNCFRecommender(URM_all)\n",
    "recommender_item.fit(**params_item_knn)\n",
    "\n",
    "recommender_user = UserKNNCFRecommender(URM_all)\n",
    "recommender_user.fit(**params_user_knn)\n",
    "\n",
    "recommender_rp3 = RP3betaRecommender(URM_all)\n",
    "recommender_rp3.fit(**params_rp3)\n",
    "\n",
    "recommender_p3a = P3alphaRecommender(URM_all)\n",
    "recommender_p3a.fit(**params_p3alpha)\n",
    "\n",
    "recommender_pure_svd = PureSVDRecommender(URM_all)\n",
    "recommender_pure_svd.fit(num_factors=params_pure_svd['factors'])\n",
    "\n",
    "recommender_pure_svd_item = PureSVDItemRecommender(URM_all)\n",
    "recommender_pure_svd_item.fit(**params_pure_svd_item)\n",
    "\n",
    "recommender_nmf = NMFRecommender(URM_all)\n",
    "recommender_nmf.load_model('/kaggle/working/Recsys_Challenge_2023/models/', 'nmf_all.zip')\n",
    "\n",
    "recommender_slim_bpr = SLIM_BPR_Python(URM_all)\n",
    "recommender_slim_bpr.load_model('/kaggle/working/Recsys_Challenge_2023/models/', 'slim_bpr_all.zip')\n",
    "\n",
    "recommender_ease_r = EASE_R_Recommender(URM_all)\n",
    "recommender_ease_r.load_model('/kaggle/working/Recsys_Challenge_2023/models/', 'ease_r_all.zip')\n",
    "\n",
    "recommender_ials = IALSRecommender(URM_all)\n",
    "recommender_ials.load_model('/kaggle/working/', 'ials_all.zip')"
   ]
  },
  {
   "cell_type": "code",
   "execution_count": 35,
   "id": "f084938e",
   "metadata": {
    "execution": {
     "iopub.execute_input": "2023-12-01T22:22:47.545525Z",
     "iopub.status.busy": "2023-12-01T22:22:47.544665Z",
     "iopub.status.idle": "2023-12-01T22:22:47.552221Z",
     "shell.execute_reply": "2023-12-01T22:22:47.550755Z"
    },
    "papermill": {
     "duration": 0.075969,
     "end_time": "2023-12-01T22:22:47.555370",
     "exception": false,
     "start_time": "2023-12-01T22:22:47.479401",
     "status": "completed"
    },
    "tags": []
   },
   "outputs": [],
   "source": [
    "weights = [\n",
    "    params['item_knn'],\n",
    "    params['rp3'],\n",
    "    params['p3alpha'],\n",
    "    params['ease_r'],\n",
    "    params['ials'],\n",
    "    params['user_knn'],\n",
    "    params['svd_item'],\n",
    "    params['nmf'],\n",
    "    params['slim_bpr']\n",
    "]\n",
    "\n",
    "recommenders = [\n",
    "    recommender_item, recommender_rp3, recommender_p3a, recommender_ials, recommender_ease_r, \n",
    "    recommender_user, recommender_pure_svd_item, recommender_nmf, recommender_slim_bpr\n",
    "]"
   ]
  },
  {
   "cell_type": "code",
   "execution_count": 36,
   "id": "2318006f",
   "metadata": {
    "execution": {
     "iopub.execute_input": "2023-12-01T22:22:47.686107Z",
     "iopub.status.busy": "2023-12-01T22:22:47.685383Z",
     "iopub.status.idle": "2023-12-01T22:24:34.771970Z",
     "shell.execute_reply": "2023-12-01T22:24:34.770197Z"
    },
    "papermill": {
     "duration": 107.179978,
     "end_time": "2023-12-01T22:24:34.800045",
     "exception": false,
     "start_time": "2023-12-01T22:22:47.620067",
     "status": "completed"
    },
    "tags": []
   },
   "outputs": [
    {
     "name": "stdout",
     "output_type": "stream",
     "text": [
      "Recommender_Base_Class: URM Detected 386 ( 3.0%) users with no interactions.\n",
      "Recommender_Base_Class: URM Detected 125 ( 0.6%) items with no interactions.\n"
     ]
    },
    {
     "data": {
      "text/html": [
       "<div>\n",
       "<style scoped>\n",
       "    .dataframe tbody tr th:only-of-type {\n",
       "        vertical-align: middle;\n",
       "    }\n",
       "\n",
       "    .dataframe tbody tr th {\n",
       "        vertical-align: top;\n",
       "    }\n",
       "\n",
       "    .dataframe thead th {\n",
       "        text-align: right;\n",
       "    }\n",
       "</style>\n",
       "<table border=\"1\" class=\"dataframe\">\n",
       "  <thead>\n",
       "    <tr style=\"text-align: right;\">\n",
       "      <th></th>\n",
       "      <th>user_id</th>\n",
       "      <th>item_list</th>\n",
       "    </tr>\n",
       "  </thead>\n",
       "  <tbody>\n",
       "    <tr>\n",
       "      <th>0</th>\n",
       "      <td>1</td>\n",
       "      <td>36 101 403 506 123 515 694 254 139 592</td>\n",
       "    </tr>\n",
       "    <tr>\n",
       "      <th>1</th>\n",
       "      <td>2</td>\n",
       "      <td>1095 47 28 11 50 1522 12 196 102 656</td>\n",
       "    </tr>\n",
       "    <tr>\n",
       "      <th>2</th>\n",
       "      <td>3</td>\n",
       "      <td>59 239 259 857 511 1281 584 536 375 414</td>\n",
       "    </tr>\n",
       "    <tr>\n",
       "      <th>3</th>\n",
       "      <td>4</td>\n",
       "      <td>28 249 50 139 171 254 314 7 639 129</td>\n",
       "    </tr>\n",
       "    <tr>\n",
       "      <th>4</th>\n",
       "      <td>5</td>\n",
       "      <td>1570 77 116 5138 4 148 131 7033 170 95</td>\n",
       "    </tr>\n",
       "  </tbody>\n",
       "</table>\n",
       "</div>"
      ],
      "text/plain": [
       "   user_id                                item_list\n",
       "0        1   36 101 403 506 123 515 694 254 139 592\n",
       "1        2     1095 47 28 11 50 1522 12 196 102 656\n",
       "2        3  59 239 259 857 511 1281 584 536 375 414\n",
       "3        4      28 249 50 139 171 254 314 7 639 129\n",
       "4        5   1570 77 116 5138 4 148 131 7033 170 95"
      ]
     },
     "metadata": {},
     "output_type": "display_data"
    }
   ],
   "source": [
    "linear_combinator = LinearCombinationRecommender(URM_all, recommenders, weights)\n",
    "recommendations = linear_combinator.recommend(user_ids_test['user_id'].unique() - 1, cutoff=10, return_scores=False)\n",
    "recommendations = [' '.join([str(item + 1) for item in r]).strip() for r in recommendations]\n",
    "\n",
    "submission_df = pd.DataFrame({'user_id': user_ids_test['user_id'].unique(), 'item_list': recommendations})\n",
    "display(submission_df.head())\n",
    "\n",
    "submission_df.to_csv('/kaggle/working/submission_linear_comb_9models.csv', index=False)"
   ]
  }
 ],
 "metadata": {
  "kaggle": {
   "accelerator": "none",
   "dataSources": [
    {
     "databundleVersionId": 6919098,
     "sourceId": 62803,
     "sourceType": "competition"
    },
    {
     "sourceId": 153194552,
     "sourceType": "kernelVersion"
    }
   ],
   "dockerImageVersionId": 30587,
   "isGpuEnabled": false,
   "isInternetEnabled": true,
   "language": "python",
   "sourceType": "notebook"
  },
  "kernelspec": {
   "display_name": "Python 3",
   "language": "python",
   "name": "python3"
  },
  "language_info": {
   "codemirror_mode": {
    "name": "ipython",
    "version": 3
   },
   "file_extension": ".py",
   "mimetype": "text/x-python",
   "name": "python",
   "nbconvert_exporter": "python",
   "pygments_lexer": "ipython3",
   "version": "3.10.12"
  },
  "papermill": {
   "default_parameters": {},
   "duration": 5199.463819,
   "end_time": "2023-12-01T22:24:37.314687",
   "environment_variables": {},
   "exception": null,
   "input_path": "__notebook__.ipynb",
   "output_path": "__notebook__.ipynb",
   "parameters": {},
   "start_time": "2023-12-01T20:57:57.850868",
   "version": "2.4.0"
  }
 },
 "nbformat": 4,
 "nbformat_minor": 5
}
