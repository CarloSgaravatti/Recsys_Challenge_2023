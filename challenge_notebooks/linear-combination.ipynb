{
 "cells": [
  {
   "cell_type": "code",
   "execution_count": 1,
   "id": "55dc4aca",
   "metadata": {
    "_cell_guid": "b1076dfc-b9ad-4769-8c92-a6c4dae69d19",
    "_uuid": "8f2839f25d086af736a60e9eeb907d3b93b6e0e5",
    "execution": {
     "iopub.execute_input": "2023-12-05T14:13:20.871840Z",
     "iopub.status.busy": "2023-12-05T14:13:20.871108Z",
     "iopub.status.idle": "2023-12-05T14:13:41.287558Z",
     "shell.execute_reply": "2023-12-05T14:13:41.286445Z"
    },
    "papermill": {
     "duration": 20.429168,
     "end_time": "2023-12-05T14:13:41.290050",
     "exception": false,
     "start_time": "2023-12-05T14:13:20.860882",
     "status": "completed"
    },
    "tags": []
   },
   "outputs": [
    {
     "name": "stdout",
     "output_type": "stream",
     "text": [
      "Cloning into 'Recsys_Challenge_2023'...\r\n",
      "remote: Enumerating objects: 2234, done.\u001b[K\r\n",
      "remote: Counting objects: 100% (352/352), done.\u001b[K\r\n",
      "remote: Compressing objects: 100% (208/208), done.\u001b[K\r\n",
      "remote: Total 2234 (delta 271), reused 184 (delta 137), pack-reused 1882\u001b[K\r\n",
      "Receiving objects: 100% (2234/2234), 378.17 MiB | 31.37 MiB/s, done.\r\n",
      "Resolving deltas: 100% (1723/1723), done.\r\n"
     ]
    }
   ],
   "source": [
    "from kaggle_secrets import UserSecretsClient\n",
    "secret_label = \"Token\"\n",
    "token = UserSecretsClient().get_secret(secret_label)\n",
    "\n",
    "! git clone https://{token}@github.com/CarloSgaravatti/Recsys_Challenge_2023.git"
   ]
  },
  {
   "cell_type": "code",
   "execution_count": 2,
   "id": "9f604132",
   "metadata": {
    "execution": {
     "iopub.execute_input": "2023-12-05T14:13:41.314463Z",
     "iopub.status.busy": "2023-12-05T14:13:41.314042Z",
     "iopub.status.idle": "2023-12-05T14:13:54.500396Z",
     "shell.execute_reply": "2023-12-05T14:13:54.498725Z"
    },
    "papermill": {
     "duration": 13.201524,
     "end_time": "2023-12-05T14:13:54.502975",
     "exception": false,
     "start_time": "2023-12-05T14:13:41.301451",
     "status": "completed"
    },
    "tags": []
   },
   "outputs": [
    {
     "name": "stdout",
     "output_type": "stream",
     "text": [
      "Collecting PyGithub\r\n",
      "  Obtaining dependency information for PyGithub from https://files.pythonhosted.org/packages/be/04/810d131be173cba445d3658a45512b2b2b3d0960d52c4a300d6ec5e00f52/PyGithub-2.1.1-py3-none-any.whl.metadata\r\n",
      "  Downloading PyGithub-2.1.1-py3-none-any.whl.metadata (2.2 kB)\r\n",
      "Requirement already satisfied: requests in /opt/conda/lib/python3.10/site-packages (2.31.0)\r\n",
      "Collecting pynacl>=1.4.0 (from PyGithub)\r\n",
      "  Downloading PyNaCl-1.5.0-cp36-abi3-manylinux_2_17_x86_64.manylinux2014_x86_64.manylinux_2_24_x86_64.whl (856 kB)\r\n",
      "\u001b[2K     \u001b[90m━━━━━━━━━━━━━━━━━━━━━━━━━━━━━━━━━━━━━━\u001b[0m \u001b[32m856.7/856.7 kB\u001b[0m \u001b[31m11.4 MB/s\u001b[0m eta \u001b[36m0:00:00\u001b[0m\r\n",
      "\u001b[?25hRequirement already satisfied: python-dateutil in /opt/conda/lib/python3.10/site-packages (from PyGithub) (2.8.2)\r\n",
      "Requirement already satisfied: pyjwt[crypto]>=2.4.0 in /opt/conda/lib/python3.10/site-packages (from PyGithub) (2.8.0)\r\n",
      "Requirement already satisfied: typing-extensions>=4.0.0 in /opt/conda/lib/python3.10/site-packages (from PyGithub) (4.5.0)\r\n",
      "Requirement already satisfied: urllib3>=1.26.0 in /opt/conda/lib/python3.10/site-packages (from PyGithub) (1.26.15)\r\n",
      "Requirement already satisfied: Deprecated in /opt/conda/lib/python3.10/site-packages (from PyGithub) (1.2.14)\r\n",
      "Requirement already satisfied: charset-normalizer<4,>=2 in /opt/conda/lib/python3.10/site-packages (from requests) (3.2.0)\r\n",
      "Requirement already satisfied: idna<4,>=2.5 in /opt/conda/lib/python3.10/site-packages (from requests) (3.4)\r\n",
      "Requirement already satisfied: certifi>=2017.4.17 in /opt/conda/lib/python3.10/site-packages (from requests) (2023.7.22)\r\n",
      "Requirement already satisfied: cryptography>=3.4.0 in /opt/conda/lib/python3.10/site-packages (from pyjwt[crypto]>=2.4.0->PyGithub) (41.0.3)\r\n",
      "Requirement already satisfied: cffi>=1.4.1 in /opt/conda/lib/python3.10/site-packages (from pynacl>=1.4.0->PyGithub) (1.15.1)\r\n",
      "Requirement already satisfied: wrapt<2,>=1.10 in /opt/conda/lib/python3.10/site-packages (from Deprecated->PyGithub) (1.15.0)\r\n",
      "Requirement already satisfied: six>=1.5 in /opt/conda/lib/python3.10/site-packages (from python-dateutil->PyGithub) (1.16.0)\r\n",
      "Requirement already satisfied: pycparser in /opt/conda/lib/python3.10/site-packages (from cffi>=1.4.1->pynacl>=1.4.0->PyGithub) (2.21)\r\n",
      "Downloading PyGithub-2.1.1-py3-none-any.whl (302 kB)\r\n",
      "\u001b[2K   \u001b[90m━━━━━━━━━━━━━━━━━━━━━━━━━━━━━━━━━━━━━━━━\u001b[0m \u001b[32m302.9/302.9 kB\u001b[0m \u001b[31m23.2 MB/s\u001b[0m eta \u001b[36m0:00:00\u001b[0m\r\n",
      "\u001b[?25hInstalling collected packages: pynacl, PyGithub\r\n",
      "Successfully installed PyGithub-2.1.1 pynacl-1.5.0\r\n"
     ]
    }
   ],
   "source": [
    "! pip install PyGithub requests"
   ]
  },
  {
   "cell_type": "code",
   "execution_count": 3,
   "id": "9202d46b",
   "metadata": {
    "_kg_hide-output": true,
    "execution": {
     "iopub.execute_input": "2023-12-05T14:13:54.531052Z",
     "iopub.status.busy": "2023-12-05T14:13:54.530654Z",
     "iopub.status.idle": "2023-12-05T14:15:55.829496Z",
     "shell.execute_reply": "2023-12-05T14:15:55.828447Z"
    },
    "papermill": {
     "duration": 121.317119,
     "end_time": "2023-12-05T14:15:55.832058",
     "exception": false,
     "start_time": "2023-12-05T14:13:54.514939",
     "status": "completed"
    },
    "scrolled": true,
    "tags": []
   },
   "outputs": [
    {
     "name": "stdout",
     "output_type": "stream",
     "text": [
      "run_compile_all_cython: Found 10 Cython files in 4 folders...\r\n",
      "run_compile_all_cython: All files will be compiled using your current python environment: '/opt/conda/bin/python'\r\n",
      "Compiling [1/10]: MatrixFactorizationImpressions_Cython_Epoch.pyx... \r\n",
      "In file included from \u001b[01m\u001b[K/opt/conda/lib/python3.10/site-packages/numpy/core/include/numpy/ndarraytypes.h:1940\u001b[m\u001b[K,\r\n",
      "                 from \u001b[01m\u001b[K/opt/conda/lib/python3.10/site-packages/numpy/core/include/numpy/ndarrayobject.h:12\u001b[m\u001b[K,\r\n",
      "                 from \u001b[01m\u001b[K/opt/conda/lib/python3.10/site-packages/numpy/core/include/numpy/arrayobject.h:5\u001b[m\u001b[K,\r\n",
      "                 from \u001b[01m\u001b[KMatrixFactorizationImpressions_Cython_Epoch.c:1109\u001b[m\u001b[K:\r\n",
      "\u001b[01m\u001b[K/opt/conda/lib/python3.10/site-packages/numpy/core/include/numpy/npy_1_7_deprecated_api.h:17:2:\u001b[m\u001b[K \u001b[01;35m\u001b[Kwarning: \u001b[m\u001b[K#warning \"Using deprecated NumPy API, disable it with \" \"#define NPY_NO_DEPRECATED_API NPY_1_7_API_VERSION\" [\u001b[01;35m\u001b[K-Wcpp\u001b[m\u001b[K]\r\n",
      "   17 | #\u001b[01;35m\u001b[Kwarning\u001b[m\u001b[K \"Using deprecated NumPy API, disable it with \" \\\r\n",
      "      |  \u001b[01;35m\u001b[K^~~~~~~\u001b[m\u001b[K\r\n",
      "\u001b[01m\u001b[KMatrixFactorizationImpressions_Cython_Epoch.c:\u001b[m\u001b[K In function ‘\u001b[01m\u001b[K__pyx_f_43MatrixFactorizationImpressions_Cython_Epoch_32MatrixFactorization_Cython_Epoch_sampleBPR_Cython\u001b[m\u001b[K’:\r\n",
      "\u001b[01m\u001b[KMatrixFactorizationImpressions_Cython_Epoch.c:29664:17:\u001b[m\u001b[K \u001b[01;35m\u001b[Kwarning: \u001b[m\u001b[K‘\u001b[01m\u001b[K__pyx_v_start_pos_impression_items\u001b[m\u001b[K’ may be used uninitialized in this function [\u001b[01;35m\u001b[K-Wmaybe-uninitialized\u001b[m\u001b[K]\r\n",
      "29664 |       \u001b[01;35m\u001b[K__pyx_t_4 = (__pyx_v_start_pos_impression_items + __pyx_v_index)\u001b[m\u001b[K;\r\n",
      "      |       \u001b[01;35m\u001b[K~~~~~~~~~~^~~~~~~~~~~~~~~~~~~~~~~~~~~~~~~~~~~~~~~~~~~~~~~~~~~~~~\u001b[m\u001b[K\r\n",
      "\u001b[01m\u001b[KMatrixFactorizationImpressions_Cython_Epoch.c:\u001b[m\u001b[K In function ‘\u001b[01m\u001b[K__pyx_pf_43MatrixFactorizationImpressions_Cython_Epoch_32MatrixFactorization_Cython_Epoch_10epochIteration_Cython_ASY_SVD_SGD\u001b[m\u001b[K’:\r\n",
      "\u001b[01m\u001b[KMatrixFactorizationImpressions_Cython_Epoch.c:25474:7:\u001b[m\u001b[K \u001b[01;35m\u001b[Kwarning: \u001b[m\u001b[K‘\u001b[01m\u001b[K__pyx_v_end_pos_seen_items\u001b[m\u001b[K’ may be used uninitialized in this function [\u001b[01;35m\u001b[K-Wmaybe-uninitialized\u001b[m\u001b[K]\r\n",
      "25474 |       \u001b[01;35m\u001b[Kfor\u001b[m\u001b[K (__pyx_t_21 = __pyx_v_start_pos_seen_items; __pyx_t_21 < __pyx_t_20; __pyx_t_21+=1) {\r\n",
      "      |       \u001b[01;35m\u001b[K^~~\u001b[m\u001b[K\r\n",
      "\u001b[01m\u001b[KMatrixFactorizationImpressions_Cython_Epoch.c:25474:7:\u001b[m\u001b[K \u001b[01;35m\u001b[Kwarning: \u001b[m\u001b[K‘\u001b[01m\u001b[K__pyx_v_start_pos_seen_items\u001b[m\u001b[K’ may be used uninitialized in this function [\u001b[01;35m\u001b[K-Wmaybe-uninitialized\u001b[m\u001b[K]\r\n",
      "/opt/conda/lib/python3.10/site-packages/Cython/Compiler/Main.py:381: FutureWarning: Cython directive 'language_level' not set, using '3str' for now (Py3). This has changed from earlier releases! File: /kaggle/working/Recsys_Challenge_2023/Recommenders/MatrixFactorization/Cython/MatrixFactorizationImpressions_Cython_Epoch.pyx\r\n",
      "  tree = Parsing.p_module(s, pxd, full_module_name)\r\n",
      "Compiling [1/10]: MatrixFactorizationImpressions_Cython_Epoch.pyx... PASS\r\n",
      "\r\n",
      "Compiling [2/10]: MatrixFactorization_Cython_Epoch.pyx... \r\n",
      "In file included from \u001b[01m\u001b[K/opt/conda/lib/python3.10/site-packages/numpy/core/include/numpy/ndarraytypes.h:1940\u001b[m\u001b[K,\r\n",
      "                 from \u001b[01m\u001b[K/opt/conda/lib/python3.10/site-packages/numpy/core/include/numpy/ndarrayobject.h:12\u001b[m\u001b[K,\r\n",
      "                 from \u001b[01m\u001b[K/opt/conda/lib/python3.10/site-packages/numpy/core/include/numpy/arrayobject.h:5\u001b[m\u001b[K,\r\n",
      "                 from \u001b[01m\u001b[KMatrixFactorization_Cython_Epoch.c:1109\u001b[m\u001b[K:\r\n",
      "\u001b[01m\u001b[K/opt/conda/lib/python3.10/site-packages/numpy/core/include/numpy/npy_1_7_deprecated_api.h:17:2:\u001b[m\u001b[K \u001b[01;35m\u001b[Kwarning: \u001b[m\u001b[K#warning \"Using deprecated NumPy API, disable it with \" \"#define NPY_NO_DEPRECATED_API NPY_1_7_API_VERSION\" [\u001b[01;35m\u001b[K-Wcpp\u001b[m\u001b[K]\r\n",
      "   17 | #\u001b[01;35m\u001b[Kwarning\u001b[m\u001b[K \"Using deprecated NumPy API, disable it with \" \\\r\n",
      "      |  \u001b[01;35m\u001b[K^~~~~~~\u001b[m\u001b[K\r\n",
      "\u001b[01m\u001b[KMatrixFactorization_Cython_Epoch.c:\u001b[m\u001b[K In function ‘\u001b[01m\u001b[K__pyx_pf_32MatrixFactorization_Cython_Epoch_32MatrixFactorization_Cython_Epoch_10epochIteration_Cython_ASY_SVD_SGD\u001b[m\u001b[K’:\r\n",
      "\u001b[01m\u001b[KMatrixFactorization_Cython_Epoch.c:25614:9:\u001b[m\u001b[K \u001b[01;35m\u001b[Kwarning: \u001b[m\u001b[K‘\u001b[01m\u001b[K__pyx_v_end_pos_seen_items\u001b[m\u001b[K’ may be used uninitialized in this function [\u001b[01;35m\u001b[K-Wmaybe-uninitialized\u001b[m\u001b[K]\r\n",
      "25614 |         \u001b[01;35m\u001b[Kfor\u001b[m\u001b[K (__pyx_t_21 = __pyx_v_start_pos_seen_items; __pyx_t_21 < __pyx_t_20; __pyx_t_21+=1) {\r\n",
      "      |         \u001b[01;35m\u001b[K^~~\u001b[m\u001b[K\r\n",
      "\u001b[01m\u001b[KMatrixFactorization_Cython_Epoch.c:25614:9:\u001b[m\u001b[K \u001b[01;35m\u001b[Kwarning: \u001b[m\u001b[K‘\u001b[01m\u001b[K__pyx_v_start_pos_seen_items\u001b[m\u001b[K’ may be used uninitialized in this function [\u001b[01;35m\u001b[K-Wmaybe-uninitialized\u001b[m\u001b[K]\r\n",
      "/opt/conda/lib/python3.10/site-packages/Cython/Compiler/Main.py:381: FutureWarning: Cython directive 'language_level' not set, using '3str' for now (Py3). This has changed from earlier releases! File: /kaggle/working/Recsys_Challenge_2023/Recommenders/MatrixFactorization/Cython/MatrixFactorization_Cython_Epoch.pyx\r\n",
      "  tree = Parsing.p_module(s, pxd, full_module_name)\r\n",
      "Compiling [2/10]: MatrixFactorization_Cython_Epoch.pyx... PASS\r\n",
      "\r\n",
      "Compiling [3/10]: Compute_Similarity_Cython.pyx... \r\n",
      "warning: Compute_Similarity_Cython.pyx:21:0: The 'IF' statement is deprecated and will be removed in a future Cython version. Consider using runtime conditions or C macros instead. See https://github.com/cython/cython/issues/4310\r\n",
      "warning: Compute_Similarity_Cython.pyx:22:4: The 'DEF' statement is deprecated and will be removed in a future Cython version. Consider using global variables, constants, and in-place literals instead. See https://github.com/cython/cython/issues/4310\r\n",
      "warning: Compute_Similarity_Cython.pyx:24:4: The 'DEF' statement is deprecated and will be removed in a future Cython version. Consider using global variables, constants, and in-place literals instead. See https://github.com/cython/cython/issues/4310\r\n",
      "warning: Compute_Similarity_Cython.pyx:26:4: The 'DEF' statement is deprecated and will be removed in a future Cython version. Consider using global variables, constants, and in-place literals instead. See https://github.com/cython/cython/issues/4310\r\n",
      "In file included from \u001b[01m\u001b[K/opt/conda/lib/python3.10/site-packages/numpy/core/include/numpy/ndarraytypes.h:1940\u001b[m\u001b[K,\r\n",
      "                 from \u001b[01m\u001b[K/opt/conda/lib/python3.10/site-packages/numpy/core/include/numpy/ndarrayobject.h:12\u001b[m\u001b[K,\r\n",
      "                 from \u001b[01m\u001b[K/opt/conda/lib/python3.10/site-packages/numpy/core/include/numpy/arrayobject.h:5\u001b[m\u001b[K,\r\n",
      "                 from \u001b[01m\u001b[KCompute_Similarity_Cython.c:1109\u001b[m\u001b[K:\r\n",
      "\u001b[01m\u001b[K/opt/conda/lib/python3.10/site-packages/numpy/core/include/numpy/npy_1_7_deprecated_api.h:17:2:\u001b[m\u001b[K \u001b[01;35m\u001b[Kwarning: \u001b[m\u001b[K#warning \"Using deprecated NumPy API, disable it with \" \"#define NPY_NO_DEPRECATED_API NPY_1_7_API_VERSION\" [\u001b[01;35m\u001b[K-Wcpp\u001b[m\u001b[K]\r\n",
      "   17 | #\u001b[01;35m\u001b[Kwarning\u001b[m\u001b[K \"Using deprecated NumPy API, disable it with \" \\\r\n",
      "      |  \u001b[01;35m\u001b[K^~~~~~~\u001b[m\u001b[K\r\n",
      "/opt/conda/lib/python3.10/site-packages/Cython/Compiler/Main.py:381: FutureWarning: Cython directive 'language_level' not set, using '3str' for now (Py3). This has changed from earlier releases! File: /kaggle/working/Recsys_Challenge_2023/Recommenders/Similarity/Cython/Compute_Similarity_Cython.pyx\r\n",
      "  tree = Parsing.p_module(s, pxd, full_module_name)\r\n",
      "warning: Compute_Similarity_Cython.pyx:21:0: The 'IF' statement is deprecated and will be removed in a future Cython version. Consider using runtime conditions or C macros instead. See https://github.com/cython/cython/issues/4310\r\n",
      "warning: Compute_Similarity_Cython.pyx:22:4: The 'DEF' statement is deprecated and will be removed in a future Cython version. Consider using global variables, constants, and in-place literals instead. See https://github.com/cython/cython/issues/4310\r\n",
      "warning: Compute_Similarity_Cython.pyx:24:4: The 'DEF' statement is deprecated and will be removed in a future Cython version. Consider using global variables, constants, and in-place literals instead. See https://github.com/cython/cython/issues/4310\r\n",
      "warning: Compute_Similarity_Cython.pyx:26:4: The 'DEF' statement is deprecated and will be removed in a future Cython version. Consider using global variables, constants, and in-place literals instead. See https://github.com/cython/cython/issues/4310\r\n",
      "Compiling [3/10]: Compute_Similarity_Cython.pyx... PASS\r\n",
      "\r\n",
      "Compiling [4/10]: Sparse_Matrix_Tree_CSR.pyx... \r\n",
      "warning: Sparse_Matrix_Tree_CSR.pyx:132:34: Non-trivial type declarators in shared declaration (e.g. mix of pointers and values). Each pointer declaration should be on its own line.\r\n",
      "warning: Sparse_Matrix_Tree_CSR.pyx:132:66: Non-trivial type declarators in shared declaration (e.g. mix of pointers and values). Each pointer declaration should be on its own line.\r\n",
      "warning: Sparse_Matrix_Tree_CSR.pyx:343:35: Non-trivial type declarators in shared declaration (e.g. mix of pointers and values). Each pointer declaration should be on its own line.\r\n",
      "warning: Sparse_Matrix_Tree_CSR.pyx:343:52: Non-trivial type declarators in shared declaration (e.g. mix of pointers and values). Each pointer declaration should be on its own line.\r\n",
      "warning: Sparse_Matrix_Tree_CSR.pyx:442:35: Non-trivial type declarators in shared declaration (e.g. mix of pointers and values). Each pointer declaration should be on its own line.\r\n",
      "warning: Sparse_Matrix_Tree_CSR.pyx:442:53: Non-trivial type declarators in shared declaration (e.g. mix of pointers and values). Each pointer declaration should be on its own line.\r\n",
      "warning: Sparse_Matrix_Tree_CSR.pyx:442:69: Non-trivial type declarators in shared declaration (e.g. mix of pointers and values). Each pointer declaration should be on its own line.\r\n",
      "warning: Sparse_Matrix_Tree_CSR.pyx:577:35: Non-trivial type declarators in shared declaration (e.g. mix of pointers and values). Each pointer declaration should be on its own line.\r\n",
      "warning: Sparse_Matrix_Tree_CSR.pyx:577:42: Non-trivial type declarators in shared declaration (e.g. mix of pointers and values). Each pointer declaration should be on its own line.\r\n",
      "warning: Sparse_Matrix_Tree_CSR.pyx:578:35: Non-trivial type declarators in shared declaration (e.g. mix of pointers and values). Each pointer declaration should be on its own line.\r\n",
      "warning: Sparse_Matrix_Tree_CSR.pyx:578:53: Non-trivial type declarators in shared declaration (e.g. mix of pointers and values). Each pointer declaration should be on its own line.\r\n",
      "\r\n",
      "Error compiling Cython file:\r\n",
      "------------------------------------------------------------\r\n",
      "...\r\n",
      "            vector_pointer_to_list_elements[index].head = current_element\r\n",
      "            current_element = current_element.higher\r\n",
      "\r\n",
      "\r\n",
      "        # Sort array elements on their data field\r\n",
      "        qsort(vector_pointer_to_list_elements, list_length, sizeof(head_pointer_tree_s), compare_struct_on_data)\r\n",
      "                                                                                         ^\r\n",
      "------------------------------------------------------------\r\n",
      "\r\n",
      "Sparse_Matrix_Tree_CSR.pyx:516:89: Cannot assign type 'int (const void *, const void *) except? -1' to 'int (*)(const_void *, const_void *) noexcept'\r\n",
      "\r\n",
      "Error compiling Cython file:\r\n",
      "------------------------------------------------------------\r\n",
      "...\r\n",
      "        # Sort array elements on their data field\r\n",
      "        qsort(vector_pointer_to_list_elements, list_length, sizeof(head_pointer_tree_s), compare_struct_on_data)\r\n",
      "\r\n",
      "        # Sort only the TopK according to their column field\r\n",
      "        # Sort is from lower to higher, therefore the elements to be considered are from len-topK to len\r\n",
      "        qsort(&vector_pointer_to_list_elements[list_length-TopK], TopK, sizeof(head_pointer_tree_s), compare_struct_on_column)\r\n",
      "                                                                                                     ^\r\n",
      "------------------------------------------------------------\r\n",
      "\r\n",
      "Sparse_Matrix_Tree_CSR.pyx:520:101: Cannot assign type 'int (const void *, const void *) except? -1' to 'int (*)(const_void *, const_void *) noexcept'\r\n",
      "Traceback (most recent call last):\r\n",
      "  File \"/kaggle/working/Recsys_Challenge_2023/CythonCompiler/compile_script.py\", line 48, in <module>\r\n",
      "    setup(\r\n",
      "  File \"/opt/conda/lib/python3.10/site-packages/setuptools/__init__.py\", line 107, in setup\r\n",
      "    return distutils.core.setup(**attrs)\r\n",
      "  File \"/opt/conda/lib/python3.10/site-packages/setuptools/_distutils/core.py\", line 185, in setup\r\n",
      "    return run_commands(dist)\r\n",
      "  File \"/opt/conda/lib/python3.10/site-packages/setuptools/_distutils/core.py\", line 201, in run_commands\r\n",
      "    dist.run_commands()\r\n",
      "  File \"/opt/conda/lib/python3.10/site-packages/setuptools/_distutils/dist.py\", line 969, in run_commands\r\n",
      "    self.run_command(cmd)\r\n",
      "  File \"/opt/conda/lib/python3.10/site-packages/setuptools/dist.py\", line 1233, in run_command\r\n",
      "    super().run_command(command)\r\n",
      "  File \"/opt/conda/lib/python3.10/site-packages/setuptools/_distutils/dist.py\", line 988, in run_command\r\n",
      "    cmd_obj.run()\r\n",
      "  File \"/opt/conda/lib/python3.10/site-packages/setuptools/_distutils/command/build_ext.py\", line 345, in run\r\n",
      "    self.build_extensions()\r\n",
      "  File \"/opt/conda/lib/python3.10/site-packages/setuptools/_distutils/command/build_ext.py\", line 467, in build_extensions\r\n",
      "    self._build_extensions_serial()\r\n",
      "  File \"/opt/conda/lib/python3.10/site-packages/setuptools/_distutils/command/build_ext.py\", line 493, in _build_extensions_serial\r\n",
      "    self.build_extension(ext)\r\n",
      "  File \"/opt/conda/lib/python3.10/site-packages/Cython/Distutils/build_ext.py\", line 122, in build_extension\r\n",
      "    new_ext = cythonize(\r\n",
      "  File \"/opt/conda/lib/python3.10/site-packages/Cython/Build/Dependencies.py\", line 1134, in cythonize\r\n",
      "    cythonize_one(*args)\r\n",
      "  File \"/opt/conda/lib/python3.10/site-packages/Cython/Build/Dependencies.py\", line 1301, in cythonize_one\r\n",
      "    raise CompileError(None, pyx_file)\r\n",
      "Cython.Compiler.Errors.CompileError: Sparse_Matrix_Tree_CSR.pyx\r\n",
      "Traceback (most recent call last):\r\n",
      "  File \"/kaggle/working/Recsys_Challenge_2023/run_compile_all_cython.py\", line 59, in <module>\r\n",
      "    run_compile_subprocess(file_path, [file_name])\r\n",
      "  File \"/kaggle/working/Recsys_Challenge_2023/CythonCompiler/run_compile_subprocess.py\", line 51, in run_compile_subprocess\r\n",
      "    raise exc\r\n",
      "  File \"/kaggle/working/Recsys_Challenge_2023/CythonCompiler/run_compile_subprocess.py\", line 32, in run_compile_subprocess\r\n",
      "    output = subprocess.check_output(' '.join(command),\r\n",
      "  File \"/opt/conda/lib/python3.10/subprocess.py\", line 421, in check_output\r\n",
      "    return run(*popenargs, stdout=PIPE, timeout=timeout, check=True,\r\n",
      "  File \"/opt/conda/lib/python3.10/subprocess.py\", line 526, in run\r\n",
      "    raise CalledProcessError(retcode, process.args,\r\n",
      "subprocess.CalledProcessError: Command '/opt/conda/bin/python /kaggle/working/Recsys_Challenge_2023/CythonCompiler/compile_script.py Sparse_Matrix_Tree_CSR.pyx build_ext --inplace' returned non-zero exit status 1.\r\n",
      "Compiling [4/10]: Sparse_Matrix_Tree_CSR.pyx... FAIL: Command '/opt/conda/bin/python /kaggle/working/Recsys_Challenge_2023/CythonCompiler/compile_script.py Sparse_Matrix_Tree_CSR.pyx build_ext --inplace' returned non-zero exit status 1.\r\n",
      "\r\n",
      "Compiling [5/10]: SLIM_BPR_Cython_Epoch.pyx... \r\n",
      "warning: SLIM_BPR_Cython_Epoch.pyx:24:0: The 'IF' statement is deprecated and will be removed in a future Cython version. Consider using runtime conditions or C macros instead. See https://github.com/cython/cython/issues/4310\r\n",
      "warning: SLIM_BPR_Cython_Epoch.pyx:25:4: The 'DEF' statement is deprecated and will be removed in a future Cython version. Consider using global variables, constants, and in-place literals instead. See https://github.com/cython/cython/issues/4310\r\n",
      "warning: SLIM_BPR_Cython_Epoch.pyx:27:4: The 'DEF' statement is deprecated and will be removed in a future Cython version. Consider using global variables, constants, and in-place literals instead. See https://github.com/cython/cython/issues/4310\r\n",
      "warning: SLIM_BPR_Cython_Epoch.pyx:29:4: The 'DEF' statement is deprecated and will be removed in a future Cython version. Consider using global variables, constants, and in-place literals instead. See https://github.com/cython/cython/issues/4310\r\n",
      "warning: SLIM_BPR_Cython_Epoch.pyx:632:34: Non-trivial type declarators in shared declaration (e.g. mix of pointers and values). Each pointer declaration should be on its own line.\r\n",
      "warning: SLIM_BPR_Cython_Epoch.pyx:632:66: Non-trivial type declarators in shared declaration (e.g. mix of pointers and values). Each pointer declaration should be on its own line.\r\n",
      "warning: SLIM_BPR_Cython_Epoch.pyx:817:35: Non-trivial type declarators in shared declaration (e.g. mix of pointers and values). Each pointer declaration should be on its own line.\r\n",
      "warning: SLIM_BPR_Cython_Epoch.pyx:817:52: Non-trivial type declarators in shared declaration (e.g. mix of pointers and values). Each pointer declaration should be on its own line.\r\n",
      "warning: SLIM_BPR_Cython_Epoch.pyx:916:35: Non-trivial type declarators in shared declaration (e.g. mix of pointers and values). Each pointer declaration should be on its own line.\r\n",
      "warning: SLIM_BPR_Cython_Epoch.pyx:916:53: Non-trivial type declarators in shared declaration (e.g. mix of pointers and values). Each pointer declaration should be on its own line.\r\n",
      "warning: SLIM_BPR_Cython_Epoch.pyx:916:69: Non-trivial type declarators in shared declaration (e.g. mix of pointers and values). Each pointer declaration should be on its own line.\r\n",
      "warning: SLIM_BPR_Cython_Epoch.pyx:1051:35: Non-trivial type declarators in shared declaration (e.g. mix of pointers and values). Each pointer declaration should be on its own line.\r\n",
      "warning: SLIM_BPR_Cython_Epoch.pyx:1051:42: Non-trivial type declarators in shared declaration (e.g. mix of pointers and values). Each pointer declaration should be on its own line.\r\n",
      "warning: SLIM_BPR_Cython_Epoch.pyx:1052:35: Non-trivial type declarators in shared declaration (e.g. mix of pointers and values). Each pointer declaration should be on its own line.\r\n",
      "warning: SLIM_BPR_Cython_Epoch.pyx:1052:53: Non-trivial type declarators in shared declaration (e.g. mix of pointers and values). Each pointer declaration should be on its own line.\r\n",
      "\r\n",
      "Error compiling Cython file:\r\n",
      "------------------------------------------------------------\r\n",
      "...\r\n",
      "            vector_pointer_to_list_elements[index].head = current_element\r\n",
      "            current_element = current_element.higher\r\n",
      "\r\n",
      "\r\n",
      "        # Sort array elements on their data field\r\n",
      "        qsort(vector_pointer_to_list_elements, list_length, sizeof(head_pointer_tree_s), compare_struct_on_data)\r\n",
      "                                                                                         ^\r\n",
      "------------------------------------------------------------\r\n",
      "\r\n",
      "SLIM_BPR_Cython_Epoch.pyx:990:89: Cannot assign type 'int (const void *, const void *) except? -1' to 'int (*)(const_void *, const_void *) noexcept'\r\n",
      "\r\n",
      "Error compiling Cython file:\r\n",
      "------------------------------------------------------------\r\n",
      "...\r\n",
      "        # Sort array elements on their data field\r\n",
      "        qsort(vector_pointer_to_list_elements, list_length, sizeof(head_pointer_tree_s), compare_struct_on_data)\r\n",
      "\r\n",
      "        # Sort only the TopK according to their column field\r\n",
      "        # Sort is from lower to higher, therefore the elements to be considered are from len-topK to len\r\n",
      "        qsort(&vector_pointer_to_list_elements[list_length-TopK], TopK, sizeof(head_pointer_tree_s), compare_struct_on_column)\r\n",
      "                                                                                                     ^\r\n",
      "------------------------------------------------------------\r\n",
      "\r\n",
      "SLIM_BPR_Cython_Epoch.pyx:994:101: Cannot assign type 'int (const void *, const void *) except? -1' to 'int (*)(const_void *, const_void *) noexcept'\r\n",
      "Traceback (most recent call last):\r\n",
      "  File \"/kaggle/working/Recsys_Challenge_2023/CythonCompiler/compile_script.py\", line 48, in <module>\r\n",
      "    setup(\r\n",
      "  File \"/opt/conda/lib/python3.10/site-packages/setuptools/__init__.py\", line 107, in setup\r\n",
      "    return distutils.core.setup(**attrs)\r\n",
      "  File \"/opt/conda/lib/python3.10/site-packages/setuptools/_distutils/core.py\", line 185, in setup\r\n",
      "    return run_commands(dist)\r\n",
      "  File \"/opt/conda/lib/python3.10/site-packages/setuptools/_distutils/core.py\", line 201, in run_commands\r\n",
      "    dist.run_commands()\r\n",
      "  File \"/opt/conda/lib/python3.10/site-packages/setuptools/_distutils/dist.py\", line 969, in run_commands\r\n",
      "    self.run_command(cmd)\r\n",
      "  File \"/opt/conda/lib/python3.10/site-packages/setuptools/dist.py\", line 1233, in run_command\r\n",
      "    super().run_command(command)\r\n",
      "  File \"/opt/conda/lib/python3.10/site-packages/setuptools/_distutils/dist.py\", line 988, in run_command\r\n",
      "    cmd_obj.run()\r\n",
      "  File \"/opt/conda/lib/python3.10/site-packages/setuptools/_distutils/command/build_ext.py\", line 345, in run\r\n",
      "    self.build_extensions()\r\n",
      "  File \"/opt/conda/lib/python3.10/site-packages/setuptools/_distutils/command/build_ext.py\", line 467, in build_extensions\r\n",
      "    self._build_extensions_serial()\r\n",
      "  File \"/opt/conda/lib/python3.10/site-packages/setuptools/_distutils/command/build_ext.py\", line 493, in _build_extensions_serial\r\n",
      "    self.build_extension(ext)\r\n",
      "  File \"/opt/conda/lib/python3.10/site-packages/Cython/Distutils/build_ext.py\", line 122, in build_extension\r\n",
      "    new_ext = cythonize(\r\n",
      "  File \"/opt/conda/lib/python3.10/site-packages/Cython/Build/Dependencies.py\", line 1134, in cythonize\r\n",
      "    cythonize_one(*args)\r\n",
      "  File \"/opt/conda/lib/python3.10/site-packages/Cython/Build/Dependencies.py\", line 1301, in cythonize_one\r\n",
      "    raise CompileError(None, pyx_file)\r\n",
      "Cython.Compiler.Errors.CompileError: SLIM_BPR_Cython_Epoch.pyx\r\n",
      "Traceback (most recent call last):\r\n",
      "  File \"/kaggle/working/Recsys_Challenge_2023/run_compile_all_cython.py\", line 59, in <module>\r\n",
      "    run_compile_subprocess(file_path, [file_name])\r\n",
      "  File \"/kaggle/working/Recsys_Challenge_2023/CythonCompiler/run_compile_subprocess.py\", line 51, in run_compile_subprocess\r\n",
      "    raise exc\r\n",
      "  File \"/kaggle/working/Recsys_Challenge_2023/CythonCompiler/run_compile_subprocess.py\", line 32, in run_compile_subprocess\r\n",
      "    output = subprocess.check_output(' '.join(command),\r\n",
      "  File \"/opt/conda/lib/python3.10/subprocess.py\", line 421, in check_output\r\n",
      "    return run(*popenargs, stdout=PIPE, timeout=timeout, check=True,\r\n",
      "  File \"/opt/conda/lib/python3.10/subprocess.py\", line 526, in run\r\n",
      "    raise CalledProcessError(retcode, process.args,\r\n",
      "subprocess.CalledProcessError: Command '/opt/conda/bin/python /kaggle/working/Recsys_Challenge_2023/CythonCompiler/compile_script.py SLIM_BPR_Cython_Epoch.pyx build_ext --inplace' returned non-zero exit status 1.\r\n",
      "Compiling [5/10]: SLIM_BPR_Cython_Epoch.pyx... FAIL: Command '/opt/conda/bin/python /kaggle/working/Recsys_Challenge_2023/CythonCompiler/compile_script.py SLIM_BPR_Cython_Epoch.pyx build_ext --inplace' returned non-zero exit status 1.\r\n",
      "\r\n",
      "Compiling [6/10]: Triangular_Matrix.pyx... \r\n",
      "warning: Triangular_Matrix.pyx:22:0: The 'IF' statement is deprecated and will be removed in a future Cython version. Consider using runtime conditions or C macros instead. See https://github.com/cython/cython/issues/4310\r\n",
      "warning: Triangular_Matrix.pyx:23:4: The 'DEF' statement is deprecated and will be removed in a future Cython version. Consider using global variables, constants, and in-place literals instead. See https://github.com/cython/cython/issues/4310\r\n",
      "warning: Triangular_Matrix.pyx:25:4: The 'DEF' statement is deprecated and will be removed in a future Cython version. Consider using global variables, constants, and in-place literals instead. See https://github.com/cython/cython/issues/4310\r\n",
      "warning: Triangular_Matrix.pyx:27:4: The 'DEF' statement is deprecated and will be removed in a future Cython version. Consider using global variables, constants, and in-place literals instead. See https://github.com/cython/cython/issues/4310\r\n",
      "In file included from \u001b[01m\u001b[K/opt/conda/lib/python3.10/site-packages/numpy/core/include/numpy/ndarraytypes.h:1940\u001b[m\u001b[K,\r\n",
      "                 from \u001b[01m\u001b[K/opt/conda/lib/python3.10/site-packages/numpy/core/include/numpy/ndarrayobject.h:12\u001b[m\u001b[K,\r\n",
      "                 from \u001b[01m\u001b[K/opt/conda/lib/python3.10/site-packages/numpy/core/include/numpy/arrayobject.h:5\u001b[m\u001b[K,\r\n",
      "                 from \u001b[01m\u001b[KTriangular_Matrix.c:1109\u001b[m\u001b[K:\r\n",
      "\u001b[01m\u001b[K/opt/conda/lib/python3.10/site-packages/numpy/core/include/numpy/npy_1_7_deprecated_api.h:17:2:\u001b[m\u001b[K \u001b[01;35m\u001b[Kwarning: \u001b[m\u001b[K#warning \"Using deprecated NumPy API, disable it with \" \"#define NPY_NO_DEPRECATED_API NPY_1_7_API_VERSION\" [\u001b[01;35m\u001b[K-Wcpp\u001b[m\u001b[K]\r\n",
      "   17 | #\u001b[01;35m\u001b[Kwarning\u001b[m\u001b[K \"Using deprecated NumPy API, disable it with \" \\\r\n",
      "      |  \u001b[01;35m\u001b[K^~~~~~~\u001b[m\u001b[K\r\n",
      "/opt/conda/lib/python3.10/site-packages/Cython/Compiler/Main.py:381: FutureWarning: Cython directive 'language_level' not set, using '3str' for now (Py3). This has changed from earlier releases! File: /kaggle/working/Recsys_Challenge_2023/Recommenders/SLIM/Cython/Triangular_Matrix.pyx\r\n",
      "  tree = Parsing.p_module(s, pxd, full_module_name)\r\n",
      "warning: Triangular_Matrix.pyx:22:0: The 'IF' statement is deprecated and will be removed in a future Cython version. Consider using runtime conditions or C macros instead. See https://github.com/cython/cython/issues/4310\r\n",
      "warning: Triangular_Matrix.pyx:23:4: The 'DEF' statement is deprecated and will be removed in a future Cython version. Consider using global variables, constants, and in-place literals instead. See https://github.com/cython/cython/issues/4310\r\n",
      "warning: Triangular_Matrix.pyx:25:4: The 'DEF' statement is deprecated and will be removed in a future Cython version. Consider using global variables, constants, and in-place literals instead. See https://github.com/cython/cython/issues/4310\r\n",
      "warning: Triangular_Matrix.pyx:27:4: The 'DEF' statement is deprecated and will be removed in a future Cython version. Consider using global variables, constants, and in-place literals instead. See https://github.com/cython/cython/issues/4310\r\n",
      "Compiling [6/10]: Triangular_Matrix.pyx... PASS\r\n",
      "\r\n",
      "Compiling [7/10]: CFW_D_Similarity_Cython_SGD.pyx... \r\n",
      "In file included from \u001b[01m\u001b[K/opt/conda/lib/python3.10/site-packages/numpy/core/include/numpy/ndarraytypes.h:1940\u001b[m\u001b[K,\r\n",
      "                 from \u001b[01m\u001b[K/opt/conda/lib/python3.10/site-packages/numpy/core/include/numpy/ndarrayobject.h:12\u001b[m\u001b[K,\r\n",
      "                 from \u001b[01m\u001b[K/opt/conda/lib/python3.10/site-packages/numpy/core/include/numpy/arrayobject.h:5\u001b[m\u001b[K,\r\n",
      "                 from \u001b[01m\u001b[KCFW_D_Similarity_Cython_SGD.c:1109\u001b[m\u001b[K:\r\n",
      "\u001b[01m\u001b[K/opt/conda/lib/python3.10/site-packages/numpy/core/include/numpy/npy_1_7_deprecated_api.h:17:2:\u001b[m\u001b[K \u001b[01;35m\u001b[Kwarning: \u001b[m\u001b[K#warning \"Using deprecated NumPy API, disable it with \" \"#define NPY_NO_DEPRECATED_API NPY_1_7_API_VERSION\" [\u001b[01;35m\u001b[K-Wcpp\u001b[m\u001b[K]\r\n",
      "   17 | #\u001b[01;35m\u001b[Kwarning\u001b[m\u001b[K \"Using deprecated NumPy API, disable it with \" \\\r\n",
      "      |  \u001b[01;35m\u001b[K^~~~~~~\u001b[m\u001b[K\r\n",
      "\u001b[01m\u001b[KCFW_D_Similarity_Cython_SGD.c:\u001b[m\u001b[K In function ‘\u001b[01m\u001b[K__pyx_pf_27CFW_D_Similarity_Cython_SGD_27CFW_D_Similarity_Cython_SGD_6fit\u001b[m\u001b[K’:\r\n",
      "\u001b[01m\u001b[KCFW_D_Similarity_Cython_SGD.c:22766:55:\u001b[m\u001b[K \u001b[01;35m\u001b[Kwarning: \u001b[m\u001b[K‘\u001b[01m\u001b[K__pyx_v_sample_num\u001b[m\u001b[K’ may be used uninitialized in this function [\u001b[01;35m\u001b[K-Wmaybe-uninitialized\u001b[m\u001b[K]\r\n",
      "22766 |   __pyx_t_3 = PyFloat_FromDouble((__pyx_v_cum_loss / \u001b[01;35m\u001b[K((double)__pyx_v_sample_num)\u001b[m\u001b[K)); if (unlikely(!__pyx_t_3)) __PYX_ERR(0, 290, __pyx_L1_error)\r\n",
      "      |                                                      \u001b[01;35m\u001b[K~^~~~~~~~~~~~~~~~~~~~~~~~~~~\u001b[m\u001b[K\r\n",
      "/opt/conda/lib/python3.10/site-packages/Cython/Compiler/Main.py:381: FutureWarning: Cython directive 'language_level' not set, using '3str' for now (Py3). This has changed from earlier releases! File: /kaggle/working/Recsys_Challenge_2023/Recommenders/FeatureWeighting/Cython/CFW_D_Similarity_Cython_SGD.pyx\r\n",
      "  tree = Parsing.p_module(s, pxd, full_module_name)\r\n",
      "Compiling [7/10]: CFW_D_Similarity_Cython_SGD.pyx... PASS\r\n",
      "\r\n",
      "Compiling [8/10]: CFW_DVV_Similarity_Cython_SGD.pyx... \r\n",
      "In file included from \u001b[01m\u001b[K/opt/conda/lib/python3.10/site-packages/numpy/core/include/numpy/ndarraytypes.h:1940\u001b[m\u001b[K,\r\n",
      "                 from \u001b[01m\u001b[K/opt/conda/lib/python3.10/site-packages/numpy/core/include/numpy/ndarrayobject.h:12\u001b[m\u001b[K,\r\n",
      "                 from \u001b[01m\u001b[K/opt/conda/lib/python3.10/site-packages/numpy/core/include/numpy/arrayobject.h:5\u001b[m\u001b[K,\r\n",
      "                 from \u001b[01m\u001b[KCFW_DVV_Similarity_Cython_SGD.c:1109\u001b[m\u001b[K:\r\n",
      "\u001b[01m\u001b[K/opt/conda/lib/python3.10/site-packages/numpy/core/include/numpy/npy_1_7_deprecated_api.h:17:2:\u001b[m\u001b[K \u001b[01;35m\u001b[Kwarning: \u001b[m\u001b[K#warning \"Using deprecated NumPy API, disable it with \" \"#define NPY_NO_DEPRECATED_API NPY_1_7_API_VERSION\" [\u001b[01;35m\u001b[K-Wcpp\u001b[m\u001b[K]\r\n",
      "   17 | #\u001b[01;35m\u001b[Kwarning\u001b[m\u001b[K \"Using deprecated NumPy API, disable it with \" \\\r\n",
      "      |  \u001b[01;35m\u001b[K^~~~~~~\u001b[m\u001b[K\r\n",
      "/opt/conda/lib/python3.10/site-packages/Cython/Compiler/Main.py:381: FutureWarning: Cython directive 'language_level' not set, using '3str' for now (Py3). This has changed from earlier releases! File: /kaggle/working/Recsys_Challenge_2023/Recommenders/FeatureWeighting/Cython/CFW_DVV_Similarity_Cython_SGD.pyx\r\n",
      "  tree = Parsing.p_module(s, pxd, full_module_name)\r\n",
      "Compiling [8/10]: CFW_DVV_Similarity_Cython_SGD.pyx... PASS\r\n",
      "\r\n",
      "Compiling [9/10]: HP3_Similarity_Cython_SGD.pyx... \r\n",
      "warning: HP3_Similarity_Cython_SGD.pyx:113:40: Index should be typed for more efficient access\r\n",
      "In file included from \u001b[01m\u001b[K/opt/conda/lib/python3.10/site-packages/numpy/core/include/numpy/ndarraytypes.h:1940\u001b[m\u001b[K,\r\n",
      "                 from \u001b[01m\u001b[K/opt/conda/lib/python3.10/site-packages/numpy/core/include/numpy/ndarrayobject.h:12\u001b[m\u001b[K,\r\n",
      "                 from \u001b[01m\u001b[K/opt/conda/lib/python3.10/site-packages/numpy/core/include/numpy/arrayobject.h:5\u001b[m\u001b[K,\r\n",
      "                 from \u001b[01m\u001b[KHP3_Similarity_Cython_SGD.c:1109\u001b[m\u001b[K:\r\n",
      "\u001b[01m\u001b[K/opt/conda/lib/python3.10/site-packages/numpy/core/include/numpy/npy_1_7_deprecated_api.h:17:2:\u001b[m\u001b[K \u001b[01;35m\u001b[Kwarning: \u001b[m\u001b[K#warning \"Using deprecated NumPy API, disable it with \" \"#define NPY_NO_DEPRECATED_API NPY_1_7_API_VERSION\" [\u001b[01;35m\u001b[K-Wcpp\u001b[m\u001b[K]\r\n",
      "   17 | #\u001b[01;35m\u001b[Kwarning\u001b[m\u001b[K \"Using deprecated NumPy API, disable it with \" \\\r\n",
      "      |  \u001b[01;35m\u001b[K^~~~~~~\u001b[m\u001b[K\r\n",
      "\u001b[01m\u001b[KHP3_Similarity_Cython_SGD.c:\u001b[m\u001b[K In function ‘\u001b[01m\u001b[K__pyx_pf_25HP3_Similarity_Cython_SGD_25HP3_Similarity_Cython_SGD_4fit\u001b[m\u001b[K’:\r\n",
      "\u001b[01m\u001b[KHP3_Similarity_Cython_SGD.c:23035:55:\u001b[m\u001b[K \u001b[01;35m\u001b[Kwarning: \u001b[m\u001b[K‘\u001b[01m\u001b[K__pyx_v_sample_num\u001b[m\u001b[K’ may be used uninitialized in this function [\u001b[01;35m\u001b[K-Wmaybe-uninitialized\u001b[m\u001b[K]\r\n",
      "23035 |   __pyx_t_1 = PyFloat_FromDouble((__pyx_v_cum_loss / \u001b[01;35m\u001b[K((double)__pyx_v_sample_num)\u001b[m\u001b[K)); if (unlikely(!__pyx_t_1)) __PYX_ERR(0, 291, __pyx_L1_error)\r\n",
      "      |                                                      \u001b[01;35m\u001b[K~^~~~~~~~~~~~~~~~~~~~~~~~~~~\u001b[m\u001b[K\r\n",
      "/opt/conda/lib/python3.10/site-packages/Cython/Compiler/Main.py:381: FutureWarning: Cython directive 'language_level' not set, using '3str' for now (Py3). This has changed from earlier releases! File: /kaggle/working/Recsys_Challenge_2023/Recommenders/FeatureWeighting/Cython/HP3_Similarity_Cython_SGD.pyx\r\n",
      "  tree = Parsing.p_module(s, pxd, full_module_name)\r\n",
      "warning: HP3_Similarity_Cython_SGD.pyx:113:40: Index should be typed for more efficient access\r\n",
      "Compiling [9/10]: HP3_Similarity_Cython_SGD.pyx... PASS\r\n",
      "\r\n",
      "Compiling [10/10]: FBSM_Rating_Cython_SGD.pyx... \r\n",
      "In file included from \u001b[01m\u001b[K/opt/conda/lib/python3.10/site-packages/numpy/core/include/numpy/ndarraytypes.h:1940\u001b[m\u001b[K,\r\n",
      "                 from \u001b[01m\u001b[K/opt/conda/lib/python3.10/site-packages/numpy/core/include/numpy/ndarrayobject.h:12\u001b[m\u001b[K,\r\n",
      "                 from \u001b[01m\u001b[K/opt/conda/lib/python3.10/site-packages/numpy/core/include/numpy/arrayobject.h:5\u001b[m\u001b[K,\r\n",
      "                 from \u001b[01m\u001b[KFBSM_Rating_Cython_SGD.c:1109\u001b[m\u001b[K:\r\n",
      "\u001b[01m\u001b[K/opt/conda/lib/python3.10/site-packages/numpy/core/include/numpy/npy_1_7_deprecated_api.h:17:2:\u001b[m\u001b[K \u001b[01;35m\u001b[Kwarning: \u001b[m\u001b[K#warning \"Using deprecated NumPy API, disable it with \" \"#define NPY_NO_DEPRECATED_API NPY_1_7_API_VERSION\" [\u001b[01;35m\u001b[K-Wcpp\u001b[m\u001b[K]\r\n",
      "   17 | #\u001b[01;35m\u001b[Kwarning\u001b[m\u001b[K \"Using deprecated NumPy API, disable it with \" \\\r\n",
      "      |  \u001b[01;35m\u001b[K^~~~~~~\u001b[m\u001b[K\r\n",
      "\u001b[01m\u001b[KFBSM_Rating_Cython_SGD.c:\u001b[m\u001b[K In function ‘\u001b[01m\u001b[K__pyx_pf_22FBSM_Rating_Cython_SGD_22FBSM_Rating_Cython_SGD_2fit\u001b[m\u001b[K’:\r\n",
      "\u001b[01m\u001b[KFBSM_Rating_Cython_SGD.c:26038:55:\u001b[m\u001b[K \u001b[01;35m\u001b[Kwarning: \u001b[m\u001b[K‘\u001b[01m\u001b[K__pyx_v_num_sample\u001b[m\u001b[K’ may be used uninitialized in this function [\u001b[01;35m\u001b[K-Wmaybe-uninitialized\u001b[m\u001b[K]\r\n",
      "26038 |   __pyx_t_5 = PyFloat_FromDouble((__pyx_v_cum_loss / \u001b[01;35m\u001b[K((double)__pyx_v_num_sample)\u001b[m\u001b[K)); if (unlikely(!__pyx_t_5)) __PYX_ERR(0, 551, __pyx_L1_error)\r\n",
      "      |                                                      \u001b[01;35m\u001b[K~^~~~~~~~~~~~~~~~~~~~~~~~~~~\u001b[m\u001b[K\r\n",
      "/opt/conda/lib/python3.10/site-packages/Cython/Compiler/Main.py:381: FutureWarning: Cython directive 'language_level' not set, using '3str' for now (Py3). This has changed from earlier releases! File: /kaggle/working/Recsys_Challenge_2023/Recommenders/FeatureWeighting/Cython/FBSM_Rating_Cython_SGD.pyx\r\n",
      "  tree = Parsing.p_module(s, pxd, full_module_name)\r\n",
      "Compiling [10/10]: FBSM_Rating_Cython_SGD.pyx... PASS\r\n",
      "\r\n",
      "run_compile_all_cython: Compilation finished. FAILS 2/10.\r\n",
      "Compilation log can be found here: './result_experiments/run_compile_all_cython.txt'\r\n"
     ]
    }
   ],
   "source": [
    "! cd /kaggle/working/Recsys_Challenge_2023 && python run_compile_all_cython.py"
   ]
  },
  {
   "cell_type": "code",
   "execution_count": 4,
   "id": "73b2c7ae",
   "metadata": {
    "_kg_hide-output": true,
    "execution": {
     "iopub.execute_input": "2023-12-05T14:15:55.865088Z",
     "iopub.status.busy": "2023-12-05T14:15:55.864695Z",
     "iopub.status.idle": "2023-12-05T14:15:59.354630Z",
     "shell.execute_reply": "2023-12-05T14:15:59.353737Z"
    },
    "papermill": {
     "duration": 3.508931,
     "end_time": "2023-12-05T14:15:59.356526",
     "exception": false,
     "start_time": "2023-12-05T14:15:55.847595",
     "status": "completed"
    },
    "scrolled": true,
    "tags": []
   },
   "outputs": [
    {
     "name": "stdout",
     "output_type": "stream",
     "text": [
      "/kaggle/input/recommender-system-2023-challenge-polimi/data_train.csv\n",
      "/kaggle/input/recommender-system-2023-challenge-polimi/data_target_users_test.csv\n",
      "/kaggle/input/training-tuned-models/__results__.html\n",
      "/kaggle/input/training-tuned-models/ease_r_all.zip\n",
      "/kaggle/input/training-tuned-models/slim_elastic_train_validation.zip\n",
      "/kaggle/input/training-tuned-models/ease_r_train_validation.zip\n",
      "/kaggle/input/training-tuned-models/__notebook__.ipynb\n",
      "/kaggle/input/training-tuned-models/ials_xgboost_train_validation.zip\n",
      "/kaggle/input/training-tuned-models/ials_train_validation.zip\n",
      "/kaggle/input/training-tuned-models/slim_elastic_xgboost_train_validation.zip\n",
      "/kaggle/input/training-tuned-models/ease_r_xgboost_train_validation.zip\n",
      "/kaggle/input/training-tuned-models/__output__.json\n",
      "/kaggle/input/training-tuned-models/ials_all.zip\n",
      "/kaggle/input/training-tuned-models/slim_elastic_all.zip\n",
      "/kaggle/input/training-tuned-models/custom.css\n",
      "/kaggle/input/training-tuned-models/Recsys_Challenge_2023/run_all_algorithms.py\n",
      "/kaggle/input/training-tuned-models/Recsys_Challenge_2023/cython_example_FunkSVD.py\n",
      "/kaggle/input/training-tuned-models/Recsys_Challenge_2023/LICENSE\n",
      "/kaggle/input/training-tuned-models/Recsys_Challenge_2023/.gitignore\n",
      "/kaggle/input/training-tuned-models/Recsys_Challenge_2023/rp3-tuning.ipynb\n",
      "/kaggle/input/training-tuned-models/Recsys_Challenge_2023/README.md\n",
      "/kaggle/input/training-tuned-models/Recsys_Challenge_2023/run_hyperparameter_search.py\n",
      "/kaggle/input/training-tuned-models/Recsys_Challenge_2023/cython_example_SLIM_MSE.py\n",
      "/kaggle/input/training-tuned-models/Recsys_Challenge_2023/requirements.txt\n",
      "/kaggle/input/training-tuned-models/Recsys_Challenge_2023/run_test_recommenders.py\n",
      "/kaggle/input/training-tuned-models/Recsys_Challenge_2023/run_compile_all_cython.py\n",
      "/kaggle/input/training-tuned-models/Recsys_Challenge_2023/slim-tuning.ipynb\n",
      "/kaggle/input/training-tuned-models/Recsys_Challenge_2023/matrix-factorization.ipynb\n",
      "/kaggle/input/training-tuned-models/Recsys_Challenge_2023/hybrid.ipynb\n",
      "/kaggle/input/training-tuned-models/Recsys_Challenge_2023/Data_manager/DataSplitter_Holdout.py\n",
      "/kaggle/input/training-tuned-models/Recsys_Challenge_2023/Data_manager/DataSplitter.py\n",
      "/kaggle/input/training-tuned-models/Recsys_Challenge_2023/Data_manager/DatasetMapperManager.py\n",
      "/kaggle/input/training-tuned-models/Recsys_Challenge_2023/Data_manager/data_consistency_check.py\n",
      "/kaggle/input/training-tuned-models/Recsys_Challenge_2023/Data_manager/README.md\n",
      "/kaggle/input/training-tuned-models/Recsys_Challenge_2023/Data_manager/TagPreprocessing.py\n",
      "/kaggle/input/training-tuned-models/Recsys_Challenge_2023/Data_manager/DataReader.py\n",
      "/kaggle/input/training-tuned-models/Recsys_Challenge_2023/Data_manager/DataReader_utils.py\n",
      "/kaggle/input/training-tuned-models/Recsys_Challenge_2023/Data_manager/IncrementalSparseMatrix.py\n",
      "/kaggle/input/training-tuned-models/Recsys_Challenge_2023/Data_manager/run_clean_split_data_files.py\n",
      "/kaggle/input/training-tuned-models/Recsys_Challenge_2023/Data_manager/Dataset.py\n",
      "/kaggle/input/training-tuned-models/Recsys_Challenge_2023/Data_manager/DataSplitter_leave_k_out.py\n",
      "/kaggle/input/training-tuned-models/Recsys_Challenge_2023/Data_manager/CrossValidationSplitter.py\n",
      "/kaggle/input/training-tuned-models/Recsys_Challenge_2023/Data_manager/__init__.py\n",
      "/kaggle/input/training-tuned-models/Recsys_Challenge_2023/Data_manager/__pycache__/data_consistency_check.cpython-310.pyc\n",
      "/kaggle/input/training-tuned-models/Recsys_Challenge_2023/Data_manager/__pycache__/DatasetMapperManager.cpython-310.pyc\n",
      "/kaggle/input/training-tuned-models/Recsys_Challenge_2023/Data_manager/__pycache__/IncrementalSparseMatrix.cpython-310.pyc\n",
      "/kaggle/input/training-tuned-models/Recsys_Challenge_2023/Data_manager/__pycache__/DataReader.cpython-310.pyc\n",
      "/kaggle/input/training-tuned-models/Recsys_Challenge_2023/Data_manager/__pycache__/DataReader_utils.cpython-310.pyc\n",
      "/kaggle/input/training-tuned-models/Recsys_Challenge_2023/Data_manager/__pycache__/__init__.cpython-310.pyc\n",
      "/kaggle/input/training-tuned-models/Recsys_Challenge_2023/Data_manager/__pycache__/Dataset.cpython-310.pyc\n",
      "/kaggle/input/training-tuned-models/Recsys_Challenge_2023/Data_manager/split_functions/split_train_validation_leave_k_out.py\n",
      "/kaggle/input/training-tuned-models/Recsys_Challenge_2023/Data_manager/split_functions/split_train_validation_cold_items.py\n",
      "/kaggle/input/training-tuned-models/Recsys_Challenge_2023/Data_manager/split_functions/split_train_validation_random_holdout.py\n",
      "/kaggle/input/training-tuned-models/Recsys_Challenge_2023/Data_manager/split_functions/__pycache__/split_train_validation_random_holdout.cpython-310.pyc\n",
      "/kaggle/input/training-tuned-models/Recsys_Challenge_2023/Data_manager/Movielens/Movielens10MReader.py\n",
      "/kaggle/input/training-tuned-models/Recsys_Challenge_2023/Data_manager/Movielens/Movielens1MReader.py\n",
      "/kaggle/input/training-tuned-models/Recsys_Challenge_2023/Data_manager/Movielens/Movielens100KReader.py\n",
      "/kaggle/input/training-tuned-models/Recsys_Challenge_2023/Data_manager/Movielens/MovielensHetrec2011Reader.py\n",
      "/kaggle/input/training-tuned-models/Recsys_Challenge_2023/Data_manager/Movielens/_utils_movielens_parser.py\n",
      "/kaggle/input/training-tuned-models/Recsys_Challenge_2023/Data_manager/Movielens/Movielens20MReader.py\n",
      "/kaggle/input/training-tuned-models/Recsys_Challenge_2023/Data_manager/Movielens/__pycache__/Movielens10MReader.cpython-310.pyc\n",
      "/kaggle/input/training-tuned-models/Recsys_Challenge_2023/Data_manager/Movielens/__pycache__/Movielens1MReader.cpython-310.pyc\n",
      "/kaggle/input/training-tuned-models/Recsys_Challenge_2023/Data_manager/Movielens/__pycache__/_utils_movielens_parser.cpython-310.pyc\n",
      "/kaggle/input/training-tuned-models/Recsys_Challenge_2023/Data_manager/Movielens/__pycache__/Movielens20MReader.cpython-310.pyc\n",
      "/kaggle/input/training-tuned-models/Recsys_Challenge_2023/Data_manager/Movielens/__pycache__/Movielens100KReader.cpython-310.pyc\n",
      "/kaggle/input/training-tuned-models/Recsys_Challenge_2023/Data_manager/Movielens/__pycache__/MovielensHetrec2011Reader.cpython-310.pyc\n",
      "/kaggle/input/training-tuned-models/Recsys_Challenge_2023/Utils/seconds_to_biggest_unit.py\n",
      "/kaggle/input/training-tuned-models/Recsys_Challenge_2023/Utils/PyTorch/utils.py\n",
      "/kaggle/input/training-tuned-models/Recsys_Challenge_2023/Utils/PyTorch/DataSampler.py\n",
      "/kaggle/input/training-tuned-models/Recsys_Challenge_2023/Utils/PyTorch/DataIterator.py\n",
      "/kaggle/input/training-tuned-models/Recsys_Challenge_2023/Utils/PyTorch/Cython/DataIterator.pyx\n",
      "/kaggle/input/training-tuned-models/Recsys_Challenge_2023/Utils/__pycache__/seconds_to_biggest_unit.cpython-310.pyc\n",
      "/kaggle/input/training-tuned-models/Recsys_Challenge_2023/Notebooks_utils/Cosine_Similarity_Cython_SLOW.cpython-36m-x86_64-linux-gnu.so\n",
      "/kaggle/input/training-tuned-models/Recsys_Challenge_2023/Notebooks_utils/Cosine_Similarity_Cython_SLOW.c\n",
      "/kaggle/input/training-tuned-models/Recsys_Challenge_2023/Notebooks_utils/compileCython.py\n",
      "/kaggle/input/training-tuned-models/Recsys_Challenge_2023/Notebooks_utils/Cosine_Similarity_Cython.pyx\n",
      "/kaggle/input/training-tuned-models/Recsys_Challenge_2023/Notebooks_utils/Cosine_Similarity_Cython.html\n",
      "/kaggle/input/training-tuned-models/Recsys_Challenge_2023/Notebooks_utils/Compute_Similarity_Python.py\n",
      "/kaggle/input/training-tuned-models/Recsys_Challenge_2023/Notebooks_utils/Cosine_Similarity_Cython.c\n",
      "/kaggle/input/training-tuned-models/Recsys_Challenge_2023/Notebooks_utils/Cosine_Similarity_Cython.cpython-36m-x86_64-linux-gnu.so\n",
      "/kaggle/input/training-tuned-models/Recsys_Challenge_2023/Notebooks_utils/Cosine_Similarity_Cython_SLOW.pyx\n",
      "/kaggle/input/training-tuned-models/Recsys_Challenge_2023/Notebooks_utils/Cosine_Similarity_Cython_SLOW.html\n",
      "/kaggle/input/training-tuned-models/Recsys_Challenge_2023/CythonCompiler/compile_script.py\n",
      "/kaggle/input/training-tuned-models/Recsys_Challenge_2023/CythonCompiler/run_compile_subprocess.py\n",
      "/kaggle/input/training-tuned-models/Recsys_Challenge_2023/CythonCompiler/__pycache__/run_compile_subprocess.cpython-310.pyc\n",
      "/kaggle/input/training-tuned-models/Recsys_Challenge_2023/Recommenders/IR_feature_weighting.py\n",
      "/kaggle/input/training-tuned-models/Recsys_Challenge_2023/Recommenders/Incremental_Training_Early_Stopping.py\n",
      "/kaggle/input/training-tuned-models/Recsys_Challenge_2023/Recommenders/BaseMatrixFactorizationRecommender.py\n",
      "/kaggle/input/training-tuned-models/Recsys_Challenge_2023/Recommenders/BaseRecommender.py\n",
      "/kaggle/input/training-tuned-models/Recsys_Challenge_2023/Recommenders/BaseCBFRecommender.py\n",
      "/kaggle/input/training-tuned-models/Recsys_Challenge_2023/Recommenders/Recommender_import_list.py\n",
      "/kaggle/input/training-tuned-models/Recsys_Challenge_2023/Recommenders/BaseTempFolder.py\n",
      "/kaggle/input/training-tuned-models/Recsys_Challenge_2023/Recommenders/Recommender_utils.py\n",
      "/kaggle/input/training-tuned-models/Recsys_Challenge_2023/Recommenders/NonPersonalizedRecommender.py\n",
      "/kaggle/input/training-tuned-models/Recsys_Challenge_2023/Recommenders/BaseSimilarityMatrixRecommender.py\n",
      "/kaggle/input/training-tuned-models/Recsys_Challenge_2023/Recommenders/DataIO.py\n",
      "/kaggle/input/training-tuned-models/Recsys_Challenge_2023/Recommenders/PredefinedListRecommender.py\n",
      "/kaggle/input/training-tuned-models/Recsys_Challenge_2023/Recommenders/Similarity/Compute_similarity_euclidean_test.py\n",
      "/kaggle/input/training-tuned-models/Recsys_Challenge_2023/Recommenders/Similarity/Compute_Similarity_Euclidean.py\n",
      "/kaggle/input/training-tuned-models/Recsys_Challenge_2023/Recommenders/Similarity/Compute_Similarity_Python.py\n",
      "/kaggle/input/training-tuned-models/Recsys_Challenge_2023/Recommenders/Similarity/Compute_Similarity.py\n",
      "/kaggle/input/training-tuned-models/Recsys_Challenge_2023/Recommenders/Similarity/Compute_similarity_test.py\n",
      "/kaggle/input/training-tuned-models/Recsys_Challenge_2023/Recommenders/Similarity/__pycache__/Compute_Similarity_Python.cpython-310.pyc\n",
      "/kaggle/input/training-tuned-models/Recsys_Challenge_2023/Recommenders/Similarity/__pycache__/Compute_Similarity.cpython-310.pyc\n",
      "/kaggle/input/training-tuned-models/Recsys_Challenge_2023/Recommenders/Similarity/__pycache__/Compute_Similarity_Euclidean.cpython-310.pyc\n",
      "/kaggle/input/training-tuned-models/Recsys_Challenge_2023/Recommenders/Similarity/Cython/Compute_Similarity_Cython.cpython-310-x86_64-linux-gnu.so\n",
      "/kaggle/input/training-tuned-models/Recsys_Challenge_2023/Recommenders/Similarity/Cython/Compute_Similarity_Cython.pyx\n",
      "/kaggle/input/training-tuned-models/Recsys_Challenge_2023/Recommenders/Similarity/Cython/Compute_Similarity_Cython.html\n",
      "/kaggle/input/training-tuned-models/Recsys_Challenge_2023/Recommenders/Similarity/Cython/Compute_Similarity_Cython.c\n",
      "/kaggle/input/training-tuned-models/Recsys_Challenge_2023/Recommenders/EASE_R/EASE_R_Recommender.py\n",
      "/kaggle/input/training-tuned-models/Recsys_Challenge_2023/Recommenders/EASE_R/__pycache__/EASE_R_Recommender.cpython-310.pyc\n",
      "/kaggle/input/training-tuned-models/Recsys_Challenge_2023/Recommenders/SLIM/SLIMElasticNetRecommender.py\n",
      "/kaggle/input/training-tuned-models/Recsys_Challenge_2023/Recommenders/SLIM/SLIM_BPR_Python.py\n",
      "/kaggle/input/training-tuned-models/Recsys_Challenge_2023/Recommenders/SLIM/__pycache__/SLIMElasticNetRecommender.cpython-310.pyc\n",
      "/kaggle/input/training-tuned-models/Recsys_Challenge_2023/Recommenders/SLIM/__pycache__/SLIM_BPR_Python.cpython-310.pyc\n",
      "/kaggle/input/training-tuned-models/Recsys_Challenge_2023/Recommenders/SLIM/Cython/Triangular_Matrix.cpython-310-x86_64-linux-gnu.so\n",
      "/kaggle/input/training-tuned-models/Recsys_Challenge_2023/Recommenders/SLIM/Cython/Triangular_Matrix.c\n",
      "/kaggle/input/training-tuned-models/Recsys_Challenge_2023/Recommenders/SLIM/Cython/SLIM_BPR_Cython.py\n",
      "/kaggle/input/training-tuned-models/Recsys_Challenge_2023/Recommenders/SLIM/Cython/Sparse_Matrix_Tree_CSR.pyx\n",
      "/kaggle/input/training-tuned-models/Recsys_Challenge_2023/Recommenders/SLIM/Cython/Triangular_Matrix.pyx\n",
      "/kaggle/input/training-tuned-models/Recsys_Challenge_2023/Recommenders/SLIM/Cython/SLIM_BPR_Cython_Epoch.pyx\n",
      "/kaggle/input/training-tuned-models/Recsys_Challenge_2023/Recommenders/SLIM/Cython/Triangular_Matrix.html\n",
      "/kaggle/input/training-tuned-models/Recsys_Challenge_2023/Recommenders/GraphBased/RP3betaRecommender.py\n",
      "/kaggle/input/training-tuned-models/Recsys_Challenge_2023/Recommenders/GraphBased/P3alphaRecommender.py\n",
      "/kaggle/input/training-tuned-models/Recsys_Challenge_2023/Recommenders/GraphBased/__pycache__/RP3betaRecommender.cpython-310.pyc\n",
      "/kaggle/input/training-tuned-models/Recsys_Challenge_2023/Recommenders/GraphBased/__pycache__/P3alphaRecommender.cpython-310.pyc\n",
      "/kaggle/input/training-tuned-models/Recsys_Challenge_2023/Recommenders/FactorizationMachines/LightFMRecommender.py\n",
      "/kaggle/input/training-tuned-models/Recsys_Challenge_2023/Recommenders/__pycache__/BaseRecommender.cpython-310.pyc\n",
      "/kaggle/input/training-tuned-models/Recsys_Challenge_2023/Recommenders/__pycache__/BaseSimilarityMatrixRecommender.cpython-310.pyc\n",
      "/kaggle/input/training-tuned-models/Recsys_Challenge_2023/Recommenders/__pycache__/BaseMatrixFactorizationRecommender.cpython-310.pyc\n",
      "/kaggle/input/training-tuned-models/Recsys_Challenge_2023/Recommenders/__pycache__/Incremental_Training_Early_Stopping.cpython-310.pyc\n",
      "/kaggle/input/training-tuned-models/Recsys_Challenge_2023/Recommenders/__pycache__/IR_feature_weighting.cpython-310.pyc\n",
      "/kaggle/input/training-tuned-models/Recsys_Challenge_2023/Recommenders/__pycache__/DataIO.cpython-310.pyc\n",
      "/kaggle/input/training-tuned-models/Recsys_Challenge_2023/Recommenders/__pycache__/BaseTempFolder.cpython-310.pyc\n",
      "/kaggle/input/training-tuned-models/Recsys_Challenge_2023/Recommenders/__pycache__/Recommender_utils.cpython-310.pyc\n",
      "/kaggle/input/training-tuned-models/Recsys_Challenge_2023/Recommenders/KNN/ItemKNNCustomSimilarityRecommender.py\n",
      "/kaggle/input/training-tuned-models/Recsys_Challenge_2023/Recommenders/KNN/ItemKNNCBFRecommender.py\n",
      "/kaggle/input/training-tuned-models/Recsys_Challenge_2023/Recommenders/KNN/ItemKNNSimilarityHybridRecommender.py\n",
      "/kaggle/input/training-tuned-models/Recsys_Challenge_2023/Recommenders/KNN/UserKNNCBFRecommender.py\n",
      "/kaggle/input/training-tuned-models/Recsys_Challenge_2023/Recommenders/KNN/ItemKNNCFRecommender.py\n",
      "/kaggle/input/training-tuned-models/Recsys_Challenge_2023/Recommenders/KNN/UserKNN_CFCBF_Hybrid_Recommender.py\n",
      "/kaggle/input/training-tuned-models/Recsys_Challenge_2023/Recommenders/KNN/ItemKNN_CFCBF_Hybrid_Recommender.py\n",
      "/kaggle/input/training-tuned-models/Recsys_Challenge_2023/Recommenders/KNN/UserKNNCFRecommender.py\n",
      "/kaggle/input/training-tuned-models/Recsys_Challenge_2023/Recommenders/KNN/__pycache__/UserKNNCFRecommender.cpython-310.pyc\n",
      "/kaggle/input/training-tuned-models/Recsys_Challenge_2023/Recommenders/KNN/__pycache__/ItemKNNCFRecommender.cpython-310.pyc\n",
      "/kaggle/input/training-tuned-models/Recsys_Challenge_2023/Recommenders/Neural/architecture_utils.py\n",
      "/kaggle/input/training-tuned-models/Recsys_Challenge_2023/Recommenders/Neural/MultVAERecommender.py\n",
      "/kaggle/input/training-tuned-models/Recsys_Challenge_2023/Recommenders/Neural/MultVAE_PyTorch_Recommender.py\n",
      "/kaggle/input/training-tuned-models/Recsys_Challenge_2023/Recommenders/Neural/__pycache__/MultVAERecommender.cpython-310.pyc\n",
      "/kaggle/input/training-tuned-models/Recsys_Challenge_2023/Recommenders/Neural/__pycache__/architecture_utils.cpython-310.pyc\n",
      "/kaggle/input/training-tuned-models/Recsys_Challenge_2023/Recommenders/Hybrid/LinearCombinationRecommender.py\n",
      "/kaggle/input/training-tuned-models/Recsys_Challenge_2023/Recommenders/Hybrid/RoundRobinListCombinationRecommender.py\n",
      "/kaggle/input/training-tuned-models/Recsys_Challenge_2023/Recommenders/Hybrid/PipelineRecommender.py\n",
      "/kaggle/input/training-tuned-models/Recsys_Challenge_2023/Recommenders/FeatureWeighting/CFW_D_Similarity_Linalg.py\n",
      "/kaggle/input/training-tuned-models/Recsys_Challenge_2023/Recommenders/FeatureWeighting/Cython/CFW_D_Similarity_Cython_SGD.cpython-310-x86_64-linux-gnu.so\n",
      "/kaggle/input/training-tuned-models/Recsys_Challenge_2023/Recommenders/FeatureWeighting/Cython/HP3_Similarity_Cython_SGD.c\n",
      "/kaggle/input/training-tuned-models/Recsys_Challenge_2023/Recommenders/FeatureWeighting/Cython/FBSM_Rating_Cython_SGD.c\n",
      "/kaggle/input/training-tuned-models/Recsys_Challenge_2023/Recommenders/FeatureWeighting/Cython/CFW_DVV_Similarity_Cython_SGD.pyx\n",
      "/kaggle/input/training-tuned-models/Recsys_Challenge_2023/Recommenders/FeatureWeighting/Cython/FBSM_Rating_Cython_SGD.cpython-310-x86_64-linux-gnu.so\n",
      "/kaggle/input/training-tuned-models/Recsys_Challenge_2023/Recommenders/FeatureWeighting/Cython/CFW_D_Similarity_Cython_SGD.html\n",
      "/kaggle/input/training-tuned-models/Recsys_Challenge_2023/Recommenders/FeatureWeighting/Cython/FBSM_Rating_Cython.py\n",
      "/kaggle/input/training-tuned-models/Recsys_Challenge_2023/Recommenders/FeatureWeighting/Cython/CFW_DVV_Similarity_Cython_SGD.html\n",
      "/kaggle/input/training-tuned-models/Recsys_Challenge_2023/Recommenders/FeatureWeighting/Cython/CFW_DVV_Similarity_Cython_SGD.cpython-310-x86_64-linux-gnu.so\n",
      "/kaggle/input/training-tuned-models/Recsys_Challenge_2023/Recommenders/FeatureWeighting/Cython/HP3_Similarity_Cython.py\n",
      "/kaggle/input/training-tuned-models/Recsys_Challenge_2023/Recommenders/FeatureWeighting/Cython/CFW_D_Similarity_Cython_SGD.c\n",
      "/kaggle/input/training-tuned-models/Recsys_Challenge_2023/Recommenders/FeatureWeighting/Cython/CFW_D_Similarity_Cython_SGD.pyx\n",
      "/kaggle/input/training-tuned-models/Recsys_Challenge_2023/Recommenders/FeatureWeighting/Cython/CFW_D_Similarity_Cython.py\n",
      "/kaggle/input/training-tuned-models/Recsys_Challenge_2023/Recommenders/FeatureWeighting/Cython/FBSM_Rating_Cython_SGD.pyx\n",
      "/kaggle/input/training-tuned-models/Recsys_Challenge_2023/Recommenders/FeatureWeighting/Cython/CFW_DVV_Similarity_Cython_SGD.c\n",
      "/kaggle/input/training-tuned-models/Recsys_Challenge_2023/Recommenders/FeatureWeighting/Cython/HP3_Similarity_Cython_SGD.cpython-310-x86_64-linux-gnu.so\n",
      "/kaggle/input/training-tuned-models/Recsys_Challenge_2023/Recommenders/FeatureWeighting/Cython/HP3_Similarity_Cython_SGD.pyx\n",
      "/kaggle/input/training-tuned-models/Recsys_Challenge_2023/Recommenders/FeatureWeighting/Cython/CFW_DVV_Similarity_Cython.py\n",
      "/kaggle/input/training-tuned-models/Recsys_Challenge_2023/Recommenders/FeatureWeighting/Cython/FBSM_Rating_Cython_SGD.html\n",
      "/kaggle/input/training-tuned-models/Recsys_Challenge_2023/Recommenders/FeatureWeighting/Cython/HP3_Similarity_Cython_SGD.html\n",
      "/kaggle/input/training-tuned-models/Recsys_Challenge_2023/Recommenders/MatrixFactorization/IALSRecommender.py\n",
      "/kaggle/input/training-tuned-models/Recsys_Challenge_2023/Recommenders/MatrixFactorization/NMFRecommender.py\n",
      "/kaggle/input/training-tuned-models/Recsys_Challenge_2023/Recommenders/MatrixFactorization/PureSVDRecommender.py\n",
      "/kaggle/input/training-tuned-models/Recsys_Challenge_2023/Recommenders/MatrixFactorization/SVDFeatureRecommender.py\n",
      "/kaggle/input/training-tuned-models/Recsys_Challenge_2023/Recommenders/MatrixFactorization/PyTorch/MF_MSE_PyTorch.py\n",
      "/kaggle/input/training-tuned-models/Recsys_Challenge_2023/Recommenders/MatrixFactorization/PyTorch/MF_MSE_PyTorch_model.py\n",
      "/kaggle/input/training-tuned-models/Recsys_Challenge_2023/Recommenders/MatrixFactorization/__pycache__/NMFRecommender.cpython-310.pyc\n",
      "/kaggle/input/training-tuned-models/Recsys_Challenge_2023/Recommenders/MatrixFactorization/__pycache__/PureSVDRecommender.cpython-310.pyc\n",
      "/kaggle/input/training-tuned-models/Recsys_Challenge_2023/Recommenders/MatrixFactorization/__pycache__/IALSRecommender.cpython-310.pyc\n",
      "/kaggle/input/training-tuned-models/Recsys_Challenge_2023/Recommenders/MatrixFactorization/Cython/MatrixFactorization_Cython.py\n",
      "/kaggle/input/training-tuned-models/Recsys_Challenge_2023/Recommenders/MatrixFactorization/Cython/MatrixFactorization_Cython_Epoch.cpython-310-x86_64-linux-gnu.so\n",
      "/kaggle/input/training-tuned-models/Recsys_Challenge_2023/Recommenders/MatrixFactorization/Cython/MatrixFactorizationImpressions_Cython_Epoch.cpython-310-x86_64-linux-gnu.so\n",
      "/kaggle/input/training-tuned-models/Recsys_Challenge_2023/Recommenders/MatrixFactorization/Cython/MatrixFactorizationImpressions_Cython.py\n",
      "/kaggle/input/training-tuned-models/Recsys_Challenge_2023/Recommenders/MatrixFactorization/Cython/MatrixFactorization_Cython_Epoch.c\n",
      "/kaggle/input/training-tuned-models/Recsys_Challenge_2023/Recommenders/MatrixFactorization/Cython/MatrixFactorization_Cython_Epoch.html\n",
      "/kaggle/input/training-tuned-models/Recsys_Challenge_2023/Recommenders/MatrixFactorization/Cython/MatrixFactorizationImpressions_Cython_Epoch.pyx\n",
      "/kaggle/input/training-tuned-models/Recsys_Challenge_2023/Recommenders/MatrixFactorization/Cython/MatrixFactorization_Cython_Epoch.pyx\n",
      "/kaggle/input/training-tuned-models/Recsys_Challenge_2023/Recommenders/MatrixFactorization/Cython/MatrixFactorizationImpressions_Cython_Epoch.c\n",
      "/kaggle/input/training-tuned-models/Recsys_Challenge_2023/Recommenders/MatrixFactorization/Cython/MatrixFactorizationImpressions_Cython_Epoch.html\n",
      "/kaggle/input/training-tuned-models/Recsys_Challenge_2023/tuning_results/tuning_hybrid_merging.db\n",
      "/kaggle/input/training-tuned-models/Recsys_Challenge_2023/tuning_results/tuning_hybrid.db\n",
      "/kaggle/input/training-tuned-models/Recsys_Challenge_2023/tuning_results/tuning_mf.db\n",
      "/kaggle/input/training-tuned-models/Recsys_Challenge_2023/tuning_results/tuning_hybrid_precision.db\n",
      "/kaggle/input/training-tuned-models/Recsys_Challenge_2023/tuning_results/best_params_ials_v2.json\n",
      "/kaggle/input/training-tuned-models/Recsys_Challenge_2023/tuning_results/best_params_NMF.json\n",
      "/kaggle/input/training-tuned-models/Recsys_Challenge_2023/tuning_results/best_params_allLinearHyb.json\n",
      "/kaggle/input/training-tuned-models/Recsys_Challenge_2023/tuning_results/best_params_hybrid_merging.json\n",
      "/kaggle/input/training-tuned-models/Recsys_Challenge_2023/tuning_results/best_params_knn_item.json\n",
      "/kaggle/input/training-tuned-models/Recsys_Challenge_2023/tuning_results/better_tuning_EASE_R.db\n",
      "/kaggle/input/training-tuned-models/Recsys_Challenge_2023/tuning_results/tuning_RP3+ItemKNN_Hybrid.db\n",
      "/kaggle/input/training-tuned-models/Recsys_Challenge_2023/tuning_results/tuning_MultVaer.db\n",
      "/kaggle/input/training-tuned-models/Recsys_Challenge_2023/tuning_results/best_params_hybrid_lr_comb_8models.json\n",
      "/kaggle/input/training-tuned-models/Recsys_Challenge_2023/tuning_results/best_params_hybrid_lr_comb_9models.json\n",
      "/kaggle/input/training-tuned-models/Recsys_Challenge_2023/tuning_results/best_params_light.json\n",
      "/kaggle/input/training-tuned-models/Recsys_Challenge_2023/tuning_results/tuning_BPR.db\n",
      "/kaggle/input/training-tuned-models/Recsys_Challenge_2023/tuning_results/best_params_knn_user_cv5.json\n",
      "/kaggle/input/training-tuned-models/Recsys_Challenge_2023/tuning_results/tuning_puresvd_scaled.db\n",
      "/kaggle/input/training-tuned-models/Recsys_Challenge_2023/tuning_results/best_params_EASE_R.json\n",
      "/kaggle/input/training-tuned-models/Recsys_Challenge_2023/tuning_results/best_params_Vaer.json\n",
      "/kaggle/input/training-tuned-models/Recsys_Challenge_2023/tuning_results/best_params_alpha.json\n",
      "/kaggle/input/training-tuned-models/Recsys_Challenge_2023/tuning_results/best_params_hybrid_xgboost.json\n",
      "/kaggle/input/training-tuned-models/Recsys_Challenge_2023/tuning_results/pure_svd_params.json\n",
      "/kaggle/input/training-tuned-models/Recsys_Challenge_2023/tuning_results/pure_svd_trials.csv\n",
      "/kaggle/input/training-tuned-models/Recsys_Challenge_2023/tuning_results/tuning_puresvd.db\n",
      "/kaggle/input/training-tuned-models/Recsys_Challenge_2023/tuning_results/best_params_knn_item_cv5.json\n",
      "/kaggle/input/training-tuned-models/Recsys_Challenge_2023/tuning_results/tuning.db\n",
      "/kaggle/input/training-tuned-models/Recsys_Challenge_2023/tuning_results/best_params_slim.json\n",
      "/kaggle/input/training-tuned-models/Recsys_Challenge_2023/tuning_results/better_tuning.db\n",
      "/kaggle/input/training-tuned-models/Recsys_Challenge_2023/tuning_results/best_params_hybrid_merging_v2.json\n",
      "/kaggle/input/training-tuned-models/Recsys_Challenge_2023/tuning_results/tuning_slim_elastic.db\n",
      "/kaggle/input/training-tuned-models/Recsys_Challenge_2023/tuning_results/tuning_hybrid_UserKNN_RP3Hybrid.db\n",
      "/kaggle/input/training-tuned-models/Recsys_Challenge_2023/tuning_results/matrix-factorization-item-puresvd.ipynb\n",
      "/kaggle/input/training-tuned-models/Recsys_Challenge_2023/tuning_results/best_params_puresvd_scaled.json\n",
      "/kaggle/input/training-tuned-models/Recsys_Challenge_2023/tuning_results/better_tuning_alpha.db\n",
      "/kaggle/input/training-tuned-models/Recsys_Challenge_2023/tuning_results/best_params_hybrid_UserKNN_RP3Hybrid.json\n",
      "/kaggle/input/training-tuned-models/Recsys_Challenge_2023/tuning_results/best_params_2stage_pipeline.json\n",
      "/kaggle/input/training-tuned-models/Recsys_Challenge_2023/tuning_results/best_params_RP3+ItemKNN_Hybrid.json\n",
      "/kaggle/input/training-tuned-models/Recsys_Challenge_2023/tuning_results/best_params_hybrid_lr_comb_10models.json\n",
      "/kaggle/input/training-tuned-models/Recsys_Challenge_2023/tuning_results/best_params_Slim_BPR.json\n",
      "/kaggle/input/training-tuned-models/Recsys_Challenge_2023/tuning_results/best_params_hybrid_lr_comb.json\n",
      "/kaggle/input/training-tuned-models/Recsys_Challenge_2023/tuning_results/tuning_hybrid_merging_models.db\n",
      "/kaggle/input/training-tuned-models/Recsys_Challenge_2023/tuning_results/light.db\n",
      "/kaggle/input/training-tuned-models/Recsys_Challenge_2023/tuning_results/best_params_hybrid.json\n",
      "/kaggle/input/training-tuned-models/Recsys_Challenge_2023/tuning_results/best_params_item_knn_precision.json\n",
      "/kaggle/input/training-tuned-models/Recsys_Challenge_2023/tuning_results/tuning_rp3.db\n",
      "/kaggle/input/training-tuned-models/Recsys_Challenge_2023/tuning_results/tuning_hybrid_xgboost.db\n",
      "/kaggle/input/training-tuned-models/Recsys_Challenge_2023/tuning_results/best_params_ials.json\n",
      "/kaggle/input/training-tuned-models/Recsys_Challenge_2023/tuning_results/tuning_mf_funk.db\n",
      "/kaggle/input/training-tuned-models/Recsys_Challenge_2023/tuning_results/tuning_hybrid2.0.db\n",
      "/kaggle/input/training-tuned-models/Recsys_Challenge_2023/tuning_results/best_params_knn_user.json\n",
      "/kaggle/input/training-tuned-models/Recsys_Challenge_2023/tuning_results/best_params_funk_svd.json\n",
      "/kaggle/input/training-tuned-models/Recsys_Challenge_2023/tuning_results/best_params_puresvd_item.json\n",
      "/kaggle/input/training-tuned-models/Recsys_Challenge_2023/tuning_results/best_params_hybrid_lr_comb_rp3_p3a_item.json\n",
      "/kaggle/input/training-tuned-models/Recsys_Challenge_2023/tuning_results/best_params_3stage_pipeline2.0.json\n",
      "/kaggle/input/training-tuned-models/Recsys_Challenge_2023/tuning_results/best_params_RP3.json\n",
      "/kaggle/input/training-tuned-models/Recsys_Challenge_2023/tuning_results/parameters_NMF.db\n",
      "/kaggle/input/training-tuned-models/Recsys_Challenge_2023/tuning_results/better_tuning_knn.db\n",
      "/kaggle/input/training-tuned-models/Recsys_Challenge_2023/tuning_results/best_params_3stage_pipeline.json\n",
      "/kaggle/input/training-tuned-models/Recsys_Challenge_2023/tuning_results/tuning_best_params_allLinearHyb.db\n",
      "/kaggle/input/training-tuned-models/Recsys_Challenge_2023/models/slim_bpr_xgboost_train_validation.zip\n",
      "/kaggle/input/training-tuned-models/Recsys_Challenge_2023/models/ease_r_all.zip\n",
      "/kaggle/input/training-tuned-models/Recsys_Challenge_2023/models/slim_bpr_all.zip\n",
      "/kaggle/input/training-tuned-models/Recsys_Challenge_2023/models/slim_elastic_train_validation.zip\n",
      "/kaggle/input/training-tuned-models/Recsys_Challenge_2023/models/nmf_all.zip\n",
      "/kaggle/input/training-tuned-models/Recsys_Challenge_2023/models/ease_r_train_validation.zip\n",
      "/kaggle/input/training-tuned-models/Recsys_Challenge_2023/models/nmf_train_validation.zip\n",
      "/kaggle/input/training-tuned-models/Recsys_Challenge_2023/models/nmf_xgboost_train_validation.zip\n",
      "/kaggle/input/training-tuned-models/Recsys_Challenge_2023/models/slim_elastic_xgboost_train_validation.zip\n",
      "/kaggle/input/training-tuned-models/Recsys_Challenge_2023/models/ease_r_xgboost_train_validation.zip\n",
      "/kaggle/input/training-tuned-models/Recsys_Challenge_2023/models/slim_bpr_train_validation.zip\n",
      "/kaggle/input/training-tuned-models/Recsys_Challenge_2023/models/slim_elastic_all.zip\n",
      "/kaggle/input/training-tuned-models/Recsys_Challenge_2023/images/random_random_everywhere_meme.jpg\n",
      "/kaggle/input/training-tuned-models/Recsys_Challenge_2023/images/ive_already_seen_it_meme.png\n",
      "/kaggle/input/training-tuned-models/Recsys_Challenge_2023/images/bob_example.jpeg\n",
      "/kaggle/input/training-tuned-models/Recsys_Challenge_2023/images/hstack_example.png\n",
      "/kaggle/input/training-tuned-models/Recsys_Challenge_2023/images/FactorizationMachine.png\n",
      "/kaggle/input/training-tuned-models/Recsys_Challenge_2023/images/ive_evaluated_your_performance_meme.jpg\n",
      "/kaggle/input/training-tuned-models/Recsys_Challenge_2023/images/amongus_meme.png\n",
      "/kaggle/input/training-tuned-models/Recsys_Challenge_2023/images/toy_story_poster.png\n",
      "/kaggle/input/training-tuned-models/Recsys_Challenge_2023/images/better_than_average_on_the_first_try_meme.jpg\n",
      "/kaggle/input/training-tuned-models/Recsys_Challenge_2023/HyperparameterTuning/SearchSingleCase.py\n",
      "/kaggle/input/training-tuned-models/Recsys_Challenge_2023/HyperparameterTuning/SearchAbstractClass.py\n",
      "/kaggle/input/training-tuned-models/Recsys_Challenge_2023/HyperparameterTuning/run_hyperparameter_search.py\n",
      "/kaggle/input/training-tuned-models/Recsys_Challenge_2023/HyperparameterTuning/SearchBayesianSkopt.py\n",
      "/kaggle/input/training-tuned-models/Recsys_Challenge_2023/Cython_examples/isPrime_slow.pyx\n",
      "/kaggle/input/training-tuned-models/Recsys_Challenge_2023/Cython_examples/SLIM_MSE_fastest.pyx\n",
      "/kaggle/input/training-tuned-models/Recsys_Challenge_2023/Cython_examples/isPrime_nochecks.pyx\n",
      "/kaggle/input/training-tuned-models/Recsys_Challenge_2023/Cython_examples/isPrime.pyx\n",
      "/kaggle/input/training-tuned-models/Recsys_Challenge_2023/Cython_examples/FunkSVD_fastest.pyx\n",
      "/kaggle/input/training-tuned-models/Recsys_Challenge_2023/Cython_examples/FunkSVD_slow.pyx\n",
      "/kaggle/input/training-tuned-models/Recsys_Challenge_2023/Cython_examples/SLIM_MSE_slow.pyx\n",
      "/kaggle/input/training-tuned-models/Recsys_Challenge_2023/result_experiments/run_compile_all_cython.txt\n",
      "/kaggle/input/training-tuned-models/Recsys_Challenge_2023/.git/config\n",
      "/kaggle/input/training-tuned-models/Recsys_Challenge_2023/.git/packed-refs\n",
      "/kaggle/input/training-tuned-models/Recsys_Challenge_2023/.git/HEAD\n",
      "/kaggle/input/training-tuned-models/Recsys_Challenge_2023/.git/index\n",
      "/kaggle/input/training-tuned-models/Recsys_Challenge_2023/.git/description\n",
      "/kaggle/input/training-tuned-models/Recsys_Challenge_2023/.git/info/exclude\n",
      "/kaggle/input/training-tuned-models/Recsys_Challenge_2023/.git/refs/heads/master\n",
      "/kaggle/input/training-tuned-models/Recsys_Challenge_2023/.git/refs/remotes/origin/HEAD\n",
      "/kaggle/input/training-tuned-models/Recsys_Challenge_2023/.git/hooks/pre-merge-commit.sample\n",
      "/kaggle/input/training-tuned-models/Recsys_Challenge_2023/.git/hooks/prepare-commit-msg.sample\n",
      "/kaggle/input/training-tuned-models/Recsys_Challenge_2023/.git/hooks/update.sample\n",
      "/kaggle/input/training-tuned-models/Recsys_Challenge_2023/.git/hooks/pre-push.sample\n",
      "/kaggle/input/training-tuned-models/Recsys_Challenge_2023/.git/hooks/pre-rebase.sample\n",
      "/kaggle/input/training-tuned-models/Recsys_Challenge_2023/.git/hooks/pre-applypatch.sample\n",
      "/kaggle/input/training-tuned-models/Recsys_Challenge_2023/.git/hooks/pre-commit.sample\n",
      "/kaggle/input/training-tuned-models/Recsys_Challenge_2023/.git/hooks/commit-msg.sample\n",
      "/kaggle/input/training-tuned-models/Recsys_Challenge_2023/.git/hooks/post-update.sample\n",
      "/kaggle/input/training-tuned-models/Recsys_Challenge_2023/.git/hooks/pre-receive.sample\n",
      "/kaggle/input/training-tuned-models/Recsys_Challenge_2023/.git/hooks/fsmonitor-watchman.sample\n",
      "/kaggle/input/training-tuned-models/Recsys_Challenge_2023/.git/hooks/applypatch-msg.sample\n",
      "/kaggle/input/training-tuned-models/Recsys_Challenge_2023/.git/logs/HEAD\n",
      "/kaggle/input/training-tuned-models/Recsys_Challenge_2023/.git/logs/refs/heads/master\n",
      "/kaggle/input/training-tuned-models/Recsys_Challenge_2023/.git/logs/refs/remotes/origin/HEAD\n",
      "/kaggle/input/training-tuned-models/Recsys_Challenge_2023/.git/objects/pack/pack-d365ed5e36e9a5002f87f3d1facb628c56b6f1de.idx\n",
      "/kaggle/input/training-tuned-models/Recsys_Challenge_2023/.git/objects/pack/pack-d365ed5e36e9a5002f87f3d1facb628c56b6f1de.pack\n",
      "/kaggle/input/training-tuned-models/Recsys_Challenge_2023/challenge_notebooks/training-tuned-models.ipynb\n",
      "/kaggle/input/training-tuned-models/Recsys_Challenge_2023/challenge_notebooks/list-combination.ipynb\n",
      "/kaggle/input/training-tuned-models/Recsys_Challenge_2023/challenge_notebooks/hyperparameters-tuning.ipynb\n",
      "/kaggle/input/training-tuned-models/Recsys_Challenge_2023/challenge_notebooks/matrix-factorization-scaled-puresvd.ipynb\n",
      "/kaggle/input/training-tuned-models/Recsys_Challenge_2023/challenge_notebooks/rp3-tuning.ipynb\n",
      "/kaggle/input/training-tuned-models/Recsys_Challenge_2023/challenge_notebooks/hybrid-precision.ipynb\n",
      "/kaggle/input/training-tuned-models/Recsys_Challenge_2023/challenge_notebooks/linear-combination.ipynb\n",
      "/kaggle/input/training-tuned-models/Recsys_Challenge_2023/challenge_notebooks/rp3-itemknn-hybrid.ipynb\n",
      "/kaggle/input/training-tuned-models/Recsys_Challenge_2023/challenge_notebooks/merging-models.ipynb\n",
      "/kaggle/input/training-tuned-models/Recsys_Challenge_2023/challenge_notebooks/matrix-factorization-item-puresvd.ipynb\n",
      "/kaggle/input/training-tuned-models/Recsys_Challenge_2023/challenge_notebooks/hyperparameters-tuning-better.ipynb\n",
      "/kaggle/input/training-tuned-models/Recsys_Challenge_2023/challenge_notebooks/xgboost.ipynb\n",
      "/kaggle/input/training-tuned-models/Recsys_Challenge_2023/challenge_notebooks/srecsys-challenge.ipynb\n",
      "/kaggle/input/training-tuned-models/Recsys_Challenge_2023/challenge_notebooks/hybrid.ipynb\n",
      "/kaggle/input/training-tuned-models/Recsys_Challenge_2023/Evaluation/metrics.py\n",
      "/kaggle/input/training-tuned-models/Recsys_Challenge_2023/Evaluation/Evaluator.py\n",
      "/kaggle/input/training-tuned-models/Recsys_Challenge_2023/Evaluation/__pycache__/metrics.cpython-310.pyc\n",
      "/kaggle/input/training-tuned-models/Recsys_Challenge_2023/Evaluation/__pycache__/Evaluator.cpython-310.pyc\n"
     ]
    }
   ],
   "source": [
    "import numpy as np\n",
    "import pandas as pd\n",
    "import matplotlib.pyplot as plt\n",
    "import seaborn as sns\n",
    "import joblib\n",
    "import json\n",
    "import random\n",
    "import tqdm\n",
    "import gc\n",
    "import time\n",
    "import os\n",
    "import shutil\n",
    "import optuna\n",
    "import scipy.sparse as sps\n",
    "from concurrent.futures import ThreadPoolExecutor\n",
    "\n",
    "for dirname, _, filenames in os.walk('/kaggle/input'):\n",
    "    for filename in filenames:\n",
    "        print(os.path.join(dirname, filename))"
   ]
  },
  {
   "cell_type": "code",
   "execution_count": 5,
   "id": "e25a5227",
   "metadata": {
    "execution": {
     "iopub.execute_input": "2023-12-05T14:15:59.392786Z",
     "iopub.status.busy": "2023-12-05T14:15:59.391764Z",
     "iopub.status.idle": "2023-12-05T14:15:59.399474Z",
     "shell.execute_reply": "2023-12-05T14:15:59.397816Z"
    },
    "papermill": {
     "duration": 0.028327,
     "end_time": "2023-12-05T14:15:59.402116",
     "exception": false,
     "start_time": "2023-12-05T14:15:59.373789",
     "status": "completed"
    },
    "tags": []
   },
   "outputs": [
    {
     "name": "stdout",
     "output_type": "stream",
     "text": [
      "/kaggle/working/Recsys_Challenge_2023\n"
     ]
    }
   ],
   "source": [
    "%cd /kaggle/working/Recsys_Challenge_2023"
   ]
  },
  {
   "cell_type": "code",
   "execution_count": 6,
   "id": "6829ed75",
   "metadata": {
    "execution": {
     "iopub.execute_input": "2023-12-05T14:15:59.436517Z",
     "iopub.status.busy": "2023-12-05T14:15:59.435842Z",
     "iopub.status.idle": "2023-12-05T14:16:14.092458Z",
     "shell.execute_reply": "2023-12-05T14:16:14.091436Z"
    },
    "papermill": {
     "duration": 14.676664,
     "end_time": "2023-12-05T14:16:14.095064",
     "exception": false,
     "start_time": "2023-12-05T14:15:59.418400",
     "status": "completed"
    },
    "tags": []
   },
   "outputs": [],
   "source": [
    "from Recommenders.KNN.UserKNNCFRecommender import UserKNNCFRecommender\n",
    "from Data_manager.split_functions.split_train_validation_random_holdout import split_train_in_two_percentage_global_sample\n",
    "from Recommenders.SLIM.SLIMElasticNetRecommender import MultiThreadSLIM_SLIMElasticNetRecommender, SLIMElasticNetRecommender\n",
    "from Evaluation.Evaluator import EvaluatorHoldout\n",
    "from Recommenders.MatrixFactorization.IALSRecommender import IALSRecommender\n",
    "from Recommenders.MatrixFactorization.PureSVDRecommender import PureSVDRecommender, PureSVDItemRecommender, ScaledPureSVDRecommender\n",
    "from Recommenders.KNN.ItemKNNCFRecommender import ItemKNNCFRecommender\n",
    "from Recommenders.KNN.UserKNNCFRecommender import UserKNNCFRecommender\n",
    "from Recommenders.KNN.ItemKNNSimilarityHybridRecommender import ItemKNNSimilarityHybridRecommender\n",
    "from Recommenders.KNN.ItemKNNCustomSimilarityRecommender import ItemKNNCustomSimilarityRecommender\n",
    "from Recommenders.EASE_R.EASE_R_Recommender import EASE_R_Recommender\n",
    "from Recommenders.Neural.MultVAERecommender import MultVAERecommender\n",
    "from Recommenders.GraphBased.RP3betaRecommender import RP3betaRecommender\n",
    "from Recommenders.GraphBased.P3alphaRecommender import P3alphaRecommender\n",
    "from Recommenders.SLIM.SLIM_BPR_Python import SLIM_BPR_Python\n",
    "from Recommenders.MatrixFactorization.NMFRecommender import NMFRecommender\n",
    "from Recommenders.BaseRecommender import BaseRecommender\n",
    "\n",
    "from Recommenders.Hybrid.LinearCombinationRecommender import LinearCombinationRecommender\n",
    "from Data_manager.CrossValidationSplitter import CrossValidationSplitter\n",
    "\n",
    "np.int = int\n",
    "np.random.seed(42)\n",
    "np.bool = bool\n",
    "np.float = float"
   ]
  },
  {
   "cell_type": "code",
   "execution_count": 7,
   "id": "06a10cce",
   "metadata": {
    "execution": {
     "iopub.execute_input": "2023-12-05T14:16:14.133995Z",
     "iopub.status.busy": "2023-12-05T14:16:14.133040Z",
     "iopub.status.idle": "2023-12-05T14:16:15.049339Z",
     "shell.execute_reply": "2023-12-05T14:16:15.048006Z"
    },
    "papermill": {
     "duration": 0.936307,
     "end_time": "2023-12-05T14:16:15.052558",
     "exception": false,
     "start_time": "2023-12-05T14:16:14.116251",
     "status": "completed"
    },
    "tags": []
   },
   "outputs": [
    {
     "name": "stdout",
     "output_type": "stream",
     "text": [
      "Repository found\n"
     ]
    }
   ],
   "source": [
    "from github import Github\n",
    "from github import Auth\n",
    "\n",
    "auth = Auth.Token(token)\n",
    "g = Github(auth=auth)\n",
    "\n",
    "repo = None\n",
    "for r in g.get_user().get_repos():\n",
    "    if r.name == 'Recsys_Challenge_2023':\n",
    "        repo = r\n",
    "        print('Repository found')"
   ]
  },
  {
   "cell_type": "code",
   "execution_count": 8,
   "id": "4e1c23c7",
   "metadata": {
    "execution": {
     "iopub.execute_input": "2023-12-05T14:16:15.088862Z",
     "iopub.status.busy": "2023-12-05T14:16:15.088411Z",
     "iopub.status.idle": "2023-12-05T14:16:15.096451Z",
     "shell.execute_reply": "2023-12-05T14:16:15.094274Z"
    },
    "papermill": {
     "duration": 0.028358,
     "end_time": "2023-12-05T14:16:15.099366",
     "exception": false,
     "start_time": "2023-12-05T14:16:15.071008",
     "status": "completed"
    },
    "tags": []
   },
   "outputs": [],
   "source": [
    "def upload_file(filepath_kaggle, filepath_github, commit_message):\n",
    "    try:\n",
    "        contents = repo.get_contents(filepath_github)\n",
    "        with open(filepath_kaggle, \"rb\") as file:\n",
    "            repo.update_file(contents.path, commit_message, file.read(), contents.sha)\n",
    "    except Exception:\n",
    "        with open(filepath_kaggle, \"rb\") as file:\n",
    "            repo.create_file(filepath_github, commit_message, file.read())"
   ]
  },
  {
   "cell_type": "code",
   "execution_count": 9,
   "id": "777a1b79",
   "metadata": {
    "execution": {
     "iopub.execute_input": "2023-12-05T14:16:15.134707Z",
     "iopub.status.busy": "2023-12-05T14:16:15.133904Z",
     "iopub.status.idle": "2023-12-05T14:16:15.140189Z",
     "shell.execute_reply": "2023-12-05T14:16:15.138834Z"
    },
    "papermill": {
     "duration": 0.027205,
     "end_time": "2023-12-05T14:16:15.142677",
     "exception": false,
     "start_time": "2023-12-05T14:16:15.115472",
     "status": "completed"
    },
    "tags": []
   },
   "outputs": [],
   "source": [
    "config = {\n",
    "    'tune_parameters': True,\n",
    "    'database_path': '/kaggle/working/tuning_hybrid_linear_comb.db',\n",
    "    'copy_prev_tuning_db': True,\n",
    "    'copy_prev_best_params': True,\n",
    "    'save_github': True\n",
    "}"
   ]
  },
  {
   "cell_type": "code",
   "execution_count": 10,
   "id": "e141fad0",
   "metadata": {
    "execution": {
     "iopub.execute_input": "2023-12-05T14:16:15.177254Z",
     "iopub.status.busy": "2023-12-05T14:16:15.176588Z",
     "iopub.status.idle": "2023-12-05T14:16:15.416501Z",
     "shell.execute_reply": "2023-12-05T14:16:15.415664Z"
    },
    "papermill": {
     "duration": 0.260006,
     "end_time": "2023-12-05T14:16:15.418811",
     "exception": false,
     "start_time": "2023-12-05T14:16:15.158805",
     "status": "completed"
    },
    "tags": []
   },
   "outputs": [],
   "source": [
    "train_data = pd.read_csv('/kaggle/input/recommender-system-2023-challenge-polimi/data_train.csv')\n",
    "user_ids_test = pd.read_csv('/kaggle/input/recommender-system-2023-challenge-polimi/data_target_users_test.csv')"
   ]
  },
  {
   "cell_type": "code",
   "execution_count": 11,
   "id": "0f6ff2bd",
   "metadata": {
    "execution": {
     "iopub.execute_input": "2023-12-05T14:16:15.452483Z",
     "iopub.status.busy": "2023-12-05T14:16:15.451884Z",
     "iopub.status.idle": "2023-12-05T14:16:15.487233Z",
     "shell.execute_reply": "2023-12-05T14:16:15.485789Z"
    },
    "papermill": {
     "duration": 0.05556,
     "end_time": "2023-12-05T14:16:15.489806",
     "exception": false,
     "start_time": "2023-12-05T14:16:15.434246",
     "status": "completed"
    },
    "tags": []
   },
   "outputs": [
    {
     "data": {
      "text/plain": [
       "<13024x22347 sparse matrix of type '<class 'numpy.float64'>'\n",
       "\twith 478730 stored elements in Compressed Sparse Row format>"
      ]
     },
     "execution_count": 11,
     "metadata": {},
     "output_type": "execute_result"
    }
   ],
   "source": [
    "URM_all = sps.csr_matrix((train_data.data.values,\n",
    "                          ((train_data.row - 1).values, (train_data.col - 1).values)),\n",
    "                        shape=(train_data.row.max(), train_data.col.max()))\n",
    "URM_all"
   ]
  },
  {
   "cell_type": "code",
   "execution_count": 12,
   "id": "427b2646",
   "metadata": {
    "execution": {
     "iopub.execute_input": "2023-12-05T14:16:15.587711Z",
     "iopub.status.busy": "2023-12-05T14:16:15.587344Z",
     "iopub.status.idle": "2023-12-05T14:16:16.447619Z",
     "shell.execute_reply": "2023-12-05T14:16:16.446077Z"
    },
    "papermill": {
     "duration": 0.879453,
     "end_time": "2023-12-05T14:16:16.450206",
     "exception": false,
     "start_time": "2023-12-05T14:16:15.570753",
     "status": "completed"
    },
    "tags": []
   },
   "outputs": [
    {
     "name": "stdout",
     "output_type": "stream",
     "text": [
      "Warning: 627 (4.81 %) of 13024 users have no train items\n",
      "Warning: 2568 (19.72 %) of 13024 users have no sampled items\n",
      "Warning: 2953 (22.67 %) of 13024 users have no train items\n",
      "Warning: 6367 (48.89 %) of 13024 users have no sampled items\n"
     ]
    }
   ],
   "source": [
    "URM_train, URM_test_complete = split_train_in_two_percentage_global_sample(URM_all, train_percentage = 0.8)\n",
    "URM_validation, URM_test = split_train_in_two_percentage_global_sample(URM_test_complete, train_percentage = 0.8)"
   ]
  },
  {
   "cell_type": "code",
   "execution_count": 13,
   "id": "70e3e694",
   "metadata": {
    "execution": {
     "iopub.execute_input": "2023-12-05T14:16:16.487875Z",
     "iopub.status.busy": "2023-12-05T14:16:16.487160Z",
     "iopub.status.idle": "2023-12-05T14:16:16.494195Z",
     "shell.execute_reply": "2023-12-05T14:16:16.492808Z"
    },
    "papermill": {
     "duration": 0.029826,
     "end_time": "2023-12-05T14:16:16.496927",
     "exception": false,
     "start_time": "2023-12-05T14:16:16.467101",
     "status": "completed"
    },
    "tags": []
   },
   "outputs": [
    {
     "data": {
      "text/plain": [
       "{'topK': 14,\n",
       " 'shrink': 25,\n",
       " 'similarity': 'tversky',\n",
       " 'tversky_alpha': 0.18163095712123836,\n",
       " 'tversky_beta': 1.8529812241698465}"
      ]
     },
     "execution_count": 13,
     "metadata": {},
     "output_type": "execute_result"
    }
   ],
   "source": [
    "with open('/kaggle/working/Recsys_Challenge_2023/tuning_results/best_params_knn_item.json', 'r') as params_file:\n",
    "    params_item_knn = json.load(params_file)\n",
    "params_item_knn"
   ]
  },
  {
   "cell_type": "code",
   "execution_count": 14,
   "id": "ddd11ec4",
   "metadata": {
    "execution": {
     "iopub.execute_input": "2023-12-05T14:16:16.532266Z",
     "iopub.status.busy": "2023-12-05T14:16:16.531631Z",
     "iopub.status.idle": "2023-12-05T14:16:16.541443Z",
     "shell.execute_reply": "2023-12-05T14:16:16.540141Z"
    },
    "papermill": {
     "duration": 0.03023,
     "end_time": "2023-12-05T14:16:16.544003",
     "exception": false,
     "start_time": "2023-12-05T14:16:16.513773",
     "status": "completed"
    },
    "tags": []
   },
   "outputs": [
    {
     "data": {
      "text/plain": [
       "{'alpha': 0.3408516511081212, 'beta': 0.1447198697205665, 'topK': 32}"
      ]
     },
     "execution_count": 14,
     "metadata": {},
     "output_type": "execute_result"
    }
   ],
   "source": [
    "with open('/kaggle/working/Recsys_Challenge_2023/tuning_results/best_params_RP3.json', 'r') as params_file:\n",
    "    params_rp3 = json.load(params_file)\n",
    "params_rp3"
   ]
  },
  {
   "cell_type": "code",
   "execution_count": 15,
   "id": "0944d34e",
   "metadata": {
    "execution": {
     "iopub.execute_input": "2023-12-05T14:16:16.584142Z",
     "iopub.status.busy": "2023-12-05T14:16:16.583735Z",
     "iopub.status.idle": "2023-12-05T14:16:16.591822Z",
     "shell.execute_reply": "2023-12-05T14:16:16.590765Z"
    },
    "papermill": {
     "duration": 0.031789,
     "end_time": "2023-12-05T14:16:16.594576",
     "exception": false,
     "start_time": "2023-12-05T14:16:16.562787",
     "status": "completed"
    },
    "tags": []
   },
   "outputs": [
    {
     "data": {
      "text/plain": [
       "{'topK': 498,\n",
       " 'shrink': 0,\n",
       " 'similarity': 'asymmetric',\n",
       " 'asymmetric_alpha': 0.39792525383867455}"
      ]
     },
     "execution_count": 15,
     "metadata": {},
     "output_type": "execute_result"
    }
   ],
   "source": [
    "with open('/kaggle/working/Recsys_Challenge_2023/tuning_results/best_params_knn_user.json', 'r') as params_file:\n",
    "    params_user_knn = json.load(params_file)\n",
    "params_user_knn"
   ]
  },
  {
   "cell_type": "code",
   "execution_count": 16,
   "id": "0187aa3f",
   "metadata": {
    "execution": {
     "iopub.execute_input": "2023-12-05T14:16:16.629401Z",
     "iopub.status.busy": "2023-12-05T14:16:16.629082Z",
     "iopub.status.idle": "2023-12-05T14:16:16.636062Z",
     "shell.execute_reply": "2023-12-05T14:16:16.634574Z"
    },
    "papermill": {
     "duration": 0.028053,
     "end_time": "2023-12-05T14:16:16.639214",
     "exception": false,
     "start_time": "2023-12-05T14:16:16.611161",
     "status": "completed"
    },
    "tags": []
   },
   "outputs": [
    {
     "data": {
      "text/plain": [
       "{'normalize_similarity': 'True',\n",
       " 'implicit': 'True',\n",
       " 'alpha': 0.29354071531607107,\n",
       " 'topK': 49}"
      ]
     },
     "execution_count": 16,
     "metadata": {},
     "output_type": "execute_result"
    }
   ],
   "source": [
    "with open('/kaggle/working/Recsys_Challenge_2023/tuning_results/best_params_alpha.json', 'r') as params_file:\n",
    "    params_p3alpha = json.load(params_file)\n",
    "params_p3alpha"
   ]
  },
  {
   "cell_type": "code",
   "execution_count": 17,
   "id": "068f60ca",
   "metadata": {
    "execution": {
     "iopub.execute_input": "2023-12-05T14:16:16.675291Z",
     "iopub.status.busy": "2023-12-05T14:16:16.674743Z",
     "iopub.status.idle": "2023-12-05T14:16:16.682597Z",
     "shell.execute_reply": "2023-12-05T14:16:16.680851Z"
    },
    "papermill": {
     "duration": 0.029362,
     "end_time": "2023-12-05T14:16:16.685247",
     "exception": false,
     "start_time": "2023-12-05T14:16:16.655885",
     "status": "completed"
    },
    "tags": []
   },
   "outputs": [
    {
     "data": {
      "text/plain": [
       "{'alpha': 0.3375591188839621, 'topK': 86}"
      ]
     },
     "execution_count": 17,
     "metadata": {},
     "output_type": "execute_result"
    }
   ],
   "source": [
    "with open('/kaggle/working/Recsys_Challenge_2023/tuning_results/best_params_hybrid_merging.json', 'r') as params_file:\n",
    "    params_merging = json.load(params_file)\n",
    "params_merging"
   ]
  },
  {
   "cell_type": "code",
   "execution_count": 18,
   "id": "846290e8",
   "metadata": {
    "execution": {
     "iopub.execute_input": "2023-12-05T14:16:16.719915Z",
     "iopub.status.busy": "2023-12-05T14:16:16.719562Z",
     "iopub.status.idle": "2023-12-05T14:16:16.726370Z",
     "shell.execute_reply": "2023-12-05T14:16:16.725362Z"
    },
    "papermill": {
     "duration": 0.026447,
     "end_time": "2023-12-05T14:16:16.728183",
     "exception": false,
     "start_time": "2023-12-05T14:16:16.701736",
     "status": "completed"
    },
    "tags": []
   },
   "outputs": [
    {
     "data": {
      "text/plain": [
       "{'factors': 30}"
      ]
     },
     "execution_count": 18,
     "metadata": {},
     "output_type": "execute_result"
    }
   ],
   "source": [
    "with open('/kaggle/working/Recsys_Challenge_2023/tuning_results/pure_svd_params.json', 'r') as params_file:\n",
    "    params_pure_svd = json.load(params_file)\n",
    "params_pure_svd"
   ]
  },
  {
   "cell_type": "code",
   "execution_count": 19,
   "id": "2ede9477",
   "metadata": {
    "execution": {
     "iopub.execute_input": "2023-12-05T14:16:16.764296Z",
     "iopub.status.busy": "2023-12-05T14:16:16.763915Z",
     "iopub.status.idle": "2023-12-05T14:16:16.770116Z",
     "shell.execute_reply": "2023-12-05T14:16:16.769221Z"
    },
    "papermill": {
     "duration": 0.02639,
     "end_time": "2023-12-05T14:16:16.772019",
     "exception": false,
     "start_time": "2023-12-05T14:16:16.745629",
     "status": "completed"
    },
    "tags": []
   },
   "outputs": [],
   "source": [
    "# with open('/kaggle/working/Recsys_Challenge_2023/tuning_results/best_params_puresvd_item.json', 'r') as params_file:\n",
    "#     params_pure_svd_item = json.load(params_file)\n",
    "params_pure_svd_item = {\"topK\": 43, \"num_factors\": 171}"
   ]
  },
  {
   "cell_type": "code",
   "execution_count": 20,
   "id": "f5abea2e",
   "metadata": {
    "execution": {
     "iopub.execute_input": "2023-12-05T14:16:16.810555Z",
     "iopub.status.busy": "2023-12-05T14:16:16.810186Z",
     "iopub.status.idle": "2023-12-05T14:16:16.818290Z",
     "shell.execute_reply": "2023-12-05T14:16:16.817134Z"
    },
    "papermill": {
     "duration": 0.02867,
     "end_time": "2023-12-05T14:16:16.820327",
     "exception": false,
     "start_time": "2023-12-05T14:16:16.791657",
     "status": "completed"
    },
    "tags": []
   },
   "outputs": [
    {
     "data": {
      "text/plain": [
       "{'num_factors': 179,\n",
       " 'scaling_items': 5.3298425368534826e-05,\n",
       " 'scaling_users': 0.2791990262721904}"
      ]
     },
     "execution_count": 20,
     "metadata": {},
     "output_type": "execute_result"
    }
   ],
   "source": [
    "with open('/kaggle/working/Recsys_Challenge_2023/tuning_results/best_params_puresvd_scaled.json', 'r') as params_file:\n",
    "    params_scaled = json.load(params_file)\n",
    "params_scaled"
   ]
  },
  {
   "cell_type": "code",
   "execution_count": 21,
   "id": "ecb29ffd",
   "metadata": {
    "execution": {
     "iopub.execute_input": "2023-12-05T14:16:16.856692Z",
     "iopub.status.busy": "2023-12-05T14:16:16.856292Z",
     "iopub.status.idle": "2023-12-05T14:16:18.385582Z",
     "shell.execute_reply": "2023-12-05T14:16:18.384670Z"
    },
    "papermill": {
     "duration": 1.550638,
     "end_time": "2023-12-05T14:16:18.388226",
     "exception": false,
     "start_time": "2023-12-05T14:16:16.837588",
     "status": "completed"
    },
    "tags": []
   },
   "outputs": [
    {
     "data": {
      "text/plain": [
       "'/kaggle/working/ials_all.zip'"
      ]
     },
     "execution_count": 21,
     "metadata": {},
     "output_type": "execute_result"
    }
   ],
   "source": [
    "shutil.copyfile(\n",
    "    '/kaggle/input/training-tuned-models/ials_train_validation.zip', \n",
    "    '/kaggle/working/ials_train_validation.zip', \n",
    ")\n",
    "shutil.copyfile(\n",
    "    '/kaggle/input/training-tuned-models/ials_train_validation.zip', \n",
    "    '/kaggle/working/ials_all.zip', \n",
    ")"
   ]
  },
  {
   "cell_type": "code",
   "execution_count": 22,
   "id": "ef23a914",
   "metadata": {
    "execution": {
     "iopub.execute_input": "2023-12-05T14:16:18.429698Z",
     "iopub.status.busy": "2023-12-05T14:16:18.428761Z",
     "iopub.status.idle": "2023-12-05T14:17:13.952224Z",
     "shell.execute_reply": "2023-12-05T14:17:13.950391Z"
    },
    "papermill": {
     "duration": 55.543514,
     "end_time": "2023-12-05T14:17:13.954864",
     "exception": false,
     "start_time": "2023-12-05T14:16:18.411350",
     "status": "completed"
    },
    "tags": []
   },
   "outputs": [
    {
     "name": "stdout",
     "output_type": "stream",
     "text": [
      "ItemKNNCFRecommender: URM Detected 627 ( 4.8%) users with no interactions.\n",
      "ItemKNNCFRecommender: URM Detected 247 ( 1.1%) items with no interactions.\n",
      "Similarity column 22347 (100.0%), 6514.72 column/sec. Elapsed time 3.43 sec\n",
      "UserKNNCFRecommender: URM Detected 627 ( 4.8%) users with no interactions.\n",
      "UserKNNCFRecommender: URM Detected 247 ( 1.1%) items with no interactions.\n",
      "Similarity column 13024 (100.0%), 5661.99 column/sec. Elapsed time 2.30 sec\n",
      "RP3betaRecommender: URM Detected 627 ( 4.8%) users with no interactions.\n",
      "RP3betaRecommender: URM Detected 247 ( 1.1%) items with no interactions.\n",
      "RP3betaRecommender: Similarity column 22347 (100.0%), 4251.95 column/sec. Elapsed time 5.26 sec\n",
      "P3alphaRecommender: URM Detected 627 ( 4.8%) users with no interactions.\n",
      "P3alphaRecommender: URM Detected 247 ( 1.1%) items with no interactions.\n",
      "P3alphaRecommender: Similarity column 22347 (100.0%), 4309.84 column/sec. Elapsed time 5.19 sec\n",
      "PureSVDRecommender: URM Detected 627 ( 4.8%) users with no interactions.\n",
      "PureSVDRecommender: URM Detected 247 ( 1.1%) items with no interactions.\n",
      "PureSVDRecommender: Computing SVD decomposition...\n",
      "PureSVDRecommender: Computing SVD decomposition... done in 0.41 sec\n",
      "PureSVDItemRecommender: URM Detected 627 ( 4.8%) users with no interactions.\n",
      "PureSVDItemRecommender: URM Detected 247 ( 1.1%) items with no interactions.\n",
      "PureSVDItemRecommender: Computing SVD decomposition...\n",
      "PureSVDItemRecommender: Computing SVD decomposition... Done!\n",
      "ScaledPureSVDRecommender: URM Detected 627 ( 4.8%) users with no interactions.\n",
      "ScaledPureSVDRecommender: URM Detected 247 ( 1.1%) items with no interactions.\n",
      "ScaledPureSVDRecommender: Computing SVD decomposition...\n",
      "ScaledPureSVDRecommender: Computing SVD decomposition... done in 4.35 sec\n",
      "NMFRecommender: URM Detected 627 ( 4.8%) users with no interactions.\n",
      "NMFRecommender: URM Detected 247 ( 1.1%) items with no interactions.\n",
      "NMFRecommender: Loading model from file '/kaggle/working/Recsys_Challenge_2023/models/nmf_train_validation.zip'\n",
      "NMFRecommender: Loading complete\n",
      "Recommender_Base_Class: URM Detected 627 ( 4.8%) users with no interactions.\n",
      "Recommender_Base_Class: URM Detected 247 ( 1.1%) items with no interactions.\n",
      "Recommender_Base_Class: Loading model from file '/kaggle/working/Recsys_Challenge_2023/models/slim_bpr_train_validation.zip'\n",
      "Recommender_Base_Class: Loading complete\n",
      "SLIMElasticNetRecommender: URM Detected 627 ( 4.8%) users with no interactions.\n",
      "SLIMElasticNetRecommender: URM Detected 247 ( 1.1%) items with no interactions.\n",
      "SLIMElasticNetRecommender: Loading model from file '/kaggle/working/Recsys_Challenge_2023/models/slim_elastic_train_validation.zip'\n",
      "SLIMElasticNetRecommender: Loading complete\n",
      "EASE_R_Recommender: URM Detected 627 ( 4.8%) users with no interactions.\n",
      "EASE_R_Recommender: URM Detected 247 ( 1.1%) items with no interactions.\n",
      "EASE_R_Recommender: Loading model from file '/kaggle/working/Recsys_Challenge_2023/models/ease_r_train_validation.zip'\n",
      "EASE_R_Recommender: Loading complete\n",
      "IALSRecommender: URM Detected 627 ( 4.8%) users with no interactions.\n",
      "IALSRecommender: URM Detected 247 ( 1.1%) items with no interactions.\n",
      "IALSRecommender: Loading model from file '/kaggle/working/ials_train_validation.zip'\n",
      "IALSRecommender: Loading complete\n",
      "ItemKNNSimilarityHybridRecommender: URM Detected 627 ( 4.8%) users with no interactions.\n",
      "ItemKNNSimilarityHybridRecommender: URM Detected 247 ( 1.1%) items with no interactions.\n"
     ]
    }
   ],
   "source": [
    "recommender_item = ItemKNNCFRecommender(URM_train)\n",
    "recommender_item.fit(**params_item_knn)\n",
    "\n",
    "recommender_user = UserKNNCFRecommender(URM_train)\n",
    "recommender_user.fit(**params_user_knn)\n",
    "\n",
    "recommender_rp3 = RP3betaRecommender(URM_train)\n",
    "recommender_rp3.fit(**params_rp3)\n",
    "\n",
    "recommender_p3a = P3alphaRecommender(URM_train)\n",
    "recommender_p3a.fit(**params_p3alpha)\n",
    "\n",
    "recommender_pure_svd = PureSVDRecommender(URM_train)\n",
    "recommender_pure_svd.fit(num_factors=params_pure_svd['factors'])\n",
    "\n",
    "recommender_pure_svd_item = PureSVDItemRecommender(URM_train)\n",
    "recommender_pure_svd_item.fit(**params_pure_svd_item)\n",
    "\n",
    "recommender_scaled_svd = ScaledPureSVDRecommender(URM_train)\n",
    "recommender_scaled_svd.fit(**params_scaled) \n",
    "\n",
    "recommender_nmf = NMFRecommender(URM_train)\n",
    "recommender_nmf.load_model('/kaggle/working/Recsys_Challenge_2023/models/', 'nmf_train_validation.zip')\n",
    "\n",
    "recommender_slim_bpr = SLIM_BPR_Python(URM_train)\n",
    "recommender_slim_bpr.load_model('/kaggle/working/Recsys_Challenge_2023/models/', 'slim_bpr_train_validation.zip')\n",
    "\n",
    "recommender_slim = SLIMElasticNetRecommender(URM_train)\n",
    "recommender_slim.load_model('/kaggle/working/Recsys_Challenge_2023/models/', 'slim_elastic_train_validation.zip')\n",
    "\n",
    "recommender_ease_r = EASE_R_Recommender(URM_train)\n",
    "recommender_ease_r.load_model('/kaggle/working/Recsys_Challenge_2023/models/', 'ease_r_train_validation.zip')\n",
    "\n",
    "recommender_ials = IALSRecommender(URM_train)\n",
    "recommender_ials.load_model('/kaggle/working/', 'ials_train_validation.zip')\n",
    "\n",
    "hybrid_similarity = ItemKNNSimilarityHybridRecommender(URM_train, recommender_item.W_sparse, recommender_rp3.W_sparse)\n",
    "hybrid_similarity.fit(**params_merging)"
   ]
  },
  {
   "cell_type": "code",
   "execution_count": 23,
   "id": "6f9157be",
   "metadata": {
    "execution": {
     "iopub.execute_input": "2023-12-05T14:17:13.997210Z",
     "iopub.status.busy": "2023-12-05T14:17:13.996208Z",
     "iopub.status.idle": "2023-12-05T14:19:29.299088Z",
     "shell.execute_reply": "2023-12-05T14:19:29.297071Z"
    },
    "papermill": {
     "duration": 135.32829,
     "end_time": "2023-12-05T14:19:29.303385",
     "exception": false,
     "start_time": "2023-12-05T14:17:13.975095",
     "status": "completed"
    },
    "tags": []
   },
   "outputs": [
    {
     "name": "stdout",
     "output_type": "stream",
     "text": [
      "Recommender_Base_Class: URM Detected 627 ( 4.8%) users with no interactions.\n",
      "Recommender_Base_Class: URM Detected 247 ( 1.1%) items with no interactions.\n",
      "EvaluatorHoldout: Ignoring 2568 (19.7%) Users that have less than 1 test interactions\n",
      "Linear Combinator (Item knn, p3alpha, rp3)\n",
      "EvaluatorHoldout: Processed 10456 (100.0%) in 20.69 sec. Users per second: 505\n"
     ]
    },
    {
     "data": {
      "text/html": [
       "<div>\n",
       "<style scoped>\n",
       "    .dataframe tbody tr th:only-of-type {\n",
       "        vertical-align: middle;\n",
       "    }\n",
       "\n",
       "    .dataframe tbody tr th {\n",
       "        vertical-align: top;\n",
       "    }\n",
       "\n",
       "    .dataframe thead th {\n",
       "        text-align: right;\n",
       "    }\n",
       "</style>\n",
       "<table border=\"1\" class=\"dataframe\">\n",
       "  <thead>\n",
       "    <tr style=\"text-align: right;\">\n",
       "      <th></th>\n",
       "      <th>PRECISION</th>\n",
       "      <th>PRECISION_RECALL_MIN_DEN</th>\n",
       "      <th>RECALL</th>\n",
       "      <th>MAP</th>\n",
       "      <th>MAP_MIN_DEN</th>\n",
       "      <th>MRR</th>\n",
       "      <th>NDCG</th>\n",
       "      <th>F1</th>\n",
       "      <th>HIT_RATE</th>\n",
       "      <th>ARHR_ALL_HITS</th>\n",
       "      <th>...</th>\n",
       "      <th>COVERAGE_USER</th>\n",
       "      <th>COVERAGE_USER_HIT</th>\n",
       "      <th>USERS_IN_GT</th>\n",
       "      <th>DIVERSITY_GINI</th>\n",
       "      <th>SHANNON_ENTROPY</th>\n",
       "      <th>RATIO_DIVERSITY_HERFINDAHL</th>\n",
       "      <th>RATIO_DIVERSITY_GINI</th>\n",
       "      <th>RATIO_SHANNON_ENTROPY</th>\n",
       "      <th>RATIO_AVERAGE_POPULARITY</th>\n",
       "      <th>RATIO_NOVELTY</th>\n",
       "    </tr>\n",
       "    <tr>\n",
       "      <th>cutoff</th>\n",
       "      <th></th>\n",
       "      <th></th>\n",
       "      <th></th>\n",
       "      <th></th>\n",
       "      <th></th>\n",
       "      <th></th>\n",
       "      <th></th>\n",
       "      <th></th>\n",
       "      <th></th>\n",
       "      <th></th>\n",
       "      <th></th>\n",
       "      <th></th>\n",
       "      <th></th>\n",
       "      <th></th>\n",
       "      <th></th>\n",
       "      <th></th>\n",
       "      <th></th>\n",
       "      <th></th>\n",
       "      <th></th>\n",
       "      <th></th>\n",
       "      <th></th>\n",
       "    </tr>\n",
       "  </thead>\n",
       "  <tbody>\n",
       "    <tr>\n",
       "      <th>10</th>\n",
       "      <td>0.096538</td>\n",
       "      <td>0.165157</td>\n",
       "      <td>0.138974</td>\n",
       "      <td>0.049938</td>\n",
       "      <td>0.085155</td>\n",
       "      <td>0.27383</td>\n",
       "      <td>0.152219</td>\n",
       "      <td>0.113933</td>\n",
       "      <td>0.517215</td>\n",
       "      <td>0.36479</td>\n",
       "      <td>...</td>\n",
       "      <td>0.802826</td>\n",
       "      <td>0.415233</td>\n",
       "      <td>0.802826</td>\n",
       "      <td>0.079362</td>\n",
       "      <td>10.588395</td>\n",
       "      <td>0.998316</td>\n",
       "      <td>0.22899</td>\n",
       "      <td>0.815689</td>\n",
       "      <td>1.562376</td>\n",
       "      <td>0.307388</td>\n",
       "    </tr>\n",
       "  </tbody>\n",
       "</table>\n",
       "<p>1 rows × 27 columns</p>\n",
       "</div>"
      ],
      "text/plain": [
       "       PRECISION PRECISION_RECALL_MIN_DEN    RECALL       MAP MAP_MIN_DEN  \\\n",
       "cutoff                                                                      \n",
       "10      0.096538                 0.165157  0.138974  0.049938    0.085155   \n",
       "\n",
       "            MRR      NDCG        F1  HIT_RATE ARHR_ALL_HITS  ...  \\\n",
       "cutoff                                                       ...   \n",
       "10      0.27383  0.152219  0.113933  0.517215       0.36479  ...   \n",
       "\n",
       "       COVERAGE_USER COVERAGE_USER_HIT USERS_IN_GT DIVERSITY_GINI  \\\n",
       "cutoff                                                              \n",
       "10          0.802826          0.415233    0.802826       0.079362   \n",
       "\n",
       "       SHANNON_ENTROPY RATIO_DIVERSITY_HERFINDAHL RATIO_DIVERSITY_GINI  \\\n",
       "cutoff                                                                   \n",
       "10           10.588395                   0.998316              0.22899   \n",
       "\n",
       "       RATIO_SHANNON_ENTROPY RATIO_AVERAGE_POPULARITY RATIO_NOVELTY  \n",
       "cutoff                                                               \n",
       "10                  0.815689                 1.562376      0.307388  \n",
       "\n",
       "[1 rows x 27 columns]"
      ]
     },
     "metadata": {},
     "output_type": "display_data"
    },
    {
     "name": "stdout",
     "output_type": "stream",
     "text": [
      "Merging Models\n",
      "EvaluatorHoldout: Processed 10456 (100.0%) in 10.53 sec. Users per second: 993\n"
     ]
    },
    {
     "data": {
      "text/html": [
       "<div>\n",
       "<style scoped>\n",
       "    .dataframe tbody tr th:only-of-type {\n",
       "        vertical-align: middle;\n",
       "    }\n",
       "\n",
       "    .dataframe tbody tr th {\n",
       "        vertical-align: top;\n",
       "    }\n",
       "\n",
       "    .dataframe thead th {\n",
       "        text-align: right;\n",
       "    }\n",
       "</style>\n",
       "<table border=\"1\" class=\"dataframe\">\n",
       "  <thead>\n",
       "    <tr style=\"text-align: right;\">\n",
       "      <th></th>\n",
       "      <th>PRECISION</th>\n",
       "      <th>PRECISION_RECALL_MIN_DEN</th>\n",
       "      <th>RECALL</th>\n",
       "      <th>MAP</th>\n",
       "      <th>MAP_MIN_DEN</th>\n",
       "      <th>MRR</th>\n",
       "      <th>NDCG</th>\n",
       "      <th>F1</th>\n",
       "      <th>HIT_RATE</th>\n",
       "      <th>ARHR_ALL_HITS</th>\n",
       "      <th>...</th>\n",
       "      <th>COVERAGE_USER</th>\n",
       "      <th>COVERAGE_USER_HIT</th>\n",
       "      <th>USERS_IN_GT</th>\n",
       "      <th>DIVERSITY_GINI</th>\n",
       "      <th>SHANNON_ENTROPY</th>\n",
       "      <th>RATIO_DIVERSITY_HERFINDAHL</th>\n",
       "      <th>RATIO_DIVERSITY_GINI</th>\n",
       "      <th>RATIO_SHANNON_ENTROPY</th>\n",
       "      <th>RATIO_AVERAGE_POPULARITY</th>\n",
       "      <th>RATIO_NOVELTY</th>\n",
       "    </tr>\n",
       "    <tr>\n",
       "      <th>cutoff</th>\n",
       "      <th></th>\n",
       "      <th></th>\n",
       "      <th></th>\n",
       "      <th></th>\n",
       "      <th></th>\n",
       "      <th></th>\n",
       "      <th></th>\n",
       "      <th></th>\n",
       "      <th></th>\n",
       "      <th></th>\n",
       "      <th></th>\n",
       "      <th></th>\n",
       "      <th></th>\n",
       "      <th></th>\n",
       "      <th></th>\n",
       "      <th></th>\n",
       "      <th></th>\n",
       "      <th></th>\n",
       "      <th></th>\n",
       "      <th></th>\n",
       "      <th></th>\n",
       "    </tr>\n",
       "  </thead>\n",
       "  <tbody>\n",
       "    <tr>\n",
       "      <th>10</th>\n",
       "      <td>0.096595</td>\n",
       "      <td>0.165167</td>\n",
       "      <td>0.138965</td>\n",
       "      <td>0.050024</td>\n",
       "      <td>0.085384</td>\n",
       "      <td>0.274834</td>\n",
       "      <td>0.152525</td>\n",
       "      <td>0.11397</td>\n",
       "      <td>0.519702</td>\n",
       "      <td>0.365722</td>\n",
       "      <td>...</td>\n",
       "      <td>0.802826</td>\n",
       "      <td>0.41723</td>\n",
       "      <td>0.802826</td>\n",
       "      <td>0.083179</td>\n",
       "      <td>10.657938</td>\n",
       "      <td>0.998402</td>\n",
       "      <td>0.240004</td>\n",
       "      <td>0.821046</td>\n",
       "      <td>1.518592</td>\n",
       "      <td>0.309028</td>\n",
       "    </tr>\n",
       "  </tbody>\n",
       "</table>\n",
       "<p>1 rows × 27 columns</p>\n",
       "</div>"
      ],
      "text/plain": [
       "       PRECISION PRECISION_RECALL_MIN_DEN    RECALL       MAP MAP_MIN_DEN  \\\n",
       "cutoff                                                                      \n",
       "10      0.096595                 0.165167  0.138965  0.050024    0.085384   \n",
       "\n",
       "             MRR      NDCG       F1  HIT_RATE ARHR_ALL_HITS  ...  \\\n",
       "cutoff                                                       ...   \n",
       "10      0.274834  0.152525  0.11397  0.519702      0.365722  ...   \n",
       "\n",
       "       COVERAGE_USER COVERAGE_USER_HIT USERS_IN_GT DIVERSITY_GINI  \\\n",
       "cutoff                                                              \n",
       "10          0.802826           0.41723    0.802826       0.083179   \n",
       "\n",
       "       SHANNON_ENTROPY RATIO_DIVERSITY_HERFINDAHL RATIO_DIVERSITY_GINI  \\\n",
       "cutoff                                                                   \n",
       "10           10.657938                   0.998402             0.240004   \n",
       "\n",
       "       RATIO_SHANNON_ENTROPY RATIO_AVERAGE_POPULARITY RATIO_NOVELTY  \n",
       "cutoff                                                               \n",
       "10                  0.821046                 1.518592      0.309028  \n",
       "\n",
       "[1 rows x 27 columns]"
      ]
     },
     "metadata": {},
     "output_type": "display_data"
    },
    {
     "name": "stdout",
     "output_type": "stream",
     "text": [
      "Item KNN\n",
      "EvaluatorHoldout: Processed 10456 (100.0%) in 10.39 sec. Users per second: 1006\n"
     ]
    },
    {
     "data": {
      "text/html": [
       "<div>\n",
       "<style scoped>\n",
       "    .dataframe tbody tr th:only-of-type {\n",
       "        vertical-align: middle;\n",
       "    }\n",
       "\n",
       "    .dataframe tbody tr th {\n",
       "        vertical-align: top;\n",
       "    }\n",
       "\n",
       "    .dataframe thead th {\n",
       "        text-align: right;\n",
       "    }\n",
       "</style>\n",
       "<table border=\"1\" class=\"dataframe\">\n",
       "  <thead>\n",
       "    <tr style=\"text-align: right;\">\n",
       "      <th></th>\n",
       "      <th>PRECISION</th>\n",
       "      <th>PRECISION_RECALL_MIN_DEN</th>\n",
       "      <th>RECALL</th>\n",
       "      <th>MAP</th>\n",
       "      <th>MAP_MIN_DEN</th>\n",
       "      <th>MRR</th>\n",
       "      <th>NDCG</th>\n",
       "      <th>F1</th>\n",
       "      <th>HIT_RATE</th>\n",
       "      <th>ARHR_ALL_HITS</th>\n",
       "      <th>...</th>\n",
       "      <th>COVERAGE_USER</th>\n",
       "      <th>COVERAGE_USER_HIT</th>\n",
       "      <th>USERS_IN_GT</th>\n",
       "      <th>DIVERSITY_GINI</th>\n",
       "      <th>SHANNON_ENTROPY</th>\n",
       "      <th>RATIO_DIVERSITY_HERFINDAHL</th>\n",
       "      <th>RATIO_DIVERSITY_GINI</th>\n",
       "      <th>RATIO_SHANNON_ENTROPY</th>\n",
       "      <th>RATIO_AVERAGE_POPULARITY</th>\n",
       "      <th>RATIO_NOVELTY</th>\n",
       "    </tr>\n",
       "    <tr>\n",
       "      <th>cutoff</th>\n",
       "      <th></th>\n",
       "      <th></th>\n",
       "      <th></th>\n",
       "      <th></th>\n",
       "      <th></th>\n",
       "      <th></th>\n",
       "      <th></th>\n",
       "      <th></th>\n",
       "      <th></th>\n",
       "      <th></th>\n",
       "      <th></th>\n",
       "      <th></th>\n",
       "      <th></th>\n",
       "      <th></th>\n",
       "      <th></th>\n",
       "      <th></th>\n",
       "      <th></th>\n",
       "      <th></th>\n",
       "      <th></th>\n",
       "      <th></th>\n",
       "      <th></th>\n",
       "    </tr>\n",
       "  </thead>\n",
       "  <tbody>\n",
       "    <tr>\n",
       "      <th>10</th>\n",
       "      <td>0.09451</td>\n",
       "      <td>0.161146</td>\n",
       "      <td>0.135378</td>\n",
       "      <td>0.048719</td>\n",
       "      <td>0.082976</td>\n",
       "      <td>0.267977</td>\n",
       "      <td>0.148683</td>\n",
       "      <td>0.111312</td>\n",
       "      <td>0.511572</td>\n",
       "      <td>0.356662</td>\n",
       "      <td>...</td>\n",
       "      <td>0.802826</td>\n",
       "      <td>0.410703</td>\n",
       "      <td>0.802826</td>\n",
       "      <td>0.066309</td>\n",
       "      <td>10.283111</td>\n",
       "      <td>0.997789</td>\n",
       "      <td>0.191329</td>\n",
       "      <td>0.792171</td>\n",
       "      <td>1.734564</td>\n",
       "      <td>0.30426</td>\n",
       "    </tr>\n",
       "  </tbody>\n",
       "</table>\n",
       "<p>1 rows × 27 columns</p>\n",
       "</div>"
      ],
      "text/plain": [
       "       PRECISION PRECISION_RECALL_MIN_DEN    RECALL       MAP MAP_MIN_DEN  \\\n",
       "cutoff                                                                      \n",
       "10       0.09451                 0.161146  0.135378  0.048719    0.082976   \n",
       "\n",
       "             MRR      NDCG        F1  HIT_RATE ARHR_ALL_HITS  ...  \\\n",
       "cutoff                                                        ...   \n",
       "10      0.267977  0.148683  0.111312  0.511572      0.356662  ...   \n",
       "\n",
       "       COVERAGE_USER COVERAGE_USER_HIT USERS_IN_GT DIVERSITY_GINI  \\\n",
       "cutoff                                                              \n",
       "10          0.802826          0.410703    0.802826       0.066309   \n",
       "\n",
       "       SHANNON_ENTROPY RATIO_DIVERSITY_HERFINDAHL RATIO_DIVERSITY_GINI  \\\n",
       "cutoff                                                                   \n",
       "10           10.283111                   0.997789             0.191329   \n",
       "\n",
       "       RATIO_SHANNON_ENTROPY RATIO_AVERAGE_POPULARITY RATIO_NOVELTY  \n",
       "cutoff                                                               \n",
       "10                  0.792171                 1.734564       0.30426  \n",
       "\n",
       "[1 rows x 27 columns]"
      ]
     },
     "metadata": {},
     "output_type": "display_data"
    },
    {
     "name": "stdout",
     "output_type": "stream",
     "text": [
      "RP3 beta\n",
      "EvaluatorHoldout: Processed 10456 (100.0%) in 5.71 sec. Users per second: 1832\n"
     ]
    },
    {
     "data": {
      "text/html": [
       "<div>\n",
       "<style scoped>\n",
       "    .dataframe tbody tr th:only-of-type {\n",
       "        vertical-align: middle;\n",
       "    }\n",
       "\n",
       "    .dataframe tbody tr th {\n",
       "        vertical-align: top;\n",
       "    }\n",
       "\n",
       "    .dataframe thead th {\n",
       "        text-align: right;\n",
       "    }\n",
       "</style>\n",
       "<table border=\"1\" class=\"dataframe\">\n",
       "  <thead>\n",
       "    <tr style=\"text-align: right;\">\n",
       "      <th></th>\n",
       "      <th>PRECISION</th>\n",
       "      <th>PRECISION_RECALL_MIN_DEN</th>\n",
       "      <th>RECALL</th>\n",
       "      <th>MAP</th>\n",
       "      <th>MAP_MIN_DEN</th>\n",
       "      <th>MRR</th>\n",
       "      <th>NDCG</th>\n",
       "      <th>F1</th>\n",
       "      <th>HIT_RATE</th>\n",
       "      <th>ARHR_ALL_HITS</th>\n",
       "      <th>...</th>\n",
       "      <th>COVERAGE_USER</th>\n",
       "      <th>COVERAGE_USER_HIT</th>\n",
       "      <th>USERS_IN_GT</th>\n",
       "      <th>DIVERSITY_GINI</th>\n",
       "      <th>SHANNON_ENTROPY</th>\n",
       "      <th>RATIO_DIVERSITY_HERFINDAHL</th>\n",
       "      <th>RATIO_DIVERSITY_GINI</th>\n",
       "      <th>RATIO_SHANNON_ENTROPY</th>\n",
       "      <th>RATIO_AVERAGE_POPULARITY</th>\n",
       "      <th>RATIO_NOVELTY</th>\n",
       "    </tr>\n",
       "    <tr>\n",
       "      <th>cutoff</th>\n",
       "      <th></th>\n",
       "      <th></th>\n",
       "      <th></th>\n",
       "      <th></th>\n",
       "      <th></th>\n",
       "      <th></th>\n",
       "      <th></th>\n",
       "      <th></th>\n",
       "      <th></th>\n",
       "      <th></th>\n",
       "      <th></th>\n",
       "      <th></th>\n",
       "      <th></th>\n",
       "      <th></th>\n",
       "      <th></th>\n",
       "      <th></th>\n",
       "      <th></th>\n",
       "      <th></th>\n",
       "      <th></th>\n",
       "      <th></th>\n",
       "      <th></th>\n",
       "    </tr>\n",
       "  </thead>\n",
       "  <tbody>\n",
       "    <tr>\n",
       "      <th>10</th>\n",
       "      <td>0.095008</td>\n",
       "      <td>0.162969</td>\n",
       "      <td>0.137154</td>\n",
       "      <td>0.04916</td>\n",
       "      <td>0.084325</td>\n",
       "      <td>0.273626</td>\n",
       "      <td>0.150836</td>\n",
       "      <td>0.112255</td>\n",
       "      <td>0.517598</td>\n",
       "      <td>0.361989</td>\n",
       "      <td>...</td>\n",
       "      <td>0.802826</td>\n",
       "      <td>0.415541</td>\n",
       "      <td>0.802826</td>\n",
       "      <td>0.095265</td>\n",
       "      <td>10.876609</td>\n",
       "      <td>0.998685</td>\n",
       "      <td>0.274877</td>\n",
       "      <td>0.837892</td>\n",
       "      <td>1.348527</td>\n",
       "      <td>0.315394</td>\n",
       "    </tr>\n",
       "  </tbody>\n",
       "</table>\n",
       "<p>1 rows × 27 columns</p>\n",
       "</div>"
      ],
      "text/plain": [
       "       PRECISION PRECISION_RECALL_MIN_DEN    RECALL      MAP MAP_MIN_DEN  \\\n",
       "cutoff                                                                     \n",
       "10      0.095008                 0.162969  0.137154  0.04916    0.084325   \n",
       "\n",
       "             MRR      NDCG        F1  HIT_RATE ARHR_ALL_HITS  ...  \\\n",
       "cutoff                                                        ...   \n",
       "10      0.273626  0.150836  0.112255  0.517598      0.361989  ...   \n",
       "\n",
       "       COVERAGE_USER COVERAGE_USER_HIT USERS_IN_GT DIVERSITY_GINI  \\\n",
       "cutoff                                                              \n",
       "10          0.802826          0.415541    0.802826       0.095265   \n",
       "\n",
       "       SHANNON_ENTROPY RATIO_DIVERSITY_HERFINDAHL RATIO_DIVERSITY_GINI  \\\n",
       "cutoff                                                                   \n",
       "10           10.876609                   0.998685             0.274877   \n",
       "\n",
       "       RATIO_SHANNON_ENTROPY RATIO_AVERAGE_POPULARITY RATIO_NOVELTY  \n",
       "cutoff                                                               \n",
       "10                  0.837892                 1.348527      0.315394  \n",
       "\n",
       "[1 rows x 27 columns]"
      ]
     },
     "metadata": {},
     "output_type": "display_data"
    },
    {
     "name": "stdout",
     "output_type": "stream",
     "text": [
      "P3 alpha\n",
      "EvaluatorHoldout: Processed 10456 (100.0%) in 5.53 sec. Users per second: 1891\n"
     ]
    },
    {
     "data": {
      "text/html": [
       "<div>\n",
       "<style scoped>\n",
       "    .dataframe tbody tr th:only-of-type {\n",
       "        vertical-align: middle;\n",
       "    }\n",
       "\n",
       "    .dataframe tbody tr th {\n",
       "        vertical-align: top;\n",
       "    }\n",
       "\n",
       "    .dataframe thead th {\n",
       "        text-align: right;\n",
       "    }\n",
       "</style>\n",
       "<table border=\"1\" class=\"dataframe\">\n",
       "  <thead>\n",
       "    <tr style=\"text-align: right;\">\n",
       "      <th></th>\n",
       "      <th>PRECISION</th>\n",
       "      <th>PRECISION_RECALL_MIN_DEN</th>\n",
       "      <th>RECALL</th>\n",
       "      <th>MAP</th>\n",
       "      <th>MAP_MIN_DEN</th>\n",
       "      <th>MRR</th>\n",
       "      <th>NDCG</th>\n",
       "      <th>F1</th>\n",
       "      <th>HIT_RATE</th>\n",
       "      <th>ARHR_ALL_HITS</th>\n",
       "      <th>...</th>\n",
       "      <th>COVERAGE_USER</th>\n",
       "      <th>COVERAGE_USER_HIT</th>\n",
       "      <th>USERS_IN_GT</th>\n",
       "      <th>DIVERSITY_GINI</th>\n",
       "      <th>SHANNON_ENTROPY</th>\n",
       "      <th>RATIO_DIVERSITY_HERFINDAHL</th>\n",
       "      <th>RATIO_DIVERSITY_GINI</th>\n",
       "      <th>RATIO_SHANNON_ENTROPY</th>\n",
       "      <th>RATIO_AVERAGE_POPULARITY</th>\n",
       "      <th>RATIO_NOVELTY</th>\n",
       "    </tr>\n",
       "    <tr>\n",
       "      <th>cutoff</th>\n",
       "      <th></th>\n",
       "      <th></th>\n",
       "      <th></th>\n",
       "      <th></th>\n",
       "      <th></th>\n",
       "      <th></th>\n",
       "      <th></th>\n",
       "      <th></th>\n",
       "      <th></th>\n",
       "      <th></th>\n",
       "      <th></th>\n",
       "      <th></th>\n",
       "      <th></th>\n",
       "      <th></th>\n",
       "      <th></th>\n",
       "      <th></th>\n",
       "      <th></th>\n",
       "      <th></th>\n",
       "      <th></th>\n",
       "      <th></th>\n",
       "      <th></th>\n",
       "    </tr>\n",
       "  </thead>\n",
       "  <tbody>\n",
       "    <tr>\n",
       "      <th>10</th>\n",
       "      <td>0.092358</td>\n",
       "      <td>0.15618</td>\n",
       "      <td>0.130929</td>\n",
       "      <td>0.047745</td>\n",
       "      <td>0.081353</td>\n",
       "      <td>0.267656</td>\n",
       "      <td>0.146022</td>\n",
       "      <td>0.108312</td>\n",
       "      <td>0.507269</td>\n",
       "      <td>0.352674</td>\n",
       "      <td>...</td>\n",
       "      <td>0.802826</td>\n",
       "      <td>0.407248</td>\n",
       "      <td>0.802826</td>\n",
       "      <td>0.069984</td>\n",
       "      <td>10.530815</td>\n",
       "      <td>0.998437</td>\n",
       "      <td>0.201933</td>\n",
       "      <td>0.811253</td>\n",
       "      <td>1.356167</td>\n",
       "      <td>0.311674</td>\n",
       "    </tr>\n",
       "  </tbody>\n",
       "</table>\n",
       "<p>1 rows × 27 columns</p>\n",
       "</div>"
      ],
      "text/plain": [
       "       PRECISION PRECISION_RECALL_MIN_DEN    RECALL       MAP MAP_MIN_DEN  \\\n",
       "cutoff                                                                      \n",
       "10      0.092358                  0.15618  0.130929  0.047745    0.081353   \n",
       "\n",
       "             MRR      NDCG        F1  HIT_RATE ARHR_ALL_HITS  ...  \\\n",
       "cutoff                                                        ...   \n",
       "10      0.267656  0.146022  0.108312  0.507269      0.352674  ...   \n",
       "\n",
       "       COVERAGE_USER COVERAGE_USER_HIT USERS_IN_GT DIVERSITY_GINI  \\\n",
       "cutoff                                                              \n",
       "10          0.802826          0.407248    0.802826       0.069984   \n",
       "\n",
       "       SHANNON_ENTROPY RATIO_DIVERSITY_HERFINDAHL RATIO_DIVERSITY_GINI  \\\n",
       "cutoff                                                                   \n",
       "10           10.530815                   0.998437             0.201933   \n",
       "\n",
       "       RATIO_SHANNON_ENTROPY RATIO_AVERAGE_POPULARITY RATIO_NOVELTY  \n",
       "cutoff                                                               \n",
       "10                  0.811253                 1.356167      0.311674  \n",
       "\n",
       "[1 rows x 27 columns]"
      ]
     },
     "metadata": {},
     "output_type": "display_data"
    },
    {
     "name": "stdout",
     "output_type": "stream",
     "text": [
      "User KNN\n",
      "EvaluatorHoldout: Processed 10456 (100.0%) in 9.57 sec. Users per second: 1093\n"
     ]
    },
    {
     "data": {
      "text/html": [
       "<div>\n",
       "<style scoped>\n",
       "    .dataframe tbody tr th:only-of-type {\n",
       "        vertical-align: middle;\n",
       "    }\n",
       "\n",
       "    .dataframe tbody tr th {\n",
       "        vertical-align: top;\n",
       "    }\n",
       "\n",
       "    .dataframe thead th {\n",
       "        text-align: right;\n",
       "    }\n",
       "</style>\n",
       "<table border=\"1\" class=\"dataframe\">\n",
       "  <thead>\n",
       "    <tr style=\"text-align: right;\">\n",
       "      <th></th>\n",
       "      <th>PRECISION</th>\n",
       "      <th>PRECISION_RECALL_MIN_DEN</th>\n",
       "      <th>RECALL</th>\n",
       "      <th>MAP</th>\n",
       "      <th>MAP_MIN_DEN</th>\n",
       "      <th>MRR</th>\n",
       "      <th>NDCG</th>\n",
       "      <th>F1</th>\n",
       "      <th>HIT_RATE</th>\n",
       "      <th>ARHR_ALL_HITS</th>\n",
       "      <th>...</th>\n",
       "      <th>COVERAGE_USER</th>\n",
       "      <th>COVERAGE_USER_HIT</th>\n",
       "      <th>USERS_IN_GT</th>\n",
       "      <th>DIVERSITY_GINI</th>\n",
       "      <th>SHANNON_ENTROPY</th>\n",
       "      <th>RATIO_DIVERSITY_HERFINDAHL</th>\n",
       "      <th>RATIO_DIVERSITY_GINI</th>\n",
       "      <th>RATIO_SHANNON_ENTROPY</th>\n",
       "      <th>RATIO_AVERAGE_POPULARITY</th>\n",
       "      <th>RATIO_NOVELTY</th>\n",
       "    </tr>\n",
       "    <tr>\n",
       "      <th>cutoff</th>\n",
       "      <th></th>\n",
       "      <th></th>\n",
       "      <th></th>\n",
       "      <th></th>\n",
       "      <th></th>\n",
       "      <th></th>\n",
       "      <th></th>\n",
       "      <th></th>\n",
       "      <th></th>\n",
       "      <th></th>\n",
       "      <th></th>\n",
       "      <th></th>\n",
       "      <th></th>\n",
       "      <th></th>\n",
       "      <th></th>\n",
       "      <th></th>\n",
       "      <th></th>\n",
       "      <th></th>\n",
       "      <th></th>\n",
       "      <th></th>\n",
       "      <th></th>\n",
       "    </tr>\n",
       "  </thead>\n",
       "  <tbody>\n",
       "    <tr>\n",
       "      <th>10</th>\n",
       "      <td>0.07172</td>\n",
       "      <td>0.128756</td>\n",
       "      <td>0.110157</td>\n",
       "      <td>0.035281</td>\n",
       "      <td>0.062836</td>\n",
       "      <td>0.223137</td>\n",
       "      <td>0.116955</td>\n",
       "      <td>0.086877</td>\n",
       "      <td>0.446251</td>\n",
       "      <td>0.278756</td>\n",
       "      <td>...</td>\n",
       "      <td>0.802826</td>\n",
       "      <td>0.358262</td>\n",
       "      <td>0.802826</td>\n",
       "      <td>0.012513</td>\n",
       "      <td>7.842357</td>\n",
       "      <td>0.986392</td>\n",
       "      <td>0.036106</td>\n",
       "      <td>0.604145</td>\n",
       "      <td>3.565726</td>\n",
       "      <td>0.26052</td>\n",
       "    </tr>\n",
       "  </tbody>\n",
       "</table>\n",
       "<p>1 rows × 27 columns</p>\n",
       "</div>"
      ],
      "text/plain": [
       "       PRECISION PRECISION_RECALL_MIN_DEN    RECALL       MAP MAP_MIN_DEN  \\\n",
       "cutoff                                                                      \n",
       "10       0.07172                 0.128756  0.110157  0.035281    0.062836   \n",
       "\n",
       "             MRR      NDCG        F1  HIT_RATE ARHR_ALL_HITS  ...  \\\n",
       "cutoff                                                        ...   \n",
       "10      0.223137  0.116955  0.086877  0.446251      0.278756  ...   \n",
       "\n",
       "       COVERAGE_USER COVERAGE_USER_HIT USERS_IN_GT DIVERSITY_GINI  \\\n",
       "cutoff                                                              \n",
       "10          0.802826          0.358262    0.802826       0.012513   \n",
       "\n",
       "       SHANNON_ENTROPY RATIO_DIVERSITY_HERFINDAHL RATIO_DIVERSITY_GINI  \\\n",
       "cutoff                                                                   \n",
       "10            7.842357                   0.986392             0.036106   \n",
       "\n",
       "       RATIO_SHANNON_ENTROPY RATIO_AVERAGE_POPULARITY RATIO_NOVELTY  \n",
       "cutoff                                                               \n",
       "10                  0.604145                 3.565726       0.26052  \n",
       "\n",
       "[1 rows x 27 columns]"
      ]
     },
     "metadata": {},
     "output_type": "display_data"
    },
    {
     "name": "stdout",
     "output_type": "stream",
     "text": [
      "NMF\n",
      "EvaluatorHoldout: Processed 10456 (100.0%) in 8.25 sec. Users per second: 1267\n"
     ]
    },
    {
     "data": {
      "text/html": [
       "<div>\n",
       "<style scoped>\n",
       "    .dataframe tbody tr th:only-of-type {\n",
       "        vertical-align: middle;\n",
       "    }\n",
       "\n",
       "    .dataframe tbody tr th {\n",
       "        vertical-align: top;\n",
       "    }\n",
       "\n",
       "    .dataframe thead th {\n",
       "        text-align: right;\n",
       "    }\n",
       "</style>\n",
       "<table border=\"1\" class=\"dataframe\">\n",
       "  <thead>\n",
       "    <tr style=\"text-align: right;\">\n",
       "      <th></th>\n",
       "      <th>PRECISION</th>\n",
       "      <th>PRECISION_RECALL_MIN_DEN</th>\n",
       "      <th>RECALL</th>\n",
       "      <th>MAP</th>\n",
       "      <th>MAP_MIN_DEN</th>\n",
       "      <th>MRR</th>\n",
       "      <th>NDCG</th>\n",
       "      <th>F1</th>\n",
       "      <th>HIT_RATE</th>\n",
       "      <th>ARHR_ALL_HITS</th>\n",
       "      <th>...</th>\n",
       "      <th>COVERAGE_USER</th>\n",
       "      <th>COVERAGE_USER_HIT</th>\n",
       "      <th>USERS_IN_GT</th>\n",
       "      <th>DIVERSITY_GINI</th>\n",
       "      <th>SHANNON_ENTROPY</th>\n",
       "      <th>RATIO_DIVERSITY_HERFINDAHL</th>\n",
       "      <th>RATIO_DIVERSITY_GINI</th>\n",
       "      <th>RATIO_SHANNON_ENTROPY</th>\n",
       "      <th>RATIO_AVERAGE_POPULARITY</th>\n",
       "      <th>RATIO_NOVELTY</th>\n",
       "    </tr>\n",
       "    <tr>\n",
       "      <th>cutoff</th>\n",
       "      <th></th>\n",
       "      <th></th>\n",
       "      <th></th>\n",
       "      <th></th>\n",
       "      <th></th>\n",
       "      <th></th>\n",
       "      <th></th>\n",
       "      <th></th>\n",
       "      <th></th>\n",
       "      <th></th>\n",
       "      <th></th>\n",
       "      <th></th>\n",
       "      <th></th>\n",
       "      <th></th>\n",
       "      <th></th>\n",
       "      <th></th>\n",
       "      <th></th>\n",
       "      <th></th>\n",
       "      <th></th>\n",
       "      <th></th>\n",
       "      <th></th>\n",
       "    </tr>\n",
       "  </thead>\n",
       "  <tbody>\n",
       "    <tr>\n",
       "      <th>10</th>\n",
       "      <td>0.063045</td>\n",
       "      <td>0.105178</td>\n",
       "      <td>0.087319</td>\n",
       "      <td>0.032528</td>\n",
       "      <td>0.054161</td>\n",
       "      <td>0.204864</td>\n",
       "      <td>0.101315</td>\n",
       "      <td>0.073223</td>\n",
       "      <td>0.389441</td>\n",
       "      <td>0.256311</td>\n",
       "      <td>...</td>\n",
       "      <td>0.802826</td>\n",
       "      <td>0.312654</td>\n",
       "      <td>0.802826</td>\n",
       "      <td>0.019455</td>\n",
       "      <td>9.192063</td>\n",
       "      <td>0.997904</td>\n",
       "      <td>0.056136</td>\n",
       "      <td>0.708121</td>\n",
       "      <td>1.345964</td>\n",
       "      <td>0.290279</td>\n",
       "    </tr>\n",
       "  </tbody>\n",
       "</table>\n",
       "<p>1 rows × 27 columns</p>\n",
       "</div>"
      ],
      "text/plain": [
       "       PRECISION PRECISION_RECALL_MIN_DEN    RECALL       MAP MAP_MIN_DEN  \\\n",
       "cutoff                                                                      \n",
       "10      0.063045                 0.105178  0.087319  0.032528    0.054161   \n",
       "\n",
       "             MRR      NDCG        F1  HIT_RATE ARHR_ALL_HITS  ...  \\\n",
       "cutoff                                                        ...   \n",
       "10      0.204864  0.101315  0.073223  0.389441      0.256311  ...   \n",
       "\n",
       "       COVERAGE_USER COVERAGE_USER_HIT USERS_IN_GT DIVERSITY_GINI  \\\n",
       "cutoff                                                              \n",
       "10          0.802826          0.312654    0.802826       0.019455   \n",
       "\n",
       "       SHANNON_ENTROPY RATIO_DIVERSITY_HERFINDAHL RATIO_DIVERSITY_GINI  \\\n",
       "cutoff                                                                   \n",
       "10            9.192063                   0.997904             0.056136   \n",
       "\n",
       "       RATIO_SHANNON_ENTROPY RATIO_AVERAGE_POPULARITY RATIO_NOVELTY  \n",
       "cutoff                                                               \n",
       "10                  0.708121                 1.345964      0.290279  \n",
       "\n",
       "[1 rows x 27 columns]"
      ]
     },
     "metadata": {},
     "output_type": "display_data"
    },
    {
     "name": "stdout",
     "output_type": "stream",
     "text": [
      "Pure SVD\n",
      "EvaluatorHoldout: Processed 10456 (100.0%) in 7.55 sec. Users per second: 1384\n"
     ]
    },
    {
     "data": {
      "text/html": [
       "<div>\n",
       "<style scoped>\n",
       "    .dataframe tbody tr th:only-of-type {\n",
       "        vertical-align: middle;\n",
       "    }\n",
       "\n",
       "    .dataframe tbody tr th {\n",
       "        vertical-align: top;\n",
       "    }\n",
       "\n",
       "    .dataframe thead th {\n",
       "        text-align: right;\n",
       "    }\n",
       "</style>\n",
       "<table border=\"1\" class=\"dataframe\">\n",
       "  <thead>\n",
       "    <tr style=\"text-align: right;\">\n",
       "      <th></th>\n",
       "      <th>PRECISION</th>\n",
       "      <th>PRECISION_RECALL_MIN_DEN</th>\n",
       "      <th>RECALL</th>\n",
       "      <th>MAP</th>\n",
       "      <th>MAP_MIN_DEN</th>\n",
       "      <th>MRR</th>\n",
       "      <th>NDCG</th>\n",
       "      <th>F1</th>\n",
       "      <th>HIT_RATE</th>\n",
       "      <th>ARHR_ALL_HITS</th>\n",
       "      <th>...</th>\n",
       "      <th>COVERAGE_USER</th>\n",
       "      <th>COVERAGE_USER_HIT</th>\n",
       "      <th>USERS_IN_GT</th>\n",
       "      <th>DIVERSITY_GINI</th>\n",
       "      <th>SHANNON_ENTROPY</th>\n",
       "      <th>RATIO_DIVERSITY_HERFINDAHL</th>\n",
       "      <th>RATIO_DIVERSITY_GINI</th>\n",
       "      <th>RATIO_SHANNON_ENTROPY</th>\n",
       "      <th>RATIO_AVERAGE_POPULARITY</th>\n",
       "      <th>RATIO_NOVELTY</th>\n",
       "    </tr>\n",
       "    <tr>\n",
       "      <th>cutoff</th>\n",
       "      <th></th>\n",
       "      <th></th>\n",
       "      <th></th>\n",
       "      <th></th>\n",
       "      <th></th>\n",
       "      <th></th>\n",
       "      <th></th>\n",
       "      <th></th>\n",
       "      <th></th>\n",
       "      <th></th>\n",
       "      <th></th>\n",
       "      <th></th>\n",
       "      <th></th>\n",
       "      <th></th>\n",
       "      <th></th>\n",
       "      <th></th>\n",
       "      <th></th>\n",
       "      <th></th>\n",
       "      <th></th>\n",
       "      <th></th>\n",
       "      <th></th>\n",
       "    </tr>\n",
       "  </thead>\n",
       "  <tbody>\n",
       "    <tr>\n",
       "      <th>10</th>\n",
       "      <td>0.058655</td>\n",
       "      <td>0.100586</td>\n",
       "      <td>0.084556</td>\n",
       "      <td>0.029356</td>\n",
       "      <td>0.049861</td>\n",
       "      <td>0.191304</td>\n",
       "      <td>0.094675</td>\n",
       "      <td>0.069264</td>\n",
       "      <td>0.379112</td>\n",
       "      <td>0.235505</td>\n",
       "      <td>...</td>\n",
       "      <td>0.802826</td>\n",
       "      <td>0.304361</td>\n",
       "      <td>0.802826</td>\n",
       "      <td>0.006201</td>\n",
       "      <td>7.529534</td>\n",
       "      <td>0.992933</td>\n",
       "      <td>0.017892</td>\n",
       "      <td>0.580046</td>\n",
       "      <td>2.618313</td>\n",
       "      <td>0.263304</td>\n",
       "    </tr>\n",
       "  </tbody>\n",
       "</table>\n",
       "<p>1 rows × 27 columns</p>\n",
       "</div>"
      ],
      "text/plain": [
       "       PRECISION PRECISION_RECALL_MIN_DEN    RECALL       MAP MAP_MIN_DEN  \\\n",
       "cutoff                                                                      \n",
       "10      0.058655                 0.100586  0.084556  0.029356    0.049861   \n",
       "\n",
       "             MRR      NDCG        F1  HIT_RATE ARHR_ALL_HITS  ...  \\\n",
       "cutoff                                                        ...   \n",
       "10      0.191304  0.094675  0.069264  0.379112      0.235505  ...   \n",
       "\n",
       "       COVERAGE_USER COVERAGE_USER_HIT USERS_IN_GT DIVERSITY_GINI  \\\n",
       "cutoff                                                              \n",
       "10          0.802826          0.304361    0.802826       0.006201   \n",
       "\n",
       "       SHANNON_ENTROPY RATIO_DIVERSITY_HERFINDAHL RATIO_DIVERSITY_GINI  \\\n",
       "cutoff                                                                   \n",
       "10            7.529534                   0.992933             0.017892   \n",
       "\n",
       "       RATIO_SHANNON_ENTROPY RATIO_AVERAGE_POPULARITY RATIO_NOVELTY  \n",
       "cutoff                                                               \n",
       "10                  0.580046                 2.618313      0.263304  \n",
       "\n",
       "[1 rows x 27 columns]"
      ]
     },
     "metadata": {},
     "output_type": "display_data"
    },
    {
     "name": "stdout",
     "output_type": "stream",
     "text": [
      "Scaled Pure SVD\n",
      "EvaluatorHoldout: Processed 10456 (100.0%) in 9.24 sec. Users per second: 1131\n"
     ]
    },
    {
     "data": {
      "text/html": [
       "<div>\n",
       "<style scoped>\n",
       "    .dataframe tbody tr th:only-of-type {\n",
       "        vertical-align: middle;\n",
       "    }\n",
       "\n",
       "    .dataframe tbody tr th {\n",
       "        vertical-align: top;\n",
       "    }\n",
       "\n",
       "    .dataframe thead th {\n",
       "        text-align: right;\n",
       "    }\n",
       "</style>\n",
       "<table border=\"1\" class=\"dataframe\">\n",
       "  <thead>\n",
       "    <tr style=\"text-align: right;\">\n",
       "      <th></th>\n",
       "      <th>PRECISION</th>\n",
       "      <th>PRECISION_RECALL_MIN_DEN</th>\n",
       "      <th>RECALL</th>\n",
       "      <th>MAP</th>\n",
       "      <th>MAP_MIN_DEN</th>\n",
       "      <th>MRR</th>\n",
       "      <th>NDCG</th>\n",
       "      <th>F1</th>\n",
       "      <th>HIT_RATE</th>\n",
       "      <th>ARHR_ALL_HITS</th>\n",
       "      <th>...</th>\n",
       "      <th>COVERAGE_USER</th>\n",
       "      <th>COVERAGE_USER_HIT</th>\n",
       "      <th>USERS_IN_GT</th>\n",
       "      <th>DIVERSITY_GINI</th>\n",
       "      <th>SHANNON_ENTROPY</th>\n",
       "      <th>RATIO_DIVERSITY_HERFINDAHL</th>\n",
       "      <th>RATIO_DIVERSITY_GINI</th>\n",
       "      <th>RATIO_SHANNON_ENTROPY</th>\n",
       "      <th>RATIO_AVERAGE_POPULARITY</th>\n",
       "      <th>RATIO_NOVELTY</th>\n",
       "    </tr>\n",
       "    <tr>\n",
       "      <th>cutoff</th>\n",
       "      <th></th>\n",
       "      <th></th>\n",
       "      <th></th>\n",
       "      <th></th>\n",
       "      <th></th>\n",
       "      <th></th>\n",
       "      <th></th>\n",
       "      <th></th>\n",
       "      <th></th>\n",
       "      <th></th>\n",
       "      <th></th>\n",
       "      <th></th>\n",
       "      <th></th>\n",
       "      <th></th>\n",
       "      <th></th>\n",
       "      <th></th>\n",
       "      <th></th>\n",
       "      <th></th>\n",
       "      <th></th>\n",
       "      <th></th>\n",
       "      <th></th>\n",
       "    </tr>\n",
       "  </thead>\n",
       "  <tbody>\n",
       "    <tr>\n",
       "      <th>10</th>\n",
       "      <td>0.064212</td>\n",
       "      <td>0.110465</td>\n",
       "      <td>0.093607</td>\n",
       "      <td>0.032723</td>\n",
       "      <td>0.056188</td>\n",
       "      <td>0.210602</td>\n",
       "      <td>0.104962</td>\n",
       "      <td>0.076172</td>\n",
       "      <td>0.407135</td>\n",
       "      <td>0.260945</td>\n",
       "      <td>...</td>\n",
       "      <td>0.802826</td>\n",
       "      <td>0.326858</td>\n",
       "      <td>0.802826</td>\n",
       "      <td>0.014425</td>\n",
       "      <td>8.745531</td>\n",
       "      <td>0.996971</td>\n",
       "      <td>0.041623</td>\n",
       "      <td>0.673722</td>\n",
       "      <td>1.926223</td>\n",
       "      <td>0.276773</td>\n",
       "    </tr>\n",
       "  </tbody>\n",
       "</table>\n",
       "<p>1 rows × 27 columns</p>\n",
       "</div>"
      ],
      "text/plain": [
       "       PRECISION PRECISION_RECALL_MIN_DEN    RECALL       MAP MAP_MIN_DEN  \\\n",
       "cutoff                                                                      \n",
       "10      0.064212                 0.110465  0.093607  0.032723    0.056188   \n",
       "\n",
       "             MRR      NDCG        F1  HIT_RATE ARHR_ALL_HITS  ...  \\\n",
       "cutoff                                                        ...   \n",
       "10      0.210602  0.104962  0.076172  0.407135      0.260945  ...   \n",
       "\n",
       "       COVERAGE_USER COVERAGE_USER_HIT USERS_IN_GT DIVERSITY_GINI  \\\n",
       "cutoff                                                              \n",
       "10          0.802826          0.326858    0.802826       0.014425   \n",
       "\n",
       "       SHANNON_ENTROPY RATIO_DIVERSITY_HERFINDAHL RATIO_DIVERSITY_GINI  \\\n",
       "cutoff                                                                   \n",
       "10            8.745531                   0.996971             0.041623   \n",
       "\n",
       "       RATIO_SHANNON_ENTROPY RATIO_AVERAGE_POPULARITY RATIO_NOVELTY  \n",
       "cutoff                                                               \n",
       "10                  0.673722                 1.926223      0.276773  \n",
       "\n",
       "[1 rows x 27 columns]"
      ]
     },
     "metadata": {},
     "output_type": "display_data"
    },
    {
     "name": "stdout",
     "output_type": "stream",
     "text": [
      "Item Pure SVD\n",
      "EvaluatorHoldout: Processed 10456 (100.0%) in 11.08 sec. Users per second: 944\n"
     ]
    },
    {
     "data": {
      "text/html": [
       "<div>\n",
       "<style scoped>\n",
       "    .dataframe tbody tr th:only-of-type {\n",
       "        vertical-align: middle;\n",
       "    }\n",
       "\n",
       "    .dataframe tbody tr th {\n",
       "        vertical-align: top;\n",
       "    }\n",
       "\n",
       "    .dataframe thead th {\n",
       "        text-align: right;\n",
       "    }\n",
       "</style>\n",
       "<table border=\"1\" class=\"dataframe\">\n",
       "  <thead>\n",
       "    <tr style=\"text-align: right;\">\n",
       "      <th></th>\n",
       "      <th>PRECISION</th>\n",
       "      <th>PRECISION_RECALL_MIN_DEN</th>\n",
       "      <th>RECALL</th>\n",
       "      <th>MAP</th>\n",
       "      <th>MAP_MIN_DEN</th>\n",
       "      <th>MRR</th>\n",
       "      <th>NDCG</th>\n",
       "      <th>F1</th>\n",
       "      <th>HIT_RATE</th>\n",
       "      <th>ARHR_ALL_HITS</th>\n",
       "      <th>...</th>\n",
       "      <th>COVERAGE_USER</th>\n",
       "      <th>COVERAGE_USER_HIT</th>\n",
       "      <th>USERS_IN_GT</th>\n",
       "      <th>DIVERSITY_GINI</th>\n",
       "      <th>SHANNON_ENTROPY</th>\n",
       "      <th>RATIO_DIVERSITY_HERFINDAHL</th>\n",
       "      <th>RATIO_DIVERSITY_GINI</th>\n",
       "      <th>RATIO_SHANNON_ENTROPY</th>\n",
       "      <th>RATIO_AVERAGE_POPULARITY</th>\n",
       "      <th>RATIO_NOVELTY</th>\n",
       "    </tr>\n",
       "    <tr>\n",
       "      <th>cutoff</th>\n",
       "      <th></th>\n",
       "      <th></th>\n",
       "      <th></th>\n",
       "      <th></th>\n",
       "      <th></th>\n",
       "      <th></th>\n",
       "      <th></th>\n",
       "      <th></th>\n",
       "      <th></th>\n",
       "      <th></th>\n",
       "      <th></th>\n",
       "      <th></th>\n",
       "      <th></th>\n",
       "      <th></th>\n",
       "      <th></th>\n",
       "      <th></th>\n",
       "      <th></th>\n",
       "      <th></th>\n",
       "      <th></th>\n",
       "      <th></th>\n",
       "      <th></th>\n",
       "    </tr>\n",
       "  </thead>\n",
       "  <tbody>\n",
       "    <tr>\n",
       "      <th>10</th>\n",
       "      <td>0.065599</td>\n",
       "      <td>0.109738</td>\n",
       "      <td>0.091334</td>\n",
       "      <td>0.033326</td>\n",
       "      <td>0.055165</td>\n",
       "      <td>0.209391</td>\n",
       "      <td>0.104188</td>\n",
       "      <td>0.076356</td>\n",
       "      <td>0.402831</td>\n",
       "      <td>0.262119</td>\n",
       "      <td>...</td>\n",
       "      <td>0.802826</td>\n",
       "      <td>0.323403</td>\n",
       "      <td>0.802826</td>\n",
       "      <td>0.019058</td>\n",
       "      <td>9.121761</td>\n",
       "      <td>0.997687</td>\n",
       "      <td>0.054991</td>\n",
       "      <td>0.702705</td>\n",
       "      <td>1.408899</td>\n",
       "      <td>0.291045</td>\n",
       "    </tr>\n",
       "  </tbody>\n",
       "</table>\n",
       "<p>1 rows × 27 columns</p>\n",
       "</div>"
      ],
      "text/plain": [
       "       PRECISION PRECISION_RECALL_MIN_DEN    RECALL       MAP MAP_MIN_DEN  \\\n",
       "cutoff                                                                      \n",
       "10      0.065599                 0.109738  0.091334  0.033326    0.055165   \n",
       "\n",
       "             MRR      NDCG        F1  HIT_RATE ARHR_ALL_HITS  ...  \\\n",
       "cutoff                                                        ...   \n",
       "10      0.209391  0.104188  0.076356  0.402831      0.262119  ...   \n",
       "\n",
       "       COVERAGE_USER COVERAGE_USER_HIT USERS_IN_GT DIVERSITY_GINI  \\\n",
       "cutoff                                                              \n",
       "10          0.802826          0.323403    0.802826       0.019058   \n",
       "\n",
       "       SHANNON_ENTROPY RATIO_DIVERSITY_HERFINDAHL RATIO_DIVERSITY_GINI  \\\n",
       "cutoff                                                                   \n",
       "10            9.121761                   0.997687             0.054991   \n",
       "\n",
       "       RATIO_SHANNON_ENTROPY RATIO_AVERAGE_POPULARITY RATIO_NOVELTY  \n",
       "cutoff                                                               \n",
       "10                  0.702705                 1.408899      0.291045  \n",
       "\n",
       "[1 rows x 27 columns]"
      ]
     },
     "metadata": {},
     "output_type": "display_data"
    },
    {
     "name": "stdout",
     "output_type": "stream",
     "text": [
      "SLIM BPR\n",
      "EvaluatorHoldout: Processed 10456 (100.0%) in 6.92 sec. Users per second: 1511\n"
     ]
    },
    {
     "data": {
      "text/html": [
       "<div>\n",
       "<style scoped>\n",
       "    .dataframe tbody tr th:only-of-type {\n",
       "        vertical-align: middle;\n",
       "    }\n",
       "\n",
       "    .dataframe tbody tr th {\n",
       "        vertical-align: top;\n",
       "    }\n",
       "\n",
       "    .dataframe thead th {\n",
       "        text-align: right;\n",
       "    }\n",
       "</style>\n",
       "<table border=\"1\" class=\"dataframe\">\n",
       "  <thead>\n",
       "    <tr style=\"text-align: right;\">\n",
       "      <th></th>\n",
       "      <th>PRECISION</th>\n",
       "      <th>PRECISION_RECALL_MIN_DEN</th>\n",
       "      <th>RECALL</th>\n",
       "      <th>MAP</th>\n",
       "      <th>MAP_MIN_DEN</th>\n",
       "      <th>MRR</th>\n",
       "      <th>NDCG</th>\n",
       "      <th>F1</th>\n",
       "      <th>HIT_RATE</th>\n",
       "      <th>ARHR_ALL_HITS</th>\n",
       "      <th>...</th>\n",
       "      <th>COVERAGE_USER</th>\n",
       "      <th>COVERAGE_USER_HIT</th>\n",
       "      <th>USERS_IN_GT</th>\n",
       "      <th>DIVERSITY_GINI</th>\n",
       "      <th>SHANNON_ENTROPY</th>\n",
       "      <th>RATIO_DIVERSITY_HERFINDAHL</th>\n",
       "      <th>RATIO_DIVERSITY_GINI</th>\n",
       "      <th>RATIO_SHANNON_ENTROPY</th>\n",
       "      <th>RATIO_AVERAGE_POPULARITY</th>\n",
       "      <th>RATIO_NOVELTY</th>\n",
       "    </tr>\n",
       "    <tr>\n",
       "      <th>cutoff</th>\n",
       "      <th></th>\n",
       "      <th></th>\n",
       "      <th></th>\n",
       "      <th></th>\n",
       "      <th></th>\n",
       "      <th></th>\n",
       "      <th></th>\n",
       "      <th></th>\n",
       "      <th></th>\n",
       "      <th></th>\n",
       "      <th></th>\n",
       "      <th></th>\n",
       "      <th></th>\n",
       "      <th></th>\n",
       "      <th></th>\n",
       "      <th></th>\n",
       "      <th></th>\n",
       "      <th></th>\n",
       "      <th></th>\n",
       "      <th></th>\n",
       "      <th></th>\n",
       "    </tr>\n",
       "  </thead>\n",
       "  <tbody>\n",
       "    <tr>\n",
       "      <th>10</th>\n",
       "      <td>0.065015</td>\n",
       "      <td>0.117796</td>\n",
       "      <td>0.101461</td>\n",
       "      <td>0.031473</td>\n",
       "      <td>0.057214</td>\n",
       "      <td>0.205668</td>\n",
       "      <td>0.106992</td>\n",
       "      <td>0.079249</td>\n",
       "      <td>0.420428</td>\n",
       "      <td>0.253095</td>\n",
       "      <td>...</td>\n",
       "      <td>0.802826</td>\n",
       "      <td>0.337531</td>\n",
       "      <td>0.802826</td>\n",
       "      <td>0.023067</td>\n",
       "      <td>8.326755</td>\n",
       "      <td>0.989689</td>\n",
       "      <td>0.066558</td>\n",
       "      <td>0.641461</td>\n",
       "      <td>3.241905</td>\n",
       "      <td>0.268021</td>\n",
       "    </tr>\n",
       "  </tbody>\n",
       "</table>\n",
       "<p>1 rows × 27 columns</p>\n",
       "</div>"
      ],
      "text/plain": [
       "       PRECISION PRECISION_RECALL_MIN_DEN    RECALL       MAP MAP_MIN_DEN  \\\n",
       "cutoff                                                                      \n",
       "10      0.065015                 0.117796  0.101461  0.031473    0.057214   \n",
       "\n",
       "             MRR      NDCG        F1  HIT_RATE ARHR_ALL_HITS  ...  \\\n",
       "cutoff                                                        ...   \n",
       "10      0.205668  0.106992  0.079249  0.420428      0.253095  ...   \n",
       "\n",
       "       COVERAGE_USER COVERAGE_USER_HIT USERS_IN_GT DIVERSITY_GINI  \\\n",
       "cutoff                                                              \n",
       "10          0.802826          0.337531    0.802826       0.023067   \n",
       "\n",
       "       SHANNON_ENTROPY RATIO_DIVERSITY_HERFINDAHL RATIO_DIVERSITY_GINI  \\\n",
       "cutoff                                                                   \n",
       "10            8.326755                   0.989689             0.066558   \n",
       "\n",
       "       RATIO_SHANNON_ENTROPY RATIO_AVERAGE_POPULARITY RATIO_NOVELTY  \n",
       "cutoff                                                               \n",
       "10                  0.641461                 3.241905      0.268021  \n",
       "\n",
       "[1 rows x 27 columns]"
      ]
     },
     "metadata": {},
     "output_type": "display_data"
    },
    {
     "name": "stdout",
     "output_type": "stream",
     "text": [
      "SLIM Elastic\n",
      "EvaluatorHoldout: Processed 10456 (100.0%) in 9.35 sec. Users per second: 1118\n"
     ]
    },
    {
     "data": {
      "text/html": [
       "<div>\n",
       "<style scoped>\n",
       "    .dataframe tbody tr th:only-of-type {\n",
       "        vertical-align: middle;\n",
       "    }\n",
       "\n",
       "    .dataframe tbody tr th {\n",
       "        vertical-align: top;\n",
       "    }\n",
       "\n",
       "    .dataframe thead th {\n",
       "        text-align: right;\n",
       "    }\n",
       "</style>\n",
       "<table border=\"1\" class=\"dataframe\">\n",
       "  <thead>\n",
       "    <tr style=\"text-align: right;\">\n",
       "      <th></th>\n",
       "      <th>PRECISION</th>\n",
       "      <th>PRECISION_RECALL_MIN_DEN</th>\n",
       "      <th>RECALL</th>\n",
       "      <th>MAP</th>\n",
       "      <th>MAP_MIN_DEN</th>\n",
       "      <th>MRR</th>\n",
       "      <th>NDCG</th>\n",
       "      <th>F1</th>\n",
       "      <th>HIT_RATE</th>\n",
       "      <th>ARHR_ALL_HITS</th>\n",
       "      <th>...</th>\n",
       "      <th>COVERAGE_USER</th>\n",
       "      <th>COVERAGE_USER_HIT</th>\n",
       "      <th>USERS_IN_GT</th>\n",
       "      <th>DIVERSITY_GINI</th>\n",
       "      <th>SHANNON_ENTROPY</th>\n",
       "      <th>RATIO_DIVERSITY_HERFINDAHL</th>\n",
       "      <th>RATIO_DIVERSITY_GINI</th>\n",
       "      <th>RATIO_SHANNON_ENTROPY</th>\n",
       "      <th>RATIO_AVERAGE_POPULARITY</th>\n",
       "      <th>RATIO_NOVELTY</th>\n",
       "    </tr>\n",
       "    <tr>\n",
       "      <th>cutoff</th>\n",
       "      <th></th>\n",
       "      <th></th>\n",
       "      <th></th>\n",
       "      <th></th>\n",
       "      <th></th>\n",
       "      <th></th>\n",
       "      <th></th>\n",
       "      <th></th>\n",
       "      <th></th>\n",
       "      <th></th>\n",
       "      <th></th>\n",
       "      <th></th>\n",
       "      <th></th>\n",
       "      <th></th>\n",
       "      <th></th>\n",
       "      <th></th>\n",
       "      <th></th>\n",
       "      <th></th>\n",
       "      <th></th>\n",
       "      <th></th>\n",
       "      <th></th>\n",
       "    </tr>\n",
       "  </thead>\n",
       "  <tbody>\n",
       "    <tr>\n",
       "      <th>10</th>\n",
       "      <td>0.097752</td>\n",
       "      <td>0.165757</td>\n",
       "      <td>0.139187</td>\n",
       "      <td>0.05124</td>\n",
       "      <td>0.086426</td>\n",
       "      <td>0.282607</td>\n",
       "      <td>0.154679</td>\n",
       "      <td>0.114847</td>\n",
       "      <td>0.52477</td>\n",
       "      <td>0.375707</td>\n",
       "      <td>...</td>\n",
       "      <td>0.802826</td>\n",
       "      <td>0.421299</td>\n",
       "      <td>0.802826</td>\n",
       "      <td>0.059374</td>\n",
       "      <td>10.474793</td>\n",
       "      <td>0.998673</td>\n",
       "      <td>0.171318</td>\n",
       "      <td>0.806937</td>\n",
       "      <td>1.547674</td>\n",
       "      <td>0.300111</td>\n",
       "    </tr>\n",
       "  </tbody>\n",
       "</table>\n",
       "<p>1 rows × 27 columns</p>\n",
       "</div>"
      ],
      "text/plain": [
       "       PRECISION PRECISION_RECALL_MIN_DEN    RECALL      MAP MAP_MIN_DEN  \\\n",
       "cutoff                                                                     \n",
       "10      0.097752                 0.165757  0.139187  0.05124    0.086426   \n",
       "\n",
       "             MRR      NDCG        F1 HIT_RATE ARHR_ALL_HITS  ...  \\\n",
       "cutoff                                                       ...   \n",
       "10      0.282607  0.154679  0.114847  0.52477      0.375707  ...   \n",
       "\n",
       "       COVERAGE_USER COVERAGE_USER_HIT USERS_IN_GT DIVERSITY_GINI  \\\n",
       "cutoff                                                              \n",
       "10          0.802826          0.421299    0.802826       0.059374   \n",
       "\n",
       "       SHANNON_ENTROPY RATIO_DIVERSITY_HERFINDAHL RATIO_DIVERSITY_GINI  \\\n",
       "cutoff                                                                   \n",
       "10           10.474793                   0.998673             0.171318   \n",
       "\n",
       "       RATIO_SHANNON_ENTROPY RATIO_AVERAGE_POPULARITY RATIO_NOVELTY  \n",
       "cutoff                                                               \n",
       "10                  0.806937                 1.547674      0.300111  \n",
       "\n",
       "[1 rows x 27 columns]"
      ]
     },
     "metadata": {},
     "output_type": "display_data"
    },
    {
     "name": "stdout",
     "output_type": "stream",
     "text": [
      "EASE R\n",
      "EvaluatorHoldout: Processed 10456 (100.0%) in 9.18 sec. Users per second: 1139\n"
     ]
    },
    {
     "data": {
      "text/html": [
       "<div>\n",
       "<style scoped>\n",
       "    .dataframe tbody tr th:only-of-type {\n",
       "        vertical-align: middle;\n",
       "    }\n",
       "\n",
       "    .dataframe tbody tr th {\n",
       "        vertical-align: top;\n",
       "    }\n",
       "\n",
       "    .dataframe thead th {\n",
       "        text-align: right;\n",
       "    }\n",
       "</style>\n",
       "<table border=\"1\" class=\"dataframe\">\n",
       "  <thead>\n",
       "    <tr style=\"text-align: right;\">\n",
       "      <th></th>\n",
       "      <th>PRECISION</th>\n",
       "      <th>PRECISION_RECALL_MIN_DEN</th>\n",
       "      <th>RECALL</th>\n",
       "      <th>MAP</th>\n",
       "      <th>MAP_MIN_DEN</th>\n",
       "      <th>MRR</th>\n",
       "      <th>NDCG</th>\n",
       "      <th>F1</th>\n",
       "      <th>HIT_RATE</th>\n",
       "      <th>ARHR_ALL_HITS</th>\n",
       "      <th>...</th>\n",
       "      <th>COVERAGE_USER</th>\n",
       "      <th>COVERAGE_USER_HIT</th>\n",
       "      <th>USERS_IN_GT</th>\n",
       "      <th>DIVERSITY_GINI</th>\n",
       "      <th>SHANNON_ENTROPY</th>\n",
       "      <th>RATIO_DIVERSITY_HERFINDAHL</th>\n",
       "      <th>RATIO_DIVERSITY_GINI</th>\n",
       "      <th>RATIO_SHANNON_ENTROPY</th>\n",
       "      <th>RATIO_AVERAGE_POPULARITY</th>\n",
       "      <th>RATIO_NOVELTY</th>\n",
       "    </tr>\n",
       "    <tr>\n",
       "      <th>cutoff</th>\n",
       "      <th></th>\n",
       "      <th></th>\n",
       "      <th></th>\n",
       "      <th></th>\n",
       "      <th></th>\n",
       "      <th></th>\n",
       "      <th></th>\n",
       "      <th></th>\n",
       "      <th></th>\n",
       "      <th></th>\n",
       "      <th></th>\n",
       "      <th></th>\n",
       "      <th></th>\n",
       "      <th></th>\n",
       "      <th></th>\n",
       "      <th></th>\n",
       "      <th></th>\n",
       "      <th></th>\n",
       "      <th></th>\n",
       "      <th></th>\n",
       "      <th></th>\n",
       "    </tr>\n",
       "  </thead>\n",
       "  <tbody>\n",
       "    <tr>\n",
       "      <th>10</th>\n",
       "      <td>0.08202</td>\n",
       "      <td>0.144797</td>\n",
       "      <td>0.123181</td>\n",
       "      <td>0.0415</td>\n",
       "      <td>0.07293</td>\n",
       "      <td>0.247944</td>\n",
       "      <td>0.132891</td>\n",
       "      <td>0.098472</td>\n",
       "      <td>0.480011</td>\n",
       "      <td>0.318015</td>\n",
       "      <td>...</td>\n",
       "      <td>0.802826</td>\n",
       "      <td>0.385365</td>\n",
       "      <td>0.802826</td>\n",
       "      <td>0.02437</td>\n",
       "      <td>8.98298</td>\n",
       "      <td>0.995273</td>\n",
       "      <td>0.070318</td>\n",
       "      <td>0.692014</td>\n",
       "      <td>2.489147</td>\n",
       "      <td>0.276668</td>\n",
       "    </tr>\n",
       "  </tbody>\n",
       "</table>\n",
       "<p>1 rows × 27 columns</p>\n",
       "</div>"
      ],
      "text/plain": [
       "       PRECISION PRECISION_RECALL_MIN_DEN    RECALL     MAP MAP_MIN_DEN  \\\n",
       "cutoff                                                                    \n",
       "10       0.08202                 0.144797  0.123181  0.0415     0.07293   \n",
       "\n",
       "             MRR      NDCG        F1  HIT_RATE ARHR_ALL_HITS  ...  \\\n",
       "cutoff                                                        ...   \n",
       "10      0.247944  0.132891  0.098472  0.480011      0.318015  ...   \n",
       "\n",
       "       COVERAGE_USER COVERAGE_USER_HIT USERS_IN_GT DIVERSITY_GINI  \\\n",
       "cutoff                                                              \n",
       "10          0.802826          0.385365    0.802826        0.02437   \n",
       "\n",
       "       SHANNON_ENTROPY RATIO_DIVERSITY_HERFINDAHL RATIO_DIVERSITY_GINI  \\\n",
       "cutoff                                                                   \n",
       "10             8.98298                   0.995273             0.070318   \n",
       "\n",
       "       RATIO_SHANNON_ENTROPY RATIO_AVERAGE_POPULARITY RATIO_NOVELTY  \n",
       "cutoff                                                               \n",
       "10                  0.692014                 2.489147      0.276668  \n",
       "\n",
       "[1 rows x 27 columns]"
      ]
     },
     "metadata": {},
     "output_type": "display_data"
    },
    {
     "name": "stdout",
     "output_type": "stream",
     "text": [
      "IALS\n",
      "EvaluatorHoldout: Processed 10456 (100.0%) in 10.79 sec. Users per second: 969\n"
     ]
    },
    {
     "data": {
      "text/html": [
       "<div>\n",
       "<style scoped>\n",
       "    .dataframe tbody tr th:only-of-type {\n",
       "        vertical-align: middle;\n",
       "    }\n",
       "\n",
       "    .dataframe tbody tr th {\n",
       "        vertical-align: top;\n",
       "    }\n",
       "\n",
       "    .dataframe thead th {\n",
       "        text-align: right;\n",
       "    }\n",
       "</style>\n",
       "<table border=\"1\" class=\"dataframe\">\n",
       "  <thead>\n",
       "    <tr style=\"text-align: right;\">\n",
       "      <th></th>\n",
       "      <th>PRECISION</th>\n",
       "      <th>PRECISION_RECALL_MIN_DEN</th>\n",
       "      <th>RECALL</th>\n",
       "      <th>MAP</th>\n",
       "      <th>MAP_MIN_DEN</th>\n",
       "      <th>MRR</th>\n",
       "      <th>NDCG</th>\n",
       "      <th>F1</th>\n",
       "      <th>HIT_RATE</th>\n",
       "      <th>ARHR_ALL_HITS</th>\n",
       "      <th>...</th>\n",
       "      <th>COVERAGE_USER</th>\n",
       "      <th>COVERAGE_USER_HIT</th>\n",
       "      <th>USERS_IN_GT</th>\n",
       "      <th>DIVERSITY_GINI</th>\n",
       "      <th>SHANNON_ENTROPY</th>\n",
       "      <th>RATIO_DIVERSITY_HERFINDAHL</th>\n",
       "      <th>RATIO_DIVERSITY_GINI</th>\n",
       "      <th>RATIO_SHANNON_ENTROPY</th>\n",
       "      <th>RATIO_AVERAGE_POPULARITY</th>\n",
       "      <th>RATIO_NOVELTY</th>\n",
       "    </tr>\n",
       "    <tr>\n",
       "      <th>cutoff</th>\n",
       "      <th></th>\n",
       "      <th></th>\n",
       "      <th></th>\n",
       "      <th></th>\n",
       "      <th></th>\n",
       "      <th></th>\n",
       "      <th></th>\n",
       "      <th></th>\n",
       "      <th></th>\n",
       "      <th></th>\n",
       "      <th></th>\n",
       "      <th></th>\n",
       "      <th></th>\n",
       "      <th></th>\n",
       "      <th></th>\n",
       "      <th></th>\n",
       "      <th></th>\n",
       "      <th></th>\n",
       "      <th></th>\n",
       "      <th></th>\n",
       "      <th></th>\n",
       "    </tr>\n",
       "  </thead>\n",
       "  <tbody>\n",
       "    <tr>\n",
       "      <th>10</th>\n",
       "      <td>0.08224</td>\n",
       "      <td>0.144123</td>\n",
       "      <td>0.122645</td>\n",
       "      <td>0.041501</td>\n",
       "      <td>0.071584</td>\n",
       "      <td>0.246255</td>\n",
       "      <td>0.131701</td>\n",
       "      <td>0.098458</td>\n",
       "      <td>0.479055</td>\n",
       "      <td>0.316769</td>\n",
       "      <td>...</td>\n",
       "      <td>0.802826</td>\n",
       "      <td>0.384598</td>\n",
       "      <td>0.802826</td>\n",
       "      <td>0.029074</td>\n",
       "      <td>9.74689</td>\n",
       "      <td>0.998532</td>\n",
       "      <td>0.08389</td>\n",
       "      <td>0.750862</td>\n",
       "      <td>1.599865</td>\n",
       "      <td>0.289534</td>\n",
       "    </tr>\n",
       "  </tbody>\n",
       "</table>\n",
       "<p>1 rows × 27 columns</p>\n",
       "</div>"
      ],
      "text/plain": [
       "       PRECISION PRECISION_RECALL_MIN_DEN    RECALL       MAP MAP_MIN_DEN  \\\n",
       "cutoff                                                                      \n",
       "10       0.08224                 0.144123  0.122645  0.041501    0.071584   \n",
       "\n",
       "             MRR      NDCG        F1  HIT_RATE ARHR_ALL_HITS  ...  \\\n",
       "cutoff                                                        ...   \n",
       "10      0.246255  0.131701  0.098458  0.479055      0.316769  ...   \n",
       "\n",
       "       COVERAGE_USER COVERAGE_USER_HIT USERS_IN_GT DIVERSITY_GINI  \\\n",
       "cutoff                                                              \n",
       "10          0.802826          0.384598    0.802826       0.029074   \n",
       "\n",
       "       SHANNON_ENTROPY RATIO_DIVERSITY_HERFINDAHL RATIO_DIVERSITY_GINI  \\\n",
       "cutoff                                                                   \n",
       "10             9.74689                   0.998532              0.08389   \n",
       "\n",
       "       RATIO_SHANNON_ENTROPY RATIO_AVERAGE_POPULARITY RATIO_NOVELTY  \n",
       "cutoff                                                               \n",
       "10                  0.750862                 1.599865      0.289534  \n",
       "\n",
       "[1 rows x 27 columns]"
      ]
     },
     "metadata": {},
     "output_type": "display_data"
    }
   ],
   "source": [
    "weights = [0.4, 0.4, 0.2]\n",
    "linear_combinator = LinearCombinationRecommender(URM_train, [recommender_item, recommender_rp3, recommender_p3a], weights)\n",
    "evaluator = EvaluatorHoldout(URM_test_complete, cutoff_list=[10])\n",
    "\n",
    "print('Linear Combinator (Item knn, p3alpha, rp3)')\n",
    "result_df, _ = evaluator.evaluateRecommender(linear_combinator)\n",
    "display(result_df)\n",
    "print('Merging Models')\n",
    "result_df, _ = evaluator.evaluateRecommender(hybrid_similarity)\n",
    "display(result_df)\n",
    "print('Item KNN')\n",
    "result_df, _ = evaluator.evaluateRecommender(recommender_item)\n",
    "display(result_df)\n",
    "print('RP3 beta')\n",
    "result_df, _ = evaluator.evaluateRecommender(recommender_rp3)\n",
    "display(result_df)\n",
    "print('P3 alpha')\n",
    "result_df, _ = evaluator.evaluateRecommender(recommender_p3a)\n",
    "display(result_df)\n",
    "print('User KNN')\n",
    "result_df, _ = evaluator.evaluateRecommender(recommender_user)\n",
    "display(result_df)\n",
    "print('NMF')\n",
    "result_df, _ = evaluator.evaluateRecommender(recommender_nmf)\n",
    "display(result_df)\n",
    "print('Pure SVD')\n",
    "result_df, _ = evaluator.evaluateRecommender(recommender_pure_svd)\n",
    "display(result_df)\n",
    "print('Scaled Pure SVD')\n",
    "result_df, _ = evaluator.evaluateRecommender(recommender_scaled_svd)\n",
    "display(result_df)\n",
    "print('Item Pure SVD')\n",
    "result_df, _ = evaluator.evaluateRecommender(recommender_pure_svd_item)\n",
    "display(result_df)\n",
    "print('SLIM BPR')\n",
    "result_df, _ = evaluator.evaluateRecommender(recommender_slim_bpr)\n",
    "display(result_df)\n",
    "print('SLIM Elastic')\n",
    "result_df, _ = evaluator.evaluateRecommender(recommender_slim)\n",
    "display(result_df)\n",
    "print('EASE R')\n",
    "result_df, _ = evaluator.evaluateRecommender(recommender_ease_r)\n",
    "display(result_df)\n",
    "print('IALS')\n",
    "result_df, _ = evaluator.evaluateRecommender(recommender_ials)\n",
    "display(result_df)"
   ]
  },
  {
   "cell_type": "code",
   "execution_count": 24,
   "id": "ebaafa7d",
   "metadata": {
    "execution": {
     "iopub.execute_input": "2023-12-05T14:19:29.353218Z",
     "iopub.status.busy": "2023-12-05T14:19:29.352820Z",
     "iopub.status.idle": "2023-12-05T14:20:06.027016Z",
     "shell.execute_reply": "2023-12-05T14:20:06.025257Z"
    },
    "papermill": {
     "duration": 36.704312,
     "end_time": "2023-12-05T14:20:06.030595",
     "exception": false,
     "start_time": "2023-12-05T14:19:29.326283",
     "status": "completed"
    },
    "tags": []
   },
   "outputs": [
    {
     "name": "stdout",
     "output_type": "stream",
     "text": [
      "Recommender_Base_Class: URM Detected 627 ( 4.8%) users with no interactions.\n",
      "Recommender_Base_Class: URM Detected 247 ( 1.1%) items with no interactions.\n",
      "EvaluatorHoldout: Ignoring 2568 (19.7%) Users that have less than 1 test interactions\n",
      "EvaluatorHoldout: Processed 10456 (100.0%) in 36.61 sec. Users per second: 286\n"
     ]
    },
    {
     "data": {
      "text/html": [
       "<div>\n",
       "<style scoped>\n",
       "    .dataframe tbody tr th:only-of-type {\n",
       "        vertical-align: middle;\n",
       "    }\n",
       "\n",
       "    .dataframe tbody tr th {\n",
       "        vertical-align: top;\n",
       "    }\n",
       "\n",
       "    .dataframe thead th {\n",
       "        text-align: right;\n",
       "    }\n",
       "</style>\n",
       "<table border=\"1\" class=\"dataframe\">\n",
       "  <thead>\n",
       "    <tr style=\"text-align: right;\">\n",
       "      <th></th>\n",
       "      <th>PRECISION</th>\n",
       "      <th>PRECISION_RECALL_MIN_DEN</th>\n",
       "      <th>RECALL</th>\n",
       "      <th>MAP</th>\n",
       "      <th>MAP_MIN_DEN</th>\n",
       "      <th>MRR</th>\n",
       "      <th>NDCG</th>\n",
       "      <th>F1</th>\n",
       "      <th>HIT_RATE</th>\n",
       "      <th>ARHR_ALL_HITS</th>\n",
       "      <th>...</th>\n",
       "      <th>COVERAGE_USER</th>\n",
       "      <th>COVERAGE_USER_HIT</th>\n",
       "      <th>USERS_IN_GT</th>\n",
       "      <th>DIVERSITY_GINI</th>\n",
       "      <th>SHANNON_ENTROPY</th>\n",
       "      <th>RATIO_DIVERSITY_HERFINDAHL</th>\n",
       "      <th>RATIO_DIVERSITY_GINI</th>\n",
       "      <th>RATIO_SHANNON_ENTROPY</th>\n",
       "      <th>RATIO_AVERAGE_POPULARITY</th>\n",
       "      <th>RATIO_NOVELTY</th>\n",
       "    </tr>\n",
       "    <tr>\n",
       "      <th>cutoff</th>\n",
       "      <th></th>\n",
       "      <th></th>\n",
       "      <th></th>\n",
       "      <th></th>\n",
       "      <th></th>\n",
       "      <th></th>\n",
       "      <th></th>\n",
       "      <th></th>\n",
       "      <th></th>\n",
       "      <th></th>\n",
       "      <th></th>\n",
       "      <th></th>\n",
       "      <th></th>\n",
       "      <th></th>\n",
       "      <th></th>\n",
       "      <th></th>\n",
       "      <th></th>\n",
       "      <th></th>\n",
       "      <th></th>\n",
       "      <th></th>\n",
       "      <th></th>\n",
       "    </tr>\n",
       "  </thead>\n",
       "  <tbody>\n",
       "    <tr>\n",
       "      <th>10</th>\n",
       "      <td>0.099962</td>\n",
       "      <td>0.172375</td>\n",
       "      <td>0.14548</td>\n",
       "      <td>0.051917</td>\n",
       "      <td>0.088516</td>\n",
       "      <td>0.284203</td>\n",
       "      <td>0.158242</td>\n",
       "      <td>0.1185</td>\n",
       "      <td>0.535004</td>\n",
       "      <td>0.379147</td>\n",
       "      <td>...</td>\n",
       "      <td>0.802826</td>\n",
       "      <td>0.429515</td>\n",
       "      <td>0.802826</td>\n",
       "      <td>0.055971</td>\n",
       "      <td>10.188449</td>\n",
       "      <td>0.997782</td>\n",
       "      <td>0.161499</td>\n",
       "      <td>0.784878</td>\n",
       "      <td>1.832264</td>\n",
       "      <td>0.296225</td>\n",
       "    </tr>\n",
       "  </tbody>\n",
       "</table>\n",
       "<p>1 rows × 27 columns</p>\n",
       "</div>"
      ],
      "text/plain": [
       "       PRECISION PRECISION_RECALL_MIN_DEN   RECALL       MAP MAP_MIN_DEN  \\\n",
       "cutoff                                                                     \n",
       "10      0.099962                 0.172375  0.14548  0.051917    0.088516   \n",
       "\n",
       "             MRR      NDCG      F1  HIT_RATE ARHR_ALL_HITS  ... COVERAGE_USER  \\\n",
       "cutoff                                                      ...                 \n",
       "10      0.284203  0.158242  0.1185  0.535004      0.379147  ...      0.802826   \n",
       "\n",
       "       COVERAGE_USER_HIT USERS_IN_GT DIVERSITY_GINI SHANNON_ENTROPY  \\\n",
       "cutoff                                                                \n",
       "10              0.429515    0.802826       0.055971       10.188449   \n",
       "\n",
       "       RATIO_DIVERSITY_HERFINDAHL RATIO_DIVERSITY_GINI RATIO_SHANNON_ENTROPY  \\\n",
       "cutoff                                                                         \n",
       "10                       0.997782             0.161499              0.784878   \n",
       "\n",
       "       RATIO_AVERAGE_POPULARITY RATIO_NOVELTY  \n",
       "cutoff                                         \n",
       "10                     1.832264      0.296225  \n",
       "\n",
       "[1 rows x 27 columns]"
      ]
     },
     "metadata": {},
     "output_type": "display_data"
    }
   ],
   "source": [
    "weights = [0.8, 0.2, 0.5, 0.3, 0.1, 0.1, 0.01, 0.005, 0.005, 0.005, 0.002]\n",
    "recommenders = [recommender_slim, recommender_item, recommender_rp3, recommender_p3a, recommender_ials, recommender_ease_r, recommender_user, recommender_pure_svd_item, recommender_scaled_svd, recommender_nmf, recommender_slim_bpr]\n",
    "linear_combinator = LinearCombinationRecommender(URM_train, recommenders, weights)\n",
    "evaluator = EvaluatorHoldout(URM_test_complete, cutoff_list=[10])\n",
    "result_df, _ = evaluator.evaluateRecommender(linear_combinator)\n",
    "display(result_df)"
   ]
  },
  {
   "cell_type": "code",
   "execution_count": 25,
   "id": "d261a6bf",
   "metadata": {
    "execution": {
     "iopub.execute_input": "2023-12-05T14:20:06.078737Z",
     "iopub.status.busy": "2023-12-05T14:20:06.078277Z",
     "iopub.status.idle": "2023-12-05T14:20:06.095595Z",
     "shell.execute_reply": "2023-12-05T14:20:06.093311Z"
    },
    "papermill": {
     "duration": 0.044634,
     "end_time": "2023-12-05T14:20:06.098605",
     "exception": false,
     "start_time": "2023-12-05T14:20:06.053971",
     "status": "completed"
    },
    "tags": []
   },
   "outputs": [
    {
     "name": "stdout",
     "output_type": "stream",
     "text": [
      "EvaluatorHoldout: Ignoring 2568 (19.7%) Users that have less than 1 test interactions\n"
     ]
    }
   ],
   "source": [
    "evaluator = EvaluatorHoldout(URM_test_complete, cutoff_list=[10])\n",
    "\n",
    "def objective(trial):\n",
    "    weights = [\n",
    "        trial.suggest_float('slim_elastic', 1e-2, 1, log=True),\n",
    "        trial.suggest_float('item_knn', 1e-2, 1, log=True),\n",
    "        trial.suggest_float('rp3', 1e-2, 1, log=True),\n",
    "        trial.suggest_float('p3alpha', 1e-2, 1, log=True),\n",
    "        trial.suggest_float('ials', 5e-3, 1, log=True),\n",
    "        trial.suggest_float('ease_r', 1e-3, 1, log=True),\n",
    "        trial.suggest_float('user_knn', 1e-3, 1, log=True),\n",
    "        trial.suggest_float('svd_item', 1e-4, 0.2, log=True),\n",
    "        trial.suggest_float('scaled_svd', 1e-4, 0.2, log=True),\n",
    "        trial.suggest_float('nmf', 1e-4, 0.2, log=True),\n",
    "        trial.suggest_float('slim_bpr', 1e-5, 0.1, log=True),\n",
    "    ]\n",
    "    \n",
    "    recommenders = [\n",
    "        recommender_slim, recommender_item, recommender_rp3, recommender_p3a, recommender_ials, recommender_ease_r, \n",
    "        recommender_user, recommender_pure_svd_item, recommender_scaled_svd, recommender_nmf, recommender_slim_bpr\n",
    "    ]\n",
    "    \n",
    "    linear_combinator = LinearCombinationRecommender(URM_train, recommenders, weights)\n",
    "    evaluator = EvaluatorHoldout(URM_test_complete, cutoff_list=[10])\n",
    "    result_df, _ = evaluator.evaluateRecommender(linear_combinator)\n",
    "\n",
    "    return result_df.loc[10, 'MAP']"
   ]
  },
  {
   "cell_type": "code",
   "execution_count": 26,
   "id": "562aaa3f",
   "metadata": {
    "execution": {
     "iopub.execute_input": "2023-12-05T14:20:06.147439Z",
     "iopub.status.busy": "2023-12-05T14:20:06.147065Z",
     "iopub.status.idle": "2023-12-05T14:20:06.155773Z",
     "shell.execute_reply": "2023-12-05T14:20:06.154035Z"
    },
    "papermill": {
     "duration": 0.036773,
     "end_time": "2023-12-05T14:20:06.159159",
     "exception": false,
     "start_time": "2023-12-05T14:20:06.122386",
     "status": "completed"
    },
    "tags": []
   },
   "outputs": [],
   "source": [
    "try:\n",
    "    shutil.copyfile(\n",
    "        '/kaggle/working/Recsys_Challenge_2023/tuning_results/tuning_hybrid_merging.db', \n",
    "        config['database_path']\n",
    "    )\n",
    "except FileNotFoundError:\n",
    "    pass"
   ]
  },
  {
   "cell_type": "code",
   "execution_count": 27,
   "id": "9f27ac2a",
   "metadata": {
    "execution": {
     "iopub.execute_input": "2023-12-05T14:20:06.208092Z",
     "iopub.status.busy": "2023-12-05T14:20:06.207614Z",
     "iopub.status.idle": "2023-12-05T16:27:18.925354Z",
     "shell.execute_reply": "2023-12-05T16:27:18.923551Z"
    },
    "papermill": {
     "duration": 7632.755193,
     "end_time": "2023-12-05T16:27:18.937897",
     "exception": false,
     "start_time": "2023-12-05T14:20:06.182704",
     "status": "completed"
    },
    "tags": []
   },
   "outputs": [
    {
     "name": "stderr",
     "output_type": "stream",
     "text": [
      "[I 2023-12-05 14:20:06,727] A new study created in RDB with name: hyperparameters_tuning_linear_11models_no_cv\n"
     ]
    },
    {
     "name": "stdout",
     "output_type": "stream",
     "text": [
      "Recommender_Base_Class: URM Detected 627 ( 4.8%) users with no interactions.\n",
      "Recommender_Base_Class: URM Detected 247 ( 1.1%) items with no interactions.\n",
      "EvaluatorHoldout: Ignoring 2568 (19.7%) Users that have less than 1 test interactions\n",
      "EvaluatorHoldout: Processed 10456 (100.0%) in 36.89 sec. Users per second: 283\n"
     ]
    },
    {
     "name": "stderr",
     "output_type": "stream",
     "text": [
      "[I 2023-12-05 14:20:43,949] Trial 0 finished with value: 0.05109123188933909 and parameters: {'slim_elastic': 0.4190258028154633, 'item_knn': 0.45515710880672955, 'rp3': 0.07658491356966007, 'p3alpha': 0.37522622318903787, 'ials': 0.09313648438995077, 'ease_r': 0.004630842906408421, 'user_knn': 0.013361800872920312, 'svd_item': 0.0003220597875883612, 'scaled_svd': 0.004465566412666983, 'nmf': 0.0004872489959520195, 'slim_bpr': 8.142214259202564e-05}. Best is trial 0 with value: 0.05109123188933909.\n"
     ]
    },
    {
     "name": "stdout",
     "output_type": "stream",
     "text": [
      "Recommender_Base_Class: URM Detected 627 ( 4.8%) users with no interactions.\n",
      "Recommender_Base_Class: URM Detected 247 ( 1.1%) items with no interactions.\n",
      "EvaluatorHoldout: Ignoring 2568 (19.7%) Users that have less than 1 test interactions\n",
      "EvaluatorHoldout: Processed 10456 (100.0%) in 36.64 sec. Users per second: 285\n"
     ]
    },
    {
     "name": "stderr",
     "output_type": "stream",
     "text": [
      "[I 2023-12-05 14:21:20,864] Trial 1 finished with value: 0.049198280625691315 and parameters: {'slim_elastic': 0.07709300009697584, 'item_knn': 0.03214676102701574, 'rp3': 0.29655542781905025, 'p3alpha': 0.016853471912978153, 'ials': 0.18273757168891666, 'ease_r': 0.35854394082760926, 'user_knn': 0.0014605855240286598, 'svd_item': 0.03641480672157251, 'scaled_svd': 0.019632831120780497, 'nmf': 0.0010708276366613004, 'slim_bpr': 0.0016090050646071989}. Best is trial 0 with value: 0.05109123188933909.\n"
     ]
    },
    {
     "name": "stdout",
     "output_type": "stream",
     "text": [
      "Recommender_Base_Class: URM Detected 627 ( 4.8%) users with no interactions.\n",
      "Recommender_Base_Class: URM Detected 247 ( 1.1%) items with no interactions.\n",
      "EvaluatorHoldout: Ignoring 2568 (19.7%) Users that have less than 1 test interactions\n",
      "EvaluatorHoldout: Processed 10456 (100.0%) in 36.41 sec. Users per second: 287\n"
     ]
    },
    {
     "name": "stderr",
     "output_type": "stream",
     "text": [
      "[I 2023-12-05 14:21:57,546] Trial 2 finished with value: 0.0501032899770474 and parameters: {'slim_elastic': 0.7427648982745785, 'item_knn': 0.8123091139301387, 'rp3': 0.03234490412023397, 'p3alpha': 0.15286097568276993, 'ials': 0.04596134707900248, 'ease_r': 0.002556675517754913, 'user_knn': 0.02054179723984505, 'svd_item': 0.00017515476029280615, 'scaled_svd': 0.05696400509594551, 'nmf': 0.0003736376746149545, 'slim_bpr': 0.06711606933011917}. Best is trial 0 with value: 0.05109123188933909.\n"
     ]
    },
    {
     "name": "stdout",
     "output_type": "stream",
     "text": [
      "Recommender_Base_Class: URM Detected 627 ( 4.8%) users with no interactions.\n",
      "Recommender_Base_Class: URM Detected 247 ( 1.1%) items with no interactions.\n",
      "EvaluatorHoldout: Ignoring 2568 (19.7%) Users that have less than 1 test interactions\n",
      "EvaluatorHoldout: Processed 10456 (100.0%) in 37.19 sec. Users per second: 281\n"
     ]
    },
    {
     "name": "stderr",
     "output_type": "stream",
     "text": [
      "[I 2023-12-05 14:22:35,011] Trial 3 finished with value: 0.05009340729405832 and parameters: {'slim_elastic': 0.5165190725598401, 'item_knn': 0.03055397893688916, 'rp3': 0.06827109098168377, 'p3alpha': 0.1043363143517648, 'ials': 0.012241133511513609, 'ease_r': 0.0035295361797141682, 'user_knn': 0.027909498636270014, 'svd_item': 0.006682705040396513, 'scaled_svd': 0.0008212868882766353, 'nmf': 0.00015608634807628058, 'slim_bpr': 1.0609677959628562e-05}. Best is trial 0 with value: 0.05109123188933909.\n"
     ]
    },
    {
     "name": "stdout",
     "output_type": "stream",
     "text": [
      "Recommender_Base_Class: URM Detected 627 ( 4.8%) users with no interactions.\n",
      "Recommender_Base_Class: URM Detected 247 ( 1.1%) items with no interactions.\n",
      "EvaluatorHoldout: Ignoring 2568 (19.7%) Users that have less than 1 test interactions\n",
      "EvaluatorHoldout: Processed 10456 (100.0%) in 36.54 sec. Users per second: 286\n"
     ]
    },
    {
     "name": "stderr",
     "output_type": "stream",
     "text": [
      "[I 2023-12-05 14:23:11,825] Trial 4 finished with value: 0.045316276217194945 and parameters: {'slim_elastic': 0.42166377541983274, 'item_knn': 0.01435518185289268, 'rp3': 0.4278458517993925, 'p3alpha': 0.08687974205025423, 'ials': 0.0097713919741744, 'ease_r': 0.06433584375463593, 'user_knn': 0.1503878762078821, 'svd_item': 0.003077178028075168, 'scaled_svd': 0.09423930351561034, 'nmf': 0.00018571802140233807, 'slim_bpr': 0.0035946981536730724}. Best is trial 0 with value: 0.05109123188933909.\n"
     ]
    },
    {
     "name": "stdout",
     "output_type": "stream",
     "text": [
      "Recommender_Base_Class: URM Detected 627 ( 4.8%) users with no interactions.\n",
      "Recommender_Base_Class: URM Detected 247 ( 1.1%) items with no interactions.\n",
      "EvaluatorHoldout: Ignoring 2568 (19.7%) Users that have less than 1 test interactions\n",
      "EvaluatorHoldout: Processed 10456 (100.0%) in 36.12 sec. Users per second: 289\n"
     ]
    },
    {
     "name": "stderr",
     "output_type": "stream",
     "text": [
      "[I 2023-12-05 14:23:48,216] Trial 5 finished with value: 0.05180980617189551 and parameters: {'slim_elastic': 0.9290362248416071, 'item_knn': 0.041912394948294775, 'rp3': 0.061187997535207685, 'p3alpha': 0.7265759841495374, 'ials': 0.013189928794525579, 'ease_r': 0.001177890352595064, 'user_knn': 0.011257644553347034, 'svd_item': 0.00013621575472946466, 'scaled_svd': 0.0019465137563380662, 'nmf': 0.00010117041626736747, 'slim_bpr': 0.025953868901246242}. Best is trial 5 with value: 0.05180980617189551.\n"
     ]
    },
    {
     "name": "stdout",
     "output_type": "stream",
     "text": [
      "Recommender_Base_Class: URM Detected 627 ( 4.8%) users with no interactions.\n",
      "Recommender_Base_Class: URM Detected 247 ( 1.1%) items with no interactions.\n",
      "EvaluatorHoldout: Ignoring 2568 (19.7%) Users that have less than 1 test interactions\n",
      "EvaluatorHoldout: Processed 10456 (100.0%) in 36.62 sec. Users per second: 286\n"
     ]
    },
    {
     "name": "stderr",
     "output_type": "stream",
     "text": [
      "[I 2023-12-05 14:24:25,089] Trial 6 finished with value: 0.04862319500613368 and parameters: {'slim_elastic': 0.01372387691744264, 'item_knn': 0.17714280448820371, 'rp3': 0.04405034716017645, 'p3alpha': 0.08127032557938332, 'ials': 0.016790688715073453, 'ease_r': 0.01100662200122848, 'user_knn': 0.013009461573011458, 'svd_item': 0.0073710449173827065, 'scaled_svd': 0.001222363730534966, 'nmf': 0.00020322048904219424, 'slim_bpr': 3.629673220297794e-05}. Best is trial 5 with value: 0.05180980617189551.\n"
     ]
    },
    {
     "name": "stdout",
     "output_type": "stream",
     "text": [
      "Recommender_Base_Class: URM Detected 627 ( 4.8%) users with no interactions.\n",
      "Recommender_Base_Class: URM Detected 247 ( 1.1%) items with no interactions.\n",
      "EvaluatorHoldout: Ignoring 2568 (19.7%) Users that have less than 1 test interactions\n",
      "EvaluatorHoldout: Processed 10456 (100.0%) in 36.72 sec. Users per second: 285\n"
     ]
    },
    {
     "name": "stderr",
     "output_type": "stream",
     "text": [
      "[I 2023-12-05 14:25:02,073] Trial 7 finished with value: 0.03835058628143981 and parameters: {'slim_elastic': 0.03458443836437628, 'item_knn': 0.03439718668671571, 'rp3': 0.15638884533524702, 'p3alpha': 0.010142359593293706, 'ials': 0.05240759510330005, 'ease_r': 0.12209006302195864, 'user_knn': 0.43732216525241363, 'svd_item': 0.0004303890701326499, 'scaled_svd': 0.01401122655128085, 'nmf': 0.001213912202422562, 'slim_bpr': 0.010178748353918568}. Best is trial 5 with value: 0.05180980617189551.\n"
     ]
    },
    {
     "name": "stdout",
     "output_type": "stream",
     "text": [
      "Recommender_Base_Class: URM Detected 627 ( 4.8%) users with no interactions.\n",
      "Recommender_Base_Class: URM Detected 247 ( 1.1%) items with no interactions.\n",
      "EvaluatorHoldout: Ignoring 2568 (19.7%) Users that have less than 1 test interactions\n",
      "EvaluatorHoldout: Processed 10456 (100.0%) in 36.72 sec. Users per second: 285\n"
     ]
    },
    {
     "name": "stderr",
     "output_type": "stream",
     "text": [
      "[I 2023-12-05 14:25:39,058] Trial 8 finished with value: 0.043794058397396834 and parameters: {'slim_elastic': 0.028734593384086238, 'item_knn': 0.022480226065386643, 'rp3': 0.10011483655976566, 'p3alpha': 0.013901976411195217, 'ials': 0.005106377207480128, 'ease_r': 0.7880493836474172, 'user_knn': 0.040884985766223035, 'svd_item': 0.013675767785814833, 'scaled_svd': 0.003632460736184839, 'nmf': 0.017653247068489083, 'slim_bpr': 0.0027817056388202916}. Best is trial 5 with value: 0.05180980617189551.\n"
     ]
    },
    {
     "name": "stdout",
     "output_type": "stream",
     "text": [
      "Recommender_Base_Class: URM Detected 627 ( 4.8%) users with no interactions.\n",
      "Recommender_Base_Class: URM Detected 247 ( 1.1%) items with no interactions.\n",
      "EvaluatorHoldout: Ignoring 2568 (19.7%) Users that have less than 1 test interactions\n",
      "EvaluatorHoldout: Processed 10456 (100.0%) in 37.00 sec. Users per second: 283\n"
     ]
    },
    {
     "name": "stderr",
     "output_type": "stream",
     "text": [
      "[I 2023-12-05 14:26:16,330] Trial 9 finished with value: 0.04847275354926522 and parameters: {'slim_elastic': 0.05574831962658887, 'item_knn': 0.012343502405808069, 'rp3': 0.8944902107644945, 'p3alpha': 0.03097033297043655, 'ials': 0.040889549767388754, 'ease_r': 0.01820879719061179, 'user_knn': 0.041859744879443564, 'svd_item': 0.0007268131930022254, 'scaled_svd': 0.0008798183748483191, 'nmf': 0.012203845188852688, 'slim_bpr': 2.0612290088934223e-05}. Best is trial 5 with value: 0.05180980617189551.\n"
     ]
    },
    {
     "name": "stdout",
     "output_type": "stream",
     "text": [
      "Recommender_Base_Class: URM Detected 627 ( 4.8%) users with no interactions.\n",
      "Recommender_Base_Class: URM Detected 247 ( 1.1%) items with no interactions.\n",
      "EvaluatorHoldout: Ignoring 2568 (19.7%) Users that have less than 1 test interactions\n",
      "EvaluatorHoldout: Processed 10456 (100.0%) in 37.17 sec. Users per second: 281\n"
     ]
    },
    {
     "name": "stderr",
     "output_type": "stream",
     "text": [
      "[I 2023-12-05 14:26:53,818] Trial 10 finished with value: 0.04807319181817153 and parameters: {'slim_elastic': 0.18419569174796535, 'item_knn': 0.07550541245399618, 'rp3': 0.010013182495778651, 'p3alpha': 0.7922217117906136, 'ials': 0.8188444183681043, 'ease_r': 0.0011300129362543827, 'user_knn': 0.002950545573347141, 'svd_item': 0.1080120710737672, 'scaled_svd': 0.0001665019418574519, 'nmf': 0.12662165476968162, 'slim_bpr': 0.05558632799759938}. Best is trial 5 with value: 0.05180980617189551.\n"
     ]
    },
    {
     "name": "stdout",
     "output_type": "stream",
     "text": [
      "Recommender_Base_Class: URM Detected 627 ( 4.8%) users with no interactions.\n",
      "Recommender_Base_Class: URM Detected 247 ( 1.1%) items with no interactions.\n",
      "EvaluatorHoldout: Ignoring 2568 (19.7%) Users that have less than 1 test interactions\n",
      "EvaluatorHoldout: Processed 10456 (100.0%) in 37.28 sec. Users per second: 280\n"
     ]
    },
    {
     "name": "stderr",
     "output_type": "stream",
     "text": [
      "[I 2023-12-05 14:27:31,429] Trial 11 finished with value: 0.051816394627221395 and parameters: {'slim_elastic': 0.8895193494458865, 'item_knn': 0.2766530451772389, 'rp3': 0.030731372750508988, 'p3alpha': 0.7028217546218967, 'ials': 0.12993591400218094, 'ease_r': 0.0010591563664633951, 'user_knn': 0.005345785521861627, 'svd_item': 0.00011314706249771041, 'scaled_svd': 0.004996995481595149, 'nmf': 0.0001005898973972124, 'slim_bpr': 0.00028139492746090535}. Best is trial 11 with value: 0.051816394627221395.\n"
     ]
    },
    {
     "name": "stdout",
     "output_type": "stream",
     "text": [
      "Recommender_Base_Class: URM Detected 627 ( 4.8%) users with no interactions.\n",
      "Recommender_Base_Class: URM Detected 247 ( 1.1%) items with no interactions.\n",
      "EvaluatorHoldout: Ignoring 2568 (19.7%) Users that have less than 1 test interactions\n",
      "EvaluatorHoldout: Processed 10456 (100.0%) in 37.62 sec. Users per second: 278\n"
     ]
    },
    {
     "name": "stderr",
     "output_type": "stream",
     "text": [
      "[I 2023-12-05 14:28:09,370] Trial 12 finished with value: 0.05173862352898366 and parameters: {'slim_elastic': 0.9449400812281703, 'item_knn': 0.12458165053607631, 'rp3': 0.01995053972764337, 'p3alpha': 0.9884403758952283, 'ials': 0.15263987764477058, 'ease_r': 0.0010377694895099163, 'user_knn': 0.004370402069381531, 'svd_item': 0.00010095351802396471, 'scaled_svd': 0.011178809084805773, 'nmf': 0.00017350712338148224, 'slim_bpr': 0.00029160011504138916}. Best is trial 11 with value: 0.051816394627221395.\n"
     ]
    },
    {
     "name": "stdout",
     "output_type": "stream",
     "text": [
      "Recommender_Base_Class: URM Detected 627 ( 4.8%) users with no interactions.\n",
      "Recommender_Base_Class: URM Detected 247 ( 1.1%) items with no interactions.\n",
      "EvaluatorHoldout: Ignoring 2568 (19.7%) Users that have less than 1 test interactions\n",
      "EvaluatorHoldout: Processed 10456 (100.0%) in 37.38 sec. Users per second: 280\n"
     ]
    },
    {
     "name": "stderr",
     "output_type": "stream",
     "text": [
      "[I 2023-12-05 14:28:47,077] Trial 13 finished with value: 0.05096056338883491 and parameters: {'slim_elastic': 0.20789869294618135, 'item_knn': 0.2531949181213247, 'rp3': 0.02824543833769437, 'p3alpha': 0.4522574108708913, 'ials': 0.027099145620330837, 'ease_r': 0.007334205048242388, 'user_knn': 0.0062368495036721604, 'svd_item': 0.0009398791676027506, 'scaled_svd': 0.002341043915494834, 'nmf': 0.0010901201528922416, 'slim_bpr': 0.00027960823288028215}. Best is trial 11 with value: 0.051816394627221395.\n"
     ]
    },
    {
     "name": "stdout",
     "output_type": "stream",
     "text": [
      "Recommender_Base_Class: URM Detected 627 ( 4.8%) users with no interactions.\n",
      "Recommender_Base_Class: URM Detected 247 ( 1.1%) items with no interactions.\n",
      "EvaluatorHoldout: Ignoring 2568 (19.7%) Users that have less than 1 test interactions\n",
      "EvaluatorHoldout: Processed 10456 (100.0%) in 36.98 sec. Users per second: 283\n"
     ]
    },
    {
     "name": "stderr",
     "output_type": "stream",
     "text": [
      "[I 2023-12-05 14:29:24,399] Trial 14 finished with value: 0.05219113959024108 and parameters: {'slim_elastic': 0.8136663810969625, 'item_knn': 0.06548379313254965, 'rp3': 0.05214809619675215, 'p3alpha': 0.43461164502491273, 'ials': 0.005457014698101544, 'ease_r': 0.002089371716528728, 'user_knn': 0.0013832809442549318, 'svd_item': 0.00011658971194866287, 'scaled_svd': 0.00033628975736923013, 'nmf': 0.00011703505869646565, 'slim_bpr': 0.013983541379356253}. Best is trial 14 with value: 0.05219113959024108.\n"
     ]
    },
    {
     "name": "stdout",
     "output_type": "stream",
     "text": [
      "Recommender_Base_Class: URM Detected 627 ( 4.8%) users with no interactions.\n",
      "Recommender_Base_Class: URM Detected 247 ( 1.1%) items with no interactions.\n",
      "EvaluatorHoldout: Ignoring 2568 (19.7%) Users that have less than 1 test interactions\n",
      "EvaluatorHoldout: Processed 10456 (100.0%) in 36.05 sec. Users per second: 290\n"
     ]
    },
    {
     "name": "stderr",
     "output_type": "stream",
     "text": [
      "[I 2023-12-05 14:30:00,751] Trial 15 finished with value: 0.05171197368261318 and parameters: {'slim_elastic': 0.24595325984728142, 'item_knn': 0.0725285806434202, 'rp3': 0.018108564130857905, 'p3alpha': 0.2846429988467049, 'ials': 0.005262488279070418, 'ease_r': 0.020511264502673966, 'user_knn': 0.0010410050172205483, 'svd_item': 0.0018629890843252794, 'scaled_svd': 0.00019452614291989075, 'nmf': 0.00010711337738943771, 'slim_bpr': 0.0007067875437952733}. Best is trial 14 with value: 0.05219113959024108.\n"
     ]
    },
    {
     "name": "stdout",
     "output_type": "stream",
     "text": [
      "Recommender_Base_Class: URM Detected 627 ( 4.8%) users with no interactions.\n",
      "Recommender_Base_Class: URM Detected 247 ( 1.1%) items with no interactions.\n",
      "EvaluatorHoldout: Ignoring 2568 (19.7%) Users that have less than 1 test interactions\n",
      "EvaluatorHoldout: Processed 10456 (100.0%) in 36.27 sec. Users per second: 288\n"
     ]
    },
    {
     "name": "stderr",
     "output_type": "stream",
     "text": [
      "[I 2023-12-05 14:30:37,381] Trial 16 finished with value: 0.050862419693713384 and parameters: {'slim_elastic': 0.12752969009005394, 'item_knn': 0.21211650638190535, 'rp3': 0.043546279480010545, 'p3alpha': 0.2684275473670985, 'ials': 0.0898205317539908, 'ease_r': 0.0023160617776392385, 'user_knn': 0.002276459474994452, 'svd_item': 0.000288507140887962, 'scaled_svd': 0.0004120498273701213, 'nmf': 0.0005052796055571032, 'slim_bpr': 0.008032560098394176}. Best is trial 14 with value: 0.05219113959024108.\n"
     ]
    },
    {
     "name": "stdout",
     "output_type": "stream",
     "text": [
      "Recommender_Base_Class: URM Detected 627 ( 4.8%) users with no interactions.\n",
      "Recommender_Base_Class: URM Detected 247 ( 1.1%) items with no interactions.\n",
      "EvaluatorHoldout: Ignoring 2568 (19.7%) Users that have less than 1 test interactions\n",
      "EvaluatorHoldout: Processed 10456 (100.0%) in 36.50 sec. Users per second: 286\n"
     ]
    },
    {
     "name": "stderr",
     "output_type": "stream",
     "text": [
      "[I 2023-12-05 14:31:14,209] Trial 17 finished with value: 0.05120069664565727 and parameters: {'slim_elastic': 0.34777875051942975, 'item_knn': 0.3557363835684601, 'rp3': 0.10655941620731268, 'p3alpha': 0.5476684299312217, 'ials': 0.023355713275560942, 'ease_r': 0.0069773349544316465, 'user_knn': 0.0010317238128734446, 'svd_item': 0.001247188991236371, 'scaled_svd': 0.00010386160559133939, 'nmf': 0.002708372976844264, 'slim_bpr': 0.0008941993765261403}. Best is trial 14 with value: 0.05219113959024108.\n"
     ]
    },
    {
     "name": "stdout",
     "output_type": "stream",
     "text": [
      "Recommender_Base_Class: URM Detected 627 ( 4.8%) users with no interactions.\n",
      "Recommender_Base_Class: URM Detected 247 ( 1.1%) items with no interactions.\n",
      "EvaluatorHoldout: Ignoring 2568 (19.7%) Users that have less than 1 test interactions\n",
      "EvaluatorHoldout: Processed 10456 (100.0%) in 36.86 sec. Users per second: 284\n"
     ]
    },
    {
     "name": "stderr",
     "output_type": "stream",
     "text": [
      "[I 2023-12-05 14:31:51,415] Trial 18 finished with value: 0.051265435050582994 and parameters: {'slim_elastic': 0.6044843235150548, 'item_knn': 0.11617688977692489, 'rp3': 0.011177123562667129, 'p3alpha': 0.5879788672368286, 'ials': 0.32583436034354524, 'ease_r': 0.002297992901256529, 'user_knn': 0.004753016026593298, 'svd_item': 0.0004302503455847219, 'scaled_svd': 0.007112132014837422, 'nmf': 0.00033080009369130576, 'slim_bpr': 0.010712830196875469}. Best is trial 14 with value: 0.05219113959024108.\n"
     ]
    },
    {
     "name": "stdout",
     "output_type": "stream",
     "text": [
      "Recommender_Base_Class: URM Detected 627 ( 4.8%) users with no interactions.\n",
      "Recommender_Base_Class: URM Detected 247 ( 1.1%) items with no interactions.\n",
      "EvaluatorHoldout: Ignoring 2568 (19.7%) Users that have less than 1 test interactions\n",
      "EvaluatorHoldout: Processed 10456 (100.0%) in 37.19 sec. Users per second: 281\n"
     ]
    },
    {
     "name": "stderr",
     "output_type": "stream",
     "text": [
      "[I 2023-12-05 14:32:28,962] Trial 19 finished with value: 0.05212484136092636 and parameters: {'slim_elastic': 0.6144490833348655, 'item_knn': 0.08615617677928139, 'rp3': 0.04579046217548965, 'p3alpha': 0.2052597465515047, 'ials': 0.03279257435385384, 'ease_r': 0.010262504521783775, 'user_knn': 0.0022342325605691966, 'svd_item': 0.00010992466115260047, 'scaled_svd': 0.00039375965691193716, 'nmf': 0.00037955706483668787, 'slim_bpr': 0.0001215046251070519}. Best is trial 14 with value: 0.05219113959024108.\n"
     ]
    },
    {
     "name": "stdout",
     "output_type": "stream",
     "text": [
      "Recommender_Base_Class: URM Detected 627 ( 4.8%) users with no interactions.\n",
      "Recommender_Base_Class: URM Detected 247 ( 1.1%) items with no interactions.\n",
      "EvaluatorHoldout: Ignoring 2568 (19.7%) Users that have less than 1 test interactions\n",
      "EvaluatorHoldout: Processed 10456 (100.0%) in 37.46 sec. Users per second: 279\n"
     ]
    },
    {
     "name": "stderr",
     "output_type": "stream",
     "text": [
      "[I 2023-12-05 14:33:06,751] Trial 20 finished with value: 0.05181753698036274 and parameters: {'slim_elastic': 0.26175700152759884, 'item_knn': 0.0553849331013167, 'rp3': 0.14620502181815193, 'p3alpha': 0.2081857719835616, 'ials': 0.007170792522476288, 'ease_r': 0.03386803263183581, 'user_knn': 0.0019882332837885793, 'svd_item': 0.0002433391343995185, 'scaled_svd': 0.0004065779663752933, 'nmf': 0.0007113058698964074, 'slim_bpr': 9.126686633585767e-05}. Best is trial 14 with value: 0.05219113959024108.\n"
     ]
    },
    {
     "name": "stdout",
     "output_type": "stream",
     "text": [
      "Recommender_Base_Class: URM Detected 627 ( 4.8%) users with no interactions.\n",
      "Recommender_Base_Class: URM Detected 247 ( 1.1%) items with no interactions.\n",
      "EvaluatorHoldout: Ignoring 2568 (19.7%) Users that have less than 1 test interactions\n",
      "EvaluatorHoldout: Processed 10456 (100.0%) in 37.82 sec. Users per second: 276\n"
     ]
    },
    {
     "name": "stderr",
     "output_type": "stream",
     "text": [
      "[I 2023-12-05 14:33:44,921] Trial 21 finished with value: 0.051951412419086934 and parameters: {'slim_elastic': 0.3258731342146185, 'item_knn': 0.05775423105121765, 'rp3': 0.14807164369523548, 'p3alpha': 0.20729313290210463, 'ials': 0.00793834671347913, 'ease_r': 0.03656626224550311, 'user_knn': 0.0020687795736744293, 'svd_item': 0.00021868526032713123, 'scaled_svd': 0.0005636162574617596, 'nmf': 0.0006673752379741023, 'slim_bpr': 0.00010675067413010359}. Best is trial 14 with value: 0.05219113959024108.\n"
     ]
    },
    {
     "name": "stdout",
     "output_type": "stream",
     "text": [
      "Recommender_Base_Class: URM Detected 627 ( 4.8%) users with no interactions.\n",
      "Recommender_Base_Class: URM Detected 247 ( 1.1%) items with no interactions.\n",
      "EvaluatorHoldout: Ignoring 2568 (19.7%) Users that have less than 1 test interactions\n",
      "EvaluatorHoldout: Processed 10456 (100.0%) in 38.59 sec. Users per second: 271\n"
     ]
    },
    {
     "name": "stderr",
     "output_type": "stream",
     "text": [
      "[I 2023-12-05 14:34:23,899] Trial 22 finished with value: 0.05217772358241989 and parameters: {'slim_elastic': 0.5563850954672013, 'item_knn': 0.08128656129208192, 'rp3': 0.06367793147033325, 'p3alpha': 0.18845410989466116, 'ials': 0.008777328477468533, 'ease_r': 0.012210484446110078, 'user_knn': 0.0026156485079160715, 'svd_item': 0.0001840680515387915, 'scaled_svd': 0.0004225058959430052, 'nmf': 0.0003046068620159573, 'slim_bpr': 0.00010970862497137489}. Best is trial 14 with value: 0.05219113959024108.\n"
     ]
    },
    {
     "name": "stdout",
     "output_type": "stream",
     "text": [
      "Recommender_Base_Class: URM Detected 627 ( 4.8%) users with no interactions.\n",
      "Recommender_Base_Class: URM Detected 247 ( 1.1%) items with no interactions.\n",
      "EvaluatorHoldout: Ignoring 2568 (19.7%) Users that have less than 1 test interactions\n",
      "EvaluatorHoldout: Processed 10456 (100.0%) in 38.41 sec. Users per second: 272\n"
     ]
    },
    {
     "name": "stderr",
     "output_type": "stream",
     "text": [
      "[I 2023-12-05 14:35:02,687] Trial 23 finished with value: 0.052112837164960776 and parameters: {'slim_elastic': 0.5888077957486433, 'item_knn': 0.09091907489164255, 'rp3': 0.051055874282877944, 'p3alpha': 0.3576087981557237, 'ials': 0.01739994746107026, 'ease_r': 0.009641127153222214, 'user_knn': 0.0016364176685364504, 'svd_item': 0.00010571679138736982, 'scaled_svd': 0.0002925428216728437, 'nmf': 0.00025251631323855797, 'slim_bpr': 0.0005512267774620522}. Best is trial 14 with value: 0.05219113959024108.\n"
     ]
    },
    {
     "name": "stdout",
     "output_type": "stream",
     "text": [
      "Recommender_Base_Class: URM Detected 627 ( 4.8%) users with no interactions.\n",
      "Recommender_Base_Class: URM Detected 247 ( 1.1%) items with no interactions.\n",
      "EvaluatorHoldout: Ignoring 2568 (19.7%) Users that have less than 1 test interactions\n",
      "EvaluatorHoldout: Processed 10456 (100.0%) in 38.25 sec. Users per second: 273\n"
     ]
    },
    {
     "name": "stderr",
     "output_type": "stream",
     "text": [
      "[I 2023-12-05 14:35:41,283] Trial 24 finished with value: 0.05208255152354283 and parameters: {'slim_elastic': 0.5300757467911578, 'item_knn': 0.12764709906395105, 'rp3': 0.07520325907499685, 'p3alpha': 0.15151455133182823, 'ials': 0.009356992009543815, 'ease_r': 0.005041822314788762, 'user_knn': 0.0032735299211038584, 'svd_item': 0.0005550672598150518, 'scaled_svd': 0.0002953256574570209, 'nmf': 0.0003089012795684082, 'slim_bpr': 5.032719144772774e-05}. Best is trial 14 with value: 0.05219113959024108.\n"
     ]
    },
    {
     "name": "stdout",
     "output_type": "stream",
     "text": [
      "Recommender_Base_Class: URM Detected 627 ( 4.8%) users with no interactions.\n",
      "Recommender_Base_Class: URM Detected 247 ( 1.1%) items with no interactions.\n",
      "EvaluatorHoldout: Ignoring 2568 (19.7%) Users that have less than 1 test interactions\n",
      "EvaluatorHoldout: Processed 10456 (100.0%) in 38.19 sec. Users per second: 274\n"
     ]
    },
    {
     "name": "stderr",
     "output_type": "stream",
     "text": [
      "[I 2023-12-05 14:36:19,842] Trial 25 finished with value: 0.05211528126935595 and parameters: {'slim_elastic': 0.7118783817991279, 'item_knn': 0.052613150721304895, 'rp3': 0.04668663393230295, 'p3alpha': 0.4684297492607676, 'ials': 0.02278276009786749, 'ease_r': 0.014149981398097384, 'user_knn': 0.002854128673047433, 'svd_item': 0.0002023975948642352, 'scaled_svd': 0.0005910271895222833, 'nmf': 0.002037690650942564, 'slim_bpr': 0.0001731677646782702}. Best is trial 14 with value: 0.05219113959024108.\n"
     ]
    },
    {
     "name": "stdout",
     "output_type": "stream",
     "text": [
      "Recommender_Base_Class: URM Detected 627 ( 4.8%) users with no interactions.\n",
      "Recommender_Base_Class: URM Detected 247 ( 1.1%) items with no interactions.\n",
      "EvaluatorHoldout: Ignoring 2568 (19.7%) Users that have less than 1 test interactions\n",
      "EvaluatorHoldout: Processed 10456 (100.0%) in 36.91 sec. Users per second: 283\n"
     ]
    },
    {
     "name": "stderr",
     "output_type": "stream",
     "text": [
      "[I 2023-12-05 14:36:57,090] Trial 26 finished with value: 0.05186334496180573 and parameters: {'slim_elastic': 0.39823530163899573, 'item_knn': 0.08554558583968008, 'rp3': 0.036898047955435324, 'p3alpha': 0.2990300231624181, 'ials': 0.007409928443898604, 'ease_r': 0.007320633274471781, 'user_knn': 0.0070186872308530485, 'svd_item': 0.0005403835430602143, 'scaled_svd': 0.00011281926033613826, 'nmf': 0.0003033815392570446, 'slim_bpr': 0.0003846150184900522}. Best is trial 14 with value: 0.05219113959024108.\n"
     ]
    },
    {
     "name": "stdout",
     "output_type": "stream",
     "text": [
      "Recommender_Base_Class: URM Detected 627 ( 4.8%) users with no interactions.\n",
      "Recommender_Base_Class: URM Detected 247 ( 1.1%) items with no interactions.\n",
      "EvaluatorHoldout: Ignoring 2568 (19.7%) Users that have less than 1 test interactions\n",
      "EvaluatorHoldout: Processed 10456 (100.0%) in 36.83 sec. Users per second: 284\n"
     ]
    },
    {
     "name": "stderr",
     "output_type": "stream",
     "text": [
      "[I 2023-12-05 14:37:34,247] Trial 27 finished with value: 0.05204117253251763 and parameters: {'slim_elastic': 0.6703029697635896, 'item_knn': 0.14495658335753345, 'rp3': 0.05809048559913269, 'p3alpha': 0.37471596060725276, 'ials': 0.03190282292384314, 'ease_r': 0.015895702749688326, 'user_knn': 0.00128806714296133, 'svd_item': 0.0001935551051469274, 'scaled_svd': 0.0013504202209059046, 'nmf': 0.0005840844491406523, 'slim_bpr': 0.0011652804240046505}. Best is trial 14 with value: 0.05219113959024108.\n"
     ]
    },
    {
     "name": "stdout",
     "output_type": "stream",
     "text": [
      "Recommender_Base_Class: URM Detected 627 ( 4.8%) users with no interactions.\n",
      "Recommender_Base_Class: URM Detected 247 ( 1.1%) items with no interactions.\n",
      "EvaluatorHoldout: Ignoring 2568 (19.7%) Users that have less than 1 test interactions\n",
      "EvaluatorHoldout: Processed 10456 (100.0%) in 37.06 sec. Users per second: 282\n"
     ]
    },
    {
     "name": "stderr",
     "output_type": "stream",
     "text": [
      "[I 2023-12-05 14:38:11,636] Trial 28 finished with value: 0.0514295543836005 and parameters: {'slim_elastic': 0.1520765014112391, 'item_knn': 0.09796751700738132, 'rp3': 0.027039397070037142, 'p3alpha': 0.19371989379457377, 'ials': 0.011977818733395356, 'ease_r': 0.003526155978112622, 'user_knn': 0.003344292901270375, 'svd_item': 0.0013159631039589665, 'scaled_svd': 0.00020863372890023163, 'nmf': 0.00022932511098614497, 'slim_bpr': 0.00014784858650913372}. Best is trial 14 with value: 0.05219113959024108.\n"
     ]
    },
    {
     "name": "stdout",
     "output_type": "stream",
     "text": [
      "Recommender_Base_Class: URM Detected 627 ( 4.8%) users with no interactions.\n",
      "Recommender_Base_Class: URM Detected 247 ( 1.1%) items with no interactions.\n",
      "EvaluatorHoldout: Ignoring 2568 (19.7%) Users that have less than 1 test interactions\n",
      "EvaluatorHoldout: Processed 10456 (100.0%) in 37.63 sec. Users per second: 278\n"
     ]
    },
    {
     "name": "stderr",
     "output_type": "stream",
     "text": [
      "[I 2023-12-05 14:38:49,599] Trial 29 finished with value: 0.051929411684337574 and parameters: {'slim_elastic': 0.4516337355181298, 'item_knn': 0.06312249005093641, 'rp3': 0.08003833244107678, 'p3alpha': 0.37570820910614927, 'ials': 0.005202034150063672, 'ease_r': 0.005257886688000258, 'user_knn': 0.0017356385072445503, 'svd_item': 0.0003269637609765339, 'scaled_svd': 0.0006645525231547225, 'nmf': 0.0004280157893936465, 'slim_bpr': 6.943642665794138e-05}. Best is trial 14 with value: 0.05219113959024108.\n"
     ]
    },
    {
     "name": "stdout",
     "output_type": "stream",
     "text": [
      "Recommender_Base_Class: URM Detected 627 ( 4.8%) users with no interactions.\n",
      "Recommender_Base_Class: URM Detected 247 ( 1.1%) items with no interactions.\n",
      "EvaluatorHoldout: Ignoring 2568 (19.7%) Users that have less than 1 test interactions\n",
      "EvaluatorHoldout: Processed 10456 (100.0%) in 37.20 sec. Users per second: 281\n"
     ]
    },
    {
     "name": "stderr",
     "output_type": "stream",
     "text": [
      "[I 2023-12-05 14:39:27,163] Trial 30 finished with value: 0.05131336074980954 and parameters: {'slim_elastic': 0.2826315161913647, 'item_knn': 0.18545438338037834, 'rp3': 0.08070779023751605, 'p3alpha': 0.11399326406382373, 'ials': 0.01648889662926692, 'ease_r': 0.023837448261830967, 'user_knn': 0.008223618492078366, 'svd_item': 0.00034345594598151615, 'scaled_svd': 0.00029905491279349236, 'nmf': 0.0001680140587638613, 'slim_bpr': 3.628043368907291e-05}. Best is trial 14 with value: 0.05219113959024108.\n"
     ]
    },
    {
     "name": "stdout",
     "output_type": "stream",
     "text": [
      "Recommender_Base_Class: URM Detected 627 ( 4.8%) users with no interactions.\n",
      "Recommender_Base_Class: URM Detected 247 ( 1.1%) items with no interactions.\n",
      "EvaluatorHoldout: Ignoring 2568 (19.7%) Users that have less than 1 test interactions\n",
      "EvaluatorHoldout: Processed 10456 (100.0%) in 37.33 sec. Users per second: 280\n"
     ]
    },
    {
     "name": "stderr",
     "output_type": "stream",
     "text": [
      "[I 2023-12-05 14:40:04,830] Trial 31 finished with value: 0.052150364034928384 and parameters: {'slim_elastic': 0.9948752434269008, 'item_knn': 0.049527955303564984, 'rp3': 0.04838561879383438, 'p3alpha': 0.5458319131415591, 'ials': 0.022572769887390213, 'ease_r': 0.01187445325976655, 'user_knn': 0.00326225397615382, 'svd_item': 0.00016797815015504803, 'scaled_svd': 0.0006657633491427998, 'nmf': 0.001961051434146826, 'slim_bpr': 0.0001383133477737505}. Best is trial 14 with value: 0.05219113959024108.\n"
     ]
    },
    {
     "name": "stdout",
     "output_type": "stream",
     "text": [
      "Recommender_Base_Class: URM Detected 627 ( 4.8%) users with no interactions.\n",
      "Recommender_Base_Class: URM Detected 247 ( 1.1%) items with no interactions.\n",
      "EvaluatorHoldout: Ignoring 2568 (19.7%) Users that have less than 1 test interactions\n",
      "EvaluatorHoldout: Processed 10456 (100.0%) in 36.79 sec. Users per second: 284\n"
     ]
    },
    {
     "name": "stderr",
     "output_type": "stream",
     "text": [
      "[I 2023-12-05 14:40:41,954] Trial 32 finished with value: 0.05203572643033295 and parameters: {'slim_elastic': 0.7655961169472995, 'item_knn': 0.04495147549361423, 'rp3': 0.05731522809494352, 'p3alpha': 0.5024844262253944, 'ials': 0.0352865559736072, 'ease_r': 0.011457715223340435, 'user_knn': 0.001465479094138271, 'svd_item': 0.00016445824913008947, 'scaled_svd': 0.00042948556714328726, 'nmf': 0.000992367147674407, 'slim_bpr': 0.0001521880312876524}. Best is trial 14 with value: 0.05219113959024108.\n"
     ]
    },
    {
     "name": "stdout",
     "output_type": "stream",
     "text": [
      "Recommender_Base_Class: URM Detected 627 ( 4.8%) users with no interactions.\n",
      "Recommender_Base_Class: URM Detected 247 ( 1.1%) items with no interactions.\n",
      "EvaluatorHoldout: Ignoring 2568 (19.7%) Users that have less than 1 test interactions\n",
      "EvaluatorHoldout: Processed 10456 (100.0%) in 36.87 sec. Users per second: 284\n"
     ]
    },
    {
     "name": "stderr",
     "output_type": "stream",
     "text": [
      "[I 2023-12-05 14:41:19,217] Trial 33 finished with value: 0.05202633332726154 and parameters: {'slim_elastic': 0.9077728480836007, 'item_knn': 0.08758901280206073, 'rp3': 0.040558275819662655, 'p3alpha': 0.2474275545979153, 'ials': 0.05393482887397797, 'ease_r': 0.009305112802043922, 'user_knn': 0.0038484805819677084, 'svd_item': 0.00017858799457295174, 'scaled_svd': 0.0011155914523925214, 'nmf': 0.00045529315404770954, 'slim_bpr': 7.310373400118856e-05}. Best is trial 14 with value: 0.05219113959024108.\n"
     ]
    },
    {
     "name": "stdout",
     "output_type": "stream",
     "text": [
      "Recommender_Base_Class: URM Detected 627 ( 4.8%) users with no interactions.\n",
      "Recommender_Base_Class: URM Detected 247 ( 1.1%) items with no interactions.\n",
      "EvaluatorHoldout: Ignoring 2568 (19.7%) Users that have less than 1 test interactions\n",
      "EvaluatorHoldout: Processed 10456 (100.0%) in 36.71 sec. Users per second: 285\n"
     ]
    },
    {
     "name": "stderr",
     "output_type": "stream",
     "text": [
      "[I 2023-12-05 14:41:56,265] Trial 34 finished with value: 0.051974972978225245 and parameters: {'slim_elastic': 0.4662139301379195, 'item_knn': 0.07274882530217422, 'rp3': 0.03719752211620065, 'p3alpha': 0.3477234708827825, 'ials': 0.020562768588522417, 'ease_r': 0.004433103944344511, 'user_knn': 0.0024374660455373618, 'svd_item': 0.0001021138623312102, 'scaled_svd': 0.0006995844765493733, 'nmf': 0.0016254827145349838, 'slim_bpr': 0.0004688835938561396}. Best is trial 14 with value: 0.05219113959024108.\n"
     ]
    },
    {
     "name": "stdout",
     "output_type": "stream",
     "text": [
      "Recommender_Base_Class: URM Detected 627 ( 4.8%) users with no interactions.\n",
      "Recommender_Base_Class: URM Detected 247 ( 1.1%) items with no interactions.\n",
      "EvaluatorHoldout: Ignoring 2568 (19.7%) Users that have less than 1 test interactions\n",
      "EvaluatorHoldout: Processed 10456 (100.0%) in 36.92 sec. Users per second: 283\n"
     ]
    },
    {
     "name": "stderr",
     "output_type": "stream",
     "text": [
      "[I 2023-12-05 14:42:33,578] Trial 35 finished with value: 0.05195895346789621 and parameters: {'slim_elastic': 0.6034412022494158, 'item_knn': 0.02694132532898635, 'rp3': 0.054156441068775416, 'p3alpha': 0.1531106356117998, 'ials': 0.02889732702834295, 'ease_r': 0.025499169047902656, 'user_knn': 0.0010019224907654551, 'svd_item': 0.0002878495647430693, 'scaled_svd': 0.0017108803289016116, 'nmf': 0.0007766062978515404, 'slim_bpr': 0.00022564529572357593}. Best is trial 14 with value: 0.05219113959024108.\n"
     ]
    },
    {
     "name": "stdout",
     "output_type": "stream",
     "text": [
      "Recommender_Base_Class: URM Detected 627 ( 4.8%) users with no interactions.\n",
      "Recommender_Base_Class: URM Detected 247 ( 1.1%) items with no interactions.\n",
      "EvaluatorHoldout: Ignoring 2568 (19.7%) Users that have less than 1 test interactions\n",
      "EvaluatorHoldout: Processed 10456 (100.0%) in 37.29 sec. Users per second: 280\n"
     ]
    },
    {
     "name": "stderr",
     "output_type": "stream",
     "text": [
      "[I 2023-12-05 14:43:11,231] Trial 36 finished with value: 0.05177677281062949 and parameters: {'slim_elastic': 0.3645865492008805, 'item_knn': 0.04475546754628129, 'rp3': 0.06992591949018062, 'p3alpha': 0.44130240196878434, 'ials': 0.012508532719796097, 'ease_r': 0.014557132738505922, 'user_knn': 0.001453147945272732, 'svd_item': 0.0001586667638887718, 'scaled_svd': 0.0010684796269092385, 'nmf': 0.00038690080196482433, 'slim_bpr': 0.0013789570338762673}. Best is trial 14 with value: 0.05219113959024108.\n"
     ]
    },
    {
     "name": "stdout",
     "output_type": "stream",
     "text": [
      "Recommender_Base_Class: URM Detected 627 ( 4.8%) users with no interactions.\n",
      "Recommender_Base_Class: URM Detected 247 ( 1.1%) items with no interactions.\n",
      "EvaluatorHoldout: Ignoring 2568 (19.7%) Users that have less than 1 test interactions\n",
      "EvaluatorHoldout: Processed 10456 (100.0%) in 37.05 sec. Users per second: 282\n"
     ]
    },
    {
     "name": "stderr",
     "output_type": "stream",
     "text": [
      "[I 2023-12-05 14:43:48,614] Trial 37 finished with value: 0.052071917392308154 and parameters: {'slim_elastic': 0.9845948938585766, 'item_knn': 0.10907021719048188, 'rp3': 0.10896635020962145, 'p3alpha': 0.6382071626416356, 'ials': 0.01053866338151811, 'ease_r': 0.002048432462748549, 'user_knn': 0.00962551439129484, 'svd_item': 0.0007023944459725963, 'scaled_svd': 0.00015707028614766512, 'nmf': 0.0001414443326248569, 'slim_bpr': 0.00012365155936209924}. Best is trial 14 with value: 0.05219113959024108.\n"
     ]
    },
    {
     "name": "stdout",
     "output_type": "stream",
     "text": [
      "Recommender_Base_Class: URM Detected 627 ( 4.8%) users with no interactions.\n",
      "Recommender_Base_Class: URM Detected 247 ( 1.1%) items with no interactions.\n",
      "EvaluatorHoldout: Ignoring 2568 (19.7%) Users that have less than 1 test interactions\n",
      "EvaluatorHoldout: Processed 10456 (100.0%) in 37.41 sec. Users per second: 280\n"
     ]
    },
    {
     "name": "stderr",
     "output_type": "stream",
     "text": [
      "[I 2023-12-05 14:44:26,385] Trial 38 finished with value: 0.051620972541019126 and parameters: {'slim_elastic': 0.728075377226387, 'item_knn': 0.03786695593426719, 'rp3': 0.0506288942686497, 'p3alpha': 0.30373686061665495, 'ials': 0.013670519668658704, 'ease_r': 0.003360165798490538, 'user_knn': 0.017285037149852134, 'svd_item': 0.00014504073294783983, 'scaled_svd': 0.000842543011718409, 'nmf': 0.00014450589714536062, 'slim_bpr': 0.0006333290418935876}. Best is trial 14 with value: 0.05219113959024108.\n"
     ]
    },
    {
     "name": "stdout",
     "output_type": "stream",
     "text": [
      "Recommender_Base_Class: URM Detected 627 ( 4.8%) users with no interactions.\n",
      "Recommender_Base_Class: URM Detected 247 ( 1.1%) items with no interactions.\n",
      "EvaluatorHoldout: Ignoring 2568 (19.7%) Users that have less than 1 test interactions\n",
      "EvaluatorHoldout: Processed 10456 (100.0%) in 36.81 sec. Users per second: 284\n"
     ]
    },
    {
     "name": "stderr",
     "output_type": "stream",
     "text": [
      "[I 2023-12-05 14:45:03,567] Trial 39 finished with value: 0.05152512114256633 and parameters: {'slim_elastic': 0.5010991202878614, 'item_knn': 0.021567089377149132, 'rp3': 0.0687541474898114, 'p3alpha': 0.9504486023750339, 'ials': 0.01679310210926811, 'ease_r': 0.04512744870733528, 'user_knn': 0.004858952858411208, 'svd_item': 0.00038049478160549115, 'scaled_svd': 0.002351200280555055, 'nmf': 0.00030191371660744635, 'slim_bpr': 0.00179424002099323}. Best is trial 14 with value: 0.05219113959024108.\n"
     ]
    },
    {
     "name": "stdout",
     "output_type": "stream",
     "text": [
      "Recommender_Base_Class: URM Detected 627 ( 4.8%) users with no interactions.\n",
      "Recommender_Base_Class: URM Detected 247 ( 1.1%) items with no interactions.\n",
      "EvaluatorHoldout: Ignoring 2568 (19.7%) Users that have less than 1 test interactions\n",
      "EvaluatorHoldout: Processed 10456 (100.0%) in 37.56 sec. Users per second: 278\n"
     ]
    },
    {
     "name": "stderr",
     "output_type": "stream",
     "text": [
      "[I 2023-12-05 14:45:41,467] Trial 40 finished with value: 0.052173977726770834 and parameters: {'slim_elastic': 0.4443629969376532, 'item_knn': 0.0516796972070973, 'rp3': 0.08892375548538327, 'p3alpha': 0.06214216945607826, 'ials': 0.008820834260252134, 'ease_r': 0.001693473389195477, 'user_knn': 0.002494430633428701, 'svd_item': 0.00024877094131905747, 'scaled_svd': 0.00026011229016018836, 'nmf': 0.00022163157180490667, 'slim_bpr': 1.8550349902506414e-05}. Best is trial 14 with value: 0.05219113959024108.\n"
     ]
    },
    {
     "name": "stdout",
     "output_type": "stream",
     "text": [
      "Recommender_Base_Class: URM Detected 627 ( 4.8%) users with no interactions.\n",
      "Recommender_Base_Class: URM Detected 247 ( 1.1%) items with no interactions.\n",
      "EvaluatorHoldout: Ignoring 2568 (19.7%) Users that have less than 1 test interactions\n",
      "EvaluatorHoldout: Processed 10456 (100.0%) in 36.68 sec. Users per second: 285\n"
     ]
    },
    {
     "name": "stderr",
     "output_type": "stream",
     "text": [
      "[I 2023-12-05 14:46:18,499] Trial 41 finished with value: 0.05210489382567674 and parameters: {'slim_elastic': 0.7021118478434768, 'item_knn': 0.06390910280344067, 'rp3': 0.087012778770314, 'p3alpha': 0.056686767128620134, 'ials': 0.0089915863301539, 'ease_r': 0.0017457849915356188, 'user_knn': 0.002101978649777814, 'svd_item': 0.00023632375885331393, 'scaled_svd': 0.0002555625658163751, 'nmf': 0.0001968127416729604, 'slim_bpr': 1.335741359803564e-05}. Best is trial 14 with value: 0.05219113959024108.\n"
     ]
    },
    {
     "name": "stdout",
     "output_type": "stream",
     "text": [
      "Recommender_Base_Class: URM Detected 627 ( 4.8%) users with no interactions.\n",
      "Recommender_Base_Class: URM Detected 247 ( 1.1%) items with no interactions.\n",
      "EvaluatorHoldout: Ignoring 2568 (19.7%) Users that have less than 1 test interactions\n",
      "EvaluatorHoldout: Processed 10456 (100.0%) in 37.55 sec. Users per second: 278\n"
     ]
    },
    {
     "name": "stderr",
     "output_type": "stream",
     "text": [
      "[I 2023-12-05 14:46:56,375] Trial 42 finished with value: 0.05205216341190959 and parameters: {'slim_elastic': 0.4371126665514775, 'item_knn': 0.042076876939059565, 'rp3': 0.061827356505720445, 'p3alpha': 0.06225092876110425, 'ials': 0.006396394292746186, 'ease_r': 0.0016267285315017448, 'user_knn': 0.0028320374186676083, 'svd_item': 0.0001392376228509574, 'scaled_svd': 0.00045279724869705384, 'nmf': 0.00023038244581159064, 'slim_bpr': 3.582231620975437e-05}. Best is trial 14 with value: 0.05219113959024108.\n"
     ]
    },
    {
     "name": "stdout",
     "output_type": "stream",
     "text": [
      "Recommender_Base_Class: URM Detected 627 ( 4.8%) users with no interactions.\n",
      "Recommender_Base_Class: URM Detected 247 ( 1.1%) items with no interactions.\n",
      "EvaluatorHoldout: Ignoring 2568 (19.7%) Users that have less than 1 test interactions\n",
      "EvaluatorHoldout: Processed 10456 (100.0%) in 37.46 sec. Users per second: 279\n"
     ]
    },
    {
     "name": "stderr",
     "output_type": "stream",
     "text": [
      "[I 2023-12-05 14:47:34,175] Trial 43 finished with value: 0.05212117140914048 and parameters: {'slim_elastic': 0.5497168085888975, 'item_knn': 0.033372923295622796, 'rp3': 0.12032388100873936, 'p3alpha': 0.1256163629858721, 'ials': 0.01008813706488309, 'ease_r': 0.002981872636497355, 'user_knn': 0.0036475277749721475, 'svd_item': 0.000145701128073609, 'scaled_svd': 0.00015034748110402882, 'nmf': 0.0005017499045675884, 'slim_bpr': 2.5792722253312262e-05}. Best is trial 14 with value: 0.05219113959024108.\n"
     ]
    },
    {
     "name": "stdout",
     "output_type": "stream",
     "text": [
      "Recommender_Base_Class: URM Detected 627 ( 4.8%) users with no interactions.\n",
      "Recommender_Base_Class: URM Detected 247 ( 1.1%) items with no interactions.\n",
      "EvaluatorHoldout: Ignoring 2568 (19.7%) Users that have less than 1 test interactions\n",
      "EvaluatorHoldout: Processed 10456 (100.0%) in 39.34 sec. Users per second: 266\n"
     ]
    },
    {
     "name": "stderr",
     "output_type": "stream",
     "text": [
      "[I 2023-12-05 14:48:13,849] Trial 44 finished with value: 0.05195890413038532 and parameters: {'slim_elastic': 0.7841837446925665, 'item_knn': 0.053819473316390185, 'rp3': 0.09192454237533103, 'p3alpha': 0.09311149230211234, 'ials': 0.006367046168922097, 'ease_r': 0.005091896412107064, 'user_knn': 0.007809511050882715, 'svd_item': 0.00010006901198879592, 'scaled_svd': 0.00023889001315067918, 'nmf': 0.00012025564046738206, 'slim_bpr': 5.8512897213754116e-05}. Best is trial 14 with value: 0.05219113959024108.\n"
     ]
    },
    {
     "name": "stdout",
     "output_type": "stream",
     "text": [
      "Recommender_Base_Class: URM Detected 627 ( 4.8%) users with no interactions.\n",
      "Recommender_Base_Class: URM Detected 247 ( 1.1%) items with no interactions.\n",
      "EvaluatorHoldout: Ignoring 2568 (19.7%) Users that have less than 1 test interactions\n",
      "EvaluatorHoldout: Processed 10456 (100.0%) in 38.99 sec. Users per second: 268\n"
     ]
    },
    {
     "name": "stderr",
     "output_type": "stream",
     "text": [
      "[I 2023-12-05 14:48:53,177] Trial 45 finished with value: 0.05177974824206711 and parameters: {'slim_elastic': 0.8153376120439498, 'item_knn': 0.07405773975175804, 'rp3': 0.22200669390499062, 'p3alpha': 0.7791702190254415, 'ials': 0.013948751356490598, 'ease_r': 0.0013703138506887427, 'user_knn': 0.0015042359730205893, 'svd_item': 0.0002671983787100512, 'scaled_svd': 0.00034633443325402956, 'nmf': 0.00016182051502746086, 'slim_bpr': 1.6228481626173636e-05}. Best is trial 14 with value: 0.05219113959024108.\n"
     ]
    },
    {
     "name": "stdout",
     "output_type": "stream",
     "text": [
      "Recommender_Base_Class: URM Detected 627 ( 4.8%) users with no interactions.\n",
      "Recommender_Base_Class: URM Detected 247 ( 1.1%) items with no interactions.\n",
      "EvaluatorHoldout: Ignoring 2568 (19.7%) Users that have less than 1 test interactions\n",
      "EvaluatorHoldout: Processed 10456 (100.0%) in 40.67 sec. Users per second: 257\n"
     ]
    },
    {
     "name": "stderr",
     "output_type": "stream",
     "text": [
      "[I 2023-12-05 14:49:34,217] Trial 46 finished with value: 0.052054072394069076 and parameters: {'slim_elastic': 0.987951896573398, 'item_knn': 0.15248968192486628, 'rp3': 0.06648194732801613, 'p3alpha': 0.23237550608048624, 'ials': 0.008562702759613624, 'ease_r': 0.002399962712686361, 'user_knn': 0.004756822614245526, 'svd_item': 0.0004937559549926133, 'scaled_svd': 0.0005994496309366369, 'nmf': 0.00010024640624653252, 'slim_bpr': 1.1202984762949337e-05}. Best is trial 14 with value: 0.05219113959024108.\n"
     ]
    },
    {
     "name": "stdout",
     "output_type": "stream",
     "text": [
      "Recommender_Base_Class: URM Detected 627 ( 4.8%) users with no interactions.\n",
      "Recommender_Base_Class: URM Detected 247 ( 1.1%) items with no interactions.\n",
      "EvaluatorHoldout: Ignoring 2568 (19.7%) Users that have less than 1 test interactions\n",
      "EvaluatorHoldout: Processed 10456 (100.0%) in 39.55 sec. Users per second: 264\n"
     ]
    },
    {
     "name": "stderr",
     "output_type": "stream",
     "text": [
      "[I 2023-12-05 14:50:14,120] Trial 47 finished with value: 0.05186047200058353 and parameters: {'slim_elastic': 0.3743100342447815, 'item_knn': 0.08773926188998409, 'rp3': 0.034228627408291516, 'p3alpha': 0.17473092968077805, 'ials': 0.040307380674663634, 'ease_r': 0.0013967993511939324, 'user_knn': 0.00585621507801757, 'svd_item': 0.0002014709236904223, 'scaled_svd': 0.00022698868569229457, 'nmf': 0.00022628786835368736, 'slim_bpr': 1.9627557848472653e-05}. Best is trial 14 with value: 0.05219113959024108.\n"
     ]
    },
    {
     "name": "stdout",
     "output_type": "stream",
     "text": [
      "Recommender_Base_Class: URM Detected 627 ( 4.8%) users with no interactions.\n",
      "Recommender_Base_Class: URM Detected 247 ( 1.1%) items with no interactions.\n",
      "EvaluatorHoldout: Ignoring 2568 (19.7%) Users that have less than 1 test interactions\n",
      "EvaluatorHoldout: Processed 10456 (100.0%) in 39.88 sec. Users per second: 262\n"
     ]
    },
    {
     "name": "stderr",
     "output_type": "stream",
     "text": [
      "[I 2023-12-05 14:50:54,366] Trial 48 finished with value: 0.052101523694150394 and parameters: {'slim_elastic': 0.5190634607429754, 'item_knn': 0.10382300222874274, 'rp3': 0.046685690469865045, 'p3alpha': 0.2453692302670944, 'ials': 0.006275492299889019, 'ease_r': 0.0029576128917342664, 'user_knn': 0.0024499833848532124, 'svd_item': 0.00030893562038933944, 'scaled_svd': 0.0007759444459949993, 'nmf': 0.00038245264616342103, 'slim_bpr': 5.095660281573145e-05}. Best is trial 14 with value: 0.05219113959024108.\n"
     ]
    },
    {
     "name": "stdout",
     "output_type": "stream",
     "text": [
      "Recommender_Base_Class: URM Detected 627 ( 4.8%) users with no interactions.\n",
      "Recommender_Base_Class: URM Detected 247 ( 1.1%) items with no interactions.\n",
      "EvaluatorHoldout: Ignoring 2568 (19.7%) Users that have less than 1 test interactions\n",
      "EvaluatorHoldout: Processed 10456 (100.0%) in 38.07 sec. Users per second: 275\n"
     ]
    },
    {
     "name": "stderr",
     "output_type": "stream",
     "text": [
      "[I 2023-12-05 14:51:32,766] Trial 49 finished with value: 0.051491275609964214 and parameters: {'slim_elastic': 0.6753995292980952, 'item_knn': 0.02974355425438226, 'rp3': 0.09312947203824595, 'p3alpha': 0.13404775459862137, 'ials': 0.010559318119004674, 'ease_r': 0.006265121424240262, 'user_knn': 0.012421393827614754, 'svd_item': 0.00014955479195327044, 'scaled_svd': 0.00045333248977320276, 'nmf': 0.0043161217993621, 'slim_bpr': 0.00018496816576952106}. Best is trial 14 with value: 0.05219113959024108.\n"
     ]
    },
    {
     "name": "stdout",
     "output_type": "stream",
     "text": [
      "Recommender_Base_Class: URM Detected 627 ( 4.8%) users with no interactions.\n",
      "Recommender_Base_Class: URM Detected 247 ( 1.1%) items with no interactions.\n",
      "EvaluatorHoldout: Ignoring 2568 (19.7%) Users that have less than 1 test interactions\n",
      "EvaluatorHoldout: Processed 10456 (100.0%) in 38.44 sec. Users per second: 272\n"
     ]
    },
    {
     "name": "stderr",
     "output_type": "stream",
     "text": [
      "[I 2023-12-05 14:52:11,559] Trial 50 finished with value: 0.05193154837808682 and parameters: {'slim_elastic': 0.32429282844241636, 'item_knn': 0.04648641762586908, 'rp3': 0.026225075256266127, 'p3alpha': 0.10263315692421156, 'ials': 0.025883146919389095, 'ease_r': 0.008934485244196703, 'user_knn': 0.003676006993844308, 'svd_item': 0.00038868578027155206, 'scaled_svd': 0.00013408602186577677, 'nmf': 0.0008465367962461552, 'slim_bpr': 8.87603013981966e-05}. Best is trial 14 with value: 0.05219113959024108.\n"
     ]
    },
    {
     "name": "stdout",
     "output_type": "stream",
     "text": [
      "Recommender_Base_Class: URM Detected 627 ( 4.8%) users with no interactions.\n",
      "Recommender_Base_Class: URM Detected 247 ( 1.1%) items with no interactions.\n",
      "EvaluatorHoldout: Ignoring 2568 (19.7%) Users that have less than 1 test interactions\n",
      "EvaluatorHoldout: Processed 10456 (100.0%) in 39.11 sec. Users per second: 267\n"
     ]
    },
    {
     "name": "stderr",
     "output_type": "stream",
     "text": [
      "[I 2023-12-05 14:52:51,029] Trial 51 finished with value: 0.05211899676345976 and parameters: {'slim_elastic': 0.5533854482737939, 'item_knn': 0.038319136344218914, 'rp3': 0.11508105317900075, 'p3alpha': 0.12126681608860611, 'ials': 0.010302064366289346, 'ease_r': 0.0029110477540297236, 'user_knn': 0.0037915216806055974, 'svd_item': 0.00013739839716728138, 'scaled_svd': 0.00016994558572787352, 'nmf': 0.0004430729120181601, 'slim_bpr': 2.723783543253528e-05}. Best is trial 14 with value: 0.05219113959024108.\n"
     ]
    },
    {
     "name": "stdout",
     "output_type": "stream",
     "text": [
      "Recommender_Base_Class: URM Detected 627 ( 4.8%) users with no interactions.\n",
      "Recommender_Base_Class: URM Detected 247 ( 1.1%) items with no interactions.\n",
      "EvaluatorHoldout: Ignoring 2568 (19.7%) Users that have less than 1 test interactions\n",
      "EvaluatorHoldout: Processed 10456 (100.0%) in 38.89 sec. Users per second: 269\n"
     ]
    },
    {
     "name": "stderr",
     "output_type": "stream",
     "text": [
      "[I 2023-12-05 14:53:30,305] Trial 52 finished with value: 0.05212327774134436 and parameters: {'slim_elastic': 0.6192485952836638, 'item_knn': 0.035460960888879685, 'rp3': 0.130193046812663, 'p3alpha': 0.174665157015997, 'ials': 0.019964165509185363, 'ease_r': 0.004182511763234964, 'user_knn': 0.0019094388369791638, 'svd_item': 0.00012902984798400885, 'scaled_svd': 0.00013155175482692543, 'nmf': 0.000594248133440177, 'slim_bpr': 2.486136100500212e-05}. Best is trial 14 with value: 0.05219113959024108.\n"
     ]
    },
    {
     "name": "stdout",
     "output_type": "stream",
     "text": [
      "Recommender_Base_Class: URM Detected 627 ( 4.8%) users with no interactions.\n",
      "Recommender_Base_Class: URM Detected 247 ( 1.1%) items with no interactions.\n",
      "EvaluatorHoldout: Ignoring 2568 (19.7%) Users that have less than 1 test interactions\n",
      "EvaluatorHoldout: Processed 10456 (100.0%) in 38.53 sec. Users per second: 271\n"
     ]
    },
    {
     "name": "stderr",
     "output_type": "stream",
     "text": [
      "[I 2023-12-05 14:54:09,219] Trial 53 finished with value: 0.052021331262676565 and parameters: {'slim_elastic': 0.8330897320156022, 'item_knn': 0.06365350950082874, 'rp3': 0.04140340797661787, 'p3alpha': 0.16893360013068762, 'ials': 0.0191158337245509, 'ease_r': 0.003991697963991485, 'user_knn': 0.0019179756164460632, 'svd_item': 0.0002331571485704492, 'scaled_svd': 0.00033490983454755854, 'nmf': 0.0006205257218636229, 'slim_bpr': 2.3174852286784163e-05}. Best is trial 14 with value: 0.05219113959024108.\n"
     ]
    },
    {
     "name": "stdout",
     "output_type": "stream",
     "text": [
      "Recommender_Base_Class: URM Detected 627 ( 4.8%) users with no interactions.\n",
      "Recommender_Base_Class: URM Detected 247 ( 1.1%) items with no interactions.\n",
      "EvaluatorHoldout: Ignoring 2568 (19.7%) Users that have less than 1 test interactions\n",
      "EvaluatorHoldout: Processed 10456 (100.0%) in 38.48 sec. Users per second: 272\n"
     ]
    },
    {
     "name": "stderr",
     "output_type": "stream",
     "text": [
      "[I 2023-12-05 14:54:48,027] Trial 54 finished with value: 0.05216011768134981 and parameters: {'slim_elastic': 0.4510516702791113, 'item_knn': 0.04971268865022237, 'rp3': 0.06278581336558638, 'p3alpha': 0.2088147650836141, 'ials': 0.02262027546896652, 'ease_r': 0.006230897066420983, 'user_knn': 0.0026154005556018075, 'svd_item': 0.00012096164829875867, 'scaled_svd': 0.00010829082393696017, 'nmf': 0.0012072592729820827, 'slim_bpr': 4.4360834891438104e-05}. Best is trial 14 with value: 0.05219113959024108.\n"
     ]
    },
    {
     "name": "stdout",
     "output_type": "stream",
     "text": [
      "Recommender_Base_Class: URM Detected 627 ( 4.8%) users with no interactions.\n",
      "Recommender_Base_Class: URM Detected 247 ( 1.1%) items with no interactions.\n",
      "EvaluatorHoldout: Ignoring 2568 (19.7%) Users that have less than 1 test interactions\n",
      "EvaluatorHoldout: Processed 10456 (100.0%) in 37.73 sec. Users per second: 277\n"
     ]
    },
    {
     "name": "stderr",
     "output_type": "stream",
     "text": [
      "[I 2023-12-05 14:55:26,082] Trial 55 finished with value: 0.051626274425863795 and parameters: {'slim_elastic': 0.46736715309082555, 'item_knn': 0.051297830307936235, 'rp3': 0.0650537759274758, 'p3alpha': 0.6067634357462458, 'ials': 0.03239203466564519, 'ease_r': 0.006306624927076509, 'user_knn': 0.0012742953890391366, 'svd_item': 0.00010011442524300144, 'scaled_svd': 0.00010387802491435996, 'nmf': 0.0013124374102007285, 'slim_bpr': 0.00011031592890478832}. Best is trial 14 with value: 0.05219113959024108.\n"
     ]
    },
    {
     "name": "stdout",
     "output_type": "stream",
     "text": [
      "Recommender_Base_Class: URM Detected 627 ( 4.8%) users with no interactions.\n",
      "Recommender_Base_Class: URM Detected 247 ( 1.1%) items with no interactions.\n",
      "EvaluatorHoldout: Ignoring 2568 (19.7%) Users that have less than 1 test interactions\n",
      "EvaluatorHoldout: Processed 10456 (100.0%) in 38.17 sec. Users per second: 274\n"
     ]
    },
    {
     "name": "stderr",
     "output_type": "stream",
     "text": [
      "[I 2023-12-05 14:56:04,611] Trial 56 finished with value: 0.052063233990357595 and parameters: {'slim_elastic': 0.39949070705530537, 'item_knn': 0.07351233880993306, 'rp3': 0.052723931593939226, 'p3alpha': 0.22180324115241437, 'ials': 0.015143535711670788, 'ease_r': 0.013494856743309766, 'user_knn': 0.0027134259843826867, 'svd_item': 0.0002005283282936367, 'scaled_svd': 0.00019457613816414035, 'nmf': 0.0009990300382569143, 'slim_bpr': 4.394496264701086e-05}. Best is trial 14 with value: 0.05219113959024108.\n"
     ]
    },
    {
     "name": "stdout",
     "output_type": "stream",
     "text": [
      "Recommender_Base_Class: URM Detected 627 ( 4.8%) users with no interactions.\n",
      "Recommender_Base_Class: URM Detected 247 ( 1.1%) items with no interactions.\n",
      "EvaluatorHoldout: Ignoring 2568 (19.7%) Users that have less than 1 test interactions\n",
      "EvaluatorHoldout: Processed 10456 (100.0%) in 37.76 sec. Users per second: 277\n"
     ]
    },
    {
     "name": "stderr",
     "output_type": "stream",
     "text": [
      "[I 2023-12-05 14:56:42,698] Trial 57 finished with value: 0.051479779969882046 and parameters: {'slim_elastic': 0.215876509941014, 'item_knn': 0.06363199492318043, 'rp3': 0.03276908830640947, 'p3alpha': 0.3063198558592036, 'ials': 0.022913799695524664, 'ease_r': 0.017293444502936774, 'user_knn': 0.006238491252059907, 'svd_item': 0.000269800205608226, 'scaled_svd': 0.00018223830067758497, 'nmf': 0.00027750404924328575, 'slim_bpr': 6.993346449882635e-05}. Best is trial 14 with value: 0.05219113959024108.\n"
     ]
    },
    {
     "name": "stdout",
     "output_type": "stream",
     "text": [
      "Recommender_Base_Class: URM Detected 627 ( 4.8%) users with no interactions.\n",
      "Recommender_Base_Class: URM Detected 247 ( 1.1%) items with no interactions.\n",
      "EvaluatorHoldout: Ignoring 2568 (19.7%) Users that have less than 1 test interactions\n",
      "EvaluatorHoldout: Processed 10456 (100.0%) in 38.01 sec. Users per second: 275\n"
     ]
    },
    {
     "name": "stderr",
     "output_type": "stream",
     "text": [
      "[I 2023-12-05 14:57:21,080] Trial 58 finished with value: 0.05176940254551253 and parameters: {'slim_elastic': 0.29477474128675013, 'item_knn': 0.05130205223324766, 'rp3': 0.07721467569999652, 'p3alpha': 0.4118493139434727, 'ials': 0.00763835328930583, 'ease_r': 0.009021373000439124, 'user_knn': 0.0027867148403383324, 'svd_item': 0.00012767292377034942, 'scaled_svd': 0.0002532301357701816, 'nmf': 0.00019770312623543465, 'slim_bpr': 0.0003396705649440206}. Best is trial 14 with value: 0.05219113959024108.\n"
     ]
    },
    {
     "name": "stdout",
     "output_type": "stream",
     "text": [
      "Recommender_Base_Class: URM Detected 627 ( 4.8%) users with no interactions.\n",
      "Recommender_Base_Class: URM Detected 247 ( 1.1%) items with no interactions.\n",
      "EvaluatorHoldout: Ignoring 2568 (19.7%) Users that have less than 1 test interactions\n",
      "EvaluatorHoldout: Processed 10456 (100.0%) in 36.81 sec. Users per second: 284\n"
     ]
    },
    {
     "name": "stderr",
     "output_type": "stream",
     "text": [
      "[I 2023-12-05 14:57:58,270] Trial 59 finished with value: 0.052092346917089076 and parameters: {'slim_elastic': 0.8162219779582515, 'item_knn': 0.08059192871424288, 'rp3': 0.046158311380398644, 'p3alpha': 0.4797227399141279, 'ials': 0.05741306502844941, 'ease_r': 0.01215711593099484, 'user_knn': 0.0012124834999993276, 'svd_item': 0.00043326407446850346, 'scaled_svd': 0.000499443286875071, 'nmf': 0.00013301246696512153, 'slim_bpr': 0.000249612613095857}. Best is trial 14 with value: 0.05219113959024108.\n"
     ]
    },
    {
     "name": "stdout",
     "output_type": "stream",
     "text": [
      "Recommender_Base_Class: URM Detected 627 ( 4.8%) users with no interactions.\n",
      "Recommender_Base_Class: URM Detected 247 ( 1.1%) items with no interactions.\n",
      "EvaluatorHoldout: Ignoring 2568 (19.7%) Users that have less than 1 test interactions\n",
      "EvaluatorHoldout: Processed 10456 (100.0%) in 37.01 sec. Users per second: 283\n"
     ]
    },
    {
     "name": "stderr",
     "output_type": "stream",
     "text": [
      "[I 2023-12-05 14:58:35,657] Trial 60 finished with value: 0.04949892064706593 and parameters: {'slim_elastic': 0.6336017464117163, 'item_knn': 0.12073217773115547, 'rp3': 0.05685368598269655, 'p3alpha': 0.3372069518942662, 'ials': 0.012587708110222837, 'ease_r': 0.0010155152714853366, 'user_knn': 0.0021797913685634267, 'svd_item': 0.00018275234708007624, 'scaled_svd': 0.0003567979580947389, 'nmf': 0.0003473882036209663, 'slim_bpr': 0.0814988308188015}. Best is trial 14 with value: 0.05219113959024108.\n"
     ]
    },
    {
     "name": "stdout",
     "output_type": "stream",
     "text": [
      "Recommender_Base_Class: URM Detected 627 ( 4.8%) users with no interactions.\n",
      "Recommender_Base_Class: URM Detected 247 ( 1.1%) items with no interactions.\n",
      "EvaluatorHoldout: Ignoring 2568 (19.7%) Users that have less than 1 test interactions\n",
      "EvaluatorHoldout: Processed 10456 (100.0%) in 37.51 sec. Users per second: 279\n"
     ]
    },
    {
     "name": "stderr",
     "output_type": "stream",
     "text": [
      "[I 2023-12-05 14:59:13,516] Trial 61 finished with value: 0.052174922729867665 and parameters: {'slim_elastic': 0.6193961528906547, 'item_knn': 0.03798784650346467, 'rp3': 0.08570122189829864, 'p3alpha': 0.2061604424372063, 'ials': 0.01928512598432673, 'ease_r': 0.004053261310215134, 'user_knn': 0.001696485813832678, 'svd_item': 0.00012361903204764958, 'scaled_svd': 0.00010305082627297934, 'nmf': 0.0007246501200064105, 'slim_bpr': 3.2543307238353604e-05}. Best is trial 14 with value: 0.05219113959024108.\n"
     ]
    },
    {
     "name": "stdout",
     "output_type": "stream",
     "text": [
      "Recommender_Base_Class: URM Detected 627 ( 4.8%) users with no interactions.\n",
      "Recommender_Base_Class: URM Detected 247 ( 1.1%) items with no interactions.\n",
      "EvaluatorHoldout: Ignoring 2568 (19.7%) Users that have less than 1 test interactions\n",
      "EvaluatorHoldout: Processed 10456 (100.0%) in 37.24 sec. Users per second: 281\n"
     ]
    },
    {
     "name": "stderr",
     "output_type": "stream",
     "text": [
      "[I 2023-12-05 14:59:51,083] Trial 62 finished with value: 0.052067450449958606 and parameters: {'slim_elastic': 0.9976104807347885, 'item_knn': 0.04778642416330423, 'rp3': 0.0920806364643605, 'p3alpha': 0.2713349135133147, 'ials': 0.018629784786455113, 'ease_r': 0.006897139239777661, 'user_knn': 0.0017729361856167103, 'svd_item': 0.00017952291351486338, 'scaled_svd': 0.00011534001640085132, 'nmf': 0.0014782674291290469, 'slim_bpr': 3.5645368316167985e-05}. Best is trial 14 with value: 0.05219113959024108.\n"
     ]
    },
    {
     "name": "stdout",
     "output_type": "stream",
     "text": [
      "Recommender_Base_Class: URM Detected 627 ( 4.8%) users with no interactions.\n",
      "Recommender_Base_Class: URM Detected 247 ( 1.1%) items with no interactions.\n",
      "EvaluatorHoldout: Ignoring 2568 (19.7%) Users that have less than 1 test interactions\n",
      "EvaluatorHoldout: Processed 10456 (100.0%) in 38.78 sec. Users per second: 270\n"
     ]
    },
    {
     "name": "stderr",
     "output_type": "stream",
     "text": [
      "[I 2023-12-05 15:00:30,222] Trial 63 finished with value: 0.052116753804302064 and parameters: {'slim_elastic': 0.40022507146637915, 'item_knn': 0.05899721758481125, 'rp3': 0.07468537179406652, 'p3alpha': 0.20830029847692402, 'ials': 0.025181501880342957, 'ease_r': 0.003922035862888981, 'user_knn': 0.0016203720253441505, 'svd_item': 0.00011208736325957106, 'scaled_svd': 0.00014472109975334293, 'nmf': 0.0009037501156392616, 'slim_bpr': 9.693987682830632e-05}. Best is trial 14 with value: 0.05219113959024108.\n"
     ]
    },
    {
     "name": "stdout",
     "output_type": "stream",
     "text": [
      "Recommender_Base_Class: URM Detected 627 ( 4.8%) users with no interactions.\n",
      "Recommender_Base_Class: URM Detected 247 ( 1.1%) items with no interactions.\n",
      "EvaluatorHoldout: Ignoring 2568 (19.7%) Users that have less than 1 test interactions\n",
      "EvaluatorHoldout: Processed 10456 (100.0%) in 37.37 sec. Users per second: 280\n"
     ]
    },
    {
     "name": "stderr",
     "output_type": "stream",
     "text": [
      "[I 2023-12-05 15:01:07,925] Trial 64 finished with value: 0.05210769847342188 and parameters: {'slim_elastic': 0.5096879853905749, 'item_knn': 0.09442087627232591, 'rp3': 0.10201240293246634, 'p3alpha': 0.2617308351265375, 'ials': 0.015557563674283867, 'ease_r': 0.0021335260937814233, 'user_knn': 0.0011990858434905661, 'svd_item': 0.00022355705324555007, 'scaled_svd': 0.00010065087704302529, 'nmf': 0.0007344220926659583, 'slim_bpr': 5.1648397007125306e-05}. Best is trial 14 with value: 0.05219113959024108.\n"
     ]
    },
    {
     "name": "stdout",
     "output_type": "stream",
     "text": [
      "Recommender_Base_Class: URM Detected 627 ( 4.8%) users with no interactions.\n",
      "Recommender_Base_Class: URM Detected 247 ( 1.1%) items with no interactions.\n",
      "EvaluatorHoldout: Ignoring 2568 (19.7%) Users that have less than 1 test interactions\n",
      "EvaluatorHoldout: Processed 10456 (100.0%) in 37.39 sec. Users per second: 280\n"
     ]
    },
    {
     "name": "stderr",
     "output_type": "stream",
     "text": [
      "[I 2023-12-05 15:01:45,658] Trial 65 finished with value: 0.05198881404768022 and parameters: {'slim_elastic': 0.6327848764670421, 'item_knn': 0.04300721335512701, 'rp3': 0.05801020840964565, 'p3alpha': 0.5226254629205315, 'ials': 0.04141052176337881, 'ease_r': 0.007823494613275134, 'user_knn': 0.003168844896152823, 'svd_item': 0.00012916012797131325, 'scaled_svd': 0.00020173580310135886, 'nmf': 0.00026456537180539515, 'slim_bpr': 1.6699463904789607e-05}. Best is trial 14 with value: 0.05219113959024108.\n"
     ]
    },
    {
     "name": "stdout",
     "output_type": "stream",
     "text": [
      "Recommender_Base_Class: URM Detected 627 ( 4.8%) users with no interactions.\n",
      "Recommender_Base_Class: URM Detected 247 ( 1.1%) items with no interactions.\n",
      "EvaluatorHoldout: Ignoring 2568 (19.7%) Users that have less than 1 test interactions\n",
      "EvaluatorHoldout: Processed 10456 (100.0%) in 40.88 sec. Users per second: 256\n"
     ]
    },
    {
     "name": "stderr",
     "output_type": "stream",
     "text": [
      "[I 2023-12-05 15:02:26,880] Trial 66 finished with value: 0.052197208104104054 and parameters: {'slim_elastic': 0.8566790626743871, 'item_knn': 0.07631354839458562, 'rp3': 0.042172789289564784, 'p3alpha': 0.409579305258483, 'ials': 0.027199447097966425, 'ease_r': 0.011192781142928059, 'user_knn': 0.0024354967882056476, 'svd_item': 0.0003355694940612799, 'scaled_svd': 0.0002907821966633417, 'nmf': 0.0011566374265925322, 'slim_bpr': 6.896977834040124e-05}. Best is trial 66 with value: 0.052197208104104054.\n"
     ]
    },
    {
     "name": "stdout",
     "output_type": "stream",
     "text": [
      "Recommender_Base_Class: URM Detected 627 ( 4.8%) users with no interactions.\n",
      "Recommender_Base_Class: URM Detected 247 ( 1.1%) items with no interactions.\n",
      "EvaluatorHoldout: Ignoring 2568 (19.7%) Users that have less than 1 test interactions\n",
      "EvaluatorHoldout: Processed 10456 (100.0%) in 42.63 sec. Users per second: 245\n"
     ]
    },
    {
     "name": "stderr",
     "output_type": "stream",
     "text": [
      "[I 2023-12-05 15:03:09,871] Trial 67 finished with value: 0.05217502140488986 and parameters: {'slim_elastic': 0.8373924537474648, 'item_knn': 0.06661626701638282, 'rp3': 0.04006484770916316, 'p3alpha': 0.4033825244307272, 'ials': 0.028184438529783612, 'ease_r': 0.005386462305661687, 'user_knn': 0.004730050882392088, 'svd_item': 0.0003389725224957919, 'scaled_svd': 0.00028697739475312163, 'nmf': 0.0011629865902164553, 'slim_bpr': 3.802057988331116e-05}. Best is trial 66 with value: 0.052197208104104054.\n"
     ]
    },
    {
     "name": "stdout",
     "output_type": "stream",
     "text": [
      "Recommender_Base_Class: URM Detected 627 ( 4.8%) users with no interactions.\n",
      "Recommender_Base_Class: URM Detected 247 ( 1.1%) items with no interactions.\n",
      "EvaluatorHoldout: Ignoring 2568 (19.7%) Users that have less than 1 test interactions\n",
      "EvaluatorHoldout: Processed 10456 (100.0%) in 38.69 sec. Users per second: 270\n"
     ]
    },
    {
     "name": "stderr",
     "output_type": "stream",
     "text": [
      "[I 2023-12-05 15:03:48,908] Trial 68 finished with value: 0.052123129728811175 and parameters: {'slim_elastic': 0.8517040635665818, 'item_knn': 0.06930948524331566, 'rp3': 0.04090127591004938, 'p3alpha': 0.3743149621384286, 'ials': 0.027804484734209507, 'ease_r': 0.005669102611207724, 'user_knn': 0.005107034169450926, 'svd_item': 0.0005932783370544238, 'scaled_svd': 0.000272145747674615, 'nmf': 0.0013360555783452973, 'slim_bpr': 3.066022408898953e-05}. Best is trial 66 with value: 0.052197208104104054.\n"
     ]
    },
    {
     "name": "stdout",
     "output_type": "stream",
     "text": [
      "Recommender_Base_Class: URM Detected 627 ( 4.8%) users with no interactions.\n",
      "Recommender_Base_Class: URM Detected 247 ( 1.1%) items with no interactions.\n",
      "EvaluatorHoldout: Ignoring 2568 (19.7%) Users that have less than 1 test interactions\n",
      "EvaluatorHoldout: Processed 10456 (100.0%) in 38.07 sec. Users per second: 275\n"
     ]
    },
    {
     "name": "stderr",
     "output_type": "stream",
     "text": [
      "[I 2023-12-05 15:04:27,346] Trial 69 finished with value: 0.05210471924679123 and parameters: {'slim_elastic': 0.7192367668588022, 'item_knn': 0.05661155581949939, 'rp3': 0.08188464278434532, 'p3alpha': 0.40104572973138825, 'ials': 0.008368693902146639, 'ease_r': 0.0026160471750639736, 'user_knn': 0.0024824966747124108, 'svd_item': 0.0003033858623279622, 'scaled_svd': 0.00017140995028450622, 'nmf': 0.001205225904551889, 'slim_bpr': 3.9044516435570294e-05}. Best is trial 66 with value: 0.052197208104104054.\n"
     ]
    },
    {
     "name": "stdout",
     "output_type": "stream",
     "text": [
      "Recommender_Base_Class: URM Detected 627 ( 4.8%) users with no interactions.\n",
      "Recommender_Base_Class: URM Detected 247 ( 1.1%) items with no interactions.\n",
      "EvaluatorHoldout: Ignoring 2568 (19.7%) Users that have less than 1 test interactions\n",
      "EvaluatorHoldout: Processed 10456 (100.0%) in 39.55 sec. Users per second: 264\n"
     ]
    },
    {
     "name": "stderr",
     "output_type": "stream",
     "text": [
      "[I 2023-12-05 15:05:07,258] Trial 70 finished with value: 0.05196190992336799 and parameters: {'slim_elastic': 0.44604286392808545, 'item_knn': 0.07968718526656753, 'rp3': 0.06861723093823416, 'p3alpha': 0.33972937971992434, 'ials': 0.0051698371742569605, 'ease_r': 0.00535327038070376, 'user_knn': 0.0016615144752039556, 'svd_item': 0.00040045473075709905, 'scaled_svd': 0.00035566865542715787, 'nmf': 0.0005132614594706591, 'slim_bpr': 1.0474194107552705e-05}. Best is trial 66 with value: 0.052197208104104054.\n"
     ]
    },
    {
     "name": "stdout",
     "output_type": "stream",
     "text": [
      "Recommender_Base_Class: URM Detected 627 ( 4.8%) users with no interactions.\n",
      "Recommender_Base_Class: URM Detected 247 ( 1.1%) items with no interactions.\n",
      "EvaluatorHoldout: Ignoring 2568 (19.7%) Users that have less than 1 test interactions\n",
      "EvaluatorHoldout: Processed 10456 (100.0%) in 38.76 sec. Users per second: 270\n"
     ]
    },
    {
     "name": "stderr",
     "output_type": "stream",
     "text": [
      "[I 2023-12-05 15:05:46,381] Trial 71 finished with value: 0.05217704424284421 and parameters: {'slim_elastic': 0.8641897279329053, 'item_knn': 0.06642361000321671, 'rp3': 0.0515005876782348, 'p3alpha': 0.5565382788237426, 'ials': 0.021833872154470715, 'ease_r': 0.01115538477593926, 'user_knn': 0.004158551697915095, 'svd_item': 0.0002498570035088547, 'scaled_svd': 0.00022532174673115836, 'nmf': 0.0018817632009187535, 'slim_bpr': 6.143108074581187e-05}. Best is trial 66 with value: 0.052197208104104054.\n"
     ]
    },
    {
     "name": "stdout",
     "output_type": "stream",
     "text": [
      "Recommender_Base_Class: URM Detected 627 ( 4.8%) users with no interactions.\n",
      "Recommender_Base_Class: URM Detected 247 ( 1.1%) items with no interactions.\n",
      "EvaluatorHoldout: Ignoring 2568 (19.7%) Users that have less than 1 test interactions\n",
      "EvaluatorHoldout: Processed 10456 (100.0%) in 38.16 sec. Users per second: 274\n"
     ]
    },
    {
     "name": "stderr",
     "output_type": "stream",
     "text": [
      "[I 2023-12-05 15:06:24,902] Trial 72 finished with value: 0.05201116773539361 and parameters: {'slim_elastic': 0.8496217171141385, 'item_knn': 0.06214370039713401, 'rp3': 0.03719354630213159, 'p3alpha': 0.6755040734229372, 'ials': 0.011701126241633088, 'ease_r': 0.008146656176760601, 'user_knn': 0.004030611282128734, 'svd_item': 0.00025553375681923603, 'scaled_svd': 0.0002371678163460745, 'nmf': 0.0017440114241834245, 'slim_bpr': 6.847458242412947e-05}. Best is trial 66 with value: 0.052197208104104054.\n"
     ]
    },
    {
     "name": "stdout",
     "output_type": "stream",
     "text": [
      "Recommender_Base_Class: URM Detected 627 ( 4.8%) users with no interactions.\n",
      "Recommender_Base_Class: URM Detected 247 ( 1.1%) items with no interactions.\n",
      "EvaluatorHoldout: Ignoring 2568 (19.7%) Users that have less than 1 test interactions\n",
      "EvaluatorHoldout: Processed 10456 (100.0%) in 38.07 sec. Users per second: 275\n"
     ]
    },
    {
     "name": "stderr",
     "output_type": "stream",
     "text": [
      "[I 2023-12-05 15:07:03,354] Trial 73 finished with value: 0.05211399849406775 and parameters: {'slim_elastic': 0.7535765549870993, 'item_knn': 0.1024766205580817, 'rp3': 0.060693660435514496, 'p3alpha': 0.43894194479844245, 'ials': 0.02147646190460101, 'ease_r': 0.01018667237835972, 'user_knn': 0.00464280576322738, 'svd_item': 0.0003599075160921079, 'scaled_svd': 0.00013356040740018663, 'nmf': 0.002709282210785279, 'slim_bpr': 4.663384937063662e-05}. Best is trial 66 with value: 0.052197208104104054.\n"
     ]
    },
    {
     "name": "stdout",
     "output_type": "stream",
     "text": [
      "Recommender_Base_Class: URM Detected 627 ( 4.8%) users with no interactions.\n",
      "Recommender_Base_Class: URM Detected 247 ( 1.1%) items with no interactions.\n",
      "EvaluatorHoldout: Ignoring 2568 (19.7%) Users that have less than 1 test interactions\n",
      "EvaluatorHoldout: Processed 10456 (100.0%) in 37.75 sec. Users per second: 277\n"
     ]
    },
    {
     "name": "stderr",
     "output_type": "stream",
     "text": [
      "[I 2023-12-05 15:07:41,473] Trial 74 finished with value: 0.05183428137258531 and parameters: {'slim_elastic': 0.5684150640923733, 'item_knn': 0.06885057754625795, 'rp3': 0.05038967518382861, 'p3alpha': 0.5650805413203552, 'ials': 0.014723043002309852, 'ease_r': 0.0044137602898335244, 'user_knn': 0.0022880588664209727, 'svd_item': 0.0008907611572005833, 'scaled_svd': 0.00028865810274532273, 'nmf': 0.0010722519652266783, 'slim_bpr': 8.552574668475165e-05}. Best is trial 66 with value: 0.052197208104104054.\n"
     ]
    },
    {
     "name": "stdout",
     "output_type": "stream",
     "text": [
      "Recommender_Base_Class: URM Detected 627 ( 4.8%) users with no interactions.\n",
      "Recommender_Base_Class: URM Detected 247 ( 1.1%) items with no interactions.\n",
      "EvaluatorHoldout: Ignoring 2568 (19.7%) Users that have less than 1 test interactions\n",
      "EvaluatorHoldout: Processed 10456 (100.0%) in 37.85 sec. Users per second: 276\n"
     ]
    },
    {
     "name": "stderr",
     "output_type": "stream",
     "text": [
      "[I 2023-12-05 15:08:19,698] Trial 75 finished with value: 0.05214494449909569 and parameters: {'slim_elastic': 0.6715648679725338, 'item_knn': 0.03909465034008157, 'rp3': 0.08367250804265211, 'p3alpha': 0.29959539411071906, 'ials': 0.01805756770748267, 'ease_r': 0.019011477878570448, 'user_knn': 0.003299687347816622, 'svd_item': 0.0002154614992697303, 'scaled_svd': 0.00021145666268409155, 'nmf': 0.0008758335592015747, 'slim_bpr': 2.9606501597494823e-05}. Best is trial 66 with value: 0.052197208104104054.\n"
     ]
    },
    {
     "name": "stdout",
     "output_type": "stream",
     "text": [
      "Recommender_Base_Class: URM Detected 627 ( 4.8%) users with no interactions.\n",
      "Recommender_Base_Class: URM Detected 247 ( 1.1%) items with no interactions.\n",
      "EvaluatorHoldout: Ignoring 2568 (19.7%) Users that have less than 1 test interactions\n",
      "EvaluatorHoldout: Processed 10456 (100.0%) in 38.01 sec. Users per second: 275\n"
     ]
    },
    {
     "name": "stderr",
     "output_type": "stream",
     "text": [
      "[I 2023-12-05 15:08:58,046] Trial 76 finished with value: 0.051882875025807816 and parameters: {'slim_elastic': 0.49537593081941417, 'item_knn': 0.07991534352416893, 'rp3': 0.028773609900783197, 'p3alpha': 0.4658318380895205, 'ials': 0.027879884831228753, 'ease_r': 0.006855485237969709, 'user_knn': 0.0013762713187679936, 'svd_item': 0.00016347090881904203, 'scaled_svd': 0.0005645440451643423, 'nmf': 0.0007026805921117553, 'slim_bpr': 1.943107753279446e-05}. Best is trial 66 with value: 0.052197208104104054.\n"
     ]
    },
    {
     "name": "stdout",
     "output_type": "stream",
     "text": [
      "Recommender_Base_Class: URM Detected 627 ( 4.8%) users with no interactions.\n",
      "Recommender_Base_Class: URM Detected 247 ( 1.1%) items with no interactions.\n",
      "EvaluatorHoldout: Ignoring 2568 (19.7%) Users that have less than 1 test interactions\n",
      "EvaluatorHoldout: Processed 10456 (100.0%) in 41.57 sec. Users per second: 252\n"
     ]
    },
    {
     "name": "stderr",
     "output_type": "stream",
     "text": [
      "[I 2023-12-05 15:09:40,065] Trial 77 finished with value: 0.05218697626334422 and parameters: {'slim_elastic': 0.8618951556522763, 'item_knn': 0.05564142545373028, 'rp3': 0.07169515541795377, 'p3alpha': 0.41885235060941345, 'ials': 0.0358041445865981, 'ease_r': 0.0034015818056205116, 'user_knn': 0.0019694139925911266, 'svd_item': 0.00031533513737657613, 'scaled_svd': 0.00016709313952568028, 'nmf': 0.0023030306201548946, 'slim_bpr': 5.973664377794072e-05}. Best is trial 66 with value: 0.052197208104104054.\n"
     ]
    },
    {
     "name": "stdout",
     "output_type": "stream",
     "text": [
      "Recommender_Base_Class: URM Detected 627 ( 4.8%) users with no interactions.\n",
      "Recommender_Base_Class: URM Detected 247 ( 1.1%) items with no interactions.\n",
      "EvaluatorHoldout: Ignoring 2568 (19.7%) Users that have less than 1 test interactions\n",
      "EvaluatorHoldout: Processed 10456 (100.0%) in 38.57 sec. Users per second: 271\n"
     ]
    },
    {
     "name": "stderr",
     "output_type": "stream",
     "text": [
      "[I 2023-12-05 15:10:18,997] Trial 78 finished with value: 0.05195479014099949 and parameters: {'slim_elastic': 0.9062380236916616, 'item_knn': 0.05622078423223046, 'rp3': 0.07513851221537854, 'p3alpha': 0.7084572480234181, 'ials': 0.04739272951740117, 'ease_r': 0.0032067380754051533, 'user_knn': 0.0018990929744521336, 'svd_item': 0.000634190930856751, 'scaled_svd': 0.00029713675998277195, 'nmf': 0.0022544713588573393, 'slim_bpr': 7.080133002495572e-05}. Best is trial 66 with value: 0.052197208104104054.\n"
     ]
    },
    {
     "name": "stdout",
     "output_type": "stream",
     "text": [
      "Recommender_Base_Class: URM Detected 627 ( 4.8%) users with no interactions.\n",
      "Recommender_Base_Class: URM Detected 247 ( 1.1%) items with no interactions.\n",
      "EvaluatorHoldout: Ignoring 2568 (19.7%) Users that have less than 1 test interactions\n",
      "EvaluatorHoldout: Processed 10456 (100.0%) in 38.57 sec. Users per second: 271\n"
     ]
    },
    {
     "name": "stderr",
     "output_type": "stream",
     "text": [
      "[I 2023-12-05 15:10:57,905] Trial 79 finished with value: 0.05200328891439304 and parameters: {'slim_elastic': 0.7106120565130988, 'item_knn': 0.09686006725645827, 'rp3': 0.04271393495183934, 'p3alpha': 0.5378996252693738, 'ials': 0.03180709264699081, 'ease_r': 0.002022194751409343, 'user_knn': 0.00421844899898389, 'svd_item': 0.0004574476875201378, 'scaled_svd': 0.0004885222635124269, 'nmf': 0.00018773203497783681, 'slim_bpr': 6.210339140941807e-05}. Best is trial 66 with value: 0.052197208104104054.\n"
     ]
    },
    {
     "name": "stdout",
     "output_type": "stream",
     "text": [
      "Recommender_Base_Class: URM Detected 627 ( 4.8%) users with no interactions.\n",
      "Recommender_Base_Class: URM Detected 247 ( 1.1%) items with no interactions.\n",
      "EvaluatorHoldout: Ignoring 2568 (19.7%) Users that have less than 1 test interactions\n",
      "EvaluatorHoldout: Processed 10456 (100.0%) in 39.42 sec. Users per second: 265\n"
     ]
    },
    {
     "name": "stderr",
     "output_type": "stream",
     "text": [
      "[I 2023-12-05 15:11:37,765] Trial 80 finished with value: 0.052073541734980605 and parameters: {'slim_elastic': 0.8756010676548847, 'item_knn': 0.11344578927557425, 'rp3': 0.09974462149128374, 'p3alpha': 0.42193620284715605, 'ials': 0.03690707164309521, 'ease_r': 0.0036318616933997414, 'user_knn': 0.0011785646865137423, 'svd_item': 0.00032613549331045284, 'scaled_svd': 0.00017969921795032756, 'nmf': 0.0017447219507371646, 'slim_bpr': 3.305653108047294e-05}. Best is trial 66 with value: 0.052197208104104054.\n"
     ]
    },
    {
     "name": "stdout",
     "output_type": "stream",
     "text": [
      "Recommender_Base_Class: URM Detected 627 ( 4.8%) users with no interactions.\n",
      "Recommender_Base_Class: URM Detected 247 ( 1.1%) items with no interactions.\n",
      "EvaluatorHoldout: Ignoring 2568 (19.7%) Users that have less than 1 test interactions\n",
      "EvaluatorHoldout: Processed 10456 (100.0%) in 37.76 sec. Users per second: 277\n"
     ]
    },
    {
     "name": "stderr",
     "output_type": "stream",
     "text": [
      "[I 2023-12-05 15:12:15,876] Trial 81 finished with value: 0.052151703738113814 and parameters: {'slim_elastic': 0.5882269944993879, 'item_knn': 0.04890164622583182, 'rp3': 0.06151333212954684, 'p3alpha': 0.33122007252772434, 'ials': 0.024289343316677967, 'ease_r': 0.004761908021909667, 'user_knn': 0.0027611556587635133, 'svd_item': 0.00025369441976016126, 'scaled_svd': 0.00011871168301247973, 'nmf': 0.001238328096744013, 'slim_bpr': 4.1269208912909854e-05}. Best is trial 66 with value: 0.052197208104104054.\n"
     ]
    },
    {
     "name": "stdout",
     "output_type": "stream",
     "text": [
      "Recommender_Base_Class: URM Detected 627 ( 4.8%) users with no interactions.\n",
      "Recommender_Base_Class: URM Detected 247 ( 1.1%) items with no interactions.\n",
      "EvaluatorHoldout: Ignoring 2568 (19.7%) Users that have less than 1 test interactions\n",
      "EvaluatorHoldout: Processed 10456 (100.0%) in 37.14 sec. Users per second: 282\n"
     ]
    },
    {
     "name": "stderr",
     "output_type": "stream",
     "text": [
      "[I 2023-12-05 15:12:53,365] Trial 82 finished with value: 0.05215319904421896 and parameters: {'slim_elastic': 0.763573054777559, 'item_knn': 0.06834756506593412, 'rp3': 0.0521785245442952, 'p3alpha': 0.2782157182942835, 'ials': 0.02071983456142083, 'ease_r': 0.005973147022968245, 'user_knn': 0.00219217612864086, 'svd_item': 0.0005085876816368845, 'scaled_svd': 0.00014915797430785078, 'nmf': 0.002418908965556787, 'slim_bpr': 5.1483608141329404e-05}. Best is trial 66 with value: 0.052197208104104054.\n"
     ]
    },
    {
     "name": "stdout",
     "output_type": "stream",
     "text": [
      "Recommender_Base_Class: URM Detected 627 ( 4.8%) users with no interactions.\n",
      "Recommender_Base_Class: URM Detected 247 ( 1.1%) items with no interactions.\n",
      "EvaluatorHoldout: Ignoring 2568 (19.7%) Users that have less than 1 test interactions\n",
      "EvaluatorHoldout: Processed 10456 (100.0%) in 37.06 sec. Users per second: 282\n"
     ]
    },
    {
     "name": "stderr",
     "output_type": "stream",
     "text": [
      "[I 2023-12-05 15:13:30,781] Trial 83 finished with value: 0.05206483935706439 and parameters: {'slim_elastic': 0.6588993263335164, 'item_knn': 0.05680087969039206, 'rp3': 0.06934218562997983, 'p3alpha': 0.39760259645076507, 'ials': 0.02960217397136998, 'ease_r': 0.011573553778194145, 'user_knn': 0.0010473301402272816, 'svd_item': 0.00012163082511229924, 'scaled_svd': 0.00022498402205335937, 'nmf': 0.0010770268262738707, 'slim_bpr': 0.00012125862382999181}. Best is trial 66 with value: 0.052197208104104054.\n"
     ]
    },
    {
     "name": "stdout",
     "output_type": "stream",
     "text": [
      "Recommender_Base_Class: URM Detected 627 ( 4.8%) users with no interactions.\n",
      "Recommender_Base_Class: URM Detected 247 ( 1.1%) items with no interactions.\n",
      "EvaluatorHoldout: Ignoring 2568 (19.7%) Users that have less than 1 test interactions\n",
      "EvaluatorHoldout: Processed 10456 (100.0%) in 36.63 sec. Users per second: 285\n"
     ]
    },
    {
     "name": "stderr",
     "output_type": "stream",
     "text": [
      "[I 2023-12-05 15:14:07,752] Trial 84 finished with value: 0.052144124737373045 and parameters: {'slim_elastic': 0.5659727225693304, 'item_knn': 0.08383272077894198, 'rp3': 0.05824575387042742, 'p3alpha': 0.23008041705815696, 'ials': 0.016030936057864317, 'ease_r': 0.002721209289366192, 'user_knn': 0.001554136029120594, 'svd_item': 0.00017202628265091356, 'scaled_svd': 0.00038698608824524615, 'nmf': 0.002943993264789307, 'slim_bpr': 2.078324886472376e-05}. Best is trial 66 with value: 0.052197208104104054.\n"
     ]
    },
    {
     "name": "stdout",
     "output_type": "stream",
     "text": [
      "Recommender_Base_Class: URM Detected 627 ( 4.8%) users with no interactions.\n",
      "Recommender_Base_Class: URM Detected 247 ( 1.1%) items with no interactions.\n",
      "EvaluatorHoldout: Ignoring 2568 (19.7%) Users that have less than 1 test interactions\n",
      "EvaluatorHoldout: Processed 10456 (100.0%) in 37.45 sec. Users per second: 279\n"
     ]
    },
    {
     "name": "stderr",
     "output_type": "stream",
     "text": [
      "[I 2023-12-05 15:14:45,572] Trial 85 finished with value: 0.05210021435251014 and parameters: {'slim_elastic': 0.9319812381680477, 'item_knn': 0.040847159473387774, 'rp3': 0.08733877271273546, 'p3alpha': 0.6200870249041044, 'ials': 0.03589310801428546, 'ease_r': 0.003351526108409177, 'user_knn': 0.0030198805052284662, 'svd_item': 0.0003046249685351101, 'scaled_svd': 0.00016082981333317083, 'nmf': 0.0015424263524180378, 'slim_bpr': 8.924863697881103e-05}. Best is trial 66 with value: 0.052197208104104054.\n"
     ]
    },
    {
     "name": "stdout",
     "output_type": "stream",
     "text": [
      "Recommender_Base_Class: URM Detected 627 ( 4.8%) users with no interactions.\n",
      "Recommender_Base_Class: URM Detected 247 ( 1.1%) items with no interactions.\n",
      "EvaluatorHoldout: Ignoring 2568 (19.7%) Users that have less than 1 test interactions\n",
      "EvaluatorHoldout: Processed 10456 (100.0%) in 37.13 sec. Users per second: 282\n"
     ]
    },
    {
     "name": "stderr",
     "output_type": "stream",
     "text": [
      "[I 2023-12-05 15:15:23,098] Trial 86 finished with value: 0.05221723533841028 and parameters: {'slim_elastic': 0.7883747438995062, 'item_knn': 0.04532461083390726, 'rp3': 0.048306206915528595, 'p3alpha': 0.4893812357266503, 'ials': 0.007026560574408525, 'ease_r': 0.004760821503527003, 'user_knn': 0.005561713540859541, 'svd_item': 0.00020515068887915733, 'scaled_svd': 0.00011379303690773061, 'nmf': 0.0019041858155219324, 'slim_bpr': 5.830351166616071e-05}. Best is trial 86 with value: 0.05221723533841028.\n"
     ]
    },
    {
     "name": "stdout",
     "output_type": "stream",
     "text": [
      "Recommender_Base_Class: URM Detected 627 ( 4.8%) users with no interactions.\n",
      "Recommender_Base_Class: URM Detected 247 ( 1.1%) items with no interactions.\n",
      "EvaluatorHoldout: Ignoring 2568 (19.7%) Users that have less than 1 test interactions\n",
      "EvaluatorHoldout: Processed 10456 (100.0%) in 37.06 sec. Users per second: 282\n"
     ]
    },
    {
     "name": "stderr",
     "output_type": "stream",
     "text": [
      "[I 2023-12-05 15:16:00,494] Trial 87 finished with value: 0.05219171266440826 and parameters: {'slim_elastic': 0.788256202636437, 'item_knn': 0.04383337066217433, 'rp3': 0.04877672618661303, 'p3alpha': 0.49421937635281993, 'ials': 0.006789678507643188, 'ease_r': 0.002365052918188114, 'user_knn': 0.00575678951418523, 'svd_item': 0.00021711957286752668, 'scaled_svd': 0.00012933773796588776, 'nmf': 0.0020437517653681863, 'slim_bpr': 6.170126418715227e-05}. Best is trial 86 with value: 0.05221723533841028.\n"
     ]
    },
    {
     "name": "stdout",
     "output_type": "stream",
     "text": [
      "Recommender_Base_Class: URM Detected 627 ( 4.8%) users with no interactions.\n",
      "Recommender_Base_Class: URM Detected 247 ( 1.1%) items with no interactions.\n",
      "EvaluatorHoldout: Ignoring 2568 (19.7%) Users that have less than 1 test interactions\n",
      "EvaluatorHoldout: Processed 10456 (100.0%) in 37.60 sec. Users per second: 278\n"
     ]
    },
    {
     "name": "stderr",
     "output_type": "stream",
     "text": [
      "[I 2023-12-05 15:16:38,481] Trial 88 finished with value: 0.05221203212858776 and parameters: {'slim_elastic': 0.8251414339124391, 'item_knn': 0.03520711446700331, 'rp3': 0.04547080472854896, 'p3alpha': 0.49497990359369615, 'ials': 0.006862843911043045, 'ease_r': 0.004669641067709088, 'user_knn': 0.00669944652107818, 'svd_item': 0.00036817997500919464, 'scaled_svd': 0.00013318521310703928, 'nmf': 0.002026603924072543, 'slim_bpr': 0.00017306775162406708}. Best is trial 86 with value: 0.05221723533841028.\n"
     ]
    },
    {
     "name": "stdout",
     "output_type": "stream",
     "text": [
      "Recommender_Base_Class: URM Detected 627 ( 4.8%) users with no interactions.\n",
      "Recommender_Base_Class: URM Detected 247 ( 1.1%) items with no interactions.\n",
      "EvaluatorHoldout: Ignoring 2568 (19.7%) Users that have less than 1 test interactions\n",
      "EvaluatorHoldout: Processed 10456 (100.0%) in 38.22 sec. Users per second: 274\n"
     ]
    },
    {
     "name": "stderr",
     "output_type": "stream",
     "text": [
      "[I 2023-12-05 15:17:17,035] Trial 89 finished with value: 0.05225166912595235 and parameters: {'slim_elastic': 0.781237039707711, 'item_knn': 0.034069197683945486, 'rp3': 0.036876076567740015, 'p3alpha': 0.4828549014067903, 'ials': 0.005962153700988408, 'ease_r': 0.0049438034490025635, 'user_knn': 0.006035100932659037, 'svd_item': 0.0004310311961633854, 'scaled_svd': 0.00012719243110155445, 'nmf': 0.003321344691440341, 'slim_bpr': 0.0001851746449226467}. Best is trial 89 with value: 0.05225166912595235.\n"
     ]
    },
    {
     "name": "stdout",
     "output_type": "stream",
     "text": [
      "Recommender_Base_Class: URM Detected 627 ( 4.8%) users with no interactions.\n",
      "Recommender_Base_Class: URM Detected 247 ( 1.1%) items with no interactions.\n",
      "EvaluatorHoldout: Ignoring 2568 (19.7%) Users that have less than 1 test interactions\n",
      "EvaluatorHoldout: Processed 10456 (100.0%) in 39.13 sec. Users per second: 267\n"
     ]
    },
    {
     "name": "stderr",
     "output_type": "stream",
     "text": [
      "[I 2023-12-05 15:17:56,514] Trial 90 finished with value: 0.05215511561676495 and parameters: {'slim_elastic': 0.7638541497436444, 'item_knn': 0.031473101695939316, 'rp3': 0.03507353445891817, 'p3alpha': 0.5166724976813095, 'ials': 0.005840524264089215, 'ease_r': 0.0025237946002688665, 'user_knn': 0.006075515491740908, 'svd_item': 0.0004717963753590721, 'scaled_svd': 0.0001281230110589645, 'nmf': 0.0032057102721231258, 'slim_bpr': 0.0001893366593036639}. Best is trial 89 with value: 0.05225166912595235.\n"
     ]
    },
    {
     "name": "stdout",
     "output_type": "stream",
     "text": [
      "Recommender_Base_Class: URM Detected 627 ( 4.8%) users with no interactions.\n",
      "Recommender_Base_Class: URM Detected 247 ( 1.1%) items with no interactions.\n",
      "EvaluatorHoldout: Ignoring 2568 (19.7%) Users that have less than 1 test interactions\n",
      "EvaluatorHoldout: Processed 10456 (100.0%) in 39.66 sec. Users per second: 264\n"
     ]
    },
    {
     "name": "stderr",
     "output_type": "stream",
     "text": [
      "[I 2023-12-05 15:18:36,576] Trial 91 finished with value: 0.05213076945264256 and parameters: {'slim_elastic': 0.8506687773650456, 'item_knn': 0.04479679882481675, 'rp3': 0.04510509479661928, 'p3alpha': 0.4477689998443338, 'ials': 0.006997438179616357, 'ease_r': 0.004937002052667264, 'user_knn': 0.008542372153334137, 'svd_item': 0.000338776457485609, 'scaled_svd': 0.00020013179968532183, 'nmf': 0.001926716413037881, 'slim_bpr': 0.0001416882246006316}. Best is trial 89 with value: 0.05225166912595235.\n"
     ]
    },
    {
     "name": "stdout",
     "output_type": "stream",
     "text": [
      "Recommender_Base_Class: URM Detected 627 ( 4.8%) users with no interactions.\n",
      "Recommender_Base_Class: URM Detected 247 ( 1.1%) items with no interactions.\n",
      "EvaluatorHoldout: Ignoring 2568 (19.7%) Users that have less than 1 test interactions\n",
      "EvaluatorHoldout: Processed 10456 (100.0%) in 39.19 sec. Users per second: 267\n"
     ]
    },
    {
     "name": "stderr",
     "output_type": "stream",
     "text": [
      "[I 2023-12-05 15:19:16,172] Trial 92 finished with value: 0.05223151665027187 and parameters: {'slim_elastic': 0.9281195833172574, 'item_knn': 0.028206567034910056, 'rp3': 0.03884418258669048, 'p3alpha': 0.48755180979788626, 'ials': 0.007308040004319065, 'ease_r': 0.008038970872880786, 'user_knn': 0.006938239544518217, 'svd_item': 0.00020731360111303713, 'scaled_svd': 0.00016421843893715265, 'nmf': 0.003368219602358018, 'slim_bpr': 8.265600540938347e-05}. Best is trial 89 with value: 0.05225166912595235.\n"
     ]
    },
    {
     "name": "stdout",
     "output_type": "stream",
     "text": [
      "Recommender_Base_Class: URM Detected 627 ( 4.8%) users with no interactions.\n",
      "Recommender_Base_Class: URM Detected 247 ( 1.1%) items with no interactions.\n",
      "EvaluatorHoldout: Ignoring 2568 (19.7%) Users that have less than 1 test interactions\n",
      "EvaluatorHoldout: Processed 10456 (100.0%) in 38.38 sec. Users per second: 272\n"
     ]
    },
    {
     "name": "stderr",
     "output_type": "stream",
     "text": [
      "[I 2023-12-05 15:19:54,896] Trial 93 finished with value: 0.05214991620213553 and parameters: {'slim_elastic': 0.9989379709827514, 'item_knn': 0.02764257296663694, 'rp3': 0.030572281330720114, 'p3alpha': 0.6606062806430959, 'ials': 0.0056413691753185126, 'ease_r': 0.008529889378444048, 'user_knn': 0.0068843971397634625, 'svd_item': 0.00019639865468706622, 'scaled_svd': 0.00013171318530529418, 'nmf': 0.004281317744741084, 'slim_bpr': 9.835190860149432e-05}. Best is trial 89 with value: 0.05225166912595235.\n"
     ]
    },
    {
     "name": "stdout",
     "output_type": "stream",
     "text": [
      "Recommender_Base_Class: URM Detected 627 ( 4.8%) users with no interactions.\n",
      "Recommender_Base_Class: URM Detected 247 ( 1.1%) items with no interactions.\n",
      "EvaluatorHoldout: Ignoring 2568 (19.7%) Users that have less than 1 test interactions\n",
      "EvaluatorHoldout: Processed 10456 (100.0%) in 38.18 sec. Users per second: 274\n"
     ]
    },
    {
     "name": "stderr",
     "output_type": "stream",
     "text": [
      "[I 2023-12-05 15:20:33,446] Trial 94 finished with value: 0.052102662252098565 and parameters: {'slim_elastic': 0.7525876857971908, 'item_knn': 0.03462056527396722, 'rp3': 0.04941301647979529, 'p3alpha': 0.5033938485273919, 'ials': 0.008119223920749295, 'ease_r': 0.007003086293325238, 'user_knn': 0.009885566946769895, 'svd_item': 0.0002768663961410679, 'scaled_svd': 0.00015923665677606514, 'nmf': 0.003706373076253063, 'slim_bpr': 0.00016224173497910365}. Best is trial 89 with value: 0.05225166912595235.\n"
     ]
    },
    {
     "name": "stdout",
     "output_type": "stream",
     "text": [
      "Recommender_Base_Class: URM Detected 627 ( 4.8%) users with no interactions.\n",
      "Recommender_Base_Class: URM Detected 247 ( 1.1%) items with no interactions.\n",
      "EvaluatorHoldout: Ignoring 2568 (19.7%) Users that have less than 1 test interactions\n",
      "EvaluatorHoldout: Processed 10456 (100.0%) in 36.93 sec. Users per second: 283\n"
     ]
    },
    {
     "name": "stderr",
     "output_type": "stream",
     "text": [
      "[I 2023-12-05 15:21:10,754] Trial 95 finished with value: 0.0521483981248714 and parameters: {'slim_elastic': 0.9011854225634052, 'item_knn': 0.021494193067317365, 'rp3': 0.037720913653838575, 'p3alpha': 0.5764454269715839, 'ials': 0.007414476760821457, 'ease_r': 0.009974143443425872, 'user_knn': 0.005318210731459292, 'svd_item': 0.0003984667634272712, 'scaled_svd': 0.0001771104450390073, 'nmf': 0.005073079037186023, 'slim_bpr': 0.00010788128484750804}. Best is trial 89 with value: 0.05225166912595235.\n"
     ]
    },
    {
     "name": "stdout",
     "output_type": "stream",
     "text": [
      "Recommender_Base_Class: URM Detected 627 ( 4.8%) users with no interactions.\n",
      "Recommender_Base_Class: URM Detected 247 ( 1.1%) items with no interactions.\n",
      "EvaluatorHoldout: Ignoring 2568 (19.7%) Users that have less than 1 test interactions\n",
      "EvaluatorHoldout: Processed 10456 (100.0%) in 37.82 sec. Users per second: 276\n"
     ]
    },
    {
     "name": "stderr",
     "output_type": "stream",
     "text": [
      "[I 2023-12-05 15:21:48,918] Trial 96 finished with value: 0.05198458999769313 and parameters: {'slim_elastic': 0.7032833483934653, 'item_knn': 0.025224085052547168, 'rp3': 0.045119411094473726, 'p3alpha': 0.759455684874102, 'ials': 0.006955310921298041, 'ease_r': 0.013911734168155214, 'user_knn': 0.006972624117636185, 'svd_item': 0.00020839098091435633, 'scaled_svd': 0.0001190050654886956, 'nmf': 0.0022613133459508748, 'slim_bpr': 7.593986309644511e-05}. Best is trial 89 with value: 0.05225166912595235.\n"
     ]
    },
    {
     "name": "stdout",
     "output_type": "stream",
     "text": [
      "Recommender_Base_Class: URM Detected 627 ( 4.8%) users with no interactions.\n",
      "Recommender_Base_Class: URM Detected 247 ( 1.1%) items with no interactions.\n",
      "EvaluatorHoldout: Ignoring 2568 (19.7%) Users that have less than 1 test interactions\n",
      "EvaluatorHoldout: Processed 10456 (100.0%) in 36.18 sec. Users per second: 289\n"
     ]
    },
    {
     "name": "stderr",
     "output_type": "stream",
     "text": [
      "[I 2023-12-05 15:22:25,435] Trial 97 finished with value: 0.05189338391566842 and parameters: {'slim_elastic': 0.9151427804302905, 'item_knn': 0.032794126593109936, 'rp3': 0.05511075394725897, 'p3alpha': 0.8503596865115401, 'ials': 0.005004613032023603, 'ease_r': 0.0034040465393778982, 'user_knn': 0.003851907066914731, 'svd_item': 0.0001534053310003532, 'scaled_svd': 0.0001451130122021817, 'nmf': 0.001980596915977045, 'slim_bpr': 5.808559681969838e-05}. Best is trial 89 with value: 0.05225166912595235.\n"
     ]
    },
    {
     "name": "stdout",
     "output_type": "stream",
     "text": [
      "Recommender_Base_Class: URM Detected 627 ( 4.8%) users with no interactions.\n",
      "Recommender_Base_Class: URM Detected 247 ( 1.1%) items with no interactions.\n",
      "EvaluatorHoldout: Ignoring 2568 (19.7%) Users that have less than 1 test interactions\n",
      "EvaluatorHoldout: Processed 10456 (100.0%) in 36.41 sec. Users per second: 287\n"
     ]
    },
    {
     "name": "stderr",
     "output_type": "stream",
     "text": [
      "[I 2023-12-05 15:23:02,236] Trial 98 finished with value: 0.05207742421758349 and parameters: {'slim_elastic': 0.7942340906577317, 'item_knn': 0.043875898380466266, 'rp3': 0.03970534586322617, 'p3alpha': 0.5859128697151351, 'ials': 0.005959085389637839, 'ease_r': 0.00425661898845929, 'user_knn': 0.005418425368507028, 'svd_item': 0.0002411875644463513, 'scaled_svd': 0.00021841622678183328, 'nmf': 0.0033066842102574207, 'slim_bpr': 0.0002036034067870191}. Best is trial 89 with value: 0.05225166912595235.\n"
     ]
    },
    {
     "name": "stdout",
     "output_type": "stream",
     "text": [
      "Recommender_Base_Class: URM Detected 627 ( 4.8%) users with no interactions.\n",
      "Recommender_Base_Class: URM Detected 247 ( 1.1%) items with no interactions.\n",
      "EvaluatorHoldout: Ignoring 2568 (19.7%) Users that have less than 1 test interactions\n",
      "EvaluatorHoldout: Processed 10456 (100.0%) in 36.90 sec. Users per second: 283\n"
     ]
    },
    {
     "name": "stderr",
     "output_type": "stream",
     "text": [
      "[I 2023-12-05 15:23:39,497] Trial 99 finished with value: 0.052069420155208865 and parameters: {'slim_elastic': 0.6640498910423179, 'item_knn': 0.03652255066860035, 'rp3': 0.03311695808668965, 'p3alpha': 0.4665441899181366, 'ials': 0.00921878836172129, 'ease_r': 0.008360979906413378, 'user_knn': 0.010963582897705677, 'svd_item': 0.0007711254121408848, 'scaled_svd': 0.0003220788155869704, 'nmf': 0.0025185736005091763, 'slim_bpr': 0.00024263898275094935}. Best is trial 89 with value: 0.05225166912595235.\n"
     ]
    },
    {
     "name": "stdout",
     "output_type": "stream",
     "text": [
      "Recommender_Base_Class: URM Detected 627 ( 4.8%) users with no interactions.\n",
      "Recommender_Base_Class: URM Detected 247 ( 1.1%) items with no interactions.\n",
      "EvaluatorHoldout: Ignoring 2568 (19.7%) Users that have less than 1 test interactions\n",
      "EvaluatorHoldout: Processed 10456 (100.0%) in 36.96 sec. Users per second: 283\n"
     ]
    },
    {
     "name": "stderr",
     "output_type": "stream",
     "text": [
      "[I 2023-12-05 15:24:16,848] Trial 100 finished with value: 0.05217549200884178 and parameters: {'slim_elastic': 0.7925803681774277, 'item_knn': 0.04075713678363305, 'rp3': 0.04963789717097496, 'p3alpha': 0.49203564082454343, 'ials': 0.0066986900059294, 'ease_r': 0.00757570324476535, 'user_knn': 0.007879220937381172, 'svd_item': 0.00018367965743669923, 'scaled_svd': 0.0002520837062136457, 'nmf': 0.0053688230531419474, 'slim_bpr': 0.00014646596918878964}. Best is trial 89 with value: 0.05225166912595235.\n"
     ]
    },
    {
     "name": "stdout",
     "output_type": "stream",
     "text": [
      "Recommender_Base_Class: URM Detected 627 ( 4.8%) users with no interactions.\n",
      "Recommender_Base_Class: URM Detected 247 ( 1.1%) items with no interactions.\n",
      "EvaluatorHoldout: Ignoring 2568 (19.7%) Users that have less than 1 test interactions\n",
      "EvaluatorHoldout: Processed 10456 (100.0%) in 36.30 sec. Users per second: 288\n"
     ]
    },
    {
     "name": "stderr",
     "output_type": "stream",
     "text": [
      "[I 2023-12-05 15:24:53,514] Trial 101 finished with value: 0.05217939726260358 and parameters: {'slim_elastic': 0.9924949037569737, 'item_knn': 0.03906854019225935, 'rp3': 0.05033761218367041, 'p3alpha': 0.4982816875524024, 'ials': 0.006824810920028447, 'ease_r': 0.0076586972191713424, 'user_knn': 0.00818789317891191, 'svd_item': 0.00018086162016968887, 'scaled_svd': 0.0002556458546493174, 'nmf': 0.005009655311048772, 'slim_bpr': 0.00013714383028314454}. Best is trial 89 with value: 0.05225166912595235.\n"
     ]
    },
    {
     "name": "stdout",
     "output_type": "stream",
     "text": [
      "Recommender_Base_Class: URM Detected 627 ( 4.8%) users with no interactions.\n",
      "Recommender_Base_Class: URM Detected 247 ( 1.1%) items with no interactions.\n",
      "EvaluatorHoldout: Ignoring 2568 (19.7%) Users that have less than 1 test interactions\n",
      "EvaluatorHoldout: Processed 10456 (100.0%) in 38.10 sec. Users per second: 274\n"
     ]
    },
    {
     "name": "stderr",
     "output_type": "stream",
     "text": [
      "[I 2023-12-05 15:25:31,939] Trial 102 finished with value: 0.052093379209628754 and parameters: {'slim_elastic': 0.9916208063193732, 'item_knn': 0.03474390543236333, 'rp3': 0.04421446428056008, 'p3alpha': 0.3716395103552688, 'ials': 0.0077744664526812396, 'ease_r': 0.016205510475252018, 'user_knn': 0.0060359224431325, 'svd_item': 0.0002821418980676481, 'scaled_svd': 0.00019093512071534304, 'nmf': 0.0026365827177842176, 'slim_bpr': 0.0001225977996880081}. Best is trial 89 with value: 0.05225166912595235.\n"
     ]
    },
    {
     "name": "stdout",
     "output_type": "stream",
     "text": [
      "Recommender_Base_Class: URM Detected 627 ( 4.8%) users with no interactions.\n",
      "Recommender_Base_Class: URM Detected 247 ( 1.1%) items with no interactions.\n",
      "EvaluatorHoldout: Ignoring 2568 (19.7%) Users that have less than 1 test interactions\n",
      "EvaluatorHoldout: Processed 10456 (100.0%) in 37.81 sec. Users per second: 277\n"
     ]
    },
    {
     "name": "stderr",
     "output_type": "stream",
     "text": [
      "[I 2023-12-05 15:26:10,106] Trial 103 finished with value: 0.052093641077956825 and parameters: {'slim_elastic': 0.8951394410959119, 'item_knn': 0.030276119227019338, 'rp3': 0.05474026407522052, 'p3alpha': 0.6353630332492363, 'ials': 0.0056378346629350215, 'ease_r': 0.00988427269881505, 'user_knn': 0.004319740964798112, 'svd_item': 0.00015395022724795597, 'scaled_svd': 0.00015235887659398133, 'nmf': 0.0035076683245723207, 'slim_bpr': 8.349104277136748e-05}. Best is trial 89 with value: 0.05225166912595235.\n"
     ]
    },
    {
     "name": "stdout",
     "output_type": "stream",
     "text": [
      "Recommender_Base_Class: URM Detected 627 ( 4.8%) users with no interactions.\n",
      "Recommender_Base_Class: URM Detected 247 ( 1.1%) items with no interactions.\n",
      "EvaluatorHoldout: Ignoring 2568 (19.7%) Users that have less than 1 test interactions\n",
      "EvaluatorHoldout: Processed 10456 (100.0%) in 37.64 sec. Users per second: 278\n"
     ]
    },
    {
     "name": "stderr",
     "output_type": "stream",
     "text": [
      "[I 2023-12-05 15:26:48,117] Trial 104 finished with value: 0.052059188314448966 and parameters: {'slim_elastic': 0.6970884565739907, 'item_knn': 0.05310433049808867, 'rp3': 0.035270320604777694, 'p3alpha': 0.5457052904424987, 'ials': 0.006660005469693468, 'ease_r': 0.01115932917829821, 'user_knn': 0.006763622842352763, 'svd_item': 0.00022119590184403745, 'scaled_svd': 0.00010010829437213021, 'nmf': 0.001668283676550641, 'slim_bpr': 5.7994669749796625e-05}. Best is trial 89 with value: 0.05225166912595235.\n"
     ]
    },
    {
     "name": "stdout",
     "output_type": "stream",
     "text": [
      "Recommender_Base_Class: URM Detected 627 ( 4.8%) users with no interactions.\n",
      "Recommender_Base_Class: URM Detected 247 ( 1.1%) items with no interactions.\n",
      "EvaluatorHoldout: Ignoring 2568 (19.7%) Users that have less than 1 test interactions\n",
      "EvaluatorHoldout: Processed 10456 (100.0%) in 38.44 sec. Users per second: 272\n"
     ]
    },
    {
     "name": "stderr",
     "output_type": "stream",
     "text": [
      "[I 2023-12-05 15:27:26,906] Trial 105 finished with value: 0.05218028533780306 and parameters: {'slim_elastic': 0.8121371879429334, 'item_knn': 0.04459175878365415, 'rp3': 0.04934032916766566, 'p3alpha': 0.43684082479359493, 'ials': 0.009196018053569021, 'ease_r': 0.004741501021653062, 'user_knn': 0.005581862893814517, 'svd_item': 0.00037094638940476823, 'scaled_svd': 0.00022274930390029426, 'nmf': 0.0021892872645145364, 'slim_bpr': 0.00028908418652519443}. Best is trial 89 with value: 0.05225166912595235.\n"
     ]
    },
    {
     "name": "stdout",
     "output_type": "stream",
     "text": [
      "Recommender_Base_Class: URM Detected 627 ( 4.8%) users with no interactions.\n",
      "Recommender_Base_Class: URM Detected 247 ( 1.1%) items with no interactions.\n",
      "EvaluatorHoldout: Ignoring 2568 (19.7%) Users that have less than 1 test interactions\n",
      "EvaluatorHoldout: Processed 10456 (100.0%) in 36.48 sec. Users per second: 287\n"
     ]
    },
    {
     "name": "stderr",
     "output_type": "stream",
     "text": [
      "[I 2023-12-05 15:28:03,726] Trial 106 finished with value: 0.05209514397444821 and parameters: {'slim_elastic': 0.5960093060288678, 'item_knn': 0.04541890596527691, 'rp3': 0.04204467407321694, 'p3alpha': 0.44624630033820584, 'ials': 0.009192834763273082, 'ease_r': 0.004573737538930603, 'user_knn': 0.008937796767064372, 'svd_item': 0.0005636644821788364, 'scaled_svd': 0.000413745701882818, 'nmf': 0.0014616650763165262, 'slim_bpr': 0.00026665323167443555}. Best is trial 89 with value: 0.05225166912595235.\n"
     ]
    },
    {
     "name": "stdout",
     "output_type": "stream",
     "text": [
      "Recommender_Base_Class: URM Detected 627 ( 4.8%) users with no interactions.\n",
      "Recommender_Base_Class: URM Detected 247 ( 1.1%) items with no interactions.\n",
      "EvaluatorHoldout: Ignoring 2568 (19.7%) Users that have less than 1 test interactions\n",
      "EvaluatorHoldout: Processed 10456 (100.0%) in 37.26 sec. Users per second: 281\n"
     ]
    },
    {
     "name": "stderr",
     "output_type": "stream",
     "text": [
      "[I 2023-12-05 15:28:41,319] Trial 107 finished with value: 0.05184964810969091 and parameters: {'slim_elastic': 0.7650261223439772, 'item_knn': 0.038523554343523066, 'rp3': 0.046778389253632494, 'p3alpha': 0.3600090590376327, 'ials': 0.006237486796424224, 'ease_r': 0.002899750172585189, 'user_knn': 0.014681343300677106, 'svd_item': 0.0003881367113480355, 'scaled_svd': 0.00012710674232432024, 'nmf': 0.002151710184764595, 'slim_bpr': 0.0001647066556108305}. Best is trial 89 with value: 0.05225166912595235.\n"
     ]
    },
    {
     "name": "stdout",
     "output_type": "stream",
     "text": [
      "Recommender_Base_Class: URM Detected 627 ( 4.8%) users with no interactions.\n",
      "Recommender_Base_Class: URM Detected 247 ( 1.1%) items with no interactions.\n",
      "EvaluatorHoldout: Ignoring 2568 (19.7%) Users that have less than 1 test interactions\n",
      "EvaluatorHoldout: Processed 10456 (100.0%) in 37.63 sec. Users per second: 278\n"
     ]
    },
    {
     "name": "stderr",
     "output_type": "stream",
     "text": [
      "[I 2023-12-05 15:29:19,330] Trial 108 finished with value: 0.05211482205098361 and parameters: {'slim_elastic': 0.5368632935142943, 'item_knn': 0.05958624156023284, 'rp3': 0.03824975646137789, 'p3alpha': 0.32168674758378957, 'ials': 0.011043062706946941, 'ease_r': 0.00600427120878014, 'user_knn': 0.007824181299951686, 'svd_item': 0.00030249569448347464, 'scaled_svd': 0.00018412875218115168, 'nmf': 0.003780865297546559, 'slim_bpr': 0.00033726070684785394}. Best is trial 89 with value: 0.05225166912595235.\n"
     ]
    },
    {
     "name": "stdout",
     "output_type": "stream",
     "text": [
      "Recommender_Base_Class: URM Detected 627 ( 4.8%) users with no interactions.\n",
      "Recommender_Base_Class: URM Detected 247 ( 1.1%) items with no interactions.\n",
      "EvaluatorHoldout: Ignoring 2568 (19.7%) Users that have less than 1 test interactions\n",
      "EvaluatorHoldout: Processed 10456 (100.0%) in 37.74 sec. Users per second: 277\n"
     ]
    },
    {
     "name": "stderr",
     "output_type": "stream",
     "text": [
      "[I 2023-12-05 15:29:57,435] Trial 109 finished with value: 0.05216536263829728 and parameters: {'slim_elastic': 0.9154319229331916, 'item_knn': 0.04080924390805723, 'rp3': 0.06302128244116474, 'p3alpha': 0.39542204285088167, 'ials': 0.009886604451755378, 'ease_r': 0.003875900891072292, 'user_knn': 0.0052858028972299145, 'svd_item': 0.00014391870584400975, 'scaled_svd': 0.0003115852099943983, 'nmf': 0.006341630331709019, 'slim_bpr': 0.00010717214745435883}. Best is trial 89 with value: 0.05225166912595235.\n"
     ]
    },
    {
     "name": "stdout",
     "output_type": "stream",
     "text": [
      "Recommender_Base_Class: URM Detected 627 ( 4.8%) users with no interactions.\n",
      "Recommender_Base_Class: URM Detected 247 ( 1.1%) items with no interactions.\n",
      "EvaluatorHoldout: Ignoring 2568 (19.7%) Users that have less than 1 test interactions\n",
      "EvaluatorHoldout: Processed 10456 (100.0%) in 37.48 sec. Users per second: 279\n"
     ]
    },
    {
     "name": "stderr",
     "output_type": "stream",
     "text": [
      "[I 2023-12-05 15:30:35,280] Trial 110 finished with value: 0.05204923352278985 and parameters: {'slim_elastic': 0.6538575359606823, 'item_knn': 0.050550061768583704, 'rp3': 0.048861713203136176, 'p3alpha': 0.49015989788944353, 'ials': 0.00811806714416037, 'ease_r': 0.005250088849754436, 'user_knn': 0.009986617094139786, 'svd_item': 0.0005022344577047497, 'scaled_svd': 0.0001208498142827986, 'nmf': 0.0027611420353195813, 'slim_bpr': 0.00019253929525057557}. Best is trial 89 with value: 0.05225166912595235.\n"
     ]
    },
    {
     "name": "stdout",
     "output_type": "stream",
     "text": [
      "Recommender_Base_Class: URM Detected 627 ( 4.8%) users with no interactions.\n",
      "Recommender_Base_Class: URM Detected 247 ( 1.1%) items with no interactions.\n",
      "EvaluatorHoldout: Ignoring 2568 (19.7%) Users that have less than 1 test interactions\n",
      "EvaluatorHoldout: Processed 10456 (100.0%) in 37.63 sec. Users per second: 278\n"
     ]
    },
    {
     "name": "stderr",
     "output_type": "stream",
     "text": [
      "[I 2023-12-05 15:31:13,302] Trial 111 finished with value: 0.05204206060771718 and parameters: {'slim_elastic': 0.8228608673415734, 'item_knn': 0.07186263294602244, 'rp3': 0.052936808206380005, 'p3alpha': 0.5984549119955285, 'ials': 0.005691790014124051, 'ease_r': 0.007258175590231154, 'user_knn': 0.0034278410828427705, 'svd_item': 0.00022329293570817958, 'scaled_svd': 0.0002340602436826949, 'nmf': 0.0019083838484917925, 'slim_bpr': 0.00012980594750266038}. Best is trial 89 with value: 0.05225166912595235.\n"
     ]
    },
    {
     "name": "stdout",
     "output_type": "stream",
     "text": [
      "Recommender_Base_Class: URM Detected 627 ( 4.8%) users with no interactions.\n",
      "Recommender_Base_Class: URM Detected 247 ( 1.1%) items with no interactions.\n",
      "EvaluatorHoldout: Ignoring 2568 (19.7%) Users that have less than 1 test interactions\n",
      "EvaluatorHoldout: Processed 10456 (100.0%) in 36.37 sec. Users per second: 288\n"
     ]
    },
    {
     "name": "stderr",
     "output_type": "stream",
     "text": [
      "[I 2023-12-05 15:31:50,010] Trial 112 finished with value: 0.05218548475243234 and parameters: {'slim_elastic': 0.7206142361524025, 'item_knn': 0.06180305601435151, 'rp3': 0.04278632000122704, 'p3alpha': 0.4245206438272772, 'ials': 0.0074072071238164535, 'ease_r': 0.003651716476487444, 'user_knn': 0.004297627471154847, 'svd_item': 0.0001799461800673902, 'scaled_svd': 0.00026330283449241867, 'nmf': 0.002886346867709262, 'slim_bpr': 8.096475247202302e-05}. Best is trial 89 with value: 0.05225166912595235.\n"
     ]
    },
    {
     "name": "stdout",
     "output_type": "stream",
     "text": [
      "Recommender_Base_Class: URM Detected 627 ( 4.8%) users with no interactions.\n",
      "Recommender_Base_Class: URM Detected 247 ( 1.1%) items with no interactions.\n",
      "EvaluatorHoldout: Ignoring 2568 (19.7%) Users that have less than 1 test interactions\n",
      "EvaluatorHoldout: Processed 10456 (100.0%) in 37.17 sec. Users per second: 281\n"
     ]
    },
    {
     "name": "stderr",
     "output_type": "stream",
     "text": [
      "[I 2023-12-05 15:32:27,526] Trial 113 finished with value: 0.052174554596131274 and parameters: {'slim_elastic': 0.7368328211713452, 'item_knn': 0.04796389262513913, 'rp3': 0.030869176804650362, 'p3alpha': 0.436190767418628, 'ials': 0.007194585095960069, 'ease_r': 0.003649337294810713, 'user_knn': 0.007206281210536632, 'svd_item': 0.0001968905117552257, 'scaled_svd': 0.0001627026343853483, 'nmf': 0.00293770820993822, 'slim_bpr': 9.22896141110088e-05}. Best is trial 89 with value: 0.05225166912595235.\n"
     ]
    },
    {
     "name": "stdout",
     "output_type": "stream",
     "text": [
      "Recommender_Base_Class: URM Detected 627 ( 4.8%) users with no interactions.\n",
      "Recommender_Base_Class: URM Detected 247 ( 1.1%) items with no interactions.\n",
      "EvaluatorHoldout: Ignoring 2568 (19.7%) Users that have less than 1 test interactions\n",
      "EvaluatorHoldout: Processed 10456 (100.0%) in 37.14 sec. Users per second: 282\n"
     ]
    },
    {
     "name": "stderr",
     "output_type": "stream",
     "text": [
      "[I 2023-12-05 15:33:05,036] Trial 114 finished with value: 0.052183830048214586 and parameters: {'slim_elastic': 0.9345256180038432, 'item_knn': 0.059200672677450064, 'rp3': 0.04109138876908908, 'p3alpha': 0.3830194039207885, 'ials': 0.008679828292231774, 'ease_r': 0.002363665474233544, 'user_knn': 0.005907750226771458, 'svd_item': 0.00016458025864987322, 'scaled_svd': 0.0002558378595719848, 'nmf': 0.00217209670897225, 'slim_bpr': 7.61320106891943e-05}. Best is trial 89 with value: 0.05225166912595235.\n"
     ]
    },
    {
     "name": "stdout",
     "output_type": "stream",
     "text": [
      "Recommender_Base_Class: URM Detected 627 ( 4.8%) users with no interactions.\n",
      "Recommender_Base_Class: URM Detected 247 ( 1.1%) items with no interactions.\n",
      "EvaluatorHoldout: Ignoring 2568 (19.7%) Users that have less than 1 test interactions\n",
      "EvaluatorHoldout: Processed 10456 (100.0%) in 37.53 sec. Users per second: 279\n"
     ]
    },
    {
     "name": "stderr",
     "output_type": "stream",
     "text": [
      "[I 2023-12-05 15:33:42,896] Trial 115 finished with value: 0.05220747030640922 and parameters: {'slim_elastic': 0.9503466003346769, 'item_knn': 0.055149658734070475, 'rp3': 0.03584949482564687, 'p3alpha': 0.3732015192545834, 'ials': 0.008626924644186195, 'ease_r': 0.0021973045423409037, 'user_knn': 0.005543798512725137, 'svd_item': 0.00011488230383731432, 'scaled_svd': 0.0003515598921705743, 'nmf': 0.0023047108503581122, 'slim_bpr': 7.81030954932439e-05}. Best is trial 89 with value: 0.05225166912595235.\n"
     ]
    },
    {
     "name": "stdout",
     "output_type": "stream",
     "text": [
      "Recommender_Base_Class: URM Detected 627 ( 4.8%) users with no interactions.\n",
      "Recommender_Base_Class: URM Detected 247 ( 1.1%) items with no interactions.\n",
      "EvaluatorHoldout: Ignoring 2568 (19.7%) Users that have less than 1 test interactions\n",
      "EvaluatorHoldout: Processed 10456 (100.0%) in 37.93 sec. Users per second: 276\n"
     ]
    },
    {
     "name": "stderr",
     "output_type": "stream",
     "text": [
      "[I 2023-12-05 15:34:21,199] Trial 116 finished with value: 0.0521289136031872 and parameters: {'slim_elastic': 0.8066525184141208, 'item_knn': 0.06078600737231359, 'rp3': 0.02650861554532622, 'p3alpha': 0.36032794957692, 'ials': 0.008139828937964033, 'ease_r': 0.0024487158393916245, 'user_knn': 0.005738251823072715, 'svd_item': 0.00011257009070189654, 'scaled_svd': 0.0003607843427295577, 'nmf': 0.0024066538169409232, 'slim_bpr': 6.957949421477333e-05}. Best is trial 89 with value: 0.05225166912595235.\n"
     ]
    },
    {
     "name": "stdout",
     "output_type": "stream",
     "text": [
      "Recommender_Base_Class: URM Detected 627 ( 4.8%) users with no interactions.\n",
      "Recommender_Base_Class: URM Detected 247 ( 1.1%) items with no interactions.\n",
      "EvaluatorHoldout: Ignoring 2568 (19.7%) Users that have less than 1 test interactions\n",
      "EvaluatorHoldout: Processed 10456 (100.0%) in 36.72 sec. Users per second: 285\n"
     ]
    },
    {
     "name": "stderr",
     "output_type": "stream",
     "text": [
      "[I 2023-12-05 15:34:58,290] Trial 117 finished with value: 0.05221440412431274 and parameters: {'slim_elastic': 0.9002276631887212, 'item_knn': 0.05272530635917255, 'rp3': 0.03518389449357695, 'p3alpha': 0.4139833451028606, 'ials': 0.009500186722739131, 'ease_r': 0.001853804330296172, 'user_knn': 0.004710315482807868, 'svd_item': 0.00016201578933622906, 'scaled_svd': 0.00020654314446899423, 'nmf': 0.0021651036780293126, 'slim_bpr': 0.00044665101047659415}. Best is trial 89 with value: 0.05225166912595235.\n"
     ]
    },
    {
     "name": "stdout",
     "output_type": "stream",
     "text": [
      "Recommender_Base_Class: URM Detected 627 ( 4.8%) users with no interactions.\n",
      "Recommender_Base_Class: URM Detected 247 ( 1.1%) items with no interactions.\n",
      "EvaluatorHoldout: Ignoring 2568 (19.7%) Users that have less than 1 test interactions\n",
      "EvaluatorHoldout: Processed 10456 (100.0%) in 37.64 sec. Users per second: 278\n"
     ]
    },
    {
     "name": "stderr",
     "output_type": "stream",
     "text": [
      "[I 2023-12-05 15:35:36,290] Trial 118 finished with value: 0.052194316166916103 and parameters: {'slim_elastic': 0.9185083876175972, 'item_knn': 0.05357632515449442, 'rp3': 0.03517938008714639, 'p3alpha': 0.3192566370519826, 'ials': 0.01143878035659054, 'ease_r': 0.0019847436224071876, 'user_knn': 0.004747785615671616, 'svd_item': 0.00013852253263606655, 'scaled_svd': 0.00014144476501683898, 'nmf': 0.0031202651521288656, 'slim_bpr': 7.556546675688146e-05}. Best is trial 89 with value: 0.05225166912595235.\n"
     ]
    },
    {
     "name": "stdout",
     "output_type": "stream",
     "text": [
      "Recommender_Base_Class: URM Detected 627 ( 4.8%) users with no interactions.\n",
      "Recommender_Base_Class: URM Detected 247 ( 1.1%) items with no interactions.\n",
      "EvaluatorHoldout: Ignoring 2568 (19.7%) Users that have less than 1 test interactions\n",
      "EvaluatorHoldout: Processed 10456 (100.0%) in 36.74 sec. Users per second: 285\n"
     ]
    },
    {
     "name": "stderr",
     "output_type": "stream",
     "text": [
      "[I 2023-12-05 15:36:13,366] Trial 119 finished with value: 0.052182873659538206 and parameters: {'slim_elastic': 0.6411889127570554, 'item_knn': 0.05428358025892271, 'rp3': 0.03419244655724923, 'p3alpha': 0.31923408399607006, 'ials': 0.01136333285703297, 'ease_r': 0.0017246900394312077, 'user_knn': 0.0045465768982245955, 'svd_item': 0.00013158811705787313, 'scaled_svd': 0.00014086488212053621, 'nmf': 0.003084406698511974, 'slim_bpr': 5.477877724965197e-05}. Best is trial 89 with value: 0.05225166912595235.\n"
     ]
    },
    {
     "name": "stdout",
     "output_type": "stream",
     "text": [
      "Recommender_Base_Class: URM Detected 627 ( 4.8%) users with no interactions.\n",
      "Recommender_Base_Class: URM Detected 247 ( 1.1%) items with no interactions.\n",
      "EvaluatorHoldout: Ignoring 2568 (19.7%) Users that have less than 1 test interactions\n",
      "EvaluatorHoldout: Processed 10456 (100.0%) in 36.84 sec. Users per second: 284\n"
     ]
    },
    {
     "name": "stderr",
     "output_type": "stream",
     "text": [
      "[I 2023-12-05 15:36:50,527] Trial 120 finished with value: 0.05215146084575166 and parameters: {'slim_elastic': 0.7000117160028079, 'item_knn': 0.07642162925617693, 'rp3': 0.02419704009431752, 'p3alpha': 0.29095461056300864, 'ials': 0.013453957602280013, 'ease_r': 0.001972467703211357, 'user_knn': 0.003528480979154915, 'svd_item': 0.00012835281497620648, 'scaled_svd': 0.00011481994946687386, 'nmf': 0.0013970790003420496, 'slim_bpr': 4.421296444080869e-05}. Best is trial 89 with value: 0.05225166912595235.\n"
     ]
    },
    {
     "name": "stdout",
     "output_type": "stream",
     "text": [
      "Recommender_Base_Class: URM Detected 627 ( 4.8%) users with no interactions.\n",
      "Recommender_Base_Class: URM Detected 247 ( 1.1%) items with no interactions.\n",
      "EvaluatorHoldout: Ignoring 2568 (19.7%) Users that have less than 1 test interactions\n",
      "EvaluatorHoldout: Processed 10456 (100.0%) in 37.23 sec. Users per second: 281\n"
     ]
    },
    {
     "name": "stderr",
     "output_type": "stream",
     "text": [
      "[I 2023-12-05 15:37:28,096] Trial 121 finished with value: 0.052149946563680834 and parameters: {'slim_elastic': 0.9086956195063347, 'item_knn': 0.05929700399859676, 'rp3': 0.0392804837042195, 'p3alpha': 0.397243642583519, 'ials': 0.010097396882763421, 'ease_r': 0.0022082569051282254, 'user_knn': 0.006556894472064513, 'svd_item': 0.00016434280317885894, 'scaled_svd': 0.00019568142464100873, 'nmf': 0.0016863183684567057, 'slim_bpr': 8.447705766009748e-05}. Best is trial 89 with value: 0.05225166912595235.\n"
     ]
    },
    {
     "name": "stdout",
     "output_type": "stream",
     "text": [
      "Recommender_Base_Class: URM Detected 627 ( 4.8%) users with no interactions.\n",
      "Recommender_Base_Class: URM Detected 247 ( 1.1%) items with no interactions.\n",
      "EvaluatorHoldout: Ignoring 2568 (19.7%) Users that have less than 1 test interactions\n",
      "EvaluatorHoldout: Processed 10456 (100.0%) in 37.44 sec. Users per second: 279\n"
     ]
    },
    {
     "name": "stderr",
     "output_type": "stream",
     "text": [
      "[I 2023-12-05 15:38:05,895] Trial 122 finished with value: 0.052226723321310606 and parameters: {'slim_elastic': 0.9999233581092756, 'item_knn': 0.052294821907383084, 'rp3': 0.036126422173812775, 'p3alpha': 0.3495414459776783, 'ials': 0.007467643044415397, 'ease_r': 0.0014181082207286868, 'user_knn': 0.005098839555244858, 'svd_item': 0.00010035609724781397, 'scaled_svd': 0.00016404338100982287, 'nmf': 0.0026712408294292975, 'slim_bpr': 7.681938897262303e-05}. Best is trial 89 with value: 0.05225166912595235.\n"
     ]
    },
    {
     "name": "stdout",
     "output_type": "stream",
     "text": [
      "Recommender_Base_Class: URM Detected 627 ( 4.8%) users with no interactions.\n",
      "Recommender_Base_Class: URM Detected 247 ( 1.1%) items with no interactions.\n",
      "EvaluatorHoldout: Ignoring 2568 (19.7%) Users that have less than 1 test interactions\n",
      "EvaluatorHoldout: Processed 10456 (100.0%) in 36.58 sec. Users per second: 286\n"
     ]
    },
    {
     "name": "stderr",
     "output_type": "stream",
     "text": [
      "[I 2023-12-05 15:38:42,817] Trial 123 finished with value: 0.05220726157078534 and parameters: {'slim_elastic': 0.9998875976962704, 'item_knn': 0.04859838862182982, 'rp3': 0.031963883990138754, 'p3alpha': 0.33731000384935117, 'ials': 0.007509285862360903, 'ease_r': 0.0013437371685737303, 'user_knn': 0.004743339989789072, 'svd_item': 0.00010634109242214783, 'scaled_svd': 0.0001647415788903764, 'nmf': 0.0038284778172831217, 'slim_bpr': 0.0008033446186715121}. Best is trial 89 with value: 0.05225166912595235.\n"
     ]
    },
    {
     "name": "stdout",
     "output_type": "stream",
     "text": [
      "Recommender_Base_Class: URM Detected 627 ( 4.8%) users with no interactions.\n",
      "Recommender_Base_Class: URM Detected 247 ( 1.1%) items with no interactions.\n",
      "EvaluatorHoldout: Ignoring 2568 (19.7%) Users that have less than 1 test interactions\n",
      "EvaluatorHoldout: Processed 10456 (100.0%) in 36.62 sec. Users per second: 286\n"
     ]
    },
    {
     "name": "stderr",
     "output_type": "stream",
     "text": [
      "[I 2023-12-05 15:39:19,794] Trial 124 finished with value: 0.052193291464762835 and parameters: {'slim_elastic': 0.9918934477330694, 'item_knn': 0.047975352642861874, 'rp3': 0.035123855018905296, 'p3alpha': 0.34259621587167766, 'ials': 0.0064584746557506375, 'ease_r': 0.001311637218983278, 'user_knn': 0.003041435579171581, 'svd_item': 0.00010001428535105687, 'scaled_svd': 0.00016867662074171417, 'nmf': 0.003503895823486627, 'slim_bpr': 0.0007416022867665596}. Best is trial 89 with value: 0.05225166912595235.\n"
     ]
    },
    {
     "name": "stdout",
     "output_type": "stream",
     "text": [
      "Recommender_Base_Class: URM Detected 627 ( 4.8%) users with no interactions.\n",
      "Recommender_Base_Class: URM Detected 247 ( 1.1%) items with no interactions.\n",
      "EvaluatorHoldout: Ignoring 2568 (19.7%) Users that have less than 1 test interactions\n",
      "EvaluatorHoldout: Processed 10456 (100.0%) in 38.07 sec. Users per second: 275\n"
     ]
    },
    {
     "name": "stderr",
     "output_type": "stream",
     "text": [
      "[I 2023-12-05 15:39:58,226] Trial 125 finished with value: 0.05210426382361204 and parameters: {'slim_elastic': 0.9987490524146448, 'item_knn': 0.03497674328955306, 'rp3': 0.03109134792587425, 'p3alpha': 0.3447731000705331, 'ials': 0.006178287783119867, 'ease_r': 0.0012388357458674724, 'user_knn': 0.005064398206668929, 'svd_item': 0.00010559874030850981, 'scaled_svd': 0.00013796722423637268, 'nmf': 0.00323039260477944, 'slim_bpr': 0.0005029183986708058}. Best is trial 89 with value: 0.05225166912595235.\n"
     ]
    },
    {
     "name": "stdout",
     "output_type": "stream",
     "text": [
      "Recommender_Base_Class: URM Detected 627 ( 4.8%) users with no interactions.\n",
      "Recommender_Base_Class: URM Detected 247 ( 1.1%) items with no interactions.\n",
      "EvaluatorHoldout: Ignoring 2568 (19.7%) Users that have less than 1 test interactions\n",
      "EvaluatorHoldout: Processed 10456 (100.0%) in 38.02 sec. Users per second: 275\n"
     ]
    },
    {
     "name": "stderr",
     "output_type": "stream",
     "text": [
      "[I 2023-12-05 15:40:36,619] Trial 126 finished with value: 0.05225074309882121 and parameters: {'slim_elastic': 0.8608161735805644, 'item_knn': 0.05000638026324206, 'rp3': 0.03505230829476789, 'p3alpha': 0.31305067079175003, 'ials': 0.005524946934079737, 'ease_r': 0.0014969474072866222, 'user_knn': 0.0036009211506894253, 'svd_item': 0.00011036770589034345, 'scaled_svd': 0.00010086203125294942, 'nmf': 0.003873904468586457, 'slim_bpr': 0.0006477741284587712}. Best is trial 89 with value: 0.05225166912595235.\n"
     ]
    },
    {
     "name": "stdout",
     "output_type": "stream",
     "text": [
      "Recommender_Base_Class: URM Detected 627 ( 4.8%) users with no interactions.\n",
      "Recommender_Base_Class: URM Detected 247 ( 1.1%) items with no interactions.\n",
      "EvaluatorHoldout: Ignoring 2568 (19.7%) Users that have less than 1 test interactions\n",
      "EvaluatorHoldout: Processed 10456 (100.0%) in 37.68 sec. Users per second: 278\n"
     ]
    },
    {
     "name": "stderr",
     "output_type": "stream",
     "text": [
      "[I 2023-12-05 15:41:14,648] Trial 127 finished with value: 0.05213983616910214 and parameters: {'slim_elastic': 0.8945070069353216, 'item_knn': 0.04746270482136514, 'rp3': 0.028892693737849452, 'p3alpha': 0.2580016142948468, 'ials': 0.005061648614008238, 'ease_r': 0.0015451158313627327, 'user_knn': 0.0037781229071391577, 'svd_item': 0.00010629069217290237, 'scaled_svd': 0.00010499936369252166, 'nmf': 0.0036927787209564333, 'slim_bpr': 0.0007059359384135666}. Best is trial 89 with value: 0.05225166912595235.\n"
     ]
    },
    {
     "name": "stdout",
     "output_type": "stream",
     "text": [
      "Recommender_Base_Class: URM Detected 627 ( 4.8%) users with no interactions.\n",
      "Recommender_Base_Class: URM Detected 247 ( 1.1%) items with no interactions.\n",
      "EvaluatorHoldout: Ignoring 2568 (19.7%) Users that have less than 1 test interactions\n",
      "EvaluatorHoldout: Processed 10456 (100.0%) in 38.04 sec. Users per second: 275\n"
     ]
    },
    {
     "name": "stderr",
     "output_type": "stream",
     "text": [
      "[I 2023-12-05 15:41:53,029] Trial 128 finished with value: 0.052231922735940024 and parameters: {'slim_elastic': 0.7821548491223852, 'item_knn': 0.04228585529642014, 'rp3': 0.03588878233237851, 'p3alpha': 0.29362126333316113, 'ials': 0.006249742495369097, 'ease_r': 0.0011790070239465463, 'user_knn': 0.0031184816162779594, 'svd_item': 0.0001165079827863221, 'scaled_svd': 0.00011863620738112148, 'nmf': 0.0038498578158002073, 'slim_bpr': 0.00089245438676851}. Best is trial 89 with value: 0.05225166912595235.\n"
     ]
    },
    {
     "name": "stdout",
     "output_type": "stream",
     "text": [
      "Recommender_Base_Class: URM Detected 627 ( 4.8%) users with no interactions.\n",
      "Recommender_Base_Class: URM Detected 247 ( 1.1%) items with no interactions.\n",
      "EvaluatorHoldout: Ignoring 2568 (19.7%) Users that have less than 1 test interactions\n",
      "EvaluatorHoldout: Processed 10456 (100.0%) in 38.21 sec. Users per second: 274\n"
     ]
    },
    {
     "name": "stderr",
     "output_type": "stream",
     "text": [
      "[I 2023-12-05 15:42:31,627] Trial 129 finished with value: 0.052139836169102144 and parameters: {'slim_elastic': 0.9883727948737078, 'item_knn': 0.0493213256836993, 'rp3': 0.024077574502681026, 'p3alpha': 0.29511399386186693, 'ials': 0.006010994911692243, 'ease_r': 0.0011523057318107816, 'user_knn': 0.0031617569252431386, 'svd_item': 0.00010108479493479923, 'scaled_svd': 0.00015371427831218997, 'nmf': 0.004707009554150284, 'slim_bpr': 0.0008983635665819832}. Best is trial 89 with value: 0.05225166912595235.\n"
     ]
    },
    {
     "name": "stdout",
     "output_type": "stream",
     "text": [
      "Recommender_Base_Class: URM Detected 627 ( 4.8%) users with no interactions.\n",
      "Recommender_Base_Class: URM Detected 247 ( 1.1%) items with no interactions.\n",
      "EvaluatorHoldout: Ignoring 2568 (19.7%) Users that have less than 1 test interactions\n",
      "EvaluatorHoldout: Processed 10456 (100.0%) in 38.25 sec. Users per second: 273\n"
     ]
    },
    {
     "name": "stderr",
     "output_type": "stream",
     "text": [
      "[I 2023-12-05 15:43:10,229] Trial 130 finished with value: 0.05224553609380543 and parameters: {'slim_elastic': 0.8574951140933809, 'item_knn': 0.05322103748105922, 'rp3': 0.035619260907222304, 'p3alpha': 0.3194171170866627, 'ials': 0.005590372012916345, 'ease_r': 0.0013999213237234766, 'user_knn': 0.0030214495291524747, 'svd_item': 0.00013951724230284126, 'scaled_svd': 0.00011638704804040116, 'nmf': 0.004229751213396948, 'slim_bpr': 0.0005882178058936544}. Best is trial 89 with value: 0.05225166912595235.\n"
     ]
    },
    {
     "name": "stdout",
     "output_type": "stream",
     "text": [
      "Recommender_Base_Class: URM Detected 627 ( 4.8%) users with no interactions.\n",
      "Recommender_Base_Class: URM Detected 247 ( 1.1%) items with no interactions.\n",
      "EvaluatorHoldout: Ignoring 2568 (19.7%) Users that have less than 1 test interactions\n",
      "EvaluatorHoldout: Processed 10456 (100.0%) in 37.84 sec. Users per second: 276\n"
     ]
    },
    {
     "name": "stderr",
     "output_type": "stream",
     "text": [
      "[I 2023-12-05 15:43:48,467] Trial 131 finished with value: 0.05220040745193814 and parameters: {'slim_elastic': 0.839448598502908, 'item_knn': 0.04087606034664475, 'rp3': 0.03474536038402759, 'p3alpha': 0.33677572712612447, 'ials': 0.005596262823424549, 'ease_r': 0.001390346236577894, 'user_knn': 0.004799976373546694, 'svd_item': 0.00014129560995554578, 'scaled_svd': 0.00010045460608508964, 'nmf': 0.003965625317469243, 'slim_bpr': 0.0006041713038746371}. Best is trial 89 with value: 0.05225166912595235.\n"
     ]
    },
    {
     "name": "stdout",
     "output_type": "stream",
     "text": [
      "Recommender_Base_Class: URM Detected 627 ( 4.8%) users with no interactions.\n",
      "Recommender_Base_Class: URM Detected 247 ( 1.1%) items with no interactions.\n",
      "EvaluatorHoldout: Ignoring 2568 (19.7%) Users that have less than 1 test interactions\n",
      "EvaluatorHoldout: Processed 10456 (100.0%) in 40.12 sec. Users per second: 261\n"
     ]
    },
    {
     "name": "stderr",
     "output_type": "stream",
     "text": [
      "[I 2023-12-05 15:44:28,949] Trial 132 finished with value: 0.05220058582601667 and parameters: {'slim_elastic': 0.8457983712272593, 'item_knn': 0.04264125448709215, 'rp3': 0.03136806051604585, 'p3alpha': 0.3122602741909175, 'ials': 0.0055587067027307304, 'ease_r': 0.001550557922958009, 'user_knn': 0.00427124514539725, 'svd_item': 0.00013955763834128015, 'scaled_svd': 0.00010061544059283707, 'nmf': 0.004111353084487142, 'slim_bpr': 0.00048352216511217687}. Best is trial 89 with value: 0.05225166912595235.\n"
     ]
    },
    {
     "name": "stdout",
     "output_type": "stream",
     "text": [
      "Recommender_Base_Class: URM Detected 627 ( 4.8%) users with no interactions.\n",
      "Recommender_Base_Class: URM Detected 247 ( 1.1%) items with no interactions.\n",
      "EvaluatorHoldout: Ignoring 2568 (19.7%) Users that have less than 1 test interactions\n",
      "EvaluatorHoldout: Processed 10456 (100.0%) in 38.97 sec. Users per second: 268\n"
     ]
    },
    {
     "name": "stderr",
     "output_type": "stream",
     "text": [
      "[I 2023-12-05 15:45:08,352] Trial 133 finished with value: 0.05217724918327487 and parameters: {'slim_elastic': 0.8373173752060845, 'item_knn': 0.040877332862854464, 'rp3': 0.03161145104346986, 'p3alpha': 0.2857216911381359, 'ials': 0.00531861520776969, 'ease_r': 0.0014621539749375486, 'user_knn': 0.004080874753375085, 'svd_item': 0.00011966753259419735, 'scaled_svd': 0.00010278503154570596, 'nmf': 0.00647471987662559, 'slim_bpr': 0.00045678108268291993}. Best is trial 89 with value: 0.05225166912595235.\n"
     ]
    },
    {
     "name": "stdout",
     "output_type": "stream",
     "text": [
      "Recommender_Base_Class: URM Detected 627 ( 4.8%) users with no interactions.\n",
      "Recommender_Base_Class: URM Detected 247 ( 1.1%) items with no interactions.\n",
      "EvaluatorHoldout: Ignoring 2568 (19.7%) Users that have less than 1 test interactions\n",
      "EvaluatorHoldout: Processed 10456 (100.0%) in 38.28 sec. Users per second: 273\n"
     ]
    },
    {
     "name": "stderr",
     "output_type": "stream",
     "text": [
      "[I 2023-12-05 15:45:47,032] Trial 134 finished with value: 0.05209193324103485 and parameters: {'slim_elastic': 0.6135042711787997, 'item_knn': 0.03652764625354596, 'rp3': 0.02870493256309373, 'p3alpha': 0.26942445385270636, 'ials': 0.005520705004863535, 'ease_r': 0.0011021530124398326, 'user_knn': 0.00499284615295773, 'svd_item': 0.0001449718971944672, 'scaled_svd': 0.00011930598602765373, 'nmf': 0.004161501542296728, 'slim_bpr': 0.00041235789556354603}. Best is trial 89 with value: 0.05225166912595235.\n"
     ]
    },
    {
     "name": "stdout",
     "output_type": "stream",
     "text": [
      "Recommender_Base_Class: URM Detected 627 ( 4.8%) users with no interactions.\n",
      "Recommender_Base_Class: URM Detected 247 ( 1.1%) items with no interactions.\n",
      "EvaluatorHoldout: Ignoring 2568 (19.7%) Users that have less than 1 test interactions\n",
      "EvaluatorHoldout: Processed 10456 (100.0%) in 37.55 sec. Users per second: 278\n"
     ]
    },
    {
     "name": "stderr",
     "output_type": "stream",
     "text": [
      "[I 2023-12-05 15:46:24,973] Trial 135 finished with value: 0.05220897320290057 and parameters: {'slim_elastic': 0.7216878623732688, 'item_knn': 0.03196708807955058, 'rp3': 0.03240765393643754, 'p3alpha': 0.36295013315749963, 'ials': 0.007648414128642639, 'ease_r': 0.001000525109418235, 'user_knn': 0.0035765957712026323, 'svd_item': 0.00012565030367393983, 'scaled_svd': 0.00011403576493548795, 'nmf': 0.003885401252593281, 'slim_bpr': 0.0005589123366270615}. Best is trial 89 with value: 0.05225166912595235.\n"
     ]
    },
    {
     "name": "stdout",
     "output_type": "stream",
     "text": [
      "Recommender_Base_Class: URM Detected 627 ( 4.8%) users with no interactions.\n",
      "Recommender_Base_Class: URM Detected 247 ( 1.1%) items with no interactions.\n",
      "EvaluatorHoldout: Ignoring 2568 (19.7%) Users that have less than 1 test interactions\n",
      "EvaluatorHoldout: Processed 10456 (100.0%) in 38.00 sec. Users per second: 275\n"
     ]
    },
    {
     "name": "stderr",
     "output_type": "stream",
     "text": [
      "[I 2023-12-05 15:47:03,330] Trial 136 finished with value: 0.052166360774098405 and parameters: {'slim_elastic': 0.750338305718173, 'item_knn': 0.029916598770644887, 'rp3': 0.03266403532536332, 'p3alpha': 0.2371686511395167, 'ials': 0.007969381491680787, 'ease_r': 0.0012853880420536775, 'user_knn': 0.003379223580956911, 'svd_item': 0.00011798462772926953, 'scaled_svd': 0.0001006135135669129, 'nmf': 0.004113101985158331, 'slim_bpr': 0.0005858582659563991}. Best is trial 89 with value: 0.05225166912595235.\n"
     ]
    },
    {
     "name": "stdout",
     "output_type": "stream",
     "text": [
      "Recommender_Base_Class: URM Detected 627 ( 4.8%) users with no interactions.\n",
      "Recommender_Base_Class: URM Detected 247 ( 1.1%) items with no interactions.\n",
      "EvaluatorHoldout: Ignoring 2568 (19.7%) Users that have less than 1 test interactions\n",
      "EvaluatorHoldout: Processed 10456 (100.0%) in 39.96 sec. Users per second: 262\n"
     ]
    },
    {
     "name": "stderr",
     "output_type": "stream",
     "text": [
      "[I 2023-12-05 15:47:43,703] Trial 137 finished with value: 0.05216897945737895 and parameters: {'slim_elastic': 0.6843317849355055, 'item_knn': 0.034611438422459395, 'rp3': 0.036513087490173415, 'p3alpha': 0.3130190336717257, 'ials': 0.007467738521763956, 'ease_r': 0.0015226426680257034, 'user_knn': 0.0040155074878826386, 'svd_item': 0.00014163614585550657, 'scaled_svd': 0.00011807027204805463, 'nmf': 0.005866802831961274, 'slim_bpr': 0.0010255339078663278}. Best is trial 89 with value: 0.05225166912595235.\n"
     ]
    },
    {
     "name": "stdout",
     "output_type": "stream",
     "text": [
      "Recommender_Base_Class: URM Detected 627 ( 4.8%) users with no interactions.\n",
      "Recommender_Base_Class: URM Detected 247 ( 1.1%) items with no interactions.\n",
      "EvaluatorHoldout: Ignoring 2568 (19.7%) Users that have less than 1 test interactions\n",
      "EvaluatorHoldout: Processed 10456 (100.0%) in 39.63 sec. Users per second: 264\n"
     ]
    },
    {
     "name": "stderr",
     "output_type": "stream",
     "text": [
      "[I 2023-12-05 15:48:23,704] Trial 138 finished with value: 0.052187336806694545 and parameters: {'slim_elastic': 0.7628382800357291, 'item_knn': 0.03102210371134567, 'rp3': 0.02538187969257873, 'p3alpha': 0.3572694087267692, 'ials': 0.006179127276104597, 'ease_r': 0.0010137945592113042, 'user_knn': 0.004613379681258682, 'svd_item': 0.00012094339656366233, 'scaled_svd': 0.0001181236843782975, 'nmf': 0.004809913930001233, 'slim_bpr': 0.0005732774854475771}. Best is trial 89 with value: 0.05225166912595235.\n"
     ]
    },
    {
     "name": "stdout",
     "output_type": "stream",
     "text": [
      "Recommender_Base_Class: URM Detected 627 ( 4.8%) users with no interactions.\n",
      "Recommender_Base_Class: URM Detected 247 ( 1.1%) items with no interactions.\n",
      "EvaluatorHoldout: Ignoring 2568 (19.7%) Users that have less than 1 test interactions\n",
      "EvaluatorHoldout: Processed 10456 (100.0%) in 38.23 sec. Users per second: 274\n"
     ]
    },
    {
     "name": "stderr",
     "output_type": "stream",
     "text": [
      "[I 2023-12-05 15:49:02,338] Trial 139 finished with value: 0.05202581338579861 and parameters: {'slim_elastic': 0.819278377636598, 'item_knn': 0.032777898711922694, 'rp3': 0.02850917085770235, 'p3alpha': 0.2592125276726754, 'ials': 0.005090934524062427, 'ease_r': 0.0012195852373235415, 'user_knn': 0.006542887038017314, 'svd_item': 0.0001529293204215474, 'scaled_svd': 0.0001430442025486085, 'nmf': 0.004111256036742686, 'slim_bpr': 0.00035589366537282084}. Best is trial 89 with value: 0.05225166912595235.\n"
     ]
    },
    {
     "name": "stdout",
     "output_type": "stream",
     "text": [
      "Recommender_Base_Class: URM Detected 627 ( 4.8%) users with no interactions.\n",
      "Recommender_Base_Class: URM Detected 247 ( 1.1%) items with no interactions.\n",
      "EvaluatorHoldout: Ignoring 2568 (19.7%) Users that have less than 1 test interactions\n",
      "EvaluatorHoldout: Processed 10456 (100.0%) in 38.03 sec. Users per second: 275\n"
     ]
    },
    {
     "name": "stderr",
     "output_type": "stream",
     "text": [
      "[I 2023-12-05 15:49:40,741] Trial 140 finished with value: 0.05218819072515562 and parameters: {'slim_elastic': 0.5992067639546238, 'item_knn': 0.04162359934216643, 'rp3': 0.03277244271560885, 'p3alpha': 0.3755575607254961, 'ials': 0.005558574102069215, 'ease_r': 0.0017922813436065965, 'user_knn': 0.0028523555872373807, 'svd_item': 0.00012931930357008162, 'scaled_svd': 0.00017670123176610067, 'nmf': 0.007215208843116083, 'slim_bpr': 0.0007042566372059498}. Best is trial 89 with value: 0.05225166912595235.\n"
     ]
    },
    {
     "name": "stdout",
     "output_type": "stream",
     "text": [
      "Recommender_Base_Class: URM Detected 627 ( 4.8%) users with no interactions.\n",
      "Recommender_Base_Class: URM Detected 247 ( 1.1%) items with no interactions.\n",
      "EvaluatorHoldout: Ignoring 2568 (19.7%) Users that have less than 1 test interactions\n",
      "EvaluatorHoldout: Processed 10456 (100.0%) in 40.55 sec. Users per second: 258\n"
     ]
    },
    {
     "name": "stderr",
     "output_type": "stream",
     "text": [
      "[I 2023-12-05 15:50:21,654] Trial 141 finished with value: 0.05220082492318572 and parameters: {'slim_elastic': 0.8704150772559157, 'item_knn': 0.03759532440206985, 'rp3': 0.037946172644402434, 'p3alpha': 0.3305820295608939, 'ials': 0.007116904444981211, 'ease_r': 0.0014488445104142344, 'user_knn': 0.003623309495413152, 'svd_item': 0.00016467580596766978, 'scaled_svd': 0.00013003759511850434, 'nmf': 0.002535317749158834, 'slim_bpr': 0.0005225191981101983}. Best is trial 89 with value: 0.05225166912595235.\n"
     ]
    },
    {
     "name": "stdout",
     "output_type": "stream",
     "text": [
      "Recommender_Base_Class: URM Detected 627 ( 4.8%) users with no interactions.\n",
      "Recommender_Base_Class: URM Detected 247 ( 1.1%) items with no interactions.\n",
      "EvaluatorHoldout: Ignoring 2568 (19.7%) Users that have less than 1 test interactions\n",
      "EvaluatorHoldout: Processed 10456 (100.0%) in 40.64 sec. Users per second: 257\n"
     ]
    },
    {
     "name": "stderr",
     "output_type": "stream",
     "text": [
      "[I 2023-12-05 15:51:02,664] Trial 142 finished with value: 0.052223554335021856 and parameters: {'slim_elastic': 0.8877274970093387, 'item_knn': 0.03664308670016483, 'rp3': 0.038072073631578066, 'p3alpha': 0.32852415599495116, 'ials': 0.0071670062856063884, 'ease_r': 0.0014427748619205137, 'user_knn': 0.004190754036353077, 'svd_item': 0.00016261426973509334, 'scaled_svd': 0.00012988654443121353, 'nmf': 0.0036229666957127015, 'slim_bpr': 0.0005145237197201859}. Best is trial 89 with value: 0.05225166912595235.\n"
     ]
    },
    {
     "name": "stdout",
     "output_type": "stream",
     "text": [
      "Recommender_Base_Class: URM Detected 627 ( 4.8%) users with no interactions.\n",
      "Recommender_Base_Class: URM Detected 247 ( 1.1%) items with no interactions.\n",
      "EvaluatorHoldout: Ignoring 2568 (19.7%) Users that have less than 1 test interactions\n",
      "EvaluatorHoldout: Processed 10456 (100.0%) in 38.70 sec. Users per second: 270\n"
     ]
    },
    {
     "name": "stderr",
     "output_type": "stream",
     "text": [
      "[I 2023-12-05 15:51:41,758] Trial 143 finished with value: 0.052219129139797135 and parameters: {'slim_elastic': 0.8784060628994559, 'item_knn': 0.03770928161093156, 'rp3': 0.03725757307253092, 'p3alpha': 0.3070319053509359, 'ials': 0.0072214579376903495, 'ease_r': 0.0016361881112227628, 'user_knn': 0.003703319464859756, 'svd_item': 0.00016618923793122018, 'scaled_svd': 0.00012797008607571606, 'nmf': 0.0028103005542088697, 'slim_bpr': 0.0004652774162916753}. Best is trial 89 with value: 0.05225166912595235.\n"
     ]
    },
    {
     "name": "stdout",
     "output_type": "stream",
     "text": [
      "Recommender_Base_Class: URM Detected 627 ( 4.8%) users with no interactions.\n",
      "Recommender_Base_Class: URM Detected 247 ( 1.1%) items with no interactions.\n",
      "EvaluatorHoldout: Ignoring 2568 (19.7%) Users that have less than 1 test interactions\n",
      "EvaluatorHoldout: Processed 10456 (100.0%) in 38.35 sec. Users per second: 273\n"
     ]
    },
    {
     "name": "stderr",
     "output_type": "stream",
     "text": [
      "[I 2023-12-05 15:52:20,516] Trial 144 finished with value: 0.05210430177554364 and parameters: {'slim_elastic': 0.9247171732843755, 'item_knn': 0.027226713947588466, 'rp3': 0.038913198828886816, 'p3alpha': 0.27966547388687457, 'ials': 0.00867943707474093, 'ease_r': 0.0018128813594169742, 'user_knn': 0.0036299412563186822, 'svd_item': 0.00017949613799097267, 'scaled_svd': 0.0001358976715048411, 'nmf': 0.0024985117708904224, 'slim_bpr': 0.000801088087267535}. Best is trial 89 with value: 0.05225166912595235.\n"
     ]
    },
    {
     "name": "stdout",
     "output_type": "stream",
     "text": [
      "Recommender_Base_Class: URM Detected 627 ( 4.8%) users with no interactions.\n",
      "Recommender_Base_Class: URM Detected 247 ( 1.1%) items with no interactions.\n",
      "EvaluatorHoldout: Ignoring 2568 (19.7%) Users that have less than 1 test interactions\n",
      "EvaluatorHoldout: Processed 10456 (100.0%) in 37.64 sec. Users per second: 278\n"
     ]
    },
    {
     "name": "stderr",
     "output_type": "stream",
     "text": [
      "[I 2023-12-05 15:52:58,555] Trial 145 finished with value: 0.052162827449266286 and parameters: {'slim_elastic': 0.7264041765173861, 'item_knn': 0.02497461597902274, 'rp3': 0.03791879625112023, 'p3alpha': 0.2475910690025612, 'ials': 0.007157833240878484, 'ease_r': 0.0011477300161416282, 'user_knn': 0.003014936084825779, 'svd_item': 0.00016301016769177493, 'scaled_svd': 0.00015829203875210958, 'nmf': 0.00290028250738371, 'slim_bpr': 0.00041702971340046264}. Best is trial 89 with value: 0.05225166912595235.\n"
     ]
    },
    {
     "name": "stdout",
     "output_type": "stream",
     "text": [
      "Recommender_Base_Class: URM Detected 627 ( 4.8%) users with no interactions.\n",
      "Recommender_Base_Class: URM Detected 247 ( 1.1%) items with no interactions.\n",
      "EvaluatorHoldout: Ignoring 2568 (19.7%) Users that have less than 1 test interactions\n",
      "EvaluatorHoldout: Processed 10456 (100.0%) in 37.13 sec. Users per second: 282\n"
     ]
    },
    {
     "name": "stderr",
     "output_type": "stream",
     "text": [
      "[I 2023-12-05 15:53:36,038] Trial 146 finished with value: 0.05216729059642269 and parameters: {'slim_elastic': 0.6731866829723127, 'item_knn': 0.0372504072800608, 'rp3': 0.021976922019935723, 'p3alpha': 0.38938625491195883, 'ials': 0.009885315601382779, 'ease_r': 0.001379015815957388, 'user_knn': 0.0033407380635271794, 'svd_item': 0.0001156708297040734, 'scaled_svd': 0.00019800325108726302, 'nmf': 0.003390024749111185, 'slim_bpr': 0.001131236049333565}. Best is trial 89 with value: 0.05225166912595235.\n"
     ]
    },
    {
     "name": "stdout",
     "output_type": "stream",
     "text": [
      "Recommender_Base_Class: URM Detected 627 ( 4.8%) users with no interactions.\n",
      "Recommender_Base_Class: URM Detected 247 ( 1.1%) items with no interactions.\n",
      "EvaluatorHoldout: Ignoring 2568 (19.7%) Users that have less than 1 test interactions\n",
      "EvaluatorHoldout: Processed 10456 (100.0%) in 38.64 sec. Users per second: 271\n"
     ]
    },
    {
     "name": "stderr",
     "output_type": "stream",
     "text": [
      "[I 2023-12-05 15:54:15,082] Trial 147 finished with value: 0.052097830971205565 and parameters: {'slim_elastic': 0.9001929951201388, 'item_knn': 0.03212481645509433, 'rp3': 0.027247273918293638, 'p3alpha': 0.35510221081658844, 'ials': 0.007747508958387722, 'ease_r': 0.0017384024777850947, 'user_knn': 0.002599888679888522, 'svd_item': 0.00010141794986573371, 'scaled_svd': 0.0001221023124366955, 'nmf': 0.0024932054992571834, 'slim_bpr': 0.0008385232437070569}. Best is trial 89 with value: 0.05225166912595235.\n"
     ]
    },
    {
     "name": "stdout",
     "output_type": "stream",
     "text": [
      "Recommender_Base_Class: URM Detected 627 ( 4.8%) users with no interactions.\n",
      "Recommender_Base_Class: URM Detected 247 ( 1.1%) items with no interactions.\n",
      "EvaluatorHoldout: Ignoring 2568 (19.7%) Users that have less than 1 test interactions\n",
      "EvaluatorHoldout: Processed 10456 (100.0%) in 38.01 sec. Users per second: 275\n"
     ]
    },
    {
     "name": "stderr",
     "output_type": "stream",
     "text": [
      "[I 2023-12-05 15:54:53,463] Trial 148 finished with value: 0.05218392872323674 and parameters: {'slim_elastic': 0.764060391038259, 'item_knn': 0.027947628951194396, 'rp3': 0.029581204709205645, 'p3alpha': 0.2955919437887515, 'ials': 0.00661396267208614, 'ease_r': 0.0010048963639975445, 'user_knn': 0.003742726221743342, 'svd_item': 0.0002026790561093342, 'scaled_svd': 0.00017127805031696842, 'nmf': 0.0027188147893706387, 'slim_bpr': 0.0005381642568432664}. Best is trial 89 with value: 0.05225166912595235.\n"
     ]
    },
    {
     "name": "stdout",
     "output_type": "stream",
     "text": [
      "Recommender_Base_Class: URM Detected 627 ( 4.8%) users with no interactions.\n",
      "Recommender_Base_Class: URM Detected 247 ( 1.1%) items with no interactions.\n",
      "EvaluatorHoldout: Ignoring 2568 (19.7%) Users that have less than 1 test interactions\n",
      "EvaluatorHoldout: Processed 10456 (100.0%) in 37.91 sec. Users per second: 276\n"
     ]
    },
    {
     "name": "stderr",
     "output_type": "stream",
     "text": [
      "[I 2023-12-05 15:55:31,732] Trial 149 finished with value: 0.05220014558361007 and parameters: {'slim_elastic': 0.9986438022559135, 'item_knn': 0.03547623257163722, 'rp3': 0.03678514330322531, 'p3alpha': 0.46331082910908544, 'ials': 0.008715702430301056, 'ease_r': 0.001541718537501057, 'user_knn': 0.005378045912513365, 'svd_item': 0.00015699458892358553, 'scaled_svd': 0.00014046027740922918, 'nmf': 0.003502147086627837, 'slim_bpr': 0.00031133091470592343}. Best is trial 89 with value: 0.05225166912595235.\n"
     ]
    },
    {
     "name": "stdout",
     "output_type": "stream",
     "text": [
      "Recommender_Base_Class: URM Detected 627 ( 4.8%) users with no interactions.\n",
      "Recommender_Base_Class: URM Detected 247 ( 1.1%) items with no interactions.\n",
      "EvaluatorHoldout: Ignoring 2568 (19.7%) Users that have less than 1 test interactions\n",
      "EvaluatorHoldout: Processed 10456 (100.0%) in 37.17 sec. Users per second: 281\n"
     ]
    },
    {
     "name": "stderr",
     "output_type": "stream",
     "text": [
      "[I 2023-12-05 15:56:09,263] Trial 150 finished with value: 0.05111078472449994 and parameters: {'slim_elastic': 0.15000570338488528, 'item_knn': 0.037652292608031206, 'rp3': 0.04270631711082525, 'p3alpha': 0.31950603668441674, 'ials': 0.006397349727076489, 'ease_r': 0.0012504706547015916, 'user_knn': 0.006175601304499271, 'svd_item': 0.00019605282489216025, 'scaled_svd': 0.00011947557181140112, 'nmf': 0.0018760233576711719, 'slim_bpr': 0.00035530057377691044}. Best is trial 89 with value: 0.05225166912595235.\n"
     ]
    },
    {
     "name": "stdout",
     "output_type": "stream",
     "text": [
      "Recommender_Base_Class: URM Detected 627 ( 4.8%) users with no interactions.\n",
      "Recommender_Base_Class: URM Detected 247 ( 1.1%) items with no interactions.\n",
      "EvaluatorHoldout: Ignoring 2568 (19.7%) Users that have less than 1 test interactions\n",
      "EvaluatorHoldout: Processed 10456 (100.0%) in 37.15 sec. Users per second: 281\n"
     ]
    },
    {
     "name": "stderr",
     "output_type": "stream",
     "text": [
      "[I 2023-12-05 15:56:46,758] Trial 151 finished with value: 0.0522067036773908 and parameters: {'slim_elastic': 0.8543753679502568, 'item_knn': 0.04329379042178967, 'rp3': 0.03158758959480375, 'p3alpha': 0.3041971547333068, 'ials': 0.0075353842224612985, 'ease_r': 0.0015924453078117896, 'user_knn': 0.004264857405430286, 'svd_item': 0.00012990155787270775, 'scaled_svd': 0.00011472914475189189, 'nmf': 0.005086528115378539, 'slim_bpr': 0.0004694830888784475}. Best is trial 89 with value: 0.05225166912595235.\n"
     ]
    },
    {
     "name": "stdout",
     "output_type": "stream",
     "text": [
      "Recommender_Base_Class: URM Detected 627 ( 4.8%) users with no interactions.\n",
      "Recommender_Base_Class: URM Detected 247 ( 1.1%) items with no interactions.\n",
      "EvaluatorHoldout: Ignoring 2568 (19.7%) Users that have less than 1 test interactions\n",
      "EvaluatorHoldout: Processed 10456 (100.0%) in 39.08 sec. Users per second: 268\n"
     ]
    },
    {
     "name": "stderr",
     "output_type": "stream",
     "text": [
      "[I 2023-12-05 15:57:26,216] Trial 152 finished with value: 0.051981170528655835 and parameters: {'slim_elastic': 0.8757226033453333, 'item_knn': 0.04593987184751903, 'rp3': 0.032134551048349225, 'p3alpha': 0.2267029067609761, 'ials': 0.007553017124433603, 'ease_r': 0.0019402329791853535, 'user_knn': 0.007429492357542706, 'svd_item': 0.00012139178162995526, 'scaled_svd': 0.00013229509316911193, 'nmf': 0.0045510093598810555, 'slim_bpr': 0.0004578082394496927}. Best is trial 89 with value: 0.05225166912595235.\n"
     ]
    },
    {
     "name": "stdout",
     "output_type": "stream",
     "text": [
      "Recommender_Base_Class: URM Detected 627 ( 4.8%) users with no interactions.\n",
      "Recommender_Base_Class: URM Detected 247 ( 1.1%) items with no interactions.\n",
      "EvaluatorHoldout: Ignoring 2568 (19.7%) Users that have less than 1 test interactions\n",
      "EvaluatorHoldout: Processed 10456 (100.0%) in 37.88 sec. Users per second: 276\n"
     ]
    },
    {
     "name": "stderr",
     "output_type": "stream",
     "text": [
      "[I 2023-12-05 15:58:04,453] Trial 153 finished with value: 0.05218523047449065 and parameters: {'slim_elastic': 0.7759493767847098, 'item_knn': 0.032294700780398214, 'rp3': 0.03641187237993951, 'p3alpha': 0.36790684065950163, 'ials': 0.006887827983202975, 'ease_r': 0.0015834511396740389, 'user_knn': 0.004008588113566922, 'svd_item': 0.0001661509216728986, 'scaled_svd': 0.00019967923434782229, 'nmf': 0.005588543189853612, 'slim_bpr': 0.0006886562749558556}. Best is trial 89 with value: 0.05225166912595235.\n"
     ]
    },
    {
     "name": "stdout",
     "output_type": "stream",
     "text": [
      "Recommender_Base_Class: URM Detected 627 ( 4.8%) users with no interactions.\n",
      "Recommender_Base_Class: URM Detected 247 ( 1.1%) items with no interactions.\n",
      "EvaluatorHoldout: Ignoring 2568 (19.7%) Users that have less than 1 test interactions\n",
      "EvaluatorHoldout: Processed 10456 (100.0%) in 38.22 sec. Users per second: 274\n"
     ]
    },
    {
     "name": "stderr",
     "output_type": "stream",
     "text": [
      "[I 2023-12-05 15:58:43,065] Trial 154 finished with value: 0.052119585018399577 and parameters: {'slim_elastic': 0.9168143186542487, 'item_knn': 0.043110317708186206, 'rp3': 0.02717757425317192, 'p3alpha': 0.27562348760614935, 'ials': 0.009522158460556224, 'ease_r': 0.0011484996458978266, 'user_knn': 0.004726983203566182, 'svd_item': 0.00024157244266939244, 'scaled_svd': 0.0001618978096955519, 'nmf': 0.00473906332410229, 'slim_bpr': 0.0006267177466533973}. Best is trial 89 with value: 0.05225166912595235.\n"
     ]
    },
    {
     "name": "stdout",
     "output_type": "stream",
     "text": [
      "Recommender_Base_Class: URM Detected 627 ( 4.8%) users with no interactions.\n",
      "Recommender_Base_Class: URM Detected 247 ( 1.1%) items with no interactions.\n",
      "EvaluatorHoldout: Ignoring 2568 (19.7%) Users that have less than 1 test interactions\n",
      "EvaluatorHoldout: Processed 10456 (100.0%) in 37.92 sec. Users per second: 276\n"
     ]
    },
    {
     "name": "stderr",
     "output_type": "stream",
     "text": [
      "[I 2023-12-05 15:59:21,375] Trial 155 finished with value: 0.05222997580184885 and parameters: {'slim_elastic': 0.8091047501265409, 'item_knn': 0.05070313147842521, 'rp3': 0.04082660059293328, 'p3alpha': 0.3376765127351218, 'ials': 0.008574619132735505, 'ease_r': 0.0016898823616673592, 'user_knn': 0.0034063403696312335, 'svd_item': 0.00011595370930479271, 'scaled_svd': 0.0001161362027361026, 'nmf': 0.0031240226268401954, 'slim_bpr': 0.0008593611758979117}. Best is trial 89 with value: 0.05225166912595235.\n"
     ]
    },
    {
     "name": "stdout",
     "output_type": "stream",
     "text": [
      "Recommender_Base_Class: URM Detected 627 ( 4.8%) users with no interactions.\n",
      "Recommender_Base_Class: URM Detected 247 ( 1.1%) items with no interactions.\n",
      "EvaluatorHoldout: Ignoring 2568 (19.7%) Users that have less than 1 test interactions\n",
      "EvaluatorHoldout: Processed 10456 (100.0%) in 37.66 sec. Users per second: 278\n"
     ]
    },
    {
     "name": "stderr",
     "output_type": "stream",
     "text": [
      "[I 2023-12-05 15:59:59,488] Trial 156 finished with value: 0.05079315741854054 and parameters: {'slim_elastic': 0.07620727282447604, 'item_knn': 0.051847994623617236, 'rp3': 0.04227926703994138, 'p3alpha': 0.4114672703166397, 'ials': 0.008190978277540225, 'ease_r': 0.002082917733037075, 'user_knn': 0.0029089087498234477, 'svd_item': 0.00011679553568747724, 'scaled_svd': 0.00015261472874277551, 'nmf': 0.0031983423039668077, 'slim_bpr': 0.0010570791839483202}. Best is trial 89 with value: 0.05225166912595235.\n"
     ]
    },
    {
     "name": "stdout",
     "output_type": "stream",
     "text": [
      "Recommender_Base_Class: URM Detected 627 ( 4.8%) users with no interactions.\n",
      "Recommender_Base_Class: URM Detected 247 ( 1.1%) items with no interactions.\n",
      "EvaluatorHoldout: Ignoring 2568 (19.7%) Users that have less than 1 test interactions\n",
      "EvaluatorHoldout: Processed 10456 (100.0%) in 39.05 sec. Users per second: 268\n"
     ]
    },
    {
     "name": "stderr",
     "output_type": "stream",
     "text": [
      "[I 2023-12-05 16:00:38,959] Trial 157 finished with value: 0.052041749401878064 and parameters: {'slim_elastic': 0.6664324876030625, 'item_knn': 0.051818512347144234, 'rp3': 0.034389946263396046, 'p3alpha': 0.5158926769169319, 'ials': 0.010439915489675997, 'ease_r': 0.0017711340231400478, 'user_knn': 0.0022331773617346807, 'svd_item': 0.00013681148619094612, 'scaled_svd': 0.00011062987676693644, 'nmf': 0.007663316216930967, 'slim_bpr': 0.0008962671682338046}. Best is trial 89 with value: 0.05225166912595235.\n"
     ]
    },
    {
     "name": "stdout",
     "output_type": "stream",
     "text": [
      "Recommender_Base_Class: URM Detected 627 ( 4.8%) users with no interactions.\n",
      "Recommender_Base_Class: URM Detected 247 ( 1.1%) items with no interactions.\n",
      "EvaluatorHoldout: Ignoring 2568 (19.7%) Users that have less than 1 test interactions\n",
      "EvaluatorHoldout: Processed 10456 (100.0%) in 38.22 sec. Users per second: 274\n"
     ]
    },
    {
     "name": "stderr",
     "output_type": "stream",
     "text": [
      "[I 2023-12-05 16:01:17,564] Trial 158 finished with value: 0.052187632831761095 and parameters: {'slim_elastic': 0.7259725358894363, 'item_knn': 0.028981479418987186, 'rp3': 0.044247946119411366, 'p3alpha': 0.4568654373987141, 'ials': 0.006112738840032054, 'ease_r': 0.0013042007880653332, 'user_knn': 0.00532041307915012, 'svd_item': 0.00011391623698328866, 'scaled_svd': 0.00018744052084376933, 'nmf': 0.00364571012481232, 'slim_bpr': 0.00027282654842115104}. Best is trial 89 with value: 0.05225166912595235.\n"
     ]
    },
    {
     "name": "stdout",
     "output_type": "stream",
     "text": [
      "Recommender_Base_Class: URM Detected 627 ( 4.8%) users with no interactions.\n",
      "Recommender_Base_Class: URM Detected 247 ( 1.1%) items with no interactions.\n",
      "EvaluatorHoldout: Ignoring 2568 (19.7%) Users that have less than 1 test interactions\n",
      "EvaluatorHoldout: Processed 10456 (100.0%) in 37.43 sec. Users per second: 279\n"
     ]
    },
    {
     "name": "stderr",
     "output_type": "stream",
     "text": [
      "[I 2023-12-05 16:01:55,339] Trial 159 finished with value: 0.052091303238970245 and parameters: {'slim_elastic': 0.5727027739551833, 'item_knn': 0.046402309572516204, 'rp3': 0.029174506616455344, 'p3alpha': 0.39434391044881983, 'ials': 0.008914688989868242, 'ease_r': 0.0028198152426982645, 'user_knn': 0.009077651460304021, 'svd_item': 0.000102022541501343, 'scaled_svd': 0.0001132018023358212, 'nmf': 0.0029084138212483717, 'slim_bpr': 0.0013712499192587986}. Best is trial 89 with value: 0.05225166912595235.\n"
     ]
    },
    {
     "name": "stdout",
     "output_type": "stream",
     "text": [
      "Recommender_Base_Class: URM Detected 627 ( 4.8%) users with no interactions.\n",
      "Recommender_Base_Class: URM Detected 247 ( 1.1%) items with no interactions.\n",
      "EvaluatorHoldout: Ignoring 2568 (19.7%) Users that have less than 1 test interactions\n",
      "EvaluatorHoldout: Processed 10456 (100.0%) in 37.50 sec. Users per second: 279\n"
     ]
    },
    {
     "name": "stderr",
     "output_type": "stream",
     "text": [
      "[I 2023-12-05 16:02:33,219] Trial 160 finished with value: 0.05211734205924192 and parameters: {'slim_elastic': 0.7956743711922634, 'item_knn': 0.02500440283511661, 'rp3': 0.03265612839753367, 'p3alpha': 0.29309639152039807, 'ials': 0.012325349290763787, 'ease_r': 0.00164180817738247, 'user_knn': 0.0042059553217728175, 'svd_item': 0.00013633931265162377, 'scaled_svd': 0.00014816520318877322, 'nmf': 0.005446891560289744, 'slim_bpr': 0.00041238010897931115}. Best is trial 89 with value: 0.05225166912595235.\n"
     ]
    },
    {
     "name": "stdout",
     "output_type": "stream",
     "text": [
      "Recommender_Base_Class: URM Detected 627 ( 4.8%) users with no interactions.\n",
      "Recommender_Base_Class: URM Detected 247 ( 1.1%) items with no interactions.\n",
      "EvaluatorHoldout: Ignoring 2568 (19.7%) Users that have less than 1 test interactions\n",
      "EvaluatorHoldout: Processed 10456 (100.0%) in 37.02 sec. Users per second: 282\n"
     ]
    },
    {
     "name": "stderr",
     "output_type": "stream",
     "text": [
      "[I 2023-12-05 16:03:10,643] Trial 161 finished with value: 0.05221070381098157 and parameters: {'slim_elastic': 0.852746692461168, 'item_knn': 0.038912952437851867, 'rp3': 0.03895027803984506, 'p3alpha': 0.3530509054193439, 'ials': 0.007574816063064038, 'ease_r': 0.001407984037726508, 'user_knn': 0.003504697189810844, 'svd_item': 0.00017086986649404704, 'scaled_svd': 0.00013009974073719028, 'nmf': 0.0025107386341136615, 'slim_bpr': 0.0005864664372503553}. Best is trial 89 with value: 0.05225166912595235.\n"
     ]
    },
    {
     "name": "stdout",
     "output_type": "stream",
     "text": [
      "Recommender_Base_Class: URM Detected 627 ( 4.8%) users with no interactions.\n",
      "Recommender_Base_Class: URM Detected 247 ( 1.1%) items with no interactions.\n",
      "EvaluatorHoldout: Ignoring 2568 (19.7%) Users that have less than 1 test interactions\n",
      "EvaluatorHoldout: Processed 10456 (100.0%) in 36.65 sec. Users per second: 285\n"
     ]
    },
    {
     "name": "stderr",
     "output_type": "stream",
     "text": [
      "[I 2023-12-05 16:03:47,635] Trial 162 finished with value: 0.052172452059120404 and parameters: {'slim_elastic': 0.9997467236768461, 'item_knn': 0.03891504104532365, 'rp3': 0.04035113242872756, 'p3alpha': 0.36508992041298993, 'ials': 0.007829709955336382, 'ease_r': 0.0013866356104871053, 'user_knn': 0.0033223166333824854, 'svd_item': 0.0001903712744664455, 'scaled_svd': 0.0001281865381840983, 'nmf': 0.0020896987877951027, 'slim_bpr': 0.000839082351787359}. Best is trial 89 with value: 0.05225166912595235.\n"
     ]
    },
    {
     "name": "stdout",
     "output_type": "stream",
     "text": [
      "Recommender_Base_Class: URM Detected 627 ( 4.8%) users with no interactions.\n",
      "Recommender_Base_Class: URM Detected 247 ( 1.1%) items with no interactions.\n",
      "EvaluatorHoldout: Ignoring 2568 (19.7%) Users that have less than 1 test interactions\n",
      "EvaluatorHoldout: Processed 10456 (100.0%) in 37.28 sec. Users per second: 280\n"
     ]
    },
    {
     "name": "stderr",
     "output_type": "stream",
     "text": [
      "[I 2023-12-05 16:04:25,298] Trial 163 finished with value: 0.05215791267412387 and parameters: {'slim_elastic': 0.8276176167987679, 'item_knn': 0.04665471061351368, 'rp3': 0.03943626548444486, 'p3alpha': 0.34038121810068706, 'ials': 0.0066078384061673025, 'ease_r': 0.001122493713863391, 'user_knn': 0.0024958731090233602, 'svd_item': 0.003397605042264828, 'scaled_svd': 0.00016620088475842156, 'nmf': 0.003711114792376929, 'slim_bpr': 0.0006808690164052916}. Best is trial 89 with value: 0.05225166912595235.\n"
     ]
    },
    {
     "name": "stdout",
     "output_type": "stream",
     "text": [
      "Recommender_Base_Class: URM Detected 627 ( 4.8%) users with no interactions.\n",
      "Recommender_Base_Class: URM Detected 247 ( 1.1%) items with no interactions.\n",
      "EvaluatorHoldout: Ignoring 2568 (19.7%) Users that have less than 1 test interactions\n",
      "EvaluatorHoldout: Processed 10456 (100.0%) in 37.82 sec. Users per second: 276\n"
     ]
    },
    {
     "name": "stderr",
     "output_type": "stream",
     "text": [
      "[I 2023-12-05 16:05:03,477] Trial 164 finished with value: 0.05205412552677341 and parameters: {'slim_elastic': 0.7289690764181513, 'item_knn': 0.05593945987433353, 'rp3': 0.04593602912214844, 'p3alpha': 0.2464320431800801, 'ials': 0.008314831082401776, 'ease_r': 0.002172299513425099, 'user_knn': 0.006385361094292992, 'svd_item': 0.00023240594713365252, 'scaled_svd': 0.00010004089330252062, 'nmf': 0.0027215039665062202, 'slim_bpr': 0.00022397936303961597}. Best is trial 89 with value: 0.05225166912595235.\n"
     ]
    },
    {
     "name": "stdout",
     "output_type": "stream",
     "text": [
      "Recommender_Base_Class: URM Detected 627 ( 4.8%) users with no interactions.\n",
      "Recommender_Base_Class: URM Detected 247 ( 1.1%) items with no interactions.\n",
      "EvaluatorHoldout: Ignoring 2568 (19.7%) Users that have less than 1 test interactions\n",
      "EvaluatorHoldout: Processed 10456 (100.0%) in 37.13 sec. Users per second: 282\n"
     ]
    },
    {
     "name": "stderr",
     "output_type": "stream",
     "text": [
      "[I 2023-12-05 16:05:41,001] Trial 165 finished with value: 0.05217398152196395 and parameters: {'slim_elastic': 0.8973175312979101, 'item_knn': 0.042686769717716094, 'rp3': 0.030594109241917102, 'p3alpha': 0.4224745791039167, 'ials': 0.005983661657317236, 'ease_r': 0.0018218233319237922, 'user_knn': 0.004431088171612706, 'svd_item': 0.00014979513456537348, 'scaled_svd': 0.00021348489193069722, 'nmf': 0.004520128129875317, 'slim_bpr': 0.00039324918890692485}. Best is trial 89 with value: 0.05225166912595235.\n"
     ]
    },
    {
     "name": "stdout",
     "output_type": "stream",
     "text": [
      "Recommender_Base_Class: URM Detected 627 ( 4.8%) users with no interactions.\n",
      "Recommender_Base_Class: URM Detected 247 ( 1.1%) items with no interactions.\n",
      "EvaluatorHoldout: Ignoring 2568 (19.7%) Users that have less than 1 test interactions\n",
      "EvaluatorHoldout: Processed 10456 (100.0%) in 37.89 sec. Users per second: 276\n"
     ]
    },
    {
     "name": "stderr",
     "output_type": "stream",
     "text": [
      "[I 2023-12-05 16:06:19,267] Trial 166 finished with value: 0.052146102033009546 and parameters: {'slim_elastic': 0.7957601073730287, 'item_knn': 0.03322723303183123, 'rp3': 0.03445063322767558, 'p3alpha': 0.3126810232640541, 'ials': 0.00722858306746944, 'ease_r': 0.0012656601372930665, 'user_knn': 0.005359840962730571, 'svd_item': 0.00012353583539787848, 'scaled_svd': 0.00012353742535925545, 'nmf': 0.0033201210565604886, 'slim_bpr': 0.0005786221415320071}. Best is trial 89 with value: 0.05225166912595235.\n"
     ]
    },
    {
     "name": "stdout",
     "output_type": "stream",
     "text": [
      "Recommender_Base_Class: URM Detected 627 ( 4.8%) users with no interactions.\n",
      "Recommender_Base_Class: URM Detected 247 ( 1.1%) items with no interactions.\n",
      "EvaluatorHoldout: Ignoring 2568 (19.7%) Users that have less than 1 test interactions\n",
      "EvaluatorHoldout: Processed 10456 (100.0%) in 37.16 sec. Users per second: 281\n"
     ]
    },
    {
     "name": "stderr",
     "output_type": "stream",
     "text": [
      "[I 2023-12-05 16:06:56,784] Trial 167 finished with value: 0.052219265766750844 and parameters: {'slim_elastic': 0.9168324337440952, 'item_knn': 0.049999593296659435, 'rp3': 0.025664536377176327, 'p3alpha': 0.37610861460622036, 'ials': 0.009457925888282257, 'ease_r': 0.0016172426997008056, 'user_knn': 0.0029240926140200216, 'svd_item': 0.00010044749781959445, 'scaled_svd': 0.00014606444084637205, 'nmf': 0.0022840239884257397, 'slim_bpr': 0.0009610416376831419}. Best is trial 89 with value: 0.05225166912595235.\n"
     ]
    },
    {
     "name": "stdout",
     "output_type": "stream",
     "text": [
      "Recommender_Base_Class: URM Detected 627 ( 4.8%) users with no interactions.\n",
      "Recommender_Base_Class: URM Detected 247 ( 1.1%) items with no interactions.\n",
      "EvaluatorHoldout: Ignoring 2568 (19.7%) Users that have less than 1 test interactions\n",
      "EvaluatorHoldout: Processed 10456 (100.0%) in 37.80 sec. Users per second: 277\n"
     ]
    },
    {
     "name": "stderr",
     "output_type": "stream",
     "text": [
      "[I 2023-12-05 16:07:34,935] Trial 168 finished with value: 0.052168531624585984 and parameters: {'slim_elastic': 0.9321039858057499, 'item_knn': 0.04969610001256556, 'rp3': 0.02466957679045211, 'p3alpha': 0.5377220240756299, 'ials': 0.00978781931753993, 'ease_r': 0.0010078464178918717, 'user_knn': 0.002781004277714709, 'svd_item': 0.00010092471360671586, 'scaled_svd': 0.00018275448884331054, 'nmf': 0.0016662266772012474, 'slim_bpr': 0.0010121096613577294}. Best is trial 89 with value: 0.05225166912595235.\n"
     ]
    },
    {
     "name": "stdout",
     "output_type": "stream",
     "text": [
      "Recommender_Base_Class: URM Detected 627 ( 4.8%) users with no interactions.\n",
      "Recommender_Base_Class: URM Detected 247 ( 1.1%) items with no interactions.\n",
      "EvaluatorHoldout: Ignoring 2568 (19.7%) Users that have less than 1 test interactions\n",
      "EvaluatorHoldout: Processed 10456 (100.0%) in 37.66 sec. Users per second: 278\n"
     ]
    },
    {
     "name": "stderr",
     "output_type": "stream",
     "text": [
      "[I 2023-12-05 16:08:12,926] Trial 169 finished with value: 0.05159497167267892 and parameters: {'slim_elastic': 0.2429225266159543, 'item_knn': 0.054735812879244304, 'rp3': 0.02312150458990971, 'p3alpha': 0.47116844733533536, 'ials': 0.011282955636838683, 'ease_r': 0.0022706800028016454, 'user_knn': 0.003116926019362292, 'svd_item': 0.0017491507823085184, 'scaled_svd': 0.00014341894072748831, 'nmf': 0.002485243474613152, 'slim_bpr': 0.0012805943914398644}. Best is trial 89 with value: 0.05225166912595235.\n"
     ]
    },
    {
     "name": "stdout",
     "output_type": "stream",
     "text": [
      "Recommender_Base_Class: URM Detected 627 ( 4.8%) users with no interactions.\n",
      "Recommender_Base_Class: URM Detected 247 ( 1.1%) items with no interactions.\n",
      "EvaluatorHoldout: Ignoring 2568 (19.7%) Users that have less than 1 test interactions\n",
      "EvaluatorHoldout: Processed 10456 (100.0%) in 36.81 sec. Users per second: 284\n"
     ]
    },
    {
     "name": "stderr",
     "output_type": "stream",
     "text": [
      "[I 2023-12-05 16:08:50,103] Trial 170 finished with value: 0.05109737630706519 and parameters: {'slim_elastic': 0.6349853978872873, 'item_knn': 0.0653793798687813, 'rp3': 0.026535957065351858, 'p3alpha': 0.38056106642950654, 'ials': 0.008993108739256368, 'ease_r': 0.0014239551556210698, 'user_knn': 0.025789987029078146, 'svd_item': 0.00017378107628656503, 'scaled_svd': 0.00015951948019516228, 'nmf': 0.0021148379950146397, 'slim_bpr': 0.0008149758675089548}. Best is trial 89 with value: 0.05225166912595235.\n"
     ]
    },
    {
     "name": "stdout",
     "output_type": "stream",
     "text": [
      "Recommender_Base_Class: URM Detected 627 ( 4.8%) users with no interactions.\n",
      "Recommender_Base_Class: URM Detected 247 ( 1.1%) items with no interactions.\n",
      "EvaluatorHoldout: Ignoring 2568 (19.7%) Users that have less than 1 test interactions\n",
      "EvaluatorHoldout: Processed 10456 (100.0%) in 36.63 sec. Users per second: 285\n"
     ]
    },
    {
     "name": "stderr",
     "output_type": "stream",
     "text": [
      "[I 2023-12-05 16:09:27,098] Trial 171 finished with value: 0.05220810789886002 and parameters: {'slim_elastic': 0.8470868981299107, 'item_knn': 0.04379368711118215, 'rp3': 0.02111741645825195, 'p3alpha': 0.3444328557893107, 'ials': 0.007528272600800886, 'ease_r': 0.0016326370692627543, 'user_knn': 0.0034112701554520966, 'svd_item': 0.00012711899481645037, 'scaled_svd': 0.00011242099128456589, 'nmf': 0.0030513454364956187, 'slim_bpr': 0.0004830346426411562}. Best is trial 89 with value: 0.05225166912595235.\n"
     ]
    },
    {
     "name": "stdout",
     "output_type": "stream",
     "text": [
      "Recommender_Base_Class: URM Detected 627 ( 4.8%) users with no interactions.\n",
      "Recommender_Base_Class: URM Detected 247 ( 1.1%) items with no interactions.\n",
      "EvaluatorHoldout: Ignoring 2568 (19.7%) Users that have less than 1 test interactions\n",
      "EvaluatorHoldout: Processed 10456 (100.0%) in 38.97 sec. Users per second: 268\n"
     ]
    },
    {
     "name": "stderr",
     "output_type": "stream",
     "text": [
      "[I 2023-12-05 16:10:06,435] Trial 172 finished with value: 0.05219058169684647 and parameters: {'slim_elastic': 0.9993133239907033, 'item_knn': 0.048722666919981505, 'rp3': 0.020752078273386456, 'p3alpha': 0.3452146801247452, 'ials': 0.00656286847834211, 'ease_r': 0.001933095753302376, 'user_knn': 0.003691824359976617, 'svd_item': 0.00011474840078844888, 'scaled_svd': 0.00014140514139720654, 'nmf': 0.0030829823505414394, 'slim_bpr': 0.0006539726716216592}. Best is trial 89 with value: 0.05225166912595235.\n"
     ]
    },
    {
     "name": "stdout",
     "output_type": "stream",
     "text": [
      "Recommender_Base_Class: URM Detected 627 ( 4.8%) users with no interactions.\n",
      "Recommender_Base_Class: URM Detected 247 ( 1.1%) items with no interactions.\n",
      "EvaluatorHoldout: Ignoring 2568 (19.7%) Users that have less than 1 test interactions\n",
      "EvaluatorHoldout: Processed 10456 (100.0%) in 37.38 sec. Users per second: 280\n"
     ]
    },
    {
     "name": "stderr",
     "output_type": "stream",
     "text": [
      "[I 2023-12-05 16:10:44,231] Trial 173 finished with value: 0.05220218739753017 and parameters: {'slim_elastic': 0.8049624140151915, 'item_knn': 0.03907281600569428, 'rp3': 0.017413154544489422, 'p3alpha': 0.4177648506961451, 'ials': 0.007983036012941654, 'ease_r': 0.0015872581398817098, 'user_knn': 0.0031963587244119808, 'svd_item': 0.00015035422721122068, 'scaled_svd': 0.00011420547593346302, 'nmf': 0.002357156593168792, 'slim_bpr': 0.0009373825329828299}. Best is trial 89 with value: 0.05225166912595235.\n"
     ]
    },
    {
     "name": "stdout",
     "output_type": "stream",
     "text": [
      "Recommender_Base_Class: URM Detected 627 ( 4.8%) users with no interactions.\n",
      "Recommender_Base_Class: URM Detected 247 ( 1.1%) items with no interactions.\n",
      "EvaluatorHoldout: Ignoring 2568 (19.7%) Users that have less than 1 test interactions\n",
      "EvaluatorHoldout: Processed 10456 (100.0%) in 36.13 sec. Users per second: 289\n"
     ]
    },
    {
     "name": "stderr",
     "output_type": "stream",
     "text": [
      "[I 2023-12-05 16:11:20,702] Trial 174 finished with value: 0.05211728133615137 and parameters: {'slim_elastic': 0.71632754899136, 'item_knn': 0.030484655732452435, 'rp3': 0.037878080266703675, 'p3alpha': 0.4454520948536776, 'ials': 0.0050279649174952935, 'ease_r': 0.001281753129901643, 'user_knn': 0.002484551749765104, 'svd_item': 0.00019231895187890642, 'scaled_svd': 0.00010035768629245787, 'nmf': 0.002763786583754891, 'slim_bpr': 0.0015199155066385796}. Best is trial 89 with value: 0.05225166912595235.\n"
     ]
    },
    {
     "name": "stdout",
     "output_type": "stream",
     "text": [
      "Recommender_Base_Class: URM Detected 627 ( 4.8%) users with no interactions.\n",
      "Recommender_Base_Class: URM Detected 247 ( 1.1%) items with no interactions.\n",
      "EvaluatorHoldout: Ignoring 2568 (19.7%) Users that have less than 1 test interactions\n",
      "EvaluatorHoldout: Processed 10456 (100.0%) in 35.96 sec. Users per second: 291\n"
     ]
    },
    {
     "name": "stderr",
     "output_type": "stream",
     "text": [
      "[I 2023-12-05 16:11:57,039] Trial 175 finished with value: 0.05213501627378874 and parameters: {'slim_elastic': 0.9163992797344362, 'item_knn': 0.03390779874969162, 'rp3': 0.04491518253260226, 'p3alpha': 0.2695450181986125, 'ials': 0.005832813217802704, 'ease_r': 0.0017705856261822622, 'user_knn': 0.004666598388636496, 'svd_item': 0.0001310238000664147, 'scaled_svd': 0.00013556422537298725, 'nmf': 0.00390683241752035, 'slim_bpr': 0.00031533614759767084}. Best is trial 89 with value: 0.05225166912595235.\n"
     ]
    },
    {
     "name": "stdout",
     "output_type": "stream",
     "text": [
      "Recommender_Base_Class: URM Detected 627 ( 4.8%) users with no interactions.\n",
      "Recommender_Base_Class: URM Detected 247 ( 1.1%) items with no interactions.\n",
      "EvaluatorHoldout: Ignoring 2568 (19.7%) Users that have less than 1 test interactions\n",
      "EvaluatorHoldout: Processed 10456 (100.0%) in 36.86 sec. Users per second: 284\n"
     ]
    },
    {
     "name": "stderr",
     "output_type": "stream",
     "text": [
      "[I 2023-12-05 16:12:34,260] Trial 176 finished with value: 0.05222943688442014 and parameters: {'slim_elastic': 0.7759277614436126, 'item_knn': 0.05229035487172516, 'rp3': 0.0361477891246449, 'p3alpha': 0.37724381318166106, 'ials': 0.006902347512028123, 'ease_r': 0.002486150280479519, 'user_knn': 0.003688953758239516, 'svd_item': 0.00010119399359065718, 'scaled_svd': 0.0002155232379377698, 'nmf': 0.0018457227069494282, 'slim_bpr': 0.0011515961493685125}. Best is trial 89 with value: 0.05225166912595235.\n"
     ]
    },
    {
     "name": "stdout",
     "output_type": "stream",
     "text": [
      "Recommender_Base_Class: URM Detected 627 ( 4.8%) users with no interactions.\n",
      "Recommender_Base_Class: URM Detected 247 ( 1.1%) items with no interactions.\n",
      "EvaluatorHoldout: Ignoring 2568 (19.7%) Users that have less than 1 test interactions\n",
      "EvaluatorHoldout: Processed 10456 (100.0%) in 37.31 sec. Users per second: 280\n"
     ]
    },
    {
     "name": "stderr",
     "output_type": "stream",
     "text": [
      "[I 2023-12-05 16:13:11,926] Trial 177 finished with value: 0.05220296161693488 and parameters: {'slim_elastic': 0.6570287888164555, 'item_knn': 0.056800273937389754, 'rp3': 0.04031679287829724, 'p3alpha': 0.3856435375088698, 'ials': 0.006924514413009434, 'ease_r': 0.0029594525129303943, 'user_knn': 0.003711492310353138, 'svd_item': 0.0002757832692672881, 'scaled_svd': 0.00020457646436939844, 'nmf': 0.0018707257729063563, 'slim_bpr': 0.0020136903335585734}. Best is trial 89 with value: 0.05225166912595235.\n"
     ]
    },
    {
     "name": "stdout",
     "output_type": "stream",
     "text": [
      "Recommender_Base_Class: URM Detected 627 ( 4.8%) users with no interactions.\n",
      "Recommender_Base_Class: URM Detected 247 ( 1.1%) items with no interactions.\n",
      "EvaluatorHoldout: Ignoring 2568 (19.7%) Users that have less than 1 test interactions\n",
      "EvaluatorHoldout: Processed 10456 (100.0%) in 36.54 sec. Users per second: 286\n"
     ]
    },
    {
     "name": "stderr",
     "output_type": "stream",
     "text": [
      "[I 2023-12-05 16:13:48,828] Trial 178 finished with value: 0.05212348647696828 and parameters: {'slim_elastic': 0.778974656482867, 'item_knn': 0.044449254072059116, 'rp3': 0.03539437346602532, 'p3alpha': 0.4942402289024986, 'ials': 0.009446949785157725, 'ease_r': 0.0024796809194783708, 'user_knn': 0.002684106626208838, 'svd_item': 0.00010044358232868729, 'scaled_svd': 0.0002265547781275988, 'nmf': 0.0014969678350615515, 'slim_bpr': 0.001092525948175815}. Best is trial 89 with value: 0.05225166912595235.\n"
     ]
    },
    {
     "name": "stdout",
     "output_type": "stream",
     "text": [
      "Recommender_Base_Class: URM Detected 627 ( 4.8%) users with no interactions.\n",
      "Recommender_Base_Class: URM Detected 247 ( 1.1%) items with no interactions.\n",
      "EvaluatorHoldout: Ignoring 2568 (19.7%) Users that have less than 1 test interactions\n",
      "EvaluatorHoldout: Processed 10456 (100.0%) in 38.20 sec. Users per second: 274\n"
     ]
    },
    {
     "name": "stderr",
     "output_type": "stream",
     "text": [
      "[I 2023-12-05 16:14:27,389] Trial 179 finished with value: 0.05183290371746817 and parameters: {'slim_elastic': 0.5154401229435293, 'item_knn': 0.036978875198125906, 'rp3': 0.04507817890528156, 'p3alpha': 0.5713584547988554, 'ials': 0.010482674923546757, 'ease_r': 0.002651296277175481, 'user_knn': 0.0020155852812454747, 'svd_item': 0.00015927262529523732, 'scaled_svd': 0.00012437133500642353, 'nmf': 0.0017490294871309057, 'slim_bpr': 0.0005051895020309549}. Best is trial 89 with value: 0.05225166912595235.\n"
     ]
    },
    {
     "name": "stdout",
     "output_type": "stream",
     "text": [
      "Recommender_Base_Class: URM Detected 627 ( 4.8%) users with no interactions.\n",
      "Recommender_Base_Class: URM Detected 247 ( 1.1%) items with no interactions.\n",
      "EvaluatorHoldout: Ignoring 2568 (19.7%) Users that have less than 1 test interactions\n",
      "EvaluatorHoldout: Processed 10456 (100.0%) in 37.62 sec. Users per second: 278\n"
     ]
    },
    {
     "name": "stderr",
     "output_type": "stream",
     "text": [
      "[I 2023-12-05 16:15:05,390] Trial 180 finished with value: 0.052239228482773306 and parameters: {'slim_elastic': 0.7115379073673279, 'item_knn': 0.053034219765134116, 'rp3': 0.03664498877962248, 'p3alpha': 0.41313699668045617, 'ials': 0.005847274538077709, 'ease_r': 0.002099678528122292, 'user_knn': 0.0032482582803926865, 'svd_item': 0.00021387715568854649, 'scaled_svd': 0.003100523119154715, 'nmf': 0.002270152257601629, 'slim_bpr': 0.0003686528012126562}. Best is trial 89 with value: 0.05225166912595235.\n"
     ]
    },
    {
     "name": "stdout",
     "output_type": "stream",
     "text": [
      "Recommender_Base_Class: URM Detected 627 ( 4.8%) users with no interactions.\n",
      "Recommender_Base_Class: URM Detected 247 ( 1.1%) items with no interactions.\n",
      "EvaluatorHoldout: Ignoring 2568 (19.7%) Users that have less than 1 test interactions\n",
      "EvaluatorHoldout: Processed 10456 (100.0%) in 42.38 sec. Users per second: 247\n"
     ]
    },
    {
     "name": "stderr",
     "output_type": "stream",
     "text": [
      "[I 2023-12-05 16:15:48,130] Trial 181 finished with value: 0.05222598325864435 and parameters: {'slim_elastic': 0.7164681318818313, 'item_knn': 0.05183756575581744, 'rp3': 0.03690762655708961, 'p3alpha': 0.41675966113575413, 'ials': 0.006178738839514375, 'ease_r': 0.0021424814998262454, 'user_knn': 0.0034266161279016953, 'svd_item': 0.0002087226601315476, 'scaled_svd': 0.00017659663192574348, 'nmf': 0.0021863219626163193, 'slim_bpr': 0.00041927812681261323}. Best is trial 89 with value: 0.05225166912595235.\n"
     ]
    },
    {
     "name": "stdout",
     "output_type": "stream",
     "text": [
      "Recommender_Base_Class: URM Detected 627 ( 4.8%) users with no interactions.\n",
      "Recommender_Base_Class: URM Detected 247 ( 1.1%) items with no interactions.\n",
      "EvaluatorHoldout: Ignoring 2568 (19.7%) Users that have less than 1 test interactions\n",
      "EvaluatorHoldout: Processed 10456 (100.0%) in 41.40 sec. Users per second: 253\n"
     ]
    },
    {
     "name": "stderr",
     "output_type": "stream",
     "text": [
      "[I 2023-12-05 16:16:29,900] Trial 182 finished with value: 0.05216274395501677 and parameters: {'slim_elastic': 0.7007468023303909, 'item_knn': 0.062445841252611385, 'rp3': 0.04036476857586103, 'p3alpha': 0.43010443321265274, 'ials': 0.006104656355899172, 'ease_r': 0.0020200213367386533, 'user_knn': 0.003062326242701077, 'svd_item': 0.00023658491975618552, 'scaled_svd': 0.001136861893184192, 'nmf': 0.002268360664098258, 'slim_bpr': 0.0003654274061961223}. Best is trial 89 with value: 0.05225166912595235.\n"
     ]
    },
    {
     "name": "stdout",
     "output_type": "stream",
     "text": [
      "Recommender_Base_Class: URM Detected 627 ( 4.8%) users with no interactions.\n",
      "Recommender_Base_Class: URM Detected 247 ( 1.1%) items with no interactions.\n",
      "EvaluatorHoldout: Ignoring 2568 (19.7%) Users that have less than 1 test interactions\n",
      "EvaluatorHoldout: Processed 10456 (100.0%) in 38.99 sec. Users per second: 268\n"
     ]
    },
    {
     "name": "stderr",
     "output_type": "stream",
     "text": [
      "[I 2023-12-05 16:17:09,269] Trial 183 finished with value: 0.052023023918825705 and parameters: {'slim_elastic': 0.6275457135497993, 'item_knn': 0.05230087692019896, 'rp3': 0.037101499110394585, 'p3alpha': 0.47303615515398173, 'ials': 0.005558690045568961, 'ease_r': 0.0017188363343613783, 'user_knn': 0.0034374633751582443, 'svd_item': 0.00019108545659868607, 'scaled_svd': 0.007327800083919079, 'nmf': 0.0018994205898309484, 'slim_bpr': 0.0005553686593574163}. Best is trial 89 with value: 0.05225166912595235.\n"
     ]
    },
    {
     "name": "stdout",
     "output_type": "stream",
     "text": [
      "Recommender_Base_Class: URM Detected 627 ( 4.8%) users with no interactions.\n",
      "Recommender_Base_Class: URM Detected 247 ( 1.1%) items with no interactions.\n",
      "EvaluatorHoldout: Ignoring 2568 (19.7%) Users that have less than 1 test interactions\n",
      "EvaluatorHoldout: Processed 10456 (100.0%) in 37.87 sec. Users per second: 276\n"
     ]
    },
    {
     "name": "stderr",
     "output_type": "stream",
     "text": [
      "[I 2023-12-05 16:17:47,520] Trial 184 finished with value: 0.05220410017488293 and parameters: {'slim_elastic': 0.7719150965854374, 'item_knn': 0.041010131977341276, 'rp3': 0.02928717114334935, 'p3alpha': 0.4084804642622466, 'ials': 0.006442040515525278, 'ease_r': 0.0011630377973492153, 'user_knn': 0.002325944794890852, 'svd_item': 0.00017562277346867066, 'scaled_svd': 0.0007527590365577977, 'nmf': 0.0029460176958957677, 'slim_bpr': 0.0002477963695777009}. Best is trial 89 with value: 0.05225166912595235.\n"
     ]
    },
    {
     "name": "stdout",
     "output_type": "stream",
     "text": [
      "Recommender_Base_Class: URM Detected 627 ( 4.8%) users with no interactions.\n",
      "Recommender_Base_Class: URM Detected 247 ( 1.1%) items with no interactions.\n",
      "EvaluatorHoldout: Ignoring 2568 (19.7%) Users that have less than 1 test interactions\n",
      "EvaluatorHoldout: Processed 10456 (100.0%) in 37.64 sec. Users per second: 278\n"
     ]
    },
    {
     "name": "stderr",
     "output_type": "stream",
     "text": [
      "[I 2023-12-05 16:18:25,524] Trial 185 finished with value: 0.05200334204709734 and parameters: {'slim_elastic': 0.8545421281618054, 'item_knn': 0.04566060004769524, 'rp3': 0.03339281527105126, 'p3alpha': 0.3507121519948454, 'ials': 0.007019147286496046, 'ease_r': 0.0014936187179773726, 'user_knn': 0.003906945390205549, 'svd_item': 0.0002796819420957887, 'scaled_svd': 0.019425165454704775, 'nmf': 0.0021019729601388284, 'slim_bpr': 0.00042485728789832167}. Best is trial 89 with value: 0.05225166912595235.\n"
     ]
    },
    {
     "name": "stdout",
     "output_type": "stream",
     "text": [
      "Recommender_Base_Class: URM Detected 627 ( 4.8%) users with no interactions.\n",
      "Recommender_Base_Class: URM Detected 247 ( 1.1%) items with no interactions.\n",
      "EvaluatorHoldout: Ignoring 2568 (19.7%) Users that have less than 1 test interactions\n",
      "EvaluatorHoldout: Processed 10456 (100.0%) in 38.74 sec. Users per second: 270\n"
     ]
    },
    {
     "name": "stderr",
     "output_type": "stream",
     "text": [
      "[I 2023-12-05 16:19:04,632] Trial 186 finished with value: 0.052069184853232864 and parameters: {'slim_elastic': 0.6981654016212134, 'item_knn': 0.05160084451597696, 'rp3': 0.043521201451204694, 'p3alpha': 0.5098121239917874, 'ials': 0.005945349254126638, 'ease_r': 0.002196695786330693, 'user_knn': 0.0028102085081046003, 'svd_item': 0.0002175999659535704, 'scaled_svd': 0.0014506028421238948, 'nmf': 0.0015469938186112755, 'slim_bpr': 0.0006900715107951231}. Best is trial 89 with value: 0.05225166912595235.\n"
     ]
    },
    {
     "name": "stdout",
     "output_type": "stream",
     "text": [
      "Recommender_Base_Class: URM Detected 627 ( 4.8%) users with no interactions.\n",
      "Recommender_Base_Class: URM Detected 247 ( 1.1%) items with no interactions.\n",
      "EvaluatorHoldout: Ignoring 2568 (19.7%) Users that have less than 1 test interactions\n",
      "EvaluatorHoldout: Processed 10456 (100.0%) in 37.48 sec. Users per second: 279\n"
     ]
    },
    {
     "name": "stderr",
     "output_type": "stream",
     "text": [
      "[I 2023-12-05 16:19:42,464] Trial 187 finished with value: 0.05214081153374427 and parameters: {'slim_elastic': 0.5565212882817894, 'item_knn': 0.05985499901581619, 'rp3': 0.03724781547192677, 'p3alpha': 0.32268983994046907, 'ials': 0.0054022047562032206, 'ease_r': 0.0032045099954761992, 'user_knn': 0.0035515790260335018, 'svd_item': 0.0001391304377897219, 'scaled_svd': 0.0033062302745969, 'nmf': 0.0025846391025628355, 'slim_bpr': 0.0003088244465734321}. Best is trial 89 with value: 0.05225166912595235.\n"
     ]
    },
    {
     "name": "stdout",
     "output_type": "stream",
     "text": [
      "Recommender_Base_Class: URM Detected 627 ( 4.8%) users with no interactions.\n",
      "Recommender_Base_Class: URM Detected 247 ( 1.1%) items with no interactions.\n",
      "EvaluatorHoldout: Ignoring 2568 (19.7%) Users that have less than 1 test interactions\n",
      "EvaluatorHoldout: Processed 10456 (100.0%) in 37.74 sec. Users per second: 277\n"
     ]
    },
    {
     "name": "stderr",
     "output_type": "stream",
     "text": [
      "[I 2023-12-05 16:20:20,550] Trial 188 finished with value: 0.0518497847366445 and parameters: {'slim_elastic': 0.3590062778377991, 'item_knn': 0.0400885259299985, 'rp3': 0.04122153913798166, 'p3alpha': 0.3849031181313979, 'ials': 0.0065528015024704, 'ease_r': 0.0025340937201587537, 'user_knn': 0.0031453673245907953, 'svd_item': 0.00020814847268293976, 'scaled_svd': 0.0005213128320172984, 'nmf': 0.003543216948415217, 'slim_bpr': 0.0005096051329419181}. Best is trial 89 with value: 0.05225166912595235.\n"
     ]
    },
    {
     "name": "stdout",
     "output_type": "stream",
     "text": [
      "Recommender_Base_Class: URM Detected 627 ( 4.8%) users with no interactions.\n",
      "Recommender_Base_Class: URM Detected 247 ( 1.1%) items with no interactions.\n",
      "EvaluatorHoldout: Ignoring 2568 (19.7%) Users that have less than 1 test interactions\n",
      "EvaluatorHoldout: Processed 10456 (100.0%) in 37.86 sec. Users per second: 276\n"
     ]
    },
    {
     "name": "stderr",
     "output_type": "stream",
     "text": [
      "[I 2023-12-05 16:20:58,749] Trial 189 finished with value: 0.05185729921910164 and parameters: {'slim_elastic': 0.8121780678278123, 'item_knn': 0.06836664600679596, 'rp3': 0.02627800015249436, 'p3alpha': 0.45129641450320646, 'ials': 0.008121978140036344, 'ease_r': 0.0019027373132111166, 'user_knn': 0.0041441338219192275, 'svd_item': 0.00015610238000438555, 'scaled_svd': 0.049332885605015905, 'nmf': 0.0031245706557005122, 'slim_bpr': 0.00035808840664845883}. Best is trial 89 with value: 0.05225166912595235.\n"
     ]
    },
    {
     "name": "stdout",
     "output_type": "stream",
     "text": [
      "Recommender_Base_Class: URM Detected 627 ( 4.8%) users with no interactions.\n",
      "Recommender_Base_Class: URM Detected 247 ( 1.1%) items with no interactions.\n",
      "EvaluatorHoldout: Ignoring 2568 (19.7%) Users that have less than 1 test interactions\n",
      "EvaluatorHoldout: Processed 10456 (100.0%) in 37.67 sec. Users per second: 278\n"
     ]
    },
    {
     "name": "stderr",
     "output_type": "stream",
     "text": [
      "[I 2023-12-05 16:21:36,804] Trial 190 finished with value: 0.05209811940588576 and parameters: {'slim_elastic': 0.7393548774727052, 'item_knn': 0.03538664715538896, 'rp3': 0.04656312416243627, 'p3alpha': 0.29473549977984104, 'ials': 0.007312490431285, 'ease_r': 0.0014666772011586557, 'user_knn': 0.0021552873141744812, 'svd_item': 0.00613198730867083, 'scaled_svd': 0.002858327224406373, 'nmf': 0.0025587025757146955, 'slim_bpr': 0.000626001418200683}. Best is trial 89 with value: 0.05225166912595235.\n"
     ]
    },
    {
     "name": "stdout",
     "output_type": "stream",
     "text": [
      "Recommender_Base_Class: URM Detected 627 ( 4.8%) users with no interactions.\n",
      "Recommender_Base_Class: URM Detected 247 ( 1.1%) items with no interactions.\n",
      "EvaluatorHoldout: Ignoring 2568 (19.7%) Users that have less than 1 test interactions\n",
      "EvaluatorHoldout: Processed 10456 (100.0%) in 37.43 sec. Users per second: 279\n"
     ]
    },
    {
     "name": "stderr",
     "output_type": "stream",
     "text": [
      "[I 2023-12-05 16:22:14,599] Trial 191 finished with value: 0.05216437209288255 and parameters: {'slim_elastic': 0.882742473847261, 'item_knn': 0.05386232406611706, 'rp3': 0.035124639327407094, 'p3alpha': 0.36494006460649886, 'ials': 0.008583986529127147, 'ease_r': 0.002147122376550761, 'user_knn': 0.005451929715925103, 'svd_item': 0.00012326062831026748, 'scaled_svd': 0.0006024330803482503, 'nmf': 0.0023156339823750083, 'slim_bpr': 0.0004831286763556613}. Best is trial 89 with value: 0.05225166912595235.\n"
     ]
    },
    {
     "name": "stdout",
     "output_type": "stream",
     "text": [
      "Recommender_Base_Class: URM Detected 627 ( 4.8%) users with no interactions.\n",
      "Recommender_Base_Class: URM Detected 247 ( 1.1%) items with no interactions.\n",
      "EvaluatorHoldout: Ignoring 2568 (19.7%) Users that have less than 1 test interactions\n",
      "EvaluatorHoldout: Processed 10456 (100.0%) in 36.48 sec. Users per second: 287\n"
     ]
    },
    {
     "name": "stderr",
     "output_type": "stream",
     "text": [
      "[I 2023-12-05 16:22:51,434] Trial 192 finished with value: 0.051966938554305155 and parameters: {'slim_elastic': 0.8603604533736284, 'item_knn': 0.0481649179564252, 'rp3': 0.03391383975729427, 'p3alpha': 0.405966889077983, 'ials': 0.08004323974370275, 'ease_r': 0.0016523106934182702, 'user_knn': 0.007202551973533482, 'svd_item': 0.00012027448788506077, 'scaled_svd': 0.00017923889157263058, 'nmf': 0.0019864057901591205, 'slim_bpr': 0.00020559473472884078}. Best is trial 89 with value: 0.05225166912595235.\n"
     ]
    },
    {
     "name": "stdout",
     "output_type": "stream",
     "text": [
      "Recommender_Base_Class: URM Detected 627 ( 4.8%) users with no interactions.\n",
      "Recommender_Base_Class: URM Detected 247 ( 1.1%) items with no interactions.\n",
      "EvaluatorHoldout: Ignoring 2568 (19.7%) Users that have less than 1 test interactions\n",
      "EvaluatorHoldout: Processed 10456 (100.0%) in 36.17 sec. Users per second: 289\n"
     ]
    },
    {
     "name": "stderr",
     "output_type": "stream",
     "text": [
      "[I 2023-12-05 16:23:27,989] Trial 193 finished with value: 0.05223665154661759 and parameters: {'slim_elastic': 0.9216081682090245, 'item_knn': 0.05598229248329531, 'rp3': 0.03818964285854627, 'p3alpha': 0.33552310237917454, 'ials': 0.006146308018596582, 'ease_r': 0.0024318218437245406, 'user_knn': 0.0037351364105112344, 'svd_item': 0.00013877779898435134, 'scaled_svd': 0.0001472233909938072, 'nmf': 0.0028726853448214967, 'slim_bpr': 0.0007343849254009781}. Best is trial 89 with value: 0.05225166912595235.\n"
     ]
    },
    {
     "name": "stdout",
     "output_type": "stream",
     "text": [
      "Recommender_Base_Class: URM Detected 627 ( 4.8%) users with no interactions.\n",
      "Recommender_Base_Class: URM Detected 247 ( 1.1%) items with no interactions.\n",
      "EvaluatorHoldout: Ignoring 2568 (19.7%) Users that have less than 1 test interactions\n",
      "EvaluatorHoldout: Processed 10456 (100.0%) in 36.47 sec. Users per second: 287\n"
     ]
    },
    {
     "name": "stderr",
     "output_type": "stream",
     "text": [
      "[I 2023-12-05 16:24:04,809] Trial 194 finished with value: 0.052219698418771096 and parameters: {'slim_elastic': 0.7821427366167615, 'item_knn': 0.04397960086537444, 'rp3': 0.03917136409422973, 'p3alpha': 0.3129447304886827, 'ials': 0.006025134767106027, 'ease_r': 0.0040677545031986406, 'user_knn': 0.0027287549591731345, 'svd_item': 0.00014773794319376235, 'scaled_svd': 0.0001456315686983646, 'nmf': 0.003049905210934935, 'slim_bpr': 0.0007622317561660325}. Best is trial 89 with value: 0.05225166912595235.\n"
     ]
    },
    {
     "name": "stdout",
     "output_type": "stream",
     "text": [
      "Recommender_Base_Class: URM Detected 627 ( 4.8%) users with no interactions.\n",
      "Recommender_Base_Class: URM Detected 247 ( 1.1%) items with no interactions.\n",
      "EvaluatorHoldout: Ignoring 2568 (19.7%) Users that have less than 1 test interactions\n",
      "EvaluatorHoldout: Processed 10456 (100.0%) in 37.81 sec. Users per second: 277\n"
     ]
    },
    {
     "name": "stderr",
     "output_type": "stream",
     "text": [
      "[I 2023-12-05 16:24:42,959] Trial 195 finished with value: 0.05215317247786681 and parameters: {'slim_elastic': 0.6722498771802391, 'item_knn': 0.056338394968153224, 'rp3': 0.04032210843113216, 'p3alpha': 0.3137957182878515, 'ials': 0.005980564122451454, 'ease_r': 0.005233569971414124, 'user_knn': 0.002785603344831665, 'svd_item': 0.0001670010574537496, 'scaled_svd': 0.00516592870110485, 'nmf': 0.004226912167570992, 'slim_bpr': 0.0007440823080212147}. Best is trial 89 with value: 0.05225166912595235.\n"
     ]
    },
    {
     "name": "stdout",
     "output_type": "stream",
     "text": [
      "Recommender_Base_Class: URM Detected 627 ( 4.8%) users with no interactions.\n",
      "Recommender_Base_Class: URM Detected 247 ( 1.1%) items with no interactions.\n",
      "EvaluatorHoldout: Ignoring 2568 (19.7%) Users that have less than 1 test interactions\n",
      "EvaluatorHoldout: Processed 10456 (100.0%) in 37.61 sec. Users per second: 278\n"
     ]
    },
    {
     "name": "stderr",
     "output_type": "stream",
     "text": [
      "[I 2023-12-05 16:25:20,983] Trial 196 finished with value: 0.05221592599676995 and parameters: {'slim_elastic': 0.7476137751293821, 'item_knn': 0.049878033020682604, 'rp3': 0.0386923443876697, 'p3alpha': 0.28636306691642793, 'ials': 0.00631704384901976, 'ease_r': 0.004569125782130107, 'user_knn': 0.0025825945097056238, 'svd_item': 0.0002559133489300634, 'scaled_svd': 0.0001518159659752633, 'nmf': 0.002744790348589591, 'slim_bpr': 0.0011906363592578027}. Best is trial 89 with value: 0.05225166912595235.\n"
     ]
    },
    {
     "name": "stdout",
     "output_type": "stream",
     "text": [
      "Recommender_Base_Class: URM Detected 627 ( 4.8%) users with no interactions.\n",
      "Recommender_Base_Class: URM Detected 247 ( 1.1%) items with no interactions.\n",
      "EvaluatorHoldout: Ignoring 2568 (19.7%) Users that have less than 1 test interactions\n",
      "EvaluatorHoldout: Processed 10456 (100.0%) in 37.73 sec. Users per second: 277\n"
     ]
    },
    {
     "name": "stderr",
     "output_type": "stream",
     "text": [
      "[I 2023-12-05 16:25:59,139] Trial 197 finished with value: 0.05159892626395175 and parameters: {'slim_elastic': 0.18259241918422695, 'item_knn': 0.06407331070285553, 'rp3': 0.04281349653001735, 'p3alpha': 0.25670361668757075, 'ials': 0.005132696523679739, 'ease_r': 0.0039673856045952536, 'user_knn': 0.0023987914579571765, 'svd_item': 0.00026034329952739563, 'scaled_svd': 0.0022911933782194874, 'nmf': 0.0027093833929485306, 'slim_bpr': 0.0010895318834296631}. Best is trial 89 with value: 0.05225166912595235.\n"
     ]
    },
    {
     "name": "stdout",
     "output_type": "stream",
     "text": [
      "Recommender_Base_Class: URM Detected 627 ( 4.8%) users with no interactions.\n",
      "Recommender_Base_Class: URM Detected 247 ( 1.1%) items with no interactions.\n",
      "EvaluatorHoldout: Ignoring 2568 (19.7%) Users that have less than 1 test interactions\n",
      "EvaluatorHoldout: Processed 10456 (100.0%) in 39.57 sec. Users per second: 264\n"
     ]
    },
    {
     "name": "stderr",
     "output_type": "stream",
     "text": [
      "[I 2023-12-05 16:26:39,131] Trial 198 finished with value: 0.0522029388457759 and parameters: {'slim_elastic': 0.799996971468844, 'item_knn': 0.048034878483072425, 'rp3': 0.04780049878580867, 'p3alpha': 0.29881601220798415, 'ials': 0.005016384349352227, 'ease_r': 0.0044476306772693415, 'user_knn': 0.002625443479717226, 'svd_item': 0.00023544254776256454, 'scaled_svd': 0.0010007318990232605, 'nmf': 0.002189800888608887, 'slim_bpr': 0.0012893769598391028}. Best is trial 89 with value: 0.05225166912595235.\n"
     ]
    },
    {
     "name": "stdout",
     "output_type": "stream",
     "text": [
      "Recommender_Base_Class: URM Detected 627 ( 4.8%) users with no interactions.\n",
      "Recommender_Base_Class: URM Detected 247 ( 1.1%) items with no interactions.\n",
      "EvaluatorHoldout: Ignoring 2568 (19.7%) Users that have less than 1 test interactions\n",
      "EvaluatorHoldout: Processed 10456 (100.0%) in 39.37 sec. Users per second: 266\n"
     ]
    },
    {
     "name": "stderr",
     "output_type": "stream",
     "text": [
      "[I 2023-12-05 16:27:18,918] Trial 199 finished with value: 0.051868696184161484 and parameters: {'slim_elastic': 0.6205463212619581, 'item_knn': 0.05989969369884237, 'rp3': 0.037067999547439584, 'p3alpha': 0.6550301237836478, 'ials': 0.006357572551805945, 'ease_r': 0.0030807802632774623, 'user_knn': 0.003947064623261249, 'svd_item': 0.0002083683672114649, 'scaled_svd': 0.00015075368901217297, 'nmf': 0.00327877252119434, 'slim_bpr': 0.0009208285282328525}. Best is trial 89 with value: 0.05225166912595235.\n"
     ]
    }
   ],
   "source": [
    "if config['tune_parameters']:\n",
    "    study = optuna.create_study(direction='maximize', study_name='hyperparameters_tuning_linear_11models_no_cv', \n",
    "                                storage=f'sqlite:///{config[\"database_path\"]}', load_if_exists=True)\n",
    "    study.optimize(objective, n_trials=200)"
   ]
  },
  {
   "cell_type": "code",
   "execution_count": 28,
   "id": "1aeef2f5",
   "metadata": {
    "execution": {
     "iopub.execute_input": "2023-12-05T16:27:19.083895Z",
     "iopub.status.busy": "2023-12-05T16:27:19.083484Z",
     "iopub.status.idle": "2023-12-05T16:27:20.063047Z",
     "shell.execute_reply": "2023-12-05T16:27:20.058935Z"
    },
    "papermill": {
     "duration": 1.053989,
     "end_time": "2023-12-05T16:27:20.066836",
     "exception": false,
     "start_time": "2023-12-05T16:27:19.012847",
     "status": "completed"
    },
    "tags": []
   },
   "outputs": [
    {
     "data": {
      "text/html": [
       "        <script type=\"text/javascript\">\n",
       "        window.PlotlyConfig = {MathJaxConfig: 'local'};\n",
       "        if (window.MathJax && window.MathJax.Hub && window.MathJax.Hub.Config) {window.MathJax.Hub.Config({SVG: {font: \"STIX-Web\"}});}\n",
       "        if (typeof require !== 'undefined') {\n",
       "        require.undef(\"plotly\");\n",
       "        requirejs.config({\n",
       "            paths: {\n",
       "                'plotly': ['https://cdn.plot.ly/plotly-2.25.2.min']\n",
       "            }\n",
       "        });\n",
       "        require(['plotly'], function(Plotly) {\n",
       "            window._Plotly = Plotly;\n",
       "        });\n",
       "        }\n",
       "        </script>\n",
       "        "
      ]
     },
     "metadata": {},
     "output_type": "display_data"
    },
    {
     "data": {
      "text/html": [
       "<div>                            <div id=\"fea759d6-c91c-482a-b47d-4f528b4ff8ab\" class=\"plotly-graph-div\" style=\"height:525px; width:100%;\"></div>            <script type=\"text/javascript\">                require([\"plotly\"], function(Plotly) {                    window.PLOTLYENV=window.PLOTLYENV || {};                                    if (document.getElementById(\"fea759d6-c91c-482a-b47d-4f528b4ff8ab\")) {                    Plotly.newPlot(                        \"fea759d6-c91c-482a-b47d-4f528b4ff8ab\",                        [{\"mode\":\"markers\",\"name\":\"Objective Value\",\"x\":[0,1,2,3,4,5,6,7,8,9,10,11,12,13,14,15,16,17,18,19,20,21,22,23,24,25,26,27,28,29,30,31,32,33,34,35,36,37,38,39,40,41,42,43,44,45,46,47,48,49,50,51,52,53,54,55,56,57,58,59,60,61,62,63,64,65,66,67,68,69,70,71,72,73,74,75,76,77,78,79,80,81,82,83,84,85,86,87,88,89,90,91,92,93,94,95,96,97,98,99,100,101,102,103,104,105,106,107,108,109,110,111,112,113,114,115,116,117,118,119,120,121,122,123,124,125,126,127,128,129,130,131,132,133,134,135,136,137,138,139,140,141,142,143,144,145,146,147,148,149,150,151,152,153,154,155,156,157,158,159,160,161,162,163,164,165,166,167,168,169,170,171,172,173,174,175,176,177,178,179,180,181,182,183,184,185,186,187,188,189,190,191,192,193,194,195,196,197,198,199],\"y\":[0.05109123188933909,0.049198280625691315,0.0501032899770474,0.05009340729405832,0.045316276217194945,0.05180980617189551,0.04862319500613368,0.03835058628143981,0.043794058397396834,0.04847275354926522,0.04807319181817153,0.051816394627221395,0.05173862352898366,0.05096056338883491,0.05219113959024108,0.05171197368261318,0.050862419693713384,0.05120069664565727,0.051265435050582994,0.05212484136092636,0.05181753698036274,0.051951412419086934,0.05217772358241989,0.052112837164960776,0.05208255152354283,0.05211528126935595,0.05186334496180573,0.05204117253251763,0.0514295543836005,0.051929411684337574,0.05131336074980954,0.052150364034928384,0.05203572643033295,0.05202633332726154,0.051974972978225245,0.05195895346789621,0.05177677281062949,0.052071917392308154,0.051620972541019126,0.05152512114256633,0.052173977726770834,0.05210489382567674,0.05205216341190959,0.05212117140914048,0.05195890413038532,0.05177974824206711,0.052054072394069076,0.05186047200058353,0.052101523694150394,0.051491275609964214,0.05193154837808682,0.05211899676345976,0.05212327774134436,0.052021331262676565,0.05216011768134981,0.051626274425863795,0.052063233990357595,0.051479779969882046,0.05176940254551253,0.052092346917089076,0.04949892064706593,0.052174922729867665,0.052067450449958606,0.052116753804302064,0.05210769847342188,0.05198881404768022,0.052197208104104054,0.05217502140488986,0.052123129728811175,0.05210471924679123,0.05196190992336799,0.05217704424284421,0.05201116773539361,0.05211399849406775,0.05183428137258531,0.05214494449909569,0.051882875025807816,0.05218697626334422,0.05195479014099949,0.05200328891439304,0.052073541734980605,0.052151703738113814,0.05215319904421896,0.05206483935706439,0.052144124737373045,0.05210021435251014,0.05221723533841028,0.05219171266440826,0.05221203212858776,0.05225166912595235,0.05215511561676495,0.05213076945264256,0.05223151665027187,0.05214991620213553,0.052102662252098565,0.0521483981248714,0.05198458999769313,0.05189338391566842,0.05207742421758349,0.052069420155208865,0.05217549200884178,0.05217939726260358,0.052093379209628754,0.052093641077956825,0.052059188314448966,0.05218028533780306,0.05209514397444821,0.05184964810969091,0.05211482205098361,0.05216536263829728,0.05204923352278985,0.05204206060771718,0.05218548475243234,0.052174554596131274,0.052183830048214586,0.05220747030640922,0.0521289136031872,0.05221440412431274,0.052194316166916103,0.052182873659538206,0.05215146084575166,0.052149946563680834,0.052226723321310606,0.05220726157078534,0.052193291464762835,0.05210426382361204,0.05225074309882121,0.05213983616910214,0.052231922735940024,0.052139836169102144,0.05224553609380543,0.05220040745193814,0.05220058582601667,0.05217724918327487,0.05209193324103485,0.05220897320290057,0.052166360774098405,0.05216897945737895,0.052187336806694545,0.05202581338579861,0.05218819072515562,0.05220082492318572,0.052223554335021856,0.052219129139797135,0.05210430177554364,0.052162827449266286,0.05216729059642269,0.052097830971205565,0.05218392872323674,0.05220014558361007,0.05111078472449994,0.0522067036773908,0.051981170528655835,0.05218523047449065,0.052119585018399577,0.05222997580184885,0.05079315741854054,0.052041749401878064,0.052187632831761095,0.052091303238970245,0.05211734205924192,0.05221070381098157,0.052172452059120404,0.05215791267412387,0.05205412552677341,0.05217398152196395,0.052146102033009546,0.052219265766750844,0.052168531624585984,0.05159497167267892,0.05109737630706519,0.05220810789886002,0.05219058169684647,0.05220218739753017,0.05211728133615137,0.05213501627378874,0.05222943688442014,0.05220296161693488,0.05212348647696828,0.05183290371746817,0.052239228482773306,0.05222598325864435,0.05216274395501677,0.052023023918825705,0.05220410017488293,0.05200334204709734,0.052069184853232864,0.05214081153374427,0.0518497847366445,0.05185729921910164,0.05209811940588576,0.05216437209288255,0.051966938554305155,0.05223665154661759,0.052219698418771096,0.05215317247786681,0.05221592599676995,0.05159892626395175,0.0522029388457759,0.051868696184161484],\"type\":\"scatter\"},{\"mode\":\"lines\",\"name\":\"Best Value\",\"x\":[0,1,2,3,4,5,6,7,8,9,10,11,12,13,14,15,16,17,18,19,20,21,22,23,24,25,26,27,28,29,30,31,32,33,34,35,36,37,38,39,40,41,42,43,44,45,46,47,48,49,50,51,52,53,54,55,56,57,58,59,60,61,62,63,64,65,66,67,68,69,70,71,72,73,74,75,76,77,78,79,80,81,82,83,84,85,86,87,88,89,90,91,92,93,94,95,96,97,98,99,100,101,102,103,104,105,106,107,108,109,110,111,112,113,114,115,116,117,118,119,120,121,122,123,124,125,126,127,128,129,130,131,132,133,134,135,136,137,138,139,140,141,142,143,144,145,146,147,148,149,150,151,152,153,154,155,156,157,158,159,160,161,162,163,164,165,166,167,168,169,170,171,172,173,174,175,176,177,178,179,180,181,182,183,184,185,186,187,188,189,190,191,192,193,194,195,196,197,198,199],\"y\":[0.05109123188933909,0.05109123188933909,0.05109123188933909,0.05109123188933909,0.05109123188933909,0.05180980617189551,0.05180980617189551,0.05180980617189551,0.05180980617189551,0.05180980617189551,0.05180980617189551,0.051816394627221395,0.051816394627221395,0.051816394627221395,0.05219113959024108,0.05219113959024108,0.05219113959024108,0.05219113959024108,0.05219113959024108,0.05219113959024108,0.05219113959024108,0.05219113959024108,0.05219113959024108,0.05219113959024108,0.05219113959024108,0.05219113959024108,0.05219113959024108,0.05219113959024108,0.05219113959024108,0.05219113959024108,0.05219113959024108,0.05219113959024108,0.05219113959024108,0.05219113959024108,0.05219113959024108,0.05219113959024108,0.05219113959024108,0.05219113959024108,0.05219113959024108,0.05219113959024108,0.05219113959024108,0.05219113959024108,0.05219113959024108,0.05219113959024108,0.05219113959024108,0.05219113959024108,0.05219113959024108,0.05219113959024108,0.05219113959024108,0.05219113959024108,0.05219113959024108,0.05219113959024108,0.05219113959024108,0.05219113959024108,0.05219113959024108,0.05219113959024108,0.05219113959024108,0.05219113959024108,0.05219113959024108,0.05219113959024108,0.05219113959024108,0.05219113959024108,0.05219113959024108,0.05219113959024108,0.05219113959024108,0.05219113959024108,0.052197208104104054,0.052197208104104054,0.052197208104104054,0.052197208104104054,0.052197208104104054,0.052197208104104054,0.052197208104104054,0.052197208104104054,0.052197208104104054,0.052197208104104054,0.052197208104104054,0.052197208104104054,0.052197208104104054,0.052197208104104054,0.052197208104104054,0.052197208104104054,0.052197208104104054,0.052197208104104054,0.052197208104104054,0.052197208104104054,0.05221723533841028,0.05221723533841028,0.05221723533841028,0.05225166912595235,0.05225166912595235,0.05225166912595235,0.05225166912595235,0.05225166912595235,0.05225166912595235,0.05225166912595235,0.05225166912595235,0.05225166912595235,0.05225166912595235,0.05225166912595235,0.05225166912595235,0.05225166912595235,0.05225166912595235,0.05225166912595235,0.05225166912595235,0.05225166912595235,0.05225166912595235,0.05225166912595235,0.05225166912595235,0.05225166912595235,0.05225166912595235,0.05225166912595235,0.05225166912595235,0.05225166912595235,0.05225166912595235,0.05225166912595235,0.05225166912595235,0.05225166912595235,0.05225166912595235,0.05225166912595235,0.05225166912595235,0.05225166912595235,0.05225166912595235,0.05225166912595235,0.05225166912595235,0.05225166912595235,0.05225166912595235,0.05225166912595235,0.05225166912595235,0.05225166912595235,0.05225166912595235,0.05225166912595235,0.05225166912595235,0.05225166912595235,0.05225166912595235,0.05225166912595235,0.05225166912595235,0.05225166912595235,0.05225166912595235,0.05225166912595235,0.05225166912595235,0.05225166912595235,0.05225166912595235,0.05225166912595235,0.05225166912595235,0.05225166912595235,0.05225166912595235,0.05225166912595235,0.05225166912595235,0.05225166912595235,0.05225166912595235,0.05225166912595235,0.05225166912595235,0.05225166912595235,0.05225166912595235,0.05225166912595235,0.05225166912595235,0.05225166912595235,0.05225166912595235,0.05225166912595235,0.05225166912595235,0.05225166912595235,0.05225166912595235,0.05225166912595235,0.05225166912595235,0.05225166912595235,0.05225166912595235,0.05225166912595235,0.05225166912595235,0.05225166912595235,0.05225166912595235,0.05225166912595235,0.05225166912595235,0.05225166912595235,0.05225166912595235,0.05225166912595235,0.05225166912595235,0.05225166912595235,0.05225166912595235,0.05225166912595235,0.05225166912595235,0.05225166912595235,0.05225166912595235,0.05225166912595235,0.05225166912595235,0.05225166912595235,0.05225166912595235,0.05225166912595235,0.05225166912595235,0.05225166912595235,0.05225166912595235,0.05225166912595235,0.05225166912595235,0.05225166912595235,0.05225166912595235,0.05225166912595235,0.05225166912595235,0.05225166912595235,0.05225166912595235,0.05225166912595235],\"type\":\"scatter\"},{\"marker\":{\"color\":\"#cccccc\"},\"mode\":\"markers\",\"name\":\"Infeasible Trial\",\"showlegend\":false,\"x\":[],\"y\":[],\"type\":\"scatter\"}],                        {\"title\":{\"text\":\"Optimization History Plot\"},\"xaxis\":{\"title\":{\"text\":\"Trial\"}},\"yaxis\":{\"title\":{\"text\":\"Objective Value\"}},\"template\":{\"data\":{\"histogram2dcontour\":[{\"type\":\"histogram2dcontour\",\"colorbar\":{\"outlinewidth\":0,\"ticks\":\"\"},\"colorscale\":[[0.0,\"#0d0887\"],[0.1111111111111111,\"#46039f\"],[0.2222222222222222,\"#7201a8\"],[0.3333333333333333,\"#9c179e\"],[0.4444444444444444,\"#bd3786\"],[0.5555555555555556,\"#d8576b\"],[0.6666666666666666,\"#ed7953\"],[0.7777777777777778,\"#fb9f3a\"],[0.8888888888888888,\"#fdca26\"],[1.0,\"#f0f921\"]]}],\"choropleth\":[{\"type\":\"choropleth\",\"colorbar\":{\"outlinewidth\":0,\"ticks\":\"\"}}],\"histogram2d\":[{\"type\":\"histogram2d\",\"colorbar\":{\"outlinewidth\":0,\"ticks\":\"\"},\"colorscale\":[[0.0,\"#0d0887\"],[0.1111111111111111,\"#46039f\"],[0.2222222222222222,\"#7201a8\"],[0.3333333333333333,\"#9c179e\"],[0.4444444444444444,\"#bd3786\"],[0.5555555555555556,\"#d8576b\"],[0.6666666666666666,\"#ed7953\"],[0.7777777777777778,\"#fb9f3a\"],[0.8888888888888888,\"#fdca26\"],[1.0,\"#f0f921\"]]}],\"heatmap\":[{\"type\":\"heatmap\",\"colorbar\":{\"outlinewidth\":0,\"ticks\":\"\"},\"colorscale\":[[0.0,\"#0d0887\"],[0.1111111111111111,\"#46039f\"],[0.2222222222222222,\"#7201a8\"],[0.3333333333333333,\"#9c179e\"],[0.4444444444444444,\"#bd3786\"],[0.5555555555555556,\"#d8576b\"],[0.6666666666666666,\"#ed7953\"],[0.7777777777777778,\"#fb9f3a\"],[0.8888888888888888,\"#fdca26\"],[1.0,\"#f0f921\"]]}],\"heatmapgl\":[{\"type\":\"heatmapgl\",\"colorbar\":{\"outlinewidth\":0,\"ticks\":\"\"},\"colorscale\":[[0.0,\"#0d0887\"],[0.1111111111111111,\"#46039f\"],[0.2222222222222222,\"#7201a8\"],[0.3333333333333333,\"#9c179e\"],[0.4444444444444444,\"#bd3786\"],[0.5555555555555556,\"#d8576b\"],[0.6666666666666666,\"#ed7953\"],[0.7777777777777778,\"#fb9f3a\"],[0.8888888888888888,\"#fdca26\"],[1.0,\"#f0f921\"]]}],\"contourcarpet\":[{\"type\":\"contourcarpet\",\"colorbar\":{\"outlinewidth\":0,\"ticks\":\"\"}}],\"contour\":[{\"type\":\"contour\",\"colorbar\":{\"outlinewidth\":0,\"ticks\":\"\"},\"colorscale\":[[0.0,\"#0d0887\"],[0.1111111111111111,\"#46039f\"],[0.2222222222222222,\"#7201a8\"],[0.3333333333333333,\"#9c179e\"],[0.4444444444444444,\"#bd3786\"],[0.5555555555555556,\"#d8576b\"],[0.6666666666666666,\"#ed7953\"],[0.7777777777777778,\"#fb9f3a\"],[0.8888888888888888,\"#fdca26\"],[1.0,\"#f0f921\"]]}],\"surface\":[{\"type\":\"surface\",\"colorbar\":{\"outlinewidth\":0,\"ticks\":\"\"},\"colorscale\":[[0.0,\"#0d0887\"],[0.1111111111111111,\"#46039f\"],[0.2222222222222222,\"#7201a8\"],[0.3333333333333333,\"#9c179e\"],[0.4444444444444444,\"#bd3786\"],[0.5555555555555556,\"#d8576b\"],[0.6666666666666666,\"#ed7953\"],[0.7777777777777778,\"#fb9f3a\"],[0.8888888888888888,\"#fdca26\"],[1.0,\"#f0f921\"]]}],\"mesh3d\":[{\"type\":\"mesh3d\",\"colorbar\":{\"outlinewidth\":0,\"ticks\":\"\"}}],\"scatter\":[{\"fillpattern\":{\"fillmode\":\"overlay\",\"size\":10,\"solidity\":0.2},\"type\":\"scatter\"}],\"parcoords\":[{\"type\":\"parcoords\",\"line\":{\"colorbar\":{\"outlinewidth\":0,\"ticks\":\"\"}}}],\"scatterpolargl\":[{\"type\":\"scatterpolargl\",\"marker\":{\"colorbar\":{\"outlinewidth\":0,\"ticks\":\"\"}}}],\"bar\":[{\"error_x\":{\"color\":\"#2a3f5f\"},\"error_y\":{\"color\":\"#2a3f5f\"},\"marker\":{\"line\":{\"color\":\"#E5ECF6\",\"width\":0.5},\"pattern\":{\"fillmode\":\"overlay\",\"size\":10,\"solidity\":0.2}},\"type\":\"bar\"}],\"scattergeo\":[{\"type\":\"scattergeo\",\"marker\":{\"colorbar\":{\"outlinewidth\":0,\"ticks\":\"\"}}}],\"scatterpolar\":[{\"type\":\"scatterpolar\",\"marker\":{\"colorbar\":{\"outlinewidth\":0,\"ticks\":\"\"}}}],\"histogram\":[{\"marker\":{\"pattern\":{\"fillmode\":\"overlay\",\"size\":10,\"solidity\":0.2}},\"type\":\"histogram\"}],\"scattergl\":[{\"type\":\"scattergl\",\"marker\":{\"colorbar\":{\"outlinewidth\":0,\"ticks\":\"\"}}}],\"scatter3d\":[{\"type\":\"scatter3d\",\"line\":{\"colorbar\":{\"outlinewidth\":0,\"ticks\":\"\"}},\"marker\":{\"colorbar\":{\"outlinewidth\":0,\"ticks\":\"\"}}}],\"scattermapbox\":[{\"type\":\"scattermapbox\",\"marker\":{\"colorbar\":{\"outlinewidth\":0,\"ticks\":\"\"}}}],\"scatterternary\":[{\"type\":\"scatterternary\",\"marker\":{\"colorbar\":{\"outlinewidth\":0,\"ticks\":\"\"}}}],\"scattercarpet\":[{\"type\":\"scattercarpet\",\"marker\":{\"colorbar\":{\"outlinewidth\":0,\"ticks\":\"\"}}}],\"carpet\":[{\"aaxis\":{\"endlinecolor\":\"#2a3f5f\",\"gridcolor\":\"white\",\"linecolor\":\"white\",\"minorgridcolor\":\"white\",\"startlinecolor\":\"#2a3f5f\"},\"baxis\":{\"endlinecolor\":\"#2a3f5f\",\"gridcolor\":\"white\",\"linecolor\":\"white\",\"minorgridcolor\":\"white\",\"startlinecolor\":\"#2a3f5f\"},\"type\":\"carpet\"}],\"table\":[{\"cells\":{\"fill\":{\"color\":\"#EBF0F8\"},\"line\":{\"color\":\"white\"}},\"header\":{\"fill\":{\"color\":\"#C8D4E3\"},\"line\":{\"color\":\"white\"}},\"type\":\"table\"}],\"barpolar\":[{\"marker\":{\"line\":{\"color\":\"#E5ECF6\",\"width\":0.5},\"pattern\":{\"fillmode\":\"overlay\",\"size\":10,\"solidity\":0.2}},\"type\":\"barpolar\"}],\"pie\":[{\"automargin\":true,\"type\":\"pie\"}]},\"layout\":{\"autotypenumbers\":\"strict\",\"colorway\":[\"#636efa\",\"#EF553B\",\"#00cc96\",\"#ab63fa\",\"#FFA15A\",\"#19d3f3\",\"#FF6692\",\"#B6E880\",\"#FF97FF\",\"#FECB52\"],\"font\":{\"color\":\"#2a3f5f\"},\"hovermode\":\"closest\",\"hoverlabel\":{\"align\":\"left\"},\"paper_bgcolor\":\"white\",\"plot_bgcolor\":\"#E5ECF6\",\"polar\":{\"bgcolor\":\"#E5ECF6\",\"angularaxis\":{\"gridcolor\":\"white\",\"linecolor\":\"white\",\"ticks\":\"\"},\"radialaxis\":{\"gridcolor\":\"white\",\"linecolor\":\"white\",\"ticks\":\"\"}},\"ternary\":{\"bgcolor\":\"#E5ECF6\",\"aaxis\":{\"gridcolor\":\"white\",\"linecolor\":\"white\",\"ticks\":\"\"},\"baxis\":{\"gridcolor\":\"white\",\"linecolor\":\"white\",\"ticks\":\"\"},\"caxis\":{\"gridcolor\":\"white\",\"linecolor\":\"white\",\"ticks\":\"\"}},\"coloraxis\":{\"colorbar\":{\"outlinewidth\":0,\"ticks\":\"\"}},\"colorscale\":{\"sequential\":[[0.0,\"#0d0887\"],[0.1111111111111111,\"#46039f\"],[0.2222222222222222,\"#7201a8\"],[0.3333333333333333,\"#9c179e\"],[0.4444444444444444,\"#bd3786\"],[0.5555555555555556,\"#d8576b\"],[0.6666666666666666,\"#ed7953\"],[0.7777777777777778,\"#fb9f3a\"],[0.8888888888888888,\"#fdca26\"],[1.0,\"#f0f921\"]],\"sequentialminus\":[[0.0,\"#0d0887\"],[0.1111111111111111,\"#46039f\"],[0.2222222222222222,\"#7201a8\"],[0.3333333333333333,\"#9c179e\"],[0.4444444444444444,\"#bd3786\"],[0.5555555555555556,\"#d8576b\"],[0.6666666666666666,\"#ed7953\"],[0.7777777777777778,\"#fb9f3a\"],[0.8888888888888888,\"#fdca26\"],[1.0,\"#f0f921\"]],\"diverging\":[[0,\"#8e0152\"],[0.1,\"#c51b7d\"],[0.2,\"#de77ae\"],[0.3,\"#f1b6da\"],[0.4,\"#fde0ef\"],[0.5,\"#f7f7f7\"],[0.6,\"#e6f5d0\"],[0.7,\"#b8e186\"],[0.8,\"#7fbc41\"],[0.9,\"#4d9221\"],[1,\"#276419\"]]},\"xaxis\":{\"gridcolor\":\"white\",\"linecolor\":\"white\",\"ticks\":\"\",\"title\":{\"standoff\":15},\"zerolinecolor\":\"white\",\"automargin\":true,\"zerolinewidth\":2},\"yaxis\":{\"gridcolor\":\"white\",\"linecolor\":\"white\",\"ticks\":\"\",\"title\":{\"standoff\":15},\"zerolinecolor\":\"white\",\"automargin\":true,\"zerolinewidth\":2},\"scene\":{\"xaxis\":{\"backgroundcolor\":\"#E5ECF6\",\"gridcolor\":\"white\",\"linecolor\":\"white\",\"showbackground\":true,\"ticks\":\"\",\"zerolinecolor\":\"white\",\"gridwidth\":2},\"yaxis\":{\"backgroundcolor\":\"#E5ECF6\",\"gridcolor\":\"white\",\"linecolor\":\"white\",\"showbackground\":true,\"ticks\":\"\",\"zerolinecolor\":\"white\",\"gridwidth\":2},\"zaxis\":{\"backgroundcolor\":\"#E5ECF6\",\"gridcolor\":\"white\",\"linecolor\":\"white\",\"showbackground\":true,\"ticks\":\"\",\"zerolinecolor\":\"white\",\"gridwidth\":2}},\"shapedefaults\":{\"line\":{\"color\":\"#2a3f5f\"}},\"annotationdefaults\":{\"arrowcolor\":\"#2a3f5f\",\"arrowhead\":0,\"arrowwidth\":1},\"geo\":{\"bgcolor\":\"white\",\"landcolor\":\"#E5ECF6\",\"subunitcolor\":\"white\",\"showland\":true,\"showlakes\":true,\"lakecolor\":\"white\"},\"title\":{\"x\":0.05},\"mapbox\":{\"style\":\"light\"}}}},                        {\"responsive\": true}                    ).then(function(){\n",
       "                            \n",
       "var gd = document.getElementById('fea759d6-c91c-482a-b47d-4f528b4ff8ab');\n",
       "var x = new MutationObserver(function (mutations, observer) {{\n",
       "        var display = window.getComputedStyle(gd).display;\n",
       "        if (!display || display === 'none') {{\n",
       "            console.log([gd, 'removed!']);\n",
       "            Plotly.purge(gd);\n",
       "            observer.disconnect();\n",
       "        }}\n",
       "}});\n",
       "\n",
       "// Listen for the removal of the full notebook cells\n",
       "var notebookContainer = gd.closest('#notebook-container');\n",
       "if (notebookContainer) {{\n",
       "    x.observe(notebookContainer, {childList: true});\n",
       "}}\n",
       "\n",
       "// Listen for the clearing of the current output cell\n",
       "var outputEl = gd.closest('.output');\n",
       "if (outputEl) {{\n",
       "    x.observe(outputEl, {childList: true});\n",
       "}}\n",
       "\n",
       "                        })                };                });            </script>        </div>"
      ]
     },
     "metadata": {},
     "output_type": "display_data"
    }
   ],
   "source": [
    "if config['tune_parameters']:\n",
    "    fig = optuna.visualization.plot_optimization_history(study)\n",
    "    fig.show()"
   ]
  },
  {
   "cell_type": "code",
   "execution_count": 29,
   "id": "bdbf5efa",
   "metadata": {
    "execution": {
     "iopub.execute_input": "2023-12-05T16:27:20.246981Z",
     "iopub.status.busy": "2023-12-05T16:27:20.246543Z",
     "iopub.status.idle": "2023-12-05T16:27:24.776362Z",
     "shell.execute_reply": "2023-12-05T16:27:24.774898Z"
    },
    "papermill": {
     "duration": 4.613945,
     "end_time": "2023-12-05T16:27:24.779050",
     "exception": false,
     "start_time": "2023-12-05T16:27:20.165105",
     "status": "completed"
    },
    "tags": []
   },
   "outputs": [
    {
     "data": {
      "text/html": [
       "<div>                            <div id=\"101218d4-f858-4504-a9c9-101ccf0c3b53\" class=\"plotly-graph-div\" style=\"height:525px; width:100%;\"></div>            <script type=\"text/javascript\">                require([\"plotly\"], function(Plotly) {                    window.PLOTLYENV=window.PLOTLYENV || {};                                    if (document.getElementById(\"101218d4-f858-4504-a9c9-101ccf0c3b53\")) {                    Plotly.newPlot(                        \"101218d4-f858-4504-a9c9-101ccf0c3b53\",                        [{\"cliponaxis\":false,\"hovertemplate\":[\"scaled_svd (FloatDistribution): 0.02559377905107374\\u003cextra\\u003e\\u003c\\u002fextra\\u003e\",\"nmf (FloatDistribution): 0.04064393634466921\\u003cextra\\u003e\\u003c\\u002fextra\\u003e\",\"rp3 (FloatDistribution): 0.0508987440306437\\u003cextra\\u003e\\u003c\\u002fextra\\u003e\",\"slim_bpr (FloatDistribution): 0.06254332861785959\\u003cextra\\u003e\\u003c\\u002fextra\\u003e\",\"item_knn (FloatDistribution): 0.06279092404320982\\u003cextra\\u003e\\u003c\\u002fextra\\u003e\",\"slim_elastic (FloatDistribution): 0.06441903934580259\\u003cextra\\u003e\\u003c\\u002fextra\\u003e\",\"ials (FloatDistribution): 0.06925513629329923\\u003cextra\\u003e\\u003c\\u002fextra\\u003e\",\"svd_item (FloatDistribution): 0.0708980397667482\\u003cextra\\u003e\\u003c\\u002fextra\\u003e\",\"p3alpha (FloatDistribution): 0.12369358099310027\\u003cextra\\u003e\\u003c\\u002fextra\\u003e\",\"ease_r (FloatDistribution): 0.13897108866637872\\u003cextra\\u003e\\u003c\\u002fextra\\u003e\",\"user_knn (FloatDistribution): 0.2902924028472147\\u003cextra\\u003e\\u003c\\u002fextra\\u003e\"],\"name\":\"Objective Value\",\"orientation\":\"h\",\"text\":[\"0.03\",\"0.04\",\"0.05\",\"0.06\",\"0.06\",\"0.06\",\"0.07\",\"0.07\",\"0.12\",\"0.14\",\"0.29\"],\"textposition\":\"outside\",\"x\":[0.02559377905107374,0.04064393634466921,0.0508987440306437,0.06254332861785959,0.06279092404320982,0.06441903934580259,0.06925513629329923,0.0708980397667482,0.12369358099310027,0.13897108866637872,0.2902924028472147],\"y\":[\"scaled_svd\",\"nmf\",\"rp3\",\"slim_bpr\",\"item_knn\",\"slim_elastic\",\"ials\",\"svd_item\",\"p3alpha\",\"ease_r\",\"user_knn\"],\"type\":\"bar\"}],                        {\"title\":{\"text\":\"Hyperparameter Importances\"},\"xaxis\":{\"title\":{\"text\":\"Hyperparameter Importance\"}},\"yaxis\":{\"title\":{\"text\":\"Hyperparameter\"}},\"template\":{\"data\":{\"histogram2dcontour\":[{\"type\":\"histogram2dcontour\",\"colorbar\":{\"outlinewidth\":0,\"ticks\":\"\"},\"colorscale\":[[0.0,\"#0d0887\"],[0.1111111111111111,\"#46039f\"],[0.2222222222222222,\"#7201a8\"],[0.3333333333333333,\"#9c179e\"],[0.4444444444444444,\"#bd3786\"],[0.5555555555555556,\"#d8576b\"],[0.6666666666666666,\"#ed7953\"],[0.7777777777777778,\"#fb9f3a\"],[0.8888888888888888,\"#fdca26\"],[1.0,\"#f0f921\"]]}],\"choropleth\":[{\"type\":\"choropleth\",\"colorbar\":{\"outlinewidth\":0,\"ticks\":\"\"}}],\"histogram2d\":[{\"type\":\"histogram2d\",\"colorbar\":{\"outlinewidth\":0,\"ticks\":\"\"},\"colorscale\":[[0.0,\"#0d0887\"],[0.1111111111111111,\"#46039f\"],[0.2222222222222222,\"#7201a8\"],[0.3333333333333333,\"#9c179e\"],[0.4444444444444444,\"#bd3786\"],[0.5555555555555556,\"#d8576b\"],[0.6666666666666666,\"#ed7953\"],[0.7777777777777778,\"#fb9f3a\"],[0.8888888888888888,\"#fdca26\"],[1.0,\"#f0f921\"]]}],\"heatmap\":[{\"type\":\"heatmap\",\"colorbar\":{\"outlinewidth\":0,\"ticks\":\"\"},\"colorscale\":[[0.0,\"#0d0887\"],[0.1111111111111111,\"#46039f\"],[0.2222222222222222,\"#7201a8\"],[0.3333333333333333,\"#9c179e\"],[0.4444444444444444,\"#bd3786\"],[0.5555555555555556,\"#d8576b\"],[0.6666666666666666,\"#ed7953\"],[0.7777777777777778,\"#fb9f3a\"],[0.8888888888888888,\"#fdca26\"],[1.0,\"#f0f921\"]]}],\"heatmapgl\":[{\"type\":\"heatmapgl\",\"colorbar\":{\"outlinewidth\":0,\"ticks\":\"\"},\"colorscale\":[[0.0,\"#0d0887\"],[0.1111111111111111,\"#46039f\"],[0.2222222222222222,\"#7201a8\"],[0.3333333333333333,\"#9c179e\"],[0.4444444444444444,\"#bd3786\"],[0.5555555555555556,\"#d8576b\"],[0.6666666666666666,\"#ed7953\"],[0.7777777777777778,\"#fb9f3a\"],[0.8888888888888888,\"#fdca26\"],[1.0,\"#f0f921\"]]}],\"contourcarpet\":[{\"type\":\"contourcarpet\",\"colorbar\":{\"outlinewidth\":0,\"ticks\":\"\"}}],\"contour\":[{\"type\":\"contour\",\"colorbar\":{\"outlinewidth\":0,\"ticks\":\"\"},\"colorscale\":[[0.0,\"#0d0887\"],[0.1111111111111111,\"#46039f\"],[0.2222222222222222,\"#7201a8\"],[0.3333333333333333,\"#9c179e\"],[0.4444444444444444,\"#bd3786\"],[0.5555555555555556,\"#d8576b\"],[0.6666666666666666,\"#ed7953\"],[0.7777777777777778,\"#fb9f3a\"],[0.8888888888888888,\"#fdca26\"],[1.0,\"#f0f921\"]]}],\"surface\":[{\"type\":\"surface\",\"colorbar\":{\"outlinewidth\":0,\"ticks\":\"\"},\"colorscale\":[[0.0,\"#0d0887\"],[0.1111111111111111,\"#46039f\"],[0.2222222222222222,\"#7201a8\"],[0.3333333333333333,\"#9c179e\"],[0.4444444444444444,\"#bd3786\"],[0.5555555555555556,\"#d8576b\"],[0.6666666666666666,\"#ed7953\"],[0.7777777777777778,\"#fb9f3a\"],[0.8888888888888888,\"#fdca26\"],[1.0,\"#f0f921\"]]}],\"mesh3d\":[{\"type\":\"mesh3d\",\"colorbar\":{\"outlinewidth\":0,\"ticks\":\"\"}}],\"scatter\":[{\"fillpattern\":{\"fillmode\":\"overlay\",\"size\":10,\"solidity\":0.2},\"type\":\"scatter\"}],\"parcoords\":[{\"type\":\"parcoords\",\"line\":{\"colorbar\":{\"outlinewidth\":0,\"ticks\":\"\"}}}],\"scatterpolargl\":[{\"type\":\"scatterpolargl\",\"marker\":{\"colorbar\":{\"outlinewidth\":0,\"ticks\":\"\"}}}],\"bar\":[{\"error_x\":{\"color\":\"#2a3f5f\"},\"error_y\":{\"color\":\"#2a3f5f\"},\"marker\":{\"line\":{\"color\":\"#E5ECF6\",\"width\":0.5},\"pattern\":{\"fillmode\":\"overlay\",\"size\":10,\"solidity\":0.2}},\"type\":\"bar\"}],\"scattergeo\":[{\"type\":\"scattergeo\",\"marker\":{\"colorbar\":{\"outlinewidth\":0,\"ticks\":\"\"}}}],\"scatterpolar\":[{\"type\":\"scatterpolar\",\"marker\":{\"colorbar\":{\"outlinewidth\":0,\"ticks\":\"\"}}}],\"histogram\":[{\"marker\":{\"pattern\":{\"fillmode\":\"overlay\",\"size\":10,\"solidity\":0.2}},\"type\":\"histogram\"}],\"scattergl\":[{\"type\":\"scattergl\",\"marker\":{\"colorbar\":{\"outlinewidth\":0,\"ticks\":\"\"}}}],\"scatter3d\":[{\"type\":\"scatter3d\",\"line\":{\"colorbar\":{\"outlinewidth\":0,\"ticks\":\"\"}},\"marker\":{\"colorbar\":{\"outlinewidth\":0,\"ticks\":\"\"}}}],\"scattermapbox\":[{\"type\":\"scattermapbox\",\"marker\":{\"colorbar\":{\"outlinewidth\":0,\"ticks\":\"\"}}}],\"scatterternary\":[{\"type\":\"scatterternary\",\"marker\":{\"colorbar\":{\"outlinewidth\":0,\"ticks\":\"\"}}}],\"scattercarpet\":[{\"type\":\"scattercarpet\",\"marker\":{\"colorbar\":{\"outlinewidth\":0,\"ticks\":\"\"}}}],\"carpet\":[{\"aaxis\":{\"endlinecolor\":\"#2a3f5f\",\"gridcolor\":\"white\",\"linecolor\":\"white\",\"minorgridcolor\":\"white\",\"startlinecolor\":\"#2a3f5f\"},\"baxis\":{\"endlinecolor\":\"#2a3f5f\",\"gridcolor\":\"white\",\"linecolor\":\"white\",\"minorgridcolor\":\"white\",\"startlinecolor\":\"#2a3f5f\"},\"type\":\"carpet\"}],\"table\":[{\"cells\":{\"fill\":{\"color\":\"#EBF0F8\"},\"line\":{\"color\":\"white\"}},\"header\":{\"fill\":{\"color\":\"#C8D4E3\"},\"line\":{\"color\":\"white\"}},\"type\":\"table\"}],\"barpolar\":[{\"marker\":{\"line\":{\"color\":\"#E5ECF6\",\"width\":0.5},\"pattern\":{\"fillmode\":\"overlay\",\"size\":10,\"solidity\":0.2}},\"type\":\"barpolar\"}],\"pie\":[{\"automargin\":true,\"type\":\"pie\"}]},\"layout\":{\"autotypenumbers\":\"strict\",\"colorway\":[\"#636efa\",\"#EF553B\",\"#00cc96\",\"#ab63fa\",\"#FFA15A\",\"#19d3f3\",\"#FF6692\",\"#B6E880\",\"#FF97FF\",\"#FECB52\"],\"font\":{\"color\":\"#2a3f5f\"},\"hovermode\":\"closest\",\"hoverlabel\":{\"align\":\"left\"},\"paper_bgcolor\":\"white\",\"plot_bgcolor\":\"#E5ECF6\",\"polar\":{\"bgcolor\":\"#E5ECF6\",\"angularaxis\":{\"gridcolor\":\"white\",\"linecolor\":\"white\",\"ticks\":\"\"},\"radialaxis\":{\"gridcolor\":\"white\",\"linecolor\":\"white\",\"ticks\":\"\"}},\"ternary\":{\"bgcolor\":\"#E5ECF6\",\"aaxis\":{\"gridcolor\":\"white\",\"linecolor\":\"white\",\"ticks\":\"\"},\"baxis\":{\"gridcolor\":\"white\",\"linecolor\":\"white\",\"ticks\":\"\"},\"caxis\":{\"gridcolor\":\"white\",\"linecolor\":\"white\",\"ticks\":\"\"}},\"coloraxis\":{\"colorbar\":{\"outlinewidth\":0,\"ticks\":\"\"}},\"colorscale\":{\"sequential\":[[0.0,\"#0d0887\"],[0.1111111111111111,\"#46039f\"],[0.2222222222222222,\"#7201a8\"],[0.3333333333333333,\"#9c179e\"],[0.4444444444444444,\"#bd3786\"],[0.5555555555555556,\"#d8576b\"],[0.6666666666666666,\"#ed7953\"],[0.7777777777777778,\"#fb9f3a\"],[0.8888888888888888,\"#fdca26\"],[1.0,\"#f0f921\"]],\"sequentialminus\":[[0.0,\"#0d0887\"],[0.1111111111111111,\"#46039f\"],[0.2222222222222222,\"#7201a8\"],[0.3333333333333333,\"#9c179e\"],[0.4444444444444444,\"#bd3786\"],[0.5555555555555556,\"#d8576b\"],[0.6666666666666666,\"#ed7953\"],[0.7777777777777778,\"#fb9f3a\"],[0.8888888888888888,\"#fdca26\"],[1.0,\"#f0f921\"]],\"diverging\":[[0,\"#8e0152\"],[0.1,\"#c51b7d\"],[0.2,\"#de77ae\"],[0.3,\"#f1b6da\"],[0.4,\"#fde0ef\"],[0.5,\"#f7f7f7\"],[0.6,\"#e6f5d0\"],[0.7,\"#b8e186\"],[0.8,\"#7fbc41\"],[0.9,\"#4d9221\"],[1,\"#276419\"]]},\"xaxis\":{\"gridcolor\":\"white\",\"linecolor\":\"white\",\"ticks\":\"\",\"title\":{\"standoff\":15},\"zerolinecolor\":\"white\",\"automargin\":true,\"zerolinewidth\":2},\"yaxis\":{\"gridcolor\":\"white\",\"linecolor\":\"white\",\"ticks\":\"\",\"title\":{\"standoff\":15},\"zerolinecolor\":\"white\",\"automargin\":true,\"zerolinewidth\":2},\"scene\":{\"xaxis\":{\"backgroundcolor\":\"#E5ECF6\",\"gridcolor\":\"white\",\"linecolor\":\"white\",\"showbackground\":true,\"ticks\":\"\",\"zerolinecolor\":\"white\",\"gridwidth\":2},\"yaxis\":{\"backgroundcolor\":\"#E5ECF6\",\"gridcolor\":\"white\",\"linecolor\":\"white\",\"showbackground\":true,\"ticks\":\"\",\"zerolinecolor\":\"white\",\"gridwidth\":2},\"zaxis\":{\"backgroundcolor\":\"#E5ECF6\",\"gridcolor\":\"white\",\"linecolor\":\"white\",\"showbackground\":true,\"ticks\":\"\",\"zerolinecolor\":\"white\",\"gridwidth\":2}},\"shapedefaults\":{\"line\":{\"color\":\"#2a3f5f\"}},\"annotationdefaults\":{\"arrowcolor\":\"#2a3f5f\",\"arrowhead\":0,\"arrowwidth\":1},\"geo\":{\"bgcolor\":\"white\",\"landcolor\":\"#E5ECF6\",\"subunitcolor\":\"white\",\"showland\":true,\"showlakes\":true,\"lakecolor\":\"white\"},\"title\":{\"x\":0.05},\"mapbox\":{\"style\":\"light\"}}}},                        {\"responsive\": true}                    ).then(function(){\n",
       "                            \n",
       "var gd = document.getElementById('101218d4-f858-4504-a9c9-101ccf0c3b53');\n",
       "var x = new MutationObserver(function (mutations, observer) {{\n",
       "        var display = window.getComputedStyle(gd).display;\n",
       "        if (!display || display === 'none') {{\n",
       "            console.log([gd, 'removed!']);\n",
       "            Plotly.purge(gd);\n",
       "            observer.disconnect();\n",
       "        }}\n",
       "}});\n",
       "\n",
       "// Listen for the removal of the full notebook cells\n",
       "var notebookContainer = gd.closest('#notebook-container');\n",
       "if (notebookContainer) {{\n",
       "    x.observe(notebookContainer, {childList: true});\n",
       "}}\n",
       "\n",
       "// Listen for the clearing of the current output cell\n",
       "var outputEl = gd.closest('.output');\n",
       "if (outputEl) {{\n",
       "    x.observe(outputEl, {childList: true});\n",
       "}}\n",
       "\n",
       "                        })                };                });            </script>        </div>"
      ]
     },
     "metadata": {},
     "output_type": "display_data"
    }
   ],
   "source": [
    "if config['tune_parameters']:\n",
    "    fig = optuna.visualization.plot_param_importances(study)\n",
    "    fig.show()"
   ]
  },
  {
   "cell_type": "code",
   "execution_count": 30,
   "id": "5eccd135",
   "metadata": {
    "execution": {
     "iopub.execute_input": "2023-12-05T16:27:24.911170Z",
     "iopub.status.busy": "2023-12-05T16:27:24.910723Z",
     "iopub.status.idle": "2023-12-05T16:27:25.512392Z",
     "shell.execute_reply": "2023-12-05T16:27:25.511111Z"
    },
    "papermill": {
     "duration": 0.672221,
     "end_time": "2023-12-05T16:27:25.515523",
     "exception": false,
     "start_time": "2023-12-05T16:27:24.843302",
     "status": "completed"
    },
    "tags": []
   },
   "outputs": [
    {
     "data": {
      "text/html": [
       "<div>                            <div id=\"947762ef-fb8f-4161-826c-9b28fd786f91\" class=\"plotly-graph-div\" style=\"height:525px; width:3300px;\"></div>            <script type=\"text/javascript\">                require([\"plotly\"], function(Plotly) {                    window.PLOTLYENV=window.PLOTLYENV || {};                                    if (document.getElementById(\"947762ef-fb8f-4161-826c-9b28fd786f91\")) {                    Plotly.newPlot(                        \"947762ef-fb8f-4161-826c-9b28fd786f91\",                        [{\"marker\":{\"color\":[0,1,2,3,4,5,6,7,8,9,10,11,12,13,14,15,16,17,18,19,20,21,22,23,24,25,26,27,28,29,30,31,32,33,34,35,36,37,38,39,40,41,42,43,44,45,46,47,48,49,50,51,52,53,54,55,56,57,58,59,60,61,62,63,64,65,66,67,68,69,70,71,72,73,74,75,76,77,78,79,80,81,82,83,84,85,86,87,88,89,90,91,92,93,94,95,96,97,98,99,100,101,102,103,104,105,106,107,108,109,110,111,112,113,114,115,116,117,118,119,120,121,122,123,124,125,126,127,128,129,130,131,132,133,134,135,136,137,138,139,140,141,142,143,144,145,146,147,148,149,150,151,152,153,154,155,156,157,158,159,160,161,162,163,164,165,166,167,168,169,170,171,172,173,174,175,176,177,178,179,180,181,182,183,184,185,186,187,188,189,190,191,192,193,194,195,196,197,198,199],\"colorbar\":{\"title\":{\"text\":\"Trial\"},\"x\":1.0,\"xpad\":40},\"colorscale\":[[0.0,\"rgb(247,251,255)\"],[0.125,\"rgb(222,235,247)\"],[0.25,\"rgb(198,219,239)\"],[0.375,\"rgb(158,202,225)\"],[0.5,\"rgb(107,174,214)\"],[0.625,\"rgb(66,146,198)\"],[0.75,\"rgb(33,113,181)\"],[0.875,\"rgb(8,81,156)\"],[1.0,\"rgb(8,48,107)\"]],\"line\":{\"color\":\"Grey\",\"width\":0.5},\"showscale\":true},\"mode\":\"markers\",\"name\":\"Feasible Trial\",\"showlegend\":false,\"x\":[0.004630842906408421,0.35854394082760926,0.002556675517754913,0.0035295361797141682,0.06433584375463593,0.001177890352595064,0.01100662200122848,0.12209006302195864,0.7880493836474172,0.01820879719061179,0.0011300129362543827,0.0010591563664633951,0.0010377694895099163,0.007334205048242388,0.002089371716528728,0.020511264502673966,0.0023160617776392385,0.0069773349544316465,0.002297992901256529,0.010262504521783775,0.03386803263183581,0.03656626224550311,0.012210484446110078,0.009641127153222214,0.005041822314788762,0.014149981398097384,0.007320633274471781,0.015895702749688326,0.003526155978112622,0.005257886688000258,0.023837448261830967,0.01187445325976655,0.011457715223340435,0.009305112802043922,0.004433103944344511,0.025499169047902656,0.014557132738505922,0.002048432462748549,0.003360165798490538,0.04512744870733528,0.001693473389195477,0.0017457849915356188,0.0016267285315017448,0.002981872636497355,0.005091896412107064,0.0013703138506887427,0.002399962712686361,0.0013967993511939324,0.0029576128917342664,0.006265121424240262,0.008934485244196703,0.0029110477540297236,0.004182511763234964,0.003991697963991485,0.006230897066420983,0.006306624927076509,0.013494856743309766,0.017293444502936774,0.009021373000439124,0.01215711593099484,0.0010155152714853366,0.004053261310215134,0.006897139239777661,0.003922035862888981,0.0021335260937814233,0.007823494613275134,0.011192781142928059,0.005386462305661687,0.005669102611207724,0.0026160471750639736,0.00535327038070376,0.01115538477593926,0.008146656176760601,0.01018667237835972,0.0044137602898335244,0.019011477878570448,0.006855485237969709,0.0034015818056205116,0.0032067380754051533,0.002022194751409343,0.0036318616933997414,0.004761908021909667,0.005973147022968245,0.011573553778194145,0.002721209289366192,0.003351526108409177,0.004760821503527003,0.002365052918188114,0.004669641067709088,0.0049438034490025635,0.0025237946002688665,0.004937002052667264,0.008038970872880786,0.008529889378444048,0.007003086293325238,0.009974143443425872,0.013911734168155214,0.0034040465393778982,0.00425661898845929,0.008360979906413378,0.00757570324476535,0.0076586972191713424,0.016205510475252018,0.00988427269881505,0.01115932917829821,0.004741501021653062,0.004573737538930603,0.002899750172585189,0.00600427120878014,0.003875900891072292,0.005250088849754436,0.007258175590231154,0.003651716476487444,0.003649337294810713,0.002363665474233544,0.0021973045423409037,0.0024487158393916245,0.001853804330296172,0.0019847436224071876,0.0017246900394312077,0.001972467703211357,0.0022082569051282254,0.0014181082207286868,0.0013437371685737303,0.001311637218983278,0.0012388357458674724,0.0014969474072866222,0.0015451158313627327,0.0011790070239465463,0.0011523057318107816,0.0013999213237234766,0.001390346236577894,0.001550557922958009,0.0014621539749375486,0.0011021530124398326,0.001000525109418235,0.0012853880420536775,0.0015226426680257034,0.0010137945592113042,0.0012195852373235415,0.0017922813436065965,0.0014488445104142344,0.0014427748619205137,0.0016361881112227628,0.0018128813594169742,0.0011477300161416282,0.001379015815957388,0.0017384024777850947,0.0010048963639975445,0.001541718537501057,0.0012504706547015916,0.0015924453078117896,0.0019402329791853535,0.0015834511396740389,0.0011484996458978266,0.0016898823616673592,0.002082917733037075,0.0017711340231400478,0.0013042007880653332,0.0028198152426982645,0.00164180817738247,0.001407984037726508,0.0013866356104871053,0.001122493713863391,0.002172299513425099,0.0018218233319237922,0.0012656601372930665,0.0016172426997008056,0.0010078464178918717,0.0022706800028016454,0.0014239551556210698,0.0016326370692627543,0.001933095753302376,0.0015872581398817098,0.001281753129901643,0.0017705856261822622,0.002486150280479519,0.0029594525129303943,0.0024796809194783708,0.002651296277175481,0.002099678528122292,0.0021424814998262454,0.0020200213367386533,0.0017188363343613783,0.0011630377973492153,0.0014936187179773726,0.002196695786330693,0.0032045099954761992,0.0025340937201587537,0.0019027373132111166,0.0014666772011586557,0.002147122376550761,0.0016523106934182702,0.0024318218437245406,0.0040677545031986406,0.005233569971414124,0.004569125782130107,0.0039673856045952536,0.0044476306772693415,0.0030807802632774623],\"y\":[0.05109123188933909,0.049198280625691315,0.0501032899770474,0.05009340729405832,0.045316276217194945,0.05180980617189551,0.04862319500613368,0.03835058628143981,0.043794058397396834,0.04847275354926522,0.04807319181817153,0.051816394627221395,0.05173862352898366,0.05096056338883491,0.05219113959024108,0.05171197368261318,0.050862419693713384,0.05120069664565727,0.051265435050582994,0.05212484136092636,0.05181753698036274,0.051951412419086934,0.05217772358241989,0.052112837164960776,0.05208255152354283,0.05211528126935595,0.05186334496180573,0.05204117253251763,0.0514295543836005,0.051929411684337574,0.05131336074980954,0.052150364034928384,0.05203572643033295,0.05202633332726154,0.051974972978225245,0.05195895346789621,0.05177677281062949,0.052071917392308154,0.051620972541019126,0.05152512114256633,0.052173977726770834,0.05210489382567674,0.05205216341190959,0.05212117140914048,0.05195890413038532,0.05177974824206711,0.052054072394069076,0.05186047200058353,0.052101523694150394,0.051491275609964214,0.05193154837808682,0.05211899676345976,0.05212327774134436,0.052021331262676565,0.05216011768134981,0.051626274425863795,0.052063233990357595,0.051479779969882046,0.05176940254551253,0.052092346917089076,0.04949892064706593,0.052174922729867665,0.052067450449958606,0.052116753804302064,0.05210769847342188,0.05198881404768022,0.052197208104104054,0.05217502140488986,0.052123129728811175,0.05210471924679123,0.05196190992336799,0.05217704424284421,0.05201116773539361,0.05211399849406775,0.05183428137258531,0.05214494449909569,0.051882875025807816,0.05218697626334422,0.05195479014099949,0.05200328891439304,0.052073541734980605,0.052151703738113814,0.05215319904421896,0.05206483935706439,0.052144124737373045,0.05210021435251014,0.05221723533841028,0.05219171266440826,0.05221203212858776,0.05225166912595235,0.05215511561676495,0.05213076945264256,0.05223151665027187,0.05214991620213553,0.052102662252098565,0.0521483981248714,0.05198458999769313,0.05189338391566842,0.05207742421758349,0.052069420155208865,0.05217549200884178,0.05217939726260358,0.052093379209628754,0.052093641077956825,0.052059188314448966,0.05218028533780306,0.05209514397444821,0.05184964810969091,0.05211482205098361,0.05216536263829728,0.05204923352278985,0.05204206060771718,0.05218548475243234,0.052174554596131274,0.052183830048214586,0.05220747030640922,0.0521289136031872,0.05221440412431274,0.052194316166916103,0.052182873659538206,0.05215146084575166,0.052149946563680834,0.052226723321310606,0.05220726157078534,0.052193291464762835,0.05210426382361204,0.05225074309882121,0.05213983616910214,0.052231922735940024,0.052139836169102144,0.05224553609380543,0.05220040745193814,0.05220058582601667,0.05217724918327487,0.05209193324103485,0.05220897320290057,0.052166360774098405,0.05216897945737895,0.052187336806694545,0.05202581338579861,0.05218819072515562,0.05220082492318572,0.052223554335021856,0.052219129139797135,0.05210430177554364,0.052162827449266286,0.05216729059642269,0.052097830971205565,0.05218392872323674,0.05220014558361007,0.05111078472449994,0.0522067036773908,0.051981170528655835,0.05218523047449065,0.052119585018399577,0.05222997580184885,0.05079315741854054,0.052041749401878064,0.052187632831761095,0.052091303238970245,0.05211734205924192,0.05221070381098157,0.052172452059120404,0.05215791267412387,0.05205412552677341,0.05217398152196395,0.052146102033009546,0.052219265766750844,0.052168531624585984,0.05159497167267892,0.05109737630706519,0.05220810789886002,0.05219058169684647,0.05220218739753017,0.05211728133615137,0.05213501627378874,0.05222943688442014,0.05220296161693488,0.05212348647696828,0.05183290371746817,0.052239228482773306,0.05222598325864435,0.05216274395501677,0.052023023918825705,0.05220410017488293,0.05200334204709734,0.052069184853232864,0.05214081153374427,0.0518497847366445,0.05185729921910164,0.05209811940588576,0.05216437209288255,0.051966938554305155,0.05223665154661759,0.052219698418771096,0.05215317247786681,0.05221592599676995,0.05159892626395175,0.0522029388457759,0.051868696184161484],\"type\":\"scatter\",\"xaxis\":\"x\",\"yaxis\":\"y\"},{\"marker\":{\"color\":[0,1,2,3,4,5,6,7,8,9,10,11,12,13,14,15,16,17,18,19,20,21,22,23,24,25,26,27,28,29,30,31,32,33,34,35,36,37,38,39,40,41,42,43,44,45,46,47,48,49,50,51,52,53,54,55,56,57,58,59,60,61,62,63,64,65,66,67,68,69,70,71,72,73,74,75,76,77,78,79,80,81,82,83,84,85,86,87,88,89,90,91,92,93,94,95,96,97,98,99,100,101,102,103,104,105,106,107,108,109,110,111,112,113,114,115,116,117,118,119,120,121,122,123,124,125,126,127,128,129,130,131,132,133,134,135,136,137,138,139,140,141,142,143,144,145,146,147,148,149,150,151,152,153,154,155,156,157,158,159,160,161,162,163,164,165,166,167,168,169,170,171,172,173,174,175,176,177,178,179,180,181,182,183,184,185,186,187,188,189,190,191,192,193,194,195,196,197,198,199],\"colorbar\":{\"title\":{\"text\":\"Trial\"},\"x\":1.0,\"xpad\":40},\"colorscale\":[[0.0,\"rgb(247,251,255)\"],[0.125,\"rgb(222,235,247)\"],[0.25,\"rgb(198,219,239)\"],[0.375,\"rgb(158,202,225)\"],[0.5,\"rgb(107,174,214)\"],[0.625,\"rgb(66,146,198)\"],[0.75,\"rgb(33,113,181)\"],[0.875,\"rgb(8,81,156)\"],[1.0,\"rgb(8,48,107)\"]],\"line\":{\"color\":\"Grey\",\"width\":0.5},\"showscale\":false},\"mode\":\"markers\",\"name\":\"Feasible Trial\",\"showlegend\":false,\"x\":[0.09313648438995077,0.18273757168891666,0.04596134707900248,0.012241133511513609,0.0097713919741744,0.013189928794525579,0.016790688715073453,0.05240759510330005,0.005106377207480128,0.040889549767388754,0.8188444183681043,0.12993591400218094,0.15263987764477058,0.027099145620330837,0.005457014698101544,0.005262488279070418,0.0898205317539908,0.023355713275560942,0.32583436034354524,0.03279257435385384,0.007170792522476288,0.00793834671347913,0.008777328477468533,0.01739994746107026,0.009356992009543815,0.02278276009786749,0.007409928443898604,0.03190282292384314,0.011977818733395356,0.005202034150063672,0.01648889662926692,0.022572769887390213,0.0352865559736072,0.05393482887397797,0.020562768588522417,0.02889732702834295,0.012508532719796097,0.01053866338151811,0.013670519668658704,0.01679310210926811,0.008820834260252134,0.0089915863301539,0.006396394292746186,0.01008813706488309,0.006367046168922097,0.013948751356490598,0.008562702759613624,0.040307380674663634,0.006275492299889019,0.010559318119004674,0.025883146919389095,0.010302064366289346,0.019964165509185363,0.0191158337245509,0.02262027546896652,0.03239203466564519,0.015143535711670788,0.022913799695524664,0.00763835328930583,0.05741306502844941,0.012587708110222837,0.01928512598432673,0.018629784786455113,0.025181501880342957,0.015557563674283867,0.04141052176337881,0.027199447097966425,0.028184438529783612,0.027804484734209507,0.008368693902146639,0.0051698371742569605,0.021833872154470715,0.011701126241633088,0.02147646190460101,0.014723043002309852,0.01805756770748267,0.027879884831228753,0.0358041445865981,0.04739272951740117,0.03180709264699081,0.03690707164309521,0.024289343316677967,0.02071983456142083,0.02960217397136998,0.016030936057864317,0.03589310801428546,0.007026560574408525,0.006789678507643188,0.006862843911043045,0.005962153700988408,0.005840524264089215,0.006997438179616357,0.007308040004319065,0.0056413691753185126,0.008119223920749295,0.007414476760821457,0.006955310921298041,0.005004613032023603,0.005959085389637839,0.00921878836172129,0.0066986900059294,0.006824810920028447,0.0077744664526812396,0.0056378346629350215,0.006660005469693468,0.009196018053569021,0.009192834763273082,0.006237486796424224,0.011043062706946941,0.009886604451755378,0.00811806714416037,0.005691790014124051,0.0074072071238164535,0.007194585095960069,0.008679828292231774,0.008626924644186195,0.008139828937964033,0.009500186722739131,0.01143878035659054,0.01136333285703297,0.013453957602280013,0.010097396882763421,0.007467643044415397,0.007509285862360903,0.0064584746557506375,0.006178287783119867,0.005524946934079737,0.005061648614008238,0.006249742495369097,0.006010994911692243,0.005590372012916345,0.005596262823424549,0.0055587067027307304,0.00531861520776969,0.005520705004863535,0.007648414128642639,0.007969381491680787,0.007467738521763956,0.006179127276104597,0.005090934524062427,0.005558574102069215,0.007116904444981211,0.0071670062856063884,0.0072214579376903495,0.00867943707474093,0.007157833240878484,0.009885315601382779,0.007747508958387722,0.00661396267208614,0.008715702430301056,0.006397349727076489,0.0075353842224612985,0.007553017124433603,0.006887827983202975,0.009522158460556224,0.008574619132735505,0.008190978277540225,0.010439915489675997,0.006112738840032054,0.008914688989868242,0.012325349290763787,0.007574816063064038,0.007829709955336382,0.0066078384061673025,0.008314831082401776,0.005983661657317236,0.00722858306746944,0.009457925888282257,0.00978781931753993,0.011282955636838683,0.008993108739256368,0.007528272600800886,0.00656286847834211,0.007983036012941654,0.0050279649174952935,0.005832813217802704,0.006902347512028123,0.006924514413009434,0.009446949785157725,0.010482674923546757,0.005847274538077709,0.006178738839514375,0.006104656355899172,0.005558690045568961,0.006442040515525278,0.007019147286496046,0.005945349254126638,0.0054022047562032206,0.0065528015024704,0.008121978140036344,0.007312490431285,0.008583986529127147,0.08004323974370275,0.006146308018596582,0.006025134767106027,0.005980564122451454,0.00631704384901976,0.005132696523679739,0.005016384349352227,0.006357572551805945],\"y\":[0.05109123188933909,0.049198280625691315,0.0501032899770474,0.05009340729405832,0.045316276217194945,0.05180980617189551,0.04862319500613368,0.03835058628143981,0.043794058397396834,0.04847275354926522,0.04807319181817153,0.051816394627221395,0.05173862352898366,0.05096056338883491,0.05219113959024108,0.05171197368261318,0.050862419693713384,0.05120069664565727,0.051265435050582994,0.05212484136092636,0.05181753698036274,0.051951412419086934,0.05217772358241989,0.052112837164960776,0.05208255152354283,0.05211528126935595,0.05186334496180573,0.05204117253251763,0.0514295543836005,0.051929411684337574,0.05131336074980954,0.052150364034928384,0.05203572643033295,0.05202633332726154,0.051974972978225245,0.05195895346789621,0.05177677281062949,0.052071917392308154,0.051620972541019126,0.05152512114256633,0.052173977726770834,0.05210489382567674,0.05205216341190959,0.05212117140914048,0.05195890413038532,0.05177974824206711,0.052054072394069076,0.05186047200058353,0.052101523694150394,0.051491275609964214,0.05193154837808682,0.05211899676345976,0.05212327774134436,0.052021331262676565,0.05216011768134981,0.051626274425863795,0.052063233990357595,0.051479779969882046,0.05176940254551253,0.052092346917089076,0.04949892064706593,0.052174922729867665,0.052067450449958606,0.052116753804302064,0.05210769847342188,0.05198881404768022,0.052197208104104054,0.05217502140488986,0.052123129728811175,0.05210471924679123,0.05196190992336799,0.05217704424284421,0.05201116773539361,0.05211399849406775,0.05183428137258531,0.05214494449909569,0.051882875025807816,0.05218697626334422,0.05195479014099949,0.05200328891439304,0.052073541734980605,0.052151703738113814,0.05215319904421896,0.05206483935706439,0.052144124737373045,0.05210021435251014,0.05221723533841028,0.05219171266440826,0.05221203212858776,0.05225166912595235,0.05215511561676495,0.05213076945264256,0.05223151665027187,0.05214991620213553,0.052102662252098565,0.0521483981248714,0.05198458999769313,0.05189338391566842,0.05207742421758349,0.052069420155208865,0.05217549200884178,0.05217939726260358,0.052093379209628754,0.052093641077956825,0.052059188314448966,0.05218028533780306,0.05209514397444821,0.05184964810969091,0.05211482205098361,0.05216536263829728,0.05204923352278985,0.05204206060771718,0.05218548475243234,0.052174554596131274,0.052183830048214586,0.05220747030640922,0.0521289136031872,0.05221440412431274,0.052194316166916103,0.052182873659538206,0.05215146084575166,0.052149946563680834,0.052226723321310606,0.05220726157078534,0.052193291464762835,0.05210426382361204,0.05225074309882121,0.05213983616910214,0.052231922735940024,0.052139836169102144,0.05224553609380543,0.05220040745193814,0.05220058582601667,0.05217724918327487,0.05209193324103485,0.05220897320290057,0.052166360774098405,0.05216897945737895,0.052187336806694545,0.05202581338579861,0.05218819072515562,0.05220082492318572,0.052223554335021856,0.052219129139797135,0.05210430177554364,0.052162827449266286,0.05216729059642269,0.052097830971205565,0.05218392872323674,0.05220014558361007,0.05111078472449994,0.0522067036773908,0.051981170528655835,0.05218523047449065,0.052119585018399577,0.05222997580184885,0.05079315741854054,0.052041749401878064,0.052187632831761095,0.052091303238970245,0.05211734205924192,0.05221070381098157,0.052172452059120404,0.05215791267412387,0.05205412552677341,0.05217398152196395,0.052146102033009546,0.052219265766750844,0.052168531624585984,0.05159497167267892,0.05109737630706519,0.05220810789886002,0.05219058169684647,0.05220218739753017,0.05211728133615137,0.05213501627378874,0.05222943688442014,0.05220296161693488,0.05212348647696828,0.05183290371746817,0.052239228482773306,0.05222598325864435,0.05216274395501677,0.052023023918825705,0.05220410017488293,0.05200334204709734,0.052069184853232864,0.05214081153374427,0.0518497847366445,0.05185729921910164,0.05209811940588576,0.05216437209288255,0.051966938554305155,0.05223665154661759,0.052219698418771096,0.05215317247786681,0.05221592599676995,0.05159892626395175,0.0522029388457759,0.051868696184161484],\"type\":\"scatter\",\"xaxis\":\"x2\",\"yaxis\":\"y2\"},{\"marker\":{\"color\":[0,1,2,3,4,5,6,7,8,9,10,11,12,13,14,15,16,17,18,19,20,21,22,23,24,25,26,27,28,29,30,31,32,33,34,35,36,37,38,39,40,41,42,43,44,45,46,47,48,49,50,51,52,53,54,55,56,57,58,59,60,61,62,63,64,65,66,67,68,69,70,71,72,73,74,75,76,77,78,79,80,81,82,83,84,85,86,87,88,89,90,91,92,93,94,95,96,97,98,99,100,101,102,103,104,105,106,107,108,109,110,111,112,113,114,115,116,117,118,119,120,121,122,123,124,125,126,127,128,129,130,131,132,133,134,135,136,137,138,139,140,141,142,143,144,145,146,147,148,149,150,151,152,153,154,155,156,157,158,159,160,161,162,163,164,165,166,167,168,169,170,171,172,173,174,175,176,177,178,179,180,181,182,183,184,185,186,187,188,189,190,191,192,193,194,195,196,197,198,199],\"colorbar\":{\"title\":{\"text\":\"Trial\"},\"x\":1.0,\"xpad\":40},\"colorscale\":[[0.0,\"rgb(247,251,255)\"],[0.125,\"rgb(222,235,247)\"],[0.25,\"rgb(198,219,239)\"],[0.375,\"rgb(158,202,225)\"],[0.5,\"rgb(107,174,214)\"],[0.625,\"rgb(66,146,198)\"],[0.75,\"rgb(33,113,181)\"],[0.875,\"rgb(8,81,156)\"],[1.0,\"rgb(8,48,107)\"]],\"line\":{\"color\":\"Grey\",\"width\":0.5},\"showscale\":false},\"mode\":\"markers\",\"name\":\"Feasible Trial\",\"showlegend\":false,\"x\":[0.45515710880672955,0.03214676102701574,0.8123091139301387,0.03055397893688916,0.01435518185289268,0.041912394948294775,0.17714280448820371,0.03439718668671571,0.022480226065386643,0.012343502405808069,0.07550541245399618,0.2766530451772389,0.12458165053607631,0.2531949181213247,0.06548379313254965,0.0725285806434202,0.21211650638190535,0.3557363835684601,0.11617688977692489,0.08615617677928139,0.0553849331013167,0.05775423105121765,0.08128656129208192,0.09091907489164255,0.12764709906395105,0.052613150721304895,0.08554558583968008,0.14495658335753345,0.09796751700738132,0.06312249005093641,0.18545438338037834,0.049527955303564984,0.04495147549361423,0.08758901280206073,0.07274882530217422,0.02694132532898635,0.04475546754628129,0.10907021719048188,0.03786695593426719,0.021567089377149132,0.0516796972070973,0.06390910280344067,0.042076876939059565,0.033372923295622796,0.053819473316390185,0.07405773975175804,0.15248968192486628,0.08773926188998409,0.10382300222874274,0.02974355425438226,0.04648641762586908,0.038319136344218914,0.035460960888879685,0.06365350950082874,0.04971268865022237,0.051297830307936235,0.07351233880993306,0.06363199492318043,0.05130205223324766,0.08059192871424288,0.12073217773115547,0.03798784650346467,0.04778642416330423,0.05899721758481125,0.09442087627232591,0.04300721335512701,0.07631354839458562,0.06661626701638282,0.06930948524331566,0.05661155581949939,0.07968718526656753,0.06642361000321671,0.06214370039713401,0.1024766205580817,0.06885057754625795,0.03909465034008157,0.07991534352416893,0.05564142545373028,0.05622078423223046,0.09686006725645827,0.11344578927557425,0.04890164622583182,0.06834756506593412,0.05680087969039206,0.08383272077894198,0.040847159473387774,0.04532461083390726,0.04383337066217433,0.03520711446700331,0.034069197683945486,0.031473101695939316,0.04479679882481675,0.028206567034910056,0.02764257296663694,0.03462056527396722,0.021494193067317365,0.025224085052547168,0.032794126593109936,0.043875898380466266,0.03652255066860035,0.04075713678363305,0.03906854019225935,0.03474390543236333,0.030276119227019338,0.05310433049808867,0.04459175878365415,0.04541890596527691,0.038523554343523066,0.05958624156023284,0.04080924390805723,0.050550061768583704,0.07186263294602244,0.06180305601435151,0.04796389262513913,0.059200672677450064,0.055149658734070475,0.06078600737231359,0.05272530635917255,0.05357632515449442,0.05428358025892271,0.07642162925617693,0.05929700399859676,0.052294821907383084,0.04859838862182982,0.047975352642861874,0.03497674328955306,0.05000638026324206,0.04746270482136514,0.04228585529642014,0.0493213256836993,0.05322103748105922,0.04087606034664475,0.04264125448709215,0.040877332862854464,0.03652764625354596,0.03196708807955058,0.029916598770644887,0.034611438422459395,0.03102210371134567,0.032777898711922694,0.04162359934216643,0.03759532440206985,0.03664308670016483,0.03770928161093156,0.027226713947588466,0.02497461597902274,0.0372504072800608,0.03212481645509433,0.027947628951194396,0.03547623257163722,0.037652292608031206,0.04329379042178967,0.04593987184751903,0.032294700780398214,0.043110317708186206,0.05070313147842521,0.051847994623617236,0.051818512347144234,0.028981479418987186,0.046402309572516204,0.02500440283511661,0.038912952437851867,0.03891504104532365,0.04665471061351368,0.05593945987433353,0.042686769717716094,0.03322723303183123,0.049999593296659435,0.04969610001256556,0.054735812879244304,0.0653793798687813,0.04379368711118215,0.048722666919981505,0.03907281600569428,0.030484655732452435,0.03390779874969162,0.05229035487172516,0.056800273937389754,0.044449254072059116,0.036978875198125906,0.053034219765134116,0.05183756575581744,0.062445841252611385,0.05230087692019896,0.041010131977341276,0.04566060004769524,0.05160084451597696,0.05985499901581619,0.0400885259299985,0.06836664600679596,0.03538664715538896,0.05386232406611706,0.0481649179564252,0.05598229248329531,0.04397960086537444,0.056338394968153224,0.049878033020682604,0.06407331070285553,0.048034878483072425,0.05989969369884237],\"y\":[0.05109123188933909,0.049198280625691315,0.0501032899770474,0.05009340729405832,0.045316276217194945,0.05180980617189551,0.04862319500613368,0.03835058628143981,0.043794058397396834,0.04847275354926522,0.04807319181817153,0.051816394627221395,0.05173862352898366,0.05096056338883491,0.05219113959024108,0.05171197368261318,0.050862419693713384,0.05120069664565727,0.051265435050582994,0.05212484136092636,0.05181753698036274,0.051951412419086934,0.05217772358241989,0.052112837164960776,0.05208255152354283,0.05211528126935595,0.05186334496180573,0.05204117253251763,0.0514295543836005,0.051929411684337574,0.05131336074980954,0.052150364034928384,0.05203572643033295,0.05202633332726154,0.051974972978225245,0.05195895346789621,0.05177677281062949,0.052071917392308154,0.051620972541019126,0.05152512114256633,0.052173977726770834,0.05210489382567674,0.05205216341190959,0.05212117140914048,0.05195890413038532,0.05177974824206711,0.052054072394069076,0.05186047200058353,0.052101523694150394,0.051491275609964214,0.05193154837808682,0.05211899676345976,0.05212327774134436,0.052021331262676565,0.05216011768134981,0.051626274425863795,0.052063233990357595,0.051479779969882046,0.05176940254551253,0.052092346917089076,0.04949892064706593,0.052174922729867665,0.052067450449958606,0.052116753804302064,0.05210769847342188,0.05198881404768022,0.052197208104104054,0.05217502140488986,0.052123129728811175,0.05210471924679123,0.05196190992336799,0.05217704424284421,0.05201116773539361,0.05211399849406775,0.05183428137258531,0.05214494449909569,0.051882875025807816,0.05218697626334422,0.05195479014099949,0.05200328891439304,0.052073541734980605,0.052151703738113814,0.05215319904421896,0.05206483935706439,0.052144124737373045,0.05210021435251014,0.05221723533841028,0.05219171266440826,0.05221203212858776,0.05225166912595235,0.05215511561676495,0.05213076945264256,0.05223151665027187,0.05214991620213553,0.052102662252098565,0.0521483981248714,0.05198458999769313,0.05189338391566842,0.05207742421758349,0.052069420155208865,0.05217549200884178,0.05217939726260358,0.052093379209628754,0.052093641077956825,0.052059188314448966,0.05218028533780306,0.05209514397444821,0.05184964810969091,0.05211482205098361,0.05216536263829728,0.05204923352278985,0.05204206060771718,0.05218548475243234,0.052174554596131274,0.052183830048214586,0.05220747030640922,0.0521289136031872,0.05221440412431274,0.052194316166916103,0.052182873659538206,0.05215146084575166,0.052149946563680834,0.052226723321310606,0.05220726157078534,0.052193291464762835,0.05210426382361204,0.05225074309882121,0.05213983616910214,0.052231922735940024,0.052139836169102144,0.05224553609380543,0.05220040745193814,0.05220058582601667,0.05217724918327487,0.05209193324103485,0.05220897320290057,0.052166360774098405,0.05216897945737895,0.052187336806694545,0.05202581338579861,0.05218819072515562,0.05220082492318572,0.052223554335021856,0.052219129139797135,0.05210430177554364,0.052162827449266286,0.05216729059642269,0.052097830971205565,0.05218392872323674,0.05220014558361007,0.05111078472449994,0.0522067036773908,0.051981170528655835,0.05218523047449065,0.052119585018399577,0.05222997580184885,0.05079315741854054,0.052041749401878064,0.052187632831761095,0.052091303238970245,0.05211734205924192,0.05221070381098157,0.052172452059120404,0.05215791267412387,0.05205412552677341,0.05217398152196395,0.052146102033009546,0.052219265766750844,0.052168531624585984,0.05159497167267892,0.05109737630706519,0.05220810789886002,0.05219058169684647,0.05220218739753017,0.05211728133615137,0.05213501627378874,0.05222943688442014,0.05220296161693488,0.05212348647696828,0.05183290371746817,0.052239228482773306,0.05222598325864435,0.05216274395501677,0.052023023918825705,0.05220410017488293,0.05200334204709734,0.052069184853232864,0.05214081153374427,0.0518497847366445,0.05185729921910164,0.05209811940588576,0.05216437209288255,0.051966938554305155,0.05223665154661759,0.052219698418771096,0.05215317247786681,0.05221592599676995,0.05159892626395175,0.0522029388457759,0.051868696184161484],\"type\":\"scatter\",\"xaxis\":\"x3\",\"yaxis\":\"y3\"},{\"marker\":{\"color\":[0,1,2,3,4,5,6,7,8,9,10,11,12,13,14,15,16,17,18,19,20,21,22,23,24,25,26,27,28,29,30,31,32,33,34,35,36,37,38,39,40,41,42,43,44,45,46,47,48,49,50,51,52,53,54,55,56,57,58,59,60,61,62,63,64,65,66,67,68,69,70,71,72,73,74,75,76,77,78,79,80,81,82,83,84,85,86,87,88,89,90,91,92,93,94,95,96,97,98,99,100,101,102,103,104,105,106,107,108,109,110,111,112,113,114,115,116,117,118,119,120,121,122,123,124,125,126,127,128,129,130,131,132,133,134,135,136,137,138,139,140,141,142,143,144,145,146,147,148,149,150,151,152,153,154,155,156,157,158,159,160,161,162,163,164,165,166,167,168,169,170,171,172,173,174,175,176,177,178,179,180,181,182,183,184,185,186,187,188,189,190,191,192,193,194,195,196,197,198,199],\"colorbar\":{\"title\":{\"text\":\"Trial\"},\"x\":1.0,\"xpad\":40},\"colorscale\":[[0.0,\"rgb(247,251,255)\"],[0.125,\"rgb(222,235,247)\"],[0.25,\"rgb(198,219,239)\"],[0.375,\"rgb(158,202,225)\"],[0.5,\"rgb(107,174,214)\"],[0.625,\"rgb(66,146,198)\"],[0.75,\"rgb(33,113,181)\"],[0.875,\"rgb(8,81,156)\"],[1.0,\"rgb(8,48,107)\"]],\"line\":{\"color\":\"Grey\",\"width\":0.5},\"showscale\":false},\"mode\":\"markers\",\"name\":\"Feasible Trial\",\"showlegend\":false,\"x\":[0.0004872489959520195,0.0010708276366613004,0.0003736376746149545,0.00015608634807628058,0.00018571802140233807,0.00010117041626736747,0.00020322048904219424,0.001213912202422562,0.017653247068489083,0.012203845188852688,0.12662165476968162,0.0001005898973972124,0.00017350712338148224,0.0010901201528922416,0.00011703505869646565,0.00010711337738943771,0.0005052796055571032,0.002708372976844264,0.00033080009369130576,0.00037955706483668787,0.0007113058698964074,0.0006673752379741023,0.0003046068620159573,0.00025251631323855797,0.0003089012795684082,0.002037690650942564,0.0003033815392570446,0.0005840844491406523,0.00022932511098614497,0.0004280157893936465,0.0001680140587638613,0.001961051434146826,0.000992367147674407,0.00045529315404770954,0.0016254827145349838,0.0007766062978515404,0.00038690080196482433,0.0001414443326248569,0.00014450589714536062,0.00030191371660744635,0.00022163157180490667,0.0001968127416729604,0.00023038244581159064,0.0005017499045675884,0.00012025564046738206,0.00016182051502746086,0.00010024640624653252,0.00022628786835368736,0.00038245264616342103,0.0043161217993621,0.0008465367962461552,0.0004430729120181601,0.000594248133440177,0.0006205257218636229,0.0012072592729820827,0.0013124374102007285,0.0009990300382569143,0.00027750404924328575,0.00019770312623543465,0.00013301246696512153,0.0003473882036209663,0.0007246501200064105,0.0014782674291290469,0.0009037501156392616,0.0007344220926659583,0.00026456537180539515,0.0011566374265925322,0.0011629865902164553,0.0013360555783452973,0.001205225904551889,0.0005132614594706591,0.0018817632009187535,0.0017440114241834245,0.002709282210785279,0.0010722519652266783,0.0008758335592015747,0.0007026805921117553,0.0023030306201548946,0.0022544713588573393,0.00018773203497783681,0.0017447219507371646,0.001238328096744013,0.002418908965556787,0.0010770268262738707,0.002943993264789307,0.0015424263524180378,0.0019041858155219324,0.0020437517653681863,0.002026603924072543,0.003321344691440341,0.0032057102721231258,0.001926716413037881,0.003368219602358018,0.004281317744741084,0.003706373076253063,0.005073079037186023,0.0022613133459508748,0.001980596915977045,0.0033066842102574207,0.0025185736005091763,0.0053688230531419474,0.005009655311048772,0.0026365827177842176,0.0035076683245723207,0.001668283676550641,0.0021892872645145364,0.0014616650763165262,0.002151710184764595,0.003780865297546559,0.006341630331709019,0.0027611420353195813,0.0019083838484917925,0.002886346867709262,0.00293770820993822,0.00217209670897225,0.0023047108503581122,0.0024066538169409232,0.0021651036780293126,0.0031202651521288656,0.003084406698511974,0.0013970790003420496,0.0016863183684567057,0.0026712408294292975,0.0038284778172831217,0.003503895823486627,0.00323039260477944,0.003873904468586457,0.0036927787209564333,0.0038498578158002073,0.004707009554150284,0.004229751213396948,0.003965625317469243,0.004111353084487142,0.00647471987662559,0.004161501542296728,0.003885401252593281,0.004113101985158331,0.005866802831961274,0.004809913930001233,0.004111256036742686,0.007215208843116083,0.002535317749158834,0.0036229666957127015,0.0028103005542088697,0.0024985117708904224,0.00290028250738371,0.003390024749111185,0.0024932054992571834,0.0027188147893706387,0.003502147086627837,0.0018760233576711719,0.005086528115378539,0.0045510093598810555,0.005588543189853612,0.00473906332410229,0.0031240226268401954,0.0031983423039668077,0.007663316216930967,0.00364571012481232,0.0029084138212483717,0.005446891560289744,0.0025107386341136615,0.0020896987877951027,0.003711114792376929,0.0027215039665062202,0.004520128129875317,0.0033201210565604886,0.0022840239884257397,0.0016662266772012474,0.002485243474613152,0.0021148379950146397,0.0030513454364956187,0.0030829823505414394,0.002357156593168792,0.002763786583754891,0.00390683241752035,0.0018457227069494282,0.0018707257729063563,0.0014969678350615515,0.0017490294871309057,0.002270152257601629,0.0021863219626163193,0.002268360664098258,0.0018994205898309484,0.0029460176958957677,0.0021019729601388284,0.0015469938186112755,0.0025846391025628355,0.003543216948415217,0.0031245706557005122,0.0025587025757146955,0.0023156339823750083,0.0019864057901591205,0.0028726853448214967,0.003049905210934935,0.004226912167570992,0.002744790348589591,0.0027093833929485306,0.002189800888608887,0.00327877252119434],\"y\":[0.05109123188933909,0.049198280625691315,0.0501032899770474,0.05009340729405832,0.045316276217194945,0.05180980617189551,0.04862319500613368,0.03835058628143981,0.043794058397396834,0.04847275354926522,0.04807319181817153,0.051816394627221395,0.05173862352898366,0.05096056338883491,0.05219113959024108,0.05171197368261318,0.050862419693713384,0.05120069664565727,0.051265435050582994,0.05212484136092636,0.05181753698036274,0.051951412419086934,0.05217772358241989,0.052112837164960776,0.05208255152354283,0.05211528126935595,0.05186334496180573,0.05204117253251763,0.0514295543836005,0.051929411684337574,0.05131336074980954,0.052150364034928384,0.05203572643033295,0.05202633332726154,0.051974972978225245,0.05195895346789621,0.05177677281062949,0.052071917392308154,0.051620972541019126,0.05152512114256633,0.052173977726770834,0.05210489382567674,0.05205216341190959,0.05212117140914048,0.05195890413038532,0.05177974824206711,0.052054072394069076,0.05186047200058353,0.052101523694150394,0.051491275609964214,0.05193154837808682,0.05211899676345976,0.05212327774134436,0.052021331262676565,0.05216011768134981,0.051626274425863795,0.052063233990357595,0.051479779969882046,0.05176940254551253,0.052092346917089076,0.04949892064706593,0.052174922729867665,0.052067450449958606,0.052116753804302064,0.05210769847342188,0.05198881404768022,0.052197208104104054,0.05217502140488986,0.052123129728811175,0.05210471924679123,0.05196190992336799,0.05217704424284421,0.05201116773539361,0.05211399849406775,0.05183428137258531,0.05214494449909569,0.051882875025807816,0.05218697626334422,0.05195479014099949,0.05200328891439304,0.052073541734980605,0.052151703738113814,0.05215319904421896,0.05206483935706439,0.052144124737373045,0.05210021435251014,0.05221723533841028,0.05219171266440826,0.05221203212858776,0.05225166912595235,0.05215511561676495,0.05213076945264256,0.05223151665027187,0.05214991620213553,0.052102662252098565,0.0521483981248714,0.05198458999769313,0.05189338391566842,0.05207742421758349,0.052069420155208865,0.05217549200884178,0.05217939726260358,0.052093379209628754,0.052093641077956825,0.052059188314448966,0.05218028533780306,0.05209514397444821,0.05184964810969091,0.05211482205098361,0.05216536263829728,0.05204923352278985,0.05204206060771718,0.05218548475243234,0.052174554596131274,0.052183830048214586,0.05220747030640922,0.0521289136031872,0.05221440412431274,0.052194316166916103,0.052182873659538206,0.05215146084575166,0.052149946563680834,0.052226723321310606,0.05220726157078534,0.052193291464762835,0.05210426382361204,0.05225074309882121,0.05213983616910214,0.052231922735940024,0.052139836169102144,0.05224553609380543,0.05220040745193814,0.05220058582601667,0.05217724918327487,0.05209193324103485,0.05220897320290057,0.052166360774098405,0.05216897945737895,0.052187336806694545,0.05202581338579861,0.05218819072515562,0.05220082492318572,0.052223554335021856,0.052219129139797135,0.05210430177554364,0.052162827449266286,0.05216729059642269,0.052097830971205565,0.05218392872323674,0.05220014558361007,0.05111078472449994,0.0522067036773908,0.051981170528655835,0.05218523047449065,0.052119585018399577,0.05222997580184885,0.05079315741854054,0.052041749401878064,0.052187632831761095,0.052091303238970245,0.05211734205924192,0.05221070381098157,0.052172452059120404,0.05215791267412387,0.05205412552677341,0.05217398152196395,0.052146102033009546,0.052219265766750844,0.052168531624585984,0.05159497167267892,0.05109737630706519,0.05220810789886002,0.05219058169684647,0.05220218739753017,0.05211728133615137,0.05213501627378874,0.05222943688442014,0.05220296161693488,0.05212348647696828,0.05183290371746817,0.052239228482773306,0.05222598325864435,0.05216274395501677,0.052023023918825705,0.05220410017488293,0.05200334204709734,0.052069184853232864,0.05214081153374427,0.0518497847366445,0.05185729921910164,0.05209811940588576,0.05216437209288255,0.051966938554305155,0.05223665154661759,0.052219698418771096,0.05215317247786681,0.05221592599676995,0.05159892626395175,0.0522029388457759,0.051868696184161484],\"type\":\"scatter\",\"xaxis\":\"x4\",\"yaxis\":\"y4\"},{\"marker\":{\"color\":[0,1,2,3,4,5,6,7,8,9,10,11,12,13,14,15,16,17,18,19,20,21,22,23,24,25,26,27,28,29,30,31,32,33,34,35,36,37,38,39,40,41,42,43,44,45,46,47,48,49,50,51,52,53,54,55,56,57,58,59,60,61,62,63,64,65,66,67,68,69,70,71,72,73,74,75,76,77,78,79,80,81,82,83,84,85,86,87,88,89,90,91,92,93,94,95,96,97,98,99,100,101,102,103,104,105,106,107,108,109,110,111,112,113,114,115,116,117,118,119,120,121,122,123,124,125,126,127,128,129,130,131,132,133,134,135,136,137,138,139,140,141,142,143,144,145,146,147,148,149,150,151,152,153,154,155,156,157,158,159,160,161,162,163,164,165,166,167,168,169,170,171,172,173,174,175,176,177,178,179,180,181,182,183,184,185,186,187,188,189,190,191,192,193,194,195,196,197,198,199],\"colorbar\":{\"title\":{\"text\":\"Trial\"},\"x\":1.0,\"xpad\":40},\"colorscale\":[[0.0,\"rgb(247,251,255)\"],[0.125,\"rgb(222,235,247)\"],[0.25,\"rgb(198,219,239)\"],[0.375,\"rgb(158,202,225)\"],[0.5,\"rgb(107,174,214)\"],[0.625,\"rgb(66,146,198)\"],[0.75,\"rgb(33,113,181)\"],[0.875,\"rgb(8,81,156)\"],[1.0,\"rgb(8,48,107)\"]],\"line\":{\"color\":\"Grey\",\"width\":0.5},\"showscale\":false},\"mode\":\"markers\",\"name\":\"Feasible Trial\",\"showlegend\":false,\"x\":[0.37522622318903787,0.016853471912978153,0.15286097568276993,0.1043363143517648,0.08687974205025423,0.7265759841495374,0.08127032557938332,0.010142359593293706,0.013901976411195217,0.03097033297043655,0.7922217117906136,0.7028217546218967,0.9884403758952283,0.4522574108708913,0.43461164502491273,0.2846429988467049,0.2684275473670985,0.5476684299312217,0.5879788672368286,0.2052597465515047,0.2081857719835616,0.20729313290210463,0.18845410989466116,0.3576087981557237,0.15151455133182823,0.4684297492607676,0.2990300231624181,0.37471596060725276,0.19371989379457377,0.37570820910614927,0.11399326406382373,0.5458319131415591,0.5024844262253944,0.2474275545979153,0.3477234708827825,0.1531106356117998,0.44130240196878434,0.6382071626416356,0.30373686061665495,0.9504486023750339,0.06214216945607826,0.056686767128620134,0.06225092876110425,0.1256163629858721,0.09311149230211234,0.7791702190254415,0.23237550608048624,0.17473092968077805,0.2453692302670944,0.13404775459862137,0.10263315692421156,0.12126681608860611,0.174665157015997,0.16893360013068762,0.2088147650836141,0.6067634357462458,0.22180324115241437,0.3063198558592036,0.4118493139434727,0.4797227399141279,0.3372069518942662,0.2061604424372063,0.2713349135133147,0.20830029847692402,0.2617308351265375,0.5226254629205315,0.409579305258483,0.4033825244307272,0.3743149621384286,0.40104572973138825,0.33972937971992434,0.5565382788237426,0.6755040734229372,0.43894194479844245,0.5650805413203552,0.29959539411071906,0.4658318380895205,0.41885235060941345,0.7084572480234181,0.5378996252693738,0.42193620284715605,0.33122007252772434,0.2782157182942835,0.39760259645076507,0.23008041705815696,0.6200870249041044,0.4893812357266503,0.49421937635281993,0.49497990359369615,0.4828549014067903,0.5166724976813095,0.4477689998443338,0.48755180979788626,0.6606062806430959,0.5033938485273919,0.5764454269715839,0.759455684874102,0.8503596865115401,0.5859128697151351,0.4665441899181366,0.49203564082454343,0.4982816875524024,0.3716395103552688,0.6353630332492363,0.5457052904424987,0.43684082479359493,0.44624630033820584,0.3600090590376327,0.32168674758378957,0.39542204285088167,0.49015989788944353,0.5984549119955285,0.4245206438272772,0.436190767418628,0.3830194039207885,0.3732015192545834,0.36032794957692,0.4139833451028606,0.3192566370519826,0.31923408399607006,0.29095461056300864,0.397243642583519,0.3495414459776783,0.33731000384935117,0.34259621587167766,0.3447731000705331,0.31305067079175003,0.2580016142948468,0.29362126333316113,0.29511399386186693,0.3194171170866627,0.33677572712612447,0.3122602741909175,0.2857216911381359,0.26942445385270636,0.36295013315749963,0.2371686511395167,0.3130190336717257,0.3572694087267692,0.2592125276726754,0.3755575607254961,0.3305820295608939,0.32852415599495116,0.3070319053509359,0.27966547388687457,0.2475910690025612,0.38938625491195883,0.35510221081658844,0.2955919437887515,0.46331082910908544,0.31950603668441674,0.3041971547333068,0.2267029067609761,0.36790684065950163,0.27562348760614935,0.3376765127351218,0.4114672703166397,0.5158926769169319,0.4568654373987141,0.39434391044881983,0.29309639152039807,0.3530509054193439,0.36508992041298993,0.34038121810068706,0.2464320431800801,0.4224745791039167,0.3126810232640541,0.37610861460622036,0.5377220240756299,0.47116844733533536,0.38056106642950654,0.3444328557893107,0.3452146801247452,0.4177648506961451,0.4454520948536776,0.2695450181986125,0.37724381318166106,0.3856435375088698,0.4942402289024986,0.5713584547988554,0.41313699668045617,0.41675966113575413,0.43010443321265274,0.47303615515398173,0.4084804642622466,0.3507121519948454,0.5098121239917874,0.32268983994046907,0.3849031181313979,0.45129641450320646,0.29473549977984104,0.36494006460649886,0.405966889077983,0.33552310237917454,0.3129447304886827,0.3137957182878515,0.28636306691642793,0.25670361668757075,0.29881601220798415,0.6550301237836478],\"y\":[0.05109123188933909,0.049198280625691315,0.0501032899770474,0.05009340729405832,0.045316276217194945,0.05180980617189551,0.04862319500613368,0.03835058628143981,0.043794058397396834,0.04847275354926522,0.04807319181817153,0.051816394627221395,0.05173862352898366,0.05096056338883491,0.05219113959024108,0.05171197368261318,0.050862419693713384,0.05120069664565727,0.051265435050582994,0.05212484136092636,0.05181753698036274,0.051951412419086934,0.05217772358241989,0.052112837164960776,0.05208255152354283,0.05211528126935595,0.05186334496180573,0.05204117253251763,0.0514295543836005,0.051929411684337574,0.05131336074980954,0.052150364034928384,0.05203572643033295,0.05202633332726154,0.051974972978225245,0.05195895346789621,0.05177677281062949,0.052071917392308154,0.051620972541019126,0.05152512114256633,0.052173977726770834,0.05210489382567674,0.05205216341190959,0.05212117140914048,0.05195890413038532,0.05177974824206711,0.052054072394069076,0.05186047200058353,0.052101523694150394,0.051491275609964214,0.05193154837808682,0.05211899676345976,0.05212327774134436,0.052021331262676565,0.05216011768134981,0.051626274425863795,0.052063233990357595,0.051479779969882046,0.05176940254551253,0.052092346917089076,0.04949892064706593,0.052174922729867665,0.052067450449958606,0.052116753804302064,0.05210769847342188,0.05198881404768022,0.052197208104104054,0.05217502140488986,0.052123129728811175,0.05210471924679123,0.05196190992336799,0.05217704424284421,0.05201116773539361,0.05211399849406775,0.05183428137258531,0.05214494449909569,0.051882875025807816,0.05218697626334422,0.05195479014099949,0.05200328891439304,0.052073541734980605,0.052151703738113814,0.05215319904421896,0.05206483935706439,0.052144124737373045,0.05210021435251014,0.05221723533841028,0.05219171266440826,0.05221203212858776,0.05225166912595235,0.05215511561676495,0.05213076945264256,0.05223151665027187,0.05214991620213553,0.052102662252098565,0.0521483981248714,0.05198458999769313,0.05189338391566842,0.05207742421758349,0.052069420155208865,0.05217549200884178,0.05217939726260358,0.052093379209628754,0.052093641077956825,0.052059188314448966,0.05218028533780306,0.05209514397444821,0.05184964810969091,0.05211482205098361,0.05216536263829728,0.05204923352278985,0.05204206060771718,0.05218548475243234,0.052174554596131274,0.052183830048214586,0.05220747030640922,0.0521289136031872,0.05221440412431274,0.052194316166916103,0.052182873659538206,0.05215146084575166,0.052149946563680834,0.052226723321310606,0.05220726157078534,0.052193291464762835,0.05210426382361204,0.05225074309882121,0.05213983616910214,0.052231922735940024,0.052139836169102144,0.05224553609380543,0.05220040745193814,0.05220058582601667,0.05217724918327487,0.05209193324103485,0.05220897320290057,0.052166360774098405,0.05216897945737895,0.052187336806694545,0.05202581338579861,0.05218819072515562,0.05220082492318572,0.052223554335021856,0.052219129139797135,0.05210430177554364,0.052162827449266286,0.05216729059642269,0.052097830971205565,0.05218392872323674,0.05220014558361007,0.05111078472449994,0.0522067036773908,0.051981170528655835,0.05218523047449065,0.052119585018399577,0.05222997580184885,0.05079315741854054,0.052041749401878064,0.052187632831761095,0.052091303238970245,0.05211734205924192,0.05221070381098157,0.052172452059120404,0.05215791267412387,0.05205412552677341,0.05217398152196395,0.052146102033009546,0.052219265766750844,0.052168531624585984,0.05159497167267892,0.05109737630706519,0.05220810789886002,0.05219058169684647,0.05220218739753017,0.05211728133615137,0.05213501627378874,0.05222943688442014,0.05220296161693488,0.05212348647696828,0.05183290371746817,0.052239228482773306,0.05222598325864435,0.05216274395501677,0.052023023918825705,0.05220410017488293,0.05200334204709734,0.052069184853232864,0.05214081153374427,0.0518497847366445,0.05185729921910164,0.05209811940588576,0.05216437209288255,0.051966938554305155,0.05223665154661759,0.052219698418771096,0.05215317247786681,0.05221592599676995,0.05159892626395175,0.0522029388457759,0.051868696184161484],\"type\":\"scatter\",\"xaxis\":\"x5\",\"yaxis\":\"y5\"},{\"marker\":{\"color\":[0,1,2,3,4,5,6,7,8,9,10,11,12,13,14,15,16,17,18,19,20,21,22,23,24,25,26,27,28,29,30,31,32,33,34,35,36,37,38,39,40,41,42,43,44,45,46,47,48,49,50,51,52,53,54,55,56,57,58,59,60,61,62,63,64,65,66,67,68,69,70,71,72,73,74,75,76,77,78,79,80,81,82,83,84,85,86,87,88,89,90,91,92,93,94,95,96,97,98,99,100,101,102,103,104,105,106,107,108,109,110,111,112,113,114,115,116,117,118,119,120,121,122,123,124,125,126,127,128,129,130,131,132,133,134,135,136,137,138,139,140,141,142,143,144,145,146,147,148,149,150,151,152,153,154,155,156,157,158,159,160,161,162,163,164,165,166,167,168,169,170,171,172,173,174,175,176,177,178,179,180,181,182,183,184,185,186,187,188,189,190,191,192,193,194,195,196,197,198,199],\"colorbar\":{\"title\":{\"text\":\"Trial\"},\"x\":1.0,\"xpad\":40},\"colorscale\":[[0.0,\"rgb(247,251,255)\"],[0.125,\"rgb(222,235,247)\"],[0.25,\"rgb(198,219,239)\"],[0.375,\"rgb(158,202,225)\"],[0.5,\"rgb(107,174,214)\"],[0.625,\"rgb(66,146,198)\"],[0.75,\"rgb(33,113,181)\"],[0.875,\"rgb(8,81,156)\"],[1.0,\"rgb(8,48,107)\"]],\"line\":{\"color\":\"Grey\",\"width\":0.5},\"showscale\":false},\"mode\":\"markers\",\"name\":\"Feasible Trial\",\"showlegend\":false,\"x\":[0.07658491356966007,0.29655542781905025,0.03234490412023397,0.06827109098168377,0.4278458517993925,0.061187997535207685,0.04405034716017645,0.15638884533524702,0.10011483655976566,0.8944902107644945,0.010013182495778651,0.030731372750508988,0.01995053972764337,0.02824543833769437,0.05214809619675215,0.018108564130857905,0.043546279480010545,0.10655941620731268,0.011177123562667129,0.04579046217548965,0.14620502181815193,0.14807164369523548,0.06367793147033325,0.051055874282877944,0.07520325907499685,0.04668663393230295,0.036898047955435324,0.05809048559913269,0.027039397070037142,0.08003833244107678,0.08070779023751605,0.04838561879383438,0.05731522809494352,0.040558275819662655,0.03719752211620065,0.054156441068775416,0.06992591949018062,0.10896635020962145,0.0506288942686497,0.0687541474898114,0.08892375548538327,0.087012778770314,0.061827356505720445,0.12032388100873936,0.09192454237533103,0.22200669390499062,0.06648194732801613,0.034228627408291516,0.046685690469865045,0.09312947203824595,0.026225075256266127,0.11508105317900075,0.130193046812663,0.04140340797661787,0.06278581336558638,0.0650537759274758,0.052723931593939226,0.03276908830640947,0.07721467569999652,0.046158311380398644,0.05685368598269655,0.08570122189829864,0.0920806364643605,0.07468537179406652,0.10201240293246634,0.05801020840964565,0.042172789289564784,0.04006484770916316,0.04090127591004938,0.08188464278434532,0.06861723093823416,0.0515005876782348,0.03719354630213159,0.060693660435514496,0.05038967518382861,0.08367250804265211,0.028773609900783197,0.07169515541795377,0.07513851221537854,0.04271393495183934,0.09974462149128374,0.06151333212954684,0.0521785245442952,0.06934218562997983,0.05824575387042742,0.08733877271273546,0.048306206915528595,0.04877672618661303,0.04547080472854896,0.036876076567740015,0.03507353445891817,0.04510509479661928,0.03884418258669048,0.030572281330720114,0.04941301647979529,0.037720913653838575,0.045119411094473726,0.05511075394725897,0.03970534586322617,0.03311695808668965,0.04963789717097496,0.05033761218367041,0.04421446428056008,0.05474026407522052,0.035270320604777694,0.04934032916766566,0.04204467407321694,0.046778389253632494,0.03824975646137789,0.06302128244116474,0.048861713203136176,0.052936808206380005,0.04278632000122704,0.030869176804650362,0.04109138876908908,0.03584949482564687,0.02650861554532622,0.03518389449357695,0.03517938008714639,0.03419244655724923,0.02419704009431752,0.0392804837042195,0.036126422173812775,0.031963883990138754,0.035123855018905296,0.03109134792587425,0.03505230829476789,0.028892693737849452,0.03588878233237851,0.024077574502681026,0.035619260907222304,0.03474536038402759,0.03136806051604585,0.03161145104346986,0.02870493256309373,0.03240765393643754,0.03266403532536332,0.036513087490173415,0.02538187969257873,0.02850917085770235,0.03277244271560885,0.037946172644402434,0.038072073631578066,0.03725757307253092,0.038913198828886816,0.03791879625112023,0.021976922019935723,0.027247273918293638,0.029581204709205645,0.03678514330322531,0.04270631711082525,0.03158758959480375,0.032134551048349225,0.03641187237993951,0.02717757425317192,0.04082660059293328,0.04227926703994138,0.034389946263396046,0.044247946119411366,0.029174506616455344,0.03265612839753367,0.03895027803984506,0.04035113242872756,0.03943626548444486,0.04593602912214844,0.030594109241917102,0.03445063322767558,0.025664536377176327,0.02466957679045211,0.02312150458990971,0.026535957065351858,0.02111741645825195,0.020752078273386456,0.017413154544489422,0.037878080266703675,0.04491518253260226,0.0361477891246449,0.04031679287829724,0.03539437346602532,0.04507817890528156,0.03664498877962248,0.03690762655708961,0.04036476857586103,0.037101499110394585,0.02928717114334935,0.03339281527105126,0.043521201451204694,0.03724781547192677,0.04122153913798166,0.02627800015249436,0.04656312416243627,0.035124639327407094,0.03391383975729427,0.03818964285854627,0.03917136409422973,0.04032210843113216,0.0386923443876697,0.04281349653001735,0.04780049878580867,0.037067999547439584],\"y\":[0.05109123188933909,0.049198280625691315,0.0501032899770474,0.05009340729405832,0.045316276217194945,0.05180980617189551,0.04862319500613368,0.03835058628143981,0.043794058397396834,0.04847275354926522,0.04807319181817153,0.051816394627221395,0.05173862352898366,0.05096056338883491,0.05219113959024108,0.05171197368261318,0.050862419693713384,0.05120069664565727,0.051265435050582994,0.05212484136092636,0.05181753698036274,0.051951412419086934,0.05217772358241989,0.052112837164960776,0.05208255152354283,0.05211528126935595,0.05186334496180573,0.05204117253251763,0.0514295543836005,0.051929411684337574,0.05131336074980954,0.052150364034928384,0.05203572643033295,0.05202633332726154,0.051974972978225245,0.05195895346789621,0.05177677281062949,0.052071917392308154,0.051620972541019126,0.05152512114256633,0.052173977726770834,0.05210489382567674,0.05205216341190959,0.05212117140914048,0.05195890413038532,0.05177974824206711,0.052054072394069076,0.05186047200058353,0.052101523694150394,0.051491275609964214,0.05193154837808682,0.05211899676345976,0.05212327774134436,0.052021331262676565,0.05216011768134981,0.051626274425863795,0.052063233990357595,0.051479779969882046,0.05176940254551253,0.052092346917089076,0.04949892064706593,0.052174922729867665,0.052067450449958606,0.052116753804302064,0.05210769847342188,0.05198881404768022,0.052197208104104054,0.05217502140488986,0.052123129728811175,0.05210471924679123,0.05196190992336799,0.05217704424284421,0.05201116773539361,0.05211399849406775,0.05183428137258531,0.05214494449909569,0.051882875025807816,0.05218697626334422,0.05195479014099949,0.05200328891439304,0.052073541734980605,0.052151703738113814,0.05215319904421896,0.05206483935706439,0.052144124737373045,0.05210021435251014,0.05221723533841028,0.05219171266440826,0.05221203212858776,0.05225166912595235,0.05215511561676495,0.05213076945264256,0.05223151665027187,0.05214991620213553,0.052102662252098565,0.0521483981248714,0.05198458999769313,0.05189338391566842,0.05207742421758349,0.052069420155208865,0.05217549200884178,0.05217939726260358,0.052093379209628754,0.052093641077956825,0.052059188314448966,0.05218028533780306,0.05209514397444821,0.05184964810969091,0.05211482205098361,0.05216536263829728,0.05204923352278985,0.05204206060771718,0.05218548475243234,0.052174554596131274,0.052183830048214586,0.05220747030640922,0.0521289136031872,0.05221440412431274,0.052194316166916103,0.052182873659538206,0.05215146084575166,0.052149946563680834,0.052226723321310606,0.05220726157078534,0.052193291464762835,0.05210426382361204,0.05225074309882121,0.05213983616910214,0.052231922735940024,0.052139836169102144,0.05224553609380543,0.05220040745193814,0.05220058582601667,0.05217724918327487,0.05209193324103485,0.05220897320290057,0.052166360774098405,0.05216897945737895,0.052187336806694545,0.05202581338579861,0.05218819072515562,0.05220082492318572,0.052223554335021856,0.052219129139797135,0.05210430177554364,0.052162827449266286,0.05216729059642269,0.052097830971205565,0.05218392872323674,0.05220014558361007,0.05111078472449994,0.0522067036773908,0.051981170528655835,0.05218523047449065,0.052119585018399577,0.05222997580184885,0.05079315741854054,0.052041749401878064,0.052187632831761095,0.052091303238970245,0.05211734205924192,0.05221070381098157,0.052172452059120404,0.05215791267412387,0.05205412552677341,0.05217398152196395,0.052146102033009546,0.052219265766750844,0.052168531624585984,0.05159497167267892,0.05109737630706519,0.05220810789886002,0.05219058169684647,0.05220218739753017,0.05211728133615137,0.05213501627378874,0.05222943688442014,0.05220296161693488,0.05212348647696828,0.05183290371746817,0.052239228482773306,0.05222598325864435,0.05216274395501677,0.052023023918825705,0.05220410017488293,0.05200334204709734,0.052069184853232864,0.05214081153374427,0.0518497847366445,0.05185729921910164,0.05209811940588576,0.05216437209288255,0.051966938554305155,0.05223665154661759,0.052219698418771096,0.05215317247786681,0.05221592599676995,0.05159892626395175,0.0522029388457759,0.051868696184161484],\"type\":\"scatter\",\"xaxis\":\"x6\",\"yaxis\":\"y6\"},{\"marker\":{\"color\":[0,1,2,3,4,5,6,7,8,9,10,11,12,13,14,15,16,17,18,19,20,21,22,23,24,25,26,27,28,29,30,31,32,33,34,35,36,37,38,39,40,41,42,43,44,45,46,47,48,49,50,51,52,53,54,55,56,57,58,59,60,61,62,63,64,65,66,67,68,69,70,71,72,73,74,75,76,77,78,79,80,81,82,83,84,85,86,87,88,89,90,91,92,93,94,95,96,97,98,99,100,101,102,103,104,105,106,107,108,109,110,111,112,113,114,115,116,117,118,119,120,121,122,123,124,125,126,127,128,129,130,131,132,133,134,135,136,137,138,139,140,141,142,143,144,145,146,147,148,149,150,151,152,153,154,155,156,157,158,159,160,161,162,163,164,165,166,167,168,169,170,171,172,173,174,175,176,177,178,179,180,181,182,183,184,185,186,187,188,189,190,191,192,193,194,195,196,197,198,199],\"colorbar\":{\"title\":{\"text\":\"Trial\"},\"x\":1.0,\"xpad\":40},\"colorscale\":[[0.0,\"rgb(247,251,255)\"],[0.125,\"rgb(222,235,247)\"],[0.25,\"rgb(198,219,239)\"],[0.375,\"rgb(158,202,225)\"],[0.5,\"rgb(107,174,214)\"],[0.625,\"rgb(66,146,198)\"],[0.75,\"rgb(33,113,181)\"],[0.875,\"rgb(8,81,156)\"],[1.0,\"rgb(8,48,107)\"]],\"line\":{\"color\":\"Grey\",\"width\":0.5},\"showscale\":false},\"mode\":\"markers\",\"name\":\"Feasible Trial\",\"showlegend\":false,\"x\":[0.004465566412666983,0.019632831120780497,0.05696400509594551,0.0008212868882766353,0.09423930351561034,0.0019465137563380662,0.001222363730534966,0.01401122655128085,0.003632460736184839,0.0008798183748483191,0.0001665019418574519,0.004996995481595149,0.011178809084805773,0.002341043915494834,0.00033628975736923013,0.00019452614291989075,0.0004120498273701213,0.00010386160559133939,0.007112132014837422,0.00039375965691193716,0.0004065779663752933,0.0005636162574617596,0.0004225058959430052,0.0002925428216728437,0.0002953256574570209,0.0005910271895222833,0.00011281926033613826,0.0013504202209059046,0.00020863372890023163,0.0006645525231547225,0.00029905491279349236,0.0006657633491427998,0.00042948556714328726,0.0011155914523925214,0.0006995844765493733,0.0017108803289016116,0.0010684796269092385,0.00015707028614766512,0.000842543011718409,0.002351200280555055,0.00026011229016018836,0.0002555625658163751,0.00045279724869705384,0.00015034748110402882,0.00023889001315067918,0.00034633443325402956,0.0005994496309366369,0.00022698868569229457,0.0007759444459949993,0.00045333248977320276,0.00013408602186577677,0.00016994558572787352,0.00013155175482692543,0.00033490983454755854,0.00010829082393696017,0.00010387802491435996,0.00019457613816414035,0.00018223830067758497,0.0002532301357701816,0.000499443286875071,0.0003567979580947389,0.00010305082627297934,0.00011534001640085132,0.00014472109975334293,0.00010065087704302529,0.00020173580310135886,0.0002907821966633417,0.00028697739475312163,0.000272145747674615,0.00017140995028450622,0.00035566865542715787,0.00022532174673115836,0.0002371678163460745,0.00013356040740018663,0.00028865810274532273,0.00021145666268409155,0.0005645440451643423,0.00016709313952568028,0.00029713675998277195,0.0004885222635124269,0.00017969921795032756,0.00011871168301247973,0.00014915797430785078,0.00022498402205335937,0.00038698608824524615,0.00016082981333317083,0.00011379303690773061,0.00012933773796588776,0.00013318521310703928,0.00012719243110155445,0.0001281230110589645,0.00020013179968532183,0.00016421843893715265,0.00013171318530529418,0.00015923665677606514,0.0001771104450390073,0.0001190050654886956,0.0001451130122021817,0.00021841622678183328,0.0003220788155869704,0.0002520837062136457,0.0002556458546493174,0.00019093512071534304,0.00015235887659398133,0.00010010829437213021,0.00022274930390029426,0.000413745701882818,0.00012710674232432024,0.00018412875218115168,0.0003115852099943983,0.0001208498142827986,0.0002340602436826949,0.00026330283449241867,0.0001627026343853483,0.0002558378595719848,0.0003515598921705743,0.0003607843427295577,0.00020654314446899423,0.00014144476501683898,0.00014086488212053621,0.00011481994946687386,0.00019568142464100873,0.00016404338100982287,0.0001647415788903764,0.00016867662074171417,0.00013796722423637268,0.00010086203125294942,0.00010499936369252166,0.00011863620738112148,0.00015371427831218997,0.00011638704804040116,0.00010045460608508964,0.00010061544059283707,0.00010278503154570596,0.00011930598602765373,0.00011403576493548795,0.0001006135135669129,0.00011807027204805463,0.0001181236843782975,0.0001430442025486085,0.00017670123176610067,0.00013003759511850434,0.00012988654443121353,0.00012797008607571606,0.0001358976715048411,0.00015829203875210958,0.00019800325108726302,0.0001221023124366955,0.00017127805031696842,0.00014046027740922918,0.00011947557181140112,0.00011472914475189189,0.00013229509316911193,0.00019967923434782229,0.0001618978096955519,0.0001161362027361026,0.00015261472874277551,0.00011062987676693644,0.00018744052084376933,0.0001132018023358212,0.00014816520318877322,0.00013009974073719028,0.0001281865381840983,0.00016620088475842156,0.00010004089330252062,0.00021348489193069722,0.00012353742535925545,0.00014606444084637205,0.00018275448884331054,0.00014341894072748831,0.00015951948019516228,0.00011242099128456589,0.00014140514139720654,0.00011420547593346302,0.00010035768629245787,0.00013556422537298725,0.0002155232379377698,0.00020457646436939844,0.0002265547781275988,0.00012437133500642353,0.003100523119154715,0.00017659663192574348,0.001136861893184192,0.007327800083919079,0.0007527590365577977,0.019425165454704775,0.0014506028421238948,0.0033062302745969,0.0005213128320172984,0.049332885605015905,0.002858327224406373,0.0006024330803482503,0.00017923889157263058,0.0001472233909938072,0.0001456315686983646,0.00516592870110485,0.0001518159659752633,0.0022911933782194874,0.0010007318990232605,0.00015075368901217297],\"y\":[0.05109123188933909,0.049198280625691315,0.0501032899770474,0.05009340729405832,0.045316276217194945,0.05180980617189551,0.04862319500613368,0.03835058628143981,0.043794058397396834,0.04847275354926522,0.04807319181817153,0.051816394627221395,0.05173862352898366,0.05096056338883491,0.05219113959024108,0.05171197368261318,0.050862419693713384,0.05120069664565727,0.051265435050582994,0.05212484136092636,0.05181753698036274,0.051951412419086934,0.05217772358241989,0.052112837164960776,0.05208255152354283,0.05211528126935595,0.05186334496180573,0.05204117253251763,0.0514295543836005,0.051929411684337574,0.05131336074980954,0.052150364034928384,0.05203572643033295,0.05202633332726154,0.051974972978225245,0.05195895346789621,0.05177677281062949,0.052071917392308154,0.051620972541019126,0.05152512114256633,0.052173977726770834,0.05210489382567674,0.05205216341190959,0.05212117140914048,0.05195890413038532,0.05177974824206711,0.052054072394069076,0.05186047200058353,0.052101523694150394,0.051491275609964214,0.05193154837808682,0.05211899676345976,0.05212327774134436,0.052021331262676565,0.05216011768134981,0.051626274425863795,0.052063233990357595,0.051479779969882046,0.05176940254551253,0.052092346917089076,0.04949892064706593,0.052174922729867665,0.052067450449958606,0.052116753804302064,0.05210769847342188,0.05198881404768022,0.052197208104104054,0.05217502140488986,0.052123129728811175,0.05210471924679123,0.05196190992336799,0.05217704424284421,0.05201116773539361,0.05211399849406775,0.05183428137258531,0.05214494449909569,0.051882875025807816,0.05218697626334422,0.05195479014099949,0.05200328891439304,0.052073541734980605,0.052151703738113814,0.05215319904421896,0.05206483935706439,0.052144124737373045,0.05210021435251014,0.05221723533841028,0.05219171266440826,0.05221203212858776,0.05225166912595235,0.05215511561676495,0.05213076945264256,0.05223151665027187,0.05214991620213553,0.052102662252098565,0.0521483981248714,0.05198458999769313,0.05189338391566842,0.05207742421758349,0.052069420155208865,0.05217549200884178,0.05217939726260358,0.052093379209628754,0.052093641077956825,0.052059188314448966,0.05218028533780306,0.05209514397444821,0.05184964810969091,0.05211482205098361,0.05216536263829728,0.05204923352278985,0.05204206060771718,0.05218548475243234,0.052174554596131274,0.052183830048214586,0.05220747030640922,0.0521289136031872,0.05221440412431274,0.052194316166916103,0.052182873659538206,0.05215146084575166,0.052149946563680834,0.052226723321310606,0.05220726157078534,0.052193291464762835,0.05210426382361204,0.05225074309882121,0.05213983616910214,0.052231922735940024,0.052139836169102144,0.05224553609380543,0.05220040745193814,0.05220058582601667,0.05217724918327487,0.05209193324103485,0.05220897320290057,0.052166360774098405,0.05216897945737895,0.052187336806694545,0.05202581338579861,0.05218819072515562,0.05220082492318572,0.052223554335021856,0.052219129139797135,0.05210430177554364,0.052162827449266286,0.05216729059642269,0.052097830971205565,0.05218392872323674,0.05220014558361007,0.05111078472449994,0.0522067036773908,0.051981170528655835,0.05218523047449065,0.052119585018399577,0.05222997580184885,0.05079315741854054,0.052041749401878064,0.052187632831761095,0.052091303238970245,0.05211734205924192,0.05221070381098157,0.052172452059120404,0.05215791267412387,0.05205412552677341,0.05217398152196395,0.052146102033009546,0.052219265766750844,0.052168531624585984,0.05159497167267892,0.05109737630706519,0.05220810789886002,0.05219058169684647,0.05220218739753017,0.05211728133615137,0.05213501627378874,0.05222943688442014,0.05220296161693488,0.05212348647696828,0.05183290371746817,0.052239228482773306,0.05222598325864435,0.05216274395501677,0.052023023918825705,0.05220410017488293,0.05200334204709734,0.052069184853232864,0.05214081153374427,0.0518497847366445,0.05185729921910164,0.05209811940588576,0.05216437209288255,0.051966938554305155,0.05223665154661759,0.052219698418771096,0.05215317247786681,0.05221592599676995,0.05159892626395175,0.0522029388457759,0.051868696184161484],\"type\":\"scatter\",\"xaxis\":\"x7\",\"yaxis\":\"y7\"},{\"marker\":{\"color\":[0,1,2,3,4,5,6,7,8,9,10,11,12,13,14,15,16,17,18,19,20,21,22,23,24,25,26,27,28,29,30,31,32,33,34,35,36,37,38,39,40,41,42,43,44,45,46,47,48,49,50,51,52,53,54,55,56,57,58,59,60,61,62,63,64,65,66,67,68,69,70,71,72,73,74,75,76,77,78,79,80,81,82,83,84,85,86,87,88,89,90,91,92,93,94,95,96,97,98,99,100,101,102,103,104,105,106,107,108,109,110,111,112,113,114,115,116,117,118,119,120,121,122,123,124,125,126,127,128,129,130,131,132,133,134,135,136,137,138,139,140,141,142,143,144,145,146,147,148,149,150,151,152,153,154,155,156,157,158,159,160,161,162,163,164,165,166,167,168,169,170,171,172,173,174,175,176,177,178,179,180,181,182,183,184,185,186,187,188,189,190,191,192,193,194,195,196,197,198,199],\"colorbar\":{\"title\":{\"text\":\"Trial\"},\"x\":1.0,\"xpad\":40},\"colorscale\":[[0.0,\"rgb(247,251,255)\"],[0.125,\"rgb(222,235,247)\"],[0.25,\"rgb(198,219,239)\"],[0.375,\"rgb(158,202,225)\"],[0.5,\"rgb(107,174,214)\"],[0.625,\"rgb(66,146,198)\"],[0.75,\"rgb(33,113,181)\"],[0.875,\"rgb(8,81,156)\"],[1.0,\"rgb(8,48,107)\"]],\"line\":{\"color\":\"Grey\",\"width\":0.5},\"showscale\":false},\"mode\":\"markers\",\"name\":\"Feasible Trial\",\"showlegend\":false,\"x\":[0.00008142214259202564,0.0016090050646071989,0.06711606933011917,0.000010609677959628562,0.0035946981536730724,0.025953868901246242,0.00003629673220297794,0.010178748353918568,0.0027817056388202916,0.000020612290088934223,0.05558632799759938,0.00028139492746090535,0.00029160011504138916,0.00027960823288028215,0.013983541379356253,0.0007067875437952733,0.008032560098394176,0.0008941993765261403,0.010712830196875469,0.0001215046251070519,0.00009126686633585767,0.00010675067413010359,0.00010970862497137489,0.0005512267774620522,0.00005032719144772774,0.0001731677646782702,0.0003846150184900522,0.0011652804240046505,0.00014784858650913372,0.00006943642665794138,0.00003628043368907291,0.0001383133477737505,0.0001521880312876524,0.00007310373400118856,0.0004688835938561396,0.00022564529572357593,0.0013789570338762673,0.00012365155936209924,0.0006333290418935876,0.00179424002099323,0.000018550349902506414,0.00001335741359803564,0.00003582231620975437,0.000025792722253312262,0.000058512897213754116,0.000016228481626173636,0.000011202984762949337,0.000019627557848472653,0.00005095660281573145,0.00018496816576952106,0.0000887603013981966,0.00002723783543253528,0.00002486136100500212,0.000023174852286784163,0.000044360834891438104,0.00011031592890478832,0.00004394496264701086,0.00006993346449882635,0.0003396705649440206,0.000249612613095857,0.0814988308188015,0.000032543307238353604,0.000035645368316167985,0.00009693987682830632,0.000051648397007125306,0.000016699463904789607,0.00006896977834040124,0.00003802057988331116,0.00003066022408898953,0.000039044516435570294,0.000010474194107552705,0.00006143108074581187,0.00006847458242412947,0.00004663384937063662,0.00008552574668475165,0.000029606501597494823,0.00001943107753279446,0.00005973664377794072,0.00007080133002495572,0.00006210339140941807,0.00003305653108047294,0.000041269208912909854,0.000051483608141329404,0.00012125862382999181,0.00002078324886472376,0.00008924863697881103,0.00005830351166616071,0.00006170126418715227,0.00017306775162406708,0.0001851746449226467,0.0001893366593036639,0.0001416882246006316,0.00008265600540938347,0.00009835190860149432,0.00016224173497910365,0.00010788128484750804,0.00007593986309644511,0.00005808559681969838,0.0002036034067870191,0.00024263898275094935,0.00014646596918878964,0.00013714383028314454,0.0001225977996880081,0.00008349104277136748,0.000057994669749796625,0.00028908418652519443,0.00026665323167443555,0.0001647066556108305,0.00033726070684785394,0.00010717214745435883,0.00019253929525057557,0.00012980594750266038,0.00008096475247202302,0.0000922896141110088,0.0000761320106891943,0.0000781030954932439,0.00006957949421477333,0.00044665101047659415,0.00007556546675688146,0.00005477877724965197,0.00004421296444080869,0.00008447705766009748,0.00007681938897262303,0.0008033446186715121,0.0007416022867665596,0.0005029183986708058,0.0006477741284587712,0.0007059359384135666,0.00089245438676851,0.0008983635665819832,0.0005882178058936544,0.0006041713038746371,0.00048352216511217687,0.00045678108268291993,0.00041235789556354603,0.0005589123366270615,0.0005858582659563991,0.0010255339078663278,0.0005732774854475771,0.00035589366537282084,0.0007042566372059498,0.0005225191981101983,0.0005145237197201859,0.0004652774162916753,0.000801088087267535,0.00041702971340046264,0.001131236049333565,0.0008385232437070569,0.0005381642568432664,0.00031133091470592343,0.00035530057377691044,0.0004694830888784475,0.0004578082394496927,0.0006886562749558556,0.0006267177466533973,0.0008593611758979117,0.0010570791839483202,0.0008962671682338046,0.00027282654842115104,0.0013712499192587986,0.00041238010897931115,0.0005864664372503553,0.000839082351787359,0.0006808690164052916,0.00022397936303961597,0.00039324918890692485,0.0005786221415320071,0.0009610416376831419,0.0010121096613577294,0.0012805943914398644,0.0008149758675089548,0.0004830346426411562,0.0006539726716216592,0.0009373825329828299,0.0015199155066385796,0.00031533614759767084,0.0011515961493685125,0.0020136903335585734,0.001092525948175815,0.0005051895020309549,0.0003686528012126562,0.00041927812681261323,0.0003654274061961223,0.0005553686593574163,0.0002477963695777009,0.00042485728789832167,0.0006900715107951231,0.0003088244465734321,0.0005096051329419181,0.00035808840664845883,0.000626001418200683,0.0004831286763556613,0.00020559473472884078,0.0007343849254009781,0.0007622317561660325,0.0007440823080212147,0.0011906363592578027,0.0010895318834296631,0.0012893769598391028,0.0009208285282328525],\"y\":[0.05109123188933909,0.049198280625691315,0.0501032899770474,0.05009340729405832,0.045316276217194945,0.05180980617189551,0.04862319500613368,0.03835058628143981,0.043794058397396834,0.04847275354926522,0.04807319181817153,0.051816394627221395,0.05173862352898366,0.05096056338883491,0.05219113959024108,0.05171197368261318,0.050862419693713384,0.05120069664565727,0.051265435050582994,0.05212484136092636,0.05181753698036274,0.051951412419086934,0.05217772358241989,0.052112837164960776,0.05208255152354283,0.05211528126935595,0.05186334496180573,0.05204117253251763,0.0514295543836005,0.051929411684337574,0.05131336074980954,0.052150364034928384,0.05203572643033295,0.05202633332726154,0.051974972978225245,0.05195895346789621,0.05177677281062949,0.052071917392308154,0.051620972541019126,0.05152512114256633,0.052173977726770834,0.05210489382567674,0.05205216341190959,0.05212117140914048,0.05195890413038532,0.05177974824206711,0.052054072394069076,0.05186047200058353,0.052101523694150394,0.051491275609964214,0.05193154837808682,0.05211899676345976,0.05212327774134436,0.052021331262676565,0.05216011768134981,0.051626274425863795,0.052063233990357595,0.051479779969882046,0.05176940254551253,0.052092346917089076,0.04949892064706593,0.052174922729867665,0.052067450449958606,0.052116753804302064,0.05210769847342188,0.05198881404768022,0.052197208104104054,0.05217502140488986,0.052123129728811175,0.05210471924679123,0.05196190992336799,0.05217704424284421,0.05201116773539361,0.05211399849406775,0.05183428137258531,0.05214494449909569,0.051882875025807816,0.05218697626334422,0.05195479014099949,0.05200328891439304,0.052073541734980605,0.052151703738113814,0.05215319904421896,0.05206483935706439,0.052144124737373045,0.05210021435251014,0.05221723533841028,0.05219171266440826,0.05221203212858776,0.05225166912595235,0.05215511561676495,0.05213076945264256,0.05223151665027187,0.05214991620213553,0.052102662252098565,0.0521483981248714,0.05198458999769313,0.05189338391566842,0.05207742421758349,0.052069420155208865,0.05217549200884178,0.05217939726260358,0.052093379209628754,0.052093641077956825,0.052059188314448966,0.05218028533780306,0.05209514397444821,0.05184964810969091,0.05211482205098361,0.05216536263829728,0.05204923352278985,0.05204206060771718,0.05218548475243234,0.052174554596131274,0.052183830048214586,0.05220747030640922,0.0521289136031872,0.05221440412431274,0.052194316166916103,0.052182873659538206,0.05215146084575166,0.052149946563680834,0.052226723321310606,0.05220726157078534,0.052193291464762835,0.05210426382361204,0.05225074309882121,0.05213983616910214,0.052231922735940024,0.052139836169102144,0.05224553609380543,0.05220040745193814,0.05220058582601667,0.05217724918327487,0.05209193324103485,0.05220897320290057,0.052166360774098405,0.05216897945737895,0.052187336806694545,0.05202581338579861,0.05218819072515562,0.05220082492318572,0.052223554335021856,0.052219129139797135,0.05210430177554364,0.052162827449266286,0.05216729059642269,0.052097830971205565,0.05218392872323674,0.05220014558361007,0.05111078472449994,0.0522067036773908,0.051981170528655835,0.05218523047449065,0.052119585018399577,0.05222997580184885,0.05079315741854054,0.052041749401878064,0.052187632831761095,0.052091303238970245,0.05211734205924192,0.05221070381098157,0.052172452059120404,0.05215791267412387,0.05205412552677341,0.05217398152196395,0.052146102033009546,0.052219265766750844,0.052168531624585984,0.05159497167267892,0.05109737630706519,0.05220810789886002,0.05219058169684647,0.05220218739753017,0.05211728133615137,0.05213501627378874,0.05222943688442014,0.05220296161693488,0.05212348647696828,0.05183290371746817,0.052239228482773306,0.05222598325864435,0.05216274395501677,0.052023023918825705,0.05220410017488293,0.05200334204709734,0.052069184853232864,0.05214081153374427,0.0518497847366445,0.05185729921910164,0.05209811940588576,0.05216437209288255,0.051966938554305155,0.05223665154661759,0.052219698418771096,0.05215317247786681,0.05221592599676995,0.05159892626395175,0.0522029388457759,0.051868696184161484],\"type\":\"scatter\",\"xaxis\":\"x8\",\"yaxis\":\"y8\"},{\"marker\":{\"color\":[0,1,2,3,4,5,6,7,8,9,10,11,12,13,14,15,16,17,18,19,20,21,22,23,24,25,26,27,28,29,30,31,32,33,34,35,36,37,38,39,40,41,42,43,44,45,46,47,48,49,50,51,52,53,54,55,56,57,58,59,60,61,62,63,64,65,66,67,68,69,70,71,72,73,74,75,76,77,78,79,80,81,82,83,84,85,86,87,88,89,90,91,92,93,94,95,96,97,98,99,100,101,102,103,104,105,106,107,108,109,110,111,112,113,114,115,116,117,118,119,120,121,122,123,124,125,126,127,128,129,130,131,132,133,134,135,136,137,138,139,140,141,142,143,144,145,146,147,148,149,150,151,152,153,154,155,156,157,158,159,160,161,162,163,164,165,166,167,168,169,170,171,172,173,174,175,176,177,178,179,180,181,182,183,184,185,186,187,188,189,190,191,192,193,194,195,196,197,198,199],\"colorbar\":{\"title\":{\"text\":\"Trial\"},\"x\":1.0,\"xpad\":40},\"colorscale\":[[0.0,\"rgb(247,251,255)\"],[0.125,\"rgb(222,235,247)\"],[0.25,\"rgb(198,219,239)\"],[0.375,\"rgb(158,202,225)\"],[0.5,\"rgb(107,174,214)\"],[0.625,\"rgb(66,146,198)\"],[0.75,\"rgb(33,113,181)\"],[0.875,\"rgb(8,81,156)\"],[1.0,\"rgb(8,48,107)\"]],\"line\":{\"color\":\"Grey\",\"width\":0.5},\"showscale\":false},\"mode\":\"markers\",\"name\":\"Feasible Trial\",\"showlegend\":false,\"x\":[0.4190258028154633,0.07709300009697584,0.7427648982745785,0.5165190725598401,0.42166377541983274,0.9290362248416071,0.01372387691744264,0.03458443836437628,0.028734593384086238,0.05574831962658887,0.18419569174796535,0.8895193494458865,0.9449400812281703,0.20789869294618135,0.8136663810969625,0.24595325984728142,0.12752969009005394,0.34777875051942975,0.6044843235150548,0.6144490833348655,0.26175700152759884,0.3258731342146185,0.5563850954672013,0.5888077957486433,0.5300757467911578,0.7118783817991279,0.39823530163899573,0.6703029697635896,0.1520765014112391,0.4516337355181298,0.2826315161913647,0.9948752434269008,0.7655961169472995,0.9077728480836007,0.4662139301379195,0.6034412022494158,0.3645865492008805,0.9845948938585766,0.728075377226387,0.5010991202878614,0.4443629969376532,0.7021118478434768,0.4371126665514775,0.5497168085888975,0.7841837446925665,0.8153376120439498,0.987951896573398,0.3743100342447815,0.5190634607429754,0.6753995292980952,0.32429282844241636,0.5533854482737939,0.6192485952836638,0.8330897320156022,0.4510516702791113,0.46736715309082555,0.39949070705530537,0.215876509941014,0.29477474128675013,0.8162219779582515,0.6336017464117163,0.6193961528906547,0.9976104807347885,0.40022507146637915,0.5096879853905749,0.6327848764670421,0.8566790626743871,0.8373924537474648,0.8517040635665818,0.7192367668588022,0.44604286392808545,0.8641897279329053,0.8496217171141385,0.7535765549870993,0.5684150640923733,0.6715648679725338,0.49537593081941417,0.8618951556522763,0.9062380236916616,0.7106120565130988,0.8756010676548847,0.5882269944993879,0.763573054777559,0.6588993263335164,0.5659727225693304,0.9319812381680477,0.7883747438995062,0.788256202636437,0.8251414339124391,0.781237039707711,0.7638541497436444,0.8506687773650456,0.9281195833172574,0.9989379709827514,0.7525876857971908,0.9011854225634052,0.7032833483934653,0.9151427804302905,0.7942340906577317,0.6640498910423179,0.7925803681774277,0.9924949037569737,0.9916208063193732,0.8951394410959119,0.6970884565739907,0.8121371879429334,0.5960093060288678,0.7650261223439772,0.5368632935142943,0.9154319229331916,0.6538575359606823,0.8228608673415734,0.7206142361524025,0.7368328211713452,0.9345256180038432,0.9503466003346769,0.8066525184141208,0.9002276631887212,0.9185083876175972,0.6411889127570554,0.7000117160028079,0.9086956195063347,0.9999233581092756,0.9998875976962704,0.9918934477330694,0.9987490524146448,0.8608161735805644,0.8945070069353216,0.7821548491223852,0.9883727948737078,0.8574951140933809,0.839448598502908,0.8457983712272593,0.8373173752060845,0.6135042711787997,0.7216878623732688,0.750338305718173,0.6843317849355055,0.7628382800357291,0.819278377636598,0.5992067639546238,0.8704150772559157,0.8877274970093387,0.8784060628994559,0.9247171732843755,0.7264041765173861,0.6731866829723127,0.9001929951201388,0.764060391038259,0.9986438022559135,0.15000570338488528,0.8543753679502568,0.8757226033453333,0.7759493767847098,0.9168143186542487,0.8091047501265409,0.07620727282447604,0.6664324876030625,0.7259725358894363,0.5727027739551833,0.7956743711922634,0.852746692461168,0.9997467236768461,0.8276176167987679,0.7289690764181513,0.8973175312979101,0.7957601073730287,0.9168324337440952,0.9321039858057499,0.2429225266159543,0.6349853978872873,0.8470868981299107,0.9993133239907033,0.8049624140151915,0.71632754899136,0.9163992797344362,0.7759277614436126,0.6570287888164555,0.778974656482867,0.5154401229435293,0.7115379073673279,0.7164681318818313,0.7007468023303909,0.6275457135497993,0.7719150965854374,0.8545421281618054,0.6981654016212134,0.5565212882817894,0.3590062778377991,0.8121780678278123,0.7393548774727052,0.882742473847261,0.8603604533736284,0.9216081682090245,0.7821427366167615,0.6722498771802391,0.7476137751293821,0.18259241918422695,0.799996971468844,0.6205463212619581],\"y\":[0.05109123188933909,0.049198280625691315,0.0501032899770474,0.05009340729405832,0.045316276217194945,0.05180980617189551,0.04862319500613368,0.03835058628143981,0.043794058397396834,0.04847275354926522,0.04807319181817153,0.051816394627221395,0.05173862352898366,0.05096056338883491,0.05219113959024108,0.05171197368261318,0.050862419693713384,0.05120069664565727,0.051265435050582994,0.05212484136092636,0.05181753698036274,0.051951412419086934,0.05217772358241989,0.052112837164960776,0.05208255152354283,0.05211528126935595,0.05186334496180573,0.05204117253251763,0.0514295543836005,0.051929411684337574,0.05131336074980954,0.052150364034928384,0.05203572643033295,0.05202633332726154,0.051974972978225245,0.05195895346789621,0.05177677281062949,0.052071917392308154,0.051620972541019126,0.05152512114256633,0.052173977726770834,0.05210489382567674,0.05205216341190959,0.05212117140914048,0.05195890413038532,0.05177974824206711,0.052054072394069076,0.05186047200058353,0.052101523694150394,0.051491275609964214,0.05193154837808682,0.05211899676345976,0.05212327774134436,0.052021331262676565,0.05216011768134981,0.051626274425863795,0.052063233990357595,0.051479779969882046,0.05176940254551253,0.052092346917089076,0.04949892064706593,0.052174922729867665,0.052067450449958606,0.052116753804302064,0.05210769847342188,0.05198881404768022,0.052197208104104054,0.05217502140488986,0.052123129728811175,0.05210471924679123,0.05196190992336799,0.05217704424284421,0.05201116773539361,0.05211399849406775,0.05183428137258531,0.05214494449909569,0.051882875025807816,0.05218697626334422,0.05195479014099949,0.05200328891439304,0.052073541734980605,0.052151703738113814,0.05215319904421896,0.05206483935706439,0.052144124737373045,0.05210021435251014,0.05221723533841028,0.05219171266440826,0.05221203212858776,0.05225166912595235,0.05215511561676495,0.05213076945264256,0.05223151665027187,0.05214991620213553,0.052102662252098565,0.0521483981248714,0.05198458999769313,0.05189338391566842,0.05207742421758349,0.052069420155208865,0.05217549200884178,0.05217939726260358,0.052093379209628754,0.052093641077956825,0.052059188314448966,0.05218028533780306,0.05209514397444821,0.05184964810969091,0.05211482205098361,0.05216536263829728,0.05204923352278985,0.05204206060771718,0.05218548475243234,0.052174554596131274,0.052183830048214586,0.05220747030640922,0.0521289136031872,0.05221440412431274,0.052194316166916103,0.052182873659538206,0.05215146084575166,0.052149946563680834,0.052226723321310606,0.05220726157078534,0.052193291464762835,0.05210426382361204,0.05225074309882121,0.05213983616910214,0.052231922735940024,0.052139836169102144,0.05224553609380543,0.05220040745193814,0.05220058582601667,0.05217724918327487,0.05209193324103485,0.05220897320290057,0.052166360774098405,0.05216897945737895,0.052187336806694545,0.05202581338579861,0.05218819072515562,0.05220082492318572,0.052223554335021856,0.052219129139797135,0.05210430177554364,0.052162827449266286,0.05216729059642269,0.052097830971205565,0.05218392872323674,0.05220014558361007,0.05111078472449994,0.0522067036773908,0.051981170528655835,0.05218523047449065,0.052119585018399577,0.05222997580184885,0.05079315741854054,0.052041749401878064,0.052187632831761095,0.052091303238970245,0.05211734205924192,0.05221070381098157,0.052172452059120404,0.05215791267412387,0.05205412552677341,0.05217398152196395,0.052146102033009546,0.052219265766750844,0.052168531624585984,0.05159497167267892,0.05109737630706519,0.05220810789886002,0.05219058169684647,0.05220218739753017,0.05211728133615137,0.05213501627378874,0.05222943688442014,0.05220296161693488,0.05212348647696828,0.05183290371746817,0.052239228482773306,0.05222598325864435,0.05216274395501677,0.052023023918825705,0.05220410017488293,0.05200334204709734,0.052069184853232864,0.05214081153374427,0.0518497847366445,0.05185729921910164,0.05209811940588576,0.05216437209288255,0.051966938554305155,0.05223665154661759,0.052219698418771096,0.05215317247786681,0.05221592599676995,0.05159892626395175,0.0522029388457759,0.051868696184161484],\"type\":\"scatter\",\"xaxis\":\"x9\",\"yaxis\":\"y9\"},{\"marker\":{\"color\":[0,1,2,3,4,5,6,7,8,9,10,11,12,13,14,15,16,17,18,19,20,21,22,23,24,25,26,27,28,29,30,31,32,33,34,35,36,37,38,39,40,41,42,43,44,45,46,47,48,49,50,51,52,53,54,55,56,57,58,59,60,61,62,63,64,65,66,67,68,69,70,71,72,73,74,75,76,77,78,79,80,81,82,83,84,85,86,87,88,89,90,91,92,93,94,95,96,97,98,99,100,101,102,103,104,105,106,107,108,109,110,111,112,113,114,115,116,117,118,119,120,121,122,123,124,125,126,127,128,129,130,131,132,133,134,135,136,137,138,139,140,141,142,143,144,145,146,147,148,149,150,151,152,153,154,155,156,157,158,159,160,161,162,163,164,165,166,167,168,169,170,171,172,173,174,175,176,177,178,179,180,181,182,183,184,185,186,187,188,189,190,191,192,193,194,195,196,197,198,199],\"colorbar\":{\"title\":{\"text\":\"Trial\"},\"x\":1.0,\"xpad\":40},\"colorscale\":[[0.0,\"rgb(247,251,255)\"],[0.125,\"rgb(222,235,247)\"],[0.25,\"rgb(198,219,239)\"],[0.375,\"rgb(158,202,225)\"],[0.5,\"rgb(107,174,214)\"],[0.625,\"rgb(66,146,198)\"],[0.75,\"rgb(33,113,181)\"],[0.875,\"rgb(8,81,156)\"],[1.0,\"rgb(8,48,107)\"]],\"line\":{\"color\":\"Grey\",\"width\":0.5},\"showscale\":false},\"mode\":\"markers\",\"name\":\"Feasible Trial\",\"showlegend\":false,\"x\":[0.0003220597875883612,0.03641480672157251,0.00017515476029280615,0.006682705040396513,0.003077178028075168,0.00013621575472946466,0.0073710449173827065,0.0004303890701326499,0.013675767785814833,0.0007268131930022254,0.1080120710737672,0.00011314706249771041,0.00010095351802396471,0.0009398791676027506,0.00011658971194866287,0.0018629890843252794,0.000288507140887962,0.001247188991236371,0.0004302503455847219,0.00010992466115260047,0.0002433391343995185,0.00021868526032713123,0.0001840680515387915,0.00010571679138736982,0.0005550672598150518,0.0002023975948642352,0.0005403835430602143,0.0001935551051469274,0.0013159631039589665,0.0003269637609765339,0.00034345594598151615,0.00016797815015504803,0.00016445824913008947,0.00017858799457295174,0.0001021138623312102,0.0002878495647430693,0.0001586667638887718,0.0007023944459725963,0.00014504073294783983,0.00038049478160549115,0.00024877094131905747,0.00023632375885331393,0.0001392376228509574,0.000145701128073609,0.00010006901198879592,0.0002671983787100512,0.0004937559549926133,0.0002014709236904223,0.00030893562038933944,0.00014955479195327044,0.00038868578027155206,0.00013739839716728138,0.00012902984798400885,0.0002331571485704492,0.00012096164829875867,0.00010011442524300144,0.0002005283282936367,0.000269800205608226,0.00012767292377034942,0.00043326407446850346,0.00018275234708007624,0.00012361903204764958,0.00017952291351486338,0.00011208736325957106,0.00022355705324555007,0.00012916012797131325,0.0003355694940612799,0.0003389725224957919,0.0005932783370544238,0.0003033858623279622,0.00040045473075709905,0.0002498570035088547,0.00025553375681923603,0.0003599075160921079,0.0008907611572005833,0.0002154614992697303,0.00016347090881904203,0.00031533513737657613,0.000634190930856751,0.0004574476875201378,0.00032613549331045284,0.00025369441976016126,0.0005085876816368845,0.00012163082511229924,0.00017202628265091356,0.0003046249685351101,0.00020515068887915733,0.00021711957286752668,0.00036817997500919464,0.0004310311961633854,0.0004717963753590721,0.000338776457485609,0.00020731360111303713,0.00019639865468706622,0.0002768663961410679,0.0003984667634272712,0.00020839098091435633,0.0001534053310003532,0.0002411875644463513,0.0007711254121408848,0.00018367965743669923,0.00018086162016968887,0.0002821418980676481,0.00015395022724795597,0.00022119590184403745,0.00037094638940476823,0.0005636644821788364,0.0003881367113480355,0.00030249569448347464,0.00014391870584400975,0.0005022344577047497,0.00022329293570817958,0.0001799461800673902,0.0001968905117552257,0.00016458025864987322,0.00011488230383731432,0.00011257009070189654,0.00016201578933622906,0.00013852253263606655,0.00013158811705787313,0.00012835281497620648,0.00016434280317885894,0.00010035609724781397,0.00010634109242214783,0.00010001428535105687,0.00010559874030850981,0.00011036770589034345,0.00010629069217290237,0.0001165079827863221,0.00010108479493479923,0.00013951724230284126,0.00014129560995554578,0.00013955763834128015,0.00011966753259419735,0.0001449718971944672,0.00012565030367393983,0.00011798462772926953,0.00014163614585550657,0.00012094339656366233,0.0001529293204215474,0.00012931930357008162,0.00016467580596766978,0.00016261426973509334,0.00016618923793122018,0.00017949613799097267,0.00016301016769177493,0.0001156708297040734,0.00010141794986573371,0.0002026790561093342,0.00015699458892358553,0.00019605282489216025,0.00012990155787270775,0.00012139178162995526,0.0001661509216728986,0.00024157244266939244,0.00011595370930479271,0.00011679553568747724,0.00013681148619094612,0.00011391623698328866,0.000102022541501343,0.00013633931265162377,0.00017086986649404704,0.0001903712744664455,0.003397605042264828,0.00023240594713365252,0.00014979513456537348,0.00012353583539787848,0.00010044749781959445,0.00010092471360671586,0.0017491507823085184,0.00017378107628656503,0.00012711899481645037,0.00011474840078844888,0.00015035422721122068,0.00019231895187890642,0.0001310238000664147,0.00010119399359065718,0.0002757832692672881,0.00010044358232868729,0.00015927262529523732,0.00021387715568854649,0.0002087226601315476,0.00023658491975618552,0.00019108545659868607,0.00017562277346867066,0.0002796819420957887,0.0002175999659535704,0.0001391304377897219,0.00020814847268293976,0.00015610238000438555,0.00613198730867083,0.00012326062831026748,0.00012027448788506077,0.00013877779898435134,0.00014773794319376235,0.0001670010574537496,0.0002559133489300634,0.00026034329952739563,0.00023544254776256454,0.0002083683672114649],\"y\":[0.05109123188933909,0.049198280625691315,0.0501032899770474,0.05009340729405832,0.045316276217194945,0.05180980617189551,0.04862319500613368,0.03835058628143981,0.043794058397396834,0.04847275354926522,0.04807319181817153,0.051816394627221395,0.05173862352898366,0.05096056338883491,0.05219113959024108,0.05171197368261318,0.050862419693713384,0.05120069664565727,0.051265435050582994,0.05212484136092636,0.05181753698036274,0.051951412419086934,0.05217772358241989,0.052112837164960776,0.05208255152354283,0.05211528126935595,0.05186334496180573,0.05204117253251763,0.0514295543836005,0.051929411684337574,0.05131336074980954,0.052150364034928384,0.05203572643033295,0.05202633332726154,0.051974972978225245,0.05195895346789621,0.05177677281062949,0.052071917392308154,0.051620972541019126,0.05152512114256633,0.052173977726770834,0.05210489382567674,0.05205216341190959,0.05212117140914048,0.05195890413038532,0.05177974824206711,0.052054072394069076,0.05186047200058353,0.052101523694150394,0.051491275609964214,0.05193154837808682,0.05211899676345976,0.05212327774134436,0.052021331262676565,0.05216011768134981,0.051626274425863795,0.052063233990357595,0.051479779969882046,0.05176940254551253,0.052092346917089076,0.04949892064706593,0.052174922729867665,0.052067450449958606,0.052116753804302064,0.05210769847342188,0.05198881404768022,0.052197208104104054,0.05217502140488986,0.052123129728811175,0.05210471924679123,0.05196190992336799,0.05217704424284421,0.05201116773539361,0.05211399849406775,0.05183428137258531,0.05214494449909569,0.051882875025807816,0.05218697626334422,0.05195479014099949,0.05200328891439304,0.052073541734980605,0.052151703738113814,0.05215319904421896,0.05206483935706439,0.052144124737373045,0.05210021435251014,0.05221723533841028,0.05219171266440826,0.05221203212858776,0.05225166912595235,0.05215511561676495,0.05213076945264256,0.05223151665027187,0.05214991620213553,0.052102662252098565,0.0521483981248714,0.05198458999769313,0.05189338391566842,0.05207742421758349,0.052069420155208865,0.05217549200884178,0.05217939726260358,0.052093379209628754,0.052093641077956825,0.052059188314448966,0.05218028533780306,0.05209514397444821,0.05184964810969091,0.05211482205098361,0.05216536263829728,0.05204923352278985,0.05204206060771718,0.05218548475243234,0.052174554596131274,0.052183830048214586,0.05220747030640922,0.0521289136031872,0.05221440412431274,0.052194316166916103,0.052182873659538206,0.05215146084575166,0.052149946563680834,0.052226723321310606,0.05220726157078534,0.052193291464762835,0.05210426382361204,0.05225074309882121,0.05213983616910214,0.052231922735940024,0.052139836169102144,0.05224553609380543,0.05220040745193814,0.05220058582601667,0.05217724918327487,0.05209193324103485,0.05220897320290057,0.052166360774098405,0.05216897945737895,0.052187336806694545,0.05202581338579861,0.05218819072515562,0.05220082492318572,0.052223554335021856,0.052219129139797135,0.05210430177554364,0.052162827449266286,0.05216729059642269,0.052097830971205565,0.05218392872323674,0.05220014558361007,0.05111078472449994,0.0522067036773908,0.051981170528655835,0.05218523047449065,0.052119585018399577,0.05222997580184885,0.05079315741854054,0.052041749401878064,0.052187632831761095,0.052091303238970245,0.05211734205924192,0.05221070381098157,0.052172452059120404,0.05215791267412387,0.05205412552677341,0.05217398152196395,0.052146102033009546,0.052219265766750844,0.052168531624585984,0.05159497167267892,0.05109737630706519,0.05220810789886002,0.05219058169684647,0.05220218739753017,0.05211728133615137,0.05213501627378874,0.05222943688442014,0.05220296161693488,0.05212348647696828,0.05183290371746817,0.052239228482773306,0.05222598325864435,0.05216274395501677,0.052023023918825705,0.05220410017488293,0.05200334204709734,0.052069184853232864,0.05214081153374427,0.0518497847366445,0.05185729921910164,0.05209811940588576,0.05216437209288255,0.051966938554305155,0.05223665154661759,0.052219698418771096,0.05215317247786681,0.05221592599676995,0.05159892626395175,0.0522029388457759,0.051868696184161484],\"type\":\"scatter\",\"xaxis\":\"x10\",\"yaxis\":\"y10\"},{\"marker\":{\"color\":[0,1,2,3,4,5,6,7,8,9,10,11,12,13,14,15,16,17,18,19,20,21,22,23,24,25,26,27,28,29,30,31,32,33,34,35,36,37,38,39,40,41,42,43,44,45,46,47,48,49,50,51,52,53,54,55,56,57,58,59,60,61,62,63,64,65,66,67,68,69,70,71,72,73,74,75,76,77,78,79,80,81,82,83,84,85,86,87,88,89,90,91,92,93,94,95,96,97,98,99,100,101,102,103,104,105,106,107,108,109,110,111,112,113,114,115,116,117,118,119,120,121,122,123,124,125,126,127,128,129,130,131,132,133,134,135,136,137,138,139,140,141,142,143,144,145,146,147,148,149,150,151,152,153,154,155,156,157,158,159,160,161,162,163,164,165,166,167,168,169,170,171,172,173,174,175,176,177,178,179,180,181,182,183,184,185,186,187,188,189,190,191,192,193,194,195,196,197,198,199],\"colorbar\":{\"title\":{\"text\":\"Trial\"},\"x\":1.0,\"xpad\":40},\"colorscale\":[[0.0,\"rgb(247,251,255)\"],[0.125,\"rgb(222,235,247)\"],[0.25,\"rgb(198,219,239)\"],[0.375,\"rgb(158,202,225)\"],[0.5,\"rgb(107,174,214)\"],[0.625,\"rgb(66,146,198)\"],[0.75,\"rgb(33,113,181)\"],[0.875,\"rgb(8,81,156)\"],[1.0,\"rgb(8,48,107)\"]],\"line\":{\"color\":\"Grey\",\"width\":0.5},\"showscale\":false},\"mode\":\"markers\",\"name\":\"Feasible Trial\",\"showlegend\":false,\"x\":[0.013361800872920312,0.0014605855240286598,0.02054179723984505,0.027909498636270014,0.1503878762078821,0.011257644553347034,0.013009461573011458,0.43732216525241363,0.040884985766223035,0.041859744879443564,0.002950545573347141,0.005345785521861627,0.004370402069381531,0.0062368495036721604,0.0013832809442549318,0.0010410050172205483,0.002276459474994452,0.0010317238128734446,0.004753016026593298,0.0022342325605691966,0.0019882332837885793,0.0020687795736744293,0.0026156485079160715,0.0016364176685364504,0.0032735299211038584,0.002854128673047433,0.0070186872308530485,0.00128806714296133,0.003344292901270375,0.0017356385072445503,0.008223618492078366,0.00326225397615382,0.001465479094138271,0.0038484805819677084,0.0024374660455373618,0.0010019224907654551,0.001453147945272732,0.00962551439129484,0.017285037149852134,0.004858952858411208,0.002494430633428701,0.002101978649777814,0.0028320374186676083,0.0036475277749721475,0.007809511050882715,0.0015042359730205893,0.004756822614245526,0.00585621507801757,0.0024499833848532124,0.012421393827614754,0.003676006993844308,0.0037915216806055974,0.0019094388369791638,0.0019179756164460632,0.0026154005556018075,0.0012742953890391366,0.0027134259843826867,0.006238491252059907,0.0027867148403383324,0.0012124834999993276,0.0021797913685634267,0.001696485813832678,0.0017729361856167103,0.0016203720253441505,0.0011990858434905661,0.003168844896152823,0.0024354967882056476,0.004730050882392088,0.005107034169450926,0.0024824966747124108,0.0016615144752039556,0.004158551697915095,0.004030611282128734,0.00464280576322738,0.0022880588664209727,0.003299687347816622,0.0013762713187679936,0.0019694139925911266,0.0018990929744521336,0.00421844899898389,0.0011785646865137423,0.0027611556587635133,0.00219217612864086,0.0010473301402272816,0.001554136029120594,0.0030198805052284662,0.005561713540859541,0.00575678951418523,0.00669944652107818,0.006035100932659037,0.006075515491740908,0.008542372153334137,0.006938239544518217,0.0068843971397634625,0.009885566946769895,0.005318210731459292,0.006972624117636185,0.003851907066914731,0.005418425368507028,0.010963582897705677,0.007879220937381172,0.00818789317891191,0.0060359224431325,0.004319740964798112,0.006763622842352763,0.005581862893814517,0.008937796767064372,0.014681343300677106,0.007824181299951686,0.0052858028972299145,0.009986617094139786,0.0034278410828427705,0.004297627471154847,0.007206281210536632,0.005907750226771458,0.005543798512725137,0.005738251823072715,0.004710315482807868,0.004747785615671616,0.0045465768982245955,0.003528480979154915,0.006556894472064513,0.005098839555244858,0.004743339989789072,0.003041435579171581,0.005064398206668929,0.0036009211506894253,0.0037781229071391577,0.0031184816162779594,0.0031617569252431386,0.0030214495291524747,0.004799976373546694,0.00427124514539725,0.004080874753375085,0.00499284615295773,0.0035765957712026323,0.003379223580956911,0.0040155074878826386,0.004613379681258682,0.006542887038017314,0.0028523555872373807,0.003623309495413152,0.004190754036353077,0.003703319464859756,0.0036299412563186822,0.003014936084825779,0.0033407380635271794,0.002599888679888522,0.003742726221743342,0.005378045912513365,0.006175601304499271,0.004264857405430286,0.007429492357542706,0.004008588113566922,0.004726983203566182,0.0034063403696312335,0.0029089087498234477,0.0022331773617346807,0.00532041307915012,0.009077651460304021,0.0042059553217728175,0.003504697189810844,0.0033223166333824854,0.0024958731090233602,0.006385361094292992,0.004431088171612706,0.005359840962730571,0.0029240926140200216,0.002781004277714709,0.003116926019362292,0.025789987029078146,0.0034112701554520966,0.003691824359976617,0.0031963587244119808,0.002484551749765104,0.004666598388636496,0.003688953758239516,0.003711492310353138,0.002684106626208838,0.0020155852812454747,0.0032482582803926865,0.0034266161279016953,0.003062326242701077,0.0034374633751582443,0.002325944794890852,0.003906945390205549,0.0028102085081046003,0.0035515790260335018,0.0031453673245907953,0.0041441338219192275,0.0021552873141744812,0.005451929715925103,0.007202551973533482,0.0037351364105112344,0.0027287549591731345,0.002785603344831665,0.0025825945097056238,0.0023987914579571765,0.002625443479717226,0.003947064623261249],\"y\":[0.05109123188933909,0.049198280625691315,0.0501032899770474,0.05009340729405832,0.045316276217194945,0.05180980617189551,0.04862319500613368,0.03835058628143981,0.043794058397396834,0.04847275354926522,0.04807319181817153,0.051816394627221395,0.05173862352898366,0.05096056338883491,0.05219113959024108,0.05171197368261318,0.050862419693713384,0.05120069664565727,0.051265435050582994,0.05212484136092636,0.05181753698036274,0.051951412419086934,0.05217772358241989,0.052112837164960776,0.05208255152354283,0.05211528126935595,0.05186334496180573,0.05204117253251763,0.0514295543836005,0.051929411684337574,0.05131336074980954,0.052150364034928384,0.05203572643033295,0.05202633332726154,0.051974972978225245,0.05195895346789621,0.05177677281062949,0.052071917392308154,0.051620972541019126,0.05152512114256633,0.052173977726770834,0.05210489382567674,0.05205216341190959,0.05212117140914048,0.05195890413038532,0.05177974824206711,0.052054072394069076,0.05186047200058353,0.052101523694150394,0.051491275609964214,0.05193154837808682,0.05211899676345976,0.05212327774134436,0.052021331262676565,0.05216011768134981,0.051626274425863795,0.052063233990357595,0.051479779969882046,0.05176940254551253,0.052092346917089076,0.04949892064706593,0.052174922729867665,0.052067450449958606,0.052116753804302064,0.05210769847342188,0.05198881404768022,0.052197208104104054,0.05217502140488986,0.052123129728811175,0.05210471924679123,0.05196190992336799,0.05217704424284421,0.05201116773539361,0.05211399849406775,0.05183428137258531,0.05214494449909569,0.051882875025807816,0.05218697626334422,0.05195479014099949,0.05200328891439304,0.052073541734980605,0.052151703738113814,0.05215319904421896,0.05206483935706439,0.052144124737373045,0.05210021435251014,0.05221723533841028,0.05219171266440826,0.05221203212858776,0.05225166912595235,0.05215511561676495,0.05213076945264256,0.05223151665027187,0.05214991620213553,0.052102662252098565,0.0521483981248714,0.05198458999769313,0.05189338391566842,0.05207742421758349,0.052069420155208865,0.05217549200884178,0.05217939726260358,0.052093379209628754,0.052093641077956825,0.052059188314448966,0.05218028533780306,0.05209514397444821,0.05184964810969091,0.05211482205098361,0.05216536263829728,0.05204923352278985,0.05204206060771718,0.05218548475243234,0.052174554596131274,0.052183830048214586,0.05220747030640922,0.0521289136031872,0.05221440412431274,0.052194316166916103,0.052182873659538206,0.05215146084575166,0.052149946563680834,0.052226723321310606,0.05220726157078534,0.052193291464762835,0.05210426382361204,0.05225074309882121,0.05213983616910214,0.052231922735940024,0.052139836169102144,0.05224553609380543,0.05220040745193814,0.05220058582601667,0.05217724918327487,0.05209193324103485,0.05220897320290057,0.052166360774098405,0.05216897945737895,0.052187336806694545,0.05202581338579861,0.05218819072515562,0.05220082492318572,0.052223554335021856,0.052219129139797135,0.05210430177554364,0.052162827449266286,0.05216729059642269,0.052097830971205565,0.05218392872323674,0.05220014558361007,0.05111078472449994,0.0522067036773908,0.051981170528655835,0.05218523047449065,0.052119585018399577,0.05222997580184885,0.05079315741854054,0.052041749401878064,0.052187632831761095,0.052091303238970245,0.05211734205924192,0.05221070381098157,0.052172452059120404,0.05215791267412387,0.05205412552677341,0.05217398152196395,0.052146102033009546,0.052219265766750844,0.052168531624585984,0.05159497167267892,0.05109737630706519,0.05220810789886002,0.05219058169684647,0.05220218739753017,0.05211728133615137,0.05213501627378874,0.05222943688442014,0.05220296161693488,0.05212348647696828,0.05183290371746817,0.052239228482773306,0.05222598325864435,0.05216274395501677,0.052023023918825705,0.05220410017488293,0.05200334204709734,0.052069184853232864,0.05214081153374427,0.0518497847366445,0.05185729921910164,0.05209811940588576,0.05216437209288255,0.051966938554305155,0.05223665154661759,0.052219698418771096,0.05215317247786681,0.05221592599676995,0.05159892626395175,0.0522029388457759,0.051868696184161484],\"type\":\"scatter\",\"xaxis\":\"x11\",\"yaxis\":\"y11\"}],                        {\"template\":{\"data\":{\"histogram2dcontour\":[{\"type\":\"histogram2dcontour\",\"colorbar\":{\"outlinewidth\":0,\"ticks\":\"\"},\"colorscale\":[[0.0,\"#0d0887\"],[0.1111111111111111,\"#46039f\"],[0.2222222222222222,\"#7201a8\"],[0.3333333333333333,\"#9c179e\"],[0.4444444444444444,\"#bd3786\"],[0.5555555555555556,\"#d8576b\"],[0.6666666666666666,\"#ed7953\"],[0.7777777777777778,\"#fb9f3a\"],[0.8888888888888888,\"#fdca26\"],[1.0,\"#f0f921\"]]}],\"choropleth\":[{\"type\":\"choropleth\",\"colorbar\":{\"outlinewidth\":0,\"ticks\":\"\"}}],\"histogram2d\":[{\"type\":\"histogram2d\",\"colorbar\":{\"outlinewidth\":0,\"ticks\":\"\"},\"colorscale\":[[0.0,\"#0d0887\"],[0.1111111111111111,\"#46039f\"],[0.2222222222222222,\"#7201a8\"],[0.3333333333333333,\"#9c179e\"],[0.4444444444444444,\"#bd3786\"],[0.5555555555555556,\"#d8576b\"],[0.6666666666666666,\"#ed7953\"],[0.7777777777777778,\"#fb9f3a\"],[0.8888888888888888,\"#fdca26\"],[1.0,\"#f0f921\"]]}],\"heatmap\":[{\"type\":\"heatmap\",\"colorbar\":{\"outlinewidth\":0,\"ticks\":\"\"},\"colorscale\":[[0.0,\"#0d0887\"],[0.1111111111111111,\"#46039f\"],[0.2222222222222222,\"#7201a8\"],[0.3333333333333333,\"#9c179e\"],[0.4444444444444444,\"#bd3786\"],[0.5555555555555556,\"#d8576b\"],[0.6666666666666666,\"#ed7953\"],[0.7777777777777778,\"#fb9f3a\"],[0.8888888888888888,\"#fdca26\"],[1.0,\"#f0f921\"]]}],\"heatmapgl\":[{\"type\":\"heatmapgl\",\"colorbar\":{\"outlinewidth\":0,\"ticks\":\"\"},\"colorscale\":[[0.0,\"#0d0887\"],[0.1111111111111111,\"#46039f\"],[0.2222222222222222,\"#7201a8\"],[0.3333333333333333,\"#9c179e\"],[0.4444444444444444,\"#bd3786\"],[0.5555555555555556,\"#d8576b\"],[0.6666666666666666,\"#ed7953\"],[0.7777777777777778,\"#fb9f3a\"],[0.8888888888888888,\"#fdca26\"],[1.0,\"#f0f921\"]]}],\"contourcarpet\":[{\"type\":\"contourcarpet\",\"colorbar\":{\"outlinewidth\":0,\"ticks\":\"\"}}],\"contour\":[{\"type\":\"contour\",\"colorbar\":{\"outlinewidth\":0,\"ticks\":\"\"},\"colorscale\":[[0.0,\"#0d0887\"],[0.1111111111111111,\"#46039f\"],[0.2222222222222222,\"#7201a8\"],[0.3333333333333333,\"#9c179e\"],[0.4444444444444444,\"#bd3786\"],[0.5555555555555556,\"#d8576b\"],[0.6666666666666666,\"#ed7953\"],[0.7777777777777778,\"#fb9f3a\"],[0.8888888888888888,\"#fdca26\"],[1.0,\"#f0f921\"]]}],\"surface\":[{\"type\":\"surface\",\"colorbar\":{\"outlinewidth\":0,\"ticks\":\"\"},\"colorscale\":[[0.0,\"#0d0887\"],[0.1111111111111111,\"#46039f\"],[0.2222222222222222,\"#7201a8\"],[0.3333333333333333,\"#9c179e\"],[0.4444444444444444,\"#bd3786\"],[0.5555555555555556,\"#d8576b\"],[0.6666666666666666,\"#ed7953\"],[0.7777777777777778,\"#fb9f3a\"],[0.8888888888888888,\"#fdca26\"],[1.0,\"#f0f921\"]]}],\"mesh3d\":[{\"type\":\"mesh3d\",\"colorbar\":{\"outlinewidth\":0,\"ticks\":\"\"}}],\"scatter\":[{\"fillpattern\":{\"fillmode\":\"overlay\",\"size\":10,\"solidity\":0.2},\"type\":\"scatter\"}],\"parcoords\":[{\"type\":\"parcoords\",\"line\":{\"colorbar\":{\"outlinewidth\":0,\"ticks\":\"\"}}}],\"scatterpolargl\":[{\"type\":\"scatterpolargl\",\"marker\":{\"colorbar\":{\"outlinewidth\":0,\"ticks\":\"\"}}}],\"bar\":[{\"error_x\":{\"color\":\"#2a3f5f\"},\"error_y\":{\"color\":\"#2a3f5f\"},\"marker\":{\"line\":{\"color\":\"#E5ECF6\",\"width\":0.5},\"pattern\":{\"fillmode\":\"overlay\",\"size\":10,\"solidity\":0.2}},\"type\":\"bar\"}],\"scattergeo\":[{\"type\":\"scattergeo\",\"marker\":{\"colorbar\":{\"outlinewidth\":0,\"ticks\":\"\"}}}],\"scatterpolar\":[{\"type\":\"scatterpolar\",\"marker\":{\"colorbar\":{\"outlinewidth\":0,\"ticks\":\"\"}}}],\"histogram\":[{\"marker\":{\"pattern\":{\"fillmode\":\"overlay\",\"size\":10,\"solidity\":0.2}},\"type\":\"histogram\"}],\"scattergl\":[{\"type\":\"scattergl\",\"marker\":{\"colorbar\":{\"outlinewidth\":0,\"ticks\":\"\"}}}],\"scatter3d\":[{\"type\":\"scatter3d\",\"line\":{\"colorbar\":{\"outlinewidth\":0,\"ticks\":\"\"}},\"marker\":{\"colorbar\":{\"outlinewidth\":0,\"ticks\":\"\"}}}],\"scattermapbox\":[{\"type\":\"scattermapbox\",\"marker\":{\"colorbar\":{\"outlinewidth\":0,\"ticks\":\"\"}}}],\"scatterternary\":[{\"type\":\"scatterternary\",\"marker\":{\"colorbar\":{\"outlinewidth\":0,\"ticks\":\"\"}}}],\"scattercarpet\":[{\"type\":\"scattercarpet\",\"marker\":{\"colorbar\":{\"outlinewidth\":0,\"ticks\":\"\"}}}],\"carpet\":[{\"aaxis\":{\"endlinecolor\":\"#2a3f5f\",\"gridcolor\":\"white\",\"linecolor\":\"white\",\"minorgridcolor\":\"white\",\"startlinecolor\":\"#2a3f5f\"},\"baxis\":{\"endlinecolor\":\"#2a3f5f\",\"gridcolor\":\"white\",\"linecolor\":\"white\",\"minorgridcolor\":\"white\",\"startlinecolor\":\"#2a3f5f\"},\"type\":\"carpet\"}],\"table\":[{\"cells\":{\"fill\":{\"color\":\"#EBF0F8\"},\"line\":{\"color\":\"white\"}},\"header\":{\"fill\":{\"color\":\"#C8D4E3\"},\"line\":{\"color\":\"white\"}},\"type\":\"table\"}],\"barpolar\":[{\"marker\":{\"line\":{\"color\":\"#E5ECF6\",\"width\":0.5},\"pattern\":{\"fillmode\":\"overlay\",\"size\":10,\"solidity\":0.2}},\"type\":\"barpolar\"}],\"pie\":[{\"automargin\":true,\"type\":\"pie\"}]},\"layout\":{\"autotypenumbers\":\"strict\",\"colorway\":[\"#636efa\",\"#EF553B\",\"#00cc96\",\"#ab63fa\",\"#FFA15A\",\"#19d3f3\",\"#FF6692\",\"#B6E880\",\"#FF97FF\",\"#FECB52\"],\"font\":{\"color\":\"#2a3f5f\"},\"hovermode\":\"closest\",\"hoverlabel\":{\"align\":\"left\"},\"paper_bgcolor\":\"white\",\"plot_bgcolor\":\"#E5ECF6\",\"polar\":{\"bgcolor\":\"#E5ECF6\",\"angularaxis\":{\"gridcolor\":\"white\",\"linecolor\":\"white\",\"ticks\":\"\"},\"radialaxis\":{\"gridcolor\":\"white\",\"linecolor\":\"white\",\"ticks\":\"\"}},\"ternary\":{\"bgcolor\":\"#E5ECF6\",\"aaxis\":{\"gridcolor\":\"white\",\"linecolor\":\"white\",\"ticks\":\"\"},\"baxis\":{\"gridcolor\":\"white\",\"linecolor\":\"white\",\"ticks\":\"\"},\"caxis\":{\"gridcolor\":\"white\",\"linecolor\":\"white\",\"ticks\":\"\"}},\"coloraxis\":{\"colorbar\":{\"outlinewidth\":0,\"ticks\":\"\"}},\"colorscale\":{\"sequential\":[[0.0,\"#0d0887\"],[0.1111111111111111,\"#46039f\"],[0.2222222222222222,\"#7201a8\"],[0.3333333333333333,\"#9c179e\"],[0.4444444444444444,\"#bd3786\"],[0.5555555555555556,\"#d8576b\"],[0.6666666666666666,\"#ed7953\"],[0.7777777777777778,\"#fb9f3a\"],[0.8888888888888888,\"#fdca26\"],[1.0,\"#f0f921\"]],\"sequentialminus\":[[0.0,\"#0d0887\"],[0.1111111111111111,\"#46039f\"],[0.2222222222222222,\"#7201a8\"],[0.3333333333333333,\"#9c179e\"],[0.4444444444444444,\"#bd3786\"],[0.5555555555555556,\"#d8576b\"],[0.6666666666666666,\"#ed7953\"],[0.7777777777777778,\"#fb9f3a\"],[0.8888888888888888,\"#fdca26\"],[1.0,\"#f0f921\"]],\"diverging\":[[0,\"#8e0152\"],[0.1,\"#c51b7d\"],[0.2,\"#de77ae\"],[0.3,\"#f1b6da\"],[0.4,\"#fde0ef\"],[0.5,\"#f7f7f7\"],[0.6,\"#e6f5d0\"],[0.7,\"#b8e186\"],[0.8,\"#7fbc41\"],[0.9,\"#4d9221\"],[1,\"#276419\"]]},\"xaxis\":{\"gridcolor\":\"white\",\"linecolor\":\"white\",\"ticks\":\"\",\"title\":{\"standoff\":15},\"zerolinecolor\":\"white\",\"automargin\":true,\"zerolinewidth\":2},\"yaxis\":{\"gridcolor\":\"white\",\"linecolor\":\"white\",\"ticks\":\"\",\"title\":{\"standoff\":15},\"zerolinecolor\":\"white\",\"automargin\":true,\"zerolinewidth\":2},\"scene\":{\"xaxis\":{\"backgroundcolor\":\"#E5ECF6\",\"gridcolor\":\"white\",\"linecolor\":\"white\",\"showbackground\":true,\"ticks\":\"\",\"zerolinecolor\":\"white\",\"gridwidth\":2},\"yaxis\":{\"backgroundcolor\":\"#E5ECF6\",\"gridcolor\":\"white\",\"linecolor\":\"white\",\"showbackground\":true,\"ticks\":\"\",\"zerolinecolor\":\"white\",\"gridwidth\":2},\"zaxis\":{\"backgroundcolor\":\"#E5ECF6\",\"gridcolor\":\"white\",\"linecolor\":\"white\",\"showbackground\":true,\"ticks\":\"\",\"zerolinecolor\":\"white\",\"gridwidth\":2}},\"shapedefaults\":{\"line\":{\"color\":\"#2a3f5f\"}},\"annotationdefaults\":{\"arrowcolor\":\"#2a3f5f\",\"arrowhead\":0,\"arrowwidth\":1},\"geo\":{\"bgcolor\":\"white\",\"landcolor\":\"#E5ECF6\",\"subunitcolor\":\"white\",\"showland\":true,\"showlakes\":true,\"lakecolor\":\"white\"},\"title\":{\"x\":0.05},\"mapbox\":{\"style\":\"light\"}}},\"xaxis\":{\"anchor\":\"y\",\"domain\":[0.0,0.07438016528925619],\"title\":{\"text\":\"ease_r\"},\"type\":\"log\"},\"yaxis\":{\"anchor\":\"x\",\"domain\":[0.0,1.0],\"title\":{\"text\":\"Objective Value\"}},\"xaxis2\":{\"anchor\":\"y2\",\"domain\":[0.09256198347107437,0.16694214876033056],\"title\":{\"text\":\"ials\"},\"type\":\"log\"},\"yaxis2\":{\"anchor\":\"x2\",\"domain\":[0.0,1.0],\"matches\":\"y\",\"showticklabels\":false},\"xaxis3\":{\"anchor\":\"y3\",\"domain\":[0.18512396694214875,0.25950413223140495],\"title\":{\"text\":\"item_knn\"},\"type\":\"log\"},\"yaxis3\":{\"anchor\":\"x3\",\"domain\":[0.0,1.0],\"matches\":\"y\",\"showticklabels\":false},\"xaxis4\":{\"anchor\":\"y4\",\"domain\":[0.27768595041322314,0.3520661157024793],\"title\":{\"text\":\"nmf\"},\"type\":\"log\"},\"yaxis4\":{\"anchor\":\"x4\",\"domain\":[0.0,1.0],\"matches\":\"y\",\"showticklabels\":false},\"xaxis5\":{\"anchor\":\"y5\",\"domain\":[0.3702479338842975,0.44462809917355367],\"title\":{\"text\":\"p3alpha\"},\"type\":\"log\"},\"yaxis5\":{\"anchor\":\"x5\",\"domain\":[0.0,1.0],\"matches\":\"y\",\"showticklabels\":false},\"xaxis6\":{\"anchor\":\"y6\",\"domain\":[0.46280991735537186,0.5371900826446281],\"title\":{\"text\":\"rp3\"},\"type\":\"log\"},\"yaxis6\":{\"anchor\":\"x6\",\"domain\":[0.0,1.0],\"matches\":\"y\",\"showticklabels\":false},\"xaxis7\":{\"anchor\":\"y7\",\"domain\":[0.5553719008264462,0.6297520661157023],\"title\":{\"text\":\"scaled_svd\"},\"type\":\"log\"},\"yaxis7\":{\"anchor\":\"x7\",\"domain\":[0.0,1.0],\"matches\":\"y\",\"showticklabels\":false},\"xaxis8\":{\"anchor\":\"y8\",\"domain\":[0.6479338842975206,0.7223140495867768],\"title\":{\"text\":\"slim_bpr\"},\"type\":\"log\"},\"yaxis8\":{\"anchor\":\"x8\",\"domain\":[0.0,1.0],\"matches\":\"y\",\"showticklabels\":false},\"xaxis9\":{\"anchor\":\"y9\",\"domain\":[0.740495867768595,0.8148760330578512],\"title\":{\"text\":\"slim_elastic\"},\"type\":\"log\"},\"yaxis9\":{\"anchor\":\"x9\",\"domain\":[0.0,1.0],\"matches\":\"y\",\"showticklabels\":false},\"xaxis10\":{\"anchor\":\"y10\",\"domain\":[0.8330578512396694,0.9074380165289255],\"title\":{\"text\":\"svd_item\"},\"type\":\"log\"},\"yaxis10\":{\"anchor\":\"x10\",\"domain\":[0.0,1.0],\"matches\":\"y\",\"showticklabels\":false},\"xaxis11\":{\"anchor\":\"y11\",\"domain\":[0.9256198347107437,0.9999999999999999],\"title\":{\"text\":\"user_knn\"},\"type\":\"log\"},\"yaxis11\":{\"anchor\":\"x11\",\"domain\":[0.0,1.0],\"matches\":\"y\",\"showticklabels\":false},\"title\":{\"text\":\"Slice Plot\"},\"width\":3300},                        {\"responsive\": true}                    ).then(function(){\n",
       "                            \n",
       "var gd = document.getElementById('947762ef-fb8f-4161-826c-9b28fd786f91');\n",
       "var x = new MutationObserver(function (mutations, observer) {{\n",
       "        var display = window.getComputedStyle(gd).display;\n",
       "        if (!display || display === 'none') {{\n",
       "            console.log([gd, 'removed!']);\n",
       "            Plotly.purge(gd);\n",
       "            observer.disconnect();\n",
       "        }}\n",
       "}});\n",
       "\n",
       "// Listen for the removal of the full notebook cells\n",
       "var notebookContainer = gd.closest('#notebook-container');\n",
       "if (notebookContainer) {{\n",
       "    x.observe(notebookContainer, {childList: true});\n",
       "}}\n",
       "\n",
       "// Listen for the clearing of the current output cell\n",
       "var outputEl = gd.closest('.output');\n",
       "if (outputEl) {{\n",
       "    x.observe(outputEl, {childList: true});\n",
       "}}\n",
       "\n",
       "                        })                };                });            </script>        </div>"
      ]
     },
     "metadata": {},
     "output_type": "display_data"
    }
   ],
   "source": [
    "if config['tune_parameters']:\n",
    "    fig = optuna.visualization.plot_slice(study)\n",
    "    fig.show()"
   ]
  },
  {
   "cell_type": "code",
   "execution_count": 31,
   "id": "5e67f7c3",
   "metadata": {
    "execution": {
     "iopub.execute_input": "2023-12-05T16:27:25.674406Z",
     "iopub.status.busy": "2023-12-05T16:27:25.673941Z",
     "iopub.status.idle": "2023-12-05T16:27:26.549085Z",
     "shell.execute_reply": "2023-12-05T16:27:26.546852Z"
    },
    "papermill": {
     "duration": 0.951296,
     "end_time": "2023-12-05T16:27:26.552081",
     "exception": false,
     "start_time": "2023-12-05T16:27:25.600785",
     "status": "completed"
    },
    "tags": []
   },
   "outputs": [],
   "source": [
    "if config['tune_parameters']:\n",
    "    with open('/kaggle/working/best_params_hybrid_lr_comb_11models.json', 'w') as params_file:\n",
    "        json.dump(study.best_params, params_file)\n",
    "        \n",
    "    if config['save_github']: \n",
    "        upload_file(\n",
    "            '/kaggle/working/best_params_hybrid_lr_comb_11models.json', \n",
    "            'tuning_results/best_params_hybrid_lr_comb_11models.json', \n",
    "            'Linear combination of 11 models tuning results (from kaggle notebook)'\n",
    "        )\n",
    "    \n",
    "elif config['copy_prev_best_params']:\n",
    "    shutil.copyfile(\n",
    "        '/kaggle/input/linear-combination/best_params_hybrid_lr_comb_11models.json', \n",
    "        '/kaggle/working/best_params_hybrid_lr_comb_11models.json'\n",
    "    )"
   ]
  },
  {
   "cell_type": "code",
   "execution_count": 32,
   "id": "556dbdfc",
   "metadata": {
    "execution": {
     "iopub.execute_input": "2023-12-05T16:27:26.685377Z",
     "iopub.status.busy": "2023-12-05T16:27:26.684890Z",
     "iopub.status.idle": "2023-12-05T16:27:28.294032Z",
     "shell.execute_reply": "2023-12-05T16:27:28.293170Z"
    },
    "papermill": {
     "duration": 1.681378,
     "end_time": "2023-12-05T16:27:28.296833",
     "exception": false,
     "start_time": "2023-12-05T16:27:26.615455",
     "status": "completed"
    },
    "tags": []
   },
   "outputs": [],
   "source": [
    "if config['save_github'] and config['tune_parameters']:\n",
    "    upload_file(\n",
    "        config['database_path'],\n",
    "        'tuning_results/tuning_hybrid_merging.db', \n",
    "        'Linear combination tuning db updated results (from kaggle notebook)'\n",
    "    )"
   ]
  },
  {
   "cell_type": "code",
   "execution_count": 33,
   "id": "9baa6922",
   "metadata": {
    "execution": {
     "iopub.execute_input": "2023-12-05T16:27:28.431297Z",
     "iopub.status.busy": "2023-12-05T16:27:28.430685Z",
     "iopub.status.idle": "2023-12-05T16:27:28.439381Z",
     "shell.execute_reply": "2023-12-05T16:27:28.436840Z"
    },
    "papermill": {
     "duration": 0.083026,
     "end_time": "2023-12-05T16:27:28.444110",
     "exception": false,
     "start_time": "2023-12-05T16:27:28.361084",
     "status": "completed"
    },
    "tags": []
   },
   "outputs": [
    {
     "data": {
      "text/plain": [
       "{'slim_elastic': 0.781237039707711,\n",
       " 'item_knn': 0.034069197683945486,\n",
       " 'rp3': 0.036876076567740015,\n",
       " 'p3alpha': 0.4828549014067903,\n",
       " 'ials': 0.005962153700988408,\n",
       " 'ease_r': 0.0049438034490025635,\n",
       " 'user_knn': 0.006035100932659037,\n",
       " 'svd_item': 0.0004310311961633854,\n",
       " 'scaled_svd': 0.00012719243110155445,\n",
       " 'nmf': 0.003321344691440341,\n",
       " 'slim_bpr': 0.0001851746449226467}"
      ]
     },
     "execution_count": 33,
     "metadata": {},
     "output_type": "execute_result"
    }
   ],
   "source": [
    "with open('/kaggle/working/best_params_hybrid_lr_comb_11models.json', 'r') as params_file:\n",
    "    params = json.load(params_file)\n",
    "params"
   ]
  },
  {
   "cell_type": "code",
   "execution_count": 34,
   "id": "70476ee6",
   "metadata": {
    "execution": {
     "iopub.execute_input": "2023-12-05T16:27:28.577305Z",
     "iopub.status.busy": "2023-12-05T16:27:28.576630Z",
     "iopub.status.idle": "2023-12-05T16:28:31.972361Z",
     "shell.execute_reply": "2023-12-05T16:28:31.970844Z"
    },
    "papermill": {
     "duration": 63.465645,
     "end_time": "2023-12-05T16:28:31.975500",
     "exception": false,
     "start_time": "2023-12-05T16:27:28.509855",
     "status": "completed"
    },
    "tags": []
   },
   "outputs": [
    {
     "name": "stdout",
     "output_type": "stream",
     "text": [
      "ItemKNNCFRecommender: URM Detected 386 ( 3.0%) users with no interactions.\n",
      "ItemKNNCFRecommender: URM Detected 125 ( 0.6%) items with no interactions.\n",
      "Similarity column 22347 (100.0%), 5433.39 column/sec. Elapsed time 4.11 sec\n",
      "UserKNNCFRecommender: URM Detected 386 ( 3.0%) users with no interactions.\n",
      "UserKNNCFRecommender: URM Detected 125 ( 0.6%) items with no interactions.\n",
      "Similarity column 13024 (100.0%), 4276.77 column/sec. Elapsed time 3.05 sec\n",
      "RP3betaRecommender: URM Detected 386 ( 3.0%) users with no interactions.\n",
      "RP3betaRecommender: URM Detected 125 ( 0.6%) items with no interactions.\n",
      "RP3betaRecommender: Similarity column 22347 (100.0%), 3399.51 column/sec. Elapsed time 6.57 sec\n",
      "P3alphaRecommender: URM Detected 386 ( 3.0%) users with no interactions.\n",
      "P3alphaRecommender: URM Detected 125 ( 0.6%) items with no interactions.\n",
      "P3alphaRecommender: Similarity column 22347 (100.0%), 3504.40 column/sec. Elapsed time 6.38 sec\n",
      "PureSVDRecommender: URM Detected 386 ( 3.0%) users with no interactions.\n",
      "PureSVDRecommender: URM Detected 125 ( 0.6%) items with no interactions.\n",
      "PureSVDRecommender: Computing SVD decomposition...\n",
      "PureSVDRecommender: Computing SVD decomposition... done in 0.45 sec\n",
      "PureSVDItemRecommender: URM Detected 386 ( 3.0%) users with no interactions.\n",
      "PureSVDItemRecommender: URM Detected 125 ( 0.6%) items with no interactions.\n",
      "PureSVDItemRecommender: Computing SVD decomposition...\n",
      "PureSVDItemRecommender: Computing SVD decomposition... Done!\n",
      "ScaledPureSVDRecommender: URM Detected 386 ( 3.0%) users with no interactions.\n",
      "ScaledPureSVDRecommender: URM Detected 125 ( 0.6%) items with no interactions.\n",
      "ScaledPureSVDRecommender: Computing SVD decomposition...\n",
      "ScaledPureSVDRecommender: Computing SVD decomposition... done in 4.59 sec\n",
      "NMFRecommender: URM Detected 386 ( 3.0%) users with no interactions.\n",
      "NMFRecommender: URM Detected 125 ( 0.6%) items with no interactions.\n",
      "NMFRecommender: Loading model from file '/kaggle/working/Recsys_Challenge_2023/models/nmf_all.zip'\n",
      "NMFRecommender: Loading complete\n",
      "Recommender_Base_Class: URM Detected 386 ( 3.0%) users with no interactions.\n",
      "Recommender_Base_Class: URM Detected 125 ( 0.6%) items with no interactions.\n",
      "Recommender_Base_Class: Loading model from file '/kaggle/working/Recsys_Challenge_2023/models/slim_bpr_all.zip'\n",
      "Recommender_Base_Class: Loading complete\n",
      "SLIMElasticNetRecommender: URM Detected 386 ( 3.0%) users with no interactions.\n",
      "SLIMElasticNetRecommender: URM Detected 125 ( 0.6%) items with no interactions.\n",
      "SLIMElasticNetRecommender: Loading model from file '/kaggle/working/Recsys_Challenge_2023/models/slim_elastic_all.zip'\n",
      "SLIMElasticNetRecommender: Loading complete\n",
      "EASE_R_Recommender: URM Detected 386 ( 3.0%) users with no interactions.\n",
      "EASE_R_Recommender: URM Detected 125 ( 0.6%) items with no interactions.\n",
      "EASE_R_Recommender: Loading model from file '/kaggle/working/Recsys_Challenge_2023/models/ease_r_all.zip'\n",
      "EASE_R_Recommender: Loading complete\n",
      "IALSRecommender: URM Detected 386 ( 3.0%) users with no interactions.\n",
      "IALSRecommender: URM Detected 125 ( 0.6%) items with no interactions.\n",
      "IALSRecommender: Loading model from file '/kaggle/working/ials_all.zip'\n",
      "IALSRecommender: Loading complete\n"
     ]
    }
   ],
   "source": [
    "recommender_item = ItemKNNCFRecommender(URM_all)\n",
    "recommender_item.fit(**params_item_knn)\n",
    "\n",
    "recommender_user = UserKNNCFRecommender(URM_all)\n",
    "recommender_user.fit(**params_user_knn)\n",
    "\n",
    "recommender_rp3 = RP3betaRecommender(URM_all)\n",
    "recommender_rp3.fit(**params_rp3)\n",
    "\n",
    "recommender_p3a = P3alphaRecommender(URM_all)\n",
    "recommender_p3a.fit(**params_p3alpha)\n",
    "\n",
    "recommender_pure_svd = PureSVDRecommender(URM_all)\n",
    "recommender_pure_svd.fit(num_factors=params_pure_svd['factors'])\n",
    "\n",
    "recommender_pure_svd_item = PureSVDItemRecommender(URM_all)\n",
    "recommender_pure_svd_item.fit(**params_pure_svd_item)\n",
    "\n",
    "recommender_scaled_svd = ScaledPureSVDRecommender(URM_all)\n",
    "recommender_scaled_svd.fit(**params_scaled) \n",
    "\n",
    "recommender_nmf = NMFRecommender(URM_all)\n",
    "recommender_nmf.load_model('/kaggle/working/Recsys_Challenge_2023/models/', 'nmf_all.zip')\n",
    "\n",
    "recommender_slim_bpr = SLIM_BPR_Python(URM_all)\n",
    "recommender_slim_bpr.load_model('/kaggle/working/Recsys_Challenge_2023/models/', 'slim_bpr_all.zip')\n",
    "\n",
    "recommender_slim = SLIMElasticNetRecommender(URM_all)\n",
    "recommender_slim.load_model('/kaggle/working/Recsys_Challenge_2023/models/', 'slim_elastic_all.zip')\n",
    "\n",
    "recommender_ease_r = EASE_R_Recommender(URM_all)\n",
    "recommender_ease_r.load_model('/kaggle/working/Recsys_Challenge_2023/models/', 'ease_r_all.zip')\n",
    "\n",
    "recommender_ials = IALSRecommender(URM_all)\n",
    "recommender_ials.load_model('/kaggle/working/', 'ials_all.zip')"
   ]
  },
  {
   "cell_type": "code",
   "execution_count": 35,
   "id": "123a2530",
   "metadata": {
    "execution": {
     "iopub.execute_input": "2023-12-05T16:28:32.116473Z",
     "iopub.status.busy": "2023-12-05T16:28:32.116042Z",
     "iopub.status.idle": "2023-12-05T16:28:32.122981Z",
     "shell.execute_reply": "2023-12-05T16:28:32.121435Z"
    },
    "papermill": {
     "duration": 0.081208,
     "end_time": "2023-12-05T16:28:32.124988",
     "exception": false,
     "start_time": "2023-12-05T16:28:32.043780",
     "status": "completed"
    },
    "tags": []
   },
   "outputs": [],
   "source": [
    "weights = [\n",
    "    params['slim_elastic'],\n",
    "    params['item_knn'],\n",
    "    params['rp3'],\n",
    "    params['p3alpha'],\n",
    "    params['ials'],\n",
    "    params['ease_r'],\n",
    "    params['user_knn'],\n",
    "    params['svd_item'],\n",
    "    params['scaled_svd'],\n",
    "    params['nmf'],\n",
    "    params['slim_bpr']\n",
    "]\n",
    "\n",
    "recommenders = [\n",
    "    recommender_slim, recommender_item, recommender_rp3, recommender_p3a, recommender_ials, recommender_ease_r,\n",
    "    recommender_user, recommender_pure_svd_item, recommender_scaled_svd, recommender_nmf, recommender_slim_bpr\n",
    "]"
   ]
  },
  {
   "cell_type": "code",
   "execution_count": 36,
   "id": "6b901f23",
   "metadata": {
    "execution": {
     "iopub.execute_input": "2023-12-05T16:28:32.260924Z",
     "iopub.status.busy": "2023-12-05T16:28:32.260490Z",
     "iopub.status.idle": "2023-12-05T16:29:29.099065Z",
     "shell.execute_reply": "2023-12-05T16:29:29.097345Z"
    },
    "papermill": {
     "duration": 56.949219,
     "end_time": "2023-12-05T16:29:29.141730",
     "exception": false,
     "start_time": "2023-12-05T16:28:32.192511",
     "status": "completed"
    },
    "tags": []
   },
   "outputs": [
    {
     "name": "stdout",
     "output_type": "stream",
     "text": [
      "Recommender_Base_Class: URM Detected 386 ( 3.0%) users with no interactions.\n",
      "Recommender_Base_Class: URM Detected 125 ( 0.6%) items with no interactions.\n"
     ]
    },
    {
     "data": {
      "text/html": [
       "<div>\n",
       "<style scoped>\n",
       "    .dataframe tbody tr th:only-of-type {\n",
       "        vertical-align: middle;\n",
       "    }\n",
       "\n",
       "    .dataframe tbody tr th {\n",
       "        vertical-align: top;\n",
       "    }\n",
       "\n",
       "    .dataframe thead th {\n",
       "        text-align: right;\n",
       "    }\n",
       "</style>\n",
       "<table border=\"1\" class=\"dataframe\">\n",
       "  <thead>\n",
       "    <tr style=\"text-align: right;\">\n",
       "      <th></th>\n",
       "      <th>user_id</th>\n",
       "      <th>item_list</th>\n",
       "    </tr>\n",
       "  </thead>\n",
       "  <tbody>\n",
       "    <tr>\n",
       "      <th>0</th>\n",
       "      <td>1</td>\n",
       "      <td>36 101 123 506 403 515 694 1546 52 1422</td>\n",
       "    </tr>\n",
       "    <tr>\n",
       "      <th>1</th>\n",
       "      <td>2</td>\n",
       "      <td>1095 47 12 1522 50 28 656 196 11 949</td>\n",
       "    </tr>\n",
       "    <tr>\n",
       "      <th>2</th>\n",
       "      <td>3</td>\n",
       "      <td>59 857 4252 259 2172 648 4 536 1281 584</td>\n",
       "    </tr>\n",
       "    <tr>\n",
       "      <th>3</th>\n",
       "      <td>4</td>\n",
       "      <td>249 28 50 139 171 314 146 254 7 5</td>\n",
       "    </tr>\n",
       "    <tr>\n",
       "      <th>4</th>\n",
       "      <td>5</td>\n",
       "      <td>1570 170 77 95 131 1511 471 5138 1220 116</td>\n",
       "    </tr>\n",
       "  </tbody>\n",
       "</table>\n",
       "</div>"
      ],
      "text/plain": [
       "   user_id                                  item_list\n",
       "0        1    36 101 123 506 403 515 694 1546 52 1422\n",
       "1        2       1095 47 12 1522 50 28 656 196 11 949\n",
       "2        3    59 857 4252 259 2172 648 4 536 1281 584\n",
       "3        4          249 28 50 139 171 314 146 254 7 5\n",
       "4        5  1570 170 77 95 131 1511 471 5138 1220 116"
      ]
     },
     "metadata": {},
     "output_type": "display_data"
    }
   ],
   "source": [
    "linear_combinator = LinearCombinationRecommender(URM_all, recommenders, weights)\n",
    "recommendations = linear_combinator.recommend(user_ids_test['user_id'].unique() - 1, cutoff=10, return_scores=False)\n",
    "recommendations = [' '.join([str(item + 1) for item in r]).strip() for r in recommendations]\n",
    "\n",
    "submission_df = pd.DataFrame({'user_id': user_ids_test['user_id'].unique(), 'item_list': recommendations})\n",
    "display(submission_df.head())\n",
    "\n",
    "submission_df.to_csv('/kaggle/working/submission_linear_comb_11models.csv', index=False)"
   ]
  }
 ],
 "metadata": {
  "kaggle": {
   "accelerator": "none",
   "dataSources": [
    {
     "databundleVersionId": 6919098,
     "sourceId": 62803,
     "sourceType": "competition"
    },
    {
     "sourceId": 153423142,
     "sourceType": "kernelVersion"
    }
   ],
   "dockerImageVersionId": 30587,
   "isGpuEnabled": false,
   "isInternetEnabled": true,
   "language": "python",
   "sourceType": "notebook"
  },
  "kernelspec": {
   "display_name": "Python 3",
   "language": "python",
   "name": "python3"
  },
  "language_info": {
   "codemirror_mode": {
    "name": "ipython",
    "version": 3
   },
   "file_extension": ".py",
   "mimetype": "text/x-python",
   "name": "python",
   "nbconvert_exporter": "python",
   "pygments_lexer": "ipython3",
   "version": "3.10.12"
  },
  "papermill": {
   "default_parameters": {},
   "duration": 8174.297065,
   "end_time": "2023-12-05T16:29:32.317035",
   "environment_variables": {},
   "exception": null,
   "input_path": "__notebook__.ipynb",
   "output_path": "__notebook__.ipynb",
   "parameters": {},
   "start_time": "2023-12-05T14:13:18.019970",
   "version": "2.4.0"
  }
 },
 "nbformat": 4,
 "nbformat_minor": 5
}
