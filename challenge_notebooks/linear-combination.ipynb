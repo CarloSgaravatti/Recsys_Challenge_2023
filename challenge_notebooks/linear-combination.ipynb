{
 "cells": [
  {
   "cell_type": "code",
   "execution_count": 1,
   "id": "4957e97e",
   "metadata": {
    "_cell_guid": "b1076dfc-b9ad-4769-8c92-a6c4dae69d19",
    "_uuid": "8f2839f25d086af736a60e9eeb907d3b93b6e0e5",
    "execution": {
     "iopub.execute_input": "2023-12-01T18:00:15.203763Z",
     "iopub.status.busy": "2023-12-01T18:00:15.203043Z",
     "iopub.status.idle": "2023-12-01T18:00:22.865316Z",
     "shell.execute_reply": "2023-12-01T18:00:22.864215Z"
    },
    "papermill": {
     "duration": 7.678594,
     "end_time": "2023-12-01T18:00:22.868050",
     "exception": false,
     "start_time": "2023-12-01T18:00:15.189456",
     "status": "completed"
    },
    "tags": []
   },
   "outputs": [
    {
     "name": "stdout",
     "output_type": "stream",
     "text": [
      "Cloning into 'Recsys_Challenge_2023'...\r\n",
      "remote: Enumerating objects: 1367, done.\u001b[K\r\n",
      "remote: Counting objects: 100% (216/216), done.\u001b[K\r\n",
      "remote: Compressing objects: 100% (70/70), done.\u001b[K\r\n",
      "remote: Total 1367 (delta 157), reused 193 (delta 143), pack-reused 1151\u001b[K\r\n",
      "Receiving objects: 100% (1367/1367), 78.56 MiB | 18.80 MiB/s, done.\r\n",
      "Resolving deltas: 100% (987/987), done.\r\n"
     ]
    }
   ],
   "source": [
    "from kaggle_secrets import UserSecretsClient\n",
    "secret_label = \"Token\"\n",
    "token = UserSecretsClient().get_secret(secret_label)\n",
    "\n",
    "! git clone https://{token}@github.com/CarloSgaravatti/Recsys_Challenge_2023.git"
   ]
  },
  {
   "cell_type": "code",
   "execution_count": 2,
   "id": "f9ebaa5d",
   "metadata": {
    "execution": {
     "iopub.execute_input": "2023-12-01T18:00:22.898790Z",
     "iopub.status.busy": "2023-12-01T18:00:22.898357Z",
     "iopub.status.idle": "2023-12-01T18:00:38.759384Z",
     "shell.execute_reply": "2023-12-01T18:00:38.758323Z"
    },
    "papermill": {
     "duration": 15.879751,
     "end_time": "2023-12-01T18:00:38.761985",
     "exception": false,
     "start_time": "2023-12-01T18:00:22.882234",
     "status": "completed"
    },
    "tags": []
   },
   "outputs": [
    {
     "name": "stdout",
     "output_type": "stream",
     "text": [
      "Collecting PyGithub\r\n",
      "  Obtaining dependency information for PyGithub from https://files.pythonhosted.org/packages/be/04/810d131be173cba445d3658a45512b2b2b3d0960d52c4a300d6ec5e00f52/PyGithub-2.1.1-py3-none-any.whl.metadata\r\n",
      "  Downloading PyGithub-2.1.1-py3-none-any.whl.metadata (2.2 kB)\r\n",
      "Requirement already satisfied: requests in /opt/conda/lib/python3.10/site-packages (2.31.0)\r\n",
      "Collecting pynacl>=1.4.0 (from PyGithub)\r\n",
      "  Downloading PyNaCl-1.5.0-cp36-abi3-manylinux_2_17_x86_64.manylinux2014_x86_64.manylinux_2_24_x86_64.whl (856 kB)\r\n",
      "\u001b[2K     \u001b[90m━━━━━━━━━━━━━━━━━━━━━━━━━━━━━━━━━━━━━━\u001b[0m \u001b[32m856.7/856.7 kB\u001b[0m \u001b[31m11.4 MB/s\u001b[0m eta \u001b[36m0:00:00\u001b[0m\r\n",
      "\u001b[?25hRequirement already satisfied: python-dateutil in /opt/conda/lib/python3.10/site-packages (from PyGithub) (2.8.2)\r\n",
      "Requirement already satisfied: pyjwt[crypto]>=2.4.0 in /opt/conda/lib/python3.10/site-packages (from PyGithub) (2.8.0)\r\n",
      "Requirement already satisfied: typing-extensions>=4.0.0 in /opt/conda/lib/python3.10/site-packages (from PyGithub) (4.5.0)\r\n",
      "Requirement already satisfied: urllib3>=1.26.0 in /opt/conda/lib/python3.10/site-packages (from PyGithub) (1.26.15)\r\n",
      "Requirement already satisfied: Deprecated in /opt/conda/lib/python3.10/site-packages (from PyGithub) (1.2.14)\r\n",
      "Requirement already satisfied: charset-normalizer<4,>=2 in /opt/conda/lib/python3.10/site-packages (from requests) (3.2.0)\r\n",
      "Requirement already satisfied: idna<4,>=2.5 in /opt/conda/lib/python3.10/site-packages (from requests) (3.4)\r\n",
      "Requirement already satisfied: certifi>=2017.4.17 in /opt/conda/lib/python3.10/site-packages (from requests) (2023.7.22)\r\n",
      "Requirement already satisfied: cryptography>=3.4.0 in /opt/conda/lib/python3.10/site-packages (from pyjwt[crypto]>=2.4.0->PyGithub) (41.0.3)\r\n",
      "Requirement already satisfied: cffi>=1.4.1 in /opt/conda/lib/python3.10/site-packages (from pynacl>=1.4.0->PyGithub) (1.15.1)\r\n",
      "Requirement already satisfied: wrapt<2,>=1.10 in /opt/conda/lib/python3.10/site-packages (from Deprecated->PyGithub) (1.15.0)\r\n",
      "Requirement already satisfied: six>=1.5 in /opt/conda/lib/python3.10/site-packages (from python-dateutil->PyGithub) (1.16.0)\r\n",
      "Requirement already satisfied: pycparser in /opt/conda/lib/python3.10/site-packages (from cffi>=1.4.1->pynacl>=1.4.0->PyGithub) (2.21)\r\n",
      "Downloading PyGithub-2.1.1-py3-none-any.whl (302 kB)\r\n",
      "\u001b[2K   \u001b[90m━━━━━━━━━━━━━━━━━━━━━━━━━━━━━━━━━━━━━━━━\u001b[0m \u001b[32m302.9/302.9 kB\u001b[0m \u001b[31m24.2 MB/s\u001b[0m eta \u001b[36m0:00:00\u001b[0m\r\n",
      "\u001b[?25hInstalling collected packages: pynacl, PyGithub\r\n",
      "Successfully installed PyGithub-2.1.1 pynacl-1.5.0\r\n"
     ]
    }
   ],
   "source": [
    "! pip install PyGithub requests"
   ]
  },
  {
   "cell_type": "code",
   "execution_count": 3,
   "id": "dc6206fe",
   "metadata": {
    "_kg_hide-output": true,
    "execution": {
     "iopub.execute_input": "2023-12-01T18:00:38.794690Z",
     "iopub.status.busy": "2023-12-01T18:00:38.794305Z",
     "iopub.status.idle": "2023-12-01T18:03:13.900727Z",
     "shell.execute_reply": "2023-12-01T18:03:13.899280Z"
    },
    "papermill": {
     "duration": 155.12642,
     "end_time": "2023-12-01T18:03:13.903666",
     "exception": false,
     "start_time": "2023-12-01T18:00:38.777246",
     "status": "completed"
    },
    "scrolled": true,
    "tags": []
   },
   "outputs": [
    {
     "name": "stdout",
     "output_type": "stream",
     "text": [
      "run_compile_all_cython: Found 10 Cython files in 4 folders...\r\n",
      "run_compile_all_cython: All files will be compiled using your current python environment: '/opt/conda/bin/python'\r\n",
      "Compiling [1/10]: MatrixFactorization_Cython_Epoch.pyx... \r\n",
      "In file included from \u001b[01m\u001b[K/opt/conda/lib/python3.10/site-packages/numpy/core/include/numpy/ndarraytypes.h:1940\u001b[m\u001b[K,\r\n",
      "                 from \u001b[01m\u001b[K/opt/conda/lib/python3.10/site-packages/numpy/core/include/numpy/ndarrayobject.h:12\u001b[m\u001b[K,\r\n",
      "                 from \u001b[01m\u001b[K/opt/conda/lib/python3.10/site-packages/numpy/core/include/numpy/arrayobject.h:5\u001b[m\u001b[K,\r\n",
      "                 from \u001b[01m\u001b[KMatrixFactorization_Cython_Epoch.c:1109\u001b[m\u001b[K:\r\n",
      "\u001b[01m\u001b[K/opt/conda/lib/python3.10/site-packages/numpy/core/include/numpy/npy_1_7_deprecated_api.h:17:2:\u001b[m\u001b[K \u001b[01;35m\u001b[Kwarning: \u001b[m\u001b[K#warning \"Using deprecated NumPy API, disable it with \" \"#define NPY_NO_DEPRECATED_API NPY_1_7_API_VERSION\" [\u001b[01;35m\u001b[K-Wcpp\u001b[m\u001b[K]\r\n",
      "   17 | #\u001b[01;35m\u001b[Kwarning\u001b[m\u001b[K \"Using deprecated NumPy API, disable it with \" \\\r\n",
      "      |  \u001b[01;35m\u001b[K^~~~~~~\u001b[m\u001b[K\r\n",
      "\u001b[01m\u001b[KMatrixFactorization_Cython_Epoch.c:\u001b[m\u001b[K In function ‘\u001b[01m\u001b[K__pyx_pf_32MatrixFactorization_Cython_Epoch_32MatrixFactorization_Cython_Epoch_10epochIteration_Cython_ASY_SVD_SGD\u001b[m\u001b[K’:\r\n",
      "\u001b[01m\u001b[KMatrixFactorization_Cython_Epoch.c:25614:9:\u001b[m\u001b[K \u001b[01;35m\u001b[Kwarning: \u001b[m\u001b[K‘\u001b[01m\u001b[K__pyx_v_end_pos_seen_items\u001b[m\u001b[K’ may be used uninitialized in this function [\u001b[01;35m\u001b[K-Wmaybe-uninitialized\u001b[m\u001b[K]\r\n",
      "25614 |         \u001b[01;35m\u001b[Kfor\u001b[m\u001b[K (__pyx_t_21 = __pyx_v_start_pos_seen_items; __pyx_t_21 < __pyx_t_20; __pyx_t_21+=1) {\r\n",
      "      |         \u001b[01;35m\u001b[K^~~\u001b[m\u001b[K\r\n",
      "\u001b[01m\u001b[KMatrixFactorization_Cython_Epoch.c:25614:9:\u001b[m\u001b[K \u001b[01;35m\u001b[Kwarning: \u001b[m\u001b[K‘\u001b[01m\u001b[K__pyx_v_start_pos_seen_items\u001b[m\u001b[K’ may be used uninitialized in this function [\u001b[01;35m\u001b[K-Wmaybe-uninitialized\u001b[m\u001b[K]\r\n",
      "/opt/conda/lib/python3.10/site-packages/Cython/Compiler/Main.py:381: FutureWarning: Cython directive 'language_level' not set, using '3str' for now (Py3). This has changed from earlier releases! File: /kaggle/working/Recsys_Challenge_2023/Recommenders/MatrixFactorization/Cython/MatrixFactorization_Cython_Epoch.pyx\r\n",
      "  tree = Parsing.p_module(s, pxd, full_module_name)\r\n",
      "Compiling [1/10]: MatrixFactorization_Cython_Epoch.pyx... PASS\r\n",
      "\r\n",
      "Compiling [2/10]: MatrixFactorizationImpressions_Cython_Epoch.pyx... \r\n",
      "In file included from \u001b[01m\u001b[K/opt/conda/lib/python3.10/site-packages/numpy/core/include/numpy/ndarraytypes.h:1940\u001b[m\u001b[K,\r\n",
      "                 from \u001b[01m\u001b[K/opt/conda/lib/python3.10/site-packages/numpy/core/include/numpy/ndarrayobject.h:12\u001b[m\u001b[K,\r\n",
      "                 from \u001b[01m\u001b[K/opt/conda/lib/python3.10/site-packages/numpy/core/include/numpy/arrayobject.h:5\u001b[m\u001b[K,\r\n",
      "                 from \u001b[01m\u001b[KMatrixFactorizationImpressions_Cython_Epoch.c:1109\u001b[m\u001b[K:\r\n",
      "\u001b[01m\u001b[K/opt/conda/lib/python3.10/site-packages/numpy/core/include/numpy/npy_1_7_deprecated_api.h:17:2:\u001b[m\u001b[K \u001b[01;35m\u001b[Kwarning: \u001b[m\u001b[K#warning \"Using deprecated NumPy API, disable it with \" \"#define NPY_NO_DEPRECATED_API NPY_1_7_API_VERSION\" [\u001b[01;35m\u001b[K-Wcpp\u001b[m\u001b[K]\r\n",
      "   17 | #\u001b[01;35m\u001b[Kwarning\u001b[m\u001b[K \"Using deprecated NumPy API, disable it with \" \\\r\n",
      "      |  \u001b[01;35m\u001b[K^~~~~~~\u001b[m\u001b[K\r\n",
      "\u001b[01m\u001b[KMatrixFactorizationImpressions_Cython_Epoch.c:\u001b[m\u001b[K In function ‘\u001b[01m\u001b[K__pyx_f_43MatrixFactorizationImpressions_Cython_Epoch_32MatrixFactorization_Cython_Epoch_sampleBPR_Cython\u001b[m\u001b[K’:\r\n",
      "\u001b[01m\u001b[KMatrixFactorizationImpressions_Cython_Epoch.c:29664:17:\u001b[m\u001b[K \u001b[01;35m\u001b[Kwarning: \u001b[m\u001b[K‘\u001b[01m\u001b[K__pyx_v_start_pos_impression_items\u001b[m\u001b[K’ may be used uninitialized in this function [\u001b[01;35m\u001b[K-Wmaybe-uninitialized\u001b[m\u001b[K]\r\n",
      "29664 |       \u001b[01;35m\u001b[K__pyx_t_4 = (__pyx_v_start_pos_impression_items + __pyx_v_index)\u001b[m\u001b[K;\r\n",
      "      |       \u001b[01;35m\u001b[K~~~~~~~~~~^~~~~~~~~~~~~~~~~~~~~~~~~~~~~~~~~~~~~~~~~~~~~~~~~~~~~~\u001b[m\u001b[K\r\n",
      "\u001b[01m\u001b[KMatrixFactorizationImpressions_Cython_Epoch.c:\u001b[m\u001b[K In function ‘\u001b[01m\u001b[K__pyx_pf_43MatrixFactorizationImpressions_Cython_Epoch_32MatrixFactorization_Cython_Epoch_10epochIteration_Cython_ASY_SVD_SGD\u001b[m\u001b[K’:\r\n",
      "\u001b[01m\u001b[KMatrixFactorizationImpressions_Cython_Epoch.c:25474:7:\u001b[m\u001b[K \u001b[01;35m\u001b[Kwarning: \u001b[m\u001b[K‘\u001b[01m\u001b[K__pyx_v_end_pos_seen_items\u001b[m\u001b[K’ may be used uninitialized in this function [\u001b[01;35m\u001b[K-Wmaybe-uninitialized\u001b[m\u001b[K]\r\n",
      "25474 |       \u001b[01;35m\u001b[Kfor\u001b[m\u001b[K (__pyx_t_21 = __pyx_v_start_pos_seen_items; __pyx_t_21 < __pyx_t_20; __pyx_t_21+=1) {\r\n",
      "      |       \u001b[01;35m\u001b[K^~~\u001b[m\u001b[K\r\n",
      "\u001b[01m\u001b[KMatrixFactorizationImpressions_Cython_Epoch.c:25474:7:\u001b[m\u001b[K \u001b[01;35m\u001b[Kwarning: \u001b[m\u001b[K‘\u001b[01m\u001b[K__pyx_v_start_pos_seen_items\u001b[m\u001b[K’ may be used uninitialized in this function [\u001b[01;35m\u001b[K-Wmaybe-uninitialized\u001b[m\u001b[K]\r\n",
      "/opt/conda/lib/python3.10/site-packages/Cython/Compiler/Main.py:381: FutureWarning: Cython directive 'language_level' not set, using '3str' for now (Py3). This has changed from earlier releases! File: /kaggle/working/Recsys_Challenge_2023/Recommenders/MatrixFactorization/Cython/MatrixFactorizationImpressions_Cython_Epoch.pyx\r\n",
      "  tree = Parsing.p_module(s, pxd, full_module_name)\r\n",
      "Compiling [2/10]: MatrixFactorizationImpressions_Cython_Epoch.pyx... PASS\r\n",
      "\r\n",
      "Compiling [3/10]: Compute_Similarity_Cython.pyx... \r\n",
      "warning: Compute_Similarity_Cython.pyx:21:0: The 'IF' statement is deprecated and will be removed in a future Cython version. Consider using runtime conditions or C macros instead. See https://github.com/cython/cython/issues/4310\r\n",
      "warning: Compute_Similarity_Cython.pyx:22:4: The 'DEF' statement is deprecated and will be removed in a future Cython version. Consider using global variables, constants, and in-place literals instead. See https://github.com/cython/cython/issues/4310\r\n",
      "warning: Compute_Similarity_Cython.pyx:24:4: The 'DEF' statement is deprecated and will be removed in a future Cython version. Consider using global variables, constants, and in-place literals instead. See https://github.com/cython/cython/issues/4310\r\n",
      "warning: Compute_Similarity_Cython.pyx:26:4: The 'DEF' statement is deprecated and will be removed in a future Cython version. Consider using global variables, constants, and in-place literals instead. See https://github.com/cython/cython/issues/4310\r\n",
      "In file included from \u001b[01m\u001b[K/opt/conda/lib/python3.10/site-packages/numpy/core/include/numpy/ndarraytypes.h:1940\u001b[m\u001b[K,\r\n",
      "                 from \u001b[01m\u001b[K/opt/conda/lib/python3.10/site-packages/numpy/core/include/numpy/ndarrayobject.h:12\u001b[m\u001b[K,\r\n",
      "                 from \u001b[01m\u001b[K/opt/conda/lib/python3.10/site-packages/numpy/core/include/numpy/arrayobject.h:5\u001b[m\u001b[K,\r\n",
      "                 from \u001b[01m\u001b[KCompute_Similarity_Cython.c:1109\u001b[m\u001b[K:\r\n",
      "\u001b[01m\u001b[K/opt/conda/lib/python3.10/site-packages/numpy/core/include/numpy/npy_1_7_deprecated_api.h:17:2:\u001b[m\u001b[K \u001b[01;35m\u001b[Kwarning: \u001b[m\u001b[K#warning \"Using deprecated NumPy API, disable it with \" \"#define NPY_NO_DEPRECATED_API NPY_1_7_API_VERSION\" [\u001b[01;35m\u001b[K-Wcpp\u001b[m\u001b[K]\r\n",
      "   17 | #\u001b[01;35m\u001b[Kwarning\u001b[m\u001b[K \"Using deprecated NumPy API, disable it with \" \\\r\n",
      "      |  \u001b[01;35m\u001b[K^~~~~~~\u001b[m\u001b[K\r\n",
      "/opt/conda/lib/python3.10/site-packages/Cython/Compiler/Main.py:381: FutureWarning: Cython directive 'language_level' not set, using '3str' for now (Py3). This has changed from earlier releases! File: /kaggle/working/Recsys_Challenge_2023/Recommenders/Similarity/Cython/Compute_Similarity_Cython.pyx\r\n",
      "  tree = Parsing.p_module(s, pxd, full_module_name)\r\n",
      "warning: Compute_Similarity_Cython.pyx:21:0: The 'IF' statement is deprecated and will be removed in a future Cython version. Consider using runtime conditions or C macros instead. See https://github.com/cython/cython/issues/4310\r\n",
      "warning: Compute_Similarity_Cython.pyx:22:4: The 'DEF' statement is deprecated and will be removed in a future Cython version. Consider using global variables, constants, and in-place literals instead. See https://github.com/cython/cython/issues/4310\r\n",
      "warning: Compute_Similarity_Cython.pyx:24:4: The 'DEF' statement is deprecated and will be removed in a future Cython version. Consider using global variables, constants, and in-place literals instead. See https://github.com/cython/cython/issues/4310\r\n",
      "warning: Compute_Similarity_Cython.pyx:26:4: The 'DEF' statement is deprecated and will be removed in a future Cython version. Consider using global variables, constants, and in-place literals instead. See https://github.com/cython/cython/issues/4310\r\n",
      "Compiling [3/10]: Compute_Similarity_Cython.pyx... PASS\r\n",
      "\r\n",
      "Compiling [4/10]: SLIM_BPR_Cython_Epoch.pyx... \r\n",
      "warning: SLIM_BPR_Cython_Epoch.pyx:24:0: The 'IF' statement is deprecated and will be removed in a future Cython version. Consider using runtime conditions or C macros instead. See https://github.com/cython/cython/issues/4310\r\n",
      "warning: SLIM_BPR_Cython_Epoch.pyx:25:4: The 'DEF' statement is deprecated and will be removed in a future Cython version. Consider using global variables, constants, and in-place literals instead. See https://github.com/cython/cython/issues/4310\r\n",
      "warning: SLIM_BPR_Cython_Epoch.pyx:27:4: The 'DEF' statement is deprecated and will be removed in a future Cython version. Consider using global variables, constants, and in-place literals instead. See https://github.com/cython/cython/issues/4310\r\n",
      "warning: SLIM_BPR_Cython_Epoch.pyx:29:4: The 'DEF' statement is deprecated and will be removed in a future Cython version. Consider using global variables, constants, and in-place literals instead. See https://github.com/cython/cython/issues/4310\r\n",
      "warning: SLIM_BPR_Cython_Epoch.pyx:632:34: Non-trivial type declarators in shared declaration (e.g. mix of pointers and values). Each pointer declaration should be on its own line.\r\n",
      "warning: SLIM_BPR_Cython_Epoch.pyx:632:66: Non-trivial type declarators in shared declaration (e.g. mix of pointers and values). Each pointer declaration should be on its own line.\r\n",
      "warning: SLIM_BPR_Cython_Epoch.pyx:817:35: Non-trivial type declarators in shared declaration (e.g. mix of pointers and values). Each pointer declaration should be on its own line.\r\n",
      "warning: SLIM_BPR_Cython_Epoch.pyx:817:52: Non-trivial type declarators in shared declaration (e.g. mix of pointers and values). Each pointer declaration should be on its own line.\r\n",
      "warning: SLIM_BPR_Cython_Epoch.pyx:916:35: Non-trivial type declarators in shared declaration (e.g. mix of pointers and values). Each pointer declaration should be on its own line.\r\n",
      "warning: SLIM_BPR_Cython_Epoch.pyx:916:53: Non-trivial type declarators in shared declaration (e.g. mix of pointers and values). Each pointer declaration should be on its own line.\r\n",
      "warning: SLIM_BPR_Cython_Epoch.pyx:916:69: Non-trivial type declarators in shared declaration (e.g. mix of pointers and values). Each pointer declaration should be on its own line.\r\n",
      "warning: SLIM_BPR_Cython_Epoch.pyx:1051:35: Non-trivial type declarators in shared declaration (e.g. mix of pointers and values). Each pointer declaration should be on its own line.\r\n",
      "warning: SLIM_BPR_Cython_Epoch.pyx:1051:42: Non-trivial type declarators in shared declaration (e.g. mix of pointers and values). Each pointer declaration should be on its own line.\r\n",
      "warning: SLIM_BPR_Cython_Epoch.pyx:1052:35: Non-trivial type declarators in shared declaration (e.g. mix of pointers and values). Each pointer declaration should be on its own line.\r\n",
      "warning: SLIM_BPR_Cython_Epoch.pyx:1052:53: Non-trivial type declarators in shared declaration (e.g. mix of pointers and values). Each pointer declaration should be on its own line.\r\n",
      "\r\n",
      "Error compiling Cython file:\r\n",
      "------------------------------------------------------------\r\n",
      "...\r\n",
      "            vector_pointer_to_list_elements[index].head = current_element\r\n",
      "            current_element = current_element.higher\r\n",
      "\r\n",
      "\r\n",
      "        # Sort array elements on their data field\r\n",
      "        qsort(vector_pointer_to_list_elements, list_length, sizeof(head_pointer_tree_s), compare_struct_on_data)\r\n",
      "                                                                                         ^\r\n",
      "------------------------------------------------------------\r\n",
      "\r\n",
      "SLIM_BPR_Cython_Epoch.pyx:990:89: Cannot assign type 'int (const void *, const void *) except? -1' to 'int (*)(const_void *, const_void *) noexcept'\r\n",
      "\r\n",
      "Error compiling Cython file:\r\n",
      "------------------------------------------------------------\r\n",
      "...\r\n",
      "        # Sort array elements on their data field\r\n",
      "        qsort(vector_pointer_to_list_elements, list_length, sizeof(head_pointer_tree_s), compare_struct_on_data)\r\n",
      "\r\n",
      "        # Sort only the TopK according to their column field\r\n",
      "        # Sort is from lower to higher, therefore the elements to be considered are from len-topK to len\r\n",
      "        qsort(&vector_pointer_to_list_elements[list_length-TopK], TopK, sizeof(head_pointer_tree_s), compare_struct_on_column)\r\n",
      "                                                                                                     ^\r\n",
      "------------------------------------------------------------\r\n",
      "\r\n",
      "SLIM_BPR_Cython_Epoch.pyx:994:101: Cannot assign type 'int (const void *, const void *) except? -1' to 'int (*)(const_void *, const_void *) noexcept'\r\n",
      "Traceback (most recent call last):\r\n",
      "  File \"/kaggle/working/Recsys_Challenge_2023/CythonCompiler/compile_script.py\", line 48, in <module>\r\n",
      "    setup(\r\n",
      "  File \"/opt/conda/lib/python3.10/site-packages/setuptools/__init__.py\", line 107, in setup\r\n",
      "    return distutils.core.setup(**attrs)\r\n",
      "  File \"/opt/conda/lib/python3.10/site-packages/setuptools/_distutils/core.py\", line 185, in setup\r\n",
      "    return run_commands(dist)\r\n",
      "  File \"/opt/conda/lib/python3.10/site-packages/setuptools/_distutils/core.py\", line 201, in run_commands\r\n",
      "    dist.run_commands()\r\n",
      "  File \"/opt/conda/lib/python3.10/site-packages/setuptools/_distutils/dist.py\", line 969, in run_commands\r\n",
      "    self.run_command(cmd)\r\n",
      "  File \"/opt/conda/lib/python3.10/site-packages/setuptools/dist.py\", line 1233, in run_command\r\n",
      "    super().run_command(command)\r\n",
      "  File \"/opt/conda/lib/python3.10/site-packages/setuptools/_distutils/dist.py\", line 988, in run_command\r\n",
      "    cmd_obj.run()\r\n",
      "  File \"/opt/conda/lib/python3.10/site-packages/setuptools/_distutils/command/build_ext.py\", line 345, in run\r\n",
      "    self.build_extensions()\r\n",
      "  File \"/opt/conda/lib/python3.10/site-packages/setuptools/_distutils/command/build_ext.py\", line 467, in build_extensions\r\n",
      "    self._build_extensions_serial()\r\n",
      "  File \"/opt/conda/lib/python3.10/site-packages/setuptools/_distutils/command/build_ext.py\", line 493, in _build_extensions_serial\r\n",
      "    self.build_extension(ext)\r\n",
      "  File \"/opt/conda/lib/python3.10/site-packages/Cython/Distutils/build_ext.py\", line 122, in build_extension\r\n",
      "    new_ext = cythonize(\r\n",
      "  File \"/opt/conda/lib/python3.10/site-packages/Cython/Build/Dependencies.py\", line 1134, in cythonize\r\n",
      "    cythonize_one(*args)\r\n",
      "  File \"/opt/conda/lib/python3.10/site-packages/Cython/Build/Dependencies.py\", line 1301, in cythonize_one\r\n",
      "    raise CompileError(None, pyx_file)\r\n",
      "Cython.Compiler.Errors.CompileError: SLIM_BPR_Cython_Epoch.pyx\r\n",
      "Traceback (most recent call last):\r\n",
      "  File \"/kaggle/working/Recsys_Challenge_2023/run_compile_all_cython.py\", line 59, in <module>\r\n",
      "    run_compile_subprocess(file_path, [file_name])\r\n",
      "  File \"/kaggle/working/Recsys_Challenge_2023/CythonCompiler/run_compile_subprocess.py\", line 51, in run_compile_subprocess\r\n",
      "    raise exc\r\n",
      "  File \"/kaggle/working/Recsys_Challenge_2023/CythonCompiler/run_compile_subprocess.py\", line 32, in run_compile_subprocess\r\n",
      "    output = subprocess.check_output(' '.join(command),\r\n",
      "  File \"/opt/conda/lib/python3.10/subprocess.py\", line 421, in check_output\r\n",
      "    return run(*popenargs, stdout=PIPE, timeout=timeout, check=True,\r\n",
      "  File \"/opt/conda/lib/python3.10/subprocess.py\", line 526, in run\r\n",
      "    raise CalledProcessError(retcode, process.args,\r\n",
      "subprocess.CalledProcessError: Command '/opt/conda/bin/python /kaggle/working/Recsys_Challenge_2023/CythonCompiler/compile_script.py SLIM_BPR_Cython_Epoch.pyx build_ext --inplace' returned non-zero exit status 1.\r\n",
      "Compiling [4/10]: SLIM_BPR_Cython_Epoch.pyx... FAIL: Command '/opt/conda/bin/python /kaggle/working/Recsys_Challenge_2023/CythonCompiler/compile_script.py SLIM_BPR_Cython_Epoch.pyx build_ext --inplace' returned non-zero exit status 1.\r\n",
      "\r\n",
      "Compiling [5/10]: Triangular_Matrix.pyx... \r\n",
      "warning: Triangular_Matrix.pyx:22:0: The 'IF' statement is deprecated and will be removed in a future Cython version. Consider using runtime conditions or C macros instead. See https://github.com/cython/cython/issues/4310\r\n",
      "warning: Triangular_Matrix.pyx:23:4: The 'DEF' statement is deprecated and will be removed in a future Cython version. Consider using global variables, constants, and in-place literals instead. See https://github.com/cython/cython/issues/4310\r\n",
      "warning: Triangular_Matrix.pyx:25:4: The 'DEF' statement is deprecated and will be removed in a future Cython version. Consider using global variables, constants, and in-place literals instead. See https://github.com/cython/cython/issues/4310\r\n",
      "warning: Triangular_Matrix.pyx:27:4: The 'DEF' statement is deprecated and will be removed in a future Cython version. Consider using global variables, constants, and in-place literals instead. See https://github.com/cython/cython/issues/4310\r\n",
      "In file included from \u001b[01m\u001b[K/opt/conda/lib/python3.10/site-packages/numpy/core/include/numpy/ndarraytypes.h:1940\u001b[m\u001b[K,\r\n",
      "                 from \u001b[01m\u001b[K/opt/conda/lib/python3.10/site-packages/numpy/core/include/numpy/ndarrayobject.h:12\u001b[m\u001b[K,\r\n",
      "                 from \u001b[01m\u001b[K/opt/conda/lib/python3.10/site-packages/numpy/core/include/numpy/arrayobject.h:5\u001b[m\u001b[K,\r\n",
      "                 from \u001b[01m\u001b[KTriangular_Matrix.c:1109\u001b[m\u001b[K:\r\n",
      "\u001b[01m\u001b[K/opt/conda/lib/python3.10/site-packages/numpy/core/include/numpy/npy_1_7_deprecated_api.h:17:2:\u001b[m\u001b[K \u001b[01;35m\u001b[Kwarning: \u001b[m\u001b[K#warning \"Using deprecated NumPy API, disable it with \" \"#define NPY_NO_DEPRECATED_API NPY_1_7_API_VERSION\" [\u001b[01;35m\u001b[K-Wcpp\u001b[m\u001b[K]\r\n",
      "   17 | #\u001b[01;35m\u001b[Kwarning\u001b[m\u001b[K \"Using deprecated NumPy API, disable it with \" \\\r\n",
      "      |  \u001b[01;35m\u001b[K^~~~~~~\u001b[m\u001b[K\r\n",
      "/opt/conda/lib/python3.10/site-packages/Cython/Compiler/Main.py:381: FutureWarning: Cython directive 'language_level' not set, using '3str' for now (Py3). This has changed from earlier releases! File: /kaggle/working/Recsys_Challenge_2023/Recommenders/SLIM/Cython/Triangular_Matrix.pyx\r\n",
      "  tree = Parsing.p_module(s, pxd, full_module_name)\r\n",
      "warning: Triangular_Matrix.pyx:22:0: The 'IF' statement is deprecated and will be removed in a future Cython version. Consider using runtime conditions or C macros instead. See https://github.com/cython/cython/issues/4310\r\n",
      "warning: Triangular_Matrix.pyx:23:4: The 'DEF' statement is deprecated and will be removed in a future Cython version. Consider using global variables, constants, and in-place literals instead. See https://github.com/cython/cython/issues/4310\r\n",
      "warning: Triangular_Matrix.pyx:25:4: The 'DEF' statement is deprecated and will be removed in a future Cython version. Consider using global variables, constants, and in-place literals instead. See https://github.com/cython/cython/issues/4310\r\n",
      "warning: Triangular_Matrix.pyx:27:4: The 'DEF' statement is deprecated and will be removed in a future Cython version. Consider using global variables, constants, and in-place literals instead. See https://github.com/cython/cython/issues/4310\r\n",
      "Compiling [5/10]: Triangular_Matrix.pyx... PASS\r\n",
      "\r\n",
      "Compiling [6/10]: Sparse_Matrix_Tree_CSR.pyx... \r\n",
      "warning: Sparse_Matrix_Tree_CSR.pyx:132:34: Non-trivial type declarators in shared declaration (e.g. mix of pointers and values). Each pointer declaration should be on its own line.\r\n",
      "warning: Sparse_Matrix_Tree_CSR.pyx:132:66: Non-trivial type declarators in shared declaration (e.g. mix of pointers and values). Each pointer declaration should be on its own line.\r\n",
      "warning: Sparse_Matrix_Tree_CSR.pyx:343:35: Non-trivial type declarators in shared declaration (e.g. mix of pointers and values). Each pointer declaration should be on its own line.\r\n",
      "warning: Sparse_Matrix_Tree_CSR.pyx:343:52: Non-trivial type declarators in shared declaration (e.g. mix of pointers and values). Each pointer declaration should be on its own line.\r\n",
      "warning: Sparse_Matrix_Tree_CSR.pyx:442:35: Non-trivial type declarators in shared declaration (e.g. mix of pointers and values). Each pointer declaration should be on its own line.\r\n",
      "warning: Sparse_Matrix_Tree_CSR.pyx:442:53: Non-trivial type declarators in shared declaration (e.g. mix of pointers and values). Each pointer declaration should be on its own line.\r\n",
      "warning: Sparse_Matrix_Tree_CSR.pyx:442:69: Non-trivial type declarators in shared declaration (e.g. mix of pointers and values). Each pointer declaration should be on its own line.\r\n",
      "warning: Sparse_Matrix_Tree_CSR.pyx:577:35: Non-trivial type declarators in shared declaration (e.g. mix of pointers and values). Each pointer declaration should be on its own line.\r\n",
      "warning: Sparse_Matrix_Tree_CSR.pyx:577:42: Non-trivial type declarators in shared declaration (e.g. mix of pointers and values). Each pointer declaration should be on its own line.\r\n",
      "warning: Sparse_Matrix_Tree_CSR.pyx:578:35: Non-trivial type declarators in shared declaration (e.g. mix of pointers and values). Each pointer declaration should be on its own line.\r\n",
      "warning: Sparse_Matrix_Tree_CSR.pyx:578:53: Non-trivial type declarators in shared declaration (e.g. mix of pointers and values). Each pointer declaration should be on its own line.\r\n",
      "\r\n",
      "Error compiling Cython file:\r\n",
      "------------------------------------------------------------\r\n",
      "...\r\n",
      "            vector_pointer_to_list_elements[index].head = current_element\r\n",
      "            current_element = current_element.higher\r\n",
      "\r\n",
      "\r\n",
      "        # Sort array elements on their data field\r\n",
      "        qsort(vector_pointer_to_list_elements, list_length, sizeof(head_pointer_tree_s), compare_struct_on_data)\r\n",
      "                                                                                         ^\r\n",
      "------------------------------------------------------------\r\n",
      "\r\n",
      "Sparse_Matrix_Tree_CSR.pyx:516:89: Cannot assign type 'int (const void *, const void *) except? -1' to 'int (*)(const_void *, const_void *) noexcept'\r\n",
      "\r\n",
      "Error compiling Cython file:\r\n",
      "------------------------------------------------------------\r\n",
      "...\r\n",
      "        # Sort array elements on their data field\r\n",
      "        qsort(vector_pointer_to_list_elements, list_length, sizeof(head_pointer_tree_s), compare_struct_on_data)\r\n",
      "\r\n",
      "        # Sort only the TopK according to their column field\r\n",
      "        # Sort is from lower to higher, therefore the elements to be considered are from len-topK to len\r\n",
      "        qsort(&vector_pointer_to_list_elements[list_length-TopK], TopK, sizeof(head_pointer_tree_s), compare_struct_on_column)\r\n",
      "                                                                                                     ^\r\n",
      "------------------------------------------------------------\r\n",
      "\r\n",
      "Sparse_Matrix_Tree_CSR.pyx:520:101: Cannot assign type 'int (const void *, const void *) except? -1' to 'int (*)(const_void *, const_void *) noexcept'\r\n",
      "Traceback (most recent call last):\r\n",
      "  File \"/kaggle/working/Recsys_Challenge_2023/CythonCompiler/compile_script.py\", line 48, in <module>\r\n",
      "    setup(\r\n",
      "  File \"/opt/conda/lib/python3.10/site-packages/setuptools/__init__.py\", line 107, in setup\r\n",
      "    return distutils.core.setup(**attrs)\r\n",
      "  File \"/opt/conda/lib/python3.10/site-packages/setuptools/_distutils/core.py\", line 185, in setup\r\n",
      "    return run_commands(dist)\r\n",
      "  File \"/opt/conda/lib/python3.10/site-packages/setuptools/_distutils/core.py\", line 201, in run_commands\r\n",
      "    dist.run_commands()\r\n",
      "  File \"/opt/conda/lib/python3.10/site-packages/setuptools/_distutils/dist.py\", line 969, in run_commands\r\n",
      "    self.run_command(cmd)\r\n",
      "  File \"/opt/conda/lib/python3.10/site-packages/setuptools/dist.py\", line 1233, in run_command\r\n",
      "    super().run_command(command)\r\n",
      "  File \"/opt/conda/lib/python3.10/site-packages/setuptools/_distutils/dist.py\", line 988, in run_command\r\n",
      "    cmd_obj.run()\r\n",
      "  File \"/opt/conda/lib/python3.10/site-packages/setuptools/_distutils/command/build_ext.py\", line 345, in run\r\n",
      "    self.build_extensions()\r\n",
      "  File \"/opt/conda/lib/python3.10/site-packages/setuptools/_distutils/command/build_ext.py\", line 467, in build_extensions\r\n",
      "    self._build_extensions_serial()\r\n",
      "  File \"/opt/conda/lib/python3.10/site-packages/setuptools/_distutils/command/build_ext.py\", line 493, in _build_extensions_serial\r\n",
      "    self.build_extension(ext)\r\n",
      "  File \"/opt/conda/lib/python3.10/site-packages/Cython/Distutils/build_ext.py\", line 122, in build_extension\r\n",
      "    new_ext = cythonize(\r\n",
      "  File \"/opt/conda/lib/python3.10/site-packages/Cython/Build/Dependencies.py\", line 1134, in cythonize\r\n",
      "    cythonize_one(*args)\r\n",
      "  File \"/opt/conda/lib/python3.10/site-packages/Cython/Build/Dependencies.py\", line 1301, in cythonize_one\r\n",
      "    raise CompileError(None, pyx_file)\r\n",
      "Cython.Compiler.Errors.CompileError: Sparse_Matrix_Tree_CSR.pyx\r\n",
      "Traceback (most recent call last):\r\n",
      "  File \"/kaggle/working/Recsys_Challenge_2023/run_compile_all_cython.py\", line 59, in <module>\r\n",
      "    run_compile_subprocess(file_path, [file_name])\r\n",
      "  File \"/kaggle/working/Recsys_Challenge_2023/CythonCompiler/run_compile_subprocess.py\", line 51, in run_compile_subprocess\r\n",
      "    raise exc\r\n",
      "  File \"/kaggle/working/Recsys_Challenge_2023/CythonCompiler/run_compile_subprocess.py\", line 32, in run_compile_subprocess\r\n",
      "    output = subprocess.check_output(' '.join(command),\r\n",
      "  File \"/opt/conda/lib/python3.10/subprocess.py\", line 421, in check_output\r\n",
      "    return run(*popenargs, stdout=PIPE, timeout=timeout, check=True,\r\n",
      "  File \"/opt/conda/lib/python3.10/subprocess.py\", line 526, in run\r\n",
      "    raise CalledProcessError(retcode, process.args,\r\n",
      "subprocess.CalledProcessError: Command '/opt/conda/bin/python /kaggle/working/Recsys_Challenge_2023/CythonCompiler/compile_script.py Sparse_Matrix_Tree_CSR.pyx build_ext --inplace' returned non-zero exit status 1.\r\n",
      "Compiling [6/10]: Sparse_Matrix_Tree_CSR.pyx... FAIL: Command '/opt/conda/bin/python /kaggle/working/Recsys_Challenge_2023/CythonCompiler/compile_script.py Sparse_Matrix_Tree_CSR.pyx build_ext --inplace' returned non-zero exit status 1.\r\n",
      "\r\n",
      "Compiling [7/10]: CFW_DVV_Similarity_Cython_SGD.pyx... \r\n",
      "In file included from \u001b[01m\u001b[K/opt/conda/lib/python3.10/site-packages/numpy/core/include/numpy/ndarraytypes.h:1940\u001b[m\u001b[K,\r\n",
      "                 from \u001b[01m\u001b[K/opt/conda/lib/python3.10/site-packages/numpy/core/include/numpy/ndarrayobject.h:12\u001b[m\u001b[K,\r\n",
      "                 from \u001b[01m\u001b[K/opt/conda/lib/python3.10/site-packages/numpy/core/include/numpy/arrayobject.h:5\u001b[m\u001b[K,\r\n",
      "                 from \u001b[01m\u001b[KCFW_DVV_Similarity_Cython_SGD.c:1109\u001b[m\u001b[K:\r\n",
      "\u001b[01m\u001b[K/opt/conda/lib/python3.10/site-packages/numpy/core/include/numpy/npy_1_7_deprecated_api.h:17:2:\u001b[m\u001b[K \u001b[01;35m\u001b[Kwarning: \u001b[m\u001b[K#warning \"Using deprecated NumPy API, disable it with \" \"#define NPY_NO_DEPRECATED_API NPY_1_7_API_VERSION\" [\u001b[01;35m\u001b[K-Wcpp\u001b[m\u001b[K]\r\n",
      "   17 | #\u001b[01;35m\u001b[Kwarning\u001b[m\u001b[K \"Using deprecated NumPy API, disable it with \" \\\r\n",
      "      |  \u001b[01;35m\u001b[K^~~~~~~\u001b[m\u001b[K\r\n",
      "/opt/conda/lib/python3.10/site-packages/Cython/Compiler/Main.py:381: FutureWarning: Cython directive 'language_level' not set, using '3str' for now (Py3). This has changed from earlier releases! File: /kaggle/working/Recsys_Challenge_2023/Recommenders/FeatureWeighting/Cython/CFW_DVV_Similarity_Cython_SGD.pyx\r\n",
      "  tree = Parsing.p_module(s, pxd, full_module_name)\r\n",
      "Compiling [7/10]: CFW_DVV_Similarity_Cython_SGD.pyx... PASS\r\n",
      "\r\n",
      "Compiling [8/10]: HP3_Similarity_Cython_SGD.pyx... \r\n",
      "warning: HP3_Similarity_Cython_SGD.pyx:113:40: Index should be typed for more efficient access\r\n",
      "In file included from \u001b[01m\u001b[K/opt/conda/lib/python3.10/site-packages/numpy/core/include/numpy/ndarraytypes.h:1940\u001b[m\u001b[K,\r\n",
      "                 from \u001b[01m\u001b[K/opt/conda/lib/python3.10/site-packages/numpy/core/include/numpy/ndarrayobject.h:12\u001b[m\u001b[K,\r\n",
      "                 from \u001b[01m\u001b[K/opt/conda/lib/python3.10/site-packages/numpy/core/include/numpy/arrayobject.h:5\u001b[m\u001b[K,\r\n",
      "                 from \u001b[01m\u001b[KHP3_Similarity_Cython_SGD.c:1109\u001b[m\u001b[K:\r\n",
      "\u001b[01m\u001b[K/opt/conda/lib/python3.10/site-packages/numpy/core/include/numpy/npy_1_7_deprecated_api.h:17:2:\u001b[m\u001b[K \u001b[01;35m\u001b[Kwarning: \u001b[m\u001b[K#warning \"Using deprecated NumPy API, disable it with \" \"#define NPY_NO_DEPRECATED_API NPY_1_7_API_VERSION\" [\u001b[01;35m\u001b[K-Wcpp\u001b[m\u001b[K]\r\n",
      "   17 | #\u001b[01;35m\u001b[Kwarning\u001b[m\u001b[K \"Using deprecated NumPy API, disable it with \" \\\r\n",
      "      |  \u001b[01;35m\u001b[K^~~~~~~\u001b[m\u001b[K\r\n",
      "\u001b[01m\u001b[KHP3_Similarity_Cython_SGD.c:\u001b[m\u001b[K In function ‘\u001b[01m\u001b[K__pyx_pf_25HP3_Similarity_Cython_SGD_25HP3_Similarity_Cython_SGD_4fit\u001b[m\u001b[K’:\r\n",
      "\u001b[01m\u001b[KHP3_Similarity_Cython_SGD.c:23035:55:\u001b[m\u001b[K \u001b[01;35m\u001b[Kwarning: \u001b[m\u001b[K‘\u001b[01m\u001b[K__pyx_v_sample_num\u001b[m\u001b[K’ may be used uninitialized in this function [\u001b[01;35m\u001b[K-Wmaybe-uninitialized\u001b[m\u001b[K]\r\n",
      "23035 |   __pyx_t_1 = PyFloat_FromDouble((__pyx_v_cum_loss / \u001b[01;35m\u001b[K((double)__pyx_v_sample_num)\u001b[m\u001b[K)); if (unlikely(!__pyx_t_1)) __PYX_ERR(0, 291, __pyx_L1_error)\r\n",
      "      |                                                      \u001b[01;35m\u001b[K~^~~~~~~~~~~~~~~~~~~~~~~~~~~\u001b[m\u001b[K\r\n",
      "/opt/conda/lib/python3.10/site-packages/Cython/Compiler/Main.py:381: FutureWarning: Cython directive 'language_level' not set, using '3str' for now (Py3). This has changed from earlier releases! File: /kaggle/working/Recsys_Challenge_2023/Recommenders/FeatureWeighting/Cython/HP3_Similarity_Cython_SGD.pyx\r\n",
      "  tree = Parsing.p_module(s, pxd, full_module_name)\r\n",
      "warning: HP3_Similarity_Cython_SGD.pyx:113:40: Index should be typed for more efficient access\r\n",
      "Compiling [8/10]: HP3_Similarity_Cython_SGD.pyx... PASS\r\n",
      "\r\n",
      "Compiling [9/10]: FBSM_Rating_Cython_SGD.pyx... \r\n",
      "In file included from \u001b[01m\u001b[K/opt/conda/lib/python3.10/site-packages/numpy/core/include/numpy/ndarraytypes.h:1940\u001b[m\u001b[K,\r\n",
      "                 from \u001b[01m\u001b[K/opt/conda/lib/python3.10/site-packages/numpy/core/include/numpy/ndarrayobject.h:12\u001b[m\u001b[K,\r\n",
      "                 from \u001b[01m\u001b[K/opt/conda/lib/python3.10/site-packages/numpy/core/include/numpy/arrayobject.h:5\u001b[m\u001b[K,\r\n",
      "                 from \u001b[01m\u001b[KFBSM_Rating_Cython_SGD.c:1109\u001b[m\u001b[K:\r\n",
      "\u001b[01m\u001b[K/opt/conda/lib/python3.10/site-packages/numpy/core/include/numpy/npy_1_7_deprecated_api.h:17:2:\u001b[m\u001b[K \u001b[01;35m\u001b[Kwarning: \u001b[m\u001b[K#warning \"Using deprecated NumPy API, disable it with \" \"#define NPY_NO_DEPRECATED_API NPY_1_7_API_VERSION\" [\u001b[01;35m\u001b[K-Wcpp\u001b[m\u001b[K]\r\n",
      "   17 | #\u001b[01;35m\u001b[Kwarning\u001b[m\u001b[K \"Using deprecated NumPy API, disable it with \" \\\r\n",
      "      |  \u001b[01;35m\u001b[K^~~~~~~\u001b[m\u001b[K\r\n",
      "\u001b[01m\u001b[KFBSM_Rating_Cython_SGD.c:\u001b[m\u001b[K In function ‘\u001b[01m\u001b[K__pyx_pf_22FBSM_Rating_Cython_SGD_22FBSM_Rating_Cython_SGD_2fit\u001b[m\u001b[K’:\r\n",
      "\u001b[01m\u001b[KFBSM_Rating_Cython_SGD.c:26038:55:\u001b[m\u001b[K \u001b[01;35m\u001b[Kwarning: \u001b[m\u001b[K‘\u001b[01m\u001b[K__pyx_v_num_sample\u001b[m\u001b[K’ may be used uninitialized in this function [\u001b[01;35m\u001b[K-Wmaybe-uninitialized\u001b[m\u001b[K]\r\n",
      "26038 |   __pyx_t_5 = PyFloat_FromDouble((__pyx_v_cum_loss / \u001b[01;35m\u001b[K((double)__pyx_v_num_sample)\u001b[m\u001b[K)); if (unlikely(!__pyx_t_5)) __PYX_ERR(0, 551, __pyx_L1_error)\r\n",
      "      |                                                      \u001b[01;35m\u001b[K~^~~~~~~~~~~~~~~~~~~~~~~~~~~\u001b[m\u001b[K\r\n",
      "/opt/conda/lib/python3.10/site-packages/Cython/Compiler/Main.py:381: FutureWarning: Cython directive 'language_level' not set, using '3str' for now (Py3). This has changed from earlier releases! File: /kaggle/working/Recsys_Challenge_2023/Recommenders/FeatureWeighting/Cython/FBSM_Rating_Cython_SGD.pyx\r\n",
      "  tree = Parsing.p_module(s, pxd, full_module_name)\r\n",
      "Compiling [9/10]: FBSM_Rating_Cython_SGD.pyx... PASS\r\n",
      "\r\n",
      "Compiling [10/10]: CFW_D_Similarity_Cython_SGD.pyx... \r\n",
      "In file included from \u001b[01m\u001b[K/opt/conda/lib/python3.10/site-packages/numpy/core/include/numpy/ndarraytypes.h:1940\u001b[m\u001b[K,\r\n",
      "                 from \u001b[01m\u001b[K/opt/conda/lib/python3.10/site-packages/numpy/core/include/numpy/ndarrayobject.h:12\u001b[m\u001b[K,\r\n",
      "                 from \u001b[01m\u001b[K/opt/conda/lib/python3.10/site-packages/numpy/core/include/numpy/arrayobject.h:5\u001b[m\u001b[K,\r\n",
      "                 from \u001b[01m\u001b[KCFW_D_Similarity_Cython_SGD.c:1109\u001b[m\u001b[K:\r\n",
      "\u001b[01m\u001b[K/opt/conda/lib/python3.10/site-packages/numpy/core/include/numpy/npy_1_7_deprecated_api.h:17:2:\u001b[m\u001b[K \u001b[01;35m\u001b[Kwarning: \u001b[m\u001b[K#warning \"Using deprecated NumPy API, disable it with \" \"#define NPY_NO_DEPRECATED_API NPY_1_7_API_VERSION\" [\u001b[01;35m\u001b[K-Wcpp\u001b[m\u001b[K]\r\n",
      "   17 | #\u001b[01;35m\u001b[Kwarning\u001b[m\u001b[K \"Using deprecated NumPy API, disable it with \" \\\r\n",
      "      |  \u001b[01;35m\u001b[K^~~~~~~\u001b[m\u001b[K\r\n",
      "\u001b[01m\u001b[KCFW_D_Similarity_Cython_SGD.c:\u001b[m\u001b[K In function ‘\u001b[01m\u001b[K__pyx_pf_27CFW_D_Similarity_Cython_SGD_27CFW_D_Similarity_Cython_SGD_6fit\u001b[m\u001b[K’:\r\n",
      "\u001b[01m\u001b[KCFW_D_Similarity_Cython_SGD.c:22766:55:\u001b[m\u001b[K \u001b[01;35m\u001b[Kwarning: \u001b[m\u001b[K‘\u001b[01m\u001b[K__pyx_v_sample_num\u001b[m\u001b[K’ may be used uninitialized in this function [\u001b[01;35m\u001b[K-Wmaybe-uninitialized\u001b[m\u001b[K]\r\n",
      "22766 |   __pyx_t_3 = PyFloat_FromDouble((__pyx_v_cum_loss / \u001b[01;35m\u001b[K((double)__pyx_v_sample_num)\u001b[m\u001b[K)); if (unlikely(!__pyx_t_3)) __PYX_ERR(0, 290, __pyx_L1_error)\r\n",
      "      |                                                      \u001b[01;35m\u001b[K~^~~~~~~~~~~~~~~~~~~~~~~~~~~\u001b[m\u001b[K\r\n",
      "/opt/conda/lib/python3.10/site-packages/Cython/Compiler/Main.py:381: FutureWarning: Cython directive 'language_level' not set, using '3str' for now (Py3). This has changed from earlier releases! File: /kaggle/working/Recsys_Challenge_2023/Recommenders/FeatureWeighting/Cython/CFW_D_Similarity_Cython_SGD.pyx\r\n",
      "  tree = Parsing.p_module(s, pxd, full_module_name)\r\n",
      "Compiling [10/10]: CFW_D_Similarity_Cython_SGD.pyx... PASS\r\n",
      "\r\n",
      "run_compile_all_cython: Compilation finished. FAILS 2/10.\r\n",
      "Compilation log can be found here: './result_experiments/run_compile_all_cython.txt'\r\n"
     ]
    }
   ],
   "source": [
    "! cd /kaggle/working/Recsys_Challenge_2023 && python run_compile_all_cython.py"
   ]
  },
  {
   "cell_type": "code",
   "execution_count": 4,
   "id": "6021cfa2",
   "metadata": {
    "execution": {
     "iopub.execute_input": "2023-12-01T18:03:13.947146Z",
     "iopub.status.busy": "2023-12-01T18:03:13.946185Z",
     "iopub.status.idle": "2023-12-01T18:03:17.059524Z",
     "shell.execute_reply": "2023-12-01T18:03:17.058234Z"
    },
    "papermill": {
     "duration": 3.138359,
     "end_time": "2023-12-01T18:03:17.062217",
     "exception": false,
     "start_time": "2023-12-01T18:03:13.923858",
     "status": "completed"
    },
    "tags": []
   },
   "outputs": [
    {
     "name": "stdout",
     "output_type": "stream",
     "text": [
      "/kaggle/input/recommender-system-2023-challenge-polimi/data_train.csv\n",
      "/kaggle/input/recommender-system-2023-challenge-polimi/data_target_users_test.csv\n"
     ]
    }
   ],
   "source": [
    "import numpy as np\n",
    "import pandas as pd\n",
    "import matplotlib.pyplot as plt\n",
    "import seaborn as sns\n",
    "import joblib\n",
    "import json\n",
    "import random\n",
    "import tqdm\n",
    "import gc\n",
    "import time\n",
    "import os\n",
    "import shutil\n",
    "import optuna\n",
    "import scipy.sparse as sps\n",
    "from concurrent.futures import ThreadPoolExecutor\n",
    "\n",
    "for dirname, _, filenames in os.walk('/kaggle/input'):\n",
    "    for filename in filenames:\n",
    "        print(os.path.join(dirname, filename))"
   ]
  },
  {
   "cell_type": "code",
   "execution_count": 5,
   "id": "f5924c57",
   "metadata": {
    "execution": {
     "iopub.execute_input": "2023-12-01T18:03:17.105002Z",
     "iopub.status.busy": "2023-12-01T18:03:17.104428Z",
     "iopub.status.idle": "2023-12-01T18:03:17.112070Z",
     "shell.execute_reply": "2023-12-01T18:03:17.110823Z"
    },
    "papermill": {
     "duration": 0.031516,
     "end_time": "2023-12-01T18:03:17.114400",
     "exception": false,
     "start_time": "2023-12-01T18:03:17.082884",
     "status": "completed"
    },
    "tags": []
   },
   "outputs": [
    {
     "name": "stdout",
     "output_type": "stream",
     "text": [
      "/kaggle/working/Recsys_Challenge_2023\n"
     ]
    }
   ],
   "source": [
    "%cd /kaggle/working/Recsys_Challenge_2023"
   ]
  },
  {
   "cell_type": "code",
   "execution_count": 6,
   "id": "59fe6125",
   "metadata": {
    "execution": {
     "iopub.execute_input": "2023-12-01T18:03:17.157158Z",
     "iopub.status.busy": "2023-12-01T18:03:17.156507Z",
     "iopub.status.idle": "2023-12-01T18:03:30.291858Z",
     "shell.execute_reply": "2023-12-01T18:03:30.290840Z"
    },
    "papermill": {
     "duration": 13.160099,
     "end_time": "2023-12-01T18:03:30.294776",
     "exception": false,
     "start_time": "2023-12-01T18:03:17.134677",
     "status": "completed"
    },
    "tags": []
   },
   "outputs": [],
   "source": [
    "from Recommenders.KNN.UserKNNCFRecommender import UserKNNCFRecommender\n",
    "from Data_manager.split_functions.split_train_validation_random_holdout import split_train_in_two_percentage_global_sample\n",
    "from Recommenders.SLIM.SLIMElasticNetRecommender import MultiThreadSLIM_SLIMElasticNetRecommender\n",
    "from Evaluation.Evaluator import EvaluatorHoldout\n",
    "from Recommenders.MatrixFactorization.IALSRecommender import IALSRecommender\n",
    "from Recommenders.MatrixFactorization.PureSVDRecommender import PureSVDRecommender, PureSVDItemRecommender\n",
    "from Recommenders.KNN.ItemKNNCFRecommender import ItemKNNCFRecommender\n",
    "from Recommenders.KNN.UserKNNCFRecommender import UserKNNCFRecommender\n",
    "from Recommenders.KNN.ItemKNNSimilarityHybridRecommender import ItemKNNSimilarityHybridRecommender\n",
    "from Recommenders.KNN.ItemKNNCustomSimilarityRecommender import ItemKNNCustomSimilarityRecommender\n",
    "from Recommenders.EASE_R.EASE_R_Recommender import EASE_R_Recommender\n",
    "from Recommenders.Neural.MultVAERecommender import MultVAERecommender\n",
    "from Recommenders.GraphBased.RP3betaRecommender import RP3betaRecommender\n",
    "from Recommenders.GraphBased.P3alphaRecommender import P3alphaRecommender\n",
    "from Recommenders.SLIM.SLIM_BPR_Python import SLIM_BPR_Python\n",
    "from Recommenders.MatrixFactorization.NMFRecommender import NMFRecommender\n",
    "from Recommenders.BaseRecommender import BaseRecommender\n",
    "\n",
    "from Recommenders.Hybrid.LinearCombinationRecommender import LinearCombinationRecommender\n",
    "from Data_manager.CrossValidationSplitter import CrossValidationSplitter\n",
    "\n",
    "np.int = int\n",
    "np.random.seed(42)\n",
    "np.bool = bool\n",
    "np.float = float"
   ]
  },
  {
   "cell_type": "code",
   "execution_count": 7,
   "id": "003f1d9e",
   "metadata": {
    "execution": {
     "iopub.execute_input": "2023-12-01T18:03:30.341359Z",
     "iopub.status.busy": "2023-12-01T18:03:30.340612Z",
     "iopub.status.idle": "2023-12-01T18:03:31.409639Z",
     "shell.execute_reply": "2023-12-01T18:03:31.408400Z"
    },
    "papermill": {
     "duration": 1.096577,
     "end_time": "2023-12-01T18:03:31.412358",
     "exception": false,
     "start_time": "2023-12-01T18:03:30.315781",
     "status": "completed"
    },
    "tags": []
   },
   "outputs": [
    {
     "name": "stdout",
     "output_type": "stream",
     "text": [
      "Repository found\n"
     ]
    }
   ],
   "source": [
    "from github import Github\n",
    "from github import Auth\n",
    "\n",
    "auth = Auth.Token(token)\n",
    "g = Github(auth=auth)\n",
    "\n",
    "repo = None\n",
    "for r in g.get_user().get_repos():\n",
    "    if r.name == 'Recsys_Challenge_2023':\n",
    "        repo = r\n",
    "        print('Repository found')"
   ]
  },
  {
   "cell_type": "code",
   "execution_count": 8,
   "id": "54f4944a",
   "metadata": {
    "execution": {
     "iopub.execute_input": "2023-12-01T18:03:31.456225Z",
     "iopub.status.busy": "2023-12-01T18:03:31.455134Z",
     "iopub.status.idle": "2023-12-01T18:03:31.462224Z",
     "shell.execute_reply": "2023-12-01T18:03:31.461457Z"
    },
    "papermill": {
     "duration": 0.031506,
     "end_time": "2023-12-01T18:03:31.464467",
     "exception": false,
     "start_time": "2023-12-01T18:03:31.432961",
     "status": "completed"
    },
    "tags": []
   },
   "outputs": [],
   "source": [
    "def upload_file(filepath_kaggle, filepath_github, commit_message):\n",
    "    try:\n",
    "        contents = repo.get_contents(filepath_github)\n",
    "        with open(filepath_kaggle, \"rb\") as file:\n",
    "            repo.update_file(contents.path, commit_message, file.read(), contents.sha)\n",
    "    except Exception:\n",
    "        with open(filepath_kaggle, \"rb\") as file:\n",
    "            repo.create_file(filepath_github, commit_message, file.read())"
   ]
  },
  {
   "cell_type": "code",
   "execution_count": 9,
   "id": "6c144486",
   "metadata": {
    "execution": {
     "iopub.execute_input": "2023-12-01T18:03:31.507059Z",
     "iopub.status.busy": "2023-12-01T18:03:31.506418Z",
     "iopub.status.idle": "2023-12-01T18:03:31.511663Z",
     "shell.execute_reply": "2023-12-01T18:03:31.510715Z"
    },
    "papermill": {
     "duration": 0.029232,
     "end_time": "2023-12-01T18:03:31.513865",
     "exception": false,
     "start_time": "2023-12-01T18:03:31.484633",
     "status": "completed"
    },
    "tags": []
   },
   "outputs": [],
   "source": [
    "config = {\n",
    "    'tune_parameters': True,\n",
    "    'database_path': '/kaggle/working/tuning_hybrid_linear_comb.db',\n",
    "    'copy_prev_tuning_db': True,\n",
    "    'copy_prev_best_params': True,\n",
    "    'save_github': True\n",
    "}"
   ]
  },
  {
   "cell_type": "code",
   "execution_count": 10,
   "id": "c57dca93",
   "metadata": {
    "execution": {
     "iopub.execute_input": "2023-12-01T18:03:31.558420Z",
     "iopub.status.busy": "2023-12-01T18:03:31.557714Z",
     "iopub.status.idle": "2023-12-01T18:03:31.846212Z",
     "shell.execute_reply": "2023-12-01T18:03:31.845065Z"
    },
    "papermill": {
     "duration": 0.315205,
     "end_time": "2023-12-01T18:03:31.849167",
     "exception": false,
     "start_time": "2023-12-01T18:03:31.533962",
     "status": "completed"
    },
    "tags": []
   },
   "outputs": [],
   "source": [
    "train_data = pd.read_csv('/kaggle/input/recommender-system-2023-challenge-polimi/data_train.csv')\n",
    "user_ids_test = pd.read_csv('/kaggle/input/recommender-system-2023-challenge-polimi/data_target_users_test.csv')"
   ]
  },
  {
   "cell_type": "code",
   "execution_count": 11,
   "id": "b5bbba77",
   "metadata": {
    "execution": {
     "iopub.execute_input": "2023-12-01T18:03:31.960892Z",
     "iopub.status.busy": "2023-12-01T18:03:31.959868Z",
     "iopub.status.idle": "2023-12-01T18:03:32.000280Z",
     "shell.execute_reply": "2023-12-01T18:03:31.999147Z"
    },
    "papermill": {
     "duration": 0.132839,
     "end_time": "2023-12-01T18:03:32.002930",
     "exception": false,
     "start_time": "2023-12-01T18:03:31.870091",
     "status": "completed"
    },
    "tags": []
   },
   "outputs": [
    {
     "data": {
      "text/plain": [
       "<13024x22347 sparse matrix of type '<class 'numpy.float64'>'\n",
       "\twith 478730 stored elements in Compressed Sparse Row format>"
      ]
     },
     "execution_count": 11,
     "metadata": {},
     "output_type": "execute_result"
    }
   ],
   "source": [
    "URM_all = sps.csr_matrix((train_data.data.values,\n",
    "                          ((train_data.row - 1).values, (train_data.col - 1).values)),\n",
    "                        shape=(train_data.row.max(), train_data.col.max()))\n",
    "URM_all"
   ]
  },
  {
   "cell_type": "code",
   "execution_count": 12,
   "id": "13340c73",
   "metadata": {
    "execution": {
     "iopub.execute_input": "2023-12-01T18:03:32.045746Z",
     "iopub.status.busy": "2023-12-01T18:03:32.045355Z",
     "iopub.status.idle": "2023-12-01T18:03:33.672572Z",
     "shell.execute_reply": "2023-12-01T18:03:33.671344Z"
    },
    "papermill": {
     "duration": 1.651496,
     "end_time": "2023-12-01T18:03:33.675032",
     "exception": false,
     "start_time": "2023-12-01T18:03:32.023536",
     "status": "completed"
    },
    "tags": []
   },
   "outputs": [
    {
     "name": "stdout",
     "output_type": "stream",
     "text": [
      "Warning: 627 (4.81 %) of 13024 users have no train items\n",
      "Warning: 2568 (19.72 %) of 13024 users have no sampled items\n",
      "Warning: 2953 (22.67 %) of 13024 users have no train items\n",
      "Warning: 6367 (48.89 %) of 13024 users have no sampled items\n"
     ]
    }
   ],
   "source": [
    "URM_train, URM_test_complete = split_train_in_two_percentage_global_sample(URM_all, train_percentage = 0.8)\n",
    "URM_validation, URM_test = split_train_in_two_percentage_global_sample(URM_test_complete, train_percentage = 0.8)"
   ]
  },
  {
   "cell_type": "code",
   "execution_count": 13,
   "id": "469828a2",
   "metadata": {
    "execution": {
     "iopub.execute_input": "2023-12-01T18:03:33.718331Z",
     "iopub.status.busy": "2023-12-01T18:03:33.717902Z",
     "iopub.status.idle": "2023-12-01T18:03:33.726712Z",
     "shell.execute_reply": "2023-12-01T18:03:33.725429Z"
    },
    "papermill": {
     "duration": 0.03333,
     "end_time": "2023-12-01T18:03:33.729137",
     "exception": false,
     "start_time": "2023-12-01T18:03:33.695807",
     "status": "completed"
    },
    "tags": []
   },
   "outputs": [
    {
     "data": {
      "text/plain": [
       "{'topK': 14,\n",
       " 'shrink': 25,\n",
       " 'similarity': 'tversky',\n",
       " 'tversky_alpha': 0.18163095712123836,\n",
       " 'tversky_beta': 1.8529812241698465}"
      ]
     },
     "execution_count": 13,
     "metadata": {},
     "output_type": "execute_result"
    }
   ],
   "source": [
    "with open('/kaggle/working/Recsys_Challenge_2023/tuning_results/best_params_knn_item.json', 'r') as params_file:\n",
    "    params_item_knn = json.load(params_file)\n",
    "params_item_knn"
   ]
  },
  {
   "cell_type": "code",
   "execution_count": 14,
   "id": "47d03c8b",
   "metadata": {
    "execution": {
     "iopub.execute_input": "2023-12-01T18:03:33.772813Z",
     "iopub.status.busy": "2023-12-01T18:03:33.772107Z",
     "iopub.status.idle": "2023-12-01T18:03:33.780005Z",
     "shell.execute_reply": "2023-12-01T18:03:33.778930Z"
    },
    "papermill": {
     "duration": 0.032204,
     "end_time": "2023-12-01T18:03:33.782173",
     "exception": false,
     "start_time": "2023-12-01T18:03:33.749969",
     "status": "completed"
    },
    "tags": []
   },
   "outputs": [
    {
     "data": {
      "text/plain": [
       "{'alpha': 0.26348679053501006, 'beta': 0.17536156577039744, 'topK': 27}"
      ]
     },
     "execution_count": 14,
     "metadata": {},
     "output_type": "execute_result"
    }
   ],
   "source": [
    "with open('/kaggle/working/Recsys_Challenge_2023/tuning_results/best_params_RP3.json', 'r') as params_file:\n",
    "    params_rp3 = json.load(params_file)\n",
    "params_rp3"
   ]
  },
  {
   "cell_type": "code",
   "execution_count": 15,
   "id": "0f16402c",
   "metadata": {
    "execution": {
     "iopub.execute_input": "2023-12-01T18:03:33.826509Z",
     "iopub.status.busy": "2023-12-01T18:03:33.825371Z",
     "iopub.status.idle": "2023-12-01T18:03:33.832558Z",
     "shell.execute_reply": "2023-12-01T18:03:33.831750Z"
    },
    "papermill": {
     "duration": 0.03127,
     "end_time": "2023-12-01T18:03:33.834671",
     "exception": false,
     "start_time": "2023-12-01T18:03:33.803401",
     "status": "completed"
    },
    "tags": []
   },
   "outputs": [
    {
     "data": {
      "text/plain": [
       "{'topK': 498,\n",
       " 'shrink': 0,\n",
       " 'similarity': 'asymmetric',\n",
       " 'asymmetric_alpha': 0.39792525383867455}"
      ]
     },
     "execution_count": 15,
     "metadata": {},
     "output_type": "execute_result"
    }
   ],
   "source": [
    "with open('/kaggle/working/Recsys_Challenge_2023/tuning_results/best_params_knn_user.json', 'r') as params_file:\n",
    "    params_user_knn = json.load(params_file)\n",
    "params_user_knn"
   ]
  },
  {
   "cell_type": "code",
   "execution_count": 16,
   "id": "13fa1a01",
   "metadata": {
    "execution": {
     "iopub.execute_input": "2023-12-01T18:03:33.879319Z",
     "iopub.status.busy": "2023-12-01T18:03:33.878572Z",
     "iopub.status.idle": "2023-12-01T18:03:33.885282Z",
     "shell.execute_reply": "2023-12-01T18:03:33.884504Z"
    },
    "papermill": {
     "duration": 0.031474,
     "end_time": "2023-12-01T18:03:33.887350",
     "exception": false,
     "start_time": "2023-12-01T18:03:33.855876",
     "status": "completed"
    },
    "tags": []
   },
   "outputs": [
    {
     "data": {
      "text/plain": [
       "{'normalize_similarity': 'False',\n",
       " 'implicit': 'False',\n",
       " 'alpha': 0.3185935970252052,\n",
       " 'topK': 48}"
      ]
     },
     "execution_count": 16,
     "metadata": {},
     "output_type": "execute_result"
    }
   ],
   "source": [
    "with open('/kaggle/working/Recsys_Challenge_2023/tuning_results/best_params_alpha.json', 'r') as params_file:\n",
    "    params_p3alpha = json.load(params_file)\n",
    "params_p3alpha"
   ]
  },
  {
   "cell_type": "code",
   "execution_count": 17,
   "id": "168a1950",
   "metadata": {
    "execution": {
     "iopub.execute_input": "2023-12-01T18:03:33.932221Z",
     "iopub.status.busy": "2023-12-01T18:03:33.931668Z",
     "iopub.status.idle": "2023-12-01T18:03:33.939159Z",
     "shell.execute_reply": "2023-12-01T18:03:33.938310Z"
    },
    "papermill": {
     "duration": 0.032443,
     "end_time": "2023-12-01T18:03:33.941210",
     "exception": false,
     "start_time": "2023-12-01T18:03:33.908767",
     "status": "completed"
    },
    "tags": []
   },
   "outputs": [
    {
     "data": {
      "text/plain": [
       "{'alpha': 0.3375591188839621, 'topK': 86}"
      ]
     },
     "execution_count": 17,
     "metadata": {},
     "output_type": "execute_result"
    }
   ],
   "source": [
    "with open('/kaggle/working/Recsys_Challenge_2023/tuning_results/best_params_hybrid_merging.json', 'r') as params_file:\n",
    "    params_merging = json.load(params_file)\n",
    "params_merging"
   ]
  },
  {
   "cell_type": "code",
   "execution_count": 18,
   "id": "ec62f05e",
   "metadata": {
    "execution": {
     "iopub.execute_input": "2023-12-01T18:03:33.986525Z",
     "iopub.status.busy": "2023-12-01T18:03:33.985815Z",
     "iopub.status.idle": "2023-12-01T18:03:33.992687Z",
     "shell.execute_reply": "2023-12-01T18:03:33.991651Z"
    },
    "papermill": {
     "duration": 0.032271,
     "end_time": "2023-12-01T18:03:33.994997",
     "exception": false,
     "start_time": "2023-12-01T18:03:33.962726",
     "status": "completed"
    },
    "tags": []
   },
   "outputs": [
    {
     "data": {
      "text/plain": [
       "{'factors': 30}"
      ]
     },
     "execution_count": 18,
     "metadata": {},
     "output_type": "execute_result"
    }
   ],
   "source": [
    "with open('/kaggle/working/Recsys_Challenge_2023/tuning_results/pure_svd_params.json', 'r') as params_file:\n",
    "    params_pure_svd = json.load(params_file)\n",
    "params_pure_svd"
   ]
  },
  {
   "cell_type": "code",
   "execution_count": 19,
   "id": "af182c19",
   "metadata": {
    "execution": {
     "iopub.execute_input": "2023-12-01T18:03:34.040061Z",
     "iopub.status.busy": "2023-12-01T18:03:34.039642Z",
     "iopub.status.idle": "2023-12-01T18:03:34.044663Z",
     "shell.execute_reply": "2023-12-01T18:03:34.043706Z"
    },
    "papermill": {
     "duration": 0.029971,
     "end_time": "2023-12-01T18:03:34.046689",
     "exception": false,
     "start_time": "2023-12-01T18:03:34.016718",
     "status": "completed"
    },
    "tags": []
   },
   "outputs": [],
   "source": [
    "# with open('/kaggle/working/Recsys_Challenge_2023/tuning_results/best_params_puresvd_item.json', 'r') as params_file:\n",
    "#     params_pure_svd_item = json.load(params_file)\n",
    "params_pure_svd_item = {\"topK\": 43, \"num_factors\": 171}"
   ]
  },
  {
   "cell_type": "code",
   "execution_count": 20,
   "id": "f7899af3",
   "metadata": {
    "execution": {
     "iopub.execute_input": "2023-12-01T18:03:34.092346Z",
     "iopub.status.busy": "2023-12-01T18:03:34.091583Z",
     "iopub.status.idle": "2023-12-01T18:04:43.979924Z",
     "shell.execute_reply": "2023-12-01T18:04:43.978953Z"
    },
    "papermill": {
     "duration": 69.9142,
     "end_time": "2023-12-01T18:04:43.982721",
     "exception": false,
     "start_time": "2023-12-01T18:03:34.068521",
     "status": "completed"
    },
    "tags": []
   },
   "outputs": [
    {
     "name": "stdout",
     "output_type": "stream",
     "text": [
      "ItemKNNCFRecommender: URM Detected 627 ( 4.8%) users with no interactions.\n",
      "ItemKNNCFRecommender: URM Detected 247 ( 1.1%) items with no interactions.\n",
      "Similarity column 22347 (100.0%), 4636.45 column/sec. Elapsed time 4.82 sec\n",
      "UserKNNCFRecommender: URM Detected 627 ( 4.8%) users with no interactions.\n",
      "UserKNNCFRecommender: URM Detected 247 ( 1.1%) items with no interactions.\n",
      "Similarity column 13024 (100.0%), 4642.05 column/sec. Elapsed time 2.81 sec\n",
      "RP3betaRecommender: URM Detected 627 ( 4.8%) users with no interactions.\n",
      "RP3betaRecommender: URM Detected 247 ( 1.1%) items with no interactions.\n",
      "RP3betaRecommender: Similarity column 22347 (100.0%), 2646.98 column/sec. Elapsed time 8.44 sec\n",
      "P3alphaRecommender: URM Detected 627 ( 4.8%) users with no interactions.\n",
      "P3alphaRecommender: URM Detected 247 ( 1.1%) items with no interactions.\n",
      "P3alphaRecommender: Similarity column 22347 (100.0%), 3024.76 column/sec. Elapsed time 7.39 sec\n",
      "PureSVDRecommender: URM Detected 627 ( 4.8%) users with no interactions.\n",
      "PureSVDRecommender: URM Detected 247 ( 1.1%) items with no interactions.\n",
      "PureSVDRecommender: Computing SVD decomposition...\n",
      "PureSVDRecommender: Computing SVD decomposition... done in 0.54 sec\n",
      "PureSVDItemRecommender: URM Detected 627 ( 4.8%) users with no interactions.\n",
      "PureSVDItemRecommender: URM Detected 247 ( 1.1%) items with no interactions.\n",
      "PureSVDItemRecommender: Computing SVD decomposition...\n",
      "PureSVDItemRecommender: Computing SVD decomposition... Done!\n",
      "NMFRecommender: URM Detected 627 ( 4.8%) users with no interactions.\n",
      "NMFRecommender: URM Detected 247 ( 1.1%) items with no interactions.\n",
      "NMFRecommender: Loading model from file '/kaggle/working/Recsys_Challenge_2023/models/nmf_train_validation.zip'\n",
      "NMFRecommender: Loading complete\n",
      "Recommender_Base_Class: URM Detected 627 ( 4.8%) users with no interactions.\n",
      "Recommender_Base_Class: URM Detected 247 ( 1.1%) items with no interactions.\n",
      "Recommender_Base_Class: Loading model from file '/kaggle/working/Recsys_Challenge_2023/models/slim_bpr_train_validation.zip'\n",
      "Recommender_Base_Class: Loading complete\n",
      "EASE_R_Recommender: URM Detected 627 ( 4.8%) users with no interactions.\n",
      "EASE_R_Recommender: URM Detected 247 ( 1.1%) items with no interactions.\n",
      "EASE_R_Recommender: Loading model from file '/kaggle/working/Recsys_Challenge_2023/models/ease_r_train_validation.zip'\n",
      "EASE_R_Recommender: Loading complete\n",
      "ItemKNNSimilarityHybridRecommender: URM Detected 627 ( 4.8%) users with no interactions.\n",
      "ItemKNNSimilarityHybridRecommender: URM Detected 247 ( 1.1%) items with no interactions.\n"
     ]
    }
   ],
   "source": [
    "recommender_item = ItemKNNCFRecommender(URM_train)\n",
    "recommender_item.fit(**params_item_knn)\n",
    "\n",
    "recommender_user = UserKNNCFRecommender(URM_train)\n",
    "recommender_user.fit(**params_user_knn)\n",
    "\n",
    "recommender_rp3 = RP3betaRecommender(URM_train)\n",
    "recommender_rp3.fit(**params_rp3)\n",
    "\n",
    "recommender_p3a = P3alphaRecommender(URM_train)\n",
    "recommender_p3a.fit(**params_p3alpha)\n",
    "\n",
    "recommender_pure_svd = PureSVDRecommender(URM_train)\n",
    "recommender_pure_svd.fit(num_factors=params_pure_svd['factors'])\n",
    "\n",
    "recommender_pure_svd_item = PureSVDItemRecommender(URM_train)\n",
    "recommender_pure_svd_item.fit(**params_pure_svd_item)\n",
    "\n",
    "recommender_nmf = NMFRecommender(URM_train)\n",
    "recommender_nmf.load_model('/kaggle/working/Recsys_Challenge_2023/models/', 'nmf_train_validation.zip')\n",
    "\n",
    "recommender_slim_bpr = SLIM_BPR_Python(URM_train)\n",
    "recommender_slim_bpr.load_model('/kaggle/working/Recsys_Challenge_2023/models/', 'slim_bpr_train_validation.zip')\n",
    "\n",
    "recommender_ease_r = EASE_R_Recommender(URM_train)\n",
    "recommender_ease_r.load_model('/kaggle/working/Recsys_Challenge_2023/models/', 'ease_r_train_validation.zip')\n",
    "\n",
    "hybrid_similarity = ItemKNNSimilarityHybridRecommender(URM_train, recommender_item.W_sparse, recommender_rp3.W_sparse)\n",
    "hybrid_similarity.fit(**params_merging)"
   ]
  },
  {
   "cell_type": "code",
   "execution_count": 21,
   "id": "7c3db7ba",
   "metadata": {
    "execution": {
     "iopub.execute_input": "2023-12-01T18:04:44.032545Z",
     "iopub.status.busy": "2023-12-01T18:04:44.031526Z",
     "iopub.status.idle": "2023-12-01T18:06:48.104011Z",
     "shell.execute_reply": "2023-12-01T18:06:48.103059Z"
    },
    "papermill": {
     "duration": 124.099592,
     "end_time": "2023-12-01T18:06:48.106163",
     "exception": false,
     "start_time": "2023-12-01T18:04:44.006571",
     "status": "completed"
    },
    "tags": []
   },
   "outputs": [
    {
     "name": "stdout",
     "output_type": "stream",
     "text": [
      "Recommender_Base_Class: URM Detected 627 ( 4.8%) users with no interactions.\n",
      "Recommender_Base_Class: URM Detected 247 ( 1.1%) items with no interactions.\n",
      "EvaluatorHoldout: Ignoring 2568 (19.7%) Users that have less than 1 test interactions\n",
      "Linear Combinator\n",
      "EvaluatorHoldout: Processed 10456 (100.0%) in 16.72 sec. Users per second: 625\n"
     ]
    },
    {
     "data": {
      "text/html": [
       "<div>\n",
       "<style scoped>\n",
       "    .dataframe tbody tr th:only-of-type {\n",
       "        vertical-align: middle;\n",
       "    }\n",
       "\n",
       "    .dataframe tbody tr th {\n",
       "        vertical-align: top;\n",
       "    }\n",
       "\n",
       "    .dataframe thead th {\n",
       "        text-align: right;\n",
       "    }\n",
       "</style>\n",
       "<table border=\"1\" class=\"dataframe\">\n",
       "  <thead>\n",
       "    <tr style=\"text-align: right;\">\n",
       "      <th></th>\n",
       "      <th>PRECISION</th>\n",
       "      <th>PRECISION_RECALL_MIN_DEN</th>\n",
       "      <th>RECALL</th>\n",
       "      <th>MAP</th>\n",
       "      <th>MAP_MIN_DEN</th>\n",
       "      <th>MRR</th>\n",
       "      <th>NDCG</th>\n",
       "      <th>F1</th>\n",
       "      <th>HIT_RATE</th>\n",
       "      <th>ARHR_ALL_HITS</th>\n",
       "      <th>...</th>\n",
       "      <th>COVERAGE_USER</th>\n",
       "      <th>COVERAGE_USER_HIT</th>\n",
       "      <th>USERS_IN_GT</th>\n",
       "      <th>DIVERSITY_GINI</th>\n",
       "      <th>SHANNON_ENTROPY</th>\n",
       "      <th>RATIO_DIVERSITY_HERFINDAHL</th>\n",
       "      <th>RATIO_DIVERSITY_GINI</th>\n",
       "      <th>RATIO_SHANNON_ENTROPY</th>\n",
       "      <th>RATIO_AVERAGE_POPULARITY</th>\n",
       "      <th>RATIO_NOVELTY</th>\n",
       "    </tr>\n",
       "    <tr>\n",
       "      <th>cutoff</th>\n",
       "      <th></th>\n",
       "      <th></th>\n",
       "      <th></th>\n",
       "      <th></th>\n",
       "      <th></th>\n",
       "      <th></th>\n",
       "      <th></th>\n",
       "      <th></th>\n",
       "      <th></th>\n",
       "      <th></th>\n",
       "      <th></th>\n",
       "      <th></th>\n",
       "      <th></th>\n",
       "      <th></th>\n",
       "      <th></th>\n",
       "      <th></th>\n",
       "      <th></th>\n",
       "      <th></th>\n",
       "      <th></th>\n",
       "      <th></th>\n",
       "      <th></th>\n",
       "    </tr>\n",
       "  </thead>\n",
       "  <tbody>\n",
       "    <tr>\n",
       "      <th>10</th>\n",
       "      <td>0.096815</td>\n",
       "      <td>0.165347</td>\n",
       "      <td>0.139133</td>\n",
       "      <td>0.050065</td>\n",
       "      <td>0.085329</td>\n",
       "      <td>0.273897</td>\n",
       "      <td>0.152481</td>\n",
       "      <td>0.114179</td>\n",
       "      <td>0.51865</td>\n",
       "      <td>0.365354</td>\n",
       "      <td>...</td>\n",
       "      <td>0.802826</td>\n",
       "      <td>0.416385</td>\n",
       "      <td>0.802826</td>\n",
       "      <td>0.081728</td>\n",
       "      <td>10.631505</td>\n",
       "      <td>0.998377</td>\n",
       "      <td>0.235819</td>\n",
       "      <td>0.81901</td>\n",
       "      <td>1.535415</td>\n",
       "      <td>0.308298</td>\n",
       "    </tr>\n",
       "  </tbody>\n",
       "</table>\n",
       "<p>1 rows × 27 columns</p>\n",
       "</div>"
      ],
      "text/plain": [
       "       PRECISION PRECISION_RECALL_MIN_DEN    RECALL       MAP MAP_MIN_DEN  \\\n",
       "cutoff                                                                      \n",
       "10      0.096815                 0.165347  0.139133  0.050065    0.085329   \n",
       "\n",
       "             MRR      NDCG        F1 HIT_RATE ARHR_ALL_HITS  ...  \\\n",
       "cutoff                                                       ...   \n",
       "10      0.273897  0.152481  0.114179  0.51865      0.365354  ...   \n",
       "\n",
       "       COVERAGE_USER COVERAGE_USER_HIT USERS_IN_GT DIVERSITY_GINI  \\\n",
       "cutoff                                                              \n",
       "10          0.802826          0.416385    0.802826       0.081728   \n",
       "\n",
       "       SHANNON_ENTROPY RATIO_DIVERSITY_HERFINDAHL RATIO_DIVERSITY_GINI  \\\n",
       "cutoff                                                                   \n",
       "10           10.631505                   0.998377             0.235819   \n",
       "\n",
       "       RATIO_SHANNON_ENTROPY RATIO_AVERAGE_POPULARITY RATIO_NOVELTY  \n",
       "cutoff                                                               \n",
       "10                   0.81901                 1.535415      0.308298  \n",
       "\n",
       "[1 rows x 27 columns]"
      ]
     },
     "metadata": {},
     "output_type": "display_data"
    },
    {
     "name": "stdout",
     "output_type": "stream",
     "text": [
      "Merging Models\n",
      "EvaluatorHoldout: Processed 10456 (100.0%) in 8.80 sec. Users per second: 1188\n"
     ]
    },
    {
     "data": {
      "text/html": [
       "<div>\n",
       "<style scoped>\n",
       "    .dataframe tbody tr th:only-of-type {\n",
       "        vertical-align: middle;\n",
       "    }\n",
       "\n",
       "    .dataframe tbody tr th {\n",
       "        vertical-align: top;\n",
       "    }\n",
       "\n",
       "    .dataframe thead th {\n",
       "        text-align: right;\n",
       "    }\n",
       "</style>\n",
       "<table border=\"1\" class=\"dataframe\">\n",
       "  <thead>\n",
       "    <tr style=\"text-align: right;\">\n",
       "      <th></th>\n",
       "      <th>PRECISION</th>\n",
       "      <th>PRECISION_RECALL_MIN_DEN</th>\n",
       "      <th>RECALL</th>\n",
       "      <th>MAP</th>\n",
       "      <th>MAP_MIN_DEN</th>\n",
       "      <th>MRR</th>\n",
       "      <th>NDCG</th>\n",
       "      <th>F1</th>\n",
       "      <th>HIT_RATE</th>\n",
       "      <th>ARHR_ALL_HITS</th>\n",
       "      <th>...</th>\n",
       "      <th>COVERAGE_USER</th>\n",
       "      <th>COVERAGE_USER_HIT</th>\n",
       "      <th>USERS_IN_GT</th>\n",
       "      <th>DIVERSITY_GINI</th>\n",
       "      <th>SHANNON_ENTROPY</th>\n",
       "      <th>RATIO_DIVERSITY_HERFINDAHL</th>\n",
       "      <th>RATIO_DIVERSITY_GINI</th>\n",
       "      <th>RATIO_SHANNON_ENTROPY</th>\n",
       "      <th>RATIO_AVERAGE_POPULARITY</th>\n",
       "      <th>RATIO_NOVELTY</th>\n",
       "    </tr>\n",
       "    <tr>\n",
       "      <th>cutoff</th>\n",
       "      <th></th>\n",
       "      <th></th>\n",
       "      <th></th>\n",
       "      <th></th>\n",
       "      <th></th>\n",
       "      <th></th>\n",
       "      <th></th>\n",
       "      <th></th>\n",
       "      <th></th>\n",
       "      <th></th>\n",
       "      <th></th>\n",
       "      <th></th>\n",
       "      <th></th>\n",
       "      <th></th>\n",
       "      <th></th>\n",
       "      <th></th>\n",
       "      <th></th>\n",
       "      <th></th>\n",
       "      <th></th>\n",
       "      <th></th>\n",
       "      <th></th>\n",
       "    </tr>\n",
       "  </thead>\n",
       "  <tbody>\n",
       "    <tr>\n",
       "      <th>10</th>\n",
       "      <td>0.097102</td>\n",
       "      <td>0.165756</td>\n",
       "      <td>0.139351</td>\n",
       "      <td>0.050173</td>\n",
       "      <td>0.085482</td>\n",
       "      <td>0.27428</td>\n",
       "      <td>0.152762</td>\n",
       "      <td>0.114452</td>\n",
       "      <td>0.520658</td>\n",
       "      <td>0.365828</td>\n",
       "      <td>...</td>\n",
       "      <td>0.802826</td>\n",
       "      <td>0.417998</td>\n",
       "      <td>0.802826</td>\n",
       "      <td>0.087463</td>\n",
       "      <td>10.729146</td>\n",
       "      <td>0.998493</td>\n",
       "      <td>0.252365</td>\n",
       "      <td>0.826532</td>\n",
       "      <td>1.477653</td>\n",
       "      <td>0.310478</td>\n",
       "    </tr>\n",
       "  </tbody>\n",
       "</table>\n",
       "<p>1 rows × 27 columns</p>\n",
       "</div>"
      ],
      "text/plain": [
       "       PRECISION PRECISION_RECALL_MIN_DEN    RECALL       MAP MAP_MIN_DEN  \\\n",
       "cutoff                                                                      \n",
       "10      0.097102                 0.165756  0.139351  0.050173    0.085482   \n",
       "\n",
       "            MRR      NDCG        F1  HIT_RATE ARHR_ALL_HITS  ...  \\\n",
       "cutoff                                                       ...   \n",
       "10      0.27428  0.152762  0.114452  0.520658      0.365828  ...   \n",
       "\n",
       "       COVERAGE_USER COVERAGE_USER_HIT USERS_IN_GT DIVERSITY_GINI  \\\n",
       "cutoff                                                              \n",
       "10          0.802826          0.417998    0.802826       0.087463   \n",
       "\n",
       "       SHANNON_ENTROPY RATIO_DIVERSITY_HERFINDAHL RATIO_DIVERSITY_GINI  \\\n",
       "cutoff                                                                   \n",
       "10           10.729146                   0.998493             0.252365   \n",
       "\n",
       "       RATIO_SHANNON_ENTROPY RATIO_AVERAGE_POPULARITY RATIO_NOVELTY  \n",
       "cutoff                                                               \n",
       "10                  0.826532                 1.477653      0.310478  \n",
       "\n",
       "[1 rows x 27 columns]"
      ]
     },
     "metadata": {},
     "output_type": "display_data"
    },
    {
     "name": "stdout",
     "output_type": "stream",
     "text": [
      "Item KNN\n",
      "EvaluatorHoldout: Processed 10456 (100.0%) in 8.69 sec. Users per second: 1203\n"
     ]
    },
    {
     "data": {
      "text/html": [
       "<div>\n",
       "<style scoped>\n",
       "    .dataframe tbody tr th:only-of-type {\n",
       "        vertical-align: middle;\n",
       "    }\n",
       "\n",
       "    .dataframe tbody tr th {\n",
       "        vertical-align: top;\n",
       "    }\n",
       "\n",
       "    .dataframe thead th {\n",
       "        text-align: right;\n",
       "    }\n",
       "</style>\n",
       "<table border=\"1\" class=\"dataframe\">\n",
       "  <thead>\n",
       "    <tr style=\"text-align: right;\">\n",
       "      <th></th>\n",
       "      <th>PRECISION</th>\n",
       "      <th>PRECISION_RECALL_MIN_DEN</th>\n",
       "      <th>RECALL</th>\n",
       "      <th>MAP</th>\n",
       "      <th>MAP_MIN_DEN</th>\n",
       "      <th>MRR</th>\n",
       "      <th>NDCG</th>\n",
       "      <th>F1</th>\n",
       "      <th>HIT_RATE</th>\n",
       "      <th>ARHR_ALL_HITS</th>\n",
       "      <th>...</th>\n",
       "      <th>COVERAGE_USER</th>\n",
       "      <th>COVERAGE_USER_HIT</th>\n",
       "      <th>USERS_IN_GT</th>\n",
       "      <th>DIVERSITY_GINI</th>\n",
       "      <th>SHANNON_ENTROPY</th>\n",
       "      <th>RATIO_DIVERSITY_HERFINDAHL</th>\n",
       "      <th>RATIO_DIVERSITY_GINI</th>\n",
       "      <th>RATIO_SHANNON_ENTROPY</th>\n",
       "      <th>RATIO_AVERAGE_POPULARITY</th>\n",
       "      <th>RATIO_NOVELTY</th>\n",
       "    </tr>\n",
       "    <tr>\n",
       "      <th>cutoff</th>\n",
       "      <th></th>\n",
       "      <th></th>\n",
       "      <th></th>\n",
       "      <th></th>\n",
       "      <th></th>\n",
       "      <th></th>\n",
       "      <th></th>\n",
       "      <th></th>\n",
       "      <th></th>\n",
       "      <th></th>\n",
       "      <th></th>\n",
       "      <th></th>\n",
       "      <th></th>\n",
       "      <th></th>\n",
       "      <th></th>\n",
       "      <th></th>\n",
       "      <th></th>\n",
       "      <th></th>\n",
       "      <th></th>\n",
       "      <th></th>\n",
       "      <th></th>\n",
       "    </tr>\n",
       "  </thead>\n",
       "  <tbody>\n",
       "    <tr>\n",
       "      <th>10</th>\n",
       "      <td>0.09451</td>\n",
       "      <td>0.161146</td>\n",
       "      <td>0.135378</td>\n",
       "      <td>0.048719</td>\n",
       "      <td>0.082976</td>\n",
       "      <td>0.267977</td>\n",
       "      <td>0.148683</td>\n",
       "      <td>0.111312</td>\n",
       "      <td>0.511572</td>\n",
       "      <td>0.356662</td>\n",
       "      <td>...</td>\n",
       "      <td>0.802826</td>\n",
       "      <td>0.410703</td>\n",
       "      <td>0.802826</td>\n",
       "      <td>0.066309</td>\n",
       "      <td>10.283111</td>\n",
       "      <td>0.997789</td>\n",
       "      <td>0.191329</td>\n",
       "      <td>0.792171</td>\n",
       "      <td>1.734564</td>\n",
       "      <td>0.30426</td>\n",
       "    </tr>\n",
       "  </tbody>\n",
       "</table>\n",
       "<p>1 rows × 27 columns</p>\n",
       "</div>"
      ],
      "text/plain": [
       "       PRECISION PRECISION_RECALL_MIN_DEN    RECALL       MAP MAP_MIN_DEN  \\\n",
       "cutoff                                                                      \n",
       "10       0.09451                 0.161146  0.135378  0.048719    0.082976   \n",
       "\n",
       "             MRR      NDCG        F1  HIT_RATE ARHR_ALL_HITS  ...  \\\n",
       "cutoff                                                        ...   \n",
       "10      0.267977  0.148683  0.111312  0.511572      0.356662  ...   \n",
       "\n",
       "       COVERAGE_USER COVERAGE_USER_HIT USERS_IN_GT DIVERSITY_GINI  \\\n",
       "cutoff                                                              \n",
       "10          0.802826          0.410703    0.802826       0.066309   \n",
       "\n",
       "       SHANNON_ENTROPY RATIO_DIVERSITY_HERFINDAHL RATIO_DIVERSITY_GINI  \\\n",
       "cutoff                                                                   \n",
       "10           10.283111                   0.997789             0.191329   \n",
       "\n",
       "       RATIO_SHANNON_ENTROPY RATIO_AVERAGE_POPULARITY RATIO_NOVELTY  \n",
       "cutoff                                                               \n",
       "10                  0.792171                 1.734564       0.30426  \n",
       "\n",
       "[1 rows x 27 columns]"
      ]
     },
     "metadata": {},
     "output_type": "display_data"
    },
    {
     "name": "stdout",
     "output_type": "stream",
     "text": [
      "RP3 beta\n",
      "EvaluatorHoldout: Processed 10456 (100.0%) in 8.82 sec. Users per second: 1185\n"
     ]
    },
    {
     "data": {
      "text/html": [
       "<div>\n",
       "<style scoped>\n",
       "    .dataframe tbody tr th:only-of-type {\n",
       "        vertical-align: middle;\n",
       "    }\n",
       "\n",
       "    .dataframe tbody tr th {\n",
       "        vertical-align: top;\n",
       "    }\n",
       "\n",
       "    .dataframe thead th {\n",
       "        text-align: right;\n",
       "    }\n",
       "</style>\n",
       "<table border=\"1\" class=\"dataframe\">\n",
       "  <thead>\n",
       "    <tr style=\"text-align: right;\">\n",
       "      <th></th>\n",
       "      <th>PRECISION</th>\n",
       "      <th>PRECISION_RECALL_MIN_DEN</th>\n",
       "      <th>RECALL</th>\n",
       "      <th>MAP</th>\n",
       "      <th>MAP_MIN_DEN</th>\n",
       "      <th>MRR</th>\n",
       "      <th>NDCG</th>\n",
       "      <th>F1</th>\n",
       "      <th>HIT_RATE</th>\n",
       "      <th>ARHR_ALL_HITS</th>\n",
       "      <th>...</th>\n",
       "      <th>COVERAGE_USER</th>\n",
       "      <th>COVERAGE_USER_HIT</th>\n",
       "      <th>USERS_IN_GT</th>\n",
       "      <th>DIVERSITY_GINI</th>\n",
       "      <th>SHANNON_ENTROPY</th>\n",
       "      <th>RATIO_DIVERSITY_HERFINDAHL</th>\n",
       "      <th>RATIO_DIVERSITY_GINI</th>\n",
       "      <th>RATIO_SHANNON_ENTROPY</th>\n",
       "      <th>RATIO_AVERAGE_POPULARITY</th>\n",
       "      <th>RATIO_NOVELTY</th>\n",
       "    </tr>\n",
       "    <tr>\n",
       "      <th>cutoff</th>\n",
       "      <th></th>\n",
       "      <th></th>\n",
       "      <th></th>\n",
       "      <th></th>\n",
       "      <th></th>\n",
       "      <th></th>\n",
       "      <th></th>\n",
       "      <th></th>\n",
       "      <th></th>\n",
       "      <th></th>\n",
       "      <th></th>\n",
       "      <th></th>\n",
       "      <th></th>\n",
       "      <th></th>\n",
       "      <th></th>\n",
       "      <th></th>\n",
       "      <th></th>\n",
       "      <th></th>\n",
       "      <th></th>\n",
       "      <th></th>\n",
       "      <th></th>\n",
       "    </tr>\n",
       "  </thead>\n",
       "  <tbody>\n",
       "    <tr>\n",
       "      <th>10</th>\n",
       "      <td>0.095142</td>\n",
       "      <td>0.162942</td>\n",
       "      <td>0.137028</td>\n",
       "      <td>0.049128</td>\n",
       "      <td>0.084213</td>\n",
       "      <td>0.272898</td>\n",
       "      <td>0.150737</td>\n",
       "      <td>0.112306</td>\n",
       "      <td>0.516928</td>\n",
       "      <td>0.361499</td>\n",
       "      <td>...</td>\n",
       "      <td>0.802826</td>\n",
       "      <td>0.415003</td>\n",
       "      <td>0.802826</td>\n",
       "      <td>0.101166</td>\n",
       "      <td>10.971423</td>\n",
       "      <td>0.998795</td>\n",
       "      <td>0.291905</td>\n",
       "      <td>0.845196</td>\n",
       "      <td>1.298409</td>\n",
       "      <td>0.317386</td>\n",
       "    </tr>\n",
       "  </tbody>\n",
       "</table>\n",
       "<p>1 rows × 27 columns</p>\n",
       "</div>"
      ],
      "text/plain": [
       "       PRECISION PRECISION_RECALL_MIN_DEN    RECALL       MAP MAP_MIN_DEN  \\\n",
       "cutoff                                                                      \n",
       "10      0.095142                 0.162942  0.137028  0.049128    0.084213   \n",
       "\n",
       "             MRR      NDCG        F1  HIT_RATE ARHR_ALL_HITS  ...  \\\n",
       "cutoff                                                        ...   \n",
       "10      0.272898  0.150737  0.112306  0.516928      0.361499  ...   \n",
       "\n",
       "       COVERAGE_USER COVERAGE_USER_HIT USERS_IN_GT DIVERSITY_GINI  \\\n",
       "cutoff                                                              \n",
       "10          0.802826          0.415003    0.802826       0.101166   \n",
       "\n",
       "       SHANNON_ENTROPY RATIO_DIVERSITY_HERFINDAHL RATIO_DIVERSITY_GINI  \\\n",
       "cutoff                                                                   \n",
       "10           10.971423                   0.998795             0.291905   \n",
       "\n",
       "       RATIO_SHANNON_ENTROPY RATIO_AVERAGE_POPULARITY RATIO_NOVELTY  \n",
       "cutoff                                                               \n",
       "10                  0.845196                 1.298409      0.317386  \n",
       "\n",
       "[1 rows x 27 columns]"
      ]
     },
     "metadata": {},
     "output_type": "display_data"
    },
    {
     "name": "stdout",
     "output_type": "stream",
     "text": [
      "P3 alpha\n",
      "EvaluatorHoldout: Processed 10456 (100.0%) in 8.58 sec. Users per second: 1218\n"
     ]
    },
    {
     "data": {
      "text/html": [
       "<div>\n",
       "<style scoped>\n",
       "    .dataframe tbody tr th:only-of-type {\n",
       "        vertical-align: middle;\n",
       "    }\n",
       "\n",
       "    .dataframe tbody tr th {\n",
       "        vertical-align: top;\n",
       "    }\n",
       "\n",
       "    .dataframe thead th {\n",
       "        text-align: right;\n",
       "    }\n",
       "</style>\n",
       "<table border=\"1\" class=\"dataframe\">\n",
       "  <thead>\n",
       "    <tr style=\"text-align: right;\">\n",
       "      <th></th>\n",
       "      <th>PRECISION</th>\n",
       "      <th>PRECISION_RECALL_MIN_DEN</th>\n",
       "      <th>RECALL</th>\n",
       "      <th>MAP</th>\n",
       "      <th>MAP_MIN_DEN</th>\n",
       "      <th>MRR</th>\n",
       "      <th>NDCG</th>\n",
       "      <th>F1</th>\n",
       "      <th>HIT_RATE</th>\n",
       "      <th>ARHR_ALL_HITS</th>\n",
       "      <th>...</th>\n",
       "      <th>COVERAGE_USER</th>\n",
       "      <th>COVERAGE_USER_HIT</th>\n",
       "      <th>USERS_IN_GT</th>\n",
       "      <th>DIVERSITY_GINI</th>\n",
       "      <th>SHANNON_ENTROPY</th>\n",
       "      <th>RATIO_DIVERSITY_HERFINDAHL</th>\n",
       "      <th>RATIO_DIVERSITY_GINI</th>\n",
       "      <th>RATIO_SHANNON_ENTROPY</th>\n",
       "      <th>RATIO_AVERAGE_POPULARITY</th>\n",
       "      <th>RATIO_NOVELTY</th>\n",
       "    </tr>\n",
       "    <tr>\n",
       "      <th>cutoff</th>\n",
       "      <th></th>\n",
       "      <th></th>\n",
       "      <th></th>\n",
       "      <th></th>\n",
       "      <th></th>\n",
       "      <th></th>\n",
       "      <th></th>\n",
       "      <th></th>\n",
       "      <th></th>\n",
       "      <th></th>\n",
       "      <th></th>\n",
       "      <th></th>\n",
       "      <th></th>\n",
       "      <th></th>\n",
       "      <th></th>\n",
       "      <th></th>\n",
       "      <th></th>\n",
       "      <th></th>\n",
       "      <th></th>\n",
       "      <th></th>\n",
       "      <th></th>\n",
       "    </tr>\n",
       "  </thead>\n",
       "  <tbody>\n",
       "    <tr>\n",
       "      <th>10</th>\n",
       "      <td>0.092272</td>\n",
       "      <td>0.156064</td>\n",
       "      <td>0.13078</td>\n",
       "      <td>0.047783</td>\n",
       "      <td>0.081336</td>\n",
       "      <td>0.267646</td>\n",
       "      <td>0.145952</td>\n",
       "      <td>0.108202</td>\n",
       "      <td>0.506408</td>\n",
       "      <td>0.352745</td>\n",
       "      <td>...</td>\n",
       "      <td>0.802826</td>\n",
       "      <td>0.406557</td>\n",
       "      <td>0.802826</td>\n",
       "      <td>0.071291</td>\n",
       "      <td>10.55296</td>\n",
       "      <td>0.998457</td>\n",
       "      <td>0.205703</td>\n",
       "      <td>0.812959</td>\n",
       "      <td>1.331801</td>\n",
       "      <td>0.312242</td>\n",
       "    </tr>\n",
       "  </tbody>\n",
       "</table>\n",
       "<p>1 rows × 27 columns</p>\n",
       "</div>"
      ],
      "text/plain": [
       "       PRECISION PRECISION_RECALL_MIN_DEN   RECALL       MAP MAP_MIN_DEN  \\\n",
       "cutoff                                                                     \n",
       "10      0.092272                 0.156064  0.13078  0.047783    0.081336   \n",
       "\n",
       "             MRR      NDCG        F1  HIT_RATE ARHR_ALL_HITS  ...  \\\n",
       "cutoff                                                        ...   \n",
       "10      0.267646  0.145952  0.108202  0.506408      0.352745  ...   \n",
       "\n",
       "       COVERAGE_USER COVERAGE_USER_HIT USERS_IN_GT DIVERSITY_GINI  \\\n",
       "cutoff                                                              \n",
       "10          0.802826          0.406557    0.802826       0.071291   \n",
       "\n",
       "       SHANNON_ENTROPY RATIO_DIVERSITY_HERFINDAHL RATIO_DIVERSITY_GINI  \\\n",
       "cutoff                                                                   \n",
       "10            10.55296                   0.998457             0.205703   \n",
       "\n",
       "       RATIO_SHANNON_ENTROPY RATIO_AVERAGE_POPULARITY RATIO_NOVELTY  \n",
       "cutoff                                                               \n",
       "10                  0.812959                 1.331801      0.312242  \n",
       "\n",
       "[1 rows x 27 columns]"
      ]
     },
     "metadata": {},
     "output_type": "display_data"
    },
    {
     "name": "stdout",
     "output_type": "stream",
     "text": [
      "User KNN\n",
      "EvaluatorHoldout: Processed 10456 (100.0%) in 12.52 sec. Users per second: 835\n"
     ]
    },
    {
     "data": {
      "text/html": [
       "<div>\n",
       "<style scoped>\n",
       "    .dataframe tbody tr th:only-of-type {\n",
       "        vertical-align: middle;\n",
       "    }\n",
       "\n",
       "    .dataframe tbody tr th {\n",
       "        vertical-align: top;\n",
       "    }\n",
       "\n",
       "    .dataframe thead th {\n",
       "        text-align: right;\n",
       "    }\n",
       "</style>\n",
       "<table border=\"1\" class=\"dataframe\">\n",
       "  <thead>\n",
       "    <tr style=\"text-align: right;\">\n",
       "      <th></th>\n",
       "      <th>PRECISION</th>\n",
       "      <th>PRECISION_RECALL_MIN_DEN</th>\n",
       "      <th>RECALL</th>\n",
       "      <th>MAP</th>\n",
       "      <th>MAP_MIN_DEN</th>\n",
       "      <th>MRR</th>\n",
       "      <th>NDCG</th>\n",
       "      <th>F1</th>\n",
       "      <th>HIT_RATE</th>\n",
       "      <th>ARHR_ALL_HITS</th>\n",
       "      <th>...</th>\n",
       "      <th>COVERAGE_USER</th>\n",
       "      <th>COVERAGE_USER_HIT</th>\n",
       "      <th>USERS_IN_GT</th>\n",
       "      <th>DIVERSITY_GINI</th>\n",
       "      <th>SHANNON_ENTROPY</th>\n",
       "      <th>RATIO_DIVERSITY_HERFINDAHL</th>\n",
       "      <th>RATIO_DIVERSITY_GINI</th>\n",
       "      <th>RATIO_SHANNON_ENTROPY</th>\n",
       "      <th>RATIO_AVERAGE_POPULARITY</th>\n",
       "      <th>RATIO_NOVELTY</th>\n",
       "    </tr>\n",
       "    <tr>\n",
       "      <th>cutoff</th>\n",
       "      <th></th>\n",
       "      <th></th>\n",
       "      <th></th>\n",
       "      <th></th>\n",
       "      <th></th>\n",
       "      <th></th>\n",
       "      <th></th>\n",
       "      <th></th>\n",
       "      <th></th>\n",
       "      <th></th>\n",
       "      <th></th>\n",
       "      <th></th>\n",
       "      <th></th>\n",
       "      <th></th>\n",
       "      <th></th>\n",
       "      <th></th>\n",
       "      <th></th>\n",
       "      <th></th>\n",
       "      <th></th>\n",
       "      <th></th>\n",
       "      <th></th>\n",
       "    </tr>\n",
       "  </thead>\n",
       "  <tbody>\n",
       "    <tr>\n",
       "      <th>10</th>\n",
       "      <td>0.07172</td>\n",
       "      <td>0.128756</td>\n",
       "      <td>0.110157</td>\n",
       "      <td>0.035281</td>\n",
       "      <td>0.062836</td>\n",
       "      <td>0.223137</td>\n",
       "      <td>0.116955</td>\n",
       "      <td>0.086877</td>\n",
       "      <td>0.446251</td>\n",
       "      <td>0.278756</td>\n",
       "      <td>...</td>\n",
       "      <td>0.802826</td>\n",
       "      <td>0.358262</td>\n",
       "      <td>0.802826</td>\n",
       "      <td>0.012513</td>\n",
       "      <td>7.842357</td>\n",
       "      <td>0.986392</td>\n",
       "      <td>0.036106</td>\n",
       "      <td>0.604145</td>\n",
       "      <td>3.565726</td>\n",
       "      <td>0.26052</td>\n",
       "    </tr>\n",
       "  </tbody>\n",
       "</table>\n",
       "<p>1 rows × 27 columns</p>\n",
       "</div>"
      ],
      "text/plain": [
       "       PRECISION PRECISION_RECALL_MIN_DEN    RECALL       MAP MAP_MIN_DEN  \\\n",
       "cutoff                                                                      \n",
       "10       0.07172                 0.128756  0.110157  0.035281    0.062836   \n",
       "\n",
       "             MRR      NDCG        F1  HIT_RATE ARHR_ALL_HITS  ...  \\\n",
       "cutoff                                                        ...   \n",
       "10      0.223137  0.116955  0.086877  0.446251      0.278756  ...   \n",
       "\n",
       "       COVERAGE_USER COVERAGE_USER_HIT USERS_IN_GT DIVERSITY_GINI  \\\n",
       "cutoff                                                              \n",
       "10          0.802826          0.358262    0.802826       0.012513   \n",
       "\n",
       "       SHANNON_ENTROPY RATIO_DIVERSITY_HERFINDAHL RATIO_DIVERSITY_GINI  \\\n",
       "cutoff                                                                   \n",
       "10            7.842357                   0.986392             0.036106   \n",
       "\n",
       "       RATIO_SHANNON_ENTROPY RATIO_AVERAGE_POPULARITY RATIO_NOVELTY  \n",
       "cutoff                                                               \n",
       "10                  0.604145                 3.565726       0.26052  \n",
       "\n",
       "[1 rows x 27 columns]"
      ]
     },
     "metadata": {},
     "output_type": "display_data"
    },
    {
     "name": "stdout",
     "output_type": "stream",
     "text": [
      "NMF\n",
      "EvaluatorHoldout: Processed 10456 (100.0%) in 10.77 sec. Users per second: 971\n"
     ]
    },
    {
     "data": {
      "text/html": [
       "<div>\n",
       "<style scoped>\n",
       "    .dataframe tbody tr th:only-of-type {\n",
       "        vertical-align: middle;\n",
       "    }\n",
       "\n",
       "    .dataframe tbody tr th {\n",
       "        vertical-align: top;\n",
       "    }\n",
       "\n",
       "    .dataframe thead th {\n",
       "        text-align: right;\n",
       "    }\n",
       "</style>\n",
       "<table border=\"1\" class=\"dataframe\">\n",
       "  <thead>\n",
       "    <tr style=\"text-align: right;\">\n",
       "      <th></th>\n",
       "      <th>PRECISION</th>\n",
       "      <th>PRECISION_RECALL_MIN_DEN</th>\n",
       "      <th>RECALL</th>\n",
       "      <th>MAP</th>\n",
       "      <th>MAP_MIN_DEN</th>\n",
       "      <th>MRR</th>\n",
       "      <th>NDCG</th>\n",
       "      <th>F1</th>\n",
       "      <th>HIT_RATE</th>\n",
       "      <th>ARHR_ALL_HITS</th>\n",
       "      <th>...</th>\n",
       "      <th>COVERAGE_USER</th>\n",
       "      <th>COVERAGE_USER_HIT</th>\n",
       "      <th>USERS_IN_GT</th>\n",
       "      <th>DIVERSITY_GINI</th>\n",
       "      <th>SHANNON_ENTROPY</th>\n",
       "      <th>RATIO_DIVERSITY_HERFINDAHL</th>\n",
       "      <th>RATIO_DIVERSITY_GINI</th>\n",
       "      <th>RATIO_SHANNON_ENTROPY</th>\n",
       "      <th>RATIO_AVERAGE_POPULARITY</th>\n",
       "      <th>RATIO_NOVELTY</th>\n",
       "    </tr>\n",
       "    <tr>\n",
       "      <th>cutoff</th>\n",
       "      <th></th>\n",
       "      <th></th>\n",
       "      <th></th>\n",
       "      <th></th>\n",
       "      <th></th>\n",
       "      <th></th>\n",
       "      <th></th>\n",
       "      <th></th>\n",
       "      <th></th>\n",
       "      <th></th>\n",
       "      <th></th>\n",
       "      <th></th>\n",
       "      <th></th>\n",
       "      <th></th>\n",
       "      <th></th>\n",
       "      <th></th>\n",
       "      <th></th>\n",
       "      <th></th>\n",
       "      <th></th>\n",
       "      <th></th>\n",
       "      <th></th>\n",
       "    </tr>\n",
       "  </thead>\n",
       "  <tbody>\n",
       "    <tr>\n",
       "      <th>10</th>\n",
       "      <td>0.057967</td>\n",
       "      <td>0.097731</td>\n",
       "      <td>0.081555</td>\n",
       "      <td>0.028482</td>\n",
       "      <td>0.048181</td>\n",
       "      <td>0.186399</td>\n",
       "      <td>0.092178</td>\n",
       "      <td>0.067767</td>\n",
       "      <td>0.373661</td>\n",
       "      <td>0.229016</td>\n",
       "      <td>...</td>\n",
       "      <td>0.802826</td>\n",
       "      <td>0.299985</td>\n",
       "      <td>0.802826</td>\n",
       "      <td>0.014192</td>\n",
       "      <td>8.742706</td>\n",
       "      <td>0.997172</td>\n",
       "      <td>0.040949</td>\n",
       "      <td>0.673504</td>\n",
       "      <td>1.565582</td>\n",
       "      <td>0.283618</td>\n",
       "    </tr>\n",
       "  </tbody>\n",
       "</table>\n",
       "<p>1 rows × 27 columns</p>\n",
       "</div>"
      ],
      "text/plain": [
       "       PRECISION PRECISION_RECALL_MIN_DEN    RECALL       MAP MAP_MIN_DEN  \\\n",
       "cutoff                                                                      \n",
       "10      0.057967                 0.097731  0.081555  0.028482    0.048181   \n",
       "\n",
       "             MRR      NDCG        F1  HIT_RATE ARHR_ALL_HITS  ...  \\\n",
       "cutoff                                                        ...   \n",
       "10      0.186399  0.092178  0.067767  0.373661      0.229016  ...   \n",
       "\n",
       "       COVERAGE_USER COVERAGE_USER_HIT USERS_IN_GT DIVERSITY_GINI  \\\n",
       "cutoff                                                              \n",
       "10          0.802826          0.299985    0.802826       0.014192   \n",
       "\n",
       "       SHANNON_ENTROPY RATIO_DIVERSITY_HERFINDAHL RATIO_DIVERSITY_GINI  \\\n",
       "cutoff                                                                   \n",
       "10            8.742706                   0.997172             0.040949   \n",
       "\n",
       "       RATIO_SHANNON_ENTROPY RATIO_AVERAGE_POPULARITY RATIO_NOVELTY  \n",
       "cutoff                                                               \n",
       "10                  0.673504                 1.565582      0.283618  \n",
       "\n",
       "[1 rows x 27 columns]"
      ]
     },
     "metadata": {},
     "output_type": "display_data"
    },
    {
     "name": "stdout",
     "output_type": "stream",
     "text": [
      "Pure SVD\n",
      "EvaluatorHoldout: Processed 10456 (100.0%) in 10.31 sec. Users per second: 1014\n"
     ]
    },
    {
     "data": {
      "text/html": [
       "<div>\n",
       "<style scoped>\n",
       "    .dataframe tbody tr th:only-of-type {\n",
       "        vertical-align: middle;\n",
       "    }\n",
       "\n",
       "    .dataframe tbody tr th {\n",
       "        vertical-align: top;\n",
       "    }\n",
       "\n",
       "    .dataframe thead th {\n",
       "        text-align: right;\n",
       "    }\n",
       "</style>\n",
       "<table border=\"1\" class=\"dataframe\">\n",
       "  <thead>\n",
       "    <tr style=\"text-align: right;\">\n",
       "      <th></th>\n",
       "      <th>PRECISION</th>\n",
       "      <th>PRECISION_RECALL_MIN_DEN</th>\n",
       "      <th>RECALL</th>\n",
       "      <th>MAP</th>\n",
       "      <th>MAP_MIN_DEN</th>\n",
       "      <th>MRR</th>\n",
       "      <th>NDCG</th>\n",
       "      <th>F1</th>\n",
       "      <th>HIT_RATE</th>\n",
       "      <th>ARHR_ALL_HITS</th>\n",
       "      <th>...</th>\n",
       "      <th>COVERAGE_USER</th>\n",
       "      <th>COVERAGE_USER_HIT</th>\n",
       "      <th>USERS_IN_GT</th>\n",
       "      <th>DIVERSITY_GINI</th>\n",
       "      <th>SHANNON_ENTROPY</th>\n",
       "      <th>RATIO_DIVERSITY_HERFINDAHL</th>\n",
       "      <th>RATIO_DIVERSITY_GINI</th>\n",
       "      <th>RATIO_SHANNON_ENTROPY</th>\n",
       "      <th>RATIO_AVERAGE_POPULARITY</th>\n",
       "      <th>RATIO_NOVELTY</th>\n",
       "    </tr>\n",
       "    <tr>\n",
       "      <th>cutoff</th>\n",
       "      <th></th>\n",
       "      <th></th>\n",
       "      <th></th>\n",
       "      <th></th>\n",
       "      <th></th>\n",
       "      <th></th>\n",
       "      <th></th>\n",
       "      <th></th>\n",
       "      <th></th>\n",
       "      <th></th>\n",
       "      <th></th>\n",
       "      <th></th>\n",
       "      <th></th>\n",
       "      <th></th>\n",
       "      <th></th>\n",
       "      <th></th>\n",
       "      <th></th>\n",
       "      <th></th>\n",
       "      <th></th>\n",
       "      <th></th>\n",
       "      <th></th>\n",
       "    </tr>\n",
       "  </thead>\n",
       "  <tbody>\n",
       "    <tr>\n",
       "      <th>10</th>\n",
       "      <td>0.058655</td>\n",
       "      <td>0.100586</td>\n",
       "      <td>0.084556</td>\n",
       "      <td>0.029356</td>\n",
       "      <td>0.049861</td>\n",
       "      <td>0.191304</td>\n",
       "      <td>0.094675</td>\n",
       "      <td>0.069264</td>\n",
       "      <td>0.379112</td>\n",
       "      <td>0.235505</td>\n",
       "      <td>...</td>\n",
       "      <td>0.802826</td>\n",
       "      <td>0.304361</td>\n",
       "      <td>0.802826</td>\n",
       "      <td>0.006201</td>\n",
       "      <td>7.529534</td>\n",
       "      <td>0.992933</td>\n",
       "      <td>0.017892</td>\n",
       "      <td>0.580046</td>\n",
       "      <td>2.618313</td>\n",
       "      <td>0.263304</td>\n",
       "    </tr>\n",
       "  </tbody>\n",
       "</table>\n",
       "<p>1 rows × 27 columns</p>\n",
       "</div>"
      ],
      "text/plain": [
       "       PRECISION PRECISION_RECALL_MIN_DEN    RECALL       MAP MAP_MIN_DEN  \\\n",
       "cutoff                                                                      \n",
       "10      0.058655                 0.100586  0.084556  0.029356    0.049861   \n",
       "\n",
       "             MRR      NDCG        F1  HIT_RATE ARHR_ALL_HITS  ...  \\\n",
       "cutoff                                                        ...   \n",
       "10      0.191304  0.094675  0.069264  0.379112      0.235505  ...   \n",
       "\n",
       "       COVERAGE_USER COVERAGE_USER_HIT USERS_IN_GT DIVERSITY_GINI  \\\n",
       "cutoff                                                              \n",
       "10          0.802826          0.304361    0.802826       0.006201   \n",
       "\n",
       "       SHANNON_ENTROPY RATIO_DIVERSITY_HERFINDAHL RATIO_DIVERSITY_GINI  \\\n",
       "cutoff                                                                   \n",
       "10            7.529534                   0.992933             0.017892   \n",
       "\n",
       "       RATIO_SHANNON_ENTROPY RATIO_AVERAGE_POPULARITY RATIO_NOVELTY  \n",
       "cutoff                                                               \n",
       "10                  0.580046                 2.618313      0.263304  \n",
       "\n",
       "[1 rows x 27 columns]"
      ]
     },
     "metadata": {},
     "output_type": "display_data"
    },
    {
     "name": "stdout",
     "output_type": "stream",
     "text": [
      "Item Pure SVD\n",
      "EvaluatorHoldout: Processed 10456 (100.0%) in 14.26 sec. Users per second: 733\n"
     ]
    },
    {
     "data": {
      "text/html": [
       "<div>\n",
       "<style scoped>\n",
       "    .dataframe tbody tr th:only-of-type {\n",
       "        vertical-align: middle;\n",
       "    }\n",
       "\n",
       "    .dataframe tbody tr th {\n",
       "        vertical-align: top;\n",
       "    }\n",
       "\n",
       "    .dataframe thead th {\n",
       "        text-align: right;\n",
       "    }\n",
       "</style>\n",
       "<table border=\"1\" class=\"dataframe\">\n",
       "  <thead>\n",
       "    <tr style=\"text-align: right;\">\n",
       "      <th></th>\n",
       "      <th>PRECISION</th>\n",
       "      <th>PRECISION_RECALL_MIN_DEN</th>\n",
       "      <th>RECALL</th>\n",
       "      <th>MAP</th>\n",
       "      <th>MAP_MIN_DEN</th>\n",
       "      <th>MRR</th>\n",
       "      <th>NDCG</th>\n",
       "      <th>F1</th>\n",
       "      <th>HIT_RATE</th>\n",
       "      <th>ARHR_ALL_HITS</th>\n",
       "      <th>...</th>\n",
       "      <th>COVERAGE_USER</th>\n",
       "      <th>COVERAGE_USER_HIT</th>\n",
       "      <th>USERS_IN_GT</th>\n",
       "      <th>DIVERSITY_GINI</th>\n",
       "      <th>SHANNON_ENTROPY</th>\n",
       "      <th>RATIO_DIVERSITY_HERFINDAHL</th>\n",
       "      <th>RATIO_DIVERSITY_GINI</th>\n",
       "      <th>RATIO_SHANNON_ENTROPY</th>\n",
       "      <th>RATIO_AVERAGE_POPULARITY</th>\n",
       "      <th>RATIO_NOVELTY</th>\n",
       "    </tr>\n",
       "    <tr>\n",
       "      <th>cutoff</th>\n",
       "      <th></th>\n",
       "      <th></th>\n",
       "      <th></th>\n",
       "      <th></th>\n",
       "      <th></th>\n",
       "      <th></th>\n",
       "      <th></th>\n",
       "      <th></th>\n",
       "      <th></th>\n",
       "      <th></th>\n",
       "      <th></th>\n",
       "      <th></th>\n",
       "      <th></th>\n",
       "      <th></th>\n",
       "      <th></th>\n",
       "      <th></th>\n",
       "      <th></th>\n",
       "      <th></th>\n",
       "      <th></th>\n",
       "      <th></th>\n",
       "      <th></th>\n",
       "    </tr>\n",
       "  </thead>\n",
       "  <tbody>\n",
       "    <tr>\n",
       "      <th>10</th>\n",
       "      <td>0.065599</td>\n",
       "      <td>0.109738</td>\n",
       "      <td>0.091334</td>\n",
       "      <td>0.033326</td>\n",
       "      <td>0.055165</td>\n",
       "      <td>0.209391</td>\n",
       "      <td>0.104188</td>\n",
       "      <td>0.076356</td>\n",
       "      <td>0.402831</td>\n",
       "      <td>0.262119</td>\n",
       "      <td>...</td>\n",
       "      <td>0.802826</td>\n",
       "      <td>0.323403</td>\n",
       "      <td>0.802826</td>\n",
       "      <td>0.019058</td>\n",
       "      <td>9.121761</td>\n",
       "      <td>0.997687</td>\n",
       "      <td>0.054991</td>\n",
       "      <td>0.702705</td>\n",
       "      <td>1.408899</td>\n",
       "      <td>0.291045</td>\n",
       "    </tr>\n",
       "  </tbody>\n",
       "</table>\n",
       "<p>1 rows × 27 columns</p>\n",
       "</div>"
      ],
      "text/plain": [
       "       PRECISION PRECISION_RECALL_MIN_DEN    RECALL       MAP MAP_MIN_DEN  \\\n",
       "cutoff                                                                      \n",
       "10      0.065599                 0.109738  0.091334  0.033326    0.055165   \n",
       "\n",
       "             MRR      NDCG        F1  HIT_RATE ARHR_ALL_HITS  ...  \\\n",
       "cutoff                                                        ...   \n",
       "10      0.209391  0.104188  0.076356  0.402831      0.262119  ...   \n",
       "\n",
       "       COVERAGE_USER COVERAGE_USER_HIT USERS_IN_GT DIVERSITY_GINI  \\\n",
       "cutoff                                                              \n",
       "10          0.802826          0.323403    0.802826       0.019058   \n",
       "\n",
       "       SHANNON_ENTROPY RATIO_DIVERSITY_HERFINDAHL RATIO_DIVERSITY_GINI  \\\n",
       "cutoff                                                                   \n",
       "10            9.121761                   0.997687             0.054991   \n",
       "\n",
       "       RATIO_SHANNON_ENTROPY RATIO_AVERAGE_POPULARITY RATIO_NOVELTY  \n",
       "cutoff                                                               \n",
       "10                  0.702705                 1.408899      0.291045  \n",
       "\n",
       "[1 rows x 27 columns]"
      ]
     },
     "metadata": {},
     "output_type": "display_data"
    },
    {
     "name": "stdout",
     "output_type": "stream",
     "text": [
      "SLIM BPR\n",
      "EvaluatorHoldout: Processed 10456 (100.0%) in 10.17 sec. Users per second: 1029\n"
     ]
    },
    {
     "data": {
      "text/html": [
       "<div>\n",
       "<style scoped>\n",
       "    .dataframe tbody tr th:only-of-type {\n",
       "        vertical-align: middle;\n",
       "    }\n",
       "\n",
       "    .dataframe tbody tr th {\n",
       "        vertical-align: top;\n",
       "    }\n",
       "\n",
       "    .dataframe thead th {\n",
       "        text-align: right;\n",
       "    }\n",
       "</style>\n",
       "<table border=\"1\" class=\"dataframe\">\n",
       "  <thead>\n",
       "    <tr style=\"text-align: right;\">\n",
       "      <th></th>\n",
       "      <th>PRECISION</th>\n",
       "      <th>PRECISION_RECALL_MIN_DEN</th>\n",
       "      <th>RECALL</th>\n",
       "      <th>MAP</th>\n",
       "      <th>MAP_MIN_DEN</th>\n",
       "      <th>MRR</th>\n",
       "      <th>NDCG</th>\n",
       "      <th>F1</th>\n",
       "      <th>HIT_RATE</th>\n",
       "      <th>ARHR_ALL_HITS</th>\n",
       "      <th>...</th>\n",
       "      <th>COVERAGE_USER</th>\n",
       "      <th>COVERAGE_USER_HIT</th>\n",
       "      <th>USERS_IN_GT</th>\n",
       "      <th>DIVERSITY_GINI</th>\n",
       "      <th>SHANNON_ENTROPY</th>\n",
       "      <th>RATIO_DIVERSITY_HERFINDAHL</th>\n",
       "      <th>RATIO_DIVERSITY_GINI</th>\n",
       "      <th>RATIO_SHANNON_ENTROPY</th>\n",
       "      <th>RATIO_AVERAGE_POPULARITY</th>\n",
       "      <th>RATIO_NOVELTY</th>\n",
       "    </tr>\n",
       "    <tr>\n",
       "      <th>cutoff</th>\n",
       "      <th></th>\n",
       "      <th></th>\n",
       "      <th></th>\n",
       "      <th></th>\n",
       "      <th></th>\n",
       "      <th></th>\n",
       "      <th></th>\n",
       "      <th></th>\n",
       "      <th></th>\n",
       "      <th></th>\n",
       "      <th></th>\n",
       "      <th></th>\n",
       "      <th></th>\n",
       "      <th></th>\n",
       "      <th></th>\n",
       "      <th></th>\n",
       "      <th></th>\n",
       "      <th></th>\n",
       "      <th></th>\n",
       "      <th></th>\n",
       "      <th></th>\n",
       "    </tr>\n",
       "  </thead>\n",
       "  <tbody>\n",
       "    <tr>\n",
       "      <th>10</th>\n",
       "      <td>0.054524</td>\n",
       "      <td>0.094253</td>\n",
       "      <td>0.079452</td>\n",
       "      <td>0.0259</td>\n",
       "      <td>0.044669</td>\n",
       "      <td>0.176272</td>\n",
       "      <td>0.086926</td>\n",
       "      <td>0.064669</td>\n",
       "      <td>0.36754</td>\n",
       "      <td>0.212465</td>\n",
       "      <td>...</td>\n",
       "      <td>0.802826</td>\n",
       "      <td>0.295071</td>\n",
       "      <td>0.802826</td>\n",
       "      <td>0.034099</td>\n",
       "      <td>9.527262</td>\n",
       "      <td>0.996677</td>\n",
       "      <td>0.098389</td>\n",
       "      <td>0.733943</td>\n",
       "      <td>2.03833</td>\n",
       "      <td>0.294086</td>\n",
       "    </tr>\n",
       "  </tbody>\n",
       "</table>\n",
       "<p>1 rows × 27 columns</p>\n",
       "</div>"
      ],
      "text/plain": [
       "       PRECISION PRECISION_RECALL_MIN_DEN    RECALL     MAP MAP_MIN_DEN  \\\n",
       "cutoff                                                                    \n",
       "10      0.054524                 0.094253  0.079452  0.0259    0.044669   \n",
       "\n",
       "             MRR      NDCG        F1 HIT_RATE ARHR_ALL_HITS  ...  \\\n",
       "cutoff                                                       ...   \n",
       "10      0.176272  0.086926  0.064669  0.36754      0.212465  ...   \n",
       "\n",
       "       COVERAGE_USER COVERAGE_USER_HIT USERS_IN_GT DIVERSITY_GINI  \\\n",
       "cutoff                                                              \n",
       "10          0.802826          0.295071    0.802826       0.034099   \n",
       "\n",
       "       SHANNON_ENTROPY RATIO_DIVERSITY_HERFINDAHL RATIO_DIVERSITY_GINI  \\\n",
       "cutoff                                                                   \n",
       "10            9.527262                   0.996677             0.098389   \n",
       "\n",
       "       RATIO_SHANNON_ENTROPY RATIO_AVERAGE_POPULARITY RATIO_NOVELTY  \n",
       "cutoff                                                               \n",
       "10                  0.733943                  2.03833      0.294086  \n",
       "\n",
       "[1 rows x 27 columns]"
      ]
     },
     "metadata": {},
     "output_type": "display_data"
    },
    {
     "name": "stdout",
     "output_type": "stream",
     "text": [
      "EASE R\n",
      "EvaluatorHoldout: Processed 10456 (100.0%) in 14.04 sec. Users per second: 745\n"
     ]
    },
    {
     "data": {
      "text/html": [
       "<div>\n",
       "<style scoped>\n",
       "    .dataframe tbody tr th:only-of-type {\n",
       "        vertical-align: middle;\n",
       "    }\n",
       "\n",
       "    .dataframe tbody tr th {\n",
       "        vertical-align: top;\n",
       "    }\n",
       "\n",
       "    .dataframe thead th {\n",
       "        text-align: right;\n",
       "    }\n",
       "</style>\n",
       "<table border=\"1\" class=\"dataframe\">\n",
       "  <thead>\n",
       "    <tr style=\"text-align: right;\">\n",
       "      <th></th>\n",
       "      <th>PRECISION</th>\n",
       "      <th>PRECISION_RECALL_MIN_DEN</th>\n",
       "      <th>RECALL</th>\n",
       "      <th>MAP</th>\n",
       "      <th>MAP_MIN_DEN</th>\n",
       "      <th>MRR</th>\n",
       "      <th>NDCG</th>\n",
       "      <th>F1</th>\n",
       "      <th>HIT_RATE</th>\n",
       "      <th>ARHR_ALL_HITS</th>\n",
       "      <th>...</th>\n",
       "      <th>COVERAGE_USER</th>\n",
       "      <th>COVERAGE_USER_HIT</th>\n",
       "      <th>USERS_IN_GT</th>\n",
       "      <th>DIVERSITY_GINI</th>\n",
       "      <th>SHANNON_ENTROPY</th>\n",
       "      <th>RATIO_DIVERSITY_HERFINDAHL</th>\n",
       "      <th>RATIO_DIVERSITY_GINI</th>\n",
       "      <th>RATIO_SHANNON_ENTROPY</th>\n",
       "      <th>RATIO_AVERAGE_POPULARITY</th>\n",
       "      <th>RATIO_NOVELTY</th>\n",
       "    </tr>\n",
       "    <tr>\n",
       "      <th>cutoff</th>\n",
       "      <th></th>\n",
       "      <th></th>\n",
       "      <th></th>\n",
       "      <th></th>\n",
       "      <th></th>\n",
       "      <th></th>\n",
       "      <th></th>\n",
       "      <th></th>\n",
       "      <th></th>\n",
       "      <th></th>\n",
       "      <th></th>\n",
       "      <th></th>\n",
       "      <th></th>\n",
       "      <th></th>\n",
       "      <th></th>\n",
       "      <th></th>\n",
       "      <th></th>\n",
       "      <th></th>\n",
       "      <th></th>\n",
       "      <th></th>\n",
       "      <th></th>\n",
       "    </tr>\n",
       "  </thead>\n",
       "  <tbody>\n",
       "    <tr>\n",
       "      <th>10</th>\n",
       "      <td>0.074857</td>\n",
       "      <td>0.135323</td>\n",
       "      <td>0.116287</td>\n",
       "      <td>0.037511</td>\n",
       "      <td>0.067475</td>\n",
       "      <td>0.233553</td>\n",
       "      <td>0.123573</td>\n",
       "      <td>0.091082</td>\n",
       "      <td>0.459353</td>\n",
       "      <td>0.293884</td>\n",
       "      <td>...</td>\n",
       "      <td>0.802826</td>\n",
       "      <td>0.368781</td>\n",
       "      <td>0.802826</td>\n",
       "      <td>0.019069</td>\n",
       "      <td>8.350538</td>\n",
       "      <td>0.991242</td>\n",
       "      <td>0.055022</td>\n",
       "      <td>0.643293</td>\n",
       "      <td>3.089786</td>\n",
       "      <td>0.267475</td>\n",
       "    </tr>\n",
       "  </tbody>\n",
       "</table>\n",
       "<p>1 rows × 27 columns</p>\n",
       "</div>"
      ],
      "text/plain": [
       "       PRECISION PRECISION_RECALL_MIN_DEN    RECALL       MAP MAP_MIN_DEN  \\\n",
       "cutoff                                                                      \n",
       "10      0.074857                 0.135323  0.116287  0.037511    0.067475   \n",
       "\n",
       "             MRR      NDCG        F1  HIT_RATE ARHR_ALL_HITS  ...  \\\n",
       "cutoff                                                        ...   \n",
       "10      0.233553  0.123573  0.091082  0.459353      0.293884  ...   \n",
       "\n",
       "       COVERAGE_USER COVERAGE_USER_HIT USERS_IN_GT DIVERSITY_GINI  \\\n",
       "cutoff                                                              \n",
       "10          0.802826          0.368781    0.802826       0.019069   \n",
       "\n",
       "       SHANNON_ENTROPY RATIO_DIVERSITY_HERFINDAHL RATIO_DIVERSITY_GINI  \\\n",
       "cutoff                                                                   \n",
       "10            8.350538                   0.991242             0.055022   \n",
       "\n",
       "       RATIO_SHANNON_ENTROPY RATIO_AVERAGE_POPULARITY RATIO_NOVELTY  \n",
       "cutoff                                                               \n",
       "10                  0.643293                 3.089786      0.267475  \n",
       "\n",
       "[1 rows x 27 columns]"
      ]
     },
     "metadata": {},
     "output_type": "display_data"
    }
   ],
   "source": [
    "weights = [0.4, 0.4, 0.2]\n",
    "linear_combinator = LinearCombinationRecommender(URM_train, [recommender_item, recommender_rp3, recommender_p3a], weights)\n",
    "evaluator = EvaluatorHoldout(URM_test_complete, cutoff_list=[10])\n",
    "\n",
    "print('Linear Combinator')\n",
    "result_df, _ = evaluator.evaluateRecommender(linear_combinator)\n",
    "display(result_df)\n",
    "print('Merging Models')\n",
    "result_df, _ = evaluator.evaluateRecommender(hybrid_similarity)\n",
    "display(result_df)\n",
    "print('Item KNN')\n",
    "result_df, _ = evaluator.evaluateRecommender(recommender_item)\n",
    "display(result_df)\n",
    "print('RP3 beta')\n",
    "result_df, _ = evaluator.evaluateRecommender(recommender_rp3)\n",
    "display(result_df)\n",
    "print('P3 alpha')\n",
    "result_df, _ = evaluator.evaluateRecommender(recommender_p3a)\n",
    "display(result_df)\n",
    "print('User KNN')\n",
    "result_df, _ = evaluator.evaluateRecommender(recommender_user)\n",
    "display(result_df)\n",
    "print('NMF')\n",
    "result_df, _ = evaluator.evaluateRecommender(recommender_nmf)\n",
    "display(result_df)\n",
    "print('Pure SVD')\n",
    "result_df, _ = evaluator.evaluateRecommender(recommender_pure_svd)\n",
    "display(result_df)\n",
    "print('Item Pure SVD')\n",
    "result_df, _ = evaluator.evaluateRecommender(recommender_pure_svd_item)\n",
    "display(result_df)\n",
    "print('SLIM BPR')\n",
    "result_df, _ = evaluator.evaluateRecommender(recommender_slim_bpr)\n",
    "display(result_df)\n",
    "print('EASE R')\n",
    "result_df, _ = evaluator.evaluateRecommender(recommender_ease_r)\n",
    "display(result_df)"
   ]
  },
  {
   "cell_type": "code",
   "execution_count": 22,
   "id": "9a1695b6",
   "metadata": {
    "execution": {
     "iopub.execute_input": "2023-12-01T18:06:48.166249Z",
     "iopub.status.busy": "2023-12-01T18:06:48.165450Z",
     "iopub.status.idle": "2023-12-01T18:07:26.241449Z",
     "shell.execute_reply": "2023-12-01T18:07:26.240515Z"
    },
    "papermill": {
     "duration": 38.109202,
     "end_time": "2023-12-01T18:07:26.244005",
     "exception": false,
     "start_time": "2023-12-01T18:06:48.134803",
     "status": "completed"
    },
    "tags": []
   },
   "outputs": [
    {
     "name": "stdout",
     "output_type": "stream",
     "text": [
      "Recommender_Base_Class: URM Detected 627 ( 4.8%) users with no interactions.\n",
      "Recommender_Base_Class: URM Detected 247 ( 1.1%) items with no interactions.\n",
      "EvaluatorHoldout: Ignoring 2568 (19.7%) Users that have less than 1 test interactions\n",
      "EvaluatorHoldout: Processed 10456 (100.0%) in 38.02 sec. Users per second: 275\n"
     ]
    },
    {
     "data": {
      "text/html": [
       "<div>\n",
       "<style scoped>\n",
       "    .dataframe tbody tr th:only-of-type {\n",
       "        vertical-align: middle;\n",
       "    }\n",
       "\n",
       "    .dataframe tbody tr th {\n",
       "        vertical-align: top;\n",
       "    }\n",
       "\n",
       "    .dataframe thead th {\n",
       "        text-align: right;\n",
       "    }\n",
       "</style>\n",
       "<table border=\"1\" class=\"dataframe\">\n",
       "  <thead>\n",
       "    <tr style=\"text-align: right;\">\n",
       "      <th></th>\n",
       "      <th>PRECISION</th>\n",
       "      <th>PRECISION_RECALL_MIN_DEN</th>\n",
       "      <th>RECALL</th>\n",
       "      <th>MAP</th>\n",
       "      <th>MAP_MIN_DEN</th>\n",
       "      <th>MRR</th>\n",
       "      <th>NDCG</th>\n",
       "      <th>F1</th>\n",
       "      <th>HIT_RATE</th>\n",
       "      <th>ARHR_ALL_HITS</th>\n",
       "      <th>...</th>\n",
       "      <th>COVERAGE_USER</th>\n",
       "      <th>COVERAGE_USER_HIT</th>\n",
       "      <th>USERS_IN_GT</th>\n",
       "      <th>DIVERSITY_GINI</th>\n",
       "      <th>SHANNON_ENTROPY</th>\n",
       "      <th>RATIO_DIVERSITY_HERFINDAHL</th>\n",
       "      <th>RATIO_DIVERSITY_GINI</th>\n",
       "      <th>RATIO_SHANNON_ENTROPY</th>\n",
       "      <th>RATIO_AVERAGE_POPULARITY</th>\n",
       "      <th>RATIO_NOVELTY</th>\n",
       "    </tr>\n",
       "    <tr>\n",
       "      <th>cutoff</th>\n",
       "      <th></th>\n",
       "      <th></th>\n",
       "      <th></th>\n",
       "      <th></th>\n",
       "      <th></th>\n",
       "      <th></th>\n",
       "      <th></th>\n",
       "      <th></th>\n",
       "      <th></th>\n",
       "      <th></th>\n",
       "      <th></th>\n",
       "      <th></th>\n",
       "      <th></th>\n",
       "      <th></th>\n",
       "      <th></th>\n",
       "      <th></th>\n",
       "      <th></th>\n",
       "      <th></th>\n",
       "      <th></th>\n",
       "      <th></th>\n",
       "      <th></th>\n",
       "    </tr>\n",
       "  </thead>\n",
       "  <tbody>\n",
       "    <tr>\n",
       "      <th>10</th>\n",
       "      <td>0.097972</td>\n",
       "      <td>0.169844</td>\n",
       "      <td>0.143603</td>\n",
       "      <td>0.05047</td>\n",
       "      <td>0.086782</td>\n",
       "      <td>0.277102</td>\n",
       "      <td>0.15512</td>\n",
       "      <td>0.116478</td>\n",
       "      <td>0.525536</td>\n",
       "      <td>0.368998</td>\n",
       "      <td>...</td>\n",
       "      <td>0.802826</td>\n",
       "      <td>0.421913</td>\n",
       "      <td>0.802826</td>\n",
       "      <td>0.067755</td>\n",
       "      <td>10.310941</td>\n",
       "      <td>0.997682</td>\n",
       "      <td>0.195499</td>\n",
       "      <td>0.794315</td>\n",
       "      <td>1.813323</td>\n",
       "      <td>0.300063</td>\n",
       "    </tr>\n",
       "  </tbody>\n",
       "</table>\n",
       "<p>1 rows × 27 columns</p>\n",
       "</div>"
      ],
      "text/plain": [
       "       PRECISION PRECISION_RECALL_MIN_DEN    RECALL      MAP MAP_MIN_DEN  \\\n",
       "cutoff                                                                     \n",
       "10      0.097972                 0.169844  0.143603  0.05047    0.086782   \n",
       "\n",
       "             MRR     NDCG        F1  HIT_RATE ARHR_ALL_HITS  ...  \\\n",
       "cutoff                                                       ...   \n",
       "10      0.277102  0.15512  0.116478  0.525536      0.368998  ...   \n",
       "\n",
       "       COVERAGE_USER COVERAGE_USER_HIT USERS_IN_GT DIVERSITY_GINI  \\\n",
       "cutoff                                                              \n",
       "10          0.802826          0.421913    0.802826       0.067755   \n",
       "\n",
       "       SHANNON_ENTROPY RATIO_DIVERSITY_HERFINDAHL RATIO_DIVERSITY_GINI  \\\n",
       "cutoff                                                                   \n",
       "10           10.310941                   0.997682             0.195499   \n",
       "\n",
       "       RATIO_SHANNON_ENTROPY RATIO_AVERAGE_POPULARITY RATIO_NOVELTY  \n",
       "cutoff                                                               \n",
       "10                  0.794315                 1.813323      0.300063  \n",
       "\n",
       "[1 rows x 27 columns]"
      ]
     },
     "metadata": {},
     "output_type": "display_data"
    }
   ],
   "source": [
    "weights = [0.5, 0.8, 0.8, 0.05, 0.01, 0.005, 0.005, 0.005]\n",
    "recommenders = [recommender_item, recommender_rp3, recommender_p3a, recommender_ease_r, recommender_user, recommender_pure_svd_item, recommender_nmf, recommender_slim_bpr]\n",
    "linear_combinator = LinearCombinationRecommender(URM_train, recommenders, weights)\n",
    "evaluator = EvaluatorHoldout(URM_test_complete, cutoff_list=[10])\n",
    "result_df, _ = evaluator.evaluateRecommender(linear_combinator)\n",
    "display(result_df)"
   ]
  },
  {
   "cell_type": "code",
   "execution_count": 23,
   "id": "ffff5215",
   "metadata": {
    "execution": {
     "iopub.execute_input": "2023-12-01T18:07:26.304585Z",
     "iopub.status.busy": "2023-12-01T18:07:26.303852Z",
     "iopub.status.idle": "2023-12-01T18:07:26.319627Z",
     "shell.execute_reply": "2023-12-01T18:07:26.318810Z"
    },
    "papermill": {
     "duration": 0.049087,
     "end_time": "2023-12-01T18:07:26.321959",
     "exception": false,
     "start_time": "2023-12-01T18:07:26.272872",
     "status": "completed"
    },
    "tags": []
   },
   "outputs": [
    {
     "name": "stdout",
     "output_type": "stream",
     "text": [
      "EvaluatorHoldout: Ignoring 2568 (19.7%) Users that have less than 1 test interactions\n"
     ]
    }
   ],
   "source": [
    "evaluator = EvaluatorHoldout(URM_test_complete, cutoff_list=[10])\n",
    "\n",
    "def objective(trial):\n",
    "    weights = [\n",
    "        trial.suggest_float('item_knn', 1e-2, 1, log=True),\n",
    "        trial.suggest_float('rp3', 1e-2, 1, log=True),\n",
    "        trial.suggest_float('p3alpha', 1e-2, 1, log=True),\n",
    "        trial.suggest_float('ease_r', 1e-3, 1, log=True),\n",
    "        trial.suggest_float('user_knn', 1e-3, 1, log=True),\n",
    "        trial.suggest_float('svd_item', 1e-4, 1, log=True),\n",
    "        trial.suggest_float('nmf', 1e-5, 1, log=True),\n",
    "        trial.suggest_float('slim_bpr', 1e-5, 1, log=True)\n",
    "    ]\n",
    "    \n",
    "    recommenders = [\n",
    "        recommender_item, recommender_rp3, recommender_p3a, recommender_ease_r, \n",
    "        recommender_user, recommender_pure_svd_item, recommender_nmf, recommender_slim_bpr\n",
    "    ]\n",
    "    \n",
    "    linear_combinator = LinearCombinationRecommender(URM_train, recommenders, weights)\n",
    "    evaluator = EvaluatorHoldout(URM_test_complete, cutoff_list=[10])\n",
    "    result_df, _ = evaluator.evaluateRecommender(linear_combinator)\n",
    "\n",
    "    return result_df.loc[10, 'MAP']"
   ]
  },
  {
   "cell_type": "code",
   "execution_count": 24,
   "id": "b4ef5b16",
   "metadata": {
    "execution": {
     "iopub.execute_input": "2023-12-01T18:07:26.383956Z",
     "iopub.status.busy": "2023-12-01T18:07:26.383201Z",
     "iopub.status.idle": "2023-12-01T18:07:26.388238Z",
     "shell.execute_reply": "2023-12-01T18:07:26.387503Z"
    },
    "papermill": {
     "duration": 0.038315,
     "end_time": "2023-12-01T18:07:26.390438",
     "exception": false,
     "start_time": "2023-12-01T18:07:26.352123",
     "status": "completed"
    },
    "tags": []
   },
   "outputs": [],
   "source": [
    "# def evaluate_linear_model(URM_train, URM_valid, weights):\n",
    "#     recommender_item = ItemKNNCFRecommender(URM_train)\n",
    "#     recommender_item.fit(**params_item_knn)\n",
    "\n",
    "#     recommender_rp3 = RP3betaRecommender(URM_train)\n",
    "#     recommender_rp3.fit(**params_rp3)\n",
    "    \n",
    "#     recommender_p3a = P3alphaRecommender(URM_train)\n",
    "#     recommender_p3a.fit(**params_p3alpha)\n",
    "    \n",
    "#     linear_combinator = LinearCombinationRecommender(URM_train, [recommender_item, recommender_rp3, recommender_p3a], weights)    \n",
    "#     evaluator = EvaluatorHoldout(URM_valid, cutoff_list=[10])\n",
    "#     result_df, _ = evaluator.evaluateRecommender(linear_combinator)\n",
    "#     return result_df.loc[10, 'MAP']\n",
    "\n",
    "# def objective(trial):\n",
    "#     w1 = trial.suggest_float('w1', 0.01, 0.99)\n",
    "#     w2 = trial.suggest_float('w2', 0.01, 0.99)\n",
    "#     w3 = trial.suggest_float('w3', 0.01, 0.99)\n",
    "    \n",
    "#     results = [None] * 10\n",
    "#     with ThreadPoolExecutor(max_workers=10) as executor:\n",
    "#         futures = []\n",
    "#         for URM_train, URM_valid in CrossValidationSplitter(10).split(URM_all):\n",
    "#             futures.append(\n",
    "#                 executor.submit(evaluate_linear_model, URM_train, URM_valid, [w1, w2, w3])\n",
    "#             )\n",
    "#         for i, future in enumerate(futures):\n",
    "#             results[i] = future.result()\n",
    "#     return np.mean(results)"
   ]
  },
  {
   "cell_type": "code",
   "execution_count": 25,
   "id": "b77eebf7",
   "metadata": {
    "execution": {
     "iopub.execute_input": "2023-12-01T18:07:26.452321Z",
     "iopub.status.busy": "2023-12-01T18:07:26.451538Z",
     "iopub.status.idle": "2023-12-01T18:07:26.456704Z",
     "shell.execute_reply": "2023-12-01T18:07:26.455923Z"
    },
    "papermill": {
     "duration": 0.038918,
     "end_time": "2023-12-01T18:07:26.458894",
     "exception": false,
     "start_time": "2023-12-01T18:07:26.419976",
     "status": "completed"
    },
    "tags": []
   },
   "outputs": [],
   "source": [
    "try:\n",
    "    shutil.copyfile(\n",
    "        '/kaggle/working/Recsys_Challenge_2023/tuning_results/tuning_hybrid_merging.db', \n",
    "        config['database_path']\n",
    "    )\n",
    "except FileNotFoundError:\n",
    "    pass"
   ]
  },
  {
   "cell_type": "code",
   "execution_count": 26,
   "id": "e84e5509",
   "metadata": {
    "execution": {
     "iopub.execute_input": "2023-12-01T18:07:26.519629Z",
     "iopub.status.busy": "2023-12-01T18:07:26.519196Z",
     "iopub.status.idle": "2023-12-01T19:11:20.065033Z",
     "shell.execute_reply": "2023-12-01T19:11:20.063839Z"
    },
    "papermill": {
     "duration": 3833.584543,
     "end_time": "2023-12-01T19:11:20.073583",
     "exception": false,
     "start_time": "2023-12-01T18:07:26.489040",
     "status": "completed"
    },
    "tags": []
   },
   "outputs": [
    {
     "name": "stderr",
     "output_type": "stream",
     "text": [
      "[I 2023-12-01 18:07:26,923] Using an existing study with name 'hyperparameters_tuning_linear_8models_no_cv' instead of creating a new one.\n"
     ]
    },
    {
     "name": "stdout",
     "output_type": "stream",
     "text": [
      "Recommender_Base_Class: URM Detected 627 ( 4.8%) users with no interactions.\n",
      "Recommender_Base_Class: URM Detected 247 ( 1.1%) items with no interactions.\n",
      "EvaluatorHoldout: Ignoring 2568 (19.7%) Users that have less than 1 test interactions\n",
      "EvaluatorHoldout: Processed 10456 (100.0%) in 38.02 sec. Users per second: 275\n"
     ]
    },
    {
     "name": "stderr",
     "output_type": "stream",
     "text": [
      "[I 2023-12-01 18:08:05,360] Trial 100 finished with value: 0.05024663821789943 and parameters: {'item_knn': 0.03240293348185069, 'rp3': 0.3989278335011647, 'p3alpha': 0.16576975301216076, 'ease_r': 0.001975268855694896, 'user_knn': 0.007789214219038378, 'svd_item': 0.0019218832242984673, 'nmf': 0.0012948162773743946, 'slim_bpr': 4.721274530606856e-05}. Best is trial 93 with value: 0.050696577343001106.\n"
     ]
    },
    {
     "name": "stdout",
     "output_type": "stream",
     "text": [
      "Recommender_Base_Class: URM Detected 627 ( 4.8%) users with no interactions.\n",
      "Recommender_Base_Class: URM Detected 247 ( 1.1%) items with no interactions.\n",
      "EvaluatorHoldout: Ignoring 2568 (19.7%) Users that have less than 1 test interactions\n",
      "EvaluatorHoldout: Processed 10456 (100.0%) in 37.91 sec. Users per second: 276\n"
     ]
    },
    {
     "name": "stderr",
     "output_type": "stream",
     "text": [
      "[I 2023-12-01 18:08:43,541] Trial 101 finished with value: 0.050712141430150896 and parameters: {'item_knn': 0.04986228232741684, 'rp3': 0.3433816004027039, 'p3alpha': 0.19062903201076378, 'ease_r': 0.001231644222265787, 'user_knn': 0.0036696132974807175, 'svd_item': 0.003060739381027495, 'nmf': 0.0017977262444814504, 'slim_bpr': 8.573146591938293e-05}. Best is trial 101 with value: 0.050712141430150896.\n"
     ]
    },
    {
     "name": "stdout",
     "output_type": "stream",
     "text": [
      "Recommender_Base_Class: URM Detected 627 ( 4.8%) users with no interactions.\n",
      "Recommender_Base_Class: URM Detected 247 ( 1.1%) items with no interactions.\n",
      "EvaluatorHoldout: Ignoring 2568 (19.7%) Users that have less than 1 test interactions\n",
      "EvaluatorHoldout: Processed 10456 (100.0%) in 38.05 sec. Users per second: 275\n"
     ]
    },
    {
     "name": "stderr",
     "output_type": "stream",
     "text": [
      "[I 2023-12-01 18:09:21,855] Trial 102 finished with value: 0.050744833224032365 and parameters: {'item_knn': 0.050774640152222925, 'rp3': 0.35730087685145995, 'p3alpha': 0.18757329883116283, 'ease_r': 0.0013286016102773412, 'user_knn': 0.0036521844735514794, 'svd_item': 0.0033963853363314905, 'nmf': 0.0017799916269743072, 'slim_bpr': 6.43751837916623e-05}. Best is trial 102 with value: 0.050744833224032365.\n"
     ]
    },
    {
     "name": "stdout",
     "output_type": "stream",
     "text": [
      "Recommender_Base_Class: URM Detected 627 ( 4.8%) users with no interactions.\n",
      "Recommender_Base_Class: URM Detected 247 ( 1.1%) items with no interactions.\n",
      "EvaluatorHoldout: Ignoring 2568 (19.7%) Users that have less than 1 test interactions\n",
      "EvaluatorHoldout: Processed 10456 (100.0%) in 38.06 sec. Users per second: 275\n"
     ]
    },
    {
     "name": "stderr",
     "output_type": "stream",
     "text": [
      "[I 2023-12-01 18:10:00,189] Trial 103 finished with value: 0.05069504788015757 and parameters: {'item_knn': 0.05104201481573774, 'rp3': 0.2856377061300999, 'p3alpha': 0.18552921312958293, 'ease_r': 0.0013391692178568602, 'user_knn': 0.0036787557782106627, 'svd_item': 0.0028213272567171295, 'nmf': 0.0018346289150568034, 'slim_bpr': 5.3488111775906504e-05}. Best is trial 102 with value: 0.050744833224032365.\n"
     ]
    },
    {
     "name": "stdout",
     "output_type": "stream",
     "text": [
      "Recommender_Base_Class: URM Detected 627 ( 4.8%) users with no interactions.\n",
      "Recommender_Base_Class: URM Detected 247 ( 1.1%) items with no interactions.\n",
      "EvaluatorHoldout: Ignoring 2568 (19.7%) Users that have less than 1 test interactions\n",
      "EvaluatorHoldout: Processed 10456 (100.0%) in 38.20 sec. Users per second: 274\n"
     ]
    },
    {
     "name": "stderr",
     "output_type": "stream",
     "text": [
      "[I 2023-12-01 18:10:38,664] Trial 104 finished with value: 0.0506086920549915 and parameters: {'item_knn': 0.05080326700987787, 'rp3': 0.29206182100306244, 'p3alpha': 0.19009272599999455, 'ease_r': 0.0013587592019066446, 'user_knn': 0.0048908812154564935, 'svd_item': 0.004062888430609893, 'nmf': 0.0018938688252215972, 'slim_bpr': 5.632143627640438e-05}. Best is trial 102 with value: 0.050744833224032365.\n"
     ]
    },
    {
     "name": "stdout",
     "output_type": "stream",
     "text": [
      "Recommender_Base_Class: URM Detected 627 ( 4.8%) users with no interactions.\n",
      "Recommender_Base_Class: URM Detected 247 ( 1.1%) items with no interactions.\n",
      "EvaluatorHoldout: Ignoring 2568 (19.7%) Users that have less than 1 test interactions\n",
      "EvaluatorHoldout: Processed 10456 (100.0%) in 37.98 sec. Users per second: 275\n"
     ]
    },
    {
     "name": "stderr",
     "output_type": "stream",
     "text": [
      "[I 2023-12-01 18:11:16,929] Trial 105 finished with value: 0.05066839044340066 and parameters: {'item_knn': 0.04568308860720228, 'rp3': 0.3367494605301125, 'p3alpha': 0.22045297078622503, 'ease_r': 0.0010374952168851824, 'user_knn': 0.0035871630744014737, 'svd_item': 0.0032207837369394175, 'nmf': 0.00277604362639404, 'slim_bpr': 2.3538706216123603e-05}. Best is trial 102 with value: 0.050744833224032365.\n"
     ]
    },
    {
     "name": "stdout",
     "output_type": "stream",
     "text": [
      "Recommender_Base_Class: URM Detected 627 ( 4.8%) users with no interactions.\n",
      "Recommender_Base_Class: URM Detected 247 ( 1.1%) items with no interactions.\n",
      "EvaluatorHoldout: Ignoring 2568 (19.7%) Users that have less than 1 test interactions\n",
      "EvaluatorHoldout: Processed 10456 (100.0%) in 38.06 sec. Users per second: 275\n"
     ]
    },
    {
     "name": "stderr",
     "output_type": "stream",
     "text": [
      "[I 2023-12-01 18:11:55,267] Trial 106 finished with value: 0.050643755844598154 and parameters: {'item_knn': 0.046855364901809235, 'rp3': 0.33466809931576297, 'p3alpha': 0.22447624063023036, 'ease_r': 0.0010076806279864675, 'user_knn': 0.0034913526310656044, 'svd_item': 0.005184864018001432, 'nmf': 0.002821154052326197, 'slim_bpr': 1.7424416145395675e-05}. Best is trial 102 with value: 0.050744833224032365.\n"
     ]
    },
    {
     "name": "stdout",
     "output_type": "stream",
     "text": [
      "Recommender_Base_Class: URM Detected 627 ( 4.8%) users with no interactions.\n",
      "Recommender_Base_Class: URM Detected 247 ( 1.1%) items with no interactions.\n",
      "EvaluatorHoldout: Ignoring 2568 (19.7%) Users that have less than 1 test interactions\n",
      "EvaluatorHoldout: Processed 10456 (100.0%) in 38.17 sec. Users per second: 274\n"
     ]
    },
    {
     "name": "stderr",
     "output_type": "stream",
     "text": [
      "[I 2023-12-01 18:12:33,703] Trial 107 finished with value: 0.05058250142699333 and parameters: {'item_knn': 0.0511721025093534, 'rp3': 0.4162586825947931, 'p3alpha': 0.2792769173066739, 'ease_r': 0.0010178945869872076, 'user_knn': 0.0036400316870334377, 'svd_item': 0.00532100980251147, 'nmf': 0.001757333070073509, 'slim_bpr': 1.6843511447118724e-05}. Best is trial 102 with value: 0.050744833224032365.\n"
     ]
    },
    {
     "name": "stdout",
     "output_type": "stream",
     "text": [
      "Recommender_Base_Class: URM Detected 627 ( 4.8%) users with no interactions.\n",
      "Recommender_Base_Class: URM Detected 247 ( 1.1%) items with no interactions.\n",
      "EvaluatorHoldout: Ignoring 2568 (19.7%) Users that have less than 1 test interactions\n",
      "EvaluatorHoldout: Processed 10456 (100.0%) in 38.06 sec. Users per second: 275\n"
     ]
    },
    {
     "name": "stderr",
     "output_type": "stream",
     "text": [
      "[I 2023-12-01 18:13:12,034] Trial 108 finished with value: 0.05064555856134921 and parameters: {'item_knn': 0.046513965367616365, 'rp3': 0.36431505187395663, 'p3alpha': 0.2476469065670168, 'ease_r': 0.0016974204637756813, 'user_knn': 0.004053740515080786, 'svd_item': 0.007581109360309905, 'nmf': 0.002992448593555578, 'slim_bpr': 1.885530167315876e-05}. Best is trial 102 with value: 0.050744833224032365.\n"
     ]
    },
    {
     "name": "stdout",
     "output_type": "stream",
     "text": [
      "Recommender_Base_Class: URM Detected 627 ( 4.8%) users with no interactions.\n",
      "Recommender_Base_Class: URM Detected 247 ( 1.1%) items with no interactions.\n",
      "EvaluatorHoldout: Ignoring 2568 (19.7%) Users that have less than 1 test interactions\n",
      "EvaluatorHoldout: Processed 10456 (100.0%) in 38.24 sec. Users per second: 273\n"
     ]
    },
    {
     "name": "stderr",
     "output_type": "stream",
     "text": [
      "[I 2023-12-01 18:13:50,546] Trial 109 finished with value: 0.050514366324189056 and parameters: {'item_knn': 0.04767089889322071, 'rp3': 0.37435698716056337, 'p3alpha': 0.23930186316695493, 'ease_r': 0.0017850056166062217, 'user_knn': 0.005710318922621662, 'svd_item': 0.006789271440745371, 'nmf': 0.0029841565942150226, 'slim_bpr': 1.7407758818073993e-05}. Best is trial 102 with value: 0.050744833224032365.\n"
     ]
    },
    {
     "name": "stdout",
     "output_type": "stream",
     "text": [
      "Recommender_Base_Class: URM Detected 627 ( 4.8%) users with no interactions.\n",
      "Recommender_Base_Class: URM Detected 247 ( 1.1%) items with no interactions.\n",
      "EvaluatorHoldout: Ignoring 2568 (19.7%) Users that have less than 1 test interactions\n",
      "EvaluatorHoldout: Processed 10456 (100.0%) in 38.28 sec. Users per second: 273\n"
     ]
    },
    {
     "name": "stderr",
     "output_type": "stream",
     "text": [
      "[I 2023-12-01 18:14:29,098] Trial 110 finished with value: 0.05061827871291408 and parameters: {'item_knn': 0.046348531655197575, 'rp3': 0.48951598918370676, 'p3alpha': 0.1830588466911519, 'ease_r': 0.0021144364422047285, 'user_knn': 0.004888055697471093, 'svd_item': 0.003744868388598113, 'nmf': 0.004122100284603846, 'slim_bpr': 1.3195695641635006e-05}. Best is trial 102 with value: 0.050744833224032365.\n"
     ]
    },
    {
     "name": "stdout",
     "output_type": "stream",
     "text": [
      "Recommender_Base_Class: URM Detected 627 ( 4.8%) users with no interactions.\n",
      "Recommender_Base_Class: URM Detected 247 ( 1.1%) items with no interactions.\n",
      "EvaluatorHoldout: Ignoring 2568 (19.7%) Users that have less than 1 test interactions\n",
      "EvaluatorHoldout: Processed 10456 (100.0%) in 38.26 sec. Users per second: 273\n"
     ]
    },
    {
     "name": "stderr",
     "output_type": "stream",
     "text": [
      "[I 2023-12-01 18:15:07,631] Trial 111 finished with value: 0.05067565444310924 and parameters: {'item_knn': 0.05217744867146494, 'rp3': 0.3344799084836442, 'p3alpha': 0.25652163551402934, 'ease_r': 0.0016051359235454495, 'user_knn': 0.0041883075787415335, 'svd_item': 0.003157670844664027, 'nmf': 0.005509515028997936, 'slim_bpr': 2.2801930162161766e-05}. Best is trial 102 with value: 0.050744833224032365.\n"
     ]
    },
    {
     "name": "stdout",
     "output_type": "stream",
     "text": [
      "Recommender_Base_Class: URM Detected 627 ( 4.8%) users with no interactions.\n",
      "Recommender_Base_Class: URM Detected 247 ( 1.1%) items with no interactions.\n",
      "EvaluatorHoldout: Ignoring 2568 (19.7%) Users that have less than 1 test interactions\n",
      "EvaluatorHoldout: Processed 10456 (100.0%) in 38.22 sec. Users per second: 274\n"
     ]
    },
    {
     "name": "stderr",
     "output_type": "stream",
     "text": [
      "[I 2023-12-01 18:15:46,121] Trial 112 finished with value: 0.05064037432749246 and parameters: {'item_knn': 0.05533040452801201, 'rp3': 0.3530452383197879, 'p3alpha': 0.25937689311857176, 'ease_r': 0.0016773855100772883, 'user_knn': 0.0035470647492134993, 'svd_item': 0.0028249842387670946, 'nmf': 0.005301291782065015, 'slim_bpr': 2.4750867587458068e-05}. Best is trial 102 with value: 0.050744833224032365.\n"
     ]
    },
    {
     "name": "stdout",
     "output_type": "stream",
     "text": [
      "Recommender_Base_Class: URM Detected 627 ( 4.8%) users with no interactions.\n",
      "Recommender_Base_Class: URM Detected 247 ( 1.1%) items with no interactions.\n",
      "EvaluatorHoldout: Ignoring 2568 (19.7%) Users that have less than 1 test interactions\n",
      "EvaluatorHoldout: Processed 10456 (100.0%) in 38.00 sec. Users per second: 275\n"
     ]
    },
    {
     "name": "stderr",
     "output_type": "stream",
     "text": [
      "[I 2023-12-01 18:16:24,395] Trial 113 finished with value: 0.0506621018083343 and parameters: {'item_knn': 0.053068570299107026, 'rp3': 0.34196847184604934, 'p3alpha': 0.25968788822369065, 'ease_r': 0.0017040473328314497, 'user_knn': 0.0035831119326974223, 'svd_item': 0.005030130322213162, 'nmf': 0.005508301903271782, 'slim_bpr': 2.4296513953439123e-05}. Best is trial 102 with value: 0.050744833224032365.\n"
     ]
    },
    {
     "name": "stdout",
     "output_type": "stream",
     "text": [
      "Recommender_Base_Class: URM Detected 627 ( 4.8%) users with no interactions.\n",
      "Recommender_Base_Class: URM Detected 247 ( 1.1%) items with no interactions.\n",
      "EvaluatorHoldout: Ignoring 2568 (19.7%) Users that have less than 1 test interactions\n",
      "EvaluatorHoldout: Processed 10456 (100.0%) in 38.08 sec. Users per second: 275\n"
     ]
    },
    {
     "name": "stderr",
     "output_type": "stream",
     "text": [
      "[I 2023-12-01 18:17:02,747] Trial 114 finished with value: 0.050640742461228995 and parameters: {'item_knn': 0.05509265833495795, 'rp3': 0.3483333842395956, 'p3alpha': 0.2699159483369597, 'ease_r': 0.001651732836944833, 'user_knn': 0.004186094497727985, 'svd_item': 0.008029757304877271, 'nmf': 0.004799071642798623, 'slim_bpr': 2.3436049364717867e-05}. Best is trial 102 with value: 0.050744833224032365.\n"
     ]
    },
    {
     "name": "stdout",
     "output_type": "stream",
     "text": [
      "Recommender_Base_Class: URM Detected 627 ( 4.8%) users with no interactions.\n",
      "Recommender_Base_Class: URM Detected 247 ( 1.1%) items with no interactions.\n",
      "EvaluatorHoldout: Ignoring 2568 (19.7%) Users that have less than 1 test interactions\n",
      "EvaluatorHoldout: Processed 10456 (100.0%) in 38.05 sec. Users per second: 275\n"
     ]
    },
    {
     "name": "stderr",
     "output_type": "stream",
     "text": [
      "[I 2023-12-01 18:17:41,074] Trial 115 finished with value: 0.05062162227808815 and parameters: {'item_knn': 0.05280184376335013, 'rp3': 0.4127825023233979, 'p3alpha': 0.31772947943633206, 'ease_r': 0.0011151971046253464, 'user_knn': 0.004271493523183013, 'svd_item': 0.004890722849544023, 'nmf': 0.006006419517910594, 'slim_bpr': 2.6523708966011847e-05}. Best is trial 102 with value: 0.050744833224032365.\n"
     ]
    },
    {
     "name": "stdout",
     "output_type": "stream",
     "text": [
      "Recommender_Base_Class: URM Detected 627 ( 4.8%) users with no interactions.\n",
      "Recommender_Base_Class: URM Detected 247 ( 1.1%) items with no interactions.\n",
      "EvaluatorHoldout: Ignoring 2568 (19.7%) Users that have less than 1 test interactions\n",
      "EvaluatorHoldout: Processed 10456 (100.0%) in 38.14 sec. Users per second: 274\n"
     ]
    },
    {
     "name": "stderr",
     "output_type": "stream",
     "text": [
      "[I 2023-12-01 18:18:19,489] Trial 116 finished with value: 0.05047209166757826 and parameters: {'item_knn': 0.06055220784785324, 'rp3': 0.33127355073000525, 'p3alpha': 0.27767578229220435, 'ease_r': 0.002583966437350889, 'user_knn': 0.006264585510498547, 'svd_item': 0.008480548818010022, 'nmf': 0.004231082415129038, 'slim_bpr': 1.1943116081383872e-05}. Best is trial 102 with value: 0.050744833224032365.\n"
     ]
    },
    {
     "name": "stdout",
     "output_type": "stream",
     "text": [
      "Recommender_Base_Class: URM Detected 627 ( 4.8%) users with no interactions.\n",
      "Recommender_Base_Class: URM Detected 247 ( 1.1%) items with no interactions.\n",
      "EvaluatorHoldout: Ignoring 2568 (19.7%) Users that have less than 1 test interactions\n",
      "EvaluatorHoldout: Processed 10456 (100.0%) in 38.00 sec. Users per second: 275\n"
     ]
    },
    {
     "name": "stderr",
     "output_type": "stream",
     "text": [
      "[I 2023-12-01 18:18:57,755] Trial 117 finished with value: 0.050521042068957786 and parameters: {'item_knn': 0.04715625672358957, 'rp3': 0.5343123232107262, 'p3alpha': 0.36408156911123074, 'ease_r': 0.0017578693993712227, 'user_knn': 0.0054850650602669745, 'svd_item': 0.00795827942052431, 'nmf': 0.0032308082217456144, 'slim_bpr': 2.020347699363119e-05}. Best is trial 102 with value: 0.050744833224032365.\n"
     ]
    },
    {
     "name": "stdout",
     "output_type": "stream",
     "text": [
      "Recommender_Base_Class: URM Detected 627 ( 4.8%) users with no interactions.\n",
      "Recommender_Base_Class: URM Detected 247 ( 1.1%) items with no interactions.\n",
      "EvaluatorHoldout: Ignoring 2568 (19.7%) Users that have less than 1 test interactions\n",
      "EvaluatorHoldout: Processed 10456 (100.0%) in 38.20 sec. Users per second: 274\n"
     ]
    },
    {
     "name": "stderr",
     "output_type": "stream",
     "text": [
      "[I 2023-12-01 18:19:36,238] Trial 118 finished with value: 0.05040028281779507 and parameters: {'item_knn': 0.05791049656636388, 'rp3': 0.371555919390394, 'p3alpha': 0.30199649335575346, 'ease_r': 0.0010246294107287281, 'user_knn': 0.007163201464769226, 'svd_item': 0.006269407487268844, 'nmf': 0.004818853779285113, 'slim_bpr': 3.285107675817392e-05}. Best is trial 102 with value: 0.050744833224032365.\n"
     ]
    },
    {
     "name": "stdout",
     "output_type": "stream",
     "text": [
      "Recommender_Base_Class: URM Detected 627 ( 4.8%) users with no interactions.\n",
      "Recommender_Base_Class: URM Detected 247 ( 1.1%) items with no interactions.\n",
      "EvaluatorHoldout: Ignoring 2568 (19.7%) Users that have less than 1 test interactions\n",
      "EvaluatorHoldout: Processed 10456 (100.0%) in 38.08 sec. Users per second: 275\n"
     ]
    },
    {
     "name": "stderr",
     "output_type": "stream",
     "text": [
      "[I 2023-12-01 18:20:14,602] Trial 119 finished with value: 0.05068765863907485 and parameters: {'item_knn': 0.05218290257883214, 'rp3': 0.339143965492381, 'p3alpha': 0.24414576232130894, 'ease_r': 0.0012434571453601756, 'user_knn': 0.004151768250075912, 'svd_item': 0.004436836521940022, 'nmf': 0.005774720739531429, 'slim_bpr': 1.5262069842912172e-05}. Best is trial 102 with value: 0.050744833224032365.\n"
     ]
    },
    {
     "name": "stdout",
     "output_type": "stream",
     "text": [
      "Recommender_Base_Class: URM Detected 627 ( 4.8%) users with no interactions.\n",
      "Recommender_Base_Class: URM Detected 247 ( 1.1%) items with no interactions.\n",
      "EvaluatorHoldout: Ignoring 2568 (19.7%) Users that have less than 1 test interactions\n",
      "EvaluatorHoldout: Processed 10456 (100.0%) in 38.05 sec. Users per second: 275\n"
     ]
    },
    {
     "name": "stderr",
     "output_type": "stream",
     "text": [
      "[I 2023-12-01 18:20:52,922] Trial 120 finished with value: 0.05034626203835341 and parameters: {'item_knn': 0.05060788670559433, 'rp3': 0.42834569850616144, 'p3alpha': 0.18308963393092387, 'ease_r': 0.00126623311887829, 'user_knn': 0.008384125573125728, 'svd_item': 0.005703306930307963, 'nmf': 0.0016523070465743852, 'slim_bpr': 3.1986208012868515e-05}. Best is trial 102 with value: 0.050744833224032365.\n"
     ]
    },
    {
     "name": "stdout",
     "output_type": "stream",
     "text": [
      "Recommender_Base_Class: URM Detected 627 ( 4.8%) users with no interactions.\n",
      "Recommender_Base_Class: URM Detected 247 ( 1.1%) items with no interactions.\n",
      "EvaluatorHoldout: Ignoring 2568 (19.7%) Users that have less than 1 test interactions\n",
      "EvaluatorHoldout: Processed 10456 (100.0%) in 38.17 sec. Users per second: 274\n"
     ]
    },
    {
     "name": "stderr",
     "output_type": "stream",
     "text": [
      "[I 2023-12-01 18:21:31,353] Trial 121 finished with value: 0.05067072448719412 and parameters: {'item_knn': 0.06654310445863379, 'rp3': 0.34898719577884574, 'p3alpha': 0.23742470370723875, 'ease_r': 0.0015536703687672585, 'user_knn': 0.004059400789515239, 'svd_item': 0.0043859476964139745, 'nmf': 0.0038756336968014046, 'slim_bpr': 1.4162808837395237e-05}. Best is trial 102 with value: 0.050744833224032365.\n"
     ]
    },
    {
     "name": "stdout",
     "output_type": "stream",
     "text": [
      "Recommender_Base_Class: URM Detected 627 ( 4.8%) users with no interactions.\n",
      "Recommender_Base_Class: URM Detected 247 ( 1.1%) items with no interactions.\n",
      "EvaluatorHoldout: Ignoring 2568 (19.7%) Users that have less than 1 test interactions\n",
      "EvaluatorHoldout: Processed 10456 (100.0%) in 37.95 sec. Users per second: 275\n"
     ]
    },
    {
     "name": "stderr",
     "output_type": "stream",
     "text": [
      "[I 2023-12-01 18:22:09,568] Trial 122 finished with value: 0.05067243232411629 and parameters: {'item_knn': 0.06697770109665765, 'rp3': 0.40247804563941597, 'p3alpha': 0.23127389305664364, 'ease_r': 0.0012474275533462544, 'user_knn': 0.005090224340524499, 'svd_item': 0.004387998960429032, 'nmf': 0.005898512325708633, 'slim_bpr': 1.4184086681218904e-05}. Best is trial 102 with value: 0.050744833224032365.\n"
     ]
    },
    {
     "name": "stdout",
     "output_type": "stream",
     "text": [
      "Recommender_Base_Class: URM Detected 627 ( 4.8%) users with no interactions.\n",
      "Recommender_Base_Class: URM Detected 247 ( 1.1%) items with no interactions.\n",
      "EvaluatorHoldout: Ignoring 2568 (19.7%) Users that have less than 1 test interactions\n",
      "EvaluatorHoldout: Processed 10456 (100.0%) in 38.07 sec. Users per second: 275\n"
     ]
    },
    {
     "name": "stderr",
     "output_type": "stream",
     "text": [
      "[I 2023-12-01 18:22:47,917] Trial 123 finished with value: 0.05064583181525673 and parameters: {'item_knn': 0.06359934060335747, 'rp3': 0.39920982010708994, 'p3alpha': 0.23418270400141009, 'ease_r': 0.0011406606493088536, 'user_knn': 0.004756321547197469, 'svd_item': 0.004256864557864053, 'nmf': 0.005724975360963431, 'slim_bpr': 1.0387284032371459e-05}. Best is trial 102 with value: 0.050744833224032365.\n"
     ]
    },
    {
     "name": "stdout",
     "output_type": "stream",
     "text": [
      "Recommender_Base_Class: URM Detected 627 ( 4.8%) users with no interactions.\n",
      "Recommender_Base_Class: URM Detected 247 ( 1.1%) items with no interactions.\n",
      "EvaluatorHoldout: Ignoring 2568 (19.7%) Users that have less than 1 test interactions\n",
      "EvaluatorHoldout: Processed 10456 (100.0%) in 38.03 sec. Users per second: 275\n"
     ]
    },
    {
     "name": "stderr",
     "output_type": "stream",
     "text": [
      "[I 2023-12-01 18:23:26,221] Trial 124 finished with value: 0.050642643853002205 and parameters: {'item_knn': 0.06597120973217734, 'rp3': 0.38411162103290475, 'p3alpha': 0.24431631389716812, 'ease_r': 0.0011654239154001939, 'user_knn': 0.004691650747898545, 'svd_item': 0.004337354850809134, 'nmf': 0.005992209838824953, 'slim_bpr': 1.4449722298769701e-05}. Best is trial 102 with value: 0.050744833224032365.\n"
     ]
    },
    {
     "name": "stdout",
     "output_type": "stream",
     "text": [
      "Recommender_Base_Class: URM Detected 627 ( 4.8%) users with no interactions.\n",
      "Recommender_Base_Class: URM Detected 247 ( 1.1%) items with no interactions.\n",
      "EvaluatorHoldout: Ignoring 2568 (19.7%) Users that have less than 1 test interactions\n",
      "EvaluatorHoldout: Processed 10456 (100.0%) in 38.01 sec. Users per second: 275\n"
     ]
    },
    {
     "name": "stderr",
     "output_type": "stream",
     "text": [
      "[I 2023-12-01 18:24:04,496] Trial 125 finished with value: 0.05073154245758554 and parameters: {'item_knn': 0.0635587079792929, 'rp3': 0.4503111704056017, 'p3alpha': 0.24718895065246493, 'ease_r': 0.0015568215561164182, 'user_knn': 0.005131121725012156, 'svd_item': 0.0025658179081314847, 'nmf': 0.004015599597897882, 'slim_bpr': 1.2456357510915387e-05}. Best is trial 102 with value: 0.050744833224032365.\n"
     ]
    },
    {
     "name": "stdout",
     "output_type": "stream",
     "text": [
      "Recommender_Base_Class: URM Detected 627 ( 4.8%) users with no interactions.\n",
      "Recommender_Base_Class: URM Detected 247 ( 1.1%) items with no interactions.\n",
      "EvaluatorHoldout: Ignoring 2568 (19.7%) Users that have less than 1 test interactions\n",
      "EvaluatorHoldout: Processed 10456 (100.0%) in 38.12 sec. Users per second: 274\n"
     ]
    },
    {
     "name": "stderr",
     "output_type": "stream",
     "text": [
      "[I 2023-12-01 18:24:42,898] Trial 126 finished with value: 0.05063755829416759 and parameters: {'item_knn': 0.06284103582508568, 'rp3': 0.5216306050758894, 'p3alpha': 0.3359537301652516, 'ease_r': 0.0013127181585686906, 'user_knn': 0.0053831770394308165, 'svd_item': 0.002533146794999303, 'nmf': 0.00391127335107477, 'slim_bpr': 1.0660702196705182e-05}. Best is trial 102 with value: 0.050744833224032365.\n"
     ]
    },
    {
     "name": "stdout",
     "output_type": "stream",
     "text": [
      "Recommender_Base_Class: URM Detected 627 ( 4.8%) users with no interactions.\n",
      "Recommender_Base_Class: URM Detected 247 ( 1.1%) items with no interactions.\n",
      "EvaluatorHoldout: Ignoring 2568 (19.7%) Users that have less than 1 test interactions\n",
      "EvaluatorHoldout: Processed 10456 (100.0%) in 37.96 sec. Users per second: 275\n"
     ]
    },
    {
     "name": "stderr",
     "output_type": "stream",
     "text": [
      "[I 2023-12-01 18:25:21,120] Trial 127 finished with value: 0.0504987604899146 and parameters: {'item_knn': 0.07162102821996205, 'rp3': 0.440855158980582, 'p3alpha': 0.40692427852161805, 'ease_r': 0.0019456983197285122, 'user_knn': 0.0068618013944151115, 'svd_item': 0.004234711163550505, 'nmf': 0.006030111300769687, 'slim_bpr': 1.372422634954795e-05}. Best is trial 102 with value: 0.050744833224032365.\n"
     ]
    },
    {
     "name": "stdout",
     "output_type": "stream",
     "text": [
      "Recommender_Base_Class: URM Detected 627 ( 4.8%) users with no interactions.\n",
      "Recommender_Base_Class: URM Detected 247 ( 1.1%) items with no interactions.\n",
      "EvaluatorHoldout: Ignoring 2568 (19.7%) Users that have less than 1 test interactions\n",
      "EvaluatorHoldout: Processed 10456 (100.0%) in 38.15 sec. Users per second: 274\n"
     ]
    },
    {
     "name": "stderr",
     "output_type": "stream",
     "text": [
      "[I 2023-12-01 18:25:59,546] Trial 128 finished with value: 0.050564432512357815 and parameters: {'item_knn': 0.059426055851203544, 'rp3': 0.5885152298676335, 'p3alpha': 0.29090579485166085, 'ease_r': 0.0015193013031118612, 'user_knn': 0.004876457773660845, 'svd_item': 0.0024689384511121454, 'nmf': 0.005657543168581006, 'slim_bpr': 1.0155936829268802e-05}. Best is trial 102 with value: 0.050744833224032365.\n"
     ]
    },
    {
     "name": "stdout",
     "output_type": "stream",
     "text": [
      "Recommender_Base_Class: URM Detected 627 ( 4.8%) users with no interactions.\n",
      "Recommender_Base_Class: URM Detected 247 ( 1.1%) items with no interactions.\n",
      "EvaluatorHoldout: Ignoring 2568 (19.7%) Users that have less than 1 test interactions\n",
      "EvaluatorHoldout: Processed 10456 (100.0%) in 37.92 sec. Users per second: 276\n"
     ]
    },
    {
     "name": "stderr",
     "output_type": "stream",
     "text": [
      "[I 2023-12-01 18:26:37,744] Trial 129 finished with value: 0.05058206877497291 and parameters: {'item_knn': 0.06671706629768445, 'rp3': 0.4842338374864176, 'p3alpha': 0.2336345009709651, 'ease_r': 0.0011746318613325565, 'user_knn': 0.0029695335699000003, 'svd_item': 0.0028905066752692755, 'nmf': 0.003870641451416022, 'slim_bpr': 1.4548730435653462e-05}. Best is trial 102 with value: 0.050744833224032365.\n"
     ]
    },
    {
     "name": "stdout",
     "output_type": "stream",
     "text": [
      "Recommender_Base_Class: URM Detected 627 ( 4.8%) users with no interactions.\n",
      "Recommender_Base_Class: URM Detected 247 ( 1.1%) items with no interactions.\n",
      "EvaluatorHoldout: Ignoring 2568 (19.7%) Users that have less than 1 test interactions\n",
      "EvaluatorHoldout: Processed 10456 (100.0%) in 37.90 sec. Users per second: 276\n"
     ]
    },
    {
     "name": "stderr",
     "output_type": "stream",
     "text": [
      "[I 2023-12-01 18:27:15,912] Trial 130 finished with value: 0.05060079046283203 and parameters: {'item_knn': 0.09216478079642013, 'rp3': 0.4504385942052293, 'p3alpha': 0.31840529557282904, 'ease_r': 0.0013308041208686917, 'user_knn': 0.0041790302089553845, 'svd_item': 0.004739525581309417, 'nmf': 0.007098124636553161, 'slim_bpr': 2.0525942431144775e-05}. Best is trial 102 with value: 0.050744833224032365.\n"
     ]
    },
    {
     "name": "stdout",
     "output_type": "stream",
     "text": [
      "Recommender_Base_Class: URM Detected 627 ( 4.8%) users with no interactions.\n",
      "Recommender_Base_Class: URM Detected 247 ( 1.1%) items with no interactions.\n",
      "EvaluatorHoldout: Ignoring 2568 (19.7%) Users that have less than 1 test interactions\n",
      "EvaluatorHoldout: Processed 10456 (100.0%) in 38.05 sec. Users per second: 275\n"
     ]
    },
    {
     "name": "stderr",
     "output_type": "stream",
     "text": [
      "[I 2023-12-01 18:27:54,234] Trial 131 finished with value: 0.050582125702870386 and parameters: {'item_knn': 0.05246574937728717, 'rp3': 0.39824387406461703, 'p3alpha': 0.26055278777912816, 'ease_r': 0.0015495359716474599, 'user_knn': 0.005928463739884767, 'svd_item': 0.0038757389710228868, 'nmf': 0.0031857595202849365, 'slim_bpr': 2.028152675335337e-05}. Best is trial 102 with value: 0.050744833224032365.\n"
     ]
    },
    {
     "name": "stdout",
     "output_type": "stream",
     "text": [
      "Recommender_Base_Class: URM Detected 627 ( 4.8%) users with no interactions.\n",
      "Recommender_Base_Class: URM Detected 247 ( 1.1%) items with no interactions.\n",
      "EvaluatorHoldout: Ignoring 2568 (19.7%) Users that have less than 1 test interactions\n",
      "EvaluatorHoldout: Processed 10456 (100.0%) in 38.04 sec. Users per second: 275\n"
     ]
    },
    {
     "name": "stderr",
     "output_type": "stream",
     "text": [
      "[I 2023-12-01 18:28:32,564] Trial 132 finished with value: 0.050581947328791885 and parameters: {'item_knn': 0.06060483001941042, 'rp3': 0.4092985350097234, 'p3alpha': 0.24454471085812604, 'ease_r': 0.0018643144808584305, 'user_knn': 0.0037597860033207575, 'svd_item': 0.006646711523556293, 'nmf': 0.004297542205271421, 'slim_bpr': 1.4861848656238883e-05}. Best is trial 102 with value: 0.050744833224032365.\n"
     ]
    },
    {
     "name": "stdout",
     "output_type": "stream",
     "text": [
      "Recommender_Base_Class: URM Detected 627 ( 4.8%) users with no interactions.\n",
      "Recommender_Base_Class: URM Detected 247 ( 1.1%) items with no interactions.\n",
      "EvaluatorHoldout: Ignoring 2568 (19.7%) Users that have less than 1 test interactions\n",
      "EvaluatorHoldout: Processed 10456 (100.0%) in 37.93 sec. Users per second: 276\n"
     ]
    },
    {
     "name": "stderr",
     "output_type": "stream",
     "text": [
      "[I 2023-12-01 18:29:10,779] Trial 133 finished with value: 0.05054753631240878 and parameters: {'item_knn': 0.0709323260947763, 'rp3': 0.33058562826877846, 'p3alpha': 0.18886590964859884, 'ease_r': 0.0022377895783682595, 'user_knn': 0.004009409941484991, 'svd_item': 0.011079571007164215, 'nmf': 0.0019197717128474055, 'slim_bpr': 1.2113493152545905e-05}. Best is trial 102 with value: 0.050744833224032365.\n"
     ]
    },
    {
     "name": "stdout",
     "output_type": "stream",
     "text": [
      "Recommender_Base_Class: URM Detected 627 ( 4.8%) users with no interactions.\n",
      "Recommender_Base_Class: URM Detected 247 ( 1.1%) items with no interactions.\n",
      "EvaluatorHoldout: Ignoring 2568 (19.7%) Users that have less than 1 test interactions\n",
      "EvaluatorHoldout: Processed 10456 (100.0%) in 37.82 sec. Users per second: 276\n"
     ]
    },
    {
     "name": "stderr",
     "output_type": "stream",
     "text": [
      "[I 2023-12-01 18:29:48,865] Trial 134 finished with value: 0.050633262135510275 and parameters: {'item_knn': 0.056624373560502796, 'rp3': 0.3716340222048073, 'p3alpha': 0.22921977824561382, 'ease_r': 0.0016359264201397685, 'user_knn': 0.0031463833780732385, 'svd_item': 0.002780927084498764, 'nmf': 0.003299967838914775, 'slim_bpr': 3.995342906045686e-05}. Best is trial 102 with value: 0.050744833224032365.\n"
     ]
    },
    {
     "name": "stdout",
     "output_type": "stream",
     "text": [
      "Recommender_Base_Class: URM Detected 627 ( 4.8%) users with no interactions.\n",
      "Recommender_Base_Class: URM Detected 247 ( 1.1%) items with no interactions.\n",
      "EvaluatorHoldout: Ignoring 2568 (19.7%) Users that have less than 1 test interactions\n",
      "EvaluatorHoldout: Processed 10456 (100.0%) in 37.96 sec. Users per second: 275\n"
     ]
    },
    {
     "name": "stderr",
     "output_type": "stream",
     "text": [
      "[I 2023-12-01 18:30:27,107] Trial 135 finished with value: 0.050555730134441576 and parameters: {'item_knn': 0.04513817286328822, 'rp3': 0.27914668779019053, 'p3alpha': 0.26443025388275615, 'ease_r': 0.001114227588297431, 'user_knn': 0.004426647351810284, 'svd_item': 0.0017345933971337844, 'nmf': 0.0014375971262595491, 'slim_bpr': 2.1182311074385768e-05}. Best is trial 102 with value: 0.050744833224032365.\n"
     ]
    },
    {
     "name": "stdout",
     "output_type": "stream",
     "text": [
      "Recommender_Base_Class: URM Detected 627 ( 4.8%) users with no interactions.\n",
      "Recommender_Base_Class: URM Detected 247 ( 1.1%) items with no interactions.\n",
      "EvaluatorHoldout: Ignoring 2568 (19.7%) Users that have less than 1 test interactions\n",
      "EvaluatorHoldout: Processed 10456 (100.0%) in 38.08 sec. Users per second: 275\n"
     ]
    },
    {
     "name": "stderr",
     "output_type": "stream",
     "text": [
      "[I 2023-12-01 18:31:05,463] Trial 136 finished with value: 0.0501824425255954 and parameters: {'item_knn': 0.05046549904938888, 'rp3': 0.25219833870473346, 'p3alpha': 0.15581134415937076, 'ease_r': 0.0013656781602604403, 'user_knn': 0.006398633762395415, 'svd_item': 0.0021782216892071325, 'nmf': 0.005207545288983508, 'slim_bpr': 1.022331325029563e-05}. Best is trial 102 with value: 0.050744833224032365.\n"
     ]
    },
    {
     "name": "stdout",
     "output_type": "stream",
     "text": [
      "Recommender_Base_Class: URM Detected 627 ( 4.8%) users with no interactions.\n",
      "Recommender_Base_Class: URM Detected 247 ( 1.1%) items with no interactions.\n",
      "EvaluatorHoldout: Ignoring 2568 (19.7%) Users that have less than 1 test interactions\n",
      "EvaluatorHoldout: Processed 10456 (100.0%) in 38.35 sec. Users per second: 273\n"
     ]
    },
    {
     "name": "stderr",
     "output_type": "stream",
     "text": [
      "[I 2023-12-01 18:31:44,081] Trial 137 finished with value: 0.05064038950826505 and parameters: {'item_knn': 0.06699389269836306, 'rp3': 0.4906680193291605, 'p3alpha': 0.3617712645280281, 'ease_r': 0.003055464743824788, 'user_knn': 0.005066618958277529, 'svd_item': 0.003820474069755966, 'nmf': 0.006785061040945839, 'slim_bpr': 2.6215552826143403e-05}. Best is trial 102 with value: 0.050744833224032365.\n"
     ]
    },
    {
     "name": "stdout",
     "output_type": "stream",
     "text": [
      "Recommender_Base_Class: URM Detected 627 ( 4.8%) users with no interactions.\n",
      "Recommender_Base_Class: URM Detected 247 ( 1.1%) items with no interactions.\n",
      "EvaluatorHoldout: Ignoring 2568 (19.7%) Users that have less than 1 test interactions\n",
      "EvaluatorHoldout: Processed 10456 (100.0%) in 38.02 sec. Users per second: 275\n"
     ]
    },
    {
     "name": "stderr",
     "output_type": "stream",
     "text": [
      "[I 2023-12-01 18:32:22,384] Trial 138 finished with value: 0.05058828530136932 and parameters: {'item_knn': 0.054024252901124836, 'rp3': 0.4333277513410695, 'p3alpha': 0.2863939365707616, 'ease_r': 0.0018922802746400413, 'user_knn': 0.003015537066215474, 'svd_item': 0.006655978239614759, 'nmf': 0.001972684253005673, 'slim_bpr': 1.5586877023170507e-05}. Best is trial 102 with value: 0.050744833224032365.\n"
     ]
    },
    {
     "name": "stdout",
     "output_type": "stream",
     "text": [
      "Recommender_Base_Class: URM Detected 627 ( 4.8%) users with no interactions.\n",
      "Recommender_Base_Class: URM Detected 247 ( 1.1%) items with no interactions.\n",
      "EvaluatorHoldout: Ignoring 2568 (19.7%) Users that have less than 1 test interactions\n",
      "EvaluatorHoldout: Processed 10456 (100.0%) in 38.04 sec. Users per second: 275\n"
     ]
    },
    {
     "name": "stderr",
     "output_type": "stream",
     "text": [
      "[I 2023-12-01 18:33:00,700] Trial 139 finished with value: 0.05017687877242254 and parameters: {'item_knn': 0.08537005139511655, 'rp3': 0.3250303138882055, 'p3alpha': 0.19576450721402675, 'ease_r': 0.0023597286026654355, 'user_knn': 0.00886041836158838, 'svd_item': 0.003050953448725292, 'nmf': 0.0036953643565808534, 'slim_bpr': 1.861635260305674e-05}. Best is trial 102 with value: 0.050744833224032365.\n"
     ]
    },
    {
     "name": "stdout",
     "output_type": "stream",
     "text": [
      "Recommender_Base_Class: URM Detected 627 ( 4.8%) users with no interactions.\n",
      "Recommender_Base_Class: URM Detected 247 ( 1.1%) items with no interactions.\n",
      "EvaluatorHoldout: Ignoring 2568 (19.7%) Users that have less than 1 test interactions\n",
      "EvaluatorHoldout: Processed 10456 (100.0%) in 38.05 sec. Users per second: 275\n"
     ]
    },
    {
     "name": "stderr",
     "output_type": "stream",
     "text": [
      "[I 2023-12-01 18:33:39,026] Trial 140 finished with value: 0.050576827613218835 and parameters: {'item_knn': 0.038118442198801464, 'rp3': 0.3679006818635409, 'p3alpha': 0.2216401427729241, 'ease_r': 0.0010062075752867244, 'user_knn': 0.0034287940283132664, 'svd_item': 0.004906866264785852, 'nmf': 0.002799470182584189, 'slim_bpr': 3.089556551757784e-05}. Best is trial 102 with value: 0.050744833224032365.\n"
     ]
    },
    {
     "name": "stdout",
     "output_type": "stream",
     "text": [
      "Recommender_Base_Class: URM Detected 627 ( 4.8%) users with no interactions.\n",
      "Recommender_Base_Class: URM Detected 247 ( 1.1%) items with no interactions.\n",
      "EvaluatorHoldout: Ignoring 2568 (19.7%) Users that have less than 1 test interactions\n",
      "EvaluatorHoldout: Processed 10456 (100.0%) in 38.26 sec. Users per second: 273\n"
     ]
    },
    {
     "name": "stderr",
     "output_type": "stream",
     "text": [
      "[I 2023-12-01 18:34:17,553] Trial 141 finished with value: 0.050641607765269506 and parameters: {'item_knn': 0.04582375598088661, 'rp3': 0.33524923518880917, 'p3alpha': 0.2325834235929003, 'ease_r': 0.0012379513646848864, 'user_knn': 0.0038383043359830563, 'svd_item': 0.005399630466528749, 'nmf': 0.0030591492333049064, 'slim_bpr': 1.687091318258533e-05}. Best is trial 102 with value: 0.050744833224032365.\n"
     ]
    },
    {
     "name": "stdout",
     "output_type": "stream",
     "text": [
      "Recommender_Base_Class: URM Detected 627 ( 4.8%) users with no interactions.\n",
      "Recommender_Base_Class: URM Detected 247 ( 1.1%) items with no interactions.\n",
      "EvaluatorHoldout: Ignoring 2568 (19.7%) Users that have less than 1 test interactions\n",
      "EvaluatorHoldout: Processed 10456 (100.0%) in 37.92 sec. Users per second: 276\n"
     ]
    },
    {
     "name": "stderr",
     "output_type": "stream",
     "text": [
      "[I 2023-12-01 18:34:55,746] Trial 142 finished with value: 0.05066357434328047 and parameters: {'item_knn': 0.048104962268977584, 'rp3': 0.3256772908398342, 'p3alpha': 0.22038205179919365, 'ease_r': 0.0014976179254860965, 'user_knn': 0.003473041354911096, 'svd_item': 0.004579458153462818, 'nmf': 0.004425849991770359, 'slim_bpr': 4.1131396349913843e-05}. Best is trial 102 with value: 0.050744833224032365.\n"
     ]
    },
    {
     "name": "stdout",
     "output_type": "stream",
     "text": [
      "Recommender_Base_Class: URM Detected 627 ( 4.8%) users with no interactions.\n",
      "Recommender_Base_Class: URM Detected 247 ( 1.1%) items with no interactions.\n",
      "EvaluatorHoldout: Ignoring 2568 (19.7%) Users that have less than 1 test interactions\n",
      "EvaluatorHoldout: Processed 10456 (100.0%) in 37.81 sec. Users per second: 277\n"
     ]
    },
    {
     "name": "stderr",
     "output_type": "stream",
     "text": [
      "[I 2023-12-01 18:35:33,824] Trial 143 finished with value: 0.05050511743845782 and parameters: {'item_knn': 0.05979439458914095, 'rp3': 0.2719374288483221, 'p3alpha': 0.1787035244510754, 'ease_r': 0.001494126663471036, 'user_knn': 0.004418446364243532, 'svd_item': 0.00393944771722405, 'nmf': 0.004724631420726906, 'slim_bpr': 4.017245326570625e-05}. Best is trial 102 with value: 0.050744833224032365.\n"
     ]
    },
    {
     "name": "stdout",
     "output_type": "stream",
     "text": [
      "Recommender_Base_Class: URM Detected 627 ( 4.8%) users with no interactions.\n",
      "Recommender_Base_Class: URM Detected 247 ( 1.1%) items with no interactions.\n",
      "EvaluatorHoldout: Ignoring 2568 (19.7%) Users that have less than 1 test interactions\n",
      "EvaluatorHoldout: Processed 10456 (100.0%) in 38.07 sec. Users per second: 275\n"
     ]
    },
    {
     "name": "stderr",
     "output_type": "stream",
     "text": [
      "[I 2023-12-01 18:36:12,161] Trial 144 finished with value: 0.05055601097873539 and parameters: {'item_knn': 0.050006555661393226, 'rp3': 0.3953440801267785, 'p3alpha': 0.25512740818711555, 'ease_r': 0.0013266300355530157, 'user_knn': 0.005631097571131855, 'svd_item': 0.00941951298040401, 'nmf': 0.011356109163794526, 'slim_bpr': 2.6994302012486938e-05}. Best is trial 102 with value: 0.050744833224032365.\n"
     ]
    },
    {
     "name": "stdout",
     "output_type": "stream",
     "text": [
      "Recommender_Base_Class: URM Detected 627 ( 4.8%) users with no interactions.\n",
      "Recommender_Base_Class: URM Detected 247 ( 1.1%) items with no interactions.\n",
      "EvaluatorHoldout: Ignoring 2568 (19.7%) Users that have less than 1 test interactions\n",
      "EvaluatorHoldout: Processed 10456 (100.0%) in 37.97 sec. Users per second: 275\n"
     ]
    },
    {
     "name": "stderr",
     "output_type": "stream",
     "text": [
      "[I 2023-12-01 18:36:50,410] Trial 145 finished with value: 0.0504305570736335 and parameters: {'item_knn': 0.03678185919195842, 'rp3': 0.3137357409107158, 'p3alpha': 0.2968109227485515, 'ease_r': 0.0016647871332678356, 'user_knn': 0.0028942481542438567, 'svd_item': 0.003168897720448271, 'nmf': 0.007209772534488533, 'slim_bpr': 4.577441053931899e-05}. Best is trial 102 with value: 0.050744833224032365.\n"
     ]
    },
    {
     "name": "stdout",
     "output_type": "stream",
     "text": [
      "Recommender_Base_Class: URM Detected 627 ( 4.8%) users with no interactions.\n",
      "Recommender_Base_Class: URM Detected 247 ( 1.1%) items with no interactions.\n",
      "EvaluatorHoldout: Ignoring 2568 (19.7%) Users that have less than 1 test interactions\n",
      "EvaluatorHoldout: Processed 10456 (100.0%) in 38.11 sec. Users per second: 274\n"
     ]
    },
    {
     "name": "stderr",
     "output_type": "stream",
     "text": [
      "[I 2023-12-01 18:37:28,801] Trial 146 finished with value: 0.05059783400736024 and parameters: {'item_knn': 0.044235228140553376, 'rp3': 0.45019301483946234, 'p3alpha': 0.1950240383409713, 'ease_r': 0.002067794690097309, 'user_knn': 0.003292515130400571, 'svd_item': 0.002193150220516283, 'nmf': 0.002165475173766348, 'slim_bpr': 2.140844653264295e-05}. Best is trial 102 with value: 0.050744833224032365.\n"
     ]
    },
    {
     "name": "stdout",
     "output_type": "stream",
     "text": [
      "Recommender_Base_Class: URM Detected 627 ( 4.8%) users with no interactions.\n",
      "Recommender_Base_Class: URM Detected 247 ( 1.1%) items with no interactions.\n",
      "EvaluatorHoldout: Ignoring 2568 (19.7%) Users that have less than 1 test interactions\n",
      "EvaluatorHoldout: Processed 10456 (100.0%) in 38.20 sec. Users per second: 274\n"
     ]
    },
    {
     "name": "stderr",
     "output_type": "stream",
     "text": [
      "[I 2023-12-01 18:38:07,292] Trial 147 finished with value: 0.05065629895799246 and parameters: {'item_knn': 0.06111634868646352, 'rp3': 0.37172252473430306, 'p3alpha': 0.21337087069976896, 'ease_r': 0.0011396150200723163, 'user_knn': 0.004896523622720295, 'svd_item': 0.004402749132654609, 'nmf': 0.0056062582395602556, 'slim_bpr': 1.25864776925629e-05}. Best is trial 102 with value: 0.050744833224032365.\n"
     ]
    },
    {
     "name": "stdout",
     "output_type": "stream",
     "text": [
      "Recommender_Base_Class: URM Detected 627 ( 4.8%) users with no interactions.\n",
      "Recommender_Base_Class: URM Detected 247 ( 1.1%) items with no interactions.\n",
      "EvaluatorHoldout: Ignoring 2568 (19.7%) Users that have less than 1 test interactions\n",
      "EvaluatorHoldout: Processed 10456 (100.0%) in 37.97 sec. Users per second: 275\n"
     ]
    },
    {
     "name": "stderr",
     "output_type": "stream",
     "text": [
      "[I 2023-12-01 18:38:45,534] Trial 148 finished with value: 0.05067565444310919 and parameters: {'item_knn': 0.06497389817752398, 'rp3': 0.39938945289661776, 'p3alpha': 0.21444483407886866, 'ease_r': 0.0011503846563485625, 'user_knn': 0.004784508483902921, 'svd_item': 0.004459670216809188, 'nmf': 0.005708929650427957, 'slim_bpr': 1.3222864727436139e-05}. Best is trial 102 with value: 0.050744833224032365.\n"
     ]
    },
    {
     "name": "stdout",
     "output_type": "stream",
     "text": [
      "Recommender_Base_Class: URM Detected 627 ( 4.8%) users with no interactions.\n",
      "Recommender_Base_Class: URM Detected 247 ( 1.1%) items with no interactions.\n",
      "EvaluatorHoldout: Ignoring 2568 (19.7%) Users that have less than 1 test interactions\n",
      "EvaluatorHoldout: Processed 10456 (100.0%) in 38.00 sec. Users per second: 275\n"
     ]
    },
    {
     "name": "stderr",
     "output_type": "stream",
     "text": [
      "[I 2023-12-01 18:39:23,803] Trial 149 finished with value: 0.050255902284403416 and parameters: {'item_knn': 0.07059139808232144, 'rp3': 0.2557691038695899, 'p3alpha': 0.21516693796819267, 'ease_r': 0.00147241224430279, 'user_knn': 0.0061339644384175995, 'svd_item': 0.0026534989916397046, 'nmf': 0.00422030147176708, 'slim_bpr': 3.52297698010042e-05}. Best is trial 102 with value: 0.050744833224032365.\n"
     ]
    },
    {
     "name": "stdout",
     "output_type": "stream",
     "text": [
      "Recommender_Base_Class: URM Detected 627 ( 4.8%) users with no interactions.\n",
      "Recommender_Base_Class: URM Detected 247 ( 1.1%) items with no interactions.\n",
      "EvaluatorHoldout: Ignoring 2568 (19.7%) Users that have less than 1 test interactions\n",
      "EvaluatorHoldout: Processed 10456 (100.0%) in 38.02 sec. Users per second: 275\n"
     ]
    },
    {
     "name": "stderr",
     "output_type": "stream",
     "text": [
      "[I 2023-12-01 18:40:02,085] Trial 150 finished with value: 0.050475765414557144 and parameters: {'item_knn': 0.058880280110790766, 'rp3': 0.572531609101094, 'p3alpha': 0.15566594832108652, 'ease_r': 0.001235601400136819, 'user_knn': 0.007077170309475462, 'svd_item': 0.0018987269751083507, 'nmf': 0.008262473792767653, 'slim_bpr': 5.066285919158288e-05}. Best is trial 102 with value: 0.050744833224032365.\n"
     ]
    },
    {
     "name": "stdout",
     "output_type": "stream",
     "text": [
      "Recommender_Base_Class: URM Detected 627 ( 4.8%) users with no interactions.\n",
      "Recommender_Base_Class: URM Detected 247 ( 1.1%) items with no interactions.\n",
      "EvaluatorHoldout: Ignoring 2568 (19.7%) Users that have less than 1 test interactions\n",
      "EvaluatorHoldout: Processed 10456 (100.0%) in 37.93 sec. Users per second: 276\n"
     ]
    },
    {
     "name": "stderr",
     "output_type": "stream",
     "text": [
      "[I 2023-12-01 18:40:40,302] Trial 151 finished with value: 0.050633163460488156 and parameters: {'item_knn': 0.06415430232538893, 'rp3': 0.4153669318253749, 'p3alpha': 0.17844905794701785, 'ease_r': 0.0011058273907784575, 'user_knn': 0.00493470522104568, 'svd_item': 0.004264266315455308, 'nmf': 0.005785505987305582, 'slim_bpr': 1.3081859455065643e-05}. Best is trial 102 with value: 0.050744833224032365.\n"
     ]
    },
    {
     "name": "stdout",
     "output_type": "stream",
     "text": [
      "Recommender_Base_Class: URM Detected 627 ( 4.8%) users with no interactions.\n",
      "Recommender_Base_Class: URM Detected 247 ( 1.1%) items with no interactions.\n",
      "EvaluatorHoldout: Ignoring 2568 (19.7%) Users that have less than 1 test interactions\n",
      "EvaluatorHoldout: Processed 10456 (100.0%) in 37.91 sec. Users per second: 276\n"
     ]
    },
    {
     "name": "stderr",
     "output_type": "stream",
     "text": [
      "[I 2023-12-01 18:41:18,498] Trial 152 finished with value: 0.05062241926865178 and parameters: {'item_knn': 0.0554819038176173, 'rp3': 0.34946188671594697, 'p3alpha': 0.21719647252750965, 'ease_r': 0.0011266936456617543, 'user_knn': 0.004537713698266287, 'svd_item': 0.0034750442180380143, 'nmf': 0.004979615772262364, 'slim_bpr': 1.0210523807975529e-05}. Best is trial 102 with value: 0.050744833224032365.\n"
     ]
    },
    {
     "name": "stdout",
     "output_type": "stream",
     "text": [
      "Recommender_Base_Class: URM Detected 627 ( 4.8%) users with no interactions.\n",
      "Recommender_Base_Class: URM Detected 247 ( 1.1%) items with no interactions.\n",
      "EvaluatorHoldout: Ignoring 2568 (19.7%) Users that have less than 1 test interactions\n",
      "EvaluatorHoldout: Processed 10456 (100.0%) in 37.98 sec. Users per second: 275\n"
     ]
    },
    {
     "name": "stderr",
     "output_type": "stream",
     "text": [
      "[I 2023-12-01 18:41:56,765] Trial 153 finished with value: 0.05058846367544782 and parameters: {'item_knn': 0.07218040737660336, 'rp3': 0.49058858066515587, 'p3alpha': 0.2019047310990368, 'ease_r': 0.0013517804879945889, 'user_knn': 0.003533271825272541, 'svd_item': 0.004798857366027168, 'nmf': 0.0062218153979992615, 'slim_bpr': 1.2961063751451736e-05}. Best is trial 102 with value: 0.050744833224032365.\n"
     ]
    },
    {
     "name": "stdout",
     "output_type": "stream",
     "text": [
      "Recommender_Base_Class: URM Detected 627 ( 4.8%) users with no interactions.\n",
      "Recommender_Base_Class: URM Detected 247 ( 1.1%) items with no interactions.\n",
      "EvaluatorHoldout: Ignoring 2568 (19.7%) Users that have less than 1 test interactions\n",
      "EvaluatorHoldout: Processed 10456 (100.0%) in 38.08 sec. Users per second: 275\n"
     ]
    },
    {
     "name": "stderr",
     "output_type": "stream",
     "text": [
      "[I 2023-12-01 18:42:35,123] Trial 154 finished with value: 0.05035997786643416 and parameters: {'item_knn': 0.051845043422495025, 'rp3': 0.3116839273542783, 'p3alpha': 0.2740399106013974, 'ease_r': 0.0015571558471801764, 'user_knn': 0.0054752386419982925, 'svd_item': 0.005837347590518205, 'nmf': 0.011711422733462434, 'slim_bpr': 2.377426506090444e-05}. Best is trial 102 with value: 0.050744833224032365.\n"
     ]
    },
    {
     "name": "stdout",
     "output_type": "stream",
     "text": [
      "Recommender_Base_Class: URM Detected 627 ( 4.8%) users with no interactions.\n",
      "Recommender_Base_Class: URM Detected 247 ( 1.1%) items with no interactions.\n",
      "EvaluatorHoldout: Ignoring 2568 (19.7%) Users that have less than 1 test interactions\n",
      "EvaluatorHoldout: Processed 10456 (100.0%) in 38.01 sec. Users per second: 275\n"
     ]
    },
    {
     "name": "stderr",
     "output_type": "stream",
     "text": [
      "[I 2023-12-01 18:43:13,407] Trial 155 finished with value: 0.05064980158730213 and parameters: {'item_knn': 0.06347878141508165, 'rp3': 0.3942342287417137, 'p3alpha': 0.23344023313328283, 'ease_r': 0.0012349760419150882, 'user_knn': 0.003904845475486754, 'svd_item': 0.0036727336920365163, 'nmf': 0.003743973328532613, 'slim_bpr': 2.9221643366618607e-05}. Best is trial 102 with value: 0.050744833224032365.\n"
     ]
    },
    {
     "name": "stdout",
     "output_type": "stream",
     "text": [
      "Recommender_Base_Class: URM Detected 627 ( 4.8%) users with no interactions.\n",
      "Recommender_Base_Class: URM Detected 247 ( 1.1%) items with no interactions.\n",
      "EvaluatorHoldout: Ignoring 2568 (19.7%) Users that have less than 1 test interactions\n",
      "EvaluatorHoldout: Processed 10456 (100.0%) in 38.07 sec. Users per second: 275\n"
     ]
    },
    {
     "name": "stderr",
     "output_type": "stream",
     "text": [
      "[I 2023-12-01 18:43:51,754] Trial 156 finished with value: 0.050603504025941534 and parameters: {'item_knn': 0.08437107686567034, 'rp3': 0.36592753566118824, 'p3alpha': 0.16956678351865084, 'ease_r': 0.0010246870835677146, 'user_knn': 0.0028020569835875545, 'svd_item': 0.0029815943270379936, 'nmf': 0.003685554001096951, 'slim_bpr': 3.141125229610521e-05}. Best is trial 102 with value: 0.050744833224032365.\n"
     ]
    },
    {
     "name": "stdout",
     "output_type": "stream",
     "text": [
      "Recommender_Base_Class: URM Detected 627 ( 4.8%) users with no interactions.\n",
      "Recommender_Base_Class: URM Detected 247 ( 1.1%) items with no interactions.\n",
      "EvaluatorHoldout: Ignoring 2568 (19.7%) Users that have less than 1 test interactions\n",
      "EvaluatorHoldout: Processed 10456 (100.0%) in 38.05 sec. Users per second: 275\n"
     ]
    },
    {
     "name": "stderr",
     "output_type": "stream",
     "text": [
      "[I 2023-12-01 18:44:30,083] Trial 157 finished with value: 0.05068346495063278 and parameters: {'item_knn': 0.04863982664105407, 'rp3': 0.28284889620578574, 'p3alpha': 0.1911150422286883, 'ease_r': 0.0019180694198928684, 'user_knn': 0.003916911206599681, 'svd_item': 0.0035663035857021338, 'nmf': 0.0016034893277954826, 'slim_bpr': 6.0168767000845294e-05}. Best is trial 102 with value: 0.050744833224032365.\n"
     ]
    },
    {
     "name": "stdout",
     "output_type": "stream",
     "text": [
      "Recommender_Base_Class: URM Detected 627 ( 4.8%) users with no interactions.\n",
      "Recommender_Base_Class: URM Detected 247 ( 1.1%) items with no interactions.\n",
      "EvaluatorHoldout: Ignoring 2568 (19.7%) Users that have less than 1 test interactions\n",
      "EvaluatorHoldout: Processed 10456 (100.0%) in 37.93 sec. Users per second: 276\n"
     ]
    },
    {
     "name": "stderr",
     "output_type": "stream",
     "text": [
      "[I 2023-12-01 18:45:08,291] Trial 158 finished with value: 0.05069395486452744 and parameters: {'item_knn': 0.048916323846517416, 'rp3': 0.28550160077713865, 'p3alpha': 0.19144926346112637, 'ease_r': 0.0019009963942956184, 'user_knn': 0.003263345947424309, 'svd_item': 0.0023343649091258525, 'nmf': 0.002358597943654281, 'slim_bpr': 3.974002822058588e-05}. Best is trial 102 with value: 0.050744833224032365.\n"
     ]
    },
    {
     "name": "stdout",
     "output_type": "stream",
     "text": [
      "Recommender_Base_Class: URM Detected 627 ( 4.8%) users with no interactions.\n",
      "Recommender_Base_Class: URM Detected 247 ( 1.1%) items with no interactions.\n",
      "EvaluatorHoldout: Ignoring 2568 (19.7%) Users that have less than 1 test interactions\n",
      "EvaluatorHoldout: Processed 10456 (100.0%) in 37.91 sec. Users per second: 276\n"
     ]
    },
    {
     "name": "stderr",
     "output_type": "stream",
     "text": [
      "[I 2023-12-01 18:45:46,473] Trial 159 finished with value: 0.050660557164718074 and parameters: {'item_knn': 0.043302957454658605, 'rp3': 0.2844548921795334, 'p3alpha': 0.18423198952623562, 'ease_r': 0.0026641224234925983, 'user_knn': 0.0033345777840754045, 'svd_item': 0.0024424879972791613, 'nmf': 0.0015250099086418208, 'slim_bpr': 5.59360224926895e-05}. Best is trial 102 with value: 0.050744833224032365.\n"
     ]
    },
    {
     "name": "stdout",
     "output_type": "stream",
     "text": [
      "Recommender_Base_Class: URM Detected 627 ( 4.8%) users with no interactions.\n",
      "Recommender_Base_Class: URM Detected 247 ( 1.1%) items with no interactions.\n",
      "EvaluatorHoldout: Ignoring 2568 (19.7%) Users that have less than 1 test interactions\n",
      "EvaluatorHoldout: Processed 10456 (100.0%) in 37.81 sec. Users per second: 277\n"
     ]
    },
    {
     "name": "stderr",
     "output_type": "stream",
     "text": [
      "[I 2023-12-01 18:46:24,556] Trial 160 finished with value: 0.05067662601255811 and parameters: {'item_knn': 0.04901294259606941, 'rp3': 0.27574062279506023, 'p3alpha': 0.19530163662079014, 'ease_r': 0.0018937227157205948, 'user_knn': 0.0028393557643607154, 'svd_item': 0.0019078493107821766, 'nmf': 0.0011793247485021839, 'slim_bpr': 4.01921066091858e-05}. Best is trial 102 with value: 0.050744833224032365.\n"
     ]
    },
    {
     "name": "stdout",
     "output_type": "stream",
     "text": [
      "Recommender_Base_Class: URM Detected 627 ( 4.8%) users with no interactions.\n",
      "Recommender_Base_Class: URM Detected 247 ( 1.1%) items with no interactions.\n",
      "EvaluatorHoldout: Ignoring 2568 (19.7%) Users that have less than 1 test interactions\n",
      "EvaluatorHoldout: Processed 10456 (100.0%) in 37.94 sec. Users per second: 276\n"
     ]
    },
    {
     "name": "stderr",
     "output_type": "stream",
     "text": [
      "[I 2023-12-01 18:47:02,785] Trial 161 finished with value: 0.05062560723090628 and parameters: {'item_knn': 0.04876637853281466, 'rp3': 0.24064864660830085, 'p3alpha': 0.1966388535500688, 'ease_r': 0.0020092702648197803, 'user_knn': 0.0027828862227752557, 'svd_item': 0.0017493648619506712, 'nmf': 0.000750873634827241, 'slim_bpr': 4.0121113965159166e-05}. Best is trial 102 with value: 0.050744833224032365.\n"
     ]
    },
    {
     "name": "stdout",
     "output_type": "stream",
     "text": [
      "Recommender_Base_Class: URM Detected 627 ( 4.8%) users with no interactions.\n",
      "Recommender_Base_Class: URM Detected 247 ( 1.1%) items with no interactions.\n",
      "EvaluatorHoldout: Ignoring 2568 (19.7%) Users that have less than 1 test interactions\n",
      "EvaluatorHoldout: Processed 10456 (100.0%) in 38.00 sec. Users per second: 275\n"
     ]
    },
    {
     "name": "stderr",
     "output_type": "stream",
     "text": [
      "[I 2023-12-01 18:47:41,074] Trial 162 finished with value: 0.05069020900887841 and parameters: {'item_knn': 0.0390233030788948, 'rp3': 0.2694697705676707, 'p3alpha': 0.1556804556917484, 'ease_r': 0.0017151572599985836, 'user_knn': 0.0037250770585208646, 'svd_item': 0.0026729919299323898, 'nmf': 0.001099324472955351, 'slim_bpr': 6.524937041137433e-05}. Best is trial 102 with value: 0.050744833224032365.\n"
     ]
    },
    {
     "name": "stdout",
     "output_type": "stream",
     "text": [
      "Recommender_Base_Class: URM Detected 627 ( 4.8%) users with no interactions.\n",
      "Recommender_Base_Class: URM Detected 247 ( 1.1%) items with no interactions.\n",
      "EvaluatorHoldout: Ignoring 2568 (19.7%) Users that have less than 1 test interactions\n",
      "EvaluatorHoldout: Processed 10456 (100.0%) in 38.03 sec. Users per second: 275\n"
     ]
    },
    {
     "name": "stderr",
     "output_type": "stream",
     "text": [
      "[I 2023-12-01 18:48:19,372] Trial 163 finished with value: 0.05060969778117889 and parameters: {'item_knn': 0.03736409872812569, 'rp3': 0.2857384146153179, 'p3alpha': 0.17038437361086667, 'ease_r': 0.0023292916938059825, 'user_knn': 0.0041125702517020545, 'svd_item': 0.002136101972578985, 'nmf': 0.001117174481527619, 'slim_bpr': 6.396997086997947e-05}. Best is trial 102 with value: 0.050744833224032365.\n"
     ]
    },
    {
     "name": "stdout",
     "output_type": "stream",
     "text": [
      "Recommender_Base_Class: URM Detected 627 ( 4.8%) users with no interactions.\n",
      "Recommender_Base_Class: URM Detected 247 ( 1.1%) items with no interactions.\n",
      "EvaluatorHoldout: Ignoring 2568 (19.7%) Users that have less than 1 test interactions\n",
      "EvaluatorHoldout: Processed 10456 (100.0%) in 38.26 sec. Users per second: 273\n"
     ]
    },
    {
     "name": "stderr",
     "output_type": "stream",
     "text": [
      "[I 2023-12-01 18:48:57,924] Trial 164 finished with value: 0.050662815304648376 and parameters: {'item_knn': 0.03913649231412608, 'rp3': 0.2502472936096994, 'p3alpha': 0.14873316110535456, 'ease_r': 0.0018754542789164788, 'user_knn': 0.0031862316647530684, 'svd_item': 0.0016541010991641249, 'nmf': 0.0009570936721830063, 'slim_bpr': 6.215657988563501e-05}. Best is trial 102 with value: 0.050744833224032365.\n"
     ]
    },
    {
     "name": "stdout",
     "output_type": "stream",
     "text": [
      "Recommender_Base_Class: URM Detected 627 ( 4.8%) users with no interactions.\n",
      "Recommender_Base_Class: URM Detected 247 ( 1.1%) items with no interactions.\n",
      "EvaluatorHoldout: Ignoring 2568 (19.7%) Users that have less than 1 test interactions\n",
      "EvaluatorHoldout: Processed 10456 (100.0%) in 37.97 sec. Users per second: 275\n"
     ]
    },
    {
     "name": "stderr",
     "output_type": "stream",
     "text": [
      "[I 2023-12-01 18:49:36,173] Trial 165 finished with value: 0.05067326347141824 and parameters: {'item_knn': 0.0439139634634719, 'rp3': 0.3157542718772599, 'p3alpha': 0.15641236623824498, 'ease_r': 0.0015187880696934599, 'user_knn': 0.00261404414328004, 'svd_item': 0.0025807265450850567, 'nmf': 0.0014398158674488828, 'slim_bpr': 7.761432467553569e-05}. Best is trial 102 with value: 0.050744833224032365.\n"
     ]
    },
    {
     "name": "stdout",
     "output_type": "stream",
     "text": [
      "Recommender_Base_Class: URM Detected 627 ( 4.8%) users with no interactions.\n",
      "Recommender_Base_Class: URM Detected 247 ( 1.1%) items with no interactions.\n",
      "EvaluatorHoldout: Ignoring 2568 (19.7%) Users that have less than 1 test interactions\n",
      "EvaluatorHoldout: Processed 10456 (100.0%) in 38.07 sec. Users per second: 275\n"
     ]
    },
    {
     "name": "stderr",
     "output_type": "stream",
     "text": [
      "[I 2023-12-01 18:50:14,512] Trial 166 finished with value: 0.050618802449570066 and parameters: {'item_knn': 0.033963367913913384, 'rp3': 0.2744738025676991, 'p3alpha': 0.16061692750844953, 'ease_r': 0.0018093250864692737, 'user_knn': 0.002044044746349458, 'svd_item': 0.0013492930971154304, 'nmf': 0.0013580718742477933, 'slim_bpr': 5.45993949142069e-05}. Best is trial 102 with value: 0.050744833224032365.\n"
     ]
    },
    {
     "name": "stdout",
     "output_type": "stream",
     "text": [
      "Recommender_Base_Class: URM Detected 627 ( 4.8%) users with no interactions.\n",
      "Recommender_Base_Class: URM Detected 247 ( 1.1%) items with no interactions.\n",
      "EvaluatorHoldout: Ignoring 2568 (19.7%) Users that have less than 1 test interactions\n",
      "EvaluatorHoldout: Processed 10456 (100.0%) in 38.11 sec. Users per second: 274\n"
     ]
    },
    {
     "name": "stderr",
     "output_type": "stream",
     "text": [
      "[I 2023-12-01 18:50:52,891] Trial 167 finished with value: 0.05060246414301565 and parameters: {'item_knn': 0.043056015320066, 'rp3': 0.21926882007447443, 'p3alpha': 0.13126599591256305, 'ease_r': 0.001372040415016103, 'user_knn': 0.0026112822102673772, 'svd_item': 0.0027516482117647336, 'nmf': 0.0019232101040256133, 'slim_bpr': 7.749425366035069e-05}. Best is trial 102 with value: 0.050744833224032365.\n"
     ]
    },
    {
     "name": "stdout",
     "output_type": "stream",
     "text": [
      "Recommender_Base_Class: URM Detected 627 ( 4.8%) users with no interactions.\n",
      "Recommender_Base_Class: URM Detected 247 ( 1.1%) items with no interactions.\n",
      "EvaluatorHoldout: Ignoring 2568 (19.7%) Users that have less than 1 test interactions\n",
      "EvaluatorHoldout: Processed 10456 (100.0%) in 38.08 sec. Users per second: 275\n"
     ]
    },
    {
     "name": "stderr",
     "output_type": "stream",
     "text": [
      "[I 2023-12-01 18:51:31,248] Trial 168 finished with value: 0.04820617918169621 and parameters: {'item_knn': 0.043946118694618765, 'rp3': 0.3053752043269323, 'p3alpha': 0.1894116259845606, 'ease_r': 0.0028207950183338983, 'user_knn': 0.02892693711062928, 'svd_item': 0.0021814479051230884, 'nmf': 0.0011339401247853745, 'slim_bpr': 7.867617189059989e-05}. Best is trial 102 with value: 0.050744833224032365.\n"
     ]
    },
    {
     "name": "stdout",
     "output_type": "stream",
     "text": [
      "Recommender_Base_Class: URM Detected 627 ( 4.8%) users with no interactions.\n",
      "Recommender_Base_Class: URM Detected 247 ( 1.1%) items with no interactions.\n",
      "EvaluatorHoldout: Ignoring 2568 (19.7%) Users that have less than 1 test interactions\n",
      "EvaluatorHoldout: Processed 10456 (100.0%) in 38.03 sec. Users per second: 275\n"
     ]
    },
    {
     "name": "stderr",
     "output_type": "stream",
     "text": [
      "[I 2023-12-01 18:52:09,542] Trial 169 finished with value: 0.0490266126534782 and parameters: {'item_knn': 0.054242527987239705, 'rp3': 0.2664799888750075, 'p3alpha': 0.16272291391363802, 'ease_r': 0.002118899255574754, 'user_knn': 0.017972321330552512, 'svd_item': 0.003186216310679643, 'nmf': 0.0017036787572370852, 'slim_bpr': 4.908075475117784e-05}. Best is trial 102 with value: 0.050744833224032365.\n"
     ]
    },
    {
     "name": "stdout",
     "output_type": "stream",
     "text": [
      "Recommender_Base_Class: URM Detected 627 ( 4.8%) users with no interactions.\n",
      "Recommender_Base_Class: URM Detected 247 ( 1.1%) items with no interactions.\n",
      "EvaluatorHoldout: Ignoring 2568 (19.7%) Users that have less than 1 test interactions\n",
      "EvaluatorHoldout: Processed 10456 (100.0%) in 38.00 sec. Users per second: 275\n"
     ]
    },
    {
     "name": "stderr",
     "output_type": "stream",
     "text": [
      "[I 2023-12-01 18:52:47,816] Trial 170 finished with value: 0.05053703880812783 and parameters: {'item_knn': 0.03470928725259356, 'rp3': 0.24393794544451575, 'p3alpha': 0.14524908769625983, 'ease_r': 0.0015209117848474338, 'user_knn': 0.003966843877623931, 'svd_item': 0.002435049222154739, 'nmf': 0.0007552020591300287, 'slim_bpr': 6.801694720282012e-05}. Best is trial 102 with value: 0.050744833224032365.\n"
     ]
    },
    {
     "name": "stdout",
     "output_type": "stream",
     "text": [
      "Recommender_Base_Class: URM Detected 627 ( 4.8%) users with no interactions.\n",
      "Recommender_Base_Class: URM Detected 247 ( 1.1%) items with no interactions.\n",
      "EvaluatorHoldout: Ignoring 2568 (19.7%) Users that have less than 1 test interactions\n",
      "EvaluatorHoldout: Processed 10456 (100.0%) in 38.00 sec. Users per second: 275\n"
     ]
    },
    {
     "name": "stderr",
     "output_type": "stream",
     "text": [
      "[I 2023-12-01 18:53:26,089] Trial 171 finished with value: 0.050656204078163354 and parameters: {'item_knn': 0.04961540186854785, 'rp3': 0.32717671976390644, 'p3alpha': 0.19857077370945073, 'ease_r': 0.0015075132011520217, 'user_knn': 0.0030780408003384077, 'svd_item': 0.003449223465475607, 'nmf': 0.0024915942665696047, 'slim_bpr': 3.661926454334924e-05}. Best is trial 102 with value: 0.050744833224032365.\n"
     ]
    },
    {
     "name": "stdout",
     "output_type": "stream",
     "text": [
      "Recommender_Base_Class: URM Detected 627 ( 4.8%) users with no interactions.\n",
      "Recommender_Base_Class: URM Detected 247 ( 1.1%) items with no interactions.\n",
      "EvaluatorHoldout: Ignoring 2568 (19.7%) Users that have less than 1 test interactions\n",
      "EvaluatorHoldout: Processed 10456 (100.0%) in 38.23 sec. Users per second: 274\n"
     ]
    },
    {
     "name": "stderr",
     "output_type": "stream",
     "text": [
      "[I 2023-12-01 18:54:04,593] Trial 172 finished with value: 0.05070167049222203 and parameters: {'item_knn': 0.03956013979453983, 'rp3': 0.3057989031853935, 'p3alpha': 0.1758441729138502, 'ease_r': 0.001688196162261004, 'user_knn': 0.0035899976176568386, 'svd_item': 0.0019087890887060615, 'nmf': 0.001538615238982077, 'slim_bpr': 5.03305810507298e-05}. Best is trial 102 with value: 0.050744833224032365.\n"
     ]
    },
    {
     "name": "stdout",
     "output_type": "stream",
     "text": [
      "Recommender_Base_Class: URM Detected 627 ( 4.8%) users with no interactions.\n",
      "Recommender_Base_Class: URM Detected 247 ( 1.1%) items with no interactions.\n",
      "EvaluatorHoldout: Ignoring 2568 (19.7%) Users that have less than 1 test interactions\n",
      "EvaluatorHoldout: Processed 10456 (100.0%) in 38.23 sec. Users per second: 273\n"
     ]
    },
    {
     "name": "stderr",
     "output_type": "stream",
     "text": [
      "[I 2023-12-01 18:54:43,103] Trial 173 finished with value: 0.050627440309202625 and parameters: {'item_knn': 0.04089300489443805, 'rp3': 0.20299467979567867, 'p3alpha': 0.17228442180588693, 'ease_r': 0.0016766678407451416, 'user_knn': 0.002545269579359457, 'svd_item': 0.0017754140122358826, 'nmf': 0.0015162077838011341, 'slim_bpr': 4.7670302418484334e-05}. Best is trial 102 with value: 0.050744833224032365.\n"
     ]
    },
    {
     "name": "stdout",
     "output_type": "stream",
     "text": [
      "Recommender_Base_Class: URM Detected 627 ( 4.8%) users with no interactions.\n",
      "Recommender_Base_Class: URM Detected 247 ( 1.1%) items with no interactions.\n",
      "EvaluatorHoldout: Ignoring 2568 (19.7%) Users that have less than 1 test interactions\n",
      "EvaluatorHoldout: Processed 10456 (100.0%) in 38.11 sec. Users per second: 274\n"
     ]
    },
    {
     "name": "stderr",
     "output_type": "stream",
     "text": [
      "[I 2023-12-01 18:55:21,500] Trial 174 finished with value: 0.05055827291385886 and parameters: {'item_knn': 0.037267179817794226, 'rp3': 0.28606047444312893, 'p3alpha': 0.1795861252803435, 'ease_r': 0.0013104852879008578, 'user_knn': 0.004333145913622707, 'svd_item': 0.002016105585751678, 'nmf': 0.0009875970275246594, 'slim_bpr': 9.153011705184388e-05}. Best is trial 102 with value: 0.050744833224032365.\n"
     ]
    },
    {
     "name": "stdout",
     "output_type": "stream",
     "text": [
      "Recommender_Base_Class: URM Detected 627 ( 4.8%) users with no interactions.\n",
      "Recommender_Base_Class: URM Detected 247 ( 1.1%) items with no interactions.\n",
      "EvaluatorHoldout: Ignoring 2568 (19.7%) Users that have less than 1 test interactions\n",
      "EvaluatorHoldout: Processed 10456 (100.0%) in 38.05 sec. Users per second: 275\n"
     ]
    },
    {
     "name": "stderr",
     "output_type": "stream",
     "text": [
      "[I 2023-12-01 18:55:59,839] Trial 175 finished with value: 0.05065533497892977 and parameters: {'item_knn': 0.03151445828403126, 'rp3': 0.30939656968554397, 'p3alpha': 0.14133832408087113, 'ease_r': 0.0018397262958842198, 'user_knn': 0.002917698088147234, 'svd_item': 0.0012700401330350336, 'nmf': 0.002034302799095141, 'slim_bpr': 6.150288254656759e-05}. Best is trial 102 with value: 0.050744833224032365.\n"
     ]
    },
    {
     "name": "stdout",
     "output_type": "stream",
     "text": [
      "Recommender_Base_Class: URM Detected 627 ( 4.8%) users with no interactions.\n",
      "Recommender_Base_Class: URM Detected 247 ( 1.1%) items with no interactions.\n",
      "EvaluatorHoldout: Ignoring 2568 (19.7%) Users that have less than 1 test interactions\n",
      "EvaluatorHoldout: Processed 10456 (100.0%) in 38.09 sec. Users per second: 275\n"
     ]
    },
    {
     "name": "stderr",
     "output_type": "stream",
     "text": [
      "[I 2023-12-01 18:56:38,211] Trial 176 finished with value: 0.050700531934273985 and parameters: {'item_knn': 0.04731283034857476, 'rp3': 0.2726197031821685, 'p3alpha': 0.19927233637480857, 'ease_r': 0.0025887389059592435, 'user_knn': 0.0037109876468921672, 'svd_item': 0.0026133311202972418, 'nmf': 0.0012642003472286534, 'slim_bpr': 2.925962845516348e-05}. Best is trial 102 with value: 0.050744833224032365.\n"
     ]
    },
    {
     "name": "stdout",
     "output_type": "stream",
     "text": [
      "Recommender_Base_Class: URM Detected 627 ( 4.8%) users with no interactions.\n",
      "Recommender_Base_Class: URM Detected 247 ( 1.1%) items with no interactions.\n",
      "EvaluatorHoldout: Ignoring 2568 (19.7%) Users that have less than 1 test interactions\n",
      "EvaluatorHoldout: Processed 10456 (100.0%) in 38.09 sec. Users per second: 275\n"
     ]
    },
    {
     "name": "stderr",
     "output_type": "stream",
     "text": [
      "[I 2023-12-01 18:57:16,585] Trial 177 finished with value: 0.050412992919688315 and parameters: {'item_knn': 0.039477343627225145, 'rp3': 0.2638706097117313, 'p3alpha': 0.15889366742417485, 'ease_r': 0.0022758897102502346, 'user_knn': 0.0052854439356695435, 'svd_item': 0.0015657385817691224, 'nmf': 0.0005187565882493632, 'slim_bpr': 3.1412572020124935e-05}. Best is trial 102 with value: 0.050744833224032365.\n"
     ]
    },
    {
     "name": "stdout",
     "output_type": "stream",
     "text": [
      "Recommender_Base_Class: URM Detected 627 ( 4.8%) users with no interactions.\n",
      "Recommender_Base_Class: URM Detected 247 ( 1.1%) items with no interactions.\n",
      "EvaluatorHoldout: Ignoring 2568 (19.7%) Users that have less than 1 test interactions\n",
      "EvaluatorHoldout: Processed 10456 (100.0%) in 38.14 sec. Users per second: 274\n"
     ]
    },
    {
     "name": "stderr",
     "output_type": "stream",
     "text": [
      "[I 2023-12-01 18:57:55,004] Trial 178 finished with value: 0.05052325846176335 and parameters: {'item_knn': 0.056440235461034, 'rp3': 0.22484409402840644, 'p3alpha': 0.20510382976235375, 'ease_r': 0.00202092491375742, 'user_knn': 0.003935945603755729, 'svd_item': 0.002648502437554359, 'nmf': 0.0012778821044289333, 'slim_bpr': 8.228444950667465e-05}. Best is trial 102 with value: 0.050744833224032365.\n"
     ]
    },
    {
     "name": "stdout",
     "output_type": "stream",
     "text": [
      "Recommender_Base_Class: URM Detected 627 ( 4.8%) users with no interactions.\n",
      "Recommender_Base_Class: URM Detected 247 ( 1.1%) items with no interactions.\n",
      "EvaluatorHoldout: Ignoring 2568 (19.7%) Users that have less than 1 test interactions\n",
      "EvaluatorHoldout: Processed 10456 (100.0%) in 37.94 sec. Users per second: 276\n"
     ]
    },
    {
     "name": "stderr",
     "output_type": "stream",
     "text": [
      "[I 2023-12-01 18:58:33,218] Trial 179 finished with value: 0.05060167094764512 and parameters: {'item_knn': 0.048034227284787234, 'rp3': 0.2910800257059991, 'p3alpha': 0.18381526273782423, 'ease_r': 0.002531410868036731, 'user_knn': 0.002226545763593614, 'svd_item': 0.002346907966170918, 'nmf': 0.0014515035245199215, 'slim_bpr': 4.3974223181707574e-05}. Best is trial 102 with value: 0.050744833224032365.\n"
     ]
    },
    {
     "name": "stdout",
     "output_type": "stream",
     "text": [
      "Recommender_Base_Class: URM Detected 627 ( 4.8%) users with no interactions.\n",
      "Recommender_Base_Class: URM Detected 247 ( 1.1%) items with no interactions.\n",
      "EvaluatorHoldout: Ignoring 2568 (19.7%) Users that have less than 1 test interactions\n",
      "EvaluatorHoldout: Processed 10456 (100.0%) in 37.99 sec. Users per second: 275\n"
     ]
    },
    {
     "name": "stderr",
     "output_type": "stream",
     "text": [
      "[I 2023-12-01 18:59:11,504] Trial 180 finished with value: 0.05053958917793153 and parameters: {'item_knn': 0.043070593557411566, 'rp3': 0.23554203670422896, 'p3alpha': 0.19495580378042807, 'ease_r': 0.0016843279948689793, 'user_knn': 0.004513573784239235, 'svd_item': 0.0019088472967135255, 'nmf': 0.00088388215922737, 'slim_bpr': 1.5923689147124047e-05}. Best is trial 102 with value: 0.050744833224032365.\n"
     ]
    },
    {
     "name": "stdout",
     "output_type": "stream",
     "text": [
      "Recommender_Base_Class: URM Detected 627 ( 4.8%) users with no interactions.\n",
      "Recommender_Base_Class: URM Detected 247 ( 1.1%) items with no interactions.\n",
      "EvaluatorHoldout: Ignoring 2568 (19.7%) Users that have less than 1 test interactions\n",
      "EvaluatorHoldout: Processed 10456 (100.0%) in 38.01 sec. Users per second: 275\n"
     ]
    },
    {
     "name": "stderr",
     "output_type": "stream",
     "text": [
      "[I 2023-12-01 18:59:49,818] Trial 181 finished with value: 0.05061075664007068 and parameters: {'item_knn': 0.046676435977446806, 'rp3': 0.34986649687011684, 'p3alpha': 0.24303896661302202, 'ease_r': 0.001334134637997402, 'user_knn': 0.0035522941182390944, 'svd_item': 0.002971021176344474, 'nmf': 0.00233058018063586, 'slim_bpr': 2.0441426629901924e-05}. Best is trial 102 with value: 0.050744833224032365.\n"
     ]
    },
    {
     "name": "stdout",
     "output_type": "stream",
     "text": [
      "Recommender_Base_Class: URM Detected 627 ( 4.8%) users with no interactions.\n",
      "Recommender_Base_Class: URM Detected 247 ( 1.1%) items with no interactions.\n",
      "EvaluatorHoldout: Ignoring 2568 (19.7%) Users that have less than 1 test interactions\n",
      "EvaluatorHoldout: Processed 10456 (100.0%) in 38.01 sec. Users per second: 275\n"
     ]
    },
    {
     "name": "stderr",
     "output_type": "stream",
     "text": [
      "[I 2023-12-01 19:00:28,098] Trial 182 finished with value: 0.05067140762196295 and parameters: {'item_knn': 0.05139748773678287, 'rp3': 0.31780030214472227, 'p3alpha': 0.2105465170707011, 'ease_r': 0.0010074940077445921, 'user_knn': 0.0032337605120716963, 'svd_item': 0.0034388635555315816, 'nmf': 0.001631221532067279, 'slim_bpr': 3.752821386858629e-05}. Best is trial 102 with value: 0.050744833224032365.\n"
     ]
    },
    {
     "name": "stdout",
     "output_type": "stream",
     "text": [
      "Recommender_Base_Class: URM Detected 627 ( 4.8%) users with no interactions.\n",
      "Recommender_Base_Class: URM Detected 247 ( 1.1%) items with no interactions.\n",
      "EvaluatorHoldout: Ignoring 2568 (19.7%) Users that have less than 1 test interactions\n",
      "EvaluatorHoldout: Processed 10456 (100.0%) in 38.06 sec. Users per second: 275\n"
     ]
    },
    {
     "name": "stderr",
     "output_type": "stream",
     "text": [
      "[I 2023-12-01 19:01:06,431] Trial 183 finished with value: 0.050678443910081826 and parameters: {'item_knn': 0.05439846375077051, 'rp3': 0.31568323601346715, 'p3alpha': 0.21492352682257912, 'ease_r': 0.0014397027351162833, 'user_knn': 0.003106198455128042, 'svd_item': 0.002722427078908663, 'nmf': 0.0011936456260356802, 'slim_bpr': 3.713565970519359e-05}. Best is trial 102 with value: 0.050744833224032365.\n"
     ]
    },
    {
     "name": "stdout",
     "output_type": "stream",
     "text": [
      "Recommender_Base_Class: URM Detected 627 ( 4.8%) users with no interactions.\n",
      "Recommender_Base_Class: URM Detected 247 ( 1.1%) items with no interactions.\n",
      "EvaluatorHoldout: Ignoring 2568 (19.7%) Users that have less than 1 test interactions\n",
      "EvaluatorHoldout: Processed 10456 (100.0%) in 37.99 sec. Users per second: 275\n"
     ]
    },
    {
     "name": "stderr",
     "output_type": "stream",
     "text": [
      "[I 2023-12-01 19:01:44,701] Trial 184 finished with value: 0.0506738175696196 and parameters: {'item_knn': 0.05239566470556089, 'rp3': 0.30593488261497237, 'p3alpha': 0.20964808246422478, 'ease_r': 0.0012494052407577816, 'user_knn': 0.0030733369852109504, 'svd_item': 0.0025377069707228496, 'nmf': 0.0011677197144218535, 'slim_bpr': 3.74870833947054e-05}. Best is trial 102 with value: 0.050744833224032365.\n"
     ]
    },
    {
     "name": "stdout",
     "output_type": "stream",
     "text": [
      "Recommender_Base_Class: URM Detected 627 ( 4.8%) users with no interactions.\n",
      "Recommender_Base_Class: URM Detected 247 ( 1.1%) items with no interactions.\n",
      "EvaluatorHoldout: Ignoring 2568 (19.7%) Users that have less than 1 test interactions\n",
      "EvaluatorHoldout: Processed 10456 (100.0%) in 38.10 sec. Users per second: 274\n"
     ]
    },
    {
     "name": "stderr",
     "output_type": "stream",
     "text": [
      "[I 2023-12-01 19:02:23,077] Trial 185 finished with value: 0.05065905047303349 and parameters: {'item_knn': 0.05629676058235826, 'rp3': 0.2754344055141472, 'p3alpha': 0.17463316918852562, 'ease_r': 0.001388217132472192, 'user_knn': 0.002929102638901321, 'svd_item': 0.0026220122503161536, 'nmf': 0.0012557041491823293, 'slim_bpr': 5.4676424820015676e-05}. Best is trial 102 with value: 0.050744833224032365.\n"
     ]
    },
    {
     "name": "stdout",
     "output_type": "stream",
     "text": [
      "Recommender_Base_Class: URM Detected 627 ( 4.8%) users with no interactions.\n",
      "Recommender_Base_Class: URM Detected 247 ( 1.1%) items with no interactions.\n",
      "EvaluatorHoldout: Ignoring 2568 (19.7%) Users that have less than 1 test interactions\n",
      "EvaluatorHoldout: Processed 10456 (100.0%) in 38.05 sec. Users per second: 275\n"
     ]
    },
    {
     "name": "stderr",
     "output_type": "stream",
     "text": [
      "[I 2023-12-01 19:03:01,402] Trial 186 finished with value: 0.050559513942022266 and parameters: {'item_knn': 0.052166698060513356, 'rp3': 0.19672584025282733, 'p3alpha': 0.1473280138955941, 'ease_r': 0.0018690873545519925, 'user_knn': 0.0025336214766564905, 'svd_item': 0.0014953532962932426, 'nmf': 0.0010074089607277278, 'slim_bpr': 2.8722499259333935e-05}. Best is trial 102 with value: 0.050744833224032365.\n"
     ]
    },
    {
     "name": "stdout",
     "output_type": "stream",
     "text": [
      "Recommender_Base_Class: URM Detected 627 ( 4.8%) users with no interactions.\n",
      "Recommender_Base_Class: URM Detected 247 ( 1.1%) items with no interactions.\n",
      "EvaluatorHoldout: Ignoring 2568 (19.7%) Users that have less than 1 test interactions\n",
      "EvaluatorHoldout: Processed 10456 (100.0%) in 38.02 sec. Users per second: 275\n"
     ]
    },
    {
     "name": "stderr",
     "output_type": "stream",
     "text": [
      "[I 2023-12-01 19:03:39,701] Trial 187 finished with value: 0.05063547473312265 and parameters: {'item_knn': 0.0417632980013952, 'rp3': 0.24781316257971733, 'p3alpha': 0.19190135780708814, 'ease_r': 0.003037014137402155, 'user_knn': 0.0019896043342354833, 'svd_item': 0.0021197807120358694, 'nmf': 0.0007227484002773022, 'slim_bpr': 6.809445847880966e-05}. Best is trial 102 with value: 0.050744833224032365.\n"
     ]
    },
    {
     "name": "stdout",
     "output_type": "stream",
     "text": [
      "Recommender_Base_Class: URM Detected 627 ( 4.8%) users with no interactions.\n",
      "Recommender_Base_Class: URM Detected 247 ( 1.1%) items with no interactions.\n",
      "EvaluatorHoldout: Ignoring 2568 (19.7%) Users that have less than 1 test interactions\n",
      "EvaluatorHoldout: Processed 10456 (100.0%) in 38.10 sec. Users per second: 274\n"
     ]
    },
    {
     "name": "stderr",
     "output_type": "stream",
     "text": [
      "[I 2023-12-01 19:04:18,080] Trial 188 finished with value: 0.05062420300943701 and parameters: {'item_knn': 0.04695804949020468, 'rp3': 0.2954374590745266, 'p3alpha': 0.2221392924653307, 'ease_r': 0.0016506241976401972, 'user_knn': 0.0027548863892312295, 'svd_item': 0.0024722443269616185, 'nmf': 0.0006463505585255448, 'slim_bpr': 4.475639908167443e-05}. Best is trial 102 with value: 0.050744833224032365.\n"
     ]
    },
    {
     "name": "stdout",
     "output_type": "stream",
     "text": [
      "Recommender_Base_Class: URM Detected 627 ( 4.8%) users with no interactions.\n",
      "Recommender_Base_Class: URM Detected 247 ( 1.1%) items with no interactions.\n",
      "EvaluatorHoldout: Ignoring 2568 (19.7%) Users that have less than 1 test interactions\n",
      "EvaluatorHoldout: Processed 10456 (100.0%) in 38.00 sec. Users per second: 275\n"
     ]
    },
    {
     "name": "stderr",
     "output_type": "stream",
     "text": [
      "[I 2023-12-01 19:04:56,359] Trial 189 finished with value: 0.050673085097339796 and parameters: {'item_knn': 0.056364010377453866, 'rp3': 0.2752444225176714, 'p3alpha': 0.1643621601889906, 'ease_r': 0.0012142603159087618, 'user_knn': 0.0036299851296071038, 'svd_item': 0.0019509386274553793, 'nmf': 0.0011037489071771445, 'slim_bpr': 5.392491809865554e-05}. Best is trial 102 with value: 0.050744833224032365.\n"
     ]
    },
    {
     "name": "stdout",
     "output_type": "stream",
     "text": [
      "Recommender_Base_Class: URM Detected 627 ( 4.8%) users with no interactions.\n",
      "Recommender_Base_Class: URM Detected 247 ( 1.1%) items with no interactions.\n",
      "EvaluatorHoldout: Ignoring 2568 (19.7%) Users that have less than 1 test interactions\n",
      "EvaluatorHoldout: Processed 10456 (100.0%) in 38.19 sec. Users per second: 274\n"
     ]
    },
    {
     "name": "stderr",
     "output_type": "stream",
     "text": [
      "[I 2023-12-01 19:05:34,831] Trial 190 finished with value: 0.05068568513863146 and parameters: {'item_knn': 0.03875204713583539, 'rp3': 0.2674158715568616, 'p3alpha': 0.16001267497250168, 'ease_r': 0.0022208052795022973, 'user_knn': 0.003273041484498775, 'svd_item': 0.001719572141093213, 'nmf': 0.001015985673546564, 'slim_bpr': 5.5722191175497e-05}. Best is trial 102 with value: 0.050744833224032365.\n"
     ]
    },
    {
     "name": "stdout",
     "output_type": "stream",
     "text": [
      "Recommender_Base_Class: URM Detected 627 ( 4.8%) users with no interactions.\n",
      "Recommender_Base_Class: URM Detected 247 ( 1.1%) items with no interactions.\n",
      "EvaluatorHoldout: Ignoring 2568 (19.7%) Users that have less than 1 test interactions\n",
      "EvaluatorHoldout: Processed 10456 (100.0%) in 38.01 sec. Users per second: 275\n"
     ]
    },
    {
     "name": "stderr",
     "output_type": "stream",
     "text": [
      "[I 2023-12-01 19:06:13,125] Trial 191 finished with value: 0.05068659978018307 and parameters: {'item_knn': 0.03934634331618003, 'rp3': 0.26629979158158906, 'p3alpha': 0.1569162515698755, 'ease_r': 0.0022147369184745028, 'user_knn': 0.003273814380804068, 'svd_item': 0.0017224128096780848, 'nmf': 0.0008943467553687932, 'slim_bpr': 5.6661743210753145e-05}. Best is trial 102 with value: 0.050744833224032365.\n"
     ]
    },
    {
     "name": "stdout",
     "output_type": "stream",
     "text": [
      "Recommender_Base_Class: URM Detected 627 ( 4.8%) users with no interactions.\n",
      "Recommender_Base_Class: URM Detected 247 ( 1.1%) items with no interactions.\n",
      "EvaluatorHoldout: Ignoring 2568 (19.7%) Users that have less than 1 test interactions\n",
      "EvaluatorHoldout: Processed 10456 (100.0%) in 38.06 sec. Users per second: 275\n"
     ]
    },
    {
     "name": "stderr",
     "output_type": "stream",
     "text": [
      "[I 2023-12-01 19:06:51,458] Trial 192 finished with value: 0.05067655769908129 and parameters: {'item_knn': 0.03520617366084318, 'rp3': 0.25045711390507064, 'p3alpha': 0.15569051987864843, 'ease_r': 0.0021808907040582726, 'user_knn': 0.0032054553046008878, 'svd_item': 0.0012251189584808492, 'nmf': 0.000524190138317957, 'slim_bpr': 8.162816061884177e-05}. Best is trial 102 with value: 0.050744833224032365.\n"
     ]
    },
    {
     "name": "stdout",
     "output_type": "stream",
     "text": [
      "Recommender_Base_Class: URM Detected 627 ( 4.8%) users with no interactions.\n",
      "Recommender_Base_Class: URM Detected 247 ( 1.1%) items with no interactions.\n",
      "EvaluatorHoldout: Ignoring 2568 (19.7%) Users that have less than 1 test interactions\n",
      "EvaluatorHoldout: Processed 10456 (100.0%) in 38.19 sec. Users per second: 274\n"
     ]
    },
    {
     "name": "stderr",
     "output_type": "stream",
     "text": [
      "[I 2023-12-01 19:07:29,940] Trial 193 finished with value: 0.050698133372196745 and parameters: {'item_knn': 0.03293070293765092, 'rp3': 0.25311323146660314, 'p3alpha': 0.13207887350931316, 'ease_r': 0.0023520573604596117, 'user_knn': 0.003240812734095175, 'svd_item': 0.0016361174340284415, 'nmf': 0.0008489993988995509, 'slim_bpr': 9.258567078403777e-05}. Best is trial 102 with value: 0.050744833224032365.\n"
     ]
    },
    {
     "name": "stdout",
     "output_type": "stream",
     "text": [
      "Recommender_Base_Class: URM Detected 627 ( 4.8%) users with no interactions.\n",
      "Recommender_Base_Class: URM Detected 247 ( 1.1%) items with no interactions.\n",
      "EvaluatorHoldout: Ignoring 2568 (19.7%) Users that have less than 1 test interactions\n",
      "EvaluatorHoldout: Processed 10456 (100.0%) in 38.08 sec. Users per second: 275\n"
     ]
    },
    {
     "name": "stderr",
     "output_type": "stream",
     "text": [
      "[I 2023-12-01 19:08:08,297] Trial 194 finished with value: 0.05067085352376152 and parameters: {'item_knn': 0.028986910056075534, 'rp3': 0.2462029342528278, 'p3alpha': 0.14450303079494792, 'ease_r': 0.002434223451877004, 'user_knn': 0.003323500055338168, 'svd_item': 0.0011669928388092399, 'nmf': 0.0004865164561102851, 'slim_bpr': 0.00014554059182195217}. Best is trial 102 with value: 0.050744833224032365.\n"
     ]
    },
    {
     "name": "stdout",
     "output_type": "stream",
     "text": [
      "Recommender_Base_Class: URM Detected 627 ( 4.8%) users with no interactions.\n",
      "Recommender_Base_Class: URM Detected 247 ( 1.1%) items with no interactions.\n",
      "EvaluatorHoldout: Ignoring 2568 (19.7%) Users that have less than 1 test interactions\n",
      "EvaluatorHoldout: Processed 10456 (100.0%) in 38.10 sec. Users per second: 274\n"
     ]
    },
    {
     "name": "stderr",
     "output_type": "stream",
     "text": [
      "[I 2023-12-01 19:08:46,691] Trial 195 finished with value: 0.050555714953668986 and parameters: {'item_knn': 0.031825652138569256, 'rp3': 0.22172806578164178, 'p3alpha': 0.13063804177265362, 'ease_r': 0.002785876629257082, 'user_knn': 0.003841483066720356, 'svd_item': 0.0009663311488714584, 'nmf': 0.00039739846221360634, 'slim_bpr': 9.764677384472015e-05}. Best is trial 102 with value: 0.050744833224032365.\n"
     ]
    },
    {
     "name": "stdout",
     "output_type": "stream",
     "text": [
      "Recommender_Base_Class: URM Detected 627 ( 4.8%) users with no interactions.\n",
      "Recommender_Base_Class: URM Detected 247 ( 1.1%) items with no interactions.\n",
      "EvaluatorHoldout: Ignoring 2568 (19.7%) Users that have less than 1 test interactions\n",
      "EvaluatorHoldout: Processed 10456 (100.0%) in 37.97 sec. Users per second: 275\n"
     ]
    },
    {
     "name": "stderr",
     "output_type": "stream",
     "text": [
      "[I 2023-12-01 19:09:24,936] Trial 196 finished with value: 0.05036222462078506 and parameters: {'item_knn': 0.03510003184562442, 'rp3': 0.18921131348740186, 'p3alpha': 0.17536798960480154, 'ease_r': 0.0022208585155093124, 'user_knn': 0.004362775929290686, 'svd_item': 0.001337240881608762, 'nmf': 0.0006515796421510728, 'slim_bpr': 6.46675333220209e-05}. Best is trial 102 with value: 0.050744833224032365.\n"
     ]
    },
    {
     "name": "stdout",
     "output_type": "stream",
     "text": [
      "Recommender_Base_Class: URM Detected 627 ( 4.8%) users with no interactions.\n",
      "Recommender_Base_Class: URM Detected 247 ( 1.1%) items with no interactions.\n",
      "EvaluatorHoldout: Ignoring 2568 (19.7%) Users that have less than 1 test interactions\n",
      "EvaluatorHoldout: Processed 10456 (100.0%) in 38.02 sec. Users per second: 275\n"
     ]
    },
    {
     "name": "stderr",
     "output_type": "stream",
     "text": [
      "[I 2023-12-01 19:10:03,240] Trial 197 finished with value: 0.05071672222829518 and parameters: {'item_knn': 0.03799142368862948, 'rp3': 0.2626655484493735, 'p3alpha': 0.15246295042694752, 'ease_r': 0.003484412852365707, 'user_knn': 0.003315662868508929, 'svd_item': 0.0015738416183407188, 'nmf': 0.0008534812841641027, 'slim_bpr': 9.712015521895892e-05}. Best is trial 102 with value: 0.050744833224032365.\n"
     ]
    },
    {
     "name": "stdout",
     "output_type": "stream",
     "text": [
      "Recommender_Base_Class: URM Detected 627 ( 4.8%) users with no interactions.\n",
      "Recommender_Base_Class: URM Detected 247 ( 1.1%) items with no interactions.\n",
      "EvaluatorHoldout: Ignoring 2568 (19.7%) Users that have less than 1 test interactions\n",
      "EvaluatorHoldout: Processed 10456 (100.0%) in 38.06 sec. Users per second: 275\n"
     ]
    },
    {
     "name": "stderr",
     "output_type": "stream",
     "text": [
      "[I 2023-12-01 19:10:41,581] Trial 198 finished with value: 0.050711397572291456 and parameters: {'item_knn': 0.038750804368770236, 'rp3': 0.21553220612956253, 'p3alpha': 0.13631523255237815, 'ease_r': 0.003250752601226972, 'user_knn': 0.003163998437783083, 'svd_item': 0.0015665393542817633, 'nmf': 0.0009022078759328296, 'slim_bpr': 0.00011721877330504543}. Best is trial 102 with value: 0.050744833224032365.\n"
     ]
    },
    {
     "name": "stdout",
     "output_type": "stream",
     "text": [
      "Recommender_Base_Class: URM Detected 627 ( 4.8%) users with no interactions.\n",
      "Recommender_Base_Class: URM Detected 247 ( 1.1%) items with no interactions.\n",
      "EvaluatorHoldout: Ignoring 2568 (19.7%) Users that have less than 1 test interactions\n",
      "EvaluatorHoldout: Processed 10456 (100.0%) in 38.19 sec. Users per second: 274\n"
     ]
    },
    {
     "name": "stderr",
     "output_type": "stream",
     "text": [
      "[I 2023-12-01 19:11:20,060] Trial 199 finished with value: 0.05072470351951089 and parameters: {'item_knn': 0.034884989254947936, 'rp3': 0.21192268076786414, 'p3alpha': 0.12592170825815036, 'ease_r': 0.0034508474586898985, 'user_knn': 0.0022360570158350703, 'svd_item': 0.001185382713830819, 'nmf': 0.0008372247262286593, 'slim_bpr': 0.00012393762627272217}. Best is trial 102 with value: 0.050744833224032365.\n"
     ]
    }
   ],
   "source": [
    "if config['tune_parameters']:\n",
    "    study = optuna.create_study(direction='maximize', study_name='hyperparameters_tuning_linear_8models_no_cv', \n",
    "                                storage=f'sqlite:///{config[\"database_path\"]}', load_if_exists=True)\n",
    "    study.optimize(objective, n_trials=100)"
   ]
  },
  {
   "cell_type": "code",
   "execution_count": 27,
   "id": "67cb6c9c",
   "metadata": {
    "execution": {
     "iopub.execute_input": "2023-12-01T19:11:20.191101Z",
     "iopub.status.busy": "2023-12-01T19:11:20.190673Z",
     "iopub.status.idle": "2023-12-01T19:11:20.969222Z",
     "shell.execute_reply": "2023-12-01T19:11:20.968047Z"
    },
    "papermill": {
     "duration": 0.840204,
     "end_time": "2023-12-01T19:11:20.971731",
     "exception": false,
     "start_time": "2023-12-01T19:11:20.131527",
     "status": "completed"
    },
    "tags": []
   },
   "outputs": [
    {
     "data": {
      "text/html": [
       "        <script type=\"text/javascript\">\n",
       "        window.PlotlyConfig = {MathJaxConfig: 'local'};\n",
       "        if (window.MathJax && window.MathJax.Hub && window.MathJax.Hub.Config) {window.MathJax.Hub.Config({SVG: {font: \"STIX-Web\"}});}\n",
       "        if (typeof require !== 'undefined') {\n",
       "        require.undef(\"plotly\");\n",
       "        requirejs.config({\n",
       "            paths: {\n",
       "                'plotly': ['https://cdn.plot.ly/plotly-2.25.2.min']\n",
       "            }\n",
       "        });\n",
       "        require(['plotly'], function(Plotly) {\n",
       "            window._Plotly = Plotly;\n",
       "        });\n",
       "        }\n",
       "        </script>\n",
       "        "
      ]
     },
     "metadata": {},
     "output_type": "display_data"
    },
    {
     "data": {
      "text/html": [
       "<div>                            <div id=\"e0933f7f-d5f1-4386-9560-2a24fc5035f5\" class=\"plotly-graph-div\" style=\"height:525px; width:100%;\"></div>            <script type=\"text/javascript\">                require([\"plotly\"], function(Plotly) {                    window.PLOTLYENV=window.PLOTLYENV || {};                                    if (document.getElementById(\"e0933f7f-d5f1-4386-9560-2a24fc5035f5\")) {                    Plotly.newPlot(                        \"e0933f7f-d5f1-4386-9560-2a24fc5035f5\",                        [{\"mode\":\"markers\",\"name\":\"Objective Value\",\"x\":[0,1,2,3,4,5,6,7,8,9,10,11,12,13,14,15,16,17,18,19,20,21,22,23,24,25,26,27,28,29,30,31,32,33,34,35,36,37,38,39,40,41,42,43,44,45,46,47,48,49,50,51,52,53,54,55,56,57,58,59,60,61,62,63,64,65,66,67,68,69,70,71,72,73,74,75,76,77,78,79,80,81,82,83,84,85,86,87,88,89,90,91,92,93,94,95,96,97,98,99,100,101,102,103,104,105,106,107,108,109,110,111,112,113,114,115,116,117,118,119,120,121,122,123,124,125,126,127,128,129,130,131,132,133,134,135,136,137,138,139,140,141,142,143,144,145,146,147,148,149,150,151,152,153,154,155,156,157,158,159,160,161,162,163,164,165,166,167,168,169,170,171,172,173,174,175,176,177,178,179,180,181,182,183,184,185,186,187,188,189,190,191,192,193,194,195,196,197,198,199],\"y\":[0.04684789852564394,0.04147959780061021,0.04315415846905017,0.041328199955065516,0.04648447841901425,0.04104028142116375,0.04687405499690388,0.04136341934759159,0.049191650423240675,0.044035694550710505,0.029937087082984416,0.047808317697138114,0.04658895629152005,0.04836866658165498,0.046817548365942346,0.04538095769422343,0.04918099352084691,0.049447040356566704,0.039840161644867506,0.04920281208632457,0.0482270034065661,0.04935527638114736,0.04922023202292959,0.04937167161559919,0.049105385682710494,0.04943117644915724,0.04942787463110788,0.04971249514215348,0.049893901580015526,0.04966775740518158,0.04980365947705336,0.04992999007177534,0.0496368379665058,0.04981470348914944,0.04943773074774476,0.049584103757545524,0.049709060492343485,0.049922023961332114,0.0495203900547728,0.05000874792023472,0.049706851689924336,0.049998869032438824,0.050144369147812715,0.049833914756926105,0.048395012812572774,0.0490816353639142,0.050192659185582564,0.050170187846881126,0.049999214395016416,0.04951403310622966,0.04451305774158736,0.050303471235472574,0.05039772106241185,0.05016644578642538,0.05033656152463602,0.050386153313659754,0.050333718924959026,0.05047621704254334,0.05054254563340329,0.050574307604960636,0.050538579656550967,0.050607959582711685,0.05060094986094486,0.05025881319755721,0.05039192959764951,0.0501994639669187,0.050510271310769295,0.05054683040648105,0.05034227708553515,0.049895487970756325,0.050024782611336346,0.050564664019140663,0.05056894120183205,0.050555100132377045,0.05051630187270089,0.050420317642487486,0.05064356228974694,0.05050536792120639,0.050677643124325156,0.0506199334171319,0.05062323143998801,0.0506156903911788,0.050618608894718954,0.05033419332410405,0.05037800882913796,0.05052405165713379,0.05058308968193311,0.050275383010894265,0.0504978838002945,0.050247230268032336,0.05037203139991078,0.050537126097570495,0.05064034017075401,0.050696577343001106,0.05060416818474452,0.0505839777571326,0.05041761166976425,0.05034261485772644,0.05041448063540705,0.05050075676151674,0.05024663821789943,0.050712141430150896,0.050744833224032365,0.05069504788015757,0.0506086920549915,0.05066839044340066,0.050643755844598154,0.05058250142699333,0.05064555856134921,0.050514366324189056,0.05061827871291408,0.05067565444310924,0.05064037432749246,0.0506621018083343,0.050640742461228995,0.05062162227808815,0.05047209166757826,0.050521042068957786,0.05040028281779507,0.05068765863907485,0.05034626203835341,0.05067072448719412,0.05067243232411629,0.05064583181525673,0.050642643853002205,0.05073154245758554,0.05063755829416759,0.0504987604899146,0.050564432512357815,0.05058206877497291,0.05060079046283203,0.050582125702870386,0.050581947328791885,0.05054753631240878,0.050633262135510275,0.050555730134441576,0.0501824425255954,0.05064038950826505,0.05058828530136932,0.05017687877242254,0.050576827613218835,0.050641607765269506,0.05066357434328047,0.05050511743845782,0.05055601097873539,0.0504305570736335,0.05059783400736024,0.05065629895799246,0.05067565444310919,0.050255902284403416,0.050475765414557144,0.050633163460488156,0.05062241926865178,0.05058846367544782,0.05035997786643416,0.05064980158730213,0.050603504025941534,0.05068346495063278,0.05069395486452744,0.050660557164718074,0.05067662601255811,0.05062560723090628,0.05069020900887841,0.05060969778117889,0.050662815304648376,0.05067326347141824,0.050618802449570066,0.05060246414301565,0.04820617918169621,0.0490266126534782,0.05053703880812783,0.050656204078163354,0.05070167049222203,0.050627440309202625,0.05055827291385886,0.05065533497892977,0.050700531934273985,0.050412992919688315,0.05052325846176335,0.05060167094764512,0.05053958917793153,0.05061075664007068,0.05067140762196295,0.050678443910081826,0.0506738175696196,0.05065905047303349,0.050559513942022266,0.05063547473312265,0.05062420300943701,0.050673085097339796,0.05068568513863146,0.05068659978018307,0.05067655769908129,0.050698133372196745,0.05067085352376152,0.050555714953668986,0.05036222462078506,0.05071672222829518,0.050711397572291456,0.05072470351951089],\"type\":\"scatter\"},{\"mode\":\"lines\",\"name\":\"Best Value\",\"x\":[0,1,2,3,4,5,6,7,8,9,10,11,12,13,14,15,16,17,18,19,20,21,22,23,24,25,26,27,28,29,30,31,32,33,34,35,36,37,38,39,40,41,42,43,44,45,46,47,48,49,50,51,52,53,54,55,56,57,58,59,60,61,62,63,64,65,66,67,68,69,70,71,72,73,74,75,76,77,78,79,80,81,82,83,84,85,86,87,88,89,90,91,92,93,94,95,96,97,98,99,100,101,102,103,104,105,106,107,108,109,110,111,112,113,114,115,116,117,118,119,120,121,122,123,124,125,126,127,128,129,130,131,132,133,134,135,136,137,138,139,140,141,142,143,144,145,146,147,148,149,150,151,152,153,154,155,156,157,158,159,160,161,162,163,164,165,166,167,168,169,170,171,172,173,174,175,176,177,178,179,180,181,182,183,184,185,186,187,188,189,190,191,192,193,194,195,196,197,198,199],\"y\":[0.04684789852564394,0.04684789852564394,0.04684789852564394,0.04684789852564394,0.04684789852564394,0.04684789852564394,0.04687405499690388,0.04687405499690388,0.049191650423240675,0.049191650423240675,0.049191650423240675,0.049191650423240675,0.049191650423240675,0.049191650423240675,0.049191650423240675,0.049191650423240675,0.049191650423240675,0.049447040356566704,0.049447040356566704,0.049447040356566704,0.049447040356566704,0.049447040356566704,0.049447040356566704,0.049447040356566704,0.049447040356566704,0.049447040356566704,0.049447040356566704,0.04971249514215348,0.049893901580015526,0.049893901580015526,0.049893901580015526,0.04992999007177534,0.04992999007177534,0.04992999007177534,0.04992999007177534,0.04992999007177534,0.04992999007177534,0.04992999007177534,0.04992999007177534,0.05000874792023472,0.05000874792023472,0.05000874792023472,0.050144369147812715,0.050144369147812715,0.050144369147812715,0.050144369147812715,0.050192659185582564,0.050192659185582564,0.050192659185582564,0.050192659185582564,0.050192659185582564,0.050303471235472574,0.05039772106241185,0.05039772106241185,0.05039772106241185,0.05039772106241185,0.05039772106241185,0.05047621704254334,0.05054254563340329,0.050574307604960636,0.050574307604960636,0.050607959582711685,0.050607959582711685,0.050607959582711685,0.050607959582711685,0.050607959582711685,0.050607959582711685,0.050607959582711685,0.050607959582711685,0.050607959582711685,0.050607959582711685,0.050607959582711685,0.050607959582711685,0.050607959582711685,0.050607959582711685,0.050607959582711685,0.05064356228974694,0.05064356228974694,0.050677643124325156,0.050677643124325156,0.050677643124325156,0.050677643124325156,0.050677643124325156,0.050677643124325156,0.050677643124325156,0.050677643124325156,0.050677643124325156,0.050677643124325156,0.050677643124325156,0.050677643124325156,0.050677643124325156,0.050677643124325156,0.050677643124325156,0.050696577343001106,0.050696577343001106,0.050696577343001106,0.050696577343001106,0.050696577343001106,0.050696577343001106,0.050696577343001106,0.050696577343001106,0.050712141430150896,0.050744833224032365,0.050744833224032365,0.050744833224032365,0.050744833224032365,0.050744833224032365,0.050744833224032365,0.050744833224032365,0.050744833224032365,0.050744833224032365,0.050744833224032365,0.050744833224032365,0.050744833224032365,0.050744833224032365,0.050744833224032365,0.050744833224032365,0.050744833224032365,0.050744833224032365,0.050744833224032365,0.050744833224032365,0.050744833224032365,0.050744833224032365,0.050744833224032365,0.050744833224032365,0.050744833224032365,0.050744833224032365,0.050744833224032365,0.050744833224032365,0.050744833224032365,0.050744833224032365,0.050744833224032365,0.050744833224032365,0.050744833224032365,0.050744833224032365,0.050744833224032365,0.050744833224032365,0.050744833224032365,0.050744833224032365,0.050744833224032365,0.050744833224032365,0.050744833224032365,0.050744833224032365,0.050744833224032365,0.050744833224032365,0.050744833224032365,0.050744833224032365,0.050744833224032365,0.050744833224032365,0.050744833224032365,0.050744833224032365,0.050744833224032365,0.050744833224032365,0.050744833224032365,0.050744833224032365,0.050744833224032365,0.050744833224032365,0.050744833224032365,0.050744833224032365,0.050744833224032365,0.050744833224032365,0.050744833224032365,0.050744833224032365,0.050744833224032365,0.050744833224032365,0.050744833224032365,0.050744833224032365,0.050744833224032365,0.050744833224032365,0.050744833224032365,0.050744833224032365,0.050744833224032365,0.050744833224032365,0.050744833224032365,0.050744833224032365,0.050744833224032365,0.050744833224032365,0.050744833224032365,0.050744833224032365,0.050744833224032365,0.050744833224032365,0.050744833224032365,0.050744833224032365,0.050744833224032365,0.050744833224032365,0.050744833224032365,0.050744833224032365,0.050744833224032365,0.050744833224032365,0.050744833224032365,0.050744833224032365,0.050744833224032365,0.050744833224032365,0.050744833224032365,0.050744833224032365,0.050744833224032365,0.050744833224032365,0.050744833224032365,0.050744833224032365,0.050744833224032365],\"type\":\"scatter\"},{\"marker\":{\"color\":\"#cccccc\"},\"mode\":\"markers\",\"name\":\"Infeasible Trial\",\"showlegend\":false,\"x\":[],\"y\":[],\"type\":\"scatter\"}],                        {\"title\":{\"text\":\"Optimization History Plot\"},\"xaxis\":{\"title\":{\"text\":\"Trial\"}},\"yaxis\":{\"title\":{\"text\":\"Objective Value\"}},\"template\":{\"data\":{\"histogram2dcontour\":[{\"type\":\"histogram2dcontour\",\"colorbar\":{\"outlinewidth\":0,\"ticks\":\"\"},\"colorscale\":[[0.0,\"#0d0887\"],[0.1111111111111111,\"#46039f\"],[0.2222222222222222,\"#7201a8\"],[0.3333333333333333,\"#9c179e\"],[0.4444444444444444,\"#bd3786\"],[0.5555555555555556,\"#d8576b\"],[0.6666666666666666,\"#ed7953\"],[0.7777777777777778,\"#fb9f3a\"],[0.8888888888888888,\"#fdca26\"],[1.0,\"#f0f921\"]]}],\"choropleth\":[{\"type\":\"choropleth\",\"colorbar\":{\"outlinewidth\":0,\"ticks\":\"\"}}],\"histogram2d\":[{\"type\":\"histogram2d\",\"colorbar\":{\"outlinewidth\":0,\"ticks\":\"\"},\"colorscale\":[[0.0,\"#0d0887\"],[0.1111111111111111,\"#46039f\"],[0.2222222222222222,\"#7201a8\"],[0.3333333333333333,\"#9c179e\"],[0.4444444444444444,\"#bd3786\"],[0.5555555555555556,\"#d8576b\"],[0.6666666666666666,\"#ed7953\"],[0.7777777777777778,\"#fb9f3a\"],[0.8888888888888888,\"#fdca26\"],[1.0,\"#f0f921\"]]}],\"heatmap\":[{\"type\":\"heatmap\",\"colorbar\":{\"outlinewidth\":0,\"ticks\":\"\"},\"colorscale\":[[0.0,\"#0d0887\"],[0.1111111111111111,\"#46039f\"],[0.2222222222222222,\"#7201a8\"],[0.3333333333333333,\"#9c179e\"],[0.4444444444444444,\"#bd3786\"],[0.5555555555555556,\"#d8576b\"],[0.6666666666666666,\"#ed7953\"],[0.7777777777777778,\"#fb9f3a\"],[0.8888888888888888,\"#fdca26\"],[1.0,\"#f0f921\"]]}],\"heatmapgl\":[{\"type\":\"heatmapgl\",\"colorbar\":{\"outlinewidth\":0,\"ticks\":\"\"},\"colorscale\":[[0.0,\"#0d0887\"],[0.1111111111111111,\"#46039f\"],[0.2222222222222222,\"#7201a8\"],[0.3333333333333333,\"#9c179e\"],[0.4444444444444444,\"#bd3786\"],[0.5555555555555556,\"#d8576b\"],[0.6666666666666666,\"#ed7953\"],[0.7777777777777778,\"#fb9f3a\"],[0.8888888888888888,\"#fdca26\"],[1.0,\"#f0f921\"]]}],\"contourcarpet\":[{\"type\":\"contourcarpet\",\"colorbar\":{\"outlinewidth\":0,\"ticks\":\"\"}}],\"contour\":[{\"type\":\"contour\",\"colorbar\":{\"outlinewidth\":0,\"ticks\":\"\"},\"colorscale\":[[0.0,\"#0d0887\"],[0.1111111111111111,\"#46039f\"],[0.2222222222222222,\"#7201a8\"],[0.3333333333333333,\"#9c179e\"],[0.4444444444444444,\"#bd3786\"],[0.5555555555555556,\"#d8576b\"],[0.6666666666666666,\"#ed7953\"],[0.7777777777777778,\"#fb9f3a\"],[0.8888888888888888,\"#fdca26\"],[1.0,\"#f0f921\"]]}],\"surface\":[{\"type\":\"surface\",\"colorbar\":{\"outlinewidth\":0,\"ticks\":\"\"},\"colorscale\":[[0.0,\"#0d0887\"],[0.1111111111111111,\"#46039f\"],[0.2222222222222222,\"#7201a8\"],[0.3333333333333333,\"#9c179e\"],[0.4444444444444444,\"#bd3786\"],[0.5555555555555556,\"#d8576b\"],[0.6666666666666666,\"#ed7953\"],[0.7777777777777778,\"#fb9f3a\"],[0.8888888888888888,\"#fdca26\"],[1.0,\"#f0f921\"]]}],\"mesh3d\":[{\"type\":\"mesh3d\",\"colorbar\":{\"outlinewidth\":0,\"ticks\":\"\"}}],\"scatter\":[{\"fillpattern\":{\"fillmode\":\"overlay\",\"size\":10,\"solidity\":0.2},\"type\":\"scatter\"}],\"parcoords\":[{\"type\":\"parcoords\",\"line\":{\"colorbar\":{\"outlinewidth\":0,\"ticks\":\"\"}}}],\"scatterpolargl\":[{\"type\":\"scatterpolargl\",\"marker\":{\"colorbar\":{\"outlinewidth\":0,\"ticks\":\"\"}}}],\"bar\":[{\"error_x\":{\"color\":\"#2a3f5f\"},\"error_y\":{\"color\":\"#2a3f5f\"},\"marker\":{\"line\":{\"color\":\"#E5ECF6\",\"width\":0.5},\"pattern\":{\"fillmode\":\"overlay\",\"size\":10,\"solidity\":0.2}},\"type\":\"bar\"}],\"scattergeo\":[{\"type\":\"scattergeo\",\"marker\":{\"colorbar\":{\"outlinewidth\":0,\"ticks\":\"\"}}}],\"scatterpolar\":[{\"type\":\"scatterpolar\",\"marker\":{\"colorbar\":{\"outlinewidth\":0,\"ticks\":\"\"}}}],\"histogram\":[{\"marker\":{\"pattern\":{\"fillmode\":\"overlay\",\"size\":10,\"solidity\":0.2}},\"type\":\"histogram\"}],\"scattergl\":[{\"type\":\"scattergl\",\"marker\":{\"colorbar\":{\"outlinewidth\":0,\"ticks\":\"\"}}}],\"scatter3d\":[{\"type\":\"scatter3d\",\"line\":{\"colorbar\":{\"outlinewidth\":0,\"ticks\":\"\"}},\"marker\":{\"colorbar\":{\"outlinewidth\":0,\"ticks\":\"\"}}}],\"scattermapbox\":[{\"type\":\"scattermapbox\",\"marker\":{\"colorbar\":{\"outlinewidth\":0,\"ticks\":\"\"}}}],\"scatterternary\":[{\"type\":\"scatterternary\",\"marker\":{\"colorbar\":{\"outlinewidth\":0,\"ticks\":\"\"}}}],\"scattercarpet\":[{\"type\":\"scattercarpet\",\"marker\":{\"colorbar\":{\"outlinewidth\":0,\"ticks\":\"\"}}}],\"carpet\":[{\"aaxis\":{\"endlinecolor\":\"#2a3f5f\",\"gridcolor\":\"white\",\"linecolor\":\"white\",\"minorgridcolor\":\"white\",\"startlinecolor\":\"#2a3f5f\"},\"baxis\":{\"endlinecolor\":\"#2a3f5f\",\"gridcolor\":\"white\",\"linecolor\":\"white\",\"minorgridcolor\":\"white\",\"startlinecolor\":\"#2a3f5f\"},\"type\":\"carpet\"}],\"table\":[{\"cells\":{\"fill\":{\"color\":\"#EBF0F8\"},\"line\":{\"color\":\"white\"}},\"header\":{\"fill\":{\"color\":\"#C8D4E3\"},\"line\":{\"color\":\"white\"}},\"type\":\"table\"}],\"barpolar\":[{\"marker\":{\"line\":{\"color\":\"#E5ECF6\",\"width\":0.5},\"pattern\":{\"fillmode\":\"overlay\",\"size\":10,\"solidity\":0.2}},\"type\":\"barpolar\"}],\"pie\":[{\"automargin\":true,\"type\":\"pie\"}]},\"layout\":{\"autotypenumbers\":\"strict\",\"colorway\":[\"#636efa\",\"#EF553B\",\"#00cc96\",\"#ab63fa\",\"#FFA15A\",\"#19d3f3\",\"#FF6692\",\"#B6E880\",\"#FF97FF\",\"#FECB52\"],\"font\":{\"color\":\"#2a3f5f\"},\"hovermode\":\"closest\",\"hoverlabel\":{\"align\":\"left\"},\"paper_bgcolor\":\"white\",\"plot_bgcolor\":\"#E5ECF6\",\"polar\":{\"bgcolor\":\"#E5ECF6\",\"angularaxis\":{\"gridcolor\":\"white\",\"linecolor\":\"white\",\"ticks\":\"\"},\"radialaxis\":{\"gridcolor\":\"white\",\"linecolor\":\"white\",\"ticks\":\"\"}},\"ternary\":{\"bgcolor\":\"#E5ECF6\",\"aaxis\":{\"gridcolor\":\"white\",\"linecolor\":\"white\",\"ticks\":\"\"},\"baxis\":{\"gridcolor\":\"white\",\"linecolor\":\"white\",\"ticks\":\"\"},\"caxis\":{\"gridcolor\":\"white\",\"linecolor\":\"white\",\"ticks\":\"\"}},\"coloraxis\":{\"colorbar\":{\"outlinewidth\":0,\"ticks\":\"\"}},\"colorscale\":{\"sequential\":[[0.0,\"#0d0887\"],[0.1111111111111111,\"#46039f\"],[0.2222222222222222,\"#7201a8\"],[0.3333333333333333,\"#9c179e\"],[0.4444444444444444,\"#bd3786\"],[0.5555555555555556,\"#d8576b\"],[0.6666666666666666,\"#ed7953\"],[0.7777777777777778,\"#fb9f3a\"],[0.8888888888888888,\"#fdca26\"],[1.0,\"#f0f921\"]],\"sequentialminus\":[[0.0,\"#0d0887\"],[0.1111111111111111,\"#46039f\"],[0.2222222222222222,\"#7201a8\"],[0.3333333333333333,\"#9c179e\"],[0.4444444444444444,\"#bd3786\"],[0.5555555555555556,\"#d8576b\"],[0.6666666666666666,\"#ed7953\"],[0.7777777777777778,\"#fb9f3a\"],[0.8888888888888888,\"#fdca26\"],[1.0,\"#f0f921\"]],\"diverging\":[[0,\"#8e0152\"],[0.1,\"#c51b7d\"],[0.2,\"#de77ae\"],[0.3,\"#f1b6da\"],[0.4,\"#fde0ef\"],[0.5,\"#f7f7f7\"],[0.6,\"#e6f5d0\"],[0.7,\"#b8e186\"],[0.8,\"#7fbc41\"],[0.9,\"#4d9221\"],[1,\"#276419\"]]},\"xaxis\":{\"gridcolor\":\"white\",\"linecolor\":\"white\",\"ticks\":\"\",\"title\":{\"standoff\":15},\"zerolinecolor\":\"white\",\"automargin\":true,\"zerolinewidth\":2},\"yaxis\":{\"gridcolor\":\"white\",\"linecolor\":\"white\",\"ticks\":\"\",\"title\":{\"standoff\":15},\"zerolinecolor\":\"white\",\"automargin\":true,\"zerolinewidth\":2},\"scene\":{\"xaxis\":{\"backgroundcolor\":\"#E5ECF6\",\"gridcolor\":\"white\",\"linecolor\":\"white\",\"showbackground\":true,\"ticks\":\"\",\"zerolinecolor\":\"white\",\"gridwidth\":2},\"yaxis\":{\"backgroundcolor\":\"#E5ECF6\",\"gridcolor\":\"white\",\"linecolor\":\"white\",\"showbackground\":true,\"ticks\":\"\",\"zerolinecolor\":\"white\",\"gridwidth\":2},\"zaxis\":{\"backgroundcolor\":\"#E5ECF6\",\"gridcolor\":\"white\",\"linecolor\":\"white\",\"showbackground\":true,\"ticks\":\"\",\"zerolinecolor\":\"white\",\"gridwidth\":2}},\"shapedefaults\":{\"line\":{\"color\":\"#2a3f5f\"}},\"annotationdefaults\":{\"arrowcolor\":\"#2a3f5f\",\"arrowhead\":0,\"arrowwidth\":1},\"geo\":{\"bgcolor\":\"white\",\"landcolor\":\"#E5ECF6\",\"subunitcolor\":\"white\",\"showland\":true,\"showlakes\":true,\"lakecolor\":\"white\"},\"title\":{\"x\":0.05},\"mapbox\":{\"style\":\"light\"}}}},                        {\"responsive\": true}                    ).then(function(){\n",
       "                            \n",
       "var gd = document.getElementById('e0933f7f-d5f1-4386-9560-2a24fc5035f5');\n",
       "var x = new MutationObserver(function (mutations, observer) {{\n",
       "        var display = window.getComputedStyle(gd).display;\n",
       "        if (!display || display === 'none') {{\n",
       "            console.log([gd, 'removed!']);\n",
       "            Plotly.purge(gd);\n",
       "            observer.disconnect();\n",
       "        }}\n",
       "}});\n",
       "\n",
       "// Listen for the removal of the full notebook cells\n",
       "var notebookContainer = gd.closest('#notebook-container');\n",
       "if (notebookContainer) {{\n",
       "    x.observe(notebookContainer, {childList: true});\n",
       "}}\n",
       "\n",
       "// Listen for the clearing of the current output cell\n",
       "var outputEl = gd.closest('.output');\n",
       "if (outputEl) {{\n",
       "    x.observe(outputEl, {childList: true});\n",
       "}}\n",
       "\n",
       "                        })                };                });            </script>        </div>"
      ]
     },
     "metadata": {},
     "output_type": "display_data"
    }
   ],
   "source": [
    "if config['tune_parameters']:\n",
    "    fig = optuna.visualization.plot_optimization_history(study)\n",
    "    fig.show()"
   ]
  },
  {
   "cell_type": "code",
   "execution_count": 28,
   "id": "680530ab",
   "metadata": {
    "execution": {
     "iopub.execute_input": "2023-12-01T19:11:21.093730Z",
     "iopub.status.busy": "2023-12-01T19:11:21.093242Z",
     "iopub.status.idle": "2023-12-01T19:11:27.227302Z",
     "shell.execute_reply": "2023-12-01T19:11:27.226144Z"
    },
    "papermill": {
     "duration": 6.197242,
     "end_time": "2023-12-01T19:11:27.229963",
     "exception": false,
     "start_time": "2023-12-01T19:11:21.032721",
     "status": "completed"
    },
    "tags": []
   },
   "outputs": [
    {
     "data": {
      "text/html": [
       "<div>                            <div id=\"426f9d24-f90a-4946-ae19-3bf46cced246\" class=\"plotly-graph-div\" style=\"height:525px; width:100%;\"></div>            <script type=\"text/javascript\">                require([\"plotly\"], function(Plotly) {                    window.PLOTLYENV=window.PLOTLYENV || {};                                    if (document.getElementById(\"426f9d24-f90a-4946-ae19-3bf46cced246\")) {                    Plotly.newPlot(                        \"426f9d24-f90a-4946-ae19-3bf46cced246\",                        [{\"cliponaxis\":false,\"hovertemplate\":[\"ease_r (FloatDistribution): 0.05138206638603754\\u003cextra\\u003e\\u003c\\u002fextra\\u003e\",\"rp3 (FloatDistribution): 0.052489164702950016\\u003cextra\\u003e\\u003c\\u002fextra\\u003e\",\"svd_item (FloatDistribution): 0.0745756069269353\\u003cextra\\u003e\\u003c\\u002fextra\\u003e\",\"item_knn (FloatDistribution): 0.14856744991356513\\u003cextra\\u003e\\u003c\\u002fextra\\u003e\",\"user_knn (FloatDistribution): 0.14974278213377826\\u003cextra\\u003e\\u003c\\u002fextra\\u003e\",\"p3alpha (FloatDistribution): 0.15053222545848052\\u003cextra\\u003e\\u003c\\u002fextra\\u003e\",\"nmf (FloatDistribution): 0.1758508189212707\\u003cextra\\u003e\\u003c\\u002fextra\\u003e\",\"slim_bpr (FloatDistribution): 0.1968598855569827\\u003cextra\\u003e\\u003c\\u002fextra\\u003e\"],\"name\":\"Objective Value\",\"orientation\":\"h\",\"text\":[\"0.05\",\"0.05\",\"0.07\",\"0.15\",\"0.15\",\"0.15\",\"0.18\",\"0.20\"],\"textposition\":\"outside\",\"x\":[0.05138206638603754,0.052489164702950016,0.0745756069269353,0.14856744991356513,0.14974278213377826,0.15053222545848052,0.1758508189212707,0.1968598855569827],\"y\":[\"ease_r\",\"rp3\",\"svd_item\",\"item_knn\",\"user_knn\",\"p3alpha\",\"nmf\",\"slim_bpr\"],\"type\":\"bar\"}],                        {\"title\":{\"text\":\"Hyperparameter Importances\"},\"xaxis\":{\"title\":{\"text\":\"Hyperparameter Importance\"}},\"yaxis\":{\"title\":{\"text\":\"Hyperparameter\"}},\"template\":{\"data\":{\"histogram2dcontour\":[{\"type\":\"histogram2dcontour\",\"colorbar\":{\"outlinewidth\":0,\"ticks\":\"\"},\"colorscale\":[[0.0,\"#0d0887\"],[0.1111111111111111,\"#46039f\"],[0.2222222222222222,\"#7201a8\"],[0.3333333333333333,\"#9c179e\"],[0.4444444444444444,\"#bd3786\"],[0.5555555555555556,\"#d8576b\"],[0.6666666666666666,\"#ed7953\"],[0.7777777777777778,\"#fb9f3a\"],[0.8888888888888888,\"#fdca26\"],[1.0,\"#f0f921\"]]}],\"choropleth\":[{\"type\":\"choropleth\",\"colorbar\":{\"outlinewidth\":0,\"ticks\":\"\"}}],\"histogram2d\":[{\"type\":\"histogram2d\",\"colorbar\":{\"outlinewidth\":0,\"ticks\":\"\"},\"colorscale\":[[0.0,\"#0d0887\"],[0.1111111111111111,\"#46039f\"],[0.2222222222222222,\"#7201a8\"],[0.3333333333333333,\"#9c179e\"],[0.4444444444444444,\"#bd3786\"],[0.5555555555555556,\"#d8576b\"],[0.6666666666666666,\"#ed7953\"],[0.7777777777777778,\"#fb9f3a\"],[0.8888888888888888,\"#fdca26\"],[1.0,\"#f0f921\"]]}],\"heatmap\":[{\"type\":\"heatmap\",\"colorbar\":{\"outlinewidth\":0,\"ticks\":\"\"},\"colorscale\":[[0.0,\"#0d0887\"],[0.1111111111111111,\"#46039f\"],[0.2222222222222222,\"#7201a8\"],[0.3333333333333333,\"#9c179e\"],[0.4444444444444444,\"#bd3786\"],[0.5555555555555556,\"#d8576b\"],[0.6666666666666666,\"#ed7953\"],[0.7777777777777778,\"#fb9f3a\"],[0.8888888888888888,\"#fdca26\"],[1.0,\"#f0f921\"]]}],\"heatmapgl\":[{\"type\":\"heatmapgl\",\"colorbar\":{\"outlinewidth\":0,\"ticks\":\"\"},\"colorscale\":[[0.0,\"#0d0887\"],[0.1111111111111111,\"#46039f\"],[0.2222222222222222,\"#7201a8\"],[0.3333333333333333,\"#9c179e\"],[0.4444444444444444,\"#bd3786\"],[0.5555555555555556,\"#d8576b\"],[0.6666666666666666,\"#ed7953\"],[0.7777777777777778,\"#fb9f3a\"],[0.8888888888888888,\"#fdca26\"],[1.0,\"#f0f921\"]]}],\"contourcarpet\":[{\"type\":\"contourcarpet\",\"colorbar\":{\"outlinewidth\":0,\"ticks\":\"\"}}],\"contour\":[{\"type\":\"contour\",\"colorbar\":{\"outlinewidth\":0,\"ticks\":\"\"},\"colorscale\":[[0.0,\"#0d0887\"],[0.1111111111111111,\"#46039f\"],[0.2222222222222222,\"#7201a8\"],[0.3333333333333333,\"#9c179e\"],[0.4444444444444444,\"#bd3786\"],[0.5555555555555556,\"#d8576b\"],[0.6666666666666666,\"#ed7953\"],[0.7777777777777778,\"#fb9f3a\"],[0.8888888888888888,\"#fdca26\"],[1.0,\"#f0f921\"]]}],\"surface\":[{\"type\":\"surface\",\"colorbar\":{\"outlinewidth\":0,\"ticks\":\"\"},\"colorscale\":[[0.0,\"#0d0887\"],[0.1111111111111111,\"#46039f\"],[0.2222222222222222,\"#7201a8\"],[0.3333333333333333,\"#9c179e\"],[0.4444444444444444,\"#bd3786\"],[0.5555555555555556,\"#d8576b\"],[0.6666666666666666,\"#ed7953\"],[0.7777777777777778,\"#fb9f3a\"],[0.8888888888888888,\"#fdca26\"],[1.0,\"#f0f921\"]]}],\"mesh3d\":[{\"type\":\"mesh3d\",\"colorbar\":{\"outlinewidth\":0,\"ticks\":\"\"}}],\"scatter\":[{\"fillpattern\":{\"fillmode\":\"overlay\",\"size\":10,\"solidity\":0.2},\"type\":\"scatter\"}],\"parcoords\":[{\"type\":\"parcoords\",\"line\":{\"colorbar\":{\"outlinewidth\":0,\"ticks\":\"\"}}}],\"scatterpolargl\":[{\"type\":\"scatterpolargl\",\"marker\":{\"colorbar\":{\"outlinewidth\":0,\"ticks\":\"\"}}}],\"bar\":[{\"error_x\":{\"color\":\"#2a3f5f\"},\"error_y\":{\"color\":\"#2a3f5f\"},\"marker\":{\"line\":{\"color\":\"#E5ECF6\",\"width\":0.5},\"pattern\":{\"fillmode\":\"overlay\",\"size\":10,\"solidity\":0.2}},\"type\":\"bar\"}],\"scattergeo\":[{\"type\":\"scattergeo\",\"marker\":{\"colorbar\":{\"outlinewidth\":0,\"ticks\":\"\"}}}],\"scatterpolar\":[{\"type\":\"scatterpolar\",\"marker\":{\"colorbar\":{\"outlinewidth\":0,\"ticks\":\"\"}}}],\"histogram\":[{\"marker\":{\"pattern\":{\"fillmode\":\"overlay\",\"size\":10,\"solidity\":0.2}},\"type\":\"histogram\"}],\"scattergl\":[{\"type\":\"scattergl\",\"marker\":{\"colorbar\":{\"outlinewidth\":0,\"ticks\":\"\"}}}],\"scatter3d\":[{\"type\":\"scatter3d\",\"line\":{\"colorbar\":{\"outlinewidth\":0,\"ticks\":\"\"}},\"marker\":{\"colorbar\":{\"outlinewidth\":0,\"ticks\":\"\"}}}],\"scattermapbox\":[{\"type\":\"scattermapbox\",\"marker\":{\"colorbar\":{\"outlinewidth\":0,\"ticks\":\"\"}}}],\"scatterternary\":[{\"type\":\"scatterternary\",\"marker\":{\"colorbar\":{\"outlinewidth\":0,\"ticks\":\"\"}}}],\"scattercarpet\":[{\"type\":\"scattercarpet\",\"marker\":{\"colorbar\":{\"outlinewidth\":0,\"ticks\":\"\"}}}],\"carpet\":[{\"aaxis\":{\"endlinecolor\":\"#2a3f5f\",\"gridcolor\":\"white\",\"linecolor\":\"white\",\"minorgridcolor\":\"white\",\"startlinecolor\":\"#2a3f5f\"},\"baxis\":{\"endlinecolor\":\"#2a3f5f\",\"gridcolor\":\"white\",\"linecolor\":\"white\",\"minorgridcolor\":\"white\",\"startlinecolor\":\"#2a3f5f\"},\"type\":\"carpet\"}],\"table\":[{\"cells\":{\"fill\":{\"color\":\"#EBF0F8\"},\"line\":{\"color\":\"white\"}},\"header\":{\"fill\":{\"color\":\"#C8D4E3\"},\"line\":{\"color\":\"white\"}},\"type\":\"table\"}],\"barpolar\":[{\"marker\":{\"line\":{\"color\":\"#E5ECF6\",\"width\":0.5},\"pattern\":{\"fillmode\":\"overlay\",\"size\":10,\"solidity\":0.2}},\"type\":\"barpolar\"}],\"pie\":[{\"automargin\":true,\"type\":\"pie\"}]},\"layout\":{\"autotypenumbers\":\"strict\",\"colorway\":[\"#636efa\",\"#EF553B\",\"#00cc96\",\"#ab63fa\",\"#FFA15A\",\"#19d3f3\",\"#FF6692\",\"#B6E880\",\"#FF97FF\",\"#FECB52\"],\"font\":{\"color\":\"#2a3f5f\"},\"hovermode\":\"closest\",\"hoverlabel\":{\"align\":\"left\"},\"paper_bgcolor\":\"white\",\"plot_bgcolor\":\"#E5ECF6\",\"polar\":{\"bgcolor\":\"#E5ECF6\",\"angularaxis\":{\"gridcolor\":\"white\",\"linecolor\":\"white\",\"ticks\":\"\"},\"radialaxis\":{\"gridcolor\":\"white\",\"linecolor\":\"white\",\"ticks\":\"\"}},\"ternary\":{\"bgcolor\":\"#E5ECF6\",\"aaxis\":{\"gridcolor\":\"white\",\"linecolor\":\"white\",\"ticks\":\"\"},\"baxis\":{\"gridcolor\":\"white\",\"linecolor\":\"white\",\"ticks\":\"\"},\"caxis\":{\"gridcolor\":\"white\",\"linecolor\":\"white\",\"ticks\":\"\"}},\"coloraxis\":{\"colorbar\":{\"outlinewidth\":0,\"ticks\":\"\"}},\"colorscale\":{\"sequential\":[[0.0,\"#0d0887\"],[0.1111111111111111,\"#46039f\"],[0.2222222222222222,\"#7201a8\"],[0.3333333333333333,\"#9c179e\"],[0.4444444444444444,\"#bd3786\"],[0.5555555555555556,\"#d8576b\"],[0.6666666666666666,\"#ed7953\"],[0.7777777777777778,\"#fb9f3a\"],[0.8888888888888888,\"#fdca26\"],[1.0,\"#f0f921\"]],\"sequentialminus\":[[0.0,\"#0d0887\"],[0.1111111111111111,\"#46039f\"],[0.2222222222222222,\"#7201a8\"],[0.3333333333333333,\"#9c179e\"],[0.4444444444444444,\"#bd3786\"],[0.5555555555555556,\"#d8576b\"],[0.6666666666666666,\"#ed7953\"],[0.7777777777777778,\"#fb9f3a\"],[0.8888888888888888,\"#fdca26\"],[1.0,\"#f0f921\"]],\"diverging\":[[0,\"#8e0152\"],[0.1,\"#c51b7d\"],[0.2,\"#de77ae\"],[0.3,\"#f1b6da\"],[0.4,\"#fde0ef\"],[0.5,\"#f7f7f7\"],[0.6,\"#e6f5d0\"],[0.7,\"#b8e186\"],[0.8,\"#7fbc41\"],[0.9,\"#4d9221\"],[1,\"#276419\"]]},\"xaxis\":{\"gridcolor\":\"white\",\"linecolor\":\"white\",\"ticks\":\"\",\"title\":{\"standoff\":15},\"zerolinecolor\":\"white\",\"automargin\":true,\"zerolinewidth\":2},\"yaxis\":{\"gridcolor\":\"white\",\"linecolor\":\"white\",\"ticks\":\"\",\"title\":{\"standoff\":15},\"zerolinecolor\":\"white\",\"automargin\":true,\"zerolinewidth\":2},\"scene\":{\"xaxis\":{\"backgroundcolor\":\"#E5ECF6\",\"gridcolor\":\"white\",\"linecolor\":\"white\",\"showbackground\":true,\"ticks\":\"\",\"zerolinecolor\":\"white\",\"gridwidth\":2},\"yaxis\":{\"backgroundcolor\":\"#E5ECF6\",\"gridcolor\":\"white\",\"linecolor\":\"white\",\"showbackground\":true,\"ticks\":\"\",\"zerolinecolor\":\"white\",\"gridwidth\":2},\"zaxis\":{\"backgroundcolor\":\"#E5ECF6\",\"gridcolor\":\"white\",\"linecolor\":\"white\",\"showbackground\":true,\"ticks\":\"\",\"zerolinecolor\":\"white\",\"gridwidth\":2}},\"shapedefaults\":{\"line\":{\"color\":\"#2a3f5f\"}},\"annotationdefaults\":{\"arrowcolor\":\"#2a3f5f\",\"arrowhead\":0,\"arrowwidth\":1},\"geo\":{\"bgcolor\":\"white\",\"landcolor\":\"#E5ECF6\",\"subunitcolor\":\"white\",\"showland\":true,\"showlakes\":true,\"lakecolor\":\"white\"},\"title\":{\"x\":0.05},\"mapbox\":{\"style\":\"light\"}}}},                        {\"responsive\": true}                    ).then(function(){\n",
       "                            \n",
       "var gd = document.getElementById('426f9d24-f90a-4946-ae19-3bf46cced246');\n",
       "var x = new MutationObserver(function (mutations, observer) {{\n",
       "        var display = window.getComputedStyle(gd).display;\n",
       "        if (!display || display === 'none') {{\n",
       "            console.log([gd, 'removed!']);\n",
       "            Plotly.purge(gd);\n",
       "            observer.disconnect();\n",
       "        }}\n",
       "}});\n",
       "\n",
       "// Listen for the removal of the full notebook cells\n",
       "var notebookContainer = gd.closest('#notebook-container');\n",
       "if (notebookContainer) {{\n",
       "    x.observe(notebookContainer, {childList: true});\n",
       "}}\n",
       "\n",
       "// Listen for the clearing of the current output cell\n",
       "var outputEl = gd.closest('.output');\n",
       "if (outputEl) {{\n",
       "    x.observe(outputEl, {childList: true});\n",
       "}}\n",
       "\n",
       "                        })                };                });            </script>        </div>"
      ]
     },
     "metadata": {},
     "output_type": "display_data"
    }
   ],
   "source": [
    "if config['tune_parameters']:\n",
    "    fig = optuna.visualization.plot_param_importances(study)\n",
    "    fig.show()"
   ]
  },
  {
   "cell_type": "code",
   "execution_count": 29,
   "id": "69b03ac0",
   "metadata": {
    "execution": {
     "iopub.execute_input": "2023-12-01T19:11:27.351090Z",
     "iopub.status.busy": "2023-12-01T19:11:27.350665Z",
     "iopub.status.idle": "2023-12-01T19:11:27.824127Z",
     "shell.execute_reply": "2023-12-01T19:11:27.823285Z"
    },
    "papermill": {
     "duration": 0.537124,
     "end_time": "2023-12-01T19:11:27.826713",
     "exception": false,
     "start_time": "2023-12-01T19:11:27.289589",
     "status": "completed"
    },
    "tags": []
   },
   "outputs": [
    {
     "data": {
      "text/html": [
       "<div>                            <div id=\"66cef591-fd97-47a2-a0fd-cf1fb7527868\" class=\"plotly-graph-div\" style=\"height:525px; width:2400px;\"></div>            <script type=\"text/javascript\">                require([\"plotly\"], function(Plotly) {                    window.PLOTLYENV=window.PLOTLYENV || {};                                    if (document.getElementById(\"66cef591-fd97-47a2-a0fd-cf1fb7527868\")) {                    Plotly.newPlot(                        \"66cef591-fd97-47a2-a0fd-cf1fb7527868\",                        [{\"marker\":{\"color\":[0,1,2,3,4,5,6,7,8,9,10,11,12,13,14,15,16,17,18,19,20,21,22,23,24,25,26,27,28,29,30,31,32,33,34,35,36,37,38,39,40,41,42,43,44,45,46,47,48,49,50,51,52,53,54,55,56,57,58,59,60,61,62,63,64,65,66,67,68,69,70,71,72,73,74,75,76,77,78,79,80,81,82,83,84,85,86,87,88,89,90,91,92,93,94,95,96,97,98,99,100,101,102,103,104,105,106,107,108,109,110,111,112,113,114,115,116,117,118,119,120,121,122,123,124,125,126,127,128,129,130,131,132,133,134,135,136,137,138,139,140,141,142,143,144,145,146,147,148,149,150,151,152,153,154,155,156,157,158,159,160,161,162,163,164,165,166,167,168,169,170,171,172,173,174,175,176,177,178,179,180,181,182,183,184,185,186,187,188,189,190,191,192,193,194,195,196,197,198,199],\"colorbar\":{\"title\":{\"text\":\"Trial\"},\"x\":1.0,\"xpad\":40},\"colorscale\":[[0.0,\"rgb(247,251,255)\"],[0.125,\"rgb(222,235,247)\"],[0.25,\"rgb(198,219,239)\"],[0.375,\"rgb(158,202,225)\"],[0.5,\"rgb(107,174,214)\"],[0.625,\"rgb(66,146,198)\"],[0.75,\"rgb(33,113,181)\"],[0.875,\"rgb(8,81,156)\"],[1.0,\"rgb(8,48,107)\"]],\"line\":{\"color\":\"Grey\",\"width\":0.5},\"showscale\":true},\"mode\":\"markers\",\"name\":\"Feasible Trial\",\"showlegend\":false,\"x\":[0.0010479114257885027,0.04635848261986036,0.9427032647360138,0.0030075343603289174,0.0034030846932756103,0.41381576575750095,0.03943540211147526,0.05934526287392468,0.002018216895335111,0.002075292578398484,0.008924639188826177,0.016239288354220845,0.010114637661660026,0.009440768254611607,0.0011339590228806222,0.005781498504927888,0.004490703239008932,0.002371151627333358,0.0019014502248734476,0.002054266976217871,0.0011843479954731836,0.0025247823137954217,0.004049180952668203,0.00510002899577025,0.005462687540677818,0.019212916887381106,0.02016468691484891,0.023059478786717377,0.026167959649833532,0.08095395266824927,0.06482170631577142,0.07498889627801612,0.08136321752519729,0.030083468188119345,0.03438364935848257,0.11108924469232609,0.14403540304338802,0.04507771919835583,0.04364791918451531,0.031289598354526375,0.04738392651287989,0.027112252476781565,0.024369588412421483,0.034983842878329,0.013955270429480688,0.027941137368790153,0.0516073902827382,0.014460571234646852,0.013862632252989096,0.01236063247765279,0.016404730967356607,0.02216934594837385,0.007352053375501413,0.007082304633123437,0.007709742895375609,0.0072056813316148825,0.007635652788099778,0.007489819915900331,0.007136540971524557,0.007391538293215805,0.003473824309235112,0.0037492990526906012,0.0035383201903466167,0.0034676894417578316,0.004101597557304804,0.005574189376542969,0.002782763234415938,0.003695190931357067,0.00317850845176084,0.002951427115325895,0.004557418104720267,0.0025230226002961468,0.002428423906767408,0.0016654500340999882,0.0018477602956642714,0.0016605005523932586,0.0025239592831248657,0.002195276172072749,0.0015310089367187845,0.0014608627293066342,0.0014103166017740418,0.0012189385386848605,0.0014237750273230591,0.0012913982844375465,0.0010293972025779928,0.0013701267853684976,0.0014660122160815785,0.0010109257672301399,0.0014238734727423127,0.00118478631075718,0.0015233882286484431,0.0019252061546223584,0.002180538160026089,0.0012601255207637437,0.0011912625443519969,0.0012511094547886128,0.002170051921528964,0.0017580544519277624,0.0011487681214159475,0.0015487807624536573,0.001975268855694896,0.001231644222265787,0.0013286016102773412,0.0013391692178568602,0.0013587592019066446,0.0010374952168851824,0.0010076806279864675,0.0010178945869872076,0.0016974204637756813,0.0017850056166062217,0.0021144364422047285,0.0016051359235454495,0.0016773855100772883,0.0017040473328314497,0.001651732836944833,0.0011151971046253464,0.002583966437350889,0.0017578693993712227,0.0010246294107287281,0.0012434571453601756,0.00126623311887829,0.0015536703687672585,0.0012474275533462544,0.0011406606493088536,0.0011654239154001939,0.0015568215561164182,0.0013127181585686906,0.0019456983197285122,0.0015193013031118612,0.0011746318613325565,0.0013308041208686917,0.0015495359716474599,0.0018643144808584305,0.0022377895783682595,0.0016359264201397685,0.001114227588297431,0.0013656781602604403,0.003055464743824788,0.0018922802746400413,0.0023597286026654355,0.0010062075752867244,0.0012379513646848864,0.0014976179254860965,0.001494126663471036,0.0013266300355530157,0.0016647871332678356,0.002067794690097309,0.0011396150200723163,0.0011503846563485625,0.00147241224430279,0.001235601400136819,0.0011058273907784575,0.0011266936456617543,0.0013517804879945889,0.0015571558471801764,0.0012349760419150882,0.0010246870835677146,0.0019180694198928684,0.0019009963942956184,0.0026641224234925983,0.0018937227157205948,0.0020092702648197803,0.0017151572599985836,0.0023292916938059825,0.0018754542789164788,0.0015187880696934599,0.0018093250864692737,0.001372040415016103,0.0028207950183338983,0.002118899255574754,0.0015209117848474338,0.0015075132011520217,0.001688196162261004,0.0016766678407451416,0.0013104852879008578,0.0018397262958842198,0.0025887389059592435,0.0022758897102502346,0.00202092491375742,0.002531410868036731,0.0016843279948689793,0.001334134637997402,0.0010074940077445921,0.0014397027351162833,0.0012494052407577816,0.001388217132472192,0.0018690873545519925,0.003037014137402155,0.0016506241976401972,0.0012142603159087618,0.0022208052795022973,0.0022147369184745028,0.0021808907040582726,0.0023520573604596117,0.002434223451877004,0.002785876629257082,0.0022208585155093124,0.003484412852365707,0.003250752601226972,0.0034508474586898985],\"y\":[0.04684789852564394,0.04147959780061021,0.04315415846905017,0.041328199955065516,0.04648447841901425,0.04104028142116375,0.04687405499690388,0.04136341934759159,0.049191650423240675,0.044035694550710505,0.029937087082984416,0.047808317697138114,0.04658895629152005,0.04836866658165498,0.046817548365942346,0.04538095769422343,0.04918099352084691,0.049447040356566704,0.039840161644867506,0.04920281208632457,0.0482270034065661,0.04935527638114736,0.04922023202292959,0.04937167161559919,0.049105385682710494,0.04943117644915724,0.04942787463110788,0.04971249514215348,0.049893901580015526,0.04966775740518158,0.04980365947705336,0.04992999007177534,0.0496368379665058,0.04981470348914944,0.04943773074774476,0.049584103757545524,0.049709060492343485,0.049922023961332114,0.0495203900547728,0.05000874792023472,0.049706851689924336,0.049998869032438824,0.050144369147812715,0.049833914756926105,0.048395012812572774,0.0490816353639142,0.050192659185582564,0.050170187846881126,0.049999214395016416,0.04951403310622966,0.04451305774158736,0.050303471235472574,0.05039772106241185,0.05016644578642538,0.05033656152463602,0.050386153313659754,0.050333718924959026,0.05047621704254334,0.05054254563340329,0.050574307604960636,0.050538579656550967,0.050607959582711685,0.05060094986094486,0.05025881319755721,0.05039192959764951,0.0501994639669187,0.050510271310769295,0.05054683040648105,0.05034227708553515,0.049895487970756325,0.050024782611336346,0.050564664019140663,0.05056894120183205,0.050555100132377045,0.05051630187270089,0.050420317642487486,0.05064356228974694,0.05050536792120639,0.050677643124325156,0.0506199334171319,0.05062323143998801,0.0506156903911788,0.050618608894718954,0.05033419332410405,0.05037800882913796,0.05052405165713379,0.05058308968193311,0.050275383010894265,0.0504978838002945,0.050247230268032336,0.05037203139991078,0.050537126097570495,0.05064034017075401,0.050696577343001106,0.05060416818474452,0.0505839777571326,0.05041761166976425,0.05034261485772644,0.05041448063540705,0.05050075676151674,0.05024663821789943,0.050712141430150896,0.050744833224032365,0.05069504788015757,0.0506086920549915,0.05066839044340066,0.050643755844598154,0.05058250142699333,0.05064555856134921,0.050514366324189056,0.05061827871291408,0.05067565444310924,0.05064037432749246,0.0506621018083343,0.050640742461228995,0.05062162227808815,0.05047209166757826,0.050521042068957786,0.05040028281779507,0.05068765863907485,0.05034626203835341,0.05067072448719412,0.05067243232411629,0.05064583181525673,0.050642643853002205,0.05073154245758554,0.05063755829416759,0.0504987604899146,0.050564432512357815,0.05058206877497291,0.05060079046283203,0.050582125702870386,0.050581947328791885,0.05054753631240878,0.050633262135510275,0.050555730134441576,0.0501824425255954,0.05064038950826505,0.05058828530136932,0.05017687877242254,0.050576827613218835,0.050641607765269506,0.05066357434328047,0.05050511743845782,0.05055601097873539,0.0504305570736335,0.05059783400736024,0.05065629895799246,0.05067565444310919,0.050255902284403416,0.050475765414557144,0.050633163460488156,0.05062241926865178,0.05058846367544782,0.05035997786643416,0.05064980158730213,0.050603504025941534,0.05068346495063278,0.05069395486452744,0.050660557164718074,0.05067662601255811,0.05062560723090628,0.05069020900887841,0.05060969778117889,0.050662815304648376,0.05067326347141824,0.050618802449570066,0.05060246414301565,0.04820617918169621,0.0490266126534782,0.05053703880812783,0.050656204078163354,0.05070167049222203,0.050627440309202625,0.05055827291385886,0.05065533497892977,0.050700531934273985,0.050412992919688315,0.05052325846176335,0.05060167094764512,0.05053958917793153,0.05061075664007068,0.05067140762196295,0.050678443910081826,0.0506738175696196,0.05065905047303349,0.050559513942022266,0.05063547473312265,0.05062420300943701,0.050673085097339796,0.05068568513863146,0.05068659978018307,0.05067655769908129,0.050698133372196745,0.05067085352376152,0.050555714953668986,0.05036222462078506,0.05071672222829518,0.050711397572291456,0.05072470351951089],\"type\":\"scatter\",\"xaxis\":\"x\",\"yaxis\":\"y\"},{\"marker\":{\"color\":[0,1,2,3,4,5,6,7,8,9,10,11,12,13,14,15,16,17,18,19,20,21,22,23,24,25,26,27,28,29,30,31,32,33,34,35,36,37,38,39,40,41,42,43,44,45,46,47,48,49,50,51,52,53,54,55,56,57,58,59,60,61,62,63,64,65,66,67,68,69,70,71,72,73,74,75,76,77,78,79,80,81,82,83,84,85,86,87,88,89,90,91,92,93,94,95,96,97,98,99,100,101,102,103,104,105,106,107,108,109,110,111,112,113,114,115,116,117,118,119,120,121,122,123,124,125,126,127,128,129,130,131,132,133,134,135,136,137,138,139,140,141,142,143,144,145,146,147,148,149,150,151,152,153,154,155,156,157,158,159,160,161,162,163,164,165,166,167,168,169,170,171,172,173,174,175,176,177,178,179,180,181,182,183,184,185,186,187,188,189,190,191,192,193,194,195,196,197,198,199],\"colorbar\":{\"title\":{\"text\":\"Trial\"},\"x\":1.0,\"xpad\":40},\"colorscale\":[[0.0,\"rgb(247,251,255)\"],[0.125,\"rgb(222,235,247)\"],[0.25,\"rgb(198,219,239)\"],[0.375,\"rgb(158,202,225)\"],[0.5,\"rgb(107,174,214)\"],[0.625,\"rgb(66,146,198)\"],[0.75,\"rgb(33,113,181)\"],[0.875,\"rgb(8,81,156)\"],[1.0,\"rgb(8,48,107)\"]],\"line\":{\"color\":\"Grey\",\"width\":0.5},\"showscale\":false},\"mode\":\"markers\",\"name\":\"Feasible Trial\",\"showlegend\":false,\"x\":[0.1716583452879789,0.07204908404723029,0.010794009751460136,0.40081437876594983,0.9928704878303174,0.010785643406821355,0.04885281520985031,0.010933709318840962,0.6119489319700061,0.3243640699251277,0.939946329482825,0.05983749580105648,0.1162116527988628,0.032894761549471116,0.029185745319663153,0.02827613521513352,0.1747574940527821,0.24981409921224598,0.498113983944436,0.25241676647314987,0.2587321328713591,0.5593871550378684,0.26929635318458917,0.4238285144349238,0.6451365694299991,0.40694247928001936,0.41089817484187846,0.19593773444280282,0.1915741117145159,0.16859879390924531,0.15308631355344596,0.16697507687423274,0.12428210758216857,0.1730184153733078,0.0892963886675991,0.1065824861948215,0.14743729395686397,0.14200989817003537,0.2058908846209913,0.08777661463780423,0.08529060927582705,0.12826682513509116,0.1290608783199311,0.12868814874669993,0.0970023159239617,0.07543517768895312,0.1332013799763108,0.10984465952960647,0.06702615669193562,0.06551895336597048,0.05481789772389309,0.10564390197302344,0.11161877036023306,0.10321365915766856,0.10903720647921335,0.11357911366873265,0.11121757310683852,0.078307699750534,0.07735225379581129,0.08047570092322925,0.07809024569266239,0.07683669140000955,0.07815831324960625,0.07407765334593873,0.04854166915422404,0.07954009212456498,0.05691733142184399,0.057697601825275335,0.04694088629351885,0.05664290488492283,0.040196364197694026,0.07060978553378042,0.061990437876821146,0.06467253427899755,0.06941409211264267,0.06212868623921839,0.041503923461978544,0.03675893095165545,0.04439519693348589,0.04300201570071458,0.041223700168127694,0.04138338516309509,0.0408834831193241,0.029636897277311072,0.044672526001527844,0.03493617731323864,0.042556603323072956,0.041190418619630076,0.031126889620984626,0.026743254488732732,0.05329929784529854,0.04982850886050583,0.04063419991015632,0.042320335161458465,0.0374282036785309,0.03603539894728873,0.025349100724867485,0.03965867147737255,0.03405781471046147,0.04431269756745771,0.03240293348185069,0.04986228232741684,0.050774640152222925,0.05104201481573774,0.05080326700987787,0.04568308860720228,0.046855364901809235,0.0511721025093534,0.046513965367616365,0.04767089889322071,0.046348531655197575,0.05217744867146494,0.05533040452801201,0.053068570299107026,0.05509265833495795,0.05280184376335013,0.06055220784785324,0.04715625672358957,0.05791049656636388,0.05218290257883214,0.05060788670559433,0.06654310445863379,0.06697770109665765,0.06359934060335747,0.06597120973217734,0.0635587079792929,0.06284103582508568,0.07162102821996205,0.059426055851203544,0.06671706629768445,0.09216478079642013,0.05246574937728717,0.06060483001941042,0.0709323260947763,0.056624373560502796,0.04513817286328822,0.05046549904938888,0.06699389269836306,0.054024252901124836,0.08537005139511655,0.038118442198801464,0.04582375598088661,0.048104962268977584,0.05979439458914095,0.050006555661393226,0.03678185919195842,0.044235228140553376,0.06111634868646352,0.06497389817752398,0.07059139808232144,0.058880280110790766,0.06415430232538893,0.0554819038176173,0.07218040737660336,0.051845043422495025,0.06347878141508165,0.08437107686567034,0.04863982664105407,0.048916323846517416,0.043302957454658605,0.04901294259606941,0.04876637853281466,0.0390233030788948,0.03736409872812569,0.03913649231412608,0.0439139634634719,0.033963367913913384,0.043056015320066,0.043946118694618765,0.054242527987239705,0.03470928725259356,0.04961540186854785,0.03956013979453983,0.04089300489443805,0.037267179817794226,0.03151445828403126,0.04731283034857476,0.039477343627225145,0.056440235461034,0.048034227284787234,0.043070593557411566,0.046676435977446806,0.05139748773678287,0.05439846375077051,0.05239566470556089,0.05629676058235826,0.052166698060513356,0.0417632980013952,0.04695804949020468,0.056364010377453866,0.03875204713583539,0.03934634331618003,0.03520617366084318,0.03293070293765092,0.028986910056075534,0.031825652138569256,0.03510003184562442,0.03799142368862948,0.038750804368770236,0.034884989254947936],\"y\":[0.04684789852564394,0.04147959780061021,0.04315415846905017,0.041328199955065516,0.04648447841901425,0.04104028142116375,0.04687405499690388,0.04136341934759159,0.049191650423240675,0.044035694550710505,0.029937087082984416,0.047808317697138114,0.04658895629152005,0.04836866658165498,0.046817548365942346,0.04538095769422343,0.04918099352084691,0.049447040356566704,0.039840161644867506,0.04920281208632457,0.0482270034065661,0.04935527638114736,0.04922023202292959,0.04937167161559919,0.049105385682710494,0.04943117644915724,0.04942787463110788,0.04971249514215348,0.049893901580015526,0.04966775740518158,0.04980365947705336,0.04992999007177534,0.0496368379665058,0.04981470348914944,0.04943773074774476,0.049584103757545524,0.049709060492343485,0.049922023961332114,0.0495203900547728,0.05000874792023472,0.049706851689924336,0.049998869032438824,0.050144369147812715,0.049833914756926105,0.048395012812572774,0.0490816353639142,0.050192659185582564,0.050170187846881126,0.049999214395016416,0.04951403310622966,0.04451305774158736,0.050303471235472574,0.05039772106241185,0.05016644578642538,0.05033656152463602,0.050386153313659754,0.050333718924959026,0.05047621704254334,0.05054254563340329,0.050574307604960636,0.050538579656550967,0.050607959582711685,0.05060094986094486,0.05025881319755721,0.05039192959764951,0.0501994639669187,0.050510271310769295,0.05054683040648105,0.05034227708553515,0.049895487970756325,0.050024782611336346,0.050564664019140663,0.05056894120183205,0.050555100132377045,0.05051630187270089,0.050420317642487486,0.05064356228974694,0.05050536792120639,0.050677643124325156,0.0506199334171319,0.05062323143998801,0.0506156903911788,0.050618608894718954,0.05033419332410405,0.05037800882913796,0.05052405165713379,0.05058308968193311,0.050275383010894265,0.0504978838002945,0.050247230268032336,0.05037203139991078,0.050537126097570495,0.05064034017075401,0.050696577343001106,0.05060416818474452,0.0505839777571326,0.05041761166976425,0.05034261485772644,0.05041448063540705,0.05050075676151674,0.05024663821789943,0.050712141430150896,0.050744833224032365,0.05069504788015757,0.0506086920549915,0.05066839044340066,0.050643755844598154,0.05058250142699333,0.05064555856134921,0.050514366324189056,0.05061827871291408,0.05067565444310924,0.05064037432749246,0.0506621018083343,0.050640742461228995,0.05062162227808815,0.05047209166757826,0.050521042068957786,0.05040028281779507,0.05068765863907485,0.05034626203835341,0.05067072448719412,0.05067243232411629,0.05064583181525673,0.050642643853002205,0.05073154245758554,0.05063755829416759,0.0504987604899146,0.050564432512357815,0.05058206877497291,0.05060079046283203,0.050582125702870386,0.050581947328791885,0.05054753631240878,0.050633262135510275,0.050555730134441576,0.0501824425255954,0.05064038950826505,0.05058828530136932,0.05017687877242254,0.050576827613218835,0.050641607765269506,0.05066357434328047,0.05050511743845782,0.05055601097873539,0.0504305570736335,0.05059783400736024,0.05065629895799246,0.05067565444310919,0.050255902284403416,0.050475765414557144,0.050633163460488156,0.05062241926865178,0.05058846367544782,0.05035997786643416,0.05064980158730213,0.050603504025941534,0.05068346495063278,0.05069395486452744,0.050660557164718074,0.05067662601255811,0.05062560723090628,0.05069020900887841,0.05060969778117889,0.050662815304648376,0.05067326347141824,0.050618802449570066,0.05060246414301565,0.04820617918169621,0.0490266126534782,0.05053703880812783,0.050656204078163354,0.05070167049222203,0.050627440309202625,0.05055827291385886,0.05065533497892977,0.050700531934273985,0.050412992919688315,0.05052325846176335,0.05060167094764512,0.05053958917793153,0.05061075664007068,0.05067140762196295,0.050678443910081826,0.0506738175696196,0.05065905047303349,0.050559513942022266,0.05063547473312265,0.05062420300943701,0.050673085097339796,0.05068568513863146,0.05068659978018307,0.05067655769908129,0.050698133372196745,0.05067085352376152,0.050555714953668986,0.05036222462078506,0.05071672222829518,0.050711397572291456,0.05072470351951089],\"type\":\"scatter\",\"xaxis\":\"x2\",\"yaxis\":\"y2\"},{\"marker\":{\"color\":[0,1,2,3,4,5,6,7,8,9,10,11,12,13,14,15,16,17,18,19,20,21,22,23,24,25,26,27,28,29,30,31,32,33,34,35,36,37,38,39,40,41,42,43,44,45,46,47,48,49,50,51,52,53,54,55,56,57,58,59,60,61,62,63,64,65,66,67,68,69,70,71,72,73,74,75,76,77,78,79,80,81,82,83,84,85,86,87,88,89,90,91,92,93,94,95,96,97,98,99,100,101,102,103,104,105,106,107,108,109,110,111,112,113,114,115,116,117,118,119,120,121,122,123,124,125,126,127,128,129,130,131,132,133,134,135,136,137,138,139,140,141,142,143,144,145,146,147,148,149,150,151,152,153,154,155,156,157,158,159,160,161,162,163,164,165,166,167,168,169,170,171,172,173,174,175,176,177,178,179,180,181,182,183,184,185,186,187,188,189,190,191,192,193,194,195,196,197,198,199],\"colorbar\":{\"title\":{\"text\":\"Trial\"},\"x\":1.0,\"xpad\":40},\"colorscale\":[[0.0,\"rgb(247,251,255)\"],[0.125,\"rgb(222,235,247)\"],[0.25,\"rgb(198,219,239)\"],[0.375,\"rgb(158,202,225)\"],[0.5,\"rgb(107,174,214)\"],[0.625,\"rgb(66,146,198)\"],[0.75,\"rgb(33,113,181)\"],[0.875,\"rgb(8,81,156)\"],[1.0,\"rgb(8,48,107)\"]],\"line\":{\"color\":\"Grey\",\"width\":0.5},\"showscale\":false},\"mode\":\"markers\",\"name\":\"Feasible Trial\",\"showlegend\":false,\"x\":[0.1782318609374213,0.00009218400372206901,0.010382121389931321,0.7204458652185846,0.06827469115593389,0.00006464035999110366,0.0032268286597007135,0.11003110828203631,0.00009523745033738655,0.4971475410192683,0.000018935448883807285,0.0006069579616905698,0.00044413678482339164,0.0005447468679428627,0.0005601312914689092,0.000016371612363248684,0.0001512105527028848,0.00009327785879431661,0.000012231170833880749,0.00005052204071741422,0.000033793050028158136,0.00018280788405386218,0.00003942098788224921,0.00023142626040205833,0.000236743281722577,0.00024148668767279895,0.0029433525420900766,0.001955713489961473,0.0016686814160474174,0.0016624082660191726,0.0013517817669908045,0.0015965976292670909,0.0013941087921520037,0.006800596188719273,0.007445421978738766,0.014557444231172726,0.007008584112242952,0.022756393893833323,0.025085966286494128,0.034724685776964255,0.04819605108099732,0.0046648306875111895,0.01696300537704378,0.020839241651030113,0.029633323484254355,0.07232951399269,0.012741614723341633,0.004710229755214543,0.011048571499745623,0.012498199522507995,0.13107649123503912,0.004852876866498358,0.010835796317633959,0.03909384863929377,0.016475722319697447,0.009376756751304019,0.004690169022715766,0.008634535018735432,0.008941279963879506,0.009348830474533817,0.018849505237005147,0.009336265362870062,0.009286993928044945,0.009831203856808095,0.019174576538172804,0.003107170131908962,0.009229103650410396,0.007146550409916372,0.024361517036841564,0.005830028643454058,0.0035590283071290736,0.008258507962977025,0.007705536660180399,0.013743023883067465,0.007109947051440964,0.013835813203386827,0.002561480472309681,0.0024695946785402603,0.0038875319858250345,0.002284475992418153,0.0024311222705966818,0.0022780897248205288,0.0010973471802192436,0.0009587642936386161,0.0022012150218444874,0.0010710592470206213,0.003623870409953274,0.0025111567686585375,0.0033349925423905675,0.0019211207488185947,0.0008569398729674794,0.0038226535500363837,0.002741074952259262,0.0024789426094644954,0.0013090236745642936,0.0016152812723538037,0.0012464419330034402,0.002210918742433977,0.0025935169157770446,0.000756336991430242,0.0012948162773743946,0.0017977262444814504,0.0017799916269743072,0.0018346289150568034,0.0018938688252215972,0.00277604362639404,0.002821154052326197,0.001757333070073509,0.002992448593555578,0.0029841565942150226,0.004122100284603846,0.005509515028997936,0.005301291782065015,0.005508301903271782,0.004799071642798623,0.006006419517910594,0.004231082415129038,0.0032308082217456144,0.004818853779285113,0.005774720739531429,0.0016523070465743852,0.0038756336968014046,0.005898512325708633,0.005724975360963431,0.005992209838824953,0.004015599597897882,0.00391127335107477,0.006030111300769687,0.005657543168581006,0.003870641451416022,0.007098124636553161,0.0031857595202849365,0.004297542205271421,0.0019197717128474055,0.003299967838914775,0.0014375971262595491,0.005207545288983508,0.006785061040945839,0.001972684253005673,0.0036953643565808534,0.002799470182584189,0.0030591492333049064,0.004425849991770359,0.004724631420726906,0.011356109163794526,0.007209772534488533,0.002165475173766348,0.0056062582395602556,0.005708929650427957,0.00422030147176708,0.008262473792767653,0.005785505987305582,0.004979615772262364,0.0062218153979992615,0.011711422733462434,0.003743973328532613,0.003685554001096951,0.0016034893277954826,0.002358597943654281,0.0015250099086418208,0.0011793247485021839,0.000750873634827241,0.001099324472955351,0.001117174481527619,0.0009570936721830063,0.0014398158674488828,0.0013580718742477933,0.0019232101040256133,0.0011339401247853745,0.0017036787572370852,0.0007552020591300287,0.0024915942665696047,0.001538615238982077,0.0015162077838011341,0.0009875970275246594,0.002034302799095141,0.0012642003472286534,0.0005187565882493632,0.0012778821044289333,0.0014515035245199215,0.00088388215922737,0.00233058018063586,0.001631221532067279,0.0011936456260356802,0.0011677197144218535,0.0012557041491823293,0.0010074089607277278,0.0007227484002773022,0.0006463505585255448,0.0011037489071771445,0.001015985673546564,0.0008943467553687932,0.000524190138317957,0.0008489993988995509,0.0004865164561102851,0.00039739846221360634,0.0006515796421510728,0.0008534812841641027,0.0009022078759328296,0.0008372247262286593],\"y\":[0.04684789852564394,0.04147959780061021,0.04315415846905017,0.041328199955065516,0.04648447841901425,0.04104028142116375,0.04687405499690388,0.04136341934759159,0.049191650423240675,0.044035694550710505,0.029937087082984416,0.047808317697138114,0.04658895629152005,0.04836866658165498,0.046817548365942346,0.04538095769422343,0.04918099352084691,0.049447040356566704,0.039840161644867506,0.04920281208632457,0.0482270034065661,0.04935527638114736,0.04922023202292959,0.04937167161559919,0.049105385682710494,0.04943117644915724,0.04942787463110788,0.04971249514215348,0.049893901580015526,0.04966775740518158,0.04980365947705336,0.04992999007177534,0.0496368379665058,0.04981470348914944,0.04943773074774476,0.049584103757545524,0.049709060492343485,0.049922023961332114,0.0495203900547728,0.05000874792023472,0.049706851689924336,0.049998869032438824,0.050144369147812715,0.049833914756926105,0.048395012812572774,0.0490816353639142,0.050192659185582564,0.050170187846881126,0.049999214395016416,0.04951403310622966,0.04451305774158736,0.050303471235472574,0.05039772106241185,0.05016644578642538,0.05033656152463602,0.050386153313659754,0.050333718924959026,0.05047621704254334,0.05054254563340329,0.050574307604960636,0.050538579656550967,0.050607959582711685,0.05060094986094486,0.05025881319755721,0.05039192959764951,0.0501994639669187,0.050510271310769295,0.05054683040648105,0.05034227708553515,0.049895487970756325,0.050024782611336346,0.050564664019140663,0.05056894120183205,0.050555100132377045,0.05051630187270089,0.050420317642487486,0.05064356228974694,0.05050536792120639,0.050677643124325156,0.0506199334171319,0.05062323143998801,0.0506156903911788,0.050618608894718954,0.05033419332410405,0.05037800882913796,0.05052405165713379,0.05058308968193311,0.050275383010894265,0.0504978838002945,0.050247230268032336,0.05037203139991078,0.050537126097570495,0.05064034017075401,0.050696577343001106,0.05060416818474452,0.0505839777571326,0.05041761166976425,0.05034261485772644,0.05041448063540705,0.05050075676151674,0.05024663821789943,0.050712141430150896,0.050744833224032365,0.05069504788015757,0.0506086920549915,0.05066839044340066,0.050643755844598154,0.05058250142699333,0.05064555856134921,0.050514366324189056,0.05061827871291408,0.05067565444310924,0.05064037432749246,0.0506621018083343,0.050640742461228995,0.05062162227808815,0.05047209166757826,0.050521042068957786,0.05040028281779507,0.05068765863907485,0.05034626203835341,0.05067072448719412,0.05067243232411629,0.05064583181525673,0.050642643853002205,0.05073154245758554,0.05063755829416759,0.0504987604899146,0.050564432512357815,0.05058206877497291,0.05060079046283203,0.050582125702870386,0.050581947328791885,0.05054753631240878,0.050633262135510275,0.050555730134441576,0.0501824425255954,0.05064038950826505,0.05058828530136932,0.05017687877242254,0.050576827613218835,0.050641607765269506,0.05066357434328047,0.05050511743845782,0.05055601097873539,0.0504305570736335,0.05059783400736024,0.05065629895799246,0.05067565444310919,0.050255902284403416,0.050475765414557144,0.050633163460488156,0.05062241926865178,0.05058846367544782,0.05035997786643416,0.05064980158730213,0.050603504025941534,0.05068346495063278,0.05069395486452744,0.050660557164718074,0.05067662601255811,0.05062560723090628,0.05069020900887841,0.05060969778117889,0.050662815304648376,0.05067326347141824,0.050618802449570066,0.05060246414301565,0.04820617918169621,0.0490266126534782,0.05053703880812783,0.050656204078163354,0.05070167049222203,0.050627440309202625,0.05055827291385886,0.05065533497892977,0.050700531934273985,0.050412992919688315,0.05052325846176335,0.05060167094764512,0.05053958917793153,0.05061075664007068,0.05067140762196295,0.050678443910081826,0.0506738175696196,0.05065905047303349,0.050559513942022266,0.05063547473312265,0.05062420300943701,0.050673085097339796,0.05068568513863146,0.05068659978018307,0.05067655769908129,0.050698133372196745,0.05067085352376152,0.050555714953668986,0.05036222462078506,0.05071672222829518,0.050711397572291456,0.05072470351951089],\"type\":\"scatter\",\"xaxis\":\"x3\",\"yaxis\":\"y3\"},{\"marker\":{\"color\":[0,1,2,3,4,5,6,7,8,9,10,11,12,13,14,15,16,17,18,19,20,21,22,23,24,25,26,27,28,29,30,31,32,33,34,35,36,37,38,39,40,41,42,43,44,45,46,47,48,49,50,51,52,53,54,55,56,57,58,59,60,61,62,63,64,65,66,67,68,69,70,71,72,73,74,75,76,77,78,79,80,81,82,83,84,85,86,87,88,89,90,91,92,93,94,95,96,97,98,99,100,101,102,103,104,105,106,107,108,109,110,111,112,113,114,115,116,117,118,119,120,121,122,123,124,125,126,127,128,129,130,131,132,133,134,135,136,137,138,139,140,141,142,143,144,145,146,147,148,149,150,151,152,153,154,155,156,157,158,159,160,161,162,163,164,165,166,167,168,169,170,171,172,173,174,175,176,177,178,179,180,181,182,183,184,185,186,187,188,189,190,191,192,193,194,195,196,197,198,199],\"colorbar\":{\"title\":{\"text\":\"Trial\"},\"x\":1.0,\"xpad\":40},\"colorscale\":[[0.0,\"rgb(247,251,255)\"],[0.125,\"rgb(222,235,247)\"],[0.25,\"rgb(198,219,239)\"],[0.375,\"rgb(158,202,225)\"],[0.5,\"rgb(107,174,214)\"],[0.625,\"rgb(66,146,198)\"],[0.75,\"rgb(33,113,181)\"],[0.875,\"rgb(8,81,156)\"],[1.0,\"rgb(8,48,107)\"]],\"line\":{\"color\":\"Grey\",\"width\":0.5},\"showscale\":false},\"mode\":\"markers\",\"name\":\"Feasible Trial\",\"showlegend\":false,\"x\":[0.18641654313441144,0.031219766043052356,0.5092510261607135,0.0643825018139472,0.5918905693018289,0.21510627573201932,0.29647269912405005,0.4764616696706506,0.42785557659144474,0.3937886086907635,0.010333939441936914,0.9780586052943094,0.9460164414720562,0.7956242894548228,0.11477128328869758,0.9597848612883293,0.2741084083582412,0.2332215298755103,0.14710908838684889,0.34837167317713646,0.09329705002692716,0.30795800935479123,0.3028090693555524,0.23254748740647588,0.18380876218419265,0.2474068933752689,0.22848211109144087,0.14461342739132169,0.14642229618900818,0.1561065858986558,0.1531319093548427,0.15701784192379645,0.11060664565931062,0.07738676679596587,0.06514440500246937,0.08461237722435061,0.051682939057333475,0.12482786704372226,0.12414559886080516,0.18214044661932347,0.19840209298822653,0.08449764325088088,0.18007221712243096,0.10168046025604298,0.19165412840209448,0.17147824959970692,0.124535664049159,0.07652067151607948,0.07255457972692621,0.05392788869012574,0.03899022893872959,0.09216765515230708,0.09719838681229935,0.10135617057872066,0.09724049813858567,0.0942971414794176,0.12157744804272974,0.1231224710922609,0.08786759182174156,0.10794024322516972,0.0993071182972644,0.1014052579778281,0.10723079651196164,0.10600759606377688,0.0655190349165085,0.13436539619139684,0.11601486951430867,0.11582374257028412,0.10972021598376089,0.08388897944518063,0.15035128855126514,0.11529140445468115,0.13933927493793882,0.1380792319500796,0.1435376413247818,0.13106666261639996,0.16654965255925314,0.16743929313119713,0.20630899469319253,0.21152608944457785,0.21095639482503212,0.20635978007299038,0.21497680560329965,0.20849851780381412,0.26095336613434933,0.23770591332249372,0.22271897911971653,0.20169757632560495,0.27751794275223596,0.22153624082992307,0.33780920836443656,0.2568222856499133,0.20781330685615212,0.22358542855890892,0.16647772639249708,0.17225280151775205,0.19651738006251976,0.2984138825755423,0.20537721283548488,0.24182368962480444,0.16576975301216076,0.19062903201076378,0.18757329883116283,0.18552921312958293,0.19009272599999455,0.22045297078622503,0.22447624063023036,0.2792769173066739,0.2476469065670168,0.23930186316695493,0.1830588466911519,0.25652163551402934,0.25937689311857176,0.25968788822369065,0.2699159483369597,0.31772947943633206,0.27767578229220435,0.36408156911123074,0.30199649335575346,0.24414576232130894,0.18308963393092387,0.23742470370723875,0.23127389305664364,0.23418270400141009,0.24431631389716812,0.24718895065246493,0.3359537301652516,0.40692427852161805,0.29090579485166085,0.2336345009709651,0.31840529557282904,0.26055278777912816,0.24454471085812604,0.18886590964859884,0.22921977824561382,0.26443025388275615,0.15581134415937076,0.3617712645280281,0.2863939365707616,0.19576450721402675,0.2216401427729241,0.2325834235929003,0.22038205179919365,0.1787035244510754,0.25512740818711555,0.2968109227485515,0.1950240383409713,0.21337087069976896,0.21444483407886866,0.21516693796819267,0.15566594832108652,0.17844905794701785,0.21719647252750965,0.2019047310990368,0.2740399106013974,0.23344023313328283,0.16956678351865084,0.1911150422286883,0.19144926346112637,0.18423198952623562,0.19530163662079014,0.1966388535500688,0.1556804556917484,0.17038437361086667,0.14873316110535456,0.15641236623824498,0.16061692750844953,0.13126599591256305,0.1894116259845606,0.16272291391363802,0.14524908769625983,0.19857077370945073,0.1758441729138502,0.17228442180588693,0.1795861252803435,0.14133832408087113,0.19927233637480857,0.15889366742417485,0.20510382976235375,0.18381526273782423,0.19495580378042807,0.24303896661302202,0.2105465170707011,0.21492352682257912,0.20964808246422478,0.17463316918852562,0.1473280138955941,0.19190135780708814,0.2221392924653307,0.1643621601889906,0.16001267497250168,0.1569162515698755,0.15569051987864843,0.13207887350931316,0.14450303079494792,0.13063804177265362,0.17536798960480154,0.15246295042694752,0.13631523255237815,0.12592170825815036],\"y\":[0.04684789852564394,0.04147959780061021,0.04315415846905017,0.041328199955065516,0.04648447841901425,0.04104028142116375,0.04687405499690388,0.04136341934759159,0.049191650423240675,0.044035694550710505,0.029937087082984416,0.047808317697138114,0.04658895629152005,0.04836866658165498,0.046817548365942346,0.04538095769422343,0.04918099352084691,0.049447040356566704,0.039840161644867506,0.04920281208632457,0.0482270034065661,0.04935527638114736,0.04922023202292959,0.04937167161559919,0.049105385682710494,0.04943117644915724,0.04942787463110788,0.04971249514215348,0.049893901580015526,0.04966775740518158,0.04980365947705336,0.04992999007177534,0.0496368379665058,0.04981470348914944,0.04943773074774476,0.049584103757545524,0.049709060492343485,0.049922023961332114,0.0495203900547728,0.05000874792023472,0.049706851689924336,0.049998869032438824,0.050144369147812715,0.049833914756926105,0.048395012812572774,0.0490816353639142,0.050192659185582564,0.050170187846881126,0.049999214395016416,0.04951403310622966,0.04451305774158736,0.050303471235472574,0.05039772106241185,0.05016644578642538,0.05033656152463602,0.050386153313659754,0.050333718924959026,0.05047621704254334,0.05054254563340329,0.050574307604960636,0.050538579656550967,0.050607959582711685,0.05060094986094486,0.05025881319755721,0.05039192959764951,0.0501994639669187,0.050510271310769295,0.05054683040648105,0.05034227708553515,0.049895487970756325,0.050024782611336346,0.050564664019140663,0.05056894120183205,0.050555100132377045,0.05051630187270089,0.050420317642487486,0.05064356228974694,0.05050536792120639,0.050677643124325156,0.0506199334171319,0.05062323143998801,0.0506156903911788,0.050618608894718954,0.05033419332410405,0.05037800882913796,0.05052405165713379,0.05058308968193311,0.050275383010894265,0.0504978838002945,0.050247230268032336,0.05037203139991078,0.050537126097570495,0.05064034017075401,0.050696577343001106,0.05060416818474452,0.0505839777571326,0.05041761166976425,0.05034261485772644,0.05041448063540705,0.05050075676151674,0.05024663821789943,0.050712141430150896,0.050744833224032365,0.05069504788015757,0.0506086920549915,0.05066839044340066,0.050643755844598154,0.05058250142699333,0.05064555856134921,0.050514366324189056,0.05061827871291408,0.05067565444310924,0.05064037432749246,0.0506621018083343,0.050640742461228995,0.05062162227808815,0.05047209166757826,0.050521042068957786,0.05040028281779507,0.05068765863907485,0.05034626203835341,0.05067072448719412,0.05067243232411629,0.05064583181525673,0.050642643853002205,0.05073154245758554,0.05063755829416759,0.0504987604899146,0.050564432512357815,0.05058206877497291,0.05060079046283203,0.050582125702870386,0.050581947328791885,0.05054753631240878,0.050633262135510275,0.050555730134441576,0.0501824425255954,0.05064038950826505,0.05058828530136932,0.05017687877242254,0.050576827613218835,0.050641607765269506,0.05066357434328047,0.05050511743845782,0.05055601097873539,0.0504305570736335,0.05059783400736024,0.05065629895799246,0.05067565444310919,0.050255902284403416,0.050475765414557144,0.050633163460488156,0.05062241926865178,0.05058846367544782,0.05035997786643416,0.05064980158730213,0.050603504025941534,0.05068346495063278,0.05069395486452744,0.050660557164718074,0.05067662601255811,0.05062560723090628,0.05069020900887841,0.05060969778117889,0.050662815304648376,0.05067326347141824,0.050618802449570066,0.05060246414301565,0.04820617918169621,0.0490266126534782,0.05053703880812783,0.050656204078163354,0.05070167049222203,0.050627440309202625,0.05055827291385886,0.05065533497892977,0.050700531934273985,0.050412992919688315,0.05052325846176335,0.05060167094764512,0.05053958917793153,0.05061075664007068,0.05067140762196295,0.050678443910081826,0.0506738175696196,0.05065905047303349,0.050559513942022266,0.05063547473312265,0.05062420300943701,0.050673085097339796,0.05068568513863146,0.05068659978018307,0.05067655769908129,0.050698133372196745,0.05067085352376152,0.050555714953668986,0.05036222462078506,0.05071672222829518,0.050711397572291456,0.05072470351951089],\"type\":\"scatter\",\"xaxis\":\"x4\",\"yaxis\":\"y4\"},{\"marker\":{\"color\":[0,1,2,3,4,5,6,7,8,9,10,11,12,13,14,15,16,17,18,19,20,21,22,23,24,25,26,27,28,29,30,31,32,33,34,35,36,37,38,39,40,41,42,43,44,45,46,47,48,49,50,51,52,53,54,55,56,57,58,59,60,61,62,63,64,65,66,67,68,69,70,71,72,73,74,75,76,77,78,79,80,81,82,83,84,85,86,87,88,89,90,91,92,93,94,95,96,97,98,99,100,101,102,103,104,105,106,107,108,109,110,111,112,113,114,115,116,117,118,119,120,121,122,123,124,125,126,127,128,129,130,131,132,133,134,135,136,137,138,139,140,141,142,143,144,145,146,147,148,149,150,151,152,153,154,155,156,157,158,159,160,161,162,163,164,165,166,167,168,169,170,171,172,173,174,175,176,177,178,179,180,181,182,183,184,185,186,187,188,189,190,191,192,193,194,195,196,197,198,199],\"colorbar\":{\"title\":{\"text\":\"Trial\"},\"x\":1.0,\"xpad\":40},\"colorscale\":[[0.0,\"rgb(247,251,255)\"],[0.125,\"rgb(222,235,247)\"],[0.25,\"rgb(198,219,239)\"],[0.375,\"rgb(158,202,225)\"],[0.5,\"rgb(107,174,214)\"],[0.625,\"rgb(66,146,198)\"],[0.75,\"rgb(33,113,181)\"],[0.875,\"rgb(8,81,156)\"],[1.0,\"rgb(8,48,107)\"]],\"line\":{\"color\":\"Grey\",\"width\":0.5},\"showscale\":false},\"mode\":\"markers\",\"name\":\"Feasible Trial\",\"showlegend\":false,\"x\":[0.06282007392750073,0.11514434291606349,0.03637427187406814,0.541690514889244,0.0969772968428161,0.010155495842046672,0.07614933181502974,0.09275069704971288,0.026819786053861126,0.8137038488467286,0.010608154344728804,0.0309142979519449,0.022210925354428684,0.03264396184532572,0.022007943200181478,0.04960179383743128,0.017602069029940177,0.015839482515030527,0.014716246460682925,0.015476772631311959,0.015758829509203324,0.010049884625535098,0.01060509686426166,0.01005720890509246,0.010496832829057803,0.016961762209872566,0.020288433553848944,0.02108654108753909,0.04034785360808099,0.059573960343259666,0.053655415682049984,0.06082649871132129,0.03693573488075916,0.050574854867924554,0.04654545204970847,0.13335381184089032,0.06208066244627305,0.12620816377997465,0.13570203759451874,0.07439688727222177,0.09237377596553048,0.07462398200559851,0.07990308114025228,0.07501261301029048,0.1602957226195391,0.18528062542098106,0.07491884593348054,0.07608112640518257,0.07506907900371591,0.10157540577878141,0.0777831377509468,0.0742919726624583,0.08751911396258256,0.10524885915736056,0.10228205634741633,0.11280346242710962,0.1137584730249545,0.17602721396433116,0.21748348221840336,0.20743900536463014,0.23511917450612568,0.2290089725089394,0.22911212574401787,0.2333256830635345,0.2709884434291488,0.2861419183608948,0.3376596920197992,0.35639430076927936,0.3978053359454568,0.3717223166780774,0.2086508160163982,0.17320505128779,0.23613946907981603,0.22690932476344164,0.1569181630419947,0.20558085771690365,0.2929050071953169,0.2653102106230152,0.3082588758081342,0.29824262052173,0.3036402994135717,0.2948187213607911,0.3057613037928473,0.4312745254203025,0.3106739403559098,0.305099025427922,0.45716814712199144,0.4700705331102025,0.3248822144596547,0.6085542363281592,0.2635307508006893,0.29927870294779735,0.25825559764826495,0.338835899268896,0.3521034233816016,0.3451100732809104,0.3817300911093318,0.2580711088315287,0.3224186846521845,0.2880706689789043,0.3989278335011647,0.3433816004027039,0.35730087685145995,0.2856377061300999,0.29206182100306244,0.3367494605301125,0.33466809931576297,0.4162586825947931,0.36431505187395663,0.37435698716056337,0.48951598918370676,0.3344799084836442,0.3530452383197879,0.34196847184604934,0.3483333842395956,0.4127825023233979,0.33127355073000525,0.5343123232107262,0.371555919390394,0.339143965492381,0.42834569850616144,0.34898719577884574,0.40247804563941597,0.39920982010708994,0.38411162103290475,0.4503111704056017,0.5216306050758894,0.440855158980582,0.5885152298676335,0.4842338374864176,0.4504385942052293,0.39824387406461703,0.4092985350097234,0.33058562826877846,0.3716340222048073,0.27914668779019053,0.25219833870473346,0.4906680193291605,0.4333277513410695,0.3250303138882055,0.3679006818635409,0.33524923518880917,0.3256772908398342,0.2719374288483221,0.3953440801267785,0.3137357409107158,0.45019301483946234,0.37172252473430306,0.39938945289661776,0.2557691038695899,0.572531609101094,0.4153669318253749,0.34946188671594697,0.49058858066515587,0.3116839273542783,0.3942342287417137,0.36592753566118824,0.28284889620578574,0.28550160077713865,0.2844548921795334,0.27574062279506023,0.24064864660830085,0.2694697705676707,0.2857384146153179,0.2502472936096994,0.3157542718772599,0.2744738025676991,0.21926882007447443,0.3053752043269323,0.2664799888750075,0.24393794544451575,0.32717671976390644,0.3057989031853935,0.20299467979567867,0.28606047444312893,0.30939656968554397,0.2726197031821685,0.2638706097117313,0.22484409402840644,0.2910800257059991,0.23554203670422896,0.34986649687011684,0.31780030214472227,0.31568323601346715,0.30593488261497237,0.2754344055141472,0.19672584025282733,0.24781316257971733,0.2954374590745266,0.2752444225176714,0.2674158715568616,0.26629979158158906,0.25045711390507064,0.25311323146660314,0.2462029342528278,0.22172806578164178,0.18921131348740186,0.2626655484493735,0.21553220612956253,0.21192268076786414],\"y\":[0.04684789852564394,0.04147959780061021,0.04315415846905017,0.041328199955065516,0.04648447841901425,0.04104028142116375,0.04687405499690388,0.04136341934759159,0.049191650423240675,0.044035694550710505,0.029937087082984416,0.047808317697138114,0.04658895629152005,0.04836866658165498,0.046817548365942346,0.04538095769422343,0.04918099352084691,0.049447040356566704,0.039840161644867506,0.04920281208632457,0.0482270034065661,0.04935527638114736,0.04922023202292959,0.04937167161559919,0.049105385682710494,0.04943117644915724,0.04942787463110788,0.04971249514215348,0.049893901580015526,0.04966775740518158,0.04980365947705336,0.04992999007177534,0.0496368379665058,0.04981470348914944,0.04943773074774476,0.049584103757545524,0.049709060492343485,0.049922023961332114,0.0495203900547728,0.05000874792023472,0.049706851689924336,0.049998869032438824,0.050144369147812715,0.049833914756926105,0.048395012812572774,0.0490816353639142,0.050192659185582564,0.050170187846881126,0.049999214395016416,0.04951403310622966,0.04451305774158736,0.050303471235472574,0.05039772106241185,0.05016644578642538,0.05033656152463602,0.050386153313659754,0.050333718924959026,0.05047621704254334,0.05054254563340329,0.050574307604960636,0.050538579656550967,0.050607959582711685,0.05060094986094486,0.05025881319755721,0.05039192959764951,0.0501994639669187,0.050510271310769295,0.05054683040648105,0.05034227708553515,0.049895487970756325,0.050024782611336346,0.050564664019140663,0.05056894120183205,0.050555100132377045,0.05051630187270089,0.050420317642487486,0.05064356228974694,0.05050536792120639,0.050677643124325156,0.0506199334171319,0.05062323143998801,0.0506156903911788,0.050618608894718954,0.05033419332410405,0.05037800882913796,0.05052405165713379,0.05058308968193311,0.050275383010894265,0.0504978838002945,0.050247230268032336,0.05037203139991078,0.050537126097570495,0.05064034017075401,0.050696577343001106,0.05060416818474452,0.0505839777571326,0.05041761166976425,0.05034261485772644,0.05041448063540705,0.05050075676151674,0.05024663821789943,0.050712141430150896,0.050744833224032365,0.05069504788015757,0.0506086920549915,0.05066839044340066,0.050643755844598154,0.05058250142699333,0.05064555856134921,0.050514366324189056,0.05061827871291408,0.05067565444310924,0.05064037432749246,0.0506621018083343,0.050640742461228995,0.05062162227808815,0.05047209166757826,0.050521042068957786,0.05040028281779507,0.05068765863907485,0.05034626203835341,0.05067072448719412,0.05067243232411629,0.05064583181525673,0.050642643853002205,0.05073154245758554,0.05063755829416759,0.0504987604899146,0.050564432512357815,0.05058206877497291,0.05060079046283203,0.050582125702870386,0.050581947328791885,0.05054753631240878,0.050633262135510275,0.050555730134441576,0.0501824425255954,0.05064038950826505,0.05058828530136932,0.05017687877242254,0.050576827613218835,0.050641607765269506,0.05066357434328047,0.05050511743845782,0.05055601097873539,0.0504305570736335,0.05059783400736024,0.05065629895799246,0.05067565444310919,0.050255902284403416,0.050475765414557144,0.050633163460488156,0.05062241926865178,0.05058846367544782,0.05035997786643416,0.05064980158730213,0.050603504025941534,0.05068346495063278,0.05069395486452744,0.050660557164718074,0.05067662601255811,0.05062560723090628,0.05069020900887841,0.05060969778117889,0.050662815304648376,0.05067326347141824,0.050618802449570066,0.05060246414301565,0.04820617918169621,0.0490266126534782,0.05053703880812783,0.050656204078163354,0.05070167049222203,0.050627440309202625,0.05055827291385886,0.05065533497892977,0.050700531934273985,0.050412992919688315,0.05052325846176335,0.05060167094764512,0.05053958917793153,0.05061075664007068,0.05067140762196295,0.050678443910081826,0.0506738175696196,0.05065905047303349,0.050559513942022266,0.05063547473312265,0.05062420300943701,0.050673085097339796,0.05068568513863146,0.05068659978018307,0.05067655769908129,0.050698133372196745,0.05067085352376152,0.050555714953668986,0.05036222462078506,0.05071672222829518,0.050711397572291456,0.05072470351951089],\"type\":\"scatter\",\"xaxis\":\"x5\",\"yaxis\":\"y5\"},{\"marker\":{\"color\":[0,1,2,3,4,5,6,7,8,9,10,11,12,13,14,15,16,17,18,19,20,21,22,23,24,25,26,27,28,29,30,31,32,33,34,35,36,37,38,39,40,41,42,43,44,45,46,47,48,49,50,51,52,53,54,55,56,57,58,59,60,61,62,63,64,65,66,67,68,69,70,71,72,73,74,75,76,77,78,79,80,81,82,83,84,85,86,87,88,89,90,91,92,93,94,95,96,97,98,99,100,101,102,103,104,105,106,107,108,109,110,111,112,113,114,115,116,117,118,119,120,121,122,123,124,125,126,127,128,129,130,131,132,133,134,135,136,137,138,139,140,141,142,143,144,145,146,147,148,149,150,151,152,153,154,155,156,157,158,159,160,161,162,163,164,165,166,167,168,169,170,171,172,173,174,175,176,177,178,179,180,181,182,183,184,185,186,187,188,189,190,191,192,193,194,195,196,197,198,199],\"colorbar\":{\"title\":{\"text\":\"Trial\"},\"x\":1.0,\"xpad\":40},\"colorscale\":[[0.0,\"rgb(247,251,255)\"],[0.125,\"rgb(222,235,247)\"],[0.25,\"rgb(198,219,239)\"],[0.375,\"rgb(158,202,225)\"],[0.5,\"rgb(107,174,214)\"],[0.625,\"rgb(66,146,198)\"],[0.75,\"rgb(33,113,181)\"],[0.875,\"rgb(8,81,156)\"],[1.0,\"rgb(8,48,107)\"]],\"line\":{\"color\":\"Grey\",\"width\":0.5},\"showscale\":false},\"mode\":\"markers\",\"name\":\"Feasible Trial\",\"showlegend\":false,\"x\":[0.002414494040890425,0.009404727223076321,0.001117888152233885,0.12038250865094578,0.00008462760432882662,0.00019644470538171302,0.0013769167997809164,0.0237620802989581,0.0005865585113802922,0.014328879436369206,0.8643765791904594,0.000017693843209676407,0.000025436009641667668,0.000010204717138692145,0.000011096711884742053,0.00022914963445582465,0.00035120196974204295,0.0004561531821054282,0.00048585611644865926,0.000059475305648772977,0.00005874702114638935,0.00007703013275435597,0.00008789637180381969,0.00008858020152539679,0.0001490714293919021,0.00004100358212704462,0.0006343361759367512,0.0008186651040651504,0.0019595126611267103,0.0045857334294592215,0.003361484986383186,0.0030553669720541116,0.002741833100072857,0.0015317169781348355,0.0018720280834875391,0.005469375891636983,0.00152204481203648,0.0029037314880944096,0.00796961580954127,0.0010518899633770052,0.001240104235821361,0.002657909689291165,0.00265423971114843,0.003250182572234867,0.012449468582723661,0.006934752991571683,0.0008991276444593496,0.0008489692932002155,0.0008370296870073154,0.0008019617706420142,0.0008508765831317194,0.00030269758819918374,0.000360345304466524,0.00036530830444535294,0.00026018595741663763,0.0003336119866212872,0.00026759234779027546,0.0002574625023216488,0.00024403526838696847,0.00015333347983305083,0.00015657809635722934,0.00017212240639022594,0.00017780219065173484,0.00013865312072056202,0.0001675847040257465,0.00013254989098290785,0.00021526456455874223,0.00019269263272720793,0.00009513748470510305,0.00019791837149141082,0.0005258309390308934,0.00018251531758759867,0.00010573342638071341,0.000041699867223178416,0.00003413402041893025,0.00006037712219795231,0.0001003192783476985,0.000044994602656376595,0.00010896876502097909,0.00011430035469474948,0.00010618462673984784,0.0000973255383065257,0.00011609076141710636,0.00011369173969378605,0.00007223241288083417,0.00008270977097992636,0.00012162047832990133,0.00010429128059233072,0.00006045507561217772,0.00011721339015705212,0.000026214915018253126,0.00013789393264315833,0.00008535960417825207,0.00007394873752277009,0.00007262859719705243,0.00007452442996672094,0.000051372536019438656,0.00003369162319921604,0.00007094475369768589,0.00009605152173853738,0.00004721274530606856,0.00008573146591938293,0.0000643751837916623,0.000053488111775906504,0.00005632143627640438,0.000023538706216123603,0.000017424416145395675,0.000016843511447118724,0.00001885530167315876,0.000017407758818073993,0.000013195695641635006,0.000022801930162161766,0.000024750867587458068,0.000024296513953439123,0.000023436049364717867,0.000026523708966011847,0.000011943116081383872,0.00002020347699363119,0.00003285107675817392,0.000015262069842912172,0.000031986208012868515,0.000014162808837395237,0.000014184086681218904,0.000010387284032371459,0.000014449722298769701,0.000012456357510915387,0.000010660702196705182,0.00001372422634954795,0.000010155936829268802,0.000014548730435653462,0.000020525942431144775,0.00002028152675335337,0.000014861848656238883,0.000012113493152545905,0.00003995342906045686,0.000021182311074385768,0.00001022331325029563,0.000026215552826143403,0.000015586877023170507,0.00001861635260305674,0.00003089556551757784,0.00001687091318258533,0.000041131396349913843,0.00004017245326570625,0.000026994302012486938,0.00004577441053931899,0.00002140844653264295,0.0000125864776925629,0.000013222864727436139,0.0000352297698010042,0.00005066285919158288,0.000013081859455065643,0.000010210523807975529,0.000012961063751451736,0.00002377426506090444,0.000029221643366618607,0.00003141125229610521,0.000060168767000845294,0.00003974002822058588,0.0000559360224926895,0.0000401921066091858,0.000040121113965159166,0.00006524937041137433,0.00006396997086997947,0.00006215657988563501,0.00007761432467553569,0.0000545993949142069,0.00007749425366035069,0.00007867617189059989,0.00004908075475117784,0.00006801694720282012,0.00003661926454334924,0.0000503305810507298,0.000047670302418484334,0.00009153011705184388,0.00006150288254656759,0.00002925962845516348,0.000031412572020124935,0.00008228444950667465,0.000043974223181707574,0.000015923689147124047,0.000020441426629901924,0.00003752821386858629,0.00003713565970519359,0.0000374870833947054,0.000054676424820015676,0.000028722499259333935,0.00006809445847880966,0.00004475639908167443,0.00005392491809865554,0.000055722191175497,0.000056661743210753145,0.00008162816061884177,0.00009258567078403777,0.00014554059182195217,0.00009764677384472015,0.0000646675333220209,0.00009712015521895892,0.00011721877330504543,0.00012393762627272217],\"y\":[0.04684789852564394,0.04147959780061021,0.04315415846905017,0.041328199955065516,0.04648447841901425,0.04104028142116375,0.04687405499690388,0.04136341934759159,0.049191650423240675,0.044035694550710505,0.029937087082984416,0.047808317697138114,0.04658895629152005,0.04836866658165498,0.046817548365942346,0.04538095769422343,0.04918099352084691,0.049447040356566704,0.039840161644867506,0.04920281208632457,0.0482270034065661,0.04935527638114736,0.04922023202292959,0.04937167161559919,0.049105385682710494,0.04943117644915724,0.04942787463110788,0.04971249514215348,0.049893901580015526,0.04966775740518158,0.04980365947705336,0.04992999007177534,0.0496368379665058,0.04981470348914944,0.04943773074774476,0.049584103757545524,0.049709060492343485,0.049922023961332114,0.0495203900547728,0.05000874792023472,0.049706851689924336,0.049998869032438824,0.050144369147812715,0.049833914756926105,0.048395012812572774,0.0490816353639142,0.050192659185582564,0.050170187846881126,0.049999214395016416,0.04951403310622966,0.04451305774158736,0.050303471235472574,0.05039772106241185,0.05016644578642538,0.05033656152463602,0.050386153313659754,0.050333718924959026,0.05047621704254334,0.05054254563340329,0.050574307604960636,0.050538579656550967,0.050607959582711685,0.05060094986094486,0.05025881319755721,0.05039192959764951,0.0501994639669187,0.050510271310769295,0.05054683040648105,0.05034227708553515,0.049895487970756325,0.050024782611336346,0.050564664019140663,0.05056894120183205,0.050555100132377045,0.05051630187270089,0.050420317642487486,0.05064356228974694,0.05050536792120639,0.050677643124325156,0.0506199334171319,0.05062323143998801,0.0506156903911788,0.050618608894718954,0.05033419332410405,0.05037800882913796,0.05052405165713379,0.05058308968193311,0.050275383010894265,0.0504978838002945,0.050247230268032336,0.05037203139991078,0.050537126097570495,0.05064034017075401,0.050696577343001106,0.05060416818474452,0.0505839777571326,0.05041761166976425,0.05034261485772644,0.05041448063540705,0.05050075676151674,0.05024663821789943,0.050712141430150896,0.050744833224032365,0.05069504788015757,0.0506086920549915,0.05066839044340066,0.050643755844598154,0.05058250142699333,0.05064555856134921,0.050514366324189056,0.05061827871291408,0.05067565444310924,0.05064037432749246,0.0506621018083343,0.050640742461228995,0.05062162227808815,0.05047209166757826,0.050521042068957786,0.05040028281779507,0.05068765863907485,0.05034626203835341,0.05067072448719412,0.05067243232411629,0.05064583181525673,0.050642643853002205,0.05073154245758554,0.05063755829416759,0.0504987604899146,0.050564432512357815,0.05058206877497291,0.05060079046283203,0.050582125702870386,0.050581947328791885,0.05054753631240878,0.050633262135510275,0.050555730134441576,0.0501824425255954,0.05064038950826505,0.05058828530136932,0.05017687877242254,0.050576827613218835,0.050641607765269506,0.05066357434328047,0.05050511743845782,0.05055601097873539,0.0504305570736335,0.05059783400736024,0.05065629895799246,0.05067565444310919,0.050255902284403416,0.050475765414557144,0.050633163460488156,0.05062241926865178,0.05058846367544782,0.05035997786643416,0.05064980158730213,0.050603504025941534,0.05068346495063278,0.05069395486452744,0.050660557164718074,0.05067662601255811,0.05062560723090628,0.05069020900887841,0.05060969778117889,0.050662815304648376,0.05067326347141824,0.050618802449570066,0.05060246414301565,0.04820617918169621,0.0490266126534782,0.05053703880812783,0.050656204078163354,0.05070167049222203,0.050627440309202625,0.05055827291385886,0.05065533497892977,0.050700531934273985,0.050412992919688315,0.05052325846176335,0.05060167094764512,0.05053958917793153,0.05061075664007068,0.05067140762196295,0.050678443910081826,0.0506738175696196,0.05065905047303349,0.050559513942022266,0.05063547473312265,0.05062420300943701,0.050673085097339796,0.05068568513863146,0.05068659978018307,0.05067655769908129,0.050698133372196745,0.05067085352376152,0.050555714953668986,0.05036222462078506,0.05071672222829518,0.050711397572291456,0.05072470351951089],\"type\":\"scatter\",\"xaxis\":\"x6\",\"yaxis\":\"y6\"},{\"marker\":{\"color\":[0,1,2,3,4,5,6,7,8,9,10,11,12,13,14,15,16,17,18,19,20,21,22,23,24,25,26,27,28,29,30,31,32,33,34,35,36,37,38,39,40,41,42,43,44,45,46,47,48,49,50,51,52,53,54,55,56,57,58,59,60,61,62,63,64,65,66,67,68,69,70,71,72,73,74,75,76,77,78,79,80,81,82,83,84,85,86,87,88,89,90,91,92,93,94,95,96,97,98,99,100,101,102,103,104,105,106,107,108,109,110,111,112,113,114,115,116,117,118,119,120,121,122,123,124,125,126,127,128,129,130,131,132,133,134,135,136,137,138,139,140,141,142,143,144,145,146,147,148,149,150,151,152,153,154,155,156,157,158,159,160,161,162,163,164,165,166,167,168,169,170,171,172,173,174,175,176,177,178,179,180,181,182,183,184,185,186,187,188,189,190,191,192,193,194,195,196,197,198,199],\"colorbar\":{\"title\":{\"text\":\"Trial\"},\"x\":1.0,\"xpad\":40},\"colorscale\":[[0.0,\"rgb(247,251,255)\"],[0.125,\"rgb(222,235,247)\"],[0.25,\"rgb(198,219,239)\"],[0.375,\"rgb(158,202,225)\"],[0.5,\"rgb(107,174,214)\"],[0.625,\"rgb(66,146,198)\"],[0.75,\"rgb(33,113,181)\"],[0.875,\"rgb(8,81,156)\"],[1.0,\"rgb(8,48,107)\"]],\"line\":{\"color\":\"Grey\",\"width\":0.5},\"showscale\":false},\"mode\":\"markers\",\"name\":\"Feasible Trial\",\"showlegend\":false,\"x\":[0.0003847433046629457,0.9214505968287442,0.6764280927176299,0.0007594429872382906,0.0003337072369134425,0.4830786922417491,0.013345735429856653,0.019286427795742956,0.008697741426517962,0.002753164287681638,0.00012190235445893644,0.016338562414689367,0.0453855658160998,0.002696410891608901,0.004004706811669652,0.0020205075305979674,0.05432364611697952,0.08450538854999273,0.11997452980575704,0.1819948528068925,0.23583560236358383,0.15311207378325895,0.20614366376892557,0.09222467909976231,0.0674949136297894,0.08332425089963665,0.034078257515314424,0.03566250800200073,0.029196511217539522,0.029681694181490584,0.030608752329175117,0.027085263941015333,0.02478872565378985,0.00942535878103923,0.011614729422436248,0.006415411010039077,0.019852569499776564,0.009988881580758117,0.013132491455264772,0.008420566723746128,0.00695845131599192,0.00974016963476908,0.01851956712822137,0.0060328663088561165,0.01639957084660329,0.01045538946785158,0.01928638056218947,0.019221807093715886,0.016541770296138614,0.01959726212893789,0.04539172783885783,0.004495139940018981,0.004503664407981275,0.004253419509526324,0.004425030700338643,0.004675289566380434,0.0018619222496772056,0.0014987227985652002,0.001555007477021315,0.0014155847289709744,0.0010693876525349154,0.001042241305791976,0.0011549638609832354,0.001027274904687842,0.0008687172268490071,0.0005588596374500644,0.0014090667343294898,0.001430609760600286,0.0012259032985360802,0.0006073529913245875,0.002327669333514822,0.0015234994722924933,0.0016373007749342103,0.002664470064248129,0.0025756989295601432,0.0018096612606689003,0.003278625005794025,0.0029371780262610926,0.00293297677728678,0.0033076963185264866,0.003242684352581008,0.0033083186544877684,0.0020901887664263935,0.003095632214156424,0.0023360424151338244,0.0020100689053453216,0.0034187850522945547,0.003419127715164939,0.003621667416648765,0.0020095069739804864,0.005953194591448525,0.002850535807430712,0.003543742449874142,0.0021530811736026403,0.0022706468251329263,0.0024125094200089002,0.005176387853792608,0.003968781109209615,0.007400990177144995,0.0053776740555733366,0.0019218832242984673,0.003060739381027495,0.0033963853363314905,0.0028213272567171295,0.004062888430609893,0.0032207837369394175,0.005184864018001432,0.00532100980251147,0.007581109360309905,0.006789271440745371,0.003744868388598113,0.003157670844664027,0.0028249842387670946,0.005030130322213162,0.008029757304877271,0.004890722849544023,0.008480548818010022,0.00795827942052431,0.006269407487268844,0.004436836521940022,0.005703306930307963,0.0043859476964139745,0.004387998960429032,0.004256864557864053,0.004337354850809134,0.0025658179081314847,0.002533146794999303,0.004234711163550505,0.0024689384511121454,0.0028905066752692755,0.004739525581309417,0.0038757389710228868,0.006646711523556293,0.011079571007164215,0.002780927084498764,0.0017345933971337844,0.0021782216892071325,0.003820474069755966,0.006655978239614759,0.003050953448725292,0.004906866264785852,0.005399630466528749,0.004579458153462818,0.00393944771722405,0.00941951298040401,0.003168897720448271,0.002193150220516283,0.004402749132654609,0.004459670216809188,0.0026534989916397046,0.0018987269751083507,0.004264266315455308,0.0034750442180380143,0.004798857366027168,0.005837347590518205,0.0036727336920365163,0.0029815943270379936,0.0035663035857021338,0.0023343649091258525,0.0024424879972791613,0.0019078493107821766,0.0017493648619506712,0.0026729919299323898,0.002136101972578985,0.0016541010991641249,0.0025807265450850567,0.0013492930971154304,0.0027516482117647336,0.0021814479051230884,0.003186216310679643,0.002435049222154739,0.003449223465475607,0.0019087890887060615,0.0017754140122358826,0.002016105585751678,0.0012700401330350336,0.0026133311202972418,0.0015657385817691224,0.002648502437554359,0.002346907966170918,0.0019088472967135255,0.002971021176344474,0.0034388635555315816,0.002722427078908663,0.0025377069707228496,0.0026220122503161536,0.0014953532962932426,0.0021197807120358694,0.0024722443269616185,0.0019509386274553793,0.001719572141093213,0.0017224128096780848,0.0012251189584808492,0.0016361174340284415,0.0011669928388092399,0.0009663311488714584,0.001337240881608762,0.0015738416183407188,0.0015665393542817633,0.001185382713830819],\"y\":[0.04684789852564394,0.04147959780061021,0.04315415846905017,0.041328199955065516,0.04648447841901425,0.04104028142116375,0.04687405499690388,0.04136341934759159,0.049191650423240675,0.044035694550710505,0.029937087082984416,0.047808317697138114,0.04658895629152005,0.04836866658165498,0.046817548365942346,0.04538095769422343,0.04918099352084691,0.049447040356566704,0.039840161644867506,0.04920281208632457,0.0482270034065661,0.04935527638114736,0.04922023202292959,0.04937167161559919,0.049105385682710494,0.04943117644915724,0.04942787463110788,0.04971249514215348,0.049893901580015526,0.04966775740518158,0.04980365947705336,0.04992999007177534,0.0496368379665058,0.04981470348914944,0.04943773074774476,0.049584103757545524,0.049709060492343485,0.049922023961332114,0.0495203900547728,0.05000874792023472,0.049706851689924336,0.049998869032438824,0.050144369147812715,0.049833914756926105,0.048395012812572774,0.0490816353639142,0.050192659185582564,0.050170187846881126,0.049999214395016416,0.04951403310622966,0.04451305774158736,0.050303471235472574,0.05039772106241185,0.05016644578642538,0.05033656152463602,0.050386153313659754,0.050333718924959026,0.05047621704254334,0.05054254563340329,0.050574307604960636,0.050538579656550967,0.050607959582711685,0.05060094986094486,0.05025881319755721,0.05039192959764951,0.0501994639669187,0.050510271310769295,0.05054683040648105,0.05034227708553515,0.049895487970756325,0.050024782611336346,0.050564664019140663,0.05056894120183205,0.050555100132377045,0.05051630187270089,0.050420317642487486,0.05064356228974694,0.05050536792120639,0.050677643124325156,0.0506199334171319,0.05062323143998801,0.0506156903911788,0.050618608894718954,0.05033419332410405,0.05037800882913796,0.05052405165713379,0.05058308968193311,0.050275383010894265,0.0504978838002945,0.050247230268032336,0.05037203139991078,0.050537126097570495,0.05064034017075401,0.050696577343001106,0.05060416818474452,0.0505839777571326,0.05041761166976425,0.05034261485772644,0.05041448063540705,0.05050075676151674,0.05024663821789943,0.050712141430150896,0.050744833224032365,0.05069504788015757,0.0506086920549915,0.05066839044340066,0.050643755844598154,0.05058250142699333,0.05064555856134921,0.050514366324189056,0.05061827871291408,0.05067565444310924,0.05064037432749246,0.0506621018083343,0.050640742461228995,0.05062162227808815,0.05047209166757826,0.050521042068957786,0.05040028281779507,0.05068765863907485,0.05034626203835341,0.05067072448719412,0.05067243232411629,0.05064583181525673,0.050642643853002205,0.05073154245758554,0.05063755829416759,0.0504987604899146,0.050564432512357815,0.05058206877497291,0.05060079046283203,0.050582125702870386,0.050581947328791885,0.05054753631240878,0.050633262135510275,0.050555730134441576,0.0501824425255954,0.05064038950826505,0.05058828530136932,0.05017687877242254,0.050576827613218835,0.050641607765269506,0.05066357434328047,0.05050511743845782,0.05055601097873539,0.0504305570736335,0.05059783400736024,0.05065629895799246,0.05067565444310919,0.050255902284403416,0.050475765414557144,0.050633163460488156,0.05062241926865178,0.05058846367544782,0.05035997786643416,0.05064980158730213,0.050603504025941534,0.05068346495063278,0.05069395486452744,0.050660557164718074,0.05067662601255811,0.05062560723090628,0.05069020900887841,0.05060969778117889,0.050662815304648376,0.05067326347141824,0.050618802449570066,0.05060246414301565,0.04820617918169621,0.0490266126534782,0.05053703880812783,0.050656204078163354,0.05070167049222203,0.050627440309202625,0.05055827291385886,0.05065533497892977,0.050700531934273985,0.050412992919688315,0.05052325846176335,0.05060167094764512,0.05053958917793153,0.05061075664007068,0.05067140762196295,0.050678443910081826,0.0506738175696196,0.05065905047303349,0.050559513942022266,0.05063547473312265,0.05062420300943701,0.050673085097339796,0.05068568513863146,0.05068659978018307,0.05067655769908129,0.050698133372196745,0.05067085352376152,0.050555714953668986,0.05036222462078506,0.05071672222829518,0.050711397572291456,0.05072470351951089],\"type\":\"scatter\",\"xaxis\":\"x7\",\"yaxis\":\"y7\"},{\"marker\":{\"color\":[0,1,2,3,4,5,6,7,8,9,10,11,12,13,14,15,16,17,18,19,20,21,22,23,24,25,26,27,28,29,30,31,32,33,34,35,36,37,38,39,40,41,42,43,44,45,46,47,48,49,50,51,52,53,54,55,56,57,58,59,60,61,62,63,64,65,66,67,68,69,70,71,72,73,74,75,76,77,78,79,80,81,82,83,84,85,86,87,88,89,90,91,92,93,94,95,96,97,98,99,100,101,102,103,104,105,106,107,108,109,110,111,112,113,114,115,116,117,118,119,120,121,122,123,124,125,126,127,128,129,130,131,132,133,134,135,136,137,138,139,140,141,142,143,144,145,146,147,148,149,150,151,152,153,154,155,156,157,158,159,160,161,162,163,164,165,166,167,168,169,170,171,172,173,174,175,176,177,178,179,180,181,182,183,184,185,186,187,188,189,190,191,192,193,194,195,196,197,198,199],\"colorbar\":{\"title\":{\"text\":\"Trial\"},\"x\":1.0,\"xpad\":40},\"colorscale\":[[0.0,\"rgb(247,251,255)\"],[0.125,\"rgb(222,235,247)\"],[0.25,\"rgb(198,219,239)\"],[0.375,\"rgb(158,202,225)\"],[0.5,\"rgb(107,174,214)\"],[0.625,\"rgb(66,146,198)\"],[0.75,\"rgb(33,113,181)\"],[0.875,\"rgb(8,81,156)\"],[1.0,\"rgb(8,48,107)\"]],\"line\":{\"color\":\"Grey\",\"width\":0.5},\"showscale\":false},\"mode\":\"markers\",\"name\":\"Feasible Trial\",\"showlegend\":false,\"x\":[0.01933051465465794,0.03561771676269892,0.005132886241499475,0.004914195515351012,0.21646295724293557,0.003005703017858839,0.030719324208075282,0.21382210656797684,0.024065050867227735,0.38952504255022213,0.0010679935514137377,0.032549480925945305,0.07532910798588931,0.014050176521868114,0.013982215947771031,0.09051151790656761,0.010201209750554774,0.00797079415626132,0.9351976214721494,0.007237806585032209,0.007658499248163229,0.0030776252230317637,0.002580891604918399,0.0023714117605523827,0.0014266845916665904,0.0021883040693990784,0.0018246934732378645,0.001319019799215702,0.0010083208486868264,0.0010225889820342235,0.0011079583808017792,0.0010558656597385312,0.0014459661772443758,0.0010568906399217987,0.0040471788209132924,0.001719321309563498,0.0010291146832078553,0.003918733540199161,0.0042991888243814865,0.0019886751918269186,0.0034725918503632656,0.001945483025572033,0.0019028216472005716,0.0019202694888067428,0.00524974385926887,0.0026892541232929083,0.0019304704376623908,0.001744706073066018,0.002209100247780786,0.005330896396798825,0.002745051210380626,0.0018034000029859437,0.0015365417396386392,0.0015848023079477595,0.0015653840605883654,0.0014977009249185185,0.0031443002018621802,0.0031526954162170353,0.0032052825338265067,0.003163613560009036,0.0031425723511177956,0.0030252179696766846,0.003237900071094647,0.005600461050219444,0.003423362474533102,0.0063723135983928016,0.00436238430643582,0.004522212433292944,0.004439033384524386,0.010830048943941647,0.006712861024504433,0.00276459540454612,0.0025890198760375525,0.002866370733510846,0.0024878500004676643,0.00365329291132379,0.0024044804099141435,0.004625033118840788,0.0037550502829060916,0.0026293117611908075,0.002340072691793676,0.002355834344649376,0.0023459201595128496,0.0022091828069016684,0.0012705864614235931,0.002271763702513576,0.0038809499030206945,0.0012672029956756544,0.0037750532457734797,0.0023860210531126583,0.0039647404092607854,0.002184839488865631,0.0034979120197630347,0.003644245762518837,0.002661362835565264,0.0026664150520903885,0.005105950835692168,0.001999853007202082,0.005970479270598649,0.00174477766310081,0.007789214219038378,0.0036696132974807175,0.0036521844735514794,0.0036787557782106627,0.0048908812154564935,0.0035871630744014737,0.0034913526310656044,0.0036400316870334377,0.004053740515080786,0.005710318922621662,0.004888055697471093,0.0041883075787415335,0.0035470647492134993,0.0035831119326974223,0.004186094497727985,0.004271493523183013,0.006264585510498547,0.0054850650602669745,0.007163201464769226,0.004151768250075912,0.008384125573125728,0.004059400789515239,0.005090224340524499,0.004756321547197469,0.004691650747898545,0.005131121725012156,0.0053831770394308165,0.0068618013944151115,0.004876457773660845,0.0029695335699000003,0.0041790302089553845,0.005928463739884767,0.0037597860033207575,0.004009409941484991,0.0031463833780732385,0.004426647351810284,0.006398633762395415,0.005066618958277529,0.003015537066215474,0.00886041836158838,0.0034287940283132664,0.0038383043359830563,0.003473041354911096,0.004418446364243532,0.005631097571131855,0.0028942481542438567,0.003292515130400571,0.004896523622720295,0.004784508483902921,0.0061339644384175995,0.007077170309475462,0.00493470522104568,0.004537713698266287,0.003533271825272541,0.0054752386419982925,0.003904845475486754,0.0028020569835875545,0.003916911206599681,0.003263345947424309,0.0033345777840754045,0.0028393557643607154,0.0027828862227752557,0.0037250770585208646,0.0041125702517020545,0.0031862316647530684,0.00261404414328004,0.002044044746349458,0.0026112822102673772,0.02892693711062928,0.017972321330552512,0.003966843877623931,0.0030780408003384077,0.0035899976176568386,0.002545269579359457,0.004333145913622707,0.002917698088147234,0.0037109876468921672,0.0052854439356695435,0.003935945603755729,0.002226545763593614,0.004513573784239235,0.0035522941182390944,0.0032337605120716963,0.003106198455128042,0.0030733369852109504,0.002929102638901321,0.0025336214766564905,0.0019896043342354833,0.0027548863892312295,0.0036299851296071038,0.003273041484498775,0.003273814380804068,0.0032054553046008878,0.003240812734095175,0.003323500055338168,0.003841483066720356,0.004362775929290686,0.003315662868508929,0.003163998437783083,0.0022360570158350703],\"y\":[0.04684789852564394,0.04147959780061021,0.04315415846905017,0.041328199955065516,0.04648447841901425,0.04104028142116375,0.04687405499690388,0.04136341934759159,0.049191650423240675,0.044035694550710505,0.029937087082984416,0.047808317697138114,0.04658895629152005,0.04836866658165498,0.046817548365942346,0.04538095769422343,0.04918099352084691,0.049447040356566704,0.039840161644867506,0.04920281208632457,0.0482270034065661,0.04935527638114736,0.04922023202292959,0.04937167161559919,0.049105385682710494,0.04943117644915724,0.04942787463110788,0.04971249514215348,0.049893901580015526,0.04966775740518158,0.04980365947705336,0.04992999007177534,0.0496368379665058,0.04981470348914944,0.04943773074774476,0.049584103757545524,0.049709060492343485,0.049922023961332114,0.0495203900547728,0.05000874792023472,0.049706851689924336,0.049998869032438824,0.050144369147812715,0.049833914756926105,0.048395012812572774,0.0490816353639142,0.050192659185582564,0.050170187846881126,0.049999214395016416,0.04951403310622966,0.04451305774158736,0.050303471235472574,0.05039772106241185,0.05016644578642538,0.05033656152463602,0.050386153313659754,0.050333718924959026,0.05047621704254334,0.05054254563340329,0.050574307604960636,0.050538579656550967,0.050607959582711685,0.05060094986094486,0.05025881319755721,0.05039192959764951,0.0501994639669187,0.050510271310769295,0.05054683040648105,0.05034227708553515,0.049895487970756325,0.050024782611336346,0.050564664019140663,0.05056894120183205,0.050555100132377045,0.05051630187270089,0.050420317642487486,0.05064356228974694,0.05050536792120639,0.050677643124325156,0.0506199334171319,0.05062323143998801,0.0506156903911788,0.050618608894718954,0.05033419332410405,0.05037800882913796,0.05052405165713379,0.05058308968193311,0.050275383010894265,0.0504978838002945,0.050247230268032336,0.05037203139991078,0.050537126097570495,0.05064034017075401,0.050696577343001106,0.05060416818474452,0.0505839777571326,0.05041761166976425,0.05034261485772644,0.05041448063540705,0.05050075676151674,0.05024663821789943,0.050712141430150896,0.050744833224032365,0.05069504788015757,0.0506086920549915,0.05066839044340066,0.050643755844598154,0.05058250142699333,0.05064555856134921,0.050514366324189056,0.05061827871291408,0.05067565444310924,0.05064037432749246,0.0506621018083343,0.050640742461228995,0.05062162227808815,0.05047209166757826,0.050521042068957786,0.05040028281779507,0.05068765863907485,0.05034626203835341,0.05067072448719412,0.05067243232411629,0.05064583181525673,0.050642643853002205,0.05073154245758554,0.05063755829416759,0.0504987604899146,0.050564432512357815,0.05058206877497291,0.05060079046283203,0.050582125702870386,0.050581947328791885,0.05054753631240878,0.050633262135510275,0.050555730134441576,0.0501824425255954,0.05064038950826505,0.05058828530136932,0.05017687877242254,0.050576827613218835,0.050641607765269506,0.05066357434328047,0.05050511743845782,0.05055601097873539,0.0504305570736335,0.05059783400736024,0.05065629895799246,0.05067565444310919,0.050255902284403416,0.050475765414557144,0.050633163460488156,0.05062241926865178,0.05058846367544782,0.05035997786643416,0.05064980158730213,0.050603504025941534,0.05068346495063278,0.05069395486452744,0.050660557164718074,0.05067662601255811,0.05062560723090628,0.05069020900887841,0.05060969778117889,0.050662815304648376,0.05067326347141824,0.050618802449570066,0.05060246414301565,0.04820617918169621,0.0490266126534782,0.05053703880812783,0.050656204078163354,0.05070167049222203,0.050627440309202625,0.05055827291385886,0.05065533497892977,0.050700531934273985,0.050412992919688315,0.05052325846176335,0.05060167094764512,0.05053958917793153,0.05061075664007068,0.05067140762196295,0.050678443910081826,0.0506738175696196,0.05065905047303349,0.050559513942022266,0.05063547473312265,0.05062420300943701,0.050673085097339796,0.05068568513863146,0.05068659978018307,0.05067655769908129,0.050698133372196745,0.05067085352376152,0.050555714953668986,0.05036222462078506,0.05071672222829518,0.050711397572291456,0.05072470351951089],\"type\":\"scatter\",\"xaxis\":\"x8\",\"yaxis\":\"y8\"}],                        {\"template\":{\"data\":{\"histogram2dcontour\":[{\"type\":\"histogram2dcontour\",\"colorbar\":{\"outlinewidth\":0,\"ticks\":\"\"},\"colorscale\":[[0.0,\"#0d0887\"],[0.1111111111111111,\"#46039f\"],[0.2222222222222222,\"#7201a8\"],[0.3333333333333333,\"#9c179e\"],[0.4444444444444444,\"#bd3786\"],[0.5555555555555556,\"#d8576b\"],[0.6666666666666666,\"#ed7953\"],[0.7777777777777778,\"#fb9f3a\"],[0.8888888888888888,\"#fdca26\"],[1.0,\"#f0f921\"]]}],\"choropleth\":[{\"type\":\"choropleth\",\"colorbar\":{\"outlinewidth\":0,\"ticks\":\"\"}}],\"histogram2d\":[{\"type\":\"histogram2d\",\"colorbar\":{\"outlinewidth\":0,\"ticks\":\"\"},\"colorscale\":[[0.0,\"#0d0887\"],[0.1111111111111111,\"#46039f\"],[0.2222222222222222,\"#7201a8\"],[0.3333333333333333,\"#9c179e\"],[0.4444444444444444,\"#bd3786\"],[0.5555555555555556,\"#d8576b\"],[0.6666666666666666,\"#ed7953\"],[0.7777777777777778,\"#fb9f3a\"],[0.8888888888888888,\"#fdca26\"],[1.0,\"#f0f921\"]]}],\"heatmap\":[{\"type\":\"heatmap\",\"colorbar\":{\"outlinewidth\":0,\"ticks\":\"\"},\"colorscale\":[[0.0,\"#0d0887\"],[0.1111111111111111,\"#46039f\"],[0.2222222222222222,\"#7201a8\"],[0.3333333333333333,\"#9c179e\"],[0.4444444444444444,\"#bd3786\"],[0.5555555555555556,\"#d8576b\"],[0.6666666666666666,\"#ed7953\"],[0.7777777777777778,\"#fb9f3a\"],[0.8888888888888888,\"#fdca26\"],[1.0,\"#f0f921\"]]}],\"heatmapgl\":[{\"type\":\"heatmapgl\",\"colorbar\":{\"outlinewidth\":0,\"ticks\":\"\"},\"colorscale\":[[0.0,\"#0d0887\"],[0.1111111111111111,\"#46039f\"],[0.2222222222222222,\"#7201a8\"],[0.3333333333333333,\"#9c179e\"],[0.4444444444444444,\"#bd3786\"],[0.5555555555555556,\"#d8576b\"],[0.6666666666666666,\"#ed7953\"],[0.7777777777777778,\"#fb9f3a\"],[0.8888888888888888,\"#fdca26\"],[1.0,\"#f0f921\"]]}],\"contourcarpet\":[{\"type\":\"contourcarpet\",\"colorbar\":{\"outlinewidth\":0,\"ticks\":\"\"}}],\"contour\":[{\"type\":\"contour\",\"colorbar\":{\"outlinewidth\":0,\"ticks\":\"\"},\"colorscale\":[[0.0,\"#0d0887\"],[0.1111111111111111,\"#46039f\"],[0.2222222222222222,\"#7201a8\"],[0.3333333333333333,\"#9c179e\"],[0.4444444444444444,\"#bd3786\"],[0.5555555555555556,\"#d8576b\"],[0.6666666666666666,\"#ed7953\"],[0.7777777777777778,\"#fb9f3a\"],[0.8888888888888888,\"#fdca26\"],[1.0,\"#f0f921\"]]}],\"surface\":[{\"type\":\"surface\",\"colorbar\":{\"outlinewidth\":0,\"ticks\":\"\"},\"colorscale\":[[0.0,\"#0d0887\"],[0.1111111111111111,\"#46039f\"],[0.2222222222222222,\"#7201a8\"],[0.3333333333333333,\"#9c179e\"],[0.4444444444444444,\"#bd3786\"],[0.5555555555555556,\"#d8576b\"],[0.6666666666666666,\"#ed7953\"],[0.7777777777777778,\"#fb9f3a\"],[0.8888888888888888,\"#fdca26\"],[1.0,\"#f0f921\"]]}],\"mesh3d\":[{\"type\":\"mesh3d\",\"colorbar\":{\"outlinewidth\":0,\"ticks\":\"\"}}],\"scatter\":[{\"fillpattern\":{\"fillmode\":\"overlay\",\"size\":10,\"solidity\":0.2},\"type\":\"scatter\"}],\"parcoords\":[{\"type\":\"parcoords\",\"line\":{\"colorbar\":{\"outlinewidth\":0,\"ticks\":\"\"}}}],\"scatterpolargl\":[{\"type\":\"scatterpolargl\",\"marker\":{\"colorbar\":{\"outlinewidth\":0,\"ticks\":\"\"}}}],\"bar\":[{\"error_x\":{\"color\":\"#2a3f5f\"},\"error_y\":{\"color\":\"#2a3f5f\"},\"marker\":{\"line\":{\"color\":\"#E5ECF6\",\"width\":0.5},\"pattern\":{\"fillmode\":\"overlay\",\"size\":10,\"solidity\":0.2}},\"type\":\"bar\"}],\"scattergeo\":[{\"type\":\"scattergeo\",\"marker\":{\"colorbar\":{\"outlinewidth\":0,\"ticks\":\"\"}}}],\"scatterpolar\":[{\"type\":\"scatterpolar\",\"marker\":{\"colorbar\":{\"outlinewidth\":0,\"ticks\":\"\"}}}],\"histogram\":[{\"marker\":{\"pattern\":{\"fillmode\":\"overlay\",\"size\":10,\"solidity\":0.2}},\"type\":\"histogram\"}],\"scattergl\":[{\"type\":\"scattergl\",\"marker\":{\"colorbar\":{\"outlinewidth\":0,\"ticks\":\"\"}}}],\"scatter3d\":[{\"type\":\"scatter3d\",\"line\":{\"colorbar\":{\"outlinewidth\":0,\"ticks\":\"\"}},\"marker\":{\"colorbar\":{\"outlinewidth\":0,\"ticks\":\"\"}}}],\"scattermapbox\":[{\"type\":\"scattermapbox\",\"marker\":{\"colorbar\":{\"outlinewidth\":0,\"ticks\":\"\"}}}],\"scatterternary\":[{\"type\":\"scatterternary\",\"marker\":{\"colorbar\":{\"outlinewidth\":0,\"ticks\":\"\"}}}],\"scattercarpet\":[{\"type\":\"scattercarpet\",\"marker\":{\"colorbar\":{\"outlinewidth\":0,\"ticks\":\"\"}}}],\"carpet\":[{\"aaxis\":{\"endlinecolor\":\"#2a3f5f\",\"gridcolor\":\"white\",\"linecolor\":\"white\",\"minorgridcolor\":\"white\",\"startlinecolor\":\"#2a3f5f\"},\"baxis\":{\"endlinecolor\":\"#2a3f5f\",\"gridcolor\":\"white\",\"linecolor\":\"white\",\"minorgridcolor\":\"white\",\"startlinecolor\":\"#2a3f5f\"},\"type\":\"carpet\"}],\"table\":[{\"cells\":{\"fill\":{\"color\":\"#EBF0F8\"},\"line\":{\"color\":\"white\"}},\"header\":{\"fill\":{\"color\":\"#C8D4E3\"},\"line\":{\"color\":\"white\"}},\"type\":\"table\"}],\"barpolar\":[{\"marker\":{\"line\":{\"color\":\"#E5ECF6\",\"width\":0.5},\"pattern\":{\"fillmode\":\"overlay\",\"size\":10,\"solidity\":0.2}},\"type\":\"barpolar\"}],\"pie\":[{\"automargin\":true,\"type\":\"pie\"}]},\"layout\":{\"autotypenumbers\":\"strict\",\"colorway\":[\"#636efa\",\"#EF553B\",\"#00cc96\",\"#ab63fa\",\"#FFA15A\",\"#19d3f3\",\"#FF6692\",\"#B6E880\",\"#FF97FF\",\"#FECB52\"],\"font\":{\"color\":\"#2a3f5f\"},\"hovermode\":\"closest\",\"hoverlabel\":{\"align\":\"left\"},\"paper_bgcolor\":\"white\",\"plot_bgcolor\":\"#E5ECF6\",\"polar\":{\"bgcolor\":\"#E5ECF6\",\"angularaxis\":{\"gridcolor\":\"white\",\"linecolor\":\"white\",\"ticks\":\"\"},\"radialaxis\":{\"gridcolor\":\"white\",\"linecolor\":\"white\",\"ticks\":\"\"}},\"ternary\":{\"bgcolor\":\"#E5ECF6\",\"aaxis\":{\"gridcolor\":\"white\",\"linecolor\":\"white\",\"ticks\":\"\"},\"baxis\":{\"gridcolor\":\"white\",\"linecolor\":\"white\",\"ticks\":\"\"},\"caxis\":{\"gridcolor\":\"white\",\"linecolor\":\"white\",\"ticks\":\"\"}},\"coloraxis\":{\"colorbar\":{\"outlinewidth\":0,\"ticks\":\"\"}},\"colorscale\":{\"sequential\":[[0.0,\"#0d0887\"],[0.1111111111111111,\"#46039f\"],[0.2222222222222222,\"#7201a8\"],[0.3333333333333333,\"#9c179e\"],[0.4444444444444444,\"#bd3786\"],[0.5555555555555556,\"#d8576b\"],[0.6666666666666666,\"#ed7953\"],[0.7777777777777778,\"#fb9f3a\"],[0.8888888888888888,\"#fdca26\"],[1.0,\"#f0f921\"]],\"sequentialminus\":[[0.0,\"#0d0887\"],[0.1111111111111111,\"#46039f\"],[0.2222222222222222,\"#7201a8\"],[0.3333333333333333,\"#9c179e\"],[0.4444444444444444,\"#bd3786\"],[0.5555555555555556,\"#d8576b\"],[0.6666666666666666,\"#ed7953\"],[0.7777777777777778,\"#fb9f3a\"],[0.8888888888888888,\"#fdca26\"],[1.0,\"#f0f921\"]],\"diverging\":[[0,\"#8e0152\"],[0.1,\"#c51b7d\"],[0.2,\"#de77ae\"],[0.3,\"#f1b6da\"],[0.4,\"#fde0ef\"],[0.5,\"#f7f7f7\"],[0.6,\"#e6f5d0\"],[0.7,\"#b8e186\"],[0.8,\"#7fbc41\"],[0.9,\"#4d9221\"],[1,\"#276419\"]]},\"xaxis\":{\"gridcolor\":\"white\",\"linecolor\":\"white\",\"ticks\":\"\",\"title\":{\"standoff\":15},\"zerolinecolor\":\"white\",\"automargin\":true,\"zerolinewidth\":2},\"yaxis\":{\"gridcolor\":\"white\",\"linecolor\":\"white\",\"ticks\":\"\",\"title\":{\"standoff\":15},\"zerolinecolor\":\"white\",\"automargin\":true,\"zerolinewidth\":2},\"scene\":{\"xaxis\":{\"backgroundcolor\":\"#E5ECF6\",\"gridcolor\":\"white\",\"linecolor\":\"white\",\"showbackground\":true,\"ticks\":\"\",\"zerolinecolor\":\"white\",\"gridwidth\":2},\"yaxis\":{\"backgroundcolor\":\"#E5ECF6\",\"gridcolor\":\"white\",\"linecolor\":\"white\",\"showbackground\":true,\"ticks\":\"\",\"zerolinecolor\":\"white\",\"gridwidth\":2},\"zaxis\":{\"backgroundcolor\":\"#E5ECF6\",\"gridcolor\":\"white\",\"linecolor\":\"white\",\"showbackground\":true,\"ticks\":\"\",\"zerolinecolor\":\"white\",\"gridwidth\":2}},\"shapedefaults\":{\"line\":{\"color\":\"#2a3f5f\"}},\"annotationdefaults\":{\"arrowcolor\":\"#2a3f5f\",\"arrowhead\":0,\"arrowwidth\":1},\"geo\":{\"bgcolor\":\"white\",\"landcolor\":\"#E5ECF6\",\"subunitcolor\":\"white\",\"showland\":true,\"showlakes\":true,\"lakecolor\":\"white\"},\"title\":{\"x\":0.05},\"mapbox\":{\"style\":\"light\"}}},\"xaxis\":{\"anchor\":\"y\",\"domain\":[0.0,0.103125],\"title\":{\"text\":\"ease_r\"},\"type\":\"log\"},\"yaxis\":{\"anchor\":\"x\",\"domain\":[0.0,1.0],\"title\":{\"text\":\"Objective Value\"}},\"xaxis2\":{\"anchor\":\"y2\",\"domain\":[0.128125,0.23124999999999998],\"title\":{\"text\":\"item_knn\"},\"type\":\"log\"},\"yaxis2\":{\"anchor\":\"x2\",\"domain\":[0.0,1.0],\"matches\":\"y\",\"showticklabels\":false},\"xaxis3\":{\"anchor\":\"y3\",\"domain\":[0.25625,0.359375],\"title\":{\"text\":\"nmf\"},\"type\":\"log\"},\"yaxis3\":{\"anchor\":\"x3\",\"domain\":[0.0,1.0],\"matches\":\"y\",\"showticklabels\":false},\"xaxis4\":{\"anchor\":\"y4\",\"domain\":[0.38437499999999997,0.48749999999999993],\"title\":{\"text\":\"p3alpha\"},\"type\":\"log\"},\"yaxis4\":{\"anchor\":\"x4\",\"domain\":[0.0,1.0],\"matches\":\"y\",\"showticklabels\":false},\"xaxis5\":{\"anchor\":\"y5\",\"domain\":[0.5125,0.615625],\"title\":{\"text\":\"rp3\"},\"type\":\"log\"},\"yaxis5\":{\"anchor\":\"x5\",\"domain\":[0.0,1.0],\"matches\":\"y\",\"showticklabels\":false},\"xaxis6\":{\"anchor\":\"y6\",\"domain\":[0.640625,0.74375],\"title\":{\"text\":\"slim_bpr\"},\"type\":\"log\"},\"yaxis6\":{\"anchor\":\"x6\",\"domain\":[0.0,1.0],\"matches\":\"y\",\"showticklabels\":false},\"xaxis7\":{\"anchor\":\"y7\",\"domain\":[0.76875,0.8718750000000001],\"title\":{\"text\":\"svd_item\"},\"type\":\"log\"},\"yaxis7\":{\"anchor\":\"x7\",\"domain\":[0.0,1.0],\"matches\":\"y\",\"showticklabels\":false},\"xaxis8\":{\"anchor\":\"y8\",\"domain\":[0.8968750000000001,1.0],\"title\":{\"text\":\"user_knn\"},\"type\":\"log\"},\"yaxis8\":{\"anchor\":\"x8\",\"domain\":[0.0,1.0],\"matches\":\"y\",\"showticklabels\":false},\"title\":{\"text\":\"Slice Plot\"},\"width\":2400},                        {\"responsive\": true}                    ).then(function(){\n",
       "                            \n",
       "var gd = document.getElementById('66cef591-fd97-47a2-a0fd-cf1fb7527868');\n",
       "var x = new MutationObserver(function (mutations, observer) {{\n",
       "        var display = window.getComputedStyle(gd).display;\n",
       "        if (!display || display === 'none') {{\n",
       "            console.log([gd, 'removed!']);\n",
       "            Plotly.purge(gd);\n",
       "            observer.disconnect();\n",
       "        }}\n",
       "}});\n",
       "\n",
       "// Listen for the removal of the full notebook cells\n",
       "var notebookContainer = gd.closest('#notebook-container');\n",
       "if (notebookContainer) {{\n",
       "    x.observe(notebookContainer, {childList: true});\n",
       "}}\n",
       "\n",
       "// Listen for the clearing of the current output cell\n",
       "var outputEl = gd.closest('.output');\n",
       "if (outputEl) {{\n",
       "    x.observe(outputEl, {childList: true});\n",
       "}}\n",
       "\n",
       "                        })                };                });            </script>        </div>"
      ]
     },
     "metadata": {},
     "output_type": "display_data"
    }
   ],
   "source": [
    "if config['tune_parameters']:\n",
    "    fig = optuna.visualization.plot_slice(study)\n",
    "    fig.show()"
   ]
  },
  {
   "cell_type": "code",
   "execution_count": 30,
   "id": "77147c65",
   "metadata": {
    "execution": {
     "iopub.execute_input": "2023-12-01T19:11:27.949612Z",
     "iopub.status.busy": "2023-12-01T19:11:27.948834Z",
     "iopub.status.idle": "2023-12-01T19:11:29.097676Z",
     "shell.execute_reply": "2023-12-01T19:11:29.096553Z"
    },
    "papermill": {
     "duration": 1.213084,
     "end_time": "2023-12-01T19:11:29.100465",
     "exception": false,
     "start_time": "2023-12-01T19:11:27.887381",
     "status": "completed"
    },
    "tags": []
   },
   "outputs": [],
   "source": [
    "if config['tune_parameters']:\n",
    "    with open('/kaggle/working/best_params_hybrid_lr_comb_8models.json', 'w') as params_file:\n",
    "        json.dump(study.best_params, params_file)\n",
    "        \n",
    "    if config['save_github']: \n",
    "        upload_file(\n",
    "            '/kaggle/working/best_params_hybrid_lr_comb_8models.json', \n",
    "            'tuning_results/best_params_hybrid_lr_comb_8models.json', \n",
    "            'Linear combination of 8 models tuning results (from kaggle notebook)'\n",
    "        )\n",
    "    \n",
    "elif config['copy_prev_best_params']:\n",
    "    shutil.copyfile(\n",
    "        '/kaggle/input/linear-combination/best_params_hybrid_lr_comb_8models.json', \n",
    "        '/kaggle/working/best_params_hybrid_lr_comb_8models.json'\n",
    "    )"
   ]
  },
  {
   "cell_type": "code",
   "execution_count": 31,
   "id": "7d96ff2e",
   "metadata": {
    "execution": {
     "iopub.execute_input": "2023-12-01T19:11:29.224148Z",
     "iopub.status.busy": "2023-12-01T19:11:29.223724Z",
     "iopub.status.idle": "2023-12-01T19:11:31.240870Z",
     "shell.execute_reply": "2023-12-01T19:11:31.239798Z"
    },
    "papermill": {
     "duration": 2.082568,
     "end_time": "2023-12-01T19:11:31.243938",
     "exception": false,
     "start_time": "2023-12-01T19:11:29.161370",
     "status": "completed"
    },
    "tags": []
   },
   "outputs": [],
   "source": [
    "if config['save_github'] and config['tune_parameters']:\n",
    "    upload_file(\n",
    "        config['database_path'],\n",
    "        'tuning_results/tuning_hybrid_merging.db', \n",
    "        'Linear combination of Item KNN, RP3 and P3alpha tuning db updated results (from kaggle notebook)'\n",
    "    )"
   ]
  },
  {
   "cell_type": "code",
   "execution_count": 32,
   "id": "60e47c6d",
   "metadata": {
    "execution": {
     "iopub.execute_input": "2023-12-01T19:11:31.369077Z",
     "iopub.status.busy": "2023-12-01T19:11:31.368668Z",
     "iopub.status.idle": "2023-12-01T19:11:31.376807Z",
     "shell.execute_reply": "2023-12-01T19:11:31.375819Z"
    },
    "papermill": {
     "duration": 0.073442,
     "end_time": "2023-12-01T19:11:31.379163",
     "exception": false,
     "start_time": "2023-12-01T19:11:31.305721",
     "status": "completed"
    },
    "tags": []
   },
   "outputs": [
    {
     "data": {
      "text/plain": [
       "{'item_knn': 0.050774640152222925,\n",
       " 'rp3': 0.35730087685145995,\n",
       " 'p3alpha': 0.18757329883116283,\n",
       " 'ease_r': 0.0013286016102773412,\n",
       " 'user_knn': 0.0036521844735514794,\n",
       " 'svd_item': 0.0033963853363314905,\n",
       " 'nmf': 0.0017799916269743072,\n",
       " 'slim_bpr': 6.43751837916623e-05}"
      ]
     },
     "execution_count": 32,
     "metadata": {},
     "output_type": "execute_result"
    }
   ],
   "source": [
    "with open('/kaggle/working/best_params_hybrid_lr_comb_8models.json', 'r') as params_file:\n",
    "    params = json.load(params_file)\n",
    "params"
   ]
  },
  {
   "cell_type": "code",
   "execution_count": 33,
   "id": "08aa2ad9",
   "metadata": {
    "execution": {
     "iopub.execute_input": "2023-12-01T19:11:31.502749Z",
     "iopub.status.busy": "2023-12-01T19:11:31.501794Z",
     "iopub.status.idle": "2023-12-01T19:12:42.813344Z",
     "shell.execute_reply": "2023-12-01T19:12:42.812350Z"
    },
    "papermill": {
     "duration": 71.376272,
     "end_time": "2023-12-01T19:12:42.815781",
     "exception": false,
     "start_time": "2023-12-01T19:11:31.439509",
     "status": "completed"
    },
    "tags": []
   },
   "outputs": [
    {
     "name": "stdout",
     "output_type": "stream",
     "text": [
      "ItemKNNCFRecommender: URM Detected 386 ( 3.0%) users with no interactions.\n",
      "ItemKNNCFRecommender: URM Detected 125 ( 0.6%) items with no interactions.\n",
      "Similarity column 22347 (100.0%), 4279.61 column/sec. Elapsed time 5.22 sec\n",
      "UserKNNCFRecommender: URM Detected 386 ( 3.0%) users with no interactions.\n",
      "UserKNNCFRecommender: URM Detected 125 ( 0.6%) items with no interactions.\n",
      "Similarity column 13024 (100.0%), 4106.46 column/sec. Elapsed time 3.17 sec\n",
      "RP3betaRecommender: URM Detected 386 ( 3.0%) users with no interactions.\n",
      "RP3betaRecommender: URM Detected 125 ( 0.6%) items with no interactions.\n",
      "RP3betaRecommender: Similarity column 22347 (100.0%), 2449.63 column/sec. Elapsed time 9.12 sec\n",
      "P3alphaRecommender: URM Detected 386 ( 3.0%) users with no interactions.\n",
      "P3alphaRecommender: URM Detected 125 ( 0.6%) items with no interactions.\n",
      "P3alphaRecommender: Similarity column 22347 (100.0%), 2750.64 column/sec. Elapsed time 8.12 sec\n",
      "PureSVDRecommender: URM Detected 386 ( 3.0%) users with no interactions.\n",
      "PureSVDRecommender: URM Detected 125 ( 0.6%) items with no interactions.\n",
      "PureSVDRecommender: Computing SVD decomposition...\n",
      "PureSVDRecommender: Computing SVD decomposition... done in 0.59 sec\n",
      "PureSVDItemRecommender: URM Detected 386 ( 3.0%) users with no interactions.\n",
      "PureSVDItemRecommender: URM Detected 125 ( 0.6%) items with no interactions.\n",
      "PureSVDItemRecommender: Computing SVD decomposition...\n",
      "PureSVDItemRecommender: Computing SVD decomposition... Done!\n",
      "NMFRecommender: URM Detected 386 ( 3.0%) users with no interactions.\n",
      "NMFRecommender: URM Detected 125 ( 0.6%) items with no interactions.\n",
      "NMFRecommender: Loading model from file '/kaggle/working/Recsys_Challenge_2023/models/nmf_all.zip'\n",
      "NMFRecommender: Loading complete\n",
      "Recommender_Base_Class: URM Detected 386 ( 3.0%) users with no interactions.\n",
      "Recommender_Base_Class: URM Detected 125 ( 0.6%) items with no interactions.\n",
      "Recommender_Base_Class: Loading model from file '/kaggle/working/Recsys_Challenge_2023/models/slim_bpr_all.zip'\n",
      "Recommender_Base_Class: Loading complete\n",
      "EASE_R_Recommender: URM Detected 386 ( 3.0%) users with no interactions.\n",
      "EASE_R_Recommender: URM Detected 125 ( 0.6%) items with no interactions.\n",
      "EASE_R_Recommender: Loading model from file '/kaggle/working/Recsys_Challenge_2023/models/ease_r_all.zip'\n",
      "EASE_R_Recommender: Loading complete\n"
     ]
    }
   ],
   "source": [
    "recommender_item = ItemKNNCFRecommender(URM_all)\n",
    "recommender_item.fit(**params_item_knn)\n",
    "\n",
    "recommender_user = UserKNNCFRecommender(URM_all)\n",
    "recommender_user.fit(**params_user_knn)\n",
    "\n",
    "recommender_rp3 = RP3betaRecommender(URM_all)\n",
    "recommender_rp3.fit(**params_rp3)\n",
    "\n",
    "recommender_p3a = P3alphaRecommender(URM_all)\n",
    "recommender_p3a.fit(**params_p3alpha)\n",
    "\n",
    "recommender_pure_svd = PureSVDRecommender(URM_all)\n",
    "recommender_pure_svd.fit(num_factors=params_pure_svd['factors'])\n",
    "\n",
    "recommender_pure_svd_item = PureSVDItemRecommender(URM_all)\n",
    "recommender_pure_svd_item.fit(**params_pure_svd_item)\n",
    "\n",
    "recommender_nmf = NMFRecommender(URM_all)\n",
    "recommender_nmf.load_model('/kaggle/working/Recsys_Challenge_2023/models/', 'nmf_all.zip')\n",
    "\n",
    "recommender_slim_bpr = SLIM_BPR_Python(URM_all)\n",
    "recommender_slim_bpr.load_model('/kaggle/working/Recsys_Challenge_2023/models/', 'slim_bpr_all.zip')\n",
    "\n",
    "recommender_ease_r = EASE_R_Recommender(URM_all)\n",
    "recommender_ease_r.load_model('/kaggle/working/Recsys_Challenge_2023/models/', 'ease_r_all.zip')"
   ]
  },
  {
   "cell_type": "code",
   "execution_count": 34,
   "id": "25d41800",
   "metadata": {
    "execution": {
     "iopub.execute_input": "2023-12-01T19:12:42.942005Z",
     "iopub.status.busy": "2023-12-01T19:12:42.941206Z",
     "iopub.status.idle": "2023-12-01T19:12:42.947914Z",
     "shell.execute_reply": "2023-12-01T19:12:42.947013Z"
    },
    "papermill": {
     "duration": 0.072272,
     "end_time": "2023-12-01T19:12:42.950384",
     "exception": false,
     "start_time": "2023-12-01T19:12:42.878112",
     "status": "completed"
    },
    "tags": []
   },
   "outputs": [],
   "source": [
    "weights = [\n",
    "    params['item_knn'],\n",
    "    params['rp3'],\n",
    "    params['p3alpha'],\n",
    "    params['ease_r'],\n",
    "    params['user_knn'],\n",
    "    params['svd_item'],\n",
    "    params['nmf'],\n",
    "    params['slim_bpr']\n",
    "]\n",
    "\n",
    "recommenders = [\n",
    "    recommender_item, recommender_rp3, recommender_p3a, recommender_ease_r, \n",
    "    recommender_user, recommender_pure_svd_item, recommender_nmf, recommender_slim_bpr\n",
    "]"
   ]
  },
  {
   "cell_type": "code",
   "execution_count": 35,
   "id": "03a6e9ed",
   "metadata": {
    "execution": {
     "iopub.execute_input": "2023-12-01T19:12:43.075588Z",
     "iopub.status.busy": "2023-12-01T19:12:43.075164Z",
     "iopub.status.idle": "2023-12-01T19:14:08.011424Z",
     "shell.execute_reply": "2023-12-01T19:14:08.009964Z"
    },
    "papermill": {
     "duration": 85.016575,
     "end_time": "2023-12-01T19:14:08.028642",
     "exception": false,
     "start_time": "2023-12-01T19:12:43.012067",
     "status": "completed"
    },
    "tags": []
   },
   "outputs": [
    {
     "name": "stdout",
     "output_type": "stream",
     "text": [
      "Recommender_Base_Class: URM Detected 386 ( 3.0%) users with no interactions.\n",
      "Recommender_Base_Class: URM Detected 125 ( 0.6%) items with no interactions.\n"
     ]
    },
    {
     "data": {
      "text/html": [
       "<div>\n",
       "<style scoped>\n",
       "    .dataframe tbody tr th:only-of-type {\n",
       "        vertical-align: middle;\n",
       "    }\n",
       "\n",
       "    .dataframe tbody tr th {\n",
       "        vertical-align: top;\n",
       "    }\n",
       "\n",
       "    .dataframe thead th {\n",
       "        text-align: right;\n",
       "    }\n",
       "</style>\n",
       "<table border=\"1\" class=\"dataframe\">\n",
       "  <thead>\n",
       "    <tr style=\"text-align: right;\">\n",
       "      <th></th>\n",
       "      <th>user_id</th>\n",
       "      <th>item_list</th>\n",
       "    </tr>\n",
       "  </thead>\n",
       "  <tbody>\n",
       "    <tr>\n",
       "      <th>0</th>\n",
       "      <td>1</td>\n",
       "      <td>36 101 403 506 123 515 694 254 139 1546</td>\n",
       "    </tr>\n",
       "    <tr>\n",
       "      <th>1</th>\n",
       "      <td>2</td>\n",
       "      <td>1095 47 28 11 50 12 1522 196 102 656</td>\n",
       "    </tr>\n",
       "    <tr>\n",
       "      <th>2</th>\n",
       "      <td>3</td>\n",
       "      <td>59 259 239 584 536 857 956 511 648 414</td>\n",
       "    </tr>\n",
       "    <tr>\n",
       "      <th>3</th>\n",
       "      <td>4</td>\n",
       "      <td>28 249 50 139 7 254 171 639 314 129</td>\n",
       "    </tr>\n",
       "    <tr>\n",
       "      <th>4</th>\n",
       "      <td>5</td>\n",
       "      <td>1570 77 5138 116 131 148 4 95 7033 766</td>\n",
       "    </tr>\n",
       "  </tbody>\n",
       "</table>\n",
       "</div>"
      ],
      "text/plain": [
       "   user_id                                item_list\n",
       "0        1  36 101 403 506 123 515 694 254 139 1546\n",
       "1        2     1095 47 28 11 50 12 1522 196 102 656\n",
       "2        3   59 259 239 584 536 857 956 511 648 414\n",
       "3        4      28 249 50 139 7 254 171 639 314 129\n",
       "4        5   1570 77 5138 116 131 148 4 95 7033 766"
      ]
     },
     "metadata": {},
     "output_type": "display_data"
    }
   ],
   "source": [
    "linear_combinator = LinearCombinationRecommender(URM_all, recommenders, weights)\n",
    "recommendations = linear_combinator.recommend(user_ids_test['user_id'].unique() - 1, cutoff=10, return_scores=False)\n",
    "recommendations = [' '.join([str(item + 1) for item in r]).strip() for r in recommendations]\n",
    "\n",
    "submission_df = pd.DataFrame({'user_id': user_ids_test['user_id'].unique(), 'item_list': recommendations})\n",
    "display(submission_df.head())\n",
    "\n",
    "submission_df.to_csv('/kaggle/working/submission_linear_comb_knn_rp3_p3a.csv', index=False)"
   ]
  }
 ],
 "metadata": {
  "kaggle": {
   "accelerator": "none",
   "dataSources": [
    {
     "databundleVersionId": 6919098,
     "sourceId": 62803,
     "sourceType": "competition"
    }
   ],
   "dockerImageVersionId": 30587,
   "isGpuEnabled": false,
   "isInternetEnabled": true,
   "language": "python",
   "sourceType": "notebook"
  },
  "kernelspec": {
   "display_name": "Python 3",
   "language": "python",
   "name": "python3"
  },
  "language_info": {
   "codemirror_mode": {
    "name": "ipython",
    "version": 3
   },
   "file_extension": ".py",
   "mimetype": "text/x-python",
   "name": "python",
   "nbconvert_exporter": "python",
   "pygments_lexer": "ipython3",
   "version": "3.10.12"
  },
  "papermill": {
   "default_parameters": {},
   "duration": 4438.756727,
   "end_time": "2023-12-01T19:14:10.578580",
   "environment_variables": {},
   "exception": null,
   "input_path": "__notebook__.ipynb",
   "output_path": "__notebook__.ipynb",
   "parameters": {},
   "start_time": "2023-12-01T18:00:11.821853",
   "version": "2.4.0"
  }
 },
 "nbformat": 4,
 "nbformat_minor": 5
}
