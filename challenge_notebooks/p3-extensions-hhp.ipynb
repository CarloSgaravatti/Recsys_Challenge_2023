{
 "cells": [
  {
   "cell_type": "code",
   "execution_count": 1,
   "id": "3b5e8968",
   "metadata": {
    "execution": {
     "iopub.execute_input": "2023-12-24T18:39:22.126193Z",
     "iopub.status.busy": "2023-12-24T18:39:22.125768Z",
     "iopub.status.idle": "2023-12-24T18:42:49.019517Z",
     "shell.execute_reply": "2023-12-24T18:42:49.017770Z"
    },
    "papermill": {
     "duration": 206.908412,
     "end_time": "2023-12-24T18:42:49.022357",
     "exception": false,
     "start_time": "2023-12-24T18:39:22.113945",
     "status": "completed"
    },
    "tags": []
   },
   "outputs": [
    {
     "name": "stdout",
     "output_type": "stream",
     "text": [
      "Cloning into 'Recsys_Challenge_2023'...\r\n",
      "remote: Enumerating objects: 5898, done.\u001b[K\r\n",
      "remote: Counting objects: 100% (1087/1087), done.\u001b[K\r\n",
      "remote: Compressing objects: 100% (201/201), done.\u001b[K\r\n",
      "remote: Total 5898 (delta 922), reused 1033 (delta 879), pack-reused 4811\u001b[K\r\n",
      "Receiving objects: 100% (5898/5898), 2.94 GiB | 16.11 MiB/s, done.\r\n",
      "Resolving deltas: 100% (4748/4748), done.\r\n",
      "Updating files: 100% (496/496), done.\r\n"
     ]
    }
   ],
   "source": [
    "from kaggle_secrets import UserSecretsClient\n",
    "secret_label = \"Token\"\n",
    "token = UserSecretsClient().get_secret(secret_label)\n",
    "\n",
    "! git clone https://{token}@github.com/CarloSgaravatti/Recsys_Challenge_2023.git"
   ]
  },
  {
   "cell_type": "code",
   "execution_count": 2,
   "id": "8661fffa",
   "metadata": {
    "execution": {
     "iopub.execute_input": "2023-12-24T18:42:49.096543Z",
     "iopub.status.busy": "2023-12-24T18:42:49.096105Z",
     "iopub.status.idle": "2023-12-24T18:43:07.527624Z",
     "shell.execute_reply": "2023-12-24T18:43:07.526489Z"
    },
    "papermill": {
     "duration": 18.471562,
     "end_time": "2023-12-24T18:43:07.530528",
     "exception": false,
     "start_time": "2023-12-24T18:42:49.058966",
     "status": "completed"
    },
    "tags": []
   },
   "outputs": [
    {
     "name": "stdout",
     "output_type": "stream",
     "text": [
      "Collecting PyGithub\r\n",
      "  Obtaining dependency information for PyGithub from https://files.pythonhosted.org/packages/be/04/810d131be173cba445d3658a45512b2b2b3d0960d52c4a300d6ec5e00f52/PyGithub-2.1.1-py3-none-any.whl.metadata\r\n",
      "  Downloading PyGithub-2.1.1-py3-none-any.whl.metadata (2.2 kB)\r\n",
      "Requirement already satisfied: requests in /opt/conda/lib/python3.10/site-packages (2.31.0)\r\n",
      "Collecting pynacl>=1.4.0 (from PyGithub)\r\n",
      "  Downloading PyNaCl-1.5.0-cp36-abi3-manylinux_2_17_x86_64.manylinux2014_x86_64.manylinux_2_24_x86_64.whl (856 kB)\r\n",
      "\u001b[2K     \u001b[90m━━━━━━━━━━━━━━━━━━━━━━━━━━━━━━━━━━━━━━\u001b[0m \u001b[32m856.7/856.7 kB\u001b[0m \u001b[31m11.3 MB/s\u001b[0m eta \u001b[36m0:00:00\u001b[0m\r\n",
      "\u001b[?25hRequirement already satisfied: python-dateutil in /opt/conda/lib/python3.10/site-packages (from PyGithub) (2.8.2)\r\n",
      "Requirement already satisfied: pyjwt[crypto]>=2.4.0 in /opt/conda/lib/python3.10/site-packages (from PyGithub) (2.8.0)\r\n",
      "Requirement already satisfied: typing-extensions>=4.0.0 in /opt/conda/lib/python3.10/site-packages (from PyGithub) (4.5.0)\r\n",
      "Requirement already satisfied: urllib3>=1.26.0 in /opt/conda/lib/python3.10/site-packages (from PyGithub) (1.26.15)\r\n",
      "Requirement already satisfied: Deprecated in /opt/conda/lib/python3.10/site-packages (from PyGithub) (1.2.14)\r\n",
      "Requirement already satisfied: charset-normalizer<4,>=2 in /opt/conda/lib/python3.10/site-packages (from requests) (3.2.0)\r\n",
      "Requirement already satisfied: idna<4,>=2.5 in /opt/conda/lib/python3.10/site-packages (from requests) (3.4)\r\n",
      "Requirement already satisfied: certifi>=2017.4.17 in /opt/conda/lib/python3.10/site-packages (from requests) (2023.7.22)\r\n",
      "Requirement already satisfied: cryptography>=3.4.0 in /opt/conda/lib/python3.10/site-packages (from pyjwt[crypto]>=2.4.0->PyGithub) (41.0.3)\r\n",
      "Requirement already satisfied: cffi>=1.4.1 in /opt/conda/lib/python3.10/site-packages (from pynacl>=1.4.0->PyGithub) (1.15.1)\r\n",
      "Requirement already satisfied: wrapt<2,>=1.10 in /opt/conda/lib/python3.10/site-packages (from Deprecated->PyGithub) (1.15.0)\r\n",
      "Requirement already satisfied: six>=1.5 in /opt/conda/lib/python3.10/site-packages (from python-dateutil->PyGithub) (1.16.0)\r\n",
      "Requirement already satisfied: pycparser in /opt/conda/lib/python3.10/site-packages (from cffi>=1.4.1->pynacl>=1.4.0->PyGithub) (2.21)\r\n",
      "Downloading PyGithub-2.1.1-py3-none-any.whl (302 kB)\r\n",
      "\u001b[2K   \u001b[90m━━━━━━━━━━━━━━━━━━━━━━━━━━━━━━━━━━━━━━━━\u001b[0m \u001b[32m302.9/302.9 kB\u001b[0m \u001b[31m22.7 MB/s\u001b[0m eta \u001b[36m0:00:00\u001b[0m\r\n",
      "\u001b[?25hInstalling collected packages: pynacl, PyGithub\r\n",
      "Successfully installed PyGithub-2.1.1 pynacl-1.5.0\r\n"
     ]
    }
   ],
   "source": [
    "! pip install PyGithub requests"
   ]
  },
  {
   "cell_type": "code",
   "execution_count": 3,
   "id": "06510942",
   "metadata": {
    "_kg_hide-output": true,
    "execution": {
     "iopub.execute_input": "2023-12-24T18:43:07.606631Z",
     "iopub.status.busy": "2023-12-24T18:43:07.606144Z",
     "iopub.status.idle": "2023-12-24T18:43:07.611749Z",
     "shell.execute_reply": "2023-12-24T18:43:07.610692Z"
    },
    "papermill": {
     "duration": 0.046033,
     "end_time": "2023-12-24T18:43:07.614238",
     "exception": false,
     "start_time": "2023-12-24T18:43:07.568205",
     "status": "completed"
    },
    "scrolled": true,
    "tags": []
   },
   "outputs": [],
   "source": [
    "# ! cd /kaggle/working/Recsys_Challenge_2023 && python run_compile_all_cython.py"
   ]
  },
  {
   "cell_type": "code",
   "execution_count": 4,
   "id": "a1f75abc",
   "metadata": {
    "execution": {
     "iopub.execute_input": "2023-12-24T18:43:07.688585Z",
     "iopub.status.busy": "2023-12-24T18:43:07.688178Z",
     "iopub.status.idle": "2023-12-24T18:43:11.302778Z",
     "shell.execute_reply": "2023-12-24T18:43:11.301535Z"
    },
    "papermill": {
     "duration": 3.65456,
     "end_time": "2023-12-24T18:43:11.305066",
     "exception": false,
     "start_time": "2023-12-24T18:43:07.650506",
     "status": "completed"
    },
    "tags": []
   },
   "outputs": [
    {
     "name": "stdout",
     "output_type": "stream",
     "text": [
      "/kaggle/input/recommender-system-2023-challenge-polimi/data_train.csv\n",
      "/kaggle/input/recommender-system-2023-challenge-polimi/data_target_users_test.csv\n"
     ]
    }
   ],
   "source": [
    "import numpy as np\n",
    "import pandas as pd\n",
    "import matplotlib.pyplot as plt\n",
    "import seaborn as sns\n",
    "import joblib\n",
    "import json\n",
    "import random\n",
    "import tqdm\n",
    "import gc\n",
    "import time\n",
    "import os\n",
    "import shutil\n",
    "import optuna\n",
    "import scipy.sparse as sps\n",
    "\n",
    "for dirname, _, filenames in os.walk('/kaggle/input'):\n",
    "    for filename in filenames:\n",
    "        print(os.path.join(dirname, filename))"
   ]
  },
  {
   "cell_type": "code",
   "execution_count": 5,
   "id": "8ca8318f",
   "metadata": {
    "execution": {
     "iopub.execute_input": "2023-12-24T18:43:11.381301Z",
     "iopub.status.busy": "2023-12-24T18:43:11.380680Z",
     "iopub.status.idle": "2023-12-24T18:43:11.388020Z",
     "shell.execute_reply": "2023-12-24T18:43:11.386879Z"
    },
    "papermill": {
     "duration": 0.047764,
     "end_time": "2023-12-24T18:43:11.390137",
     "exception": false,
     "start_time": "2023-12-24T18:43:11.342373",
     "status": "completed"
    },
    "tags": []
   },
   "outputs": [
    {
     "name": "stdout",
     "output_type": "stream",
     "text": [
      "/kaggle/working/Recsys_Challenge_2023\n"
     ]
    }
   ],
   "source": [
    "%cd /kaggle/working/Recsys_Challenge_2023"
   ]
  },
  {
   "cell_type": "code",
   "execution_count": 6,
   "id": "38086b26",
   "metadata": {
    "execution": {
     "iopub.execute_input": "2023-12-24T18:43:11.467114Z",
     "iopub.status.busy": "2023-12-24T18:43:11.466042Z",
     "iopub.status.idle": "2023-12-24T18:43:28.180277Z",
     "shell.execute_reply": "2023-12-24T18:43:28.179106Z"
    },
    "papermill": {
     "duration": 16.756104,
     "end_time": "2023-12-24T18:43:28.182886",
     "exception": false,
     "start_time": "2023-12-24T18:43:11.426782",
     "status": "completed"
    },
    "tags": []
   },
   "outputs": [],
   "source": [
    "from Recommenders.KNN.UserKNNCFRecommender import UserKNNCFRecommender\n",
    "from Data_manager.split_functions.split_train_validation_random_holdout import split_train_in_two_percentage_global_sample\n",
    "from Recommenders.SLIM.SLIMElasticNetRecommender import MultiThreadSLIM_SLIMElasticNetRecommender\n",
    "from Evaluation.Evaluator import EvaluatorHoldout\n",
    "from Recommenders.MatrixFactorization.IALSRecommender import IALSRecommender\n",
    "from Recommenders.MatrixFactorization.PureSVDRecommender import PureSVDRecommender\n",
    "from Recommenders.Neural.MultVAERecommender import MultVAERecommender\n",
    "from Recommenders.KNN.ItemKNNCFRecommender import ItemKNNCFRecommender\n",
    "from Recommenders.KNN.UserKNNCFRecommender import UserKNNCFRecommender\n",
    "from Recommenders.MatrixFactorization.Cython.MatrixFactorization_Cython import MatrixFactorization_BPR_Cython, MatrixFactorization_SVDpp_Cython, MatrixFactorization_AsySVD_Cython, MatrixFactorization_WARP_Cython\n",
    "from Recommenders.MatrixFactorization.PyTorch.MF_MSE_PyTorch import MF_MSE_PyTorch\n",
    "from Recommenders.BaseMatrixFactorizationRecommender import BaseMatrixFactorizationRecommender\n",
    "from Recommenders.Incremental_Training_Early_Stopping import Incremental_Training_Early_Stopping\n",
    "\n",
    "np.int = int\n",
    "np.random.seed(42)\n",
    "np.bool = bool\n",
    "np.float = float"
   ]
  },
  {
   "cell_type": "code",
   "execution_count": 7,
   "id": "8df66596",
   "metadata": {
    "execution": {
     "iopub.execute_input": "2023-12-24T18:43:28.262341Z",
     "iopub.status.busy": "2023-12-24T18:43:28.261566Z",
     "iopub.status.idle": "2023-12-24T18:43:29.017619Z",
     "shell.execute_reply": "2023-12-24T18:43:29.016382Z"
    },
    "papermill": {
     "duration": 0.796203,
     "end_time": "2023-12-24T18:43:29.019997",
     "exception": false,
     "start_time": "2023-12-24T18:43:28.223794",
     "status": "completed"
    },
    "tags": []
   },
   "outputs": [
    {
     "name": "stdout",
     "output_type": "stream",
     "text": [
      "Repository found\n"
     ]
    }
   ],
   "source": [
    "from github import Github\n",
    "from github import Auth\n",
    "\n",
    "auth = Auth.Token(token)\n",
    "g = Github(auth=auth)\n",
    "\n",
    "repo = None\n",
    "for r in g.get_user().get_repos():\n",
    "    if r.name == 'Recsys_Challenge_2023':\n",
    "        repo = r\n",
    "        print('Repository found')"
   ]
  },
  {
   "cell_type": "code",
   "execution_count": 8,
   "id": "7cc0df26",
   "metadata": {
    "execution": {
     "iopub.execute_input": "2023-12-24T18:43:29.096384Z",
     "iopub.status.busy": "2023-12-24T18:43:29.095973Z",
     "iopub.status.idle": "2023-12-24T18:43:29.102613Z",
     "shell.execute_reply": "2023-12-24T18:43:29.101435Z"
    },
    "papermill": {
     "duration": 0.047499,
     "end_time": "2023-12-24T18:43:29.104853",
     "exception": false,
     "start_time": "2023-12-24T18:43:29.057354",
     "status": "completed"
    },
    "tags": []
   },
   "outputs": [],
   "source": [
    "def upload_file(filepath_kaggle, filepath_github, commit_message):\n",
    "    try:\n",
    "        contents = repo.get_contents(filepath_github)\n",
    "        with open(filepath_kaggle, \"rb\") as file:\n",
    "            repo.update_file(contents.path, commit_message, file.read(), contents.sha)\n",
    "    except Exception:\n",
    "        with open(filepath_kaggle, \"rb\") as file:\n",
    "            repo.create_file(filepath_github, commit_message, file.read())"
   ]
  },
  {
   "cell_type": "code",
   "execution_count": 9,
   "id": "90e2f73c",
   "metadata": {
    "execution": {
     "iopub.execute_input": "2023-12-24T18:43:29.244786Z",
     "iopub.status.busy": "2023-12-24T18:43:29.243990Z",
     "iopub.status.idle": "2023-12-24T18:43:29.249523Z",
     "shell.execute_reply": "2023-12-24T18:43:29.248452Z"
    },
    "papermill": {
     "duration": 0.046127,
     "end_time": "2023-12-24T18:43:29.251889",
     "exception": false,
     "start_time": "2023-12-24T18:43:29.205762",
     "status": "completed"
    },
    "tags": []
   },
   "outputs": [],
   "source": [
    "config = {\n",
    "    'tune_parameters': True,\n",
    "    'database_path': '/kaggle/working/tuning_hhp.db',\n",
    "    'copy_prev_best_params': False,\n",
    "    'save_github': True\n",
    "}"
   ]
  },
  {
   "cell_type": "code",
   "execution_count": 10,
   "id": "4d9724c7",
   "metadata": {
    "execution": {
     "iopub.execute_input": "2023-12-24T18:43:29.328685Z",
     "iopub.status.busy": "2023-12-24T18:43:29.328288Z",
     "iopub.status.idle": "2023-12-24T18:43:29.333919Z",
     "shell.execute_reply": "2023-12-24T18:43:29.332862Z"
    },
    "papermill": {
     "duration": 0.047123,
     "end_time": "2023-12-24T18:43:29.336278",
     "exception": false,
     "start_time": "2023-12-24T18:43:29.289155",
     "status": "completed"
    },
    "tags": []
   },
   "outputs": [],
   "source": [
    "try:\n",
    "    shutil.copyfile(\n",
    "        '/kaggle/working/Recsys_Challenge_2023/tuning_results/tuning_hhp.db', \n",
    "        config['database_path']\n",
    "    )\n",
    "except FileNotFoundError:\n",
    "    pass # if not present optuna will create it"
   ]
  },
  {
   "cell_type": "code",
   "execution_count": 11,
   "id": "8d108211",
   "metadata": {
    "execution": {
     "iopub.execute_input": "2023-12-24T18:43:29.412182Z",
     "iopub.status.busy": "2023-12-24T18:43:29.411762Z",
     "iopub.status.idle": "2023-12-24T18:43:29.685876Z",
     "shell.execute_reply": "2023-12-24T18:43:29.684590Z"
    },
    "papermill": {
     "duration": 0.314817,
     "end_time": "2023-12-24T18:43:29.688533",
     "exception": false,
     "start_time": "2023-12-24T18:43:29.373716",
     "status": "completed"
    },
    "tags": []
   },
   "outputs": [],
   "source": [
    "train_data = pd.read_csv('/kaggle/input/recommender-system-2023-challenge-polimi/data_train.csv')\n",
    "user_ids_test = pd.read_csv('/kaggle/input/recommender-system-2023-challenge-polimi/data_target_users_test.csv')"
   ]
  },
  {
   "cell_type": "code",
   "execution_count": 12,
   "id": "d5845485",
   "metadata": {
    "execution": {
     "iopub.execute_input": "2023-12-24T18:43:29.765691Z",
     "iopub.status.busy": "2023-12-24T18:43:29.764693Z",
     "iopub.status.idle": "2023-12-24T18:43:29.803248Z",
     "shell.execute_reply": "2023-12-24T18:43:29.802149Z"
    },
    "papermill": {
     "duration": 0.079257,
     "end_time": "2023-12-24T18:43:29.805569",
     "exception": false,
     "start_time": "2023-12-24T18:43:29.726312",
     "status": "completed"
    },
    "tags": []
   },
   "outputs": [
    {
     "data": {
      "text/plain": [
       "<13024x22347 sparse matrix of type '<class 'numpy.float64'>'\n",
       "\twith 478730 stored elements in Compressed Sparse Row format>"
      ]
     },
     "execution_count": 12,
     "metadata": {},
     "output_type": "execute_result"
    }
   ],
   "source": [
    "URM_all = sps.csr_matrix((train_data.data.values,\n",
    "                          ((train_data.row - 1).values, (train_data.col - 1).values)),\n",
    "                        shape=(train_data.row.max(), train_data.col.max()))\n",
    "URM_all"
   ]
  },
  {
   "cell_type": "code",
   "execution_count": 13,
   "id": "9e878584",
   "metadata": {
    "execution": {
     "iopub.execute_input": "2023-12-24T18:43:29.882247Z",
     "iopub.status.busy": "2023-12-24T18:43:29.881071Z",
     "iopub.status.idle": "2023-12-24T18:43:31.485804Z",
     "shell.execute_reply": "2023-12-24T18:43:31.484592Z"
    },
    "papermill": {
     "duration": 1.64586,
     "end_time": "2023-12-24T18:43:31.488394",
     "exception": false,
     "start_time": "2023-12-24T18:43:29.842534",
     "status": "completed"
    },
    "tags": []
   },
   "outputs": [
    {
     "name": "stdout",
     "output_type": "stream",
     "text": [
      "Warning: 627 (4.81 %) of 13024 users have no train items\n",
      "Warning: 2568 (19.72 %) of 13024 users have no sampled items\n",
      "Warning: 2953 (22.67 %) of 13024 users have no train items\n",
      "Warning: 6367 (48.89 %) of 13024 users have no sampled items\n"
     ]
    }
   ],
   "source": [
    "URM_train, URM_test_complete = split_train_in_two_percentage_global_sample(URM_all, train_percentage = 0.8)\n",
    "URM_validation, URM_test = split_train_in_two_percentage_global_sample(URM_test_complete, train_percentage = 0.8)"
   ]
  },
  {
   "cell_type": "markdown",
   "id": "71c71d3a",
   "metadata": {
    "papermill": {
     "duration": 0.03773,
     "end_time": "2023-12-24T18:43:31.563876",
     "exception": false,
     "start_time": "2023-12-24T18:43:31.526146",
     "status": "completed"
    },
    "tags": []
   },
   "source": [
    "Original Paper for HHP: https://arxiv.org/pdf/0808.2670.pdf\n",
    "\n",
    "https://arxiv.org/pdf/2004.10393.pdf"
   ]
  },
  {
   "cell_type": "code",
   "execution_count": 14,
   "id": "58572df8",
   "metadata": {
    "execution": {
     "iopub.execute_input": "2023-12-24T18:43:31.641064Z",
     "iopub.status.busy": "2023-12-24T18:43:31.640686Z",
     "iopub.status.idle": "2023-12-24T18:43:31.667855Z",
     "shell.execute_reply": "2023-12-24T18:43:31.666801Z"
    },
    "papermill": {
     "duration": 0.068978,
     "end_time": "2023-12-24T18:43:31.670303",
     "exception": false,
     "start_time": "2023-12-24T18:43:31.601325",
     "status": "completed"
    },
    "tags": []
   },
   "outputs": [],
   "source": [
    "import numpy as np\n",
    "import scipy.sparse as sps\n",
    "\n",
    "from sklearn.preprocessing import normalize\n",
    "from Recommenders.Recommender_utils import check_matrix, similarityMatrixTopK\n",
    "from Utils.seconds_to_biggest_unit import seconds_to_biggest_unit\n",
    "\n",
    "from Recommenders.BaseSimilarityMatrixRecommender import BaseItemSimilarityMatrixRecommender\n",
    "from Recommenders.Similarity.Compute_Similarity_Python import Incremental_Similarity_Builder\n",
    "import time, sys\n",
    "\n",
    "\n",
    "class HHPRecommender(BaseItemSimilarityMatrixRecommender):\n",
    "    '''\n",
    "    HHP (Hybrid HeatS - ProbS) is an hybrid of ProbS (also called P3) and HeatS that uses lambda\n",
    "    to weight the two contributions. While ProbS implements a random walk with 3 steps, HeatS uses the\n",
    "    out degree of the neighboring objects.\n",
    "    \n",
    "    Original Paper: https://arxiv.org/pdf/0808.2670.pdf\n",
    "    '''\n",
    "    \n",
    "    RECOMMENDER_NAME = \"HHPRecommender\"\n",
    "    \n",
    "    def __init__(self, URM_train):\n",
    "        super(HHPRecommender, self).__init__(URM_train)\n",
    "        \n",
    "    def fit(self, hybrid_lambda=0.5, topK=100, min_rating=0, implicit=False, normalize_similarity=True):\n",
    "        \n",
    "        self.hybrid_lambda = hybrid_lambda\n",
    "        self.topK = topK\n",
    "        self.min_rating = min_rating\n",
    "        self.implicit = implicit\n",
    "        self.normalize_similarity = normalize_similarity\n",
    "\n",
    "        if self.min_rating > 0:\n",
    "            self.URM_train.data[self.URM_train.data < self.min_rating] = 0\n",
    "            self.URM_train.eliminate_zeros()\n",
    "            if self.implicit:\n",
    "                self.URM_train.data = np.ones(self.URM_train.data.size, dtype=np.float32)\n",
    "                \n",
    "        k_u = np.ediff1d(sps.csr_matrix(self.URM_train).indptr) # user out degree\n",
    "        k_i = np.ediff1d(sps.csc_matrix(self.URM_train).indptr) # item out degree\n",
    "        heatS_contribution = (1 / (np.float_power(k_i, 1 - self.hybrid_lambda) + 1e-6)).reshape(1, -1)\n",
    "        \n",
    "        Pui = normalize(self.URM_train, norm='l1', axis=1)\n",
    "        \n",
    "        X_bool = self.URM_train.transpose(copy=True)\n",
    "        X_bool.data = np.ones(X_bool.data.size, np.float32)\n",
    "        Piu_lambda = X_bool.multiply((1 / (np.float_power(k_i, self.hybrid_lambda) + 1e-6)).reshape(-1, 1))\n",
    "        Piu_lambda = Piu_lambda.tocsr()\n",
    "\n",
    "        # Multiplication unpacked for memory usage reasons\n",
    "        block_dim = 200\n",
    "        d_t = Piu_lambda\n",
    "\n",
    "        similarity_builder = Incremental_Similarity_Builder(Pui.shape[1], initial_data_block=Pui.shape[1]*self.topK, dtype = np.float32)\n",
    "\n",
    "        start_time = time.time()\n",
    "        start_time_printBatch = start_time\n",
    "\n",
    "        for current_block_start_row in range(0, Pui.shape[1], block_dim):\n",
    "\n",
    "            if current_block_start_row + block_dim > Pui.shape[1]:\n",
    "                block_dim = Pui.shape[1] - current_block_start_row\n",
    "\n",
    "            similarity_block = d_t[current_block_start_row:current_block_start_row + block_dim, :] * Pui\n",
    "            similarity_block = similarity_block.multiply(heatS_contribution).toarray()\n",
    "\n",
    "            for row_in_block in range(block_dim):\n",
    "                row_data = similarity_block[row_in_block, :]\n",
    "                row_data[current_block_start_row + row_in_block] = 0\n",
    "\n",
    "                relevant_items_partition = np.argpartition(-row_data, self.topK-1, axis=0)[:self.topK]\n",
    "                row_data = row_data[relevant_items_partition]\n",
    "\n",
    "                # Incrementally build sparse matrix, do not add zeros\n",
    "                if np.any(row_data == 0.0):\n",
    "                    non_zero_mask = row_data != 0.0\n",
    "                    relevant_items_partition = relevant_items_partition[non_zero_mask]\n",
    "                    row_data = row_data[non_zero_mask]\n",
    "\n",
    "                similarity_builder.add_data_lists(row_list_to_add=np.ones(len(row_data), dtype = np.int) * (current_block_start_row + row_in_block),\n",
    "                                                  col_list_to_add=relevant_items_partition,\n",
    "                                                  data_list_to_add=row_data)\n",
    "\n",
    "\n",
    "            if time.time() - start_time_printBatch > 300 or current_block_start_row + block_dim == Pui.shape[1]:\n",
    "                new_time_value, new_time_unit = seconds_to_biggest_unit(time.time() - start_time)\n",
    "\n",
    "                self._print(\"Similarity column {} ({:4.1f}%), {:.2f} column/sec. Elapsed time {:.2f} {}\".format(\n",
    "                     current_block_start_row + block_dim,\n",
    "                    100.0 * float( current_block_start_row + block_dim) / Pui.shape[1],\n",
    "                    float( current_block_start_row + block_dim) / (time.time() - start_time),\n",
    "                    new_time_value, new_time_unit))\n",
    "\n",
    "                sys.stdout.flush()\n",
    "                sys.stderr.flush()\n",
    "\n",
    "                start_time_printBatch = time.time()\n",
    "\n",
    "        self.W_sparse = similarity_builder.get_SparseMatrix()\n",
    "\n",
    "        if self.normalize_similarity:\n",
    "            self.W_sparse = normalize(self.W_sparse, norm='l1', axis=1)\n",
    "\n",
    "        if self.topK != False:\n",
    "            self.W_sparse = similarityMatrixTopK(self.W_sparse, k=self.topK)\n",
    "\n",
    "        self.W_sparse = check_matrix(self.W_sparse, format='csr')"
   ]
  },
  {
   "cell_type": "code",
   "execution_count": 15,
   "id": "d34dfe71",
   "metadata": {
    "execution": {
     "iopub.execute_input": "2023-12-24T18:43:31.747146Z",
     "iopub.status.busy": "2023-12-24T18:43:31.746468Z",
     "iopub.status.idle": "2023-12-24T18:44:04.390162Z",
     "shell.execute_reply": "2023-12-24T18:44:04.389226Z"
    },
    "papermill": {
     "duration": 32.685593,
     "end_time": "2023-12-24T18:44:04.393336",
     "exception": false,
     "start_time": "2023-12-24T18:43:31.707743",
     "status": "completed"
    },
    "tags": []
   },
   "outputs": [
    {
     "name": "stdout",
     "output_type": "stream",
     "text": [
      "EvaluatorHoldout: Ignoring 2568 (19.7%) Users that have less than 1 test interactions\n",
      "HHPRecommender: URM Detected 627 ( 4.8%) users with no interactions.\n",
      "HHPRecommender: URM Detected 247 ( 1.1%) items with no interactions.\n",
      "HHPRecommender: Similarity column 22347 (100.0%), 1290.31 column/sec. Elapsed time 17.32 sec\n",
      "EvaluatorHoldout: Processed 10456 (100.0%) in 10.07 sec. Users per second: 1038\n"
     ]
    },
    {
     "data": {
      "text/html": [
       "<div>\n",
       "<style scoped>\n",
       "    .dataframe tbody tr th:only-of-type {\n",
       "        vertical-align: middle;\n",
       "    }\n",
       "\n",
       "    .dataframe tbody tr th {\n",
       "        vertical-align: top;\n",
       "    }\n",
       "\n",
       "    .dataframe thead th {\n",
       "        text-align: right;\n",
       "    }\n",
       "</style>\n",
       "<table border=\"1\" class=\"dataframe\">\n",
       "  <thead>\n",
       "    <tr style=\"text-align: right;\">\n",
       "      <th></th>\n",
       "      <th>PRECISION</th>\n",
       "      <th>PRECISION_RECALL_MIN_DEN</th>\n",
       "      <th>RECALL</th>\n",
       "      <th>MAP</th>\n",
       "      <th>MAP_MIN_DEN</th>\n",
       "      <th>MRR</th>\n",
       "      <th>NDCG</th>\n",
       "      <th>F1</th>\n",
       "      <th>HIT_RATE</th>\n",
       "      <th>ARHR_ALL_HITS</th>\n",
       "      <th>...</th>\n",
       "      <th>COVERAGE_USER</th>\n",
       "      <th>COVERAGE_USER_HIT</th>\n",
       "      <th>USERS_IN_GT</th>\n",
       "      <th>DIVERSITY_GINI</th>\n",
       "      <th>SHANNON_ENTROPY</th>\n",
       "      <th>RATIO_DIVERSITY_HERFINDAHL</th>\n",
       "      <th>RATIO_DIVERSITY_GINI</th>\n",
       "      <th>RATIO_SHANNON_ENTROPY</th>\n",
       "      <th>RATIO_AVERAGE_POPULARITY</th>\n",
       "      <th>RATIO_NOVELTY</th>\n",
       "    </tr>\n",
       "    <tr>\n",
       "      <th>cutoff</th>\n",
       "      <th></th>\n",
       "      <th></th>\n",
       "      <th></th>\n",
       "      <th></th>\n",
       "      <th></th>\n",
       "      <th></th>\n",
       "      <th></th>\n",
       "      <th></th>\n",
       "      <th></th>\n",
       "      <th></th>\n",
       "      <th></th>\n",
       "      <th></th>\n",
       "      <th></th>\n",
       "      <th></th>\n",
       "      <th></th>\n",
       "      <th></th>\n",
       "      <th></th>\n",
       "      <th></th>\n",
       "      <th></th>\n",
       "      <th></th>\n",
       "      <th></th>\n",
       "    </tr>\n",
       "  </thead>\n",
       "  <tbody>\n",
       "    <tr>\n",
       "      <th>10</th>\n",
       "      <td>0.067617</td>\n",
       "      <td>0.116007</td>\n",
       "      <td>0.097321</td>\n",
       "      <td>0.031643</td>\n",
       "      <td>0.053116</td>\n",
       "      <td>0.18698</td>\n",
       "      <td>0.101992</td>\n",
       "      <td>0.079794</td>\n",
       "      <td>0.406465</td>\n",
       "      <td>0.240777</td>\n",
       "      <td>...</td>\n",
       "      <td>0.802826</td>\n",
       "      <td>0.326321</td>\n",
       "      <td>0.802826</td>\n",
       "      <td>0.157907</td>\n",
       "      <td>11.583063</td>\n",
       "      <td>0.998681</td>\n",
       "      <td>0.455625</td>\n",
       "      <td>0.892314</td>\n",
       "      <td>1.227963</td>\n",
       "      <td>0.355584</td>\n",
       "    </tr>\n",
       "  </tbody>\n",
       "</table>\n",
       "<p>1 rows × 27 columns</p>\n",
       "</div>"
      ],
      "text/plain": [
       "       PRECISION PRECISION_RECALL_MIN_DEN    RECALL       MAP MAP_MIN_DEN  \\\n",
       "cutoff                                                                      \n",
       "10      0.067617                 0.116007  0.097321  0.031643    0.053116   \n",
       "\n",
       "            MRR      NDCG        F1  HIT_RATE ARHR_ALL_HITS  ...  \\\n",
       "cutoff                                                       ...   \n",
       "10      0.18698  0.101992  0.079794  0.406465      0.240777  ...   \n",
       "\n",
       "       COVERAGE_USER COVERAGE_USER_HIT USERS_IN_GT DIVERSITY_GINI  \\\n",
       "cutoff                                                              \n",
       "10          0.802826          0.326321    0.802826       0.157907   \n",
       "\n",
       "       SHANNON_ENTROPY RATIO_DIVERSITY_HERFINDAHL RATIO_DIVERSITY_GINI  \\\n",
       "cutoff                                                                   \n",
       "10           11.583063                   0.998681             0.455625   \n",
       "\n",
       "       RATIO_SHANNON_ENTROPY RATIO_AVERAGE_POPULARITY RATIO_NOVELTY  \n",
       "cutoff                                                               \n",
       "10                  0.892314                 1.227963      0.355584  \n",
       "\n",
       "[1 rows x 27 columns]"
      ]
     },
     "execution_count": 15,
     "metadata": {},
     "output_type": "execute_result"
    }
   ],
   "source": [
    "evaluator = EvaluatorHoldout(URM_test_complete, cutoff_list=[10]) \n",
    "\n",
    "recommender = HHPRecommender(URM_train)\n",
    "recommender.fit()\n",
    "result_df, _ = evaluator.evaluateRecommender(recommender)\n",
    "result_df"
   ]
  },
  {
   "cell_type": "code",
   "execution_count": 16,
   "id": "c9bd8ef5",
   "metadata": {
    "execution": {
     "iopub.execute_input": "2023-12-24T18:44:04.473528Z",
     "iopub.status.busy": "2023-12-24T18:44:04.472488Z",
     "iopub.status.idle": "2023-12-24T18:44:04.479166Z",
     "shell.execute_reply": "2023-12-24T18:44:04.478185Z"
    },
    "papermill": {
     "duration": 0.049637,
     "end_time": "2023-12-24T18:44:04.481306",
     "exception": false,
     "start_time": "2023-12-24T18:44:04.431669",
     "status": "completed"
    },
    "tags": []
   },
   "outputs": [],
   "source": [
    "def objective_function_hhp(trial):\n",
    "\n",
    "    recommender_instance = HHPRecommender(URM_train)\n",
    "    recommender_instance.fit(\n",
    "        hybrid_lambda = trial.suggest_float('hybrid_lambda', 0.01, 0.99),\n",
    "        topK = trial.suggest_int('topK', 5, 2000, log=True)\n",
    "    ) \n",
    "        \n",
    "    result_df, _ = evaluator.evaluateRecommender(recommender_instance)\n",
    "    \n",
    "    return result_df.loc[10, \"MAP\"]"
   ]
  },
  {
   "cell_type": "code",
   "execution_count": 17,
   "id": "086e0677",
   "metadata": {
    "_kg_hide-output": true,
    "execution": {
     "iopub.execute_input": "2023-12-24T18:44:04.559521Z",
     "iopub.status.busy": "2023-12-24T18:44:04.559105Z",
     "iopub.status.idle": "2023-12-24T20:08:25.931114Z",
     "shell.execute_reply": "2023-12-24T20:08:25.929914Z"
    },
    "papermill": {
     "duration": 5061.48845,
     "end_time": "2023-12-24T20:08:26.008489",
     "exception": false,
     "start_time": "2023-12-24T18:44:04.520039",
     "status": "completed"
    },
    "scrolled": true,
    "tags": []
   },
   "outputs": [
    {
     "name": "stderr",
     "output_type": "stream",
     "text": [
      "[I 2023-12-24 18:44:04,964] Using an existing study with name 'tuning_fixed' instead of creating a new one.\n"
     ]
    },
    {
     "name": "stdout",
     "output_type": "stream",
     "text": [
      "HHPRecommender: URM Detected 627 ( 4.8%) users with no interactions.\n",
      "HHPRecommender: URM Detected 247 ( 1.1%) items with no interactions.\n",
      "HHPRecommender: Similarity column 22347 (100.0%), 1469.46 column/sec. Elapsed time 15.21 sec\n",
      "EvaluatorHoldout: Processed 10456 (100.0%) in 9.19 sec. Users per second: 1138\n"
     ]
    },
    {
     "name": "stderr",
     "output_type": "stream",
     "text": [
      "[I 2023-12-24 18:44:32,630] Trial 200 finished with value: 0.0419194568926785 and parameters: {'hybrid_lambda': 0.8704105953069718, 'topK': 67}. Best is trial 115 with value: 0.04199775552276559.\n"
     ]
    },
    {
     "name": "stdout",
     "output_type": "stream",
     "text": [
      "HHPRecommender: URM Detected 627 ( 4.8%) users with no interactions.\n",
      "HHPRecommender: URM Detected 247 ( 1.1%) items with no interactions.\n",
      "HHPRecommender: Similarity column 22347 (100.0%), 1467.97 column/sec. Elapsed time 15.22 sec\n",
      "EvaluatorHoldout: Processed 10456 (100.0%) in 9.13 sec. Users per second: 1145\n"
     ]
    },
    {
     "name": "stderr",
     "output_type": "stream",
     "text": [
      "[I 2023-12-24 18:44:59,758] Trial 201 finished with value: 0.04187463566145704 and parameters: {'hybrid_lambda': 0.8775115108221528, 'topK': 67}. Best is trial 115 with value: 0.04199775552276559.\n"
     ]
    },
    {
     "name": "stdout",
     "output_type": "stream",
     "text": [
      "HHPRecommender: URM Detected 627 ( 4.8%) users with no interactions.\n",
      "HHPRecommender: URM Detected 247 ( 1.1%) items with no interactions.\n",
      "HHPRecommender: Similarity column 22347 (100.0%), 1910.01 column/sec. Elapsed time 11.70 sec\n",
      "EvaluatorHoldout: Processed 10456 (100.0%) in 8.42 sec. Users per second: 1242\n"
     ]
    },
    {
     "name": "stderr",
     "output_type": "stream",
     "text": [
      "[I 2023-12-24 18:45:20,772] Trial 202 finished with value: 0.028317446654765082 and parameters: {'hybrid_lambda': 0.8577959605746892, 'topK': 5}. Best is trial 115 with value: 0.04199775552276559.\n"
     ]
    },
    {
     "name": "stdout",
     "output_type": "stream",
     "text": [
      "HHPRecommender: URM Detected 627 ( 4.8%) users with no interactions.\n",
      "HHPRecommender: URM Detected 247 ( 1.1%) items with no interactions.\n",
      "HHPRecommender: Similarity column 22347 (100.0%), 2196.55 column/sec. Elapsed time 10.17 sec\n",
      "EvaluatorHoldout: Processed 10456 (100.0%) in 9.05 sec. Users per second: 1155\n"
     ]
    },
    {
     "name": "stderr",
     "output_type": "stream",
     "text": [
      "[I 2023-12-24 18:45:42,324] Trial 203 finished with value: 0.04166879197483681 and parameters: {'hybrid_lambda': 0.8916907576026285, 'topK': 55}. Best is trial 115 with value: 0.04199775552276559.\n"
     ]
    },
    {
     "name": "stdout",
     "output_type": "stream",
     "text": [
      "HHPRecommender: URM Detected 627 ( 4.8%) users with no interactions.\n",
      "HHPRecommender: URM Detected 247 ( 1.1%) items with no interactions.\n",
      "HHPRecommender: Similarity column 22347 (100.0%), 2017.65 column/sec. Elapsed time 11.08 sec\n",
      "EvaluatorHoldout: Processed 10456 (100.0%) in 9.16 sec. Users per second: 1142\n"
     ]
    },
    {
     "name": "stderr",
     "output_type": "stream",
     "text": [
      "[I 2023-12-24 18:46:05,412] Trial 204 finished with value: 0.041996662507135456 and parameters: {'hybrid_lambda': 0.8628564067129768, 'topK': 68}. Best is trial 115 with value: 0.04199775552276559.\n"
     ]
    },
    {
     "name": "stdout",
     "output_type": "stream",
     "text": [
      "HHPRecommender: URM Detected 627 ( 4.8%) users with no interactions.\n",
      "HHPRecommender: URM Detected 247 ( 1.1%) items with no interactions.\n",
      "HHPRecommender: Similarity column 22347 (100.0%), 1695.49 column/sec. Elapsed time 13.18 sec\n",
      "EvaluatorHoldout: Processed 10456 (100.0%) in 9.58 sec. Users per second: 1092\n"
     ]
    },
    {
     "name": "stderr",
     "output_type": "stream",
     "text": [
      "[I 2023-12-24 18:46:32,557] Trial 205 finished with value: 0.041683190937686396 and parameters: {'hybrid_lambda': 0.8212233200646846, 'topK': 66}. Best is trial 115 with value: 0.04199775552276559.\n"
     ]
    },
    {
     "name": "stdout",
     "output_type": "stream",
     "text": [
      "HHPRecommender: URM Detected 627 ( 4.8%) users with no interactions.\n",
      "HHPRecommender: URM Detected 247 ( 1.1%) items with no interactions.\n",
      "HHPRecommender: Similarity column 22347 (100.0%), 2121.80 column/sec. Elapsed time 10.53 sec\n",
      "EvaluatorHoldout: Processed 10456 (100.0%) in 9.31 sec. Users per second: 1122\n"
     ]
    },
    {
     "name": "stderr",
     "output_type": "stream",
     "text": [
      "[I 2023-12-24 18:46:54,988] Trial 206 finished with value: 0.04186189899321185 and parameters: {'hybrid_lambda': 0.8494455660611051, 'topK': 59}. Best is trial 115 with value: 0.04199775552276559.\n"
     ]
    },
    {
     "name": "stdout",
     "output_type": "stream",
     "text": [
      "HHPRecommender: URM Detected 627 ( 4.8%) users with no interactions.\n",
      "HHPRecommender: URM Detected 247 ( 1.1%) items with no interactions.\n",
      "HHPRecommender: Similarity column 22347 (100.0%), 2284.03 column/sec. Elapsed time 9.78 sec\n",
      "EvaluatorHoldout: Processed 10456 (100.0%) in 9.39 sec. Users per second: 1113\n"
     ]
    },
    {
     "name": "stderr",
     "output_type": "stream",
     "text": [
      "[I 2023-12-24 18:47:17,059] Trial 207 finished with value: 0.011657493684798544 and parameters: {'hybrid_lambda': 0.31294887639239943, 'topK': 51}. Best is trial 115 with value: 0.04199775552276559.\n"
     ]
    },
    {
     "name": "stdout",
     "output_type": "stream",
     "text": [
      "HHPRecommender: URM Detected 627 ( 4.8%) users with no interactions.\n",
      "HHPRecommender: URM Detected 247 ( 1.1%) items with no interactions.\n",
      "HHPRecommender: Similarity column 22347 (100.0%), 1995.23 column/sec. Elapsed time 11.20 sec\n",
      "EvaluatorHoldout: Processed 10456 (100.0%) in 9.16 sec. Users per second: 1141\n"
     ]
    },
    {
     "name": "stderr",
     "output_type": "stream",
     "text": [
      "[I 2023-12-24 18:47:40,135] Trial 208 finished with value: 0.04179571082449858 and parameters: {'hybrid_lambda': 0.9078762998093031, 'topK': 68}. Best is trial 115 with value: 0.04199775552276559.\n"
     ]
    },
    {
     "name": "stdout",
     "output_type": "stream",
     "text": [
      "HHPRecommender: URM Detected 627 ( 4.8%) users with no interactions.\n",
      "HHPRecommender: URM Detected 247 ( 1.1%) items with no interactions.\n",
      "HHPRecommender: Similarity column 22347 (100.0%), 2376.23 column/sec. Elapsed time 9.40 sec\n",
      "EvaluatorHoldout: Processed 10456 (100.0%) in 9.16 sec. Users per second: 1141\n"
     ]
    },
    {
     "name": "stderr",
     "output_type": "stream",
     "text": [
      "[I 2023-12-24 18:48:00,703] Trial 209 finished with value: 0.04152953874740462 and parameters: {'hybrid_lambda': 0.8663427658345771, 'topK': 44}. Best is trial 115 with value: 0.04199775552276559.\n"
     ]
    },
    {
     "name": "stdout",
     "output_type": "stream",
     "text": [
      "HHPRecommender: URM Detected 627 ( 4.8%) users with no interactions.\n",
      "HHPRecommender: URM Detected 247 ( 1.1%) items with no interactions.\n",
      "HHPRecommender: Similarity column 22347 (100.0%), 1939.43 column/sec. Elapsed time 11.52 sec\n",
      "EvaluatorHoldout: Processed 10456 (100.0%) in 9.19 sec. Users per second: 1138\n"
     ]
    },
    {
     "name": "stderr",
     "output_type": "stream",
     "text": [
      "[I 2023-12-24 18:48:24,306] Trial 210 finished with value: 0.04180397675520143 and parameters: {'hybrid_lambda': 0.9293059682424731, 'topK': 74}. Best is trial 115 with value: 0.04199775552276559.\n"
     ]
    },
    {
     "name": "stdout",
     "output_type": "stream",
     "text": [
      "HHPRecommender: URM Detected 627 ( 4.8%) users with no interactions.\n",
      "HHPRecommender: URM Detected 247 ( 1.1%) items with no interactions.\n",
      "HHPRecommender: Similarity column 22347 (100.0%), 1861.89 column/sec. Elapsed time 12.00 sec\n",
      "EvaluatorHoldout: Processed 10456 (100.0%) in 9.42 sec. Users per second: 1110\n"
     ]
    },
    {
     "name": "stderr",
     "output_type": "stream",
     "text": [
      "[I 2023-12-24 18:48:49,050] Trial 211 finished with value: 0.04187343258522533 and parameters: {'hybrid_lambda': 0.8720545950463163, 'topK': 83}. Best is trial 115 with value: 0.04199775552276559.\n"
     ]
    },
    {
     "name": "stdout",
     "output_type": "stream",
     "text": [
      "HHPRecommender: URM Detected 627 ( 4.8%) users with no interactions.\n",
      "HHPRecommender: URM Detected 247 ( 1.1%) items with no interactions.\n",
      "HHPRecommender: Similarity column 22347 (100.0%), 2062.23 column/sec. Elapsed time 10.84 sec\n",
      "EvaluatorHoldout: Processed 10456 (100.0%) in 9.17 sec. Users per second: 1141\n"
     ]
    },
    {
     "name": "stderr",
     "output_type": "stream",
     "text": [
      "[I 2023-12-24 18:49:11,602] Trial 212 finished with value: 0.04180376801957771 and parameters: {'hybrid_lambda': 0.8936790617307985, 'topK': 62}. Best is trial 115 with value: 0.04199775552276559.\n"
     ]
    },
    {
     "name": "stdout",
     "output_type": "stream",
     "text": [
      "HHPRecommender: URM Detected 627 ( 4.8%) users with no interactions.\n",
      "HHPRecommender: URM Detected 247 ( 1.1%) items with no interactions.\n",
      "HHPRecommender: Similarity column 22347 (100.0%), 1883.64 column/sec. Elapsed time 11.86 sec\n",
      "EvaluatorHoldout: Processed 10456 (100.0%) in 9.44 sec. Users per second: 1107\n"
     ]
    },
    {
     "name": "stderr",
     "output_type": "stream",
     "text": [
      "[I 2023-12-24 18:49:36,127] Trial 213 finished with value: 0.041651649087332404 and parameters: {'hybrid_lambda': 0.8404078161351688, 'topK': 77}. Best is trial 115 with value: 0.04199775552276559.\n"
     ]
    },
    {
     "name": "stdout",
     "output_type": "stream",
     "text": [
      "HHPRecommender: URM Detected 627 ( 4.8%) users with no interactions.\n",
      "HHPRecommender: URM Detected 247 ( 1.1%) items with no interactions.\n",
      "HHPRecommender: Similarity column 22347 (100.0%), 1737.61 column/sec. Elapsed time 12.86 sec\n",
      "EvaluatorHoldout: Processed 10456 (100.0%) in 8.91 sec. Users per second: 1174\n"
     ]
    },
    {
     "name": "stderr",
     "output_type": "stream",
     "text": [
      "[I 2023-12-24 18:50:01,658] Trial 214 finished with value: 0.04175287447930001 and parameters: {'hybrid_lambda': 0.8623847578342859, 'topK': 96}. Best is trial 115 with value: 0.04199775552276559.\n"
     ]
    },
    {
     "name": "stdout",
     "output_type": "stream",
     "text": [
      "HHPRecommender: URM Detected 627 ( 4.8%) users with no interactions.\n",
      "HHPRecommender: URM Detected 247 ( 1.1%) items with no interactions.\n",
      "HHPRecommender: Similarity column 22347 (100.0%), 2003.95 column/sec. Elapsed time 11.15 sec\n",
      "EvaluatorHoldout: Processed 10456 (100.0%) in 9.23 sec. Users per second: 1133\n"
     ]
    },
    {
     "name": "stderr",
     "output_type": "stream",
     "text": [
      "[I 2023-12-24 18:50:24,860] Trial 215 finished with value: 0.041805286096841685 and parameters: {'hybrid_lambda': 0.8893809155072224, 'topK': 70}. Best is trial 115 with value: 0.04199775552276559.\n"
     ]
    },
    {
     "name": "stdout",
     "output_type": "stream",
     "text": [
      "HHPRecommender: URM Detected 627 ( 4.8%) users with no interactions.\n",
      "HHPRecommender: URM Detected 247 ( 1.1%) items with no interactions.\n",
      "HHPRecommender: Similarity column 22347 (100.0%), 538.69 column/sec. Elapsed time 41.48 sec\n",
      "EvaluatorHoldout: Processed 10456 (100.0%) in 13.43 sec. Users per second: 778\n"
     ]
    },
    {
     "name": "stderr",
     "output_type": "stream",
     "text": [
      "[I 2023-12-24 18:51:45,039] Trial 216 finished with value: 0.03408829592790988 and parameters: {'hybrid_lambda': 0.8099752588516371, 'topK': 1002}. Best is trial 115 with value: 0.04199775552276559.\n"
     ]
    },
    {
     "name": "stdout",
     "output_type": "stream",
     "text": [
      "HHPRecommender: URM Detected 627 ( 4.8%) users with no interactions.\n",
      "HHPRecommender: URM Detected 247 ( 1.1%) items with no interactions.\n",
      "HHPRecommender: Similarity column 22347 (100.0%), 1834.64 column/sec. Elapsed time 12.18 sec\n",
      "EvaluatorHoldout: Processed 10456 (100.0%) in 9.82 sec. Users per second: 1065\n"
     ]
    },
    {
     "name": "stderr",
     "output_type": "stream",
     "text": [
      "[I 2023-12-24 18:52:10,626] Trial 217 finished with value: 0.041600136930569735 and parameters: {'hybrid_lambda': 0.8377561045753082, 'topK': 87}. Best is trial 115 with value: 0.04199775552276559.\n"
     ]
    },
    {
     "name": "stdout",
     "output_type": "stream",
     "text": [
      "HHPRecommender: URM Detected 627 ( 4.8%) users with no interactions.\n",
      "HHPRecommender: URM Detected 247 ( 1.1%) items with no interactions.\n",
      "HHPRecommender: Similarity column 22347 (100.0%), 2131.80 column/sec. Elapsed time 10.48 sec\n",
      "EvaluatorHoldout: Processed 10456 (100.0%) in 9.19 sec. Users per second: 1137\n"
     ]
    },
    {
     "name": "stderr",
     "output_type": "stream",
     "text": [
      "[I 2023-12-24 18:52:32,760] Trial 218 finished with value: 0.041795760162009706 and parameters: {'hybrid_lambda': 0.872368224809991, 'topK': 57}. Best is trial 115 with value: 0.04199775552276559.\n"
     ]
    },
    {
     "name": "stdout",
     "output_type": "stream",
     "text": [
      "HHPRecommender: URM Detected 627 ( 4.8%) users with no interactions.\n",
      "HHPRecommender: URM Detected 247 ( 1.1%) items with no interactions.\n",
      "HHPRecommender: Similarity column 22347 (100.0%), 1969.19 column/sec. Elapsed time 11.35 sec\n",
      "EvaluatorHoldout: Processed 10456 (100.0%) in 9.19 sec. Users per second: 1137\n"
     ]
    },
    {
     "name": "stderr",
     "output_type": "stream",
     "text": [
      "[I 2023-12-24 18:52:56,232] Trial 219 finished with value: 0.0417796837237834 and parameters: {'hybrid_lambda': 0.9163435901906802, 'topK': 77}. Best is trial 115 with value: 0.04199775552276559.\n"
     ]
    },
    {
     "name": "stdout",
     "output_type": "stream",
     "text": [
      "HHPRecommender: URM Detected 627 ( 4.8%) users with no interactions.\n",
      "HHPRecommender: URM Detected 247 ( 1.1%) items with no interactions.\n",
      "HHPRecommender: Similarity column 22347 (100.0%), 2073.12 column/sec. Elapsed time 10.78 sec\n",
      "EvaluatorHoldout: Processed 10456 (100.0%) in 9.38 sec. Users per second: 1114\n"
     ]
    },
    {
     "name": "stderr",
     "output_type": "stream",
     "text": [
      "[I 2023-12-24 18:53:19,354] Trial 220 finished with value: 0.041418855734081855 and parameters: {'hybrid_lambda': 0.7927149688582446, 'topK': 63}. Best is trial 115 with value: 0.04199775552276559.\n"
     ]
    },
    {
     "name": "stdout",
     "output_type": "stream",
     "text": [
      "HHPRecommender: URM Detected 627 ( 4.8%) users with no interactions.\n",
      "HHPRecommender: URM Detected 247 ( 1.1%) items with no interactions.\n",
      "HHPRecommender: Similarity column 22347 (100.0%), 1963.89 column/sec. Elapsed time 11.38 sec\n",
      "EvaluatorHoldout: Processed 10456 (100.0%) in 9.73 sec. Users per second: 1075\n"
     ]
    },
    {
     "name": "stderr",
     "output_type": "stream",
     "text": [
      "[I 2023-12-24 18:53:44,058] Trial 221 finished with value: 0.03951819263793288 and parameters: {'hybrid_lambda': 0.6808886513102694, 'topK': 72}. Best is trial 115 with value: 0.04199775552276559.\n"
     ]
    },
    {
     "name": "stdout",
     "output_type": "stream",
     "text": [
      "HHPRecommender: URM Detected 627 ( 4.8%) users with no interactions.\n",
      "HHPRecommender: URM Detected 247 ( 1.1%) items with no interactions.\n",
      "HHPRecommender: Similarity column 22347 (100.0%), 1922.65 column/sec. Elapsed time 11.62 sec\n",
      "EvaluatorHoldout: Processed 10456 (100.0%) in 9.31 sec. Users per second: 1123\n"
     ]
    },
    {
     "name": "stderr",
     "output_type": "stream",
     "text": [
      "[I 2023-12-24 18:54:08,210] Trial 222 finished with value: 0.04193856948543299 and parameters: {'hybrid_lambda': 0.8914652928657592, 'topK': 82}. Best is trial 115 with value: 0.04199775552276559.\n"
     ]
    },
    {
     "name": "stdout",
     "output_type": "stream",
     "text": [
      "HHPRecommender: URM Detected 627 ( 4.8%) users with no interactions.\n",
      "HHPRecommender: URM Detected 247 ( 1.1%) items with no interactions.\n",
      "HHPRecommender: Similarity column 22347 (100.0%), 1665.28 column/sec. Elapsed time 13.42 sec\n",
      "EvaluatorHoldout: Processed 10456 (100.0%) in 8.89 sec. Users per second: 1176\n"
     ]
    },
    {
     "name": "stderr",
     "output_type": "stream",
     "text": [
      "[I 2023-12-24 18:54:34,392] Trial 223 finished with value: 0.04187997170304033 and parameters: {'hybrid_lambda': 0.8954357042168031, 'topK': 102}. Best is trial 115 with value: 0.04199775552276559.\n"
     ]
    },
    {
     "name": "stdout",
     "output_type": "stream",
     "text": [
      "HHPRecommender: URM Detected 627 ( 4.8%) users with no interactions.\n",
      "HHPRecommender: URM Detected 247 ( 1.1%) items with no interactions.\n",
      "HHPRecommender: Similarity column 22347 (100.0%), 1818.38 column/sec. Elapsed time 12.29 sec\n",
      "EvaluatorHoldout: Processed 10456 (100.0%) in 9.67 sec. Users per second: 1081\n"
     ]
    },
    {
     "name": "stderr",
     "output_type": "stream",
     "text": [
      "[I 2023-12-24 18:55:00,386] Trial 224 finished with value: 0.04010645896333582 and parameters: {'hybrid_lambda': 0.7059559150497271, 'topK': 85}. Best is trial 115 with value: 0.04199775552276559.\n"
     ]
    },
    {
     "name": "stdout",
     "output_type": "stream",
     "text": [
      "HHPRecommender: URM Detected 627 ( 4.8%) users with no interactions.\n",
      "HHPRecommender: URM Detected 247 ( 1.1%) items with no interactions.\n",
      "HHPRecommender: Similarity column 22347 (100.0%), 2314.14 column/sec. Elapsed time 9.66 sec\n",
      "EvaluatorHoldout: Processed 10456 (100.0%) in 9.27 sec. Users per second: 1128\n"
     ]
    },
    {
     "name": "stderr",
     "output_type": "stream",
     "text": [
      "[I 2023-12-24 18:55:21,627] Trial 225 finished with value: 0.04181606824060978 and parameters: {'hybrid_lambda': 0.8543118817024331, 'topK': 52}. Best is trial 115 with value: 0.04199775552276559.\n"
     ]
    },
    {
     "name": "stdout",
     "output_type": "stream",
     "text": [
      "HHPRecommender: URM Detected 627 ( 4.8%) users with no interactions.\n",
      "HHPRecommender: URM Detected 247 ( 1.1%) items with no interactions.\n",
      "HHPRecommender: Similarity column 22347 (100.0%), 2048.53 column/sec. Elapsed time 10.91 sec\n",
      "EvaluatorHoldout: Processed 10456 (100.0%) in 9.25 sec. Users per second: 1131\n"
     ]
    },
    {
     "name": "stderr",
     "output_type": "stream",
     "text": [
      "[I 2023-12-24 18:55:44,506] Trial 226 finished with value: 0.04189733471174798 and parameters: {'hybrid_lambda': 0.8743627069621611, 'topK': 66}. Best is trial 115 with value: 0.04199775552276559.\n"
     ]
    },
    {
     "name": "stdout",
     "output_type": "stream",
     "text": [
      "HHPRecommender: URM Detected 627 ( 4.8%) users with no interactions.\n",
      "HHPRecommender: URM Detected 247 ( 1.1%) items with no interactions.\n",
      "HHPRecommender: Similarity column 22347 (100.0%), 1900.36 column/sec. Elapsed time 11.76 sec\n",
      "EvaluatorHoldout: Processed 10456 (100.0%) in 9.33 sec. Users per second: 1121\n"
     ]
    },
    {
     "name": "stderr",
     "output_type": "stream",
     "text": [
      "[I 2023-12-24 18:56:08,775] Trial 227 finished with value: 0.04190010520275488 and parameters: {'hybrid_lambda': 0.8973763534553554, 'topK': 82}. Best is trial 115 with value: 0.04199775552276559.\n"
     ]
    },
    {
     "name": "stdout",
     "output_type": "stream",
     "text": [
      "HHPRecommender: URM Detected 627 ( 4.8%) users with no interactions.\n",
      "HHPRecommender: URM Detected 247 ( 1.1%) items with no interactions.\n",
      "HHPRecommender: Similarity column 22347 (100.0%), 2126.32 column/sec. Elapsed time 10.51 sec\n",
      "EvaluatorHoldout: Processed 10456 (100.0%) in 14.95 sec. Users per second: 699\n"
     ]
    },
    {
     "name": "stderr",
     "output_type": "stream",
     "text": [
      "[I 2023-12-24 18:56:36,871] Trial 228 finished with value: 0.041893835543654515 and parameters: {'hybrid_lambda': 0.8511459189385693, 'topK': 59}. Best is trial 115 with value: 0.04199775552276559.\n"
     ]
    },
    {
     "name": "stdout",
     "output_type": "stream",
     "text": [
      "HHPRecommender: URM Detected 627 ( 4.8%) users with no interactions.\n",
      "HHPRecommender: URM Detected 247 ( 1.1%) items with no interactions.\n",
      "HHPRecommender: Similarity column 22347 (100.0%), 1521.02 column/sec. Elapsed time 14.69 sec\n",
      "EvaluatorHoldout: Processed 10456 (100.0%) in 9.04 sec. Users per second: 1157\n"
     ]
    },
    {
     "name": "stderr",
     "output_type": "stream",
     "text": [
      "[I 2023-12-24 18:57:04,156] Trial 229 finished with value: 0.04186343225124844 and parameters: {'hybrid_lambda': 0.9155633961039793, 'topK': 92}. Best is trial 115 with value: 0.04199775552276559.\n"
     ]
    },
    {
     "name": "stdout",
     "output_type": "stream",
     "text": [
      "HHPRecommender: URM Detected 627 ( 4.8%) users with no interactions.\n",
      "HHPRecommender: URM Detected 247 ( 1.1%) items with no interactions.\n",
      "HHPRecommender: Similarity column 22347 (100.0%), 1995.18 column/sec. Elapsed time 11.20 sec\n",
      "EvaluatorHoldout: Processed 10456 (100.0%) in 9.90 sec. Users per second: 1056\n"
     ]
    },
    {
     "name": "stderr",
     "output_type": "stream",
     "text": [
      "[I 2023-12-24 18:57:29,057] Trial 230 finished with value: 0.003819899867623668 and parameters: {'hybrid_lambda': 0.12270010336058884, 'topK': 71}. Best is trial 115 with value: 0.04199775552276559.\n"
     ]
    },
    {
     "name": "stdout",
     "output_type": "stream",
     "text": [
      "HHPRecommender: URM Detected 627 ( 4.8%) users with no interactions.\n",
      "HHPRecommender: URM Detected 247 ( 1.1%) items with no interactions.\n",
      "HHPRecommender: Similarity column 22347 (100.0%), 1972.84 column/sec. Elapsed time 11.33 sec\n",
      "EvaluatorHoldout: Processed 10456 (100.0%) in 9.35 sec. Users per second: 1118\n"
     ]
    },
    {
     "name": "stderr",
     "output_type": "stream",
     "text": [
      "[I 2023-12-24 18:57:52,839] Trial 231 finished with value: 0.041993478340074115 and parameters: {'hybrid_lambda': 0.8812774035581328, 'topK': 78}. Best is trial 115 with value: 0.04199775552276559.\n"
     ]
    },
    {
     "name": "stdout",
     "output_type": "stream",
     "text": [
      "HHPRecommender: URM Detected 627 ( 4.8%) users with no interactions.\n",
      "HHPRecommender: URM Detected 247 ( 1.1%) items with no interactions.\n",
      "HHPRecommender: Similarity column 22347 (100.0%), 1989.19 column/sec. Elapsed time 11.23 sec\n",
      "EvaluatorHoldout: Processed 10456 (100.0%) in 9.33 sec. Users per second: 1120\n"
     ]
    },
    {
     "name": "stderr",
     "output_type": "stream",
     "text": [
      "[I 2023-12-24 18:58:16,556] Trial 232 finished with value: 0.04192440961975249 and parameters: {'hybrid_lambda': 0.8741060653275242, 'topK': 78}. Best is trial 115 with value: 0.04199775552276559.\n"
     ]
    },
    {
     "name": "stdout",
     "output_type": "stream",
     "text": [
      "HHPRecommender: URM Detected 627 ( 4.8%) users with no interactions.\n",
      "HHPRecommender: URM Detected 247 ( 1.1%) items with no interactions.\n",
      "HHPRecommender: Similarity column 22347 (100.0%), 1987.82 column/sec. Elapsed time 11.24 sec\n",
      "EvaluatorHoldout: Processed 10456 (100.0%) in 9.34 sec. Users per second: 1119\n"
     ]
    },
    {
     "name": "stderr",
     "output_type": "stream",
     "text": [
      "[I 2023-12-24 18:58:39,931] Trial 233 finished with value: 0.04187099607121651 and parameters: {'hybrid_lambda': 0.8675316031206552, 'topK': 67}. Best is trial 115 with value: 0.04199775552276559.\n"
     ]
    },
    {
     "name": "stdout",
     "output_type": "stream",
     "text": [
      "HHPRecommender: URM Detected 627 ( 4.8%) users with no interactions.\n",
      "HHPRecommender: URM Detected 247 ( 1.1%) items with no interactions.\n",
      "HHPRecommender: Similarity column 22347 (100.0%), 1966.26 column/sec. Elapsed time 11.37 sec\n",
      "EvaluatorHoldout: Processed 10456 (100.0%) in 9.51 sec. Users per second: 1099\n"
     ]
    },
    {
     "name": "stderr",
     "output_type": "stream",
     "text": [
      "[I 2023-12-24 18:59:04,073] Trial 234 finished with value: 0.04149757563060969 and parameters: {'hybrid_lambda': 0.8288150429305194, 'topK': 76}. Best is trial 115 with value: 0.04199775552276559.\n"
     ]
    },
    {
     "name": "stdout",
     "output_type": "stream",
     "text": [
      "HHPRecommender: URM Detected 627 ( 4.8%) users with no interactions.\n",
      "HHPRecommender: URM Detected 247 ( 1.1%) items with no interactions.\n",
      "HHPRecommender: Similarity column 22347 (100.0%), 2133.41 column/sec. Elapsed time 10.47 sec\n",
      "EvaluatorHoldout: Processed 10456 (100.0%) in 9.19 sec. Users per second: 1138\n"
     ]
    },
    {
     "name": "stderr",
     "output_type": "stream",
     "text": [
      "[I 2023-12-24 18:59:26,169] Trial 235 finished with value: 0.04170278551997238 and parameters: {'hybrid_lambda': 0.8888265705279528, 'topK': 58}. Best is trial 115 with value: 0.04199775552276559.\n"
     ]
    },
    {
     "name": "stdout",
     "output_type": "stream",
     "text": [
      "HHPRecommender: URM Detected 627 ( 4.8%) users with no interactions.\n",
      "HHPRecommender: URM Detected 247 ( 1.1%) items with no interactions.\n",
      "HHPRecommender: Similarity column 22347 (100.0%), 1743.42 column/sec. Elapsed time 12.82 sec\n",
      "EvaluatorHoldout: Processed 10456 (100.0%) in 8.94 sec. Users per second: 1170\n"
     ]
    },
    {
     "name": "stderr",
     "output_type": "stream",
     "text": [
      "[I 2023-12-24 18:59:51,617] Trial 236 finished with value: 0.04158799990284357 and parameters: {'hybrid_lambda': 0.8543506031813359, 'topK': 92}. Best is trial 115 with value: 0.04199775552276559.\n"
     ]
    },
    {
     "name": "stdout",
     "output_type": "stream",
     "text": [
      "HHPRecommender: URM Detected 627 ( 4.8%) users with no interactions.\n",
      "HHPRecommender: URM Detected 247 ( 1.1%) items with no interactions.\n",
      "HHPRecommender: Similarity column 22347 (100.0%), 1962.00 column/sec. Elapsed time 11.39 sec\n",
      "EvaluatorHoldout: Processed 10456 (100.0%) in 9.27 sec. Users per second: 1128\n"
     ]
    },
    {
     "name": "stderr",
     "output_type": "stream",
     "text": [
      "[I 2023-12-24 19:00:15,018] Trial 237 finished with value: 0.04178080710095864 and parameters: {'hybrid_lambda': 0.9017547859233398, 'topK': 69}. Best is trial 115 with value: 0.04199775552276559.\n"
     ]
    },
    {
     "name": "stdout",
     "output_type": "stream",
     "text": [
      "HHPRecommender: URM Detected 627 ( 4.8%) users with no interactions.\n",
      "HHPRecommender: URM Detected 247 ( 1.1%) items with no interactions.\n",
      "HHPRecommender: Similarity column 22347 (100.0%), 2374.32 column/sec. Elapsed time 9.41 sec\n",
      "EvaluatorHoldout: Processed 10456 (100.0%) in 9.20 sec. Users per second: 1137\n"
     ]
    },
    {
     "name": "stderr",
     "output_type": "stream",
     "text": [
      "[I 2023-12-24 19:00:35,781] Trial 238 finished with value: 0.04161017142128515 and parameters: {'hybrid_lambda': 0.8782446603181209, 'topK': 50}. Best is trial 115 with value: 0.04199775552276559.\n"
     ]
    },
    {
     "name": "stdout",
     "output_type": "stream",
     "text": [
      "HHPRecommender: URM Detected 627 ( 4.8%) users with no interactions.\n",
      "HHPRecommender: URM Detected 247 ( 1.1%) items with no interactions.\n",
      "HHPRecommender: Similarity column 22347 (100.0%), 1649.43 column/sec. Elapsed time 13.55 sec\n",
      "EvaluatorHoldout: Processed 10456 (100.0%) in 10.13 sec. Users per second: 1032\n"
     ]
    },
    {
     "name": "stderr",
     "output_type": "stream",
     "text": [
      "[I 2023-12-24 19:01:04,594] Trial 239 finished with value: 0.03772935490824785 and parameters: {'hybrid_lambda': 0.623945775601564, 'topK': 107}. Best is trial 115 with value: 0.04199775552276559.\n"
     ]
    },
    {
     "name": "stdout",
     "output_type": "stream",
     "text": [
      "HHPRecommender: URM Detected 627 ( 4.8%) users with no interactions.\n",
      "HHPRecommender: URM Detected 247 ( 1.1%) items with no interactions.\n",
      "HHPRecommender: Similarity column 22347 (100.0%), 2075.37 column/sec. Elapsed time 10.77 sec\n",
      "EvaluatorHoldout: Processed 10456 (100.0%) in 9.64 sec. Users per second: 1085\n"
     ]
    },
    {
     "name": "stderr",
     "output_type": "stream",
     "text": [
      "[I 2023-12-24 19:01:28,237] Trial 240 finished with value: 0.03859896649299903 and parameters: {'hybrid_lambda': 0.6526261916898448, 'topK': 62}. Best is trial 115 with value: 0.04199775552276559.\n"
     ]
    },
    {
     "name": "stdout",
     "output_type": "stream",
     "text": [
      "HHPRecommender: URM Detected 627 ( 4.8%) users with no interactions.\n",
      "HHPRecommender: URM Detected 247 ( 1.1%) items with no interactions.\n",
      "HHPRecommender: Similarity column 22347 (100.0%), 1921.42 column/sec. Elapsed time 11.63 sec\n",
      "EvaluatorHoldout: Processed 10456 (100.0%) in 9.42 sec. Users per second: 1110\n"
     ]
    },
    {
     "name": "stderr",
     "output_type": "stream",
     "text": [
      "[I 2023-12-24 19:01:52,548] Trial 241 finished with value: 0.04185743584605525 and parameters: {'hybrid_lambda': 0.8751341472731524, 'topK': 81}. Best is trial 115 with value: 0.04199775552276559.\n"
     ]
    },
    {
     "name": "stdout",
     "output_type": "stream",
     "text": [
      "HHPRecommender: URM Detected 627 ( 4.8%) users with no interactions.\n",
      "HHPRecommender: URM Detected 247 ( 1.1%) items with no interactions.\n",
      "HHPRecommender: Similarity column 22347 (100.0%), 1939.55 column/sec. Elapsed time 11.52 sec\n",
      "EvaluatorHoldout: Processed 10456 (100.0%) in 9.45 sec. Users per second: 1106\n"
     ]
    },
    {
     "name": "stderr",
     "output_type": "stream",
     "text": [
      "[I 2023-12-24 19:02:16,833] Trial 242 finished with value: 0.04162274110103149 and parameters: {'hybrid_lambda': 0.8443526293738939, 'topK': 80}. Best is trial 115 with value: 0.04199775552276559.\n"
     ]
    },
    {
     "name": "stdout",
     "output_type": "stream",
     "text": [
      "HHPRecommender: URM Detected 627 ( 4.8%) users with no interactions.\n",
      "HHPRecommender: URM Detected 247 ( 1.1%) items with no interactions.\n",
      "HHPRecommender: Similarity column 22347 (100.0%), 1958.87 column/sec. Elapsed time 11.41 sec\n",
      "EvaluatorHoldout: Processed 10456 (100.0%) in 9.93 sec. Users per second: 1053\n"
     ]
    },
    {
     "name": "stderr",
     "output_type": "stream",
     "text": [
      "[I 2023-12-24 19:02:42,163] Trial 243 finished with value: 0.03437895079608009 and parameters: {'hybrid_lambda': 0.5402088491789951, 'topK': 73}. Best is trial 115 with value: 0.04199775552276559.\n"
     ]
    },
    {
     "name": "stdout",
     "output_type": "stream",
     "text": [
      "HHPRecommender: URM Detected 627 ( 4.8%) users with no interactions.\n",
      "HHPRecommender: URM Detected 247 ( 1.1%) items with no interactions.\n",
      "HHPRecommender: Similarity column 22347 (100.0%), 1783.07 column/sec. Elapsed time 12.53 sec\n",
      "EvaluatorHoldout: Processed 10456 (100.0%) in 9.43 sec. Users per second: 1109\n"
     ]
    },
    {
     "name": "stderr",
     "output_type": "stream",
     "text": [
      "[I 2023-12-24 19:03:07,601] Trial 244 finished with value: 0.04181015532966612 and parameters: {'hybrid_lambda': 0.8852815757096668, 'topK': 88}. Best is trial 115 with value: 0.04199775552276559.\n"
     ]
    },
    {
     "name": "stdout",
     "output_type": "stream",
     "text": [
      "HHPRecommender: URM Detected 627 ( 4.8%) users with no interactions.\n",
      "HHPRecommender: URM Detected 247 ( 1.1%) items with no interactions.\n",
      "HHPRecommender: Similarity column 22347 (100.0%), 2051.69 column/sec. Elapsed time 10.89 sec\n",
      "EvaluatorHoldout: Processed 10456 (100.0%) in 9.33 sec. Users per second: 1121\n"
     ]
    },
    {
     "name": "stderr",
     "output_type": "stream",
     "text": [
      "[I 2023-12-24 19:03:30,529] Trial 245 finished with value: 0.04186185345089377 and parameters: {'hybrid_lambda': 0.8618523156943443, 'topK': 64}. Best is trial 115 with value: 0.04199775552276559.\n"
     ]
    },
    {
     "name": "stdout",
     "output_type": "stream",
     "text": [
      "HHPRecommender: URM Detected 627 ( 4.8%) users with no interactions.\n",
      "HHPRecommender: URM Detected 247 ( 1.1%) items with no interactions.\n",
      "HHPRecommender: Similarity column 22347 (100.0%), 1967.60 column/sec. Elapsed time 11.36 sec\n",
      "EvaluatorHoldout: Processed 10456 (100.0%) in 9.25 sec. Users per second: 1130\n"
     ]
    },
    {
     "name": "stderr",
     "output_type": "stream",
     "text": [
      "[I 2023-12-24 19:03:54,043] Trial 246 finished with value: 0.0417793345660126 and parameters: {'hybrid_lambda': 0.9283460124503793, 'topK': 76}. Best is trial 115 with value: 0.04199775552276559.\n"
     ]
    },
    {
     "name": "stdout",
     "output_type": "stream",
     "text": [
      "HHPRecommender: URM Detected 627 ( 4.8%) users with no interactions.\n",
      "HHPRecommender: URM Detected 247 ( 1.1%) items with no interactions.\n",
      "HHPRecommender: Similarity column 22347 (100.0%), 2718.54 column/sec. Elapsed time 8.22 sec\n",
      "EvaluatorHoldout: Processed 10456 (100.0%) in 8.92 sec. Users per second: 1173\n"
     ]
    },
    {
     "name": "stderr",
     "output_type": "stream",
     "text": [
      "[I 2023-12-24 19:04:12,527] Trial 247 finished with value: 0.040356106769410656 and parameters: {'hybrid_lambda': 0.9063359878962202, 'topK': 23}. Best is trial 115 with value: 0.04199775552276559.\n"
     ]
    },
    {
     "name": "stdout",
     "output_type": "stream",
     "text": [
      "HHPRecommender: URM Detected 627 ( 4.8%) users with no interactions.\n",
      "HHPRecommender: URM Detected 247 ( 1.1%) items with no interactions.\n",
      "HHPRecommender: Similarity column 22347 (100.0%), 2287.76 column/sec. Elapsed time 9.77 sec\n",
      "EvaluatorHoldout: Processed 10456 (100.0%) in 9.24 sec. Users per second: 1132\n"
     ]
    },
    {
     "name": "stderr",
     "output_type": "stream",
     "text": [
      "[I 2023-12-24 19:04:34,006] Trial 248 finished with value: 0.041912196688163296 and parameters: {'hybrid_lambda': 0.8308040013347497, 'topK': 55}. Best is trial 115 with value: 0.04199775552276559.\n"
     ]
    },
    {
     "name": "stdout",
     "output_type": "stream",
     "text": [
      "HHPRecommender: URM Detected 627 ( 4.8%) users with no interactions.\n",
      "HHPRecommender: URM Detected 247 ( 1.1%) items with no interactions.\n",
      "HHPRecommender: Similarity column 22347 (100.0%), 2284.24 column/sec. Elapsed time 9.78 sec\n",
      "EvaluatorHoldout: Processed 10456 (100.0%) in 9.31 sec. Users per second: 1123\n"
     ]
    },
    {
     "name": "stderr",
     "output_type": "stream",
     "text": [
      "[I 2023-12-24 19:04:55,584] Trial 249 finished with value: 0.041822979287354387 and parameters: {'hybrid_lambda': 0.8266013258650472, 'topK': 54}. Best is trial 115 with value: 0.04199775552276559.\n"
     ]
    },
    {
     "name": "stdout",
     "output_type": "stream",
     "text": [
      "HHPRecommender: URM Detected 627 ( 4.8%) users with no interactions.\n",
      "HHPRecommender: URM Detected 247 ( 1.1%) items with no interactions.\n",
      "HHPRecommender: Similarity column 22347 (100.0%), 2382.59 column/sec. Elapsed time 9.38 sec\n",
      "EvaluatorHoldout: Processed 10456 (100.0%) in 9.32 sec. Users per second: 1122\n"
     ]
    },
    {
     "name": "stderr",
     "output_type": "stream",
     "text": [
      "[I 2023-12-24 19:05:16,717] Trial 250 finished with value: 0.041200525861964835 and parameters: {'hybrid_lambda': 0.769762729631283, 'topK': 48}. Best is trial 115 with value: 0.04199775552276559.\n"
     ]
    },
    {
     "name": "stdout",
     "output_type": "stream",
     "text": [
      "HHPRecommender: URM Detected 627 ( 4.8%) users with no interactions.\n",
      "HHPRecommender: URM Detected 247 ( 1.1%) items with no interactions.\n",
      "HHPRecommender: Similarity column 22347 (100.0%), 2101.54 column/sec. Elapsed time 10.63 sec\n",
      "EvaluatorHoldout: Processed 10456 (100.0%) in 9.61 sec. Users per second: 1088\n"
     ]
    },
    {
     "name": "stderr",
     "output_type": "stream",
     "text": [
      "[I 2023-12-24 19:05:40,063] Trial 251 finished with value: 0.03666109152791471 and parameters: {'hybrid_lambda': 0.5979216625971119, 'topK': 57}. Best is trial 115 with value: 0.04199775552276559.\n"
     ]
    },
    {
     "name": "stdout",
     "output_type": "stream",
     "text": [
      "HHPRecommender: URM Detected 627 ( 4.8%) users with no interactions.\n",
      "HHPRecommender: URM Detected 247 ( 1.1%) items with no interactions.\n",
      "HHPRecommender: Similarity column 22347 (100.0%), 1981.15 column/sec. Elapsed time 11.28 sec\n",
      "EvaluatorHoldout: Processed 10456 (100.0%) in 9.34 sec. Users per second: 1119\n"
     ]
    },
    {
     "name": "stderr",
     "output_type": "stream",
     "text": [
      "[I 2023-12-24 19:06:03,566] Trial 252 finished with value: 0.04188446141654868 and parameters: {'hybrid_lambda': 0.8415248215978277, 'topK': 67}. Best is trial 115 with value: 0.04199775552276559.\n"
     ]
    },
    {
     "name": "stdout",
     "output_type": "stream",
     "text": [
      "HHPRecommender: URM Detected 627 ( 4.8%) users with no interactions.\n",
      "HHPRecommender: URM Detected 247 ( 1.1%) items with no interactions.\n",
      "HHPRecommender: Similarity column 22347 (100.0%), 2529.93 column/sec. Elapsed time 8.83 sec\n",
      "EvaluatorHoldout: Processed 10456 (100.0%) in 9.30 sec. Users per second: 1125\n"
     ]
    },
    {
     "name": "stderr",
     "output_type": "stream",
     "text": [
      "[I 2023-12-24 19:06:23,689] Trial 253 finished with value: 0.041552252978467985 and parameters: {'hybrid_lambda': 0.8128243758899344, 'topK': 41}. Best is trial 115 with value: 0.04199775552276559.\n"
     ]
    },
    {
     "name": "stdout",
     "output_type": "stream",
     "text": [
      "HHPRecommender: URM Detected 627 ( 4.8%) users with no interactions.\n",
      "HHPRecommender: URM Detected 247 ( 1.1%) items with no interactions.\n",
      "HHPRecommender: Similarity column 22347 (100.0%), 2077.02 column/sec. Elapsed time 10.76 sec\n",
      "EvaluatorHoldout: Processed 10456 (100.0%) in 10.11 sec. Users per second: 1034\n"
     ]
    },
    {
     "name": "stderr",
     "output_type": "stream",
     "text": [
      "[I 2023-12-24 19:06:47,252] Trial 254 finished with value: 0.0418735540314066 and parameters: {'hybrid_lambda': 0.8536427542845723, 'topK': 61}. Best is trial 115 with value: 0.04199775552276559.\n"
     ]
    },
    {
     "name": "stdout",
     "output_type": "stream",
     "text": [
      "HHPRecommender: URM Detected 627 ( 4.8%) users with no interactions.\n",
      "HHPRecommender: URM Detected 247 ( 1.1%) items with no interactions.\n",
      "HHPRecommender: Similarity column 22347 (100.0%), 2717.99 column/sec. Elapsed time 8.22 sec\n",
      "EvaluatorHoldout: Processed 10456 (100.0%) in 14.00 sec. Users per second: 747\n"
     ]
    },
    {
     "name": "stderr",
     "output_type": "stream",
     "text": [
      "[I 2023-12-24 19:07:10,513] Trial 255 finished with value: 0.03370259803743007 and parameters: {'hybrid_lambda': 0.8638477050077424, 'topK': 8}. Best is trial 115 with value: 0.04199775552276559.\n"
     ]
    },
    {
     "name": "stdout",
     "output_type": "stream",
     "text": [
      "HHPRecommender: URM Detected 627 ( 4.8%) users with no interactions.\n",
      "HHPRecommender: URM Detected 247 ( 1.1%) items with no interactions.\n",
      "HHPRecommender: Similarity column 22347 (100.0%), 2289.38 column/sec. Elapsed time 9.76 sec\n",
      "EvaluatorHoldout: Processed 10456 (100.0%) in 9.50 sec. Users per second: 1101\n"
     ]
    },
    {
     "name": "stderr",
     "output_type": "stream",
     "text": [
      "[I 2023-12-24 19:07:32,285] Trial 256 finished with value: 0.041901562556928534 and parameters: {'hybrid_lambda': 0.8348026676146186, 'topK': 55}. Best is trial 115 with value: 0.04199775552276559.\n"
     ]
    },
    {
     "name": "stdout",
     "output_type": "stream",
     "text": [
      "HHPRecommender: URM Detected 627 ( 4.8%) users with no interactions.\n",
      "HHPRecommender: URM Detected 247 ( 1.1%) items with no interactions.\n",
      "HHPRecommender: Similarity column 22347 (100.0%), 2032.65 column/sec. Elapsed time 10.99 sec\n",
      "EvaluatorHoldout: Processed 10456 (100.0%) in 9.31 sec. Users per second: 1123\n"
     ]
    },
    {
     "name": "stderr",
     "output_type": "stream",
     "text": [
      "[I 2023-12-24 19:07:55,376] Trial 257 finished with value: 0.04175954263368228 and parameters: {'hybrid_lambda': 0.8914787424862738, 'topK': 68}. Best is trial 115 with value: 0.04199775552276559.\n"
     ]
    },
    {
     "name": "stdout",
     "output_type": "stream",
     "text": [
      "HHPRecommender: URM Detected 627 ( 4.8%) users with no interactions.\n",
      "HHPRecommender: URM Detected 247 ( 1.1%) items with no interactions.\n",
      "HHPRecommender: Similarity column 22347 (100.0%), 1709.12 column/sec. Elapsed time 13.08 sec\n",
      "EvaluatorHoldout: Processed 10456 (100.0%) in 9.78 sec. Users per second: 1069\n"
     ]
    },
    {
     "name": "stderr",
     "output_type": "stream",
     "text": [
      "[I 2023-12-24 19:08:22,468] Trial 258 finished with value: 0.04143891332993348 and parameters: {'hybrid_lambda': 0.7990875976710521, 'topK': 101}. Best is trial 115 with value: 0.04199775552276559.\n"
     ]
    },
    {
     "name": "stdout",
     "output_type": "stream",
     "text": [
      "HHPRecommender: URM Detected 627 ( 4.8%) users with no interactions.\n",
      "HHPRecommender: URM Detected 247 ( 1.1%) items with no interactions.\n",
      "HHPRecommender: Similarity column 22347 (100.0%), 2433.82 column/sec. Elapsed time 9.18 sec\n",
      "EvaluatorHoldout: Processed 10456 (100.0%) in 9.04 sec. Users per second: 1157\n"
     ]
    },
    {
     "name": "stderr",
     "output_type": "stream",
     "text": [
      "[I 2023-12-24 19:08:42,585] Trial 259 finished with value: 0.04103770448500808 and parameters: {'hybrid_lambda': 0.9412966133401157, 'topK': 46}. Best is trial 115 with value: 0.04199775552276559.\n"
     ]
    },
    {
     "name": "stdout",
     "output_type": "stream",
     "text": [
      "HHPRecommender: URM Detected 627 ( 4.8%) users with no interactions.\n",
      "HHPRecommender: URM Detected 247 ( 1.1%) items with no interactions.\n",
      "HHPRecommender: Similarity column 22347 (100.0%), 2010.01 column/sec. Elapsed time 11.12 sec\n",
      "EvaluatorHoldout: Processed 10456 (100.0%) in 9.44 sec. Users per second: 1108\n"
     ]
    },
    {
     "name": "stderr",
     "output_type": "stream",
     "text": [
      "[I 2023-12-24 19:09:06,285] Trial 260 finished with value: 0.04200889820988375 and parameters: {'hybrid_lambda': 0.8719208270801174, 'topK': 77}. Best is trial 260 with value: 0.04200889820988375.\n"
     ]
    },
    {
     "name": "stdout",
     "output_type": "stream",
     "text": [
      "HHPRecommender: URM Detected 627 ( 4.8%) users with no interactions.\n",
      "HHPRecommender: URM Detected 247 ( 1.1%) items with no interactions.\n",
      "HHPRecommender: Similarity column 22347 (100.0%), 1828.37 column/sec. Elapsed time 12.22 sec\n",
      "EvaluatorHoldout: Processed 10456 (100.0%) in 9.53 sec. Users per second: 1097\n"
     ]
    },
    {
     "name": "stderr",
     "output_type": "stream",
     "text": [
      "[I 2023-12-24 19:09:31,275] Trial 261 finished with value: 0.04183125280844349 and parameters: {'hybrid_lambda': 0.9157372130016025, 'topK': 85}. Best is trial 260 with value: 0.04200889820988375.\n"
     ]
    },
    {
     "name": "stdout",
     "output_type": "stream",
     "text": [
      "HHPRecommender: URM Detected 627 ( 4.8%) users with no interactions.\n",
      "HHPRecommender: URM Detected 247 ( 1.1%) items with no interactions.\n",
      "HHPRecommender: Similarity column 22347 (100.0%), 1995.83 column/sec. Elapsed time 11.20 sec\n",
      "EvaluatorHoldout: Processed 10456 (100.0%) in 9.63 sec. Users per second: 1086\n"
     ]
    },
    {
     "name": "stderr",
     "output_type": "stream",
     "text": [
      "[I 2023-12-24 19:09:55,653] Trial 262 finished with value: 0.040638214862584156 and parameters: {'hybrid_lambda': 0.7386641551499062, 'topK': 76}. Best is trial 260 with value: 0.04200889820988375.\n"
     ]
    },
    {
     "name": "stdout",
     "output_type": "stream",
     "text": [
      "HHPRecommender: URM Detected 627 ( 4.8%) users with no interactions.\n",
      "HHPRecommender: URM Detected 247 ( 1.1%) items with no interactions.\n",
      "HHPRecommender: Similarity column 22347 (100.0%), 1700.45 column/sec. Elapsed time 13.14 sec\n",
      "EvaluatorHoldout: Processed 10456 (100.0%) in 8.98 sec. Users per second: 1165\n"
     ]
    },
    {
     "name": "stderr",
     "output_type": "stream",
     "text": [
      "[I 2023-12-24 19:10:21,500] Trial 263 finished with value: 0.04171790177432921 and parameters: {'hybrid_lambda': 0.8783980579383486, 'topK': 97}. Best is trial 260 with value: 0.04200889820988375.\n"
     ]
    },
    {
     "name": "stdout",
     "output_type": "stream",
     "text": [
      "HHPRecommender: URM Detected 627 ( 4.8%) users with no interactions.\n",
      "HHPRecommender: URM Detected 247 ( 1.1%) items with no interactions.\n",
      "HHPRecommender: Similarity column 22347 (100.0%), 1971.53 column/sec. Elapsed time 11.33 sec\n",
      "EvaluatorHoldout: Processed 10456 (100.0%) in 9.33 sec. Users per second: 1121\n"
     ]
    },
    {
     "name": "stderr",
     "output_type": "stream",
     "text": [
      "[I 2023-12-24 19:10:45,152] Trial 264 finished with value: 0.04178435560656354 and parameters: {'hybrid_lambda': 0.8940866450418782, 'topK': 74}. Best is trial 260 with value: 0.04200889820988375.\n"
     ]
    },
    {
     "name": "stdout",
     "output_type": "stream",
     "text": [
      "HHPRecommender: URM Detected 627 ( 4.8%) users with no interactions.\n",
      "HHPRecommender: URM Detected 247 ( 1.1%) items with no interactions.\n",
      "HHPRecommender: Similarity column 22347 (100.0%), 2053.44 column/sec. Elapsed time 10.88 sec\n",
      "EvaluatorHoldout: Processed 10456 (100.0%) in 9.37 sec. Users per second: 1116\n"
     ]
    },
    {
     "name": "stderr",
     "output_type": "stream",
     "text": [
      "[I 2023-12-24 19:11:08,145] Trial 265 finished with value: 0.04186976263343953 and parameters: {'hybrid_lambda': 0.8617886317475419, 'topK': 64}. Best is trial 260 with value: 0.04200889820988375.\n"
     ]
    },
    {
     "name": "stdout",
     "output_type": "stream",
     "text": [
      "HHPRecommender: URM Detected 627 ( 4.8%) users with no interactions.\n",
      "HHPRecommender: URM Detected 247 ( 1.1%) items with no interactions.\n",
      "HHPRecommender: Similarity column 22347 (100.0%), 1647.29 column/sec. Elapsed time 13.57 sec\n",
      "EvaluatorHoldout: Processed 10456 (100.0%) in 9.44 sec. Users per second: 1107\n"
     ]
    },
    {
     "name": "stderr",
     "output_type": "stream",
     "text": [
      "[I 2023-12-24 19:11:36,503] Trial 266 finished with value: 0.03926265469207364 and parameters: {'hybrid_lambda': 0.6886397295201192, 'topK': 119}. Best is trial 260 with value: 0.04200889820988375.\n"
     ]
    },
    {
     "name": "stdout",
     "output_type": "stream",
     "text": [
      "HHPRecommender: URM Detected 627 ( 4.8%) users with no interactions.\n",
      "HHPRecommender: URM Detected 247 ( 1.1%) items with no interactions.\n",
      "HHPRecommender: Similarity column 22347 (100.0%), 1800.19 column/sec. Elapsed time 12.41 sec\n",
      "EvaluatorHoldout: Processed 10456 (100.0%) in 9.43 sec. Users per second: 1109\n"
     ]
    },
    {
     "name": "stderr",
     "output_type": "stream",
     "text": [
      "[I 2023-12-24 19:12:01,657] Trial 267 finished with value: 0.04185796337790458 and parameters: {'hybrid_lambda': 0.9057564343188912, 'topK': 87}. Best is trial 260 with value: 0.04200889820988375.\n"
     ]
    },
    {
     "name": "stdout",
     "output_type": "stream",
     "text": [
      "HHPRecommender: URM Detected 627 ( 4.8%) users with no interactions.\n",
      "HHPRecommender: URM Detected 247 ( 1.1%) items with no interactions.\n",
      "HHPRecommender: Similarity column 22347 (100.0%), 1973.80 column/sec. Elapsed time 11.32 sec\n",
      "EvaluatorHoldout: Processed 10456 (100.0%) in 9.35 sec. Users per second: 1118\n"
     ]
    },
    {
     "name": "stderr",
     "output_type": "stream",
     "text": [
      "[I 2023-12-24 19:12:25,265] Trial 268 finished with value: 0.04193267934564848 and parameters: {'hybrid_lambda': 0.8788651194384263, 'topK': 71}. Best is trial 260 with value: 0.04200889820988375.\n"
     ]
    },
    {
     "name": "stdout",
     "output_type": "stream",
     "text": [
      "HHPRecommender: URM Detected 627 ( 4.8%) users with no interactions.\n",
      "HHPRecommender: URM Detected 247 ( 1.1%) items with no interactions.\n",
      "HHPRecommender: Similarity column 22347 (100.0%), 1990.31 column/sec. Elapsed time 11.23 sec\n",
      "EvaluatorHoldout: Processed 10456 (100.0%) in 9.38 sec. Users per second: 1115\n"
     ]
    },
    {
     "name": "stderr",
     "output_type": "stream",
     "text": [
      "[I 2023-12-24 19:12:48,827] Trial 269 finished with value: 0.04187794886508596 and parameters: {'hybrid_lambda': 0.8806016196663996, 'topK': 71}. Best is trial 260 with value: 0.04200889820988375.\n"
     ]
    },
    {
     "name": "stdout",
     "output_type": "stream",
     "text": [
      "HHPRecommender: URM Detected 627 ( 4.8%) users with no interactions.\n",
      "HHPRecommender: URM Detected 247 ( 1.1%) items with no interactions.\n",
      "HHPRecommender: Similarity column 22347 (100.0%), 1926.44 column/sec. Elapsed time 11.60 sec\n",
      "EvaluatorHoldout: Processed 10456 (100.0%) in 9.34 sec. Users per second: 1120\n"
     ]
    },
    {
     "name": "stderr",
     "output_type": "stream",
     "text": [
      "[I 2023-12-24 19:13:12,777] Trial 270 finished with value: 0.04174337511082024 and parameters: {'hybrid_lambda': 0.9309016621530917, 'topK': 81}. Best is trial 260 with value: 0.04200889820988375.\n"
     ]
    },
    {
     "name": "stdout",
     "output_type": "stream",
     "text": [
      "HHPRecommender: URM Detected 627 ( 4.8%) users with no interactions.\n",
      "HHPRecommender: URM Detected 247 ( 1.1%) items with no interactions.\n",
      "HHPRecommender: Similarity column 22347 (100.0%), 1745.17 column/sec. Elapsed time 12.81 sec\n",
      "EvaluatorHoldout: Processed 10456 (100.0%) in 8.96 sec. Users per second: 1167\n"
     ]
    },
    {
     "name": "stderr",
     "output_type": "stream",
     "text": [
      "[I 2023-12-24 19:13:38,311] Trial 271 finished with value: 0.04162819099840959 and parameters: {'hybrid_lambda': 0.8640737274155459, 'topK': 94}. Best is trial 260 with value: 0.04200889820988375.\n"
     ]
    },
    {
     "name": "stdout",
     "output_type": "stream",
     "text": [
      "HHPRecommender: URM Detected 627 ( 4.8%) users with no interactions.\n",
      "HHPRecommender: URM Detected 247 ( 1.1%) items with no interactions.\n",
      "HHPRecommender: Similarity column 22347 (100.0%), 2018.64 column/sec. Elapsed time 11.07 sec\n",
      "EvaluatorHoldout: Processed 10456 (100.0%) in 9.30 sec. Users per second: 1124\n"
     ]
    },
    {
     "name": "stderr",
     "output_type": "stream",
     "text": [
      "[I 2023-12-24 19:14:01,372] Trial 272 finished with value: 0.04181871349024222 and parameters: {'hybrid_lambda': 0.9050225479972224, 'topK': 68}. Best is trial 260 with value: 0.04200889820988375.\n"
     ]
    },
    {
     "name": "stdout",
     "output_type": "stream",
     "text": [
      "HHPRecommender: URM Detected 627 ( 4.8%) users with no interactions.\n",
      "HHPRecommender: URM Detected 247 ( 1.1%) items with no interactions.\n",
      "HHPRecommender: Similarity column 22347 (100.0%), 1973.39 column/sec. Elapsed time 11.32 sec\n",
      "EvaluatorHoldout: Processed 10456 (100.0%) in 9.39 sec. Users per second: 1113\n"
     ]
    },
    {
     "name": "stderr",
     "output_type": "stream",
     "text": [
      "[I 2023-12-24 19:14:25,164] Trial 273 finished with value: 0.041938983161487496 and parameters: {'hybrid_lambda': 0.8834945086498437, 'topK': 77}. Best is trial 260 with value: 0.04200889820988375.\n"
     ]
    },
    {
     "name": "stdout",
     "output_type": "stream",
     "text": [
      "HHPRecommender: URM Detected 627 ( 4.8%) users with no interactions.\n",
      "HHPRecommender: URM Detected 247 ( 1.1%) items with no interactions.\n",
      "HHPRecommender: Similarity column 22347 (100.0%), 1988.95 column/sec. Elapsed time 11.24 sec\n",
      "EvaluatorHoldout: Processed 10456 (100.0%) in 9.97 sec. Users per second: 1049\n"
     ]
    },
    {
     "name": "stderr",
     "output_type": "stream",
     "text": [
      "[I 2023-12-24 19:14:50,693] Trial 274 finished with value: 0.027193207970513004 and parameters: {'hybrid_lambda': 0.4510164418054118, 'topK': 78}. Best is trial 260 with value: 0.04200889820988375.\n"
     ]
    },
    {
     "name": "stdout",
     "output_type": "stream",
     "text": [
      "HHPRecommender: URM Detected 627 ( 4.8%) users with no interactions.\n",
      "HHPRecommender: URM Detected 247 ( 1.1%) items with no interactions.\n",
      "HHPRecommender: Similarity column 22347 (100.0%), 1762.67 column/sec. Elapsed time 12.68 sec\n",
      "EvaluatorHoldout: Processed 10456 (100.0%) in 9.47 sec. Users per second: 1104\n"
     ]
    },
    {
     "name": "stderr",
     "output_type": "stream",
     "text": [
      "[I 2023-12-24 19:15:16,363] Trial 275 finished with value: 0.041740498354404756 and parameters: {'hybrid_lambda': 0.8908539224918325, 'topK': 91}. Best is trial 260 with value: 0.04200889820988375.\n"
     ]
    },
    {
     "name": "stdout",
     "output_type": "stream",
     "text": [
      "HHPRecommender: URM Detected 627 ( 4.8%) users with no interactions.\n",
      "HHPRecommender: URM Detected 247 ( 1.1%) items with no interactions.\n",
      "HHPRecommender: Similarity column 22347 (100.0%), 948.65 column/sec. Elapsed time 23.56 sec\n",
      "EvaluatorHoldout: Processed 10456 (100.0%) in 10.21 sec. Users per second: 1024\n"
     ]
    },
    {
     "name": "stderr",
     "output_type": "stream",
     "text": [
      "[I 2023-12-24 19:16:00,720] Trial 276 finished with value: 0.03989081988316921 and parameters: {'hybrid_lambda': 0.9148399329122914, 'topK': 339}. Best is trial 260 with value: 0.04200889820988375.\n"
     ]
    },
    {
     "name": "stdout",
     "output_type": "stream",
     "text": [
      "HHPRecommender: URM Detected 627 ( 4.8%) users with no interactions.\n",
      "HHPRecommender: URM Detected 247 ( 1.1%) items with no interactions.\n",
      "HHPRecommender: Similarity column 22347 (100.0%), 1675.21 column/sec. Elapsed time 13.34 sec\n",
      "EvaluatorHoldout: Processed 10456 (100.0%) in 9.13 sec. Users per second: 1145\n"
     ]
    },
    {
     "name": "stderr",
     "output_type": "stream",
     "text": [
      "[I 2023-12-24 19:16:27,358] Trial 277 finished with value: 0.041693487296729975 and parameters: {'hybrid_lambda': 0.8559934483014386, 'topK': 107}. Best is trial 260 with value: 0.04200889820988375.\n"
     ]
    },
    {
     "name": "stdout",
     "output_type": "stream",
     "text": [
      "HHPRecommender: URM Detected 627 ( 4.8%) users with no interactions.\n",
      "HHPRecommender: URM Detected 247 ( 1.1%) items with no interactions.\n",
      "HHPRecommender: Similarity column 22347 (100.0%), 1936.55 column/sec. Elapsed time 11.54 sec\n",
      "EvaluatorHoldout: Processed 10456 (100.0%) in 9.29 sec. Users per second: 1126\n"
     ]
    },
    {
     "name": "stderr",
     "output_type": "stream",
     "text": [
      "[I 2023-12-24 19:16:51,139] Trial 278 finished with value: 0.04172717343121962 and parameters: {'hybrid_lambda': 0.9496591938686291, 'topK': 81}. Best is trial 260 with value: 0.04200889820988375.\n"
     ]
    },
    {
     "name": "stdout",
     "output_type": "stream",
     "text": [
      "HHPRecommender: URM Detected 627 ( 4.8%) users with no interactions.\n",
      "HHPRecommender: URM Detected 247 ( 1.1%) items with no interactions.\n",
      "HHPRecommender: Similarity column 22347 (100.0%), 2079.40 column/sec. Elapsed time 10.75 sec\n",
      "EvaluatorHoldout: Processed 10456 (100.0%) in 9.22 sec. Users per second: 1135\n"
     ]
    },
    {
     "name": "stderr",
     "output_type": "stream",
     "text": [
      "[I 2023-12-24 19:17:13,655] Trial 279 finished with value: 0.041905395702020204 and parameters: {'hybrid_lambda': 0.879328296415218, 'topK': 61}. Best is trial 260 with value: 0.04200889820988375.\n"
     ]
    },
    {
     "name": "stdout",
     "output_type": "stream",
     "text": [
      "HHPRecommender: URM Detected 627 ( 4.8%) users with no interactions.\n",
      "HHPRecommender: URM Detected 247 ( 1.1%) items with no interactions.\n",
      "HHPRecommender: Similarity column 22347 (100.0%), 1973.69 column/sec. Elapsed time 11.32 sec\n",
      "EvaluatorHoldout: Processed 10456 (100.0%) in 9.58 sec. Users per second: 1091\n"
     ]
    },
    {
     "name": "stderr",
     "output_type": "stream",
     "text": [
      "[I 2023-12-24 19:17:37,968] Trial 280 finished with value: 0.0409756530768396 and parameters: {'hybrid_lambda': 0.7539625057359147, 'topK': 72}. Best is trial 260 with value: 0.04200889820988375.\n"
     ]
    },
    {
     "name": "stdout",
     "output_type": "stream",
     "text": [
      "HHPRecommender: URM Detected 627 ( 4.8%) users with no interactions.\n",
      "HHPRecommender: URM Detected 247 ( 1.1%) items with no interactions.\n",
      "HHPRecommender: Similarity column 22347 (100.0%), 1761.03 column/sec. Elapsed time 12.69 sec\n",
      "EvaluatorHoldout: Processed 10456 (100.0%) in 9.46 sec. Users per second: 1106\n"
     ]
    },
    {
     "name": "stderr",
     "output_type": "stream",
     "text": [
      "[I 2023-12-24 19:18:03,573] Trial 281 finished with value: 0.04179018881845059 and parameters: {'hybrid_lambda': 0.8951515366596842, 'topK': 91}. Best is trial 260 with value: 0.04200889820988375.\n"
     ]
    },
    {
     "name": "stdout",
     "output_type": "stream",
     "text": [
      "HHPRecommender: URM Detected 627 ( 4.8%) users with no interactions.\n",
      "HHPRecommender: URM Detected 247 ( 1.1%) items with no interactions.\n",
      "HHPRecommender: Similarity column 22347 (100.0%), 1968.57 column/sec. Elapsed time 11.35 sec\n",
      "EvaluatorHoldout: Processed 10456 (100.0%) in 9.42 sec. Users per second: 1110\n"
     ]
    },
    {
     "name": "stderr",
     "output_type": "stream",
     "text": [
      "[I 2023-12-24 19:18:27,593] Trial 282 finished with value: 0.04176614626978096 and parameters: {'hybrid_lambda': 0.8481629429847378, 'topK': 77}. Best is trial 260 with value: 0.04200889820988375.\n"
     ]
    },
    {
     "name": "stdout",
     "output_type": "stream",
     "text": [
      "HHPRecommender: URM Detected 627 ( 4.8%) users with no interactions.\n",
      "HHPRecommender: URM Detected 247 ( 1.1%) items with no interactions.\n",
      "HHPRecommender: Similarity column 22347 (100.0%), 2067.53 column/sec. Elapsed time 10.81 sec\n",
      "EvaluatorHoldout: Processed 10456 (100.0%) in 9.27 sec. Users per second: 1128\n"
     ]
    },
    {
     "name": "stderr",
     "output_type": "stream",
     "text": [
      "[I 2023-12-24 19:18:50,319] Trial 283 finished with value: 0.04192752167814389 and parameters: {'hybrid_lambda': 0.8734051733727876, 'topK': 62}. Best is trial 260 with value: 0.04200889820988375.\n"
     ]
    },
    {
     "name": "stdout",
     "output_type": "stream",
     "text": [
      "HHPRecommender: URM Detected 627 ( 4.8%) users with no interactions.\n",
      "HHPRecommender: URM Detected 247 ( 1.1%) items with no interactions.\n",
      "HHPRecommender: Similarity column 22347 (100.0%), 2061.54 column/sec. Elapsed time 10.84 sec\n",
      "EvaluatorHoldout: Processed 10456 (100.0%) in 9.63 sec. Users per second: 1086\n"
     ]
    },
    {
     "name": "stderr",
     "output_type": "stream",
     "text": [
      "[I 2023-12-24 19:19:14,063] Trial 284 finished with value: 0.03908275874108937 and parameters: {'hybrid_lambda': 0.6700072248113145, 'topK': 63}. Best is trial 260 with value: 0.04200889820988375.\n"
     ]
    },
    {
     "name": "stdout",
     "output_type": "stream",
     "text": [
      "HHPRecommender: URM Detected 627 ( 4.8%) users with no interactions.\n",
      "HHPRecommender: URM Detected 247 ( 1.1%) items with no interactions.\n",
      "HHPRecommender: Similarity column 22347 (100.0%), 1815.21 column/sec. Elapsed time 12.31 sec\n",
      "EvaluatorHoldout: Processed 10456 (100.0%) in 9.43 sec. Users per second: 1109\n"
     ]
    },
    {
     "name": "stderr",
     "output_type": "stream",
     "text": [
      "[I 2023-12-24 19:19:39,007] Trial 285 finished with value: 0.04180926345927356 and parameters: {'hybrid_lambda': 0.9257423205564063, 'topK': 85}. Best is trial 260 with value: 0.04200889820988375.\n"
     ]
    },
    {
     "name": "stdout",
     "output_type": "stream",
     "text": [
      "HHPRecommender: URM Detected 627 ( 4.8%) users with no interactions.\n",
      "HHPRecommender: URM Detected 247 ( 1.1%) items with no interactions.\n",
      "HHPRecommender: Similarity column 22347 (100.0%), 1977.23 column/sec. Elapsed time 11.30 sec\n",
      "EvaluatorHoldout: Processed 10456 (100.0%) in 9.17 sec. Users per second: 1140\n"
     ]
    },
    {
     "name": "stderr",
     "output_type": "stream",
     "text": [
      "[I 2023-12-24 19:20:02,135] Trial 286 finished with value: 0.041431448184987354 and parameters: {'hybrid_lambda': 0.9736530721821186, 'topK': 71}. Best is trial 260 with value: 0.04200889820988375.\n"
     ]
    },
    {
     "name": "stdout",
     "output_type": "stream",
     "text": [
      "HHPRecommender: URM Detected 627 ( 4.8%) users with no interactions.\n",
      "HHPRecommender: URM Detected 247 ( 1.1%) items with no interactions.\n",
      "HHPRecommender: Similarity column 22347 (100.0%), 1561.13 column/sec. Elapsed time 14.31 sec\n",
      "EvaluatorHoldout: Processed 10456 (100.0%) in 9.71 sec. Users per second: 1076\n"
     ]
    },
    {
     "name": "stderr",
     "output_type": "stream",
     "text": [
      "[I 2023-12-24 19:20:31,151] Trial 287 finished with value: 0.041698481770928726 and parameters: {'hybrid_lambda': 0.876683607868482, 'topK': 133}. Best is trial 260 with value: 0.04200889820988375.\n"
     ]
    },
    {
     "name": "stdout",
     "output_type": "stream",
     "text": [
      "HHPRecommender: URM Detected 627 ( 4.8%) users with no interactions.\n",
      "HHPRecommender: URM Detected 247 ( 1.1%) items with no interactions.\n",
      "HHPRecommender: Similarity column 22347 (100.0%), 1670.65 column/sec. Elapsed time 13.38 sec\n",
      "EvaluatorHoldout: Processed 10456 (100.0%) in 8.93 sec. Users per second: 1171\n"
     ]
    },
    {
     "name": "stderr",
     "output_type": "stream",
     "text": [
      "[I 2023-12-24 19:20:57,330] Trial 288 finished with value: 0.041845302613522324 and parameters: {'hybrid_lambda': 0.9021377955423409, 'topK': 103}. Best is trial 260 with value: 0.04200889820988375.\n"
     ]
    },
    {
     "name": "stdout",
     "output_type": "stream",
     "text": [
      "HHPRecommender: URM Detected 627 ( 4.8%) users with no interactions.\n",
      "HHPRecommender: URM Detected 247 ( 1.1%) items with no interactions.\n",
      "HHPRecommender: Similarity column 22347 (100.0%), 2071.98 column/sec. Elapsed time 10.79 sec\n",
      "EvaluatorHoldout: Processed 10456 (100.0%) in 9.28 sec. Users per second: 1126\n"
     ]
    },
    {
     "name": "stderr",
     "output_type": "stream",
     "text": [
      "[I 2023-12-24 19:21:20,056] Trial 289 finished with value: 0.04200162661978898 and parameters: {'hybrid_lambda': 0.8671388656460491, 'topK': 63}. Best is trial 260 with value: 0.04200889820988375.\n"
     ]
    },
    {
     "name": "stdout",
     "output_type": "stream",
     "text": [
      "HHPRecommender: URM Detected 627 ( 4.8%) users with no interactions.\n",
      "HHPRecommender: URM Detected 247 ( 1.1%) items with no interactions.\n",
      "HHPRecommender: Similarity column 22347 (100.0%), 1992.05 column/sec. Elapsed time 11.22 sec\n",
      "EvaluatorHoldout: Processed 10456 (100.0%) in 9.91 sec. Users per second: 1055\n"
     ]
    },
    {
     "name": "stderr",
     "output_type": "stream",
     "text": [
      "[I 2023-12-24 19:21:45,233] Trial 290 finished with value: 0.036965606441505955 and parameters: {'hybrid_lambda': 0.5959719898833528, 'topK': 78}. Best is trial 260 with value: 0.04200889820988375.\n"
     ]
    },
    {
     "name": "stdout",
     "output_type": "stream",
     "text": [
      "HHPRecommender: URM Detected 627 ( 4.8%) users with no interactions.\n",
      "HHPRecommender: URM Detected 247 ( 1.1%) items with no interactions.\n",
      "HHPRecommender: Similarity column 22347 (100.0%), 2993.53 column/sec. Elapsed time 7.47 sec\n",
      "EvaluatorHoldout: Processed 10456 (100.0%) in 8.61 sec. Users per second: 1214\n"
     ]
    },
    {
     "name": "stderr",
     "output_type": "stream",
     "text": [
      "[I 2023-12-24 19:22:02,346] Trial 291 finished with value: 0.036198537180748745 and parameters: {'hybrid_lambda': 0.8823489253324162, 'topK': 11}. Best is trial 260 with value: 0.04200889820988375.\n"
     ]
    },
    {
     "name": "stdout",
     "output_type": "stream",
     "text": [
      "HHPRecommender: URM Detected 627 ( 4.8%) users with no interactions.\n",
      "HHPRecommender: URM Detected 247 ( 1.1%) items with no interactions.\n",
      "HHPRecommender: Similarity column 22347 (100.0%), 2059.88 column/sec. Elapsed time 10.85 sec\n",
      "EvaluatorHoldout: Processed 10456 (100.0%) in 9.28 sec. Users per second: 1127\n"
     ]
    },
    {
     "name": "stderr",
     "output_type": "stream",
     "text": [
      "[I 2023-12-24 19:22:25,205] Trial 292 finished with value: 0.04198980459309509 and parameters: {'hybrid_lambda': 0.869164354814651, 'topK': 64}. Best is trial 260 with value: 0.04200889820988375.\n"
     ]
    },
    {
     "name": "stdout",
     "output_type": "stream",
     "text": [
      "HHPRecommender: URM Detected 627 ( 4.8%) users with no interactions.\n",
      "HHPRecommender: URM Detected 247 ( 1.1%) items with no interactions.\n",
      "HHPRecommender: Similarity column 22347 (100.0%), 2064.93 column/sec. Elapsed time 10.82 sec\n",
      "EvaluatorHoldout: Processed 10456 (100.0%) in 9.28 sec. Users per second: 1127\n"
     ]
    },
    {
     "name": "stderr",
     "output_type": "stream",
     "text": [
      "[I 2023-12-24 19:22:47,928] Trial 293 finished with value: 0.04188703455751134 and parameters: {'hybrid_lambda': 0.9119723058099437, 'topK': 65}. Best is trial 260 with value: 0.04200889820988375.\n"
     ]
    },
    {
     "name": "stdout",
     "output_type": "stream",
     "text": [
      "HHPRecommender: URM Detected 627 ( 4.8%) users with no interactions.\n",
      "HHPRecommender: URM Detected 247 ( 1.1%) items with no interactions.\n",
      "HHPRecommender: Similarity column 22347 (100.0%), 2034.27 column/sec. Elapsed time 10.99 sec\n",
      "EvaluatorHoldout: Processed 10456 (100.0%) in 9.26 sec. Users per second: 1129\n"
     ]
    },
    {
     "name": "stderr",
     "output_type": "stream",
     "text": [
      "[I 2023-12-24 19:23:10,902] Trial 294 finished with value: 0.04180706604243375 and parameters: {'hybrid_lambda': 0.8902410115119946, 'topK': 65}. Best is trial 260 with value: 0.04200889820988375.\n"
     ]
    },
    {
     "name": "stdout",
     "output_type": "stream",
     "text": [
      "HHPRecommender: URM Detected 627 ( 4.8%) users with no interactions.\n",
      "HHPRecommender: URM Detected 247 ( 1.1%) items with no interactions.\n",
      "HHPRecommender: Similarity column 22347 (100.0%), 2100.07 column/sec. Elapsed time 10.64 sec\n",
      "EvaluatorHoldout: Processed 10456 (100.0%) in 9.72 sec. Users per second: 1076\n"
     ]
    },
    {
     "name": "stderr",
     "output_type": "stream",
     "text": [
      "[I 2023-12-24 19:23:34,631] Trial 295 finished with value: 0.035655498172235386 and parameters: {'hybrid_lambda': 0.5712670745930517, 'topK': 60}. Best is trial 260 with value: 0.04200889820988375.\n"
     ]
    },
    {
     "name": "stdout",
     "output_type": "stream",
     "text": [
      "HHPRecommender: URM Detected 627 ( 4.8%) users with no interactions.\n",
      "HHPRecommender: URM Detected 247 ( 1.1%) items with no interactions.\n",
      "HHPRecommender: Similarity column 22347 (100.0%), 1810.07 column/sec. Elapsed time 12.35 sec\n",
      "EvaluatorHoldout: Processed 10456 (100.0%) in 9.43 sec. Users per second: 1109\n"
     ]
    },
    {
     "name": "stderr",
     "output_type": "stream",
     "text": [
      "[I 2023-12-24 19:23:59,914] Trial 296 finished with value: 0.04182033024252842 and parameters: {'hybrid_lambda': 0.8633624820736876, 'topK': 86}. Best is trial 260 with value: 0.04200889820988375.\n"
     ]
    },
    {
     "name": "stdout",
     "output_type": "stream",
     "text": [
      "HHPRecommender: URM Detected 627 ( 4.8%) users with no interactions.\n",
      "HHPRecommender: URM Detected 247 ( 1.1%) items with no interactions.\n",
      "HHPRecommender: Similarity column 22347 (100.0%), 1162.13 column/sec. Elapsed time 19.23 sec\n",
      "EvaluatorHoldout: Processed 10456 (100.0%) in 11.14 sec. Users per second: 938\n"
     ]
    },
    {
     "name": "stderr",
     "output_type": "stream",
     "text": [
      "[I 2023-12-24 19:24:40,179] Trial 297 finished with value: 0.03194157148322237 and parameters: {'hybrid_lambda': 0.5188808287836473, 'topK': 222}. Best is trial 260 with value: 0.04200889820988375.\n"
     ]
    },
    {
     "name": "stdout",
     "output_type": "stream",
     "text": [
      "HHPRecommender: URM Detected 627 ( 4.8%) users with no interactions.\n",
      "HHPRecommender: URM Detected 247 ( 1.1%) items with no interactions.\n",
      "HHPRecommender: Similarity column 22347 (100.0%), 1949.51 column/sec. Elapsed time 11.46 sec\n",
      "EvaluatorHoldout: Processed 10456 (100.0%) in 9.27 sec. Users per second: 1128\n"
     ]
    },
    {
     "name": "stderr",
     "output_type": "stream",
     "text": [
      "[I 2023-12-24 19:25:03,666] Trial 298 finished with value: 0.04176034721463236 and parameters: {'hybrid_lambda': 0.934924745737644, 'topK': 72}. Best is trial 260 with value: 0.04200889820988375.\n"
     ]
    },
    {
     "name": "stdout",
     "output_type": "stream",
     "text": [
      "HHPRecommender: URM Detected 627 ( 4.8%) users with no interactions.\n",
      "HHPRecommender: URM Detected 247 ( 1.1%) items with no interactions.\n",
      "HHPRecommender: Similarity column 22347 (100.0%), 2370.54 column/sec. Elapsed time 9.43 sec\n",
      "EvaluatorHoldout: Processed 10456 (100.0%) in 9.64 sec. Users per second: 1085\n"
     ]
    },
    {
     "name": "stderr",
     "output_type": "stream",
     "text": [
      "[I 2023-12-24 19:25:25,655] Trial 299 finished with value: 0.02337078050424457 and parameters: {'hybrid_lambda': 0.4189153785199323, 'topK': 51}. Best is trial 260 with value: 0.04200889820988375.\n"
     ]
    },
    {
     "name": "stdout",
     "output_type": "stream",
     "text": [
      "HHPRecommender: URM Detected 627 ( 4.8%) users with no interactions.\n",
      "HHPRecommender: URM Detected 247 ( 1.1%) items with no interactions.\n",
      "HHPRecommender: Similarity column 22347 (100.0%), 1725.75 column/sec. Elapsed time 12.95 sec\n",
      "EvaluatorHoldout: Processed 10456 (100.0%) in 8.95 sec. Users per second: 1168\n"
     ]
    },
    {
     "name": "stderr",
     "output_type": "stream",
     "text": [
      "[I 2023-12-24 19:25:51,390] Trial 300 finished with value: 0.0416418802601382 and parameters: {'hybrid_lambda': 0.8527857851143392, 'topK': 95}. Best is trial 260 with value: 0.04200889820988375.\n"
     ]
    },
    {
     "name": "stdout",
     "output_type": "stream",
     "text": [
      "HHPRecommender: URM Detected 627 ( 4.8%) users with no interactions.\n",
      "HHPRecommender: URM Detected 247 ( 1.1%) items with no interactions.\n",
      "HHPRecommender: Similarity column 22347 (100.0%), 2111.31 column/sec. Elapsed time 10.58 sec\n",
      "EvaluatorHoldout: Processed 10456 (100.0%) in 9.57 sec. Users per second: 1092\n"
     ]
    },
    {
     "name": "stderr",
     "output_type": "stream",
     "text": [
      "[I 2023-12-24 19:26:13,978] Trial 301 finished with value: 0.041598041983945316 and parameters: {'hybrid_lambda': 0.9063277909367119, 'topK': 59}. Best is trial 260 with value: 0.04200889820988375.\n"
     ]
    },
    {
     "name": "stdout",
     "output_type": "stream",
     "text": [
      "HHPRecommender: URM Detected 627 ( 4.8%) users with no interactions.\n",
      "HHPRecommender: URM Detected 247 ( 1.1%) items with no interactions.\n",
      "HHPRecommender: Similarity column 22347 (100.0%), 1645.00 column/sec. Elapsed time 13.58 sec\n",
      "EvaluatorHoldout: Processed 10456 (100.0%) in 9.63 sec. Users per second: 1085\n"
     ]
    },
    {
     "name": "stderr",
     "output_type": "stream",
     "text": [
      "[I 2023-12-24 19:26:41,656] Trial 302 finished with value: 0.04164849148662325 and parameters: {'hybrid_lambda': 0.8755283852334296, 'topK': 120}. Best is trial 260 with value: 0.04200889820988375.\n"
     ]
    },
    {
     "name": "stdout",
     "output_type": "stream",
     "text": [
      "HHPRecommender: URM Detected 627 ( 4.8%) users with no interactions.\n",
      "HHPRecommender: URM Detected 247 ( 1.1%) items with no interactions.\n",
      "HHPRecommender: Similarity column 22347 (100.0%), 1992.97 column/sec. Elapsed time 11.21 sec\n",
      "EvaluatorHoldout: Processed 10456 (100.0%) in 9.33 sec. Users per second: 1120\n"
     ]
    },
    {
     "name": "stderr",
     "output_type": "stream",
     "text": [
      "[I 2023-12-24 19:27:05,045] Trial 303 finished with value: 0.04183082774680951 and parameters: {'hybrid_lambda': 0.8920696848956257, 'topK': 70}. Best is trial 260 with value: 0.04200889820988375.\n"
     ]
    },
    {
     "name": "stdout",
     "output_type": "stream",
     "text": [
      "HHPRecommender: URM Detected 627 ( 4.8%) users with no interactions.\n",
      "HHPRecommender: URM Detected 247 ( 1.1%) items with no interactions.\n",
      "HHPRecommender: Similarity column 22347 (100.0%), 518.66 column/sec. Elapsed time 43.09 sec\n",
      "EvaluatorHoldout: Processed 10456 (100.0%) in 13.60 sec. Users per second: 769\n"
     ]
    },
    {
     "name": "stderr",
     "output_type": "stream",
     "text": [
      "[I 2023-12-24 19:28:28,308] Trial 304 finished with value: 0.03427247285677882 and parameters: {'hybrid_lambda': 0.9228676027668383, 'topK': 1122}. Best is trial 260 with value: 0.04200889820988375.\n"
     ]
    },
    {
     "name": "stdout",
     "output_type": "stream",
     "text": [
      "HHPRecommender: URM Detected 627 ( 4.8%) users with no interactions.\n",
      "HHPRecommender: URM Detected 247 ( 1.1%) items with no interactions.\n",
      "HHPRecommender: Similarity column 22347 (100.0%), 1943.48 column/sec. Elapsed time 11.50 sec\n",
      "EvaluatorHoldout: Processed 10456 (100.0%) in 9.41 sec. Users per second: 1111\n"
     ]
    },
    {
     "name": "stderr",
     "output_type": "stream",
     "text": [
      "[I 2023-12-24 19:28:52,488] Trial 305 finished with value: 0.0418976610983597 and parameters: {'hybrid_lambda': 0.8662678089183993, 'topK': 82}. Best is trial 260 with value: 0.04200889820988375.\n"
     ]
    },
    {
     "name": "stdout",
     "output_type": "stream",
     "text": [
      "HHPRecommender: URM Detected 627 ( 4.8%) users with no interactions.\n",
      "HHPRecommender: URM Detected 247 ( 1.1%) items with no interactions.\n",
      "HHPRecommender: Similarity column 22347 (100.0%), 430.15 column/sec. Elapsed time 51.95 sec\n",
      "EvaluatorHoldout: Processed 10456 (100.0%) in 15.56 sec. Users per second: 672\n"
     ]
    },
    {
     "name": "stderr",
     "output_type": "stream",
     "text": [
      "[I 2023-12-24 19:30:35,275] Trial 306 finished with value: 0.031505063546714486 and parameters: {'hybrid_lambda': 0.956259068136742, 'topK': 1856}. Best is trial 260 with value: 0.04200889820988375.\n"
     ]
    },
    {
     "name": "stdout",
     "output_type": "stream",
     "text": [
      "HHPRecommender: URM Detected 627 ( 4.8%) users with no interactions.\n",
      "HHPRecommender: URM Detected 247 ( 1.1%) items with no interactions.\n",
      "HHPRecommender: Similarity column 22347 (100.0%), 2057.28 column/sec. Elapsed time 10.86 sec\n",
      "EvaluatorHoldout: Processed 10456 (100.0%) in 9.52 sec. Users per second: 1099\n"
     ]
    },
    {
     "name": "stderr",
     "output_type": "stream",
     "text": [
      "[I 2023-12-24 19:30:58,791] Trial 307 finished with value: 0.040502893455265865 and parameters: {'hybrid_lambda': 0.726917310455103, 'topK': 63}. Best is trial 260 with value: 0.04200889820988375.\n"
     ]
    },
    {
     "name": "stdout",
     "output_type": "stream",
     "text": [
      "HHPRecommender: URM Detected 627 ( 4.8%) users with no interactions.\n",
      "HHPRecommender: URM Detected 247 ( 1.1%) items with no interactions.\n",
      "HHPRecommender: Similarity column 22347 (100.0%), 1902.38 column/sec. Elapsed time 11.75 sec\n",
      "EvaluatorHoldout: Processed 10456 (100.0%) in 9.41 sec. Users per second: 1112\n"
     ]
    },
    {
     "name": "stderr",
     "output_type": "stream",
     "text": [
      "[I 2023-12-24 19:31:23,081] Trial 308 finished with value: 0.0417482025965198 and parameters: {'hybrid_lambda': 0.8471409259137234, 'topK': 74}. Best is trial 260 with value: 0.04200889820988375.\n"
     ]
    },
    {
     "name": "stdout",
     "output_type": "stream",
     "text": [
      "HHPRecommender: URM Detected 627 ( 4.8%) users with no interactions.\n",
      "HHPRecommender: URM Detected 247 ( 1.1%) items with no interactions.\n",
      "HHPRecommender: Similarity column 22347 (100.0%), 1458.49 column/sec. Elapsed time 15.32 sec\n",
      "EvaluatorHoldout: Processed 10456 (100.0%) in 10.19 sec. Users per second: 1026\n"
     ]
    },
    {
     "name": "stderr",
     "output_type": "stream",
     "text": [
      "[I 2023-12-24 19:31:55,074] Trial 309 finished with value: 0.03927443497164274 and parameters: {'hybrid_lambda': 0.703743625789723, 'topK': 152}. Best is trial 260 with value: 0.04200889820988375.\n"
     ]
    },
    {
     "name": "stdout",
     "output_type": "stream",
     "text": [
      "HHPRecommender: URM Detected 627 ( 4.8%) users with no interactions.\n",
      "HHPRecommender: URM Detected 247 ( 1.1%) items with no interactions.\n",
      "HHPRecommender: Similarity column 22347 (100.0%), 2617.72 column/sec. Elapsed time 8.54 sec\n",
      "EvaluatorHoldout: Processed 10456 (100.0%) in 9.22 sec. Users per second: 1134\n"
     ]
    },
    {
     "name": "stderr",
     "output_type": "stream",
     "text": [
      "[I 2023-12-24 19:32:14,686] Trial 310 finished with value: 0.04118567147593583 and parameters: {'hybrid_lambda': 0.815870214798413, 'topK': 36}. Best is trial 260 with value: 0.04200889820988375.\n"
     ]
    },
    {
     "name": "stdout",
     "output_type": "stream",
     "text": [
      "HHPRecommender: URM Detected 627 ( 4.8%) users with no interactions.\n",
      "HHPRecommender: URM Detected 247 ( 1.1%) items with no interactions.\n",
      "HHPRecommender: Similarity column 22347 (100.0%), 2352.34 column/sec. Elapsed time 9.50 sec\n",
      "EvaluatorHoldout: Processed 10456 (100.0%) in 9.21 sec. Users per second: 1136\n"
     ]
    },
    {
     "name": "stderr",
     "output_type": "stream",
     "text": [
      "[I 2023-12-24 19:32:35,567] Trial 311 finished with value: 0.041648024677864555 and parameters: {'hybrid_lambda': 0.8867173966092379, 'topK': 51}. Best is trial 260 with value: 0.04200889820988375.\n"
     ]
    },
    {
     "name": "stdout",
     "output_type": "stream",
     "text": [
      "HHPRecommender: URM Detected 627 ( 4.8%) users with no interactions.\n",
      "HHPRecommender: URM Detected 247 ( 1.1%) items with no interactions.\n",
      "HHPRecommender: Similarity column 22347 (100.0%), 1696.63 column/sec. Elapsed time 13.17 sec\n",
      "EvaluatorHoldout: Processed 10456 (100.0%) in 8.87 sec. Users per second: 1179\n"
     ]
    },
    {
     "name": "stderr",
     "output_type": "stream",
     "text": [
      "[I 2023-12-24 19:33:01,306] Trial 312 finished with value: 0.04189917538043072 and parameters: {'hybrid_lambda': 0.9103679233656924, 'topK': 99}. Best is trial 260 with value: 0.04200889820988375.\n"
     ]
    },
    {
     "name": "stdout",
     "output_type": "stream",
     "text": [
      "HHPRecommender: URM Detected 627 ( 4.8%) users with no interactions.\n",
      "HHPRecommender: URM Detected 247 ( 1.1%) items with no interactions.\n",
      "HHPRecommender: Similarity column 22347 (100.0%), 1323.26 column/sec. Elapsed time 16.89 sec\n",
      "EvaluatorHoldout: Processed 10456 (100.0%) in 10.46 sec. Users per second: 999\n"
     ]
    },
    {
     "name": "stderr",
     "output_type": "stream",
     "text": [
      "[I 2023-12-24 19:33:36,288] Trial 313 finished with value: 0.03799969031223868 and parameters: {'hybrid_lambda': 0.6605017890491538, 'topK': 177}. Best is trial 260 with value: 0.04200889820988375.\n"
     ]
    },
    {
     "name": "stdout",
     "output_type": "stream",
     "text": [
      "HHPRecommender: URM Detected 627 ( 4.8%) users with no interactions.\n",
      "HHPRecommender: URM Detected 247 ( 1.1%) items with no interactions.\n",
      "HHPRecommender: Similarity column 22347 (100.0%), 664.32 column/sec. Elapsed time 33.64 sec\n",
      "EvaluatorHoldout: Processed 10456 (100.0%) in 11.75 sec. Users per second: 890\n"
     ]
    },
    {
     "name": "stderr",
     "output_type": "stream",
     "text": [
      "[I 2023-12-24 19:34:39,165] Trial 314 finished with value: 0.037092555652712925 and parameters: {'hybrid_lambda': 0.9899496665544382, 'topK': 654}. Best is trial 260 with value: 0.04200889820988375.\n"
     ]
    },
    {
     "name": "stdout",
     "output_type": "stream",
     "text": [
      "HHPRecommender: URM Detected 627 ( 4.8%) users with no interactions.\n",
      "HHPRecommender: URM Detected 247 ( 1.1%) items with no interactions.\n",
      "HHPRecommender: Similarity column 22347 (100.0%), 1863.30 column/sec. Elapsed time 11.99 sec\n",
      "EvaluatorHoldout: Processed 10456 (100.0%) in 9.87 sec. Users per second: 1060\n"
     ]
    },
    {
     "name": "stderr",
     "output_type": "stream",
     "text": [
      "[I 2023-12-24 19:35:05,244] Trial 315 finished with value: 0.038014165178951446 and parameters: {'hybrid_lambda': 0.6247168403671509, 'topK': 85}. Best is trial 260 with value: 0.04200889820988375.\n"
     ]
    },
    {
     "name": "stdout",
     "output_type": "stream",
     "text": [
      "HHPRecommender: URM Detected 627 ( 4.8%) users with no interactions.\n",
      "HHPRecommender: URM Detected 247 ( 1.1%) items with no interactions.\n",
      "HHPRecommender: Similarity column 22347 (100.0%), 1981.90 column/sec. Elapsed time 11.28 sec\n",
      "EvaluatorHoldout: Processed 10456 (100.0%) in 9.42 sec. Users per second: 1110\n"
     ]
    },
    {
     "name": "stderr",
     "output_type": "stream",
     "text": [
      "[I 2023-12-24 19:35:28,846] Trial 316 finished with value: 0.04192305473579429 and parameters: {'hybrid_lambda': 0.8661630693326522, 'topK': 68}. Best is trial 260 with value: 0.04200889820988375.\n"
     ]
    },
    {
     "name": "stdout",
     "output_type": "stream",
     "text": [
      "HHPRecommender: URM Detected 627 ( 4.8%) users with no interactions.\n",
      "HHPRecommender: URM Detected 247 ( 1.1%) items with no interactions.\n",
      "HHPRecommender: Similarity column 22347 (100.0%), 1621.29 column/sec. Elapsed time 13.78 sec\n",
      "EvaluatorHoldout: Processed 10456 (100.0%) in 9.14 sec. Users per second: 1144\n"
     ]
    },
    {
     "name": "stderr",
     "output_type": "stream",
     "text": [
      "[I 2023-12-24 19:35:56,073] Trial 317 finished with value: 0.041664120092056715 and parameters: {'hybrid_lambda': 0.8492960227318634, 'topK': 111}. Best is trial 260 with value: 0.04200889820988375.\n"
     ]
    },
    {
     "name": "stdout",
     "output_type": "stream",
     "text": [
      "HHPRecommender: URM Detected 627 ( 4.8%) users with no interactions.\n",
      "HHPRecommender: URM Detected 247 ( 1.1%) items with no interactions.\n",
      "HHPRecommender: Similarity column 22347 (100.0%), 2085.59 column/sec. Elapsed time 10.71 sec\n",
      "EvaluatorHoldout: Processed 10456 (100.0%) in 9.26 sec. Users per second: 1129\n"
     ]
    },
    {
     "name": "stderr",
     "output_type": "stream",
     "text": [
      "[I 2023-12-24 19:36:18,597] Trial 318 finished with value: 0.041819685059691414 and parameters: {'hybrid_lambda': 0.8834940152136693, 'topK': 61}. Best is trial 260 with value: 0.04200889820988375.\n"
     ]
    },
    {
     "name": "stdout",
     "output_type": "stream",
     "text": [
      "HHPRecommender: URM Detected 627 ( 4.8%) users with no interactions.\n",
      "HHPRecommender: URM Detected 247 ( 1.1%) items with no interactions.\n",
      "HHPRecommender: Similarity column 22347 (100.0%), 2735.26 column/sec. Elapsed time 8.17 sec\n",
      "EvaluatorHoldout: Processed 10456 (100.0%) in 8.93 sec. Users per second: 1170\n"
     ]
    },
    {
     "name": "stderr",
     "output_type": "stream",
     "text": [
      "[I 2023-12-24 19:36:37,189] Trial 319 finished with value: 0.040436944383721835 and parameters: {'hybrid_lambda': 0.8282810497974029, 'topK': 23}. Best is trial 260 with value: 0.04200889820988375.\n"
     ]
    },
    {
     "name": "stdout",
     "output_type": "stream",
     "text": [
      "HHPRecommender: URM Detected 627 ( 4.8%) users with no interactions.\n",
      "HHPRecommender: URM Detected 247 ( 1.1%) items with no interactions.\n",
      "HHPRecommender: Similarity column 22347 (100.0%), 1967.58 column/sec. Elapsed time 11.36 sec\n",
      "EvaluatorHoldout: Processed 10456 (100.0%) in 9.33 sec. Users per second: 1121\n"
     ]
    },
    {
     "name": "stderr",
     "output_type": "stream",
     "text": [
      "[I 2023-12-24 19:37:00,892] Trial 320 finished with value: 0.04187289366779674 and parameters: {'hybrid_lambda': 0.900984497917825, 'topK': 77}. Best is trial 260 with value: 0.04200889820988375.\n"
     ]
    },
    {
     "name": "stdout",
     "output_type": "stream",
     "text": [
      "HHPRecommender: URM Detected 627 ( 4.8%) users with no interactions.\n",
      "HHPRecommender: URM Detected 247 ( 1.1%) items with no interactions.\n",
      "HHPRecommender: Similarity column 22347 (100.0%), 1768.41 column/sec. Elapsed time 12.64 sec\n",
      "EvaluatorHoldout: Processed 10456 (100.0%) in 10.06 sec. Users per second: 1040\n"
     ]
    },
    {
     "name": "stderr",
     "output_type": "stream",
     "text": [
      "[I 2023-12-24 19:37:28,208] Trial 321 finished with value: 0.03476029180481207 and parameters: {'hybrid_lambda': 0.546575228750998, 'topK': 88}. Best is trial 260 with value: 0.04200889820988375.\n"
     ]
    },
    {
     "name": "stdout",
     "output_type": "stream",
     "text": [
      "HHPRecommender: URM Detected 627 ( 4.8%) users with no interactions.\n",
      "HHPRecommender: URM Detected 247 ( 1.1%) items with no interactions.\n",
      "HHPRecommender: Similarity column 22347 (100.0%), 2011.62 column/sec. Elapsed time 11.11 sec\n",
      "EvaluatorHoldout: Processed 10456 (100.0%) in 9.77 sec. Users per second: 1071\n"
     ]
    },
    {
     "name": "stderr",
     "output_type": "stream",
     "text": [
      "[I 2023-12-24 19:37:52,916] Trial 322 finished with value: 0.0314855752298371 and parameters: {'hybrid_lambda': 0.4973650051904526, 'topK': 69}. Best is trial 260 with value: 0.04200889820988375.\n"
     ]
    },
    {
     "name": "stdout",
     "output_type": "stream",
     "text": [
      "HHPRecommender: URM Detected 627 ( 4.8%) users with no interactions.\n",
      "HHPRecommender: URM Detected 247 ( 1.1%) items with no interactions.\n",
      "HHPRecommender: Similarity column 22347 (100.0%), 2122.64 column/sec. Elapsed time 10.53 sec\n",
      "EvaluatorHoldout: Processed 10456 (100.0%) in 9.14 sec. Users per second: 1144\n"
     ]
    },
    {
     "name": "stderr",
     "output_type": "stream",
     "text": [
      "[I 2023-12-24 19:38:14,871] Trial 323 finished with value: 0.04147928279957794 and parameters: {'hybrid_lambda': 0.9346193223413828, 'topK': 57}. Best is trial 260 with value: 0.04200889820988375.\n"
     ]
    },
    {
     "name": "stdout",
     "output_type": "stream",
     "text": [
      "HHPRecommender: URM Detected 627 ( 4.8%) users with no interactions.\n",
      "HHPRecommender: URM Detected 247 ( 1.1%) items with no interactions.\n",
      "HHPRecommender: Similarity column 22347 (100.0%), 2454.15 column/sec. Elapsed time 9.11 sec\n",
      "EvaluatorHoldout: Processed 10456 (100.0%) in 9.38 sec. Users per second: 1115\n"
     ]
    },
    {
     "name": "stderr",
     "output_type": "stream",
     "text": [
      "[I 2023-12-24 19:38:35,678] Trial 324 finished with value: 0.04024908991268077 and parameters: {'hybrid_lambda': 0.7163180581704492, 'topK': 46}. Best is trial 260 with value: 0.04200889820988375.\n"
     ]
    },
    {
     "name": "stdout",
     "output_type": "stream",
     "text": [
      "HHPRecommender: URM Detected 627 ( 4.8%) users with no interactions.\n",
      "HHPRecommender: URM Detected 247 ( 1.1%) items with no interactions.\n",
      "HHPRecommender: Similarity column 22347 (100.0%), 1941.34 column/sec. Elapsed time 11.51 sec\n",
      "EvaluatorHoldout: Processed 10456 (100.0%) in 9.33 sec. Users per second: 1121\n"
     ]
    },
    {
     "name": "stderr",
     "output_type": "stream",
     "text": [
      "[I 2023-12-24 19:38:59,599] Trial 325 finished with value: 0.04196187576662951 and parameters: {'hybrid_lambda': 0.869749201704496, 'topK': 75}. Best is trial 260 with value: 0.04200889820988375.\n"
     ]
    },
    {
     "name": "stdout",
     "output_type": "stream",
     "text": [
      "HHPRecommender: URM Detected 627 ( 4.8%) users with no interactions.\n",
      "HHPRecommender: URM Detected 247 ( 1.1%) items with no interactions.\n",
      "HHPRecommender: Similarity column 22347 (100.0%), 2083.24 column/sec. Elapsed time 10.73 sec\n",
      "EvaluatorHoldout: Processed 10456 (100.0%) in 9.62 sec. Users per second: 1087\n"
     ]
    },
    {
     "name": "stderr",
     "output_type": "stream",
     "text": [
      "[I 2023-12-24 19:39:23,460] Trial 326 finished with value: 0.016532969602020886 and parameters: {'hybrid_lambda': 0.3593791023826778, 'topK': 63}. Best is trial 260 with value: 0.04200889820988375.\n"
     ]
    },
    {
     "name": "stdout",
     "output_type": "stream",
     "text": [
      "HHPRecommender: URM Detected 627 ( 4.8%) users with no interactions.\n",
      "HHPRecommender: URM Detected 247 ( 1.1%) items with no interactions.\n",
      "HHPRecommender: Similarity column 22347 (100.0%), 2335.03 column/sec. Elapsed time 9.57 sec\n",
      "EvaluatorHoldout: Processed 10456 (100.0%) in 9.24 sec. Users per second: 1131\n"
     ]
    },
    {
     "name": "stderr",
     "output_type": "stream",
     "text": [
      "[I 2023-12-24 19:39:44,668] Trial 327 finished with value: 0.04180856893892532 and parameters: {'hybrid_lambda': 0.8527839646108789, 'topK': 52}. Best is trial 260 with value: 0.04200889820988375.\n"
     ]
    },
    {
     "name": "stdout",
     "output_type": "stream",
     "text": [
      "HHPRecommender: URM Detected 627 ( 4.8%) users with no interactions.\n",
      "HHPRecommender: URM Detected 247 ( 1.1%) items with no interactions.\n",
      "HHPRecommender: Similarity column 22347 (100.0%), 1769.63 column/sec. Elapsed time 12.63 sec\n",
      "EvaluatorHoldout: Processed 10456 (100.0%) in 9.97 sec. Users per second: 1048\n"
     ]
    },
    {
     "name": "stderr",
     "output_type": "stream",
     "text": [
      "[I 2023-12-24 19:40:12,202] Trial 328 finished with value: 0.0048088702772616405 and parameters: {'hybrid_lambda': 0.17333505596143683, 'topK': 94}. Best is trial 260 with value: 0.04200889820988375.\n"
     ]
    },
    {
     "name": "stdout",
     "output_type": "stream",
     "text": [
      "HHPRecommender: URM Detected 627 ( 4.8%) users with no interactions.\n",
      "HHPRecommender: URM Detected 247 ( 1.1%) items with no interactions.\n",
      "HHPRecommender: Similarity column 22347 (100.0%), 1941.43 column/sec. Elapsed time 11.51 sec\n",
      "EvaluatorHoldout: Processed 10456 (100.0%) in 9.37 sec. Users per second: 1116\n"
     ]
    },
    {
     "name": "stderr",
     "output_type": "stream",
     "text": [
      "[I 2023-12-24 19:40:36,005] Trial 329 finished with value: 0.041745166441991804 and parameters: {'hybrid_lambda': 0.891260232054706, 'topK': 72}. Best is trial 260 with value: 0.04200889820988375.\n"
     ]
    },
    {
     "name": "stdout",
     "output_type": "stream",
     "text": [
      "HHPRecommender: URM Detected 627 ( 4.8%) users with no interactions.\n",
      "HHPRecommender: URM Detected 247 ( 1.1%) items with no interactions.\n",
      "HHPRecommender: Similarity column 22347 (100.0%), 1984.34 column/sec. Elapsed time 11.26 sec\n",
      "EvaluatorHoldout: Processed 10456 (100.0%) in 9.24 sec. Users per second: 1131\n"
     ]
    },
    {
     "name": "stderr",
     "output_type": "stream",
     "text": [
      "[I 2023-12-24 19:40:59,441] Trial 330 finished with value: 0.041795574197544906 and parameters: {'hybrid_lambda': 0.9179759020016347, 'topK': 77}. Best is trial 260 with value: 0.04200889820988375.\n"
     ]
    },
    {
     "name": "stdout",
     "output_type": "stream",
     "text": [
      "HHPRecommender: URM Detected 627 ( 4.8%) users with no interactions.\n",
      "HHPRecommender: URM Detected 247 ( 1.1%) items with no interactions.\n",
      "HHPRecommender: Similarity column 22347 (100.0%), 3126.71 column/sec. Elapsed time 7.15 sec\n",
      "EvaluatorHoldout: Processed 10456 (100.0%) in 8.64 sec. Users per second: 1210\n"
     ]
    },
    {
     "name": "stderr",
     "output_type": "stream",
     "text": [
      "[I 2023-12-24 19:41:16,238] Trial 331 finished with value: 0.03361987041692504 and parameters: {'hybrid_lambda': 0.7743236293367005, 'topK': 7}. Best is trial 260 with value: 0.04200889820988375.\n"
     ]
    },
    {
     "name": "stdout",
     "output_type": "stream",
     "text": [
      "HHPRecommender: URM Detected 627 ( 4.8%) users with no interactions.\n",
      "HHPRecommender: URM Detected 247 ( 1.1%) items with no interactions.\n",
      "HHPRecommender: Similarity column 22347 (100.0%), 2122.60 column/sec. Elapsed time 10.53 sec\n",
      "EvaluatorHoldout: Processed 10456 (100.0%) in 9.36 sec. Users per second: 1118\n"
     ]
    },
    {
     "name": "stderr",
     "output_type": "stream",
     "text": [
      "[I 2023-12-24 19:41:38,867] Trial 332 finished with value: 0.0417304828396551 and parameters: {'hybrid_lambda': 0.7934944322967369, 'topK': 59}. Best is trial 260 with value: 0.04200889820988375.\n"
     ]
    },
    {
     "name": "stdout",
     "output_type": "stream",
     "text": [
      "HHPRecommender: URM Detected 627 ( 4.8%) users with no interactions.\n",
      "HHPRecommender: URM Detected 247 ( 1.1%) items with no interactions.\n",
      "HHPRecommender: Similarity column 22347 (100.0%), 2004.84 column/sec. Elapsed time 11.15 sec\n",
      "EvaluatorHoldout: Processed 10456 (100.0%) in 9.30 sec. Users per second: 1125\n"
     ]
    },
    {
     "name": "stderr",
     "output_type": "stream",
     "text": [
      "[I 2023-12-24 19:42:02,165] Trial 333 finished with value: 0.04192374546094947 and parameters: {'hybrid_lambda': 0.8719902022483614, 'topK': 67}. Best is trial 260 with value: 0.04200889820988375.\n"
     ]
    },
    {
     "name": "stdout",
     "output_type": "stream",
     "text": [
      "HHPRecommender: URM Detected 627 ( 4.8%) users with no interactions.\n",
      "HHPRecommender: URM Detected 247 ( 1.1%) items with no interactions.\n",
      "HHPRecommender: Similarity column 22347 (100.0%), 2941.54 column/sec. Elapsed time 7.60 sec\n",
      "EvaluatorHoldout: Processed 10456 (100.0%) in 8.79 sec. Users per second: 1189\n"
     ]
    },
    {
     "name": "stderr",
     "output_type": "stream",
     "text": [
      "[I 2023-12-24 19:42:19,693] Trial 334 finished with value: 0.03775875626965952 and parameters: {'hybrid_lambda': 0.8397756490842642, 'topK': 13}. Best is trial 260 with value: 0.04200889820988375.\n"
     ]
    },
    {
     "name": "stdout",
     "output_type": "stream",
     "text": [
      "HHPRecommender: URM Detected 627 ( 4.8%) users with no interactions.\n",
      "HHPRecommender: URM Detected 247 ( 1.1%) items with no interactions.\n",
      "HHPRecommender: Similarity column 22347 (100.0%), 1783.98 column/sec. Elapsed time 12.53 sec\n",
      "EvaluatorHoldout: Processed 10456 (100.0%) in 9.76 sec. Users per second: 1071\n"
     ]
    },
    {
     "name": "stderr",
     "output_type": "stream",
     "text": [
      "[I 2023-12-24 19:42:45,968] Trial 335 finished with value: 0.040790629819895834 and parameters: {'hybrid_lambda': 0.7536956935867156, 'topK': 89}. Best is trial 260 with value: 0.04200889820988375.\n"
     ]
    },
    {
     "name": "stdout",
     "output_type": "stream",
     "text": [
      "HHPRecommender: URM Detected 627 ( 4.8%) users with no interactions.\n",
      "HHPRecommender: URM Detected 247 ( 1.1%) items with no interactions.\n",
      "HHPRecommender: Similarity column 22347 (100.0%), 2656.94 column/sec. Elapsed time 8.41 sec\n",
      "EvaluatorHoldout: Processed 10456 (100.0%) in 9.03 sec. Users per second: 1157\n"
     ]
    },
    {
     "name": "stderr",
     "output_type": "stream",
     "text": [
      "[I 2023-12-24 19:43:05,061] Trial 336 finished with value: 0.04103658490302571 and parameters: {'hybrid_lambda': 0.8584858214499111, 'topK': 31}. Best is trial 260 with value: 0.04200889820988375.\n"
     ]
    },
    {
     "name": "stdout",
     "output_type": "stream",
     "text": [
      "HHPRecommender: URM Detected 627 ( 4.8%) users with no interactions.\n",
      "HHPRecommender: URM Detected 247 ( 1.1%) items with no interactions.\n",
      "HHPRecommender: Similarity column 22347 (100.0%), 1958.90 column/sec. Elapsed time 11.41 sec\n",
      "EvaluatorHoldout: Processed 10456 (100.0%) in 9.34 sec. Users per second: 1119\n"
     ]
    },
    {
     "name": "stderr",
     "output_type": "stream",
     "text": [
      "[I 2023-12-24 19:43:28,942] Trial 337 finished with value: 0.041841932481996205 and parameters: {'hybrid_lambda': 0.8988248633079317, 'topK': 80}. Best is trial 260 with value: 0.04200889820988375.\n"
     ]
    },
    {
     "name": "stdout",
     "output_type": "stream",
     "text": [
      "HHPRecommender: URM Detected 627 ( 4.8%) users with no interactions.\n",
      "HHPRecommender: URM Detected 247 ( 1.1%) items with no interactions.\n",
      "HHPRecommender: Similarity column 22347 (100.0%), 843.89 column/sec. Elapsed time 26.48 sec\n",
      "EvaluatorHoldout: Processed 10456 (100.0%) in 10.70 sec. Users per second: 977\n"
     ]
    },
    {
     "name": "stderr",
     "output_type": "stream",
     "text": [
      "[I 2023-12-24 19:44:19,610] Trial 338 finished with value: 0.03804034821656319 and parameters: {'hybrid_lambda': 0.8253087353604458, 'topK': 420}. Best is trial 260 with value: 0.04200889820988375.\n"
     ]
    },
    {
     "name": "stdout",
     "output_type": "stream",
     "text": [
      "HHPRecommender: URM Detected 627 ( 4.8%) users with no interactions.\n",
      "HHPRecommender: URM Detected 247 ( 1.1%) items with no interactions.\n",
      "HHPRecommender: Similarity column 22347 (100.0%), 2543.16 column/sec. Elapsed time 8.79 sec\n",
      "EvaluatorHoldout: Processed 10456 (100.0%) in 9.40 sec. Users per second: 1112\n"
     ]
    },
    {
     "name": "stderr",
     "output_type": "stream",
     "text": [
      "[I 2023-12-24 19:44:40,187] Trial 339 finished with value: 0.03636307398501392 and parameters: {'hybrid_lambda': 0.5950566707247407, 'topK': 42}. Best is trial 260 with value: 0.04200889820988375.\n"
     ]
    },
    {
     "name": "stdout",
     "output_type": "stream",
     "text": [
      "HHPRecommender: URM Detected 627 ( 4.8%) users with no interactions.\n",
      "HHPRecommender: URM Detected 247 ( 1.1%) items with no interactions.\n",
      "HHPRecommender: Similarity column 22347 (100.0%), 2298.63 column/sec. Elapsed time 9.72 sec\n",
      "EvaluatorHoldout: Processed 10456 (100.0%) in 9.08 sec. Users per second: 1152\n"
     ]
    },
    {
     "name": "stderr",
     "output_type": "stream",
     "text": [
      "[I 2023-12-24 19:45:01,190] Trial 340 finished with value: 0.041315914914806136 and parameters: {'hybrid_lambda': 0.9518043997605155, 'topK': 55}. Best is trial 260 with value: 0.04200889820988375.\n"
     ]
    },
    {
     "name": "stdout",
     "output_type": "stream",
     "text": [
      "HHPRecommender: URM Detected 627 ( 4.8%) users with no interactions.\n",
      "HHPRecommender: URM Detected 247 ( 1.1%) items with no interactions.\n",
      "HHPRecommender: Similarity column 22347 (100.0%), 1761.44 column/sec. Elapsed time 12.69 sec\n",
      "EvaluatorHoldout: Processed 10456 (100.0%) in 8.98 sec. Users per second: 1165\n"
     ]
    },
    {
     "name": "stderr",
     "output_type": "stream",
     "text": [
      "[I 2023-12-24 19:45:26,810] Trial 341 finished with value: 0.04172240287341725 and parameters: {'hybrid_lambda': 0.8765054232632843, 'topK': 103}. Best is trial 260 with value: 0.04200889820988375.\n"
     ]
    },
    {
     "name": "stdout",
     "output_type": "stream",
     "text": [
      "HHPRecommender: URM Detected 627 ( 4.8%) users with no interactions.\n",
      "HHPRecommender: URM Detected 247 ( 1.1%) items with no interactions.\n",
      "HHPRecommender: Similarity column 22347 (100.0%), 2130.38 column/sec. Elapsed time 10.49 sec\n",
      "EvaluatorHoldout: Processed 10456 (100.0%) in 9.21 sec. Users per second: 1135\n"
     ]
    },
    {
     "name": "stderr",
     "output_type": "stream",
     "text": [
      "[I 2023-12-24 19:45:49,152] Trial 342 finished with value: 0.04181678932731017 and parameters: {'hybrid_lambda': 0.921684386901834, 'topK': 66}. Best is trial 260 with value: 0.04200889820988375.\n"
     ]
    },
    {
     "name": "stdout",
     "output_type": "stream",
     "text": [
      "HHPRecommender: URM Detected 627 ( 4.8%) users with no interactions.\n",
      "HHPRecommender: URM Detected 247 ( 1.1%) items with no interactions.\n",
      "HHPRecommender: Similarity column 22347 (100.0%), 1927.94 column/sec. Elapsed time 11.59 sec\n",
      "EvaluatorHoldout: Processed 10456 (100.0%) in 9.52 sec. Users per second: 1098\n"
     ]
    },
    {
     "name": "stderr",
     "output_type": "stream",
     "text": [
      "[I 2023-12-24 19:46:13,800] Trial 343 finished with value: 0.04163488192395094 and parameters: {'hybrid_lambda': 0.8100917011235828, 'topK': 83}. Best is trial 260 with value: 0.04200889820988375.\n"
     ]
    },
    {
     "name": "stdout",
     "output_type": "stream",
     "text": [
      "HHPRecommender: URM Detected 627 ( 4.8%) users with no interactions.\n",
      "HHPRecommender: URM Detected 247 ( 1.1%) items with no interactions.\n",
      "HHPRecommender: Similarity column 22347 (100.0%), 2391.19 column/sec. Elapsed time 9.35 sec\n",
      "EvaluatorHoldout: Processed 10456 (100.0%) in 9.15 sec. Users per second: 1143\n"
     ]
    },
    {
     "name": "stderr",
     "output_type": "stream",
     "text": [
      "[I 2023-12-24 19:46:34,529] Trial 344 finished with value: 0.04152613445913987 and parameters: {'hybrid_lambda': 0.8615972386753402, 'topK': 49}. Best is trial 260 with value: 0.04200889820988375.\n"
     ]
    },
    {
     "name": "stdout",
     "output_type": "stream",
     "text": [
      "HHPRecommender: URM Detected 627 ( 4.8%) users with no interactions.\n",
      "HHPRecommender: URM Detected 247 ( 1.1%) items with no interactions.\n",
      "HHPRecommender: Similarity column 22347 (100.0%), 2100.43 column/sec. Elapsed time 10.64 sec\n",
      "EvaluatorHoldout: Processed 10456 (100.0%) in 9.36 sec. Users per second: 1117\n"
     ]
    },
    {
     "name": "stderr",
     "output_type": "stream",
     "text": [
      "[I 2023-12-24 19:46:57,361] Trial 345 finished with value: 0.041797752638418804 and parameters: {'hybrid_lambda': 0.8886986655197615, 'topK': 70}. Best is trial 260 with value: 0.04200889820988375.\n"
     ]
    },
    {
     "name": "stdout",
     "output_type": "stream",
     "text": [
      "HHPRecommender: URM Detected 627 ( 4.8%) users with no interactions.\n",
      "HHPRecommender: URM Detected 247 ( 1.1%) items with no interactions.\n",
      "HHPRecommender: Similarity column 22347 (100.0%), 2201.14 column/sec. Elapsed time 10.15 sec\n",
      "EvaluatorHoldout: Processed 10456 (100.0%) in 9.33 sec. Users per second: 1120\n"
     ]
    },
    {
     "name": "stderr",
     "output_type": "stream",
     "text": [
      "[I 2023-12-24 19:47:19,536] Trial 346 finished with value: 0.04201045044388637 and parameters: {'hybrid_lambda': 0.8450256587797654, 'topK': 61}. Best is trial 346 with value: 0.04201045044388637.\n"
     ]
    },
    {
     "name": "stdout",
     "output_type": "stream",
     "text": [
      "HHPRecommender: URM Detected 627 ( 4.8%) users with no interactions.\n",
      "HHPRecommender: URM Detected 247 ( 1.1%) items with no interactions.\n",
      "HHPRecommender: Similarity column 22347 (100.0%), 2006.54 column/sec. Elapsed time 11.14 sec\n",
      "EvaluatorHoldout: Processed 10456 (100.0%) in 9.40 sec. Users per second: 1113\n"
     ]
    },
    {
     "name": "stderr",
     "output_type": "stream",
     "text": [
      "[I 2023-12-24 19:47:43,244] Trial 347 finished with value: 0.04162813407051207 and parameters: {'hybrid_lambda': 0.8401730497435024, 'topK': 75}. Best is trial 346 with value: 0.04201045044388637.\n"
     ]
    },
    {
     "name": "stdout",
     "output_type": "stream",
     "text": [
      "HHPRecommender: URM Detected 627 ( 4.8%) users with no interactions.\n",
      "HHPRecommender: URM Detected 247 ( 1.1%) items with no interactions.\n",
      "HHPRecommender: Similarity column 22347 (100.0%), 1834.35 column/sec. Elapsed time 12.18 sec\n",
      "EvaluatorHoldout: Processed 10456 (100.0%) in 9.67 sec. Users per second: 1081\n"
     ]
    },
    {
     "name": "stderr",
     "output_type": "stream",
     "text": [
      "[I 2023-12-24 19:48:09,030] Trial 348 finished with value: 0.04163743988414086 and parameters: {'hybrid_lambda': 0.8148332355272162, 'topK': 94}. Best is trial 346 with value: 0.04201045044388637.\n"
     ]
    },
    {
     "name": "stdout",
     "output_type": "stream",
     "text": [
      "HHPRecommender: URM Detected 627 ( 4.8%) users with no interactions.\n",
      "HHPRecommender: URM Detected 247 ( 1.1%) items with no interactions.\n",
      "HHPRecommender: Similarity column 22347 (100.0%), 2248.62 column/sec. Elapsed time 9.94 sec\n",
      "EvaluatorHoldout: Processed 10456 (100.0%) in 9.25 sec. Users per second: 1131\n"
     ]
    },
    {
     "name": "stderr",
     "output_type": "stream",
     "text": [
      "[I 2023-12-24 19:48:30,740] Trial 349 finished with value: 0.041830512745777315 and parameters: {'hybrid_lambda': 0.8452447205304946, 'topK': 57}. Best is trial 346 with value: 0.04201045044388637.\n"
     ]
    },
    {
     "name": "stdout",
     "output_type": "stream",
     "text": [
      "HHPRecommender: URM Detected 627 ( 4.8%) users with no interactions.\n",
      "HHPRecommender: URM Detected 247 ( 1.1%) items with no interactions.\n",
      "HHPRecommender: Similarity column 22347 (100.0%), 3125.17 column/sec. Elapsed time 7.15 sec\n",
      "EvaluatorHoldout: Processed 10456 (100.0%) in 8.59 sec. Users per second: 1218\n"
     ]
    },
    {
     "name": "stderr",
     "output_type": "stream",
     "text": [
      "[I 2023-12-24 19:48:47,419] Trial 350 finished with value: 0.02907589703185553 and parameters: {'hybrid_lambda': 0.6293037955715921, 'topK': 5}. Best is trial 346 with value: 0.04201045044388637.\n"
     ]
    },
    {
     "name": "stdout",
     "output_type": "stream",
     "text": [
      "HHPRecommender: URM Detected 627 ( 4.8%) users with no interactions.\n",
      "HHPRecommender: URM Detected 247 ( 1.1%) items with no interactions.\n",
      "HHPRecommender: Similarity column 22347 (100.0%), 2155.12 column/sec. Elapsed time 10.37 sec\n",
      "EvaluatorHoldout: Processed 10456 (100.0%) in 9.26 sec. Users per second: 1129\n"
     ]
    },
    {
     "name": "stderr",
     "output_type": "stream",
     "text": [
      "[I 2023-12-24 19:49:09,657] Trial 351 finished with value: 0.0417884164632449 and parameters: {'hybrid_lambda': 0.903902313427755, 'topK': 64}. Best is trial 346 with value: 0.04201045044388637.\n"
     ]
    },
    {
     "name": "stdout",
     "output_type": "stream",
     "text": [
      "HHPRecommender: URM Detected 627 ( 4.8%) users with no interactions.\n",
      "HHPRecommender: URM Detected 247 ( 1.1%) items with no interactions.\n",
      "HHPRecommender: Similarity column 22347 (100.0%), 2803.11 column/sec. Elapsed time 7.97 sec\n",
      "EvaluatorHoldout: Processed 10456 (100.0%) in 8.65 sec. Users per second: 1209\n"
     ]
    },
    {
     "name": "stderr",
     "output_type": "stream",
     "text": [
      "[I 2023-12-24 19:49:27,448] Trial 352 finished with value: 0.03803274264947035 and parameters: {'hybrid_lambda': 0.970586659155139, 'topK': 18}. Best is trial 346 with value: 0.04201045044388637.\n"
     ]
    },
    {
     "name": "stdout",
     "output_type": "stream",
     "text": [
      "HHPRecommender: URM Detected 627 ( 4.8%) users with no interactions.\n",
      "HHPRecommender: URM Detected 247 ( 1.1%) items with no interactions.\n",
      "HHPRecommender: Similarity column 22347 (100.0%), 1538.66 column/sec. Elapsed time 14.52 sec\n",
      "EvaluatorHoldout: Processed 10456 (100.0%) in 9.74 sec. Users per second: 1074\n"
     ]
    },
    {
     "name": "stderr",
     "output_type": "stream",
     "text": [
      "[I 2023-12-24 19:49:56,775] Trial 353 finished with value: 0.04159034912740975 and parameters: {'hybrid_lambda': 0.8615524960828539, 'topK': 136}. Best is trial 346 with value: 0.04201045044388637.\n"
     ]
    },
    {
     "name": "stdout",
     "output_type": "stream",
     "text": [
      "HHPRecommender: URM Detected 627 ( 4.8%) users with no interactions.\n",
      "HHPRecommender: URM Detected 247 ( 1.1%) items with no interactions.\n",
      "HHPRecommender: Similarity column 22347 (100.0%), 1937.43 column/sec. Elapsed time 11.53 sec\n",
      "EvaluatorHoldout: Processed 10456 (100.0%) in 9.33 sec. Users per second: 1121\n"
     ]
    },
    {
     "name": "stderr",
     "output_type": "stream",
     "text": [
      "[I 2023-12-24 19:50:20,791] Trial 354 finished with value: 0.04200727007201812 and parameters: {'hybrid_lambda': 0.8890894527266332, 'topK': 81}. Best is trial 346 with value: 0.04201045044388637.\n"
     ]
    },
    {
     "name": "stdout",
     "output_type": "stream",
     "text": [
      "HHPRecommender: URM Detected 627 ( 4.8%) users with no interactions.\n",
      "HHPRecommender: URM Detected 247 ( 1.1%) items with no interactions.\n",
      "HHPRecommender: Similarity column 22347 (100.0%), 1765.98 column/sec. Elapsed time 12.65 sec\n",
      "EvaluatorHoldout: Processed 10456 (100.0%) in 8.93 sec. Users per second: 1171\n"
     ]
    },
    {
     "name": "stderr",
     "output_type": "stream",
     "text": [
      "[I 2023-12-24 19:50:46,053] Trial 355 finished with value: 0.041878294227663614 and parameters: {'hybrid_lambda': 0.9331036095296393, 'topK': 103}. Best is trial 346 with value: 0.04201045044388637.\n"
     ]
    },
    {
     "name": "stdout",
     "output_type": "stream",
     "text": [
      "HHPRecommender: URM Detected 627 ( 4.8%) users with no interactions.\n",
      "HHPRecommender: URM Detected 247 ( 1.1%) items with no interactions.\n",
      "HHPRecommender: Similarity column 22347 (100.0%), 1933.38 column/sec. Elapsed time 11.56 sec\n",
      "EvaluatorHoldout: Processed 10456 (100.0%) in 9.36 sec. Users per second: 1118\n"
     ]
    },
    {
     "name": "stderr",
     "output_type": "stream",
     "text": [
      "[I 2023-12-24 19:51:10,177] Trial 356 finished with value: 0.04193054644709252 and parameters: {'hybrid_lambda': 0.9034657624945579, 'topK': 83}. Best is trial 346 with value: 0.04201045044388637.\n"
     ]
    },
    {
     "name": "stdout",
     "output_type": "stream",
     "text": [
      "HHPRecommender: URM Detected 627 ( 4.8%) users with no interactions.\n",
      "HHPRecommender: URM Detected 247 ( 1.1%) items with no interactions.\n",
      "HHPRecommender: Similarity column 22347 (100.0%), 1663.69 column/sec. Elapsed time 13.43 sec\n",
      "EvaluatorHoldout: Processed 10456 (100.0%) in 9.08 sec. Users per second: 1151\n"
     ]
    },
    {
     "name": "stderr",
     "output_type": "stream",
     "text": [
      "[I 2023-12-24 19:51:37,273] Trial 357 finished with value: 0.04148862276994507 and parameters: {'hybrid_lambda': 0.8247135838953282, 'topK': 114}. Best is trial 346 with value: 0.04201045044388637.\n"
     ]
    },
    {
     "name": "stdout",
     "output_type": "stream",
     "text": [
      "HHPRecommender: URM Detected 627 ( 4.8%) users with no interactions.\n",
      "HHPRecommender: URM Detected 247 ( 1.1%) items with no interactions.\n",
      "HHPRecommender: Similarity column 22347 (100.0%), 1851.85 column/sec. Elapsed time 12.07 sec\n",
      "EvaluatorHoldout: Processed 10456 (100.0%) in 9.90 sec. Users per second: 1056\n"
     ]
    },
    {
     "name": "stderr",
     "output_type": "stream",
     "text": [
      "[I 2023-12-24 19:52:03,687] Trial 358 finished with value: 0.03849547537071496 and parameters: {'hybrid_lambda': 0.6442537683547622, 'topK': 90}. Best is trial 346 with value: 0.04201045044388637.\n"
     ]
    },
    {
     "name": "stdout",
     "output_type": "stream",
     "text": [
      "HHPRecommender: URM Detected 627 ( 4.8%) users with no interactions.\n",
      "HHPRecommender: URM Detected 247 ( 1.1%) items with no interactions.\n",
      "HHPRecommender: Similarity column 22347 (100.0%), 1976.41 column/sec. Elapsed time 11.31 sec\n",
      "EvaluatorHoldout: Processed 10456 (100.0%) in 9.36 sec. Users per second: 1118\n"
     ]
    },
    {
     "name": "stderr",
     "output_type": "stream",
     "text": [
      "[I 2023-12-24 19:52:27,483] Trial 359 finished with value: 0.04197436195212642 and parameters: {'hybrid_lambda': 0.8850654174388012, 'topK': 78}. Best is trial 346 with value: 0.04201045044388637.\n"
     ]
    },
    {
     "name": "stdout",
     "output_type": "stream",
     "text": [
      "HHPRecommender: URM Detected 627 ( 4.8%) users with no interactions.\n",
      "HHPRecommender: URM Detected 247 ( 1.1%) items with no interactions.\n",
      "HHPRecommender: Similarity column 22347 (100.0%), 1991.69 column/sec. Elapsed time 11.22 sec\n",
      "EvaluatorHoldout: Processed 10456 (100.0%) in 9.87 sec. Users per second: 1059\n"
     ]
    },
    {
     "name": "stderr",
     "output_type": "stream",
     "text": [
      "[I 2023-12-24 19:52:52,680] Trial 360 finished with value: 0.03600044707375472 and parameters: {'hybrid_lambda': 0.5705534858778063, 'topK': 78}. Best is trial 346 with value: 0.04201045044388637.\n"
     ]
    },
    {
     "name": "stdout",
     "output_type": "stream",
     "text": [
      "HHPRecommender: URM Detected 627 ( 4.8%) users with no interactions.\n",
      "HHPRecommender: URM Detected 247 ( 1.1%) items with no interactions.\n",
      "HHPRecommender: Similarity column 22347 (100.0%), 1792.38 column/sec. Elapsed time 12.47 sec\n",
      "EvaluatorHoldout: Processed 10456 (100.0%) in 8.91 sec. Users per second: 1173\n"
     ]
    },
    {
     "name": "stderr",
     "output_type": "stream",
     "text": [
      "[I 2023-12-24 19:53:17,639] Trial 361 finished with value: 0.041799760295600556 and parameters: {'hybrid_lambda': 0.9164944388978763, 'topK': 95}. Best is trial 346 with value: 0.04201045044388637.\n"
     ]
    },
    {
     "name": "stdout",
     "output_type": "stream",
     "text": [
      "HHPRecommender: URM Detected 627 ( 4.8%) users with no interactions.\n",
      "HHPRecommender: URM Detected 247 ( 1.1%) items with no interactions.\n",
      "HHPRecommender: Similarity column 22347 (100.0%), 3142.00 column/sec. Elapsed time 7.11 sec\n",
      "EvaluatorHoldout: Processed 10456 (100.0%) in 8.48 sec. Users per second: 1233\n"
     ]
    },
    {
     "name": "stderr",
     "output_type": "stream",
     "text": [
      "[I 2023-12-24 19:53:34,134] Trial 362 finished with value: 0.0057919353663424145 and parameters: {'hybrid_lambda': 0.2650933154502222, 'topK': 6}. Best is trial 346 with value: 0.04201045044388637.\n"
     ]
    },
    {
     "name": "stdout",
     "output_type": "stream",
     "text": [
      "HHPRecommender: URM Detected 627 ( 4.8%) users with no interactions.\n",
      "HHPRecommender: URM Detected 247 ( 1.1%) items with no interactions.\n",
      "HHPRecommender: Similarity column 22347 (100.0%), 1932.38 column/sec. Elapsed time 11.56 sec\n",
      "EvaluatorHoldout: Processed 10456 (100.0%) in 9.36 sec. Users per second: 1118\n"
     ]
    },
    {
     "name": "stderr",
     "output_type": "stream",
     "text": [
      "[I 2023-12-24 19:53:58,413] Trial 363 finished with value: 0.0419863281961603 and parameters: {'hybrid_lambda': 0.8912621039162012, 'topK': 84}. Best is trial 346 with value: 0.04201045044388637.\n"
     ]
    },
    {
     "name": "stdout",
     "output_type": "stream",
     "text": [
      "HHPRecommender: URM Detected 627 ( 4.8%) users with no interactions.\n",
      "HHPRecommender: URM Detected 247 ( 1.1%) items with no interactions.\n",
      "HHPRecommender: Similarity column 22347 (100.0%), 2039.95 column/sec. Elapsed time 10.95 sec\n",
      "EvaluatorHoldout: Processed 10456 (100.0%) in 9.43 sec. Users per second: 1108\n"
     ]
    },
    {
     "name": "stderr",
     "output_type": "stream",
     "text": [
      "[I 2023-12-24 19:54:21,832] Trial 364 finished with value: 0.04185157986300913 and parameters: {'hybrid_lambda': 0.8498873250291655, 'topK': 72}. Best is trial 346 with value: 0.04201045044388637.\n"
     ]
    },
    {
     "name": "stdout",
     "output_type": "stream",
     "text": [
      "HHPRecommender: URM Detected 627 ( 4.8%) users with no interactions.\n",
      "HHPRecommender: URM Detected 247 ( 1.1%) items with no interactions.\n",
      "HHPRecommender: Similarity column 22347 (100.0%), 1617.61 column/sec. Elapsed time 13.81 sec\n",
      "EvaluatorHoldout: Processed 10456 (100.0%) in 9.40 sec. Users per second: 1112\n"
     ]
    },
    {
     "name": "stderr",
     "output_type": "stream",
     "text": [
      "[I 2023-12-24 19:54:50,523] Trial 365 finished with value: 0.03949566437133434 and parameters: {'hybrid_lambda': 0.7013177717252699, 'topK': 124}. Best is trial 346 with value: 0.04201045044388637.\n"
     ]
    },
    {
     "name": "stdout",
     "output_type": "stream",
     "text": [
      "HHPRecommender: URM Detected 627 ( 4.8%) users with no interactions.\n",
      "HHPRecommender: URM Detected 247 ( 1.1%) items with no interactions.\n",
      "HHPRecommender: Similarity column 22347 (100.0%), 1903.11 column/sec. Elapsed time 11.74 sec\n",
      "EvaluatorHoldout: Processed 10456 (100.0%) in 9.77 sec. Users per second: 1070\n"
     ]
    },
    {
     "name": "stderr",
     "output_type": "stream",
     "text": [
      "[I 2023-12-24 19:55:16,102] Trial 366 finished with value: 0.03948425222550176 and parameters: {'hybrid_lambda': 0.6795290146366367, 'topK': 84}. Best is trial 346 with value: 0.04201045044388637.\n"
     ]
    },
    {
     "name": "stdout",
     "output_type": "stream",
     "text": [
      "HHPRecommender: URM Detected 627 ( 4.8%) users with no interactions.\n",
      "HHPRecommender: URM Detected 247 ( 1.1%) items with no interactions.\n",
      "HHPRecommender: Similarity column 22347 (100.0%), 1695.23 column/sec. Elapsed time 13.18 sec\n",
      "EvaluatorHoldout: Processed 10456 (100.0%) in 9.76 sec. Users per second: 1071\n"
     ]
    },
    {
     "name": "stderr",
     "output_type": "stream",
     "text": [
      "[I 2023-12-24 19:55:43,636] Trial 367 finished with value: 0.041146793517203434 and parameters: {'hybrid_lambda': 0.7834650245559884, 'topK': 109}. Best is trial 346 with value: 0.04201045044388637.\n"
     ]
    },
    {
     "name": "stdout",
     "output_type": "stream",
     "text": [
      "HHPRecommender: URM Detected 627 ( 4.8%) users with no interactions.\n",
      "HHPRecommender: URM Detected 247 ( 1.1%) items with no interactions.\n",
      "HHPRecommender: Similarity column 22347 (100.0%), 2213.53 column/sec. Elapsed time 10.10 sec\n",
      "EvaluatorHoldout: Processed 10456 (100.0%) in 9.29 sec. Users per second: 1126\n"
     ]
    },
    {
     "name": "stderr",
     "output_type": "stream",
     "text": [
      "[I 2023-12-24 19:56:05,630] Trial 368 finished with value: 0.04187617271468702 and parameters: {'hybrid_lambda': 0.8726344930972567, 'topK': 61}. Best is trial 346 with value: 0.04201045044388637.\n"
     ]
    },
    {
     "name": "stdout",
     "output_type": "stream",
     "text": [
      "HHPRecommender: URM Detected 627 ( 4.8%) users with no interactions.\n",
      "HHPRecommender: URM Detected 247 ( 1.1%) items with no interactions.\n",
      "HHPRecommender: Similarity column 22347 (100.0%), 1338.65 column/sec. Elapsed time 16.69 sec\n",
      "EvaluatorHoldout: Processed 10456 (100.0%) in 9.31 sec. Users per second: 1124\n"
     ]
    },
    {
     "name": "stderr",
     "output_type": "stream",
     "text": [
      "[I 2023-12-24 19:56:37,833] Trial 369 finished with value: 0.04145848514106036 and parameters: {'hybrid_lambda': 0.9432181779893892, 'topK': 187}. Best is trial 346 with value: 0.04201045044388637.\n"
     ]
    },
    {
     "name": "stdout",
     "output_type": "stream",
     "text": [
      "HHPRecommender: URM Detected 627 ( 4.8%) users with no interactions.\n",
      "HHPRecommender: URM Detected 247 ( 1.1%) items with no interactions.\n",
      "HHPRecommender: Similarity column 22347 (100.0%), 2383.33 column/sec. Elapsed time 9.38 sec\n",
      "EvaluatorHoldout: Processed 10456 (100.0%) in 9.17 sec. Users per second: 1141\n"
     ]
    },
    {
     "name": "stderr",
     "output_type": "stream",
     "text": [
      "[I 2023-12-24 19:56:58,500] Trial 370 finished with value: 0.04158698658626983 and parameters: {'hybrid_lambda': 0.8942946164690738, 'topK': 51}. Best is trial 346 with value: 0.04201045044388637.\n"
     ]
    },
    {
     "name": "stdout",
     "output_type": "stream",
     "text": [
      "HHPRecommender: URM Detected 627 ( 4.8%) users with no interactions.\n",
      "HHPRecommender: URM Detected 247 ( 1.1%) items with no interactions.\n",
      "HHPRecommender: Similarity column 22347 (100.0%), 2038.23 column/sec. Elapsed time 10.96 sec\n",
      "EvaluatorHoldout: Processed 10456 (100.0%) in 9.79 sec. Users per second: 1068\n"
     ]
    },
    {
     "name": "stderr",
     "output_type": "stream",
     "text": [
      "[I 2023-12-24 19:57:23,165] Trial 371 finished with value: 0.03718549234281881 and parameters: {'hybrid_lambda': 0.6046890693929471, 'topK': 74}. Best is trial 346 with value: 0.04201045044388637.\n"
     ]
    },
    {
     "name": "stdout",
     "output_type": "stream",
     "text": [
      "HHPRecommender: URM Detected 627 ( 4.8%) users with no interactions.\n",
      "HHPRecommender: URM Detected 247 ( 1.1%) items with no interactions.\n",
      "HHPRecommender: Similarity column 22347 (100.0%), 1832.84 column/sec. Elapsed time 12.19 sec\n",
      "EvaluatorHoldout: Processed 10456 (100.0%) in 8.94 sec. Users per second: 1170\n"
     ]
    },
    {
     "name": "stderr",
     "output_type": "stream",
     "text": [
      "[I 2023-12-24 19:57:48,070] Trial 372 finished with value: 0.04153570973148294 and parameters: {'hybrid_lambda': 0.8386950670233554, 'topK': 92}. Best is trial 346 with value: 0.04201045044388637.\n"
     ]
    },
    {
     "name": "stdout",
     "output_type": "stream",
     "text": [
      "HHPRecommender: URM Detected 627 ( 4.8%) users with no interactions.\n",
      "HHPRecommender: URM Detected 247 ( 1.1%) items with no interactions.\n",
      "HHPRecommender: Similarity column 22347 (100.0%), 2108.72 column/sec. Elapsed time 10.60 sec\n",
      "EvaluatorHoldout: Processed 10456 (100.0%) in 9.33 sec. Users per second: 1121\n"
     ]
    },
    {
     "name": "stderr",
     "output_type": "stream",
     "text": [
      "[I 2023-12-24 19:58:10,879] Trial 373 finished with value: 0.041953856523482096 and parameters: {'hybrid_lambda': 0.862217331093461, 'topK': 67}. Best is trial 346 with value: 0.04201045044388637.\n"
     ]
    },
    {
     "name": "stdout",
     "output_type": "stream",
     "text": [
      "HHPRecommender: URM Detected 627 ( 4.8%) users with no interactions.\n",
      "HHPRecommender: URM Detected 247 ( 1.1%) items with no interactions.\n",
      "HHPRecommender: Similarity column 22347 (100.0%), 1099.79 column/sec. Elapsed time 20.32 sec\n",
      "EvaluatorHoldout: Processed 10456 (100.0%) in 10.31 sec. Users per second: 1014\n"
     ]
    },
    {
     "name": "stderr",
     "output_type": "stream",
     "text": [
      "[I 2023-12-24 19:58:53,118] Trial 374 finished with value: 0.029834761085000393 and parameters: {'hybrid_lambda': 0.49173296485537665, 'topK': 273}. Best is trial 346 with value: 0.04201045044388637.\n"
     ]
    },
    {
     "name": "stdout",
     "output_type": "stream",
     "text": [
      "HHPRecommender: URM Detected 627 ( 4.8%) users with no interactions.\n",
      "HHPRecommender: URM Detected 247 ( 1.1%) items with no interactions.\n",
      "HHPRecommender: Similarity column 22347 (100.0%), 2140.44 column/sec. Elapsed time 10.44 sec\n",
      "EvaluatorHoldout: Processed 10456 (100.0%) in 9.29 sec. Users per second: 1125\n"
     ]
    },
    {
     "name": "stderr",
     "output_type": "stream",
     "text": [
      "[I 2023-12-24 19:59:15,627] Trial 375 finished with value: 0.04194468733680718 and parameters: {'hybrid_lambda': 0.8616347423504982, 'topK': 65}. Best is trial 346 with value: 0.04201045044388637.\n"
     ]
    },
    {
     "name": "stdout",
     "output_type": "stream",
     "text": [
      "HHPRecommender: URM Detected 627 ( 4.8%) users with no interactions.\n",
      "HHPRecommender: URM Detected 247 ( 1.1%) items with no interactions.\n",
      "HHPRecommender: Similarity column 22347 (100.0%), 2495.90 column/sec. Elapsed time 8.95 sec\n",
      "EvaluatorHoldout: Processed 10456 (100.0%) in 9.05 sec. Users per second: 1155\n"
     ]
    },
    {
     "name": "stderr",
     "output_type": "stream",
     "text": [
      "[I 2023-12-24 19:59:35,645] Trial 376 finished with value: 0.04149619038510638 and parameters: {'hybrid_lambda': 0.8636324439849007, 'topK': 44}. Best is trial 346 with value: 0.04201045044388637.\n"
     ]
    },
    {
     "name": "stdout",
     "output_type": "stream",
     "text": [
      "HHPRecommender: URM Detected 627 ( 4.8%) users with no interactions.\n",
      "HHPRecommender: URM Detected 247 ( 1.1%) items with no interactions.\n",
      "HHPRecommender: Similarity column 22347 (100.0%), 2288.50 column/sec. Elapsed time 9.76 sec\n",
      "EvaluatorHoldout: Processed 10456 (100.0%) in 9.26 sec. Users per second: 1129\n"
     ]
    },
    {
     "name": "stderr",
     "output_type": "stream",
     "text": [
      "[I 2023-12-24 19:59:57,199] Trial 377 finished with value: 0.04192882722459101 and parameters: {'hybrid_lambda': 0.8276209562004619, 'topK': 56}. Best is trial 346 with value: 0.04201045044388637.\n"
     ]
    },
    {
     "name": "stdout",
     "output_type": "stream",
     "text": [
      "HHPRecommender: URM Detected 627 ( 4.8%) users with no interactions.\n",
      "HHPRecommender: URM Detected 247 ( 1.1%) items with no interactions.\n",
      "HHPRecommender: Similarity column 22347 (100.0%), 2139.98 column/sec. Elapsed time 10.44 sec\n",
      "EvaluatorHoldout: Processed 10456 (100.0%) in 9.32 sec. Users per second: 1122\n"
     ]
    },
    {
     "name": "stderr",
     "output_type": "stream",
     "text": [
      "[I 2023-12-24 20:00:19,799] Trial 378 finished with value: 0.041979906729333404 and parameters: {'hybrid_lambda': 0.8525484171929114, 'topK': 65}. Best is trial 346 with value: 0.04201045044388637.\n"
     ]
    },
    {
     "name": "stdout",
     "output_type": "stream",
     "text": [
      "HHPRecommender: URM Detected 627 ( 4.8%) users with no interactions.\n",
      "HHPRecommender: URM Detected 247 ( 1.1%) items with no interactions.\n",
      "HHPRecommender: Similarity column 22347 (100.0%), 2144.85 column/sec. Elapsed time 10.42 sec\n",
      "EvaluatorHoldout: Processed 10456 (100.0%) in 9.42 sec. Users per second: 1110\n"
     ]
    },
    {
     "name": "stderr",
     "output_type": "stream",
     "text": [
      "[I 2023-12-24 20:00:42,565] Trial 379 finished with value: 0.04143688290159263 and parameters: {'hybrid_lambda': 0.8010514617087421, 'topK': 65}. Best is trial 346 with value: 0.04201045044388637.\n"
     ]
    },
    {
     "name": "stdout",
     "output_type": "stream",
     "text": [
      "HHPRecommender: URM Detected 627 ( 4.8%) users with no interactions.\n",
      "HHPRecommender: URM Detected 247 ( 1.1%) items with no interactions.\n",
      "HHPRecommender: Similarity column 22347 (100.0%), 2111.50 column/sec. Elapsed time 10.58 sec\n",
      "EvaluatorHoldout: Processed 10456 (100.0%) in 9.20 sec. Users per second: 1137\n"
     ]
    },
    {
     "name": "stderr",
     "output_type": "stream",
     "text": [
      "[I 2023-12-24 20:01:04,968] Trial 380 finished with value: 0.041829457682078734 and parameters: {'hybrid_lambda': 0.91916532633284, 'topK': 67}. Best is trial 346 with value: 0.04201045044388637.\n"
     ]
    },
    {
     "name": "stdout",
     "output_type": "stream",
     "text": [
      "HHPRecommender: URM Detected 627 ( 4.8%) users with no interactions.\n",
      "HHPRecommender: URM Detected 247 ( 1.1%) items with no interactions.\n",
      "HHPRecommender: Similarity column 22347 (100.0%), 1918.09 column/sec. Elapsed time 11.65 sec\n",
      "EvaluatorHoldout: Processed 10456 (100.0%) in 9.69 sec. Users per second: 1079\n"
     ]
    },
    {
     "name": "stderr",
     "output_type": "stream",
     "text": [
      "[I 2023-12-24 20:01:30,748] Trial 381 finished with value: 0.002763348453382892 and parameters: {'hybrid_lambda': 0.016457868503537365, 'topK': 85}. Best is trial 346 with value: 0.04201045044388637.\n"
     ]
    },
    {
     "name": "stdout",
     "output_type": "stream",
     "text": [
      "HHPRecommender: URM Detected 627 ( 4.8%) users with no interactions.\n",
      "HHPRecommender: URM Detected 247 ( 1.1%) items with no interactions.\n",
      "HHPRecommender: Similarity column 22347 (100.0%), 2201.80 column/sec. Elapsed time 10.15 sec\n",
      "EvaluatorHoldout: Processed 10456 (100.0%) in 9.19 sec. Users per second: 1138\n"
     ]
    },
    {
     "name": "stderr",
     "output_type": "stream",
     "text": [
      "[I 2023-12-24 20:01:52,648] Trial 382 finished with value: 0.04172481282107393 and parameters: {'hybrid_lambda': 0.8844968879830345, 'topK': 60}. Best is trial 346 with value: 0.04201045044388637.\n"
     ]
    },
    {
     "name": "stdout",
     "output_type": "stream",
     "text": [
      "HHPRecommender: URM Detected 627 ( 4.8%) users with no interactions.\n",
      "HHPRecommender: URM Detected 247 ( 1.1%) items with no interactions.\n",
      "HHPRecommender: Similarity column 22347 (100.0%), 2983.10 column/sec. Elapsed time 7.49 sec\n",
      "EvaluatorHoldout: Processed 10456 (100.0%) in 8.63 sec. Users per second: 1211\n"
     ]
    },
    {
     "name": "stderr",
     "output_type": "stream",
     "text": [
      "[I 2023-12-24 20:02:09,868] Trial 383 finished with value: 0.03644227966626628 and parameters: {'hybrid_lambda': 0.8611061884606309, 'topK': 11}. Best is trial 346 with value: 0.04201045044388637.\n"
     ]
    },
    {
     "name": "stdout",
     "output_type": "stream",
     "text": [
      "HHPRecommender: URM Detected 627 ( 4.8%) users with no interactions.\n",
      "HHPRecommender: URM Detected 247 ( 1.1%) items with no interactions.\n",
      "HHPRecommender: Similarity column 22347 (100.0%), 2020.11 column/sec. Elapsed time 11.06 sec\n",
      "EvaluatorHoldout: Processed 10456 (100.0%) in 9.30 sec. Users per second: 1124\n"
     ]
    },
    {
     "name": "stderr",
     "output_type": "stream",
     "text": [
      "[I 2023-12-24 20:02:33,083] Trial 384 finished with value: 0.04169557465296802 and parameters: {'hybrid_lambda': 0.8983210590944373, 'topK': 72}. Best is trial 346 with value: 0.04201045044388637.\n"
     ]
    },
    {
     "name": "stdout",
     "output_type": "stream",
     "text": [
      "HHPRecommender: URM Detected 627 ( 4.8%) users with no interactions.\n",
      "HHPRecommender: URM Detected 247 ( 1.1%) items with no interactions.\n",
      "HHPRecommender: Similarity column 22347 (100.0%), 1449.02 column/sec. Elapsed time 15.42 sec\n",
      "EvaluatorHoldout: Processed 10456 (100.0%) in 10.31 sec. Users per second: 1014\n"
     ]
    },
    {
     "name": "stderr",
     "output_type": "stream",
     "text": [
      "[I 2023-12-24 20:03:05,565] Trial 385 finished with value: 0.03801661687373286 and parameters: {'hybrid_lambda': 0.6521759723774028, 'topK': 154}. Best is trial 346 with value: 0.04201045044388637.\n"
     ]
    },
    {
     "name": "stdout",
     "output_type": "stream",
     "text": [
      "HHPRecommender: URM Detected 627 ( 4.8%) users with no interactions.\n",
      "HHPRecommender: URM Detected 247 ( 1.1%) items with no interactions.\n",
      "HHPRecommender: Similarity column 22347 (100.0%), 1745.78 column/sec. Elapsed time 12.80 sec\n",
      "EvaluatorHoldout: Processed 10456 (100.0%) in 9.83 sec. Users per second: 1064\n"
     ]
    },
    {
     "name": "stderr",
     "output_type": "stream",
     "text": [
      "[I 2023-12-24 20:03:32,633] Trial 386 finished with value: 0.040433631180093105 and parameters: {'hybrid_lambda': 0.7360095746552276, 'topK': 100}. Best is trial 346 with value: 0.04201045044388637.\n"
     ]
    },
    {
     "name": "stdout",
     "output_type": "stream",
     "text": [
      "HHPRecommender: URM Detected 627 ( 4.8%) users with no interactions.\n",
      "HHPRecommender: URM Detected 247 ( 1.1%) items with no interactions.\n",
      "HHPRecommender: Similarity column 22347 (100.0%), 2894.84 column/sec. Elapsed time 7.72 sec\n",
      "EvaluatorHoldout: Processed 10456 (100.0%) in 8.90 sec. Users per second: 1175\n"
     ]
    },
    {
     "name": "stderr",
     "output_type": "stream",
     "text": [
      "[I 2023-12-24 20:03:50,544] Trial 387 finished with value: 0.03940181683487014 and parameters: {'hybrid_lambda': 0.8430034714568966, 'topK': 17}. Best is trial 346 with value: 0.04201045044388637.\n"
     ]
    },
    {
     "name": "stdout",
     "output_type": "stream",
     "text": [
      "HHPRecommender: URM Detected 627 ( 4.8%) users with no interactions.\n",
      "HHPRecommender: URM Detected 247 ( 1.1%) items with no interactions.\n",
      "HHPRecommender: Similarity column 22347 (100.0%), 1972.57 column/sec. Elapsed time 11.33 sec\n",
      "EvaluatorHoldout: Processed 10456 (100.0%) in 9.37 sec. Users per second: 1115\n"
     ]
    },
    {
     "name": "stderr",
     "output_type": "stream",
     "text": [
      "[I 2023-12-24 20:04:14,523] Trial 388 finished with value: 0.04195336694356443 and parameters: {'hybrid_lambda': 0.8715003721122419, 'topK': 80}. Best is trial 346 with value: 0.04201045044388637.\n"
     ]
    },
    {
     "name": "stdout",
     "output_type": "stream",
     "text": [
      "HHPRecommender: URM Detected 627 ( 4.8%) users with no interactions.\n",
      "HHPRecommender: URM Detected 247 ( 1.1%) items with no interactions.\n",
      "HHPRecommender: Similarity column 22347 (100.0%), 1919.91 column/sec. Elapsed time 11.64 sec\n",
      "EvaluatorHoldout: Processed 10456 (100.0%) in 9.56 sec. Users per second: 1093\n"
     ]
    },
    {
     "name": "stderr",
     "output_type": "stream",
     "text": [
      "[I 2023-12-24 20:04:39,409] Trial 389 finished with value: 0.04103568923744001 and parameters: {'hybrid_lambda': 0.7638711238782396, 'topK': 82}. Best is trial 346 with value: 0.04201045044388637.\n"
     ]
    },
    {
     "name": "stdout",
     "output_type": "stream",
     "text": [
      "HHPRecommender: URM Detected 627 ( 4.8%) users with no interactions.\n",
      "HHPRecommender: URM Detected 247 ( 1.1%) items with no interactions.\n",
      "HHPRecommender: Similarity column 22347 (100.0%), 1974.52 column/sec. Elapsed time 11.32 sec\n",
      "EvaluatorHoldout: Processed 10456 (100.0%) in 9.80 sec. Users per second: 1067\n"
     ]
    },
    {
     "name": "stderr",
     "output_type": "stream",
     "text": [
      "[I 2023-12-24 20:05:04,807] Trial 390 finished with value: 0.021809642978589082 and parameters: {'hybrid_lambda': 0.40229499616734166, 'topK': 77}. Best is trial 346 with value: 0.04201045044388637.\n"
     ]
    },
    {
     "name": "stdout",
     "output_type": "stream",
     "text": [
      "HHPRecommender: URM Detected 627 ( 4.8%) users with no interactions.\n",
      "HHPRecommender: URM Detected 247 ( 1.1%) items with no interactions.\n",
      "HHPRecommender: Similarity column 22347 (100.0%), 1832.58 column/sec. Elapsed time 12.19 sec\n",
      "EvaluatorHoldout: Processed 10456 (100.0%) in 8.97 sec. Users per second: 1165\n"
     ]
    },
    {
     "name": "stderr",
     "output_type": "stream",
     "text": [
      "[I 2023-12-24 20:05:29,600] Trial 391 finished with value: 0.04172898753355006 and parameters: {'hybrid_lambda': 0.8740885702178955, 'topK': 93}. Best is trial 346 with value: 0.04201045044388637.\n"
     ]
    },
    {
     "name": "stdout",
     "output_type": "stream",
     "text": [
      "HHPRecommender: URM Detected 627 ( 4.8%) users with no interactions.\n",
      "HHPRecommender: URM Detected 247 ( 1.1%) items with no interactions.\n",
      "HHPRecommender: Similarity column 22347 (100.0%), 2678.44 column/sec. Elapsed time 8.34 sec\n",
      "EvaluatorHoldout: Processed 10456 (100.0%) in 9.10 sec. Users per second: 1149\n"
     ]
    },
    {
     "name": "stderr",
     "output_type": "stream",
     "text": [
      "[I 2023-12-24 20:05:48,715] Trial 392 finished with value: 0.04078894854932584 and parameters: {'hybrid_lambda': 0.8156649428284583, 'topK': 29}. Best is trial 346 with value: 0.04201045044388637.\n"
     ]
    },
    {
     "name": "stdout",
     "output_type": "stream",
     "text": [
      "HHPRecommender: URM Detected 627 ( 4.8%) users with no interactions.\n",
      "HHPRecommender: URM Detected 247 ( 1.1%) items with no interactions.\n",
      "HHPRecommender: Similarity column 22347 (100.0%), 1916.94 column/sec. Elapsed time 11.66 sec\n",
      "EvaluatorHoldout: Processed 10456 (100.0%) in 9.50 sec. Users per second: 1101\n"
     ]
    },
    {
     "name": "stderr",
     "output_type": "stream",
     "text": [
      "[I 2023-12-24 20:06:13,294] Trial 393 finished with value: 0.04164245712949859 and parameters: {'hybrid_lambda': 0.8530887068017694, 'topK': 85}. Best is trial 346 with value: 0.04201045044388637.\n"
     ]
    },
    {
     "name": "stdout",
     "output_type": "stream",
     "text": [
      "HHPRecommender: URM Detected 627 ( 4.8%) users with no interactions.\n",
      "HHPRecommender: URM Detected 247 ( 1.1%) items with no interactions.\n",
      "HHPRecommender: Similarity column 22347 (100.0%), 2072.23 column/sec. Elapsed time 10.78 sec\n",
      "EvaluatorHoldout: Processed 10456 (100.0%) in 9.32 sec. Users per second: 1122\n"
     ]
    },
    {
     "name": "stderr",
     "output_type": "stream",
     "text": [
      "[I 2023-12-24 20:06:36,154] Trial 394 finished with value: 0.04181670583306048 and parameters: {'hybrid_lambda': 0.9031890029504943, 'topK': 68}. Best is trial 346 with value: 0.04201045044388637.\n"
     ]
    },
    {
     "name": "stdout",
     "output_type": "stream",
     "text": [
      "HHPRecommender: URM Detected 627 ( 4.8%) users with no interactions.\n",
      "HHPRecommender: URM Detected 247 ( 1.1%) items with no interactions.\n",
      "HHPRecommender: Similarity column 22347 (100.0%), 2624.88 column/sec. Elapsed time 8.51 sec\n",
      "EvaluatorHoldout: Processed 10456 (100.0%) in 9.02 sec. Users per second: 1159\n"
     ]
    },
    {
     "name": "stderr",
     "output_type": "stream",
     "text": [
      "[I 2023-12-24 20:06:55,380] Trial 395 finished with value: 0.041105930672448075 and parameters: {'hybrid_lambda': 0.8714437235030636, 'topK': 34}. Best is trial 346 with value: 0.04201045044388637.\n"
     ]
    },
    {
     "name": "stdout",
     "output_type": "stream",
     "text": [
      "HHPRecommender: URM Detected 627 ( 4.8%) users with no interactions.\n",
      "HHPRecommender: URM Detected 247 ( 1.1%) items with no interactions.\n",
      "HHPRecommender: Similarity column 22347 (100.0%), 2295.51 column/sec. Elapsed time 9.74 sec\n",
      "EvaluatorHoldout: Processed 10456 (100.0%) in 9.16 sec. Users per second: 1142\n"
     ]
    },
    {
     "name": "stderr",
     "output_type": "stream",
     "text": [
      "[I 2023-12-24 20:07:16,644] Trial 396 finished with value: 0.041815195346182936 and parameters: {'hybrid_lambda': 0.8466126023927535, 'topK': 52}. Best is trial 346 with value: 0.04201045044388637.\n"
     ]
    },
    {
     "name": "stdout",
     "output_type": "stream",
     "text": [
      "HHPRecommender: URM Detected 627 ( 4.8%) users with no interactions.\n",
      "HHPRecommender: URM Detected 247 ( 1.1%) items with no interactions.\n",
      "HHPRecommender: Similarity column 22347 (100.0%), 1712.20 column/sec. Elapsed time 13.05 sec\n",
      "EvaluatorHoldout: Processed 10456 (100.0%) in 9.07 sec. Users per second: 1153\n"
     ]
    },
    {
     "name": "stderr",
     "output_type": "stream",
     "text": [
      "[I 2023-12-24 20:07:43,086] Trial 397 finished with value: 0.041698292011270705 and parameters: {'hybrid_lambda': 0.8309300248396568, 'topK': 107}. Best is trial 346 with value: 0.04201045044388637.\n"
     ]
    },
    {
     "name": "stdout",
     "output_type": "stream",
     "text": [
      "HHPRecommender: URM Detected 627 ( 4.8%) users with no interactions.\n",
      "HHPRecommender: URM Detected 247 ( 1.1%) items with no interactions.\n",
      "HHPRecommender: Similarity column 22347 (100.0%), 1997.09 column/sec. Elapsed time 11.19 sec\n",
      "EvaluatorHoldout: Processed 10456 (100.0%) in 9.27 sec. Users per second: 1127\n"
     ]
    },
    {
     "name": "stderr",
     "output_type": "stream",
     "text": [
      "[I 2023-12-24 20:08:06,431] Trial 398 finished with value: 0.04179538443788689 and parameters: {'hybrid_lambda': 0.9298153735734611, 'topK': 76}. Best is trial 346 with value: 0.04201045044388637.\n"
     ]
    },
    {
     "name": "stdout",
     "output_type": "stream",
     "text": [
      "HHPRecommender: URM Detected 627 ( 4.8%) users with no interactions.\n",
      "HHPRecommender: URM Detected 247 ( 1.1%) items with no interactions.\n",
      "HHPRecommender: Similarity column 22347 (100.0%), 2576.66 column/sec. Elapsed time 8.67 sec\n",
      "EvaluatorHoldout: Processed 10456 (100.0%) in 9.01 sec. Users per second: 1161\n"
     ]
    },
    {
     "name": "stderr",
     "output_type": "stream",
     "text": [
      "[I 2023-12-24 20:08:25,926] Trial 399 finished with value: 0.04144330436841975 and parameters: {'hybrid_lambda': 0.8825888387677102, 'topK': 39}. Best is trial 346 with value: 0.04201045044388637.\n"
     ]
    }
   ],
   "source": [
    "if config['tune_parameters']:\n",
    "    study = optuna.create_study(direction='maximize', study_name='tuning_fixed',\n",
    "                                storage=f'sqlite:///{config[\"database_path\"]}', load_if_exists=True)\n",
    "    study.optimize(objective_function_hhp, n_trials=200)"
   ]
  },
  {
   "cell_type": "code",
   "execution_count": 18,
   "id": "32f7d587",
   "metadata": {
    "execution": {
     "iopub.execute_input": "2023-12-24T20:08:26.236421Z",
     "iopub.status.busy": "2023-12-24T20:08:26.235577Z",
     "iopub.status.idle": "2023-12-24T20:08:27.355915Z",
     "shell.execute_reply": "2023-12-24T20:08:27.354710Z"
    },
    "papermill": {
     "duration": 1.23766,
     "end_time": "2023-12-24T20:08:27.358310",
     "exception": false,
     "start_time": "2023-12-24T20:08:26.120650",
     "status": "completed"
    },
    "tags": []
   },
   "outputs": [
    {
     "data": {
      "text/html": [
       "        <script type=\"text/javascript\">\n",
       "        window.PlotlyConfig = {MathJaxConfig: 'local'};\n",
       "        if (window.MathJax && window.MathJax.Hub && window.MathJax.Hub.Config) {window.MathJax.Hub.Config({SVG: {font: \"STIX-Web\"}});}\n",
       "        if (typeof require !== 'undefined') {\n",
       "        require.undef(\"plotly\");\n",
       "        requirejs.config({\n",
       "            paths: {\n",
       "                'plotly': ['https://cdn.plot.ly/plotly-2.25.2.min']\n",
       "            }\n",
       "        });\n",
       "        require(['plotly'], function(Plotly) {\n",
       "            window._Plotly = Plotly;\n",
       "        });\n",
       "        }\n",
       "        </script>\n",
       "        "
      ]
     },
     "metadata": {},
     "output_type": "display_data"
    },
    {
     "data": {
      "text/html": [
       "<div>                            <div id=\"23c2ab56-8e09-444a-be4b-e652ff8de7fd\" class=\"plotly-graph-div\" style=\"height:525px; width:100%;\"></div>            <script type=\"text/javascript\">                require([\"plotly\"], function(Plotly) {                    window.PLOTLYENV=window.PLOTLYENV || {};                                    if (document.getElementById(\"23c2ab56-8e09-444a-be4b-e652ff8de7fd\")) {                    Plotly.newPlot(                        \"23c2ab56-8e09-444a-be4b-e652ff8de7fd\",                        [{\"mode\":\"markers\",\"name\":\"Objective Value\",\"x\":[0,1,2,3,4,5,6,7,8,9,10,11,12,13,14,15,16,17,18,19,20,21,22,23,24,25,26,27,28,29,30,31,32,33,34,35,36,37,38,39,40,41,42,43,44,45,46,47,48,49,50,51,52,53,54,55,56,57,58,59,60,61,62,63,64,65,66,67,68,69,70,71,72,73,74,75,76,77,78,79,80,81,82,83,84,85,86,87,88,89,90,91,92,93,94,95,96,97,98,99,100,101,102,103,104,105,106,107,108,109,110,111,112,113,114,115,116,117,118,119,120,121,122,123,124,125,126,127,128,129,130,131,132,133,134,135,136,137,138,139,140,141,142,143,144,145,146,147,148,149,150,151,152,153,154,155,156,157,158,159,160,161,162,163,164,165,166,167,168,169,170,171,172,173,174,175,176,177,178,179,180,181,182,183,184,185,186,187,188,189,190,191,192,193,194,195,196,197,198,199,200,201,202,203,204,205,206,207,208,209,210,211,212,213,214,215,216,217,218,219,220,221,222,223,224,225,226,227,228,229,230,231,232,233,234,235,236,237,238,239,240,241,242,243,244,245,246,247,248,249,250,251,252,253,254,255,256,257,258,259,260,261,262,263,264,265,266,267,268,269,270,271,272,273,274,275,276,277,278,279,280,281,282,283,284,285,286,287,288,289,290,291,292,293,294,295,296,297,298,299,300,301,302,303,304,305,306,307,308,309,310,311,312,313,314,315,316,317,318,319,320,321,322,323,324,325,326,327,328,329,330,331,332,333,334,335,336,337,338,339,340,341,342,343,344,345,346,347,348,349,350,351,352,353,354,355,356,357,358,359,360,361,362,363,364,365,366,367,368,369,370,371,372,373,374,375,376,377,378,379,380,381,382,383,384,385,386,387,388,389,390,391,392,393,394,395,396,397,398,399],\"y\":[0.02818601911562912,0.0015701017718997828,0.033171593586427545,0.02936595984989277,0.032042345247203924,0.006279321662355323,0.00959179661408045,0.03138064193415206,0.03366505598668983,0.013731240360209396,0.04067155563449602,0.04116753804301682,0.04164477599251938,0.04130699621087967,0.04031737302801821,0.04088821941681591,0.04077317952174546,0.040615534788259175,0.03846402080980352,0.04167629127652131,0.04161290016516734,0.041462993830534575,0.03664662804678142,0.04080618631665936,0.04165676500771237,0.04138195507098586,0.041370114068326205,0.0371633815474677,0.04016443812924352,0.04143049938669734,0.03929370696251007,0.04181880077968494,0.04185383041255327,0.041864422796663164,0.041734429840541674,0.04170182533610286,0.04126446727632704,0.04104459655578686,0.04162122302376753,0.041711241210333046,0.041133920222004246,0.04176513674840037,0.04187703422353435,0.04114455055804561,0.04145811700732382,0.04074351629200578,0.04046469483610896,0.039384393103071715,0.04154518253361078,0.04026236170316172,0.041815521732794535,0.04157821589487667,0.041647182144983,0.041612668658384595,0.0416846217255078,0.04173162898798954,0.04144485280722905,0.040871683760217145,0.04188770630670064,0.04167272759014394,0.04103095283637605,0.04193336627561052,0.04179980963311164,0.040809366688527624,0.04156696314715687,0.04170593553029519,0.04175561840395479,0.04089165406662586,0.041204996599507424,0.04180402229751945,0.039778022947256415,0.04175029754314432,0.041872563485991776,0.04150894602931759,0.04136030728920031,0.04180992382288341,0.04129649491140549,0.041944129443412644,0.041479267618805216,0.041711214643980976,0.04189272734725166,0.041884355151140425,0.04155085255219202,0.041792670874777386,0.04145792724766578,0.041731811157261246,0.04139933705565935,0.04187749723709994,0.04173064982815419,0.04176670036798234,0.041372448112119674,0.04171412555713493,0.04186386110807543,0.041903915576687704,0.04170908174542499,0.04157311136007628,0.04112787068410686,0.04150216022394728,0.04172620186177048,0.0415463742242631,0.041668716070973666,0.041894082231209745,0.0417596375135114,0.04178723615817206,0.04158780634799248,0.04165588831809234,0.04196782662950464,0.04166179363864952,0.04149718472571438,0.04162994817284268,0.04117918928601845,0.041902477198480066,0.04196668048117025,0.041892492045275606,0.04162633135376104,0.04199775552276559,0.0418505210041176,0.04183001557547318,0.04155012007991209,0.0410543539974016,0.041685684379592663,0.04195967455459669,0.04185587222647325,0.041860350554402403,0.041593290402108754,0.041540654868170684,0.04181337365346602,0.04162350393485676,0.041722159981054954,0.041444780698558885,0.041248140355352125,0.04198738325985886,0.04164820305194309,0.04173538622921799,0.04163003166709219,0.04194383341834633,0.04186298062326236,0.04149251284293417,0.041772476651972215,0.041892492045275634,0.035501796644442446,0.04184235754362999,0.04161440306165879,0.04177349376373925,0.041992028576286936,0.03769737281548729,0.041839203738113936,0.041591836843128456,0.041403234719034676,0.04171782207527285,0.04119312523530257,0.04187451042008286,0.04176136812159238,0.04192201485286852,0.04142992251733697,0.04170763577683087,0.04136168114912431,0.041475480016031546,0.0417459406613963,0.0418409039846496,0.04175693533598148,0.04171766267716006,0.041895342235338945,0.028982000157880237,0.04184555309627085,0.04137105527622993,0.04194337040478062,0.041543546805358635,0.04188295092967117,0.04123840948008955,0.04158349880375559,0.041830816361230046,0.04194804987794708,0.04192401491966384,0.04190583214923349,0.04194436095019538,0.0419100030665167,0.04179006737226953,0.041582071811127455,0.038603623195006584,0.04142144026062399,0.04195718870307674,0.04188753172781537,0.041855283971533604,0.04185360649615666,0.041509481151553236,0.041737450814297174,0.041813487509260755,0.04198829790141046,0.04041141791452672,0.041820307471369576,0.04184753798229371,0.04187300372839833,0.04199023344992217,0.04173842238374624,0.0419200185812663,0.041877876756416,0.04178525127214929,0.04189078800354689,0.04162839973403335,0.0419194568926785,0.04187463566145704,0.028317446654765082,0.04166879197483681,0.041996662507135456,0.041683190937686396,0.04186189899321185,0.011657493684798544,0.04179571082449858,0.04152953874740462,0.04180397675520143,0.04187343258522533,0.04180376801957771,0.041651649087332404,0.04175287447930001,0.041805286096841685,0.03408829592790988,0.041600136930569735,0.041795760162009706,0.0417796837237834,0.041418855734081855,0.03951819263793288,0.04193856948543299,0.04187997170304033,0.04010645896333582,0.04181606824060978,0.04189733471174798,0.04190010520275488,0.041893835543654515,0.04186343225124844,0.003819899867623668,0.041993478340074115,0.04192440961975249,0.04187099607121651,0.04149757563060969,0.04170278551997238,0.04158799990284357,0.04178080710095864,0.04161017142128515,0.03772935490824785,0.03859896649299903,0.04185743584605525,0.04162274110103149,0.03437895079608009,0.04181015532966612,0.04186185345089377,0.0417793345660126,0.040356106769410656,0.041912196688163296,0.041822979287354387,0.041200525861964835,0.03666109152791471,0.04188446141654868,0.041552252978467985,0.0418735540314066,0.03370259803743007,0.041901562556928534,0.04175954263368228,0.04143891332993348,0.04103770448500808,0.04200889820988375,0.04183125280844349,0.040638214862584156,0.04171790177432921,0.04178435560656354,0.04186976263343953,0.03926265469207364,0.04185796337790458,0.04193267934564848,0.04187794886508596,0.04174337511082024,0.04162819099840959,0.04181871349024222,0.041938983161487496,0.027193207970513004,0.041740498354404756,0.03989081988316921,0.041693487296729975,0.04172717343121962,0.041905395702020204,0.0409756530768396,0.04179018881845059,0.04176614626978096,0.04192752167814389,0.03908275874108937,0.04180926345927356,0.041431448184987354,0.041698481770928726,0.041845302613522324,0.04200162661978898,0.036965606441505955,0.036198537180748745,0.04198980459309509,0.04188703455751134,0.04180706604243375,0.035655498172235386,0.04182033024252842,0.03194157148322237,0.04176034721463236,0.02337078050424457,0.0416418802601382,0.041598041983945316,0.04164849148662325,0.04183082774680951,0.03427247285677882,0.0418976610983597,0.031505063546714486,0.040502893455265865,0.0417482025965198,0.03927443497164274,0.04118567147593583,0.041648024677864555,0.04189917538043072,0.03799969031223868,0.037092555652712925,0.038014165178951446,0.04192305473579429,0.041664120092056715,0.041819685059691414,0.040436944383721835,0.04187289366779674,0.03476029180481207,0.0314855752298371,0.04147928279957794,0.04024908991268077,0.04196187576662951,0.016532969602020886,0.04180856893892532,0.0048088702772616405,0.041745166441991804,0.041795574197544906,0.03361987041692504,0.0417304828396551,0.04192374546094947,0.03775875626965952,0.040790629819895834,0.04103658490302571,0.041841932481996205,0.03804034821656319,0.03636307398501392,0.041315914914806136,0.04172240287341725,0.04181678932731017,0.04163488192395094,0.04152613445913987,0.041797752638418804,0.04201045044388637,0.04162813407051207,0.04163743988414086,0.041830512745777315,0.02907589703185553,0.0417884164632449,0.03803274264947035,0.04159034912740975,0.04200727007201812,0.041878294227663614,0.04193054644709252,0.04148862276994507,0.03849547537071496,0.04197436195212642,0.03600044707375472,0.041799760295600556,0.0057919353663424145,0.0419863281961603,0.04185157986300913,0.03949566437133434,0.03948425222550176,0.041146793517203434,0.04187617271468702,0.04145848514106036,0.04158698658626983,0.03718549234281881,0.04153570973148294,0.041953856523482096,0.029834761085000393,0.04194468733680718,0.04149619038510638,0.04192882722459101,0.041979906729333404,0.04143688290159263,0.041829457682078734,0.002763348453382892,0.04172481282107393,0.03644227966626628,0.04169557465296802,0.03801661687373286,0.040433631180093105,0.03940181683487014,0.04195336694356443,0.04103568923744001,0.021809642978589082,0.04172898753355006,0.04078894854932584,0.04164245712949859,0.04181670583306048,0.041105930672448075,0.041815195346182936,0.041698292011270705,0.04179538443788689,0.04144330436841975],\"type\":\"scatter\"},{\"mode\":\"lines\",\"name\":\"Best Value\",\"x\":[0,1,2,3,4,5,6,7,8,9,10,11,12,13,14,15,16,17,18,19,20,21,22,23,24,25,26,27,28,29,30,31,32,33,34,35,36,37,38,39,40,41,42,43,44,45,46,47,48,49,50,51,52,53,54,55,56,57,58,59,60,61,62,63,64,65,66,67,68,69,70,71,72,73,74,75,76,77,78,79,80,81,82,83,84,85,86,87,88,89,90,91,92,93,94,95,96,97,98,99,100,101,102,103,104,105,106,107,108,109,110,111,112,113,114,115,116,117,118,119,120,121,122,123,124,125,126,127,128,129,130,131,132,133,134,135,136,137,138,139,140,141,142,143,144,145,146,147,148,149,150,151,152,153,154,155,156,157,158,159,160,161,162,163,164,165,166,167,168,169,170,171,172,173,174,175,176,177,178,179,180,181,182,183,184,185,186,187,188,189,190,191,192,193,194,195,196,197,198,199,200,201,202,203,204,205,206,207,208,209,210,211,212,213,214,215,216,217,218,219,220,221,222,223,224,225,226,227,228,229,230,231,232,233,234,235,236,237,238,239,240,241,242,243,244,245,246,247,248,249,250,251,252,253,254,255,256,257,258,259,260,261,262,263,264,265,266,267,268,269,270,271,272,273,274,275,276,277,278,279,280,281,282,283,284,285,286,287,288,289,290,291,292,293,294,295,296,297,298,299,300,301,302,303,304,305,306,307,308,309,310,311,312,313,314,315,316,317,318,319,320,321,322,323,324,325,326,327,328,329,330,331,332,333,334,335,336,337,338,339,340,341,342,343,344,345,346,347,348,349,350,351,352,353,354,355,356,357,358,359,360,361,362,363,364,365,366,367,368,369,370,371,372,373,374,375,376,377,378,379,380,381,382,383,384,385,386,387,388,389,390,391,392,393,394,395,396,397,398,399],\"y\":[0.02818601911562912,0.02818601911562912,0.033171593586427545,0.033171593586427545,0.033171593586427545,0.033171593586427545,0.033171593586427545,0.033171593586427545,0.03366505598668983,0.03366505598668983,0.04067155563449602,0.04116753804301682,0.04164477599251938,0.04164477599251938,0.04164477599251938,0.04164477599251938,0.04164477599251938,0.04164477599251938,0.04164477599251938,0.04167629127652131,0.04167629127652131,0.04167629127652131,0.04167629127652131,0.04167629127652131,0.04167629127652131,0.04167629127652131,0.04167629127652131,0.04167629127652131,0.04167629127652131,0.04167629127652131,0.04167629127652131,0.04181880077968494,0.04185383041255327,0.041864422796663164,0.041864422796663164,0.041864422796663164,0.041864422796663164,0.041864422796663164,0.041864422796663164,0.041864422796663164,0.041864422796663164,0.041864422796663164,0.04187703422353435,0.04187703422353435,0.04187703422353435,0.04187703422353435,0.04187703422353435,0.04187703422353435,0.04187703422353435,0.04187703422353435,0.04187703422353435,0.04187703422353435,0.04187703422353435,0.04187703422353435,0.04187703422353435,0.04187703422353435,0.04187703422353435,0.04187703422353435,0.04188770630670064,0.04188770630670064,0.04188770630670064,0.04193336627561052,0.04193336627561052,0.04193336627561052,0.04193336627561052,0.04193336627561052,0.04193336627561052,0.04193336627561052,0.04193336627561052,0.04193336627561052,0.04193336627561052,0.04193336627561052,0.04193336627561052,0.04193336627561052,0.04193336627561052,0.04193336627561052,0.04193336627561052,0.041944129443412644,0.041944129443412644,0.041944129443412644,0.041944129443412644,0.041944129443412644,0.041944129443412644,0.041944129443412644,0.041944129443412644,0.041944129443412644,0.041944129443412644,0.041944129443412644,0.041944129443412644,0.041944129443412644,0.041944129443412644,0.041944129443412644,0.041944129443412644,0.041944129443412644,0.041944129443412644,0.041944129443412644,0.041944129443412644,0.041944129443412644,0.041944129443412644,0.041944129443412644,0.041944129443412644,0.041944129443412644,0.041944129443412644,0.041944129443412644,0.041944129443412644,0.041944129443412644,0.04196782662950464,0.04196782662950464,0.04196782662950464,0.04196782662950464,0.04196782662950464,0.04196782662950464,0.04196782662950464,0.04196782662950464,0.04196782662950464,0.04199775552276559,0.04199775552276559,0.04199775552276559,0.04199775552276559,0.04199775552276559,0.04199775552276559,0.04199775552276559,0.04199775552276559,0.04199775552276559,0.04199775552276559,0.04199775552276559,0.04199775552276559,0.04199775552276559,0.04199775552276559,0.04199775552276559,0.04199775552276559,0.04199775552276559,0.04199775552276559,0.04199775552276559,0.04199775552276559,0.04199775552276559,0.04199775552276559,0.04199775552276559,0.04199775552276559,0.04199775552276559,0.04199775552276559,0.04199775552276559,0.04199775552276559,0.04199775552276559,0.04199775552276559,0.04199775552276559,0.04199775552276559,0.04199775552276559,0.04199775552276559,0.04199775552276559,0.04199775552276559,0.04199775552276559,0.04199775552276559,0.04199775552276559,0.04199775552276559,0.04199775552276559,0.04199775552276559,0.04199775552276559,0.04199775552276559,0.04199775552276559,0.04199775552276559,0.04199775552276559,0.04199775552276559,0.04199775552276559,0.04199775552276559,0.04199775552276559,0.04199775552276559,0.04199775552276559,0.04199775552276559,0.04199775552276559,0.04199775552276559,0.04199775552276559,0.04199775552276559,0.04199775552276559,0.04199775552276559,0.04199775552276559,0.04199775552276559,0.04199775552276559,0.04199775552276559,0.04199775552276559,0.04199775552276559,0.04199775552276559,0.04199775552276559,0.04199775552276559,0.04199775552276559,0.04199775552276559,0.04199775552276559,0.04199775552276559,0.04199775552276559,0.04199775552276559,0.04199775552276559,0.04199775552276559,0.04199775552276559,0.04199775552276559,0.04199775552276559,0.04199775552276559,0.04199775552276559,0.04199775552276559,0.04199775552276559,0.04199775552276559,0.04199775552276559,0.04199775552276559,0.04199775552276559,0.04199775552276559,0.04199775552276559,0.04199775552276559,0.04199775552276559,0.04199775552276559,0.04199775552276559,0.04199775552276559,0.04199775552276559,0.04199775552276559,0.04199775552276559,0.04199775552276559,0.04199775552276559,0.04199775552276559,0.04199775552276559,0.04199775552276559,0.04199775552276559,0.04199775552276559,0.04199775552276559,0.04199775552276559,0.04199775552276559,0.04199775552276559,0.04199775552276559,0.04199775552276559,0.04199775552276559,0.04199775552276559,0.04199775552276559,0.04199775552276559,0.04199775552276559,0.04199775552276559,0.04199775552276559,0.04199775552276559,0.04199775552276559,0.04199775552276559,0.04199775552276559,0.04199775552276559,0.04199775552276559,0.04199775552276559,0.04199775552276559,0.04199775552276559,0.04199775552276559,0.04199775552276559,0.04199775552276559,0.04199775552276559,0.04199775552276559,0.04199775552276559,0.04199775552276559,0.04199775552276559,0.04199775552276559,0.04199775552276559,0.04199775552276559,0.04199775552276559,0.04199775552276559,0.04199775552276559,0.04199775552276559,0.04199775552276559,0.04199775552276559,0.04199775552276559,0.04200889820988375,0.04200889820988375,0.04200889820988375,0.04200889820988375,0.04200889820988375,0.04200889820988375,0.04200889820988375,0.04200889820988375,0.04200889820988375,0.04200889820988375,0.04200889820988375,0.04200889820988375,0.04200889820988375,0.04200889820988375,0.04200889820988375,0.04200889820988375,0.04200889820988375,0.04200889820988375,0.04200889820988375,0.04200889820988375,0.04200889820988375,0.04200889820988375,0.04200889820988375,0.04200889820988375,0.04200889820988375,0.04200889820988375,0.04200889820988375,0.04200889820988375,0.04200889820988375,0.04200889820988375,0.04200889820988375,0.04200889820988375,0.04200889820988375,0.04200889820988375,0.04200889820988375,0.04200889820988375,0.04200889820988375,0.04200889820988375,0.04200889820988375,0.04200889820988375,0.04200889820988375,0.04200889820988375,0.04200889820988375,0.04200889820988375,0.04200889820988375,0.04200889820988375,0.04200889820988375,0.04200889820988375,0.04200889820988375,0.04200889820988375,0.04200889820988375,0.04200889820988375,0.04200889820988375,0.04200889820988375,0.04200889820988375,0.04200889820988375,0.04200889820988375,0.04200889820988375,0.04200889820988375,0.04200889820988375,0.04200889820988375,0.04200889820988375,0.04200889820988375,0.04200889820988375,0.04200889820988375,0.04200889820988375,0.04200889820988375,0.04200889820988375,0.04200889820988375,0.04200889820988375,0.04200889820988375,0.04200889820988375,0.04200889820988375,0.04200889820988375,0.04200889820988375,0.04200889820988375,0.04200889820988375,0.04200889820988375,0.04200889820988375,0.04200889820988375,0.04200889820988375,0.04200889820988375,0.04200889820988375,0.04200889820988375,0.04200889820988375,0.04200889820988375,0.04201045044388637,0.04201045044388637,0.04201045044388637,0.04201045044388637,0.04201045044388637,0.04201045044388637,0.04201045044388637,0.04201045044388637,0.04201045044388637,0.04201045044388637,0.04201045044388637,0.04201045044388637,0.04201045044388637,0.04201045044388637,0.04201045044388637,0.04201045044388637,0.04201045044388637,0.04201045044388637,0.04201045044388637,0.04201045044388637,0.04201045044388637,0.04201045044388637,0.04201045044388637,0.04201045044388637,0.04201045044388637,0.04201045044388637,0.04201045044388637,0.04201045044388637,0.04201045044388637,0.04201045044388637,0.04201045044388637,0.04201045044388637,0.04201045044388637,0.04201045044388637,0.04201045044388637,0.04201045044388637,0.04201045044388637,0.04201045044388637,0.04201045044388637,0.04201045044388637,0.04201045044388637,0.04201045044388637,0.04201045044388637,0.04201045044388637,0.04201045044388637,0.04201045044388637,0.04201045044388637,0.04201045044388637,0.04201045044388637,0.04201045044388637,0.04201045044388637,0.04201045044388637,0.04201045044388637,0.04201045044388637],\"type\":\"scatter\"},{\"marker\":{\"color\":\"#cccccc\"},\"mode\":\"markers\",\"name\":\"Infeasible Trial\",\"showlegend\":false,\"x\":[],\"y\":[],\"type\":\"scatter\"}],                        {\"title\":{\"text\":\"Optimization History Plot\"},\"xaxis\":{\"title\":{\"text\":\"Trial\"}},\"yaxis\":{\"title\":{\"text\":\"Objective Value\"}},\"template\":{\"data\":{\"histogram2dcontour\":[{\"type\":\"histogram2dcontour\",\"colorbar\":{\"outlinewidth\":0,\"ticks\":\"\"},\"colorscale\":[[0.0,\"#0d0887\"],[0.1111111111111111,\"#46039f\"],[0.2222222222222222,\"#7201a8\"],[0.3333333333333333,\"#9c179e\"],[0.4444444444444444,\"#bd3786\"],[0.5555555555555556,\"#d8576b\"],[0.6666666666666666,\"#ed7953\"],[0.7777777777777778,\"#fb9f3a\"],[0.8888888888888888,\"#fdca26\"],[1.0,\"#f0f921\"]]}],\"choropleth\":[{\"type\":\"choropleth\",\"colorbar\":{\"outlinewidth\":0,\"ticks\":\"\"}}],\"histogram2d\":[{\"type\":\"histogram2d\",\"colorbar\":{\"outlinewidth\":0,\"ticks\":\"\"},\"colorscale\":[[0.0,\"#0d0887\"],[0.1111111111111111,\"#46039f\"],[0.2222222222222222,\"#7201a8\"],[0.3333333333333333,\"#9c179e\"],[0.4444444444444444,\"#bd3786\"],[0.5555555555555556,\"#d8576b\"],[0.6666666666666666,\"#ed7953\"],[0.7777777777777778,\"#fb9f3a\"],[0.8888888888888888,\"#fdca26\"],[1.0,\"#f0f921\"]]}],\"heatmap\":[{\"type\":\"heatmap\",\"colorbar\":{\"outlinewidth\":0,\"ticks\":\"\"},\"colorscale\":[[0.0,\"#0d0887\"],[0.1111111111111111,\"#46039f\"],[0.2222222222222222,\"#7201a8\"],[0.3333333333333333,\"#9c179e\"],[0.4444444444444444,\"#bd3786\"],[0.5555555555555556,\"#d8576b\"],[0.6666666666666666,\"#ed7953\"],[0.7777777777777778,\"#fb9f3a\"],[0.8888888888888888,\"#fdca26\"],[1.0,\"#f0f921\"]]}],\"heatmapgl\":[{\"type\":\"heatmapgl\",\"colorbar\":{\"outlinewidth\":0,\"ticks\":\"\"},\"colorscale\":[[0.0,\"#0d0887\"],[0.1111111111111111,\"#46039f\"],[0.2222222222222222,\"#7201a8\"],[0.3333333333333333,\"#9c179e\"],[0.4444444444444444,\"#bd3786\"],[0.5555555555555556,\"#d8576b\"],[0.6666666666666666,\"#ed7953\"],[0.7777777777777778,\"#fb9f3a\"],[0.8888888888888888,\"#fdca26\"],[1.0,\"#f0f921\"]]}],\"contourcarpet\":[{\"type\":\"contourcarpet\",\"colorbar\":{\"outlinewidth\":0,\"ticks\":\"\"}}],\"contour\":[{\"type\":\"contour\",\"colorbar\":{\"outlinewidth\":0,\"ticks\":\"\"},\"colorscale\":[[0.0,\"#0d0887\"],[0.1111111111111111,\"#46039f\"],[0.2222222222222222,\"#7201a8\"],[0.3333333333333333,\"#9c179e\"],[0.4444444444444444,\"#bd3786\"],[0.5555555555555556,\"#d8576b\"],[0.6666666666666666,\"#ed7953\"],[0.7777777777777778,\"#fb9f3a\"],[0.8888888888888888,\"#fdca26\"],[1.0,\"#f0f921\"]]}],\"surface\":[{\"type\":\"surface\",\"colorbar\":{\"outlinewidth\":0,\"ticks\":\"\"},\"colorscale\":[[0.0,\"#0d0887\"],[0.1111111111111111,\"#46039f\"],[0.2222222222222222,\"#7201a8\"],[0.3333333333333333,\"#9c179e\"],[0.4444444444444444,\"#bd3786\"],[0.5555555555555556,\"#d8576b\"],[0.6666666666666666,\"#ed7953\"],[0.7777777777777778,\"#fb9f3a\"],[0.8888888888888888,\"#fdca26\"],[1.0,\"#f0f921\"]]}],\"mesh3d\":[{\"type\":\"mesh3d\",\"colorbar\":{\"outlinewidth\":0,\"ticks\":\"\"}}],\"scatter\":[{\"fillpattern\":{\"fillmode\":\"overlay\",\"size\":10,\"solidity\":0.2},\"type\":\"scatter\"}],\"parcoords\":[{\"type\":\"parcoords\",\"line\":{\"colorbar\":{\"outlinewidth\":0,\"ticks\":\"\"}}}],\"scatterpolargl\":[{\"type\":\"scatterpolargl\",\"marker\":{\"colorbar\":{\"outlinewidth\":0,\"ticks\":\"\"}}}],\"bar\":[{\"error_x\":{\"color\":\"#2a3f5f\"},\"error_y\":{\"color\":\"#2a3f5f\"},\"marker\":{\"line\":{\"color\":\"#E5ECF6\",\"width\":0.5},\"pattern\":{\"fillmode\":\"overlay\",\"size\":10,\"solidity\":0.2}},\"type\":\"bar\"}],\"scattergeo\":[{\"type\":\"scattergeo\",\"marker\":{\"colorbar\":{\"outlinewidth\":0,\"ticks\":\"\"}}}],\"scatterpolar\":[{\"type\":\"scatterpolar\",\"marker\":{\"colorbar\":{\"outlinewidth\":0,\"ticks\":\"\"}}}],\"histogram\":[{\"marker\":{\"pattern\":{\"fillmode\":\"overlay\",\"size\":10,\"solidity\":0.2}},\"type\":\"histogram\"}],\"scattergl\":[{\"type\":\"scattergl\",\"marker\":{\"colorbar\":{\"outlinewidth\":0,\"ticks\":\"\"}}}],\"scatter3d\":[{\"type\":\"scatter3d\",\"line\":{\"colorbar\":{\"outlinewidth\":0,\"ticks\":\"\"}},\"marker\":{\"colorbar\":{\"outlinewidth\":0,\"ticks\":\"\"}}}],\"scattermapbox\":[{\"type\":\"scattermapbox\",\"marker\":{\"colorbar\":{\"outlinewidth\":0,\"ticks\":\"\"}}}],\"scatterternary\":[{\"type\":\"scatterternary\",\"marker\":{\"colorbar\":{\"outlinewidth\":0,\"ticks\":\"\"}}}],\"scattercarpet\":[{\"type\":\"scattercarpet\",\"marker\":{\"colorbar\":{\"outlinewidth\":0,\"ticks\":\"\"}}}],\"carpet\":[{\"aaxis\":{\"endlinecolor\":\"#2a3f5f\",\"gridcolor\":\"white\",\"linecolor\":\"white\",\"minorgridcolor\":\"white\",\"startlinecolor\":\"#2a3f5f\"},\"baxis\":{\"endlinecolor\":\"#2a3f5f\",\"gridcolor\":\"white\",\"linecolor\":\"white\",\"minorgridcolor\":\"white\",\"startlinecolor\":\"#2a3f5f\"},\"type\":\"carpet\"}],\"table\":[{\"cells\":{\"fill\":{\"color\":\"#EBF0F8\"},\"line\":{\"color\":\"white\"}},\"header\":{\"fill\":{\"color\":\"#C8D4E3\"},\"line\":{\"color\":\"white\"}},\"type\":\"table\"}],\"barpolar\":[{\"marker\":{\"line\":{\"color\":\"#E5ECF6\",\"width\":0.5},\"pattern\":{\"fillmode\":\"overlay\",\"size\":10,\"solidity\":0.2}},\"type\":\"barpolar\"}],\"pie\":[{\"automargin\":true,\"type\":\"pie\"}]},\"layout\":{\"autotypenumbers\":\"strict\",\"colorway\":[\"#636efa\",\"#EF553B\",\"#00cc96\",\"#ab63fa\",\"#FFA15A\",\"#19d3f3\",\"#FF6692\",\"#B6E880\",\"#FF97FF\",\"#FECB52\"],\"font\":{\"color\":\"#2a3f5f\"},\"hovermode\":\"closest\",\"hoverlabel\":{\"align\":\"left\"},\"paper_bgcolor\":\"white\",\"plot_bgcolor\":\"#E5ECF6\",\"polar\":{\"bgcolor\":\"#E5ECF6\",\"angularaxis\":{\"gridcolor\":\"white\",\"linecolor\":\"white\",\"ticks\":\"\"},\"radialaxis\":{\"gridcolor\":\"white\",\"linecolor\":\"white\",\"ticks\":\"\"}},\"ternary\":{\"bgcolor\":\"#E5ECF6\",\"aaxis\":{\"gridcolor\":\"white\",\"linecolor\":\"white\",\"ticks\":\"\"},\"baxis\":{\"gridcolor\":\"white\",\"linecolor\":\"white\",\"ticks\":\"\"},\"caxis\":{\"gridcolor\":\"white\",\"linecolor\":\"white\",\"ticks\":\"\"}},\"coloraxis\":{\"colorbar\":{\"outlinewidth\":0,\"ticks\":\"\"}},\"colorscale\":{\"sequential\":[[0.0,\"#0d0887\"],[0.1111111111111111,\"#46039f\"],[0.2222222222222222,\"#7201a8\"],[0.3333333333333333,\"#9c179e\"],[0.4444444444444444,\"#bd3786\"],[0.5555555555555556,\"#d8576b\"],[0.6666666666666666,\"#ed7953\"],[0.7777777777777778,\"#fb9f3a\"],[0.8888888888888888,\"#fdca26\"],[1.0,\"#f0f921\"]],\"sequentialminus\":[[0.0,\"#0d0887\"],[0.1111111111111111,\"#46039f\"],[0.2222222222222222,\"#7201a8\"],[0.3333333333333333,\"#9c179e\"],[0.4444444444444444,\"#bd3786\"],[0.5555555555555556,\"#d8576b\"],[0.6666666666666666,\"#ed7953\"],[0.7777777777777778,\"#fb9f3a\"],[0.8888888888888888,\"#fdca26\"],[1.0,\"#f0f921\"]],\"diverging\":[[0,\"#8e0152\"],[0.1,\"#c51b7d\"],[0.2,\"#de77ae\"],[0.3,\"#f1b6da\"],[0.4,\"#fde0ef\"],[0.5,\"#f7f7f7\"],[0.6,\"#e6f5d0\"],[0.7,\"#b8e186\"],[0.8,\"#7fbc41\"],[0.9,\"#4d9221\"],[1,\"#276419\"]]},\"xaxis\":{\"gridcolor\":\"white\",\"linecolor\":\"white\",\"ticks\":\"\",\"title\":{\"standoff\":15},\"zerolinecolor\":\"white\",\"automargin\":true,\"zerolinewidth\":2},\"yaxis\":{\"gridcolor\":\"white\",\"linecolor\":\"white\",\"ticks\":\"\",\"title\":{\"standoff\":15},\"zerolinecolor\":\"white\",\"automargin\":true,\"zerolinewidth\":2},\"scene\":{\"xaxis\":{\"backgroundcolor\":\"#E5ECF6\",\"gridcolor\":\"white\",\"linecolor\":\"white\",\"showbackground\":true,\"ticks\":\"\",\"zerolinecolor\":\"white\",\"gridwidth\":2},\"yaxis\":{\"backgroundcolor\":\"#E5ECF6\",\"gridcolor\":\"white\",\"linecolor\":\"white\",\"showbackground\":true,\"ticks\":\"\",\"zerolinecolor\":\"white\",\"gridwidth\":2},\"zaxis\":{\"backgroundcolor\":\"#E5ECF6\",\"gridcolor\":\"white\",\"linecolor\":\"white\",\"showbackground\":true,\"ticks\":\"\",\"zerolinecolor\":\"white\",\"gridwidth\":2}},\"shapedefaults\":{\"line\":{\"color\":\"#2a3f5f\"}},\"annotationdefaults\":{\"arrowcolor\":\"#2a3f5f\",\"arrowhead\":0,\"arrowwidth\":1},\"geo\":{\"bgcolor\":\"white\",\"landcolor\":\"#E5ECF6\",\"subunitcolor\":\"white\",\"showland\":true,\"showlakes\":true,\"lakecolor\":\"white\"},\"title\":{\"x\":0.05},\"mapbox\":{\"style\":\"light\"}}}},                        {\"responsive\": true}                    ).then(function(){\n",
       "                            \n",
       "var gd = document.getElementById('23c2ab56-8e09-444a-be4b-e652ff8de7fd');\n",
       "var x = new MutationObserver(function (mutations, observer) {{\n",
       "        var display = window.getComputedStyle(gd).display;\n",
       "        if (!display || display === 'none') {{\n",
       "            console.log([gd, 'removed!']);\n",
       "            Plotly.purge(gd);\n",
       "            observer.disconnect();\n",
       "        }}\n",
       "}});\n",
       "\n",
       "// Listen for the removal of the full notebook cells\n",
       "var notebookContainer = gd.closest('#notebook-container');\n",
       "if (notebookContainer) {{\n",
       "    x.observe(notebookContainer, {childList: true});\n",
       "}}\n",
       "\n",
       "// Listen for the clearing of the current output cell\n",
       "var outputEl = gd.closest('.output');\n",
       "if (outputEl) {{\n",
       "    x.observe(outputEl, {childList: true});\n",
       "}}\n",
       "\n",
       "                        })                };                });            </script>        </div>"
      ]
     },
     "metadata": {},
     "output_type": "display_data"
    }
   ],
   "source": [
    "if config['tune_parameters']:\n",
    "    fig = optuna.visualization.plot_optimization_history(study)\n",
    "    fig.show()"
   ]
  },
  {
   "cell_type": "code",
   "execution_count": 19,
   "id": "06f2b16c",
   "metadata": {
    "execution": {
     "iopub.execute_input": "2023-12-24T20:08:27.588018Z",
     "iopub.status.busy": "2023-12-24T20:08:27.587561Z",
     "iopub.status.idle": "2023-12-24T20:08:38.263919Z",
     "shell.execute_reply": "2023-12-24T20:08:38.262832Z"
    },
    "papermill": {
     "duration": 10.793299,
     "end_time": "2023-12-24T20:08:38.266382",
     "exception": false,
     "start_time": "2023-12-24T20:08:27.473083",
     "status": "completed"
    },
    "tags": []
   },
   "outputs": [
    {
     "data": {
      "text/html": [
       "<div>                            <div id=\"54a7b5f2-a2fc-45fa-a657-49e8b8bc56cf\" class=\"plotly-graph-div\" style=\"height:525px; width:100%;\"></div>            <script type=\"text/javascript\">                require([\"plotly\"], function(Plotly) {                    window.PLOTLYENV=window.PLOTLYENV || {};                                    if (document.getElementById(\"54a7b5f2-a2fc-45fa-a657-49e8b8bc56cf\")) {                    Plotly.newPlot(                        \"54a7b5f2-a2fc-45fa-a657-49e8b8bc56cf\",                        [{\"cliponaxis\":false,\"hovertemplate\":[\"topK (IntDistribution): 0.006192729950633502\\u003cextra\\u003e\\u003c\\u002fextra\\u003e\",\"hybrid_lambda (FloatDistribution): 0.9938072700493665\\u003cextra\\u003e\\u003c\\u002fextra\\u003e\"],\"name\":\"Objective Value\",\"orientation\":\"h\",\"text\":[\"\\u003c0.01\",\"0.99\"],\"textposition\":\"outside\",\"x\":[0.006192729950633502,0.9938072700493665],\"y\":[\"topK\",\"hybrid_lambda\"],\"type\":\"bar\"}],                        {\"title\":{\"text\":\"Hyperparameter Importances\"},\"xaxis\":{\"title\":{\"text\":\"Hyperparameter Importance\"}},\"yaxis\":{\"title\":{\"text\":\"Hyperparameter\"}},\"template\":{\"data\":{\"histogram2dcontour\":[{\"type\":\"histogram2dcontour\",\"colorbar\":{\"outlinewidth\":0,\"ticks\":\"\"},\"colorscale\":[[0.0,\"#0d0887\"],[0.1111111111111111,\"#46039f\"],[0.2222222222222222,\"#7201a8\"],[0.3333333333333333,\"#9c179e\"],[0.4444444444444444,\"#bd3786\"],[0.5555555555555556,\"#d8576b\"],[0.6666666666666666,\"#ed7953\"],[0.7777777777777778,\"#fb9f3a\"],[0.8888888888888888,\"#fdca26\"],[1.0,\"#f0f921\"]]}],\"choropleth\":[{\"type\":\"choropleth\",\"colorbar\":{\"outlinewidth\":0,\"ticks\":\"\"}}],\"histogram2d\":[{\"type\":\"histogram2d\",\"colorbar\":{\"outlinewidth\":0,\"ticks\":\"\"},\"colorscale\":[[0.0,\"#0d0887\"],[0.1111111111111111,\"#46039f\"],[0.2222222222222222,\"#7201a8\"],[0.3333333333333333,\"#9c179e\"],[0.4444444444444444,\"#bd3786\"],[0.5555555555555556,\"#d8576b\"],[0.6666666666666666,\"#ed7953\"],[0.7777777777777778,\"#fb9f3a\"],[0.8888888888888888,\"#fdca26\"],[1.0,\"#f0f921\"]]}],\"heatmap\":[{\"type\":\"heatmap\",\"colorbar\":{\"outlinewidth\":0,\"ticks\":\"\"},\"colorscale\":[[0.0,\"#0d0887\"],[0.1111111111111111,\"#46039f\"],[0.2222222222222222,\"#7201a8\"],[0.3333333333333333,\"#9c179e\"],[0.4444444444444444,\"#bd3786\"],[0.5555555555555556,\"#d8576b\"],[0.6666666666666666,\"#ed7953\"],[0.7777777777777778,\"#fb9f3a\"],[0.8888888888888888,\"#fdca26\"],[1.0,\"#f0f921\"]]}],\"heatmapgl\":[{\"type\":\"heatmapgl\",\"colorbar\":{\"outlinewidth\":0,\"ticks\":\"\"},\"colorscale\":[[0.0,\"#0d0887\"],[0.1111111111111111,\"#46039f\"],[0.2222222222222222,\"#7201a8\"],[0.3333333333333333,\"#9c179e\"],[0.4444444444444444,\"#bd3786\"],[0.5555555555555556,\"#d8576b\"],[0.6666666666666666,\"#ed7953\"],[0.7777777777777778,\"#fb9f3a\"],[0.8888888888888888,\"#fdca26\"],[1.0,\"#f0f921\"]]}],\"contourcarpet\":[{\"type\":\"contourcarpet\",\"colorbar\":{\"outlinewidth\":0,\"ticks\":\"\"}}],\"contour\":[{\"type\":\"contour\",\"colorbar\":{\"outlinewidth\":0,\"ticks\":\"\"},\"colorscale\":[[0.0,\"#0d0887\"],[0.1111111111111111,\"#46039f\"],[0.2222222222222222,\"#7201a8\"],[0.3333333333333333,\"#9c179e\"],[0.4444444444444444,\"#bd3786\"],[0.5555555555555556,\"#d8576b\"],[0.6666666666666666,\"#ed7953\"],[0.7777777777777778,\"#fb9f3a\"],[0.8888888888888888,\"#fdca26\"],[1.0,\"#f0f921\"]]}],\"surface\":[{\"type\":\"surface\",\"colorbar\":{\"outlinewidth\":0,\"ticks\":\"\"},\"colorscale\":[[0.0,\"#0d0887\"],[0.1111111111111111,\"#46039f\"],[0.2222222222222222,\"#7201a8\"],[0.3333333333333333,\"#9c179e\"],[0.4444444444444444,\"#bd3786\"],[0.5555555555555556,\"#d8576b\"],[0.6666666666666666,\"#ed7953\"],[0.7777777777777778,\"#fb9f3a\"],[0.8888888888888888,\"#fdca26\"],[1.0,\"#f0f921\"]]}],\"mesh3d\":[{\"type\":\"mesh3d\",\"colorbar\":{\"outlinewidth\":0,\"ticks\":\"\"}}],\"scatter\":[{\"fillpattern\":{\"fillmode\":\"overlay\",\"size\":10,\"solidity\":0.2},\"type\":\"scatter\"}],\"parcoords\":[{\"type\":\"parcoords\",\"line\":{\"colorbar\":{\"outlinewidth\":0,\"ticks\":\"\"}}}],\"scatterpolargl\":[{\"type\":\"scatterpolargl\",\"marker\":{\"colorbar\":{\"outlinewidth\":0,\"ticks\":\"\"}}}],\"bar\":[{\"error_x\":{\"color\":\"#2a3f5f\"},\"error_y\":{\"color\":\"#2a3f5f\"},\"marker\":{\"line\":{\"color\":\"#E5ECF6\",\"width\":0.5},\"pattern\":{\"fillmode\":\"overlay\",\"size\":10,\"solidity\":0.2}},\"type\":\"bar\"}],\"scattergeo\":[{\"type\":\"scattergeo\",\"marker\":{\"colorbar\":{\"outlinewidth\":0,\"ticks\":\"\"}}}],\"scatterpolar\":[{\"type\":\"scatterpolar\",\"marker\":{\"colorbar\":{\"outlinewidth\":0,\"ticks\":\"\"}}}],\"histogram\":[{\"marker\":{\"pattern\":{\"fillmode\":\"overlay\",\"size\":10,\"solidity\":0.2}},\"type\":\"histogram\"}],\"scattergl\":[{\"type\":\"scattergl\",\"marker\":{\"colorbar\":{\"outlinewidth\":0,\"ticks\":\"\"}}}],\"scatter3d\":[{\"type\":\"scatter3d\",\"line\":{\"colorbar\":{\"outlinewidth\":0,\"ticks\":\"\"}},\"marker\":{\"colorbar\":{\"outlinewidth\":0,\"ticks\":\"\"}}}],\"scattermapbox\":[{\"type\":\"scattermapbox\",\"marker\":{\"colorbar\":{\"outlinewidth\":0,\"ticks\":\"\"}}}],\"scatterternary\":[{\"type\":\"scatterternary\",\"marker\":{\"colorbar\":{\"outlinewidth\":0,\"ticks\":\"\"}}}],\"scattercarpet\":[{\"type\":\"scattercarpet\",\"marker\":{\"colorbar\":{\"outlinewidth\":0,\"ticks\":\"\"}}}],\"carpet\":[{\"aaxis\":{\"endlinecolor\":\"#2a3f5f\",\"gridcolor\":\"white\",\"linecolor\":\"white\",\"minorgridcolor\":\"white\",\"startlinecolor\":\"#2a3f5f\"},\"baxis\":{\"endlinecolor\":\"#2a3f5f\",\"gridcolor\":\"white\",\"linecolor\":\"white\",\"minorgridcolor\":\"white\",\"startlinecolor\":\"#2a3f5f\"},\"type\":\"carpet\"}],\"table\":[{\"cells\":{\"fill\":{\"color\":\"#EBF0F8\"},\"line\":{\"color\":\"white\"}},\"header\":{\"fill\":{\"color\":\"#C8D4E3\"},\"line\":{\"color\":\"white\"}},\"type\":\"table\"}],\"barpolar\":[{\"marker\":{\"line\":{\"color\":\"#E5ECF6\",\"width\":0.5},\"pattern\":{\"fillmode\":\"overlay\",\"size\":10,\"solidity\":0.2}},\"type\":\"barpolar\"}],\"pie\":[{\"automargin\":true,\"type\":\"pie\"}]},\"layout\":{\"autotypenumbers\":\"strict\",\"colorway\":[\"#636efa\",\"#EF553B\",\"#00cc96\",\"#ab63fa\",\"#FFA15A\",\"#19d3f3\",\"#FF6692\",\"#B6E880\",\"#FF97FF\",\"#FECB52\"],\"font\":{\"color\":\"#2a3f5f\"},\"hovermode\":\"closest\",\"hoverlabel\":{\"align\":\"left\"},\"paper_bgcolor\":\"white\",\"plot_bgcolor\":\"#E5ECF6\",\"polar\":{\"bgcolor\":\"#E5ECF6\",\"angularaxis\":{\"gridcolor\":\"white\",\"linecolor\":\"white\",\"ticks\":\"\"},\"radialaxis\":{\"gridcolor\":\"white\",\"linecolor\":\"white\",\"ticks\":\"\"}},\"ternary\":{\"bgcolor\":\"#E5ECF6\",\"aaxis\":{\"gridcolor\":\"white\",\"linecolor\":\"white\",\"ticks\":\"\"},\"baxis\":{\"gridcolor\":\"white\",\"linecolor\":\"white\",\"ticks\":\"\"},\"caxis\":{\"gridcolor\":\"white\",\"linecolor\":\"white\",\"ticks\":\"\"}},\"coloraxis\":{\"colorbar\":{\"outlinewidth\":0,\"ticks\":\"\"}},\"colorscale\":{\"sequential\":[[0.0,\"#0d0887\"],[0.1111111111111111,\"#46039f\"],[0.2222222222222222,\"#7201a8\"],[0.3333333333333333,\"#9c179e\"],[0.4444444444444444,\"#bd3786\"],[0.5555555555555556,\"#d8576b\"],[0.6666666666666666,\"#ed7953\"],[0.7777777777777778,\"#fb9f3a\"],[0.8888888888888888,\"#fdca26\"],[1.0,\"#f0f921\"]],\"sequentialminus\":[[0.0,\"#0d0887\"],[0.1111111111111111,\"#46039f\"],[0.2222222222222222,\"#7201a8\"],[0.3333333333333333,\"#9c179e\"],[0.4444444444444444,\"#bd3786\"],[0.5555555555555556,\"#d8576b\"],[0.6666666666666666,\"#ed7953\"],[0.7777777777777778,\"#fb9f3a\"],[0.8888888888888888,\"#fdca26\"],[1.0,\"#f0f921\"]],\"diverging\":[[0,\"#8e0152\"],[0.1,\"#c51b7d\"],[0.2,\"#de77ae\"],[0.3,\"#f1b6da\"],[0.4,\"#fde0ef\"],[0.5,\"#f7f7f7\"],[0.6,\"#e6f5d0\"],[0.7,\"#b8e186\"],[0.8,\"#7fbc41\"],[0.9,\"#4d9221\"],[1,\"#276419\"]]},\"xaxis\":{\"gridcolor\":\"white\",\"linecolor\":\"white\",\"ticks\":\"\",\"title\":{\"standoff\":15},\"zerolinecolor\":\"white\",\"automargin\":true,\"zerolinewidth\":2},\"yaxis\":{\"gridcolor\":\"white\",\"linecolor\":\"white\",\"ticks\":\"\",\"title\":{\"standoff\":15},\"zerolinecolor\":\"white\",\"automargin\":true,\"zerolinewidth\":2},\"scene\":{\"xaxis\":{\"backgroundcolor\":\"#E5ECF6\",\"gridcolor\":\"white\",\"linecolor\":\"white\",\"showbackground\":true,\"ticks\":\"\",\"zerolinecolor\":\"white\",\"gridwidth\":2},\"yaxis\":{\"backgroundcolor\":\"#E5ECF6\",\"gridcolor\":\"white\",\"linecolor\":\"white\",\"showbackground\":true,\"ticks\":\"\",\"zerolinecolor\":\"white\",\"gridwidth\":2},\"zaxis\":{\"backgroundcolor\":\"#E5ECF6\",\"gridcolor\":\"white\",\"linecolor\":\"white\",\"showbackground\":true,\"ticks\":\"\",\"zerolinecolor\":\"white\",\"gridwidth\":2}},\"shapedefaults\":{\"line\":{\"color\":\"#2a3f5f\"}},\"annotationdefaults\":{\"arrowcolor\":\"#2a3f5f\",\"arrowhead\":0,\"arrowwidth\":1},\"geo\":{\"bgcolor\":\"white\",\"landcolor\":\"#E5ECF6\",\"subunitcolor\":\"white\",\"showland\":true,\"showlakes\":true,\"lakecolor\":\"white\"},\"title\":{\"x\":0.05},\"mapbox\":{\"style\":\"light\"}}}},                        {\"responsive\": true}                    ).then(function(){\n",
       "                            \n",
       "var gd = document.getElementById('54a7b5f2-a2fc-45fa-a657-49e8b8bc56cf');\n",
       "var x = new MutationObserver(function (mutations, observer) {{\n",
       "        var display = window.getComputedStyle(gd).display;\n",
       "        if (!display || display === 'none') {{\n",
       "            console.log([gd, 'removed!']);\n",
       "            Plotly.purge(gd);\n",
       "            observer.disconnect();\n",
       "        }}\n",
       "}});\n",
       "\n",
       "// Listen for the removal of the full notebook cells\n",
       "var notebookContainer = gd.closest('#notebook-container');\n",
       "if (notebookContainer) {{\n",
       "    x.observe(notebookContainer, {childList: true});\n",
       "}}\n",
       "\n",
       "// Listen for the clearing of the current output cell\n",
       "var outputEl = gd.closest('.output');\n",
       "if (outputEl) {{\n",
       "    x.observe(outputEl, {childList: true});\n",
       "}}\n",
       "\n",
       "                        })                };                });            </script>        </div>"
      ]
     },
     "metadata": {},
     "output_type": "display_data"
    }
   ],
   "source": [
    "if config['tune_parameters']:\n",
    "    fig = optuna.visualization.plot_param_importances(study)\n",
    "    fig.show()"
   ]
  },
  {
   "cell_type": "code",
   "execution_count": 20,
   "id": "11d49ae3",
   "metadata": {
    "execution": {
     "iopub.execute_input": "2023-12-24T20:08:38.497691Z",
     "iopub.status.busy": "2023-12-24T20:08:38.496631Z",
     "iopub.status.idle": "2023-12-24T20:08:38.833583Z",
     "shell.execute_reply": "2023-12-24T20:08:38.832445Z"
    },
    "papermill": {
     "duration": 0.454081,
     "end_time": "2023-12-24T20:08:38.835979",
     "exception": false,
     "start_time": "2023-12-24T20:08:38.381898",
     "status": "completed"
    },
    "tags": []
   },
   "outputs": [
    {
     "data": {
      "text/html": [
       "<div>                            <div id=\"f34de01c-e994-4262-a099-d1a6992c1d32\" class=\"plotly-graph-div\" style=\"height:525px; width:100%;\"></div>            <script type=\"text/javascript\">                require([\"plotly\"], function(Plotly) {                    window.PLOTLYENV=window.PLOTLYENV || {};                                    if (document.getElementById(\"f34de01c-e994-4262-a099-d1a6992c1d32\")) {                    Plotly.newPlot(                        \"f34de01c-e994-4262-a099-d1a6992c1d32\",                        [{\"marker\":{\"color\":[0,1,2,3,4,5,6,7,8,9,10,11,12,13,14,15,16,17,18,19,20,21,22,23,24,25,26,27,28,29,30,31,32,33,34,35,36,37,38,39,40,41,42,43,44,45,46,47,48,49,50,51,52,53,54,55,56,57,58,59,60,61,62,63,64,65,66,67,68,69,70,71,72,73,74,75,76,77,78,79,80,81,82,83,84,85,86,87,88,89,90,91,92,93,94,95,96,97,98,99,100,101,102,103,104,105,106,107,108,109,110,111,112,113,114,115,116,117,118,119,120,121,122,123,124,125,126,127,128,129,130,131,132,133,134,135,136,137,138,139,140,141,142,143,144,145,146,147,148,149,150,151,152,153,154,155,156,157,158,159,160,161,162,163,164,165,166,167,168,169,170,171,172,173,174,175,176,177,178,179,180,181,182,183,184,185,186,187,188,189,190,191,192,193,194,195,196,197,198,199,200,201,202,203,204,205,206,207,208,209,210,211,212,213,214,215,216,217,218,219,220,221,222,223,224,225,226,227,228,229,230,231,232,233,234,235,236,237,238,239,240,241,242,243,244,245,246,247,248,249,250,251,252,253,254,255,256,257,258,259,260,261,262,263,264,265,266,267,268,269,270,271,272,273,274,275,276,277,278,279,280,281,282,283,284,285,286,287,288,289,290,291,292,293,294,295,296,297,298,299,300,301,302,303,304,305,306,307,308,309,310,311,312,313,314,315,316,317,318,319,320,321,322,323,324,325,326,327,328,329,330,331,332,333,334,335,336,337,338,339,340,341,342,343,344,345,346,347,348,349,350,351,352,353,354,355,356,357,358,359,360,361,362,363,364,365,366,367,368,369,370,371,372,373,374,375,376,377,378,379,380,381,382,383,384,385,386,387,388,389,390,391,392,393,394,395,396,397,398,399],\"colorbar\":{\"title\":{\"text\":\"Trial\"},\"x\":1.0,\"xpad\":40},\"colorscale\":[[0.0,\"rgb(247,251,255)\"],[0.125,\"rgb(222,235,247)\"],[0.25,\"rgb(198,219,239)\"],[0.375,\"rgb(158,202,225)\"],[0.5,\"rgb(107,174,214)\"],[0.625,\"rgb(66,146,198)\"],[0.75,\"rgb(33,113,181)\"],[0.875,\"rgb(8,81,156)\"],[1.0,\"rgb(8,48,107)\"]],\"line\":{\"color\":\"Grey\",\"width\":0.5},\"showscale\":true},\"mode\":\"markers\",\"name\":\"Feasible Trial\",\"showlegend\":false,\"x\":[0.6111530273349329,0.02064710460704148,0.9308055007353881,0.47163843281289963,0.5829472775185799,0.24275762238902296,0.29449024784443717,0.5018488077781994,0.5438964113146934,0.3946196027010465,0.7392672411755284,0.7653874922613132,0.8219995453500097,0.8729720361650454,0.9767894996096244,0.8559007700088684,0.812034613065196,0.9885174661911033,0.694690566886905,0.8717909959317014,0.8743775516605536,0.8461976962314548,0.6655211774961651,0.7489697505763534,0.8580022497353806,0.9291927143943592,0.7930783466625129,0.6363111515720963,0.7144735227317761,0.8048596702332574,0.6786454880878403,0.8994060791095638,0.9205240370717866,0.912302592410566,0.9204260241753784,0.9385123928995202,0.9393989081434009,0.9183489122823214,0.9846244809137491,0.9052304404329684,0.7737406716465345,0.906819516087688,0.9279995212052893,0.8221711659438312,0.9564137039209059,0.8962336916968402,0.7365862615523086,0.892793174531852,0.9867879150928042,0.7745487105983587,0.8385655692994797,0.9474217709573372,0.83901721232673,0.898502381116377,0.8404067102378737,0.8767540556766159,0.954897343193407,0.8055559665264153,0.8612731237753438,0.8465287142209631,0.7817278911390885,0.8785405710462819,0.8692852938018728,0.9659737206213267,0.8228518842017234,0.9261381629267669,0.881453197343925,0.7485273359941909,0.8564600488437392,0.9472752757959768,0.716183542316458,0.9536406780978337,0.9226275587496224,0.907327686062123,0.987048174496158,0.9211773514325886,0.8201774498662175,0.8869616170436384,0.8716756835836824,0.7922089322009065,0.9322144535959209,0.930280710326157,0.9648198033375112,0.9375817145740948,0.9191959724765233,0.8863376848716539,0.9886010333012065,0.8653135579331654,0.8575768518588153,0.9012934603850533,0.9636140208298365,0.9353760796227165,0.8865524056764507,0.8883010723334698,0.8662702233696613,0.8351314656365546,0.8020065775128129,0.9138279927260389,0.9345464764612751,0.9665379707236141,0.8581020856461229,0.8880988738238813,0.8887816720080047,0.9054572944688025,0.8256206714479628,0.849136110444391,0.8751650408875434,0.8743523390334762,0.9388583160037686,0.8057213903889027,0.767421265325625,0.9198469524956401,0.8881995396205373,0.8910439858477662,0.8362693402798569,0.8853191775170115,0.8966078325832693,0.891698032226389,0.9704698359356608,0.9491509194990501,0.8797645529455621,0.8651288597533408,0.8494683402781824,0.917374683776859,0.8685775126967583,0.8203292890984792,0.9014942923700574,0.8424644638792766,0.943452816111912,0.7908334956080664,0.8858338280756074,0.854397917087688,0.865280650281097,0.9115325445510165,0.8208766473287248,0.8495065206802233,0.8431890396150301,0.8790537651828896,0.8021164719843625,0.8567424633026809,0.5644981552036122,0.8557564923045777,0.898062358061922,0.823782157157324,0.8596559352698709,0.6172071146477993,0.8806982570522497,0.9150075811715488,0.8402300715766446,0.8626313402045117,0.7619510809397465,0.8916614435206489,0.8634216961059861,0.8305668564313129,0.7826566363405847,0.8154133845998942,0.9270472892817226,0.9036054239163853,0.838808383099597,0.8771649266008222,0.9523385016021875,0.846493591416841,0.8655376064962054,0.4714422280166201,0.8876998457049678,0.9160464819337553,0.8577995672299825,0.8098099255354747,0.8555129778000174,0.8660082123477156,0.8275501891051072,0.900045523354932,0.8772909434676988,0.8677143040351232,0.8776406310675456,0.8752521066738367,0.8359430701884842,0.8306050077058044,0.8033033471783204,0.6547457365204962,0.7850783787735208,0.873764615226206,0.8755785775287401,0.8415311268301093,0.8762793697490957,0.8498506782639107,0.9081033634040022,0.8277898411336193,0.891397596697817,0.7335107238624177,0.8812221792866383,0.9030834651224989,0.8594851266012881,0.8862928875981946,0.8784040864710705,0.8424499914451966,0.8404441774101961,0.8104430705604291,0.8539576728403233,0.8314614804747515,0.8704105953069718,0.8775115108221528,0.8577959605746892,0.8916907576026285,0.8628564067129768,0.8212233200646846,0.8494455660611051,0.31294887639239943,0.9078762998093031,0.8663427658345771,0.9293059682424731,0.8720545950463163,0.8936790617307985,0.8404078161351688,0.8623847578342859,0.8893809155072224,0.8099752588516371,0.8377561045753082,0.872368224809991,0.9163435901906802,0.7927149688582446,0.6808886513102694,0.8914652928657592,0.8954357042168031,0.7059559150497271,0.8543118817024331,0.8743627069621611,0.8973763534553554,0.8511459189385693,0.9155633961039793,0.12270010336058884,0.8812774035581328,0.8741060653275242,0.8675316031206552,0.8288150429305194,0.8888265705279528,0.8543506031813359,0.9017547859233398,0.8782446603181209,0.623945775601564,0.6526261916898448,0.8751341472731524,0.8443526293738939,0.5402088491789951,0.8852815757096668,0.8618523156943443,0.9283460124503793,0.9063359878962202,0.8308040013347497,0.8266013258650472,0.769762729631283,0.5979216625971119,0.8415248215978277,0.8128243758899344,0.8536427542845723,0.8638477050077424,0.8348026676146186,0.8914787424862738,0.7990875976710521,0.9412966133401157,0.8719208270801174,0.9157372130016025,0.7386641551499062,0.8783980579383486,0.8940866450418782,0.8617886317475419,0.6886397295201192,0.9057564343188912,0.8788651194384263,0.8806016196663996,0.9309016621530917,0.8640737274155459,0.9050225479972224,0.8834945086498437,0.4510164418054118,0.8908539224918325,0.9148399329122914,0.8559934483014386,0.9496591938686291,0.879328296415218,0.7539625057359147,0.8951515366596842,0.8481629429847378,0.8734051733727876,0.6700072248113145,0.9257423205564063,0.9736530721821186,0.876683607868482,0.9021377955423409,0.8671388656460491,0.5959719898833528,0.8823489253324162,0.869164354814651,0.9119723058099437,0.8902410115119946,0.5712670745930517,0.8633624820736876,0.5188808287836473,0.934924745737644,0.4189153785199323,0.8527857851143392,0.9063277909367119,0.8755283852334296,0.8920696848956257,0.9228676027668383,0.8662678089183993,0.956259068136742,0.726917310455103,0.8471409259137234,0.703743625789723,0.815870214798413,0.8867173966092379,0.9103679233656924,0.6605017890491538,0.9899496665544382,0.6247168403671509,0.8661630693326522,0.8492960227318634,0.8834940152136693,0.8282810497974029,0.900984497917825,0.546575228750998,0.4973650051904526,0.9346193223413828,0.7163180581704492,0.869749201704496,0.3593791023826778,0.8527839646108789,0.17333505596143683,0.891260232054706,0.9179759020016347,0.7743236293367005,0.7934944322967369,0.8719902022483614,0.8397756490842642,0.7536956935867156,0.8584858214499111,0.8988248633079317,0.8253087353604458,0.5950566707247407,0.9518043997605155,0.8765054232632843,0.921684386901834,0.8100917011235828,0.8615972386753402,0.8886986655197615,0.8450256587797654,0.8401730497435024,0.8148332355272162,0.8452447205304946,0.6293037955715921,0.903902313427755,0.970586659155139,0.8615524960828539,0.8890894527266332,0.9331036095296393,0.9034657624945579,0.8247135838953282,0.6442537683547622,0.8850654174388012,0.5705534858778063,0.9164944388978763,0.2650933154502222,0.8912621039162012,0.8498873250291655,0.7013177717252699,0.6795290146366367,0.7834650245559884,0.8726344930972567,0.9432181779893892,0.8942946164690738,0.6046890693929471,0.8386950670233554,0.862217331093461,0.49173296485537665,0.8616347423504982,0.8636324439849007,0.8276209562004619,0.8525484171929114,0.8010514617087421,0.91916532633284,0.016457868503537365,0.8844968879830345,0.8611061884606309,0.8983210590944373,0.6521759723774028,0.7360095746552276,0.8430034714568966,0.8715003721122419,0.7638711238782396,0.40229499616734166,0.8740885702178955,0.8156649428284583,0.8530887068017694,0.9031890029504943,0.8714437235030636,0.8466126023927535,0.8309300248396568,0.9298153735734611,0.8825888387677102],\"y\":[0.02818601911562912,0.0015701017718997828,0.033171593586427545,0.02936595984989277,0.032042345247203924,0.006279321662355323,0.00959179661408045,0.03138064193415206,0.03366505598668983,0.013731240360209396,0.04067155563449602,0.04116753804301682,0.04164477599251938,0.04130699621087967,0.04031737302801821,0.04088821941681591,0.04077317952174546,0.040615534788259175,0.03846402080980352,0.04167629127652131,0.04161290016516734,0.041462993830534575,0.03664662804678142,0.04080618631665936,0.04165676500771237,0.04138195507098586,0.041370114068326205,0.0371633815474677,0.04016443812924352,0.04143049938669734,0.03929370696251007,0.04181880077968494,0.04185383041255327,0.041864422796663164,0.041734429840541674,0.04170182533610286,0.04126446727632704,0.04104459655578686,0.04162122302376753,0.041711241210333046,0.041133920222004246,0.04176513674840037,0.04187703422353435,0.04114455055804561,0.04145811700732382,0.04074351629200578,0.04046469483610896,0.039384393103071715,0.04154518253361078,0.04026236170316172,0.041815521732794535,0.04157821589487667,0.041647182144983,0.041612668658384595,0.0416846217255078,0.04173162898798954,0.04144485280722905,0.040871683760217145,0.04188770630670064,0.04167272759014394,0.04103095283637605,0.04193336627561052,0.04179980963311164,0.040809366688527624,0.04156696314715687,0.04170593553029519,0.04175561840395479,0.04089165406662586,0.041204996599507424,0.04180402229751945,0.039778022947256415,0.04175029754314432,0.041872563485991776,0.04150894602931759,0.04136030728920031,0.04180992382288341,0.04129649491140549,0.041944129443412644,0.041479267618805216,0.041711214643980976,0.04189272734725166,0.041884355151140425,0.04155085255219202,0.041792670874777386,0.04145792724766578,0.041731811157261246,0.04139933705565935,0.04187749723709994,0.04173064982815419,0.04176670036798234,0.041372448112119674,0.04171412555713493,0.04186386110807543,0.041903915576687704,0.04170908174542499,0.04157311136007628,0.04112787068410686,0.04150216022394728,0.04172620186177048,0.0415463742242631,0.041668716070973666,0.041894082231209745,0.0417596375135114,0.04178723615817206,0.04158780634799248,0.04165588831809234,0.04196782662950464,0.04166179363864952,0.04149718472571438,0.04162994817284268,0.04117918928601845,0.041902477198480066,0.04196668048117025,0.041892492045275606,0.04162633135376104,0.04199775552276559,0.0418505210041176,0.04183001557547318,0.04155012007991209,0.0410543539974016,0.041685684379592663,0.04195967455459669,0.04185587222647325,0.041860350554402403,0.041593290402108754,0.041540654868170684,0.04181337365346602,0.04162350393485676,0.041722159981054954,0.041444780698558885,0.041248140355352125,0.04198738325985886,0.04164820305194309,0.04173538622921799,0.04163003166709219,0.04194383341834633,0.04186298062326236,0.04149251284293417,0.041772476651972215,0.041892492045275634,0.035501796644442446,0.04184235754362999,0.04161440306165879,0.04177349376373925,0.041992028576286936,0.03769737281548729,0.041839203738113936,0.041591836843128456,0.041403234719034676,0.04171782207527285,0.04119312523530257,0.04187451042008286,0.04176136812159238,0.04192201485286852,0.04142992251733697,0.04170763577683087,0.04136168114912431,0.041475480016031546,0.0417459406613963,0.0418409039846496,0.04175693533598148,0.04171766267716006,0.041895342235338945,0.028982000157880237,0.04184555309627085,0.04137105527622993,0.04194337040478062,0.041543546805358635,0.04188295092967117,0.04123840948008955,0.04158349880375559,0.041830816361230046,0.04194804987794708,0.04192401491966384,0.04190583214923349,0.04194436095019538,0.0419100030665167,0.04179006737226953,0.041582071811127455,0.038603623195006584,0.04142144026062399,0.04195718870307674,0.04188753172781537,0.041855283971533604,0.04185360649615666,0.041509481151553236,0.041737450814297174,0.041813487509260755,0.04198829790141046,0.04041141791452672,0.041820307471369576,0.04184753798229371,0.04187300372839833,0.04199023344992217,0.04173842238374624,0.0419200185812663,0.041877876756416,0.04178525127214929,0.04189078800354689,0.04162839973403335,0.0419194568926785,0.04187463566145704,0.028317446654765082,0.04166879197483681,0.041996662507135456,0.041683190937686396,0.04186189899321185,0.011657493684798544,0.04179571082449858,0.04152953874740462,0.04180397675520143,0.04187343258522533,0.04180376801957771,0.041651649087332404,0.04175287447930001,0.041805286096841685,0.03408829592790988,0.041600136930569735,0.041795760162009706,0.0417796837237834,0.041418855734081855,0.03951819263793288,0.04193856948543299,0.04187997170304033,0.04010645896333582,0.04181606824060978,0.04189733471174798,0.04190010520275488,0.041893835543654515,0.04186343225124844,0.003819899867623668,0.041993478340074115,0.04192440961975249,0.04187099607121651,0.04149757563060969,0.04170278551997238,0.04158799990284357,0.04178080710095864,0.04161017142128515,0.03772935490824785,0.03859896649299903,0.04185743584605525,0.04162274110103149,0.03437895079608009,0.04181015532966612,0.04186185345089377,0.0417793345660126,0.040356106769410656,0.041912196688163296,0.041822979287354387,0.041200525861964835,0.03666109152791471,0.04188446141654868,0.041552252978467985,0.0418735540314066,0.03370259803743007,0.041901562556928534,0.04175954263368228,0.04143891332993348,0.04103770448500808,0.04200889820988375,0.04183125280844349,0.040638214862584156,0.04171790177432921,0.04178435560656354,0.04186976263343953,0.03926265469207364,0.04185796337790458,0.04193267934564848,0.04187794886508596,0.04174337511082024,0.04162819099840959,0.04181871349024222,0.041938983161487496,0.027193207970513004,0.041740498354404756,0.03989081988316921,0.041693487296729975,0.04172717343121962,0.041905395702020204,0.0409756530768396,0.04179018881845059,0.04176614626978096,0.04192752167814389,0.03908275874108937,0.04180926345927356,0.041431448184987354,0.041698481770928726,0.041845302613522324,0.04200162661978898,0.036965606441505955,0.036198537180748745,0.04198980459309509,0.04188703455751134,0.04180706604243375,0.035655498172235386,0.04182033024252842,0.03194157148322237,0.04176034721463236,0.02337078050424457,0.0416418802601382,0.041598041983945316,0.04164849148662325,0.04183082774680951,0.03427247285677882,0.0418976610983597,0.031505063546714486,0.040502893455265865,0.0417482025965198,0.03927443497164274,0.04118567147593583,0.041648024677864555,0.04189917538043072,0.03799969031223868,0.037092555652712925,0.038014165178951446,0.04192305473579429,0.041664120092056715,0.041819685059691414,0.040436944383721835,0.04187289366779674,0.03476029180481207,0.0314855752298371,0.04147928279957794,0.04024908991268077,0.04196187576662951,0.016532969602020886,0.04180856893892532,0.0048088702772616405,0.041745166441991804,0.041795574197544906,0.03361987041692504,0.0417304828396551,0.04192374546094947,0.03775875626965952,0.040790629819895834,0.04103658490302571,0.041841932481996205,0.03804034821656319,0.03636307398501392,0.041315914914806136,0.04172240287341725,0.04181678932731017,0.04163488192395094,0.04152613445913987,0.041797752638418804,0.04201045044388637,0.04162813407051207,0.04163743988414086,0.041830512745777315,0.02907589703185553,0.0417884164632449,0.03803274264947035,0.04159034912740975,0.04200727007201812,0.041878294227663614,0.04193054644709252,0.04148862276994507,0.03849547537071496,0.04197436195212642,0.03600044707375472,0.041799760295600556,0.0057919353663424145,0.0419863281961603,0.04185157986300913,0.03949566437133434,0.03948425222550176,0.041146793517203434,0.04187617271468702,0.04145848514106036,0.04158698658626983,0.03718549234281881,0.04153570973148294,0.041953856523482096,0.029834761085000393,0.04194468733680718,0.04149619038510638,0.04192882722459101,0.041979906729333404,0.04143688290159263,0.041829457682078734,0.002763348453382892,0.04172481282107393,0.03644227966626628,0.04169557465296802,0.03801661687373286,0.040433631180093105,0.03940181683487014,0.04195336694356443,0.04103568923744001,0.021809642978589082,0.04172898753355006,0.04078894854932584,0.04164245712949859,0.04181670583306048,0.041105930672448075,0.041815195346182936,0.041698292011270705,0.04179538443788689,0.04144330436841975],\"type\":\"scatter\",\"xaxis\":\"x\",\"yaxis\":\"y\"},{\"marker\":{\"color\":[0,1,2,3,4,5,6,7,8,9,10,11,12,13,14,15,16,17,18,19,20,21,22,23,24,25,26,27,28,29,30,31,32,33,34,35,36,37,38,39,40,41,42,43,44,45,46,47,48,49,50,51,52,53,54,55,56,57,58,59,60,61,62,63,64,65,66,67,68,69,70,71,72,73,74,75,76,77,78,79,80,81,82,83,84,85,86,87,88,89,90,91,92,93,94,95,96,97,98,99,100,101,102,103,104,105,106,107,108,109,110,111,112,113,114,115,116,117,118,119,120,121,122,123,124,125,126,127,128,129,130,131,132,133,134,135,136,137,138,139,140,141,142,143,144,145,146,147,148,149,150,151,152,153,154,155,156,157,158,159,160,161,162,163,164,165,166,167,168,169,170,171,172,173,174,175,176,177,178,179,180,181,182,183,184,185,186,187,188,189,190,191,192,193,194,195,196,197,198,199,200,201,202,203,204,205,206,207,208,209,210,211,212,213,214,215,216,217,218,219,220,221,222,223,224,225,226,227,228,229,230,231,232,233,234,235,236,237,238,239,240,241,242,243,244,245,246,247,248,249,250,251,252,253,254,255,256,257,258,259,260,261,262,263,264,265,266,267,268,269,270,271,272,273,274,275,276,277,278,279,280,281,282,283,284,285,286,287,288,289,290,291,292,293,294,295,296,297,298,299,300,301,302,303,304,305,306,307,308,309,310,311,312,313,314,315,316,317,318,319,320,321,322,323,324,325,326,327,328,329,330,331,332,333,334,335,336,337,338,339,340,341,342,343,344,345,346,347,348,349,350,351,352,353,354,355,356,357,358,359,360,361,362,363,364,365,366,367,368,369,370,371,372,373,374,375,376,377,378,379,380,381,382,383,384,385,386,387,388,389,390,391,392,393,394,395,396,397,398,399],\"colorbar\":{\"title\":{\"text\":\"Trial\"},\"x\":1.0,\"xpad\":40},\"colorscale\":[[0.0,\"rgb(247,251,255)\"],[0.125,\"rgb(222,235,247)\"],[0.25,\"rgb(198,219,239)\"],[0.375,\"rgb(158,202,225)\"],[0.5,\"rgb(107,174,214)\"],[0.625,\"rgb(66,146,198)\"],[0.75,\"rgb(33,113,181)\"],[0.875,\"rgb(8,81,156)\"],[1.0,\"rgb(8,48,107)\"]],\"line\":{\"color\":\"Grey\",\"width\":0.5},\"showscale\":false},\"mode\":\"markers\",\"name\":\"Feasible Trial\",\"showlegend\":false,\"x\":[5,6,9,86,529,12,14,176,186,1443,78,70,42,38,31,30,29,39,18,51,153,137,318,59,117,49,106,19,53,102,49,127,80,118,75,81,219,258,126,70,95,71,153,154,192,269,97,373,134,199,67,68,100,157,83,121,64,163,79,90,120,64,60,42,83,137,59,45,38,112,32,107,79,54,79,84,143,65,170,57,96,93,95,73,48,110,97,64,51,69,61,86,73,74,120,94,133,55,64,108,88,74,71,75,45,102,64,51,58,62,66,79,83,86,85,77,78,88,105,43,55,63,72,93,50,76,64,117,83,60,37,69,95,69,78,56,53,45,55,68,65,75,60,48,69,85,68,58,40,102,69,75,87,56,50,62,55,46,69,82,104,78,64,58,65,52,70,70,60,36,42,93,79,75,81,76,56,50,79,56,74,63,63,54,87,46,74,61,83,95,66,82,73,83,113,55,55,48,60,88,67,67,5,55,68,66,59,51,68,44,74,83,62,77,96,70,1002,87,57,77,63,72,82,102,85,52,66,82,59,92,71,78,78,67,76,58,92,69,50,107,62,81,80,73,88,64,76,23,55,54,48,57,67,41,61,8,55,68,101,46,77,85,76,97,74,64,119,87,71,71,81,94,68,77,78,91,339,107,81,61,72,91,77,62,63,85,71,133,103,63,78,11,64,65,65,60,86,222,72,51,95,59,120,70,1122,82,1856,63,74,152,36,51,99,177,654,85,68,111,61,23,77,88,69,57,46,75,63,52,94,72,77,7,59,67,13,89,31,80,420,42,55,103,66,83,49,70,61,75,94,57,5,64,18,136,81,103,83,114,90,78,78,95,6,84,72,124,84,109,61,187,51,74,92,67,273,65,44,56,65,65,67,85,60,11,72,154,100,17,80,82,77,93,29,85,68,34,52,107,76,39],\"y\":[0.02818601911562912,0.0015701017718997828,0.033171593586427545,0.02936595984989277,0.032042345247203924,0.006279321662355323,0.00959179661408045,0.03138064193415206,0.03366505598668983,0.013731240360209396,0.04067155563449602,0.04116753804301682,0.04164477599251938,0.04130699621087967,0.04031737302801821,0.04088821941681591,0.04077317952174546,0.040615534788259175,0.03846402080980352,0.04167629127652131,0.04161290016516734,0.041462993830534575,0.03664662804678142,0.04080618631665936,0.04165676500771237,0.04138195507098586,0.041370114068326205,0.0371633815474677,0.04016443812924352,0.04143049938669734,0.03929370696251007,0.04181880077968494,0.04185383041255327,0.041864422796663164,0.041734429840541674,0.04170182533610286,0.04126446727632704,0.04104459655578686,0.04162122302376753,0.041711241210333046,0.041133920222004246,0.04176513674840037,0.04187703422353435,0.04114455055804561,0.04145811700732382,0.04074351629200578,0.04046469483610896,0.039384393103071715,0.04154518253361078,0.04026236170316172,0.041815521732794535,0.04157821589487667,0.041647182144983,0.041612668658384595,0.0416846217255078,0.04173162898798954,0.04144485280722905,0.040871683760217145,0.04188770630670064,0.04167272759014394,0.04103095283637605,0.04193336627561052,0.04179980963311164,0.040809366688527624,0.04156696314715687,0.04170593553029519,0.04175561840395479,0.04089165406662586,0.041204996599507424,0.04180402229751945,0.039778022947256415,0.04175029754314432,0.041872563485991776,0.04150894602931759,0.04136030728920031,0.04180992382288341,0.04129649491140549,0.041944129443412644,0.041479267618805216,0.041711214643980976,0.04189272734725166,0.041884355151140425,0.04155085255219202,0.041792670874777386,0.04145792724766578,0.041731811157261246,0.04139933705565935,0.04187749723709994,0.04173064982815419,0.04176670036798234,0.041372448112119674,0.04171412555713493,0.04186386110807543,0.041903915576687704,0.04170908174542499,0.04157311136007628,0.04112787068410686,0.04150216022394728,0.04172620186177048,0.0415463742242631,0.041668716070973666,0.041894082231209745,0.0417596375135114,0.04178723615817206,0.04158780634799248,0.04165588831809234,0.04196782662950464,0.04166179363864952,0.04149718472571438,0.04162994817284268,0.04117918928601845,0.041902477198480066,0.04196668048117025,0.041892492045275606,0.04162633135376104,0.04199775552276559,0.0418505210041176,0.04183001557547318,0.04155012007991209,0.0410543539974016,0.041685684379592663,0.04195967455459669,0.04185587222647325,0.041860350554402403,0.041593290402108754,0.041540654868170684,0.04181337365346602,0.04162350393485676,0.041722159981054954,0.041444780698558885,0.041248140355352125,0.04198738325985886,0.04164820305194309,0.04173538622921799,0.04163003166709219,0.04194383341834633,0.04186298062326236,0.04149251284293417,0.041772476651972215,0.041892492045275634,0.035501796644442446,0.04184235754362999,0.04161440306165879,0.04177349376373925,0.041992028576286936,0.03769737281548729,0.041839203738113936,0.041591836843128456,0.041403234719034676,0.04171782207527285,0.04119312523530257,0.04187451042008286,0.04176136812159238,0.04192201485286852,0.04142992251733697,0.04170763577683087,0.04136168114912431,0.041475480016031546,0.0417459406613963,0.0418409039846496,0.04175693533598148,0.04171766267716006,0.041895342235338945,0.028982000157880237,0.04184555309627085,0.04137105527622993,0.04194337040478062,0.041543546805358635,0.04188295092967117,0.04123840948008955,0.04158349880375559,0.041830816361230046,0.04194804987794708,0.04192401491966384,0.04190583214923349,0.04194436095019538,0.0419100030665167,0.04179006737226953,0.041582071811127455,0.038603623195006584,0.04142144026062399,0.04195718870307674,0.04188753172781537,0.041855283971533604,0.04185360649615666,0.041509481151553236,0.041737450814297174,0.041813487509260755,0.04198829790141046,0.04041141791452672,0.041820307471369576,0.04184753798229371,0.04187300372839833,0.04199023344992217,0.04173842238374624,0.0419200185812663,0.041877876756416,0.04178525127214929,0.04189078800354689,0.04162839973403335,0.0419194568926785,0.04187463566145704,0.028317446654765082,0.04166879197483681,0.041996662507135456,0.041683190937686396,0.04186189899321185,0.011657493684798544,0.04179571082449858,0.04152953874740462,0.04180397675520143,0.04187343258522533,0.04180376801957771,0.041651649087332404,0.04175287447930001,0.041805286096841685,0.03408829592790988,0.041600136930569735,0.041795760162009706,0.0417796837237834,0.041418855734081855,0.03951819263793288,0.04193856948543299,0.04187997170304033,0.04010645896333582,0.04181606824060978,0.04189733471174798,0.04190010520275488,0.041893835543654515,0.04186343225124844,0.003819899867623668,0.041993478340074115,0.04192440961975249,0.04187099607121651,0.04149757563060969,0.04170278551997238,0.04158799990284357,0.04178080710095864,0.04161017142128515,0.03772935490824785,0.03859896649299903,0.04185743584605525,0.04162274110103149,0.03437895079608009,0.04181015532966612,0.04186185345089377,0.0417793345660126,0.040356106769410656,0.041912196688163296,0.041822979287354387,0.041200525861964835,0.03666109152791471,0.04188446141654868,0.041552252978467985,0.0418735540314066,0.03370259803743007,0.041901562556928534,0.04175954263368228,0.04143891332993348,0.04103770448500808,0.04200889820988375,0.04183125280844349,0.040638214862584156,0.04171790177432921,0.04178435560656354,0.04186976263343953,0.03926265469207364,0.04185796337790458,0.04193267934564848,0.04187794886508596,0.04174337511082024,0.04162819099840959,0.04181871349024222,0.041938983161487496,0.027193207970513004,0.041740498354404756,0.03989081988316921,0.041693487296729975,0.04172717343121962,0.041905395702020204,0.0409756530768396,0.04179018881845059,0.04176614626978096,0.04192752167814389,0.03908275874108937,0.04180926345927356,0.041431448184987354,0.041698481770928726,0.041845302613522324,0.04200162661978898,0.036965606441505955,0.036198537180748745,0.04198980459309509,0.04188703455751134,0.04180706604243375,0.035655498172235386,0.04182033024252842,0.03194157148322237,0.04176034721463236,0.02337078050424457,0.0416418802601382,0.041598041983945316,0.04164849148662325,0.04183082774680951,0.03427247285677882,0.0418976610983597,0.031505063546714486,0.040502893455265865,0.0417482025965198,0.03927443497164274,0.04118567147593583,0.041648024677864555,0.04189917538043072,0.03799969031223868,0.037092555652712925,0.038014165178951446,0.04192305473579429,0.041664120092056715,0.041819685059691414,0.040436944383721835,0.04187289366779674,0.03476029180481207,0.0314855752298371,0.04147928279957794,0.04024908991268077,0.04196187576662951,0.016532969602020886,0.04180856893892532,0.0048088702772616405,0.041745166441991804,0.041795574197544906,0.03361987041692504,0.0417304828396551,0.04192374546094947,0.03775875626965952,0.040790629819895834,0.04103658490302571,0.041841932481996205,0.03804034821656319,0.03636307398501392,0.041315914914806136,0.04172240287341725,0.04181678932731017,0.04163488192395094,0.04152613445913987,0.041797752638418804,0.04201045044388637,0.04162813407051207,0.04163743988414086,0.041830512745777315,0.02907589703185553,0.0417884164632449,0.03803274264947035,0.04159034912740975,0.04200727007201812,0.041878294227663614,0.04193054644709252,0.04148862276994507,0.03849547537071496,0.04197436195212642,0.03600044707375472,0.041799760295600556,0.0057919353663424145,0.0419863281961603,0.04185157986300913,0.03949566437133434,0.03948425222550176,0.041146793517203434,0.04187617271468702,0.04145848514106036,0.04158698658626983,0.03718549234281881,0.04153570973148294,0.041953856523482096,0.029834761085000393,0.04194468733680718,0.04149619038510638,0.04192882722459101,0.041979906729333404,0.04143688290159263,0.041829457682078734,0.002763348453382892,0.04172481282107393,0.03644227966626628,0.04169557465296802,0.03801661687373286,0.040433631180093105,0.03940181683487014,0.04195336694356443,0.04103568923744001,0.021809642978589082,0.04172898753355006,0.04078894854932584,0.04164245712949859,0.04181670583306048,0.041105930672448075,0.041815195346182936,0.041698292011270705,0.04179538443788689,0.04144330436841975],\"type\":\"scatter\",\"xaxis\":\"x2\",\"yaxis\":\"y2\"}],                        {\"template\":{\"data\":{\"histogram2dcontour\":[{\"type\":\"histogram2dcontour\",\"colorbar\":{\"outlinewidth\":0,\"ticks\":\"\"},\"colorscale\":[[0.0,\"#0d0887\"],[0.1111111111111111,\"#46039f\"],[0.2222222222222222,\"#7201a8\"],[0.3333333333333333,\"#9c179e\"],[0.4444444444444444,\"#bd3786\"],[0.5555555555555556,\"#d8576b\"],[0.6666666666666666,\"#ed7953\"],[0.7777777777777778,\"#fb9f3a\"],[0.8888888888888888,\"#fdca26\"],[1.0,\"#f0f921\"]]}],\"choropleth\":[{\"type\":\"choropleth\",\"colorbar\":{\"outlinewidth\":0,\"ticks\":\"\"}}],\"histogram2d\":[{\"type\":\"histogram2d\",\"colorbar\":{\"outlinewidth\":0,\"ticks\":\"\"},\"colorscale\":[[0.0,\"#0d0887\"],[0.1111111111111111,\"#46039f\"],[0.2222222222222222,\"#7201a8\"],[0.3333333333333333,\"#9c179e\"],[0.4444444444444444,\"#bd3786\"],[0.5555555555555556,\"#d8576b\"],[0.6666666666666666,\"#ed7953\"],[0.7777777777777778,\"#fb9f3a\"],[0.8888888888888888,\"#fdca26\"],[1.0,\"#f0f921\"]]}],\"heatmap\":[{\"type\":\"heatmap\",\"colorbar\":{\"outlinewidth\":0,\"ticks\":\"\"},\"colorscale\":[[0.0,\"#0d0887\"],[0.1111111111111111,\"#46039f\"],[0.2222222222222222,\"#7201a8\"],[0.3333333333333333,\"#9c179e\"],[0.4444444444444444,\"#bd3786\"],[0.5555555555555556,\"#d8576b\"],[0.6666666666666666,\"#ed7953\"],[0.7777777777777778,\"#fb9f3a\"],[0.8888888888888888,\"#fdca26\"],[1.0,\"#f0f921\"]]}],\"heatmapgl\":[{\"type\":\"heatmapgl\",\"colorbar\":{\"outlinewidth\":0,\"ticks\":\"\"},\"colorscale\":[[0.0,\"#0d0887\"],[0.1111111111111111,\"#46039f\"],[0.2222222222222222,\"#7201a8\"],[0.3333333333333333,\"#9c179e\"],[0.4444444444444444,\"#bd3786\"],[0.5555555555555556,\"#d8576b\"],[0.6666666666666666,\"#ed7953\"],[0.7777777777777778,\"#fb9f3a\"],[0.8888888888888888,\"#fdca26\"],[1.0,\"#f0f921\"]]}],\"contourcarpet\":[{\"type\":\"contourcarpet\",\"colorbar\":{\"outlinewidth\":0,\"ticks\":\"\"}}],\"contour\":[{\"type\":\"contour\",\"colorbar\":{\"outlinewidth\":0,\"ticks\":\"\"},\"colorscale\":[[0.0,\"#0d0887\"],[0.1111111111111111,\"#46039f\"],[0.2222222222222222,\"#7201a8\"],[0.3333333333333333,\"#9c179e\"],[0.4444444444444444,\"#bd3786\"],[0.5555555555555556,\"#d8576b\"],[0.6666666666666666,\"#ed7953\"],[0.7777777777777778,\"#fb9f3a\"],[0.8888888888888888,\"#fdca26\"],[1.0,\"#f0f921\"]]}],\"surface\":[{\"type\":\"surface\",\"colorbar\":{\"outlinewidth\":0,\"ticks\":\"\"},\"colorscale\":[[0.0,\"#0d0887\"],[0.1111111111111111,\"#46039f\"],[0.2222222222222222,\"#7201a8\"],[0.3333333333333333,\"#9c179e\"],[0.4444444444444444,\"#bd3786\"],[0.5555555555555556,\"#d8576b\"],[0.6666666666666666,\"#ed7953\"],[0.7777777777777778,\"#fb9f3a\"],[0.8888888888888888,\"#fdca26\"],[1.0,\"#f0f921\"]]}],\"mesh3d\":[{\"type\":\"mesh3d\",\"colorbar\":{\"outlinewidth\":0,\"ticks\":\"\"}}],\"scatter\":[{\"fillpattern\":{\"fillmode\":\"overlay\",\"size\":10,\"solidity\":0.2},\"type\":\"scatter\"}],\"parcoords\":[{\"type\":\"parcoords\",\"line\":{\"colorbar\":{\"outlinewidth\":0,\"ticks\":\"\"}}}],\"scatterpolargl\":[{\"type\":\"scatterpolargl\",\"marker\":{\"colorbar\":{\"outlinewidth\":0,\"ticks\":\"\"}}}],\"bar\":[{\"error_x\":{\"color\":\"#2a3f5f\"},\"error_y\":{\"color\":\"#2a3f5f\"},\"marker\":{\"line\":{\"color\":\"#E5ECF6\",\"width\":0.5},\"pattern\":{\"fillmode\":\"overlay\",\"size\":10,\"solidity\":0.2}},\"type\":\"bar\"}],\"scattergeo\":[{\"type\":\"scattergeo\",\"marker\":{\"colorbar\":{\"outlinewidth\":0,\"ticks\":\"\"}}}],\"scatterpolar\":[{\"type\":\"scatterpolar\",\"marker\":{\"colorbar\":{\"outlinewidth\":0,\"ticks\":\"\"}}}],\"histogram\":[{\"marker\":{\"pattern\":{\"fillmode\":\"overlay\",\"size\":10,\"solidity\":0.2}},\"type\":\"histogram\"}],\"scattergl\":[{\"type\":\"scattergl\",\"marker\":{\"colorbar\":{\"outlinewidth\":0,\"ticks\":\"\"}}}],\"scatter3d\":[{\"type\":\"scatter3d\",\"line\":{\"colorbar\":{\"outlinewidth\":0,\"ticks\":\"\"}},\"marker\":{\"colorbar\":{\"outlinewidth\":0,\"ticks\":\"\"}}}],\"scattermapbox\":[{\"type\":\"scattermapbox\",\"marker\":{\"colorbar\":{\"outlinewidth\":0,\"ticks\":\"\"}}}],\"scatterternary\":[{\"type\":\"scatterternary\",\"marker\":{\"colorbar\":{\"outlinewidth\":0,\"ticks\":\"\"}}}],\"scattercarpet\":[{\"type\":\"scattercarpet\",\"marker\":{\"colorbar\":{\"outlinewidth\":0,\"ticks\":\"\"}}}],\"carpet\":[{\"aaxis\":{\"endlinecolor\":\"#2a3f5f\",\"gridcolor\":\"white\",\"linecolor\":\"white\",\"minorgridcolor\":\"white\",\"startlinecolor\":\"#2a3f5f\"},\"baxis\":{\"endlinecolor\":\"#2a3f5f\",\"gridcolor\":\"white\",\"linecolor\":\"white\",\"minorgridcolor\":\"white\",\"startlinecolor\":\"#2a3f5f\"},\"type\":\"carpet\"}],\"table\":[{\"cells\":{\"fill\":{\"color\":\"#EBF0F8\"},\"line\":{\"color\":\"white\"}},\"header\":{\"fill\":{\"color\":\"#C8D4E3\"},\"line\":{\"color\":\"white\"}},\"type\":\"table\"}],\"barpolar\":[{\"marker\":{\"line\":{\"color\":\"#E5ECF6\",\"width\":0.5},\"pattern\":{\"fillmode\":\"overlay\",\"size\":10,\"solidity\":0.2}},\"type\":\"barpolar\"}],\"pie\":[{\"automargin\":true,\"type\":\"pie\"}]},\"layout\":{\"autotypenumbers\":\"strict\",\"colorway\":[\"#636efa\",\"#EF553B\",\"#00cc96\",\"#ab63fa\",\"#FFA15A\",\"#19d3f3\",\"#FF6692\",\"#B6E880\",\"#FF97FF\",\"#FECB52\"],\"font\":{\"color\":\"#2a3f5f\"},\"hovermode\":\"closest\",\"hoverlabel\":{\"align\":\"left\"},\"paper_bgcolor\":\"white\",\"plot_bgcolor\":\"#E5ECF6\",\"polar\":{\"bgcolor\":\"#E5ECF6\",\"angularaxis\":{\"gridcolor\":\"white\",\"linecolor\":\"white\",\"ticks\":\"\"},\"radialaxis\":{\"gridcolor\":\"white\",\"linecolor\":\"white\",\"ticks\":\"\"}},\"ternary\":{\"bgcolor\":\"#E5ECF6\",\"aaxis\":{\"gridcolor\":\"white\",\"linecolor\":\"white\",\"ticks\":\"\"},\"baxis\":{\"gridcolor\":\"white\",\"linecolor\":\"white\",\"ticks\":\"\"},\"caxis\":{\"gridcolor\":\"white\",\"linecolor\":\"white\",\"ticks\":\"\"}},\"coloraxis\":{\"colorbar\":{\"outlinewidth\":0,\"ticks\":\"\"}},\"colorscale\":{\"sequential\":[[0.0,\"#0d0887\"],[0.1111111111111111,\"#46039f\"],[0.2222222222222222,\"#7201a8\"],[0.3333333333333333,\"#9c179e\"],[0.4444444444444444,\"#bd3786\"],[0.5555555555555556,\"#d8576b\"],[0.6666666666666666,\"#ed7953\"],[0.7777777777777778,\"#fb9f3a\"],[0.8888888888888888,\"#fdca26\"],[1.0,\"#f0f921\"]],\"sequentialminus\":[[0.0,\"#0d0887\"],[0.1111111111111111,\"#46039f\"],[0.2222222222222222,\"#7201a8\"],[0.3333333333333333,\"#9c179e\"],[0.4444444444444444,\"#bd3786\"],[0.5555555555555556,\"#d8576b\"],[0.6666666666666666,\"#ed7953\"],[0.7777777777777778,\"#fb9f3a\"],[0.8888888888888888,\"#fdca26\"],[1.0,\"#f0f921\"]],\"diverging\":[[0,\"#8e0152\"],[0.1,\"#c51b7d\"],[0.2,\"#de77ae\"],[0.3,\"#f1b6da\"],[0.4,\"#fde0ef\"],[0.5,\"#f7f7f7\"],[0.6,\"#e6f5d0\"],[0.7,\"#b8e186\"],[0.8,\"#7fbc41\"],[0.9,\"#4d9221\"],[1,\"#276419\"]]},\"xaxis\":{\"gridcolor\":\"white\",\"linecolor\":\"white\",\"ticks\":\"\",\"title\":{\"standoff\":15},\"zerolinecolor\":\"white\",\"automargin\":true,\"zerolinewidth\":2},\"yaxis\":{\"gridcolor\":\"white\",\"linecolor\":\"white\",\"ticks\":\"\",\"title\":{\"standoff\":15},\"zerolinecolor\":\"white\",\"automargin\":true,\"zerolinewidth\":2},\"scene\":{\"xaxis\":{\"backgroundcolor\":\"#E5ECF6\",\"gridcolor\":\"white\",\"linecolor\":\"white\",\"showbackground\":true,\"ticks\":\"\",\"zerolinecolor\":\"white\",\"gridwidth\":2},\"yaxis\":{\"backgroundcolor\":\"#E5ECF6\",\"gridcolor\":\"white\",\"linecolor\":\"white\",\"showbackground\":true,\"ticks\":\"\",\"zerolinecolor\":\"white\",\"gridwidth\":2},\"zaxis\":{\"backgroundcolor\":\"#E5ECF6\",\"gridcolor\":\"white\",\"linecolor\":\"white\",\"showbackground\":true,\"ticks\":\"\",\"zerolinecolor\":\"white\",\"gridwidth\":2}},\"shapedefaults\":{\"line\":{\"color\":\"#2a3f5f\"}},\"annotationdefaults\":{\"arrowcolor\":\"#2a3f5f\",\"arrowhead\":0,\"arrowwidth\":1},\"geo\":{\"bgcolor\":\"white\",\"landcolor\":\"#E5ECF6\",\"subunitcolor\":\"white\",\"showland\":true,\"showlakes\":true,\"lakecolor\":\"white\"},\"title\":{\"x\":0.05},\"mapbox\":{\"style\":\"light\"}}},\"xaxis\":{\"anchor\":\"y\",\"domain\":[0.0,0.45],\"title\":{\"text\":\"hybrid_lambda\"}},\"yaxis\":{\"anchor\":\"x\",\"domain\":[0.0,1.0],\"title\":{\"text\":\"Objective Value\"}},\"xaxis2\":{\"anchor\":\"y2\",\"domain\":[0.55,1.0],\"title\":{\"text\":\"topK\"},\"type\":\"log\"},\"yaxis2\":{\"anchor\":\"x2\",\"domain\":[0.0,1.0],\"matches\":\"y\",\"showticklabels\":false},\"title\":{\"text\":\"Slice Plot\"}},                        {\"responsive\": true}                    ).then(function(){\n",
       "                            \n",
       "var gd = document.getElementById('f34de01c-e994-4262-a099-d1a6992c1d32');\n",
       "var x = new MutationObserver(function (mutations, observer) {{\n",
       "        var display = window.getComputedStyle(gd).display;\n",
       "        if (!display || display === 'none') {{\n",
       "            console.log([gd, 'removed!']);\n",
       "            Plotly.purge(gd);\n",
       "            observer.disconnect();\n",
       "        }}\n",
       "}});\n",
       "\n",
       "// Listen for the removal of the full notebook cells\n",
       "var notebookContainer = gd.closest('#notebook-container');\n",
       "if (notebookContainer) {{\n",
       "    x.observe(notebookContainer, {childList: true});\n",
       "}}\n",
       "\n",
       "// Listen for the clearing of the current output cell\n",
       "var outputEl = gd.closest('.output');\n",
       "if (outputEl) {{\n",
       "    x.observe(outputEl, {childList: true});\n",
       "}}\n",
       "\n",
       "                        })                };                });            </script>        </div>"
      ]
     },
     "metadata": {},
     "output_type": "display_data"
    }
   ],
   "source": [
    "if config['tune_parameters']:\n",
    "    fig = optuna.visualization.plot_slice(study)\n",
    "    fig.show()"
   ]
  },
  {
   "cell_type": "code",
   "execution_count": 21,
   "id": "68f7610d",
   "metadata": {
    "execution": {
     "iopub.execute_input": "2023-12-24T20:08:39.067306Z",
     "iopub.status.busy": "2023-12-24T20:08:39.066911Z",
     "iopub.status.idle": "2023-12-24T20:08:40.233040Z",
     "shell.execute_reply": "2023-12-24T20:08:40.231837Z"
    },
    "papermill": {
     "duration": 1.284387,
     "end_time": "2023-12-24T20:08:40.235948",
     "exception": false,
     "start_time": "2023-12-24T20:08:38.951561",
     "status": "completed"
    },
    "tags": []
   },
   "outputs": [],
   "source": [
    "if config['tune_parameters']:\n",
    "    with open('/kaggle/working/best_params_hhp.json', 'w') as params_file:\n",
    "        params = study.best_params\n",
    "        json.dump(params, params_file)\n",
    "        \n",
    "    if config['save_github']: \n",
    "        upload_file(\n",
    "            '/kaggle/working/best_params_hhp.json', \n",
    "            'tuning_results/best_params_hhp.json', \n",
    "            'HHP tuning results (from kaggle notebook)'\n",
    "        )\n",
    "elif config['copy_prev_best_params']:\n",
    "    shutil.copyfile(\n",
    "        '/kaggle/working/Recsys_Challenge_2023/best_params_hhp.json',\n",
    "        '/kaggle/working/best_params_hhp.json'\n",
    "    )"
   ]
  },
  {
   "cell_type": "code",
   "execution_count": 22,
   "id": "877fb13c",
   "metadata": {
    "execution": {
     "iopub.execute_input": "2023-12-24T20:08:40.469209Z",
     "iopub.status.busy": "2023-12-24T20:08:40.468272Z",
     "iopub.status.idle": "2023-12-24T20:08:42.124192Z",
     "shell.execute_reply": "2023-12-24T20:08:42.123244Z"
    },
    "papermill": {
     "duration": 1.775136,
     "end_time": "2023-12-24T20:08:42.126872",
     "exception": false,
     "start_time": "2023-12-24T20:08:40.351736",
     "status": "completed"
    },
    "tags": []
   },
   "outputs": [],
   "source": [
    "if config['save_github'] and config['tune_parameters']:\n",
    "    upload_file(\n",
    "        config['database_path'], \n",
    "        'tuning_results/tuning_hhp.db',\n",
    "        'HHP tuning db updated results (from kaggle notebook)'\n",
    "    )"
   ]
  }
 ],
 "metadata": {
  "kaggle": {
   "accelerator": "none",
   "dataSources": [
    {
     "databundleVersionId": 6919098,
     "sourceId": 62803,
     "sourceType": "competition"
    }
   ],
   "dockerImageVersionId": 30587,
   "isGpuEnabled": false,
   "isInternetEnabled": true,
   "language": "python",
   "sourceType": "notebook"
  },
  "kernelspec": {
   "display_name": "Python 3",
   "language": "python",
   "name": "python3"
  },
  "language_info": {
   "codemirror_mode": {
    "name": "ipython",
    "version": 3
   },
   "file_extension": ".py",
   "mimetype": "text/x-python",
   "name": "python",
   "nbconvert_exporter": "python",
   "pygments_lexer": "ipython3",
   "version": "3.10.12"
  },
  "papermill": {
   "default_parameters": {},
   "duration": 5366.414782,
   "end_time": "2023-12-24T20:08:44.893709",
   "environment_variables": {},
   "exception": null,
   "input_path": "__notebook__.ipynb",
   "output_path": "__notebook__.ipynb",
   "parameters": {},
   "start_time": "2023-12-24T18:39:18.478927",
   "version": "2.4.0"
  }
 },
 "nbformat": 4,
 "nbformat_minor": 5
}
