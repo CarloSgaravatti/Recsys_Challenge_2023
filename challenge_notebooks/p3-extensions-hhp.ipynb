{
 "cells": [
  {
   "cell_type": "code",
   "execution_count": 1,
   "id": "6d856928",
   "metadata": {
    "execution": {
     "iopub.execute_input": "2023-12-24T17:09:22.324452Z",
     "iopub.status.busy": "2023-12-24T17:09:22.323903Z",
     "iopub.status.idle": "2023-12-24T17:10:47.023467Z",
     "shell.execute_reply": "2023-12-24T17:10:47.022155Z"
    },
    "papermill": {
     "duration": 84.714486,
     "end_time": "2023-12-24T17:10:47.026535",
     "exception": false,
     "start_time": "2023-12-24T17:09:22.312049",
     "status": "completed"
    },
    "tags": []
   },
   "outputs": [
    {
     "name": "stdout",
     "output_type": "stream",
     "text": [
      "Cloning into 'Recsys_Challenge_2023'...\r\n",
      "remote: Enumerating objects: 5845, done.\u001b[K\r\n",
      "remote: Counting objects: 100% (1034/1034), done.\u001b[K\r\n",
      "remote: Compressing objects: 100% (325/325), done.\u001b[K\r\n",
      "remote: Total 5845 (delta 868), reused 828 (delta 703), pack-reused 4811\u001b[K\r\n",
      "Receiving objects: 100% (5845/5845), 2.94 GiB | 49.18 MiB/s, done.\r\n",
      "Resolving deltas: 100% (4694/4694), done.\r\n",
      "Updating files: 100% (496/496), done.\r\n"
     ]
    }
   ],
   "source": [
    "from kaggle_secrets import UserSecretsClient\n",
    "secret_label = \"Token\"\n",
    "token = UserSecretsClient().get_secret(secret_label)\n",
    "\n",
    "! git clone https://{token}@github.com/CarloSgaravatti/Recsys_Challenge_2023.git"
   ]
  },
  {
   "cell_type": "code",
   "execution_count": 2,
   "id": "6a7a536b",
   "metadata": {
    "execution": {
     "iopub.execute_input": "2023-12-24T17:10:47.084002Z",
     "iopub.status.busy": "2023-12-24T17:10:47.083584Z",
     "iopub.status.idle": "2023-12-24T17:11:04.620943Z",
     "shell.execute_reply": "2023-12-24T17:11:04.619663Z"
    },
    "papermill": {
     "duration": 17.570263,
     "end_time": "2023-12-24T17:11:04.623713",
     "exception": false,
     "start_time": "2023-12-24T17:10:47.053450",
     "status": "completed"
    },
    "tags": []
   },
   "outputs": [
    {
     "name": "stdout",
     "output_type": "stream",
     "text": [
      "Collecting PyGithub\r\n",
      "  Obtaining dependency information for PyGithub from https://files.pythonhosted.org/packages/be/04/810d131be173cba445d3658a45512b2b2b3d0960d52c4a300d6ec5e00f52/PyGithub-2.1.1-py3-none-any.whl.metadata\r\n",
      "  Downloading PyGithub-2.1.1-py3-none-any.whl.metadata (2.2 kB)\r\n",
      "Requirement already satisfied: requests in /opt/conda/lib/python3.10/site-packages (2.31.0)\r\n",
      "Collecting pynacl>=1.4.0 (from PyGithub)\r\n",
      "  Downloading PyNaCl-1.5.0-cp36-abi3-manylinux_2_17_x86_64.manylinux2014_x86_64.manylinux_2_24_x86_64.whl (856 kB)\r\n",
      "\u001b[2K     \u001b[90m━━━━━━━━━━━━━━━━━━━━━━━━━━━━━━━━━━━━━━\u001b[0m \u001b[32m856.7/856.7 kB\u001b[0m \u001b[31m11.6 MB/s\u001b[0m eta \u001b[36m0:00:00\u001b[0m\r\n",
      "\u001b[?25hRequirement already satisfied: python-dateutil in /opt/conda/lib/python3.10/site-packages (from PyGithub) (2.8.2)\r\n",
      "Requirement already satisfied: pyjwt[crypto]>=2.4.0 in /opt/conda/lib/python3.10/site-packages (from PyGithub) (2.8.0)\r\n",
      "Requirement already satisfied: typing-extensions>=4.0.0 in /opt/conda/lib/python3.10/site-packages (from PyGithub) (4.5.0)\r\n",
      "Requirement already satisfied: urllib3>=1.26.0 in /opt/conda/lib/python3.10/site-packages (from PyGithub) (1.26.15)\r\n",
      "Requirement already satisfied: Deprecated in /opt/conda/lib/python3.10/site-packages (from PyGithub) (1.2.14)\r\n",
      "Requirement already satisfied: charset-normalizer<4,>=2 in /opt/conda/lib/python3.10/site-packages (from requests) (3.2.0)\r\n",
      "Requirement already satisfied: idna<4,>=2.5 in /opt/conda/lib/python3.10/site-packages (from requests) (3.4)\r\n",
      "Requirement already satisfied: certifi>=2017.4.17 in /opt/conda/lib/python3.10/site-packages (from requests) (2023.7.22)\r\n",
      "Requirement already satisfied: cryptography>=3.4.0 in /opt/conda/lib/python3.10/site-packages (from pyjwt[crypto]>=2.4.0->PyGithub) (41.0.3)\r\n",
      "Requirement already satisfied: cffi>=1.4.1 in /opt/conda/lib/python3.10/site-packages (from pynacl>=1.4.0->PyGithub) (1.15.1)\r\n",
      "Requirement already satisfied: wrapt<2,>=1.10 in /opt/conda/lib/python3.10/site-packages (from Deprecated->PyGithub) (1.15.0)\r\n",
      "Requirement already satisfied: six>=1.5 in /opt/conda/lib/python3.10/site-packages (from python-dateutil->PyGithub) (1.16.0)\r\n",
      "Requirement already satisfied: pycparser in /opt/conda/lib/python3.10/site-packages (from cffi>=1.4.1->pynacl>=1.4.0->PyGithub) (2.21)\r\n",
      "Downloading PyGithub-2.1.1-py3-none-any.whl (302 kB)\r\n",
      "\u001b[2K   \u001b[90m━━━━━━━━━━━━━━━━━━━━━━━━━━━━━━━━━━━━━━━━\u001b[0m \u001b[32m302.9/302.9 kB\u001b[0m \u001b[31m22.7 MB/s\u001b[0m eta \u001b[36m0:00:00\u001b[0m\r\n",
      "\u001b[?25hInstalling collected packages: pynacl, PyGithub\r\n",
      "Successfully installed PyGithub-2.1.1 pynacl-1.5.0\r\n"
     ]
    }
   ],
   "source": [
    "! pip install PyGithub requests"
   ]
  },
  {
   "cell_type": "code",
   "execution_count": 3,
   "id": "c5d6c34d",
   "metadata": {
    "_kg_hide-output": true,
    "execution": {
     "iopub.execute_input": "2023-12-24T17:11:04.680018Z",
     "iopub.status.busy": "2023-12-24T17:11:04.679600Z",
     "iopub.status.idle": "2023-12-24T17:11:04.684992Z",
     "shell.execute_reply": "2023-12-24T17:11:04.683922Z"
    },
    "papermill": {
     "duration": 0.037011,
     "end_time": "2023-12-24T17:11:04.687757",
     "exception": false,
     "start_time": "2023-12-24T17:11:04.650746",
     "status": "completed"
    },
    "scrolled": true,
    "tags": []
   },
   "outputs": [],
   "source": [
    "# ! cd /kaggle/working/Recsys_Challenge_2023 && python run_compile_all_cython.py"
   ]
  },
  {
   "cell_type": "code",
   "execution_count": 4,
   "id": "5cbe4fd9",
   "metadata": {
    "execution": {
     "iopub.execute_input": "2023-12-24T17:11:04.744488Z",
     "iopub.status.busy": "2023-12-24T17:11:04.743856Z",
     "iopub.status.idle": "2023-12-24T17:11:08.841133Z",
     "shell.execute_reply": "2023-12-24T17:11:08.839873Z"
    },
    "papermill": {
     "duration": 4.128776,
     "end_time": "2023-12-24T17:11:08.844145",
     "exception": false,
     "start_time": "2023-12-24T17:11:04.715369",
     "status": "completed"
    },
    "tags": []
   },
   "outputs": [
    {
     "name": "stdout",
     "output_type": "stream",
     "text": [
      "/kaggle/input/recommender-system-2023-challenge-polimi/data_train.csv\n",
      "/kaggle/input/recommender-system-2023-challenge-polimi/data_target_users_test.csv\n"
     ]
    }
   ],
   "source": [
    "import numpy as np\n",
    "import pandas as pd\n",
    "import matplotlib.pyplot as plt\n",
    "import seaborn as sns\n",
    "import joblib\n",
    "import json\n",
    "import random\n",
    "import tqdm\n",
    "import gc\n",
    "import time\n",
    "import os\n",
    "import shutil\n",
    "import optuna\n",
    "import scipy.sparse as sps\n",
    "\n",
    "for dirname, _, filenames in os.walk('/kaggle/input'):\n",
    "    for filename in filenames:\n",
    "        print(os.path.join(dirname, filename))"
   ]
  },
  {
   "cell_type": "code",
   "execution_count": 5,
   "id": "782b813d",
   "metadata": {
    "execution": {
     "iopub.execute_input": "2023-12-24T17:11:08.902073Z",
     "iopub.status.busy": "2023-12-24T17:11:08.900630Z",
     "iopub.status.idle": "2023-12-24T17:11:08.908893Z",
     "shell.execute_reply": "2023-12-24T17:11:08.907551Z"
    },
    "papermill": {
     "duration": 0.03971,
     "end_time": "2023-12-24T17:11:08.911422",
     "exception": false,
     "start_time": "2023-12-24T17:11:08.871712",
     "status": "completed"
    },
    "tags": []
   },
   "outputs": [
    {
     "name": "stdout",
     "output_type": "stream",
     "text": [
      "/kaggle/working/Recsys_Challenge_2023\n"
     ]
    }
   ],
   "source": [
    "%cd /kaggle/working/Recsys_Challenge_2023"
   ]
  },
  {
   "cell_type": "code",
   "execution_count": 6,
   "id": "14596d28",
   "metadata": {
    "execution": {
     "iopub.execute_input": "2023-12-24T17:11:08.970143Z",
     "iopub.status.busy": "2023-12-24T17:11:08.969315Z",
     "iopub.status.idle": "2023-12-24T17:11:28.118291Z",
     "shell.execute_reply": "2023-12-24T17:11:28.116999Z"
    },
    "papermill": {
     "duration": 19.181529,
     "end_time": "2023-12-24T17:11:28.121083",
     "exception": false,
     "start_time": "2023-12-24T17:11:08.939554",
     "status": "completed"
    },
    "tags": []
   },
   "outputs": [],
   "source": [
    "from Recommenders.KNN.UserKNNCFRecommender import UserKNNCFRecommender\n",
    "from Data_manager.split_functions.split_train_validation_random_holdout import split_train_in_two_percentage_global_sample\n",
    "from Recommenders.SLIM.SLIMElasticNetRecommender import MultiThreadSLIM_SLIMElasticNetRecommender\n",
    "from Evaluation.Evaluator import EvaluatorHoldout\n",
    "from Recommenders.MatrixFactorization.IALSRecommender import IALSRecommender\n",
    "from Recommenders.MatrixFactorization.PureSVDRecommender import PureSVDRecommender\n",
    "from Recommenders.Neural.MultVAERecommender import MultVAERecommender\n",
    "from Recommenders.KNN.ItemKNNCFRecommender import ItemKNNCFRecommender\n",
    "from Recommenders.KNN.UserKNNCFRecommender import UserKNNCFRecommender\n",
    "from Recommenders.MatrixFactorization.Cython.MatrixFactorization_Cython import MatrixFactorization_BPR_Cython, MatrixFactorization_SVDpp_Cython, MatrixFactorization_AsySVD_Cython, MatrixFactorization_WARP_Cython\n",
    "from Recommenders.MatrixFactorization.PyTorch.MF_MSE_PyTorch import MF_MSE_PyTorch\n",
    "from Recommenders.BaseMatrixFactorizationRecommender import BaseMatrixFactorizationRecommender\n",
    "from Recommenders.Incremental_Training_Early_Stopping import Incremental_Training_Early_Stopping\n",
    "\n",
    "np.int = int\n",
    "np.random.seed(42)\n",
    "np.bool = bool\n",
    "np.float = float"
   ]
  },
  {
   "cell_type": "code",
   "execution_count": 7,
   "id": "55b04f73",
   "metadata": {
    "execution": {
     "iopub.execute_input": "2023-12-24T17:11:28.178428Z",
     "iopub.status.busy": "2023-12-24T17:11:28.176969Z",
     "iopub.status.idle": "2023-12-24T17:11:28.671209Z",
     "shell.execute_reply": "2023-12-24T17:11:28.670017Z"
    },
    "papermill": {
     "duration": 0.525528,
     "end_time": "2023-12-24T17:11:28.673991",
     "exception": false,
     "start_time": "2023-12-24T17:11:28.148463",
     "status": "completed"
    },
    "tags": []
   },
   "outputs": [
    {
     "name": "stdout",
     "output_type": "stream",
     "text": [
      "Repository found\n"
     ]
    }
   ],
   "source": [
    "from github import Github\n",
    "from github import Auth\n",
    "\n",
    "auth = Auth.Token(token)\n",
    "g = Github(auth=auth)\n",
    "\n",
    "repo = None\n",
    "for r in g.get_user().get_repos():\n",
    "    if r.name == 'Recsys_Challenge_2023':\n",
    "        repo = r\n",
    "        print('Repository found')"
   ]
  },
  {
   "cell_type": "code",
   "execution_count": 8,
   "id": "190c4453",
   "metadata": {
    "execution": {
     "iopub.execute_input": "2023-12-24T17:11:28.731986Z",
     "iopub.status.busy": "2023-12-24T17:11:28.731574Z",
     "iopub.status.idle": "2023-12-24T17:11:28.738951Z",
     "shell.execute_reply": "2023-12-24T17:11:28.737646Z"
    },
    "papermill": {
     "duration": 0.039683,
     "end_time": "2023-12-24T17:11:28.741620",
     "exception": false,
     "start_time": "2023-12-24T17:11:28.701937",
     "status": "completed"
    },
    "tags": []
   },
   "outputs": [],
   "source": [
    "def upload_file(filepath_kaggle, filepath_github, commit_message):\n",
    "    try:\n",
    "        contents = repo.get_contents(filepath_github)\n",
    "        with open(filepath_kaggle, \"rb\") as file:\n",
    "            repo.update_file(contents.path, commit_message, file.read(), contents.sha)\n",
    "    except Exception:\n",
    "        with open(filepath_kaggle, \"rb\") as file:\n",
    "            repo.create_file(filepath_github, commit_message, file.read())"
   ]
  },
  {
   "cell_type": "code",
   "execution_count": 9,
   "id": "78c0c4aa",
   "metadata": {
    "execution": {
     "iopub.execute_input": "2023-12-24T17:11:28.798867Z",
     "iopub.status.busy": "2023-12-24T17:11:28.797570Z",
     "iopub.status.idle": "2023-12-24T17:11:28.803486Z",
     "shell.execute_reply": "2023-12-24T17:11:28.802335Z"
    },
    "papermill": {
     "duration": 0.036945,
     "end_time": "2023-12-24T17:11:28.805857",
     "exception": false,
     "start_time": "2023-12-24T17:11:28.768912",
     "status": "completed"
    },
    "tags": []
   },
   "outputs": [],
   "source": [
    "config = {\n",
    "    'tune_parameters': True,\n",
    "    'database_path': '/kaggle/working/tuning_hhp.db',\n",
    "    'copy_prev_best_params': False,\n",
    "    'save_github': True\n",
    "}"
   ]
  },
  {
   "cell_type": "code",
   "execution_count": 10,
   "id": "87e5469b",
   "metadata": {
    "execution": {
     "iopub.execute_input": "2023-12-24T17:11:28.862213Z",
     "iopub.status.busy": "2023-12-24T17:11:28.861743Z",
     "iopub.status.idle": "2023-12-24T17:11:28.868051Z",
     "shell.execute_reply": "2023-12-24T17:11:28.866910Z"
    },
    "papermill": {
     "duration": 0.036949,
     "end_time": "2023-12-24T17:11:28.870447",
     "exception": false,
     "start_time": "2023-12-24T17:11:28.833498",
     "status": "completed"
    },
    "tags": []
   },
   "outputs": [],
   "source": [
    "try:\n",
    "    shutil.copyfile(\n",
    "        '/kaggle/working/Recsys_Challenge_2023/tuning_results/tuning_hhp.db', \n",
    "        config['database_path']\n",
    "    )\n",
    "except FileNotFoundError:\n",
    "    pass # if not present optuna will create it"
   ]
  },
  {
   "cell_type": "code",
   "execution_count": 11,
   "id": "c6b03a1b",
   "metadata": {
    "execution": {
     "iopub.execute_input": "2023-12-24T17:11:28.932798Z",
     "iopub.status.busy": "2023-12-24T17:11:28.932355Z",
     "iopub.status.idle": "2023-12-24T17:11:29.221875Z",
     "shell.execute_reply": "2023-12-24T17:11:29.220970Z"
    },
    "papermill": {
     "duration": 0.327061,
     "end_time": "2023-12-24T17:11:29.224537",
     "exception": false,
     "start_time": "2023-12-24T17:11:28.897476",
     "status": "completed"
    },
    "tags": []
   },
   "outputs": [],
   "source": [
    "train_data = pd.read_csv('/kaggle/input/recommender-system-2023-challenge-polimi/data_train.csv')\n",
    "user_ids_test = pd.read_csv('/kaggle/input/recommender-system-2023-challenge-polimi/data_target_users_test.csv')"
   ]
  },
  {
   "cell_type": "code",
   "execution_count": 12,
   "id": "31ea3587",
   "metadata": {
    "execution": {
     "iopub.execute_input": "2023-12-24T17:11:29.348723Z",
     "iopub.status.busy": "2023-12-24T17:11:29.348282Z",
     "iopub.status.idle": "2023-12-24T17:11:29.386533Z",
     "shell.execute_reply": "2023-12-24T17:11:29.385666Z"
    },
    "papermill": {
     "duration": 0.136699,
     "end_time": "2023-12-24T17:11:29.388803",
     "exception": false,
     "start_time": "2023-12-24T17:11:29.252104",
     "status": "completed"
    },
    "tags": []
   },
   "outputs": [
    {
     "data": {
      "text/plain": [
       "<13024x22347 sparse matrix of type '<class 'numpy.float64'>'\n",
       "\twith 478730 stored elements in Compressed Sparse Row format>"
      ]
     },
     "execution_count": 12,
     "metadata": {},
     "output_type": "execute_result"
    }
   ],
   "source": [
    "URM_all = sps.csr_matrix((train_data.data.values,\n",
    "                          ((train_data.row - 1).values, (train_data.col - 1).values)),\n",
    "                        shape=(train_data.row.max(), train_data.col.max()))\n",
    "URM_all"
   ]
  },
  {
   "cell_type": "code",
   "execution_count": 13,
   "id": "1526bb3f",
   "metadata": {
    "execution": {
     "iopub.execute_input": "2023-12-24T17:11:29.448525Z",
     "iopub.status.busy": "2023-12-24T17:11:29.447186Z",
     "iopub.status.idle": "2023-12-24T17:11:31.100241Z",
     "shell.execute_reply": "2023-12-24T17:11:31.099291Z"
    },
    "papermill": {
     "duration": 1.686028,
     "end_time": "2023-12-24T17:11:31.102697",
     "exception": false,
     "start_time": "2023-12-24T17:11:29.416669",
     "status": "completed"
    },
    "tags": []
   },
   "outputs": [
    {
     "name": "stdout",
     "output_type": "stream",
     "text": [
      "Warning: 627 (4.81 %) of 13024 users have no train items\n",
      "Warning: 2568 (19.72 %) of 13024 users have no sampled items\n",
      "Warning: 2953 (22.67 %) of 13024 users have no train items\n",
      "Warning: 6367 (48.89 %) of 13024 users have no sampled items\n"
     ]
    }
   ],
   "source": [
    "URM_train, URM_test_complete = split_train_in_two_percentage_global_sample(URM_all, train_percentage = 0.8)\n",
    "URM_validation, URM_test = split_train_in_two_percentage_global_sample(URM_test_complete, train_percentage = 0.8)"
   ]
  },
  {
   "cell_type": "markdown",
   "id": "dfd46f2a",
   "metadata": {
    "papermill": {
     "duration": 0.027374,
     "end_time": "2023-12-24T17:11:31.159504",
     "exception": false,
     "start_time": "2023-12-24T17:11:31.132130",
     "status": "completed"
    },
    "tags": []
   },
   "source": [
    "Original Paper for HHP: https://arxiv.org/pdf/0808.2670.pdf\n",
    "\n",
    "https://arxiv.org/pdf/2004.10393.pdf"
   ]
  },
  {
   "cell_type": "code",
   "execution_count": 14,
   "id": "1308a9db",
   "metadata": {
    "execution": {
     "iopub.execute_input": "2023-12-24T17:11:31.218919Z",
     "iopub.status.busy": "2023-12-24T17:11:31.218117Z",
     "iopub.status.idle": "2023-12-24T17:11:31.244967Z",
     "shell.execute_reply": "2023-12-24T17:11:31.243659Z"
    },
    "papermill": {
     "duration": 0.060367,
     "end_time": "2023-12-24T17:11:31.247654",
     "exception": false,
     "start_time": "2023-12-24T17:11:31.187287",
     "status": "completed"
    },
    "tags": []
   },
   "outputs": [],
   "source": [
    "import numpy as np\n",
    "import scipy.sparse as sps\n",
    "\n",
    "from sklearn.preprocessing import normalize\n",
    "from Recommenders.Recommender_utils import check_matrix, similarityMatrixTopK\n",
    "from Utils.seconds_to_biggest_unit import seconds_to_biggest_unit\n",
    "\n",
    "from Recommenders.BaseSimilarityMatrixRecommender import BaseItemSimilarityMatrixRecommender\n",
    "from Recommenders.Similarity.Compute_Similarity_Python import Incremental_Similarity_Builder\n",
    "import time, sys\n",
    "\n",
    "\n",
    "class HHPRecommender(BaseItemSimilarityMatrixRecommender):\n",
    "    '''\n",
    "    HHP (Hybrid HeatS - ProbS) is an hybrid of ProbS (also called P3) and HeatS that uses lambda\n",
    "    to weight the two contributions. While ProbS implements a random walk with 3 steps, HeatS uses the\n",
    "    out degree of the neighboring objects.\n",
    "    \n",
    "    Original Paper: https://arxiv.org/pdf/0808.2670.pdf\n",
    "    '''\n",
    "    \n",
    "    RECOMMENDER_NAME = \"HHPRecommender\"\n",
    "    \n",
    "    def __init__(self, URM_train):\n",
    "        super(HHPRecommender, self).__init__(URM_train)\n",
    "        \n",
    "    def fit(self, hybrid_lambda=0.5, topK=100, min_rating=0, implicit=False, normalize_similarity=True):\n",
    "        \n",
    "        self.hybrid_lambda = hybrid_lambda\n",
    "        self.topK = topK\n",
    "        self.min_rating = min_rating\n",
    "        self.implicit = implicit\n",
    "        self.normalize_similarity = normalize_similarity\n",
    "\n",
    "        if self.min_rating > 0:\n",
    "            self.URM_train.data[self.URM_train.data < self.min_rating] = 0\n",
    "            self.URM_train.eliminate_zeros()\n",
    "            if self.implicit:\n",
    "                self.URM_train.data = np.ones(self.URM_train.data.size, dtype=np.float32)\n",
    "                \n",
    "        k_u = np.ediff1d(sps.csr_matrix(self.URM_train).indptr) # user out degree\n",
    "        k_i = np.ediff1d(sps.csc_matrix(self.URM_train).indptr) # item out degree\n",
    "        heatS_contribution = (1 / (np.float_power(k_i, 1 - self.hybrid_lambda) + 1e-6)).reshape(1, -1)\n",
    "        \n",
    "        Pui = normalize(self.URM_train, norm='l1', axis=1)\n",
    "        \n",
    "        X_bool = self.URM_train.transpose(copy=True)\n",
    "        X_bool.data = np.ones(X_bool.data.size, np.float32)\n",
    "        Piu_lambda = X_bool.multiply((1 / (np.float_power(k_i, self.hybrid_lambda) + 1e-6)).reshape(-1, 1))\n",
    "        Piu_lambda = Piu_lambda.tocsr()\n",
    "\n",
    "        # Multiplication unpacked for memory usage reasons\n",
    "        block_dim = 200\n",
    "        d_t = Piu_lambda\n",
    "\n",
    "        similarity_builder = Incremental_Similarity_Builder(Pui.shape[1], initial_data_block=Pui.shape[1]*self.topK, dtype = np.float32)\n",
    "\n",
    "        start_time = time.time()\n",
    "        start_time_printBatch = start_time\n",
    "\n",
    "        for current_block_start_row in range(0, Pui.shape[1], block_dim):\n",
    "\n",
    "            if current_block_start_row + block_dim > Pui.shape[1]:\n",
    "                block_dim = Pui.shape[1] - current_block_start_row\n",
    "\n",
    "            similarity_block = d_t[current_block_start_row:current_block_start_row + block_dim, :] * Pui\n",
    "            similarity_block = similarity_block.multiply(heatS_contribution).toarray()\n",
    "\n",
    "            for row_in_block in range(block_dim):\n",
    "                row_data = similarity_block[row_in_block, :]\n",
    "                row_data[current_block_start_row + row_in_block] = 0\n",
    "\n",
    "                relevant_items_partition = np.argpartition(-row_data, self.topK-1, axis=0)[:self.topK]\n",
    "                row_data = row_data[relevant_items_partition]\n",
    "\n",
    "                # Incrementally build sparse matrix, do not add zeros\n",
    "                if np.any(row_data == 0.0):\n",
    "                    non_zero_mask = row_data != 0.0\n",
    "                    relevant_items_partition = relevant_items_partition[non_zero_mask]\n",
    "                    row_data = row_data[non_zero_mask]\n",
    "\n",
    "                similarity_builder.add_data_lists(row_list_to_add=np.ones(len(row_data), dtype = np.int) * (current_block_start_row + row_in_block),\n",
    "                                                  col_list_to_add=relevant_items_partition,\n",
    "                                                  data_list_to_add=row_data)\n",
    "\n",
    "\n",
    "            if time.time() - start_time_printBatch > 300 or current_block_start_row + block_dim == Pui.shape[1]:\n",
    "                new_time_value, new_time_unit = seconds_to_biggest_unit(time.time() - start_time)\n",
    "\n",
    "                self._print(\"Similarity column {} ({:4.1f}%), {:.2f} column/sec. Elapsed time {:.2f} {}\".format(\n",
    "                     current_block_start_row + block_dim,\n",
    "                    100.0 * float( current_block_start_row + block_dim) / Pui.shape[1],\n",
    "                    float( current_block_start_row + block_dim) / (time.time() - start_time),\n",
    "                    new_time_value, new_time_unit))\n",
    "\n",
    "                sys.stdout.flush()\n",
    "                sys.stderr.flush()\n",
    "\n",
    "                start_time_printBatch = time.time()\n",
    "\n",
    "        self.W_sparse = similarity_builder.get_SparseMatrix()\n",
    "\n",
    "        if self.normalize_similarity:\n",
    "            self.W_sparse = normalize(self.W_sparse, norm='l1', axis=1)\n",
    "\n",
    "        if self.topK != False:\n",
    "            self.W_sparse = similarityMatrixTopK(self.W_sparse, k=self.topK)\n",
    "\n",
    "        self.W_sparse = check_matrix(self.W_sparse, format='csr')"
   ]
  },
  {
   "cell_type": "code",
   "execution_count": 15,
   "id": "b3ea8389",
   "metadata": {
    "execution": {
     "iopub.execute_input": "2023-12-24T17:11:31.305834Z",
     "iopub.status.busy": "2023-12-24T17:11:31.305394Z",
     "iopub.status.idle": "2023-12-24T17:12:04.191325Z",
     "shell.execute_reply": "2023-12-24T17:12:04.190151Z"
    },
    "papermill": {
     "duration": 32.918399,
     "end_time": "2023-12-24T17:12:04.193944",
     "exception": false,
     "start_time": "2023-12-24T17:11:31.275545",
     "status": "completed"
    },
    "tags": []
   },
   "outputs": [
    {
     "name": "stdout",
     "output_type": "stream",
     "text": [
      "EvaluatorHoldout: Ignoring 2568 (19.7%) Users that have less than 1 test interactions\n",
      "HHPRecommender: URM Detected 627 ( 4.8%) users with no interactions.\n",
      "HHPRecommender: URM Detected 247 ( 1.1%) items with no interactions.\n",
      "HHPRecommender: Similarity column 22347 (100.0%), 1281.55 column/sec. Elapsed time 17.44 sec\n",
      "EvaluatorHoldout: Processed 10456 (100.0%) in 10.28 sec. Users per second: 1017\n"
     ]
    },
    {
     "data": {
      "text/html": [
       "<div>\n",
       "<style scoped>\n",
       "    .dataframe tbody tr th:only-of-type {\n",
       "        vertical-align: middle;\n",
       "    }\n",
       "\n",
       "    .dataframe tbody tr th {\n",
       "        vertical-align: top;\n",
       "    }\n",
       "\n",
       "    .dataframe thead th {\n",
       "        text-align: right;\n",
       "    }\n",
       "</style>\n",
       "<table border=\"1\" class=\"dataframe\">\n",
       "  <thead>\n",
       "    <tr style=\"text-align: right;\">\n",
       "      <th></th>\n",
       "      <th>PRECISION</th>\n",
       "      <th>PRECISION_RECALL_MIN_DEN</th>\n",
       "      <th>RECALL</th>\n",
       "      <th>MAP</th>\n",
       "      <th>MAP_MIN_DEN</th>\n",
       "      <th>MRR</th>\n",
       "      <th>NDCG</th>\n",
       "      <th>F1</th>\n",
       "      <th>HIT_RATE</th>\n",
       "      <th>ARHR_ALL_HITS</th>\n",
       "      <th>...</th>\n",
       "      <th>COVERAGE_USER</th>\n",
       "      <th>COVERAGE_USER_HIT</th>\n",
       "      <th>USERS_IN_GT</th>\n",
       "      <th>DIVERSITY_GINI</th>\n",
       "      <th>SHANNON_ENTROPY</th>\n",
       "      <th>RATIO_DIVERSITY_HERFINDAHL</th>\n",
       "      <th>RATIO_DIVERSITY_GINI</th>\n",
       "      <th>RATIO_SHANNON_ENTROPY</th>\n",
       "      <th>RATIO_AVERAGE_POPULARITY</th>\n",
       "      <th>RATIO_NOVELTY</th>\n",
       "    </tr>\n",
       "    <tr>\n",
       "      <th>cutoff</th>\n",
       "      <th></th>\n",
       "      <th></th>\n",
       "      <th></th>\n",
       "      <th></th>\n",
       "      <th></th>\n",
       "      <th></th>\n",
       "      <th></th>\n",
       "      <th></th>\n",
       "      <th></th>\n",
       "      <th></th>\n",
       "      <th></th>\n",
       "      <th></th>\n",
       "      <th></th>\n",
       "      <th></th>\n",
       "      <th></th>\n",
       "      <th></th>\n",
       "      <th></th>\n",
       "      <th></th>\n",
       "      <th></th>\n",
       "      <th></th>\n",
       "      <th></th>\n",
       "    </tr>\n",
       "  </thead>\n",
       "  <tbody>\n",
       "    <tr>\n",
       "      <th>10</th>\n",
       "      <td>0.067617</td>\n",
       "      <td>0.116007</td>\n",
       "      <td>0.097321</td>\n",
       "      <td>0.031643</td>\n",
       "      <td>0.053116</td>\n",
       "      <td>0.18698</td>\n",
       "      <td>0.101992</td>\n",
       "      <td>0.079794</td>\n",
       "      <td>0.406465</td>\n",
       "      <td>0.240777</td>\n",
       "      <td>...</td>\n",
       "      <td>0.802826</td>\n",
       "      <td>0.326321</td>\n",
       "      <td>0.802826</td>\n",
       "      <td>0.157907</td>\n",
       "      <td>11.583063</td>\n",
       "      <td>0.998681</td>\n",
       "      <td>0.455625</td>\n",
       "      <td>0.892314</td>\n",
       "      <td>1.227963</td>\n",
       "      <td>0.355584</td>\n",
       "    </tr>\n",
       "  </tbody>\n",
       "</table>\n",
       "<p>1 rows × 27 columns</p>\n",
       "</div>"
      ],
      "text/plain": [
       "       PRECISION PRECISION_RECALL_MIN_DEN    RECALL       MAP MAP_MIN_DEN  \\\n",
       "cutoff                                                                      \n",
       "10      0.067617                 0.116007  0.097321  0.031643    0.053116   \n",
       "\n",
       "            MRR      NDCG        F1  HIT_RATE ARHR_ALL_HITS  ...  \\\n",
       "cutoff                                                       ...   \n",
       "10      0.18698  0.101992  0.079794  0.406465      0.240777  ...   \n",
       "\n",
       "       COVERAGE_USER COVERAGE_USER_HIT USERS_IN_GT DIVERSITY_GINI  \\\n",
       "cutoff                                                              \n",
       "10          0.802826          0.326321    0.802826       0.157907   \n",
       "\n",
       "       SHANNON_ENTROPY RATIO_DIVERSITY_HERFINDAHL RATIO_DIVERSITY_GINI  \\\n",
       "cutoff                                                                   \n",
       "10           11.583063                   0.998681             0.455625   \n",
       "\n",
       "       RATIO_SHANNON_ENTROPY RATIO_AVERAGE_POPULARITY RATIO_NOVELTY  \n",
       "cutoff                                                               \n",
       "10                  0.892314                 1.227963      0.355584  \n",
       "\n",
       "[1 rows x 27 columns]"
      ]
     },
     "execution_count": 15,
     "metadata": {},
     "output_type": "execute_result"
    }
   ],
   "source": [
    "evaluator = EvaluatorHoldout(URM_test_complete, cutoff_list=[10]) \n",
    "\n",
    "recommender = HHPRecommender(URM_train)\n",
    "recommender.fit()\n",
    "result_df, _ = evaluator.evaluateRecommender(recommender)\n",
    "result_df"
   ]
  },
  {
   "cell_type": "code",
   "execution_count": 16,
   "id": "b660498b",
   "metadata": {
    "execution": {
     "iopub.execute_input": "2023-12-24T17:12:04.252717Z",
     "iopub.status.busy": "2023-12-24T17:12:04.252289Z",
     "iopub.status.idle": "2023-12-24T17:12:04.258770Z",
     "shell.execute_reply": "2023-12-24T17:12:04.257572Z"
    },
    "papermill": {
     "duration": 0.039605,
     "end_time": "2023-12-24T17:12:04.261715",
     "exception": false,
     "start_time": "2023-12-24T17:12:04.222110",
     "status": "completed"
    },
    "tags": []
   },
   "outputs": [],
   "source": [
    "def objective_function_hhp(trial):\n",
    "\n",
    "    recommender_instance = HHPRecommender(URM_train)\n",
    "    recommender_instance.fit(\n",
    "        hybrid_lambda = trial.suggest_float('hybrid_lambda', 0.01, 0.99),\n",
    "        topK = trial.suggest_int('topK', 5, 2000, log=True)\n",
    "    ) \n",
    "        \n",
    "    result_df, _ = evaluator.evaluateRecommender(recommender_instance)\n",
    "    \n",
    "    return result_df.loc[10, \"MAP\"]"
   ]
  },
  {
   "cell_type": "code",
   "execution_count": 17,
   "id": "7fab7af3",
   "metadata": {
    "_kg_hide-output": true,
    "execution": {
     "iopub.execute_input": "2023-12-24T17:12:04.321070Z",
     "iopub.status.busy": "2023-12-24T17:12:04.320216Z",
     "iopub.status.idle": "2023-12-24T18:35:36.167650Z",
     "shell.execute_reply": "2023-12-24T18:35:36.166359Z"
    },
    "papermill": {
     "duration": 5011.93646,
     "end_time": "2023-12-24T18:35:36.226977",
     "exception": false,
     "start_time": "2023-12-24T17:12:04.290517",
     "status": "completed"
    },
    "scrolled": true,
    "tags": []
   },
   "outputs": [
    {
     "name": "stderr",
     "output_type": "stream",
     "text": [
      "[I 2023-12-24 17:12:04,785] A new study created in RDB with name: tuning_fixed\n"
     ]
    },
    {
     "name": "stdout",
     "output_type": "stream",
     "text": [
      "HHPRecommender: URM Detected 627 ( 4.8%) users with no interactions.\n",
      "HHPRecommender: URM Detected 247 ( 1.1%) items with no interactions.\n",
      "HHPRecommender: Similarity column 22347 (100.0%), 1909.84 column/sec. Elapsed time 11.70 sec\n",
      "EvaluatorHoldout: Processed 10456 (100.0%) in 9.00 sec. Users per second: 1162\n"
     ]
    },
    {
     "name": "stderr",
     "output_type": "stream",
     "text": [
      "[I 2023-12-24 17:12:26,430] Trial 0 finished with value: 0.02818601911562912 and parameters: {'hybrid_lambda': 0.6111530273349329, 'topK': 5}. Best is trial 0 with value: 0.02818601911562912.\n"
     ]
    },
    {
     "name": "stdout",
     "output_type": "stream",
     "text": [
      "HHPRecommender: URM Detected 627 ( 4.8%) users with no interactions.\n",
      "HHPRecommender: URM Detected 247 ( 1.1%) items with no interactions.\n",
      "HHPRecommender: Similarity column 22347 (100.0%), 3092.05 column/sec. Elapsed time 7.23 sec\n",
      "EvaluatorHoldout: Processed 10456 (100.0%) in 8.44 sec. Users per second: 1239\n"
     ]
    },
    {
     "name": "stderr",
     "output_type": "stream",
     "text": [
      "[I 2023-12-24 17:12:42,976] Trial 1 finished with value: 0.0015701017718997828 and parameters: {'hybrid_lambda': 0.02064710460704148, 'topK': 6}. Best is trial 0 with value: 0.02818601911562912.\n"
     ]
    },
    {
     "name": "stdout",
     "output_type": "stream",
     "text": [
      "HHPRecommender: URM Detected 627 ( 4.8%) users with no interactions.\n",
      "HHPRecommender: URM Detected 247 ( 1.1%) items with no interactions.\n",
      "HHPRecommender: Similarity column 22347 (100.0%), 3049.56 column/sec. Elapsed time 7.33 sec\n",
      "EvaluatorHoldout: Processed 10456 (100.0%) in 8.59 sec. Users per second: 1217\n"
     ]
    },
    {
     "name": "stderr",
     "output_type": "stream",
     "text": [
      "[I 2023-12-24 17:12:59,831] Trial 2 finished with value: 0.033171593586427545 and parameters: {'hybrid_lambda': 0.9308055007353881, 'topK': 9}. Best is trial 2 with value: 0.033171593586427545.\n"
     ]
    },
    {
     "name": "stdout",
     "output_type": "stream",
     "text": [
      "HHPRecommender: URM Detected 627 ( 4.8%) users with no interactions.\n",
      "HHPRecommender: URM Detected 247 ( 1.1%) items with no interactions.\n",
      "HHPRecommender: Similarity column 22347 (100.0%), 1835.94 column/sec. Elapsed time 12.17 sec\n",
      "EvaluatorHoldout: Processed 10456 (100.0%) in 10.00 sec. Users per second: 1046\n"
     ]
    },
    {
     "name": "stderr",
     "output_type": "stream",
     "text": [
      "[I 2023-12-24 17:13:26,715] Trial 3 finished with value: 0.02936595984989277 and parameters: {'hybrid_lambda': 0.47163843281289963, 'topK': 86}. Best is trial 2 with value: 0.033171593586427545.\n"
     ]
    },
    {
     "name": "stdout",
     "output_type": "stream",
     "text": [
      "HHPRecommender: URM Detected 627 ( 4.8%) users with no interactions.\n",
      "HHPRecommender: URM Detected 247 ( 1.1%) items with no interactions.\n",
      "HHPRecommender: Similarity column 22347 (100.0%), 715.43 column/sec. Elapsed time 31.24 sec\n",
      "EvaluatorHoldout: Processed 10456 (100.0%) in 12.76 sec. Users per second: 819\n"
     ]
    },
    {
     "name": "stderr",
     "output_type": "stream",
     "text": [
      "[I 2023-12-24 17:14:29,062] Trial 4 finished with value: 0.032042345247203924 and parameters: {'hybrid_lambda': 0.5829472775185799, 'topK': 529}. Best is trial 2 with value: 0.033171593586427545.\n"
     ]
    },
    {
     "name": "stdout",
     "output_type": "stream",
     "text": [
      "HHPRecommender: URM Detected 627 ( 4.8%) users with no interactions.\n",
      "HHPRecommender: URM Detected 247 ( 1.1%) items with no interactions.\n",
      "HHPRecommender: Similarity column 22347 (100.0%), 2984.41 column/sec. Elapsed time 7.49 sec\n",
      "EvaluatorHoldout: Processed 10456 (100.0%) in 8.74 sec. Users per second: 1196\n"
     ]
    },
    {
     "name": "stderr",
     "output_type": "stream",
     "text": [
      "[I 2023-12-24 17:14:46,387] Trial 5 finished with value: 0.006279321662355323 and parameters: {'hybrid_lambda': 0.24275762238902296, 'topK': 12}. Best is trial 2 with value: 0.033171593586427545.\n"
     ]
    },
    {
     "name": "stdout",
     "output_type": "stream",
     "text": [
      "HHPRecommender: URM Detected 627 ( 4.8%) users with no interactions.\n",
      "HHPRecommender: URM Detected 247 ( 1.1%) items with no interactions.\n",
      "HHPRecommender: Similarity column 22347 (100.0%), 2946.18 column/sec. Elapsed time 7.59 sec\n",
      "EvaluatorHoldout: Processed 10456 (100.0%) in 8.87 sec. Users per second: 1178\n"
     ]
    },
    {
     "name": "stderr",
     "output_type": "stream",
     "text": [
      "[I 2023-12-24 17:15:04,046] Trial 6 finished with value: 0.00959179661408045 and parameters: {'hybrid_lambda': 0.29449024784443717, 'topK': 14}. Best is trial 2 with value: 0.033171593586427545.\n"
     ]
    },
    {
     "name": "stdout",
     "output_type": "stream",
     "text": [
      "HHPRecommender: URM Detected 627 ( 4.8%) users with no interactions.\n",
      "HHPRecommender: URM Detected 247 ( 1.1%) items with no interactions.\n",
      "HHPRecommender: Similarity column 22347 (100.0%), 1320.22 column/sec. Elapsed time 16.93 sec\n",
      "EvaluatorHoldout: Processed 10456 (100.0%) in 11.02 sec. Users per second: 949\n"
     ]
    },
    {
     "name": "stderr",
     "output_type": "stream",
     "text": [
      "[I 2023-12-24 17:15:40,340] Trial 7 finished with value: 0.03138064193415206 and parameters: {'hybrid_lambda': 0.5018488077781994, 'topK': 176}. Best is trial 2 with value: 0.033171593586427545.\n"
     ]
    },
    {
     "name": "stdout",
     "output_type": "stream",
     "text": [
      "HHPRecommender: URM Detected 627 ( 4.8%) users with no interactions.\n",
      "HHPRecommender: URM Detected 247 ( 1.1%) items with no interactions.\n",
      "HHPRecommender: Similarity column 22347 (100.0%), 1285.33 column/sec. Elapsed time 17.39 sec\n",
      "EvaluatorHoldout: Processed 10456 (100.0%) in 11.10 sec. Users per second: 942\n"
     ]
    },
    {
     "name": "stderr",
     "output_type": "stream",
     "text": [
      "[I 2023-12-24 17:16:17,292] Trial 8 finished with value: 0.03366505598668983 and parameters: {'hybrid_lambda': 0.5438964113146934, 'topK': 186}. Best is trial 8 with value: 0.03366505598668983.\n"
     ]
    },
    {
     "name": "stdout",
     "output_type": "stream",
     "text": [
      "HHPRecommender: URM Detected 627 ( 4.8%) users with no interactions.\n",
      "HHPRecommender: URM Detected 247 ( 1.1%) items with no interactions.\n",
      "HHPRecommender: Similarity column 22347 (100.0%), 466.62 column/sec. Elapsed time 47.89 sec\n",
      "EvaluatorHoldout: Processed 10456 (100.0%) in 16.08 sec. Users per second: 650\n"
     ]
    },
    {
     "name": "stderr",
     "output_type": "stream",
     "text": [
      "[I 2023-12-24 17:17:55,045] Trial 9 finished with value: 0.013731240360209396 and parameters: {'hybrid_lambda': 0.3946196027010465, 'topK': 1443}. Best is trial 8 with value: 0.03366505598668983.\n"
     ]
    },
    {
     "name": "stdout",
     "output_type": "stream",
     "text": [
      "HHPRecommender: URM Detected 627 ( 4.8%) users with no interactions.\n",
      "HHPRecommender: URM Detected 247 ( 1.1%) items with no interactions.\n",
      "HHPRecommender: Similarity column 22347 (100.0%), 1973.94 column/sec. Elapsed time 11.32 sec\n",
      "EvaluatorHoldout: Processed 10456 (100.0%) in 9.72 sec. Users per second: 1076\n"
     ]
    },
    {
     "name": "stderr",
     "output_type": "stream",
     "text": [
      "[I 2023-12-24 17:18:19,770] Trial 10 finished with value: 0.04067155563449602 and parameters: {'hybrid_lambda': 0.7392672411755284, 'topK': 78}. Best is trial 10 with value: 0.04067155563449602.\n"
     ]
    },
    {
     "name": "stdout",
     "output_type": "stream",
     "text": [
      "HHPRecommender: URM Detected 627 ( 4.8%) users with no interactions.\n",
      "HHPRecommender: URM Detected 247 ( 1.1%) items with no interactions.\n",
      "HHPRecommender: Similarity column 22347 (100.0%), 1972.70 column/sec. Elapsed time 11.33 sec\n",
      "EvaluatorHoldout: Processed 10456 (100.0%) in 9.64 sec. Users per second: 1085\n"
     ]
    },
    {
     "name": "stderr",
     "output_type": "stream",
     "text": [
      "[I 2023-12-24 17:18:44,078] Trial 11 finished with value: 0.04116753804301682 and parameters: {'hybrid_lambda': 0.7653874922613132, 'topK': 70}. Best is trial 11 with value: 0.04116753804301682.\n"
     ]
    },
    {
     "name": "stdout",
     "output_type": "stream",
     "text": [
      "HHPRecommender: URM Detected 627 ( 4.8%) users with no interactions.\n",
      "HHPRecommender: URM Detected 247 ( 1.1%) items with no interactions.\n",
      "HHPRecommender: Similarity column 22347 (100.0%), 2479.44 column/sec. Elapsed time 9.01 sec\n",
      "EvaluatorHoldout: Processed 10456 (100.0%) in 9.21 sec. Users per second: 1135\n"
     ]
    },
    {
     "name": "stderr",
     "output_type": "stream",
     "text": [
      "[I 2023-12-24 17:19:04,388] Trial 12 finished with value: 0.04164477599251938 and parameters: {'hybrid_lambda': 0.8219995453500097, 'topK': 42}. Best is trial 12 with value: 0.04164477599251938.\n"
     ]
    },
    {
     "name": "stdout",
     "output_type": "stream",
     "text": [
      "HHPRecommender: URM Detected 627 ( 4.8%) users with no interactions.\n",
      "HHPRecommender: URM Detected 247 ( 1.1%) items with no interactions.\n",
      "HHPRecommender: Similarity column 22347 (100.0%), 2551.68 column/sec. Elapsed time 8.76 sec\n",
      "EvaluatorHoldout: Processed 10456 (100.0%) in 9.22 sec. Users per second: 1134\n"
     ]
    },
    {
     "name": "stderr",
     "output_type": "stream",
     "text": [
      "[I 2023-12-24 17:19:24,227] Trial 13 finished with value: 0.04130699621087967 and parameters: {'hybrid_lambda': 0.8729720361650454, 'topK': 38}. Best is trial 12 with value: 0.04164477599251938.\n"
     ]
    },
    {
     "name": "stdout",
     "output_type": "stream",
     "text": [
      "HHPRecommender: URM Detected 627 ( 4.8%) users with no interactions.\n",
      "HHPRecommender: URM Detected 247 ( 1.1%) items with no interactions.\n",
      "HHPRecommender: Similarity column 22347 (100.0%), 2617.25 column/sec. Elapsed time 8.54 sec\n",
      "EvaluatorHoldout: Processed 10456 (100.0%) in 9.09 sec. Users per second: 1150\n"
     ]
    },
    {
     "name": "stderr",
     "output_type": "stream",
     "text": [
      "[I 2023-12-24 17:19:43,337] Trial 14 finished with value: 0.04031737302801821 and parameters: {'hybrid_lambda': 0.9767894996096244, 'topK': 31}. Best is trial 12 with value: 0.04164477599251938.\n"
     ]
    },
    {
     "name": "stdout",
     "output_type": "stream",
     "text": [
      "HHPRecommender: URM Detected 627 ( 4.8%) users with no interactions.\n",
      "HHPRecommender: URM Detected 247 ( 1.1%) items with no interactions.\n",
      "HHPRecommender: Similarity column 22347 (100.0%), 2606.53 column/sec. Elapsed time 8.57 sec\n",
      "EvaluatorHoldout: Processed 10456 (100.0%) in 9.23 sec. Users per second: 1133\n"
     ]
    },
    {
     "name": "stderr",
     "output_type": "stream",
     "text": [
      "[I 2023-12-24 17:20:02,793] Trial 15 finished with value: 0.04088821941681591 and parameters: {'hybrid_lambda': 0.8559007700088684, 'topK': 30}. Best is trial 12 with value: 0.04164477599251938.\n"
     ]
    },
    {
     "name": "stdout",
     "output_type": "stream",
     "text": [
      "HHPRecommender: URM Detected 627 ( 4.8%) users with no interactions.\n",
      "HHPRecommender: URM Detected 247 ( 1.1%) items with no interactions.\n",
      "HHPRecommender: Similarity column 22347 (100.0%), 2655.73 column/sec. Elapsed time 8.41 sec\n",
      "EvaluatorHoldout: Processed 10456 (100.0%) in 9.28 sec. Users per second: 1127\n"
     ]
    },
    {
     "name": "stderr",
     "output_type": "stream",
     "text": [
      "[I 2023-12-24 17:20:22,137] Trial 16 finished with value: 0.04077317952174546 and parameters: {'hybrid_lambda': 0.812034613065196, 'topK': 29}. Best is trial 12 with value: 0.04164477599251938.\n"
     ]
    },
    {
     "name": "stdout",
     "output_type": "stream",
     "text": [
      "HHPRecommender: URM Detected 627 ( 4.8%) users with no interactions.\n",
      "HHPRecommender: URM Detected 247 ( 1.1%) items with no interactions.\n",
      "HHPRecommender: Similarity column 22347 (100.0%), 2542.12 column/sec. Elapsed time 8.79 sec\n",
      "EvaluatorHoldout: Processed 10456 (100.0%) in 9.01 sec. Users per second: 1160\n"
     ]
    },
    {
     "name": "stderr",
     "output_type": "stream",
     "text": [
      "[I 2023-12-24 17:20:41,582] Trial 17 finished with value: 0.040615534788259175 and parameters: {'hybrid_lambda': 0.9885174661911033, 'topK': 39}. Best is trial 12 with value: 0.04164477599251938.\n"
     ]
    },
    {
     "name": "stdout",
     "output_type": "stream",
     "text": [
      "HHPRecommender: URM Detected 627 ( 4.8%) users with no interactions.\n",
      "HHPRecommender: URM Detected 247 ( 1.1%) items with no interactions.\n",
      "HHPRecommender: Similarity column 22347 (100.0%), 2780.61 column/sec. Elapsed time 8.04 sec\n",
      "EvaluatorHoldout: Processed 10456 (100.0%) in 9.04 sec. Users per second: 1157\n"
     ]
    },
    {
     "name": "stderr",
     "output_type": "stream",
     "text": [
      "[I 2023-12-24 17:21:00,083] Trial 18 finished with value: 0.03846402080980352 and parameters: {'hybrid_lambda': 0.694690566886905, 'topK': 18}. Best is trial 12 with value: 0.04164477599251938.\n"
     ]
    },
    {
     "name": "stdout",
     "output_type": "stream",
     "text": [
      "HHPRecommender: URM Detected 627 ( 4.8%) users with no interactions.\n",
      "HHPRecommender: URM Detected 247 ( 1.1%) items with no interactions.\n",
      "HHPRecommender: Similarity column 22347 (100.0%), 2356.60 column/sec. Elapsed time 9.48 sec\n",
      "EvaluatorHoldout: Processed 10456 (100.0%) in 9.26 sec. Users per second: 1129\n"
     ]
    },
    {
     "name": "stderr",
     "output_type": "stream",
     "text": [
      "[I 2023-12-24 17:21:21,054] Trial 19 finished with value: 0.04167629127652131 and parameters: {'hybrid_lambda': 0.8717909959317014, 'topK': 51}. Best is trial 19 with value: 0.04167629127652131.\n"
     ]
    },
    {
     "name": "stdout",
     "output_type": "stream",
     "text": [
      "HHPRecommender: URM Detected 627 ( 4.8%) users with no interactions.\n",
      "HHPRecommender: URM Detected 247 ( 1.1%) items with no interactions.\n",
      "HHPRecommender: Similarity column 22347 (100.0%), 1441.72 column/sec. Elapsed time 15.50 sec\n",
      "EvaluatorHoldout: Processed 10456 (100.0%) in 9.35 sec. Users per second: 1118\n"
     ]
    },
    {
     "name": "stderr",
     "output_type": "stream",
     "text": [
      "[I 2023-12-24 17:21:51,439] Trial 20 finished with value: 0.04161290016516734 and parameters: {'hybrid_lambda': 0.8743775516605536, 'topK': 153}. Best is trial 19 with value: 0.04167629127652131.\n"
     ]
    },
    {
     "name": "stdout",
     "output_type": "stream",
     "text": [
      "HHPRecommender: URM Detected 627 ( 4.8%) users with no interactions.\n",
      "HHPRecommender: URM Detected 247 ( 1.1%) items with no interactions.\n",
      "HHPRecommender: Similarity column 22347 (100.0%), 1520.13 column/sec. Elapsed time 14.70 sec\n",
      "EvaluatorHoldout: Processed 10456 (100.0%) in 9.87 sec. Users per second: 1059\n"
     ]
    },
    {
     "name": "stderr",
     "output_type": "stream",
     "text": [
      "[I 2023-12-24 17:22:21,245] Trial 21 finished with value: 0.041462993830534575 and parameters: {'hybrid_lambda': 0.8461976962314548, 'topK': 137}. Best is trial 19 with value: 0.04167629127652131.\n"
     ]
    },
    {
     "name": "stdout",
     "output_type": "stream",
     "text": [
      "HHPRecommender: URM Detected 627 ( 4.8%) users with no interactions.\n",
      "HHPRecommender: URM Detected 247 ( 1.1%) items with no interactions.\n",
      "HHPRecommender: Similarity column 22347 (100.0%), 973.26 column/sec. Elapsed time 22.96 sec\n",
      "EvaluatorHoldout: Processed 10456 (100.0%) in 10.27 sec. Users per second: 1018\n"
     ]
    },
    {
     "name": "stderr",
     "output_type": "stream",
     "text": [
      "[I 2023-12-24 17:23:06,508] Trial 22 finished with value: 0.03664662804678142 and parameters: {'hybrid_lambda': 0.6655211774961651, 'topK': 318}. Best is trial 19 with value: 0.04167629127652131.\n"
     ]
    },
    {
     "name": "stdout",
     "output_type": "stream",
     "text": [
      "HHPRecommender: URM Detected 627 ( 4.8%) users with no interactions.\n",
      "HHPRecommender: URM Detected 247 ( 1.1%) items with no interactions.\n",
      "HHPRecommender: Similarity column 22347 (100.0%), 2083.50 column/sec. Elapsed time 10.73 sec\n",
      "EvaluatorHoldout: Processed 10456 (100.0%) in 9.64 sec. Users per second: 1085\n"
     ]
    },
    {
     "name": "stderr",
     "output_type": "stream",
     "text": [
      "[I 2023-12-24 17:23:29,747] Trial 23 finished with value: 0.04080618631665936 and parameters: {'hybrid_lambda': 0.7489697505763534, 'topK': 59}. Best is trial 19 with value: 0.04167629127652131.\n"
     ]
    },
    {
     "name": "stdout",
     "output_type": "stream",
     "text": [
      "HHPRecommender: URM Detected 627 ( 4.8%) users with no interactions.\n",
      "HHPRecommender: URM Detected 247 ( 1.1%) items with no interactions.\n",
      "HHPRecommender: Similarity column 22347 (100.0%), 1643.67 column/sec. Elapsed time 13.60 sec\n",
      "EvaluatorHoldout: Processed 10456 (100.0%) in 9.68 sec. Users per second: 1080\n"
     ]
    },
    {
     "name": "stderr",
     "output_type": "stream",
     "text": [
      "[I 2023-12-24 17:23:57,515] Trial 24 finished with value: 0.04165676500771237 and parameters: {'hybrid_lambda': 0.8580022497353806, 'topK': 117}. Best is trial 19 with value: 0.04167629127652131.\n"
     ]
    },
    {
     "name": "stdout",
     "output_type": "stream",
     "text": [
      "HHPRecommender: URM Detected 627 ( 4.8%) users with no interactions.\n",
      "HHPRecommender: URM Detected 247 ( 1.1%) items with no interactions.\n",
      "HHPRecommender: Similarity column 22347 (100.0%), 2133.60 column/sec. Elapsed time 10.47 sec\n",
      "EvaluatorHoldout: Processed 10456 (100.0%) in 15.31 sec. Users per second: 683\n"
     ]
    },
    {
     "name": "stderr",
     "output_type": "stream",
     "text": [
      "[I 2023-12-24 17:24:25,737] Trial 25 finished with value: 0.04138195507098586 and parameters: {'hybrid_lambda': 0.9291927143943592, 'topK': 49}. Best is trial 19 with value: 0.04167629127652131.\n"
     ]
    },
    {
     "name": "stdout",
     "output_type": "stream",
     "text": [
      "HHPRecommender: URM Detected 627 ( 4.8%) users with no interactions.\n",
      "HHPRecommender: URM Detected 247 ( 1.1%) items with no interactions.\n",
      "HHPRecommender: Similarity column 22347 (100.0%), 1643.46 column/sec. Elapsed time 13.60 sec\n",
      "EvaluatorHoldout: Processed 10456 (100.0%) in 10.03 sec. Users per second: 1042\n"
     ]
    },
    {
     "name": "stderr",
     "output_type": "stream",
     "text": [
      "[I 2023-12-24 17:24:53,824] Trial 26 finished with value: 0.041370114068326205 and parameters: {'hybrid_lambda': 0.7930783466625129, 'topK': 106}. Best is trial 19 with value: 0.04167629127652131.\n"
     ]
    },
    {
     "name": "stdout",
     "output_type": "stream",
     "text": [
      "HHPRecommender: URM Detected 627 ( 4.8%) users with no interactions.\n",
      "HHPRecommender: URM Detected 247 ( 1.1%) items with no interactions.\n",
      "HHPRecommender: Similarity column 22347 (100.0%), 2726.76 column/sec. Elapsed time 8.20 sec\n",
      "EvaluatorHoldout: Processed 10456 (100.0%) in 9.14 sec. Users per second: 1144\n"
     ]
    },
    {
     "name": "stderr",
     "output_type": "stream",
     "text": [
      "[I 2023-12-24 17:25:12,636] Trial 27 finished with value: 0.0371633815474677 and parameters: {'hybrid_lambda': 0.6363111515720963, 'topK': 19}. Best is trial 19 with value: 0.04167629127652131.\n"
     ]
    },
    {
     "name": "stdout",
     "output_type": "stream",
     "text": [
      "HHPRecommender: URM Detected 627 ( 4.8%) users with no interactions.\n",
      "HHPRecommender: URM Detected 247 ( 1.1%) items with no interactions.\n",
      "HHPRecommender: Similarity column 22347 (100.0%), 2292.02 column/sec. Elapsed time 9.75 sec\n",
      "EvaluatorHoldout: Processed 10456 (100.0%) in 9.52 sec. Users per second: 1099\n"
     ]
    },
    {
     "name": "stderr",
     "output_type": "stream",
     "text": [
      "[I 2023-12-24 17:25:34,613] Trial 28 finished with value: 0.04016443812924352 and parameters: {'hybrid_lambda': 0.7144735227317761, 'topK': 53}. Best is trial 19 with value: 0.04167629127652131.\n"
     ]
    },
    {
     "name": "stdout",
     "output_type": "stream",
     "text": [
      "HHPRecommender: URM Detected 627 ( 4.8%) users with no interactions.\n",
      "HHPRecommender: URM Detected 247 ( 1.1%) items with no interactions.\n",
      "HHPRecommender: Similarity column 22347 (100.0%), 1678.87 column/sec. Elapsed time 13.31 sec\n",
      "EvaluatorHoldout: Processed 10456 (100.0%) in 9.83 sec. Users per second: 1063\n"
     ]
    },
    {
     "name": "stderr",
     "output_type": "stream",
     "text": [
      "[I 2023-12-24 17:26:02,055] Trial 29 finished with value: 0.04143049938669734 and parameters: {'hybrid_lambda': 0.8048596702332574, 'topK': 102}. Best is trial 19 with value: 0.04167629127652131.\n"
     ]
    },
    {
     "name": "stdout",
     "output_type": "stream",
     "text": [
      "HHPRecommender: URM Detected 627 ( 4.8%) users with no interactions.\n",
      "HHPRecommender: URM Detected 247 ( 1.1%) items with no interactions.\n",
      "HHPRecommender: Similarity column 22347 (100.0%), 2365.94 column/sec. Elapsed time 9.45 sec\n",
      "EvaluatorHoldout: Processed 10456 (100.0%) in 9.59 sec. Users per second: 1090\n"
     ]
    },
    {
     "name": "stderr",
     "output_type": "stream",
     "text": [
      "[I 2023-12-24 17:26:23,734] Trial 30 finished with value: 0.03929370696251007 and parameters: {'hybrid_lambda': 0.6786454880878403, 'topK': 49}. Best is trial 19 with value: 0.04167629127652131.\n"
     ]
    },
    {
     "name": "stdout",
     "output_type": "stream",
     "text": [
      "HHPRecommender: URM Detected 627 ( 4.8%) users with no interactions.\n",
      "HHPRecommender: URM Detected 247 ( 1.1%) items with no interactions.\n",
      "HHPRecommender: Similarity column 22347 (100.0%), 1606.32 column/sec. Elapsed time 13.91 sec\n",
      "EvaluatorHoldout: Processed 10456 (100.0%) in 9.73 sec. Users per second: 1075\n"
     ]
    },
    {
     "name": "stderr",
     "output_type": "stream",
     "text": [
      "[I 2023-12-24 17:26:52,038] Trial 31 finished with value: 0.04181880077968494 and parameters: {'hybrid_lambda': 0.8994060791095638, 'topK': 127}. Best is trial 31 with value: 0.04181880077968494.\n"
     ]
    },
    {
     "name": "stdout",
     "output_type": "stream",
     "text": [
      "HHPRecommender: URM Detected 627 ( 4.8%) users with no interactions.\n",
      "HHPRecommender: URM Detected 247 ( 1.1%) items with no interactions.\n",
      "HHPRecommender: Similarity column 22347 (100.0%), 1940.09 column/sec. Elapsed time 11.52 sec\n",
      "EvaluatorHoldout: Processed 10456 (100.0%) in 9.50 sec. Users per second: 1101\n"
     ]
    },
    {
     "name": "stderr",
     "output_type": "stream",
     "text": [
      "[I 2023-12-24 17:27:16,154] Trial 32 finished with value: 0.04185383041255327 and parameters: {'hybrid_lambda': 0.9205240370717866, 'topK': 80}. Best is trial 32 with value: 0.04185383041255327.\n"
     ]
    },
    {
     "name": "stdout",
     "output_type": "stream",
     "text": [
      "HHPRecommender: URM Detected 627 ( 4.8%) users with no interactions.\n",
      "HHPRecommender: URM Detected 247 ( 1.1%) items with no interactions.\n",
      "HHPRecommender: Similarity column 22347 (100.0%), 1658.83 column/sec. Elapsed time 13.47 sec\n",
      "EvaluatorHoldout: Processed 10456 (100.0%) in 9.76 sec. Users per second: 1071\n"
     ]
    },
    {
     "name": "stderr",
     "output_type": "stream",
     "text": [
      "[I 2023-12-24 17:27:43,642] Trial 33 finished with value: 0.041864422796663164 and parameters: {'hybrid_lambda': 0.912302592410566, 'topK': 118}. Best is trial 33 with value: 0.041864422796663164.\n"
     ]
    },
    {
     "name": "stdout",
     "output_type": "stream",
     "text": [
      "HHPRecommender: URM Detected 627 ( 4.8%) users with no interactions.\n",
      "HHPRecommender: URM Detected 247 ( 1.1%) items with no interactions.\n",
      "HHPRecommender: Similarity column 22347 (100.0%), 1958.09 column/sec. Elapsed time 11.41 sec\n",
      "EvaluatorHoldout: Processed 10456 (100.0%) in 9.46 sec. Users per second: 1105\n"
     ]
    },
    {
     "name": "stderr",
     "output_type": "stream",
     "text": [
      "[I 2023-12-24 17:28:07,453] Trial 34 finished with value: 0.041734429840541674 and parameters: {'hybrid_lambda': 0.9204260241753784, 'topK': 75}. Best is trial 33 with value: 0.041864422796663164.\n"
     ]
    },
    {
     "name": "stdout",
     "output_type": "stream",
     "text": [
      "HHPRecommender: URM Detected 627 ( 4.8%) users with no interactions.\n",
      "HHPRecommender: URM Detected 247 ( 1.1%) items with no interactions.\n",
      "HHPRecommender: Similarity column 22347 (100.0%), 1918.68 column/sec. Elapsed time 11.65 sec\n",
      "EvaluatorHoldout: Processed 10456 (100.0%) in 9.55 sec. Users per second: 1095\n"
     ]
    },
    {
     "name": "stderr",
     "output_type": "stream",
     "text": [
      "[I 2023-12-24 17:28:31,709] Trial 35 finished with value: 0.04170182533610286 and parameters: {'hybrid_lambda': 0.9385123928995202, 'topK': 81}. Best is trial 33 with value: 0.041864422796663164.\n"
     ]
    },
    {
     "name": "stdout",
     "output_type": "stream",
     "text": [
      "HHPRecommender: URM Detected 627 ( 4.8%) users with no interactions.\n",
      "HHPRecommender: URM Detected 247 ( 1.1%) items with no interactions.\n",
      "HHPRecommender: Similarity column 22347 (100.0%), 1170.88 column/sec. Elapsed time 19.09 sec\n",
      "EvaluatorHoldout: Processed 10456 (100.0%) in 8.97 sec. Users per second: 1166\n"
     ]
    },
    {
     "name": "stderr",
     "output_type": "stream",
     "text": [
      "[I 2023-12-24 17:29:07,015] Trial 36 finished with value: 0.04126446727632704 and parameters: {'hybrid_lambda': 0.9393989081434009, 'topK': 219}. Best is trial 33 with value: 0.041864422796663164.\n"
     ]
    },
    {
     "name": "stdout",
     "output_type": "stream",
     "text": [
      "HHPRecommender: URM Detected 627 ( 4.8%) users with no interactions.\n",
      "HHPRecommender: URM Detected 247 ( 1.1%) items with no interactions.\n",
      "HHPRecommender: Similarity column 22347 (100.0%), 1101.67 column/sec. Elapsed time 20.28 sec\n",
      "EvaluatorHoldout: Processed 10456 (100.0%) in 10.36 sec. Users per second: 1009\n"
     ]
    },
    {
     "name": "stderr",
     "output_type": "stream",
     "text": [
      "[I 2023-12-24 17:29:46,163] Trial 37 finished with value: 0.04104459655578686 and parameters: {'hybrid_lambda': 0.9183489122823214, 'topK': 258}. Best is trial 33 with value: 0.041864422796663164.\n"
     ]
    },
    {
     "name": "stdout",
     "output_type": "stream",
     "text": [
      "HHPRecommender: URM Detected 627 ( 4.8%) users with no interactions.\n",
      "HHPRecommender: URM Detected 247 ( 1.1%) items with no interactions.\n",
      "HHPRecommender: Similarity column 22347 (100.0%), 1595.10 column/sec. Elapsed time 14.01 sec\n",
      "EvaluatorHoldout: Processed 10456 (100.0%) in 9.67 sec. Users per second: 1082\n"
     ]
    },
    {
     "name": "stderr",
     "output_type": "stream",
     "text": [
      "[I 2023-12-24 17:30:14,116] Trial 38 finished with value: 0.04162122302376753 and parameters: {'hybrid_lambda': 0.9846244809137491, 'topK': 126}. Best is trial 33 with value: 0.041864422796663164.\n"
     ]
    },
    {
     "name": "stdout",
     "output_type": "stream",
     "text": [
      "HHPRecommender: URM Detected 627 ( 4.8%) users with no interactions.\n",
      "HHPRecommender: URM Detected 247 ( 1.1%) items with no interactions.\n",
      "HHPRecommender: Similarity column 22347 (100.0%), 1968.51 column/sec. Elapsed time 11.35 sec\n",
      "EvaluatorHoldout: Processed 10456 (100.0%) in 9.42 sec. Users per second: 1110\n"
     ]
    },
    {
     "name": "stderr",
     "output_type": "stream",
     "text": [
      "[I 2023-12-24 17:30:37,764] Trial 39 finished with value: 0.041711241210333046 and parameters: {'hybrid_lambda': 0.9052304404329684, 'topK': 70}. Best is trial 33 with value: 0.041864422796663164.\n"
     ]
    },
    {
     "name": "stdout",
     "output_type": "stream",
     "text": [
      "HHPRecommender: URM Detected 627 ( 4.8%) users with no interactions.\n",
      "HHPRecommender: URM Detected 247 ( 1.1%) items with no interactions.\n",
      "HHPRecommender: Similarity column 22347 (100.0%), 1708.65 column/sec. Elapsed time 13.08 sec\n",
      "EvaluatorHoldout: Processed 10456 (100.0%) in 9.81 sec. Users per second: 1066\n"
     ]
    },
    {
     "name": "stderr",
     "output_type": "stream",
     "text": [
      "[I 2023-12-24 17:31:04,790] Trial 40 finished with value: 0.041133920222004246 and parameters: {'hybrid_lambda': 0.7737406716465345, 'topK': 95}. Best is trial 33 with value: 0.041864422796663164.\n"
     ]
    },
    {
     "name": "stdout",
     "output_type": "stream",
     "text": [
      "HHPRecommender: URM Detected 627 ( 4.8%) users with no interactions.\n",
      "HHPRecommender: URM Detected 247 ( 1.1%) items with no interactions.\n",
      "HHPRecommender: Similarity column 22347 (100.0%), 1958.94 column/sec. Elapsed time 11.41 sec\n",
      "EvaluatorHoldout: Processed 10456 (100.0%) in 9.65 sec. Users per second: 1083\n"
     ]
    },
    {
     "name": "stderr",
     "output_type": "stream",
     "text": [
      "[I 2023-12-24 17:31:28,736] Trial 41 finished with value: 0.04176513674840037 and parameters: {'hybrid_lambda': 0.906819516087688, 'topK': 71}. Best is trial 33 with value: 0.041864422796663164.\n"
     ]
    },
    {
     "name": "stdout",
     "output_type": "stream",
     "text": [
      "HHPRecommender: URM Detected 627 ( 4.8%) users with no interactions.\n",
      "HHPRecommender: URM Detected 247 ( 1.1%) items with no interactions.\n",
      "HHPRecommender: Similarity column 22347 (100.0%), 1433.01 column/sec. Elapsed time 15.59 sec\n",
      "EvaluatorHoldout: Processed 10456 (100.0%) in 9.41 sec. Users per second: 1112\n"
     ]
    },
    {
     "name": "stderr",
     "output_type": "stream",
     "text": [
      "[I 2023-12-24 17:31:59,168] Trial 42 finished with value: 0.04187703422353435 and parameters: {'hybrid_lambda': 0.9279995212052893, 'topK': 153}. Best is trial 42 with value: 0.04187703422353435.\n"
     ]
    },
    {
     "name": "stdout",
     "output_type": "stream",
     "text": [
      "HHPRecommender: URM Detected 627 ( 4.8%) users with no interactions.\n",
      "HHPRecommender: URM Detected 247 ( 1.1%) items with no interactions.\n",
      "HHPRecommender: Similarity column 22347 (100.0%), 1430.11 column/sec. Elapsed time 15.63 sec\n",
      "EvaluatorHoldout: Processed 10456 (100.0%) in 9.57 sec. Users per second: 1093\n"
     ]
    },
    {
     "name": "stderr",
     "output_type": "stream",
     "text": [
      "[I 2023-12-24 17:32:30,279] Trial 43 finished with value: 0.04114455055804561 and parameters: {'hybrid_lambda': 0.8221711659438312, 'topK': 154}. Best is trial 42 with value: 0.04187703422353435.\n"
     ]
    },
    {
     "name": "stdout",
     "output_type": "stream",
     "text": [
      "HHPRecommender: URM Detected 627 ( 4.8%) users with no interactions.\n",
      "HHPRecommender: URM Detected 247 ( 1.1%) items with no interactions.\n",
      "HHPRecommender: Similarity column 22347 (100.0%), 1251.89 column/sec. Elapsed time 17.85 sec\n",
      "EvaluatorHoldout: Processed 10456 (100.0%) in 9.55 sec. Users per second: 1095\n"
     ]
    },
    {
     "name": "stderr",
     "output_type": "stream",
     "text": [
      "[I 2023-12-24 17:33:04,109] Trial 44 finished with value: 0.04145811700732382 and parameters: {'hybrid_lambda': 0.9564137039209059, 'topK': 192}. Best is trial 42 with value: 0.04187703422353435.\n"
     ]
    },
    {
     "name": "stdout",
     "output_type": "stream",
     "text": [
      "HHPRecommender: URM Detected 627 ( 4.8%) users with no interactions.\n",
      "HHPRecommender: URM Detected 247 ( 1.1%) items with no interactions.\n",
      "HHPRecommender: Similarity column 22347 (100.0%), 1057.50 column/sec. Elapsed time 21.13 sec\n",
      "EvaluatorHoldout: Processed 10456 (100.0%) in 10.17 sec. Users per second: 1028\n"
     ]
    },
    {
     "name": "stderr",
     "output_type": "stream",
     "text": [
      "[I 2023-12-24 17:33:44,515] Trial 45 finished with value: 0.04074351629200578 and parameters: {'hybrid_lambda': 0.8962336916968402, 'topK': 269}. Best is trial 42 with value: 0.04187703422353435.\n"
     ]
    },
    {
     "name": "stdout",
     "output_type": "stream",
     "text": [
      "HHPRecommender: URM Detected 627 ( 4.8%) users with no interactions.\n",
      "HHPRecommender: URM Detected 247 ( 1.1%) items with no interactions.\n",
      "HHPRecommender: Similarity column 22347 (100.0%), 1686.10 column/sec. Elapsed time 13.25 sec\n",
      "EvaluatorHoldout: Processed 10456 (100.0%) in 10.07 sec. Users per second: 1038\n"
     ]
    },
    {
     "name": "stderr",
     "output_type": "stream",
     "text": [
      "[I 2023-12-24 17:34:12,327] Trial 46 finished with value: 0.04046469483610896 and parameters: {'hybrid_lambda': 0.7365862615523086, 'topK': 97}. Best is trial 42 with value: 0.04187703422353435.\n"
     ]
    },
    {
     "name": "stdout",
     "output_type": "stream",
     "text": [
      "HHPRecommender: URM Detected 627 ( 4.8%) users with no interactions.\n",
      "HHPRecommender: URM Detected 247 ( 1.1%) items with no interactions.\n",
      "HHPRecommender: Similarity column 22347 (100.0%), 765.36 column/sec. Elapsed time 29.20 sec\n",
      "EvaluatorHoldout: Processed 10456 (100.0%) in 11.35 sec. Users per second: 921\n"
     ]
    },
    {
     "name": "stderr",
     "output_type": "stream",
     "text": [
      "[I 2023-12-24 17:35:05,262] Trial 47 finished with value: 0.039384393103071715 and parameters: {'hybrid_lambda': 0.892793174531852, 'topK': 373}. Best is trial 42 with value: 0.04187703422353435.\n"
     ]
    },
    {
     "name": "stdout",
     "output_type": "stream",
     "text": [
      "HHPRecommender: URM Detected 627 ( 4.8%) users with no interactions.\n",
      "HHPRecommender: URM Detected 247 ( 1.1%) items with no interactions.\n",
      "HHPRecommender: Similarity column 22347 (100.0%), 1531.47 column/sec. Elapsed time 14.59 sec\n",
      "EvaluatorHoldout: Processed 10456 (100.0%) in 9.82 sec. Users per second: 1065\n"
     ]
    },
    {
     "name": "stderr",
     "output_type": "stream",
     "text": [
      "[I 2023-12-24 17:35:34,089] Trial 48 finished with value: 0.04154518253361078 and parameters: {'hybrid_lambda': 0.9867879150928042, 'topK': 134}. Best is trial 42 with value: 0.04187703422353435.\n"
     ]
    },
    {
     "name": "stdout",
     "output_type": "stream",
     "text": [
      "HHPRecommender: URM Detected 627 ( 4.8%) users with no interactions.\n",
      "HHPRecommender: URM Detected 247 ( 1.1%) items with no interactions.\n",
      "HHPRecommender: Similarity column 22347 (100.0%), 1262.71 column/sec. Elapsed time 17.70 sec\n",
      "EvaluatorHoldout: Processed 10456 (100.0%) in 10.56 sec. Users per second: 991\n"
     ]
    },
    {
     "name": "stderr",
     "output_type": "stream",
     "text": [
      "[I 2023-12-24 17:36:10,044] Trial 49 finished with value: 0.04026236170316172 and parameters: {'hybrid_lambda': 0.7745487105983587, 'topK': 199}. Best is trial 42 with value: 0.04187703422353435.\n"
     ]
    },
    {
     "name": "stdout",
     "output_type": "stream",
     "text": [
      "HHPRecommender: URM Detected 627 ( 4.8%) users with no interactions.\n",
      "HHPRecommender: URM Detected 247 ( 1.1%) items with no interactions.\n",
      "HHPRecommender: Similarity column 22347 (100.0%), 2102.88 column/sec. Elapsed time 10.63 sec\n",
      "EvaluatorHoldout: Processed 10456 (100.0%) in 9.50 sec. Users per second: 1101\n"
     ]
    },
    {
     "name": "stderr",
     "output_type": "stream",
     "text": [
      "[I 2023-12-24 17:36:33,097] Trial 50 finished with value: 0.041815521732794535 and parameters: {'hybrid_lambda': 0.8385655692994797, 'topK': 67}. Best is trial 42 with value: 0.04187703422353435.\n"
     ]
    },
    {
     "name": "stdout",
     "output_type": "stream",
     "text": [
      "HHPRecommender: URM Detected 627 ( 4.8%) users with no interactions.\n",
      "HHPRecommender: URM Detected 247 ( 1.1%) items with no interactions.\n",
      "HHPRecommender: Similarity column 22347 (100.0%), 2071.29 column/sec. Elapsed time 10.79 sec\n",
      "EvaluatorHoldout: Processed 10456 (100.0%) in 9.37 sec. Users per second: 1116\n"
     ]
    },
    {
     "name": "stderr",
     "output_type": "stream",
     "text": [
      "[I 2023-12-24 17:36:55,938] Trial 51 finished with value: 0.04157821589487667 and parameters: {'hybrid_lambda': 0.9474217709573372, 'topK': 68}. Best is trial 42 with value: 0.04187703422353435.\n"
     ]
    },
    {
     "name": "stdout",
     "output_type": "stream",
     "text": [
      "HHPRecommender: URM Detected 627 ( 4.8%) users with no interactions.\n",
      "HHPRecommender: URM Detected 247 ( 1.1%) items with no interactions.\n",
      "HHPRecommender: Similarity column 22347 (100.0%), 1748.55 column/sec. Elapsed time 12.78 sec\n",
      "EvaluatorHoldout: Processed 10456 (100.0%) in 9.14 sec. Users per second: 1144\n"
     ]
    },
    {
     "name": "stderr",
     "output_type": "stream",
     "text": [
      "[I 2023-12-24 17:37:21,952] Trial 52 finished with value: 0.041647182144983 and parameters: {'hybrid_lambda': 0.83901721232673, 'topK': 100}. Best is trial 42 with value: 0.04187703422353435.\n"
     ]
    },
    {
     "name": "stdout",
     "output_type": "stream",
     "text": [
      "HHPRecommender: URM Detected 627 ( 4.8%) users with no interactions.\n",
      "HHPRecommender: URM Detected 247 ( 1.1%) items with no interactions.\n",
      "HHPRecommender: Similarity column 22347 (100.0%), 1427.74 column/sec. Elapsed time 15.65 sec\n",
      "EvaluatorHoldout: Processed 10456 (100.0%) in 9.39 sec. Users per second: 1113\n"
     ]
    },
    {
     "name": "stderr",
     "output_type": "stream",
     "text": [
      "[I 2023-12-24 17:37:52,576] Trial 53 finished with value: 0.041612668658384595 and parameters: {'hybrid_lambda': 0.898502381116377, 'topK': 157}. Best is trial 42 with value: 0.04187703422353435.\n"
     ]
    },
    {
     "name": "stdout",
     "output_type": "stream",
     "text": [
      "HHPRecommender: URM Detected 627 ( 4.8%) users with no interactions.\n",
      "HHPRecommender: URM Detected 247 ( 1.1%) items with no interactions.\n",
      "HHPRecommender: Similarity column 22347 (100.0%), 1922.95 column/sec. Elapsed time 11.62 sec\n",
      "EvaluatorHoldout: Processed 10456 (100.0%) in 9.60 sec. Users per second: 1090\n"
     ]
    },
    {
     "name": "stderr",
     "output_type": "stream",
     "text": [
      "[I 2023-12-24 17:38:17,368] Trial 54 finished with value: 0.0416846217255078 and parameters: {'hybrid_lambda': 0.8404067102378737, 'topK': 83}. Best is trial 42 with value: 0.04187703422353435.\n"
     ]
    },
    {
     "name": "stdout",
     "output_type": "stream",
     "text": [
      "HHPRecommender: URM Detected 627 ( 4.8%) users with no interactions.\n",
      "HHPRecommender: URM Detected 247 ( 1.1%) items with no interactions.\n",
      "HHPRecommender: Similarity column 22347 (100.0%), 1635.05 column/sec. Elapsed time 13.67 sec\n",
      "EvaluatorHoldout: Processed 10456 (100.0%) in 9.86 sec. Users per second: 1060\n"
     ]
    },
    {
     "name": "stderr",
     "output_type": "stream",
     "text": [
      "[I 2023-12-24 17:38:45,539] Trial 55 finished with value: 0.04173162898798954 and parameters: {'hybrid_lambda': 0.8767540556766159, 'topK': 121}. Best is trial 42 with value: 0.04187703422353435.\n"
     ]
    },
    {
     "name": "stdout",
     "output_type": "stream",
     "text": [
      "HHPRecommender: URM Detected 627 ( 4.8%) users with no interactions.\n",
      "HHPRecommender: URM Detected 247 ( 1.1%) items with no interactions.\n",
      "HHPRecommender: Similarity column 22347 (100.0%), 2106.11 column/sec. Elapsed time 10.61 sec\n",
      "EvaluatorHoldout: Processed 10456 (100.0%) in 9.33 sec. Users per second: 1120\n"
     ]
    },
    {
     "name": "stderr",
     "output_type": "stream",
     "text": [
      "[I 2023-12-24 17:39:07,959] Trial 56 finished with value: 0.04144485280722905 and parameters: {'hybrid_lambda': 0.954897343193407, 'topK': 64}. Best is trial 42 with value: 0.04187703422353435.\n"
     ]
    },
    {
     "name": "stdout",
     "output_type": "stream",
     "text": [
      "HHPRecommender: URM Detected 627 ( 4.8%) users with no interactions.\n",
      "HHPRecommender: URM Detected 247 ( 1.1%) items with no interactions.\n",
      "HHPRecommender: Similarity column 22347 (100.0%), 1409.85 column/sec. Elapsed time 15.85 sec\n",
      "EvaluatorHoldout: Processed 10456 (100.0%) in 10.26 sec. Users per second: 1020\n"
     ]
    },
    {
     "name": "stderr",
     "output_type": "stream",
     "text": [
      "[I 2023-12-24 17:39:40,498] Trial 57 finished with value: 0.040871683760217145 and parameters: {'hybrid_lambda': 0.8055559665264153, 'topK': 163}. Best is trial 42 with value: 0.04187703422353435.\n"
     ]
    },
    {
     "name": "stdout",
     "output_type": "stream",
     "text": [
      "HHPRecommender: URM Detected 627 ( 4.8%) users with no interactions.\n",
      "HHPRecommender: URM Detected 247 ( 1.1%) items with no interactions.\n",
      "HHPRecommender: Similarity column 22347 (100.0%), 1891.89 column/sec. Elapsed time 11.81 sec\n",
      "EvaluatorHoldout: Processed 10456 (100.0%) in 9.58 sec. Users per second: 1091\n"
     ]
    },
    {
     "name": "stderr",
     "output_type": "stream",
     "text": [
      "[I 2023-12-24 17:40:05,166] Trial 58 finished with value: 0.04188770630670064 and parameters: {'hybrid_lambda': 0.8612731237753438, 'topK': 79}. Best is trial 58 with value: 0.04188770630670064.\n"
     ]
    },
    {
     "name": "stdout",
     "output_type": "stream",
     "text": [
      "HHPRecommender: URM Detected 627 ( 4.8%) users with no interactions.\n",
      "HHPRecommender: URM Detected 247 ( 1.1%) items with no interactions.\n",
      "HHPRecommender: Similarity column 22347 (100.0%), 1839.55 column/sec. Elapsed time 12.15 sec\n",
      "EvaluatorHoldout: Processed 10456 (100.0%) in 9.08 sec. Users per second: 1151\n"
     ]
    },
    {
     "name": "stderr",
     "output_type": "stream",
     "text": [
      "[I 2023-12-24 17:40:30,080] Trial 59 finished with value: 0.04167272759014394 and parameters: {'hybrid_lambda': 0.8465287142209631, 'topK': 90}. Best is trial 58 with value: 0.04188770630670064.\n"
     ]
    },
    {
     "name": "stdout",
     "output_type": "stream",
     "text": [
      "HHPRecommender: URM Detected 627 ( 4.8%) users with no interactions.\n",
      "HHPRecommender: URM Detected 247 ( 1.1%) items with no interactions.\n",
      "HHPRecommender: Similarity column 22347 (100.0%), 1630.81 column/sec. Elapsed time 13.70 sec\n",
      "EvaluatorHoldout: Processed 10456 (100.0%) in 9.34 sec. Users per second: 1119\n"
     ]
    },
    {
     "name": "stderr",
     "output_type": "stream",
     "text": [
      "[I 2023-12-24 17:40:58,252] Trial 60 finished with value: 0.04103095283637605 and parameters: {'hybrid_lambda': 0.7817278911390885, 'topK': 120}. Best is trial 58 with value: 0.04188770630670064.\n"
     ]
    },
    {
     "name": "stdout",
     "output_type": "stream",
     "text": [
      "HHPRecommender: URM Detected 627 ( 4.8%) users with no interactions.\n",
      "HHPRecommender: URM Detected 247 ( 1.1%) items with no interactions.\n",
      "HHPRecommender: Similarity column 22347 (100.0%), 2144.05 column/sec. Elapsed time 10.42 sec\n",
      "EvaluatorHoldout: Processed 10456 (100.0%) in 9.51 sec. Users per second: 1100\n"
     ]
    },
    {
     "name": "stderr",
     "output_type": "stream",
     "text": [
      "[I 2023-12-24 17:41:20,902] Trial 61 finished with value: 0.04193336627561052 and parameters: {'hybrid_lambda': 0.8785405710462819, 'topK': 64}. Best is trial 61 with value: 0.04193336627561052.\n"
     ]
    },
    {
     "name": "stdout",
     "output_type": "stream",
     "text": [
      "HHPRecommender: URM Detected 627 ( 4.8%) users with no interactions.\n",
      "HHPRecommender: URM Detected 247 ( 1.1%) items with no interactions.\n",
      "HHPRecommender: Similarity column 22347 (100.0%), 2175.70 column/sec. Elapsed time 10.27 sec\n",
      "EvaluatorHoldout: Processed 10456 (100.0%) in 9.39 sec. Users per second: 1113\n"
     ]
    },
    {
     "name": "stderr",
     "output_type": "stream",
     "text": [
      "[I 2023-12-24 17:41:43,169] Trial 62 finished with value: 0.04179980963311164 and parameters: {'hybrid_lambda': 0.8692852938018728, 'topK': 60}. Best is trial 61 with value: 0.04193336627561052.\n"
     ]
    },
    {
     "name": "stdout",
     "output_type": "stream",
     "text": [
      "HHPRecommender: URM Detected 627 ( 4.8%) users with no interactions.\n",
      "HHPRecommender: URM Detected 247 ( 1.1%) items with no interactions.\n",
      "HHPRecommender: Similarity column 22347 (100.0%), 2480.26 column/sec. Elapsed time 9.01 sec\n",
      "EvaluatorHoldout: Processed 10456 (100.0%) in 9.12 sec. Users per second: 1147\n"
     ]
    },
    {
     "name": "stderr",
     "output_type": "stream",
     "text": [
      "[I 2023-12-24 17:42:03,057] Trial 63 finished with value: 0.040809366688527624 and parameters: {'hybrid_lambda': 0.9659737206213267, 'topK': 42}. Best is trial 61 with value: 0.04193336627561052.\n"
     ]
    },
    {
     "name": "stdout",
     "output_type": "stream",
     "text": [
      "HHPRecommender: URM Detected 627 ( 4.8%) users with no interactions.\n",
      "HHPRecommender: URM Detected 247 ( 1.1%) items with no interactions.\n",
      "HHPRecommender: Similarity column 22347 (100.0%), 1915.49 column/sec. Elapsed time 11.67 sec\n",
      "EvaluatorHoldout: Processed 10456 (100.0%) in 9.83 sec. Users per second: 1064\n"
     ]
    },
    {
     "name": "stderr",
     "output_type": "stream",
     "text": [
      "[I 2023-12-24 17:42:28,140] Trial 64 finished with value: 0.04156696314715687 and parameters: {'hybrid_lambda': 0.8228518842017234, 'topK': 83}. Best is trial 61 with value: 0.04193336627561052.\n"
     ]
    },
    {
     "name": "stdout",
     "output_type": "stream",
     "text": [
      "HHPRecommender: URM Detected 627 ( 4.8%) users with no interactions.\n",
      "HHPRecommender: URM Detected 247 ( 1.1%) items with no interactions.\n",
      "HHPRecommender: Similarity column 22347 (100.0%), 1516.88 column/sec. Elapsed time 14.73 sec\n",
      "EvaluatorHoldout: Processed 10456 (100.0%) in 9.91 sec. Users per second: 1055\n"
     ]
    },
    {
     "name": "stderr",
     "output_type": "stream",
     "text": [
      "[I 2023-12-24 17:42:57,721] Trial 65 finished with value: 0.04170593553029519 and parameters: {'hybrid_lambda': 0.9261381629267669, 'topK': 137}. Best is trial 61 with value: 0.04193336627561052.\n"
     ]
    },
    {
     "name": "stdout",
     "output_type": "stream",
     "text": [
      "HHPRecommender: URM Detected 627 ( 4.8%) users with no interactions.\n",
      "HHPRecommender: URM Detected 247 ( 1.1%) items with no interactions.\n",
      "HHPRecommender: Similarity column 22347 (100.0%), 2188.55 column/sec. Elapsed time 10.21 sec\n",
      "EvaluatorHoldout: Processed 10456 (100.0%) in 9.41 sec. Users per second: 1111\n"
     ]
    },
    {
     "name": "stderr",
     "output_type": "stream",
     "text": [
      "[I 2023-12-24 17:43:19,884] Trial 66 finished with value: 0.04175561840395479 and parameters: {'hybrid_lambda': 0.881453197343925, 'topK': 59}. Best is trial 61 with value: 0.04193336627561052.\n"
     ]
    },
    {
     "name": "stdout",
     "output_type": "stream",
     "text": [
      "HHPRecommender: URM Detected 627 ( 4.8%) users with no interactions.\n",
      "HHPRecommender: URM Detected 247 ( 1.1%) items with no interactions.\n",
      "HHPRecommender: Similarity column 22347 (100.0%), 2399.70 column/sec. Elapsed time 9.31 sec\n",
      "EvaluatorHoldout: Processed 10456 (100.0%) in 9.58 sec. Users per second: 1091\n"
     ]
    },
    {
     "name": "stderr",
     "output_type": "stream",
     "text": [
      "[I 2023-12-24 17:43:41,095] Trial 67 finished with value: 0.04089165406662586 and parameters: {'hybrid_lambda': 0.7485273359941909, 'topK': 45}. Best is trial 61 with value: 0.04193336627561052.\n"
     ]
    },
    {
     "name": "stdout",
     "output_type": "stream",
     "text": [
      "HHPRecommender: URM Detected 627 ( 4.8%) users with no interactions.\n",
      "HHPRecommender: URM Detected 247 ( 1.1%) items with no interactions.\n",
      "HHPRecommender: Similarity column 22347 (100.0%), 2510.27 column/sec. Elapsed time 8.90 sec\n",
      "EvaluatorHoldout: Processed 10456 (100.0%) in 9.47 sec. Users per second: 1104\n"
     ]
    },
    {
     "name": "stderr",
     "output_type": "stream",
     "text": [
      "[I 2023-12-24 17:44:01,399] Trial 68 finished with value: 0.041204996599507424 and parameters: {'hybrid_lambda': 0.8564600488437392, 'topK': 38}. Best is trial 61 with value: 0.04193336627561052.\n"
     ]
    },
    {
     "name": "stdout",
     "output_type": "stream",
     "text": [
      "HHPRecommender: URM Detected 627 ( 4.8%) users with no interactions.\n",
      "HHPRecommender: URM Detected 247 ( 1.1%) items with no interactions.\n",
      "HHPRecommender: Similarity column 22347 (100.0%), 1649.64 column/sec. Elapsed time 13.55 sec\n",
      "EvaluatorHoldout: Processed 10456 (100.0%) in 9.22 sec. Users per second: 1134\n"
     ]
    },
    {
     "name": "stderr",
     "output_type": "stream",
     "text": [
      "[I 2023-12-24 17:44:28,240] Trial 69 finished with value: 0.04180402229751945 and parameters: {'hybrid_lambda': 0.9472752757959768, 'topK': 112}. Best is trial 61 with value: 0.04193336627561052.\n"
     ]
    },
    {
     "name": "stdout",
     "output_type": "stream",
     "text": [
      "HHPRecommender: URM Detected 627 ( 4.8%) users with no interactions.\n",
      "HHPRecommender: URM Detected 247 ( 1.1%) items with no interactions.\n",
      "HHPRecommender: Similarity column 22347 (100.0%), 2593.42 column/sec. Elapsed time 8.62 sec\n",
      "EvaluatorHoldout: Processed 10456 (100.0%) in 9.56 sec. Users per second: 1094\n"
     ]
    },
    {
     "name": "stderr",
     "output_type": "stream",
     "text": [
      "[I 2023-12-24 17:44:48,379] Trial 70 finished with value: 0.039778022947256415 and parameters: {'hybrid_lambda': 0.716183542316458, 'topK': 32}. Best is trial 61 with value: 0.04193336627561052.\n"
     ]
    },
    {
     "name": "stdout",
     "output_type": "stream",
     "text": [
      "HHPRecommender: URM Detected 627 ( 4.8%) users with no interactions.\n",
      "HHPRecommender: URM Detected 247 ( 1.1%) items with no interactions.\n",
      "HHPRecommender: Similarity column 22347 (100.0%), 1679.68 column/sec. Elapsed time 13.30 sec\n",
      "EvaluatorHoldout: Processed 10456 (100.0%) in 9.37 sec. Users per second: 1115\n"
     ]
    },
    {
     "name": "stderr",
     "output_type": "stream",
     "text": [
      "[I 2023-12-24 17:45:14,964] Trial 71 finished with value: 0.04175029754314432 and parameters: {'hybrid_lambda': 0.9536406780978337, 'topK': 107}. Best is trial 61 with value: 0.04193336627561052.\n"
     ]
    },
    {
     "name": "stdout",
     "output_type": "stream",
     "text": [
      "HHPRecommender: URM Detected 627 ( 4.8%) users with no interactions.\n",
      "HHPRecommender: URM Detected 247 ( 1.1%) items with no interactions.\n",
      "HHPRecommender: Similarity column 22347 (100.0%), 1918.18 column/sec. Elapsed time 11.65 sec\n",
      "EvaluatorHoldout: Processed 10456 (100.0%) in 9.48 sec. Users per second: 1103\n"
     ]
    },
    {
     "name": "stderr",
     "output_type": "stream",
     "text": [
      "[I 2023-12-24 17:45:39,264] Trial 72 finished with value: 0.041872563485991776 and parameters: {'hybrid_lambda': 0.9226275587496224, 'topK': 79}. Best is trial 61 with value: 0.04193336627561052.\n"
     ]
    },
    {
     "name": "stdout",
     "output_type": "stream",
     "text": [
      "HHPRecommender: URM Detected 627 ( 4.8%) users with no interactions.\n",
      "HHPRecommender: URM Detected 247 ( 1.1%) items with no interactions.\n",
      "HHPRecommender: Similarity column 22347 (100.0%), 2239.50 column/sec. Elapsed time 9.98 sec\n",
      "EvaluatorHoldout: Processed 10456 (100.0%) in 9.40 sec. Users per second: 1112\n"
     ]
    },
    {
     "name": "stderr",
     "output_type": "stream",
     "text": [
      "[I 2023-12-24 17:46:00,917] Trial 73 finished with value: 0.04150894602931759 and parameters: {'hybrid_lambda': 0.907327686062123, 'topK': 54}. Best is trial 61 with value: 0.04193336627561052.\n"
     ]
    },
    {
     "name": "stdout",
     "output_type": "stream",
     "text": [
      "HHPRecommender: URM Detected 627 ( 4.8%) users with no interactions.\n",
      "HHPRecommender: URM Detected 247 ( 1.1%) items with no interactions.\n",
      "HHPRecommender: Similarity column 22347 (100.0%), 1953.69 column/sec. Elapsed time 11.44 sec\n",
      "EvaluatorHoldout: Processed 10456 (100.0%) in 9.35 sec. Users per second: 1118\n"
     ]
    },
    {
     "name": "stderr",
     "output_type": "stream",
     "text": [
      "[I 2023-12-24 17:46:24,626] Trial 74 finished with value: 0.04136030728920031 and parameters: {'hybrid_lambda': 0.987048174496158, 'topK': 79}. Best is trial 61 with value: 0.04193336627561052.\n"
     ]
    },
    {
     "name": "stdout",
     "output_type": "stream",
     "text": [
      "HHPRecommender: URM Detected 627 ( 4.8%) users with no interactions.\n",
      "HHPRecommender: URM Detected 247 ( 1.1%) items with no interactions.\n",
      "HHPRecommender: Similarity column 22347 (100.0%), 1879.13 column/sec. Elapsed time 11.89 sec\n",
      "EvaluatorHoldout: Processed 10456 (100.0%) in 9.48 sec. Users per second: 1103\n"
     ]
    },
    {
     "name": "stderr",
     "output_type": "stream",
     "text": [
      "[I 2023-12-24 17:46:49,172] Trial 75 finished with value: 0.04180992382288341 and parameters: {'hybrid_lambda': 0.9211773514325886, 'topK': 84}. Best is trial 61 with value: 0.04193336627561052.\n"
     ]
    },
    {
     "name": "stdout",
     "output_type": "stream",
     "text": [
      "HHPRecommender: URM Detected 627 ( 4.8%) users with no interactions.\n",
      "HHPRecommender: URM Detected 247 ( 1.1%) items with no interactions.\n",
      "HHPRecommender: Similarity column 22347 (100.0%), 1479.51 column/sec. Elapsed time 15.10 sec\n",
      "EvaluatorHoldout: Processed 10456 (100.0%) in 9.42 sec. Users per second: 1110\n"
     ]
    },
    {
     "name": "stderr",
     "output_type": "stream",
     "text": [
      "[I 2023-12-24 17:47:19,404] Trial 76 finished with value: 0.04129649491140549 and parameters: {'hybrid_lambda': 0.8201774498662175, 'topK': 143}. Best is trial 61 with value: 0.04193336627561052.\n"
     ]
    },
    {
     "name": "stdout",
     "output_type": "stream",
     "text": [
      "HHPRecommender: URM Detected 627 ( 4.8%) users with no interactions.\n",
      "HHPRecommender: URM Detected 247 ( 1.1%) items with no interactions.\n",
      "HHPRecommender: Similarity column 22347 (100.0%), 2136.17 column/sec. Elapsed time 10.46 sec\n",
      "EvaluatorHoldout: Processed 10456 (100.0%) in 9.42 sec. Users per second: 1110\n"
     ]
    },
    {
     "name": "stderr",
     "output_type": "stream",
     "text": [
      "[I 2023-12-24 17:47:42,070] Trial 77 finished with value: 0.041944129443412644 and parameters: {'hybrid_lambda': 0.8869616170436384, 'topK': 65}. Best is trial 77 with value: 0.041944129443412644.\n"
     ]
    },
    {
     "name": "stdout",
     "output_type": "stream",
     "text": [
      "HHPRecommender: URM Detected 627 ( 4.8%) users with no interactions.\n",
      "HHPRecommender: URM Detected 247 ( 1.1%) items with no interactions.\n",
      "HHPRecommender: Similarity column 22347 (100.0%), 1375.94 column/sec. Elapsed time 16.24 sec\n",
      "EvaluatorHoldout: Processed 10456 (100.0%) in 9.52 sec. Users per second: 1098\n"
     ]
    },
    {
     "name": "stderr",
     "output_type": "stream",
     "text": [
      "[I 2023-12-24 17:48:14,032] Trial 78 finished with value: 0.041479267618805216 and parameters: {'hybrid_lambda': 0.8716756835836824, 'topK': 170}. Best is trial 77 with value: 0.041944129443412644.\n"
     ]
    },
    {
     "name": "stdout",
     "output_type": "stream",
     "text": [
      "HHPRecommender: URM Detected 627 ( 4.8%) users with no interactions.\n",
      "HHPRecommender: URM Detected 247 ( 1.1%) items with no interactions.\n",
      "HHPRecommender: Similarity column 22347 (100.0%), 2249.38 column/sec. Elapsed time 9.93 sec\n",
      "EvaluatorHoldout: Processed 10456 (100.0%) in 9.53 sec. Users per second: 1097\n"
     ]
    },
    {
     "name": "stderr",
     "output_type": "stream",
     "text": [
      "[I 2023-12-24 17:48:36,229] Trial 79 finished with value: 0.041711214643980976 and parameters: {'hybrid_lambda': 0.7922089322009065, 'topK': 57}. Best is trial 77 with value: 0.041944129443412644.\n"
     ]
    },
    {
     "name": "stdout",
     "output_type": "stream",
     "text": [
      "HHPRecommender: URM Detected 627 ( 4.8%) users with no interactions.\n",
      "HHPRecommender: URM Detected 247 ( 1.1%) items with no interactions.\n",
      "HHPRecommender: Similarity column 22347 (100.0%), 1787.60 column/sec. Elapsed time 12.50 sec\n",
      "EvaluatorHoldout: Processed 10456 (100.0%) in 8.98 sec. Users per second: 1165\n"
     ]
    },
    {
     "name": "stderr",
     "output_type": "stream",
     "text": [
      "[I 2023-12-24 17:49:01,243] Trial 80 finished with value: 0.04189272734725166 and parameters: {'hybrid_lambda': 0.9322144535959209, 'topK': 96}. Best is trial 77 with value: 0.041944129443412644.\n"
     ]
    },
    {
     "name": "stdout",
     "output_type": "stream",
     "text": [
      "HHPRecommender: URM Detected 627 ( 4.8%) users with no interactions.\n",
      "HHPRecommender: URM Detected 247 ( 1.1%) items with no interactions.\n",
      "HHPRecommender: Similarity column 22347 (100.0%), 1799.95 column/sec. Elapsed time 12.42 sec\n",
      "EvaluatorHoldout: Processed 10456 (100.0%) in 8.99 sec. Users per second: 1163\n"
     ]
    },
    {
     "name": "stderr",
     "output_type": "stream",
     "text": [
      "[I 2023-12-24 17:49:26,172] Trial 81 finished with value: 0.041884355151140425 and parameters: {'hybrid_lambda': 0.930280710326157, 'topK': 93}. Best is trial 77 with value: 0.041944129443412644.\n"
     ]
    },
    {
     "name": "stdout",
     "output_type": "stream",
     "text": [
      "HHPRecommender: URM Detected 627 ( 4.8%) users with no interactions.\n",
      "HHPRecommender: URM Detected 247 ( 1.1%) items with no interactions.\n",
      "HHPRecommender: Similarity column 22347 (100.0%), 1775.65 column/sec. Elapsed time 12.59 sec\n",
      "EvaluatorHoldout: Processed 10456 (100.0%) in 8.93 sec. Users per second: 1171\n"
     ]
    },
    {
     "name": "stderr",
     "output_type": "stream",
     "text": [
      "[I 2023-12-24 17:49:51,120] Trial 82 finished with value: 0.04155085255219202 and parameters: {'hybrid_lambda': 0.9648198033375112, 'topK': 95}. Best is trial 77 with value: 0.041944129443412644.\n"
     ]
    },
    {
     "name": "stdout",
     "output_type": "stream",
     "text": [
      "HHPRecommender: URM Detected 627 ( 4.8%) users with no interactions.\n",
      "HHPRecommender: URM Detected 247 ( 1.1%) items with no interactions.\n",
      "HHPRecommender: Similarity column 22347 (100.0%), 1998.86 column/sec. Elapsed time 11.18 sec\n",
      "EvaluatorHoldout: Processed 10456 (100.0%) in 9.48 sec. Users per second: 1103\n"
     ]
    },
    {
     "name": "stderr",
     "output_type": "stream",
     "text": [
      "[I 2023-12-24 17:50:14,603] Trial 83 finished with value: 0.041792670874777386 and parameters: {'hybrid_lambda': 0.9375817145740948, 'topK': 73}. Best is trial 77 with value: 0.041944129443412644.\n"
     ]
    },
    {
     "name": "stdout",
     "output_type": "stream",
     "text": [
      "HHPRecommender: URM Detected 627 ( 4.8%) users with no interactions.\n",
      "HHPRecommender: URM Detected 247 ( 1.1%) items with no interactions.\n",
      "HHPRecommender: Similarity column 22347 (100.0%), 2379.08 column/sec. Elapsed time 9.39 sec\n",
      "EvaluatorHoldout: Processed 10456 (100.0%) in 9.21 sec. Users per second: 1135\n"
     ]
    },
    {
     "name": "stderr",
     "output_type": "stream",
     "text": [
      "[I 2023-12-24 17:50:35,289] Trial 84 finished with value: 0.04145792724766578 and parameters: {'hybrid_lambda': 0.9191959724765233, 'topK': 48}. Best is trial 77 with value: 0.041944129443412644.\n"
     ]
    },
    {
     "name": "stdout",
     "output_type": "stream",
     "text": [
      "HHPRecommender: URM Detected 627 ( 4.8%) users with no interactions.\n",
      "HHPRecommender: URM Detected 247 ( 1.1%) items with no interactions.\n",
      "HHPRecommender: Similarity column 22347 (100.0%), 1692.09 column/sec. Elapsed time 13.21 sec\n",
      "EvaluatorHoldout: Processed 10456 (100.0%) in 9.14 sec. Users per second: 1144\n"
     ]
    },
    {
     "name": "stderr",
     "output_type": "stream",
     "text": [
      "[I 2023-12-24 17:51:01,813] Trial 85 finished with value: 0.041731811157261246 and parameters: {'hybrid_lambda': 0.8863376848716539, 'topK': 110}. Best is trial 77 with value: 0.041944129443412644.\n"
     ]
    },
    {
     "name": "stdout",
     "output_type": "stream",
     "text": [
      "HHPRecommender: URM Detected 627 ( 4.8%) users with no interactions.\n",
      "HHPRecommender: URM Detected 247 ( 1.1%) items with no interactions.\n",
      "HHPRecommender: Similarity column 22347 (100.0%), 1752.74 column/sec. Elapsed time 12.75 sec\n",
      "EvaluatorHoldout: Processed 10456 (100.0%) in 8.86 sec. Users per second: 1181\n"
     ]
    },
    {
     "name": "stderr",
     "output_type": "stream",
     "text": [
      "[I 2023-12-24 17:51:26,847] Trial 86 finished with value: 0.04139933705565935 and parameters: {'hybrid_lambda': 0.9886010333012065, 'topK': 97}. Best is trial 77 with value: 0.041944129443412644.\n"
     ]
    },
    {
     "name": "stdout",
     "output_type": "stream",
     "text": [
      "HHPRecommender: URM Detected 627 ( 4.8%) users with no interactions.\n",
      "HHPRecommender: URM Detected 247 ( 1.1%) items with no interactions.\n",
      "HHPRecommender: Similarity column 22347 (100.0%), 2153.88 column/sec. Elapsed time 10.38 sec\n",
      "EvaluatorHoldout: Processed 10456 (100.0%) in 9.54 sec. Users per second: 1096\n"
     ]
    },
    {
     "name": "stderr",
     "output_type": "stream",
     "text": [
      "[I 2023-12-24 17:51:49,523] Trial 87 finished with value: 0.04187749723709994 and parameters: {'hybrid_lambda': 0.8653135579331654, 'topK': 64}. Best is trial 77 with value: 0.041944129443412644.\n"
     ]
    },
    {
     "name": "stdout",
     "output_type": "stream",
     "text": [
      "HHPRecommender: URM Detected 627 ( 4.8%) users with no interactions.\n",
      "HHPRecommender: URM Detected 247 ( 1.1%) items with no interactions.\n",
      "HHPRecommender: Similarity column 22347 (100.0%), 2356.99 column/sec. Elapsed time 9.48 sec\n",
      "EvaluatorHoldout: Processed 10456 (100.0%) in 9.33 sec. Users per second: 1121\n"
     ]
    },
    {
     "name": "stderr",
     "output_type": "stream",
     "text": [
      "[I 2023-12-24 17:52:10,633] Trial 88 finished with value: 0.04173064982815419 and parameters: {'hybrid_lambda': 0.8575768518588153, 'topK': 51}. Best is trial 77 with value: 0.041944129443412644.\n"
     ]
    },
    {
     "name": "stdout",
     "output_type": "stream",
     "text": [
      "HHPRecommender: URM Detected 627 ( 4.8%) users with no interactions.\n",
      "HHPRecommender: URM Detected 247 ( 1.1%) items with no interactions.\n",
      "HHPRecommender: Similarity column 22347 (100.0%), 2069.87 column/sec. Elapsed time 10.80 sec\n",
      "EvaluatorHoldout: Processed 10456 (100.0%) in 9.50 sec. Users per second: 1101\n"
     ]
    },
    {
     "name": "stderr",
     "output_type": "stream",
     "text": [
      "[I 2023-12-24 17:52:33,702] Trial 89 finished with value: 0.04176670036798234 and parameters: {'hybrid_lambda': 0.9012934603850533, 'topK': 69}. Best is trial 77 with value: 0.041944129443412644.\n"
     ]
    },
    {
     "name": "stdout",
     "output_type": "stream",
     "text": [
      "HHPRecommender: URM Detected 627 ( 4.8%) users with no interactions.\n",
      "HHPRecommender: URM Detected 247 ( 1.1%) items with no interactions.\n",
      "HHPRecommender: Similarity column 22347 (100.0%), 2146.05 column/sec. Elapsed time 10.41 sec\n",
      "EvaluatorHoldout: Processed 10456 (100.0%) in 9.41 sec. Users per second: 1111\n"
     ]
    },
    {
     "name": "stderr",
     "output_type": "stream",
     "text": [
      "[I 2023-12-24 17:52:55,938] Trial 90 finished with value: 0.041372448112119674 and parameters: {'hybrid_lambda': 0.9636140208298365, 'topK': 61}. Best is trial 77 with value: 0.041944129443412644.\n"
     ]
    },
    {
     "name": "stdout",
     "output_type": "stream",
     "text": [
      "HHPRecommender: URM Detected 627 ( 4.8%) users with no interactions.\n",
      "HHPRecommender: URM Detected 247 ( 1.1%) items with no interactions.\n",
      "HHPRecommender: Similarity column 22347 (100.0%), 1879.07 column/sec. Elapsed time 11.89 sec\n",
      "EvaluatorHoldout: Processed 10456 (100.0%) in 9.56 sec. Users per second: 1093\n"
     ]
    },
    {
     "name": "stderr",
     "output_type": "stream",
     "text": [
      "[I 2023-12-24 17:53:20,638] Trial 91 finished with value: 0.04171412555713493 and parameters: {'hybrid_lambda': 0.9353760796227165, 'topK': 86}. Best is trial 77 with value: 0.041944129443412644.\n"
     ]
    },
    {
     "name": "stdout",
     "output_type": "stream",
     "text": [
      "HHPRecommender: URM Detected 627 ( 4.8%) users with no interactions.\n",
      "HHPRecommender: URM Detected 247 ( 1.1%) items with no interactions.\n",
      "HHPRecommender: Similarity column 22347 (100.0%), 1987.81 column/sec. Elapsed time 11.24 sec\n",
      "EvaluatorHoldout: Processed 10456 (100.0%) in 9.55 sec. Users per second: 1095\n"
     ]
    },
    {
     "name": "stderr",
     "output_type": "stream",
     "text": [
      "[I 2023-12-24 17:53:44,429] Trial 92 finished with value: 0.04186386110807543 and parameters: {'hybrid_lambda': 0.8865524056764507, 'topK': 73}. Best is trial 77 with value: 0.041944129443412644.\n"
     ]
    },
    {
     "name": "stdout",
     "output_type": "stream",
     "text": [
      "HHPRecommender: URM Detected 627 ( 4.8%) users with no interactions.\n",
      "HHPRecommender: URM Detected 247 ( 1.1%) items with no interactions.\n",
      "HHPRecommender: Similarity column 22347 (100.0%), 1961.59 column/sec. Elapsed time 11.39 sec\n",
      "EvaluatorHoldout: Processed 10456 (100.0%) in 9.48 sec. Users per second: 1103\n"
     ]
    },
    {
     "name": "stderr",
     "output_type": "stream",
     "text": [
      "[I 2023-12-24 17:54:08,344] Trial 93 finished with value: 0.041903915576687704 and parameters: {'hybrid_lambda': 0.8883010723334698, 'topK': 74}. Best is trial 77 with value: 0.041944129443412644.\n"
     ]
    },
    {
     "name": "stdout",
     "output_type": "stream",
     "text": [
      "HHPRecommender: URM Detected 627 ( 4.8%) users with no interactions.\n",
      "HHPRecommender: URM Detected 247 ( 1.1%) items with no interactions.\n",
      "HHPRecommender: Similarity column 22347 (100.0%), 1620.96 column/sec. Elapsed time 13.79 sec\n",
      "EvaluatorHoldout: Processed 10456 (100.0%) in 9.86 sec. Users per second: 1060\n"
     ]
    },
    {
     "name": "stderr",
     "output_type": "stream",
     "text": [
      "[I 2023-12-24 17:54:36,593] Trial 94 finished with value: 0.04170908174542499 and parameters: {'hybrid_lambda': 0.8662702233696613, 'topK': 120}. Best is trial 77 with value: 0.041944129443412644.\n"
     ]
    },
    {
     "name": "stdout",
     "output_type": "stream",
     "text": [
      "HHPRecommender: URM Detected 627 ( 4.8%) users with no interactions.\n",
      "HHPRecommender: URM Detected 247 ( 1.1%) items with no interactions.\n",
      "HHPRecommender: Similarity column 22347 (100.0%), 1799.56 column/sec. Elapsed time 12.42 sec\n",
      "EvaluatorHoldout: Processed 10456 (100.0%) in 9.22 sec. Users per second: 1135\n"
     ]
    },
    {
     "name": "stderr",
     "output_type": "stream",
     "text": [
      "[I 2023-12-24 17:55:02,154] Trial 95 finished with value: 0.04157311136007628 and parameters: {'hybrid_lambda': 0.8351314656365546, 'topK': 94}. Best is trial 77 with value: 0.041944129443412644.\n"
     ]
    },
    {
     "name": "stdout",
     "output_type": "stream",
     "text": [
      "HHPRecommender: URM Detected 627 ( 4.8%) users with no interactions.\n",
      "HHPRecommender: URM Detected 247 ( 1.1%) items with no interactions.\n",
      "HHPRecommender: Similarity column 22347 (100.0%), 1532.03 column/sec. Elapsed time 14.59 sec\n",
      "EvaluatorHoldout: Processed 10456 (100.0%) in 9.55 sec. Users per second: 1095\n"
     ]
    },
    {
     "name": "stderr",
     "output_type": "stream",
     "text": [
      "[I 2023-12-24 17:55:31,655] Trial 96 finished with value: 0.04112787068410686 and parameters: {'hybrid_lambda': 0.8020065775128129, 'topK': 133}. Best is trial 77 with value: 0.041944129443412644.\n"
     ]
    },
    {
     "name": "stdout",
     "output_type": "stream",
     "text": [
      "HHPRecommender: URM Detected 627 ( 4.8%) users with no interactions.\n",
      "HHPRecommender: URM Detected 247 ( 1.1%) items with no interactions.\n",
      "HHPRecommender: Similarity column 22347 (100.0%), 2249.22 column/sec. Elapsed time 9.94 sec\n",
      "EvaluatorHoldout: Processed 10456 (100.0%) in 9.40 sec. Users per second: 1113\n"
     ]
    },
    {
     "name": "stderr",
     "output_type": "stream",
     "text": [
      "[I 2023-12-24 17:55:53,321] Trial 97 finished with value: 0.04150216022394728 and parameters: {'hybrid_lambda': 0.9138279927260389, 'topK': 55}. Best is trial 77 with value: 0.041944129443412644.\n"
     ]
    },
    {
     "name": "stdout",
     "output_type": "stream",
     "text": [
      "HHPRecommender: URM Detected 627 ( 4.8%) users with no interactions.\n",
      "HHPRecommender: URM Detected 247 ( 1.1%) items with no interactions.\n",
      "HHPRecommender: Similarity column 22347 (100.0%), 2109.81 column/sec. Elapsed time 10.59 sec\n",
      "EvaluatorHoldout: Processed 10456 (100.0%) in 9.48 sec. Users per second: 1103\n"
     ]
    },
    {
     "name": "stderr",
     "output_type": "stream",
     "text": [
      "[I 2023-12-24 17:56:15,954] Trial 98 finished with value: 0.04172620186177048 and parameters: {'hybrid_lambda': 0.9345464764612751, 'topK': 64}. Best is trial 77 with value: 0.041944129443412644.\n"
     ]
    },
    {
     "name": "stdout",
     "output_type": "stream",
     "text": [
      "HHPRecommender: URM Detected 627 ( 4.8%) users with no interactions.\n",
      "HHPRecommender: URM Detected 247 ( 1.1%) items with no interactions.\n",
      "HHPRecommender: Similarity column 22347 (100.0%), 1673.28 column/sec. Elapsed time 13.36 sec\n",
      "EvaluatorHoldout: Processed 10456 (100.0%) in 8.95 sec. Users per second: 1168\n"
     ]
    },
    {
     "name": "stderr",
     "output_type": "stream",
     "text": [
      "[I 2023-12-24 17:56:42,020] Trial 99 finished with value: 0.0415463742242631 and parameters: {'hybrid_lambda': 0.9665379707236141, 'topK': 108}. Best is trial 77 with value: 0.041944129443412644.\n"
     ]
    },
    {
     "name": "stdout",
     "output_type": "stream",
     "text": [
      "HHPRecommender: URM Detected 627 ( 4.8%) users with no interactions.\n",
      "HHPRecommender: URM Detected 247 ( 1.1%) items with no interactions.\n",
      "HHPRecommender: Similarity column 22347 (100.0%), 1858.10 column/sec. Elapsed time 12.03 sec\n",
      "EvaluatorHoldout: Processed 10456 (100.0%) in 9.73 sec. Users per second: 1075\n"
     ]
    },
    {
     "name": "stderr",
     "output_type": "stream",
     "text": [
      "[I 2023-12-24 17:57:07,417] Trial 100 finished with value: 0.041668716070973666 and parameters: {'hybrid_lambda': 0.8581020856461229, 'topK': 88}. Best is trial 77 with value: 0.041944129443412644.\n"
     ]
    },
    {
     "name": "stdout",
     "output_type": "stream",
     "text": [
      "HHPRecommender: URM Detected 627 ( 4.8%) users with no interactions.\n",
      "HHPRecommender: URM Detected 247 ( 1.1%) items with no interactions.\n",
      "HHPRecommender: Similarity column 22347 (100.0%), 1990.67 column/sec. Elapsed time 11.23 sec\n",
      "EvaluatorHoldout: Processed 10456 (100.0%) in 9.65 sec. Users per second: 1084\n"
     ]
    },
    {
     "name": "stderr",
     "output_type": "stream",
     "text": [
      "[I 2023-12-24 17:57:31,332] Trial 101 finished with value: 0.041894082231209745 and parameters: {'hybrid_lambda': 0.8880988738238813, 'topK': 74}. Best is trial 77 with value: 0.041944129443412644.\n"
     ]
    },
    {
     "name": "stdout",
     "output_type": "stream",
     "text": [
      "HHPRecommender: URM Detected 627 ( 4.8%) users with no interactions.\n",
      "HHPRecommender: URM Detected 247 ( 1.1%) items with no interactions.\n",
      "HHPRecommender: Similarity column 22347 (100.0%), 2030.48 column/sec. Elapsed time 11.01 sec\n",
      "EvaluatorHoldout: Processed 10456 (100.0%) in 9.41 sec. Users per second: 1111\n"
     ]
    },
    {
     "name": "stderr",
     "output_type": "stream",
     "text": [
      "[I 2023-12-24 17:57:54,652] Trial 102 finished with value: 0.0417596375135114 and parameters: {'hybrid_lambda': 0.8887816720080047, 'topK': 71}. Best is trial 77 with value: 0.041944129443412644.\n"
     ]
    },
    {
     "name": "stdout",
     "output_type": "stream",
     "text": [
      "HHPRecommender: URM Detected 627 ( 4.8%) users with no interactions.\n",
      "HHPRecommender: URM Detected 247 ( 1.1%) items with no interactions.\n",
      "HHPRecommender: Similarity column 22347 (100.0%), 1983.25 column/sec. Elapsed time 11.27 sec\n",
      "EvaluatorHoldout: Processed 10456 (100.0%) in 9.45 sec. Users per second: 1106\n"
     ]
    },
    {
     "name": "stderr",
     "output_type": "stream",
     "text": [
      "[I 2023-12-24 17:58:18,338] Trial 103 finished with value: 0.04178723615817206 and parameters: {'hybrid_lambda': 0.9054572944688025, 'topK': 75}. Best is trial 77 with value: 0.041944129443412644.\n"
     ]
    },
    {
     "name": "stdout",
     "output_type": "stream",
     "text": [
      "HHPRecommender: URM Detected 627 ( 4.8%) users with no interactions.\n",
      "HHPRecommender: URM Detected 247 ( 1.1%) items with no interactions.\n",
      "HHPRecommender: Similarity column 22347 (100.0%), 2436.74 column/sec. Elapsed time 9.17 sec\n",
      "EvaluatorHoldout: Processed 10456 (100.0%) in 9.44 sec. Users per second: 1107\n"
     ]
    },
    {
     "name": "stderr",
     "output_type": "stream",
     "text": [
      "[I 2023-12-24 17:58:39,094] Trial 104 finished with value: 0.04158780634799248 and parameters: {'hybrid_lambda': 0.8256206714479628, 'topK': 45}. Best is trial 77 with value: 0.041944129443412644.\n"
     ]
    },
    {
     "name": "stdout",
     "output_type": "stream",
     "text": [
      "HHPRecommender: URM Detected 627 ( 4.8%) users with no interactions.\n",
      "HHPRecommender: URM Detected 247 ( 1.1%) items with no interactions.\n",
      "HHPRecommender: Similarity column 22347 (100.0%), 1715.50 column/sec. Elapsed time 13.03 sec\n",
      "EvaluatorHoldout: Processed 10456 (100.0%) in 9.17 sec. Users per second: 1141\n"
     ]
    },
    {
     "name": "stderr",
     "output_type": "stream",
     "text": [
      "[I 2023-12-24 17:59:05,369] Trial 105 finished with value: 0.04165588831809234 and parameters: {'hybrid_lambda': 0.849136110444391, 'topK': 102}. Best is trial 77 with value: 0.041944129443412644.\n"
     ]
    },
    {
     "name": "stdout",
     "output_type": "stream",
     "text": [
      "HHPRecommender: URM Detected 627 ( 4.8%) users with no interactions.\n",
      "HHPRecommender: URM Detected 247 ( 1.1%) items with no interactions.\n",
      "HHPRecommender: Similarity column 22347 (100.0%), 2136.81 column/sec. Elapsed time 10.46 sec\n",
      "EvaluatorHoldout: Processed 10456 (100.0%) in 9.40 sec. Users per second: 1112\n"
     ]
    },
    {
     "name": "stderr",
     "output_type": "stream",
     "text": [
      "[I 2023-12-24 17:59:27,928] Trial 106 finished with value: 0.04196782662950464 and parameters: {'hybrid_lambda': 0.8751650408875434, 'topK': 64}. Best is trial 106 with value: 0.04196782662950464.\n"
     ]
    },
    {
     "name": "stdout",
     "output_type": "stream",
     "text": [
      "HHPRecommender: URM Detected 627 ( 4.8%) users with no interactions.\n",
      "HHPRecommender: URM Detected 247 ( 1.1%) items with no interactions.\n",
      "HHPRecommender: Similarity column 22347 (100.0%), 2316.55 column/sec. Elapsed time 9.65 sec\n",
      "EvaluatorHoldout: Processed 10456 (100.0%) in 9.78 sec. Users per second: 1069\n"
     ]
    },
    {
     "name": "stderr",
     "output_type": "stream",
     "text": [
      "[I 2023-12-24 17:59:49,591] Trial 107 finished with value: 0.04166179363864952 and parameters: {'hybrid_lambda': 0.8743523390334762, 'topK': 51}. Best is trial 106 with value: 0.04196782662950464.\n"
     ]
    },
    {
     "name": "stdout",
     "output_type": "stream",
     "text": [
      "HHPRecommender: URM Detected 627 ( 4.8%) users with no interactions.\n",
      "HHPRecommender: URM Detected 247 ( 1.1%) items with no interactions.\n",
      "HHPRecommender: Similarity column 22347 (100.0%), 2214.70 column/sec. Elapsed time 10.09 sec\n",
      "EvaluatorHoldout: Processed 10456 (100.0%) in 9.64 sec. Users per second: 1084\n"
     ]
    },
    {
     "name": "stderr",
     "output_type": "stream",
     "text": [
      "[I 2023-12-24 18:00:11,853] Trial 108 finished with value: 0.04149718472571438 and parameters: {'hybrid_lambda': 0.9388583160037686, 'topK': 58}. Best is trial 106 with value: 0.04196782662950464.\n"
     ]
    },
    {
     "name": "stdout",
     "output_type": "stream",
     "text": [
      "HHPRecommender: URM Detected 627 ( 4.8%) users with no interactions.\n",
      "HHPRecommender: URM Detected 247 ( 1.1%) items with no interactions.\n",
      "HHPRecommender: Similarity column 22347 (100.0%), 2145.42 column/sec. Elapsed time 10.42 sec\n",
      "EvaluatorHoldout: Processed 10456 (100.0%) in 9.59 sec. Users per second: 1090\n"
     ]
    },
    {
     "name": "stderr",
     "output_type": "stream",
     "text": [
      "[I 2023-12-24 18:00:34,720] Trial 109 finished with value: 0.04162994817284268 and parameters: {'hybrid_lambda': 0.8057213903889027, 'topK': 62}. Best is trial 106 with value: 0.04196782662950464.\n"
     ]
    },
    {
     "name": "stdout",
     "output_type": "stream",
     "text": [
      "HHPRecommender: URM Detected 627 ( 4.8%) users with no interactions.\n",
      "HHPRecommender: URM Detected 247 ( 1.1%) items with no interactions.\n",
      "HHPRecommender: Similarity column 22347 (100.0%), 2058.30 column/sec. Elapsed time 10.86 sec\n",
      "EvaluatorHoldout: Processed 10456 (100.0%) in 9.62 sec. Users per second: 1087\n"
     ]
    },
    {
     "name": "stderr",
     "output_type": "stream",
     "text": [
      "[I 2023-12-24 18:00:58,377] Trial 110 finished with value: 0.04117918928601845 and parameters: {'hybrid_lambda': 0.767421265325625, 'topK': 66}. Best is trial 106 with value: 0.04196782662950464.\n"
     ]
    },
    {
     "name": "stdout",
     "output_type": "stream",
     "text": [
      "HHPRecommender: URM Detected 627 ( 4.8%) users with no interactions.\n",
      "HHPRecommender: URM Detected 247 ( 1.1%) items with no interactions.\n",
      "HHPRecommender: Similarity column 22347 (100.0%), 1927.73 column/sec. Elapsed time 11.59 sec\n",
      "EvaluatorHoldout: Processed 10456 (100.0%) in 9.52 sec. Users per second: 1098\n"
     ]
    },
    {
     "name": "stderr",
     "output_type": "stream",
     "text": [
      "[I 2023-12-24 18:01:22,605] Trial 111 finished with value: 0.041902477198480066 and parameters: {'hybrid_lambda': 0.9198469524956401, 'topK': 79}. Best is trial 106 with value: 0.04196782662950464.\n"
     ]
    },
    {
     "name": "stdout",
     "output_type": "stream",
     "text": [
      "HHPRecommender: URM Detected 627 ( 4.8%) users with no interactions.\n",
      "HHPRecommender: URM Detected 247 ( 1.1%) items with no interactions.\n",
      "HHPRecommender: Similarity column 22347 (100.0%), 1923.02 column/sec. Elapsed time 11.62 sec\n",
      "EvaluatorHoldout: Processed 10456 (100.0%) in 9.62 sec. Users per second: 1086\n"
     ]
    },
    {
     "name": "stderr",
     "output_type": "stream",
     "text": [
      "[I 2023-12-24 18:01:47,235] Trial 112 finished with value: 0.04196668048117025 and parameters: {'hybrid_lambda': 0.8881995396205373, 'topK': 83}. Best is trial 106 with value: 0.04196782662950464.\n"
     ]
    },
    {
     "name": "stdout",
     "output_type": "stream",
     "text": [
      "HHPRecommender: URM Detected 627 ( 4.8%) users with no interactions.\n",
      "HHPRecommender: URM Detected 247 ( 1.1%) items with no interactions.\n",
      "HHPRecommender: Similarity column 22347 (100.0%), 1876.72 column/sec. Elapsed time 11.91 sec\n",
      "EvaluatorHoldout: Processed 10456 (100.0%) in 9.60 sec. Users per second: 1089\n"
     ]
    },
    {
     "name": "stderr",
     "output_type": "stream",
     "text": [
      "[I 2023-12-24 18:02:12,123] Trial 113 finished with value: 0.041892492045275606 and parameters: {'hybrid_lambda': 0.8910439858477662, 'topK': 86}. Best is trial 106 with value: 0.04196782662950464.\n"
     ]
    },
    {
     "name": "stdout",
     "output_type": "stream",
     "text": [
      "HHPRecommender: URM Detected 627 ( 4.8%) users with no interactions.\n",
      "HHPRecommender: URM Detected 247 ( 1.1%) items with no interactions.\n",
      "HHPRecommender: Similarity column 22347 (100.0%), 1873.33 column/sec. Elapsed time 11.93 sec\n",
      "EvaluatorHoldout: Processed 10456 (100.0%) in 9.73 sec. Users per second: 1075\n"
     ]
    },
    {
     "name": "stderr",
     "output_type": "stream",
     "text": [
      "[I 2023-12-24 18:02:37,353] Trial 114 finished with value: 0.04162633135376104 and parameters: {'hybrid_lambda': 0.8362693402798569, 'topK': 85}. Best is trial 106 with value: 0.04196782662950464.\n"
     ]
    },
    {
     "name": "stdout",
     "output_type": "stream",
     "text": [
      "HHPRecommender: URM Detected 627 ( 4.8%) users with no interactions.\n",
      "HHPRecommender: URM Detected 247 ( 1.1%) items with no interactions.\n",
      "HHPRecommender: Similarity column 22347 (100.0%), 1972.11 column/sec. Elapsed time 11.33 sec\n",
      "EvaluatorHoldout: Processed 10456 (100.0%) in 9.48 sec. Users per second: 1103\n"
     ]
    },
    {
     "name": "stderr",
     "output_type": "stream",
     "text": [
      "[I 2023-12-24 18:03:01,242] Trial 115 finished with value: 0.04199775552276559 and parameters: {'hybrid_lambda': 0.8853191775170115, 'topK': 77}. Best is trial 115 with value: 0.04199775552276559.\n"
     ]
    },
    {
     "name": "stdout",
     "output_type": "stream",
     "text": [
      "HHPRecommender: URM Detected 627 ( 4.8%) users with no interactions.\n",
      "HHPRecommender: URM Detected 247 ( 1.1%) items with no interactions.\n",
      "HHPRecommender: Similarity column 22347 (100.0%), 1946.28 column/sec. Elapsed time 11.48 sec\n",
      "EvaluatorHoldout: Processed 10456 (100.0%) in 9.47 sec. Users per second: 1105\n"
     ]
    },
    {
     "name": "stderr",
     "output_type": "stream",
     "text": [
      "[I 2023-12-24 18:03:25,377] Trial 116 finished with value: 0.0418505210041176 and parameters: {'hybrid_lambda': 0.8966078325832693, 'topK': 78}. Best is trial 115 with value: 0.04199775552276559.\n"
     ]
    },
    {
     "name": "stdout",
     "output_type": "stream",
     "text": [
      "HHPRecommender: URM Detected 627 ( 4.8%) users with no interactions.\n",
      "HHPRecommender: URM Detected 247 ( 1.1%) items with no interactions.\n",
      "HHPRecommender: Similarity column 22347 (100.0%), 1852.52 column/sec. Elapsed time 12.06 sec\n",
      "EvaluatorHoldout: Processed 10456 (100.0%) in 9.70 sec. Users per second: 1078\n"
     ]
    },
    {
     "name": "stderr",
     "output_type": "stream",
     "text": [
      "[I 2023-12-24 18:03:50,560] Trial 117 finished with value: 0.04183001557547318 and parameters: {'hybrid_lambda': 0.891698032226389, 'topK': 88}. Best is trial 115 with value: 0.04199775552276559.\n"
     ]
    },
    {
     "name": "stdout",
     "output_type": "stream",
     "text": [
      "HHPRecommender: URM Detected 627 ( 4.8%) users with no interactions.\n",
      "HHPRecommender: URM Detected 247 ( 1.1%) items with no interactions.\n",
      "HHPRecommender: Similarity column 22347 (100.0%), 1701.70 column/sec. Elapsed time 13.13 sec\n",
      "EvaluatorHoldout: Processed 10456 (100.0%) in 9.09 sec. Users per second: 1150\n"
     ]
    },
    {
     "name": "stderr",
     "output_type": "stream",
     "text": [
      "[I 2023-12-24 18:04:16,457] Trial 118 finished with value: 0.04155012007991209 and parameters: {'hybrid_lambda': 0.9704698359356608, 'topK': 105}. Best is trial 115 with value: 0.04199775552276559.\n"
     ]
    },
    {
     "name": "stdout",
     "output_type": "stream",
     "text": [
      "HHPRecommender: URM Detected 627 ( 4.8%) users with no interactions.\n",
      "HHPRecommender: URM Detected 247 ( 1.1%) items with no interactions.\n",
      "HHPRecommender: Similarity column 22347 (100.0%), 2443.25 column/sec. Elapsed time 9.15 sec\n",
      "EvaluatorHoldout: Processed 10456 (100.0%) in 9.13 sec. Users per second: 1145\n"
     ]
    },
    {
     "name": "stderr",
     "output_type": "stream",
     "text": [
      "[I 2023-12-24 18:04:36,558] Trial 119 finished with value: 0.0410543539974016 and parameters: {'hybrid_lambda': 0.9491509194990501, 'topK': 43}. Best is trial 115 with value: 0.04199775552276559.\n"
     ]
    },
    {
     "name": "stdout",
     "output_type": "stream",
     "text": [
      "HHPRecommender: URM Detected 627 ( 4.8%) users with no interactions.\n",
      "HHPRecommender: URM Detected 247 ( 1.1%) items with no interactions.\n",
      "HHPRecommender: Similarity column 22347 (100.0%), 2245.40 column/sec. Elapsed time 9.95 sec\n",
      "EvaluatorHoldout: Processed 10456 (100.0%) in 9.41 sec. Users per second: 1111\n"
     ]
    },
    {
     "name": "stderr",
     "output_type": "stream",
     "text": [
      "[I 2023-12-24 18:04:58,314] Trial 120 finished with value: 0.041685684379592663 and parameters: {'hybrid_lambda': 0.8797645529455621, 'topK': 55}. Best is trial 115 with value: 0.04199775552276559.\n"
     ]
    },
    {
     "name": "stdout",
     "output_type": "stream",
     "text": [
      "HHPRecommender: URM Detected 627 ( 4.8%) users with no interactions.\n",
      "HHPRecommender: URM Detected 247 ( 1.1%) items with no interactions.\n",
      "HHPRecommender: Similarity column 22347 (100.0%), 2149.59 column/sec. Elapsed time 10.40 sec\n",
      "EvaluatorHoldout: Processed 10456 (100.0%) in 9.56 sec. Users per second: 1094\n"
     ]
    },
    {
     "name": "stderr",
     "output_type": "stream",
     "text": [
      "[I 2023-12-24 18:05:21,016] Trial 121 finished with value: 0.04195967455459669 and parameters: {'hybrid_lambda': 0.8651288597533408, 'topK': 63}. Best is trial 115 with value: 0.04199775552276559.\n"
     ]
    },
    {
     "name": "stdout",
     "output_type": "stream",
     "text": [
      "HHPRecommender: URM Detected 627 ( 4.8%) users with no interactions.\n",
      "HHPRecommender: URM Detected 247 ( 1.1%) items with no interactions.\n",
      "HHPRecommender: Similarity column 22347 (100.0%), 2008.82 column/sec. Elapsed time 11.12 sec\n",
      "EvaluatorHoldout: Processed 10456 (100.0%) in 9.61 sec. Users per second: 1088\n"
     ]
    },
    {
     "name": "stderr",
     "output_type": "stream",
     "text": [
      "[I 2023-12-24 18:05:44,849] Trial 122 finished with value: 0.04185587222647325 and parameters: {'hybrid_lambda': 0.8494683402781824, 'topK': 72}. Best is trial 115 with value: 0.04199775552276559.\n"
     ]
    },
    {
     "name": "stdout",
     "output_type": "stream",
     "text": [
      "HHPRecommender: URM Detected 627 ( 4.8%) users with no interactions.\n",
      "HHPRecommender: URM Detected 247 ( 1.1%) items with no interactions.\n",
      "HHPRecommender: Similarity column 22347 (100.0%), 1790.40 column/sec. Elapsed time 12.48 sec\n",
      "EvaluatorHoldout: Processed 10456 (100.0%) in 9.00 sec. Users per second: 1161\n"
     ]
    },
    {
     "name": "stderr",
     "output_type": "stream",
     "text": [
      "[I 2023-12-24 18:06:09,844] Trial 123 finished with value: 0.041860350554402403 and parameters: {'hybrid_lambda': 0.917374683776859, 'topK': 93}. Best is trial 115 with value: 0.04199775552276559.\n"
     ]
    },
    {
     "name": "stdout",
     "output_type": "stream",
     "text": [
      "HHPRecommender: URM Detected 627 ( 4.8%) users with no interactions.\n",
      "HHPRecommender: URM Detected 247 ( 1.1%) items with no interactions.\n",
      "HHPRecommender: Similarity column 22347 (100.0%), 2351.12 column/sec. Elapsed time 9.50 sec\n",
      "EvaluatorHoldout: Processed 10456 (100.0%) in 9.38 sec. Users per second: 1115\n"
     ]
    },
    {
     "name": "stderr",
     "output_type": "stream",
     "text": [
      "[I 2023-12-24 18:06:30,934] Trial 124 finished with value: 0.041593290402108754 and parameters: {'hybrid_lambda': 0.8685775126967583, 'topK': 50}. Best is trial 115 with value: 0.04199775552276559.\n"
     ]
    },
    {
     "name": "stdout",
     "output_type": "stream",
     "text": [
      "HHPRecommender: URM Detected 627 ( 4.8%) users with no interactions.\n",
      "HHPRecommender: URM Detected 247 ( 1.1%) items with no interactions.\n",
      "HHPRecommender: Similarity column 22347 (100.0%), 2020.96 column/sec. Elapsed time 11.06 sec\n",
      "EvaluatorHoldout: Processed 10456 (100.0%) in 9.63 sec. Users per second: 1086\n"
     ]
    },
    {
     "name": "stderr",
     "output_type": "stream",
     "text": [
      "[I 2023-12-24 18:06:54,906] Trial 125 finished with value: 0.041540654868170684 and parameters: {'hybrid_lambda': 0.8203292890984792, 'topK': 76}. Best is trial 115 with value: 0.04199775552276559.\n"
     ]
    },
    {
     "name": "stdout",
     "output_type": "stream",
     "text": [
      "HHPRecommender: URM Detected 627 ( 4.8%) users with no interactions.\n",
      "HHPRecommender: URM Detected 247 ( 1.1%) items with no interactions.\n",
      "HHPRecommender: Similarity column 22347 (100.0%), 2119.42 column/sec. Elapsed time 10.54 sec\n",
      "EvaluatorHoldout: Processed 10456 (100.0%) in 9.44 sec. Users per second: 1108\n"
     ]
    },
    {
     "name": "stderr",
     "output_type": "stream",
     "text": [
      "[I 2023-12-24 18:07:17,552] Trial 126 finished with value: 0.04181337365346602 and parameters: {'hybrid_lambda': 0.9014942923700574, 'topK': 64}. Best is trial 115 with value: 0.04199775552276559.\n"
     ]
    },
    {
     "name": "stdout",
     "output_type": "stream",
     "text": [
      "HHPRecommender: URM Detected 627 ( 4.8%) users with no interactions.\n",
      "HHPRecommender: URM Detected 247 ( 1.1%) items with no interactions.\n",
      "HHPRecommender: Similarity column 22347 (100.0%), 1625.04 column/sec. Elapsed time 13.75 sec\n",
      "EvaluatorHoldout: Processed 10456 (100.0%) in 9.85 sec. Users per second: 1062\n"
     ]
    },
    {
     "name": "stderr",
     "output_type": "stream",
     "text": [
      "[I 2023-12-24 18:07:45,791] Trial 127 finished with value: 0.04162350393485676 and parameters: {'hybrid_lambda': 0.8424644638792766, 'topK': 117}. Best is trial 115 with value: 0.04199775552276559.\n"
     ]
    },
    {
     "name": "stdout",
     "output_type": "stream",
     "text": [
      "HHPRecommender: URM Detected 627 ( 4.8%) users with no interactions.\n",
      "HHPRecommender: URM Detected 247 ( 1.1%) items with no interactions.\n",
      "HHPRecommender: Similarity column 22347 (100.0%), 1905.74 column/sec. Elapsed time 11.73 sec\n",
      "EvaluatorHoldout: Processed 10456 (100.0%) in 9.57 sec. Users per second: 1092\n"
     ]
    },
    {
     "name": "stderr",
     "output_type": "stream",
     "text": [
      "[I 2023-12-24 18:08:10,263] Trial 128 finished with value: 0.041722159981054954 and parameters: {'hybrid_lambda': 0.943452816111912, 'topK': 83}. Best is trial 115 with value: 0.04199775552276559.\n"
     ]
    },
    {
     "name": "stdout",
     "output_type": "stream",
     "text": [
      "HHPRecommender: URM Detected 627 ( 4.8%) users with no interactions.\n",
      "HHPRecommender: URM Detected 247 ( 1.1%) items with no interactions.\n",
      "HHPRecommender: Similarity column 22347 (100.0%), 2159.87 column/sec. Elapsed time 10.35 sec\n",
      "EvaluatorHoldout: Processed 10456 (100.0%) in 9.66 sec. Users per second: 1083\n"
     ]
    },
    {
     "name": "stderr",
     "output_type": "stream",
     "text": [
      "[I 2023-12-24 18:08:33,125] Trial 129 finished with value: 0.041444780698558885 and parameters: {'hybrid_lambda': 0.7908334956080664, 'topK': 60}. Best is trial 115 with value: 0.04199775552276559.\n"
     ]
    },
    {
     "name": "stdout",
     "output_type": "stream",
     "text": [
      "HHPRecommender: URM Detected 627 ( 4.8%) users with no interactions.\n",
      "HHPRecommender: URM Detected 247 ( 1.1%) items with no interactions.\n",
      "HHPRecommender: Similarity column 22347 (100.0%), 2531.41 column/sec. Elapsed time 8.83 sec\n",
      "EvaluatorHoldout: Processed 10456 (100.0%) in 9.23 sec. Users per second: 1133\n"
     ]
    },
    {
     "name": "stderr",
     "output_type": "stream",
     "text": [
      "[I 2023-12-24 18:08:53,000] Trial 130 finished with value: 0.041248140355352125 and parameters: {'hybrid_lambda': 0.8858338280756074, 'topK': 37}. Best is trial 115 with value: 0.04199775552276559.\n"
     ]
    },
    {
     "name": "stdout",
     "output_type": "stream",
     "text": [
      "HHPRecommender: URM Detected 627 ( 4.8%) users with no interactions.\n",
      "HHPRecommender: URM Detected 247 ( 1.1%) items with no interactions.\n",
      "HHPRecommender: Similarity column 22347 (100.0%), 2025.49 column/sec. Elapsed time 11.03 sec\n",
      "EvaluatorHoldout: Processed 10456 (100.0%) in 9.62 sec. Users per second: 1087\n"
     ]
    },
    {
     "name": "stderr",
     "output_type": "stream",
     "text": [
      "[I 2023-12-24 18:09:16,741] Trial 131 finished with value: 0.04198738325985886 and parameters: {'hybrid_lambda': 0.854397917087688, 'topK': 69}. Best is trial 115 with value: 0.04199775552276559.\n"
     ]
    },
    {
     "name": "stdout",
     "output_type": "stream",
     "text": [
      "HHPRecommender: URM Detected 627 ( 4.8%) users with no interactions.\n",
      "HHPRecommender: URM Detected 247 ( 1.1%) items with no interactions.\n",
      "HHPRecommender: Similarity column 22347 (100.0%), 1772.01 column/sec. Elapsed time 12.61 sec\n",
      "EvaluatorHoldout: Processed 10456 (100.0%) in 9.15 sec. Users per second: 1143\n"
     ]
    },
    {
     "name": "stderr",
     "output_type": "stream",
     "text": [
      "[I 2023-12-24 18:09:42,377] Trial 132 finished with value: 0.04164820305194309 and parameters: {'hybrid_lambda': 0.865280650281097, 'topK': 95}. Best is trial 115 with value: 0.04199775552276559.\n"
     ]
    },
    {
     "name": "stdout",
     "output_type": "stream",
     "text": [
      "HHPRecommender: URM Detected 627 ( 4.8%) users with no interactions.\n",
      "HHPRecommender: URM Detected 247 ( 1.1%) items with no interactions.\n",
      "HHPRecommender: Similarity column 22347 (100.0%), 2052.60 column/sec. Elapsed time 10.89 sec\n",
      "EvaluatorHoldout: Processed 10456 (100.0%) in 9.50 sec. Users per second: 1101\n"
     ]
    },
    {
     "name": "stderr",
     "output_type": "stream",
     "text": [
      "[I 2023-12-24 18:10:05,559] Trial 133 finished with value: 0.04173538622921799 and parameters: {'hybrid_lambda': 0.9115325445510165, 'topK': 69}. Best is trial 115 with value: 0.04199775552276559.\n"
     ]
    },
    {
     "name": "stdout",
     "output_type": "stream",
     "text": [
      "HHPRecommender: URM Detected 627 ( 4.8%) users with no interactions.\n",
      "HHPRecommender: URM Detected 247 ( 1.1%) items with no interactions.\n",
      "HHPRecommender: Similarity column 22347 (100.0%), 1948.35 column/sec. Elapsed time 11.47 sec\n",
      "EvaluatorHoldout: Processed 10456 (100.0%) in 9.75 sec. Users per second: 1072\n"
     ]
    },
    {
     "name": "stderr",
     "output_type": "stream",
     "text": [
      "[I 2023-12-24 18:10:30,147] Trial 134 finished with value: 0.04163003166709219 and parameters: {'hybrid_lambda': 0.8208766473287248, 'topK': 78}. Best is trial 115 with value: 0.04199775552276559.\n"
     ]
    },
    {
     "name": "stdout",
     "output_type": "stream",
     "text": [
      "HHPRecommender: URM Detected 627 ( 4.8%) users with no interactions.\n",
      "HHPRecommender: URM Detected 247 ( 1.1%) items with no interactions.\n",
      "HHPRecommender: Similarity column 22347 (100.0%), 2222.01 column/sec. Elapsed time 10.06 sec\n",
      "EvaluatorHoldout: Processed 10456 (100.0%) in 9.48 sec. Users per second: 1103\n"
     ]
    },
    {
     "name": "stderr",
     "output_type": "stream",
     "text": [
      "[I 2023-12-24 18:10:52,212] Trial 135 finished with value: 0.04194383341834633 and parameters: {'hybrid_lambda': 0.8495065206802233, 'topK': 56}. Best is trial 115 with value: 0.04199775552276559.\n"
     ]
    },
    {
     "name": "stdout",
     "output_type": "stream",
     "text": [
      "HHPRecommender: URM Detected 627 ( 4.8%) users with no interactions.\n",
      "HHPRecommender: URM Detected 247 ( 1.1%) items with no interactions.\n",
      "HHPRecommender: Similarity column 22347 (100.0%), 2280.65 column/sec. Elapsed time 9.80 sec\n",
      "EvaluatorHoldout: Processed 10456 (100.0%) in 9.54 sec. Users per second: 1096\n"
     ]
    },
    {
     "name": "stderr",
     "output_type": "stream",
     "text": [
      "[I 2023-12-24 18:11:13,956] Trial 136 finished with value: 0.04186298062326236 and parameters: {'hybrid_lambda': 0.8431890396150301, 'topK': 53}. Best is trial 115 with value: 0.04199775552276559.\n"
     ]
    },
    {
     "name": "stdout",
     "output_type": "stream",
     "text": [
      "HHPRecommender: URM Detected 627 ( 4.8%) users with no interactions.\n",
      "HHPRecommender: URM Detected 247 ( 1.1%) items with no interactions.\n",
      "HHPRecommender: Similarity column 22347 (100.0%), 2434.23 column/sec. Elapsed time 9.18 sec\n",
      "EvaluatorHoldout: Processed 10456 (100.0%) in 9.30 sec. Users per second: 1124\n"
     ]
    },
    {
     "name": "stderr",
     "output_type": "stream",
     "text": [
      "[I 2023-12-24 18:11:34,472] Trial 137 finished with value: 0.04149251284293417 and parameters: {'hybrid_lambda': 0.8790537651828896, 'topK': 45}. Best is trial 115 with value: 0.04199775552276559.\n"
     ]
    },
    {
     "name": "stdout",
     "output_type": "stream",
     "text": [
      "HHPRecommender: URM Detected 627 ( 4.8%) users with no interactions.\n",
      "HHPRecommender: URM Detected 247 ( 1.1%) items with no interactions.\n",
      "HHPRecommender: Similarity column 22347 (100.0%), 2252.14 column/sec. Elapsed time 9.92 sec\n",
      "EvaluatorHoldout: Processed 10456 (100.0%) in 9.52 sec. Users per second: 1098\n"
     ]
    },
    {
     "name": "stderr",
     "output_type": "stream",
     "text": [
      "[I 2023-12-24 18:11:56,554] Trial 138 finished with value: 0.041772476651972215 and parameters: {'hybrid_lambda': 0.8021164719843625, 'topK': 55}. Best is trial 115 with value: 0.04199775552276559.\n"
     ]
    },
    {
     "name": "stdout",
     "output_type": "stream",
     "text": [
      "HHPRecommender: URM Detected 627 ( 4.8%) users with no interactions.\n",
      "HHPRecommender: URM Detected 247 ( 1.1%) items with no interactions.\n",
      "HHPRecommender: Similarity column 22347 (100.0%), 2057.85 column/sec. Elapsed time 10.86 sec\n",
      "EvaluatorHoldout: Processed 10456 (100.0%) in 9.47 sec. Users per second: 1104\n"
     ]
    },
    {
     "name": "stderr",
     "output_type": "stream",
     "text": [
      "[I 2023-12-24 18:12:19,865] Trial 139 finished with value: 0.041892492045275634 and parameters: {'hybrid_lambda': 0.8567424633026809, 'topK': 68}. Best is trial 115 with value: 0.04199775552276559.\n"
     ]
    },
    {
     "name": "stdout",
     "output_type": "stream",
     "text": [
      "HHPRecommender: URM Detected 627 ( 4.8%) users with no interactions.\n",
      "HHPRecommender: URM Detected 247 ( 1.1%) items with no interactions.\n",
      "HHPRecommender: Similarity column 22347 (100.0%), 2129.43 column/sec. Elapsed time 10.49 sec\n",
      "EvaluatorHoldout: Processed 10456 (100.0%) in 10.00 sec. Users per second: 1046\n"
     ]
    },
    {
     "name": "stderr",
     "output_type": "stream",
     "text": [
      "[I 2023-12-24 18:12:43,947] Trial 140 finished with value: 0.035501796644442446 and parameters: {'hybrid_lambda': 0.5644981552036122, 'topK': 65}. Best is trial 115 with value: 0.04199775552276559.\n"
     ]
    },
    {
     "name": "stdout",
     "output_type": "stream",
     "text": [
      "HHPRecommender: URM Detected 627 ( 4.8%) users with no interactions.\n",
      "HHPRecommender: URM Detected 247 ( 1.1%) items with no interactions.\n",
      "HHPRecommender: Similarity column 22347 (100.0%), 1994.32 column/sec. Elapsed time 11.21 sec\n",
      "EvaluatorHoldout: Processed 10456 (100.0%) in 9.54 sec. Users per second: 1096\n"
     ]
    },
    {
     "name": "stderr",
     "output_type": "stream",
     "text": [
      "[I 2023-12-24 18:13:07,854] Trial 141 finished with value: 0.04184235754362999 and parameters: {'hybrid_lambda': 0.8557564923045777, 'topK': 75}. Best is trial 115 with value: 0.04199775552276559.\n"
     ]
    },
    {
     "name": "stdout",
     "output_type": "stream",
     "text": [
      "HHPRecommender: URM Detected 627 ( 4.8%) users with no interactions.\n",
      "HHPRecommender: URM Detected 247 ( 1.1%) items with no interactions.\n",
      "HHPRecommender: Similarity column 22347 (100.0%), 2120.31 column/sec. Elapsed time 10.54 sec\n",
      "EvaluatorHoldout: Processed 10456 (100.0%) in 9.41 sec. Users per second: 1111\n"
     ]
    },
    {
     "name": "stderr",
     "output_type": "stream",
     "text": [
      "[I 2023-12-24 18:13:30,314] Trial 142 finished with value: 0.04161440306165879 and parameters: {'hybrid_lambda': 0.898062358061922, 'topK': 60}. Best is trial 115 with value: 0.04199775552276559.\n"
     ]
    },
    {
     "name": "stdout",
     "output_type": "stream",
     "text": [
      "HHPRecommender: URM Detected 627 ( 4.8%) users with no interactions.\n",
      "HHPRecommender: URM Detected 247 ( 1.1%) items with no interactions.\n",
      "HHPRecommender: Similarity column 22347 (100.0%), 2397.25 column/sec. Elapsed time 9.32 sec\n",
      "EvaluatorHoldout: Processed 10456 (100.0%) in 9.45 sec. Users per second: 1107\n"
     ]
    },
    {
     "name": "stderr",
     "output_type": "stream",
     "text": [
      "[I 2023-12-24 18:13:51,351] Trial 143 finished with value: 0.04177349376373925 and parameters: {'hybrid_lambda': 0.823782157157324, 'topK': 48}. Best is trial 115 with value: 0.04199775552276559.\n"
     ]
    },
    {
     "name": "stdout",
     "output_type": "stream",
     "text": [
      "HHPRecommender: URM Detected 627 ( 4.8%) users with no interactions.\n",
      "HHPRecommender: URM Detected 247 ( 1.1%) items with no interactions.\n",
      "HHPRecommender: Similarity column 22347 (100.0%), 2072.99 column/sec. Elapsed time 10.78 sec\n",
      "EvaluatorHoldout: Processed 10456 (100.0%) in 9.57 sec. Users per second: 1093\n"
     ]
    },
    {
     "name": "stderr",
     "output_type": "stream",
     "text": [
      "[I 2023-12-24 18:14:14,668] Trial 144 finished with value: 0.041992028576286936 and parameters: {'hybrid_lambda': 0.8596559352698709, 'topK': 69}. Best is trial 115 with value: 0.04199775552276559.\n"
     ]
    },
    {
     "name": "stdout",
     "output_type": "stream",
     "text": [
      "HHPRecommender: URM Detected 627 ( 4.8%) users with no interactions.\n",
      "HHPRecommender: URM Detected 247 ( 1.1%) items with no interactions.\n",
      "HHPRecommender: Similarity column 22347 (100.0%), 1904.21 column/sec. Elapsed time 11.74 sec\n",
      "EvaluatorHoldout: Processed 10456 (100.0%) in 10.10 sec. Users per second: 1036\n"
     ]
    },
    {
     "name": "stderr",
     "output_type": "stream",
     "text": [
      "[I 2023-12-24 18:14:40,865] Trial 145 finished with value: 0.03769737281548729 and parameters: {'hybrid_lambda': 0.6172071146477993, 'topK': 85}. Best is trial 115 with value: 0.04199775552276559.\n"
     ]
    },
    {
     "name": "stdout",
     "output_type": "stream",
     "text": [
      "HHPRecommender: URM Detected 627 ( 4.8%) users with no interactions.\n",
      "HHPRecommender: URM Detected 247 ( 1.1%) items with no interactions.\n",
      "HHPRecommender: Similarity column 22347 (100.0%), 2064.89 column/sec. Elapsed time 10.82 sec\n",
      "EvaluatorHoldout: Processed 10456 (100.0%) in 9.53 sec. Users per second: 1097\n"
     ]
    },
    {
     "name": "stderr",
     "output_type": "stream",
     "text": [
      "[I 2023-12-24 18:15:04,050] Trial 146 finished with value: 0.041839203738113936 and parameters: {'hybrid_lambda': 0.8806982570522497, 'topK': 68}. Best is trial 115 with value: 0.04199775552276559.\n"
     ]
    },
    {
     "name": "stdout",
     "output_type": "stream",
     "text": [
      "HHPRecommender: URM Detected 627 ( 4.8%) users with no interactions.\n",
      "HHPRecommender: URM Detected 247 ( 1.1%) items with no interactions.\n",
      "HHPRecommender: Similarity column 22347 (100.0%), 2183.87 column/sec. Elapsed time 10.23 sec\n",
      "EvaluatorHoldout: Processed 10456 (100.0%) in 9.49 sec. Users per second: 1102\n"
     ]
    },
    {
     "name": "stderr",
     "output_type": "stream",
     "text": [
      "[I 2023-12-24 18:15:26,236] Trial 147 finished with value: 0.041591836843128456 and parameters: {'hybrid_lambda': 0.9150075811715488, 'topK': 58}. Best is trial 115 with value: 0.04199775552276559.\n"
     ]
    },
    {
     "name": "stdout",
     "output_type": "stream",
     "text": [
      "HHPRecommender: URM Detected 627 ( 4.8%) users with no interactions.\n",
      "HHPRecommender: URM Detected 247 ( 1.1%) items with no interactions.\n",
      "HHPRecommender: Similarity column 22347 (100.0%), 2508.81 column/sec. Elapsed time 8.91 sec\n",
      "EvaluatorHoldout: Processed 10456 (100.0%) in 9.35 sec. Users per second: 1118\n"
     ]
    },
    {
     "name": "stderr",
     "output_type": "stream",
     "text": [
      "[I 2023-12-24 18:15:46,538] Trial 148 finished with value: 0.041403234719034676 and parameters: {'hybrid_lambda': 0.8402300715766446, 'topK': 40}. Best is trial 115 with value: 0.04199775552276559.\n"
     ]
    },
    {
     "name": "stdout",
     "output_type": "stream",
     "text": [
      "HHPRecommender: URM Detected 627 ( 4.8%) users with no interactions.\n",
      "HHPRecommender: URM Detected 247 ( 1.1%) items with no interactions.\n",
      "HHPRecommender: Similarity column 22347 (100.0%), 1724.79 column/sec. Elapsed time 12.96 sec\n",
      "EvaluatorHoldout: Processed 10456 (100.0%) in 9.15 sec. Users per second: 1143\n"
     ]
    },
    {
     "name": "stderr",
     "output_type": "stream",
     "text": [
      "[I 2023-12-24 18:16:12,644] Trial 149 finished with value: 0.04171782207527285 and parameters: {'hybrid_lambda': 0.8626313402045117, 'topK': 102}. Best is trial 115 with value: 0.04199775552276559.\n"
     ]
    },
    {
     "name": "stdout",
     "output_type": "stream",
     "text": [
      "HHPRecommender: URM Detected 627 ( 4.8%) users with no interactions.\n",
      "HHPRecommender: URM Detected 247 ( 1.1%) items with no interactions.\n",
      "HHPRecommender: Similarity column 22347 (100.0%), 2056.74 column/sec. Elapsed time 10.87 sec\n",
      "EvaluatorHoldout: Processed 10456 (100.0%) in 9.66 sec. Users per second: 1083\n"
     ]
    },
    {
     "name": "stderr",
     "output_type": "stream",
     "text": [
      "[I 2023-12-24 18:16:36,459] Trial 150 finished with value: 0.04119312523530257 and parameters: {'hybrid_lambda': 0.7619510809397465, 'topK': 69}. Best is trial 115 with value: 0.04199775552276559.\n"
     ]
    },
    {
     "name": "stdout",
     "output_type": "stream",
     "text": [
      "HHPRecommender: URM Detected 627 ( 4.8%) users with no interactions.\n",
      "HHPRecommender: URM Detected 247 ( 1.1%) items with no interactions.\n",
      "HHPRecommender: Similarity column 22347 (100.0%), 2006.34 column/sec. Elapsed time 11.14 sec\n",
      "EvaluatorHoldout: Processed 10456 (100.0%) in 9.49 sec. Users per second: 1102\n"
     ]
    },
    {
     "name": "stderr",
     "output_type": "stream",
     "text": [
      "[I 2023-12-24 18:17:00,100] Trial 151 finished with value: 0.04187451042008286 and parameters: {'hybrid_lambda': 0.8916614435206489, 'topK': 75}. Best is trial 115 with value: 0.04199775552276559.\n"
     ]
    },
    {
     "name": "stdout",
     "output_type": "stream",
     "text": [
      "HHPRecommender: URM Detected 627 ( 4.8%) users with no interactions.\n",
      "HHPRecommender: URM Detected 247 ( 1.1%) items with no interactions.\n",
      "HHPRecommender: Similarity column 22347 (100.0%), 1870.32 column/sec. Elapsed time 11.95 sec\n",
      "EvaluatorHoldout: Processed 10456 (100.0%) in 9.66 sec. Users per second: 1083\n"
     ]
    },
    {
     "name": "stderr",
     "output_type": "stream",
     "text": [
      "[I 2023-12-24 18:17:25,222] Trial 152 finished with value: 0.04176136812159238 and parameters: {'hybrid_lambda': 0.8634216961059861, 'topK': 87}. Best is trial 115 with value: 0.04199775552276559.\n"
     ]
    },
    {
     "name": "stdout",
     "output_type": "stream",
     "text": [
      "HHPRecommender: URM Detected 627 ( 4.8%) users with no interactions.\n",
      "HHPRecommender: URM Detected 247 ( 1.1%) items with no interactions.\n",
      "HHPRecommender: Similarity column 22347 (100.0%), 2280.94 column/sec. Elapsed time 9.80 sec\n",
      "EvaluatorHoldout: Processed 10456 (100.0%) in 9.46 sec. Users per second: 1105\n"
     ]
    },
    {
     "name": "stderr",
     "output_type": "stream",
     "text": [
      "[I 2023-12-24 18:17:47,108] Trial 153 finished with value: 0.04192201485286852 and parameters: {'hybrid_lambda': 0.8305668564313129, 'topK': 56}. Best is trial 115 with value: 0.04199775552276559.\n"
     ]
    },
    {
     "name": "stdout",
     "output_type": "stream",
     "text": [
      "HHPRecommender: URM Detected 627 ( 4.8%) users with no interactions.\n",
      "HHPRecommender: URM Detected 247 ( 1.1%) items with no interactions.\n",
      "HHPRecommender: Similarity column 22347 (100.0%), 2335.95 column/sec. Elapsed time 9.57 sec\n",
      "EvaluatorHoldout: Processed 10456 (100.0%) in 9.52 sec. Users per second: 1098\n"
     ]
    },
    {
     "name": "stderr",
     "output_type": "stream",
     "text": [
      "[I 2023-12-24 18:18:08,640] Trial 154 finished with value: 0.04142992251733697 and parameters: {'hybrid_lambda': 0.7826566363405847, 'topK': 50}. Best is trial 115 with value: 0.04199775552276559.\n"
     ]
    },
    {
     "name": "stdout",
     "output_type": "stream",
     "text": [
      "HHPRecommender: URM Detected 627 ( 4.8%) users with no interactions.\n",
      "HHPRecommender: URM Detected 247 ( 1.1%) items with no interactions.\n",
      "HHPRecommender: Similarity column 22347 (100.0%), 2162.62 column/sec. Elapsed time 10.33 sec\n",
      "EvaluatorHoldout: Processed 10456 (100.0%) in 9.53 sec. Users per second: 1097\n"
     ]
    },
    {
     "name": "stderr",
     "output_type": "stream",
     "text": [
      "[I 2023-12-24 18:18:31,323] Trial 155 finished with value: 0.04170763577683087 and parameters: {'hybrid_lambda': 0.8154133845998942, 'topK': 62}. Best is trial 115 with value: 0.04199775552276559.\n"
     ]
    },
    {
     "name": "stdout",
     "output_type": "stream",
     "text": [
      "HHPRecommender: URM Detected 627 ( 4.8%) users with no interactions.\n",
      "HHPRecommender: URM Detected 247 ( 1.1%) items with no interactions.\n",
      "HHPRecommender: Similarity column 22347 (100.0%), 2261.20 column/sec. Elapsed time 9.88 sec\n",
      "EvaluatorHoldout: Processed 10456 (100.0%) in 9.30 sec. Users per second: 1124\n"
     ]
    },
    {
     "name": "stderr",
     "output_type": "stream",
     "text": [
      "[I 2023-12-24 18:18:52,791] Trial 156 finished with value: 0.04136168114912431 and parameters: {'hybrid_lambda': 0.9270472892817226, 'topK': 55}. Best is trial 115 with value: 0.04199775552276559.\n"
     ]
    },
    {
     "name": "stdout",
     "output_type": "stream",
     "text": [
      "HHPRecommender: URM Detected 627 ( 4.8%) users with no interactions.\n",
      "HHPRecommender: URM Detected 247 ( 1.1%) items with no interactions.\n",
      "HHPRecommender: Similarity column 22347 (100.0%), 2390.16 column/sec. Elapsed time 9.35 sec\n",
      "EvaluatorHoldout: Processed 10456 (100.0%) in 9.28 sec. Users per second: 1126\n"
     ]
    },
    {
     "name": "stderr",
     "output_type": "stream",
     "text": [
      "[I 2023-12-24 18:19:13,464] Trial 157 finished with value: 0.041475480016031546 and parameters: {'hybrid_lambda': 0.9036054239163853, 'topK': 46}. Best is trial 115 with value: 0.04199775552276559.\n"
     ]
    },
    {
     "name": "stdout",
     "output_type": "stream",
     "text": [
      "HHPRecommender: URM Detected 627 ( 4.8%) users with no interactions.\n",
      "HHPRecommender: URM Detected 247 ( 1.1%) items with no interactions.\n",
      "HHPRecommender: Similarity column 22347 (100.0%), 2051.50 column/sec. Elapsed time 10.89 sec\n",
      "EvaluatorHoldout: Processed 10456 (100.0%) in 9.61 sec. Users per second: 1088\n"
     ]
    },
    {
     "name": "stderr",
     "output_type": "stream",
     "text": [
      "[I 2023-12-24 18:19:36,979] Trial 158 finished with value: 0.0417459406613963 and parameters: {'hybrid_lambda': 0.838808383099597, 'topK': 69}. Best is trial 115 with value: 0.04199775552276559.\n"
     ]
    },
    {
     "name": "stdout",
     "output_type": "stream",
     "text": [
      "HHPRecommender: URM Detected 627 ( 4.8%) users with no interactions.\n",
      "HHPRecommender: URM Detected 247 ( 1.1%) items with no interactions.\n",
      "HHPRecommender: Similarity column 22347 (100.0%), 1924.70 column/sec. Elapsed time 11.61 sec\n",
      "EvaluatorHoldout: Processed 10456 (100.0%) in 9.64 sec. Users per second: 1085\n"
     ]
    },
    {
     "name": "stderr",
     "output_type": "stream",
     "text": [
      "[I 2023-12-24 18:20:01,494] Trial 159 finished with value: 0.0418409039846496 and parameters: {'hybrid_lambda': 0.8771649266008222, 'topK': 82}. Best is trial 115 with value: 0.04199775552276559.\n"
     ]
    },
    {
     "name": "stdout",
     "output_type": "stream",
     "text": [
      "HHPRecommender: URM Detected 627 ( 4.8%) users with no interactions.\n",
      "HHPRecommender: URM Detected 247 ( 1.1%) items with no interactions.\n",
      "HHPRecommender: Similarity column 22347 (100.0%), 1703.95 column/sec. Elapsed time 13.11 sec\n",
      "EvaluatorHoldout: Processed 10456 (100.0%) in 8.93 sec. Users per second: 1171\n"
     ]
    },
    {
     "name": "stderr",
     "output_type": "stream",
     "text": [
      "[I 2023-12-24 18:20:27,341] Trial 160 finished with value: 0.04175693533598148 and parameters: {'hybrid_lambda': 0.9523385016021875, 'topK': 104}. Best is trial 115 with value: 0.04199775552276559.\n"
     ]
    },
    {
     "name": "stdout",
     "output_type": "stream",
     "text": [
      "HHPRecommender: URM Detected 627 ( 4.8%) users with no interactions.\n",
      "HHPRecommender: URM Detected 247 ( 1.1%) items with no interactions.\n",
      "HHPRecommender: Similarity column 22347 (100.0%), 1967.33 column/sec. Elapsed time 11.36 sec\n",
      "EvaluatorHoldout: Processed 10456 (100.0%) in 9.49 sec. Users per second: 1102\n"
     ]
    },
    {
     "name": "stderr",
     "output_type": "stream",
     "text": [
      "[I 2023-12-24 18:20:51,552] Trial 161 finished with value: 0.04171766267716006 and parameters: {'hybrid_lambda': 0.846493591416841, 'topK': 78}. Best is trial 115 with value: 0.04199775552276559.\n"
     ]
    },
    {
     "name": "stdout",
     "output_type": "stream",
     "text": [
      "HHPRecommender: URM Detected 627 ( 4.8%) users with no interactions.\n",
      "HHPRecommender: URM Detected 247 ( 1.1%) items with no interactions.\n",
      "HHPRecommender: Similarity column 22347 (100.0%), 2157.23 column/sec. Elapsed time 10.36 sec\n",
      "EvaluatorHoldout: Processed 10456 (100.0%) in 9.49 sec. Users per second: 1101\n"
     ]
    },
    {
     "name": "stderr",
     "output_type": "stream",
     "text": [
      "[I 2023-12-24 18:21:14,212] Trial 162 finished with value: 0.041895342235338945 and parameters: {'hybrid_lambda': 0.8655376064962054, 'topK': 64}. Best is trial 115 with value: 0.04199775552276559.\n"
     ]
    },
    {
     "name": "stdout",
     "output_type": "stream",
     "text": [
      "HHPRecommender: URM Detected 627 ( 4.8%) users with no interactions.\n",
      "HHPRecommender: URM Detected 247 ( 1.1%) items with no interactions.\n",
      "HHPRecommender: Similarity column 22347 (100.0%), 2230.82 column/sec. Elapsed time 10.02 sec\n",
      "EvaluatorHoldout: Processed 10456 (100.0%) in 9.88 sec. Users per second: 1059\n"
     ]
    },
    {
     "name": "stderr",
     "output_type": "stream",
     "text": [
      "[I 2023-12-24 18:21:37,483] Trial 163 finished with value: 0.028982000157880237 and parameters: {'hybrid_lambda': 0.4714422280166201, 'topK': 58}. Best is trial 115 with value: 0.04199775552276559.\n"
     ]
    },
    {
     "name": "stdout",
     "output_type": "stream",
     "text": [
      "HHPRecommender: URM Detected 627 ( 4.8%) users with no interactions.\n",
      "HHPRecommender: URM Detected 247 ( 1.1%) items with no interactions.\n",
      "HHPRecommender: Similarity column 22347 (100.0%), 2122.74 column/sec. Elapsed time 10.53 sec\n",
      "EvaluatorHoldout: Processed 10456 (100.0%) in 9.42 sec. Users per second: 1110\n"
     ]
    },
    {
     "name": "stderr",
     "output_type": "stream",
     "text": [
      "[I 2023-12-24 18:22:00,175] Trial 164 finished with value: 0.04184555309627085 and parameters: {'hybrid_lambda': 0.8876998457049678, 'topK': 65}. Best is trial 115 with value: 0.04199775552276559.\n"
     ]
    },
    {
     "name": "stdout",
     "output_type": "stream",
     "text": [
      "HHPRecommender: URM Detected 627 ( 4.8%) users with no interactions.\n",
      "HHPRecommender: URM Detected 247 ( 1.1%) items with no interactions.\n",
      "HHPRecommender: Similarity column 22347 (100.0%), 2287.60 column/sec. Elapsed time 9.77 sec\n",
      "EvaluatorHoldout: Processed 10456 (100.0%) in 9.22 sec. Users per second: 1133\n"
     ]
    },
    {
     "name": "stderr",
     "output_type": "stream",
     "text": [
      "[I 2023-12-24 18:22:21,358] Trial 165 finished with value: 0.04137105527622993 and parameters: {'hybrid_lambda': 0.9160464819337553, 'topK': 52}. Best is trial 115 with value: 0.04199775552276559.\n"
     ]
    },
    {
     "name": "stdout",
     "output_type": "stream",
     "text": [
      "HHPRecommender: URM Detected 627 ( 4.8%) users with no interactions.\n",
      "HHPRecommender: URM Detected 247 ( 1.1%) items with no interactions.\n",
      "HHPRecommender: Similarity column 22347 (100.0%), 2047.57 column/sec. Elapsed time 10.91 sec\n",
      "EvaluatorHoldout: Processed 10456 (100.0%) in 9.53 sec. Users per second: 1097\n"
     ]
    },
    {
     "name": "stderr",
     "output_type": "stream",
     "text": [
      "[I 2023-12-24 18:22:44,766] Trial 166 finished with value: 0.04194337040478062 and parameters: {'hybrid_lambda': 0.8577995672299825, 'topK': 70}. Best is trial 115 with value: 0.04199775552276559.\n"
     ]
    },
    {
     "name": "stdout",
     "output_type": "stream",
     "text": [
      "HHPRecommender: URM Detected 627 ( 4.8%) users with no interactions.\n",
      "HHPRecommender: URM Detected 247 ( 1.1%) items with no interactions.\n",
      "HHPRecommender: Similarity column 22347 (100.0%), 2074.92 column/sec. Elapsed time 10.77 sec\n",
      "EvaluatorHoldout: Processed 10456 (100.0%) in 9.58 sec. Users per second: 1092\n"
     ]
    },
    {
     "name": "stderr",
     "output_type": "stream",
     "text": [
      "[I 2023-12-24 18:23:08,248] Trial 167 finished with value: 0.041543546805358635 and parameters: {'hybrid_lambda': 0.8098099255354747, 'topK': 70}. Best is trial 115 with value: 0.04199775552276559.\n"
     ]
    },
    {
     "name": "stdout",
     "output_type": "stream",
     "text": [
      "HHPRecommender: URM Detected 627 ( 4.8%) users with no interactions.\n",
      "HHPRecommender: URM Detected 247 ( 1.1%) items with no interactions.\n",
      "HHPRecommender: Similarity column 22347 (100.0%), 2179.54 column/sec. Elapsed time 10.25 sec\n",
      "EvaluatorHoldout: Processed 10456 (100.0%) in 9.39 sec. Users per second: 1113\n"
     ]
    },
    {
     "name": "stderr",
     "output_type": "stream",
     "text": [
      "[I 2023-12-24 18:23:30,475] Trial 168 finished with value: 0.04188295092967117 and parameters: {'hybrid_lambda': 0.8555129778000174, 'topK': 60}. Best is trial 115 with value: 0.04199775552276559.\n"
     ]
    },
    {
     "name": "stdout",
     "output_type": "stream",
     "text": [
      "HHPRecommender: URM Detected 627 ( 4.8%) users with no interactions.\n",
      "HHPRecommender: URM Detected 247 ( 1.1%) items with no interactions.\n",
      "HHPRecommender: Similarity column 22347 (100.0%), 2580.62 column/sec. Elapsed time 8.66 sec\n",
      "EvaluatorHoldout: Processed 10456 (100.0%) in 9.38 sec. Users per second: 1115\n"
     ]
    },
    {
     "name": "stderr",
     "output_type": "stream",
     "text": [
      "[I 2023-12-24 18:23:50,354] Trial 169 finished with value: 0.04123840948008955 and parameters: {'hybrid_lambda': 0.8660082123477156, 'topK': 36}. Best is trial 115 with value: 0.04199775552276559.\n"
     ]
    },
    {
     "name": "stdout",
     "output_type": "stream",
     "text": [
      "HHPRecommender: URM Detected 627 ( 4.8%) users with no interactions.\n",
      "HHPRecommender: URM Detected 247 ( 1.1%) items with no interactions.\n",
      "HHPRecommender: Similarity column 22347 (100.0%), 2491.10 column/sec. Elapsed time 8.97 sec\n",
      "EvaluatorHoldout: Processed 10456 (100.0%) in 9.38 sec. Users per second: 1114\n"
     ]
    },
    {
     "name": "stderr",
     "output_type": "stream",
     "text": [
      "[I 2023-12-24 18:24:10,736] Trial 170 finished with value: 0.04158349880375559 and parameters: {'hybrid_lambda': 0.8275501891051072, 'topK': 42}. Best is trial 115 with value: 0.04199775552276559.\n"
     ]
    },
    {
     "name": "stdout",
     "output_type": "stream",
     "text": [
      "HHPRecommender: URM Detected 627 ( 4.8%) users with no interactions.\n",
      "HHPRecommender: URM Detected 247 ( 1.1%) items with no interactions.\n",
      "HHPRecommender: Similarity column 22347 (100.0%), 1786.42 column/sec. Elapsed time 12.51 sec\n",
      "EvaluatorHoldout: Processed 10456 (100.0%) in 9.28 sec. Users per second: 1127\n"
     ]
    },
    {
     "name": "stderr",
     "output_type": "stream",
     "text": [
      "[I 2023-12-24 18:24:36,201] Trial 171 finished with value: 0.041830816361230046 and parameters: {'hybrid_lambda': 0.900045523354932, 'topK': 93}. Best is trial 115 with value: 0.04199775552276559.\n"
     ]
    },
    {
     "name": "stdout",
     "output_type": "stream",
     "text": [
      "HHPRecommender: URM Detected 627 ( 4.8%) users with no interactions.\n",
      "HHPRecommender: URM Detected 247 ( 1.1%) items with no interactions.\n",
      "HHPRecommender: Similarity column 22347 (100.0%), 1886.79 column/sec. Elapsed time 11.84 sec\n",
      "EvaluatorHoldout: Processed 10456 (100.0%) in 9.88 sec. Users per second: 1058\n"
     ]
    },
    {
     "name": "stderr",
     "output_type": "stream",
     "text": [
      "[I 2023-12-24 18:25:01,283] Trial 172 finished with value: 0.04194804987794708 and parameters: {'hybrid_lambda': 0.8772909434676988, 'topK': 79}. Best is trial 115 with value: 0.04199775552276559.\n"
     ]
    },
    {
     "name": "stdout",
     "output_type": "stream",
     "text": [
      "HHPRecommender: URM Detected 627 ( 4.8%) users with no interactions.\n",
      "HHPRecommender: URM Detected 247 ( 1.1%) items with no interactions.\n",
      "HHPRecommender: Similarity column 22347 (100.0%), 1996.18 column/sec. Elapsed time 11.19 sec\n",
      "EvaluatorHoldout: Processed 10456 (100.0%) in 9.56 sec. Users per second: 1093\n"
     ]
    },
    {
     "name": "stderr",
     "output_type": "stream",
     "text": [
      "[I 2023-12-24 18:25:25,227] Trial 173 finished with value: 0.04192401491966384 and parameters: {'hybrid_lambda': 0.8677143040351232, 'topK': 75}. Best is trial 115 with value: 0.04199775552276559.\n"
     ]
    },
    {
     "name": "stdout",
     "output_type": "stream",
     "text": [
      "HHPRecommender: URM Detected 627 ( 4.8%) users with no interactions.\n",
      "HHPRecommender: URM Detected 247 ( 1.1%) items with no interactions.\n",
      "HHPRecommender: Similarity column 22347 (100.0%), 1930.82 column/sec. Elapsed time 11.57 sec\n",
      "EvaluatorHoldout: Processed 10456 (100.0%) in 9.66 sec. Users per second: 1083\n"
     ]
    },
    {
     "name": "stderr",
     "output_type": "stream",
     "text": [
      "[I 2023-12-24 18:25:49,803] Trial 174 finished with value: 0.04190583214923349 and parameters: {'hybrid_lambda': 0.8776406310675456, 'topK': 81}. Best is trial 115 with value: 0.04199775552276559.\n"
     ]
    },
    {
     "name": "stdout",
     "output_type": "stream",
     "text": [
      "HHPRecommender: URM Detected 627 ( 4.8%) users with no interactions.\n",
      "HHPRecommender: URM Detected 247 ( 1.1%) items with no interactions.\n",
      "HHPRecommender: Similarity column 22347 (100.0%), 1966.28 column/sec. Elapsed time 11.37 sec\n",
      "EvaluatorHoldout: Processed 10456 (100.0%) in 9.58 sec. Users per second: 1091\n"
     ]
    },
    {
     "name": "stderr",
     "output_type": "stream",
     "text": [
      "[I 2023-12-24 18:26:13,871] Trial 175 finished with value: 0.04194436095019538 and parameters: {'hybrid_lambda': 0.8752521066738367, 'topK': 76}. Best is trial 115 with value: 0.04199775552276559.\n"
     ]
    },
    {
     "name": "stdout",
     "output_type": "stream",
     "text": [
      "HHPRecommender: URM Detected 627 ( 4.8%) users with no interactions.\n",
      "HHPRecommender: URM Detected 247 ( 1.1%) items with no interactions.\n",
      "HHPRecommender: Similarity column 22347 (100.0%), 2210.98 column/sec. Elapsed time 10.11 sec\n",
      "EvaluatorHoldout: Processed 10456 (100.0%) in 9.41 sec. Users per second: 1111\n"
     ]
    },
    {
     "name": "stderr",
     "output_type": "stream",
     "text": [
      "[I 2023-12-24 18:26:36,011] Trial 176 finished with value: 0.0419100030665167 and parameters: {'hybrid_lambda': 0.8359430701884842, 'topK': 56}. Best is trial 115 with value: 0.04199775552276559.\n"
     ]
    },
    {
     "name": "stdout",
     "output_type": "stream",
     "text": [
      "HHPRecommender: URM Detected 627 ( 4.8%) users with no interactions.\n",
      "HHPRecommender: URM Detected 247 ( 1.1%) items with no interactions.\n",
      "HHPRecommender: Similarity column 22347 (100.0%), 2364.46 column/sec. Elapsed time 9.45 sec\n",
      "EvaluatorHoldout: Processed 10456 (100.0%) in 9.41 sec. Users per second: 1111\n"
     ]
    },
    {
     "name": "stderr",
     "output_type": "stream",
     "text": [
      "[I 2023-12-24 18:26:57,283] Trial 177 finished with value: 0.04179006737226953 and parameters: {'hybrid_lambda': 0.8306050077058044, 'topK': 50}. Best is trial 115 with value: 0.04199775552276559.\n"
     ]
    },
    {
     "name": "stdout",
     "output_type": "stream",
     "text": [
      "HHPRecommender: URM Detected 627 ( 4.8%) users with no interactions.\n",
      "HHPRecommender: URM Detected 247 ( 1.1%) items with no interactions.\n",
      "HHPRecommender: Similarity column 22347 (100.0%), 1951.10 column/sec. Elapsed time 11.45 sec\n",
      "EvaluatorHoldout: Processed 10456 (100.0%) in 9.63 sec. Users per second: 1086\n"
     ]
    },
    {
     "name": "stderr",
     "output_type": "stream",
     "text": [
      "[I 2023-12-24 18:27:21,838] Trial 178 finished with value: 0.041582071811127455 and parameters: {'hybrid_lambda': 0.8033033471783204, 'topK': 79}. Best is trial 115 with value: 0.04199775552276559.\n"
     ]
    },
    {
     "name": "stdout",
     "output_type": "stream",
     "text": [
      "HHPRecommender: URM Detected 627 ( 4.8%) users with no interactions.\n",
      "HHPRecommender: URM Detected 247 ( 1.1%) items with no interactions.\n",
      "HHPRecommender: Similarity column 22347 (100.0%), 2247.18 column/sec. Elapsed time 9.94 sec\n",
      "EvaluatorHoldout: Processed 10456 (100.0%) in 9.79 sec. Users per second: 1068\n"
     ]
    },
    {
     "name": "stderr",
     "output_type": "stream",
     "text": [
      "[I 2023-12-24 18:27:44,601] Trial 179 finished with value: 0.038603623195006584 and parameters: {'hybrid_lambda': 0.6547457365204962, 'topK': 56}. Best is trial 115 with value: 0.04199775552276559.\n"
     ]
    },
    {
     "name": "stdout",
     "output_type": "stream",
     "text": [
      "HHPRecommender: URM Detected 627 ( 4.8%) users with no interactions.\n",
      "HHPRecommender: URM Detected 247 ( 1.1%) items with no interactions.\n",
      "HHPRecommender: Similarity column 22347 (100.0%), 1992.11 column/sec. Elapsed time 11.22 sec\n",
      "EvaluatorHoldout: Processed 10456 (100.0%) in 9.63 sec. Users per second: 1086\n"
     ]
    },
    {
     "name": "stderr",
     "output_type": "stream",
     "text": [
      "[I 2023-12-24 18:28:08,842] Trial 180 finished with value: 0.04142144026062399 and parameters: {'hybrid_lambda': 0.7850783787735208, 'topK': 74}. Best is trial 115 with value: 0.04199775552276559.\n"
     ]
    },
    {
     "name": "stdout",
     "output_type": "stream",
     "text": [
      "HHPRecommender: URM Detected 627 ( 4.8%) users with no interactions.\n",
      "HHPRecommender: URM Detected 247 ( 1.1%) items with no interactions.\n",
      "HHPRecommender: Similarity column 22347 (100.0%), 2117.06 column/sec. Elapsed time 10.56 sec\n",
      "EvaluatorHoldout: Processed 10456 (100.0%) in 9.68 sec. Users per second: 1080\n"
     ]
    },
    {
     "name": "stderr",
     "output_type": "stream",
     "text": [
      "[I 2023-12-24 18:28:31,806] Trial 181 finished with value: 0.04195718870307674 and parameters: {'hybrid_lambda': 0.873764615226206, 'topK': 63}. Best is trial 115 with value: 0.04199775552276559.\n"
     ]
    },
    {
     "name": "stdout",
     "output_type": "stream",
     "text": [
      "HHPRecommender: URM Detected 627 ( 4.8%) users with no interactions.\n",
      "HHPRecommender: URM Detected 247 ( 1.1%) items with no interactions.\n",
      "HHPRecommender: Similarity column 22347 (100.0%), 2158.62 column/sec. Elapsed time 10.35 sec\n",
      "EvaluatorHoldout: Processed 10456 (100.0%) in 9.40 sec. Users per second: 1112\n"
     ]
    },
    {
     "name": "stderr",
     "output_type": "stream",
     "text": [
      "[I 2023-12-24 18:28:54,307] Trial 182 finished with value: 0.04188753172781537 and parameters: {'hybrid_lambda': 0.8755785775287401, 'topK': 63}. Best is trial 115 with value: 0.04199775552276559.\n"
     ]
    },
    {
     "name": "stdout",
     "output_type": "stream",
     "text": [
      "HHPRecommender: URM Detected 627 ( 4.8%) users with no interactions.\n",
      "HHPRecommender: URM Detected 247 ( 1.1%) items with no interactions.\n",
      "HHPRecommender: Similarity column 22347 (100.0%), 2244.50 column/sec. Elapsed time 9.96 sec\n",
      "EvaluatorHoldout: Processed 10456 (100.0%) in 9.41 sec. Users per second: 1111\n"
     ]
    },
    {
     "name": "stderr",
     "output_type": "stream",
     "text": [
      "[I 2023-12-24 18:29:16,189] Trial 183 finished with value: 0.041855283971533604 and parameters: {'hybrid_lambda': 0.8415311268301093, 'topK': 54}. Best is trial 115 with value: 0.04199775552276559.\n"
     ]
    },
    {
     "name": "stdout",
     "output_type": "stream",
     "text": [
      "HHPRecommender: URM Detected 627 ( 4.8%) users with no interactions.\n",
      "HHPRecommender: URM Detected 247 ( 1.1%) items with no interactions.\n",
      "HHPRecommender: Similarity column 22347 (100.0%), 1859.18 column/sec. Elapsed time 12.02 sec\n",
      "EvaluatorHoldout: Processed 10456 (100.0%) in 9.58 sec. Users per second: 1091\n"
     ]
    },
    {
     "name": "stderr",
     "output_type": "stream",
     "text": [
      "[I 2023-12-24 18:29:41,315] Trial 184 finished with value: 0.04185360649615666 and parameters: {'hybrid_lambda': 0.8762793697490957, 'topK': 87}. Best is trial 115 with value: 0.04199775552276559.\n"
     ]
    },
    {
     "name": "stdout",
     "output_type": "stream",
     "text": [
      "HHPRecommender: URM Detected 627 ( 4.8%) users with no interactions.\n",
      "HHPRecommender: URM Detected 247 ( 1.1%) items with no interactions.\n",
      "HHPRecommender: Similarity column 22347 (100.0%), 2409.45 column/sec. Elapsed time 9.27 sec\n",
      "EvaluatorHoldout: Processed 10456 (100.0%) in 9.60 sec. Users per second: 1089\n"
     ]
    },
    {
     "name": "stderr",
     "output_type": "stream",
     "text": [
      "[I 2023-12-24 18:30:02,410] Trial 185 finished with value: 0.041509481151553236 and parameters: {'hybrid_lambda': 0.8498506782639107, 'topK': 46}. Best is trial 115 with value: 0.04199775552276559.\n"
     ]
    },
    {
     "name": "stdout",
     "output_type": "stream",
     "text": [
      "HHPRecommender: URM Detected 627 ( 4.8%) users with no interactions.\n",
      "HHPRecommender: URM Detected 247 ( 1.1%) items with no interactions.\n",
      "HHPRecommender: Similarity column 22347 (100.0%), 1978.89 column/sec. Elapsed time 11.29 sec\n",
      "EvaluatorHoldout: Processed 10456 (100.0%) in 9.42 sec. Users per second: 1110\n"
     ]
    },
    {
     "name": "stderr",
     "output_type": "stream",
     "text": [
      "[I 2023-12-24 18:30:26,088] Trial 186 finished with value: 0.041737450814297174 and parameters: {'hybrid_lambda': 0.9081033634040022, 'topK': 74}. Best is trial 115 with value: 0.04199775552276559.\n"
     ]
    },
    {
     "name": "stdout",
     "output_type": "stream",
     "text": [
      "HHPRecommender: URM Detected 627 ( 4.8%) users with no interactions.\n",
      "HHPRecommender: URM Detected 247 ( 1.1%) items with no interactions.\n",
      "HHPRecommender: Similarity column 22347 (100.0%), 2159.33 column/sec. Elapsed time 10.35 sec\n",
      "EvaluatorHoldout: Processed 10456 (100.0%) in 9.51 sec. Users per second: 1100\n"
     ]
    },
    {
     "name": "stderr",
     "output_type": "stream",
     "text": [
      "[I 2023-12-24 18:30:48,743] Trial 187 finished with value: 0.041813487509260755 and parameters: {'hybrid_lambda': 0.8277898411336193, 'topK': 61}. Best is trial 115 with value: 0.04199775552276559.\n"
     ]
    },
    {
     "name": "stdout",
     "output_type": "stream",
     "text": [
      "HHPRecommender: URM Detected 627 ( 4.8%) users with no interactions.\n",
      "HHPRecommender: URM Detected 247 ( 1.1%) items with no interactions.\n",
      "HHPRecommender: Similarity column 22347 (100.0%), 1962.90 column/sec. Elapsed time 11.38 sec\n",
      "EvaluatorHoldout: Processed 10456 (100.0%) in 9.54 sec. Users per second: 1096\n"
     ]
    },
    {
     "name": "stderr",
     "output_type": "stream",
     "text": [
      "[I 2023-12-24 18:31:13,057] Trial 188 finished with value: 0.04198829790141046 and parameters: {'hybrid_lambda': 0.891397596697817, 'topK': 83}. Best is trial 115 with value: 0.04199775552276559.\n"
     ]
    },
    {
     "name": "stdout",
     "output_type": "stream",
     "text": [
      "HHPRecommender: URM Detected 627 ( 4.8%) users with no interactions.\n",
      "HHPRecommender: URM Detected 247 ( 1.1%) items with no interactions.\n",
      "HHPRecommender: Similarity column 22347 (100.0%), 1781.37 column/sec. Elapsed time 12.54 sec\n",
      "EvaluatorHoldout: Processed 10456 (100.0%) in 10.11 sec. Users per second: 1035\n"
     ]
    },
    {
     "name": "stderr",
     "output_type": "stream",
     "text": [
      "[I 2023-12-24 18:31:40,194] Trial 189 finished with value: 0.04041141791452672 and parameters: {'hybrid_lambda': 0.7335107238624177, 'topK': 95}. Best is trial 115 with value: 0.04199775552276559.\n"
     ]
    },
    {
     "name": "stdout",
     "output_type": "stream",
     "text": [
      "HHPRecommender: URM Detected 627 ( 4.8%) users with no interactions.\n",
      "HHPRecommender: URM Detected 247 ( 1.1%) items with no interactions.\n",
      "HHPRecommender: Similarity column 22347 (100.0%), 2098.14 column/sec. Elapsed time 10.65 sec\n",
      "EvaluatorHoldout: Processed 10456 (100.0%) in 9.50 sec. Users per second: 1100\n"
     ]
    },
    {
     "name": "stderr",
     "output_type": "stream",
     "text": [
      "[I 2023-12-24 18:32:03,089] Trial 190 finished with value: 0.041820307471369576 and parameters: {'hybrid_lambda': 0.8812221792866383, 'topK': 66}. Best is trial 115 with value: 0.04199775552276559.\n"
     ]
    },
    {
     "name": "stdout",
     "output_type": "stream",
     "text": [
      "HHPRecommender: URM Detected 627 ( 4.8%) users with no interactions.\n",
      "HHPRecommender: URM Detected 247 ( 1.1%) items with no interactions.\n",
      "HHPRecommender: Similarity column 22347 (100.0%), 1900.65 column/sec. Elapsed time 11.76 sec\n",
      "EvaluatorHoldout: Processed 10456 (100.0%) in 9.54 sec. Users per second: 1096\n"
     ]
    },
    {
     "name": "stderr",
     "output_type": "stream",
     "text": [
      "[I 2023-12-24 18:32:27,645] Trial 191 finished with value: 0.04184753798229371 and parameters: {'hybrid_lambda': 0.9030834651224989, 'topK': 82}. Best is trial 115 with value: 0.04199775552276559.\n"
     ]
    },
    {
     "name": "stdout",
     "output_type": "stream",
     "text": [
      "HHPRecommender: URM Detected 627 ( 4.8%) users with no interactions.\n",
      "HHPRecommender: URM Detected 247 ( 1.1%) items with no interactions.\n",
      "HHPRecommender: Similarity column 22347 (100.0%), 1992.17 column/sec. Elapsed time 11.22 sec\n",
      "EvaluatorHoldout: Processed 10456 (100.0%) in 9.49 sec. Users per second: 1102\n"
     ]
    },
    {
     "name": "stderr",
     "output_type": "stream",
     "text": [
      "[I 2023-12-24 18:32:51,511] Trial 192 finished with value: 0.04187300372839833 and parameters: {'hybrid_lambda': 0.8594851266012881, 'topK': 73}. Best is trial 115 with value: 0.04199775552276559.\n"
     ]
    },
    {
     "name": "stdout",
     "output_type": "stream",
     "text": [
      "HHPRecommender: URM Detected 627 ( 4.8%) users with no interactions.\n",
      "HHPRecommender: URM Detected 247 ( 1.1%) items with no interactions.\n",
      "HHPRecommender: Similarity column 22347 (100.0%), 1919.79 column/sec. Elapsed time 11.64 sec\n",
      "EvaluatorHoldout: Processed 10456 (100.0%) in 9.65 sec. Users per second: 1083\n"
     ]
    },
    {
     "name": "stderr",
     "output_type": "stream",
     "text": [
      "[I 2023-12-24 18:33:16,146] Trial 193 finished with value: 0.04199023344992217 and parameters: {'hybrid_lambda': 0.8862928875981946, 'topK': 83}. Best is trial 115 with value: 0.04199775552276559.\n"
     ]
    },
    {
     "name": "stdout",
     "output_type": "stream",
     "text": [
      "HHPRecommender: URM Detected 627 ( 4.8%) users with no interactions.\n",
      "HHPRecommender: URM Detected 247 ( 1.1%) items with no interactions.\n",
      "HHPRecommender: Similarity column 22347 (100.0%), 1672.92 column/sec. Elapsed time 13.36 sec\n",
      "EvaluatorHoldout: Processed 10456 (100.0%) in 9.29 sec. Users per second: 1125\n"
     ]
    },
    {
     "name": "stderr",
     "output_type": "stream",
     "text": [
      "[I 2023-12-24 18:33:43,089] Trial 194 finished with value: 0.04173842238374624 and parameters: {'hybrid_lambda': 0.8784040864710705, 'topK': 113}. Best is trial 115 with value: 0.04199775552276559.\n"
     ]
    },
    {
     "name": "stdout",
     "output_type": "stream",
     "text": [
      "HHPRecommender: URM Detected 627 ( 4.8%) users with no interactions.\n",
      "HHPRecommender: URM Detected 247 ( 1.1%) items with no interactions.\n",
      "HHPRecommender: Similarity column 22347 (100.0%), 2261.74 column/sec. Elapsed time 9.88 sec\n",
      "EvaluatorHoldout: Processed 10456 (100.0%) in 9.44 sec. Users per second: 1108\n"
     ]
    },
    {
     "name": "stderr",
     "output_type": "stream",
     "text": [
      "[I 2023-12-24 18:34:04,958] Trial 195 finished with value: 0.0419200185812663 and parameters: {'hybrid_lambda': 0.8424499914451966, 'topK': 55}. Best is trial 115 with value: 0.04199775552276559.\n"
     ]
    },
    {
     "name": "stdout",
     "output_type": "stream",
     "text": [
      "HHPRecommender: URM Detected 627 ( 4.8%) users with no interactions.\n",
      "HHPRecommender: URM Detected 247 ( 1.1%) items with no interactions.\n",
      "HHPRecommender: Similarity column 22347 (100.0%), 2255.06 column/sec. Elapsed time 9.91 sec\n",
      "EvaluatorHoldout: Processed 10456 (100.0%) in 9.43 sec. Users per second: 1108\n"
     ]
    },
    {
     "name": "stderr",
     "output_type": "stream",
     "text": [
      "[I 2023-12-24 18:34:26,840] Trial 196 finished with value: 0.041877876756416 and parameters: {'hybrid_lambda': 0.8404441774101961, 'topK': 55}. Best is trial 115 with value: 0.04199775552276559.\n"
     ]
    },
    {
     "name": "stdout",
     "output_type": "stream",
     "text": [
      "HHPRecommender: URM Detected 627 ( 4.8%) users with no interactions.\n",
      "HHPRecommender: URM Detected 247 ( 1.1%) items with no interactions.\n",
      "HHPRecommender: Similarity column 22347 (100.0%), 2369.26 column/sec. Elapsed time 9.43 sec\n",
      "EvaluatorHoldout: Processed 10456 (100.0%) in 9.55 sec. Users per second: 1095\n"
     ]
    },
    {
     "name": "stderr",
     "output_type": "stream",
     "text": [
      "[I 2023-12-24 18:34:48,090] Trial 197 finished with value: 0.04178525127214929 and parameters: {'hybrid_lambda': 0.8104430705604291, 'topK': 48}. Best is trial 115 with value: 0.04199775552276559.\n"
     ]
    },
    {
     "name": "stdout",
     "output_type": "stream",
     "text": [
      "HHPRecommender: URM Detected 627 ( 4.8%) users with no interactions.\n",
      "HHPRecommender: URM Detected 247 ( 1.1%) items with no interactions.\n",
      "HHPRecommender: Similarity column 22347 (100.0%), 2162.43 column/sec. Elapsed time 10.33 sec\n",
      "EvaluatorHoldout: Processed 10456 (100.0%) in 9.49 sec. Users per second: 1101\n"
     ]
    },
    {
     "name": "stderr",
     "output_type": "stream",
     "text": [
      "[I 2023-12-24 18:35:10,564] Trial 198 finished with value: 0.04189078800354689 and parameters: {'hybrid_lambda': 0.8539576728403233, 'topK': 60}. Best is trial 115 with value: 0.04199775552276559.\n"
     ]
    },
    {
     "name": "stdout",
     "output_type": "stream",
     "text": [
      "HHPRecommender: URM Detected 627 ( 4.8%) users with no interactions.\n",
      "HHPRecommender: URM Detected 247 ( 1.1%) items with no interactions.\n",
      "HHPRecommender: Similarity column 22347 (100.0%), 1840.72 column/sec. Elapsed time 12.14 sec\n",
      "EvaluatorHoldout: Processed 10456 (100.0%) in 9.66 sec. Users per second: 1082\n"
     ]
    },
    {
     "name": "stderr",
     "output_type": "stream",
     "text": [
      "[I 2023-12-24 18:35:36,163] Trial 199 finished with value: 0.04162839973403335 and parameters: {'hybrid_lambda': 0.8314614804747515, 'topK': 88}. Best is trial 115 with value: 0.04199775552276559.\n"
     ]
    }
   ],
   "source": [
    "if config['tune_parameters']:\n",
    "    study = optuna.create_study(direction='maximize', study_name='tuning_fixed',\n",
    "                                storage=f'sqlite:///{config[\"database_path\"]}', load_if_exists=True)\n",
    "    study.optimize(objective_function_hhp, n_trials=200)"
   ]
  },
  {
   "cell_type": "code",
   "execution_count": 18,
   "id": "40ca1c9b",
   "metadata": {
    "execution": {
     "iopub.execute_input": "2023-12-24T18:35:36.439580Z",
     "iopub.status.busy": "2023-12-24T18:35:36.439102Z",
     "iopub.status.idle": "2023-12-24T18:35:37.330247Z",
     "shell.execute_reply": "2023-12-24T18:35:37.329307Z"
    },
    "papermill": {
     "duration": 1.000332,
     "end_time": "2023-12-24T18:35:37.332574",
     "exception": false,
     "start_time": "2023-12-24T18:35:36.332242",
     "status": "completed"
    },
    "tags": []
   },
   "outputs": [
    {
     "data": {
      "text/html": [
       "        <script type=\"text/javascript\">\n",
       "        window.PlotlyConfig = {MathJaxConfig: 'local'};\n",
       "        if (window.MathJax && window.MathJax.Hub && window.MathJax.Hub.Config) {window.MathJax.Hub.Config({SVG: {font: \"STIX-Web\"}});}\n",
       "        if (typeof require !== 'undefined') {\n",
       "        require.undef(\"plotly\");\n",
       "        requirejs.config({\n",
       "            paths: {\n",
       "                'plotly': ['https://cdn.plot.ly/plotly-2.25.2.min']\n",
       "            }\n",
       "        });\n",
       "        require(['plotly'], function(Plotly) {\n",
       "            window._Plotly = Plotly;\n",
       "        });\n",
       "        }\n",
       "        </script>\n",
       "        "
      ]
     },
     "metadata": {},
     "output_type": "display_data"
    },
    {
     "data": {
      "text/html": [
       "<div>                            <div id=\"04917e44-29c8-4606-9ebc-fcd3169254b4\" class=\"plotly-graph-div\" style=\"height:525px; width:100%;\"></div>            <script type=\"text/javascript\">                require([\"plotly\"], function(Plotly) {                    window.PLOTLYENV=window.PLOTLYENV || {};                                    if (document.getElementById(\"04917e44-29c8-4606-9ebc-fcd3169254b4\")) {                    Plotly.newPlot(                        \"04917e44-29c8-4606-9ebc-fcd3169254b4\",                        [{\"mode\":\"markers\",\"name\":\"Objective Value\",\"x\":[0,1,2,3,4,5,6,7,8,9,10,11,12,13,14,15,16,17,18,19,20,21,22,23,24,25,26,27,28,29,30,31,32,33,34,35,36,37,38,39,40,41,42,43,44,45,46,47,48,49,50,51,52,53,54,55,56,57,58,59,60,61,62,63,64,65,66,67,68,69,70,71,72,73,74,75,76,77,78,79,80,81,82,83,84,85,86,87,88,89,90,91,92,93,94,95,96,97,98,99,100,101,102,103,104,105,106,107,108,109,110,111,112,113,114,115,116,117,118,119,120,121,122,123,124,125,126,127,128,129,130,131,132,133,134,135,136,137,138,139,140,141,142,143,144,145,146,147,148,149,150,151,152,153,154,155,156,157,158,159,160,161,162,163,164,165,166,167,168,169,170,171,172,173,174,175,176,177,178,179,180,181,182,183,184,185,186,187,188,189,190,191,192,193,194,195,196,197,198,199],\"y\":[0.02818601911562912,0.0015701017718997828,0.033171593586427545,0.02936595984989277,0.032042345247203924,0.006279321662355323,0.00959179661408045,0.03138064193415206,0.03366505598668983,0.013731240360209396,0.04067155563449602,0.04116753804301682,0.04164477599251938,0.04130699621087967,0.04031737302801821,0.04088821941681591,0.04077317952174546,0.040615534788259175,0.03846402080980352,0.04167629127652131,0.04161290016516734,0.041462993830534575,0.03664662804678142,0.04080618631665936,0.04165676500771237,0.04138195507098586,0.041370114068326205,0.0371633815474677,0.04016443812924352,0.04143049938669734,0.03929370696251007,0.04181880077968494,0.04185383041255327,0.041864422796663164,0.041734429840541674,0.04170182533610286,0.04126446727632704,0.04104459655578686,0.04162122302376753,0.041711241210333046,0.041133920222004246,0.04176513674840037,0.04187703422353435,0.04114455055804561,0.04145811700732382,0.04074351629200578,0.04046469483610896,0.039384393103071715,0.04154518253361078,0.04026236170316172,0.041815521732794535,0.04157821589487667,0.041647182144983,0.041612668658384595,0.0416846217255078,0.04173162898798954,0.04144485280722905,0.040871683760217145,0.04188770630670064,0.04167272759014394,0.04103095283637605,0.04193336627561052,0.04179980963311164,0.040809366688527624,0.04156696314715687,0.04170593553029519,0.04175561840395479,0.04089165406662586,0.041204996599507424,0.04180402229751945,0.039778022947256415,0.04175029754314432,0.041872563485991776,0.04150894602931759,0.04136030728920031,0.04180992382288341,0.04129649491140549,0.041944129443412644,0.041479267618805216,0.041711214643980976,0.04189272734725166,0.041884355151140425,0.04155085255219202,0.041792670874777386,0.04145792724766578,0.041731811157261246,0.04139933705565935,0.04187749723709994,0.04173064982815419,0.04176670036798234,0.041372448112119674,0.04171412555713493,0.04186386110807543,0.041903915576687704,0.04170908174542499,0.04157311136007628,0.04112787068410686,0.04150216022394728,0.04172620186177048,0.0415463742242631,0.041668716070973666,0.041894082231209745,0.0417596375135114,0.04178723615817206,0.04158780634799248,0.04165588831809234,0.04196782662950464,0.04166179363864952,0.04149718472571438,0.04162994817284268,0.04117918928601845,0.041902477198480066,0.04196668048117025,0.041892492045275606,0.04162633135376104,0.04199775552276559,0.0418505210041176,0.04183001557547318,0.04155012007991209,0.0410543539974016,0.041685684379592663,0.04195967455459669,0.04185587222647325,0.041860350554402403,0.041593290402108754,0.041540654868170684,0.04181337365346602,0.04162350393485676,0.041722159981054954,0.041444780698558885,0.041248140355352125,0.04198738325985886,0.04164820305194309,0.04173538622921799,0.04163003166709219,0.04194383341834633,0.04186298062326236,0.04149251284293417,0.041772476651972215,0.041892492045275634,0.035501796644442446,0.04184235754362999,0.04161440306165879,0.04177349376373925,0.041992028576286936,0.03769737281548729,0.041839203738113936,0.041591836843128456,0.041403234719034676,0.04171782207527285,0.04119312523530257,0.04187451042008286,0.04176136812159238,0.04192201485286852,0.04142992251733697,0.04170763577683087,0.04136168114912431,0.041475480016031546,0.0417459406613963,0.0418409039846496,0.04175693533598148,0.04171766267716006,0.041895342235338945,0.028982000157880237,0.04184555309627085,0.04137105527622993,0.04194337040478062,0.041543546805358635,0.04188295092967117,0.04123840948008955,0.04158349880375559,0.041830816361230046,0.04194804987794708,0.04192401491966384,0.04190583214923349,0.04194436095019538,0.0419100030665167,0.04179006737226953,0.041582071811127455,0.038603623195006584,0.04142144026062399,0.04195718870307674,0.04188753172781537,0.041855283971533604,0.04185360649615666,0.041509481151553236,0.041737450814297174,0.041813487509260755,0.04198829790141046,0.04041141791452672,0.041820307471369576,0.04184753798229371,0.04187300372839833,0.04199023344992217,0.04173842238374624,0.0419200185812663,0.041877876756416,0.04178525127214929,0.04189078800354689,0.04162839973403335],\"type\":\"scatter\"},{\"mode\":\"lines\",\"name\":\"Best Value\",\"x\":[0,1,2,3,4,5,6,7,8,9,10,11,12,13,14,15,16,17,18,19,20,21,22,23,24,25,26,27,28,29,30,31,32,33,34,35,36,37,38,39,40,41,42,43,44,45,46,47,48,49,50,51,52,53,54,55,56,57,58,59,60,61,62,63,64,65,66,67,68,69,70,71,72,73,74,75,76,77,78,79,80,81,82,83,84,85,86,87,88,89,90,91,92,93,94,95,96,97,98,99,100,101,102,103,104,105,106,107,108,109,110,111,112,113,114,115,116,117,118,119,120,121,122,123,124,125,126,127,128,129,130,131,132,133,134,135,136,137,138,139,140,141,142,143,144,145,146,147,148,149,150,151,152,153,154,155,156,157,158,159,160,161,162,163,164,165,166,167,168,169,170,171,172,173,174,175,176,177,178,179,180,181,182,183,184,185,186,187,188,189,190,191,192,193,194,195,196,197,198,199],\"y\":[0.02818601911562912,0.02818601911562912,0.033171593586427545,0.033171593586427545,0.033171593586427545,0.033171593586427545,0.033171593586427545,0.033171593586427545,0.03366505598668983,0.03366505598668983,0.04067155563449602,0.04116753804301682,0.04164477599251938,0.04164477599251938,0.04164477599251938,0.04164477599251938,0.04164477599251938,0.04164477599251938,0.04164477599251938,0.04167629127652131,0.04167629127652131,0.04167629127652131,0.04167629127652131,0.04167629127652131,0.04167629127652131,0.04167629127652131,0.04167629127652131,0.04167629127652131,0.04167629127652131,0.04167629127652131,0.04167629127652131,0.04181880077968494,0.04185383041255327,0.041864422796663164,0.041864422796663164,0.041864422796663164,0.041864422796663164,0.041864422796663164,0.041864422796663164,0.041864422796663164,0.041864422796663164,0.041864422796663164,0.04187703422353435,0.04187703422353435,0.04187703422353435,0.04187703422353435,0.04187703422353435,0.04187703422353435,0.04187703422353435,0.04187703422353435,0.04187703422353435,0.04187703422353435,0.04187703422353435,0.04187703422353435,0.04187703422353435,0.04187703422353435,0.04187703422353435,0.04187703422353435,0.04188770630670064,0.04188770630670064,0.04188770630670064,0.04193336627561052,0.04193336627561052,0.04193336627561052,0.04193336627561052,0.04193336627561052,0.04193336627561052,0.04193336627561052,0.04193336627561052,0.04193336627561052,0.04193336627561052,0.04193336627561052,0.04193336627561052,0.04193336627561052,0.04193336627561052,0.04193336627561052,0.04193336627561052,0.041944129443412644,0.041944129443412644,0.041944129443412644,0.041944129443412644,0.041944129443412644,0.041944129443412644,0.041944129443412644,0.041944129443412644,0.041944129443412644,0.041944129443412644,0.041944129443412644,0.041944129443412644,0.041944129443412644,0.041944129443412644,0.041944129443412644,0.041944129443412644,0.041944129443412644,0.041944129443412644,0.041944129443412644,0.041944129443412644,0.041944129443412644,0.041944129443412644,0.041944129443412644,0.041944129443412644,0.041944129443412644,0.041944129443412644,0.041944129443412644,0.041944129443412644,0.041944129443412644,0.04196782662950464,0.04196782662950464,0.04196782662950464,0.04196782662950464,0.04196782662950464,0.04196782662950464,0.04196782662950464,0.04196782662950464,0.04196782662950464,0.04199775552276559,0.04199775552276559,0.04199775552276559,0.04199775552276559,0.04199775552276559,0.04199775552276559,0.04199775552276559,0.04199775552276559,0.04199775552276559,0.04199775552276559,0.04199775552276559,0.04199775552276559,0.04199775552276559,0.04199775552276559,0.04199775552276559,0.04199775552276559,0.04199775552276559,0.04199775552276559,0.04199775552276559,0.04199775552276559,0.04199775552276559,0.04199775552276559,0.04199775552276559,0.04199775552276559,0.04199775552276559,0.04199775552276559,0.04199775552276559,0.04199775552276559,0.04199775552276559,0.04199775552276559,0.04199775552276559,0.04199775552276559,0.04199775552276559,0.04199775552276559,0.04199775552276559,0.04199775552276559,0.04199775552276559,0.04199775552276559,0.04199775552276559,0.04199775552276559,0.04199775552276559,0.04199775552276559,0.04199775552276559,0.04199775552276559,0.04199775552276559,0.04199775552276559,0.04199775552276559,0.04199775552276559,0.04199775552276559,0.04199775552276559,0.04199775552276559,0.04199775552276559,0.04199775552276559,0.04199775552276559,0.04199775552276559,0.04199775552276559,0.04199775552276559,0.04199775552276559,0.04199775552276559,0.04199775552276559,0.04199775552276559,0.04199775552276559,0.04199775552276559,0.04199775552276559,0.04199775552276559,0.04199775552276559,0.04199775552276559,0.04199775552276559,0.04199775552276559,0.04199775552276559,0.04199775552276559,0.04199775552276559,0.04199775552276559,0.04199775552276559,0.04199775552276559,0.04199775552276559,0.04199775552276559,0.04199775552276559,0.04199775552276559,0.04199775552276559,0.04199775552276559,0.04199775552276559,0.04199775552276559,0.04199775552276559,0.04199775552276559],\"type\":\"scatter\"},{\"marker\":{\"color\":\"#cccccc\"},\"mode\":\"markers\",\"name\":\"Infeasible Trial\",\"showlegend\":false,\"x\":[],\"y\":[],\"type\":\"scatter\"}],                        {\"title\":{\"text\":\"Optimization History Plot\"},\"xaxis\":{\"title\":{\"text\":\"Trial\"}},\"yaxis\":{\"title\":{\"text\":\"Objective Value\"}},\"template\":{\"data\":{\"histogram2dcontour\":[{\"type\":\"histogram2dcontour\",\"colorbar\":{\"outlinewidth\":0,\"ticks\":\"\"},\"colorscale\":[[0.0,\"#0d0887\"],[0.1111111111111111,\"#46039f\"],[0.2222222222222222,\"#7201a8\"],[0.3333333333333333,\"#9c179e\"],[0.4444444444444444,\"#bd3786\"],[0.5555555555555556,\"#d8576b\"],[0.6666666666666666,\"#ed7953\"],[0.7777777777777778,\"#fb9f3a\"],[0.8888888888888888,\"#fdca26\"],[1.0,\"#f0f921\"]]}],\"choropleth\":[{\"type\":\"choropleth\",\"colorbar\":{\"outlinewidth\":0,\"ticks\":\"\"}}],\"histogram2d\":[{\"type\":\"histogram2d\",\"colorbar\":{\"outlinewidth\":0,\"ticks\":\"\"},\"colorscale\":[[0.0,\"#0d0887\"],[0.1111111111111111,\"#46039f\"],[0.2222222222222222,\"#7201a8\"],[0.3333333333333333,\"#9c179e\"],[0.4444444444444444,\"#bd3786\"],[0.5555555555555556,\"#d8576b\"],[0.6666666666666666,\"#ed7953\"],[0.7777777777777778,\"#fb9f3a\"],[0.8888888888888888,\"#fdca26\"],[1.0,\"#f0f921\"]]}],\"heatmap\":[{\"type\":\"heatmap\",\"colorbar\":{\"outlinewidth\":0,\"ticks\":\"\"},\"colorscale\":[[0.0,\"#0d0887\"],[0.1111111111111111,\"#46039f\"],[0.2222222222222222,\"#7201a8\"],[0.3333333333333333,\"#9c179e\"],[0.4444444444444444,\"#bd3786\"],[0.5555555555555556,\"#d8576b\"],[0.6666666666666666,\"#ed7953\"],[0.7777777777777778,\"#fb9f3a\"],[0.8888888888888888,\"#fdca26\"],[1.0,\"#f0f921\"]]}],\"heatmapgl\":[{\"type\":\"heatmapgl\",\"colorbar\":{\"outlinewidth\":0,\"ticks\":\"\"},\"colorscale\":[[0.0,\"#0d0887\"],[0.1111111111111111,\"#46039f\"],[0.2222222222222222,\"#7201a8\"],[0.3333333333333333,\"#9c179e\"],[0.4444444444444444,\"#bd3786\"],[0.5555555555555556,\"#d8576b\"],[0.6666666666666666,\"#ed7953\"],[0.7777777777777778,\"#fb9f3a\"],[0.8888888888888888,\"#fdca26\"],[1.0,\"#f0f921\"]]}],\"contourcarpet\":[{\"type\":\"contourcarpet\",\"colorbar\":{\"outlinewidth\":0,\"ticks\":\"\"}}],\"contour\":[{\"type\":\"contour\",\"colorbar\":{\"outlinewidth\":0,\"ticks\":\"\"},\"colorscale\":[[0.0,\"#0d0887\"],[0.1111111111111111,\"#46039f\"],[0.2222222222222222,\"#7201a8\"],[0.3333333333333333,\"#9c179e\"],[0.4444444444444444,\"#bd3786\"],[0.5555555555555556,\"#d8576b\"],[0.6666666666666666,\"#ed7953\"],[0.7777777777777778,\"#fb9f3a\"],[0.8888888888888888,\"#fdca26\"],[1.0,\"#f0f921\"]]}],\"surface\":[{\"type\":\"surface\",\"colorbar\":{\"outlinewidth\":0,\"ticks\":\"\"},\"colorscale\":[[0.0,\"#0d0887\"],[0.1111111111111111,\"#46039f\"],[0.2222222222222222,\"#7201a8\"],[0.3333333333333333,\"#9c179e\"],[0.4444444444444444,\"#bd3786\"],[0.5555555555555556,\"#d8576b\"],[0.6666666666666666,\"#ed7953\"],[0.7777777777777778,\"#fb9f3a\"],[0.8888888888888888,\"#fdca26\"],[1.0,\"#f0f921\"]]}],\"mesh3d\":[{\"type\":\"mesh3d\",\"colorbar\":{\"outlinewidth\":0,\"ticks\":\"\"}}],\"scatter\":[{\"fillpattern\":{\"fillmode\":\"overlay\",\"size\":10,\"solidity\":0.2},\"type\":\"scatter\"}],\"parcoords\":[{\"type\":\"parcoords\",\"line\":{\"colorbar\":{\"outlinewidth\":0,\"ticks\":\"\"}}}],\"scatterpolargl\":[{\"type\":\"scatterpolargl\",\"marker\":{\"colorbar\":{\"outlinewidth\":0,\"ticks\":\"\"}}}],\"bar\":[{\"error_x\":{\"color\":\"#2a3f5f\"},\"error_y\":{\"color\":\"#2a3f5f\"},\"marker\":{\"line\":{\"color\":\"#E5ECF6\",\"width\":0.5},\"pattern\":{\"fillmode\":\"overlay\",\"size\":10,\"solidity\":0.2}},\"type\":\"bar\"}],\"scattergeo\":[{\"type\":\"scattergeo\",\"marker\":{\"colorbar\":{\"outlinewidth\":0,\"ticks\":\"\"}}}],\"scatterpolar\":[{\"type\":\"scatterpolar\",\"marker\":{\"colorbar\":{\"outlinewidth\":0,\"ticks\":\"\"}}}],\"histogram\":[{\"marker\":{\"pattern\":{\"fillmode\":\"overlay\",\"size\":10,\"solidity\":0.2}},\"type\":\"histogram\"}],\"scattergl\":[{\"type\":\"scattergl\",\"marker\":{\"colorbar\":{\"outlinewidth\":0,\"ticks\":\"\"}}}],\"scatter3d\":[{\"type\":\"scatter3d\",\"line\":{\"colorbar\":{\"outlinewidth\":0,\"ticks\":\"\"}},\"marker\":{\"colorbar\":{\"outlinewidth\":0,\"ticks\":\"\"}}}],\"scattermapbox\":[{\"type\":\"scattermapbox\",\"marker\":{\"colorbar\":{\"outlinewidth\":0,\"ticks\":\"\"}}}],\"scatterternary\":[{\"type\":\"scatterternary\",\"marker\":{\"colorbar\":{\"outlinewidth\":0,\"ticks\":\"\"}}}],\"scattercarpet\":[{\"type\":\"scattercarpet\",\"marker\":{\"colorbar\":{\"outlinewidth\":0,\"ticks\":\"\"}}}],\"carpet\":[{\"aaxis\":{\"endlinecolor\":\"#2a3f5f\",\"gridcolor\":\"white\",\"linecolor\":\"white\",\"minorgridcolor\":\"white\",\"startlinecolor\":\"#2a3f5f\"},\"baxis\":{\"endlinecolor\":\"#2a3f5f\",\"gridcolor\":\"white\",\"linecolor\":\"white\",\"minorgridcolor\":\"white\",\"startlinecolor\":\"#2a3f5f\"},\"type\":\"carpet\"}],\"table\":[{\"cells\":{\"fill\":{\"color\":\"#EBF0F8\"},\"line\":{\"color\":\"white\"}},\"header\":{\"fill\":{\"color\":\"#C8D4E3\"},\"line\":{\"color\":\"white\"}},\"type\":\"table\"}],\"barpolar\":[{\"marker\":{\"line\":{\"color\":\"#E5ECF6\",\"width\":0.5},\"pattern\":{\"fillmode\":\"overlay\",\"size\":10,\"solidity\":0.2}},\"type\":\"barpolar\"}],\"pie\":[{\"automargin\":true,\"type\":\"pie\"}]},\"layout\":{\"autotypenumbers\":\"strict\",\"colorway\":[\"#636efa\",\"#EF553B\",\"#00cc96\",\"#ab63fa\",\"#FFA15A\",\"#19d3f3\",\"#FF6692\",\"#B6E880\",\"#FF97FF\",\"#FECB52\"],\"font\":{\"color\":\"#2a3f5f\"},\"hovermode\":\"closest\",\"hoverlabel\":{\"align\":\"left\"},\"paper_bgcolor\":\"white\",\"plot_bgcolor\":\"#E5ECF6\",\"polar\":{\"bgcolor\":\"#E5ECF6\",\"angularaxis\":{\"gridcolor\":\"white\",\"linecolor\":\"white\",\"ticks\":\"\"},\"radialaxis\":{\"gridcolor\":\"white\",\"linecolor\":\"white\",\"ticks\":\"\"}},\"ternary\":{\"bgcolor\":\"#E5ECF6\",\"aaxis\":{\"gridcolor\":\"white\",\"linecolor\":\"white\",\"ticks\":\"\"},\"baxis\":{\"gridcolor\":\"white\",\"linecolor\":\"white\",\"ticks\":\"\"},\"caxis\":{\"gridcolor\":\"white\",\"linecolor\":\"white\",\"ticks\":\"\"}},\"coloraxis\":{\"colorbar\":{\"outlinewidth\":0,\"ticks\":\"\"}},\"colorscale\":{\"sequential\":[[0.0,\"#0d0887\"],[0.1111111111111111,\"#46039f\"],[0.2222222222222222,\"#7201a8\"],[0.3333333333333333,\"#9c179e\"],[0.4444444444444444,\"#bd3786\"],[0.5555555555555556,\"#d8576b\"],[0.6666666666666666,\"#ed7953\"],[0.7777777777777778,\"#fb9f3a\"],[0.8888888888888888,\"#fdca26\"],[1.0,\"#f0f921\"]],\"sequentialminus\":[[0.0,\"#0d0887\"],[0.1111111111111111,\"#46039f\"],[0.2222222222222222,\"#7201a8\"],[0.3333333333333333,\"#9c179e\"],[0.4444444444444444,\"#bd3786\"],[0.5555555555555556,\"#d8576b\"],[0.6666666666666666,\"#ed7953\"],[0.7777777777777778,\"#fb9f3a\"],[0.8888888888888888,\"#fdca26\"],[1.0,\"#f0f921\"]],\"diverging\":[[0,\"#8e0152\"],[0.1,\"#c51b7d\"],[0.2,\"#de77ae\"],[0.3,\"#f1b6da\"],[0.4,\"#fde0ef\"],[0.5,\"#f7f7f7\"],[0.6,\"#e6f5d0\"],[0.7,\"#b8e186\"],[0.8,\"#7fbc41\"],[0.9,\"#4d9221\"],[1,\"#276419\"]]},\"xaxis\":{\"gridcolor\":\"white\",\"linecolor\":\"white\",\"ticks\":\"\",\"title\":{\"standoff\":15},\"zerolinecolor\":\"white\",\"automargin\":true,\"zerolinewidth\":2},\"yaxis\":{\"gridcolor\":\"white\",\"linecolor\":\"white\",\"ticks\":\"\",\"title\":{\"standoff\":15},\"zerolinecolor\":\"white\",\"automargin\":true,\"zerolinewidth\":2},\"scene\":{\"xaxis\":{\"backgroundcolor\":\"#E5ECF6\",\"gridcolor\":\"white\",\"linecolor\":\"white\",\"showbackground\":true,\"ticks\":\"\",\"zerolinecolor\":\"white\",\"gridwidth\":2},\"yaxis\":{\"backgroundcolor\":\"#E5ECF6\",\"gridcolor\":\"white\",\"linecolor\":\"white\",\"showbackground\":true,\"ticks\":\"\",\"zerolinecolor\":\"white\",\"gridwidth\":2},\"zaxis\":{\"backgroundcolor\":\"#E5ECF6\",\"gridcolor\":\"white\",\"linecolor\":\"white\",\"showbackground\":true,\"ticks\":\"\",\"zerolinecolor\":\"white\",\"gridwidth\":2}},\"shapedefaults\":{\"line\":{\"color\":\"#2a3f5f\"}},\"annotationdefaults\":{\"arrowcolor\":\"#2a3f5f\",\"arrowhead\":0,\"arrowwidth\":1},\"geo\":{\"bgcolor\":\"white\",\"landcolor\":\"#E5ECF6\",\"subunitcolor\":\"white\",\"showland\":true,\"showlakes\":true,\"lakecolor\":\"white\"},\"title\":{\"x\":0.05},\"mapbox\":{\"style\":\"light\"}}}},                        {\"responsive\": true}                    ).then(function(){\n",
       "                            \n",
       "var gd = document.getElementById('04917e44-29c8-4606-9ebc-fcd3169254b4');\n",
       "var x = new MutationObserver(function (mutations, observer) {{\n",
       "        var display = window.getComputedStyle(gd).display;\n",
       "        if (!display || display === 'none') {{\n",
       "            console.log([gd, 'removed!']);\n",
       "            Plotly.purge(gd);\n",
       "            observer.disconnect();\n",
       "        }}\n",
       "}});\n",
       "\n",
       "// Listen for the removal of the full notebook cells\n",
       "var notebookContainer = gd.closest('#notebook-container');\n",
       "if (notebookContainer) {{\n",
       "    x.observe(notebookContainer, {childList: true});\n",
       "}}\n",
       "\n",
       "// Listen for the clearing of the current output cell\n",
       "var outputEl = gd.closest('.output');\n",
       "if (outputEl) {{\n",
       "    x.observe(outputEl, {childList: true});\n",
       "}}\n",
       "\n",
       "                        })                };                });            </script>        </div>"
      ]
     },
     "metadata": {},
     "output_type": "display_data"
    }
   ],
   "source": [
    "if config['tune_parameters']:\n",
    "    fig = optuna.visualization.plot_optimization_history(study)\n",
    "    fig.show()"
   ]
  },
  {
   "cell_type": "code",
   "execution_count": 19,
   "id": "50150441",
   "metadata": {
    "execution": {
     "iopub.execute_input": "2023-12-24T18:35:37.545981Z",
     "iopub.status.busy": "2023-12-24T18:35:37.545122Z",
     "iopub.status.idle": "2023-12-24T18:35:42.114558Z",
     "shell.execute_reply": "2023-12-24T18:35:42.113465Z"
    },
    "papermill": {
     "duration": 4.68105,
     "end_time": "2023-12-24T18:35:42.117449",
     "exception": false,
     "start_time": "2023-12-24T18:35:37.436399",
     "status": "completed"
    },
    "tags": []
   },
   "outputs": [
    {
     "data": {
      "text/html": [
       "<div>                            <div id=\"d43fbc0c-159b-458b-a9e6-483079abf74d\" class=\"plotly-graph-div\" style=\"height:525px; width:100%;\"></div>            <script type=\"text/javascript\">                require([\"plotly\"], function(Plotly) {                    window.PLOTLYENV=window.PLOTLYENV || {};                                    if (document.getElementById(\"d43fbc0c-159b-458b-a9e6-483079abf74d\")) {                    Plotly.newPlot(                        \"d43fbc0c-159b-458b-a9e6-483079abf74d\",                        [{\"cliponaxis\":false,\"hovertemplate\":[\"topK (IntDistribution): 0.02316137515484997\\u003cextra\\u003e\\u003c\\u002fextra\\u003e\",\"hybrid_lambda (FloatDistribution): 0.97683862484515\\u003cextra\\u003e\\u003c\\u002fextra\\u003e\"],\"name\":\"Objective Value\",\"orientation\":\"h\",\"text\":[\"0.02\",\"0.98\"],\"textposition\":\"outside\",\"x\":[0.02316137515484997,0.97683862484515],\"y\":[\"topK\",\"hybrid_lambda\"],\"type\":\"bar\"}],                        {\"title\":{\"text\":\"Hyperparameter Importances\"},\"xaxis\":{\"title\":{\"text\":\"Hyperparameter Importance\"}},\"yaxis\":{\"title\":{\"text\":\"Hyperparameter\"}},\"template\":{\"data\":{\"histogram2dcontour\":[{\"type\":\"histogram2dcontour\",\"colorbar\":{\"outlinewidth\":0,\"ticks\":\"\"},\"colorscale\":[[0.0,\"#0d0887\"],[0.1111111111111111,\"#46039f\"],[0.2222222222222222,\"#7201a8\"],[0.3333333333333333,\"#9c179e\"],[0.4444444444444444,\"#bd3786\"],[0.5555555555555556,\"#d8576b\"],[0.6666666666666666,\"#ed7953\"],[0.7777777777777778,\"#fb9f3a\"],[0.8888888888888888,\"#fdca26\"],[1.0,\"#f0f921\"]]}],\"choropleth\":[{\"type\":\"choropleth\",\"colorbar\":{\"outlinewidth\":0,\"ticks\":\"\"}}],\"histogram2d\":[{\"type\":\"histogram2d\",\"colorbar\":{\"outlinewidth\":0,\"ticks\":\"\"},\"colorscale\":[[0.0,\"#0d0887\"],[0.1111111111111111,\"#46039f\"],[0.2222222222222222,\"#7201a8\"],[0.3333333333333333,\"#9c179e\"],[0.4444444444444444,\"#bd3786\"],[0.5555555555555556,\"#d8576b\"],[0.6666666666666666,\"#ed7953\"],[0.7777777777777778,\"#fb9f3a\"],[0.8888888888888888,\"#fdca26\"],[1.0,\"#f0f921\"]]}],\"heatmap\":[{\"type\":\"heatmap\",\"colorbar\":{\"outlinewidth\":0,\"ticks\":\"\"},\"colorscale\":[[0.0,\"#0d0887\"],[0.1111111111111111,\"#46039f\"],[0.2222222222222222,\"#7201a8\"],[0.3333333333333333,\"#9c179e\"],[0.4444444444444444,\"#bd3786\"],[0.5555555555555556,\"#d8576b\"],[0.6666666666666666,\"#ed7953\"],[0.7777777777777778,\"#fb9f3a\"],[0.8888888888888888,\"#fdca26\"],[1.0,\"#f0f921\"]]}],\"heatmapgl\":[{\"type\":\"heatmapgl\",\"colorbar\":{\"outlinewidth\":0,\"ticks\":\"\"},\"colorscale\":[[0.0,\"#0d0887\"],[0.1111111111111111,\"#46039f\"],[0.2222222222222222,\"#7201a8\"],[0.3333333333333333,\"#9c179e\"],[0.4444444444444444,\"#bd3786\"],[0.5555555555555556,\"#d8576b\"],[0.6666666666666666,\"#ed7953\"],[0.7777777777777778,\"#fb9f3a\"],[0.8888888888888888,\"#fdca26\"],[1.0,\"#f0f921\"]]}],\"contourcarpet\":[{\"type\":\"contourcarpet\",\"colorbar\":{\"outlinewidth\":0,\"ticks\":\"\"}}],\"contour\":[{\"type\":\"contour\",\"colorbar\":{\"outlinewidth\":0,\"ticks\":\"\"},\"colorscale\":[[0.0,\"#0d0887\"],[0.1111111111111111,\"#46039f\"],[0.2222222222222222,\"#7201a8\"],[0.3333333333333333,\"#9c179e\"],[0.4444444444444444,\"#bd3786\"],[0.5555555555555556,\"#d8576b\"],[0.6666666666666666,\"#ed7953\"],[0.7777777777777778,\"#fb9f3a\"],[0.8888888888888888,\"#fdca26\"],[1.0,\"#f0f921\"]]}],\"surface\":[{\"type\":\"surface\",\"colorbar\":{\"outlinewidth\":0,\"ticks\":\"\"},\"colorscale\":[[0.0,\"#0d0887\"],[0.1111111111111111,\"#46039f\"],[0.2222222222222222,\"#7201a8\"],[0.3333333333333333,\"#9c179e\"],[0.4444444444444444,\"#bd3786\"],[0.5555555555555556,\"#d8576b\"],[0.6666666666666666,\"#ed7953\"],[0.7777777777777778,\"#fb9f3a\"],[0.8888888888888888,\"#fdca26\"],[1.0,\"#f0f921\"]]}],\"mesh3d\":[{\"type\":\"mesh3d\",\"colorbar\":{\"outlinewidth\":0,\"ticks\":\"\"}}],\"scatter\":[{\"fillpattern\":{\"fillmode\":\"overlay\",\"size\":10,\"solidity\":0.2},\"type\":\"scatter\"}],\"parcoords\":[{\"type\":\"parcoords\",\"line\":{\"colorbar\":{\"outlinewidth\":0,\"ticks\":\"\"}}}],\"scatterpolargl\":[{\"type\":\"scatterpolargl\",\"marker\":{\"colorbar\":{\"outlinewidth\":0,\"ticks\":\"\"}}}],\"bar\":[{\"error_x\":{\"color\":\"#2a3f5f\"},\"error_y\":{\"color\":\"#2a3f5f\"},\"marker\":{\"line\":{\"color\":\"#E5ECF6\",\"width\":0.5},\"pattern\":{\"fillmode\":\"overlay\",\"size\":10,\"solidity\":0.2}},\"type\":\"bar\"}],\"scattergeo\":[{\"type\":\"scattergeo\",\"marker\":{\"colorbar\":{\"outlinewidth\":0,\"ticks\":\"\"}}}],\"scatterpolar\":[{\"type\":\"scatterpolar\",\"marker\":{\"colorbar\":{\"outlinewidth\":0,\"ticks\":\"\"}}}],\"histogram\":[{\"marker\":{\"pattern\":{\"fillmode\":\"overlay\",\"size\":10,\"solidity\":0.2}},\"type\":\"histogram\"}],\"scattergl\":[{\"type\":\"scattergl\",\"marker\":{\"colorbar\":{\"outlinewidth\":0,\"ticks\":\"\"}}}],\"scatter3d\":[{\"type\":\"scatter3d\",\"line\":{\"colorbar\":{\"outlinewidth\":0,\"ticks\":\"\"}},\"marker\":{\"colorbar\":{\"outlinewidth\":0,\"ticks\":\"\"}}}],\"scattermapbox\":[{\"type\":\"scattermapbox\",\"marker\":{\"colorbar\":{\"outlinewidth\":0,\"ticks\":\"\"}}}],\"scatterternary\":[{\"type\":\"scatterternary\",\"marker\":{\"colorbar\":{\"outlinewidth\":0,\"ticks\":\"\"}}}],\"scattercarpet\":[{\"type\":\"scattercarpet\",\"marker\":{\"colorbar\":{\"outlinewidth\":0,\"ticks\":\"\"}}}],\"carpet\":[{\"aaxis\":{\"endlinecolor\":\"#2a3f5f\",\"gridcolor\":\"white\",\"linecolor\":\"white\",\"minorgridcolor\":\"white\",\"startlinecolor\":\"#2a3f5f\"},\"baxis\":{\"endlinecolor\":\"#2a3f5f\",\"gridcolor\":\"white\",\"linecolor\":\"white\",\"minorgridcolor\":\"white\",\"startlinecolor\":\"#2a3f5f\"},\"type\":\"carpet\"}],\"table\":[{\"cells\":{\"fill\":{\"color\":\"#EBF0F8\"},\"line\":{\"color\":\"white\"}},\"header\":{\"fill\":{\"color\":\"#C8D4E3\"},\"line\":{\"color\":\"white\"}},\"type\":\"table\"}],\"barpolar\":[{\"marker\":{\"line\":{\"color\":\"#E5ECF6\",\"width\":0.5},\"pattern\":{\"fillmode\":\"overlay\",\"size\":10,\"solidity\":0.2}},\"type\":\"barpolar\"}],\"pie\":[{\"automargin\":true,\"type\":\"pie\"}]},\"layout\":{\"autotypenumbers\":\"strict\",\"colorway\":[\"#636efa\",\"#EF553B\",\"#00cc96\",\"#ab63fa\",\"#FFA15A\",\"#19d3f3\",\"#FF6692\",\"#B6E880\",\"#FF97FF\",\"#FECB52\"],\"font\":{\"color\":\"#2a3f5f\"},\"hovermode\":\"closest\",\"hoverlabel\":{\"align\":\"left\"},\"paper_bgcolor\":\"white\",\"plot_bgcolor\":\"#E5ECF6\",\"polar\":{\"bgcolor\":\"#E5ECF6\",\"angularaxis\":{\"gridcolor\":\"white\",\"linecolor\":\"white\",\"ticks\":\"\"},\"radialaxis\":{\"gridcolor\":\"white\",\"linecolor\":\"white\",\"ticks\":\"\"}},\"ternary\":{\"bgcolor\":\"#E5ECF6\",\"aaxis\":{\"gridcolor\":\"white\",\"linecolor\":\"white\",\"ticks\":\"\"},\"baxis\":{\"gridcolor\":\"white\",\"linecolor\":\"white\",\"ticks\":\"\"},\"caxis\":{\"gridcolor\":\"white\",\"linecolor\":\"white\",\"ticks\":\"\"}},\"coloraxis\":{\"colorbar\":{\"outlinewidth\":0,\"ticks\":\"\"}},\"colorscale\":{\"sequential\":[[0.0,\"#0d0887\"],[0.1111111111111111,\"#46039f\"],[0.2222222222222222,\"#7201a8\"],[0.3333333333333333,\"#9c179e\"],[0.4444444444444444,\"#bd3786\"],[0.5555555555555556,\"#d8576b\"],[0.6666666666666666,\"#ed7953\"],[0.7777777777777778,\"#fb9f3a\"],[0.8888888888888888,\"#fdca26\"],[1.0,\"#f0f921\"]],\"sequentialminus\":[[0.0,\"#0d0887\"],[0.1111111111111111,\"#46039f\"],[0.2222222222222222,\"#7201a8\"],[0.3333333333333333,\"#9c179e\"],[0.4444444444444444,\"#bd3786\"],[0.5555555555555556,\"#d8576b\"],[0.6666666666666666,\"#ed7953\"],[0.7777777777777778,\"#fb9f3a\"],[0.8888888888888888,\"#fdca26\"],[1.0,\"#f0f921\"]],\"diverging\":[[0,\"#8e0152\"],[0.1,\"#c51b7d\"],[0.2,\"#de77ae\"],[0.3,\"#f1b6da\"],[0.4,\"#fde0ef\"],[0.5,\"#f7f7f7\"],[0.6,\"#e6f5d0\"],[0.7,\"#b8e186\"],[0.8,\"#7fbc41\"],[0.9,\"#4d9221\"],[1,\"#276419\"]]},\"xaxis\":{\"gridcolor\":\"white\",\"linecolor\":\"white\",\"ticks\":\"\",\"title\":{\"standoff\":15},\"zerolinecolor\":\"white\",\"automargin\":true,\"zerolinewidth\":2},\"yaxis\":{\"gridcolor\":\"white\",\"linecolor\":\"white\",\"ticks\":\"\",\"title\":{\"standoff\":15},\"zerolinecolor\":\"white\",\"automargin\":true,\"zerolinewidth\":2},\"scene\":{\"xaxis\":{\"backgroundcolor\":\"#E5ECF6\",\"gridcolor\":\"white\",\"linecolor\":\"white\",\"showbackground\":true,\"ticks\":\"\",\"zerolinecolor\":\"white\",\"gridwidth\":2},\"yaxis\":{\"backgroundcolor\":\"#E5ECF6\",\"gridcolor\":\"white\",\"linecolor\":\"white\",\"showbackground\":true,\"ticks\":\"\",\"zerolinecolor\":\"white\",\"gridwidth\":2},\"zaxis\":{\"backgroundcolor\":\"#E5ECF6\",\"gridcolor\":\"white\",\"linecolor\":\"white\",\"showbackground\":true,\"ticks\":\"\",\"zerolinecolor\":\"white\",\"gridwidth\":2}},\"shapedefaults\":{\"line\":{\"color\":\"#2a3f5f\"}},\"annotationdefaults\":{\"arrowcolor\":\"#2a3f5f\",\"arrowhead\":0,\"arrowwidth\":1},\"geo\":{\"bgcolor\":\"white\",\"landcolor\":\"#E5ECF6\",\"subunitcolor\":\"white\",\"showland\":true,\"showlakes\":true,\"lakecolor\":\"white\"},\"title\":{\"x\":0.05},\"mapbox\":{\"style\":\"light\"}}}},                        {\"responsive\": true}                    ).then(function(){\n",
       "                            \n",
       "var gd = document.getElementById('d43fbc0c-159b-458b-a9e6-483079abf74d');\n",
       "var x = new MutationObserver(function (mutations, observer) {{\n",
       "        var display = window.getComputedStyle(gd).display;\n",
       "        if (!display || display === 'none') {{\n",
       "            console.log([gd, 'removed!']);\n",
       "            Plotly.purge(gd);\n",
       "            observer.disconnect();\n",
       "        }}\n",
       "}});\n",
       "\n",
       "// Listen for the removal of the full notebook cells\n",
       "var notebookContainer = gd.closest('#notebook-container');\n",
       "if (notebookContainer) {{\n",
       "    x.observe(notebookContainer, {childList: true});\n",
       "}}\n",
       "\n",
       "// Listen for the clearing of the current output cell\n",
       "var outputEl = gd.closest('.output');\n",
       "if (outputEl) {{\n",
       "    x.observe(outputEl, {childList: true});\n",
       "}}\n",
       "\n",
       "                        })                };                });            </script>        </div>"
      ]
     },
     "metadata": {},
     "output_type": "display_data"
    }
   ],
   "source": [
    "if config['tune_parameters']:\n",
    "    fig = optuna.visualization.plot_param_importances(study)\n",
    "    fig.show()"
   ]
  },
  {
   "cell_type": "code",
   "execution_count": 20,
   "id": "9713badc",
   "metadata": {
    "execution": {
     "iopub.execute_input": "2023-12-24T18:35:42.333055Z",
     "iopub.status.busy": "2023-12-24T18:35:42.332637Z",
     "iopub.status.idle": "2023-12-24T18:35:42.709369Z",
     "shell.execute_reply": "2023-12-24T18:35:42.707695Z"
    },
    "papermill": {
     "duration": 0.487903,
     "end_time": "2023-12-24T18:35:42.712155",
     "exception": false,
     "start_time": "2023-12-24T18:35:42.224252",
     "status": "completed"
    },
    "tags": []
   },
   "outputs": [
    {
     "data": {
      "text/html": [
       "<div>                            <div id=\"c9c4104a-7f03-4fb3-bf83-f19a9d29e46e\" class=\"plotly-graph-div\" style=\"height:525px; width:100%;\"></div>            <script type=\"text/javascript\">                require([\"plotly\"], function(Plotly) {                    window.PLOTLYENV=window.PLOTLYENV || {};                                    if (document.getElementById(\"c9c4104a-7f03-4fb3-bf83-f19a9d29e46e\")) {                    Plotly.newPlot(                        \"c9c4104a-7f03-4fb3-bf83-f19a9d29e46e\",                        [{\"marker\":{\"color\":[0,1,2,3,4,5,6,7,8,9,10,11,12,13,14,15,16,17,18,19,20,21,22,23,24,25,26,27,28,29,30,31,32,33,34,35,36,37,38,39,40,41,42,43,44,45,46,47,48,49,50,51,52,53,54,55,56,57,58,59,60,61,62,63,64,65,66,67,68,69,70,71,72,73,74,75,76,77,78,79,80,81,82,83,84,85,86,87,88,89,90,91,92,93,94,95,96,97,98,99,100,101,102,103,104,105,106,107,108,109,110,111,112,113,114,115,116,117,118,119,120,121,122,123,124,125,126,127,128,129,130,131,132,133,134,135,136,137,138,139,140,141,142,143,144,145,146,147,148,149,150,151,152,153,154,155,156,157,158,159,160,161,162,163,164,165,166,167,168,169,170,171,172,173,174,175,176,177,178,179,180,181,182,183,184,185,186,187,188,189,190,191,192,193,194,195,196,197,198,199],\"colorbar\":{\"title\":{\"text\":\"Trial\"},\"x\":1.0,\"xpad\":40},\"colorscale\":[[0.0,\"rgb(247,251,255)\"],[0.125,\"rgb(222,235,247)\"],[0.25,\"rgb(198,219,239)\"],[0.375,\"rgb(158,202,225)\"],[0.5,\"rgb(107,174,214)\"],[0.625,\"rgb(66,146,198)\"],[0.75,\"rgb(33,113,181)\"],[0.875,\"rgb(8,81,156)\"],[1.0,\"rgb(8,48,107)\"]],\"line\":{\"color\":\"Grey\",\"width\":0.5},\"showscale\":true},\"mode\":\"markers\",\"name\":\"Feasible Trial\",\"showlegend\":false,\"x\":[0.6111530273349329,0.02064710460704148,0.9308055007353881,0.47163843281289963,0.5829472775185799,0.24275762238902296,0.29449024784443717,0.5018488077781994,0.5438964113146934,0.3946196027010465,0.7392672411755284,0.7653874922613132,0.8219995453500097,0.8729720361650454,0.9767894996096244,0.8559007700088684,0.812034613065196,0.9885174661911033,0.694690566886905,0.8717909959317014,0.8743775516605536,0.8461976962314548,0.6655211774961651,0.7489697505763534,0.8580022497353806,0.9291927143943592,0.7930783466625129,0.6363111515720963,0.7144735227317761,0.8048596702332574,0.6786454880878403,0.8994060791095638,0.9205240370717866,0.912302592410566,0.9204260241753784,0.9385123928995202,0.9393989081434009,0.9183489122823214,0.9846244809137491,0.9052304404329684,0.7737406716465345,0.906819516087688,0.9279995212052893,0.8221711659438312,0.9564137039209059,0.8962336916968402,0.7365862615523086,0.892793174531852,0.9867879150928042,0.7745487105983587,0.8385655692994797,0.9474217709573372,0.83901721232673,0.898502381116377,0.8404067102378737,0.8767540556766159,0.954897343193407,0.8055559665264153,0.8612731237753438,0.8465287142209631,0.7817278911390885,0.8785405710462819,0.8692852938018728,0.9659737206213267,0.8228518842017234,0.9261381629267669,0.881453197343925,0.7485273359941909,0.8564600488437392,0.9472752757959768,0.716183542316458,0.9536406780978337,0.9226275587496224,0.907327686062123,0.987048174496158,0.9211773514325886,0.8201774498662175,0.8869616170436384,0.8716756835836824,0.7922089322009065,0.9322144535959209,0.930280710326157,0.9648198033375112,0.9375817145740948,0.9191959724765233,0.8863376848716539,0.9886010333012065,0.8653135579331654,0.8575768518588153,0.9012934603850533,0.9636140208298365,0.9353760796227165,0.8865524056764507,0.8883010723334698,0.8662702233696613,0.8351314656365546,0.8020065775128129,0.9138279927260389,0.9345464764612751,0.9665379707236141,0.8581020856461229,0.8880988738238813,0.8887816720080047,0.9054572944688025,0.8256206714479628,0.849136110444391,0.8751650408875434,0.8743523390334762,0.9388583160037686,0.8057213903889027,0.767421265325625,0.9198469524956401,0.8881995396205373,0.8910439858477662,0.8362693402798569,0.8853191775170115,0.8966078325832693,0.891698032226389,0.9704698359356608,0.9491509194990501,0.8797645529455621,0.8651288597533408,0.8494683402781824,0.917374683776859,0.8685775126967583,0.8203292890984792,0.9014942923700574,0.8424644638792766,0.943452816111912,0.7908334956080664,0.8858338280756074,0.854397917087688,0.865280650281097,0.9115325445510165,0.8208766473287248,0.8495065206802233,0.8431890396150301,0.8790537651828896,0.8021164719843625,0.8567424633026809,0.5644981552036122,0.8557564923045777,0.898062358061922,0.823782157157324,0.8596559352698709,0.6172071146477993,0.8806982570522497,0.9150075811715488,0.8402300715766446,0.8626313402045117,0.7619510809397465,0.8916614435206489,0.8634216961059861,0.8305668564313129,0.7826566363405847,0.8154133845998942,0.9270472892817226,0.9036054239163853,0.838808383099597,0.8771649266008222,0.9523385016021875,0.846493591416841,0.8655376064962054,0.4714422280166201,0.8876998457049678,0.9160464819337553,0.8577995672299825,0.8098099255354747,0.8555129778000174,0.8660082123477156,0.8275501891051072,0.900045523354932,0.8772909434676988,0.8677143040351232,0.8776406310675456,0.8752521066738367,0.8359430701884842,0.8306050077058044,0.8033033471783204,0.6547457365204962,0.7850783787735208,0.873764615226206,0.8755785775287401,0.8415311268301093,0.8762793697490957,0.8498506782639107,0.9081033634040022,0.8277898411336193,0.891397596697817,0.7335107238624177,0.8812221792866383,0.9030834651224989,0.8594851266012881,0.8862928875981946,0.8784040864710705,0.8424499914451966,0.8404441774101961,0.8104430705604291,0.8539576728403233,0.8314614804747515],\"y\":[0.02818601911562912,0.0015701017718997828,0.033171593586427545,0.02936595984989277,0.032042345247203924,0.006279321662355323,0.00959179661408045,0.03138064193415206,0.03366505598668983,0.013731240360209396,0.04067155563449602,0.04116753804301682,0.04164477599251938,0.04130699621087967,0.04031737302801821,0.04088821941681591,0.04077317952174546,0.040615534788259175,0.03846402080980352,0.04167629127652131,0.04161290016516734,0.041462993830534575,0.03664662804678142,0.04080618631665936,0.04165676500771237,0.04138195507098586,0.041370114068326205,0.0371633815474677,0.04016443812924352,0.04143049938669734,0.03929370696251007,0.04181880077968494,0.04185383041255327,0.041864422796663164,0.041734429840541674,0.04170182533610286,0.04126446727632704,0.04104459655578686,0.04162122302376753,0.041711241210333046,0.041133920222004246,0.04176513674840037,0.04187703422353435,0.04114455055804561,0.04145811700732382,0.04074351629200578,0.04046469483610896,0.039384393103071715,0.04154518253361078,0.04026236170316172,0.041815521732794535,0.04157821589487667,0.041647182144983,0.041612668658384595,0.0416846217255078,0.04173162898798954,0.04144485280722905,0.040871683760217145,0.04188770630670064,0.04167272759014394,0.04103095283637605,0.04193336627561052,0.04179980963311164,0.040809366688527624,0.04156696314715687,0.04170593553029519,0.04175561840395479,0.04089165406662586,0.041204996599507424,0.04180402229751945,0.039778022947256415,0.04175029754314432,0.041872563485991776,0.04150894602931759,0.04136030728920031,0.04180992382288341,0.04129649491140549,0.041944129443412644,0.041479267618805216,0.041711214643980976,0.04189272734725166,0.041884355151140425,0.04155085255219202,0.041792670874777386,0.04145792724766578,0.041731811157261246,0.04139933705565935,0.04187749723709994,0.04173064982815419,0.04176670036798234,0.041372448112119674,0.04171412555713493,0.04186386110807543,0.041903915576687704,0.04170908174542499,0.04157311136007628,0.04112787068410686,0.04150216022394728,0.04172620186177048,0.0415463742242631,0.041668716070973666,0.041894082231209745,0.0417596375135114,0.04178723615817206,0.04158780634799248,0.04165588831809234,0.04196782662950464,0.04166179363864952,0.04149718472571438,0.04162994817284268,0.04117918928601845,0.041902477198480066,0.04196668048117025,0.041892492045275606,0.04162633135376104,0.04199775552276559,0.0418505210041176,0.04183001557547318,0.04155012007991209,0.0410543539974016,0.041685684379592663,0.04195967455459669,0.04185587222647325,0.041860350554402403,0.041593290402108754,0.041540654868170684,0.04181337365346602,0.04162350393485676,0.041722159981054954,0.041444780698558885,0.041248140355352125,0.04198738325985886,0.04164820305194309,0.04173538622921799,0.04163003166709219,0.04194383341834633,0.04186298062326236,0.04149251284293417,0.041772476651972215,0.041892492045275634,0.035501796644442446,0.04184235754362999,0.04161440306165879,0.04177349376373925,0.041992028576286936,0.03769737281548729,0.041839203738113936,0.041591836843128456,0.041403234719034676,0.04171782207527285,0.04119312523530257,0.04187451042008286,0.04176136812159238,0.04192201485286852,0.04142992251733697,0.04170763577683087,0.04136168114912431,0.041475480016031546,0.0417459406613963,0.0418409039846496,0.04175693533598148,0.04171766267716006,0.041895342235338945,0.028982000157880237,0.04184555309627085,0.04137105527622993,0.04194337040478062,0.041543546805358635,0.04188295092967117,0.04123840948008955,0.04158349880375559,0.041830816361230046,0.04194804987794708,0.04192401491966384,0.04190583214923349,0.04194436095019538,0.0419100030665167,0.04179006737226953,0.041582071811127455,0.038603623195006584,0.04142144026062399,0.04195718870307674,0.04188753172781537,0.041855283971533604,0.04185360649615666,0.041509481151553236,0.041737450814297174,0.041813487509260755,0.04198829790141046,0.04041141791452672,0.041820307471369576,0.04184753798229371,0.04187300372839833,0.04199023344992217,0.04173842238374624,0.0419200185812663,0.041877876756416,0.04178525127214929,0.04189078800354689,0.04162839973403335],\"type\":\"scatter\",\"xaxis\":\"x\",\"yaxis\":\"y\"},{\"marker\":{\"color\":[0,1,2,3,4,5,6,7,8,9,10,11,12,13,14,15,16,17,18,19,20,21,22,23,24,25,26,27,28,29,30,31,32,33,34,35,36,37,38,39,40,41,42,43,44,45,46,47,48,49,50,51,52,53,54,55,56,57,58,59,60,61,62,63,64,65,66,67,68,69,70,71,72,73,74,75,76,77,78,79,80,81,82,83,84,85,86,87,88,89,90,91,92,93,94,95,96,97,98,99,100,101,102,103,104,105,106,107,108,109,110,111,112,113,114,115,116,117,118,119,120,121,122,123,124,125,126,127,128,129,130,131,132,133,134,135,136,137,138,139,140,141,142,143,144,145,146,147,148,149,150,151,152,153,154,155,156,157,158,159,160,161,162,163,164,165,166,167,168,169,170,171,172,173,174,175,176,177,178,179,180,181,182,183,184,185,186,187,188,189,190,191,192,193,194,195,196,197,198,199],\"colorbar\":{\"title\":{\"text\":\"Trial\"},\"x\":1.0,\"xpad\":40},\"colorscale\":[[0.0,\"rgb(247,251,255)\"],[0.125,\"rgb(222,235,247)\"],[0.25,\"rgb(198,219,239)\"],[0.375,\"rgb(158,202,225)\"],[0.5,\"rgb(107,174,214)\"],[0.625,\"rgb(66,146,198)\"],[0.75,\"rgb(33,113,181)\"],[0.875,\"rgb(8,81,156)\"],[1.0,\"rgb(8,48,107)\"]],\"line\":{\"color\":\"Grey\",\"width\":0.5},\"showscale\":false},\"mode\":\"markers\",\"name\":\"Feasible Trial\",\"showlegend\":false,\"x\":[5,6,9,86,529,12,14,176,186,1443,78,70,42,38,31,30,29,39,18,51,153,137,318,59,117,49,106,19,53,102,49,127,80,118,75,81,219,258,126,70,95,71,153,154,192,269,97,373,134,199,67,68,100,157,83,121,64,163,79,90,120,64,60,42,83,137,59,45,38,112,32,107,79,54,79,84,143,65,170,57,96,93,95,73,48,110,97,64,51,69,61,86,73,74,120,94,133,55,64,108,88,74,71,75,45,102,64,51,58,62,66,79,83,86,85,77,78,88,105,43,55,63,72,93,50,76,64,117,83,60,37,69,95,69,78,56,53,45,55,68,65,75,60,48,69,85,68,58,40,102,69,75,87,56,50,62,55,46,69,82,104,78,64,58,65,52,70,70,60,36,42,93,79,75,81,76,56,50,79,56,74,63,63,54,87,46,74,61,83,95,66,82,73,83,113,55,55,48,60,88],\"y\":[0.02818601911562912,0.0015701017718997828,0.033171593586427545,0.02936595984989277,0.032042345247203924,0.006279321662355323,0.00959179661408045,0.03138064193415206,0.03366505598668983,0.013731240360209396,0.04067155563449602,0.04116753804301682,0.04164477599251938,0.04130699621087967,0.04031737302801821,0.04088821941681591,0.04077317952174546,0.040615534788259175,0.03846402080980352,0.04167629127652131,0.04161290016516734,0.041462993830534575,0.03664662804678142,0.04080618631665936,0.04165676500771237,0.04138195507098586,0.041370114068326205,0.0371633815474677,0.04016443812924352,0.04143049938669734,0.03929370696251007,0.04181880077968494,0.04185383041255327,0.041864422796663164,0.041734429840541674,0.04170182533610286,0.04126446727632704,0.04104459655578686,0.04162122302376753,0.041711241210333046,0.041133920222004246,0.04176513674840037,0.04187703422353435,0.04114455055804561,0.04145811700732382,0.04074351629200578,0.04046469483610896,0.039384393103071715,0.04154518253361078,0.04026236170316172,0.041815521732794535,0.04157821589487667,0.041647182144983,0.041612668658384595,0.0416846217255078,0.04173162898798954,0.04144485280722905,0.040871683760217145,0.04188770630670064,0.04167272759014394,0.04103095283637605,0.04193336627561052,0.04179980963311164,0.040809366688527624,0.04156696314715687,0.04170593553029519,0.04175561840395479,0.04089165406662586,0.041204996599507424,0.04180402229751945,0.039778022947256415,0.04175029754314432,0.041872563485991776,0.04150894602931759,0.04136030728920031,0.04180992382288341,0.04129649491140549,0.041944129443412644,0.041479267618805216,0.041711214643980976,0.04189272734725166,0.041884355151140425,0.04155085255219202,0.041792670874777386,0.04145792724766578,0.041731811157261246,0.04139933705565935,0.04187749723709994,0.04173064982815419,0.04176670036798234,0.041372448112119674,0.04171412555713493,0.04186386110807543,0.041903915576687704,0.04170908174542499,0.04157311136007628,0.04112787068410686,0.04150216022394728,0.04172620186177048,0.0415463742242631,0.041668716070973666,0.041894082231209745,0.0417596375135114,0.04178723615817206,0.04158780634799248,0.04165588831809234,0.04196782662950464,0.04166179363864952,0.04149718472571438,0.04162994817284268,0.04117918928601845,0.041902477198480066,0.04196668048117025,0.041892492045275606,0.04162633135376104,0.04199775552276559,0.0418505210041176,0.04183001557547318,0.04155012007991209,0.0410543539974016,0.041685684379592663,0.04195967455459669,0.04185587222647325,0.041860350554402403,0.041593290402108754,0.041540654868170684,0.04181337365346602,0.04162350393485676,0.041722159981054954,0.041444780698558885,0.041248140355352125,0.04198738325985886,0.04164820305194309,0.04173538622921799,0.04163003166709219,0.04194383341834633,0.04186298062326236,0.04149251284293417,0.041772476651972215,0.041892492045275634,0.035501796644442446,0.04184235754362999,0.04161440306165879,0.04177349376373925,0.041992028576286936,0.03769737281548729,0.041839203738113936,0.041591836843128456,0.041403234719034676,0.04171782207527285,0.04119312523530257,0.04187451042008286,0.04176136812159238,0.04192201485286852,0.04142992251733697,0.04170763577683087,0.04136168114912431,0.041475480016031546,0.0417459406613963,0.0418409039846496,0.04175693533598148,0.04171766267716006,0.041895342235338945,0.028982000157880237,0.04184555309627085,0.04137105527622993,0.04194337040478062,0.041543546805358635,0.04188295092967117,0.04123840948008955,0.04158349880375559,0.041830816361230046,0.04194804987794708,0.04192401491966384,0.04190583214923349,0.04194436095019538,0.0419100030665167,0.04179006737226953,0.041582071811127455,0.038603623195006584,0.04142144026062399,0.04195718870307674,0.04188753172781537,0.041855283971533604,0.04185360649615666,0.041509481151553236,0.041737450814297174,0.041813487509260755,0.04198829790141046,0.04041141791452672,0.041820307471369576,0.04184753798229371,0.04187300372839833,0.04199023344992217,0.04173842238374624,0.0419200185812663,0.041877876756416,0.04178525127214929,0.04189078800354689,0.04162839973403335],\"type\":\"scatter\",\"xaxis\":\"x2\",\"yaxis\":\"y2\"}],                        {\"template\":{\"data\":{\"histogram2dcontour\":[{\"type\":\"histogram2dcontour\",\"colorbar\":{\"outlinewidth\":0,\"ticks\":\"\"},\"colorscale\":[[0.0,\"#0d0887\"],[0.1111111111111111,\"#46039f\"],[0.2222222222222222,\"#7201a8\"],[0.3333333333333333,\"#9c179e\"],[0.4444444444444444,\"#bd3786\"],[0.5555555555555556,\"#d8576b\"],[0.6666666666666666,\"#ed7953\"],[0.7777777777777778,\"#fb9f3a\"],[0.8888888888888888,\"#fdca26\"],[1.0,\"#f0f921\"]]}],\"choropleth\":[{\"type\":\"choropleth\",\"colorbar\":{\"outlinewidth\":0,\"ticks\":\"\"}}],\"histogram2d\":[{\"type\":\"histogram2d\",\"colorbar\":{\"outlinewidth\":0,\"ticks\":\"\"},\"colorscale\":[[0.0,\"#0d0887\"],[0.1111111111111111,\"#46039f\"],[0.2222222222222222,\"#7201a8\"],[0.3333333333333333,\"#9c179e\"],[0.4444444444444444,\"#bd3786\"],[0.5555555555555556,\"#d8576b\"],[0.6666666666666666,\"#ed7953\"],[0.7777777777777778,\"#fb9f3a\"],[0.8888888888888888,\"#fdca26\"],[1.0,\"#f0f921\"]]}],\"heatmap\":[{\"type\":\"heatmap\",\"colorbar\":{\"outlinewidth\":0,\"ticks\":\"\"},\"colorscale\":[[0.0,\"#0d0887\"],[0.1111111111111111,\"#46039f\"],[0.2222222222222222,\"#7201a8\"],[0.3333333333333333,\"#9c179e\"],[0.4444444444444444,\"#bd3786\"],[0.5555555555555556,\"#d8576b\"],[0.6666666666666666,\"#ed7953\"],[0.7777777777777778,\"#fb9f3a\"],[0.8888888888888888,\"#fdca26\"],[1.0,\"#f0f921\"]]}],\"heatmapgl\":[{\"type\":\"heatmapgl\",\"colorbar\":{\"outlinewidth\":0,\"ticks\":\"\"},\"colorscale\":[[0.0,\"#0d0887\"],[0.1111111111111111,\"#46039f\"],[0.2222222222222222,\"#7201a8\"],[0.3333333333333333,\"#9c179e\"],[0.4444444444444444,\"#bd3786\"],[0.5555555555555556,\"#d8576b\"],[0.6666666666666666,\"#ed7953\"],[0.7777777777777778,\"#fb9f3a\"],[0.8888888888888888,\"#fdca26\"],[1.0,\"#f0f921\"]]}],\"contourcarpet\":[{\"type\":\"contourcarpet\",\"colorbar\":{\"outlinewidth\":0,\"ticks\":\"\"}}],\"contour\":[{\"type\":\"contour\",\"colorbar\":{\"outlinewidth\":0,\"ticks\":\"\"},\"colorscale\":[[0.0,\"#0d0887\"],[0.1111111111111111,\"#46039f\"],[0.2222222222222222,\"#7201a8\"],[0.3333333333333333,\"#9c179e\"],[0.4444444444444444,\"#bd3786\"],[0.5555555555555556,\"#d8576b\"],[0.6666666666666666,\"#ed7953\"],[0.7777777777777778,\"#fb9f3a\"],[0.8888888888888888,\"#fdca26\"],[1.0,\"#f0f921\"]]}],\"surface\":[{\"type\":\"surface\",\"colorbar\":{\"outlinewidth\":0,\"ticks\":\"\"},\"colorscale\":[[0.0,\"#0d0887\"],[0.1111111111111111,\"#46039f\"],[0.2222222222222222,\"#7201a8\"],[0.3333333333333333,\"#9c179e\"],[0.4444444444444444,\"#bd3786\"],[0.5555555555555556,\"#d8576b\"],[0.6666666666666666,\"#ed7953\"],[0.7777777777777778,\"#fb9f3a\"],[0.8888888888888888,\"#fdca26\"],[1.0,\"#f0f921\"]]}],\"mesh3d\":[{\"type\":\"mesh3d\",\"colorbar\":{\"outlinewidth\":0,\"ticks\":\"\"}}],\"scatter\":[{\"fillpattern\":{\"fillmode\":\"overlay\",\"size\":10,\"solidity\":0.2},\"type\":\"scatter\"}],\"parcoords\":[{\"type\":\"parcoords\",\"line\":{\"colorbar\":{\"outlinewidth\":0,\"ticks\":\"\"}}}],\"scatterpolargl\":[{\"type\":\"scatterpolargl\",\"marker\":{\"colorbar\":{\"outlinewidth\":0,\"ticks\":\"\"}}}],\"bar\":[{\"error_x\":{\"color\":\"#2a3f5f\"},\"error_y\":{\"color\":\"#2a3f5f\"},\"marker\":{\"line\":{\"color\":\"#E5ECF6\",\"width\":0.5},\"pattern\":{\"fillmode\":\"overlay\",\"size\":10,\"solidity\":0.2}},\"type\":\"bar\"}],\"scattergeo\":[{\"type\":\"scattergeo\",\"marker\":{\"colorbar\":{\"outlinewidth\":0,\"ticks\":\"\"}}}],\"scatterpolar\":[{\"type\":\"scatterpolar\",\"marker\":{\"colorbar\":{\"outlinewidth\":0,\"ticks\":\"\"}}}],\"histogram\":[{\"marker\":{\"pattern\":{\"fillmode\":\"overlay\",\"size\":10,\"solidity\":0.2}},\"type\":\"histogram\"}],\"scattergl\":[{\"type\":\"scattergl\",\"marker\":{\"colorbar\":{\"outlinewidth\":0,\"ticks\":\"\"}}}],\"scatter3d\":[{\"type\":\"scatter3d\",\"line\":{\"colorbar\":{\"outlinewidth\":0,\"ticks\":\"\"}},\"marker\":{\"colorbar\":{\"outlinewidth\":0,\"ticks\":\"\"}}}],\"scattermapbox\":[{\"type\":\"scattermapbox\",\"marker\":{\"colorbar\":{\"outlinewidth\":0,\"ticks\":\"\"}}}],\"scatterternary\":[{\"type\":\"scatterternary\",\"marker\":{\"colorbar\":{\"outlinewidth\":0,\"ticks\":\"\"}}}],\"scattercarpet\":[{\"type\":\"scattercarpet\",\"marker\":{\"colorbar\":{\"outlinewidth\":0,\"ticks\":\"\"}}}],\"carpet\":[{\"aaxis\":{\"endlinecolor\":\"#2a3f5f\",\"gridcolor\":\"white\",\"linecolor\":\"white\",\"minorgridcolor\":\"white\",\"startlinecolor\":\"#2a3f5f\"},\"baxis\":{\"endlinecolor\":\"#2a3f5f\",\"gridcolor\":\"white\",\"linecolor\":\"white\",\"minorgridcolor\":\"white\",\"startlinecolor\":\"#2a3f5f\"},\"type\":\"carpet\"}],\"table\":[{\"cells\":{\"fill\":{\"color\":\"#EBF0F8\"},\"line\":{\"color\":\"white\"}},\"header\":{\"fill\":{\"color\":\"#C8D4E3\"},\"line\":{\"color\":\"white\"}},\"type\":\"table\"}],\"barpolar\":[{\"marker\":{\"line\":{\"color\":\"#E5ECF6\",\"width\":0.5},\"pattern\":{\"fillmode\":\"overlay\",\"size\":10,\"solidity\":0.2}},\"type\":\"barpolar\"}],\"pie\":[{\"automargin\":true,\"type\":\"pie\"}]},\"layout\":{\"autotypenumbers\":\"strict\",\"colorway\":[\"#636efa\",\"#EF553B\",\"#00cc96\",\"#ab63fa\",\"#FFA15A\",\"#19d3f3\",\"#FF6692\",\"#B6E880\",\"#FF97FF\",\"#FECB52\"],\"font\":{\"color\":\"#2a3f5f\"},\"hovermode\":\"closest\",\"hoverlabel\":{\"align\":\"left\"},\"paper_bgcolor\":\"white\",\"plot_bgcolor\":\"#E5ECF6\",\"polar\":{\"bgcolor\":\"#E5ECF6\",\"angularaxis\":{\"gridcolor\":\"white\",\"linecolor\":\"white\",\"ticks\":\"\"},\"radialaxis\":{\"gridcolor\":\"white\",\"linecolor\":\"white\",\"ticks\":\"\"}},\"ternary\":{\"bgcolor\":\"#E5ECF6\",\"aaxis\":{\"gridcolor\":\"white\",\"linecolor\":\"white\",\"ticks\":\"\"},\"baxis\":{\"gridcolor\":\"white\",\"linecolor\":\"white\",\"ticks\":\"\"},\"caxis\":{\"gridcolor\":\"white\",\"linecolor\":\"white\",\"ticks\":\"\"}},\"coloraxis\":{\"colorbar\":{\"outlinewidth\":0,\"ticks\":\"\"}},\"colorscale\":{\"sequential\":[[0.0,\"#0d0887\"],[0.1111111111111111,\"#46039f\"],[0.2222222222222222,\"#7201a8\"],[0.3333333333333333,\"#9c179e\"],[0.4444444444444444,\"#bd3786\"],[0.5555555555555556,\"#d8576b\"],[0.6666666666666666,\"#ed7953\"],[0.7777777777777778,\"#fb9f3a\"],[0.8888888888888888,\"#fdca26\"],[1.0,\"#f0f921\"]],\"sequentialminus\":[[0.0,\"#0d0887\"],[0.1111111111111111,\"#46039f\"],[0.2222222222222222,\"#7201a8\"],[0.3333333333333333,\"#9c179e\"],[0.4444444444444444,\"#bd3786\"],[0.5555555555555556,\"#d8576b\"],[0.6666666666666666,\"#ed7953\"],[0.7777777777777778,\"#fb9f3a\"],[0.8888888888888888,\"#fdca26\"],[1.0,\"#f0f921\"]],\"diverging\":[[0,\"#8e0152\"],[0.1,\"#c51b7d\"],[0.2,\"#de77ae\"],[0.3,\"#f1b6da\"],[0.4,\"#fde0ef\"],[0.5,\"#f7f7f7\"],[0.6,\"#e6f5d0\"],[0.7,\"#b8e186\"],[0.8,\"#7fbc41\"],[0.9,\"#4d9221\"],[1,\"#276419\"]]},\"xaxis\":{\"gridcolor\":\"white\",\"linecolor\":\"white\",\"ticks\":\"\",\"title\":{\"standoff\":15},\"zerolinecolor\":\"white\",\"automargin\":true,\"zerolinewidth\":2},\"yaxis\":{\"gridcolor\":\"white\",\"linecolor\":\"white\",\"ticks\":\"\",\"title\":{\"standoff\":15},\"zerolinecolor\":\"white\",\"automargin\":true,\"zerolinewidth\":2},\"scene\":{\"xaxis\":{\"backgroundcolor\":\"#E5ECF6\",\"gridcolor\":\"white\",\"linecolor\":\"white\",\"showbackground\":true,\"ticks\":\"\",\"zerolinecolor\":\"white\",\"gridwidth\":2},\"yaxis\":{\"backgroundcolor\":\"#E5ECF6\",\"gridcolor\":\"white\",\"linecolor\":\"white\",\"showbackground\":true,\"ticks\":\"\",\"zerolinecolor\":\"white\",\"gridwidth\":2},\"zaxis\":{\"backgroundcolor\":\"#E5ECF6\",\"gridcolor\":\"white\",\"linecolor\":\"white\",\"showbackground\":true,\"ticks\":\"\",\"zerolinecolor\":\"white\",\"gridwidth\":2}},\"shapedefaults\":{\"line\":{\"color\":\"#2a3f5f\"}},\"annotationdefaults\":{\"arrowcolor\":\"#2a3f5f\",\"arrowhead\":0,\"arrowwidth\":1},\"geo\":{\"bgcolor\":\"white\",\"landcolor\":\"#E5ECF6\",\"subunitcolor\":\"white\",\"showland\":true,\"showlakes\":true,\"lakecolor\":\"white\"},\"title\":{\"x\":0.05},\"mapbox\":{\"style\":\"light\"}}},\"xaxis\":{\"anchor\":\"y\",\"domain\":[0.0,0.45],\"title\":{\"text\":\"hybrid_lambda\"}},\"yaxis\":{\"anchor\":\"x\",\"domain\":[0.0,1.0],\"title\":{\"text\":\"Objective Value\"}},\"xaxis2\":{\"anchor\":\"y2\",\"domain\":[0.55,1.0],\"title\":{\"text\":\"topK\"},\"type\":\"log\"},\"yaxis2\":{\"anchor\":\"x2\",\"domain\":[0.0,1.0],\"matches\":\"y\",\"showticklabels\":false},\"title\":{\"text\":\"Slice Plot\"}},                        {\"responsive\": true}                    ).then(function(){\n",
       "                            \n",
       "var gd = document.getElementById('c9c4104a-7f03-4fb3-bf83-f19a9d29e46e');\n",
       "var x = new MutationObserver(function (mutations, observer) {{\n",
       "        var display = window.getComputedStyle(gd).display;\n",
       "        if (!display || display === 'none') {{\n",
       "            console.log([gd, 'removed!']);\n",
       "            Plotly.purge(gd);\n",
       "            observer.disconnect();\n",
       "        }}\n",
       "}});\n",
       "\n",
       "// Listen for the removal of the full notebook cells\n",
       "var notebookContainer = gd.closest('#notebook-container');\n",
       "if (notebookContainer) {{\n",
       "    x.observe(notebookContainer, {childList: true});\n",
       "}}\n",
       "\n",
       "// Listen for the clearing of the current output cell\n",
       "var outputEl = gd.closest('.output');\n",
       "if (outputEl) {{\n",
       "    x.observe(outputEl, {childList: true});\n",
       "}}\n",
       "\n",
       "                        })                };                });            </script>        </div>"
      ]
     },
     "metadata": {},
     "output_type": "display_data"
    }
   ],
   "source": [
    "if config['tune_parameters']:\n",
    "    fig = optuna.visualization.plot_slice(study)\n",
    "    fig.show()"
   ]
  },
  {
   "cell_type": "code",
   "execution_count": 21,
   "id": "0672bbc1",
   "metadata": {
    "execution": {
     "iopub.execute_input": "2023-12-24T18:35:42.934525Z",
     "iopub.status.busy": "2023-12-24T18:35:42.933823Z",
     "iopub.status.idle": "2023-12-24T18:35:43.640714Z",
     "shell.execute_reply": "2023-12-24T18:35:43.639574Z"
    },
    "papermill": {
     "duration": 0.820766,
     "end_time": "2023-12-24T18:35:43.643985",
     "exception": false,
     "start_time": "2023-12-24T18:35:42.823219",
     "status": "completed"
    },
    "tags": []
   },
   "outputs": [],
   "source": [
    "if config['tune_parameters']:\n",
    "    with open('/kaggle/working/best_params_hhp.json', 'w') as params_file:\n",
    "        params = study.best_params\n",
    "        json.dump(params, params_file)\n",
    "        \n",
    "    if config['save_github']: \n",
    "        upload_file(\n",
    "            '/kaggle/working/best_params_hhp.json', \n",
    "            'tuning_results/best_params_hhp.json', \n",
    "            'HHP PyTorch tuning results (from kaggle notebook)'\n",
    "        )\n",
    "elif config['copy_prev_best_params']:\n",
    "    shutil.copyfile(\n",
    "        '/kaggle/working/Recsys_Challenge_2023/best_params_hhp.json',\n",
    "        '/kaggle/working/best_params_hhp.json'\n",
    "    )"
   ]
  },
  {
   "cell_type": "code",
   "execution_count": 22,
   "id": "bb5f1000",
   "metadata": {
    "execution": {
     "iopub.execute_input": "2023-12-24T18:35:43.894100Z",
     "iopub.status.busy": "2023-12-24T18:35:43.893239Z",
     "iopub.status.idle": "2023-12-24T18:35:44.982802Z",
     "shell.execute_reply": "2023-12-24T18:35:44.981778Z"
    },
    "papermill": {
     "duration": 1.22497,
     "end_time": "2023-12-24T18:35:44.985940",
     "exception": false,
     "start_time": "2023-12-24T18:35:43.760970",
     "status": "completed"
    },
    "tags": []
   },
   "outputs": [],
   "source": [
    "if config['save_github'] and config['tune_parameters']:\n",
    "    upload_file(\n",
    "        config['database_path'], \n",
    "        'tuning_results/tuning_hhp.db',\n",
    "        'HHP tuning db updated results (from kaggle notebook)'\n",
    "    )"
   ]
  }
 ],
 "metadata": {
  "kaggle": {
   "accelerator": "none",
   "dataSources": [
    {
     "databundleVersionId": 6919098,
     "sourceId": 62803,
     "sourceType": "competition"
    }
   ],
   "dockerImageVersionId": 30587,
   "isGpuEnabled": false,
   "isInternetEnabled": true,
   "language": "python",
   "sourceType": "notebook"
  },
  "kernelspec": {
   "display_name": "Python 3",
   "language": "python",
   "name": "python3"
  },
  "language_info": {
   "codemirror_mode": {
    "name": "ipython",
    "version": 3
   },
   "file_extension": ".py",
   "mimetype": "text/x-python",
   "name": "python",
   "nbconvert_exporter": "python",
   "pygments_lexer": "ipython3",
   "version": "3.10.12"
  },
  "papermill": {
   "default_parameters": {},
   "duration": 5189.566005,
   "end_time": "2023-12-24T18:35:47.966094",
   "environment_variables": {},
   "exception": null,
   "input_path": "__notebook__.ipynb",
   "output_path": "__notebook__.ipynb",
   "parameters": {},
   "start_time": "2023-12-24T17:09:18.400089",
   "version": "2.4.0"
  }
 },
 "nbformat": 4,
 "nbformat_minor": 5
}
