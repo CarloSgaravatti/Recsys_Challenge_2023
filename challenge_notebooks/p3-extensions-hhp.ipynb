{
 "cells": [
  {
   "cell_type": "code",
   "execution_count": 1,
   "id": "aff008fc",
   "metadata": {
    "execution": {
     "iopub.execute_input": "2023-12-24T15:32:55.451497Z",
     "iopub.status.busy": "2023-12-24T15:32:55.450860Z",
     "iopub.status.idle": "2023-12-24T15:35:19.404063Z",
     "shell.execute_reply": "2023-12-24T15:35:19.402560Z"
    },
    "papermill": {
     "duration": 143.96566,
     "end_time": "2023-12-24T15:35:19.406821",
     "exception": false,
     "start_time": "2023-12-24T15:32:55.441161",
     "status": "completed"
    },
    "tags": []
   },
   "outputs": [
    {
     "name": "stdout",
     "output_type": "stream",
     "text": [
      "Cloning into 'Recsys_Challenge_2023'...\r\n",
      "remote: Enumerating objects: 5792, done.\u001b[K\r\n",
      "remote: Counting objects: 100% (981/981), done.\u001b[K\r\n",
      "remote: Compressing objects: 100% (280/280), done.\u001b[K\r\n",
      "remote: Total 5792 (delta 833), reused 811 (delta 695), pack-reused 4811\u001b[K\r\n",
      "Receiving objects: 100% (5792/5792), 2.94 GiB | 24.78 MiB/s, done.\r\n",
      "Resolving deltas: 100% (4659/4659), done.\r\n",
      "Updating files: 100% (492/492), done.\r\n"
     ]
    }
   ],
   "source": [
    "from kaggle_secrets import UserSecretsClient\n",
    "secret_label = \"Token\"\n",
    "token = UserSecretsClient().get_secret(secret_label)\n",
    "\n",
    "! git clone https://{token}@github.com/CarloSgaravatti/Recsys_Challenge_2023.git"
   ]
  },
  {
   "cell_type": "code",
   "execution_count": 2,
   "id": "59151ed7",
   "metadata": {
    "execution": {
     "iopub.execute_input": "2023-12-24T15:35:19.451754Z",
     "iopub.status.busy": "2023-12-24T15:35:19.451099Z",
     "iopub.status.idle": "2023-12-24T15:35:36.203448Z",
     "shell.execute_reply": "2023-12-24T15:35:36.202497Z"
    },
    "papermill": {
     "duration": 16.777746,
     "end_time": "2023-12-24T15:35:36.206025",
     "exception": false,
     "start_time": "2023-12-24T15:35:19.428279",
     "status": "completed"
    },
    "tags": []
   },
   "outputs": [
    {
     "name": "stdout",
     "output_type": "stream",
     "text": [
      "Collecting PyGithub\r\n",
      "  Obtaining dependency information for PyGithub from https://files.pythonhosted.org/packages/be/04/810d131be173cba445d3658a45512b2b2b3d0960d52c4a300d6ec5e00f52/PyGithub-2.1.1-py3-none-any.whl.metadata\r\n",
      "  Downloading PyGithub-2.1.1-py3-none-any.whl.metadata (2.2 kB)\r\n",
      "Requirement already satisfied: requests in /opt/conda/lib/python3.10/site-packages (2.31.0)\r\n",
      "Collecting pynacl>=1.4.0 (from PyGithub)\r\n",
      "  Downloading PyNaCl-1.5.0-cp36-abi3-manylinux_2_17_x86_64.manylinux2014_x86_64.manylinux_2_24_x86_64.whl (856 kB)\r\n",
      "\u001b[2K     \u001b[90m━━━━━━━━━━━━━━━━━━━━━━━━━━━━━━━━━━━━━━\u001b[0m \u001b[32m856.7/856.7 kB\u001b[0m \u001b[31m11.6 MB/s\u001b[0m eta \u001b[36m0:00:00\u001b[0m\r\n",
      "\u001b[?25hRequirement already satisfied: python-dateutil in /opt/conda/lib/python3.10/site-packages (from PyGithub) (2.8.2)\r\n",
      "Requirement already satisfied: pyjwt[crypto]>=2.4.0 in /opt/conda/lib/python3.10/site-packages (from PyGithub) (2.8.0)\r\n",
      "Requirement already satisfied: typing-extensions>=4.0.0 in /opt/conda/lib/python3.10/site-packages (from PyGithub) (4.5.0)\r\n",
      "Requirement already satisfied: urllib3>=1.26.0 in /opt/conda/lib/python3.10/site-packages (from PyGithub) (1.26.15)\r\n",
      "Requirement already satisfied: Deprecated in /opt/conda/lib/python3.10/site-packages (from PyGithub) (1.2.14)\r\n",
      "Requirement already satisfied: charset-normalizer<4,>=2 in /opt/conda/lib/python3.10/site-packages (from requests) (3.2.0)\r\n",
      "Requirement already satisfied: idna<4,>=2.5 in /opt/conda/lib/python3.10/site-packages (from requests) (3.4)\r\n",
      "Requirement already satisfied: certifi>=2017.4.17 in /opt/conda/lib/python3.10/site-packages (from requests) (2023.7.22)\r\n",
      "Requirement already satisfied: cryptography>=3.4.0 in /opt/conda/lib/python3.10/site-packages (from pyjwt[crypto]>=2.4.0->PyGithub) (41.0.3)\r\n",
      "Requirement already satisfied: cffi>=1.4.1 in /opt/conda/lib/python3.10/site-packages (from pynacl>=1.4.0->PyGithub) (1.15.1)\r\n",
      "Requirement already satisfied: wrapt<2,>=1.10 in /opt/conda/lib/python3.10/site-packages (from Deprecated->PyGithub) (1.15.0)\r\n",
      "Requirement already satisfied: six>=1.5 in /opt/conda/lib/python3.10/site-packages (from python-dateutil->PyGithub) (1.16.0)\r\n",
      "Requirement already satisfied: pycparser in /opt/conda/lib/python3.10/site-packages (from cffi>=1.4.1->pynacl>=1.4.0->PyGithub) (2.21)\r\n",
      "Downloading PyGithub-2.1.1-py3-none-any.whl (302 kB)\r\n",
      "\u001b[2K   \u001b[90m━━━━━━━━━━━━━━━━━━━━━━━━━━━━━━━━━━━━━━━━\u001b[0m \u001b[32m302.9/302.9 kB\u001b[0m \u001b[31m25.9 MB/s\u001b[0m eta \u001b[36m0:00:00\u001b[0m\r\n",
      "\u001b[?25hInstalling collected packages: pynacl, PyGithub\r\n",
      "Successfully installed PyGithub-2.1.1 pynacl-1.5.0\r\n"
     ]
    }
   ],
   "source": [
    "! pip install PyGithub requests"
   ]
  },
  {
   "cell_type": "code",
   "execution_count": 3,
   "id": "48c72aef",
   "metadata": {
    "_kg_hide-output": true,
    "execution": {
     "iopub.execute_input": "2023-12-24T15:35:36.251356Z",
     "iopub.status.busy": "2023-12-24T15:35:36.250319Z",
     "iopub.status.idle": "2023-12-24T15:35:36.254775Z",
     "shell.execute_reply": "2023-12-24T15:35:36.254107Z"
    },
    "papermill": {
     "duration": 0.029143,
     "end_time": "2023-12-24T15:35:36.256698",
     "exception": false,
     "start_time": "2023-12-24T15:35:36.227555",
     "status": "completed"
    },
    "scrolled": true,
    "tags": []
   },
   "outputs": [],
   "source": [
    "# ! cd /kaggle/working/Recsys_Challenge_2023 && python run_compile_all_cython.py"
   ]
  },
  {
   "cell_type": "code",
   "execution_count": 4,
   "id": "1f5ba452",
   "metadata": {
    "execution": {
     "iopub.execute_input": "2023-12-24T15:35:36.301572Z",
     "iopub.status.busy": "2023-12-24T15:35:36.301227Z",
     "iopub.status.idle": "2023-12-24T15:35:39.679642Z",
     "shell.execute_reply": "2023-12-24T15:35:39.678513Z"
    },
    "papermill": {
     "duration": 3.403823,
     "end_time": "2023-12-24T15:35:39.682169",
     "exception": false,
     "start_time": "2023-12-24T15:35:36.278346",
     "status": "completed"
    },
    "tags": []
   },
   "outputs": [
    {
     "name": "stdout",
     "output_type": "stream",
     "text": [
      "/kaggle/input/recommender-system-2023-challenge-polimi/data_train.csv\n",
      "/kaggle/input/recommender-system-2023-challenge-polimi/data_target_users_test.csv\n"
     ]
    }
   ],
   "source": [
    "import numpy as np\n",
    "import pandas as pd\n",
    "import matplotlib.pyplot as plt\n",
    "import seaborn as sns\n",
    "import joblib\n",
    "import json\n",
    "import random\n",
    "import tqdm\n",
    "import gc\n",
    "import time\n",
    "import os\n",
    "import shutil\n",
    "import optuna\n",
    "import scipy.sparse as sps\n",
    "\n",
    "for dirname, _, filenames in os.walk('/kaggle/input'):\n",
    "    for filename in filenames:\n",
    "        print(os.path.join(dirname, filename))"
   ]
  },
  {
   "cell_type": "code",
   "execution_count": 5,
   "id": "2e3eea3f",
   "metadata": {
    "execution": {
     "iopub.execute_input": "2023-12-24T15:35:39.727894Z",
     "iopub.status.busy": "2023-12-24T15:35:39.726627Z",
     "iopub.status.idle": "2023-12-24T15:35:39.733892Z",
     "shell.execute_reply": "2023-12-24T15:35:39.732874Z"
    },
    "papermill": {
     "duration": 0.032217,
     "end_time": "2023-12-24T15:35:39.735975",
     "exception": false,
     "start_time": "2023-12-24T15:35:39.703758",
     "status": "completed"
    },
    "tags": []
   },
   "outputs": [
    {
     "name": "stdout",
     "output_type": "stream",
     "text": [
      "/kaggle/working/Recsys_Challenge_2023\n"
     ]
    }
   ],
   "source": [
    "%cd /kaggle/working/Recsys_Challenge_2023"
   ]
  },
  {
   "cell_type": "code",
   "execution_count": 6,
   "id": "20cab1ae",
   "metadata": {
    "execution": {
     "iopub.execute_input": "2023-12-24T15:35:39.782856Z",
     "iopub.status.busy": "2023-12-24T15:35:39.781972Z",
     "iopub.status.idle": "2023-12-24T15:35:55.485792Z",
     "shell.execute_reply": "2023-12-24T15:35:55.484849Z"
    },
    "papermill": {
     "duration": 15.730364,
     "end_time": "2023-12-24T15:35:55.488419",
     "exception": false,
     "start_time": "2023-12-24T15:35:39.758055",
     "status": "completed"
    },
    "tags": []
   },
   "outputs": [],
   "source": [
    "from Recommenders.KNN.UserKNNCFRecommender import UserKNNCFRecommender\n",
    "from Data_manager.split_functions.split_train_validation_random_holdout import split_train_in_two_percentage_global_sample\n",
    "from Recommenders.SLIM.SLIMElasticNetRecommender import MultiThreadSLIM_SLIMElasticNetRecommender\n",
    "from Evaluation.Evaluator import EvaluatorHoldout\n",
    "from Recommenders.MatrixFactorization.IALSRecommender import IALSRecommender\n",
    "from Recommenders.MatrixFactorization.PureSVDRecommender import PureSVDRecommender\n",
    "from Recommenders.Neural.MultVAERecommender import MultVAERecommender\n",
    "from Recommenders.KNN.ItemKNNCFRecommender import ItemKNNCFRecommender\n",
    "from Recommenders.KNN.UserKNNCFRecommender import UserKNNCFRecommender\n",
    "from Recommenders.MatrixFactorization.Cython.MatrixFactorization_Cython import MatrixFactorization_BPR_Cython, MatrixFactorization_SVDpp_Cython, MatrixFactorization_AsySVD_Cython, MatrixFactorization_WARP_Cython\n",
    "from Recommenders.MatrixFactorization.PyTorch.MF_MSE_PyTorch import MF_MSE_PyTorch\n",
    "from Recommenders.BaseMatrixFactorizationRecommender import BaseMatrixFactorizationRecommender\n",
    "from Recommenders.Incremental_Training_Early_Stopping import Incremental_Training_Early_Stopping\n",
    "\n",
    "np.int = int\n",
    "np.random.seed(42)\n",
    "np.bool = bool\n",
    "np.float = float"
   ]
  },
  {
   "cell_type": "code",
   "execution_count": 7,
   "id": "d0b31933",
   "metadata": {
    "execution": {
     "iopub.execute_input": "2023-12-24T15:35:55.536005Z",
     "iopub.status.busy": "2023-12-24T15:35:55.535254Z",
     "iopub.status.idle": "2023-12-24T15:35:56.256616Z",
     "shell.execute_reply": "2023-12-24T15:35:56.255561Z"
    },
    "papermill": {
     "duration": 0.746396,
     "end_time": "2023-12-24T15:35:56.258832",
     "exception": false,
     "start_time": "2023-12-24T15:35:55.512436",
     "status": "completed"
    },
    "tags": []
   },
   "outputs": [
    {
     "name": "stdout",
     "output_type": "stream",
     "text": [
      "Repository found\n"
     ]
    }
   ],
   "source": [
    "from github import Github\n",
    "from github import Auth\n",
    "\n",
    "auth = Auth.Token(token)\n",
    "g = Github(auth=auth)\n",
    "\n",
    "repo = None\n",
    "for r in g.get_user().get_repos():\n",
    "    if r.name == 'Recsys_Challenge_2023':\n",
    "        repo = r\n",
    "        print('Repository found')"
   ]
  },
  {
   "cell_type": "code",
   "execution_count": 8,
   "id": "28526200",
   "metadata": {
    "execution": {
     "iopub.execute_input": "2023-12-24T15:35:56.308613Z",
     "iopub.status.busy": "2023-12-24T15:35:56.308254Z",
     "iopub.status.idle": "2023-12-24T15:35:56.313827Z",
     "shell.execute_reply": "2023-12-24T15:35:56.312827Z"
    },
    "papermill": {
     "duration": 0.035309,
     "end_time": "2023-12-24T15:35:56.315997",
     "exception": false,
     "start_time": "2023-12-24T15:35:56.280688",
     "status": "completed"
    },
    "tags": []
   },
   "outputs": [],
   "source": [
    "def upload_file(filepath_kaggle, filepath_github, commit_message):\n",
    "    try:\n",
    "        contents = repo.get_contents(filepath_github)\n",
    "        with open(filepath_kaggle, \"rb\") as file:\n",
    "            repo.update_file(contents.path, commit_message, file.read(), contents.sha)\n",
    "    except Exception:\n",
    "        with open(filepath_kaggle, \"rb\") as file:\n",
    "            repo.create_file(filepath_github, commit_message, file.read())"
   ]
  },
  {
   "cell_type": "code",
   "execution_count": 9,
   "id": "00847b98",
   "metadata": {
    "execution": {
     "iopub.execute_input": "2023-12-24T15:35:56.360688Z",
     "iopub.status.busy": "2023-12-24T15:35:56.360297Z",
     "iopub.status.idle": "2023-12-24T15:35:56.365076Z",
     "shell.execute_reply": "2023-12-24T15:35:56.364023Z"
    },
    "papermill": {
     "duration": 0.029673,
     "end_time": "2023-12-24T15:35:56.367141",
     "exception": false,
     "start_time": "2023-12-24T15:35:56.337468",
     "status": "completed"
    },
    "tags": []
   },
   "outputs": [],
   "source": [
    "config = {\n",
    "    'tune_parameters': True,\n",
    "    'database_path': '/kaggle/working/tuning_hhp.db',\n",
    "    'copy_prev_best_params': False,\n",
    "    'save_github': True\n",
    "}"
   ]
  },
  {
   "cell_type": "code",
   "execution_count": 10,
   "id": "057c316a",
   "metadata": {
    "execution": {
     "iopub.execute_input": "2023-12-24T15:35:56.473625Z",
     "iopub.status.busy": "2023-12-24T15:35:56.472886Z",
     "iopub.status.idle": "2023-12-24T15:35:56.477768Z",
     "shell.execute_reply": "2023-12-24T15:35:56.477094Z"
    },
    "papermill": {
     "duration": 0.091134,
     "end_time": "2023-12-24T15:35:56.479779",
     "exception": false,
     "start_time": "2023-12-24T15:35:56.388645",
     "status": "completed"
    },
    "tags": []
   },
   "outputs": [],
   "source": [
    "try:\n",
    "    shutil.copyfile(\n",
    "        '/kaggle/working/Recsys_Challenge_2023/tuning_results/tuning_hhp.db', \n",
    "        config['database_path']\n",
    "    )\n",
    "except FileNotFoundError:\n",
    "    pass # if not present optuna will create it"
   ]
  },
  {
   "cell_type": "code",
   "execution_count": 11,
   "id": "e1101f88",
   "metadata": {
    "execution": {
     "iopub.execute_input": "2023-12-24T15:35:56.526752Z",
     "iopub.status.busy": "2023-12-24T15:35:56.526110Z",
     "iopub.status.idle": "2023-12-24T15:35:56.749591Z",
     "shell.execute_reply": "2023-12-24T15:35:56.748704Z"
    },
    "papermill": {
     "duration": 0.250764,
     "end_time": "2023-12-24T15:35:56.752106",
     "exception": false,
     "start_time": "2023-12-24T15:35:56.501342",
     "status": "completed"
    },
    "tags": []
   },
   "outputs": [],
   "source": [
    "train_data = pd.read_csv('/kaggle/input/recommender-system-2023-challenge-polimi/data_train.csv')\n",
    "user_ids_test = pd.read_csv('/kaggle/input/recommender-system-2023-challenge-polimi/data_target_users_test.csv')"
   ]
  },
  {
   "cell_type": "code",
   "execution_count": 12,
   "id": "e06436fd",
   "metadata": {
    "execution": {
     "iopub.execute_input": "2023-12-24T15:35:56.797544Z",
     "iopub.status.busy": "2023-12-24T15:35:56.797167Z",
     "iopub.status.idle": "2023-12-24T15:35:56.832343Z",
     "shell.execute_reply": "2023-12-24T15:35:56.831254Z"
    },
    "papermill": {
     "duration": 0.060208,
     "end_time": "2023-12-24T15:35:56.834519",
     "exception": false,
     "start_time": "2023-12-24T15:35:56.774311",
     "status": "completed"
    },
    "tags": []
   },
   "outputs": [
    {
     "data": {
      "text/plain": [
       "<13024x22347 sparse matrix of type '<class 'numpy.float64'>'\n",
       "\twith 478730 stored elements in Compressed Sparse Row format>"
      ]
     },
     "execution_count": 12,
     "metadata": {},
     "output_type": "execute_result"
    }
   ],
   "source": [
    "URM_all = sps.csr_matrix((train_data.data.values,\n",
    "                          ((train_data.row - 1).values, (train_data.col - 1).values)),\n",
    "                        shape=(train_data.row.max(), train_data.col.max()))\n",
    "URM_all"
   ]
  },
  {
   "cell_type": "code",
   "execution_count": 13,
   "id": "708891b3",
   "metadata": {
    "execution": {
     "iopub.execute_input": "2023-12-24T15:35:56.880626Z",
     "iopub.status.busy": "2023-12-24T15:35:56.879543Z",
     "iopub.status.idle": "2023-12-24T15:35:57.890527Z",
     "shell.execute_reply": "2023-12-24T15:35:57.889730Z"
    },
    "papermill": {
     "duration": 1.035923,
     "end_time": "2023-12-24T15:35:57.892489",
     "exception": false,
     "start_time": "2023-12-24T15:35:56.856566",
     "status": "completed"
    },
    "tags": []
   },
   "outputs": [
    {
     "name": "stdout",
     "output_type": "stream",
     "text": [
      "Warning: 627 (4.81 %) of 13024 users have no train items\n",
      "Warning: 2568 (19.72 %) of 13024 users have no sampled items\n",
      "Warning: 2953 (22.67 %) of 13024 users have no train items\n",
      "Warning: 6367 (48.89 %) of 13024 users have no sampled items\n"
     ]
    }
   ],
   "source": [
    "URM_train, URM_test_complete = split_train_in_two_percentage_global_sample(URM_all, train_percentage = 0.8)\n",
    "URM_validation, URM_test = split_train_in_two_percentage_global_sample(URM_test_complete, train_percentage = 0.8)"
   ]
  },
  {
   "cell_type": "markdown",
   "id": "da948530",
   "metadata": {
    "papermill": {
     "duration": 0.023902,
     "end_time": "2023-12-24T15:35:57.938486",
     "exception": false,
     "start_time": "2023-12-24T15:35:57.914584",
     "status": "completed"
    },
    "tags": []
   },
   "source": [
    "Original Paper for HHP: https://arxiv.org/pdf/0808.2670.pdf\n",
    "\n",
    "https://arxiv.org/pdf/2004.10393.pdf"
   ]
  },
  {
   "cell_type": "code",
   "execution_count": 14,
   "id": "21abd1ef",
   "metadata": {
    "execution": {
     "iopub.execute_input": "2023-12-24T15:35:57.984756Z",
     "iopub.status.busy": "2023-12-24T15:35:57.984069Z",
     "iopub.status.idle": "2023-12-24T15:35:58.002777Z",
     "shell.execute_reply": "2023-12-24T15:35:58.002048Z"
    },
    "papermill": {
     "duration": 0.04453,
     "end_time": "2023-12-24T15:35:58.004920",
     "exception": false,
     "start_time": "2023-12-24T15:35:57.960390",
     "status": "completed"
    },
    "tags": []
   },
   "outputs": [],
   "source": [
    "import numpy as np\n",
    "import scipy.sparse as sps\n",
    "\n",
    "from sklearn.preprocessing import normalize\n",
    "from Recommenders.Recommender_utils import check_matrix, similarityMatrixTopK\n",
    "from Utils.seconds_to_biggest_unit import seconds_to_biggest_unit\n",
    "\n",
    "from Recommenders.BaseSimilarityMatrixRecommender import BaseItemSimilarityMatrixRecommender\n",
    "from Recommenders.Similarity.Compute_Similarity_Python import Incremental_Similarity_Builder\n",
    "import time, sys\n",
    "\n",
    "\n",
    "class HHPRecommender(BaseItemSimilarityMatrixRecommender):\n",
    "    '''\n",
    "    HHP (Hybrid HeatS - ProbS) is an hybrid of ProbS (also called P3) and HeatS that uses lambda\n",
    "    to weight the two contributions. While ProbS implements a random walk with 3 steps, HeatS uses the\n",
    "    out degree of the neighboring objects.\n",
    "    \n",
    "    Original Paper: https://arxiv.org/pdf/0808.2670.pdf\n",
    "    '''\n",
    "    \n",
    "    RECOMMENDER_NAME = \"HHPRecommender\"\n",
    "    \n",
    "    def __init__(self, URM_train):\n",
    "        super(HHPRecommender, self).__init__(URM_train)\n",
    "        \n",
    "    def fit(self, hybrid_lambda=0.5, topK=100, min_rating=0, implicit=False, normalize_similarity=True):\n",
    "        \n",
    "        self.hybrid_lambda = hybrid_lambda\n",
    "        self.topK = topK\n",
    "        self.min_rating = min_rating\n",
    "        self.implicit = implicit\n",
    "        self.normalize_similarity = normalize_similarity\n",
    "\n",
    "        if self.min_rating > 0:\n",
    "            self.URM_train.data[self.URM_train.data < self.min_rating] = 0\n",
    "            self.URM_train.eliminate_zeros()\n",
    "            if self.implicit:\n",
    "                self.URM_train.data = np.ones(self.URM_train.data.size, dtype=np.float32)\n",
    "                \n",
    "        k_u = np.ediff1d(sps.csr_matrix(self.URM_train).indptr) # user out degree\n",
    "        k_i = np.ediff1d(sps.csc_matrix(self.URM_train).indptr) # item out degree\n",
    "        k_i_1_mius_lamda = np.float_power(k_i, 1 - self.hybrid_lambda) + 1e-6\n",
    "        \n",
    "        Pui = normalize(self.URM_train, norm='l1', axis=1)\n",
    "        \n",
    "        X_bool = self.URM_train.transpose(copy=True)\n",
    "        X_bool.data = np.ones(X_bool.data.size, np.float32)\n",
    "        Piu_lambda = X_bool.multiply((1 / (np.float_power(k_i, self.hybrid_lambda) + 1e-6)).reshape(-1, 1))\n",
    "        Piu_lambda = Piu_lambda.tocsr()\n",
    "\n",
    "        # Final matrix is computed as Pui * Piu * Pui\n",
    "        # Multiplication unpacked for memory usage reasons\n",
    "        block_dim = 200\n",
    "        d_t = Piu_lambda\n",
    "\n",
    "        similarity_builder = Incremental_Similarity_Builder(Pui.shape[1], initial_data_block=Pui.shape[1]*self.topK, dtype = np.float32)\n",
    "\n",
    "        start_time = time.time()\n",
    "        start_time_printBatch = start_time\n",
    "\n",
    "        for current_block_start_row in range(0, Pui.shape[1], block_dim):\n",
    "\n",
    "            if current_block_start_row + block_dim > Pui.shape[1]:\n",
    "                block_dim = Pui.shape[1] - current_block_start_row\n",
    "\n",
    "            similarity_block = d_t[current_block_start_row:current_block_start_row + block_dim, :] * Pui\n",
    "            heatS_contribution = 1 / k_i_1_mius_lamda[current_block_start_row:current_block_start_row + block_dim]\n",
    "            similarity_block = similarity_block.multiply(heatS_contribution.reshape(-1, 1)).toarray()\n",
    "\n",
    "            for row_in_block in range(block_dim):\n",
    "                row_data = similarity_block[row_in_block, :]\n",
    "                row_data[current_block_start_row + row_in_block] = 0\n",
    "\n",
    "                relevant_items_partition = np.argpartition(-row_data, self.topK-1, axis=0)[:self.topK]\n",
    "                row_data = row_data[relevant_items_partition]\n",
    "\n",
    "                # Incrementally build sparse matrix, do not add zeros\n",
    "                if np.any(row_data == 0.0):\n",
    "                    non_zero_mask = row_data != 0.0\n",
    "                    relevant_items_partition = relevant_items_partition[non_zero_mask]\n",
    "                    row_data = row_data[non_zero_mask]\n",
    "\n",
    "                similarity_builder.add_data_lists(row_list_to_add=np.ones(len(row_data), dtype = np.int) * (current_block_start_row + row_in_block),\n",
    "                                                  col_list_to_add=relevant_items_partition,\n",
    "                                                  data_list_to_add=row_data)\n",
    "\n",
    "\n",
    "            if time.time() - start_time_printBatch > 300 or current_block_start_row + block_dim == Pui.shape[1]:\n",
    "                new_time_value, new_time_unit = seconds_to_biggest_unit(time.time() - start_time)\n",
    "\n",
    "                self._print(\"Similarity column {} ({:4.1f}%), {:.2f} column/sec. Elapsed time {:.2f} {}\".format(\n",
    "                     current_block_start_row + block_dim,\n",
    "                    100.0 * float( current_block_start_row + block_dim) / Pui.shape[1],\n",
    "                    float( current_block_start_row + block_dim) / (time.time() - start_time),\n",
    "                    new_time_value, new_time_unit))\n",
    "\n",
    "                sys.stdout.flush()\n",
    "                sys.stderr.flush()\n",
    "\n",
    "                start_time_printBatch = time.time()\n",
    "\n",
    "        self.W_sparse = similarity_builder.get_SparseMatrix()\n",
    "\n",
    "        if self.normalize_similarity:\n",
    "            self.W_sparse = normalize(self.W_sparse, norm='l1', axis=1)\n",
    "\n",
    "        if self.topK != False:\n",
    "            self.W_sparse = similarityMatrixTopK(self.W_sparse, k=self.topK)\n",
    "\n",
    "        self.W_sparse = check_matrix(self.W_sparse, format='csr')"
   ]
  },
  {
   "cell_type": "code",
   "execution_count": 15,
   "id": "05a18705",
   "metadata": {
    "execution": {
     "iopub.execute_input": "2023-12-24T15:35:58.050636Z",
     "iopub.status.busy": "2023-12-24T15:35:58.049961Z",
     "iopub.status.idle": "2023-12-24T15:36:21.407258Z",
     "shell.execute_reply": "2023-12-24T15:36:21.405693Z"
    },
    "papermill": {
     "duration": 23.3852,
     "end_time": "2023-12-24T15:36:21.412091",
     "exception": false,
     "start_time": "2023-12-24T15:35:58.026891",
     "status": "completed"
    },
    "tags": []
   },
   "outputs": [
    {
     "name": "stdout",
     "output_type": "stream",
     "text": [
      "EvaluatorHoldout: Ignoring 2568 (19.7%) Users that have less than 1 test interactions\n",
      "HHPRecommender: URM Detected 627 ( 4.8%) users with no interactions.\n",
      "HHPRecommender: URM Detected 247 ( 1.1%) items with no interactions.\n",
      "HHPRecommender: Similarity column 22347 (100.0%), 1615.96 column/sec. Elapsed time 13.83 sec\n",
      "EvaluatorHoldout: Processed 10456 (100.0%) in 7.67 sec. Users per second: 1363\n"
     ]
    },
    {
     "data": {
      "text/html": [
       "<div>\n",
       "<style scoped>\n",
       "    .dataframe tbody tr th:only-of-type {\n",
       "        vertical-align: middle;\n",
       "    }\n",
       "\n",
       "    .dataframe tbody tr th {\n",
       "        vertical-align: top;\n",
       "    }\n",
       "\n",
       "    .dataframe thead th {\n",
       "        text-align: right;\n",
       "    }\n",
       "</style>\n",
       "<table border=\"1\" class=\"dataframe\">\n",
       "  <thead>\n",
       "    <tr style=\"text-align: right;\">\n",
       "      <th></th>\n",
       "      <th>PRECISION</th>\n",
       "      <th>PRECISION_RECALL_MIN_DEN</th>\n",
       "      <th>RECALL</th>\n",
       "      <th>MAP</th>\n",
       "      <th>MAP_MIN_DEN</th>\n",
       "      <th>MRR</th>\n",
       "      <th>NDCG</th>\n",
       "      <th>F1</th>\n",
       "      <th>HIT_RATE</th>\n",
       "      <th>ARHR_ALL_HITS</th>\n",
       "      <th>...</th>\n",
       "      <th>COVERAGE_USER</th>\n",
       "      <th>COVERAGE_USER_HIT</th>\n",
       "      <th>USERS_IN_GT</th>\n",
       "      <th>DIVERSITY_GINI</th>\n",
       "      <th>SHANNON_ENTROPY</th>\n",
       "      <th>RATIO_DIVERSITY_HERFINDAHL</th>\n",
       "      <th>RATIO_DIVERSITY_GINI</th>\n",
       "      <th>RATIO_SHANNON_ENTROPY</th>\n",
       "      <th>RATIO_AVERAGE_POPULARITY</th>\n",
       "      <th>RATIO_NOVELTY</th>\n",
       "    </tr>\n",
       "    <tr>\n",
       "      <th>cutoff</th>\n",
       "      <th></th>\n",
       "      <th></th>\n",
       "      <th></th>\n",
       "      <th></th>\n",
       "      <th></th>\n",
       "      <th></th>\n",
       "      <th></th>\n",
       "      <th></th>\n",
       "      <th></th>\n",
       "      <th></th>\n",
       "      <th></th>\n",
       "      <th></th>\n",
       "      <th></th>\n",
       "      <th></th>\n",
       "      <th></th>\n",
       "      <th></th>\n",
       "      <th></th>\n",
       "      <th></th>\n",
       "      <th></th>\n",
       "      <th></th>\n",
       "      <th></th>\n",
       "    </tr>\n",
       "  </thead>\n",
       "  <tbody>\n",
       "    <tr>\n",
       "      <th>10</th>\n",
       "      <td>0.08091</td>\n",
       "      <td>0.138453</td>\n",
       "      <td>0.116416</td>\n",
       "      <td>0.041412</td>\n",
       "      <td>0.071301</td>\n",
       "      <td>0.2436</td>\n",
       "      <td>0.129447</td>\n",
       "      <td>0.095469</td>\n",
       "      <td>0.468057</td>\n",
       "      <td>0.31377</td>\n",
       "      <td>...</td>\n",
       "      <td>0.802826</td>\n",
       "      <td>0.375768</td>\n",
       "      <td>0.802826</td>\n",
       "      <td>0.079619</td>\n",
       "      <td>10.706951</td>\n",
       "      <td>0.998636</td>\n",
       "      <td>0.229732</td>\n",
       "      <td>0.824822</td>\n",
       "      <td>1.402617</td>\n",
       "      <td>0.309225</td>\n",
       "    </tr>\n",
       "  </tbody>\n",
       "</table>\n",
       "<p>1 rows × 27 columns</p>\n",
       "</div>"
      ],
      "text/plain": [
       "       PRECISION PRECISION_RECALL_MIN_DEN    RECALL       MAP MAP_MIN_DEN  \\\n",
       "cutoff                                                                      \n",
       "10       0.08091                 0.138453  0.116416  0.041412    0.071301   \n",
       "\n",
       "           MRR      NDCG        F1  HIT_RATE ARHR_ALL_HITS  ... COVERAGE_USER  \\\n",
       "cutoff                                                      ...                 \n",
       "10      0.2436  0.129447  0.095469  0.468057       0.31377  ...      0.802826   \n",
       "\n",
       "       COVERAGE_USER_HIT USERS_IN_GT DIVERSITY_GINI SHANNON_ENTROPY  \\\n",
       "cutoff                                                                \n",
       "10              0.375768    0.802826       0.079619       10.706951   \n",
       "\n",
       "       RATIO_DIVERSITY_HERFINDAHL RATIO_DIVERSITY_GINI RATIO_SHANNON_ENTROPY  \\\n",
       "cutoff                                                                         \n",
       "10                       0.998636             0.229732              0.824822   \n",
       "\n",
       "       RATIO_AVERAGE_POPULARITY RATIO_NOVELTY  \n",
       "cutoff                                         \n",
       "10                     1.402617      0.309225  \n",
       "\n",
       "[1 rows x 27 columns]"
      ]
     },
     "execution_count": 15,
     "metadata": {},
     "output_type": "execute_result"
    }
   ],
   "source": [
    "evaluator = EvaluatorHoldout(URM_test_complete, cutoff_list=[10]) \n",
    "\n",
    "recommender = HHPRecommender(URM_train)\n",
    "recommender.fit()\n",
    "result_df, _ = evaluator.evaluateRecommender(recommender)\n",
    "result_df"
   ]
  },
  {
   "cell_type": "code",
   "execution_count": 16,
   "id": "b182d1e2",
   "metadata": {
    "execution": {
     "iopub.execute_input": "2023-12-24T15:36:21.459020Z",
     "iopub.status.busy": "2023-12-24T15:36:21.458578Z",
     "iopub.status.idle": "2023-12-24T15:36:21.464227Z",
     "shell.execute_reply": "2023-12-24T15:36:21.463256Z"
    },
    "papermill": {
     "duration": 0.031725,
     "end_time": "2023-12-24T15:36:21.466342",
     "exception": false,
     "start_time": "2023-12-24T15:36:21.434617",
     "status": "completed"
    },
    "tags": []
   },
   "outputs": [],
   "source": [
    "def objective_function_hhp(trial):\n",
    "\n",
    "    recommender_instance = HHPRecommender(URM_train)\n",
    "    recommender_instance.fit(\n",
    "        hybrid_lambda = trial.suggest_float('hybrid_lambda', 0.01, 0.99),\n",
    "        topK = trial.suggest_int('topK', 5, 2000, log=True)\n",
    "    ) \n",
    "        \n",
    "    result_df, _ = evaluator.evaluateRecommender(recommender_instance)\n",
    "    \n",
    "    return result_df.loc[10, \"MAP\"]"
   ]
  },
  {
   "cell_type": "code",
   "execution_count": 17,
   "id": "dc9e7a0d",
   "metadata": {
    "_kg_hide-output": true,
    "execution": {
     "iopub.execute_input": "2023-12-24T15:36:21.512987Z",
     "iopub.status.busy": "2023-12-24T15:36:21.512238Z",
     "iopub.status.idle": "2023-12-24T16:46:51.286971Z",
     "shell.execute_reply": "2023-12-24T16:46:51.285612Z"
    },
    "papermill": {
     "duration": 4229.801573,
     "end_time": "2023-12-24T16:46:51.290186",
     "exception": false,
     "start_time": "2023-12-24T15:36:21.488613",
     "status": "completed"
    },
    "scrolled": true,
    "tags": []
   },
   "outputs": [
    {
     "name": "stderr",
     "output_type": "stream",
     "text": [
      "[I 2023-12-24 15:36:22,114] A new study created in RDB with name: tuning\n"
     ]
    },
    {
     "name": "stdout",
     "output_type": "stream",
     "text": [
      "HHPRecommender: URM Detected 627 ( 4.8%) users with no interactions.\n",
      "HHPRecommender: URM Detected 247 ( 1.1%) items with no interactions.\n",
      "HHPRecommender: Similarity column 22347 (100.0%), 1037.56 column/sec. Elapsed time 21.54 sec\n",
      "EvaluatorHoldout: Processed 10456 (100.0%) in 9.28 sec. Users per second: 1127\n"
     ]
    },
    {
     "name": "stderr",
     "output_type": "stream",
     "text": [
      "[I 2023-12-24 15:37:00,070] Trial 0 finished with value: 0.03927076501985689 and parameters: {'hybrid_lambda': 0.6657383708030581, 'topK': 420}. Best is trial 0 with value: 0.03927076501985689.\n"
     ]
    },
    {
     "name": "stdout",
     "output_type": "stream",
     "text": [
      "HHPRecommender: URM Detected 627 ( 4.8%) users with no interactions.\n",
      "HHPRecommender: URM Detected 247 ( 1.1%) items with no interactions.\n",
      "HHPRecommender: Similarity column 22347 (100.0%), 2280.28 column/sec. Elapsed time 9.80 sec\n",
      "EvaluatorHoldout: Processed 10456 (100.0%) in 7.73 sec. Users per second: 1352\n"
     ]
    },
    {
     "name": "stderr",
     "output_type": "stream",
     "text": [
      "[I 2023-12-24 15:37:19,786] Trial 1 finished with value: 0.04123409814065959 and parameters: {'hybrid_lambda': 0.05683460467977674, 'topK': 118}. Best is trial 1 with value: 0.04123409814065959.\n"
     ]
    },
    {
     "name": "stdout",
     "output_type": "stream",
     "text": [
      "HHPRecommender: URM Detected 627 ( 4.8%) users with no interactions.\n",
      "HHPRecommender: URM Detected 247 ( 1.1%) items with no interactions.\n",
      "HHPRecommender: Similarity column 22347 (100.0%), 2365.40 column/sec. Elapsed time 9.45 sec\n",
      "EvaluatorHoldout: Processed 10456 (100.0%) in 7.80 sec. Users per second: 1341\n"
     ]
    },
    {
     "name": "stderr",
     "output_type": "stream",
     "text": [
      "[I 2023-12-24 15:37:39,057] Trial 2 finished with value: 0.04132142933046776 and parameters: {'hybrid_lambda': 0.7264243100310582, 'topK': 106}. Best is trial 2 with value: 0.04132142933046776.\n"
     ]
    },
    {
     "name": "stdout",
     "output_type": "stream",
     "text": [
      "HHPRecommender: URM Detected 627 ( 4.8%) users with no interactions.\n",
      "HHPRecommender: URM Detected 247 ( 1.1%) items with no interactions.\n",
      "HHPRecommender: Similarity column 22347 (100.0%), 3305.35 column/sec. Elapsed time 6.76 sec\n",
      "EvaluatorHoldout: Processed 10456 (100.0%) in 6.74 sec. Users per second: 1551\n"
     ]
    },
    {
     "name": "stderr",
     "output_type": "stream",
     "text": [
      "[I 2023-12-24 15:37:53,091] Trial 3 finished with value: 0.02527044166939927 and parameters: {'hybrid_lambda': 0.2597174672649843, 'topK': 6}. Best is trial 2 with value: 0.04132142933046776.\n"
     ]
    },
    {
     "name": "stdout",
     "output_type": "stream",
     "text": [
      "HHPRecommender: URM Detected 627 ( 4.8%) users with no interactions.\n",
      "HHPRecommender: URM Detected 247 ( 1.1%) items with no interactions.\n",
      "HHPRecommender: Similarity column 22347 (100.0%), 3189.80 column/sec. Elapsed time 7.01 sec\n",
      "EvaluatorHoldout: Processed 10456 (100.0%) in 6.85 sec. Users per second: 1527\n"
     ]
    },
    {
     "name": "stderr",
     "output_type": "stream",
     "text": [
      "[I 2023-12-24 15:38:07,536] Trial 4 finished with value: 0.031370930034855346 and parameters: {'hybrid_lambda': 0.46177566403657005, 'topK': 10}. Best is trial 2 with value: 0.04132142933046776.\n"
     ]
    },
    {
     "name": "stdout",
     "output_type": "stream",
     "text": [
      "HHPRecommender: URM Detected 627 ( 4.8%) users with no interactions.\n",
      "HHPRecommender: URM Detected 247 ( 1.1%) items with no interactions.\n",
      "HHPRecommender: Similarity column 22347 (100.0%), 1585.90 column/sec. Elapsed time 14.09 sec\n",
      "EvaluatorHoldout: Processed 10456 (100.0%) in 8.14 sec. Users per second: 1285\n"
     ]
    },
    {
     "name": "stderr",
     "output_type": "stream",
     "text": [
      "[I 2023-12-24 15:38:34,504] Trial 5 finished with value: 0.04045678565356313 and parameters: {'hybrid_lambda': 0.1011062187107773, 'topK': 288}. Best is trial 2 with value: 0.04132142933046776.\n"
     ]
    },
    {
     "name": "stdout",
     "output_type": "stream",
     "text": [
      "HHPRecommender: URM Detected 627 ( 4.8%) users with no interactions.\n",
      "HHPRecommender: URM Detected 247 ( 1.1%) items with no interactions.\n",
      "HHPRecommender: Similarity column 22347 (100.0%), 3193.83 column/sec. Elapsed time 7.00 sec\n",
      "EvaluatorHoldout: Processed 10456 (100.0%) in 6.83 sec. Users per second: 1531\n"
     ]
    },
    {
     "name": "stderr",
     "output_type": "stream",
     "text": [
      "[I 2023-12-24 15:38:48,985] Trial 6 finished with value: 0.03239623562380867 and parameters: {'hybrid_lambda': 0.20918495492726275, 'topK': 11}. Best is trial 2 with value: 0.04132142933046776.\n"
     ]
    },
    {
     "name": "stdout",
     "output_type": "stream",
     "text": [
      "HHPRecommender: URM Detected 627 ( 4.8%) users with no interactions.\n",
      "HHPRecommender: URM Detected 247 ( 1.1%) items with no interactions.\n",
      "HHPRecommender: Similarity column 22347 (100.0%), 3276.55 column/sec. Elapsed time 6.82 sec\n",
      "EvaluatorHoldout: Processed 10456 (100.0%) in 6.89 sec. Users per second: 1519\n"
     ]
    },
    {
     "name": "stderr",
     "output_type": "stream",
     "text": [
      "[I 2023-12-24 15:39:03,340] Trial 7 finished with value: 0.028567758619642874 and parameters: {'hybrid_lambda': 0.6638501612469032, 'topK': 8}. Best is trial 2 with value: 0.04132142933046776.\n"
     ]
    },
    {
     "name": "stdout",
     "output_type": "stream",
     "text": [
      "HHPRecommender: URM Detected 627 ( 4.8%) users with no interactions.\n",
      "HHPRecommender: URM Detected 247 ( 1.1%) items with no interactions.\n",
      "HHPRecommender: Similarity column 22347 (100.0%), 2935.81 column/sec. Elapsed time 7.61 sec\n",
      "EvaluatorHoldout: Processed 10456 (100.0%) in 7.04 sec. Users per second: 1486\n"
     ]
    },
    {
     "name": "stderr",
     "output_type": "stream",
     "text": [
      "[I 2023-12-24 15:39:18,862] Trial 8 finished with value: 0.03857706063807867 and parameters: {'hybrid_lambda': 0.7641212626765902, 'topK': 23}. Best is trial 2 with value: 0.04132142933046776.\n"
     ]
    },
    {
     "name": "stdout",
     "output_type": "stream",
     "text": [
      "HHPRecommender: URM Detected 627 ( 4.8%) users with no interactions.\n",
      "HHPRecommender: URM Detected 247 ( 1.1%) items with no interactions.\n",
      "HHPRecommender: Similarity column 22347 (100.0%), 783.17 column/sec. Elapsed time 28.53 sec\n",
      "EvaluatorHoldout: Processed 10456 (100.0%) in 12.43 sec. Users per second: 841\n"
     ]
    },
    {
     "name": "stderr",
     "output_type": "stream",
     "text": [
      "[I 2023-12-24 15:40:18,988] Trial 9 finished with value: 0.033307085777438024 and parameters: {'hybrid_lambda': 0.8343070605632159, 'topK': 1276}. Best is trial 2 with value: 0.04132142933046776.\n"
     ]
    },
    {
     "name": "stdout",
     "output_type": "stream",
     "text": [
      "HHPRecommender: URM Detected 627 ( 4.8%) users with no interactions.\n",
      "HHPRecommender: URM Detected 247 ( 1.1%) items with no interactions.\n",
      "HHPRecommender: Similarity column 22347 (100.0%), 2779.46 column/sec. Elapsed time 8.04 sec\n",
      "EvaluatorHoldout: Processed 10456 (100.0%) in 7.57 sec. Users per second: 1382\n"
     ]
    },
    {
     "name": "stderr",
     "output_type": "stream",
     "text": [
      "[I 2023-12-24 15:40:35,769] Trial 10 finished with value: 0.04055393121288354 and parameters: {'hybrid_lambda': 0.9233115193441881, 'topK': 50}. Best is trial 2 with value: 0.04132142933046776.\n"
     ]
    },
    {
     "name": "stdout",
     "output_type": "stream",
     "text": [
      "HHPRecommender: URM Detected 627 ( 4.8%) users with no interactions.\n",
      "HHPRecommender: URM Detected 247 ( 1.1%) items with no interactions.\n",
      "HHPRecommender: Similarity column 22347 (100.0%), 2367.08 column/sec. Elapsed time 9.44 sec\n",
      "EvaluatorHoldout: Processed 10456 (100.0%) in 7.83 sec. Users per second: 1335\n"
     ]
    },
    {
     "name": "stderr",
     "output_type": "stream",
     "text": [
      "[I 2023-12-24 15:40:54,965] Trial 11 finished with value: 0.041413694271384235 and parameters: {'hybrid_lambda': 0.022612383327993202, 'topK': 100}. Best is trial 11 with value: 0.041413694271384235.\n"
     ]
    },
    {
     "name": "stdout",
     "output_type": "stream",
     "text": [
      "HHPRecommender: URM Detected 627 ( 4.8%) users with no interactions.\n",
      "HHPRecommender: URM Detected 247 ( 1.1%) items with no interactions.\n",
      "HHPRecommender: Similarity column 22347 (100.0%), 2525.65 column/sec. Elapsed time 8.85 sec\n",
      "EvaluatorHoldout: Processed 10456 (100.0%) in 7.66 sec. Users per second: 1364\n"
     ]
    },
    {
     "name": "stderr",
     "output_type": "stream",
     "text": [
      "[I 2023-12-24 15:41:13,038] Trial 12 finished with value: 0.04125678960056402 and parameters: {'hybrid_lambda': 0.45707155412663975, 'topK': 76}. Best is trial 11 with value: 0.041413694271384235.\n"
     ]
    },
    {
     "name": "stdout",
     "output_type": "stream",
     "text": [
      "HHPRecommender: URM Detected 627 ( 4.8%) users with no interactions.\n",
      "HHPRecommender: URM Detected 247 ( 1.1%) items with no interactions.\n",
      "HHPRecommender: Similarity column 22347 (100.0%), 2053.72 column/sec. Elapsed time 10.88 sec\n",
      "EvaluatorHoldout: Processed 10456 (100.0%) in 8.40 sec. Users per second: 1244\n"
     ]
    },
    {
     "name": "stderr",
     "output_type": "stream",
     "text": [
      "[I 2023-12-24 15:41:35,162] Trial 13 finished with value: 0.04119794513061587 and parameters: {'hybrid_lambda': 0.33853182749682365, 'topK': 152}. Best is trial 11 with value: 0.041413694271384235.\n"
     ]
    },
    {
     "name": "stdout",
     "output_type": "stream",
     "text": [
      "HHPRecommender: URM Detected 627 ( 4.8%) users with no interactions.\n",
      "HHPRecommender: URM Detected 247 ( 1.1%) items with no interactions.\n",
      "HHPRecommender: Similarity column 22347 (100.0%), 2729.59 column/sec. Elapsed time 8.19 sec\n",
      "EvaluatorHoldout: Processed 10456 (100.0%) in 7.52 sec. Users per second: 1391\n"
     ]
    },
    {
     "name": "stderr",
     "output_type": "stream",
     "text": [
      "[I 2023-12-24 15:41:52,049] Trial 14 finished with value: 0.04055393121288354 and parameters: {'hybrid_lambda': 0.03278288003783543, 'topK': 50}. Best is trial 11 with value: 0.041413694271384235.\n"
     ]
    },
    {
     "name": "stdout",
     "output_type": "stream",
     "text": [
      "HHPRecommender: URM Detected 627 ( 4.8%) users with no interactions.\n",
      "HHPRecommender: URM Detected 247 ( 1.1%) items with no interactions.\n",
      "HHPRecommender: Similarity column 22347 (100.0%), 2992.25 column/sec. Elapsed time 7.47 sec\n",
      "EvaluatorHoldout: Processed 10456 (100.0%) in 7.41 sec. Users per second: 1412\n"
     ]
    },
    {
     "name": "stderr",
     "output_type": "stream",
     "text": [
      "[I 2023-12-24 15:42:07,797] Trial 15 finished with value: 0.03958150784542391 and parameters: {'hybrid_lambda': 0.5425904030568243, 'topK': 28}. Best is trial 11 with value: 0.041413694271384235.\n"
     ]
    },
    {
     "name": "stdout",
     "output_type": "stream",
     "text": [
      "HHPRecommender: URM Detected 627 ( 4.8%) users with no interactions.\n",
      "HHPRecommender: URM Detected 247 ( 1.1%) items with no interactions.\n",
      "HHPRecommender: Similarity column 22347 (100.0%), 1673.27 column/sec. Elapsed time 13.36 sec\n",
      "EvaluatorHoldout: Processed 10456 (100.0%) in 7.98 sec. Users per second: 1311\n"
     ]
    },
    {
     "name": "stderr",
     "output_type": "stream",
     "text": [
      "[I 2023-12-24 15:42:33,398] Trial 16 finished with value: 0.040745004007724475 and parameters: {'hybrid_lambda': 0.9579593004404595, 'topK': 256}. Best is trial 11 with value: 0.041413694271384235.\n"
     ]
    },
    {
     "name": "stdout",
     "output_type": "stream",
     "text": [
      "HHPRecommender: URM Detected 627 ( 4.8%) users with no interactions.\n",
      "HHPRecommender: URM Detected 247 ( 1.1%) items with no interactions.\n",
      "HHPRecommender: Similarity column 22347 (100.0%), 1089.39 column/sec. Elapsed time 20.51 sec\n",
      "EvaluatorHoldout: Processed 10456 (100.0%) in 10.04 sec. Users per second: 1042\n"
     ]
    },
    {
     "name": "stderr",
     "output_type": "stream",
     "text": [
      "[I 2023-12-24 15:43:13,685] Trial 17 finished with value: 0.03730619846127727 and parameters: {'hybrid_lambda': 0.14956842543383186, 'topK': 622}. Best is trial 11 with value: 0.041413694271384235.\n"
     ]
    },
    {
     "name": "stdout",
     "output_type": "stream",
     "text": [
      "HHPRecommender: URM Detected 627 ( 4.8%) users with no interactions.\n",
      "HHPRecommender: URM Detected 247 ( 1.1%) items with no interactions.\n",
      "HHPRecommender: Similarity column 22347 (100.0%), 1978.22 column/sec. Elapsed time 11.30 sec\n",
      "EvaluatorHoldout: Processed 10456 (100.0%) in 8.19 sec. Users per second: 1277\n"
     ]
    },
    {
     "name": "stderr",
     "output_type": "stream",
     "text": [
      "[I 2023-12-24 15:43:36,241] Trial 18 finished with value: 0.04121992688939942 and parameters: {'hybrid_lambda': 0.3405128127531792, 'topK': 175}. Best is trial 11 with value: 0.041413694271384235.\n"
     ]
    },
    {
     "name": "stdout",
     "output_type": "stream",
     "text": [
      "HHPRecommender: URM Detected 627 ( 4.8%) users with no interactions.\n",
      "HHPRecommender: URM Detected 247 ( 1.1%) items with no interactions.\n",
      "HHPRecommender: Similarity column 22347 (100.0%), 2565.72 column/sec. Elapsed time 8.71 sec\n",
      "EvaluatorHoldout: Processed 10456 (100.0%) in 7.66 sec. Users per second: 1365\n"
     ]
    },
    {
     "name": "stderr",
     "output_type": "stream",
     "text": [
      "[I 2023-12-24 15:43:54,147] Trial 19 finished with value: 0.04121399879768339 and parameters: {'hybrid_lambda': 0.16667627950172836, 'topK': 74}. Best is trial 11 with value: 0.041413694271384235.\n"
     ]
    },
    {
     "name": "stdout",
     "output_type": "stream",
     "text": [
      "HHPRecommender: URM Detected 627 ( 4.8%) users with no interactions.\n",
      "HHPRecommender: URM Detected 247 ( 1.1%) items with no interactions.\n",
      "HHPRecommender: Similarity column 22347 (100.0%), 2155.08 column/sec. Elapsed time 10.37 sec\n",
      "EvaluatorHoldout: Processed 10456 (100.0%) in 7.94 sec. Users per second: 1317\n"
     ]
    },
    {
     "name": "stderr",
     "output_type": "stream",
     "text": [
      "[I 2023-12-24 15:44:14,942] Trial 20 finished with value: 0.04138578442088445 and parameters: {'hybrid_lambda': 0.024803258647158682, 'topK': 137}. Best is trial 11 with value: 0.041413694271384235.\n"
     ]
    },
    {
     "name": "stdout",
     "output_type": "stream",
     "text": [
      "HHPRecommender: URM Detected 627 ( 4.8%) users with no interactions.\n",
      "HHPRecommender: URM Detected 247 ( 1.1%) items with no interactions.\n",
      "HHPRecommender: Similarity column 22347 (100.0%), 2133.74 column/sec. Elapsed time 10.47 sec\n",
      "EvaluatorHoldout: Processed 10456 (100.0%) in 8.06 sec. Users per second: 1297\n"
     ]
    },
    {
     "name": "stderr",
     "output_type": "stream",
     "text": [
      "[I 2023-12-24 15:44:35,975] Trial 21 finished with value: 0.04135786697999834 and parameters: {'hybrid_lambda': 0.0592173831990859, 'topK': 138}. Best is trial 11 with value: 0.041413694271384235.\n"
     ]
    },
    {
     "name": "stdout",
     "output_type": "stream",
     "text": [
      "HHPRecommender: URM Detected 627 ( 4.8%) users with no interactions.\n",
      "HHPRecommender: URM Detected 247 ( 1.1%) items with no interactions.\n",
      "HHPRecommender: Similarity column 22347 (100.0%), 1954.67 column/sec. Elapsed time 11.43 sec\n",
      "EvaluatorHoldout: Processed 10456 (100.0%) in 7.67 sec. Users per second: 1363\n"
     ]
    },
    {
     "name": "stderr",
     "output_type": "stream",
     "text": [
      "[I 2023-12-24 15:44:58,326] Trial 22 finished with value: 0.04124847812754328 and parameters: {'hybrid_lambda': 0.011257369789228668, 'topK': 183}. Best is trial 11 with value: 0.041413694271384235.\n"
     ]
    },
    {
     "name": "stdout",
     "output_type": "stream",
     "text": [
      "HHPRecommender: URM Detected 627 ( 4.8%) users with no interactions.\n",
      "HHPRecommender: URM Detected 247 ( 1.1%) items with no interactions.\n",
      "HHPRecommender: Similarity column 22347 (100.0%), 2346.78 column/sec. Elapsed time 9.52 sec\n",
      "EvaluatorHoldout: Processed 10456 (100.0%) in 7.78 sec. Users per second: 1344\n"
     ]
    },
    {
     "name": "stderr",
     "output_type": "stream",
     "text": [
      "[I 2023-12-24 15:45:17,554] Trial 23 finished with value: 0.041308650915097556 and parameters: {'hybrid_lambda': 0.10600160322145331, 'topK': 103}. Best is trial 11 with value: 0.041413694271384235.\n"
     ]
    },
    {
     "name": "stdout",
     "output_type": "stream",
     "text": [
      "HHPRecommender: URM Detected 627 ( 4.8%) users with no interactions.\n",
      "HHPRecommender: URM Detected 247 ( 1.1%) items with no interactions.\n",
      "HHPRecommender: Similarity column 22347 (100.0%), 1648.82 column/sec. Elapsed time 13.55 sec\n",
      "EvaluatorHoldout: Processed 10456 (100.0%) in 8.00 sec. Users per second: 1306\n"
     ]
    },
    {
     "name": "stderr",
     "output_type": "stream",
     "text": [
      "[I 2023-12-24 15:45:43,615] Trial 24 finished with value: 0.04071552674244959 and parameters: {'hybrid_lambda': 0.08918743597283266, 'topK': 267}. Best is trial 11 with value: 0.041413694271384235.\n"
     ]
    },
    {
     "name": "stdout",
     "output_type": "stream",
     "text": [
      "HHPRecommender: URM Detected 627 ( 4.8%) users with no interactions.\n",
      "HHPRecommender: URM Detected 247 ( 1.1%) items with no interactions.\n",
      "HHPRecommender: Similarity column 22347 (100.0%), 1261.42 column/sec. Elapsed time 17.72 sec\n",
      "EvaluatorHoldout: Processed 10456 (100.0%) in 9.51 sec. Users per second: 1099\n"
     ]
    },
    {
     "name": "stderr",
     "output_type": "stream",
     "text": [
      "[I 2023-12-24 15:46:18,326] Trial 25 finished with value: 0.03870575563813947 and parameters: {'hybrid_lambda': 0.01150544816943342, 'topK': 468}. Best is trial 11 with value: 0.041413694271384235.\n"
     ]
    },
    {
     "name": "stdout",
     "output_type": "stream",
     "text": [
      "HHPRecommender: URM Detected 627 ( 4.8%) users with no interactions.\n",
      "HHPRecommender: URM Detected 247 ( 1.1%) items with no interactions.\n",
      "HHPRecommender: Similarity column 22347 (100.0%), 2009.34 column/sec. Elapsed time 11.12 sec\n",
      "EvaluatorHoldout: Processed 10456 (100.0%) in 8.09 sec. Users per second: 1292\n"
     ]
    },
    {
     "name": "stderr",
     "output_type": "stream",
     "text": [
      "[I 2023-12-24 15:46:40,666] Trial 26 finished with value: 0.04116060802030631 and parameters: {'hybrid_lambda': 0.21223391792205393, 'topK': 168}. Best is trial 11 with value: 0.041413694271384235.\n"
     ]
    },
    {
     "name": "stdout",
     "output_type": "stream",
     "text": [
      "HHPRecommender: URM Detected 627 ( 4.8%) users with no interactions.\n",
      "HHPRecommender: URM Detected 247 ( 1.1%) items with no interactions.\n",
      "HHPRecommender: Similarity column 22347 (100.0%), 2603.85 column/sec. Elapsed time 8.58 sec\n",
      "EvaluatorHoldout: Processed 10456 (100.0%) in 7.61 sec. Users per second: 1373\n"
     ]
    },
    {
     "name": "stderr",
     "output_type": "stream",
     "text": [
      "[I 2023-12-24 15:46:58,355] Trial 27 finished with value: 0.04115080124118051 and parameters: {'hybrid_lambda': 0.12958169088035038, 'topK': 70}. Best is trial 11 with value: 0.041413694271384235.\n"
     ]
    },
    {
     "name": "stdout",
     "output_type": "stream",
     "text": [
      "HHPRecommender: URM Detected 627 ( 4.8%) users with no interactions.\n",
      "HHPRecommender: URM Detected 247 ( 1.1%) items with no interactions.\n",
      "HHPRecommender: Similarity column 22347 (100.0%), 2892.53 column/sec. Elapsed time 7.73 sec\n",
      "EvaluatorHoldout: Processed 10456 (100.0%) in 7.33 sec. Users per second: 1426\n"
     ]
    },
    {
     "name": "stderr",
     "output_type": "stream",
     "text": [
      "[I 2023-12-24 15:47:14,432] Trial 28 finished with value: 0.04042116776575518 and parameters: {'hybrid_lambda': 0.07034045295395212, 'topK': 40}. Best is trial 11 with value: 0.041413694271384235.\n"
     ]
    },
    {
     "name": "stdout",
     "output_type": "stream",
     "text": [
      "HHPRecommender: URM Detected 627 ( 4.8%) users with no interactions.\n",
      "HHPRecommender: URM Detected 247 ( 1.1%) items with no interactions.\n",
      "HHPRecommender: Similarity column 22347 (100.0%), 1335.20 column/sec. Elapsed time 16.74 sec\n",
      "EvaluatorHoldout: Processed 10456 (100.0%) in 9.21 sec. Users per second: 1135\n"
     ]
    },
    {
     "name": "stderr",
     "output_type": "stream",
     "text": [
      "[I 2023-12-24 15:47:47,200] Trial 29 finished with value: 0.03943025421721911 and parameters: {'hybrid_lambda': 0.2391383134868509, 'topK': 413}. Best is trial 11 with value: 0.041413694271384235.\n"
     ]
    },
    {
     "name": "stdout",
     "output_type": "stream",
     "text": [
      "HHPRecommender: URM Detected 627 ( 4.8%) users with no interactions.\n",
      "HHPRecommender: URM Detected 247 ( 1.1%) items with no interactions.\n",
      "HHPRecommender: Similarity column 22347 (100.0%), 2242.03 column/sec. Elapsed time 9.97 sec\n",
      "EvaluatorHoldout: Processed 10456 (100.0%) in 8.03 sec. Users per second: 1303\n"
     ]
    },
    {
     "name": "stderr",
     "output_type": "stream",
     "text": [
      "[I 2023-12-24 15:48:07,436] Trial 30 finished with value: 0.04136559778846562 and parameters: {'hybrid_lambda': 0.1622053344535132, 'topK': 123}. Best is trial 11 with value: 0.041413694271384235.\n"
     ]
    },
    {
     "name": "stdout",
     "output_type": "stream",
     "text": [
      "HHPRecommender: URM Detected 627 ( 4.8%) users with no interactions.\n",
      "HHPRecommender: URM Detected 247 ( 1.1%) items with no interactions.\n",
      "HHPRecommender: Similarity column 22347 (100.0%), 2277.52 column/sec. Elapsed time 9.81 sec\n",
      "EvaluatorHoldout: Processed 10456 (100.0%) in 7.89 sec. Users per second: 1326\n"
     ]
    },
    {
     "name": "stderr",
     "output_type": "stream",
     "text": [
      "[I 2023-12-24 15:48:27,356] Trial 31 finished with value: 0.04135341142322841 and parameters: {'hybrid_lambda': 0.1460923884315612, 'topK': 121}. Best is trial 11 with value: 0.041413694271384235.\n"
     ]
    },
    {
     "name": "stdout",
     "output_type": "stream",
     "text": [
      "HHPRecommender: URM Detected 627 ( 4.8%) users with no interactions.\n",
      "HHPRecommender: URM Detected 247 ( 1.1%) items with no interactions.\n",
      "HHPRecommender: Similarity column 22347 (100.0%), 2427.09 column/sec. Elapsed time 9.21 sec\n",
      "EvaluatorHoldout: Processed 10456 (100.0%) in 7.86 sec. Users per second: 1331\n"
     ]
    },
    {
     "name": "stderr",
     "output_type": "stream",
     "text": [
      "[I 2023-12-24 15:48:46,256] Trial 32 finished with value: 0.041265188363027505 and parameters: {'hybrid_lambda': 0.013668838257643642, 'topK': 91}. Best is trial 11 with value: 0.041413694271384235.\n"
     ]
    },
    {
     "name": "stdout",
     "output_type": "stream",
     "text": [
      "HHPRecommender: URM Detected 627 ( 4.8%) users with no interactions.\n",
      "HHPRecommender: URM Detected 247 ( 1.1%) items with no interactions.\n",
      "HHPRecommender: Similarity column 22347 (100.0%), 2148.21 column/sec. Elapsed time 10.40 sec\n",
      "EvaluatorHoldout: Processed 10456 (100.0%) in 7.96 sec. Users per second: 1313\n"
     ]
    },
    {
     "name": "stderr",
     "output_type": "stream",
     "text": [
      "[I 2023-12-24 15:49:07,103] Trial 33 finished with value: 0.04138578442088445 and parameters: {'hybrid_lambda': 0.06631518567329983, 'topK': 137}. Best is trial 11 with value: 0.041413694271384235.\n"
     ]
    },
    {
     "name": "stdout",
     "output_type": "stream",
     "text": [
      "HHPRecommender: URM Detected 627 ( 4.8%) users with no interactions.\n",
      "HHPRecommender: URM Detected 247 ( 1.1%) items with no interactions.\n",
      "HHPRecommender: Similarity column 22347 (100.0%), 2305.68 column/sec. Elapsed time 9.69 sec\n",
      "EvaluatorHoldout: Processed 10456 (100.0%) in 8.14 sec. Users per second: 1285\n"
     ]
    },
    {
     "name": "stderr",
     "output_type": "stream",
     "text": [
      "[I 2023-12-24 15:49:27,014] Trial 34 finished with value: 0.04128762934018344 and parameters: {'hybrid_lambda': 0.07519058629664968, 'topK': 108}. Best is trial 11 with value: 0.041413694271384235.\n"
     ]
    },
    {
     "name": "stdout",
     "output_type": "stream",
     "text": [
      "HHPRecommender: URM Detected 627 ( 4.8%) users with no interactions.\n",
      "HHPRecommender: URM Detected 247 ( 1.1%) items with no interactions.\n",
      "HHPRecommender: Similarity column 22347 (100.0%), 1774.38 column/sec. Elapsed time 12.59 sec\n",
      "EvaluatorHoldout: Processed 10456 (100.0%) in 8.58 sec. Users per second: 1218\n"
     ]
    },
    {
     "name": "stderr",
     "output_type": "stream",
     "text": [
      "[I 2023-12-24 15:49:52,239] Trial 35 finished with value: 0.04090250072867772 and parameters: {'hybrid_lambda': 0.16484494441465497, 'topK': 231}. Best is trial 11 with value: 0.041413694271384235.\n"
     ]
    },
    {
     "name": "stdout",
     "output_type": "stream",
     "text": [
      "HHPRecommender: URM Detected 627 ( 4.8%) users with no interactions.\n",
      "HHPRecommender: URM Detected 247 ( 1.1%) items with no interactions.\n",
      "HHPRecommender: Similarity column 22347 (100.0%), 1926.25 column/sec. Elapsed time 11.60 sec\n",
      "EvaluatorHoldout: Processed 10456 (100.0%) in 11.83 sec. Users per second: 884\n"
     ]
    },
    {
     "name": "stderr",
     "output_type": "stream",
     "text": [
      "[I 2023-12-24 15:50:18,201] Trial 36 finished with value: 0.04139033865267661 and parameters: {'hybrid_lambda': 0.07017570116800703, 'topK': 128}. Best is trial 11 with value: 0.041413694271384235.\n"
     ]
    },
    {
     "name": "stdout",
     "output_type": "stream",
     "text": [
      "HHPRecommender: URM Detected 627 ( 4.8%) users with no interactions.\n",
      "HHPRecommender: URM Detected 247 ( 1.1%) items with no interactions.\n",
      "HHPRecommender: Similarity column 22347 (100.0%), 1844.22 column/sec. Elapsed time 12.12 sec\n",
      "EvaluatorHoldout: Processed 10456 (100.0%) in 7.20 sec. Users per second: 1453\n"
     ]
    },
    {
     "name": "stderr",
     "output_type": "stream",
     "text": [
      "[I 2023-12-24 15:50:41,128] Trial 37 finished with value: 0.040871664784251374 and parameters: {'hybrid_lambda': 0.077726831624296, 'topK': 208}. Best is trial 11 with value: 0.041413694271384235.\n"
     ]
    },
    {
     "name": "stdout",
     "output_type": "stream",
     "text": [
      "HHPRecommender: URM Detected 627 ( 4.8%) users with no interactions.\n",
      "HHPRecommender: URM Detected 247 ( 1.1%) items with no interactions.\n",
      "HHPRecommender: Similarity column 22347 (100.0%), 1506.94 column/sec. Elapsed time 14.83 sec\n",
      "EvaluatorHoldout: Processed 10456 (100.0%) in 8.36 sec. Users per second: 1251\n"
     ]
    },
    {
     "name": "stderr",
     "output_type": "stream",
     "text": [
      "[I 2023-12-24 15:51:09,828] Trial 38 finished with value: 0.040370076875433106 and parameters: {'hybrid_lambda': 0.280096300126663, 'topK': 324}. Best is trial 11 with value: 0.041413694271384235.\n"
     ]
    },
    {
     "name": "stdout",
     "output_type": "stream",
     "text": [
      "HHPRecommender: URM Detected 627 ( 4.8%) users with no interactions.\n",
      "HHPRecommender: URM Detected 247 ( 1.1%) items with no interactions.\n",
      "HHPRecommender: Similarity column 22347 (100.0%), 2410.97 column/sec. Elapsed time 9.27 sec\n",
      "EvaluatorHoldout: Processed 10456 (100.0%) in 7.90 sec. Users per second: 1323\n"
     ]
    },
    {
     "name": "stderr",
     "output_type": "stream",
     "text": [
      "[I 2023-12-24 15:51:28,855] Trial 39 finished with value: 0.04124408329386393 and parameters: {'hybrid_lambda': 0.10516855494631132, 'topK': 93}. Best is trial 11 with value: 0.041413694271384235.\n"
     ]
    },
    {
     "name": "stdout",
     "output_type": "stream",
     "text": [
      "HHPRecommender: URM Detected 627 ( 4.8%) users with no interactions.\n",
      "HHPRecommender: URM Detected 247 ( 1.1%) items with no interactions.\n",
      "HHPRecommender: Similarity column 22347 (100.0%), 2148.23 column/sec. Elapsed time 10.40 sec\n",
      "EvaluatorHoldout: Processed 10456 (100.0%) in 7.99 sec. Users per second: 1309\n"
     ]
    },
    {
     "name": "stderr",
     "output_type": "stream",
     "text": [
      "[I 2023-12-24 15:51:49,763] Trial 40 finished with value: 0.04138578442088445 and parameters: {'hybrid_lambda': 0.04886228868082222, 'topK': 137}. Best is trial 11 with value: 0.041413694271384235.\n"
     ]
    },
    {
     "name": "stdout",
     "output_type": "stream",
     "text": [
      "HHPRecommender: URM Detected 627 ( 4.8%) users with no interactions.\n",
      "HHPRecommender: URM Detected 247 ( 1.1%) items with no interactions.\n",
      "HHPRecommender: Similarity column 22347 (100.0%), 2093.06 column/sec. Elapsed time 10.68 sec\n",
      "EvaluatorHoldout: Processed 10456 (100.0%) in 8.07 sec. Users per second: 1295\n"
     ]
    },
    {
     "name": "stderr",
     "output_type": "stream",
     "text": [
      "[I 2023-12-24 15:52:11,183] Trial 41 finished with value: 0.04125875551062098 and parameters: {'hybrid_lambda': 0.05299498810542848, 'topK': 147}. Best is trial 11 with value: 0.041413694271384235.\n"
     ]
    },
    {
     "name": "stdout",
     "output_type": "stream",
     "text": [
      "HHPRecommender: URM Detected 627 ( 4.8%) users with no interactions.\n",
      "HHPRecommender: URM Detected 247 ( 1.1%) items with no interactions.\n",
      "HHPRecommender: Similarity column 22347 (100.0%), 1840.05 column/sec. Elapsed time 12.14 sec\n",
      "EvaluatorHoldout: Processed 10456 (100.0%) in 7.28 sec. Users per second: 1436\n"
     ]
    },
    {
     "name": "stderr",
     "output_type": "stream",
     "text": [
      "[I 2023-12-24 15:52:34,123] Trial 42 finished with value: 0.040943450862875624 and parameters: {'hybrid_lambda': 0.04572772231461012, 'topK': 205}. Best is trial 11 with value: 0.041413694271384235.\n"
     ]
    },
    {
     "name": "stdout",
     "output_type": "stream",
     "text": [
      "HHPRecommender: URM Detected 627 ( 4.8%) users with no interactions.\n",
      "HHPRecommender: URM Detected 247 ( 1.1%) items with no interactions.\n",
      "HHPRecommender: Similarity column 22347 (100.0%), 2613.74 column/sec. Elapsed time 8.55 sec\n",
      "EvaluatorHoldout: Processed 10456 (100.0%) in 7.70 sec. Users per second: 1357\n"
     ]
    },
    {
     "name": "stderr",
     "output_type": "stream",
     "text": [
      "[I 2023-12-24 15:52:51,816] Trial 43 finished with value: 0.04104490396643282 and parameters: {'hybrid_lambda': 0.11457650969540616, 'topK': 68}. Best is trial 11 with value: 0.041413694271384235.\n"
     ]
    },
    {
     "name": "stdout",
     "output_type": "stream",
     "text": [
      "HHPRecommender: URM Detected 627 ( 4.8%) users with no interactions.\n",
      "HHPRecommender: URM Detected 247 ( 1.1%) items with no interactions.\n",
      "HHPRecommender: Similarity column 22347 (100.0%), 2200.57 column/sec. Elapsed time 10.16 sec\n",
      "EvaluatorHoldout: Processed 10456 (100.0%) in 8.04 sec. Users per second: 1300\n"
     ]
    },
    {
     "name": "stderr",
     "output_type": "stream",
     "text": [
      "[I 2023-12-24 15:53:12,442] Trial 44 finished with value: 0.04141416487533607 and parameters: {'hybrid_lambda': 0.21156708874107644, 'topK': 130}. Best is trial 44 with value: 0.04141416487533607.\n"
     ]
    },
    {
     "name": "stdout",
     "output_type": "stream",
     "text": [
      "HHPRecommender: URM Detected 627 ( 4.8%) users with no interactions.\n",
      "HHPRecommender: URM Detected 247 ( 1.1%) items with no interactions.\n",
      "HHPRecommender: Similarity column 22347 (100.0%), 2446.27 column/sec. Elapsed time 9.14 sec\n",
      "EvaluatorHoldout: Processed 10456 (100.0%) in 7.82 sec. Users per second: 1336\n"
     ]
    },
    {
     "name": "stderr",
     "output_type": "stream",
     "text": [
      "[I 2023-12-24 15:53:31,155] Trial 45 finished with value: 0.04133600666739593 and parameters: {'hybrid_lambda': 0.19316328232355195, 'topK': 89}. Best is trial 44 with value: 0.04141416487533607.\n"
     ]
    },
    {
     "name": "stdout",
     "output_type": "stream",
     "text": [
      "HHPRecommender: URM Detected 627 ( 4.8%) users with no interactions.\n",
      "HHPRecommender: URM Detected 247 ( 1.1%) items with no interactions.\n",
      "HHPRecommender: Similarity column 22347 (100.0%), 1999.39 column/sec. Elapsed time 11.18 sec\n",
      "EvaluatorHoldout: Processed 10456 (100.0%) in 8.38 sec. Users per second: 1247\n"
     ]
    },
    {
     "name": "stderr",
     "output_type": "stream",
     "text": [
      "[I 2023-12-24 15:53:53,736] Trial 46 finished with value: 0.041206962509564356 and parameters: {'hybrid_lambda': 0.11967960520382749, 'topK': 171}. Best is trial 44 with value: 0.04141416487533607.\n"
     ]
    },
    {
     "name": "stdout",
     "output_type": "stream",
     "text": [
      "HHPRecommender: URM Detected 627 ( 4.8%) users with no interactions.\n",
      "HHPRecommender: URM Detected 247 ( 1.1%) items with no interactions.\n",
      "HHPRecommender: Similarity column 22347 (100.0%), 2757.89 column/sec. Elapsed time 8.10 sec\n",
      "EvaluatorHoldout: Processed 10456 (100.0%) in 7.49 sec. Users per second: 1397\n"
     ]
    },
    {
     "name": "stderr",
     "output_type": "stream",
     "text": [
      "[I 2023-12-24 15:54:10,499] Trial 47 finished with value: 0.040605458550418944 and parameters: {'hybrid_lambda': 0.014857900606149867, 'topK': 51}. Best is trial 44 with value: 0.04141416487533607.\n"
     ]
    },
    {
     "name": "stdout",
     "output_type": "stream",
     "text": [
      "HHPRecommender: URM Detected 627 ( 4.8%) users with no interactions.\n",
      "HHPRecommender: URM Detected 247 ( 1.1%) items with no interactions.\n",
      "HHPRecommender: Similarity column 22347 (100.0%), 2273.83 column/sec. Elapsed time 9.83 sec\n",
      "EvaluatorHoldout: Processed 10456 (100.0%) in 8.21 sec. Users per second: 1274\n"
     ]
    },
    {
     "name": "stderr",
     "output_type": "stream",
     "text": [
      "[I 2023-12-24 15:54:30,728] Trial 48 finished with value: 0.04126829662622566 and parameters: {'hybrid_lambda': 0.087737510423091, 'topK': 117}. Best is trial 44 with value: 0.04141416487533607.\n"
     ]
    },
    {
     "name": "stdout",
     "output_type": "stream",
     "text": [
      "HHPRecommender: URM Detected 627 ( 4.8%) users with no interactions.\n",
      "HHPRecommender: URM Detected 247 ( 1.1%) items with no interactions.\n",
      "HHPRecommender: Similarity column 22347 (100.0%), 2655.66 column/sec. Elapsed time 8.41 sec\n",
      "EvaluatorHoldout: Processed 10456 (100.0%) in 7.60 sec. Users per second: 1376\n"
     ]
    },
    {
     "name": "stderr",
     "output_type": "stream",
     "text": [
      "[I 2023-12-24 15:54:48,161] Trial 49 finished with value: 0.04111921005331539 and parameters: {'hybrid_lambda': 0.203676613730381, 'topK': 65}. Best is trial 44 with value: 0.04141416487533607.\n"
     ]
    },
    {
     "name": "stdout",
     "output_type": "stream",
     "text": [
      "HHPRecommender: URM Detected 627 ( 4.8%) users with no interactions.\n",
      "HHPRecommender: URM Detected 247 ( 1.1%) items with no interactions.\n",
      "HHPRecommender: Similarity column 22347 (100.0%), 1764.54 column/sec. Elapsed time 12.66 sec\n",
      "EvaluatorHoldout: Processed 10456 (100.0%) in 8.50 sec. Users per second: 1231\n"
     ]
    },
    {
     "name": "stderr",
     "output_type": "stream",
     "text": [
      "[I 2023-12-24 15:55:13,240] Trial 50 finished with value: 0.0409222926610079 and parameters: {'hybrid_lambda': 0.13096705551430043, 'topK': 229}. Best is trial 44 with value: 0.04141416487533607.\n"
     ]
    },
    {
     "name": "stdout",
     "output_type": "stream",
     "text": [
      "HHPRecommender: URM Detected 627 ( 4.8%) users with no interactions.\n",
      "HHPRecommender: URM Detected 247 ( 1.1%) items with no interactions.\n",
      "HHPRecommender: Similarity column 22347 (100.0%), 2118.11 column/sec. Elapsed time 10.55 sec\n",
      "EvaluatorHoldout: Processed 10456 (100.0%) in 8.10 sec. Users per second: 1291\n"
     ]
    },
    {
     "name": "stderr",
     "output_type": "stream",
     "text": [
      "[I 2023-12-24 15:55:34,420] Trial 51 finished with value: 0.04136479700270876 and parameters: {'hybrid_lambda': 0.05914074644246667, 'topK': 140}. Best is trial 44 with value: 0.04141416487533607.\n"
     ]
    },
    {
     "name": "stdout",
     "output_type": "stream",
     "text": [
      "HHPRecommender: URM Detected 627 ( 4.8%) users with no interactions.\n",
      "HHPRecommender: URM Detected 247 ( 1.1%) items with no interactions.\n",
      "HHPRecommender: Similarity column 22347 (100.0%), 2215.97 column/sec. Elapsed time 10.08 sec\n",
      "EvaluatorHoldout: Processed 10456 (100.0%) in 8.00 sec. Users per second: 1307\n"
     ]
    },
    {
     "name": "stderr",
     "output_type": "stream",
     "text": [
      "[I 2023-12-24 15:55:54,857] Trial 52 finished with value: 0.04139033865267661 and parameters: {'hybrid_lambda': 0.04527628985104436, 'topK': 128}. Best is trial 44 with value: 0.04141416487533607.\n"
     ]
    },
    {
     "name": "stdout",
     "output_type": "stream",
     "text": [
      "HHPRecommender: URM Detected 627 ( 4.8%) users with no interactions.\n",
      "HHPRecommender: URM Detected 247 ( 1.1%) items with no interactions.\n",
      "HHPRecommender: Similarity column 22347 (100.0%), 2411.46 column/sec. Elapsed time 9.27 sec\n",
      "EvaluatorHoldout: Processed 10456 (100.0%) in 8.06 sec. Users per second: 1297\n"
     ]
    },
    {
     "name": "stderr",
     "output_type": "stream",
     "text": [
      "[I 2023-12-24 15:56:13,964] Trial 53 finished with value: 0.041265188363027505 and parameters: {'hybrid_lambda': 0.04454805808737665, 'topK': 91}. Best is trial 44 with value: 0.04141416487533607.\n"
     ]
    },
    {
     "name": "stdout",
     "output_type": "stream",
     "text": [
      "HHPRecommender: URM Detected 627 ( 4.8%) users with no interactions.\n",
      "HHPRecommender: URM Detected 247 ( 1.1%) items with no interactions.\n",
      "HHPRecommender: Similarity column 22347 (100.0%), 1967.59 column/sec. Elapsed time 11.36 sec\n",
      "EvaluatorHoldout: Processed 10456 (100.0%) in 8.45 sec. Users per second: 1237\n"
     ]
    },
    {
     "name": "stderr",
     "output_type": "stream",
     "text": [
      "[I 2023-12-24 15:56:36,820] Trial 54 finished with value: 0.04114960196014184 and parameters: {'hybrid_lambda': 0.09274894198061139, 'topK': 172}. Best is trial 44 with value: 0.04141416487533607.\n"
     ]
    },
    {
     "name": "stdout",
     "output_type": "stream",
     "text": [
      "HHPRecommender: URM Detected 627 ( 4.8%) users with no interactions.\n",
      "HHPRecommender: URM Detected 247 ( 1.1%) items with no interactions.\n",
      "HHPRecommender: Similarity column 22347 (100.0%), 2309.36 column/sec. Elapsed time 9.68 sec\n",
      "EvaluatorHoldout: Processed 10456 (100.0%) in 7.88 sec. Users per second: 1327\n"
     ]
    },
    {
     "name": "stderr",
     "output_type": "stream",
     "text": [
      "[I 2023-12-24 15:56:56,454] Trial 55 finished with value: 0.041321315474673034 and parameters: {'hybrid_lambda': 0.17150294657654924, 'topK': 110}. Best is trial 44 with value: 0.04141416487533607.\n"
     ]
    },
    {
     "name": "stdout",
     "output_type": "stream",
     "text": [
      "HHPRecommender: URM Detected 627 ( 4.8%) users with no interactions.\n",
      "HHPRecommender: URM Detected 247 ( 1.1%) items with no interactions.\n",
      "HHPRecommender: Similarity column 22347 (100.0%), 1528.47 column/sec. Elapsed time 14.62 sec\n",
      "EvaluatorHoldout: Processed 10456 (100.0%) in 8.29 sec. Users per second: 1261\n"
     ]
    },
    {
     "name": "stderr",
     "output_type": "stream",
     "text": [
      "[I 2023-12-24 15:57:24,604] Trial 56 finished with value: 0.04048948883302415 and parameters: {'hybrid_lambda': 0.011941532259904263, 'topK': 308}. Best is trial 44 with value: 0.04141416487533607.\n"
     ]
    },
    {
     "name": "stdout",
     "output_type": "stream",
     "text": [
      "HHPRecommender: URM Detected 627 ( 4.8%) users with no interactions.\n",
      "HHPRecommender: URM Detected 247 ( 1.1%) items with no interactions.\n",
      "HHPRecommender: Similarity column 22347 (100.0%), 2478.13 column/sec. Elapsed time 9.02 sec\n",
      "EvaluatorHoldout: Processed 10456 (100.0%) in 7.82 sec. Users per second: 1336\n"
     ]
    },
    {
     "name": "stderr",
     "output_type": "stream",
     "text": [
      "[I 2023-12-24 15:57:43,072] Trial 57 finished with value: 0.04122725540739176 and parameters: {'hybrid_lambda': 0.1327965948642185, 'topK': 82}. Best is trial 44 with value: 0.04141416487533607.\n"
     ]
    },
    {
     "name": "stdout",
     "output_type": "stream",
     "text": [
      "HHPRecommender: URM Detected 627 ( 4.8%) users with no interactions.\n",
      "HHPRecommender: URM Detected 247 ( 1.1%) items with no interactions.\n",
      "HHPRecommender: Similarity column 22347 (100.0%), 1888.47 column/sec. Elapsed time 11.83 sec\n",
      "EvaluatorHoldout: Processed 10456 (100.0%) in 7.83 sec. Users per second: 1336\n"
     ]
    },
    {
     "name": "stderr",
     "output_type": "stream",
     "text": [
      "[I 2023-12-24 15:58:06,121] Trial 58 finished with value: 0.04109485250361358 and parameters: {'hybrid_lambda': 0.09054945944383416, 'topK': 195}. Best is trial 44 with value: 0.04141416487533607.\n"
     ]
    },
    {
     "name": "stdout",
     "output_type": "stream",
     "text": [
      "HHPRecommender: URM Detected 627 ( 4.8%) users with no interactions.\n",
      "HHPRecommender: URM Detected 247 ( 1.1%) items with no interactions.\n",
      "HHPRecommender: Similarity column 22347 (100.0%), 2682.47 column/sec. Elapsed time 8.33 sec\n",
      "EvaluatorHoldout: Processed 10456 (100.0%) in 7.66 sec. Users per second: 1366\n"
     ]
    },
    {
     "name": "stderr",
     "output_type": "stream",
     "text": [
      "[I 2023-12-24 15:58:23,422] Trial 59 finished with value: 0.04096540226011404 and parameters: {'hybrid_lambda': 0.0388503521671742, 'topK': 60}. Best is trial 44 with value: 0.04141416487533607.\n"
     ]
    },
    {
     "name": "stdout",
     "output_type": "stream",
     "text": [
      "HHPRecommender: URM Detected 627 ( 4.8%) users with no interactions.\n",
      "HHPRecommender: URM Detected 247 ( 1.1%) items with no interactions.\n",
      "HHPRecommender: Similarity column 22347 (100.0%), 2094.00 column/sec. Elapsed time 10.67 sec\n",
      "EvaluatorHoldout: Processed 10456 (100.0%) in 8.07 sec. Users per second: 1295\n"
     ]
    },
    {
     "name": "stderr",
     "output_type": "stream",
     "text": [
      "[I 2023-12-24 15:58:44,875] Trial 60 finished with value: 0.04125875551062098 and parameters: {'hybrid_lambda': 0.23304405900842304, 'topK': 147}. Best is trial 44 with value: 0.04141416487533607.\n"
     ]
    },
    {
     "name": "stdout",
     "output_type": "stream",
     "text": [
      "HHPRecommender: URM Detected 627 ( 4.8%) users with no interactions.\n",
      "HHPRecommender: URM Detected 247 ( 1.1%) items with no interactions.\n",
      "HHPRecommender: Similarity column 22347 (100.0%), 2129.81 column/sec. Elapsed time 10.49 sec\n",
      "EvaluatorHoldout: Processed 10456 (100.0%) in 8.08 sec. Users per second: 1295\n"
     ]
    },
    {
     "name": "stderr",
     "output_type": "stream",
     "text": [
      "[I 2023-12-24 15:59:05,944] Trial 61 finished with value: 0.04135786697999834 and parameters: {'hybrid_lambda': 0.06027338057347558, 'topK': 138}. Best is trial 44 with value: 0.04141416487533607.\n"
     ]
    },
    {
     "name": "stdout",
     "output_type": "stream",
     "text": [
      "HHPRecommender: URM Detected 627 ( 4.8%) users with no interactions.\n",
      "HHPRecommender: URM Detected 247 ( 1.1%) items with no interactions.\n",
      "HHPRecommender: Similarity column 22347 (100.0%), 2293.43 column/sec. Elapsed time 9.74 sec\n",
      "EvaluatorHoldout: Processed 10456 (100.0%) in 7.92 sec. Users per second: 1320\n"
     ]
    },
    {
     "name": "stderr",
     "output_type": "stream",
     "text": [
      "[I 2023-12-24 15:59:25,763] Trial 62 finished with value: 0.041288915910664775 and parameters: {'hybrid_lambda': 0.04128183160897583, 'topK': 114}. Best is trial 44 with value: 0.04141416487533607.\n"
     ]
    },
    {
     "name": "stdout",
     "output_type": "stream",
     "text": [
      "HHPRecommender: URM Detected 627 ( 4.8%) users with no interactions.\n",
      "HHPRecommender: URM Detected 247 ( 1.1%) items with no interactions.\n",
      "HHPRecommender: Similarity column 22347 (100.0%), 2480.04 column/sec. Elapsed time 9.01 sec\n",
      "EvaluatorHoldout: Processed 10456 (100.0%) in 7.89 sec. Users per second: 1326\n"
     ]
    },
    {
     "name": "stderr",
     "output_type": "stream",
     "text": [
      "[I 2023-12-24 15:59:44,311] Trial 63 finished with value: 0.04122725540739176 and parameters: {'hybrid_lambda': 0.10952939191125377, 'topK': 82}. Best is trial 44 with value: 0.04141416487533607.\n"
     ]
    },
    {
     "name": "stdout",
     "output_type": "stream",
     "text": [
      "HHPRecommender: URM Detected 627 ( 4.8%) users with no interactions.\n",
      "HHPRecommender: URM Detected 247 ( 1.1%) items with no interactions.\n",
      "HHPRecommender: Similarity column 22347 (100.0%), 2187.97 column/sec. Elapsed time 10.21 sec\n",
      "EvaluatorHoldout: Processed 10456 (100.0%) in 8.06 sec. Users per second: 1298\n"
     ]
    },
    {
     "name": "stderr",
     "output_type": "stream",
     "text": [
      "[I 2023-12-24 16:00:04,948] Trial 64 finished with value: 0.04141416487533607 and parameters: {'hybrid_lambda': 0.13229341447981977, 'topK': 130}. Best is trial 44 with value: 0.04141416487533607.\n"
     ]
    },
    {
     "name": "stdout",
     "output_type": "stream",
     "text": [
      "HHPRecommender: URM Detected 627 ( 4.8%) users with no interactions.\n",
      "HHPRecommender: URM Detected 247 ( 1.1%) items with no interactions.\n",
      "HHPRecommender: Similarity column 22347 (100.0%), 2327.54 column/sec. Elapsed time 9.60 sec\n",
      "EvaluatorHoldout: Processed 10456 (100.0%) in 7.94 sec. Users per second: 1318\n"
     ]
    },
    {
     "name": "stderr",
     "output_type": "stream",
     "text": [
      "[I 2023-12-24 16:00:24,497] Trial 65 finished with value: 0.04132142933046776 and parameters: {'hybrid_lambda': 0.18123110994469502, 'topK': 106}. Best is trial 44 with value: 0.04141416487533607.\n"
     ]
    },
    {
     "name": "stdout",
     "output_type": "stream",
     "text": [
      "HHPRecommender: URM Detected 627 ( 4.8%) users with no interactions.\n",
      "HHPRecommender: URM Detected 247 ( 1.1%) items with no interactions.\n",
      "HHPRecommender: Similarity column 22347 (100.0%), 2027.89 column/sec. Elapsed time 11.02 sec\n",
      "EvaluatorHoldout: Processed 10456 (100.0%) in 8.29 sec. Users per second: 1261\n"
     ]
    },
    {
     "name": "stderr",
     "output_type": "stream",
     "text": [
      "[I 2023-12-24 16:00:46,706] Trial 66 finished with value: 0.04113862626152272 and parameters: {'hybrid_lambda': 0.1451153155979102, 'topK': 164}. Best is trial 44 with value: 0.04141416487533607.\n"
     ]
    },
    {
     "name": "stdout",
     "output_type": "stream",
     "text": [
      "HHPRecommender: URM Detected 627 ( 4.8%) users with no interactions.\n",
      "HHPRecommender: URM Detected 247 ( 1.1%) items with no interactions.\n",
      "HHPRecommender: Similarity column 22347 (100.0%), 1713.58 column/sec. Elapsed time 13.04 sec\n",
      "EvaluatorHoldout: Processed 10456 (100.0%) in 8.13 sec. Users per second: 1286\n"
     ]
    },
    {
     "name": "stderr",
     "output_type": "stream",
     "text": [
      "[I 2023-12-24 16:01:12,041] Trial 67 finished with value: 0.040777126522632094 and parameters: {'hybrid_lambda': 0.08115539811549229, 'topK': 246}. Best is trial 44 with value: 0.04141416487533607.\n"
     ]
    },
    {
     "name": "stdout",
     "output_type": "stream",
     "text": [
      "HHPRecommender: URM Detected 627 ( 4.8%) users with no interactions.\n",
      "HHPRecommender: URM Detected 247 ( 1.1%) items with no interactions.\n",
      "HHPRecommender: Similarity column 22347 (100.0%), 2341.08 column/sec. Elapsed time 9.55 sec\n",
      "EvaluatorHoldout: Processed 10456 (100.0%) in 7.90 sec. Users per second: 1323\n"
     ]
    },
    {
     "name": "stderr",
     "output_type": "stream",
     "text": [
      "[I 2023-12-24 16:01:31,382] Trial 68 finished with value: 0.041349585868523005 and parameters: {'hybrid_lambda': 0.14536261967168676, 'topK': 98}. Best is trial 44 with value: 0.04141416487533607.\n"
     ]
    },
    {
     "name": "stdout",
     "output_type": "stream",
     "text": [
      "HHPRecommender: URM Detected 627 ( 4.8%) users with no interactions.\n",
      "HHPRecommender: URM Detected 247 ( 1.1%) items with no interactions.\n",
      "HHPRecommender: Similarity column 22347 (100.0%), 2487.52 column/sec. Elapsed time 8.98 sec\n",
      "EvaluatorHoldout: Processed 10456 (100.0%) in 7.77 sec. Users per second: 1346\n"
     ]
    },
    {
     "name": "stderr",
     "output_type": "stream",
     "text": [
      "[I 2023-12-24 16:01:49,741] Trial 69 finished with value: 0.04135194647866847 and parameters: {'hybrid_lambda': 0.1075135961763489, 'topK': 78}. Best is trial 44 with value: 0.04141416487533607.\n"
     ]
    },
    {
     "name": "stdout",
     "output_type": "stream",
     "text": [
      "HHPRecommender: URM Detected 627 ( 4.8%) users with no interactions.\n",
      "HHPRecommender: URM Detected 247 ( 1.1%) items with no interactions.\n",
      "HHPRecommender: Similarity column 22347 (100.0%), 1904.96 column/sec. Elapsed time 11.73 sec\n",
      "EvaluatorHoldout: Processed 10456 (100.0%) in 7.89 sec. Users per second: 1326\n"
     ]
    },
    {
     "name": "stderr",
     "output_type": "stream",
     "text": [
      "[I 2023-12-24 16:02:12,625] Trial 70 finished with value: 0.041230686262008515 and parameters: {'hybrid_lambda': 0.1810278531908347, 'topK': 188}. Best is trial 44 with value: 0.04141416487533607.\n"
     ]
    },
    {
     "name": "stdout",
     "output_type": "stream",
     "text": [
      "HHPRecommender: URM Detected 627 ( 4.8%) users with no interactions.\n",
      "HHPRecommender: URM Detected 247 ( 1.1%) items with no interactions.\n",
      "HHPRecommender: Similarity column 22347 (100.0%), 2217.24 column/sec. Elapsed time 10.08 sec\n",
      "EvaluatorHoldout: Processed 10456 (100.0%) in 8.03 sec. Users per second: 1302\n"
     ]
    },
    {
     "name": "stderr",
     "output_type": "stream",
     "text": [
      "[I 2023-12-24 16:02:33,059] Trial 71 finished with value: 0.04140776238447491 and parameters: {'hybrid_lambda': 0.030993014182191653, 'topK': 126}. Best is trial 44 with value: 0.04141416487533607.\n"
     ]
    },
    {
     "name": "stdout",
     "output_type": "stream",
     "text": [
      "HHPRecommender: URM Detected 627 ( 4.8%) users with no interactions.\n",
      "HHPRecommender: URM Detected 247 ( 1.1%) items with no interactions.\n",
      "HHPRecommender: Similarity column 22347 (100.0%), 2201.51 column/sec. Elapsed time 10.15 sec\n",
      "EvaluatorHoldout: Processed 10456 (100.0%) in 8.10 sec. Users per second: 1291\n"
     ]
    },
    {
     "name": "stderr",
     "output_type": "stream",
     "text": [
      "[I 2023-12-24 16:02:53,708] Trial 72 finished with value: 0.04141416487533607 and parameters: {'hybrid_lambda': 0.023156964136260977, 'topK': 130}. Best is trial 44 with value: 0.04141416487533607.\n"
     ]
    },
    {
     "name": "stdout",
     "output_type": "stream",
     "text": [
      "HHPRecommender: URM Detected 627 ( 4.8%) users with no interactions.\n",
      "HHPRecommender: URM Detected 247 ( 1.1%) items with no interactions.\n",
      "HHPRecommender: Similarity column 22347 (100.0%), 2267.26 column/sec. Elapsed time 9.86 sec\n",
      "EvaluatorHoldout: Processed 10456 (100.0%) in 8.00 sec. Users per second: 1308\n"
     ]
    },
    {
     "name": "stderr",
     "output_type": "stream",
     "text": [
      "[I 2023-12-24 16:03:13,841] Trial 73 finished with value: 0.04138159452763567 and parameters: {'hybrid_lambda': 0.028484411067979706, 'topK': 122}. Best is trial 44 with value: 0.04141416487533607.\n"
     ]
    },
    {
     "name": "stdout",
     "output_type": "stream",
     "text": [
      "HHPRecommender: URM Detected 627 ( 4.8%) users with no interactions.\n",
      "HHPRecommender: URM Detected 247 ( 1.1%) items with no interactions.\n",
      "HHPRecommender: Similarity column 22347 (100.0%), 2329.56 column/sec. Elapsed time 9.59 sec\n",
      "EvaluatorHoldout: Processed 10456 (100.0%) in 7.90 sec. Users per second: 1323\n"
     ]
    },
    {
     "name": "stderr",
     "output_type": "stream",
     "text": [
      "[I 2023-12-24 16:03:33,329] Trial 74 finished with value: 0.04137480113187899 and parameters: {'hybrid_lambda': 0.03164957730960425, 'topK': 101}. Best is trial 44 with value: 0.04141416487533607.\n"
     ]
    },
    {
     "name": "stdout",
     "output_type": "stream",
     "text": [
      "HHPRecommender: URM Detected 627 ( 4.8%) users with no interactions.\n",
      "HHPRecommender: URM Detected 247 ( 1.1%) items with no interactions.\n",
      "HHPRecommender: Similarity column 22347 (100.0%), 1980.08 column/sec. Elapsed time 11.29 sec\n",
      "EvaluatorHoldout: Processed 10456 (100.0%) in 8.85 sec. Users per second: 1181\n"
     ]
    },
    {
     "name": "stderr",
     "output_type": "stream",
     "text": [
      "[I 2023-12-24 16:03:56,458] Trial 75 finished with value: 0.0410974370301556 and parameters: {'hybrid_lambda': 0.07352555651824916, 'topK': 162}. Best is trial 44 with value: 0.04141416487533607.\n"
     ]
    },
    {
     "name": "stdout",
     "output_type": "stream",
     "text": [
      "HHPRecommender: URM Detected 627 ( 4.8%) users with no interactions.\n",
      "HHPRecommender: URM Detected 247 ( 1.1%) items with no interactions.\n",
      "HHPRecommender: Similarity column 22347 (100.0%), 1784.63 column/sec. Elapsed time 12.52 sec\n",
      "EvaluatorHoldout: Processed 10456 (100.0%) in 7.46 sec. Users per second: 1403\n"
     ]
    },
    {
     "name": "stderr",
     "output_type": "stream",
     "text": [
      "[I 2023-12-24 16:04:20,101] Trial 76 finished with value: 0.04087937661675286 and parameters: {'hybrid_lambda': 0.03350202034244471, 'topK': 210}. Best is trial 44 with value: 0.04141416487533607.\n"
     ]
    },
    {
     "name": "stdout",
     "output_type": "stream",
     "text": [
      "HHPRecommender: URM Detected 627 ( 4.8%) users with no interactions.\n",
      "HHPRecommender: URM Detected 247 ( 1.1%) items with no interactions.\n",
      "HHPRecommender: Similarity column 22347 (100.0%), 2529.16 column/sec. Elapsed time 8.84 sec\n",
      "EvaluatorHoldout: Processed 10456 (100.0%) in 7.73 sec. Users per second: 1353\n"
     ]
    },
    {
     "name": "stderr",
     "output_type": "stream",
     "text": [
      "[I 2023-12-24 16:04:38,240] Trial 77 finished with value: 0.041249165057505296 and parameters: {'hybrid_lambda': 0.1140773110253444, 'topK': 75}. Best is trial 44 with value: 0.04141416487533607.\n"
     ]
    },
    {
     "name": "stdout",
     "output_type": "stream",
     "text": [
      "HHPRecommender: URM Detected 627 ( 4.8%) users with no interactions.\n",
      "HHPRecommender: URM Detected 247 ( 1.1%) items with no interactions.\n",
      "HHPRecommender: Similarity column 22347 (100.0%), 2141.79 column/sec. Elapsed time 10.43 sec\n",
      "EvaluatorHoldout: Processed 10456 (100.0%) in 8.09 sec. Users per second: 1293\n"
     ]
    },
    {
     "name": "stderr",
     "output_type": "stream",
     "text": [
      "[I 2023-12-24 16:04:59,185] Trial 78 finished with value: 0.04141416487533607 and parameters: {'hybrid_lambda': 0.06948398870953107, 'topK': 130}. Best is trial 44 with value: 0.04141416487533607.\n"
     ]
    },
    {
     "name": "stdout",
     "output_type": "stream",
     "text": [
      "HHPRecommender: URM Detected 627 ( 4.8%) users with no interactions.\n",
      "HHPRecommender: URM Detected 247 ( 1.1%) items with no interactions.\n",
      "HHPRecommender: Similarity column 22347 (100.0%), 2228.77 column/sec. Elapsed time 10.03 sec\n",
      "EvaluatorHoldout: Processed 10456 (100.0%) in 7.98 sec. Users per second: 1310\n"
     ]
    },
    {
     "name": "stderr",
     "output_type": "stream",
     "text": [
      "[I 2023-12-24 16:05:19,519] Trial 79 finished with value: 0.04136559778846562 and parameters: {'hybrid_lambda': 0.1469072816156754, 'topK': 123}. Best is trial 44 with value: 0.04141416487533607.\n"
     ]
    },
    {
     "name": "stdout",
     "output_type": "stream",
     "text": [
      "HHPRecommender: URM Detected 627 ( 4.8%) users with no interactions.\n",
      "HHPRecommender: URM Detected 247 ( 1.1%) items with no interactions.\n",
      "HHPRecommender: Similarity column 22347 (100.0%), 2638.15 column/sec. Elapsed time 8.47 sec\n",
      "EvaluatorHoldout: Processed 10456 (100.0%) in 7.58 sec. Users per second: 1379\n"
     ]
    },
    {
     "name": "stderr",
     "output_type": "stream",
     "text": [
      "[I 2023-12-24 16:05:36,870] Trial 80 finished with value: 0.040831705195468235 and parameters: {'hybrid_lambda': 0.0705273097838608, 'topK': 56}. Best is trial 44 with value: 0.04141416487533607.\n"
     ]
    },
    {
     "name": "stdout",
     "output_type": "stream",
     "text": [
      "HHPRecommender: URM Detected 627 ( 4.8%) users with no interactions.\n",
      "HHPRecommender: URM Detected 247 ( 1.1%) items with no interactions.\n",
      "HHPRecommender: Similarity column 22347 (100.0%), 2043.13 column/sec. Elapsed time 10.94 sec\n",
      "EvaluatorHoldout: Processed 10456 (100.0%) in 8.19 sec. Users per second: 1277\n"
     ]
    },
    {
     "name": "stderr",
     "output_type": "stream",
     "text": [
      "[I 2023-12-24 16:05:58,828] Trial 81 finished with value: 0.041186942865644637 and parameters: {'hybrid_lambda': 0.012476838618519595, 'topK': 157}. Best is trial 44 with value: 0.04141416487533607.\n"
     ]
    },
    {
     "name": "stdout",
     "output_type": "stream",
     "text": [
      "HHPRecommender: URM Detected 627 ( 4.8%) users with no interactions.\n",
      "HHPRecommender: URM Detected 247 ( 1.1%) items with no interactions.\n",
      "HHPRecommender: Similarity column 22347 (100.0%), 2161.84 column/sec. Elapsed time 10.34 sec\n",
      "EvaluatorHoldout: Processed 10456 (100.0%) in 8.07 sec. Users per second: 1295\n"
     ]
    },
    {
     "name": "stderr",
     "output_type": "stream",
     "text": [
      "[I 2023-12-24 16:06:19,712] Trial 82 finished with value: 0.0413993104893072 and parameters: {'hybrid_lambda': 0.09082609279377774, 'topK': 132}. Best is trial 44 with value: 0.04141416487533607.\n"
     ]
    },
    {
     "name": "stdout",
     "output_type": "stream",
     "text": [
      "HHPRecommender: URM Detected 627 ( 4.8%) users with no interactions.\n",
      "HHPRecommender: URM Detected 247 ( 1.1%) items with no interactions.\n",
      "HHPRecommender: Similarity column 22347 (100.0%), 2366.18 column/sec. Elapsed time 9.44 sec\n",
      "EvaluatorHoldout: Processed 10456 (100.0%) in 7.89 sec. Users per second: 1325\n"
     ]
    },
    {
     "name": "stderr",
     "output_type": "stream",
     "text": [
      "[I 2023-12-24 16:06:38,894] Trial 83 finished with value: 0.04124408329386393 and parameters: {'hybrid_lambda': 0.09344972650787882, 'topK': 93}. Best is trial 44 with value: 0.04141416487533607.\n"
     ]
    },
    {
     "name": "stdout",
     "output_type": "stream",
     "text": [
      "HHPRecommender: URM Detected 627 ( 4.8%) users with no interactions.\n",
      "HHPRecommender: URM Detected 247 ( 1.1%) items with no interactions.\n",
      "HHPRecommender: Similarity column 22347 (100.0%), 1893.21 column/sec. Elapsed time 11.80 sec\n",
      "EvaluatorHoldout: Processed 10456 (100.0%) in 7.92 sec. Users per second: 1321\n"
     ]
    },
    {
     "name": "stderr",
     "output_type": "stream",
     "text": [
      "[I 2023-12-24 16:07:02,022] Trial 84 finished with value: 0.04116197428984401 and parameters: {'hybrid_lambda': 0.12663470696559534, 'topK': 191}. Best is trial 44 with value: 0.04141416487533607.\n"
     ]
    },
    {
     "name": "stdout",
     "output_type": "stream",
     "text": [
      "HHPRecommender: URM Detected 627 ( 4.8%) users with no interactions.\n",
      "HHPRecommender: URM Detected 247 ( 1.1%) items with no interactions.\n",
      "HHPRecommender: Similarity column 22347 (100.0%), 2186.07 column/sec. Elapsed time 10.22 sec\n",
      "EvaluatorHoldout: Processed 10456 (100.0%) in 8.10 sec. Users per second: 1291\n"
     ]
    },
    {
     "name": "stderr",
     "output_type": "stream",
     "text": [
      "[I 2023-12-24 16:07:22,706] Trial 85 finished with value: 0.04141416487533607 and parameters: {'hybrid_lambda': 0.06895587602331665, 'topK': 130}. Best is trial 44 with value: 0.04141416487533607.\n"
     ]
    },
    {
     "name": "stdout",
     "output_type": "stream",
     "text": [
      "HHPRecommender: URM Detected 627 ( 4.8%) users with no interactions.\n",
      "HHPRecommender: URM Detected 247 ( 1.1%) items with no interactions.\n",
      "HHPRecommender: Similarity column 22347 (100.0%), 2271.95 column/sec. Elapsed time 9.84 sec\n",
      "EvaluatorHoldout: Processed 10456 (100.0%) in 8.00 sec. Users per second: 1307\n"
     ]
    },
    {
     "name": "stderr",
     "output_type": "stream",
     "text": [
      "[I 2023-12-24 16:07:42,607] Trial 86 finished with value: 0.041325266270752684 and parameters: {'hybrid_lambda': 0.1582500020815481, 'topK': 109}. Best is trial 44 with value: 0.04141416487533607.\n"
     ]
    },
    {
     "name": "stdout",
     "output_type": "stream",
     "text": [
      "HHPRecommender: URM Detected 627 ( 4.8%) users with no interactions.\n",
      "HHPRecommender: URM Detected 247 ( 1.1%) items with no interactions.\n",
      "HHPRecommender: Similarity column 22347 (100.0%), 2546.15 column/sec. Elapsed time 8.78 sec\n",
      "EvaluatorHoldout: Processed 10456 (100.0%) in 7.77 sec. Users per second: 1346\n"
     ]
    },
    {
     "name": "stderr",
     "output_type": "stream",
     "text": [
      "[I 2023-12-24 16:08:00,616] Trial 87 finished with value: 0.04108409313100454 and parameters: {'hybrid_lambda': 0.06399057186892056, 'topK': 69}. Best is trial 44 with value: 0.04141416487533607.\n"
     ]
    },
    {
     "name": "stdout",
     "output_type": "stream",
     "text": [
      "HHPRecommender: URM Detected 627 ( 4.8%) users with no interactions.\n",
      "HHPRecommender: URM Detected 247 ( 1.1%) items with no interactions.\n",
      "HHPRecommender: Similarity column 22347 (100.0%), 1623.20 column/sec. Elapsed time 13.77 sec\n",
      "EvaluatorHoldout: Processed 10456 (100.0%) in 8.19 sec. Users per second: 1276\n"
     ]
    },
    {
     "name": "stderr",
     "output_type": "stream",
     "text": [
      "[I 2023-12-24 16:08:27,267] Trial 88 finished with value: 0.04064550163345164 and parameters: {'hybrid_lambda': 0.1020319258113533, 'topK': 277}. Best is trial 44 with value: 0.04141416487533607.\n"
     ]
    },
    {
     "name": "stdout",
     "output_type": "stream",
     "text": [
      "HHPRecommender: URM Detected 627 ( 4.8%) users with no interactions.\n",
      "HHPRecommender: URM Detected 247 ( 1.1%) items with no interactions.\n",
      "HHPRecommender: Similarity column 22347 (100.0%), 2467.57 column/sec. Elapsed time 9.06 sec\n",
      "EvaluatorHoldout: Processed 10456 (100.0%) in 7.76 sec. Users per second: 1347\n"
     ]
    },
    {
     "name": "stderr",
     "output_type": "stream",
     "text": [
      "[I 2023-12-24 16:08:45,764] Trial 89 finished with value: 0.04128210353894228 and parameters: {'hybrid_lambda': 0.07600107808263946, 'topK': 84}. Best is trial 44 with value: 0.04141416487533607.\n"
     ]
    },
    {
     "name": "stdout",
     "output_type": "stream",
     "text": [
      "HHPRecommender: URM Detected 627 ( 4.8%) users with no interactions.\n",
      "HHPRecommender: URM Detected 247 ( 1.1%) items with no interactions.\n",
      "HHPRecommender: Similarity column 22347 (100.0%), 2172.97 column/sec. Elapsed time 10.28 sec\n",
      "EvaluatorHoldout: Processed 10456 (100.0%) in 8.13 sec. Users per second: 1285\n"
     ]
    },
    {
     "name": "stderr",
     "output_type": "stream",
     "text": [
      "[I 2023-12-24 16:09:06,617] Trial 90 finished with value: 0.04140647201880041 and parameters: {'hybrid_lambda': 0.129628879279441, 'topK': 131}. Best is trial 44 with value: 0.04141416487533607.\n"
     ]
    },
    {
     "name": "stdout",
     "output_type": "stream",
     "text": [
      "HHPRecommender: URM Detected 627 ( 4.8%) users with no interactions.\n",
      "HHPRecommender: URM Detected 247 ( 1.1%) items with no interactions.\n",
      "HHPRecommender: Similarity column 22347 (100.0%), 2053.69 column/sec. Elapsed time 10.88 sec\n",
      "EvaluatorHoldout: Processed 10456 (100.0%) in 8.10 sec. Users per second: 1291\n"
     ]
    },
    {
     "name": "stderr",
     "output_type": "stream",
     "text": [
      "[I 2023-12-24 16:09:28,386] Trial 91 finished with value: 0.04123102782939294 and parameters: {'hybrid_lambda': 0.12207627792921233, 'topK': 154}. Best is trial 44 with value: 0.04141416487533607.\n"
     ]
    },
    {
     "name": "stdout",
     "output_type": "stream",
     "text": [
      "HHPRecommender: URM Detected 627 ( 4.8%) users with no interactions.\n",
      "HHPRecommender: URM Detected 247 ( 1.1%) items with no interactions.\n",
      "HHPRecommender: Similarity column 22347 (100.0%), 2023.29 column/sec. Elapsed time 11.04 sec\n",
      "EvaluatorHoldout: Processed 10456 (100.0%) in 8.10 sec. Users per second: 1290\n"
     ]
    },
    {
     "name": "stderr",
     "output_type": "stream",
     "text": [
      "[I 2023-12-24 16:09:50,073] Trial 92 finished with value: 0.04134550224068257 and parameters: {'hybrid_lambda': 0.2036974993535588, 'topK': 139}. Best is trial 44 with value: 0.04141416487533607.\n"
     ]
    },
    {
     "name": "stdout",
     "output_type": "stream",
     "text": [
      "HHPRecommender: URM Detected 627 ( 4.8%) users with no interactions.\n",
      "HHPRecommender: URM Detected 247 ( 1.1%) items with no interactions.\n",
      "HHPRecommender: Similarity column 22347 (100.0%), 2295.07 column/sec. Elapsed time 9.74 sec\n",
      "EvaluatorHoldout: Processed 10456 (100.0%) in 7.98 sec. Users per second: 1310\n"
     ]
    },
    {
     "name": "stderr",
     "output_type": "stream",
     "text": [
      "[I 2023-12-24 16:10:09,739] Trial 93 finished with value: 0.0413750288434686 and parameters: {'hybrid_lambda': 0.08893419041406846, 'topK': 101}. Best is trial 44 with value: 0.04141416487533607.\n"
     ]
    },
    {
     "name": "stdout",
     "output_type": "stream",
     "text": [
      "HHPRecommender: URM Detected 627 ( 4.8%) users with no interactions.\n",
      "HHPRecommender: URM Detected 247 ( 1.1%) items with no interactions.\n",
      "HHPRecommender: Similarity column 22347 (100.0%), 2218.24 column/sec. Elapsed time 10.07 sec\n",
      "EvaluatorHoldout: Processed 10456 (100.0%) in 8.03 sec. Users per second: 1302\n"
     ]
    },
    {
     "name": "stderr",
     "output_type": "stream",
     "text": [
      "[I 2023-12-24 16:10:30,225] Trial 94 finished with value: 0.04136559778846562 and parameters: {'hybrid_lambda': 0.031241224912085433, 'topK': 123}. Best is trial 44 with value: 0.04141416487533607.\n"
     ]
    },
    {
     "name": "stdout",
     "output_type": "stream",
     "text": [
      "HHPRecommender: URM Detected 627 ( 4.8%) users with no interactions.\n",
      "HHPRecommender: URM Detected 247 ( 1.1%) items with no interactions.\n",
      "HHPRecommender: Similarity column 22347 (100.0%), 1935.73 column/sec. Elapsed time 11.54 sec\n",
      "EvaluatorHoldout: Processed 10456 (100.0%) in 8.33 sec. Users per second: 1256\n"
     ]
    },
    {
     "name": "stderr",
     "output_type": "stream",
     "text": [
      "[I 2023-12-24 16:10:53,210] Trial 95 finished with value: 0.04123162367471901 and parameters: {'hybrid_lambda': 0.05444401467322492, 'topK': 176}. Best is trial 44 with value: 0.04141416487533607.\n"
     ]
    },
    {
     "name": "stdout",
     "output_type": "stream",
     "text": [
      "HHPRecommender: URM Detected 627 ( 4.8%) users with no interactions.\n",
      "HHPRecommender: URM Detected 247 ( 1.1%) items with no interactions.\n",
      "HHPRecommender: Similarity column 22347 (100.0%), 2200.78 column/sec. Elapsed time 10.15 sec\n",
      "EvaluatorHoldout: Processed 10456 (100.0%) in 8.05 sec. Users per second: 1299\n"
     ]
    },
    {
     "name": "stderr",
     "output_type": "stream",
     "text": [
      "[I 2023-12-24 16:11:13,732] Trial 96 finished with value: 0.041391917453031266 and parameters: {'hybrid_lambda': 0.12968036033135408, 'topK': 125}. Best is trial 44 with value: 0.04141416487533607.\n"
     ]
    },
    {
     "name": "stdout",
     "output_type": "stream",
     "text": [
      "HHPRecommender: URM Detected 627 ( 4.8%) users with no interactions.\n",
      "HHPRecommender: URM Detected 247 ( 1.1%) items with no interactions.\n",
      "HHPRecommender: Similarity column 22347 (100.0%), 1744.78 column/sec. Elapsed time 12.81 sec\n",
      "EvaluatorHoldout: Processed 10456 (100.0%) in 8.61 sec. Users per second: 1215\n"
     ]
    },
    {
     "name": "stderr",
     "output_type": "stream",
     "text": [
      "[I 2023-12-24 16:11:39,104] Trial 97 finished with value: 0.0409222926610079 and parameters: {'hybrid_lambda': 0.1673661789012389, 'topK': 229}. Best is trial 44 with value: 0.04141416487533607.\n"
     ]
    },
    {
     "name": "stdout",
     "output_type": "stream",
     "text": [
      "HHPRecommender: URM Detected 627 ( 4.8%) users with no interactions.\n",
      "HHPRecommender: URM Detected 247 ( 1.1%) items with no interactions.\n",
      "HHPRecommender: Similarity column 22347 (100.0%), 2007.95 column/sec. Elapsed time 11.13 sec\n",
      "EvaluatorHoldout: Processed 10456 (100.0%) in 8.21 sec. Users per second: 1274\n"
     ]
    },
    {
     "name": "stderr",
     "output_type": "stream",
     "text": [
      "[I 2023-12-24 16:12:01,184] Trial 98 finished with value: 0.04119794513061587 and parameters: {'hybrid_lambda': 0.1324786809085408, 'topK': 152}. Best is trial 44 with value: 0.04141416487533607.\n"
     ]
    },
    {
     "name": "stdout",
     "output_type": "stream",
     "text": [
      "HHPRecommender: URM Detected 627 ( 4.8%) users with no interactions.\n",
      "HHPRecommender: URM Detected 247 ( 1.1%) items with no interactions.\n",
      "HHPRecommender: Similarity column 22347 (100.0%), 2294.80 column/sec. Elapsed time 9.74 sec\n",
      "EvaluatorHoldout: Processed 10456 (100.0%) in 8.04 sec. Users per second: 1301\n"
     ]
    },
    {
     "name": "stderr",
     "output_type": "stream",
     "text": [
      "[I 2023-12-24 16:12:20,992] Trial 99 finished with value: 0.04132142933046776 and parameters: {'hybrid_lambda': 0.0968876280667444, 'topK': 106}. Best is trial 44 with value: 0.04141416487533607.\n"
     ]
    },
    {
     "name": "stdout",
     "output_type": "stream",
     "text": [
      "HHPRecommender: URM Detected 627 ( 4.8%) users with no interactions.\n",
      "HHPRecommender: URM Detected 247 ( 1.1%) items with no interactions.\n",
      "HHPRecommender: Similarity column 22347 (100.0%), 2389.03 column/sec. Elapsed time 9.35 sec\n",
      "EvaluatorHoldout: Processed 10456 (100.0%) in 7.84 sec. Users per second: 1333\n"
     ]
    },
    {
     "name": "stderr",
     "output_type": "stream",
     "text": [
      "[I 2023-12-24 16:12:39,987] Trial 100 finished with value: 0.04133600666739593 and parameters: {'hybrid_lambda': 0.18821303041465426, 'topK': 89}. Best is trial 44 with value: 0.04141416487533607.\n"
     ]
    },
    {
     "name": "stdout",
     "output_type": "stream",
     "text": [
      "HHPRecommender: URM Detected 627 ( 4.8%) users with no interactions.\n",
      "HHPRecommender: URM Detected 247 ( 1.1%) items with no interactions.\n",
      "HHPRecommender: Similarity column 22347 (100.0%), 2131.72 column/sec. Elapsed time 10.48 sec\n",
      "EvaluatorHoldout: Processed 10456 (100.0%) in 8.14 sec. Users per second: 1284\n"
     ]
    },
    {
     "name": "stderr",
     "output_type": "stream",
     "text": [
      "[I 2023-12-24 16:13:01,034] Trial 101 finished with value: 0.04140647201880041 and parameters: {'hybrid_lambda': 0.010391007348008657, 'topK': 131}. Best is trial 44 with value: 0.04141416487533607.\n"
     ]
    },
    {
     "name": "stdout",
     "output_type": "stream",
     "text": [
      "HHPRecommender: URM Detected 627 ( 4.8%) users with no interactions.\n",
      "HHPRecommender: URM Detected 247 ( 1.1%) items with no interactions.\n",
      "HHPRecommender: Similarity column 22347 (100.0%), 2146.12 column/sec. Elapsed time 10.41 sec\n",
      "EvaluatorHoldout: Processed 10456 (100.0%) in 8.19 sec. Users per second: 1276\n"
     ]
    },
    {
     "name": "stderr",
     "output_type": "stream",
     "text": [
      "[I 2023-12-24 16:13:22,056] Trial 102 finished with value: 0.04139001985645116 and parameters: {'hybrid_lambda': 0.012352491743326846, 'topK': 128}. Best is trial 44 with value: 0.04141416487533607.\n"
     ]
    },
    {
     "name": "stdout",
     "output_type": "stream",
     "text": [
      "HHPRecommender: URM Detected 627 ( 4.8%) users with no interactions.\n",
      "HHPRecommender: URM Detected 247 ( 1.1%) items with no interactions.\n",
      "HHPRecommender: Similarity column 22347 (100.0%), 2263.24 column/sec. Elapsed time 9.87 sec\n",
      "EvaluatorHoldout: Processed 10456 (100.0%) in 8.04 sec. Users per second: 1301\n"
     ]
    },
    {
     "name": "stderr",
     "output_type": "stream",
     "text": [
      "[I 2023-12-24 16:13:42,152] Trial 103 finished with value: 0.041288915910664775 and parameters: {'hybrid_lambda': 0.05593476590827211, 'topK': 114}. Best is trial 44 with value: 0.04141416487533607.\n"
     ]
    },
    {
     "name": "stdout",
     "output_type": "stream",
     "text": [
      "HHPRecommender: URM Detected 627 ( 4.8%) users with no interactions.\n",
      "HHPRecommender: URM Detected 247 ( 1.1%) items with no interactions.\n",
      "HHPRecommender: Similarity column 22347 (100.0%), 1880.31 column/sec. Elapsed time 11.88 sec\n",
      "EvaluatorHoldout: Processed 10456 (100.0%) in 7.78 sec. Users per second: 1345\n"
     ]
    },
    {
     "name": "stderr",
     "output_type": "stream",
     "text": [
      "[I 2023-12-24 16:14:05,043] Trial 104 finished with value: 0.0412489904786199 and parameters: {'hybrid_lambda': 0.041888550116384204, 'topK': 183}. Best is trial 44 with value: 0.04141416487533607.\n"
     ]
    },
    {
     "name": "stdout",
     "output_type": "stream",
     "text": [
      "HHPRecommender: URM Detected 627 ( 4.8%) users with no interactions.\n",
      "HHPRecommender: URM Detected 247 ( 1.1%) items with no interactions.\n",
      "HHPRecommender: Similarity column 22347 (100.0%), 2104.71 column/sec. Elapsed time 10.62 sec\n",
      "EvaluatorHoldout: Processed 10456 (100.0%) in 8.14 sec. Users per second: 1284\n"
     ]
    },
    {
     "name": "stderr",
     "output_type": "stream",
     "text": [
      "[I 2023-12-24 16:14:26,322] Trial 105 finished with value: 0.04135786697999834 and parameters: {'hybrid_lambda': 0.08109144464592549, 'topK': 138}. Best is trial 44 with value: 0.04141416487533607.\n"
     ]
    },
    {
     "name": "stdout",
     "output_type": "stream",
     "text": [
      "HHPRecommender: URM Detected 627 ( 4.8%) users with no interactions.\n",
      "HHPRecommender: URM Detected 247 ( 1.1%) items with no interactions.\n",
      "HHPRecommender: Similarity column 22347 (100.0%), 2385.52 column/sec. Elapsed time 9.37 sec\n",
      "EvaluatorHoldout: Processed 10456 (100.0%) in 8.40 sec. Users per second: 1245\n"
     ]
    },
    {
     "name": "stderr",
     "output_type": "stream",
     "text": [
      "[I 2023-12-24 16:14:45,931] Trial 106 finished with value: 0.04129978913906861 and parameters: {'hybrid_lambda': 0.024313433734306545, 'topK': 92}. Best is trial 44 with value: 0.04141416487533607.\n"
     ]
    },
    {
     "name": "stdout",
     "output_type": "stream",
     "text": [
      "HHPRecommender: URM Detected 627 ( 4.8%) users with no interactions.\n",
      "HHPRecommender: URM Detected 247 ( 1.1%) items with no interactions.\n",
      "HHPRecommender: Similarity column 22347 (100.0%), 2019.64 column/sec. Elapsed time 11.06 sec\n",
      "EvaluatorHoldout: Processed 10456 (100.0%) in 8.26 sec. Users per second: 1266\n"
     ]
    },
    {
     "name": "stderr",
     "output_type": "stream",
     "text": [
      "[I 2023-12-24 16:15:08,083] Trial 107 finished with value: 0.04107929980204326 and parameters: {'hybrid_lambda': 0.11796765543758365, 'topK': 159}. Best is trial 44 with value: 0.04141416487533607.\n"
     ]
    },
    {
     "name": "stdout",
     "output_type": "stream",
     "text": [
      "HHPRecommender: URM Detected 627 ( 4.8%) users with no interactions.\n",
      "HHPRecommender: URM Detected 247 ( 1.1%) items with no interactions.\n",
      "HHPRecommender: Similarity column 22347 (100.0%), 2495.06 column/sec. Elapsed time 8.96 sec\n",
      "EvaluatorHoldout: Processed 10456 (100.0%) in 7.86 sec. Users per second: 1330\n"
     ]
    },
    {
     "name": "stderr",
     "output_type": "stream",
     "text": [
      "[I 2023-12-24 16:15:26,473] Trial 108 finished with value: 0.04131166429846661 and parameters: {'hybrid_lambda': 0.15276049764739047, 'topK': 77}. Best is trial 44 with value: 0.04141416487533607.\n"
     ]
    },
    {
     "name": "stdout",
     "output_type": "stream",
     "text": [
      "HHPRecommender: URM Detected 627 ( 4.8%) users with no interactions.\n",
      "HHPRecommender: URM Detected 247 ( 1.1%) items with no interactions.\n",
      "HHPRecommender: Similarity column 22347 (100.0%), 2323.53 column/sec. Elapsed time 9.62 sec\n",
      "EvaluatorHoldout: Processed 10456 (100.0%) in 7.93 sec. Users per second: 1318\n"
     ]
    },
    {
     "name": "stderr",
     "output_type": "stream",
     "text": [
      "[I 2023-12-24 16:15:45,946] Trial 109 finished with value: 0.041412419086482424 and parameters: {'hybrid_lambda': 0.04856781392623503, 'topK': 100}. Best is trial 44 with value: 0.04141416487533607.\n"
     ]
    },
    {
     "name": "stdout",
     "output_type": "stream",
     "text": [
      "HHPRecommender: URM Detected 627 ( 4.8%) users with no interactions.\n",
      "HHPRecommender: URM Detected 247 ( 1.1%) items with no interactions.\n",
      "HHPRecommender: Similarity column 22347 (100.0%), 2308.49 column/sec. Elapsed time 9.68 sec\n",
      "EvaluatorHoldout: Processed 10456 (100.0%) in 7.95 sec. Users per second: 1314\n"
     ]
    },
    {
     "name": "stderr",
     "output_type": "stream",
     "text": [
      "[I 2023-12-24 16:16:05,596] Trial 110 finished with value: 0.04132142933046776 and parameters: {'hybrid_lambda': 0.050788536307244184, 'topK': 106}. Best is trial 44 with value: 0.04141416487533607.\n"
     ]
    },
    {
     "name": "stdout",
     "output_type": "stream",
     "text": [
      "HHPRecommender: URM Detected 627 ( 4.8%) users with no interactions.\n",
      "HHPRecommender: URM Detected 247 ( 1.1%) items with no interactions.\n",
      "HHPRecommender: Similarity column 22347 (100.0%), 2209.83 column/sec. Elapsed time 10.11 sec\n",
      "EvaluatorHoldout: Processed 10456 (100.0%) in 8.05 sec. Users per second: 1300\n"
     ]
    },
    {
     "name": "stderr",
     "output_type": "stream",
     "text": [
      "[I 2023-12-24 16:16:26,122] Trial 111 finished with value: 0.04139146202985205 and parameters: {'hybrid_lambda': 0.06514290628162618, 'topK': 125}. Best is trial 44 with value: 0.04141416487533607.\n"
     ]
    },
    {
     "name": "stdout",
     "output_type": "stream",
     "text": [
      "HHPRecommender: URM Detected 627 ( 4.8%) users with no interactions.\n",
      "HHPRecommender: URM Detected 247 ( 1.1%) items with no interactions.\n",
      "HHPRecommender: Similarity column 22347 (100.0%), 2048.51 column/sec. Elapsed time 10.91 sec\n",
      "EvaluatorHoldout: Processed 10456 (100.0%) in 8.16 sec. Users per second: 1282\n"
     ]
    },
    {
     "name": "stderr",
     "output_type": "stream",
     "text": [
      "[I 2023-12-24 16:16:47,844] Trial 112 finished with value: 0.04125875551062098 and parameters: {'hybrid_lambda': 0.03556333076452399, 'topK': 147}. Best is trial 44 with value: 0.04141416487533607.\n"
     ]
    },
    {
     "name": "stdout",
     "output_type": "stream",
     "text": [
      "HHPRecommender: URM Detected 627 ( 4.8%) users with no interactions.\n",
      "HHPRecommender: URM Detected 247 ( 1.1%) items with no interactions.\n",
      "HHPRecommender: Similarity column 22347 (100.0%), 2283.45 column/sec. Elapsed time 9.79 sec\n",
      "EvaluatorHoldout: Processed 10456 (100.0%) in 8.01 sec. Users per second: 1305\n"
     ]
    },
    {
     "name": "stderr",
     "output_type": "stream",
     "text": [
      "[I 2023-12-24 16:17:07,825] Trial 113 finished with value: 0.04128868819907516 and parameters: {'hybrid_lambda': 0.11119053905266993, 'topK': 114}. Best is trial 44 with value: 0.04141416487533607.\n"
     ]
    },
    {
     "name": "stdout",
     "output_type": "stream",
     "text": [
      "HHPRecommender: URM Detected 627 ( 4.8%) users with no interactions.\n",
      "HHPRecommender: URM Detected 247 ( 1.1%) items with no interactions.\n",
      "HHPRecommender: Similarity column 22347 (100.0%), 1809.52 column/sec. Elapsed time 12.35 sec\n",
      "EvaluatorHoldout: Processed 10456 (100.0%) in 7.44 sec. Users per second: 1405\n"
     ]
    },
    {
     "name": "stderr",
     "output_type": "stream",
     "text": [
      "[I 2023-12-24 16:17:31,260] Trial 114 finished with value: 0.04089374521805718 and parameters: {'hybrid_lambda': 0.09963055084251896, 'topK': 211}. Best is trial 44 with value: 0.04141416487533607.\n"
     ]
    },
    {
     "name": "stdout",
     "output_type": "stream",
     "text": [
      "HHPRecommender: URM Detected 627 ( 4.8%) users with no interactions.\n",
      "HHPRecommender: URM Detected 247 ( 1.1%) items with no interactions.\n",
      "HHPRecommender: Similarity column 22347 (100.0%), 2384.89 column/sec. Elapsed time 9.37 sec\n",
      "EvaluatorHoldout: Processed 10456 (100.0%) in 8.00 sec. Users per second: 1306\n"
     ]
    },
    {
     "name": "stderr",
     "output_type": "stream",
     "text": [
      "[I 2023-12-24 16:17:50,522] Trial 115 finished with value: 0.041327402964501936 and parameters: {'hybrid_lambda': 0.07810140633314452, 'topK': 96}. Best is trial 44 with value: 0.04141416487533607.\n"
     ]
    },
    {
     "name": "stdout",
     "output_type": "stream",
     "text": [
      "HHPRecommender: URM Detected 627 ( 4.8%) users with no interactions.\n",
      "HHPRecommender: URM Detected 247 ( 1.1%) items with no interactions.\n",
      "HHPRecommender: Similarity column 22347 (100.0%), 2503.86 column/sec. Elapsed time 8.92 sec\n",
      "EvaluatorHoldout: Processed 10456 (100.0%) in 7.74 sec. Users per second: 1351\n"
     ]
    },
    {
     "name": "stderr",
     "output_type": "stream",
     "text": [
      "[I 2023-12-24 16:18:08,933] Trial 116 finished with value: 0.04122725540739176 and parameters: {'hybrid_lambda': 0.024541328189331617, 'topK': 82}. Best is trial 44 with value: 0.04141416487533607.\n"
     ]
    },
    {
     "name": "stdout",
     "output_type": "stream",
     "text": [
      "HHPRecommender: URM Detected 627 ( 4.8%) users with no interactions.\n",
      "HHPRecommender: URM Detected 247 ( 1.1%) items with no interactions.\n",
      "HHPRecommender: Similarity column 22347 (100.0%), 1906.17 column/sec. Elapsed time 11.72 sec\n",
      "EvaluatorHoldout: Processed 10456 (100.0%) in 7.83 sec. Users per second: 1336\n"
     ]
    },
    {
     "name": "stderr",
     "output_type": "stream",
     "text": [
      "[I 2023-12-24 16:18:31,765] Trial 117 finished with value: 0.041256303815839515 and parameters: {'hybrid_lambda': 0.010139663585986933, 'topK': 185}. Best is trial 44 with value: 0.04141416487533607.\n"
     ]
    },
    {
     "name": "stdout",
     "output_type": "stream",
     "text": [
      "HHPRecommender: URM Detected 627 ( 4.8%) users with no interactions.\n",
      "HHPRecommender: URM Detected 247 ( 1.1%) items with no interactions.\n",
      "HHPRecommender: Similarity column 22347 (100.0%), 2174.40 column/sec. Elapsed time 10.28 sec\n",
      "EvaluatorHoldout: Processed 10456 (100.0%) in 8.12 sec. Users per second: 1288\n"
     ]
    },
    {
     "name": "stderr",
     "output_type": "stream",
     "text": [
      "[I 2023-12-24 16:18:52,531] Trial 118 finished with value: 0.041385211346717264 and parameters: {'hybrid_lambda': 0.137724905518081, 'topK': 127}. Best is trial 44 with value: 0.04141416487533607.\n"
     ]
    },
    {
     "name": "stdout",
     "output_type": "stream",
     "text": [
      "HHPRecommender: URM Detected 627 ( 4.8%) users with no interactions.\n",
      "HHPRecommender: URM Detected 247 ( 1.1%) items with no interactions.\n",
      "HHPRecommender: Similarity column 22347 (100.0%), 1985.09 column/sec. Elapsed time 11.26 sec\n",
      "EvaluatorHoldout: Processed 10456 (100.0%) in 8.23 sec. Users per second: 1270\n"
     ]
    },
    {
     "name": "stderr",
     "output_type": "stream",
     "text": [
      "[I 2023-12-24 16:19:14,999] Trial 119 finished with value: 0.041118561075284984 and parameters: {'hybrid_lambda': 0.05443691647945309, 'topK': 166}. Best is trial 44 with value: 0.04141416487533607.\n"
     ]
    },
    {
     "name": "stdout",
     "output_type": "stream",
     "text": [
      "HHPRecommender: URM Detected 627 ( 4.8%) users with no interactions.\n",
      "HHPRecommender: URM Detected 247 ( 1.1%) items with no interactions.\n",
      "HHPRecommender: Similarity column 22347 (100.0%), 2562.56 column/sec. Elapsed time 8.72 sec\n",
      "EvaluatorHoldout: Processed 10456 (100.0%) in 7.73 sec. Users per second: 1353\n"
     ]
    },
    {
     "name": "stderr",
     "output_type": "stream",
     "text": [
      "[I 2023-12-24 16:19:32,910] Trial 120 finished with value: 0.04104490396643282 and parameters: {'hybrid_lambda': 0.08806206219916636, 'topK': 68}. Best is trial 44 with value: 0.04141416487533607.\n"
     ]
    },
    {
     "name": "stdout",
     "output_type": "stream",
     "text": [
      "HHPRecommender: URM Detected 627 ( 4.8%) users with no interactions.\n",
      "HHPRecommender: URM Detected 247 ( 1.1%) items with no interactions.\n",
      "HHPRecommender: Similarity column 22347 (100.0%), 2145.79 column/sec. Elapsed time 10.41 sec\n",
      "EvaluatorHoldout: Processed 10456 (100.0%) in 7.97 sec. Users per second: 1312\n"
     ]
    },
    {
     "name": "stderr",
     "output_type": "stream",
     "text": [
      "[I 2023-12-24 16:19:53,741] Trial 121 finished with value: 0.04141416487533607 and parameters: {'hybrid_lambda': 0.06500718229219205, 'topK': 130}. Best is trial 44 with value: 0.04141416487533607.\n"
     ]
    },
    {
     "name": "stdout",
     "output_type": "stream",
     "text": [
      "HHPRecommender: URM Detected 627 ( 4.8%) users with no interactions.\n",
      "HHPRecommender: URM Detected 247 ( 1.1%) items with no interactions.\n",
      "HHPRecommender: Similarity column 22347 (100.0%), 2098.44 column/sec. Elapsed time 10.65 sec\n",
      "EvaluatorHoldout: Processed 10456 (100.0%) in 8.08 sec. Users per second: 1294\n"
     ]
    },
    {
     "name": "stderr",
     "output_type": "stream",
     "text": [
      "[I 2023-12-24 16:20:15,119] Trial 122 finished with value: 0.04125681996210927 and parameters: {'hybrid_lambda': 0.04390698941850159, 'topK': 145}. Best is trial 44 with value: 0.04141416487533607.\n"
     ]
    },
    {
     "name": "stdout",
     "output_type": "stream",
     "text": [
      "HHPRecommender: URM Detected 627 ( 4.8%) users with no interactions.\n",
      "HHPRecommender: URM Detected 247 ( 1.1%) items with no interactions.\n",
      "HHPRecommender: Similarity column 22347 (100.0%), 2314.03 column/sec. Elapsed time 9.66 sec\n",
      "EvaluatorHoldout: Processed 10456 (100.0%) in 7.88 sec. Users per second: 1327\n"
     ]
    },
    {
     "name": "stderr",
     "output_type": "stream",
     "text": [
      "[I 2023-12-24 16:20:34,614] Trial 123 finished with value: 0.0413750288434686 and parameters: {'hybrid_lambda': 0.0681776051925375, 'topK': 101}. Best is trial 44 with value: 0.04141416487533607.\n"
     ]
    },
    {
     "name": "stdout",
     "output_type": "stream",
     "text": [
      "HHPRecommender: URM Detected 627 ( 4.8%) users with no interactions.\n",
      "HHPRecommender: URM Detected 247 ( 1.1%) items with no interactions.\n",
      "HHPRecommender: Similarity column 22347 (100.0%), 2250.61 column/sec. Elapsed time 9.93 sec\n",
      "EvaluatorHoldout: Processed 10456 (100.0%) in 7.94 sec. Users per second: 1317\n"
     ]
    },
    {
     "name": "stderr",
     "output_type": "stream",
     "text": [
      "[I 2023-12-24 16:20:54,659] Trial 124 finished with value: 0.04126852433781527 and parameters: {'hybrid_lambda': 0.12230551839060533, 'topK': 117}. Best is trial 44 with value: 0.04141416487533607.\n"
     ]
    },
    {
     "name": "stdout",
     "output_type": "stream",
     "text": [
      "HHPRecommender: URM Detected 627 ( 4.8%) users with no interactions.\n",
      "HHPRecommender: URM Detected 247 ( 1.1%) items with no interactions.\n",
      "HHPRecommender: Similarity column 22347 (100.0%), 2149.00 column/sec. Elapsed time 10.40 sec\n",
      "EvaluatorHoldout: Processed 10456 (100.0%) in 8.12 sec. Users per second: 1288\n"
     ]
    },
    {
     "name": "stderr",
     "output_type": "stream",
     "text": [
      "[I 2023-12-24 16:21:15,612] Trial 125 finished with value: 0.041397147229205955 and parameters: {'hybrid_lambda': 0.030937431071376482, 'topK': 134}. Best is trial 44 with value: 0.04141416487533607.\n"
     ]
    },
    {
     "name": "stdout",
     "output_type": "stream",
     "text": [
      "HHPRecommender: URM Detected 627 ( 4.8%) users with no interactions.\n",
      "HHPRecommender: URM Detected 247 ( 1.1%) items with no interactions.\n",
      "HHPRecommender: Similarity column 22347 (100.0%), 2145.86 column/sec. Elapsed time 10.41 sec\n",
      "EvaluatorHoldout: Processed 10456 (100.0%) in 8.06 sec. Users per second: 1297\n"
     ]
    },
    {
     "name": "stderr",
     "output_type": "stream",
     "text": [
      "[I 2023-12-24 16:21:36,574] Trial 126 finished with value: 0.04140203923318936 and parameters: {'hybrid_lambda': 0.03388255750667142, 'topK': 135}. Best is trial 44 with value: 0.04141416487533607.\n"
     ]
    },
    {
     "name": "stdout",
     "output_type": "stream",
     "text": [
      "HHPRecommender: URM Detected 627 ( 4.8%) users with no interactions.\n",
      "HHPRecommender: URM Detected 247 ( 1.1%) items with no interactions.\n",
      "HHPRecommender: Similarity column 22347 (100.0%), 2381.08 column/sec. Elapsed time 9.39 sec\n",
      "EvaluatorHoldout: Processed 10456 (100.0%) in 8.31 sec. Users per second: 1258\n"
     ]
    },
    {
     "name": "stderr",
     "output_type": "stream",
     "text": [
      "[I 2023-12-24 16:21:56,100] Trial 127 finished with value: 0.04133600666739593 and parameters: {'hybrid_lambda': 0.055754583448239914, 'topK': 89}. Best is trial 44 with value: 0.04141416487533607.\n"
     ]
    },
    {
     "name": "stdout",
     "output_type": "stream",
     "text": [
      "HHPRecommender: URM Detected 627 ( 4.8%) users with no interactions.\n",
      "HHPRecommender: URM Detected 247 ( 1.1%) items with no interactions.\n",
      "HHPRecommender: Similarity column 22347 (100.0%), 1936.19 column/sec. Elapsed time 11.54 sec\n",
      "EvaluatorHoldout: Processed 10456 (100.0%) in 8.40 sec. Users per second: 1245\n"
     ]
    },
    {
     "name": "stderr",
     "output_type": "stream",
     "text": [
      "[I 2023-12-24 16:22:19,194] Trial 128 finished with value: 0.041206962509564356 and parameters: {'hybrid_lambda': 0.09717927167138267, 'topK': 171}. Best is trial 44 with value: 0.04141416487533607.\n"
     ]
    },
    {
     "name": "stdout",
     "output_type": "stream",
     "text": [
      "HHPRecommender: URM Detected 627 ( 4.8%) users with no interactions.\n",
      "HHPRecommender: URM Detected 247 ( 1.1%) items with no interactions.\n",
      "HHPRecommender: Similarity column 22347 (100.0%), 2007.38 column/sec. Elapsed time 11.13 sec\n",
      "EvaluatorHoldout: Processed 10456 (100.0%) in 8.21 sec. Users per second: 1273\n"
     ]
    },
    {
     "name": "stderr",
     "output_type": "stream",
     "text": [
      "[I 2023-12-24 16:22:41,363] Trial 129 finished with value: 0.04123102782939294 and parameters: {'hybrid_lambda': 0.028323337479736935, 'topK': 154}. Best is trial 44 with value: 0.04141416487533607.\n"
     ]
    },
    {
     "name": "stdout",
     "output_type": "stream",
     "text": [
      "HHPRecommender: URM Detected 627 ( 4.8%) users with no interactions.\n",
      "HHPRecommender: URM Detected 247 ( 1.1%) items with no interactions.\n",
      "HHPRecommender: Similarity column 22347 (100.0%), 1788.76 column/sec. Elapsed time 12.49 sec\n",
      "EvaluatorHoldout: Processed 10456 (100.0%) in 7.95 sec. Users per second: 1316\n"
     ]
    },
    {
     "name": "stderr",
     "output_type": "stream",
     "text": [
      "[I 2023-12-24 16:23:05,434] Trial 130 finished with value: 0.040951872396498 and parameters: {'hybrid_lambda': 0.012681306384635927, 'topK': 201}. Best is trial 44 with value: 0.04141416487533607.\n"
     ]
    },
    {
     "name": "stdout",
     "output_type": "stream",
     "text": [
      "HHPRecommender: URM Detected 627 ( 4.8%) users with no interactions.\n",
      "HHPRecommender: URM Detected 247 ( 1.1%) items with no interactions.\n",
      "HHPRecommender: Similarity column 22347 (100.0%), 2092.44 column/sec. Elapsed time 10.68 sec\n",
      "EvaluatorHoldout: Processed 10456 (100.0%) in 8.14 sec. Users per second: 1284\n"
     ]
    },
    {
     "name": "stderr",
     "output_type": "stream",
     "text": [
      "[I 2023-12-24 16:23:26,861] Trial 131 finished with value: 0.04135786697999834 and parameters: {'hybrid_lambda': 0.034429924089572315, 'topK': 138}. Best is trial 44 with value: 0.04141416487533607.\n"
     ]
    },
    {
     "name": "stdout",
     "output_type": "stream",
     "text": [
      "HHPRecommender: URM Detected 627 ( 4.8%) users with no interactions.\n",
      "HHPRecommender: URM Detected 247 ( 1.1%) items with no interactions.\n",
      "HHPRecommender: Similarity column 22347 (100.0%), 2276.41 column/sec. Elapsed time 9.82 sec\n",
      "EvaluatorHoldout: Processed 10456 (100.0%) in 7.99 sec. Users per second: 1309\n"
     ]
    },
    {
     "name": "stderr",
     "output_type": "stream",
     "text": [
      "[I 2023-12-24 16:23:46,763] Trial 132 finished with value: 0.04128762934018344 and parameters: {'hybrid_lambda': 0.07003582678588734, 'topK': 108}. Best is trial 44 with value: 0.04141416487533607.\n"
     ]
    },
    {
     "name": "stdout",
     "output_type": "stream",
     "text": [
      "HHPRecommender: URM Detected 627 ( 4.8%) users with no interactions.\n",
      "HHPRecommender: URM Detected 247 ( 1.1%) items with no interactions.\n",
      "HHPRecommender: Similarity column 22347 (100.0%), 2116.90 column/sec. Elapsed time 10.56 sec\n",
      "EvaluatorHoldout: Processed 10456 (100.0%) in 8.12 sec. Users per second: 1287\n"
     ]
    },
    {
     "name": "stderr",
     "output_type": "stream",
     "text": [
      "[I 2023-12-24 16:24:07,928] Trial 133 finished with value: 0.04140203923318936 and parameters: {'hybrid_lambda': 0.04601071979347139, 'topK': 135}. Best is trial 44 with value: 0.04141416487533607.\n"
     ]
    },
    {
     "name": "stdout",
     "output_type": "stream",
     "text": [
      "HHPRecommender: URM Detected 627 ( 4.8%) users with no interactions.\n",
      "HHPRecommender: URM Detected 247 ( 1.1%) items with no interactions.\n",
      "HHPRecommender: Similarity column 22347 (100.0%), 2339.27 column/sec. Elapsed time 9.55 sec\n",
      "EvaluatorHoldout: Processed 10456 (100.0%) in 7.99 sec. Users per second: 1309\n"
     ]
    },
    {
     "name": "stderr",
     "output_type": "stream",
     "text": [
      "[I 2023-12-24 16:24:27,477] Trial 134 finished with value: 0.0413945778834366 and parameters: {'hybrid_lambda': 0.07907817722169606, 'topK': 99}. Best is trial 44 with value: 0.04141416487533607.\n"
     ]
    },
    {
     "name": "stdout",
     "output_type": "stream",
     "text": [
      "HHPRecommender: URM Detected 627 ( 4.8%) users with no interactions.\n",
      "HHPRecommender: URM Detected 247 ( 1.1%) items with no interactions.\n",
      "HHPRecommender: Similarity column 22347 (100.0%), 2253.54 column/sec. Elapsed time 9.92 sec\n",
      "EvaluatorHoldout: Processed 10456 (100.0%) in 8.01 sec. Users per second: 1305\n"
     ]
    },
    {
     "name": "stderr",
     "output_type": "stream",
     "text": [
      "[I 2023-12-24 16:24:47,601] Trial 135 finished with value: 0.041267252948106646 and parameters: {'hybrid_lambda': 0.04814985632209217, 'topK': 116}. Best is trial 44 with value: 0.04141416487533607.\n"
     ]
    },
    {
     "name": "stdout",
     "output_type": "stream",
     "text": [
      "HHPRecommender: URM Detected 627 ( 4.8%) users with no interactions.\n",
      "HHPRecommender: URM Detected 247 ( 1.1%) items with no interactions.\n",
      "HHPRecommender: Similarity column 22347 (100.0%), 1967.05 column/sec. Elapsed time 11.36 sec\n",
      "EvaluatorHoldout: Processed 10456 (100.0%) in 8.72 sec. Users per second: 1199\n"
     ]
    },
    {
     "name": "stderr",
     "output_type": "stream",
     "text": [
      "[I 2023-12-24 16:25:10,733] Trial 136 finished with value: 0.04121731200131211 and parameters: {'hybrid_lambda': 0.09864255967468684, 'topK': 170}. Best is trial 44 with value: 0.04141416487533607.\n"
     ]
    },
    {
     "name": "stdout",
     "output_type": "stream",
     "text": [
      "HHPRecommender: URM Detected 627 ( 4.8%) users with no interactions.\n",
      "HHPRecommender: URM Detected 247 ( 1.1%) items with no interactions.\n",
      "HHPRecommender: Similarity column 22347 (100.0%), 2102.47 column/sec. Elapsed time 10.63 sec\n",
      "EvaluatorHoldout: Processed 10456 (100.0%) in 8.81 sec. Users per second: 1187\n"
     ]
    },
    {
     "name": "stderr",
     "output_type": "stream",
     "text": [
      "[I 2023-12-24 16:25:32,782] Trial 137 finished with value: 0.04139669180602674 and parameters: {'hybrid_lambda': 0.011357026210612825, 'topK': 134}. Best is trial 44 with value: 0.04141416487533607.\n"
     ]
    },
    {
     "name": "stdout",
     "output_type": "stream",
     "text": [
      "HHPRecommender: URM Detected 627 ( 4.8%) users with no interactions.\n",
      "HHPRecommender: URM Detected 247 ( 1.1%) items with no interactions.\n",
      "HHPRecommender: Similarity column 22347 (100.0%), 2422.20 column/sec. Elapsed time 9.23 sec\n",
      "EvaluatorHoldout: Processed 10456 (100.0%) in 8.25 sec. Users per second: 1268\n"
     ]
    },
    {
     "name": "stderr",
     "output_type": "stream",
     "text": [
      "[I 2023-12-24 16:25:51,960] Trial 138 finished with value: 0.04126265317399654 and parameters: {'hybrid_lambda': 0.061282879026198105, 'topK': 80}. Best is trial 44 with value: 0.04141416487533607.\n"
     ]
    },
    {
     "name": "stdout",
     "output_type": "stream",
     "text": [
      "HHPRecommender: URM Detected 627 ( 4.8%) users with no interactions.\n",
      "HHPRecommender: URM Detected 247 ( 1.1%) items with no interactions.\n",
      "HHPRecommender: Similarity column 22347 (100.0%), 2042.36 column/sec. Elapsed time 10.94 sec\n",
      "EvaluatorHoldout: Processed 10456 (100.0%) in 8.17 sec. Users per second: 1279\n"
     ]
    },
    {
     "name": "stderr",
     "output_type": "stream",
     "text": [
      "[I 2023-12-24 16:26:13,852] Trial 139 finished with value: 0.04119845748169249 and parameters: {'hybrid_lambda': 0.22422520591488512, 'topK': 152}. Best is trial 44 with value: 0.04141416487533607.\n"
     ]
    },
    {
     "name": "stdout",
     "output_type": "stream",
     "text": [
      "HHPRecommender: URM Detected 627 ( 4.8%) users with no interactions.\n",
      "HHPRecommender: URM Detected 247 ( 1.1%) items with no interactions.\n",
      "HHPRecommender: Similarity column 22347 (100.0%), 2257.23 column/sec. Elapsed time 9.90 sec\n",
      "EvaluatorHoldout: Processed 10456 (100.0%) in 8.07 sec. Users per second: 1295\n"
     ]
    },
    {
     "name": "stderr",
     "output_type": "stream",
     "text": [
      "[I 2023-12-24 16:26:34,035] Trial 140 finished with value: 0.04130819169672521 and parameters: {'hybrid_lambda': 0.1620724273150828, 'topK': 112}. Best is trial 44 with value: 0.04141416487533607.\n"
     ]
    },
    {
     "name": "stdout",
     "output_type": "stream",
     "text": [
      "HHPRecommender: URM Detected 627 ( 4.8%) users with no interactions.\n",
      "HHPRecommender: URM Detected 247 ( 1.1%) items with no interactions.\n",
      "HHPRecommender: Similarity column 22347 (100.0%), 2174.19 column/sec. Elapsed time 10.28 sec\n",
      "EvaluatorHoldout: Processed 10456 (100.0%) in 8.07 sec. Users per second: 1295\n"
     ]
    },
    {
     "name": "stderr",
     "output_type": "stream",
     "text": [
      "[I 2023-12-24 16:26:54,807] Trial 141 finished with value: 0.04141416487533607 and parameters: {'hybrid_lambda': 0.031141549838146734, 'topK': 130}. Best is trial 44 with value: 0.04141416487533607.\n"
     ]
    },
    {
     "name": "stdout",
     "output_type": "stream",
     "text": [
      "HHPRecommender: URM Detected 627 ( 4.8%) users with no interactions.\n",
      "HHPRecommender: URM Detected 247 ( 1.1%) items with no interactions.\n",
      "HHPRecommender: Similarity column 22347 (100.0%), 2367.14 column/sec. Elapsed time 9.44 sec\n",
      "EvaluatorHoldout: Processed 10456 (100.0%) in 7.86 sec. Users per second: 1331\n"
     ]
    },
    {
     "name": "stderr",
     "output_type": "stream",
     "text": [
      "[I 2023-12-24 16:27:13,998] Trial 142 finished with value: 0.041354838415856646 and parameters: {'hybrid_lambda': 0.0479831166573442, 'topK': 97}. Best is trial 44 with value: 0.04141416487533607.\n"
     ]
    },
    {
     "name": "stdout",
     "output_type": "stream",
     "text": [
      "HHPRecommender: URM Detected 627 ( 4.8%) users with no interactions.\n",
      "HHPRecommender: URM Detected 247 ( 1.1%) items with no interactions.\n",
      "HHPRecommender: Similarity column 22347 (100.0%), 2206.71 column/sec. Elapsed time 10.13 sec\n",
      "EvaluatorHoldout: Processed 10456 (100.0%) in 8.19 sec. Users per second: 1277\n"
     ]
    },
    {
     "name": "stderr",
     "output_type": "stream",
     "text": [
      "[I 2023-12-24 16:27:34,757] Trial 143 finished with value: 0.04139001985645116 and parameters: {'hybrid_lambda': 0.07819329037511255, 'topK': 128}. Best is trial 44 with value: 0.04141416487533607.\n"
     ]
    },
    {
     "name": "stdout",
     "output_type": "stream",
     "text": [
      "HHPRecommender: URM Detected 627 ( 4.8%) users with no interactions.\n",
      "HHPRecommender: URM Detected 247 ( 1.1%) items with no interactions.\n",
      "HHPRecommender: Similarity column 22347 (100.0%), 2074.05 column/sec. Elapsed time 10.77 sec\n",
      "EvaluatorHoldout: Processed 10456 (100.0%) in 8.18 sec. Users per second: 1278\n"
     ]
    },
    {
     "name": "stderr",
     "output_type": "stream",
     "text": [
      "[I 2023-12-24 16:27:56,389] Trial 144 finished with value: 0.04122950216174256 and parameters: {'hybrid_lambda': 0.0312699448758294, 'topK': 148}. Best is trial 44 with value: 0.04141416487533607.\n"
     ]
    },
    {
     "name": "stdout",
     "output_type": "stream",
     "text": [
      "HHPRecommender: URM Detected 627 ( 4.8%) users with no interactions.\n",
      "HHPRecommender: URM Detected 247 ( 1.1%) items with no interactions.\n",
      "HHPRecommender: Similarity column 22347 (100.0%), 1915.35 column/sec. Elapsed time 11.67 sec\n",
      "EvaluatorHoldout: Processed 10456 (100.0%) in 7.88 sec. Users per second: 1327\n"
     ]
    },
    {
     "name": "stderr",
     "output_type": "stream",
     "text": [
      "[I 2023-12-24 16:28:19,178] Trial 145 finished with value: 0.04124847812754328 and parameters: {'hybrid_lambda': 0.10672146634048783, 'topK': 183}. Best is trial 44 with value: 0.04141416487533607.\n"
     ]
    },
    {
     "name": "stdout",
     "output_type": "stream",
     "text": [
      "HHPRecommender: URM Detected 627 ( 4.8%) users with no interactions.\n",
      "HHPRecommender: URM Detected 247 ( 1.1%) items with no interactions.\n",
      "HHPRecommender: Similarity column 22347 (100.0%), 2289.73 column/sec. Elapsed time 9.76 sec\n",
      "EvaluatorHoldout: Processed 10456 (100.0%) in 7.99 sec. Users per second: 1309\n"
     ]
    },
    {
     "name": "stderr",
     "output_type": "stream",
     "text": [
      "[I 2023-12-24 16:28:39,109] Trial 146 finished with value: 0.04130609295490766 and parameters: {'hybrid_lambda': 0.05736329647546698, 'topK': 111}. Best is trial 44 with value: 0.04141416487533607.\n"
     ]
    },
    {
     "name": "stdout",
     "output_type": "stream",
     "text": [
      "HHPRecommender: URM Detected 627 ( 4.8%) users with no interactions.\n",
      "HHPRecommender: URM Detected 247 ( 1.1%) items with no interactions.\n",
      "HHPRecommender: Similarity column 22347 (100.0%), 2473.10 column/sec. Elapsed time 9.04 sec\n",
      "EvaluatorHoldout: Processed 10456 (100.0%) in 7.86 sec. Users per second: 1331\n"
     ]
    },
    {
     "name": "stderr",
     "output_type": "stream",
     "text": [
      "[I 2023-12-24 16:28:57,798] Trial 147 finished with value: 0.041314104607668684 and parameters: {'hybrid_lambda': 0.01041915481446435, 'topK': 87}. Best is trial 44 with value: 0.04141416487533607.\n"
     ]
    },
    {
     "name": "stdout",
     "output_type": "stream",
     "text": [
      "HHPRecommender: URM Detected 627 ( 4.8%) users with no interactions.\n",
      "HHPRecommender: URM Detected 247 ( 1.1%) items with no interactions.\n",
      "HHPRecommender: Similarity column 22347 (100.0%), 2211.30 column/sec. Elapsed time 10.11 sec\n",
      "EvaluatorHoldout: Processed 10456 (100.0%) in 7.92 sec. Users per second: 1320\n"
     ]
    },
    {
     "name": "stderr",
     "output_type": "stream",
     "text": [
      "[I 2023-12-24 16:29:18,239] Trial 148 finished with value: 0.04138475592353805 and parameters: {'hybrid_lambda': 0.0849481238881769, 'topK': 127}. Best is trial 44 with value: 0.04141416487533607.\n"
     ]
    },
    {
     "name": "stdout",
     "output_type": "stream",
     "text": [
      "HHPRecommender: URM Detected 627 ( 4.8%) users with no interactions.\n",
      "HHPRecommender: URM Detected 247 ( 1.1%) items with no interactions.\n",
      "HHPRecommender: Similarity column 22347 (100.0%), 2037.45 column/sec. Elapsed time 10.97 sec\n",
      "EvaluatorHoldout: Processed 10456 (100.0%) in 8.23 sec. Users per second: 1271\n"
     ]
    },
    {
     "name": "stderr",
     "output_type": "stream",
     "text": [
      "[I 2023-12-24 16:29:40,393] Trial 149 finished with value: 0.04110756640070005 and parameters: {'hybrid_lambda': 0.28050428368547875, 'topK': 161}. Best is trial 44 with value: 0.04141416487533607.\n"
     ]
    },
    {
     "name": "stdout",
     "output_type": "stream",
     "text": [
      "HHPRecommender: URM Detected 627 ( 4.8%) users with no interactions.\n",
      "HHPRecommender: URM Detected 247 ( 1.1%) items with no interactions.\n",
      "HHPRecommender: Similarity column 22347 (100.0%), 2382.62 column/sec. Elapsed time 9.38 sec\n",
      "EvaluatorHoldout: Processed 10456 (100.0%) in 7.86 sec. Users per second: 1330\n"
     ]
    },
    {
     "name": "stderr",
     "output_type": "stream",
     "text": [
      "[I 2023-12-24 16:29:59,581] Trial 150 finished with value: 0.041349585868523005 and parameters: {'hybrid_lambda': 0.042327769920273664, 'topK': 98}. Best is trial 44 with value: 0.04141416487533607.\n"
     ]
    },
    {
     "name": "stdout",
     "output_type": "stream",
     "text": [
      "HHPRecommender: URM Detected 627 ( 4.8%) users with no interactions.\n",
      "HHPRecommender: URM Detected 247 ( 1.1%) items with no interactions.\n",
      "HHPRecommender: Similarity column 22347 (100.0%), 2193.54 column/sec. Elapsed time 10.19 sec\n",
      "EvaluatorHoldout: Processed 10456 (100.0%) in 7.99 sec. Users per second: 1309\n"
     ]
    },
    {
     "name": "stderr",
     "output_type": "stream",
     "text": [
      "[I 2023-12-24 16:30:20,145] Trial 151 finished with value: 0.04141601313440505 and parameters: {'hybrid_lambda': 0.030160553846781898, 'topK': 129}. Best is trial 151 with value: 0.04141601313440505.\n"
     ]
    },
    {
     "name": "stdout",
     "output_type": "stream",
     "text": [
      "HHPRecommender: URM Detected 627 ( 4.8%) users with no interactions.\n",
      "HHPRecommender: URM Detected 247 ( 1.1%) items with no interactions.\n",
      "HHPRecommender: Similarity column 22347 (100.0%), 2109.01 column/sec. Elapsed time 10.60 sec\n",
      "EvaluatorHoldout: Processed 10456 (100.0%) in 8.10 sec. Users per second: 1291\n"
     ]
    },
    {
     "name": "stderr",
     "output_type": "stream",
     "text": [
      "[I 2023-12-24 16:30:41,450] Trial 152 finished with value: 0.04126990199293231 and parameters: {'hybrid_lambda': 0.027932196970050026, 'topK': 144}. Best is trial 151 with value: 0.04141601313440505.\n"
     ]
    },
    {
     "name": "stdout",
     "output_type": "stream",
     "text": [
      "HHPRecommender: URM Detected 627 ( 4.8%) users with no interactions.\n",
      "HHPRecommender: URM Detected 247 ( 1.1%) items with no interactions.\n",
      "HHPRecommender: Similarity column 22347 (100.0%), 2275.67 column/sec. Elapsed time 9.82 sec\n",
      "EvaluatorHoldout: Processed 10456 (100.0%) in 8.04 sec. Users per second: 1301\n"
     ]
    },
    {
     "name": "stderr",
     "output_type": "stream",
     "text": [
      "[I 2023-12-24 16:31:01,504] Trial 153 finished with value: 0.04126291124713145 and parameters: {'hybrid_lambda': 0.06531868549148298, 'topK': 119}. Best is trial 151 with value: 0.04141601313440505.\n"
     ]
    },
    {
     "name": "stdout",
     "output_type": "stream",
     "text": [
      "HHPRecommender: URM Detected 627 ( 4.8%) users with no interactions.\n",
      "HHPRecommender: URM Detected 247 ( 1.1%) items with no interactions.\n",
      "HHPRecommender: Similarity column 22347 (100.0%), 2142.05 column/sec. Elapsed time 10.43 sec\n",
      "EvaluatorHoldout: Processed 10456 (100.0%) in 8.02 sec. Users per second: 1304\n"
     ]
    },
    {
     "name": "stderr",
     "output_type": "stream",
     "text": [
      "[I 2023-12-24 16:31:22,428] Trial 154 finished with value: 0.04140203923318936 and parameters: {'hybrid_lambda': 0.040927430806599906, 'topK': 135}. Best is trial 151 with value: 0.04141601313440505.\n"
     ]
    },
    {
     "name": "stdout",
     "output_type": "stream",
     "text": [
      "HHPRecommender: URM Detected 627 ( 4.8%) users with no interactions.\n",
      "HHPRecommender: URM Detected 247 ( 1.1%) items with no interactions.\n",
      "HHPRecommender: Similarity column 22347 (100.0%), 1803.02 column/sec. Elapsed time 12.39 sec\n",
      "EvaluatorHoldout: Processed 10456 (100.0%) in 7.43 sec. Users per second: 1408\n"
     ]
    },
    {
     "name": "stderr",
     "output_type": "stream",
     "text": [
      "[I 2023-12-24 16:31:46,064] Trial 155 finished with value: 0.04096689756621909 and parameters: {'hybrid_lambda': 0.04023453049060051, 'topK': 220}. Best is trial 151 with value: 0.04141601313440505.\n"
     ]
    },
    {
     "name": "stdout",
     "output_type": "stream",
     "text": [
      "HHPRecommender: URM Detected 627 ( 4.8%) users with no interactions.\n",
      "HHPRecommender: URM Detected 247 ( 1.1%) items with no interactions.\n",
      "HHPRecommender: Similarity column 22347 (100.0%), 1913.73 column/sec. Elapsed time 11.68 sec\n",
      "EvaluatorHoldout: Processed 10456 (100.0%) in 7.72 sec. Users per second: 1354\n"
     ]
    },
    {
     "name": "stderr",
     "output_type": "stream",
     "text": [
      "[I 2023-12-24 16:32:08,774] Trial 156 finished with value: 0.04127397044000002 and parameters: {'hybrid_lambda': 0.023346056965113982, 'topK': 187}. Best is trial 151 with value: 0.04141601313440505.\n"
     ]
    },
    {
     "name": "stdout",
     "output_type": "stream",
     "text": [
      "HHPRecommender: URM Detected 627 ( 4.8%) users with no interactions.\n",
      "HHPRecommender: URM Detected 247 ( 1.1%) items with no interactions.\n",
      "HHPRecommender: Similarity column 22347 (100.0%), 2311.99 column/sec. Elapsed time 9.67 sec\n",
      "EvaluatorHoldout: Processed 10456 (100.0%) in 7.88 sec. Users per second: 1327\n"
     ]
    },
    {
     "name": "stderr",
     "output_type": "stream",
     "text": [
      "[I 2023-12-24 16:32:28,357] Trial 157 finished with value: 0.04128461216162113 and parameters: {'hybrid_lambda': 0.059692363258928974, 'topK': 105}. Best is trial 151 with value: 0.04141601313440505.\n"
     ]
    },
    {
     "name": "stdout",
     "output_type": "stream",
     "text": [
      "HHPRecommender: URM Detected 627 ( 4.8%) users with no interactions.\n",
      "HHPRecommender: URM Detected 247 ( 1.1%) items with no interactions.\n",
      "HHPRecommender: Similarity column 22347 (100.0%), 2044.67 column/sec. Elapsed time 10.93 sec\n",
      "EvaluatorHoldout: Processed 10456 (100.0%) in 8.24 sec. Users per second: 1269\n"
     ]
    },
    {
     "name": "stderr",
     "output_type": "stream",
     "text": [
      "[I 2023-12-24 16:32:50,430] Trial 158 finished with value: 0.04116612243596804 and parameters: {'hybrid_lambda': 0.4061863107579267, 'topK': 156}. Best is trial 151 with value: 0.04141601313440505.\n"
     ]
    },
    {
     "name": "stdout",
     "output_type": "stream",
     "text": [
      "HHPRecommender: URM Detected 627 ( 4.8%) users with no interactions.\n",
      "HHPRecommender: URM Detected 247 ( 1.1%) items with no interactions.\n",
      "HHPRecommender: Similarity column 22347 (100.0%), 2167.74 column/sec. Elapsed time 10.31 sec\n",
      "EvaluatorHoldout: Processed 10456 (100.0%) in 8.01 sec. Users per second: 1306\n"
     ]
    },
    {
     "name": "stderr",
     "output_type": "stream",
     "text": [
      "[I 2023-12-24 16:33:11,219] Trial 159 finished with value: 0.04140158381001014 and parameters: {'hybrid_lambda': 0.04207776805233058, 'topK': 135}. Best is trial 151 with value: 0.04141601313440505.\n"
     ]
    },
    {
     "name": "stdout",
     "output_type": "stream",
     "text": [
      "HHPRecommender: URM Detected 627 ( 4.8%) users with no interactions.\n",
      "HHPRecommender: URM Detected 247 ( 1.1%) items with no interactions.\n",
      "HHPRecommender: Similarity column 22347 (100.0%), 2250.31 column/sec. Elapsed time 9.93 sec\n",
      "EvaluatorHoldout: Processed 10456 (100.0%) in 7.90 sec. Users per second: 1324\n"
     ]
    },
    {
     "name": "stderr",
     "output_type": "stream",
     "text": [
      "[I 2023-12-24 16:33:31,259] Trial 160 finished with value: 0.04126612198054493 and parameters: {'hybrid_lambda': 0.0764069129442927, 'topK': 119}. Best is trial 151 with value: 0.04141601313440505.\n"
     ]
    },
    {
     "name": "stdout",
     "output_type": "stream",
     "text": [
      "HHPRecommender: URM Detected 627 ( 4.8%) users with no interactions.\n",
      "HHPRecommender: URM Detected 247 ( 1.1%) items with no interactions.\n",
      "HHPRecommender: Similarity column 22347 (100.0%), 2162.47 column/sec. Elapsed time 10.33 sec\n",
      "EvaluatorHoldout: Processed 10456 (100.0%) in 8.12 sec. Users per second: 1288\n"
     ]
    },
    {
     "name": "stderr",
     "output_type": "stream",
     "text": [
      "[I 2023-12-24 16:33:52,241] Trial 161 finished with value: 0.04138578442088445 and parameters: {'hybrid_lambda': 0.010058558546666705, 'topK': 137}. Best is trial 151 with value: 0.04141601313440505.\n"
     ]
    },
    {
     "name": "stdout",
     "output_type": "stream",
     "text": [
      "HHPRecommender: URM Detected 627 ( 4.8%) users with no interactions.\n",
      "HHPRecommender: URM Detected 247 ( 1.1%) items with no interactions.\n",
      "HHPRecommender: Similarity column 22347 (100.0%), 1998.93 column/sec. Elapsed time 11.18 sec\n",
      "EvaluatorHoldout: Processed 10456 (100.0%) in 8.21 sec. Users per second: 1273\n"
     ]
    },
    {
     "name": "stderr",
     "output_type": "stream",
     "text": [
      "[I 2023-12-24 16:34:14,663] Trial 162 finished with value: 0.041206962509564356 and parameters: {'hybrid_lambda': 0.047115747901485976, 'topK': 171}. Best is trial 151 with value: 0.04141601313440505.\n"
     ]
    },
    {
     "name": "stdout",
     "output_type": "stream",
     "text": [
      "HHPRecommender: URM Detected 627 ( 4.8%) users with no interactions.\n",
      "HHPRecommender: URM Detected 247 ( 1.1%) items with no interactions.\n",
      "HHPRecommender: Similarity column 22347 (100.0%), 2123.71 column/sec. Elapsed time 10.52 sec\n",
      "EvaluatorHoldout: Processed 10456 (100.0%) in 7.99 sec. Users per second: 1308\n"
     ]
    },
    {
     "name": "stderr",
     "output_type": "stream",
     "text": [
      "[I 2023-12-24 16:34:35,692] Trial 163 finished with value: 0.04134550224068257 and parameters: {'hybrid_lambda': 0.04248030996572297, 'topK': 139}. Best is trial 151 with value: 0.04141601313440505.\n"
     ]
    },
    {
     "name": "stdout",
     "output_type": "stream",
     "text": [
      "HHPRecommender: URM Detected 627 ( 4.8%) users with no interactions.\n",
      "HHPRecommender: URM Detected 247 ( 1.1%) items with no interactions.\n",
      "HHPRecommender: Similarity column 22347 (100.0%), 2297.57 column/sec. Elapsed time 9.73 sec\n",
      "EvaluatorHoldout: Processed 10456 (100.0%) in 7.96 sec. Users per second: 1314\n"
     ]
    },
    {
     "name": "stderr",
     "output_type": "stream",
     "text": [
      "[I 2023-12-24 16:34:55,463] Trial 164 finished with value: 0.041325266270752684 and parameters: {'hybrid_lambda': 0.027088111204116208, 'topK': 109}. Best is trial 151 with value: 0.04141601313440505.\n"
     ]
    },
    {
     "name": "stdout",
     "output_type": "stream",
     "text": [
      "HHPRecommender: URM Detected 627 ( 4.8%) users with no interactions.\n",
      "HHPRecommender: URM Detected 247 ( 1.1%) items with no interactions.\n",
      "HHPRecommender: Similarity column 22347 (100.0%), 2272.79 column/sec. Elapsed time 9.83 sec\n",
      "EvaluatorHoldout: Processed 10456 (100.0%) in 7.94 sec. Users per second: 1317\n"
     ]
    },
    {
     "name": "stderr",
     "output_type": "stream",
     "text": [
      "[I 2023-12-24 16:35:15,441] Trial 165 finished with value: 0.04129759551742206 and parameters: {'hybrid_lambda': 0.10563850382657564, 'topK': 120}. Best is trial 151 with value: 0.04141601313440505.\n"
     ]
    },
    {
     "name": "stdout",
     "output_type": "stream",
     "text": [
      "HHPRecommender: URM Detected 627 ( 4.8%) users with no interactions.\n",
      "HHPRecommender: URM Detected 247 ( 1.1%) items with no interactions.\n",
      "HHPRecommender: Similarity column 22347 (100.0%), 2440.57 column/sec. Elapsed time 9.16 sec\n",
      "EvaluatorHoldout: Processed 10456 (100.0%) in 7.90 sec. Users per second: 1323\n"
     ]
    },
    {
     "name": "stderr",
     "output_type": "stream",
     "text": [
      "[I 2023-12-24 16:35:34,333] Trial 166 finished with value: 0.041265188363027505 and parameters: {'hybrid_lambda': 0.06765089921414758, 'topK': 91}. Best is trial 151 with value: 0.04141601313440505.\n"
     ]
    },
    {
     "name": "stdout",
     "output_type": "stream",
     "text": [
      "HHPRecommender: URM Detected 627 ( 4.8%) users with no interactions.\n",
      "HHPRecommender: URM Detected 247 ( 1.1%) items with no interactions.\n",
      "HHPRecommender: Similarity column 22347 (100.0%), 2081.17 column/sec. Elapsed time 10.74 sec\n",
      "EvaluatorHoldout: Processed 10456 (100.0%) in 8.20 sec. Users per second: 1275\n"
     ]
    },
    {
     "name": "stderr",
     "output_type": "stream",
     "text": [
      "[I 2023-12-24 16:35:56,018] Trial 167 finished with value: 0.041187481783073375 and parameters: {'hybrid_lambda': 0.09039124998063125, 'topK': 150}. Best is trial 151 with value: 0.04141601313440505.\n"
     ]
    },
    {
     "name": "stdout",
     "output_type": "stream",
     "text": [
      "HHPRecommender: URM Detected 627 ( 4.8%) users with no interactions.\n",
      "HHPRecommender: URM Detected 247 ( 1.1%) items with no interactions.\n",
      "HHPRecommender: Similarity column 22347 (100.0%), 1862.98 column/sec. Elapsed time 12.00 sec\n",
      "EvaluatorHoldout: Processed 10456 (100.0%) in 7.74 sec. Users per second: 1352\n"
     ]
    },
    {
     "name": "stderr",
     "output_type": "stream",
     "text": [
      "[I 2023-12-24 16:36:19,313] Trial 168 finished with value: 0.04092623966189433 and parameters: {'hybrid_lambda': 0.031759582590353067, 'topK': 203}. Best is trial 151 with value: 0.04141601313440505.\n"
     ]
    },
    {
     "name": "stdout",
     "output_type": "stream",
     "text": [
      "HHPRecommender: URM Detected 627 ( 4.8%) users with no interactions.\n",
      "HHPRecommender: URM Detected 247 ( 1.1%) items with no interactions.\n",
      "HHPRecommender: Similarity column 22347 (100.0%), 2166.91 column/sec. Elapsed time 10.31 sec\n",
      "EvaluatorHoldout: Processed 10456 (100.0%) in 8.06 sec. Users per second: 1297\n"
     ]
    },
    {
     "name": "stderr",
     "output_type": "stream",
     "text": [
      "[I 2023-12-24 16:36:40,083] Trial 169 finished with value: 0.04141416487533607 and parameters: {'hybrid_lambda': 0.12319594705750919, 'topK': 130}. Best is trial 151 with value: 0.04141601313440505.\n"
     ]
    },
    {
     "name": "stdout",
     "output_type": "stream",
     "text": [
      "HHPRecommender: URM Detected 627 ( 4.8%) users with no interactions.\n",
      "HHPRecommender: URM Detected 247 ( 1.1%) items with no interactions.\n",
      "HHPRecommender: Similarity column 22347 (100.0%), 2304.87 column/sec. Elapsed time 9.70 sec\n",
      "EvaluatorHoldout: Processed 10456 (100.0%) in 7.97 sec. Users per second: 1312\n"
     ]
    },
    {
     "name": "stderr",
     "output_type": "stream",
     "text": [
      "[I 2023-12-24 16:36:59,801] Trial 170 finished with value: 0.04129145489488888 and parameters: {'hybrid_lambda': 0.1172285922871523, 'topK': 108}. Best is trial 151 with value: 0.04141601313440505.\n"
     ]
    },
    {
     "name": "stdout",
     "output_type": "stream",
     "text": [
      "HHPRecommender: URM Detected 627 ( 4.8%) users with no interactions.\n",
      "HHPRecommender: URM Detected 247 ( 1.1%) items with no interactions.\n",
      "HHPRecommender: Similarity column 22347 (100.0%), 2178.24 column/sec. Elapsed time 10.26 sec\n",
      "EvaluatorHoldout: Processed 10456 (100.0%) in 7.96 sec. Users per second: 1314\n"
     ]
    },
    {
     "name": "stderr",
     "output_type": "stream",
     "text": [
      "[I 2023-12-24 16:37:20,511] Trial 171 finished with value: 0.041398171931359154 and parameters: {'hybrid_lambda': 0.15198171801618357, 'topK': 132}. Best is trial 151 with value: 0.04141601313440505.\n"
     ]
    },
    {
     "name": "stdout",
     "output_type": "stream",
     "text": [
      "HHPRecommender: URM Detected 627 ( 4.8%) users with no interactions.\n",
      "HHPRecommender: URM Detected 247 ( 1.1%) items with no interactions.\n",
      "HHPRecommender: Similarity column 22347 (100.0%), 2002.47 column/sec. Elapsed time 11.16 sec\n",
      "EvaluatorHoldout: Processed 10456 (100.0%) in 8.22 sec. Users per second: 1271\n"
     ]
    },
    {
     "name": "stderr",
     "output_type": "stream",
     "text": [
      "[I 2023-12-24 16:37:42,813] Trial 172 finished with value: 0.04113880463560124 and parameters: {'hybrid_lambda': 0.05619730189545967, 'topK': 165}. Best is trial 151 with value: 0.04141601313440505.\n"
     ]
    },
    {
     "name": "stdout",
     "output_type": "stream",
     "text": [
      "HHPRecommender: URM Detected 627 ( 4.8%) users with no interactions.\n",
      "HHPRecommender: URM Detected 247 ( 1.1%) items with no interactions.\n",
      "HHPRecommender: Similarity column 22347 (100.0%), 2194.49 column/sec. Elapsed time 10.18 sec\n",
      "EvaluatorHoldout: Processed 10456 (100.0%) in 7.99 sec. Users per second: 1309\n"
     ]
    },
    {
     "name": "stderr",
     "output_type": "stream",
     "text": [
      "[I 2023-12-24 16:38:03,381] Trial 173 finished with value: 0.04141601313440505 and parameters: {'hybrid_lambda': 0.18657112396459452, 'topK': 129}. Best is trial 151 with value: 0.04141601313440505.\n"
     ]
    },
    {
     "name": "stdout",
     "output_type": "stream",
     "text": [
      "HHPRecommender: URM Detected 627 ( 4.8%) users with no interactions.\n",
      "HHPRecommender: URM Detected 247 ( 1.1%) items with no interactions.\n",
      "HHPRecommender: Similarity column 22347 (100.0%), 2262.57 column/sec. Elapsed time 9.88 sec\n",
      "EvaluatorHoldout: Processed 10456 (100.0%) in 8.00 sec. Users per second: 1306\n"
     ]
    },
    {
     "name": "stderr",
     "output_type": "stream",
     "text": [
      "[I 2023-12-24 16:38:23,545] Trial 174 finished with value: 0.04129759551742206 and parameters: {'hybrid_lambda': 0.13488877359847026, 'topK': 120}. Best is trial 151 with value: 0.04141601313440505.\n"
     ]
    },
    {
     "name": "stdout",
     "output_type": "stream",
     "text": [
      "HHPRecommender: URM Detected 627 ( 4.8%) users with no interactions.\n",
      "HHPRecommender: URM Detected 247 ( 1.1%) items with no interactions.\n",
      "HHPRecommender: Similarity column 22347 (100.0%), 2419.33 column/sec. Elapsed time 9.24 sec\n",
      "EvaluatorHoldout: Processed 10456 (100.0%) in 7.79 sec. Users per second: 1342\n"
     ]
    },
    {
     "name": "stderr",
     "output_type": "stream",
     "text": [
      "[I 2023-12-24 16:38:42,313] Trial 175 finished with value: 0.04132414668877045 and parameters: {'hybrid_lambda': 0.1849259135491965, 'topK': 87}. Best is trial 151 with value: 0.04141601313440505.\n"
     ]
    },
    {
     "name": "stdout",
     "output_type": "stream",
     "text": [
      "HHPRecommender: URM Detected 627 ( 4.8%) users with no interactions.\n",
      "HHPRecommender: URM Detected 247 ( 1.1%) items with no interactions.\n",
      "HHPRecommender: Similarity column 22347 (100.0%), 2365.99 column/sec. Elapsed time 9.45 sec\n",
      "EvaluatorHoldout: Processed 10456 (100.0%) in 7.93 sec. Users per second: 1318\n"
     ]
    },
    {
     "name": "stderr",
     "output_type": "stream",
     "text": [
      "[I 2023-12-24 16:39:01,599] Trial 176 finished with value: 0.041413694271384235 and parameters: {'hybrid_lambda': 0.14160431292496833, 'topK': 100}. Best is trial 151 with value: 0.04141601313440505.\n"
     ]
    },
    {
     "name": "stdout",
     "output_type": "stream",
     "text": [
      "HHPRecommender: URM Detected 627 ( 4.8%) users with no interactions.\n",
      "HHPRecommender: URM Detected 247 ( 1.1%) items with no interactions.\n",
      "HHPRecommender: Similarity column 22347 (100.0%), 2534.40 column/sec. Elapsed time 8.82 sec\n",
      "EvaluatorHoldout: Processed 10456 (100.0%) in 7.70 sec. Users per second: 1357\n"
     ]
    },
    {
     "name": "stderr",
     "output_type": "stream",
     "text": [
      "[I 2023-12-24 16:39:19,735] Trial 177 finished with value: 0.04131166429846661 and parameters: {'hybrid_lambda': 0.19704953247978507, 'topK': 77}. Best is trial 151 with value: 0.04141601313440505.\n"
     ]
    },
    {
     "name": "stdout",
     "output_type": "stream",
     "text": [
      "HHPRecommender: URM Detected 627 ( 4.8%) users with no interactions.\n",
      "HHPRecommender: URM Detected 247 ( 1.1%) items with no interactions.\n",
      "HHPRecommender: Similarity column 22347 (100.0%), 2353.27 column/sec. Elapsed time 9.50 sec\n",
      "EvaluatorHoldout: Processed 10456 (100.0%) in 7.88 sec. Users per second: 1327\n"
     ]
    },
    {
     "name": "stderr",
     "output_type": "stream",
     "text": [
      "[I 2023-12-24 16:39:39,082] Trial 178 finished with value: 0.04137375365856679 and parameters: {'hybrid_lambda': 0.15868923338511037, 'topK': 101}. Best is trial 151 with value: 0.04141601313440505.\n"
     ]
    },
    {
     "name": "stdout",
     "output_type": "stream",
     "text": [
      "HHPRecommender: URM Detected 627 ( 4.8%) users with no interactions.\n",
      "HHPRecommender: URM Detected 247 ( 1.1%) items with no interactions.\n",
      "HHPRecommender: Similarity column 22347 (100.0%), 2387.71 column/sec. Elapsed time 9.36 sec\n",
      "EvaluatorHoldout: Processed 10456 (100.0%) in 7.89 sec. Users per second: 1325\n"
     ]
    },
    {
     "name": "stderr",
     "output_type": "stream",
     "text": [
      "[I 2023-12-24 16:39:58,261] Trial 179 finished with value: 0.0413945778834366 and parameters: {'hybrid_lambda': 0.14253084442537273, 'topK': 99}. Best is trial 151 with value: 0.04141601313440505.\n"
     ]
    },
    {
     "name": "stdout",
     "output_type": "stream",
     "text": [
      "HHPRecommender: URM Detected 627 ( 4.8%) users with no interactions.\n",
      "HHPRecommender: URM Detected 247 ( 1.1%) items with no interactions.\n",
      "HHPRecommender: Similarity column 22347 (100.0%), 2268.06 column/sec. Elapsed time 9.85 sec\n",
      "EvaluatorHoldout: Processed 10456 (100.0%) in 7.93 sec. Users per second: 1319\n"
     ]
    },
    {
     "name": "stderr",
     "output_type": "stream",
     "text": [
      "[I 2023-12-24 16:40:18,304] Trial 180 finished with value: 0.04123409814065959 and parameters: {'hybrid_lambda': 0.21324515871868582, 'topK': 118}. Best is trial 151 with value: 0.04141601313440505.\n"
     ]
    },
    {
     "name": "stdout",
     "output_type": "stream",
     "text": [
      "HHPRecommender: URM Detected 627 ( 4.8%) users with no interactions.\n",
      "HHPRecommender: URM Detected 247 ( 1.1%) items with no interactions.\n",
      "HHPRecommender: Similarity column 22347 (100.0%), 2093.40 column/sec. Elapsed time 10.67 sec\n",
      "EvaluatorHoldout: Processed 10456 (100.0%) in 8.10 sec. Users per second: 1291\n"
     ]
    },
    {
     "name": "stderr",
     "output_type": "stream",
     "text": [
      "[I 2023-12-24 16:40:39,779] Trial 181 finished with value: 0.04123205253154618 and parameters: {'hybrid_lambda': 0.16792424508257342, 'topK': 148}. Best is trial 151 with value: 0.04141601313440505.\n"
     ]
    },
    {
     "name": "stdout",
     "output_type": "stream",
     "text": [
      "HHPRecommender: URM Detected 627 ( 4.8%) users with no interactions.\n",
      "HHPRecommender: URM Detected 247 ( 1.1%) items with no interactions.\n",
      "HHPRecommender: Similarity column 22347 (100.0%), 2182.03 column/sec. Elapsed time 10.24 sec\n",
      "EvaluatorHoldout: Processed 10456 (100.0%) in 8.07 sec. Users per second: 1296\n"
     ]
    },
    {
     "name": "stderr",
     "output_type": "stream",
     "text": [
      "[I 2023-12-24 16:41:00,573] Trial 182 finished with value: 0.04140647201880041 and parameters: {'hybrid_lambda': 0.12158429334003887, 'topK': 131}. Best is trial 151 with value: 0.04141601313440505.\n"
     ]
    },
    {
     "name": "stdout",
     "output_type": "stream",
     "text": [
      "HHPRecommender: URM Detected 627 ( 4.8%) users with no interactions.\n",
      "HHPRecommender: URM Detected 247 ( 1.1%) items with no interactions.\n",
      "HHPRecommender: Similarity column 22347 (100.0%), 2298.40 column/sec. Elapsed time 9.72 sec\n",
      "EvaluatorHoldout: Processed 10456 (100.0%) in 7.91 sec. Users per second: 1323\n"
     ]
    },
    {
     "name": "stderr",
     "output_type": "stream",
     "text": [
      "[I 2023-12-24 16:41:20,307] Trial 183 finished with value: 0.041321315474673034 and parameters: {'hybrid_lambda': 0.11186637109515925, 'topK': 110}. Best is trial 151 with value: 0.04141601313440505.\n"
     ]
    },
    {
     "name": "stdout",
     "output_type": "stream",
     "text": [
      "HHPRecommender: URM Detected 627 ( 4.8%) users with no interactions.\n",
      "HHPRecommender: URM Detected 247 ( 1.1%) items with no interactions.\n",
      "HHPRecommender: Similarity column 22347 (100.0%), 2235.61 column/sec. Elapsed time 10.00 sec\n",
      "EvaluatorHoldout: Processed 10456 (100.0%) in 8.05 sec. Users per second: 1299\n"
     ]
    },
    {
     "name": "stderr",
     "output_type": "stream",
     "text": [
      "[I 2023-12-24 16:41:40,651] Trial 184 finished with value: 0.041391917453031266 and parameters: {'hybrid_lambda': 0.13256557704394795, 'topK': 125}. Best is trial 151 with value: 0.04141601313440505.\n"
     ]
    },
    {
     "name": "stdout",
     "output_type": "stream",
     "text": [
      "HHPRecommender: URM Detected 627 ( 4.8%) users with no interactions.\n",
      "HHPRecommender: URM Detected 247 ( 1.1%) items with no interactions.\n",
      "HHPRecommender: Similarity column 22347 (100.0%), 2028.72 column/sec. Elapsed time 11.02 sec\n",
      "EvaluatorHoldout: Processed 10456 (100.0%) in 8.16 sec. Users per second: 1281\n"
     ]
    },
    {
     "name": "stderr",
     "output_type": "stream",
     "text": [
      "[I 2023-12-24 16:42:02,716] Trial 185 finished with value: 0.04110864803075069 and parameters: {'hybrid_lambda': 0.5144583598524106, 'topK': 161}. Best is trial 151 with value: 0.04141601313440505.\n"
     ]
    },
    {
     "name": "stdout",
     "output_type": "stream",
     "text": [
      "HHPRecommender: URM Detected 627 ( 4.8%) users with no interactions.\n",
      "HHPRecommender: URM Detected 247 ( 1.1%) items with no interactions.\n",
      "HHPRecommender: Similarity column 22347 (100.0%), 2408.48 column/sec. Elapsed time 9.28 sec\n",
      "EvaluatorHoldout: Processed 10456 (100.0%) in 7.81 sec. Users per second: 1338\n"
     ]
    },
    {
     "name": "stderr",
     "output_type": "stream",
     "text": [
      "[I 2023-12-24 16:42:21,624] Trial 186 finished with value: 0.04127844497273593 and parameters: {'hybrid_lambda': 0.08818294643512545, 'topK': 94}. Best is trial 151 with value: 0.04141601313440505.\n"
     ]
    },
    {
     "name": "stdout",
     "output_type": "stream",
     "text": [
      "HHPRecommender: URM Detected 627 ( 4.8%) users with no interactions.\n",
      "HHPRecommender: URM Detected 247 ( 1.1%) items with no interactions.\n",
      "HHPRecommender: Similarity column 22347 (100.0%), 2098.61 column/sec. Elapsed time 10.65 sec\n",
      "EvaluatorHoldout: Processed 10456 (100.0%) in 8.12 sec. Users per second: 1288\n"
     ]
    },
    {
     "name": "stderr",
     "output_type": "stream",
     "text": [
      "[I 2023-12-24 16:42:43,028] Trial 187 finished with value: 0.04125875551062098 and parameters: {'hybrid_lambda': 0.12285306566030946, 'topK': 147}. Best is trial 151 with value: 0.04141601313440505.\n"
     ]
    },
    {
     "name": "stdout",
     "output_type": "stream",
     "text": [
      "HHPRecommender: URM Detected 627 ( 4.8%) users with no interactions.\n",
      "HHPRecommender: URM Detected 247 ( 1.1%) items with no interactions.\n",
      "HHPRecommender: Similarity column 22347 (100.0%), 1936.45 column/sec. Elapsed time 11.54 sec\n",
      "EvaluatorHoldout: Processed 10456 (100.0%) in 7.69 sec. Users per second: 1359\n"
     ]
    },
    {
     "name": "stderr",
     "output_type": "stream",
     "text": [
      "[I 2023-12-24 16:43:05,447] Trial 188 finished with value: 0.04124847812754328 and parameters: {'hybrid_lambda': 0.1807927278350927, 'topK': 183}. Best is trial 151 with value: 0.04141601313440505.\n"
     ]
    },
    {
     "name": "stdout",
     "output_type": "stream",
     "text": [
      "HHPRecommender: URM Detected 627 ( 4.8%) users with no interactions.\n",
      "HHPRecommender: URM Detected 247 ( 1.1%) items with no interactions.\n",
      "HHPRecommender: Similarity column 22347 (100.0%), 2214.18 column/sec. Elapsed time 10.09 sec\n",
      "EvaluatorHoldout: Processed 10456 (100.0%) in 7.95 sec. Users per second: 1315\n"
     ]
    },
    {
     "name": "stderr",
     "output_type": "stream",
     "text": [
      "[I 2023-12-24 16:43:25,781] Trial 189 finished with value: 0.041391917453031266 and parameters: {'hybrid_lambda': 0.2406520578248747, 'topK': 125}. Best is trial 151 with value: 0.04141601313440505.\n"
     ]
    },
    {
     "name": "stdout",
     "output_type": "stream",
     "text": [
      "HHPRecommender: URM Detected 627 ( 4.8%) users with no interactions.\n",
      "HHPRecommender: URM Detected 247 ( 1.1%) items with no interactions.\n",
      "HHPRecommender: Similarity column 22347 (100.0%), 2329.84 column/sec. Elapsed time 9.59 sec\n",
      "EvaluatorHoldout: Processed 10456 (100.0%) in 7.98 sec. Users per second: 1311\n"
     ]
    },
    {
     "name": "stderr",
     "output_type": "stream",
     "text": [
      "[I 2023-12-24 16:43:45,445] Trial 190 finished with value: 0.04128762934018344 and parameters: {'hybrid_lambda': 0.07328207860520299, 'topK': 108}. Best is trial 151 with value: 0.04141601313440505.\n"
     ]
    },
    {
     "name": "stdout",
     "output_type": "stream",
     "text": [
      "HHPRecommender: URM Detected 627 ( 4.8%) users with no interactions.\n",
      "HHPRecommender: URM Detected 247 ( 1.1%) items with no interactions.\n",
      "HHPRecommender: Similarity column 22347 (100.0%), 2155.99 column/sec. Elapsed time 10.37 sec\n",
      "EvaluatorHoldout: Processed 10456 (100.0%) in 7.98 sec. Users per second: 1310\n"
     ]
    },
    {
     "name": "stderr",
     "output_type": "stream",
     "text": [
      "[I 2023-12-24 16:44:06,335] Trial 191 finished with value: 0.0414064188860962 and parameters: {'hybrid_lambda': 0.011180121580972913, 'topK': 136}. Best is trial 151 with value: 0.04141601313440505.\n"
     ]
    },
    {
     "name": "stdout",
     "output_type": "stream",
     "text": [
      "HHPRecommender: URM Detected 627 ( 4.8%) users with no interactions.\n",
      "HHPRecommender: URM Detected 247 ( 1.1%) items with no interactions.\n",
      "HHPRecommender: Similarity column 22347 (100.0%), 2179.31 column/sec. Elapsed time 10.25 sec\n",
      "EvaluatorHoldout: Processed 10456 (100.0%) in 8.09 sec. Users per second: 1293\n"
     ]
    },
    {
     "name": "stderr",
     "output_type": "stream",
     "text": [
      "[I 2023-12-24 16:44:27,105] Trial 192 finished with value: 0.04141740597029482 and parameters: {'hybrid_lambda': 0.014162785049807133, 'topK': 133}. Best is trial 192 with value: 0.04141740597029482.\n"
     ]
    },
    {
     "name": "stdout",
     "output_type": "stream",
     "text": [
      "HHPRecommender: URM Detected 627 ( 4.8%) users with no interactions.\n",
      "HHPRecommender: URM Detected 247 ( 1.1%) items with no interactions.\n",
      "HHPRecommender: Similarity column 22347 (100.0%), 2292.99 column/sec. Elapsed time 9.75 sec\n",
      "EvaluatorHoldout: Processed 10456 (100.0%) in 7.92 sec. Users per second: 1320\n"
     ]
    },
    {
     "name": "stderr",
     "output_type": "stream",
     "text": [
      "[I 2023-12-24 16:44:46,970] Trial 193 finished with value: 0.04123409814065959 and parameters: {'hybrid_lambda': 0.011636504280093909, 'topK': 118}. Best is trial 192 with value: 0.04141740597029482.\n"
     ]
    },
    {
     "name": "stdout",
     "output_type": "stream",
     "text": [
      "HHPRecommender: URM Detected 627 ( 4.8%) users with no interactions.\n",
      "HHPRecommender: URM Detected 247 ( 1.1%) items with no interactions.\n",
      "HHPRecommender: Similarity column 22347 (100.0%), 2061.19 column/sec. Elapsed time 10.84 sec\n",
      "EvaluatorHoldout: Processed 10456 (100.0%) in 8.15 sec. Users per second: 1283\n"
     ]
    },
    {
     "name": "stderr",
     "output_type": "stream",
     "text": [
      "[I 2023-12-24 16:45:08,780] Trial 194 finished with value: 0.041227790529627314 and parameters: {'hybrid_lambda': 0.023809710068017603, 'topK': 155}. Best is trial 192 with value: 0.04141740597029482.\n"
     ]
    },
    {
     "name": "stdout",
     "output_type": "stream",
     "text": [
      "HHPRecommender: URM Detected 627 ( 4.8%) users with no interactions.\n",
      "HHPRecommender: URM Detected 247 ( 1.1%) items with no interactions.\n",
      "HHPRecommender: Similarity column 22347 (100.0%), 2164.33 column/sec. Elapsed time 10.33 sec\n",
      "EvaluatorHoldout: Processed 10456 (100.0%) in 8.00 sec. Users per second: 1307\n"
     ]
    },
    {
     "name": "stderr",
     "output_type": "stream",
     "text": [
      "[I 2023-12-24 16:45:29,533] Trial 195 finished with value: 0.04140008470871187 and parameters: {'hybrid_lambda': 0.6824584176757177, 'topK': 132}. Best is trial 192 with value: 0.04141740597029482.\n"
     ]
    },
    {
     "name": "stdout",
     "output_type": "stream",
     "text": [
      "HHPRecommender: URM Detected 627 ( 4.8%) users with no interactions.\n",
      "HHPRecommender: URM Detected 247 ( 1.1%) items with no interactions.\n",
      "HHPRecommender: Similarity column 22347 (100.0%), 2464.37 column/sec. Elapsed time 9.07 sec\n",
      "EvaluatorHoldout: Processed 10456 (100.0%) in 7.74 sec. Users per second: 1351\n"
     ]
    },
    {
     "name": "stderr",
     "output_type": "stream",
     "text": [
      "[I 2023-12-24 16:45:48,142] Trial 196 finished with value: 0.04132414668877045 and parameters: {'hybrid_lambda': 0.012163697263711859, 'topK': 87}. Best is trial 192 with value: 0.04141740597029482.\n"
     ]
    },
    {
     "name": "stdout",
     "output_type": "stream",
     "text": [
      "HHPRecommender: URM Detected 627 ( 4.8%) users with no interactions.\n",
      "HHPRecommender: URM Detected 247 ( 1.1%) items with no interactions.\n",
      "HHPRecommender: Similarity column 22347 (100.0%), 2347.78 column/sec. Elapsed time 9.52 sec\n",
      "EvaluatorHoldout: Processed 10456 (100.0%) in 8.01 sec. Users per second: 1306\n"
     ]
    },
    {
     "name": "stderr",
     "output_type": "stream",
     "text": [
      "[I 2023-12-24 16:46:07,618] Trial 197 finished with value: 0.04137597005137231 and parameters: {'hybrid_lambda': 0.06507436816538156, 'topK': 102}. Best is trial 192 with value: 0.04141740597029482.\n"
     ]
    },
    {
     "name": "stdout",
     "output_type": "stream",
     "text": [
      "HHPRecommender: URM Detected 627 ( 4.8%) users with no interactions.\n",
      "HHPRecommender: URM Detected 247 ( 1.1%) items with no interactions.\n",
      "HHPRecommender: Similarity column 22347 (100.0%), 2001.30 column/sec. Elapsed time 11.17 sec\n",
      "EvaluatorHoldout: Processed 10456 (100.0%) in 8.15 sec. Users per second: 1282\n"
     ]
    },
    {
     "name": "stderr",
     "output_type": "stream",
     "text": [
      "[I 2023-12-24 16:46:30,082] Trial 198 finished with value: 0.041217099470495136 and parameters: {'hybrid_lambda': 0.09886049369635685, 'topK': 170}. Best is trial 192 with value: 0.04141740597029482.\n"
     ]
    },
    {
     "name": "stdout",
     "output_type": "stream",
     "text": [
      "HHPRecommender: URM Detected 627 ( 4.8%) users with no interactions.\n",
      "HHPRecommender: URM Detected 247 ( 1.1%) items with no interactions.\n",
      "HHPRecommender: Similarity column 22347 (100.0%), 2117.37 column/sec. Elapsed time 10.55 sec\n",
      "EvaluatorHoldout: Processed 10456 (100.0%) in 8.08 sec. Users per second: 1295\n"
     ]
    },
    {
     "name": "stderr",
     "output_type": "stream",
     "text": [
      "[I 2023-12-24 16:46:51,282] Trial 199 finished with value: 0.04135495606684448 and parameters: {'hybrid_lambda': 0.14651451733870155, 'topK': 142}. Best is trial 192 with value: 0.04141740597029482.\n"
     ]
    }
   ],
   "source": [
    "if config['tune_parameters']:\n",
    "    study = optuna.create_study(direction='maximize', study_name='tuning',\n",
    "                                storage=f'sqlite:///{config[\"database_path\"]}', load_if_exists=True)\n",
    "    study.optimize(objective_function_hhp, n_trials=200)"
   ]
  },
  {
   "cell_type": "code",
   "execution_count": 18,
   "id": "24638705",
   "metadata": {
    "execution": {
     "iopub.execute_input": "2023-12-24T16:46:51.441625Z",
     "iopub.status.busy": "2023-12-24T16:46:51.440522Z",
     "iopub.status.idle": "2023-12-24T16:46:52.349931Z",
     "shell.execute_reply": "2023-12-24T16:46:52.348772Z"
    },
    "papermill": {
     "duration": 0.988041,
     "end_time": "2023-12-24T16:46:52.352261",
     "exception": false,
     "start_time": "2023-12-24T16:46:51.364220",
     "status": "completed"
    },
    "tags": []
   },
   "outputs": [
    {
     "data": {
      "text/html": [
       "        <script type=\"text/javascript\">\n",
       "        window.PlotlyConfig = {MathJaxConfig: 'local'};\n",
       "        if (window.MathJax && window.MathJax.Hub && window.MathJax.Hub.Config) {window.MathJax.Hub.Config({SVG: {font: \"STIX-Web\"}});}\n",
       "        if (typeof require !== 'undefined') {\n",
       "        require.undef(\"plotly\");\n",
       "        requirejs.config({\n",
       "            paths: {\n",
       "                'plotly': ['https://cdn.plot.ly/plotly-2.25.2.min']\n",
       "            }\n",
       "        });\n",
       "        require(['plotly'], function(Plotly) {\n",
       "            window._Plotly = Plotly;\n",
       "        });\n",
       "        }\n",
       "        </script>\n",
       "        "
      ]
     },
     "metadata": {},
     "output_type": "display_data"
    },
    {
     "data": {
      "text/html": [
       "<div>                            <div id=\"c7a626c5-bd25-4d2c-904b-1bb4426e527a\" class=\"plotly-graph-div\" style=\"height:525px; width:100%;\"></div>            <script type=\"text/javascript\">                require([\"plotly\"], function(Plotly) {                    window.PLOTLYENV=window.PLOTLYENV || {};                                    if (document.getElementById(\"c7a626c5-bd25-4d2c-904b-1bb4426e527a\")) {                    Plotly.newPlot(                        \"c7a626c5-bd25-4d2c-904b-1bb4426e527a\",                        [{\"mode\":\"markers\",\"name\":\"Objective Value\",\"x\":[0,1,2,3,4,5,6,7,8,9,10,11,12,13,14,15,16,17,18,19,20,21,22,23,24,25,26,27,28,29,30,31,32,33,34,35,36,37,38,39,40,41,42,43,44,45,46,47,48,49,50,51,52,53,54,55,56,57,58,59,60,61,62,63,64,65,66,67,68,69,70,71,72,73,74,75,76,77,78,79,80,81,82,83,84,85,86,87,88,89,90,91,92,93,94,95,96,97,98,99,100,101,102,103,104,105,106,107,108,109,110,111,112,113,114,115,116,117,118,119,120,121,122,123,124,125,126,127,128,129,130,131,132,133,134,135,136,137,138,139,140,141,142,143,144,145,146,147,148,149,150,151,152,153,154,155,156,157,158,159,160,161,162,163,164,165,166,167,168,169,170,171,172,173,174,175,176,177,178,179,180,181,182,183,184,185,186,187,188,189,190,191,192,193,194,195,196,197,198,199],\"y\":[0.03927076501985689,0.04123409814065959,0.04132142933046776,0.02527044166939927,0.031370930034855346,0.04045678565356313,0.03239623562380867,0.028567758619642874,0.03857706063807867,0.033307085777438024,0.04055393121288354,0.041413694271384235,0.04125678960056402,0.04119794513061587,0.04055393121288354,0.03958150784542391,0.040745004007724475,0.03730619846127727,0.04121992688939942,0.04121399879768339,0.04138578442088445,0.04135786697999834,0.04124847812754328,0.041308650915097556,0.04071552674244959,0.03870575563813947,0.04116060802030631,0.04115080124118051,0.04042116776575518,0.03943025421721911,0.04136559778846562,0.04135341142322841,0.041265188363027505,0.04138578442088445,0.04128762934018344,0.04090250072867772,0.04139033865267661,0.040871664784251374,0.040370076875433106,0.04124408329386393,0.04138578442088445,0.04125875551062098,0.040943450862875624,0.04104490396643282,0.04141416487533607,0.04133600666739593,0.041206962509564356,0.040605458550418944,0.04126829662622566,0.04111921005331539,0.0409222926610079,0.04136479700270876,0.04139033865267661,0.041265188363027505,0.04114960196014184,0.041321315474673034,0.04048948883302415,0.04122725540739176,0.04109485250361358,0.04096540226011404,0.04125875551062098,0.04135786697999834,0.041288915910664775,0.04122725540739176,0.04141416487533607,0.04132142933046776,0.04113862626152272,0.040777126522632094,0.041349585868523005,0.04135194647866847,0.041230686262008515,0.04140776238447491,0.04141416487533607,0.04138159452763567,0.04137480113187899,0.0410974370301556,0.04087937661675286,0.041249165057505296,0.04141416487533607,0.04136559778846562,0.040831705195468235,0.041186942865644637,0.0413993104893072,0.04124408329386393,0.04116197428984401,0.04141416487533607,0.041325266270752684,0.04108409313100454,0.04064550163345164,0.04128210353894228,0.04140647201880041,0.04123102782939294,0.04134550224068257,0.0413750288434686,0.04136559778846562,0.04123162367471901,0.041391917453031266,0.0409222926610079,0.04119794513061587,0.04132142933046776,0.04133600666739593,0.04140647201880041,0.04139001985645116,0.041288915910664775,0.0412489904786199,0.04135786697999834,0.04129978913906861,0.04107929980204326,0.04131166429846661,0.041412419086482424,0.04132142933046776,0.04139146202985205,0.04125875551062098,0.04128868819907516,0.04089374521805718,0.041327402964501936,0.04122725540739176,0.041256303815839515,0.041385211346717264,0.041118561075284984,0.04104490396643282,0.04141416487533607,0.04125681996210927,0.0413750288434686,0.04126852433781527,0.041397147229205955,0.04140203923318936,0.04133600666739593,0.041206962509564356,0.04123102782939294,0.040951872396498,0.04135786697999834,0.04128762934018344,0.04140203923318936,0.0413945778834366,0.041267252948106646,0.04121731200131211,0.04139669180602674,0.04126265317399654,0.04119845748169249,0.04130819169672521,0.04141416487533607,0.041354838415856646,0.04139001985645116,0.04122950216174256,0.04124847812754328,0.04130609295490766,0.041314104607668684,0.04138475592353805,0.04110756640070005,0.041349585868523005,0.04141601313440505,0.04126990199293231,0.04126291124713145,0.04140203923318936,0.04096689756621909,0.04127397044000002,0.04128461216162113,0.04116612243596804,0.04140158381001014,0.04126612198054493,0.04138578442088445,0.041206962509564356,0.04134550224068257,0.041325266270752684,0.04129759551742206,0.041265188363027505,0.041187481783073375,0.04092623966189433,0.04141416487533607,0.04129145489488888,0.041398171931359154,0.04113880463560124,0.04141601313440505,0.04129759551742206,0.04132414668877045,0.041413694271384235,0.04131166429846661,0.04137375365856679,0.0413945778834366,0.04123409814065959,0.04123205253154618,0.04140647201880041,0.041321315474673034,0.041391917453031266,0.04110864803075069,0.04127844497273593,0.04125875551062098,0.04124847812754328,0.041391917453031266,0.04128762934018344,0.0414064188860962,0.04141740597029482,0.04123409814065959,0.041227790529627314,0.04140008470871187,0.04132414668877045,0.04137597005137231,0.041217099470495136,0.04135495606684448],\"type\":\"scatter\"},{\"mode\":\"lines\",\"name\":\"Best Value\",\"x\":[0,1,2,3,4,5,6,7,8,9,10,11,12,13,14,15,16,17,18,19,20,21,22,23,24,25,26,27,28,29,30,31,32,33,34,35,36,37,38,39,40,41,42,43,44,45,46,47,48,49,50,51,52,53,54,55,56,57,58,59,60,61,62,63,64,65,66,67,68,69,70,71,72,73,74,75,76,77,78,79,80,81,82,83,84,85,86,87,88,89,90,91,92,93,94,95,96,97,98,99,100,101,102,103,104,105,106,107,108,109,110,111,112,113,114,115,116,117,118,119,120,121,122,123,124,125,126,127,128,129,130,131,132,133,134,135,136,137,138,139,140,141,142,143,144,145,146,147,148,149,150,151,152,153,154,155,156,157,158,159,160,161,162,163,164,165,166,167,168,169,170,171,172,173,174,175,176,177,178,179,180,181,182,183,184,185,186,187,188,189,190,191,192,193,194,195,196,197,198,199],\"y\":[0.03927076501985689,0.04123409814065959,0.04132142933046776,0.04132142933046776,0.04132142933046776,0.04132142933046776,0.04132142933046776,0.04132142933046776,0.04132142933046776,0.04132142933046776,0.04132142933046776,0.041413694271384235,0.041413694271384235,0.041413694271384235,0.041413694271384235,0.041413694271384235,0.041413694271384235,0.041413694271384235,0.041413694271384235,0.041413694271384235,0.041413694271384235,0.041413694271384235,0.041413694271384235,0.041413694271384235,0.041413694271384235,0.041413694271384235,0.041413694271384235,0.041413694271384235,0.041413694271384235,0.041413694271384235,0.041413694271384235,0.041413694271384235,0.041413694271384235,0.041413694271384235,0.041413694271384235,0.041413694271384235,0.041413694271384235,0.041413694271384235,0.041413694271384235,0.041413694271384235,0.041413694271384235,0.041413694271384235,0.041413694271384235,0.041413694271384235,0.04141416487533607,0.04141416487533607,0.04141416487533607,0.04141416487533607,0.04141416487533607,0.04141416487533607,0.04141416487533607,0.04141416487533607,0.04141416487533607,0.04141416487533607,0.04141416487533607,0.04141416487533607,0.04141416487533607,0.04141416487533607,0.04141416487533607,0.04141416487533607,0.04141416487533607,0.04141416487533607,0.04141416487533607,0.04141416487533607,0.04141416487533607,0.04141416487533607,0.04141416487533607,0.04141416487533607,0.04141416487533607,0.04141416487533607,0.04141416487533607,0.04141416487533607,0.04141416487533607,0.04141416487533607,0.04141416487533607,0.04141416487533607,0.04141416487533607,0.04141416487533607,0.04141416487533607,0.04141416487533607,0.04141416487533607,0.04141416487533607,0.04141416487533607,0.04141416487533607,0.04141416487533607,0.04141416487533607,0.04141416487533607,0.04141416487533607,0.04141416487533607,0.04141416487533607,0.04141416487533607,0.04141416487533607,0.04141416487533607,0.04141416487533607,0.04141416487533607,0.04141416487533607,0.04141416487533607,0.04141416487533607,0.04141416487533607,0.04141416487533607,0.04141416487533607,0.04141416487533607,0.04141416487533607,0.04141416487533607,0.04141416487533607,0.04141416487533607,0.04141416487533607,0.04141416487533607,0.04141416487533607,0.04141416487533607,0.04141416487533607,0.04141416487533607,0.04141416487533607,0.04141416487533607,0.04141416487533607,0.04141416487533607,0.04141416487533607,0.04141416487533607,0.04141416487533607,0.04141416487533607,0.04141416487533607,0.04141416487533607,0.04141416487533607,0.04141416487533607,0.04141416487533607,0.04141416487533607,0.04141416487533607,0.04141416487533607,0.04141416487533607,0.04141416487533607,0.04141416487533607,0.04141416487533607,0.04141416487533607,0.04141416487533607,0.04141416487533607,0.04141416487533607,0.04141416487533607,0.04141416487533607,0.04141416487533607,0.04141416487533607,0.04141416487533607,0.04141416487533607,0.04141416487533607,0.04141416487533607,0.04141416487533607,0.04141416487533607,0.04141416487533607,0.04141416487533607,0.04141416487533607,0.04141416487533607,0.04141416487533607,0.04141601313440505,0.04141601313440505,0.04141601313440505,0.04141601313440505,0.04141601313440505,0.04141601313440505,0.04141601313440505,0.04141601313440505,0.04141601313440505,0.04141601313440505,0.04141601313440505,0.04141601313440505,0.04141601313440505,0.04141601313440505,0.04141601313440505,0.04141601313440505,0.04141601313440505,0.04141601313440505,0.04141601313440505,0.04141601313440505,0.04141601313440505,0.04141601313440505,0.04141601313440505,0.04141601313440505,0.04141601313440505,0.04141601313440505,0.04141601313440505,0.04141601313440505,0.04141601313440505,0.04141601313440505,0.04141601313440505,0.04141601313440505,0.04141601313440505,0.04141601313440505,0.04141601313440505,0.04141601313440505,0.04141601313440505,0.04141601313440505,0.04141601313440505,0.04141601313440505,0.04141601313440505,0.04141740597029482,0.04141740597029482,0.04141740597029482,0.04141740597029482,0.04141740597029482,0.04141740597029482,0.04141740597029482,0.04141740597029482],\"type\":\"scatter\"},{\"marker\":{\"color\":\"#cccccc\"},\"mode\":\"markers\",\"name\":\"Infeasible Trial\",\"showlegend\":false,\"x\":[],\"y\":[],\"type\":\"scatter\"}],                        {\"title\":{\"text\":\"Optimization History Plot\"},\"xaxis\":{\"title\":{\"text\":\"Trial\"}},\"yaxis\":{\"title\":{\"text\":\"Objective Value\"}},\"template\":{\"data\":{\"histogram2dcontour\":[{\"type\":\"histogram2dcontour\",\"colorbar\":{\"outlinewidth\":0,\"ticks\":\"\"},\"colorscale\":[[0.0,\"#0d0887\"],[0.1111111111111111,\"#46039f\"],[0.2222222222222222,\"#7201a8\"],[0.3333333333333333,\"#9c179e\"],[0.4444444444444444,\"#bd3786\"],[0.5555555555555556,\"#d8576b\"],[0.6666666666666666,\"#ed7953\"],[0.7777777777777778,\"#fb9f3a\"],[0.8888888888888888,\"#fdca26\"],[1.0,\"#f0f921\"]]}],\"choropleth\":[{\"type\":\"choropleth\",\"colorbar\":{\"outlinewidth\":0,\"ticks\":\"\"}}],\"histogram2d\":[{\"type\":\"histogram2d\",\"colorbar\":{\"outlinewidth\":0,\"ticks\":\"\"},\"colorscale\":[[0.0,\"#0d0887\"],[0.1111111111111111,\"#46039f\"],[0.2222222222222222,\"#7201a8\"],[0.3333333333333333,\"#9c179e\"],[0.4444444444444444,\"#bd3786\"],[0.5555555555555556,\"#d8576b\"],[0.6666666666666666,\"#ed7953\"],[0.7777777777777778,\"#fb9f3a\"],[0.8888888888888888,\"#fdca26\"],[1.0,\"#f0f921\"]]}],\"heatmap\":[{\"type\":\"heatmap\",\"colorbar\":{\"outlinewidth\":0,\"ticks\":\"\"},\"colorscale\":[[0.0,\"#0d0887\"],[0.1111111111111111,\"#46039f\"],[0.2222222222222222,\"#7201a8\"],[0.3333333333333333,\"#9c179e\"],[0.4444444444444444,\"#bd3786\"],[0.5555555555555556,\"#d8576b\"],[0.6666666666666666,\"#ed7953\"],[0.7777777777777778,\"#fb9f3a\"],[0.8888888888888888,\"#fdca26\"],[1.0,\"#f0f921\"]]}],\"heatmapgl\":[{\"type\":\"heatmapgl\",\"colorbar\":{\"outlinewidth\":0,\"ticks\":\"\"},\"colorscale\":[[0.0,\"#0d0887\"],[0.1111111111111111,\"#46039f\"],[0.2222222222222222,\"#7201a8\"],[0.3333333333333333,\"#9c179e\"],[0.4444444444444444,\"#bd3786\"],[0.5555555555555556,\"#d8576b\"],[0.6666666666666666,\"#ed7953\"],[0.7777777777777778,\"#fb9f3a\"],[0.8888888888888888,\"#fdca26\"],[1.0,\"#f0f921\"]]}],\"contourcarpet\":[{\"type\":\"contourcarpet\",\"colorbar\":{\"outlinewidth\":0,\"ticks\":\"\"}}],\"contour\":[{\"type\":\"contour\",\"colorbar\":{\"outlinewidth\":0,\"ticks\":\"\"},\"colorscale\":[[0.0,\"#0d0887\"],[0.1111111111111111,\"#46039f\"],[0.2222222222222222,\"#7201a8\"],[0.3333333333333333,\"#9c179e\"],[0.4444444444444444,\"#bd3786\"],[0.5555555555555556,\"#d8576b\"],[0.6666666666666666,\"#ed7953\"],[0.7777777777777778,\"#fb9f3a\"],[0.8888888888888888,\"#fdca26\"],[1.0,\"#f0f921\"]]}],\"surface\":[{\"type\":\"surface\",\"colorbar\":{\"outlinewidth\":0,\"ticks\":\"\"},\"colorscale\":[[0.0,\"#0d0887\"],[0.1111111111111111,\"#46039f\"],[0.2222222222222222,\"#7201a8\"],[0.3333333333333333,\"#9c179e\"],[0.4444444444444444,\"#bd3786\"],[0.5555555555555556,\"#d8576b\"],[0.6666666666666666,\"#ed7953\"],[0.7777777777777778,\"#fb9f3a\"],[0.8888888888888888,\"#fdca26\"],[1.0,\"#f0f921\"]]}],\"mesh3d\":[{\"type\":\"mesh3d\",\"colorbar\":{\"outlinewidth\":0,\"ticks\":\"\"}}],\"scatter\":[{\"fillpattern\":{\"fillmode\":\"overlay\",\"size\":10,\"solidity\":0.2},\"type\":\"scatter\"}],\"parcoords\":[{\"type\":\"parcoords\",\"line\":{\"colorbar\":{\"outlinewidth\":0,\"ticks\":\"\"}}}],\"scatterpolargl\":[{\"type\":\"scatterpolargl\",\"marker\":{\"colorbar\":{\"outlinewidth\":0,\"ticks\":\"\"}}}],\"bar\":[{\"error_x\":{\"color\":\"#2a3f5f\"},\"error_y\":{\"color\":\"#2a3f5f\"},\"marker\":{\"line\":{\"color\":\"#E5ECF6\",\"width\":0.5},\"pattern\":{\"fillmode\":\"overlay\",\"size\":10,\"solidity\":0.2}},\"type\":\"bar\"}],\"scattergeo\":[{\"type\":\"scattergeo\",\"marker\":{\"colorbar\":{\"outlinewidth\":0,\"ticks\":\"\"}}}],\"scatterpolar\":[{\"type\":\"scatterpolar\",\"marker\":{\"colorbar\":{\"outlinewidth\":0,\"ticks\":\"\"}}}],\"histogram\":[{\"marker\":{\"pattern\":{\"fillmode\":\"overlay\",\"size\":10,\"solidity\":0.2}},\"type\":\"histogram\"}],\"scattergl\":[{\"type\":\"scattergl\",\"marker\":{\"colorbar\":{\"outlinewidth\":0,\"ticks\":\"\"}}}],\"scatter3d\":[{\"type\":\"scatter3d\",\"line\":{\"colorbar\":{\"outlinewidth\":0,\"ticks\":\"\"}},\"marker\":{\"colorbar\":{\"outlinewidth\":0,\"ticks\":\"\"}}}],\"scattermapbox\":[{\"type\":\"scattermapbox\",\"marker\":{\"colorbar\":{\"outlinewidth\":0,\"ticks\":\"\"}}}],\"scatterternary\":[{\"type\":\"scatterternary\",\"marker\":{\"colorbar\":{\"outlinewidth\":0,\"ticks\":\"\"}}}],\"scattercarpet\":[{\"type\":\"scattercarpet\",\"marker\":{\"colorbar\":{\"outlinewidth\":0,\"ticks\":\"\"}}}],\"carpet\":[{\"aaxis\":{\"endlinecolor\":\"#2a3f5f\",\"gridcolor\":\"white\",\"linecolor\":\"white\",\"minorgridcolor\":\"white\",\"startlinecolor\":\"#2a3f5f\"},\"baxis\":{\"endlinecolor\":\"#2a3f5f\",\"gridcolor\":\"white\",\"linecolor\":\"white\",\"minorgridcolor\":\"white\",\"startlinecolor\":\"#2a3f5f\"},\"type\":\"carpet\"}],\"table\":[{\"cells\":{\"fill\":{\"color\":\"#EBF0F8\"},\"line\":{\"color\":\"white\"}},\"header\":{\"fill\":{\"color\":\"#C8D4E3\"},\"line\":{\"color\":\"white\"}},\"type\":\"table\"}],\"barpolar\":[{\"marker\":{\"line\":{\"color\":\"#E5ECF6\",\"width\":0.5},\"pattern\":{\"fillmode\":\"overlay\",\"size\":10,\"solidity\":0.2}},\"type\":\"barpolar\"}],\"pie\":[{\"automargin\":true,\"type\":\"pie\"}]},\"layout\":{\"autotypenumbers\":\"strict\",\"colorway\":[\"#636efa\",\"#EF553B\",\"#00cc96\",\"#ab63fa\",\"#FFA15A\",\"#19d3f3\",\"#FF6692\",\"#B6E880\",\"#FF97FF\",\"#FECB52\"],\"font\":{\"color\":\"#2a3f5f\"},\"hovermode\":\"closest\",\"hoverlabel\":{\"align\":\"left\"},\"paper_bgcolor\":\"white\",\"plot_bgcolor\":\"#E5ECF6\",\"polar\":{\"bgcolor\":\"#E5ECF6\",\"angularaxis\":{\"gridcolor\":\"white\",\"linecolor\":\"white\",\"ticks\":\"\"},\"radialaxis\":{\"gridcolor\":\"white\",\"linecolor\":\"white\",\"ticks\":\"\"}},\"ternary\":{\"bgcolor\":\"#E5ECF6\",\"aaxis\":{\"gridcolor\":\"white\",\"linecolor\":\"white\",\"ticks\":\"\"},\"baxis\":{\"gridcolor\":\"white\",\"linecolor\":\"white\",\"ticks\":\"\"},\"caxis\":{\"gridcolor\":\"white\",\"linecolor\":\"white\",\"ticks\":\"\"}},\"coloraxis\":{\"colorbar\":{\"outlinewidth\":0,\"ticks\":\"\"}},\"colorscale\":{\"sequential\":[[0.0,\"#0d0887\"],[0.1111111111111111,\"#46039f\"],[0.2222222222222222,\"#7201a8\"],[0.3333333333333333,\"#9c179e\"],[0.4444444444444444,\"#bd3786\"],[0.5555555555555556,\"#d8576b\"],[0.6666666666666666,\"#ed7953\"],[0.7777777777777778,\"#fb9f3a\"],[0.8888888888888888,\"#fdca26\"],[1.0,\"#f0f921\"]],\"sequentialminus\":[[0.0,\"#0d0887\"],[0.1111111111111111,\"#46039f\"],[0.2222222222222222,\"#7201a8\"],[0.3333333333333333,\"#9c179e\"],[0.4444444444444444,\"#bd3786\"],[0.5555555555555556,\"#d8576b\"],[0.6666666666666666,\"#ed7953\"],[0.7777777777777778,\"#fb9f3a\"],[0.8888888888888888,\"#fdca26\"],[1.0,\"#f0f921\"]],\"diverging\":[[0,\"#8e0152\"],[0.1,\"#c51b7d\"],[0.2,\"#de77ae\"],[0.3,\"#f1b6da\"],[0.4,\"#fde0ef\"],[0.5,\"#f7f7f7\"],[0.6,\"#e6f5d0\"],[0.7,\"#b8e186\"],[0.8,\"#7fbc41\"],[0.9,\"#4d9221\"],[1,\"#276419\"]]},\"xaxis\":{\"gridcolor\":\"white\",\"linecolor\":\"white\",\"ticks\":\"\",\"title\":{\"standoff\":15},\"zerolinecolor\":\"white\",\"automargin\":true,\"zerolinewidth\":2},\"yaxis\":{\"gridcolor\":\"white\",\"linecolor\":\"white\",\"ticks\":\"\",\"title\":{\"standoff\":15},\"zerolinecolor\":\"white\",\"automargin\":true,\"zerolinewidth\":2},\"scene\":{\"xaxis\":{\"backgroundcolor\":\"#E5ECF6\",\"gridcolor\":\"white\",\"linecolor\":\"white\",\"showbackground\":true,\"ticks\":\"\",\"zerolinecolor\":\"white\",\"gridwidth\":2},\"yaxis\":{\"backgroundcolor\":\"#E5ECF6\",\"gridcolor\":\"white\",\"linecolor\":\"white\",\"showbackground\":true,\"ticks\":\"\",\"zerolinecolor\":\"white\",\"gridwidth\":2},\"zaxis\":{\"backgroundcolor\":\"#E5ECF6\",\"gridcolor\":\"white\",\"linecolor\":\"white\",\"showbackground\":true,\"ticks\":\"\",\"zerolinecolor\":\"white\",\"gridwidth\":2}},\"shapedefaults\":{\"line\":{\"color\":\"#2a3f5f\"}},\"annotationdefaults\":{\"arrowcolor\":\"#2a3f5f\",\"arrowhead\":0,\"arrowwidth\":1},\"geo\":{\"bgcolor\":\"white\",\"landcolor\":\"#E5ECF6\",\"subunitcolor\":\"white\",\"showland\":true,\"showlakes\":true,\"lakecolor\":\"white\"},\"title\":{\"x\":0.05},\"mapbox\":{\"style\":\"light\"}}}},                        {\"responsive\": true}                    ).then(function(){\n",
       "                            \n",
       "var gd = document.getElementById('c7a626c5-bd25-4d2c-904b-1bb4426e527a');\n",
       "var x = new MutationObserver(function (mutations, observer) {{\n",
       "        var display = window.getComputedStyle(gd).display;\n",
       "        if (!display || display === 'none') {{\n",
       "            console.log([gd, 'removed!']);\n",
       "            Plotly.purge(gd);\n",
       "            observer.disconnect();\n",
       "        }}\n",
       "}});\n",
       "\n",
       "// Listen for the removal of the full notebook cells\n",
       "var notebookContainer = gd.closest('#notebook-container');\n",
       "if (notebookContainer) {{\n",
       "    x.observe(notebookContainer, {childList: true});\n",
       "}}\n",
       "\n",
       "// Listen for the clearing of the current output cell\n",
       "var outputEl = gd.closest('.output');\n",
       "if (outputEl) {{\n",
       "    x.observe(outputEl, {childList: true});\n",
       "}}\n",
       "\n",
       "                        })                };                });            </script>        </div>"
      ]
     },
     "metadata": {},
     "output_type": "display_data"
    }
   ],
   "source": [
    "if config['tune_parameters']:\n",
    "    fig = optuna.visualization.plot_optimization_history(study)\n",
    "    fig.show()"
   ]
  },
  {
   "cell_type": "code",
   "execution_count": 19,
   "id": "09a7107f",
   "metadata": {
    "execution": {
     "iopub.execute_input": "2023-12-24T16:46:52.523767Z",
     "iopub.status.busy": "2023-12-24T16:46:52.523379Z",
     "iopub.status.idle": "2023-12-24T16:46:55.250223Z",
     "shell.execute_reply": "2023-12-24T16:46:55.249430Z"
    },
    "papermill": {
     "duration": 2.818971,
     "end_time": "2023-12-24T16:46:55.252553",
     "exception": false,
     "start_time": "2023-12-24T16:46:52.433582",
     "status": "completed"
    },
    "tags": []
   },
   "outputs": [
    {
     "data": {
      "text/html": [
       "<div>                            <div id=\"1c4e1f30-35ac-47ab-9236-10e546a11cf8\" class=\"plotly-graph-div\" style=\"height:525px; width:100%;\"></div>            <script type=\"text/javascript\">                require([\"plotly\"], function(Plotly) {                    window.PLOTLYENV=window.PLOTLYENV || {};                                    if (document.getElementById(\"1c4e1f30-35ac-47ab-9236-10e546a11cf8\")) {                    Plotly.newPlot(                        \"1c4e1f30-35ac-47ab-9236-10e546a11cf8\",                        [{\"cliponaxis\":false,\"hovertemplate\":[\"hybrid_lambda (FloatDistribution): 0.08256431921369697\\u003cextra\\u003e\\u003c\\u002fextra\\u003e\",\"topK (IntDistribution): 0.917435680786303\\u003cextra\\u003e\\u003c\\u002fextra\\u003e\"],\"name\":\"Objective Value\",\"orientation\":\"h\",\"text\":[\"0.08\",\"0.92\"],\"textposition\":\"outside\",\"x\":[0.08256431921369697,0.917435680786303],\"y\":[\"hybrid_lambda\",\"topK\"],\"type\":\"bar\"}],                        {\"title\":{\"text\":\"Hyperparameter Importances\"},\"xaxis\":{\"title\":{\"text\":\"Hyperparameter Importance\"}},\"yaxis\":{\"title\":{\"text\":\"Hyperparameter\"}},\"template\":{\"data\":{\"histogram2dcontour\":[{\"type\":\"histogram2dcontour\",\"colorbar\":{\"outlinewidth\":0,\"ticks\":\"\"},\"colorscale\":[[0.0,\"#0d0887\"],[0.1111111111111111,\"#46039f\"],[0.2222222222222222,\"#7201a8\"],[0.3333333333333333,\"#9c179e\"],[0.4444444444444444,\"#bd3786\"],[0.5555555555555556,\"#d8576b\"],[0.6666666666666666,\"#ed7953\"],[0.7777777777777778,\"#fb9f3a\"],[0.8888888888888888,\"#fdca26\"],[1.0,\"#f0f921\"]]}],\"choropleth\":[{\"type\":\"choropleth\",\"colorbar\":{\"outlinewidth\":0,\"ticks\":\"\"}}],\"histogram2d\":[{\"type\":\"histogram2d\",\"colorbar\":{\"outlinewidth\":0,\"ticks\":\"\"},\"colorscale\":[[0.0,\"#0d0887\"],[0.1111111111111111,\"#46039f\"],[0.2222222222222222,\"#7201a8\"],[0.3333333333333333,\"#9c179e\"],[0.4444444444444444,\"#bd3786\"],[0.5555555555555556,\"#d8576b\"],[0.6666666666666666,\"#ed7953\"],[0.7777777777777778,\"#fb9f3a\"],[0.8888888888888888,\"#fdca26\"],[1.0,\"#f0f921\"]]}],\"heatmap\":[{\"type\":\"heatmap\",\"colorbar\":{\"outlinewidth\":0,\"ticks\":\"\"},\"colorscale\":[[0.0,\"#0d0887\"],[0.1111111111111111,\"#46039f\"],[0.2222222222222222,\"#7201a8\"],[0.3333333333333333,\"#9c179e\"],[0.4444444444444444,\"#bd3786\"],[0.5555555555555556,\"#d8576b\"],[0.6666666666666666,\"#ed7953\"],[0.7777777777777778,\"#fb9f3a\"],[0.8888888888888888,\"#fdca26\"],[1.0,\"#f0f921\"]]}],\"heatmapgl\":[{\"type\":\"heatmapgl\",\"colorbar\":{\"outlinewidth\":0,\"ticks\":\"\"},\"colorscale\":[[0.0,\"#0d0887\"],[0.1111111111111111,\"#46039f\"],[0.2222222222222222,\"#7201a8\"],[0.3333333333333333,\"#9c179e\"],[0.4444444444444444,\"#bd3786\"],[0.5555555555555556,\"#d8576b\"],[0.6666666666666666,\"#ed7953\"],[0.7777777777777778,\"#fb9f3a\"],[0.8888888888888888,\"#fdca26\"],[1.0,\"#f0f921\"]]}],\"contourcarpet\":[{\"type\":\"contourcarpet\",\"colorbar\":{\"outlinewidth\":0,\"ticks\":\"\"}}],\"contour\":[{\"type\":\"contour\",\"colorbar\":{\"outlinewidth\":0,\"ticks\":\"\"},\"colorscale\":[[0.0,\"#0d0887\"],[0.1111111111111111,\"#46039f\"],[0.2222222222222222,\"#7201a8\"],[0.3333333333333333,\"#9c179e\"],[0.4444444444444444,\"#bd3786\"],[0.5555555555555556,\"#d8576b\"],[0.6666666666666666,\"#ed7953\"],[0.7777777777777778,\"#fb9f3a\"],[0.8888888888888888,\"#fdca26\"],[1.0,\"#f0f921\"]]}],\"surface\":[{\"type\":\"surface\",\"colorbar\":{\"outlinewidth\":0,\"ticks\":\"\"},\"colorscale\":[[0.0,\"#0d0887\"],[0.1111111111111111,\"#46039f\"],[0.2222222222222222,\"#7201a8\"],[0.3333333333333333,\"#9c179e\"],[0.4444444444444444,\"#bd3786\"],[0.5555555555555556,\"#d8576b\"],[0.6666666666666666,\"#ed7953\"],[0.7777777777777778,\"#fb9f3a\"],[0.8888888888888888,\"#fdca26\"],[1.0,\"#f0f921\"]]}],\"mesh3d\":[{\"type\":\"mesh3d\",\"colorbar\":{\"outlinewidth\":0,\"ticks\":\"\"}}],\"scatter\":[{\"fillpattern\":{\"fillmode\":\"overlay\",\"size\":10,\"solidity\":0.2},\"type\":\"scatter\"}],\"parcoords\":[{\"type\":\"parcoords\",\"line\":{\"colorbar\":{\"outlinewidth\":0,\"ticks\":\"\"}}}],\"scatterpolargl\":[{\"type\":\"scatterpolargl\",\"marker\":{\"colorbar\":{\"outlinewidth\":0,\"ticks\":\"\"}}}],\"bar\":[{\"error_x\":{\"color\":\"#2a3f5f\"},\"error_y\":{\"color\":\"#2a3f5f\"},\"marker\":{\"line\":{\"color\":\"#E5ECF6\",\"width\":0.5},\"pattern\":{\"fillmode\":\"overlay\",\"size\":10,\"solidity\":0.2}},\"type\":\"bar\"}],\"scattergeo\":[{\"type\":\"scattergeo\",\"marker\":{\"colorbar\":{\"outlinewidth\":0,\"ticks\":\"\"}}}],\"scatterpolar\":[{\"type\":\"scatterpolar\",\"marker\":{\"colorbar\":{\"outlinewidth\":0,\"ticks\":\"\"}}}],\"histogram\":[{\"marker\":{\"pattern\":{\"fillmode\":\"overlay\",\"size\":10,\"solidity\":0.2}},\"type\":\"histogram\"}],\"scattergl\":[{\"type\":\"scattergl\",\"marker\":{\"colorbar\":{\"outlinewidth\":0,\"ticks\":\"\"}}}],\"scatter3d\":[{\"type\":\"scatter3d\",\"line\":{\"colorbar\":{\"outlinewidth\":0,\"ticks\":\"\"}},\"marker\":{\"colorbar\":{\"outlinewidth\":0,\"ticks\":\"\"}}}],\"scattermapbox\":[{\"type\":\"scattermapbox\",\"marker\":{\"colorbar\":{\"outlinewidth\":0,\"ticks\":\"\"}}}],\"scatterternary\":[{\"type\":\"scatterternary\",\"marker\":{\"colorbar\":{\"outlinewidth\":0,\"ticks\":\"\"}}}],\"scattercarpet\":[{\"type\":\"scattercarpet\",\"marker\":{\"colorbar\":{\"outlinewidth\":0,\"ticks\":\"\"}}}],\"carpet\":[{\"aaxis\":{\"endlinecolor\":\"#2a3f5f\",\"gridcolor\":\"white\",\"linecolor\":\"white\",\"minorgridcolor\":\"white\",\"startlinecolor\":\"#2a3f5f\"},\"baxis\":{\"endlinecolor\":\"#2a3f5f\",\"gridcolor\":\"white\",\"linecolor\":\"white\",\"minorgridcolor\":\"white\",\"startlinecolor\":\"#2a3f5f\"},\"type\":\"carpet\"}],\"table\":[{\"cells\":{\"fill\":{\"color\":\"#EBF0F8\"},\"line\":{\"color\":\"white\"}},\"header\":{\"fill\":{\"color\":\"#C8D4E3\"},\"line\":{\"color\":\"white\"}},\"type\":\"table\"}],\"barpolar\":[{\"marker\":{\"line\":{\"color\":\"#E5ECF6\",\"width\":0.5},\"pattern\":{\"fillmode\":\"overlay\",\"size\":10,\"solidity\":0.2}},\"type\":\"barpolar\"}],\"pie\":[{\"automargin\":true,\"type\":\"pie\"}]},\"layout\":{\"autotypenumbers\":\"strict\",\"colorway\":[\"#636efa\",\"#EF553B\",\"#00cc96\",\"#ab63fa\",\"#FFA15A\",\"#19d3f3\",\"#FF6692\",\"#B6E880\",\"#FF97FF\",\"#FECB52\"],\"font\":{\"color\":\"#2a3f5f\"},\"hovermode\":\"closest\",\"hoverlabel\":{\"align\":\"left\"},\"paper_bgcolor\":\"white\",\"plot_bgcolor\":\"#E5ECF6\",\"polar\":{\"bgcolor\":\"#E5ECF6\",\"angularaxis\":{\"gridcolor\":\"white\",\"linecolor\":\"white\",\"ticks\":\"\"},\"radialaxis\":{\"gridcolor\":\"white\",\"linecolor\":\"white\",\"ticks\":\"\"}},\"ternary\":{\"bgcolor\":\"#E5ECF6\",\"aaxis\":{\"gridcolor\":\"white\",\"linecolor\":\"white\",\"ticks\":\"\"},\"baxis\":{\"gridcolor\":\"white\",\"linecolor\":\"white\",\"ticks\":\"\"},\"caxis\":{\"gridcolor\":\"white\",\"linecolor\":\"white\",\"ticks\":\"\"}},\"coloraxis\":{\"colorbar\":{\"outlinewidth\":0,\"ticks\":\"\"}},\"colorscale\":{\"sequential\":[[0.0,\"#0d0887\"],[0.1111111111111111,\"#46039f\"],[0.2222222222222222,\"#7201a8\"],[0.3333333333333333,\"#9c179e\"],[0.4444444444444444,\"#bd3786\"],[0.5555555555555556,\"#d8576b\"],[0.6666666666666666,\"#ed7953\"],[0.7777777777777778,\"#fb9f3a\"],[0.8888888888888888,\"#fdca26\"],[1.0,\"#f0f921\"]],\"sequentialminus\":[[0.0,\"#0d0887\"],[0.1111111111111111,\"#46039f\"],[0.2222222222222222,\"#7201a8\"],[0.3333333333333333,\"#9c179e\"],[0.4444444444444444,\"#bd3786\"],[0.5555555555555556,\"#d8576b\"],[0.6666666666666666,\"#ed7953\"],[0.7777777777777778,\"#fb9f3a\"],[0.8888888888888888,\"#fdca26\"],[1.0,\"#f0f921\"]],\"diverging\":[[0,\"#8e0152\"],[0.1,\"#c51b7d\"],[0.2,\"#de77ae\"],[0.3,\"#f1b6da\"],[0.4,\"#fde0ef\"],[0.5,\"#f7f7f7\"],[0.6,\"#e6f5d0\"],[0.7,\"#b8e186\"],[0.8,\"#7fbc41\"],[0.9,\"#4d9221\"],[1,\"#276419\"]]},\"xaxis\":{\"gridcolor\":\"white\",\"linecolor\":\"white\",\"ticks\":\"\",\"title\":{\"standoff\":15},\"zerolinecolor\":\"white\",\"automargin\":true,\"zerolinewidth\":2},\"yaxis\":{\"gridcolor\":\"white\",\"linecolor\":\"white\",\"ticks\":\"\",\"title\":{\"standoff\":15},\"zerolinecolor\":\"white\",\"automargin\":true,\"zerolinewidth\":2},\"scene\":{\"xaxis\":{\"backgroundcolor\":\"#E5ECF6\",\"gridcolor\":\"white\",\"linecolor\":\"white\",\"showbackground\":true,\"ticks\":\"\",\"zerolinecolor\":\"white\",\"gridwidth\":2},\"yaxis\":{\"backgroundcolor\":\"#E5ECF6\",\"gridcolor\":\"white\",\"linecolor\":\"white\",\"showbackground\":true,\"ticks\":\"\",\"zerolinecolor\":\"white\",\"gridwidth\":2},\"zaxis\":{\"backgroundcolor\":\"#E5ECF6\",\"gridcolor\":\"white\",\"linecolor\":\"white\",\"showbackground\":true,\"ticks\":\"\",\"zerolinecolor\":\"white\",\"gridwidth\":2}},\"shapedefaults\":{\"line\":{\"color\":\"#2a3f5f\"}},\"annotationdefaults\":{\"arrowcolor\":\"#2a3f5f\",\"arrowhead\":0,\"arrowwidth\":1},\"geo\":{\"bgcolor\":\"white\",\"landcolor\":\"#E5ECF6\",\"subunitcolor\":\"white\",\"showland\":true,\"showlakes\":true,\"lakecolor\":\"white\"},\"title\":{\"x\":0.05},\"mapbox\":{\"style\":\"light\"}}}},                        {\"responsive\": true}                    ).then(function(){\n",
       "                            \n",
       "var gd = document.getElementById('1c4e1f30-35ac-47ab-9236-10e546a11cf8');\n",
       "var x = new MutationObserver(function (mutations, observer) {{\n",
       "        var display = window.getComputedStyle(gd).display;\n",
       "        if (!display || display === 'none') {{\n",
       "            console.log([gd, 'removed!']);\n",
       "            Plotly.purge(gd);\n",
       "            observer.disconnect();\n",
       "        }}\n",
       "}});\n",
       "\n",
       "// Listen for the removal of the full notebook cells\n",
       "var notebookContainer = gd.closest('#notebook-container');\n",
       "if (notebookContainer) {{\n",
       "    x.observe(notebookContainer, {childList: true});\n",
       "}}\n",
       "\n",
       "// Listen for the clearing of the current output cell\n",
       "var outputEl = gd.closest('.output');\n",
       "if (outputEl) {{\n",
       "    x.observe(outputEl, {childList: true});\n",
       "}}\n",
       "\n",
       "                        })                };                });            </script>        </div>"
      ]
     },
     "metadata": {},
     "output_type": "display_data"
    }
   ],
   "source": [
    "if config['tune_parameters']:\n",
    "    fig = optuna.visualization.plot_param_importances(study)\n",
    "    fig.show()"
   ]
  },
  {
   "cell_type": "code",
   "execution_count": 20,
   "id": "5a577e62",
   "metadata": {
    "execution": {
     "iopub.execute_input": "2023-12-24T16:46:55.404247Z",
     "iopub.status.busy": "2023-12-24T16:46:55.403070Z",
     "iopub.status.idle": "2023-12-24T16:46:55.703659Z",
     "shell.execute_reply": "2023-12-24T16:46:55.702920Z"
    },
    "papermill": {
     "duration": 0.378577,
     "end_time": "2023-12-24T16:46:55.705679",
     "exception": false,
     "start_time": "2023-12-24T16:46:55.327102",
     "status": "completed"
    },
    "tags": []
   },
   "outputs": [
    {
     "data": {
      "text/html": [
       "<div>                            <div id=\"50d9ce5f-3fb3-4409-b0e4-faa596ebdd65\" class=\"plotly-graph-div\" style=\"height:525px; width:100%;\"></div>            <script type=\"text/javascript\">                require([\"plotly\"], function(Plotly) {                    window.PLOTLYENV=window.PLOTLYENV || {};                                    if (document.getElementById(\"50d9ce5f-3fb3-4409-b0e4-faa596ebdd65\")) {                    Plotly.newPlot(                        \"50d9ce5f-3fb3-4409-b0e4-faa596ebdd65\",                        [{\"marker\":{\"color\":[0,1,2,3,4,5,6,7,8,9,10,11,12,13,14,15,16,17,18,19,20,21,22,23,24,25,26,27,28,29,30,31,32,33,34,35,36,37,38,39,40,41,42,43,44,45,46,47,48,49,50,51,52,53,54,55,56,57,58,59,60,61,62,63,64,65,66,67,68,69,70,71,72,73,74,75,76,77,78,79,80,81,82,83,84,85,86,87,88,89,90,91,92,93,94,95,96,97,98,99,100,101,102,103,104,105,106,107,108,109,110,111,112,113,114,115,116,117,118,119,120,121,122,123,124,125,126,127,128,129,130,131,132,133,134,135,136,137,138,139,140,141,142,143,144,145,146,147,148,149,150,151,152,153,154,155,156,157,158,159,160,161,162,163,164,165,166,167,168,169,170,171,172,173,174,175,176,177,178,179,180,181,182,183,184,185,186,187,188,189,190,191,192,193,194,195,196,197,198,199],\"colorbar\":{\"title\":{\"text\":\"Trial\"},\"x\":1.0,\"xpad\":40},\"colorscale\":[[0.0,\"rgb(247,251,255)\"],[0.125,\"rgb(222,235,247)\"],[0.25,\"rgb(198,219,239)\"],[0.375,\"rgb(158,202,225)\"],[0.5,\"rgb(107,174,214)\"],[0.625,\"rgb(66,146,198)\"],[0.75,\"rgb(33,113,181)\"],[0.875,\"rgb(8,81,156)\"],[1.0,\"rgb(8,48,107)\"]],\"line\":{\"color\":\"Grey\",\"width\":0.5},\"showscale\":true},\"mode\":\"markers\",\"name\":\"Feasible Trial\",\"showlegend\":false,\"x\":[0.6657383708030581,0.05683460467977674,0.7264243100310582,0.2597174672649843,0.46177566403657005,0.1011062187107773,0.20918495492726275,0.6638501612469032,0.7641212626765902,0.8343070605632159,0.9233115193441881,0.022612383327993202,0.45707155412663975,0.33853182749682365,0.03278288003783543,0.5425904030568243,0.9579593004404595,0.14956842543383186,0.3405128127531792,0.16667627950172836,0.024803258647158682,0.0592173831990859,0.011257369789228668,0.10600160322145331,0.08918743597283266,0.01150544816943342,0.21223391792205393,0.12958169088035038,0.07034045295395212,0.2391383134868509,0.1622053344535132,0.1460923884315612,0.013668838257643642,0.06631518567329983,0.07519058629664968,0.16484494441465497,0.07017570116800703,0.077726831624296,0.280096300126663,0.10516855494631132,0.04886228868082222,0.05299498810542848,0.04572772231461012,0.11457650969540616,0.21156708874107644,0.19316328232355195,0.11967960520382749,0.014857900606149867,0.087737510423091,0.203676613730381,0.13096705551430043,0.05914074644246667,0.04527628985104436,0.04454805808737665,0.09274894198061139,0.17150294657654924,0.011941532259904263,0.1327965948642185,0.09054945944383416,0.0388503521671742,0.23304405900842304,0.06027338057347558,0.04128183160897583,0.10952939191125377,0.13229341447981977,0.18123110994469502,0.1451153155979102,0.08115539811549229,0.14536261967168676,0.1075135961763489,0.1810278531908347,0.030993014182191653,0.023156964136260977,0.028484411067979706,0.03164957730960425,0.07352555651824916,0.03350202034244471,0.1140773110253444,0.06948398870953107,0.1469072816156754,0.0705273097838608,0.012476838618519595,0.09082609279377774,0.09344972650787882,0.12663470696559534,0.06895587602331665,0.1582500020815481,0.06399057186892056,0.1020319258113533,0.07600107808263946,0.129628879279441,0.12207627792921233,0.2036974993535588,0.08893419041406846,0.031241224912085433,0.05444401467322492,0.12968036033135408,0.1673661789012389,0.1324786809085408,0.0968876280667444,0.18821303041465426,0.010391007348008657,0.012352491743326846,0.05593476590827211,0.041888550116384204,0.08109144464592549,0.024313433734306545,0.11796765543758365,0.15276049764739047,0.04856781392623503,0.050788536307244184,0.06514290628162618,0.03556333076452399,0.11119053905266993,0.09963055084251896,0.07810140633314452,0.024541328189331617,0.010139663585986933,0.137724905518081,0.05443691647945309,0.08806206219916636,0.06500718229219205,0.04390698941850159,0.0681776051925375,0.12230551839060533,0.030937431071376482,0.03388255750667142,0.055754583448239914,0.09717927167138267,0.028323337479736935,0.012681306384635927,0.034429924089572315,0.07003582678588734,0.04601071979347139,0.07907817722169606,0.04814985632209217,0.09864255967468684,0.011357026210612825,0.061282879026198105,0.22422520591488512,0.1620724273150828,0.031141549838146734,0.0479831166573442,0.07819329037511255,0.0312699448758294,0.10672146634048783,0.05736329647546698,0.01041915481446435,0.0849481238881769,0.28050428368547875,0.042327769920273664,0.030160553846781898,0.027932196970050026,0.06531868549148298,0.040927430806599906,0.04023453049060051,0.023346056965113982,0.059692363258928974,0.4061863107579267,0.04207776805233058,0.0764069129442927,0.010058558546666705,0.047115747901485976,0.04248030996572297,0.027088111204116208,0.10563850382657564,0.06765089921414758,0.09039124998063125,0.031759582590353067,0.12319594705750919,0.1172285922871523,0.15198171801618357,0.05619730189545967,0.18657112396459452,0.13488877359847026,0.1849259135491965,0.14160431292496833,0.19704953247978507,0.15868923338511037,0.14253084442537273,0.21324515871868582,0.16792424508257342,0.12158429334003887,0.11186637109515925,0.13256557704394795,0.5144583598524106,0.08818294643512545,0.12285306566030946,0.1807927278350927,0.2406520578248747,0.07328207860520299,0.011180121580972913,0.014162785049807133,0.011636504280093909,0.023809710068017603,0.6824584176757177,0.012163697263711859,0.06507436816538156,0.09886049369635685,0.14651451733870155],\"y\":[0.03927076501985689,0.04123409814065959,0.04132142933046776,0.02527044166939927,0.031370930034855346,0.04045678565356313,0.03239623562380867,0.028567758619642874,0.03857706063807867,0.033307085777438024,0.04055393121288354,0.041413694271384235,0.04125678960056402,0.04119794513061587,0.04055393121288354,0.03958150784542391,0.040745004007724475,0.03730619846127727,0.04121992688939942,0.04121399879768339,0.04138578442088445,0.04135786697999834,0.04124847812754328,0.041308650915097556,0.04071552674244959,0.03870575563813947,0.04116060802030631,0.04115080124118051,0.04042116776575518,0.03943025421721911,0.04136559778846562,0.04135341142322841,0.041265188363027505,0.04138578442088445,0.04128762934018344,0.04090250072867772,0.04139033865267661,0.040871664784251374,0.040370076875433106,0.04124408329386393,0.04138578442088445,0.04125875551062098,0.040943450862875624,0.04104490396643282,0.04141416487533607,0.04133600666739593,0.041206962509564356,0.040605458550418944,0.04126829662622566,0.04111921005331539,0.0409222926610079,0.04136479700270876,0.04139033865267661,0.041265188363027505,0.04114960196014184,0.041321315474673034,0.04048948883302415,0.04122725540739176,0.04109485250361358,0.04096540226011404,0.04125875551062098,0.04135786697999834,0.041288915910664775,0.04122725540739176,0.04141416487533607,0.04132142933046776,0.04113862626152272,0.040777126522632094,0.041349585868523005,0.04135194647866847,0.041230686262008515,0.04140776238447491,0.04141416487533607,0.04138159452763567,0.04137480113187899,0.0410974370301556,0.04087937661675286,0.041249165057505296,0.04141416487533607,0.04136559778846562,0.040831705195468235,0.041186942865644637,0.0413993104893072,0.04124408329386393,0.04116197428984401,0.04141416487533607,0.041325266270752684,0.04108409313100454,0.04064550163345164,0.04128210353894228,0.04140647201880041,0.04123102782939294,0.04134550224068257,0.0413750288434686,0.04136559778846562,0.04123162367471901,0.041391917453031266,0.0409222926610079,0.04119794513061587,0.04132142933046776,0.04133600666739593,0.04140647201880041,0.04139001985645116,0.041288915910664775,0.0412489904786199,0.04135786697999834,0.04129978913906861,0.04107929980204326,0.04131166429846661,0.041412419086482424,0.04132142933046776,0.04139146202985205,0.04125875551062098,0.04128868819907516,0.04089374521805718,0.041327402964501936,0.04122725540739176,0.041256303815839515,0.041385211346717264,0.041118561075284984,0.04104490396643282,0.04141416487533607,0.04125681996210927,0.0413750288434686,0.04126852433781527,0.041397147229205955,0.04140203923318936,0.04133600666739593,0.041206962509564356,0.04123102782939294,0.040951872396498,0.04135786697999834,0.04128762934018344,0.04140203923318936,0.0413945778834366,0.041267252948106646,0.04121731200131211,0.04139669180602674,0.04126265317399654,0.04119845748169249,0.04130819169672521,0.04141416487533607,0.041354838415856646,0.04139001985645116,0.04122950216174256,0.04124847812754328,0.04130609295490766,0.041314104607668684,0.04138475592353805,0.04110756640070005,0.041349585868523005,0.04141601313440505,0.04126990199293231,0.04126291124713145,0.04140203923318936,0.04096689756621909,0.04127397044000002,0.04128461216162113,0.04116612243596804,0.04140158381001014,0.04126612198054493,0.04138578442088445,0.041206962509564356,0.04134550224068257,0.041325266270752684,0.04129759551742206,0.041265188363027505,0.041187481783073375,0.04092623966189433,0.04141416487533607,0.04129145489488888,0.041398171931359154,0.04113880463560124,0.04141601313440505,0.04129759551742206,0.04132414668877045,0.041413694271384235,0.04131166429846661,0.04137375365856679,0.0413945778834366,0.04123409814065959,0.04123205253154618,0.04140647201880041,0.041321315474673034,0.041391917453031266,0.04110864803075069,0.04127844497273593,0.04125875551062098,0.04124847812754328,0.041391917453031266,0.04128762934018344,0.0414064188860962,0.04141740597029482,0.04123409814065959,0.041227790529627314,0.04140008470871187,0.04132414668877045,0.04137597005137231,0.041217099470495136,0.04135495606684448],\"type\":\"scatter\",\"xaxis\":\"x\",\"yaxis\":\"y\"},{\"marker\":{\"color\":[0,1,2,3,4,5,6,7,8,9,10,11,12,13,14,15,16,17,18,19,20,21,22,23,24,25,26,27,28,29,30,31,32,33,34,35,36,37,38,39,40,41,42,43,44,45,46,47,48,49,50,51,52,53,54,55,56,57,58,59,60,61,62,63,64,65,66,67,68,69,70,71,72,73,74,75,76,77,78,79,80,81,82,83,84,85,86,87,88,89,90,91,92,93,94,95,96,97,98,99,100,101,102,103,104,105,106,107,108,109,110,111,112,113,114,115,116,117,118,119,120,121,122,123,124,125,126,127,128,129,130,131,132,133,134,135,136,137,138,139,140,141,142,143,144,145,146,147,148,149,150,151,152,153,154,155,156,157,158,159,160,161,162,163,164,165,166,167,168,169,170,171,172,173,174,175,176,177,178,179,180,181,182,183,184,185,186,187,188,189,190,191,192,193,194,195,196,197,198,199],\"colorbar\":{\"title\":{\"text\":\"Trial\"},\"x\":1.0,\"xpad\":40},\"colorscale\":[[0.0,\"rgb(247,251,255)\"],[0.125,\"rgb(222,235,247)\"],[0.25,\"rgb(198,219,239)\"],[0.375,\"rgb(158,202,225)\"],[0.5,\"rgb(107,174,214)\"],[0.625,\"rgb(66,146,198)\"],[0.75,\"rgb(33,113,181)\"],[0.875,\"rgb(8,81,156)\"],[1.0,\"rgb(8,48,107)\"]],\"line\":{\"color\":\"Grey\",\"width\":0.5},\"showscale\":false},\"mode\":\"markers\",\"name\":\"Feasible Trial\",\"showlegend\":false,\"x\":[420,118,106,6,10,288,11,8,23,1276,50,100,76,152,50,28,256,622,175,74,137,138,183,103,267,468,168,70,40,413,123,121,91,137,108,231,128,208,324,93,137,147,205,68,130,89,171,51,117,65,229,140,128,91,172,110,308,82,195,60,147,138,114,82,130,106,164,246,98,78,188,126,130,122,101,162,210,75,130,123,56,157,132,93,191,130,109,69,277,84,131,154,139,101,123,176,125,229,152,106,89,131,128,114,183,138,92,159,77,100,106,125,147,114,211,96,82,185,127,166,68,130,145,101,117,134,135,89,171,154,201,138,108,135,99,116,170,134,80,152,112,130,97,128,148,183,111,87,127,161,98,129,144,119,135,220,187,105,156,135,119,137,171,139,109,120,91,150,203,130,108,132,165,129,120,87,100,77,101,99,118,148,131,110,125,161,94,147,183,125,108,136,133,118,155,132,87,102,170,142],\"y\":[0.03927076501985689,0.04123409814065959,0.04132142933046776,0.02527044166939927,0.031370930034855346,0.04045678565356313,0.03239623562380867,0.028567758619642874,0.03857706063807867,0.033307085777438024,0.04055393121288354,0.041413694271384235,0.04125678960056402,0.04119794513061587,0.04055393121288354,0.03958150784542391,0.040745004007724475,0.03730619846127727,0.04121992688939942,0.04121399879768339,0.04138578442088445,0.04135786697999834,0.04124847812754328,0.041308650915097556,0.04071552674244959,0.03870575563813947,0.04116060802030631,0.04115080124118051,0.04042116776575518,0.03943025421721911,0.04136559778846562,0.04135341142322841,0.041265188363027505,0.04138578442088445,0.04128762934018344,0.04090250072867772,0.04139033865267661,0.040871664784251374,0.040370076875433106,0.04124408329386393,0.04138578442088445,0.04125875551062098,0.040943450862875624,0.04104490396643282,0.04141416487533607,0.04133600666739593,0.041206962509564356,0.040605458550418944,0.04126829662622566,0.04111921005331539,0.0409222926610079,0.04136479700270876,0.04139033865267661,0.041265188363027505,0.04114960196014184,0.041321315474673034,0.04048948883302415,0.04122725540739176,0.04109485250361358,0.04096540226011404,0.04125875551062098,0.04135786697999834,0.041288915910664775,0.04122725540739176,0.04141416487533607,0.04132142933046776,0.04113862626152272,0.040777126522632094,0.041349585868523005,0.04135194647866847,0.041230686262008515,0.04140776238447491,0.04141416487533607,0.04138159452763567,0.04137480113187899,0.0410974370301556,0.04087937661675286,0.041249165057505296,0.04141416487533607,0.04136559778846562,0.040831705195468235,0.041186942865644637,0.0413993104893072,0.04124408329386393,0.04116197428984401,0.04141416487533607,0.041325266270752684,0.04108409313100454,0.04064550163345164,0.04128210353894228,0.04140647201880041,0.04123102782939294,0.04134550224068257,0.0413750288434686,0.04136559778846562,0.04123162367471901,0.041391917453031266,0.0409222926610079,0.04119794513061587,0.04132142933046776,0.04133600666739593,0.04140647201880041,0.04139001985645116,0.041288915910664775,0.0412489904786199,0.04135786697999834,0.04129978913906861,0.04107929980204326,0.04131166429846661,0.041412419086482424,0.04132142933046776,0.04139146202985205,0.04125875551062098,0.04128868819907516,0.04089374521805718,0.041327402964501936,0.04122725540739176,0.041256303815839515,0.041385211346717264,0.041118561075284984,0.04104490396643282,0.04141416487533607,0.04125681996210927,0.0413750288434686,0.04126852433781527,0.041397147229205955,0.04140203923318936,0.04133600666739593,0.041206962509564356,0.04123102782939294,0.040951872396498,0.04135786697999834,0.04128762934018344,0.04140203923318936,0.0413945778834366,0.041267252948106646,0.04121731200131211,0.04139669180602674,0.04126265317399654,0.04119845748169249,0.04130819169672521,0.04141416487533607,0.041354838415856646,0.04139001985645116,0.04122950216174256,0.04124847812754328,0.04130609295490766,0.041314104607668684,0.04138475592353805,0.04110756640070005,0.041349585868523005,0.04141601313440505,0.04126990199293231,0.04126291124713145,0.04140203923318936,0.04096689756621909,0.04127397044000002,0.04128461216162113,0.04116612243596804,0.04140158381001014,0.04126612198054493,0.04138578442088445,0.041206962509564356,0.04134550224068257,0.041325266270752684,0.04129759551742206,0.041265188363027505,0.041187481783073375,0.04092623966189433,0.04141416487533607,0.04129145489488888,0.041398171931359154,0.04113880463560124,0.04141601313440505,0.04129759551742206,0.04132414668877045,0.041413694271384235,0.04131166429846661,0.04137375365856679,0.0413945778834366,0.04123409814065959,0.04123205253154618,0.04140647201880041,0.041321315474673034,0.041391917453031266,0.04110864803075069,0.04127844497273593,0.04125875551062098,0.04124847812754328,0.041391917453031266,0.04128762934018344,0.0414064188860962,0.04141740597029482,0.04123409814065959,0.041227790529627314,0.04140008470871187,0.04132414668877045,0.04137597005137231,0.041217099470495136,0.04135495606684448],\"type\":\"scatter\",\"xaxis\":\"x2\",\"yaxis\":\"y2\"}],                        {\"template\":{\"data\":{\"histogram2dcontour\":[{\"type\":\"histogram2dcontour\",\"colorbar\":{\"outlinewidth\":0,\"ticks\":\"\"},\"colorscale\":[[0.0,\"#0d0887\"],[0.1111111111111111,\"#46039f\"],[0.2222222222222222,\"#7201a8\"],[0.3333333333333333,\"#9c179e\"],[0.4444444444444444,\"#bd3786\"],[0.5555555555555556,\"#d8576b\"],[0.6666666666666666,\"#ed7953\"],[0.7777777777777778,\"#fb9f3a\"],[0.8888888888888888,\"#fdca26\"],[1.0,\"#f0f921\"]]}],\"choropleth\":[{\"type\":\"choropleth\",\"colorbar\":{\"outlinewidth\":0,\"ticks\":\"\"}}],\"histogram2d\":[{\"type\":\"histogram2d\",\"colorbar\":{\"outlinewidth\":0,\"ticks\":\"\"},\"colorscale\":[[0.0,\"#0d0887\"],[0.1111111111111111,\"#46039f\"],[0.2222222222222222,\"#7201a8\"],[0.3333333333333333,\"#9c179e\"],[0.4444444444444444,\"#bd3786\"],[0.5555555555555556,\"#d8576b\"],[0.6666666666666666,\"#ed7953\"],[0.7777777777777778,\"#fb9f3a\"],[0.8888888888888888,\"#fdca26\"],[1.0,\"#f0f921\"]]}],\"heatmap\":[{\"type\":\"heatmap\",\"colorbar\":{\"outlinewidth\":0,\"ticks\":\"\"},\"colorscale\":[[0.0,\"#0d0887\"],[0.1111111111111111,\"#46039f\"],[0.2222222222222222,\"#7201a8\"],[0.3333333333333333,\"#9c179e\"],[0.4444444444444444,\"#bd3786\"],[0.5555555555555556,\"#d8576b\"],[0.6666666666666666,\"#ed7953\"],[0.7777777777777778,\"#fb9f3a\"],[0.8888888888888888,\"#fdca26\"],[1.0,\"#f0f921\"]]}],\"heatmapgl\":[{\"type\":\"heatmapgl\",\"colorbar\":{\"outlinewidth\":0,\"ticks\":\"\"},\"colorscale\":[[0.0,\"#0d0887\"],[0.1111111111111111,\"#46039f\"],[0.2222222222222222,\"#7201a8\"],[0.3333333333333333,\"#9c179e\"],[0.4444444444444444,\"#bd3786\"],[0.5555555555555556,\"#d8576b\"],[0.6666666666666666,\"#ed7953\"],[0.7777777777777778,\"#fb9f3a\"],[0.8888888888888888,\"#fdca26\"],[1.0,\"#f0f921\"]]}],\"contourcarpet\":[{\"type\":\"contourcarpet\",\"colorbar\":{\"outlinewidth\":0,\"ticks\":\"\"}}],\"contour\":[{\"type\":\"contour\",\"colorbar\":{\"outlinewidth\":0,\"ticks\":\"\"},\"colorscale\":[[0.0,\"#0d0887\"],[0.1111111111111111,\"#46039f\"],[0.2222222222222222,\"#7201a8\"],[0.3333333333333333,\"#9c179e\"],[0.4444444444444444,\"#bd3786\"],[0.5555555555555556,\"#d8576b\"],[0.6666666666666666,\"#ed7953\"],[0.7777777777777778,\"#fb9f3a\"],[0.8888888888888888,\"#fdca26\"],[1.0,\"#f0f921\"]]}],\"surface\":[{\"type\":\"surface\",\"colorbar\":{\"outlinewidth\":0,\"ticks\":\"\"},\"colorscale\":[[0.0,\"#0d0887\"],[0.1111111111111111,\"#46039f\"],[0.2222222222222222,\"#7201a8\"],[0.3333333333333333,\"#9c179e\"],[0.4444444444444444,\"#bd3786\"],[0.5555555555555556,\"#d8576b\"],[0.6666666666666666,\"#ed7953\"],[0.7777777777777778,\"#fb9f3a\"],[0.8888888888888888,\"#fdca26\"],[1.0,\"#f0f921\"]]}],\"mesh3d\":[{\"type\":\"mesh3d\",\"colorbar\":{\"outlinewidth\":0,\"ticks\":\"\"}}],\"scatter\":[{\"fillpattern\":{\"fillmode\":\"overlay\",\"size\":10,\"solidity\":0.2},\"type\":\"scatter\"}],\"parcoords\":[{\"type\":\"parcoords\",\"line\":{\"colorbar\":{\"outlinewidth\":0,\"ticks\":\"\"}}}],\"scatterpolargl\":[{\"type\":\"scatterpolargl\",\"marker\":{\"colorbar\":{\"outlinewidth\":0,\"ticks\":\"\"}}}],\"bar\":[{\"error_x\":{\"color\":\"#2a3f5f\"},\"error_y\":{\"color\":\"#2a3f5f\"},\"marker\":{\"line\":{\"color\":\"#E5ECF6\",\"width\":0.5},\"pattern\":{\"fillmode\":\"overlay\",\"size\":10,\"solidity\":0.2}},\"type\":\"bar\"}],\"scattergeo\":[{\"type\":\"scattergeo\",\"marker\":{\"colorbar\":{\"outlinewidth\":0,\"ticks\":\"\"}}}],\"scatterpolar\":[{\"type\":\"scatterpolar\",\"marker\":{\"colorbar\":{\"outlinewidth\":0,\"ticks\":\"\"}}}],\"histogram\":[{\"marker\":{\"pattern\":{\"fillmode\":\"overlay\",\"size\":10,\"solidity\":0.2}},\"type\":\"histogram\"}],\"scattergl\":[{\"type\":\"scattergl\",\"marker\":{\"colorbar\":{\"outlinewidth\":0,\"ticks\":\"\"}}}],\"scatter3d\":[{\"type\":\"scatter3d\",\"line\":{\"colorbar\":{\"outlinewidth\":0,\"ticks\":\"\"}},\"marker\":{\"colorbar\":{\"outlinewidth\":0,\"ticks\":\"\"}}}],\"scattermapbox\":[{\"type\":\"scattermapbox\",\"marker\":{\"colorbar\":{\"outlinewidth\":0,\"ticks\":\"\"}}}],\"scatterternary\":[{\"type\":\"scatterternary\",\"marker\":{\"colorbar\":{\"outlinewidth\":0,\"ticks\":\"\"}}}],\"scattercarpet\":[{\"type\":\"scattercarpet\",\"marker\":{\"colorbar\":{\"outlinewidth\":0,\"ticks\":\"\"}}}],\"carpet\":[{\"aaxis\":{\"endlinecolor\":\"#2a3f5f\",\"gridcolor\":\"white\",\"linecolor\":\"white\",\"minorgridcolor\":\"white\",\"startlinecolor\":\"#2a3f5f\"},\"baxis\":{\"endlinecolor\":\"#2a3f5f\",\"gridcolor\":\"white\",\"linecolor\":\"white\",\"minorgridcolor\":\"white\",\"startlinecolor\":\"#2a3f5f\"},\"type\":\"carpet\"}],\"table\":[{\"cells\":{\"fill\":{\"color\":\"#EBF0F8\"},\"line\":{\"color\":\"white\"}},\"header\":{\"fill\":{\"color\":\"#C8D4E3\"},\"line\":{\"color\":\"white\"}},\"type\":\"table\"}],\"barpolar\":[{\"marker\":{\"line\":{\"color\":\"#E5ECF6\",\"width\":0.5},\"pattern\":{\"fillmode\":\"overlay\",\"size\":10,\"solidity\":0.2}},\"type\":\"barpolar\"}],\"pie\":[{\"automargin\":true,\"type\":\"pie\"}]},\"layout\":{\"autotypenumbers\":\"strict\",\"colorway\":[\"#636efa\",\"#EF553B\",\"#00cc96\",\"#ab63fa\",\"#FFA15A\",\"#19d3f3\",\"#FF6692\",\"#B6E880\",\"#FF97FF\",\"#FECB52\"],\"font\":{\"color\":\"#2a3f5f\"},\"hovermode\":\"closest\",\"hoverlabel\":{\"align\":\"left\"},\"paper_bgcolor\":\"white\",\"plot_bgcolor\":\"#E5ECF6\",\"polar\":{\"bgcolor\":\"#E5ECF6\",\"angularaxis\":{\"gridcolor\":\"white\",\"linecolor\":\"white\",\"ticks\":\"\"},\"radialaxis\":{\"gridcolor\":\"white\",\"linecolor\":\"white\",\"ticks\":\"\"}},\"ternary\":{\"bgcolor\":\"#E5ECF6\",\"aaxis\":{\"gridcolor\":\"white\",\"linecolor\":\"white\",\"ticks\":\"\"},\"baxis\":{\"gridcolor\":\"white\",\"linecolor\":\"white\",\"ticks\":\"\"},\"caxis\":{\"gridcolor\":\"white\",\"linecolor\":\"white\",\"ticks\":\"\"}},\"coloraxis\":{\"colorbar\":{\"outlinewidth\":0,\"ticks\":\"\"}},\"colorscale\":{\"sequential\":[[0.0,\"#0d0887\"],[0.1111111111111111,\"#46039f\"],[0.2222222222222222,\"#7201a8\"],[0.3333333333333333,\"#9c179e\"],[0.4444444444444444,\"#bd3786\"],[0.5555555555555556,\"#d8576b\"],[0.6666666666666666,\"#ed7953\"],[0.7777777777777778,\"#fb9f3a\"],[0.8888888888888888,\"#fdca26\"],[1.0,\"#f0f921\"]],\"sequentialminus\":[[0.0,\"#0d0887\"],[0.1111111111111111,\"#46039f\"],[0.2222222222222222,\"#7201a8\"],[0.3333333333333333,\"#9c179e\"],[0.4444444444444444,\"#bd3786\"],[0.5555555555555556,\"#d8576b\"],[0.6666666666666666,\"#ed7953\"],[0.7777777777777778,\"#fb9f3a\"],[0.8888888888888888,\"#fdca26\"],[1.0,\"#f0f921\"]],\"diverging\":[[0,\"#8e0152\"],[0.1,\"#c51b7d\"],[0.2,\"#de77ae\"],[0.3,\"#f1b6da\"],[0.4,\"#fde0ef\"],[0.5,\"#f7f7f7\"],[0.6,\"#e6f5d0\"],[0.7,\"#b8e186\"],[0.8,\"#7fbc41\"],[0.9,\"#4d9221\"],[1,\"#276419\"]]},\"xaxis\":{\"gridcolor\":\"white\",\"linecolor\":\"white\",\"ticks\":\"\",\"title\":{\"standoff\":15},\"zerolinecolor\":\"white\",\"automargin\":true,\"zerolinewidth\":2},\"yaxis\":{\"gridcolor\":\"white\",\"linecolor\":\"white\",\"ticks\":\"\",\"title\":{\"standoff\":15},\"zerolinecolor\":\"white\",\"automargin\":true,\"zerolinewidth\":2},\"scene\":{\"xaxis\":{\"backgroundcolor\":\"#E5ECF6\",\"gridcolor\":\"white\",\"linecolor\":\"white\",\"showbackground\":true,\"ticks\":\"\",\"zerolinecolor\":\"white\",\"gridwidth\":2},\"yaxis\":{\"backgroundcolor\":\"#E5ECF6\",\"gridcolor\":\"white\",\"linecolor\":\"white\",\"showbackground\":true,\"ticks\":\"\",\"zerolinecolor\":\"white\",\"gridwidth\":2},\"zaxis\":{\"backgroundcolor\":\"#E5ECF6\",\"gridcolor\":\"white\",\"linecolor\":\"white\",\"showbackground\":true,\"ticks\":\"\",\"zerolinecolor\":\"white\",\"gridwidth\":2}},\"shapedefaults\":{\"line\":{\"color\":\"#2a3f5f\"}},\"annotationdefaults\":{\"arrowcolor\":\"#2a3f5f\",\"arrowhead\":0,\"arrowwidth\":1},\"geo\":{\"bgcolor\":\"white\",\"landcolor\":\"#E5ECF6\",\"subunitcolor\":\"white\",\"showland\":true,\"showlakes\":true,\"lakecolor\":\"white\"},\"title\":{\"x\":0.05},\"mapbox\":{\"style\":\"light\"}}},\"xaxis\":{\"anchor\":\"y\",\"domain\":[0.0,0.45],\"title\":{\"text\":\"hybrid_lambda\"}},\"yaxis\":{\"anchor\":\"x\",\"domain\":[0.0,1.0],\"title\":{\"text\":\"Objective Value\"}},\"xaxis2\":{\"anchor\":\"y2\",\"domain\":[0.55,1.0],\"title\":{\"text\":\"topK\"},\"type\":\"log\"},\"yaxis2\":{\"anchor\":\"x2\",\"domain\":[0.0,1.0],\"matches\":\"y\",\"showticklabels\":false},\"title\":{\"text\":\"Slice Plot\"}},                        {\"responsive\": true}                    ).then(function(){\n",
       "                            \n",
       "var gd = document.getElementById('50d9ce5f-3fb3-4409-b0e4-faa596ebdd65');\n",
       "var x = new MutationObserver(function (mutations, observer) {{\n",
       "        var display = window.getComputedStyle(gd).display;\n",
       "        if (!display || display === 'none') {{\n",
       "            console.log([gd, 'removed!']);\n",
       "            Plotly.purge(gd);\n",
       "            observer.disconnect();\n",
       "        }}\n",
       "}});\n",
       "\n",
       "// Listen for the removal of the full notebook cells\n",
       "var notebookContainer = gd.closest('#notebook-container');\n",
       "if (notebookContainer) {{\n",
       "    x.observe(notebookContainer, {childList: true});\n",
       "}}\n",
       "\n",
       "// Listen for the clearing of the current output cell\n",
       "var outputEl = gd.closest('.output');\n",
       "if (outputEl) {{\n",
       "    x.observe(outputEl, {childList: true});\n",
       "}}\n",
       "\n",
       "                        })                };                });            </script>        </div>"
      ]
     },
     "metadata": {},
     "output_type": "display_data"
    }
   ],
   "source": [
    "if config['tune_parameters']:\n",
    "    fig = optuna.visualization.plot_slice(study)\n",
    "    fig.show()"
   ]
  },
  {
   "cell_type": "code",
   "execution_count": 21,
   "id": "a0e3ff6d",
   "metadata": {
    "execution": {
     "iopub.execute_input": "2023-12-24T16:46:55.860965Z",
     "iopub.status.busy": "2023-12-24T16:46:55.860550Z",
     "iopub.status.idle": "2023-12-24T16:46:57.055916Z",
     "shell.execute_reply": "2023-12-24T16:46:57.054958Z"
    },
    "papermill": {
     "duration": 1.275959,
     "end_time": "2023-12-24T16:46:57.058472",
     "exception": false,
     "start_time": "2023-12-24T16:46:55.782513",
     "status": "completed"
    },
    "tags": []
   },
   "outputs": [],
   "source": [
    "if config['tune_parameters']:\n",
    "    with open('/kaggle/working/best_params_hhp.json', 'w') as params_file:\n",
    "        params = study.best_params\n",
    "        json.dump(params, params_file)\n",
    "        \n",
    "    if config['save_github']: \n",
    "        upload_file(\n",
    "            '/kaggle/working/best_params_hhp.json', \n",
    "            'tuning_results/best_params_hhp.json', \n",
    "            'HHP PyTorch tuning results (from kaggle notebook)'\n",
    "        )\n",
    "elif config['copy_prev_best_params']:\n",
    "    shutil.copyfile(\n",
    "        '/kaggle/working/Recsys_Challenge_2023/best_params_hhp.json',\n",
    "        '/kaggle/working/best_params_hhp.json'\n",
    "    )"
   ]
  },
  {
   "cell_type": "code",
   "execution_count": 22,
   "id": "38c14324",
   "metadata": {
    "execution": {
     "iopub.execute_input": "2023-12-24T16:46:57.212526Z",
     "iopub.status.busy": "2023-12-24T16:46:57.211562Z",
     "iopub.status.idle": "2023-12-24T16:46:59.187358Z",
     "shell.execute_reply": "2023-12-24T16:46:59.186349Z"
    },
    "papermill": {
     "duration": 2.0562,
     "end_time": "2023-12-24T16:46:59.190145",
     "exception": false,
     "start_time": "2023-12-24T16:46:57.133945",
     "status": "completed"
    },
    "tags": []
   },
   "outputs": [],
   "source": [
    "if config['save_github'] and config['tune_parameters']:\n",
    "    upload_file(\n",
    "        config['database_path'], \n",
    "        'tuning_results/tuning_hhp.db',\n",
    "        'HHP tuning db updated results (from kaggle notebook)'\n",
    "    )"
   ]
  }
 ],
 "metadata": {
  "kaggle": {
   "accelerator": "none",
   "dataSources": [
    {
     "databundleVersionId": 6919098,
     "sourceId": 62803,
     "sourceType": "competition"
    }
   ],
   "dockerImageVersionId": 30587,
   "isGpuEnabled": false,
   "isInternetEnabled": true,
   "language": "python",
   "sourceType": "notebook"
  },
  "kernelspec": {
   "display_name": "Python 3",
   "language": "python",
   "name": "python3"
  },
  "language_info": {
   "codemirror_mode": {
    "name": "ipython",
    "version": 3
   },
   "file_extension": ".py",
   "mimetype": "text/x-python",
   "name": "python",
   "nbconvert_exporter": "python",
   "pygments_lexer": "ipython3",
   "version": "3.10.12"
  },
  "papermill": {
   "default_parameters": {},
   "duration": 4450.206942,
   "end_time": "2023-12-24T16:47:01.860591",
   "environment_variables": {},
   "exception": null,
   "input_path": "__notebook__.ipynb",
   "output_path": "__notebook__.ipynb",
   "parameters": {},
   "start_time": "2023-12-24T15:32:51.653649",
   "version": "2.4.0"
  }
 },
 "nbformat": 4,
 "nbformat_minor": 5
}
